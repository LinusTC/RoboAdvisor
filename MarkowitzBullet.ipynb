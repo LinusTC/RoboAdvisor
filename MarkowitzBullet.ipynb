{
 "cells": [
  {
   "cell_type": "markdown",
   "metadata": {},
   "source": [
    "# Markowitz Efficient Frontier"
   ]
  },
  {
   "cell_type": "markdown",
   "metadata": {},
   "source": [
    "## 1. Imports"
   ]
  },
  {
   "cell_type": "code",
   "execution_count": 1,
   "metadata": {},
   "outputs": [],
   "source": [
    "import pandas as pd\n",
    "import numpy as np\n",
    "import yfinance as yf\n",
    "import plotly.graph_objects as go\n",
    "from tqdm import tqdm\n",
    "from fetchData import fetch_raw_data_yf, get_matrices, getNasdaqStocks"
   ]
  },
  {
   "cell_type": "markdown",
   "metadata": {},
   "source": [
    "## 2. Fetch Data"
   ]
  },
  {
   "cell_type": "markdown",
   "metadata": {},
   "source": [
    "### Get all Nasdaq Stocks"
   ]
  },
  {
   "cell_type": "code",
   "execution_count": 2,
   "metadata": {},
   "outputs": [
    {
     "data": {
      "text/plain": [
       "100"
      ]
     },
     "execution_count": 2,
     "metadata": {},
     "output_type": "execute_result"
    }
   ],
   "source": [
    "assets= [\n",
    "    \"AAPL\",  # Apple Inc.\n",
    "    \"MSFT\",  # Microsoft Corporation\n",
    "    \"AMZN\",  # Amazon.com Inc.\n",
    "    \"GOOGL\", # Alphabet Inc. (Google) Class A\n",
    "    \"GOOG\",  # Alphabet Inc. (Google) Class C\n",
    "    \"META\",    # Meta Platforms Inc (formerly Facebook)\n",
    "    \"TSLA\",  # Tesla Inc\n",
    "    \"UA\", # Berkshire Hathaway Inc. Class B\n",
    "    \"JPM\",   # JPMorgan Chase & Co.\n",
    "    \"V\",     # Visa Inc.\n",
    "    \"JNJ\",   # Johnson & Johnson\n",
    "    \"WMT\",   # Walmart Inc.\n",
    "    \"PG\",    # Procter & Gamble Co.\n",
    "    \"UNH\",   # UnitedHealth Group Inc.\n",
    "    \"MA\",    # Mastercard Inc.\n",
    "    \"NVDA\",  # NVIDIA Corporation\n",
    "    \"HD\",    # Home Depot Inc.\n",
    "    \"BAC\",   # Bank of America Corp\n",
    "    \"DIS\",   # Walt Disney Co\n",
    "    \"PYPL\",  # PayPal Holdings\n",
    "    \"VZ\",    # Verizon Communications Inc.\n",
    "    \"ADBE\",  # Adobe Inc.\n",
    "    \"CMCSA\", # Comcast Corporation\n",
    "    \"NFLX\",  # Netflix Inc.\n",
    "    \"KO\",    # Coca-Cola Co\n",
    "    \"NKE\",   # NIKE Inc.\n",
    "    \"PFE\",   # Pfizer Inc.\n",
    "    \"MRK\",   # Merck & Co., Inc.\n",
    "    \"PEP\",   # PepsiCo, Inc.\n",
    "    \"T\",     # AT&T Inc.\n",
    "    \"ABT\",   # Abbott Laboratories\n",
    "    \"CRM\",   # Salesforce.com Inc.\n",
    "    \"ORCL\",  # Oracle Corporation\n",
    "    \"ABBV\",  # AbbVie Inc.\n",
    "    \"CSCO\",  # Cisco Systems, Inc.\n",
    "    \"INTC\",  # Intel Corporation\n",
    "    \"TMO\",   # Thermo Fisher Scientific Inc.\n",
    "    \"XOM\",   # Exxon Mobil Corporation\n",
    "    \"ACN\",   # Accenture plc\n",
    "    \"LLY\",   # Eli Lilly and Company\n",
    "    \"COST\",  # Costco Wholesale Corporation\n",
    "    \"MCD\",   # McDonald's Corp\n",
    "    \"DHR\",   # Danaher Corporation\n",
    "    \"MDT\",   # Medtronic plc\n",
    "    \"NEE\",   # NextEra Energy, Inc.\n",
    "    \"BMY\",   # Bristol-Myers Squibb Company\n",
    "    \"QCOM\",  # Qualcomm Inc\n",
    "    \"CVX\",   # Chevron Corporation\n",
    "    \"WFC\",   # Wells Fargo & Co\n",
    "    \"LMT\",    # Lockheed Martin Corporation\n",
    "    \"GS\",   # Goldman Sachs Group, Inc.\n",
    "    \"MS\",   # Morgan Stanley\n",
    "    \"IBM\",  # International Business Machines Corporation\n",
    "    \"GE\",   # General Electric Company\n",
    "    \"F\",    # Ford Motor Company\n",
    "    \"GM\",   # General Motors Company\n",
    "    \"UBER\", # Uber Technologies, Inc.\n",
    "    \"LYFT\", # Lyft, Inc.\n",
    "    \"SNAP\", # Snap Inc.\n",
    "    \"TWTR\", # Twitter, Inc.\n",
    "    \"SPOT\", # Spotify Technology S.A.\n",
    "    \"AMD\",  # Advanced Micro Devices, Inc.\n",
    "    \"TXN\",  # Texas Instruments Incorporated\n",
    "    \"BABA\", # Alibaba Group Holding Limited\n",
    "    \"SAP\",  # SAP SE\n",
    "    \"HON\",  # Honeywell International Inc.\n",
    "    \"BA\",   # Boeing Company\n",
    "    \"RTX\",  # Raytheon Technologies Corporation\n",
    "    \"CAT\",  # Caterpillar Inc.\n",
    "    \"DE\",   # Deere & Company\n",
    "    \"MMM\",  # 3M Company\n",
    "    \"DUK\",  # Duke Energy Corporation\n",
    "    \"SO\",   # Southern Company\n",
    "    \"EXC\",  # Exelon Corporation\n",
    "    \"NEE\",  # NextEra Energy, Inc.\n",
    "    \"AEP\",  # American Electric Power Company, Inc.\n",
    "    \"SRE\",  # Sempra Energy\n",
    "    \"ETN\",  # Eaton Corporation plc\n",
    "    \"EMR\",  # Emerson Electric Co.\n",
    "    \"SYY\",  # Sysco Corporation\n",
    "    \"KR\",   # Kroger Co.\n",
    "    \"GIS\",  # General Mills, Inc.\n",
    "    \"K\",    # Kellogg Company\n",
    "    \"CPB\",  # Campbell Soup Company\n",
    "    \"MO\",   # Altria Group, Inc.\n",
    "    \"PM\",   # Philip Morris International Inc.\n",
    "    \"BTI\",  # British American Tobacco plc\n",
    "    \"RDY\",  # Dr. Reddy's Laboratories Ltd.\n",
    "    \"GILD\", # Gilead Sciences, Inc.\n",
    "    \"BIIB\", # Biogen Inc.\n",
    "    \"CELG\", # Celgene Corporation\n",
    "    \"AMGN\", # Amgen Inc.\n",
    "    \"SYK\",  # Stryker Corporation\n",
    "    \"BSX\",  # Boston Scientific Corporation\n",
    "    \"ISRG\", # Intuitive Surgical, Inc.\n",
    "    \"ZBH\",  # Zimmer Biomet Holdings, Inc.\n",
    "    \"EW\",   # Edwards Lifesciences Corporation\n",
    "    \"RMD\",  # ResMed Inc.\n",
    "    \"VRTX\", # Vertex Pharmaceuticals Incorporated\n",
    "    \"REGN\",  # Regeneron Pharmaceuticals, Inc.\n",
    "]\n",
    "\n",
    "len(assets)"
   ]
  },
  {
   "cell_type": "code",
   "execution_count": 3,
   "metadata": {},
   "outputs": [
    {
     "name": "stderr",
     "output_type": "stream",
     "text": [
      "[*********************100%***********************]  99 of 99 completed\n",
      "\n",
      "5 Failed downloads:\n",
      "['SPOT', 'LYFT', 'UBER']: YFPricesMissingError('$%ticker%: possibly delisted; no price data found  (1d 2015-01-01 -> 2018-01-01) (Yahoo error = \"Data doesn\\'t exist for startDate = 1420088400, endDate = 1514782800\")')\n",
      "['CELG', 'TWTR']: YFTzMissingError('$%ticker%: possibly delisted; no timezone found')\n"
     ]
    },
    {
     "name": "stdout",
     "output_type": "stream",
     "text": [
      "Omitted assets ( 5 ):  ['CELG', 'LYFT', 'SPOT', 'UBER', 'TWTR']\n",
      "Time to fetch data: 3.18 seconds\n"
     ]
    },
    {
     "data": {
      "text/plain": [
       "94"
      ]
     },
     "execution_count": 3,
     "metadata": {},
     "output_type": "execute_result"
    }
   ],
   "source": [
    "raw_data, asset_errors, max_combination= fetch_raw_data_yf(assets)\n",
    "\n",
    "max_combination"
   ]
  },
  {
   "cell_type": "markdown",
   "metadata": {},
   "source": [
    "## 3. Mean, Volatility and Covariance"
   ]
  },
  {
   "cell_type": "code",
   "execution_count": 4,
   "metadata": {},
   "outputs": [
    {
     "data": {
      "text/html": [
       "<div>\n",
       "<style scoped>\n",
       "    .dataframe tbody tr th:only-of-type {\n",
       "        vertical-align: middle;\n",
       "    }\n",
       "\n",
       "    .dataframe tbody tr th {\n",
       "        vertical-align: top;\n",
       "    }\n",
       "\n",
       "    .dataframe thead th {\n",
       "        text-align: right;\n",
       "    }\n",
       "</style>\n",
       "<table border=\"1\" class=\"dataframe\">\n",
       "  <thead>\n",
       "    <tr style=\"text-align: right;\">\n",
       "      <th>Ticker</th>\n",
       "      <th>ORCL_Close</th>\n",
       "      <th>AMD_Close</th>\n",
       "      <th>NKE_Close</th>\n",
       "      <th>BMY_Close</th>\n",
       "      <th>BA_Close</th>\n",
       "      <th>DIS_Close</th>\n",
       "      <th>PFE_Close</th>\n",
       "      <th>AEP_Close</th>\n",
       "      <th>ADBE_Close</th>\n",
       "      <th>RMD_Close</th>\n",
       "      <th>...</th>\n",
       "      <th>MRK_Close</th>\n",
       "      <th>PM_Close</th>\n",
       "      <th>PG_Close</th>\n",
       "      <th>GOOG_Close</th>\n",
       "      <th>WMT_Close</th>\n",
       "      <th>BABA_Close</th>\n",
       "      <th>CVX_Close</th>\n",
       "      <th>F_Close</th>\n",
       "      <th>CSCO_Close</th>\n",
       "      <th>TMO_Close</th>\n",
       "    </tr>\n",
       "    <tr>\n",
       "      <th>Ticker</th>\n",
       "      <th></th>\n",
       "      <th></th>\n",
       "      <th></th>\n",
       "      <th></th>\n",
       "      <th></th>\n",
       "      <th></th>\n",
       "      <th></th>\n",
       "      <th></th>\n",
       "      <th></th>\n",
       "      <th></th>\n",
       "      <th></th>\n",
       "      <th></th>\n",
       "      <th></th>\n",
       "      <th></th>\n",
       "      <th></th>\n",
       "      <th></th>\n",
       "      <th></th>\n",
       "      <th></th>\n",
       "      <th></th>\n",
       "      <th></th>\n",
       "      <th></th>\n",
       "    </tr>\n",
       "  </thead>\n",
       "  <tbody>\n",
       "    <tr>\n",
       "      <th>ORCL_Close</th>\n",
       "      <td>0.035055</td>\n",
       "      <td>0.015910</td>\n",
       "      <td>0.000663</td>\n",
       "      <td>0.004340</td>\n",
       "      <td>0.000783</td>\n",
       "      <td>-0.001882</td>\n",
       "      <td>0.002300</td>\n",
       "      <td>-0.001373</td>\n",
       "      <td>0.008839</td>\n",
       "      <td>0.006971</td>\n",
       "      <td>...</td>\n",
       "      <td>0.001554</td>\n",
       "      <td>0.002672</td>\n",
       "      <td>0.000287</td>\n",
       "      <td>0.007096</td>\n",
       "      <td>0.000122</td>\n",
       "      <td>0.009790</td>\n",
       "      <td>-0.001888</td>\n",
       "      <td>0.002615</td>\n",
       "      <td>0.005811</td>\n",
       "      <td>0.003665</td>\n",
       "    </tr>\n",
       "    <tr>\n",
       "      <th>AMD_Close</th>\n",
       "      <td>0.015910</td>\n",
       "      <td>0.339820</td>\n",
       "      <td>-0.000061</td>\n",
       "      <td>0.006405</td>\n",
       "      <td>0.017461</td>\n",
       "      <td>-0.002383</td>\n",
       "      <td>0.005213</td>\n",
       "      <td>-0.006376</td>\n",
       "      <td>0.031869</td>\n",
       "      <td>0.011351</td>\n",
       "      <td>...</td>\n",
       "      <td>0.010127</td>\n",
       "      <td>0.007017</td>\n",
       "      <td>0.003996</td>\n",
       "      <td>0.024897</td>\n",
       "      <td>0.006003</td>\n",
       "      <td>0.049088</td>\n",
       "      <td>0.002180</td>\n",
       "      <td>0.015024</td>\n",
       "      <td>0.011305</td>\n",
       "      <td>0.006811</td>\n",
       "    </tr>\n",
       "    <tr>\n",
       "      <th>NKE_Close</th>\n",
       "      <td>0.000663</td>\n",
       "      <td>-0.000061</td>\n",
       "      <td>0.050923</td>\n",
       "      <td>0.001665</td>\n",
       "      <td>-0.001919</td>\n",
       "      <td>0.006079</td>\n",
       "      <td>0.001953</td>\n",
       "      <td>-0.001298</td>\n",
       "      <td>0.003644</td>\n",
       "      <td>0.002269</td>\n",
       "      <td>...</td>\n",
       "      <td>0.005819</td>\n",
       "      <td>-0.001436</td>\n",
       "      <td>0.001384</td>\n",
       "      <td>-0.000488</td>\n",
       "      <td>0.003812</td>\n",
       "      <td>-0.002756</td>\n",
       "      <td>0.000091</td>\n",
       "      <td>0.004535</td>\n",
       "      <td>0.004736</td>\n",
       "      <td>0.003711</td>\n",
       "    </tr>\n",
       "    <tr>\n",
       "      <th>BMY_Close</th>\n",
       "      <td>0.004340</td>\n",
       "      <td>0.006405</td>\n",
       "      <td>0.001665</td>\n",
       "      <td>0.032540</td>\n",
       "      <td>0.002996</td>\n",
       "      <td>-0.003287</td>\n",
       "      <td>0.007967</td>\n",
       "      <td>0.001250</td>\n",
       "      <td>0.006387</td>\n",
       "      <td>0.004782</td>\n",
       "      <td>...</td>\n",
       "      <td>0.005843</td>\n",
       "      <td>-0.000698</td>\n",
       "      <td>0.000971</td>\n",
       "      <td>0.002519</td>\n",
       "      <td>0.002769</td>\n",
       "      <td>0.004775</td>\n",
       "      <td>0.001684</td>\n",
       "      <td>0.004719</td>\n",
       "      <td>0.007259</td>\n",
       "      <td>0.007362</td>\n",
       "    </tr>\n",
       "    <tr>\n",
       "      <th>BA_Close</th>\n",
       "      <td>0.000783</td>\n",
       "      <td>0.017461</td>\n",
       "      <td>-0.001919</td>\n",
       "      <td>0.002996</td>\n",
       "      <td>0.030382</td>\n",
       "      <td>0.005441</td>\n",
       "      <td>0.001530</td>\n",
       "      <td>0.002426</td>\n",
       "      <td>0.004766</td>\n",
       "      <td>0.001872</td>\n",
       "      <td>...</td>\n",
       "      <td>0.002074</td>\n",
       "      <td>0.004394</td>\n",
       "      <td>0.000941</td>\n",
       "      <td>0.004356</td>\n",
       "      <td>0.000099</td>\n",
       "      <td>0.009475</td>\n",
       "      <td>0.001911</td>\n",
       "      <td>0.002790</td>\n",
       "      <td>0.004002</td>\n",
       "      <td>-0.002783</td>\n",
       "    </tr>\n",
       "    <tr>\n",
       "      <th>...</th>\n",
       "      <td>...</td>\n",
       "      <td>...</td>\n",
       "      <td>...</td>\n",
       "      <td>...</td>\n",
       "      <td>...</td>\n",
       "      <td>...</td>\n",
       "      <td>...</td>\n",
       "      <td>...</td>\n",
       "      <td>...</td>\n",
       "      <td>...</td>\n",
       "      <td>...</td>\n",
       "      <td>...</td>\n",
       "      <td>...</td>\n",
       "      <td>...</td>\n",
       "      <td>...</td>\n",
       "      <td>...</td>\n",
       "      <td>...</td>\n",
       "      <td>...</td>\n",
       "      <td>...</td>\n",
       "      <td>...</td>\n",
       "      <td>...</td>\n",
       "    </tr>\n",
       "    <tr>\n",
       "      <th>BABA_Close</th>\n",
       "      <td>0.009790</td>\n",
       "      <td>0.049088</td>\n",
       "      <td>-0.002756</td>\n",
       "      <td>0.004775</td>\n",
       "      <td>0.009475</td>\n",
       "      <td>-0.002475</td>\n",
       "      <td>-0.002267</td>\n",
       "      <td>-0.003636</td>\n",
       "      <td>0.018509</td>\n",
       "      <td>0.009661</td>\n",
       "      <td>...</td>\n",
       "      <td>-0.007349</td>\n",
       "      <td>0.003154</td>\n",
       "      <td>-0.001791</td>\n",
       "      <td>0.016545</td>\n",
       "      <td>0.002175</td>\n",
       "      <td>0.071466</td>\n",
       "      <td>-0.001579</td>\n",
       "      <td>0.001852</td>\n",
       "      <td>0.005192</td>\n",
       "      <td>0.003602</td>\n",
       "    </tr>\n",
       "    <tr>\n",
       "      <th>CVX_Close</th>\n",
       "      <td>-0.001888</td>\n",
       "      <td>0.002180</td>\n",
       "      <td>0.000091</td>\n",
       "      <td>0.001684</td>\n",
       "      <td>0.001911</td>\n",
       "      <td>0.002721</td>\n",
       "      <td>0.001944</td>\n",
       "      <td>-0.000637</td>\n",
       "      <td>-0.004757</td>\n",
       "      <td>-0.002616</td>\n",
       "      <td>...</td>\n",
       "      <td>0.006011</td>\n",
       "      <td>0.001230</td>\n",
       "      <td>0.002081</td>\n",
       "      <td>-0.004435</td>\n",
       "      <td>-0.000930</td>\n",
       "      <td>-0.001579</td>\n",
       "      <td>0.019971</td>\n",
       "      <td>0.006852</td>\n",
       "      <td>0.001357</td>\n",
       "      <td>0.000340</td>\n",
       "    </tr>\n",
       "    <tr>\n",
       "      <th>F_Close</th>\n",
       "      <td>0.002615</td>\n",
       "      <td>0.015024</td>\n",
       "      <td>0.004535</td>\n",
       "      <td>0.004719</td>\n",
       "      <td>0.002790</td>\n",
       "      <td>0.006980</td>\n",
       "      <td>0.004597</td>\n",
       "      <td>-0.002598</td>\n",
       "      <td>-0.001899</td>\n",
       "      <td>0.001188</td>\n",
       "      <td>...</td>\n",
       "      <td>0.004550</td>\n",
       "      <td>-0.000431</td>\n",
       "      <td>0.001543</td>\n",
       "      <td>0.000479</td>\n",
       "      <td>0.003112</td>\n",
       "      <td>0.001852</td>\n",
       "      <td>0.006852</td>\n",
       "      <td>0.027633</td>\n",
       "      <td>0.006799</td>\n",
       "      <td>0.004830</td>\n",
       "    </tr>\n",
       "    <tr>\n",
       "      <th>CSCO_Close</th>\n",
       "      <td>0.005811</td>\n",
       "      <td>0.011305</td>\n",
       "      <td>0.004736</td>\n",
       "      <td>0.007259</td>\n",
       "      <td>0.004002</td>\n",
       "      <td>0.003214</td>\n",
       "      <td>0.003720</td>\n",
       "      <td>0.000089</td>\n",
       "      <td>0.008799</td>\n",
       "      <td>0.007801</td>\n",
       "      <td>...</td>\n",
       "      <td>0.003468</td>\n",
       "      <td>0.003849</td>\n",
       "      <td>0.002324</td>\n",
       "      <td>0.007125</td>\n",
       "      <td>0.004552</td>\n",
       "      <td>0.005192</td>\n",
       "      <td>0.001357</td>\n",
       "      <td>0.006799</td>\n",
       "      <td>0.026896</td>\n",
       "      <td>0.006596</td>\n",
       "    </tr>\n",
       "    <tr>\n",
       "      <th>TMO_Close</th>\n",
       "      <td>0.003665</td>\n",
       "      <td>0.006811</td>\n",
       "      <td>0.003711</td>\n",
       "      <td>0.007362</td>\n",
       "      <td>-0.002783</td>\n",
       "      <td>-0.003737</td>\n",
       "      <td>0.004384</td>\n",
       "      <td>0.001281</td>\n",
       "      <td>0.012744</td>\n",
       "      <td>0.006007</td>\n",
       "      <td>...</td>\n",
       "      <td>0.007402</td>\n",
       "      <td>0.002129</td>\n",
       "      <td>-0.001512</td>\n",
       "      <td>0.005162</td>\n",
       "      <td>0.002768</td>\n",
       "      <td>0.003602</td>\n",
       "      <td>0.000340</td>\n",
       "      <td>0.004830</td>\n",
       "      <td>0.006596</td>\n",
       "      <td>0.026553</td>\n",
       "    </tr>\n",
       "  </tbody>\n",
       "</table>\n",
       "<p>94 rows × 94 columns</p>\n",
       "</div>"
      ],
      "text/plain": [
       "Ticker      ORCL_Close  AMD_Close  NKE_Close  BMY_Close  BA_Close  DIS_Close  \\\n",
       "Ticker                                                                         \n",
       "ORCL_Close    0.035055   0.015910   0.000663   0.004340  0.000783  -0.001882   \n",
       "AMD_Close     0.015910   0.339820  -0.000061   0.006405  0.017461  -0.002383   \n",
       "NKE_Close     0.000663  -0.000061   0.050923   0.001665 -0.001919   0.006079   \n",
       "BMY_Close     0.004340   0.006405   0.001665   0.032540  0.002996  -0.003287   \n",
       "BA_Close      0.000783   0.017461  -0.001919   0.002996  0.030382   0.005441   \n",
       "...                ...        ...        ...        ...       ...        ...   \n",
       "BABA_Close    0.009790   0.049088  -0.002756   0.004775  0.009475  -0.002475   \n",
       "CVX_Close    -0.001888   0.002180   0.000091   0.001684  0.001911   0.002721   \n",
       "F_Close       0.002615   0.015024   0.004535   0.004719  0.002790   0.006980   \n",
       "CSCO_Close    0.005811   0.011305   0.004736   0.007259  0.004002   0.003214   \n",
       "TMO_Close     0.003665   0.006811   0.003711   0.007362 -0.002783  -0.003737   \n",
       "\n",
       "Ticker      PFE_Close  AEP_Close  ADBE_Close  RMD_Close  ...  MRK_Close  \\\n",
       "Ticker                                                   ...              \n",
       "ORCL_Close   0.002300  -0.001373    0.008839   0.006971  ...   0.001554   \n",
       "AMD_Close    0.005213  -0.006376    0.031869   0.011351  ...   0.010127   \n",
       "NKE_Close    0.001953  -0.001298    0.003644   0.002269  ...   0.005819   \n",
       "BMY_Close    0.007967   0.001250    0.006387   0.004782  ...   0.005843   \n",
       "BA_Close     0.001530   0.002426    0.004766   0.001872  ...   0.002074   \n",
       "...               ...        ...         ...        ...  ...        ...   \n",
       "BABA_Close  -0.002267  -0.003636    0.018509   0.009661  ...  -0.007349   \n",
       "CVX_Close    0.001944  -0.000637   -0.004757  -0.002616  ...   0.006011   \n",
       "F_Close      0.004597  -0.002598   -0.001899   0.001188  ...   0.004550   \n",
       "CSCO_Close   0.003720   0.000089    0.008799   0.007801  ...   0.003468   \n",
       "TMO_Close    0.004384   0.001281    0.012744   0.006007  ...   0.007402   \n",
       "\n",
       "Ticker      PM_Close  PG_Close  GOOG_Close  WMT_Close  BABA_Close  CVX_Close  \\\n",
       "Ticker                                                                         \n",
       "ORCL_Close  0.002672  0.000287    0.007096   0.000122    0.009790  -0.001888   \n",
       "AMD_Close   0.007017  0.003996    0.024897   0.006003    0.049088   0.002180   \n",
       "NKE_Close  -0.001436  0.001384   -0.000488   0.003812   -0.002756   0.000091   \n",
       "BMY_Close  -0.000698  0.000971    0.002519   0.002769    0.004775   0.001684   \n",
       "BA_Close    0.004394  0.000941    0.004356   0.000099    0.009475   0.001911   \n",
       "...              ...       ...         ...        ...         ...        ...   \n",
       "BABA_Close  0.003154 -0.001791    0.016545   0.002175    0.071466  -0.001579   \n",
       "CVX_Close   0.001230  0.002081   -0.004435  -0.000930   -0.001579   0.019971   \n",
       "F_Close    -0.000431  0.001543    0.000479   0.003112    0.001852   0.006852   \n",
       "CSCO_Close  0.003849  0.002324    0.007125   0.004552    0.005192   0.001357   \n",
       "TMO_Close   0.002129 -0.001512    0.005162   0.002768    0.003602   0.000340   \n",
       "\n",
       "Ticker       F_Close  CSCO_Close  TMO_Close  \n",
       "Ticker                                       \n",
       "ORCL_Close  0.002615    0.005811   0.003665  \n",
       "AMD_Close   0.015024    0.011305   0.006811  \n",
       "NKE_Close   0.004535    0.004736   0.003711  \n",
       "BMY_Close   0.004719    0.007259   0.007362  \n",
       "BA_Close    0.002790    0.004002  -0.002783  \n",
       "...              ...         ...        ...  \n",
       "BABA_Close  0.001852    0.005192   0.003602  \n",
       "CVX_Close   0.006852    0.001357   0.000340  \n",
       "F_Close     0.027633    0.006799   0.004830  \n",
       "CSCO_Close  0.006799    0.026896   0.006596  \n",
       "TMO_Close   0.004830    0.006596   0.026553  \n",
       "\n",
       "[94 rows x 94 columns]"
      ]
     },
     "execution_count": 4,
     "metadata": {},
     "output_type": "execute_result"
    }
   ],
   "source": [
    "annualized_returns = get_matrices(raw_data, max_combination ,None)[0][2]\n",
    "cov = get_matrices(raw_data, max_combination ,None)[0][1]\n",
    "names = get_matrices(raw_data, max_combination ,None)[0][0]\n",
    "volatility = np.sqrt(np.diag(cov)) #standard deviation\n",
    "\n",
    "risk_free_rate=0 \n",
    "sharpe_ratios = (annualized_returns - risk_free_rate) / volatility\n",
    "\n",
    "cov"
   ]
  },
  {
   "cell_type": "code",
   "execution_count": 5,
   "metadata": {},
   "outputs": [
    {
     "data": {
      "application/vnd.plotly.v1+json": {
       "config": {
        "plotlyServerURL": "https://plot.ly"
       },
       "data": [
        {
         "hoverinfo": "text",
         "hovertext": [
          "ORCL_Close <br>Volatility: 0.19 <br>Returns: 13.13% <br>Sharpe Ratio: 0.70",
          "AMD_Close <br>Volatility: 0.58 <br>Returns: -36.20% <br>Sharpe Ratio: -0.62",
          "NKE_Close <br>Volatility: 0.23 <br>Returns: 10.70% <br>Sharpe Ratio: 0.47",
          "BMY_Close <br>Volatility: 0.18 <br>Returns: 11.41% <br>Sharpe Ratio: 0.63",
          "BA_Close <br>Volatility: 0.17 <br>Returns: 59.54% <br>Sharpe Ratio: 3.42",
          "DIS_Close <br>Volatility: 0.16 <br>Returns: -1.54% <br>Sharpe Ratio: -0.10",
          "PFE_Close <br>Volatility: 0.11 <br>Returns: 9.22% <br>Sharpe Ratio: 0.85",
          "AEP_Close <br>Volatility: 0.11 <br>Returns: 15.15% <br>Sharpe Ratio: 1.42",
          "ADBE_Close <br>Volatility: 0.23 <br>Returns: 45.54% <br>Sharpe Ratio: 2.00",
          "RMD_Close <br>Volatility: 0.20 <br>Returns: 20.34% <br>Sharpe Ratio: 1.01",
          "VRTX_Close <br>Volatility: 0.38 <br>Returns: 61.33% <br>Sharpe Ratio: 1.59",
          "ISRG_Close <br>Volatility: 0.19 <br>Returns: 46.59% <br>Sharpe Ratio: 2.44",
          "DE_Close <br>Volatility: 0.18 <br>Returns: 45.12% <br>Sharpe Ratio: 2.53",
          "ETN_Close <br>Volatility: 0.16 <br>Returns: 13.76% <br>Sharpe Ratio: 0.89",
          "ACN_Close <br>Volatility: 0.13 <br>Returns: 27.35% <br>Sharpe Ratio: 2.06",
          "HD_Close <br>Volatility: 0.14 <br>Returns: 32.45% <br>Sharpe Ratio: 2.40",
          "ABBV_Close <br>Volatility: 0.18 <br>Returns: 54.05% <br>Sharpe Ratio: 3.03",
          "EMR_Close <br>Volatility: 0.16 <br>Returns: 20.27% <br>Sharpe Ratio: 1.25",
          "MS_Close <br>Volatility: 0.20 <br>Returns: 16.83% <br>Sharpe Ratio: 0.86",
          "NEE_Close <br>Volatility: 0.11 <br>Returns: 23.55% <br>Sharpe Ratio: 2.10",
          "BAC_Close <br>Volatility: 0.21 <br>Returns: 20.36% <br>Sharpe Ratio: 0.97",
          "ABT_Close <br>Volatility: 0.14 <br>Returns: 28.67% <br>Sharpe Ratio: 2.05",
          "QCOM_Close <br>Volatility: 0.24 <br>Returns: 18.78% <br>Sharpe Ratio: 0.79",
          "MO_Close <br>Volatility: 0.18 <br>Returns: -2.75% <br>Sharpe Ratio: -0.15",
          "TXN_Close <br>Volatility: 0.16 <br>Returns: 37.14% <br>Sharpe Ratio: 2.30",
          "AAPL_Close <br>Volatility: 0.18 <br>Returns: 25.04% <br>Sharpe Ratio: 1.42",
          "BTI_Close <br>Volatility: 0.19 <br>Returns: 11.15% <br>Sharpe Ratio: 0.58",
          "UA_Close <br>Volatility: 0.46 <br>Returns: -42.37% <br>Sharpe Ratio: -0.91",
          "CPB_Close <br>Volatility: 0.24 <br>Returns: -23.67% <br>Sharpe Ratio: -0.98",
          "RTX_Close <br>Volatility: 0.14 <br>Returns: 16.98% <br>Sharpe Ratio: 1.24",
          "GS_Close <br>Volatility: 0.20 <br>Returns: 2.94% <br>Sharpe Ratio: 0.15",
          "XOM_Close <br>Volatility: 0.10 <br>Returns: 3.88% <br>Sharpe Ratio: 0.37",
          "DUK_Close <br>Volatility: 0.09 <br>Returns: 6.18% <br>Sharpe Ratio: 0.66",
          "GM_Close <br>Volatility: 0.19 <br>Returns: 14.71% <br>Sharpe Ratio: 0.78",
          "COST_Close <br>Volatility: 0.20 <br>Returns: 11.21% <br>Sharpe Ratio: 0.56",
          "SYK_Close <br>Volatility: 0.16 <br>Returns: 21.73% <br>Sharpe Ratio: 1.40",
          "BIIB_Close <br>Volatility: 0.23 <br>Returns: 9.80% <br>Sharpe Ratio: 0.43",
          "CAT_Close <br>Volatility: 0.20 <br>Returns: 64.11% <br>Sharpe Ratio: 3.25",
          "LMT_Close <br>Volatility: 0.11 <br>Returns: 24.36% <br>Sharpe Ratio: 2.21",
          "BSX_Close <br>Volatility: 0.17 <br>Returns: -1.01% <br>Sharpe Ratio: -0.06",
          "KR_Close <br>Volatility: 0.36 <br>Returns: -11.51% <br>Sharpe Ratio: -0.32",
          "PYPL_Close <br>Volatility: 0.23 <br>Returns: 65.17% <br>Sharpe Ratio: 2.82",
          "LLY_Close <br>Volatility: 0.15 <br>Returns: 4.51% <br>Sharpe Ratio: 0.31",
          "AMGN_Close <br>Volatility: 0.17 <br>Returns: -0.36% <br>Sharpe Ratio: -0.02",
          "JPM_Close <br>Volatility: 0.16 <br>Returns: 19.92% <br>Sharpe Ratio: 1.28",
          "JNJ_Close <br>Volatility: 0.11 <br>Returns: 16.97% <br>Sharpe Ratio: 1.49",
          "SYY_Close <br>Volatility: 0.16 <br>Returns: 19.12% <br>Sharpe Ratio: 1.19",
          "META_Close <br>Volatility: 0.17 <br>Returns: 30.58% <br>Sharpe Ratio: 1.77",
          "MSFT_Close <br>Volatility: 0.15 <br>Returns: 36.72% <br>Sharpe Ratio: 2.42",
          "NFLX_Close <br>Volatility: 0.29 <br>Returns: 38.28% <br>Sharpe Ratio: 1.33",
          "EXC_Close <br>Volatility: 0.13 <br>Returns: 12.63% <br>Sharpe Ratio: 0.96",
          "MMM_Close <br>Volatility: 0.13 <br>Returns: 27.77% <br>Sharpe Ratio: 2.12",
          "AMZN_Close <br>Volatility: 0.21 <br>Returns: 38.44% <br>Sharpe Ratio: 1.81",
          "TSLA_Close <br>Volatility: 0.36 <br>Returns: 26.10% <br>Sharpe Ratio: 0.73",
          "VZ_Close <br>Volatility: 0.17 <br>Returns: 11.30% <br>Sharpe Ratio: 0.67",
          "MCD_Close <br>Volatility: 0.14 <br>Returns: 37.50% <br>Sharpe Ratio: 2.75",
          "GE_Close <br>Volatility: 0.21 <br>Returns: -62.75% <br>Sharpe Ratio: -2.95",
          "GOOGL_Close <br>Volatility: 0.16 <br>Returns: 25.77% <br>Sharpe Ratio: 1.64",
          "T_Close <br>Volatility: 0.18 <br>Returns: -3.53% <br>Sharpe Ratio: -0.20",
          "MA_Close <br>Volatility: 0.14 <br>Returns: 37.50% <br>Sharpe Ratio: 2.60",
          "CMCSA_Close <br>Volatility: 0.21 <br>Returns: 9.55% <br>Sharpe Ratio: 0.46",
          "DHR_Close <br>Volatility: 0.13 <br>Returns: 9.07% <br>Sharpe Ratio: 0.71",
          "WFC_Close <br>Volatility: 0.17 <br>Returns: 6.48% <br>Sharpe Ratio: 0.38",
          "SAP_Close <br>Volatility: 0.14 <br>Returns: 22.38% <br>Sharpe Ratio: 1.63",
          "SRE_Close <br>Volatility: 0.13 <br>Returns: 0.42% <br>Sharpe Ratio: 0.03",
          "NVDA_Close <br>Volatility: 0.39 <br>Returns: 80.73% <br>Sharpe Ratio: 2.05",
          "PEP_Close <br>Volatility: 0.10 <br>Returns: 12.73% <br>Sharpe Ratio: 1.30",
          "GIS_Close <br>Volatility: 0.17 <br>Returns: -0.03% <br>Sharpe Ratio: -0.00",
          "CRM_Close <br>Volatility: 0.16 <br>Returns: 25.48% <br>Sharpe Ratio: 1.63",
          "EW_Close <br>Volatility: 0.23 <br>Returns: 22.60% <br>Sharpe Ratio: 0.97",
          "ZBH_Close <br>Volatility: 0.19 <br>Returns: 3.62% <br>Sharpe Ratio: 0.19",
          "UNH_Close <br>Volatility: 0.14 <br>Returns: 34.90% <br>Sharpe Ratio: 2.48",
          "HON_Close <br>Volatility: 0.10 <br>Returns: 25.07% <br>Sharpe Ratio: 2.47",
          "REGN_Close <br>Volatility: 0.28 <br>Returns: 0.03% <br>Sharpe Ratio: 0.00",
          "IBM_Close <br>Volatility: 0.16 <br>Returns: -15.90% <br>Sharpe Ratio: -1.01",
          "V_Close <br>Volatility: 0.13 <br>Returns: 30.98% <br>Sharpe Ratio: 2.47",
          "KO_Close <br>Volatility: 0.09 <br>Returns: 13.24% <br>Sharpe Ratio: 1.53",
          "SO_Close <br>Volatility: 0.12 <br>Returns: -1.26% <br>Sharpe Ratio: -0.11",
          "RDY_Close <br>Volatility: 0.30 <br>Returns: -11.92% <br>Sharpe Ratio: -0.39",
          "MDT_Close <br>Volatility: 0.15 <br>Returns: 0.82% <br>Sharpe Ratio: 0.05",
          "GILD_Close <br>Volatility: 0.19 <br>Returns: 5.32% <br>Sharpe Ratio: 0.28",
          "INTC_Close <br>Volatility: 0.18 <br>Returns: 32.63% <br>Sharpe Ratio: 1.86",
          "SNAP_Close <br>Volatility: 0.63 <br>Returns: -61.94% <br>Sharpe Ratio: -0.98",
          "K_Close <br>Volatility: 0.18 <br>Returns: -9.01% <br>Sharpe Ratio: -0.50",
          "MRK_Close <br>Volatility: 0.15 <br>Returns: -15.66% <br>Sharpe Ratio: -1.04",
          "PM_Close <br>Volatility: 0.14 <br>Returns: -0.16% <br>Sharpe Ratio: -0.01",
          "PG_Close <br>Volatility: 0.10 <br>Returns: 4.02% <br>Sharpe Ratio: 0.41",
          "GOOG_Close <br>Volatility: 0.16 <br>Returns: 27.71% <br>Sharpe Ratio: 1.74",
          "WMT_Close <br>Volatility: 0.18 <br>Returns: 43.06% <br>Sharpe Ratio: 2.37",
          "BABA_Close <br>Volatility: 0.27 <br>Returns: 61.61% <br>Sharpe Ratio: 2.30",
          "CVX_Close <br>Volatility: 0.14 <br>Returns: 15.44% <br>Sharpe Ratio: 1.09",
          "F_Close <br>Volatility: 0.17 <br>Returns: 3.00% <br>Sharpe Ratio: 0.18",
          "CSCO_Close <br>Volatility: 0.16 <br>Returns: 16.11% <br>Sharpe Ratio: 0.98",
          "TMO_Close <br>Volatility: 0.16 <br>Returns: 21.55% <br>Sharpe Ratio: 1.32"
         ],
         "marker": {
          "color": {
           "bdata": "mznYpphy5j/hc6Uog9/jvxDSPU4vVd4/P7ujp+g95D8KrK1L1VMLQGLsY0R86bi/HJe3WqRV6z8hL+vP+8f2P5zrcJny+/8/SlKJAWQ28D+R8xtW4YP5PxMjFUuJfQNAhvv/qeE2BEDzA1i0SlnsPwavy1fgdwBAcogBNZE6A0AxAmodGjUIQDrrj7cs7/M/0/rv8pFz6z8XCf3I5c0AQODNvJFrHu8/TLwGgodrAEDXqP0vJynpPwXJ7s3swcO//2l+Td1mAkALkrBhOMP2P+Wmu2j+s+I/+exm1qc37b9UF/WhEH/vv9F5GR286PM/Kjcg20Y0wz825ch05ufXP9mxqXDr9eQ/qyh5/1nb6D+fHGUNxAriP5e3x9X5XPY/aPGRTEqK2z/UkLhrhQAKQDegOvwEpQFAYRqwM4lmrr/TtLm8IlHUvzFyps2IiAZAF6bNeXGu0z8/lQRKWq+Vvzc5b/khafQ/Z0tL3q7C9z80mf4l7PbyP40eC2ZvVvw/b9GrFxhbA0Az0nbqCVr1P9bvVeQ7vO4/FXygJOnxAEBzvEGzDAT9P2Va4t+1Suc/TUEQ0qxc5T8dZewPbvsFQBLNfTn4kgfA9DWiizs3+j82AkSWW8TJv7yx4kFh0ARArkgb5n263T+yrht7FZnmP/hbKuOFU9g/8hSIV2YN+j/sKzuhet2fP66s1aqeZwBAyQlnPUTU9D/vJsWWBWBcvx5d7aOrJfo/GlMkpEoh7z8X1uIaidXHPywq1x9ozQNAWYa9+/C7A0DwU92m3IVSP87000REJvC/JndzA9bDA0BAxfX/Dob4PxAFzamAHru/kyB0gbgP2b+xvIn8w7OrP9HTVb9Q+dE/ag0oYtC6/T/Doudtw03vv++MNP5Vvt+/Z0oOC7aZ8L98XGlybimIv3xxMSYoQ9o/5kbHogjM+z/YVq00p/kCQOmnXXTmbwJAnw9V00l88T/IznPPXBLHP3qwAAXLb+8/9Mchg4cp9T8=",
           "dtype": "f8"
          },
          "colorbar": {
           "title": {
            "text": "Sharpe<br>Ratio"
           }
          },
          "colorscale": [
           [
            0,
            "rgb(103,0,31)"
           ],
           [
            0.1,
            "rgb(178,24,43)"
           ],
           [
            0.2,
            "rgb(214,96,77)"
           ],
           [
            0.3,
            "rgb(244,165,130)"
           ],
           [
            0.4,
            "rgb(253,219,199)"
           ],
           [
            0.5,
            "rgb(247,247,247)"
           ],
           [
            0.6,
            "rgb(209,229,240)"
           ],
           [
            0.7,
            "rgb(146,197,222)"
           ],
           [
            0.8,
            "rgb(67,147,195)"
           ],
           [
            0.9,
            "rgb(33,102,172)"
           ],
           [
            1,
            "rgb(5,48,97)"
           ]
          ],
          "line": {
           "width": 1
          },
          "size": 6
         },
         "mode": "markers",
         "type": "scatter",
         "x": {
          "bdata": "XcZDSSP3xz99ZuvUc6fiP6yN/r5z4sw/hl/3K/gWxz+YRe5Uj0/GP7d/8XjyPMQ/d8Vbusafuz9Eaqrfsjy7P9L6PmrvKM0/cnRCQNayyT8ORIWXdp3YP15yaA/3ecg/YbbtQPnaxj8vMnGL0uLDP9fdm3IEAcE/r/QlVXRIwT9U61Z2Ld3GP6hSbryF0sQ/B0RzbfscyT95NSlmh7K8P74WX/OCzMo/VjCFjrvgwT/wgMZpTZHOP2B8lcrIxcY/B2y7yB2rxD858tjYV4jGP/fSmso6bcg/qZdau6Gy3T/M6SDmBcfOP19ztSCad8E/D6ohoQ8fyT9CtQJ225a6PxuLz3BrK7g/0WXRaLc7yD+O12HumnHJP5sGeWDs5sM/napnQMolzT9lV7U/Fj/JP7c/u2FORrw/2l/UgVjSxT//affcqTXXP8yL/rGSnc0/jimMHFPJwj8XWNlF6nXFPyikP07o/MM/qzgpCk9AvT8SgszAMafEP8vL6659GsY/Pfcl/95swz8F2lAV6FvSP66RoN6I08A/mZQQBnbIwD+YOtANKSLLPyEsFUUG9NY/46vAyoiqxT9tant5oXfBP8PKdXs2Qss/PYsHKvogxD+hLi+cAmvGPz5vIdP4csI/m3ujFl9Qyj/YdywPCm/AP2CRhsiY1cU/P+86pJKXwT/KdRggDB/BP3j3gGuPMtk/yCj51xwIuT9kfwc90TvGP1IiJMLz9cM/faECT2e9zT8mO0LJXN3IP1LEbymcDMI/YE9ETMsDuj96WxgshhLSP1MuZyl4K8Q/Q8nCrC4NwD+3WKzCsRu2P2/+GkHfa74/dxk0Ibl80z+Na/B5dWnDP4UbKfFgQMg/xWrHme15xj9KaSCc0ELkPwRULiSzPsc/f0UkEEZSwz+HNXIg5uHBP8jp0w9sGLk/1kKOOrFqxD9BCq1njTzHP7/CHMz2G9E/t5ApKL8Wwj+ErC6CHEfFPzOuOMH5/cQ/cZtlyp7bxD8=",
          "dtype": "f8"
         },
         "y": {
          "bdata": "MyzvArvPwD9pAadVcCvXv+rAu7kwYbs/iVoXiA02vT8P8MIBlA3jP1MQRG/Ago+/jshG9r2Ytz8q8jfH8mPDPySTOxY+Jd0/NCOOczIKyj8J70KZdqDjP5Dno0Pg0N0/PPmL9Bzg3D+6UzCA9Z3BP7iIPG9qgNE/E6mxpE3F1D8GUMYU00vhP4+dRK9B8ck/TmLl1SaLxT9sf6Xw0iPOPz30aqyYD8o/H0hG3uFY0j/Cq8AU1AjIP8XTCEHhHpy/wrRYP2LF1z8J68nvMgfQP1ebkousjbw/zEX6Wokd278ROKGVA0vOv5ZXyZ4avMU/+MITwvYmnj/j/mA6Ht2jPykoHdLCqa8/GR9gZebSwj9cEPoR7bC8P5RVepcr0cs/bZuvS9kVuT80X/RWq4PkP6JTdR9RLs8/li6fAx+7hL9DzfBjxni9v0Rt1iWx2uQ/P9qbVuUbpz/lhpZI9hVtv4EBi4d4f8k/3/lbhy64xT9yfQNp03rIP5qBNB3iktM/otZTQ+F/1z8nCi328H/YP5Ux55JKKcA/+gZuBTbG0T8ip3Q+ZJrYP2JXAUX7tNA/aX9dIlLtvD9IGWzMgP/XP1pKb7PIFOS/IOPAZIl90D/AKpajKQ2iv3N1n8/9/9c/uElj3DByuD8Rfj216TW3P2gmcPUvmbA/ZNiJ+AmlzD8mc3fHkwxxPygAF8e+1ek/3edXJx1LwD+atzdrDrczv2tMJYBVT9A/omGfxWzuzD8eltyqBoWiPxHW6XewVtY/kNBqygoL0D9n/hgoCuw0P+MjTHa1W8S/qmrHyR7U0z8/tlSnY/HAP1ZvJdEDyIm//4ps6QaGvr/A3drrB86APxcPzEhLPqs/64DkZbbh1D9Wi/SZ9tHjv8Rm50kAD7e/9WlVo+QLxL+A3Ut/JwFbvyUsmGuCmKQ/5efENTO80T8Ak8RBsI7bPxv8MhQet+M/hLbX2q7Ewz/7e/tnpK6eP+ip9Rtgn8Q/1vmJ2GOWyz8=",
          "dtype": "f8"
         }
        }
       ],
       "layout": {
        "template": {
         "data": {
          "bar": [
           {
            "error_x": {
             "color": "#2a3f5f"
            },
            "error_y": {
             "color": "#2a3f5f"
            },
            "marker": {
             "line": {
              "color": "#E5ECF6",
              "width": 0.5
             },
             "pattern": {
              "fillmode": "overlay",
              "size": 10,
              "solidity": 0.2
             }
            },
            "type": "bar"
           }
          ],
          "barpolar": [
           {
            "marker": {
             "line": {
              "color": "#E5ECF6",
              "width": 0.5
             },
             "pattern": {
              "fillmode": "overlay",
              "size": 10,
              "solidity": 0.2
             }
            },
            "type": "barpolar"
           }
          ],
          "carpet": [
           {
            "aaxis": {
             "endlinecolor": "#2a3f5f",
             "gridcolor": "white",
             "linecolor": "white",
             "minorgridcolor": "white",
             "startlinecolor": "#2a3f5f"
            },
            "baxis": {
             "endlinecolor": "#2a3f5f",
             "gridcolor": "white",
             "linecolor": "white",
             "minorgridcolor": "white",
             "startlinecolor": "#2a3f5f"
            },
            "type": "carpet"
           }
          ],
          "choropleth": [
           {
            "colorbar": {
             "outlinewidth": 0,
             "ticks": ""
            },
            "type": "choropleth"
           }
          ],
          "contour": [
           {
            "colorbar": {
             "outlinewidth": 0,
             "ticks": ""
            },
            "colorscale": [
             [
              0,
              "#0d0887"
             ],
             [
              0.1111111111111111,
              "#46039f"
             ],
             [
              0.2222222222222222,
              "#7201a8"
             ],
             [
              0.3333333333333333,
              "#9c179e"
             ],
             [
              0.4444444444444444,
              "#bd3786"
             ],
             [
              0.5555555555555556,
              "#d8576b"
             ],
             [
              0.6666666666666666,
              "#ed7953"
             ],
             [
              0.7777777777777778,
              "#fb9f3a"
             ],
             [
              0.8888888888888888,
              "#fdca26"
             ],
             [
              1,
              "#f0f921"
             ]
            ],
            "type": "contour"
           }
          ],
          "contourcarpet": [
           {
            "colorbar": {
             "outlinewidth": 0,
             "ticks": ""
            },
            "type": "contourcarpet"
           }
          ],
          "heatmap": [
           {
            "colorbar": {
             "outlinewidth": 0,
             "ticks": ""
            },
            "colorscale": [
             [
              0,
              "#0d0887"
             ],
             [
              0.1111111111111111,
              "#46039f"
             ],
             [
              0.2222222222222222,
              "#7201a8"
             ],
             [
              0.3333333333333333,
              "#9c179e"
             ],
             [
              0.4444444444444444,
              "#bd3786"
             ],
             [
              0.5555555555555556,
              "#d8576b"
             ],
             [
              0.6666666666666666,
              "#ed7953"
             ],
             [
              0.7777777777777778,
              "#fb9f3a"
             ],
             [
              0.8888888888888888,
              "#fdca26"
             ],
             [
              1,
              "#f0f921"
             ]
            ],
            "type": "heatmap"
           }
          ],
          "histogram": [
           {
            "marker": {
             "pattern": {
              "fillmode": "overlay",
              "size": 10,
              "solidity": 0.2
             }
            },
            "type": "histogram"
           }
          ],
          "histogram2d": [
           {
            "colorbar": {
             "outlinewidth": 0,
             "ticks": ""
            },
            "colorscale": [
             [
              0,
              "#0d0887"
             ],
             [
              0.1111111111111111,
              "#46039f"
             ],
             [
              0.2222222222222222,
              "#7201a8"
             ],
             [
              0.3333333333333333,
              "#9c179e"
             ],
             [
              0.4444444444444444,
              "#bd3786"
             ],
             [
              0.5555555555555556,
              "#d8576b"
             ],
             [
              0.6666666666666666,
              "#ed7953"
             ],
             [
              0.7777777777777778,
              "#fb9f3a"
             ],
             [
              0.8888888888888888,
              "#fdca26"
             ],
             [
              1,
              "#f0f921"
             ]
            ],
            "type": "histogram2d"
           }
          ],
          "histogram2dcontour": [
           {
            "colorbar": {
             "outlinewidth": 0,
             "ticks": ""
            },
            "colorscale": [
             [
              0,
              "#0d0887"
             ],
             [
              0.1111111111111111,
              "#46039f"
             ],
             [
              0.2222222222222222,
              "#7201a8"
             ],
             [
              0.3333333333333333,
              "#9c179e"
             ],
             [
              0.4444444444444444,
              "#bd3786"
             ],
             [
              0.5555555555555556,
              "#d8576b"
             ],
             [
              0.6666666666666666,
              "#ed7953"
             ],
             [
              0.7777777777777778,
              "#fb9f3a"
             ],
             [
              0.8888888888888888,
              "#fdca26"
             ],
             [
              1,
              "#f0f921"
             ]
            ],
            "type": "histogram2dcontour"
           }
          ],
          "mesh3d": [
           {
            "colorbar": {
             "outlinewidth": 0,
             "ticks": ""
            },
            "type": "mesh3d"
           }
          ],
          "parcoords": [
           {
            "line": {
             "colorbar": {
              "outlinewidth": 0,
              "ticks": ""
             }
            },
            "type": "parcoords"
           }
          ],
          "pie": [
           {
            "automargin": true,
            "type": "pie"
           }
          ],
          "scatter": [
           {
            "fillpattern": {
             "fillmode": "overlay",
             "size": 10,
             "solidity": 0.2
            },
            "type": "scatter"
           }
          ],
          "scatter3d": [
           {
            "line": {
             "colorbar": {
              "outlinewidth": 0,
              "ticks": ""
             }
            },
            "marker": {
             "colorbar": {
              "outlinewidth": 0,
              "ticks": ""
             }
            },
            "type": "scatter3d"
           }
          ],
          "scattercarpet": [
           {
            "marker": {
             "colorbar": {
              "outlinewidth": 0,
              "ticks": ""
             }
            },
            "type": "scattercarpet"
           }
          ],
          "scattergeo": [
           {
            "marker": {
             "colorbar": {
              "outlinewidth": 0,
              "ticks": ""
             }
            },
            "type": "scattergeo"
           }
          ],
          "scattergl": [
           {
            "marker": {
             "colorbar": {
              "outlinewidth": 0,
              "ticks": ""
             }
            },
            "type": "scattergl"
           }
          ],
          "scattermap": [
           {
            "marker": {
             "colorbar": {
              "outlinewidth": 0,
              "ticks": ""
             }
            },
            "type": "scattermap"
           }
          ],
          "scattermapbox": [
           {
            "marker": {
             "colorbar": {
              "outlinewidth": 0,
              "ticks": ""
             }
            },
            "type": "scattermapbox"
           }
          ],
          "scatterpolar": [
           {
            "marker": {
             "colorbar": {
              "outlinewidth": 0,
              "ticks": ""
             }
            },
            "type": "scatterpolar"
           }
          ],
          "scatterpolargl": [
           {
            "marker": {
             "colorbar": {
              "outlinewidth": 0,
              "ticks": ""
             }
            },
            "type": "scatterpolargl"
           }
          ],
          "scatterternary": [
           {
            "marker": {
             "colorbar": {
              "outlinewidth": 0,
              "ticks": ""
             }
            },
            "type": "scatterternary"
           }
          ],
          "surface": [
           {
            "colorbar": {
             "outlinewidth": 0,
             "ticks": ""
            },
            "colorscale": [
             [
              0,
              "#0d0887"
             ],
             [
              0.1111111111111111,
              "#46039f"
             ],
             [
              0.2222222222222222,
              "#7201a8"
             ],
             [
              0.3333333333333333,
              "#9c179e"
             ],
             [
              0.4444444444444444,
              "#bd3786"
             ],
             [
              0.5555555555555556,
              "#d8576b"
             ],
             [
              0.6666666666666666,
              "#ed7953"
             ],
             [
              0.7777777777777778,
              "#fb9f3a"
             ],
             [
              0.8888888888888888,
              "#fdca26"
             ],
             [
              1,
              "#f0f921"
             ]
            ],
            "type": "surface"
           }
          ],
          "table": [
           {
            "cells": {
             "fill": {
              "color": "#EBF0F8"
             },
             "line": {
              "color": "white"
             }
            },
            "header": {
             "fill": {
              "color": "#C8D4E3"
             },
             "line": {
              "color": "white"
             }
            },
            "type": "table"
           }
          ]
         },
         "layout": {
          "annotationdefaults": {
           "arrowcolor": "#2a3f5f",
           "arrowhead": 0,
           "arrowwidth": 1
          },
          "autotypenumbers": "strict",
          "coloraxis": {
           "colorbar": {
            "outlinewidth": 0,
            "ticks": ""
           }
          },
          "colorscale": {
           "diverging": [
            [
             0,
             "#8e0152"
            ],
            [
             0.1,
             "#c51b7d"
            ],
            [
             0.2,
             "#de77ae"
            ],
            [
             0.3,
             "#f1b6da"
            ],
            [
             0.4,
             "#fde0ef"
            ],
            [
             0.5,
             "#f7f7f7"
            ],
            [
             0.6,
             "#e6f5d0"
            ],
            [
             0.7,
             "#b8e186"
            ],
            [
             0.8,
             "#7fbc41"
            ],
            [
             0.9,
             "#4d9221"
            ],
            [
             1,
             "#276419"
            ]
           ],
           "sequential": [
            [
             0,
             "#0d0887"
            ],
            [
             0.1111111111111111,
             "#46039f"
            ],
            [
             0.2222222222222222,
             "#7201a8"
            ],
            [
             0.3333333333333333,
             "#9c179e"
            ],
            [
             0.4444444444444444,
             "#bd3786"
            ],
            [
             0.5555555555555556,
             "#d8576b"
            ],
            [
             0.6666666666666666,
             "#ed7953"
            ],
            [
             0.7777777777777778,
             "#fb9f3a"
            ],
            [
             0.8888888888888888,
             "#fdca26"
            ],
            [
             1,
             "#f0f921"
            ]
           ],
           "sequentialminus": [
            [
             0,
             "#0d0887"
            ],
            [
             0.1111111111111111,
             "#46039f"
            ],
            [
             0.2222222222222222,
             "#7201a8"
            ],
            [
             0.3333333333333333,
             "#9c179e"
            ],
            [
             0.4444444444444444,
             "#bd3786"
            ],
            [
             0.5555555555555556,
             "#d8576b"
            ],
            [
             0.6666666666666666,
             "#ed7953"
            ],
            [
             0.7777777777777778,
             "#fb9f3a"
            ],
            [
             0.8888888888888888,
             "#fdca26"
            ],
            [
             1,
             "#f0f921"
            ]
           ]
          },
          "colorway": [
           "#636efa",
           "#EF553B",
           "#00cc96",
           "#ab63fa",
           "#FFA15A",
           "#19d3f3",
           "#FF6692",
           "#B6E880",
           "#FF97FF",
           "#FECB52"
          ],
          "font": {
           "color": "#2a3f5f"
          },
          "geo": {
           "bgcolor": "white",
           "lakecolor": "white",
           "landcolor": "#E5ECF6",
           "showlakes": true,
           "showland": true,
           "subunitcolor": "white"
          },
          "hoverlabel": {
           "align": "left"
          },
          "hovermode": "closest",
          "mapbox": {
           "style": "light"
          },
          "paper_bgcolor": "white",
          "plot_bgcolor": "#E5ECF6",
          "polar": {
           "angularaxis": {
            "gridcolor": "white",
            "linecolor": "white",
            "ticks": ""
           },
           "bgcolor": "#E5ECF6",
           "radialaxis": {
            "gridcolor": "white",
            "linecolor": "white",
            "ticks": ""
           }
          },
          "scene": {
           "xaxis": {
            "backgroundcolor": "#E5ECF6",
            "gridcolor": "white",
            "gridwidth": 2,
            "linecolor": "white",
            "showbackground": true,
            "ticks": "",
            "zerolinecolor": "white"
           },
           "yaxis": {
            "backgroundcolor": "#E5ECF6",
            "gridcolor": "white",
            "gridwidth": 2,
            "linecolor": "white",
            "showbackground": true,
            "ticks": "",
            "zerolinecolor": "white"
           },
           "zaxis": {
            "backgroundcolor": "#E5ECF6",
            "gridcolor": "white",
            "gridwidth": 2,
            "linecolor": "white",
            "showbackground": true,
            "ticks": "",
            "zerolinecolor": "white"
           }
          },
          "shapedefaults": {
           "line": {
            "color": "#2a3f5f"
           }
          },
          "ternary": {
           "aaxis": {
            "gridcolor": "white",
            "linecolor": "white",
            "ticks": ""
           },
           "baxis": {
            "gridcolor": "white",
            "linecolor": "white",
            "ticks": ""
           },
           "bgcolor": "#E5ECF6",
           "caxis": {
            "gridcolor": "white",
            "linecolor": "white",
            "ticks": ""
           }
          },
          "title": {
           "x": 0.05
          },
          "xaxis": {
           "automargin": true,
           "gridcolor": "white",
           "linecolor": "white",
           "ticks": "",
           "title": {
            "standoff": 15
           },
           "zerolinecolor": "white",
           "zerolinewidth": 2
          },
          "yaxis": {
           "automargin": true,
           "gridcolor": "white",
           "linecolor": "white",
           "ticks": "",
           "title": {
            "standoff": 15
           },
           "zerolinecolor": "white",
           "zerolinewidth": 2
          }
         }
        },
        "title": {
         "text": "Markowitz Mean Varience Model"
        },
        "xaxis": {
         "title": {
          "text": "Volatility (Standard Deviation)"
         }
        },
        "yaxis": {
         "title": {
          "text": "Annualized Returns"
         }
        }
       }
      }
     },
     "metadata": {},
     "output_type": "display_data"
    }
   ],
   "source": [
    "hover_texts = [\n",
    "    f\"{ticker} <br>Volatility: {vol:.2f} <br>Returns: {ret:.2%} <br>Sharpe Ratio: {sr:.2f}\"\n",
    "    for ticker, vol, ret, sr in zip(names, volatility, annualized_returns, sharpe_ratios)\n",
    "]\n",
    "\n",
    "fig = go.Figure(data=go.Scatter(\n",
    "    x=volatility, \n",
    "    y=annualized_returns, \n",
    "    mode='markers',\n",
    "    hoverinfo='text',\n",
    "    hovertext=hover_texts,\n",
    "    marker=dict(color=sharpe_ratios, colorscale = 'RdBu', size=6, line=dict(width=1), colorbar=dict(title=\"Sharpe<br>Ratio\")\n",
    "    )\n",
    "))\n",
    "\n",
    "fig.update_layout(\n",
    "    title='Markowitz Mean Varience Model',\n",
    "    xaxis_title='Volatility (Standard Deviation)',\n",
    "    yaxis_title='Annualized Returns',\n",
    ")\n",
    "\n",
    "fig.show()\n"
   ]
  },
  {
   "cell_type": "code",
   "execution_count": 6,
   "metadata": {},
   "outputs": [],
   "source": [
    "portfolio_size = 5\n",
    "number_of_portfolios = 1000\n",
    "\n",
    "mean_variance_pairs = []\n",
    "hover_texts = []\n",
    "\n",
    "tickers_list = []\n",
    "weights_list = []\n",
    "\n",
    "for _ in range(number_of_portfolios):\n",
    "    assets = np.random.choice(list(raw_data.columns), portfolio_size, replace=False)\n",
    "    weights = np.random.rand(portfolio_size)\n",
    "    weights /= weights.sum()\n",
    "\n",
    "    portfolio_E_Return = 0\n",
    "    portfolio_E_Variance = 0\n",
    "\n",
    "    for i in range(len(assets)):\n",
    "        portfolio_E_Return += weights[i] * annualized_returns.loc[assets[i]]\n",
    "        for j in range(len(assets)):\n",
    "            portfolio_E_Variance += weights[i] * weights[j] * cov.loc[assets[i], assets[j]]\n",
    "    \n",
    "    mean_variance_pairs.append([portfolio_E_Return, portfolio_E_Variance])\n",
    "    tickers_list.append(assets)\n",
    "    weights_list.append(weights)\n",
    "\n",
    "    hover_text = f\"Return: {portfolio_E_Return:.2%}<br>Volatility: {portfolio_E_Variance**0.5:.2f}<br>\" + \"<br>\".join([f\"{assets[i]}: {weights[i]:.2f}\" for i in range(portfolio_size)])\n",
    "    hover_texts.append(hover_text)\n",
    "\n",
    "mean_variance_pairs = np.array(mean_variance_pairs)"
   ]
  },
  {
   "cell_type": "code",
   "execution_count": 7,
   "metadata": {},
   "outputs": [
    {
     "data": {
      "application/vnd.plotly.v1+json": {
       "config": {
        "plotlyServerURL": "https://plot.ly"
       },
       "data": [
        {
         "marker": {
          "color": {
           "bdata": "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",
           "dtype": "f8"
          },
          "colorbar": {
           "title": {
            "text": "Sharpe<br>Ratio"
           }
          },
          "colorscale": [
           [
            0,
            "rgb(103,0,31)"
           ],
           [
            0.1,
            "rgb(178,24,43)"
           ],
           [
            0.2,
            "rgb(214,96,77)"
           ],
           [
            0.3,
            "rgb(244,165,130)"
           ],
           [
            0.4,
            "rgb(253,219,199)"
           ],
           [
            0.5,
            "rgb(247,247,247)"
           ],
           [
            0.6,
            "rgb(209,229,240)"
           ],
           [
            0.7,
            "rgb(146,197,222)"
           ],
           [
            0.8,
            "rgb(67,147,195)"
           ],
           [
            0.9,
            "rgb(33,102,172)"
           ],
           [
            1,
            "rgb(5,48,97)"
           ]
          ],
          "line": {
           "width": 1
          },
          "showscale": true,
          "size": 7
         },
         "mode": "markers",
         "text": [
          "Return: 6.67%<br>Volatility: 0.09<br>SRE_Close: 0.32<br>GM_Close: 0.07<br>MO_Close: 0.12<br>ETN_Close: 0.27<br>CMCSA_Close: 0.21",
          "Return: 23.96%<br>Volatility: 0.11<br>COST_Close: 0.25<br>MSFT_Close: 0.11<br>ETN_Close: 0.08<br>GIS_Close: 0.21<br>ISRG_Close: 0.34",
          "Return: 13.86%<br>Volatility: 0.10<br>GS_Close: 0.29<br>V_Close: 0.07<br>LMT_Close: 0.25<br>HD_Close: 0.24<br>CPB_Close: 0.14",
          "Return: 22.33%<br>Volatility: 0.10<br>AMZN_Close: 0.18<br>WMT_Close: 0.14<br>PM_Close: 0.23<br>BTI_Close: 0.03<br>TMO_Close: 0.42",
          "Return: 16.36%<br>Volatility: 0.07<br>GOOGL_Close: 0.23<br>MDT_Close: 0.25<br>HD_Close: 0.11<br>CVX_Close: 0.23<br>JNJ_Close: 0.17",
          "Return: 43.45%<br>Volatility: 0.11<br>WMT_Close: 0.48<br>DUK_Close: 0.10<br>INTC_Close: 0.12<br>CAT_Close: 0.28<br>CMCSA_Close: 0.02",
          "Return: 1.43%<br>Volatility: 0.15<br>BTI_Close: 0.09<br>SNAP_Close: 0.15<br>RMD_Close: 0.26<br>BMY_Close: 0.26<br>GILD_Close: 0.25",
          "Return: 21.24%<br>Volatility: 0.12<br>MA_Close: 0.16<br>MMM_Close: 0.25<br>ISRG_Close: 0.23<br>UA_Close: 0.11<br>BIIB_Close: 0.25",
          "Return: 6.13%<br>Volatility: 0.12<br>SO_Close: 0.24<br>AMD_Close: 0.17<br>ACN_Close: 0.15<br>NEE_Close: 0.28<br>EXC_Close: 0.16",
          "Return: 20.15%<br>Volatility: 0.12<br>BA_Close: 0.24<br>KR_Close: 0.20<br>GILD_Close: 0.20<br>VZ_Close: 0.24<br>MA_Close: 0.11",
          "Return: 6.60%<br>Volatility: 0.13<br>CSCO_Close: 0.19<br>ORCL_Close: 0.03<br>AAPL_Close: 0.16<br>RDY_Close: 0.31<br>DHR_Close: 0.31",
          "Return: 35.38%<br>Volatility: 0.11<br>MS_Close: 0.31<br>PYPL_Close: 0.21<br>AAPL_Close: 0.08<br>MMM_Close: 0.28<br>ABBV_Close: 0.13",
          "Return: 11.12%<br>Volatility: 0.08<br>SRE_Close: 0.29<br>T_Close: 0.22<br>SYY_Close: 0.15<br>UNH_Close: 0.05<br>HON_Close: 0.29",
          "Return: 19.08%<br>Volatility: 0.10<br>BABA_Close: 0.02<br>CRM_Close: 0.27<br>TXN_Close: 0.20<br>IBM_Close: 0.29<br>MA_Close: 0.23",
          "Return: 22.20%<br>Volatility: 0.10<br>INTC_Close: 0.13<br>LMT_Close: 0.42<br>BIIB_Close: 0.29<br>UNH_Close: 0.09<br>CRM_Close: 0.07",
          "Return: 12.52%<br>Volatility: 0.10<br>CAT_Close: 0.03<br>JPM_Close: 0.40<br>GE_Close: 0.10<br>RDY_Close: 0.08<br>LMT_Close: 0.39",
          "Return: -3.39%<br>Volatility: 0.13<br>SYY_Close: 0.09<br>XOM_Close: 0.11<br>ZBH_Close: 0.42<br>INTC_Close: 0.04<br>CPB_Close: 0.35",
          "Return: 6.60%<br>Volatility: 0.12<br>MRK_Close: 0.20<br>GILD_Close: 0.09<br>V_Close: 0.07<br>JPM_Close: 0.30<br>GS_Close: 0.34",
          "Return: 2.71%<br>Volatility: 0.15<br>AMZN_Close: 0.22<br>UA_Close: 0.28<br>V_Close: 0.19<br>T_Close: 0.22<br>EXC_Close: 0.10",
          "Return: 19.44%<br>Volatility: 0.15<br>MA_Close: 0.21<br>WMT_Close: 0.14<br>TSLA_Close: 0.23<br>AMD_Close: 0.10<br>BTI_Close: 0.32",
          "Return: 21.14%<br>Volatility: 0.09<br>TSLA_Close: 0.10<br>CRM_Close: 0.20<br>UNH_Close: 0.24<br>NEE_Close: 0.21<br>SRE_Close: 0.25",
          "Return: 19.39%<br>Volatility: 0.09<br>INTC_Close: 0.16<br>JPM_Close: 0.23<br>SYY_Close: 0.18<br>GOOG_Close: 0.27<br>K_Close: 0.16",
          "Return: 68.32%<br>Volatility: 0.20<br>MSFT_Close: 0.01<br>CAT_Close: 0.08<br>NVDA_Close: 0.44<br>BA_Close: 0.44<br>MA_Close: 0.03",
          "Return: 1.30%<br>Volatility: 0.14<br>ADBE_Close: 0.06<br>CPB_Close: 0.43<br>CSCO_Close: 0.47<br>GILD_Close: 0.00<br>META_Close: 0.04",
          "Return: 13.68%<br>Volatility: 0.10<br>SRE_Close: 0.14<br>NVDA_Close: 0.11<br>IBM_Close: 0.27<br>MA_Close: 0.03<br>RTX_Close: 0.45",
          "Return: 7.12%<br>Volatility: 0.09<br>LMT_Close: 0.26<br>MS_Close: 0.26<br>BMY_Close: 0.10<br>IBM_Close: 0.30<br>REGN_Close: 0.09",
          "Return: 13.18%<br>Volatility: 0.19<br>BMY_Close: 0.35<br>QCOM_Close: 0.16<br>NVDA_Close: 0.16<br>AMD_Close: 0.20<br>ZBH_Close: 0.13",
          "Return: 8.85%<br>Volatility: 0.09<br>NKE_Close: 0.04<br>EMR_Close: 0.26<br>DIS_Close: 0.33<br>XOM_Close: 0.31<br>NFLX_Close: 0.06",
          "Return: 16.54%<br>Volatility: 0.09<br>DHR_Close: 0.16<br>PG_Close: 0.14<br>PEP_Close: 0.28<br>MSFT_Close: 0.17<br>QCOM_Close: 0.25",
          "Return: 51.61%<br>Volatility: 0.22<br>GM_Close: 0.23<br>BSX_Close: 0.00<br>NVDA_Close: 0.47<br>NFLX_Close: 0.10<br>V_Close: 0.20",
          "Return: 10.84%<br>Volatility: 0.10<br>GS_Close: 0.23<br>NFLX_Close: 0.13<br>MO_Close: 0.33<br>HON_Close: 0.22<br>GILD_Close: 0.09",
          "Return: 23.76%<br>Volatility: 0.13<br>TSLA_Close: 0.11<br>NFLX_Close: 0.29<br>T_Close: 0.17<br>V_Close: 0.28<br>COST_Close: 0.14",
          "Return: -20.17%<br>Volatility: 0.13<br>REGN_Close: 0.29<br>GE_Close: 0.34<br>UA_Close: 0.01<br>EXC_Close: 0.12<br>PM_Close: 0.25",
          "Return: 3.03%<br>Volatility: 0.14<br>GS_Close: 0.46<br>HD_Close: 0.21<br>SNAP_Close: 0.12<br>REGN_Close: 0.01<br>COST_Close: 0.21",
          "Return: 25.95%<br>Volatility: 0.15<br>MSFT_Close: 0.05<br>CSCO_Close: 0.04<br>EXC_Close: 0.43<br>V_Close: 0.06<br>NFLX_Close: 0.43",
          "Return: 23.08%<br>Volatility: 0.11<br>REGN_Close: 0.00<br>PYPL_Close: 0.23<br>BSX_Close: 0.30<br>LMT_Close: 0.24<br>COST_Close: 0.22",
          "Return: 19.63%<br>Volatility: 0.15<br>WFC_Close: 0.25<br>GOOGL_Close: 0.28<br>UA_Close: 0.18<br>NVDA_Close: 0.20<br>AAPL_Close: 0.09",
          "Return: 17.70%<br>Volatility: 0.09<br>SAP_Close: 0.06<br>SYY_Close: 0.34<br>CRM_Close: 0.35<br>SRE_Close: 0.17<br>CMCSA_Close: 0.07",
          "Return: 10.81%<br>Volatility: 0.09<br>CPB_Close: 0.25<br>ABBV_Close: 0.17<br>F_Close: 0.27<br>PEP_Close: 0.21<br>TXN_Close: 0.11",
          "Return: 11.12%<br>Volatility: 0.09<br>DUK_Close: 0.23<br>ISRG_Close: 0.01<br>TMO_Close: 0.25<br>BSX_Close: 0.25<br>AEP_Close: 0.26",
          "Return: -8.22%<br>Volatility: 0.11<br>JPM_Close: 0.31<br>GE_Close: 0.39<br>DHR_Close: 0.03<br>MCD_Close: 0.18<br>HD_Close: 0.09",
          "Return: 31.32%<br>Volatility: 0.13<br>QCOM_Close: 0.25<br>DHR_Close: 0.24<br>ISRG_Close: 0.14<br>PYPL_Close: 0.30<br>CPB_Close: 0.07",
          "Return: 2.11%<br>Volatility: 0.08<br>MRK_Close: 0.28<br>HD_Close: 0.18<br>DUK_Close: 0.18<br>EXC_Close: 0.12<br>K_Close: 0.23",
          "Return: 15.58%<br>Volatility: 0.13<br>SAP_Close: 0.10<br>GOOGL_Close: 0.15<br>CMCSA_Close: 0.57<br>HON_Close: 0.09<br>EMR_Close: 0.09",
          "Return: 19.38%<br>Volatility: 0.09<br>COST_Close: 0.12<br>PG_Close: 0.24<br>GOOG_Close: 0.12<br>JPM_Close: 0.26<br>INTC_Close: 0.26",
          "Return: 11.78%<br>Volatility: 0.16<br>PG_Close: 0.14<br>GM_Close: 0.15<br>WMT_Close: 0.17<br>SNAP_Close: 0.21<br>DE_Close: 0.33",
          "Return: 29.89%<br>Volatility: 0.15<br>ABT_Close: 0.29<br>GOOGL_Close: 0.18<br>AMD_Close: 0.12<br>BABA_Close: 0.31<br>JPM_Close: 0.10",
          "Return: 27.42%<br>Volatility: 0.13<br>DE_Close: 0.36<br>MS_Close: 0.39<br>MDT_Close: 0.04<br>COST_Close: 0.07<br>GOOG_Close: 0.14",
          "Return: 31.98%<br>Volatility: 0.08<br>BA_Close: 0.15<br>NEE_Close: 0.20<br>MSFT_Close: 0.28<br>CMCSA_Close: 0.13<br>ABT_Close: 0.24",
          "Return: 11.51%<br>Volatility: 0.12<br>MMM_Close: 0.27<br>GIS_Close: 0.24<br>GE_Close: 0.11<br>UNH_Close: 0.10<br>TSLA_Close: 0.27",
          "Return: 19.40%<br>Volatility: 0.10<br>REGN_Close: 0.03<br>META_Close: 0.22<br>SAP_Close: 0.32<br>JNJ_Close: 0.16<br>NKE_Close: 0.27",
          "Return: 30.91%<br>Volatility: 0.12<br>PM_Close: 0.12<br>LMT_Close: 0.26<br>GOOGL_Close: 0.29<br>GOOG_Close: 0.12<br>PYPL_Close: 0.21",
          "Return: 24.33%<br>Volatility: 0.18<br>ABBV_Close: 0.01<br>TXN_Close: 0.29<br>SRE_Close: 0.12<br>VZ_Close: 0.14<br>TSLA_Close: 0.44",
          "Return: 18.66%<br>Volatility: 0.09<br>AMZN_Close: 0.12<br>AAPL_Close: 0.17<br>ABT_Close: 0.18<br>VZ_Close: 0.33<br>LLY_Close: 0.20",
          "Return: 16.34%<br>Volatility: 0.10<br>F_Close: 0.29<br>BSX_Close: 0.25<br>BIIB_Close: 0.01<br>LLY_Close: 0.17<br>ABBV_Close: 0.27",
          "Return: 17.66%<br>Volatility: 0.10<br>MA_Close: 0.22<br>BMY_Close: 0.21<br>TXN_Close: 0.12<br>GILD_Close: 0.30<br>DUK_Close: 0.15",
          "Return: 7.37%<br>Volatility: 0.07<br>PG_Close: 0.29<br>XOM_Close: 0.22<br>EMR_Close: 0.20<br>BMY_Close: 0.21<br>MRK_Close: 0.07",
          "Return: -9.17%<br>Volatility: 0.13<br>PEP_Close: 0.09<br>SRE_Close: 0.38<br>NEE_Close: 0.04<br>CPB_Close: 0.49<br>ABBV_Close: 0.00",
          "Return: 8.09%<br>Volatility: 0.12<br>GS_Close: 0.33<br>CRM_Close: 0.08<br>ORCL_Close: 0.14<br>COST_Close: 0.13<br>GILD_Close: 0.32",
          "Return: 6.98%<br>Volatility: 0.08<br>PEP_Close: 0.38<br>EXC_Close: 0.06<br>GS_Close: 0.28<br>JPM_Close: 0.05<br>SO_Close: 0.24",
          "Return: 20.07%<br>Volatility: 0.09<br>GIS_Close: 0.12<br>CRM_Close: 0.21<br>GOOG_Close: 0.24<br>MMM_Close: 0.29<br>PM_Close: 0.13",
          "Return: 15.42%<br>Volatility: 0.11<br>AMZN_Close: 0.24<br>T_Close: 0.02<br>GOOGL_Close: 0.26<br>GIS_Close: 0.32<br>MO_Close: 0.16",
          "Return: 6.66%<br>Volatility: 0.11<br>MS_Close: 0.21<br>DIS_Close: 0.11<br>QCOM_Close: 0.16<br>REGN_Close: 0.10<br>MDT_Close: 0.42",
          "Return: 13.77%<br>Volatility: 0.08<br>BAC_Close: 0.13<br>MCD_Close: 0.12<br>ETN_Close: 0.18<br>CVX_Close: 0.29<br>SO_Close: 0.28",
          "Return: 3.55%<br>Volatility: 0.10<br>META_Close: 0.33<br>VZ_Close: 0.30<br>GE_Close: 0.19<br>COST_Close: 0.16<br>ABT_Close: 0.01",
          "Return: 19.59%<br>Volatility: 0.09<br>SYK_Close: 0.05<br>ORCL_Close: 0.31<br>EMR_Close: 0.21<br>SYY_Close: 0.10<br>HON_Close: 0.33",
          "Return: 5.98%<br>Volatility: 0.14<br>RDY_Close: 0.15<br>MO_Close: 0.29<br>SNAP_Close: 0.14<br>ISRG_Close: 0.31<br>AAPL_Close: 0.11",
          "Return: 25.61%<br>Volatility: 0.09<br>WMT_Close: 0.01<br>VZ_Close: 0.13<br>MSFT_Close: 0.31<br>JPM_Close: 0.24<br>LMT_Close: 0.32",
          "Return: 9.50%<br>Volatility: 0.11<br>CSCO_Close: 0.03<br>RMD_Close: 0.04<br>PG_Close: 0.36<br>BIIB_Close: 0.34<br>GM_Close: 0.23",
          "Return: 21.84%<br>Volatility: 0.08<br>CSCO_Close: 0.31<br>TMO_Close: 0.11<br>DE_Close: 0.11<br>MSFT_Close: 0.11<br>AEP_Close: 0.36",
          "Return: 18.95%<br>Volatility: 0.09<br>UNH_Close: 0.11<br>MMM_Close: 0.27<br>TXN_Close: 0.22<br>BSX_Close: 0.14<br>AMGN_Close: 0.27",
          "Return: 18.02%<br>Volatility: 0.09<br>XOM_Close: 0.23<br>DIS_Close: 0.04<br>V_Close: 0.22<br>ADBE_Close: 0.21<br>F_Close: 0.30",
          "Return: 16.61%<br>Volatility: 0.09<br>SRE_Close: 0.30<br>ISRG_Close: 0.31<br>ZBH_Close: 0.05<br>LLY_Close: 0.03<br>DUK_Close: 0.30",
          "Return: 21.52%<br>Volatility: 0.11<br>GIS_Close: 0.21<br>F_Close: 0.07<br>MSFT_Close: 0.29<br>RMD_Close: 0.31<br>MA_Close: 0.12",
          "Return: 19.44%<br>Volatility: 0.11<br>BSX_Close: 0.25<br>ISRG_Close: 0.11<br>CRM_Close: 0.49<br>KO_Close: 0.15<br>UNH_Close: 0.00",
          "Return: 30.17%<br>Volatility: 0.12<br>HON_Close: 0.17<br>ISRG_Close: 0.11<br>ABBV_Close: 0.24<br>COST_Close: 0.13<br>QCOM_Close: 0.35",
          "Return: 30.59%<br>Volatility: 0.14<br>NVDA_Close: 0.23<br>GM_Close: 0.37<br>MA_Close: 0.11<br>PFE_Close: 0.17<br>XOM_Close: 0.11",
          "Return: 18.57%<br>Volatility: 0.13<br>GOOG_Close: 0.15<br>REGN_Close: 0.22<br>AMZN_Close: 0.21<br>RMD_Close: 0.31<br>GIS_Close: 0.11",
          "Return: 17.68%<br>Volatility: 0.12<br>RTX_Close: 0.09<br>SNAP_Close: 0.02<br>BMY_Close: 0.57<br>PYPL_Close: 0.01<br>HD_Close: 0.32",
          "Return: 14.90%<br>Volatility: 0.15<br>RDY_Close: 0.34<br>CRM_Close: 0.34<br>MSFT_Close: 0.23<br>ORCL_Close: 0.08<br>BABA_Close: 0.02",
          "Return: 14.41%<br>Volatility: 0.10<br>INTC_Close: 0.40<br>GM_Close: 0.22<br>WFC_Close: 0.21<br>EXC_Close: 0.10<br>GE_Close: 0.07",
          "Return: 15.03%<br>Volatility: 0.10<br>BMY_Close: 0.27<br>BIIB_Close: 0.08<br>UNH_Close: 0.31<br>PM_Close: 0.31<br>VZ_Close: 0.02",
          "Return: -0.42%<br>Volatility: 0.15<br>UA_Close: 0.29<br>PFE_Close: 0.11<br>RTX_Close: 0.36<br>DHR_Close: 0.11<br>GOOG_Close: 0.14",
          "Return: 27.16%<br>Volatility: 0.11<br>AAPL_Close: 0.01<br>CVX_Close: 0.20<br>ZBH_Close: 0.23<br>SYK_Close: 0.29<br>BABA_Close: 0.27",
          "Return: 8.20%<br>Volatility: 0.10<br>MA_Close: 0.20<br>K_Close: 0.27<br>ETN_Close: 0.21<br>NKE_Close: 0.04<br>AMGN_Close: 0.28",
          "Return: 15.22%<br>Volatility: 0.12<br>GM_Close: 0.09<br>LMT_Close: 0.25<br>MS_Close: 0.21<br>NKE_Close: 0.39<br>GIS_Close: 0.06",
          "Return: 29.59%<br>Volatility: 0.13<br>KO_Close: 0.15<br>AMZN_Close: 0.31<br>MMM_Close: 0.11<br>INTC_Close: 0.21<br>TSLA_Close: 0.22",
          "Return: 15.41%<br>Volatility: 0.12<br>HD_Close: 0.28<br>CSCO_Close: 0.13<br>RDY_Close: 0.28<br>JNJ_Close: 0.02<br>CRM_Close: 0.28",
          "Return: 4.89%<br>Volatility: 0.20<br>SAP_Close: 0.11<br>REGN_Close: 0.11<br>MDT_Close: 0.22<br>AMZN_Close: 0.30<br>AMD_Close: 0.26",
          "Return: -1.97%<br>Volatility: 0.20<br>BIIB_Close: 0.05<br>EW_Close: 0.00<br>CMCSA_Close: 0.47<br>SYY_Close: 0.19<br>AMD_Close: 0.29",
          "Return: 0.15%<br>Volatility: 0.12<br>CPB_Close: 0.28<br>PG_Close: 0.15<br>DE_Close: 0.11<br>GS_Close: 0.45<br>CMCSA_Close: 0.01",
          "Return: 10.80%<br>Volatility: 0.17<br>GOOGL_Close: 0.01<br>F_Close: 0.11<br>MO_Close: 0.15<br>TSLA_Close: 0.41<br>PM_Close: 0.32",
          "Return: 31.61%<br>Volatility: 0.12<br>GIS_Close: 0.22<br>CMCSA_Close: 0.22<br>ABBV_Close: 0.22<br>NFLX_Close: 0.23<br>NVDA_Close: 0.11",
          "Return: 32.08%<br>Volatility: 0.12<br>CVX_Close: 0.34<br>BAC_Close: 0.35<br>BA_Close: 0.09<br>PYPL_Close: 0.21<br>WMT_Close: 0.01",
          "Return: 9.76%<br>Volatility: 0.09<br>UNH_Close: 0.18<br>EMR_Close: 0.30<br>MDT_Close: 0.24<br>AMGN_Close: 0.09<br>MRK_Close: 0.18",
          "Return: 25.13%<br>Volatility: 0.09<br>TXN_Close: 0.26<br>CVX_Close: 0.20<br>ABT_Close: 0.34<br>GILD_Close: 0.18<br>CAT_Close: 0.03",
          "Return: 33.79%<br>Volatility: 0.13<br>GOOG_Close: 0.56<br>MO_Close: 0.09<br>BTI_Close: 0.04<br>BABA_Close: 0.17<br>ABBV_Close: 0.14",
          "Return: -32.12%<br>Volatility: 0.30<br>HD_Close: 0.05<br>GE_Close: 0.32<br>AAPL_Close: 0.12<br>AMD_Close: 0.49<br>UNH_Close: 0.02",
          "Return: 18.43%<br>Volatility: 0.11<br>NEE_Close: 0.21<br>NFLX_Close: 0.17<br>AMGN_Close: 0.38<br>RMD_Close: 0.07<br>INTC_Close: 0.17",
          "Return: 15.71%<br>Volatility: 0.09<br>HD_Close: 0.07<br>WFC_Close: 0.28<br>GOOGL_Close: 0.34<br>LLY_Close: 0.21<br>JPM_Close: 0.11",
          "Return: 31.89%<br>Volatility: 0.15<br>TXN_Close: 0.16<br>NVDA_Close: 0.22<br>DUK_Close: 0.15<br>TSLA_Close: 0.10<br>ETN_Close: 0.38",
          "Return: 13.62%<br>Volatility: 0.09<br>EXC_Close: 0.30<br>T_Close: 0.41<br>ABBV_Close: 0.12<br>LMT_Close: 0.14<br>AMZN_Close: 0.04",
          "Return: 22.24%<br>Volatility: 0.10<br>WFC_Close: 0.06<br>PFE_Close: 0.34<br>ABBV_Close: 0.25<br>EW_Close: 0.04<br>GM_Close: 0.31",
          "Return: -9.45%<br>Volatility: 0.10<br>ETN_Close: 0.33<br>CSCO_Close: 0.10<br>LLY_Close: 0.14<br>GE_Close: 0.29<br>AEP_Close: 0.14",
          "Return: 21.94%<br>Volatility: 0.12<br>ADBE_Close: 0.09<br>BIIB_Close: 0.26<br>CMCSA_Close: 0.06<br>RMD_Close: 0.26<br>ABT_Close: 0.33",
          "Return: 24.07%<br>Volatility: 0.09<br>ETN_Close: 0.12<br>JNJ_Close: 0.23<br>TXN_Close: 0.27<br>WMT_Close: 0.13<br>VZ_Close: 0.24",
          "Return: 24.76%<br>Volatility: 0.10<br>DE_Close: 0.20<br>SYY_Close: 0.28<br>CPB_Close: 0.10<br>ABBV_Close: 0.19<br>BTI_Close: 0.24",
          "Return: 11.11%<br>Volatility: 0.12<br>VRTX_Close: 0.14<br>DHR_Close: 0.35<br>AAPL_Close: 0.17<br>CPB_Close: 0.30<br>PYPL_Close: 0.03",
          "Return: 10.75%<br>Volatility: 0.14<br>CMCSA_Close: 0.04<br>TSLA_Close: 0.33<br>CPB_Close: 0.13<br>F_Close: 0.28<br>JNJ_Close: 0.23",
          "Return: 25.89%<br>Volatility: 0.13<br>EMR_Close: 0.22<br>CSCO_Close: 0.26<br>HON_Close: 0.21<br>NFLX_Close: 0.28<br>ISRG_Close: 0.03",
          "Return: 15.59%<br>Volatility: 0.09<br>CRM_Close: 0.24<br>ORCL_Close: 0.21<br>HON_Close: 0.17<br>DIS_Close: 0.21<br>CSCO_Close: 0.18",
          "Return: 17.77%<br>Volatility: 0.09<br>HON_Close: 0.32<br>MDT_Close: 0.19<br>K_Close: 0.22<br>CAT_Close: 0.09<br>INTC_Close: 0.19",
          "Return: 15.48%<br>Volatility: 0.10<br>EXC_Close: 0.11<br>ORCL_Close: 0.28<br>RTX_Close: 0.06<br>RMD_Close: 0.29<br>KO_Close: 0.26",
          "Return: 13.84%<br>Volatility: 0.08<br>MS_Close: 0.25<br>ABT_Close: 0.19<br>LLY_Close: 0.24<br>CRM_Close: 0.13<br>SO_Close: 0.18",
          "Return: 24.00%<br>Volatility: 0.09<br>PYPL_Close: 0.18<br>TMO_Close: 0.17<br>PFE_Close: 0.27<br>AAPL_Close: 0.13<br>EXC_Close: 0.26",
          "Return: 26.31%<br>Volatility: 0.10<br>EMR_Close: 0.25<br>ISRG_Close: 0.22<br>AAPL_Close: 0.24<br>META_Close: 0.07<br>EXC_Close: 0.22",
          "Return: 31.89%<br>Volatility: 0.09<br>BTI_Close: 0.22<br>ABBV_Close: 0.05<br>MMM_Close: 0.24<br>CAT_Close: 0.13<br>HD_Close: 0.35",
          "Return: -2.99%<br>Volatility: 0.12<br>ADBE_Close: 0.10<br>GE_Close: 0.25<br>MDT_Close: 0.43<br>V_Close: 0.02<br>NFLX_Close: 0.19",
          "Return: 12.91%<br>Volatility: 0.10<br>AEP_Close: 0.16<br>SYK_Close: 0.30<br>QCOM_Close: 0.26<br>JPM_Close: 0.05<br>K_Close: 0.22",
          "Return: 17.48%<br>Volatility: 0.09<br>SRE_Close: 0.37<br>CRM_Close: 0.23<br>META_Close: 0.05<br>ABBV_Close: 0.19<br>MO_Close: 0.16",
          "Return: 22.94%<br>Volatility: 0.11<br>CRM_Close: 0.10<br>NVDA_Close: 0.19<br>SRE_Close: 0.32<br>GILD_Close: 0.12<br>RTX_Close: 0.28",
          "Return: 13.46%<br>Volatility: 0.09<br>SYY_Close: 0.20<br>AAPL_Close: 0.20<br>BTI_Close: 0.24<br>SO_Close: 0.28<br>MMM_Close: 0.08",
          "Return: 26.89%<br>Volatility: 0.12<br>CVX_Close: 0.12<br>BTI_Close: 0.27<br>META_Close: 0.20<br>REGN_Close: 0.17<br>PYPL_Close: 0.24",
          "Return: 31.24%<br>Volatility: 0.11<br>EW_Close: 0.28<br>TXN_Close: 0.20<br>BA_Close: 0.20<br>MMM_Close: 0.23<br>KR_Close: 0.09",
          "Return: 22.56%<br>Volatility: 0.10<br>UNH_Close: 0.10<br>DHR_Close: 0.43<br>TXN_Close: 0.36<br>BSX_Close: 0.04<br>ACN_Close: 0.07",
          "Return: 7.22%<br>Volatility: 0.09<br>TMO_Close: 0.03<br>PG_Close: 0.26<br>REGN_Close: 0.13<br>PFE_Close: 0.32<br>CMCSA_Close: 0.26",
          "Return: -0.13%<br>Volatility: 0.14<br>MCD_Close: 0.28<br>UA_Close: 0.20<br>GS_Close: 0.29<br>MDT_Close: 0.14<br>AMD_Close: 0.09",
          "Return: 0.80%<br>Volatility: 0.10<br>BMY_Close: 0.02<br>GS_Close: 0.22<br>T_Close: 0.08<br>MO_Close: 0.39<br>LLY_Close: 0.29",
          "Return: 20.74%<br>Volatility: 0.08<br>SO_Close: 0.21<br>BMY_Close: 0.19<br>DIS_Close: 0.16<br>NEE_Close: 0.23<br>PYPL_Close: 0.21",
          "Return: 10.25%<br>Volatility: 0.10<br>META_Close: 0.02<br>JPM_Close: 0.21<br>MDT_Close: 0.44<br>GIS_Close: 0.02<br>CSCO_Close: 0.31",
          "Return: 22.77%<br>Volatility: 0.08<br>MCD_Close: 0.27<br>SO_Close: 0.18<br>CRM_Close: 0.29<br>RTX_Close: 0.10<br>LMT_Close: 0.17",
          "Return: 28.82%<br>Volatility: 0.12<br>MCD_Close: 0.15<br>RMD_Close: 0.29<br>META_Close: 0.35<br>TXN_Close: 0.17<br>BMY_Close: 0.05",
          "Return: 25.34%<br>Volatility: 0.11<br>JNJ_Close: 0.03<br>MSFT_Close: 0.31<br>ACN_Close: 0.10<br>BMY_Close: 0.29<br>GOOG_Close: 0.27",
          "Return: -4.20%<br>Volatility: 0.11<br>MRK_Close: 0.64<br>COST_Close: 0.09<br>AMD_Close: 0.03<br>TMO_Close: 0.03<br>HON_Close: 0.22",
          "Return: 12.48%<br>Volatility: 0.09<br>DHR_Close: 0.10<br>MCD_Close: 0.22<br>F_Close: 0.17<br>K_Close: 0.27<br>SYK_Close: 0.24",
          "Return: 11.83%<br>Volatility: 0.13<br>GS_Close: 0.13<br>ORCL_Close: 0.23<br>INTC_Close: 0.20<br>BAC_Close: 0.22<br>RDY_Close: 0.21",
          "Return: 39.20%<br>Volatility: 0.12<br>GM_Close: 0.18<br>VRTX_Close: 0.23<br>ABBV_Close: 0.24<br>MCD_Close: 0.24<br>LLY_Close: 0.11",
          "Return: 20.54%<br>Volatility: 0.11<br>ABBV_Close: 0.22<br>QCOM_Close: 0.23<br>KR_Close: 0.13<br>CMCSA_Close: 0.20<br>RTX_Close: 0.22",
          "Return: 16.11%<br>Volatility: 0.09<br>BAC_Close: 0.19<br>PG_Close: 0.23<br>ZBH_Close: 0.18<br>TXN_Close: 0.21<br>CVX_Close: 0.19",
          "Return: -11.64%<br>Volatility: 0.23<br>GM_Close: 0.16<br>SNAP_Close: 0.29<br>ABBV_Close: 0.17<br>UA_Close: 0.22<br>SAP_Close: 0.16",
          "Return: 17.18%<br>Volatility: 0.14<br>NFLX_Close: 0.34<br>SNAP_Close: 0.01<br>MSFT_Close: 0.31<br>GE_Close: 0.14<br>CMCSA_Close: 0.21",
          "Return: 27.09%<br>Volatility: 0.17<br>QCOM_Close: 0.05<br>RDY_Close: 0.09<br>BAC_Close: 0.31<br>NFLX_Close: 0.47<br>UNH_Close: 0.09",
          "Return: 35.60%<br>Volatility: 0.13<br>AMZN_Close: 0.11<br>MSFT_Close: 0.61<br>SRE_Close: 0.05<br>ISRG_Close: 0.19<br>WFC_Close: 0.05",
          "Return: 16.13%<br>Volatility: 0.13<br>ETN_Close: 0.07<br>K_Close: 0.08<br>GM_Close: 0.31<br>QCOM_Close: 0.25<br>EW_Close: 0.29",
          "Return: 17.30%<br>Volatility: 0.11<br>CMCSA_Close: 0.18<br>GS_Close: 0.03<br>BAC_Close: 0.27<br>GOOGL_Close: 0.29<br>BTI_Close: 0.24",
          "Return: 21.92%<br>Volatility: 0.15<br>AEP_Close: 0.07<br>TSLA_Close: 0.34<br>WFC_Close: 0.06<br>PEP_Close: 0.46<br>NVDA_Close: 0.07",
          "Return: 22.70%<br>Volatility: 0.09<br>PYPL_Close: 0.29<br>AEP_Close: 0.31<br>MRK_Close: 0.16<br>T_Close: 0.19<br>ISRG_Close: 0.04",
          "Return: 20.39%<br>Volatility: 0.10<br>LMT_Close: 0.08<br>GIS_Close: 0.38<br>GOOGL_Close: 0.26<br>ABBV_Close: 0.20<br>ETN_Close: 0.09",
          "Return: 50.72%<br>Volatility: 0.12<br>ABBV_Close: 0.33<br>AMD_Close: 0.00<br>BABA_Close: 0.27<br>BA_Close: 0.17<br>ACN_Close: 0.23",
          "Return: -10.47%<br>Volatility: 0.24<br>SNAP_Close: 0.35<br>SYK_Close: 0.12<br>AMZN_Close: 0.10<br>VZ_Close: 0.43<br>SRE_Close: 0.00",
          "Return: 30.75%<br>Volatility: 0.15<br>ETN_Close: 0.16<br>ACN_Close: 0.19<br>NFLX_Close: 0.37<br>TXN_Close: 0.17<br>GOOGL_Close: 0.11",
          "Return: 15.34%<br>Volatility: 0.10<br>EXC_Close: 0.09<br>INTC_Close: 0.22<br>MO_Close: 0.19<br>K_Close: 0.26<br>WMT_Close: 0.23",
          "Return: 8.84%<br>Volatility: 0.08<br>SO_Close: 0.22<br>XOM_Close: 0.19<br>MS_Close: 0.16<br>K_Close: 0.17<br>MMM_Close: 0.26",
          "Return: 19.74%<br>Volatility: 0.11<br>T_Close: 0.35<br>GOOGL_Close: 0.00<br>CMCSA_Close: 0.24<br>K_Close: 0.00<br>ISRG_Close: 0.40",
          "Return: -4.65%<br>Volatility: 0.10<br>VZ_Close: 0.36<br>PM_Close: 0.20<br>AMGN_Close: 0.28<br>GS_Close: 0.02<br>GE_Close: 0.14",
          "Return: 18.45%<br>Volatility: 0.09<br>ABT_Close: 0.21<br>EW_Close: 0.11<br>COST_Close: 0.10<br>KO_Close: 0.29<br>MS_Close: 0.28",
          "Return: 26.47%<br>Volatility: 0.11<br>INTC_Close: 0.12<br>BIIB_Close: 0.30<br>JNJ_Close: 0.04<br>BA_Close: 0.26<br>ORCL_Close: 0.28",
          "Return: 24.22%<br>Volatility: 0.10<br>ABT_Close: 0.23<br>DE_Close: 0.14<br>MDT_Close: 0.21<br>PYPL_Close: 0.17<br>GIS_Close: 0.24",
          "Return: 19.55%<br>Volatility: 0.09<br>LMT_Close: 0.14<br>JNJ_Close: 0.31<br>MRK_Close: 0.09<br>META_Close: 0.34<br>CSCO_Close: 0.12",
          "Return: 25.55%<br>Volatility: 0.10<br>NKE_Close: 0.20<br>MCD_Close: 0.18<br>PYPL_Close: 0.23<br>K_Close: 0.30<br>ISRG_Close: 0.09",
          "Return: 16.93%<br>Volatility: 0.09<br>TXN_Close: 0.16<br>XOM_Close: 0.25<br>KR_Close: 0.11<br>PG_Close: 0.25<br>ADBE_Close: 0.23",
          "Return: 15.35%<br>Volatility: 0.10<br>EW_Close: 0.10<br>EXC_Close: 0.25<br>CSCO_Close: 0.11<br>CRM_Close: 0.26<br>GILD_Close: 0.27",
          "Return: 23.25%<br>Volatility: 0.09<br>V_Close: 0.10<br>HON_Close: 0.28<br>SAP_Close: 0.19<br>AAPL_Close: 0.27<br>EXC_Close: 0.15",
          "Return: 20.97%<br>Volatility: 0.09<br>WMT_Close: 0.23<br>LLY_Close: 0.25<br>MSFT_Close: 0.23<br>BSX_Close: 0.20<br>RMD_Close: 0.09",
          "Return: 1.71%<br>Volatility: 0.19<br>NVDA_Close: 0.05<br>NFLX_Close: 0.14<br>BMY_Close: 0.23<br>DIS_Close: 0.32<br>AMD_Close: 0.27",
          "Return: 14.29%<br>Volatility: 0.10<br>ADBE_Close: 0.02<br>HD_Close: 0.37<br>NEE_Close: 0.19<br>MDT_Close: 0.16<br>RDY_Close: 0.26",
          "Return: 19.02%<br>Volatility: 0.10<br>HD_Close: 0.32<br>GILD_Close: 0.11<br>GS_Close: 0.31<br>LMT_Close: 0.08<br>ABT_Close: 0.18",
          "Return: 22.66%<br>Volatility: 0.09<br>BSX_Close: 0.19<br>T_Close: 0.11<br>ISRG_Close: 0.24<br>LMT_Close: 0.24<br>MMM_Close: 0.22",
          "Return: 14.46%<br>Volatility: 0.09<br>BSX_Close: 0.18<br>UNH_Close: 0.23<br>COST_Close: 0.34<br>XOM_Close: 0.17<br>ACN_Close: 0.07",
          "Return: 14.46%<br>Volatility: 0.10<br>SYY_Close: 0.35<br>DHR_Close: 0.16<br>ZBH_Close: 0.14<br>CRM_Close: 0.07<br>GM_Close: 0.28",
          "Return: 6.40%<br>Volatility: 0.08<br>MS_Close: 0.13<br>LMT_Close: 0.20<br>LLY_Close: 0.17<br>IBM_Close: 0.10<br>SRE_Close: 0.40",
          "Return: 23.10%<br>Volatility: 0.08<br>AEP_Close: 0.37<br>SAP_Close: 0.16<br>HON_Close: 0.10<br>ABBV_Close: 0.16<br>ETN_Close: 0.21",
          "Return: 23.64%<br>Volatility: 0.09<br>RTX_Close: 0.30<br>JNJ_Close: 0.23<br>K_Close: 0.07<br>AMZN_Close: 0.16<br>MA_Close: 0.25",
          "Return: 17.04%<br>Volatility: 0.09<br>LMT_Close: 0.22<br>ABBV_Close: 0.13<br>NKE_Close: 0.32<br>IBM_Close: 0.17<br>NEE_Close: 0.16",
          "Return: 27.73%<br>Volatility: 0.15<br>MS_Close: 0.13<br>AAPL_Close: 0.19<br>K_Close: 0.21<br>CVX_Close: 0.14<br>VRTX_Close: 0.33",
          "Return: 24.57%<br>Volatility: 0.11<br>CPB_Close: 0.23<br>MCD_Close: 0.22<br>ADBE_Close: 0.24<br>AAPL_Close: 0.16<br>ISRG_Close: 0.14",
          "Return: -4.06%<br>Volatility: 0.11<br>GM_Close: 0.44<br>MDT_Close: 0.12<br>GE_Close: 0.20<br>T_Close: 0.09<br>AEP_Close: 0.15",
          "Return: -2.27%<br>Volatility: 0.10<br>RDY_Close: 0.09<br>ORCL_Close: 0.06<br>MRK_Close: 0.26<br>ZBH_Close: 0.26<br>F_Close: 0.34",
          "Return: 14.00%<br>Volatility: 0.08<br>PEP_Close: 0.01<br>BMY_Close: 0.01<br>DIS_Close: 0.29<br>HON_Close: 0.37<br>CVX_Close: 0.32",
          "Return: 28.00%<br>Volatility: 0.10<br>KO_Close: 0.42<br>AMZN_Close: 0.09<br>BSX_Close: 0.06<br>ISRG_Close: 0.40<br>GM_Close: 0.02",
          "Return: 23.18%<br>Volatility: 0.12<br>V_Close: 0.18<br>K_Close: 0.16<br>EW_Close: 0.36<br>IBM_Close: 0.01<br>TXN_Close: 0.30",
          "Return: 19.78%<br>Volatility: 0.12<br>BIIB_Close: 0.34<br>HD_Close: 0.22<br>MA_Close: 0.08<br>EMR_Close: 0.34<br>CPB_Close: 0.02",
          "Return: -0.54%<br>Volatility: 0.11<br>PEP_Close: 0.26<br>UA_Close: 0.19<br>NFLX_Close: 0.09<br>WFC_Close: 0.16<br>PM_Close: 0.30",
          "Return: 16.75%<br>Volatility: 0.15<br>CAT_Close: 0.33<br>UA_Close: 0.25<br>PM_Close: 0.12<br>RMD_Close: 0.24<br>GOOG_Close: 0.05",
          "Return: -0.67%<br>Volatility: 0.14<br>RTX_Close: 0.13<br>VRTX_Close: 0.18<br>BAC_Close: 0.31<br>KR_Close: 0.07<br>GE_Close: 0.31",
          "Return: 17.73%<br>Volatility: 0.12<br>TMO_Close: 0.33<br>ETN_Close: 0.23<br>RMD_Close: 0.31<br>RDY_Close: 0.05<br>SYK_Close: 0.09",
          "Return: 2.32%<br>Volatility: 0.11<br>GM_Close: 0.14<br>EW_Close: 0.03<br>BSX_Close: 0.35<br>AMGN_Close: 0.44<br>SO_Close: 0.04",
          "Return: 10.20%<br>Volatility: 0.10<br>EMR_Close: 0.26<br>BSX_Close: 0.27<br>MO_Close: 0.16<br>MMM_Close: 0.05<br>CSCO_Close: 0.26",
          "Return: 17.97%<br>Volatility: 0.09<br>CPB_Close: 0.18<br>BA_Close: 0.26<br>VZ_Close: 0.18<br>ZBH_Close: 0.13<br>JNJ_Close: 0.26",
          "Return: 14.86%<br>Volatility: 0.13<br>ABBV_Close: 0.22<br>EXC_Close: 0.20<br>BA_Close: 0.10<br>UA_Close: 0.24<br>SYY_Close: 0.24",
          "Return: 5.66%<br>Volatility: 0.10<br>CPB_Close: 0.30<br>PM_Close: 0.19<br>JNJ_Close: 0.17<br>HON_Close: 0.23<br>MSFT_Close: 0.11",
          "Return: 42.30%<br>Volatility: 0.18<br>NVDA_Close: 0.39<br>SYK_Close: 0.37<br>BTI_Close: 0.05<br>BAC_Close: 0.10<br>AMGN_Close: 0.09",
          "Return: 17.16%<br>Volatility: 0.10<br>LLY_Close: 0.22<br>QCOM_Close: 0.14<br>GIS_Close: 0.42<br>NFLX_Close: 0.01<br>PYPL_Close: 0.20",
          "Return: 11.56%<br>Volatility: 0.12<br>JNJ_Close: 0.07<br>KR_Close: 0.24<br>GIS_Close: 0.15<br>SYK_Close: 0.17<br>HON_Close: 0.37",
          "Return: 16.16%<br>Volatility: 0.13<br>CVX_Close: 0.11<br>ACN_Close: 0.30<br>ABBV_Close: 0.11<br>KR_Close: 0.31<br>NEE_Close: 0.16",
          "Return: 24.97%<br>Volatility: 0.09<br>VRTX_Close: 0.02<br>V_Close: 0.41<br>EXC_Close: 0.31<br>ABT_Close: 0.16<br>GOOGL_Close: 0.09",
          "Return: 14.74%<br>Volatility: 0.17<br>COST_Close: 0.14<br>GOOG_Close: 0.02<br>PEP_Close: 0.18<br>REGN_Close: 0.27<br>TSLA_Close: 0.39",
          "Return: 25.12%<br>Volatility: 0.09<br>ETN_Close: 0.20<br>ABT_Close: 0.24<br>INTC_Close: 0.16<br>EMR_Close: 0.22<br>HD_Close: 0.18",
          "Return: 17.45%<br>Volatility: 0.12<br>JPM_Close: 0.16<br>QCOM_Close: 0.37<br>DHR_Close: 0.03<br>PYPL_Close: 0.09<br>ZBH_Close: 0.35",
          "Return: 21.39%<br>Volatility: 0.10<br>IBM_Close: 0.17<br>ORCL_Close: 0.13<br>MMM_Close: 0.33<br>BABA_Close: 0.22<br>MO_Close: 0.15",
          "Return: 3.59%<br>Volatility: 0.12<br>RDY_Close: 0.21<br>INTC_Close: 0.26<br>ETN_Close: 0.24<br>KR_Close: 0.12<br>CPB_Close: 0.18",
          "Return: 15.15%<br>Volatility: 0.08<br>PG_Close: 0.26<br>WMT_Close: 0.19<br>MDT_Close: 0.31<br>AMZN_Close: 0.08<br>CSCO_Close: 0.16",
          "Return: 15.74%<br>Volatility: 0.12<br>ETN_Close: 0.24<br>QCOM_Close: 0.28<br>SYY_Close: 0.01<br>DHR_Close: 0.42<br>PYPL_Close: 0.05",
          "Return: 11.26%<br>Volatility: 0.09<br>PM_Close: 0.05<br>RTX_Close: 0.49<br>K_Close: 0.17<br>F_Close: 0.03<br>JNJ_Close: 0.26",
          "Return: 27.31%<br>Volatility: 0.11<br>AAPL_Close: 0.02<br>BABA_Close: 0.35<br>DUK_Close: 0.10<br>PEP_Close: 0.35<br>PM_Close: 0.18",
          "Return: 22.08%<br>Volatility: 0.15<br>V_Close: 0.14<br>MDT_Close: 0.28<br>UA_Close: 0.09<br>VRTX_Close: 0.31<br>KO_Close: 0.18",
          "Return: 16.05%<br>Volatility: 0.07<br>EXC_Close: 0.34<br>PEP_Close: 0.30<br>V_Close: 0.10<br>WFC_Close: 0.16<br>TXN_Close: 0.10",
          "Return: 37.15%<br>Volatility: 0.11<br>MSFT_Close: 0.27<br>INTC_Close: 0.04<br>MCD_Close: 0.18<br>COST_Close: 0.09<br>WMT_Close: 0.42",
          "Return: 24.03%<br>Volatility: 0.10<br>ETN_Close: 0.23<br>GOOG_Close: 0.05<br>COST_Close: 0.22<br>INTC_Close: 0.27<br>UNH_Close: 0.24",
          "Return: 19.19%<br>Volatility: 0.09<br>ABBV_Close: 0.16<br>PG_Close: 0.23<br>EW_Close: 0.05<br>CVX_Close: 0.56<br>TMO_Close: 0.01",
          "Return: 10.63%<br>Volatility: 0.13<br>UA_Close: 0.19<br>MA_Close: 0.13<br>RDY_Close: 0.19<br>PEP_Close: 0.09<br>MCD_Close: 0.40",
          "Return: 16.73%<br>Volatility: 0.11<br>JPM_Close: 0.33<br>DUK_Close: 0.11<br>QCOM_Close: 0.34<br>CRM_Close: 0.07<br>DHR_Close: 0.15",
          "Return: 13.27%<br>Volatility: 0.09<br>HON_Close: 0.03<br>BSX_Close: 0.26<br>ACN_Close: 0.03<br>PFE_Close: 0.37<br>MMM_Close: 0.30",
          "Return: -9.09%<br>Volatility: 0.20<br>AMD_Close: 0.29<br>ABT_Close: 0.12<br>MO_Close: 0.38<br>GE_Close: 0.02<br>PM_Close: 0.19",
          "Return: 1.92%<br>Volatility: 0.08<br>DIS_Close: 0.16<br>SO_Close: 0.37<br>GS_Close: 0.27<br>MCD_Close: 0.04<br>F_Close: 0.16",
          "Return: 19.89%<br>Volatility: 0.11<br>DHR_Close: 0.03<br>MCD_Close: 0.35<br>PEP_Close: 0.03<br>COST_Close: 0.26<br>CMCSA_Close: 0.33",
          "Return: 17.84%<br>Volatility: 0.12<br>BAC_Close: 0.37<br>ABBV_Close: 0.06<br>IBM_Close: 0.30<br>CAT_Close: 0.16<br>ETN_Close: 0.11",
          "Return: 22.23%<br>Volatility: 0.09<br>AEP_Close: 0.29<br>EMR_Close: 0.19<br>BA_Close: 0.28<br>CPB_Close: 0.16<br>CVX_Close: 0.07",
          "Return: 23.55%<br>Volatility: 0.10<br>T_Close: 0.25<br>V_Close: 0.23<br>GOOG_Close: 0.14<br>ADBE_Close: 0.22<br>BAC_Close: 0.16",
          "Return: 1.49%<br>Volatility: 0.11<br>ABBV_Close: 0.23<br>MMM_Close: 0.19<br>BMY_Close: 0.20<br>GE_Close: 0.31<br>BIIB_Close: 0.07",
          "Return: 2.80%<br>Volatility: 0.10<br>RTX_Close: 0.13<br>LMT_Close: 0.09<br>PFE_Close: 0.12<br>GE_Close: 0.20<br>TMO_Close: 0.47",
          "Return: 20.83%<br>Volatility: 0.08<br>SYY_Close: 0.21<br>EMR_Close: 0.20<br>MMM_Close: 0.26<br>SO_Close: 0.11<br>CRM_Close: 0.22",
          "Return: 22.27%<br>Volatility: 0.10<br>PYPL_Close: 0.30<br>GOOGL_Close: 0.03<br>IBM_Close: 0.23<br>LMT_Close: 0.18<br>F_Close: 0.25",
          "Return: 22.39%<br>Volatility: 0.12<br>TSLA_Close: 0.21<br>SAP_Close: 0.07<br>SYK_Close: 0.14<br>CSCO_Close: 0.34<br>ABT_Close: 0.24",
          "Return: 24.62%<br>Volatility: 0.09<br>EXC_Close: 0.10<br>TXN_Close: 0.16<br>DE_Close: 0.36<br>SO_Close: 0.33<br>UNH_Close: 0.04",
          "Return: -2.53%<br>Volatility: 0.17<br>DHR_Close: 0.15<br>COST_Close: 0.36<br>GOOGL_Close: 0.08<br>TMO_Close: 0.11<br>UA_Close: 0.29",
          "Return: 14.38%<br>Volatility: 0.11<br>BAC_Close: 0.32<br>TXN_Close: 0.25<br>GIS_Close: 0.03<br>SAP_Close: 0.13<br>MRK_Close: 0.27",
          "Return: 5.24%<br>Volatility: 0.08<br>MMM_Close: 0.04<br>PFE_Close: 0.38<br>REGN_Close: 0.05<br>SRE_Close: 0.38<br>F_Close: 0.16",
          "Return: -0.37%<br>Volatility: 0.07<br>DUK_Close: 0.31<br>MRK_Close: 0.30<br>PG_Close: 0.06<br>JNJ_Close: 0.14<br>DIS_Close: 0.18",
          "Return: 13.85%<br>Volatility: 0.13<br>WMT_Close: 0.05<br>AMD_Close: 0.12<br>SYY_Close: 0.01<br>LLY_Close: 0.46<br>TXN_Close: 0.36",
          "Return: 18.33%<br>Volatility: 0.09<br>JNJ_Close: 0.06<br>GS_Close: 0.13<br>V_Close: 0.30<br>DHR_Close: 0.24<br>JPM_Close: 0.27",
          "Return: 29.98%<br>Volatility: 0.11<br>MSFT_Close: 0.48<br>LLY_Close: 0.08<br>BABA_Close: 0.09<br>K_Close: 0.02<br>EMR_Close: 0.32",
          "Return: 31.18%<br>Volatility: 0.15<br>MMM_Close: 0.12<br>GOOGL_Close: 0.33<br>LLY_Close: 0.19<br>VRTX_Close: 0.28<br>PEP_Close: 0.07",
          "Return: 15.70%<br>Volatility: 0.10<br>ORCL_Close: 0.29<br>NKE_Close: 0.11<br>CMCSA_Close: 0.26<br>WFC_Close: 0.14<br>MCD_Close: 0.19",
          "Return: 13.50%<br>Volatility: 0.07<br>DIS_Close: 0.20<br>UNH_Close: 0.16<br>TMO_Close: 0.15<br>DUK_Close: 0.34<br>SYY_Close: 0.15",
          "Return: 0.73%<br>Volatility: 0.12<br>GE_Close: 0.11<br>NKE_Close: 0.32<br>SO_Close: 0.02<br>BMY_Close: 0.33<br>GS_Close: 0.23",
          "Return: 3.94%<br>Volatility: 0.09<br>PM_Close: 0.32<br>SRE_Close: 0.49<br>BTI_Close: 0.01<br>EMR_Close: 0.16<br>EW_Close: 0.02",
          "Return: 7.36%<br>Volatility: 0.09<br>BSX_Close: 0.12<br>K_Close: 0.31<br>CRM_Close: 0.27<br>PEP_Close: 0.21<br>WFC_Close: 0.09",
          "Return: 18.89%<br>Volatility: 0.09<br>LLY_Close: 0.13<br>V_Close: 0.26<br>EW_Close: 0.21<br>HON_Close: 0.23<br>PM_Close: 0.18",
          "Return: 16.88%<br>Volatility: 0.12<br>NKE_Close: 0.21<br>LLY_Close: 0.06<br>AAPL_Close: 0.33<br>BIIB_Close: 0.32<br>AMZN_Close: 0.07",
          "Return: 28.50%<br>Volatility: 0.15<br>RTX_Close: 0.11<br>REGN_Close: 0.19<br>ADBE_Close: 0.56<br>NEE_Close: 0.00<br>PFE_Close: 0.14",
          "Return: 3.16%<br>Volatility: 0.08<br>SO_Close: 0.32<br>EW_Close: 0.02<br>XOM_Close: 0.56<br>AEP_Close: 0.07<br>REGN_Close: 0.03",
          "Return: 15.10%<br>Volatility: 0.10<br>NFLX_Close: 0.20<br>XOM_Close: 0.25<br>SRE_Close: 0.38<br>ADBE_Close: 0.08<br>V_Close: 0.08",
          "Return: 7.78%<br>Volatility: 0.08<br>PG_Close: 0.33<br>DHR_Close: 0.21<br>HD_Close: 0.14<br>GS_Close: 0.27<br>MRK_Close: 0.05",
          "Return: 27.50%<br>Volatility: 0.10<br>ABBV_Close: 0.27<br>WFC_Close: 0.19<br>ACN_Close: 0.28<br>GOOGL_Close: 0.06<br>ORCL_Close: 0.21",
          "Return: 5.54%<br>Volatility: 0.10<br>AMGN_Close: 0.34<br>XOM_Close: 0.11<br>DUK_Close: 0.22<br>CSCO_Close: 0.04<br>BMY_Close: 0.28",
          "Return: 15.26%<br>Volatility: 0.10<br>DHR_Close: 0.37<br>IBM_Close: 0.08<br>VRTX_Close: 0.05<br>BABA_Close: 0.18<br>MO_Close: 0.32",
          "Return: -0.43%<br>Volatility: 0.11<br>SYY_Close: 0.10<br>RTX_Close: 0.13<br>MDT_Close: 0.18<br>REGN_Close: 0.29<br>IBM_Close: 0.30",
          "Return: 10.29%<br>Volatility: 0.19<br>F_Close: 0.06<br>NVDA_Close: 0.10<br>AMZN_Close: 0.20<br>UA_Close: 0.34<br>META_Close: 0.30",
          "Return: 20.74%<br>Volatility: 0.11<br>BAC_Close: 0.26<br>F_Close: 0.26<br>BA_Close: 0.22<br>AMGN_Close: 0.22<br>WMT_Close: 0.04",
          "Return: 32.66%<br>Volatility: 0.11<br>DE_Close: 0.36<br>ABBV_Close: 0.20<br>UA_Close: 0.05<br>SRE_Close: 0.04<br>SAP_Close: 0.36",
          "Return: 8.61%<br>Volatility: 0.09<br>MRK_Close: 0.21<br>T_Close: 0.27<br>ACN_Close: 0.19<br>ABT_Close: 0.27<br>MO_Close: 0.06",
          "Return: 19.78%<br>Volatility: 0.10<br>ACN_Close: 0.22<br>SYY_Close: 0.14<br>CSCO_Close: 0.28<br>SAP_Close: 0.25<br>BIIB_Close: 0.12",
          "Return: 29.20%<br>Volatility: 0.10<br>ETN_Close: 0.22<br>DE_Close: 0.32<br>HON_Close: 0.23<br>ACN_Close: 0.04<br>GOOGL_Close: 0.19",
          "Return: 4.76%<br>Volatility: 0.11<br>CPB_Close: 0.32<br>TSLA_Close: 0.17<br>AMD_Close: 0.03<br>KO_Close: 0.27<br>GOOGL_Close: 0.21",
          "Return: 10.83%<br>Volatility: 0.14<br>MRK_Close: 0.29<br>NKE_Close: 0.01<br>ABBV_Close: 0.35<br>RDY_Close: 0.34<br>MMM_Close: 0.01",
          "Return: 16.12%<br>Volatility: 0.09<br>AMGN_Close: 0.08<br>SYY_Close: 0.26<br>LLY_Close: 0.21<br>ABT_Close: 0.26<br>GM_Close: 0.19",
          "Return: 10.27%<br>Volatility: 0.10<br>COST_Close: 0.24<br>JPM_Close: 0.19<br>VZ_Close: 0.06<br>CSCO_Close: 0.24<br>MO_Close: 0.27",
          "Return: 15.38%<br>Volatility: 0.14<br>KR_Close: 0.26<br>NVDA_Close: 0.08<br>DHR_Close: 0.33<br>SNAP_Close: 0.04<br>TXN_Close: 0.30",
          "Return: 38.22%<br>Volatility: 0.15<br>RMD_Close: 0.06<br>BABA_Close: 0.20<br>PYPL_Close: 0.20<br>SRE_Close: 0.24<br>NFLX_Close: 0.30",
          "Return: 19.38%<br>Volatility: 0.09<br>NKE_Close: 0.07<br>SAP_Close: 0.29<br>GIS_Close: 0.28<br>LMT_Close: 0.10<br>MCD_Close: 0.26",
          "Return: 12.34%<br>Volatility: 0.11<br>AMZN_Close: 0.29<br>MO_Close: 0.18<br>GIS_Close: 0.26<br>GS_Close: 0.25<br>ADBE_Close: 0.02",
          "Return: 21.46%<br>Volatility: 0.08<br>INTC_Close: 0.10<br>MA_Close: 0.02<br>JNJ_Close: 0.21<br>PFE_Close: 0.24<br>ACN_Close: 0.42",
          "Return: 22.34%<br>Volatility: 0.11<br>GOOG_Close: 0.26<br>PEP_Close: 0.12<br>ORCL_Close: 0.38<br>JPM_Close: 0.15<br>BABA_Close: 0.09",
          "Return: 16.02%<br>Volatility: 0.10<br>LMT_Close: 0.06<br>SYY_Close: 0.26<br>BMY_Close: 0.20<br>GIS_Close: 0.19<br>AAPL_Close: 0.30",
          "Return: 7.56%<br>Volatility: 0.08<br>K_Close: 0.29<br>CRM_Close: 0.30<br>AEP_Close: 0.13<br>DIS_Close: 0.09<br>XOM_Close: 0.18",
          "Return: 23.87%<br>Volatility: 0.10<br>UNH_Close: 0.04<br>RTX_Close: 0.39<br>VZ_Close: 0.28<br>BA_Close: 0.21<br>BSX_Close: 0.07",
          "Return: 29.01%<br>Volatility: 0.11<br>EXC_Close: 0.40<br>BABA_Close: 0.27<br>GOOG_Close: 0.19<br>XOM_Close: 0.04<br>QCOM_Close: 0.10",
          "Return: -12.52%<br>Volatility: 0.10<br>RMD_Close: 0.27<br>COST_Close: 0.07<br>GIS_Close: 0.14<br>SRE_Close: 0.22<br>GE_Close: 0.30",
          "Return: 22.42%<br>Volatility: 0.10<br>PYPL_Close: 0.24<br>MA_Close: 0.02<br>META_Close: 0.11<br>K_Close: 0.32<br>JNJ_Close: 0.31",
          "Return: 19.13%<br>Volatility: 0.09<br>DHR_Close: 0.25<br>MDT_Close: 0.14<br>K_Close: 0.15<br>BA_Close: 0.23<br>JPM_Close: 0.22",
          "Return: 19.78%<br>Volatility: 0.07<br>HD_Close: 0.22<br>AEP_Close: 0.30<br>MO_Close: 0.06<br>SAP_Close: 0.23<br>RTX_Close: 0.19",
          "Return: 23.06%<br>Volatility: 0.09<br>NEE_Close: 0.10<br>AEP_Close: 0.07<br>ACN_Close: 0.32<br>ISRG_Close: 0.31<br>MRK_Close: 0.21",
          "Return: 22.71%<br>Volatility: 0.15<br>TSLA_Close: 0.29<br>AAPL_Close: 0.12<br>GM_Close: 0.30<br>VRTX_Close: 0.12<br>PG_Close: 0.18",
          "Return: 24.42%<br>Volatility: 0.16<br>F_Close: 0.06<br>BIIB_Close: 0.29<br>PM_Close: 0.17<br>REGN_Close: 0.21<br>NVDA_Close: 0.26",
          "Return: 14.01%<br>Volatility: 0.11<br>INTC_Close: 0.26<br>CMCSA_Close: 0.40<br>REGN_Close: 0.10<br>RTX_Close: 0.06<br>LLY_Close: 0.18",
          "Return: 1.59%<br>Volatility: 0.16<br>CSCO_Close: 0.42<br>KO_Close: 0.09<br>PYPL_Close: 0.02<br>UA_Close: 0.25<br>ETN_Close: 0.21",
          "Return: 9.08%<br>Volatility: 0.11<br>GOOG_Close: 0.04<br>VZ_Close: 0.34<br>WFC_Close: 0.42<br>ZBH_Close: 0.16<br>QCOM_Close: 0.04",
          "Return: -2.96%<br>Volatility: 0.19<br>KO_Close: 0.14<br>MA_Close: 0.01<br>AMD_Close: 0.32<br>DHR_Close: 0.31<br>CVX_Close: 0.23",
          "Return: -4.82%<br>Volatility: 0.26<br>META_Close: 0.20<br>SNAP_Close: 0.37<br>EW_Close: 0.26<br>ISRG_Close: 0.10<br>SYY_Close: 0.08",
          "Return: 12.80%<br>Volatility: 0.08<br>JNJ_Close: 0.10<br>NKE_Close: 0.08<br>JPM_Close: 0.42<br>EW_Close: 0.09<br>SO_Close: 0.30",
          "Return: 23.76%<br>Volatility: 0.13<br>NFLX_Close: 0.15<br>BIIB_Close: 0.22<br>CRM_Close: 0.33<br>ISRG_Close: 0.15<br>GS_Close: 0.15",
          "Return: 19.57%<br>Volatility: 0.10<br>MDT_Close: 0.28<br>WMT_Close: 0.24<br>ZBH_Close: 0.27<br>AMZN_Close: 0.07<br>MA_Close: 0.14",
          "Return: 18.68%<br>Volatility: 0.10<br>JNJ_Close: 0.29<br>VZ_Close: 0.20<br>CPB_Close: 0.22<br>BSX_Close: 0.01<br>BA_Close: 0.28",
          "Return: 20.26%<br>Volatility: 0.09<br>ETN_Close: 0.17<br>V_Close: 0.23<br>META_Close: 0.27<br>SYY_Close: 0.12<br>GIS_Close: 0.20",
          "Return: 25.86%<br>Volatility: 0.10<br>ACN_Close: 0.02<br>AMD_Close: 0.01<br>ORCL_Close: 0.05<br>LMT_Close: 0.60<br>INTC_Close: 0.32",
          "Return: 28.11%<br>Volatility: 0.10<br>CVX_Close: 0.22<br>ORCL_Close: 0.21<br>BMY_Close: 0.17<br>TXN_Close: 0.20<br>CAT_Close: 0.20",
          "Return: 13.30%<br>Volatility: 0.12<br>BSX_Close: 0.00<br>CVX_Close: 0.49<br>AMGN_Close: 0.23<br>REGN_Close: 0.05<br>TSLA_Close: 0.22",
          "Return: 22.59%<br>Volatility: 0.11<br>K_Close: 0.18<br>AMZN_Close: 0.25<br>QCOM_Close: 0.23<br>INTC_Close: 0.23<br>LMT_Close: 0.12",
          "Return: 12.26%<br>Volatility: 0.10<br>CPB_Close: 0.20<br>NFLX_Close: 0.23<br>SRE_Close: 0.23<br>WMT_Close: 0.19<br>PM_Close: 0.14",
          "Return: 25.54%<br>Volatility: 0.10<br>BA_Close: 0.31<br>ACN_Close: 0.13<br>K_Close: 0.04<br>MS_Close: 0.22<br>PM_Close: 0.30",
          "Return: 12.29%<br>Volatility: 0.12<br>ETN_Close: 0.34<br>SNAP_Close: 0.11<br>JPM_Close: 0.14<br>ABT_Close: 0.37<br>EW_Close: 0.03",
          "Return: 9.13%<br>Volatility: 0.07<br>PFE_Close: 0.35<br>DUK_Close: 0.36<br>JNJ_Close: 0.15<br>CSCO_Close: 0.07<br>PM_Close: 0.07",
          "Return: 28.58%<br>Volatility: 0.10<br>CRM_Close: 0.22<br>TXN_Close: 0.28<br>MMM_Close: 0.28<br>SYK_Close: 0.21<br>ACN_Close: 0.01",
          "Return: 7.57%<br>Volatility: 0.08<br>PG_Close: 0.07<br>CRM_Close: 0.30<br>SO_Close: 0.38<br>AMGN_Close: 0.12<br>MDT_Close: 0.14",
          "Return: 22.41%<br>Volatility: 0.10<br>DUK_Close: 0.12<br>RMD_Close: 0.16<br>DE_Close: 0.29<br>RTX_Close: 0.11<br>VZ_Close: 0.33",
          "Return: 21.77%<br>Volatility: 0.14<br>K_Close: 0.11<br>BMY_Close: 0.15<br>NVDA_Close: 0.23<br>ZBH_Close: 0.34<br>GILD_Close: 0.18",
          "Return: 13.36%<br>Volatility: 0.10<br>SRE_Close: 0.13<br>GS_Close: 0.27<br>SYK_Close: 0.11<br>BTI_Close: 0.17<br>GOOGL_Close: 0.32",
          "Return: 20.20%<br>Volatility: 0.10<br>META_Close: 0.14<br>GIS_Close: 0.34<br>GOOG_Close: 0.07<br>BTI_Close: 0.28<br>CAT_Close: 0.17",
          "Return: 7.46%<br>Volatility: 0.09<br>BMY_Close: 0.26<br>T_Close: 0.36<br>MA_Close: 0.03<br>MO_Close: 0.07<br>JNJ_Close: 0.29",
          "Return: 20.68%<br>Volatility: 0.07<br>RTX_Close: 0.20<br>SAP_Close: 0.22<br>LMT_Close: 0.16<br>NEE_Close: 0.34<br>WFC_Close: 0.08",
          "Return: 20.73%<br>Volatility: 0.11<br>REGN_Close: 0.28<br>INTC_Close: 0.24<br>V_Close: 0.41<br>BAC_Close: 0.05<br>UA_Close: 0.02",
          "Return: 10.18%<br>Volatility: 0.17<br>AMD_Close: 0.24<br>KO_Close: 0.03<br>JNJ_Close: 0.09<br>MCD_Close: 0.55<br>UA_Close: 0.08",
          "Return: 14.97%<br>Volatility: 0.09<br>ZBH_Close: 0.23<br>TMO_Close: 0.19<br>SO_Close: 0.04<br>HON_Close: 0.40<br>SRE_Close: 0.14",
          "Return: -6.77%<br>Volatility: 0.19<br>SAP_Close: 0.06<br>PM_Close: 0.02<br>KR_Close: 0.38<br>CPB_Close: 0.38<br>UNH_Close: 0.15",
          "Return: 19.92%<br>Volatility: 0.11<br>DE_Close: 0.26<br>DHR_Close: 0.01<br>GS_Close: 0.33<br>MO_Close: 0.08<br>SAP_Close: 0.32",
          "Return: 10.21%<br>Volatility: 0.18<br>TXN_Close: 0.27<br>TMO_Close: 0.27<br>SNAP_Close: 0.23<br>DE_Close: 0.18<br>CMCSA_Close: 0.04",
          "Return: 14.37%<br>Volatility: 0.10<br>TXN_Close: 0.23<br>ETN_Close: 0.01<br>F_Close: 0.30<br>MO_Close: 0.21<br>TMO_Close: 0.25",
          "Return: 29.11%<br>Volatility: 0.18<br>BABA_Close: 0.21<br>MSFT_Close: 0.28<br>PYPL_Close: 0.26<br>KR_Close: 0.08<br>SNAP_Close: 0.17",
          "Return: 24.87%<br>Volatility: 0.09<br>MCD_Close: 0.36<br>PFE_Close: 0.07<br>META_Close: 0.06<br>CMCSA_Close: 0.29<br>ACN_Close: 0.23",
          "Return: 2.64%<br>Volatility: 0.13<br>REGN_Close: 0.31<br>EMR_Close: 0.18<br>BSX_Close: 0.12<br>GE_Close: 0.09<br>GM_Close: 0.30",
          "Return: 14.76%<br>Volatility: 0.15<br>BTI_Close: 0.36<br>MDT_Close: 0.01<br>PEP_Close: 0.06<br>AMD_Close: 0.15<br>MA_Close: 0.41",
          "Return: 17.44%<br>Volatility: 0.11<br>BTI_Close: 0.07<br>ORCL_Close: 0.16<br>INTC_Close: 0.24<br>QCOM_Close: 0.29<br>LLY_Close: 0.23",
          "Return: -3.38%<br>Volatility: 0.11<br>NEE_Close: 0.19<br>GE_Close: 0.12<br>SO_Close: 0.00<br>NKE_Close: 0.39<br>MRK_Close: 0.30",
          "Return: 9.80%<br>Volatility: 0.16<br>SNAP_Close: 0.10<br>DUK_Close: 0.27<br>QCOM_Close: 0.25<br>RMD_Close: 0.02<br>TSLA_Close: 0.35",
          "Return: 8.10%<br>Volatility: 0.09<br>F_Close: 0.25<br>VZ_Close: 0.22<br>HON_Close: 0.16<br>RMD_Close: 0.05<br>BSX_Close: 0.32",
          "Return: 3.40%<br>Volatility: 0.14<br>INTC_Close: 0.29<br>GILD_Close: 0.25<br>NKE_Close: 0.11<br>REGN_Close: 0.15<br>UA_Close: 0.20",
          "Return: 7.31%<br>Volatility: 0.11<br>BTI_Close: 0.30<br>SAP_Close: 0.11<br>RMD_Close: 0.03<br>K_Close: 0.18<br>WFC_Close: 0.38",
          "Return: 23.47%<br>Volatility: 0.10<br>MS_Close: 0.30<br>AMD_Close: 0.01<br>GOOGL_Close: 0.32<br>DIS_Close: 0.17<br>ABBV_Close: 0.20",
          "Return: 16.64%<br>Volatility: 0.15<br>NVDA_Close: 0.01<br>GS_Close: 0.12<br>GM_Close: 0.64<br>NFLX_Close: 0.08<br>QCOM_Close: 0.14",
          "Return: 37.57%<br>Volatility: 0.16<br>XOM_Close: 0.26<br>CRM_Close: 0.04<br>LLY_Close: 0.20<br>NVDA_Close: 0.39<br>ABT_Close: 0.10",
          "Return: 23.56%<br>Volatility: 0.09<br>BA_Close: 0.12<br>WMT_Close: 0.25<br>DUK_Close: 0.12<br>AMGN_Close: 0.31<br>AAPL_Close: 0.20",
          "Return: 17.62%<br>Volatility: 0.12<br>XOM_Close: 0.33<br>RDY_Close: 0.16<br>EW_Close: 0.35<br>NVDA_Close: 0.12<br>HON_Close: 0.04",
          "Return: 11.89%<br>Volatility: 0.13<br>BA_Close: 0.26<br>RDY_Close: 0.19<br>HON_Close: 0.19<br>PEP_Close: 0.16<br>UA_Close: 0.20",
          "Return: 18.50%<br>Volatility: 0.11<br>LLY_Close: 0.25<br>MRK_Close: 0.06<br>GILD_Close: 0.27<br>ABBV_Close: 0.24<br>SYK_Close: 0.18",
          "Return: 31.13%<br>Volatility: 0.14<br>WFC_Close: 0.24<br>TXN_Close: 0.16<br>F_Close: 0.14<br>BABA_Close: 0.24<br>NFLX_Close: 0.22",
          "Return: 34.65%<br>Volatility: 0.09<br>CAT_Close: 0.20<br>XOM_Close: 0.34<br>ABBV_Close: 0.30<br>GOOG_Close: 0.15<br>UNH_Close: 0.00",
          "Return: 24.10%<br>Volatility: 0.12<br>NVDA_Close: 0.09<br>UNH_Close: 0.31<br>TSLA_Close: 0.19<br>GIS_Close: 0.32<br>BTI_Close: 0.09",
          "Return: 28.61%<br>Volatility: 0.10<br>META_Close: 0.26<br>EMR_Close: 0.28<br>T_Close: 0.06<br>CAT_Close: 0.22<br>DUK_Close: 0.17",
          "Return: 11.69%<br>Volatility: 0.12<br>PEP_Close: 0.04<br>EMR_Close: 0.36<br>GE_Close: 0.19<br>GILD_Close: 0.07<br>DE_Close: 0.34",
          "Return: 14.77%<br>Volatility: 0.09<br>DE_Close: 0.16<br>SYY_Close: 0.24<br>EXC_Close: 0.31<br>EMR_Close: 0.00<br>MO_Close: 0.29",
          "Return: 7.96%<br>Volatility: 0.14<br>EMR_Close: 0.25<br>MRK_Close: 0.11<br>KR_Close: 0.23<br>NKE_Close: 0.16<br>EW_Close: 0.24",
          "Return: -15.08%<br>Volatility: 0.09<br>DIS_Close: 0.07<br>INTC_Close: 0.10<br>PG_Close: 0.40<br>GE_Close: 0.36<br>V_Close: 0.08",
          "Return: 15.32%<br>Volatility: 0.09<br>AEP_Close: 0.27<br>MDT_Close: 0.21<br>TMO_Close: 0.05<br>SYK_Close: 0.36<br>SYY_Close: 0.12",
          "Return: 13.41%<br>Volatility: 0.07<br>WFC_Close: 0.26<br>SYY_Close: 0.21<br>NEE_Close: 0.18<br>DIS_Close: 0.08<br>KO_Close: 0.27",
          "Return: 3.35%<br>Volatility: 0.11<br>REGN_Close: 0.25<br>K_Close: 0.17<br>BAC_Close: 0.22<br>MO_Close: 0.27<br>EXC_Close: 0.09",
          "Return: 18.19%<br>Volatility: 0.12<br>BAC_Close: 0.08<br>ZBH_Close: 0.24<br>DE_Close: 0.25<br>KR_Close: 0.21<br>V_Close: 0.22",
          "Return: 7.10%<br>Volatility: 0.10<br>AEP_Close: 0.28<br>RDY_Close: 0.27<br>SYK_Close: 0.18<br>ETN_Close: 0.08<br>DUK_Close: 0.19",
          "Return: 10.56%<br>Volatility: 0.08<br>PG_Close: 0.14<br>ABT_Close: 0.10<br>XOM_Close: 0.34<br>RTX_Close: 0.09<br>ORCL_Close: 0.33",
          "Return: 15.47%<br>Volatility: 0.09<br>ORCL_Close: 0.28<br>TMO_Close: 0.02<br>LMT_Close: 0.15<br>JNJ_Close: 0.27<br>VZ_Close: 0.29",
          "Return: 7.44%<br>Volatility: 0.14<br>MSFT_Close: 0.28<br>LMT_Close: 0.14<br>EXC_Close: 0.25<br>RTX_Close: 0.09<br>UA_Close: 0.25",
          "Return: 34.64%<br>Volatility: 0.09<br>BABA_Close: 0.22<br>CMCSA_Close: 0.11<br>MSFT_Close: 0.19<br>CVX_Close: 0.27<br>WMT_Close: 0.20",
          "Return: 26.02%<br>Volatility: 0.09<br>AEP_Close: 0.22<br>INTC_Close: 0.21<br>AMZN_Close: 0.16<br>DHR_Close: 0.03<br>HON_Close: 0.38",
          "Return: 16.52%<br>Volatility: 0.12<br>MA_Close: 0.19<br>TSLA_Close: 0.25<br>XOM_Close: 0.09<br>KO_Close: 0.21<br>BSX_Close: 0.26",
          "Return: 23.31%<br>Volatility: 0.12<br>DUK_Close: 0.25<br>GOOG_Close: 0.19<br>DIS_Close: 0.12<br>PFE_Close: 0.20<br>VRTX_Close: 0.24",
          "Return: 8.75%<br>Volatility: 0.12<br>GE_Close: 0.07<br>GM_Close: 0.08<br>MDT_Close: 0.17<br>MS_Close: 0.46<br>RTX_Close: 0.23",
          "Return: 12.62%<br>Volatility: 0.07<br>BMY_Close: 0.05<br>SRE_Close: 0.09<br>ABT_Close: 0.27<br>XOM_Close: 0.43<br>JNJ_Close: 0.16",
          "Return: 14.40%<br>Volatility: 0.13<br>MMM_Close: 0.03<br>GOOG_Close: 0.00<br>JPM_Close: 0.39<br>BSX_Close: 0.06<br>COST_Close: 0.51",
          "Return: 18.62%<br>Volatility: 0.13<br>CVX_Close: 0.13<br>JPM_Close: 0.56<br>HON_Close: 0.05<br>GM_Close: 0.19<br>BAC_Close: 0.07",
          "Return: 6.14%<br>Volatility: 0.11<br>MO_Close: 0.42<br>ABT_Close: 0.08<br>PM_Close: 0.23<br>EW_Close: 0.21<br>PG_Close: 0.06",
          "Return: 8.70%<br>Volatility: 0.09<br>XOM_Close: 0.31<br>T_Close: 0.28<br>ADBE_Close: 0.19<br>REGN_Close: 0.05<br>DIS_Close: 0.17",
          "Return: 30.82%<br>Volatility: 0.09<br>RTX_Close: 0.17<br>LMT_Close: 0.23<br>EMR_Close: 0.11<br>EXC_Close: 0.19<br>BA_Close: 0.30",
          "Return: 30.86%<br>Volatility: 0.11<br>UNH_Close: 0.27<br>BABA_Close: 0.19<br>ADBE_Close: 0.11<br>PM_Close: 0.15<br>MS_Close: 0.28",
          "Return: 28.74%<br>Volatility: 0.12<br>CAT_Close: 0.15<br>REGN_Close: 0.28<br>DE_Close: 0.32<br>WMT_Close: 0.02<br>RTX_Close: 0.23",
          "Return: 15.08%<br>Volatility: 0.12<br>PG_Close: 0.17<br>BTI_Close: 0.01<br>QCOM_Close: 0.37<br>MO_Close: 0.31<br>BA_Close: 0.14",
          "Return: 11.63%<br>Volatility: 0.09<br>BTI_Close: 0.23<br>CMCSA_Close: 0.18<br>META_Close: 0.15<br>F_Close: 0.26<br>COST_Close: 0.18",
          "Return: 33.93%<br>Volatility: 0.09<br>PEP_Close: 0.20<br>HD_Close: 0.13<br>NEE_Close: 0.12<br>SYY_Close: 0.25<br>PYPL_Close: 0.30",
          "Return: 19.35%<br>Volatility: 0.13<br>JPM_Close: 0.02<br>MA_Close: 0.25<br>TSLA_Close: 0.26<br>PFE_Close: 0.16<br>LLY_Close: 0.31",
          "Return: 28.82%<br>Volatility: 0.10<br>MCD_Close: 0.25<br>PEP_Close: 0.07<br>CPB_Close: 0.10<br>BMY_Close: 0.24<br>ABBV_Close: 0.34",
          "Return: -4.18%<br>Volatility: 0.18<br>INTC_Close: 0.25<br>SAP_Close: 0.13<br>SNAP_Close: 0.25<br>PM_Close: 0.34<br>SYY_Close: 0.02",
          "Return: 24.89%<br>Volatility: 0.10<br>ABT_Close: 0.11<br>JPM_Close: 0.25<br>WMT_Close: 0.09<br>GOOG_Close: 0.17<br>SYK_Close: 0.38",
          "Return: 5.71%<br>Volatility: 0.10<br>MO_Close: 0.22<br>PEP_Close: 0.32<br>WMT_Close: 0.15<br>MDT_Close: 0.11<br>CPB_Close: 0.19",
          "Return: 37.20%<br>Volatility: 0.12<br>RTX_Close: 0.21<br>META_Close: 0.23<br>ABBV_Close: 0.18<br>GOOGL_Close: 0.19<br>BABA_Close: 0.20",
          "Return: 6.07%<br>Volatility: 0.11<br>PYPL_Close: 0.12<br>KR_Close: 0.23<br>KO_Close: 0.11<br>SO_Close: 0.50<br>GILD_Close: 0.04",
          "Return: 17.27%<br>Volatility: 0.08<br>MSFT_Close: 0.05<br>GOOGL_Close: 0.40<br>DUK_Close: 0.21<br>RTX_Close: 0.17<br>XOM_Close: 0.16",
          "Return: 20.86%<br>Volatility: 0.16<br>BABA_Close: 0.41<br>QCOM_Close: 0.08<br>IBM_Close: 0.23<br>HON_Close: 0.03<br>RDY_Close: 0.24",
          "Return: 24.03%<br>Volatility: 0.10<br>KR_Close: 0.08<br>K_Close: 0.23<br>CAT_Close: 0.26<br>SRE_Close: 0.09<br>V_Close: 0.34",
          "Return: 18.79%<br>Volatility: 0.11<br>GOOG_Close: 0.27<br>ETN_Close: 0.10<br>AAPL_Close: 0.30<br>GILD_Close: 0.21<br>COST_Close: 0.13",
          "Return: 33.27%<br>Volatility: 0.12<br>MA_Close: 0.15<br>BMY_Close: 0.29<br>REGN_Close: 0.06<br>LMT_Close: 0.21<br>PYPL_Close: 0.30",
          "Return: 6.36%<br>Volatility: 0.10<br>SYY_Close: 0.28<br>GE_Close: 0.17<br>RTX_Close: 0.22<br>UNH_Close: 0.08<br>JPM_Close: 0.25",
          "Return: 22.06%<br>Volatility: 0.12<br>GS_Close: 0.29<br>AMZN_Close: 0.03<br>MSFT_Close: 0.38<br>CRM_Close: 0.26<br>KR_Close: 0.04",
          "Return: 23.55%<br>Volatility: 0.10<br>IBM_Close: 0.00<br>ABT_Close: 0.38<br>ETN_Close: 0.37<br>TXN_Close: 0.10<br>GOOGL_Close: 0.15",
          "Return: 30.65%<br>Volatility: 0.20<br>HD_Close: 0.12<br>AMD_Close: 0.12<br>NVDA_Close: 0.33<br>GS_Close: 0.25<br>SAP_Close: 0.18",
          "Return: 13.43%<br>Volatility: 0.19<br>META_Close: 0.23<br>SNAP_Close: 0.19<br>PM_Close: 0.22<br>LMT_Close: 0.09<br>VRTX_Close: 0.27",
          "Return: 0.48%<br>Volatility: 0.11<br>AMD_Close: 0.09<br>MDT_Close: 0.24<br>ZBH_Close: 0.10<br>COST_Close: 0.28<br>GIS_Close: 0.29",
          "Return: 5.79%<br>Volatility: 0.10<br>GILD_Close: 0.30<br>GS_Close: 0.30<br>XOM_Close: 0.27<br>RMD_Close: 0.08<br>EXC_Close: 0.05",
          "Return: 20.89%<br>Volatility: 0.12<br>BABA_Close: 0.30<br>BIIB_Close: 0.31<br>AEP_Close: 0.29<br>GE_Close: 0.04<br>UA_Close: 0.06",
          "Return: 3.10%<br>Volatility: 0.22<br>ZBH_Close: 0.33<br>AMD_Close: 0.29<br>AMGN_Close: 0.14<br>GS_Close: 0.04<br>BABA_Close: 0.20",
          "Return: 16.57%<br>Volatility: 0.09<br>DIS_Close: 0.39<br>MA_Close: 0.21<br>SRE_Close: 0.01<br>GOOGL_Close: 0.35<br>GS_Close: 0.04",
          "Return: 12.64%<br>Volatility: 0.11<br>GIS_Close: 0.31<br>T_Close: 0.08<br>ABT_Close: 0.09<br>ORCL_Close: 0.45<br>VRTX_Close: 0.07",
          "Return: -24.33%<br>Volatility: 0.26<br>LLY_Close: 0.01<br>BAC_Close: 0.02<br>SNAP_Close: 0.31<br>MO_Close: 0.24<br>KR_Close: 0.43",
          "Return: 22.69%<br>Volatility: 0.08<br>DUK_Close: 0.34<br>CVX_Close: 0.22<br>VRTX_Close: 0.12<br>MSFT_Close: 0.20<br>TMO_Close: 0.12",
          "Return: 34.13%<br>Volatility: 0.13<br>PYPL_Close: 0.36<br>RMD_Close: 0.35<br>MS_Close: 0.08<br>EXC_Close: 0.02<br>BMY_Close: 0.19",
          "Return: -0.32%<br>Volatility: 0.11<br>AMGN_Close: 0.15<br>NEE_Close: 0.02<br>WFC_Close: 0.31<br>GE_Close: 0.25<br>ISRG_Close: 0.28",
          "Return: 4.52%<br>Volatility: 0.09<br>CMCSA_Close: 0.14<br>DIS_Close: 0.21<br>PM_Close: 0.33<br>COST_Close: 0.15<br>BMY_Close: 0.17",
          "Return: 9.57%<br>Volatility: 0.09<br>WFC_Close: 0.16<br>RTX_Close: 0.33<br>EXC_Close: 0.36<br>AMD_Close: 0.08<br>QCOM_Close: 0.07",
          "Return: 21.11%<br>Volatility: 0.08<br>DUK_Close: 0.25<br>GOOGL_Close: 0.15<br>BTI_Close: 0.23<br>BA_Close: 0.09<br>MMM_Close: 0.28",
          "Return: 8.74%<br>Volatility: 0.14<br>BIIB_Close: 0.32<br>GOOG_Close: 0.34<br>SNAP_Close: 0.10<br>NKE_Close: 0.17<br>BTI_Close: 0.06",
          "Return: 39.03%<br>Volatility: 0.11<br>ABT_Close: 0.36<br>CRM_Close: 0.07<br>ABBV_Close: 0.36<br>VRTX_Close: 0.02<br>INTC_Close: 0.19",
          "Return: 7.26%<br>Volatility: 0.20<br>TSLA_Close: 0.02<br>UNH_Close: 0.32<br>NKE_Close: 0.18<br>ABBV_Close: 0.20<br>SNAP_Close: 0.28",
          "Return: 21.54%<br>Volatility: 0.10<br>SO_Close: 0.05<br>CVX_Close: 0.24<br>LMT_Close: 0.14<br>BAC_Close: 0.30<br>META_Close: 0.27",
          "Return: 15.21%<br>Volatility: 0.09<br>KO_Close: 0.26<br>JNJ_Close: 0.07<br>WFC_Close: 0.04<br>EMR_Close: 0.37<br>NKE_Close: 0.25",
          "Return: 18.15%<br>Volatility: 0.11<br>IBM_Close: 0.01<br>SYY_Close: 0.26<br>CMCSA_Close: 0.24<br>ADBE_Close: 0.22<br>GS_Close: 0.27",
          "Return: 15.62%<br>Volatility: 0.13<br>CRM_Close: 0.06<br>GM_Close: 0.50<br>AMD_Close: 0.02<br>UA_Close: 0.08<br>INTC_Close: 0.34",
          "Return: 26.32%<br>Volatility: 0.12<br>PYPL_Close: 0.24<br>ABT_Close: 0.32<br>BSX_Close: 0.29<br>ORCL_Close: 0.13<br>DHR_Close: 0.03",
          "Return: 16.86%<br>Volatility: 0.08<br>MCD_Close: 0.36<br>QCOM_Close: 0.04<br>SO_Close: 0.05<br>MRK_Close: 0.18<br>AEP_Close: 0.37",
          "Return: 22.20%<br>Volatility: 0.16<br>AAPL_Close: 0.09<br>NFLX_Close: 0.16<br>DE_Close: 0.25<br>AMD_Close: 0.20<br>HD_Close: 0.30",
          "Return: 7.47%<br>Volatility: 0.13<br>EW_Close: 0.29<br>UA_Close: 0.13<br>EXC_Close: 0.24<br>BTI_Close: 0.04<br>BIIB_Close: 0.29",
          "Return: 6.47%<br>Volatility: 0.08<br>PEP_Close: 0.15<br>UA_Close: 0.12<br>TMO_Close: 0.12<br>CRM_Close: 0.22<br>PG_Close: 0.39",
          "Return: 23.22%<br>Volatility: 0.09<br>LMT_Close: 0.16<br>ISRG_Close: 0.14<br>TMO_Close: 0.21<br>UNH_Close: 0.23<br>PM_Close: 0.25",
          "Return: 29.71%<br>Volatility: 0.14<br>PG_Close: 0.17<br>VRTX_Close: 0.26<br>T_Close: 0.16<br>AMZN_Close: 0.29<br>BAC_Close: 0.13",
          "Return: 9.23%<br>Volatility: 0.10<br>MDT_Close: 0.38<br>CRM_Close: 0.20<br>AMGN_Close: 0.29<br>NFLX_Close: 0.07<br>EMR_Close: 0.06",
          "Return: 33.07%<br>Volatility: 0.13<br>ABBV_Close: 0.24<br>BAC_Close: 0.12<br>PEP_Close: 0.21<br>ZBH_Close: 0.20<br>VRTX_Close: 0.23",
          "Return: 21.86%<br>Volatility: 0.10<br>PYPL_Close: 0.25<br>JPM_Close: 0.02<br>DIS_Close: 0.40<br>BMY_Close: 0.09<br>SYY_Close: 0.23",
          "Return: 30.74%<br>Volatility: 0.11<br>ETN_Close: 0.19<br>EMR_Close: 0.22<br>WMT_Close: 0.26<br>AMZN_Close: 0.32<br>SYY_Close: 0.01",
          "Return: 17.84%<br>Volatility: 0.10<br>ETN_Close: 0.43<br>CVX_Close: 0.12<br>MRK_Close: 0.11<br>META_Close: 0.29<br>BA_Close: 0.05",
          "Return: 14.94%<br>Volatility: 0.12<br>K_Close: 0.32<br>JPM_Close: 0.23<br>DUK_Close: 0.17<br>UA_Close: 0.09<br>NVDA_Close: 0.20",
          "Return: 16.20%<br>Volatility: 0.13<br>BIIB_Close: 0.12<br>CSCO_Close: 0.35<br>AMD_Close: 0.09<br>INTC_Close: 0.24<br>CRM_Close: 0.19",
          "Return: 22.46%<br>Volatility: 0.14<br>RDY_Close: 0.25<br>BMY_Close: 0.25<br>CRM_Close: 0.22<br>BTI_Close: 0.03<br>PYPL_Close: 0.26",
          "Return: 25.31%<br>Volatility: 0.09<br>ISRG_Close: 0.14<br>EW_Close: 0.14<br>VZ_Close: 0.34<br>PG_Close: 0.08<br>MCD_Close: 0.31",
          "Return: 13.81%<br>Volatility: 0.10<br>SAP_Close: 0.22<br>AMGN_Close: 0.25<br>TMO_Close: 0.32<br>UA_Close: 0.03<br>RTX_Close: 0.19",
          "Return: 9.92%<br>Volatility: 0.10<br>SO_Close: 0.19<br>GILD_Close: 0.29<br>NEE_Close: 0.25<br>BIIB_Close: 0.17<br>COST_Close: 0.10",
          "Return: 27.06%<br>Volatility: 0.12<br>AAPL_Close: 0.15<br>RMD_Close: 0.34<br>TXN_Close: 0.36<br>GM_Close: 0.07<br>LMT_Close: 0.07",
          "Return: 16.70%<br>Volatility: 0.15<br>MSFT_Close: 0.10<br>SNAP_Close: 0.05<br>PEP_Close: 0.42<br>TSLA_Close: 0.34<br>SAP_Close: 0.08",
          "Return: 12.83%<br>Volatility: 0.11<br>KR_Close: 0.13<br>GE_Close: 0.10<br>ABT_Close: 0.24<br>MA_Close: 0.24<br>MS_Close: 0.28",
          "Return: 13.38%<br>Volatility: 0.12<br>REGN_Close: 0.05<br>ETN_Close: 0.35<br>KR_Close: 0.19<br>ADBE_Close: 0.28<br>MRK_Close: 0.13",
          "Return: -19.05%<br>Volatility: 0.24<br>LMT_Close: 0.06<br>V_Close: 0.04<br>MO_Close: 0.00<br>SNAP_Close: 0.35<br>GIS_Close: 0.54",
          "Return: 23.50%<br>Volatility: 0.08<br>LMT_Close: 0.43<br>CAT_Close: 0.08<br>JPM_Close: 0.16<br>V_Close: 0.16<br>AMGN_Close: 0.18",
          "Return: 23.34%<br>Volatility: 0.11<br>SAP_Close: 0.01<br>ETN_Close: 0.16<br>F_Close: 0.47<br>ABBV_Close: 0.36<br>BTI_Close: 0.01",
          "Return: 7.21%<br>Volatility: 0.12<br>ETN_Close: 0.21<br>UA_Close: 0.11<br>EW_Close: 0.11<br>WMT_Close: 0.16<br>BSX_Close: 0.41",
          "Return: 5.81%<br>Volatility: 0.15<br>AMGN_Close: 0.03<br>VZ_Close: 0.04<br>REGN_Close: 0.48<br>PFE_Close: 0.43<br>NVDA_Close: 0.02",
          "Return: 22.33%<br>Volatility: 0.11<br>TXN_Close: 0.23<br>MMM_Close: 0.25<br>KO_Close: 0.03<br>NFLX_Close: 0.13<br>ZBH_Close: 0.35",
          "Return: 2.20%<br>Volatility: 0.16<br>GILD_Close: 0.20<br>GM_Close: 0.29<br>AMD_Close: 0.19<br>VZ_Close: 0.28<br>BTI_Close: 0.04",
          "Return: 14.54%<br>Volatility: 0.09<br>PFE_Close: 0.27<br>HD_Close: 0.30<br>SYK_Close: 0.14<br>IBM_Close: 0.02<br>BSX_Close: 0.28",
          "Return: 28.94%<br>Volatility: 0.09<br>EXC_Close: 0.13<br>RTX_Close: 0.39<br>ABBV_Close: 0.13<br>WMT_Close: 0.32<br>GS_Close: 0.04",
          "Return: 5.45%<br>Volatility: 0.14<br>UA_Close: 0.16<br>NVDA_Close: 0.03<br>WFC_Close: 0.26<br>BTI_Close: 0.35<br>BAC_Close: 0.20",
          "Return: 24.84%<br>Volatility: 0.10<br>ADBE_Close: 0.32<br>LLY_Close: 0.06<br>VZ_Close: 0.21<br>MS_Close: 0.08<br>SYY_Close: 0.33",
          "Return: 26.70%<br>Volatility: 0.15<br>WFC_Close: 0.02<br>REGN_Close: 0.18<br>AMZN_Close: 0.64<br>NEE_Close: 0.11<br>IBM_Close: 0.04",
          "Return: 13.54%<br>Volatility: 0.13<br>DIS_Close: 0.11<br>GILD_Close: 0.18<br>QCOM_Close: 0.44<br>NVDA_Close: 0.02<br>NKE_Close: 0.25",
          "Return: 34.76%<br>Volatility: 0.10<br>PFE_Close: 0.18<br>ABBV_Close: 0.23<br>GILD_Close: 0.19<br>WFC_Close: 0.10<br>CAT_Close: 0.30",
          "Return: 10.00%<br>Volatility: 0.08<br>CPB_Close: 0.23<br>NEE_Close: 0.19<br>PG_Close: 0.31<br>MSFT_Close: 0.25<br>JPM_Close: 0.02",
          "Return: 24.66%<br>Volatility: 0.09<br>BAC_Close: 0.14<br>PFE_Close: 0.17<br>K_Close: 0.08<br>V_Close: 0.25<br>MSFT_Close: 0.35",
          "Return: 24.50%<br>Volatility: 0.11<br>SYK_Close: 0.23<br>MMM_Close: 0.23<br>TXN_Close: 0.01<br>ADBE_Close: 0.25<br>LLY_Close: 0.28",
          "Return: 26.34%<br>Volatility: 0.14<br>UA_Close: 0.16<br>KO_Close: 0.25<br>ISRG_Close: 0.32<br>VRTX_Close: 0.23<br>PEP_Close: 0.04",
          "Return: 8.34%<br>Volatility: 0.11<br>XOM_Close: 0.03<br>UA_Close: 0.16<br>AAPL_Close: 0.45<br>KO_Close: 0.29<br>T_Close: 0.06",
          "Return: 4.44%<br>Volatility: 0.09<br>ZBH_Close: 0.24<br>SO_Close: 0.21<br>K_Close: 0.16<br>ETN_Close: 0.21<br>ORCL_Close: 0.18",
          "Return: 12.68%<br>Volatility: 0.10<br>MRK_Close: 0.21<br>RMD_Close: 0.34<br>QCOM_Close: 0.12<br>GIS_Close: 0.15<br>MA_Close: 0.18",
          "Return: 12.83%<br>Volatility: 0.09<br>MDT_Close: 0.24<br>JNJ_Close: 0.12<br>BSX_Close: 0.09<br>ETN_Close: 0.32<br>MMM_Close: 0.23",
          "Return: 22.28%<br>Volatility: 0.09<br>ADBE_Close: 0.10<br>ABT_Close: 0.30<br>BAC_Close: 0.25<br>EXC_Close: 0.14<br>VZ_Close: 0.21",
          "Return: -13.65%<br>Volatility: 0.19<br>DUK_Close: 0.15<br>AMD_Close: 0.16<br>KR_Close: 0.21<br>SNAP_Close: 0.21<br>NEE_Close: 0.27",
          "Return: 9.14%<br>Volatility: 0.11<br>EXC_Close: 0.21<br>V_Close: 0.30<br>MCD_Close: 0.16<br>UA_Close: 0.21<br>XOM_Close: 0.12",
          "Return: 20.58%<br>Volatility: 0.09<br>BTI_Close: 0.14<br>SNAP_Close: 0.01<br>MSFT_Close: 0.38<br>K_Close: 0.00<br>PEP_Close: 0.46",
          "Return: 16.48%<br>Volatility: 0.09<br>DUK_Close: 0.21<br>BMY_Close: 0.28<br>PFE_Close: 0.08<br>ABBV_Close: 0.19<br>XOM_Close: 0.24",
          "Return: 26.52%<br>Volatility: 0.11<br>RTX_Close: 0.29<br>META_Close: 0.26<br>GM_Close: 0.12<br>AMZN_Close: 0.25<br>ABT_Close: 0.08",
          "Return: 26.88%<br>Volatility: 0.13<br>CSCO_Close: 0.13<br>TSLA_Close: 0.03<br>MSFT_Close: 0.18<br>ADBE_Close: 0.40<br>MO_Close: 0.26",
          "Return: 34.54%<br>Volatility: 0.15<br>EXC_Close: 0.03<br>CMCSA_Close: 0.17<br>BABA_Close: 0.38<br>RMD_Close: 0.33<br>TSLA_Close: 0.09",
          "Return: 32.06%<br>Volatility: 0.10<br>MS_Close: 0.10<br>SAP_Close: 0.19<br>MRK_Close: 0.04<br>ABBV_Close: 0.35<br>LMT_Close: 0.31",
          "Return: 28.19%<br>Volatility: 0.15<br>BSX_Close: 0.13<br>VRTX_Close: 0.27<br>PEP_Close: 0.20<br>QCOM_Close: 0.28<br>INTC_Close: 0.11",
          "Return: 13.68%<br>Volatility: 0.09<br>BSX_Close: 0.22<br>MMM_Close: 0.24<br>MDT_Close: 0.15<br>META_Close: 0.21<br>PG_Close: 0.19",
          "Return: -5.72%<br>Volatility: 0.16<br>UA_Close: 0.31<br>PFE_Close: 0.31<br>COST_Close: 0.09<br>DHR_Close: 0.06<br>EXC_Close: 0.24",
          "Return: 15.28%<br>Volatility: 0.11<br>K_Close: 0.17<br>MSFT_Close: 0.26<br>ORCL_Close: 0.17<br>ZBH_Close: 0.32<br>ADBE_Close: 0.09",
          "Return: 22.12%<br>Volatility: 0.10<br>MSFT_Close: 0.14<br>INTC_Close: 0.29<br>K_Close: 0.21<br>ETN_Close: 0.13<br>HD_Close: 0.23",
          "Return: 17.77%<br>Volatility: 0.11<br>ACN_Close: 0.24<br>ETN_Close: 0.05<br>MRK_Close: 0.32<br>QCOM_Close: 0.08<br>ADBE_Close: 0.31",
          "Return: 28.37%<br>Volatility: 0.09<br>AAPL_Close: 0.20<br>NKE_Close: 0.01<br>ABBV_Close: 0.24<br>CMCSA_Close: 0.20<br>NEE_Close: 0.34",
          "Return: 17.22%<br>Volatility: 0.12<br>EW_Close: 0.40<br>ORCL_Close: 0.32<br>WMT_Close: 0.06<br>CRM_Close: 0.05<br>SO_Close: 0.16",
          "Return: 22.29%<br>Volatility: 0.18<br>VRTX_Close: 0.13<br>BAC_Close: 0.33<br>UA_Close: 0.08<br>TSLA_Close: 0.38<br>VZ_Close: 0.08",
          "Return: 31.39%<br>Volatility: 0.10<br>BA_Close: 0.39<br>VZ_Close: 0.08<br>MDT_Close: 0.32<br>AMZN_Close: 0.19<br>DIS_Close: 0.03",
          "Return: 24.60%<br>Volatility: 0.11<br>AEP_Close: 0.19<br>TSLA_Close: 0.14<br>META_Close: 0.27<br>LMT_Close: 0.23<br>AAPL_Close: 0.18",
          "Return: 10.17%<br>Volatility: 0.11<br>META_Close: 0.32<br>RTX_Close: 0.15<br>GE_Close: 0.11<br>BIIB_Close: 0.32<br>EXC_Close: 0.10",
          "Return: 18.65%<br>Volatility: 0.07<br>PFE_Close: 0.28<br>LMT_Close: 0.29<br>XOM_Close: 0.14<br>MCD_Close: 0.10<br>AAPL_Close: 0.19",
          "Return: 19.65%<br>Volatility: 0.08<br>MO_Close: 0.12<br>CRM_Close: 0.21<br>SYY_Close: 0.12<br>PFE_Close: 0.29<br>TXN_Close: 0.27",
          "Return: 18.32%<br>Volatility: 0.09<br>DIS_Close: 0.19<br>ZBH_Close: 0.10<br>META_Close: 0.16<br>EMR_Close: 0.26<br>MMM_Close: 0.29",
          "Return: 18.40%<br>Volatility: 0.08<br>JNJ_Close: 0.09<br>MMM_Close: 0.31<br>SYY_Close: 0.30<br>VZ_Close: 0.12<br>DUK_Close: 0.17",
          "Return: 13.78%<br>Volatility: 0.10<br>MRK_Close: 0.24<br>RDY_Close: 0.09<br>JNJ_Close: 0.06<br>WMT_Close: 0.33<br>ORCL_Close: 0.28",
          "Return: 14.31%<br>Volatility: 0.11<br>SYY_Close: 0.27<br>GOOG_Close: 0.15<br>QCOM_Close: 0.29<br>EXC_Close: 0.02<br>MO_Close: 0.27",
          "Return: 31.50%<br>Volatility: 0.12<br>MDT_Close: 0.02<br>EMR_Close: 0.21<br>RMD_Close: 0.34<br>CAT_Close: 0.24<br>GOOGL_Close: 0.19",
          "Return: 21.83%<br>Volatility: 0.10<br>XOM_Close: 0.13<br>AMGN_Close: 0.14<br>BSX_Close: 0.21<br>INTC_Close: 0.32<br>ABBV_Close: 0.21",
          "Return: 3.10%<br>Volatility: 0.12<br>VZ_Close: 0.05<br>DE_Close: 0.38<br>DHR_Close: 0.04<br>MA_Close: 0.19<br>GE_Close: 0.35",
          "Return: 14.13%<br>Volatility: 0.08<br>CMCSA_Close: 0.15<br>RTX_Close: 0.32<br>DIS_Close: 0.29<br>MCD_Close: 0.19<br>PEP_Close: 0.06",
          "Return: 24.85%<br>Volatility: 0.10<br>HON_Close: 0.21<br>HD_Close: 0.12<br>BTI_Close: 0.25<br>AMZN_Close: 0.22<br>SAP_Close: 0.20",
          "Return: 9.18%<br>Volatility: 0.17<br>GOOG_Close: 0.09<br>VZ_Close: 0.11<br>AMD_Close: 0.26<br>JNJ_Close: 0.39<br>ABBV_Close: 0.16",
          "Return: 12.71%<br>Volatility: 0.15<br>ORCL_Close: 0.19<br>TSLA_Close: 0.25<br>GE_Close: 0.22<br>HD_Close: 0.12<br>VRTX_Close: 0.22",
          "Return: 1.38%<br>Volatility: 0.10<br>CPB_Close: 0.24<br>CSCO_Close: 0.27<br>DIS_Close: 0.17<br>MMM_Close: 0.11<br>AMGN_Close: 0.21",
          "Return: 18.42%<br>Volatility: 0.15<br>SRE_Close: 0.15<br>NFLX_Close: 0.14<br>KR_Close: 0.27<br>VRTX_Close: 0.17<br>JPM_Close: 0.27",
          "Return: 31.08%<br>Volatility: 0.12<br>GIS_Close: 0.13<br>REGN_Close: 0.28<br>HD_Close: 0.23<br>ABBV_Close: 0.21<br>NVDA_Close: 0.15",
          "Return: -6.03%<br>Volatility: 0.23<br>UA_Close: 0.45<br>VRTX_Close: 0.10<br>ORCL_Close: 0.38<br>META_Close: 0.06<br>SYY_Close: 0.01",
          "Return: 4.39%<br>Volatility: 0.10<br>CSCO_Close: 0.08<br>MRK_Close: 0.39<br>MMM_Close: 0.16<br>ETN_Close: 0.32<br>PG_Close: 0.05",
          "Return: 12.03%<br>Volatility: 0.09<br>AEP_Close: 0.14<br>DHR_Close: 0.02<br>MA_Close: 0.28<br>T_Close: 0.28<br>MDT_Close: 0.28",
          "Return: 9.19%<br>Volatility: 0.10<br>ZBH_Close: 0.31<br>AAPL_Close: 0.12<br>DHR_Close: 0.27<br>MDT_Close: 0.17<br>QCOM_Close: 0.13",
          "Return: 20.40%<br>Volatility: 0.10<br>EW_Close: 0.20<br>SAP_Close: 0.12<br>QCOM_Close: 0.25<br>KO_Close: 0.27<br>V_Close: 0.16",
          "Return: 18.13%<br>Volatility: 0.09<br>RMD_Close: 0.29<br>WFC_Close: 0.03<br>XOM_Close: 0.17<br>GOOG_Close: 0.19<br>SYY_Close: 0.31",
          "Return: 8.10%<br>Volatility: 0.20<br>DIS_Close: 0.10<br>META_Close: 0.27<br>AMD_Close: 0.20<br>KR_Close: 0.26<br>VRTX_Close: 0.17",
          "Return: 18.76%<br>Volatility: 0.08<br>PG_Close: 0.16<br>BAC_Close: 0.05<br>PFE_Close: 0.43<br>MA_Close: 0.32<br>ACN_Close: 0.04",
          "Return: 15.50%<br>Volatility: 0.10<br>CMCSA_Close: 0.14<br>GM_Close: 0.37<br>PG_Close: 0.12<br>SYK_Close: 0.26<br>AAPL_Close: 0.10",
          "Return: -15.11%<br>Volatility: 0.15<br>SRE_Close: 0.27<br>GOOGL_Close: 0.08<br>CVX_Close: 0.22<br>UA_Close: 0.29<br>GE_Close: 0.14",
          "Return: 33.40%<br>Volatility: 0.12<br>MMM_Close: 0.14<br>BABA_Close: 0.25<br>HON_Close: 0.26<br>BAC_Close: 0.32<br>NFLX_Close: 0.03",
          "Return: 23.83%<br>Volatility: 0.11<br>META_Close: 0.56<br>HD_Close: 0.15<br>ORCL_Close: 0.14<br>SO_Close: 0.14<br>SYK_Close: 0.00",
          "Return: 8.33%<br>Volatility: 0.10<br>EXC_Close: 0.33<br>MO_Close: 0.15<br>QCOM_Close: 0.15<br>GILD_Close: 0.35<br>SRE_Close: 0.03",
          "Return: 22.66%<br>Volatility: 0.10<br>BTI_Close: 0.21<br>MMM_Close: 0.21<br>WFC_Close: 0.26<br>WMT_Close: 0.29<br>VZ_Close: 0.03",
          "Return: 16.40%<br>Volatility: 0.09<br>HON_Close: 0.25<br>GILD_Close: 0.25<br>EMR_Close: 0.21<br>DUK_Close: 0.09<br>RMD_Close: 0.20",
          "Return: 7.25%<br>Volatility: 0.11<br>ZBH_Close: 0.32<br>MS_Close: 0.07<br>GILD_Close: 0.26<br>BTI_Close: 0.12<br>CMCSA_Close: 0.23",
          "Return: 19.75%<br>Volatility: 0.09<br>WFC_Close: 0.13<br>ABT_Close: 0.45<br>UNH_Close: 0.09<br>MSFT_Close: 0.08<br>SO_Close: 0.24",
          "Return: 15.39%<br>Volatility: 0.15<br>NVDA_Close: 0.22<br>HON_Close: 0.20<br>GIS_Close: 0.21<br>BMY_Close: 0.16<br>UA_Close: 0.21",
          "Return: 21.90%<br>Volatility: 0.12<br>GS_Close: 0.08<br>DIS_Close: 0.41<br>JNJ_Close: 0.19<br>VRTX_Close: 0.26<br>ISRG_Close: 0.07",
          "Return: 16.28%<br>Volatility: 0.08<br>MDT_Close: 0.13<br>CMCSA_Close: 0.17<br>GOOG_Close: 0.30<br>JNJ_Close: 0.26<br>PEP_Close: 0.15",
          "Return: 46.91%<br>Volatility: 0.19<br>DIS_Close: 0.10<br>PYPL_Close: 0.02<br>SYY_Close: 0.38<br>NVDA_Close: 0.46<br>MA_Close: 0.05",
          "Return: 13.06%<br>Volatility: 0.11<br>QCOM_Close: 0.23<br>JPM_Close: 0.06<br>WMT_Close: 0.15<br>PM_Close: 0.52<br>AAPL_Close: 0.04",
          "Return: 25.37%<br>Volatility: 0.14<br>MMM_Close: 0.24<br>MSFT_Close: 0.07<br>UA_Close: 0.22<br>ADBE_Close: 0.17<br>BA_Close: 0.30",
          "Return: 15.80%<br>Volatility: 0.09<br>LMT_Close: 0.19<br>BSX_Close: 0.11<br>F_Close: 0.22<br>ADBE_Close: 0.24<br>GIS_Close: 0.25",
          "Return: 25.64%<br>Volatility: 0.12<br>ZBH_Close: 0.06<br>MS_Close: 0.41<br>DE_Close: 0.30<br>TMO_Close: 0.22<br>XOM_Close: 0.00",
          "Return: -11.03%<br>Volatility: 0.22<br>BSX_Close: 0.28<br>PM_Close: 0.11<br>GILD_Close: 0.24<br>AMD_Close: 0.34<br>LLY_Close: 0.03",
          "Return: 11.77%<br>Volatility: 0.09<br>ORCL_Close: 0.19<br>COST_Close: 0.27<br>SYY_Close: 0.17<br>MDT_Close: 0.11<br>BTI_Close: 0.26",
          "Return: 9.50%<br>Volatility: 0.10<br>JPM_Close: 0.14<br>MS_Close: 0.18<br>MRK_Close: 0.38<br>ABBV_Close: 0.07<br>AAPL_Close: 0.23",
          "Return: 13.18%<br>Volatility: 0.09<br>EMR_Close: 0.08<br>MCD_Close: 0.12<br>DE_Close: 0.11<br>MO_Close: 0.40<br>BMY_Close: 0.29",
          "Return: 26.31%<br>Volatility: 0.11<br>MCD_Close: 0.17<br>WFC_Close: 0.20<br>VZ_Close: 0.12<br>BABA_Close: 0.29<br>BSX_Close: 0.23",
          "Return: 9.07%<br>Volatility: 0.10<br>K_Close: 0.42<br>AAPL_Close: 0.15<br>HD_Close: 0.16<br>MO_Close: 0.19<br>BABA_Close: 0.07",
          "Return: 31.70%<br>Volatility: 0.10<br>HON_Close: 0.40<br>MSFT_Close: 0.38<br>NFLX_Close: 0.02<br>NKE_Close: 0.02<br>MCD_Close: 0.17",
          "Return: 16.29%<br>Volatility: 0.10<br>CPB_Close: 0.04<br>LLY_Close: 0.23<br>ADBE_Close: 0.26<br>WFC_Close: 0.27<br>ORCL_Close: 0.20",
          "Return: -8.78%<br>Volatility: 0.21<br>GILD_Close: 0.11<br>MDT_Close: 0.20<br>KR_Close: 0.09<br>NKE_Close: 0.28<br>AMD_Close: 0.32",
          "Return: 3.99%<br>Volatility: 0.13<br>BIIB_Close: 0.53<br>DUK_Close: 0.19<br>XOM_Close: 0.18<br>BTI_Close: 0.04<br>GE_Close: 0.06",
          "Return: 17.11%<br>Volatility: 0.12<br>RTX_Close: 0.11<br>UNH_Close: 0.04<br>AMZN_Close: 0.30<br>GS_Close: 0.33<br>WFC_Close: 0.22",
          "Return: 17.91%<br>Volatility: 0.09<br>PM_Close: 0.22<br>HON_Close: 0.22<br>SAP_Close: 0.10<br>AAPL_Close: 0.10<br>TMO_Close: 0.36",
          "Return: 10.16%<br>Volatility: 0.11<br>CAT_Close: 0.24<br>BSX_Close: 0.22<br>BAC_Close: 0.01<br>RDY_Close: 0.09<br>K_Close: 0.44",
          "Return: 10.43%<br>Volatility: 0.10<br>VRTX_Close: 0.07<br>SAP_Close: 0.17<br>WFC_Close: 0.40<br>GIS_Close: 0.24<br>BSX_Close: 0.12",
          "Return: 23.68%<br>Volatility: 0.09<br>BA_Close: 0.20<br>LLY_Close: 0.35<br>SYK_Close: 0.16<br>ABT_Close: 0.12<br>EMR_Close: 0.18",
          "Return: 35.07%<br>Volatility: 0.13<br>NFLX_Close: 0.10<br>MCD_Close: 0.32<br>TMO_Close: 0.16<br>TSLA_Close: 0.19<br>ISRG_Close: 0.24",
          "Return: 19.75%<br>Volatility: 0.12<br>BAC_Close: 0.19<br>LMT_Close: 0.01<br>COST_Close: 0.24<br>GILD_Close: 0.38<br>BA_Close: 0.18",
          "Return: 35.00%<br>Volatility: 0.12<br>DUK_Close: 0.21<br>BA_Close: 0.07<br>AMZN_Close: 0.22<br>MA_Close: 0.20<br>ADBE_Close: 0.31",
          "Return: 30.69%<br>Volatility: 0.13<br>SYY_Close: 0.05<br>LMT_Close: 0.28<br>META_Close: 0.31<br>VRTX_Close: 0.23<br>T_Close: 0.13",
          "Return: 5.81%<br>Volatility: 0.14<br>XOM_Close: 0.26<br>NEE_Close: 0.08<br>BAC_Close: 0.02<br>REGN_Close: 0.47<br>GM_Close: 0.16",
          "Return: 28.23%<br>Volatility: 0.11<br>META_Close: 0.23<br>CMCSA_Close: 0.27<br>CRM_Close: 0.06<br>EXC_Close: 0.20<br>BABA_Close: 0.23",
          "Return: 14.27%<br>Volatility: 0.10<br>SO_Close: 0.05<br>GILD_Close: 0.23<br>QCOM_Close: 0.29<br>AAPL_Close: 0.12<br>AEP_Close: 0.31",
          "Return: -8.66%<br>Volatility: 0.18<br>CMCSA_Close: 0.08<br>SNAP_Close: 0.23<br>COST_Close: 0.35<br>JNJ_Close: 0.05<br>REGN_Close: 0.29",
          "Return: 12.80%<br>Volatility: 0.12<br>TSLA_Close: 0.24<br>AMGN_Close: 0.05<br>BSX_Close: 0.16<br>JNJ_Close: 0.36<br>F_Close: 0.20",
          "Return: 14.44%<br>Volatility: 0.09<br>DIS_Close: 0.20<br>CAT_Close: 0.21<br>NKE_Close: 0.11<br>PM_Close: 0.22<br>MDT_Close: 0.26",
          "Return: 32.36%<br>Volatility: 0.11<br>EW_Close: 0.01<br>WFC_Close: 0.24<br>ISRG_Close: 0.27<br>MCD_Close: 0.18<br>MA_Close: 0.30",
          "Return: 12.12%<br>Volatility: 0.11<br>GILD_Close: 0.14<br>DIS_Close: 0.20<br>V_Close: 0.20<br>CMCSA_Close: 0.35<br>RMD_Close: 0.10",
          "Return: 34.80%<br>Volatility: 0.15<br>GE_Close: 0.08<br>ORCL_Close: 0.36<br>PYPL_Close: 0.33<br>TXN_Close: 0.02<br>BABA_Close: 0.21",
          "Return: 21.53%<br>Volatility: 0.09<br>MO_Close: 0.23<br>GS_Close: 0.04<br>MCD_Close: 0.30<br>INTC_Close: 0.28<br>COST_Close: 0.14",
          "Return: 39.17%<br>Volatility: 0.21<br>VRTX_Close: 0.50<br>F_Close: 0.26<br>ACN_Close: 0.16<br>V_Close: 0.01<br>WMT_Close: 0.07",
          "Return: 4.71%<br>Volatility: 0.11<br>BIIB_Close: 0.01<br>ZBH_Close: 0.42<br>EMR_Close: 0.10<br>ACN_Close: 0.33<br>GE_Close: 0.13",
          "Return: -7.73%<br>Volatility: 0.22<br>MS_Close: 0.17<br>AMD_Close: 0.35<br>ABT_Close: 0.07<br>PM_Close: 0.37<br>BSX_Close: 0.05",
          "Return: 6.52%<br>Volatility: 0.11<br>CPB_Close: 0.39<br>MO_Close: 0.07<br>TXN_Close: 0.19<br>NEE_Close: 0.23<br>V_Close: 0.12",
          "Return: 8.29%<br>Volatility: 0.16<br>F_Close: 0.21<br>BABA_Close: 0.24<br>CVX_Close: 0.24<br>UA_Close: 0.28<br>CRM_Close: 0.03",
          "Return: 18.17%<br>Volatility: 0.10<br>SNAP_Close: 0.06<br>NEE_Close: 0.35<br>JPM_Close: 0.03<br>RDY_Close: 0.13<br>UNH_Close: 0.43",
          "Return: -10.98%<br>Volatility: 0.20<br>META_Close: 0.27<br>UA_Close: 0.25<br>SYY_Close: 0.25<br>SNAP_Close: 0.22<br>V_Close: 0.02",
          "Return: 13.46%<br>Volatility: 0.12<br>BAC_Close: 0.31<br>K_Close: 0.14<br>REGN_Close: 0.15<br>NFLX_Close: 0.22<br>GIS_Close: 0.18",
          "Return: 24.60%<br>Volatility: 0.12<br>NFLX_Close: 0.19<br>CAT_Close: 0.15<br>PM_Close: 0.02<br>MA_Close: 0.17<br>F_Close: 0.47",
          "Return: 28.04%<br>Volatility: 0.11<br>CAT_Close: 0.22<br>MA_Close: 0.13<br>EMR_Close: 0.25<br>ZBH_Close: 0.19<br>CSCO_Close: 0.22",
          "Return: 10.52%<br>Volatility: 0.13<br>IBM_Close: 0.06<br>TSLA_Close: 0.15<br>BSX_Close: 0.19<br>F_Close: 0.30<br>EW_Close: 0.30",
          "Return: 10.48%<br>Volatility: 0.09<br>MCD_Close: 0.36<br>DIS_Close: 0.38<br>CRM_Close: 0.02<br>K_Close: 0.19<br>AMD_Close: 0.04",
          "Return: -3.96%<br>Volatility: 0.17<br>K_Close: 0.01<br>NKE_Close: 0.03<br>EXC_Close: 0.53<br>AMD_Close: 0.24<br>RDY_Close: 0.19",
          "Return: 16.49%<br>Volatility: 0.11<br>QCOM_Close: 0.22<br>ISRG_Close: 0.03<br>CVX_Close: 0.08<br>GS_Close: 0.31<br>LMT_Close: 0.36",
          "Return: 0.64%<br>Volatility: 0.09<br>RMD_Close: 0.20<br>MRK_Close: 0.33<br>CPB_Close: 0.02<br>GIS_Close: 0.28<br>ORCL_Close: 0.18",
          "Return: -18.37%<br>Volatility: 0.23<br>KR_Close: 0.33<br>WFC_Close: 0.25<br>HON_Close: 0.01<br>SNAP_Close: 0.29<br>CMCSA_Close: 0.13",
          "Return: -0.36%<br>Volatility: 0.10<br>MO_Close: 0.06<br>IBM_Close: 0.32<br>BTI_Close: 0.30<br>BSX_Close: 0.27<br>MA_Close: 0.05",
          "Return: 16.92%<br>Volatility: 0.08<br>CSCO_Close: 0.30<br>MCD_Close: 0.21<br>ISRG_Close: 0.04<br>DIS_Close: 0.33<br>NEE_Close: 0.12",
          "Return: 22.47%<br>Volatility: 0.13<br>NFLX_Close: 0.13<br>V_Close: 0.10<br>RMD_Close: 0.26<br>SAP_Close: 0.09<br>MS_Close: 0.42",
          "Return: 25.37%<br>Volatility: 0.11<br>NFLX_Close: 0.14<br>AMZN_Close: 0.06<br>PM_Close: 0.21<br>ADBE_Close: 0.28<br>CVX_Close: 0.31",
          "Return: 32.11%<br>Volatility: 0.11<br>ISRG_Close: 0.15<br>NKE_Close: 0.01<br>ABT_Close: 0.21<br>TXN_Close: 0.45<br>ORCL_Close: 0.18",
          "Return: 38.09%<br>Volatility: 0.13<br>TMO_Close: 0.20<br>DIS_Close: 0.02<br>PYPL_Close: 0.45<br>XOM_Close: 0.25<br>NFLX_Close: 0.09",
          "Return: 25.13%<br>Volatility: 0.09<br>SRE_Close: 0.06<br>ACN_Close: 0.04<br>MCD_Close: 0.33<br>GS_Close: 0.24<br>HD_Close: 0.33",
          "Return: 17.53%<br>Volatility: 0.14<br>GE_Close: 0.08<br>VRTX_Close: 0.24<br>EMR_Close: 0.25<br>BMY_Close: 0.24<br>AMGN_Close: 0.20",
          "Return: 4.54%<br>Volatility: 0.17<br>SNAP_Close: 0.23<br>GILD_Close: 0.16<br>MS_Close: 0.10<br>BA_Close: 0.22<br>BTI_Close: 0.30",
          "Return: 17.10%<br>Volatility: 0.09<br>ORCL_Close: 0.27<br>ZBH_Close: 0.18<br>BA_Close: 0.11<br>MDT_Close: 0.18<br>NEE_Close: 0.26",
          "Return: 32.41%<br>Volatility: 0.11<br>PYPL_Close: 0.25<br>ADBE_Close: 0.20<br>QCOM_Close: 0.08<br>AEP_Close: 0.35<br>MDT_Close: 0.12",
          "Return: 40.75%<br>Volatility: 0.22<br>EXC_Close: 0.01<br>AMGN_Close: 0.06<br>NVDA_Close: 0.35<br>CPB_Close: 0.16<br>NFLX_Close: 0.41",
          "Return: -17.53%<br>Volatility: 0.12<br>EMR_Close: 0.14<br>MO_Close: 0.06<br>REGN_Close: 0.08<br>GE_Close: 0.32<br>AMGN_Close: 0.41",
          "Return: 10.56%<br>Volatility: 0.09<br>EMR_Close: 0.22<br>BMY_Close: 0.24<br>BSX_Close: 0.24<br>XOM_Close: 0.16<br>RMD_Close: 0.15",
          "Return: 39.10%<br>Volatility: 0.11<br>MA_Close: 0.19<br>ISRG_Close: 0.35<br>V_Close: 0.15<br>VZ_Close: 0.09<br>DE_Close: 0.22",
          "Return: 26.73%<br>Volatility: 0.10<br>MSFT_Close: 0.06<br>GOOGL_Close: 0.16<br>CMCSA_Close: 0.31<br>ACN_Close: 0.29<br>ABBV_Close: 0.17",
          "Return: 45.84%<br>Volatility: 0.19<br>HON_Close: 0.17<br>COST_Close: 0.15<br>CPB_Close: 0.12<br>NVDA_Close: 0.43<br>VRTX_Close: 0.13",
          "Return: 16.02%<br>Volatility: 0.13<br>TXN_Close: 0.16<br>SNAP_Close: 0.08<br>ISRG_Close: 0.08<br>BSX_Close: 0.23<br>GOOGL_Close: 0.45",
          "Return: 6.37%<br>Volatility: 0.08<br>AMGN_Close: 0.27<br>SO_Close: 0.34<br>CPB_Close: 0.11<br>AMZN_Close: 0.06<br>INTC_Close: 0.22",
          "Return: 9.35%<br>Volatility: 0.09<br>VZ_Close: 0.01<br>ETN_Close: 0.32<br>DIS_Close: 0.30<br>GILD_Close: 0.22<br>GOOG_Close: 0.15",
          "Return: 11.78%<br>Volatility: 0.13<br>HON_Close: 0.33<br>ADBE_Close: 0.31<br>UA_Close: 0.21<br>AMGN_Close: 0.05<br>MRK_Close: 0.10",
          "Return: 25.78%<br>Volatility: 0.10<br>TSLA_Close: 0.15<br>WMT_Close: 0.27<br>VZ_Close: 0.31<br>HON_Close: 0.27<br>MRK_Close: 0.00",
          "Return: 20.75%<br>Volatility: 0.14<br>REGN_Close: 0.05<br>BSX_Close: 0.26<br>PYPL_Close: 0.28<br>V_Close: 0.03<br>GILD_Close: 0.39",
          "Return: -0.57%<br>Volatility: 0.08<br>GIS_Close: 0.20<br>SO_Close: 0.22<br>PM_Close: 0.23<br>XOM_Close: 0.14<br>T_Close: 0.22",
          "Return: 19.63%<br>Volatility: 0.10<br>QCOM_Close: 0.02<br>DE_Close: 0.36<br>PM_Close: 0.15<br>MO_Close: 0.23<br>AEP_Close: 0.24",
          "Return: 18.90%<br>Volatility: 0.11<br>RMD_Close: 0.29<br>JPM_Close: 0.19<br>BAC_Close: 0.22<br>SYY_Close: 0.15<br>PEP_Close: 0.16",
          "Return: -2.09%<br>Volatility: 0.10<br>SO_Close: 0.24<br>CPB_Close: 0.28<br>COST_Close: 0.14<br>WFC_Close: 0.18<br>EXC_Close: 0.16",
          "Return: 9.30%<br>Volatility: 0.07<br>ACN_Close: 0.09<br>KO_Close: 0.30<br>WFC_Close: 0.15<br>NKE_Close: 0.02<br>XOM_Close: 0.44",
          "Return: 21.15%<br>Volatility: 0.13<br>V_Close: 0.21<br>GM_Close: 0.63<br>BAC_Close: 0.01<br>NVDA_Close: 0.01<br>META_Close: 0.14",
          "Return: 10.45%<br>Volatility: 0.12<br>RDY_Close: 0.08<br>CSCO_Close: 0.24<br>COST_Close: 0.07<br>REGN_Close: 0.27<br>JPM_Close: 0.34",
          "Return: 6.18%<br>Volatility: 0.12<br>BMY_Close: 0.12<br>REGN_Close: 0.23<br>BSX_Close: 0.32<br>CSCO_Close: 0.20<br>GM_Close: 0.13",
          "Return: -10.29%<br>Volatility: 0.12<br>BMY_Close: 0.21<br>SNAP_Close: 0.06<br>ABT_Close: 0.40<br>GE_Close: 0.33<br>MO_Close: 0.00",
          "Return: 8.89%<br>Volatility: 0.08<br>RTX_Close: 0.24<br>MO_Close: 0.22<br>SRE_Close: 0.20<br>ISRG_Close: 0.10<br>GS_Close: 0.24",
          "Return: 26.13%<br>Volatility: 0.09<br>ISRG_Close: 0.15<br>SRE_Close: 0.25<br>MMM_Close: 0.27<br>CAT_Close: 0.11<br>BAC_Close: 0.21",
          "Return: 25.95%<br>Volatility: 0.09<br>V_Close: 0.30<br>NKE_Close: 0.19<br>MSFT_Close: 0.23<br>MMM_Close: 0.22<br>SRE_Close: 0.06",
          "Return: 9.27%<br>Volatility: 0.13<br>GIS_Close: 0.41<br>GOOG_Close: 0.11<br>REGN_Close: 0.20<br>TSLA_Close: 0.21<br>BIIB_Close: 0.07",
          "Return: 18.30%<br>Volatility: 0.15<br>BABA_Close: 0.12<br>REGN_Close: 0.28<br>GILD_Close: 0.19<br>AMZN_Close: 0.35<br>SNAP_Close: 0.06",
          "Return: 8.12%<br>Volatility: 0.09<br>SRE_Close: 0.24<br>DUK_Close: 0.30<br>GILD_Close: 0.08<br>SO_Close: 0.28<br>PYPL_Close: 0.09",
          "Return: 11.05%<br>Volatility: 0.09<br>EXC_Close: 0.21<br>GIS_Close: 0.21<br>ADBE_Close: 0.09<br>DUK_Close: 0.25<br>BMY_Close: 0.24",
          "Return: 4.26%<br>Volatility: 0.09<br>WFC_Close: 0.38<br>JNJ_Close: 0.04<br>PFE_Close: 0.14<br>MRK_Close: 0.29<br>V_Close: 0.14",
          "Return: -5.55%<br>Volatility: 0.19<br>PM_Close: 0.24<br>UA_Close: 0.33<br>TSLA_Close: 0.25<br>META_Close: 0.03<br>LLY_Close: 0.15",
          "Return: 30.02%<br>Volatility: 0.11<br>ADBE_Close: 0.19<br>WMT_Close: 0.14<br>DE_Close: 0.24<br>BIIB_Close: 0.26<br>PEP_Close: 0.18",
          "Return: 16.34%<br>Volatility: 0.10<br>ORCL_Close: 0.06<br>MSFT_Close: 0.16<br>REGN_Close: 0.23<br>BMY_Close: 0.26<br>NEE_Close: 0.28",
          "Return: 18.74%<br>Volatility: 0.12<br>SRE_Close: 0.44<br>SYK_Close: 0.30<br>VRTX_Close: 0.21<br>MRK_Close: 0.05<br>TSLA_Close: 0.00",
          "Return: 21.29%<br>Volatility: 0.09<br>MCD_Close: 0.25<br>HD_Close: 0.07<br>TSLA_Close: 0.16<br>PG_Close: 0.26<br>RTX_Close: 0.25",
          "Return: 13.22%<br>Volatility: 0.12<br>DHR_Close: 0.43<br>SNAP_Close: 0.10<br>MMM_Close: 0.28<br>ADBE_Close: 0.16<br>REGN_Close: 0.03",
          "Return: 31.73%<br>Volatility: 0.09<br>ADBE_Close: 0.13<br>MCD_Close: 0.41<br>NFLX_Close: 0.07<br>MMM_Close: 0.25<br>LLY_Close: 0.13",
          "Return: 0.29%<br>Volatility: 0.09<br>MRK_Close: 0.28<br>T_Close: 0.11<br>AMGN_Close: 0.25<br>JNJ_Close: 0.17<br>BTI_Close: 0.19",
          "Return: 35.11%<br>Volatility: 0.14<br>BABA_Close: 0.35<br>CAT_Close: 0.20<br>KR_Close: 0.07<br>ZBH_Close: 0.32<br>F_Close: 0.07",
          "Return: 22.28%<br>Volatility: 0.14<br>K_Close: 0.25<br>VRTX_Close: 0.27<br>DHR_Close: 0.15<br>MO_Close: 0.07<br>GOOG_Close: 0.25",
          "Return: 4.27%<br>Volatility: 0.10<br>MRK_Close: 0.29<br>ORCL_Close: 0.18<br>NKE_Close: 0.29<br>JPM_Close: 0.17<br>DIS_Close: 0.07",
          "Return: 23.82%<br>Volatility: 0.09<br>LMT_Close: 0.09<br>PG_Close: 0.08<br>QCOM_Close: 0.19<br>SAP_Close: 0.37<br>UNH_Close: 0.27",
          "Return: 15.57%<br>Volatility: 0.09<br>RMD_Close: 0.22<br>PFE_Close: 0.48<br>NKE_Close: 0.08<br>ABT_Close: 0.20<br>GIS_Close: 0.02",
          "Return: 26.56%<br>Volatility: 0.12<br>DIS_Close: 0.06<br>RMD_Close: 0.03<br>ETN_Close: 0.27<br>INTC_Close: 0.28<br>TXN_Close: 0.35",
          "Return: 30.35%<br>Volatility: 0.11<br>PYPL_Close: 0.34<br>PM_Close: 0.24<br>MMM_Close: 0.16<br>SYK_Close: 0.09<br>NKE_Close: 0.17",
          "Return: 15.65%<br>Volatility: 0.10<br>CPB_Close: 0.11<br>ISRG_Close: 0.22<br>VZ_Close: 0.29<br>QCOM_Close: 0.19<br>WFC_Close: 0.19",
          "Return: 25.48%<br>Volatility: 0.11<br>DE_Close: 0.15<br>IBM_Close: 0.05<br>GILD_Close: 0.36<br>PYPL_Close: 0.27<br>GIS_Close: 0.17",
          "Return: 9.80%<br>Volatility: 0.07<br>PFE_Close: 0.16<br>HON_Close: 0.33<br>MRK_Close: 0.13<br>SRE_Close: 0.20<br>BTI_Close: 0.17",
          "Return: 0.77%<br>Volatility: 0.12<br>BTI_Close: 0.47<br>DUK_Close: 0.10<br>ORCL_Close: 0.10<br>REGN_Close: 0.04<br>CPB_Close: 0.28",
          "Return: 11.73%<br>Volatility: 0.08<br>F_Close: 0.25<br>DUK_Close: 0.20<br>ABT_Close: 0.01<br>JNJ_Close: 0.51<br>META_Close: 0.03",
          "Return: 12.89%<br>Volatility: 0.08<br>SRE_Close: 0.24<br>HD_Close: 0.13<br>IBM_Close: 0.27<br>WMT_Close: 0.27<br>EXC_Close: 0.09",
          "Return: 13.16%<br>Volatility: 0.09<br>AAPL_Close: 0.26<br>UNH_Close: 0.26<br>MDT_Close: 0.03<br>CSCO_Close: 0.15<br>MRK_Close: 0.31",
          "Return: 8.81%<br>Volatility: 0.15<br>EMR_Close: 0.05<br>DHR_Close: 0.39<br>BMY_Close: 0.15<br>ADBE_Close: 0.26<br>SNAP_Close: 0.15",
          "Return: 18.77%<br>Volatility: 0.11<br>MSFT_Close: 0.16<br>SYK_Close: 0.12<br>META_Close: 0.24<br>JNJ_Close: 0.20<br>BSX_Close: 0.28",
          "Return: 18.37%<br>Volatility: 0.08<br>F_Close: 0.18<br>JPM_Close: 0.29<br>CVX_Close: 0.05<br>MA_Close: 0.21<br>EXC_Close: 0.26",
          "Return: 2.48%<br>Volatility: 0.09<br>PM_Close: 0.21<br>MDT_Close: 0.25<br>MMM_Close: 0.24<br>DIS_Close: 0.21<br>UA_Close: 0.10",
          "Return: 22.80%<br>Volatility: 0.11<br>MMM_Close: 0.11<br>ACN_Close: 0.12<br>EW_Close: 0.27<br>TMO_Close: 0.27<br>JPM_Close: 0.23",
          "Return: 24.46%<br>Volatility: 0.10<br>AMGN_Close: 0.23<br>PYPL_Close: 0.24<br>HD_Close: 0.31<br>ZBH_Close: 0.14<br>IBM_Close: 0.08",
          "Return: 7.51%<br>Volatility: 0.10<br>GS_Close: 0.17<br>T_Close: 0.21<br>WMT_Close: 0.05<br>GIS_Close: 0.37<br>ACN_Close: 0.20",
          "Return: 12.66%<br>Volatility: 0.10<br>NVDA_Close: 0.10<br>MRK_Close: 0.28<br>UNH_Close: 0.24<br>T_Close: 0.25<br>ETN_Close: 0.13",
          "Return: 32.67%<br>Volatility: 0.11<br>GM_Close: 0.12<br>WMT_Close: 0.27<br>NVDA_Close: 0.15<br>SYK_Close: 0.27<br>LLY_Close: 0.18",
          "Return: 6.68%<br>Volatility: 0.11<br>RDY_Close: 0.22<br>PEP_Close: 0.32<br>MO_Close: 0.02<br>SAP_Close: 0.20<br>ZBH_Close: 0.25",
          "Return: 25.30%<br>Volatility: 0.10<br>MMM_Close: 0.26<br>SAP_Close: 0.35<br>INTC_Close: 0.27<br>PEP_Close: 0.03<br>PFE_Close: 0.07",
          "Return: 33.42%<br>Volatility: 0.09<br>ABBV_Close: 0.25<br>T_Close: 0.05<br>AEP_Close: 0.26<br>TXN_Close: 0.21<br>MSFT_Close: 0.23",
          "Return: 20.22%<br>Volatility: 0.14<br>INTC_Close: 0.01<br>BABA_Close: 0.42<br>NEE_Close: 0.15<br>GE_Close: 0.20<br>ORCL_Close: 0.23",
          "Return: 27.39%<br>Volatility: 0.12<br>MMM_Close: 0.16<br>ACN_Close: 0.14<br>AAPL_Close: 0.31<br>AMZN_Close: 0.29<br>MDT_Close: 0.10",
          "Return: 12.58%<br>Volatility: 0.10<br>MO_Close: 0.25<br>WFC_Close: 0.10<br>MSFT_Close: 0.24<br>MS_Close: 0.24<br>AMGN_Close: 0.18",
          "Return: 4.26%<br>Volatility: 0.15<br>IBM_Close: 0.01<br>VZ_Close: 0.32<br>F_Close: 0.22<br>AMD_Close: 0.19<br>GOOG_Close: 0.26",
          "Return: 1.54%<br>Volatility: 0.12<br>AEP_Close: 0.29<br>K_Close: 0.14<br>MCD_Close: 0.18<br>SNAP_Close: 0.14<br>MDT_Close: 0.24",
          "Return: 4.90%<br>Volatility: 0.11<br>GILD_Close: 0.38<br>SAP_Close: 0.08<br>BIIB_Close: 0.18<br>DUK_Close: 0.32<br>GE_Close: 0.04",
          "Return: 16.12%<br>Volatility: 0.09<br>EW_Close: 0.14<br>GIS_Close: 0.30<br>LMT_Close: 0.07<br>GOOGL_Close: 0.36<br>AEP_Close: 0.12",
          "Return: -12.20%<br>Volatility: 0.23<br>SRE_Close: 0.16<br>HD_Close: 0.09<br>SNAP_Close: 0.34<br>BTI_Close: 0.15<br>AEP_Close: 0.26",
          "Return: 15.79%<br>Volatility: 0.11<br>SYK_Close: 0.26<br>PFE_Close: 0.16<br>BA_Close: 0.15<br>BSX_Close: 0.18<br>REGN_Close: 0.24",
          "Return: -0.61%<br>Volatility: 0.12<br>ETN_Close: 0.23<br>ZBH_Close: 0.11<br>RDY_Close: 0.32<br>SO_Close: 0.31<br>SRE_Close: 0.03",
          "Return: 20.38%<br>Volatility: 0.13<br>ACN_Close: 0.06<br>CMCSA_Close: 0.33<br>WFC_Close: 0.03<br>AMZN_Close: 0.26<br>MS_Close: 0.32",
          "Return: 20.42%<br>Volatility: 0.08<br>BABA_Close: 0.16<br>AEP_Close: 0.19<br>CVX_Close: 0.25<br>JNJ_Close: 0.24<br>BSX_Close: 0.16",
          "Return: 28.33%<br>Volatility: 0.14<br>EMR_Close: 0.03<br>RMD_Close: 0.27<br>VRTX_Close: 0.13<br>VZ_Close: 0.28<br>NFLX_Close: 0.28",
          "Return: 8.20%<br>Volatility: 0.18<br>CSCO_Close: 0.06<br>BA_Close: 0.32<br>VZ_Close: 0.31<br>SNAP_Close: 0.25<br>PM_Close: 0.06",
          "Return: 9.52%<br>Volatility: 0.09<br>NKE_Close: 0.19<br>KO_Close: 0.16<br>WFC_Close: 0.40<br>AEP_Close: 0.08<br>PFE_Close: 0.18",
          "Return: 12.26%<br>Volatility: 0.09<br>PG_Close: 0.31<br>EXC_Close: 0.10<br>PM_Close: 0.30<br>NFLX_Close: 0.16<br>GOOG_Close: 0.13",
          "Return: 40.51%<br>Volatility: 0.16<br>EMR_Close: 0.06<br>NVDA_Close: 0.30<br>V_Close: 0.21<br>META_Close: 0.19<br>EXC_Close: 0.25",
          "Return: 26.28%<br>Volatility: 0.09<br>REGN_Close: 0.04<br>NEE_Close: 0.39<br>F_Close: 0.11<br>UNH_Close: 0.26<br>AMZN_Close: 0.20",
          "Return: 6.36%<br>Volatility: 0.08<br>MCD_Close: 0.13<br>MDT_Close: 0.03<br>PG_Close: 0.42<br>BSX_Close: 0.31<br>GIS_Close: 0.11",
          "Return: 17.38%<br>Volatility: 0.07<br>PFE_Close: 0.29<br>NEE_Close: 0.09<br>K_Close: 0.13<br>SAP_Close: 0.21<br>HD_Close: 0.28",
          "Return: 9.58%<br>Volatility: 0.09<br>AMGN_Close: 0.12<br>MMM_Close: 0.25<br>MCD_Close: 0.03<br>IBM_Close: 0.37<br>INTC_Close: 0.23",
          "Return: 0.10%<br>Volatility: 0.17<br>KR_Close: 0.26<br>MA_Close: 0.16<br>AMD_Close: 0.15<br>GILD_Close: 0.37<br>PFE_Close: 0.05",
          "Return: 27.70%<br>Volatility: 0.13<br>CMCSA_Close: 0.04<br>MS_Close: 0.32<br>AMZN_Close: 0.28<br>BABA_Close: 0.19<br>T_Close: 0.17",
          "Return: -3.54%<br>Volatility: 0.11<br>COST_Close: 0.13<br>GE_Close: 0.20<br>UA_Close: 0.04<br>GILD_Close: 0.27<br>SYK_Close: 0.36",
          "Return: 3.52%<br>Volatility: 0.09<br>XOM_Close: 0.15<br>MRK_Close: 0.22<br>MS_Close: 0.16<br>V_Close: 0.14<br>DIS_Close: 0.33",
          "Return: 13.20%<br>Volatility: 0.10<br>CPB_Close: 0.22<br>COST_Close: 0.14<br>BA_Close: 0.04<br>SAP_Close: 0.25<br>CRM_Close: 0.34",
          "Return: 17.33%<br>Volatility: 0.08<br>DE_Close: 0.15<br>GS_Close: 0.18<br>DHR_Close: 0.10<br>AEP_Close: 0.47<br>RMD_Close: 0.10",
          "Return: 26.66%<br>Volatility: 0.13<br>NKE_Close: 0.30<br>BA_Close: 0.24<br>GM_Close: 0.22<br>BTI_Close: 0.03<br>TSLA_Close: 0.22",
          "Return: 13.30%<br>Volatility: 0.09<br>ACN_Close: 0.23<br>GOOGL_Close: 0.40<br>KO_Close: 0.06<br>IBM_Close: 0.25<br>BSX_Close: 0.06",
          "Return: 36.17%<br>Volatility: 0.10<br>HON_Close: 0.45<br>PFE_Close: 0.14<br>GOOGL_Close: 0.03<br>PYPL_Close: 0.03<br>BA_Close: 0.36",
          "Return: 12.47%<br>Volatility: 0.09<br>QCOM_Close: 0.02<br>ORCL_Close: 0.33<br>V_Close: 0.06<br>TMO_Close: 0.21<br>XOM_Close: 0.39",
          "Return: 11.85%<br>Volatility: 0.10<br>WFC_Close: 0.26<br>CSCO_Close: 0.26<br>NKE_Close: 0.20<br>XOM_Close: 0.07<br>RTX_Close: 0.21",
          "Return: 24.70%<br>Volatility: 0.14<br>XOM_Close: 0.11<br>MS_Close: 0.55<br>TSLA_Close: 0.17<br>CAT_Close: 0.00<br>PYPL_Close: 0.16",
          "Return: -0.11%<br>Volatility: 0.20<br>PM_Close: 0.35<br>AMD_Close: 0.27<br>BIIB_Close: 0.15<br>MSFT_Close: 0.14<br>AMZN_Close: 0.08",
          "Return: 29.81%<br>Volatility: 0.16<br>MMM_Close: 0.18<br>VRTX_Close: 0.33<br>XOM_Close: 0.11<br>AMGN_Close: 0.29<br>ADBE_Close: 0.10",
          "Return: 14.56%<br>Volatility: 0.11<br>UNH_Close: 0.03<br>CPB_Close: 0.19<br>SYK_Close: 0.33<br>CSCO_Close: 0.38<br>CAT_Close: 0.08",
          "Return: 3.24%<br>Volatility: 0.11<br>SRE_Close: 0.12<br>PG_Close: 0.11<br>BMY_Close: 0.05<br>MO_Close: 0.53<br>JPM_Close: 0.18",
          "Return: 19.85%<br>Volatility: 0.10<br>CVX_Close: 0.06<br>BTI_Close: 0.16<br>AMZN_Close: 0.27<br>BMY_Close: 0.25<br>GM_Close: 0.26",
          "Return: -13.12%<br>Volatility: 0.10<br>GILD_Close: 0.24<br>DHR_Close: 0.07<br>JNJ_Close: 0.20<br>DUK_Close: 0.18<br>GE_Close: 0.31",
          "Return: 7.65%<br>Volatility: 0.11<br>T_Close: 0.27<br>KR_Close: 0.19<br>PG_Close: 0.20<br>NFLX_Close: 0.12<br>GOOGL_Close: 0.21",
          "Return: 14.20%<br>Volatility: 0.08<br>SO_Close: 0.23<br>PEP_Close: 0.18<br>AAPL_Close: 0.32<br>F_Close: 0.11<br>HON_Close: 0.16",
          "Return: 28.30%<br>Volatility: 0.10<br>RDY_Close: 0.05<br>PFE_Close: 0.13<br>ABBV_Close: 0.38<br>MMM_Close: 0.14<br>VZ_Close: 0.30",
          "Return: 23.70%<br>Volatility: 0.12<br>WMT_Close: 0.13<br>GM_Close: 0.06<br>DE_Close: 0.21<br>BIIB_Close: 0.31<br>MS_Close: 0.30",
          "Return: 28.73%<br>Volatility: 0.09<br>MRK_Close: 0.14<br>LMT_Close: 0.39<br>GOOGL_Close: 0.12<br>WMT_Close: 0.18<br>BABA_Close: 0.17",
          "Return: 11.54%<br>Volatility: 0.11<br>GOOGL_Close: 0.16<br>NKE_Close: 0.40<br>AEP_Close: 0.23<br>ETN_Close: 0.09<br>RDY_Close: 0.13",
          "Return: 20.43%<br>Volatility: 0.10<br>MS_Close: 0.21<br>AEP_Close: 0.32<br>INTC_Close: 0.07<br>AAPL_Close: 0.34<br>BAC_Close: 0.06",
          "Return: 21.07%<br>Volatility: 0.10<br>ACN_Close: 0.06<br>GIS_Close: 0.20<br>GILD_Close: 0.21<br>ABBV_Close: 0.09<br>META_Close: 0.45",
          "Return: 10.32%<br>Volatility: 0.12<br>BSX_Close: 0.11<br>LMT_Close: 0.13<br>UA_Close: 0.21<br>MCD_Close: 0.36<br>CVX_Close: 0.19",
          "Return: 27.58%<br>Volatility: 0.10<br>MDT_Close: 0.14<br>SYY_Close: 0.12<br>REGN_Close: 0.03<br>TXN_Close: 0.20<br>UNH_Close: 0.51",
          "Return: 22.52%<br>Volatility: 0.08<br>HON_Close: 0.29<br>CVX_Close: 0.22<br>KO_Close: 0.09<br>KR_Close: 0.02<br>ABT_Close: 0.38",
          "Return: 23.89%<br>Volatility: 0.10<br>VZ_Close: 0.31<br>QCOM_Close: 0.03<br>UNH_Close: 0.43<br>BTI_Close: 0.19<br>CAT_Close: 0.04",
          "Return: 33.15%<br>Volatility: 0.15<br>AMD_Close: 0.06<br>SAP_Close: 0.24<br>DE_Close: 0.26<br>VRTX_Close: 0.27<br>BTI_Close: 0.17",
          "Return: 24.09%<br>Volatility: 0.10<br>VZ_Close: 0.43<br>CPB_Close: 0.05<br>ADBE_Close: 0.15<br>MMM_Close: 0.02<br>MCD_Close: 0.35",
          "Return: 8.31%<br>Volatility: 0.10<br>V_Close: 0.04<br>GILD_Close: 0.36<br>SRE_Close: 0.44<br>SYY_Close: 0.10<br>ABBV_Close: 0.06",
          "Return: 9.87%<br>Volatility: 0.10<br>CAT_Close: 0.00<br>SAP_Close: 0.41<br>CPB_Close: 0.27<br>LMT_Close: 0.17<br>QCOM_Close: 0.14",
          "Return: 27.38%<br>Volatility: 0.14<br>HON_Close: 0.07<br>QCOM_Close: 0.16<br>IBM_Close: 0.18<br>ADBE_Close: 0.43<br>AMZN_Close: 0.16",
          "Return: 17.00%<br>Volatility: 0.18<br>AAPL_Close: 0.17<br>TSLA_Close: 0.36<br>PM_Close: 0.09<br>AMD_Close: 0.10<br>LMT_Close: 0.28",
          "Return: 20.23%<br>Volatility: 0.11<br>UNH_Close: 0.26<br>SRE_Close: 0.12<br>RMD_Close: 0.20<br>PFE_Close: 0.23<br>TSLA_Close: 0.19",
          "Return: 37.13%<br>Volatility: 0.12<br>EMR_Close: 0.21<br>MA_Close: 0.24<br>JPM_Close: 0.20<br>NFLX_Close: 0.10<br>CAT_Close: 0.25",
          "Return: -15.17%<br>Volatility: 0.25<br>BSX_Close: 0.24<br>CVX_Close: 0.29<br>SNAP_Close: 0.37<br>META_Close: 0.00<br>TXN_Close: 0.09",
          "Return: 30.42%<br>Volatility: 0.12<br>BAC_Close: 0.10<br>ORCL_Close: 0.05<br>NKE_Close: 0.09<br>GM_Close: 0.36<br>ABBV_Close: 0.40",
          "Return: 32.22%<br>Volatility: 0.13<br>TSLA_Close: 0.03<br>HD_Close: 0.03<br>MA_Close: 0.38<br>META_Close: 0.24<br>GOOG_Close: 0.32",
          "Return: 34.21%<br>Volatility: 0.10<br>ABBV_Close: 0.31<br>EXC_Close: 0.11<br>PFE_Close: 0.15<br>MSFT_Close: 0.36<br>TMO_Close: 0.07",
          "Return: 4.03%<br>Volatility: 0.11<br>F_Close: 0.14<br>IBM_Close: 0.29<br>DHR_Close: 0.16<br>TSLA_Close: 0.23<br>LLY_Close: 0.17",
          "Return: 22.64%<br>Volatility: 0.10<br>CSCO_Close: 0.26<br>ISRG_Close: 0.23<br>MSFT_Close: 0.20<br>HON_Close: 0.02<br>SRE_Close: 0.30",
          "Return: 11.67%<br>Volatility: 0.11<br>NEE_Close: 0.15<br>ADBE_Close: 0.06<br>BIIB_Close: 0.01<br>BTI_Close: 0.52<br>DIS_Close: 0.26",
          "Return: 15.57%<br>Volatility: 0.11<br>LLY_Close: 0.20<br>EW_Close: 0.14<br>KO_Close: 0.07<br>QCOM_Close: 0.31<br>RTX_Close: 0.28",
          "Return: 21.41%<br>Volatility: 0.11<br>EW_Close: 0.27<br>ABBV_Close: 0.17<br>NKE_Close: 0.28<br>NEE_Close: 0.06<br>WFC_Close: 0.21",
          "Return: 22.57%<br>Volatility: 0.12<br>DE_Close: 0.30<br>PM_Close: 0.33<br>CPB_Close: 0.06<br>TSLA_Close: 0.18<br>ADBE_Close: 0.13",
          "Return: 2.80%<br>Volatility: 0.10<br>RMD_Close: 0.25<br>IBM_Close: 0.44<br>SYY_Close: 0.21<br>GE_Close: 0.03<br>WMT_Close: 0.06",
          "Return: 20.64%<br>Volatility: 0.08<br>UNH_Close: 0.35<br>JPM_Close: 0.10<br>TXN_Close: 0.05<br>EMR_Close: 0.23<br>SO_Close: 0.26",
          "Return: 10.84%<br>Volatility: 0.09<br>SO_Close: 0.21<br>MO_Close: 0.16<br>AEP_Close: 0.22<br>ISRG_Close: 0.08<br>ORCL_Close: 0.33",
          "Return: 37.71%<br>Volatility: 0.13<br>ISRG_Close: 0.34<br>VRTX_Close: 0.18<br>EMR_Close: 0.38<br>MCD_Close: 0.05<br>ACN_Close: 0.06",
          "Return: 19.49%<br>Volatility: 0.09<br>ACN_Close: 0.02<br>HD_Close: 0.19<br>JPM_Close: 0.19<br>T_Close: 0.33<br>MCD_Close: 0.28",
          "Return: -11.86%<br>Volatility: 0.15<br>IBM_Close: 0.20<br>BSX_Close: 0.21<br>UA_Close: 0.26<br>MA_Close: 0.08<br>DIS_Close: 0.24",
          "Return: 1.74%<br>Volatility: 0.09<br>GE_Close: 0.03<br>F_Close: 0.35<br>IBM_Close: 0.26<br>SYK_Close: 0.32<br>LLY_Close: 0.03",
          "Return: 27.75%<br>Volatility: 0.14<br>PFE_Close: 0.10<br>MDT_Close: 0.27<br>VRTX_Close: 0.27<br>HD_Close: 0.13<br>AAPL_Close: 0.22",
          "Return: 22.20%<br>Volatility: 0.11<br>ABT_Close: 0.28<br>ZBH_Close: 0.30<br>TXN_Close: 0.20<br>MSFT_Close: 0.00<br>GOOGL_Close: 0.22",
          "Return: 3.26%<br>Volatility: 0.09<br>IBM_Close: 0.39<br>RTX_Close: 0.24<br>NEE_Close: 0.00<br>LMT_Close: 0.14<br>DHR_Close: 0.23",
          "Return: 24.70%<br>Volatility: 0.09<br>KO_Close: 0.12<br>CSCO_Close: 0.27<br>HON_Close: 0.22<br>BABA_Close: 0.17<br>PEP_Close: 0.22",
          "Return: 32.52%<br>Volatility: 0.13<br>META_Close: 0.14<br>MSFT_Close: 0.16<br>REGN_Close: 0.21<br>ADBE_Close: 0.23<br>DE_Close: 0.26",
          "Return: 40.06%<br>Volatility: 0.11<br>ACN_Close: 0.30<br>BA_Close: 0.43<br>RTX_Close: 0.14<br>MDT_Close: 0.03<br>NFLX_Close: 0.10",
          "Return: 13.06%<br>Volatility: 0.09<br>NKE_Close: 0.16<br>ISRG_Close: 0.14<br>TXN_Close: 0.07<br>VZ_Close: 0.20<br>SRE_Close: 0.43",
          "Return: 9.53%<br>Volatility: 0.10<br>CPB_Close: 0.10<br>EW_Close: 0.27<br>F_Close: 0.21<br>JNJ_Close: 0.25<br>GILD_Close: 0.17",
          "Return: 44.32%<br>Volatility: 0.12<br>ISRG_Close: 0.14<br>AMGN_Close: 0.01<br>WMT_Close: 0.32<br>ADBE_Close: 0.24<br>DE_Close: 0.28",
          "Return: 17.00%<br>Volatility: 0.10<br>SYK_Close: 0.11<br>ETN_Close: 0.05<br>XOM_Close: 0.02<br>T_Close: 0.41<br>MA_Close: 0.41",
          "Return: 19.46%<br>Volatility: 0.12<br>KO_Close: 0.11<br>TSLA_Close: 0.14<br>QCOM_Close: 0.23<br>CRM_Close: 0.39<br>GIS_Close: 0.13",
          "Return: 21.10%<br>Volatility: 0.13<br>VZ_Close: 0.01<br>GS_Close: 0.17<br>NVDA_Close: 0.29<br>GE_Close: 0.14<br>AEP_Close: 0.38",
          "Return: 19.90%<br>Volatility: 0.12<br>ISRG_Close: 0.25<br>VRTX_Close: 0.10<br>BSX_Close: 0.21<br>MDT_Close: 0.28<br>EXC_Close: 0.15",
          "Return: 21.48%<br>Volatility: 0.11<br>GOOG_Close: 0.14<br>MO_Close: 0.16<br>MCD_Close: 0.01<br>SYK_Close: 0.51<br>MSFT_Close: 0.18",
          "Return: 5.94%<br>Volatility: 0.13<br>HON_Close: 0.26<br>XOM_Close: 0.12<br>SNAP_Close: 0.16<br>MO_Close: 0.21<br>TXN_Close: 0.25",
          "Return: -2.17%<br>Volatility: 0.10<br>RDY_Close: 0.16<br>CPB_Close: 0.23<br>MA_Close: 0.15<br>AMGN_Close: 0.20<br>DIS_Close: 0.26",
          "Return: 30.15%<br>Volatility: 0.14<br>RMD_Close: 0.35<br>JNJ_Close: 0.19<br>VRTX_Close: 0.11<br>AMZN_Close: 0.31<br>INTC_Close: 0.04",
          "Return: 20.41%<br>Volatility: 0.12<br>SYK_Close: 0.10<br>K_Close: 0.20<br>ORCL_Close: 0.31<br>TSLA_Close: 0.10<br>ADBE_Close: 0.30",
          "Return: 21.35%<br>Volatility: 0.10<br>NEE_Close: 0.16<br>MA_Close: 0.02<br>MMM_Close: 0.35<br>BMY_Close: 0.35<br>TSLA_Close: 0.12",
          "Return: 34.84%<br>Volatility: 0.11<br>HD_Close: 0.19<br>PM_Close: 0.26<br>BMY_Close: 0.15<br>PYPL_Close: 0.33<br>NVDA_Close: 0.07",
          "Return: 20.17%<br>Volatility: 0.10<br>SYK_Close: 0.29<br>GM_Close: 0.23<br>XOM_Close: 0.14<br>CAT_Close: 0.16<br>T_Close: 0.17",
          "Return: 13.59%<br>Volatility: 0.10<br>SNAP_Close: 0.03<br>HON_Close: 0.15<br>LLY_Close: 0.29<br>BMY_Close: 0.27<br>ACN_Close: 0.26",
          "Return: 19.12%<br>Volatility: 0.08<br>MA_Close: 0.28<br>ACN_Close: 0.17<br>CRM_Close: 0.09<br>XOM_Close: 0.46<br>MMM_Close: 0.01",
          "Return: 27.32%<br>Volatility: 0.09<br>LLY_Close: 0.05<br>MMM_Close: 0.35<br>ACN_Close: 0.26<br>ABT_Close: 0.15<br>META_Close: 0.20",
          "Return: 4.65%<br>Volatility: 0.09<br>DUK_Close: 0.25<br>PG_Close: 0.10<br>JPM_Close: 0.11<br>RMD_Close: 0.29<br>CPB_Close: 0.24",
          "Return: 23.47%<br>Volatility: 0.08<br>RTX_Close: 0.34<br>V_Close: 0.13<br>WMT_Close: 0.18<br>DHR_Close: 0.16<br>NEE_Close: 0.18",
          "Return: 8.08%<br>Volatility: 0.13<br>DIS_Close: 0.12<br>SAP_Close: 0.30<br>QCOM_Close: 0.27<br>MMM_Close: 0.01<br>RDY_Close: 0.30",
          "Return: 40.05%<br>Volatility: 0.18<br>CPB_Close: 0.09<br>MS_Close: 0.26<br>CRM_Close: 0.02<br>TXN_Close: 0.31<br>NVDA_Close: 0.32",
          "Return: 10.87%<br>Volatility: 0.09<br>MRK_Close: 0.43<br>ADBE_Close: 0.08<br>AAPL_Close: 0.04<br>HD_Close: 0.23<br>LMT_Close: 0.22",
          "Return: 21.96%<br>Volatility: 0.10<br>BA_Close: 0.09<br>HD_Close: 0.22<br>JPM_Close: 0.15<br>QCOM_Close: 0.26<br>GILD_Close: 0.28",
          "Return: 27.81%<br>Volatility: 0.11<br>VRTX_Close: 0.23<br>SYK_Close: 0.15<br>T_Close: 0.12<br>JPM_Close: 0.29<br>NEE_Close: 0.22",
          "Return: 6.79%<br>Volatility: 0.12<br>QCOM_Close: 0.19<br>AEP_Close: 0.02<br>T_Close: 0.41<br>COST_Close: 0.37<br>TMO_Close: 0.01",
          "Return: 15.58%<br>Volatility: 0.11<br>BMY_Close: 0.32<br>TMO_Close: 0.38<br>ORCL_Close: 0.24<br>PM_Close: 0.01<br>EXC_Close: 0.05",
          "Return: 12.73%<br>Volatility: 0.11<br>KO_Close: 0.25<br>UA_Close: 0.01<br>F_Close: 0.35<br>RMD_Close: 0.08<br>EW_Close: 0.32",
          "Return: 21.71%<br>Volatility: 0.09<br>WMT_Close: 0.12<br>SYK_Close: 0.06<br>KO_Close: 0.01<br>ACN_Close: 0.42<br>PFE_Close: 0.39",
          "Return: 20.66%<br>Volatility: 0.17<br>VZ_Close: 0.14<br>WMT_Close: 0.17<br>AMD_Close: 0.24<br>BA_Close: 0.34<br>AMGN_Close: 0.10",
          "Return: 27.47%<br>Volatility: 0.13<br>BSX_Close: 0.17<br>TMO_Close: 0.39<br>PEP_Close: 0.02<br>BTI_Close: 0.16<br>PYPL_Close: 0.26",
          "Return: 28.21%<br>Volatility: 0.16<br>GM_Close: 0.32<br>V_Close: 0.05<br>NKE_Close: 0.20<br>VRTX_Close: 0.34<br>K_Close: 0.09",
          "Return: 26.05%<br>Volatility: 0.10<br>SAP_Close: 0.37<br>GM_Close: 0.08<br>WMT_Close: 0.10<br>PM_Close: 0.25<br>BABA_Close: 0.20",
          "Return: 13.47%<br>Volatility: 0.21<br>SNAP_Close: 0.27<br>EMR_Close: 0.10<br>SYY_Close: 0.29<br>NFLX_Close: 0.11<br>NVDA_Close: 0.23",
          "Return: -6.86%<br>Volatility: 0.15<br>KR_Close: 0.23<br>UA_Close: 0.13<br>HD_Close: 0.25<br>GE_Close: 0.18<br>EW_Close: 0.21",
          "Return: 1.74%<br>Volatility: 0.13<br>BAC_Close: 0.23<br>T_Close: 0.23<br>KR_Close: 0.24<br>BSX_Close: 0.21<br>PFE_Close: 0.10",
          "Return: 18.12%<br>Volatility: 0.08<br>UNH_Close: 0.30<br>JNJ_Close: 0.37<br>RDY_Close: 0.05<br>RTX_Close: 0.15<br>MO_Close: 0.13",
          "Return: 15.62%<br>Volatility: 0.10<br>AMZN_Close: 0.15<br>NKE_Close: 0.28<br>AEP_Close: 0.09<br>MO_Close: 0.24<br>CRM_Close: 0.25",
          "Return: 8.66%<br>Volatility: 0.11<br>AMD_Close: 0.09<br>KO_Close: 0.28<br>ZBH_Close: 0.16<br>EW_Close: 0.28<br>DUK_Close: 0.20",
          "Return: 20.15%<br>Volatility: 0.11<br>DIS_Close: 0.25<br>GE_Close: 0.08<br>PYPL_Close: 0.33<br>AAPL_Close: 0.11<br>ZBH_Close: 0.23",
          "Return: 5.50%<br>Volatility: 0.15<br>ETN_Close: 0.24<br>TSLA_Close: 0.20<br>EMR_Close: 0.11<br>SNAP_Close: 0.14<br>VZ_Close: 0.31",
          "Return: 18.35%<br>Volatility: 0.12<br>WMT_Close: 0.27<br>RDY_Close: 0.27<br>RMD_Close: 0.15<br>INTC_Close: 0.09<br>QCOM_Close: 0.22",
          "Return: 23.95%<br>Volatility: 0.13<br>TSLA_Close: 0.18<br>PYPL_Close: 0.09<br>GILD_Close: 0.01<br>ETN_Close: 0.47<br>ACN_Close: 0.24",
          "Return: 17.97%<br>Volatility: 0.09<br>SYY_Close: 0.22<br>ZBH_Close: 0.23<br>XOM_Close: 0.17<br>DE_Close: 0.24<br>BIIB_Close: 0.14",
          "Return: 40.24%<br>Volatility: 0.12<br>ADBE_Close: 0.19<br>DE_Close: 0.05<br>MA_Close: 0.26<br>MSFT_Close: 0.30<br>WMT_Close: 0.19",
          "Return: 24.29%<br>Volatility: 0.10<br>VZ_Close: 0.13<br>ACN_Close: 0.22<br>MO_Close: 0.09<br>AAPL_Close: 0.32<br>TXN_Close: 0.25",
          "Return: -9.99%<br>Volatility: 0.10<br>MRK_Close: 0.36<br>AMGN_Close: 0.17<br>K_Close: 0.05<br>BTI_Close: 0.10<br>IBM_Close: 0.31",
          "Return: 9.54%<br>Volatility: 0.10<br>MO_Close: 0.14<br>AMZN_Close: 0.22<br>PM_Close: 0.23<br>GS_Close: 0.21<br>ZBH_Close: 0.19",
          "Return: 22.14%<br>Volatility: 0.11<br>MA_Close: 0.53<br>ETN_Close: 0.17<br>WFC_Close: 0.13<br>GS_Close: 0.08<br>KR_Close: 0.10",
          "Return: 25.20%<br>Volatility: 0.11<br>K_Close: 0.14<br>BA_Close: 0.13<br>WMT_Close: 0.38<br>ORCL_Close: 0.07<br>GILD_Close: 0.29",
          "Return: 18.15%<br>Volatility: 0.13<br>EW_Close: 0.34<br>BAC_Close: 0.22<br>MS_Close: 0.17<br>VZ_Close: 0.24<br>ORCL_Close: 0.03",
          "Return: 19.34%<br>Volatility: 0.10<br>UNH_Close: 0.39<br>INTC_Close: 0.26<br>MS_Close: 0.09<br>ABT_Close: 0.00<br>IBM_Close: 0.26",
          "Return: 10.77%<br>Volatility: 0.12<br>ETN_Close: 0.02<br>WMT_Close: 0.17<br>GOOGL_Close: 0.08<br>BSX_Close: 0.60<br>PEP_Close: 0.13",
          "Return: 21.23%<br>Volatility: 0.07<br>CRM_Close: 0.23<br>CVX_Close: 0.29<br>MSFT_Close: 0.23<br>KO_Close: 0.18<br>DIS_Close: 0.06",
          "Return: 12.67%<br>Volatility: 0.09<br>MMM_Close: 0.27<br>DUK_Close: 0.23<br>BIIB_Close: 0.16<br>LLY_Close: 0.30<br>RMD_Close: 0.04",
          "Return: 40.30%<br>Volatility: 0.11<br>RTX_Close: 0.10<br>CAT_Close: 0.38<br>MA_Close: 0.26<br>V_Close: 0.15<br>SRE_Close: 0.11",
          "Return: 15.12%<br>Volatility: 0.11<br>JPM_Close: 0.06<br>ACN_Close: 0.01<br>EXC_Close: 0.34<br>BIIB_Close: 0.39<br>GOOG_Close: 0.20",
          "Return: 29.97%<br>Volatility: 0.10<br>PG_Close: 0.12<br>BABA_Close: 0.28<br>VZ_Close: 0.21<br>V_Close: 0.27<br>AEP_Close: 0.12",
          "Return: 26.98%<br>Volatility: 0.09<br>CPB_Close: 0.12<br>MMM_Close: 0.31<br>CSCO_Close: 0.12<br>BA_Close: 0.19<br>META_Close: 0.26",
          "Return: 15.90%<br>Volatility: 0.09<br>MMM_Close: 0.22<br>DUK_Close: 0.23<br>ETN_Close: 0.04<br>BSX_Close: 0.30<br>AMZN_Close: 0.22",
          "Return: 12.62%<br>Volatility: 0.15<br>KR_Close: 0.35<br>ORCL_Close: 0.18<br>UNH_Close: 0.26<br>LLY_Close: 0.01<br>CRM_Close: 0.20",
          "Return: 26.21%<br>Volatility: 0.12<br>GILD_Close: 0.16<br>BAC_Close: 0.22<br>BA_Close: 0.01<br>META_Close: 0.35<br>MSFT_Close: 0.27",
          "Return: 14.72%<br>Volatility: 0.10<br>PM_Close: 0.11<br>PG_Close: 0.26<br>DE_Close: 0.31<br>ACN_Close: 0.01<br>MO_Close: 0.30",
          "Return: 10.98%<br>Volatility: 0.09<br>SRE_Close: 0.25<br>XOM_Close: 0.12<br>GILD_Close: 0.16<br>RMD_Close: 0.21<br>EMR_Close: 0.26",
          "Return: 21.69%<br>Volatility: 0.10<br>EXC_Close: 0.23<br>INTC_Close: 0.43<br>F_Close: 0.26<br>CAT_Close: 0.04<br>UNH_Close: 0.04",
          "Return: 25.24%<br>Volatility: 0.12<br>DIS_Close: 0.01<br>ADBE_Close: 0.05<br>UNH_Close: 0.28<br>SYK_Close: 0.31<br>QCOM_Close: 0.35",
          "Return: -0.70%<br>Volatility: 0.14<br>CMCSA_Close: 0.17<br>RTX_Close: 0.04<br>DHR_Close: 0.15<br>KR_Close: 0.27<br>T_Close: 0.37",
          "Return: 8.96%<br>Volatility: 0.09<br>LLY_Close: 0.36<br>GILD_Close: 0.22<br>KO_Close: 0.35<br>CSCO_Close: 0.03<br>TSLA_Close: 0.04",
          "Return: 10.19%<br>Volatility: 0.09<br>PG_Close: 0.30<br>TXN_Close: 0.07<br>AAPL_Close: 0.08<br>ORCL_Close: 0.29<br>GS_Close: 0.27",
          "Return: 21.41%<br>Volatility: 0.10<br>BSX_Close: 0.14<br>HON_Close: 0.03<br>BAC_Close: 0.17<br>ORCL_Close: 0.21<br>HD_Close: 0.45",
          "Return: 14.01%<br>Volatility: 0.10<br>CAT_Close: 0.14<br>INTC_Close: 0.27<br>GILD_Close: 0.24<br>CPB_Close: 0.21<br>PM_Close: 0.15",
          "Return: 13.13%<br>Volatility: 0.09<br>RMD_Close: 0.11<br>INTC_Close: 0.31<br>DIS_Close: 0.31<br>PYPL_Close: 0.01<br>XOM_Close: 0.27",
          "Return: 8.07%<br>Volatility: 0.11<br>INTC_Close: 0.13<br>GM_Close: 0.15<br>CPB_Close: 0.16<br>RDY_Close: 0.28<br>META_Close: 0.29",
          "Return: 23.28%<br>Volatility: 0.12<br>AMZN_Close: 0.21<br>IBM_Close: 0.14<br>WFC_Close: 0.16<br>ADBE_Close: 0.25<br>BAC_Close: 0.24",
          "Return: -7.62%<br>Volatility: 0.16<br>BTI_Close: 0.40<br>BMY_Close: 0.00<br>EXC_Close: 0.03<br>BAC_Close: 0.03<br>CPB_Close: 0.55",
          "Return: 38.52%<br>Volatility: 0.10<br>NEE_Close: 0.20<br>VZ_Close: 0.04<br>GOOG_Close: 0.34<br>ISRG_Close: 0.18<br>CAT_Close: 0.25",
          "Return: 17.97%<br>Volatility: 0.11<br>PM_Close: 0.24<br>EW_Close: 0.23<br>CRM_Close: 0.01<br>ADBE_Close: 0.34<br>IBM_Close: 0.18",
          "Return: 10.11%<br>Volatility: 0.09<br>PYPL_Close: 0.12<br>SRE_Close: 0.31<br>AEP_Close: 0.07<br>MDT_Close: 0.34<br>DUK_Close: 0.15",
          "Return: 14.01%<br>Volatility: 0.10<br>ADBE_Close: 0.26<br>ZBH_Close: 0.12<br>MO_Close: 0.26<br>GS_Close: 0.21<br>COST_Close: 0.15",
          "Return: 7.77%<br>Volatility: 0.09<br>MA_Close: 0.13<br>SO_Close: 0.35<br>BAC_Close: 0.29<br>BIIB_Close: 0.18<br>GE_Close: 0.06",
          "Return: 28.39%<br>Volatility: 0.11<br>MRK_Close: 0.16<br>DUK_Close: 0.18<br>ETN_Close: 0.20<br>CAT_Close: 0.42<br>PFE_Close: 0.04",
          "Return: 16.80%<br>Volatility: 0.08<br>GM_Close: 0.17<br>SYK_Close: 0.12<br>TMO_Close: 0.13<br>JNJ_Close: 0.34<br>PEP_Close: 0.23",
          "Return: 19.51%<br>Volatility: 0.15<br>EMR_Close: 0.24<br>SO_Close: 0.29<br>DHR_Close: 0.01<br>BABA_Close: 0.32<br>AMD_Close: 0.14",
          "Return: 13.31%<br>Volatility: 0.09<br>EXC_Close: 0.26<br>KR_Close: 0.09<br>GOOG_Close: 0.25<br>K_Close: 0.20<br>META_Close: 0.19",
          "Return: 13.57%<br>Volatility: 0.13<br>COST_Close: 0.26<br>AAPL_Close: 0.13<br>HON_Close: 0.01<br>EW_Close: 0.43<br>IBM_Close: 0.17",
          "Return: 35.01%<br>Volatility: 0.12<br>AAPL_Close: 0.17<br>BA_Close: 0.17<br>JPM_Close: 0.11<br>VRTX_Close: 0.02<br>INTC_Close: 0.52",
          "Return: 15.69%<br>Volatility: 0.08<br>PM_Close: 0.05<br>PFE_Close: 0.28<br>AAPL_Close: 0.31<br>DUK_Close: 0.26<br>TXN_Close: 0.10",
          "Return: 16.24%<br>Volatility: 0.12<br>BTI_Close: 0.32<br>BAC_Close: 0.37<br>ETN_Close: 0.01<br>EMR_Close: 0.20<br>CMCSA_Close: 0.10",
          "Return: 22.20%<br>Volatility: 0.08<br>MSFT_Close: 0.18<br>XOM_Close: 0.28<br>PFE_Close: 0.23<br>DE_Close: 0.26<br>MS_Close: 0.05",
          "Return: 25.42%<br>Volatility: 0.10<br>UNH_Close: 0.25<br>LLY_Close: 0.29<br>RMD_Close: 0.29<br>BABA_Close: 0.15<br>JNJ_Close: 0.02",
          "Return: 20.97%<br>Volatility: 0.12<br>GOOG_Close: 0.00<br>BIIB_Close: 0.13<br>ACN_Close: 0.03<br>AAPL_Close: 0.48<br>SYY_Close: 0.36",
          "Return: 34.96%<br>Volatility: 0.12<br>SYY_Close: 0.17<br>HON_Close: 0.10<br>AMZN_Close: 0.33<br>ADBE_Close: 0.19<br>TXN_Close: 0.21",
          "Return: 14.04%<br>Volatility: 0.08<br>BSX_Close: 0.20<br>EXC_Close: 0.28<br>CVX_Close: 0.26<br>PYPL_Close: 0.09<br>DUK_Close: 0.17",
          "Return: 5.93%<br>Volatility: 0.10<br>MDT_Close: 0.02<br>SYK_Close: 0.41<br>MRK_Close: 0.43<br>WMT_Close: 0.06<br>MS_Close: 0.09",
          "Return: 25.76%<br>Volatility: 0.10<br>CSCO_Close: 0.15<br>BABA_Close: 0.02<br>MA_Close: 0.11<br>ABBV_Close: 0.33<br>GIS_Close: 0.39",
          "Return: 8.73%<br>Volatility: 0.10<br>PFE_Close: 0.11<br>BSX_Close: 0.32<br>KO_Close: 0.15<br>TMO_Close: 0.13<br>BTI_Close: 0.29",
          "Return: 12.40%<br>Volatility: 0.08<br>GILD_Close: 0.32<br>WFC_Close: 0.04<br>PG_Close: 0.17<br>JNJ_Close: 0.21<br>LMT_Close: 0.25",
          "Return: 17.25%<br>Volatility: 0.10<br>GILD_Close: 0.34<br>HON_Close: 0.04<br>ACN_Close: 0.06<br>ABT_Close: 0.35<br>KO_Close: 0.22",
          "Return: 30.50%<br>Volatility: 0.15<br>BIIB_Close: 0.24<br>NVDA_Close: 0.25<br>GILD_Close: 0.06<br>CSCO_Close: 0.21<br>RTX_Close: 0.23",
          "Return: 23.01%<br>Volatility: 0.11<br>RTX_Close: 0.17<br>ISRG_Close: 0.25<br>MCD_Close: 0.01<br>MS_Close: 0.28<br>BMY_Close: 0.29",
          "Return: 3.90%<br>Volatility: 0.13<br>MRK_Close: 0.05<br>GOOG_Close: 0.20<br>BTI_Close: 0.24<br>TMO_Close: 0.27<br>UA_Close: 0.23",
          "Return: 20.70%<br>Volatility: 0.10<br>SRE_Close: 0.18<br>PEP_Close: 0.05<br>NKE_Close: 0.21<br>ADBE_Close: 0.21<br>NEE_Close: 0.35",
          "Return: 17.86%<br>Volatility: 0.11<br>RDY_Close: 0.17<br>EXC_Close: 0.11<br>CAT_Close: 0.22<br>T_Close: 0.19<br>CSCO_Close: 0.31",
          "Return: 55.31%<br>Volatility: 0.23<br>LLY_Close: 0.10<br>VRTX_Close: 0.48<br>JNJ_Close: 0.13<br>CAT_Close: 0.03<br>NVDA_Close: 0.26",
          "Return: 46.59%<br>Volatility: 0.16<br>V_Close: 0.30<br>NVDA_Close: 0.31<br>NEE_Close: 0.17<br>META_Close: 0.10<br>DE_Close: 0.12",
          "Return: 19.35%<br>Volatility: 0.13<br>MSFT_Close: 0.41<br>TSLA_Close: 0.14<br>BSX_Close: 0.39<br>ADBE_Close: 0.03<br>MRK_Close: 0.03",
          "Return: 5.70%<br>Volatility: 0.10<br>GS_Close: 0.03<br>BSX_Close: 0.29<br>HD_Close: 0.24<br>IBM_Close: 0.03<br>T_Close: 0.41",
          "Return: 31.15%<br>Volatility: 0.11<br>META_Close: 0.14<br>T_Close: 0.10<br>PYPL_Close: 0.18<br>V_Close: 0.51<br>PM_Close: 0.07",
          "Return: 28.56%<br>Volatility: 0.12<br>IBM_Close: 0.27<br>ABT_Close: 0.04<br>PYPL_Close: 0.21<br>PFE_Close: 0.28<br>NVDA_Close: 0.20",
          "Return: -11.34%<br>Volatility: 0.15<br>SO_Close: 0.21<br>UA_Close: 0.28<br>AMGN_Close: 0.11<br>GIS_Close: 0.23<br>XOM_Close: 0.17",
          "Return: 3.08%<br>Volatility: 0.08<br>SO_Close: 0.50<br>PEP_Close: 0.19<br>ETN_Close: 0.01<br>WFC_Close: 0.07<br>GS_Close: 0.23",
          "Return: 6.79%<br>Volatility: 0.09<br>BTI_Close: 0.19<br>K_Close: 0.17<br>KO_Close: 0.29<br>GILD_Close: 0.29<br>EXC_Close: 0.06",
          "Return: 10.64%<br>Volatility: 0.12<br>BA_Close: 0.04<br>ISRG_Close: 0.17<br>NEE_Close: 0.00<br>K_Close: 0.41<br>NKE_Close: 0.38",
          "Return: -0.13%<br>Volatility: 0.18<br>ABBV_Close: 0.34<br>SNAP_Close: 0.24<br>NEE_Close: 0.20<br>IBM_Close: 0.11<br>GE_Close: 0.11",
          "Return: 25.14%<br>Volatility: 0.11<br>PFE_Close: 0.27<br>V_Close: 0.03<br>AMZN_Close: 0.29<br>F_Close: 0.09<br>INTC_Close: 0.32",
          "Return: 3.49%<br>Volatility: 0.08<br>MRK_Close: 0.35<br>ISRG_Close: 0.02<br>BTI_Close: 0.25<br>HON_Close: 0.18<br>XOM_Close: 0.20",
          "Return: 9.95%<br>Volatility: 0.11<br>ORCL_Close: 0.25<br>VRTX_Close: 0.11<br>CPB_Close: 0.09<br>BMY_Close: 0.33<br>K_Close: 0.22",
          "Return: 34.14%<br>Volatility: 0.10<br>WMT_Close: 0.21<br>CMCSA_Close: 0.03<br>PFE_Close: 0.10<br>META_Close: 0.41<br>DE_Close: 0.25",
          "Return: 6.48%<br>Volatility: 0.09<br>EXC_Close: 0.22<br>NKE_Close: 0.22<br>WFC_Close: 0.08<br>AMGN_Close: 0.24<br>ZBH_Close: 0.24",
          "Return: 13.04%<br>Volatility: 0.09<br>MRK_Close: 0.15<br>V_Close: 0.21<br>ACN_Close: 0.29<br>WFC_Close: 0.19<br>BSX_Close: 0.16",
          "Return: 13.47%<br>Volatility: 0.10<br>VZ_Close: 0.23<br>DHR_Close: 0.10<br>GOOGL_Close: 0.26<br>SYY_Close: 0.08<br>GILD_Close: 0.33",
          "Return: 8.31%<br>Volatility: 0.10<br>LLY_Close: 0.35<br>RDY_Close: 0.07<br>PEP_Close: 0.08<br>CMCSA_Close: 0.32<br>SYY_Close: 0.18",
          "Return: 5.28%<br>Volatility: 0.09<br>AMGN_Close: 0.22<br>SO_Close: 0.25<br>DHR_Close: 0.12<br>BMY_Close: 0.19<br>NKE_Close: 0.23",
          "Return: 38.66%<br>Volatility: 0.15<br>NFLX_Close: 0.15<br>CAT_Close: 0.01<br>GM_Close: 0.15<br>BABA_Close: 0.37<br>SAP_Close: 0.32",
          "Return: 22.73%<br>Volatility: 0.11<br>UNH_Close: 0.23<br>K_Close: 0.16<br>AMGN_Close: 0.11<br>BABA_Close: 0.17<br>MS_Close: 0.34",
          "Return: 31.73%<br>Volatility: 0.10<br>VZ_Close: 0.35<br>ABBV_Close: 0.18<br>PYPL_Close: 0.05<br>ISRG_Close: 0.26<br>GM_Close: 0.15",
          "Return: 8.75%<br>Volatility: 0.09<br>KO_Close: 0.29<br>NEE_Close: 0.06<br>BAC_Close: 0.16<br>T_Close: 0.37<br>EXC_Close: 0.12",
          "Return: 3.91%<br>Volatility: 0.14<br>GOOG_Close: 0.21<br>UA_Close: 0.24<br>NKE_Close: 0.02<br>LMT_Close: 0.27<br>GILD_Close: 0.27",
          "Return: 18.45%<br>Volatility: 0.13<br>HD_Close: 0.12<br>TSLA_Close: 0.31<br>COST_Close: 0.26<br>DUK_Close: 0.15<br>CSCO_Close: 0.14",
          "Return: 15.52%<br>Volatility: 0.12<br>VZ_Close: 0.07<br>ABT_Close: 0.23<br>RDY_Close: 0.25<br>BMY_Close: 0.08<br>GOOG_Close: 0.37",
          "Return: 32.25%<br>Volatility: 0.09<br>JPM_Close: 0.24<br>CAT_Close: 0.22<br>AEP_Close: 0.24<br>AMZN_Close: 0.23<br>GM_Close: 0.07",
          "Return: 15.39%<br>Volatility: 0.10<br>HON_Close: 0.14<br>NKE_Close: 0.19<br>DIS_Close: 0.11<br>MO_Close: 0.24<br>INTC_Close: 0.33",
          "Return: 5.42%<br>Volatility: 0.11<br>DIS_Close: 0.22<br>CPB_Close: 0.17<br>ISRG_Close: 0.15<br>GIS_Close: 0.21<br>COST_Close: 0.26",
          "Return: 23.47%<br>Volatility: 0.16<br>MS_Close: 0.14<br>BA_Close: 0.16<br>RDY_Close: 0.25<br>NFLX_Close: 0.36<br>NKE_Close: 0.09",
          "Return: 16.24%<br>Volatility: 0.11<br>SRE_Close: 0.23<br>BA_Close: 0.22<br>MCD_Close: 0.10<br>GM_Close: 0.32<br>UA_Close: 0.13",
          "Return: -10.20%<br>Volatility: 0.27<br>AMD_Close: 0.45<br>MO_Close: 0.08<br>PG_Close: 0.28<br>V_Close: 0.16<br>ZBH_Close: 0.03",
          "Return: 32.43%<br>Volatility: 0.14<br>ZBH_Close: 0.36<br>ADBE_Close: 0.09<br>UNH_Close: 0.30<br>KR_Close: 0.04<br>NVDA_Close: 0.21",
          "Return: 11.49%<br>Volatility: 0.16<br>EMR_Close: 0.07<br>VRTX_Close: 0.05<br>REGN_Close: 0.37<br>MS_Close: 0.40<br>ZBH_Close: 0.12",
          "Return: 20.66%<br>Volatility: 0.09<br>MS_Close: 0.11<br>GIS_Close: 0.24<br>SYY_Close: 0.22<br>V_Close: 0.24<br>MCD_Close: 0.20",
          "Return: 25.93%<br>Volatility: 0.16<br>NFLX_Close: 0.43<br>COST_Close: 0.06<br>ABT_Close: 0.14<br>CRM_Close: 0.05<br>NKE_Close: 0.31",
          "Return: 13.40%<br>Volatility: 0.10<br>NKE_Close: 0.22<br>DHR_Close: 0.21<br>HD_Close: 0.08<br>DE_Close: 0.23<br>IBM_Close: 0.25",
          "Return: 17.62%<br>Volatility: 0.11<br>KR_Close: 0.21<br>EXC_Close: 0.21<br>CRM_Close: 0.20<br>ACN_Close: 0.17<br>TXN_Close: 0.21",
          "Return: 17.18%<br>Volatility: 0.09<br>BTI_Close: 0.25<br>AMD_Close: 0.08<br>AEP_Close: 0.21<br>HD_Close: 0.36<br>NEE_Close: 0.09",
          "Return: 5.83%<br>Volatility: 0.16<br>PG_Close: 0.10<br>ACN_Close: 0.25<br>BABA_Close: 0.12<br>CSCO_Close: 0.23<br>UA_Close: 0.30",
          "Return: 16.04%<br>Volatility: 0.09<br>NKE_Close: 0.03<br>SAP_Close: 0.37<br>VZ_Close: 0.19<br>MA_Close: 0.01<br>EXC_Close: 0.41",
          "Return: 13.92%<br>Volatility: 0.09<br>NKE_Close: 0.24<br>ISRG_Close: 0.04<br>TMO_Close: 0.24<br>AAPL_Close: 0.12<br>XOM_Close: 0.36",
          "Return: 18.07%<br>Volatility: 0.11<br>MA_Close: 0.22<br>F_Close: 0.44<br>COST_Close: 0.09<br>BABA_Close: 0.05<br>EW_Close: 0.20",
          "Return: 42.77%<br>Volatility: 0.17<br>SRE_Close: 0.09<br>ADBE_Close: 0.26<br>NVDA_Close: 0.29<br>DHR_Close: 0.07<br>SAP_Close: 0.29",
          "Return: 21.59%<br>Volatility: 0.11<br>V_Close: 0.35<br>PM_Close: 0.12<br>UA_Close: 0.03<br>MDT_Close: 0.07<br>GOOG_Close: 0.42",
          "Return: 21.92%<br>Volatility: 0.13<br>IBM_Close: 0.12<br>HD_Close: 0.14<br>NFLX_Close: 0.24<br>MSFT_Close: 0.20<br>BIIB_Close: 0.30",
          "Return: 28.42%<br>Volatility: 0.09<br>CVX_Close: 0.22<br>MA_Close: 0.19<br>AEP_Close: 0.25<br>ADBE_Close: 0.28<br>NEE_Close: 0.06",
          "Return: 17.54%<br>Volatility: 0.11<br>SO_Close: 0.16<br>SYY_Close: 0.15<br>EW_Close: 0.36<br>DIS_Close: 0.06<br>HON_Close: 0.28",
          "Return: 21.05%<br>Volatility: 0.09<br>LMT_Close: 0.41<br>VRTX_Close: 0.06<br>JPM_Close: 0.20<br>RTX_Close: 0.15<br>F_Close: 0.17",
          "Return: 13.66%<br>Volatility: 0.08<br>SAP_Close: 0.45<br>CAT_Close: 0.06<br>PG_Close: 0.13<br>DUK_Close: 0.23<br>MRK_Close: 0.13",
          "Return: 14.65%<br>Volatility: 0.07<br>LMT_Close: 0.13<br>KO_Close: 0.11<br>HD_Close: 0.18<br>HON_Close: 0.32<br>MRK_Close: 0.26",
          "Return: 19.09%<br>Volatility: 0.10<br>GOOGL_Close: 0.22<br>EW_Close: 0.20<br>MO_Close: 0.18<br>TMO_Close: 0.15<br>LMT_Close: 0.26",
          "Return: 23.41%<br>Volatility: 0.08<br>BA_Close: 0.30<br>PG_Close: 0.32<br>GOOG_Close: 0.12<br>IBM_Close: 0.12<br>EMR_Close: 0.13",
          "Return: 0.31%<br>Volatility: 0.15<br>SO_Close: 0.25<br>AMD_Close: 0.21<br>TXN_Close: 0.05<br>BAC_Close: 0.30<br>SRE_Close: 0.19",
          "Return: 11.47%<br>Volatility: 0.11<br>BIIB_Close: 0.26<br>BSX_Close: 0.13<br>ETN_Close: 0.11<br>WFC_Close: 0.21<br>SYK_Close: 0.28",
          "Return: 10.14%<br>Volatility: 0.09<br>CVX_Close: 0.39<br>DUK_Close: 0.06<br>BMY_Close: 0.12<br>MMM_Close: 0.21<br>MRK_Close: 0.22",
          "Return: 15.92%<br>Volatility: 0.08<br>ABT_Close: 0.38<br>DUK_Close: 0.45<br>F_Close: 0.08<br>AAPL_Close: 0.07<br>SYY_Close: 0.02",
          "Return: 36.06%<br>Volatility: 0.18<br>BIIB_Close: 0.15<br>WMT_Close: 0.11<br>LLY_Close: 0.06<br>BABA_Close: 0.34<br>TSLA_Close: 0.35",
          "Return: 7.43%<br>Volatility: 0.22<br>TSLA_Close: 0.40<br>NFLX_Close: 0.01<br>F_Close: 0.11<br>PEP_Close: 0.27<br>AMD_Close: 0.21",
          "Return: 22.61%<br>Volatility: 0.10<br>CVX_Close: 0.38<br>NKE_Close: 0.02<br>GOOGL_Close: 0.40<br>NFLX_Close: 0.12<br>BAC_Close: 0.09",
          "Return: 15.50%<br>Volatility: 0.11<br>MS_Close: 0.14<br>DE_Close: 0.09<br>HD_Close: 0.15<br>GILD_Close: 0.43<br>NKE_Close: 0.19",
          "Return: 22.37%<br>Volatility: 0.11<br>F_Close: 0.28<br>ORCL_Close: 0.33<br>GOOGL_Close: 0.20<br>BA_Close: 0.02<br>BABA_Close: 0.17",
          "Return: 22.46%<br>Volatility: 0.12<br>CSCO_Close: 0.02<br>LMT_Close: 0.15<br>NFLX_Close: 0.34<br>PG_Close: 0.35<br>ABT_Close: 0.14",
          "Return: 2.39%<br>Volatility: 0.25<br>ORCL_Close: 0.10<br>AMD_Close: 0.37<br>PEP_Close: 0.16<br>DHR_Close: 0.04<br>AMZN_Close: 0.32",
          "Return: 18.86%<br>Volatility: 0.10<br>GILD_Close: 0.28<br>MA_Close: 0.10<br>LMT_Close: 0.22<br>BA_Close: 0.22<br>CPB_Close: 0.19",
          "Return: 14.82%<br>Volatility: 0.09<br>COST_Close: 0.32<br>PG_Close: 0.44<br>GOOG_Close: 0.08<br>NVDA_Close: 0.03<br>MCD_Close: 0.13",
          "Return: 0.68%<br>Volatility: 0.13<br>DIS_Close: 0.32<br>F_Close: 0.27<br>KR_Close: 0.26<br>PG_Close: 0.07<br>ADBE_Close: 0.07",
          "Return: 16.82%<br>Volatility: 0.11<br>AMZN_Close: 0.29<br>META_Close: 0.24<br>UNH_Close: 0.08<br>PG_Close: 0.08<br>IBM_Close: 0.30",
          "Return: 43.08%<br>Volatility: 0.17<br>NVDA_Close: 0.36<br>CMCSA_Close: 0.23<br>CSCO_Close: 0.27<br>ABBV_Close: 0.13<br>INTC_Close: 0.01",
          "Return: 29.56%<br>Volatility: 0.14<br>DUK_Close: 0.19<br>ABBV_Close: 0.10<br>VRTX_Close: 0.31<br>RTX_Close: 0.29<br>K_Close: 0.11",
          "Return: 15.41%<br>Volatility: 0.10<br>ADBE_Close: 0.27<br>RDY_Close: 0.06<br>VZ_Close: 0.29<br>BIIB_Close: 0.09<br>DIS_Close: 0.29",
          "Return: 16.47%<br>Volatility: 0.12<br>BABA_Close: 0.25<br>BSX_Close: 0.36<br>RMD_Close: 0.17<br>IBM_Close: 0.09<br>MO_Close: 0.14",
          "Return: 18.89%<br>Volatility: 0.09<br>CSCO_Close: 0.23<br>GE_Close: 0.14<br>EXC_Close: 0.28<br>CAT_Close: 0.21<br>DE_Close: 0.15",
          "Return: -4.30%<br>Volatility: 0.13<br>DE_Close: 0.30<br>GE_Close: 0.24<br>SNAP_Close: 0.12<br>GS_Close: 0.14<br>RMD_Close: 0.20",
          "Return: 20.51%<br>Volatility: 0.17<br>CAT_Close: 0.28<br>HD_Close: 0.00<br>ADBE_Close: 0.23<br>SYY_Close: 0.27<br>SNAP_Close: 0.22",
          "Return: 37.03%<br>Volatility: 0.11<br>MO_Close: 0.09<br>PYPL_Close: 0.27<br>MCD_Close: 0.52<br>F_Close: 0.12<br>QCOM_Close: 0.01",
          "Return: 25.18%<br>Volatility: 0.15<br>AMD_Close: 0.20<br>BA_Close: 0.28<br>MMM_Close: 0.14<br>UNH_Close: 0.34<br>LLY_Close: 0.04",
          "Return: 5.42%<br>Volatility: 0.07<br>SAP_Close: 0.01<br>XOM_Close: 0.29<br>BSX_Close: 0.29<br>PG_Close: 0.29<br>AAPL_Close: 0.13",
          "Return: 40.99%<br>Volatility: 0.23<br>ABBV_Close: 0.15<br>SNAP_Close: 0.03<br>T_Close: 0.05<br>BTI_Close: 0.24<br>VRTX_Close: 0.53",
          "Return: 23.85%<br>Volatility: 0.11<br>META_Close: 0.34<br>AAPL_Close: 0.16<br>RTX_Close: 0.19<br>EMR_Close: 0.24<br>RMD_Close: 0.08",
          "Return: 15.29%<br>Volatility: 0.07<br>PG_Close: 0.36<br>NEE_Close: 0.28<br>META_Close: 0.05<br>V_Close: 0.16<br>XOM_Close: 0.14",
          "Return: 8.54%<br>Volatility: 0.10<br>PFE_Close: 0.05<br>T_Close: 0.14<br>GILD_Close: 0.44<br>JPM_Close: 0.21<br>PEP_Close: 0.16",
          "Return: 14.43%<br>Volatility: 0.10<br>EMR_Close: 0.16<br>EXC_Close: 0.15<br>REGN_Close: 0.20<br>CRM_Close: 0.24<br>ORCL_Close: 0.25",
          "Return: 46.90%<br>Volatility: 0.15<br>BABA_Close: 0.36<br>VZ_Close: 0.19<br>SYY_Close: 0.01<br>ISRG_Close: 0.38<br>NVDA_Close: 0.06",
          "Return: 7.83%<br>Volatility: 0.10<br>PEP_Close: 0.21<br>MO_Close: 0.49<br>DHR_Close: 0.18<br>BABA_Close: 0.08<br>AMGN_Close: 0.05",
          "Return: 7.35%<br>Volatility: 0.12<br>PG_Close: 0.19<br>MMM_Close: 0.10<br>RDY_Close: 0.36<br>HON_Close: 0.30<br>PEP_Close: 0.04",
          "Return: 7.16%<br>Volatility: 0.10<br>WFC_Close: 0.28<br>K_Close: 0.23<br>PEP_Close: 0.17<br>MMM_Close: 0.05<br>GM_Close: 0.28",
          "Return: 13.70%<br>Volatility: 0.15<br>RDY_Close: 0.28<br>ZBH_Close: 0.10<br>NFLX_Close: 0.22<br>MSFT_Close: 0.11<br>GM_Close: 0.30",
          "Return: 25.01%<br>Volatility: 0.14<br>BABA_Close: 0.17<br>MCD_Close: 0.03<br>MS_Close: 0.57<br>LLY_Close: 0.01<br>RTX_Close: 0.21",
          "Return: 6.30%<br>Volatility: 0.11<br>ABT_Close: 0.18<br>PEP_Close: 0.14<br>VZ_Close: 0.37<br>UA_Close: 0.16<br>AEP_Close: 0.14",
          "Return: 22.95%<br>Volatility: 0.11<br>GM_Close: 0.27<br>AMD_Close: 0.00<br>SYY_Close: 0.39<br>WMT_Close: 0.20<br>TMO_Close: 0.14",
          "Return: 27.05%<br>Volatility: 0.14<br>RDY_Close: 0.26<br>PYPL_Close: 0.31<br>MMM_Close: 0.27<br>CSCO_Close: 0.14<br>PEP_Close: 0.01",
          "Return: 23.37%<br>Volatility: 0.09<br>PEP_Close: 0.18<br>MCD_Close: 0.24<br>F_Close: 0.00<br>INTC_Close: 0.35<br>PG_Close: 0.24",
          "Return: 8.65%<br>Volatility: 0.11<br>INTC_Close: 0.07<br>AAPL_Close: 0.33<br>SRE_Close: 0.32<br>DUK_Close: 0.20<br>AMD_Close: 0.09",
          "Return: 14.19%<br>Volatility: 0.09<br>ABT_Close: 0.13<br>BMY_Close: 0.15<br>MO_Close: 0.14<br>MDT_Close: 0.31<br>INTC_Close: 0.27",
          "Return: 30.66%<br>Volatility: 0.17<br>SYY_Close: 0.12<br>MS_Close: 0.23<br>ZBH_Close: 0.07<br>GS_Close: 0.29<br>NVDA_Close: 0.29",
          "Return: 39.10%<br>Volatility: 0.13<br>PYPL_Close: 0.32<br>NFLX_Close: 0.03<br>DHR_Close: 0.18<br>ADBE_Close: 0.12<br>ABT_Close: 0.34",
          "Return: 12.86%<br>Volatility: 0.13<br>RDY_Close: 0.09<br>SRE_Close: 0.11<br>TXN_Close: 0.33<br>COST_Close: 0.31<br>KR_Close: 0.16",
          "Return: 24.67%<br>Volatility: 0.11<br>TSLA_Close: 0.17<br>MO_Close: 0.25<br>WMT_Close: 0.22<br>MSFT_Close: 0.25<br>TMO_Close: 0.11",
          "Return: 33.28%<br>Volatility: 0.10<br>BA_Close: 0.15<br>GILD_Close: 0.04<br>SRE_Close: 0.24<br>HD_Close: 0.14<br>DE_Close: 0.44",
          "Return: 23.93%<br>Volatility: 0.10<br>AMZN_Close: 0.15<br>GILD_Close: 0.14<br>CAT_Close: 0.29<br>IBM_Close: 0.30<br>META_Close: 0.12",
          "Return: 11.91%<br>Volatility: 0.10<br>MRK_Close: 0.16<br>MA_Close: 0.26<br>GS_Close: 0.24<br>PG_Close: 0.09<br>GM_Close: 0.24",
          "Return: 11.14%<br>Volatility: 0.13<br>MDT_Close: 0.35<br>BIIB_Close: 0.44<br>GILD_Close: 0.03<br>EMR_Close: 0.10<br>BA_Close: 0.07",
          "Return: 2.91%<br>Volatility: 0.12<br>SO_Close: 0.04<br>HD_Close: 0.05<br>LLY_Close: 0.02<br>F_Close: 0.44<br>GIS_Close: 0.46",
          "Return: 40.02%<br>Volatility: 0.16<br>GS_Close: 0.13<br>BMY_Close: 0.28<br>ISRG_Close: 0.31<br>NVDA_Close: 0.27<br>JPM_Close: 0.01",
          "Return: 11.44%<br>Volatility: 0.10<br>AMZN_Close: 0.18<br>TMO_Close: 0.13<br>MSFT_Close: 0.01<br>SYK_Close: 0.33<br>MRK_Close: 0.36",
          "Return: 26.92%<br>Volatility: 0.07<br>RTX_Close: 0.10<br>ABBV_Close: 0.25<br>JPM_Close: 0.14<br>NEE_Close: 0.22<br>KO_Close: 0.29",
          "Return: 24.61%<br>Volatility: 0.08<br>PG_Close: 0.25<br>HD_Close: 0.23<br>PYPL_Close: 0.11<br>T_Close: 0.15<br>MA_Close: 0.26",
          "Return: 16.54%<br>Volatility: 0.09<br>DE_Close: 0.21<br>NEE_Close: 0.34<br>RDY_Close: 0.20<br>K_Close: 0.14<br>HON_Close: 0.11",
          "Return: -6.62%<br>Volatility: 0.11<br>LMT_Close: 0.06<br>RDY_Close: 0.21<br>GILD_Close: 0.27<br>CPB_Close: 0.32<br>F_Close: 0.14",
          "Return: -1.24%<br>Volatility: 0.22<br>BA_Close: 0.21<br>REGN_Close: 0.19<br>MS_Close: 0.28<br>SNAP_Close: 0.30<br>KO_Close: 0.01",
          "Return: 14.26%<br>Volatility: 0.08<br>PM_Close: 0.37<br>F_Close: 0.01<br>CVX_Close: 0.24<br>ACN_Close: 0.14<br>ABT_Close: 0.24",
          "Return: 27.85%<br>Volatility: 0.12<br>GOOG_Close: 0.21<br>XOM_Close: 0.18<br>ADBE_Close: 0.31<br>DHR_Close: 0.02<br>AAPL_Close: 0.28",
          "Return: 7.28%<br>Volatility: 0.09<br>MCD_Close: 0.00<br>WFC_Close: 0.36<br>DIS_Close: 0.33<br>EMR_Close: 0.06<br>JNJ_Close: 0.25",
          "Return: 10.46%<br>Volatility: 0.11<br>CSCO_Close: 0.43<br>SNAP_Close: 0.05<br>SYY_Close: 0.13<br>QCOM_Close: 0.19<br>PG_Close: 0.20",
          "Return: 19.91%<br>Volatility: 0.15<br>AAPL_Close: 0.02<br>VZ_Close: 0.14<br>NKE_Close: 0.29<br>UA_Close: 0.20<br>PYPL_Close: 0.35",
          "Return: -3.70%<br>Volatility: 0.16<br>TMO_Close: 0.34<br>VZ_Close: 0.09<br>PM_Close: 0.22<br>UA_Close: 0.31<br>CRM_Close: 0.04",
          "Return: 25.73%<br>Volatility: 0.10<br>PFE_Close: 0.28<br>LLY_Close: 0.01<br>RMD_Close: 0.32<br>MCD_Close: 0.32<br>BABA_Close: 0.08",
          "Return: 8.66%<br>Volatility: 0.10<br>RMD_Close: 0.15<br>QCOM_Close: 0.24<br>GIS_Close: 0.30<br>PM_Close: 0.27<br>GOOG_Close: 0.04",
          "Return: 15.62%<br>Volatility: 0.13<br>EW_Close: 0.14<br>EXC_Close: 0.12<br>EMR_Close: 0.29<br>WMT_Close: 0.19<br>KR_Close: 0.26",
          "Return: 6.21%<br>Volatility: 0.10<br>DHR_Close: 0.33<br>MDT_Close: 0.39<br>SAP_Close: 0.05<br>EMR_Close: 0.05<br>ZBH_Close: 0.17",
          "Return: 12.70%<br>Volatility: 0.09<br>XOM_Close: 0.28<br>SYK_Close: 0.37<br>AEP_Close: 0.01<br>JNJ_Close: 0.21<br>BSX_Close: 0.13",
          "Return: 25.19%<br>Volatility: 0.09<br>EMR_Close: 0.25<br>ISRG_Close: 0.18<br>PEP_Close: 0.17<br>PYPL_Close: 0.15<br>SO_Close: 0.25",
          "Return: 11.70%<br>Volatility: 0.14<br>RMD_Close: 0.44<br>MRK_Close: 0.06<br>AAPL_Close: 0.05<br>BIIB_Close: 0.11<br>ZBH_Close: 0.32",
          "Return: 39.15%<br>Volatility: 0.20<br>SO_Close: 0.16<br>REGN_Close: 0.08<br>NVDA_Close: 0.48<br>PM_Close: 0.24<br>TMO_Close: 0.03",
          "Return: 0.80%<br>Volatility: 0.17<br>DUK_Close: 0.01<br>TSLA_Close: 0.09<br>AMGN_Close: 0.30<br>IBM_Close: 0.09<br>REGN_Close: 0.51",
          "Return: 41.37%<br>Volatility: 0.14<br>INTC_Close: 0.11<br>UNH_Close: 0.33<br>VRTX_Close: 0.22<br>AMZN_Close: 0.12<br>TXN_Close: 0.23",
          "Return: -3.03%<br>Volatility: 0.12<br>ETN_Close: 0.12<br>CPB_Close: 0.40<br>LMT_Close: 0.22<br>VZ_Close: 0.19<br>AMD_Close: 0.07",
          "Return: 35.10%<br>Volatility: 0.14<br>ADBE_Close: 0.37<br>EW_Close: 0.13<br>AAPL_Close: 0.28<br>MCD_Close: 0.10<br>AMZN_Close: 0.11",
          "Return: 19.38%<br>Volatility: 0.17<br>AMD_Close: 0.16<br>PG_Close: 0.10<br>NVDA_Close: 0.17<br>GIS_Close: 0.27<br>MA_Close: 0.29",
          "Return: -8.00%<br>Volatility: 0.19<br>TMO_Close: 0.14<br>GS_Close: 0.21<br>KR_Close: 0.23<br>PM_Close: 0.17<br>AMD_Close: 0.25",
          "Return: -0.38%<br>Volatility: 0.10<br>AMGN_Close: 0.24<br>EW_Close: 0.28<br>EXC_Close: 0.24<br>ACN_Close: 0.06<br>GE_Close: 0.18",
          "Return: 17.07%<br>Volatility: 0.08<br>UNH_Close: 0.12<br>CPB_Close: 0.09<br>SRE_Close: 0.26<br>GOOG_Close: 0.22<br>MMM_Close: 0.32",
          "Return: 15.52%<br>Volatility: 0.11<br>ISRG_Close: 0.15<br>AAPL_Close: 0.11<br>MS_Close: 0.24<br>GILD_Close: 0.26<br>MDT_Close: 0.24",
          "Return: 22.45%<br>Volatility: 0.12<br>DE_Close: 0.15<br>COST_Close: 0.18<br>HD_Close: 0.01<br>GOOG_Close: 0.47<br>REGN_Close: 0.18",
          "Return: 21.96%<br>Volatility: 0.13<br>AMD_Close: 0.09<br>NFLX_Close: 0.22<br>CVX_Close: 0.17<br>F_Close: 0.21<br>DE_Close: 0.30",
          "Return: 34.55%<br>Volatility: 0.14<br>TXN_Close: 0.22<br>NVDA_Close: 0.19<br>META_Close: 0.25<br>DHR_Close: 0.32<br>KO_Close: 0.02",
          "Return: 36.79%<br>Volatility: 0.17<br>PM_Close: 0.01<br>INTC_Close: 0.14<br>MCD_Close: 0.05<br>NFLX_Close: 0.40<br>TXN_Close: 0.40",
          "Return: 19.03%<br>Volatility: 0.09<br>MCD_Close: 0.20<br>CVX_Close: 0.38<br>ISRG_Close: 0.07<br>SNAP_Close: 0.02<br>COST_Close: 0.33",
          "Return: 20.68%<br>Volatility: 0.09<br>BMY_Close: 0.21<br>HON_Close: 0.23<br>DUK_Close: 0.16<br>BABA_Close: 0.19<br>AMGN_Close: 0.21",
          "Return: 34.61%<br>Volatility: 0.11<br>NFLX_Close: 0.12<br>CAT_Close: 0.36<br>SRE_Close: 0.34<br>AMZN_Close: 0.16<br>JNJ_Close: 0.02",
          "Return: 17.77%<br>Volatility: 0.11<br>QCOM_Close: 0.20<br>BAC_Close: 0.09<br>GOOGL_Close: 0.22<br>JNJ_Close: 0.24<br>BIIB_Close: 0.25",
          "Return: 28.61%<br>Volatility: 0.10<br>ISRG_Close: 0.41<br>BMY_Close: 0.11<br>GOOG_Close: 0.02<br>PEP_Close: 0.36<br>V_Close: 0.09",
          "Return: 37.44%<br>Volatility: 0.11<br>RMD_Close: 0.10<br>PFE_Close: 0.01<br>ISRG_Close: 0.38<br>ABBV_Close: 0.22<br>SYY_Close: 0.29",
          "Return: -3.77%<br>Volatility: 0.09<br>MA_Close: 0.09<br>MSFT_Close: 0.02<br>BA_Close: 0.21<br>GE_Close: 0.36<br>DUK_Close: 0.32",
          "Return: -11.78%<br>Volatility: 0.10<br>F_Close: 0.28<br>K_Close: 0.20<br>GE_Close: 0.19<br>GILD_Close: 0.09<br>XOM_Close: 0.23",
          "Return: 24.37%<br>Volatility: 0.10<br>BA_Close: 0.17<br>DHR_Close: 0.06<br>EW_Close: 0.34<br>QCOM_Close: 0.08<br>KO_Close: 0.35",
          "Return: 20.28%<br>Volatility: 0.11<br>EMR_Close: 0.34<br>HON_Close: 0.12<br>AAPL_Close: 0.35<br>QCOM_Close: 0.06<br>ZBH_Close: 0.13",
          "Return: 8.38%<br>Volatility: 0.15<br>ORCL_Close: 0.31<br>MO_Close: 0.16<br>PG_Close: 0.11<br>TSLA_Close: 0.32<br>UA_Close: 0.10",
          "Return: 37.20%<br>Volatility: 0.17<br>MSFT_Close: 0.18<br>BSX_Close: 0.20<br>BABA_Close: 0.32<br>NFLX_Close: 0.29<br>DUK_Close: 0.01",
          "Return: 11.87%<br>Volatility: 0.17<br>DE_Close: 0.09<br>SAP_Close: 0.37<br>BA_Close: 0.09<br>VZ_Close: 0.23<br>AMD_Close: 0.23",
          "Return: 30.39%<br>Volatility: 0.13<br>BAC_Close: 0.24<br>GE_Close: 0.06<br>NFLX_Close: 0.33<br>DE_Close: 0.18<br>WMT_Close: 0.20",
          "Return: 11.23%<br>Volatility: 0.09<br>BMY_Close: 0.39<br>MSFT_Close: 0.01<br>PG_Close: 0.30<br>KO_Close: 0.25<br>MA_Close: 0.06",
          "Return: 23.16%<br>Volatility: 0.10<br>EMR_Close: 0.26<br>MCD_Close: 0.16<br>AMZN_Close: 0.27<br>XOM_Close: 0.29<br>AAPL_Close: 0.02",
          "Return: 29.27%<br>Volatility: 0.12<br>QCOM_Close: 0.26<br>NFLX_Close: 0.25<br>HD_Close: 0.26<br>PEP_Close: 0.15<br>BA_Close: 0.07",
          "Return: 14.37%<br>Volatility: 0.32<br>TXN_Close: 0.03<br>AMGN_Close: 0.11<br>VRTX_Close: 0.42<br>MSFT_Close: 0.04<br>AMD_Close: 0.39",
          "Return: -1.70%<br>Volatility: 0.20<br>SNAP_Close: 0.29<br>UNH_Close: 0.45<br>PG_Close: 0.04<br>DIS_Close: 0.19<br>ADBE_Close: 0.02",
          "Return: 11.61%<br>Volatility: 0.11<br>EW_Close: 0.19<br>MS_Close: 0.39<br>K_Close: 0.24<br>NEE_Close: 0.12<br>AMGN_Close: 0.05",
          "Return: 13.42%<br>Volatility: 0.09<br>PG_Close: 0.07<br>SYY_Close: 0.30<br>PM_Close: 0.16<br>MO_Close: 0.21<br>META_Close: 0.26",
          "Return: 43.90%<br>Volatility: 0.13<br>PYPL_Close: 0.28<br>ABT_Close: 0.17<br>ISRG_Close: 0.03<br>UNH_Close: 0.17<br>AMZN_Close: 0.34",
          "Return: -0.35%<br>Volatility: 0.11<br>GILD_Close: 0.23<br>MO_Close: 0.01<br>BSX_Close: 0.40<br>GM_Close: 0.14<br>MRK_Close: 0.21",
          "Return: 23.86%<br>Volatility: 0.08<br>ISRG_Close: 0.30<br>KO_Close: 0.36<br>RTX_Close: 0.08<br>TSLA_Close: 0.08<br>CMCSA_Close: 0.18",
          "Return: -9.82%<br>Volatility: 0.13<br>BIIB_Close: 0.18<br>K_Close: 0.32<br>DIS_Close: 0.36<br>SNAP_Close: 0.14<br>BAC_Close: 0.01",
          "Return: 1.08%<br>Volatility: 0.26<br>MS_Close: 0.14<br>CPB_Close: 0.04<br>AMD_Close: 0.37<br>QCOM_Close: 0.36<br>CAT_Close: 0.10",
          "Return: 7.67%<br>Volatility: 0.11<br>RDY_Close: 0.17<br>CAT_Close: 0.07<br>INTC_Close: 0.14<br>CPB_Close: 0.29<br>SAP_Close: 0.32",
          "Return: 25.13%<br>Volatility: 0.10<br>GE_Close: 0.02<br>MMM_Close: 0.18<br>TMO_Close: 0.21<br>ADBE_Close: 0.28<br>PEP_Close: 0.30",
          "Return: 20.28%<br>Volatility: 0.10<br>SO_Close: 0.29<br>ABBV_Close: 0.12<br>JNJ_Close: 0.14<br>TSLA_Close: 0.15<br>GOOGL_Close: 0.30",
          "Return: 5.48%<br>Volatility: 0.12<br>CSCO_Close: 0.24<br>T_Close: 0.24<br>REGN_Close: 0.28<br>NKE_Close: 0.18<br>CMCSA_Close: 0.05",
          "Return: 18.69%<br>Volatility: 0.11<br>GS_Close: 0.21<br>CRM_Close: 0.36<br>RMD_Close: 0.10<br>CSCO_Close: 0.26<br>MCD_Close: 0.07",
          "Return: 31.44%<br>Volatility: 0.12<br>REGN_Close: 0.18<br>BA_Close: 0.07<br>MSFT_Close: 0.20<br>ABBV_Close: 0.28<br>QCOM_Close: 0.27",
          "Return: 25.71%<br>Volatility: 0.09<br>EMR_Close: 0.28<br>NFLX_Close: 0.16<br>IBM_Close: 0.02<br>V_Close: 0.19<br>NEE_Close: 0.35",
          "Return: 15.64%<br>Volatility: 0.13<br>BAC_Close: 0.30<br>PFE_Close: 0.12<br>NKE_Close: 0.09<br>QCOM_Close: 0.40<br>SO_Close: 0.09",
          "Return: 20.41%<br>Volatility: 0.13<br>GOOGL_Close: 0.18<br>ORCL_Close: 0.39<br>META_Close: 0.02<br>AAPL_Close: 0.40<br>MS_Close: 0.02",
          "Return: -7.89%<br>Volatility: 0.08<br>AMGN_Close: 0.30<br>KO_Close: 0.29<br>BSX_Close: 0.19<br>GE_Close: 0.16<br>CPB_Close: 0.05",
          "Return: 18.53%<br>Volatility: 0.09<br>ABBV_Close: 0.30<br>CMCSA_Close: 0.15<br>MRK_Close: 0.25<br>K_Close: 0.14<br>AMZN_Close: 0.16",
          "Return: 17.25%<br>Volatility: 0.08<br>SO_Close: 0.01<br>PEP_Close: 0.26<br>RMD_Close: 0.27<br>CVX_Close: 0.29<br>NEE_Close: 0.17",
          "Return: 16.91%<br>Volatility: 0.09<br>KO_Close: 0.14<br>T_Close: 0.16<br>ISRG_Close: 0.21<br>PFE_Close: 0.18<br>ORCL_Close: 0.32",
          "Return: 12.43%<br>Volatility: 0.09<br>MRK_Close: 0.41<br>VRTX_Close: 0.08<br>JPM_Close: 0.10<br>HD_Close: 0.25<br>CRM_Close: 0.16",
          "Return: 37.38%<br>Volatility: 0.20<br>VRTX_Close: 0.41<br>AAPL_Close: 0.08<br>QCOM_Close: 0.36<br>BAC_Close: 0.09<br>MMM_Close: 0.07",
          "Return: 25.01%<br>Volatility: 0.11<br>SRE_Close: 0.20<br>GIS_Close: 0.17<br>AMZN_Close: 0.22<br>ADBE_Close: 0.18<br>MA_Close: 0.22",
          "Return: 14.76%<br>Volatility: 0.10<br>BTI_Close: 0.36<br>AEP_Close: 0.02<br>PFE_Close: 0.28<br>ABT_Close: 0.22<br>ORCL_Close: 0.12",
          "Return: 3.23%<br>Volatility: 0.13<br>GILD_Close: 0.23<br>BAC_Close: 0.07<br>RDY_Close: 0.19<br>REGN_Close: 0.29<br>PEP_Close: 0.23",
          "Return: 28.39%<br>Volatility: 0.11<br>EMR_Close: 0.13<br>AMZN_Close: 0.34<br>SAP_Close: 0.40<br>HD_Close: 0.10<br>RTX_Close: 0.03",
          "Return: 9.84%<br>Volatility: 0.10<br>MO_Close: 0.36<br>TXN_Close: 0.17<br>ACN_Close: 0.03<br>HON_Close: 0.18<br>T_Close: 0.25",
          "Return: 11.51%<br>Volatility: 0.12<br>UNH_Close: 0.13<br>SNAP_Close: 0.14<br>EXC_Close: 0.25<br>JNJ_Close: 0.09<br>MMM_Close: 0.40",
          "Return: 16.11%<br>Volatility: 0.08<br>RTX_Close: 0.23<br>JNJ_Close: 0.20<br>ORCL_Close: 0.28<br>EXC_Close: 0.24<br>DE_Close: 0.05",
          "Return: -3.10%<br>Volatility: 0.17<br>PM_Close: 0.03<br>REGN_Close: 0.43<br>MO_Close: 0.00<br>SNAP_Close: 0.17<br>SYY_Close: 0.38",
          "Return: 4.88%<br>Volatility: 0.09<br>MDT_Close: 0.02<br>ADBE_Close: 0.30<br>DUK_Close: 0.25<br>GE_Close: 0.21<br>KO_Close: 0.22",
          "Return: 10.21%<br>Volatility: 0.10<br>UA_Close: 0.05<br>LLY_Close: 0.07<br>IBM_Close: 0.35<br>ABBV_Close: 0.31<br>XOM_Close: 0.23",
          "Return: 13.16%<br>Volatility: 0.16<br>META_Close: 0.20<br>TXN_Close: 0.16<br>EMR_Close: 0.23<br>SNAP_Close: 0.19<br>MCD_Close: 0.22",
          "Return: 0.33%<br>Volatility: 0.15<br>CMCSA_Close: 0.04<br>HD_Close: 0.02<br>MDT_Close: 0.34<br>BIIB_Close: 0.28<br>KR_Close: 0.32",
          "Return: -6.98%<br>Volatility: 0.15<br>MMM_Close: 0.10<br>PM_Close: 0.28<br>TSLA_Close: 0.09<br>T_Close: 0.27<br>UA_Close: 0.26",
          "Return: 30.64%<br>Volatility: 0.11<br>GOOGL_Close: 0.26<br>EW_Close: 0.02<br>JPM_Close: 0.20<br>TXN_Close: 0.37<br>MCD_Close: 0.16",
          "Return: 23.64%<br>Volatility: 0.11<br>EW_Close: 0.20<br>MMM_Close: 0.15<br>MSFT_Close: 0.18<br>BSX_Close: 0.32<br>BA_Close: 0.14",
          "Return: 27.33%<br>Volatility: 0.10<br>GOOG_Close: 0.18<br>DE_Close: 0.27<br>MSFT_Close: 0.29<br>MO_Close: 0.11<br>DIS_Close: 0.15"
         ],
         "type": "scatter",
         "x": {
          "bdata": "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",
          "dtype": "f8"
         },
         "y": {
          "bdata": "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",
          "dtype": "f8"
         }
        }
       ],
       "layout": {
        "template": {
         "data": {
          "bar": [
           {
            "error_x": {
             "color": "#2a3f5f"
            },
            "error_y": {
             "color": "#2a3f5f"
            },
            "marker": {
             "line": {
              "color": "#E5ECF6",
              "width": 0.5
             },
             "pattern": {
              "fillmode": "overlay",
              "size": 10,
              "solidity": 0.2
             }
            },
            "type": "bar"
           }
          ],
          "barpolar": [
           {
            "marker": {
             "line": {
              "color": "#E5ECF6",
              "width": 0.5
             },
             "pattern": {
              "fillmode": "overlay",
              "size": 10,
              "solidity": 0.2
             }
            },
            "type": "barpolar"
           }
          ],
          "carpet": [
           {
            "aaxis": {
             "endlinecolor": "#2a3f5f",
             "gridcolor": "white",
             "linecolor": "white",
             "minorgridcolor": "white",
             "startlinecolor": "#2a3f5f"
            },
            "baxis": {
             "endlinecolor": "#2a3f5f",
             "gridcolor": "white",
             "linecolor": "white",
             "minorgridcolor": "white",
             "startlinecolor": "#2a3f5f"
            },
            "type": "carpet"
           }
          ],
          "choropleth": [
           {
            "colorbar": {
             "outlinewidth": 0,
             "ticks": ""
            },
            "type": "choropleth"
           }
          ],
          "contour": [
           {
            "colorbar": {
             "outlinewidth": 0,
             "ticks": ""
            },
            "colorscale": [
             [
              0,
              "#0d0887"
             ],
             [
              0.1111111111111111,
              "#46039f"
             ],
             [
              0.2222222222222222,
              "#7201a8"
             ],
             [
              0.3333333333333333,
              "#9c179e"
             ],
             [
              0.4444444444444444,
              "#bd3786"
             ],
             [
              0.5555555555555556,
              "#d8576b"
             ],
             [
              0.6666666666666666,
              "#ed7953"
             ],
             [
              0.7777777777777778,
              "#fb9f3a"
             ],
             [
              0.8888888888888888,
              "#fdca26"
             ],
             [
              1,
              "#f0f921"
             ]
            ],
            "type": "contour"
           }
          ],
          "contourcarpet": [
           {
            "colorbar": {
             "outlinewidth": 0,
             "ticks": ""
            },
            "type": "contourcarpet"
           }
          ],
          "heatmap": [
           {
            "colorbar": {
             "outlinewidth": 0,
             "ticks": ""
            },
            "colorscale": [
             [
              0,
              "#0d0887"
             ],
             [
              0.1111111111111111,
              "#46039f"
             ],
             [
              0.2222222222222222,
              "#7201a8"
             ],
             [
              0.3333333333333333,
              "#9c179e"
             ],
             [
              0.4444444444444444,
              "#bd3786"
             ],
             [
              0.5555555555555556,
              "#d8576b"
             ],
             [
              0.6666666666666666,
              "#ed7953"
             ],
             [
              0.7777777777777778,
              "#fb9f3a"
             ],
             [
              0.8888888888888888,
              "#fdca26"
             ],
             [
              1,
              "#f0f921"
             ]
            ],
            "type": "heatmap"
           }
          ],
          "histogram": [
           {
            "marker": {
             "pattern": {
              "fillmode": "overlay",
              "size": 10,
              "solidity": 0.2
             }
            },
            "type": "histogram"
           }
          ],
          "histogram2d": [
           {
            "colorbar": {
             "outlinewidth": 0,
             "ticks": ""
            },
            "colorscale": [
             [
              0,
              "#0d0887"
             ],
             [
              0.1111111111111111,
              "#46039f"
             ],
             [
              0.2222222222222222,
              "#7201a8"
             ],
             [
              0.3333333333333333,
              "#9c179e"
             ],
             [
              0.4444444444444444,
              "#bd3786"
             ],
             [
              0.5555555555555556,
              "#d8576b"
             ],
             [
              0.6666666666666666,
              "#ed7953"
             ],
             [
              0.7777777777777778,
              "#fb9f3a"
             ],
             [
              0.8888888888888888,
              "#fdca26"
             ],
             [
              1,
              "#f0f921"
             ]
            ],
            "type": "histogram2d"
           }
          ],
          "histogram2dcontour": [
           {
            "colorbar": {
             "outlinewidth": 0,
             "ticks": ""
            },
            "colorscale": [
             [
              0,
              "#0d0887"
             ],
             [
              0.1111111111111111,
              "#46039f"
             ],
             [
              0.2222222222222222,
              "#7201a8"
             ],
             [
              0.3333333333333333,
              "#9c179e"
             ],
             [
              0.4444444444444444,
              "#bd3786"
             ],
             [
              0.5555555555555556,
              "#d8576b"
             ],
             [
              0.6666666666666666,
              "#ed7953"
             ],
             [
              0.7777777777777778,
              "#fb9f3a"
             ],
             [
              0.8888888888888888,
              "#fdca26"
             ],
             [
              1,
              "#f0f921"
             ]
            ],
            "type": "histogram2dcontour"
           }
          ],
          "mesh3d": [
           {
            "colorbar": {
             "outlinewidth": 0,
             "ticks": ""
            },
            "type": "mesh3d"
           }
          ],
          "parcoords": [
           {
            "line": {
             "colorbar": {
              "outlinewidth": 0,
              "ticks": ""
             }
            },
            "type": "parcoords"
           }
          ],
          "pie": [
           {
            "automargin": true,
            "type": "pie"
           }
          ],
          "scatter": [
           {
            "fillpattern": {
             "fillmode": "overlay",
             "size": 10,
             "solidity": 0.2
            },
            "type": "scatter"
           }
          ],
          "scatter3d": [
           {
            "line": {
             "colorbar": {
              "outlinewidth": 0,
              "ticks": ""
             }
            },
            "marker": {
             "colorbar": {
              "outlinewidth": 0,
              "ticks": ""
             }
            },
            "type": "scatter3d"
           }
          ],
          "scattercarpet": [
           {
            "marker": {
             "colorbar": {
              "outlinewidth": 0,
              "ticks": ""
             }
            },
            "type": "scattercarpet"
           }
          ],
          "scattergeo": [
           {
            "marker": {
             "colorbar": {
              "outlinewidth": 0,
              "ticks": ""
             }
            },
            "type": "scattergeo"
           }
          ],
          "scattergl": [
           {
            "marker": {
             "colorbar": {
              "outlinewidth": 0,
              "ticks": ""
             }
            },
            "type": "scattergl"
           }
          ],
          "scattermap": [
           {
            "marker": {
             "colorbar": {
              "outlinewidth": 0,
              "ticks": ""
             }
            },
            "type": "scattermap"
           }
          ],
          "scattermapbox": [
           {
            "marker": {
             "colorbar": {
              "outlinewidth": 0,
              "ticks": ""
             }
            },
            "type": "scattermapbox"
           }
          ],
          "scatterpolar": [
           {
            "marker": {
             "colorbar": {
              "outlinewidth": 0,
              "ticks": ""
             }
            },
            "type": "scatterpolar"
           }
          ],
          "scatterpolargl": [
           {
            "marker": {
             "colorbar": {
              "outlinewidth": 0,
              "ticks": ""
             }
            },
            "type": "scatterpolargl"
           }
          ],
          "scatterternary": [
           {
            "marker": {
             "colorbar": {
              "outlinewidth": 0,
              "ticks": ""
             }
            },
            "type": "scatterternary"
           }
          ],
          "surface": [
           {
            "colorbar": {
             "outlinewidth": 0,
             "ticks": ""
            },
            "colorscale": [
             [
              0,
              "#0d0887"
             ],
             [
              0.1111111111111111,
              "#46039f"
             ],
             [
              0.2222222222222222,
              "#7201a8"
             ],
             [
              0.3333333333333333,
              "#9c179e"
             ],
             [
              0.4444444444444444,
              "#bd3786"
             ],
             [
              0.5555555555555556,
              "#d8576b"
             ],
             [
              0.6666666666666666,
              "#ed7953"
             ],
             [
              0.7777777777777778,
              "#fb9f3a"
             ],
             [
              0.8888888888888888,
              "#fdca26"
             ],
             [
              1,
              "#f0f921"
             ]
            ],
            "type": "surface"
           }
          ],
          "table": [
           {
            "cells": {
             "fill": {
              "color": "#EBF0F8"
             },
             "line": {
              "color": "white"
             }
            },
            "header": {
             "fill": {
              "color": "#C8D4E3"
             },
             "line": {
              "color": "white"
             }
            },
            "type": "table"
           }
          ]
         },
         "layout": {
          "annotationdefaults": {
           "arrowcolor": "#2a3f5f",
           "arrowhead": 0,
           "arrowwidth": 1
          },
          "autotypenumbers": "strict",
          "coloraxis": {
           "colorbar": {
            "outlinewidth": 0,
            "ticks": ""
           }
          },
          "colorscale": {
           "diverging": [
            [
             0,
             "#8e0152"
            ],
            [
             0.1,
             "#c51b7d"
            ],
            [
             0.2,
             "#de77ae"
            ],
            [
             0.3,
             "#f1b6da"
            ],
            [
             0.4,
             "#fde0ef"
            ],
            [
             0.5,
             "#f7f7f7"
            ],
            [
             0.6,
             "#e6f5d0"
            ],
            [
             0.7,
             "#b8e186"
            ],
            [
             0.8,
             "#7fbc41"
            ],
            [
             0.9,
             "#4d9221"
            ],
            [
             1,
             "#276419"
            ]
           ],
           "sequential": [
            [
             0,
             "#0d0887"
            ],
            [
             0.1111111111111111,
             "#46039f"
            ],
            [
             0.2222222222222222,
             "#7201a8"
            ],
            [
             0.3333333333333333,
             "#9c179e"
            ],
            [
             0.4444444444444444,
             "#bd3786"
            ],
            [
             0.5555555555555556,
             "#d8576b"
            ],
            [
             0.6666666666666666,
             "#ed7953"
            ],
            [
             0.7777777777777778,
             "#fb9f3a"
            ],
            [
             0.8888888888888888,
             "#fdca26"
            ],
            [
             1,
             "#f0f921"
            ]
           ],
           "sequentialminus": [
            [
             0,
             "#0d0887"
            ],
            [
             0.1111111111111111,
             "#46039f"
            ],
            [
             0.2222222222222222,
             "#7201a8"
            ],
            [
             0.3333333333333333,
             "#9c179e"
            ],
            [
             0.4444444444444444,
             "#bd3786"
            ],
            [
             0.5555555555555556,
             "#d8576b"
            ],
            [
             0.6666666666666666,
             "#ed7953"
            ],
            [
             0.7777777777777778,
             "#fb9f3a"
            ],
            [
             0.8888888888888888,
             "#fdca26"
            ],
            [
             1,
             "#f0f921"
            ]
           ]
          },
          "colorway": [
           "#636efa",
           "#EF553B",
           "#00cc96",
           "#ab63fa",
           "#FFA15A",
           "#19d3f3",
           "#FF6692",
           "#B6E880",
           "#FF97FF",
           "#FECB52"
          ],
          "font": {
           "color": "#2a3f5f"
          },
          "geo": {
           "bgcolor": "white",
           "lakecolor": "white",
           "landcolor": "#E5ECF6",
           "showlakes": true,
           "showland": true,
           "subunitcolor": "white"
          },
          "hoverlabel": {
           "align": "left"
          },
          "hovermode": "closest",
          "mapbox": {
           "style": "light"
          },
          "paper_bgcolor": "white",
          "plot_bgcolor": "#E5ECF6",
          "polar": {
           "angularaxis": {
            "gridcolor": "white",
            "linecolor": "white",
            "ticks": ""
           },
           "bgcolor": "#E5ECF6",
           "radialaxis": {
            "gridcolor": "white",
            "linecolor": "white",
            "ticks": ""
           }
          },
          "scene": {
           "xaxis": {
            "backgroundcolor": "#E5ECF6",
            "gridcolor": "white",
            "gridwidth": 2,
            "linecolor": "white",
            "showbackground": true,
            "ticks": "",
            "zerolinecolor": "white"
           },
           "yaxis": {
            "backgroundcolor": "#E5ECF6",
            "gridcolor": "white",
            "gridwidth": 2,
            "linecolor": "white",
            "showbackground": true,
            "ticks": "",
            "zerolinecolor": "white"
           },
           "zaxis": {
            "backgroundcolor": "#E5ECF6",
            "gridcolor": "white",
            "gridwidth": 2,
            "linecolor": "white",
            "showbackground": true,
            "ticks": "",
            "zerolinecolor": "white"
           }
          },
          "shapedefaults": {
           "line": {
            "color": "#2a3f5f"
           }
          },
          "ternary": {
           "aaxis": {
            "gridcolor": "white",
            "linecolor": "white",
            "ticks": ""
           },
           "baxis": {
            "gridcolor": "white",
            "linecolor": "white",
            "ticks": ""
           },
           "bgcolor": "#E5ECF6",
           "caxis": {
            "gridcolor": "white",
            "linecolor": "white",
            "ticks": ""
           }
          },
          "title": {
           "x": 0.05
          },
          "xaxis": {
           "automargin": true,
           "gridcolor": "white",
           "linecolor": "white",
           "ticks": "",
           "title": {
            "standoff": 15
           },
           "zerolinecolor": "white",
           "zerolinewidth": 2
          },
          "yaxis": {
           "automargin": true,
           "gridcolor": "white",
           "linecolor": "white",
           "ticks": "",
           "title": {
            "standoff": 15
           },
           "zerolinecolor": "white",
           "zerolinewidth": 2
          }
         }
        },
        "title": {
         "text": "Sample of Random Portfolios"
        },
        "xaxis": {
         "title": {
          "text": "Volatility (Standard Deviation)"
         }
        },
        "yaxis": {
         "title": {
          "text": "Annualised Returns"
         }
        }
       }
      }
     },
     "metadata": {},
     "output_type": "display_data"
    }
   ],
   "source": [
    "fig = go.Figure()\n",
    "fig.add_trace(go.Scatter(\n",
    "    x=mean_variance_pairs[:, 1]**0.5,  # Volatility\n",
    "    y=mean_variance_pairs[:, 0],  # Returns\n",
    "    mode='markers',\n",
    "    marker=dict(\n",
    "        color=(mean_variance_pairs[:, 0]-risk_free_rate)/(mean_variance_pairs[:, 1]**0.5),  # Sharpe ratio\n",
    "        showscale=True,\n",
    "        size=7,\n",
    "        line=dict(width=1),\n",
    "        colorscale=\"RdBu\",\n",
    "        colorbar=dict(title=\"Sharpe<br>Ratio\")\n",
    "    ),\n",
    "    text=hover_texts  # Use the prepared hover texts\n",
    "))\n",
    "\n",
    "fig.update_layout(\n",
    "    xaxis=dict(title='Volatility (Standard Deviation)'),\n",
    "    yaxis=dict(title='Annualised Returns'),\n",
    "    title='Sample of Random Portfolios'\n",
    ")\n",
    "\n",
    "fig.show()"
   ]
  },
  {
   "cell_type": "code",
   "execution_count": 8,
   "metadata": {},
   "outputs": [
    {
     "name": "stderr",
     "output_type": "stream",
     "text": [
      "100%|██████████| 100000/100000 [00:10<00:00, 9504.07it/s]\n"
     ]
    }
   ],
   "source": [
    "##n_assets = 3\n",
    "mean_variance_pairs = []\n",
    "weights_list = []\n",
    "tickers_list = []\n",
    "hover_texts = [] \n",
    "\n",
    "for _ in tqdm(range(100000)):\n",
    "    next_i = False\n",
    "    while True:\n",
    "        temp =  np.random.randint(3, 6)\n",
    "        assets = np.random.choice(list(raw_data.columns), temp, replace=False)\n",
    "        weights = np.random.rand(temp)\n",
    "        weights /= weights.sum()\n",
    "\n",
    "        portfolio_E_Variance = 0\n",
    "        portfolio_E_Return = 0\n",
    "        for i in range(len(assets)):\n",
    "            portfolio_E_Return += weights[i] * annualized_returns.loc[assets[i]]\n",
    "            for j in range(len(assets)):\n",
    "                portfolio_E_Variance += weights[i] * weights[j] * cov.loc[assets[i], assets[j]]\n",
    "\n",
    "        # Check for dominated portfolios\n",
    "        for R, V in mean_variance_pairs:\n",
    "            if (R > portfolio_E_Return) & (V < portfolio_E_Variance):\n",
    "                next_i = True\n",
    "                break\n",
    "\n",
    "        if next_i:\n",
    "            break\n",
    "\n",
    "        mean_variance_pairs.append([portfolio_E_Return, portfolio_E_Variance])\n",
    "        weights_list.append(weights)\n",
    "        tickers_list.append(assets)\n",
    "        \n",
    "        # Generate hover text for the current portfolio\n",
    "        hover_text = \"<br>\".join([f\"{assets[i]}: Weight={weights[i]:.2f}\" for i in range(temp)])\n",
    "        hover_texts.append(f\"Return: {portfolio_E_Return:.2%}<br>Volatility: {portfolio_E_Variance**0.5:.2f}<br>{hover_text}\")\n",
    "        \n",
    "        break\n",
    "\n",
    "mean_variance_pairs = np.array(mean_variance_pairs)\n"
   ]
  },
  {
   "cell_type": "code",
   "execution_count": 9,
   "metadata": {},
   "outputs": [
    {
     "data": {
      "text/plain": [
       "194"
      ]
     },
     "execution_count": 9,
     "metadata": {},
     "output_type": "execute_result"
    }
   ],
   "source": [
    "len(mean_variance_pairs)"
   ]
  },
  {
   "cell_type": "code",
   "execution_count": 10,
   "metadata": {},
   "outputs": [
    {
     "data": {
      "application/vnd.plotly.v1+json": {
       "config": {
        "plotlyServerURL": "https://plot.ly"
       },
       "data": [
        {
         "hoverinfo": "text",
         "marker": {
          "color": {
           "bdata": "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",
           "dtype": "f8"
          },
          "colorbar": {
           "title": {
            "text": "Sharpe<br>Ratio"
           }
          },
          "colorscale": [
           [
            0,
            "rgb(103,0,31)"
           ],
           [
            0.1,
            "rgb(178,24,43)"
           ],
           [
            0.2,
            "rgb(214,96,77)"
           ],
           [
            0.3,
            "rgb(244,165,130)"
           ],
           [
            0.4,
            "rgb(253,219,199)"
           ],
           [
            0.5,
            "rgb(247,247,247)"
           ],
           [
            0.6,
            "rgb(209,229,240)"
           ],
           [
            0.7,
            "rgb(146,197,222)"
           ],
           [
            0.8,
            "rgb(67,147,195)"
           ],
           [
            0.9,
            "rgb(33,102,172)"
           ],
           [
            1,
            "rgb(5,48,97)"
           ]
          ],
          "line": {
           "width": 1
          },
          "showscale": true,
          "size": 7
         },
         "mode": "markers",
         "text": [
          "Return: -7.44%<br>Volatility: 0.13<br>SO_Close: Weight=0.12<br>ZBH_Close: Weight=0.37<br>RDY_Close: Weight=0.29<br>CPB_Close: Weight=0.22",
          "Return: 20.32%<br>Volatility: 0.12<br>AMGN_Close: Weight=0.03<br>DHR_Close: Weight=0.58<br>AMZN_Close: Weight=0.39",
          "Return: 13.62%<br>Volatility: 0.12<br>CSCO_Close: Weight=0.33<br>ETN_Close: Weight=0.33<br>BTI_Close: Weight=0.35",
          "Return: -0.53%<br>Volatility: 0.10<br>MRK_Close: Weight=0.14<br>BIIB_Close: Weight=0.17<br>MDT_Close: Weight=0.29<br>RDY_Close: Weight=0.22<br>KO_Close: Weight=0.18",
          "Return: 8.35%<br>Volatility: 0.07<br>GS_Close: Weight=0.17<br>SAP_Close: Weight=0.31<br>PG_Close: Weight=0.28<br>SO_Close: Weight=0.24",
          "Return: 10.81%<br>Volatility: 0.10<br>MA_Close: Weight=0.20<br>MRK_Close: Weight=0.14<br>BTI_Close: Weight=0.35<br>LLY_Close: Weight=0.31",
          "Return: 26.99%<br>Volatility: 0.12<br>MMM_Close: Weight=0.11<br>RMD_Close: Weight=0.29<br>CMCSA_Close: Weight=0.37<br>PYPL_Close: Weight=0.22",
          "Return: 5.37%<br>Volatility: 0.07<br>PG_Close: Weight=0.17<br>WFC_Close: Weight=0.26<br>XOM_Close: Weight=0.23<br>BMY_Close: Weight=0.20<br>SO_Close: Weight=0.14",
          "Return: 16.61%<br>Volatility: 0.09<br>TXN_Close: Weight=0.28<br>PG_Close: Weight=0.12<br>DHR_Close: Weight=0.42<br>COST_Close: Weight=0.18",
          "Return: 28.05%<br>Volatility: 0.10<br>HD_Close: Weight=0.27<br>MA_Close: Weight=0.14<br>VZ_Close: Weight=0.38<br>ADBE_Close: Weight=0.22",
          "Return: 41.92%<br>Volatility: 0.18<br>GM_Close: Weight=0.01<br>META_Close: Weight=0.14<br>VRTX_Close: Weight=0.41<br>MMM_Close: Weight=0.44",
          "Return: 37.10%<br>Volatility: 0.11<br>GOOGL_Close: Weight=0.09<br>HD_Close: Weight=0.75<br>CAT_Close: Weight=0.17",
          "Return: 21.31%<br>Volatility: 0.09<br>ADBE_Close: Weight=0.22<br>AMZN_Close: Weight=0.09<br>DIS_Close: Weight=0.36<br>HON_Close: Weight=0.33",
          "Return: 45.46%<br>Volatility: 0.14<br>QCOM_Close: Weight=0.24<br>HON_Close: Weight=0.20<br>CAT_Close: Weight=0.56",
          "Return: 25.30%<br>Volatility: 0.09<br>JNJ_Close: Weight=0.14<br>HON_Close: Weight=0.06<br>CAT_Close: Weight=0.32<br>MDT_Close: Weight=0.35<br>DUK_Close: Weight=0.13",
          "Return: 53.05%<br>Volatility: 0.19<br>PYPL_Close: Weight=0.38<br>VRTX_Close: Weight=0.37<br>CRM_Close: Weight=0.12<br>RTX_Close: Weight=0.12",
          "Return: 14.17%<br>Volatility: 0.08<br>LMT_Close: Weight=0.38<br>DHR_Close: Weight=0.38<br>DUK_Close: Weight=0.24",
          "Return: 47.60%<br>Volatility: 0.13<br>BA_Close: Weight=0.30<br>CAT_Close: Weight=0.44<br>ZBH_Close: Weight=0.25<br>DE_Close: Weight=0.01",
          "Return: 16.62%<br>Volatility: 0.08<br>GIS_Close: Weight=0.14<br>JNJ_Close: Weight=0.22<br>MDT_Close: Weight=0.22<br>ABBV_Close: Weight=0.22<br>PG_Close: Weight=0.20",
          "Return: 37.22%<br>Volatility: 0.12<br>PYPL_Close: Weight=0.35<br>ETN_Close: Weight=0.13<br>NKE_Close: Weight=0.07<br>GILD_Close: Weight=0.21<br>DE_Close: Weight=0.24",
          "Return: 52.61%<br>Volatility: 0.12<br>EMR_Close: Weight=0.13<br>BA_Close: Weight=0.55<br>ABBV_Close: Weight=0.31",
          "Return: 19.18%<br>Volatility: 0.09<br>UNH_Close: Weight=0.25<br>DUK_Close: Weight=0.21<br>JNJ_Close: Weight=0.55",
          "Return: 24.90%<br>Volatility: 0.08<br>BA_Close: Weight=0.17<br>PYPL_Close: Weight=0.02<br>RTX_Close: Weight=0.27<br>SYY_Close: Weight=0.34<br>KO_Close: Weight=0.21",
          "Return: 62.31%<br>Volatility: 0.22<br>PYPL_Close: Weight=0.92<br>COST_Close: Weight=0.01<br>INTC_Close: Weight=0.07",
          "Return: 32.05%<br>Volatility: 0.10<br>RMD_Close: Weight=0.11<br>CAT_Close: Weight=0.21<br>DUK_Close: Weight=0.25<br>ISRG_Close: Weight=0.10<br>META_Close: Weight=0.32",
          "Return: 35.63%<br>Volatility: 0.11<br>LLY_Close: Weight=0.28<br>ABT_Close: Weight=0.07<br>ABBV_Close: Weight=0.21<br>HON_Close: Weight=0.26<br>NVDA_Close: Weight=0.18",
          "Return: 35.43%<br>Volatility: 0.11<br>HON_Close: Weight=0.12<br>CSCO_Close: Weight=0.28<br>EMR_Close: Weight=0.14<br>ABBV_Close: Weight=0.47",
          "Return: 25.09%<br>Volatility: 0.09<br>BAC_Close: Weight=0.26<br>EXC_Close: Weight=0.43<br>ISRG_Close: Weight=0.31",
          "Return: 22.23%<br>Volatility: 0.08<br>KO_Close: Weight=0.49<br>HON_Close: Weight=0.12<br>HD_Close: Weight=0.39",
          "Return: 56.07%<br>Volatility: 0.17<br>JNJ_Close: Weight=0.14<br>PYPL_Close: Weight=0.50<br>BABA_Close: Weight=0.31<br>TXN_Close: Weight=0.05",
          "Return: 36.27%<br>Volatility: 0.11<br>CVX_Close: Weight=0.06<br>CAT_Close: Weight=0.45<br>PEP_Close: Weight=0.48",
          "Return: 40.61%<br>Volatility: 0.10<br>ABT_Close: Weight=0.40<br>CVX_Close: Weight=0.10<br>BA_Close: Weight=0.44<br>RMD_Close: Weight=0.06",
          "Return: 23.13%<br>Volatility: 0.07<br>HON_Close: Weight=0.48<br>CVX_Close: Weight=0.14<br>NEE_Close: Weight=0.38",
          "Return: 26.21%<br>Volatility: 0.08<br>LLY_Close: Weight=0.06<br>UNH_Close: Weight=0.31<br>NEE_Close: Weight=0.29<br>LMT_Close: Weight=0.34",
          "Return: 27.43%<br>Volatility: 0.10<br>K_Close: Weight=0.11<br>MCD_Close: Weight=0.19<br>INTC_Close: Weight=0.39<br>MMM_Close: Weight=0.31",
          "Return: 28.72%<br>Volatility: 0.10<br>CVX_Close: Weight=0.25<br>SYY_Close: Weight=0.19<br>JNJ_Close: Weight=0.21<br>MCD_Close: Weight=0.16<br>VRTX_Close: Weight=0.19",
          "Return: 45.50%<br>Volatility: 0.11<br>ABBV_Close: Weight=0.27<br>CAT_Close: Weight=0.29<br>MMM_Close: Weight=0.44",
          "Return: 11.75%<br>Volatility: 0.07<br>WMT_Close: Weight=0.14<br>DIS_Close: Weight=0.14<br>EXC_Close: Weight=0.38<br>XOM_Close: Weight=0.34",
          "Return: 27.28%<br>Volatility: 0.10<br>ABT_Close: Weight=0.30<br>ETN_Close: Weight=0.22<br>HD_Close: Weight=0.48",
          "Return: 12.64%<br>Volatility: 0.07<br>KO_Close: Weight=0.30<br>MRK_Close: Weight=0.11<br>LMT_Close: Weight=0.43<br>AMGN_Close: Weight=0.16",
          "Return: 26.83%<br>Volatility: 0.08<br>MSFT_Close: Weight=0.30<br>BAC_Close: Weight=0.13<br>CVX_Close: Weight=0.10<br>PYPL_Close: Weight=0.11<br>PEP_Close: Weight=0.37",
          "Return: 34.80%<br>Volatility: 0.10<br>COST_Close: Weight=0.05<br>F_Close: Weight=0.18<br>UNH_Close: Weight=0.39<br>CSCO_Close: Weight=0.09<br>CAT_Close: Weight=0.29",
          "Return: 30.84%<br>Volatility: 0.08<br>BA_Close: Weight=0.27<br>REGN_Close: Weight=0.17<br>MCD_Close: Weight=0.11<br>NEE_Close: Weight=0.45",
          "Return: 65.03%<br>Volatility: 0.26<br>NVDA_Close: Weight=0.63<br>DE_Close: Weight=0.29<br>VZ_Close: Weight=0.06<br>LLY_Close: Weight=0.01",
          "Return: 44.01%<br>Volatility: 0.10<br>HD_Close: Weight=0.30<br>NVDA_Close: Weight=0.12<br>RTX_Close: Weight=0.23<br>BA_Close: Weight=0.35",
          "Return: 32.45%<br>Volatility: 0.10<br>RMD_Close: Weight=0.28<br>ABBV_Close: Weight=0.17<br>PG_Close: Weight=0.01<br>DE_Close: Weight=0.33<br>PEP_Close: Weight=0.21",
          "Return: 35.28%<br>Volatility: 0.10<br>ABBV_Close: Weight=0.32<br>CSCO_Close: Weight=0.14<br>BTI_Close: Weight=0.05<br>GOOG_Close: Weight=0.17<br>HD_Close: Weight=0.32",
          "Return: 33.30%<br>Volatility: 0.10<br>HD_Close: Weight=0.35<br>MA_Close: Weight=0.27<br>ISRG_Close: Weight=0.19<br>GM_Close: Weight=0.18",
          "Return: 56.38%<br>Volatility: 0.16<br>ADBE_Close: Weight=0.40<br>NVDA_Close: Weight=0.15<br>CAT_Close: Weight=0.38<br>UA_Close: Weight=0.00<br>HON_Close: Weight=0.07",
          "Return: 15.54%<br>Volatility: 0.07<br>JPM_Close: Weight=0.04<br>AEP_Close: Weight=0.33<br>ETN_Close: Weight=0.11<br>AMGN_Close: Weight=0.19<br>HON_Close: Weight=0.33",
          "Return: 14.10%<br>Volatility: 0.07<br>AEP_Close: Weight=0.34<br>KO_Close: Weight=0.39<br>ETN_Close: Weight=0.26<br>QCOM_Close: Weight=0.01",
          "Return: 38.62%<br>Volatility: 0.10<br>ABBV_Close: Weight=0.34<br>XOM_Close: Weight=0.12<br>NEE_Close: Weight=0.03<br>MCD_Close: Weight=0.31<br>MA_Close: Weight=0.21",
          "Return: 32.10%<br>Volatility: 0.09<br>ACN_Close: Weight=0.24<br>MSFT_Close: Weight=0.25<br>HON_Close: Weight=0.41<br>BA_Close: Weight=0.10",
          "Return: 60.20%<br>Volatility: 0.18<br>NVDA_Close: Weight=0.28<br>ADBE_Close: Weight=0.38<br>BA_Close: Weight=0.34",
          "Return: 31.23%<br>Volatility: 0.09<br>PG_Close: Weight=0.20<br>ABBV_Close: Weight=0.14<br>WMT_Close: Weight=0.26<br>HD_Close: Weight=0.08<br>ABT_Close: Weight=0.32",
          "Return: 18.60%<br>Volatility: 0.07<br>AEP_Close: Weight=0.04<br>META_Close: Weight=0.13<br>NEE_Close: Weight=0.29<br>INTC_Close: Weight=0.18<br>XOM_Close: Weight=0.36",
          "Return: 34.32%<br>Volatility: 0.09<br>NEE_Close: Weight=0.35<br>SNAP_Close: Weight=0.03<br>BA_Close: Weight=0.35<br>MMM_Close: Weight=0.27",
          "Return: 39.21%<br>Volatility: 0.10<br>LMT_Close: Weight=0.45<br>BA_Close: Weight=0.34<br>AMZN_Close: Weight=0.22",
          "Return: 23.21%<br>Volatility: 0.07<br>WFC_Close: Weight=0.26<br>HD_Close: Weight=0.32<br>LMT_Close: Weight=0.06<br>WMT_Close: Weight=0.06<br>NEE_Close: Weight=0.31",
          "Return: 34.65%<br>Volatility: 0.09<br>DIS_Close: Weight=0.15<br>CAT_Close: Weight=0.37<br>NEE_Close: Weight=0.49",
          "Return: 62.32%<br>Volatility: 0.25<br>CAT_Close: Weight=0.39<br>ORCL_Close: Weight=0.00<br>VRTX_Close: Weight=0.61",
          "Return: 60.67%<br>Volatility: 0.15<br>BA_Close: Weight=0.55<br>PYPL_Close: Weight=0.43<br>KR_Close: Weight=0.02",
          "Return: 13.75%<br>Volatility: 0.07<br>MRK_Close: Weight=0.10<br>WMT_Close: Weight=0.04<br>GOOG_Close: Weight=0.15<br>KO_Close: Weight=0.71",
          "Return: 35.74%<br>Volatility: 0.10<br>UNH_Close: Weight=0.21<br>F_Close: Weight=0.14<br>BA_Close: Weight=0.34<br>HON_Close: Weight=0.25<br>TSLA_Close: Weight=0.07",
          "Return: 61.84%<br>Volatility: 0.16<br>BA_Close: Weight=0.44<br>PYPL_Close: Weight=0.54<br>SO_Close: Weight=0.00<br>LLY_Close: Weight=0.01",
          "Return: 26.86%<br>Volatility: 0.08<br>BA_Close: Weight=0.36<br>XOM_Close: Weight=0.38<br>AEP_Close: Weight=0.26",
          "Return: 5.00%<br>Volatility: 0.07<br>MDT_Close: Weight=0.15<br>SO_Close: Weight=0.27<br>AMGN_Close: Weight=0.08<br>DIS_Close: Weight=0.17<br>JNJ_Close: Weight=0.32",
          "Return: 35.24%<br>Volatility: 0.10<br>MCD_Close: Weight=0.35<br>WMT_Close: Weight=0.31<br>CSCO_Close: Weight=0.04<br>SAP_Close: Weight=0.04<br>GOOG_Close: Weight=0.27",
          "Return: 18.68%<br>Volatility: 0.07<br>MSFT_Close: Weight=0.21<br>MMM_Close: Weight=0.24<br>PG_Close: Weight=0.42<br>JNJ_Close: Weight=0.03<br>JPM_Close: Weight=0.09",
          "Return: 30.26%<br>Volatility: 0.08<br>BA_Close: Weight=0.18<br>JPM_Close: Weight=0.31<br>SAP_Close: Weight=0.03<br>META_Close: Weight=0.20<br>NEE_Close: Weight=0.28",
          "Return: 17.63%<br>Volatility: 0.07<br>HON_Close: Weight=0.41<br>CVX_Close: Weight=0.23<br>KO_Close: Weight=0.30<br>REGN_Close: Weight=0.07",
          "Return: 7.32%<br>Volatility: 0.06<br>BMY_Close: Weight=0.09<br>DUK_Close: Weight=0.41<br>PEP_Close: Weight=0.20<br>XOM_Close: Weight=0.30",
          "Return: 45.01%<br>Volatility: 0.11<br>ABBV_Close: Weight=0.30<br>CVX_Close: Weight=0.21<br>CAT_Close: Weight=0.35<br>SAP_Close: Weight=0.15",
          "Return: 18.80%<br>Volatility: 0.07<br>EXC_Close: Weight=0.10<br>HD_Close: Weight=0.28<br>AEP_Close: Weight=0.30<br>JNJ_Close: Weight=0.13<br>DHR_Close: Weight=0.19",
          "Return: 39.06%<br>Volatility: 0.10<br>GM_Close: Weight=0.15<br>HD_Close: Weight=0.32<br>BA_Close: Weight=0.38<br>INTC_Close: Weight=0.11<br>BMY_Close: Weight=0.05",
          "Return: 45.71%<br>Volatility: 0.10<br>BA_Close: Weight=0.40<br>MA_Close: Weight=0.17<br>MCD_Close: Weight=0.40<br>GM_Close: Weight=0.03",
          "Return: 31.27%<br>Volatility: 0.09<br>MCD_Close: Weight=0.44<br>UNH_Close: Weight=0.01<br>EXC_Close: Weight=0.06<br>MMM_Close: Weight=0.49",
          "Return: 19.54%<br>Volatility: 0.07<br>DIS_Close: Weight=0.28<br>CAT_Close: Weight=0.13<br>EXC_Close: Weight=0.26<br>MA_Close: Weight=0.18<br>PEP_Close: Weight=0.15",
          "Return: 19.73%<br>Volatility: 0.07<br>SAP_Close: Weight=0.31<br>ETN_Close: Weight=0.04<br>MS_Close: Weight=0.11<br>NEE_Close: Weight=0.32<br>KO_Close: Weight=0.23",
          "Return: 38.42%<br>Volatility: 0.10<br>CAT_Close: Weight=0.04<br>WMT_Close: Weight=0.43<br>ABBV_Close: Weight=0.24<br>AEP_Close: Weight=0.29",
          "Return: 56.33%<br>Volatility: 0.13<br>BA_Close: Weight=0.27<br>PYPL_Close: Weight=0.37<br>DE_Close: Weight=0.37",
          "Return: 18.14%<br>Volatility: 0.07<br>PFE_Close: Weight=0.23<br>CMCSA_Close: Weight=0.08<br>GOOGL_Close: Weight=0.15<br>MCD_Close: Weight=0.14<br>AEP_Close: Weight=0.39",
          "Return: 37.90%<br>Volatility: 0.10<br>ISRG_Close: Weight=0.19<br>TXN_Close: Weight=0.36<br>MMM_Close: Weight=0.07<br>ABBV_Close: Weight=0.16<br>NEE_Close: Weight=0.23",
          "Return: 39.76%<br>Volatility: 0.10<br>ETN_Close: Weight=0.30<br>ABBV_Close: Weight=0.32<br>INTC_Close: Weight=0.17<br>BA_Close: Weight=0.22",
          "Return: 32.15%<br>Volatility: 0.09<br>BTI_Close: Weight=0.13<br>ABBV_Close: Weight=0.23<br>EMR_Close: Weight=0.01<br>KO_Close: Weight=0.34<br>ISRG_Close: Weight=0.30",
          "Return: 37.76%<br>Volatility: 0.09<br>PYPL_Close: Weight=0.12<br>PEP_Close: Weight=0.31<br>BA_Close: Weight=0.35<br>NEE_Close: Weight=0.23",
          "Return: 32.22%<br>Volatility: 0.09<br>KO_Close: Weight=0.33<br>ACN_Close: Weight=0.40<br>CAT_Close: Weight=0.26",
          "Return: 34.37%<br>Volatility: 0.09<br>DE_Close: Weight=0.28<br>NEE_Close: Weight=0.34<br>PEP_Close: Weight=0.20<br>CAT_Close: Weight=0.17",
          "Return: 64.03%<br>Volatility: 0.18<br>ABBV_Close: Weight=0.09<br>PYPL_Close: Weight=0.74<br>CAT_Close: Weight=0.17",
          "Return: 39.47%<br>Volatility: 0.10<br>LMT_Close: Weight=0.54<br>CAT_Close: Weight=0.36<br>HD_Close: Weight=0.10",
          "Return: 21.48%<br>Volatility: 0.07<br>LMT_Close: Weight=0.25<br>BSX_Close: Weight=0.15<br>KO_Close: Weight=0.28<br>MCD_Close: Weight=0.31",
          "Return: 48.53%<br>Volatility: 0.11<br>HD_Close: Weight=0.21<br>BA_Close: Weight=0.38<br>ISRG_Close: Weight=0.41",
          "Return: 38.07%<br>Volatility: 0.09<br>EXC_Close: Weight=0.21<br>MSFT_Close: Weight=0.19<br>CMCSA_Close: Weight=0.03<br>WMT_Close: Weight=0.25<br>ABBV_Close: Weight=0.32",
          "Return: 23.93%<br>Volatility: 0.07<br>ABBV_Close: Weight=0.15<br>PG_Close: Weight=0.21<br>MMM_Close: Weight=0.16<br>LMT_Close: Weight=0.42<br>DUK_Close: Weight=0.06",
          "Return: 26.86%<br>Volatility: 0.08<br>AEP_Close: Weight=0.40<br>JNJ_Close: Weight=0.35<br>BA_Close: Weight=0.25",
          "Return: 42.58%<br>Volatility: 0.10<br>RTX_Close: Weight=0.08<br>MCD_Close: Weight=0.32<br>BA_Close: Weight=0.39<br>ABT_Close: Weight=0.21",
          "Return: 32.81%<br>Volatility: 0.08<br>HD_Close: Weight=0.28<br>LMT_Close: Weight=0.24<br>ISRG_Close: Weight=0.23<br>CAT_Close: Weight=0.09<br>PFE_Close: Weight=0.17",
          "Return: 39.17%<br>Volatility: 0.09<br>BA_Close: Weight=0.33<br>VZ_Close: Weight=0.08<br>AMZN_Close: Weight=0.20<br>TMO_Close: Weight=0.24<br>MCD_Close: Weight=0.15",
          "Return: 62.03%<br>Volatility: 0.16<br>WMT_Close: Weight=0.23<br>GILD_Close: Weight=0.02<br>BA_Close: Weight=0.28<br>NVDA_Close: Weight=0.30<br>PYPL_Close: Weight=0.17",
          "Return: 13.53%<br>Volatility: 0.06<br>KO_Close: Weight=0.37<br>AEP_Close: Weight=0.29<br>HD_Close: Weight=0.04<br>DIS_Close: Weight=0.10<br>CVX_Close: Weight=0.19",
          "Return: 60.88%<br>Volatility: 0.13<br>ABBV_Close: Weight=0.30<br>PYPL_Close: Weight=0.14<br>CAT_Close: Weight=0.42<br>BABA_Close: Weight=0.14",
          "Return: 72.80%<br>Volatility: 0.35<br>JNJ_Close: Weight=0.09<br>NVDA_Close: Weight=0.88<br>MS_Close: Weight=0.04",
          "Return: 25.93%<br>Volatility: 0.07<br>HON_Close: Weight=0.30<br>ABBV_Close: Weight=0.18<br>KO_Close: Weight=0.26<br>ACN_Close: Weight=0.15<br>VZ_Close: Weight=0.11",
          "Return: 43.13%<br>Volatility: 0.10<br>NEE_Close: Weight=0.36<br>DE_Close: Weight=0.25<br>BA_Close: Weight=0.40",
          "Return: 19.56%<br>Volatility: 0.07<br>AEP_Close: Weight=0.23<br>KO_Close: Weight=0.44<br>V_Close: Weight=0.33<br>IBM_Close: Weight=0.00",
          "Return: 40.87%<br>Volatility: 0.09<br>BA_Close: Weight=0.29<br>ADBE_Close: Weight=0.06<br>HD_Close: Weight=0.40<br>V_Close: Weight=0.25",
          "Return: 38.44%<br>Volatility: 0.09<br>HD_Close: Weight=0.21<br>BA_Close: Weight=0.41<br>SAP_Close: Weight=0.14<br>GM_Close: Weight=0.02<br>JNJ_Close: Weight=0.22",
          "Return: 28.09%<br>Volatility: 0.08<br>XOM_Close: Weight=0.32<br>BA_Close: Weight=0.31<br>LMT_Close: Weight=0.20<br>TMO_Close: Weight=0.18",
          "Return: 50.11%<br>Volatility: 0.11<br>BA_Close: Weight=0.34<br>MCD_Close: Weight=0.16<br>ISRG_Close: Weight=0.21<br>HD_Close: Weight=0.13<br>VRTX_Close: Weight=0.16",
          "Return: 33.58%<br>Volatility: 0.08<br>BA_Close: Weight=0.23<br>NEE_Close: Weight=0.48<br>INTC_Close: Weight=0.23<br>CSCO_Close: Weight=0.04<br>ACN_Close: Weight=0.02",
          "Return: 47.65%<br>Volatility: 0.10<br>JPM_Close: Weight=0.19<br>ABBV_Close: Weight=0.28<br>DE_Close: Weight=0.20<br>BA_Close: Weight=0.33<br>SAP_Close: Weight=0.00",
          "Return: 27.01%<br>Volatility: 0.07<br>TXN_Close: Weight=0.25<br>NEE_Close: Weight=0.20<br>HD_Close: Weight=0.24<br>JNJ_Close: Weight=0.32",
          "Return: 51.10%<br>Volatility: 0.12<br>EXC_Close: Weight=0.21<br>CAT_Close: Weight=0.29<br>BA_Close: Weight=0.50",
          "Return: 38.61%<br>Volatility: 0.09<br>SYK_Close: Weight=0.09<br>LMT_Close: Weight=0.35<br>BA_Close: Weight=0.32<br>MCD_Close: Weight=0.25",
          "Return: 52.94%<br>Volatility: 0.12<br>ABT_Close: Weight=0.28<br>BA_Close: Weight=0.30<br>CAT_Close: Weight=0.43",
          "Return: 66.83%<br>Volatility: 0.23<br>PFE_Close: Weight=0.07<br>PYPL_Close: Weight=0.58<br>NVDA_Close: Weight=0.35",
          "Return: 34.46%<br>Volatility: 0.09<br>BA_Close: Weight=0.40<br>REGN_Close: Weight=0.06<br>EXC_Close: Weight=0.14<br>ABBV_Close: Weight=0.13<br>DUK_Close: Weight=0.27",
          "Return: 28.79%<br>Volatility: 0.08<br>V_Close: Weight=0.36<br>HD_Close: Weight=0.29<br>NEE_Close: Weight=0.35",
          "Return: 50.79%<br>Volatility: 0.12<br>BA_Close: Weight=0.44<br>META_Close: Weight=0.24<br>ABBV_Close: Weight=0.32",
          "Return: 34.12%<br>Volatility: 0.08<br>HD_Close: Weight=0.40<br>CVX_Close: Weight=0.26<br>AMZN_Close: Weight=0.15<br>BA_Close: Weight=0.19",
          "Return: 29.08%<br>Volatility: 0.08<br>AEP_Close: Weight=0.32<br>WMT_Close: Weight=0.06<br>MCD_Close: Weight=0.30<br>HD_Close: Weight=0.32",
          "Return: 67.42%<br>Volatility: 0.19<br>MCD_Close: Weight=0.06<br>NVDA_Close: Weight=0.30<br>CAT_Close: Weight=0.64",
          "Return: 26.08%<br>Volatility: 0.07<br>AEP_Close: Weight=0.19<br>CVX_Close: Weight=0.21<br>ISRG_Close: Weight=0.14<br>JNJ_Close: Weight=0.33<br>BABA_Close: Weight=0.13",
          "Return: 68.20%<br>Volatility: 0.32<br>HON_Close: Weight=0.06<br>DHR_Close: Weight=0.10<br>NVDA_Close: Weight=0.81<br>KO_Close: Weight=0.04",
          "Return: 30.57%<br>Volatility: 0.08<br>PEP_Close: Weight=0.11<br>HON_Close: Weight=0.34<br>JNJ_Close: Weight=0.28<br>BA_Close: Weight=0.27",
          "Return: 32.78%<br>Volatility: 0.08<br>HD_Close: Weight=0.20<br>UNH_Close: Weight=0.25<br>KO_Close: Weight=0.28<br>CAT_Close: Weight=0.20<br>CVX_Close: Weight=0.08",
          "Return: 69.86%<br>Volatility: 0.29<br>VRTX_Close: Weight=0.53<br>GOOG_Close: Weight=0.01<br>NVDA_Close: Weight=0.46",
          "Return: 22.06%<br>Volatility: 0.07<br>UNH_Close: Weight=0.24<br>KO_Close: Weight=0.38<br>ACN_Close: Weight=0.14<br>EMR_Close: Weight=0.23",
          "Return: 26.89%<br>Volatility: 0.07<br>DUK_Close: Weight=0.48<br>HD_Close: Weight=0.20<br>MCD_Close: Weight=0.08<br>BA_Close: Weight=0.24",
          "Return: 71.41%<br>Volatility: 0.27<br>PYPL_Close: Weight=0.40<br>NVDA_Close: Weight=0.56<br>MS_Close: Weight=0.05",
          "Return: 62.51%<br>Volatility: 0.14<br>CAT_Close: Weight=0.58<br>ABBV_Close: Weight=0.32<br>NVDA_Close: Weight=0.10",
          "Return: 74.93%<br>Volatility: 0.29<br>NVDA_Close: Weight=0.67<br>CAT_Close: Weight=0.19<br>VRTX_Close: Weight=0.14",
          "Return: 14.11%<br>Volatility: 0.06<br>PEP_Close: Weight=0.08<br>KO_Close: Weight=0.28<br>NEE_Close: Weight=0.31<br>XOM_Close: Weight=0.25<br>AEP_Close: Weight=0.07",
          "Return: 53.88%<br>Volatility: 0.12<br>BA_Close: Weight=0.38<br>ABBV_Close: Weight=0.57<br>DUK_Close: Weight=0.04<br>K_Close: Weight=0.01",
          "Return: 27.20%<br>Volatility: 0.07<br>WMT_Close: Weight=0.17<br>BA_Close: Weight=0.24<br>XOM_Close: Weight=0.27<br>EXC_Close: Weight=0.28<br>AAPL_Close: Weight=0.03",
          "Return: 27.92%<br>Volatility: 0.07<br>DIS_Close: Weight=0.18<br>LMT_Close: Weight=0.10<br>MCD_Close: Weight=0.25<br>MA_Close: Weight=0.24<br>HD_Close: Weight=0.23",
          "Return: 33.02%<br>Volatility: 0.08<br>BA_Close: Weight=0.16<br>BABA_Close: Weight=0.10<br>SYY_Close: Weight=0.25<br>MCD_Close: Weight=0.20<br>JNJ_Close: Weight=0.29",
          "Return: 29.85%<br>Volatility: 0.07<br>WMT_Close: Weight=0.18<br>XOM_Close: Weight=0.25<br>MRK_Close: Weight=0.10<br>BA_Close: Weight=0.22<br>MCD_Close: Weight=0.26",
          "Return: 35.22%<br>Volatility: 0.09<br>HD_Close: Weight=0.35<br>V_Close: Weight=0.20<br>NEE_Close: Weight=0.14<br>ISRG_Close: Weight=0.31",
          "Return: 41.76%<br>Volatility: 0.09<br>UNH_Close: Weight=0.10<br>ABT_Close: Weight=0.24<br>BA_Close: Weight=0.30<br>MCD_Close: Weight=0.36",
          "Return: 17.80%<br>Volatility: 0.06<br>BAC_Close: Weight=0.13<br>DUK_Close: Weight=0.26<br>MCD_Close: Weight=0.22<br>KO_Close: Weight=0.39",
          "Return: 8.60%<br>Volatility: 0.06<br>XOM_Close: Weight=0.30<br>LLY_Close: Weight=0.11<br>AEP_Close: Weight=0.28<br>PEP_Close: Weight=0.22<br>PM_Close: Weight=0.10",
          "Return: 57.20%<br>Volatility: 0.13<br>MA_Close: Weight=0.02<br>PYPL_Close: Weight=0.19<br>ABBV_Close: Weight=0.54<br>BA_Close: Weight=0.25",
          "Return: 43.24%<br>Volatility: 0.10<br>NKE_Close: Weight=0.08<br>ABBV_Close: Weight=0.30<br>MMM_Close: Weight=0.29<br>PYPL_Close: Weight=0.18<br>WMT_Close: Weight=0.15",
          "Return: 21.84%<br>Volatility: 0.07<br>DHR_Close: Weight=0.09<br>F_Close: Weight=0.20<br>NEE_Close: Weight=0.28<br>MCD_Close: Weight=0.32<br>RTX_Close: Weight=0.10",
          "Return: 57.29%<br>Volatility: 0.13<br>BA_Close: Weight=0.37<br>CAT_Close: Weight=0.44<br>MSFT_Close: Weight=0.19",
          "Return: 33.28%<br>Volatility: 0.08<br>XOM_Close: Weight=0.26<br>BABA_Close: Weight=0.11<br>HD_Close: Weight=0.19<br>NKE_Close: Weight=0.15<br>BA_Close: Weight=0.30",
          "Return: 48.46%<br>Volatility: 0.11<br>PFE_Close: Weight=0.18<br>ABBV_Close: Weight=0.34<br>BA_Close: Weight=0.48",
          "Return: 23.66%<br>Volatility: 0.07<br>UNH_Close: Weight=0.18<br>MMM_Close: Weight=0.20<br>HD_Close: Weight=0.20<br>KO_Close: Weight=0.29<br>EXC_Close: Weight=0.14",
          "Return: 19.43%<br>Volatility: 0.07<br>LMT_Close: Weight=0.35<br>XOM_Close: Weight=0.21<br>CAT_Close: Weight=0.03<br>CVX_Close: Weight=0.16<br>NEE_Close: Weight=0.26",
          "Return: 14.05%<br>Volatility: 0.06<br>COST_Close: Weight=0.02<br>PFE_Close: Weight=0.22<br>XOM_Close: Weight=0.18<br>WFC_Close: Weight=0.15<br>NEE_Close: Weight=0.43",
          "Return: 67.88%<br>Volatility: 0.26<br>LLY_Close: Weight=0.05<br>ABBV_Close: Weight=0.33<br>NVDA_Close: Weight=0.62",
          "Return: 55.21%<br>Volatility: 0.12<br>ABBV_Close: Weight=0.45<br>CAT_Close: Weight=0.44<br>AAPL_Close: Weight=0.11",
          "Return: 48.62%<br>Volatility: 0.11<br>MMM_Close: Weight=0.31<br>ABBV_Close: Weight=0.18<br>BA_Close: Weight=0.51",
          "Return: 49.74%<br>Volatility: 0.11<br>NEE_Close: Weight=0.09<br>NVDA_Close: Weight=0.15<br>CAT_Close: Weight=0.26<br>ABBV_Close: Weight=0.28<br>AEP_Close: Weight=0.21",
          "Return: 36.41%<br>Volatility: 0.08<br>NEE_Close: Weight=0.30<br>BA_Close: Weight=0.24<br>HD_Close: Weight=0.45",
          "Return: 44.20%<br>Volatility: 0.10<br>ACN_Close: Weight=0.24<br>BA_Close: Weight=0.42<br>MCD_Close: Weight=0.34",
          "Return: 48.16%<br>Volatility: 0.11<br>DIS_Close: Weight=0.07<br>CAT_Close: Weight=0.33<br>ABBV_Close: Weight=0.33<br>MRK_Close: Weight=0.05<br>ISRG_Close: Weight=0.21",
          "Return: 34.80%<br>Volatility: 0.08<br>BA_Close: Weight=0.32<br>TMO_Close: Weight=0.17<br>AMZN_Close: Weight=0.11<br>GIS_Close: Weight=0.06<br>NEE_Close: Weight=0.35",
          "Return: 15.09%<br>Volatility: 0.06<br>KO_Close: Weight=0.26<br>AEP_Close: Weight=0.27<br>JPM_Close: Weight=0.18<br>MSFT_Close: Weight=0.08<br>LLY_Close: Weight=0.21",
          "Return: 15.67%<br>Volatility: 0.06<br>LMT_Close: Weight=0.25<br>PFE_Close: Weight=0.17<br>XOM_Close: Weight=0.20<br>KO_Close: Weight=0.20<br>CRM_Close: Weight=0.18",
          "Return: 77.16%<br>Volatility: 0.37<br>BSX_Close: Weight=0.01<br>NVDA_Close: Weight=0.94<br>META_Close: Weight=0.05",
          "Return: 52.73%<br>Volatility: 0.12<br>BA_Close: Weight=0.50<br>COST_Close: Weight=0.10<br>ABBV_Close: Weight=0.40",
          "Return: 52.14%<br>Volatility: 0.11<br>BA_Close: Weight=0.36<br>MMM_Close: Weight=0.15<br>ABBV_Close: Weight=0.49",
          "Return: 43.43%<br>Volatility: 0.10<br>BA_Close: Weight=0.43<br>HON_Close: Weight=0.29<br>MCD_Close: Weight=0.28",
          "Return: 24.17%<br>Volatility: 0.07<br>VZ_Close: Weight=0.17<br>KO_Close: Weight=0.48<br>BABA_Close: Weight=0.16<br>HD_Close: Weight=0.19",
          "Return: 30.98%<br>Volatility: 0.07<br>BA_Close: Weight=0.22<br>CMCSA_Close: Weight=0.10<br>MCD_Close: Weight=0.19<br>PEP_Close: Weight=0.39<br>ISRG_Close: Weight=0.11",
          "Return: 51.54%<br>Volatility: 0.11<br>ABBV_Close: Weight=0.22<br>LLY_Close: Weight=0.15<br>CAT_Close: Weight=0.37<br>BA_Close: Weight=0.26",
          "Return: 71.63%<br>Volatility: 0.27<br>PYPL_Close: Weight=0.41<br>DE_Close: Weight=0.01<br>EXC_Close: Weight=0.03<br>NVDA_Close: Weight=0.54",
          "Return: 41.22%<br>Volatility: 0.09<br>BA_Close: Weight=0.34<br>NVDA_Close: Weight=0.04<br>WMT_Close: Weight=0.27<br>JNJ_Close: Weight=0.34",
          "Return: 16.47%<br>Volatility: 0.06<br>DIS_Close: Weight=0.13<br>LMT_Close: Weight=0.24<br>MDT_Close: Weight=0.21<br>KO_Close: Weight=0.21<br>MCD_Close: Weight=0.21",
          "Return: 24.41%<br>Volatility: 0.07<br>HD_Close: Weight=0.12<br>NVDA_Close: Weight=0.03<br>MCD_Close: Weight=0.21<br>KO_Close: Weight=0.46<br>SYK_Close: Weight=0.17",
          "Return: 44.78%<br>Volatility: 0.10<br>WMT_Close: Weight=0.25<br>BA_Close: Weight=0.32<br>UNH_Close: Weight=0.43",
          "Return: 24.41%<br>Volatility: 0.07<br>V_Close: Weight=0.31<br>KO_Close: Weight=0.39<br>HD_Close: Weight=0.29",
          "Return: 71.87%<br>Volatility: 0.26<br>NVDA_Close: Weight=0.59<br>CVX_Close: Weight=0.04<br>CAT_Close: Weight=0.37",
          "Return: 23.41%<br>Volatility: 0.07<br>PEP_Close: Weight=0.12<br>CVX_Close: Weight=0.10<br>HON_Close: Weight=0.28<br>MCD_Close: Weight=0.26<br>AEP_Close: Weight=0.25",
          "Return: 42.87%<br>Volatility: 0.09<br>ABBV_Close: Weight=0.24<br>NEE_Close: Weight=0.43<br>BA_Close: Weight=0.33",
          "Return: 64.51%<br>Volatility: 0.16<br>PYPL_Close: Weight=0.51<br>BA_Close: Weight=0.03<br>CAT_Close: Weight=0.46",
          "Return: 46.98%<br>Volatility: 0.10<br>MCD_Close: Weight=0.32<br>BA_Close: Weight=0.35<br>WMT_Close: Weight=0.33",
          "Return: 8.28%<br>Volatility: 0.06<br>DUK_Close: Weight=0.35<br>GOOGL_Close: Weight=0.04<br>TMO_Close: Weight=0.12<br>WFC_Close: Weight=0.20<br>PG_Close: Weight=0.29",
          "Return: 36.65%<br>Volatility: 0.08<br>WMT_Close: Weight=0.21<br>KO_Close: Weight=0.34<br>BA_Close: Weight=0.33<br>ABT_Close: Weight=0.13",
          "Return: 21.96%<br>Volatility: 0.07<br>KO_Close: Weight=0.25<br>NEE_Close: Weight=0.33<br>NKE_Close: Weight=0.12<br>LMT_Close: Weight=0.18<br>WMT_Close: Weight=0.12",
          "Return: 34.63%<br>Volatility: 0.08<br>TMO_Close: Weight=0.23<br>WMT_Close: Weight=0.14<br>DUK_Close: Weight=0.18<br>AEP_Close: Weight=0.10<br>BA_Close: Weight=0.35",
          "Return: 65.41%<br>Volatility: 0.18<br>NVDA_Close: Weight=0.31<br>PYPL_Close: Weight=0.22<br>BA_Close: Weight=0.42<br>JNJ_Close: Weight=0.05",
          "Return: 40.08%<br>Volatility: 0.09<br>BA_Close: Weight=0.27<br>INTC_Close: Weight=0.03<br>SYK_Close: Weight=0.07<br>DE_Close: Weight=0.31<br>NEE_Close: Weight=0.32",
          "Return: 52.12%<br>Volatility: 0.11<br>V_Close: Weight=0.26<br>CAT_Close: Weight=0.33<br>MCD_Close: Weight=0.06<br>BA_Close: Weight=0.35",
          "Return: 68.21%<br>Volatility: 0.21<br>PYPL_Close: Weight=0.55<br>VRTX_Close: Weight=0.20<br>NVDA_Close: Weight=0.25",
          "Return: 76.43%<br>Volatility: 0.37<br>PFE_Close: Weight=0.06<br>AMGN_Close: Weight=0.00<br>NVDA_Close: Weight=0.94",
          "Return: 69.18%<br>Volatility: 0.23<br>RTX_Close: Weight=0.06<br>CAT_Close: Weight=0.47<br>NVDA_Close: Weight=0.47",
          "Return: 44.34%<br>Volatility: 0.10<br>LMT_Close: Weight=0.21<br>CAT_Close: Weight=0.20<br>MCD_Close: Weight=0.19<br>BA_Close: Weight=0.34<br>IBM_Close: Weight=0.06",
          "Return: 43.69%<br>Volatility: 0.10<br>BA_Close: Weight=0.28<br>JNJ_Close: Weight=0.30<br>AMZN_Close: Weight=0.09<br>PYPL_Close: Weight=0.07<br>ABBV_Close: Weight=0.25",
          "Return: 18.39%<br>Volatility: 0.06<br>CRM_Close: Weight=0.06<br>DIS_Close: Weight=0.25<br>V_Close: Weight=0.11<br>KO_Close: Weight=0.33<br>MCD_Close: Weight=0.25",
          "Return: 66.58%<br>Volatility: 0.19<br>BA_Close: Weight=0.54<br>BABA_Close: Weight=0.10<br>NVDA_Close: Weight=0.34<br>COST_Close: Weight=0.01",
          "Return: 17.98%<br>Volatility: 0.06<br>NEE_Close: Weight=0.25<br>JPM_Close: Weight=0.30<br>BIIB_Close: Weight=0.02<br>CVX_Close: Weight=0.13<br>KO_Close: Weight=0.30"
         ],
         "type": "scatter",
         "x": {
          "bdata": "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",
          "dtype": "f8"
         },
         "y": {
          "bdata": "kUoi24MNs78qpwpaUwPKPxgvNSxMb8E/DE8wouzUdb8j/6gNjl21P10DYQEorrs/0uW0La9G0T/Zi9bc/XqrP92xRgSPQ8U/BgZniCXz0T97MbyCWtTaP8lfWxq1vtc/+eRrHHJHyz/If1WIcBjdP3E236qJMNA/atepkOb54D/8BGOVuSPCP3/3GQKedt4/es6VH7JFxT+OmUnEutHXP+d8W6Bw1eA/ahqIPEKNyD964JoQWd/PP4E/ASh08OM/O5dSBZWC1D/IQum2zszWPz9FZ/rurNY/GgPVB0QO0D8y+QlxynXMP4vcFIlU8eE/D/LG2yg31z+xtY75MP7ZP/K7Ds6im80/CKFkpYzF0D/OuwVcDY7RPyYUHCEJYtI/PB0rMhgf3T+lZGPD1hK+P0SN/kj3ddE/uV0EFLktwD/hrm9sAyvRP46I2uaoRdY/YBQeS4290z/uwKWEHs/kP6M4FHXtKtw/lC5qKerE1D+s1zs625PWP7jduvnUT9U/1GTWCg0L4j9egNowyeLDP+wi+5MvDcI/mesx2zm32D/HWrBmrIrUP8GG3xKNQ+M/z1paHy/90z+NJkrvsM7HP/2y46V/9tU/HeJv+38X2T82QYI0L7TNP4F2QRCGLdY/5NvTCFDx4z8kIJNaGWrjP8LVD5FxmsE/Gv7eTd/e1j8jDapn+snjPx3ms1KPMNE/BWk37FqbqT9Ns70ZjY3WP9K1xHEY6sc/IhTPl+dd0z9TJWtPYJLGP537BQESu7I/9NFmW0PO3D9zyA6X2RDIP1YjwATv/9g/+cxas99A3T/YfHhPVgPUP7MDC7VOA8k/QscCopc/yT+QCZmkjJfYP2gRzXI7BuI/eVUFdhU5xz+6Hs+hlEHYPyAbH7TEcdk/v/7HT8+T1D+PNdKaAyrYPz6ISumMntQ/AkZ3IuL+1T9Nd663dX3kPyrYLb5YQtk//ubKgi+Ayz+qBEwn9A7fP+dcEhXnXdg/s4qF5Pyhzj9mXoQPlTDRPxiUCIxaQNs/MDK/YGX/1D91981lbBHZP6Lg9oZA2eM/77Ak5NpRwT9ClZYQn3vjP4n6RoIsTOc/BsJ/fyWZ0D/+NIbyo5rbPyj88ybnCck/UXpet1go2j8fiJAckprYP8u5Wm3q+dE/bhtC3TgJ4D/EP+pne37VP5pMBWuKft4/7g06GUpJ0T+x5zePE1rgPxLuAm5Nttg/sZkOawDx4D8qzxZFHGPlP+/yd/iODtY/pFCZBN5s0j8qHJkhvEDgPwRt7eKL1tU/5oqh7Quc0j8tIqn4MZPlP5cqdj38sNA/0NR1IPDS5T8Hga4xXZHTPzXst2pY+tQ/U/2YVZJa5j911QDf8TzMP8Y165KdNdE/tguZigDa5j9XFmlisQDkP6KPySMd+uc/MHvJeW0Owj+hScA7eD3hP7kfuJMgaNE/TSIvbo7e0T9j/fWdNSLVPzIYl9PtGdM/Jmyju9qJ1j8c5Y/o3bnaP3ehlUXUycY/ZmwoDnADtj9R6FI0CU7iPzdxtD2ArNs/68W8c9Hzyz9opRNgTFXiP7wq1q7cTNU/Wdq4qt8C3z9KvjY/7knOP8EqvdM/3sg/UEzBOw78wT/knRc9vLjlP+820qEPq+E/5fmbC1se3z/EOtJMi9XfP7MQdf6GTdc/eja9MW1K3D+bnUMVKdPePyD+69LhRdY/iERinSpPwz/R8EfbRRDEPyt+BrDHsOg/dZq2oMbf4D8MmaXqJ6/gP8ATplnEyts/LOk6iN/uzj8LJcRKr9PTP7jIiA9SfuA/VdNJHfvr5j8HOdVyz2DaP3zVkuCsFMU/aRMMTeA9zz9+J5cjjKncP4b/0om2P88/ZqVsE2P/5j/3uroYZ/jNPzAaDJcxb9s/7FvF6Emk5D+iRxpJ9BHePx4zAHh6L7U/OJ3aMGR01z/wxNuUYBvMP96Qdyx2KtY/s4g3oFDu5D8qACkxbafZP1pifYr4reA/ZC6EcAbU5T/RNqkTCnXoP0ic878pI+Y/Vp+V8VJh3D9GCHD2TfbbP87NjH7gicc/9uEJJeRN5T+gXbBtXALHPw==",
          "dtype": "f8"
         }
        }
       ],
       "layout": {
        "template": {
         "data": {
          "bar": [
           {
            "error_x": {
             "color": "#2a3f5f"
            },
            "error_y": {
             "color": "#2a3f5f"
            },
            "marker": {
             "line": {
              "color": "#E5ECF6",
              "width": 0.5
             },
             "pattern": {
              "fillmode": "overlay",
              "size": 10,
              "solidity": 0.2
             }
            },
            "type": "bar"
           }
          ],
          "barpolar": [
           {
            "marker": {
             "line": {
              "color": "#E5ECF6",
              "width": 0.5
             },
             "pattern": {
              "fillmode": "overlay",
              "size": 10,
              "solidity": 0.2
             }
            },
            "type": "barpolar"
           }
          ],
          "carpet": [
           {
            "aaxis": {
             "endlinecolor": "#2a3f5f",
             "gridcolor": "white",
             "linecolor": "white",
             "minorgridcolor": "white",
             "startlinecolor": "#2a3f5f"
            },
            "baxis": {
             "endlinecolor": "#2a3f5f",
             "gridcolor": "white",
             "linecolor": "white",
             "minorgridcolor": "white",
             "startlinecolor": "#2a3f5f"
            },
            "type": "carpet"
           }
          ],
          "choropleth": [
           {
            "colorbar": {
             "outlinewidth": 0,
             "ticks": ""
            },
            "type": "choropleth"
           }
          ],
          "contour": [
           {
            "colorbar": {
             "outlinewidth": 0,
             "ticks": ""
            },
            "colorscale": [
             [
              0,
              "#0d0887"
             ],
             [
              0.1111111111111111,
              "#46039f"
             ],
             [
              0.2222222222222222,
              "#7201a8"
             ],
             [
              0.3333333333333333,
              "#9c179e"
             ],
             [
              0.4444444444444444,
              "#bd3786"
             ],
             [
              0.5555555555555556,
              "#d8576b"
             ],
             [
              0.6666666666666666,
              "#ed7953"
             ],
             [
              0.7777777777777778,
              "#fb9f3a"
             ],
             [
              0.8888888888888888,
              "#fdca26"
             ],
             [
              1,
              "#f0f921"
             ]
            ],
            "type": "contour"
           }
          ],
          "contourcarpet": [
           {
            "colorbar": {
             "outlinewidth": 0,
             "ticks": ""
            },
            "type": "contourcarpet"
           }
          ],
          "heatmap": [
           {
            "colorbar": {
             "outlinewidth": 0,
             "ticks": ""
            },
            "colorscale": [
             [
              0,
              "#0d0887"
             ],
             [
              0.1111111111111111,
              "#46039f"
             ],
             [
              0.2222222222222222,
              "#7201a8"
             ],
             [
              0.3333333333333333,
              "#9c179e"
             ],
             [
              0.4444444444444444,
              "#bd3786"
             ],
             [
              0.5555555555555556,
              "#d8576b"
             ],
             [
              0.6666666666666666,
              "#ed7953"
             ],
             [
              0.7777777777777778,
              "#fb9f3a"
             ],
             [
              0.8888888888888888,
              "#fdca26"
             ],
             [
              1,
              "#f0f921"
             ]
            ],
            "type": "heatmap"
           }
          ],
          "histogram": [
           {
            "marker": {
             "pattern": {
              "fillmode": "overlay",
              "size": 10,
              "solidity": 0.2
             }
            },
            "type": "histogram"
           }
          ],
          "histogram2d": [
           {
            "colorbar": {
             "outlinewidth": 0,
             "ticks": ""
            },
            "colorscale": [
             [
              0,
              "#0d0887"
             ],
             [
              0.1111111111111111,
              "#46039f"
             ],
             [
              0.2222222222222222,
              "#7201a8"
             ],
             [
              0.3333333333333333,
              "#9c179e"
             ],
             [
              0.4444444444444444,
              "#bd3786"
             ],
             [
              0.5555555555555556,
              "#d8576b"
             ],
             [
              0.6666666666666666,
              "#ed7953"
             ],
             [
              0.7777777777777778,
              "#fb9f3a"
             ],
             [
              0.8888888888888888,
              "#fdca26"
             ],
             [
              1,
              "#f0f921"
             ]
            ],
            "type": "histogram2d"
           }
          ],
          "histogram2dcontour": [
           {
            "colorbar": {
             "outlinewidth": 0,
             "ticks": ""
            },
            "colorscale": [
             [
              0,
              "#0d0887"
             ],
             [
              0.1111111111111111,
              "#46039f"
             ],
             [
              0.2222222222222222,
              "#7201a8"
             ],
             [
              0.3333333333333333,
              "#9c179e"
             ],
             [
              0.4444444444444444,
              "#bd3786"
             ],
             [
              0.5555555555555556,
              "#d8576b"
             ],
             [
              0.6666666666666666,
              "#ed7953"
             ],
             [
              0.7777777777777778,
              "#fb9f3a"
             ],
             [
              0.8888888888888888,
              "#fdca26"
             ],
             [
              1,
              "#f0f921"
             ]
            ],
            "type": "histogram2dcontour"
           }
          ],
          "mesh3d": [
           {
            "colorbar": {
             "outlinewidth": 0,
             "ticks": ""
            },
            "type": "mesh3d"
           }
          ],
          "parcoords": [
           {
            "line": {
             "colorbar": {
              "outlinewidth": 0,
              "ticks": ""
             }
            },
            "type": "parcoords"
           }
          ],
          "pie": [
           {
            "automargin": true,
            "type": "pie"
           }
          ],
          "scatter": [
           {
            "fillpattern": {
             "fillmode": "overlay",
             "size": 10,
             "solidity": 0.2
            },
            "type": "scatter"
           }
          ],
          "scatter3d": [
           {
            "line": {
             "colorbar": {
              "outlinewidth": 0,
              "ticks": ""
             }
            },
            "marker": {
             "colorbar": {
              "outlinewidth": 0,
              "ticks": ""
             }
            },
            "type": "scatter3d"
           }
          ],
          "scattercarpet": [
           {
            "marker": {
             "colorbar": {
              "outlinewidth": 0,
              "ticks": ""
             }
            },
            "type": "scattercarpet"
           }
          ],
          "scattergeo": [
           {
            "marker": {
             "colorbar": {
              "outlinewidth": 0,
              "ticks": ""
             }
            },
            "type": "scattergeo"
           }
          ],
          "scattergl": [
           {
            "marker": {
             "colorbar": {
              "outlinewidth": 0,
              "ticks": ""
             }
            },
            "type": "scattergl"
           }
          ],
          "scattermap": [
           {
            "marker": {
             "colorbar": {
              "outlinewidth": 0,
              "ticks": ""
             }
            },
            "type": "scattermap"
           }
          ],
          "scattermapbox": [
           {
            "marker": {
             "colorbar": {
              "outlinewidth": 0,
              "ticks": ""
             }
            },
            "type": "scattermapbox"
           }
          ],
          "scatterpolar": [
           {
            "marker": {
             "colorbar": {
              "outlinewidth": 0,
              "ticks": ""
             }
            },
            "type": "scatterpolar"
           }
          ],
          "scatterpolargl": [
           {
            "marker": {
             "colorbar": {
              "outlinewidth": 0,
              "ticks": ""
             }
            },
            "type": "scatterpolargl"
           }
          ],
          "scatterternary": [
           {
            "marker": {
             "colorbar": {
              "outlinewidth": 0,
              "ticks": ""
             }
            },
            "type": "scatterternary"
           }
          ],
          "surface": [
           {
            "colorbar": {
             "outlinewidth": 0,
             "ticks": ""
            },
            "colorscale": [
             [
              0,
              "#0d0887"
             ],
             [
              0.1111111111111111,
              "#46039f"
             ],
             [
              0.2222222222222222,
              "#7201a8"
             ],
             [
              0.3333333333333333,
              "#9c179e"
             ],
             [
              0.4444444444444444,
              "#bd3786"
             ],
             [
              0.5555555555555556,
              "#d8576b"
             ],
             [
              0.6666666666666666,
              "#ed7953"
             ],
             [
              0.7777777777777778,
              "#fb9f3a"
             ],
             [
              0.8888888888888888,
              "#fdca26"
             ],
             [
              1,
              "#f0f921"
             ]
            ],
            "type": "surface"
           }
          ],
          "table": [
           {
            "cells": {
             "fill": {
              "color": "#EBF0F8"
             },
             "line": {
              "color": "white"
             }
            },
            "header": {
             "fill": {
              "color": "#C8D4E3"
             },
             "line": {
              "color": "white"
             }
            },
            "type": "table"
           }
          ]
         },
         "layout": {
          "annotationdefaults": {
           "arrowcolor": "#2a3f5f",
           "arrowhead": 0,
           "arrowwidth": 1
          },
          "autotypenumbers": "strict",
          "coloraxis": {
           "colorbar": {
            "outlinewidth": 0,
            "ticks": ""
           }
          },
          "colorscale": {
           "diverging": [
            [
             0,
             "#8e0152"
            ],
            [
             0.1,
             "#c51b7d"
            ],
            [
             0.2,
             "#de77ae"
            ],
            [
             0.3,
             "#f1b6da"
            ],
            [
             0.4,
             "#fde0ef"
            ],
            [
             0.5,
             "#f7f7f7"
            ],
            [
             0.6,
             "#e6f5d0"
            ],
            [
             0.7,
             "#b8e186"
            ],
            [
             0.8,
             "#7fbc41"
            ],
            [
             0.9,
             "#4d9221"
            ],
            [
             1,
             "#276419"
            ]
           ],
           "sequential": [
            [
             0,
             "#0d0887"
            ],
            [
             0.1111111111111111,
             "#46039f"
            ],
            [
             0.2222222222222222,
             "#7201a8"
            ],
            [
             0.3333333333333333,
             "#9c179e"
            ],
            [
             0.4444444444444444,
             "#bd3786"
            ],
            [
             0.5555555555555556,
             "#d8576b"
            ],
            [
             0.6666666666666666,
             "#ed7953"
            ],
            [
             0.7777777777777778,
             "#fb9f3a"
            ],
            [
             0.8888888888888888,
             "#fdca26"
            ],
            [
             1,
             "#f0f921"
            ]
           ],
           "sequentialminus": [
            [
             0,
             "#0d0887"
            ],
            [
             0.1111111111111111,
             "#46039f"
            ],
            [
             0.2222222222222222,
             "#7201a8"
            ],
            [
             0.3333333333333333,
             "#9c179e"
            ],
            [
             0.4444444444444444,
             "#bd3786"
            ],
            [
             0.5555555555555556,
             "#d8576b"
            ],
            [
             0.6666666666666666,
             "#ed7953"
            ],
            [
             0.7777777777777778,
             "#fb9f3a"
            ],
            [
             0.8888888888888888,
             "#fdca26"
            ],
            [
             1,
             "#f0f921"
            ]
           ]
          },
          "colorway": [
           "#636efa",
           "#EF553B",
           "#00cc96",
           "#ab63fa",
           "#FFA15A",
           "#19d3f3",
           "#FF6692",
           "#B6E880",
           "#FF97FF",
           "#FECB52"
          ],
          "font": {
           "color": "#2a3f5f"
          },
          "geo": {
           "bgcolor": "white",
           "lakecolor": "white",
           "landcolor": "#E5ECF6",
           "showlakes": true,
           "showland": true,
           "subunitcolor": "white"
          },
          "hoverlabel": {
           "align": "left"
          },
          "hovermode": "closest",
          "mapbox": {
           "style": "light"
          },
          "paper_bgcolor": "white",
          "plot_bgcolor": "#E5ECF6",
          "polar": {
           "angularaxis": {
            "gridcolor": "white",
            "linecolor": "white",
            "ticks": ""
           },
           "bgcolor": "#E5ECF6",
           "radialaxis": {
            "gridcolor": "white",
            "linecolor": "white",
            "ticks": ""
           }
          },
          "scene": {
           "xaxis": {
            "backgroundcolor": "#E5ECF6",
            "gridcolor": "white",
            "gridwidth": 2,
            "linecolor": "white",
            "showbackground": true,
            "ticks": "",
            "zerolinecolor": "white"
           },
           "yaxis": {
            "backgroundcolor": "#E5ECF6",
            "gridcolor": "white",
            "gridwidth": 2,
            "linecolor": "white",
            "showbackground": true,
            "ticks": "",
            "zerolinecolor": "white"
           },
           "zaxis": {
            "backgroundcolor": "#E5ECF6",
            "gridcolor": "white",
            "gridwidth": 2,
            "linecolor": "white",
            "showbackground": true,
            "ticks": "",
            "zerolinecolor": "white"
           }
          },
          "shapedefaults": {
           "line": {
            "color": "#2a3f5f"
           }
          },
          "ternary": {
           "aaxis": {
            "gridcolor": "white",
            "linecolor": "white",
            "ticks": ""
           },
           "baxis": {
            "gridcolor": "white",
            "linecolor": "white",
            "ticks": ""
           },
           "bgcolor": "#E5ECF6",
           "caxis": {
            "gridcolor": "white",
            "linecolor": "white",
            "ticks": ""
           }
          },
          "title": {
           "x": 0.05
          },
          "xaxis": {
           "automargin": true,
           "gridcolor": "white",
           "linecolor": "white",
           "ticks": "",
           "title": {
            "standoff": 15
           },
           "zerolinecolor": "white",
           "zerolinewidth": 2
          },
          "yaxis": {
           "automargin": true,
           "gridcolor": "white",
           "linecolor": "white",
           "ticks": "",
           "title": {
            "standoff": 15
           },
           "zerolinecolor": "white",
           "zerolinewidth": 2
          }
         }
        },
        "title": {
         "text": "Sample of Random Portfolios"
        },
        "xaxis": {
         "title": {
          "text": "Volatility (Standard Deviation)"
         }
        },
        "yaxis": {
         "title": {
          "text": "Annualized Return"
         }
        }
       }
      }
     },
     "metadata": {},
     "output_type": "display_data"
    }
   ],
   "source": [
    "fig = go.Figure()\n",
    "fig.add_trace(go.Scatter(\n",
    "    x=mean_variance_pairs[:, 1]**0.5,\n",
    "    y=mean_variance_pairs[:, 0],\n",
    "    mode='markers',\n",
    "    marker=dict(\n",
    "        color=(mean_variance_pairs[:, 0])/(mean_variance_pairs[:, 1]**0.5),\n",
    "        showscale=True, \n",
    "        size=7,\n",
    "        line=dict(width=1),\n",
    "        colorscale=\"RdBu\",\n",
    "        colorbar=dict(title=\"Sharpe<br>Ratio\")\n",
    "    ),\n",
    "    hoverinfo='text',\n",
    "    text=hover_texts\n",
    "))\n",
    "\n",
    "fig.update_layout(\n",
    "    title='Sample of Random Portfolios',\n",
    "    xaxis_title='Volatility (Standard Deviation)',\n",
    "    yaxis_title='Annualized Return',\n",
    ")\n",
    "\n",
    "fig.show()"
   ]
  }
 ],
 "metadata": {
  "kernelspec": {
   "display_name": "roboA",
   "language": "python",
   "name": "python3"
  },
  "language_info": {
   "codemirror_mode": {
    "name": "ipython",
    "version": 3
   },
   "file_extension": ".py",
   "mimetype": "text/x-python",
   "name": "python",
   "nbconvert_exporter": "python",
   "pygments_lexer": "ipython3",
   "version": "3.12.8"
  }
 },
 "nbformat": 4,
 "nbformat_minor": 2
}
