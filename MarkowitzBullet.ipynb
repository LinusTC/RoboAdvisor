{
 "cells": [
  {
   "cell_type": "markdown",
   "metadata": {},
   "source": [
    "# Markowitz Efficient Frontier"
   ]
  },
  {
   "cell_type": "markdown",
   "metadata": {},
   "source": [
    "## 1. Imports"
   ]
  },
  {
   "cell_type": "code",
   "execution_count": 20,
   "metadata": {},
   "outputs": [],
   "source": [
    "import pandas as pd\n",
    "import numpy as np\n",
    "import yfinance as yf\n",
    "import plotly.graph_objects as go\n",
    "from tqdm import tqdm\n",
    "import scipy.optimize\n",
    "\n",
    "from fetchData import fetch_raw_data_yf, get_matrices, getNasdaqStocks\n",
    "from MonteCarloRBA import MonteCarloRBA\n",
    "from portfolioFunction import maximize_sharpe, create_correlation_matrix\n",
    "from LearningRBA import find_best_asset_to_remove\n"
   ]
  },
  {
   "cell_type": "markdown",
   "metadata": {},
   "source": [
    "## 2. Fetch Data"
   ]
  },
  {
   "cell_type": "markdown",
   "metadata": {},
   "source": [
    "### Get all Nasdaq Stocks"
   ]
  },
  {
   "cell_type": "code",
   "execution_count": 21,
   "metadata": {},
   "outputs": [
    {
     "data": {
      "text/plain": [
       "100"
      ]
     },
     "execution_count": 21,
     "metadata": {},
     "output_type": "execute_result"
    }
   ],
   "source": [
    "assets= [\n",
    "    \"AAPL\",  # Apple Inc.\n",
    "    \"MSFT\",  # Microsoft Corporation\n",
    "    \"AMZN\",  # Amazon.com Inc.\n",
    "    \"GOOGL\", # Alphabet Inc. (Google) Class A\n",
    "    \"GOOG\",  # Alphabet Inc. (Google) Class C\n",
    "    \"META\",    # Meta Platforms Inc (formerly Facebook)\n",
    "    \"TSLA\",  # Tesla Inc\n",
    "    \"UA\", # Berkshire Hathaway Inc. Class B\n",
    "    \"JPM\",   # JPMorgan Chase & Co.\n",
    "    \"V\",     # Visa Inc.\n",
    "    \"JNJ\",   # Johnson & Johnson\n",
    "    \"WMT\",   # Walmart Inc.\n",
    "    \"PG\",    # Procter & Gamble Co.\n",
    "    \"UNH\",   # UnitedHealth Group Inc.\n",
    "    \"MA\",    # Mastercard Inc.\n",
    "    \"NVDA\",  # NVIDIA Corporation\n",
    "    \"HD\",    # Home Depot Inc.\n",
    "    \"BAC\",   # Bank of America Corp\n",
    "    \"DIS\",   # Walt Disney Co\n",
    "    \"PYPL\",  # PayPal Holdings\n",
    "    \"VZ\",    # Verizon Communications Inc.\n",
    "    \"ADBE\",  # Adobe Inc.\n",
    "    \"CMCSA\", # Comcast Corporation\n",
    "    \"NFLX\",  # Netflix Inc.\n",
    "    \"KO\",    # Coca-Cola Co\n",
    "    \"NKE\",   # NIKE Inc.\n",
    "    \"PFE\",   # Pfizer Inc.\n",
    "    \"MRK\",   # Merck & Co., Inc.\n",
    "    \"PEP\",   # PepsiCo, Inc.\n",
    "    \"T\",     # AT&T Inc.\n",
    "    \"ABT\",   # Abbott Laboratories\n",
    "    \"CRM\",   # Salesforce.com Inc.\n",
    "    \"ORCL\",  # Oracle Corporation\n",
    "    \"ABBV\",  # AbbVie Inc.\n",
    "    \"CSCO\",  # Cisco Systems, Inc.\n",
    "    \"INTC\",  # Intel Corporation\n",
    "    \"TMO\",   # Thermo Fisher Scientific Inc.\n",
    "    \"XOM\",   # Exxon Mobil Corporation\n",
    "    \"ACN\",   # Accenture plc\n",
    "    \"LLY\",   # Eli Lilly and Company\n",
    "    \"COST\",  # Costco Wholesale Corporation\n",
    "    \"MCD\",   # McDonald's Corp\n",
    "    \"DHR\",   # Danaher Corporation\n",
    "    \"MDT\",   # Medtronic plc\n",
    "    \"NEE\",   # NextEra Energy, Inc.\n",
    "    \"BMY\",   # Bristol-Myers Squibb Company\n",
    "    \"QCOM\",  # Qualcomm Inc\n",
    "    \"CVX\",   # Chevron Corporation\n",
    "    \"WFC\",   # Wells Fargo & Co\n",
    "    \"LMT\",    # Lockheed Martin Corporation\n",
    "    \"GS\",   # Goldman Sachs Group, Inc.\n",
    "    \"MS\",   # Morgan Stanley\n",
    "    \"IBM\",  # International Business Machines Corporation\n",
    "    \"GE\",   # General Electric Company\n",
    "    \"F\",    # Ford Motor Company\n",
    "    \"GM\",   # General Motors Company\n",
    "    \"UBER\", # Uber Technologies, Inc.\n",
    "    \"LYFT\", # Lyft, Inc.\n",
    "    \"SNAP\", # Snap Inc.\n",
    "    \"TWTR\", # Twitter, Inc.\n",
    "    \"SPOT\", # Spotify Technology S.A.\n",
    "    \"AMD\",  # Advanced Micro Devices, Inc.\n",
    "    \"TXN\",  # Texas Instruments Incorporated\n",
    "    \"BABA\", # Alibaba Group Holding Limited\n",
    "    \"SAP\",  # SAP SE\n",
    "    \"HON\",  # Honeywell International Inc.\n",
    "    \"BA\",   # Boeing Company\n",
    "    \"RTX\",  # Raytheon Technologies Corporation\n",
    "    \"CAT\",  # Caterpillar Inc.\n",
    "    \"DE\",   # Deere & Company\n",
    "    \"MMM\",  # 3M Company\n",
    "    \"DUK\",  # Duke Energy Corporation\n",
    "    \"SO\",   # Southern Company\n",
    "    \"EXC\",  # Exelon Corporation\n",
    "    \"NEE\",  # NextEra Energy, Inc.\n",
    "    \"AEP\",  # American Electric Power Company, Inc.\n",
    "    \"SRE\",  # Sempra Energy\n",
    "    \"ETN\",  # Eaton Corporation plc\n",
    "    \"EMR\",  # Emerson Electric Co.\n",
    "    \"SYY\",  # Sysco Corporation\n",
    "    \"KR\",   # Kroger Co.\n",
    "    \"GIS\",  # General Mills, Inc.\n",
    "    \"K\",    # Kellogg Company\n",
    "    \"CPB\",  # Campbell Soup Company\n",
    "    \"MO\",   # Altria Group, Inc.\n",
    "    \"PM\",   # Philip Morris International Inc.\n",
    "    \"BTI\",  # British American Tobacco plc\n",
    "    \"RDY\",  # Dr. Reddy's Laboratories Ltd.\n",
    "    \"GILD\", # Gilead Sciences, Inc.\n",
    "    \"BIIB\", # Biogen Inc.\n",
    "    \"CELG\", # Celgene Corporation\n",
    "    \"AMGN\", # Amgen Inc.\n",
    "    \"SYK\",  # Stryker Corporation\n",
    "    \"BSX\",  # Boston Scientific Corporation\n",
    "    \"ISRG\", # Intuitive Surgical, Inc.\n",
    "    \"ZBH\",  # Zimmer Biomet Holdings, Inc.\n",
    "    \"EW\",   # Edwards Lifesciences Corporation\n",
    "    \"RMD\",  # ResMed Inc.\n",
    "    \"VRTX\", # Vertex Pharmaceuticals Incorporated\n",
    "    \"REGN\",  # Regeneron Pharmaceuticals, Inc.\n",
    "]\n",
    "\n",
    "len(assets)"
   ]
  },
  {
   "cell_type": "code",
   "execution_count": 22,
   "metadata": {},
   "outputs": [
    {
     "name": "stderr",
     "output_type": "stream",
     "text": [
      "[*********************100%***********************]  99 of 99 completed\n",
      "\n",
      "5 Failed downloads:\n",
      "['LYFT', 'UBER', 'SPOT']: YFPricesMissingError('possibly delisted; no price data found  (1d 2015-01-01 -> 2018-01-01) (Yahoo error = \"Data doesn\\'t exist for startDate = 1420088400, endDate = 1514782800\")')\n",
      "['CELG', 'TWTR']: YFTzMissingError('possibly delisted; no timezone found')\n"
     ]
    },
    {
     "name": "stdout",
     "output_type": "stream",
     "text": [
      "Omitted assets ( 5 ):  ['LYFT', 'CELG', 'UBER', 'TWTR', 'SPOT']\n",
      "Time to fetch data: 4.17 seconds\n"
     ]
    }
   ],
   "source": [
    "raw_data, asset_errors, max_combination= fetch_raw_data_yf(assets)"
   ]
  },
  {
   "cell_type": "markdown",
   "metadata": {},
   "source": [
    "## 3. Mean, Volatility and Covariance"
   ]
  },
  {
   "cell_type": "code",
   "execution_count": 23,
   "metadata": {},
   "outputs": [],
   "source": [
    "names, cov, annualized_returns = get_matrices(raw_data, max_combination, None)[0]\n",
    "correlation_matrix = create_correlation_matrix(cov)\n",
    "volatility = np.sqrt(np.diag(cov))\n",
    "\n",
    "risk_free_rate=0 \n",
    "sharpe_ratios = (annualized_returns - risk_free_rate) / volatility"
   ]
  },
  {
   "cell_type": "code",
   "execution_count": 24,
   "metadata": {},
   "outputs": [
    {
     "data": {
      "application/vnd.plotly.v1+json": {
       "config": {
        "plotlyServerURL": "https://plot.ly"
       },
       "data": [
        {
         "hoverinfo": "text",
         "hovertext": [
          "CSCO_Close <br>Volatility: 0.16 <br>Returns: 16.11% <br>Sharpe Ratio: 0.98",
          "PEP_Close <br>Volatility: 0.10 <br>Returns: 12.73% <br>Sharpe Ratio: 1.30",
          "ABT_Close <br>Volatility: 0.14 <br>Returns: 28.67% <br>Sharpe Ratio: 2.05",
          "BA_Close <br>Volatility: 0.17 <br>Returns: 59.54% <br>Sharpe Ratio: 3.42",
          "SNAP_Close <br>Volatility: 0.63 <br>Returns: -61.94% <br>Sharpe Ratio: -0.98",
          "GOOGL_Close <br>Volatility: 0.16 <br>Returns: 25.77% <br>Sharpe Ratio: 1.64",
          "ISRG_Close <br>Volatility: 0.19 <br>Returns: 46.59% <br>Sharpe Ratio: 2.44",
          "AMGN_Close <br>Volatility: 0.17 <br>Returns: -0.36% <br>Sharpe Ratio: -0.02",
          "TMO_Close <br>Volatility: 0.16 <br>Returns: 21.55% <br>Sharpe Ratio: 1.32",
          "SRE_Close <br>Volatility: 0.13 <br>Returns: 0.42% <br>Sharpe Ratio: 0.03",
          "UA_Close <br>Volatility: 0.46 <br>Returns: -42.37% <br>Sharpe Ratio: -0.91",
          "RDY_Close <br>Volatility: 0.30 <br>Returns: -15.56% <br>Sharpe Ratio: -0.52",
          "EMR_Close <br>Volatility: 0.16 <br>Returns: 20.27% <br>Sharpe Ratio: 1.25",
          "PFE_Close <br>Volatility: 0.11 <br>Returns: 9.22% <br>Sharpe Ratio: 0.85",
          "NFLX_Close <br>Volatility: 0.29 <br>Returns: 38.28% <br>Sharpe Ratio: 1.33",
          "BTI_Close <br>Volatility: 0.19 <br>Returns: 11.15% <br>Sharpe Ratio: 0.58",
          "AMD_Close <br>Volatility: 0.58 <br>Returns: -36.20% <br>Sharpe Ratio: -0.62",
          "KO_Close <br>Volatility: 0.09 <br>Returns: 13.24% <br>Sharpe Ratio: 1.53",
          "KR_Close <br>Volatility: 0.36 <br>Returns: -11.51% <br>Sharpe Ratio: -0.32",
          "XOM_Close <br>Volatility: 0.10 <br>Returns: 3.88% <br>Sharpe Ratio: 0.37",
          "BSX_Close <br>Volatility: 0.17 <br>Returns: -1.01% <br>Sharpe Ratio: -0.06",
          "WFC_Close <br>Volatility: 0.17 <br>Returns: 6.48% <br>Sharpe Ratio: 0.38",
          "CMCSA_Close <br>Volatility: 0.21 <br>Returns: 9.55% <br>Sharpe Ratio: 0.46",
          "DHR_Close <br>Volatility: 0.13 <br>Returns: 9.07% <br>Sharpe Ratio: 0.71",
          "GOOG_Close <br>Volatility: 0.16 <br>Returns: 27.71% <br>Sharpe Ratio: 1.74",
          "MSFT_Close <br>Volatility: 0.15 <br>Returns: 36.72% <br>Sharpe Ratio: 2.42",
          "MA_Close <br>Volatility: 0.14 <br>Returns: 37.50% <br>Sharpe Ratio: 2.60",
          "ORCL_Close <br>Volatility: 0.19 <br>Returns: 13.13% <br>Sharpe Ratio: 0.70",
          "INTC_Close <br>Volatility: 0.18 <br>Returns: 32.63% <br>Sharpe Ratio: 1.86",
          "SO_Close <br>Volatility: 0.12 <br>Returns: -1.26% <br>Sharpe Ratio: -0.11",
          "NEE_Close <br>Volatility: 0.11 <br>Returns: 23.55% <br>Sharpe Ratio: 2.10",
          "EW_Close <br>Volatility: 0.23 <br>Returns: 22.60% <br>Sharpe Ratio: 0.97",
          "AEP_Close <br>Volatility: 0.11 <br>Returns: 15.15% <br>Sharpe Ratio: 1.42",
          "CRM_Close <br>Volatility: 0.16 <br>Returns: 25.48% <br>Sharpe Ratio: 1.63",
          "HON_Close <br>Volatility: 0.10 <br>Returns: 25.07% <br>Sharpe Ratio: 2.47",
          "CAT_Close <br>Volatility: 0.20 <br>Returns: 64.11% <br>Sharpe Ratio: 3.25",
          "NKE_Close <br>Volatility: 0.23 <br>Returns: 10.70% <br>Sharpe Ratio: 0.47",
          "AAPL_Close <br>Volatility: 0.18 <br>Returns: 25.04% <br>Sharpe Ratio: 1.42",
          "GS_Close <br>Volatility: 0.20 <br>Returns: 2.94% <br>Sharpe Ratio: 0.15",
          "ADBE_Close <br>Volatility: 0.23 <br>Returns: 45.54% <br>Sharpe Ratio: 2.00",
          "AMZN_Close <br>Volatility: 0.21 <br>Returns: 38.44% <br>Sharpe Ratio: 1.81",
          "WMT_Close <br>Volatility: 0.18 <br>Returns: 43.06% <br>Sharpe Ratio: 2.37",
          "DUK_Close <br>Volatility: 0.09 <br>Returns: 6.18% <br>Sharpe Ratio: 0.66",
          "DIS_Close <br>Volatility: 0.16 <br>Returns: -1.54% <br>Sharpe Ratio: -0.10",
          "MDT_Close <br>Volatility: 0.15 <br>Returns: 0.82% <br>Sharpe Ratio: 0.05",
          "TSLA_Close <br>Volatility: 0.36 <br>Returns: 26.10% <br>Sharpe Ratio: 0.73",
          "SYY_Close <br>Volatility: 0.16 <br>Returns: 19.12% <br>Sharpe Ratio: 1.19",
          "VRTX_Close <br>Volatility: 0.38 <br>Returns: 61.33% <br>Sharpe Ratio: 1.59",
          "GE_Close <br>Volatility: 0.21 <br>Returns: -62.75% <br>Sharpe Ratio: -2.95",
          "MRK_Close <br>Volatility: 0.15 <br>Returns: -15.66% <br>Sharpe Ratio: -1.04",
          "ETN_Close <br>Volatility: 0.16 <br>Returns: 13.76% <br>Sharpe Ratio: 0.89",
          "CVX_Close <br>Volatility: 0.14 <br>Returns: 15.44% <br>Sharpe Ratio: 1.09",
          "RTX_Close <br>Volatility: 0.14 <br>Returns: 16.98% <br>Sharpe Ratio: 1.24",
          "ZBH_Close <br>Volatility: 0.19 <br>Returns: 3.62% <br>Sharpe Ratio: 0.19",
          "MMM_Close <br>Volatility: 0.13 <br>Returns: 27.77% <br>Sharpe Ratio: 2.12",
          "BABA_Close <br>Volatility: 0.27 <br>Returns: 61.61% <br>Sharpe Ratio: 2.30",
          "JPM_Close <br>Volatility: 0.16 <br>Returns: 19.92% <br>Sharpe Ratio: 1.28",
          "META_Close <br>Volatility: 0.17 <br>Returns: 30.58% <br>Sharpe Ratio: 1.77",
          "DE_Close <br>Volatility: 0.18 <br>Returns: 45.12% <br>Sharpe Ratio: 2.53",
          "ABBV_Close <br>Volatility: 0.18 <br>Returns: 54.05% <br>Sharpe Ratio: 3.03",
          "BMY_Close <br>Volatility: 0.18 <br>Returns: 11.41% <br>Sharpe Ratio: 0.63",
          "V_Close <br>Volatility: 0.13 <br>Returns: 30.98% <br>Sharpe Ratio: 2.47",
          "LLY_Close <br>Volatility: 0.15 <br>Returns: 4.51% <br>Sharpe Ratio: 0.31",
          "ACN_Close <br>Volatility: 0.13 <br>Returns: 27.35% <br>Sharpe Ratio: 2.06",
          "RMD_Close <br>Volatility: 0.20 <br>Returns: 20.34% <br>Sharpe Ratio: 1.01",
          "REGN_Close <br>Volatility: 0.28 <br>Returns: 0.03% <br>Sharpe Ratio: 0.00",
          "EXC_Close <br>Volatility: 0.13 <br>Returns: 12.63% <br>Sharpe Ratio: 0.96",
          "MS_Close <br>Volatility: 0.20 <br>Returns: 16.83% <br>Sharpe Ratio: 0.86",
          "F_Close <br>Volatility: 0.17 <br>Returns: 3.00% <br>Sharpe Ratio: 0.18",
          "GM_Close <br>Volatility: 0.19 <br>Returns: 14.71% <br>Sharpe Ratio: 0.78",
          "MCD_Close <br>Volatility: 0.14 <br>Returns: 37.50% <br>Sharpe Ratio: 2.75",
          "JNJ_Close <br>Volatility: 0.11 <br>Returns: 16.97% <br>Sharpe Ratio: 1.49",
          "BIIB_Close <br>Volatility: 0.23 <br>Returns: 9.80% <br>Sharpe Ratio: 0.43",
          "HD_Close <br>Volatility: 0.14 <br>Returns: 32.45% <br>Sharpe Ratio: 2.40",
          "COST_Close <br>Volatility: 0.20 <br>Returns: 11.21% <br>Sharpe Ratio: 0.56",
          "MO_Close <br>Volatility: 0.18 <br>Returns: -2.75% <br>Sharpe Ratio: -0.15",
          "SYK_Close <br>Volatility: 0.16 <br>Returns: 21.73% <br>Sharpe Ratio: 1.40",
          "BAC_Close <br>Volatility: 0.21 <br>Returns: 20.36% <br>Sharpe Ratio: 0.97",
          "NVDA_Close <br>Volatility: 0.39 <br>Returns: 80.73% <br>Sharpe Ratio: 2.05",
          "T_Close <br>Volatility: 0.18 <br>Returns: -3.53% <br>Sharpe Ratio: -0.20",
          "IBM_Close <br>Volatility: 0.16 <br>Returns: -15.90% <br>Sharpe Ratio: -1.01",
          "QCOM_Close <br>Volatility: 0.24 <br>Returns: 18.78% <br>Sharpe Ratio: 0.79",
          "PYPL_Close <br>Volatility: 0.23 <br>Returns: 65.17% <br>Sharpe Ratio: 2.82",
          "PG_Close <br>Volatility: 0.10 <br>Returns: 4.02% <br>Sharpe Ratio: 0.41",
          "UNH_Close <br>Volatility: 0.14 <br>Returns: 34.90% <br>Sharpe Ratio: 2.48",
          "K_Close <br>Volatility: 0.18 <br>Returns: -9.01% <br>Sharpe Ratio: -0.50",
          "LMT_Close <br>Volatility: 0.11 <br>Returns: 24.36% <br>Sharpe Ratio: 2.21",
          "PM_Close <br>Volatility: 0.14 <br>Returns: -0.16% <br>Sharpe Ratio: -0.01",
          "CPB_Close <br>Volatility: 0.24 <br>Returns: -23.67% <br>Sharpe Ratio: -0.98",
          "SAP_Close <br>Volatility: 0.14 <br>Returns: 22.38% <br>Sharpe Ratio: 1.63",
          "GILD_Close <br>Volatility: 0.19 <br>Returns: 5.32% <br>Sharpe Ratio: 0.28",
          "GIS_Close <br>Volatility: 0.17 <br>Returns: -0.03% <br>Sharpe Ratio: -0.00",
          "VZ_Close <br>Volatility: 0.17 <br>Returns: 11.30% <br>Sharpe Ratio: 0.67",
          "TXN_Close <br>Volatility: 0.16 <br>Returns: 37.14% <br>Sharpe Ratio: 2.30"
         ],
         "marker": {
          "color": {
           "bdata": "/aPmy8Fv7z8WAQvjRdT0PwIY/5aFawBAHlBl+dJTC0DDoudtw03vv/Q1oos7N/o/EiMVS4l9A0AzYOruLK+Vv7C16yOGKfU/LSM/frDdnz/57GbWpzftv5C8COr+euC/Xjiu0Srv8z8l++H8oVXrPzPSduoJWvU/Oajyc/+z4j/hc6Uog9/jv8bi47gMhvg/sewETCJR1L9SqeO57ufXP2EasDOJZq6/HtR3b4dT2D/QzrfUfrrdPw1tuw8WmeY/5kbHogjM+z84gocBFlsDQDT+OyRn0ARAzcbn2Zly5j8LkOSzz7r9P4Qqk5mRHru/gItpPOjNAEAZUySkSiHvPy1GH9vzx/Y/0BJhWKsl+j8DCVBe6bsDQJa6hNWEAApAIj7MhylV3j+CBYetOcP2P65FVq9JNMM/nOtwmfL7/z9zvEGzDAT9P9ueriSp+QJAB1pzuvH15D9awDqumOm4v44kh6/3s6s/ZVri37VK5z+oH8gl7PbyP5HzG1bhg/k/WaIwuPmSB8B+2Pmvtpnwv2sqP/U+Wew/O6LymUZ88T+GlwBbv+jzP9RwID6k1cc/Ifg+munxAEBXfTBd5m8CQPPygwwjafQ/jR4LZm9W/D+HusIl5TYEQDDag5EcNQhAGmTgrug95D9OHdywz8MDQLlS5jxirtM/tWYk0tx3AEALcvPrYjbwP585PQIphlI/ZS0b4jy87j95Nr1zk3PrP3QGRstZEsc/+Gg2qFbb6D/2wBqGbvsFQHovreu0wvc/aPGRTEqK2z+O43VUkDoDQNVBbKfGCuI/WDVZyPnBw7/pKgsG+Fz2P0KX3wRuHu8/Rfa89Z5nAEDSg7SjWsTJvxwVAupEJvC/gyynOCcp6T8xcqbNiIgGQJyJLwA2Q9o/M1O7hGbNA0CcSRImSb7fv4lgpigMpQFAxCmK/xwmiL+D+mXjDX/vv+pz+CpjDfo/o55Va0/50T+LNXDSN1tcv3YEZxewXOU/6+4gv9xmAkA=",
           "dtype": "f8"
          },
          "colorbar": {
           "title": {
            "text": "Sharpe<br>Ratio"
           }
          },
          "colorscale": [
           [
            0,
            "rgb(103,0,31)"
           ],
           [
            0.1,
            "rgb(178,24,43)"
           ],
           [
            0.2,
            "rgb(214,96,77)"
           ],
           [
            0.3,
            "rgb(244,165,130)"
           ],
           [
            0.4,
            "rgb(253,219,199)"
           ],
           [
            0.5,
            "rgb(247,247,247)"
           ],
           [
            0.6,
            "rgb(209,229,240)"
           ],
           [
            0.7,
            "rgb(146,197,222)"
           ],
           [
            0.8,
            "rgb(67,147,195)"
           ],
           [
            0.9,
            "rgb(33,102,172)"
           ],
           [
            1,
            "rgb(5,48,97)"
           ]
          ],
          "line": {
           "width": 1
          },
          "size": 6
         },
         "mode": "markers",
         "type": "scatter",
         "x": {
          "bdata": "Y9liAfz9xD8TmrcHFgi5P4oCRJW74ME/33ZjfZFPxj9KaSCc0ELkPz2LByr6IMQ/XnJoD/d5yD/z7awJ5XXFP+HGjiSg28Q/neN3DQwfwT+pl1q7obLdP2giojqWVtM/+tTyLYTSxD8Eti9jw5+7PwXaUBXoW9I/F8mdbTltyD99ZuvUc6fiPz42gJyyG7Y/CWNI2ak11z9x/8qd2Za6P9pf1IFY0sU/XODkmJjVxT9HyViEYFDKP29CEF0Mb8A/1kKOOrFqxD8RmPg44WzDP1bHE8LzcsI/wvjOmCT3xz/+z+SD73nGP8Nl+cDha74/vJ2osYOyvD9+oQJPZ73NP82o4py+PLs/IxF5afP1wz++zQky0QO6P4PJIncWP8k/3b0hhHTizD8z/knqV4jGP802URgRH8k/0vo+au8ozT+YOtANKSLLP7pfOYSKPMc/DS/i9GQruD801KA38jzEP6R35TB7acM/ISwVRQb01j+K6IkJM6fEPw5EhZd2ndg/d9kLMTZCyz+s0WDORlLDPzR3i83Y4sM/DZW6vsAWwj9adPrrlHfBP+3JWPda3cg/nKSL5nbIwD8EnJ7h9hvRP7lFh1Dm/MM/y8vrrn0axj+n7DXd9drGP1Kf+jgr3cY/cPD1nfYWxz87z1esMg3AP4wNEntWycI/lIeYFQgBwT/uH2UV1bLJPwlw2CSGEtI/lbxOaYzTwD+naTkd+xzJP8nvVtcfR8U/aukq87c7yD8kt4OCoXfBPymzit5LQL0/napnQMolzT+oYmMPdEjBP2uHaieZcck/CWBNh8vFxj/dqPY47ebDP4dKo/yAzMo/Z+Yw944y2T9k35/3/WrGPygSU5x2K8Q/MtjxOkmRzj/Mi/6xkp3NP/X0I/htGLk/c1Tb354Mwj9by6dusD7HP7J1rEtHRrw/ik9RE+PhwT9JA6eUCMfOP09T4SyTl8E/zMGo5mRAyD9QsAfI0TvGP7aaRlGFqsU/8wgcCR6rxD8=",
          "dtype": "f8"
         },
         "y": {
          "bdata": "lv0WRVyfxD80Wc8BGkvAPzlpicDfWNI/PLQ1O5QN4z9Wi/SZ9tHjvyDjwGSJfdA/juejQ+DQ3T+DsnZashVtv/v5idhjlss/9nmXhrAMcT/MRfpaiR3bv8j9jo0+68O/JEp6Rj3xyT8n+ssQuZi3PycKLfbwf9g/EJySi6yNvD9pAadVcCvXv20wb7ti8cA/hXPFu8V4vb90w7y4I92jP5YunwMfu4S/Tqui3zCZsD+9aFn0MnK4P0TkCY/tNbc/5efENTO80T+kOyxs4X/XPx69PAH+/9c/GCxH1LzPwD9o+dWyt+HUP3kBTgkWyIm/vSnNcdMjzj+iYZ/FbO7MPwVEBV30Y8M/L/iRCFVP0D8st6k8CAvQPyWUfQ2rg+Q/NJwXPixhuz9aWdvlMwfQP1W3ePX8Jp4/JJM7Fj4l3T8ip3Q+ZJrYP/EtJ6Wvjts/U+BH08Oprz8wfxn644KPv9PWBDsszoA/YlcBRfu00D+Gk2Pu1HrIPwnvQpl2oOM/OB2cwskU5L9cV90v5gvEv0zPwb7zncE/fYkD8qzEwz8pn3GuF7zFPw+B/mUahaI/yz6LbjfG0T8S/DIUHrfjP+Th81R3f8k/moE0HeKS0z/KbR2mHeDcP5mJ0CPTS+E/hiQDmws2vT86SmpiHdTTP+L5UpfXG6c/iog8b2qA0T8fFeCGLwrKP5lJ515g7DQ/2B4wf04pwD8Uqg+/J4vFPw/cUzOlrp4/QXQpSeTSwj+m0dlZgf/XP5oZArUxuMU/bZuvS9kVuT/aEE5eTMXUP7iYFTTvsLw/SckSG/cenL+CIjyFKtHLP6k9u9CYD8o/RL3Lxb7V6T8DVps8JQ2iv422vLW0W8S/facP09AIyD9EbdYlsdrkP9mcO9mOmKQ/nOGYA7JW1j/1x21F9A63v0TOLvxVLs8/M7gvgW39Wr9qOKGVA0vOv1hToFkHpcw/Y4z7t00+qz8zp550uLMzv3seq+xR7bw/dtt70WHF1z8=",
          "dtype": "f8"
         }
        }
       ],
       "layout": {
        "template": {
         "data": {
          "bar": [
           {
            "error_x": {
             "color": "#2a3f5f"
            },
            "error_y": {
             "color": "#2a3f5f"
            },
            "marker": {
             "line": {
              "color": "#E5ECF6",
              "width": 0.5
             },
             "pattern": {
              "fillmode": "overlay",
              "size": 10,
              "solidity": 0.2
             }
            },
            "type": "bar"
           }
          ],
          "barpolar": [
           {
            "marker": {
             "line": {
              "color": "#E5ECF6",
              "width": 0.5
             },
             "pattern": {
              "fillmode": "overlay",
              "size": 10,
              "solidity": 0.2
             }
            },
            "type": "barpolar"
           }
          ],
          "carpet": [
           {
            "aaxis": {
             "endlinecolor": "#2a3f5f",
             "gridcolor": "white",
             "linecolor": "white",
             "minorgridcolor": "white",
             "startlinecolor": "#2a3f5f"
            },
            "baxis": {
             "endlinecolor": "#2a3f5f",
             "gridcolor": "white",
             "linecolor": "white",
             "minorgridcolor": "white",
             "startlinecolor": "#2a3f5f"
            },
            "type": "carpet"
           }
          ],
          "choropleth": [
           {
            "colorbar": {
             "outlinewidth": 0,
             "ticks": ""
            },
            "type": "choropleth"
           }
          ],
          "contour": [
           {
            "colorbar": {
             "outlinewidth": 0,
             "ticks": ""
            },
            "colorscale": [
             [
              0,
              "#0d0887"
             ],
             [
              0.1111111111111111,
              "#46039f"
             ],
             [
              0.2222222222222222,
              "#7201a8"
             ],
             [
              0.3333333333333333,
              "#9c179e"
             ],
             [
              0.4444444444444444,
              "#bd3786"
             ],
             [
              0.5555555555555556,
              "#d8576b"
             ],
             [
              0.6666666666666666,
              "#ed7953"
             ],
             [
              0.7777777777777778,
              "#fb9f3a"
             ],
             [
              0.8888888888888888,
              "#fdca26"
             ],
             [
              1,
              "#f0f921"
             ]
            ],
            "type": "contour"
           }
          ],
          "contourcarpet": [
           {
            "colorbar": {
             "outlinewidth": 0,
             "ticks": ""
            },
            "type": "contourcarpet"
           }
          ],
          "heatmap": [
           {
            "colorbar": {
             "outlinewidth": 0,
             "ticks": ""
            },
            "colorscale": [
             [
              0,
              "#0d0887"
             ],
             [
              0.1111111111111111,
              "#46039f"
             ],
             [
              0.2222222222222222,
              "#7201a8"
             ],
             [
              0.3333333333333333,
              "#9c179e"
             ],
             [
              0.4444444444444444,
              "#bd3786"
             ],
             [
              0.5555555555555556,
              "#d8576b"
             ],
             [
              0.6666666666666666,
              "#ed7953"
             ],
             [
              0.7777777777777778,
              "#fb9f3a"
             ],
             [
              0.8888888888888888,
              "#fdca26"
             ],
             [
              1,
              "#f0f921"
             ]
            ],
            "type": "heatmap"
           }
          ],
          "histogram": [
           {
            "marker": {
             "pattern": {
              "fillmode": "overlay",
              "size": 10,
              "solidity": 0.2
             }
            },
            "type": "histogram"
           }
          ],
          "histogram2d": [
           {
            "colorbar": {
             "outlinewidth": 0,
             "ticks": ""
            },
            "colorscale": [
             [
              0,
              "#0d0887"
             ],
             [
              0.1111111111111111,
              "#46039f"
             ],
             [
              0.2222222222222222,
              "#7201a8"
             ],
             [
              0.3333333333333333,
              "#9c179e"
             ],
             [
              0.4444444444444444,
              "#bd3786"
             ],
             [
              0.5555555555555556,
              "#d8576b"
             ],
             [
              0.6666666666666666,
              "#ed7953"
             ],
             [
              0.7777777777777778,
              "#fb9f3a"
             ],
             [
              0.8888888888888888,
              "#fdca26"
             ],
             [
              1,
              "#f0f921"
             ]
            ],
            "type": "histogram2d"
           }
          ],
          "histogram2dcontour": [
           {
            "colorbar": {
             "outlinewidth": 0,
             "ticks": ""
            },
            "colorscale": [
             [
              0,
              "#0d0887"
             ],
             [
              0.1111111111111111,
              "#46039f"
             ],
             [
              0.2222222222222222,
              "#7201a8"
             ],
             [
              0.3333333333333333,
              "#9c179e"
             ],
             [
              0.4444444444444444,
              "#bd3786"
             ],
             [
              0.5555555555555556,
              "#d8576b"
             ],
             [
              0.6666666666666666,
              "#ed7953"
             ],
             [
              0.7777777777777778,
              "#fb9f3a"
             ],
             [
              0.8888888888888888,
              "#fdca26"
             ],
             [
              1,
              "#f0f921"
             ]
            ],
            "type": "histogram2dcontour"
           }
          ],
          "mesh3d": [
           {
            "colorbar": {
             "outlinewidth": 0,
             "ticks": ""
            },
            "type": "mesh3d"
           }
          ],
          "parcoords": [
           {
            "line": {
             "colorbar": {
              "outlinewidth": 0,
              "ticks": ""
             }
            },
            "type": "parcoords"
           }
          ],
          "pie": [
           {
            "automargin": true,
            "type": "pie"
           }
          ],
          "scatter": [
           {
            "fillpattern": {
             "fillmode": "overlay",
             "size": 10,
             "solidity": 0.2
            },
            "type": "scatter"
           }
          ],
          "scatter3d": [
           {
            "line": {
             "colorbar": {
              "outlinewidth": 0,
              "ticks": ""
             }
            },
            "marker": {
             "colorbar": {
              "outlinewidth": 0,
              "ticks": ""
             }
            },
            "type": "scatter3d"
           }
          ],
          "scattercarpet": [
           {
            "marker": {
             "colorbar": {
              "outlinewidth": 0,
              "ticks": ""
             }
            },
            "type": "scattercarpet"
           }
          ],
          "scattergeo": [
           {
            "marker": {
             "colorbar": {
              "outlinewidth": 0,
              "ticks": ""
             }
            },
            "type": "scattergeo"
           }
          ],
          "scattergl": [
           {
            "marker": {
             "colorbar": {
              "outlinewidth": 0,
              "ticks": ""
             }
            },
            "type": "scattergl"
           }
          ],
          "scattermap": [
           {
            "marker": {
             "colorbar": {
              "outlinewidth": 0,
              "ticks": ""
             }
            },
            "type": "scattermap"
           }
          ],
          "scattermapbox": [
           {
            "marker": {
             "colorbar": {
              "outlinewidth": 0,
              "ticks": ""
             }
            },
            "type": "scattermapbox"
           }
          ],
          "scatterpolar": [
           {
            "marker": {
             "colorbar": {
              "outlinewidth": 0,
              "ticks": ""
             }
            },
            "type": "scatterpolar"
           }
          ],
          "scatterpolargl": [
           {
            "marker": {
             "colorbar": {
              "outlinewidth": 0,
              "ticks": ""
             }
            },
            "type": "scatterpolargl"
           }
          ],
          "scatterternary": [
           {
            "marker": {
             "colorbar": {
              "outlinewidth": 0,
              "ticks": ""
             }
            },
            "type": "scatterternary"
           }
          ],
          "surface": [
           {
            "colorbar": {
             "outlinewidth": 0,
             "ticks": ""
            },
            "colorscale": [
             [
              0,
              "#0d0887"
             ],
             [
              0.1111111111111111,
              "#46039f"
             ],
             [
              0.2222222222222222,
              "#7201a8"
             ],
             [
              0.3333333333333333,
              "#9c179e"
             ],
             [
              0.4444444444444444,
              "#bd3786"
             ],
             [
              0.5555555555555556,
              "#d8576b"
             ],
             [
              0.6666666666666666,
              "#ed7953"
             ],
             [
              0.7777777777777778,
              "#fb9f3a"
             ],
             [
              0.8888888888888888,
              "#fdca26"
             ],
             [
              1,
              "#f0f921"
             ]
            ],
            "type": "surface"
           }
          ],
          "table": [
           {
            "cells": {
             "fill": {
              "color": "#EBF0F8"
             },
             "line": {
              "color": "white"
             }
            },
            "header": {
             "fill": {
              "color": "#C8D4E3"
             },
             "line": {
              "color": "white"
             }
            },
            "type": "table"
           }
          ]
         },
         "layout": {
          "annotationdefaults": {
           "arrowcolor": "#2a3f5f",
           "arrowhead": 0,
           "arrowwidth": 1
          },
          "autotypenumbers": "strict",
          "coloraxis": {
           "colorbar": {
            "outlinewidth": 0,
            "ticks": ""
           }
          },
          "colorscale": {
           "diverging": [
            [
             0,
             "#8e0152"
            ],
            [
             0.1,
             "#c51b7d"
            ],
            [
             0.2,
             "#de77ae"
            ],
            [
             0.3,
             "#f1b6da"
            ],
            [
             0.4,
             "#fde0ef"
            ],
            [
             0.5,
             "#f7f7f7"
            ],
            [
             0.6,
             "#e6f5d0"
            ],
            [
             0.7,
             "#b8e186"
            ],
            [
             0.8,
             "#7fbc41"
            ],
            [
             0.9,
             "#4d9221"
            ],
            [
             1,
             "#276419"
            ]
           ],
           "sequential": [
            [
             0,
             "#0d0887"
            ],
            [
             0.1111111111111111,
             "#46039f"
            ],
            [
             0.2222222222222222,
             "#7201a8"
            ],
            [
             0.3333333333333333,
             "#9c179e"
            ],
            [
             0.4444444444444444,
             "#bd3786"
            ],
            [
             0.5555555555555556,
             "#d8576b"
            ],
            [
             0.6666666666666666,
             "#ed7953"
            ],
            [
             0.7777777777777778,
             "#fb9f3a"
            ],
            [
             0.8888888888888888,
             "#fdca26"
            ],
            [
             1,
             "#f0f921"
            ]
           ],
           "sequentialminus": [
            [
             0,
             "#0d0887"
            ],
            [
             0.1111111111111111,
             "#46039f"
            ],
            [
             0.2222222222222222,
             "#7201a8"
            ],
            [
             0.3333333333333333,
             "#9c179e"
            ],
            [
             0.4444444444444444,
             "#bd3786"
            ],
            [
             0.5555555555555556,
             "#d8576b"
            ],
            [
             0.6666666666666666,
             "#ed7953"
            ],
            [
             0.7777777777777778,
             "#fb9f3a"
            ],
            [
             0.8888888888888888,
             "#fdca26"
            ],
            [
             1,
             "#f0f921"
            ]
           ]
          },
          "colorway": [
           "#636efa",
           "#EF553B",
           "#00cc96",
           "#ab63fa",
           "#FFA15A",
           "#19d3f3",
           "#FF6692",
           "#B6E880",
           "#FF97FF",
           "#FECB52"
          ],
          "font": {
           "color": "#2a3f5f"
          },
          "geo": {
           "bgcolor": "white",
           "lakecolor": "white",
           "landcolor": "#E5ECF6",
           "showlakes": true,
           "showland": true,
           "subunitcolor": "white"
          },
          "hoverlabel": {
           "align": "left"
          },
          "hovermode": "closest",
          "mapbox": {
           "style": "light"
          },
          "paper_bgcolor": "white",
          "plot_bgcolor": "#E5ECF6",
          "polar": {
           "angularaxis": {
            "gridcolor": "white",
            "linecolor": "white",
            "ticks": ""
           },
           "bgcolor": "#E5ECF6",
           "radialaxis": {
            "gridcolor": "white",
            "linecolor": "white",
            "ticks": ""
           }
          },
          "scene": {
           "xaxis": {
            "backgroundcolor": "#E5ECF6",
            "gridcolor": "white",
            "gridwidth": 2,
            "linecolor": "white",
            "showbackground": true,
            "ticks": "",
            "zerolinecolor": "white"
           },
           "yaxis": {
            "backgroundcolor": "#E5ECF6",
            "gridcolor": "white",
            "gridwidth": 2,
            "linecolor": "white",
            "showbackground": true,
            "ticks": "",
            "zerolinecolor": "white"
           },
           "zaxis": {
            "backgroundcolor": "#E5ECF6",
            "gridcolor": "white",
            "gridwidth": 2,
            "linecolor": "white",
            "showbackground": true,
            "ticks": "",
            "zerolinecolor": "white"
           }
          },
          "shapedefaults": {
           "line": {
            "color": "#2a3f5f"
           }
          },
          "ternary": {
           "aaxis": {
            "gridcolor": "white",
            "linecolor": "white",
            "ticks": ""
           },
           "baxis": {
            "gridcolor": "white",
            "linecolor": "white",
            "ticks": ""
           },
           "bgcolor": "#E5ECF6",
           "caxis": {
            "gridcolor": "white",
            "linecolor": "white",
            "ticks": ""
           }
          },
          "title": {
           "x": 0.05
          },
          "xaxis": {
           "automargin": true,
           "gridcolor": "white",
           "linecolor": "white",
           "ticks": "",
           "title": {
            "standoff": 15
           },
           "zerolinecolor": "white",
           "zerolinewidth": 2
          },
          "yaxis": {
           "automargin": true,
           "gridcolor": "white",
           "linecolor": "white",
           "ticks": "",
           "title": {
            "standoff": 15
           },
           "zerolinecolor": "white",
           "zerolinewidth": 2
          }
         }
        },
        "title": {
         "text": "Markowitz Mean Varience Model"
        },
        "xaxis": {
         "title": {
          "text": "Volatility (Standard Deviation)"
         }
        },
        "yaxis": {
         "title": {
          "text": "Annualized Returns"
         }
        }
       }
      }
     },
     "metadata": {},
     "output_type": "display_data"
    }
   ],
   "source": [
    "hover_texts = [\n",
    "    f\"{ticker} <br>Volatility: {vol:.2f} <br>Returns: {ret:.2%} <br>Sharpe Ratio: {sr:.2f}\"\n",
    "    for ticker, vol, ret, sr in zip(names, volatility, annualized_returns, sharpe_ratios)\n",
    "]\n",
    "\n",
    "fig = go.Figure(data=go.Scatter(\n",
    "    x=volatility, \n",
    "    y=annualized_returns, \n",
    "    mode='markers',\n",
    "    hoverinfo='text',\n",
    "    hovertext=hover_texts,\n",
    "    marker=dict(color=sharpe_ratios, colorscale = 'RdBu', size=6, line=dict(width=1), colorbar=dict(title=\"Sharpe<br>Ratio\")\n",
    "    )\n",
    "))\n",
    "\n",
    "fig.update_layout(\n",
    "    title='Markowitz Mean Varience Model',\n",
    "    xaxis_title='Volatility (Standard Deviation)',\n",
    "    yaxis_title='Annualized Returns',\n",
    ")\n",
    "\n",
    "fig.show()\n"
   ]
  },
  {
   "cell_type": "markdown",
   "metadata": {},
   "source": [
    "## 4.0 Monte Carlo Method"
   ]
  },
  {
   "cell_type": "code",
   "execution_count": 25,
   "metadata": {},
   "outputs": [
    {
     "name": "stderr",
     "output_type": "stream",
     "text": [
      "100%|██████████| 1000/1000 [00:02<00:00, 368.19it/s]\n"
     ]
    }
   ],
   "source": [
    "all_portfolios, dominant_portfolios = MonteCarloRBA(names, cov, annualized_returns, 1000)"
   ]
  },
  {
   "cell_type": "code",
   "execution_count": 26,
   "metadata": {},
   "outputs": [
    {
     "name": "stdout",
     "output_type": "stream",
     "text": [
      "80 1000\n"
     ]
    }
   ],
   "source": [
    "print (len(dominant_portfolios) ,len(all_portfolios))"
   ]
  },
  {
   "cell_type": "code",
   "execution_count": 27,
   "metadata": {},
   "outputs": [
    {
     "data": {
      "application/vnd.plotly.v1+json": {
       "config": {
        "plotlyServerURL": "https://plot.ly"
       },
       "data": [
        {
         "hoverinfo": "text",
         "marker": {
          "color": [
           2.7125621207362216,
           3.1550465418364793,
           2.006017110922696,
           3.3469052746592824,
           1.909737361833269,
           1.3344821127658395,
           2.9256388441257255,
           1.7393654012881223,
           2.0974400068554044,
           1.3281965852454543,
           2.619038265628795,
           4.090626695317115,
           2.4072390048901773,
           3.48561255175459,
           2.3410376845253547,
           3.411697950904342,
           1.512837407388548,
           2.6009684369143904,
           3.0923989792219713,
           0.9823922140541296,
           0.5728990525793043,
           1.3752841072555646,
           1.2050200358303305,
           3.37402232153859,
           1.5251279468607433,
           1.7013176518981619,
           1.3884599117102026,
           2.747769401256046,
           4.17093009879747,
           2.2561677267382922,
           3.0772068625888243,
           2.636268510605496,
           3.1817782575579145,
           2.7429348340961544,
           2.1862533973342675,
           2.486851803421784,
           2.6089445220764023,
           2.3122592809466607,
           2.1132110952049006,
           2.8821321951341528,
           1.3435713434799796,
           3.129023253092075,
           2.122259334971228,
           3.8854154236594756,
           2.7359771918680127,
           3.111314102645221,
           2.523736891525646,
           3.003286663162385,
           3.2453701403037685,
           3.17100202780409,
           3.002295260211923,
           2.816667181627303,
           2.778191042355201,
           2.2215879847010664,
           3.8816684621363935,
           2.651949319079545,
           2.5088501992370347,
           2.989077385732787,
           1.62726187435501,
           1.5641254699154028,
           3.439003898825414,
           3.3552956092686466,
           2.164998805616993,
           2.546268785349995,
           3.4002187921204734,
           3.261469090422999,
           2.4252697586669516,
           2.72102176482597,
           1.7678424299621787,
           2.1952658269959566,
           2.395369059447248,
           1.5796207698303757,
           2.2848777961577147,
           1.7523130352879903,
           2.6111726619820335,
           2.036802686093773,
           3.6146868222513207,
           2.036319183481445,
           2.64097377718821,
           1.71083612243648,
           2.24172267566647,
           2.0607238664412337,
           3.088338872421794,
           3.480866439610705,
           1.918863925108588,
           3.279945881564938,
           1.6524126363591098,
           1.5216989609129727,
           3.062602826033431,
           3.609131037368351,
           1.0763924655022918,
           1.4777533644789766,
           0.474049291601516,
           2.4747273459420027,
           2.95751574121404,
           1.4641408137601155,
           -0.011791445301487687,
           3.373526825476757,
           2.9080574256669562,
           1.3307522348251726,
           2.2830050772613273,
           2.4419127511766576,
           3.90717338240073,
           3.2900661650322705,
           2.5625182291001463,
           1.3268476906265854,
           2.518850489687933,
           2.4493658423113405,
           3.4797186442094246,
           1.5062826787646593,
           2.63652848827348,
           2.434161440956681,
           1.0928407682023493,
           1.8540834575246268,
           3.1948214822408523,
           2.607832966933854,
           2.366671133539263,
           3.8340428232996615,
           2.4432839132136923,
           2.9435063970576496,
           2.1788360958567057,
           2.421544534558955,
           3.16375424113811,
           2.6871372907321316,
           3.808682674890837,
           2.3002257282185963,
           2.8721242326112146,
           2.316210487113758,
           2.5397002436111946,
           1.0646883810733196,
           2.843192702088571,
           3.5610771086086386,
           2.804237992966792,
           2.526804251675745,
           2.1173298834706924,
           1.8367809653775127,
           2.736326150003548,
           3.185169515203762,
           2.6458440115211057,
           1.1123664462650513,
           2.8401675374349273,
           2.087226233855066,
           3.4444179543839093,
           3.0024957203174503,
           2.551247889387127,
           2.3046386032507757,
           2.9316838051850778,
           1.334482112765852,
           2.4898177698199886,
           3.4710008993708676,
           1.7551287519530956,
           1.9420189162306944,
           2.6326061579935005,
           1.8166304182750674,
           2.347405567251727,
           3.8191998816041557,
           2.1445806751191907,
           2.7142832049098966,
           1.8718648120240524,
           3.0631693919977043,
           2.9886469022934756,
           2.718604613806748,
           2.75413711902944,
           1.753939885874231,
           1.6524126341936909,
           2.778403897046659,
           2.2267952103915647,
           2.582498144445674,
           3.1707351607501733,
           2.4851103577571676,
           1.5555206952739475,
           2.213916983480433,
           2.585394838682719,
           2.347360085151354,
           2.5555953789406347,
           2.175865226352607,
           2.7960249805020982,
           1.3298207227742054,
           2.629387156364369,
           3.1958639347889877,
           2.864957423010255,
           3.550500214888646,
           1.6623655366669337,
           3.325139604528291,
           2.199236406306814,
           2.034106022586403,
           2.659128417847574,
           2.8353145177293033,
           2.9705774039998203,
           3.0186539217588297,
           2.548021832011347,
           2.1446595759946887,
           2.8734477643262135,
           1.0928407682022658,
           2.7581851772394934,
           2.7041381144752097,
           3.2756002708701137,
           2.034826910667159,
           1.0132779328188257,
           3.419371431977313,
           1.246502234303912,
           1.5147485904261497,
           3.351698756593126,
           1.7013176713266858,
           3.275230924571099,
           2.3320894260893974,
           2.453387214738239,
           1.4898051906828684,
           3.5253278170465956,
           3.9193074372958883,
           2.25655850316298,
           2.5075999340589625,
           2.864729341336657,
           3.495238615319266,
           1.5583447839805882,
           3.827727104798781,
           3.476190855901391,
           1.10557885537889,
           2.245460768067542,
           2.7312071277001584,
           2.8930138310902653,
           0.9908498470878859,
           2.683686325135839,
           2.862083101555365,
           2.789705342730307,
           3.903708914348838,
           2.43999769061164,
           3.1100758042908203,
           0.9823922140541292,
           3.7102793913824152,
           3.090541835692976,
           4.022441922329986,
           2.640708434338827,
           3.4462701896004244,
           2.1180654334744164,
           2.048354984663449,
           2.516959012831196,
           3.320821230832565,
           3.1977913171949774,
           1.685493067101655,
           3.3479192164624307,
           2.1709570416761133,
           3.972525961323767,
           1.9139566218957347,
           2.9359142039180375,
           3.453848089112388,
           2.1320453565584923,
           4.410739533526465,
           1.8311384999140368,
           2.8235252501902157,
           3.390582345460769,
           1.8038537175162,
           1.6813311451055437,
           2.874598802508109,
           2.366378782963455,
           2.7477694012560323,
           2.258366366301253,
           1.8716728778966987,
           2.545879049126004,
           2.123656379565152,
           2.668035710735789,
           2.1440408747606727,
           0.94504858110897,
           3.2444613103057445,
           2.6690049178424444,
           1.3526653664555697,
           2.102704511639509,
           2.9877052241268234,
           2.616551970096349,
           3.1505159989088294,
           2.0466514310496255,
           3.6744116799132827,
           1.2465026018907293,
           3.4159297451060535,
           2.108452325132315,
           3.12039960732937,
           2.595768422685455,
           0.8747091741201594,
           2.862075648247066,
           1.594697319377904,
           2.419626847604025,
           1.865315177828601,
           1.97609182651812,
           1.8191864270948812,
           3.33549790086298,
           1.8458609919360298,
           2.4094331462547887,
           3.1275295263377063,
           3.1876719127946336,
           1.4237554673475599,
           2.4005462153221204,
           2.70206549637149,
           2.464017560485428,
           3.0491833596609887,
           1.161276606641899,
           2.371904646471973,
           3.7661193540219178,
           1.7739317379269273,
           1.9270601976504993,
           2.4706109826253515,
           3.5650596401126733,
           2.179450843609187,
           1.5759913787455782,
           3.0259333961833117,
           1.4516802034442793,
           2.1201469132111064,
           4.548058812068215,
           2.67921923910353,
           0.8542032183693031,
           0.4303155658488067,
           3.0828901728806666,
           2.8010453041701617,
           2.431157957869699,
           2.527489598240753,
           2.984600694350027,
           3.087890754683695,
           3.2112473534921593,
           0.9906258076460276,
           2.547594142693778,
           3.453320373306849,
           3.8528529528493936,
           2.917495582800008,
           2.6294858009935305,
           3.193328575797427,
           1.5886908525001973,
           3.6292006218130934,
           2.8865740670793842,
           2.273006558127066,
           1.1620172070554775,
           3.7534887984923673,
           1.5327513390428535,
           3.2762741084697207,
           2.592853715172489,
           2.885011097565793,
           2.852565785150754,
           3.3940473392774058,
           2.4487450064907437,
           2.302385370843805,
           2.5234288410500976,
           2.6235577122380644,
           2.8892569752850257,
           1.9018172159548568,
           0.2016938489372694,
           2.8213817722189556,
           1.0247698194125652,
           3.744512846272,
           2.9481550721858287,
           3.4182751182870157,
           1.7437505575215908,
           1.9375181059971327,
           3.0676594965214092,
           2.7584205678659326,
           2.8558178977229023,
           2.5446267704590744,
           2.9890773858710107,
           1.430649237260378,
           2.2770616994118704,
           2.8205132666073833,
           1.918892831073976,
           1.4638303111803705,
           0.7767747197533754,
           2.2964245893713136,
           1.771102401323481,
           1.8035429729135946,
           4.183544373471155,
           2.5971390839206197,
           0.5678011208210086,
           2.986937289895615,
           1.829743756535562,
           3.7362111972598107,
           4.003972480251341,
           3.3626707342665645,
           2.581566666905011,
           1.87824783575276,
           0.5579225544147741,
           2.491424988865916,
           3.022338669732557,
           2.4183424230273216,
           1.8473590296999114,
           3.194333466783897,
           2.1244778261468524,
           1.475401133707345,
           2.4207414047828846,
           2.130206760742202,
           2.0914864815256,
           1.8375544030101016,
           2.530370434784031,
           3.349826166492639,
           3.77675379270553,
           2.0815511307658348,
           2.529519627858157,
           1.5958648680587668,
           2.9478990309938586,
           1.9967273211825303,
           2.7945054927074966,
           0.8858942785212609,
           2.9508539590843474,
           3.2157218586695455,
           3.831066877408402,
           3.9098239537754447,
           2.9535204666691213,
           2.4472361885317597,
           1.7604618366696425,
           3.7121714251304248,
           2.408909460331841,
           2.5748683873098357,
           2.951420364227843,
           2.7074257680805918,
           3.2099158719426226,
           1.1866358729820745,
           0.8401874748849409,
           1.4381755990690044,
           3.9273616854144384,
           2.4757068174724606,
           2.8005561345012824,
           2.048010558463397,
           3.2977737008140697,
           2.690372472862464,
           4.196539097686775,
           1.7713327183160572,
           4.322098544243805,
           2.884795451990517,
           2.425546621899943,
           3.7430494162942685,
           1.3194202207376853,
           1.461503124597941,
           2.5759230811832885,
           1.4672095700735694,
           3.6283833132601035,
           0.9528828719398947,
           3.249978077960153,
           2.868573667094348,
           2.6039986231793537,
           1.275668190849668,
           2.0626127399522156,
           2.8727850126732246,
           2.919526073359549,
           1.1576314266910097,
           2.4152838298366732,
           3.793307680290813,
           2.6410003028682154,
           2.6795737707230547,
           2.1013250375207813,
           1.839067007112088,
           0.807129152659222,
           2.4667537086651623,
           2.6836864199825254,
           2.4465767586308633,
           3.6182216438150574,
           2.0084059934698137,
           3.5837751813818683,
           3.8433420872217114,
           2.3444201375945397,
           2.603884557972629,
           3.067991447651067,
           1.7055050014723603,
           3.5392460947046263,
           0.28384903858540855,
           1.8230071706065443,
           1.765493107972315,
           3.911228191379306,
           2.8292495370286406,
           2.9105736606324726,
           1.9650907521870817,
           3.3600322210911364,
           0.30751853892407266,
           3.0057882346621945,
           1.7711023317405392,
           2.647140934271216,
           2.9303114886596857,
           2.854928347717467,
           2.5780151358178403,
           2.2329194528436207,
           2.0463819743009575,
           2.5587221611037774,
           1.5224989774881037,
           3.5183090191278104,
           3.27769131523418,
           2.6903724733156458,
           2.92552209755872,
           2.5453040630262684,
           2.1053098556886027,
           3.293613439351881,
           3.749684974796506,
           3.354829315191942,
           4.041565842328721,
           3.709505261326778,
           2.2713409963739775,
           2.129836082742002,
           1.2422536714960237,
           2.176020187358208,
           2.5268787686826504,
           2.3081263440095094,
           3.7985213966255458,
           3.30443973442857,
           2.65937014171666,
           3.557192560370478,
           3.85780402937755,
           3.0318177729633087,
           1.931525311127159,
           1.646096505603965,
           1.01057860178574,
           2.4546024651171363,
           2.058526651130558,
           1.6752802702557368,
           1.8415736420255342,
           2.763531054382867,
           2.2559915472265017,
           3.210538902942767,
           3.7911237320849067,
           3.5806173721272243,
           1.714627613234337,
           2.3680858330300736,
           2.332838445813719,
           3.5601497803557125,
           1.7496897404778735,
           1.7866326933173573,
           0.7086419550809646,
           2.0505961607257484,
           3.5898977431749954,
           2.7294287117549834,
           1.611605128953571,
           3.092688501057126,
           2.723713894665115,
           4.4070751579098095,
           1.3877929384140986,
           1.776278062426306,
           2.4489197321183913,
           4.1112865405144925,
           2.813357540408442,
           1.5786307111249533,
           2.9860129923034666,
           2.473553439035866,
           2.427580180575188,
           2.477985239298522,
           0.303349558448195,
           3.0842850618461446,
           2.0525008961294597,
           2.3414923183743,
           2.4685357283494973,
           0.41035223024441475,
           2.4205542783618124,
           2.9385949555373556,
           1.8211410997615247,
           2.430553782336975,
           2.799642945463549,
           4.041103237800086,
           3.1895102976332814,
           2.238454349232898,
           2.785803270219692,
           3.7294809258843915,
           2.527989427108729,
           2.4878070235693786,
           3.486430206098093,
           1.4850358205903533,
           1.6020768928546743,
           2.607116099335182,
           1.7785641803524221,
           2.3296241306198984,
           3.4758087732115004,
           3.277387254768905,
           2.546072058555236,
           2.2684076441896903,
           1.8942694826709643,
           3.1740929622735496,
           3.281592005076924,
           0.7086419550810569,
           0.9823922140541296,
           1.8352410940498551,
           3.135662704261998,
           3.0101920022805926,
           2.5469975721399787,
           3.675572575812433,
           3.3945115397686108,
           3.5014721663180626,
           1.4925174535913175,
           0.6942922980657582,
           1.8687427282197686,
           2.225653750391095,
           1.4004764515089068,
           2.628628199631656,
           2.7701656241155366,
           1.774910277822374,
           3.723691710948715,
           3.4705421109780303,
           2.3397699824086535,
           2.7860737414547447,
           2.058526651130558,
           2.790368273472993,
           1.3380278898067857,
           3.835446959271155,
           3.549823246065073,
           0.8677431077948853,
           3.8509272183940473,
           3.2288738437043136,
           2.5274894913112473,
           3.0418921020745957,
           2.488950304189448,
           1.8134886743753469,
           1.270067480457327,
           2.4723936808955944,
           2.2456710853676625,
           3.846921142986735,
           2.4802196009685153,
           2.5682770507734474,
           3.289354922546215,
           2.6665095254483857,
           2.499794423974145,
           0.9885554657372895,
           1.5361965668998456,
           2.7285515212128266,
           3.59761819301544,
           2.8767720757078292,
           1.514979851757003,
           3.3865854705952425,
           2.39573597504128,
           3.7278183598110064,
           3.3210533439191745,
           3.439173642919268,
           3.1749569629931664,
           1.9870199595862397,
           1.4637405714124296,
           3.164058935835705,
           1.1003191180717,
           2.6561018622894195,
           2.8207274635949995,
           2.2062668481137,
           4.548058812077494,
           2.650153145965652,
           2.6017592268761063,
           2.2186221704764586,
           2.4567025201587276,
           1.7947396495871295,
           3.944278302491306,
           3.043202234402288,
           3.415929745106054,
           1.1931717414059801,
           0.9823922140541292,
           2.2662012017334243,
           1.3226376917985867,
           3.1530099857320293,
           2.4111966876428568,
           0.7061872775330247,
           3.840756608579205,
           3.0647435653355255,
           2.1181213427035,
           2.932549343996245,
           3.4246411345775343,
           3.442217461299595,
           1.0132779328188253,
           2.950766302669023,
           1.2797732881709931,
           3.5329720870122356,
           2.389622184754093,
           3.866917769384189,
           3.3714904776259202,
           2.165865706132593,
           3.0087583224622665,
           1.9994493951123777,
           2.5736659278844463,
           2.3891932570714185,
           2.3867556079927867,
           3.0872694275546535,
           3.0171838070064725,
           3.7121712950008026,
           1.990246513554622,
           2.304946803925004,
           2.9212073842925608,
           1.7042406042978693,
           2.77318629988143,
           2.878453522558577,
           1.3658164321492487,
           2.6285186142901487,
           3.6239067311890425,
           2.0253900135678022,
           3.791602000319237,
           1.3004989157231073,
           2.8925771155216125,
           3.1147642871052974,
           1.366188663100131,
           2.2866642466894094,
           3.2470019488669872,
           2.8680735526543075,
           3.3156308229788016,
           2.4930483513596697,
           2.07595422508709,
           1.0705973066330992,
           3.326335280512365,
           2.820710792221414,
           3.4373402913858873,
           2.100206124682698,
           3.0312003701544485,
           3.077336345095072,
           2.436301934635138,
           2.3567913884643708,
           1.5476059568365639,
           2.1348246383838765,
           3.1061849522722014,
           2.616900291960126,
           2.587818893090979,
           2.199462702417597,
           3.106667110250216,
           2.930777528114383,
           0.48766375264910466,
           1.4581913092117362,
           3.0762216938228373,
           2.2232215041932797,
           3.0750660132278793,
           2.874808316111282,
           2.3719046464719717,
           2.5783215777784076,
           1.364787113690522,
           2.546776065512551,
           2.6107728861629576,
           3.3023725121205145,
           2.9997585608980537,
           1.8808592194214757,
           2.829682384555073,
           1.7551287514965606,
           1.5709386270017185,
           3.708025638220907,
           3.054695987938945,
           1.3917055007504928,
           2.6084737768793174,
           3.4365462651659384,
           3.0183429087593328,
           2.401181796125082,
           2.8037559118024515,
           1.234803046814468,
           2.403595599982913,
           1.631051046481503,
           3.689611178713379,
           3.496869060294343,
           2.9563711869488887,
           3.4605867625406717,
           1.4857174652303742,
           3.1378364656355355,
           3.9160986604021772,
           2.124477843844715,
           3.2203272801355896,
           3.3766861564223825,
           2.929422701629906,
           0.6325572410156416,
           2.2995247090820192,
           3.6447761264728644,
           4.187925717998745,
           3.767182220896353,
           0.7767747197533756,
           2.6110826629316546,
           2.304638603250774,
           3.6534758521717814,
           3.023303359362747,
           2.515989723517517,
           2.526804251675745,
           1.3838672359132698,
           2.2088963078133963,
           0.8838962155024395,
           3.4176836221585165,
           2.409659125085951,
           3.4700906123997584,
           2.410705006520173,
           0.8208310714236247,
           3.848626133606621,
           3.4032808093519726,
           2.622638886381832,
           3.1690157758200783,
           2.251153396493641,
           1.1300064032006742,
           3.2079919593053985,
           2.4565956245453884,
           3.4260606418914863,
           3.9492304704233683,
           2.629060615382646,
           3.492955191885898,
           3.6359328965729287,
           1.4293700128559437,
           2.603062042189981,
           2.2182016825642217,
           1.7029181802046207,
           2.1243228409886505,
           2.1110427584635967,
           3.7433507826843035,
           3.5376351255031104,
           3.84550061847328,
           2.079359843013762,
           3.107512074940262,
           0.9823922140541292,
           1.913241053751197,
           2.799195735288809,
           3.9442783553066807,
           3.496978220983392,
           3.8402361630827335,
           2.113411886354965,
           2.267607683528294,
           1.0172730045999043,
           2.7255785707614937,
           2.5727205461479743,
           2.4301150911227984,
           2.932506206962559,
           3.9502028164162306,
           1.8128321792766267,
           0.5522919228755765,
           4.316223748504229,
           2.7592029498940716,
           3.6935187139553336,
           3.7648680420103013,
           2.6100668850016544,
           1.7411664705739613,
           2.3038272078961546,
           1.8702977388295865,
           2.3959760008618822,
           2.1119306384649805,
           4.022007240378427,
           2.3829530801650973,
           2.133259352749964,
           2.903733194321254,
           1.0245857790418678,
           3.2579852751514906,
           3.1163049256682305,
           2.117267500740079,
           3.4985109031653026,
           3.5165989512903826,
           3.1466349634841215,
           0.9657175762846564,
           2.6234777174123347,
           2.9418239301101474,
           2.4194755668143237,
           2.6038506218595723,
           3.2014788536265786,
           2.991582257313048,
           4.12370335169887,
           2.329585505588651,
           2.6466700102848475,
           2.9760048181411944,
           1.823364491017532,
           1.5471571131076658,
           3.1825426048044667,
           2.593796612987625,
           1.9861953987510657,
           2.5922465728690383,
           3.2583384165174314,
           2.2761319998268217,
           2.7853082226839607,
           1.3226376917985867,
           2.0490117263517704,
           1.6384845213354966,
           1.9614412009093618,
           2.993623982080299,
           3.0077462254552523,
           0.5841706878677563,
           3.3467025303319407,
           2.4570167823819036,
           3.28822414103648,
           0.6909295672270838,
           3.279945881483788,
           1.9351832588952107,
           2.1660470914787777,
           0.46742408651203754,
           1.2570413445522886,
           0.9566763301869563,
           1.4920897332464094,
           2.0609809535076473,
           0.4103522302423592,
           3.479718603718058,
           3.4289369461362207,
           1.4095735895976071,
           1.8222971922733264,
           1.8619610709715353,
           2.468353139920938,
           3.1112610079759357,
           1.433649218036127,
           3.64610292114921,
           4.58284691535151,
           2.6833174525339447,
           2.213916985243436,
           2.7306967916879152,
           2.602409683127174,
           2.387114177736368,
           2.2139169587428253,
           1.5219173031246918,
           1.8253826086314822,
           2.749337301090675,
           2.892882434349257,
           3.4835897564340326,
           2.183413095237808,
           2.900740220921636,
           3.603496036893781,
           3.8561027835529815,
           3.5391848754569537,
           2.746732909795239,
           3.5511037940126253,
           2.962656008149661,
           0.9313130021168419,
           1.7923254540869855,
           2.4254937111810437,
           1.8463467133191969,
           2.1225905552561017,
           3.561858875307663,
           0.9662764758571171,
           2.6439098335106914,
           1.7374638106301556,
           1.985319023978899,
           1.4039751840115586,
           4.449915438363486,
           2.623557694294219,
           1.872585101736276,
           2.81666718162727,
           2.5889519564327244,
           3.147198928768148,
           1.2311349425780962,
           3.272357848370703,
           2.95137456740185,
           2.852565559562787,
           1.3226376917985867,
           3.250253360856115,
           2.5469975731437566,
           1.5352622360695776,
           2.616857915867082,
           1.932137635515126,
           3.6874658716423054,
           2.8112671036694126,
           1.5541127767189198,
           3.1956397340992297,
           1.8147834352592862,
           3.0237029511770173,
           2.665932510392973,
           3.0037462451107517,
           2.3745354019509044,
           2.3099033669186797,
           0.7536082110961659,
           1.850590440398643,
           2.802104804314601,
           1.3014222783200102,
           1.886052336139774,
           3.718407753528835,
           1.7892176634962051,
           1.0776231604280955,
           3.106536295091702,
           2.8473592425612018,
           2.201087390853072,
           2.6295129948313356,
           1.5582153695024645,
           3.9816188708415816,
           2.713975529989597,
           1.9597977238021675,
           3.1248310805721866,
           2.9890142183701887,
           3.0978758610254613,
           3.3973300174003485,
           4.296053113953713,
           3.1285701067753697,
           2.547056583978923,
           1.8134886743753447,
           2.4494190366854496,
           3.295730468536315,
           2.6195495698106797,
           2.8276649269213854,
           1.7053847468484018,
           2.795297832235582,
           2.227769230280655,
           2.624644938366494,
           2.7757895351007384,
           1.8413798908645478,
           2.4083846646312383,
           2.6033950699972674,
           2.7641721418796483,
           3.616266321827905,
           2.609058011324053,
           2.6820645505667553,
           3.3416237728580844,
           1.452706816173115,
           3.2554971479483417,
           2.547934905451321,
           3.2528201764544535,
           1.820805106190744,
           1.0379217679614368,
           2.199218283244822,
           1.4709897971045462,
           2.487541028804146,
           2.399343672030448,
           2.7324506697315867,
           3.3674190112794697,
           1.9259979009947104,
           2.953283269458195,
           2.91782499815163,
           4.024075989920228,
           2.0257801401832465,
           3.355295581922225,
           3.2943160283962856,
           2.3751589032586815,
           2.789036248269301,
           3.9200609232674677,
           2.3581869201544063,
           3.374212654342206,
           2.694552983002841,
           1.2853772974112139,
           2.6970422596193764,
           3.52142477857378,
           2.823852265146479,
           3.702733143877806
          ],
          "colorbar": {
           "title": {
            "text": "Sharpe<br>Ratio"
           }
          },
          "colorscale": [
           [
            0,
            "rgb(103,0,31)"
           ],
           [
            0.1,
            "rgb(178,24,43)"
           ],
           [
            0.2,
            "rgb(214,96,77)"
           ],
           [
            0.3,
            "rgb(244,165,130)"
           ],
           [
            0.4,
            "rgb(253,219,199)"
           ],
           [
            0.5,
            "rgb(247,247,247)"
           ],
           [
            0.6,
            "rgb(209,229,240)"
           ],
           [
            0.7,
            "rgb(146,197,222)"
           ],
           [
            0.8,
            "rgb(67,147,195)"
           ],
           [
            0.9,
            "rgb(33,102,172)"
           ],
           [
            1,
            "rgb(5,48,97)"
           ]
          ],
          "line": {
           "width": 1
          },
          "showscale": true,
          "size": 7
         },
         "mode": "markers",
         "text": [
          "Return: 33.96%<br>Volatility: 0.13<br>EMR_Close: Weight=0.32<br>WMT_Close: Weight=0.60<br>BAC_Close: Weight=0.08<br>CPB_Close: Weight=0.00",
          "Return: 43.40%<br>Volatility: 0.14<br>LLY_Close: Weight=0.00<br>RTX_Close: Weight=0.29<br>SO_Close: Weight=0.00<br>ABBV_Close: Weight=0.71<br>SNAP_Close: Weight=0.00",
          "Return: 22.30%<br>Volatility: 0.11<br>GM_Close: Weight=0.17<br>SAP_Close: Weight=0.44<br>BTI_Close: Weight=0.00<br>CRM_Close: Weight=0.39<br>AMD_Close: Weight=0.00",
          "Return: 36.02%<br>Volatility: 0.11<br>ADBE_Close: Weight=0.15<br>RDY_Close: Weight=0.00<br>UNH_Close: Weight=0.48<br>TXN_Close: Weight=0.29<br>EMR_Close: Weight=0.08",
          "Return: 22.07%<br>Volatility: 0.12<br>SAP_Close: Weight=0.62<br>DHR_Close: Weight=0.00<br>TMO_Close: Weight=0.38",
          "Return: 38.28%<br>Volatility: 0.29<br>GE_Close: Weight=0.00<br>NFLX_Close: Weight=1.00<br>SRE_Close: Weight=0.00",
          "Return: 32.01%<br>Volatility: 0.11<br>TXN_Close: Weight=0.32<br>EXC_Close: Weight=0.22<br>MA_Close: Weight=0.46",
          "Return: 21.98%<br>Volatility: 0.13<br>NKE_Close: Weight=0.09<br>CRM_Close: Weight=0.68<br>SO_Close: Weight=0.00<br>CSCO_Close: Weight=0.23",
          "Return: 19.00%<br>Volatility: 0.09<br>JNJ_Close: Weight=0.53<br>MS_Close: Weight=0.09<br>COST_Close: Weight=0.08<br>REGN_Close: Weight=0.00<br>AAPL_Close: Weight=0.31",
          "Return: 18.77%<br>Volatility: 0.14<br>JPM_Close: Weight=0.78<br>T_Close: Weight=0.00<br>GM_Close: Weight=0.22",
          "Return: 49.53%<br>Volatility: 0.19<br>MS_Close: Weight=0.08<br>AAPL_Close: Weight=0.13<br>CRM_Close: Weight=0.21<br>BABA_Close: Weight=0.41<br>NVDA_Close: Weight=0.18",
          "Return: 42.27%<br>Volatility: 0.10<br>VZ_Close: Weight=0.00<br>PEP_Close: Weight=0.28<br>DE_Close: Weight=0.29<br>WFC_Close: Weight=0.00<br>BA_Close: Weight=0.43",
          "Return: 23.11%<br>Volatility: 0.10<br>KR_Close: Weight=0.00<br>LMT_Close: Weight=0.76<br>SYY_Close: Weight=0.24<br>LLY_Close: Weight=0.00",
          "Return: 44.39%<br>Volatility: 0.13<br>RDY_Close: Weight=0.00<br>VRTX_Close: Weight=0.09<br>ACN_Close: Weight=0.39<br>ABBV_Close: Weight=0.52",
          "Return: 21.79%<br>Volatility: 0.09<br>SYK_Close: Weight=0.16<br>GIS_Close: Weight=0.00<br>PEP_Close: Weight=0.36<br>ABT_Close: Weight=0.48",
          "Return: 46.75%<br>Volatility: 0.14<br>CAT_Close: Weight=0.62<br>SYY_Close: Weight=0.20<br>RTX_Close: Weight=0.18",
          "Return: 13.31%<br>Volatility: 0.09<br>ZBH_Close: Weight=0.04<br>KR_Close: Weight=0.00<br>BTI_Close: Weight=0.10<br>AEP_Close: Weight=0.76<br>GILD_Close: Weight=0.09",
          "Return: 36.19%<br>Volatility: 0.14<br>BABA_Close: Weight=0.47<br>CVX_Close: Weight=0.45<br>SRE_Close: Weight=0.08",
          "Return: 25.73%<br>Volatility: 0.08<br>TXN_Close: Weight=0.26<br>HON_Close: Weight=0.48<br>QCOM_Close: Weight=0.00<br>JNJ_Close: Weight=0.22<br>PG_Close: Weight=0.03",
          "Return: 16.11%<br>Volatility: 0.16<br>K_Close: Weight=0.00<br>CSCO_Close: Weight=1.00<br>DIS_Close: Weight=0.00",
          "Return: 6.62%<br>Volatility: 0.12<br>CMCSA_Close: Weight=0.45<br>ZBH_Close: Weight=0.16<br>LLY_Close: Weight=0.39<br>REGN_Close: Weight=0.00",
          "Return: 14.10%<br>Volatility: 0.10<br>CVX_Close: Weight=0.52<br>XOM_Close: Weight=0.00<br>EXC_Close: Weight=0.48",
          "Return: 17.24%<br>Volatility: 0.14<br>GILD_Close: Weight=0.14<br>IBM_Close: Weight=0.00<br>SYY_Close: Weight=0.86",
          "Return: 51.29%<br>Volatility: 0.15<br>TMO_Close: Weight=0.25<br>DIS_Close: Weight=0.00<br>BSX_Close: Weight=0.00<br>CVX_Close: Weight=0.04<br>CAT_Close: Weight=0.71",
          "Return: 15.22%<br>Volatility: 0.10<br>JNJ_Close: Weight=0.77<br>GIS_Close: Weight=0.00<br>PFE_Close: Weight=0.23<br>IBM_Close: Weight=0.00<br>SNAP_Close: Weight=0.00",
          "Return: 14.07%<br>Volatility: 0.08<br>KO_Close: Weight=0.85<br>QCOM_Close: Weight=0.15<br>UA_Close: Weight=0.00",
          "Return: 13.35%<br>Volatility: 0.10<br>PG_Close: Weight=0.22<br>EXC_Close: Weight=0.46<br>EW_Close: Weight=0.29<br>GILD_Close: Weight=0.04",
          "Return: 37.50%<br>Volatility: 0.14<br>MRK_Close: Weight=0.00<br>RDY_Close: Weight=0.00<br>MCD_Close: Weight=1.00",
          "Return: 43.77%<br>Volatility: 0.10<br>LMT_Close: Weight=0.38<br>CAT_Close: Weight=0.37<br>WMT_Close: Weight=0.25<br>JPM_Close: Weight=0.00<br>IBM_Close: Weight=0.00",
          "Return: 26.29%<br>Volatility: 0.12<br>PFE_Close: Weight=0.26<br>F_Close: Weight=0.01<br>ADBE_Close: Weight=0.35<br>ETN_Close: Weight=0.07<br>SAP_Close: Weight=0.31",
          "Return: 39.06%<br>Volatility: 0.13<br>GOOGL_Close: Weight=0.11<br>ABT_Close: Weight=0.57<br>BABA_Close: Weight=0.33",
          "Return: 20.28%<br>Volatility: 0.08<br>SO_Close: Weight=0.00<br>SAP_Close: Weight=0.27<br>KO_Close: Weight=0.29<br>NEE_Close: Weight=0.44<br>MRK_Close: Weight=0.00",
          "Return: 41.85%<br>Volatility: 0.13<br>PYPL_Close: Weight=0.34<br>EMR_Close: Weight=0.18<br>TXN_Close: Weight=0.21<br>V_Close: Weight=0.28",
          "Return: 32.26%<br>Volatility: 0.12<br>JNJ_Close: Weight=0.36<br>MSFT_Close: Weight=0.54<br>VRTX_Close: Weight=0.11",
          "Return: 23.92%<br>Volatility: 0.11<br>GOOG_Close: Weight=0.50<br>JPM_Close: Weight=0.26<br>LLY_Close: Weight=0.00<br>EMR_Close: Weight=0.24<br>CMCSA_Close: Weight=0.00",
          "Return: 51.63%<br>Volatility: 0.21<br>ADBE_Close: Weight=0.46<br>META_Close: Weight=0.26<br>NVDA_Close: Weight=0.28",
          "Return: 31.78%<br>Volatility: 0.12<br>JPM_Close: Weight=0.29<br>MSFT_Close: Weight=0.71<br>DHR_Close: Weight=0.00",
          "Return: 34.93%<br>Volatility: 0.15<br>MS_Close: Weight=0.08<br>BSX_Close: Weight=0.00<br>BTI_Close: Weight=0.02<br>F_Close: Weight=0.00<br>TXN_Close: Weight=0.90",
          "Return: 57.66%<br>Volatility: 0.27<br>COST_Close: Weight=0.33<br>CPB_Close: Weight=0.00<br>NVDA_Close: Weight=0.67",
          "Return: 30.72%<br>Volatility: 0.11<br>JPM_Close: Weight=0.18<br>TXN_Close: Weight=0.29<br>NFLX_Close: Weight=0.00<br>V_Close: Weight=0.53",
          "Return: 14.45%<br>Volatility: 0.11<br>PM_Close: Weight=0.00<br>JPM_Close: Weight=0.66<br>DIS_Close: Weight=0.00<br>PG_Close: Weight=0.34<br>MO_Close: Weight=0.00",
          "Return: 41.84%<br>Volatility: 0.13<br>ABBV_Close: Weight=0.66<br>RMD_Close: Weight=0.00<br>DUK_Close: Weight=0.09<br>SAP_Close: Weight=0.25",
          "Return: 32.12%<br>Volatility: 0.15<br>RDY_Close: Weight=0.00<br>ADBE_Close: Weight=0.59<br>BIIB_Close: Weight=0.02<br>EXC_Close: Weight=0.39",
          "Return: 36.93%<br>Volatility: 0.10<br>PYPL_Close: Weight=0.25<br>NEE_Close: Weight=0.33<br>UNH_Close: Weight=0.32<br>GM_Close: Weight=0.09",
          "Return: 23.45%<br>Volatility: 0.09<br>BSX_Close: Weight=0.00<br>EXC_Close: Weight=0.17<br>GS_Close: Weight=0.00<br>HON_Close: Weight=0.62<br>GOOG_Close: Weight=0.20",
          "Return: 24.30%<br>Volatility: 0.08<br>NEE_Close: Weight=0.37<br>K_Close: Weight=0.00<br>GM_Close: Weight=0.12<br>V_Close: Weight=0.40<br>PEP_Close: Weight=0.11",
          "Return: 28.57%<br>Volatility: 0.11<br>V_Close: Weight=0.89<br>CMCSA_Close: Weight=0.11<br>SNAP_Close: Weight=0.00",
          "Return: 32.00%<br>Volatility: 0.11<br>SRE_Close: Weight=0.00<br>MA_Close: Weight=0.38<br>MMM_Close: Weight=0.40<br>V_Close: Weight=0.20<br>RMD_Close: Weight=0.02",
          "Return: 29.86%<br>Volatility: 0.09<br>CVX_Close: Weight=0.25<br>AMZN_Close: Weight=0.28<br>WFC_Close: Weight=0.00<br>HD_Close: Weight=0.46<br>DIS_Close: Weight=0.00",
          "Return: 53.54%<br>Volatility: 0.17<br>MS_Close: Weight=0.08<br>TMO_Close: Weight=0.16<br>PYPL_Close: Weight=0.48<br>BABA_Close: Weight=0.28",
          "Return: 27.89%<br>Volatility: 0.09<br>SNAP_Close: Weight=0.00<br>MMM_Close: Weight=0.39<br>NEE_Close: Weight=0.43<br>AMZN_Close: Weight=0.18<br>DUK_Close: Weight=0.00",
          "Return: 65.17%<br>Volatility: 0.23<br>UA_Close: Weight=0.00<br>BSX_Close: Weight=0.00<br>PYPL_Close: Weight=1.00",
          "Return: 34.31%<br>Volatility: 0.12<br>AMZN_Close: Weight=0.26<br>AMD_Close: Weight=0.00<br>ISRG_Close: Weight=0.46<br>SRE_Close: Weight=0.00<br>PFE_Close: Weight=0.27",
          "Return: 15.25%<br>Volatility: 0.07<br>DIS_Close: Weight=0.00<br>PFE_Close: Weight=0.24<br>KO_Close: Weight=0.51<br>AAPL_Close: Weight=0.25",
          "Return: 32.90%<br>Volatility: 0.08<br>TMO_Close: Weight=0.05<br>TXN_Close: Weight=0.26<br>VZ_Close: Weight=0.03<br>KO_Close: Weight=0.33<br>ABBV_Close: Weight=0.32",
          "Return: 25.43%<br>Volatility: 0.10<br>DHR_Close: Weight=0.00<br>GOOG_Close: Weight=0.22<br>PM_Close: Weight=0.00<br>HON_Close: Weight=0.73<br>BAC_Close: Weight=0.05",
          "Return: 30.35%<br>Volatility: 0.12<br>BIIB_Close: Weight=0.00<br>CMCSA_Close: Weight=0.07<br>UNH_Close: Weight=0.82<br>DHR_Close: Weight=0.11",
          "Return: 50.73%<br>Volatility: 0.17<br>MA_Close: Weight=0.52<br>PYPL_Close: Weight=0.48<br>KR_Close: Weight=0.00",
          "Return: 15.42%<br>Volatility: 0.09<br>EXC_Close: Weight=0.29<br>BTI_Close: Weight=0.13<br>AMGN_Close: Weight=0.00<br>SYK_Close: Weight=0.45<br>XOM_Close: Weight=0.13",
          "Return: 12.28%<br>Volatility: 0.08<br>DIS_Close: Weight=0.00<br>KO_Close: Weight=0.89<br>LLY_Close: Weight=0.06<br>GILD_Close: Weight=0.05",
          "Return: 56.29%<br>Volatility: 0.16<br>GS_Close: Weight=0.00<br>BA_Close: Weight=0.92<br>VZ_Close: Weight=0.00<br>QCOM_Close: Weight=0.08",
          "Return: 53.21%<br>Volatility: 0.16<br>CAT_Close: Weight=0.74<br>SYK_Close: Weight=0.26<br>SRE_Close: Weight=0.00",
          "Return: 31.07%<br>Volatility: 0.14<br>AMD_Close: Weight=0.00<br>F_Close: Weight=0.02<br>INTC_Close: Weight=0.51<br>META_Close: Weight=0.47",
          "Return: 39.81%<br>Volatility: 0.16<br>BABA_Close: Weight=0.51<br>T_Close: Weight=0.00<br>RTX_Close: Weight=0.49",
          "Return: 39.68%<br>Volatility: 0.12<br>INTC_Close: Weight=0.10<br>GS_Close: Weight=0.00<br>MA_Close: Weight=0.38<br>DE_Close: Weight=0.36<br>TXN_Close: Weight=0.16",
          "Return: 39.48%<br>Volatility: 0.12<br>VZ_Close: Weight=0.00<br>GS_Close: Weight=0.00<br>UNH_Close: Weight=0.55<br>DE_Close: Weight=0.45",
          "Return: 20.29%<br>Volatility: 0.08<br>NKE_Close: Weight=0.05<br>META_Close: Weight=0.35<br>PEP_Close: Weight=0.32<br>SYY_Close: Weight=0.24<br>DHR_Close: Weight=0.04",
          "Return: 35.60%<br>Volatility: 0.13<br>EXC_Close: Weight=0.27<br>ISRG_Close: Weight=0.56<br>RMD_Close: Weight=0.01<br>NFLX_Close: Weight=0.15",
          "Return: 13.65%<br>Volatility: 0.08<br>PEP_Close: Weight=0.52<br>EXC_Close: Weight=0.25<br>MS_Close: Weight=0.23",
          "Return: 23.05%<br>Volatility: 0.11<br>NEE_Close: Weight=0.85<br>RMD_Close: Weight=0.15<br>T_Close: Weight=0.00",
          "Return: 24.84%<br>Volatility: 0.10<br>CMCSA_Close: Weight=0.04<br>VRTX_Close: Weight=0.13<br>PEP_Close: Weight=0.50<br>META_Close: Weight=0.33",
          "Return: 13.40%<br>Volatility: 0.08<br>QCOM_Close: Weight=0.15<br>BMY_Close: Weight=0.16<br>PEP_Close: Weight=0.69",
          "Return: 25.61%<br>Volatility: 0.11<br>JNJ_Close: Weight=0.60<br>PM_Close: Weight=0.00<br>AMZN_Close: Weight=0.40",
          "Return: 20.21%<br>Volatility: 0.12<br>AMGN_Close: Weight=0.00<br>EW_Close: Weight=0.22<br>SYY_Close: Weight=0.36<br>JPM_Close: Weight=0.42",
          "Return: 24.16%<br>Volatility: 0.09<br>BAC_Close: Weight=0.06<br>HON_Close: Weight=0.75<br>DHR_Close: Weight=0.00<br>SYK_Close: Weight=0.19",
          "Return: 17.94%<br>Volatility: 0.09<br>PEP_Close: Weight=0.46<br>F_Close: Weight=0.00<br>REGN_Close: Weight=0.00<br>GM_Close: Weight=0.15<br>CRM_Close: Weight=0.38",
          "Return: 43.24%<br>Volatility: 0.12<br>BA_Close: Weight=0.60<br>SAP_Close: Weight=0.21<br>CVX_Close: Weight=0.19",
          "Return: 35.80%<br>Volatility: 0.18<br>ORCL_Close: Weight=0.13<br>ADBE_Close: Weight=0.74<br>F_Close: Weight=0.13",
          "Return: 23.78%<br>Volatility: 0.09<br>NEE_Close: Weight=0.58<br>CSCO_Close: Weight=0.09<br>GOOG_Close: Weight=0.29<br>ORCL_Close: Weight=0.03<br>TSLA_Close: Weight=0.00",
          "Return: 14.72%<br>Volatility: 0.09<br>BAC_Close: Weight=0.26<br>CMCSA_Close: Weight=0.01<br>AMD_Close: Weight=0.00<br>PEP_Close: Weight=0.73",
          "Return: 19.71%<br>Volatility: 0.09<br>BTI_Close: Weight=0.08<br>GM_Close: Weight=0.08<br>BIIB_Close: Weight=0.00<br>GOOGL_Close: Weight=0.45<br>CVX_Close: Weight=0.39",
          "Return: 31.34%<br>Volatility: 0.15<br>COST_Close: Weight=0.13<br>JPM_Close: Weight=0.57<br>VRTX_Close: Weight=0.30",
          "Return: 46.46%<br>Volatility: 0.15<br>PFE_Close: Weight=0.00<br>VZ_Close: Weight=0.18<br>ABBV_Close: Weight=0.82",
          "Return: 50.43%<br>Volatility: 0.14<br>BA_Close: Weight=0.81<br>LLY_Close: Weight=0.04<br>TSLA_Close: Weight=0.03<br>BTI_Close: Weight=0.12",
          "Return: 16.56%<br>Volatility: 0.09<br>COST_Close: Weight=0.11<br>EMR_Close: Weight=0.27<br>JNJ_Close: Weight=0.50<br>VZ_Close: Weight=0.04<br>BTI_Close: Weight=0.08",
          "Return: 51.29%<br>Volatility: 0.16<br>BABA_Close: Weight=0.37<br>DE_Close: Weight=0.63<br>REGN_Close: Weight=0.00",
          "Return: 16.08%<br>Volatility: 0.10<br>ETN_Close: Weight=0.28<br>JNJ_Close: Weight=0.72<br>K_Close: Weight=0.00<br>DIS_Close: Weight=0.00",
          "Return: 18.43%<br>Volatility: 0.12<br>VZ_Close: Weight=0.14<br>RDY_Close: Weight=0.00<br>RMD_Close: Weight=0.35<br>SYY_Close: Weight=0.50",
          "Return: 32.36%<br>Volatility: 0.11<br>DE_Close: Weight=0.37<br>LMT_Close: Weight=0.44<br>IBM_Close: Weight=0.00<br>GOOGL_Close: Weight=0.18",
          "Return: 46.07%<br>Volatility: 0.13<br>CAT_Close: Weight=0.54<br>MMM_Close: Weight=0.42<br>DIS_Close: Weight=0.00<br>REGN_Close: Weight=0.04",
          "Return: 13.52%<br>Volatility: 0.13<br>ORCL_Close: Weight=0.38<br>K_Close: Weight=0.00<br>KR_Close: Weight=0.00<br>ETN_Close: Weight=0.62",
          "Return: 19.26%<br>Volatility: 0.13<br>SO_Close: Weight=0.00<br>NFLX_Close: Weight=0.41<br>DUK_Close: Weight=0.59",
          "Return: 10.34%<br>Volatility: 0.22<br>NKE_Close: Weight=0.97<br>T_Close: Weight=0.00<br>PM_Close: Weight=0.03",
          "Return: 24.10%<br>Volatility: 0.10<br>AMZN_Close: Weight=0.40<br>EXC_Close: Weight=0.17<br>DIS_Close: Weight=0.00<br>CVX_Close: Weight=0.43",
          "Return: 27.91%<br>Volatility: 0.09<br>QCOM_Close: Weight=0.01<br>HD_Close: Weight=0.40<br>HON_Close: Weight=0.55<br>IBM_Close: Weight=0.00<br>EW_Close: Weight=0.03",
          "Return: 15.80%<br>Volatility: 0.11<br>REGN_Close: Weight=0.01<br>EXC_Close: Weight=0.49<br>UA_Close: Weight=0.00<br>SYY_Close: Weight=0.51",
          "Return: -0.16%<br>Volatility: 0.14<br>RDY_Close: Weight=0.00<br>MRK_Close: Weight=0.00<br>PM_Close: Weight=1.00",
          "Return: 23.77%<br>Volatility: 0.07<br>KO_Close: Weight=0.20<br>V_Close: Weight=0.24<br>HON_Close: Weight=0.31<br>NEE_Close: Weight=0.25",
          "Return: 35.32%<br>Volatility: 0.12<br>ETN_Close: Weight=0.00<br>ADBE_Close: Weight=0.15<br>MA_Close: Weight=0.54<br>CMCSA_Close: Weight=0.08<br>INTC_Close: Weight=0.22",
          "Return: 16.15%<br>Volatility: 0.12<br>SYY_Close: Weight=0.64<br>NKE_Close: Weight=0.14<br>BTI_Close: Weight=0.22",
          "Return: 24.06%<br>Volatility: 0.11<br>VZ_Close: Weight=0.09<br>ACN_Close: Weight=0.66<br>JPM_Close: Weight=0.26",
          "Return: 20.31%<br>Volatility: 0.08<br>LMT_Close: Weight=0.56<br>DUK_Close: Weight=0.06<br>RTX_Close: Weight=0.07<br>JNJ_Close: Weight=0.29<br>DIS_Close: Weight=0.01",
          "Return: 52.04%<br>Volatility: 0.13<br>CAT_Close: Weight=0.51<br>ISRG_Close: Weight=0.39<br>MS_Close: Weight=0.00<br>VZ_Close: Weight=0.10",
          "Return: 34.40%<br>Volatility: 0.10<br>V_Close: Weight=0.48<br>MCD_Close: Weight=0.52<br>KR_Close: Weight=0.00",
          "Return: 31.50%<br>Volatility: 0.12<br>KR_Close: Weight=0.00<br>GM_Close: Weight=0.17<br>UNH_Close: Weight=0.83",
          "Return: 12.57%<br>Volatility: 0.09<br>PEP_Close: Weight=0.90<br>BTI_Close: Weight=0.10<br>IBM_Close: Weight=0.00<br>AMD_Close: Weight=0.00",
          "Return: 21.89%<br>Volatility: 0.09<br>PG_Close: Weight=0.14<br>HON_Close: Weight=0.80<br>BAC_Close: Weight=0.06",
          "Return: 24.69%<br>Volatility: 0.10<br>CRM_Close: Weight=0.29<br>K_Close: Weight=0.00<br>LMT_Close: Weight=0.71",
          "Return: 53.33%<br>Volatility: 0.15<br>PG_Close: Weight=0.00<br>CAT_Close: Weight=0.68<br>META_Close: Weight=0.32",
          "Return: 21.96%<br>Volatility: 0.15<br>ZBH_Close: Weight=0.00<br>GIS_Close: Weight=0.00<br>GE_Close: Weight=0.00<br>ORCL_Close: Weight=0.26<br>AAPL_Close: Weight=0.74",
          "Return: 25.11%<br>Volatility: 0.10<br>NVDA_Close: Weight=0.18<br>GM_Close: Weight=0.10<br>BMY_Close: Weight=0.11<br>AMGN_Close: Weight=0.00<br>KO_Close: Weight=0.62",
          "Return: 36.07%<br>Volatility: 0.15<br>MSFT_Close: Weight=0.88<br>GOOG_Close: Weight=0.08<br>MDT_Close: Weight=0.00<br>NFLX_Close: Weight=0.04",
          "Return: 15.44%<br>Volatility: 0.14<br>AMGN_Close: Weight=0.00<br>CVX_Close: Weight=1.00<br>SRE_Close: Weight=0.00",
          "Return: 24.03%<br>Volatility: 0.13<br>AAPL_Close: Weight=0.28<br>GOOG_Close: Weight=0.56<br>DHR_Close: Weight=0.16<br>KR_Close: Weight=0.00",
          "Return: 31.79%<br>Volatility: 0.10<br>TXN_Close: Weight=0.35<br>REGN_Close: Weight=0.00<br>JPM_Close: Weight=0.07<br>TMO_Close: Weight=0.13<br>HD_Close: Weight=0.45",
          "Return: 24.83%<br>Volatility: 0.10<br>NEE_Close: Weight=0.64<br>TMO_Close: Weight=0.24<br>EXC_Close: Weight=0.00<br>NFLX_Close: Weight=0.12<br>GIS_Close: Weight=0.00",
          "Return: 40.13%<br>Volatility: 0.17<br>T_Close: Weight=0.00<br>BABA_Close: Weight=0.63<br>GILD_Close: Weight=0.00<br>XOM_Close: Weight=0.37<br>DIS_Close: Weight=0.00",
          "Return: 55.20%<br>Volatility: 0.14<br>DIS_Close: Weight=0.00<br>WMT_Close: Weight=0.42<br>CAT_Close: Weight=0.58",
          "Return: 31.84%<br>Volatility: 0.13<br>TXN_Close: Weight=0.63<br>CRM_Close: Weight=0.13<br>SYK_Close: Weight=0.25",
          "Return: 31.18%<br>Volatility: 0.11<br>WFC_Close: Weight=0.00<br>MSFT_Close: Weight=0.49<br>GM_Close: Weight=0.07<br>GOOG_Close: Weight=0.00<br>MMM_Close: Weight=0.44",
          "Return: 25.09%<br>Volatility: 0.12<br>MMM_Close: Weight=0.80<br>BTI_Close: Weight=0.07<br>T_Close: Weight=0.00<br>GE_Close: Weight=0.00<br>CSCO_Close: Weight=0.12",
          "Return: 36.24%<br>Volatility: 0.15<br>QCOM_Close: Weight=0.03<br>MSFT_Close: Weight=0.97<br>DHR_Close: Weight=0.00",
          "Return: 29.28%<br>Volatility: 0.09<br>LMT_Close: Weight=0.42<br>GOOG_Close: Weight=0.17<br>UNH_Close: Weight=0.41<br>MO_Close: Weight=0.00",
          "Return: 29.54%<br>Volatility: 0.11<br>MA_Close: Weight=0.64<br>DUK_Close: Weight=0.21<br>GOOG_Close: Weight=0.15",
          "Return: 50.72%<br>Volatility: 0.13<br>MA_Close: Weight=0.40<br>CSCO_Close: Weight=0.00<br>AMZN_Close: Weight=0.11<br>CAT_Close: Weight=0.49",
          "Return: 37.14%<br>Volatility: 0.16<br>GE_Close: Weight=0.00<br>GIS_Close: Weight=0.00<br>MRK_Close: Weight=0.00<br>TXN_Close: Weight=1.00",
          "Return: 32.21%<br>Volatility: 0.11<br>ACN_Close: Weight=0.36<br>DHR_Close: Weight=0.00<br>MA_Close: Weight=0.58<br>NKE_Close: Weight=0.06",
          "Return: 17.97%<br>Volatility: 0.08<br>KO_Close: Weight=0.57<br>RMD_Close: Weight=0.12<br>CPB_Close: Weight=0.00<br>GOOGL_Close: Weight=0.31",
          "Return: 29.00%<br>Volatility: 0.11<br>JPM_Close: Weight=0.15<br>WFC_Close: Weight=0.00<br>TXN_Close: Weight=0.59<br>CVX_Close: Weight=0.26",
          "Return: 10.47%<br>Volatility: 0.10<br>BMY_Close: Weight=0.26<br>VZ_Close: Weight=0.35<br>DHR_Close: Weight=0.38",
          "Return: 22.10%<br>Volatility: 0.08<br>NEE_Close: Weight=0.64<br>VZ_Close: Weight=0.02<br>MRK_Close: Weight=0.00<br>JPM_Close: Weight=0.34",
          "Return: 51.46%<br>Volatility: 0.14<br>MRK_Close: Weight=0.00<br>BA_Close: Weight=0.77<br>AAPL_Close: Weight=0.23",
          "Return: 34.52%<br>Volatility: 0.12<br>NKE_Close: Weight=0.11<br>MCD_Close: Weight=0.89<br>REGN_Close: Weight=0.00",
          "Return: 45.12%<br>Volatility: 0.18<br>MS_Close: Weight=0.00<br>DE_Close: Weight=1.00<br>MDT_Close: Weight=0.00<br>AMGN_Close: Weight=0.00",
          "Return: 24.23%<br>Volatility: 0.11<br>BIIB_Close: Weight=0.00<br>MDT_Close: Weight=0.00<br>AMGN_Close: Weight=0.00<br>SYY_Close: Weight=0.41<br>GOOG_Close: Weight=0.59",
          "Return: 35.52%<br>Volatility: 0.19<br>DIS_Close: Weight=0.01<br>AMZN_Close: Weight=0.86<br>QCOM_Close: Weight=0.13<br>AMGN_Close: Weight=0.00",
          "Return: 26.99%<br>Volatility: 0.10<br>UA_Close: Weight=0.00<br>HON_Close: Weight=0.75<br>BIIB_Close: Weight=0.00<br>INTC_Close: Weight=0.25<br>BSX_Close: Weight=0.00",
          "Return: 31.73%<br>Volatility: 0.10<br>BMY_Close: Weight=0.03<br>ORCL_Close: Weight=0.02<br>TMO_Close: Weight=0.12<br>TXN_Close: Weight=0.36<br>HD_Close: Weight=0.47",
          "Return: 31.44%<br>Volatility: 0.12<br>META_Close: Weight=0.25<br>ISRG_Close: Weight=0.47<br>DUK_Close: Weight=0.28",
          "Return: 9.58%<br>Volatility: 0.09<br>SO_Close: Weight=0.00<br>ETN_Close: Weight=0.45<br>DUK_Close: Weight=0.55",
          "Return: 33.06%<br>Volatility: 0.12<br>SYK_Close: Weight=0.26<br>SYY_Close: Weight=0.22<br>K_Close: Weight=0.00<br>DE_Close: Weight=0.52<br>GILD_Close: Weight=0.01",
          "Return: 27.67%<br>Volatility: 0.13<br>XOM_Close: Weight=0.00<br>EMR_Close: Weight=0.36<br>MS_Close: Weight=0.03<br>INTC_Close: Weight=0.61",
          "Return: 54.88%<br>Volatility: 0.16<br>BAC_Close: Weight=0.04<br>QCOM_Close: Weight=0.07<br>BA_Close: Weight=0.88<br>K_Close: Weight=0.00",
          "Return: 43.44%<br>Volatility: 0.14<br>VRTX_Close: Weight=0.15<br>PM_Close: Weight=0.00<br>NVDA_Close: Weight=0.20<br>MMM_Close: Weight=0.65",
          "Return: 30.42%<br>Volatility: 0.12<br>XOM_Close: Weight=0.12<br>T_Close: Weight=0.00<br>K_Close: Weight=0.00<br>ACN_Close: Weight=0.56<br>ADBE_Close: Weight=0.32",
          "Return: 61.61%<br>Volatility: 0.27<br>AMGN_Close: Weight=0.00<br>RDY_Close: Weight=0.00<br>BABA_Close: Weight=1.00",
          "Return: 27.05%<br>Volatility: 0.09<br>ETN_Close: Weight=0.00<br>BAC_Close: Weight=0.04<br>V_Close: Weight=0.43<br>COST_Close: Weight=0.03<br>HON_Close: Weight=0.50",
          "Return: 38.28%<br>Volatility: 0.29<br>NFLX_Close: Weight=1.00<br>BSX_Close: Weight=0.00<br>PM_Close: Weight=0.00",
          "Return: 30.80%<br>Volatility: 0.12<br>ACN_Close: Weight=0.64<br>AMZN_Close: Weight=0.32<br>TSLA_Close: Weight=0.04",
          "Return: 33.13%<br>Volatility: 0.10<br>V_Close: Weight=0.35<br>MCD_Close: Weight=0.44<br>CMCSA_Close: Weight=0.05<br>INTC_Close: Weight=0.16",
          "Return: 22.53%<br>Volatility: 0.13<br>GE_Close: Weight=0.00<br>JPM_Close: Weight=0.49<br>AAPL_Close: Weight=0.51",
          "Return: 28.41%<br>Volatility: 0.15<br>INTC_Close: Weight=0.75<br>COST_Close: Weight=0.09<br>QCOM_Close: Weight=0.16<br>AMD_Close: Weight=0.00",
          "Return: 21.07%<br>Volatility: 0.08<br>CMCSA_Close: Weight=0.04<br>PEP_Close: Weight=0.27<br>HON_Close: Weight=0.69",
          "Return: 17.00%<br>Volatility: 0.09<br>EW_Close: Weight=0.16<br>BIIB_Close: Weight=0.04<br>CVX_Close: Weight=0.40<br>RTX_Close: Weight=0.40<br>PM_Close: Weight=0.00",
          "Return: 39.85%<br>Volatility: 0.17<br>REGN_Close: Weight=0.00<br>SO_Close: Weight=0.00<br>INTC_Close: Weight=0.71<br>VRTX_Close: Weight=0.27<br>CMCSA_Close: Weight=0.02",
          "Return: 44.38%<br>Volatility: 0.12<br>GOOG_Close: Weight=0.20<br>CAT_Close: Weight=0.47<br>GE_Close: Weight=0.00<br>EXC_Close: Weight=0.19<br>ADBE_Close: Weight=0.14",
          "Return: 23.87%<br>Volatility: 0.11<br>GOOG_Close: Weight=0.50<br>RMD_Close: Weight=0.15<br>PM_Close: Weight=0.00<br>JPM_Close: Weight=0.35",
          "Return: 43.70%<br>Volatility: 0.16<br>NFLX_Close: Weight=0.21<br>T_Close: Weight=0.00<br>DE_Close: Weight=0.79",
          "Return: 25.60%<br>Volatility: 0.14<br>RMD_Close: Weight=0.26<br>GOOG_Close: Weight=0.73<br>SRE_Close: Weight=0.01",
          "Return: 41.24%<br>Volatility: 0.13<br>TXN_Close: Weight=0.49<br>UA_Close: Weight=0.00<br>DE_Close: Weight=0.51",
          "Return: 34.73%<br>Volatility: 0.12<br>ISRG_Close: Weight=0.37<br>PFE_Close: Weight=0.21<br>TXN_Close: Weight=0.41<br>LLY_Close: Weight=0.00<br>REGN_Close: Weight=0.00",
          "Return: 20.34%<br>Volatility: 0.07<br>EMR_Close: Weight=0.21<br>REGN_Close: Weight=0.04<br>NEE_Close: Weight=0.55<br>RTX_Close: Weight=0.15<br>COST_Close: Weight=0.05",
          "Return: 24.32%<br>Volatility: 0.09<br>META_Close: Weight=0.23<br>NEE_Close: Weight=0.58<br>BSX_Close: Weight=0.00<br>GM_Close: Weight=0.16<br>NFLX_Close: Weight=0.04",
          "Return: 17.81%<br>Volatility: 0.10<br>SYK_Close: Weight=0.36<br>WFC_Close: Weight=0.08<br>PM_Close: Weight=0.00<br>JNJ_Close: Weight=0.56",
          "Return: 16.08%<br>Volatility: 0.10<br>MDT_Close: Weight=0.00<br>ETN_Close: Weight=0.28<br>JNJ_Close: Weight=0.72<br>KR_Close: Weight=0.00<br>SRE_Close: Weight=0.00",
          "Return: 23.60%<br>Volatility: 0.08<br>KO_Close: Weight=0.53<br>TXN_Close: Weight=0.39<br>CRM_Close: Weight=0.08",
          "Return: 20.79%<br>Volatility: 0.09<br>MO_Close: Weight=0.00<br>PEP_Close: Weight=0.52<br>LLY_Close: Weight=0.06<br>INTC_Close: Weight=0.43<br>PM_Close: Weight=0.00",
          "Return: 27.73%<br>Volatility: 0.11<br>NKE_Close: Weight=0.06<br>META_Close: Weight=0.35<br>MMM_Close: Weight=0.59",
          "Return: 32.56%<br>Volatility: 0.10<br>COST_Close: Weight=0.05<br>CRM_Close: Weight=0.08<br>HON_Close: Weight=0.64<br>BABA_Close: Weight=0.22",
          "Return: 34.79%<br>Volatility: 0.14<br>CSCO_Close: Weight=0.19<br>BABA_Close: Weight=0.47<br>GM_Close: Weight=0.12<br>XOM_Close: Weight=0.22",
          "Return: 14.61%<br>Volatility: 0.09<br>MS_Close: Weight=0.24<br>EXC_Close: Weight=0.48<br>MDT_Close: Weight=0.00<br>CSCO_Close: Weight=0.28",
          "Return: 30.30%<br>Volatility: 0.14<br>MO_Close: Weight=0.00<br>AMZN_Close: Weight=0.52<br>TMO_Close: Weight=0.48<br>AMGN_Close: Weight=0.00",
          "Return: 30.05%<br>Volatility: 0.12<br>GILD_Close: Weight=0.00<br>ETN_Close: Weight=0.11<br>UNH_Close: Weight=0.76<br>GM_Close: Weight=0.13",
          "Return: 46.23%<br>Volatility: 0.20<br>BABA_Close: Weight=0.71<br>DHR_Close: Weight=0.29<br>AMD_Close: Weight=0.00",
          "Return: 28.41%<br>Volatility: 0.11<br>RTX_Close: Weight=0.15<br>V_Close: Weight=0.72<br>NFLX_Close: Weight=0.00<br>MO_Close: Weight=0.00<br>GOOG_Close: Weight=0.13",
          "Return: 24.57%<br>Volatility: 0.11<br>ACN_Close: Weight=0.80<br>T_Close: Weight=0.00<br>DIS_Close: Weight=0.00<br>ORCL_Close: Weight=0.20",
          "Return: 23.02%<br>Volatility: 0.08<br>V_Close: Weight=0.55<br>PM_Close: Weight=0.00<br>KO_Close: Weight=0.45",
          "Return: 14.53%<br>Volatility: 0.11<br>DHR_Close: Weight=0.31<br>RTX_Close: Weight=0.69<br>F_Close: Weight=0.00<br>SRE_Close: Weight=0.00",
          "Return: 24.72%<br>Volatility: 0.09<br>MRK_Close: Weight=0.00<br>HD_Close: Weight=0.61<br>PEP_Close: Weight=0.39<br>DIS_Close: Weight=0.00",
          "Return: 32.15%<br>Volatility: 0.10<br>SO_Close: Weight=0.00<br>INTC_Close: Weight=0.27<br>MCD_Close: Weight=0.57<br>GE_Close: Weight=0.00<br>EXC_Close: Weight=0.16",
          "Return: 48.88%<br>Volatility: 0.17<br>PFE_Close: Weight=0.29<br>PYPL_Close: Weight=0.71<br>LLY_Close: Weight=0.00<br>GILD_Close: Weight=0.00<br>CPB_Close: Weight=0.00",
          "Return: 47.04%<br>Volatility: 0.13<br>MS_Close: Weight=0.00<br>BA_Close: Weight=0.70<br>EMR_Close: Weight=0.12<br>K_Close: Weight=0.00<br>CVX_Close: Weight=0.17",
          "Return: 17.16%<br>Volatility: 0.10<br>NKE_Close: Weight=0.08<br>RMD_Close: Weight=0.21<br>JNJ_Close: Weight=0.70",
          "Return: 33.01%<br>Volatility: 0.10<br>SYY_Close: Weight=0.22<br>KO_Close: Weight=0.43<br>KR_Close: Weight=0.00<br>PYPL_Close: Weight=0.36",
          "Return: 26.53%<br>Volatility: 0.12<br>SRE_Close: Weight=0.00<br>PEP_Close: Weight=0.49<br>ADBE_Close: Weight=0.44<br>PG_Close: Weight=0.07",
          "Return: 15.12%<br>Volatility: 0.07<br>QCOM_Close: Weight=0.08<br>BAC_Close: Weight=0.20<br>ZBH_Close: Weight=0.00<br>KO_Close: Weight=0.72",
          "Return: 30.65%<br>Volatility: 0.12<br>TMO_Close: Weight=0.10<br>MA_Close: Weight=0.66<br>XOM_Close: Weight=0.13<br>AAPL_Close: Weight=0.02<br>META_Close: Weight=0.09",
          "Return: 27.52%<br>Volatility: 0.10<br>SYY_Close: Weight=0.18<br>VRTX_Close: Weight=0.10<br>BIIB_Close: Weight=0.00<br>HON_Close: Weight=0.72<br>BMY_Close: Weight=0.00",
          "Return: 29.87%<br>Volatility: 0.10<br>F_Close: Weight=0.00<br>WMT_Close: Weight=0.41<br>CRM_Close: Weight=0.25<br>JNJ_Close: Weight=0.33<br>MO_Close: Weight=0.00",
          "Return: 46.12%<br>Volatility: 0.15<br>EMR_Close: Weight=0.28<br>PYPL_Close: Weight=0.58<br>GM_Close: Weight=0.07<br>LLY_Close: Weight=0.00<br>RMD_Close: Weight=0.06",
          "Return: 38.97%<br>Volatility: 0.15<br>DHR_Close: Weight=0.09<br>GM_Close: Weight=0.04<br>DE_Close: Weight=0.81<br>CSCO_Close: Weight=0.07",
          "Return: 23.01%<br>Volatility: 0.11<br>RMD_Close: Weight=0.12<br>EMR_Close: Weight=0.28<br>ORCL_Close: Weight=0.04<br>GOOG_Close: Weight=0.47<br>GM_Close: Weight=0.08",
          "Return: 29.01%<br>Volatility: 0.10<br>CRM_Close: Weight=0.33<br>QCOM_Close: Weight=0.02<br>BAC_Close: Weight=0.07<br>HD_Close: Weight=0.58",
          "Return: 15.44%<br>Volatility: 0.14<br>CVX_Close: Weight=1.00<br>BSX_Close: Weight=0.00<br>GE_Close: Weight=0.00<br>GIS_Close: Weight=0.00",
          "Return: 23.90%<br>Volatility: 0.09<br>BIIB_Close: Weight=0.00<br>KO_Close: Weight=0.55<br>TXN_Close: Weight=0.45<br>GE_Close: Weight=0.00",
          "Return: 41.92%<br>Volatility: 0.16<br>BABA_Close: Weight=0.42<br>GM_Close: Weight=0.16<br>INTC_Close: Weight=0.43<br>T_Close: Weight=0.00",
          "Return: 58.10%<br>Volatility: 0.18<br>ORCL_Close: Weight=0.12<br>F_Close: Weight=0.00<br>CAT_Close: Weight=0.88",
          "Return: 19.72%<br>Volatility: 0.10<br>RTX_Close: Weight=0.31<br>SYK_Close: Weight=0.39<br>JPM_Close: Weight=0.30",
          "Return: 20.34%<br>Volatility: 0.20<br>SNAP_Close: Weight=0.00<br>RMD_Close: Weight=1.00<br>UA_Close: Weight=0.00",
          "Return: 42.31%<br>Volatility: 0.12<br>DHR_Close: Weight=0.00<br>DUK_Close: Weight=0.00<br>MMM_Close: Weight=0.45<br>ABBV_Close: Weight=0.55<br>CPB_Close: Weight=0.00",
          "Return: 17.50%<br>Volatility: 0.14<br>RDY_Close: Weight=0.00<br>SYY_Close: Weight=0.81<br>IBM_Close: Weight=0.00<br>NKE_Close: Weight=0.19",
          "Return: 14.27%<br>Volatility: 0.09<br>CMCSA_Close: Weight=0.16<br>AEP_Close: Weight=0.84<br>T_Close: Weight=0.00",
          "Return: 35.09%<br>Volatility: 0.10<br>HD_Close: Weight=0.43<br>GOOG_Close: Weight=0.26<br>GM_Close: Weight=0.00<br>DE_Close: Weight=0.31",
          "Return: 14.07%<br>Volatility: 0.08<br>RDY_Close: Weight=0.00<br>QCOM_Close: Weight=0.15<br>KO_Close: Weight=0.85",
          "Return: 40.06%<br>Volatility: 0.12<br>GM_Close: Weight=0.03<br>DE_Close: Weight=0.42<br>MA_Close: Weight=0.55",
          "Return: 33.28%<br>Volatility: 0.14<br>CPB_Close: Weight=0.00<br>NVDA_Close: Weight=0.30<br>PEP_Close: Weight=0.70",
          "Return: 33.40%<br>Volatility: 0.14<br>META_Close: Weight=0.14<br>DIS_Close: Weight=0.06<br>SO_Close: Weight=0.00<br>MSFT_Close: Weight=0.79",
          "Return: 15.83%<br>Volatility: 0.11<br>UA_Close: Weight=0.00<br>JNJ_Close: Weight=0.91<br>PG_Close: Weight=0.09",
          "Return: 50.61%<br>Volatility: 0.14<br>BA_Close: Weight=0.78<br>SYY_Close: Weight=0.22<br>ZBH_Close: Weight=0.00",
          "Return: 41.64%<br>Volatility: 0.11<br>ABT_Close: Weight=0.34<br>BSX_Close: Weight=0.00<br>BA_Close: Weight=0.49<br>CVX_Close: Weight=0.17",
          "Return: 21.87%<br>Volatility: 0.10<br>AEP_Close: Weight=0.56<br>GIS_Close: Weight=0.00<br>META_Close: Weight=0.44",
          "Return: 22.92%<br>Volatility: 0.09<br>NEE_Close: Weight=0.60<br>PM_Close: Weight=0.00<br>MRK_Close: Weight=0.00<br>CRM_Close: Weight=0.30<br>COST_Close: Weight=0.10",
          "Return: 37.61%<br>Volatility: 0.13<br>WFC_Close: Weight=0.00<br>BTI_Close: Weight=0.04<br>GILD_Close: Weight=0.05<br>INTC_Close: Weight=0.35<br>DE_Close: Weight=0.57",
          "Return: 51.87%<br>Volatility: 0.15<br>VZ_Close: Weight=0.00<br>EMR_Close: Weight=0.20<br>BA_Close: Weight=0.80",
          "Return: 15.27%<br>Volatility: 0.10<br>CMCSA_Close: Weight=0.14<br>K_Close: Weight=0.00<br>PG_Close: Weight=0.05<br>JNJ_Close: Weight=0.81",
          "Return: 41.67%<br>Volatility: 0.11<br>MCD_Close: Weight=0.49<br>WMT_Close: Weight=0.30<br>VZ_Close: Weight=0.09<br>PG_Close: Weight=0.00<br>NVDA_Close: Weight=0.11",
          "Return: 52.33%<br>Volatility: 0.15<br>BA_Close: Weight=0.82<br>BSX_Close: Weight=0.00<br>JPM_Close: Weight=0.18",
          "Return: 10.59%<br>Volatility: 0.10<br>SRE_Close: Weight=0.00<br>ORCL_Close: Weight=0.32<br>VZ_Close: Weight=0.31<br>BTI_Close: Weight=0.20<br>PG_Close: Weight=0.17",
          "Return: 21.77%<br>Volatility: 0.10<br>VZ_Close: Weight=0.13<br>PG_Close: Weight=0.00<br>GILD_Close: Weight=0.00<br>JNJ_Close: Weight=0.47<br>META_Close: Weight=0.41",
          "Return: 24.22%<br>Volatility: 0.09<br>NEE_Close: Weight=0.53<br>ADBE_Close: Weight=0.25<br>DIS_Close: Weight=0.06<br>XOM_Close: Weight=0.17",
          "Return: 50.83%<br>Volatility: 0.18<br>GM_Close: Weight=0.16<br>PYPL_Close: Weight=0.73<br>CMCSA_Close: Weight=0.11<br>KR_Close: Weight=0.00<br>CSCO_Close: Weight=0.00",
          "Return: 12.19%<br>Volatility: 0.12<br>KR_Close: Weight=0.00<br>ORCL_Close: Weight=0.49<br>VZ_Close: Weight=0.51<br>REGN_Close: Weight=0.00",
          "Return: 36.99%<br>Volatility: 0.14<br>AMGN_Close: Weight=0.00<br>BIIB_Close: Weight=0.00<br>MA_Close: Weight=0.79<br>CSCO_Close: Weight=0.03<br>AMZN_Close: Weight=0.18",
          "Return: 30.42%<br>Volatility: 0.11<br>BAC_Close: Weight=0.15<br>GE_Close: Weight=0.00<br>AAPL_Close: Weight=0.16<br>JNJ_Close: Weight=0.30<br>ISRG_Close: Weight=0.39",
          "Return: 20.83%<br>Volatility: 0.07<br>PEP_Close: Weight=0.19<br>RTX_Close: Weight=0.00<br>JNJ_Close: Weight=0.23<br>HON_Close: Weight=0.58",
          "Return: 51.58%<br>Volatility: 0.13<br>SO_Close: Weight=0.00<br>CAT_Close: Weight=0.49<br>ISRG_Close: Weight=0.39<br>ETN_Close: Weight=0.00<br>CVX_Close: Weight=0.12",
          "Return: 21.10%<br>Volatility: 0.09<br>LLY_Close: Weight=0.00<br>LMT_Close: Weight=0.65<br>AEP_Close: Weight=0.35",
          "Return: 29.80%<br>Volatility: 0.10<br>INTC_Close: Weight=0.30<br>NEE_Close: Weight=0.55<br>VRTX_Close: Weight=0.11<br>ORCL_Close: Weight=0.05",
          "Return: 16.11%<br>Volatility: 0.16<br>RDY_Close: Weight=0.00<br>MO_Close: Weight=0.00<br>AMGN_Close: Weight=0.00<br>CSCO_Close: Weight=1.00<br>GS_Close: Weight=0.00",
          "Return: 43.12%<br>Volatility: 0.12<br>EW_Close: Weight=0.00<br>F_Close: Weight=0.00<br>QCOM_Close: Weight=0.01<br>HON_Close: Weight=0.47<br>BA_Close: Weight=0.53",
          "Return: 34.82%<br>Volatility: 0.11<br>ZBH_Close: Weight=0.00<br>DUK_Close: Weight=0.16<br>MMM_Close: Weight=0.53<br>GE_Close: Weight=0.00<br>BABA_Close: Weight=0.31",
          "Return: 49.71%<br>Volatility: 0.12<br>ACN_Close: Weight=0.32<br>BABA_Close: Weight=0.18<br>BA_Close: Weight=0.50<br>PM_Close: Weight=0.00",
          "Return: 40.79%<br>Volatility: 0.15<br>IBM_Close: Weight=0.00<br>K_Close: Weight=0.00<br>CSCO_Close: Weight=0.14<br>ISRG_Close: Weight=0.68<br>NFLX_Close: Weight=0.18",
          "Return: 44.91%<br>Volatility: 0.13<br>CAT_Close: Weight=0.61<br>VZ_Close: Weight=0.02<br>EW_Close: Weight=0.10<br>RDY_Close: Weight=0.00<br>EXC_Close: Weight=0.27",
          "Return: 15.40%<br>Volatility: 0.07<br>AMGN_Close: Weight=0.00<br>SO_Close: Weight=0.00<br>JPM_Close: Weight=0.32<br>KO_Close: Weight=0.68",
          "Return: 22.36%<br>Volatility: 0.11<br>VRTX_Close: Weight=0.22<br>DUK_Close: Weight=0.15<br>PEP_Close: Weight=0.63<br>AMD_Close: Weight=0.00",
          "Return: 26.72%<br>Volatility: 0.11<br>AMZN_Close: Weight=0.34<br>TMO_Close: Weight=0.29<br>EMR_Close: Weight=0.11<br>JPM_Close: Weight=0.26",
          "Return: 51.54%<br>Volatility: 0.16<br>COST_Close: Weight=0.04<br>RTX_Close: Weight=0.22<br>SNAP_Close: Weight=0.00<br>CAT_Close: Weight=0.74",
          "Return: 35.90%<br>Volatility: 0.11<br>BMY_Close: Weight=0.00<br>TXN_Close: Weight=0.44<br>BAC_Close: Weight=0.00<br>MDT_Close: Weight=0.00<br>UNH_Close: Weight=0.56",
          "Return: 21.27%<br>Volatility: 0.13<br>GILD_Close: Weight=0.04<br>SAP_Close: Weight=0.83<br>QCOM_Close: Weight=0.14<br>K_Close: Weight=0.00",
          "Return: 31.24%<br>Volatility: 0.09<br>GOOGL_Close: Weight=0.08<br>V_Close: Weight=0.46<br>ETN_Close: Weight=0.00<br>HD_Close: Weight=0.46",
          "Return: 33.93%<br>Volatility: 0.16<br>PG_Close: Weight=0.29<br>AMD_Close: Weight=0.00<br>ORCL_Close: Weight=0.15<br>LLY_Close: Weight=0.18<br>NVDA_Close: Weight=0.37",
          "Return: 44.16%<br>Volatility: 0.11<br>MDT_Close: Weight=0.00<br>BA_Close: Weight=0.46<br>MA_Close: Weight=0.34<br>LMT_Close: Weight=0.16<br>PFE_Close: Weight=0.05",
          "Return: 14.81%<br>Volatility: 0.08<br>AEP_Close: Weight=0.57<br>CVX_Close: Weight=0.33<br>NKE_Close: Weight=0.10",
          "Return: 27.13%<br>Volatility: 0.09<br>MDT_Close: Weight=0.00<br>V_Close: Weight=0.51<br>XOM_Close: Weight=0.03<br>MMM_Close: Weight=0.37<br>CMCSA_Close: Weight=0.08",
          "Return: 51.72%<br>Volatility: 0.15<br>RTX_Close: Weight=0.09<br>ZBH_Close: Weight=0.00<br>COST_Close: Weight=0.09<br>AMGN_Close: Weight=0.00<br>BA_Close: Weight=0.83",
          "Return: 22.32%<br>Volatility: 0.10<br>NEE_Close: Weight=0.91<br>CMCSA_Close: Weight=0.09<br>DIS_Close: Weight=0.00<br>MRK_Close: Weight=0.00",
          "Return: 54.97%<br>Volatility: 0.12<br>BA_Close: Weight=0.45<br>CMCSA_Close: Weight=0.00<br>CAT_Close: Weight=0.35<br>INTC_Close: Weight=0.17<br>CVX_Close: Weight=0.04",
          "Return: 14.80%<br>Volatility: 0.08<br>RMD_Close: Weight=0.22<br>AMD_Close: Weight=0.00<br>KR_Close: Weight=0.00<br>KO_Close: Weight=0.78",
          "Return: 59.65%<br>Volatility: 0.21<br>GILD_Close: Weight=0.00<br>MDT_Close: Weight=0.00<br>PYPL_Close: Weight=0.92<br>GIS_Close: Weight=0.08",
          "Return: 35.82%<br>Volatility: 0.11<br>LMT_Close: Weight=0.27<br>DE_Close: Weight=0.32<br>PFE_Close: Weight=0.02<br>MA_Close: Weight=0.39<br>BTI_Close: Weight=0.00",
          "Return: 21.44%<br>Volatility: 0.12<br>JPM_Close: Weight=0.39<br>GE_Close: Weight=0.00<br>AAPL_Close: Weight=0.43<br>CSCO_Close: Weight=0.18<br>BSX_Close: Weight=0.00",
          "Return: 14.51%<br>Volatility: 0.09<br>KO_Close: Weight=0.90<br>PM_Close: Weight=0.00<br>TSLA_Close: Weight=0.10",
          "Return: 25.24%<br>Volatility: 0.09<br>GE_Close: Weight=0.00<br>JNJ_Close: Weight=0.40<br>HD_Close: Weight=0.55<br>ORCL_Close: Weight=0.05",
          "Return: 47.79%<br>Volatility: 0.20<br>QCOM_Close: Weight=0.13<br>BABA_Close: Weight=0.71<br>BTI_Close: Weight=0.16",
          "Return: 37.50%<br>Volatility: 0.14<br>SO_Close: Weight=0.00<br>SRE_Close: Weight=0.00<br>SNAP_Close: Weight=0.00<br>MCD_Close: Weight=1.00",
          "Return: 22.65%<br>Volatility: 0.10<br>AMGN_Close: Weight=0.00<br>RMD_Close: Weight=0.13<br>NEE_Close: Weight=0.77<br>QCOM_Close: Weight=0.10",
          "Return: 17.84%<br>Volatility: 0.10<br>PG_Close: Weight=0.06<br>EXC_Close: Weight=0.26<br>IBM_Close: Weight=0.00<br>EMR_Close: Weight=0.33<br>SYK_Close: Weight=0.36",
          "Return: 26.47%<br>Volatility: 0.10<br>MRK_Close: Weight=0.00<br>AAPL_Close: Weight=0.17<br>MMM_Close: Weight=0.56<br>ORCL_Close: Weight=0.06<br>GOOG_Close: Weight=0.21",
          "Return: 25.23%<br>Volatility: 0.12<br>ACN_Close: Weight=0.84<br>GM_Close: Weight=0.15<br>XOM_Close: Weight=0.01<br>BSX_Close: Weight=0.00<br>GIS_Close: Weight=0.00",
          "Return: 32.66%<br>Volatility: 0.12<br>TMO_Close: Weight=0.26<br>WMT_Close: Weight=0.57<br>MO_Close: Weight=0.00<br>ETN_Close: Weight=0.16",
          "Return: 23.78%<br>Volatility: 0.11<br>PFE_Close: Weight=0.43<br>SNAP_Close: Weight=0.00<br>AMZN_Close: Weight=0.29<br>META_Close: Weight=0.28",
          "Return: 11.09%<br>Volatility: 0.12<br>BMY_Close: Weight=0.43<br>BTI_Close: Weight=0.43<br>BIIB_Close: Weight=0.13",
          "Return: 34.17%<br>Volatility: 0.11<br>ABT_Close: Weight=0.23<br>UNH_Close: Weight=0.40<br>BSX_Close: Weight=0.00<br>MSFT_Close: Weight=0.37",
          "Return: 30.32%<br>Volatility: 0.11<br>ADBE_Close: Weight=0.30<br>NEE_Close: Weight=0.66<br>EXC_Close: Weight=0.00<br>TSLA_Close: Weight=0.03",
          "Return: 13.08%<br>Volatility: 0.10<br>ORCL_Close: Weight=0.20<br>EXC_Close: Weight=0.42<br>PM_Close: Weight=0.00<br>DHR_Close: Weight=0.21<br>QCOM_Close: Weight=0.18",
          "Return: 40.42%<br>Volatility: 0.19<br>REGN_Close: Weight=0.00<br>AMZN_Close: Weight=0.61<br>CMCSA_Close: Weight=0.13<br>VRTX_Close: Weight=0.25",
          "Return: 29.61%<br>Volatility: 0.10<br>MMM_Close: Weight=0.35<br>EXC_Close: Weight=0.10<br>ADBE_Close: Weight=0.11<br>V_Close: Weight=0.44",
          "Return: 32.16%<br>Volatility: 0.12<br>GOOGL_Close: Weight=0.25<br>EW_Close: Weight=0.00<br>ISRG_Close: Weight=0.50<br>KR_Close: Weight=0.00<br>PFE_Close: Weight=0.25",
          "Return: 30.94%<br>Volatility: 0.10<br>CPB_Close: Weight=0.00<br>SAP_Close: Weight=0.17<br>GIS_Close: Weight=0.00<br>ISRG_Close: Weight=0.33<br>NEE_Close: Weight=0.50",
          "Return: 18.51%<br>Volatility: 0.09<br>SAP_Close: Weight=0.39<br>TSLA_Close: Weight=0.05<br>EXC_Close: Weight=0.25<br>RTX_Close: Weight=0.31",
          "Return: 31.91%<br>Volatility: 0.09<br>KO_Close: Weight=0.32<br>SYY_Close: Weight=0.16<br>ABBV_Close: Weight=0.36<br>INTC_Close: Weight=0.16<br>SYK_Close: Weight=0.00",
          "Return: 17.50%<br>Volatility: 0.14<br>RDY_Close: Weight=0.00<br>NKE_Close: Weight=0.19<br>SYY_Close: Weight=0.81",
          "Return: 59.54%<br>Volatility: 0.17<br>MO_Close: Weight=0.00<br>PM_Close: Weight=0.00<br>BA_Close: Weight=1.00",
          "Return: 28.20%<br>Volatility: 0.13<br>COST_Close: Weight=0.14<br>ADBE_Close: Weight=0.56<br>SO_Close: Weight=0.00<br>GS_Close: Weight=0.00<br>PG_Close: Weight=0.30",
          "Return: 35.80%<br>Volatility: 0.11<br>AAPL_Close: Weight=0.00<br>AMZN_Close: Weight=0.02<br>MSFT_Close: Weight=0.45<br>UNH_Close: Weight=0.53",
          "Return: 32.80%<br>Volatility: 0.13<br>NFLX_Close: Weight=0.10<br>ABT_Close: Weight=0.58<br>DHR_Close: Weight=0.00<br>GOOGL_Close: Weight=0.20<br>VRTX_Close: Weight=0.12",
          "Return: 13.08%<br>Volatility: 0.15<br>K_Close: Weight=0.00<br>XOM_Close: Weight=0.29<br>MS_Close: Weight=0.71",
          "Return: 32.59%<br>Volatility: 0.11<br>WMT_Close: Weight=0.50<br>BTI_Close: Weight=0.00<br>SRE_Close: Weight=0.00<br>SAP_Close: Weight=0.39<br>RMD_Close: Weight=0.10",
          "Return: 61.33%<br>Volatility: 0.38<br>VRTX_Close: Weight=1.00<br>GE_Close: Weight=0.00<br>PM_Close: Weight=0.00<br>ZBH_Close: Weight=0.00",
          "Return: 19.77%<br>Volatility: 0.08<br>KO_Close: Weight=0.48<br>CSCO_Close: Weight=0.08<br>ABT_Close: Weight=0.42<br>CPB_Close: Weight=0.00<br>WFC_Close: Weight=0.02",
          "Return: 20.07%<br>Volatility: 0.11<br>NFLX_Close: Weight=0.27<br>SYY_Close: Weight=0.41<br>DUK_Close: Weight=0.32",
          "Return: 20.71%<br>Volatility: 0.10<br>PFE_Close: Weight=0.40<br>META_Close: Weight=0.54<br>CMCSA_Close: Weight=0.06",
          "Return: 35.07%<br>Volatility: 0.19<br>REGN_Close: Weight=0.00<br>AMGN_Close: Weight=0.00<br>AMZN_Close: Weight=0.91<br>MRK_Close: Weight=0.00<br>GIS_Close: Weight=0.09",
          "Return: 43.67%<br>Volatility: 0.13<br>SRE_Close: Weight=0.00<br>DE_Close: Weight=0.49<br>ISRG_Close: Weight=0.44<br>COST_Close: Weight=0.06",
          "Return: 30.53%<br>Volatility: 0.17<br>LLY_Close: Weight=0.15<br>T_Close: Weight=0.00<br>AMZN_Close: Weight=0.75<br>BTI_Close: Weight=0.11",
          "Return: 21.92%<br>Volatility: 0.09<br>JPM_Close: Weight=0.28<br>DUK_Close: Weight=0.14<br>BMY_Close: Weight=0.04<br>AMD_Close: Weight=0.00<br>MMM_Close: Weight=0.54",
          "Return: 37.07%<br>Volatility: 0.12<br>LMT_Close: Weight=0.57<br>ADBE_Close: Weight=0.15<br>EW_Close: Weight=0.02<br>BABA_Close: Weight=0.26",
          "Return: 33.33%<br>Volatility: 0.10<br>TMO_Close: Weight=0.12<br>HON_Close: Weight=0.64<br>BABA_Close: Weight=0.24",
          "Return: 18.00%<br>Volatility: 0.13<br>BAC_Close: Weight=0.30<br>BSX_Close: Weight=0.00<br>RTX_Close: Weight=0.70",
          "Return: 25.35%<br>Volatility: 0.11<br>WFC_Close: Weight=0.02<br>CPB_Close: Weight=0.00<br>MMM_Close: Weight=0.61<br>SNAP_Close: Weight=0.00<br>SAP_Close: Weight=0.37",
          "Return: 32.65%<br>Volatility: 0.12<br>AMZN_Close: Weight=0.23<br>GILD_Close: Weight=0.00<br>DUK_Close: Weight=0.43<br>BABA_Close: Weight=0.35",
          "Return: 20.42%<br>Volatility: 0.08<br>META_Close: Weight=0.25<br>AEP_Close: Weight=0.42<br>SAP_Close: Weight=0.24<br>VZ_Close: Weight=0.09<br>SNAP_Close: Weight=0.00",
          "Return: 30.82%<br>Volatility: 0.10<br>ETN_Close: Weight=0.00<br>LLY_Close: Weight=0.00<br>GOOGL_Close: Weight=0.25<br>HD_Close: Weight=0.54<br>INTC_Close: Weight=0.21",
          "Return: 16.59%<br>Volatility: 0.14<br>VZ_Close: Weight=0.41<br>CPB_Close: Weight=0.00<br>RMD_Close: Weight=0.59",
          "Return: 43.06%<br>Volatility: 0.18<br>F_Close: Weight=0.00<br>PM_Close: Weight=0.00<br>WMT_Close: Weight=1.00<br>UA_Close: Weight=0.00",
          "Return: 55.87%<br>Volatility: 0.15<br>BABA_Close: Weight=0.26<br>SYK_Close: Weight=0.18<br>CAT_Close: Weight=0.56",
          "Return: 14.46%<br>Volatility: 0.08<br>PEP_Close: Weight=0.59<br>MO_Close: Weight=0.00<br>RTX_Close: Weight=0.41",
          "Return: 18.67%<br>Volatility: 0.10<br>AMD_Close: Weight=0.00<br>CRM_Close: Weight=0.47<br>PEP_Close: Weight=0.53",
          "Return: 30.98%<br>Volatility: 0.13<br>PM_Close: Weight=0.00<br>V_Close: Weight=1.00<br>REGN_Close: Weight=0.00",
          "Return: 35.82%<br>Volatility: 0.10<br>BABA_Close: Weight=0.23<br>DE_Close: Weight=0.37<br>PEP_Close: Weight=0.40<br>SRE_Close: Weight=0.00",
          "Return: 20.63%<br>Volatility: 0.09<br>EXC_Close: Weight=0.25<br>SRE_Close: Weight=0.00<br>CRM_Close: Weight=0.43<br>EMR_Close: Weight=0.32",
          "Return: 12.95%<br>Volatility: 0.08<br>GIS_Close: Weight=0.00<br>BIIB_Close: Weight=0.08<br>KO_Close: Weight=0.92",
          "Return: 54.05%<br>Volatility: 0.18<br>ORCL_Close: Weight=0.00<br>PFE_Close: Weight=0.00<br>MO_Close: Weight=0.00<br>SNAP_Close: Weight=0.00<br>ABBV_Close: Weight=1.00",
          "Return: 14.73%<br>Volatility: 0.10<br>TMO_Close: Weight=0.56<br>DUK_Close: Weight=0.44<br>GE_Close: Weight=0.00",
          "Return: 17.76%<br>Volatility: 0.08<br>JNJ_Close: Weight=0.41<br>TMO_Close: Weight=0.21<br>COST_Close: Weight=0.01<br>PFE_Close: Weight=0.09<br>SYY_Close: Weight=0.28",
          "Return: 57.00%<br>Volatility: 0.13<br>ZBH_Close: Weight=0.00<br>ABBV_Close: Weight=0.46<br>REGN_Close: Weight=0.00<br>BA_Close: Weight=0.54<br>MS_Close: Weight=0.00",
          "Return: 25.14%<br>Volatility: 0.09<br>SYK_Close: Weight=0.12<br>HON_Close: Weight=0.71<br>GOOG_Close: Weight=0.18",
          "Return: 9.22%<br>Volatility: 0.11<br>SRE_Close: Weight=0.00<br>PFE_Close: Weight=1.00<br>GE_Close: Weight=0.00",
          "Return: 9.80%<br>Volatility: 0.23<br>BSX_Close: Weight=0.00<br>REGN_Close: Weight=0.00<br>BIIB_Close: Weight=1.00",
          "Return: 25.24%<br>Volatility: 0.08<br>KO_Close: Weight=0.37<br>PFE_Close: Weight=0.11<br>MSFT_Close: Weight=0.24<br>GS_Close: Weight=0.00<br>MA_Close: Weight=0.28",
          "Return: 35.36%<br>Volatility: 0.13<br>JPM_Close: Weight=0.40<br>TMO_Close: Weight=0.03<br>BMY_Close: Weight=0.00<br>ISRG_Close: Weight=0.58",
          "Return: 35.66%<br>Volatility: 0.15<br>LLY_Close: Weight=0.04<br>CPB_Close: Weight=0.00<br>MSFT_Close: Weight=0.91<br>NFLX_Close: Weight=0.05<br>MDT_Close: Weight=0.00",
          "Return: 31.74%<br>Volatility: 0.13<br>PM_Close: Weight=0.00<br>UNH_Close: Weight=0.87<br>BTI_Close: Weight=0.13",
          "Return: 32.84%<br>Volatility: 0.11<br>MMM_Close: Weight=0.42<br>MA_Close: Weight=0.54<br>SYK_Close: Weight=0.04",
          "Return: 47.14%<br>Volatility: 0.15<br>AMD_Close: Weight=0.00<br>QCOM_Close: Weight=0.07<br>ABBV_Close: Weight=0.81<br>MS_Close: Weight=0.12",
          "Return: 34.72%<br>Volatility: 0.11<br>AMZN_Close: Weight=0.15<br>BAC_Close: Weight=0.12<br>ETN_Close: Weight=0.00<br>ISRG_Close: Weight=0.33<br>MMM_Close: Weight=0.39",
          "Return: 17.65%<br>Volatility: 0.18<br>BAC_Close: Weight=0.82<br>MDT_Close: Weight=0.00<br>GILD_Close: Weight=0.18",
          "Return: 25.42%<br>Volatility: 0.10<br>AAPL_Close: Weight=0.10<br>GS_Close: Weight=0.00<br>DUK_Close: Weight=0.20<br>REGN_Close: Weight=0.00<br>V_Close: Weight=0.70",
          "Return: 50.29%<br>Volatility: 0.15<br>MS_Close: Weight=0.00<br>CRM_Close: Weight=0.27<br>AMGN_Close: Weight=0.00<br>EW_Close: Weight=0.08<br>CAT_Close: Weight=0.65",
          "Return: 42.30%<br>Volatility: 0.11<br>DE_Close: Weight=0.31<br>ISRG_Close: Weight=0.27<br>MCD_Close: Weight=0.42<br>RMD_Close: Weight=0.00",
          "Return: 33.16%<br>Volatility: 0.11<br>MCD_Close: Weight=0.71<br>SAP_Close: Weight=0.29<br>IBM_Close: Weight=0.00",
          "Return: 26.55%<br>Volatility: 0.10<br>MO_Close: Weight=0.00<br>VZ_Close: Weight=0.20<br>F_Close: Weight=0.02<br>V_Close: Weight=0.78",
          "Return: 50.01%<br>Volatility: 0.16<br>PYPL_Close: Weight=0.55<br>VZ_Close: Weight=0.21<br>VRTX_Close: Weight=0.17<br>RMD_Close: Weight=0.07",
          "Return: 15.21%<br>Volatility: 0.10<br>BAC_Close: Weight=0.18<br>PFE_Close: Weight=0.22<br>GS_Close: Weight=0.00<br>ORCL_Close: Weight=0.18<br>RTX_Close: Weight=0.42",
          "Return: 43.68%<br>Volatility: 0.12<br>TXN_Close: Weight=0.28<br>EXC_Close: Weight=0.25<br>CAT_Close: Weight=0.47",
          "Return: 24.38%<br>Volatility: 0.08<br>AEP_Close: Weight=0.49<br>TXN_Close: Weight=0.41<br>MS_Close: Weight=0.10",
          "Return: 23.47%<br>Volatility: 0.10<br>CMCSA_Close: Weight=0.09<br>RTX_Close: Weight=0.29<br>ABT_Close: Weight=0.61",
          "Return: 12.32%<br>Volatility: 0.11<br>RMD_Close: Weight=0.44<br>XOM_Close: Weight=0.30<br>NKE_Close: Weight=0.17<br>GILD_Close: Weight=0.09",
          "Return: 57.96%<br>Volatility: 0.15<br>BSX_Close: Weight=0.00<br>NFLX_Close: Weight=0.03<br>PYPL_Close: Weight=0.39<br>ABBV_Close: Weight=0.58",
          "Return: 13.21%<br>Volatility: 0.09<br>ZBH_Close: Weight=0.00<br>KO_Close: Weight=1.00<br>KR_Close: Weight=0.00<br>SO_Close: Weight=0.00",
          "Return: 47.04%<br>Volatility: 0.14<br>BABA_Close: Weight=0.35<br>WMT_Close: Weight=0.54<br>BAC_Close: Weight=0.11<br>UA_Close: Weight=0.00<br>K_Close: Weight=0.00",
          "Return: 36.04%<br>Volatility: 0.14<br>NFLX_Close: Weight=0.01<br>ADBE_Close: Weight=0.24<br>MSFT_Close: Weight=0.61<br>MS_Close: Weight=0.14",
          "Return: 24.90%<br>Volatility: 0.09<br>ACN_Close: Weight=0.29<br>HON_Close: Weight=0.57<br>SYY_Close: Weight=0.14<br>GS_Close: Weight=0.00",
          "Return: 59.06%<br>Volatility: 0.21<br>PYPL_Close: Weight=0.86<br>REGN_Close: Weight=0.00<br>EW_Close: Weight=0.14",
          "Return: 35.95%<br>Volatility: 0.11<br>VZ_Close: Weight=0.00<br>WMT_Close: Weight=0.33<br>HD_Close: Weight=0.43<br>INTC_Close: Weight=0.24<br>PM_Close: Weight=0.00",
          "Return: 43.51%<br>Volatility: 0.18<br>ISRG_Close: Weight=0.88<br>TMO_Close: Weight=0.12<br>SO_Close: Weight=0.00<br>REGN_Close: Weight=0.00<br>MO_Close: Weight=0.00",
          "Return: 36.22%<br>Volatility: 0.16<br>AMGN_Close: Weight=0.00<br>SO_Close: Weight=0.00<br>TXN_Close: Weight=0.97<br>CMCSA_Close: Weight=0.03",
          "Return: 20.49%<br>Volatility: 0.08<br>LMT_Close: Weight=0.57<br>WFC_Close: Weight=0.00<br>SYY_Close: Weight=0.17<br>PEP_Close: Weight=0.26",
          "Return: 35.59%<br>Volatility: 0.14<br>ISRG_Close: Weight=0.63<br>RTX_Close: Weight=0.37<br>DHR_Close: Weight=0.00",
          "Return: 30.87%<br>Volatility: 0.11<br>VZ_Close: Weight=0.15<br>CVX_Close: Weight=0.34<br>ISRG_Close: Weight=0.51",
          "Return: 21.76%<br>Volatility: 0.11<br>WFC_Close: Weight=0.05<br>BMY_Close: Weight=0.08<br>SYK_Close: Weight=0.31<br>CRM_Close: Weight=0.48<br>RMD_Close: Weight=0.08",
          "Return: 2.98%<br>Volatility: 0.15<br>KR_Close: Weight=0.00<br>F_Close: Weight=0.64<br>GS_Close: Weight=0.36",
          "Return: 27.57%<br>Volatility: 0.10<br>ABT_Close: Weight=0.35<br>CRM_Close: Weight=0.23<br>MMM_Close: Weight=0.42",
          "Return: 12.79%<br>Volatility: 0.12<br>COST_Close: Weight=0.31<br>GILD_Close: Weight=0.02<br>ETN_Close: Weight=0.67",
          "Return: 37.78%<br>Volatility: 0.10<br>SYK_Close: Weight=0.05<br>MMM_Close: Weight=0.29<br>MS_Close: Weight=0.00<br>PEP_Close: Weight=0.27<br>CAT_Close: Weight=0.40",
          "Return: 29.09%<br>Volatility: 0.10<br>HON_Close: Weight=0.62<br>GOOGL_Close: Weight=0.05<br>TXN_Close: Weight=0.33",
          "Return: 30.69%<br>Volatility: 0.09<br>PFE_Close: Weight=0.09<br>INTC_Close: Weight=0.07<br>MSFT_Close: Weight=0.34<br>HD_Close: Weight=0.42<br>RTX_Close: Weight=0.07",
          "Return: 16.14%<br>Volatility: 0.09<br>RTX_Close: Weight=0.46<br>EXC_Close: Weight=0.33<br>UA_Close: Weight=0.00<br>REGN_Close: Weight=0.01<br>RMD_Close: Weight=0.21",
          "Return: 24.18%<br>Volatility: 0.12<br>BMY_Close: Weight=0.14<br>AMD_Close: Weight=0.00<br>META_Close: Weight=0.59<br>CSCO_Close: Weight=0.20<br>QCOM_Close: Weight=0.06",
          "Return: 38.37%<br>Volatility: 0.13<br>KR_Close: Weight=0.00<br>UNH_Close: Weight=0.55<br>CRM_Close: Weight=0.09<br>ISRG_Close: Weight=0.37<br>UA_Close: Weight=0.00",
          "Return: 40.09%<br>Volatility: 0.15<br>BSX_Close: Weight=0.00<br>NVDA_Close: Weight=0.24<br>WFC_Close: Weight=0.01<br>MMM_Close: Weight=0.75",
          "Return: 31.23%<br>Volatility: 0.11<br>UNH_Close: Weight=0.59<br>SNAP_Close: Weight=0.00<br>META_Close: Weight=0.31<br>COST_Close: Weight=0.08<br>NKE_Close: Weight=0.02",
          "Return: 28.06%<br>Volatility: 0.11<br>COST_Close: Weight=0.10<br>RMD_Close: Weight=0.09<br>V_Close: Weight=0.81",
          "Return: 50.73%<br>Volatility: 0.17<br>GE_Close: Weight=0.00<br>MA_Close: Weight=0.52<br>BSX_Close: Weight=0.00<br>PYPL_Close: Weight=0.48",
          "Return: 16.67%<br>Volatility: 0.12<br>MRK_Close: Weight=0.00<br>UA_Close: Weight=0.00<br>CSCO_Close: Weight=0.36<br>RTX_Close: Weight=0.64",
          "Return: 24.18%<br>Volatility: 0.11<br>T_Close: Weight=0.00<br>INTC_Close: Weight=0.46<br>AMGN_Close: Weight=0.00<br>JNJ_Close: Weight=0.54<br>AMD_Close: Weight=0.00",
          "Return: 33.46%<br>Volatility: 0.12<br>UNH_Close: Weight=0.67<br>META_Close: Weight=0.33<br>K_Close: Weight=0.00<br>WFC_Close: Weight=0.00",
          "Return: 20.10%<br>Volatility: 0.10<br>SAP_Close: Weight=0.54<br>PG_Close: Weight=0.11<br>TMO_Close: Weight=0.35",
          "Return: 27.69%<br>Volatility: 0.19<br>COST_Close: Weight=0.39<br>NFLX_Close: Weight=0.61<br>K_Close: Weight=0.00",
          "Return: 14.71%<br>Volatility: 0.19<br>SO_Close: Weight=0.00<br>GM_Close: Weight=1.00<br>GE_Close: Weight=0.00",
          "Return: 18.90%<br>Volatility: 0.08<br>NKE_Close: Weight=0.09<br>AEP_Close: Weight=0.52<br>GOOGL_Close: Weight=0.39",
          "Return: 15.94%<br>Volatility: 0.09<br>MS_Close: Weight=0.22<br>TSLA_Close: Weight=0.07<br>SYK_Close: Weight=0.38<br>DUK_Close: Weight=0.32",
          "Return: 27.62%<br>Volatility: 0.15<br>CMCSA_Close: Weight=0.14<br>MDT_Close: Weight=0.00<br>META_Close: Weight=0.86",
          "Return: 39.77%<br>Volatility: 0.10<br>WMT_Close: Weight=0.28<br>SYK_Close: Weight=0.00<br>MMM_Close: Weight=0.27<br>ABBV_Close: Weight=0.33<br>JPM_Close: Weight=0.12",
          "Return: 40.45%<br>Volatility: 0.16<br>RMD_Close: Weight=0.18<br>IBM_Close: Weight=0.00<br>EMR_Close: Weight=0.01<br>DE_Close: Weight=0.81",
          "Return: 8.01%<br>Volatility: 0.14<br>UA_Close: Weight=0.00<br>WFC_Close: Weight=0.54<br>BIIB_Close: Weight=0.46",
          "Return: 54.01%<br>Volatility: 0.18<br>NVDA_Close: Weight=0.25<br>DE_Close: Weight=0.75<br>RDY_Close: Weight=0.00",
          "Return: 30.08%<br>Volatility: 0.16<br>BMY_Close: Weight=0.15<br>ETN_Close: Weight=0.36<br>VRTX_Close: Weight=0.33<br>QCOM_Close: Weight=0.15<br>CPB_Close: Weight=0.00",
          "Return: 47.00%<br>Volatility: 0.13<br>CAT_Close: Weight=0.53<br>MDT_Close: Weight=0.00<br>ABT_Close: Weight=0.42<br>SYK_Close: Weight=0.05",
          "Return: 52.33%<br>Volatility: 0.13<br>CAT_Close: Weight=0.47<br>MA_Close: Weight=0.27<br>ISRG_Close: Weight=0.27",
          "Return: 51.54%<br>Volatility: 0.15<br>DIS_Close: Weight=0.00<br>SYY_Close: Weight=0.24<br>UA_Close: Weight=0.00<br>CVX_Close: Weight=0.03<br>CAT_Close: Weight=0.72",
          "Return: 29.52%<br>Volatility: 0.11<br>UNH_Close: Weight=0.70<br>JNJ_Close: Weight=0.30<br>GIS_Close: Weight=0.00",
          "Return: 20.86%<br>Volatility: 0.11<br>SAP_Close: Weight=0.67<br>EW_Close: Weight=0.21<br>CMCSA_Close: Weight=0.12",
          "Return: 7.65%<br>Volatility: 0.14<br>NKE_Close: Weight=0.51<br>LLY_Close: Weight=0.49<br>PM_Close: Weight=0.00<br>GIS_Close: Weight=0.00<br>UA_Close: Weight=0.00",
          "Return: 34.05%<br>Volatility: 0.14<br>GILD_Close: Weight=0.00<br>EW_Close: Weight=0.07<br>UNH_Close: Weight=0.93",
          "Return: 30.59%<br>Volatility: 0.10<br>HON_Close: Weight=0.56<br>MA_Close: Weight=0.44<br>QCOM_Close: Weight=0.00",
          "Return: 30.21%<br>Volatility: 0.12<br>BAC_Close: Weight=0.02<br>RTX_Close: Weight=0.27<br>GM_Close: Weight=0.05<br>T_Close: Weight=0.00<br>TXN_Close: Weight=0.66",
          "Return: 20.34%<br>Volatility: 0.11<br>JPM_Close: Weight=0.46<br>SRE_Close: Weight=0.03<br>SYK_Close: Weight=0.51",
          "Return: 32.38%<br>Volatility: 0.10<br>GE_Close: Weight=0.00<br>HD_Close: Weight=0.49<br>SYK_Close: Weight=0.16<br>TXN_Close: Weight=0.35",
          "Return: 25.64%<br>Volatility: 0.12<br>LLY_Close: Weight=0.00<br>ETN_Close: Weight=0.20<br>ABT_Close: Weight=0.80",
          "Return: 12.82%<br>Volatility: 0.09<br>PEP_Close: Weight=0.78<br>ORCL_Close: Weight=0.22<br>SO_Close: Weight=0.00",
          "Return: 22.41%<br>Volatility: 0.09<br>AEP_Close: Weight=0.46<br>AMGN_Close: Weight=0.00<br>ABT_Close: Weight=0.54",
          "Return: 25.07%<br>Volatility: 0.12<br>MMM_Close: Weight=0.88<br>XOM_Close: Weight=0.07<br>AMD_Close: Weight=0.00<br>WFC_Close: Weight=0.05",
          "Return: 23.54%<br>Volatility: 0.11<br>EXC_Close: Weight=0.37<br>BTI_Close: Weight=0.08<br>INTC_Close: Weight=0.55",
          "Return: 26.26%<br>Volatility: 0.14<br>BSX_Close: Weight=0.00<br>NFLX_Close: Weight=0.24<br>SAP_Close: Weight=0.76",
          "Return: 39.40%<br>Volatility: 0.16<br>MS_Close: Weight=0.20<br>AMD_Close: Weight=0.00<br>QCOM_Close: Weight=0.04<br>ISRG_Close: Weight=0.76",
          "Return: 28.14%<br>Volatility: 0.08<br>LMT_Close: Weight=0.35<br>MRK_Close: Weight=0.00<br>HD_Close: Weight=0.36<br>EMR_Close: Weight=0.01<br>MMM_Close: Weight=0.28",
          "Return: 53.88%<br>Volatility: 0.14<br>BA_Close: Weight=0.69<br>ADBE_Close: Weight=0.25<br>SAP_Close: Weight=0.06<br>SRE_Close: Weight=0.00",
          "Return: 45.23%<br>Volatility: 0.22<br>AMZN_Close: Weight=0.70<br>VRTX_Close: Weight=0.30<br>SO_Close: Weight=0.00",
          "Return: 26.40%<br>Volatility: 0.10<br>SYY_Close: Weight=0.28<br>AMZN_Close: Weight=0.22<br>META_Close: Weight=0.24<br>JPM_Close: Weight=0.25",
          "Return: 12.17%<br>Volatility: 0.08<br>DUK_Close: Weight=0.48<br>CVX_Close: Weight=0.27<br>BAC_Close: Weight=0.24<br>CPB_Close: Weight=0.00<br>SNAP_Close: Weight=0.00",
          "Return: 28.14%<br>Volatility: 0.10<br>DHR_Close: Weight=0.00<br>HD_Close: Weight=0.42<br>HON_Close: Weight=0.58",
          "Return: 19.30%<br>Volatility: 0.10<br>EXC_Close: Weight=0.31<br>AAPL_Close: Weight=0.37<br>MDT_Close: Weight=0.00<br>SYY_Close: Weight=0.31",
          "Return: 37.68%<br>Volatility: 0.13<br>MO_Close: Weight=0.00<br>ISRG_Close: Weight=0.50<br>ABT_Close: Weight=0.50",
          "Return: 13.76%<br>Volatility: 0.16<br>GE_Close: Weight=0.00<br>GIS_Close: Weight=0.00<br>RDY_Close: Weight=0.00<br>AMD_Close: Weight=0.00<br>ETN_Close: Weight=1.00",
          "Return: 30.79%<br>Volatility: 0.10<br>MMM_Close: Weight=0.43<br>GILD_Close: Weight=0.00<br>UNH_Close: Weight=0.52<br>ETN_Close: Weight=0.05",
          "Return: 53.96%<br>Volatility: 0.17<br>TSLA_Close: Weight=0.00<br>PYPL_Close: Weight=0.37<br>BABA_Close: Weight=0.25<br>MA_Close: Weight=0.37",
          "Return: 55.11%<br>Volatility: 0.14<br>BA_Close: Weight=0.65<br>DIS_Close: Weight=0.00<br>GOOGL_Close: Weight=0.14<br>BABA_Close: Weight=0.20<br>SRE_Close: Weight=0.00",
          "Return: 41.99%<br>Volatility: 0.11<br>COST_Close: Weight=0.03<br>PYPL_Close: Weight=0.26<br>AEP_Close: Weight=0.26<br>ABBV_Close: Weight=0.38<br>DIS_Close: Weight=0.07",
          "Return: 35.60%<br>Volatility: 0.12<br>ABT_Close: Weight=0.52<br>WMT_Close: Weight=0.48<br>SNAP_Close: Weight=0.00",
          "Return: 31.04%<br>Volatility: 0.13<br>BAC_Close: Weight=0.12<br>AMGN_Close: Weight=0.00<br>HD_Close: Weight=0.88",
          "Return: 35.25%<br>Volatility: 0.20<br>SRE_Close: Weight=0.00<br>ETN_Close: Weight=0.55<br>VRTX_Close: Weight=0.45",
          "Return: 51.70%<br>Volatility: 0.14<br>CAT_Close: Weight=0.55<br>MSFT_Close: Weight=0.45<br>BSX_Close: Weight=0.00<br>CSCO_Close: Weight=0.00<br>MDT_Close: Weight=0.00",
          "Return: 18.22%<br>Volatility: 0.08<br>NFLX_Close: Weight=0.11<br>KO_Close: Weight=0.58<br>RMD_Close: Weight=0.09<br>EMR_Close: Weight=0.21<br>MRK_Close: Weight=0.00",
          "Return: 34.32%<br>Volatility: 0.13<br>ADBE_Close: Weight=0.36<br>WFC_Close: Weight=0.02<br>ABT_Close: Weight=0.61",
          "Return: 26.83%<br>Volatility: 0.09<br>MO_Close: Weight=0.00<br>MA_Close: Weight=0.55<br>VZ_Close: Weight=0.14<br>AEP_Close: Weight=0.31",
          "Return: 24.41%<br>Volatility: 0.09<br>JNJ_Close: Weight=0.30<br>MO_Close: Weight=0.00<br>V_Close: Weight=0.60<br>DUK_Close: Weight=0.09",
          "Return: 39.88%<br>Volatility: 0.12<br>WMT_Close: Weight=0.49<br>EXC_Close: Weight=0.33<br>LLY_Close: Weight=0.00<br>DUK_Close: Weight=0.00<br>NVDA_Close: Weight=0.18",
          "Return: 12.25%<br>Volatility: 0.10<br>PFE_Close: Weight=0.54<br>BIIB_Close: Weight=0.03<br>T_Close: Weight=0.00<br>CSCO_Close: Weight=0.44",
          "Return: 8.23%<br>Volatility: 0.10<br>XOM_Close: Weight=0.37<br>BMY_Close: Weight=0.41<br>CMCSA_Close: Weight=0.23",
          "Return: 11.62%<br>Volatility: 0.08<br>PEP_Close: Weight=0.68<br>DHR_Close: Weight=0.21<br>BSX_Close: Weight=0.00<br>CMCSA_Close: Weight=0.10<br>RDY_Close: Weight=0.00",
          "Return: 38.11%<br>Volatility: 0.10<br>CSCO_Close: Weight=0.00<br>CAT_Close: Weight=0.40<br>NEE_Close: Weight=0.47<br>PFE_Close: Weight=0.12",
          "Return: 26.02%<br>Volatility: 0.11<br>PFE_Close: Weight=0.12<br>ABT_Close: Weight=0.51<br>GOOG_Close: Weight=0.37",
          "Return: 28.27%<br>Volatility: 0.10<br>NFLX_Close: Weight=0.02<br>HON_Close: Weight=0.76<br>AMZN_Close: Weight=0.22<br>GIS_Close: Weight=0.00",
          "Return: 21.33%<br>Volatility: 0.10<br>META_Close: Weight=0.53<br>EXC_Close: Weight=0.39<br>F_Close: Weight=0.08<br>SNAP_Close: Weight=0.00<br>IBM_Close: Weight=0.00",
          "Return: 49.36%<br>Volatility: 0.15<br>PFE_Close: Weight=0.16<br>CAT_Close: Weight=0.73<br>BSX_Close: Weight=0.00<br>BMY_Close: Weight=0.04<br>DHR_Close: Weight=0.07",
          "Return: 33.60%<br>Volatility: 0.12<br>MRK_Close: Weight=0.00<br>GIS_Close: Weight=0.00<br>HD_Close: Weight=0.80<br>NFLX_Close: Weight=0.20",
          "Return: 46.67%<br>Volatility: 0.11<br>BA_Close: Weight=0.49<br>RTX_Close: Weight=0.00<br>DE_Close: Weight=0.27<br>TMO_Close: Weight=0.24",
          "Return: 23.11%<br>Volatility: 0.13<br>RTX_Close: Weight=0.52<br>WFC_Close: Weight=0.00<br>MS_Close: Weight=0.19<br>NFLX_Close: Weight=0.29",
          "Return: 44.70%<br>Volatility: 0.10<br>BA_Close: Weight=0.45<br>MCD_Close: Weight=0.44<br>AMGN_Close: Weight=0.00<br>EXC_Close: Weight=0.11",
          "Return: 31.54%<br>Volatility: 0.11<br>BABA_Close: Weight=0.36<br>AEP_Close: Weight=0.62<br>MRK_Close: Weight=0.00<br>DHR_Close: Weight=0.03<br>GIS_Close: Weight=0.00",
          "Return: 22.46%<br>Volatility: 0.09<br>EXC_Close: Weight=0.19<br>ZBH_Close: Weight=0.00<br>ACN_Close: Weight=0.51<br>SYY_Close: Weight=0.18<br>EW_Close: Weight=0.11",
          "Return: 44.94%<br>Volatility: 0.12<br>ACN_Close: Weight=0.34<br>META_Close: Weight=0.17<br>CAT_Close: Weight=0.47<br>REGN_Close: Weight=0.01<br>SO_Close: Weight=0.00",
          "Return: 17.94%<br>Volatility: 0.14<br>JPM_Close: Weight=0.78<br>VZ_Close: Weight=0.21<br>BSX_Close: Weight=0.01",
          "Return: 25.33%<br>Volatility: 0.17<br>ORCL_Close: Weight=0.28<br>NFLX_Close: Weight=0.51<br>NKE_Close: Weight=0.21<br>GE_Close: Weight=0.00",
          "Return: 29.50%<br>Volatility: 0.11<br>MDT_Close: Weight=0.00<br>EXC_Close: Weight=0.24<br>UNH_Close: Weight=0.76",
          "Return: 23.94%<br>Volatility: 0.16<br>QCOM_Close: Weight=0.18<br>BSX_Close: Weight=0.00<br>AAPL_Close: Weight=0.82<br>GIS_Close: Weight=0.00",
          "Return: 45.85%<br>Volatility: 0.13<br>HD_Close: Weight=0.59<br>PYPL_Close: Weight=0.41<br>SRE_Close: Weight=0.00<br>CMCSA_Close: Weight=0.00",
          "Return: 14.84%<br>Volatility: 0.16<br>ORCL_Close: Weight=0.49<br>K_Close: Weight=0.00<br>LLY_Close: Weight=0.23<br>TSLA_Close: Weight=0.28",
          "Return: 33.07%<br>Volatility: 0.10<br>TXN_Close: Weight=0.35<br>WMT_Close: Weight=0.35<br>JNJ_Close: Weight=0.30",
          "Return: 24.40%<br>Volatility: 0.09<br>AEP_Close: Weight=0.25<br>DUK_Close: Weight=0.00<br>MMM_Close: Weight=0.35<br>TSLA_Close: Weight=0.04<br>ACN_Close: Weight=0.36",
          "Return: 38.38%<br>Volatility: 0.15<br>QCOM_Close: Weight=0.03<br>DE_Close: Weight=0.78<br>ORCL_Close: Weight=0.18",
          "Return: 19.92%<br>Volatility: 0.16<br>JPM_Close: Weight=1.00<br>BSX_Close: Weight=0.00<br>RDY_Close: Weight=0.00",
          "Return: 26.63%<br>Volatility: 0.13<br>SO_Close: Weight=0.00<br>BTI_Close: Weight=0.04<br>ACN_Close: Weight=0.96",
          "Return: 50.86%<br>Volatility: 0.18<br>GS_Close: Weight=0.00<br>RTX_Close: Weight=0.26<br>ORCL_Close: Weight=0.04<br>LLY_Close: Weight=0.00<br>PYPL_Close: Weight=0.71",
          "Return: 30.68%<br>Volatility: 0.11<br>HD_Close: Weight=0.63<br>GOOG_Close: Weight=0.37<br>RDY_Close: Weight=0.00",
          "Return: 9.61%<br>Volatility: 0.08<br>GM_Close: Weight=0.28<br>IBM_Close: Weight=0.00<br>SO_Close: Weight=0.00<br>DUK_Close: Weight=0.52<br>VZ_Close: Weight=0.20",
          "Return: 16.72%<br>Volatility: 0.07<br>EW_Close: Weight=0.05<br>COST_Close: Weight=0.01<br>AEP_Close: Weight=0.51<br>ORCL_Close: Weight=0.12<br>JPM_Close: Weight=0.32",
          "Return: 45.70%<br>Volatility: 0.12<br>SYY_Close: Weight=0.17<br>BA_Close: Weight=0.57<br>INTC_Close: Weight=0.25<br>CMCSA_Close: Weight=0.01",
          "Return: 35.01%<br>Volatility: 0.13<br>SO_Close: Weight=0.00<br>MA_Close: Weight=0.84<br>QCOM_Close: Weight=0.00<br>MRK_Close: Weight=0.00<br>SYK_Close: Weight=0.16",
          "Return: 32.04%<br>Volatility: 0.12<br>EXC_Close: Weight=0.22<br>MA_Close: Weight=0.78<br>GILD_Close: Weight=0.00",
          "Return: 16.61%<br>Volatility: 0.08<br>BAC_Close: Weight=0.29<br>AEP_Close: Weight=0.70<br>SO_Close: Weight=0.00<br>BSX_Close: Weight=0.00<br>CMCSA_Close: Weight=0.01",
          "Return: 14.01%<br>Volatility: 0.08<br>MS_Close: Weight=0.22<br>SO_Close: Weight=0.00<br>GE_Close: Weight=0.00<br>KO_Close: Weight=0.78",
          "Return: 10.80%<br>Volatility: 0.13<br>VZ_Close: Weight=0.67<br>BIIB_Close: Weight=0.33<br>T_Close: Weight=0.00<br>BSX_Close: Weight=0.00",
          "Return: 25.07%<br>Volatility: 0.10<br>GS_Close: Weight=0.00<br>GE_Close: Weight=0.00<br>HON_Close: Weight=1.00",
          "Return: 36.99%<br>Volatility: 0.14<br>PM_Close: Weight=0.00<br>CSCO_Close: Weight=0.03<br>MA_Close: Weight=0.79<br>AMZN_Close: Weight=0.18",
          "Return: 33.80%<br>Volatility: 0.14<br>WMT_Close: Weight=0.71<br>SNAP_Close: Weight=0.00<br>GM_Close: Weight=0.11<br>DHR_Close: Weight=0.18<br>K_Close: Weight=0.00",
          "Return: 45.27%<br>Volatility: 0.13<br>QCOM_Close: Weight=0.00<br>SYY_Close: Weight=0.21<br>CAT_Close: Weight=0.51<br>META_Close: Weight=0.27<br>PG_Close: Weight=0.00",
          "Return: 19.51%<br>Volatility: 0.10<br>ORCL_Close: Weight=0.14<br>AEP_Close: Weight=0.65<br>NFLX_Close: Weight=0.20",
          "Return: 52.67%<br>Volatility: 0.15<br>PYPL_Close: Weight=0.41<br>GILD_Close: Weight=0.00<br>DE_Close: Weight=0.48<br>AMZN_Close: Weight=0.11",
          "Return: 45.54%<br>Volatility: 0.12<br>INTC_Close: Weight=0.15<br>CAT_Close: Weight=0.43<br>NFLX_Close: Weight=0.00<br>GIS_Close: Weight=0.00<br>V_Close: Weight=0.42",
          "Return: 21.70%<br>Volatility: 0.09<br>AEP_Close: Weight=0.40<br>MMM_Close: Weight=0.56<br>GS_Close: Weight=0.04",
          "Return: 31.22%<br>Volatility: 0.12<br>SYY_Close: Weight=0.23<br>K_Close: Weight=0.00<br>UNH_Close: Weight=0.77",
          "Return: 51.87%<br>Volatility: 0.17<br>PFE_Close: Weight=0.00<br>GS_Close: Weight=0.00<br>ABBV_Close: Weight=0.92<br>TSLA_Close: Weight=0.08",
          "Return: 17.87%<br>Volatility: 0.10<br>PG_Close: Weight=0.27<br>CRM_Close: Weight=0.63<br>WFC_Close: Weight=0.10<br>BSX_Close: Weight=0.00",
          "Return: 32.90%<br>Volatility: 0.09<br>QCOM_Close: Weight=0.00<br>EMR_Close: Weight=0.12<br>EXC_Close: Weight=0.17<br>MSFT_Close: Weight=0.36<br>WMT_Close: Weight=0.35",
          "Return: 4.48%<br>Volatility: 0.16<br>SRE_Close: Weight=0.17<br>GILD_Close: Weight=0.83<br>RDY_Close: Weight=0.00",
          "Return: 23.25%<br>Volatility: 0.13<br>ETN_Close: Weight=0.25<br>SRE_Close: Weight=0.04<br>GOOGL_Close: Weight=0.00<br>GOOG_Close: Weight=0.71",
          "Return: 20.74%<br>Volatility: 0.12<br>TMO_Close: Weight=0.50<br>UA_Close: Weight=0.00<br>JPM_Close: Weight=0.50",
          "Return: 31.10%<br>Volatility: 0.08<br>HD_Close: Weight=0.34<br>K_Close: Weight=0.00<br>WMT_Close: Weight=0.23<br>NEE_Close: Weight=0.43",
          "Return: 30.90%<br>Volatility: 0.11<br>LLY_Close: Weight=0.00<br>UNH_Close: Weight=0.60<br>DUK_Close: Weight=0.09<br>META_Close: Weight=0.31",
          "Return: 37.49%<br>Volatility: 0.13<br>MS_Close: Weight=0.04<br>V_Close: Weight=0.61<br>BABA_Close: Weight=0.26<br>SAP_Close: Weight=0.09",
          "Return: 31.67%<br>Volatility: 0.16<br>SNAP_Close: Weight=0.00<br>TSLA_Close: Weight=0.15<br>SO_Close: Weight=0.00<br>INTC_Close: Weight=0.85",
          "Return: 39.18%<br>Volatility: 0.12<br>SYK_Close: Weight=0.06<br>PYPL_Close: Weight=0.38<br>META_Close: Weight=0.00<br>EW_Close: Weight=0.03<br>NEE_Close: Weight=0.54",
          "Return: 4.51%<br>Volatility: 0.15<br>MRK_Close: Weight=0.00<br>LLY_Close: Weight=1.00<br>BSX_Close: Weight=0.00<br>UA_Close: Weight=0.00<br>K_Close: Weight=0.00",
          "Return: 31.84%<br>Volatility: 0.11<br>GS_Close: Weight=0.00<br>MMM_Close: Weight=0.39<br>MA_Close: Weight=0.38<br>SYK_Close: Weight=0.04<br>V_Close: Weight=0.19",
          "Return: 30.58%<br>Volatility: 0.17<br>BIIB_Close: Weight=0.00<br>K_Close: Weight=0.00<br>META_Close: Weight=1.00",
          "Return: 28.54%<br>Volatility: 0.11<br>PFE_Close: Weight=0.32<br>AMZN_Close: Weight=0.22<br>GILD_Close: Weight=0.00<br>TXN_Close: Weight=0.46",
          "Return: 28.20%<br>Volatility: 0.10<br>REGN_Close: Weight=0.00<br>JNJ_Close: Weight=0.38<br>BAC_Close: Weight=0.00<br>JPM_Close: Weight=0.22<br>WMT_Close: Weight=0.41",
          "Return: 34.28%<br>Volatility: 0.12<br>EMR_Close: Weight=0.16<br>ISRG_Close: Weight=0.54<br>JPM_Close: Weight=0.30<br>SRE_Close: Weight=0.00<br>BMY_Close: Weight=0.00",
          "Return: 42.54%<br>Volatility: 0.16<br>SYK_Close: Weight=0.48<br>K_Close: Weight=0.00<br>BABA_Close: Weight=0.52",
          "Return: 21.08%<br>Volatility: 0.09<br>KR_Close: Weight=0.00<br>PEP_Close: Weight=0.45<br>META_Close: Weight=0.24<br>EW_Close: Weight=0.10<br>GOOG_Close: Weight=0.21",
          "Return: 20.98%<br>Volatility: 0.10<br>PFE_Close: Weight=0.30<br>DHR_Close: Weight=0.00<br>TMO_Close: Weight=0.28<br>AAPL_Close: Weight=0.30<br>NFLX_Close: Weight=0.12",
          "Return: 23.20%<br>Volatility: 0.09<br>DUK_Close: Weight=0.31<br>BIIB_Close: Weight=0.05<br>HD_Close: Weight=0.64",
          "Return: 18.44%<br>Volatility: 0.12<br>RMD_Close: Weight=0.35<br>CMCSA_Close: Weight=0.12<br>SYY_Close: Weight=0.53",
          "Return: 31.39%<br>Volatility: 0.09<br>CMCSA_Close: Weight=0.05<br>BIIB_Close: Weight=0.00<br>MMM_Close: Weight=0.40<br>MCD_Close: Weight=0.50<br>BAC_Close: Weight=0.05",
          "Return: 53.18%<br>Volatility: 0.16<br>DHR_Close: Weight=0.13<br>CAT_Close: Weight=0.80<br>VZ_Close: Weight=0.07<br>MO_Close: Weight=0.00",
          "Return: 33.60%<br>Volatility: 0.12<br>NFLX_Close: Weight=0.20<br>ZBH_Close: Weight=0.00<br>HD_Close: Weight=0.80<br>BSX_Close: Weight=0.00",
          "Return: 31.83%<br>Volatility: 0.11<br>MA_Close: Weight=0.69<br>BTI_Close: Weight=0.00<br>LLY_Close: Weight=0.00<br>SYY_Close: Weight=0.31",
          "Return: 37.00%<br>Volatility: 0.15<br>QCOM_Close: Weight=0.07<br>BABA_Close: Weight=0.48<br>VZ_Close: Weight=0.27<br>CSCO_Close: Weight=0.18<br>GS_Close: Weight=0.00",
          "Return: 28.23%<br>Volatility: 0.13<br>GOOG_Close: Weight=0.27<br>BAC_Close: Weight=0.20<br>AMZN_Close: Weight=0.36<br>CSCO_Close: Weight=0.17<br>IBM_Close: Weight=0.00",
          "Return: 27.91%<br>Volatility: 0.08<br>VRTX_Close: Weight=0.08<br>HD_Close: Weight=0.34<br>HON_Close: Weight=0.35<br>PEP_Close: Weight=0.22",
          "Return: 58.59%<br>Volatility: 0.16<br>ABBV_Close: Weight=0.59<br>PYPL_Close: Weight=0.41<br>GOOGL_Close: Weight=0.00",
          "Return: 38.25%<br>Volatility: 0.11<br>CMCSA_Close: Weight=0.07<br>MMM_Close: Weight=0.37<br>ACN_Close: Weight=0.25<br>PYPL_Close: Weight=0.31",
          "Return: 37.73%<br>Volatility: 0.09<br>BABA_Close: Weight=0.19<br>NEE_Close: Weight=0.49<br>DE_Close: Weight=0.32<br>CPB_Close: Weight=0.00",
          "Return: 36.96%<br>Volatility: 0.10<br>MA_Close: Weight=0.37<br>GOOGL_Close: Weight=0.04<br>HD_Close: Weight=0.36<br>DE_Close: Weight=0.23<br>REGN_Close: Weight=0.00",
          "Return: 32.72%<br>Volatility: 0.14<br>DHR_Close: Weight=0.09<br>TSLA_Close: Weight=0.01<br>NVDA_Close: Weight=0.32<br>PFE_Close: Weight=0.47<br>ORCL_Close: Weight=0.12",
          "Return: 24.09%<br>Volatility: 0.11<br>QCOM_Close: Weight=0.06<br>CPB_Close: Weight=0.00<br>SYY_Close: Weight=0.40<br>NFLX_Close: Weight=0.11<br>GOOGL_Close: Weight=0.42",
          "Return: 14.37%<br>Volatility: 0.12<br>DHR_Close: Weight=0.36<br>BAC_Close: Weight=0.35<br>KR_Close: Weight=0.00<br>MO_Close: Weight=0.00<br>ETN_Close: Weight=0.29",
          "Return: 23.76%<br>Volatility: 0.11<br>CVX_Close: Weight=0.45<br>PM_Close: Weight=0.00<br>META_Close: Weight=0.55",
          "Return: 44.54%<br>Volatility: 0.18<br>PG_Close: Weight=0.01<br>K_Close: Weight=0.00<br>SRE_Close: Weight=0.00<br>WFC_Close: Weight=0.00<br>DE_Close: Weight=0.99",
          "Return: 57.19%<br>Volatility: 0.25<br>WFC_Close: Weight=0.08<br>GILD_Close: Weight=0.00<br>BABA_Close: Weight=0.92",
          "Return: 41.31%<br>Volatility: 0.11<br>BA_Close: Weight=0.56<br>JNJ_Close: Weight=0.30<br>SYK_Close: Weight=0.14",
          "Return: 33.56%<br>Volatility: 0.10<br>MS_Close: Weight=0.05<br>V_Close: Weight=0.45<br>BIIB_Close: Weight=0.00<br>SO_Close: Weight=0.00<br>MCD_Close: Weight=0.50",
          "Return: 33.36%<br>Volatility: 0.13<br>MA_Close: Weight=0.80<br>LLY_Close: Weight=0.00<br>RTX_Close: Weight=0.20",
          "Return: 59.70%<br>Volatility: 0.17<br>CAT_Close: Weight=0.69<br>NVDA_Close: Weight=0.15<br>AAPL_Close: Weight=0.09<br>RDY_Close: Weight=0.00<br>BTI_Close: Weight=0.06",
          "Return: 31.08%<br>Volatility: 0.08<br>MCD_Close: Weight=0.36<br>HD_Close: Weight=0.27<br>LMT_Close: Weight=0.34<br>ORCL_Close: Weight=0.03",
          "Return: 34.64%<br>Volatility: 0.11<br>LMT_Close: Weight=0.65<br>BABA_Close: Weight=0.28<br>BAC_Close: Weight=0.07",
          "Return: 30.89%<br>Volatility: 0.16<br>AMZN_Close: Weight=0.72<br>COST_Close: Weight=0.28<br>REGN_Close: Weight=0.00",
          "Return: 22.96%<br>Volatility: 0.14<br>DIS_Close: Weight=0.00<br>SRE_Close: Weight=0.05<br>GOOGL_Close: Weight=0.88<br>F_Close: Weight=0.07",
          "Return: 19.60%<br>Volatility: 0.19<br>BIIB_Close: Weight=0.23<br>EW_Close: Weight=0.77<br>SNAP_Close: Weight=0.00",
          "Return: 25.30%<br>Volatility: 0.10<br>ZBH_Close: Weight=0.00<br>TXN_Close: Weight=0.62<br>DUK_Close: Weight=0.38",
          "Return: 27.35%<br>Volatility: 0.13<br>AMGN_Close: Weight=0.00<br>ACN_Close: Weight=1.00<br>AMD_Close: Weight=0.00",
          "Return: 23.46%<br>Volatility: 0.14<br>GOOGL_Close: Weight=0.86<br>IBM_Close: Weight=0.00<br>ZBH_Close: Weight=0.00<br>DIS_Close: Weight=0.00<br>CMCSA_Close: Weight=0.14",
          "Return: 26.39%<br>Volatility: 0.14<br>META_Close: Weight=0.73<br>ETN_Close: Weight=0.24<br>TSLA_Close: Weight=0.04",
          "Return: 35.69%<br>Volatility: 0.13<br>MCD_Close: Weight=0.93<br>ORCL_Close: Weight=0.07<br>PM_Close: Weight=0.00",
          "Return: 33.13%<br>Volatility: 0.15<br>NKE_Close: Weight=0.08<br>EW_Close: Weight=0.15<br>ADBE_Close: Weight=0.47<br>AAPL_Close: Weight=0.31",
          "Return: 29.74%<br>Volatility: 0.09<br>ISRG_Close: Weight=0.32<br>RTX_Close: Weight=0.20<br>NEE_Close: Weight=0.48<br>GIS_Close: Weight=0.00",
          "Return: 60.08%<br>Volatility: 0.16<br>BABA_Close: Weight=0.26<br>ZBH_Close: Weight=0.00<br>BA_Close: Weight=0.74",
          "Return: 33.81%<br>Volatility: 0.09<br>RTX_Close: Weight=0.08<br>PFE_Close: Weight=0.05<br>MCD_Close: Weight=0.43<br>ISRG_Close: Weight=0.27<br>JPM_Close: Weight=0.17",
          "Return: 14.63%<br>Volatility: 0.09<br>GE_Close: Weight=0.00<br>RTX_Close: Weight=0.42<br>SYY_Close: Weight=0.31<br>PG_Close: Weight=0.19<br>CMCSA_Close: Weight=0.08",
          "Return: 55.74%<br>Volatility: 0.24<br>AMZN_Close: Weight=0.59<br>CPB_Close: Weight=0.00<br>NVDA_Close: Weight=0.41",
          "Return: 15.82%<br>Volatility: 0.07<br>BIIB_Close: Weight=0.00<br>CPB_Close: Weight=0.00<br>JNJ_Close: Weight=0.29<br>EMR_Close: Weight=0.22<br>KO_Close: Weight=0.50",
          "Return: 30.42%<br>Volatility: 0.09<br>ACN_Close: Weight=0.25<br>HD_Close: Weight=0.34<br>DUK_Close: Weight=0.06<br>UNH_Close: Weight=0.35",
          "Return: 24.43%<br>Volatility: 0.14<br>EW_Close: Weight=0.21<br>MDT_Close: Weight=0.00<br>K_Close: Weight=0.00<br>BIIB_Close: Weight=0.03<br>CRM_Close: Weight=0.76",
          "Return: 14.90%<br>Volatility: 0.08<br>PEP_Close: Weight=0.49<br>AMD_Close: Weight=0.00<br>MO_Close: Weight=0.00<br>JNJ_Close: Weight=0.51<br>LLY_Close: Weight=0.00",
          "Return: 8.74%<br>Volatility: 0.12<br>GS_Close: Weight=0.05<br>DHR_Close: Weight=0.95<br>K_Close: Weight=0.00",
          "Return: 80.73%<br>Volatility: 0.39<br>GIS_Close: Weight=0.00<br>RDY_Close: Weight=0.00<br>NVDA_Close: Weight=1.00",
          "Return: 43.10%<br>Volatility: 0.12<br>SNAP_Close: Weight=0.00<br>BMY_Close: Weight=0.00<br>CAT_Close: Weight=0.55<br>JNJ_Close: Weight=0.45<br>SRE_Close: Weight=0.00",
          "Return: 33.44%<br>Volatility: 0.12<br>AMD_Close: Weight=0.00<br>CVX_Close: Weight=0.18<br>DE_Close: Weight=0.58<br>EMR_Close: Weight=0.00<br>SYY_Close: Weight=0.24",
          "Return: 12.42%<br>Volatility: 0.08<br>KO_Close: Weight=0.67<br>PEP_Close: Weight=0.27<br>GS_Close: Weight=0.07",
          "Return: 35.29%<br>Volatility: 0.11<br>SO_Close: Weight=0.00<br>V_Close: Weight=0.46<br>MMM_Close: Weight=0.42<br>UA_Close: Weight=0.00<br>NVDA_Close: Weight=0.11",
          "Return: 21.15%<br>Volatility: 0.08<br>MMM_Close: Weight=0.36<br>KO_Close: Weight=0.43<br>GOOGL_Close: Weight=0.21",
          "Return: 46.65%<br>Volatility: 0.11<br>PYPL_Close: Weight=0.21<br>CAT_Close: Weight=0.35<br>NEE_Close: Weight=0.40<br>MA_Close: Weight=0.03<br>CMCSA_Close: Weight=0.01",
          "Return: 15.93%<br>Volatility: 0.11<br>ORCL_Close: Weight=0.27<br>AMD_Close: Weight=0.00<br>PM_Close: Weight=0.00<br>RTX_Close: Weight=0.73<br>GE_Close: Weight=0.00",
          "Return: 14.27%<br>Volatility: 0.08<br>TSLA_Close: Weight=0.09<br>EXC_Close: Weight=0.21<br>KO_Close: Weight=0.70",
          "Return: 58.89%<br>Volatility: 0.24<br>GE_Close: Weight=0.00<br>NVDA_Close: Weight=0.38<br>ADBE_Close: Weight=0.62",
          "Return: 44.16%<br>Volatility: 0.11<br>BTI_Close: Weight=0.05<br>UNH_Close: Weight=0.36<br>MO_Close: Weight=0.00<br>CRM_Close: Weight=0.12<br>BA_Close: Weight=0.47",
          "Return: 26.28%<br>Volatility: 0.09<br>MS_Close: Weight=0.00<br>ABT_Close: Weight=0.34<br>HON_Close: Weight=0.66<br>K_Close: Weight=0.00",
          "Return: 12.12%<br>Volatility: 0.08<br>XOM_Close: Weight=0.18<br>BMY_Close: Weight=0.13<br>AEP_Close: Weight=0.64<br>MRK_Close: Weight=0.00<br>GILD_Close: Weight=0.05",
          "Return: 52.51%<br>Volatility: 0.18<br>BABA_Close: Weight=0.39<br>SNAP_Close: Weight=0.00<br>ISRG_Close: Weight=0.61",
          "Return: 31.18%<br>Volatility: 0.13<br>EW_Close: Weight=0.13<br>HD_Close: Weight=0.87<br>MDT_Close: Weight=0.00",
          "Return: 36.50%<br>Volatility: 0.15<br>SO_Close: Weight=0.00<br>PG_Close: Weight=0.09<br>WMT_Close: Weight=0.78<br>QCOM_Close: Weight=0.13<br>AMGN_Close: Weight=0.00",
          "Return: 29.22%<br>Volatility: 0.12<br>REGN_Close: Weight=0.03<br>EMR_Close: Weight=0.18<br>HD_Close: Weight=0.79",
          "Return: 4.62%<br>Volatility: 0.15<br>PM_Close: Weight=0.00<br>GS_Close: Weight=0.30<br>GILD_Close: Weight=0.70",
          "Return: 36.36%<br>Volatility: 0.12<br>QCOM_Close: Weight=0.04<br>PYPL_Close: Weight=0.44<br>DIS_Close: Weight=0.06<br>BMY_Close: Weight=0.02<br>AEP_Close: Weight=0.44",
          "Return: 28.67%<br>Volatility: 0.14<br>GIS_Close: Weight=0.00<br>ABT_Close: Weight=1.00<br>GS_Close: Weight=0.00<br>GE_Close: Weight=0.00",
          "Return: 28.54%<br>Volatility: 0.12<br>DHR_Close: Weight=0.13<br>TXN_Close: Weight=0.72<br>PG_Close: Weight=0.15<br>GIS_Close: Weight=0.00",
          "Return: 34.22%<br>Volatility: 0.14<br>EXC_Close: Weight=0.37<br>UA_Close: Weight=0.00<br>TMO_Close: Weight=0.36<br>NVDA_Close: Weight=0.27",
          "Return: 4.02%<br>Volatility: 0.10<br>SO_Close: Weight=0.00<br>T_Close: Weight=0.00<br>CPB_Close: Weight=0.00<br>UA_Close: Weight=0.00<br>PG_Close: Weight=1.00",
          "Return: 19.73%<br>Volatility: 0.08<br>PEP_Close: Weight=0.20<br>RDY_Close: Weight=0.00<br>MO_Close: Weight=0.00<br>GM_Close: Weight=0.19<br>NEE_Close: Weight=0.61",
          "Return: 22.51%<br>Volatility: 0.08<br>LMT_Close: Weight=0.45<br>NEE_Close: Weight=0.47<br>WFC_Close: Weight=0.08<br>GE_Close: Weight=0.00",
          "Return: 31.90%<br>Volatility: 0.18<br>AMGN_Close: Weight=0.00<br>META_Close: Weight=0.83<br>NFLX_Close: Weight=0.17",
          "Return: 30.34%<br>Volatility: 0.12<br>SNAP_Close: Weight=0.00<br>XOM_Close: Weight=0.08<br>SYK_Close: Weight=0.26<br>TXN_Close: Weight=0.65",
          "Return: 35.82%<br>Volatility: 0.13<br>JPM_Close: Weight=0.40<br>ISRG_Close: Weight=0.60<br>ZBH_Close: Weight=0.00",
          "Return: 43.08%<br>Volatility: 0.11<br>V_Close: Weight=0.30<br>GILD_Close: Weight=0.00<br>ABT_Close: Weight=0.26<br>BA_Close: Weight=0.44",
          "Return: 41.01%<br>Volatility: 0.13<br>ABBV_Close: Weight=0.64<br>CMCSA_Close: Weight=0.13<br>SAP_Close: Weight=0.23",
          "Return: 43.57%<br>Volatility: 0.19<br>AMD_Close: Weight=0.00<br>CRM_Close: Weight=0.48<br>NKE_Close: Weight=0.15<br>NVDA_Close: Weight=0.37",
          "Return: 38.66%<br>Volatility: 0.14<br>UNH_Close: Weight=0.81<br>AMGN_Close: Weight=0.00<br>NKE_Close: Weight=0.03<br>VRTX_Close: Weight=0.17<br>DIS_Close: Weight=0.00",
          "Return: 42.50%<br>Volatility: 0.11<br>F_Close: Weight=0.00<br>BA_Close: Weight=0.60<br>JNJ_Close: Weight=0.40",
          "Return: 31.17%<br>Volatility: 0.12<br>NKE_Close: Weight=0.08<br>MSFT_Close: Weight=0.68<br>SAP_Close: Weight=0.23",
          "Return: 35.64%<br>Volatility: 0.14<br>ADBE_Close: Weight=0.30<br>GOOG_Close: Weight=0.19<br>SAP_Close: Weight=0.31<br>BMY_Close: Weight=0.05<br>VRTX_Close: Weight=0.15",
          "Return: 38.72%<br>Volatility: 0.11<br>EXC_Close: Weight=0.26<br>BABA_Close: Weight=0.24<br>GOOG_Close: Weight=0.11<br>DE_Close: Weight=0.40<br>AMGN_Close: Weight=0.00",
          "Return: 16.97%<br>Volatility: 0.11<br>JNJ_Close: Weight=1.00<br>GILD_Close: Weight=0.00<br>BSX_Close: Weight=0.00",
          "Return: 19.82%<br>Volatility: 0.12<br>GIS_Close: Weight=0.00<br>QCOM_Close: Weight=0.17<br>TMO_Close: Weight=0.57<br>MS_Close: Weight=0.27",
          "Return: 28.63%<br>Volatility: 0.11<br>MO_Close: Weight=0.00<br>K_Close: Weight=0.00<br>V_Close: Weight=0.78<br>EMR_Close: Weight=0.22<br>GIS_Close: Weight=0.00",
          "Return: 20.75%<br>Volatility: 0.12<br>COST_Close: Weight=0.17<br>ETN_Close: Weight=0.20<br>CRM_Close: Weight=0.63",
          "Return: 16.54%<br>Volatility: 0.07<br>EW_Close: Weight=0.09<br>TSLA_Close: Weight=0.05<br>JPM_Close: Weight=0.27<br>AMD_Close: Weight=0.00<br>KO_Close: Weight=0.59",
          "Return: 28.54%<br>Volatility: 0.08<br>BSX_Close: Weight=0.00<br>PEP_Close: Weight=0.14<br>MCD_Close: Weight=0.44<br>LMT_Close: Weight=0.42",
          "Return: 23.42%<br>Volatility: 0.07<br>HON_Close: Weight=0.38<br>JPM_Close: Weight=0.19<br>NEE_Close: Weight=0.43<br>ETN_Close: Weight=0.00",
          "Return: 22.64%<br>Volatility: 0.09<br>BTI_Close: Weight=0.03<br>LMT_Close: Weight=0.58<br>VZ_Close: Weight=0.13<br>GOOGL_Close: Weight=0.26",
          "Return: 45.25%<br>Volatility: 0.20<br>NVDA_Close: Weight=0.34<br>NFLX_Close: Weight=0.07<br>CMCSA_Close: Weight=0.14<br>META_Close: Weight=0.45",
          "Return: 39.75%<br>Volatility: 0.21<br>VRTX_Close: Weight=0.38<br>REGN_Close: Weight=0.00<br>NFLX_Close: Weight=0.37<br>DHR_Close: Weight=0.25",
          "Return: 28.30%<br>Volatility: 0.09<br>SAP_Close: Weight=0.20<br>UNH_Close: Weight=0.38<br>SRE_Close: Weight=0.00<br>HON_Close: Weight=0.42",
          "Return: 44.14%<br>Volatility: 0.13<br>DE_Close: Weight=0.52<br>GM_Close: Weight=0.00<br>WMT_Close: Weight=0.48",
          "Return: 8.74%<br>Volatility: 0.12<br>K_Close: Weight=0.00<br>DHR_Close: Weight=0.95<br>GS_Close: Weight=0.05",
          "Return: 16.11%<br>Volatility: 0.16<br>SNAP_Close: Weight=0.00<br>CSCO_Close: Weight=1.00<br>MRK_Close: Weight=0.00",
          "Return: 21.28%<br>Volatility: 0.12<br>IBM_Close: Weight=0.00<br>GOOGL_Close: Weight=0.69<br>VZ_Close: Weight=0.31",
          "Return: 28.80%<br>Volatility: 0.09<br>UNH_Close: Weight=0.41<br>SNAP_Close: Weight=0.00<br>RMD_Close: Weight=0.02<br>GOOGL_Close: Weight=0.15<br>LMT_Close: Weight=0.42",
          "Return: 29.72%<br>Volatility: 0.10<br>DUK_Close: Weight=0.20<br>WMT_Close: Weight=0.39<br>ABT_Close: Weight=0.41<br>SO_Close: Weight=0.00<br>AMD_Close: Weight=0.00",
          "Return: 29.18%<br>Volatility: 0.11<br>CPB_Close: Weight=0.00<br>MS_Close: Weight=0.09<br>GOOGL_Close: Weight=0.00<br>V_Close: Weight=0.76<br>GOOG_Close: Weight=0.14",
          "Return: 38.78%<br>Volatility: 0.11<br>MCD_Close: Weight=0.44<br>UNH_Close: Weight=0.32<br>ZBH_Close: Weight=0.00<br>ISRG_Close: Weight=0.23",
          "Return: 49.39%<br>Volatility: 0.15<br>CAT_Close: Weight=0.67<br>BMY_Close: Weight=0.05<br>SYY_Close: Weight=0.23<br>TSLA_Close: Weight=0.05",
          "Return: 51.83%<br>Volatility: 0.15<br>COST_Close: Weight=0.05<br>TXN_Close: Weight=0.35<br>CAT_Close: Weight=0.59",
          "Return: 13.81%<br>Volatility: 0.09<br>DHR_Close: Weight=0.22<br>SRE_Close: Weight=0.00<br>GE_Close: Weight=0.00<br>AEP_Close: Weight=0.78",
          "Return: 5.82%<br>Volatility: 0.08<br>DUK_Close: Weight=0.86<br>PM_Close: Weight=0.00<br>ZBH_Close: Weight=0.14",
          "Return: 30.94%<br>Volatility: 0.17<br>COST_Close: Weight=0.21<br>VRTX_Close: Weight=0.35<br>CSCO_Close: Weight=0.44",
          "Return: 17.88%<br>Volatility: 0.08<br>SO_Close: Weight=0.00<br>SAP_Close: Weight=0.33<br>JPM_Close: Weight=0.27<br>PEP_Close: Weight=0.40",
          "Return: 16.22%<br>Volatility: 0.12<br>COST_Close: Weight=0.21<br>RMD_Close: Weight=0.37<br>UA_Close: Weight=0.00<br>BMY_Close: Weight=0.21<br>QCOM_Close: Weight=0.22",
          "Return: 23.00%<br>Volatility: 0.09<br>EMR_Close: Weight=0.01<br>HON_Close: Weight=0.78<br>CVX_Close: Weight=0.21",
          "Return: 23.56%<br>Volatility: 0.09<br>TMO_Close: Weight=0.19<br>AMGN_Close: Weight=0.00<br>PG_Close: Weight=0.04<br>GOOG_Close: Weight=0.26<br>NEE_Close: Weight=0.52",
          "Return: 36.97%<br>Volatility: 0.21<br>GIS_Close: Weight=0.00<br>WFC_Close: Weight=0.20<br>VRTX_Close: Weight=0.45<br>EW_Close: Weight=0.35",
          "Return: 28.92%<br>Volatility: 0.08<br>LMT_Close: Weight=0.24<br>HD_Close: Weight=0.30<br>CVX_Close: Weight=0.17<br>MSFT_Close: Weight=0.28<br>NFLX_Close: Weight=0.02",
          "Return: 34.94%<br>Volatility: 0.10<br>ABT_Close: Weight=0.33<br>HD_Close: Weight=0.37<br>DE_Close: Weight=0.30",
          "Return: 23.68%<br>Volatility: 0.10<br>QCOM_Close: Weight=0.09<br>SYY_Close: Weight=0.27<br>ORCL_Close: Weight=0.10<br>ABT_Close: Weight=0.54",
          "Return: 29.48%<br>Volatility: 0.11<br>META_Close: Weight=0.21<br>ADBE_Close: Weight=0.20<br>NEE_Close: Weight=0.59",
          "Return: 27.35%<br>Volatility: 0.13<br>MO_Close: Weight=0.00<br>MDT_Close: Weight=0.00<br>ACN_Close: Weight=1.00",
          "Return: 55.43%<br>Volatility: 0.20<br>ISRG_Close: Weight=0.74<br>CRM_Close: Weight=0.00<br>NVDA_Close: Weight=0.26",
          "Return: 19.25%<br>Volatility: 0.14<br>TMO_Close: Weight=0.82<br>MDT_Close: Weight=0.00<br>DHR_Close: Weight=0.18",
          "Return: 48.62%<br>Volatility: 0.13<br>RDY_Close: Weight=0.00<br>PYPL_Close: Weight=0.29<br>CRM_Close: Weight=0.00<br>BABA_Close: Weight=0.19<br>UNH_Close: Weight=0.52",
          "Return: 53.52%<br>Volatility: 0.15<br>RTX_Close: Weight=0.03<br>PYPL_Close: Weight=0.46<br>DE_Close: Weight=0.51",
          "Return: 10.35%<br>Volatility: 0.12<br>REGN_Close: Weight=0.00<br>LLY_Close: Weight=0.19<br>CMCSA_Close: Weight=0.31<br>ORCL_Close: Weight=0.50",
          "Return: 42.04%<br>Volatility: 0.11<br>JNJ_Close: Weight=0.11<br>WMT_Close: Weight=0.35<br>RDY_Close: Weight=0.00<br>ABBV_Close: Weight=0.45<br>CMCSA_Close: Weight=0.09",
          "Return: 50.03%<br>Volatility: 0.15<br>ISRG_Close: Weight=0.33<br>BMY_Close: Weight=0.00<br>INTC_Close: Weight=0.28<br>PYPL_Close: Weight=0.39",
          "Return: 31.75%<br>Volatility: 0.13<br>BSX_Close: Weight=0.00<br>BTI_Close: Weight=0.13<br>CPB_Close: Weight=0.00<br>UNH_Close: Weight=0.87",
          "Return: 48.37%<br>Volatility: 0.16<br>SRE_Close: Weight=0.00<br>PYPL_Close: Weight=0.53<br>TMO_Close: Weight=0.13<br>CRM_Close: Weight=0.00<br>INTC_Close: Weight=0.34",
          "Return: 27.32%<br>Volatility: 0.11<br>PG_Close: Weight=0.14<br>BIIB_Close: Weight=0.00<br>V_Close: Weight=0.86",
          "Return: 38.44%<br>Volatility: 0.21<br>SRE_Close: Weight=0.00<br>AMZN_Close: Weight=1.00<br>IBM_Close: Weight=0.00",
          "Return: 10.13%<br>Volatility: 0.08<br>MDT_Close: Weight=0.00<br>DUK_Close: Weight=0.56<br>MS_Close: Weight=0.30<br>MO_Close: Weight=0.00<br>VZ_Close: Weight=0.14",
          "Return: 36.71%<br>Volatility: 0.15<br>GILD_Close: Weight=0.00<br>SYY_Close: Weight=0.27<br>WMT_Close: Weight=0.73",
          "Return: 26.21%<br>Volatility: 0.12<br>AMZN_Close: Weight=0.43<br>UA_Close: Weight=0.00<br>GM_Close: Weight=0.10<br>JPM_Close: Weight=0.37<br>DHR_Close: Weight=0.11",
          "Return: 39.61%<br>Volatility: 0.10<br>CVX_Close: Weight=0.21<br>SYK_Close: Weight=0.19<br>META_Close: Weight=0.13<br>BA_Close: Weight=0.48<br>AMD_Close: Weight=0.00",
          "Return: 18.40%<br>Volatility: 0.07<br>AAPL_Close: Weight=0.18<br>JPM_Close: Weight=0.30<br>AEP_Close: Weight=0.51<br>DIS_Close: Weight=0.00",
          "Return: 30.62%<br>Volatility: 0.12<br>GIS_Close: Weight=0.00<br>EMR_Close: Weight=0.15<br>GM_Close: Weight=0.13<br>MSFT_Close: Weight=0.70<br>XOM_Close: Weight=0.02",
          "Return: 34.44%<br>Volatility: 0.10<br>DE_Close: Weight=0.38<br>ABT_Close: Weight=0.31<br>ACN_Close: Weight=0.31",
          "Return: 27.60%<br>Volatility: 0.10<br>AMD_Close: Weight=0.00<br>SRE_Close: Weight=0.00<br>V_Close: Weight=0.66<br>SYK_Close: Weight=0.15<br>EMR_Close: Weight=0.19",
          "Return: 38.74%<br>Volatility: 0.15<br>T_Close: Weight=0.00<br>WMT_Close: Weight=0.79<br>SNAP_Close: Weight=0.00<br>EW_Close: Weight=0.21<br>KR_Close: Weight=0.00",
          "Return: 13.55%<br>Volatility: 0.14<br>MS_Close: Weight=0.52<br>GILD_Close: Weight=0.10<br>VZ_Close: Weight=0.38",
          "Return: 13.74%<br>Volatility: 0.09<br>VZ_Close: Weight=0.16<br>GILD_Close: Weight=0.08<br>AEP_Close: Weight=0.76",
          "Return: 25.56%<br>Volatility: 0.09<br>PEP_Close: Weight=0.40<br>NKE_Close: Weight=0.02<br>DIS_Close: Weight=0.00<br>UNH_Close: Weight=0.58<br>RDY_Close: Weight=0.00",
          "Return: 30.64%<br>Volatility: 0.09<br>AMD_Close: Weight=0.00<br>ABT_Close: Weight=0.17<br>MCD_Close: Weight=0.40<br>HON_Close: Weight=0.43",
          "Return: 23.45%<br>Volatility: 0.08<br>AEP_Close: Weight=0.39<br>MSFT_Close: Weight=0.41<br>RTX_Close: Weight=0.12<br>WFC_Close: Weight=0.04<br>F_Close: Weight=0.04",
          "Return: 14.41%<br>Volatility: 0.10<br>MDT_Close: Weight=0.00<br>VZ_Close: Weight=0.19<br>AEP_Close: Weight=0.81",
          "Return: 30.60%<br>Volatility: 0.09<br>NEE_Close: Weight=0.40<br>ORCL_Close: Weight=0.04<br>ISRG_Close: Weight=0.27<br>ACN_Close: Weight=0.29<br>GE_Close: Weight=0.00",
          "Return: 26.16%<br>Volatility: 0.11<br>SYK_Close: Weight=0.14<br>ADBE_Close: Weight=0.32<br>MO_Close: Weight=0.00<br>AEP_Close: Weight=0.46<br>RMD_Close: Weight=0.09",
          "Return: 45.84%<br>Volatility: 0.12<br>BTI_Close: Weight=0.05<br>BA_Close: Weight=0.60<br>ACN_Close: Weight=0.36<br>RDY_Close: Weight=0.00<br>T_Close: Weight=0.00",
          "Return: 39.82%<br>Volatility: 0.12<br>NFLX_Close: Weight=0.02<br>SNAP_Close: Weight=0.00<br>MA_Close: Weight=0.56<br>WMT_Close: Weight=0.41",
          "Return: 36.56%<br>Volatility: 0.11<br>LMT_Close: Weight=0.30<br>BABA_Close: Weight=0.16<br>NVDA_Close: Weight=0.07<br>VRTX_Close: Weight=0.06<br>HON_Close: Weight=0.41",
          "Return: 23.78%<br>Volatility: 0.07<br>KO_Close: Weight=0.32<br>SYY_Close: Weight=0.19<br>V_Close: Weight=0.39<br>LLY_Close: Weight=0.00<br>AMZN_Close: Weight=0.10",
          "Return: 25.87%<br>Volatility: 0.13<br>CSCO_Close: Weight=0.34<br>BSX_Close: Weight=0.00<br>EXC_Close: Weight=0.41<br>VRTX_Close: Weight=0.25",
          "Return: 15.95%<br>Volatility: 0.11<br>EXC_Close: Weight=0.49<br>SYY_Close: Weight=0.51<br>CPB_Close: Weight=0.00",
          "Return: 33.30%<br>Volatility: 0.11<br>CPB_Close: Weight=0.00<br>PYPL_Close: Weight=0.38<br>AAPL_Close: Weight=0.03<br>JPM_Close: Weight=0.28<br>DUK_Close: Weight=0.30",
          "Return: 15.61%<br>Volatility: 0.14<br>BSX_Close: Weight=0.00<br>CSCO_Close: Weight=0.64<br>GM_Close: Weight=0.36",
          "Return: 31.62%<br>Volatility: 0.12<br>V_Close: Weight=0.33<br>MA_Close: Weight=0.56<br>NFLX_Close: Weight=0.00<br>GE_Close: Weight=0.00<br>PG_Close: Weight=0.11",
          "Return: 26.05%<br>Volatility: 0.09<br>AEP_Close: Weight=0.50<br>TXN_Close: Weight=0.50<br>AMD_Close: Weight=0.00",
          "Return: 17.73%<br>Volatility: 0.08<br>GE_Close: Weight=0.00<br>JNJ_Close: Weight=0.40<br>AAPL_Close: Weight=0.27<br>PEP_Close: Weight=0.33<br>RDY_Close: Weight=0.00",
          "Return: 57.00%<br>Volatility: 0.13<br>BA_Close: Weight=0.54<br>MS_Close: Weight=0.00<br>ABBV_Close: Weight=0.46",
          "Return: 31.11%<br>Volatility: 0.12<br>PG_Close: Weight=0.11<br>MA_Close: Weight=0.76<br>MS_Close: Weight=0.10<br>LLY_Close: Weight=0.02<br>CRM_Close: Weight=0.01",
          "Return: 37.50%<br>Volatility: 0.14<br>MA_Close: Weight=1.00<br>K_Close: Weight=0.00<br>ORCL_Close: Weight=0.00",
          "Return: 23.53%<br>Volatility: 0.11<br>LMT_Close: Weight=0.94<br>CMCSA_Close: Weight=0.06<br>ZBH_Close: Weight=0.00",
          "Return: 24.87%<br>Volatility: 0.10<br>ETN_Close: Weight=0.03<br>TXN_Close: Weight=0.60<br>DUK_Close: Weight=0.38",
          "Return: 19.78%<br>Volatility: 0.11<br>SYK_Close: Weight=0.48<br>COST_Close: Weight=0.13<br>EMR_Close: Weight=0.39",
          "Return: 53.94%<br>Volatility: 0.14<br>BA_Close: Weight=0.61<br>DE_Close: Weight=0.39<br>RTX_Close: Weight=0.00<br>SRE_Close: Weight=0.00",
          "Return: 39.75%<br>Volatility: 0.13<br>ETN_Close: Weight=0.14<br>WMT_Close: Weight=0.53<br>ADBE_Close: Weight=0.33",
          "Return: 59.54%<br>Volatility: 0.17<br>AMD_Close: Weight=0.00<br>GIS_Close: Weight=0.00<br>BA_Close: Weight=1.00",
          "Return: 17.02%<br>Volatility: 0.14<br>BSX_Close: Weight=0.00<br>RMD_Close: Weight=0.50<br>SNAP_Close: Weight=0.00<br>GIS_Close: Weight=0.00<br>ETN_Close: Weight=0.50",
          "Return: 16.11%<br>Volatility: 0.16<br>CSCO_Close: Weight=1.00<br>K_Close: Weight=0.00<br>BSX_Close: Weight=0.00",
          "Return: 27.90%<br>Volatility: 0.12<br>PG_Close: Weight=0.27<br>ADBE_Close: Weight=0.37<br>SO_Close: Weight=0.00<br>GOOG_Close: Weight=0.36",
          "Return: 21.55%<br>Volatility: 0.16<br>MDT_Close: Weight=0.00<br>K_Close: Weight=0.00<br>AMD_Close: Weight=0.00<br>TMO_Close: Weight=1.00",
          "Return: 42.96%<br>Volatility: 0.14<br>ABBV_Close: Weight=0.67<br>SAP_Close: Weight=0.24<br>MS_Close: Weight=0.10",
          "Return: 38.06%<br>Volatility: 0.16<br>MRK_Close: Weight=0.00<br>BMY_Close: Weight=0.16<br>DIS_Close: Weight=0.00<br>WMT_Close: Weight=0.84",
          "Return: 9.07%<br>Volatility: 0.13<br>GE_Close: Weight=0.00<br>DHR_Close: Weight=1.00<br>PM_Close: Weight=0.00",
          "Return: 45.83%<br>Volatility: 0.12<br>ABBV_Close: Weight=0.42<br>GOOGL_Close: Weight=0.02<br>UNH_Close: Weight=0.30<br>ISRG_Close: Weight=0.26",
          "Return: 45.05%<br>Volatility: 0.15<br>UNH_Close: Weight=0.78<br>NVDA_Close: Weight=0.22<br>GS_Close: Weight=0.00",
          "Return: 27.77%<br>Volatility: 0.13<br>MO_Close: Weight=0.00<br>GE_Close: Weight=0.00<br>MMM_Close: Weight=1.00",
          "Return: 57.72%<br>Volatility: 0.20<br>ORCL_Close: Weight=0.00<br>AMD_Close: Weight=0.00<br>AMZN_Close: Weight=0.28<br>PYPL_Close: Weight=0.72",
          "Return: 29.90%<br>Volatility: 0.09<br>V_Close: Weight=0.37<br>TMO_Close: Weight=0.03<br>JPM_Close: Weight=0.12<br>DIS_Close: Weight=0.07<br>MCD_Close: Weight=0.41",
          "Return: 30.40%<br>Volatility: 0.09<br>GOOG_Close: Weight=0.14<br>WMT_Close: Weight=0.28<br>LMT_Close: Weight=0.21<br>HON_Close: Weight=0.36",
          "Return: 20.34%<br>Volatility: 0.20<br>RMD_Close: Weight=1.00<br>SNAP_Close: Weight=0.00<br>UA_Close: Weight=0.00",
          "Return: 27.11%<br>Volatility: 0.09<br>ISRG_Close: Weight=0.37<br>REGN_Close: Weight=0.00<br>MO_Close: Weight=0.00<br>AEP_Close: Weight=0.46<br>MS_Close: Weight=0.17",
          "Return: 10.46%<br>Volatility: 0.08<br>CSCO_Close: Weight=0.38<br>DUK_Close: Weight=0.50<br>MRK_Close: Weight=0.00<br>T_Close: Weight=0.00<br>NKE_Close: Weight=0.12",
          "Return: 38.99%<br>Volatility: 0.11<br>META_Close: Weight=0.16<br>DE_Close: Weight=0.35<br>MCD_Close: Weight=0.49",
          "Return: 26.77%<br>Volatility: 0.11<br>K_Close: Weight=0.00<br>JPM_Close: Weight=0.27<br>ACN_Close: Weight=0.60<br>NFLX_Close: Weight=0.13",
          "Return: 30.66%<br>Volatility: 0.08<br>BABA_Close: Weight=0.19<br>KO_Close: Weight=0.36<br>GOOG_Close: Weight=0.08<br>HD_Close: Weight=0.37",
          "Return: 53.08%<br>Volatility: 0.16<br>AMGN_Close: Weight=0.00<br>CAT_Close: Weight=0.74<br>MRK_Close: Weight=0.00<br>TMO_Close: Weight=0.26",
          "Return: 24.98%<br>Volatility: 0.12<br>NKE_Close: Weight=0.07<br>MMM_Close: Weight=0.83<br>VZ_Close: Weight=0.10",
          "Return: 35.70%<br>Volatility: 0.12<br>BABA_Close: Weight=0.30<br>MRK_Close: Weight=0.00<br>MDT_Close: Weight=0.00<br>LMT_Close: Weight=0.70",
          "Return: 44.53%<br>Volatility: 0.22<br>GS_Close: Weight=0.02<br>MO_Close: Weight=0.00<br>ADBE_Close: Weight=0.98",
          "Return: 28.24%<br>Volatility: 0.11<br>BAC_Close: Weight=0.11<br>V_Close: Weight=0.82<br>K_Close: Weight=0.00<br>CMCSA_Close: Weight=0.07",
          "Return: 23.21%<br>Volatility: 0.10<br>BAC_Close: Weight=0.14<br>MRK_Close: Weight=0.00<br>JNJ_Close: Weight=0.36<br>ABT_Close: Weight=0.49",
          "Return: 38.85%<br>Volatility: 0.16<br>SAP_Close: Weight=0.42<br>T_Close: Weight=0.00<br>GOOG_Close: Weight=0.33<br>BSX_Close: Weight=0.00<br>NVDA_Close: Weight=0.25",
          "Return: 29.67%<br>Volatility: 0.10<br>CMCSA_Close: Weight=0.07<br>EXC_Close: Weight=0.18<br>META_Close: Weight=0.21<br>MCD_Close: Weight=0.54",
          "Return: 46.56%<br>Volatility: 0.15<br>PYPL_Close: Weight=0.43<br>NKE_Close: Weight=0.09<br>K_Close: Weight=0.00<br>MA_Close: Weight=0.47<br>BMY_Close: Weight=0.01",
          "Return: 51.70%<br>Volatility: 0.14<br>MSFT_Close: Weight=0.45<br>SRE_Close: Weight=0.00<br>CAT_Close: Weight=0.55",
          "Return: 26.37%<br>Volatility: 0.13<br>VZ_Close: Weight=0.20<br>QCOM_Close: Weight=0.15<br>INTC_Close: Weight=0.65<br>F_Close: Weight=0.00",
          "Return: 59.88%<br>Volatility: 0.26<br>DIS_Close: Weight=0.03<br>PM_Close: Weight=0.00<br>BABA_Close: Weight=0.97",
          "Return: 29.47%<br>Volatility: 0.10<br>PG_Close: Weight=0.07<br>MA_Close: Weight=0.49<br>QCOM_Close: Weight=0.00<br>MDT_Close: Weight=0.00<br>LMT_Close: Weight=0.44",
          "Return: 15.75%<br>Volatility: 0.09<br>AAPL_Close: Weight=0.38<br>DUK_Close: Weight=0.38<br>CPB_Close: Weight=0.00<br>CSCO_Close: Weight=0.24",
          "Return: 36.08%<br>Volatility: 0.13<br>COST_Close: Weight=0.10<br>GOOG_Close: Weight=0.05<br>NVDA_Close: Weight=0.15<br>V_Close: Weight=0.70<br>ZBH_Close: Weight=0.00",
          "Return: 52.52%<br>Volatility: 0.18<br>PYPL_Close: Weight=0.70<br>BSX_Close: Weight=0.00<br>SAP_Close: Weight=0.30<br>CRM_Close: Weight=0.00",
          "Return: 19.20%<br>Volatility: 0.14<br>NKE_Close: Weight=0.11<br>EMR_Close: Weight=0.63<br>MRK_Close: Weight=0.00<br>CPB_Close: Weight=0.00<br>BAC_Close: Weight=0.26",
          "Return: 23.00%<br>Volatility: 0.09<br>HON_Close: Weight=0.79<br>CVX_Close: Weight=0.21<br>LLY_Close: Weight=0.00<br>XOM_Close: Weight=0.00",
          "Return: 38.57%<br>Volatility: 0.11<br>NFLX_Close: Weight=0.01<br>TXN_Close: Weight=0.29<br>DE_Close: Weight=0.29<br>UNH_Close: Weight=0.41",
          "Return: 39.53%<br>Volatility: 0.20<br>DHR_Close: Weight=0.00<br>BMY_Close: Weight=0.18<br>ADBE_Close: Weight=0.82",
          "Return: 59.60%<br>Volatility: 0.16<br>MO_Close: Weight=0.00<br>BAC_Close: Weight=0.01<br>BA_Close: Weight=0.73<br>BABA_Close: Weight=0.26",
          "Return: 13.25%<br>Volatility: 0.10<br>XOM_Close: Weight=0.28<br>REGN_Close: Weight=0.00<br>RTX_Close: Weight=0.72",
          "Return: 34.51%<br>Volatility: 0.12<br>CRM_Close: Weight=0.25<br>WFC_Close: Weight=0.00<br>MCD_Close: Weight=0.75<br>UA_Close: Weight=0.00",
          "Return: 35.18%<br>Volatility: 0.11<br>KO_Close: Weight=0.54<br>ZBH_Close: Weight=0.00<br>PYPL_Close: Weight=0.42<br>COST_Close: Weight=0.03",
          "Return: 19.80%<br>Volatility: 0.14<br>TMO_Close: Weight=0.84<br>ZBH_Close: Weight=0.00<br>NKE_Close: Weight=0.16",
          "Return: 25.85%<br>Volatility: 0.11<br>GILD_Close: Weight=0.00<br>JPM_Close: Weight=0.32<br>BSX_Close: Weight=0.00<br>ABT_Close: Weight=0.68",
          "Return: 35.73%<br>Volatility: 0.11<br>GM_Close: Weight=0.03<br>GS_Close: Weight=0.00<br>DE_Close: Weight=0.39<br>RMD_Close: Weight=0.02<br>V_Close: Weight=0.55",
          "Return: 30.47%<br>Volatility: 0.11<br>ADBE_Close: Weight=0.21<br>INTC_Close: Weight=0.25<br>PFE_Close: Weight=0.13<br>MMM_Close: Weight=0.41",
          "Return: 53.01%<br>Volatility: 0.16<br>GE_Close: Weight=0.00<br>ZBH_Close: Weight=0.00<br>UA_Close: Weight=0.00<br>CAT_Close: Weight=0.76<br>RTX_Close: Weight=0.24",
          "Return: 26.84%<br>Volatility: 0.11<br>CPB_Close: Weight=0.00<br>SRE_Close: Weight=0.00<br>CVX_Close: Weight=0.41<br>VRTX_Close: Weight=0.15<br>CRM_Close: Weight=0.43",
          "Return: 26.35%<br>Volatility: 0.13<br>MDT_Close: Weight=0.00<br>ABT_Close: Weight=0.87<br>NKE_Close: Weight=0.03<br>VZ_Close: Weight=0.10",
          "Return: 8.66%<br>Volatility: 0.08<br>SO_Close: Weight=0.00<br>XOM_Close: Weight=0.12<br>GM_Close: Weight=0.32<br>DUK_Close: Weight=0.56",
          "Return: 31.68%<br>Volatility: 0.10<br>KR_Close: Weight=0.00<br>MRK_Close: Weight=0.00<br>V_Close: Weight=0.53<br>SRE_Close: Weight=0.00<br>HD_Close: Weight=0.47",
          "Return: 31.25%<br>Volatility: 0.11<br>COST_Close: Weight=0.06<br>DE_Close: Weight=0.52<br>SYK_Close: Weight=0.20<br>EXC_Close: Weight=0.22",
          "Return: 29.88%<br>Volatility: 0.09<br>GE_Close: Weight=0.00<br>MCD_Close: Weight=0.49<br>PFE_Close: Weight=0.06<br>LMT_Close: Weight=0.45",
          "Return: 19.74%<br>Volatility: 0.09<br>AEP_Close: Weight=0.56<br>IBM_Close: Weight=0.00<br>CRM_Close: Weight=0.44<br>PM_Close: Weight=0.00<br>SNAP_Close: Weight=0.00",
          "Return: 26.76%<br>Volatility: 0.09<br>NFLX_Close: Weight=0.05<br>UA_Close: Weight=0.00<br>GM_Close: Weight=0.09<br>BABA_Close: Weight=0.25<br>KO_Close: Weight=0.61",
          "Return: 47.50%<br>Volatility: 0.15<br>ABBV_Close: Weight=0.83<br>RMD_Close: Weight=0.00<br>PM_Close: Weight=0.00<br>SNAP_Close: Weight=0.00<br>CSCO_Close: Weight=0.17",
          "Return: 46.48%<br>Volatility: 0.19<br>REGN_Close: Weight=0.00<br>MO_Close: Weight=0.00<br>ISRG_Close: Weight=1.00<br>ZBH_Close: Weight=0.00",
          "Return: 24.75%<br>Volatility: 0.11<br>DUK_Close: Weight=0.00<br>AEP_Close: Weight=0.59<br>VRTX_Close: Weight=0.15<br>AAPL_Close: Weight=0.25<br>AMGN_Close: Weight=0.00",
          "Return: 16.57%<br>Volatility: 0.11<br>MRK_Close: Weight=0.00<br>BTI_Close: Weight=0.20<br>ORCL_Close: Weight=0.24<br>JPM_Close: Weight=0.56<br>K_Close: Weight=0.00",
          "Return: 27.03%<br>Volatility: 0.13<br>ABT_Close: Weight=0.77<br>GS_Close: Weight=0.00<br>DHR_Close: Weight=0.00<br>TMO_Close: Weight=0.23",
          "Return: 29.25%<br>Volatility: 0.09<br>RMD_Close: Weight=0.06<br>SAP_Close: Weight=0.14<br>MCD_Close: Weight=0.54<br>VZ_Close: Weight=0.14<br>AAPL_Close: Weight=0.13",
          "Return: 35.47%<br>Volatility: 0.14<br>F_Close: Weight=0.00<br>TMO_Close: Weight=0.35<br>SO_Close: Weight=0.00<br>WMT_Close: Weight=0.65",
          "Return: 31.42%<br>Volatility: 0.12<br>UNH_Close: Weight=0.77<br>ZBH_Close: Weight=0.00<br>JPM_Close: Weight=0.23<br>IBM_Close: Weight=0.00<br>REGN_Close: Weight=0.00",
          "Return: 29.24%<br>Volatility: 0.13<br>INTC_Close: Weight=0.53<br>DIS_Close: Weight=0.00<br>BSX_Close: Weight=0.00<br>CRM_Close: Weight=0.47<br>GE_Close: Weight=0.00",
          "Return: 38.37%<br>Volatility: 0.12<br>ADBE_Close: Weight=0.25<br>WMT_Close: Weight=0.49<br>AMD_Close: Weight=0.00<br>SAP_Close: Weight=0.26",
          "Return: 41.68%<br>Volatility: 0.14<br>TSLA_Close: Weight=0.00<br>ZBH_Close: Weight=0.00<br>TXN_Close: Weight=0.51<br>ISRG_Close: Weight=0.48<br>F_Close: Weight=0.00",
          "Return: 4.31%<br>Volatility: 0.09<br>K_Close: Weight=0.00<br>PM_Close: Weight=0.00<br>IBM_Close: Weight=0.00<br>GILD_Close: Weight=0.30<br>XOM_Close: Weight=0.70",
          "Return: 14.96%<br>Volatility: 0.10<br>GM_Close: Weight=0.23<br>KR_Close: Weight=0.00<br>RTX_Close: Weight=0.58<br>DHR_Close: Weight=0.19",
          "Return: 48.02%<br>Volatility: 0.16<br>ZBH_Close: Weight=0.00<br>ABBV_Close: Weight=0.85<br>GM_Close: Weight=0.15<br>BTI_Close: Weight=0.00",
          "Return: 21.44%<br>Volatility: 0.10<br>CRM_Close: Weight=0.34<br>SRE_Close: Weight=0.00<br>NFLX_Close: Weight=0.12<br>CPB_Close: Weight=0.00<br>AEP_Close: Weight=0.54",
          "Return: 48.18%<br>Volatility: 0.16<br>MSFT_Close: Weight=0.47<br>GIS_Close: Weight=0.06<br>PYPL_Close: Weight=0.48",
          "Return: 22.86%<br>Volatility: 0.08<br>MMM_Close: Weight=0.35<br>UA_Close: Weight=0.00<br>LMT_Close: Weight=0.42<br>PEP_Close: Weight=0.23<br>ZBH_Close: Weight=0.00",
          "Return: 43.06%<br>Volatility: 0.18<br>MRK_Close: Weight=0.00<br>DIS_Close: Weight=0.00<br>WMT_Close: Weight=1.00",
          "Return: 27.28%<br>Volatility: 0.11<br>PEP_Close: Weight=0.36<br>CRM_Close: Weight=0.08<br>MSFT_Close: Weight=0.57",
          "Return: 14.20%<br>Volatility: 0.10<br>GE_Close: Weight=0.00<br>CSCO_Close: Weight=0.45<br>RDY_Close: Weight=0.00<br>DIS_Close: Weight=0.00<br>EXC_Close: Weight=0.55",
          "Return: 26.09%<br>Volatility: 0.10<br>V_Close: Weight=0.76<br>RTX_Close: Weight=0.15<br>DIS_Close: Weight=0.08",
          "Return: 39.81%<br>Volatility: 0.15<br>TMO_Close: Weight=0.39<br>BABA_Close: Weight=0.49<br>NKE_Close: Weight=0.12<br>CPB_Close: Weight=0.00",
          "Return: 41.58%<br>Volatility: 0.13<br>ABBV_Close: Weight=0.64<br>SYY_Close: Weight=0.25<br>BAC_Close: Weight=0.11",
          "Return: 25.44%<br>Volatility: 0.08<br>F_Close: Weight=0.00<br>MO_Close: Weight=0.00<br>TXN_Close: Weight=0.31<br>HON_Close: Weight=0.51<br>DUK_Close: Weight=0.18",
          "Return: 13.75%<br>Volatility: 0.07<br>SRE_Close: Weight=0.00<br>MS_Close: Weight=0.19<br>NKE_Close: Weight=0.07<br>KO_Close: Weight=0.74<br>RDY_Close: Weight=0.00",
          "Return: 18.95%<br>Volatility: 0.07<br>LMT_Close: Weight=0.41<br>KO_Close: Weight=0.42<br>JPM_Close: Weight=0.17",
          "Return: 22.53%<br>Volatility: 0.13<br>AAPL_Close: Weight=0.51<br>JPM_Close: Weight=0.49<br>F_Close: Weight=0.00",
          "Return: 21.82%<br>Volatility: 0.14<br>GM_Close: Weight=0.31<br>AAPL_Close: Weight=0.69<br>GIS_Close: Weight=0.00",
          "Return: 40.21%<br>Volatility: 0.11<br>CPB_Close: Weight=0.00<br>BA_Close: Weight=0.53<br>GOOGL_Close: Weight=0.19<br>PEP_Close: Weight=0.27<br>VZ_Close: Weight=0.00",
          "Return: 28.98%<br>Volatility: 0.09<br>BAC_Close: Weight=0.05<br>UNH_Close: Weight=0.46<br>PFE_Close: Weight=0.00<br>CPB_Close: Weight=0.00<br>LMT_Close: Weight=0.49",
          "Return: 15.72%<br>Volatility: 0.11<br>EMR_Close: Weight=0.56<br>K_Close: Weight=0.00<br>ETN_Close: Weight=0.09<br>DHR_Close: Weight=0.35",
          "Return: 36.68%<br>Volatility: 0.14<br>RDY_Close: Weight=0.00<br>AAPL_Close: Weight=0.07<br>MA_Close: Weight=0.93",
          "Return: 30.64%<br>Volatility: 0.09<br>AEP_Close: Weight=0.39<br>BABA_Close: Weight=0.20<br>XOM_Close: Weight=0.16<br>ISRG_Close: Weight=0.25",
          "Return: 29.32%<br>Volatility: 0.10<br>MCD_Close: Weight=0.61<br>CSCO_Close: Weight=0.09<br>BTI_Close: Weight=0.00<br>JNJ_Close: Weight=0.30",
          "Return: 26.52%<br>Volatility: 0.11<br>JPM_Close: Weight=0.35<br>REGN_Close: Weight=0.00<br>NKE_Close: Weight=0.06<br>CRM_Close: Weight=0.29<br>AMZN_Close: Weight=0.30",
          "Return: 22.89%<br>Volatility: 0.08<br>V_Close: Weight=0.51<br>CRM_Close: Weight=0.05<br>KO_Close: Weight=0.44",
          "Return: 16.15%<br>Volatility: 0.13<br>MS_Close: Weight=0.38<br>ORCL_Close: Weight=0.33<br>QCOM_Close: Weight=0.28",
          "Return: 32.45%<br>Volatility: 0.14<br>PM_Close: Weight=0.00<br>SNAP_Close: Weight=0.00<br>HD_Close: Weight=1.00<br>WFC_Close: Weight=0.00",
          "Return: 43.61%<br>Volatility: 0.27<br>GILD_Close: Weight=0.00<br>CMCSA_Close: Weight=0.26<br>VRTX_Close: Weight=0.66<br>BSX_Close: Weight=0.00<br>BIIB_Close: Weight=0.09",
          "Return: 44.58%<br>Volatility: 0.12<br>CVX_Close: Weight=0.18<br>DE_Close: Weight=0.34<br>INTC_Close: Weight=0.15<br>IBM_Close: Weight=0.00<br>PYPL_Close: Weight=0.33",
          "Return: 42.01%<br>Volatility: 0.12<br>AMD_Close: Weight=0.00<br>HD_Close: Weight=0.67<br>BABA_Close: Weight=0.33",
          "Return: 23.16%<br>Volatility: 0.08<br>BAC_Close: Weight=0.20<br>LLY_Close: Weight=0.01<br>GOOGL_Close: Weight=0.19<br>NEE_Close: Weight=0.59",
          "Return: 43.87%<br>Volatility: 0.13<br>ABBV_Close: Weight=0.48<br>JNJ_Close: Weight=0.08<br>MA_Close: Weight=0.44<br>WFC_Close: Weight=0.00",
          "Return: 16.68%<br>Volatility: 0.11<br>DIS_Close: Weight=0.00<br>JNJ_Close: Weight=0.98<br>F_Close: Weight=0.02",
          "Return: 38.44%<br>Volatility: 0.12<br>SO_Close: Weight=0.00<br>ADBE_Close: Weight=0.24<br>EW_Close: Weight=0.07<br>MCD_Close: Weight=0.69<br>AMD_Close: Weight=0.00",
          "Return: 45.65%<br>Volatility: 0.12<br>CAT_Close: Weight=0.43<br>UNH_Close: Weight=0.44<br>CVX_Close: Weight=0.06<br>AAPL_Close: Weight=0.08<br>AMD_Close: Weight=0.00",
          "Return: 25.64%<br>Volatility: 0.12<br>SNAP_Close: Weight=0.00<br>ABT_Close: Weight=0.80<br>ETN_Close: Weight=0.20",
          "Return: 33.49%<br>Volatility: 0.10<br>UA_Close: Weight=0.00<br>ADBE_Close: Weight=0.20<br>INTC_Close: Weight=0.21<br>UNH_Close: Weight=0.46<br>EXC_Close: Weight=0.14",
          "Return: 51.60%<br>Volatility: 0.15<br>TMO_Close: Weight=0.25<br>CAT_Close: Weight=0.72<br>NKE_Close: Weight=0.04<br>KR_Close: Weight=0.00<br>AMGN_Close: Weight=0.00",
          "Return: 24.26%<br>Volatility: 0.08<br>EXC_Close: Weight=0.14<br>HD_Close: Weight=0.51<br>JNJ_Close: Weight=0.35",
          "Return: 11.41%<br>Volatility: 0.18<br>AMD_Close: Weight=0.00<br>K_Close: Weight=0.00<br>BMY_Close: Weight=1.00<br>MDT_Close: Weight=0.00",
          "Return: 23.80%<br>Volatility: 0.10<br>RDY_Close: Weight=0.00<br>BAC_Close: Weight=0.14<br>LMT_Close: Weight=0.86",
          "Return: 38.37%<br>Volatility: 0.11<br>QCOM_Close: Weight=0.03<br>EXC_Close: Weight=0.13<br>CSCO_Close: Weight=0.06<br>PEP_Close: Weight=0.24<br>BA_Close: Weight=0.54",
          "Return: 55.29%<br>Volatility: 0.13<br>RMD_Close: Weight=0.02<br>BABA_Close: Weight=0.14<br>BA_Close: Weight=0.54<br>ISRG_Close: Weight=0.30",
          "Return: 42.57%<br>Volatility: 0.11<br>BTI_Close: Weight=0.00<br>DUK_Close: Weight=0.20<br>MSFT_Close: Weight=0.35<br>CAT_Close: Weight=0.44",
          "Return: 14.71%<br>Volatility: 0.19<br>GM_Close: Weight=1.00<br>PM_Close: Weight=0.00<br>MO_Close: Weight=0.00",
          "Return: 26.48%<br>Volatility: 0.10<br>JNJ_Close: Weight=0.30<br>MSFT_Close: Weight=0.56<br>DUK_Close: Weight=0.14<br>K_Close: Weight=0.00",
          "Return: 61.61%<br>Volatility: 0.27<br>MDT_Close: Weight=0.00<br>BABA_Close: Weight=1.00<br>K_Close: Weight=0.00",
          "Return: 48.50%<br>Volatility: 0.13<br>CAT_Close: Weight=0.52<br>AMD_Close: Weight=0.00<br>HD_Close: Weight=0.46<br>QCOM_Close: Weight=0.01<br>VZ_Close: Weight=0.01",
          "Return: 28.24%<br>Volatility: 0.09<br>UA_Close: Weight=0.00<br>MO_Close: Weight=0.00<br>SRE_Close: Weight=0.00<br>LMT_Close: Weight=0.52<br>HD_Close: Weight=0.48",
          "Return: 26.43%<br>Volatility: 0.11<br>MO_Close: Weight=0.00<br>TXN_Close: Weight=0.56<br>PEP_Close: Weight=0.44",
          "Return: 45.12%<br>Volatility: 0.18<br>DE_Close: Weight=1.00<br>MO_Close: Weight=0.00<br>REGN_Close: Weight=0.00",
          "Return: 15.81%<br>Volatility: 0.11<br>SO_Close: Weight=0.00<br>REGN_Close: Weight=0.01<br>EMR_Close: Weight=0.61<br>DHR_Close: Weight=0.39",
          "Return: 19.33%<br>Volatility: 0.09<br>LLY_Close: Weight=0.00<br>GM_Close: Weight=0.12<br>EW_Close: Weight=0.10<br>GOOG_Close: Weight=0.36<br>PEP_Close: Weight=0.42",
          "Return: 10.57%<br>Volatility: 0.12<br>QCOM_Close: Weight=0.44<br>MRK_Close: Weight=0.00<br>REGN_Close: Weight=0.00<br>PG_Close: Weight=0.56",
          "Return: 57.74%<br>Volatility: 0.17<br>ETN_Close: Weight=0.03<br>MS_Close: Weight=0.01<br>BA_Close: Weight=0.96",
          "Return: 23.91%<br>Volatility: 0.10<br>LMT_Close: Weight=0.74<br>TSLA_Close: Weight=0.06<br>TMO_Close: Weight=0.20",
          "Return: 30.90%<br>Volatility: 0.09<br>TXN_Close: Weight=0.31<br>AEP_Close: Weight=0.29<br>MCD_Close: Weight=0.40",
          "Return: 31.48%<br>Volatility: 0.13<br>CSCO_Close: Weight=0.01<br>GOOGL_Close: Weight=0.23<br>TXN_Close: Weight=0.65<br>BIIB_Close: Weight=0.00<br>COST_Close: Weight=0.11",
          "Return: 13.66%<br>Volatility: 0.17<br>CPB_Close: Weight=0.00<br>QCOM_Close: Weight=0.65<br>LLY_Close: Weight=0.32<br>GS_Close: Weight=0.04<br>MDT_Close: Weight=0.00",
          "Return: 36.34%<br>Volatility: 0.09<br>TXN_Close: Weight=0.32<br>CRM_Close: Weight=0.01<br>AEP_Close: Weight=0.31<br>ABBV_Close: Weight=0.36",
          "Return: 33.60%<br>Volatility: 0.10<br>DUK_Close: Weight=0.28<br>MRK_Close: Weight=0.00<br>DE_Close: Weight=0.38<br>WMT_Close: Weight=0.34<br>GS_Close: Weight=0.00",
          "Return: 27.45%<br>Volatility: 0.10<br>RTX_Close: Weight=0.31<br>REGN_Close: Weight=0.01<br>HD_Close: Weight=0.69<br>KR_Close: Weight=0.00<br>MRK_Close: Weight=0.00",
          "Return: 32.44%<br>Volatility: 0.10<br>NFLX_Close: Weight=0.05<br>HON_Close: Weight=0.58<br>AAPL_Close: Weight=0.06<br>ISRG_Close: Weight=0.31<br>TMO_Close: Weight=0.00",
          "Return: 22.09%<br>Volatility: 0.10<br>JNJ_Close: Weight=0.41<br>TMO_Close: Weight=0.20<br>GOOG_Close: Weight=0.39",
          "Return: 13.22%<br>Volatility: 0.12<br>LLY_Close: Weight=0.20<br>CVX_Close: Weight=0.80<br>GS_Close: Weight=0.00",
          "Return: 44.21%<br>Volatility: 0.14<br>SYY_Close: Weight=0.35<br>AMZN_Close: Weight=0.19<br>PYPL_Close: Weight=0.47",
          "Return: 17.98%<br>Volatility: 0.07<br>NEE_Close: Weight=0.48<br>GILD_Close: Weight=0.03<br>ETN_Close: Weight=0.14<br>KO_Close: Weight=0.33<br>BTI_Close: Weight=0.03",
          "Return: 24.63%<br>Volatility: 0.07<br>JNJ_Close: Weight=0.11<br>KO_Close: Weight=0.23<br>V_Close: Weight=0.21<br>TXN_Close: Weight=0.19<br>NEE_Close: Weight=0.25",
          "Return: 34.64%<br>Volatility: 0.09<br>ADBE_Close: Weight=0.04<br>ISRG_Close: Weight=0.13<br>MCD_Close: Weight=0.33<br>HON_Close: Weight=0.31<br>UNH_Close: Weight=0.19",
          "Return: 22.02%<br>Volatility: 0.08<br>KO_Close: Weight=0.59<br>VRTX_Close: Weight=0.10<br>EMR_Close: Weight=0.21<br>BIIB_Close: Weight=0.00<br>NFLX_Close: Weight=0.10",
          "Return: 37.50%<br>Volatility: 0.11<br>META_Close: Weight=0.23<br>CVX_Close: Weight=0.29<br>ABBV_Close: Weight=0.48<br>REGN_Close: Weight=0.00",
          "Return: 48.95%<br>Volatility: 0.13<br>CAT_Close: Weight=0.48<br>SRE_Close: Weight=0.00<br>MCD_Close: Weight=0.48<br>AMD_Close: Weight=0.00<br>CMCSA_Close: Weight=0.04",
          "Return: 16.25%<br>Volatility: 0.11<br>BSX_Close: Weight=0.00<br>TMO_Close: Weight=0.58<br>F_Close: Weight=0.00<br>GIS_Close: Weight=0.01<br>PFE_Close: Weight=0.41",
          "Return: 24.54%<br>Volatility: 0.09<br>QCOM_Close: Weight=0.02<br>NEE_Close: Weight=0.62<br>GOOG_Close: Weight=0.33<br>TSLA_Close: Weight=0.01<br>GILD_Close: Weight=0.02",
          "Return: 21.73%<br>Volatility: 0.10<br>MO_Close: Weight=0.00<br>MRK_Close: Weight=0.00<br>PEP_Close: Weight=0.55<br>INTC_Close: Weight=0.45",
          "Return: 19.83%<br>Volatility: 0.12<br>SYK_Close: Weight=0.58<br>BAC_Close: Weight=0.27<br>VZ_Close: Weight=0.15",
          "Return: 22.06%<br>Volatility: 0.10<br>K_Close: Weight=0.00<br>NEE_Close: Weight=0.92<br>GILD_Close: Weight=0.08",
          "Return: 28.42%<br>Volatility: 0.13<br>COST_Close: Weight=0.14<br>XOM_Close: Weight=0.29<br>ADBE_Close: Weight=0.56",
          "Return: 49.36%<br>Volatility: 0.13<br>BA_Close: Weight=0.63<br>META_Close: Weight=0.13<br>INTC_Close: Weight=0.24<br>GE_Close: Weight=0.00",
          "Return: 39.62%<br>Volatility: 0.11<br>HD_Close: Weight=0.61<br>BIIB_Close: Weight=0.00<br>BABA_Close: Weight=0.27<br>ORCL_Close: Weight=0.00<br>CRM_Close: Weight=0.12",
          "Return: 40.73%<br>Volatility: 0.11<br>TXN_Close: Weight=0.18<br>BA_Close: Weight=0.47<br>PEP_Close: Weight=0.24<br>GOOG_Close: Weight=0.11<br>QCOM_Close: Weight=0.00",
          "Return: 37.65%<br>Volatility: 0.18<br>ADBE_Close: Weight=0.61<br>IBM_Close: Weight=0.00<br>CRM_Close: Weight=0.39",
          "Return: 27.00%<br>Volatility: 0.09<br>HON_Close: Weight=0.50<br>GS_Close: Weight=0.00<br>JNJ_Close: Weight=0.16<br>UNH_Close: Weight=0.33<br>ETN_Close: Weight=0.00",
          "Return: 16.11%<br>Volatility: 0.16<br>K_Close: Weight=0.00<br>REGN_Close: Weight=0.00<br>CSCO_Close: Weight=1.00",
          "Return: 29.85%<br>Volatility: 0.16<br>AMZN_Close: Weight=0.63<br>SO_Close: Weight=0.00<br>ETN_Close: Weight=0.28<br>RMD_Close: Weight=0.09",
          "Return: 37.18%<br>Volatility: 0.13<br>GE_Close: Weight=0.00<br>T_Close: Weight=0.00<br>MA_Close: Weight=0.59<br>ETN_Close: Weight=0.00<br>MSFT_Close: Weight=0.41",
          "Return: 53.94%<br>Volatility: 0.14<br>GIS_Close: Weight=0.00<br>DE_Close: Weight=0.39<br>BA_Close: Weight=0.61",
          "Return: 38.35%<br>Volatility: 0.11<br>ISRG_Close: Weight=0.42<br>ETN_Close: Weight=0.00<br>HD_Close: Weight=0.58<br>SNAP_Close: Weight=0.00",
          "Return: 44.02%<br>Volatility: 0.11<br>SYK_Close: Weight=0.07<br>WMT_Close: Weight=0.37<br>XOM_Close: Weight=0.00<br>ABBV_Close: Weight=0.48<br>CMCSA_Close: Weight=0.09",
          "Return: 33.19%<br>Volatility: 0.16<br>COST_Close: Weight=0.17<br>CSCO_Close: Weight=0.23<br>ADBE_Close: Weight=0.61",
          "Return: 22.66%<br>Volatility: 0.10<br>JNJ_Close: Weight=0.51<br>AAPL_Close: Weight=0.18<br>META_Close: Weight=0.31",
          "Return: 14.14%<br>Volatility: 0.14<br>SRE_Close: Weight=0.24<br>CMCSA_Close: Weight=0.13<br>BAC_Close: Weight=0.63",
          "Return: 40.93%<br>Volatility: 0.15<br>F_Close: Weight=0.00<br>NFLX_Close: Weight=0.20<br>VZ_Close: Weight=0.08<br>DE_Close: Weight=0.72<br>AMD_Close: Weight=0.00",
          "Return: 30.82%<br>Volatility: 0.12<br>UNH_Close: Weight=0.79<br>NKE_Close: Weight=0.02<br>CSCO_Close: Weight=0.20<br>AMGN_Close: Weight=0.00",
          "Return: 34.94%<br>Volatility: 0.14<br>CSCO_Close: Weight=0.09<br>T_Close: Weight=0.00<br>AMD_Close: Weight=0.00<br>MSFT_Close: Weight=0.91",
          "Return: 29.28%<br>Volatility: 0.10<br>GOOGL_Close: Weight=0.05<br>AAPL_Close: Weight=0.01<br>MSFT_Close: Weight=0.43<br>NEE_Close: Weight=0.51",
          "Return: 48.90%<br>Volatility: 0.12<br>BA_Close: Weight=0.58<br>GS_Close: Weight=0.00<br>PEP_Close: Weight=0.29<br>NVDA_Close: Weight=0.13",
          "Return: 15.43%<br>Volatility: 0.09<br>SYK_Close: Weight=0.36<br>BAC_Close: Weight=0.26<br>DUK_Close: Weight=0.38",
          "Return: 7.15%<br>Volatility: 0.13<br>CMCSA_Close: Weight=0.52<br>IBM_Close: Weight=0.00<br>LLY_Close: Weight=0.48",
          "Return: 45.89%<br>Volatility: 0.11<br>MSFT_Close: Weight=0.26<br>BA_Close: Weight=0.43<br>UNH_Close: Weight=0.31<br>BSX_Close: Weight=0.00",
          "Return: 33.89%<br>Volatility: 0.12<br>RDY_Close: Weight=0.00<br>MCD_Close: Weight=0.89<br>PM_Close: Weight=0.00<br>XOM_Close: Weight=0.11",
          "Return: 42.96%<br>Volatility: 0.12<br>JNJ_Close: Weight=0.05<br>MA_Close: Weight=0.20<br>ABBV_Close: Weight=0.43<br>GM_Close: Weight=0.02<br>TXN_Close: Weight=0.29",
          "Return: 51.10%<br>Volatility: 0.14<br>CAT_Close: Weight=0.51<br>MA_Close: Weight=0.49<br>AAPL_Close: Weight=0.00<br>GM_Close: Weight=0.00",
          "Return: 24.14%<br>Volatility: 0.09<br>TMO_Close: Weight=0.13<br>HON_Close: Weight=0.77<br>RMD_Close: Weight=0.10<br>F_Close: Weight=0.00",
          "Return: 23.64%<br>Volatility: 0.14<br>MS_Close: Weight=0.24<br>UA_Close: Weight=0.00<br>GOOGL_Close: Weight=0.76<br>AMD_Close: Weight=0.00",
          "Return: 35.40%<br>Volatility: 0.15<br>GILD_Close: Weight=0.03<br>CMCSA_Close: Weight=0.03<br>CPB_Close: Weight=0.00<br>TXN_Close: Weight=0.94<br>DIS_Close: Weight=0.00",
          "Return: 27.20%<br>Volatility: 0.15<br>META_Close: Weight=0.69<br>KR_Close: Weight=0.00<br>RMD_Close: Weight=0.20<br>QCOM_Close: Weight=0.12<br>BSX_Close: Weight=0.00",
          "Return: 23.27%<br>Volatility: 0.10<br>UA_Close: Weight=0.00<br>LMT_Close: Weight=0.75<br>JPM_Close: Weight=0.25",
          "Return: 25.88%<br>Volatility: 0.12<br>REGN_Close: Weight=0.03<br>EMR_Close: Weight=0.33<br>CSCO_Close: Weight=0.11<br>K_Close: Weight=0.00<br>INTC_Close: Weight=0.54",
          "Return: 39.56%<br>Volatility: 0.10<br>PEP_Close: Weight=0.26<br>UNH_Close: Weight=0.36<br>REGN_Close: Weight=0.01<br>CAT_Close: Weight=0.37",
          "Return: 22.24%<br>Volatility: 0.09<br>QCOM_Close: Weight=0.08<br>AMGN_Close: Weight=0.00<br>MMM_Close: Weight=0.54<br>AEP_Close: Weight=0.38<br>BSX_Close: Weight=0.00",
          "Return: 15.27%<br>Volatility: 0.07<br>KO_Close: Weight=0.60<br>COST_Close: Weight=0.03<br>EMR_Close: Weight=0.25<br>SNAP_Close: Weight=0.00<br>CSCO_Close: Weight=0.11",
          "Return: 42.11%<br>Volatility: 0.15<br>MSFT_Close: Weight=0.59<br>BABA_Close: Weight=0.32<br>IBM_Close: Weight=0.00<br>CMCSA_Close: Weight=0.09<br>AMZN_Close: Weight=0.00",
          "Return: 17.97%<br>Volatility: 0.18<br>GE_Close: Weight=0.00<br>NKE_Close: Weight=0.25<br>BAC_Close: Weight=0.75",
          "Return: 42.42%<br>Volatility: 0.13<br>SYY_Close: Weight=0.31<br>PYPL_Close: Weight=0.43<br>INTC_Close: Weight=0.24<br>GOOGL_Close: Weight=0.02",
          "Return: 45.65%<br>Volatility: 0.15<br>GM_Close: Weight=0.12<br>TSLA_Close: Weight=0.05<br>ABBV_Close: Weight=0.78<br>NKE_Close: Weight=0.05<br>SNAP_Close: Weight=0.00",
          "Return: 26.01%<br>Volatility: 0.12<br>GOOGL_Close: Weight=0.25<br>META_Close: Weight=0.32<br>TSLA_Close: Weight=0.02<br>NFLX_Close: Weight=0.05<br>EMR_Close: Weight=0.36",
          "Return: 36.10%<br>Volatility: 0.10<br>DE_Close: Weight=0.31<br>JPM_Close: Weight=0.05<br>CVX_Close: Weight=0.13<br>MCD_Close: Weight=0.51",
          "Return: 39.57%<br>Volatility: 0.11<br>V_Close: Weight=0.37<br>ABBV_Close: Weight=0.45<br>AAPL_Close: Weight=0.07<br>RTX_Close: Weight=0.10",
          "Return: 28.57%<br>Volatility: 0.09<br>PEP_Close: Weight=0.27<br>AMZN_Close: Weight=0.24<br>HD_Close: Weight=0.49",
          "Return: 15.07%<br>Volatility: 0.16<br>BMY_Close: Weight=0.50<br>MO_Close: Weight=0.00<br>QCOM_Close: Weight=0.50",
          "Return: 31.89%<br>Volatility: 0.12<br>BMY_Close: Weight=0.04<br>MA_Close: Weight=0.82<br>XOM_Close: Weight=0.14<br>KR_Close: Weight=0.00",
          "Return: 29.35%<br>Volatility: 0.10<br>GILD_Close: Weight=0.00<br>QCOM_Close: Weight=0.00<br>TXN_Close: Weight=0.35<br>HON_Close: Weight=0.65<br>SNAP_Close: Weight=0.00",
          "Return: 36.72%<br>Volatility: 0.15<br>GILD_Close: Weight=0.00<br>MSFT_Close: Weight=1.00<br>MRK_Close: Weight=0.00",
          "Return: 41.96%<br>Volatility: 0.16<br>VRTX_Close: Weight=0.20<br>KR_Close: Weight=0.00<br>K_Close: Weight=0.00<br>TXN_Close: Weight=0.80",
          "Return: 32.12%<br>Volatility: 0.10<br>XOM_Close: Weight=0.08<br>MMM_Close: Weight=0.50<br>UA_Close: Weight=0.00<br>WMT_Close: Weight=0.41",
          "Return: 31.18%<br>Volatility: 0.10<br>INTC_Close: Weight=0.12<br>AMD_Close: Weight=0.00<br>MSFT_Close: Weight=0.39<br>MMM_Close: Weight=0.40<br>EMR_Close: Weight=0.09",
          "Return: 39.02%<br>Volatility: 0.09<br>MRK_Close: Weight=0.00<br>GOOG_Close: Weight=0.05<br>BABA_Close: Weight=0.20<br>UNH_Close: Weight=0.35<br>HD_Close: Weight=0.41",
          "Return: 23.42%<br>Volatility: 0.10<br>SRE_Close: Weight=0.00<br>RMD_Close: Weight=0.13<br>QCOM_Close: Weight=0.07<br>T_Close: Weight=0.00<br>LMT_Close: Weight=0.79",
          "Return: 37.66%<br>Volatility: 0.14<br>ZBH_Close: Weight=0.00<br>TMO_Close: Weight=0.38<br>CMCSA_Close: Weight=0.17<br>GILD_Close: Weight=0.00<br>BABA_Close: Weight=0.45",
          "Return: 32.68%<br>Volatility: 0.11<br>DHR_Close: Weight=0.00<br>AAPL_Close: Weight=0.16<br>UA_Close: Weight=0.00<br>SYK_Close: Weight=0.18<br>MCD_Close: Weight=0.66",
          "Return: 24.12%<br>Volatility: 0.13<br>META_Close: Weight=0.71<br>F_Close: Weight=0.05<br>DHR_Close: Weight=0.23",
          "Return: 19.48%<br>Volatility: 0.13<br>GIS_Close: Weight=0.04<br>MDT_Close: Weight=0.00<br>PFE_Close: Weight=0.59<br>NFLX_Close: Weight=0.37<br>LLY_Close: Weight=0.00",
          "Return: 29.16%<br>Volatility: 0.09<br>ABT_Close: Weight=0.21<br>UNH_Close: Weight=0.37<br>CSCO_Close: Weight=0.00<br>LMT_Close: Weight=0.41<br>T_Close: Weight=0.00",
          "Return: 38.45%<br>Volatility: 0.15<br>AAPL_Close: Weight=0.28<br>ISRG_Close: Weight=0.66<br>ORCL_Close: Weight=0.06",
          "Return: 15.12%<br>Volatility: 0.08<br>CVX_Close: Weight=0.18<br>AMD_Close: Weight=0.00<br>EMR_Close: Weight=0.26<br>PEP_Close: Weight=0.52<br>COST_Close: Weight=0.04",
          "Return: 22.00%<br>Volatility: 0.08<br>RTX_Close: Weight=0.12<br>PFE_Close: Weight=0.17<br>TXN_Close: Weight=0.45<br>DUK_Close: Weight=0.26",
          "Return: 60.96%<br>Volatility: 0.19<br>RDY_Close: Weight=0.00<br>SNAP_Close: Weight=0.00<br>CAT_Close: Weight=0.94<br>BIIB_Close: Weight=0.06",
          "Return: 22.40%<br>Volatility: 0.10<br>PFE_Close: Weight=0.31<br>GOOGL_Close: Weight=0.29<br>INTC_Close: Weight=0.35<br>BTI_Close: Weight=0.05",
          "Return: 27.40%<br>Volatility: 0.10<br>HD_Close: Weight=0.54<br>SAP_Close: Weight=0.31<br>JPM_Close: Weight=0.15<br>REGN_Close: Weight=0.00",
          "Return: 21.55%<br>Volatility: 0.16<br>GILD_Close: Weight=0.00<br>TMO_Close: Weight=1.00<br>MDT_Close: Weight=0.00",
          "Return: 20.79%<br>Volatility: 0.10<br>PFE_Close: Weight=0.41<br>META_Close: Weight=0.39<br>AAPL_Close: Weight=0.20<br>REGN_Close: Weight=0.00",
          "Return: 25.77%<br>Volatility: 0.16<br>T_Close: Weight=0.00<br>REGN_Close: Weight=0.00<br>GOOGL_Close: Weight=1.00",
          "Return: 21.33%<br>Volatility: 0.11<br>SO_Close: Weight=0.00<br>F_Close: Weight=0.00<br>META_Close: Weight=0.57<br>PFE_Close: Weight=0.43",
          "Return: 30.09%<br>Volatility: 0.10<br>SYY_Close: Weight=0.26<br>RMD_Close: Weight=0.04<br>VRTX_Close: Weight=0.09<br>V_Close: Weight=0.61<br>ETN_Close: Weight=0.00",
          "Return: 34.44%<br>Volatility: 0.11<br>MS_Close: Weight=0.10<br>MMM_Close: Weight=0.49<br>ISRG_Close: Weight=0.41<br>F_Close: Weight=0.00<br>GIS_Close: Weight=0.00",
          "Return: 5.90%<br>Volatility: 0.10<br>BIIB_Close: Weight=0.34<br>MRK_Close: Weight=0.00<br>KR_Close: Weight=0.00<br>XOM_Close: Weight=0.66",
          "Return: 39.66%<br>Volatility: 0.12<br>MA_Close: Weight=0.47<br>INTC_Close: Weight=0.15<br>DE_Close: Weight=0.38",
          "Return: 20.78%<br>Volatility: 0.08<br>RTX_Close: Weight=0.18<br>DUK_Close: Weight=0.16<br>CRM_Close: Weight=0.22<br>CMCSA_Close: Weight=0.06<br>ACN_Close: Weight=0.39",
          "Return: 51.87%<br>Volatility: 0.16<br>PFE_Close: Weight=0.22<br>CAT_Close: Weight=0.78<br>GE_Close: Weight=0.00",
          "Return: 10.09%<br>Volatility: 0.15<br>GILD_Close: Weight=0.20<br>T_Close: Weight=0.00<br>VZ_Close: Weight=0.80<br>DIS_Close: Weight=0.00",
          "Return: 51.29%<br>Volatility: 0.16<br>DE_Close: Weight=0.63<br>ZBH_Close: Weight=0.00<br>BABA_Close: Weight=0.37",
          "Return: 23.50%<br>Volatility: 0.12<br>REGN_Close: Weight=0.00<br>MDT_Close: Weight=0.00<br>GOOGL_Close: Weight=0.46<br>DHR_Close: Weight=0.03<br>SAP_Close: Weight=0.51",
          "Return: 33.76%<br>Volatility: 0.16<br>QCOM_Close: Weight=0.08<br>INTC_Close: Weight=0.53<br>AMD_Close: Weight=0.00<br>AMZN_Close: Weight=0.39",
          "Return: 8.21%<br>Volatility: 0.18<br>SRE_Close: Weight=0.15<br>REGN_Close: Weight=0.00<br>CMCSA_Close: Weight=0.85",
          "Return: 18.70%<br>Volatility: 0.15<br>GILD_Close: Weight=0.10<br>EMR_Close: Weight=0.90<br>PM_Close: Weight=0.00",
          "Return: 7.34%<br>Volatility: 0.08<br>GIS_Close: Weight=0.00<br>WFC_Close: Weight=0.13<br>PFE_Close: Weight=0.58<br>PG_Close: Weight=0.29",
          "Return: 16.62%<br>Volatility: 0.11<br>BIIB_Close: Weight=0.06<br>TMO_Close: Weight=0.48<br>ETN_Close: Weight=0.23<br>NKE_Close: Weight=0.10<br>BTI_Close: Weight=0.13",
          "Return: 70.06%<br>Volatility: 0.34<br>BIIB_Close: Weight=0.15<br>NVDA_Close: Weight=0.85<br>IBM_Close: Weight=0.00",
          "Return: 4.02%<br>Volatility: 0.10<br>SNAP_Close: Weight=0.00<br>PG_Close: Weight=1.00<br>T_Close: Weight=0.00<br>SO_Close: Weight=0.00",
          "Return: 53.32%<br>Volatility: 0.15<br>ETN_Close: Weight=0.00<br>CAT_Close: Weight=0.68<br>META_Close: Weight=0.32<br>EMR_Close: Weight=0.00",
          "Return: 56.09%<br>Volatility: 0.16<br>T_Close: Weight=0.00<br>BA_Close: Weight=0.93<br>CMCSA_Close: Weight=0.07<br>DIS_Close: Weight=0.00",
          "Return: 10.79%<br>Volatility: 0.08<br>DUK_Close: Weight=0.60<br>BAC_Close: Weight=0.32<br>GILD_Close: Weight=0.05<br>CMCSA_Close: Weight=0.03",
          "Return: 21.06%<br>Volatility: 0.12<br>GM_Close: Weight=0.20<br>CRM_Close: Weight=0.64<br>COST_Close: Weight=0.16",
          "Return: 15.37%<br>Volatility: 0.08<br>PEP_Close: Weight=0.61<br>JPM_Close: Weight=0.37<br>COST_Close: Weight=0.02",
          "Return: 24.83%<br>Volatility: 0.10<br>HON_Close: Weight=0.97<br>RTX_Close: Weight=0.03<br>GIS_Close: Weight=0.00",
          "Return: 36.43%<br>Volatility: 0.12<br>LLY_Close: Weight=0.00<br>ISRG_Close: Weight=0.31<br>NVDA_Close: Weight=0.13<br>ABT_Close: Weight=0.36<br>DUK_Close: Weight=0.20",
          "Return: 18.59%<br>Volatility: 0.13<br>MO_Close: Weight=0.00<br>EMR_Close: Weight=0.60<br>MDT_Close: Weight=0.00<br>CSCO_Close: Weight=0.40",
          "Return: 31.58%<br>Volatility: 0.09<br>MCD_Close: Weight=0.35<br>KO_Close: Weight=0.33<br>ISRG_Close: Weight=0.22<br>AMZN_Close: Weight=0.07<br>NFLX_Close: Weight=0.03",
          "Return: 52.06%<br>Volatility: 0.11<br>ABBV_Close: Weight=0.39<br>BA_Close: Weight=0.45<br>HON_Close: Weight=0.15<br>TSLA_Close: Weight=0.01",
          "Return: 36.67%<br>Volatility: 0.14<br>TXN_Close: Weight=0.43<br>ZBH_Close: Weight=0.00<br>MSFT_Close: Weight=0.53<br>META_Close: Weight=0.04",
          "Return: 30.30%<br>Volatility: 0.14<br>AMZN_Close: Weight=0.52<br>TMO_Close: Weight=0.48<br>BIIB_Close: Weight=0.00",
          "Return: 25.67%<br>Volatility: 0.09<br>PEP_Close: Weight=0.39<br>SYK_Close: Weight=0.04<br>UNH_Close: Weight=0.57",
          "Return: 24.01%<br>Volatility: 0.09<br>DIS_Close: Weight=0.04<br>GOOG_Close: Weight=0.34<br>PM_Close: Weight=0.00<br>NEE_Close: Weight=0.62",
          "Return: 19.89%<br>Volatility: 0.08<br>IBM_Close: Weight=0.00<br>SO_Close: Weight=0.00<br>PFE_Close: Weight=0.23<br>NEE_Close: Weight=0.60<br>SYK_Close: Weight=0.17",
          "Return: 30.30%<br>Volatility: 0.14<br>T_Close: Weight=0.00<br>TMO_Close: Weight=0.48<br>AMZN_Close: Weight=0.52",
          "Return: 12.93%<br>Volatility: 0.08<br>QCOM_Close: Weight=0.15<br>WFC_Close: Weight=0.12<br>MDT_Close: Weight=0.00<br>REGN_Close: Weight=0.00<br>PEP_Close: Weight=0.73",
          "Return: 23.31%<br>Volatility: 0.13<br>BSX_Close: Weight=0.00<br>AAPL_Close: Weight=0.50<br>TMO_Close: Weight=0.50",
          "Return: 31.47%<br>Volatility: 0.11<br>INTC_Close: Weight=0.30<br>RDY_Close: Weight=0.00<br>V_Close: Weight=0.70<br>NFLX_Close: Weight=0.00<br>AAPL_Close: Weight=0.00",
          "Return: 30.18%<br>Volatility: 0.10<br>GE_Close: Weight=0.00<br>ACN_Close: Weight=0.45<br>HD_Close: Weight=0.55<br>SRE_Close: Weight=0.00",
          "Return: 44.09%<br>Volatility: 0.13<br>PYPL_Close: Weight=0.33<br>MCD_Close: Weight=0.55<br>RTX_Close: Weight=0.12",
          "Return: 20.51%<br>Volatility: 0.09<br>RDY_Close: Weight=0.00<br>NEE_Close: Weight=0.72<br>K_Close: Weight=0.00<br>PEP_Close: Weight=0.28",
          "Return: 60.25%<br>Volatility: 0.21<br>K_Close: Weight=0.00<br>ADBE_Close: Weight=0.25<br>PYPL_Close: Weight=0.75",
          "Return: 39.92%<br>Volatility: 0.11<br>DE_Close: Weight=0.32<br>WMT_Close: Weight=0.32<br>RTX_Close: Weight=0.08<br>XOM_Close: Weight=0.00<br>TXN_Close: Weight=0.27",
          "Return: 36.79%<br>Volatility: 0.10<br>WMT_Close: Weight=0.28<br>V_Close: Weight=0.34<br>NFLX_Close: Weight=0.00<br>MCD_Close: Weight=0.38<br>MDT_Close: Weight=0.00",
          "Return: 36.75%<br>Volatility: 0.10<br>NEE_Close: Weight=0.43<br>SO_Close: Weight=0.00<br>ABBV_Close: Weight=0.42<br>GOOGL_Close: Weight=0.14",
          "Return: 27.82%<br>Volatility: 0.10<br>DUK_Close: Weight=0.35<br>ORCL_Close: Weight=0.12<br>DE_Close: Weight=0.53",
          "Return: 33.98%<br>Volatility: 0.10<br>PG_Close: Weight=0.07<br>ISRG_Close: Weight=0.37<br>VZ_Close: Weight=0.08<br>HD_Close: Weight=0.48",
          "Return: 36.38%<br>Volatility: 0.12<br>MMM_Close: Weight=0.54<br>MRK_Close: Weight=0.00<br>IBM_Close: Weight=0.00<br>ISRG_Close: Weight=0.46<br>GIS_Close: Weight=0.00",
          "Return: 17.75%<br>Volatility: 0.19<br>TSLA_Close: Weight=0.36<br>K_Close: Weight=0.00<br>ORCL_Close: Weight=0.64",
          "Return: 24.33%<br>Volatility: 0.14<br>GILD_Close: Weight=0.00<br>BAC_Close: Weight=0.27<br>DIS_Close: Weight=0.00<br>GOOGL_Close: Weight=0.73",
          "Return: 35.90%<br>Volatility: 0.15<br>AAPL_Close: Weight=0.07<br>AMGN_Close: Weight=0.00<br>ZBH_Close: Weight=0.00<br>MSFT_Close: Weight=0.93",
          "Return: 19.76%<br>Volatility: 0.11<br>EW_Close: Weight=0.12<br>RTX_Close: Weight=0.44<br>SYK_Close: Weight=0.45<br>BIIB_Close: Weight=0.00",
          "Return: 41.61%<br>Volatility: 0.20<br>PG_Close: Weight=0.36<br>NVDA_Close: Weight=0.48<br>CMCSA_Close: Weight=0.16<br>MDT_Close: Weight=0.00",
          "Return: 34.34%<br>Volatility: 0.10<br>VRTX_Close: Weight=0.09<br>SYY_Close: Weight=0.11<br>ACN_Close: Weight=0.31<br>COST_Close: Weight=0.00<br>MCD_Close: Weight=0.49",
          "Return: 11.08%<br>Volatility: 0.11<br>DIS_Close: Weight=0.00<br>REGN_Close: Weight=0.00<br>VZ_Close: Weight=0.42<br>CMCSA_Close: Weight=0.15<br>BMY_Close: Weight=0.42",
          "Return: 30.06%<br>Volatility: 0.11<br>LMT_Close: Weight=0.68<br>ADBE_Close: Weight=0.26<br>KR_Close: Weight=0.00<br>TSLA_Close: Weight=0.05",
          "Return: 15.61%<br>Volatility: 0.09<br>WFC_Close: Weight=0.10<br>SAP_Close: Weight=0.58<br>DUK_Close: Weight=0.32",
          "Return: 32.64%<br>Volatility: 0.16<br>BAC_Close: Weight=0.32<br>CPB_Close: Weight=0.00<br>MS_Close: Weight=0.00<br>AMZN_Close: Weight=0.68",
          "Return: 20.02%<br>Volatility: 0.14<br>BAC_Close: Weight=0.26<br>EMR_Close: Weight=0.56<br>QCOM_Close: Weight=0.18",
          "Return: 57.19%<br>Volatility: 0.13<br>CAT_Close: Weight=0.46<br>ABBV_Close: Weight=0.45<br>BSX_Close: Weight=0.00<br>CPB_Close: Weight=0.00<br>AMZN_Close: Weight=0.09",
          "Return: 35.60%<br>Volatility: 0.14<br>MO_Close: Weight=0.00<br>ISRG_Close: Weight=0.63<br>RTX_Close: Weight=0.37<br>GE_Close: Weight=0.00",
          "Return: 14.68%<br>Volatility: 0.08<br>PEP_Close: Weight=0.52<br>IBM_Close: Weight=0.00<br>TMO_Close: Weight=0.29<br>PFE_Close: Weight=0.19",
          "Return: 65.17%<br>Volatility: 0.23<br>PYPL_Close: Weight=1.00<br>GE_Close: Weight=0.00<br>BSX_Close: Weight=0.00",
          "Return: 29.49%<br>Volatility: 0.11<br>MSFT_Close: Weight=0.63<br>JNJ_Close: Weight=0.37<br>ORCL_Close: Weight=0.00",
          "Return: 29.21%<br>Volatility: 0.09<br>KO_Close: Weight=0.60<br>CMCSA_Close: Weight=0.06<br>VRTX_Close: Weight=0.08<br>BABA_Close: Weight=0.25<br>AMGN_Close: Weight=0.00",
          "Return: 17.96%<br>Volatility: 0.15<br>MO_Close: Weight=0.00<br>CSCO_Close: Weight=0.57<br>KR_Close: Weight=0.00<br>BAC_Close: Weight=0.43",
          "Return: 40.82%<br>Volatility: 0.12<br>MA_Close: Weight=0.56<br>DE_Close: Weight=0.44<br>XOM_Close: Weight=0.00<br>BIIB_Close: Weight=0.00",
          "Return: 33.51%<br>Volatility: 0.11<br>T_Close: Weight=0.00<br>ISRG_Close: Weight=0.43<br>SYY_Close: Weight=0.34<br>META_Close: Weight=0.23",
          "Return: 59.08%<br>Volatility: 0.21<br>EW_Close: Weight=0.14<br>AMGN_Close: Weight=0.00<br>PYPL_Close: Weight=0.86",
          "Return: 21.55%<br>Volatility: 0.16<br>TMO_Close: Weight=1.00<br>REGN_Close: Weight=0.00<br>BSX_Close: Weight=0.00",
          "Return: 64.11%<br>Volatility: 0.20<br>XOM_Close: Weight=0.00<br>CAT_Close: Weight=1.00<br>K_Close: Weight=0.00<br>BAC_Close: Weight=0.00",
          "Return: 29.18%<br>Volatility: 0.11<br>MS_Close: Weight=0.09<br>V_Close: Weight=0.76<br>GOOG_Close: Weight=0.14<br>QCOM_Close: Weight=0.00<br>SRE_Close: Weight=0.00",
          "Return: 14.57%<br>Volatility: 0.09<br>F_Close: Weight=0.08<br>DUK_Close: Weight=0.28<br>SYK_Close: Weight=0.49<br>ORCL_Close: Weight=0.15<br>SRE_Close: Weight=0.00",
          "Return: 28.56%<br>Volatility: 0.11<br>SYK_Close: Weight=0.19<br>BIIB_Close: Weight=0.00<br>LMT_Close: Weight=0.69<br>VRTX_Close: Weight=0.13<br>DHR_Close: Weight=0.00",
          "Return: 14.24%<br>Volatility: 0.07<br>KO_Close: Weight=0.69<br>MS_Close: Weight=0.17<br>CSCO_Close: Weight=0.14",
          "Return: 47.74%<br>Volatility: 0.13<br>ABBV_Close: Weight=0.52<br>VRTX_Close: Weight=0.07<br>TXN_Close: Weight=0.40<br>UA_Close: Weight=0.00",
          "Return: 39.79%<br>Volatility: 0.14<br>ADBE_Close: Weight=0.16<br>RMD_Close: Weight=0.05<br>V_Close: Weight=0.65<br>NVDA_Close: Weight=0.14<br>UA_Close: Weight=0.00",
          "Return: 13.80%<br>Volatility: 0.09<br>CVX_Close: Weight=0.41<br>COST_Close: Weight=0.10<br>BAC_Close: Weight=0.17<br>REGN_Close: Weight=0.00<br>DHR_Close: Weight=0.32",
          "Return: 40.48%<br>Volatility: 0.13<br>LMT_Close: Weight=0.55<br>PYPL_Close: Weight=0.41<br>COST_Close: Weight=0.04<br>UA_Close: Weight=0.00",
          "Return: 15.20%<br>Volatility: 0.08<br>DUK_Close: Weight=0.23<br>SAP_Close: Weight=0.54<br>COST_Close: Weight=0.12<br>XOM_Close: Weight=0.12",
          "Return: 35.69%<br>Volatility: 0.12<br>MCD_Close: Weight=0.69<br>RMD_Close: Weight=0.03<br>AMZN_Close: Weight=0.18<br>SYK_Close: Weight=0.09",
          "Return: 31.26%<br>Volatility: 0.12<br>MA_Close: Weight=0.82<br>NKE_Close: Weight=0.07<br>DIS_Close: Weight=0.11<br>REGN_Close: Weight=0.00",
          "Return: 30.78%<br>Volatility: 0.10<br>HD_Close: Weight=0.56<br>ABT_Close: Weight=0.44<br>GIS_Close: Weight=0.00",
          "Return: 21.16%<br>Volatility: 0.09<br>LLY_Close: Weight=0.03<br>AMGN_Close: Weight=0.00<br>ETN_Close: Weight=0.16<br>NEE_Close: Weight=0.63<br>SYK_Close: Weight=0.18",
          "Return: 35.43%<br>Volatility: 0.15<br>SNAP_Close: Weight=0.00<br>TXN_Close: Weight=0.92<br>GM_Close: Weight=0.08",
          "Return: 18.91%<br>Volatility: 0.25<br>SO_Close: Weight=0.00<br>TSLA_Close: Weight=0.65<br>GILD_Close: Weight=0.35",
          "Return: 14.21%<br>Volatility: 0.08<br>BMY_Close: Weight=0.07<br>PEP_Close: Weight=0.43<br>JNJ_Close: Weight=0.43<br>CMCSA_Close: Weight=0.08<br>SO_Close: Weight=0.00",
          "Return: 28.75%<br>Volatility: 0.10<br>EMR_Close: Weight=0.13<br>EXC_Close: Weight=0.18<br>MA_Close: Weight=0.60<br>GM_Close: Weight=0.08",
          "Return: 18.07%<br>Volatility: 0.14<br>BSX_Close: Weight=0.00<br>EMR_Close: Weight=0.76<br>VZ_Close: Weight=0.24",
          "Return: 23.98%<br>Volatility: 0.13<br>NKE_Close: Weight=0.13<br>META_Close: Weight=0.65<br>ETN_Close: Weight=0.20<br>GIS_Close: Weight=0.02",
          "Return: 49.83%<br>Volatility: 0.13<br>PG_Close: Weight=0.08<br>BA_Close: Weight=0.67<br>AMZN_Close: Weight=0.25<br>PM_Close: Weight=0.00<br>T_Close: Weight=0.00",
          "Return: 26.55%<br>Volatility: 0.15<br>SYY_Close: Weight=0.61<br>NFLX_Close: Weight=0.39<br>WFC_Close: Weight=0.00",
          "Return: 14.81%<br>Volatility: 0.14<br>BTI_Close: Weight=0.31<br>GIS_Close: Weight=0.00<br>MDT_Close: Weight=0.00<br>VZ_Close: Weight=0.45<br>TSLA_Close: Weight=0.24",
          "Return: 49.57%<br>Volatility: 0.16<br>PM_Close: Weight=0.00<br>PYPL_Close: Weight=0.48<br>BTI_Close: Weight=0.00<br>TXN_Close: Weight=0.29<br>INTC_Close: Weight=0.23",
          "Return: 29.37%<br>Volatility: 0.10<br>PEP_Close: Weight=0.49<br>DE_Close: Weight=0.51<br>ETN_Close: Weight=0.00<br>AMD_Close: Weight=0.00<br>UA_Close: Weight=0.00",
          "Return: 33.37%<br>Volatility: 0.15<br>UA_Close: Weight=0.00<br>CSCO_Close: Weight=0.16<br>GOOGL_Close: Weight=0.38<br>ADBE_Close: Weight=0.46",
          "Return: 25.50%<br>Volatility: 0.10<br>QCOM_Close: Weight=0.00<br>HON_Close: Weight=0.76<br>JPM_Close: Weight=0.14<br>XOM_Close: Weight=0.00<br>NFLX_Close: Weight=0.09",
          "Return: 18.31%<br>Volatility: 0.12<br>DHR_Close: Weight=0.32<br>BTI_Close: Weight=0.12<br>AAPL_Close: Weight=0.56",
          "Return: 62.70%<br>Volatility: 0.16<br>CAT_Close: Weight=0.57<br>PYPL_Close: Weight=0.40<br>COST_Close: Weight=0.03",
          "Return: 24.33%<br>Volatility: 0.09<br>JNJ_Close: Weight=0.29<br>DUK_Close: Weight=0.09<br>V_Close: Weight=0.59<br>RMD_Close: Weight=0.03",
          "Return: 19.01%<br>Volatility: 0.10<br>BMY_Close: Weight=0.08<br>SAP_Close: Weight=0.56<br>CVX_Close: Weight=0.36",
          "Return: 38.51%<br>Volatility: 0.12<br>GOOG_Close: Weight=0.21<br>CVX_Close: Weight=0.36<br>DHR_Close: Weight=0.01<br>PYPL_Close: Weight=0.41",
          "Return: 33.14%<br>Volatility: 0.11<br>MDT_Close: Weight=0.00<br>GOOGL_Close: Weight=0.27<br>BMY_Close: Weight=0.04<br>GE_Close: Weight=0.00<br>MCD_Close: Weight=0.68",
          "Return: 37.76%<br>Volatility: 0.12<br>V_Close: Weight=0.38<br>TXN_Close: Weight=0.30<br>CRM_Close: Weight=0.00<br>GILD_Close: Weight=0.00<br>ISRG_Close: Weight=0.31",
          "Return: 46.00%<br>Volatility: 0.14<br>BTI_Close: Weight=0.09<br>SYK_Close: Weight=0.19<br>ORCL_Close: Weight=0.05<br>CAT_Close: Weight=0.62<br>BMY_Close: Weight=0.06",
          "Return: 30.50%<br>Volatility: 0.07<br>ABT_Close: Weight=0.13<br>MMM_Close: Weight=0.15<br>NEE_Close: Weight=0.30<br>WMT_Close: Weight=0.18<br>HD_Close: Weight=0.24",
          "Return: 43.40%<br>Volatility: 0.14<br>IBM_Close: Weight=0.00<br>SYY_Close: Weight=0.35<br>PYPL_Close: Weight=0.50<br>GOOG_Close: Weight=0.15",
          "Return: 31.79%<br>Volatility: 0.12<br>UNH_Close: Weight=0.83<br>TSLA_Close: Weight=0.06<br>VZ_Close: Weight=0.11",
          "Return: 38.44%<br>Volatility: 0.21<br>AMZN_Close: Weight=1.00<br>RDY_Close: Weight=0.00<br>MO_Close: Weight=0.00",
          "Return: 28.47%<br>Volatility: 0.12<br>META_Close: Weight=0.37<br>RMD_Close: Weight=0.01<br>ACN_Close: Weight=0.62",
          "Return: 30.68%<br>Volatility: 0.09<br>UNH_Close: Weight=0.43<br>HD_Close: Weight=0.46<br>DUK_Close: Weight=0.11",
          "Return: 26.07%<br>Volatility: 0.10<br>META_Close: Weight=0.22<br>GOOG_Close: Weight=0.11<br>LMT_Close: Weight=0.63<br>EW_Close: Weight=0.04<br>AMGN_Close: Weight=0.00",
          "Return: 37.37%<br>Volatility: 0.13<br>MRK_Close: Weight=0.00<br>WFC_Close: Weight=0.00<br>MA_Close: Weight=0.62<br>TXN_Close: Weight=0.38",
          "Return: 22.54%<br>Volatility: 0.13<br>REGN_Close: Weight=0.00<br>ETN_Close: Weight=0.25<br>CRM_Close: Weight=0.75",
          "Return: 24.69%<br>Volatility: 0.09<br>SYK_Close: Weight=0.07<br>ADBE_Close: Weight=0.18<br>AEP_Close: Weight=0.27<br>CMCSA_Close: Weight=0.05<br>LMT_Close: Weight=0.44",
          "Return: 27.57%<br>Volatility: 0.12<br>MO_Close: Weight=0.00<br>AAPL_Close: Weight=0.34<br>VRTX_Close: Weight=0.19<br>CVX_Close: Weight=0.47<br>SNAP_Close: Weight=0.00",
          "Return: 35.93%<br>Volatility: 0.14<br>K_Close: Weight=0.00<br>GOOGL_Close: Weight=0.13<br>MA_Close: Weight=0.87",
          "Return: 30.06%<br>Volatility: 0.11<br>CMCSA_Close: Weight=0.07<br>MA_Close: Weight=0.72<br>BMY_Close: Weight=0.03<br>VZ_Close: Weight=0.18",
          "Return: 25.05%<br>Volatility: 0.14<br>DHR_Close: Weight=0.07<br>SAP_Close: Weight=0.70<br>NFLX_Close: Weight=0.23",
          "Return: 21.99%<br>Volatility: 0.09<br>VRTX_Close: Weight=0.14<br>SYK_Close: Weight=0.24<br>GE_Close: Weight=0.00<br>KO_Close: Weight=0.62",
          "Return: 36.81%<br>Volatility: 0.14<br>AMD_Close: Weight=0.00<br>QCOM_Close: Weight=0.00<br>MA_Close: Weight=0.97<br>CSCO_Close: Weight=0.03",
          "Return: 25.21%<br>Volatility: 0.09<br>QCOM_Close: Weight=0.04<br>MRK_Close: Weight=0.00<br>MMM_Close: Weight=0.44<br>NEE_Close: Weight=0.52<br>AMD_Close: Weight=0.00",
          "Return: 30.97%<br>Volatility: 0.09<br>MCD_Close: Weight=0.38<br>BAC_Close: Weight=0.03<br>KO_Close: Weight=0.33<br>DE_Close: Weight=0.26<br>CPB_Close: Weight=0.00",
          "Return: 31.49%<br>Volatility: 0.12<br>MSFT_Close: Weight=0.70<br>SRE_Close: Weight=0.01<br>JPM_Close: Weight=0.29<br>MRK_Close: Weight=0.00",
          "Return: 37.64%<br>Volatility: 0.14<br>AMZN_Close: Weight=0.18<br>TSLA_Close: Weight=0.00<br>MA_Close: Weight=0.82",
          "Return: 46.82%<br>Volatility: 0.14<br>CVX_Close: Weight=0.35<br>PYPL_Close: Weight=0.41<br>MO_Close: Weight=0.00<br>BABA_Close: Weight=0.24",
          "Return: 16.95%<br>Volatility: 0.12<br>GE_Close: Weight=0.00<br>SYY_Close: Weight=0.64<br>ORCL_Close: Weight=0.36",
          "Return: 41.47%<br>Volatility: 0.13<br>DIS_Close: Weight=0.06<br>EXC_Close: Weight=0.14<br>ABBV_Close: Weight=0.59<br>AMZN_Close: Weight=0.20",
          "Return: 39.54%<br>Volatility: 0.16<br>BABA_Close: Weight=0.50<br>RTX_Close: Weight=0.48<br>TSLA_Close: Weight=0.02",
          "Return: 31.73%<br>Volatility: 0.10<br>PEP_Close: Weight=0.34<br>UA_Close: Weight=0.00<br>MDT_Close: Weight=0.00<br>DE_Close: Weight=0.36<br>TXN_Close: Weight=0.30",
          "Return: 18.15%<br>Volatility: 0.10<br>REGN_Close: Weight=0.00<br>EMR_Close: Weight=0.36<br>JNJ_Close: Weight=0.64",
          "Return: 16.78%<br>Volatility: 0.16<br>WFC_Close: Weight=0.17<br>RMD_Close: Weight=0.76<br>F_Close: Weight=0.07",
          "Return: 23.04%<br>Volatility: 0.10<br>PG_Close: Weight=0.11<br>MMM_Close: Weight=0.75<br>AMGN_Close: Weight=0.00<br>LLY_Close: Weight=0.00<br>ORCL_Close: Weight=0.14",
          "Return: 28.18%<br>Volatility: 0.19<br>GM_Close: Weight=0.43<br>AMGN_Close: Weight=0.00<br>NFLX_Close: Weight=0.57",
          "Return: 21.24%<br>Volatility: 0.09<br>META_Close: Weight=0.35<br>JNJ_Close: Weight=0.37<br>CVX_Close: Weight=0.29<br>BSX_Close: Weight=0.00",
          "Return: 25.73%<br>Volatility: 0.11<br>MMM_Close: Weight=0.62<br>ZBH_Close: Weight=0.00<br>SAP_Close: Weight=0.38",
          "Return: 32.45%<br>Volatility: 0.12<br>BAC_Close: Weight=0.13<br>MO_Close: Weight=0.00<br>MA_Close: Weight=0.73<br>RTX_Close: Weight=0.13<br>BIIB_Close: Weight=0.00",
          "Return: 30.98%<br>Volatility: 0.09<br>ETN_Close: Weight=0.09<br>JNJ_Close: Weight=0.08<br>LLY_Close: Weight=0.00<br>ABBV_Close: Weight=0.43<br>KO_Close: Weight=0.40",
          "Return: 26.01%<br>Volatility: 0.14<br>CSCO_Close: Weight=0.21<br>INTC_Close: Weight=0.68<br>GE_Close: Weight=0.00<br>REGN_Close: Weight=0.02<br>XOM_Close: Weight=0.09",
          "Return: 32.43%<br>Volatility: 0.11<br>UNH_Close: Weight=0.53<br>TMO_Close: Weight=0.20<br>DIS_Close: Weight=0.02<br>AMZN_Close: Weight=0.25",
          "Return: 25.60%<br>Volatility: 0.09<br>BABA_Close: Weight=0.26<br>BIIB_Close: Weight=0.00<br>PEP_Close: Weight=0.37<br>DUK_Close: Weight=0.15<br>RTX_Close: Weight=0.22",
          "Return: 48.14%<br>Volatility: 0.12<br>TSLA_Close: Weight=0.01<br>UNH_Close: Weight=0.45<br>BA_Close: Weight=0.54",
          "Return: 22.87%<br>Volatility: 0.11<br>INTC_Close: Weight=0.58<br>LLY_Close: Weight=0.00<br>PFE_Close: Weight=0.42",
          "Return: 53.21%<br>Volatility: 0.16<br>SO_Close: Weight=0.00<br>CAT_Close: Weight=0.74<br>SYK_Close: Weight=0.26<br>AMD_Close: Weight=0.00",
          "Return: 46.38%<br>Volatility: 0.14<br>PYPL_Close: Weight=0.41<br>BABA_Close: Weight=0.25<br>SNAP_Close: Weight=0.00<br>EXC_Close: Weight=0.34<br>BSX_Close: Weight=0.00",
          "Return: 27.48%<br>Volatility: 0.12<br>WFC_Close: Weight=0.00<br>ACN_Close: Weight=0.62<br>GOOG_Close: Weight=0.38",
          "Return: 36.12%<br>Volatility: 0.13<br>MA_Close: Weight=0.72<br>SAP_Close: Weight=0.00<br>INTC_Close: Weight=0.28",
          "Return: 42.26%<br>Volatility: 0.11<br>V_Close: Weight=0.36<br>MMM_Close: Weight=0.24<br>CAT_Close: Weight=0.38<br>NKE_Close: Weight=0.02<br>RMD_Close: Weight=0.01",
          "Return: 22.77%<br>Volatility: 0.10<br>AMD_Close: Weight=0.00<br>TSLA_Close: Weight=0.06<br>PFE_Close: Weight=0.13<br>INTC_Close: Weight=0.40<br>JNJ_Close: Weight=0.42",
          "Return: 31.79%<br>Volatility: 0.09<br>UNH_Close: Weight=0.37<br>CSCO_Close: Weight=0.00<br>GILD_Close: Weight=0.00<br>LMT_Close: Weight=0.35<br>MSFT_Close: Weight=0.29",
          "Return: 34.22%<br>Volatility: 0.13<br>EXC_Close: Weight=0.34<br>GE_Close: Weight=0.00<br>MDT_Close: Weight=0.00<br>DE_Close: Weight=0.66",
          "Return: 10.02%<br>Volatility: 0.08<br>LLY_Close: Weight=0.00<br>DHR_Close: Weight=0.16<br>PFE_Close: Weight=0.38<br>EXC_Close: Weight=0.38<br>PG_Close: Weight=0.09",
          "Return: 30.05%<br>Volatility: 0.11<br>DHR_Close: Weight=0.00<br>MA_Close: Weight=0.74<br>PFE_Close: Weight=0.16<br>CMCSA_Close: Weight=0.11",
          "Return: 45.56%<br>Volatility: 0.13<br>PYPL_Close: Weight=0.33<br>ABT_Close: Weight=0.33<br>WMT_Close: Weight=0.35",
          "Return: 26.37%<br>Volatility: 0.09<br>V_Close: Weight=0.67<br>PG_Close: Weight=0.05<br>MDT_Close: Weight=0.00<br>SYY_Close: Weight=0.28",
          "Return: 28.78%<br>Volatility: 0.08<br>UNH_Close: Weight=0.26<br>AMZN_Close: Weight=0.09<br>BAC_Close: Weight=0.06<br>MCD_Close: Weight=0.30<br>KO_Close: Weight=0.30"
         ],
         "type": "scatter",
         "x": [
          0.1251837793167074,
          0.13756262034758238,
          0.11118553171484688,
          0.10761540914562095,
          0.11554149699450308,
          0.2868595321810105,
          0.10939989729534734,
          0.1263464773723217,
          0.09057625821274252,
          0.14132356256003203,
          0.1891288756523301,
          0.10334214573696168,
          0.09598472259321482,
          0.12734243593811279,
          0.09306973759447561,
          0.13701826841654544,
          0.08795092937415035,
          0.13913069160075806,
          0.08319495950963735,
          0.16400098865205862,
          0.11563501505098887,
          0.10252938871394542,
          0.14310160920224185,
          0.1520148904890195,
          0.09979832765606429,
          0.08270092849949108,
          0.0961244300434428,
          0.13646334526804893,
          0.1049468495436261,
          0.11653936443345121,
          0.1269492601060687,
          0.07694358464697197,
          0.13154273783527046,
          0.11759770638792535,
          0.1093895922748925,
          0.2076019631657657,
          0.12181076949848432,
          0.15106518440594305,
          0.2728724210041218,
          0.10659499361862189,
          0.10753782623263561,
          0.1337087173896463,
          0.15135957988295437,
          0.09504365649074957,
          0.08570116858825766,
          0.0780864224808984,
          0.1132156264449562,
          0.10655264613975134,
          0.09201954857732421,
          0.16885814784285277,
          0.09288290727578472,
          0.2313712472069639,
          0.12350104965883665,
          0.06865619707575181,
          0.08475863812362938,
          0.09590429747459497,
          0.1209690854867878,
          0.1697195735803345,
          0.09476267886238432,
          0.07853975966541034,
          0.1636786909602644,
          0.15857284373099353,
          0.14351895181475235,
          0.1563580073194552,
          0.11670277930099207,
          0.12106437330106297,
          0.08365510394015427,
          0.13082260352172273,
          0.07722194312799685,
          0.10500251386888426,
          0.10371659783526695,
          0.08485284847776015,
          0.11208959408027383,
          0.11534605840181675,
          0.09251860390998183,
          0.08805475752939726,
          0.1196135530783122,
          0.17581410974826442,
          0.09003695031085653,
          0.08603045573553193,
          0.08793218102204006,
          0.15206266607082025,
          0.15042461746584054,
          0.14487578726590788,
          0.08630290933024869,
          0.15638131640311823,
          0.09732618520942118,
          0.12109649560525283,
          0.10567448319031633,
          0.12764055770286592,
          0.12562432679175167,
          0.13030322165803845,
          0.21815687120729085,
          0.09740096697499386,
          0.0943710678233176,
          0.1078977288020454,
          0.1397060245823208,
          0.07046673474792038,
          0.12145344490352679,
          0.12136518533346896,
          0.10539090233282457,
          0.08316457791395081,
          0.13319213598310292,
          0.10455651877012913,
          0.12293980072977116,
          0.09475580360793236,
          0.08689709081173981,
          0.10079744302434052,
          0.1532493236621956,
          0.14580755390302377,
          0.09525692580285425,
          0.14817500106263704,
          0.14131936371737944,
          0.12959056487629042,
          0.09951540873711924,
          0.09521874693001052,
          0.1695486509298844,
          0.1439716950004894,
          0.13032621175306713,
          0.10593135317320862,
          0.11513936417180955,
          0.14965736228448345,
          0.09255634312785904,
          0.109920389233098,
          0.13316842553508557,
          0.16147208638000846,
          0.11216327563899588,
          0.07758229588714273,
          0.11418159519081018,
          0.09834136187796529,
          0.07772162271031628,
          0.14451158584621684,
          0.12308832742310298,
          0.17855714131642242,
          0.11443853589094581,
          0.1933693517779977,
          0.09863861489091368,
          0.09961513173514118,
          0.11884302337808997,
          0.08609860803376071,
          0.11640203643343679,
          0.13254841800419262,
          0.15931812245758958,
          0.14467237109891934,
          0.1192337084847379,
          0.267331810313806,
          0.09227507506181196,
          0.2868595321810121,
          0.12369272406769356,
          0.09545843253193965,
          0.12838212560786266,
          0.14628840675498478,
          0.08001696116261957,
          0.0935665789945658,
          0.16976344288764622,
          0.11621517435581687,
          0.11132579267103122,
          0.16101132817208527,
          0.13675451300881042,
          0.13463707982902878,
          0.11620477967022703,
          0.0748321507404184,
          0.08829088060384113,
          0.10156915445569525,
          0.09732667611177555,
          0.08494340787694625,
          0.09338505174827665,
          0.10737200237722289,
          0.10269410564971093,
          0.13998610082290364,
          0.09392718854341284,
          0.1368716051989174,
          0.11622253357661291,
          0.19695688684463752,
          0.11117670731730173,
          0.11291254743760731,
          0.08234870188115534,
          0.10928872015277737,
          0.0940314616431465,
          0.10060270344673268,
          0.17061617118214178,
          0.13248816134961644,
          0.1032383234160817,
          0.09926522425498578,
          0.12064674210461136,
          0.0743471434338094,
          0.11527366010521829,
          0.09706095366641294,
          0.1005485908412766,
          0.15277712360385506,
          0.15295152205666082,
          0.1072994364366513,
          0.10096588025831753,
          0.14131936371737938,
          0.08666889254019594,
          0.15503939064672886,
          0.17738290372163112,
          0.09688786664967967,
          0.20077003044775615,
          0.12372763847076176,
          0.14039836054680838,
          0.09422148281888339,
          0.10469337945055726,
          0.08269981697121721,
          0.12231947809724758,
          0.1426861955803956,
          0.13615740565189038,
          0.106239494367459,
          0.1435719560774564,
          0.10623640548761469,
          0.096920137235734,
          0.09141077194169421,
          0.1312700452832922,
          0.1483887416180245,
          0.09795759776753364,
          0.10885523897341065,
          0.15053878078174604,
          0.09575083938905227,
          0.0969424304823643,
          0.08868193884747153,
          0.1757056582682219,
          0.12303928170566936,
          0.1378509394746093,
          0.10628372503034685,
          0.07467963855954934,
          0.13212083502421426,
          0.08648671373563595,
          0.09582075017936116,
          0.1640009886520587,
          0.11621334761489649,
          0.11265068076332993,
          0.12358375254300466,
          0.15447815618243538,
          0.13031772226327698,
          0.07270141968415265,
          0.10913905565576973,
          0.10615898765356989,
          0.15521264864973508,
          0.11225090370417636,
          0.1261851297868801,
          0.093323790074132,
          0.15627312147973008,
          0.1111592829879725,
          0.07736081178896068,
          0.09239998533781839,
          0.14975310262148828,
          0.10470916894187333,
          0.12462221717015813,
          0.08083662731607828,
          0.2112544449186971,
          0.10564330908193514,
          0.11884339076527972,
          0.0862961682944914,
          0.08781097967620814,
          0.20193611734055456,
          0.13646334526804896,
          0.10027258132113638,
          0.09533672237330837,
          0.10399092781643675,
          0.118793905919725,
          0.12239442198598104,
          0.11092234877190944,
          0.1173049482843538,
          0.10530957339736916,
          0.11360102647342551,
          0.09670752974022122,
          0.19220847036930205,
          0.09910844735660157,
          0.12290744298329713,
          0.0982029675887945,
          0.0904226116098221,
          0.08683145690252568,
          0.14036658986863013,
          0.17430323240744522,
          0.13376011547861963,
          0.11474035804161094,
          0.12634468178453628,
          0.1494891396022468,
          0.113865799523551,
          0.38461079403811105,
          0.0816908833821993,
          0.10758268016114256,
          0.10481530244537658,
          0.19279045301277126,
          0.13093920325981753,
          0.16539039048836576,
          0.09096693351699768,
          0.11851713509316998,
          0.10455124056431996,
          0.12645006504368883,
          0.10559716939615611,
          0.12082932392316703,
          0.08286250946544693,
          0.1010897273213038,
          0.1428834256429587,
          0.1815350671411105,
          0.14834120141595433,
          0.08148974008191222,
          0.09689493935398119,
          0.12540276923356847,
          0.10047233403882852,
          0.09465399371662754,
          0.08215646759144712,
          0.17862453729798744,
          0.10148644853731395,
          0.08378106844234962,
          0.12532295377791763,
          0.09383699917013592,
          0.10790654346033986,
          0.2277157606580048,
          0.08186064451541729,
          0.12622565955704207,
          0.14668668226271334,
          0.12559298586314532,
          0.11001683763654135,
          0.15267586929842505,
          0.10812444637897745,
          0.1781985614870636,
          0.0997613267763632,
          0.1456140295504959,
          0.10977634857175636,
          0.11366390757931415,
          0.10097798455284178,
          0.15659422438962678,
          0.09574607550720124,
          0.1203675955368272,
          0.08445655174653617,
          0.1032571400147795,
          0.10605088563352913,
          0.15442451370366722,
          0.08621134345851052,
          0.1435729405745126,
          0.13901536765913503,
          0.08630663420922113,
          0.20705695258913898,
          0.1059063493882759,
          0.17766650320592856,
          0.15730212357506027,
          0.08118388829718366,
          0.13567096064949788,
          0.1068479025018193,
          0.11443204864061265,
          0.14762822538263962,
          0.09770477507684029,
          0.12481538572695668,
          0.10089451153413476,
          0.09868777459478953,
          0.08979533597536173,
          0.09257417824961817,
          0.12480993122754667,
          0.12508735285441955,
          0.14532083903813145,
          0.10934305709392468,
          0.11029119588857483,
          0.16971896929497376,
          0.11649691703190887,
          0.10618401698750313,
          0.11862368221532031,
          0.104771662094332,
          0.1891695163479772,
          0.18932246564311167,
          0.08230280487757531,
          0.0899771533387091,
          0.1531564129426418,
          0.09505733665682256,
          0.15576349578787665,
          0.14108840323262542,
          0.18081646499656576,
          0.16441447080868637,
          0.1257986632277675,
          0.13069243481209789,
          0.15327987448656655,
          0.11433545963601088,
          0.11106483970623156,
          0.13707989627244652,
          0.1366610131926717,
          0.10122668749245939,
          0.12492891411501302,
          0.11009827992427884,
          0.10137781784719556,
          0.12067791946610705,
          0.0868752027218196,
          0.09259399144156122,
          0.1176677191088905,
          0.11253192762724225,
          0.1429177920789613,
          0.15571511541470232,
          0.08400446248105314,
          0.14265544931544658,
          0.2172671911230697,
          0.1043768738907348,
          0.07625813752169505,
          0.09545021347860744,
          0.0966335221938672,
          0.13484608062748976,
          0.15536031757699054,
          0.10433002586938747,
          0.16779942177197193,
          0.14386229110181414,
          0.1073959760903452,
          0.1205330404691459,
          0.1268565699779254,
          0.20025719971702885,
          0.1392782500634704,
          0.07565578020476639,
          0.13328161651531784,
          0.09089631443297219,
          0.09016501670048714,
          0.12424028321261328,
          0.10327064594032034,
          0.09794205997635749,
          0.0807770098810412,
          0.09704483095445163,
          0.10509318202219199,
          0.10094638889623725,
          0.10416184602619023,
          0.1496739397713569,
          0.12487247083256794,
          0.11121628645224459,
          0.13045928719848696,
          0.10342448879239531,
          0.10932865436869484,
          0.09259247474664792,
          0.12007586519425824,
          0.13600118841481587,
          0.17329715606340132,
          0.11453751101910395,
          0.16317811172372496,
          0.12636902546970574,
          0.15569321253130275,
          0.1017410102186165,
          0.0850651891895271,
          0.14738150434914069,
          0.15615538532305862,
          0.12911578069662802,
          0.17703484092944777,
          0.10508394870657635,
          0.08301935434895494,
          0.06924185123329242,
          0.12048751915239632,
          0.13256298897808078,
          0.11955849848705745,
          0.07902591774024316,
          0.07619194409628294,
          0.1338525714061391,
          0.10162074538839273,
          0.13784297597607514,
          0.13816190558224611,
          0.1251268481529557,
          0.097140883165613,
          0.14696929069696896,
          0.11850267641281162,
          0.09256621321457885,
          0.11990930671663369,
          0.16907445637163807,
          0.10479300364540048,
          0.0929588987097817,
          0.15774477985873783,
          0.12751321947514385,
          0.11745642518936637,
          0.0795241054566045,
          0.10921233418373963,
          0.12880699790166975,
          0.16117589633820195,
          0.11660200657810373,
          0.1467693425112333,
          0.10591260509732378,
          0.17268343964641839,
          0.10782959592130778,
          0.09622436252073113,
          0.12006524864293809,
          0.16499169481167106,
          0.09442660599189819,
          0.10250328902445552,
          0.09067981397076298,
          0.12109559906966352,
          0.0892212473885784,
          0.16225147076359694,
          0.12487237066211317,
          0.1087847050971061,
          0.14534916715610632,
          0.13409846538444725,
          0.08472839234337005,
          0.15625870269013284,
          0.11402043764630396,
          0.09336088061189363,
          0.09962558251795364,
          0.144058106358757,
          0.11311579353702829,
          0.11563740719360313,
          0.10917008372601422,
          0.17626034858843964,
          0.24778464986827992,
          0.10874524387844142,
          0.10157230600358304,
          0.12543686212873498,
          0.16782778640986748,
          0.08055524289769168,
          0.11426950498047245,
          0.15992042767637885,
          0.1394700349942289,
          0.19399285590709284,
          0.10307599285850706,
          0.13284398130877814,
          0.14003873970287264,
          0.1433036986465244,
          0.12913251562734915,
          0.14684223273670766,
          0.0926226503592018,
          0.15848805123097406,
          0.09441199659168695,
          0.08529997831346835,
          0.23537258934014452,
          0.06782906402473873,
          0.08544320200915305,
          0.1396043729160627,
          0.08342400180511861,
          0.12339212925715665,
          0.39371084346530555,
          0.12005716637279744,
          0.12253318343325134,
          0.07706247272880504,
          0.11412298985744243,
          0.07766163837285144,
          0.1058425907555293,
          0.11480996410015744,
          0.08036133249885782,
          0.24049134141222614,
          0.10740970241948514,
          0.09342781420615187,
          0.07679588863357005,
          0.17584408113828476,
          0.12603903042594014,
          0.1503559213401776,
          0.11790538375084478,
          0.15223962369227054,
          0.11787678782894978,
          0.13967079914438713,
          0.12190585960283871,
          0.1386281029702188,
          0.09802901561849155,
          0.0814935950129851,
          0.0765991335105702,
          0.17517266584979105,
          0.12481765938449037,
          0.1279540417081037,
          0.1066153725600629,
          0.12857585494400572,
          0.19466224746397573,
          0.13877732901913836,
          0.11396986683405191,
          0.1232841589342591,
          0.14327129521759754,
          0.1110457998671854,
          0.11426233466290782,
          0.1237355596913269,
          0.10983063224363378,
          0.1166405665127581,
          0.07101071631366741,
          0.0821012004116269,
          0.07145480317807167,
          0.0889220414562825,
          0.1994899896911816,
          0.20986412300990528,
          0.08914920092876873,
          0.13450092170763225,
          0.12339212914795912,
          0.16400098865205867,
          0.11596604556311249,
          0.09183184092581437,
          0.09872901448766469,
          0.1145553590070639,
          0.10551139181108356,
          0.14549254643648307,
          0.1480370737622916,
          0.09255068450826782,
          0.08377927725708885,
          0.16558479294195472,
          0.08031842482944193,
          0.11584896953091792,
          0.08748136292525534,
          0.08503624435077825,
          0.20829740508145833,
          0.07765799900007093,
          0.10066820140888234,
          0.10121928160709762,
          0.10579986453107817,
          0.13284398130877814,
          0.19863509101743856,
          0.14387887285431628,
          0.12675519928309018,
          0.1507550635899522,
          0.11924747483599164,
          0.10916542338659169,
          0.15494243820144235,
          0.12560584272651865,
          0.15901068941868074,
          0.10976579687417999,
          0.21197999166948445,
          0.07979448370858869,
          0.14846828902286235,
          0.11672806140623622,
          0.10295903292915012,
          0.0741938640468487,
          0.11922820590206772,
          0.1046941864719169,
          0.10351968585973925,
          0.1549592474620521,
          0.13703395130579354,
          0.08941772556259889,
          0.09369215217360598,
          0.08515544459910045,
          0.08150198809066796,
          0.09509753235769111,
          0.09035656417174276,
          0.10920878270389585,
          0.12296177987701225,
          0.11988938810854564,
          0.10629483315696757,
          0.0749029893352465,
          0.1302021252105078,
          0.10897921027739992,
          0.1052544307670495,
          0.1418878541493258,
          0.11904308593884497,
          0.09235313342608263,
          0.08035286191845799,
          0.12532294831892754,
          0.11739666145319883,
          0.14413306213787758,
          0.10606817291113843,
          0.10122552996290923,
          0.11019868016548201,
          0.13674845373589245,
          0.1306109740562938,
          0.17430323240744539,
          0.1426710186620837,
          0.16400098865205862,
          0.12311774907365146,
          0.16295244011921906,
          0.13626378259163474,
          0.1578500649410744,
          0.1283889250194173,
          0.11933707378884674,
          0.1469800373837723,
          0.1311176896772724,
          0.19683266239516325,
          0.08731589137388941,
          0.08830747673779243,
          0.20077003044775613,
          0.09186611712447401,
          0.08169604433135996,
          0.11037187613376274,
          0.11202110071139075,
          0.07927747832546053,
          0.1574448992682978,
          0.11535505791934113,
          0.1186381324517838,
          0.22270388587976533,
          0.10973596057063341,
          0.09713143077218542,
          0.16278703782303067,
          0.09611533468575217,
          0.15431107045832881,
          0.13926493491260095,
          0.1324735991342743,
          0.259791100191125,
          0.10087833369315372,
          0.09242297675961182,
          0.1301077310482431,
          0.18245727637794038,
          0.1405935208550828,
          0.0875154350385449,
          0.10642954298696103,
          0.1951634876265842,
          0.15718087928301255,
          0.10188015891342528,
          0.11929756999321924,
          0.11294550706226503,
          0.14493105481664323,
          0.11304820234215975,
          0.11002529580642695,
          0.10624976864364657,
          0.1598787736799947,
          0.1076442717263737,
          0.12694883289962852,
          0.08092874447051673,
          0.09523783281624451,
          0.1107998780301348,
          0.08693941302904806,
          0.09396885918797944,
          0.08828383905381469,
          0.15434659050275107,
          0.19078278483891975,
          0.10503644379738586,
          0.10703670344868765,
          0.12659189782395713,
          0.09418078723069333,
          0.13553651547426193,
          0.12142162718821643,
          0.13294879214046215,
          0.12349809252646117,
          0.14221083613502367,
          0.08845790015719993,
          0.1025931912952702,
          0.15609992653521929,
          0.0964339511705254,
          0.15667541190505185,
          0.0795116992692729,
          0.18153506714111,
          0.10581482394655284,
          0.10402149270228521,
          0.10243738038818226,
          0.15248204316210665,
          0.12590716605038257,
          0.08481373885164416,
          0.07311361049446312,
          0.06696122299498031,
          0.12838278221502683,
          0.1388828770122751,
          0.10845261198402868,
          0.09487004052815717,
          0.11298788658583511,
          0.1406334290334851,
          0.08917012384658614,
          0.09714114732634546,
          0.11042780274502549,
          0.08164336419884632,
          0.13075029532116084,
          0.13502360106828826,
          0.26740223602087,
          0.12081912894013692,
          0.12014577935146864,
          0.07835208360758648,
          0.1267826042653633,
          0.11226993660754843,
          0.12250096005508758,
          0.11656379104233508,
          0.12067231547394079,
          0.10400225105624523,
          0.15279911111840544,
          0.08280290953129824,
          0.18038828576017038,
          0.10347982404049642,
          0.10528392228620709,
          0.13203272200943414,
          0.11301367921254953,
          0.18932246564311167,
          0.10141609699944877,
          0.2673318103138048,
          0.1327377149565457,
          0.09342148271639458,
          0.10505097488123788,
          0.1785571413164224,
          0.1142329735936667,
          0.08753163290531349,
          0.11954260122496976,
          0.1689419404084914,
          0.09923953021602355,
          0.08903419748918218,
          0.1305898918115362,
          0.16642116386949132,
          0.09441851520760498,
          0.09871408899166563,
          0.1046805087267463,
          0.10235665019903588,
          0.0981214962606988,
          0.1169989626102282,
          0.13781407476649438,
          0.07319535110864034,
          0.07189333534993271,
          0.08771706266546357,
          0.08375920640020837,
          0.10735785611756443,
          0.1346316742741167,
          0.11371600781271007,
          0.09426862988223057,
          0.09794895834216635,
          0.11645890725091665,
          0.1038543119244983,
          0.13462666725006395,
          0.131872527528512,
          0.11199308052202622,
          0.10592807803844134,
          0.181068578304713,
          0.08687776691610699,
          0.16400098865205862,
          0.1560078905944212,
          0.1328198811020858,
          0.136745010633547,
          0.10965514006609953,
          0.11462006680854868,
          0.15705663234657372,
          0.09993058226624481,
          0.13895990447940365,
          0.15018204441344196,
          0.11980285592465373,
          0.1437764305638384,
          0.09985295536890605,
          0.12377877744167504,
          0.0851251431161535,
          0.12945764926422043,
          0.10632046922739914,
          0.1228417635774651,
          0.11632126802808032,
          0.1357219555317736,
          0.09250297321254997,
          0.1357963782860516,
          0.15366319491476282,
          0.14544808462338046,
          0.09711085249962903,
          0.12255733243806903,
          0.0983552514725667,
          0.09333855305098684,
          0.07156942588667041,
          0.14502265277276744,
          0.1753409695233313,
          0.13020490045803965,
          0.14648655413643202,
          0.12286838670188059,
          0.10319871412271489,
          0.11252277099890201,
          0.09078249256955462,
          0.1560063329335025,
          0.12155847976799211,
          0.0997765400934308,
          0.15176024705687088,
          0.16115776729656367,
          0.10033424172461271,
          0.10420935869861958,
          0.0946187010639217,
          0.10053649878370514,
          0.14228349569999557,
          0.10980005930321338,
          0.13228890035968308,
          0.1259052644006034,
          0.09162635482214322,
          0.14824405103343924,
          0.07614730450568939,
          0.08485291204882286,
          0.18709032036428042,
          0.09843213435212812,
          0.09837876124875156,
          0.16295244011921908,
          0.10144261159088863,
          0.15725638439388404,
          0.10874472183231322,
          0.1005293390258079,
          0.11450927756443874,
          0.10101757538116475,
          0.11850517197726193,
          0.08457566253933704,
          0.15774542113561066,
          0.14608386556666667,
          0.15638538945794053,
          0.12141241305410556,
          0.1558789285416154,
          0.17560242687080058,
          0.14878109213436086,
          0.07675478974419406,
          0.11136360725328462,
          0.33991393014268884,
          0.09802901561847546,
          0.15324391843472213,
          0.16359211105511515,
          0.07653098315709676,
          0.11556295027310938,
          0.08255573167060283,
          0.10057626379961299,
          0.11708430711556005,
          0.129703684681481,
          0.08661256298032445,
          0.11359706876581964,
          0.13666889647435443,
          0.13687110076676057,
          0.09400147915015948,
          0.09227401627309471,
          0.08332149088640849,
          0.13687550754011973,
          0.08496647223817136,
          0.12772347878276516,
          0.11447366414113752,
          0.10431220499853743,
          0.12657210427745336,
          0.09394815694295133,
          0.20772191290057426,
          0.11077328006186747,
          0.095419680196115,
          0.10382922840180694,
          0.10129047747684328,
          0.09569065230972496,
          0.12278350981688793,
          0.19054281990731584,
          0.1357356107402517,
          0.14802985274391947,
          0.10703645851595636,
          0.19603473704394533,
          0.09641836481663825,
          0.11462478818733884,
          0.11369684498735336,
          0.08982194897824332,
          0.16440028879636792,
          0.142597484885058,
          0.1285302958898339,
          0.13568235214692165,
          0.07838604120000085,
          0.23137124720696117,
          0.11392275169098115,
          0.09280547549143213,
          0.14587763565615022,
          0.12472727258174653,
          0.11355676169099563,
          0.20709642766549524,
          0.16295244011921908,
          0.19723778550321572,
          0.11455710601683991,
          0.09490604363419967,
          0.10914714960927971,
          0.07371979445893265,
          0.12947239433127114,
          0.1415348162865287,
          0.08878977156520236,
          0.1266665694747718,
          0.08373204484489023,
          0.11804986136002057,
          0.11727120206923715,
          0.10246527285835587,
          0.08909697647653327,
          0.153402306072024,
          0.2508664162003625,
          0.07679541179488836,
          0.10259659304425299,
          0.13887427640963265,
          0.12712188279179082,
          0.13401983749639274,
          0.14837642004881807,
          0.13746775058753963,
          0.1595531301052902,
          0.10314493158778416,
          0.15161836981155363,
          0.09696263996908698,
          0.11752221359702437,
          0.1574718359142592,
          0.08962934963697851,
          0.09700922736903034,
          0.12322866699793382,
          0.11088422731987131,
          0.12188029232288365,
          0.13541302780019865,
          0.07099815518803212,
          0.13872701167018217,
          0.12480104515216697,
          0.21197999166948428,
          0.11623803650211945,
          0.0930923198637068,
          0.09951340299430514,
          0.13214322238144285,
          0.13218973941891213,
          0.08833255984198089,
          0.12376215103521115,
          0.13689510872914135,
          0.10830446969016866,
          0.13601869594030244,
          0.09131314677209244,
          0.141385266546726,
          0.09121143660122707,
          0.08563170381625387,
          0.12070160356215189,
          0.14034269996004342,
          0.1401091047871032,
          0.11667992869095431,
          0.12739673716070601,
          0.15517890717917274,
          0.09755972748321129,
          0.09968015080633039,
          0.16171262668961,
          0.10474263498990848,
          0.19153818615329293,
          0.08540134062439166,
          0.10723100125649528,
          0.1187457599837124,
          0.09200489945859475,
          0.13507153045864476,
          0.10979781481295459,
          0.08773022195135703,
          0.11962564370866181,
          0.11288405691114507,
          0.1585833489690514,
          0.14078365768035606,
          0.11571624077777988,
          0.1294947946821348,
          0.10781587339904078,
          0.09655303567938447,
          0.09421564737745533,
          0.12699779439603182,
          0.07799241804097917,
          0.11143395853791933,
          0.12938783328423747,
          0.093387677416866,
          0.07771946410157532
         ],
         "y": [
          0.339568777905103,
          0.4340164696136043,
          0.2230400791070209,
          0.36017858050409557,
          0.22065391365254888,
          0.3828089145719352,
          0.32006458907063307,
          0.21976269131604903,
          0.18997826764667158,
          0.18770547320695688,
          0.49533576246880273,
          0.4227341401029673,
          0.23105816809995017,
          0.44386639307689074,
          0.21787976299755354,
          0.4674649455931892,
          0.1330554559718029,
          0.36187453745964177,
          0.2572720078640158,
          0.16111329434896204,
          0.06624719056770512,
          0.1410070388249172,
          0.17244030624826343,
          0.5129016337161961,
          0.15220521855822908,
          0.14070054948455193,
          0.13346491765131213,
          0.37496980452058387,
          0.4377259735354796,
          0.262932352929345,
          0.3906491343989682,
          0.2028439492979207,
          0.41853982318390437,
          0.3225628452612523,
          0.23915336774399407,
          0.5162753164926872,
          0.317797539812982,
          0.34930187467056056,
          0.576637027641333,
          0.3072208629483497,
          0.14448474166629882,
          0.4183776858533199,
          0.3212242813439232,
          0.3692840888501514,
          0.23447644257390832,
          0.24295138748993197,
          0.2857264531563225,
          0.3200081410761762,
          0.2986374952770801,
          0.5354495292209289,
          0.278861912268792,
          0.6516957987800329,
          0.34310950988364486,
          0.1525257824987587,
          0.32900493249812357,
          0.2543333363845543,
          0.30349331422504944,
          0.5073049393051896,
          0.1542036944245054,
          0.12284603849370275,
          0.5628916563669893,
          0.5320587663198458,
          0.3107183592623416,
          0.3981295133770548,
          0.39681498327192144,
          0.39484771147284825,
          0.2028861937441967,
          0.35597115151380615,
          0.13651622758579912,
          0.2305084304450306,
          0.24843952940573188,
          0.1340353218347397,
          0.2561110246943489,
          0.2021224017065933,
          0.24158204925448862,
          0.17935016665921222,
          0.432365534074834,
          0.358013644407103,
          0.23778522474896996,
          0.1471840113020207,
          0.19711956411791604,
          0.31335916516682294,
          0.4645621934889337,
          0.5042932658060787,
          0.16560353934573158,
          0.5129222546901111,
          0.16082301828867465,
          0.18427241153271562,
          0.3236389708582851,
          0.4606714984324194,
          0.1352210788424392,
          0.1925560242076162,
          0.10341711025381939,
          0.2410408364942112,
          0.27910391860263956,
          0.157977468451095,
          -0.0016473359471507298,
          0.23772141997586455,
          0.3531935923245336,
          0.16150699161248508,
          0.24060796512299115,
          0.2030806432543011,
          0.5204047684582782,
          0.34399786473916333,
          0.31503548045197804,
          0.1257265191906513,
          0.2188807797436076,
          0.24688981393614318,
          0.5332645287598266,
          0.2196273928771691,
          0.25114759858457836,
          0.3606818741003863,
          0.15443956200676814,
          0.24027172258840201,
          0.31793396564732757,
          0.24831458731421313,
          0.4012658978862823,
          0.5519936439749141,
          0.31842393664635016,
          0.3118096157143127,
          0.250869802711529,
          0.36240196769650035,
          0.2928255231149982,
          0.29537117692004833,
          0.507196275177971,
          0.37142224748043107,
          0.3221468619718112,
          0.17969692734816256,
          0.2899870251220154,
          0.10470290537039634,
          0.22097755048445258,
          0.514616900285695,
          0.3451689642506017,
          0.451178943845403,
          0.24230413186253294,
          0.3551771446332144,
          0.26990742132613643,
          0.3172910808557785,
          0.31444010171598213,
          0.095773202646882,
          0.33060128516956483,
          0.27665853531433793,
          0.5487582014516559,
          0.4343781750726833,
          0.30419474711548755,
          0.6161032099261111,
          0.27052134318095156,
          0.38280891457194094,
          0.30797234238118404,
          0.33133630517089585,
          0.22532715989121355,
          0.2840948531434305,
          0.21065314470063906,
          0.16997589353546522,
          0.39850365095028134,
          0.4438489801403421,
          0.23874714360461918,
          0.43703034385772677,
          0.25598596078667774,
          0.4124161819602325,
          0.3472950547931199,
          0.2034390302639835,
          0.24316519154283528,
          0.17814619117436428,
          0.1608238292511752,
          0.23600709547373136,
          0.20794938595523085,
          0.2772879969045946,
          0.3256158115853315,
          0.347880909097037,
          0.1461056856281767,
          0.3030223713061119,
          0.300481138447604,
          0.4623287346747739,
          0.2841226794659317,
          0.2456824855883789,
          0.23024902757163046,
          0.14533440482463425,
          0.24724511753865822,
          0.3215125516876848,
          0.48880806611386546,
          0.47039924534201477,
          0.17161983091016914,
          0.3300707285226355,
          0.26533070753877047,
          0.15122997222080684,
          0.30652746541508813,
          0.2751983310350319,
          0.29868737195711953,
          0.4611812633218106,
          0.38972381743973683,
          0.2301207638526976,
          0.29012018290149066,
          0.1544395620067563,
          0.23904885473213094,
          0.41924792549283085,
          0.5810354874783022,
          0.19715003837589934,
          0.20343584142407506,
          0.42307075233293995,
          0.17500687011420285,
          0.1427218582877653,
          0.35090066972796513,
          0.1406986600286144,
          0.4006245373415025,
          0.3327569679619643,
          0.3340468382182759,
          0.15827615016416377,
          0.5061382105076491,
          0.41637313413918997,
          0.2187059598070185,
          0.22922164569327128,
          0.3760531503616388,
          0.5186540597819523,
          0.15265171153230456,
          0.4166681487178726,
          0.5233015332120496,
          0.10586010341331632,
          0.21768042440926405,
          0.2422087434784838,
          0.5083188995707856,
          0.1219134534638658,
          0.3699486811751372,
          0.3041928533797127,
          0.20833418668274303,
          0.5157612814552374,
          0.2110273817835417,
          0.2980097966818264,
          0.16111329434896207,
          0.43118398865911123,
          0.3481516417183651,
          0.49710846714783696,
          0.40793176995206776,
          0.44911008141255904,
          0.15398636399752028,
          0.2235555286739575,
          0.2671978207676884,
          0.5154334589297958,
          0.3589549652125047,
          0.21268416142710894,
          0.31244051014229235,
          0.33926223350112666,
          0.44158313751185607,
          0.1480652379987109,
          0.2712784293951194,
          0.5172244673278786,
          0.22324469743161973,
          0.5496761400281371,
          0.14802306048167363,
          0.5964822594428594,
          0.35819233868926464,
          0.21437609223418025,
          0.14509243545679792,
          0.2524213370242918,
          0.47785734358870696,
          0.3749698045205821,
          0.22645222511786167,
          0.17843915753368866,
          0.2647483244270409,
          0.25227743615988646,
          0.326552688653463,
          0.23782204969143317,
          0.11085887493318966,
          0.3416728364925673,
          0.30320169832952243,
          0.13081292615506923,
          0.4041576178208603,
          0.29610682592241677,
          0.3215937120774508,
          0.3093900205288223,
          0.18506356745048688,
          0.3190545194265272,
          0.17496731948977634,
          0.5954075962487255,
          0.2820268264908625,
          0.3580357681778741,
          0.3279615353505415,
          0.1307595218414145,
          0.3258925319845377,
          0.6133378022563828,
          0.19766145463605891,
          0.20067560617605915,
          0.20712466245633337,
          0.35072177539430693,
          0.4367474376137924,
          0.30528767024354214,
          0.2191787448290099,
          0.37066583938084385,
          0.33327505299471766,
          0.18003397145240654,
          0.2534908853426714,
          0.32648874712268383,
          0.20417467842875123,
          0.30824111438078633,
          0.16592717967602516,
          0.4305838692496016,
          0.5586706696514891,
          0.14455723624672012,
          0.18672238098281613,
          0.3098214589200868,
          0.3581898630297463,
          0.2062937264566826,
          0.12947788463231116,
          0.5405059527877718,
          0.1473258682594853,
          0.17762817364357597,
          0.5699761642840758,
          0.25140989351637016,
          0.09217411670692939,
          0.09798963640024078,
          0.2523673765222576,
          0.3535637909680342,
          0.35661849489649955,
          0.3174349653810977,
          0.3283563300002155,
          0.4714464052699029,
          0.3472143422822962,
          0.17652809389448268,
          0.2541513717628228,
          0.5028518948860331,
          0.4229521287477158,
          0.33161394828643737,
          0.2655201765946415,
          0.5000568115482296,
          0.15211091432108378,
          0.4368381525684002,
          0.2437900920664994,
          0.23470415642703846,
          0.12323295392963339,
          0.579630682399346,
          0.13214055212671535,
          0.4703843078811374,
          0.36044651250105775,
          0.2489955974871545,
          0.5906435785333597,
          0.3594511633538611,
          0.4350599625461892,
          0.3621701081218832,
          0.20486176515770274,
          0.3559405951387371,
          0.30871104759795576,
          0.2176288401617007,
          0.029775704989203275,
          0.2756624714605501,
          0.12790704029132305,
          0.37780079455790605,
          0.29094686323436053,
          0.3069451627028019,
          0.1614262749348748,
          0.24182150156162863,
          0.38372540587858456,
          0.4008559913423163,
          0.3122638594405673,
          0.2806499296040133,
          0.5073031330729425,
          0.16666622549488597,
          0.2417875581719428,
          0.33457966942212924,
          0.2010455912925187,
          0.2769120719814997,
          0.14706090519294612,
          0.18900218489509324,
          0.15935875234243876,
          0.2762241723193543,
          0.39767658592780336,
          0.40453946275879926,
          0.08011015349033113,
          0.5400874419253474,
          0.30083635144629234,
          0.47001037415190094,
          0.5232889123646822,
          0.5154297480880295,
          0.295164611441589,
          0.20860729480645665,
          0.07647996588723563,
          0.3404806632719569,
          0.305941332017393,
          0.3021208928670727,
          0.203391051572545,
          0.32383455633881864,
          0.25637756401128003,
          0.12817577258682805,
          0.2241461089166993,
          0.2506565707668729,
          0.23535900537239435,
          0.26261921810317757,
          0.39401692429434587,
          0.28140034652118096,
          0.5387745092522244,
          0.45225276736054243,
          0.2640233512010893,
          0.12169768257446717,
          0.2813775918217438,
          0.19295079390659303,
          0.3768281129835981,
          0.137632816450702,
          0.3078626698880544,
          0.5395962684642406,
          0.5511460583482456,
          0.41989935985712656,
          0.3559968019354799,
          0.3104479888029906,
          0.35254515762016003,
          0.5170247400277845,
          0.18224792466404818,
          0.3431826209748444,
          0.26827323345073134,
          0.2441150895943158,
          0.39880085701881396,
          0.12254465309881477,
          0.08228969205656524,
          0.11617152457666931,
          0.3811301508580344,
          0.26017990720221496,
          0.2827060286791094,
          0.21332456045067624,
          0.4935907822752098,
          0.3359534581462617,
          0.46672349439637634,
          0.2310868038228711,
          0.44701083244877154,
          0.31539080489505406,
          0.22458736433508764,
          0.44944989712639755,
          0.17944271803886389,
          0.25327433507059804,
          0.2950398182953951,
          0.23941648714758337,
          0.4585152633272213,
          0.14835739549837618,
          0.3306560528400236,
          0.24401576169547623,
          0.3837812344072643,
          0.199202457886499,
          0.2663158541937413,
          0.5085830377431059,
          0.3067953281404271,
          0.09610581361794719,
          0.1672387236317277,
          0.4570462317799714,
          0.3500988940402272,
          0.32036581661295116,
          0.16605913956063062,
          0.1401220905952026,
          0.10803631254029505,
          0.250673350564136,
          0.3699273227169704,
          0.3380237071256751,
          0.4527366702093844,
          0.1950983319607681,
          0.5267048964250944,
          0.4554463237057745,
          0.21701409432112845,
          0.3122299921166461,
          0.518718986164439,
          0.1787249918365418,
          0.3290044192266378,
          0.04477570410476965,
          0.2324575134503133,
          0.20736850915889216,
          0.31103692315609244,
          0.30898894592716253,
          0.37490225539774213,
          0.3167252633696644,
          0.39178649914630914,
          0.04513429376790125,
          0.318350862303959,
          0.30584004261074826,
          0.2854401372892184,
          0.28196735498345293,
          0.34277768192647007,
          0.42535108650872583,
          0.21084700538530946,
          0.20976088296620693,
          0.23202444957175916,
          0.18436792576187208,
          0.31390791938506896,
          0.5318102366058142,
          0.33595318870701746,
          0.3182520586379926,
          0.3699578257199217,
          0.2823188208065937,
          0.2790625717168026,
          0.5859209096583855,
          0.3825191067468354,
          0.377324146090759,
          0.3695616225130941,
          0.32720508283264754,
          0.24091809860315744,
          0.1436509936485342,
          0.23755630604339273,
          0.4453885326087311,
          0.5719182780021493,
          0.4130711356535229,
          0.33563956387577737,
          0.3335830458157871,
          0.5969957532406263,
          0.31076634063820224,
          0.3464443161075157,
          0.308890353823206,
          0.22958113724046286,
          0.19604502907901245,
          0.25301058616488775,
          0.2734628759664095,
          0.23460413769570126,
          0.26390431423220956,
          0.35686171706676023,
          0.33127483582987916,
          0.2973686222718832,
          0.6008478122736343,
          0.33805323513341057,
          0.14625769822456294,
          0.5573824943000015,
          0.15823424830047075,
          0.304190596865775,
          0.24426433901708203,
          0.14904804903239113,
          0.08744083971839459,
          0.8073419440460516,
          0.4309929506136905,
          0.3344455890054563,
          0.1241942762995869,
          0.3529468584383712,
          0.21152808351859292,
          0.46645625236750765,
          0.15933245743777466,
          0.1427440719850673,
          0.5889439913880214,
          0.4415920638778961,
          0.2628458455807563,
          0.12123234828508542,
          0.5250727108985832,
          0.3117642771628304,
          0.36500105467753713,
          0.2921678005684212,
          0.046181822625369635,
          0.36356561583923724,
          0.2866744404069724,
          0.28544163382486276,
          0.34220842513529814,
          0.04022642518771257,
          0.19725967006776596,
          0.22509382733269398,
          0.31901414133384653,
          0.30337603411942127,
          0.3582256302116413,
          0.43084372725173264,
          0.41009401337090934,
          0.4357425544671871,
          0.3866063370138698,
          0.42504844448318074,
          0.31166105031579916,
          0.35643133451822107,
          0.3871534309172788,
          0.16968365991870088,
          0.19823388100591507,
          0.28634120952253933,
          0.20745273357560579,
          0.1654282782569237,
          0.28536807268192843,
          0.23418506122783272,
          0.22640192514153124,
          0.45252461755479884,
          0.3975392037251689,
          0.28296785126031543,
          0.4413771493512433,
          0.08744083964102402,
          0.1611132943489621,
          0.21282565233188191,
          0.2879536786547967,
          0.297193289803813,
          0.2917722212666154,
          0.38781477817661925,
          0.4938761278289623,
          0.5183476933618381,
          0.1381335119704133,
          0.05816730693711253,
          0.30943537771405394,
          0.17876100344715268,
          0.16224375375962338,
          0.22995597752753744,
          0.2355644809044149,
          0.3697092051228108,
          0.28917444716542773,
          0.3493732322259441,
          0.23682983674525532,
          0.2947662244195061,
          0.2734628759664095,
          0.5542650559734809,
          0.1925139446330396,
          0.4861628436621375,
          0.5351538291936306,
          0.10347617441087577,
          0.420388100226936,
          0.5002895859884092,
          0.31746744753856915,
          0.48369336028812143,
          0.27320161351958744,
          0.3844233140867904,
          0.10134437887816046,
          0.36707205959350564,
          0.26213283235100565,
          0.39607528063661507,
          0.18401707588058736,
          0.3062110650231718,
          0.3443763376333712,
          0.2760362284164193,
          0.3873662627488676,
          0.1354656615549198,
          0.13736320302925698,
          0.2556438643389962,
          0.30635677672404216,
          0.23446264345390563,
          0.14407084547371168,
          0.30600022739693067,
          0.2616354095141892,
          0.4583791805805658,
          0.39815905327830925,
          0.36556638857194396,
          0.23781376753894376,
          0.25871422157382573,
          0.15951729152351668,
          0.33303122220478354,
          0.15612191854267218,
          0.31619056225484554,
          0.26050301980400464,
          0.17727985540175167,
          0.5699761394574308,
          0.3111191316760595,
          0.3749995243151302,
          0.23532520000258225,
          0.2486810145642819,
          0.19777794062516135,
          0.5393739589697167,
          0.3974756080855726,
          0.5954075962487262,
          0.1702310277852035,
          0.161113294348962,
          0.2790095909054231,
          0.2155270392722313,
          0.4296410672050426,
          0.3806075537301284,
          0.09066662542485393,
          0.45834465480301734,
          0.45045612380469113,
          0.277723176911405,
          0.5772214949839704,
          0.2990255933013254,
          0.3039735383901369,
          0.20343584142407492,
          0.2710754427679436,
          0.10455241528450776,
          0.3899407575717557,
          0.26768810742051186,
          0.30655948964869323,
          0.5308239786338382,
          0.24984356397643992,
          0.3569534683756852,
          0.4452851499114728,
          0.2824237027843102,
          0.23206575945060468,
          0.3885328754326523,
          0.29673393429450606,
          0.46558486302870455,
          0.5169752937827123,
          0.263655118815022,
          0.5988046660736941,
          0.2946865332995697,
          0.15751098976380878,
          0.3608129772516455,
          0.5251947899065262,
          0.1920249410375902,
          0.23003595003651559,
          0.3856907372278216,
          0.39528217885194694,
          0.595967336301407,
          0.13249503620060743,
          0.34507742089972376,
          0.35179863178654225,
          0.19800316402164161,
          0.25850328244832665,
          0.35725234990813504,
          0.30473215142248167,
          0.5300989899534424,
          0.26836237416074826,
          0.26353996602785884,
          0.08664209585933352,
          0.31679296333621243,
          0.31253441173641755,
          0.29884034731418607,
          0.19735397359604043,
          0.26760600561857883,
          0.4749763726956217,
          0.46480446779813944,
          0.24754898621660087,
          0.1656506398573378,
          0.2702515024943579,
          0.2925429440891295,
          0.3546855469158542,
          0.31421718086751577,
          0.29241590964441627,
          0.3836674622305949,
          0.4167883227988842,
          0.04313771154211994,
          0.14960049993106014,
          0.48019798041179274,
          0.21439403397663676,
          0.4817872342577036,
          0.22858089428744507,
          0.4305838692496002,
          0.27282464383022054,
          0.14196719278693154,
          0.26088506858642735,
          0.39809598391435785,
          0.41579236424377664,
          0.25442073920199143,
          0.13751640836370171,
          0.18947899315715988,
          0.22532831226271488,
          0.218176476127712,
          0.4021450657688023,
          0.28979913217696684,
          0.15724586327967954,
          0.3668386117864644,
          0.3064372560693698,
          0.29320529318122046,
          0.2651572297374466,
          0.22890806503195602,
          0.16145086303446088,
          0.3245421334215858,
          0.43614669689333385,
          0.4457756087399423,
          0.42013405853910163,
          0.231637842414879,
          0.4387422020411488,
          0.16680140563814164,
          0.38438797953621595,
          0.4564753059522877,
          0.256365660589827,
          0.33492128627193696,
          0.515954643227165,
          0.24256472294199236,
          0.11410591635199453,
          0.23795441227258107,
          0.38373632645019196,
          0.5529432321206882,
          0.4257431230476003,
          0.14706090519294615,
          0.26480581261745567,
          0.616103209926108,
          0.48495403626620087,
          0.28244148253312457,
          0.2643071732466913,
          0.4511789438454029,
          0.15808326941722106,
          0.19334830074142456,
          0.10566325281406806,
          0.5773901028297811,
          0.23913343955428412,
          0.3089567328897572,
          0.31481370599099806,
          0.13660366224656117,
          0.36338156512432274,
          0.3359517646779985,
          0.27453917283299756,
          0.32436983924084206,
          0.22088653957631021,
          0.13220957691739413,
          0.44210644373002694,
          0.1798113792705493,
          0.24631092665671034,
          0.34641489665448477,
          0.2202080307224939,
          0.3749961809155859,
          0.4895117334139522,
          0.16254225154917998,
          0.24538709221569058,
          0.21727054420000624,
          0.1983199904043497,
          0.22062008695637172,
          0.2842026509943357,
          0.49364512913841274,
          0.3961906554680182,
          0.40734648961051206,
          0.37650673055841316,
          0.26997370973564805,
          0.161113294348962,
          0.29848070099437185,
          0.37178884474252527,
          0.5393603856380813,
          0.3834616366300334,
          0.44016812557314755,
          0.3319253536321306,
          0.226603356166393,
          0.14136015954867864,
          0.4093329619664283,
          0.3082192689245622,
          0.34939327366095285,
          0.2928194114028724,
          0.4889512752626625,
          0.15431759870649128,
          0.07149841404308827,
          0.45890293423141326,
          0.3389453564331318,
          0.4296347802927289,
          0.5109752529807177,
          0.24143894714627176,
          0.236444100697051,
          0.3540134492968806,
          0.2720312237882028,
          0.23267527201234928,
          0.258832585344496,
          0.3955855335519042,
          0.22242139249100246,
          0.15267614714368505,
          0.42110709078481007,
          0.17965186385701878,
          0.42420564844485875,
          0.456496770199529,
          0.2601452420322563,
          0.3610418265509571,
          0.39569745849102667,
          0.285659365191598,
          0.1506580577255992,
          0.31890596303384544,
          0.2935250133104493,
          0.36718020976780447,
          0.4196307525926576,
          0.3212179531760051,
          0.3117508685287615,
          0.3901794547106874,
          0.23420837034915057,
          0.3765774610276713,
          0.3267655055185519,
          0.24121088347160252,
          0.19479522539509492,
          0.291604777944402,
          0.3845149174660993,
          0.15124342583649655,
          0.21995967045651899,
          0.6096035782014884,
          0.2240445308101318,
          0.2740151726436099,
          0.21552703927223135,
          0.20785710070147884,
          0.25766215171056395,
          0.21329637778332694,
          0.30094704021033947,
          0.3444148473740484,
          0.05901150649714794,
          0.3966015589137243,
          0.2078038222402196,
          0.5187023019160811,
          0.10093366201483649,
          0.5129356140768102,
          0.23495526916437542,
          0.33764109979039425,
          0.08208080396938083,
          0.1870239841005349,
          0.073429490576747,
          0.16616449503991135,
          0.7005561358560107,
          0.040226425187504466,
          0.5332457138839553,
          0.560947033693304,
          0.1078760526441829,
          0.21059003981350927,
          0.15371555855623434,
          0.2482577365512913,
          0.36427983937452135,
          0.18594958612000964,
          0.3157983188907809,
          0.5205979761864099,
          0.36672603512819013,
          0.3030212547764971,
          0.25668953752925894,
          0.2401347934501361,
          0.19889791220507724,
          0.30303100737960253,
          0.12931194428473675,
          0.23314421688397163,
          0.3147267148157554,
          0.3017629455285077,
          0.4409252859112367,
          0.20512763614269675,
          0.6025473075174766,
          0.3991710756966643,
          0.3679480944099744,
          0.3674708347900407,
          0.27821788793451885,
          0.3398074384686073,
          0.3637653030607059,
          0.17745500563969105,
          0.24328239015579595,
          0.35904547689743266,
          0.19762641338626258,
          0.4161014813515918,
          0.34342860846479506,
          0.11075923637553028,
          0.3006042065012043,
          0.15606238574996606,
          0.3263870208950543,
          0.20020333008108476,
          0.5719489479775987,
          0.355970478954994,
          0.14678453293520752,
          0.6516957987800177,
          0.2949405308725651,
          0.2920772930504538,
          0.17959505459696293,
          0.40815226933875026,
          0.3351485384113172,
          0.5907561370670776,
          0.21552703927223135,
          0.6410727752196445,
          0.2917766710112633,
          0.1457056647663583,
          0.28562258244937233,
          0.14243678935654322,
          0.47742503541637704,
          0.39789217305021196,
          0.13798931843143522,
          0.4047807223956214,
          0.1519555279848945,
          0.35694771418033194,
          0.312637110129243,
          0.3077796786025351,
          0.2115639248503152,
          0.354344503288858,
          0.1890549911368614,
          0.1421168549340976,
          0.2874864062756113,
          0.18073407720506698,
          0.23975852401394362,
          0.4983404028732612,
          0.26547771159767775,
          0.14813843184508563,
          0.49565758966757256,
          0.2936906742798201,
          0.3337252820139087,
          0.25496452181186646,
          0.1831249194848349,
          0.6269928335022835,
          0.24325186168364166,
          0.1901184629856326,
          0.3850687686526237,
          0.33143453205208745,
          0.3775700155217881,
          0.46004274409268275,
          0.30501184568051437,
          0.4340171817136098,
          0.3178753237422777,
          0.38442331408678965,
          0.2847156593952295,
          0.3068071949615469,
          0.26068029200412884,
          0.373656755258379,
          0.22543436529487765,
          0.246915813042109,
          0.2757135119495905,
          0.3593010542130717,
          0.30063041357060527,
          0.2504620914860922,
          0.21991718236512892,
          0.36808170589799605,
          0.2521241120739336,
          0.309667046591461,
          0.3149174857534922,
          0.3764081804936589,
          0.4681919153504485,
          0.16950172771994232,
          0.41473971448460295,
          0.3953857541916048,
          0.31734424996678773,
          0.18149812757402978,
          0.16784505539536784,
          0.23035191790504553,
          0.28175071758740516,
          0.2124393387180525,
          0.257284024310261,
          0.32446693139528116,
          0.30981904756772816,
          0.2601474841474929,
          0.32426404951016796,
          0.25598143470306045,
          0.4813826806267778,
          0.22867828063391302,
          0.5320940101622886,
          0.46378586003265276,
          0.27484445953496917,
          0.36116567633066465,
          0.4226447922195322,
          0.22769010584032617,
          0.31790362961805285,
          0.34220228572460903,
          0.1002496835200794,
          0.30054209533344184,
          0.4556295221730871,
          0.26371300441038575,
          0.2877744356533243
         ]
        }
       ],
       "layout": {
        "template": {
         "data": {
          "bar": [
           {
            "error_x": {
             "color": "#2a3f5f"
            },
            "error_y": {
             "color": "#2a3f5f"
            },
            "marker": {
             "line": {
              "color": "#E5ECF6",
              "width": 0.5
             },
             "pattern": {
              "fillmode": "overlay",
              "size": 10,
              "solidity": 0.2
             }
            },
            "type": "bar"
           }
          ],
          "barpolar": [
           {
            "marker": {
             "line": {
              "color": "#E5ECF6",
              "width": 0.5
             },
             "pattern": {
              "fillmode": "overlay",
              "size": 10,
              "solidity": 0.2
             }
            },
            "type": "barpolar"
           }
          ],
          "carpet": [
           {
            "aaxis": {
             "endlinecolor": "#2a3f5f",
             "gridcolor": "white",
             "linecolor": "white",
             "minorgridcolor": "white",
             "startlinecolor": "#2a3f5f"
            },
            "baxis": {
             "endlinecolor": "#2a3f5f",
             "gridcolor": "white",
             "linecolor": "white",
             "minorgridcolor": "white",
             "startlinecolor": "#2a3f5f"
            },
            "type": "carpet"
           }
          ],
          "choropleth": [
           {
            "colorbar": {
             "outlinewidth": 0,
             "ticks": ""
            },
            "type": "choropleth"
           }
          ],
          "contour": [
           {
            "colorbar": {
             "outlinewidth": 0,
             "ticks": ""
            },
            "colorscale": [
             [
              0,
              "#0d0887"
             ],
             [
              0.1111111111111111,
              "#46039f"
             ],
             [
              0.2222222222222222,
              "#7201a8"
             ],
             [
              0.3333333333333333,
              "#9c179e"
             ],
             [
              0.4444444444444444,
              "#bd3786"
             ],
             [
              0.5555555555555556,
              "#d8576b"
             ],
             [
              0.6666666666666666,
              "#ed7953"
             ],
             [
              0.7777777777777778,
              "#fb9f3a"
             ],
             [
              0.8888888888888888,
              "#fdca26"
             ],
             [
              1,
              "#f0f921"
             ]
            ],
            "type": "contour"
           }
          ],
          "contourcarpet": [
           {
            "colorbar": {
             "outlinewidth": 0,
             "ticks": ""
            },
            "type": "contourcarpet"
           }
          ],
          "heatmap": [
           {
            "colorbar": {
             "outlinewidth": 0,
             "ticks": ""
            },
            "colorscale": [
             [
              0,
              "#0d0887"
             ],
             [
              0.1111111111111111,
              "#46039f"
             ],
             [
              0.2222222222222222,
              "#7201a8"
             ],
             [
              0.3333333333333333,
              "#9c179e"
             ],
             [
              0.4444444444444444,
              "#bd3786"
             ],
             [
              0.5555555555555556,
              "#d8576b"
             ],
             [
              0.6666666666666666,
              "#ed7953"
             ],
             [
              0.7777777777777778,
              "#fb9f3a"
             ],
             [
              0.8888888888888888,
              "#fdca26"
             ],
             [
              1,
              "#f0f921"
             ]
            ],
            "type": "heatmap"
           }
          ],
          "histogram": [
           {
            "marker": {
             "pattern": {
              "fillmode": "overlay",
              "size": 10,
              "solidity": 0.2
             }
            },
            "type": "histogram"
           }
          ],
          "histogram2d": [
           {
            "colorbar": {
             "outlinewidth": 0,
             "ticks": ""
            },
            "colorscale": [
             [
              0,
              "#0d0887"
             ],
             [
              0.1111111111111111,
              "#46039f"
             ],
             [
              0.2222222222222222,
              "#7201a8"
             ],
             [
              0.3333333333333333,
              "#9c179e"
             ],
             [
              0.4444444444444444,
              "#bd3786"
             ],
             [
              0.5555555555555556,
              "#d8576b"
             ],
             [
              0.6666666666666666,
              "#ed7953"
             ],
             [
              0.7777777777777778,
              "#fb9f3a"
             ],
             [
              0.8888888888888888,
              "#fdca26"
             ],
             [
              1,
              "#f0f921"
             ]
            ],
            "type": "histogram2d"
           }
          ],
          "histogram2dcontour": [
           {
            "colorbar": {
             "outlinewidth": 0,
             "ticks": ""
            },
            "colorscale": [
             [
              0,
              "#0d0887"
             ],
             [
              0.1111111111111111,
              "#46039f"
             ],
             [
              0.2222222222222222,
              "#7201a8"
             ],
             [
              0.3333333333333333,
              "#9c179e"
             ],
             [
              0.4444444444444444,
              "#bd3786"
             ],
             [
              0.5555555555555556,
              "#d8576b"
             ],
             [
              0.6666666666666666,
              "#ed7953"
             ],
             [
              0.7777777777777778,
              "#fb9f3a"
             ],
             [
              0.8888888888888888,
              "#fdca26"
             ],
             [
              1,
              "#f0f921"
             ]
            ],
            "type": "histogram2dcontour"
           }
          ],
          "mesh3d": [
           {
            "colorbar": {
             "outlinewidth": 0,
             "ticks": ""
            },
            "type": "mesh3d"
           }
          ],
          "parcoords": [
           {
            "line": {
             "colorbar": {
              "outlinewidth": 0,
              "ticks": ""
             }
            },
            "type": "parcoords"
           }
          ],
          "pie": [
           {
            "automargin": true,
            "type": "pie"
           }
          ],
          "scatter": [
           {
            "fillpattern": {
             "fillmode": "overlay",
             "size": 10,
             "solidity": 0.2
            },
            "type": "scatter"
           }
          ],
          "scatter3d": [
           {
            "line": {
             "colorbar": {
              "outlinewidth": 0,
              "ticks": ""
             }
            },
            "marker": {
             "colorbar": {
              "outlinewidth": 0,
              "ticks": ""
             }
            },
            "type": "scatter3d"
           }
          ],
          "scattercarpet": [
           {
            "marker": {
             "colorbar": {
              "outlinewidth": 0,
              "ticks": ""
             }
            },
            "type": "scattercarpet"
           }
          ],
          "scattergeo": [
           {
            "marker": {
             "colorbar": {
              "outlinewidth": 0,
              "ticks": ""
             }
            },
            "type": "scattergeo"
           }
          ],
          "scattergl": [
           {
            "marker": {
             "colorbar": {
              "outlinewidth": 0,
              "ticks": ""
             }
            },
            "type": "scattergl"
           }
          ],
          "scattermap": [
           {
            "marker": {
             "colorbar": {
              "outlinewidth": 0,
              "ticks": ""
             }
            },
            "type": "scattermap"
           }
          ],
          "scattermapbox": [
           {
            "marker": {
             "colorbar": {
              "outlinewidth": 0,
              "ticks": ""
             }
            },
            "type": "scattermapbox"
           }
          ],
          "scatterpolar": [
           {
            "marker": {
             "colorbar": {
              "outlinewidth": 0,
              "ticks": ""
             }
            },
            "type": "scatterpolar"
           }
          ],
          "scatterpolargl": [
           {
            "marker": {
             "colorbar": {
              "outlinewidth": 0,
              "ticks": ""
             }
            },
            "type": "scatterpolargl"
           }
          ],
          "scatterternary": [
           {
            "marker": {
             "colorbar": {
              "outlinewidth": 0,
              "ticks": ""
             }
            },
            "type": "scatterternary"
           }
          ],
          "surface": [
           {
            "colorbar": {
             "outlinewidth": 0,
             "ticks": ""
            },
            "colorscale": [
             [
              0,
              "#0d0887"
             ],
             [
              0.1111111111111111,
              "#46039f"
             ],
             [
              0.2222222222222222,
              "#7201a8"
             ],
             [
              0.3333333333333333,
              "#9c179e"
             ],
             [
              0.4444444444444444,
              "#bd3786"
             ],
             [
              0.5555555555555556,
              "#d8576b"
             ],
             [
              0.6666666666666666,
              "#ed7953"
             ],
             [
              0.7777777777777778,
              "#fb9f3a"
             ],
             [
              0.8888888888888888,
              "#fdca26"
             ],
             [
              1,
              "#f0f921"
             ]
            ],
            "type": "surface"
           }
          ],
          "table": [
           {
            "cells": {
             "fill": {
              "color": "#EBF0F8"
             },
             "line": {
              "color": "white"
             }
            },
            "header": {
             "fill": {
              "color": "#C8D4E3"
             },
             "line": {
              "color": "white"
             }
            },
            "type": "table"
           }
          ]
         },
         "layout": {
          "annotationdefaults": {
           "arrowcolor": "#2a3f5f",
           "arrowhead": 0,
           "arrowwidth": 1
          },
          "autotypenumbers": "strict",
          "coloraxis": {
           "colorbar": {
            "outlinewidth": 0,
            "ticks": ""
           }
          },
          "colorscale": {
           "diverging": [
            [
             0,
             "#8e0152"
            ],
            [
             0.1,
             "#c51b7d"
            ],
            [
             0.2,
             "#de77ae"
            ],
            [
             0.3,
             "#f1b6da"
            ],
            [
             0.4,
             "#fde0ef"
            ],
            [
             0.5,
             "#f7f7f7"
            ],
            [
             0.6,
             "#e6f5d0"
            ],
            [
             0.7,
             "#b8e186"
            ],
            [
             0.8,
             "#7fbc41"
            ],
            [
             0.9,
             "#4d9221"
            ],
            [
             1,
             "#276419"
            ]
           ],
           "sequential": [
            [
             0,
             "#0d0887"
            ],
            [
             0.1111111111111111,
             "#46039f"
            ],
            [
             0.2222222222222222,
             "#7201a8"
            ],
            [
             0.3333333333333333,
             "#9c179e"
            ],
            [
             0.4444444444444444,
             "#bd3786"
            ],
            [
             0.5555555555555556,
             "#d8576b"
            ],
            [
             0.6666666666666666,
             "#ed7953"
            ],
            [
             0.7777777777777778,
             "#fb9f3a"
            ],
            [
             0.8888888888888888,
             "#fdca26"
            ],
            [
             1,
             "#f0f921"
            ]
           ],
           "sequentialminus": [
            [
             0,
             "#0d0887"
            ],
            [
             0.1111111111111111,
             "#46039f"
            ],
            [
             0.2222222222222222,
             "#7201a8"
            ],
            [
             0.3333333333333333,
             "#9c179e"
            ],
            [
             0.4444444444444444,
             "#bd3786"
            ],
            [
             0.5555555555555556,
             "#d8576b"
            ],
            [
             0.6666666666666666,
             "#ed7953"
            ],
            [
             0.7777777777777778,
             "#fb9f3a"
            ],
            [
             0.8888888888888888,
             "#fdca26"
            ],
            [
             1,
             "#f0f921"
            ]
           ]
          },
          "colorway": [
           "#636efa",
           "#EF553B",
           "#00cc96",
           "#ab63fa",
           "#FFA15A",
           "#19d3f3",
           "#FF6692",
           "#B6E880",
           "#FF97FF",
           "#FECB52"
          ],
          "font": {
           "color": "#2a3f5f"
          },
          "geo": {
           "bgcolor": "white",
           "lakecolor": "white",
           "landcolor": "#E5ECF6",
           "showlakes": true,
           "showland": true,
           "subunitcolor": "white"
          },
          "hoverlabel": {
           "align": "left"
          },
          "hovermode": "closest",
          "mapbox": {
           "style": "light"
          },
          "paper_bgcolor": "white",
          "plot_bgcolor": "#E5ECF6",
          "polar": {
           "angularaxis": {
            "gridcolor": "white",
            "linecolor": "white",
            "ticks": ""
           },
           "bgcolor": "#E5ECF6",
           "radialaxis": {
            "gridcolor": "white",
            "linecolor": "white",
            "ticks": ""
           }
          },
          "scene": {
           "xaxis": {
            "backgroundcolor": "#E5ECF6",
            "gridcolor": "white",
            "gridwidth": 2,
            "linecolor": "white",
            "showbackground": true,
            "ticks": "",
            "zerolinecolor": "white"
           },
           "yaxis": {
            "backgroundcolor": "#E5ECF6",
            "gridcolor": "white",
            "gridwidth": 2,
            "linecolor": "white",
            "showbackground": true,
            "ticks": "",
            "zerolinecolor": "white"
           },
           "zaxis": {
            "backgroundcolor": "#E5ECF6",
            "gridcolor": "white",
            "gridwidth": 2,
            "linecolor": "white",
            "showbackground": true,
            "ticks": "",
            "zerolinecolor": "white"
           }
          },
          "shapedefaults": {
           "line": {
            "color": "#2a3f5f"
           }
          },
          "ternary": {
           "aaxis": {
            "gridcolor": "white",
            "linecolor": "white",
            "ticks": ""
           },
           "baxis": {
            "gridcolor": "white",
            "linecolor": "white",
            "ticks": ""
           },
           "bgcolor": "#E5ECF6",
           "caxis": {
            "gridcolor": "white",
            "linecolor": "white",
            "ticks": ""
           }
          },
          "title": {
           "x": 0.05
          },
          "xaxis": {
           "automargin": true,
           "gridcolor": "white",
           "linecolor": "white",
           "ticks": "",
           "title": {
            "standoff": 15
           },
           "zerolinecolor": "white",
           "zerolinewidth": 2
          },
          "yaxis": {
           "automargin": true,
           "gridcolor": "white",
           "linecolor": "white",
           "ticks": "",
           "title": {
            "standoff": 15
           },
           "zerolinecolor": "white",
           "zerolinewidth": 2
          }
         }
        },
        "title": {
         "text": "Sample of Random Portfolios"
        },
        "xaxis": {
         "title": {
          "text": "Volatility (Standard Deviation)"
         }
        },
        "yaxis": {
         "title": {
          "text": "Annualised Returns"
         }
        }
       }
      }
     },
     "metadata": {},
     "output_type": "display_data"
    }
   ],
   "source": [
    "fig1 = go.Figure()\n",
    "\n",
    "fig1.add_trace(go.Scatter(\n",
    "    x=[p[\"variance\"]**0.5 for p in all_portfolios],\n",
    "    y=[p[\"return\"] for p in all_portfolios],\n",
    "    mode='markers',\n",
    "    marker=dict(\n",
    "        color=[p[\"return\"] / (p[\"variance\"]**0.5) for p in all_portfolios],\n",
    "        showscale=True,\n",
    "        size=7,\n",
    "        line=dict(width=1),\n",
    "        colorscale=\"RdBu\",\n",
    "        colorbar=dict(title=\"Sharpe<br>Ratio\")\n",
    "    ),\n",
    "    hoverinfo='text',\n",
    "    text=[\n",
    "        f\"Return: {p['return']:.2%}<br>Volatility: {p['variance']**0.5:.2f}<br>\" +\n",
    "        \"<br>\".join([f\"{p['tickers'][i]}: Weight={p['weights'][i]:.2f}\" for i in range(len(p['tickers']))])\n",
    "        for p in all_portfolios\n",
    "    ]\n",
    "))\n",
    "\n",
    "fig1.update_layout(\n",
    "    xaxis=dict(title='Volatility (Standard Deviation)'),\n",
    "    yaxis=dict(title='Annualised Returns'),\n",
    "    title='Sample of Random Portfolios'\n",
    ")\n",
    "\n",
    "fig1.show()"
   ]
  },
  {
   "cell_type": "code",
   "execution_count": 28,
   "metadata": {},
   "outputs": [
    {
     "data": {
      "application/vnd.plotly.v1+json": {
       "config": {
        "plotlyServerURL": "https://plot.ly"
       },
       "data": [
        {
         "hoverinfo": "text",
         "marker": {
          "color": [
           2.7125621207362216,
           3.1550465418364793,
           2.006017110922696,
           3.3469052746592824,
           2.0974400068554044,
           2.619038265628795,
           4.090626695317115,
           2.4072390048901773,
           3.48561255175459,
           2.3410376845253547,
           3.411697950904342,
           1.512837407388548,
           3.0923989792219713,
           3.37402232153859,
           1.7013176518981619,
           4.17093009879747,
           2.636268510605496,
           2.486851803421784,
           2.1132110952049006,
           3.8854154236594756,
           3.111314102645221,
           3.2453701403037685,
           3.17100202780409,
           2.816667181627303,
           2.2215879847010664,
           3.8816684621363935,
           3.439003898825414,
           3.3552956092686466,
           3.480866439610705,
           3.279945881564938,
           3.609131037368351,
           3.373526825476757,
           3.90717338240073,
           3.4797186442094246,
           3.8340428232996615,
           3.808682674890837,
           3.8191998816041557,
           3.550500214888646,
           3.2756002708701137,
           3.903708914348838,
           4.022441922329986,
           3.972525961323767,
           4.410739533526465,
           2.8235252501902157,
           3.4159297451060535,
           3.7661193540219178,
           4.548058812068215,
           3.0828901728806666,
           3.7534887984923673,
           3.744512846272,
           4.183544373471155,
           3.349826166492639,
           4.196539097686775,
           4.322098544243805,
           2.4152838298366732,
           3.911228191379306,
           3.749684974796506,
           4.041565842328721,
           3.557192560370478,
           3.7911237320849067,
           2.332838445813719,
           2.0505961607257484,
           4.4070751579098095,
           3.723691710948715,
           3.1749569629931664,
           4.548058812077494,
           3.866917769384189,
           3.791602000319237,
           2.829682384555073,
           3.4260606418914863,
           3.9492304704233683,
           4.12370335169887,
           3.2583384165174314,
           2.0609809535076473,
           4.58284691535151,
           4.449915438363486,
           2.81666718162727,
           3.250253360856115,
           3.9816188708415816,
           4.296053113953713
          ],
          "colorbar": {
           "title": {
            "text": "Sharpe<br>Ratio"
           }
          },
          "colorscale": [
           [
            0,
            "rgb(103,0,31)"
           ],
           [
            0.1,
            "rgb(178,24,43)"
           ],
           [
            0.2,
            "rgb(214,96,77)"
           ],
           [
            0.3,
            "rgb(244,165,130)"
           ],
           [
            0.4,
            "rgb(253,219,199)"
           ],
           [
            0.5,
            "rgb(247,247,247)"
           ],
           [
            0.6,
            "rgb(209,229,240)"
           ],
           [
            0.7,
            "rgb(146,197,222)"
           ],
           [
            0.8,
            "rgb(67,147,195)"
           ],
           [
            0.9,
            "rgb(33,102,172)"
           ],
           [
            1,
            "rgb(5,48,97)"
           ]
          ],
          "line": {
           "width": 1
          },
          "showscale": true,
          "size": 7
         },
         "mode": "markers",
         "name": "Portfolios",
         "text": [
          "Return: 33.96%<br>Volatility: 0.13<br>EMR_Close: Weight=0.32<br>WMT_Close: Weight=0.60<br>BAC_Close: Weight=0.08<br>CPB_Close: Weight=0.00",
          "Return: 43.40%<br>Volatility: 0.14<br>LLY_Close: Weight=0.00<br>RTX_Close: Weight=0.29<br>SO_Close: Weight=0.00<br>ABBV_Close: Weight=0.71<br>SNAP_Close: Weight=0.00",
          "Return: 22.30%<br>Volatility: 0.11<br>GM_Close: Weight=0.17<br>SAP_Close: Weight=0.44<br>BTI_Close: Weight=0.00<br>CRM_Close: Weight=0.39<br>AMD_Close: Weight=0.00",
          "Return: 36.02%<br>Volatility: 0.11<br>ADBE_Close: Weight=0.15<br>RDY_Close: Weight=0.00<br>UNH_Close: Weight=0.48<br>TXN_Close: Weight=0.29<br>EMR_Close: Weight=0.08",
          "Return: 19.00%<br>Volatility: 0.09<br>JNJ_Close: Weight=0.53<br>MS_Close: Weight=0.09<br>COST_Close: Weight=0.08<br>REGN_Close: Weight=0.00<br>AAPL_Close: Weight=0.31",
          "Return: 49.53%<br>Volatility: 0.19<br>MS_Close: Weight=0.08<br>AAPL_Close: Weight=0.13<br>CRM_Close: Weight=0.21<br>BABA_Close: Weight=0.41<br>NVDA_Close: Weight=0.18",
          "Return: 42.27%<br>Volatility: 0.10<br>VZ_Close: Weight=0.00<br>PEP_Close: Weight=0.28<br>DE_Close: Weight=0.29<br>WFC_Close: Weight=0.00<br>BA_Close: Weight=0.43",
          "Return: 23.11%<br>Volatility: 0.10<br>KR_Close: Weight=0.00<br>LMT_Close: Weight=0.76<br>SYY_Close: Weight=0.24<br>LLY_Close: Weight=0.00",
          "Return: 44.39%<br>Volatility: 0.13<br>RDY_Close: Weight=0.00<br>VRTX_Close: Weight=0.09<br>ACN_Close: Weight=0.39<br>ABBV_Close: Weight=0.52",
          "Return: 21.79%<br>Volatility: 0.09<br>SYK_Close: Weight=0.16<br>GIS_Close: Weight=0.00<br>PEP_Close: Weight=0.36<br>ABT_Close: Weight=0.48",
          "Return: 46.75%<br>Volatility: 0.14<br>CAT_Close: Weight=0.62<br>SYY_Close: Weight=0.20<br>RTX_Close: Weight=0.18",
          "Return: 13.31%<br>Volatility: 0.09<br>ZBH_Close: Weight=0.04<br>KR_Close: Weight=0.00<br>BTI_Close: Weight=0.10<br>AEP_Close: Weight=0.76<br>GILD_Close: Weight=0.09",
          "Return: 25.73%<br>Volatility: 0.08<br>TXN_Close: Weight=0.26<br>HON_Close: Weight=0.48<br>QCOM_Close: Weight=0.00<br>JNJ_Close: Weight=0.22<br>PG_Close: Weight=0.03",
          "Return: 51.29%<br>Volatility: 0.15<br>TMO_Close: Weight=0.25<br>DIS_Close: Weight=0.00<br>BSX_Close: Weight=0.00<br>CVX_Close: Weight=0.04<br>CAT_Close: Weight=0.71",
          "Return: 14.07%<br>Volatility: 0.08<br>KO_Close: Weight=0.85<br>QCOM_Close: Weight=0.15<br>UA_Close: Weight=0.00",
          "Return: 43.77%<br>Volatility: 0.10<br>LMT_Close: Weight=0.38<br>CAT_Close: Weight=0.37<br>WMT_Close: Weight=0.25<br>JPM_Close: Weight=0.00<br>IBM_Close: Weight=0.00",
          "Return: 20.28%<br>Volatility: 0.08<br>SO_Close: Weight=0.00<br>SAP_Close: Weight=0.27<br>KO_Close: Weight=0.29<br>NEE_Close: Weight=0.44<br>MRK_Close: Weight=0.00",
          "Return: 51.63%<br>Volatility: 0.21<br>ADBE_Close: Weight=0.46<br>META_Close: Weight=0.26<br>NVDA_Close: Weight=0.28",
          "Return: 57.66%<br>Volatility: 0.27<br>COST_Close: Weight=0.33<br>CPB_Close: Weight=0.00<br>NVDA_Close: Weight=0.67",
          "Return: 36.93%<br>Volatility: 0.10<br>PYPL_Close: Weight=0.25<br>NEE_Close: Weight=0.33<br>UNH_Close: Weight=0.32<br>GM_Close: Weight=0.09",
          "Return: 24.30%<br>Volatility: 0.08<br>NEE_Close: Weight=0.37<br>K_Close: Weight=0.00<br>GM_Close: Weight=0.12<br>V_Close: Weight=0.40<br>PEP_Close: Weight=0.11",
          "Return: 29.86%<br>Volatility: 0.09<br>CVX_Close: Weight=0.25<br>AMZN_Close: Weight=0.28<br>WFC_Close: Weight=0.00<br>HD_Close: Weight=0.46<br>DIS_Close: Weight=0.00",
          "Return: 53.54%<br>Volatility: 0.17<br>MS_Close: Weight=0.08<br>TMO_Close: Weight=0.16<br>PYPL_Close: Weight=0.48<br>BABA_Close: Weight=0.28",
          "Return: 65.17%<br>Volatility: 0.23<br>UA_Close: Weight=0.00<br>BSX_Close: Weight=0.00<br>PYPL_Close: Weight=1.00",
          "Return: 15.25%<br>Volatility: 0.07<br>DIS_Close: Weight=0.00<br>PFE_Close: Weight=0.24<br>KO_Close: Weight=0.51<br>AAPL_Close: Weight=0.25",
          "Return: 32.90%<br>Volatility: 0.08<br>TMO_Close: Weight=0.05<br>TXN_Close: Weight=0.26<br>VZ_Close: Weight=0.03<br>KO_Close: Weight=0.33<br>ABBV_Close: Weight=0.32",
          "Return: 56.29%<br>Volatility: 0.16<br>GS_Close: Weight=0.00<br>BA_Close: Weight=0.92<br>VZ_Close: Weight=0.00<br>QCOM_Close: Weight=0.08",
          "Return: 53.21%<br>Volatility: 0.16<br>CAT_Close: Weight=0.74<br>SYK_Close: Weight=0.26<br>SRE_Close: Weight=0.00",
          "Return: 50.43%<br>Volatility: 0.14<br>BA_Close: Weight=0.81<br>LLY_Close: Weight=0.04<br>TSLA_Close: Weight=0.03<br>BTI_Close: Weight=0.12",
          "Return: 51.29%<br>Volatility: 0.16<br>BABA_Close: Weight=0.37<br>DE_Close: Weight=0.63<br>REGN_Close: Weight=0.00",
          "Return: 46.07%<br>Volatility: 0.13<br>CAT_Close: Weight=0.54<br>MMM_Close: Weight=0.42<br>DIS_Close: Weight=0.00<br>REGN_Close: Weight=0.04",
          "Return: 23.77%<br>Volatility: 0.07<br>KO_Close: Weight=0.20<br>V_Close: Weight=0.24<br>HON_Close: Weight=0.31<br>NEE_Close: Weight=0.25",
          "Return: 52.04%<br>Volatility: 0.13<br>CAT_Close: Weight=0.51<br>ISRG_Close: Weight=0.39<br>MS_Close: Weight=0.00<br>VZ_Close: Weight=0.10",
          "Return: 53.33%<br>Volatility: 0.15<br>PG_Close: Weight=0.00<br>CAT_Close: Weight=0.68<br>META_Close: Weight=0.32",
          "Return: 55.20%<br>Volatility: 0.14<br>DIS_Close: Weight=0.00<br>WMT_Close: Weight=0.42<br>CAT_Close: Weight=0.58",
          "Return: 50.72%<br>Volatility: 0.13<br>MA_Close: Weight=0.40<br>CSCO_Close: Weight=0.00<br>AMZN_Close: Weight=0.11<br>CAT_Close: Weight=0.49",
          "Return: 44.38%<br>Volatility: 0.12<br>GOOG_Close: Weight=0.20<br>CAT_Close: Weight=0.47<br>GE_Close: Weight=0.00<br>EXC_Close: Weight=0.19<br>ADBE_Close: Weight=0.14",
          "Return: 47.04%<br>Volatility: 0.13<br>MS_Close: Weight=0.00<br>BA_Close: Weight=0.70<br>EMR_Close: Weight=0.12<br>K_Close: Weight=0.00<br>CVX_Close: Weight=0.17",
          "Return: 58.10%<br>Volatility: 0.18<br>ORCL_Close: Weight=0.12<br>F_Close: Weight=0.00<br>CAT_Close: Weight=0.88",
          "Return: 51.58%<br>Volatility: 0.13<br>SO_Close: Weight=0.00<br>CAT_Close: Weight=0.49<br>ISRG_Close: Weight=0.39<br>ETN_Close: Weight=0.00<br>CVX_Close: Weight=0.12",
          "Return: 49.71%<br>Volatility: 0.12<br>ACN_Close: Weight=0.32<br>BABA_Close: Weight=0.18<br>BA_Close: Weight=0.50<br>PM_Close: Weight=0.00",
          "Return: 44.16%<br>Volatility: 0.11<br>MDT_Close: Weight=0.00<br>BA_Close: Weight=0.46<br>MA_Close: Weight=0.34<br>LMT_Close: Weight=0.16<br>PFE_Close: Weight=0.05",
          "Return: 54.97%<br>Volatility: 0.12<br>BA_Close: Weight=0.45<br>CMCSA_Close: Weight=0.00<br>CAT_Close: Weight=0.35<br>INTC_Close: Weight=0.17<br>CVX_Close: Weight=0.04",
          "Return: 59.65%<br>Volatility: 0.21<br>GILD_Close: Weight=0.00<br>MDT_Close: Weight=0.00<br>PYPL_Close: Weight=0.92<br>GIS_Close: Weight=0.08",
          "Return: 59.54%<br>Volatility: 0.17<br>MO_Close: Weight=0.00<br>PM_Close: Weight=0.00<br>BA_Close: Weight=1.00",
          "Return: 55.87%<br>Volatility: 0.15<br>BABA_Close: Weight=0.26<br>SYK_Close: Weight=0.18<br>CAT_Close: Weight=0.56",
          "Return: 57.00%<br>Volatility: 0.13<br>ZBH_Close: Weight=0.00<br>ABBV_Close: Weight=0.46<br>REGN_Close: Weight=0.00<br>BA_Close: Weight=0.54<br>MS_Close: Weight=0.00",
          "Return: 25.24%<br>Volatility: 0.08<br>KO_Close: Weight=0.37<br>PFE_Close: Weight=0.11<br>MSFT_Close: Weight=0.24<br>GS_Close: Weight=0.00<br>MA_Close: Weight=0.28",
          "Return: 57.96%<br>Volatility: 0.15<br>BSX_Close: Weight=0.00<br>NFLX_Close: Weight=0.03<br>PYPL_Close: Weight=0.39<br>ABBV_Close: Weight=0.58",
          "Return: 37.78%<br>Volatility: 0.10<br>SYK_Close: Weight=0.05<br>MMM_Close: Weight=0.29<br>MS_Close: Weight=0.00<br>PEP_Close: Weight=0.27<br>CAT_Close: Weight=0.40",
          "Return: 39.77%<br>Volatility: 0.10<br>WMT_Close: Weight=0.28<br>SYK_Close: Weight=0.00<br>MMM_Close: Weight=0.27<br>ABBV_Close: Weight=0.33<br>JPM_Close: Weight=0.12",
          "Return: 28.14%<br>Volatility: 0.08<br>LMT_Close: Weight=0.35<br>MRK_Close: Weight=0.00<br>HD_Close: Weight=0.36<br>EMR_Close: Weight=0.01<br>MMM_Close: Weight=0.28",
          "Return: 46.67%<br>Volatility: 0.11<br>BA_Close: Weight=0.49<br>RTX_Close: Weight=0.00<br>DE_Close: Weight=0.27<br>TMO_Close: Weight=0.24",
          "Return: 44.70%<br>Volatility: 0.10<br>BA_Close: Weight=0.45<br>MCD_Close: Weight=0.44<br>AMGN_Close: Weight=0.00<br>EXC_Close: Weight=0.11",
          "Return: 16.72%<br>Volatility: 0.07<br>EW_Close: Weight=0.05<br>COST_Close: Weight=0.01<br>AEP_Close: Weight=0.51<br>ORCL_Close: Weight=0.12<br>JPM_Close: Weight=0.32",
          "Return: 31.10%<br>Volatility: 0.08<br>HD_Close: Weight=0.34<br>K_Close: Weight=0.00<br>WMT_Close: Weight=0.23<br>NEE_Close: Weight=0.43",
          "Return: 58.59%<br>Volatility: 0.16<br>ABBV_Close: Weight=0.59<br>PYPL_Close: Weight=0.41<br>GOOGL_Close: Weight=0.00",
          "Return: 37.73%<br>Volatility: 0.09<br>BABA_Close: Weight=0.19<br>NEE_Close: Weight=0.49<br>DE_Close: Weight=0.32<br>CPB_Close: Weight=0.00",
          "Return: 59.70%<br>Volatility: 0.17<br>CAT_Close: Weight=0.69<br>NVDA_Close: Weight=0.15<br>AAPL_Close: Weight=0.09<br>RDY_Close: Weight=0.00<br>BTI_Close: Weight=0.06",
          "Return: 60.08%<br>Volatility: 0.16<br>BABA_Close: Weight=0.26<br>ZBH_Close: Weight=0.00<br>BA_Close: Weight=0.74",
          "Return: 15.82%<br>Volatility: 0.07<br>BIIB_Close: Weight=0.00<br>CPB_Close: Weight=0.00<br>JNJ_Close: Weight=0.29<br>EMR_Close: Weight=0.22<br>KO_Close: Weight=0.50",
          "Return: 80.73%<br>Volatility: 0.39<br>GIS_Close: Weight=0.00<br>RDY_Close: Weight=0.00<br>NVDA_Close: Weight=1.00",
          "Return: 46.65%<br>Volatility: 0.11<br>PYPL_Close: Weight=0.21<br>CAT_Close: Weight=0.35<br>NEE_Close: Weight=0.40<br>MA_Close: Weight=0.03<br>CMCSA_Close: Weight=0.01",
          "Return: 28.92%<br>Volatility: 0.08<br>LMT_Close: Weight=0.24<br>HD_Close: Weight=0.30<br>CVX_Close: Weight=0.17<br>MSFT_Close: Weight=0.28<br>NFLX_Close: Weight=0.02",
          "Return: 23.78%<br>Volatility: 0.07<br>KO_Close: Weight=0.32<br>SYY_Close: Weight=0.19<br>V_Close: Weight=0.39<br>LLY_Close: Weight=0.00<br>AMZN_Close: Weight=0.10",
          "Return: 57.00%<br>Volatility: 0.13<br>BA_Close: Weight=0.54<br>MS_Close: Weight=0.00<br>ABBV_Close: Weight=0.46",
          "Return: 30.66%<br>Volatility: 0.08<br>BABA_Close: Weight=0.19<br>KO_Close: Weight=0.36<br>GOOG_Close: Weight=0.08<br>HD_Close: Weight=0.37",
          "Return: 59.60%<br>Volatility: 0.16<br>MO_Close: Weight=0.00<br>BAC_Close: Weight=0.01<br>BA_Close: Weight=0.73<br>BABA_Close: Weight=0.26",
          "Return: 18.95%<br>Volatility: 0.07<br>LMT_Close: Weight=0.41<br>KO_Close: Weight=0.42<br>JPM_Close: Weight=0.17",
          "Return: 24.63%<br>Volatility: 0.07<br>JNJ_Close: Weight=0.11<br>KO_Close: Weight=0.23<br>V_Close: Weight=0.21<br>TXN_Close: Weight=0.19<br>NEE_Close: Weight=0.25",
          "Return: 34.64%<br>Volatility: 0.09<br>ADBE_Close: Weight=0.04<br>ISRG_Close: Weight=0.13<br>MCD_Close: Weight=0.33<br>HON_Close: Weight=0.31<br>UNH_Close: Weight=0.19",
          "Return: 39.02%<br>Volatility: 0.09<br>MRK_Close: Weight=0.00<br>GOOG_Close: Weight=0.05<br>BABA_Close: Weight=0.20<br>UNH_Close: Weight=0.35<br>HD_Close: Weight=0.41",
          "Return: 60.96%<br>Volatility: 0.19<br>RDY_Close: Weight=0.00<br>SNAP_Close: Weight=0.00<br>CAT_Close: Weight=0.94<br>BIIB_Close: Weight=0.06",
          "Return: 70.06%<br>Volatility: 0.34<br>BIIB_Close: Weight=0.15<br>NVDA_Close: Weight=0.85<br>IBM_Close: Weight=0.00",
          "Return: 52.06%<br>Volatility: 0.11<br>ABBV_Close: Weight=0.39<br>BA_Close: Weight=0.45<br>HON_Close: Weight=0.15<br>TSLA_Close: Weight=0.01",
          "Return: 57.19%<br>Volatility: 0.13<br>CAT_Close: Weight=0.46<br>ABBV_Close: Weight=0.45<br>BSX_Close: Weight=0.00<br>CPB_Close: Weight=0.00<br>AMZN_Close: Weight=0.09",
          "Return: 65.17%<br>Volatility: 0.23<br>PYPL_Close: Weight=1.00<br>GE_Close: Weight=0.00<br>BSX_Close: Weight=0.00",
          "Return: 64.11%<br>Volatility: 0.20<br>XOM_Close: Weight=0.00<br>CAT_Close: Weight=1.00<br>K_Close: Weight=0.00<br>BAC_Close: Weight=0.00",
          "Return: 62.70%<br>Volatility: 0.16<br>CAT_Close: Weight=0.57<br>PYPL_Close: Weight=0.40<br>COST_Close: Weight=0.03",
          "Return: 30.50%<br>Volatility: 0.07<br>ABT_Close: Weight=0.13<br>MMM_Close: Weight=0.15<br>NEE_Close: Weight=0.30<br>WMT_Close: Weight=0.18<br>HD_Close: Weight=0.24"
         ],
         "type": "scatter",
         "x": [
          0.1251837793167074,
          0.13756262034758238,
          0.11118553171484688,
          0.10761540914562095,
          0.09057625821274252,
          0.1891288756523301,
          0.10334214573696168,
          0.09598472259321482,
          0.12734243593811279,
          0.09306973759447561,
          0.13701826841654544,
          0.08795092937415035,
          0.08319495950963735,
          0.1520148904890195,
          0.08270092849949108,
          0.1049468495436261,
          0.07694358464697197,
          0.2076019631657657,
          0.2728724210041218,
          0.09504365649074957,
          0.0780864224808984,
          0.09201954857732421,
          0.16885814784285277,
          0.2313712472069639,
          0.06865619707575181,
          0.08475863812362938,
          0.1636786909602644,
          0.15857284373099353,
          0.14487578726590788,
          0.15638131640311823,
          0.12764055770286592,
          0.07046673474792038,
          0.13319213598310292,
          0.1532493236621956,
          0.1439716950004894,
          0.13316842553508557,
          0.11621517435581687,
          0.13248816134961644,
          0.17738290372163112,
          0.13212083502421426,
          0.12358375254300466,
          0.1111592829879725,
          0.12462221717015813,
          0.2112544449186971,
          0.17430323240744522,
          0.14834120141595433,
          0.12532295377791763,
          0.08186064451541729,
          0.15442451370366722,
          0.10089451153413476,
          0.09505733665682256,
          0.08400446248105314,
          0.11121628645224459,
          0.10342448879239531,
          0.06924185123329242,
          0.0795241054566045,
          0.15625870269013284,
          0.09336088061189363,
          0.16782778640986748,
          0.15848805123097406,
          0.06782906402473873,
          0.39371084346530555,
          0.1058425907555293,
          0.07765799900007093,
          0.0749029893352465,
          0.12532294831892754,
          0.07927747832546053,
          0.15718087928301255,
          0.06696122299498031,
          0.07189333534993271,
          0.08771706266546357,
          0.0946187010639217,
          0.18709032036428042,
          0.33991393014268884,
          0.11359706876581964,
          0.1285302958898339,
          0.23137124720696117,
          0.19723778550321572,
          0.1574718359142592,
          0.07099815518803212
         ],
         "y": [
          0.339568777905103,
          0.4340164696136043,
          0.2230400791070209,
          0.36017858050409557,
          0.18997826764667158,
          0.49533576246880273,
          0.4227341401029673,
          0.23105816809995017,
          0.44386639307689074,
          0.21787976299755354,
          0.4674649455931892,
          0.1330554559718029,
          0.2572720078640158,
          0.5129016337161961,
          0.14070054948455193,
          0.4377259735354796,
          0.2028439492979207,
          0.5162753164926872,
          0.576637027641333,
          0.3692840888501514,
          0.24295138748993197,
          0.2986374952770801,
          0.5354495292209289,
          0.6516957987800329,
          0.1525257824987587,
          0.32900493249812357,
          0.5628916563669893,
          0.5320587663198458,
          0.5042932658060787,
          0.5129222546901111,
          0.4606714984324194,
          0.23772141997586455,
          0.5204047684582782,
          0.5332645287598266,
          0.5519936439749141,
          0.507196275177971,
          0.4438489801403421,
          0.47039924534201477,
          0.5810354874783022,
          0.5157612814552374,
          0.49710846714783696,
          0.44158313751185607,
          0.5496761400281371,
          0.5964822594428594,
          0.5954075962487255,
          0.5586706696514891,
          0.5699761642840758,
          0.2523673765222576,
          0.579630682399346,
          0.37780079455790605,
          0.39767658592780336,
          0.28140034652118096,
          0.46672349439637634,
          0.44701083244877154,
          0.1672387236317277,
          0.31103692315609244,
          0.5859209096583855,
          0.377324146090759,
          0.5969957532406263,
          0.6008478122736343,
          0.15823424830047075,
          0.8073419440460516,
          0.46645625236750765,
          0.28917444716542773,
          0.23781376753894376,
          0.5699761394574308,
          0.30655948964869323,
          0.595967336301407,
          0.18947899315715988,
          0.24631092665671034,
          0.34641489665448477,
          0.3901794547106874,
          0.6096035782014884,
          0.7005561358560107,
          0.5205979761864099,
          0.5719489479775987,
          0.6516957987800177,
          0.6410727752196445,
          0.6269928335022835,
          0.30501184568051437
         ]
        },
        {
         "hoverinfo": "text",
         "hovertext": [
          "CSCO_Close <br>Volatility: 0.16 <br>Returns: 16.11% <br>Sharpe Ratio: 0.98",
          "PEP_Close <br>Volatility: 0.10 <br>Returns: 12.73% <br>Sharpe Ratio: 1.30",
          "ABT_Close <br>Volatility: 0.14 <br>Returns: 28.67% <br>Sharpe Ratio: 2.05",
          "BA_Close <br>Volatility: 0.17 <br>Returns: 59.54% <br>Sharpe Ratio: 3.42",
          "SNAP_Close <br>Volatility: 0.63 <br>Returns: -61.94% <br>Sharpe Ratio: -0.98",
          "GOOGL_Close <br>Volatility: 0.16 <br>Returns: 25.77% <br>Sharpe Ratio: 1.64",
          "ISRG_Close <br>Volatility: 0.19 <br>Returns: 46.59% <br>Sharpe Ratio: 2.44",
          "AMGN_Close <br>Volatility: 0.17 <br>Returns: -0.36% <br>Sharpe Ratio: -0.02",
          "TMO_Close <br>Volatility: 0.16 <br>Returns: 21.55% <br>Sharpe Ratio: 1.32",
          "SRE_Close <br>Volatility: 0.13 <br>Returns: 0.42% <br>Sharpe Ratio: 0.03",
          "UA_Close <br>Volatility: 0.46 <br>Returns: -42.37% <br>Sharpe Ratio: -0.91",
          "RDY_Close <br>Volatility: 0.30 <br>Returns: -15.56% <br>Sharpe Ratio: -0.52",
          "EMR_Close <br>Volatility: 0.16 <br>Returns: 20.27% <br>Sharpe Ratio: 1.25",
          "PFE_Close <br>Volatility: 0.11 <br>Returns: 9.22% <br>Sharpe Ratio: 0.85",
          "NFLX_Close <br>Volatility: 0.29 <br>Returns: 38.28% <br>Sharpe Ratio: 1.33",
          "BTI_Close <br>Volatility: 0.19 <br>Returns: 11.15% <br>Sharpe Ratio: 0.58",
          "AMD_Close <br>Volatility: 0.58 <br>Returns: -36.20% <br>Sharpe Ratio: -0.62",
          "KO_Close <br>Volatility: 0.09 <br>Returns: 13.24% <br>Sharpe Ratio: 1.53",
          "KR_Close <br>Volatility: 0.36 <br>Returns: -11.51% <br>Sharpe Ratio: -0.32",
          "XOM_Close <br>Volatility: 0.10 <br>Returns: 3.88% <br>Sharpe Ratio: 0.37",
          "BSX_Close <br>Volatility: 0.17 <br>Returns: -1.01% <br>Sharpe Ratio: -0.06",
          "WFC_Close <br>Volatility: 0.17 <br>Returns: 6.48% <br>Sharpe Ratio: 0.38",
          "CMCSA_Close <br>Volatility: 0.21 <br>Returns: 9.55% <br>Sharpe Ratio: 0.46",
          "DHR_Close <br>Volatility: 0.13 <br>Returns: 9.07% <br>Sharpe Ratio: 0.71",
          "GOOG_Close <br>Volatility: 0.16 <br>Returns: 27.71% <br>Sharpe Ratio: 1.74",
          "MSFT_Close <br>Volatility: 0.15 <br>Returns: 36.72% <br>Sharpe Ratio: 2.42",
          "MA_Close <br>Volatility: 0.14 <br>Returns: 37.50% <br>Sharpe Ratio: 2.60",
          "ORCL_Close <br>Volatility: 0.19 <br>Returns: 13.13% <br>Sharpe Ratio: 0.70",
          "INTC_Close <br>Volatility: 0.18 <br>Returns: 32.63% <br>Sharpe Ratio: 1.86",
          "SO_Close <br>Volatility: 0.12 <br>Returns: -1.26% <br>Sharpe Ratio: -0.11",
          "NEE_Close <br>Volatility: 0.11 <br>Returns: 23.55% <br>Sharpe Ratio: 2.10",
          "EW_Close <br>Volatility: 0.23 <br>Returns: 22.60% <br>Sharpe Ratio: 0.97",
          "AEP_Close <br>Volatility: 0.11 <br>Returns: 15.15% <br>Sharpe Ratio: 1.42",
          "CRM_Close <br>Volatility: 0.16 <br>Returns: 25.48% <br>Sharpe Ratio: 1.63",
          "HON_Close <br>Volatility: 0.10 <br>Returns: 25.07% <br>Sharpe Ratio: 2.47",
          "CAT_Close <br>Volatility: 0.20 <br>Returns: 64.11% <br>Sharpe Ratio: 3.25",
          "NKE_Close <br>Volatility: 0.23 <br>Returns: 10.70% <br>Sharpe Ratio: 0.47",
          "AAPL_Close <br>Volatility: 0.18 <br>Returns: 25.04% <br>Sharpe Ratio: 1.42",
          "GS_Close <br>Volatility: 0.20 <br>Returns: 2.94% <br>Sharpe Ratio: 0.15",
          "ADBE_Close <br>Volatility: 0.23 <br>Returns: 45.54% <br>Sharpe Ratio: 2.00",
          "AMZN_Close <br>Volatility: 0.21 <br>Returns: 38.44% <br>Sharpe Ratio: 1.81",
          "WMT_Close <br>Volatility: 0.18 <br>Returns: 43.06% <br>Sharpe Ratio: 2.37",
          "DUK_Close <br>Volatility: 0.09 <br>Returns: 6.18% <br>Sharpe Ratio: 0.66",
          "DIS_Close <br>Volatility: 0.16 <br>Returns: -1.54% <br>Sharpe Ratio: -0.10",
          "MDT_Close <br>Volatility: 0.15 <br>Returns: 0.82% <br>Sharpe Ratio: 0.05",
          "TSLA_Close <br>Volatility: 0.36 <br>Returns: 26.10% <br>Sharpe Ratio: 0.73",
          "SYY_Close <br>Volatility: 0.16 <br>Returns: 19.12% <br>Sharpe Ratio: 1.19",
          "VRTX_Close <br>Volatility: 0.38 <br>Returns: 61.33% <br>Sharpe Ratio: 1.59",
          "GE_Close <br>Volatility: 0.21 <br>Returns: -62.75% <br>Sharpe Ratio: -2.95",
          "MRK_Close <br>Volatility: 0.15 <br>Returns: -15.66% <br>Sharpe Ratio: -1.04",
          "ETN_Close <br>Volatility: 0.16 <br>Returns: 13.76% <br>Sharpe Ratio: 0.89",
          "CVX_Close <br>Volatility: 0.14 <br>Returns: 15.44% <br>Sharpe Ratio: 1.09",
          "RTX_Close <br>Volatility: 0.14 <br>Returns: 16.98% <br>Sharpe Ratio: 1.24",
          "ZBH_Close <br>Volatility: 0.19 <br>Returns: 3.62% <br>Sharpe Ratio: 0.19",
          "MMM_Close <br>Volatility: 0.13 <br>Returns: 27.77% <br>Sharpe Ratio: 2.12",
          "BABA_Close <br>Volatility: 0.27 <br>Returns: 61.61% <br>Sharpe Ratio: 2.30",
          "JPM_Close <br>Volatility: 0.16 <br>Returns: 19.92% <br>Sharpe Ratio: 1.28",
          "META_Close <br>Volatility: 0.17 <br>Returns: 30.58% <br>Sharpe Ratio: 1.77",
          "DE_Close <br>Volatility: 0.18 <br>Returns: 45.12% <br>Sharpe Ratio: 2.53",
          "ABBV_Close <br>Volatility: 0.18 <br>Returns: 54.05% <br>Sharpe Ratio: 3.03",
          "BMY_Close <br>Volatility: 0.18 <br>Returns: 11.41% <br>Sharpe Ratio: 0.63",
          "V_Close <br>Volatility: 0.13 <br>Returns: 30.98% <br>Sharpe Ratio: 2.47",
          "LLY_Close <br>Volatility: 0.15 <br>Returns: 4.51% <br>Sharpe Ratio: 0.31",
          "ACN_Close <br>Volatility: 0.13 <br>Returns: 27.35% <br>Sharpe Ratio: 2.06",
          "RMD_Close <br>Volatility: 0.20 <br>Returns: 20.34% <br>Sharpe Ratio: 1.01",
          "REGN_Close <br>Volatility: 0.28 <br>Returns: 0.03% <br>Sharpe Ratio: 0.00",
          "EXC_Close <br>Volatility: 0.13 <br>Returns: 12.63% <br>Sharpe Ratio: 0.96",
          "MS_Close <br>Volatility: 0.20 <br>Returns: 16.83% <br>Sharpe Ratio: 0.86",
          "F_Close <br>Volatility: 0.17 <br>Returns: 3.00% <br>Sharpe Ratio: 0.18",
          "GM_Close <br>Volatility: 0.19 <br>Returns: 14.71% <br>Sharpe Ratio: 0.78",
          "MCD_Close <br>Volatility: 0.14 <br>Returns: 37.50% <br>Sharpe Ratio: 2.75",
          "JNJ_Close <br>Volatility: 0.11 <br>Returns: 16.97% <br>Sharpe Ratio: 1.49",
          "BIIB_Close <br>Volatility: 0.23 <br>Returns: 9.80% <br>Sharpe Ratio: 0.43",
          "HD_Close <br>Volatility: 0.14 <br>Returns: 32.45% <br>Sharpe Ratio: 2.40",
          "COST_Close <br>Volatility: 0.20 <br>Returns: 11.21% <br>Sharpe Ratio: 0.56",
          "MO_Close <br>Volatility: 0.18 <br>Returns: -2.75% <br>Sharpe Ratio: -0.15",
          "SYK_Close <br>Volatility: 0.16 <br>Returns: 21.73% <br>Sharpe Ratio: 1.40",
          "BAC_Close <br>Volatility: 0.21 <br>Returns: 20.36% <br>Sharpe Ratio: 0.97",
          "NVDA_Close <br>Volatility: 0.39 <br>Returns: 80.73% <br>Sharpe Ratio: 2.05",
          "T_Close <br>Volatility: 0.18 <br>Returns: -3.53% <br>Sharpe Ratio: -0.20",
          "IBM_Close <br>Volatility: 0.16 <br>Returns: -15.90% <br>Sharpe Ratio: -1.01",
          "QCOM_Close <br>Volatility: 0.24 <br>Returns: 18.78% <br>Sharpe Ratio: 0.79",
          "PYPL_Close <br>Volatility: 0.23 <br>Returns: 65.17% <br>Sharpe Ratio: 2.82",
          "PG_Close <br>Volatility: 0.10 <br>Returns: 4.02% <br>Sharpe Ratio: 0.41",
          "UNH_Close <br>Volatility: 0.14 <br>Returns: 34.90% <br>Sharpe Ratio: 2.48",
          "K_Close <br>Volatility: 0.18 <br>Returns: -9.01% <br>Sharpe Ratio: -0.50",
          "LMT_Close <br>Volatility: 0.11 <br>Returns: 24.36% <br>Sharpe Ratio: 2.21",
          "PM_Close <br>Volatility: 0.14 <br>Returns: -0.16% <br>Sharpe Ratio: -0.01",
          "CPB_Close <br>Volatility: 0.24 <br>Returns: -23.67% <br>Sharpe Ratio: -0.98",
          "SAP_Close <br>Volatility: 0.14 <br>Returns: 22.38% <br>Sharpe Ratio: 1.63",
          "GILD_Close <br>Volatility: 0.19 <br>Returns: 5.32% <br>Sharpe Ratio: 0.28",
          "GIS_Close <br>Volatility: 0.17 <br>Returns: -0.03% <br>Sharpe Ratio: -0.00",
          "VZ_Close <br>Volatility: 0.17 <br>Returns: 11.30% <br>Sharpe Ratio: 0.67",
          "TXN_Close <br>Volatility: 0.16 <br>Returns: 37.14% <br>Sharpe Ratio: 2.30"
         ],
         "marker": {
          "color": "brown",
          "line": {
           "width": 1
          },
          "size": 5,
          "symbol": "triangle-up"
         },
         "mode": "markers",
         "name": "Individual Assets",
         "type": "scatter",
         "x": {
          "bdata": "Y9liAfz9xD8TmrcHFgi5P4oCRJW74ME/33ZjfZFPxj9KaSCc0ELkPz2LByr6IMQ/XnJoD/d5yD/z7awJ5XXFP+HGjiSg28Q/neN3DQwfwT+pl1q7obLdP2giojqWVtM/+tTyLYTSxD8Eti9jw5+7PwXaUBXoW9I/F8mdbTltyD99ZuvUc6fiPz42gJyyG7Y/CWNI2ak11z9x/8qd2Za6P9pf1IFY0sU/XODkmJjVxT9HyViEYFDKP29CEF0Mb8A/1kKOOrFqxD8RmPg44WzDP1bHE8LzcsI/wvjOmCT3xz/+z+SD73nGP8Nl+cDha74/vJ2osYOyvD9+oQJPZ73NP82o4py+PLs/IxF5afP1wz++zQky0QO6P4PJIncWP8k/3b0hhHTizD8z/knqV4jGP802URgRH8k/0vo+au8ozT+YOtANKSLLP7pfOYSKPMc/DS/i9GQruD801KA38jzEP6R35TB7acM/ISwVRQb01j+K6IkJM6fEPw5EhZd2ndg/d9kLMTZCyz+s0WDORlLDPzR3i83Y4sM/DZW6vsAWwj9adPrrlHfBP+3JWPda3cg/nKSL5nbIwD8EnJ7h9hvRP7lFh1Dm/MM/y8vrrn0axj+n7DXd9drGP1Kf+jgr3cY/cPD1nfYWxz87z1esMg3AP4wNEntWycI/lIeYFQgBwT/uH2UV1bLJPwlw2CSGEtI/lbxOaYzTwD+naTkd+xzJP8nvVtcfR8U/aukq87c7yD8kt4OCoXfBPymzit5LQL0/napnQMolzT+oYmMPdEjBP2uHaieZcck/CWBNh8vFxj/dqPY47ebDP4dKo/yAzMo/Z+Yw944y2T9k35/3/WrGPygSU5x2K8Q/MtjxOkmRzj/Mi/6xkp3NP/X0I/htGLk/c1Tb354Mwj9by6dusD7HP7J1rEtHRrw/ik9RE+PhwT9JA6eUCMfOP09T4SyTl8E/zMGo5mRAyD9QsAfI0TvGP7aaRlGFqsU/8wgcCR6rxD8=",
          "dtype": "f8"
         },
         "y": {
          "bdata": "lv0WRVyfxD80Wc8BGkvAPzlpicDfWNI/PLQ1O5QN4z9Wi/SZ9tHjvyDjwGSJfdA/juejQ+DQ3T+DsnZashVtv/v5idhjlss/9nmXhrAMcT/MRfpaiR3bv8j9jo0+68O/JEp6Rj3xyT8n+ssQuZi3PycKLfbwf9g/EJySi6yNvD9pAadVcCvXv20wb7ti8cA/hXPFu8V4vb90w7y4I92jP5YunwMfu4S/Tqui3zCZsD+9aFn0MnK4P0TkCY/tNbc/5efENTO80T+kOyxs4X/XPx69PAH+/9c/GCxH1LzPwD9o+dWyt+HUP3kBTgkWyIm/vSnNcdMjzj+iYZ/FbO7MPwVEBV30Y8M/L/iRCFVP0D8st6k8CAvQPyWUfQ2rg+Q/NJwXPixhuz9aWdvlMwfQP1W3ePX8Jp4/JJM7Fj4l3T8ip3Q+ZJrYP/EtJ6Wvjts/U+BH08Oprz8wfxn644KPv9PWBDsszoA/YlcBRfu00D+Gk2Pu1HrIPwnvQpl2oOM/OB2cwskU5L9cV90v5gvEv0zPwb7zncE/fYkD8qzEwz8pn3GuF7zFPw+B/mUahaI/yz6LbjfG0T8S/DIUHrfjP+Th81R3f8k/moE0HeKS0z/KbR2mHeDcP5mJ0CPTS+E/hiQDmws2vT86SmpiHdTTP+L5UpfXG6c/iog8b2qA0T8fFeCGLwrKP5lJ515g7DQ/2B4wf04pwD8Uqg+/J4vFPw/cUzOlrp4/QXQpSeTSwj+m0dlZgf/XP5oZArUxuMU/bZuvS9kVuT/aEE5eTMXUP7iYFTTvsLw/SckSG/cenL+CIjyFKtHLP6k9u9CYD8o/RL3Lxb7V6T8DVps8JQ2iv422vLW0W8S/facP09AIyD9EbdYlsdrkP9mcO9mOmKQ/nOGYA7JW1j/1x21F9A63v0TOLvxVLs8/M7gvgW39Wr9qOKGVA0vOv1hToFkHpcw/Y4z7t00+qz8zp550uLMzv3seq+xR7bw/dtt70WHF1z8=",
          "dtype": "f8"
         }
        }
       ],
       "layout": {
        "legend": {
         "y": 5
        },
        "template": {
         "data": {
          "bar": [
           {
            "error_x": {
             "color": "#2a3f5f"
            },
            "error_y": {
             "color": "#2a3f5f"
            },
            "marker": {
             "line": {
              "color": "#E5ECF6",
              "width": 0.5
             },
             "pattern": {
              "fillmode": "overlay",
              "size": 10,
              "solidity": 0.2
             }
            },
            "type": "bar"
           }
          ],
          "barpolar": [
           {
            "marker": {
             "line": {
              "color": "#E5ECF6",
              "width": 0.5
             },
             "pattern": {
              "fillmode": "overlay",
              "size": 10,
              "solidity": 0.2
             }
            },
            "type": "barpolar"
           }
          ],
          "carpet": [
           {
            "aaxis": {
             "endlinecolor": "#2a3f5f",
             "gridcolor": "white",
             "linecolor": "white",
             "minorgridcolor": "white",
             "startlinecolor": "#2a3f5f"
            },
            "baxis": {
             "endlinecolor": "#2a3f5f",
             "gridcolor": "white",
             "linecolor": "white",
             "minorgridcolor": "white",
             "startlinecolor": "#2a3f5f"
            },
            "type": "carpet"
           }
          ],
          "choropleth": [
           {
            "colorbar": {
             "outlinewidth": 0,
             "ticks": ""
            },
            "type": "choropleth"
           }
          ],
          "contour": [
           {
            "colorbar": {
             "outlinewidth": 0,
             "ticks": ""
            },
            "colorscale": [
             [
              0,
              "#0d0887"
             ],
             [
              0.1111111111111111,
              "#46039f"
             ],
             [
              0.2222222222222222,
              "#7201a8"
             ],
             [
              0.3333333333333333,
              "#9c179e"
             ],
             [
              0.4444444444444444,
              "#bd3786"
             ],
             [
              0.5555555555555556,
              "#d8576b"
             ],
             [
              0.6666666666666666,
              "#ed7953"
             ],
             [
              0.7777777777777778,
              "#fb9f3a"
             ],
             [
              0.8888888888888888,
              "#fdca26"
             ],
             [
              1,
              "#f0f921"
             ]
            ],
            "type": "contour"
           }
          ],
          "contourcarpet": [
           {
            "colorbar": {
             "outlinewidth": 0,
             "ticks": ""
            },
            "type": "contourcarpet"
           }
          ],
          "heatmap": [
           {
            "colorbar": {
             "outlinewidth": 0,
             "ticks": ""
            },
            "colorscale": [
             [
              0,
              "#0d0887"
             ],
             [
              0.1111111111111111,
              "#46039f"
             ],
             [
              0.2222222222222222,
              "#7201a8"
             ],
             [
              0.3333333333333333,
              "#9c179e"
             ],
             [
              0.4444444444444444,
              "#bd3786"
             ],
             [
              0.5555555555555556,
              "#d8576b"
             ],
             [
              0.6666666666666666,
              "#ed7953"
             ],
             [
              0.7777777777777778,
              "#fb9f3a"
             ],
             [
              0.8888888888888888,
              "#fdca26"
             ],
             [
              1,
              "#f0f921"
             ]
            ],
            "type": "heatmap"
           }
          ],
          "histogram": [
           {
            "marker": {
             "pattern": {
              "fillmode": "overlay",
              "size": 10,
              "solidity": 0.2
             }
            },
            "type": "histogram"
           }
          ],
          "histogram2d": [
           {
            "colorbar": {
             "outlinewidth": 0,
             "ticks": ""
            },
            "colorscale": [
             [
              0,
              "#0d0887"
             ],
             [
              0.1111111111111111,
              "#46039f"
             ],
             [
              0.2222222222222222,
              "#7201a8"
             ],
             [
              0.3333333333333333,
              "#9c179e"
             ],
             [
              0.4444444444444444,
              "#bd3786"
             ],
             [
              0.5555555555555556,
              "#d8576b"
             ],
             [
              0.6666666666666666,
              "#ed7953"
             ],
             [
              0.7777777777777778,
              "#fb9f3a"
             ],
             [
              0.8888888888888888,
              "#fdca26"
             ],
             [
              1,
              "#f0f921"
             ]
            ],
            "type": "histogram2d"
           }
          ],
          "histogram2dcontour": [
           {
            "colorbar": {
             "outlinewidth": 0,
             "ticks": ""
            },
            "colorscale": [
             [
              0,
              "#0d0887"
             ],
             [
              0.1111111111111111,
              "#46039f"
             ],
             [
              0.2222222222222222,
              "#7201a8"
             ],
             [
              0.3333333333333333,
              "#9c179e"
             ],
             [
              0.4444444444444444,
              "#bd3786"
             ],
             [
              0.5555555555555556,
              "#d8576b"
             ],
             [
              0.6666666666666666,
              "#ed7953"
             ],
             [
              0.7777777777777778,
              "#fb9f3a"
             ],
             [
              0.8888888888888888,
              "#fdca26"
             ],
             [
              1,
              "#f0f921"
             ]
            ],
            "type": "histogram2dcontour"
           }
          ],
          "mesh3d": [
           {
            "colorbar": {
             "outlinewidth": 0,
             "ticks": ""
            },
            "type": "mesh3d"
           }
          ],
          "parcoords": [
           {
            "line": {
             "colorbar": {
              "outlinewidth": 0,
              "ticks": ""
             }
            },
            "type": "parcoords"
           }
          ],
          "pie": [
           {
            "automargin": true,
            "type": "pie"
           }
          ],
          "scatter": [
           {
            "fillpattern": {
             "fillmode": "overlay",
             "size": 10,
             "solidity": 0.2
            },
            "type": "scatter"
           }
          ],
          "scatter3d": [
           {
            "line": {
             "colorbar": {
              "outlinewidth": 0,
              "ticks": ""
             }
            },
            "marker": {
             "colorbar": {
              "outlinewidth": 0,
              "ticks": ""
             }
            },
            "type": "scatter3d"
           }
          ],
          "scattercarpet": [
           {
            "marker": {
             "colorbar": {
              "outlinewidth": 0,
              "ticks": ""
             }
            },
            "type": "scattercarpet"
           }
          ],
          "scattergeo": [
           {
            "marker": {
             "colorbar": {
              "outlinewidth": 0,
              "ticks": ""
             }
            },
            "type": "scattergeo"
           }
          ],
          "scattergl": [
           {
            "marker": {
             "colorbar": {
              "outlinewidth": 0,
              "ticks": ""
             }
            },
            "type": "scattergl"
           }
          ],
          "scattermap": [
           {
            "marker": {
             "colorbar": {
              "outlinewidth": 0,
              "ticks": ""
             }
            },
            "type": "scattermap"
           }
          ],
          "scattermapbox": [
           {
            "marker": {
             "colorbar": {
              "outlinewidth": 0,
              "ticks": ""
             }
            },
            "type": "scattermapbox"
           }
          ],
          "scatterpolar": [
           {
            "marker": {
             "colorbar": {
              "outlinewidth": 0,
              "ticks": ""
             }
            },
            "type": "scatterpolar"
           }
          ],
          "scatterpolargl": [
           {
            "marker": {
             "colorbar": {
              "outlinewidth": 0,
              "ticks": ""
             }
            },
            "type": "scatterpolargl"
           }
          ],
          "scatterternary": [
           {
            "marker": {
             "colorbar": {
              "outlinewidth": 0,
              "ticks": ""
             }
            },
            "type": "scatterternary"
           }
          ],
          "surface": [
           {
            "colorbar": {
             "outlinewidth": 0,
             "ticks": ""
            },
            "colorscale": [
             [
              0,
              "#0d0887"
             ],
             [
              0.1111111111111111,
              "#46039f"
             ],
             [
              0.2222222222222222,
              "#7201a8"
             ],
             [
              0.3333333333333333,
              "#9c179e"
             ],
             [
              0.4444444444444444,
              "#bd3786"
             ],
             [
              0.5555555555555556,
              "#d8576b"
             ],
             [
              0.6666666666666666,
              "#ed7953"
             ],
             [
              0.7777777777777778,
              "#fb9f3a"
             ],
             [
              0.8888888888888888,
              "#fdca26"
             ],
             [
              1,
              "#f0f921"
             ]
            ],
            "type": "surface"
           }
          ],
          "table": [
           {
            "cells": {
             "fill": {
              "color": "#EBF0F8"
             },
             "line": {
              "color": "white"
             }
            },
            "header": {
             "fill": {
              "color": "#C8D4E3"
             },
             "line": {
              "color": "white"
             }
            },
            "type": "table"
           }
          ]
         },
         "layout": {
          "annotationdefaults": {
           "arrowcolor": "#2a3f5f",
           "arrowhead": 0,
           "arrowwidth": 1
          },
          "autotypenumbers": "strict",
          "coloraxis": {
           "colorbar": {
            "outlinewidth": 0,
            "ticks": ""
           }
          },
          "colorscale": {
           "diverging": [
            [
             0,
             "#8e0152"
            ],
            [
             0.1,
             "#c51b7d"
            ],
            [
             0.2,
             "#de77ae"
            ],
            [
             0.3,
             "#f1b6da"
            ],
            [
             0.4,
             "#fde0ef"
            ],
            [
             0.5,
             "#f7f7f7"
            ],
            [
             0.6,
             "#e6f5d0"
            ],
            [
             0.7,
             "#b8e186"
            ],
            [
             0.8,
             "#7fbc41"
            ],
            [
             0.9,
             "#4d9221"
            ],
            [
             1,
             "#276419"
            ]
           ],
           "sequential": [
            [
             0,
             "#0d0887"
            ],
            [
             0.1111111111111111,
             "#46039f"
            ],
            [
             0.2222222222222222,
             "#7201a8"
            ],
            [
             0.3333333333333333,
             "#9c179e"
            ],
            [
             0.4444444444444444,
             "#bd3786"
            ],
            [
             0.5555555555555556,
             "#d8576b"
            ],
            [
             0.6666666666666666,
             "#ed7953"
            ],
            [
             0.7777777777777778,
             "#fb9f3a"
            ],
            [
             0.8888888888888888,
             "#fdca26"
            ],
            [
             1,
             "#f0f921"
            ]
           ],
           "sequentialminus": [
            [
             0,
             "#0d0887"
            ],
            [
             0.1111111111111111,
             "#46039f"
            ],
            [
             0.2222222222222222,
             "#7201a8"
            ],
            [
             0.3333333333333333,
             "#9c179e"
            ],
            [
             0.4444444444444444,
             "#bd3786"
            ],
            [
             0.5555555555555556,
             "#d8576b"
            ],
            [
             0.6666666666666666,
             "#ed7953"
            ],
            [
             0.7777777777777778,
             "#fb9f3a"
            ],
            [
             0.8888888888888888,
             "#fdca26"
            ],
            [
             1,
             "#f0f921"
            ]
           ]
          },
          "colorway": [
           "#636efa",
           "#EF553B",
           "#00cc96",
           "#ab63fa",
           "#FFA15A",
           "#19d3f3",
           "#FF6692",
           "#B6E880",
           "#FF97FF",
           "#FECB52"
          ],
          "font": {
           "color": "#2a3f5f"
          },
          "geo": {
           "bgcolor": "white",
           "lakecolor": "white",
           "landcolor": "#E5ECF6",
           "showlakes": true,
           "showland": true,
           "subunitcolor": "white"
          },
          "hoverlabel": {
           "align": "left"
          },
          "hovermode": "closest",
          "mapbox": {
           "style": "light"
          },
          "paper_bgcolor": "white",
          "plot_bgcolor": "#E5ECF6",
          "polar": {
           "angularaxis": {
            "gridcolor": "white",
            "linecolor": "white",
            "ticks": ""
           },
           "bgcolor": "#E5ECF6",
           "radialaxis": {
            "gridcolor": "white",
            "linecolor": "white",
            "ticks": ""
           }
          },
          "scene": {
           "xaxis": {
            "backgroundcolor": "#E5ECF6",
            "gridcolor": "white",
            "gridwidth": 2,
            "linecolor": "white",
            "showbackground": true,
            "ticks": "",
            "zerolinecolor": "white"
           },
           "yaxis": {
            "backgroundcolor": "#E5ECF6",
            "gridcolor": "white",
            "gridwidth": 2,
            "linecolor": "white",
            "showbackground": true,
            "ticks": "",
            "zerolinecolor": "white"
           },
           "zaxis": {
            "backgroundcolor": "#E5ECF6",
            "gridcolor": "white",
            "gridwidth": 2,
            "linecolor": "white",
            "showbackground": true,
            "ticks": "",
            "zerolinecolor": "white"
           }
          },
          "shapedefaults": {
           "line": {
            "color": "#2a3f5f"
           }
          },
          "ternary": {
           "aaxis": {
            "gridcolor": "white",
            "linecolor": "white",
            "ticks": ""
           },
           "baxis": {
            "gridcolor": "white",
            "linecolor": "white",
            "ticks": ""
           },
           "bgcolor": "#E5ECF6",
           "caxis": {
            "gridcolor": "white",
            "linecolor": "white",
            "ticks": ""
           }
          },
          "title": {
           "x": 0.05
          },
          "xaxis": {
           "automargin": true,
           "gridcolor": "white",
           "linecolor": "white",
           "ticks": "",
           "title": {
            "standoff": 15
           },
           "zerolinecolor": "white",
           "zerolinewidth": 2
          },
          "yaxis": {
           "automargin": true,
           "gridcolor": "white",
           "linecolor": "white",
           "ticks": "",
           "title": {
            "standoff": 15
           },
           "zerolinecolor": "white",
           "zerolinewidth": 2
          }
         }
        },
        "title": {
         "text": "Sample of Random Portfolios"
        },
        "xaxis": {
         "title": {
          "text": "Volatility (Standard Deviation)"
         }
        },
        "yaxis": {
         "title": {
          "text": "Annualized Return"
         }
        }
       }
      }
     },
     "metadata": {},
     "output_type": "display_data"
    }
   ],
   "source": [
    "fig2 = go.Figure()\n",
    "\n",
    "fig2.add_trace(go.Scatter(\n",
    "    x=[p[\"variance\"]**0.5 for p in dominant_portfolios],  # Convert variance to volatility\n",
    "    y=[p[\"return\"] for p in dominant_portfolios],\n",
    "    mode='markers',\n",
    "    marker=dict(\n",
    "        color=[p[\"return\"] / (p[\"variance\"]**0.5) for p in dominant_portfolios],  # Sharpe Ratio\n",
    "        showscale=True,\n",
    "        size=7,\n",
    "        line=dict(width=1),\n",
    "        colorscale=\"RdBu\",\n",
    "        colorbar=dict(title=\"Sharpe<br>Ratio\")\n",
    "    ),\n",
    "    hoverinfo='text',\n",
    "    text=[\n",
    "        f\"Return: {p['return']:.2%}<br>Volatility: {p['variance']**0.5:.2f}<br>\" +\n",
    "        \"<br>\".join([f\"{p['tickers'][i]}: Weight={p['weights'][i]:.2f}\" for i in range(len(p['tickers']))])\n",
    "        for p in dominant_portfolios\n",
    "    ],\n",
    "    name=\"Portfolios\"\n",
    "))\n",
    "\n",
    "\n",
    "fig2.add_trace(go.Scatter(\n",
    "    x=volatility, \n",
    "    y=annualized_returns,\n",
    "    mode='markers',\n",
    "    hoverinfo='text',\n",
    "    hovertext=[\n",
    "        f\"{name} <br>Volatility: {vol:.2f} <br>Returns: {ret:.2%} <br>Sharpe Ratio: {sr:.2f}\"\n",
    "        for name, vol, ret, sr in zip(names, volatility, annualized_returns, sharpe_ratios)\n",
    "    ],\n",
    "    marker=dict(\n",
    "        color='brown',\n",
    "        size=5,\n",
    "        symbol='triangle-up',  # Sets the marker shape to a triangle\n",
    "        line=dict(width=1)\n",
    "    ),\n",
    "    name=\"Individual Assets\"\n",
    "))\n",
    "\n",
    "fig2.update_layout(\n",
    "    title='Sample of Random Portfolios',\n",
    "    xaxis_title='Volatility (Standard Deviation)',\n",
    "    yaxis_title='Annualized Return',\n",
    "    legend=dict(y=5\n",
    "    )\n",
    ")\n",
    "\n",
    "\n",
    "fig2.show()"
   ]
  },
  {
   "cell_type": "markdown",
   "metadata": {},
   "source": [
    "## 5.0 ML Method"
   ]
  },
  {
   "cell_type": "code",
   "execution_count": 39,
   "metadata": {},
   "outputs": [
    {
     "name": "stdout",
     "output_type": "stream",
     "text": [
      "[np.float64(2.3859129852693086)]\n",
      "['SO_Close' 'RMD_Close' 'MMM_Close' 'GILD_Close' 'JNJ_Close']\n"
     ]
    },
    {
     "name": "stderr",
     "output_type": "stream",
     "text": [
      "100%|██████████| 1000/1000 [00:04<00:00, 207.90it/s]\n"
     ]
    },
    {
     "data": {
      "text/plain": [
       "(['NVDA_Close', 'BA_Close', 'ABBV_Close', 'WMT_Close', 'PYPL_Close'],\n",
       " np.float64(5.657535318761308),\n",
       " [np.float64(2.3859129852693086),\n",
       "  np.float64(2.98166524485814),\n",
       "  np.float64(4.551920518345207),\n",
       "  np.float64(5.271887973635348),\n",
       "  np.float64(5.292739281803546),\n",
       "  np.float64(5.296806023621321),\n",
       "  np.float64(5.376989780715261),\n",
       "  np.float64(5.382328259143054),\n",
       "  np.float64(5.657535318761308)])"
      ]
     },
     "execution_count": 39,
     "metadata": {},
     "output_type": "execute_result"
    }
   ],
   "source": [
    "def MLRBA(ticker, covariances, returns, num_iterations=10000, risk_free_rate = 0):\n",
    "    num_assets = 5\n",
    "    base_portfolio = np.random.choice(list(ticker), num_assets, replace=False)\n",
    "    highest_sharpe = -np.inf\n",
    "    sharpe_ratios = []\n",
    "    tested_assets = set()\n",
    "\n",
    "    def _get_portfolio_stats (portfolio, risk_free_rate = 0):\n",
    "        p_asset_ret = returns.loc[portfolio].values\n",
    "        p_asset_var = covariances.loc[portfolio, portfolio].values\n",
    "        best_p_weights = maximize_sharpe(p_asset_ret, p_asset_var)\n",
    "        p_ret = np.dot(best_p_weights,p_asset_ret)\n",
    "        p_var = np.dot(best_p_weights, p_asset_var @ best_p_weights)\n",
    "        sharpe = (p_ret - risk_free_rate) / np.sqrt(p_var)\n",
    "\n",
    "        return p_asset_ret, p_asset_var, sharpe\n",
    "    \n",
    "    # Asset calculations\n",
    "    curr_ret, curr_var, curr_sharpe = _get_portfolio_stats(base_portfolio, risk_free_rate)\n",
    "\n",
    "    highest_sharpe = curr_sharpe\n",
    "    sharpe_ratios.append(highest_sharpe)\n",
    "\n",
    "    print(sharpe_ratios)\n",
    "    print(base_portfolio)\n",
    "\n",
    "    for _ in tqdm(range(num_iterations)):\n",
    "        asset_to_remove = find_best_asset_to_remove(base_portfolio, curr_var, curr_ret)     #most_correlated_asset, _, _ = find_correlation_matrix(portfolio, curr_variances)\n",
    "        new_portfolio = [str(asset) for asset in base_portfolio if asset != asset_to_remove]\n",
    "\n",
    "        ranked_assets = find_asset_to_add(new_portfolio, ticker, covariances, returns)         # Find the next best asset to add to the portfolio\n",
    "        asset_to_add = ranked_assets.index[0]\n",
    "\n",
    "        for asset in ranked_assets.index:\n",
    "            if asset not in tested_assets:\n",
    "                asset_to_add = asset\n",
    "                break\n",
    "        \n",
    "        new_portfolio.append(asset_to_add)\n",
    "        tested_assets.add(asset_to_add)\n",
    "\n",
    "        # Substitute in and measure portfolio performance based on sharpe ratio\n",
    "        new_returns, new_var, new_sharpe_ratio = _get_portfolio_stats(new_portfolio, risk_free_rate)\n",
    "\n",
    "        if new_sharpe_ratio > highest_sharpe:\n",
    "            sharpe_ratios.append(new_sharpe_ratio)\n",
    "            highest_sharpe = new_sharpe_ratio\n",
    "            base_portfolio = portfolio\n",
    "            curr_ret, curr_var = new_returns, new_var\n",
    "            tested_assets.clear()\n",
    "\n",
    "        # If Sharpe ratio was worse, then move on to the next least correlated asset\n",
    "        # If Sharpe ratio is better, set as new base portfolio, and repeat the process for num_iterations times\n",
    "\n",
    "    return portfolio, highest_sharpe, sharpe_ratios\n",
    "\n",
    "def find_asset_to_add(portfolio_assets, all_assets, all_covariance, all_returns, return_weight=0.2, corr_weight=0.8):\n",
    "    remaining_assets = [asset for asset in all_assets if asset not in portfolio_assets]\n",
    "    \n",
    "    corr_matrix = create_correlation_matrix(all_covariance)\n",
    "    avg_corrs = corr_matrix.loc[remaining_assets, portfolio_assets].mean(axis=1)\n",
    "    \n",
    "    norm_corr = (avg_corrs - avg_corrs.min()) / (avg_corrs.max() - avg_corrs.min())\n",
    "    norm_returns = (all_returns.loc[remaining_assets] - all_returns.min()) / (all_returns.max() - all_returns.min())\n",
    "\n",
    "    combined_score = corr_weight * norm_corr + return_weight * norm_returns\n",
    "    \n",
    "    ranked_assets = combined_score.sort_values(ascending=False)\n",
    "    \n",
    "    return ranked_assets\n",
    "\n",
    "portfolio, highest_sharpe, sharpe_ratios = MLRBA(names, cov, annualized_returns, 1000)\n",
    "portfolio, highest_sharpe, sharpe_ratios\n"
   ]
  }
 ],
 "metadata": {
  "kernelspec": {
   "display_name": "roboA",
   "language": "python",
   "name": "python3"
  },
  "language_info": {
   "codemirror_mode": {
    "name": "ipython",
    "version": 3
   },
   "file_extension": ".py",
   "mimetype": "text/x-python",
   "name": "python",
   "nbconvert_exporter": "python",
   "pygments_lexer": "ipython3",
   "version": "3.12.8"
  }
 },
 "nbformat": 4,
 "nbformat_minor": 2
}
