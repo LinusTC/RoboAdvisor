{
 "cells": [
  {
   "cell_type": "markdown",
   "metadata": {},
   "source": [
    "# Markowitz Efficient Frontier"
   ]
  },
  {
   "cell_type": "markdown",
   "metadata": {},
   "source": [
    "## 1. Imports"
   ]
  },
  {
   "cell_type": "code",
   "execution_count": 12,
   "metadata": {},
   "outputs": [],
   "source": [
    "import pandas as pd\n",
    "import numpy as np\n",
    "import yfinance as yf\n",
    "import plotly.graph_objects as go\n",
    "from tqdm import tqdm\n",
    "from fetchData import fetch_raw_data_yf, get_matrices"
   ]
  },
  {
   "cell_type": "markdown",
   "metadata": {},
   "source": [
    "## 2. Fetch Data"
   ]
  },
  {
   "cell_type": "markdown",
   "metadata": {},
   "source": [
    "### Get all Nasdaq Stocks"
   ]
  },
  {
   "cell_type": "code",
   "execution_count": 2,
   "metadata": {},
   "outputs": [
    {
     "data": {
      "text/plain": [
       "['AAPL',\n",
       " 'MSFT',\n",
       " 'AMZN',\n",
       " 'GOOGL',\n",
       " 'GOOG',\n",
       " 'META',\n",
       " 'TSLA',\n",
       " 'UA',\n",
       " 'JPM',\n",
       " 'V',\n",
       " 'JNJ',\n",
       " 'WMT',\n",
       " 'PG',\n",
       " 'UNH',\n",
       " 'MA',\n",
       " 'NVDA',\n",
       " 'HD',\n",
       " 'BAC',\n",
       " 'DIS',\n",
       " 'PYPL',\n",
       " 'VZ',\n",
       " 'ADBE',\n",
       " 'CMCSA',\n",
       " 'NFLX',\n",
       " 'KO',\n",
       " 'NKE',\n",
       " 'PFE',\n",
       " 'MRK',\n",
       " 'PEP',\n",
       " 'T',\n",
       " 'ABT',\n",
       " 'CRM',\n",
       " 'ORCL',\n",
       " 'ABBV',\n",
       " 'CSCO',\n",
       " 'INTC',\n",
       " 'TMO',\n",
       " 'XOM',\n",
       " 'ACN',\n",
       " 'LLY',\n",
       " 'COST',\n",
       " 'MCD',\n",
       " 'DHR',\n",
       " 'MDT',\n",
       " 'NEE',\n",
       " 'BMY',\n",
       " 'QCOM',\n",
       " 'CVX',\n",
       " 'WFC',\n",
       " 'LMT']"
      ]
     },
     "execution_count": 2,
     "metadata": {},
     "output_type": "execute_result"
    }
   ],
   "source": [
    "assets= [\n",
    "    \"AAPL\",  # Apple Inc.\n",
    "    \"MSFT\",  # Microsoft Corporation\n",
    "    \"AMZN\",  # Amazon.com Inc.\n",
    "    \"GOOGL\", # Alphabet Inc. (Google) Class A\n",
    "    \"GOOG\",  # Alphabet Inc. (Google) Class C\n",
    "    \"META\",    # Meta Platforms Inc (formerly Facebook)\n",
    "    \"TSLA\",  # Tesla Inc\n",
    "    \"UA\", # Berkshire Hathaway Inc. Class B\n",
    "    \"JPM\",   # JPMorgan Chase & Co.\n",
    "    \"V\",     # Visa Inc.\n",
    "    \"JNJ\",   # Johnson & Johnson\n",
    "    \"WMT\",   # Walmart Inc.\n",
    "    \"PG\",    # Procter & Gamble Co.\n",
    "    \"UNH\",   # UnitedHealth Group Inc.\n",
    "    \"MA\",    # Mastercard Inc.\n",
    "    \"NVDA\",  # NVIDIA Corporation\n",
    "    \"HD\",    # Home Depot Inc.\n",
    "    \"BAC\",   # Bank of America Corp\n",
    "    \"DIS\",   # Walt Disney Co\n",
    "    \"PYPL\",  # PayPal Holdings\n",
    "    \"VZ\",    # Verizon Communications Inc.\n",
    "    \"ADBE\",  # Adobe Inc.\n",
    "    \"CMCSA\", # Comcast Corporation\n",
    "    \"NFLX\",  # Netflix Inc.\n",
    "    \"KO\",    # Coca-Cola Co\n",
    "    \"NKE\",   # NIKE Inc.\n",
    "    \"PFE\",   # Pfizer Inc.\n",
    "    \"MRK\",   # Merck & Co., Inc.\n",
    "    \"PEP\",   # PepsiCo, Inc.\n",
    "    \"T\",     # AT&T Inc.\n",
    "    \"ABT\",   # Abbott Laboratories\n",
    "    \"CRM\",   # Salesforce.com Inc.\n",
    "    \"ORCL\",  # Oracle Corporation\n",
    "    \"ABBV\",  # AbbVie Inc.\n",
    "    \"CSCO\",  # Cisco Systems, Inc.\n",
    "    \"INTC\",  # Intel Corporation\n",
    "    \"TMO\",   # Thermo Fisher Scientific Inc.\n",
    "    \"XOM\",   # Exxon Mobil Corporation\n",
    "    \"ACN\",   # Accenture plc\n",
    "    \"LLY\",   # Eli Lilly and Company\n",
    "    \"COST\",  # Costco Wholesale Corporation\n",
    "    \"MCD\",   # McDonald's Corp\n",
    "    \"DHR\",   # Danaher Corporation\n",
    "    \"MDT\",   # Medtronic plc\n",
    "    \"NEE\",   # NextEra Energy, Inc.\n",
    "    \"BMY\",   # Bristol-Myers Squibb Company\n",
    "    \"QCOM\",  # Qualcomm Inc\n",
    "    \"CVX\",   # Chevron Corporation\n",
    "    \"WFC\",   # Wells Fargo & Co\n",
    "    \"LMT\"    # Lockheed Martin Corporation\n",
    "]\n",
    "assets"
   ]
  },
  {
   "cell_type": "code",
   "execution_count": 3,
   "metadata": {},
   "outputs": [
    {
     "name": "stderr",
     "output_type": "stream",
     "text": [
      "[*********************100%***********************]  1 of 1 completed\n",
      "[*********************100%***********************]  1 of 1 completed\n",
      "[*********************100%***********************]  1 of 1 completed\n",
      "[*********************100%***********************]  1 of 1 completed\n",
      "[*********************100%***********************]  1 of 1 completed\n",
      "[*********************100%***********************]  1 of 1 completed\n",
      "[*********************100%***********************]  1 of 1 completed\n",
      "[*********************100%***********************]  1 of 1 completed\n",
      "[*********************100%***********************]  1 of 1 completed\n",
      "[*********************100%***********************]  1 of 1 completed\n",
      "[*********************100%***********************]  1 of 1 completed\n",
      "[*********************100%***********************]  1 of 1 completed\n",
      "[*********************100%***********************]  1 of 1 completed\n",
      "[*********************100%***********************]  1 of 1 completed\n",
      "[*********************100%***********************]  1 of 1 completed\n",
      "[*********************100%***********************]  1 of 1 completed\n",
      "[*********************100%***********************]  1 of 1 completed\n",
      "[*********************100%***********************]  1 of 1 completed\n",
      "[*********************100%***********************]  1 of 1 completed\n",
      "[*********************100%***********************]  1 of 1 completed\n",
      "[*********************100%***********************]  1 of 1 completed\n",
      "[*********************100%***********************]  1 of 1 completed\n",
      "[*********************100%***********************]  1 of 1 completed\n",
      "[*********************100%***********************]  1 of 1 completed\n",
      "[*********************100%***********************]  1 of 1 completed\n",
      "[*********************100%***********************]  1 of 1 completed\n",
      "[*********************100%***********************]  1 of 1 completed\n",
      "[*********************100%***********************]  1 of 1 completed\n",
      "[*********************100%***********************]  1 of 1 completed\n",
      "[*********************100%***********************]  1 of 1 completed\n",
      "[*********************100%***********************]  1 of 1 completed\n",
      "[*********************100%***********************]  1 of 1 completed\n",
      "[*********************100%***********************]  1 of 1 completed\n",
      "[*********************100%***********************]  1 of 1 completed\n",
      "[*********************100%***********************]  1 of 1 completed\n",
      "[*********************100%***********************]  1 of 1 completed\n",
      "[*********************100%***********************]  1 of 1 completed\n",
      "[*********************100%***********************]  1 of 1 completed\n",
      "[*********************100%***********************]  1 of 1 completed\n",
      "[*********************100%***********************]  1 of 1 completed\n",
      "[*********************100%***********************]  1 of 1 completed\n",
      "[*********************100%***********************]  1 of 1 completed\n",
      "[*********************100%***********************]  1 of 1 completed\n",
      "[*********************100%***********************]  1 of 1 completed\n",
      "[*********************100%***********************]  1 of 1 completed\n",
      "[*********************100%***********************]  1 of 1 completed\n",
      "[*********************100%***********************]  1 of 1 completed\n",
      "[*********************100%***********************]  1 of 1 completed\n",
      "[*********************100%***********************]  1 of 1 completed\n",
      "[*********************100%***********************]  1 of 1 completed"
     ]
    },
    {
     "name": "stdout",
     "output_type": "stream",
     "text": [
      "Omitted assets( 0 ):  []\n",
      "Time to fetch data: 7.12 seconds\n"
     ]
    },
    {
     "name": "stderr",
     "output_type": "stream",
     "text": [
      "\n"
     ]
    }
   ],
   "source": [
    "raw_data, asset_errors, max_combination= fetch_raw_data_yf(assets)"
   ]
  },
  {
   "cell_type": "markdown",
   "metadata": {},
   "source": [
    "## 3. Mean, Volatility and Covariance"
   ]
  },
  {
   "cell_type": "code",
   "execution_count": 4,
   "metadata": {},
   "outputs": [],
   "source": [
    "annualized_returns = get_matrices(raw_data, max_combination ,None)[0][2]\n",
    "cov = get_matrices(raw_data, max_combination ,None)[0][1]\n",
    "names = get_matrices(raw_data, max_combination ,None)[0][0]\n",
    "volatility = np.sqrt(np.diag(cov)) #standard deviation\n",
    "\n",
    "risk_free_rate=0 \n",
    "sharpe_ratios = (annualized_returns - risk_free_rate) / volatility"
   ]
  },
  {
   "cell_type": "code",
   "execution_count": 5,
   "metadata": {},
   "outputs": [
    {
     "data": {
      "application/vnd.plotly.v1+json": {
       "config": {
        "plotlyServerURL": "https://plot.ly"
       },
       "data": [
        {
         "hoverinfo": "text",
         "hovertext": [
          "AAPL_adj_close_AAPL <br>Volatility: 0.19 <br>Returns: 28.14% <br>Sharpe Ratio: 1.48",
          "MSFT_adj_close_MSFT <br>Volatility: 0.17 <br>Returns: 28.33% <br>Sharpe Ratio: 1.63",
          "AMZN_adj_close_AMZN <br>Volatility: 0.22 <br>Returns: 40.55% <br>Sharpe Ratio: 1.87",
          "GOOGL_adj_close_GOOGL <br>Volatility: 0.16 <br>Returns: 18.59% <br>Sharpe Ratio: 1.14",
          "GOOG_adj_close_GOOG <br>Volatility: 0.16 <br>Returns: 19.68% <br>Sharpe Ratio: 1.21",
          "META_adj_close_META <br>Volatility: 0.19 <br>Returns: 25.36% <br>Sharpe Ratio: 1.35",
          "TSLA_adj_close_TSLA <br>Volatility: 0.34 <br>Returns: 18.92% <br>Sharpe Ratio: 0.55",
          "UA_adj_close_UA <br>Volatility: 0.47 <br>Returns: -63.67% <br>Sharpe Ratio: -1.36",
          "JPM_adj_close_JPM <br>Volatility: 0.18 <br>Returns: 35.17% <br>Sharpe Ratio: 1.93",
          "V_adj_close_V <br>Volatility: 0.15 <br>Returns: 25.15% <br>Sharpe Ratio: 1.63",
          "JNJ_adj_close_JNJ <br>Volatility: 0.11 <br>Returns: 16.87% <br>Sharpe Ratio: 1.48",
          "WMT_adj_close_WMT <br>Volatility: 0.18 <br>Returns: 24.12% <br>Sharpe Ratio: 1.33",
          "PG_adj_close_PG <br>Volatility: 0.12 <br>Returns: 8.92% <br>Sharpe Ratio: 0.74",
          "UNH_adj_close_UNH <br>Volatility: 0.16 <br>Returns: 31.45% <br>Sharpe Ratio: 2.03",
          "MA_adj_close_MA <br>Volatility: 0.16 <br>Returns: 28.75% <br>Sharpe Ratio: 1.83",
          "NVDA_adj_close_NVDA <br>Volatility: 0.42 <br>Returns: 97.88% <br>Sharpe Ratio: 2.31",
          "HD_adj_close_HD <br>Volatility: 0.14 <br>Returns: 23.32% <br>Sharpe Ratio: 1.62",
          "BAC_adj_close_BAC <br>Volatility: 0.24 <br>Returns: 45.15% <br>Sharpe Ratio: 1.84",
          "DIS_adj_close_DIS <br>Volatility: 0.15 <br>Returns: 7.61% <br>Sharpe Ratio: 0.52",
          "PYPL_adj_close_PYPL <br>Volatility: 0.23 <br>Returns: 33.66% <br>Sharpe Ratio: 1.44",
          "VZ_adj_close_VZ <br>Volatility: 0.16 <br>Returns: 4.49% <br>Sharpe Ratio: 0.27",
          "ADBE_adj_close_ADBE <br>Volatility: 0.21 <br>Returns: 36.23% <br>Sharpe Ratio: 1.74",
          "CMCSA_adj_close_CMCSA <br>Volatility: 0.17 <br>Returns: 18.65% <br>Sharpe Ratio: 1.08",
          "NFLX_adj_close_NFLX <br>Volatility: 0.34 <br>Returns: 37.00% <br>Sharpe Ratio: 1.08",
          "KO_adj_close_KO <br>Volatility: 0.12 <br>Returns: 3.75% <br>Sharpe Ratio: 0.32",
          "NKE_adj_close_NKE <br>Volatility: 0.21 <br>Returns: 1.37% <br>Sharpe Ratio: 0.07",
          "PFE_adj_close_PFE <br>Volatility: 0.15 <br>Returns: 13.97% <br>Sharpe Ratio: 0.95",
          "MRK_adj_close_MRK <br>Volatility: 0.18 <br>Returns: 6.29% <br>Sharpe Ratio: 0.35",
          "PEP_adj_close_PEP <br>Volatility: 0.11 <br>Returns: 12.57% <br>Sharpe Ratio: 1.12",
          "T_adj_close_T <br>Volatility: 0.16 <br>Returns: 6.81% <br>Sharpe Ratio: 0.43",
          "ABT_adj_close_ABT <br>Volatility: 0.18 <br>Returns: 21.29% <br>Sharpe Ratio: 1.19",
          "CRM_adj_close_CRM <br>Volatility: 0.21 <br>Returns: 19.94% <br>Sharpe Ratio: 0.96",
          "ORCL_adj_close_ORCL <br>Volatility: 0.17 <br>Returns: 9.91% <br>Sharpe Ratio: 0.57",
          "ABBV_adj_close_ABBV <br>Volatility: 0.20 <br>Returns: 34.01% <br>Sharpe Ratio: 1.71",
          "CSCO_adj_close_CSCO <br>Volatility: 0.16 <br>Returns: 21.47% <br>Sharpe Ratio: 1.33",
          "INTC_adj_close_INTC <br>Volatility: 0.18 <br>Returns: 23.56% <br>Sharpe Ratio: 1.31",
          "TMO_adj_close_TMO <br>Volatility: 0.18 <br>Returns: 18.02% <br>Sharpe Ratio: 1.02",
          "XOM_adj_close_XOM <br>Volatility: 0.13 <br>Returns: 3.48% <br>Sharpe Ratio: 0.26",
          "ACN_adj_close_ACN <br>Volatility: 0.16 <br>Returns: 22.10% <br>Sharpe Ratio: 1.35",
          "LLY_adj_close_LLY <br>Volatility: 0.19 <br>Returns: 12.21% <br>Sharpe Ratio: 0.66",
          "COST_adj_close_COST <br>Volatility: 0.18 <br>Returns: 14.25% <br>Sharpe Ratio: 0.79",
          "MCD_adj_close_MCD <br>Volatility: 0.14 <br>Returns: 21.12% <br>Sharpe Ratio: 1.55",
          "DHR_adj_close_DHR <br>Volatility: 0.38 <br>Returns: 39.94% <br>Sharpe Ratio: 1.05",
          "MDT_adj_close_MDT <br>Volatility: 0.17 <br>Returns: 6.68% <br>Sharpe Ratio: 0.40",
          "NEE_adj_close_NEE <br>Volatility: 0.15 <br>Returns: 18.75% <br>Sharpe Ratio: 1.27",
          "BMY_adj_close_BMY <br>Volatility: 0.27 <br>Returns: 1.57% <br>Sharpe Ratio: 0.06",
          "QCOM_adj_close_QCOM <br>Volatility: 0.26 <br>Returns: 16.46% <br>Sharpe Ratio: 0.64",
          "CVX_adj_close_CVX <br>Volatility: 0.15 <br>Returns: 20.34% <br>Sharpe Ratio: 1.32",
          "WFC_adj_close_WFC <br>Volatility: 0.20 <br>Returns: 14.10% <br>Sharpe Ratio: 0.72",
          "LMT_adj_close_LMT <br>Volatility: 0.14 <br>Returns: 23.58% <br>Sharpe Ratio: 1.69"
         ],
         "marker": {
          "color": [
           1.4799080157773095,
           1.634572176984137,
           1.8689757531856337,
           1.1350214995699535,
           1.2082137463651326,
           1.3515065241797173,
           0.5486663571073142,
           -1.3612045248613662,
           1.9305629664637458,
           1.6299924447636782,
           1.4766349191513732,
           1.3306792732386672,
           0.7444162174381678,
           2.0278195781495305,
           1.8268884122996578,
           2.309308747342909,
           1.6159854567104788,
           1.8436506774644992,
           0.5222959725875612,
           1.4402099907865202,
           0.2746529745987303,
           1.7367932360941196,
           1.0811851977258737,
           1.0752652850201323,
           0.3195443299549986,
           0.06615667779833488,
           0.9486689566782807,
           0.3460859817697253,
           1.1150643516845886,
           0.4270291701184443,
           1.1896888751766972,
           0.9571950654478987,
           0.5691975929410283,
           1.7080240251702865,
           1.3254744192090078,
           1.3058693815920395,
           1.0222495386462829,
           0.2633734462301047,
           1.353032865408252,
           0.6577747745227966,
           0.792676301643003,
           1.5539556739293001,
           1.0450789697037575,
           0.39696021158271283,
           1.2683377254794597,
           0.058814420894640944,
           0.6359314040652626,
           1.3188531261709355,
           0.7185568244971401,
           1.6910910376593522
          ],
          "colorbar": {
           "title": {
            "text": "Sharpe<br>Ratio"
           }
          },
          "colorscale": [
           [
            0,
            "rgb(103,0,31)"
           ],
           [
            0.1,
            "rgb(178,24,43)"
           ],
           [
            0.2,
            "rgb(214,96,77)"
           ],
           [
            0.3,
            "rgb(244,165,130)"
           ],
           [
            0.4,
            "rgb(253,219,199)"
           ],
           [
            0.5,
            "rgb(247,247,247)"
           ],
           [
            0.6,
            "rgb(209,229,240)"
           ],
           [
            0.7,
            "rgb(146,197,222)"
           ],
           [
            0.8,
            "rgb(67,147,195)"
           ],
           [
            0.9,
            "rgb(33,102,172)"
           ],
           [
            1,
            "rgb(5,48,97)"
           ]
          ],
          "line": {
           "width": 1
          },
          "size": 6
         },
         "mode": "markers",
         "type": "scatter",
         "x": [
          0.19014329859490922,
          0.17332942806657184,
          0.2169755537106644,
          0.16374788135956014,
          0.16288516908677053,
          0.18762052306925617,
          0.3448631755313025,
          0.467734779004835,
          0.18217785070330592,
          0.15432001778149845,
          0.11422692002024844,
          0.1812544965619231,
          0.11986145538865324,
          0.15510947827152521,
          0.15735529267712534,
          0.4238408905351884,
          0.14431677238516286,
          0.2449139425687867,
          0.14568047732534326,
          0.2337381474600292,
          0.1636222507960784,
          0.2085960443597847,
          0.17245253786598166,
          0.3440569882009019,
          0.11726226052566237,
          0.2072295156511753,
          0.14726077548673386,
          0.1818490928670425,
          0.11277254088539865,
          0.15942545485141868,
          0.1789288332715593,
          0.20827095911628118,
          0.1741201045901066,
          0.19912072377955206,
          0.16199194516520593,
          0.180449008562767,
          0.1762755458307603,
          0.13211784517591565,
          0.16333977492766386,
          0.185587781451917,
          0.1797238447002044,
          0.13591249638484998,
          0.3821411884434607,
          0.16832286366578886,
          0.14780435041260132,
          0.2664146859848646,
          0.25875826448956674,
          0.15424065609241583,
          0.19623911161927302,
          0.13942812110296476
         ],
         "y": [
          0.2813945917369446,
          0.2833194605701917,
          0.4055220489192589,
          0.18585736585213078,
          0.1968001003696451,
          0.25357036099811087,
          0.18921482221921998,
          -0.6366826976164126,
          0.3517058118777637,
          0.25154046305963895,
          0.16867145880900994,
          0.24119160175626034,
          0.08922681123705493,
          0.314534036795558,
          0.2874705608058615,
          0.9787794759945191,
          0.2332138053338196,
          0.45153575613744507,
          0.07608832659166032,
          0.33663201519986696,
          0.0449393378916824,
          0.36228819892006303,
          0.1864531312509601,
          0.3699525354810111,
          0.03747049046868126,
          0.0137096162972398,
          0.13970172624063434,
          0.06293542183882436,
          0.1257486401902008,
          0.06807931968095683,
          0.2128696423915202,
          0.1993559343422054,
          0.09910874441532878,
          0.3401029801247713,
          0.21471617943438875,
          0.23564283522075716,
          0.1801975954001164,
          0.034796332192476326,
          0.22100408370551597,
          0.12207496109872078,
          0.14246283253401942,
          0.2112019949151331,
          0.39936771949986133,
          0.06681747957497967,
          0.18746583361828778,
          0.015669025474027428,
          0.16455250645034075,
          0.20342077147013876,
          0.14100895288728466,
          0.2357856459949065
         ]
        }
       ],
       "layout": {
        "template": {
         "data": {
          "bar": [
           {
            "error_x": {
             "color": "#2a3f5f"
            },
            "error_y": {
             "color": "#2a3f5f"
            },
            "marker": {
             "line": {
              "color": "#E5ECF6",
              "width": 0.5
             },
             "pattern": {
              "fillmode": "overlay",
              "size": 10,
              "solidity": 0.2
             }
            },
            "type": "bar"
           }
          ],
          "barpolar": [
           {
            "marker": {
             "line": {
              "color": "#E5ECF6",
              "width": 0.5
             },
             "pattern": {
              "fillmode": "overlay",
              "size": 10,
              "solidity": 0.2
             }
            },
            "type": "barpolar"
           }
          ],
          "carpet": [
           {
            "aaxis": {
             "endlinecolor": "#2a3f5f",
             "gridcolor": "white",
             "linecolor": "white",
             "minorgridcolor": "white",
             "startlinecolor": "#2a3f5f"
            },
            "baxis": {
             "endlinecolor": "#2a3f5f",
             "gridcolor": "white",
             "linecolor": "white",
             "minorgridcolor": "white",
             "startlinecolor": "#2a3f5f"
            },
            "type": "carpet"
           }
          ],
          "choropleth": [
           {
            "colorbar": {
             "outlinewidth": 0,
             "ticks": ""
            },
            "type": "choropleth"
           }
          ],
          "contour": [
           {
            "colorbar": {
             "outlinewidth": 0,
             "ticks": ""
            },
            "colorscale": [
             [
              0,
              "#0d0887"
             ],
             [
              0.1111111111111111,
              "#46039f"
             ],
             [
              0.2222222222222222,
              "#7201a8"
             ],
             [
              0.3333333333333333,
              "#9c179e"
             ],
             [
              0.4444444444444444,
              "#bd3786"
             ],
             [
              0.5555555555555556,
              "#d8576b"
             ],
             [
              0.6666666666666666,
              "#ed7953"
             ],
             [
              0.7777777777777778,
              "#fb9f3a"
             ],
             [
              0.8888888888888888,
              "#fdca26"
             ],
             [
              1,
              "#f0f921"
             ]
            ],
            "type": "contour"
           }
          ],
          "contourcarpet": [
           {
            "colorbar": {
             "outlinewidth": 0,
             "ticks": ""
            },
            "type": "contourcarpet"
           }
          ],
          "heatmap": [
           {
            "colorbar": {
             "outlinewidth": 0,
             "ticks": ""
            },
            "colorscale": [
             [
              0,
              "#0d0887"
             ],
             [
              0.1111111111111111,
              "#46039f"
             ],
             [
              0.2222222222222222,
              "#7201a8"
             ],
             [
              0.3333333333333333,
              "#9c179e"
             ],
             [
              0.4444444444444444,
              "#bd3786"
             ],
             [
              0.5555555555555556,
              "#d8576b"
             ],
             [
              0.6666666666666666,
              "#ed7953"
             ],
             [
              0.7777777777777778,
              "#fb9f3a"
             ],
             [
              0.8888888888888888,
              "#fdca26"
             ],
             [
              1,
              "#f0f921"
             ]
            ],
            "type": "heatmap"
           }
          ],
          "heatmapgl": [
           {
            "colorbar": {
             "outlinewidth": 0,
             "ticks": ""
            },
            "colorscale": [
             [
              0,
              "#0d0887"
             ],
             [
              0.1111111111111111,
              "#46039f"
             ],
             [
              0.2222222222222222,
              "#7201a8"
             ],
             [
              0.3333333333333333,
              "#9c179e"
             ],
             [
              0.4444444444444444,
              "#bd3786"
             ],
             [
              0.5555555555555556,
              "#d8576b"
             ],
             [
              0.6666666666666666,
              "#ed7953"
             ],
             [
              0.7777777777777778,
              "#fb9f3a"
             ],
             [
              0.8888888888888888,
              "#fdca26"
             ],
             [
              1,
              "#f0f921"
             ]
            ],
            "type": "heatmapgl"
           }
          ],
          "histogram": [
           {
            "marker": {
             "pattern": {
              "fillmode": "overlay",
              "size": 10,
              "solidity": 0.2
             }
            },
            "type": "histogram"
           }
          ],
          "histogram2d": [
           {
            "colorbar": {
             "outlinewidth": 0,
             "ticks": ""
            },
            "colorscale": [
             [
              0,
              "#0d0887"
             ],
             [
              0.1111111111111111,
              "#46039f"
             ],
             [
              0.2222222222222222,
              "#7201a8"
             ],
             [
              0.3333333333333333,
              "#9c179e"
             ],
             [
              0.4444444444444444,
              "#bd3786"
             ],
             [
              0.5555555555555556,
              "#d8576b"
             ],
             [
              0.6666666666666666,
              "#ed7953"
             ],
             [
              0.7777777777777778,
              "#fb9f3a"
             ],
             [
              0.8888888888888888,
              "#fdca26"
             ],
             [
              1,
              "#f0f921"
             ]
            ],
            "type": "histogram2d"
           }
          ],
          "histogram2dcontour": [
           {
            "colorbar": {
             "outlinewidth": 0,
             "ticks": ""
            },
            "colorscale": [
             [
              0,
              "#0d0887"
             ],
             [
              0.1111111111111111,
              "#46039f"
             ],
             [
              0.2222222222222222,
              "#7201a8"
             ],
             [
              0.3333333333333333,
              "#9c179e"
             ],
             [
              0.4444444444444444,
              "#bd3786"
             ],
             [
              0.5555555555555556,
              "#d8576b"
             ],
             [
              0.6666666666666666,
              "#ed7953"
             ],
             [
              0.7777777777777778,
              "#fb9f3a"
             ],
             [
              0.8888888888888888,
              "#fdca26"
             ],
             [
              1,
              "#f0f921"
             ]
            ],
            "type": "histogram2dcontour"
           }
          ],
          "mesh3d": [
           {
            "colorbar": {
             "outlinewidth": 0,
             "ticks": ""
            },
            "type": "mesh3d"
           }
          ],
          "parcoords": [
           {
            "line": {
             "colorbar": {
              "outlinewidth": 0,
              "ticks": ""
             }
            },
            "type": "parcoords"
           }
          ],
          "pie": [
           {
            "automargin": true,
            "type": "pie"
           }
          ],
          "scatter": [
           {
            "fillpattern": {
             "fillmode": "overlay",
             "size": 10,
             "solidity": 0.2
            },
            "type": "scatter"
           }
          ],
          "scatter3d": [
           {
            "line": {
             "colorbar": {
              "outlinewidth": 0,
              "ticks": ""
             }
            },
            "marker": {
             "colorbar": {
              "outlinewidth": 0,
              "ticks": ""
             }
            },
            "type": "scatter3d"
           }
          ],
          "scattercarpet": [
           {
            "marker": {
             "colorbar": {
              "outlinewidth": 0,
              "ticks": ""
             }
            },
            "type": "scattercarpet"
           }
          ],
          "scattergeo": [
           {
            "marker": {
             "colorbar": {
              "outlinewidth": 0,
              "ticks": ""
             }
            },
            "type": "scattergeo"
           }
          ],
          "scattergl": [
           {
            "marker": {
             "colorbar": {
              "outlinewidth": 0,
              "ticks": ""
             }
            },
            "type": "scattergl"
           }
          ],
          "scattermapbox": [
           {
            "marker": {
             "colorbar": {
              "outlinewidth": 0,
              "ticks": ""
             }
            },
            "type": "scattermapbox"
           }
          ],
          "scatterpolar": [
           {
            "marker": {
             "colorbar": {
              "outlinewidth": 0,
              "ticks": ""
             }
            },
            "type": "scatterpolar"
           }
          ],
          "scatterpolargl": [
           {
            "marker": {
             "colorbar": {
              "outlinewidth": 0,
              "ticks": ""
             }
            },
            "type": "scatterpolargl"
           }
          ],
          "scatterternary": [
           {
            "marker": {
             "colorbar": {
              "outlinewidth": 0,
              "ticks": ""
             }
            },
            "type": "scatterternary"
           }
          ],
          "surface": [
           {
            "colorbar": {
             "outlinewidth": 0,
             "ticks": ""
            },
            "colorscale": [
             [
              0,
              "#0d0887"
             ],
             [
              0.1111111111111111,
              "#46039f"
             ],
             [
              0.2222222222222222,
              "#7201a8"
             ],
             [
              0.3333333333333333,
              "#9c179e"
             ],
             [
              0.4444444444444444,
              "#bd3786"
             ],
             [
              0.5555555555555556,
              "#d8576b"
             ],
             [
              0.6666666666666666,
              "#ed7953"
             ],
             [
              0.7777777777777778,
              "#fb9f3a"
             ],
             [
              0.8888888888888888,
              "#fdca26"
             ],
             [
              1,
              "#f0f921"
             ]
            ],
            "type": "surface"
           }
          ],
          "table": [
           {
            "cells": {
             "fill": {
              "color": "#EBF0F8"
             },
             "line": {
              "color": "white"
             }
            },
            "header": {
             "fill": {
              "color": "#C8D4E3"
             },
             "line": {
              "color": "white"
             }
            },
            "type": "table"
           }
          ]
         },
         "layout": {
          "annotationdefaults": {
           "arrowcolor": "#2a3f5f",
           "arrowhead": 0,
           "arrowwidth": 1
          },
          "autotypenumbers": "strict",
          "coloraxis": {
           "colorbar": {
            "outlinewidth": 0,
            "ticks": ""
           }
          },
          "colorscale": {
           "diverging": [
            [
             0,
             "#8e0152"
            ],
            [
             0.1,
             "#c51b7d"
            ],
            [
             0.2,
             "#de77ae"
            ],
            [
             0.3,
             "#f1b6da"
            ],
            [
             0.4,
             "#fde0ef"
            ],
            [
             0.5,
             "#f7f7f7"
            ],
            [
             0.6,
             "#e6f5d0"
            ],
            [
             0.7,
             "#b8e186"
            ],
            [
             0.8,
             "#7fbc41"
            ],
            [
             0.9,
             "#4d9221"
            ],
            [
             1,
             "#276419"
            ]
           ],
           "sequential": [
            [
             0,
             "#0d0887"
            ],
            [
             0.1111111111111111,
             "#46039f"
            ],
            [
             0.2222222222222222,
             "#7201a8"
            ],
            [
             0.3333333333333333,
             "#9c179e"
            ],
            [
             0.4444444444444444,
             "#bd3786"
            ],
            [
             0.5555555555555556,
             "#d8576b"
            ],
            [
             0.6666666666666666,
             "#ed7953"
            ],
            [
             0.7777777777777778,
             "#fb9f3a"
            ],
            [
             0.8888888888888888,
             "#fdca26"
            ],
            [
             1,
             "#f0f921"
            ]
           ],
           "sequentialminus": [
            [
             0,
             "#0d0887"
            ],
            [
             0.1111111111111111,
             "#46039f"
            ],
            [
             0.2222222222222222,
             "#7201a8"
            ],
            [
             0.3333333333333333,
             "#9c179e"
            ],
            [
             0.4444444444444444,
             "#bd3786"
            ],
            [
             0.5555555555555556,
             "#d8576b"
            ],
            [
             0.6666666666666666,
             "#ed7953"
            ],
            [
             0.7777777777777778,
             "#fb9f3a"
            ],
            [
             0.8888888888888888,
             "#fdca26"
            ],
            [
             1,
             "#f0f921"
            ]
           ]
          },
          "colorway": [
           "#636efa",
           "#EF553B",
           "#00cc96",
           "#ab63fa",
           "#FFA15A",
           "#19d3f3",
           "#FF6692",
           "#B6E880",
           "#FF97FF",
           "#FECB52"
          ],
          "font": {
           "color": "#2a3f5f"
          },
          "geo": {
           "bgcolor": "white",
           "lakecolor": "white",
           "landcolor": "#E5ECF6",
           "showlakes": true,
           "showland": true,
           "subunitcolor": "white"
          },
          "hoverlabel": {
           "align": "left"
          },
          "hovermode": "closest",
          "mapbox": {
           "style": "light"
          },
          "paper_bgcolor": "white",
          "plot_bgcolor": "#E5ECF6",
          "polar": {
           "angularaxis": {
            "gridcolor": "white",
            "linecolor": "white",
            "ticks": ""
           },
           "bgcolor": "#E5ECF6",
           "radialaxis": {
            "gridcolor": "white",
            "linecolor": "white",
            "ticks": ""
           }
          },
          "scene": {
           "xaxis": {
            "backgroundcolor": "#E5ECF6",
            "gridcolor": "white",
            "gridwidth": 2,
            "linecolor": "white",
            "showbackground": true,
            "ticks": "",
            "zerolinecolor": "white"
           },
           "yaxis": {
            "backgroundcolor": "#E5ECF6",
            "gridcolor": "white",
            "gridwidth": 2,
            "linecolor": "white",
            "showbackground": true,
            "ticks": "",
            "zerolinecolor": "white"
           },
           "zaxis": {
            "backgroundcolor": "#E5ECF6",
            "gridcolor": "white",
            "gridwidth": 2,
            "linecolor": "white",
            "showbackground": true,
            "ticks": "",
            "zerolinecolor": "white"
           }
          },
          "shapedefaults": {
           "line": {
            "color": "#2a3f5f"
           }
          },
          "ternary": {
           "aaxis": {
            "gridcolor": "white",
            "linecolor": "white",
            "ticks": ""
           },
           "baxis": {
            "gridcolor": "white",
            "linecolor": "white",
            "ticks": ""
           },
           "bgcolor": "#E5ECF6",
           "caxis": {
            "gridcolor": "white",
            "linecolor": "white",
            "ticks": ""
           }
          },
          "title": {
           "x": 0.05
          },
          "xaxis": {
           "automargin": true,
           "gridcolor": "white",
           "linecolor": "white",
           "ticks": "",
           "title": {
            "standoff": 15
           },
           "zerolinecolor": "white",
           "zerolinewidth": 2
          },
          "yaxis": {
           "automargin": true,
           "gridcolor": "white",
           "linecolor": "white",
           "ticks": "",
           "title": {
            "standoff": 15
           },
           "zerolinecolor": "white",
           "zerolinewidth": 2
          }
         }
        },
        "title": {
         "text": "Markowitz Mean Varience Model"
        },
        "xaxis": {
         "title": {
          "text": "Volatility (Standard Deviation)"
         }
        },
        "yaxis": {
         "title": {
          "text": "Annualized Returns"
         }
        }
       }
      }
     },
     "metadata": {},
     "output_type": "display_data"
    }
   ],
   "source": [
    "hover_texts = [\n",
    "    f\"{ticker} <br>Volatility: {vol:.2f} <br>Returns: {ret:.2%} <br>Sharpe Ratio: {sr:.2f}\"\n",
    "    for ticker, vol, ret, sr in zip(names, volatility, annualized_returns, sharpe_ratios)\n",
    "]\n",
    "\n",
    "fig = go.Figure(data=go.Scatter(\n",
    "    x=volatility, \n",
    "    y=annualized_returns, \n",
    "    mode='markers',\n",
    "    hoverinfo='text',\n",
    "    hovertext=hover_texts,\n",
    "    marker=dict(color=sharpe_ratios, colorscale = 'RdBu', size=6, line=dict(width=1), colorbar=dict(title=\"Sharpe<br>Ratio\")\n",
    "    )\n",
    "))\n",
    "\n",
    "fig.update_layout(\n",
    "    title='Markowitz Mean Varience Model',\n",
    "    xaxis_title='Volatility (Standard Deviation)',\n",
    "    yaxis_title='Annualized Returns',\n",
    ")\n",
    "\n",
    "fig.show()\n"
   ]
  },
  {
   "cell_type": "code",
   "execution_count": 6,
   "metadata": {},
   "outputs": [],
   "source": [
    "portfolio_size = 10\n",
    "number_of_portfolios = 1000\n",
    "\n",
    "mean_variance_pairs = []\n",
    "\n",
    "for i in range(number_of_portfolios):\n",
    "    assets = np.random.choice(list(raw_data.columns), portfolio_size, replace=False)\n",
    "    weights = np.random.rand(portfolio_size)\n",
    "    weights = weights/sum(weights)\n",
    "\n",
    "    portfolio_E_Variance = 0\n",
    "    portfolio_E_Return = 0\n",
    "    for i in range(len(assets)):\n",
    "        portfolio_E_Return += weights[i] * annualized_returns.loc[assets[i]]\n",
    "        for j in range(len(assets)):\n",
    "            portfolio_E_Variance += weights[i] * weights[j] * cov.loc[assets[i], assets[j]]\n",
    "            \n",
    "    mean_variance_pairs.append([portfolio_E_Return, portfolio_E_Variance])"
   ]
  },
  {
   "cell_type": "code",
   "execution_count": 7,
   "metadata": {},
   "outputs": [
    {
     "data": {
      "application/vnd.plotly.v1+json": {
       "config": {
        "plotlyServerURL": "https://plot.ly"
       },
       "data": [
        {
         "marker": {
          "color": [
           1.826464346522932,
           0.1783001756039898,
           1.7418389404233563,
           1.830461617543214,
           2.5071358392366694,
           2.184181988825609,
           2.1028408881519183,
           2.428317395740373,
           2.010727426531879,
           2.1851802209362963,
           1.3307493268858712,
           2.3389098288300367,
           1.3880991277884982,
           2.21991855555066,
           0.9201882647705948,
           2.036591374564504,
           1.9551493324662008,
           2.1241315516235697,
           1.8857660874592843,
           2.151308609381993,
           1.830876318972816,
           0.6350171262565983,
           1.9791093101007178,
           2.052064907186289,
           2.4668890927813782,
           1.624503776869665,
           1.708853726419467,
           2.0773108853555957,
           1.674243680934581,
           2.5875059400865434,
           2.216894452591998,
           1.1099981005025796,
           2.0664876621284267,
           2.204270344969085,
           1.8132005685804946,
           0.7670628067379576,
           1.3321633081672006,
           1.500399082542766,
           1.5331155964566316,
           2.1171302355938204,
           2.7355420895576876,
           1.9616412860555386,
           1.967281179293389,
           2.1766164588401447,
           1.4278656319234604,
           1.7945124877520136,
           2.1163885158245392,
           2.080079374838242,
           1.8314711227678255,
           2.5853439470242443,
           1.667465736483306,
           0.4076735122337119,
           2.297205235524298,
           0.5190191428089536,
           2.5163177471934515,
           1.9748971007506473,
           1.2954217210267156,
           1.9592694011023666,
           2.7535704643246164,
           0.6798035998376123,
           1.1702460425713095,
           2.1162475481895484,
           2.0842079917088054,
           2.515912861553238,
           2.1440685574546854,
           2.4770157431534914,
           2.2680395237677247,
           2.499418357649795,
           2.085966183447878,
           1.8511821136022453,
           1.50618114539387,
           1.7070155942104364,
           1.6036345968919825,
           1.5855579675680644,
           1.508245117070379,
           1.239230708972817,
           2.1244292935659526,
           1.7781782227192917,
           1.457370658986,
           1.0392016151558972,
           2.9447838351610414,
           1.539117993538026,
           1.617577617150206,
           3.032337547784949,
           2.4915659732761677,
           2.1737833141742624,
           1.8745335653530353,
           1.7418694581432188,
           2.2682162284642695,
           2.428675802601107,
           2.4723335956584296,
           1.2355411309243647,
           2.0924651070989575,
           1.468255048701175,
           3.031939774161297,
           2.6667928770505656,
           2.1047512675789597,
           0.7665154925713261,
           1.8906756814821455,
           2.1422837951914446,
           1.7382923182006815,
           2.149435508621994,
           2.5374005287011814,
           0.5709560912989381,
           2.0344024634808195,
           0.869513673490519,
           1.872475664164236,
           2.551461200361642,
           1.9642546969409598,
           2.755693397273544,
           1.4545777619498281,
           1.9570593913619845,
           2.465558833619947,
           2.553625883825989,
           1.9741751088346695,
           2.4138410413344698,
           0.5406148916770244,
           2.3726538086327675,
           1.7552386649002445,
           2.178472781043181,
           2.585293258465425,
           1.8787707331655337,
           1.454991872543778,
           1.4798269723975122,
           1.9066849035887148,
           1.7397872231293556,
           2.3374542144759967,
           2.0738467000653764,
           2.3796734687130074,
           2.530956790517468,
           0.33835339765657935,
           2.0271054844297414,
           1.605078320209095,
           1.6761214099767199,
           2.7497865776606645,
           2.136995299369841,
           1.6900674992778926,
           1.936334029173215,
           2.083313146180038,
           1.8748330578346706,
           1.7864510436518017,
           1.9101058711500494,
           1.5997845724828472,
           -0.13267124047458892,
           2.310235650183081,
           2.494685235560056,
           1.756250375074019,
           1.6932494864092598,
           2.3917782701099086,
           2.068584197961859,
           1.2029705172089824,
           1.2292020329882372,
           1.204310600342526,
           2.367046350584709,
           1.834753119222608,
           2.3301401763952025,
           0.7935072329885805,
           1.7147263820324137,
           0.4481173395659187,
           1.6656210825926137,
           1.9360193165268698,
           1.8210864601155998,
           2.106524081385133,
           1.8444840366418256,
           0.08635246129973619,
           1.6577759962075995,
           2.3103386916582327,
           1.7872479915588646,
           2.111887614088288,
           1.4310086738540317,
           2.928125861192904,
           1.6265250760555676,
           2.5653719327716016,
           2.7140536617712936,
           1.935047741843571,
           2.56161880037041,
           1.1026749870906636,
           2.1596296637092114,
           2.7231864697311075,
           1.9097992987031374,
           1.5372300346593435,
           2.345507867301522,
           2.169109139632538,
           1.887035170712344,
           2.26779534856181,
           2.2863111850039557,
           1.837681708671689,
           1.9957300923386636,
           2.6065408160905523,
           0.9261917801179131,
           2.335758900702893,
           2.1835066776640235,
           2.433853894243052,
           1.9624165562794198,
           0.0034456727711170794,
           2.1498815347036504,
           2.297295138360144,
           2.3538242419518167,
           1.9547809192188765,
           1.3290731959774216,
           0.5507528195581162,
           0.9514169941934002,
           1.88763125576334,
           1.899674417853647,
           1.6202395009598443,
           2.360772742467633,
           2.318193228017225,
           2.0897788066595546,
           1.9624496791787223,
           1.7769369866254536,
           1.5288047398443643,
           1.8775057499700833,
           2.687630884816269,
           2.1443470680332575,
           1.8263911604234047,
           1.980350282955666,
           2.288707729176237,
           1.6664334654773851,
           1.9164652978241017,
           0.70040093586762,
           1.6428085184838308,
           2.131761836753991,
           1.5080900556129024,
           2.1894315358638883,
           1.8820019809659447,
           2.853545001893448,
           1.094833591108921,
           2.0022893221632136,
           1.9340560915051044,
           2.084327854246332,
           2.1877806177987904,
           2.2319147024370234,
           2.0800743602383593,
           2.0337325231062384,
           2.1980023352031157,
           2.354584444786758,
           1.9008926731750324,
           1.7255237082204076,
           2.4099377101874566,
           0.7894967401772718,
           2.2984069907671256,
           1.8693584045680767,
           1.629843363395144,
           0.7277925627521209,
           1.560638097972267,
           1.9720857723141783,
           0.17119752415283232,
           1.9028108633152347,
           1.2990931423208298,
           2.1976985271109974,
           2.450445023686729,
           2.4268673417734954,
           1.8900478591325762,
           2.730854297692993,
           1.776733311114594,
           2.159282443936788,
           -0.04911736770090109,
           0.9480990535188157,
           2.631541002322998,
           0.9825441176838068,
           2.1208053159157463,
           1.1481703736957032,
           1.4373969488005567,
           2.4280246252782196,
           1.6389675782530269,
           1.9495382689167697,
           0.753726645362615,
           2.310511976391298,
           1.7816361774635503,
           1.7966954714545558,
           1.8523947614874854,
           2.165558992427666,
           2.312854017694283,
           2.238863031156966,
           2.2824626367126792,
           2.043548073475965,
           2.2161882813570535,
           1.8615477570188692,
           0.36148931054787503,
           1.3606916703482737,
           2.709945366125988,
           1.3413629074591513,
           2.0187119211411444,
           1.8227205689858312,
           1.6888984011815689,
           1.8453302245902397,
           1.0588276066473798,
           1.323396556125183,
           1.8699897552111289,
           2.3006689211151903,
           1.8712805897747409,
           1.4697650738882262,
           1.225939763353611,
           2.2058988123409633,
           1.0055723175807287,
           2.3613552009475254,
           1.8385020509124068,
           2.435141687525899,
           2.2730811551932235,
           0.8443763319054253,
           1.860323307576623,
           2.999348934239897,
           0.1638097676021174,
           1.6997953214003256,
           2.6867214433951383,
           1.6491454571390511,
           2.1995649242686612,
           1.4603286449670685,
           1.390759417575588,
           2.717571056975854,
           2.758200084451836,
           2.034310112610755,
           1.7057693110147338,
           2.2820242390266854,
           1.2134505072603605,
           2.4828160754582362,
           1.821679677386178,
           2.6100540656738636,
           2.1727948586762804,
           2.2031521048128377,
           1.8389635195185836,
           1.43895431896556,
           0.40348680465924674,
           2.3071265041319844,
           1.971059171650813,
           1.746624511785935,
           2.248382846731451,
           2.1805297641364714,
           1.80509578377961,
           1.4875607460167828,
           2.319872835870524,
           1.857002449405618,
           2.2147306330906305,
           0.7249774209194507,
           1.5288742539159546,
           0.046029549103214,
           1.8481117136554597,
           2.372498044698066,
           1.752750248985497,
           2.3091783082560418,
           1.1508085757428443,
           2.489634718100138,
           1.8829643406991972,
           2.08316929887363,
           1.6195036391029691,
           1.93018971130206,
           2.5766408258840796,
           1.7443444052078734,
           0.4744846817265148,
           1.352544633320679,
           2.3654993771227733,
           1.7024268716003812,
           1.4786676605376319,
           0.6849527063036832,
           1.6033352605582938,
           1.8479321585546629,
           1.1999534405100378,
           2.1358619516518953,
           1.5703608434833223,
           3.0784696051425295,
           2.261970279236997,
           2.2329849300005495,
           2.1678978584646615,
           1.8525964634070637,
           2.1476301373831594,
           2.058970022940032,
           2.225748156912961,
           0.4876792448818258,
           1.9423579290037225,
           2.1002622550122267,
           2.13943927844174,
           2.478568702557441,
           1.8766103981077578,
           1.893559391705715,
           -0.05043999719535241,
           2.3285048643068555,
           2.0638689080819232,
           1.726893866500685,
           2.1550082259846945,
           2.0691989074268733,
           1.8862091729334252,
           1.7033590790361028,
           2.20859833386446,
           1.5768233583553626,
           2.335489689461301,
           2.284782358905829,
           2.002624906831962,
           2.905342698032332,
           2.293139731104289,
           2.329378819735631,
           1.8185769301413244,
           2.0343425258607626,
           1.90667239918675,
           0.41451037119943535,
           1.8056499409233229,
           2.2070552516755804,
           2.3521775048135765,
           0.7167607994381087,
           1.963857794238848,
           0.4003457354262359,
           2.5919803241177846,
           1.930885859699425,
           0.7933316320414756,
           2.1680474677721397,
           1.5787016050578435,
           1.2390141532448569,
           1.9640462890594006,
           2.071790363105083,
           2.1934121942720144,
           2.4606893126912257,
           2.5135432843937013,
           2.333132263876873,
           2.165751810087953,
           2.6983572820751625,
           1.343940498912255,
           2.0462832998077065,
           1.9077474217659907,
           2.3842671537776905,
           2.3998343498381516,
           1.8167405005320862,
           1.4144527119288086,
           1.953729635439901,
           2.48103246453993,
           2.366180917428943,
           1.3161483285049407,
           0.9235747619820337,
           2.018773510676336,
           1.9106221381827961,
           1.4860400415655093,
           2.320529411724397,
           2.0069474527799587,
           2.4746095839430864,
           1.778281212374592,
           1.9209005417892233,
           2.1194145534225606,
           2.277041666225636,
           2.4440356086486372,
           2.38594775079832,
           2.490653216141612,
           2.7707273397786665,
           1.1411765845564215,
           1.8660864143237679,
           2.6160620396386487,
           0.6765105628699308,
           1.9456972784885707,
           1.7005685877507926,
           2.8713427026699643,
           0.15904714620044058,
           2.234203680399864,
           1.4351818794776792,
           0.42788757834385016,
           2.366531477272413,
           0.19544907820516835,
           1.8266196371053993,
           2.130946855859187,
           1.433017552383389,
           2.063712610807561,
           2.99246560344107,
           2.8367776379349845,
           1.7191332212486954,
           2.3377468289125702,
           2.079442730552418,
           2.3810278994220084,
           1.3932817103576094,
           2.0924286364849416,
           1.4585085096892896,
           2.004945671694912,
           1.7322320563637135,
           2.7052837736352062,
           1.8442046315687006,
           2.3072137680577858,
           0.3986082659037836,
           2.377809648317735,
           1.2730397426740008,
           0.24067005290450993,
           2.087609631663077,
           0.4287561921679292,
           0.8148348124997038,
           1.7035569663801737,
           2.8486745350987484,
           2.0413385767219077,
           1.9442182317120924,
           2.056085102268523,
           0.4840768113158756,
           2.515403778361244,
           2.031258739031981,
           2.7973535169808628,
           1.9887250663104512,
           1.5822993276285553,
           2.0334400597999704,
           1.5702680940864513,
           1.8216317623446472,
           2.272882113989445,
           1.196330696547013,
           2.3033209448308503,
           2.1465985188172314,
           1.866530568720294,
           1.7079026599385154,
           1.925907446704518,
           2.165428760349866,
           2.62119132975009,
           2.4856832877028845,
           1.2264761514835023,
           1.963592126275515,
           2.0291691013663704,
           2.252299588841409,
           0.5562932872268013,
           2.0229323836979356,
           1.0054404548572629,
           1.920149514558501,
           2.2433241890472586,
           0.9821627763601615,
           1.490387129310053,
           2.4748709003453158,
           1.5459315799803375,
           1.4712954022431877,
           2.4272249477893135,
           2.344013473419826,
           2.047510933833578,
           2.3361770672522417,
           2.565806124263227,
           2.1555878814496117,
           1.7244364428274512,
           1.3670622416812028,
           1.559982577536903,
           3.0491208196824475,
           0.8108171532531906,
           1.6453246663887597,
           2.422526003261016,
           1.8108818945533764,
           0.7796683448371639,
           1.3849856941400691,
           2.4516193939678836,
           2.7371407529396397,
           2.1528078929044123,
           2.110198525706593,
           1.927762569411171,
           1.83487682071335,
           2.190456153925633,
           2.1614414541372042,
           1.6853175237942433,
           2.08702409108117,
           1.4805987887532779,
           1.744415393601615,
           2.4528084348574457,
           0.7271491173347999,
           0.18307653247679057,
           1.6501150802353288,
           0.2720039839771604,
           2.002868021661043,
           0.9411042973317085,
           1.8960889373769758,
           2.317466856549603,
           1.7049582527302753,
           1.0701609806287515,
           2.1749328856082037,
           2.006020966764899,
           2.093155041524182,
           2.35488496349916,
           0.39823648426290387,
           1.8817331936389954,
           2.3003262166516802,
           2.259899514468997,
           1.9268012755329558,
           1.6056753758635685,
           2.2143415588170168,
           2.3934202539238942,
           2.461213384426254,
           2.67977922520718,
           1.9949891773744737,
           1.805366440622288,
           1.5087113200431341,
           2.251852812657636,
           2.030332874042278,
           2.403777394397008,
           2.500352667205493,
           2.3128431873376907,
           2.5687057129625854,
           1.6580379510098049,
           1.3481285523889752,
           1.3142711323543064,
           1.4943568915430097,
           1.8338033496588906,
           2.1666189200881063,
           0.8045721896990383,
           1.6589145597121335,
           2.381110254920836,
           1.342324667443512,
           1.9369013411768197,
           2.067727111101673,
           1.6500886582239618,
           2.0565357764446746,
           2.1776145030082383,
           1.7113032775926296,
           2.0479703170025467,
           2.06251197191784,
           0.9388020439554388,
           2.3510715270937417,
           2.7638724904560132,
           2.172991500756475,
           2.0886595143037616,
           0.8215426525999395,
           0.3500045389599419,
           1.6967549405581974,
           1.0989171971483047,
           1.6721544516687705,
           2.148699524151041,
           1.9222847683515658,
           2.8341445658881885,
           1.90791153643862,
           2.6820359638023956,
           2.186787626797023,
           2.6680154664804188,
           2.028552148257571,
           0.6792121118772552,
           1.977187058063002,
           2.1606273673561343,
           2.147410449260741,
           2.129406581125178,
           2.1142029874536785,
           2.007027426972481,
           1.3694700116866374,
           2.4283219178555218,
           0.5863094770937298,
           1.4760115733591956,
           2.1488933163349144,
           2.056884546430523,
           2.1677604989627253,
           2.2781442640903933,
           2.3434715141074034,
           1.920198289778946,
           2.200852774665251,
           0.9834289995751709,
           1.7199703166032454,
           1.985098521811911,
           2.538852930969363,
           1.8563399689346416,
           1.8867396827539944,
           2.482865961135517,
           2.029867610024607,
           1.6374564126543714,
           2.5918425185685585,
           2.175475210013419,
           1.7333303900063182,
           2.666062325893491,
           1.7561070751534364,
           2.1741075669122587,
           2.1598450477846227,
           2.441742409629773,
           1.7493197984634732,
           2.004491688633171,
           1.5315138600558078,
           1.9080122793611383,
           2.2437514323474033,
           0.9405791787757264,
           1.6943541070391899,
           2.081287746924719,
           2.168188030552839,
           2.334202291740344,
           1.704788562852442,
           2.363777868427867,
           1.9711317292408987,
           2.7362770142492945,
           2.4112030617995215,
           1.3078693903175658,
           1.835439528157942,
           2.4317486414423435,
           0.685094406178756,
           1.783528222008819,
           0.12887411811576327,
           2.095117114710796,
           2.327580349473133,
           1.6070536829350048,
           2.2971722426979873,
           2.255206890871395,
           2.2283285797626142,
           1.6467011277691506,
           1.6860057938858972,
           1.8632642915342945,
           1.661997943384467,
           3.0491017006940266,
           1.6295862594977797,
           2.7571870918353785,
           1.043168609719589,
           1.8444054053629704,
           0.608649178606186,
           2.1667896735375853,
           1.637733799175754,
           1.9309044962117627,
           1.690783394331963,
           1.5968089524475306,
           1.9435211292689267,
           1.811929098087548,
           1.4264901298789368,
           2.633839007748486,
           1.9366949711545394,
           0.7701505912829043,
           1.5789054312177162,
           1.857794839242921,
           1.8363427980135596,
           1.251593561692064,
           0.2939961898215105,
           1.9782120051739513,
           0.2267969205877153,
           1.0632629815273034,
           0.9317559661310563,
           0.7669087556474732,
           1.9174459022696997,
           1.8274013738050967,
           2.538981341986093,
           1.8222810671874794,
           2.0224718332083182,
           2.778087638424246,
           2.294310223479811,
           1.41818308827578,
           2.225344954784296,
           2.1282146975723792,
           1.0333689777891397,
           2.323435706131476,
           1.2095277112815126,
           2.783434775700931,
           1.7464626975481767,
           1.9440339873227315,
           2.0423607830417394,
           2.097024154326794,
           2.353578865184916,
           1.2974750681433378,
           2.0556720215748747,
           1.7423875890672595,
           1.4922297345635926,
           2.0727033592847137,
           1.8386734326018974,
           1.1381463821981188,
           2.4176886283657764,
           2.322670151064366,
           0.40209754865778025,
           2.911672342365187,
           2.2184788198949668,
           1.5027379682297364,
           2.318326022328529,
           2.10323458697412,
           1.6925220212168917,
           1.6647734841029134,
           1.9724810414361817,
           1.4119747816253267,
           0.9304772540686819,
           2.0893578556529238,
           1.6500815071283816,
           2.6119516829044853,
           2.0769541192886534,
           1.8686158908312296,
           1.6232887882037268,
           1.4757796921371646,
           2.307679026538524,
           1.7033679038823697,
           2.034861582792244,
           1.8510620333800452,
           0.8841723228757462,
           1.7066275122760466,
           2.1628987311148715,
           2.372514536423424,
           2.2591970112481365,
           2.4961674353798085,
           1.8661755482526101,
           1.121633373815749,
           2.251376889694047,
           1.597964947230487,
           2.357741220975808,
           0.42604731678661,
           1.6090918624001698,
           2.2914929853076536,
           2.19966698304009,
           2.2060326483663566,
           2.204851011713627,
           1.5400510815000075,
           1.7068754623599327,
           2.168185522125852,
           1.8306163811370755,
           1.952148551018895,
           1.5738089244447422,
           2.6581650740652183,
           2.0898604460894408,
           2.0216685511608716,
           1.7109810632977223,
           1.9090635152191207,
           1.741416286860663,
           3.0891127365342967,
           2.1798487144731715,
           1.4411618288816996,
           2.2800246952606784,
           2.2296522635952183,
           1.7218308432789047,
           1.6919676808178037,
           1.8475532288708032,
           2.226849810767998,
           1.946445320885751,
           1.01593290797242,
           2.444691221632859,
           1.9674886528434503,
           0.9499523745286914,
           1.6620714997523423,
           2.126437414428917,
           1.634449994106703,
           1.4696830318555787,
           1.916970019640963,
           2.510551664488041,
           2.027836697337404,
           2.710661168374058,
           1.6055235000288794,
           1.4838572230000227,
           1.9065870610473816,
           1.5777313306286505,
           0.32650407590005887,
           2.32457472329115,
           1.7979803951206297,
           2.7117814796197415,
           2.0885211040276794,
           1.8645675911036004,
           1.217468206390669,
           2.683375422488973,
           2.2332204570526435,
           1.4977303496406411,
           2.3544381331420734,
           1.8555694441349198,
           1.6037497886046652,
           1.9053127521453863,
           1.4646630426349232,
           1.9637652275383382,
           2.187644181804261,
           2.2717647239347007,
           1.0371685852892243,
           2.477901818641698,
           1.8334622140453232,
           2.0684757756776735,
           1.9288167767330013,
           1.2354363547916005,
           1.200325373944854,
           2.0839015286877176,
           1.6984372955421903,
           1.8945312280619506,
           0.7302577125314199,
           1.052429922041059,
           1.629920065694396,
           1.8472372695679307,
           2.154140554875805,
           2.432414447609754,
           0.5527848238841148,
           1.869454874382201,
           2.445770312820427,
           1.8554441064996792,
           2.1727153498230294,
           1.8325886965960283,
           1.6855496396213805,
           1.7839891287437002,
           1.4420391476792134,
           1.0214471104479828,
           1.5444463586247479,
           1.6294732888407857,
           2.3512122522800887,
           1.8401912865571524,
           2.2496525169325885,
           1.577692666751636,
           2.4439703206088215,
           1.9938904811442213,
           0.6170862008582795,
           2.017254843945504,
           2.2651023710506455,
           1.6653957668652626,
           2.4683433621897013,
           1.640060715875643,
           2.278818779723033,
           1.5726951023105424,
           2.1108678827193867,
           0.2942445255077675,
           2.00182897662269,
           1.9396187986829658,
           1.7447856691257018,
           0.08096541479176954,
           1.7874049984510694,
           2.235113865411822,
           2.0950815463367936,
           2.1315913170024205,
           1.5968680895007776,
           2.1490820059608473,
           1.7998689692760768,
           0.5308496246624212,
           2.163432507542501,
           1.4360903202037427,
           1.9625483268531068,
           2.050029621706025,
           1.7129965682408883,
           2.7366558214063965,
           1.6456810028503739,
           2.246737046096564,
           1.981233901203618,
           2.2882200481918726,
           1.9976796953609268,
           1.5661219200658034,
           1.9104060622447547,
           2.248183792293533,
           2.102052097087797,
           2.0912458792141035,
           2.1981375048086624,
           2.700873055486923,
           1.6357166273672863,
           2.455957140047011,
           1.9117751779198335,
           2.0909231651237747,
           1.732598981180786,
           2.349439701732882,
           2.6843510800114427,
           1.8327190543118732,
           0.6930237414980273,
           2.5262200103211603,
           2.6514337637884022,
           2.2329903647607283,
           1.716629277424222,
           2.0395591296530933,
           0.9508826774277257,
           1.640539508041892,
           2.1234031973371277,
           1.7529837322545236,
           1.9098455125063791,
           1.7803893135222124,
           2.148176542642377,
           2.492157781575934,
           2.588351410443568,
           1.2149682285251504,
           2.361762187412454,
           2.665262100952126,
           2.1724043668439474,
           1.5747546011218485,
           2.4331324595299018,
           1.9627111618359114,
           2.85070821188948,
           2.4789896297197087,
           1.8347332058381234,
           2.507180551942478,
           1.1570336317877117,
           2.1239771908042333,
           2.3070283051285014,
           1.4241438715539456,
           2.5939145213462473,
           3.113466416569591,
           0.8420799226129245,
           0.782124812997523,
           1.824760656039693,
           2.416871607624448,
           1.3055890350715906,
           2.2073147291799398,
           1.4957483572775454,
           1.7567885249327313,
           1.5820138504091374,
           2.156515375070493,
           1.7943927384343756,
           1.9387069317704737,
           2.2322290080283644,
           1.9303041816338098,
           2.0963352918879834,
           2.1499148055522173,
           1.6466417251069894,
           2.0498216603365496,
           2.4949340379448763,
           0.5176609078728178,
           0.5980873637852451,
           1.7519000740426782,
           1.02759849963228,
           1.870405074157566,
           2.6853492331697475,
           1.653550725427503,
           2.109445605688301,
           2.066957045852372,
           1.5368127259480004,
           1.9192759101005155,
           2.2997154842910117,
           0.5738140027156454,
           1.6732592210881174,
           1.9505012886850341,
           2.6089329503154066,
           1.8421757719865042,
           2.3503633496112877,
           2.099416991507121,
           0.5231171661302844,
           0.5814366328901621,
           2.316151188754816,
           0.8614004366447611,
           2.4197453003615035,
           2.0018339395264455,
           1.885874996838423,
           1.8815828947799502,
           2.167632511017217,
           2.2872824778105407,
           1.2524506424254795,
           1.5130546307898491,
           2.454895707181274,
           2.1281902256688423,
           1.561946033993495,
           2.1959024045984505,
           2.7269587207731965,
           1.8680379544296568
          ],
          "colorbar": {
           "title": {
            "text": "Sharpe<br>Ratio"
           }
          },
          "line": {
           "width": 1
          },
          "size": 5
         },
         "mode": "markers",
         "type": "scatter",
         "x": [
          0.09441220190195096,
          0.11228685782212665,
          0.08580675068177902,
          0.12910794390334324,
          0.10119767737850673,
          0.1191473727335793,
          0.09579709835245157,
          0.09559994917237535,
          0.10813757134011133,
          0.09219966554488933,
          0.12278627245967998,
          0.08622531051096624,
          0.1238137229836601,
          0.11543462099524,
          0.12781385249379515,
          0.11778041189549379,
          0.10334705078080247,
          0.09221609861957289,
          0.10668116487880983,
          0.09572911555904577,
          0.10526903454980822,
          0.120950779931302,
          0.09823391959807641,
          0.11937186555207396,
          0.09381320840630575,
          0.11071743133041508,
          0.1002672644409241,
          0.08998106033135411,
          0.11311260284614628,
          0.0857510022248701,
          0.09645585300776391,
          0.10626693968870378,
          0.10287800402563985,
          0.0971155461166292,
          0.13025484306493332,
          0.1165715324781338,
          0.10081790723052779,
          0.1376103160420466,
          0.1252695653043499,
          0.10609240100499065,
          0.14134952948509888,
          0.09889174989712206,
          0.11569777943191668,
          0.11259729419165383,
          0.11748504009665113,
          0.09753156759525028,
          0.1012467252387451,
          0.09738446106540871,
          0.11187847400603955,
          0.10794477564708474,
          0.12050087328072803,
          0.1094321946328851,
          0.11873127447212327,
          0.13131315653758763,
          0.09130780108307993,
          0.10893880636788361,
          0.12871824944127147,
          0.10364665009859018,
          0.1185213815074083,
          0.12188453782398849,
          0.10994503375811376,
          0.10268485324136607,
          0.08722880634679056,
          0.09945114717769457,
          0.11899150973271982,
          0.11583894205437205,
          0.10714731004954701,
          0.1017841187236243,
          0.08502518143405367,
          0.103760899912473,
          0.10316456120164576,
          0.0965214559310802,
          0.09980991357456444,
          0.09484411895891541,
          0.10683234248707607,
          0.11645549015391157,
          0.10957439522219202,
          0.09356006860570322,
          0.14557143862852043,
          0.11362932066115526,
          0.1030237996973804,
          0.10009513459937015,
          0.0867984582229038,
          0.13061520592268736,
          0.1405128820366285,
          0.0894845823679042,
          0.09685428380124436,
          0.11304291985466815,
          0.1003027627171199,
          0.1276964194633186,
          0.11520558375195548,
          0.1638747320508985,
          0.08752244444274651,
          0.09464045464156066,
          0.13257832994974772,
          0.12231243600497516,
          0.10542519109959911,
          0.11895366519657176,
          0.09490692168900237,
          0.09132983019833968,
          0.10882079387532125,
          0.09746108301475646,
          0.10010091183522268,
          0.10824696353020867,
          0.12727078270922515,
          0.11331412142503844,
          0.11740094193986558,
          0.11526529724620262,
          0.10243649930188899,
          0.1194850323891224,
          0.0886048085888269,
          0.08942008381101836,
          0.09673165547160767,
          0.10307571075743732,
          0.09918474541960491,
          0.0901299577688586,
          0.13408263944060958,
          0.1090829512278818,
          0.10248913768036279,
          0.11642069500112662,
          0.11561134996762305,
          0.0970363438538606,
          0.10385441342145278,
          0.1071738819607237,
          0.12122038092793774,
          0.08545934963034717,
          0.10286313528372712,
          0.09263068454504991,
          0.10320535258145909,
          0.11145059701036493,
          0.12828851591333024,
          0.09719501741883003,
          0.09288480361689642,
          0.09810687931186764,
          0.12030570318976103,
          0.10229166972104428,
          0.12893972288145916,
          0.08735675972173178,
          0.08785902603418362,
          0.1113917545563574,
          0.1254931580714722,
          0.09416571280289884,
          0.1094002169240411,
          0.13459736473328696,
          0.09921608319987485,
          0.11680314026621415,
          0.09621425570240123,
          0.11319064153443781,
          0.10291177472233864,
          0.10605031651652373,
          0.10379085276857782,
          0.09603031972264908,
          0.10070685476995879,
          0.10913695215345127,
          0.09838513226859023,
          0.12000279601223134,
          0.1171364182049835,
          0.08782266432576592,
          0.12592902580605436,
          0.12255457135440784,
          0.09374616303433204,
          0.09611045652823567,
          0.1181370370385095,
          0.08780904156661083,
          0.12110222554503754,
          0.09325131748626266,
          0.10000826019842249,
          0.096787821639628,
          0.11000190878983024,
          0.10940452238602023,
          0.09348749638243684,
          0.09678712022875878,
          0.09720681074972574,
          0.10685759951845561,
          0.1069357323212653,
          0.12265382506436623,
          0.127257842631771,
          0.09951618365966768,
          0.09645431155344178,
          0.10422564075359632,
          0.12223598620251777,
          0.10382392123985773,
          0.09461237574933816,
          0.10480424348848608,
          0.09851946516719659,
          0.1403631473478322,
          0.10451750584308814,
          0.10740362202709898,
          0.09939239175821812,
          0.1166224424231865,
          0.0955543833058472,
          0.11200944794231547,
          0.1114738584470116,
          0.10519591065009286,
          0.12448241023057385,
          0.11708795699534963,
          0.11007590861672129,
          0.11425091714664481,
          0.10037899078421922,
          0.12475726776541296,
          0.12070996210909123,
          0.1226017341355419,
          0.10995862706129458,
          0.08715590378514267,
          0.08181239892457268,
          0.08689444413679427,
          0.1330721100251309,
          0.10903574014906794,
          0.10684780959089119,
          0.08553767255579864,
          0.10013922652287587,
          0.10428737524186736,
          0.08519820639129927,
          0.10810912599371929,
          0.12457226380359053,
          0.10001845179767006,
          0.11269011486239686,
          0.09072515352899829,
          0.0974746611286911,
          0.111641307707567,
          0.0966706232047721,
          0.10438029049843572,
          0.11132796856607846,
          0.09968825921724654,
          0.10313436249516277,
          0.11054526384753553,
          0.09670072520256608,
          0.11254491801178296,
          0.1105538289332784,
          0.08810102318919748,
          0.11301540296698899,
          0.12921132414505623,
          0.12081212098893328,
          0.08395882092104513,
          0.09313612989920951,
          0.09805599331069041,
          0.13129348126603052,
          0.10632819072568264,
          0.10369248130645431,
          0.11882450486400285,
          0.07751344552433143,
          0.0964541454438231,
          0.10179529877745604,
          0.12371198282380955,
          0.13164388658924614,
          0.0902352323613564,
          0.13300972486320176,
          0.09897399958429624,
          0.09357428661978215,
          0.12933443917321516,
          0.11552098121336105,
          0.10317102617388518,
          0.10279437297956266,
          0.13626356944444626,
          0.11059854558332627,
          0.11580729624624556,
          0.12563368089262775,
          0.12638205282180626,
          0.12796366402493176,
          0.11086876438834428,
          0.11350891157988456,
          0.14765879361043466,
          0.14281185932715854,
          0.12687421275059163,
          0.12749819333646734,
          0.12293930404916338,
          0.12579951231051142,
          0.09210392454955615,
          0.10179011672521807,
          0.11446299703772858,
          0.08708923530260985,
          0.0904417546871128,
          0.1338318664655841,
          0.09515937414894168,
          0.08777112484284888,
          0.11659240381193073,
          0.11749535653889055,
          0.09824059213649884,
          0.10676932349619844,
          0.11128921371480058,
          0.11560572350246726,
          0.14489793120972294,
          0.09360327839704576,
          0.08904971232984646,
          0.103030923615891,
          0.10067662952435018,
          0.10713877563383546,
          0.11692501706500828,
          0.1025840734399252,
          0.1081828236299588,
          0.09718055847694464,
          0.10582074861353598,
          0.10619497362369722,
          0.11295392186974705,
          0.10375294216199304,
          0.11273280754198907,
          0.1172920173978717,
          0.11020652821002794,
          0.11855448410003336,
          0.13334910362765648,
          0.09642418420241006,
          0.10535083360197633,
          0.14255734275308662,
          0.09014358943565264,
          0.09103177500726843,
          0.10491792337480002,
          0.08339898396161868,
          0.12010025256927162,
          0.12159521981158046,
          0.08469566025367507,
          0.12651266692194157,
          0.11968407726336097,
          0.0879661286240792,
          0.11614032533350288,
          0.08308018444711435,
          0.0985980079493341,
          0.10347395952701498,
          0.12345709833430392,
          0.10398729729321336,
          0.10533907617685312,
          0.09975392746865946,
          0.13608732406938934,
          0.12467217429938675,
          0.09388263710143128,
          0.11646625114780493,
          0.10869669893369538,
          0.09236317131010544,
          0.08733916427227893,
          0.11356087497752111,
          0.10548479609521366,
          0.09350535053393477,
          0.09465625350055022,
          0.13111338919979343,
          0.1262704323490327,
          0.08835897161351977,
          0.14342854170947922,
          0.10879968347063293,
          0.09827656056841562,
          0.12124962069332511,
          0.1121599561848724,
          0.09222694483667497,
          0.08825913873555963,
          0.09937079129925594,
          0.1101102593039161,
          0.10164382849916984,
          0.08552771258662684,
          0.10339068454164044,
          0.0908886418064387,
          0.11970899627516375,
          0.104367746755253,
          0.1280081430562838,
          0.09179741558020475,
          0.12059484883970312,
          0.13616714110772313,
          0.09787843945578005,
          0.10891425662721138,
          0.14167594317664745,
          0.09414933534280566,
          0.12627225188918284,
          0.11692463902193696,
          0.10591190459906075,
          0.10056094602824184,
          0.07707574937577116,
          0.11936162671771378,
          0.09577694635640584,
          0.11497807931430148,
          0.12061310537520985,
          0.1305632806439341,
          0.1011416829100575,
          0.11933028060417124,
          0.10861563866200279,
          0.12568061597071242,
          0.10032784886371839,
          0.11011795394130908,
          0.13627970211168536,
          0.10325960802920979,
          0.08605110530039531,
          0.10222822190334298,
          0.09924048648121354,
          0.10112965797785825,
          0.10996547352133854,
          0.11679567150426003,
          0.09881897466307778,
          0.09524967815306104,
          0.08529444011080534,
          0.09767504044500522,
          0.10056201054534818,
          0.11655556479028865,
          0.10557938024099998,
          0.11962993049496867,
          0.1083093499735352,
          0.11657201470864657,
          0.11184278794335295,
          0.11119080444881604,
          0.11502238347259129,
          0.09632208477131349,
          0.11519414077235894,
          0.12132982353290273,
          0.12835495019357362,
          0.12150185027746312,
          0.1108651020175985,
          0.11929124863172329,
          0.11901737127171377,
          0.09972633720282516,
          0.10792733255004303,
          0.12126167864848596,
          0.10575580314553311,
          0.09816328122899769,
          0.1164435385541235,
          0.11725587175415556,
          0.09327177772394403,
          0.1137539291688418,
          0.10010237102208952,
          0.11544466193036859,
          0.113754107422917,
          0.09324543062502176,
          0.08808898335265662,
          0.09634441305889954,
          0.08993471725595505,
          0.09824901074255483,
          0.09546192751115487,
          0.10592970118929927,
          0.10770309097907242,
          0.11247738793215424,
          0.10180383358637592,
          0.11398442161616339,
          0.10913248645369023,
          0.10212321790292864,
          0.13377884147564723,
          0.12188370767889964,
          0.10439009673612645,
          0.08380181874295915,
          0.09133149210920398,
          0.0916544774208187,
          0.09363687541715006,
          0.10599192271849664,
          0.10009844816601111,
          0.09492948100187981,
          0.10634078544915247,
          0.088278063416064,
          0.09512740131026072,
          0.10723539052184974,
          0.09434196544171944,
          0.12381901318375108,
          0.09203608166537014,
          0.11443347870787998,
          0.13679365962334425,
          0.1210747895740285,
          0.08928048708267322,
          0.10420021074774422,
          0.1153384792609991,
          0.11338806510848728,
          0.1184631663861558,
          0.09589605304781296,
          0.09915268970416036,
          0.08724302624986988,
          0.12021506957044822,
          0.1196342615602218,
          0.13207156823944113,
          0.10917266311765032,
          0.08876661735903067,
          0.1191213303023274,
          0.10177148370668279,
          0.10068770679349293,
          0.09974628091690867,
          0.11672648425979927,
          0.11048652157104707,
          0.1025475775013509,
          0.10135266506898313,
          0.10394822161399087,
          0.08974857147504255,
          0.11982495008641547,
          0.10586513468273126,
          0.11314503917546988,
          0.10445125985013708,
          0.08515433521453623,
          0.10677025548733314,
          0.11410345401221049,
          0.10832580278551215,
          0.11109361638866544,
          0.10907633766457228,
          0.09344343173539665,
          0.10178051087525201,
          0.14319714251907917,
          0.13413340443750066,
          0.09110185490123689,
          0.12670555993794413,
          0.1048064629887492,
          0.11947747541397884,
          0.10004413307577516,
          0.10240392477799429,
          0.12948141840452124,
          0.1021100972245329,
          0.13369890859027284,
          0.11893972053269782,
          0.11350594549790229,
          0.0877624608497627,
          0.09126851435223796,
          0.10385687286008963,
          0.10514287430254655,
          0.11611654771384149,
          0.11091341569474993,
          0.09012103423073248,
          0.10017242729116364,
          0.09542782275580343,
          0.09633194210991783,
          0.10895093059899383,
          0.11008017063308398,
          0.12541875319948032,
          0.08728946510261563,
          0.09505231835584603,
          0.11753861025892412,
          0.09308916795547606,
          0.11901007069468024,
          0.10875090836641207,
          0.1347298596285567,
          0.08654233038867269,
          0.11811460233383832,
          0.0954043833217365,
          0.0984228274513373,
          0.11475585592231355,
          0.121628401208007,
          0.07898561804238886,
          0.11916534903047582,
          0.09851950678323887,
          0.10219459783745342,
          0.1185593365427683,
          0.09816766664741122,
          0.10698496903570268,
          0.08711238135014433,
          0.14323200753645063,
          0.08933349680246983,
          0.12056543523068462,
          0.1152708104706551,
          0.09520261419682237,
          0.0878268929126601,
          0.08740002080728562,
          0.10590338959071742,
          0.08897721456888333,
          0.10586898682359581,
          0.10573692416186642,
          0.09297053424863594,
          0.09401235061405332,
          0.09820120800526566,
          0.09659184101694822,
          0.11016823366007784,
          0.1192223282920272,
          0.11023410984093227,
          0.12020424705742834,
          0.10845571543071116,
          0.10372367783309495,
          0.08079117616489585,
          0.11329011202304631,
          0.10792946890156396,
          0.1391435556905555,
          0.09952465162383309,
          0.08577781855425222,
          0.09478630170186056,
          0.11097204559096126,
          0.11583717535197911,
          0.10474487661286282,
          0.0854654480647361,
          0.1064546385792759,
          0.09510778925051057,
          0.10614626737158764,
          0.09477601537247175,
          0.12473261782231505,
          0.10683237923500875,
          0.10786831720431116,
          0.10581028215805914,
          0.08758950930900905,
          0.08835370634489816,
          0.09426328386346827,
          0.11256496583094447,
          0.09727688828952245,
          0.1011929194903347,
          0.10482420364827855,
          0.11894908329938111,
          0.10665932012742602,
          0.08169259898143436,
          0.08556984977156752,
          0.13869709504059893,
          0.11063465596937248,
          0.10040075057962668,
          0.1091075686339418,
          0.10741501041734221,
          0.11860906555391902,
          0.10687352351309615,
          0.0998557485650854,
          0.08849240567664202,
          0.10223645738739988,
          0.08770452256193359,
          0.09454540442403585,
          0.11116165824798843,
          0.10090684448776965,
          0.09143150983145516,
          0.11274317326270852,
          0.12501895116438552,
          0.10275998188781596,
          0.13900548204381147,
          0.11209356839842775,
          0.1312696026342848,
          0.14313420307701596,
          0.10890571739043987,
          0.12228599211669762,
          0.10221003701475366,
          0.09199219159651811,
          0.11791341152795554,
          0.12378651569920646,
          0.0958272848337927,
          0.12155078792659775,
          0.0965264207465383,
          0.12630006892840204,
          0.09761166345145567,
          0.13150597986489476,
          0.11007583230981786,
          0.1180384074629341,
          0.10079358963885428,
          0.08987034077355066,
          0.09601542591412104,
          0.11328781699736361,
          0.09738378367490064,
          0.08544306398371432,
          0.1268919822844725,
          0.09361558219867398,
          0.10500613588448354,
          0.09379486784582222,
          0.10146714302023915,
          0.09052657345175041,
          0.10678497110263062,
          0.08263543816644117,
          0.10558759886269689,
          0.12450933574702065,
          0.09371201982794566,
          0.0991852889066467,
          0.11528439024732795,
          0.11112804143702189,
          0.09219510774587802,
          0.1156964642026966,
          0.10293549655016032,
          0.10338753227169144,
          0.10391693176457,
          0.12164049786251036,
          0.09659853564221886,
          0.1453739360441808,
          0.1199910237782416,
          0.09289139250774177,
          0.09400418685591838,
          0.10293534561652205,
          0.10646580820830415,
          0.10477943891179001,
          0.08521545753437795,
          0.11202461771167524,
          0.09459720048930048,
          0.13203973841060954,
          0.10580339157282778,
          0.08561700094901464,
          0.08786185937611811,
          0.0947720978511982,
          0.09483755341860702,
          0.09813327856274283,
          0.11126543518902376,
          0.12727612206943803,
          0.13068171600724143,
          0.09821889071391968,
          0.11014759649795622,
          0.09936335173856478,
          0.11575554884615313,
          0.09512402199085122,
          0.1259501001125982,
          0.10207790288661284,
          0.0947474307995969,
          0.10397006305971833,
          0.11356172127271351,
          0.09698594748383599,
          0.1198576873918846,
          0.09522417999356189,
          0.09095288515321825,
          0.0891724182905892,
          0.09917034487940576,
          0.10879668677381185,
          0.08700498015954868,
          0.1316304934811934,
          0.12591324116545077,
          0.09914244768088303,
          0.12397519210557334,
          0.09756240341069479,
          0.10892928480752125,
          0.11862788838864707,
          0.12004697404356825,
          0.09885287554293022,
          0.10879797071613821,
          0.11974913547457357,
          0.10908761138000649,
          0.11195720134402877,
          0.12335116933417722,
          0.11802145574319958,
          0.11629654987113783,
          0.11054292065458175,
          0.12107882018253079,
          0.08354534550663129,
          0.11991241628812936,
          0.09920140992364031,
          0.12055362687661737,
          0.10889936645797234,
          0.10088554817207956,
          0.11489710925713607,
          0.11116564173345352,
          0.09647157298618884,
          0.10180798737729675,
          0.10773208866455694,
          0.11629619264158558,
          0.13660071115115566,
          0.10874557725432288,
          0.09830365882053504,
          0.0965511024857767,
          0.12009978608061402,
          0.1350486988985662,
          0.11980548001875937,
          0.11014782380862481,
          0.11587324971407431,
          0.10153423091055522,
          0.09839631083780538,
          0.11578128807877468,
          0.10765195513318555,
          0.12960460973945448,
          0.11584813739785485,
          0.09331919218628783,
          0.10341702976368136,
          0.10573231673313072,
          0.10905525095915534,
          0.11474417448539417,
          0.09428059289392163,
          0.08773365328360593,
          0.10240191575374345,
          0.1219162934238116,
          0.10460521344625671,
          0.11659029205284875,
          0.10030132629965094,
          0.09361499718655442,
          0.08955405333398156,
          0.09531140508070524,
          0.13361767998692134,
          0.09034140796057251,
          0.09197815901226056,
          0.11274890490955883,
          0.08371410841173492,
          0.10535175042513442,
          0.08536064490652955,
          0.11130309820828085,
          0.1092040476251354,
          0.09101932094590984,
          0.1267620831938937,
          0.11267617714378633,
          0.09950263492873763,
          0.09929875929091624,
          0.10197894572090802,
          0.11851078281199066,
          0.08946464811546789,
          0.10663775341620471,
          0.09970410237387668,
          0.09309108746785438,
          0.09741341140376815,
          0.13483060597320554,
          0.12298447393379917,
          0.12406550377029821,
          0.10353027497100692,
          0.11012882866250746,
          0.10400246524504729,
          0.10117408014523141,
          0.09155468223723046,
          0.11094407331932052,
          0.09211683092970985,
          0.10057079244643162,
          0.10512503504624701,
          0.10442932597444314,
          0.09620716937216521,
          0.09563787851204644,
          0.10303113863361456,
          0.10561580497627694,
          0.08819399878765448,
          0.10271094575646868,
          0.11060459659150651,
          0.09592193746526577,
          0.09358266360558123,
          0.1040201400179981,
          0.11004833672382681,
          0.10443157820073178,
          0.10326035101144532,
          0.10924414581551034,
          0.1086836861276449,
          0.0912482341804876,
          0.09718119083001829,
          0.11083188009603509,
          0.09190338955860226,
          0.10668901727739907,
          0.11071637832373123,
          0.10075532448800278,
          0.10020669918588314,
          0.0955156626512831,
          0.10305348679382922,
          0.07949381695746234,
          0.11551646280857089,
          0.10274805891448754,
          0.10514453526105547,
          0.12417249117545301,
          0.10801823098418585,
          0.10579895790448951,
          0.1423531292935974,
          0.09475813381833216,
          0.0892522398650872,
          0.08623782767114008,
          0.12171734211551344,
          0.09794330786505052,
          0.09543252884276206,
          0.10874397001516563,
          0.11019771963142577,
          0.11175829916664413,
          0.10718707161871402,
          0.11014971433489161,
          0.1218119948777482,
          0.10514378284411646,
          0.12216584512298698,
          0.1062477796618126,
          0.1060864750274172,
          0.10305870951550165,
          0.09459811404269522,
          0.10063104530798743,
          0.11033780463783019,
          0.11088772645961832,
          0.10373465125959166,
          0.10366660803283935,
          0.10548895177339017,
          0.12157988652696422,
          0.10358165646173723,
          0.13833214754866002,
          0.09593311933760164,
          0.11183771268455919,
          0.09484445138555257,
          0.08468545981680638,
          0.08766741555476969,
          0.12527413730058448,
          0.14621857173376057,
          0.09521842389624514,
          0.10783488268792125,
          0.1065362161052463,
          0.09800746111681603,
          0.1373310451588751,
          0.10470069452187696,
          0.11073827293586566,
          0.09657591104377704,
          0.11450250549934356,
          0.10028883258457069,
          0.10352493533958963,
          0.1196126640443856,
          0.10861145198866518,
          0.10962084713830704,
          0.12684136289786727,
          0.0845385291047967,
          0.09012215169011645,
          0.08382807624504317,
          0.09213150464939907,
          0.09191064942364069,
          0.11365702332493141,
          0.1201855388263807,
          0.09510865074255521,
          0.11564686795440489,
          0.11469492550482935,
          0.09087632705740928,
          0.09583362345710982,
          0.10153952544286327,
          0.13677676818360004,
          0.09159955065936692,
          0.1464928120572092,
          0.10896522617759442,
          0.0951554184861463,
          0.09660198301991843,
          0.12511253560818503,
          0.10687966246176377,
          0.09526589467688529,
          0.08482965107419285,
          0.09383132067398131,
          0.09883191975847107,
          0.10903314144953491,
          0.1384390601459187,
          0.1439215302183942,
          0.10440334515252603,
          0.12742441642992125,
          0.10671430613960299,
          0.08644672735585476,
          0.10252425622677958,
          0.15757528810422974,
          0.09622588707704076,
          0.09017881012948724,
          0.11856231620710354,
          0.14530603316205115,
          0.10432578195938717,
          0.087561563325656,
          0.09595601672243823,
          0.10898174155802007,
          0.09111487104333672,
          0.11772495494916235,
          0.095665788611223,
          0.08692017430504129,
          0.10421876363877643,
          0.11446765292167285,
          0.1407474216578918,
          0.10211261173891627,
          0.11799325557758103,
          0.09619628153398872,
          0.12194519642068721,
          0.11151788918974556,
          0.1137363013754659,
          0.11343217444323479,
          0.122781320489124,
          0.1018990856244975,
          0.1265687832906725,
          0.08416046099490489,
          0.10158949944799792,
          0.08905860818962129,
          0.0955714984417641,
          0.11115788499798357,
          0.10178026070062969,
          0.09912719068040723,
          0.11691097564972125,
          0.12940473226452348,
          0.12410725100420995,
          0.097208598186144,
          0.10994166701008865,
          0.10999153399287064,
          0.09867997161315668,
          0.1152525782621884,
          0.0920627237604904,
          0.097564983127876,
          0.09602636567375755,
          0.12624580265881255,
          0.08901559055331672,
          0.09083283898578964,
          0.09870392906888727,
          0.12084819731831077,
          0.09020294345444343,
          0.12063253758722291,
          0.12553765653206217,
          0.13614866185476618,
          0.11624577701880891,
          0.1155279446777511,
          0.10392847720948768,
          0.12017294952136728,
          0.1044436039007674,
          0.10044387990738791,
          0.12227270841200258,
          0.0909853873872567,
          0.09585416246787307,
          0.11695272972503505,
          0.10809771690340596,
          0.10321740087115361,
          0.12696513926468525,
          0.10768887343503047,
          0.1554100975974834,
          0.10135608637206871,
          0.1317210985148115,
          0.10308520851633096,
          0.09863625076439038,
          0.11083708333043896,
          0.12446419363697195,
          0.1124286397095742,
          0.10532591934003765,
          0.09090745043079057,
          0.10099578896947009,
          0.0932418368602385,
          0.12939888994700385,
          0.09433389074273774,
          0.09982421796438787,
          0.10504221592455319,
          0.10612779810360516,
          0.12906886133045506,
          0.11456182648289467,
          0.10934443999559758,
          0.09407733844228186,
          0.08295202749268596,
          0.11396891958761575,
          0.0891694874512799,
          0.12951097086022564,
          0.12200924725693332,
          0.11250060795554077,
          0.09157974600819824,
          0.10852263140156722,
          0.12034288816956006,
          0.09763254272145297,
          0.11355412755813225,
          0.08873892944749838,
          0.11543140455683994,
          0.09393435223095296,
          0.09384204958736535,
          0.10372362519988775,
          0.1059596402437168,
          0.11177210163357593,
          0.099984677549002,
          0.11719906190168138,
          0.10783995603776142
         ],
         "y": [
          0.17244052065063797,
          0.02002076646770542,
          0.14946153968872108,
          0.2363271358349922,
          0.25371632380316417,
          0.2602395455405754,
          0.20144605538184593,
          0.23214701960717457,
          0.2174351805321095,
          0.2014728855256339,
          0.1633977494265443,
          0.2016732262480208,
          0.1718657208818653,
          0.2562554571002911,
          0.11761280713991011,
          0.23987057095901715,
          0.20205891734643652,
          0.19587912464546547,
          0.201175722899112,
          0.20594287047069887,
          0.19273458247837508,
          0.07680581669046964,
          0.1944156648442384,
          0.24495881620477084,
          0.23142678057634197,
          0.17986088536156708,
          0.17134208847775925,
          0.18691863610216047,
          0.18937806054922332,
          0.2218812276252258,
          0.213832445452941,
          0.11795610120068338,
          0.21259612602338335,
          0.21406891834036335,
          0.23617815550570018,
          0.08941768688842229,
          0.13430591681871384,
          0.20647039193790678,
          0.19205272432944137,
          0.2246114299344099,
          0.38666758724566336,
          0.19399013944847318,
          0.22761006396244746,
          0.24508112375841956,
          0.16775285101915785,
          0.17502161599970625,
          0.21427740656012267,
          0.20256740889189445,
          0.20490219440139223,
          0.2790743723320806,
          0.2009310774119307,
          0.044612607137431426,
          0.272750105337834,
          0.06815404194567666,
          0.22975944032256346,
          0.2151429328551695,
          0.16674441621875796,
          0.20307171006493133,
          0.3263569755097493,
          0.082857547577291,
          0.12866274065580166,
          0.21730656890824457,
          0.18180297529520068,
          0.25021042028058577,
          0.2551259546219877,
          0.2869348831389246,
          0.24301433405776734,
          0.2544010948550328,
          0.17735965321295633,
          0.1920803220092428,
          0.1553845169547508,
          0.16476363045024933,
          0.16005863052097025,
          0.15038084849228164,
          0.16112935890132288,
          0.14431521962720875,
          0.23278305503479788,
          0.16636647651078434,
          0.2121515434435869,
          0.1180837735601399,
          0.3033828199857148,
          0.15405822272750122,
          0.14040324322451644,
          0.3960693932310279,
          0.35009711568943164,
          0.19452009202720255,
          0.18155660593366132,
          0.1969060095541781,
          0.22750835415477225,
          0.31013320402936295,
          0.2848266351174005,
          0.20247397176809437,
          0.18313766108445412,
          0.138956325338846,
          0.40196951176652,
          0.3261819331127709,
          0.22189380460163527,
          0.09117982727131481,
          0.17943820884172718,
          0.19565441525148936,
          0.1891623500539707,
          0.20948631254067343,
          0.2539961066141644,
          0.06180426319218665,
          0.25891999387277975,
          0.0985281779786359,
          0.2198304067323567,
          0.2940949336718376,
          0.20121137489192478,
          0.3292641148277201,
          0.12888258417512874,
          0.17500041479872924,
          0.23849758763870357,
          0.2632168029839529,
          0.19580805558348752,
          0.21755939111621342,
          0.07248707159695467,
          0.2588160796877362,
          0.17989289718885731,
          0.25361931521008424,
          0.2988892436733828,
          0.1823090428860205,
          0.15110732745601527,
          0.15859880126202608,
          0.23112907032257227,
          0.14868108458382243,
          0.24043786908316253,
          0.19210183946854864,
          0.2455950393672697,
          0.28207664531060894,
          0.043406855239595435,
          0.19702455286895462,
          0.1490873845623598,
          0.16443904088062347,
          0.33081500784723267,
          0.21859681735856396,
          0.21791683500785214,
          0.1691518665274973,
          0.18303786394758892,
          0.20884094381246465,
          0.22418738320794207,
          0.17986648088584645,
          0.17501677926135784,
          -0.017857199343775866,
          0.22921253247988155,
          0.2913870694891747,
          0.16897632266480975,
          0.19165999564452144,
          0.24614214651933575,
          0.2193740089349345,
          0.12485733583657739,
          0.11804066423159067,
          0.12128233272661663,
          0.25833222430876485,
          0.1805124283149248,
          0.27962333626785824,
          0.09294859509202964,
          0.15059183945976773,
          0.056430980018337004,
          0.2041294778160025,
          0.18149438248474403,
          0.17502545105909895,
          0.24885851342510767,
          0.1619623754424322,
          0.010457475244689776,
          0.1545897957434602,
          0.23105295302183954,
          0.17298383983278276,
          0.23231166869931205,
          0.15655882049325254,
          0.2737431558555914,
          0.15742667809128125,
          0.24937162397158721,
          0.29001725926115485,
          0.20692574735065297,
          0.314192344222224,
          0.1403240399811738,
          0.21491810225055222,
          0.26266307616956147,
          0.19905005561810338,
          0.18790482930671543,
          0.24351982408217993,
          0.20522456896023733,
          0.1977692935026734,
          0.2234219848489657,
          0.3209138337437071,
          0.19206990872382945,
          0.21434864050564917,
          0.25907032592665774,
          0.10801474754962995,
          0.22319200130780853,
          0.24457337754350666,
          0.2713110844875579,
          0.20643819671263278,
          0.0004289256514145145,
          0.2517252366804773,
          0.2528768497157693,
          0.26892657844500106,
          0.19621893587543918,
          0.16581154059038836,
          0.06648135198033536,
          0.11664537337413566,
          0.20756134128172427,
          0.16556784078554937,
          0.13255568040587734,
          0.20513803519002033,
          0.30848686429822153,
          0.22786057893196052,
          0.2096834496525936,
          0.1519950541142556,
          0.1530933241525211,
          0.19580014666589368,
          0.22898133082820676,
          0.23182348735226999,
          0.2275176814448102,
          0.19807156931830355,
          0.25791473688732564,
          0.15118743200129645,
          0.18680680547030037,
          0.07819367639986487,
          0.1588113232879403,
          0.22251391979386048,
          0.1678926023060887,
          0.2182606184856135,
          0.19409907452155617,
          0.3154458851351275,
          0.10587120223636237,
          0.22534748759872733,
          0.21381730628762036,
          0.1836314166208463,
          0.24725290812389844,
          0.28838865408070696,
          0.25129819527509467,
          0.17074978470878197,
          0.20471343101024322,
          0.23088111656746604,
          0.2495748165742408,
          0.18347181394934667,
          0.24989242096333217,
          0.09381155924330863,
          0.1781574450715701,
          0.18030736744084236,
          0.16591039213726252,
          0.09003666102248671,
          0.20544846477631792,
          0.17795161790129488,
          0.022770935584829562,
          0.18832880159475643,
          0.12156171404532277,
          0.28423810647570186,
          0.2830778135456887,
          0.25038239403866047,
          0.19428628458089794,
          0.37211595423635363,
          0.19650412009872165,
          0.2500606616643047,
          -0.006170795700020868,
          0.11982270466211949,
          0.3367416286890923,
          0.10893345228463959,
          0.2407303030824296,
          0.16953745223914948,
          0.205277330849392,
          0.30805371287122435,
          0.2089654051643061,
          0.2396748779978384,
          0.09481844440205477,
          0.21280722074438999,
          0.18135295446588612,
          0.20565514842680319,
          0.16132364325650547,
          0.19585695515361415,
          0.30953357005045096,
          0.21304880485009942,
          0.2003343130360466,
          0.23826218219180278,
          0.2603918322753581,
          0.182879553939905,
          0.03859596913830381,
          0.151430306101338,
          0.31328519470315336,
          0.19436071029229007,
          0.1889580539580096,
          0.16231274232588233,
          0.17400876216713865,
          0.18578162737115747,
          0.11344149338350462,
          0.15473816490871023,
          0.1918311663804862,
          0.24889286012393222,
          0.18185209278137565,
          0.15553164040488113,
          0.13018864083357834,
          0.24916492210172897,
          0.10433108650565466,
          0.2662022014066923,
          0.21564161454164082,
          0.26836851108173804,
          0.26948396367144045,
          0.11259682698399702,
          0.17938015728580503,
          0.31598391048537244,
          0.023352285186358516,
          0.15322565157695417,
          0.2445770219423497,
          0.17302491670601453,
          0.1834414798416211,
          0.1753858390946871,
          0.16910969708512924,
          0.2301664749568476,
          0.34894724858832626,
          0.24347452869534214,
          0.15004992261572903,
          0.2650350375394986,
          0.10081369196063522,
          0.24480071914476567,
          0.1884964092090431,
          0.3222297014437479,
          0.22594306492633587,
          0.2320780073980738,
          0.18344383354356752,
          0.1958234427261136,
          0.05030357723798022,
          0.2165991203345169,
          0.22956187251266794,
          0.18985231870780844,
          0.20766777004335954,
          0.1904456472705089,
          0.20498825662424677,
          0.15691504197282424,
          0.21692052271222667,
          0.17577689460208087,
          0.29038083946911675,
          0.09154321238278572,
          0.13508975680240104,
          0.006601951103418852,
          0.201073969464083,
          0.23316094778821708,
          0.21252030285962265,
          0.2589973378770554,
          0.1061355590326078,
          0.21973301598566597,
          0.187111656523561,
          0.22937831167293252,
          0.16461255014676363,
          0.16508471086590681,
          0.26640065880609276,
          0.15854109383200377,
          0.05680008499742162,
          0.14116203576558914,
          0.3028031826662822,
          0.15627838702720806,
          0.17831970300669317,
          0.09326805181137046,
          0.1569319532278723,
          0.20126615734649922,
          0.17000453545232272,
          0.20108998313201365,
          0.1982929999852357,
          0.35994894732129507,
          0.23956958042045962,
          0.22455107702766264,
          0.16709235201129327,
          0.22112892752375063,
          0.20569345646154735,
          0.23673641860336814,
          0.2684543969884221,
          0.06367300211372769,
          0.19645334975313047,
          0.2506248842329585,
          0.23237656360652403,
          0.31150804126314874,
          0.18827628439743752,
          0.20851488588098316,
          -0.006873947792296871,
          0.24044049958243424,
          0.17759820073556945,
          0.17653728938815397,
          0.21386406471773806,
          0.20925737779623765,
          0.20741788486191642,
          0.19894496744889956,
          0.21825142279506787,
          0.15019191738757712,
          0.19920428544716026,
          0.22316620931416128,
          0.20138798699921268,
          0.3386338590784995,
          0.2421082716160042,
          0.2786634263014257,
          0.19696888518047398,
          0.23714740684706606,
          0.21324755681968768,
          0.04608974162604257,
          0.20769015992214426,
          0.21258816304686787,
          0.2709570666110711,
          0.086964461311128,
          0.2520708693667887,
          0.04864274760497938,
          0.2873601630609262,
          0.23033778516888287,
          0.09442024539227492,
          0.21621143284277564,
          0.17038505312636457,
          0.15024493609170378,
          0.2077092927144808,
          0.20337374006101147,
          0.2554086774087979,
          0.28853027047574353,
          0.23444265052148153,
          0.26540296228658933,
          0.21679689123518622,
          0.31151094419651537,
          0.15287875188327332,
          0.1908065674713601,
          0.16805153087701794,
          0.22971081950632458,
          0.21582842371382288,
          0.17849295695321138,
          0.13502638225410435,
          0.2069579964868273,
          0.26721486525037635,
          0.26614184896731585,
          0.1339889454101038,
          0.10527313506380788,
          0.22031377280695388,
          0.1951188809478011,
          0.1988007151470565,
          0.28283472847890534,
          0.20950543874002248,
          0.20737678381318808,
          0.16241307651593573,
          0.17605913533505876,
          0.19845535649612303,
          0.24134802431338442,
          0.24464417168820102,
          0.226496781680887,
          0.26485801928595676,
          0.24459444380960343,
          0.10855716292497139,
          0.20011050538752756,
          0.24680443453698347,
          0.08376487030293883,
          0.17907435361906252,
          0.19460197927766984,
          0.39278147633100846,
          0.01925659975856809,
          0.19947079282800104,
          0.14954625430291782,
          0.049351902580851294,
          0.26833642522624895,
          0.023153516671439636,
          0.17516561361803623,
          0.21128911237506207,
          0.12502078793910829,
          0.2480893550816423,
          0.35800141271203595,
          0.3746576713886509,
          0.18768235201774483,
          0.20751387824436945,
          0.24770598435090815,
          0.24232074207118406,
          0.14028634033322332,
          0.20871197457341115,
          0.17024657059903014,
          0.22151947320449733,
          0.17763620105028236,
          0.27418772022580384,
          0.19170179174385166,
          0.2070691397707364,
          0.0477632155659535,
          0.2517271386690549,
          0.1440381315567799,
          0.025138290234075204,
          0.17776901037173218,
          0.045778408179545906,
          0.09297546655560811,
          0.18453917597398406,
          0.3164695560184202,
          0.22266173588223617,
          0.1816744236137025,
          0.20926939211188506,
          0.06931841614018083,
          0.337399672326546,
          0.18505143891016096,
          0.3544402437134375,
          0.2084312400570641,
          0.18904912901429596,
          0.20343374794424043,
          0.16080161578811342,
          0.23586746439911266,
          0.2320842136393641,
          0.15994810844137652,
          0.2739563494752908,
          0.24365169448274646,
          0.1638113159622001,
          0.15587773843082378,
          0.20001872483269098,
          0.2276794039605852,
          0.30436368810803394,
          0.2756956237744827,
          0.11053129923102174,
          0.19669778949883543,
          0.1936391893467429,
          0.2169683936064623,
          0.06060867132933337,
          0.22268474197666005,
          0.12610108826451627,
          0.16760882404285862,
          0.21323316499269016,
          0.11544204778141987,
          0.13873889779902335,
          0.29453456081030294,
          0.16812146359518432,
          0.19822742301636553,
          0.2100577033592116,
          0.2768622192781418,
          0.19534151798690533,
          0.22993315238593862,
          0.29444127792054064,
          0.2621807076840712,
          0.1362056782115448,
          0.1629064491763252,
          0.15368871412938137,
          0.31160367592525406,
          0.09612994374719437,
          0.16151768337681485,
          0.25917386944706433,
          0.15775023417840559,
          0.11167346224364864,
          0.12372561507892832,
          0.2955805592537252,
          0.3155124329636114,
          0.20495293926805286,
          0.1853321799416862,
          0.16848648867804275,
          0.19431967479498286,
          0.19490068721157194,
          0.22882961682802544,
          0.1782002912020964,
          0.19403174473759022,
          0.13919457244701583,
          0.17130369891465955,
          0.23692128238477997,
          0.0801087338642596,
          0.021826810457513904,
          0.18189896700483998,
          0.03269603409059537,
          0.2172224842025415,
          0.09761479894377534,
          0.15318725536393343,
          0.2625460797882015,
          0.1840152387165171,
          0.14890600400597617,
          0.21645943774537452,
          0.17207210250318514,
          0.1984024252746816,
          0.2613264015308979,
          0.04613058945911767,
          0.19710191118604486,
          0.19659841080119506,
          0.24057678603827817,
          0.1832538096410033,
          0.17043644775838881,
          0.20986646961834463,
          0.29853757382087737,
          0.26293728166330493,
          0.28906327550217126,
          0.21109036776026735,
          0.15813116065705843,
          0.13330023693031473,
          0.21226704089829615,
          0.2285443505920123,
          0.2338319850676371,
          0.25301798614996907,
          0.24244194527601975,
          0.3055451898227827,
          0.17684520060017628,
          0.11013212520573418,
          0.11246198335466592,
          0.2072629598109148,
          0.20288220270499424,
          0.21753016579686607,
          0.08778491540854867,
          0.17819232471295948,
          0.28242126231701425,
          0.14345896690823315,
          0.1934107333199292,
          0.1829781463442003,
          0.1686992187919459,
          0.18036748840461558,
          0.2058834438665597,
          0.19023131010241437,
          0.2066542222933443,
          0.18857858363789998,
          0.10584352150105293,
          0.2939284964297098,
          0.2840154870594927,
          0.30205773103975914,
          0.23412529812763558,
          0.10784357755391034,
          0.05009762075736967,
          0.18478631403726364,
          0.13438217970738103,
          0.17091096839945014,
          0.19766357830904985,
          0.22666315496455886,
          0.35082888079913893,
          0.1828299822399827,
          0.32600358464765317,
          0.2110827825475334,
          0.3369705373185196,
          0.1980103495894454,
          0.08932045430852296,
          0.2176405110484851,
          0.25503701356354996,
          0.21644520760897484,
          0.19137049509116122,
          0.20299610030927207,
          0.22737175585554797,
          0.13336417136735515,
          0.20748326500038522,
          0.07439797178059589,
          0.1381776827720019,
          0.2256469835763225,
          0.19292521420656492,
          0.21995646458187584,
          0.2062325940568629,
          0.2502475379137971,
          0.15867642704233417,
          0.23238275992720792,
          0.12244609149146159,
          0.16118189241300132,
          0.1968925703940717,
          0.2926901120744444,
          0.20629142498896877,
          0.17394816833992824,
          0.2872588127926092,
          0.20894543036897012,
          0.1692925777067919,
          0.26933632214660014,
          0.2646258876335816,
          0.16743717745876643,
          0.38757597405424027,
          0.2107170858118743,
          0.20195587935209808,
          0.20303447745177564,
          0.25134159884176005,
          0.1862427461582014,
          0.21002951443833015,
          0.13050865430489694,
          0.2137443461846136,
          0.21225260409392244,
          0.12419382872001285,
          0.17926841105009636,
          0.1781936150036262,
          0.19050103184141604,
          0.221217247997307,
          0.16167797639694875,
          0.23196527202287837,
          0.21931882966888155,
          0.3482627272813906,
          0.3151001537578761,
          0.12845748071568175,
          0.20216925254394016,
          0.2416266955994126,
          0.07930347899865127,
          0.1696563778116707,
          0.016231708078603187,
          0.21386516137152914,
          0.22053225809220722,
          0.16708547275510505,
          0.260870833940683,
          0.21872337708323816,
          0.2670823103195896,
          0.15680576458629095,
          0.15334709133896457,
          0.16615178279061443,
          0.16482090923430068,
          0.33173216267190503,
          0.14178212017587746,
          0.3629298975182674,
          0.1313487407318506,
          0.18285886640353613,
          0.07545739884260132,
          0.21139720823580155,
          0.1783971714493195,
          0.2290591230657458,
          0.20297343025266537,
          0.15784915664213253,
          0.21145115490839655,
          0.2169769430372077,
          0.15561240092564843,
          0.29487724409825417,
          0.23889358933553306,
          0.09089429392469428,
          0.18362125422342152,
          0.20536606750692168,
          0.22234221943416924,
          0.10456481654543873,
          0.035253793501000864,
          0.1962414200411276,
          0.02734119134129725,
          0.1157886650665381,
          0.09400071140573721,
          0.088115599087882,
          0.21315410421499195,
          0.17629228500810015,
          0.2584885804161121,
          0.19631814550198498,
          0.23520577392697534,
          0.3794887470489866,
          0.24949608965280656,
          0.139412586454915,
          0.21485950879558466,
          0.2555981299120614,
          0.13955513593256466,
          0.2783603300658066,
          0.13322684523388528,
          0.32252563282763236,
          0.17732574680952773,
          0.1912857724958657,
          0.23646716218214747,
          0.22574875017479437,
          0.30503467031331916,
          0.15031006996456048,
          0.19183365245332057,
          0.1801925491584378,
          0.15777690693347335,
          0.2260391850106788,
          0.21097706517213077,
          0.10730511571371057,
          0.2121126558687598,
          0.23784587313302777,
          0.0490222427271573,
          0.30457610685867265,
          0.2586530935246134,
          0.15072661129428527,
          0.21703008405780114,
          0.18835318237575502,
          0.16131665197221715,
          0.22244317064957517,
          0.17819671445888102,
          0.12987084098563617,
          0.10491029143949722,
          0.17490873003903887,
          0.17383897512011892,
          0.222957880117422,
          0.23117142831327844,
          0.20406041873541841,
          0.14775064320141207,
          0.1870729081105501,
          0.26002045078525515,
          0.1694895946893365,
          0.20205923050001987,
          0.18876935462809724,
          0.10478395412470085,
          0.15268282984995288,
          0.23064666155284974,
          0.23654943222307168,
          0.21031110658121546,
          0.24316018531534214,
          0.2516175800232785,
          0.1379434904253222,
          0.27931820799669904,
          0.16543775038080288,
          0.25965527895537593,
          0.04430997125684506,
          0.16279838904751445,
          0.20979691211868481,
          0.24404001504448827,
          0.20321273649498373,
          0.22174361347435598,
          0.1618979239156989,
          0.17824785405656376,
          0.20859499175743831,
          0.17507626706134974,
          0.20113208799343754,
          0.16621909643408006,
          0.23443420731949333,
          0.214651542916882,
          0.22360583454288363,
          0.16412061855789806,
          0.17865524874643937,
          0.18114236598886851,
          0.3399517186079884,
          0.22764504149126963,
          0.1488148763146208,
          0.2490793502720221,
          0.24232682679037565,
          0.15711402400669994,
          0.16442743406777846,
          0.20476779793325134,
          0.20465504564751108,
          0.20766433846949248,
          0.11248041219060287,
          0.24631565730859065,
          0.1971555435871221,
          0.09073533054026782,
          0.17128226335012794,
          0.1690386265941118,
          0.18880588195669587,
          0.15100707874271968,
          0.20155892182452542,
          0.3117414544041601,
          0.21904333277120028,
          0.28678512684614127,
          0.2285512943835201,
          0.1406075413043349,
          0.17016716569627255,
          0.1360601226021121,
          0.03974120830843703,
          0.22767653777861974,
          0.17158581591607022,
          0.29488988390745063,
          0.23015026306595804,
          0.20838090266298517,
          0.13049685183190393,
          0.29557303624042947,
          0.2720330388753791,
          0.1574770346416582,
          0.2876319243250891,
          0.19715013344763904,
          0.17013616189903444,
          0.19635907345953238,
          0.13855436154129944,
          0.19761574758666076,
          0.2413798563490044,
          0.2519108252882814,
          0.10759032149238174,
          0.2568756765769887,
          0.19341000707576025,
          0.25148505009066585,
          0.19979003674519305,
          0.17090056411801038,
          0.115150957342603,
          0.23305878042829065,
          0.16108735350846065,
          0.16043924818572516,
          0.06401980634656754,
          0.13184225055301504,
          0.23832458404603177,
          0.17589102137066168,
          0.23229149402832602,
          0.25914023124807606,
          0.05417703713278838,
          0.2567341917762612,
          0.25607385039328695,
          0.20546867588280487,
          0.20983196434795778,
          0.20983599731002156,
          0.1690418056209721,
          0.1846873591997224,
          0.1724861441102059,
          0.11094085379538186,
          0.16930351819211842,
          0.20668461276223538,
          0.19876802542093489,
          0.16584199826593424,
          0.18858404271427828,
          0.14535519926215115,
          0.22462689933926014,
          0.22661965692276748,
          0.0741648375524765,
          0.19185838641154068,
          0.26195199480810344,
          0.19101244341666943,
          0.22431397867233654,
          0.15717296109202433,
          0.23139017746336155,
          0.2151081534322122,
          0.19335454955838507,
          0.04310470797407208,
          0.2181297472065538,
          0.18456523849227396,
          0.16854975558227805,
          0.010129788341166738,
          0.19103724291691968,
          0.21293012209316858,
          0.1777250365477306,
          0.20001002841152826,
          0.15782153888640385,
          0.23432116234257927,
          0.2491721684923835,
          0.07640069029727588,
          0.22586959079915464,
          0.18299297099262066,
          0.20943198296556806,
          0.17721835177904685,
          0.17562369907792294,
          0.43122932950023046,
          0.15835711434511127,
          0.20260807349082705,
          0.2348996802747367,
          0.33249217820463856,
          0.20840949632291905,
          0.1371320836795398,
          0.18331495605540504,
          0.24501098502666327,
          0.19152820575253016,
          0.24619182691810176,
          0.21028655787342668,
          0.23476035675871282,
          0.17047236456760775,
          0.28112764949740554,
          0.26907742708177396,
          0.21350962533618992,
          0.204434994399921,
          0.2260073629950268,
          0.3273437197140792,
          0.20438096041468676,
          0.0788219571233726,
          0.28655462889274025,
          0.32554653870738814,
          0.22753967637743136,
          0.21727167900473007,
          0.17165023657797132,
          0.09659969523365472,
          0.14610416526629694,
          0.2029368253655422,
          0.19485796411328435,
          0.194384574160827,
          0.1764849909668757,
          0.2511454154681653,
          0.3224970104857825,
          0.3212331781830207,
          0.11810535833563252,
          0.2596560719655186,
          0.2931562669767856,
          0.21437280125245836,
          0.18149452790953713,
          0.22400080149438395,
          0.1914918813894146,
          0.27374314918408277,
          0.31296203558683716,
          0.16331985982546054,
          0.2277343273828943,
          0.11420376552229132,
          0.2566788146539014,
          0.20810074375530668,
          0.1717980891148445,
          0.32563395025429365,
          0.4238942863457038,
          0.09788823491607788,
          0.09035727212707426,
          0.18964459625399102,
          0.2904425897026786,
          0.13636042403620233,
          0.22171125557555835,
          0.18288920274712916,
          0.15984208449849183,
          0.1516426126435429,
          0.252210359808502,
          0.19396975825280652,
          0.20010829054823723,
          0.2834152668749915,
          0.20787228270707342,
          0.32579167230936035,
          0.21790695072413985,
          0.21689745689141693,
          0.21130629327708494,
          0.2460909394073439,
          0.057376025182810195,
          0.07444046145799282,
          0.19696374223172064,
          0.10823275668621324,
          0.17003375656447808,
          0.27120896446254017,
          0.15418010698044027,
          0.27295991977965134,
          0.19498410013336961,
          0.15341112852547828,
          0.2016049945675717,
          0.24406374061257105,
          0.074061519945979,
          0.1916916325472004,
          0.21327647112195647,
          0.24544146814004345,
          0.15281221528418448,
          0.26786837159352805,
          0.18720393707919802,
          0.06774941205918307,
          0.07094064590653457,
          0.26056841685186527,
          0.07888683319927828,
          0.262597127316806,
          0.24090647791846087,
          0.1841227711961473,
          0.2136615040450422,
          0.19235338846326058,
          0.2640242290319198,
          0.11764813979747832,
          0.1419881476909738,
          0.25463068223648383,
          0.22550227068206502,
          0.17458199085768175,
          0.21955659385285423,
          0.3195970039192277,
          0.20144913088256397
         ]
        }
       ],
       "layout": {
        "template": {
         "data": {
          "bar": [
           {
            "error_x": {
             "color": "#2a3f5f"
            },
            "error_y": {
             "color": "#2a3f5f"
            },
            "marker": {
             "line": {
              "color": "#E5ECF6",
              "width": 0.5
             },
             "pattern": {
              "fillmode": "overlay",
              "size": 10,
              "solidity": 0.2
             }
            },
            "type": "bar"
           }
          ],
          "barpolar": [
           {
            "marker": {
             "line": {
              "color": "#E5ECF6",
              "width": 0.5
             },
             "pattern": {
              "fillmode": "overlay",
              "size": 10,
              "solidity": 0.2
             }
            },
            "type": "barpolar"
           }
          ],
          "carpet": [
           {
            "aaxis": {
             "endlinecolor": "#2a3f5f",
             "gridcolor": "white",
             "linecolor": "white",
             "minorgridcolor": "white",
             "startlinecolor": "#2a3f5f"
            },
            "baxis": {
             "endlinecolor": "#2a3f5f",
             "gridcolor": "white",
             "linecolor": "white",
             "minorgridcolor": "white",
             "startlinecolor": "#2a3f5f"
            },
            "type": "carpet"
           }
          ],
          "choropleth": [
           {
            "colorbar": {
             "outlinewidth": 0,
             "ticks": ""
            },
            "type": "choropleth"
           }
          ],
          "contour": [
           {
            "colorbar": {
             "outlinewidth": 0,
             "ticks": ""
            },
            "colorscale": [
             [
              0,
              "#0d0887"
             ],
             [
              0.1111111111111111,
              "#46039f"
             ],
             [
              0.2222222222222222,
              "#7201a8"
             ],
             [
              0.3333333333333333,
              "#9c179e"
             ],
             [
              0.4444444444444444,
              "#bd3786"
             ],
             [
              0.5555555555555556,
              "#d8576b"
             ],
             [
              0.6666666666666666,
              "#ed7953"
             ],
             [
              0.7777777777777778,
              "#fb9f3a"
             ],
             [
              0.8888888888888888,
              "#fdca26"
             ],
             [
              1,
              "#f0f921"
             ]
            ],
            "type": "contour"
           }
          ],
          "contourcarpet": [
           {
            "colorbar": {
             "outlinewidth": 0,
             "ticks": ""
            },
            "type": "contourcarpet"
           }
          ],
          "heatmap": [
           {
            "colorbar": {
             "outlinewidth": 0,
             "ticks": ""
            },
            "colorscale": [
             [
              0,
              "#0d0887"
             ],
             [
              0.1111111111111111,
              "#46039f"
             ],
             [
              0.2222222222222222,
              "#7201a8"
             ],
             [
              0.3333333333333333,
              "#9c179e"
             ],
             [
              0.4444444444444444,
              "#bd3786"
             ],
             [
              0.5555555555555556,
              "#d8576b"
             ],
             [
              0.6666666666666666,
              "#ed7953"
             ],
             [
              0.7777777777777778,
              "#fb9f3a"
             ],
             [
              0.8888888888888888,
              "#fdca26"
             ],
             [
              1,
              "#f0f921"
             ]
            ],
            "type": "heatmap"
           }
          ],
          "heatmapgl": [
           {
            "colorbar": {
             "outlinewidth": 0,
             "ticks": ""
            },
            "colorscale": [
             [
              0,
              "#0d0887"
             ],
             [
              0.1111111111111111,
              "#46039f"
             ],
             [
              0.2222222222222222,
              "#7201a8"
             ],
             [
              0.3333333333333333,
              "#9c179e"
             ],
             [
              0.4444444444444444,
              "#bd3786"
             ],
             [
              0.5555555555555556,
              "#d8576b"
             ],
             [
              0.6666666666666666,
              "#ed7953"
             ],
             [
              0.7777777777777778,
              "#fb9f3a"
             ],
             [
              0.8888888888888888,
              "#fdca26"
             ],
             [
              1,
              "#f0f921"
             ]
            ],
            "type": "heatmapgl"
           }
          ],
          "histogram": [
           {
            "marker": {
             "pattern": {
              "fillmode": "overlay",
              "size": 10,
              "solidity": 0.2
             }
            },
            "type": "histogram"
           }
          ],
          "histogram2d": [
           {
            "colorbar": {
             "outlinewidth": 0,
             "ticks": ""
            },
            "colorscale": [
             [
              0,
              "#0d0887"
             ],
             [
              0.1111111111111111,
              "#46039f"
             ],
             [
              0.2222222222222222,
              "#7201a8"
             ],
             [
              0.3333333333333333,
              "#9c179e"
             ],
             [
              0.4444444444444444,
              "#bd3786"
             ],
             [
              0.5555555555555556,
              "#d8576b"
             ],
             [
              0.6666666666666666,
              "#ed7953"
             ],
             [
              0.7777777777777778,
              "#fb9f3a"
             ],
             [
              0.8888888888888888,
              "#fdca26"
             ],
             [
              1,
              "#f0f921"
             ]
            ],
            "type": "histogram2d"
           }
          ],
          "histogram2dcontour": [
           {
            "colorbar": {
             "outlinewidth": 0,
             "ticks": ""
            },
            "colorscale": [
             [
              0,
              "#0d0887"
             ],
             [
              0.1111111111111111,
              "#46039f"
             ],
             [
              0.2222222222222222,
              "#7201a8"
             ],
             [
              0.3333333333333333,
              "#9c179e"
             ],
             [
              0.4444444444444444,
              "#bd3786"
             ],
             [
              0.5555555555555556,
              "#d8576b"
             ],
             [
              0.6666666666666666,
              "#ed7953"
             ],
             [
              0.7777777777777778,
              "#fb9f3a"
             ],
             [
              0.8888888888888888,
              "#fdca26"
             ],
             [
              1,
              "#f0f921"
             ]
            ],
            "type": "histogram2dcontour"
           }
          ],
          "mesh3d": [
           {
            "colorbar": {
             "outlinewidth": 0,
             "ticks": ""
            },
            "type": "mesh3d"
           }
          ],
          "parcoords": [
           {
            "line": {
             "colorbar": {
              "outlinewidth": 0,
              "ticks": ""
             }
            },
            "type": "parcoords"
           }
          ],
          "pie": [
           {
            "automargin": true,
            "type": "pie"
           }
          ],
          "scatter": [
           {
            "fillpattern": {
             "fillmode": "overlay",
             "size": 10,
             "solidity": 0.2
            },
            "type": "scatter"
           }
          ],
          "scatter3d": [
           {
            "line": {
             "colorbar": {
              "outlinewidth": 0,
              "ticks": ""
             }
            },
            "marker": {
             "colorbar": {
              "outlinewidth": 0,
              "ticks": ""
             }
            },
            "type": "scatter3d"
           }
          ],
          "scattercarpet": [
           {
            "marker": {
             "colorbar": {
              "outlinewidth": 0,
              "ticks": ""
             }
            },
            "type": "scattercarpet"
           }
          ],
          "scattergeo": [
           {
            "marker": {
             "colorbar": {
              "outlinewidth": 0,
              "ticks": ""
             }
            },
            "type": "scattergeo"
           }
          ],
          "scattergl": [
           {
            "marker": {
             "colorbar": {
              "outlinewidth": 0,
              "ticks": ""
             }
            },
            "type": "scattergl"
           }
          ],
          "scattermapbox": [
           {
            "marker": {
             "colorbar": {
              "outlinewidth": 0,
              "ticks": ""
             }
            },
            "type": "scattermapbox"
           }
          ],
          "scatterpolar": [
           {
            "marker": {
             "colorbar": {
              "outlinewidth": 0,
              "ticks": ""
             }
            },
            "type": "scatterpolar"
           }
          ],
          "scatterpolargl": [
           {
            "marker": {
             "colorbar": {
              "outlinewidth": 0,
              "ticks": ""
             }
            },
            "type": "scatterpolargl"
           }
          ],
          "scatterternary": [
           {
            "marker": {
             "colorbar": {
              "outlinewidth": 0,
              "ticks": ""
             }
            },
            "type": "scatterternary"
           }
          ],
          "surface": [
           {
            "colorbar": {
             "outlinewidth": 0,
             "ticks": ""
            },
            "colorscale": [
             [
              0,
              "#0d0887"
             ],
             [
              0.1111111111111111,
              "#46039f"
             ],
             [
              0.2222222222222222,
              "#7201a8"
             ],
             [
              0.3333333333333333,
              "#9c179e"
             ],
             [
              0.4444444444444444,
              "#bd3786"
             ],
             [
              0.5555555555555556,
              "#d8576b"
             ],
             [
              0.6666666666666666,
              "#ed7953"
             ],
             [
              0.7777777777777778,
              "#fb9f3a"
             ],
             [
              0.8888888888888888,
              "#fdca26"
             ],
             [
              1,
              "#f0f921"
             ]
            ],
            "type": "surface"
           }
          ],
          "table": [
           {
            "cells": {
             "fill": {
              "color": "#EBF0F8"
             },
             "line": {
              "color": "white"
             }
            },
            "header": {
             "fill": {
              "color": "#C8D4E3"
             },
             "line": {
              "color": "white"
             }
            },
            "type": "table"
           }
          ]
         },
         "layout": {
          "annotationdefaults": {
           "arrowcolor": "#2a3f5f",
           "arrowhead": 0,
           "arrowwidth": 1
          },
          "autotypenumbers": "strict",
          "coloraxis": {
           "colorbar": {
            "outlinewidth": 0,
            "ticks": ""
           }
          },
          "colorscale": {
           "diverging": [
            [
             0,
             "#8e0152"
            ],
            [
             0.1,
             "#c51b7d"
            ],
            [
             0.2,
             "#de77ae"
            ],
            [
             0.3,
             "#f1b6da"
            ],
            [
             0.4,
             "#fde0ef"
            ],
            [
             0.5,
             "#f7f7f7"
            ],
            [
             0.6,
             "#e6f5d0"
            ],
            [
             0.7,
             "#b8e186"
            ],
            [
             0.8,
             "#7fbc41"
            ],
            [
             0.9,
             "#4d9221"
            ],
            [
             1,
             "#276419"
            ]
           ],
           "sequential": [
            [
             0,
             "#0d0887"
            ],
            [
             0.1111111111111111,
             "#46039f"
            ],
            [
             0.2222222222222222,
             "#7201a8"
            ],
            [
             0.3333333333333333,
             "#9c179e"
            ],
            [
             0.4444444444444444,
             "#bd3786"
            ],
            [
             0.5555555555555556,
             "#d8576b"
            ],
            [
             0.6666666666666666,
             "#ed7953"
            ],
            [
             0.7777777777777778,
             "#fb9f3a"
            ],
            [
             0.8888888888888888,
             "#fdca26"
            ],
            [
             1,
             "#f0f921"
            ]
           ],
           "sequentialminus": [
            [
             0,
             "#0d0887"
            ],
            [
             0.1111111111111111,
             "#46039f"
            ],
            [
             0.2222222222222222,
             "#7201a8"
            ],
            [
             0.3333333333333333,
             "#9c179e"
            ],
            [
             0.4444444444444444,
             "#bd3786"
            ],
            [
             0.5555555555555556,
             "#d8576b"
            ],
            [
             0.6666666666666666,
             "#ed7953"
            ],
            [
             0.7777777777777778,
             "#fb9f3a"
            ],
            [
             0.8888888888888888,
             "#fdca26"
            ],
            [
             1,
             "#f0f921"
            ]
           ]
          },
          "colorway": [
           "#636efa",
           "#EF553B",
           "#00cc96",
           "#ab63fa",
           "#FFA15A",
           "#19d3f3",
           "#FF6692",
           "#B6E880",
           "#FF97FF",
           "#FECB52"
          ],
          "font": {
           "color": "#2a3f5f"
          },
          "geo": {
           "bgcolor": "white",
           "lakecolor": "white",
           "landcolor": "#E5ECF6",
           "showlakes": true,
           "showland": true,
           "subunitcolor": "white"
          },
          "hoverlabel": {
           "align": "left"
          },
          "hovermode": "closest",
          "mapbox": {
           "style": "light"
          },
          "paper_bgcolor": "white",
          "plot_bgcolor": "#E5ECF6",
          "polar": {
           "angularaxis": {
            "gridcolor": "white",
            "linecolor": "white",
            "ticks": ""
           },
           "bgcolor": "#E5ECF6",
           "radialaxis": {
            "gridcolor": "white",
            "linecolor": "white",
            "ticks": ""
           }
          },
          "scene": {
           "xaxis": {
            "backgroundcolor": "#E5ECF6",
            "gridcolor": "white",
            "gridwidth": 2,
            "linecolor": "white",
            "showbackground": true,
            "ticks": "",
            "zerolinecolor": "white"
           },
           "yaxis": {
            "backgroundcolor": "#E5ECF6",
            "gridcolor": "white",
            "gridwidth": 2,
            "linecolor": "white",
            "showbackground": true,
            "ticks": "",
            "zerolinecolor": "white"
           },
           "zaxis": {
            "backgroundcolor": "#E5ECF6",
            "gridcolor": "white",
            "gridwidth": 2,
            "linecolor": "white",
            "showbackground": true,
            "ticks": "",
            "zerolinecolor": "white"
           }
          },
          "shapedefaults": {
           "line": {
            "color": "#2a3f5f"
           }
          },
          "ternary": {
           "aaxis": {
            "gridcolor": "white",
            "linecolor": "white",
            "ticks": ""
           },
           "baxis": {
            "gridcolor": "white",
            "linecolor": "white",
            "ticks": ""
           },
           "bgcolor": "#E5ECF6",
           "caxis": {
            "gridcolor": "white",
            "linecolor": "white",
            "ticks": ""
           }
          },
          "title": {
           "x": 0.05
          },
          "xaxis": {
           "automargin": true,
           "gridcolor": "white",
           "linecolor": "white",
           "ticks": "",
           "title": {
            "standoff": 15
           },
           "zerolinecolor": "white",
           "zerolinewidth": 2
          },
          "yaxis": {
           "automargin": true,
           "gridcolor": "white",
           "linecolor": "white",
           "ticks": "",
           "title": {
            "standoff": 15
           },
           "zerolinecolor": "white",
           "zerolinewidth": 2
          }
         }
        },
        "title": {
         "text": "Sample of Random Portfolios"
        },
        "xaxis": {
         "title": {
          "text": "Volatility (Standard Deviation)"
         }
        },
        "yaxis": {
         "title": {
          "text": "Annualised Returns"
         }
        }
       }
      }
     },
     "metadata": {},
     "output_type": "display_data"
    }
   ],
   "source": [
    "#-- Plot the risk vs. return of randomly generated portfolios\n",
    "#-- Convert the list from before into an array for easy plotting\n",
    "mean_variance_pairs = np.array(mean_variance_pairs)\n",
    "\n",
    "risk_free_rate=0 #-- Include risk free rate here\n",
    "\n",
    "fig = go.Figure()\n",
    "fig.add_trace(go.Scatter(x=mean_variance_pairs[:,1]**0.5, y=mean_variance_pairs[:,0], \n",
    "    marker=dict(color=(mean_variance_pairs[:,0]-risk_free_rate)/(mean_variance_pairs[:,1]**0.5), \n",
    "                size=5,\n",
    "                line=dict(width=1),\n",
    "                colorbar=dict(title=\"Sharpe<br>Ratio\")\n",
    "                ), \n",
    "    mode='markers'))\n",
    "fig.update_layout( \n",
    "    xaxis=dict(title='Volatility (Standard Deviation)'),\n",
    "    yaxis=dict(title='Annualised Returns'),\n",
    "    title='Sample of Random Portfolios')"
   ]
  },
  {
   "cell_type": "code",
   "execution_count": 8,
   "metadata": {},
   "outputs": [
    {
     "name": "stderr",
     "output_type": "stream",
     "text": [
      "100%|██████████| 100000/100000 [00:44<00:00, 2225.36it/s]\n"
     ]
    }
   ],
   "source": [
    "#-- Create random portfolio weights and indexes\n",
    "#- How many assests in the portfolio\n",
    "n_assets = 10\n",
    "\n",
    "mean_variance_pairs = []\n",
    "weights_list=[]\n",
    "tickers_list=[]\n",
    "\n",
    "for i in tqdm(range(100000)):\n",
    "    next_i = False\n",
    "    while True:\n",
    "        #- Choose assets randomly without replacement\n",
    "        assets = np.random.choice(list(raw_data.columns), n_assets, replace=False)\n",
    "        #- Choose weights randomly ensuring they sum to one\n",
    "        weights = np.random.rand(n_assets)\n",
    "        weights = weights/sum(weights)\n",
    "\n",
    "        #-- Loop over asset pairs and compute portfolio return and variance\n",
    "        portfolio_E_Variance = 0\n",
    "        portfolio_E_Return = 0\n",
    "        for i in range(len(assets)):\n",
    "            portfolio_E_Return += weights[i] * annualized_returns.loc[assets[i]]\n",
    "            for j in range(len(assets)):\n",
    "                portfolio_E_Variance += weights[i] * weights[j] * cov.loc[assets[i], assets[j]]\n",
    "\n",
    "        #-- Skip over dominated portfolios\n",
    "        for R,V in mean_variance_pairs:\n",
    "            if (R > portfolio_E_Return) & (V < portfolio_E_Variance):\n",
    "                next_i = True\n",
    "                break\n",
    "        if next_i:\n",
    "            break\n",
    "\n",
    "        #-- Add the mean/variance pairs to a list for plotting\n",
    "        mean_variance_pairs.append([portfolio_E_Return, portfolio_E_Variance])\n",
    "        weights_list.append(weights)\n",
    "        tickers_list.append(assets)\n",
    "        break\n"
   ]
  },
  {
   "cell_type": "code",
   "execution_count": 11,
   "metadata": {},
   "outputs": [
    {
     "data": {
      "text/plain": [
       "172"
      ]
     },
     "execution_count": 11,
     "metadata": {},
     "output_type": "execute_result"
    }
   ],
   "source": [
    "len(mean_variance_pairs)"
   ]
  },
  {
   "cell_type": "code",
   "execution_count": 10,
   "metadata": {},
   "outputs": [
    {
     "data": {
      "application/vnd.plotly.v1+json": {
       "config": {
        "plotlyServerURL": "https://plot.ly"
       },
       "data": [
        {
         "marker": {
          "color": [
           1.8641376454294867,
           2.261070581404025,
           1.6782434208407853,
           2.1068522668283562,
           2.19346628411645,
           1.929173024190449,
           1.821310079393473,
           2.350883006578761,
           2.570609661792791,
           2.3014108443778194,
           2.669379914454254,
           2.0131255758090156,
           2.738055149044898,
           1.1514406878380021,
           2.5364097408193276,
           2.5199065276201287,
           2.004062370288104,
           2.809404303527419,
           2.617876475801091,
           2.6937463032033078,
           2.333308083398214,
           2.670153961772157,
           2.1835061480232323,
           2.81308572831312,
           2.681176717876179,
           1.9900042869116887,
           1.9933925432426545,
           2.294619539374504,
           2.7982703347112086,
           2.8129783689806835,
           2.4287217264471974,
           2.686547541021678,
           2.64599025073532,
           2.6945739770737682,
           3.101641495632697,
           2.4458676319602697,
           2.535291505892233,
           2.380629787634219,
           2.665634956107143,
           2.7185564075318447,
           2.233718017308372,
           2.8113188408308276,
           2.8127691129207206,
           2.4248181327432827,
           2.500290558074272,
           3.0118349194770135,
           2.6647723939834176,
           2.8147479515439104,
           2.777103941720329,
           2.8934082123525884,
           2.733538748021312,
           2.324949576820829,
           2.92162935790066,
           2.4523272087327035,
           3.027697789786962,
           2.680737344792384,
           2.5715983113684437,
           2.7755210064247104,
           2.378480961178743,
           3.104074348515729,
           3.090863562961624,
           2.852747451314339,
           2.773042661828141,
           2.9460516928131852,
           2.5949327182943294,
           2.4871614388626933,
           2.699241667778983,
           3.0482955517457104,
           3.145795641279987,
           2.909329061827086,
           3.1403382701591567,
           2.9870603338283646,
           3.2057364355050786,
           2.9218066637016644,
           3.0301539717113086,
           2.6377708868190837,
           3.2278659083210712,
           2.881835922867565,
           2.747693406940792,
           3.389011957372761,
           2.7685295414051163,
           3.341641834704682,
           2.759977085129392,
           2.869567078362078,
           3.117871292704717,
           3.0801757505557714,
           3.1386198003650976,
           3.260413682284214,
           2.695518316526082,
           3.00495574181862,
           2.4951418756614165,
           1.9522956310749995,
           2.8845650882298295,
           3.0826436005227356,
           3.099673590596395,
           2.3913137096088537,
           3.038910333673138,
           3.20291097205552,
           2.7864914784419264,
           3.075276498680722,
           3.1158618952512205,
           3.2300625323107255,
           3.00032574479078,
           2.4791628277654945,
           2.9735112748317842,
           3.259543689925924,
           2.918719390965227,
           3.095366337425452,
           2.4916840359520096,
           3.391054582813306,
           3.2361227265271575,
           2.8473271440138794,
           3.10809100980304,
           2.94602921248976,
           3.33861470850567,
           3.0247792695029334,
           2.9862685754956146,
           3.204958639447083,
           3.1682135607225566,
           3.050037899528243,
           3.1100329784627223,
           2.9491998397172385,
           3.2433858850232986,
           2.5136009715341343,
           3.1150857314882967,
           3.404526705947913,
           2.9826065344782253,
           3.2630676083705086,
           2.0506364296872546,
           3.2312779937597518,
           3.105551656916513,
           3.023972509438162,
           2.932142322614612,
           2.538885738216249,
           3.167028891823116,
           2.571237090382452,
           2.8805504933202704,
           2.8717791218504196,
           2.7800044892350217,
           3.2581427290607077,
           3.367989607319792,
           2.6132756486805384,
           3.2079047081796683,
           2.159615756177187,
           3.238120872402404,
           2.9907846762625696,
           2.5847185192441096,
           3.357723428924518,
           2.986858092095133,
           2.6776630953308227,
           3.3533694329197665,
           3.0402533115865435,
           3.019449751794375,
           2.9054330817980856,
           3.155011063750352,
           3.3841502249476423,
           2.6157627054456443,
           2.2391155464025148,
           2.9174470301051105,
           2.9010446072761296,
           3.2104779101880094,
           2.3714179307674983,
           2.5764170651651446,
           3.196595355750561,
           3.3926786474954937,
           2.2051831157633512,
           2.74850664005855,
           2.707259668476831,
           2.7171917960296335,
           3.258018842605917,
           3.1890646086002947,
           3.249091821642928
          ],
          "colorbar": {
           "title": {
            "text": "Sharpe<br>Ratio"
           }
          },
          "colorscale": [
           [
            0,
            "rgb(103,0,31)"
           ],
           [
            0.1,
            "rgb(178,24,43)"
           ],
           [
            0.2,
            "rgb(214,96,77)"
           ],
           [
            0.3,
            "rgb(244,165,130)"
           ],
           [
            0.4,
            "rgb(253,219,199)"
           ],
           [
            0.5,
            "rgb(247,247,247)"
           ],
           [
            0.6,
            "rgb(209,229,240)"
           ],
           [
            0.7,
            "rgb(146,197,222)"
           ],
           [
            0.8,
            "rgb(67,147,195)"
           ],
           [
            0.9,
            "rgb(33,102,172)"
           ],
           [
            1,
            "rgb(5,48,97)"
           ]
          ],
          "line": {
           "width": 1
          },
          "showscale": true,
          "size": 7
         },
         "mode": "markers",
         "text": [
          "['TMO_adj_close_TMO' 'ABT_adj_close_ABT' 'VZ_adj_close_VZ'\n 'CSCO_adj_close_CSCO' 'NKE_adj_close_NKE' 'GOOG_adj_close_GOOG'\n 'BAC_adj_close_BAC' 'HD_adj_close_HD' 'XOM_adj_close_XOM'\n 'INTC_adj_close_INTC']<br>[0.16 0.09 0.17 0.01 0.08 0.07 0.15 0.13 0.05 0.09]",
          "['CSCO_adj_close_CSCO' 'ABT_adj_close_ABT' 'QCOM_adj_close_QCOM'\n 'MCD_adj_close_MCD' 'TSLA_adj_close_TSLA' 'DIS_adj_close_DIS'\n 'META_adj_close_META' 'ADBE_adj_close_ADBE' 'PG_adj_close_PG'\n 'UNH_adj_close_UNH']<br>[0.1  0.2  0.11 0.13 0.05 0.02 0.01 0.22 0.01 0.16]",
          "['CVX_adj_close_CVX' 'CMCSA_adj_close_CMCSA' 'ABT_adj_close_ABT'\n 'PFE_adj_close_PFE' 'BAC_adj_close_BAC' 'KO_adj_close_KO'\n 'UNH_adj_close_UNH' 'WFC_adj_close_WFC' 'CRM_adj_close_CRM'\n 'NKE_adj_close_NKE']<br>[0.05 0.03 0.07 0.11 0.1  0.24 0.03 0.07 0.17 0.12]",
          "['DIS_adj_close_DIS' 'QCOM_adj_close_QCOM' 'NKE_adj_close_NKE'\n 'MRK_adj_close_MRK' 'T_adj_close_T' 'LMT_adj_close_LMT' 'MA_adj_close_MA'\n 'MSFT_adj_close_MSFT' 'V_adj_close_V' 'AMZN_adj_close_AMZN']<br>[0.11 0.08 0.05 0.06 0.14 0.13 0.15 0.13 0.03 0.11]",
          "['KO_adj_close_KO' 'CSCO_adj_close_CSCO' 'JNJ_adj_close_JNJ'\n 'INTC_adj_close_INTC' 'LLY_adj_close_LLY' 'AAPL_adj_close_AAPL'\n 'CRM_adj_close_CRM' 'META_adj_close_META' 'MRK_adj_close_MRK'\n 'LMT_adj_close_LMT']<br>[0.03 0.13 0.21 0.08 0.02 0.19 0.11 0.14 0.02 0.08]",
          "['PFE_adj_close_PFE' 'BAC_adj_close_BAC' 'ORCL_adj_close_ORCL'\n 'KO_adj_close_KO' 'WMT_adj_close_WMT' 'NKE_adj_close_NKE'\n 'UNH_adj_close_UNH' 'VZ_adj_close_VZ' 'PEP_adj_close_PEP'\n 'TMO_adj_close_TMO']<br>[0.02 0.06 0.15 0.12 0.16 0.03 0.08 0.08 0.15 0.14]",
          "['META_adj_close_META' 'COST_adj_close_COST' 'CSCO_adj_close_CSCO'\n 'UNH_adj_close_UNH' 'ORCL_adj_close_ORCL' 'TSLA_adj_close_TSLA'\n 'INTC_adj_close_INTC' 'CVX_adj_close_CVX' 'NEE_adj_close_NEE'\n 'XOM_adj_close_XOM']<br>[0.07 0.17 0.14 0.04 0.14 0.02 0.11 0.15 0.03 0.14]",
          "['AAPL_adj_close_AAPL' 'CVX_adj_close_CVX' 'ADBE_adj_close_ADBE'\n 'MA_adj_close_MA' 'VZ_adj_close_VZ' 'INTC_adj_close_INTC'\n 'DHR_adj_close_DHR' 'PFE_adj_close_PFE' 'LMT_adj_close_LMT'\n 'UNH_adj_close_UNH']<br>[0.12 0.03 0.12 0.09 0.17 0.11 0.05 0.18 0.08 0.04]",
          "['ADBE_adj_close_ADBE' 'INTC_adj_close_INTC' 'HD_adj_close_HD'\n 'META_adj_close_META' 'PEP_adj_close_PEP' 'TSLA_adj_close_TSLA'\n 'CVX_adj_close_CVX' 'NVDA_adj_close_NVDA' 'T_adj_close_T'\n 'CMCSA_adj_close_CMCSA']<br>[0.12 0.18 0.14 0.03 0.06 0.11 0.15 0.12 0.08 0.01]",
          "['INTC_adj_close_INTC' 'GOOG_adj_close_GOOG' 'CMCSA_adj_close_CMCSA'\n 'ACN_adj_close_ACN' 'BAC_adj_close_BAC' 'PYPL_adj_close_PYPL'\n 'LLY_adj_close_LLY' 'TSLA_adj_close_TSLA' 'MA_adj_close_MA'\n 'LMT_adj_close_LMT']<br>[0.15 0.15 0.07 0.08 0.22 0.02 0.01 0.08 0.18 0.03]",
          "['PFE_adj_close_PFE' 'ABT_adj_close_ABT' 'CRM_adj_close_CRM'\n 'JNJ_adj_close_JNJ' 'NVDA_adj_close_NVDA' 'AMZN_adj_close_AMZN'\n 'VZ_adj_close_VZ' 'ABBV_adj_close_ABBV' 'CVX_adj_close_CVX'\n 'CMCSA_adj_close_CMCSA']<br>[0.07 0.15 0.21 0.   0.18 0.   0.07 0.07 0.16 0.09]",
          "['BMY_adj_close_BMY' 'XOM_adj_close_XOM' 'MA_adj_close_MA'\n 'GOOGL_adj_close_GOOGL' 'NEE_adj_close_NEE' 'LMT_adj_close_LMT'\n 'PEP_adj_close_PEP' 'MDT_adj_close_MDT' 'AAPL_adj_close_AAPL'\n 'JPM_adj_close_JPM']<br>[0.13 0.01 0.08 0.09 0.02 0.03 0.18 0.16 0.1  0.2 ]",
          "['UNH_adj_close_UNH' 'HD_adj_close_HD' 'JPM_adj_close_JPM'\n 'MSFT_adj_close_MSFT' 'PFE_adj_close_PFE' 'JNJ_adj_close_JNJ'\n 'ADBE_adj_close_ADBE' 'LMT_adj_close_LMT' 'VZ_adj_close_VZ'\n 'BAC_adj_close_BAC']<br>[0.17 0.07 0.13 0.06 0.07 0.07 0.06 0.12 0.12 0.13]",
          "['PG_adj_close_PG' 'WFC_adj_close_WFC' 'NKE_adj_close_NKE'\n 'WMT_adj_close_WMT' 'BAC_adj_close_BAC' 'CSCO_adj_close_CSCO'\n 'ABBV_adj_close_ABBV' 'KO_adj_close_KO' 'ORCL_adj_close_ORCL'\n 'T_adj_close_T']<br>[0.16 0.05 0.1  0.09 0.01 0.01 0.04 0.2  0.12 0.22]",
          "['XOM_adj_close_XOM' 'MA_adj_close_MA' 'MCD_adj_close_MCD'\n 'LMT_adj_close_LMT' 'ABBV_adj_close_ABBV' 'PEP_adj_close_PEP'\n 'DIS_adj_close_DIS' 'QCOM_adj_close_QCOM' 'DHR_adj_close_DHR'\n 'JPM_adj_close_JPM']<br>[0.08 0.09 0.11 0.14 0.11 0.05 0.07 0.13 0.08 0.14]",
          "['CMCSA_adj_close_CMCSA' 'MA_adj_close_MA' 'CSCO_adj_close_CSCO'\n 'INTC_adj_close_INTC' 'LMT_adj_close_LMT' 'AMZN_adj_close_AMZN'\n 'GOOG_adj_close_GOOG' 'BAC_adj_close_BAC' 'CRM_adj_close_CRM'\n 'BMY_adj_close_BMY']<br>[0.12 0.1  0.18 0.05 0.12 0.12 0.09 0.16 0.05 0.02]",
          "['UNH_adj_close_UNH' 'DIS_adj_close_DIS' 'NKE_adj_close_NKE'\n 'ABBV_adj_close_ABBV' 'NVDA_adj_close_NVDA' 'JNJ_adj_close_JNJ'\n 'GOOG_adj_close_GOOG' 'QCOM_adj_close_QCOM' 'CRM_adj_close_CRM'\n 'CMCSA_adj_close_CMCSA']<br>[0.16 0.05 0.18 0.08 0.01 0.22 0.02 0.1  0.02 0.16]",
          "['PFE_adj_close_PFE' 'META_adj_close_META' 'JNJ_adj_close_JNJ'\n 'COST_adj_close_COST' 'MA_adj_close_MA' 'NVDA_adj_close_NVDA'\n 'VZ_adj_close_VZ' 'T_adj_close_T' 'CVX_adj_close_CVX' 'JPM_adj_close_JPM']<br>[0.05 0.13 0.03 0.13 0.13 0.1  0.07 0.11 0.1  0.15]",
          "['HD_adj_close_HD' 'VZ_adj_close_VZ' 'V_adj_close_V' 'MCD_adj_close_MCD'\n 'NEE_adj_close_NEE' 'CVX_adj_close_CVX' 'AAPL_adj_close_AAPL'\n 'AMZN_adj_close_AMZN' 'WFC_adj_close_WFC' 'DHR_adj_close_DHR']<br>[0.17 0.09 0.05 0.08 0.17 0.03 0.12 0.14 0.02 0.12]",
          "['DHR_adj_close_DHR' 'UNH_adj_close_UNH' 'AMZN_adj_close_AMZN'\n 'BAC_adj_close_BAC' 'MSFT_adj_close_MSFT' 'WMT_adj_close_WMT'\n 'MRK_adj_close_MRK' 'JNJ_adj_close_JNJ' 'CRM_adj_close_CRM'\n 'V_adj_close_V']<br>[0.06 0.18 0.11 0.15 0.01 0.06 0.08 0.07 0.18 0.1 ]",
          "['ORCL_adj_close_ORCL' 'CSCO_adj_close_CSCO' 'NVDA_adj_close_NVDA'\n 'KO_adj_close_KO' 'UA_adj_close_UA' 'CMCSA_adj_close_CMCSA'\n 'MDT_adj_close_MDT' 'LMT_adj_close_LMT' 'WFC_adj_close_WFC'\n 'NEE_adj_close_NEE']<br>[0.09 0.13 0.05 0.01 0.01 0.19 0.01 0.17 0.15 0.19]",
          "['HD_adj_close_HD' 'VZ_adj_close_VZ' 'DHR_adj_close_DHR'\n 'CMCSA_adj_close_CMCSA' 'MDT_adj_close_MDT' 'PFE_adj_close_PFE'\n 'NFLX_adj_close_NFLX' 'ABBV_adj_close_ABBV' 'MA_adj_close_MA'\n 'NVDA_adj_close_NVDA']<br>[0.05 0.07 0.1  0.11 0.11 0.1  0.13 0.14 0.08 0.11]",
          "['MSFT_adj_close_MSFT' 'AMZN_adj_close_AMZN' 'CVX_adj_close_CVX'\n 'T_adj_close_T' 'GOOG_adj_close_GOOG' 'MCD_adj_close_MCD'\n 'NEE_adj_close_NEE' 'MDT_adj_close_MDT' 'XOM_adj_close_XOM'\n 'INTC_adj_close_INTC']<br>[0.03 0.1  0.22 0.14 0.1  0.17 0.13 0.04 0.07 0.  ]",
          "['MA_adj_close_MA' 'NKE_adj_close_NKE' 'HD_adj_close_HD'\n 'DHR_adj_close_DHR' 'NEE_adj_close_NEE' 'ABT_adj_close_ABT'\n 'ACN_adj_close_ACN' 'T_adj_close_T' 'AMZN_adj_close_AMZN'\n 'NVDA_adj_close_NVDA']<br>[0.02 0.05 0.02 0.17 0.13 0.16 0.13 0.02 0.13 0.18]",
          "['HD_adj_close_HD' 'NVDA_adj_close_NVDA' 'XOM_adj_close_XOM'\n 'PYPL_adj_close_PYPL' 'META_adj_close_META' 'PG_adj_close_PG'\n 'MA_adj_close_MA' 'PEP_adj_close_PEP' 'JPM_adj_close_JPM'\n 'CVX_adj_close_CVX']<br>[0.05 0.13 0.13 0.03 0.15 0.15 0.16 0.08 0.01 0.09]",
          "['CVX_adj_close_CVX' 'META_adj_close_META' 'VZ_adj_close_VZ'\n 'PFE_adj_close_PFE' 'PEP_adj_close_PEP' 'MSFT_adj_close_MSFT'\n 'NEE_adj_close_NEE' 'BMY_adj_close_BMY' 'CMCSA_adj_close_CMCSA'\n 'WMT_adj_close_WMT']<br>[0.07 0.11 0.05 0.11 0.2  0.   0.06 0.09 0.18 0.15]",
          "['JPM_adj_close_JPM' 'PG_adj_close_PG' 'MCD_adj_close_MCD'\n 'GOOGL_adj_close_GOOGL' 'LMT_adj_close_LMT' 'WMT_adj_close_WMT'\n 'KO_adj_close_KO' 'CMCSA_adj_close_CMCSA' 'MDT_adj_close_MDT'\n 'UNH_adj_close_UNH']<br>[0.07 0.24 0.01 0.03 0.21 0.05 0.16 0.11 0.11 0.03]",
          "['CMCSA_adj_close_CMCSA' 'MA_adj_close_MA' 'META_adj_close_META'\n 'XOM_adj_close_XOM' 'CVX_adj_close_CVX' 'VZ_adj_close_VZ'\n 'JNJ_adj_close_JNJ' 'JPM_adj_close_JPM' 'PEP_adj_close_PEP'\n 'MCD_adj_close_MCD']<br>[0.11 0.15 0.11 0.06 0.09 0.15 0.12 0.06 0.02 0.12]",
          "['CMCSA_adj_close_CMCSA' 'ABBV_adj_close_ABBV' 'NVDA_adj_close_NVDA'\n 'WMT_adj_close_WMT' 'META_adj_close_META' 'INTC_adj_close_INTC'\n 'CRM_adj_close_CRM' 'ADBE_adj_close_ADBE' 'VZ_adj_close_VZ'\n 'UNH_adj_close_UNH']<br>[0.02 0.01 0.17 0.06 0.21 0.04 0.16 0.09 0.03 0.21]",
          "['CRM_adj_close_CRM' 'JPM_adj_close_JPM' 'UNH_adj_close_UNH'\n 'WMT_adj_close_WMT' 'NVDA_adj_close_NVDA' 'PYPL_adj_close_PYPL'\n 'CVX_adj_close_CVX' 'KO_adj_close_KO' 'ACN_adj_close_ACN'\n 'LLY_adj_close_LLY']<br>[0.09 0.1  0.05 0.02 0.13 0.12 0.11 0.14 0.14 0.1 ]",
          "['JNJ_adj_close_JNJ' 'PEP_adj_close_PEP' 'MCD_adj_close_MCD'\n 'UNH_adj_close_UNH' 'VZ_adj_close_VZ' 'T_adj_close_T'\n 'GOOGL_adj_close_GOOGL' 'NVDA_adj_close_NVDA' 'LMT_adj_close_LMT'\n 'KO_adj_close_KO']<br>[0.11 0.09 0.14 0.07 0.08 0.12 0.11 0.07 0.07 0.15]",
          "['ORCL_adj_close_ORCL' 'JNJ_adj_close_JNJ' 'MSFT_adj_close_MSFT'\n 'DIS_adj_close_DIS' 'NVDA_adj_close_NVDA' 'MCD_adj_close_MCD'\n 'KO_adj_close_KO' 'JPM_adj_close_JPM' 'XOM_adj_close_XOM'\n 'ADBE_adj_close_ADBE']<br>[0.11 0.11 0.02 0.04 0.23 0.19 0.12 0.01 0.11 0.05]",
          "['MA_adj_close_MA' 'ORCL_adj_close_ORCL' 'ABBV_adj_close_ABBV'\n 'INTC_adj_close_INTC' 'TMO_adj_close_TMO' 'GOOGL_adj_close_GOOGL'\n 'WFC_adj_close_WFC' 'NEE_adj_close_NEE' 'BAC_adj_close_BAC'\n 'WMT_adj_close_WMT']<br>[0.08 0.   0.12 0.14 0.12 0.04 0.06 0.16 0.1  0.17]",
          "['XOM_adj_close_XOM' 'PFE_adj_close_PFE' 'JNJ_adj_close_JNJ'\n 'TMO_adj_close_TMO' 'NVDA_adj_close_NVDA' 'AAPL_adj_close_AAPL'\n 'VZ_adj_close_VZ' 'ADBE_adj_close_ADBE' 'CSCO_adj_close_CSCO'\n 'BAC_adj_close_BAC']<br>[0.09 0.12 0.11 0.08 0.17 0.07 0.07 0.14 0.15 0.  ]",
          "['DHR_adj_close_DHR' 'CMCSA_adj_close_CMCSA' 'NVDA_adj_close_NVDA'\n 'UNH_adj_close_UNH' 'GOOGL_adj_close_GOOGL' 'GOOG_adj_close_GOOG'\n 'MA_adj_close_MA' 'CVX_adj_close_CVX' 'NFLX_adj_close_NFLX'\n 'ABBV_adj_close_ABBV']<br>[0.09 0.12 0.14 0.1  0.06 0.   0.13 0.12 0.1  0.13]",
          "['PG_adj_close_PG' 'JPM_adj_close_JPM' 'WMT_adj_close_WMT' 'V_adj_close_V'\n 'COST_adj_close_COST' 'PEP_adj_close_PEP' 'CVX_adj_close_CVX'\n 'DIS_adj_close_DIS' 'MRK_adj_close_MRK' 'AMZN_adj_close_AMZN']<br>[0.07 0.03 0.15 0.14 0.08 0.14 0.12 0.08 0.03 0.14]",
          "['AMZN_adj_close_AMZN' 'NEE_adj_close_NEE' 'MCD_adj_close_MCD'\n 'JNJ_adj_close_JNJ' 'LLY_adj_close_LLY' 'DIS_adj_close_DIS'\n 'UNH_adj_close_UNH' 'GOOGL_adj_close_GOOGL' 'PG_adj_close_PG'\n 'PFE_adj_close_PFE']<br>[0.17 0.06 0.19 0.1  0.   0.08 0.09 0.09 0.02 0.2 ]",
          "['WMT_adj_close_WMT' 'ABBV_adj_close_ABBV' 'COST_adj_close_COST'\n 'PFE_adj_close_PFE' 'LLY_adj_close_LLY' 'CMCSA_adj_close_CMCSA'\n 'AAPL_adj_close_AAPL' 'CRM_adj_close_CRM' 'HD_adj_close_HD'\n 'NEE_adj_close_NEE']<br>[0.01 0.2  0.19 0.03 0.06 0.14 0.16 0.04 0.02 0.16]",
          "['NEE_adj_close_NEE' 'MRK_adj_close_MRK' 'GOOG_adj_close_GOOG'\n 'CVX_adj_close_CVX' 'ACN_adj_close_ACN' 'T_adj_close_T'\n 'ABBV_adj_close_ABBV' 'ORCL_adj_close_ORCL' 'NVDA_adj_close_NVDA'\n 'PFE_adj_close_PFE']<br>[0.05 0.09 0.07 0.08 0.09 0.12 0.13 0.14 0.14 0.08]",
          "['MRK_adj_close_MRK' 'TMO_adj_close_TMO' 'PYPL_adj_close_PYPL'\n 'MSFT_adj_close_MSFT' 'JPM_adj_close_JPM' 'GOOGL_adj_close_GOOGL'\n 'HD_adj_close_HD' 'BAC_adj_close_BAC' 'NVDA_adj_close_NVDA'\n 'PEP_adj_close_PEP']<br>[0.03 0.13 0.11 0.12 0.1  0.1  0.13 0.15 0.07 0.07]",
          "['ORCL_adj_close_ORCL' 'UNH_adj_close_UNH' 'NVDA_adj_close_NVDA'\n 'XOM_adj_close_XOM' 'NKE_adj_close_NKE' 'MA_adj_close_MA'\n 'WMT_adj_close_WMT' 'JNJ_adj_close_JNJ' 'PEP_adj_close_PEP'\n 'DHR_adj_close_DHR']<br>[0.19 0.13 0.04 0.18 0.02 0.03 0.03 0.23 0.13 0.02]",
          "['LMT_adj_close_LMT' 'AAPL_adj_close_AAPL' 'PG_adj_close_PG'\n 'NVDA_adj_close_NVDA' 'V_adj_close_V' 'PYPL_adj_close_PYPL'\n 'MSFT_adj_close_MSFT' 'ACN_adj_close_ACN' 'NEE_adj_close_NEE'\n 'ABT_adj_close_ABT']<br>[0.09 0.   0.05 0.22 0.07 0.09 0.23 0.04 0.1  0.11]",
          "['PYPL_adj_close_PYPL' 'ABT_adj_close_ABT' 'MA_adj_close_MA'\n 'ADBE_adj_close_ADBE' 'PFE_adj_close_PFE' 'NVDA_adj_close_NVDA'\n 'AAPL_adj_close_AAPL' 'CVX_adj_close_CVX' 'ACN_adj_close_ACN'\n 'V_adj_close_V']<br>[0.03 0.19 0.06 0.03 0.14 0.14 0.03 0.21 0.03 0.13]",
          "['CVX_adj_close_CVX' 'AMZN_adj_close_AMZN' 'GOOG_adj_close_GOOG'\n 'CMCSA_adj_close_CMCSA' 'KO_adj_close_KO' 'UNH_adj_close_UNH'\n 'PFE_adj_close_PFE' 'BAC_adj_close_BAC' 'CSCO_adj_close_CSCO'\n 'JNJ_adj_close_JNJ']<br>[0.05 0.05 0.06 0.02 0.09 0.06 0.19 0.13 0.16 0.2 ]",
          "['TMO_adj_close_TMO' 'ORCL_adj_close_ORCL' 'WMT_adj_close_WMT'\n 'T_adj_close_T' 'CVX_adj_close_CVX' 'BAC_adj_close_BAC'\n 'ACN_adj_close_ACN' 'PEP_adj_close_PEP' 'AAPL_adj_close_AAPL'\n 'COST_adj_close_COST']<br>[0.01 0.02 0.18 0.03 0.17 0.1  0.18 0.17 0.12 0.02]",
          "['UNH_adj_close_UNH' 'GOOG_adj_close_GOOG' 'META_adj_close_META'\n 'NVDA_adj_close_NVDA' 'MDT_adj_close_MDT' 'NEE_adj_close_NEE'\n 'JPM_adj_close_JPM' 'V_adj_close_V' 'MCD_adj_close_MCD'\n 'PYPL_adj_close_PYPL']<br>[0.14 0.02 0.03 0.15 0.18 0.07 0.11 0.06 0.17 0.07]",
          "['BAC_adj_close_BAC' 'PFE_adj_close_PFE' 'ABBV_adj_close_ABBV'\n 'WMT_adj_close_WMT' 'GOOGL_adj_close_GOOGL' 'INTC_adj_close_INTC'\n 'CVX_adj_close_CVX' 'UNH_adj_close_UNH' 'NEE_adj_close_NEE'\n 'COST_adj_close_COST']<br>[0.16 0.12 0.13 0.02 0.1  0.02 0.16 0.05 0.1  0.14]",
          "['NFLX_adj_close_NFLX' 'KO_adj_close_KO' 'BAC_adj_close_BAC'\n 'CVX_adj_close_CVX' 'AAPL_adj_close_AAPL' 'NVDA_adj_close_NVDA'\n 'AMZN_adj_close_AMZN' 'ABT_adj_close_ABT' 'WMT_adj_close_WMT'\n 'MCD_adj_close_MCD']<br>[0.1  0.09 0.01 0.06 0.16 0.08 0.14 0.09 0.13 0.14]",
          "['VZ_adj_close_VZ' 'PYPL_adj_close_PYPL' 'AAPL_adj_close_AAPL'\n 'T_adj_close_T' 'JNJ_adj_close_JNJ' 'NEE_adj_close_NEE'\n 'NVDA_adj_close_NVDA' 'MA_adj_close_MA' 'PG_adj_close_PG'\n 'LLY_adj_close_LLY']<br>[0.08 0.14 0.06 0.09 0.16 0.18 0.13 0.05 0.04 0.07]",
          "['ABBV_adj_close_ABBV' 'NEE_adj_close_NEE' 'LMT_adj_close_LMT'\n 'V_adj_close_V' 'NVDA_adj_close_NVDA' 'ACN_adj_close_ACN'\n 'CVX_adj_close_CVX' 'COST_adj_close_COST' 'UNH_adj_close_UNH'\n 'PFE_adj_close_PFE']<br>[0.04 0.02 0.24 0.01 0.12 0.03 0.13 0.23 0.01 0.18]",
          "['PG_adj_close_PG' 'BAC_adj_close_BAC' 'ORCL_adj_close_ORCL'\n 'UNH_adj_close_UNH' 'NEE_adj_close_NEE' 'T_adj_close_T'\n 'LMT_adj_close_LMT' 'NFLX_adj_close_NFLX' 'MRK_adj_close_MRK'\n 'JNJ_adj_close_JNJ']<br>[0.05 0.18 0.   0.17 0.17 0.04 0.19 0.04 0.13 0.02]",
          "['AMZN_adj_close_AMZN' 'PEP_adj_close_PEP' 'MA_adj_close_MA'\n 'LLY_adj_close_LLY' 'PG_adj_close_PG' 'DIS_adj_close_DIS'\n 'ABT_adj_close_ABT' 'LMT_adj_close_LMT' 'NFLX_adj_close_NFLX'\n 'CVX_adj_close_CVX']<br>[0.07 0.06 0.06 0.13 0.08 0.14 0.13 0.16 0.02 0.13]",
          "['CSCO_adj_close_CSCO' 'WMT_adj_close_WMT' 'ACN_adj_close_ACN'\n 'BAC_adj_close_BAC' 'GOOG_adj_close_GOOG' 'DHR_adj_close_DHR'\n 'UNH_adj_close_UNH' 'T_adj_close_T' 'NKE_adj_close_NKE'\n 'NVDA_adj_close_NVDA']<br>[0.02 0.14 0.12 0.08 0.13 0.15 0.09 0.09 0.03 0.13]",
          "['NEE_adj_close_NEE' 'PG_adj_close_PG' 'CSCO_adj_close_CSCO'\n 'LLY_adj_close_LLY' 'GOOG_adj_close_GOOG' 'MCD_adj_close_MCD'\n 'HD_adj_close_HD' 'WMT_adj_close_WMT' 'ABBV_adj_close_ABBV'\n 'GOOGL_adj_close_GOOGL']<br>[0.13 0.02 0.17 0.07 0.11 0.11 0.05 0.14 0.13 0.07]",
          "['NVDA_adj_close_NVDA' 'CMCSA_adj_close_CMCSA' 'CVX_adj_close_CVX'\n 'ABBV_adj_close_ABBV' 'QCOM_adj_close_QCOM' 'AAPL_adj_close_AAPL'\n 'ORCL_adj_close_ORCL' 'PG_adj_close_PG' 'LMT_adj_close_LMT'\n 'ACN_adj_close_ACN']<br>[0.12 0.12 0.03 0.19 0.03 0.12 0.02 0.07 0.14 0.16]",
          "['ADBE_adj_close_ADBE' 'PYPL_adj_close_PYPL' 'VZ_adj_close_VZ'\n 'INTC_adj_close_INTC' 'TMO_adj_close_TMO' 'MA_adj_close_MA'\n 'MCD_adj_close_MCD' 'HD_adj_close_HD' 'UNH_adj_close_UNH'\n 'CVX_adj_close_CVX']<br>[0.08 0.08 0.   0.12 0.09 0.12 0.14 0.1  0.14 0.13]",
          "['NEE_adj_close_NEE' 'CMCSA_adj_close_CMCSA' 'WMT_adj_close_WMT'\n 'LMT_adj_close_LMT' 'DHR_adj_close_DHR' 'PG_adj_close_PG' 'T_adj_close_T'\n 'TMO_adj_close_TMO' 'META_adj_close_META' 'CVX_adj_close_CVX']<br>[0.13 0.1  0.12 0.19 0.06 0.04 0.05 0.17 0.07 0.08]",
          "['MCD_adj_close_MCD' 'BAC_adj_close_BAC' 'XOM_adj_close_XOM'\n 'NEE_adj_close_NEE' 'V_adj_close_V' 'UNH_adj_close_UNH' 'PG_adj_close_PG'\n 'COST_adj_close_COST' 'DHR_adj_close_DHR' 'MA_adj_close_MA']<br>[0.17 0.1  0.04 0.16 0.03 0.13 0.11 0.08 0.12 0.07]",
          "['VZ_adj_close_VZ' 'CVX_adj_close_CVX' 'DIS_adj_close_DIS'\n 'LMT_adj_close_LMT' 'AAPL_adj_close_AAPL' 'JNJ_adj_close_JNJ'\n 'PG_adj_close_PG' 'JPM_adj_close_JPM' 'HD_adj_close_HD'\n 'ORCL_adj_close_ORCL']<br>[0.09 0.14 0.01 0.11 0.13 0.11 0.14 0.05 0.12 0.1 ]",
          "['MSFT_adj_close_MSFT' 'LLY_adj_close_LLY' 'ABBV_adj_close_ABBV'\n 'NVDA_adj_close_NVDA' 'JNJ_adj_close_JNJ' 'PEP_adj_close_PEP'\n 'LMT_adj_close_LMT' 'AMZN_adj_close_AMZN' 'NEE_adj_close_NEE'\n 'PFE_adj_close_PFE']<br>[0.08 0.08 0.13 0.17 0.   0.11 0.05 0.07 0.14 0.16]",
          "['WFC_adj_close_WFC' 'PEP_adj_close_PEP' 'UNH_adj_close_UNH'\n 'DHR_adj_close_DHR' 'PFE_adj_close_PFE' 'CSCO_adj_close_CSCO'\n 'LMT_adj_close_LMT' 'QCOM_adj_close_QCOM' 'AMZN_adj_close_AMZN'\n 'NVDA_adj_close_NVDA']<br>[0.14 0.02 0.18 0.09 0.17 0.03 0.15 0.   0.05 0.17]",
          "['CVX_adj_close_CVX' 'CMCSA_adj_close_CMCSA' 'PG_adj_close_PG'\n 'AAPL_adj_close_AAPL' 'BAC_adj_close_BAC' 'T_adj_close_T'\n 'UNH_adj_close_UNH' 'CRM_adj_close_CRM' 'JNJ_adj_close_JNJ'\n 'NVDA_adj_close_NVDA']<br>[0.08 0.14 0.06 0.04 0.   0.22 0.23 0.02 0.07 0.14]",
          "['HD_adj_close_HD' 'NVDA_adj_close_NVDA' 'JPM_adj_close_JPM'\n 'CMCSA_adj_close_CMCSA' 'MSFT_adj_close_MSFT' 'XOM_adj_close_XOM'\n 'DHR_adj_close_DHR' 'NEE_adj_close_NEE' 'LMT_adj_close_LMT'\n 'T_adj_close_T']<br>[0.04 0.06 0.15 0.14 0.15 0.09 0.03 0.12 0.08 0.15]",
          "['PYPL_adj_close_PYPL' 'NVDA_adj_close_NVDA' 'INTC_adj_close_INTC'\n 'CMCSA_adj_close_CMCSA' 'MSFT_adj_close_MSFT' 'JPM_adj_close_JPM'\n 'UNH_adj_close_UNH' 'GOOGL_adj_close_GOOGL' 'LLY_adj_close_LLY'\n 'AAPL_adj_close_AAPL']<br>[0.05 0.21 0.08 0.16 0.07 0.07 0.18 0.08 0.01 0.09]",
          "['V_adj_close_V' 'AMZN_adj_close_AMZN' 'CVX_adj_close_CVX'\n 'DIS_adj_close_DIS' 'NEE_adj_close_NEE' 'JNJ_adj_close_JNJ'\n 'T_adj_close_T' 'GOOG_adj_close_GOOG' 'PFE_adj_close_PFE'\n 'BAC_adj_close_BAC']<br>[0.01 0.16 0.16 0.08 0.15 0.01 0.12 0.04 0.14 0.12]",
          "['JPM_adj_close_JPM' 'MSFT_adj_close_MSFT' 'NEE_adj_close_NEE'\n 'COST_adj_close_COST' 'MDT_adj_close_MDT' 'PG_adj_close_PG'\n 'CVX_adj_close_CVX' 'ADBE_adj_close_ADBE' 'HD_adj_close_HD'\n 'INTC_adj_close_INTC']<br>[0.09 0.15 0.13 0.06 0.04 0.15 0.22 0.05 0.1  0.01]",
          "['MCD_adj_close_MCD' 'ABBV_adj_close_ABBV' 'ACN_adj_close_ACN'\n 'UNH_adj_close_UNH' 'PYPL_adj_close_PYPL' 'JPM_adj_close_JPM'\n 'GOOGL_adj_close_GOOGL' 'AMZN_adj_close_AMZN' 'INTC_adj_close_INTC'\n 'DIS_adj_close_DIS']<br>[0.17 0.04 0.03 0.2  0.11 0.2  0.02 0.01 0.09 0.14]",
          "['GOOG_adj_close_GOOG' 'UNH_adj_close_UNH' 'COST_adj_close_COST'\n 'CSCO_adj_close_CSCO' 'ACN_adj_close_ACN' 'BAC_adj_close_BAC'\n 'ABBV_adj_close_ABBV' 'NVDA_adj_close_NVDA' 'JPM_adj_close_JPM'\n 'XOM_adj_close_XOM']<br>[0.05 0.11 0.16 0.08 0.02 0.14 0.17 0.12 0.07 0.08]",
          "['JPM_adj_close_JPM' 'MCD_adj_close_MCD' 'MA_adj_close_MA'\n 'NEE_adj_close_NEE' 'NVDA_adj_close_NVDA' 'WMT_adj_close_WMT'\n 'CSCO_adj_close_CSCO' 'PEP_adj_close_PEP' 'LMT_adj_close_LMT'\n 'LLY_adj_close_LLY']<br>[0.1  0.03 0.04 0.15 0.08 0.15 0.15 0.08 0.15 0.07]",
          "['MSFT_adj_close_MSFT' 'UNH_adj_close_UNH' 'NKE_adj_close_NKE'\n 'CRM_adj_close_CRM' 'MCD_adj_close_MCD' 'AAPL_adj_close_AAPL'\n 'PFE_adj_close_PFE' 'NVDA_adj_close_NVDA' 'V_adj_close_V'\n 'WMT_adj_close_WMT']<br>[0.07 0.16 0.04 0.11 0.13 0.07 0.12 0.09 0.12 0.09]",
          "['LLY_adj_close_LLY' 'AMZN_adj_close_AMZN' 'GOOG_adj_close_GOOG'\n 'MSFT_adj_close_MSFT' 'JPM_adj_close_JPM' 'CVX_adj_close_CVX'\n 'BMY_adj_close_BMY' 'NEE_adj_close_NEE' 'NVDA_adj_close_NVDA'\n 'WMT_adj_close_WMT']<br>[0.03 0.11 0.03 0.13 0.09 0.13 0.07 0.12 0.18 0.11]",
          "['XOM_adj_close_XOM' 'META_adj_close_META' 'NEE_adj_close_NEE'\n 'LMT_adj_close_LMT' 'PFE_adj_close_PFE' 'UNH_adj_close_UNH'\n 'ABBV_adj_close_ABBV' 'PYPL_adj_close_PYPL' 'CVX_adj_close_CVX'\n 'NVDA_adj_close_NVDA']<br>[0.07 0.17 0.07 0.11 0.09 0.11 0.13 0.03 0.17 0.05]",
          "['LLY_adj_close_LLY' 'NVDA_adj_close_NVDA' 'WMT_adj_close_WMT'\n 'T_adj_close_T' 'WFC_adj_close_WFC' 'LMT_adj_close_LMT'\n 'ABBV_adj_close_ABBV' 'CVX_adj_close_CVX' 'UNH_adj_close_UNH'\n 'V_adj_close_V']<br>[0.03 0.12 0.17 0.03 0.04 0.14 0.09 0.18 0.01 0.17]",
          "['WFC_adj_close_WFC' 'AMZN_adj_close_AMZN' 'DHR_adj_close_DHR'\n 'CSCO_adj_close_CSCO' 'MA_adj_close_MA' 'TSLA_adj_close_TSLA'\n 'BAC_adj_close_BAC' 'ADBE_adj_close_ADBE' 'NEE_adj_close_NEE'\n 'NVDA_adj_close_NVDA']<br>[0.03 0.18 0.1  0.05 0.05 0.09 0.08 0.16 0.13 0.14]",
          "['BAC_adj_close_BAC' 'CMCSA_adj_close_CMCSA' 'NEE_adj_close_NEE'\n 'ACN_adj_close_ACN' 'TSLA_adj_close_TSLA' 'T_adj_close_T'\n 'MA_adj_close_MA' 'UNH_adj_close_UNH' 'ABT_adj_close_ABT'\n 'NVDA_adj_close_NVDA']<br>[0.03 0.06 0.1  0.04 0.05 0.09 0.19 0.22 0.09 0.13]",
          "['CSCO_adj_close_CSCO' 'WMT_adj_close_WMT' 'ADBE_adj_close_ADBE'\n 'DIS_adj_close_DIS' 'CVX_adj_close_CVX' 'UNH_adj_close_UNH'\n 'V_adj_close_V' 'GOOGL_adj_close_GOOGL' 'NEE_adj_close_NEE'\n 'MCD_adj_close_MCD']<br>[0.02 0.21 0.02 0.11 0.14 0.11 0.06 0.08 0.12 0.14]",
          "['T_adj_close_T' 'HD_adj_close_HD' 'JPM_adj_close_JPM' 'ACN_adj_close_ACN'\n 'BAC_adj_close_BAC' 'ABBV_adj_close_ABBV' 'LMT_adj_close_LMT'\n 'PYPL_adj_close_PYPL' 'NVDA_adj_close_NVDA' 'AMZN_adj_close_AMZN']<br>[0.01 0.22 0.01 0.06 0.12 0.1  0.08 0.15 0.2  0.05]",
          "['TSLA_adj_close_TSLA' 'HD_adj_close_HD' 'MSFT_adj_close_MSFT'\n 'CSCO_adj_close_CSCO' 'CVX_adj_close_CVX' 'V_adj_close_V'\n 'LMT_adj_close_LMT' 'META_adj_close_META' 'BAC_adj_close_BAC'\n 'NEE_adj_close_NEE']<br>[0.04 0.18 0.09 0.02 0.05 0.1  0.17 0.03 0.07 0.25]",
          "['NVDA_adj_close_NVDA' 'WFC_adj_close_WFC' 'MCD_adj_close_MCD'\n 'ORCL_adj_close_ORCL' 'NEE_adj_close_NEE' 'T_adj_close_T'\n 'DIS_adj_close_DIS' 'ACN_adj_close_ACN' 'COST_adj_close_COST'\n 'LMT_adj_close_LMT']<br>[0.1  0.06 0.2  0.08 0.12 0.04 0.21 0.02 0.07 0.11]",
          "['AMZN_adj_close_AMZN' 'NKE_adj_close_NKE' 'ABBV_adj_close_ABBV'\n 'UNH_adj_close_UNH' 'NEE_adj_close_NEE' 'BAC_adj_close_BAC'\n 'NVDA_adj_close_NVDA' 'MCD_adj_close_MCD' 'MA_adj_close_MA'\n 'PG_adj_close_PG']<br>[0.18 0.02 0.09 0.14 0.11 0.07 0.18 0.15 0.01 0.04]",
          "['INTC_adj_close_INTC' 'DIS_adj_close_DIS' 'DHR_adj_close_DHR'\n 'ABT_adj_close_ABT' 'CSCO_adj_close_CSCO' 'MSFT_adj_close_MSFT'\n 'HD_adj_close_HD' 'JNJ_adj_close_JNJ' 'AMZN_adj_close_AMZN'\n 'NVDA_adj_close_NVDA']<br>[0.09 0.08 0.1  0.   0.17 0.11 0.09 0.03 0.02 0.29]",
          "['BAC_adj_close_BAC' 'ABT_adj_close_ABT' 'NEE_adj_close_NEE'\n 'JNJ_adj_close_JNJ' 'NVDA_adj_close_NVDA' 'LMT_adj_close_LMT'\n 'HD_adj_close_HD' 'MSFT_adj_close_MSFT' 'PEP_adj_close_PEP'\n 'PFE_adj_close_PFE']<br>[0.15 0.03 0.16 0.03 0.08 0.12 0.06 0.06 0.19 0.11]",
          "['INTC_adj_close_INTC' 'PYPL_adj_close_PYPL' 'HD_adj_close_HD'\n 'NVDA_adj_close_NVDA' 'META_adj_close_META' 'ABT_adj_close_ABT'\n 'UA_adj_close_UA' 'ABBV_adj_close_ABBV' 'MA_adj_close_MA'\n 'BAC_adj_close_BAC']<br>[0.07 0.19 0.   0.23 0.06 0.02 0.03 0.14 0.18 0.08]",
          "['DHR_adj_close_DHR' 'NFLX_adj_close_NFLX' 'AAPL_adj_close_AAPL'\n 'GOOG_adj_close_GOOG' 'BAC_adj_close_BAC' 'DIS_adj_close_DIS'\n 'JPM_adj_close_JPM' 'PYPL_adj_close_PYPL' 'TSLA_adj_close_TSLA'\n 'NVDA_adj_close_NVDA']<br>[0.15 0.1  0.15 0.   0.03 0.07 0.16 0.14 0.02 0.18]",
          "['NEE_adj_close_NEE' 'PFE_adj_close_PFE' 'XOM_adj_close_XOM'\n 'NVDA_adj_close_NVDA' 'ABBV_adj_close_ABBV' 'HD_adj_close_HD'\n 'ORCL_adj_close_ORCL' 'CSCO_adj_close_CSCO' 'NFLX_adj_close_NFLX'\n 'JPM_adj_close_JPM']<br>[0.18 0.04 0.04 0.15 0.14 0.02 0.09 0.16 0.03 0.16]",
          "['COST_adj_close_COST' 'ABBV_adj_close_ABBV' 'PEP_adj_close_PEP'\n 'UNH_adj_close_UNH' 'MRK_adj_close_MRK' 'AMZN_adj_close_AMZN'\n 'NVDA_adj_close_NVDA' 'V_adj_close_V' 'HD_adj_close_HD'\n 'MSFT_adj_close_MSFT']<br>[0.13 0.08 0.05 0.13 0.09 0.04 0.13 0.12 0.13 0.11]",
          "['MSFT_adj_close_MSFT' 'MCD_adj_close_MCD' 'MDT_adj_close_MDT'\n 'JNJ_adj_close_JNJ' 'WMT_adj_close_WMT' 'GOOGL_adj_close_GOOGL'\n 'JPM_adj_close_JPM' 'NVDA_adj_close_NVDA' 'DHR_adj_close_DHR'\n 'HD_adj_close_HD']<br>[0.03 0.12 0.02 0.04 0.16 0.17 0.12 0.12 0.04 0.18]",
          "['MCD_adj_close_MCD' 'DHR_adj_close_DHR' 'XOM_adj_close_XOM'\n 'JPM_adj_close_JPM' 'NVDA_adj_close_NVDA' 'DIS_adj_close_DIS'\n 'LLY_adj_close_LLY' 'PEP_adj_close_PEP' 'UNH_adj_close_UNH'\n 'ABBV_adj_close_ABBV']<br>[0.18 0.07 0.11 0.19 0.16 0.05 0.06 0.02 0.12 0.04]",
          "['PEP_adj_close_PEP' 'NEE_adj_close_NEE' 'ORCL_adj_close_ORCL'\n 'JNJ_adj_close_JNJ' 'GOOGL_adj_close_GOOGL' 'PYPL_adj_close_PYPL'\n 'JPM_adj_close_JPM' 'CMCSA_adj_close_CMCSA' 'AAPL_adj_close_AAPL'\n 'UNH_adj_close_UNH']<br>[0.17 0.13 0.05 0.17 0.12 0.08 0.15 0.01 0.02 0.1 ]",
          "['ABBV_adj_close_ABBV' 'CVX_adj_close_CVX' 'INTC_adj_close_INTC'\n 'PYPL_adj_close_PYPL' 'AMZN_adj_close_AMZN' 'NVDA_adj_close_NVDA'\n 'V_adj_close_V' 'NEE_adj_close_NEE' 'MRK_adj_close_MRK'\n 'PEP_adj_close_PEP']<br>[0.3  0.13 0.05 0.03 0.05 0.27 0.05 0.01 0.1  0.01]",
          "['XOM_adj_close_XOM' 'NFLX_adj_close_NFLX' 'LMT_adj_close_LMT'\n 'AAPL_adj_close_AAPL' 'KO_adj_close_KO' 'BAC_adj_close_BAC'\n 'ADBE_adj_close_ADBE' 'CMCSA_adj_close_CMCSA' 'CVX_adj_close_CVX'\n 'NEE_adj_close_NEE']<br>[0.13 0.02 0.19 0.09 0.11 0.07 0.02 0.08 0.13 0.16]",
          "['MCD_adj_close_MCD' 'ABT_adj_close_ABT' 'XOM_adj_close_XOM'\n 'LLY_adj_close_LLY' 'NEE_adj_close_NEE' 'ORCL_adj_close_ORCL'\n 'LMT_adj_close_LMT' 'ACN_adj_close_ACN' 'VZ_adj_close_VZ'\n 'UNH_adj_close_UNH']<br>[0.13 0.06 0.2  0.09 0.15 0.12 0.12 0.02 0.05 0.05]",
          "['AAPL_adj_close_AAPL' 'NVDA_adj_close_NVDA' 'NEE_adj_close_NEE'\n 'PG_adj_close_PG' 'JPM_adj_close_JPM' 'PEP_adj_close_PEP'\n 'JNJ_adj_close_JNJ' 'CVX_adj_close_CVX' 'CMCSA_adj_close_CMCSA'\n 'LLY_adj_close_LLY']<br>[0.   0.05 0.17 0.14 0.16 0.08 0.14 0.12 0.05 0.1 ]",
          "['INTC_adj_close_INTC' 'CSCO_adj_close_CSCO' 'AMZN_adj_close_AMZN'\n 'AAPL_adj_close_AAPL' 'JPM_adj_close_JPM' 'NEE_adj_close_NEE'\n 'NVDA_adj_close_NVDA' 'UNH_adj_close_UNH' 'DIS_adj_close_DIS'\n 'T_adj_close_T']<br>[0.06 0.   0.06 0.18 0.07 0.17 0.16 0.14 0.07 0.08]",
          "['LMT_adj_close_LMT' 'BAC_adj_close_BAC' 'MCD_adj_close_MCD'\n 'GOOGL_adj_close_GOOGL' 'MDT_adj_close_MDT' 'UNH_adj_close_UNH'\n 'VZ_adj_close_VZ' 'CMCSA_adj_close_CMCSA' 'NVDA_adj_close_NVDA'\n 'PEP_adj_close_PEP']<br>[0.11 0.02 0.15 0.02 0.07 0.15 0.06 0.12 0.15 0.15]",
          "['JNJ_adj_close_JNJ' 'MA_adj_close_MA' 'MRK_adj_close_MRK'\n 'HD_adj_close_HD' 'UNH_adj_close_UNH' 'VZ_adj_close_VZ'\n 'DIS_adj_close_DIS' 'BAC_adj_close_BAC' 'ACN_adj_close_ACN'\n 'PG_adj_close_PG']<br>[0.17 0.03 0.04 0.09 0.17 0.05 0.11 0.04 0.13 0.18]",
          "['MCD_adj_close_MCD' 'NKE_adj_close_NKE' 'MA_adj_close_MA'\n 'CVX_adj_close_CVX' 'COST_adj_close_COST' 'ABT_adj_close_ABT'\n 'DHR_adj_close_DHR' 'NVDA_adj_close_NVDA' 'NEE_adj_close_NEE'\n 'LMT_adj_close_LMT']<br>[0.17 0.03 0.14 0.02 0.09 0.05 0.12 0.09 0.12 0.17]",
          "['AAPL_adj_close_AAPL' 'BAC_adj_close_BAC' 'UNH_adj_close_UNH'\n 'CVX_adj_close_CVX' 'JPM_adj_close_JPM' 'NVDA_adj_close_NVDA'\n 'LMT_adj_close_LMT' 'MSFT_adj_close_MSFT' 'DHR_adj_close_DHR'\n 'MCD_adj_close_MCD']<br>[0.17 0.16 0.06 0.12 0.01 0.19 0.12 0.12 0.03 0.02]",
          "['WFC_adj_close_WFC' 'NVDA_adj_close_NVDA' 'TMO_adj_close_TMO'\n 'WMT_adj_close_WMT' 'HD_adj_close_HD' 'PEP_adj_close_PEP' 'T_adj_close_T'\n 'BAC_adj_close_BAC' 'ABBV_adj_close_ABBV' 'MCD_adj_close_MCD']<br>[0.01 0.02 0.12 0.13 0.08 0.17 0.11 0.12 0.1  0.13]",
          "['GOOGL_adj_close_GOOGL' 'BAC_adj_close_BAC' 'NEE_adj_close_NEE'\n 'LMT_adj_close_LMT' 'AMZN_adj_close_AMZN' 'DHR_adj_close_DHR'\n 'NVDA_adj_close_NVDA' 'WMT_adj_close_WMT' 'JPM_adj_close_JPM'\n 'BMY_adj_close_BMY']<br>[0.07 0.   0.19 0.21 0.14 0.08 0.06 0.16 0.03 0.06]",
          "['CMCSA_adj_close_CMCSA' 'META_adj_close_META' 'DIS_adj_close_DIS'\n 'MA_adj_close_MA' 'WMT_adj_close_WMT' 'PFE_adj_close_PFE'\n 'ACN_adj_close_ACN' 'UNH_adj_close_UNH' 'DHR_adj_close_DHR'\n 'NVDA_adj_close_NVDA']<br>[0.16 0.02 0.05 0.15 0.05 0.05 0.16 0.22 0.04 0.12]",
          "['ABT_adj_close_ABT' 'JPM_adj_close_JPM' 'WMT_adj_close_WMT'\n 'AAPL_adj_close_AAPL' 'ORCL_adj_close_ORCL' 'GOOG_adj_close_GOOG'\n 'NVDA_adj_close_NVDA' 'BAC_adj_close_BAC' 'NEE_adj_close_NEE'\n 'HD_adj_close_HD']<br>[0.13 0.05 0.19 0.05 0.05 0.03 0.11 0.13 0.19 0.07]",
          "['JPM_adj_close_JPM' 'WMT_adj_close_WMT' 'MRK_adj_close_MRK'\n 'NVDA_adj_close_NVDA' 'UNH_adj_close_UNH' 'MCD_adj_close_MCD'\n 'ACN_adj_close_ACN' 'NFLX_adj_close_NFLX' 'ORCL_adj_close_ORCL'\n 'V_adj_close_V']<br>[0.13 0.11 0.11 0.09 0.14 0.15 0.1  0.04 0.08 0.05]",
          "['JNJ_adj_close_JNJ' 'MCD_adj_close_MCD' 'PEP_adj_close_PEP'\n 'PG_adj_close_PG' 'CMCSA_adj_close_CMCSA' 'HD_adj_close_HD'\n 'CVX_adj_close_CVX' 'NEE_adj_close_NEE' 'WFC_adj_close_WFC'\n 'JPM_adj_close_JPM']<br>[0.15 0.13 0.06 0.1  0.13 0.19 0.01 0.13 0.05 0.05]",
          "['LMT_adj_close_LMT' 'CRM_adj_close_CRM' 'NVDA_adj_close_NVDA'\n 'XOM_adj_close_XOM' 'QCOM_adj_close_QCOM' 'NKE_adj_close_NKE'\n 'BAC_adj_close_BAC' 'JPM_adj_close_JPM' 'NEE_adj_close_NEE'\n 'META_adj_close_META']<br>[0.01 0.07 0.24 0.03 0.04 0.02 0.19 0.13 0.16 0.11]",
          "['NEE_adj_close_NEE' 'NVDA_adj_close_NVDA' 'LMT_adj_close_LMT'\n 'PEP_adj_close_PEP' 'V_adj_close_V' 'MCD_adj_close_MCD'\n 'ABBV_adj_close_ABBV' 'JNJ_adj_close_JNJ' 'QCOM_adj_close_QCOM'\n 'ADBE_adj_close_ADBE']<br>[0.19 0.18 0.18 0.06 0.07 0.04 0.16 0.08 0.01 0.04]",
          "['JNJ_adj_close_JNJ' 'WMT_adj_close_WMT' 'HD_adj_close_HD'\n 'PEP_adj_close_PEP' 'PG_adj_close_PG' 'AAPL_adj_close_AAPL'\n 'LMT_adj_close_LMT' 'COST_adj_close_COST' 'NVDA_adj_close_NVDA'\n 'MCD_adj_close_MCD']<br>[0.18 0.03 0.03 0.09 0.22 0.08 0.18 0.02 0.08 0.08]",
          "['UNH_adj_close_UNH' 'LMT_adj_close_LMT' 'XOM_adj_close_XOM'\n 'NEE_adj_close_NEE' 'DIS_adj_close_DIS' 'CVX_adj_close_CVX'\n 'NVDA_adj_close_NVDA' 'GOOGL_adj_close_GOOGL' 'INTC_adj_close_INTC'\n 'META_adj_close_META']<br>[0.19 0.16 0.06 0.03 0.18 0.17 0.18 0.02 0.   0.01]",
          "['UNH_adj_close_UNH' 'CVX_adj_close_CVX' 'PG_adj_close_PG'\n 'MCD_adj_close_MCD' 'PFE_adj_close_PFE' 'BAC_adj_close_BAC'\n 'ORCL_adj_close_ORCL' 'MRK_adj_close_MRK' 'NEE_adj_close_NEE'\n 'CSCO_adj_close_CSCO']<br>[0.11 0.17 0.15 0.17 0.14 0.06 0.   0.06 0.14 0.  ]",
          "['HD_adj_close_HD' 'ADBE_adj_close_ADBE' 'MCD_adj_close_MCD'\n 'MA_adj_close_MA' 'PG_adj_close_PG' 'NVDA_adj_close_NVDA'\n 'UNH_adj_close_UNH' 'JPM_adj_close_JPM' 'LMT_adj_close_LMT'\n 'WMT_adj_close_WMT']<br>[0.1  0.   0.03 0.08 0.11 0.18 0.15 0.15 0.13 0.07]",
          "['NEE_adj_close_NEE' 'PG_adj_close_PG' 'MA_adj_close_MA'\n 'NVDA_adj_close_NVDA' 'HD_adj_close_HD' 'LMT_adj_close_LMT'\n 'CSCO_adj_close_CSCO' 'UNH_adj_close_UNH' 'COST_adj_close_COST'\n 'AMZN_adj_close_AMZN']<br>[0.12 0.11 0.15 0.06 0.17 0.08 0.05 0.15 0.01 0.1 ]",
          "['HD_adj_close_HD' 'ABT_adj_close_ABT' 'KO_adj_close_KO'\n 'LMT_adj_close_LMT' 'BAC_adj_close_BAC' 'NKE_adj_close_NKE'\n 'VZ_adj_close_VZ' 'NEE_adj_close_NEE' 'AMZN_adj_close_AMZN'\n 'PEP_adj_close_PEP']<br>[0.14 0.04 0.07 0.1  0.2  0.02 0.09 0.23 0.09 0.02]",
          "['UNH_adj_close_UNH' 'CVX_adj_close_CVX' 'PEP_adj_close_PEP'\n 'CMCSA_adj_close_CMCSA' 'DHR_adj_close_DHR' 'NVDA_adj_close_NVDA'\n 'MCD_adj_close_MCD' 'BAC_adj_close_BAC' 'MA_adj_close_MA'\n 'PYPL_adj_close_PYPL']<br>[0.03 0.08 0.02 0.03 0.07 0.16 0.04 0.24 0.17 0.16]",
          "['MDT_adj_close_MDT' 'MA_adj_close_MA' 'PFE_adj_close_PFE'\n 'NEE_adj_close_NEE' 'V_adj_close_V' 'NVDA_adj_close_NVDA'\n 'CVX_adj_close_CVX' 'JNJ_adj_close_JNJ' 'AAPL_adj_close_AAPL'\n 'UNH_adj_close_UNH']<br>[0.1  0.   0.12 0.16 0.03 0.06 0.18 0.09 0.12 0.14]",
          "['NEE_adj_close_NEE' 'LMT_adj_close_LMT' 'BAC_adj_close_BAC'\n 'ADBE_adj_close_ADBE' 'VZ_adj_close_VZ' 'AAPL_adj_close_AAPL'\n 'UNH_adj_close_UNH' 'META_adj_close_META' 'NVDA_adj_close_NVDA'\n 'INTC_adj_close_INTC']<br>[0.17 0.18 0.08 0.12 0.02 0.08 0.12 0.04 0.16 0.02]",
          "['PEP_adj_close_PEP' 'ABBV_adj_close_ABBV' 'UNH_adj_close_UNH'\n 'JPM_adj_close_JPM' 'ORCL_adj_close_ORCL' 'ADBE_adj_close_ADBE'\n 'AMZN_adj_close_AMZN' 'CSCO_adj_close_CSCO' 'NVDA_adj_close_NVDA'\n 'LLY_adj_close_LLY']<br>[0.16 0.17 0.14 0.12 0.05 0.01 0.04 0.07 0.08 0.17]",
          "['ABBV_adj_close_ABBV' 'ORCL_adj_close_ORCL' 'NVDA_adj_close_NVDA'\n 'GOOGL_adj_close_GOOGL' 'MDT_adj_close_MDT' 'VZ_adj_close_VZ'\n 'CSCO_adj_close_CSCO' 'BAC_adj_close_BAC' 'AMZN_adj_close_AMZN'\n 'DHR_adj_close_DHR']<br>[0.14 0.01 0.2  0.21 0.01 0.01 0.01 0.23 0.02 0.16]",
          "['NFLX_adj_close_NFLX' 'ABBV_adj_close_ABBV' 'NEE_adj_close_NEE'\n 'NVDA_adj_close_NVDA' 'UNH_adj_close_UNH' 'ACN_adj_close_ACN'\n 'JPM_adj_close_JPM' 'MCD_adj_close_MCD' 'META_adj_close_META'\n 'JNJ_adj_close_JNJ']<br>[0.09 0.07 0.14 0.05 0.1  0.03 0.14 0.13 0.12 0.13]",
          "['JNJ_adj_close_JNJ' 'PFE_adj_close_PFE' 'UNH_adj_close_UNH'\n 'CMCSA_adj_close_CMCSA' 'AMZN_adj_close_AMZN' 'BMY_adj_close_BMY'\n 'ACN_adj_close_ACN' 'DIS_adj_close_DIS' 'NVDA_adj_close_NVDA'\n 'CVX_adj_close_CVX']<br>[0.15 0.03 0.17 0.09 0.17 0.08 0.01 0.03 0.12 0.15]",
          "['GOOG_adj_close_GOOG' 'DIS_adj_close_DIS' 'JNJ_adj_close_JNJ'\n 'GOOGL_adj_close_GOOGL' 'MCD_adj_close_MCD' 'MDT_adj_close_MDT'\n 'LMT_adj_close_LMT' 'WMT_adj_close_WMT' 'NVDA_adj_close_NVDA'\n 'MSFT_adj_close_MSFT']<br>[0.08 0.11 0.14 0.06 0.16 0.   0.16 0.1  0.14 0.05]",
          "['ABBV_adj_close_ABBV' 'QCOM_adj_close_QCOM' 'HD_adj_close_HD'\n 'LMT_adj_close_LMT' 'MA_adj_close_MA' 'CVX_adj_close_CVX'\n 'JNJ_adj_close_JNJ' 'PEP_adj_close_PEP' 'ORCL_adj_close_ORCL'\n 'NVDA_adj_close_NVDA']<br>[0.03 0.06 0.09 0.18 0.08 0.19 0.11 0.06 0.06 0.13]",
          "['NKE_adj_close_NKE' 'HD_adj_close_HD' 'CMCSA_adj_close_CMCSA'\n 'MSFT_adj_close_MSFT' 'LMT_adj_close_LMT' 'NEE_adj_close_NEE'\n 'CVX_adj_close_CVX' 'PEP_adj_close_PEP' 'MCD_adj_close_MCD'\n 'BAC_adj_close_BAC']<br>[0.02 0.04 0.09 0.15 0.2  0.22 0.1  0.03 0.   0.16]",
          "['NVDA_adj_close_NVDA' 'COST_adj_close_COST' 'PEP_adj_close_PEP'\n 'JPM_adj_close_JPM' 'BAC_adj_close_BAC' 'MCD_adj_close_MCD'\n 'PG_adj_close_PG' 'NEE_adj_close_NEE' 'ORCL_adj_close_ORCL'\n 'AMZN_adj_close_AMZN']<br>[0.11 0.07 0.13 0.16 0.07 0.04 0.08 0.15 0.04 0.15]",
          "['NEE_adj_close_NEE' 'HD_adj_close_HD' 'MCD_adj_close_MCD'\n 'JPM_adj_close_JPM' 'XOM_adj_close_XOM' 'PEP_adj_close_PEP'\n 'JNJ_adj_close_JNJ' 'TMO_adj_close_TMO' 'DIS_adj_close_DIS'\n 'AAPL_adj_close_AAPL']<br>[0.15 0.12 0.15 0.04 0.07 0.04 0.12 0.12 0.04 0.15]",
          "['LMT_adj_close_LMT' 'V_adj_close_V' 'WMT_adj_close_WMT'\n 'ORCL_adj_close_ORCL' 'NEE_adj_close_NEE' 'MA_adj_close_MA'\n 'GOOGL_adj_close_GOOGL' 'UNH_adj_close_UNH' 'NVDA_adj_close_NVDA'\n 'PYPL_adj_close_PYPL']<br>[0.11 0.1  0.16 0.13 0.2  0.05 0.01 0.13 0.12 0.01]",
          "['MCD_adj_close_MCD' 'NEE_adj_close_NEE' 'PEP_adj_close_PEP'\n 'MA_adj_close_MA' 'LMT_adj_close_LMT' 'JPM_adj_close_JPM'\n 'DHR_adj_close_DHR' 'CVX_adj_close_CVX' 'BAC_adj_close_BAC'\n 'NVDA_adj_close_NVDA']<br>[0.09 0.13 0.02 0.13 0.1  0.11 0.03 0.16 0.14 0.1 ]",
          "['NEE_adj_close_NEE' 'COST_adj_close_COST' 'DIS_adj_close_DIS'\n 'ABBV_adj_close_ABBV' 'V_adj_close_V' 'GOOG_adj_close_GOOG'\n 'JNJ_adj_close_JNJ' 'LMT_adj_close_LMT' 'UNH_adj_close_UNH'\n 'BAC_adj_close_BAC']<br>[0.13 0.07 0.02 0.09 0.03 0.14 0.14 0.11 0.16 0.1 ]",
          "['HD_adj_close_HD' 'MA_adj_close_MA' 'NEE_adj_close_NEE'\n 'WMT_adj_close_WMT' 'ABBV_adj_close_ABBV' 'AMZN_adj_close_AMZN'\n 'T_adj_close_T' 'NVDA_adj_close_NVDA' 'MRK_adj_close_MRK'\n 'DIS_adj_close_DIS']<br>[0.19 0.05 0.16 0.18 0.1  0.05 0.01 0.17 0.02 0.06]",
          "['PEP_adj_close_PEP' 'ACN_adj_close_ACN' 'DIS_adj_close_DIS'\n 'BMY_adj_close_BMY' 'CVX_adj_close_CVX' 'MCD_adj_close_MCD'\n 'WMT_adj_close_WMT' 'KO_adj_close_KO' 'AAPL_adj_close_AAPL'\n 'JNJ_adj_close_JNJ']<br>[0.16 0.07 0.17 0.02 0.1  0.19 0.02 0.12 0.06 0.1 ]",
          "['COST_adj_close_COST' 'UNH_adj_close_UNH' 'KO_adj_close_KO'\n 'T_adj_close_T' 'MCD_adj_close_MCD' 'ABBV_adj_close_ABBV'\n 'PYPL_adj_close_PYPL' 'NVDA_adj_close_NVDA' 'JNJ_adj_close_JNJ'\n 'V_adj_close_V']<br>[0.04 0.2  0.03 0.08 0.08 0.14 0.04 0.16 0.07 0.16]",
          "['NEE_adj_close_NEE' 'PG_adj_close_PG' 'WFC_adj_close_WFC'\n 'NVDA_adj_close_NVDA' 'BAC_adj_close_BAC' 'CVX_adj_close_CVX'\n 'UNH_adj_close_UNH' 'META_adj_close_META' 'COST_adj_close_COST'\n 'ABT_adj_close_ABT']<br>[0.11 0.13 0.03 0.09 0.17 0.04 0.11 0.11 0.12 0.08]",
          "['BMY_adj_close_BMY' 'NEE_adj_close_NEE' 'LMT_adj_close_LMT'\n 'V_adj_close_V' 'AMZN_adj_close_AMZN' 'MCD_adj_close_MCD'\n 'WMT_adj_close_WMT' 'XOM_adj_close_XOM' 'CVX_adj_close_CVX'\n 'BAC_adj_close_BAC']<br>[0.05 0.19 0.16 0.05 0.09 0.04 0.08 0.07 0.08 0.18]",
          "['WMT_adj_close_WMT' 'DHR_adj_close_DHR' 'NEE_adj_close_NEE'\n 'MCD_adj_close_MCD' 'CMCSA_adj_close_CMCSA' 'ADBE_adj_close_ADBE'\n 'JNJ_adj_close_JNJ' 'CVX_adj_close_CVX' 'UNH_adj_close_UNH'\n 'AMZN_adj_close_AMZN']<br>[0.1  0.03 0.04 0.07 0.15 0.13 0.25 0.02 0.09 0.11]",
          "['MA_adj_close_MA' 'BAC_adj_close_BAC' 'NVDA_adj_close_NVDA'\n 'NFLX_adj_close_NFLX' 'QCOM_adj_close_QCOM' 'NEE_adj_close_NEE'\n 'CSCO_adj_close_CSCO' 'CRM_adj_close_CRM' 'ABBV_adj_close_ABBV'\n 'T_adj_close_T']<br>[0.03 0.03 0.34 0.04 0.15 0.   0.14 0.06 0.06 0.15]",
          "['MA_adj_close_MA' 'V_adj_close_V' 'DIS_adj_close_DIS' 'LLY_adj_close_LLY'\n 'AMZN_adj_close_AMZN' 'NVDA_adj_close_NVDA' 'UNH_adj_close_UNH'\n 'META_adj_close_META' 'PEP_adj_close_PEP' 'BAC_adj_close_BAC']<br>[0.11 0.01 0.06 0.04 0.1  0.26 0.21 0.   0.05 0.15]",
          "['JNJ_adj_close_JNJ' 'AAPL_adj_close_AAPL' 'INTC_adj_close_INTC'\n 'MA_adj_close_MA' 'LMT_adj_close_LMT' 'CMCSA_adj_close_CMCSA'\n 'XOM_adj_close_XOM' 'NEE_adj_close_NEE' 'BAC_adj_close_BAC'\n 'DIS_adj_close_DIS']<br>[0.31 0.11 0.08 0.1  0.15 0.06 0.05 0.11 0.   0.05]",
          "['T_adj_close_T' 'PEP_adj_close_PEP' 'LMT_adj_close_LMT'\n 'BMY_adj_close_BMY' 'JNJ_adj_close_JNJ' 'JPM_adj_close_JPM'\n 'NVDA_adj_close_NVDA' 'NEE_adj_close_NEE' 'DIS_adj_close_DIS'\n 'AMZN_adj_close_AMZN']<br>[0.09 0.   0.18 0.06 0.09 0.14 0.04 0.21 0.13 0.05]",
          "['ABBV_adj_close_ABBV' 'CVX_adj_close_CVX' 'ACN_adj_close_ACN'\n 'PYPL_adj_close_PYPL' 'UNH_adj_close_UNH' 'LMT_adj_close_LMT'\n 'NEE_adj_close_NEE' 'CRM_adj_close_CRM' 'WMT_adj_close_WMT'\n 'COST_adj_close_COST']<br>[0.09 0.12 0.06 0.01 0.16 0.09 0.15 0.12 0.13 0.07]",
          "['ABT_adj_close_ABT' 'T_adj_close_T' 'JPM_adj_close_JPM'\n 'JNJ_adj_close_JNJ' 'NFLX_adj_close_NFLX' 'NEE_adj_close_NEE'\n 'V_adj_close_V' 'PG_adj_close_PG' 'ABBV_adj_close_ABBV'\n 'LMT_adj_close_LMT']<br>[0.06 0.04 0.1  0.1  0.01 0.16 0.12 0.09 0.13 0.19]",
          "['PYPL_adj_close_PYPL' 'NFLX_adj_close_NFLX' 'UNH_adj_close_UNH'\n 'JPM_adj_close_JPM' 'NEE_adj_close_NEE' 'NVDA_adj_close_NVDA'\n 'WMT_adj_close_WMT' 'ABT_adj_close_ABT' 'CVX_adj_close_CVX'\n 'AMZN_adj_close_AMZN']<br>[0.08 0.01 0.17 0.16 0.15 0.07 0.01 0.17 0.12 0.05]",
          "['ACN_adj_close_ACN' 'HD_adj_close_HD' 'CMCSA_adj_close_CMCSA'\n 'NVDA_adj_close_NVDA' 'ABBV_adj_close_ABBV' 'BAC_adj_close_BAC'\n 'AMZN_adj_close_AMZN' 'UNH_adj_close_UNH' 'CVX_adj_close_CVX'\n 'META_adj_close_META']<br>[0.06 0.03 0.09 0.12 0.14 0.11 0.12 0.16 0.07 0.1 ]",
          "['ABBV_adj_close_ABBV' 'JNJ_adj_close_JNJ' 'MCD_adj_close_MCD'\n 'T_adj_close_T' 'WMT_adj_close_WMT' 'GOOG_adj_close_GOOG'\n 'NEE_adj_close_NEE' 'DIS_adj_close_DIS' 'BAC_adj_close_BAC'\n 'PEP_adj_close_PEP']<br>[0.08 0.09 0.13 0.11 0.1  0.18 0.14 0.03 0.07 0.07]",
          "['DHR_adj_close_DHR' 'LMT_adj_close_LMT' 'NVDA_adj_close_NVDA'\n 'JPM_adj_close_JPM' 'JNJ_adj_close_JNJ' 'UNH_adj_close_UNH'\n 'PYPL_adj_close_PYPL' 'CVX_adj_close_CVX' 'WMT_adj_close_WMT'\n 'TMO_adj_close_TMO']<br>[0.06 0.02 0.09 0.22 0.06 0.08 0.17 0.18 0.06 0.06]",
          "['XOM_adj_close_XOM' 'MCD_adj_close_MCD' 'JNJ_adj_close_JNJ'\n 'BAC_adj_close_BAC' 'PEP_adj_close_PEP' 'COST_adj_close_COST'\n 'NVDA_adj_close_NVDA' 'NKE_adj_close_NKE' 'CMCSA_adj_close_CMCSA'\n 'NEE_adj_close_NEE']<br>[0.17 0.14 0.11 0.07 0.07 0.11 0.   0.05 0.11 0.16]",
          "['WMT_adj_close_WMT' 'LLY_adj_close_LLY' 'NVDA_adj_close_NVDA'\n 'ABBV_adj_close_ABBV' 'NEE_adj_close_NEE' 'META_adj_close_META'\n 'CSCO_adj_close_CSCO' 'ACN_adj_close_ACN' 'JNJ_adj_close_JNJ'\n 'BAC_adj_close_BAC']<br>[0.24 0.08 0.07 0.08 0.16 0.12 0.03 0.03 0.06 0.13]",
          "['NEE_adj_close_NEE' 'QCOM_adj_close_QCOM' 'LLY_adj_close_LLY'\n 'BAC_adj_close_BAC' 'BMY_adj_close_BMY' 'LMT_adj_close_LMT'\n 'ORCL_adj_close_ORCL' 'META_adj_close_META' 'MCD_adj_close_MCD'\n 'UNH_adj_close_UNH']<br>[0.26 0.02 0.05 0.14 0.01 0.26 0.01 0.07 0.   0.18]",
          "['CVX_adj_close_CVX' 'MCD_adj_close_MCD' 'NEE_adj_close_NEE'\n 'PG_adj_close_PG' 'META_adj_close_META' 'LMT_adj_close_LMT'\n 'HD_adj_close_HD' 'WFC_adj_close_WFC' 'LLY_adj_close_LLY'\n 'PFE_adj_close_PFE']<br>[0.08 0.06 0.22 0.05 0.09 0.16 0.13 0.1  0.06 0.05]",
          "['BAC_adj_close_BAC' 'NVDA_adj_close_NVDA' 'UNH_adj_close_UNH'\n 'PFE_adj_close_PFE' 'WMT_adj_close_WMT' 'CVX_adj_close_CVX'\n 'AMZN_adj_close_AMZN' 'VZ_adj_close_VZ' 'LLY_adj_close_LLY'\n 'PEP_adj_close_PEP']<br>[0.09 0.14 0.14 0.11 0.07 0.08 0.14 0.05 0.07 0.11]",
          "['NEE_adj_close_NEE' 'LMT_adj_close_LMT' 'UNH_adj_close_UNH'\n 'T_adj_close_T' 'WMT_adj_close_WMT' 'MCD_adj_close_MCD'\n 'XOM_adj_close_XOM' 'NVDA_adj_close_NVDA' 'JNJ_adj_close_JNJ'\n 'KO_adj_close_KO']<br>[0.15 0.04 0.09 0.03 0.13 0.09 0.17 0.09 0.14 0.06]",
          "['PG_adj_close_PG' 'HD_adj_close_HD' 'ABT_adj_close_ABT' 'VZ_adj_close_VZ'\n 'CVX_adj_close_CVX' 'MCD_adj_close_MCD' 'WMT_adj_close_WMT'\n 'AMZN_adj_close_AMZN' 'DIS_adj_close_DIS' 'LMT_adj_close_LMT']<br>[0.02 0.18 0.04 0.03 0.16 0.17 0.1  0.09 0.14 0.08]",
          "['COST_adj_close_COST' 'WMT_adj_close_WMT' 'CVX_adj_close_CVX'\n 'XOM_adj_close_XOM' 'JPM_adj_close_JPM' 'NVDA_adj_close_NVDA'\n 'PFE_adj_close_PFE' 'UNH_adj_close_UNH' 'LMT_adj_close_LMT'\n 'AMZN_adj_close_AMZN']<br>[0.13 0.07 0.12 0.02 0.05 0.14 0.03 0.06 0.17 0.2 ]",
          "['JPM_adj_close_JPM' 'ABBV_adj_close_ABBV' 'MDT_adj_close_MDT'\n 'LLY_adj_close_LLY' 'UNH_adj_close_UNH' 'INTC_adj_close_INTC'\n 'CMCSA_adj_close_CMCSA' 'COST_adj_close_COST' 'JNJ_adj_close_JNJ'\n 'NVDA_adj_close_NVDA']<br>[0.12 0.12 0.01 0.21 0.17 0.01 0.01 0.06 0.01 0.27]",
          "['BAC_adj_close_BAC' 'ADBE_adj_close_ADBE' 'CRM_adj_close_CRM'\n 'LMT_adj_close_LMT' 'TMO_adj_close_TMO' 'NEE_adj_close_NEE'\n 'WMT_adj_close_WMT' 'HD_adj_close_HD' 'JNJ_adj_close_JNJ'\n 'META_adj_close_META']<br>[0.14 0.01 0.04 0.18 0.07 0.15 0.2  0.05 0.13 0.04]",
          "['CVX_adj_close_CVX' 'UNH_adj_close_UNH' 'MCD_adj_close_MCD'\n 'MRK_adj_close_MRK' 'CRM_adj_close_CRM' 'PG_adj_close_PG'\n 'ADBE_adj_close_ADBE' 'META_adj_close_META' 'WMT_adj_close_WMT'\n 'LMT_adj_close_LMT']<br>[0.16 0.21 0.12 0.02 0.05 0.03 0.   0.09 0.14 0.18]",
          "['NVDA_adj_close_NVDA' 'WMT_adj_close_WMT' 'NEE_adj_close_NEE'\n 'MCD_adj_close_MCD' 'COST_adj_close_COST' 'UNH_adj_close_UNH'\n 'META_adj_close_META' 'ADBE_adj_close_ADBE' 'LMT_adj_close_LMT'\n 'BAC_adj_close_BAC']<br>[0.02 0.13 0.12 0.11 0.13 0.11 0.1  0.01 0.16 0.12]",
          "['DHR_adj_close_DHR' 'LMT_adj_close_LMT' 'MCD_adj_close_MCD'\n 'NVDA_adj_close_NVDA' 'BAC_adj_close_BAC' 'AAPL_adj_close_AAPL'\n 'ABBV_adj_close_ABBV' 'WMT_adj_close_WMT' 'PEP_adj_close_PEP'\n 'MA_adj_close_MA']<br>[0.04 0.08 0.02 0.13 0.13 0.16 0.17 0.1  0.09 0.07]",
          "['PG_adj_close_PG' 'UNH_adj_close_UNH' 'ADBE_adj_close_ADBE'\n 'DIS_adj_close_DIS' 'JPM_adj_close_JPM' 'NEE_adj_close_NEE'\n 'PFE_adj_close_PFE' 'MSFT_adj_close_MSFT' 'GOOGL_adj_close_GOOGL'\n 'JNJ_adj_close_JNJ']<br>[0.1  0.14 0.01 0.11 0.11 0.19 0.1  0.08 0.05 0.12]",
          "['LLY_adj_close_LLY' 'JPM_adj_close_JPM' 'HD_adj_close_HD'\n 'MDT_adj_close_MDT' 'NEE_adj_close_NEE' 'DIS_adj_close_DIS'\n 'JNJ_adj_close_JNJ' 'KO_adj_close_KO' 'META_adj_close_META'\n 'COST_adj_close_COST']<br>[0.06 0.09 0.12 0.03 0.15 0.17 0.13 0.09 0.08 0.08]",
          "['QCOM_adj_close_QCOM' 'NVDA_adj_close_NVDA' 'PYPL_adj_close_PYPL'\n 'BMY_adj_close_BMY' 'BAC_adj_close_BAC' 'CSCO_adj_close_CSCO'\n 'CVX_adj_close_CVX' 'LLY_adj_close_LLY' 'AMZN_adj_close_AMZN'\n 'JPM_adj_close_JPM']<br>[0.06 0.25 0.07 0.03 0.18 0.13 0.02 0.   0.09 0.18]",
          "['NEE_adj_close_NEE' 'CVX_adj_close_CVX' 'ACN_adj_close_ACN'\n 'INTC_adj_close_INTC' 'JPM_adj_close_JPM' 'JNJ_adj_close_JNJ'\n 'DHR_adj_close_DHR' 'WMT_adj_close_WMT' 'AAPL_adj_close_AAPL'\n 'DIS_adj_close_DIS']<br>[0.22 0.13 0.06 0.04 0.1  0.11 0.04 0.13 0.14 0.04]",
          "['NVDA_adj_close_NVDA' 'COST_adj_close_COST' 'V_adj_close_V'\n 'AMZN_adj_close_AMZN' 'BAC_adj_close_BAC' 'ABBV_adj_close_ABBV'\n 'VZ_adj_close_VZ' 'PEP_adj_close_PEP' 'AAPL_adj_close_AAPL'\n 'JPM_adj_close_JPM']<br>[0.16 0.06 0.16 0.13 0.15 0.18 0.01 0.07 0.01 0.07]",
          "['DIS_adj_close_DIS' 'KO_adj_close_KO' 'AAPL_adj_close_AAPL'\n 'UNH_adj_close_UNH' 'VZ_adj_close_VZ' 'JNJ_adj_close_JNJ'\n 'PEP_adj_close_PEP' 'PFE_adj_close_PFE' 'HD_adj_close_HD'\n 'LMT_adj_close_LMT']<br>[0.09 0.12 0.07 0.15 0.02 0.07 0.14 0.14 0.15 0.06]",
          "['PEP_adj_close_PEP' 'LMT_adj_close_LMT' 'ABBV_adj_close_ABBV'\n 'WMT_adj_close_WMT' 'PG_adj_close_PG' 'HD_adj_close_HD'\n 'MCD_adj_close_MCD' 'T_adj_close_T' 'META_adj_close_META'\n 'CMCSA_adj_close_CMCSA']<br>[0.14 0.1  0.06 0.08 0.13 0.14 0.15 0.01 0.12 0.07]",
          "['AAPL_adj_close_AAPL' 'META_adj_close_META' 'JPM_adj_close_JPM'\n 'ACN_adj_close_ACN' 'UNH_adj_close_UNH' 'GOOG_adj_close_GOOG'\n 'PEP_adj_close_PEP' 'ABBV_adj_close_ABBV' 'NVDA_adj_close_NVDA'\n 'BAC_adj_close_BAC']<br>[0.07 0.11 0.16 0.06 0.13 0.03 0.   0.13 0.22 0.08]",
          "['T_adj_close_T' 'HD_adj_close_HD' 'JPM_adj_close_JPM' 'UNH_adj_close_UNH'\n 'NKE_adj_close_NKE' 'AMZN_adj_close_AMZN' 'NEE_adj_close_NEE'\n 'CVX_adj_close_CVX' 'NVDA_adj_close_NVDA' 'ADBE_adj_close_ADBE']<br>[0.02 0.07 0.13 0.17 0.01 0.04 0.14 0.14 0.1  0.17]",
          "['MRK_adj_close_MRK' 'NEE_adj_close_NEE' 'CRM_adj_close_CRM'\n 'DIS_adj_close_DIS' 'LMT_adj_close_LMT' 'MCD_adj_close_MCD'\n 'PFE_adj_close_PFE' 'WFC_adj_close_WFC' 'JNJ_adj_close_JNJ'\n 'CVX_adj_close_CVX']<br>[0.01 0.14 0.06 0.2  0.14 0.06 0.18 0.04 0.09 0.08]",
          "['PG_adj_close_PG' 'PFE_adj_close_PFE' 'TMO_adj_close_TMO'\n 'MCD_adj_close_MCD' 'NVDA_adj_close_NVDA' 'GOOG_adj_close_GOOG'\n 'WMT_adj_close_WMT' 'TSLA_adj_close_TSLA' 'WFC_adj_close_WFC'\n 'ADBE_adj_close_ADBE']<br>[0.05 0.05 0.05 0.11 0.36 0.06 0.12 0.01 0.03 0.16]",
          "['ACN_adj_close_ACN' 'XOM_adj_close_XOM' 'ABBV_adj_close_ABBV'\n 'AAPL_adj_close_AAPL' 'CMCSA_adj_close_CMCSA' 'JNJ_adj_close_JNJ'\n 'MCD_adj_close_MCD' 'LMT_adj_close_LMT' 'MA_adj_close_MA'\n 'UNH_adj_close_UNH']<br>[0.06 0.14 0.01 0.1  0.06 0.15 0.14 0.07 0.09 0.17]",
          "['AMZN_adj_close_AMZN' 'DIS_adj_close_DIS' 'LMT_adj_close_LMT'\n 'JPM_adj_close_JPM' 'JNJ_adj_close_JNJ' 'TMO_adj_close_TMO'\n 'PEP_adj_close_PEP' 'CVX_adj_close_CVX' 'MCD_adj_close_MCD'\n 'COST_adj_close_COST']<br>[0.11 0.08 0.17 0.13 0.11 0.01 0.21 0.05 0.   0.13]",
          "['JNJ_adj_close_JNJ' 'NEE_adj_close_NEE' 'GOOG_adj_close_GOOG'\n 'DIS_adj_close_DIS' 'CVX_adj_close_CVX' 'NVDA_adj_close_NVDA'\n 'LMT_adj_close_LMT' 'AAPL_adj_close_AAPL' 'UNH_adj_close_UNH'\n 'INTC_adj_close_INTC']<br>[0.14 0.09 0.05 0.07 0.13 0.13 0.13 0.07 0.1  0.08]",
          "['NVDA_adj_close_NVDA' 'UNH_adj_close_UNH' 'UA_adj_close_UA'\n 'BAC_adj_close_BAC' 'CMCSA_adj_close_CMCSA' 'DHR_adj_close_DHR'\n 'WMT_adj_close_WMT' 'NFLX_adj_close_NFLX' 'JPM_adj_close_JPM'\n 'ABBV_adj_close_ABBV']<br>[0.18 0.2  0.02 0.13 0.1  0.1  0.22 0.   0.05 0.  ]",
          "['HD_adj_close_HD' 'MDT_adj_close_MDT' 'AMZN_adj_close_AMZN'\n 'PEP_adj_close_PEP' 'META_adj_close_META' 'NVDA_adj_close_NVDA'\n 'MCD_adj_close_MCD' 'PG_adj_close_PG' 'WMT_adj_close_WMT'\n 'UNH_adj_close_UNH']<br>[0.08 0.04 0.07 0.03 0.09 0.1  0.14 0.09 0.15 0.2 ]"
         ],
         "type": "scatter",
         "x": [
          0.1046673087642131,
          0.11165592035218622,
          0.09361718364598418,
          0.09428069882899175,
          0.0982314432709679,
          0.0853875752955528,
          0.09159009395381472,
          0.09399996463296649,
          0.12078189101706827,
          0.1206893769559345,
          0.12590295590266593,
          0.09209959181348726,
          0.09807929947566064,
          0.08482669688458482,
          0.09322714402614946,
          0.10894335912184644,
          0.0912705974353386,
          0.099505030117379,
          0.09756118300008894,
          0.10655119704452262,
          0.09099852533961442,
          0.12124576706933887,
          0.08591498215394112,
          0.13948660387970113,
          0.1077191491333539,
          0.08245559130006395,
          0.07796348688059272,
          0.08260660196945921,
          0.13761160175975426,
          0.11010737771687626,
          0.08200616583898447,
          0.12389786100220426,
          0.09502329265983664,
          0.1191442273342653,
          0.12267541800477054,
          0.08587786201956543,
          0.08578644488391064,
          0.09310466127955784,
          0.1055357119977576,
          0.11897903678359972,
          0.08089346086175551,
          0.14318278407899948,
          0.11808135168604743,
          0.09138688000882526,
          0.0906206554852481,
          0.11413663676670596,
          0.09330968639090277,
          0.11140309530883634,
          0.10322209837178438,
          0.09835888497013723,
          0.0902162884259661,
          0.08181872003734782,
          0.12083085265493083,
          0.08964770427437449,
          0.1090319927027464,
          0.09610769993490043,
          0.08177144647031637,
          0.08911848206217188,
          0.0768678678488597,
          0.11273875654172408,
          0.11888475736081473,
          0.10554392795827126,
          0.09150357631695168,
          0.13952671120185042,
          0.08796574589846062,
          0.08549559284356213,
          0.09731833176129544,
          0.11758079340111259,
          0.08924921683471491,
          0.10111938637584145,
          0.11889894114240607,
          0.08894257591633623,
          0.1009668086682284,
          0.14101116571035716,
          0.11170545268052051,
          0.08066862024900785,
          0.1361836065617112,
          0.08326980928164582,
          0.08743403812907445,
          0.12303939620559888,
          0.16533645815641634,
          0.08752370176968906,
          0.16255796166621955,
          0.15321400612179517,
          0.11063281135943369,
          0.10856816671174414,
          0.10522617775812924,
          0.11056625301724671,
          0.0810669597087698,
          0.15149461915049225,
          0.078480235119137,
          0.07635890231161564,
          0.07909706311571547,
          0.11766947438100395,
          0.09989180601863525,
          0.07827270953614465,
          0.09819419940035932,
          0.13449229632428952,
          0.08719022628648626,
          0.09682065425105772,
          0.10841816875856435,
          0.10341711127523066,
          0.09970532478519531,
          0.0757070319505805,
          0.1510813899129612,
          0.11428921801592491,
          0.08295670822664157,
          0.10928884208103586,
          0.07863091235147446,
          0.11294128046097496,
          0.09054088898058231,
          0.08552113431629237,
          0.1416383040986942,
          0.08534997795801737,
          0.11718803632499115,
          0.09978467527283098,
          0.15450966196416335,
          0.09436627270163356,
          0.10056535077381758,
          0.09948505361314852,
          0.09922480695735275,
          0.085257759748537,
          0.10115061788149944,
          0.07790697467183982,
          0.09992930987248003,
          0.10218147213611221,
          0.08321225982619837,
          0.11197351440062875,
          0.07361638989504742,
          0.11159652964169617,
          0.09963627523980813,
          0.0831494572651319,
          0.08639440243902985,
          0.1844832040200815,
          0.1518393957024941,
          0.07775538019990863,
          0.07874903429163096,
          0.08223313996837912,
          0.08219784615909999,
          0.09911407058694766,
          0.11646568257542919,
          0.07828881001204609,
          0.10915970446671457,
          0.07532964739891028,
          0.09392078817309917,
          0.08629084639875655,
          0.07509965588334871,
          0.10361139707716467,
          0.08166446502516056,
          0.0785645271124934,
          0.10919620948905595,
          0.14598409693083886,
          0.08244541513436236,
          0.08153463355043346,
          0.08464071468910417,
          0.11458695659363434,
          0.07759862889067887,
          0.07424729589639825,
          0.16605082247874553,
          0.07944929852467132,
          0.13136075623032561,
          0.07414165676655744,
          0.07740278433607237,
          0.14434803652052214,
          0.10340545432934684,
          0.07370727344749363,
          0.18188219498564348,
          0.07861853186008556,
          0.07824760306439843,
          0.09608495927052949,
          0.13089913156251784,
          0.09692855081869423
         ],
         "y": [
          0.19511427051316127,
          0.2524619167479192,
          0.1571124225315165,
          0.19863550404602281,
          0.2154673588549658,
          0.16472740686121126,
          0.16681396129067794,
          0.22098291947464546,
          0.3104830960180796,
          0.27775584092759015,
          0.33608282165699604,
          0.18540804380130185,
          0.2685465309440492,
          0.09767291020781206,
          0.23646223621669188,
          0.27452708179200475,
          0.182911969833876,
          0.27954985983439,
          0.2554031259272581,
          0.28702189314057003,
          0.2123275947522395,
          0.3237448652882993,
          0.18759589174043673,
          0.39238777466485275,
          0.28881407472578047,
          0.1640869801669654,
          0.15541183339297004,
          0.1895507229604535,
          0.3850744629164131,
          0.3097296717827586,
          0.19917015667577356,
          0.33285749381331753,
          0.25143070597069683,
          0.32104293449347243,
          0.38049516697768276,
          0.21004588301560528,
          0.21749364503487084,
          0.2216477300097097,
          0.28131968301887866,
          0.3234512228100221,
          0.18069318100933293,
          0.4025324585639035,
          0.3321355788344433,
          0.22159656374023412,
          0.22657796927626728,
          0.343760708205629,
          0.2486490763857279,
          0.3135716343161981,
          0.286658496260926,
          0.28459240553043863,
          0.24660972011504492,
          0.1902243985268537,
          0.35302296645681486,
          0.21984550439247166,
          0.33011592332217343,
          0.25763950033758815,
          0.21028331366122066,
          0.24735021902424179,
          0.1828287602049164,
          0.34994948226472555,
          0.367456564718076,
          0.30109017148466255,
          0.2537433208367541,
          0.4110529037288678,
          0.22826519212108068,
          0.21264134171321297,
          0.2626856961288275,
          0.3584210094953429,
          0.28075979730629863,
          0.2941895694973574,
          0.37338289515089884,
          0.26567684050820595,
          0.32367297732440975,
          0.4120073636288612,
          0.33848472110168887,
          0.21278533797269733,
          0.4395824208927573,
          0.23996992767817793,
          0.2402419301094677,
          0.4169819849686993,
          0.45773886867732955,
          0.29247286336180917,
          0.4486562492041081,
          0.4396578679110693,
          0.34493886656879463,
          0.3344090343878106,
          0.33026496502840186,
          0.3604917241363294,
          0.21851747476007088,
          0.4552346256708968,
          0.19581932105751246,
          0.1490751513766499,
          0.22816062684510421,
          0.3627330521774758,
          0.3096319930329417,
          0.18717460340201436,
          0.2984033672645126,
          0.4307668515540092,
          0.2429548225507172,
          0.29775028260516956,
          0.337816040787727,
          0.3340437363299316,
          0.2991484528457477,
          0.18769005941233377,
          0.4492422163234471,
          0.37253069941037625,
          0.24212735291174334,
          0.33828900283384455,
          0.19592338903851061,
          0.382990046695992,
          0.2930014285100347,
          0.24350664712563613,
          0.44022473961290054,
          0.25144352834967626,
          0.3912457017355122,
          0.3018266171793411,
          0.46140734813403106,
          0.3024400009675199,
          0.3186125080604295,
          0.30343318395670216,
          0.3085924219189644,
          0.25144217138503616,
          0.32807048629824054,
          0.19582704722442176,
          0.3112883673412351,
          0.3478795507404666,
          0.24818942990631918,
          0.36537714783610037,
          0.15096045094084493,
          0.36059941041117066,
          0.30942559965997585,
          0.2514416729444621,
          0.2533206838284785,
          0.46838177562702354,
          0.4808797531067615,
          0.1999275175467944,
          0.22684056957725246,
          0.23615541448539445,
          0.22851038132774765,
          0.32292778843047326,
          0.3922552085234513,
          0.20459024076865717,
          0.3501739299022748,
          0.16268309342995851,
          0.30412686453579724,
          0.25807734111112823,
          0.19411147135055126,
          0.34789841546959716,
          0.2439201681970208,
          0.21036933485124143,
          0.36617523109130357,
          0.4438286341329538,
          0.24893978826403465,
          0.23689342162971347,
          0.2670423912878606,
          0.3877794749324134,
          0.2029795994459547,
          0.16624827451997296,
          0.48444447888712705,
          0.2304859590368691,
          0.4217308061430523,
          0.17582085427302374,
          0.1994218544547542,
          0.4614222631532134,
          0.35082147693774546,
          0.16253803491536534,
          0.499904420626465,
          0.21284078049967042,
          0.21261374510556663,
          0.31304660779440713,
          0.41744578776253943,
          0.31492976174872034
         ]
        }
       ],
       "layout": {
        "template": {
         "data": {
          "bar": [
           {
            "error_x": {
             "color": "#2a3f5f"
            },
            "error_y": {
             "color": "#2a3f5f"
            },
            "marker": {
             "line": {
              "color": "white",
              "width": 0.5
             },
             "pattern": {
              "fillmode": "overlay",
              "size": 10,
              "solidity": 0.2
             }
            },
            "type": "bar"
           }
          ],
          "barpolar": [
           {
            "marker": {
             "line": {
              "color": "white",
              "width": 0.5
             },
             "pattern": {
              "fillmode": "overlay",
              "size": 10,
              "solidity": 0.2
             }
            },
            "type": "barpolar"
           }
          ],
          "carpet": [
           {
            "aaxis": {
             "endlinecolor": "#2a3f5f",
             "gridcolor": "#C8D4E3",
             "linecolor": "#C8D4E3",
             "minorgridcolor": "#C8D4E3",
             "startlinecolor": "#2a3f5f"
            },
            "baxis": {
             "endlinecolor": "#2a3f5f",
             "gridcolor": "#C8D4E3",
             "linecolor": "#C8D4E3",
             "minorgridcolor": "#C8D4E3",
             "startlinecolor": "#2a3f5f"
            },
            "type": "carpet"
           }
          ],
          "choropleth": [
           {
            "colorbar": {
             "outlinewidth": 0,
             "ticks": ""
            },
            "type": "choropleth"
           }
          ],
          "contour": [
           {
            "colorbar": {
             "outlinewidth": 0,
             "ticks": ""
            },
            "colorscale": [
             [
              0,
              "#0d0887"
             ],
             [
              0.1111111111111111,
              "#46039f"
             ],
             [
              0.2222222222222222,
              "#7201a8"
             ],
             [
              0.3333333333333333,
              "#9c179e"
             ],
             [
              0.4444444444444444,
              "#bd3786"
             ],
             [
              0.5555555555555556,
              "#d8576b"
             ],
             [
              0.6666666666666666,
              "#ed7953"
             ],
             [
              0.7777777777777778,
              "#fb9f3a"
             ],
             [
              0.8888888888888888,
              "#fdca26"
             ],
             [
              1,
              "#f0f921"
             ]
            ],
            "type": "contour"
           }
          ],
          "contourcarpet": [
           {
            "colorbar": {
             "outlinewidth": 0,
             "ticks": ""
            },
            "type": "contourcarpet"
           }
          ],
          "heatmap": [
           {
            "colorbar": {
             "outlinewidth": 0,
             "ticks": ""
            },
            "colorscale": [
             [
              0,
              "#0d0887"
             ],
             [
              0.1111111111111111,
              "#46039f"
             ],
             [
              0.2222222222222222,
              "#7201a8"
             ],
             [
              0.3333333333333333,
              "#9c179e"
             ],
             [
              0.4444444444444444,
              "#bd3786"
             ],
             [
              0.5555555555555556,
              "#d8576b"
             ],
             [
              0.6666666666666666,
              "#ed7953"
             ],
             [
              0.7777777777777778,
              "#fb9f3a"
             ],
             [
              0.8888888888888888,
              "#fdca26"
             ],
             [
              1,
              "#f0f921"
             ]
            ],
            "type": "heatmap"
           }
          ],
          "heatmapgl": [
           {
            "colorbar": {
             "outlinewidth": 0,
             "ticks": ""
            },
            "colorscale": [
             [
              0,
              "#0d0887"
             ],
             [
              0.1111111111111111,
              "#46039f"
             ],
             [
              0.2222222222222222,
              "#7201a8"
             ],
             [
              0.3333333333333333,
              "#9c179e"
             ],
             [
              0.4444444444444444,
              "#bd3786"
             ],
             [
              0.5555555555555556,
              "#d8576b"
             ],
             [
              0.6666666666666666,
              "#ed7953"
             ],
             [
              0.7777777777777778,
              "#fb9f3a"
             ],
             [
              0.8888888888888888,
              "#fdca26"
             ],
             [
              1,
              "#f0f921"
             ]
            ],
            "type": "heatmapgl"
           }
          ],
          "histogram": [
           {
            "marker": {
             "pattern": {
              "fillmode": "overlay",
              "size": 10,
              "solidity": 0.2
             }
            },
            "type": "histogram"
           }
          ],
          "histogram2d": [
           {
            "colorbar": {
             "outlinewidth": 0,
             "ticks": ""
            },
            "colorscale": [
             [
              0,
              "#0d0887"
             ],
             [
              0.1111111111111111,
              "#46039f"
             ],
             [
              0.2222222222222222,
              "#7201a8"
             ],
             [
              0.3333333333333333,
              "#9c179e"
             ],
             [
              0.4444444444444444,
              "#bd3786"
             ],
             [
              0.5555555555555556,
              "#d8576b"
             ],
             [
              0.6666666666666666,
              "#ed7953"
             ],
             [
              0.7777777777777778,
              "#fb9f3a"
             ],
             [
              0.8888888888888888,
              "#fdca26"
             ],
             [
              1,
              "#f0f921"
             ]
            ],
            "type": "histogram2d"
           }
          ],
          "histogram2dcontour": [
           {
            "colorbar": {
             "outlinewidth": 0,
             "ticks": ""
            },
            "colorscale": [
             [
              0,
              "#0d0887"
             ],
             [
              0.1111111111111111,
              "#46039f"
             ],
             [
              0.2222222222222222,
              "#7201a8"
             ],
             [
              0.3333333333333333,
              "#9c179e"
             ],
             [
              0.4444444444444444,
              "#bd3786"
             ],
             [
              0.5555555555555556,
              "#d8576b"
             ],
             [
              0.6666666666666666,
              "#ed7953"
             ],
             [
              0.7777777777777778,
              "#fb9f3a"
             ],
             [
              0.8888888888888888,
              "#fdca26"
             ],
             [
              1,
              "#f0f921"
             ]
            ],
            "type": "histogram2dcontour"
           }
          ],
          "mesh3d": [
           {
            "colorbar": {
             "outlinewidth": 0,
             "ticks": ""
            },
            "type": "mesh3d"
           }
          ],
          "parcoords": [
           {
            "line": {
             "colorbar": {
              "outlinewidth": 0,
              "ticks": ""
             }
            },
            "type": "parcoords"
           }
          ],
          "pie": [
           {
            "automargin": true,
            "type": "pie"
           }
          ],
          "scatter": [
           {
            "fillpattern": {
             "fillmode": "overlay",
             "size": 10,
             "solidity": 0.2
            },
            "type": "scatter"
           }
          ],
          "scatter3d": [
           {
            "line": {
             "colorbar": {
              "outlinewidth": 0,
              "ticks": ""
             }
            },
            "marker": {
             "colorbar": {
              "outlinewidth": 0,
              "ticks": ""
             }
            },
            "type": "scatter3d"
           }
          ],
          "scattercarpet": [
           {
            "marker": {
             "colorbar": {
              "outlinewidth": 0,
              "ticks": ""
             }
            },
            "type": "scattercarpet"
           }
          ],
          "scattergeo": [
           {
            "marker": {
             "colorbar": {
              "outlinewidth": 0,
              "ticks": ""
             }
            },
            "type": "scattergeo"
           }
          ],
          "scattergl": [
           {
            "marker": {
             "colorbar": {
              "outlinewidth": 0,
              "ticks": ""
             }
            },
            "type": "scattergl"
           }
          ],
          "scattermapbox": [
           {
            "marker": {
             "colorbar": {
              "outlinewidth": 0,
              "ticks": ""
             }
            },
            "type": "scattermapbox"
           }
          ],
          "scatterpolar": [
           {
            "marker": {
             "colorbar": {
              "outlinewidth": 0,
              "ticks": ""
             }
            },
            "type": "scatterpolar"
           }
          ],
          "scatterpolargl": [
           {
            "marker": {
             "colorbar": {
              "outlinewidth": 0,
              "ticks": ""
             }
            },
            "type": "scatterpolargl"
           }
          ],
          "scatterternary": [
           {
            "marker": {
             "colorbar": {
              "outlinewidth": 0,
              "ticks": ""
             }
            },
            "type": "scatterternary"
           }
          ],
          "surface": [
           {
            "colorbar": {
             "outlinewidth": 0,
             "ticks": ""
            },
            "colorscale": [
             [
              0,
              "#0d0887"
             ],
             [
              0.1111111111111111,
              "#46039f"
             ],
             [
              0.2222222222222222,
              "#7201a8"
             ],
             [
              0.3333333333333333,
              "#9c179e"
             ],
             [
              0.4444444444444444,
              "#bd3786"
             ],
             [
              0.5555555555555556,
              "#d8576b"
             ],
             [
              0.6666666666666666,
              "#ed7953"
             ],
             [
              0.7777777777777778,
              "#fb9f3a"
             ],
             [
              0.8888888888888888,
              "#fdca26"
             ],
             [
              1,
              "#f0f921"
             ]
            ],
            "type": "surface"
           }
          ],
          "table": [
           {
            "cells": {
             "fill": {
              "color": "#EBF0F8"
             },
             "line": {
              "color": "white"
             }
            },
            "header": {
             "fill": {
              "color": "#C8D4E3"
             },
             "line": {
              "color": "white"
             }
            },
            "type": "table"
           }
          ]
         },
         "layout": {
          "annotationdefaults": {
           "arrowcolor": "#2a3f5f",
           "arrowhead": 0,
           "arrowwidth": 1
          },
          "autotypenumbers": "strict",
          "coloraxis": {
           "colorbar": {
            "outlinewidth": 0,
            "ticks": ""
           }
          },
          "colorscale": {
           "diverging": [
            [
             0,
             "#8e0152"
            ],
            [
             0.1,
             "#c51b7d"
            ],
            [
             0.2,
             "#de77ae"
            ],
            [
             0.3,
             "#f1b6da"
            ],
            [
             0.4,
             "#fde0ef"
            ],
            [
             0.5,
             "#f7f7f7"
            ],
            [
             0.6,
             "#e6f5d0"
            ],
            [
             0.7,
             "#b8e186"
            ],
            [
             0.8,
             "#7fbc41"
            ],
            [
             0.9,
             "#4d9221"
            ],
            [
             1,
             "#276419"
            ]
           ],
           "sequential": [
            [
             0,
             "#0d0887"
            ],
            [
             0.1111111111111111,
             "#46039f"
            ],
            [
             0.2222222222222222,
             "#7201a8"
            ],
            [
             0.3333333333333333,
             "#9c179e"
            ],
            [
             0.4444444444444444,
             "#bd3786"
            ],
            [
             0.5555555555555556,
             "#d8576b"
            ],
            [
             0.6666666666666666,
             "#ed7953"
            ],
            [
             0.7777777777777778,
             "#fb9f3a"
            ],
            [
             0.8888888888888888,
             "#fdca26"
            ],
            [
             1,
             "#f0f921"
            ]
           ],
           "sequentialminus": [
            [
             0,
             "#0d0887"
            ],
            [
             0.1111111111111111,
             "#46039f"
            ],
            [
             0.2222222222222222,
             "#7201a8"
            ],
            [
             0.3333333333333333,
             "#9c179e"
            ],
            [
             0.4444444444444444,
             "#bd3786"
            ],
            [
             0.5555555555555556,
             "#d8576b"
            ],
            [
             0.6666666666666666,
             "#ed7953"
            ],
            [
             0.7777777777777778,
             "#fb9f3a"
            ],
            [
             0.8888888888888888,
             "#fdca26"
            ],
            [
             1,
             "#f0f921"
            ]
           ]
          },
          "colorway": [
           "#636efa",
           "#EF553B",
           "#00cc96",
           "#ab63fa",
           "#FFA15A",
           "#19d3f3",
           "#FF6692",
           "#B6E880",
           "#FF97FF",
           "#FECB52"
          ],
          "font": {
           "color": "#2a3f5f"
          },
          "geo": {
           "bgcolor": "white",
           "lakecolor": "white",
           "landcolor": "white",
           "showlakes": true,
           "showland": true,
           "subunitcolor": "#C8D4E3"
          },
          "hoverlabel": {
           "align": "left"
          },
          "hovermode": "closest",
          "mapbox": {
           "style": "light"
          },
          "paper_bgcolor": "white",
          "plot_bgcolor": "white",
          "polar": {
           "angularaxis": {
            "gridcolor": "#EBF0F8",
            "linecolor": "#EBF0F8",
            "ticks": ""
           },
           "bgcolor": "white",
           "radialaxis": {
            "gridcolor": "#EBF0F8",
            "linecolor": "#EBF0F8",
            "ticks": ""
           }
          },
          "scene": {
           "xaxis": {
            "backgroundcolor": "white",
            "gridcolor": "#DFE8F3",
            "gridwidth": 2,
            "linecolor": "#EBF0F8",
            "showbackground": true,
            "ticks": "",
            "zerolinecolor": "#EBF0F8"
           },
           "yaxis": {
            "backgroundcolor": "white",
            "gridcolor": "#DFE8F3",
            "gridwidth": 2,
            "linecolor": "#EBF0F8",
            "showbackground": true,
            "ticks": "",
            "zerolinecolor": "#EBF0F8"
           },
           "zaxis": {
            "backgroundcolor": "white",
            "gridcolor": "#DFE8F3",
            "gridwidth": 2,
            "linecolor": "#EBF0F8",
            "showbackground": true,
            "ticks": "",
            "zerolinecolor": "#EBF0F8"
           }
          },
          "shapedefaults": {
           "line": {
            "color": "#2a3f5f"
           }
          },
          "ternary": {
           "aaxis": {
            "gridcolor": "#DFE8F3",
            "linecolor": "#A2B1C6",
            "ticks": ""
           },
           "baxis": {
            "gridcolor": "#DFE8F3",
            "linecolor": "#A2B1C6",
            "ticks": ""
           },
           "bgcolor": "white",
           "caxis": {
            "gridcolor": "#DFE8F3",
            "linecolor": "#A2B1C6",
            "ticks": ""
           }
          },
          "title": {
           "x": 0.05
          },
          "xaxis": {
           "automargin": true,
           "gridcolor": "#EBF0F8",
           "linecolor": "#EBF0F8",
           "ticks": "",
           "title": {
            "standoff": 15
           },
           "zerolinecolor": "#EBF0F8",
           "zerolinewidth": 2
          },
          "yaxis": {
           "automargin": true,
           "gridcolor": "#EBF0F8",
           "linecolor": "#EBF0F8",
           "ticks": "",
           "title": {
            "standoff": 15
           },
           "zerolinecolor": "#EBF0F8",
           "zerolinewidth": 2
          }
         }
        },
        "title": {
         "text": "Sample of Random Portfolios"
        },
        "xaxis": {
         "title": {
          "text": "Annualised Risk (Volatility)"
         }
        },
        "yaxis": {
         "title": {
          "text": "Annualised Return"
         }
        }
       }
      }
     },
     "metadata": {},
     "output_type": "display_data"
    }
   ],
   "source": [
    "#-- Plot the risk vs. return of randomly generated portfolios\n",
    "#-- Convert the list from before into an array for easy plotting\n",
    "mean_variance_pairs = np.array(mean_variance_pairs)\n",
    "\n",
    "risk_free_rate=0 #-- Include risk free rate here\n",
    "\n",
    "fig = go.Figure()\n",
    "fig.add_trace(go.Scatter(x=mean_variance_pairs[:,1]**0.5, y=mean_variance_pairs[:,0], \n",
    "                      marker=dict(color=(mean_variance_pairs[:,0]-risk_free_rate)/(mean_variance_pairs[:,1]**0.5), \n",
    "                                  showscale=True, \n",
    "                                  size=7,\n",
    "                                  line=dict(width=1),\n",
    "                                  colorscale=\"RdBu\",\n",
    "                                  colorbar=dict(title=\"Sharpe<br>Ratio\")\n",
    "                                 ), \n",
    "                      mode='markers',\n",
    "                      text=[str(np.array(tickers_list[i])) + \"<br>\" + str(np.array(weights_list[i]).round(2)) for i in range(len(tickers_list))]))\n",
    "fig.update_layout(template='plotly_white',\n",
    "    xaxis=dict(title='Annualised Risk (Volatility)'),\n",
    "    yaxis=dict(title='Annualised Return'),\n",
    "    title='Sample of Random Portfolios'\n",
    "    )"
   ]
  }
 ],
 "metadata": {
  "kernelspec": {
   "display_name": "roboABasic",
   "language": "python",
   "name": "python3"
  },
  "language_info": {
   "codemirror_mode": {
    "name": "ipython",
    "version": 3
   },
   "file_extension": ".py",
   "mimetype": "text/x-python",
   "name": "python",
   "nbconvert_exporter": "python",
   "pygments_lexer": "ipython3",
   "version": "3.10.15"
  }
 },
 "nbformat": 4,
 "nbformat_minor": 2
}
