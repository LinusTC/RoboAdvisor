{
 "cells": [
  {
   "cell_type": "markdown",
   "metadata": {},
   "source": [
    "# Markowitz Efficient Frontier"
   ]
  },
  {
   "cell_type": "markdown",
   "metadata": {},
   "source": [
    "## 1. Imports"
   ]
  },
  {
   "cell_type": "code",
   "execution_count": 1,
   "metadata": {},
   "outputs": [],
   "source": [
    "import pandas as pd\n",
    "import numpy as np\n",
    "import yfinance as yf\n",
    "from itertools import combinations\n",
    "from fetchData import fetch_data_yf"
   ]
  },
  {
   "cell_type": "markdown",
   "metadata": {},
   "source": [
    "## 2. Fetch Data"
   ]
  },
  {
   "cell_type": "code",
   "execution_count": 2,
   "metadata": {},
   "outputs": [
    {
     "name": "stderr",
     "output_type": "stream",
     "text": [
      "[*********************100%***********************]  1 of 1 completed\n",
      "[*********************100%***********************]  1 of 1 completed\n",
      "[*********************100%***********************]  1 of 1 completed\n",
      "[*********************100%***********************]  1 of 1 completed\n",
      "[*********************100%***********************]  1 of 1 completed"
     ]
    },
    {
     "name": "stdout",
     "output_type": "stream",
     "text": [
      "Omitted assets:  []\n",
      "Time to fetch data: 15.89 seconds\n"
     ]
    },
    {
     "name": "stderr",
     "output_type": "stream",
     "text": [
      "\n"
     ]
    }
   ],
   "source": [
    "assets = [\"AAPL\", \"GOOGL\", \"MSFT\", \"AMZN\", \"NFLX\"]\n",
    "auth_token = None\n",
    "portfolio_size = 5\n",
    "max_iters = None\n",
    "\n",
    "raw_data, sim_combinations, errors = fetch_data_yf(assets, auth_token, portfolio_size, max_iters)\n",
    "\n"
   ]
  },
  {
   "cell_type": "markdown",
   "metadata": {},
   "source": [
    "## 3. Mean and Covariance"
   ]
  },
  {
   "cell_type": "code",
   "execution_count": 3,
   "metadata": {},
   "outputs": [
    {
     "data": {
      "text/plain": [
       "AAPL_adj_close_AAPL     -0.021126\n",
       "GOOGL_adj_close_GOOGL    0.386245\n",
       "MSFT_adj_close_MSFT      0.198643\n",
       "AMZN_adj_close_AMZN      0.787368\n",
       "NFLX_adj_close_NFLX      0.833845\n",
       "dtype: float64"
      ]
     },
     "execution_count": 3,
     "metadata": {},
     "output_type": "execute_result"
    }
   ],
   "source": [
    "sim_combinations[0][2]\n"
   ]
  },
  {
   "cell_type": "code",
   "execution_count": 4,
   "metadata": {},
   "outputs": [
    {
     "data": {
      "text/html": [
       "<div>\n",
       "<style scoped>\n",
       "    .dataframe tbody tr th:only-of-type {\n",
       "        vertical-align: middle;\n",
       "    }\n",
       "\n",
       "    .dataframe tbody tr th {\n",
       "        vertical-align: top;\n",
       "    }\n",
       "\n",
       "    .dataframe thead th {\n",
       "        text-align: right;\n",
       "    }\n",
       "</style>\n",
       "<table border=\"1\" class=\"dataframe\">\n",
       "  <thead>\n",
       "    <tr style=\"text-align: right;\">\n",
       "      <th></th>\n",
       "      <th>AAPL_adj_close_AAPL</th>\n",
       "      <th>GOOGL_adj_close_GOOGL</th>\n",
       "      <th>MSFT_adj_close_MSFT</th>\n",
       "      <th>AMZN_adj_close_AMZN</th>\n",
       "      <th>NFLX_adj_close_NFLX</th>\n",
       "    </tr>\n",
       "  </thead>\n",
       "  <tbody>\n",
       "    <tr>\n",
       "      <th>AAPL_adj_close_AAPL</th>\n",
       "      <td>0.071748</td>\n",
       "      <td>0.028884</td>\n",
       "      <td>0.039720</td>\n",
       "      <td>0.032790</td>\n",
       "      <td>0.034200</td>\n",
       "    </tr>\n",
       "    <tr>\n",
       "      <th>GOOGL_adj_close_GOOGL</th>\n",
       "      <td>0.028884</td>\n",
       "      <td>0.079340</td>\n",
       "      <td>0.039594</td>\n",
       "      <td>0.055636</td>\n",
       "      <td>0.050469</td>\n",
       "    </tr>\n",
       "    <tr>\n",
       "      <th>MSFT_adj_close_MSFT</th>\n",
       "      <td>0.039720</td>\n",
       "      <td>0.039594</td>\n",
       "      <td>0.078847</td>\n",
       "      <td>0.047944</td>\n",
       "      <td>0.041822</td>\n",
       "    </tr>\n",
       "    <tr>\n",
       "      <th>AMZN_adj_close_AMZN</th>\n",
       "      <td>0.032790</td>\n",
       "      <td>0.055636</td>\n",
       "      <td>0.047944</td>\n",
       "      <td>0.107098</td>\n",
       "      <td>0.055178</td>\n",
       "    </tr>\n",
       "    <tr>\n",
       "      <th>NFLX_adj_close_NFLX</th>\n",
       "      <td>0.034200</td>\n",
       "      <td>0.050469</td>\n",
       "      <td>0.041822</td>\n",
       "      <td>0.055178</td>\n",
       "      <td>0.243275</td>\n",
       "    </tr>\n",
       "  </tbody>\n",
       "</table>\n",
       "</div>"
      ],
      "text/plain": [
       "                       AAPL_adj_close_AAPL  GOOGL_adj_close_GOOGL  \\\n",
       "AAPL_adj_close_AAPL               0.071748               0.028884   \n",
       "GOOGL_adj_close_GOOGL             0.028884               0.079340   \n",
       "MSFT_adj_close_MSFT               0.039720               0.039594   \n",
       "AMZN_adj_close_AMZN               0.032790               0.055636   \n",
       "NFLX_adj_close_NFLX               0.034200               0.050469   \n",
       "\n",
       "                       MSFT_adj_close_MSFT  AMZN_adj_close_AMZN  \\\n",
       "AAPL_adj_close_AAPL               0.039720             0.032790   \n",
       "GOOGL_adj_close_GOOGL             0.039594             0.055636   \n",
       "MSFT_adj_close_MSFT               0.078847             0.047944   \n",
       "AMZN_adj_close_AMZN               0.047944             0.107098   \n",
       "NFLX_adj_close_NFLX               0.041822             0.055178   \n",
       "\n",
       "                       NFLX_adj_close_NFLX  \n",
       "AAPL_adj_close_AAPL               0.034200  \n",
       "GOOGL_adj_close_GOOGL             0.050469  \n",
       "MSFT_adj_close_MSFT               0.041822  \n",
       "AMZN_adj_close_AMZN               0.055178  \n",
       "NFLX_adj_close_NFLX               0.243275  "
      ]
     },
     "execution_count": 4,
     "metadata": {},
     "output_type": "execute_result"
    }
   ],
   "source": [
    "sim_combinations[0][1]\n"
   ]
  }
 ],
 "metadata": {
  "kernelspec": {
   "display_name": "roboABasic",
   "language": "python",
   "name": "python3"
  },
  "language_info": {
   "codemirror_mode": {
    "name": "ipython",
    "version": 3
   },
   "file_extension": ".py",
   "mimetype": "text/x-python",
   "name": "python",
   "nbconvert_exporter": "python",
   "pygments_lexer": "ipython3",
   "version": "3.10.15"
  }
 },
 "nbformat": 4,
 "nbformat_minor": 2
}
