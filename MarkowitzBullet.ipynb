{
 "cells": [
  {
   "cell_type": "code",
   "execution_count": 107,
   "metadata": {
    "colab": {
     "base_uri": "https://localhost:8080/"
    },
    "id": "NVQVoEjG1FQq",
    "outputId": "ca1ebd6b-484d-486e-dced-3736403f1e3f"
   },
   "outputs": [
    {
     "data": {
      "text/plain": [
       "\"from google.colab import drive\\ndrive.mount('/content/drive')\""
      ]
     },
     "execution_count": 107,
     "metadata": {},
     "output_type": "execute_result"
    }
   ],
   "source": [
    "'''from google.colab import drive\n",
    "drive.mount('/content/drive')'''"
   ]
  },
  {
   "cell_type": "code",
   "execution_count": 108,
   "metadata": {
    "colab": {
     "base_uri": "https://localhost:8080/"
    },
    "id": "6OxPgoZ41Q9G",
    "outputId": "a9cbe06e-4000-4d98-b7a2-6c2c9e1a3e4a"
   },
   "outputs": [
    {
     "data": {
      "text/plain": [
       "'cd drive/MyDrive/RoboA/'"
      ]
     },
     "execution_count": 108,
     "metadata": {},
     "output_type": "execute_result"
    }
   ],
   "source": [
    "'''cd drive/MyDrive/RoboA/'''"
   ]
  },
  {
   "cell_type": "markdown",
   "metadata": {
    "id": "bj91ThpmabDR"
   },
   "source": [
    "# Markowitz Efficient Frontier"
   ]
  },
  {
   "cell_type": "markdown",
   "metadata": {
    "id": "w31yow0TabDS"
   },
   "source": [
    "## 1. Imports"
   ]
  },
  {
   "cell_type": "code",
   "execution_count": 109,
   "metadata": {
    "id": "EvpNgOhEabDS"
   },
   "outputs": [],
   "source": [
    "import pandas as pd\n",
    "import numpy as np\n",
    "import plotly.graph_objects as go\n",
    "import statistics\n",
    "from tqdm import tqdm\n",
    "from collections import defaultdict\n",
    "import math\n",
    "from itertools import combinations\n",
    "from sklearn.preprocessing import MinMaxScaler\n",
    "import tensorflow as tf\n",
    "from tensorflow.keras.models import Sequential # type: ignore\n",
    "from tensorflow.keras.layers import LSTM, Dense, Dropout # type: ignore\n",
    "\n",
    "from fetchData import fetch_raw_data_yf, getSNP500, fetch_raw_data_yf_all, getNasdaq_comp\n",
    "from MonteCarloRBA import MonteCarloRBA\n",
    "from PortfolioFunction import maximize_sharpe, create_correlation_matrix, get_sharpe_ratio, get_matrices\n",
    "from LearningRBA import find_best_asset_to_remove, find_asset_to_add\n"
   ]
  },
  {
   "cell_type": "markdown",
   "metadata": {
    "id": "fnySmmT6abDT"
   },
   "source": [
    "## 2. Fetch Data"
   ]
  },
  {
   "cell_type": "markdown",
   "metadata": {
    "id": "8bz1yuGUabDT"
   },
   "source": [
    "### Get all Nasdaq Stocks"
   ]
  },
  {
   "cell_type": "code",
   "execution_count": 110,
   "metadata": {
    "colab": {
     "base_uri": "https://localhost:8080/"
    },
    "id": "H4G7yoJuabDT",
    "outputId": "e6e2de66-44f1-4d77-8bc1-bfe43fe6e4cd"
   },
   "outputs": [],
   "source": [
    "assets= [\n",
    "    \"AAPL\",  # Apple Inc.\n",
    "    \"MSFT\",  # Microsoft Corporation\n",
    "    \"AMZN\",  # Amazon.com Inc.\n",
    "    \"GOOGL\", # Alphabet Inc. (Google) Class A\n",
    "    \"GOOG\",  # Alphabet Inc. (Google) Class C\n",
    "    \"META\",    # Meta Platforms Inc (formerly Facebook)\n",
    "    \"TSLA\",  # Tesla Inc\n",
    "    \"UA\", # Berkshire Hathaway Inc. Class B\n",
    "    \"JPM\",   # JPMorgan Chase & Co.\n",
    "    \"V\",     # Visa Inc.\n",
    "    \"JNJ\",   # Johnson & Johnson\n",
    "    \"WMT\",   # Walmart Inc.\n",
    "    \"PG\",    # Procter & Gamble Co.\n",
    "    \"UNH\",   # UnitedHealth Group Inc.\n",
    "    \"MA\",    # Mastercard Inc.\n",
    "    \"NVDA\",  # NVIDIA Corporation\n",
    "    \"HD\",    # Home Depot Inc.\n",
    "    \"BAC\",   # Bank of America Corp\n",
    "    \"DIS\",   # Walt Disney Co\n",
    "    \"PYPL\",  # PayPal Holdings\n",
    "    \"VZ\",    # Verizon Communications Inc.\n",
    "    \"ADBE\",  # Adobe Inc.\n",
    "    \"CMCSA\", # Comcast Corporation\n",
    "    \"NFLX\",  # Netflix Inc.\n",
    "    \"KO\",    # Coca-Cola Co\n",
    "    \"NKE\",   # NIKE Inc.\n",
    "    \"PFE\",   # Pfizer Inc.\n",
    "    \"MRK\",   # Merck & Co., Inc.\n",
    "    \"PEP\",   # PepsiCo, Inc.\n",
    "    \"T\",     # AT&T Inc.\n",
    "    \"ABT\",   # Abbott Laboratories\n",
    "    \"CRM\",   # Salesforce.com Inc.\n",
    "    \"ORCL\",  # Oracle Corporation\n",
    "    \"ABBV\",  # AbbVie Inc.\n",
    "    \"CSCO\",  # Cisco Systems, Inc.\n",
    "    \"INTC\",  # Intel Corporation\n",
    "    \"TMO\",   # Thermo Fisher Scientific Inc.\n",
    "    \"XOM\",   # Exxon Mobil Corporation\n",
    "    \"ACN\",   # Accenture plc\n",
    "    \"LLY\",   # Eli Lilly and Company\n",
    "    \"COST\",  # Costco Wholesale Corporation\n",
    "    \"MCD\",   # McDonald's Corp\n",
    "    \"DHR\",   # Danaher Corporation\n",
    "    \"MDT\",   # Medtronic plc\n",
    "    \"NEE\",   # NextEra Energy, Inc.\n",
    "    \"BMY\",   # Bristol-Myers Squibb Company\n",
    "    \"QCOM\",  # Qualcomm Inc\n",
    "    \"CVX\",   # Chevron Corporation\n",
    "    \"WFC\",   # Wells Fargo & Co\n",
    "    \"LMT\",    # Lockheed Martin Corporation\n",
    "    \"GS\",   # Goldman Sachs Group, Inc.\n",
    "    \"MS\",   # Morgan Stanley\n",
    "    \"IBM\",  # International Business Machines Corporation\n",
    "    \"GE\",   # General Electric Company\n",
    "    \"F\",    # Ford Motor Company\n",
    "    \"GM\",   # General Motors Company\n",
    "    \"UBER\", # Uber Technologies, Inc.\n",
    "    \"LYFT\", # Lyft, Inc.\n",
    "    \"SNAP\", # Snap Inc.\n",
    "    \"TWTR\", # Twitter, Inc.\n",
    "    \"SPOT\", # Spotify Technology S.A.\n",
    "    \"AMD\",  # Advanced Micro Devices, Inc.\n",
    "    \"TXN\",  # Texas Instruments Incorporated\n",
    "    \"BABA\", # Alibaba Group Holding Limited\n",
    "    \"SAP\",  # SAP SE\n",
    "    \"HON\",  # Honeywell International Inc.\n",
    "    \"BA\",   # Boeing Company\n",
    "    \"RTX\",  # Raytheon Technologies Corporation\n",
    "    \"CAT\",  # Caterpillar Inc.\n",
    "    \"DE\",   # Deere & Company\n",
    "    \"MMM\",  # 3M Company\n",
    "    \"DUK\",  # Duke Energy Corporation\n",
    "    \"SO\",   # Southern Company\n",
    "    \"EXC\",  # Exelon Corporation\n",
    "    \"NEE\",  # NextEra Energy, Inc.\n",
    "    \"AEP\",  # American Electric Power Company, Inc.\n",
    "    \"SRE\",  # Sempra Energy\n",
    "    \"ETN\",  # Eaton Corporation plc\n",
    "    \"EMR\",  # Emerson Electric Co.\n",
    "    \"SYY\",  # Sysco Corporation\n",
    "    \"KR\",   # Kroger Co.\n",
    "    \"GIS\",  # General Mills, Inc.\n",
    "    \"K\",    # Kellogg Company\n",
    "    \"CPB\",  # Campbell Soup Company\n",
    "    \"MO\",   # Altria Group, Inc.\n",
    "    \"PM\",   # Philip Morris International Inc.\n",
    "    \"BTI\",  # British American Tobacco plc\n",
    "    \"RDY\",  # Dr. Reddy's Laboratories Ltd.\n",
    "    \"GILD\", # Gilead Sciences, Inc.\n",
    "    \"BIIB\", # Biogen Inc.\n",
    "    \"CELG\", # Celgene Corporation\n",
    "    \"AMGN\", # Amgen Inc.\n",
    "    \"SYK\",  # Stryker Corporation\n",
    "    \"BSX\",  # Boston Scientific Corporation\n",
    "    \"ISRG\", # Intuitive Surgical, Inc.\n",
    "    \"ZBH\",  # Zimmer Biomet Holdings, Inc.\n",
    "    \"EW\",   # Edwards Lifesciences Corporation\n",
    "    \"RMD\",  # ResMed Inc.\n",
    "    \"VRTX\", # Vertex Pharmaceuticals Incorporated\n",
    "    \"REGN\",  # Regeneron Pharmaceuticals, Inc.\n",
    "]\n",
    "\n",
    "#assets = getSNP500()"
   ]
  },
  {
   "cell_type": "code",
   "execution_count": 111,
   "metadata": {
    "colab": {
     "base_uri": "https://localhost:8080/"
    },
    "id": "AvJfF_5YabDU",
    "outputId": "e2769ab4-6379-4ccc-e628-557b92733cd1"
   },
   "outputs": [
    {
     "name": "stderr",
     "output_type": "stream",
     "text": [
      "[*********************100%***********************]  99 of 99 completed\n",
      "\n",
      "2 Failed downloads:\n",
      "['CELG', 'TWTR']: YFTzMissingError('possibly delisted; no timezone found')\n"
     ]
    },
    {
     "name": "stdout",
     "output_type": "stream",
     "text": [
      "Omitted assets ( 2 ):  ['CELG', 'TWTR']\n",
      "Time to fetch data: 3.50 seconds\n"
     ]
    }
   ],
   "source": [
    "start_date = \"2020-01-01\"\n",
    "end_date = \"2022-01-01\"\n",
    "raw_data, asset_errors, max_combination= fetch_raw_data_yf_all(assets, start_date, end_date)"
   ]
  },
  {
   "cell_type": "markdown",
   "metadata": {
    "id": "MtnI4d7k1CRp"
   },
   "source": [
    "### Split into test and train"
   ]
  },
  {
   "cell_type": "code",
   "execution_count": 112,
   "metadata": {
    "id": "GUQlY2uT1CRp"
   },
   "outputs": [],
   "source": [
    "split = len(raw_data.index) // 2\n",
    "\n",
    "raw_data_train = raw_data.iloc[:split]\n",
    "raw_data_test = raw_data.iloc[split:]"
   ]
  },
  {
   "cell_type": "markdown",
   "metadata": {
    "id": "FyXEENSbabDU"
   },
   "source": [
    "## 3. Mean, Volatility and Covariance"
   ]
  },
  {
   "cell_type": "code",
   "execution_count": 113,
   "metadata": {
    "colab": {
     "base_uri": "https://localhost:8080/"
    },
    "id": "V8UnmVllabDU",
    "outputId": "5db2e605-2732-40fd-8052-5cddc38fded9"
   },
   "outputs": [],
   "source": [
    "names, annualized_returns, cov, correlation_matrix = get_matrices(raw_data_train)"
   ]
  },
  {
   "cell_type": "code",
   "execution_count": 114,
   "metadata": {},
   "outputs": [],
   "source": [
    "volatility = np.sqrt(np.diag(cov))\n",
    "\n",
    "risk_free_rate=0\n",
    "sharpe_ratios = (annualized_returns - risk_free_rate) / volatility"
   ]
  },
  {
   "cell_type": "code",
   "execution_count": 115,
   "metadata": {
    "colab": {
     "base_uri": "https://localhost:8080/",
     "height": 542
    },
    "id": "70g4vm3qabDU",
    "outputId": "3974e87c-1b85-4392-e8b8-594c2626466e"
   },
   "outputs": [
    {
     "data": {
      "application/vnd.plotly.v1+json": {
       "config": {
        "plotlyServerURL": "https://plot.ly"
       },
       "data": [
        {
         "hoverinfo": "text",
         "hovertext": [
          "GIS_Close <br>Volatility: 0.309 <br>Returns: 15.105% <br>Sharpe Ratio: 0.488",
          "WMT_Close <br>Volatility: 0.313 <br>Returns: 20.983% <br>Sharpe Ratio: 0.671",
          "ORCL_Close <br>Volatility: 0.401 <br>Returns: 19.527% <br>Sharpe Ratio: 0.487",
          "GS_Close <br>Volatility: 0.524 <br>Returns: 12.618% <br>Sharpe Ratio: 0.241",
          "TMO_Close <br>Volatility: 0.374 <br>Returns: 35.075% <br>Sharpe Ratio: 0.939",
          "ACN_Close <br>Volatility: 0.416 <br>Returns: 22.015% <br>Sharpe Ratio: 0.529",
          "DUK_Close <br>Volatility: 0.415 <br>Returns: 4.539% <br>Sharpe Ratio: 0.110",
          "NVDA_Close <br>Volatility: 0.583 <br>Returns: 78.950% <br>Sharpe Ratio: 1.354",
          "BMY_Close <br>Volatility: 0.298 <br>Returns: 0.066% <br>Sharpe Ratio: 0.002",
          "NEE_Close <br>Volatility: 0.417 <br>Returns: 26.242% <br>Sharpe Ratio: 0.630",
          "SRE_Close <br>Volatility: 0.479 <br>Returns: -13.414% <br>Sharpe Ratio: -0.280",
          "IBM_Close <br>Volatility: 0.412 <br>Returns: -3.438% <br>Sharpe Ratio: -0.083",
          "ISRG_Close <br>Volatility: 0.457 <br>Returns: 31.244% <br>Sharpe Ratio: 0.684",
          "BABA_Close <br>Volatility: 0.415 <br>Returns: 8.165% <br>Sharpe Ratio: 0.197",
          "CPB_Close <br>Volatility: 0.323 <br>Returns: 1.937% <br>Sharpe Ratio: 0.060",
          "MS_Close <br>Volatility: 0.573 <br>Returns: 29.594% <br>Sharpe Ratio: 0.517",
          "RMD_Close <br>Volatility: 0.492 <br>Returns: 30.490% <br>Sharpe Ratio: 0.620",
          "EXC_Close <br>Volatility: 0.490 <br>Returns: -4.296% <br>Sharpe Ratio: -0.088",
          "AMD_Close <br>Volatility: 0.607 <br>Returns: 63.359% <br>Sharpe Ratio: 1.044",
          "VRTX_Close <br>Volatility: 0.473 <br>Returns: 5.877% <br>Sharpe Ratio: 0.124",
          "KO_Close <br>Volatility: 0.350 <br>Returns: 2.369% <br>Sharpe Ratio: 0.068",
          "TXN_Close <br>Volatility: 0.432 <br>Returns: 25.771% <br>Sharpe Ratio: 0.597",
          "MCD_Close <br>Volatility: 0.401 <br>Returns: 7.720% <br>Sharpe Ratio: 0.192",
          "JNJ_Close <br>Volatility: 0.303 <br>Returns: 9.397% <br>Sharpe Ratio: 0.310",
          "HON_Close <br>Volatility: 0.453 <br>Returns: 17.805% <br>Sharpe Ratio: 0.393",
          "PYPL_Close <br>Volatility: 0.523 <br>Returns: 74.029% <br>Sharpe Ratio: 1.415",
          "MRK_Close <br>Volatility: 0.319 <br>Returns: -10.200% <br>Sharpe Ratio: -0.320",
          "UBER_Close <br>Volatility: 0.728 <br>Returns: 54.160% <br>Sharpe Ratio: 0.744",
          "XOM_Close <br>Volatility: 0.530 <br>Returns: -45.815% <br>Sharpe Ratio: -0.864",
          "GM_Close <br>Volatility: 0.615 <br>Returns: 12.534% <br>Sharpe Ratio: 0.204",
          "KR_Close <br>Volatility: 0.321 <br>Returns: 11.767% <br>Sharpe Ratio: 0.366",
          "LMT_Close <br>Volatility: 0.415 <br>Returns: -9.516% <br>Sharpe Ratio: -0.229",
          "TSLA_Close <br>Volatility: 0.898 <br>Returns: 209.696% <br>Sharpe Ratio: 2.334",
          "REGN_Close <br>Volatility: 0.431 <br>Returns: 24.871% <br>Sharpe Ratio: 0.577",
          "AMGN_Close <br>Volatility: 0.381 <br>Returns: -2.820% <br>Sharpe Ratio: -0.074",
          "UNH_Close <br>Volatility: 0.485 <br>Returns: 18.210% <br>Sharpe Ratio: 0.376",
          "T_Close <br>Volatility: 0.358 <br>Returns: -22.344% <br>Sharpe Ratio: -0.624",
          "ADBE_Close <br>Volatility: 0.480 <br>Returns: 39.865% <br>Sharpe Ratio: 0.831",
          "VZ_Close <br>Volatility: 0.245 <br>Returns: -0.605% <br>Sharpe Ratio: -0.025",
          "WFC_Close <br>Volatility: 0.616 <br>Returns: -55.430% <br>Sharpe Ratio: -0.899",
          "GILD_Close <br>Volatility: 0.373 <br>Returns: -10.162% <br>Sharpe Ratio: -0.272",
          "EW_Close <br>Volatility: 0.441 <br>Returns: 14.610% <br>Sharpe Ratio: 0.331",
          "DIS_Close <br>Volatility: 0.488 <br>Returns: 20.167% <br>Sharpe Ratio: 0.413",
          "ABBV_Close <br>Volatility: 0.351 <br>Returns: 21.647% <br>Sharpe Ratio: 0.616",
          "BIIB_Close <br>Volatility: 0.667 <br>Returns: -18.970% <br>Sharpe Ratio: -0.284",
          "LYFT_Close <br>Volatility: 0.858 <br>Returns: 14.478% <br>Sharpe Ratio: 0.169",
          "MO_Close <br>Volatility: 0.366 <br>Returns: -10.116% <br>Sharpe Ratio: -0.277",
          "BSX_Close <br>Volatility: 0.451 <br>Returns: -24.400% <br>Sharpe Ratio: -0.541",
          "DHR_Close <br>Volatility: 0.337 <br>Returns: 35.814% <br>Sharpe Ratio: 1.064",
          "MDT_Close <br>Volatility: 0.414 <br>Returns: 3.293% <br>Sharpe Ratio: 0.079",
          "SPOT_Close <br>Volatility: 0.548 <br>Returns: 74.788% <br>Sharpe Ratio: 1.365",
          "META_Close <br>Volatility: 0.462 <br>Returns: 26.030% <br>Sharpe Ratio: 0.563",
          "PG_Close <br>Volatility: 0.325 <br>Returns: 13.501% <br>Sharpe Ratio: 0.416",
          "UA_Close <br>Volatility: 0.679 <br>Returns: -24.459% <br>Sharpe Ratio: -0.360",
          "COST_Close <br>Volatility: 0.290 <br>Returns: 28.590% <br>Sharpe Ratio: 0.986",
          "V_Close <br>Volatility: 0.428 <br>Returns: 13.994% <br>Sharpe Ratio: 0.327",
          "QCOM_Close <br>Volatility: 0.528 <br>Returns: 55.263% <br>Sharpe Ratio: 1.048",
          "GE_Close <br>Volatility: 0.632 <br>Returns: -10.323% <br>Sharpe Ratio: -0.163",
          "MMM_Close <br>Volatility: 0.375 <br>Returns: 0.330% <br>Sharpe Ratio: 0.009",
          "SAP_Close <br>Volatility: 0.464 <br>Returns: -3.194% <br>Sharpe Ratio: -0.069",
          "LLY_Close <br>Volatility: 0.419 <br>Returns: 25.453% <br>Sharpe Ratio: 0.607",
          "DE_Close <br>Volatility: 0.459 <br>Returns: 42.745% <br>Sharpe Ratio: 0.932",
          "BAC_Close <br>Volatility: 0.586 <br>Returns: -14.706% <br>Sharpe Ratio: -0.251",
          "ETN_Close <br>Volatility: 0.513 <br>Returns: 24.236% <br>Sharpe Ratio: 0.473",
          "PM_Close <br>Volatility: 0.397 <br>Returns: 1.919% <br>Sharpe Ratio: 0.048",
          "SYK_Close <br>Volatility: 0.494 <br>Returns: 15.287% <br>Sharpe Ratio: 0.309",
          "SNAP_Close <br>Volatility: 0.740 <br>Returns: 108.305% <br>Sharpe Ratio: 1.463",
          "MSFT_Close <br>Volatility: 0.441 <br>Returns: 33.406% <br>Sharpe Ratio: 0.757",
          "NKE_Close <br>Volatility: 0.416 <br>Returns: 33.675% <br>Sharpe Ratio: 0.809",
          "CAT_Close <br>Volatility: 0.454 <br>Returns: 20.953% <br>Sharpe Ratio: 0.462",
          "EMR_Close <br>Volatility: 0.547 <br>Returns: 6.008% <br>Sharpe Ratio: 0.110",
          "BTI_Close <br>Volatility: 0.361 <br>Returns: -5.213% <br>Sharpe Ratio: -0.144",
          "SO_Close <br>Volatility: 0.457 <br>Returns: 0.996% <br>Sharpe Ratio: 0.022",
          "CVX_Close <br>Volatility: 0.620 <br>Returns: -29.888% <br>Sharpe Ratio: -0.482",
          "AAPL_Close <br>Volatility: 0.468 <br>Returns: 58.803% <br>Sharpe Ratio: 1.256",
          "ABT_Close <br>Volatility: 0.393 <br>Returns: 23.745% <br>Sharpe Ratio: 0.605",
          "JPM_Close <br>Volatility: 0.544 <br>Returns: -8.287% <br>Sharpe Ratio: -0.152",
          "SYY_Close <br>Volatility: 0.702 <br>Returns: -11.836% <br>Sharpe Ratio: -0.169",
          "GOOG_Close <br>Volatility: 0.385 <br>Returns: 24.168% <br>Sharpe Ratio: 0.627",
          "ZBH_Close <br>Volatility: 0.499 <br>Returns: 2.809% <br>Sharpe Ratio: 0.056",
          "BA_Close <br>Volatility: 0.880 <br>Returns: -42.649% <br>Sharpe Ratio: -0.485",
          "CSCO_Close <br>Volatility: 0.421 <br>Returns: -5.864% <br>Sharpe Ratio: -0.139",
          "F_Close <br>Volatility: 0.559 <br>Returns: -4.460% <br>Sharpe Ratio: -0.080",
          "AMZN_Close <br>Volatility: 0.385 <br>Returns: 55.101% <br>Sharpe Ratio: 1.432",
          "PEP_Close <br>Volatility: 0.368 <br>Returns: 11.037% <br>Sharpe Ratio: 0.300",
          "MA_Close <br>Volatility: 0.488 <br>Returns: 16.468% <br>Sharpe Ratio: 0.337",
          "CMCSA_Close <br>Volatility: 0.381 <br>Returns: 14.383% <br>Sharpe Ratio: 0.377",
          "RTX_Close <br>Volatility: 0.577 <br>Returns: -27.337% <br>Sharpe Ratio: -0.474",
          "INTC_Close <br>Volatility: 0.541 <br>Returns: -19.777% <br>Sharpe Ratio: -0.366",
          "PFE_Close <br>Volatility: 0.359 <br>Returns: 2.947% <br>Sharpe Ratio: 0.082",
          "RDY_Close <br>Volatility: 0.355 <br>Returns: 56.708% <br>Sharpe Ratio: 1.597",
          "K_Close <br>Volatility: 0.318 <br>Returns: -5.956% <br>Sharpe Ratio: -0.187",
          "NFLX_Close <br>Volatility: 0.463 <br>Returns: 46.595% <br>Sharpe Ratio: 1.007",
          "AEP_Close <br>Volatility: 0.386 <br>Returns: -10.503% <br>Sharpe Ratio: -0.272",
          "CRM_Close <br>Volatility: 0.522 <br>Returns: 28.769% <br>Sharpe Ratio: 0.551",
          "HD_Close <br>Volatility: 0.447 <br>Returns: 21.279% <br>Sharpe Ratio: 0.476",
          "GOOGL_Close <br>Volatility: 0.387 <br>Returns: 23.883% <br>Sharpe Ratio: 0.617"
         ],
         "marker": {
          "color": {
           "bdata": "l9LcsD1C3z847gpRJ3flP6oOYC3KMN8/HCZuzCzZzj/2HYB6pAnuPzChZesW7eA/LCQUf70IvD+9H4lQGan1P+ikzEQrQmI/1JXMbhQm5D88qeU/A+/Rv4DcFTqPWrW/pV5hmaLh5T9yKDw/ZzPJP3a6cGBGvq4/ULvpF6aJ4D8goo8qqtTjPx8FDuE7dba/Jpfbpkm08D+dEdMfp9W/PwrBL9YnV7E/+srnOG0a4z8xmSyC5ZzIP33GGs/H2dM/iTwjGb8g2T/VZEogt6X2P+nnK7tVc9S/FZQKinnP5z+NwRBaxqfrvx1g2SSiEco/5f1p1pdz1z+4RMJw/F7Nvzm1gxm9qwJAHzj2Z0Bz4j/PvVxJ9u2yv7Ivd0boCNg/V0rsTF70479kMWwQgJXqPzddZavDSpm/9sWwa4XH7L/m39XplW7Rv9m5ClifNdU/cjHl64Ny2j+0s+HQJrnjP8JNwGuCMdK/M1+Ms/6axT9i7wDZYLXRvxv41BeTUeG/X46hZT8E8T+e8khLaFa0PwJ1CHDp1vU/tK3qtvgG4j/wGPE1gZ/aPyjOYkhbDNe/DfiGndSO7z/9wN7b6O7UPzqgDiEBw/A/LlL80BLoxL/sgu7WYgWCPxWZ1FvfnbG/nZq6OWxq4z/5xrGrs9LtP9YNPjImDNC/9ZwMPJhB3j+pUWcp5b2oP6Pl6Mqjy9M/K8M6nvBo9z+LrdM5tzjoP5vnaLAe5uk/YWgGGr+K3T9jVApEChu8P6N6065AfsK/u0tTIkJMlj+AlkgiV9fev6g4X12iGfQ/yKdh3aBa4z/RVO5Eg3/DvxWTudsZksW/n4z3zrkS5D+OTPHNS8+sP1Gx49QhAt+/nVnTaLHTwb+iU53XBW20vxG/Q7cv6vY/fJYLFGwy0z9N4fPziJbVP+pwROTrINg/7UqR8u9U3r8+he7BLmXXv3EiGB15B7U/8Ugzi8+L+T9/mxlGifDHv28eyT6XHfA/f2PM+bZn0b9sNslhYaHhP3KjSNoHe94/aeFaUJTA4z8=",
           "dtype": "f8"
          },
          "colorbar": {
           "title": {
            "text": "Sharpe<br>Ratio"
           }
          },
          "colorscale": [
           [
            0,
            "rgb(103,0,31)"
           ],
           [
            0.1,
            "rgb(178,24,43)"
           ],
           [
            0.2,
            "rgb(214,96,77)"
           ],
           [
            0.3,
            "rgb(244,165,130)"
           ],
           [
            0.4,
            "rgb(253,219,199)"
           ],
           [
            0.5,
            "rgb(247,247,247)"
           ],
           [
            0.6,
            "rgb(209,229,240)"
           ],
           [
            0.7,
            "rgb(146,197,222)"
           ],
           [
            0.8,
            "rgb(67,147,195)"
           ],
           [
            0.9,
            "rgb(33,102,172)"
           ],
           [
            1,
            "rgb(5,48,97)"
           ]
          ],
          "line": {
           "width": 1
          },
          "size": 6
         },
         "mode": "markers",
         "type": "scatter",
         "x": {
          "bdata": "VxV6kBPL0z++4IxCFQXUPyUcglKxpNk/gaA2Y+XA4D/HTz/ECerXP4r+VGFAo9o/YXQEso2H2j/Jj4IZY6niP52vSpNBENM/exMNY32s2j8VMCED4aLeP4CUN7d7Ydo/rI3xd0k+3T/gthJLworaPz9YnQpWptQ/XAfdLxJT4j/RuUuxAX3fP8M3UfsnWN8/MiXuYI1r4z9axEwFgz/ePyZdB1UfYtY/OrfF0dig2z8DjScDubHZP54cHMvYY9M/OPxDXf0F3T+xiiy3a7zgP38amMu3bdQ/fAGUVddK5z8RqUBl0/bgP+699PKRseM/5sYJq3WN1D+d/6N2pIraPzJyJR1+wOw/G9vm5Gab2z8HwHELJGnYP1A0JFpsCN8/Rwxgjczu1j+tvcjeJLbePwlekHKrYM8/0ZT0xPa44z/kZ52lx+DXPwQfRTE4N9w/q0Jc0OM73z9A31i8TXrWP/46dDTEWuU//5hLWGly6z/yhSb6RmbXP2GoRdWI2tw/obPELUiN1T/NYCDSlobaP2fDhqJ3iOE/mIHdVkOS3T/DiDI2ZsXUP2gfEYXYu+U/VoVwTc6N0j+Ud1gFkGHbP6SdlY5n4eA/9fF6SFs55D+oPLrm4wTYP2e1yeK+tN0/78uaswvZ2j/h1lgrj1rdP6mwSbp8xOI/ijgAZbJn4D8fCBpo5GrZPz6XmYDRod8/wyGOSPqv5z/c4BGT1T7cP040klchodo/7OhLqhAN3T+DT4vhBoPhP7tP413MF9c/cgACE1xE3T9wHcpw5NjjPya+WQ789N0/saGyXFcg2T+hEPkVaGjhP5Z2ABN7eeY/yNLcnWKo2D+Wobd3QvPfP4tvdKwLK+w/Q4uYyZXy2j8gBZyRTOPhP9Bs5pp6n9g/flvaTreM1z+1M9EPtz7fPyRGP+Zaatg/Oct+r0d14j+Yema270/hP78b6QGD9dY/cQXL4yW71j87fsoLNWHUP9DxZrdbm90/834ukHi32D80QAjfjbXgP9lw2B5jmNw/RDbidkbD2D8=",
          "dtype": "f8"
         },
         "y": {
          "bdata": "5A3T9LNVwz/YGUPnwtvKP3S65dWk/sg/tcrOlIomwD8lnrjlnXLWP9AzVrP4Lcw/bPcn+do9pz+HhtK+jEPpP++/3GEgwUU/JKH3OozL0D9TpKomWyvBv4NWs2+hmqG/LpnIwhL/0z+TumKTCue0P8+A6rK51pM/5KbWtLfw0j9G8nWefIPTP1wD8nVw/6W/9QisvGBG5D82c8amexeuP6C7hY8uQpg/xPu7uVF+0D8h2KZwRcOzP/2kSMJ9Drg/G0nHQGHKxj9w4YS/arDnPwhDYM1nHLq/4KXsXc9U4T9VHkRHZ1Ldv8tVkLQgC8A/ow4O7tQfvj/UqPavbVy4v9tlJnqVxgBA5cEN1q/Vzz+D30CzVeGcv2lAGaD0Tsc/Wb6AwNOZzL+F1Ab5eIPZPyByHlvVzHi/P+IPZtC84b+4mMU23QO6v017Z9WEs8I/rmFNOG/QyT/v8mb6WLXLP5w5LcUwSMi/ihgPMwaIwj+8H70P7uW5v68OFfpMO8+/SxneZ9Xr1j/aB3tsvtugP51jgROe7uc/soAPJLeo0D/V1K2+60fBP7xjXyDQTs+/U2NJZTBM0j8Vf/XhZunBP9sppt0jr+E/nejjjgltur8b+WRLlg1rP9Bs1YmTWqC/KIRdtihK0D+z1OTaWFvbP8FxbOW80sK/GUbL2K8Fzz9j7u+oAKeTP9zZOdZgkcM/kHmH7ilU8T/p7G7eL2HVP5hp7LVhjdU/pxnP78zRyj+y3qxi5MKuP6mYiK7+sKq/qjwhJL5khD9G1INz5SDTv3t2iO0c0eI/Bz6PSLpkzj9MaBkmtza1v129cV6qTL6/CVcvDlfvzj8iMHpu08OcP/Q3lceTS9u/b2mqCUkGrr+QI7m3Atamv2FZSzLXoeE/pP7PfVBBvD8l0DfVIxTFP5I+y4LiaMI/2q6NePF+0b9INArHY1DJv/4nQSb1LJ4/U4oK9IUl4j/WDUQ2HX6uv6kaAywd0t0/ffsv2ifjur8T7VdTb2nSP6w0Tq7NPMs/RA5ohfCRzj8=",
          "dtype": "f8"
         }
        }
       ],
       "layout": {
        "template": {
         "data": {
          "bar": [
           {
            "error_x": {
             "color": "#2a3f5f"
            },
            "error_y": {
             "color": "#2a3f5f"
            },
            "marker": {
             "line": {
              "color": "#E5ECF6",
              "width": 0.5
             },
             "pattern": {
              "fillmode": "overlay",
              "size": 10,
              "solidity": 0.2
             }
            },
            "type": "bar"
           }
          ],
          "barpolar": [
           {
            "marker": {
             "line": {
              "color": "#E5ECF6",
              "width": 0.5
             },
             "pattern": {
              "fillmode": "overlay",
              "size": 10,
              "solidity": 0.2
             }
            },
            "type": "barpolar"
           }
          ],
          "carpet": [
           {
            "aaxis": {
             "endlinecolor": "#2a3f5f",
             "gridcolor": "white",
             "linecolor": "white",
             "minorgridcolor": "white",
             "startlinecolor": "#2a3f5f"
            },
            "baxis": {
             "endlinecolor": "#2a3f5f",
             "gridcolor": "white",
             "linecolor": "white",
             "minorgridcolor": "white",
             "startlinecolor": "#2a3f5f"
            },
            "type": "carpet"
           }
          ],
          "choropleth": [
           {
            "colorbar": {
             "outlinewidth": 0,
             "ticks": ""
            },
            "type": "choropleth"
           }
          ],
          "contour": [
           {
            "colorbar": {
             "outlinewidth": 0,
             "ticks": ""
            },
            "colorscale": [
             [
              0,
              "#0d0887"
             ],
             [
              0.1111111111111111,
              "#46039f"
             ],
             [
              0.2222222222222222,
              "#7201a8"
             ],
             [
              0.3333333333333333,
              "#9c179e"
             ],
             [
              0.4444444444444444,
              "#bd3786"
             ],
             [
              0.5555555555555556,
              "#d8576b"
             ],
             [
              0.6666666666666666,
              "#ed7953"
             ],
             [
              0.7777777777777778,
              "#fb9f3a"
             ],
             [
              0.8888888888888888,
              "#fdca26"
             ],
             [
              1,
              "#f0f921"
             ]
            ],
            "type": "contour"
           }
          ],
          "contourcarpet": [
           {
            "colorbar": {
             "outlinewidth": 0,
             "ticks": ""
            },
            "type": "contourcarpet"
           }
          ],
          "heatmap": [
           {
            "colorbar": {
             "outlinewidth": 0,
             "ticks": ""
            },
            "colorscale": [
             [
              0,
              "#0d0887"
             ],
             [
              0.1111111111111111,
              "#46039f"
             ],
             [
              0.2222222222222222,
              "#7201a8"
             ],
             [
              0.3333333333333333,
              "#9c179e"
             ],
             [
              0.4444444444444444,
              "#bd3786"
             ],
             [
              0.5555555555555556,
              "#d8576b"
             ],
             [
              0.6666666666666666,
              "#ed7953"
             ],
             [
              0.7777777777777778,
              "#fb9f3a"
             ],
             [
              0.8888888888888888,
              "#fdca26"
             ],
             [
              1,
              "#f0f921"
             ]
            ],
            "type": "heatmap"
           }
          ],
          "histogram": [
           {
            "marker": {
             "pattern": {
              "fillmode": "overlay",
              "size": 10,
              "solidity": 0.2
             }
            },
            "type": "histogram"
           }
          ],
          "histogram2d": [
           {
            "colorbar": {
             "outlinewidth": 0,
             "ticks": ""
            },
            "colorscale": [
             [
              0,
              "#0d0887"
             ],
             [
              0.1111111111111111,
              "#46039f"
             ],
             [
              0.2222222222222222,
              "#7201a8"
             ],
             [
              0.3333333333333333,
              "#9c179e"
             ],
             [
              0.4444444444444444,
              "#bd3786"
             ],
             [
              0.5555555555555556,
              "#d8576b"
             ],
             [
              0.6666666666666666,
              "#ed7953"
             ],
             [
              0.7777777777777778,
              "#fb9f3a"
             ],
             [
              0.8888888888888888,
              "#fdca26"
             ],
             [
              1,
              "#f0f921"
             ]
            ],
            "type": "histogram2d"
           }
          ],
          "histogram2dcontour": [
           {
            "colorbar": {
             "outlinewidth": 0,
             "ticks": ""
            },
            "colorscale": [
             [
              0,
              "#0d0887"
             ],
             [
              0.1111111111111111,
              "#46039f"
             ],
             [
              0.2222222222222222,
              "#7201a8"
             ],
             [
              0.3333333333333333,
              "#9c179e"
             ],
             [
              0.4444444444444444,
              "#bd3786"
             ],
             [
              0.5555555555555556,
              "#d8576b"
             ],
             [
              0.6666666666666666,
              "#ed7953"
             ],
             [
              0.7777777777777778,
              "#fb9f3a"
             ],
             [
              0.8888888888888888,
              "#fdca26"
             ],
             [
              1,
              "#f0f921"
             ]
            ],
            "type": "histogram2dcontour"
           }
          ],
          "mesh3d": [
           {
            "colorbar": {
             "outlinewidth": 0,
             "ticks": ""
            },
            "type": "mesh3d"
           }
          ],
          "parcoords": [
           {
            "line": {
             "colorbar": {
              "outlinewidth": 0,
              "ticks": ""
             }
            },
            "type": "parcoords"
           }
          ],
          "pie": [
           {
            "automargin": true,
            "type": "pie"
           }
          ],
          "scatter": [
           {
            "fillpattern": {
             "fillmode": "overlay",
             "size": 10,
             "solidity": 0.2
            },
            "type": "scatter"
           }
          ],
          "scatter3d": [
           {
            "line": {
             "colorbar": {
              "outlinewidth": 0,
              "ticks": ""
             }
            },
            "marker": {
             "colorbar": {
              "outlinewidth": 0,
              "ticks": ""
             }
            },
            "type": "scatter3d"
           }
          ],
          "scattercarpet": [
           {
            "marker": {
             "colorbar": {
              "outlinewidth": 0,
              "ticks": ""
             }
            },
            "type": "scattercarpet"
           }
          ],
          "scattergeo": [
           {
            "marker": {
             "colorbar": {
              "outlinewidth": 0,
              "ticks": ""
             }
            },
            "type": "scattergeo"
           }
          ],
          "scattergl": [
           {
            "marker": {
             "colorbar": {
              "outlinewidth": 0,
              "ticks": ""
             }
            },
            "type": "scattergl"
           }
          ],
          "scattermap": [
           {
            "marker": {
             "colorbar": {
              "outlinewidth": 0,
              "ticks": ""
             }
            },
            "type": "scattermap"
           }
          ],
          "scattermapbox": [
           {
            "marker": {
             "colorbar": {
              "outlinewidth": 0,
              "ticks": ""
             }
            },
            "type": "scattermapbox"
           }
          ],
          "scatterpolar": [
           {
            "marker": {
             "colorbar": {
              "outlinewidth": 0,
              "ticks": ""
             }
            },
            "type": "scatterpolar"
           }
          ],
          "scatterpolargl": [
           {
            "marker": {
             "colorbar": {
              "outlinewidth": 0,
              "ticks": ""
             }
            },
            "type": "scatterpolargl"
           }
          ],
          "scatterternary": [
           {
            "marker": {
             "colorbar": {
              "outlinewidth": 0,
              "ticks": ""
             }
            },
            "type": "scatterternary"
           }
          ],
          "surface": [
           {
            "colorbar": {
             "outlinewidth": 0,
             "ticks": ""
            },
            "colorscale": [
             [
              0,
              "#0d0887"
             ],
             [
              0.1111111111111111,
              "#46039f"
             ],
             [
              0.2222222222222222,
              "#7201a8"
             ],
             [
              0.3333333333333333,
              "#9c179e"
             ],
             [
              0.4444444444444444,
              "#bd3786"
             ],
             [
              0.5555555555555556,
              "#d8576b"
             ],
             [
              0.6666666666666666,
              "#ed7953"
             ],
             [
              0.7777777777777778,
              "#fb9f3a"
             ],
             [
              0.8888888888888888,
              "#fdca26"
             ],
             [
              1,
              "#f0f921"
             ]
            ],
            "type": "surface"
           }
          ],
          "table": [
           {
            "cells": {
             "fill": {
              "color": "#EBF0F8"
             },
             "line": {
              "color": "white"
             }
            },
            "header": {
             "fill": {
              "color": "#C8D4E3"
             },
             "line": {
              "color": "white"
             }
            },
            "type": "table"
           }
          ]
         },
         "layout": {
          "annotationdefaults": {
           "arrowcolor": "#2a3f5f",
           "arrowhead": 0,
           "arrowwidth": 1
          },
          "autotypenumbers": "strict",
          "coloraxis": {
           "colorbar": {
            "outlinewidth": 0,
            "ticks": ""
           }
          },
          "colorscale": {
           "diverging": [
            [
             0,
             "#8e0152"
            ],
            [
             0.1,
             "#c51b7d"
            ],
            [
             0.2,
             "#de77ae"
            ],
            [
             0.3,
             "#f1b6da"
            ],
            [
             0.4,
             "#fde0ef"
            ],
            [
             0.5,
             "#f7f7f7"
            ],
            [
             0.6,
             "#e6f5d0"
            ],
            [
             0.7,
             "#b8e186"
            ],
            [
             0.8,
             "#7fbc41"
            ],
            [
             0.9,
             "#4d9221"
            ],
            [
             1,
             "#276419"
            ]
           ],
           "sequential": [
            [
             0,
             "#0d0887"
            ],
            [
             0.1111111111111111,
             "#46039f"
            ],
            [
             0.2222222222222222,
             "#7201a8"
            ],
            [
             0.3333333333333333,
             "#9c179e"
            ],
            [
             0.4444444444444444,
             "#bd3786"
            ],
            [
             0.5555555555555556,
             "#d8576b"
            ],
            [
             0.6666666666666666,
             "#ed7953"
            ],
            [
             0.7777777777777778,
             "#fb9f3a"
            ],
            [
             0.8888888888888888,
             "#fdca26"
            ],
            [
             1,
             "#f0f921"
            ]
           ],
           "sequentialminus": [
            [
             0,
             "#0d0887"
            ],
            [
             0.1111111111111111,
             "#46039f"
            ],
            [
             0.2222222222222222,
             "#7201a8"
            ],
            [
             0.3333333333333333,
             "#9c179e"
            ],
            [
             0.4444444444444444,
             "#bd3786"
            ],
            [
             0.5555555555555556,
             "#d8576b"
            ],
            [
             0.6666666666666666,
             "#ed7953"
            ],
            [
             0.7777777777777778,
             "#fb9f3a"
            ],
            [
             0.8888888888888888,
             "#fdca26"
            ],
            [
             1,
             "#f0f921"
            ]
           ]
          },
          "colorway": [
           "#636efa",
           "#EF553B",
           "#00cc96",
           "#ab63fa",
           "#FFA15A",
           "#19d3f3",
           "#FF6692",
           "#B6E880",
           "#FF97FF",
           "#FECB52"
          ],
          "font": {
           "color": "#2a3f5f"
          },
          "geo": {
           "bgcolor": "white",
           "lakecolor": "white",
           "landcolor": "#E5ECF6",
           "showlakes": true,
           "showland": true,
           "subunitcolor": "white"
          },
          "hoverlabel": {
           "align": "left"
          },
          "hovermode": "closest",
          "mapbox": {
           "style": "light"
          },
          "paper_bgcolor": "white",
          "plot_bgcolor": "#E5ECF6",
          "polar": {
           "angularaxis": {
            "gridcolor": "white",
            "linecolor": "white",
            "ticks": ""
           },
           "bgcolor": "#E5ECF6",
           "radialaxis": {
            "gridcolor": "white",
            "linecolor": "white",
            "ticks": ""
           }
          },
          "scene": {
           "xaxis": {
            "backgroundcolor": "#E5ECF6",
            "gridcolor": "white",
            "gridwidth": 2,
            "linecolor": "white",
            "showbackground": true,
            "ticks": "",
            "zerolinecolor": "white"
           },
           "yaxis": {
            "backgroundcolor": "#E5ECF6",
            "gridcolor": "white",
            "gridwidth": 2,
            "linecolor": "white",
            "showbackground": true,
            "ticks": "",
            "zerolinecolor": "white"
           },
           "zaxis": {
            "backgroundcolor": "#E5ECF6",
            "gridcolor": "white",
            "gridwidth": 2,
            "linecolor": "white",
            "showbackground": true,
            "ticks": "",
            "zerolinecolor": "white"
           }
          },
          "shapedefaults": {
           "line": {
            "color": "#2a3f5f"
           }
          },
          "ternary": {
           "aaxis": {
            "gridcolor": "white",
            "linecolor": "white",
            "ticks": ""
           },
           "baxis": {
            "gridcolor": "white",
            "linecolor": "white",
            "ticks": ""
           },
           "bgcolor": "#E5ECF6",
           "caxis": {
            "gridcolor": "white",
            "linecolor": "white",
            "ticks": ""
           }
          },
          "title": {
           "x": 0.05
          },
          "xaxis": {
           "automargin": true,
           "gridcolor": "white",
           "linecolor": "white",
           "ticks": "",
           "title": {
            "standoff": 15
           },
           "zerolinecolor": "white",
           "zerolinewidth": 2
          },
          "yaxis": {
           "automargin": true,
           "gridcolor": "white",
           "linecolor": "white",
           "ticks": "",
           "title": {
            "standoff": 15
           },
           "zerolinecolor": "white",
           "zerolinewidth": 2
          }
         }
        },
        "title": {
         "text": "Markowitz Mean Varience Model"
        },
        "xaxis": {
         "title": {
          "text": "Volatility (Standard Deviation)"
         }
        },
        "yaxis": {
         "title": {
          "text": "Annualized Returns"
         }
        }
       }
      }
     },
     "metadata": {},
     "output_type": "display_data"
    }
   ],
   "source": [
    "hover_texts = [\n",
    "    f\"{ticker} <br>Volatility: {vol:.3f} <br>Returns: {ret:.3%} <br>Sharpe Ratio: {sr:.3f}\"\n",
    "    for ticker, vol, ret, sr in zip(names, volatility, annualized_returns, sharpe_ratios)\n",
    "]\n",
    "\n",
    "fig = go.Figure(data=go.Scatter(\n",
    "    x=volatility,\n",
    "    y=annualized_returns,\n",
    "    mode='markers',\n",
    "    hoverinfo='text',\n",
    "    hovertext=hover_texts,\n",
    "    marker=dict(color=sharpe_ratios, colorscale = 'RdBu', size=6, line=dict(width=1), colorbar=dict(title=\"Sharpe<br>Ratio\")\n",
    "    )\n",
    "))\n",
    "\n",
    "fig.update_layout(\n",
    "    title='Markowitz Mean Varience Model',\n",
    "    xaxis_title='Volatility (Standard Deviation)',\n",
    "    yaxis_title='Annualized Returns',\n",
    ")\n",
    "\n",
    "fig.show()"
   ]
  },
  {
   "cell_type": "markdown",
   "metadata": {
    "id": "E3i7iFfDabDV"
   },
   "source": [
    "## 4.0 Monte Carlo Method"
   ]
  },
  {
   "cell_type": "code",
   "execution_count": 116,
   "metadata": {
    "colab": {
     "base_uri": "https://localhost:8080/"
    },
    "id": "fsgRqCSWabDV",
    "outputId": "55346305-b21e-48aa-bd8b-0daed1a50060"
   },
   "outputs": [
    {
     "name": "stderr",
     "output_type": "stream",
     "text": [
      "100%|██████████| 1000/1000 [00:02<00:00, 474.02it/s]\n"
     ]
    }
   ],
   "source": [
    "all_portfolios, dominant_portfolios = MonteCarloRBA(names, cov, annualized_returns, 1000)"
   ]
  },
  {
   "cell_type": "code",
   "execution_count": 117,
   "metadata": {
    "colab": {
     "base_uri": "https://localhost:8080/"
    },
    "id": "09tYBpwxabDV",
    "outputId": "055bc292-d45d-4b5b-baaf-482d1c4ede81"
   },
   "outputs": [
    {
     "name": "stdout",
     "output_type": "stream",
     "text": [
      "61 1000\n"
     ]
    }
   ],
   "source": [
    "print (len(dominant_portfolios) ,len(all_portfolios))"
   ]
  },
  {
   "cell_type": "code",
   "execution_count": 118,
   "metadata": {
    "colab": {
     "base_uri": "https://localhost:8080/",
     "height": 542
    },
    "id": "uuj_oTIZabDV",
    "outputId": "c0fec4f3-4492-4608-a54f-48d800b04ba7"
   },
   "outputs": [
    {
     "data": {
      "application/vnd.plotly.v1+json": {
       "config": {
        "plotlyServerURL": "https://plot.ly"
       },
       "data": [
        {
         "hoverinfo": "text",
         "marker": {
          "color": [
           0.6903633884009879,
           0.47625919644138215,
           0.516802832322222,
           1.4966415741521755,
           0.4653470194409011,
           0.6272858660053265,
           1.2936644583934638,
           1.047608498696731,
           0.3770093659566222,
           0.5509497556574393,
           0.9861853672698557,
           0.6542301967727588,
           0.6881670611264782,
           0.6090019623816312,
           0.5549964664587616,
           0.9386770622813276,
           0.8093408055785746,
           1.3537839075015503,
           1.0527788484750744,
           1.4631200962869098,
           0.37700936595662293,
           0.31016726708467107,
           1.432174411656835,
           0.5590232816313316,
           0.632448896824278,
           0.7569233064108838,
           0.5001501133408954,
           0.24100265485712746,
           0.5493309031269576,
           0.37700936595662293,
           0.5997780454595687,
           0.08214528045949422,
           0.4099044590571529,
           0.9861853672698557,
           1.135243746815273,
           1.063537022587205,
           1.403386764051701,
           0.6172582215722686,
           2.4573408142357387,
           1.6084612193838048,
           1.0080960277506488,
           1.0600749982292896,
           0.685361790891903,
           0.9386770622813272,
           0.6127054607918201,
           1.0586490063864473,
           0.3101672670846722,
           1.047608498696731,
           0.3270818850678688,
           1.8427318762209333,
           0.5969759093698876,
           0.4873528903119483,
           0.0022288174717584176,
           1.0769323805581614,
           1.4154578458167653,
           0.5509497556574394,
           1.3649687172213025,
           0.5989880896191684,
           1.0440155523187484,
           1.403386762848533,
           0.0794434722710747,
           0.6716313380924203,
           1.0629681119665266,
           0.37554365998652905,
           0.48735289031194867,
           0.33731292556287046,
           0.8093408055785742,
           0.6580731668778024,
           1.0072243168414408,
           1.4165929030191702,
           0.36643024386281875,
           0.41638973419236974,
           1.3649687172213028,
           0.9386770622813275,
           -0.18702808306553817,
           0.32151062078073106,
           0.9386770622813276,
           0.06773613909875524,
           1.4302776911618758,
           1.3903335016643001,
           1.1544462981774233,
           1.2562583587019076,
           1.047608498696731,
           0.6172582215722686,
           0.6707951147904572,
           0.636736621003518,
           0.6067410590665779,
           0.5001501334701924,
           0.6707951147904572,
           0.021775277466825626,
           1.4321744116568347,
           0.8011939245826479,
           1.256258358701908,
           1.3649687172213025,
           -0.0688151930995428,
           0.6163515166968986,
           0.8299061882117256,
           0.6172582215722687,
           0.30930418792157804,
           1.0738372646079297,
           2.337714379049022,
           0.42120024759523145,
           0.9319704392820506,
           0.6767630814897865,
           0.8307495423082796,
           0.9319704392821385,
           -0.08341307800389783,
           0.9386770622813115,
           0.7044648731754614,
           0.5080708390221468,
           1.432174411656835,
           1.256258358701908,
           0.29995252568765074,
           0.6593583432743116,
           1.5742162604516963,
           0.8307495423082795,
           0.5974937945003702,
           0.6847451437528935,
           0.8511189424785796,
           0.6707951147904571,
           1.2562583587019078,
           0.8093408055785746,
           0.5626747273718132,
           0.6708365417017,
           1.0635370225871907,
           0.7641307964431827,
           0.9386770622813275,
           0.9475181903783193,
           0.19686437350574754,
           0.6163515166968999,
           1.3537839075015505,
           0.46248026592953445,
           1.6591016298816452,
           1.0507326183723031,
           0.3101672670846478,
           0.1922881017318985,
           0.07944347227107545,
           0.0087993356553977,
           0.19688120448728658,
           0.576568797159556,
           2.33385677273932,
           1.8696024477183417,
           0.6296484149976842,
           0.6324489992609083,
           0.3101672670846705,
           0.6274841246095286,
           0.8307495423082796,
           1.389629969097479,
           1.4033867649817506,
           1.3537839075015505,
           0.6580731013489419,
           0.5626743714869993,
           0.6068615258095021,
           0.07944347227107544,
           1.5966334760201415,
           1.1748639194070718,
           1.7225679804372502,
           0.30930418792157804,
           0.629648414997684,
           0.9386770622813276,
           0.6707951147904572,
           0.8093408055785729,
           0.9459529415577429,
           0.0562690438170189,
           0.609631043100689,
           0.9319704392821367,
           1.4154578458167653,
           0.37554365998652683,
           1.5966334760201415,
           0.30845047945925513,
           0.9861853672698555,
           1.4520569472437692,
           0.8336352209801815,
           1.4154578458167653,
           0.6018718994831539,
           0.6296484149976842,
           0.4873528903119486,
           1.0072243168414408,
           0.4159853960776567,
           0.9319704392821385,
           1.0072243168414408,
           0.08214528045949422,
           0.670795114790457,
           0.40786900695668776,
           0.5765687971595559,
           1.063537022587205,
           0.8432574692243652,
           -0.07394351283141208,
           0.76404788021367,
           0.9861853672698558,
           0.33139785383073456,
           1.256258358701908,
           0.8959141161566896,
           0.8093408055785734,
           0.49024688310047443,
           0.9289817371904098,
           0.8093408055785745,
           1.0072243168414405,
           0.43196977012124355,
           1.4588012250393776,
           0.331397853830734,
           1.5966334760201415,
           1.047608498696731,
           -0.15232888093729582,
           0.8307495423082796,
           1.4154578458167648,
           0.5330782262913668,
           1.4325329591552836,
           0.3926236863598622,
           0.6296484149976838,
           0.7569233064108828,
           0.9289818349140587,
           0.8307495423082795,
           0.7440765091056413,
           0.516802832322222,
           0.6296484149976842,
           1.3537839075015505,
           0.9894505319489469,
           0.48735289031194856,
           1.0477694499693124,
           1.2932122778721715,
           1.432174411656835,
           0.6297362590097113,
           1.047608498696731,
           0.331397853830734,
           0.4873528903119486,
           1.1913575279839037,
           0.4159853960776572,
           0.3270818850678691,
           0.6296484149976823,
           1.008095815159489,
           1.2562583587019078,
           2.333856772739321,
           0.7569233064108839,
           1.468241179975377,
           1.0462067497497263,
           1.3649687172213025,
           1.4806256060333558,
           0.5765687971595558,
           0.3101672670846682,
           0.6630985232653641,
           0.5396606168833975,
           0.5969759093698875,
           1.4365374629923195,
           0.5911909304644107,
           1.2562583587019078,
           0.6067410590665819,
           1.432174411656835,
           0.413239460340967,
           2.333856772739321,
           0.6361491185722716,
           0.47625919644138215,
           1.0635370225872047,
           0.9319704392821384,
           1.3734196689308027,
           1.3662598920696063,
           1.047608498696731,
           1.432174411656835,
           0.36646554709058254,
           1.432174411656835,
           -0.14447792564804493,
           1.4682415360361696,
           1.047608498696731,
           0.12690902454901495,
           0.6163515166968999,
           1.3649687172213023,
           0.6789062031073696,
           1.2562583587019083,
           0.9319704392821384,
           0.0821452804594942,
           1.526082370296464,
           0.8093408055785746,
           0.1922881017318962,
           1.063537022587205,
           -0.1685211489558688,
           0.8105297297437364,
           1.0652049779456458,
           1.432174411656835,
           1.1004804131012769,
           1.4332153926587519,
           0.8307495423082795,
           0.9861853672698558,
           0.39286513407765394,
           1.4321744116568336,
           1.4154578458167653,
           0.7044560114934042,
           0.6412435822287662,
           0.008799335655397486,
           0.6365989678924676,
           0.337312925562874,
           0.29995252568764974,
           0.5406842968835001,
           0.5330784194382888,
           1.256258358701908,
           0.9405156183917336,
           1.0635370225872047,
           2.333856772739321,
           1.3537839075015505,
           1.6725076812078574,
           0.3789429812543031,
           0.8432573846449528,
           1.6057834825644308,
           2.333856772739321,
           1.0769327968493931,
           0.021775277466825914,
           0.9880977689599145,
           0.8673936148504228,
           0.6296484149976842,
           0.6067410590665818,
           1.047608498696731,
           2.333856772739321,
           -0.0739435128314122,
           0.47625919644138215,
           1.256258358701908,
           1.0635370225872045,
           0.7441244818633936,
           0.8093408055785746,
           1.4365370864156446,
           0.6402594501414471,
           0.008799335655397696,
           0.8093408055785746,
           1.2562583587019078,
           0.9319704392821385,
           1.0072243168414408,
           1.4798744771066703,
           1.3649687172213023,
           1.256258358701908,
           0.6837933536252944,
           1.4631200962869098,
           0.6837933536252943,
           0.9861853672698558,
           0.9861853672698294,
           0.337312925562874,
           0.9459529554517616,
           0.2036631278922422,
           0.7047399341037421,
           0.9868889548608437,
           0.6067410590665819,
           1.4154578458167653,
           0.7565016278962237,
           2.3338567727393205,
           0.6296484149976842,
           1.0041934774877632,
           1.4309805560529372,
           0.5239594619991494,
           0.5509497556574394,
           1.135244052914724,
           0.9884571951904241,
           0.7480192832174206,
           0.3270818850678692,
           0.9319704392821384,
           0.6272858660053265,
           0.46159341374880636,
           0.6442781214590135,
           0.8307495423082796,
           1.5966334760201415,
           0.6837933536252946,
           0.5853544289750792,
           0.5306499310334596,
           0.6191882429810434,
           1.6372267140613905,
           1.063537022587205,
           1.4684176018399737,
           0.5633510181991626,
           0.04832378511824523,
           1.651656657627699,
           0.6297358292046521,
           0.6446597643895684,
           0.3770093659566227,
           0.355567561905008,
           0.6272858660053264,
           0.9386770622813276,
           0.056269043817018784,
           0.5289415929410435,
           0.10978759919301373,
           0.05626904381701888,
           1.0462067413789222,
           0.1922881017318983,
           0.008799335655397375,
           1.416592986177579,
           1.4631200962869098,
           1.047608498696731,
           2.345342745599551,
           0.9861853672698557,
           0.9886288340231706,
           2.3380693899862455,
           0.309304187921578,
           0.6197100478430557,
           0.704627945409183,
           0.30930418792157777,
           0.6285314795301322,
           1.145231334073188,
           0.6172582215722424,
           0.5633510181991624,
           0.47625919644138215,
           0.5633510181991626,
           1.012403672482127,
           1.4746110170673732,
           0.10978759919301376,
           0.659956411078811,
           0.8093408055785745,
           1.5218131868642464,
           0.47275358070551415,
           1.256258358701908,
           1.6025784148176734,
           0.8208261524850669,
           0.6014822367094221,
           2.3338714863513164,
           0.817468341856939,
           0.6163515166969007,
           1.0440155523187484,
           1.3649687172213028,
           0.5969759093698861,
           0.9386770622813276,
           0.6067410590665809,
           0.6767709543326943,
           1.4333973842731302,
           0.48144430416252704,
           0.6845703996317402,
           0.4990478292120601,
           1.256258358701908,
           1.4572564150339509,
           -0.07978855623271255,
           0.6163515166969006,
           1.6344552797459475,
           0.9440316064091003,
           0.8224024211880158,
           0.40290081962309277,
           1.390333207730016,
           0.5171100160292205,
           0.4003744222442038,
           0.9386770622813196,
           1.1440797481102793,
           0.3101672670846723,
           1.6084612176640063,
           0.7440765091056415,
           0.8093408055785746,
           0.30930418792157804,
           1.6800207473794946,
           0.5195585691710168,
           0.5633510181991617,
           0.9386770622813276,
           0.9405156314866001,
           0.9861867769320496,
           0.5543757282106974,
           0.4884180285619463,
           0.347449163115423,
           0.6837933536252946,
           0.9386770622813279,
           1.0746590169385948,
           0.6163515166968738,
           0.2036631278922389,
           0.39262368635986206,
           0.9521423857763656,
           0.6048130344254268,
           0.6077987158433594,
           0.9386770622813275,
           1.4165933270398638,
           0.6173158965808213,
           0.8307495423082796,
           1.3663275046686956,
           1.0508114891945437,
           1.047608498696731,
           0.5509497556574393,
           0.06004543235063722,
           1.0366492188753658,
           0.30930418792157804,
           0.46248041652346517,
           1.5741501947301522,
           0.9861853672698558,
           0.12482507067192088,
           0.2036631278922422,
           0.6817667622453674,
           1.5966334760201415,
           0.5289415929410433,
           0.6887635091484404,
           1.0809254137831363,
           1.0623445203632613,
           0.3747652989341736,
           -0.08341307800388797,
           0.5289415929410435,
           1.4141525881853465,
           1.063537022587198,
           0.9386770622813276,
           1.4631200962869098,
           1.0072243168414405,
           1.0723557103256478,
           0.9861853672698558,
           1.8427318774843209,
           0.3770093659566228,
           1.0072243168414408,
           0.6197100478430605,
           1.4154578458167646,
           0.6163515166969006,
           0.6048130344254264,
           0.9861853672698558,
           1.4324681313740106,
           0.048323785118245005,
           0.9319704392821383,
           1.256258358701908,
           0.2999525256876507,
           -0.07978855623271255,
           0.5289415929410434,
           0.34807118550339666,
           0.5790006384783851,
           1.047608498696731,
           1.432174411656835,
           1.4175640919312091,
           1.0072243168414408,
           1.047608498696731,
           0.6319266595036311,
           0.6881653255993196,
           0.29995252568764885,
           0.6402596184649407,
           0.6163515166969001,
           0.48420239897682227,
           1.0586111967969385,
           0.6174160750545786,
           1.4154578458167653,
           1.4867583182301463,
           0.3213033340127625,
           0.09120121730545036,
           0.6065872661315715,
           1.4154578458167641,
           0.7066816662719015,
           2.333856772739321,
           0.8307495423082795,
           0.6797127706118782,
           1.4959981051333135,
           1.35823283405486,
           0.6347329883227212,
           1.0856359804723978,
           1.4341422702541051,
           0.7464742763704617,
           0.686813850544123,
           0.9374921667181392,
           0.32708188506786895,
           0.8307495423082795,
           0.7366131267019683,
           1.4230029580691754,
           2.3750671606579323,
           0.5509497556574394,
           0.4615934137488065,
           1.3649687172213025,
           0.6272858660053265,
           0.04832378511824521,
           0.9422442078102331,
           0.7440765091056415,
           1.4930758257280448,
           -0.18702808306593732,
           1.1544462287460415,
           1.2194151682239696,
           0.4615934137488065,
           0.05626904381701856,
           1.0440155523187484,
           1.5966334760201415,
           1.2562583587019074,
           0.6185340332211835,
           1.3537839075015505,
           0.6599563085439444,
           1.2856712220951725,
           1.109668696614127,
           0.8093408055785744,
           2.33385677273932,
           0.6296484149976811,
           0.5983256437324969,
           1.3692208481295316,
           0.11014479707266524,
           1.0440155523187484,
           0.6837933536252936,
           1.4769827599052843,
           1.3537839075015505,
           0.6170546759977449,
           0.5168028323222219,
           0.6320593078249169,
           0.5289415929410425,
           1.4154578458167653,
           0.5633510181991623,
           0.9883064561865046,
           1.4154578458167653,
           0.47275358070550616,
           0.718156129122434,
           1.3537839075015505,
           0.7441246021065797,
           0.6103904994900246,
           1.256258358701908,
           1.0440155523187484,
           0.8307496995865536,
           0.307409595667145,
           0.5633510181991624,
           0.5001501357471191,
           0.516802832322222,
           0.656640713786796,
           0.310167267084672,
           1.4760208694595407,
           1.651656660878413,
           0.6574080174126796,
           0.6403416063948313,
           0.337312925562874,
           0.6985803071196449,
           0.6296484149976842,
           0.8308943772484351,
           0.42598931566296255,
           1.0635370225872047,
           0.6067410590665816,
           1.3537839075015505,
           0.41598539607765783,
           1.4154578458167653,
           1.5966334760201415,
           0.1243538334557059,
           0.43276419192341065,
           0.6305239054196047,
           0.8307495423082795,
           0.9861853672696169,
           0.41323946034096715,
           1.4262771347331822,
           0.5509497556574393,
           0.3101672670846723,
           0.46159341374880625,
           0.8093408055785746,
           0.8307495423082794,
           0.6840463971352819,
           0.6296484149976842,
           0.6197100478430606,
           1.6911426896934474,
           0.29995252568764996,
           0.6071111771120186,
           0.24100265485712735,
           0.7569233064108838,
           1.3537839075015505,
           1.3981004828510624,
           0.9366518446760368,
           0.41347866068983463,
           1.356351109297938,
           1.432174411656835,
           0.9887571646887271,
           1.0440155523187484,
           2.333856772739321,
           0.5512205198002864,
           1.4321744116568347,
           0.1243538334557059,
           1.4154578458167653,
           0.30930418792157804,
           1.256258358701908,
           0.3846505034531313,
           0.9669896320551441,
           1.4669603171581092,
           0.8202783330156859,
           1.3649687172213025,
           0.24417657940864151,
           0.9875198661039075,
           0.19688120448728655,
           0.6163515166969004,
           0.6179701637262358,
           1.0535235780604408,
           0.5509497556574382,
           0.4873528903119487,
           0.7547097571677832,
           0.472753580705513,
           0.7569233064108841,
           1.0440155523187484,
           0.9861853672698558,
           1.5185954277192961,
           1.722567980492151,
           1.020901828347794,
           0.6296484149976842,
           0.8093408055785746,
           1.6506479478342244,
           0.6458836296529,
           1.4262769749638775,
           0.48735289031194867,
           0.8673936072804665,
           0.627082522197156,
           1.4321744116568345,
           0.6197100478430605,
           0.9464679975963906,
           0.9373823041849215,
           0.1097875991930137,
           0.494811672265167,
           0.6172582215722621,
           0.6837933536252946,
           0.46159341374880647,
           0.5509497556574394,
           0.41323946034096715,
           0.6067410590665817,
           0.685533276987341,
           1.0054500007240752,
           1.04760849869673,
           0.37700936595660706,
           2.333856772739321,
           0.39136788676887974,
           0.516802832322222,
           1.5260822666309515,
           1.4744996388032638,
           1.427068427861681,
           1.4324684464086057,
           0.8202782322257696,
           1.6591011401365872,
           0.1243538334557059,
           0.32708188506786917,
           0.6270824895371794,
           0.7047399738175297,
           1.596633476020141,
           1.4154578458167655,
           1.0635370225872043,
           0.6837933536252946,
           0.6272858660053258,
           0.9669898843096018,
           0.48735289031194856,
           0.3926236863598621,
           1.0072243168414408,
           1.0635370225872047,
           0.2036631278922422,
           0.5289415929410431,
           0.6197100478430606,
           0.10950836517817254,
           1.5966334760201415,
           0.9091846344336009,
           0.9386770622813272,
           1.3662598975716367,
           1.4321744116568342,
           1.4930758268094746,
           0.6837933536252946,
           0.6296484149976841,
           0.8203135241091822,
           0.43459067878742297,
           0.47625919644138215,
           1.3537839075015505,
           0.9440317171531625,
           0.9861853672698553,
           0.5773367451315703,
           2.333856772739321,
           1.0715789456540314,
           0.8307495423082795,
           1.432174411656835,
           1.4930758270510325,
           0.5969759093698844,
           1.5974328501263735,
           0.5379700548561581,
           0.4163897109205169,
           0.4873528903119487,
           0.6771292911576395,
           0.5969759093698797,
           0.5633510181991626,
           1.6557607183153393,
           1.4798747274717876,
           1.4154578458167653,
           1.3649687172213028,
           1.011568981115668,
           0.05626904381701882,
           0.576568797159556,
           1.5966334760201413,
           1.3718618446462394,
           0.5947813988393489,
           -0.08772634739400026,
           1.0235703531639142,
           1.036649656826506,
           0.4884180285619462,
           0.1922881017318985,
           0.5168028323222217,
           1.3587999295037263,
           1.0462067366789565,
           1.3537839075015505,
           0.7607793098545121,
           0.6197100478430606,
           1.610635307116275,
           1.2577786318964765,
           0.9386770622813276,
           1.3537839075015503,
           0.4716442906786131,
           0.7036984015452121,
           1.0470673798953414,
           0.934816531561885,
           0.7569406978162602,
           1.2562583587019078,
           0.6707951147904572,
           1.432174411656835,
           1.4631200962869098,
           0.30994219267854284,
           0.24100265485712713,
           0.37554365998652905,
           1.2740957006729483,
           1.2194150927400202,
           1.1667106336953958,
           0.8177871194511227,
           1.3649687172213025,
           0.8965247522185825,
           0.618534177789184,
           0.38666780789690686,
           0.6167396068040426,
           1.4631200962869098,
           0.5306916976672587,
           0.7569233064108841,
           0.36645366294610815,
           1.1450546247521425,
           1.4966416008092254,
           0.8093408055785746,
           0.5416200500665858,
           -0.07394351283141229,
           0.4873528903119487,
           1.3568207516522903,
           1.432532959191504,
           0.6503359487624778,
           0.6574080282730491,
           0.6272858660053265,
           0.5671059429271104,
           0.5042443719720151,
           1.047608498696731,
           0.04832378511824307,
           0.3926236863598622,
           0.7177733385589871,
           0.4873528903119481,
           2.333856772739321,
           0.6048130344254219,
           1.4798747439045015,
           0.9386770622813276,
           2.333856772739321,
           0.2999525256876505,
           0.6296484149976841,
           0.6172582215722687,
           0.6881674114815994,
           1.256258358701908,
           0.37700936595662293,
           1.5199677965227871,
           0.6257248047073283,
           1.4840322743033296,
           1.5091885302736128,
           0.41598539607765783,
           0.08214528045949422,
           0.6285936096211936,
           0.5289415929410435,
           1.4206330410289587,
           0.6250018888263094,
           1.6344551166527854,
           1.466607910955218,
           0.3270818850678683,
           0.6837933536252946,
           0.9319704392821382,
           1.256258358701908,
           0.6490424946095699,
           1.7816344482660513,
           1.415457845816765,
           1.6641740836023116,
           0.327081885067869,
           2.342739322980875,
           0.5509497556574374,
           1.4631200962869098,
           0.9669898854719752,
           0.48892028792344233,
           1.174863933221549,
           0.934816553353382,
           0.6078673103333683,
           0.8307495423082796,
           0.9336349981353543,
           0.4727535807055141,
           0.7241692718604718,
           0.6707951147904572,
           1.0635370225871963,
           0.4884180285619462,
           1.2065167519261748,
           0.39262368635986017,
           1.5966334760201415,
           1.047608498696731,
           1.0470673948847515,
           0.6837933536252947,
           0.5168498019696336,
           1.4154578458167653,
           0.5168028323222209,
           0.1922881017318985,
           0.9386770622813275,
           0.6707951147904546,
           1.502639789479815,
           0.9319704392821385,
           1.4631200962869098,
           0.428018715463186,
           0.6197100478430605,
           0.4884180285619463,
           1.5972348851112403,
           1.256258358701908,
           1.1435018170888316,
           0.694306728112661,
           1.432174411656835,
           0.6197100478430604,
           0.6172582215722687,
           1.5354983559797704,
           0.6580731597286725,
           0.6707951147904568,
           0.7024881981529726,
           0.6172582215722687,
           0.32708188506786917,
           2.333856772739319,
           1.4717485446810892,
           0.6272858660053265,
           0.6197100478430606,
           0.8589960988397873,
           0.8093408055785745,
           -0.0246992658006466,
           1.3537839075015505,
           0.6564136484258098,
           0.805153560011204,
           -0.07394351283141425,
           1.2091505223983514,
           0.16879256979950127,
           0.472753580705514,
           1.4158312063785197,
           0.4132394603409668,
           0.6707951147904568,
           1.047608498696731,
           0.7569233064108841,
           0.7241698753744975,
           1.256258358701908,
           0.6313228666595558,
           1.3587999168582332,
           0.7440765091056415,
           0.9861853672698557,
           0.337312925562874,
           0.5406843513158079,
           0.7569233064108841,
           2.3512706563950987,
           1.5966334760201402,
           0.5633510181991608,
           0.550949755657439,
           1.5966334760201413,
           0.604813034425427,
           0.596975909369878,
           0.8093408055785746,
           0.33139785383073456,
           0.8093408055785746,
           0.6067410590665818,
           0.676763049786107,
           2.351270329555104,
           0.604813034425427,
           0.6838153124359287,
           1.0749937371687341,
           0.9880978643250297,
           1.4576898185601066,
           0.9852708664864614,
           1.432174411656835,
           0.41453429491788235,
           0.5543753420260615,
           0.4615934137488065,
           1.4631200962869098,
           0.47625919644138215,
           1.040732306678598,
           1.4850708517507247,
           1.5966334760201415,
           0.5633510181991608,
           1.1104976178901855,
           0.5168498123122154,
           0.7569233064108838,
           0.24100265485712746,
           1.0516456305584607,
           1.0938780764006448,
           0.576568797159556,
           1.0440155523187484,
           0.2474334854882489,
           1.0635370225872043,
           0.6197227049923436,
           1.3537839075015505,
           0.6048130344254269,
           1.1104976186407178,
           1.0476084986967307,
           0.9594572196455873,
           0.9861853672698558,
           1.304236256052526,
           0.9862330481714461,
           1.432174411656835,
           1.0635370225872047,
           0.33139785383073456,
           1.432174411656835,
           0.2036631278922422,
           0.9308751519472159,
           0.8093408055785741,
           0.4132394603409666,
           1.4154578458167653,
           0.576568797159556,
           0.42309781634404997,
           0.8307495423082795,
           0.6996860013895013,
           0.4882328598271979,
           1.4631200962869098,
           1.4631200962869098,
           1.0313890894430242,
           0.6070585362959986,
           1.4206330716799342,
           0.5765687971595554,
           0.4159853960776501,
           0.6163515166968982,
           0.6274841280573004,
           1.2562583587019078,
           1.4100958267417585,
           0.8712215259998846,
           0.6048130344254269,
           0.47275358070551404,
           0.3926236863598623,
           0.659956414608464,
           0.9319704392821385,
           0.9319704392821384,
           1.4850707961384557,
           0.6707951147904567
          ],
          "colorbar": {
           "title": {
            "text": "Sharpe<br>Ratio"
           }
          },
          "colorscale": [
           [
            0,
            "rgb(103,0,31)"
           ],
           [
            0.1,
            "rgb(178,24,43)"
           ],
           [
            0.2,
            "rgb(214,96,77)"
           ],
           [
            0.3,
            "rgb(244,165,130)"
           ],
           [
            0.4,
            "rgb(253,219,199)"
           ],
           [
            0.5,
            "rgb(247,247,247)"
           ],
           [
            0.6,
            "rgb(209,229,240)"
           ],
           [
            0.7,
            "rgb(146,197,222)"
           ],
           [
            0.8,
            "rgb(67,147,195)"
           ],
           [
            0.9,
            "rgb(33,102,172)"
           ],
           [
            1,
            "rgb(5,48,97)"
           ]
          ],
          "line": {
           "width": 1
          },
          "showscale": true,
          "size": 7
         },
         "mode": "markers",
         "text": [
          "Return: 28.115%<br>Volatility: 0.407<br>Sharpe Ratio: 0.690<br>NEE_Close: Weight=0.559<br>RMD_Close: Weight=0.441<br>T_Close: Weight=0.000",
          "Return: 21.279%<br>Volatility: 0.447<br>Sharpe Ratio: 0.476<br>CSCO_Close: Weight=0.000<br>MCD_Close: Weight=0.000<br>HD_Close: Weight=1.000",
          "Return: 29.594%<br>Volatility: 0.573<br>Sharpe Ratio: 0.517<br>JPM_Close: Weight=0.000<br>CVX_Close: Weight=0.000<br>MS_Close: Weight=1.000",
          "Return: 67.496%<br>Volatility: 0.451<br>Sharpe Ratio: 1.497<br>K_Close: Weight=0.000<br>SPOT_Close: Weight=0.627<br>UNH_Close: Weight=0.000<br>QCOM_Close: Weight=0.373",
          "Return: 19.958%<br>Volatility: 0.429<br>Sharpe Ratio: 0.465<br>EW_Close: Weight=0.157<br>CAT_Close: Weight=0.843<br>V_Close: Weight=0.000",
          "Return: 24.168%<br>Volatility: 0.385<br>Sharpe Ratio: 0.627<br>GOOG_Close: Weight=1.000<br>GS_Close: Weight=0.000<br>JNJ_Close: Weight=0.000",
          "Return: 55.659%<br>Volatility: 0.430<br>Sharpe Ratio: 1.294<br>GILD_Close: Weight=0.000<br>AAPL_Close: Weight=0.646<br>AMD_Close: Weight=0.186<br>TMO_Close: Weight=0.168",
          "Return: 55.263%<br>Volatility: 0.528<br>Sharpe Ratio: 1.048<br>ACN_Close: Weight=0.000<br>ZBH_Close: Weight=0.000<br>QCOM_Close: Weight=1.000",
          "Return: 14.383%<br>Volatility: 0.381<br>Sharpe Ratio: 0.377<br>GE_Close: Weight=0.000<br>CMCSA_Close: Weight=1.000<br>EMR_Close: Weight=0.000",
          "Return: 28.769%<br>Volatility: 0.522<br>Sharpe Ratio: 0.551<br>CSCO_Close: Weight=0.000<br>VRTX_Close: Weight=0.000<br>CRM_Close: Weight=1.000",
          "Return: 28.590%<br>Volatility: 0.290<br>Sharpe Ratio: 0.986<br>K_Close: Weight=0.000<br>COST_Close: Weight=1.000<br>LMT_Close: Weight=0.000<br>MMM_Close: Weight=0.000",
          "Return: 20.854%<br>Volatility: 0.319<br>Sharpe Ratio: 0.654<br>TXN_Close: Weight=0.539<br>KO_Close: Weight=0.000<br>UA_Close: Weight=0.000<br>GIS_Close: Weight=0.461",
          "Return: 21.036%<br>Volatility: 0.306<br>Sharpe Ratio: 0.688<br>VZ_Close: Weight=0.000<br>WMT_Close: Weight=0.821<br>VRTX_Close: Weight=0.000<br>HD_Close: Weight=0.179",
          "Return: 24.487%<br>Volatility: 0.402<br>Sharpe Ratio: 0.609<br>EW_Close: Weight=0.089<br>BA_Close: Weight=0.000<br>LLY_Close: Weight=0.911",
          "Return: 21.024%<br>Volatility: 0.379<br>Sharpe Ratio: 0.555<br>ACN_Close: Weight=0.602<br>ORCL_Close: Weight=0.398<br>ZBH_Close: Weight=0.000",
          "Return: 35.075%<br>Volatility: 0.374<br>Sharpe Ratio: 0.939<br>DUK_Close: Weight=0.000<br>LMT_Close: Weight=0.000<br>AMGN_Close: Weight=0.000<br>TMO_Close: Weight=1.000",
          "Return: 33.675%<br>Volatility: 0.416<br>Sharpe Ratio: 0.809<br>SO_Close: Weight=0.000<br>NKE_Close: Weight=1.000<br>V_Close: Weight=0.000",
          "Return: 78.950%<br>Volatility: 0.583<br>Sharpe Ratio: 1.354<br>MRK_Close: Weight=0.000<br>RTX_Close: Weight=0.000<br>NVDA_Close: Weight=1.000",
          "Return: 52.675%<br>Volatility: 0.500<br>Sharpe Ratio: 1.053<br>GIS_Close: Weight=0.221<br>AMD_Close: Weight=0.779<br>JNJ_Close: Weight=0.000<br>AMGN_Close: Weight=0.000",
          "Return: 108.305%<br>Volatility: 0.740<br>Sharpe Ratio: 1.463<br>SNAP_Close: Weight=1.000<br>PM_Close: Weight=0.000<br>EXC_Close: Weight=0.000",
          "Return: 14.383%<br>Volatility: 0.381<br>Sharpe Ratio: 0.377<br>MDT_Close: Weight=0.000<br>BIIB_Close: Weight=0.000<br>KO_Close: Weight=0.000<br>CMCSA_Close: Weight=1.000",
          "Return: 9.397%<br>Volatility: 0.303<br>Sharpe Ratio: 0.310<br>BTI_Close: Weight=0.000<br>BAC_Close: Weight=0.000<br>JNJ_Close: Weight=1.000",
          "Return: 55.101%<br>Volatility: 0.385<br>Sharpe Ratio: 1.432<br>AMZN_Close: Weight=1.000<br>MO_Close: Weight=0.000<br>PG_Close: Weight=0.000<br>MRK_Close: Weight=0.000",
          "Return: 25.319%<br>Volatility: 0.453<br>Sharpe Ratio: 0.559<br>CRM_Close: Weight=0.760<br>CMCSA_Close: Weight=0.240<br>VRTX_Close: Weight=0.000",
          "Return: 25.655%<br>Volatility: 0.406<br>Sharpe Ratio: 0.632<br>BMY_Close: Weight=0.000<br>EW_Close: Weight=0.000<br>NEE_Close: Weight=0.882<br>HD_Close: Weight=0.118",
          "Return: 33.406%<br>Volatility: 0.441<br>Sharpe Ratio: 0.757<br>MDT_Close: Weight=0.000<br>MSFT_Close: Weight=1.000<br>RTX_Close: Weight=0.000",
          "Return: 17.286%<br>Volatility: 0.346<br>Sharpe Ratio: 0.500<br>PG_Close: Weight=0.492<br>AEP_Close: Weight=0.000<br>CAT_Close: Weight=0.508",
          "Return: 12.618%<br>Volatility: 0.524<br>Sharpe Ratio: 0.241<br>VZ_Close: Weight=0.000<br>GS_Close: Weight=1.000<br>MRK_Close: Weight=0.000",
          "Return: 14.813%<br>Volatility: 0.270<br>Sharpe Ratio: 0.549<br>KR_Close: Weight=0.292<br>GIS_Close: Weight=0.488<br>UNH_Close: Weight=0.220",
          "Return: 14.383%<br>Volatility: 0.381<br>Sharpe Ratio: 0.377<br>MMM_Close: Weight=0.000<br>CMCSA_Close: Weight=1.000<br>SRE_Close: Weight=0.000",
          "Return: 21.024%<br>Volatility: 0.351<br>Sharpe Ratio: 0.600<br>PG_Close: Weight=0.292<br>GS_Close: Weight=0.043<br>REGN_Close: Weight=0.665<br>PEP_Close: Weight=0.000",
          "Return: 2.947%<br>Volatility: 0.359<br>Sharpe Ratio: 0.082<br>PFE_Close: Weight=1.000<br>UA_Close: Weight=0.000<br>BA_Close: Weight=0.000",
          "Return: 11.501%<br>Volatility: 0.281<br>Sharpe Ratio: 0.410<br>KR_Close: Weight=0.635<br>PEP_Close: Weight=0.365<br>VZ_Close: Weight=0.000",
          "Return: 28.590%<br>Volatility: 0.290<br>Sharpe Ratio: 0.986<br>COST_Close: Weight=1.000<br>HD_Close: Weight=0.000<br>BABA_Close: Weight=0.000",
          "Return: 32.553%<br>Volatility: 0.287<br>Sharpe Ratio: 1.135<br>DHR_Close: Weight=0.549<br>MSFT_Close: Weight=0.000<br>COST_Close: Weight=0.451",
          "Return: 35.814%<br>Volatility: 0.337<br>Sharpe Ratio: 1.064<br>GE_Close: Weight=0.000<br>PG_Close: Weight=0.000<br>DHR_Close: Weight=1.000",
          "Return: 62.424%<br>Volatility: 0.445<br>Sharpe Ratio: 1.403<br>SPOT_Close: Weight=0.745<br>NEE_Close: Weight=0.255<br>CSCO_Close: Weight=0.000<br>AEP_Close: Weight=0.000",
          "Return: 23.883%<br>Volatility: 0.387<br>Sharpe Ratio: 0.617<br>GOOGL_Close: Weight=1.000<br>SRE_Close: Weight=0.000<br>T_Close: Weight=0.000<br>IBM_Close: Weight=0.000",
          "Return: 131.649%<br>Volatility: 0.536<br>Sharpe Ratio: 2.457<br>MDT_Close: Weight=0.000<br>TSLA_Close: Weight=0.490<br>RDY_Close: Weight=0.510",
          "Return: 56.549%<br>Volatility: 0.352<br>Sharpe Ratio: 1.608<br>UBER_Close: Weight=0.062<br>HON_Close: Weight=0.000<br>RDY_Close: Weight=0.938",
          "Return: 45.177%<br>Volatility: 0.448<br>Sharpe Ratio: 1.008<br>ORCL_Close: Weight=0.052<br>UA_Close: Weight=0.000<br>NFLX_Close: Weight=0.948",
          "Return: 40.342%<br>Volatility: 0.381<br>Sharpe Ratio: 1.060<br>V_Close: Weight=0.000<br>MS_Close: Weight=0.095<br>NFLX_Close: Weight=0.686<br>LLY_Close: Weight=0.219",
          "Return: 24.243%<br>Volatility: 0.354<br>Sharpe Ratio: 0.685<br>REGN_Close: Weight=0.442<br>ABT_Close: Weight=0.558<br>GE_Close: Weight=0.000",
          "Return: 35.075%<br>Volatility: 0.374<br>Sharpe Ratio: 0.939<br>T_Close: Weight=0.000<br>TXN_Close: Weight=0.000<br>EMR_Close: Weight=0.000<br>TMO_Close: Weight=1.000",
          "Return: 18.357%<br>Volatility: 0.300<br>Sharpe Ratio: 0.613<br>GIS_Close: Weight=0.529<br>BA_Close: Weight=0.000<br>ACN_Close: Weight=0.471",
          "Return: 57.422%<br>Volatility: 0.542<br>Sharpe Ratio: 1.059<br>ADBE_Close: Weight=0.253<br>RTX_Close: Weight=0.000<br>AMD_Close: Weight=0.747",
          "Return: 9.397%<br>Volatility: 0.303<br>Sharpe Ratio: 0.310<br>T_Close: Weight=0.000<br>GILD_Close: Weight=0.000<br>JNJ_Close: Weight=1.000",
          "Return: 55.263%<br>Volatility: 0.528<br>Sharpe Ratio: 1.048<br>QCOM_Close: Weight=1.000<br>PM_Close: Weight=0.000<br>PG_Close: Weight=0.000",
          "Return: 13.994%<br>Volatility: 0.428<br>Sharpe Ratio: 0.327<br>V_Close: Weight=1.000<br>BAC_Close: Weight=0.000<br>SYY_Close: Weight=0.000",
          "Return: 56.029%<br>Volatility: 0.304<br>Sharpe Ratio: 1.843<br>IBM_Close: Weight=0.000<br>MDT_Close: Weight=0.000<br>AMZN_Close: Weight=0.423<br>RDY_Close: Weight=0.577",
          "Return: 25.771%<br>Volatility: 0.432<br>Sharpe Ratio: 0.597<br>CSCO_Close: Weight=0.000<br>TXN_Close: Weight=1.000<br>BAC_Close: Weight=0.000",
          "Return: 19.527%<br>Volatility: 0.401<br>Sharpe Ratio: 0.487<br>BSX_Close: Weight=0.000<br>MO_Close: Weight=0.000<br>ORCL_Close: Weight=1.000",
          "Return: 0.066%<br>Volatility: 0.298<br>Sharpe Ratio: 0.002<br>LMT_Close: Weight=0.000<br>UA_Close: Weight=0.000<br>MO_Close: Weight=0.000<br>BMY_Close: Weight=1.000",
          "Return: 35.649%<br>Volatility: 0.331<br>Sharpe Ratio: 1.077<br>TMO_Close: Weight=0.223<br>ABBV_Close: Weight=0.000<br>DHR_Close: Weight=0.777",
          "Return: 74.029%<br>Volatility: 0.523<br>Sharpe Ratio: 1.415<br>CSCO_Close: Weight=0.000<br>PYPL_Close: Weight=1.000<br>CPB_Close: Weight=0.000<br>EXC_Close: Weight=0.000",
          "Return: 28.769%<br>Volatility: 0.522<br>Sharpe Ratio: 0.551<br>K_Close: Weight=0.000<br>CRM_Close: Weight=1.000<br>CSCO_Close: Weight=0.000<br>PM_Close: Weight=0.000",
          "Return: 74.788%<br>Volatility: 0.548<br>Sharpe Ratio: 1.365<br>VZ_Close: Weight=0.000<br>MA_Close: Weight=0.000<br>SPOT_Close: Weight=1.000",
          "Return: 23.291%<br>Volatility: 0.389<br>Sharpe Ratio: 0.599<br>UNH_Close: Weight=0.237<br>REGN_Close: Weight=0.763<br>BTI_Close: Weight=0.000<br>PEP_Close: Weight=0.000",
          "Return: 63.359%<br>Volatility: 0.607<br>Sharpe Ratio: 1.044<br>BMY_Close: Weight=0.000<br>LYFT_Close: Weight=0.000<br>LMT_Close: Weight=0.000<br>AMD_Close: Weight=1.000",
          "Return: 62.424%<br>Volatility: 0.445<br>Sharpe Ratio: 1.403<br>AEP_Close: Weight=0.000<br>NEE_Close: Weight=0.255<br>JPM_Close: Weight=0.000<br>SPOT_Close: Weight=0.745",
          "Return: 3.293%<br>Volatility: 0.414<br>Sharpe Ratio: 0.079<br>UA_Close: Weight=0.000<br>MDT_Close: Weight=1.000<br>PM_Close: Weight=0.000",
          "Return: 20.477%<br>Volatility: 0.305<br>Sharpe Ratio: 0.672<br>WMT_Close: Weight=0.945<br>KR_Close: Weight=0.055<br>GILD_Close: Weight=0.000",
          "Return: 53.944%<br>Volatility: 0.507<br>Sharpe Ratio: 1.063<br>MDT_Close: Weight=0.000<br>LLY_Close: Weight=0.248<br>AMD_Close: Weight=0.752<br>KO_Close: Weight=0.000",
          "Return: 18.210%<br>Volatility: 0.485<br>Sharpe Ratio: 0.376<br>KO_Close: Weight=0.000<br>MMM_Close: Weight=0.000<br>VRTX_Close: Weight=0.000<br>UNH_Close: Weight=1.000",
          "Return: 19.527%<br>Volatility: 0.401<br>Sharpe Ratio: 0.487<br>JNJ_Close: Weight=0.000<br>SAP_Close: Weight=0.000<br>ORCL_Close: Weight=1.000",
          "Return: 16.468%<br>Volatility: 0.488<br>Sharpe Ratio: 0.337<br>INTC_Close: Weight=0.000<br>XOM_Close: Weight=0.000<br>MA_Close: Weight=1.000<br>GE_Close: Weight=0.000",
          "Return: 33.675%<br>Volatility: 0.416<br>Sharpe Ratio: 0.809<br>MCD_Close: Weight=0.000<br>LYFT_Close: Weight=0.000<br>UNH_Close: Weight=0.000<br>NKE_Close: Weight=1.000",
          "Return: 21.720%<br>Volatility: 0.330<br>Sharpe Ratio: 0.658<br>UA_Close: Weight=0.000<br>NEE_Close: Weight=0.688<br>KR_Close: Weight=0.312<br>F_Close: Weight=0.000",
          "Return: 46.595%<br>Volatility: 0.463<br>Sharpe Ratio: 1.007<br>SO_Close: Weight=0.000<br>MRK_Close: Weight=0.000<br>NFLX_Close: Weight=1.000<br>SRE_Close: Weight=0.000",
          "Return: 70.169%<br>Volatility: 0.495<br>Sharpe Ratio: 1.417<br>MCD_Close: Weight=0.000<br>LLY_Close: Weight=0.000<br>PYPL_Close: Weight=0.938<br>KR_Close: Weight=0.062",
          "Return: 11.767%<br>Volatility: 0.321<br>Sharpe Ratio: 0.366<br>KR_Close: Weight=1.000<br>JPM_Close: Weight=0.000<br>RTX_Close: Weight=0.000<br>INTC_Close: Weight=0.000",
          "Return: 18.475%<br>Volatility: 0.444<br>Sharpe Ratio: 0.416<br>LMT_Close: Weight=0.000<br>BABA_Close: Weight=0.141<br>DIS_Close: Weight=0.859<br>DUK_Close: Weight=0.000",
          "Return: 74.788%<br>Volatility: 0.548<br>Sharpe Ratio: 1.365<br>IBM_Close: Weight=0.000<br>SPOT_Close: Weight=1.000<br>LMT_Close: Weight=0.000",
          "Return: 35.075%<br>Volatility: 0.374<br>Sharpe Ratio: 0.939<br>KO_Close: Weight=0.000<br>TMO_Close: Weight=1.000<br>T_Close: Weight=0.000<br>UA_Close: Weight=0.000",
          "Return: -5.956%<br>Volatility: 0.318<br>Sharpe Ratio: -0.187<br>UA_Close: Weight=0.000<br>K_Close: Weight=1.000<br>MRK_Close: Weight=0.000",
          "Return: 13.187%<br>Volatility: 0.410<br>Sharpe Ratio: 0.322<br>SYK_Close: Weight=0.679<br>GS_Close: Weight=0.041<br>BABA_Close: Weight=0.279<br>AMGN_Close: Weight=0.000",
          "Return: 35.075%<br>Volatility: 0.374<br>Sharpe Ratio: 0.939<br>T_Close: Weight=0.000<br>LYFT_Close: Weight=0.000<br>TMO_Close: Weight=1.000<br>INTC_Close: Weight=0.000",
          "Return: 2.369%<br>Volatility: 0.350<br>Sharpe Ratio: 0.068<br>INTC_Close: Weight=0.000<br>PM_Close: Weight=0.000<br>KO_Close: Weight=1.000<br>BA_Close: Weight=0.000",
          "Return: 59.931%<br>Volatility: 0.419<br>Sharpe Ratio: 1.430<br>SPOT_Close: Weight=0.699<br>LLY_Close: Weight=0.301<br>MS_Close: Weight=0.000<br>VZ_Close: Weight=0.000",
          "Return: 70.917%<br>Volatility: 0.510<br>Sharpe Ratio: 1.390<br>NVDA_Close: Weight=0.601<br>JPM_Close: Weight=0.000<br>AAPL_Close: Weight=0.399",
          "Return: 45.074%<br>Volatility: 0.390<br>Sharpe Ratio: 1.154<br>SO_Close: Weight=0.000<br>QCOM_Close: Weight=0.495<br>LYFT_Close: Weight=0.000<br>TMO_Close: Weight=0.505",
          "Return: 58.803%<br>Volatility: 0.468<br>Sharpe Ratio: 1.256<br>AAPL_Close: Weight=1.000<br>CPB_Close: Weight=0.000<br>CVX_Close: Weight=0.000<br>PFE_Close: Weight=0.000",
          "Return: 55.263%<br>Volatility: 0.528<br>Sharpe Ratio: 1.048<br>QCOM_Close: Weight=1.000<br>CRM_Close: Weight=0.000<br>CSCO_Close: Weight=0.000<br>RTX_Close: Weight=0.000",
          "Return: 23.883%<br>Volatility: 0.387<br>Sharpe Ratio: 0.617<br>INTC_Close: Weight=0.000<br>AMGN_Close: Weight=0.000<br>GILD_Close: Weight=0.000<br>GOOGL_Close: Weight=1.000",
          "Return: 20.983%<br>Volatility: 0.313<br>Sharpe Ratio: 0.671<br>CSCO_Close: Weight=0.000<br>MO_Close: Weight=0.000<br>WMT_Close: Weight=1.000",
          "Return: 21.107%<br>Volatility: 0.331<br>Sharpe Ratio: 0.637<br>ORCL_Close: Weight=0.255<br>ABBV_Close: Weight=0.745<br>CMCSA_Close: Weight=0.000",
          "Return: 25.453%<br>Volatility: 0.419<br>Sharpe Ratio: 0.607<br>LLY_Close: Weight=1.000<br>PEP_Close: Weight=0.000<br>XOM_Close: Weight=0.000",
          "Return: 17.285%<br>Volatility: 0.346<br>Sharpe Ratio: 0.500<br>CAT_Close: Weight=0.508<br>ZBH_Close: Weight=0.000<br>PG_Close: Weight=0.492<br>WFC_Close: Weight=0.000",
          "Return: 20.983%<br>Volatility: 0.313<br>Sharpe Ratio: 0.671<br>JPM_Close: Weight=0.000<br>RTX_Close: Weight=0.000<br>WMT_Close: Weight=1.000",
          "Return: 0.996%<br>Volatility: 0.457<br>Sharpe Ratio: 0.022<br>SYY_Close: Weight=0.000<br>SO_Close: Weight=1.000<br>BIIB_Close: Weight=0.000",
          "Return: 55.101%<br>Volatility: 0.385<br>Sharpe Ratio: 1.432<br>AMZN_Close: Weight=1.000<br>K_Close: Weight=0.000<br>MRK_Close: Weight=0.000",
          "Return: 27.096%<br>Volatility: 0.338<br>Sharpe Ratio: 0.801<br>ABBV_Close: Weight=0.117<br>REGN_Close: Weight=0.281<br>ISRG_Close: Weight=0.389<br>LLY_Close: Weight=0.213",
          "Return: 58.803%<br>Volatility: 0.468<br>Sharpe Ratio: 1.256<br>GILD_Close: Weight=0.000<br>AAPL_Close: Weight=1.000<br>BIIB_Close: Weight=0.000",
          "Return: 74.788%<br>Volatility: 0.548<br>Sharpe Ratio: 1.365<br>F_Close: Weight=0.000<br>INTC_Close: Weight=0.000<br>SPOT_Close: Weight=1.000",
          "Return: -3.194%<br>Volatility: 0.464<br>Sharpe Ratio: -0.069<br>SYY_Close: Weight=0.000<br>AEP_Close: Weight=0.000<br>SAP_Close: Weight=1.000",
          "Return: 21.647%<br>Volatility: 0.351<br>Sharpe Ratio: 0.616<br>MO_Close: Weight=0.000<br>UA_Close: Weight=0.000<br>ABBV_Close: Weight=1.000<br>JNJ_Close: Weight=0.000",
          "Return: 31.141%<br>Volatility: 0.375<br>Sharpe Ratio: 0.830<br>ABT_Close: Weight=0.255<br>T_Close: Weight=0.000<br>NKE_Close: Weight=0.745<br>AEP_Close: Weight=0.000",
          "Return: 23.883%<br>Volatility: 0.387<br>Sharpe Ratio: 0.617<br>PFE_Close: Weight=0.000<br>CPB_Close: Weight=0.000<br>MRK_Close: Weight=0.000<br>GOOGL_Close: Weight=1.000",
          "Return: 15.287%<br>Volatility: 0.494<br>Sharpe Ratio: 0.309<br>BA_Close: Weight=0.000<br>SYK_Close: Weight=1.000<br>BAC_Close: Weight=0.000",
          "Return: 41.800%<br>Volatility: 0.389<br>Sharpe Ratio: 1.074<br>MA_Close: Weight=0.000<br>ISRG_Close: Weight=0.312<br>NFLX_Close: Weight=0.688",
          "Return: 189.515%<br>Volatility: 0.811<br>Sharpe Ratio: 2.338<br>T_Close: Weight=0.000<br>TSLA_Close: Weight=0.891<br>ISRG_Close: Weight=0.000<br>REGN_Close: Weight=0.109",
          "Return: 16.124%<br>Volatility: 0.383<br>Sharpe Ratio: 0.421<br>HON_Close: Weight=0.509<br>CMCSA_Close: Weight=0.491<br>RTX_Close: Weight=0.000<br>JPM_Close: Weight=0.000",
          "Return: 42.745%<br>Volatility: 0.459<br>Sharpe Ratio: 0.932<br>BA_Close: Weight=0.000<br>UNH_Close: Weight=0.000<br>DE_Close: Weight=1.000",
          "Return: 20.725%<br>Volatility: 0.306<br>Sharpe Ratio: 0.677<br>UNH_Close: Weight=0.093<br>WMT_Close: Weight=0.907<br>DUK_Close: Weight=0.000",
          "Return: 39.865%<br>Volatility: 0.480<br>Sharpe Ratio: 0.831<br>ADBE_Close: Weight=1.000<br>CRM_Close: Weight=0.000<br>GOOGL_Close: Weight=0.000",
          "Return: 42.745%<br>Volatility: 0.459<br>Sharpe Ratio: 0.932<br>PFE_Close: Weight=0.000<br>BTI_Close: Weight=0.000<br>DE_Close: Weight=1.000",
          "Return: -3.438%<br>Volatility: 0.412<br>Sharpe Ratio: -0.083<br>LMT_Close: Weight=0.000<br>IBM_Close: Weight=1.000<br>BA_Close: Weight=0.000",
          "Return: 35.075%<br>Volatility: 0.374<br>Sharpe Ratio: 0.939<br>AEP_Close: Weight=0.000<br>TMO_Close: Weight=1.000<br>LYFT_Close: Weight=0.000<br>BSX_Close: Weight=0.000",
          "Return: 25.077%<br>Volatility: 0.356<br>Sharpe Ratio: 0.704<br>NEE_Close: Weight=0.474<br>BA_Close: Weight=0.000<br>CAT_Close: Weight=0.023<br>GOOG_Close: Weight=0.503",
          "Return: 14.768%<br>Volatility: 0.291<br>Sharpe Ratio: 0.508<br>GM_Close: Weight=0.131<br>PM_Close: Weight=0.000<br>GIS_Close: Weight=0.869<br>VRTX_Close: Weight=0.000",
          "Return: 55.101%<br>Volatility: 0.385<br>Sharpe Ratio: 1.432<br>AEP_Close: Weight=0.000<br>AMZN_Close: Weight=1.000<br>MRK_Close: Weight=0.000<br>PEP_Close: Weight=0.000",
          "Return: 58.803%<br>Volatility: 0.468<br>Sharpe Ratio: 1.256<br>DIS_Close: Weight=0.000<br>CAT_Close: Weight=0.000<br>AAPL_Close: Weight=1.000",
          "Return: 11.037%<br>Volatility: 0.368<br>Sharpe Ratio: 0.300<br>PEP_Close: Weight=1.000<br>EMR_Close: Weight=0.000<br>MDT_Close: Weight=0.000",
          "Return: 23.414%<br>Volatility: 0.355<br>Sharpe Ratio: 0.659<br>SYK_Close: Weight=0.018<br>GIS_Close: Weight=0.443<br>RMD_Close: Weight=0.540",
          "Return: 76.563%<br>Volatility: 0.486<br>Sharpe Ratio: 1.574<br>SYY_Close: Weight=0.000<br>DHR_Close: Weight=0.247<br>QCOM_Close: Weight=0.261<br>SNAP_Close: Weight=0.492",
          "Return: 39.865%<br>Volatility: 0.480<br>Sharpe Ratio: 0.831<br>ZBH_Close: Weight=0.000<br>ADBE_Close: Weight=1.000<br>PM_Close: Weight=0.000<br>RTX_Close: Weight=0.000",
          "Return: 22.450%<br>Volatility: 0.376<br>Sharpe Ratio: 0.597<br>EW_Close: Weight=0.236<br>MRK_Close: Weight=0.000<br>REGN_Close: Weight=0.764",
          "Return: 27.877%<br>Volatility: 0.407<br>Sharpe Ratio: 0.685<br>MDT_Close: Weight=0.000<br>RMD_Close: Weight=0.481<br>LLY_Close: Weight=0.519",
          "Return: 37.647%<br>Volatility: 0.442<br>Sharpe Ratio: 0.851<br>RMD_Close: Weight=0.237<br>ADBE_Close: Weight=0.763<br>T_Close: Weight=0.000<br>UNH_Close: Weight=0.000",
          "Return: 20.983%<br>Volatility: 0.313<br>Sharpe Ratio: 0.671<br>MCD_Close: Weight=0.000<br>WMT_Close: Weight=1.000<br>SAP_Close: Weight=0.000",
          "Return: 58.803%<br>Volatility: 0.468<br>Sharpe Ratio: 1.256<br>INTC_Close: Weight=0.000<br>PG_Close: Weight=0.000<br>AAPL_Close: Weight=1.000<br>PM_Close: Weight=0.000",
          "Return: 33.675%<br>Volatility: 0.416<br>Sharpe Ratio: 0.809<br>NKE_Close: Weight=1.000<br>LMT_Close: Weight=0.000<br>T_Close: Weight=0.000",
          "Return: 26.371%<br>Volatility: 0.469<br>Sharpe Ratio: 0.563<br>UNH_Close: Weight=0.227<br>EMR_Close: Weight=0.000<br>CRM_Close: Weight=0.773",
          "Return: 20.926%<br>Volatility: 0.312<br>Sharpe Ratio: 0.671<br>WMT_Close: Weight=0.993<br>GS_Close: Weight=0.007<br>VRTX_Close: Weight=0.000<br>PM_Close: Weight=0.000",
          "Return: 35.814%<br>Volatility: 0.337<br>Sharpe Ratio: 1.064<br>T_Close: Weight=0.000<br>RTX_Close: Weight=0.000<br>CAT_Close: Weight=0.000<br>DHR_Close: Weight=1.000",
          "Return: 31.448%<br>Volatility: 0.412<br>Sharpe Ratio: 0.764<br>LMT_Close: Weight=0.000<br>ABT_Close: Weight=0.203<br>MSFT_Close: Weight=0.797<br>T_Close: Weight=0.000",
          "Return: 35.075%<br>Volatility: 0.374<br>Sharpe Ratio: 0.939<br>ETN_Close: Weight=0.000<br>GE_Close: Weight=0.000<br>DUK_Close: Weight=0.000<br>TMO_Close: Weight=1.000",
          "Return: 33.831%<br>Volatility: 0.357<br>Sharpe Ratio: 0.948<br>PFE_Close: Weight=0.000<br>BA_Close: Weight=0.000<br>NEE_Close: Weight=0.141<br>TMO_Close: Weight=0.859",
          "Return: 7.368%<br>Volatility: 0.374<br>Sharpe Ratio: 0.197<br>VRTX_Close: Weight=0.191<br>T_Close: Weight=0.000<br>MCD_Close: Weight=0.809",
          "Return: 21.647%<br>Volatility: 0.351<br>Sharpe Ratio: 0.616<br>ABBV_Close: Weight=1.000<br>INTC_Close: Weight=0.000<br>MO_Close: Weight=0.000",
          "Return: 78.950%<br>Volatility: 0.583<br>Sharpe Ratio: 1.354<br>NVDA_Close: Weight=1.000<br>DUK_Close: Weight=0.000<br>SYK_Close: Weight=0.000",
          "Return: 20.037%<br>Volatility: 0.433<br>Sharpe Ratio: 0.462<br>BIIB_Close: Weight=0.000<br>CAT_Close: Weight=0.908<br>PEP_Close: Weight=0.092",
          "Return: 48.475%<br>Volatility: 0.292<br>Sharpe Ratio: 1.659<br>RDY_Close: Weight=0.707<br>ADBE_Close: Weight=0.000<br>LLY_Close: Weight=0.000<br>COST_Close: Weight=0.293",
          "Return: 51.057%<br>Volatility: 0.486<br>Sharpe Ratio: 1.051<br>QCOM_Close: Weight=0.875<br>MO_Close: Weight=0.000<br>ABBV_Close: Weight=0.125<br>BABA_Close: Weight=0.000",
          "Return: 9.397%<br>Volatility: 0.303<br>Sharpe Ratio: 0.310<br>JNJ_Close: Weight=1.000<br>CVX_Close: Weight=0.000<br>DUK_Close: Weight=0.000",
          "Return: 7.720%<br>Volatility: 0.401<br>Sharpe Ratio: 0.192<br>MCD_Close: Weight=1.000<br>AMGN_Close: Weight=0.000<br>MDT_Close: Weight=0.000",
          "Return: 3.293%<br>Volatility: 0.414<br>Sharpe Ratio: 0.079<br>GILD_Close: Weight=0.000<br>MDT_Close: Weight=1.000<br>PM_Close: Weight=0.000",
          "Return: 0.330%<br>Volatility: 0.375<br>Sharpe Ratio: 0.009<br>MO_Close: Weight=0.000<br>MMM_Close: Weight=1.000<br>JPM_Close: Weight=0.000",
          "Return: 8.165%<br>Volatility: 0.415<br>Sharpe Ratio: 0.197<br>K_Close: Weight=0.000<br>BMY_Close: Weight=0.000<br>BABA_Close: Weight=1.000<br>CSCO_Close: Weight=0.000",
          "Return: 24.871%<br>Volatility: 0.431<br>Sharpe Ratio: 0.577<br>REGN_Close: Weight=1.000<br>RTX_Close: Weight=0.000<br>CPB_Close: Weight=0.000<br>VZ_Close: Weight=0.000",
          "Return: 209.696%<br>Volatility: 0.898<br>Sharpe Ratio: 2.334<br>ACN_Close: Weight=0.000<br>TSLA_Close: Weight=1.000<br>MCD_Close: Weight=0.000<br>BAC_Close: Weight=0.000",
          "Return: 71.470%<br>Volatility: 0.382<br>Sharpe Ratio: 1.870<br>RDY_Close: Weight=0.714<br>MSFT_Close: Weight=0.000<br>SNAP_Close: Weight=0.286",
          "Return: 26.242%<br>Volatility: 0.417<br>Sharpe Ratio: 0.630<br>NEE_Close: Weight=1.000<br>GM_Close: Weight=0.000<br>ZBH_Close: Weight=0.000",
          "Return: 25.657%<br>Volatility: 0.406<br>Sharpe Ratio: 0.632<br>NEE_Close: Weight=0.882<br>WFC_Close: Weight=0.000<br>BABA_Close: Weight=0.000<br>HD_Close: Weight=0.118",
          "Return: 9.397%<br>Volatility: 0.303<br>Sharpe Ratio: 0.310<br>PFE_Close: Weight=0.000<br>JNJ_Close: Weight=1.000<br>BA_Close: Weight=0.000<br>SYY_Close: Weight=0.000",
          "Return: 22.952%<br>Volatility: 0.366<br>Sharpe Ratio: 0.627<br>ABT_Close: Weight=0.778<br>BABA_Close: Weight=0.000<br>UNH_Close: Weight=0.000<br>DIS_Close: Weight=0.222",
          "Return: 39.865%<br>Volatility: 0.480<br>Sharpe Ratio: 0.831<br>GILD_Close: Weight=0.000<br>ADBE_Close: Weight=1.000<br>CSCO_Close: Weight=0.000",
          "Return: 63.290%<br>Volatility: 0.455<br>Sharpe Ratio: 1.390<br>MSFT_Close: Weight=0.000<br>SPOT_Close: Weight=0.775<br>ABT_Close: Weight=0.225<br>PG_Close: Weight=0.000",
          "Return: 62.423%<br>Volatility: 0.445<br>Sharpe Ratio: 1.403<br>SPOT_Close: Weight=0.745<br>DIS_Close: Weight=0.000<br>V_Close: Weight=0.000<br>NEE_Close: Weight=0.255",
          "Return: 78.950%<br>Volatility: 0.583<br>Sharpe Ratio: 1.354<br>ORCL_Close: Weight=0.000<br>ZBH_Close: Weight=0.000<br>GM_Close: Weight=0.000<br>NVDA_Close: Weight=1.000",
          "Return: 21.715%<br>Volatility: 0.330<br>Sharpe Ratio: 0.658<br>KR_Close: Weight=0.313<br>KO_Close: Weight=0.000<br>NEE_Close: Weight=0.687",
          "Return: 26.360%<br>Volatility: 0.468<br>Sharpe Ratio: 0.563<br>RTX_Close: Weight=0.000<br>UNH_Close: Weight=0.228<br>INTC_Close: Weight=0.000<br>CRM_Close: Weight=0.772",
          "Return: 25.297%<br>Volatility: 0.417<br>Sharpe Ratio: 0.607<br>SYY_Close: Weight=0.000<br>MDT_Close: Weight=0.000<br>LLY_Close: Weight=0.979<br>UNH_Close: Weight=0.021",
          "Return: 3.293%<br>Volatility: 0.414<br>Sharpe Ratio: 0.079<br>WFC_Close: Weight=0.000<br>CVX_Close: Weight=0.000<br>MDT_Close: Weight=1.000",
          "Return: 56.708%<br>Volatility: 0.355<br>Sharpe Ratio: 1.597<br>LYFT_Close: Weight=0.000<br>VRTX_Close: Weight=0.000<br>RDY_Close: Weight=1.000",
          "Return: 43.105%<br>Volatility: 0.367<br>Sharpe Ratio: 1.175<br>RTX_Close: Weight=0.000<br>QCOM_Close: Weight=0.375<br>SO_Close: Weight=0.000<br>DHR_Close: Weight=0.625",
          "Return: 57.324%<br>Volatility: 0.333<br>Sharpe Ratio: 1.723<br>RDY_Close: Weight=0.706<br>LMT_Close: Weight=0.000<br>ORCL_Close: Weight=0.000<br>AAPL_Close: Weight=0.294",
          "Return: 15.287%<br>Volatility: 0.494<br>Sharpe Ratio: 0.309<br>SYK_Close: Weight=1.000<br>BIIB_Close: Weight=0.000<br>CVX_Close: Weight=0.000",
          "Return: 26.242%<br>Volatility: 0.417<br>Sharpe Ratio: 0.630<br>MO_Close: Weight=0.000<br>RTX_Close: Weight=0.000<br>NEE_Close: Weight=1.000<br>SYK_Close: Weight=0.000",
          "Return: 35.075%<br>Volatility: 0.374<br>Sharpe Ratio: 0.939<br>WFC_Close: Weight=0.000<br>BA_Close: Weight=0.000<br>TMO_Close: Weight=1.000",
          "Return: 20.983%<br>Volatility: 0.313<br>Sharpe Ratio: 0.671<br>LMT_Close: Weight=0.000<br>WMT_Close: Weight=1.000<br>EMR_Close: Weight=0.000<br>AEP_Close: Weight=0.000",
          "Return: 33.675%<br>Volatility: 0.416<br>Sharpe Ratio: 0.809<br>NKE_Close: Weight=1.000<br>UNH_Close: Weight=0.000<br>RTX_Close: Weight=0.000",
          "Return: 34.586%<br>Volatility: 0.366<br>Sharpe Ratio: 0.946<br>TMO_Close: Weight=0.872<br>ISRG_Close: Weight=0.128<br>EXC_Close: Weight=0.000<br>CSCO_Close: Weight=0.000",
          "Return: 2.809%<br>Volatility: 0.499<br>Sharpe Ratio: 0.056<br>IBM_Close: Weight=0.000<br>GILD_Close: Weight=0.000<br>ZBH_Close: Weight=1.000",
          "Return: 24.561%<br>Volatility: 0.403<br>Sharpe Ratio: 0.610<br>SYK_Close: Weight=0.088<br>V_Close: Weight=0.000<br>LLY_Close: Weight=0.912",
          "Return: 42.745%<br>Volatility: 0.459<br>Sharpe Ratio: 0.932<br>CMCSA_Close: Weight=0.000<br>JPM_Close: Weight=0.000<br>DE_Close: Weight=1.000",
          "Return: 74.029%<br>Volatility: 0.523<br>Sharpe Ratio: 1.415<br>PG_Close: Weight=0.000<br>VZ_Close: Weight=0.000<br>PYPL_Close: Weight=1.000<br>NEE_Close: Weight=0.000",
          "Return: 18.210%<br>Volatility: 0.485<br>Sharpe Ratio: 0.376<br>UNH_Close: Weight=1.000<br>XOM_Close: Weight=0.000<br>BAC_Close: Weight=0.000",
          "Return: 56.708%<br>Volatility: 0.355<br>Sharpe Ratio: 1.597<br>PG_Close: Weight=0.000<br>CPB_Close: Weight=0.000<br>RDY_Close: Weight=1.000",
          "Return: 11.272%<br>Volatility: 0.365<br>Sharpe Ratio: 0.308<br>KO_Close: Weight=0.000<br>GM_Close: Weight=0.157<br>PEP_Close: Weight=0.843",
          "Return: 28.590%<br>Volatility: 0.290<br>Sharpe Ratio: 0.986<br>COST_Close: Weight=1.000<br>INTC_Close: Weight=0.000<br>SAP_Close: Weight=0.000",
          "Return: 68.972%<br>Volatility: 0.475<br>Sharpe Ratio: 1.452<br>AAPL_Close: Weight=0.332<br>KO_Close: Weight=0.000<br>MCD_Close: Weight=0.000<br>PYPL_Close: Weight=0.668",
          "Return: 39.025%<br>Volatility: 0.468<br>Sharpe Ratio: 0.834<br>ADBE_Close: Weight=0.918<br>GE_Close: Weight=0.000<br>MS_Close: Weight=0.082",
          "Return: 74.029%<br>Volatility: 0.523<br>Sharpe Ratio: 1.415<br>SO_Close: Weight=0.000<br>PFE_Close: Weight=0.000<br>PYPL_Close: Weight=1.000",
          "Return: 24.588%<br>Volatility: 0.409<br>Sharpe Ratio: 0.602<br>BIIB_Close: Weight=0.000<br>CVX_Close: Weight=0.000<br>TXN_Close: Weight=0.810<br>ORCL_Close: Weight=0.190",
          "Return: 26.242%<br>Volatility: 0.417<br>Sharpe Ratio: 0.630<br>NEE_Close: Weight=1.000<br>GILD_Close: Weight=0.000<br>LYFT_Close: Weight=0.000",
          "Return: 19.527%<br>Volatility: 0.401<br>Sharpe Ratio: 0.487<br>BAC_Close: Weight=0.000<br>EXC_Close: Weight=0.000<br>ORCL_Close: Weight=1.000",
          "Return: 46.595%<br>Volatility: 0.463<br>Sharpe Ratio: 1.007<br>CPB_Close: Weight=0.000<br>NFLX_Close: Weight=1.000<br>SRE_Close: Weight=0.000",
          "Return: 13.501%<br>Volatility: 0.325<br>Sharpe Ratio: 0.416<br>SRE_Close: Weight=0.000<br>PG_Close: Weight=1.000<br>MMM_Close: Weight=0.000",
          "Return: 42.745%<br>Volatility: 0.459<br>Sharpe Ratio: 0.932<br>CMCSA_Close: Weight=0.000<br>BABA_Close: Weight=0.000<br>VZ_Close: Weight=0.000<br>DE_Close: Weight=1.000",
          "Return: 46.595%<br>Volatility: 0.463<br>Sharpe Ratio: 1.007<br>ZBH_Close: Weight=0.000<br>NFLX_Close: Weight=1.000<br>SYY_Close: Weight=0.000",
          "Return: 2.947%<br>Volatility: 0.359<br>Sharpe Ratio: 0.082<br>PFE_Close: Weight=1.000<br>SRE_Close: Weight=0.000<br>GE_Close: Weight=0.000",
          "Return: 20.983%<br>Volatility: 0.313<br>Sharpe Ratio: 0.671<br>MDT_Close: Weight=0.000<br>INTC_Close: Weight=0.000<br>WMT_Close: Weight=1.000<br>AEP_Close: Weight=0.000",
          "Return: 16.771%<br>Volatility: 0.411<br>Sharpe Ratio: 0.408<br>K_Close: Weight=0.000<br>EW_Close: Weight=0.324<br>HON_Close: Weight=0.676",
          "Return: 24.871%<br>Volatility: 0.431<br>Sharpe Ratio: 0.577<br>INTC_Close: Weight=0.000<br>BMY_Close: Weight=0.000<br>GE_Close: Weight=0.000<br>REGN_Close: Weight=1.000",
          "Return: 35.814%<br>Volatility: 0.337<br>Sharpe Ratio: 1.064<br>ACN_Close: Weight=0.000<br>CAT_Close: Weight=0.000<br>DHR_Close: Weight=1.000",
          "Return: 33.614%<br>Volatility: 0.399<br>Sharpe Ratio: 0.843<br>GS_Close: Weight=0.000<br>KR_Close: Weight=0.222<br>ADBE_Close: Weight=0.778<br>EW_Close: Weight=0.000",
          "Return: -2.820%<br>Volatility: 0.381<br>Sharpe Ratio: -0.074<br>BSX_Close: Weight=0.000<br>UA_Close: Weight=0.000<br>AMGN_Close: Weight=1.000",
          "Return: 47.246%<br>Volatility: 0.618<br>Sharpe Ratio: 0.764<br>MS_Close: Weight=0.281<br>UBER_Close: Weight=0.719<br>BSX_Close: Weight=0.000<br>T_Close: Weight=0.000",
          "Return: 28.590%<br>Volatility: 0.290<br>Sharpe Ratio: 0.986<br>COST_Close: Weight=1.000<br>AMGN_Close: Weight=0.000<br>F_Close: Weight=0.000",
          "Return: 14.610%<br>Volatility: 0.441<br>Sharpe Ratio: 0.331<br>EW_Close: Weight=1.000<br>KO_Close: Weight=0.000<br>DUK_Close: Weight=0.000<br>MO_Close: Weight=0.000",
          "Return: 58.803%<br>Volatility: 0.468<br>Sharpe Ratio: 1.256<br>EW_Close: Weight=0.000<br>AAPL_Close: Weight=1.000<br>SYY_Close: Weight=0.000",
          "Return: 30.343%<br>Volatility: 0.339<br>Sharpe Ratio: 0.896<br>MCD_Close: Weight=0.000<br>UBER_Close: Weight=0.390<br>GIS_Close: Weight=0.610<br>UA_Close: Weight=0.000",
          "Return: 33.675%<br>Volatility: 0.416<br>Sharpe Ratio: 0.809<br>SYY_Close: Weight=0.000<br>IBM_Close: Weight=0.000<br>NKE_Close: Weight=1.000<br>SRE_Close: Weight=0.000",
          "Return: 19.095%<br>Volatility: 0.389<br>Sharpe Ratio: 0.490<br>MCD_Close: Weight=0.000<br>KO_Close: Weight=0.000<br>SYK_Close: Weight=0.102<br>ORCL_Close: Weight=0.898",
          "Return: 44.589%<br>Volatility: 0.480<br>Sharpe Ratio: 0.929<br>INTC_Close: Weight=0.000<br>SYK_Close: Weight=0.000<br>UBER_Close: Weight=0.330<br>ADBE_Close: Weight=0.670",
          "Return: 33.675%<br>Volatility: 0.416<br>Sharpe Ratio: 0.809<br>SYK_Close: Weight=0.000<br>UNH_Close: Weight=0.000<br>MO_Close: Weight=0.000<br>NKE_Close: Weight=1.000",
          "Return: 46.595%<br>Volatility: 0.463<br>Sharpe Ratio: 1.007<br>MMM_Close: Weight=0.000<br>NFLX_Close: Weight=1.000<br>CPB_Close: Weight=0.000<br>BAC_Close: Weight=0.000",
          "Return: 14.162%<br>Volatility: 0.328<br>Sharpe Ratio: 0.432<br>MMM_Close: Weight=0.000<br>PG_Close: Weight=0.777<br>MA_Close: Weight=0.223",
          "Return: 55.128%<br>Volatility: 0.378<br>Sharpe Ratio: 1.459<br>META_Close: Weight=0.000<br>QCOM_Close: Weight=0.166<br>PFE_Close: Weight=0.000<br>AMZN_Close: Weight=0.834",
          "Return: 14.610%<br>Volatility: 0.441<br>Sharpe Ratio: 0.331<br>UA_Close: Weight=0.000<br>EW_Close: Weight=1.000<br>BTI_Close: Weight=0.000",
          "Return: 56.708%<br>Volatility: 0.355<br>Sharpe Ratio: 1.597<br>ZBH_Close: Weight=0.000<br>RDY_Close: Weight=1.000<br>SRE_Close: Weight=0.000<br>TXN_Close: Weight=0.000",
          "Return: 55.263%<br>Volatility: 0.528<br>Sharpe Ratio: 1.048<br>QCOM_Close: Weight=1.000<br>CVX_Close: Weight=0.000<br>SYK_Close: Weight=0.000",
          "Return: -8.287%<br>Volatility: 0.544<br>Sharpe Ratio: -0.152<br>RTX_Close: Weight=0.000<br>BSX_Close: Weight=0.000<br>JPM_Close: Weight=1.000",
          "Return: 39.865%<br>Volatility: 0.480<br>Sharpe Ratio: 0.831<br>ADBE_Close: Weight=1.000<br>BAC_Close: Weight=0.000<br>INTC_Close: Weight=0.000",
          "Return: 74.029%<br>Volatility: 0.523<br>Sharpe Ratio: 1.415<br>BIIB_Close: Weight=0.000<br>PYPL_Close: Weight=1.000<br>JNJ_Close: Weight=0.000<br>HD_Close: Weight=0.000",
          "Return: 21.748%<br>Volatility: 0.408<br>Sharpe Ratio: 0.533<br>DIS_Close: Weight=0.145<br>ACN_Close: Weight=0.855<br>INTC_Close: Weight=0.000<br>BIIB_Close: Weight=0.000",
          "Return: 54.883%<br>Volatility: 0.383<br>Sharpe Ratio: 1.433<br>PG_Close: Weight=0.000<br>GOOG_Close: Weight=0.000<br>NFLX_Close: Weight=0.026<br>AMZN_Close: Weight=0.974",
          "Return: 17.805%<br>Volatility: 0.453<br>Sharpe Ratio: 0.393<br>CSCO_Close: Weight=0.000<br>HON_Close: Weight=1.000<br>LYFT_Close: Weight=0.000<br>MRK_Close: Weight=0.000",
          "Return: 26.242%<br>Volatility: 0.417<br>Sharpe Ratio: 0.630<br>INTC_Close: Weight=0.000<br>CVX_Close: Weight=0.000<br>NEE_Close: Weight=1.000",
          "Return: 33.406%<br>Volatility: 0.441<br>Sharpe Ratio: 0.757<br>RTX_Close: Weight=0.000<br>PFE_Close: Weight=0.000<br>MSFT_Close: Weight=1.000<br>INTC_Close: Weight=0.000",
          "Return: 44.586%<br>Volatility: 0.480<br>Sharpe Ratio: 0.929<br>MMM_Close: Weight=0.000<br>UBER_Close: Weight=0.330<br>ADBE_Close: Weight=0.670",
          "Return: 39.865%<br>Volatility: 0.480<br>Sharpe Ratio: 0.831<br>INTC_Close: Weight=0.000<br>ADBE_Close: Weight=1.000<br>VZ_Close: Weight=0.000<br>BSX_Close: Weight=0.000",
          "Return: 54.160%<br>Volatility: 0.728<br>Sharpe Ratio: 0.744<br>MDT_Close: Weight=0.000<br>UBER_Close: Weight=1.000<br>LYFT_Close: Weight=0.000",
          "Return: 29.594%<br>Volatility: 0.573<br>Sharpe Ratio: 0.517<br>AEP_Close: Weight=0.000<br>VRTX_Close: Weight=0.000<br>MS_Close: Weight=1.000<br>ZBH_Close: Weight=0.000",
          "Return: 26.242%<br>Volatility: 0.417<br>Sharpe Ratio: 0.630<br>CSCO_Close: Weight=0.000<br>PFE_Close: Weight=0.000<br>NEE_Close: Weight=1.000",
          "Return: 78.950%<br>Volatility: 0.583<br>Sharpe Ratio: 1.354<br>NVDA_Close: Weight=1.000<br>GM_Close: Weight=0.000<br>NEE_Close: Weight=0.000",
          "Return: 28.355%<br>Volatility: 0.287<br>Sharpe Ratio: 0.989<br>COST_Close: Weight=0.913<br>LLY_Close: Weight=0.041<br>CPB_Close: Weight=0.000<br>NEE_Close: Weight=0.046",
          "Return: 19.527%<br>Volatility: 0.401<br>Sharpe Ratio: 0.487<br>SYY_Close: Weight=0.000<br>BAC_Close: Weight=0.000<br>ORCL_Close: Weight=1.000",
          "Return: 57.945%<br>Volatility: 0.553<br>Sharpe Ratio: 1.048<br>AMD_Close: Weight=0.863<br>MRK_Close: Weight=0.000<br>INTC_Close: Weight=0.000<br>ABT_Close: Weight=0.137",
          "Return: 58.073%<br>Volatility: 0.449<br>Sharpe Ratio: 1.293<br>KO_Close: Weight=0.000<br>VRTX_Close: Weight=0.000<br>AAPL_Close: Weight=0.843<br>UBER_Close: Weight=0.157",
          "Return: 55.101%<br>Volatility: 0.385<br>Sharpe Ratio: 1.432<br>AMZN_Close: Weight=1.000<br>PG_Close: Weight=0.000<br>ADBE_Close: Weight=0.000<br>TXN_Close: Weight=0.000",
          "Return: 27.980%<br>Volatility: 0.444<br>Sharpe Ratio: 0.630<br>RMD_Close: Weight=0.802<br>HON_Close: Weight=0.198<br>SYK_Close: Weight=0.000",
          "Return: 55.263%<br>Volatility: 0.528<br>Sharpe Ratio: 1.048<br>K_Close: Weight=0.000<br>QCOM_Close: Weight=1.000<br>ETN_Close: Weight=0.000<br>BABA_Close: Weight=0.000",
          "Return: 14.610%<br>Volatility: 0.441<br>Sharpe Ratio: 0.331<br>EW_Close: Weight=1.000<br>RTX_Close: Weight=0.000<br>SYY_Close: Weight=0.000",
          "Return: 19.527%<br>Volatility: 0.401<br>Sharpe Ratio: 0.487<br>AMGN_Close: Weight=0.000<br>JNJ_Close: Weight=0.000<br>BMY_Close: Weight=0.000<br>ORCL_Close: Weight=1.000",
          "Return: 40.630%<br>Volatility: 0.341<br>Sharpe Ratio: 1.191<br>TMO_Close: Weight=0.518<br>NFLX_Close: Weight=0.482<br>IBM_Close: Weight=0.000<br>T_Close: Weight=0.000",
          "Return: 13.501%<br>Volatility: 0.325<br>Sharpe Ratio: 0.416<br>AEP_Close: Weight=0.000<br>VZ_Close: Weight=0.000<br>PG_Close: Weight=1.000",
          "Return: 13.994%<br>Volatility: 0.428<br>Sharpe Ratio: 0.327<br>T_Close: Weight=0.000<br>V_Close: Weight=1.000<br>SO_Close: Weight=0.000<br>PFE_Close: Weight=0.000",
          "Return: 26.242%<br>Volatility: 0.417<br>Sharpe Ratio: 0.630<br>AMGN_Close: Weight=0.000<br>CMCSA_Close: Weight=0.000<br>NEE_Close: Weight=1.000<br>EXC_Close: Weight=0.000",
          "Return: 45.164%<br>Volatility: 0.448<br>Sharpe Ratio: 1.008<br>NFLX_Close: Weight=0.947<br>KO_Close: Weight=0.000<br>ORCL_Close: Weight=0.053",
          "Return: 58.803%<br>Volatility: 0.468<br>Sharpe Ratio: 1.256<br>MO_Close: Weight=0.000<br>AAPL_Close: Weight=1.000<br>TXN_Close: Weight=0.000",
          "Return: 209.696%<br>Volatility: 0.898<br>Sharpe Ratio: 2.334<br>IBM_Close: Weight=0.000<br>TSLA_Close: Weight=1.000<br>VRTX_Close: Weight=0.000",
          "Return: 33.406%<br>Volatility: 0.441<br>Sharpe Ratio: 0.757<br>T_Close: Weight=0.000<br>XOM_Close: Weight=0.000<br>MSFT_Close: Weight=1.000<br>MCD_Close: Weight=0.000",
          "Return: 97.434%<br>Volatility: 0.664<br>Sharpe Ratio: 1.468<br>XOM_Close: Weight=0.000<br>SNAP_Close: Weight=0.876<br>ACN_Close: Weight=0.000<br>CAT_Close: Weight=0.124",
          "Return: 40.179%<br>Volatility: 0.384<br>Sharpe Ratio: 1.046<br>ABT_Close: Weight=0.281<br>NFLX_Close: Weight=0.719<br>BA_Close: Weight=0.000",
          "Return: 74.788%<br>Volatility: 0.548<br>Sharpe Ratio: 1.365<br>GS_Close: Weight=0.000<br>SPOT_Close: Weight=1.000<br>EW_Close: Weight=0.000",
          "Return: 87.460%<br>Volatility: 0.591<br>Sharpe Ratio: 1.481<br>SNAP_Close: Weight=0.743<br>ADBE_Close: Weight=0.053<br>ABT_Close: Weight=0.203<br>GILD_Close: Weight=0.000",
          "Return: 24.871%<br>Volatility: 0.431<br>Sharpe Ratio: 0.577<br>REGN_Close: Weight=1.000<br>CVX_Close: Weight=0.000<br>CSCO_Close: Weight=0.000",
          "Return: 9.397%<br>Volatility: 0.303<br>Sharpe Ratio: 0.310<br>DUK_Close: Weight=0.000<br>JNJ_Close: Weight=1.000<br>WFC_Close: Weight=0.000<br>AEP_Close: Weight=0.000",
          "Return: 26.782%<br>Volatility: 0.404<br>Sharpe Ratio: 0.663<br>LLY_Close: Weight=0.679<br>CSCO_Close: Weight=0.000<br>MS_Close: Weight=0.321",
          "Return: 25.949%<br>Volatility: 0.481<br>Sharpe Ratio: 0.540<br>MS_Close: Weight=0.562<br>K_Close: Weight=0.000<br>IBM_Close: Weight=0.000<br>HD_Close: Weight=0.438",
          "Return: 25.771%<br>Volatility: 0.432<br>Sharpe Ratio: 0.597<br>UNH_Close: Weight=0.000<br>CPB_Close: Weight=0.000<br>TXN_Close: Weight=1.000<br>MMM_Close: Weight=0.000",
          "Return: 52.219%<br>Volatility: 0.364<br>Sharpe Ratio: 1.437<br>UA_Close: Weight=0.000<br>AMZN_Close: Weight=0.914<br>F_Close: Weight=0.000<br>ABBV_Close: Weight=0.086",
          "Return: 17.335%<br>Volatility: 0.293<br>Sharpe Ratio: 0.591<br>BSX_Close: Weight=0.000<br>CAT_Close: Weight=0.381<br>GIS_Close: Weight=0.619<br>GE_Close: Weight=0.000",
          "Return: 58.803%<br>Volatility: 0.468<br>Sharpe Ratio: 1.256<br>SAP_Close: Weight=0.000<br>AAPL_Close: Weight=1.000<br>META_Close: Weight=0.000",
          "Return: 25.453%<br>Volatility: 0.419<br>Sharpe Ratio: 0.607<br>LLY_Close: Weight=1.000<br>EMR_Close: Weight=0.000<br>T_Close: Weight=0.000",
          "Return: 55.101%<br>Volatility: 0.385<br>Sharpe Ratio: 1.432<br>INTC_Close: Weight=0.000<br>K_Close: Weight=0.000<br>UA_Close: Weight=0.000<br>AMZN_Close: Weight=1.000",
          "Return: 20.167%<br>Volatility: 0.488<br>Sharpe Ratio: 0.413<br>GE_Close: Weight=0.000<br>DIS_Close: Weight=1.000<br>F_Close: Weight=0.000<br>KO_Close: Weight=0.000",
          "Return: 209.696%<br>Volatility: 0.898<br>Sharpe Ratio: 2.334<br>EMR_Close: Weight=0.000<br>JNJ_Close: Weight=0.000<br>TSLA_Close: Weight=1.000<br>GILD_Close: Weight=0.000",
          "Return: 25.946%<br>Volatility: 0.408<br>Sharpe Ratio: 0.636<br>NEE_Close: Weight=0.852<br>PEP_Close: Weight=0.000<br>SRE_Close: Weight=0.000<br>ETN_Close: Weight=0.148",
          "Return: 21.279%<br>Volatility: 0.447<br>Sharpe Ratio: 0.476<br>HD_Close: Weight=1.000<br>CVX_Close: Weight=0.000<br>MO_Close: Weight=0.000",
          "Return: 35.814%<br>Volatility: 0.337<br>Sharpe Ratio: 1.064<br>DHR_Close: Weight=1.000<br>LYFT_Close: Weight=0.000<br>TXN_Close: Weight=0.000<br>MCD_Close: Weight=0.000",
          "Return: 42.745%<br>Volatility: 0.459<br>Sharpe Ratio: 0.932<br>AMGN_Close: Weight=0.000<br>MA_Close: Weight=0.000<br>DE_Close: Weight=1.000",
          "Return: 68.115%<br>Volatility: 0.496<br>Sharpe Ratio: 1.373<br>XOM_Close: Weight=0.000<br>CAT_Close: Weight=0.124<br>SPOT_Close: Weight=0.876",
          "Return: 71.848%<br>Volatility: 0.526<br>Sharpe Ratio: 1.366<br>SAP_Close: Weight=0.000<br>GE_Close: Weight=0.000<br>SPOT_Close: Weight=0.948<br>HON_Close: Weight=0.052",
          "Return: 55.263%<br>Volatility: 0.528<br>Sharpe Ratio: 1.048<br>V_Close: Weight=0.000<br>GOOGL_Close: Weight=0.000<br>QCOM_Close: Weight=1.000<br>BAC_Close: Weight=0.000",
          "Return: 55.101%<br>Volatility: 0.385<br>Sharpe Ratio: 1.432<br>AMZN_Close: Weight=1.000<br>JNJ_Close: Weight=0.000<br>BSX_Close: Weight=0.000<br>AEP_Close: Weight=0.000",
          "Return: 11.709%<br>Volatility: 0.320<br>Sharpe Ratio: 0.366<br>BA_Close: Weight=0.000<br>VRTX_Close: Weight=0.010<br>KR_Close: Weight=0.990",
          "Return: 55.101%<br>Volatility: 0.385<br>Sharpe Ratio: 1.432<br>BAC_Close: Weight=0.000<br>AMZN_Close: Weight=1.000<br>RTX_Close: Weight=0.000<br>ACN_Close: Weight=0.000",
          "Return: -5.213%<br>Volatility: 0.361<br>Sharpe Ratio: -0.144<br>BTI_Close: Weight=1.000<br>INTC_Close: Weight=0.000<br>XOM_Close: Weight=0.000<br>RTX_Close: Weight=0.000",
          "Return: 97.354%<br>Volatility: 0.663<br>Sharpe Ratio: 1.468<br>F_Close: Weight=0.000<br>ETN_Close: Weight=0.000<br>SNAP_Close: Weight=0.875<br>CAT_Close: Weight=0.125",
          "Return: 55.263%<br>Volatility: 0.528<br>Sharpe Ratio: 1.048<br>QCOM_Close: Weight=1.000<br>ETN_Close: Weight=0.000<br>CAT_Close: Weight=0.000",
          "Return: 5.123%<br>Volatility: 0.404<br>Sharpe Ratio: 0.127<br>VZ_Close: Weight=0.000<br>VRTX_Close: Weight=0.743<br>PFE_Close: Weight=0.257",
          "Return: 21.647%<br>Volatility: 0.351<br>Sharpe Ratio: 0.616<br>ABBV_Close: Weight=1.000<br>BAC_Close: Weight=0.000<br>AMGN_Close: Weight=0.000",
          "Return: 74.788%<br>Volatility: 0.548<br>Sharpe Ratio: 1.365<br>SPOT_Close: Weight=1.000<br>VRTX_Close: Weight=0.000<br>MRK_Close: Weight=0.000<br>BAC_Close: Weight=0.000",
          "Return: 20.769%<br>Volatility: 0.306<br>Sharpe Ratio: 0.679<br>ORCL_Close: Weight=0.147<br>WMT_Close: Weight=0.853<br>BAC_Close: Weight=0.000<br>CMCSA_Close: Weight=0.000",
          "Return: 58.803%<br>Volatility: 0.468<br>Sharpe Ratio: 1.256<br>AAPL_Close: Weight=1.000<br>INTC_Close: Weight=0.000<br>CMCSA_Close: Weight=0.000<br>V_Close: Weight=0.000",
          "Return: 42.745%<br>Volatility: 0.459<br>Sharpe Ratio: 0.932<br>DE_Close: Weight=1.000<br>DIS_Close: Weight=0.000<br>GS_Close: Weight=0.000<br>DUK_Close: Weight=0.000",
          "Return: 2.947%<br>Volatility: 0.359<br>Sharpe Ratio: 0.082<br>SYY_Close: Weight=0.000<br>GILD_Close: Weight=0.000<br>PFE_Close: Weight=1.000",
          "Return: 62.986%<br>Volatility: 0.413<br>Sharpe Ratio: 1.526<br>LLY_Close: Weight=0.000<br>AMGN_Close: Weight=0.000<br>AMZN_Close: Weight=0.669<br>NVDA_Close: Weight=0.331",
          "Return: 33.675%<br>Volatility: 0.416<br>Sharpe Ratio: 0.809<br>EW_Close: Weight=0.000<br>NKE_Close: Weight=1.000<br>SRE_Close: Weight=0.000<br>DIS_Close: Weight=0.000",
          "Return: 7.720%<br>Volatility: 0.401<br>Sharpe Ratio: 0.192<br>KO_Close: Weight=0.000<br>MCD_Close: Weight=1.000<br>WFC_Close: Weight=0.000<br>RTX_Close: Weight=0.000",
          "Return: 35.814%<br>Volatility: 0.337<br>Sharpe Ratio: 1.064<br>GILD_Close: Weight=0.000<br>BTI_Close: Weight=0.000<br>DHR_Close: Weight=1.000",
          "Return: -11.836%<br>Volatility: 0.702<br>Sharpe Ratio: -0.169<br>BSX_Close: Weight=0.000<br>UA_Close: Weight=0.000<br>SYY_Close: Weight=1.000",
          "Return: 32.745%<br>Volatility: 0.404<br>Sharpe Ratio: 0.811<br>ORCL_Close: Weight=0.066<br>NKE_Close: Weight=0.934<br>HON_Close: Weight=0.000<br>BAC_Close: Weight=0.000",
          "Return: 49.350%<br>Volatility: 0.463<br>Sharpe Ratio: 1.065<br>WMT_Close: Weight=0.331<br>ZBH_Close: Weight=0.000<br>JNJ_Close: Weight=0.000<br>AMD_Close: Weight=0.669",
          "Return: 55.101%<br>Volatility: 0.385<br>Sharpe Ratio: 1.432<br>DUK_Close: Weight=0.000<br>EMR_Close: Weight=0.000<br>AMZN_Close: Weight=1.000",
          "Return: 60.936%<br>Volatility: 0.554<br>Sharpe Ratio: 1.100<br>AMD_Close: Weight=0.737<br>UNH_Close: Weight=0.000<br>UBER_Close: Weight=0.263<br>PEP_Close: Weight=0.000",
          "Return: 53.984%<br>Volatility: 0.377<br>Sharpe Ratio: 1.433<br>AMZN_Close: Weight=0.962<br>MSFT_Close: Weight=0.000<br>LYFT_Close: Weight=0.000<br>LLY_Close: Weight=0.038",
          "Return: 39.865%<br>Volatility: 0.480<br>Sharpe Ratio: 0.831<br>MO_Close: Weight=0.000<br>ADBE_Close: Weight=1.000<br>ORCL_Close: Weight=0.000",
          "Return: 28.590%<br>Volatility: 0.290<br>Sharpe Ratio: 0.986<br>COST_Close: Weight=1.000<br>GS_Close: Weight=0.000<br>ACN_Close: Weight=0.000",
          "Return: 17.684%<br>Volatility: 0.450<br>Sharpe Ratio: 0.393<br>SYK_Close: Weight=0.048<br>HON_Close: Weight=0.952<br>BA_Close: Weight=0.000",
          "Return: 55.101%<br>Volatility: 0.385<br>Sharpe Ratio: 1.432<br>SO_Close: Weight=0.000<br>AMZN_Close: Weight=1.000<br>BSX_Close: Weight=0.000",
          "Return: 74.029%<br>Volatility: 0.523<br>Sharpe Ratio: 1.415<br>BA_Close: Weight=0.000<br>PYPL_Close: Weight=1.000<br>ABT_Close: Weight=0.000",
          "Return: 28.596%<br>Volatility: 0.406<br>Sharpe Ratio: 0.704<br>ISRG_Close: Weight=0.647<br>ABT_Close: Weight=0.353<br>BABA_Close: Weight=0.000",
          "Return: 21.470%<br>Volatility: 0.335<br>Sharpe Ratio: 0.641<br>ORCL_Close: Weight=0.210<br>ETN_Close: Weight=0.104<br>ABBV_Close: Weight=0.686<br>SO_Close: Weight=0.000",
          "Return: 0.330%<br>Volatility: 0.375<br>Sharpe Ratio: 0.009<br>MMM_Close: Weight=1.000<br>JPM_Close: Weight=0.000<br>UA_Close: Weight=0.000",
          "Return: 24.179%<br>Volatility: 0.380<br>Sharpe Ratio: 0.637<br>GOOG_Close: Weight=0.839<br>GE_Close: Weight=0.000<br>ETN_Close: Weight=0.161",
          "Return: 16.468%<br>Volatility: 0.488<br>Sharpe Ratio: 0.337<br>MA_Close: Weight=1.000<br>GE_Close: Weight=0.000<br>VRTX_Close: Weight=0.000",
          "Return: 11.037%<br>Volatility: 0.368<br>Sharpe Ratio: 0.300<br>BIIB_Close: Weight=0.000<br>AMGN_Close: Weight=0.000<br>PEP_Close: Weight=1.000",
          "Return: 21.464%<br>Volatility: 0.397<br>Sharpe Ratio: 0.541<br>ETN_Close: Weight=0.411<br>AMGN_Close: Weight=0.000<br>ORCL_Close: Weight=0.589",
          "Return: 21.750%<br>Volatility: 0.408<br>Sharpe Ratio: 0.533<br>DIS_Close: Weight=0.144<br>EXC_Close: Weight=0.000<br>ACN_Close: Weight=0.856",
          "Return: 58.803%<br>Volatility: 0.468<br>Sharpe Ratio: 1.256<br>AAPL_Close: Weight=1.000<br>GOOG_Close: Weight=0.000<br>GE_Close: Weight=0.000",
          "Return: 34.252%<br>Volatility: 0.364<br>Sharpe Ratio: 0.941<br>GOOG_Close: Weight=0.075<br>JNJ_Close: Weight=0.000<br>ABT_Close: Weight=0.000<br>TMO_Close: Weight=0.925",
          "Return: 35.814%<br>Volatility: 0.337<br>Sharpe Ratio: 1.064<br>META_Close: Weight=0.000<br>DHR_Close: Weight=1.000<br>GILD_Close: Weight=0.000<br>ABT_Close: Weight=0.000",
          "Return: 209.696%<br>Volatility: 0.898<br>Sharpe Ratio: 2.334<br>ADBE_Close: Weight=0.000<br>CAT_Close: Weight=0.000<br>TSLA_Close: Weight=1.000",
          "Return: 78.950%<br>Volatility: 0.583<br>Sharpe Ratio: 1.354<br>PFE_Close: Weight=0.000<br>NVDA_Close: Weight=1.000<br>MMM_Close: Weight=0.000",
          "Return: 62.688%<br>Volatility: 0.375<br>Sharpe Ratio: 1.673<br>SPOT_Close: Weight=0.385<br>CAT_Close: Weight=0.000<br>AMZN_Close: Weight=0.615<br>MO_Close: Weight=0.000",
          "Return: 16.601%<br>Volatility: 0.438<br>Sharpe Ratio: 0.379<br>EXC_Close: Weight=0.000<br>PEP_Close: Weight=0.224<br>UNH_Close: Weight=0.776<br>CVX_Close: Weight=0.000",
          "Return: 33.610%<br>Volatility: 0.399<br>Sharpe Ratio: 0.843<br>ADBE_Close: Weight=0.777<br>KR_Close: Weight=0.223<br>PM_Close: Weight=0.000<br>UNH_Close: Weight=0.000",
          "Return: 80.027%<br>Volatility: 0.498<br>Sharpe Ratio: 1.606<br>NFLX_Close: Weight=0.458<br>SNAP_Close: Weight=0.542<br>LMT_Close: Weight=0.000",
          "Return: 209.696%<br>Volatility: 0.898<br>Sharpe Ratio: 2.334<br>TXN_Close: Weight=0.000<br>TSLA_Close: Weight=1.000<br>AEP_Close: Weight=0.000",
          "Return: 35.648%<br>Volatility: 0.331<br>Sharpe Ratio: 1.077<br>GILD_Close: Weight=0.000<br>DHR_Close: Weight=0.776<br>SO_Close: Weight=0.000<br>TMO_Close: Weight=0.224",
          "Return: 0.996%<br>Volatility: 0.457<br>Sharpe Ratio: 0.022<br>JPM_Close: Weight=0.000<br>SO_Close: Weight=1.000<br>AMGN_Close: Weight=0.000",
          "Return: 28.430%<br>Volatility: 0.288<br>Sharpe Ratio: 0.988<br>COST_Close: Weight=0.949<br>SO_Close: Weight=0.000<br>DUK_Close: Weight=0.000<br>LLY_Close: Weight=0.051",
          "Return: 33.565%<br>Volatility: 0.387<br>Sharpe Ratio: 0.867<br>HD_Close: Weight=0.000<br>MSFT_Close: Weight=0.410<br>NKE_Close: Weight=0.590",
          "Return: 26.242%<br>Volatility: 0.417<br>Sharpe Ratio: 0.630<br>EMR_Close: Weight=0.000<br>NEE_Close: Weight=1.000<br>GILD_Close: Weight=0.000",
          "Return: 25.453%<br>Volatility: 0.419<br>Sharpe Ratio: 0.607<br>LLY_Close: Weight=1.000<br>BIIB_Close: Weight=0.000<br>XOM_Close: Weight=0.000<br>BSX_Close: Weight=0.000",
          "Return: 55.263%<br>Volatility: 0.528<br>Sharpe Ratio: 1.048<br>VRTX_Close: Weight=0.000<br>QCOM_Close: Weight=1.000<br>INTC_Close: Weight=0.000<br>BA_Close: Weight=0.000",
          "Return: 209.696%<br>Volatility: 0.898<br>Sharpe Ratio: 2.334<br>ORCL_Close: Weight=0.000<br>TSLA_Close: Weight=1.000<br>ABBV_Close: Weight=0.000",
          "Return: -2.820%<br>Volatility: 0.381<br>Sharpe Ratio: -0.074<br>AMGN_Close: Weight=1.000<br>IBM_Close: Weight=0.000<br>AEP_Close: Weight=0.000",
          "Return: 21.279%<br>Volatility: 0.447<br>Sharpe Ratio: 0.476<br>PEP_Close: Weight=0.000<br>V_Close: Weight=0.000<br>HD_Close: Weight=1.000<br>CPB_Close: Weight=0.000",
          "Return: 58.803%<br>Volatility: 0.468<br>Sharpe Ratio: 1.256<br>MRK_Close: Weight=0.000<br>SYK_Close: Weight=0.000<br>MMM_Close: Weight=0.000<br>AAPL_Close: Weight=1.000",
          "Return: 35.814%<br>Volatility: 0.337<br>Sharpe Ratio: 1.064<br>VRTX_Close: Weight=0.000<br>ORCL_Close: Weight=0.000<br>DHR_Close: Weight=1.000<br>IBM_Close: Weight=0.000",
          "Return: 53.446%<br>Volatility: 0.718<br>Sharpe Ratio: 0.744<br>DIS_Close: Weight=0.021<br>SYY_Close: Weight=0.000<br>GE_Close: Weight=0.000<br>UBER_Close: Weight=0.979",
          "Return: 33.675%<br>Volatility: 0.416<br>Sharpe Ratio: 0.809<br>K_Close: Weight=0.000<br>AEP_Close: Weight=0.000<br>NKE_Close: Weight=1.000",
          "Return: 52.188%<br>Volatility: 0.363<br>Sharpe Ratio: 1.437<br>TXN_Close: Weight=0.000<br>ABBV_Close: Weight=0.087<br>AMZN_Close: Weight=0.913",
          "Return: 25.180%<br>Volatility: 0.393<br>Sharpe Ratio: 0.640<br>MS_Close: Weight=0.187<br>K_Close: Weight=0.000<br>GOOG_Close: Weight=0.813<br>EXC_Close: Weight=0.000",
          "Return: 0.330%<br>Volatility: 0.375<br>Sharpe Ratio: 0.009<br>BA_Close: Weight=0.000<br>MMM_Close: Weight=1.000<br>T_Close: Weight=0.000",
          "Return: 33.675%<br>Volatility: 0.416<br>Sharpe Ratio: 0.809<br>NKE_Close: Weight=1.000<br>CAT_Close: Weight=0.000<br>PM_Close: Weight=0.000",
          "Return: 58.803%<br>Volatility: 0.468<br>Sharpe Ratio: 1.256<br>AAPL_Close: Weight=1.000<br>MS_Close: Weight=0.000<br>GOOGL_Close: Weight=0.000",
          "Return: 42.745%<br>Volatility: 0.459<br>Sharpe Ratio: 0.932<br>DE_Close: Weight=1.000<br>GILD_Close: Weight=0.000<br>CSCO_Close: Weight=0.000",
          "Return: 46.595%<br>Volatility: 0.463<br>Sharpe Ratio: 1.007<br>NFLX_Close: Weight=1.000<br>VRTX_Close: Weight=0.000<br>GS_Close: Weight=0.000<br>K_Close: Weight=0.000",
          "Return: 88.360%<br>Volatility: 0.597<br>Sharpe Ratio: 1.480<br>ABT_Close: Weight=0.236<br>SNAP_Close: Weight=0.764<br>T_Close: Weight=0.000",
          "Return: 74.788%<br>Volatility: 0.548<br>Sharpe Ratio: 1.365<br>WFC_Close: Weight=0.000<br>MCD_Close: Weight=0.000<br>SPOT_Close: Weight=1.000<br>GILD_Close: Weight=0.000",
          "Return: 58.803%<br>Volatility: 0.468<br>Sharpe Ratio: 1.256<br>ADBE_Close: Weight=0.000<br>HON_Close: Weight=0.000<br>AAPL_Close: Weight=1.000",
          "Return: 31.244%<br>Volatility: 0.457<br>Sharpe Ratio: 0.684<br>ISRG_Close: Weight=1.000<br>DIS_Close: Weight=0.000<br>LMT_Close: Weight=0.000",
          "Return: 108.305%<br>Volatility: 0.740<br>Sharpe Ratio: 1.463<br>BTI_Close: Weight=0.000<br>LYFT_Close: Weight=0.000<br>SNAP_Close: Weight=1.000<br>LMT_Close: Weight=0.000",
          "Return: 31.244%<br>Volatility: 0.457<br>Sharpe Ratio: 0.684<br>CMCSA_Close: Weight=0.000<br>ISRG_Close: Weight=1.000<br>T_Close: Weight=0.000<br>SO_Close: Weight=0.000",
          "Return: 28.590%<br>Volatility: 0.290<br>Sharpe Ratio: 0.986<br>WMT_Close: Weight=0.000<br>COST_Close: Weight=1.000<br>ABT_Close: Weight=0.000",
          "Return: 28.590%<br>Volatility: 0.290<br>Sharpe Ratio: 0.986<br>INTC_Close: Weight=0.000<br>BAC_Close: Weight=0.000<br>COST_Close: Weight=1.000<br>JPM_Close: Weight=0.000",
          "Return: 16.468%<br>Volatility: 0.488<br>Sharpe Ratio: 0.337<br>MA_Close: Weight=1.000<br>LYFT_Close: Weight=0.000<br>MO_Close: Weight=0.000<br>SO_Close: Weight=0.000",
          "Return: 34.585%<br>Volatility: 0.366<br>Sharpe Ratio: 0.946<br>MRK_Close: Weight=0.000<br>ISRG_Close: Weight=0.128<br>SYK_Close: Weight=0.000<br>TMO_Close: Weight=0.872",
          "Return: 12.534%<br>Volatility: 0.615<br>Sharpe Ratio: 0.204<br>IBM_Close: Weight=0.000<br>GM_Close: Weight=1.000<br>SYY_Close: Weight=0.000<br>MDT_Close: Weight=0.000",
          "Return: 20.824%<br>Volatility: 0.295<br>Sharpe Ratio: 0.705<br>WMT_Close: Weight=0.805<br>WFC_Close: Weight=0.000<br>DIS_Close: Weight=0.195",
          "Return: 28.594%<br>Volatility: 0.290<br>Sharpe Ratio: 0.987<br>ACN_Close: Weight=0.000<br>COST_Close: Weight=0.975<br>CRM_Close: Weight=0.025<br>F_Close: Weight=0.000",
          "Return: 25.453%<br>Volatility: 0.419<br>Sharpe Ratio: 0.607<br>LLY_Close: Weight=1.000<br>K_Close: Weight=0.000<br>ZBH_Close: Weight=0.000",
          "Return: 74.029%<br>Volatility: 0.523<br>Sharpe Ratio: 1.415<br>RMD_Close: Weight=0.000<br>ABT_Close: Weight=0.000<br>PYPL_Close: Weight=1.000",
          "Return: 28.705%<br>Volatility: 0.379<br>Sharpe Ratio: 0.757<br>GE_Close: Weight=0.000<br>LLY_Close: Weight=0.438<br>ISRG_Close: Weight=0.562<br>SYK_Close: Weight=0.000",
          "Return: 209.696%<br>Volatility: 0.898<br>Sharpe Ratio: 2.334<br>AEP_Close: Weight=0.000<br>TSLA_Close: Weight=1.000<br>EMR_Close: Weight=0.000<br>BSX_Close: Weight=0.000",
          "Return: 26.242%<br>Volatility: 0.417<br>Sharpe Ratio: 0.630<br>NEE_Close: Weight=1.000<br>IBM_Close: Weight=0.000<br>LYFT_Close: Weight=0.000",
          "Return: 36.655%<br>Volatility: 0.365<br>Sharpe Ratio: 1.004<br>ADBE_Close: Weight=0.330<br>TXN_Close: Weight=0.000<br>TMO_Close: Weight=0.670",
          "Return: 68.344%<br>Volatility: 0.478<br>Sharpe Ratio: 1.431<br>DE_Close: Weight=0.182<br>PYPL_Close: Weight=0.818<br>ABT_Close: Weight=0.000",
          "Return: 14.983%<br>Volatility: 0.286<br>Sharpe Ratio: 0.524<br>GIS_Close: Weight=0.753<br>EW_Close: Weight=0.247<br>T_Close: Weight=0.000",
          "Return: 28.769%<br>Volatility: 0.522<br>Sharpe Ratio: 0.551<br>GS_Close: Weight=0.000<br>CRM_Close: Weight=1.000<br>CPB_Close: Weight=0.000<br>PFE_Close: Weight=0.000",
          "Return: 32.559%<br>Volatility: 0.287<br>Sharpe Ratio: 1.135<br>COST_Close: Weight=0.451<br>DHR_Close: Weight=0.549<br>BMY_Close: Weight=0.000",
          "Return: 28.491%<br>Volatility: 0.288<br>Sharpe Ratio: 0.988<br>COST_Close: Weight=0.941<br>MS_Close: Weight=0.012<br>GILD_Close: Weight=0.000<br>NEE_Close: Weight=0.047",
          "Return: 46.821%<br>Volatility: 0.626<br>Sharpe Ratio: 0.748<br>CMCSA_Close: Weight=0.185<br>WFC_Close: Weight=0.000<br>UBER_Close: Weight=0.815",
          "Return: 13.994%<br>Volatility: 0.428<br>Sharpe Ratio: 0.327<br>BSX_Close: Weight=0.000<br>V_Close: Weight=1.000<br>XOM_Close: Weight=0.000",
          "Return: 42.745%<br>Volatility: 0.459<br>Sharpe Ratio: 0.932<br>ACN_Close: Weight=0.000<br>EW_Close: Weight=0.000<br>DE_Close: Weight=1.000<br>SRE_Close: Weight=0.000",
          "Return: 24.168%<br>Volatility: 0.385<br>Sharpe Ratio: 0.627<br>GOOG_Close: Weight=1.000<br>CPB_Close: Weight=0.000<br>UNH_Close: Weight=0.000<br>MA_Close: Weight=0.000",
          "Return: 20.953%<br>Volatility: 0.454<br>Sharpe Ratio: 0.462<br>AEP_Close: Weight=0.000<br>CAT_Close: Weight=1.000<br>SYK_Close: Weight=0.000",
          "Return: 20.942%<br>Volatility: 0.325<br>Sharpe Ratio: 0.644<br>GIS_Close: Weight=0.573<br>CRM_Close: Weight=0.427<br>GILD_Close: Weight=0.000<br>BAC_Close: Weight=0.000",
          "Return: 39.865%<br>Volatility: 0.480<br>Sharpe Ratio: 0.831<br>PEP_Close: Weight=0.000<br>ADBE_Close: Weight=1.000<br>MMM_Close: Weight=0.000<br>MA_Close: Weight=0.000",
          "Return: 56.708%<br>Volatility: 0.355<br>Sharpe Ratio: 1.597<br>HON_Close: Weight=0.000<br>RDY_Close: Weight=1.000<br>CAT_Close: Weight=0.000<br>MCD_Close: Weight=0.000",
          "Return: 31.244%<br>Volatility: 0.457<br>Sharpe Ratio: 0.684<br>MMM_Close: Weight=0.000<br>BABA_Close: Weight=0.000<br>DUK_Close: Weight=0.000<br>ISRG_Close: Weight=1.000",
          "Return: 24.674%<br>Volatility: 0.422<br>Sharpe Ratio: 0.585<br>CRM_Close: Weight=0.557<br>MCD_Close: Weight=0.000<br>VZ_Close: Weight=0.000<br>ORCL_Close: Weight=0.443",
          "Return: 21.677%<br>Volatility: 0.409<br>Sharpe Ratio: 0.531<br>UNH_Close: Weight=0.089<br>BIIB_Close: Weight=0.000<br>CVX_Close: Weight=0.000<br>ACN_Close: Weight=0.911",
          "Return: 23.184%<br>Volatility: 0.374<br>Sharpe Ratio: 0.619<br>MRK_Close: Weight=0.000<br>SO_Close: Weight=0.000<br>ABT_Close: Weight=0.773<br>HD_Close: Weight=0.227",
          "Return: 57.474%<br>Volatility: 0.351<br>Sharpe Ratio: 1.637<br>RDY_Close: Weight=0.841<br>TXN_Close: Weight=0.000<br>AMD_Close: Weight=0.127<br>UBER_Close: Weight=0.031",
          "Return: 35.814%<br>Volatility: 0.337<br>Sharpe Ratio: 1.064<br>BIIB_Close: Weight=0.000<br>DHR_Close: Weight=1.000<br>ACN_Close: Weight=0.000<br>MMM_Close: Weight=0.000",
          "Return: 97.640%<br>Volatility: 0.665<br>Sharpe Ratio: 1.468<br>SNAP_Close: Weight=0.858<br>GS_Close: Weight=0.000<br>UNH_Close: Weight=0.000<br>MSFT_Close: Weight=0.142",
          "Return: 26.030%<br>Volatility: 0.462<br>Sharpe Ratio: 0.563<br>BAC_Close: Weight=0.000<br>META_Close: Weight=1.000<br>AMGN_Close: Weight=0.000",
          "Return: 1.919%<br>Volatility: 0.397<br>Sharpe Ratio: 0.048<br>PM_Close: Weight=1.000<br>SAP_Close: Weight=0.000<br>RTX_Close: Weight=0.000",
          "Return: 93.427%<br>Volatility: 0.566<br>Sharpe Ratio: 1.652<br>SNAP_Close: Weight=0.493<br>ABBV_Close: Weight=0.000<br>NVDA_Close: Weight=0.507",
          "Return: 27.966%<br>Volatility: 0.444<br>Sharpe Ratio: 0.630<br>HON_Close: Weight=0.199<br>PM_Close: Weight=0.000<br>DUK_Close: Weight=0.000<br>RMD_Close: Weight=0.801",
          "Return: 22.604%<br>Volatility: 0.351<br>Sharpe Ratio: 0.645<br>ORCL_Close: Weight=0.424<br>JPM_Close: Weight=0.000<br>REGN_Close: Weight=0.576",
          "Return: 14.383%<br>Volatility: 0.381<br>Sharpe Ratio: 0.377<br>BA_Close: Weight=0.000<br>CMCSA_Close: Weight=1.000<br>SAP_Close: Weight=0.000<br>IBM_Close: Weight=0.000",
          "Return: 13.004%<br>Volatility: 0.366<br>Sharpe Ratio: 0.356<br>EW_Close: Weight=0.550<br>BA_Close: Weight=0.000<br>PEP_Close: Weight=0.450<br>LMT_Close: Weight=0.000",
          "Return: 24.168%<br>Volatility: 0.385<br>Sharpe Ratio: 0.627<br>MRK_Close: Weight=0.000<br>AEP_Close: Weight=0.000<br>GOOG_Close: Weight=1.000<br>VRTX_Close: Weight=0.000",
          "Return: 35.075%<br>Volatility: 0.374<br>Sharpe Ratio: 0.939<br>ACN_Close: Weight=0.000<br>ORCL_Close: Weight=0.000<br>GS_Close: Weight=0.000<br>TMO_Close: Weight=1.000",
          "Return: 2.809%<br>Volatility: 0.499<br>Sharpe Ratio: 0.056<br>SRE_Close: Weight=0.000<br>ZBH_Close: Weight=1.000<br>CVX_Close: Weight=0.000",
          "Return: 22.015%<br>Volatility: 0.416<br>Sharpe Ratio: 0.529<br>ZBH_Close: Weight=0.000<br>SYK_Close: Weight=0.000<br>GS_Close: Weight=0.000<br>ACN_Close: Weight=1.000",
          "Return: 6.008%<br>Volatility: 0.547<br>Sharpe Ratio: 0.110<br>F_Close: Weight=0.000<br>EMR_Close: Weight=1.000<br>GE_Close: Weight=0.000<br>CSCO_Close: Weight=0.000",
          "Return: 2.809%<br>Volatility: 0.499<br>Sharpe Ratio: 0.056<br>SO_Close: Weight=0.000<br>SYY_Close: Weight=0.000<br>ZBH_Close: Weight=1.000",
          "Return: 40.180%<br>Volatility: 0.384<br>Sharpe Ratio: 1.046<br>NFLX_Close: Weight=0.719<br>ABT_Close: Weight=0.281<br>LYFT_Close: Weight=0.000<br>SRE_Close: Weight=0.000",
          "Return: 7.720%<br>Volatility: 0.401<br>Sharpe Ratio: 0.192<br>MCD_Close: Weight=1.000<br>INTC_Close: Weight=0.000<br>IBM_Close: Weight=0.000",
          "Return: 0.330%<br>Volatility: 0.375<br>Sharpe Ratio: 0.009<br>LMT_Close: Weight=0.000<br>MMM_Close: Weight=1.000<br>CVX_Close: Weight=0.000<br>EXC_Close: Weight=0.000",
          "Return: 70.162%<br>Volatility: 0.495<br>Sharpe Ratio: 1.417<br>GM_Close: Weight=0.000<br>NEE_Close: Weight=0.000<br>KR_Close: Weight=0.062<br>PYPL_Close: Weight=0.938",
          "Return: 108.305%<br>Volatility: 0.740<br>Sharpe Ratio: 1.463<br>IBM_Close: Weight=0.000<br>SNAP_Close: Weight=1.000<br>CSCO_Close: Weight=0.000",
          "Return: 55.263%<br>Volatility: 0.528<br>Sharpe Ratio: 1.048<br>LYFT_Close: Weight=0.000<br>VRTX_Close: Weight=0.000<br>QCOM_Close: Weight=1.000<br>T_Close: Weight=0.000",
          "Return: 170.011%<br>Volatility: 0.725<br>Sharpe Ratio: 2.345<br>EXC_Close: Weight=0.000<br>DHR_Close: Weight=0.228<br>GE_Close: Weight=0.000<br>TSLA_Close: Weight=0.772",
          "Return: 28.590%<br>Volatility: 0.290<br>Sharpe Ratio: 0.986<br>AMGN_Close: Weight=0.000<br>BSX_Close: Weight=0.000<br>COST_Close: Weight=1.000",
          "Return: 28.472%<br>Volatility: 0.288<br>Sharpe Ratio: 0.989<br>EXC_Close: Weight=0.000<br>LLY_Close: Weight=0.044<br>MS_Close: Weight=0.019<br>COST_Close: Weight=0.937",
          "Return: 196.395%<br>Volatility: 0.840<br>Sharpe Ratio: 2.338<br>TSLA_Close: Weight=0.898<br>MS_Close: Weight=0.000<br>DUK_Close: Weight=0.000<br>NVDA_Close: Weight=0.102",
          "Return: 15.287%<br>Volatility: 0.494<br>Sharpe Ratio: 0.309<br>CVX_Close: Weight=0.000<br>SYK_Close: Weight=1.000<br>ZBH_Close: Weight=0.000",
          "Return: 30.490%<br>Volatility: 0.492<br>Sharpe Ratio: 0.620<br>MA_Close: Weight=0.000<br>CSCO_Close: Weight=0.000<br>BA_Close: Weight=0.000<br>RMD_Close: Weight=1.000",
          "Return: 26.876%<br>Volatility: 0.381<br>Sharpe Ratio: 0.705<br>RMD_Close: Weight=0.428<br>XOM_Close: Weight=0.000<br>GOOG_Close: Weight=0.572<br>MCD_Close: Weight=0.000",
          "Return: 15.287%<br>Volatility: 0.494<br>Sharpe Ratio: 0.309<br>LMT_Close: Weight=0.000<br>T_Close: Weight=0.000<br>SYK_Close: Weight=1.000",
          "Return: 23.946%<br>Volatility: 0.381<br>Sharpe Ratio: 0.629<br>ETN_Close: Weight=0.178<br>GOOGL_Close: Weight=0.822<br>CPB_Close: Weight=0.000<br>CVX_Close: Weight=0.000",
          "Return: 41.520%<br>Volatility: 0.363<br>Sharpe Ratio: 1.145<br>COST_Close: Weight=0.628<br>AMD_Close: Weight=0.372<br>V_Close: Weight=0.000<br>GM_Close: Weight=0.000",
          "Return: 23.883%<br>Volatility: 0.387<br>Sharpe Ratio: 0.617<br>CPB_Close: Weight=0.000<br>BA_Close: Weight=0.000<br>SO_Close: Weight=0.000<br>GOOGL_Close: Weight=1.000",
          "Return: 26.030%<br>Volatility: 0.462<br>Sharpe Ratio: 0.563<br>SYY_Close: Weight=0.000<br>MMM_Close: Weight=0.000<br>META_Close: Weight=1.000",
          "Return: 21.279%<br>Volatility: 0.447<br>Sharpe Ratio: 0.476<br>SO_Close: Weight=0.000<br>VRTX_Close: Weight=0.000<br>HD_Close: Weight=1.000",
          "Return: 26.030%<br>Volatility: 0.462<br>Sharpe Ratio: 0.563<br>MCD_Close: Weight=0.000<br>IBM_Close: Weight=0.000<br>META_Close: Weight=1.000",
          "Return: 30.382%<br>Volatility: 0.300<br>Sharpe Ratio: 1.012<br>REGN_Close: Weight=0.044<br>ACN_Close: Weight=0.000<br>COST_Close: Weight=0.783<br>ADBE_Close: Weight=0.173",
          "Return: 56.108%<br>Volatility: 0.380<br>Sharpe Ratio: 1.475<br>VRTX_Close: Weight=0.000<br>AMZN_Close: Weight=0.728<br>AAPL_Close: Weight=0.272",
          "Return: 6.008%<br>Volatility: 0.547<br>Sharpe Ratio: 0.110<br>MMM_Close: Weight=0.000<br>JPM_Close: Weight=0.000<br>SAP_Close: Weight=0.000<br>EMR_Close: Weight=1.000",
          "Return: 20.169%<br>Volatility: 0.306<br>Sharpe Ratio: 0.660<br>CMCSA_Close: Weight=0.000<br>META_Close: Weight=0.463<br>GIS_Close: Weight=0.537",
          "Return: 33.675%<br>Volatility: 0.416<br>Sharpe Ratio: 0.809<br>GS_Close: Weight=0.000<br>NKE_Close: Weight=1.000<br>PEP_Close: Weight=0.000",
          "Return: 78.314%<br>Volatility: 0.515<br>Sharpe Ratio: 1.522<br>SNAP_Close: Weight=0.590<br>TMO_Close: Weight=0.410<br>VRTX_Close: Weight=0.000",
          "Return: 24.236%<br>Volatility: 0.513<br>Sharpe Ratio: 0.473<br>GS_Close: Weight=0.000<br>EXC_Close: Weight=0.000<br>ETN_Close: Weight=1.000<br>EMR_Close: Weight=0.000",
          "Return: 58.803%<br>Volatility: 0.468<br>Sharpe Ratio: 1.256<br>V_Close: Weight=0.000<br>AAPL_Close: Weight=1.000<br>MCD_Close: Weight=0.000<br>MO_Close: Weight=0.000",
          "Return: 52.800%<br>Volatility: 0.329<br>Sharpe Ratio: 1.603<br>JPM_Close: Weight=0.000<br>WFC_Close: Weight=0.000<br>RDY_Close: Weight=0.906<br>GIS_Close: Weight=0.094",
          "Return: 32.140%<br>Volatility: 0.392<br>Sharpe Ratio: 0.821<br>NKE_Close: Weight=0.793<br>WFC_Close: Weight=0.000<br>NEE_Close: Weight=0.207",
          "Return: 16.813%<br>Volatility: 0.280<br>Sharpe Ratio: 0.601<br>GIS_Close: Weight=0.663<br>EMR_Close: Weight=0.000<br>CVX_Close: Weight=0.000<br>DIS_Close: Weight=0.337",
          "Return: 207.644%<br>Volatility: 0.890<br>Sharpe Ratio: 2.334<br>TSLA_Close: Weight=0.989<br>GIS_Close: Weight=0.011<br>AMD_Close: Weight=0.000",
          "Return: 35.745%<br>Volatility: 0.437<br>Sharpe Ratio: 0.817<br>UBER_Close: Weight=0.434<br>EW_Close: Weight=0.000<br>ABBV_Close: Weight=0.566<br>DIS_Close: Weight=0.000",
          "Return: 21.647%<br>Volatility: 0.351<br>Sharpe Ratio: 0.616<br>SAP_Close: Weight=0.000<br>ABBV_Close: Weight=1.000<br>T_Close: Weight=0.000",
          "Return: 63.359%<br>Volatility: 0.607<br>Sharpe Ratio: 1.044<br>AMD_Close: Weight=1.000<br>GILD_Close: Weight=0.000<br>VRTX_Close: Weight=0.000",
          "Return: 74.788%<br>Volatility: 0.548<br>Sharpe Ratio: 1.365<br>EXC_Close: Weight=0.000<br>SPOT_Close: Weight=1.000<br>MO_Close: Weight=0.000",
          "Return: 25.771%<br>Volatility: 0.432<br>Sharpe Ratio: 0.597<br>TXN_Close: Weight=1.000<br>SYY_Close: Weight=0.000<br>JNJ_Close: Weight=0.000",
          "Return: 35.075%<br>Volatility: 0.374<br>Sharpe Ratio: 0.939<br>CSCO_Close: Weight=0.000<br>BTI_Close: Weight=0.000<br>TMO_Close: Weight=1.000",
          "Return: 25.453%<br>Volatility: 0.419<br>Sharpe Ratio: 0.607<br>RTX_Close: Weight=0.000<br>MDT_Close: Weight=0.000<br>LLY_Close: Weight=1.000",
          "Return: 22.593%<br>Volatility: 0.334<br>Sharpe Ratio: 0.677<br>MCD_Close: Weight=0.000<br>ABT_Close: Weight=0.451<br>ABBV_Close: Weight=0.549",
          "Return: 72.257%<br>Volatility: 0.504<br>Sharpe Ratio: 1.433<br>AMD_Close: Weight=0.166<br>PM_Close: Weight=0.000<br>V_Close: Weight=0.000<br>PYPL_Close: Weight=0.834",
          "Return: 21.369%<br>Volatility: 0.444<br>Sharpe Ratio: 0.481<br>CMCSA_Close: Weight=0.291<br>VZ_Close: Weight=0.000<br>ETN_Close: Weight=0.709",
          "Return: 30.616%<br>Volatility: 0.447<br>Sharpe Ratio: 0.685<br>ISRG_Close: Weight=0.939<br>CAT_Close: Weight=0.061<br>BMY_Close: Weight=0.000",
          "Return: 17.959%<br>Volatility: 0.360<br>Sharpe Ratio: 0.499<br>IBM_Close: Weight=0.000<br>BA_Close: Weight=0.000<br>HD_Close: Weight=0.573<br>PG_Close: Weight=0.427",
          "Return: 58.803%<br>Volatility: 0.468<br>Sharpe Ratio: 1.256<br>AAPL_Close: Weight=1.000<br>BAC_Close: Weight=0.000<br>SRE_Close: Weight=0.000",
          "Return: 51.455%<br>Volatility: 0.353<br>Sharpe Ratio: 1.457<br>AMZN_Close: Weight=0.830<br>K_Close: Weight=0.000<br>NKE_Close: Weight=0.170<br>GIS_Close: Weight=0.000",
          "Return: -4.460%<br>Volatility: 0.559<br>Sharpe Ratio: -0.080<br>INTC_Close: Weight=0.000<br>SRE_Close: Weight=0.000<br>F_Close: Weight=1.000",
          "Return: 21.647%<br>Volatility: 0.351<br>Sharpe Ratio: 0.616<br>SAP_Close: Weight=0.000<br>ABBV_Close: Weight=1.000<br>BA_Close: Weight=0.000",
          "Return: 57.636%<br>Volatility: 0.353<br>Sharpe Ratio: 1.634<br>AMD_Close: Weight=0.140<br>BSX_Close: Weight=0.000<br>RDY_Close: Weight=0.860",
          "Return: 34.537%<br>Volatility: 0.366<br>Sharpe Ratio: 0.944<br>TMO_Close: Weight=0.915<br>CRM_Close: Weight=0.085<br>PM_Close: Weight=0.000",
          "Return: 41.561%<br>Volatility: 0.505<br>Sharpe Ratio: 0.822<br>UNH_Close: Weight=0.000<br>ISRG_Close: Weight=0.550<br>UBER_Close: Weight=0.450<br>BTI_Close: Weight=0.000",
          "Return: 14.889%<br>Volatility: 0.370<br>Sharpe Ratio: 0.403<br>JNJ_Close: Weight=0.347<br>UA_Close: Weight=0.000<br>HON_Close: Weight=0.653",
          "Return: 70.901%<br>Volatility: 0.510<br>Sharpe Ratio: 1.390<br>ORCL_Close: Weight=0.000<br>MO_Close: Weight=0.000<br>AAPL_Close: Weight=0.399<br>NVDA_Close: Weight=0.601",
          "Return: 19.728%<br>Volatility: 0.382<br>Sharpe Ratio: 0.517<br>K_Close: Weight=0.000<br>MA_Close: Weight=0.000<br>ORCL_Close: Weight=0.687<br>DIS_Close: Weight=0.313",
          "Return: 15.997%<br>Volatility: 0.400<br>Sharpe Ratio: 0.400<br>SAP_Close: Weight=0.000<br>HON_Close: Weight=0.733<br>PEP_Close: Weight=0.267<br>T_Close: Weight=0.000",
          "Return: 35.075%<br>Volatility: 0.374<br>Sharpe Ratio: 0.939<br>XOM_Close: Weight=0.000<br>TMO_Close: Weight=1.000<br>SRE_Close: Weight=0.000<br>EXC_Close: Weight=0.000",
          "Return: 41.076%<br>Volatility: 0.359<br>Sharpe Ratio: 1.144<br>VZ_Close: Weight=0.000<br>NFLX_Close: Weight=0.573<br>NKE_Close: Weight=0.427",
          "Return: 9.397%<br>Volatility: 0.303<br>Sharpe Ratio: 0.310<br>JNJ_Close: Weight=1.000<br>RTX_Close: Weight=0.000<br>CVX_Close: Weight=0.000",
          "Return: 56.549%<br>Volatility: 0.352<br>Sharpe Ratio: 1.608<br>DUK_Close: Weight=0.000<br>RDY_Close: Weight=0.938<br>UBER_Close: Weight=0.062",
          "Return: 54.160%<br>Volatility: 0.728<br>Sharpe Ratio: 0.744<br>EMR_Close: Weight=0.000<br>UBER_Close: Weight=1.000<br>V_Close: Weight=0.000",
          "Return: 33.675%<br>Volatility: 0.416<br>Sharpe Ratio: 0.809<br>ZBH_Close: Weight=0.000<br>NKE_Close: Weight=1.000<br>PM_Close: Weight=0.000",
          "Return: 15.287%<br>Volatility: 0.494<br>Sharpe Ratio: 0.309<br>CSCO_Close: Weight=0.000<br>VZ_Close: Weight=0.000<br>SYK_Close: Weight=1.000",
          "Return: 85.257%<br>Volatility: 0.507<br>Sharpe Ratio: 1.680<br>AAPL_Close: Weight=0.318<br>ETN_Close: Weight=0.000<br>SNAP_Close: Weight=0.433<br>NVDA_Close: Weight=0.248",
          "Return: 28.024%<br>Volatility: 0.539<br>Sharpe Ratio: 0.520<br>MS_Close: Weight=0.833<br>T_Close: Weight=0.000<br>GILD_Close: Weight=0.000<br>DIS_Close: Weight=0.167",
          "Return: 26.030%<br>Volatility: 0.462<br>Sharpe Ratio: 0.563<br>MDT_Close: Weight=0.000<br>META_Close: Weight=1.000<br>UA_Close: Weight=0.000",
          "Return: 35.075%<br>Volatility: 0.374<br>Sharpe Ratio: 0.939<br>AMGN_Close: Weight=0.000<br>TMO_Close: Weight=1.000<br>GILD_Close: Weight=0.000",
          "Return: 34.253%<br>Volatility: 0.364<br>Sharpe Ratio: 0.941<br>SYK_Close: Weight=0.000<br>TMO_Close: Weight=0.925<br>ORCL_Close: Weight=0.000<br>GOOG_Close: Weight=0.075",
          "Return: 28.587%<br>Volatility: 0.290<br>Sharpe Ratio: 0.986<br>KO_Close: Weight=0.000<br>BAC_Close: Weight=0.000<br>META_Close: Weight=0.001<br>COST_Close: Weight=0.999",
          "Return: 15.953%<br>Volatility: 0.288<br>Sharpe Ratio: 0.554<br>HON_Close: Weight=0.314<br>BTI_Close: Weight=0.000<br>GIS_Close: Weight=0.686",
          "Return: 15.105%<br>Volatility: 0.309<br>Sharpe Ratio: 0.488<br>MDT_Close: Weight=0.000<br>SO_Close: Weight=0.000<br>GIS_Close: Weight=1.000",
          "Return: 11.629%<br>Volatility: 0.335<br>Sharpe Ratio: 0.347<br>V_Close: Weight=0.486<br>JNJ_Close: Weight=0.514<br>PM_Close: Weight=0.000",
          "Return: 31.244%<br>Volatility: 0.457<br>Sharpe Ratio: 0.684<br>LYFT_Close: Weight=0.000<br>GE_Close: Weight=0.000<br>BIIB_Close: Weight=0.000<br>ISRG_Close: Weight=1.000",
          "Return: 35.075%<br>Volatility: 0.374<br>Sharpe Ratio: 0.939<br>BTI_Close: Weight=0.000<br>TMO_Close: Weight=1.000<br>IBM_Close: Weight=0.000<br>ETN_Close: Weight=0.000",
          "Return: 33.360%<br>Volatility: 0.310<br>Sharpe Ratio: 1.075<br>DHR_Close: Weight=0.835<br>MO_Close: Weight=0.000<br>JPM_Close: Weight=0.000<br>WMT_Close: Weight=0.165",
          "Return: 21.647%<br>Volatility: 0.351<br>Sharpe Ratio: 0.616<br>AEP_Close: Weight=0.000<br>UNH_Close: Weight=0.000<br>ABBV_Close: Weight=1.000<br>CVX_Close: Weight=0.000",
          "Return: 12.534%<br>Volatility: 0.615<br>Sharpe Ratio: 0.204<br>BSX_Close: Weight=0.000<br>BA_Close: Weight=0.000<br>GM_Close: Weight=1.000",
          "Return: 17.805%<br>Volatility: 0.453<br>Sharpe Ratio: 0.393<br>HON_Close: Weight=1.000<br>WFC_Close: Weight=0.000<br>AEP_Close: Weight=0.000",
          "Return: 32.821%<br>Volatility: 0.345<br>Sharpe Ratio: 0.952<br>ABBV_Close: Weight=0.146<br>TMO_Close: Weight=0.790<br>PEP_Close: Weight=0.000<br>RMD_Close: Weight=0.063",
          "Return: 23.745%<br>Volatility: 0.393<br>Sharpe Ratio: 0.605<br>EW_Close: Weight=0.000<br>V_Close: Weight=0.000<br>LMT_Close: Weight=0.000<br>ABT_Close: Weight=1.000",
          "Return: 22.668%<br>Volatility: 0.373<br>Sharpe Ratio: 0.608<br>ABT_Close: Weight=0.885<br>CMCSA_Close: Weight=0.115<br>BAC_Close: Weight=0.000<br>UNH_Close: Weight=0.000",
          "Return: 35.075%<br>Volatility: 0.374<br>Sharpe Ratio: 0.939<br>BSX_Close: Weight=0.000<br>ORCL_Close: Weight=0.000<br>V_Close: Weight=0.000<br>TMO_Close: Weight=1.000",
          "Return: 70.120%<br>Volatility: 0.495<br>Sharpe Ratio: 1.417<br>KR_Close: Weight=0.063<br>CSCO_Close: Weight=0.000<br>LMT_Close: Weight=0.000<br>PYPL_Close: Weight=0.937",
          "Return: 23.792%<br>Volatility: 0.385<br>Sharpe Ratio: 0.617<br>GILD_Close: Weight=0.000<br>GOOGL_Close: Weight=0.985<br>UA_Close: Weight=0.000<br>HON_Close: Weight=0.015",
          "Return: 39.865%<br>Volatility: 0.480<br>Sharpe Ratio: 0.831<br>BTI_Close: Weight=0.000<br>MO_Close: Weight=0.000<br>ADBE_Close: Weight=1.000",
          "Return: 71.454%<br>Volatility: 0.523<br>Sharpe Ratio: 1.366<br>GE_Close: Weight=0.000<br>GOOG_Close: Weight=0.066<br>CVX_Close: Weight=0.000<br>SPOT_Close: Weight=0.934",
          "Return: 29.986%<br>Volatility: 0.285<br>Sharpe Ratio: 1.051<br>GE_Close: Weight=0.000<br>COST_Close: Weight=0.725<br>NKE_Close: Weight=0.275",
          "Return: 55.263%<br>Volatility: 0.528<br>Sharpe Ratio: 1.048<br>GOOG_Close: Weight=0.000<br>QCOM_Close: Weight=1.000<br>ZBH_Close: Weight=0.000",
          "Return: 28.769%<br>Volatility: 0.522<br>Sharpe Ratio: 0.551<br>PFE_Close: Weight=0.000<br>CRM_Close: Weight=1.000<br>AMGN_Close: Weight=0.000",
          "Return: 1.937%<br>Volatility: 0.323<br>Sharpe Ratio: 0.060<br>LMT_Close: Weight=0.000<br>CPB_Close: Weight=1.000<br>UA_Close: Weight=0.000<br>MMM_Close: Weight=0.000",
          "Return: 43.513%<br>Volatility: 0.420<br>Sharpe Ratio: 1.037<br>NFLX_Close: Weight=0.819<br>MS_Close: Weight=0.181<br>UA_Close: Weight=0.000<br>MCD_Close: Weight=0.000",
          "Return: 15.287%<br>Volatility: 0.494<br>Sharpe Ratio: 0.309<br>XOM_Close: Weight=0.000<br>K_Close: Weight=0.000<br>SYK_Close: Weight=1.000",
          "Return: 20.047%<br>Volatility: 0.433<br>Sharpe Ratio: 0.462<br>PEP_Close: Weight=0.091<br>GM_Close: Weight=0.000<br>UA_Close: Weight=0.000<br>CAT_Close: Weight=0.909",
          "Return: 66.927%<br>Volatility: 0.425<br>Sharpe Ratio: 1.574<br>MSFT_Close: Weight=0.000<br>AAPL_Close: Weight=0.492<br>SPOT_Close: Weight=0.508",
          "Return: 28.590%<br>Volatility: 0.290<br>Sharpe Ratio: 0.986<br>SRE_Close: Weight=0.000<br>BABA_Close: Weight=0.000<br>CSCO_Close: Weight=0.000<br>COST_Close: Weight=1.000",
          "Return: 5.376%<br>Volatility: 0.431<br>Sharpe Ratio: 0.125<br>VRTX_Close: Weight=0.873<br>MMM_Close: Weight=0.000<br>CPB_Close: Weight=0.127",
          "Return: 12.534%<br>Volatility: 0.615<br>Sharpe Ratio: 0.204<br>GM_Close: Weight=1.000<br>BIIB_Close: Weight=0.000<br>AMGN_Close: Weight=0.000",
          "Return: 19.769%<br>Volatility: 0.290<br>Sharpe Ratio: 0.682<br>GIS_Close: Weight=0.207<br>WMT_Close: Weight=0.793<br>SO_Close: Weight=0.000",
          "Return: 56.708%<br>Volatility: 0.355<br>Sharpe Ratio: 1.597<br>ETN_Close: Weight=0.000<br>MA_Close: Weight=0.000<br>RDY_Close: Weight=1.000",
          "Return: 22.015%<br>Volatility: 0.416<br>Sharpe Ratio: 0.529<br>RTX_Close: Weight=0.000<br>MMM_Close: Weight=0.000<br>ACN_Close: Weight=1.000",
          "Return: 20.961%<br>Volatility: 0.304<br>Sharpe Ratio: 0.689<br>DUK_Close: Weight=0.000<br>WMT_Close: Weight=0.796<br>ORCL_Close: Weight=0.047<br>HD_Close: Weight=0.157",
          "Return: 40.082%<br>Volatility: 0.371<br>Sharpe Ratio: 1.081<br>NFLX_Close: Weight=0.621<br>REGN_Close: Weight=0.110<br>WFC_Close: Weight=0.000<br>ISRG_Close: Weight=0.269",
          "Return: 35.440%<br>Volatility: 0.334<br>Sharpe Ratio: 1.062<br>WMT_Close: Weight=0.439<br>DE_Close: Weight=0.365<br>UBER_Close: Weight=0.197",
          "Return: 10.692%<br>Volatility: 0.285<br>Sharpe Ratio: 0.375<br>ZBH_Close: Weight=0.120<br>BA_Close: Weight=0.000<br>KR_Close: Weight=0.880",
          "Return: -3.438%<br>Volatility: 0.412<br>Sharpe Ratio: -0.083<br>CSCO_Close: Weight=0.000<br>BTI_Close: Weight=0.000<br>IBM_Close: Weight=1.000",
          "Return: 22.015%<br>Volatility: 0.416<br>Sharpe Ratio: 0.529<br>VRTX_Close: Weight=0.000<br>ACN_Close: Weight=1.000<br>GE_Close: Weight=0.000",
          "Return: 70.918%<br>Volatility: 0.501<br>Sharpe Ratio: 1.414<br>DIS_Close: Weight=0.000<br>UBER_Close: Weight=0.188<br>SPOT_Close: Weight=0.812",
          "Return: 35.814%<br>Volatility: 0.337<br>Sharpe Ratio: 1.064<br>EMR_Close: Weight=0.000<br>DHR_Close: Weight=1.000<br>CVX_Close: Weight=0.000",
          "Return: 35.075%<br>Volatility: 0.374<br>Sharpe Ratio: 0.939<br>K_Close: Weight=0.000<br>SAP_Close: Weight=0.000<br>TMO_Close: Weight=1.000<br>MMM_Close: Weight=0.000",
          "Return: 108.305%<br>Volatility: 0.740<br>Sharpe Ratio: 1.463<br>BABA_Close: Weight=0.000<br>SNAP_Close: Weight=1.000<br>EMR_Close: Weight=0.000",
          "Return: 46.595%<br>Volatility: 0.463<br>Sharpe Ratio: 1.007<br>SAP_Close: Weight=0.000<br>BABA_Close: Weight=0.000<br>NFLX_Close: Weight=1.000",
          "Return: 32.809%<br>Volatility: 0.306<br>Sharpe Ratio: 1.072<br>MO_Close: Weight=0.000<br>HD_Close: Weight=0.000<br>KR_Close: Weight=0.125<br>DHR_Close: Weight=0.875",
          "Return: 28.590%<br>Volatility: 0.290<br>Sharpe Ratio: 0.986<br>ACN_Close: Weight=0.000<br>COST_Close: Weight=1.000<br>LMT_Close: Weight=0.000",
          "Return: 56.029%<br>Volatility: 0.304<br>Sharpe Ratio: 1.843<br>RDY_Close: Weight=0.577<br>BAC_Close: Weight=0.000<br>AMZN_Close: Weight=0.423<br>ADBE_Close: Weight=0.000",
          "Return: 14.383%<br>Volatility: 0.381<br>Sharpe Ratio: 0.377<br>VZ_Close: Weight=0.000<br>CMCSA_Close: Weight=1.000<br>AEP_Close: Weight=0.000",
          "Return: 46.595%<br>Volatility: 0.463<br>Sharpe Ratio: 1.007<br>GS_Close: Weight=0.000<br>UNH_Close: Weight=0.000<br>NFLX_Close: Weight=1.000",
          "Return: 30.490%<br>Volatility: 0.492<br>Sharpe Ratio: 0.620<br>IBM_Close: Weight=0.000<br>PEP_Close: Weight=0.000<br>RMD_Close: Weight=1.000",
          "Return: 74.029%<br>Volatility: 0.523<br>Sharpe Ratio: 1.415<br>PYPL_Close: Weight=1.000<br>INTC_Close: Weight=0.000<br>MRK_Close: Weight=0.000",
          "Return: 21.647%<br>Volatility: 0.351<br>Sharpe Ratio: 0.616<br>BMY_Close: Weight=0.000<br>ZBH_Close: Weight=0.000<br>ABBV_Close: Weight=1.000",
          "Return: 23.745%<br>Volatility: 0.393<br>Sharpe Ratio: 0.605<br>VRTX_Close: Weight=0.000<br>ABT_Close: Weight=1.000<br>GE_Close: Weight=0.000",
          "Return: 28.590%<br>Volatility: 0.290<br>Sharpe Ratio: 0.986<br>ABT_Close: Weight=0.000<br>SYK_Close: Weight=0.000<br>COST_Close: Weight=1.000",
          "Return: 54.135%<br>Volatility: 0.378<br>Sharpe Ratio: 1.432<br>T_Close: Weight=0.000<br>WMT_Close: Weight=0.028<br>HD_Close: Weight=0.000<br>AMZN_Close: Weight=0.972",
          "Return: 1.919%<br>Volatility: 0.397<br>Sharpe Ratio: 0.048<br>JPM_Close: Weight=0.000<br>PM_Close: Weight=1.000<br>LMT_Close: Weight=0.000<br>MRK_Close: Weight=0.000",
          "Return: 42.745%<br>Volatility: 0.459<br>Sharpe Ratio: 0.932<br>DE_Close: Weight=1.000<br>GM_Close: Weight=0.000<br>IBM_Close: Weight=0.000<br>EW_Close: Weight=0.000",
          "Return: 58.803%<br>Volatility: 0.468<br>Sharpe Ratio: 1.256<br>AAPL_Close: Weight=1.000<br>MO_Close: Weight=0.000<br>MSFT_Close: Weight=0.000<br>AEP_Close: Weight=0.000",
          "Return: 11.037%<br>Volatility: 0.368<br>Sharpe Ratio: 0.300<br>CSCO_Close: Weight=0.000<br>MRK_Close: Weight=0.000<br>SO_Close: Weight=0.000<br>PEP_Close: Weight=1.000",
          "Return: -4.460%<br>Volatility: 0.559<br>Sharpe Ratio: -0.080<br>RTX_Close: Weight=0.000<br>F_Close: Weight=1.000<br>CVX_Close: Weight=0.000",
          "Return: 22.015%<br>Volatility: 0.416<br>Sharpe Ratio: 0.529<br>EW_Close: Weight=0.000<br>VZ_Close: Weight=0.000<br>ACN_Close: Weight=1.000",
          "Return: 14.681%<br>Volatility: 0.422<br>Sharpe Ratio: 0.348<br>MA_Close: Weight=0.569<br>BABA_Close: Weight=0.179<br>SYK_Close: Weight=0.252",
          "Return: 17.395%<br>Volatility: 0.300<br>Sharpe Ratio: 0.579<br>HD_Close: Weight=0.302<br>BSX_Close: Weight=0.000<br>KR_Close: Weight=0.398<br>CAT_Close: Weight=0.300",
          "Return: 55.263%<br>Volatility: 0.528<br>Sharpe Ratio: 1.048<br>QCOM_Close: Weight=1.000<br>CSCO_Close: Weight=0.000<br>GS_Close: Weight=0.000",
          "Return: 55.101%<br>Volatility: 0.385<br>Sharpe Ratio: 1.432<br>MA_Close: Weight=0.000<br>AMZN_Close: Weight=1.000<br>MSFT_Close: Weight=0.000<br>PM_Close: Weight=0.000",
          "Return: 70.424%<br>Volatility: 0.497<br>Sharpe Ratio: 1.418<br>PYPL_Close: Weight=0.907<br>BA_Close: Weight=0.000<br>TMO_Close: Weight=0.093<br>NEE_Close: Weight=0.000",
          "Return: 46.595%<br>Volatility: 0.463<br>Sharpe Ratio: 1.007<br>KO_Close: Weight=0.000<br>GM_Close: Weight=0.000<br>NFLX_Close: Weight=1.000",
          "Return: 55.263%<br>Volatility: 0.528<br>Sharpe Ratio: 1.048<br>GM_Close: Weight=0.000<br>BTI_Close: Weight=0.000<br>DIS_Close: Weight=0.000<br>QCOM_Close: Weight=1.000",
          "Return: 21.930%<br>Volatility: 0.347<br>Sharpe Ratio: 0.632<br>ABBV_Close: Weight=0.770<br>HD_Close: Weight=0.106<br>ETN_Close: Weight=0.124<br>UNH_Close: Weight=0.000",
          "Return: 23.381%<br>Volatility: 0.340<br>Sharpe Ratio: 0.688<br>PG_Close: Weight=0.060<br>BAC_Close: Weight=0.000<br>ABBV_Close: Weight=0.627<br>CRM_Close: Weight=0.313",
          "Return: 11.037%<br>Volatility: 0.368<br>Sharpe Ratio: 0.300<br>PEP_Close: Weight=1.000<br>BSX_Close: Weight=0.000<br>IBM_Close: Weight=0.000",
          "Return: 25.177%<br>Volatility: 0.393<br>Sharpe Ratio: 0.640<br>MS_Close: Weight=0.186<br>GOOG_Close: Weight=0.814<br>SAP_Close: Weight=0.000<br>UNH_Close: Weight=0.000",
          "Return: 21.647%<br>Volatility: 0.351<br>Sharpe Ratio: 0.616<br>PFE_Close: Weight=0.000<br>SRE_Close: Weight=0.000<br>ABBV_Close: Weight=1.000",
          "Return: 16.027%<br>Volatility: 0.331<br>Sharpe Ratio: 0.484<br>CMCSA_Close: Weight=0.047<br>DIS_Close: Weight=0.373<br>PG_Close: Weight=0.580",
          "Return: 38.295%<br>Volatility: 0.362<br>Sharpe Ratio: 1.059<br>NFLX_Close: Weight=0.667<br>PG_Close: Weight=0.000<br>ABBV_Close: Weight=0.333",
          "Return: 23.840%<br>Volatility: 0.386<br>Sharpe Ratio: 0.617<br>BAC_Close: Weight=0.000<br>HON_Close: Weight=0.000<br>ABT_Close: Weight=0.806<br>ETN_Close: Weight=0.194",
          "Return: 74.029%<br>Volatility: 0.523<br>Sharpe Ratio: 1.415<br>V_Close: Weight=0.000<br>MDT_Close: Weight=0.000<br>PYPL_Close: Weight=1.000<br>BAC_Close: Weight=0.000",
          "Return: 87.864%<br>Volatility: 0.591<br>Sharpe Ratio: 1.487<br>AEP_Close: Weight=0.000<br>MS_Close: Weight=0.000<br>SNAP_Close: Weight=0.726<br>NKE_Close: Weight=0.274",
          "Return: 13.212%<br>Volatility: 0.411<br>Sharpe Ratio: 0.321<br>BSX_Close: Weight=0.000<br>BABA_Close: Weight=0.291<br>SYK_Close: Weight=0.709",
          "Return: 3.097%<br>Volatility: 0.340<br>Sharpe Ratio: 0.091<br>PFE_Close: Weight=0.566<br>BSX_Close: Weight=0.000<br>MDT_Close: Weight=0.434",
          "Return: 25.476%<br>Volatility: 0.420<br>Sharpe Ratio: 0.607<br>MA_Close: Weight=0.000<br>ETN_Close: Weight=0.192<br>TXN_Close: Weight=0.808",
          "Return: 74.029%<br>Volatility: 0.523<br>Sharpe Ratio: 1.415<br>BMY_Close: Weight=0.000<br>UA_Close: Weight=0.000<br>RMD_Close: Weight=0.000<br>PYPL_Close: Weight=1.000",
          "Return: 25.187%<br>Volatility: 0.356<br>Sharpe Ratio: 0.707<br>ORCL_Close: Weight=0.029<br>RMD_Close: Weight=0.407<br>ABBV_Close: Weight=0.564<br>JNJ_Close: Weight=0.000",
          "Return: 209.696%<br>Volatility: 0.898<br>Sharpe Ratio: 2.334<br>MDT_Close: Weight=0.000<br>TSLA_Close: Weight=1.000<br>ORCL_Close: Weight=0.000<br>MRK_Close: Weight=0.000",
          "Return: 39.865%<br>Volatility: 0.480<br>Sharpe Ratio: 0.831<br>LMT_Close: Weight=0.000<br>EMR_Close: Weight=0.000<br>ZBH_Close: Weight=0.000<br>ADBE_Close: Weight=1.000",
          "Return: 22.713%<br>Volatility: 0.334<br>Sharpe Ratio: 0.680<br>GOOGL_Close: Weight=0.477<br>ABBV_Close: Weight=0.523<br>CVX_Close: Weight=0.000",
          "Return: 84.985%<br>Volatility: 0.568<br>Sharpe Ratio: 1.496<br>CVX_Close: Weight=0.000<br>REGN_Close: Weight=0.280<br>SNAP_Close: Weight=0.720",
          "Return: 71.016%<br>Volatility: 0.523<br>Sharpe Ratio: 1.358<br>SRE_Close: Weight=0.000<br>DHR_Close: Weight=0.184<br>GS_Close: Weight=0.000<br>NVDA_Close: Weight=0.816",
          "Return: 26.593%<br>Volatility: 0.419<br>Sharpe Ratio: 0.635<br>TXN_Close: Weight=0.613<br>XOM_Close: Weight=0.000<br>HON_Close: Weight=0.031<br>CRM_Close: Weight=0.356",
          "Return: 48.083%<br>Volatility: 0.443<br>Sharpe Ratio: 1.086<br>QCOM_Close: Weight=0.667<br>RTX_Close: Weight=0.000<br>NKE_Close: Weight=0.333<br>F_Close: Weight=0.000",
          "Return: 53.860%<br>Volatility: 0.376<br>Sharpe Ratio: 1.434<br>SAP_Close: Weight=0.000<br>AMZN_Close: Weight=0.960<br>ETN_Close: Weight=0.040",
          "Return: 46.135%<br>Volatility: 0.618<br>Sharpe Ratio: 0.746<br>CPB_Close: Weight=0.154<br>UBER_Close: Weight=0.846<br>XOM_Close: Weight=0.000<br>KO_Close: Weight=0.000",
          "Return: 19.780%<br>Volatility: 0.288<br>Sharpe Ratio: 0.687<br>ABBV_Close: Weight=0.509<br>KR_Close: Weight=0.324<br>MDT_Close: Weight=0.000<br>MS_Close: Weight=0.168",
          "Return: 41.271%<br>Volatility: 0.440<br>Sharpe Ratio: 0.937<br>CVX_Close: Weight=0.000<br>DE_Close: Weight=0.895<br>CPB_Close: Weight=0.000<br>CRM_Close: Weight=0.105",
          "Return: 13.994%<br>Volatility: 0.428<br>Sharpe Ratio: 0.327<br>V_Close: Weight=1.000<br>MCD_Close: Weight=0.000<br>UA_Close: Weight=0.000<br>BAC_Close: Weight=0.000",
          "Return: 39.865%<br>Volatility: 0.480<br>Sharpe Ratio: 0.831<br>EXC_Close: Weight=0.000<br>MRK_Close: Weight=0.000<br>SYY_Close: Weight=0.000<br>ADBE_Close: Weight=1.000",
          "Return: 23.103%<br>Volatility: 0.314<br>Sharpe Ratio: 0.737<br>CMCSA_Close: Weight=0.000<br>CRM_Close: Weight=0.272<br>WMT_Close: Weight=0.728",
          "Return: 63.608%<br>Volatility: 0.447<br>Sharpe Ratio: 1.423<br>UBER_Close: Weight=0.138<br>SPOT_Close: Weight=0.705<br>ABBV_Close: Weight=0.157<br>EW_Close: Weight=0.000",
          "Return: 171.167%<br>Volatility: 0.721<br>Sharpe Ratio: 2.375<br>K_Close: Weight=0.000<br>TSLA_Close: Weight=0.716<br>BSX_Close: Weight=0.000<br>PYPL_Close: Weight=0.284",
          "Return: 28.769%<br>Volatility: 0.522<br>Sharpe Ratio: 0.551<br>CRM_Close: Weight=1.000<br>PEP_Close: Weight=0.000<br>MO_Close: Weight=0.000",
          "Return: 20.953%<br>Volatility: 0.454<br>Sharpe Ratio: 0.462<br>EMR_Close: Weight=0.000<br>AMGN_Close: Weight=0.000<br>CAT_Close: Weight=1.000<br>XOM_Close: Weight=0.000",
          "Return: 74.788%<br>Volatility: 0.548<br>Sharpe Ratio: 1.365<br>SPOT_Close: Weight=1.000<br>ZBH_Close: Weight=0.000<br>SRE_Close: Weight=0.000<br>IBM_Close: Weight=0.000",
          "Return: 24.168%<br>Volatility: 0.385<br>Sharpe Ratio: 0.627<br>MDT_Close: Weight=0.000<br>GOOG_Close: Weight=1.000<br>V_Close: Weight=0.000",
          "Return: 1.919%<br>Volatility: 0.397<br>Sharpe Ratio: 0.048<br>LMT_Close: Weight=0.000<br>PM_Close: Weight=1.000<br>K_Close: Weight=0.000",
          "Return: 38.465%<br>Volatility: 0.408<br>Sharpe Ratio: 0.942<br>KO_Close: Weight=0.000<br>ACN_Close: Weight=0.000<br>DE_Close: Weight=0.797<br>ABBV_Close: Weight=0.203",
          "Return: 54.160%<br>Volatility: 0.728<br>Sharpe Ratio: 0.744<br>WFC_Close: Weight=0.000<br>UBER_Close: Weight=1.000<br>AMGN_Close: Weight=0.000",
          "Return: 89.020%<br>Volatility: 0.596<br>Sharpe Ratio: 1.493<br>DUK_Close: Weight=0.000<br>SNAP_Close: Weight=0.752<br>IBM_Close: Weight=0.000<br>RMD_Close: Weight=0.248",
          "Return: -5.956%<br>Volatility: 0.318<br>Sharpe Ratio: -0.187<br>CVX_Close: Weight=0.000<br>K_Close: Weight=1.000<br>XOM_Close: Weight=0.000",
          "Return: 45.080%<br>Volatility: 0.390<br>Sharpe Ratio: 1.154<br>T_Close: Weight=0.000<br>JPM_Close: Weight=0.000<br>TMO_Close: Weight=0.504<br>QCOM_Close: Weight=0.496",
          "Return: 39.988%<br>Volatility: 0.328<br>Sharpe Ratio: 1.219<br>DHR_Close: Weight=0.613<br>HD_Close: Weight=0.000<br>VZ_Close: Weight=0.000<br>NFLX_Close: Weight=0.387",
          "Return: 20.953%<br>Volatility: 0.454<br>Sharpe Ratio: 0.462<br>CAT_Close: Weight=1.000<br>AMGN_Close: Weight=0.000<br>AEP_Close: Weight=0.000",
          "Return: 2.809%<br>Volatility: 0.499<br>Sharpe Ratio: 0.056<br>RTX_Close: Weight=0.000<br>ZBH_Close: Weight=1.000<br>VZ_Close: Weight=0.000",
          "Return: 63.359%<br>Volatility: 0.607<br>Sharpe Ratio: 1.044<br>MDT_Close: Weight=0.000<br>AMD_Close: Weight=1.000<br>AMGN_Close: Weight=0.000",
          "Return: 56.708%<br>Volatility: 0.355<br>Sharpe Ratio: 1.597<br>RDY_Close: Weight=1.000<br>V_Close: Weight=0.000<br>MCD_Close: Weight=0.000",
          "Return: 58.803%<br>Volatility: 0.468<br>Sharpe Ratio: 1.256<br>BAC_Close: Weight=0.000<br>ABT_Close: Weight=0.000<br>AAPL_Close: Weight=1.000",
          "Return: 22.900%<br>Volatility: 0.370<br>Sharpe Ratio: 0.619<br>PG_Close: Weight=0.095<br>HON_Close: Weight=0.000<br>GOOGL_Close: Weight=0.905",
          "Return: 78.950%<br>Volatility: 0.583<br>Sharpe Ratio: 1.354<br>NVDA_Close: Weight=1.000<br>SAP_Close: Weight=0.000<br>MS_Close: Weight=0.000<br>CAT_Close: Weight=0.000",
          "Return: 20.174%<br>Volatility: 0.306<br>Sharpe Ratio: 0.660<br>META_Close: Weight=0.464<br>GIS_Close: Weight=0.536<br>BA_Close: Weight=0.000<br>F_Close: Weight=0.000",
          "Return: 59.803%<br>Volatility: 0.465<br>Sharpe Ratio: 1.286<br>JNJ_Close: Weight=0.000<br>AMD_Close: Weight=0.220<br>AAPL_Close: Weight=0.780",
          "Return: 48.596%<br>Volatility: 0.438<br>Sharpe Ratio: 1.110<br>AEP_Close: Weight=0.000<br>UBER_Close: Weight=0.265<br>NFLX_Close: Weight=0.735",
          "Return: 33.675%<br>Volatility: 0.416<br>Sharpe Ratio: 0.809<br>V_Close: Weight=0.000<br>EXC_Close: Weight=0.000<br>NKE_Close: Weight=1.000",
          "Return: 209.696%<br>Volatility: 0.898<br>Sharpe Ratio: 2.334<br>MO_Close: Weight=0.000<br>DUK_Close: Weight=0.000<br>ORCL_Close: Weight=0.000<br>TSLA_Close: Weight=1.000",
          "Return: 26.242%<br>Volatility: 0.417<br>Sharpe Ratio: 0.630<br>EXC_Close: Weight=0.000<br>NEE_Close: Weight=1.000<br>INTC_Close: Weight=0.000<br>JNJ_Close: Weight=0.000",
          "Return: 20.776%<br>Volatility: 0.347<br>Sharpe Ratio: 0.598<br>KR_Close: Weight=0.312<br>REGN_Close: Weight=0.688<br>PM_Close: Weight=0.000",
          "Return: 69.892%<br>Volatility: 0.510<br>Sharpe Ratio: 1.369<br>SPOT_Close: Weight=0.900<br>TXN_Close: Weight=0.100<br>MO_Close: Weight=0.000",
          "Return: 4.168%<br>Volatility: 0.378<br>Sharpe Ratio: 0.110<br>CPB_Close: Weight=0.143<br>DUK_Close: Weight=0.857<br>BA_Close: Weight=0.000",
          "Return: 63.359%<br>Volatility: 0.607<br>Sharpe Ratio: 1.044<br>AMD_Close: Weight=1.000<br>CVX_Close: Weight=0.000<br>CMCSA_Close: Weight=0.000<br>MO_Close: Weight=0.000",
          "Return: 31.244%<br>Volatility: 0.457<br>Sharpe Ratio: 0.684<br>MRK_Close: Weight=0.000<br>ISRG_Close: Weight=1.000<br>WFC_Close: Weight=0.000<br>GILD_Close: Weight=0.000",
          "Return: 87.370%<br>Volatility: 0.592<br>Sharpe Ratio: 1.477<br>SNAP_Close: Weight=0.758<br>ABBV_Close: Weight=0.242<br>SRE_Close: Weight=0.000",
          "Return: 78.950%<br>Volatility: 0.583<br>Sharpe Ratio: 1.354<br>BAC_Close: Weight=0.000<br>BSX_Close: Weight=0.000<br>CVX_Close: Weight=0.000<br>NVDA_Close: Weight=1.000",
          "Return: 21.265%<br>Volatility: 0.345<br>Sharpe Ratio: 0.617<br>CMCSA_Close: Weight=0.053<br>ABBV_Close: Weight=0.947<br>BTI_Close: Weight=0.000",
          "Return: 29.594%<br>Volatility: 0.573<br>Sharpe Ratio: 0.517<br>PFE_Close: Weight=0.000<br>MS_Close: Weight=1.000<br>UA_Close: Weight=0.000",
          "Return: 20.108%<br>Volatility: 0.318<br>Sharpe Ratio: 0.632<br>ABT_Close: Weight=0.696<br>MA_Close: Weight=0.000<br>KR_Close: Weight=0.304<br>MCD_Close: Weight=0.000",
          "Return: 22.015%<br>Volatility: 0.416<br>Sharpe Ratio: 0.529<br>BMY_Close: Weight=0.000<br>T_Close: Weight=0.000<br>ACN_Close: Weight=1.000<br>GE_Close: Weight=0.000",
          "Return: 74.029%<br>Volatility: 0.523<br>Sharpe Ratio: 1.415<br>ABT_Close: Weight=0.000<br>BSX_Close: Weight=0.000<br>PYPL_Close: Weight=1.000",
          "Return: 26.030%<br>Volatility: 0.462<br>Sharpe Ratio: 0.563<br>BSX_Close: Weight=0.000<br>F_Close: Weight=0.000<br>MDT_Close: Weight=0.000<br>META_Close: Weight=1.000",
          "Return: 28.459%<br>Volatility: 0.288<br>Sharpe Ratio: 0.988<br>EXC_Close: Weight=0.000<br>NEE_Close: Weight=0.056<br>COST_Close: Weight=0.944",
          "Return: 74.029%<br>Volatility: 0.523<br>Sharpe Ratio: 1.415<br>CRM_Close: Weight=0.000<br>PYPL_Close: Weight=1.000<br>ISRG_Close: Weight=0.000<br>JPM_Close: Weight=0.000",
          "Return: 24.236%<br>Volatility: 0.513<br>Sharpe Ratio: 0.473<br>SYY_Close: Weight=0.000<br>VRTX_Close: Weight=0.000<br>CVX_Close: Weight=0.000<br>ETN_Close: Weight=1.000",
          "Return: 28.505%<br>Volatility: 0.397<br>Sharpe Ratio: 0.718<br>ABT_Close: Weight=0.303<br>ISRG_Close: Weight=0.507<br>CRM_Close: Weight=0.190",
          "Return: 78.950%<br>Volatility: 0.583<br>Sharpe Ratio: 1.354<br>WMT_Close: Weight=0.000<br>MS_Close: Weight=0.000<br>NVDA_Close: Weight=1.000<br>TXN_Close: Weight=0.000",
          "Return: 53.471%<br>Volatility: 0.719<br>Sharpe Ratio: 0.744<br>DIS_Close: Weight=0.020<br>K_Close: Weight=0.000<br>UBER_Close: Weight=0.980<br>MCD_Close: Weight=0.000",
          "Return: 25.400%<br>Volatility: 0.416<br>Sharpe Ratio: 0.610<br>CAT_Close: Weight=0.431<br>INTC_Close: Weight=0.000<br>CRM_Close: Weight=0.569<br>PFE_Close: Weight=0.000",
          "Return: 58.803%<br>Volatility: 0.468<br>Sharpe Ratio: 1.256<br>BIIB_Close: Weight=0.000<br>MMM_Close: Weight=0.000<br>AAPL_Close: Weight=1.000",
          "Return: 63.359%<br>Volatility: 0.607<br>Sharpe Ratio: 1.044<br>EW_Close: Weight=0.000<br>AMD_Close: Weight=1.000<br>LMT_Close: Weight=0.000",
          "Return: 39.849%<br>Volatility: 0.480<br>Sharpe Ratio: 0.831<br>ADBE_Close: Weight=0.999<br>BMY_Close: Weight=0.000<br>DIS_Close: Weight=0.001",
          "Return: 11.384%<br>Volatility: 0.370<br>Sharpe Ratio: 0.307<br>MRK_Close: Weight=0.000<br>PEP_Close: Weight=0.899<br>LYFT_Close: Weight=0.101",
          "Return: 26.030%<br>Volatility: 0.462<br>Sharpe Ratio: 0.563<br>LMT_Close: Weight=0.000<br>META_Close: Weight=1.000<br>LYFT_Close: Weight=0.000<br>VZ_Close: Weight=0.000",
          "Return: 17.284%<br>Volatility: 0.346<br>Sharpe Ratio: 0.500<br>CAT_Close: Weight=0.508<br>CSCO_Close: Weight=0.000<br>PG_Close: Weight=0.492",
          "Return: 29.594%<br>Volatility: 0.573<br>Sharpe Ratio: 0.517<br>INTC_Close: Weight=0.000<br>MS_Close: Weight=1.000<br>V_Close: Weight=0.000",
          "Return: 23.734%<br>Volatility: 0.361<br>Sharpe Ratio: 0.657<br>CAT_Close: Weight=0.172<br>PFE_Close: Weight=0.000<br>DIS_Close: Weight=0.179<br>LLY_Close: Weight=0.649",
          "Return: 9.397%<br>Volatility: 0.303<br>Sharpe Ratio: 0.310<br>JNJ_Close: Weight=1.000<br>AEP_Close: Weight=0.000<br>JPM_Close: Weight=0.000<br>GILD_Close: Weight=0.000",
          "Return: 58.314%<br>Volatility: 0.395<br>Sharpe Ratio: 1.476<br>SPOT_Close: Weight=0.579<br>DE_Close: Weight=0.325<br>KR_Close: Weight=0.096",
          "Return: 93.427%<br>Volatility: 0.566<br>Sharpe Ratio: 1.652<br>ACN_Close: Weight=0.000<br>NVDA_Close: Weight=0.507<br>PG_Close: Weight=0.000<br>SNAP_Close: Weight=0.493",
          "Return: 23.340%<br>Volatility: 0.355<br>Sharpe Ratio: 0.657<br>REGN_Close: Weight=0.609<br>CVX_Close: Weight=0.000<br>CAT_Close: Weight=0.391",
          "Return: 22.437%<br>Volatility: 0.350<br>Sharpe Ratio: 0.640<br>HON_Close: Weight=0.344<br>SYY_Close: Weight=0.000<br>UNH_Close: Weight=0.000<br>REGN_Close: Weight=0.656",
          "Return: 16.468%<br>Volatility: 0.488<br>Sharpe Ratio: 0.337<br>MA_Close: Weight=1.000<br>CSCO_Close: Weight=0.000<br>AEP_Close: Weight=0.000<br>MRK_Close: Weight=0.000",
          "Return: 22.825%<br>Volatility: 0.327<br>Sharpe Ratio: 0.699<br>NEE_Close: Weight=0.447<br>TXN_Close: Weight=0.328<br>KR_Close: Weight=0.225",
          "Return: 26.242%<br>Volatility: 0.417<br>Sharpe Ratio: 0.630<br>MO_Close: Weight=0.000<br>NEE_Close: Weight=1.000<br>LMT_Close: Weight=0.000",
          "Return: 39.379%<br>Volatility: 0.474<br>Sharpe Ratio: 0.831<br>ADBE_Close: Weight=0.978<br>AMGN_Close: Weight=0.000<br>RTX_Close: Weight=0.000<br>HON_Close: Weight=0.022",
          "Return: 13.600%<br>Volatility: 0.319<br>Sharpe Ratio: 0.426<br>GS_Close: Weight=0.000<br>PG_Close: Weight=0.798<br>JPM_Close: Weight=0.000<br>V_Close: Weight=0.202",
          "Return: 35.814%<br>Volatility: 0.337<br>Sharpe Ratio: 1.064<br>DHR_Close: Weight=1.000<br>MDT_Close: Weight=0.000<br>ORCL_Close: Weight=0.000<br>DIS_Close: Weight=0.000",
          "Return: 25.453%<br>Volatility: 0.419<br>Sharpe Ratio: 0.607<br>XOM_Close: Weight=0.000<br>LLY_Close: Weight=1.000<br>SRE_Close: Weight=0.000",
          "Return: 78.950%<br>Volatility: 0.583<br>Sharpe Ratio: 1.354<br>NVDA_Close: Weight=1.000<br>KO_Close: Weight=0.000<br>SRE_Close: Weight=0.000",
          "Return: 13.501%<br>Volatility: 0.325<br>Sharpe Ratio: 0.416<br>IBM_Close: Weight=0.000<br>AMGN_Close: Weight=0.000<br>PG_Close: Weight=1.000",
          "Return: 74.029%<br>Volatility: 0.523<br>Sharpe Ratio: 1.415<br>NEE_Close: Weight=0.000<br>PYPL_Close: Weight=1.000<br>ABBV_Close: Weight=0.000<br>BIIB_Close: Weight=0.000",
          "Return: 56.708%<br>Volatility: 0.355<br>Sharpe Ratio: 1.597<br>GM_Close: Weight=0.000<br>PG_Close: Weight=0.000<br>RDY_Close: Weight=1.000<br>PM_Close: Weight=0.000",
          "Return: 5.877%<br>Volatility: 0.473<br>Sharpe Ratio: 0.124<br>EXC_Close: Weight=0.000<br>VRTX_Close: Weight=1.000<br>K_Close: Weight=0.000",
          "Return: 13.868%<br>Volatility: 0.320<br>Sharpe Ratio: 0.433<br>SRE_Close: Weight=0.000<br>EMR_Close: Weight=0.000<br>SYK_Close: Weight=0.206<br>PG_Close: Weight=0.794",
          "Return: 23.527%<br>Volatility: 0.373<br>Sharpe Ratio: 0.631<br>HD_Close: Weight=0.374<br>BIIB_Close: Weight=0.000<br>REGN_Close: Weight=0.626",
          "Return: 39.865%<br>Volatility: 0.480<br>Sharpe Ratio: 0.831<br>ADBE_Close: Weight=1.000<br>UNH_Close: Weight=0.000<br>GOOGL_Close: Weight=0.000<br>HD_Close: Weight=0.000",
          "Return: 28.590%<br>Volatility: 0.290<br>Sharpe Ratio: 0.986<br>MRK_Close: Weight=0.000<br>WFC_Close: Weight=0.000<br>EMR_Close: Weight=0.000<br>COST_Close: Weight=1.000",
          "Return: 20.167%<br>Volatility: 0.488<br>Sharpe Ratio: 0.413<br>DIS_Close: Weight=1.000<br>K_Close: Weight=0.000<br>PFE_Close: Weight=0.000<br>MRK_Close: Weight=0.000",
          "Return: 65.521%<br>Volatility: 0.459<br>Sharpe Ratio: 1.426<br>PYPL_Close: Weight=0.777<br>MMM_Close: Weight=0.000<br>MA_Close: Weight=0.000<br>DHR_Close: Weight=0.223",
          "Return: 28.769%<br>Volatility: 0.522<br>Sharpe Ratio: 0.551<br>RTX_Close: Weight=0.000<br>AEP_Close: Weight=0.000<br>SO_Close: Weight=0.000<br>CRM_Close: Weight=1.000",
          "Return: 9.397%<br>Volatility: 0.303<br>Sharpe Ratio: 0.310<br>JNJ_Close: Weight=1.000<br>PFE_Close: Weight=0.000<br>VRTX_Close: Weight=0.000",
          "Return: 20.953%<br>Volatility: 0.454<br>Sharpe Ratio: 0.462<br>CAT_Close: Weight=1.000<br>T_Close: Weight=0.000<br>CVX_Close: Weight=0.000",
          "Return: 33.675%<br>Volatility: 0.416<br>Sharpe Ratio: 0.809<br>LMT_Close: Weight=0.000<br>MCD_Close: Weight=0.000<br>NKE_Close: Weight=1.000",
          "Return: 39.865%<br>Volatility: 0.480<br>Sharpe Ratio: 0.831<br>ADBE_Close: Weight=1.000<br>BMY_Close: Weight=0.000<br>CVX_Close: Weight=0.000",
          "Return: 30.426%<br>Volatility: 0.445<br>Sharpe Ratio: 0.684<br>ISRG_Close: Weight=0.954<br>PG_Close: Weight=0.046<br>CSCO_Close: Weight=0.000",
          "Return: 26.242%<br>Volatility: 0.417<br>Sharpe Ratio: 0.630<br>IBM_Close: Weight=0.000<br>NEE_Close: Weight=1.000<br>GS_Close: Weight=0.000<br>K_Close: Weight=0.000",
          "Return: 30.490%<br>Volatility: 0.492<br>Sharpe Ratio: 0.620<br>RTX_Close: Weight=0.000<br>PEP_Close: Weight=0.000<br>CPB_Close: Weight=0.000<br>RMD_Close: Weight=1.000",
          "Return: 54.286%<br>Volatility: 0.321<br>Sharpe Ratio: 1.691<br>SRE_Close: Weight=0.000<br>NFLX_Close: Weight=0.240<br>RDY_Close: Weight=0.760",
          "Return: 11.037%<br>Volatility: 0.368<br>Sharpe Ratio: 0.300<br>CSCO_Close: Weight=0.000<br>PEP_Close: Weight=1.000<br>CVX_Close: Weight=0.000",
          "Return: 22.772%<br>Volatility: 0.375<br>Sharpe Ratio: 0.607<br>REGN_Close: Weight=0.750<br>MA_Close: Weight=0.250<br>T_Close: Weight=0.000",
          "Return: 12.618%<br>Volatility: 0.524<br>Sharpe Ratio: 0.241<br>K_Close: Weight=0.000<br>JPM_Close: Weight=0.000<br>GS_Close: Weight=1.000<br>EMR_Close: Weight=0.000",
          "Return: 33.406%<br>Volatility: 0.441<br>Sharpe Ratio: 0.757<br>EXC_Close: Weight=0.000<br>MSFT_Close: Weight=1.000<br>MMM_Close: Weight=0.000",
          "Return: 78.950%<br>Volatility: 0.583<br>Sharpe Ratio: 1.354<br>NVDA_Close: Weight=1.000<br>GS_Close: Weight=0.000<br>EXC_Close: Weight=0.000",
          "Return: 63.244%<br>Volatility: 0.452<br>Sharpe Ratio: 1.398<br>REGN_Close: Weight=0.231<br>AMGN_Close: Weight=0.000<br>SPOT_Close: Weight=0.769<br>EW_Close: Weight=0.000",
          "Return: 40.181%<br>Volatility: 0.429<br>Sharpe Ratio: 0.937<br>RTX_Close: Weight=0.000<br>DE_Close: Weight=0.862<br>KO_Close: Weight=0.000<br>GOOG_Close: Weight=0.138",
          "Return: 19.260%<br>Volatility: 0.466<br>Sharpe Ratio: 0.413<br>XOM_Close: Weight=0.000<br>CPB_Close: Weight=0.050<br>DIS_Close: Weight=0.950<br>MDT_Close: Weight=0.000",
          "Return: 71.969%<br>Volatility: 0.531<br>Sharpe Ratio: 1.356<br>KR_Close: Weight=0.104<br>WMT_Close: Weight=0.000<br>RMD_Close: Weight=0.000<br>NVDA_Close: Weight=0.896",
          "Return: 55.101%<br>Volatility: 0.385<br>Sharpe Ratio: 1.432<br>AEP_Close: Weight=0.000<br>AMZN_Close: Weight=1.000<br>EXC_Close: Weight=0.000",
          "Return: 34.038%<br>Volatility: 0.344<br>Sharpe Ratio: 0.989<br>WMT_Close: Weight=0.400<br>DE_Close: Weight=0.600<br>MMM_Close: Weight=0.000<br>CAT_Close: Weight=0.000",
          "Return: 63.359%<br>Volatility: 0.607<br>Sharpe Ratio: 1.044<br>AMD_Close: Weight=1.000<br>EW_Close: Weight=0.000<br>HD_Close: Weight=0.000",
          "Return: 209.696%<br>Volatility: 0.898<br>Sharpe Ratio: 2.334<br>DUK_Close: Weight=0.000<br>TSLA_Close: Weight=1.000<br>GM_Close: Weight=0.000",
          "Return: 28.249%<br>Volatility: 0.512<br>Sharpe Ratio: 0.551<br>CRM_Close: Weight=0.961<br>SYK_Close: Weight=0.039<br>VRTX_Close: Weight=0.000<br>BIIB_Close: Weight=0.000",
          "Return: 55.101%<br>Volatility: 0.385<br>Sharpe Ratio: 1.432<br>EMR_Close: Weight=0.000<br>AMZN_Close: Weight=1.000<br>RTX_Close: Weight=0.000<br>F_Close: Weight=0.000",
          "Return: 5.877%<br>Volatility: 0.473<br>Sharpe Ratio: 0.124<br>K_Close: Weight=0.000<br>SRE_Close: Weight=0.000<br>VRTX_Close: Weight=1.000",
          "Return: 74.029%<br>Volatility: 0.523<br>Sharpe Ratio: 1.415<br>PYPL_Close: Weight=1.000<br>K_Close: Weight=0.000<br>V_Close: Weight=0.000<br>MRK_Close: Weight=0.000",
          "Return: 15.287%<br>Volatility: 0.494<br>Sharpe Ratio: 0.309<br>ZBH_Close: Weight=0.000<br>SYK_Close: Weight=1.000<br>AEP_Close: Weight=0.000",
          "Return: 58.803%<br>Volatility: 0.468<br>Sharpe Ratio: 1.256<br>ABT_Close: Weight=0.000<br>AAPL_Close: Weight=1.000<br>CAT_Close: Weight=0.000",
          "Return: 17.439%<br>Volatility: 0.453<br>Sharpe Ratio: 0.385<br>PFE_Close: Weight=0.000<br>UNH_Close: Weight=0.736<br>BSX_Close: Weight=0.000<br>SYK_Close: Weight=0.264",
          "Return: 39.860%<br>Volatility: 0.412<br>Sharpe Ratio: 0.967<br>MSFT_Close: Weight=0.309<br>DE_Close: Weight=0.691<br>CVX_Close: Weight=0.000<br>ACN_Close: Weight=0.000",
          "Return: 53.846%<br>Volatility: 0.367<br>Sharpe Ratio: 1.467<br>KR_Close: Weight=0.026<br>AMZN_Close: Weight=0.857<br>UBER_Close: Weight=0.116<br>ISRG_Close: Weight=0.000",
          "Return: 31.611%<br>Volatility: 0.385<br>Sharpe Ratio: 0.820<br>NKE_Close: Weight=0.789<br>AEP_Close: Weight=0.000<br>GOOGL_Close: Weight=0.211",
          "Return: 74.788%<br>Volatility: 0.548<br>Sharpe Ratio: 1.365<br>PEP_Close: Weight=0.000<br>SPOT_Close: Weight=1.000<br>BABA_Close: Weight=0.000<br>BMY_Close: Weight=0.000",
          "Return: 9.997%<br>Volatility: 0.409<br>Sharpe Ratio: 0.244<br>KO_Close: Weight=0.000<br>BABA_Close: Weight=0.581<br>GM_Close: Weight=0.419",
          "Return: 28.835%<br>Volatility: 0.292<br>Sharpe Ratio: 0.988<br>COST_Close: Weight=0.949<br>MSFT_Close: Weight=0.051<br>T_Close: Weight=0.000",
          "Return: 8.165%<br>Volatility: 0.415<br>Sharpe Ratio: 0.197<br>SO_Close: Weight=0.000<br>BMY_Close: Weight=0.000<br>BABA_Close: Weight=1.000<br>BAC_Close: Weight=0.000",
          "Return: 21.647%<br>Volatility: 0.351<br>Sharpe Ratio: 0.616<br>ABBV_Close: Weight=1.000<br>BTI_Close: Weight=0.000<br>BA_Close: Weight=0.000",
          "Return: 27.819%<br>Volatility: 0.450<br>Sharpe Ratio: 0.618<br>ORCL_Close: Weight=0.134<br>MS_Close: Weight=0.356<br>DUK_Close: Weight=0.000<br>CRM_Close: Weight=0.510",
          "Return: 57.775%<br>Volatility: 0.548<br>Sharpe Ratio: 1.054<br>RMD_Close: Weight=0.170<br>EMR_Close: Weight=0.000<br>AMGN_Close: Weight=0.000<br>AMD_Close: Weight=0.830",
          "Return: 28.769%<br>Volatility: 0.522<br>Sharpe Ratio: 0.551<br>VRTX_Close: Weight=0.000<br>BA_Close: Weight=0.000<br>CRM_Close: Weight=1.000<br>EMR_Close: Weight=0.000",
          "Return: 19.527%<br>Volatility: 0.401<br>Sharpe Ratio: 0.487<br>SAP_Close: Weight=0.000<br>ORCL_Close: Weight=1.000<br>T_Close: Weight=0.000",
          "Return: 22.260%<br>Volatility: 0.295<br>Sharpe Ratio: 0.755<br>WMT_Close: Weight=0.599<br>GOOG_Close: Weight=0.401<br>CPB_Close: Weight=0.000<br>SRE_Close: Weight=0.000",
          "Return: 24.236%<br>Volatility: 0.513<br>Sharpe Ratio: 0.473<br>BTI_Close: Weight=0.000<br>ETN_Close: Weight=1.000<br>RTX_Close: Weight=0.000",
          "Return: 33.406%<br>Volatility: 0.441<br>Sharpe Ratio: 0.757<br>MCD_Close: Weight=0.000<br>MSFT_Close: Weight=1.000<br>ORCL_Close: Weight=0.000<br>CPB_Close: Weight=0.000",
          "Return: 63.359%<br>Volatility: 0.607<br>Sharpe Ratio: 1.044<br>BIIB_Close: Weight=0.000<br>SO_Close: Weight=0.000<br>AMD_Close: Weight=1.000",
          "Return: 28.590%<br>Volatility: 0.290<br>Sharpe Ratio: 0.986<br>CPB_Close: Weight=0.000<br>COST_Close: Weight=1.000<br>K_Close: Weight=0.000",
          "Return: 72.179%<br>Volatility: 0.475<br>Sharpe Ratio: 1.519<br>WMT_Close: Weight=0.414<br>MDT_Close: Weight=0.000<br>SNAP_Close: Weight=0.586<br>AEP_Close: Weight=0.000",
          "Return: 57.324%<br>Volatility: 0.333<br>Sharpe Ratio: 1.723<br>K_Close: Weight=0.000<br>WFC_Close: Weight=0.000<br>RDY_Close: Weight=0.706<br>AAPL_Close: Weight=0.294",
          "Return: 42.782%<br>Volatility: 0.419<br>Sharpe Ratio: 1.021<br>DIS_Close: Weight=0.144<br>F_Close: Weight=0.000<br>GS_Close: Weight=0.000<br>NFLX_Close: Weight=0.856",
          "Return: 26.242%<br>Volatility: 0.417<br>Sharpe Ratio: 0.630<br>MA_Close: Weight=0.000<br>NEE_Close: Weight=1.000<br>JNJ_Close: Weight=0.000",
          "Return: 33.675%<br>Volatility: 0.416<br>Sharpe Ratio: 0.809<br>GM_Close: Weight=0.000<br>NKE_Close: Weight=1.000<br>PEP_Close: Weight=0.000<br>JNJ_Close: Weight=0.000",
          "Return: 56.446%<br>Volatility: 0.342<br>Sharpe Ratio: 1.651<br>ADBE_Close: Weight=0.000<br>RDY_Close: Weight=0.819<br>QCOM_Close: Weight=0.181<br>RMD_Close: Weight=0.000",
          "Return: 21.152%<br>Volatility: 0.327<br>Sharpe Ratio: 0.646<br>GIS_Close: Weight=0.416<br>LLY_Close: Weight=0.584<br>PEP_Close: Weight=0.000<br>BA_Close: Weight=0.000",
          "Return: 65.488%<br>Volatility: 0.459<br>Sharpe Ratio: 1.426<br>DHR_Close: Weight=0.223<br>PYPL_Close: Weight=0.777<br>K_Close: Weight=0.000",
          "Return: 19.527%<br>Volatility: 0.401<br>Sharpe Ratio: 0.487<br>BTI_Close: Weight=0.000<br>ORCL_Close: Weight=1.000<br>PEP_Close: Weight=0.000<br>BIIB_Close: Weight=0.000",
          "Return: 33.565%<br>Volatility: 0.387<br>Sharpe Ratio: 0.867<br>NKE_Close: Weight=0.590<br>META_Close: Weight=0.000<br>MSFT_Close: Weight=0.410<br>CRM_Close: Weight=0.000",
          "Return: 19.933%<br>Volatility: 0.318<br>Sharpe Ratio: 0.627<br>PG_Close: Weight=0.210<br>MA_Close: Weight=0.000<br>ABBV_Close: Weight=0.790",
          "Return: 55.101%<br>Volatility: 0.385<br>Sharpe Ratio: 1.432<br>AMZN_Close: Weight=1.000<br>PFE_Close: Weight=0.000<br>BAC_Close: Weight=0.000",
          "Return: 30.490%<br>Volatility: 0.492<br>Sharpe Ratio: 0.620<br>V_Close: Weight=0.000<br>RMD_Close: Weight=1.000<br>MO_Close: Weight=0.000",
          "Return: 31.831%<br>Volatility: 0.336<br>Sharpe Ratio: 0.946<br>KR_Close: Weight=0.139<br>ACN_Close: Weight=0.000<br>TMO_Close: Weight=0.861<br>DUK_Close: Weight=0.000",
          "Return: 40.066%<br>Volatility: 0.427<br>Sharpe Ratio: 0.937<br>IBM_Close: Weight=0.000<br>DE_Close: Weight=0.859<br>ABT_Close: Weight=0.141",
          "Return: 6.008%<br>Volatility: 0.547<br>Sharpe Ratio: 0.110<br>EMR_Close: Weight=1.000<br>MO_Close: Weight=0.000<br>JPM_Close: Weight=0.000<br>VZ_Close: Weight=0.000",
          "Return: 17.821%<br>Volatility: 0.360<br>Sharpe Ratio: 0.495<br>CVX_Close: Weight=0.000<br>GM_Close: Weight=0.000<br>PG_Close: Weight=0.283<br>ORCL_Close: Weight=0.717",
          "Return: 23.883%<br>Volatility: 0.387<br>Sharpe Ratio: 0.617<br>GOOGL_Close: Weight=1.000<br>GE_Close: Weight=0.000<br>PEP_Close: Weight=0.000<br>WFC_Close: Weight=0.000",
          "Return: 31.244%<br>Volatility: 0.457<br>Sharpe Ratio: 0.684<br>GILD_Close: Weight=0.000<br>ISRG_Close: Weight=1.000<br>T_Close: Weight=0.000<br>SAP_Close: Weight=0.000",
          "Return: 20.953%<br>Volatility: 0.454<br>Sharpe Ratio: 0.462<br>CAT_Close: Weight=1.000<br>BTI_Close: Weight=0.000<br>SYK_Close: Weight=0.000",
          "Return: 28.769%<br>Volatility: 0.522<br>Sharpe Ratio: 0.551<br>BSX_Close: Weight=0.000<br>EMR_Close: Weight=0.000<br>CRM_Close: Weight=1.000",
          "Return: 20.167%<br>Volatility: 0.488<br>Sharpe Ratio: 0.413<br>MDT_Close: Weight=0.000<br>DIS_Close: Weight=1.000<br>IBM_Close: Weight=0.000",
          "Return: 25.453%<br>Volatility: 0.419<br>Sharpe Ratio: 0.607<br>LLY_Close: Weight=1.000<br>JPM_Close: Weight=0.000<br>BSX_Close: Weight=0.000",
          "Return: 20.386%<br>Volatility: 0.297<br>Sharpe Ratio: 0.686<br>GOOG_Close: Weight=0.583<br>GIS_Close: Weight=0.417<br>DUK_Close: Weight=0.000",
          "Return: 28.973%<br>Volatility: 0.288<br>Sharpe Ratio: 1.005<br>COST_Close: Weight=0.856<br>ISRG_Close: Weight=0.144<br>MS_Close: Weight=0.000",
          "Return: 55.263%<br>Volatility: 0.528<br>Sharpe Ratio: 1.048<br>BA_Close: Weight=0.000<br>GOOG_Close: Weight=0.000<br>QCOM_Close: Weight=1.000",
          "Return: 14.383%<br>Volatility: 0.381<br>Sharpe Ratio: 0.377<br>BA_Close: Weight=0.000<br>CMCSA_Close: Weight=1.000<br>XOM_Close: Weight=0.000",
          "Return: 209.696%<br>Volatility: 0.898<br>Sharpe Ratio: 2.334<br>AMGN_Close: Weight=0.000<br>TSLA_Close: Weight=1.000<br>GM_Close: Weight=0.000<br>MSFT_Close: Weight=0.000",
          "Return: 14.991%<br>Volatility: 0.383<br>Sharpe Ratio: 0.391<br>GILD_Close: Weight=0.000<br>CMCSA_Close: Weight=0.708<br>PM_Close: Weight=0.000<br>MA_Close: Weight=0.292",
          "Return: 29.594%<br>Volatility: 0.573<br>Sharpe Ratio: 0.517<br>KO_Close: Weight=0.000<br>MS_Close: Weight=1.000<br>LMT_Close: Weight=0.000",
          "Return: 62.992%<br>Volatility: 0.413<br>Sharpe Ratio: 1.526<br>AMZN_Close: Weight=0.669<br>NVDA_Close: Weight=0.331<br>CMCSA_Close: Weight=0.000",
          "Return: 92.234%<br>Volatility: 0.626<br>Sharpe Ratio: 1.474<br>AEP_Close: Weight=0.000<br>GOOGL_Close: Weight=0.000<br>NEE_Close: Weight=0.196<br>SNAP_Close: Weight=0.804",
          "Return: 63.078%<br>Volatility: 0.442<br>Sharpe Ratio: 1.427<br>DIS_Close: Weight=0.000<br>COST_Close: Weight=0.241<br>SAP_Close: Weight=0.000<br>PYPL_Close: Weight=0.759",
          "Return: 54.162%<br>Volatility: 0.378<br>Sharpe Ratio: 1.432<br>AMZN_Close: Weight=0.973<br>WMT_Close: Weight=0.027<br>ABT_Close: Weight=0.000",
          "Return: 31.609%<br>Volatility: 0.385<br>Sharpe Ratio: 0.820<br>NKE_Close: Weight=0.789<br>GOOGL_Close: Weight=0.211<br>GS_Close: Weight=0.000<br>BTI_Close: Weight=0.000",
          "Return: 48.493%<br>Volatility: 0.292<br>Sharpe Ratio: 1.659<br>PM_Close: Weight=0.000<br>COST_Close: Weight=0.292<br>RDY_Close: Weight=0.708<br>GS_Close: Weight=0.000",
          "Return: 5.877%<br>Volatility: 0.473<br>Sharpe Ratio: 0.124<br>K_Close: Weight=0.000<br>VRTX_Close: Weight=1.000<br>SO_Close: Weight=0.000<br>MO_Close: Weight=0.000",
          "Return: 13.994%<br>Volatility: 0.428<br>Sharpe Ratio: 0.327<br>MRK_Close: Weight=0.000<br>V_Close: Weight=1.000<br>T_Close: Weight=0.000<br>F_Close: Weight=0.000",
          "Return: 19.931%<br>Volatility: 0.318<br>Sharpe Ratio: 0.627<br>PG_Close: Weight=0.211<br>CMCSA_Close: Weight=0.000<br>GS_Close: Weight=0.000<br>ABBV_Close: Weight=0.789",
          "Return: 20.824%<br>Volatility: 0.295<br>Sharpe Ratio: 0.705<br>GILD_Close: Weight=0.000<br>WMT_Close: Weight=0.805<br>DIS_Close: Weight=0.195<br>MCD_Close: Weight=0.000",
          "Return: 56.708%<br>Volatility: 0.355<br>Sharpe Ratio: 1.597<br>ETN_Close: Weight=0.000<br>EMR_Close: Weight=0.000<br>RDY_Close: Weight=1.000<br>V_Close: Weight=0.000",
          "Return: 74.029%<br>Volatility: 0.523<br>Sharpe Ratio: 1.415<br>XOM_Close: Weight=0.000<br>ABT_Close: Weight=0.000<br>DUK_Close: Weight=0.000<br>PYPL_Close: Weight=1.000",
          "Return: 35.814%<br>Volatility: 0.337<br>Sharpe Ratio: 1.064<br>DHR_Close: Weight=1.000<br>CPB_Close: Weight=0.000<br>CVX_Close: Weight=0.000<br>VZ_Close: Weight=0.000",
          "Return: 31.244%<br>Volatility: 0.457<br>Sharpe Ratio: 0.684<br>PEP_Close: Weight=0.000<br>GILD_Close: Weight=0.000<br>ISRG_Close: Weight=1.000",
          "Return: 24.168%<br>Volatility: 0.385<br>Sharpe Ratio: 0.627<br>JPM_Close: Weight=0.000<br>GOOG_Close: Weight=1.000<br>EW_Close: Weight=0.000<br>K_Close: Weight=0.000",
          "Return: 39.866%<br>Volatility: 0.412<br>Sharpe Ratio: 0.967<br>ETN_Close: Weight=0.000<br>MSFT_Close: Weight=0.308<br>DE_Close: Weight=0.692",
          "Return: 19.527%<br>Volatility: 0.401<br>Sharpe Ratio: 0.487<br>GILD_Close: Weight=0.000<br>BAC_Close: Weight=0.000<br>AEP_Close: Weight=0.000<br>ORCL_Close: Weight=1.000",
          "Return: 17.805%<br>Volatility: 0.453<br>Sharpe Ratio: 0.393<br>GM_Close: Weight=0.000<br>GE_Close: Weight=0.000<br>HON_Close: Weight=1.000<br>DUK_Close: Weight=0.000",
          "Return: 46.595%<br>Volatility: 0.463<br>Sharpe Ratio: 1.007<br>NFLX_Close: Weight=1.000<br>PEP_Close: Weight=0.000<br>V_Close: Weight=0.000",
          "Return: 35.814%<br>Volatility: 0.337<br>Sharpe Ratio: 1.064<br>ABBV_Close: Weight=0.000<br>AEP_Close: Weight=0.000<br>VRTX_Close: Weight=0.000<br>DHR_Close: Weight=1.000",
          "Return: 12.534%<br>Volatility: 0.615<br>Sharpe Ratio: 0.204<br>GM_Close: Weight=1.000<br>CVX_Close: Weight=0.000<br>MRK_Close: Weight=0.000",
          "Return: 22.015%<br>Volatility: 0.416<br>Sharpe Ratio: 0.529<br>AEP_Close: Weight=0.000<br>IBM_Close: Weight=0.000<br>ACN_Close: Weight=1.000<br>MDT_Close: Weight=0.000",
          "Return: 30.490%<br>Volatility: 0.492<br>Sharpe Ratio: 0.620<br>RMD_Close: Weight=1.000<br>RTX_Close: Weight=0.000<br>MCD_Close: Weight=0.000",
          "Return: 4.539%<br>Volatility: 0.415<br>Sharpe Ratio: 0.110<br>AMGN_Close: Weight=0.000<br>DUK_Close: Weight=1.000<br>SRE_Close: Weight=0.000",
          "Return: 56.708%<br>Volatility: 0.355<br>Sharpe Ratio: 1.597<br>CSCO_Close: Weight=0.000<br>SO_Close: Weight=0.000<br>ZBH_Close: Weight=0.000<br>RDY_Close: Weight=1.000",
          "Return: 27.680%<br>Volatility: 0.304<br>Sharpe Ratio: 0.909<br>WMT_Close: Weight=0.472<br>EXC_Close: Weight=0.000<br>PEP_Close: Weight=0.000<br>NKE_Close: Weight=0.528",
          "Return: 35.075%<br>Volatility: 0.374<br>Sharpe Ratio: 0.939<br>SRE_Close: Weight=0.000<br>HON_Close: Weight=0.000<br>TMO_Close: Weight=1.000",
          "Return: 71.847%<br>Volatility: 0.526<br>Sharpe Ratio: 1.366<br>HON_Close: Weight=0.052<br>VRTX_Close: Weight=0.000<br>SPOT_Close: Weight=0.948",
          "Return: 55.101%<br>Volatility: 0.385<br>Sharpe Ratio: 1.432<br>SRE_Close: Weight=0.000<br>AMZN_Close: Weight=1.000<br>T_Close: Weight=0.000<br>MO_Close: Weight=0.000",
          "Return: 89.019%<br>Volatility: 0.596<br>Sharpe Ratio: 1.493<br>SNAP_Close: Weight=0.752<br>VRTX_Close: Weight=0.000<br>RMD_Close: Weight=0.248",
          "Return: 31.244%<br>Volatility: 0.457<br>Sharpe Ratio: 0.684<br>VRTX_Close: Weight=0.000<br>SYY_Close: Weight=0.000<br>ISRG_Close: Weight=1.000",
          "Return: 26.242%<br>Volatility: 0.417<br>Sharpe Ratio: 0.630<br>UNH_Close: Weight=0.000<br>NEE_Close: Weight=1.000<br>F_Close: Weight=0.000",
          "Return: 33.162%<br>Volatility: 0.404<br>Sharpe Ratio: 0.820<br>ISRG_Close: Weight=0.211<br>DIS_Close: Weight=0.000<br>NKE_Close: Weight=0.789<br>XOM_Close: Weight=0.000",
          "Return: 13.423%<br>Volatility: 0.309<br>Sharpe Ratio: 0.435<br>BABA_Close: Weight=0.075<br>SYK_Close: Weight=0.179<br>BSX_Close: Weight=0.000<br>PG_Close: Weight=0.746",
          "Return: 21.279%<br>Volatility: 0.447<br>Sharpe Ratio: 0.476<br>IBM_Close: Weight=0.000<br>LYFT_Close: Weight=0.000<br>GE_Close: Weight=0.000<br>HD_Close: Weight=1.000",
          "Return: 78.950%<br>Volatility: 0.583<br>Sharpe Ratio: 1.354<br>PM_Close: Weight=0.000<br>MRK_Close: Weight=0.000<br>NVDA_Close: Weight=1.000",
          "Return: 34.534%<br>Volatility: 0.366<br>Sharpe Ratio: 0.944<br>CRM_Close: Weight=0.086<br>TMO_Close: Weight=0.914<br>MDT_Close: Weight=0.000<br>WFC_Close: Weight=0.000",
          "Return: 28.590%<br>Volatility: 0.290<br>Sharpe Ratio: 0.986<br>COST_Close: Weight=1.000<br>GILD_Close: Weight=0.000<br>UNH_Close: Weight=0.000",
          "Return: 24.107%<br>Volatility: 0.418<br>Sharpe Ratio: 0.577<br>META_Close: Weight=0.766<br>HON_Close: Weight=0.234<br>AMGN_Close: Weight=0.000<br>RTX_Close: Weight=0.000",
          "Return: 209.696%<br>Volatility: 0.898<br>Sharpe Ratio: 2.334<br>VRTX_Close: Weight=0.000<br>BABA_Close: Weight=0.000<br>K_Close: Weight=0.000<br>TSLA_Close: Weight=1.000",
          "Return: 31.100%<br>Volatility: 0.290<br>Sharpe Ratio: 1.072<br>PM_Close: Weight=0.000<br>TMO_Close: Weight=0.387<br>COST_Close: Weight=0.613",
          "Return: 39.865%<br>Volatility: 0.480<br>Sharpe Ratio: 0.831<br>ZBH_Close: Weight=0.000<br>ADBE_Close: Weight=1.000<br>GS_Close: Weight=0.000",
          "Return: 55.101%<br>Volatility: 0.385<br>Sharpe Ratio: 1.432<br>AMZN_Close: Weight=1.000<br>XOM_Close: Weight=0.000<br>MO_Close: Weight=0.000",
          "Return: 89.018%<br>Volatility: 0.596<br>Sharpe Ratio: 1.493<br>CSCO_Close: Weight=0.000<br>SNAP_Close: Weight=0.752<br>RMD_Close: Weight=0.248",
          "Return: 25.771%<br>Volatility: 0.432<br>Sharpe Ratio: 0.597<br>LYFT_Close: Weight=0.000<br>BIIB_Close: Weight=0.000<br>TXN_Close: Weight=1.000",
          "Return: 56.045%<br>Volatility: 0.351<br>Sharpe Ratio: 1.597<br>ACN_Close: Weight=0.000<br>JPM_Close: Weight=0.000<br>MSFT_Close: Weight=0.028<br>RDY_Close: Weight=0.972",
          "Return: 19.719%<br>Volatility: 0.367<br>Sharpe Ratio: 0.538<br>WFC_Close: Weight=0.000<br>PG_Close: Weight=0.270<br>ACN_Close: Weight=0.730<br>BIIB_Close: Weight=0.000",
          "Return: 18.472%<br>Volatility: 0.444<br>Sharpe Ratio: 0.416<br>GS_Close: Weight=0.000<br>IBM_Close: Weight=0.000<br>DIS_Close: Weight=0.859<br>BABA_Close: Weight=0.141",
          "Return: 19.527%<br>Volatility: 0.401<br>Sharpe Ratio: 0.487<br>ORCL_Close: Weight=1.000<br>PEP_Close: Weight=0.000<br>MCD_Close: Weight=0.000",
          "Return: 24.576%<br>Volatility: 0.363<br>Sharpe Ratio: 0.677<br>SYY_Close: Weight=0.000<br>LLY_Close: Weight=0.486<br>ABT_Close: Weight=0.514",
          "Return: 25.771%<br>Volatility: 0.432<br>Sharpe Ratio: 0.597<br>EW_Close: Weight=0.000<br>SYY_Close: Weight=0.000<br>CVX_Close: Weight=0.000<br>TXN_Close: Weight=1.000",
          "Return: 26.030%<br>Volatility: 0.462<br>Sharpe Ratio: 0.563<br>META_Close: Weight=1.000<br>AEP_Close: Weight=0.000<br>CVX_Close: Weight=0.000",
          "Return: 81.950%<br>Volatility: 0.495<br>Sharpe Ratio: 1.656<br>LLY_Close: Weight=0.000<br>AAPL_Close: Weight=0.532<br>SNAP_Close: Weight=0.468<br>WFC_Close: Weight=0.000",
          "Return: 88.311%<br>Volatility: 0.597<br>Sharpe Ratio: 1.480<br>ABT_Close: Weight=0.236<br>GILD_Close: Weight=0.000<br>ETN_Close: Weight=0.000<br>SNAP_Close: Weight=0.764",
          "Return: 74.029%<br>Volatility: 0.523<br>Sharpe Ratio: 1.415<br>PYPL_Close: Weight=1.000<br>MA_Close: Weight=0.000<br>NEE_Close: Weight=0.000<br>MS_Close: Weight=0.000",
          "Return: 74.788%<br>Volatility: 0.548<br>Sharpe Ratio: 1.365<br>PFE_Close: Weight=0.000<br>SPOT_Close: Weight=1.000<br>MDT_Close: Weight=0.000",
          "Return: 43.802%<br>Volatility: 0.433<br>Sharpe Ratio: 1.012<br>PG_Close: Weight=0.000<br>GOOGL_Close: Weight=0.123<br>NFLX_Close: Weight=0.877<br>LMT_Close: Weight=0.000",
          "Return: 2.809%<br>Volatility: 0.499<br>Sharpe Ratio: 0.056<br>MRK_Close: Weight=0.000<br>ZBH_Close: Weight=1.000<br>BSX_Close: Weight=0.000<br>MMM_Close: Weight=0.000",
          "Return: 24.871%<br>Volatility: 0.431<br>Sharpe Ratio: 0.577<br>JPM_Close: Weight=0.000<br>DUK_Close: Weight=0.000<br>REGN_Close: Weight=1.000",
          "Return: 56.708%<br>Volatility: 0.355<br>Sharpe Ratio: 1.597<br>EMR_Close: Weight=0.000<br>RDY_Close: Weight=1.000<br>PEP_Close: Weight=0.000<br>DIS_Close: Weight=0.000",
          "Return: 71.001%<br>Volatility: 0.518<br>Sharpe Ratio: 1.372<br>ADBE_Close: Weight=0.000<br>NVDA_Close: Weight=0.780<br>DE_Close: Weight=0.220",
          "Return: 18.411%<br>Volatility: 0.310<br>Sharpe Ratio: 0.595<br>GIS_Close: Weight=0.638<br>VRTX_Close: Weight=0.000<br>ETN_Close: Weight=0.362",
          "Return: -4.296%<br>Volatility: 0.490<br>Sharpe Ratio: -0.088<br>EXC_Close: Weight=1.000<br>BTI_Close: Weight=0.000<br>BSX_Close: Weight=0.000",
          "Return: 43.727%<br>Volatility: 0.427<br>Sharpe Ratio: 1.024<br>NFLX_Close: Weight=0.783<br>MSFT_Close: Weight=0.217<br>KO_Close: Weight=0.000<br>HD_Close: Weight=0.000",
          "Return: 43.524%<br>Volatility: 0.420<br>Sharpe Ratio: 1.037<br>NFLX_Close: Weight=0.819<br>MS_Close: Weight=0.181<br>IBM_Close: Weight=0.000",
          "Return: 15.105%<br>Volatility: 0.309<br>Sharpe Ratio: 0.488<br>INTC_Close: Weight=0.000<br>GIS_Close: Weight=1.000<br>MDT_Close: Weight=0.000<br>MRK_Close: Weight=0.000",
          "Return: 7.720%<br>Volatility: 0.401<br>Sharpe Ratio: 0.192<br>MCD_Close: Weight=1.000<br>AMGN_Close: Weight=0.000<br>K_Close: Weight=0.000",
          "Return: 29.594%<br>Volatility: 0.573<br>Sharpe Ratio: 0.517<br>MS_Close: Weight=1.000<br>BAC_Close: Weight=0.000<br>SAP_Close: Weight=0.000",
          "Return: 77.069%<br>Volatility: 0.567<br>Sharpe Ratio: 1.359<br>PEP_Close: Weight=0.000<br>NVDA_Close: Weight=0.924<br>UBER_Close: Weight=0.076<br>MRK_Close: Weight=0.000",
          "Return: 40.181%<br>Volatility: 0.384<br>Sharpe Ratio: 1.046<br>NFLX_Close: Weight=0.719<br>MRK_Close: Weight=0.000<br>ABT_Close: Weight=0.281<br>UNH_Close: Weight=0.000",
          "Return: 78.950%<br>Volatility: 0.583<br>Sharpe Ratio: 1.354<br>NVDA_Close: Weight=1.000<br>K_Close: Weight=0.000<br>UA_Close: Weight=0.000<br>GE_Close: Weight=0.000",
          "Return: 38.254%<br>Volatility: 0.503<br>Sharpe Ratio: 0.761<br>V_Close: Weight=0.000<br>JNJ_Close: Weight=0.355<br>UBER_Close: Weight=0.645",
          "Return: 30.490%<br>Volatility: 0.492<br>Sharpe Ratio: 0.620<br>IBM_Close: Weight=0.000<br>RMD_Close: Weight=1.000<br>SAP_Close: Weight=0.000",
          "Return: 53.402%<br>Volatility: 0.332<br>Sharpe Ratio: 1.611<br>ORCL_Close: Weight=0.000<br>RDY_Close: Weight=0.896<br>REGN_Close: Weight=0.104<br>KO_Close: Weight=0.000",
          "Return: 56.906%<br>Volatility: 0.452<br>Sharpe Ratio: 1.258<br>AAPL_Close: Weight=0.944<br>REGN_Close: Weight=0.056<br>MSFT_Close: Weight=0.000<br>CPB_Close: Weight=0.000",
          "Return: 35.075%<br>Volatility: 0.374<br>Sharpe Ratio: 0.939<br>TMO_Close: Weight=1.000<br>MA_Close: Weight=0.000<br>BMY_Close: Weight=0.000<br>ZBH_Close: Weight=0.000",
          "Return: 78.950%<br>Volatility: 0.583<br>Sharpe Ratio: 1.354<br>INTC_Close: Weight=0.000<br>MSFT_Close: Weight=0.000<br>NVDA_Close: Weight=1.000",
          "Return: 12.993%<br>Volatility: 0.275<br>Sharpe Ratio: 0.472<br>KR_Close: Weight=0.531<br>UA_Close: Weight=0.000<br>CMCSA_Close: Weight=0.469",
          "Return: 20.346%<br>Volatility: 0.289<br>Sharpe Ratio: 0.704<br>DUK_Close: Weight=0.000<br>HON_Close: Weight=0.200<br>WMT_Close: Weight=0.800<br>XOM_Close: Weight=0.000",
          "Return: 41.757%<br>Volatility: 0.399<br>Sharpe Ratio: 1.047<br>NFLX_Close: Weight=0.784<br>MO_Close: Weight=0.000<br>ETN_Close: Weight=0.216",
          "Return: 40.673%<br>Volatility: 0.435<br>Sharpe Ratio: 0.935<br>GOOGL_Close: Weight=0.110<br>DE_Close: Weight=0.890<br>ORCL_Close: Weight=0.000",
          "Return: 33.379%<br>Volatility: 0.441<br>Sharpe Ratio: 0.757<br>MS_Close: Weight=0.007<br>BA_Close: Weight=0.000<br>MA_Close: Weight=0.000<br>MSFT_Close: Weight=0.993",
          "Return: 58.803%<br>Volatility: 0.468<br>Sharpe Ratio: 1.256<br>AAPL_Close: Weight=1.000<br>JPM_Close: Weight=0.000<br>NEE_Close: Weight=0.000<br>HON_Close: Weight=0.000",
          "Return: 20.983%<br>Volatility: 0.313<br>Sharpe Ratio: 0.671<br>WMT_Close: Weight=1.000<br>CPB_Close: Weight=0.000<br>SAP_Close: Weight=0.000",
          "Return: 55.101%<br>Volatility: 0.385<br>Sharpe Ratio: 1.432<br>AMZN_Close: Weight=1.000<br>ACN_Close: Weight=0.000<br>SO_Close: Weight=0.000",
          "Return: 108.305%<br>Volatility: 0.740<br>Sharpe Ratio: 1.463<br>T_Close: Weight=0.000<br>SNAP_Close: Weight=1.000<br>PFE_Close: Weight=0.000",
          "Return: 14.067%<br>Volatility: 0.454<br>Sharpe Ratio: 0.310<br>CPB_Close: Weight=0.091<br>EMR_Close: Weight=0.000<br>PM_Close: Weight=0.000<br>SYK_Close: Weight=0.909",
          "Return: 12.618%<br>Volatility: 0.524<br>Sharpe Ratio: 0.241<br>BSX_Close: Weight=0.000<br>SO_Close: Weight=0.000<br>WFC_Close: Weight=0.000<br>GS_Close: Weight=1.000",
          "Return: 18.210%<br>Volatility: 0.485<br>Sharpe Ratio: 0.376<br>UNH_Close: Weight=1.000<br>DUK_Close: Weight=0.000<br>SYY_Close: Weight=0.000",
          "Return: 58.072%<br>Volatility: 0.456<br>Sharpe Ratio: 1.274<br>AAPL_Close: Weight=0.794<br>JPM_Close: Weight=0.000<br>ADBE_Close: Weight=0.000<br>QCOM_Close: Weight=0.206",
          "Return: 39.991%<br>Volatility: 0.328<br>Sharpe Ratio: 1.219<br>DHR_Close: Weight=0.613<br>F_Close: Weight=0.000<br>NFLX_Close: Weight=0.387<br>NEE_Close: Weight=0.000",
          "Return: 54.361%<br>Volatility: 0.466<br>Sharpe Ratio: 1.167<br>NFLX_Close: Weight=0.537<br>RTX_Close: Weight=0.000<br>GM_Close: Weight=0.000<br>AMD_Close: Weight=0.463",
          "Return: 32.518%<br>Volatility: 0.398<br>Sharpe Ratio: 0.818<br>META_Close: Weight=0.151<br>NKE_Close: Weight=0.849<br>SYK_Close: Weight=0.000",
          "Return: 74.788%<br>Volatility: 0.548<br>Sharpe Ratio: 1.365<br>SPOT_Close: Weight=1.000<br>SYK_Close: Weight=0.000<br>META_Close: Weight=0.000",
          "Return: 38.011%<br>Volatility: 0.424<br>Sharpe Ratio: 0.897<br>UBER_Close: Weight=0.449<br>BTI_Close: Weight=0.000<br>REGN_Close: Weight=0.551",
          "Return: 22.909%<br>Volatility: 0.370<br>Sharpe Ratio: 0.619<br>BA_Close: Weight=0.000<br>GOOGL_Close: Weight=0.906<br>PG_Close: Weight=0.094<br>UNH_Close: Weight=0.000",
          "Return: 16.398%<br>Volatility: 0.424<br>Sharpe Ratio: 0.387<br>SYK_Close: Weight=0.225<br>UNH_Close: Weight=0.660<br>BABA_Close: Weight=0.115<br>SAP_Close: Weight=0.000",
          "Return: 21.517%<br>Volatility: 0.349<br>Sharpe Ratio: 0.617<br>HON_Close: Weight=0.034<br>BAC_Close: Weight=0.000<br>WFC_Close: Weight=0.000<br>ABBV_Close: Weight=0.966",
          "Return: 108.305%<br>Volatility: 0.740<br>Sharpe Ratio: 1.463<br>BMY_Close: Weight=0.000<br>SNAP_Close: Weight=1.000<br>V_Close: Weight=0.000",
          "Return: 21.626%<br>Volatility: 0.408<br>Sharpe Ratio: 0.531<br>MRK_Close: Weight=0.000<br>HON_Close: Weight=0.018<br>UNH_Close: Weight=0.083<br>ACN_Close: Weight=0.900",
          "Return: 33.406%<br>Volatility: 0.441<br>Sharpe Ratio: 0.757<br>CPB_Close: Weight=0.000<br>BAC_Close: Weight=0.000<br>MSFT_Close: Weight=1.000",
          "Return: 11.668%<br>Volatility: 0.318<br>Sharpe Ratio: 0.366<br>GILD_Close: Weight=0.000<br>KR_Close: Weight=0.989<br>KO_Close: Weight=0.011<br>BTI_Close: Weight=0.000",
          "Return: 35.687%<br>Volatility: 0.312<br>Sharpe Ratio: 1.145<br>NFLX_Close: Weight=0.397<br>REGN_Close: Weight=0.015<br>COST_Close: Weight=0.588",
          "Return: 67.493%<br>Volatility: 0.451<br>Sharpe Ratio: 1.497<br>SPOT_Close: Weight=0.626<br>PEP_Close: Weight=0.000<br>QCOM_Close: Weight=0.374",
          "Return: 33.675%<br>Volatility: 0.416<br>Sharpe Ratio: 0.809<br>NKE_Close: Weight=1.000<br>GILD_Close: Weight=0.000<br>BAC_Close: Weight=0.000",
          "Return: 22.601%<br>Volatility: 0.417<br>Sharpe Ratio: 0.542<br>ACN_Close: Weight=0.736<br>BTI_Close: Weight=0.000<br>ETN_Close: Weight=0.264",
          "Return: -2.820%<br>Volatility: 0.381<br>Sharpe Ratio: -0.074<br>GILD_Close: Weight=0.000<br>AMGN_Close: Weight=1.000<br>RTX_Close: Weight=0.000<br>EXC_Close: Weight=0.000",
          "Return: 19.527%<br>Volatility: 0.401<br>Sharpe Ratio: 0.487<br>BTI_Close: Weight=0.000<br>ORCL_Close: Weight=1.000<br>KO_Close: Weight=0.000",
          "Return: 76.452%<br>Volatility: 0.563<br>Sharpe Ratio: 1.357<br>GOOGL_Close: Weight=0.000<br>NVDA_Close: Weight=0.895<br>GM_Close: Weight=0.000<br>QCOM_Close: Weight=0.105",
          "Return: 54.883%<br>Volatility: 0.383<br>Sharpe Ratio: 1.433<br>JNJ_Close: Weight=0.000<br>NFLX_Close: Weight=0.026<br>T_Close: Weight=0.000<br>AMZN_Close: Weight=0.974",
          "Return: 23.752%<br>Volatility: 0.365<br>Sharpe Ratio: 0.650<br>LMT_Close: Weight=0.000<br>KR_Close: Weight=0.360<br>RMD_Close: Weight=0.640",
          "Return: 23.340%<br>Volatility: 0.355<br>Sharpe Ratio: 0.657<br>SAP_Close: Weight=0.000<br>CAT_Close: Weight=0.391<br>REGN_Close: Weight=0.609",
          "Return: 24.168%<br>Volatility: 0.385<br>Sharpe Ratio: 0.627<br>BTI_Close: Weight=0.000<br>GOOG_Close: Weight=1.000<br>HON_Close: Weight=0.000<br>PFE_Close: Weight=0.000",
          "Return: 24.552%<br>Volatility: 0.433<br>Sharpe Ratio: 0.567<br>WFC_Close: Weight=0.000<br>UA_Close: Weight=0.000<br>META_Close: Weight=0.871<br>EW_Close: Weight=0.129",
          "Return: 19.070%<br>Volatility: 0.378<br>Sharpe Ratio: 0.504<br>ORCL_Close: Weight=0.735<br>T_Close: Weight=0.000<br>HON_Close: Weight=0.265",
          "Return: 55.263%<br>Volatility: 0.528<br>Sharpe Ratio: 1.048<br>QCOM_Close: Weight=1.000<br>UNH_Close: Weight=0.000<br>ZBH_Close: Weight=0.000",
          "Return: 1.919%<br>Volatility: 0.397<br>Sharpe Ratio: 0.048<br>PM_Close: Weight=1.000<br>BMY_Close: Weight=0.000<br>UA_Close: Weight=0.000<br>SYY_Close: Weight=0.000",
          "Return: 17.805%<br>Volatility: 0.453<br>Sharpe Ratio: 0.393<br>BTI_Close: Weight=0.000<br>EXC_Close: Weight=0.000<br>HON_Close: Weight=1.000<br>VRTX_Close: Weight=0.000",
          "Return: 25.130%<br>Volatility: 0.350<br>Sharpe Ratio: 0.718<br>REGN_Close: Weight=0.460<br>CRM_Close: Weight=0.304<br>CAT_Close: Weight=0.236<br>JNJ_Close: Weight=0.000",
          "Return: 19.527%<br>Volatility: 0.401<br>Sharpe Ratio: 0.487<br>MDT_Close: Weight=0.000<br>UA_Close: Weight=0.000<br>ORCL_Close: Weight=1.000",
          "Return: 209.696%<br>Volatility: 0.898<br>Sharpe Ratio: 2.334<br>VRTX_Close: Weight=0.000<br>K_Close: Weight=0.000<br>TSLA_Close: Weight=1.000<br>DUK_Close: Weight=0.000",
          "Return: 23.745%<br>Volatility: 0.393<br>Sharpe Ratio: 0.605<br>EXC_Close: Weight=0.000<br>XOM_Close: Weight=0.000<br>ABT_Close: Weight=1.000<br>INTC_Close: Weight=0.000",
          "Return: 88.297%<br>Volatility: 0.597<br>Sharpe Ratio: 1.480<br>ABT_Close: Weight=0.237<br>CSCO_Close: Weight=0.000<br>SNAP_Close: Weight=0.763<br>GS_Close: Weight=0.000",
          "Return: 35.075%<br>Volatility: 0.374<br>Sharpe Ratio: 0.939<br>CVX_Close: Weight=0.000<br>TMO_Close: Weight=1.000<br>BSX_Close: Weight=0.000<br>BA_Close: Weight=0.000",
          "Return: 209.696%<br>Volatility: 0.898<br>Sharpe Ratio: 2.334<br>GOOGL_Close: Weight=0.000<br>JPM_Close: Weight=0.000<br>BMY_Close: Weight=0.000<br>TSLA_Close: Weight=1.000",
          "Return: 11.037%<br>Volatility: 0.368<br>Sharpe Ratio: 0.300<br>KO_Close: Weight=0.000<br>MO_Close: Weight=0.000<br>PEP_Close: Weight=1.000",
          "Return: 26.242%<br>Volatility: 0.417<br>Sharpe Ratio: 0.630<br>BAC_Close: Weight=0.000<br>NEE_Close: Weight=1.000<br>V_Close: Weight=0.000<br>AEP_Close: Weight=0.000",
          "Return: 23.883%<br>Volatility: 0.387<br>Sharpe Ratio: 0.617<br>GOOGL_Close: Weight=1.000<br>EMR_Close: Weight=0.000<br>INTC_Close: Weight=0.000",
          "Return: 21.036%<br>Volatility: 0.306<br>Sharpe Ratio: 0.688<br>HD_Close: Weight=0.178<br>CMCSA_Close: Weight=0.000<br>WMT_Close: Weight=0.822<br>JNJ_Close: Weight=0.000",
          "Return: 58.803%<br>Volatility: 0.468<br>Sharpe Ratio: 1.256<br>AAPL_Close: Weight=1.000<br>GE_Close: Weight=0.000<br>BSX_Close: Weight=0.000<br>BMY_Close: Weight=0.000",
          "Return: 14.383%<br>Volatility: 0.381<br>Sharpe Ratio: 0.377<br>MRK_Close: Weight=0.000<br>CMCSA_Close: Weight=1.000<br>DUK_Close: Weight=0.000",
          "Return: 51.861%<br>Volatility: 0.341<br>Sharpe Ratio: 1.520<br>GOOG_Close: Weight=0.000<br>DE_Close: Weight=0.262<br>EW_Close: Weight=0.000<br>AMZN_Close: Weight=0.738",
          "Return: 21.116%<br>Volatility: 0.337<br>Sharpe Ratio: 0.626<br>KR_Close: Weight=0.332<br>T_Close: Weight=0.000<br>TXN_Close: Weight=0.668",
          "Return: 70.986%<br>Volatility: 0.478<br>Sharpe Ratio: 1.484<br>BA_Close: Weight=0.000<br>SPOT_Close: Weight=0.667<br>AMD_Close: Weight=0.333<br>JNJ_Close: Weight=0.000",
          "Return: 50.959%<br>Volatility: 0.338<br>Sharpe Ratio: 1.509<br>SPOT_Close: Weight=0.484<br>ABBV_Close: Weight=0.000<br>COST_Close: Weight=0.516<br>RMD_Close: Weight=0.000",
          "Return: 13.501%<br>Volatility: 0.325<br>Sharpe Ratio: 0.416<br>WFC_Close: Weight=0.000<br>PG_Close: Weight=1.000<br>GILD_Close: Weight=0.000",
          "Return: 2.947%<br>Volatility: 0.359<br>Sharpe Ratio: 0.082<br>CSCO_Close: Weight=0.000<br>MRK_Close: Weight=0.000<br>PFE_Close: Weight=1.000",
          "Return: 23.942%<br>Volatility: 0.381<br>Sharpe Ratio: 0.629<br>GOOG_Close: Weight=0.922<br>WFC_Close: Weight=0.000<br>MA_Close: Weight=0.000<br>HD_Close: Weight=0.078",
          "Return: 22.015%<br>Volatility: 0.416<br>Sharpe Ratio: 0.529<br>XOM_Close: Weight=0.000<br>CSCO_Close: Weight=0.000<br>ACN_Close: Weight=1.000",
          "Return: 72.699%<br>Volatility: 0.512<br>Sharpe Ratio: 1.421<br>T_Close: Weight=0.000<br>MRK_Close: Weight=0.000<br>PYPL_Close: Weight=0.933<br>UBER_Close: Weight=0.067",
          "Return: 23.062%<br>Volatility: 0.369<br>Sharpe Ratio: 0.625<br>CAT_Close: Weight=0.244<br>UNH_Close: Weight=0.000<br>ABT_Close: Weight=0.756<br>T_Close: Weight=0.000",
          "Return: 57.642%<br>Volatility: 0.353<br>Sharpe Ratio: 1.634<br>RDY_Close: Weight=0.860<br>UNH_Close: Weight=0.000<br>AMD_Close: Weight=0.140",
          "Return: 54.991%<br>Volatility: 0.375<br>Sharpe Ratio: 1.467<br>AMZN_Close: Weight=0.883<br>CMCSA_Close: Weight=0.000<br>UBER_Close: Weight=0.117<br>UNH_Close: Weight=0.000",
          "Return: 13.994%<br>Volatility: 0.428<br>Sharpe Ratio: 0.327<br>SRE_Close: Weight=0.000<br>V_Close: Weight=1.000<br>CSCO_Close: Weight=0.000<br>INTC_Close: Weight=0.000",
          "Return: 31.244%<br>Volatility: 0.457<br>Sharpe Ratio: 0.684<br>ISRG_Close: Weight=1.000<br>SO_Close: Weight=0.000<br>GILD_Close: Weight=0.000<br>CPB_Close: Weight=0.000",
          "Return: 42.745%<br>Volatility: 0.459<br>Sharpe Ratio: 0.932<br>MRK_Close: Weight=0.000<br>TXN_Close: Weight=0.000<br>BAC_Close: Weight=0.000<br>DE_Close: Weight=1.000",
          "Return: 58.803%<br>Volatility: 0.468<br>Sharpe Ratio: 1.256<br>ADBE_Close: Weight=0.000<br>AAPL_Close: Weight=1.000<br>GILD_Close: Weight=0.000",
          "Return: 25.382%<br>Volatility: 0.391<br>Sharpe Ratio: 0.649<br>GOOG_Close: Weight=0.736<br>CRM_Close: Weight=0.264<br>CSCO_Close: Weight=0.000",
          "Return: 62.452%<br>Volatility: 0.351<br>Sharpe Ratio: 1.782<br>RDY_Close: Weight=0.668<br>BIIB_Close: Weight=0.000<br>PYPL_Close: Weight=0.332",
          "Return: 74.029%<br>Volatility: 0.523<br>Sharpe Ratio: 1.415<br>MMM_Close: Weight=0.000<br>RTX_Close: Weight=0.000<br>PYPL_Close: Weight=1.000<br>VRTX_Close: Weight=0.000",
          "Return: 89.047%<br>Volatility: 0.535<br>Sharpe Ratio: 1.664<br>SNAP_Close: Weight=0.438<br>PYPL_Close: Weight=0.562<br>IBM_Close: Weight=0.000",
          "Return: 13.994%<br>Volatility: 0.428<br>Sharpe Ratio: 0.327<br>INTC_Close: Weight=0.000<br>PM_Close: Weight=0.000<br>CPB_Close: Weight=0.000<br>V_Close: Weight=1.000",
          "Return: 170.609%<br>Volatility: 0.728<br>Sharpe Ratio: 2.343<br>RMD_Close: Weight=0.000<br>KR_Close: Weight=0.197<br>K_Close: Weight=0.000<br>TSLA_Close: Weight=0.803",
          "Return: 28.769%<br>Volatility: 0.522<br>Sharpe Ratio: 0.551<br>IBM_Close: Weight=0.000<br>CRM_Close: Weight=1.000<br>WFC_Close: Weight=0.000",
          "Return: 108.305%<br>Volatility: 0.740<br>Sharpe Ratio: 1.463<br>V_Close: Weight=0.000<br>SNAP_Close: Weight=1.000<br>IBM_Close: Weight=0.000<br>F_Close: Weight=0.000",
          "Return: 39.866%<br>Volatility: 0.412<br>Sharpe Ratio: 0.967<br>ZBH_Close: Weight=0.000<br>DE_Close: Weight=0.692<br>MSFT_Close: Weight=0.308<br>HON_Close: Weight=0.000",
          "Return: 14.762%<br>Volatility: 0.302<br>Sharpe Ratio: 0.489<br>ZBH_Close: Weight=0.028<br>VRTX_Close: Weight=0.000<br>WFC_Close: Weight=0.000<br>GIS_Close: Weight=0.972",
          "Return: 43.101%<br>Volatility: 0.367<br>Sharpe Ratio: 1.175<br>ABT_Close: Weight=0.000<br>MDT_Close: Weight=0.000<br>DHR_Close: Weight=0.625<br>QCOM_Close: Weight=0.375",
          "Return: 40.677%<br>Volatility: 0.435<br>Sharpe Ratio: 0.935<br>K_Close: Weight=0.000<br>DE_Close: Weight=0.890<br>CSCO_Close: Weight=0.000<br>GOOGL_Close: Weight=0.110",
          "Return: 25.122%<br>Volatility: 0.413<br>Sharpe Ratio: 0.608<br>IBM_Close: Weight=0.000<br>LYFT_Close: Weight=0.030<br>LLY_Close: Weight=0.970",
          "Return: 39.865%<br>Volatility: 0.480<br>Sharpe Ratio: 0.831<br>ADBE_Close: Weight=1.000<br>AMGN_Close: Weight=0.000<br>GS_Close: Weight=0.000",
          "Return: 41.393%<br>Volatility: 0.443<br>Sharpe Ratio: 0.934<br>LYFT_Close: Weight=0.000<br>DE_Close: Weight=0.918<br>PEP_Close: Weight=0.000<br>NEE_Close: Weight=0.082",
          "Return: 24.236%<br>Volatility: 0.513<br>Sharpe Ratio: 0.473<br>ETN_Close: Weight=1.000<br>DUK_Close: Weight=0.000<br>BIIB_Close: Weight=0.000",
          "Return: 26.916%<br>Volatility: 0.372<br>Sharpe Ratio: 0.724<br>V_Close: Weight=0.000<br>MMM_Close: Weight=0.000<br>ISRG_Close: Weight=0.549<br>ABBV_Close: Weight=0.451",
          "Return: 20.983%<br>Volatility: 0.313<br>Sharpe Ratio: 0.671<br>EXC_Close: Weight=0.000<br>WMT_Close: Weight=1.000<br>PM_Close: Weight=0.000",
          "Return: 35.814%<br>Volatility: 0.337<br>Sharpe Ratio: 1.064<br>INTC_Close: Weight=0.000<br>DHR_Close: Weight=1.000<br>JNJ_Close: Weight=0.000<br>EXC_Close: Weight=0.000",
          "Return: 15.105%<br>Volatility: 0.309<br>Sharpe Ratio: 0.488<br>GIS_Close: Weight=1.000<br>KO_Close: Weight=0.000<br>CSCO_Close: Weight=0.000",
          "Return: 44.799%<br>Volatility: 0.371<br>Sharpe Ratio: 1.207<br>DE_Close: Weight=0.467<br>NFLX_Close: Weight=0.533<br>CSCO_Close: Weight=0.000",
          "Return: 17.805%<br>Volatility: 0.453<br>Sharpe Ratio: 0.393<br>RTX_Close: Weight=0.000<br>BAC_Close: Weight=0.000<br>HON_Close: Weight=1.000<br>PM_Close: Weight=0.000",
          "Return: 56.708%<br>Volatility: 0.355<br>Sharpe Ratio: 1.597<br>PFE_Close: Weight=0.000<br>SYK_Close: Weight=0.000<br>RDY_Close: Weight=1.000",
          "Return: 55.263%<br>Volatility: 0.528<br>Sharpe Ratio: 1.048<br>QCOM_Close: Weight=1.000<br>EXC_Close: Weight=0.000<br>VRTX_Close: Weight=0.000",
          "Return: 41.756%<br>Volatility: 0.399<br>Sharpe Ratio: 1.047<br>HD_Close: Weight=0.000<br>ETN_Close: Weight=0.216<br>MCD_Close: Weight=0.000<br>NFLX_Close: Weight=0.784",
          "Return: 31.244%<br>Volatility: 0.457<br>Sharpe Ratio: 0.684<br>MDT_Close: Weight=0.000<br>UNH_Close: Weight=0.000<br>ISRG_Close: Weight=1.000",
          "Return: 29.254%<br>Volatility: 0.566<br>Sharpe Ratio: 0.517<br>JNJ_Close: Weight=0.000<br>EW_Close: Weight=0.023<br>MS_Close: Weight=0.977<br>BIIB_Close: Weight=0.000",
          "Return: 74.029%<br>Volatility: 0.523<br>Sharpe Ratio: 1.415<br>REGN_Close: Weight=0.000<br>PYPL_Close: Weight=1.000<br>EW_Close: Weight=0.000<br>HON_Close: Weight=0.000",
          "Return: 29.594%<br>Volatility: 0.573<br>Sharpe Ratio: 0.517<br>MS_Close: Weight=1.000<br>WFC_Close: Weight=0.000<br>XOM_Close: Weight=0.000<br>GS_Close: Weight=0.000",
          "Return: 7.720%<br>Volatility: 0.401<br>Sharpe Ratio: 0.192<br>BAC_Close: Weight=0.000<br>LMT_Close: Weight=0.000<br>T_Close: Weight=0.000<br>MCD_Close: Weight=1.000",
          "Return: 35.075%<br>Volatility: 0.374<br>Sharpe Ratio: 0.939<br>PG_Close: Weight=0.000<br>BTI_Close: Weight=0.000<br>TMO_Close: Weight=1.000<br>CVX_Close: Weight=0.000",
          "Return: 20.983%<br>Volatility: 0.313<br>Sharpe Ratio: 0.671<br>JNJ_Close: Weight=0.000<br>WMT_Close: Weight=1.000<br>XOM_Close: Weight=0.000",
          "Return: 50.071%<br>Volatility: 0.333<br>Sharpe Ratio: 1.503<br>UBER_Close: Weight=0.076<br>DHR_Close: Weight=0.257<br>LLY_Close: Weight=0.000<br>AMZN_Close: Weight=0.667",
          "Return: 42.745%<br>Volatility: 0.459<br>Sharpe Ratio: 0.932<br>DE_Close: Weight=1.000<br>ORCL_Close: Weight=0.000<br>TXN_Close: Weight=0.000<br>BAC_Close: Weight=0.000",
          "Return: 108.305%<br>Volatility: 0.740<br>Sharpe Ratio: 1.463<br>PEP_Close: Weight=0.000<br>GOOGL_Close: Weight=0.000<br>SRE_Close: Weight=0.000<br>SNAP_Close: Weight=1.000",
          "Return: 13.152%<br>Volatility: 0.307<br>Sharpe Ratio: 0.428<br>V_Close: Weight=0.163<br>CSCO_Close: Weight=0.000<br>BABA_Close: Weight=0.080<br>PG_Close: Weight=0.757",
          "Return: 30.490%<br>Volatility: 0.492<br>Sharpe Ratio: 0.620<br>JPM_Close: Weight=0.000<br>RTX_Close: Weight=0.000<br>UA_Close: Weight=0.000<br>RMD_Close: Weight=1.000",
          "Return: 15.105%<br>Volatility: 0.309<br>Sharpe Ratio: 0.488<br>GILD_Close: Weight=0.000<br>GIS_Close: Weight=1.000<br>AMGN_Close: Weight=0.000<br>MRK_Close: Weight=0.000",
          "Return: 55.945%<br>Volatility: 0.350<br>Sharpe Ratio: 1.597<br>NEE_Close: Weight=0.025<br>PM_Close: Weight=0.000<br>RDY_Close: Weight=0.975",
          "Return: 58.803%<br>Volatility: 0.468<br>Sharpe Ratio: 1.256<br>EXC_Close: Weight=0.000<br>EW_Close: Weight=0.000<br>SO_Close: Weight=0.000<br>AAPL_Close: Weight=1.000",
          "Return: 32.592%<br>Volatility: 0.285<br>Sharpe Ratio: 1.144<br>SYY_Close: Weight=0.000<br>COST_Close: Weight=0.415<br>NKE_Close: Weight=0.105<br>DHR_Close: Weight=0.480",
          "Return: 25.529%<br>Volatility: 0.368<br>Sharpe Ratio: 0.694<br>MS_Close: Weight=0.177<br>LLY_Close: Weight=0.439<br>F_Close: Weight=0.000<br>ABT_Close: Weight=0.384",
          "Return: 55.101%<br>Volatility: 0.385<br>Sharpe Ratio: 1.432<br>ISRG_Close: Weight=0.000<br>PEP_Close: Weight=0.000<br>AMZN_Close: Weight=1.000",
          "Return: 30.490%<br>Volatility: 0.492<br>Sharpe Ratio: 0.620<br>SYY_Close: Weight=0.000<br>RMD_Close: Weight=1.000<br>BSX_Close: Weight=0.000<br>PEP_Close: Weight=0.000",
          "Return: 23.883%<br>Volatility: 0.387<br>Sharpe Ratio: 0.617<br>MDT_Close: Weight=0.000<br>AMGN_Close: Weight=0.000<br>SAP_Close: Weight=0.000<br>GOOGL_Close: Weight=1.000",
          "Return: 73.450%<br>Volatility: 0.478<br>Sharpe Ratio: 1.535<br>DHR_Close: Weight=0.481<br>MDT_Close: Weight=0.000<br>ISRG_Close: Weight=0.000<br>SNAP_Close: Weight=0.519",
          "Return: 21.719%<br>Volatility: 0.330<br>Sharpe Ratio: 0.658<br>KR_Close: Weight=0.313<br>BMY_Close: Weight=0.000<br>NEE_Close: Weight=0.687<br>BAC_Close: Weight=0.000",
          "Return: 20.983%<br>Volatility: 0.313<br>Sharpe Ratio: 0.671<br>VZ_Close: Weight=0.000<br>WMT_Close: Weight=1.000<br>AMGN_Close: Weight=0.000",
          "Return: 26.706%<br>Volatility: 0.380<br>Sharpe Ratio: 0.702<br>MS_Close: Weight=0.388<br>K_Close: Weight=0.000<br>KO_Close: Weight=0.000<br>REGN_Close: Weight=0.612",
          "Return: 23.883%<br>Volatility: 0.387<br>Sharpe Ratio: 0.617<br>MCD_Close: Weight=0.000<br>EXC_Close: Weight=0.000<br>GOOGL_Close: Weight=1.000",
          "Return: 13.994%<br>Volatility: 0.428<br>Sharpe Ratio: 0.327<br>V_Close: Weight=1.000<br>CPB_Close: Weight=0.000<br>AMGN_Close: Weight=0.000",
          "Return: 209.696%<br>Volatility: 0.898<br>Sharpe Ratio: 2.334<br>JNJ_Close: Weight=0.000<br>EMR_Close: Weight=0.000<br>TSLA_Close: Weight=1.000<br>GE_Close: Weight=0.000",
          "Return: 63.075%<br>Volatility: 0.429<br>Sharpe Ratio: 1.472<br>SPOT_Close: Weight=0.634<br>PM_Close: Weight=0.000<br>NEE_Close: Weight=0.000<br>DE_Close: Weight=0.366",
          "Return: 24.168%<br>Volatility: 0.385<br>Sharpe Ratio: 0.627<br>SAP_Close: Weight=0.000<br>MRK_Close: Weight=0.000<br>GOOG_Close: Weight=1.000",
          "Return: 30.490%<br>Volatility: 0.492<br>Sharpe Ratio: 0.620<br>V_Close: Weight=0.000<br>RMD_Close: Weight=1.000<br>SYY_Close: Weight=0.000",
          "Return: 26.580%<br>Volatility: 0.309<br>Sharpe Ratio: 0.859<br>SO_Close: Weight=0.000<br>PM_Close: Weight=0.000<br>KR_Close: Weight=0.324<br>NKE_Close: Weight=0.676",
          "Return: 33.675%<br>Volatility: 0.416<br>Sharpe Ratio: 0.809<br>IBM_Close: Weight=0.000<br>NKE_Close: Weight=1.000<br>BABA_Close: Weight=0.000",
          "Return: -0.605%<br>Volatility: 0.245<br>Sharpe Ratio: -0.025<br>BA_Close: Weight=0.000<br>EXC_Close: Weight=0.000<br>VZ_Close: Weight=1.000",
          "Return: 78.950%<br>Volatility: 0.583<br>Sharpe Ratio: 1.354<br>NVDA_Close: Weight=1.000<br>V_Close: Weight=0.000<br>ABBV_Close: Weight=0.000",
          "Return: 25.074%<br>Volatility: 0.382<br>Sharpe Ratio: 0.656<br>ETN_Close: Weight=0.311<br>LLY_Close: Weight=0.689<br>GS_Close: Weight=0.000<br>EW_Close: Weight=0.000",
          "Return: 38.083%<br>Volatility: 0.473<br>Sharpe Ratio: 0.805<br>K_Close: Weight=0.000<br>GOOG_Close: Weight=0.536<br>F_Close: Weight=0.000<br>UBER_Close: Weight=0.464",
          "Return: -2.820%<br>Volatility: 0.381<br>Sharpe Ratio: -0.074<br>K_Close: Weight=0.000<br>AMGN_Close: Weight=1.000<br>CSCO_Close: Weight=0.000<br>XOM_Close: Weight=0.000",
          "Return: 45.926%<br>Volatility: 0.380<br>Sharpe Ratio: 1.209<br>MO_Close: Weight=0.000<br>DHR_Close: Weight=0.590<br>UBER_Close: Weight=0.130<br>AMD_Close: Weight=0.281",
          "Return: 14.478%<br>Volatility: 0.858<br>Sharpe Ratio: 0.169<br>AEP_Close: Weight=0.000<br>LYFT_Close: Weight=1.000<br>CSCO_Close: Weight=0.000<br>ZBH_Close: Weight=0.000",
          "Return: 24.236%<br>Volatility: 0.513<br>Sharpe Ratio: 0.473<br>UA_Close: Weight=0.000<br>AMGN_Close: Weight=0.000<br>VZ_Close: Weight=0.000<br>ETN_Close: Weight=1.000",
          "Return: 72.625%<br>Volatility: 0.513<br>Sharpe Ratio: 1.416<br>NKE_Close: Weight=0.035<br>PYPL_Close: Weight=0.965<br>GE_Close: Weight=0.000<br>CVX_Close: Weight=0.000",
          "Return: 20.167%<br>Volatility: 0.488<br>Sharpe Ratio: 0.413<br>DIS_Close: Weight=1.000<br>BSX_Close: Weight=0.000<br>SYY_Close: Weight=0.000<br>KO_Close: Weight=0.000",
          "Return: 20.983%<br>Volatility: 0.313<br>Sharpe Ratio: 0.671<br>MRK_Close: Weight=0.000<br>GE_Close: Weight=0.000<br>SAP_Close: Weight=0.000<br>WMT_Close: Weight=1.000",
          "Return: 55.263%<br>Volatility: 0.528<br>Sharpe Ratio: 1.048<br>BIIB_Close: Weight=0.000<br>GILD_Close: Weight=0.000<br>QCOM_Close: Weight=1.000",
          "Return: 33.406%<br>Volatility: 0.441<br>Sharpe Ratio: 0.757<br>CVX_Close: Weight=0.000<br>ZBH_Close: Weight=0.000<br>MSFT_Close: Weight=1.000",
          "Return: 26.924%<br>Volatility: 0.372<br>Sharpe Ratio: 0.724<br>BSX_Close: Weight=0.000<br>ISRG_Close: Weight=0.550<br>ABBV_Close: Weight=0.450",
          "Return: 58.803%<br>Volatility: 0.468<br>Sharpe Ratio: 1.256<br>LYFT_Close: Weight=0.000<br>RMD_Close: Weight=0.000<br>AAPL_Close: Weight=1.000",
          "Return: 23.218%<br>Volatility: 0.368<br>Sharpe Ratio: 0.631<br>ACN_Close: Weight=0.092<br>JNJ_Close: Weight=0.000<br>CAT_Close: Weight=0.168<br>GOOGL_Close: Weight=0.740",
          "Return: 77.071%<br>Volatility: 0.567<br>Sharpe Ratio: 1.359<br>UBER_Close: Weight=0.076<br>XOM_Close: Weight=0.000<br>NVDA_Close: Weight=0.924<br>CPB_Close: Weight=0.000",
          "Return: 54.160%<br>Volatility: 0.728<br>Sharpe Ratio: 0.744<br>UBER_Close: Weight=1.000<br>AMGN_Close: Weight=0.000<br>EMR_Close: Weight=0.000<br>AEP_Close: Weight=0.000",
          "Return: 28.590%<br>Volatility: 0.290<br>Sharpe Ratio: 0.986<br>COST_Close: Weight=1.000<br>ORCL_Close: Weight=0.000<br>V_Close: Weight=0.000<br>AEP_Close: Weight=0.000",
          "Return: 16.468%<br>Volatility: 0.488<br>Sharpe Ratio: 0.337<br>INTC_Close: Weight=0.000<br>MA_Close: Weight=1.000<br>LYFT_Close: Weight=0.000",
          "Return: 21.463%<br>Volatility: 0.397<br>Sharpe Ratio: 0.541<br>ETN_Close: Weight=0.411<br>ORCL_Close: Weight=0.589<br>BTI_Close: Weight=0.000",
          "Return: 33.406%<br>Volatility: 0.441<br>Sharpe Ratio: 0.757<br>SYY_Close: Weight=0.000<br>MSFT_Close: Weight=1.000<br>PEP_Close: Weight=0.000",
          "Return: 170.664%<br>Volatility: 0.726<br>Sharpe Ratio: 2.351<br>TSLA_Close: Weight=0.788<br>ISRG_Close: Weight=0.000<br>LLY_Close: Weight=0.212",
          "Return: 56.708%<br>Volatility: 0.355<br>Sharpe Ratio: 1.597<br>VZ_Close: Weight=0.000<br>RDY_Close: Weight=1.000<br>BAC_Close: Weight=0.000",
          "Return: 26.030%<br>Volatility: 0.462<br>Sharpe Ratio: 0.563<br>RTX_Close: Weight=0.000<br>META_Close: Weight=1.000<br>GM_Close: Weight=0.000<br>GE_Close: Weight=0.000",
          "Return: 28.769%<br>Volatility: 0.522<br>Sharpe Ratio: 0.551<br>KO_Close: Weight=0.000<br>WFC_Close: Weight=0.000<br>CRM_Close: Weight=1.000",
          "Return: 56.708%<br>Volatility: 0.355<br>Sharpe Ratio: 1.597<br>MS_Close: Weight=0.000<br>RDY_Close: Weight=1.000<br>XOM_Close: Weight=0.000<br>JNJ_Close: Weight=0.000",
          "Return: 23.745%<br>Volatility: 0.393<br>Sharpe Ratio: 0.605<br>ABT_Close: Weight=1.000<br>GM_Close: Weight=0.000<br>PFE_Close: Weight=0.000<br>MCD_Close: Weight=0.000",
          "Return: 25.771%<br>Volatility: 0.432<br>Sharpe Ratio: 0.597<br>TXN_Close: Weight=1.000<br>AEP_Close: Weight=0.000<br>WFC_Close: Weight=0.000",
          "Return: 33.675%<br>Volatility: 0.416<br>Sharpe Ratio: 0.809<br>SYK_Close: Weight=0.000<br>PG_Close: Weight=0.000<br>NKE_Close: Weight=1.000",
          "Return: 14.610%<br>Volatility: 0.441<br>Sharpe Ratio: 0.331<br>CSCO_Close: Weight=0.000<br>VZ_Close: Weight=0.000<br>EW_Close: Weight=1.000",
          "Return: 33.675%<br>Volatility: 0.416<br>Sharpe Ratio: 0.809<br>PFE_Close: Weight=0.000<br>NKE_Close: Weight=1.000<br>UNH_Close: Weight=0.000",
          "Return: 25.453%<br>Volatility: 0.419<br>Sharpe Ratio: 0.607<br>LLY_Close: Weight=1.000<br>GILD_Close: Weight=0.000<br>AMGN_Close: Weight=0.000",
          "Return: 20.724%<br>Volatility: 0.306<br>Sharpe Ratio: 0.677<br>BABA_Close: Weight=0.000<br>WMT_Close: Weight=0.907<br>UNH_Close: Weight=0.093",
          "Return: 170.754%<br>Volatility: 0.726<br>Sharpe Ratio: 2.351<br>LLY_Close: Weight=0.211<br>TSLA_Close: Weight=0.789<br>BA_Close: Weight=0.000<br>ABBV_Close: Weight=0.000",
          "Return: 23.745%<br>Volatility: 0.393<br>Sharpe Ratio: 0.605<br>VZ_Close: Weight=0.000<br>ABT_Close: Weight=1.000<br>UA_Close: Weight=0.000<br>GILD_Close: Weight=0.000",
          "Return: 20.114%<br>Volatility: 0.294<br>Sharpe Ratio: 0.684<br>WMT_Close: Weight=0.864<br>BAC_Close: Weight=0.000<br>EW_Close: Weight=0.136",
          "Return: 34.515%<br>Volatility: 0.321<br>Sharpe Ratio: 1.075<br>MSFT_Close: Weight=0.000<br>GOOG_Close: Weight=0.000<br>REGN_Close: Weight=0.119<br>DHR_Close: Weight=0.881",
          "Return: 28.429%<br>Volatility: 0.288<br>Sharpe Ratio: 0.988<br>LLY_Close: Weight=0.051<br>EXC_Close: Weight=0.000<br>COST_Close: Weight=0.949",
          "Return: 51.072%<br>Volatility: 0.350<br>Sharpe Ratio: 1.458<br>AMZN_Close: Weight=0.799<br>DUK_Close: Weight=0.000<br>TMO_Close: Weight=0.201<br>BSX_Close: Weight=0.000",
          "Return: 37.412%<br>Volatility: 0.380<br>Sharpe Ratio: 0.985<br>DE_Close: Weight=0.702<br>ZBH_Close: Weight=0.000<br>NEE_Close: Weight=0.000<br>REGN_Close: Weight=0.298",
          "Return: 55.101%<br>Volatility: 0.385<br>Sharpe Ratio: 1.432<br>BIIB_Close: Weight=0.000<br>SYY_Close: Weight=0.000<br>AMZN_Close: Weight=1.000",
          "Return: 19.374%<br>Volatility: 0.467<br>Sharpe Ratio: 0.415<br>V_Close: Weight=0.129<br>DIS_Close: Weight=0.871<br>IBM_Close: Weight=0.000",
          "Return: 15.950%<br>Volatility: 0.288<br>Sharpe Ratio: 0.554<br>HON_Close: Weight=0.313<br>GIS_Close: Weight=0.687<br>GS_Close: Weight=0.000",
          "Return: 20.953%<br>Volatility: 0.454<br>Sharpe Ratio: 0.462<br>BMY_Close: Weight=0.000<br>CAT_Close: Weight=1.000<br>LYFT_Close: Weight=0.000<br>MO_Close: Weight=0.000",
          "Return: 108.305%<br>Volatility: 0.740<br>Sharpe Ratio: 1.463<br>EW_Close: Weight=0.000<br>SNAP_Close: Weight=1.000<br>MO_Close: Weight=0.000<br>DUK_Close: Weight=0.000",
          "Return: 21.279%<br>Volatility: 0.447<br>Sharpe Ratio: 0.476<br>BSX_Close: Weight=0.000<br>BA_Close: Weight=0.000<br>HD_Close: Weight=1.000",
          "Return: 40.432%<br>Volatility: 0.388<br>Sharpe Ratio: 1.041<br>NFLX_Close: Weight=0.765<br>CAT_Close: Weight=0.218<br>KR_Close: Weight=0.016<br>PM_Close: Weight=0.000",
          "Return: 49.278%<br>Volatility: 0.332<br>Sharpe Ratio: 1.485<br>JPM_Close: Weight=0.000<br>ZBH_Close: Weight=0.000<br>AMZN_Close: Weight=0.698<br>DHR_Close: Weight=0.302",
          "Return: 56.708%<br>Volatility: 0.355<br>Sharpe Ratio: 1.597<br>MMM_Close: Weight=0.000<br>EXC_Close: Weight=0.000<br>MS_Close: Weight=0.000<br>RDY_Close: Weight=1.000",
          "Return: 26.030%<br>Volatility: 0.462<br>Sharpe Ratio: 0.563<br>T_Close: Weight=0.000<br>META_Close: Weight=1.000<br>WFC_Close: Weight=0.000<br>VZ_Close: Weight=0.000",
          "Return: 50.101%<br>Volatility: 0.451<br>Sharpe Ratio: 1.110<br>DE_Close: Weight=0.412<br>ISRG_Close: Weight=0.000<br>QCOM_Close: Weight=0.588",
          "Return: 29.257%<br>Volatility: 0.566<br>Sharpe Ratio: 0.517<br>MS_Close: Weight=0.978<br>CVX_Close: Weight=0.000<br>EW_Close: Weight=0.022<br>BMY_Close: Weight=0.000",
          "Return: 33.406%<br>Volatility: 0.441<br>Sharpe Ratio: 0.757<br>EXC_Close: Weight=0.000<br>SAP_Close: Weight=0.000<br>MSFT_Close: Weight=1.000",
          "Return: 12.618%<br>Volatility: 0.524<br>Sharpe Ratio: 0.241<br>BTI_Close: Weight=0.000<br>ZBH_Close: Weight=0.000<br>GS_Close: Weight=1.000",
          "Return: 40.674%<br>Volatility: 0.387<br>Sharpe Ratio: 1.052<br>LLY_Close: Weight=0.280<br>RTX_Close: Weight=0.000<br>NFLX_Close: Weight=0.720<br>CRM_Close: Weight=0.000",
          "Return: 32.393%<br>Volatility: 0.296<br>Sharpe Ratio: 1.094<br>ZBH_Close: Weight=0.000<br>DHR_Close: Weight=0.697<br>NKE_Close: Weight=0.176<br>KR_Close: Weight=0.127",
          "Return: 24.871%<br>Volatility: 0.431<br>Sharpe Ratio: 0.577<br>LMT_Close: Weight=0.000<br>REGN_Close: Weight=1.000<br>UA_Close: Weight=0.000",
          "Return: 63.359%<br>Volatility: 0.607<br>Sharpe Ratio: 1.044<br>T_Close: Weight=0.000<br>AMD_Close: Weight=1.000<br>WFC_Close: Weight=0.000",
          "Return: 9.334%<br>Volatility: 0.377<br>Sharpe Ratio: 0.247<br>GM_Close: Weight=0.290<br>BABA_Close: Weight=0.491<br>MCD_Close: Weight=0.219",
          "Return: 35.814%<br>Volatility: 0.337<br>Sharpe Ratio: 1.064<br>DHR_Close: Weight=1.000<br>GILD_Close: Weight=0.000<br>UNH_Close: Weight=0.000",
          "Return: 30.393%<br>Volatility: 0.490<br>Sharpe Ratio: 0.620<br>RMD_Close: Weight=0.995<br>SO_Close: Weight=0.000<br>MO_Close: Weight=0.000<br>GM_Close: Weight=0.005",
          "Return: 78.950%<br>Volatility: 0.583<br>Sharpe Ratio: 1.354<br>NVDA_Close: Weight=1.000<br>T_Close: Weight=0.000<br>WMT_Close: Weight=0.000<br>BIIB_Close: Weight=0.000",
          "Return: 23.745%<br>Volatility: 0.393<br>Sharpe Ratio: 0.605<br>AMGN_Close: Weight=0.000<br>SAP_Close: Weight=0.000<br>PM_Close: Weight=0.000<br>ABT_Close: Weight=1.000",
          "Return: 50.101%<br>Volatility: 0.451<br>Sharpe Ratio: 1.110<br>QCOM_Close: Weight=0.588<br>DE_Close: Weight=0.412<br>CAT_Close: Weight=0.000<br>MSFT_Close: Weight=0.000",
          "Return: 55.263%<br>Volatility: 0.528<br>Sharpe Ratio: 1.048<br>RTX_Close: Weight=0.000<br>QCOM_Close: Weight=1.000<br>UNH_Close: Weight=0.000<br>KO_Close: Weight=0.000",
          "Return: 34.681%<br>Volatility: 0.361<br>Sharpe Ratio: 0.959<br>MSFT_Close: Weight=0.216<br>V_Close: Weight=0.000<br>TMO_Close: Weight=0.775<br>ISRG_Close: Weight=0.009",
          "Return: 28.590%<br>Volatility: 0.290<br>Sharpe Ratio: 0.986<br>PEP_Close: Weight=0.000<br>KR_Close: Weight=0.000<br>COST_Close: Weight=1.000",
          "Return: 55.143%<br>Volatility: 0.423<br>Sharpe Ratio: 1.304<br>AAPL_Close: Weight=0.700<br>VZ_Close: Weight=0.000<br>NFLX_Close: Weight=0.300<br>PG_Close: Weight=0.000",
          "Return: 28.536%<br>Volatility: 0.289<br>Sharpe Ratio: 0.986<br>COST_Close: Weight=0.994<br>LYFT_Close: Weight=0.001<br>CAT_Close: Weight=0.005",
          "Return: 55.101%<br>Volatility: 0.385<br>Sharpe Ratio: 1.432<br>PFE_Close: Weight=0.000<br>MCD_Close: Weight=0.000<br>AMZN_Close: Weight=1.000",
          "Return: 35.814%<br>Volatility: 0.337<br>Sharpe Ratio: 1.064<br>GOOGL_Close: Weight=0.000<br>TXN_Close: Weight=0.000<br>PEP_Close: Weight=0.000<br>DHR_Close: Weight=1.000",
          "Return: 14.610%<br>Volatility: 0.441<br>Sharpe Ratio: 0.331<br>CPB_Close: Weight=0.000<br>EXC_Close: Weight=0.000<br>EW_Close: Weight=1.000",
          "Return: 55.101%<br>Volatility: 0.385<br>Sharpe Ratio: 1.432<br>EW_Close: Weight=0.000<br>AMZN_Close: Weight=1.000<br>BABA_Close: Weight=0.000<br>JPM_Close: Weight=0.000",
          "Return: 12.534%<br>Volatility: 0.615<br>Sharpe Ratio: 0.204<br>K_Close: Weight=0.000<br>BSX_Close: Weight=0.000<br>GM_Close: Weight=1.000",
          "Return: 43.436%<br>Volatility: 0.467<br>Sharpe Ratio: 0.931<br>UBER_Close: Weight=0.304<br>MCD_Close: Weight=0.000<br>ISRG_Close: Weight=0.090<br>ADBE_Close: Weight=0.606",
          "Return: 33.675%<br>Volatility: 0.416<br>Sharpe Ratio: 0.809<br>CVX_Close: Weight=0.000<br>NKE_Close: Weight=1.000<br>HON_Close: Weight=0.000",
          "Return: 20.167%<br>Volatility: 0.488<br>Sharpe Ratio: 0.413<br>BAC_Close: Weight=0.000<br>DIS_Close: Weight=1.000<br>KO_Close: Weight=0.000",
          "Return: 74.029%<br>Volatility: 0.523<br>Sharpe Ratio: 1.415<br>F_Close: Weight=0.000<br>INTC_Close: Weight=0.000<br>GE_Close: Weight=0.000<br>PYPL_Close: Weight=1.000",
          "Return: 24.871%<br>Volatility: 0.431<br>Sharpe Ratio: 0.577<br>BAC_Close: Weight=0.000<br>REGN_Close: Weight=1.000<br>BSX_Close: Weight=0.000",
          "Return: 12.227%<br>Volatility: 0.289<br>Sharpe Ratio: 0.423<br>KR_Close: Weight=0.830<br>GE_Close: Weight=0.000<br>LYFT_Close: Weight=0.170",
          "Return: 39.865%<br>Volatility: 0.480<br>Sharpe Ratio: 0.831<br>ORCL_Close: Weight=0.000<br>BAC_Close: Weight=0.000<br>ADBE_Close: Weight=1.000",
          "Return: 26.757%<br>Volatility: 0.382<br>Sharpe Ratio: 0.700<br>MO_Close: Weight=0.000<br>LLY_Close: Weight=0.607<br>HD_Close: Weight=0.000<br>CRM_Close: Weight=0.393",
          "Return: 20.346%<br>Volatility: 0.417<br>Sharpe Ratio: 0.488<br>BABA_Close: Weight=0.000<br>HD_Close: Weight=0.731<br>GILD_Close: Weight=0.000<br>HON_Close: Weight=0.269",
          "Return: 108.305%<br>Volatility: 0.740<br>Sharpe Ratio: 1.463<br>SNAP_Close: Weight=1.000<br>BAC_Close: Weight=0.000<br>LMT_Close: Weight=0.000",
          "Return: 108.305%<br>Volatility: 0.740<br>Sharpe Ratio: 1.463<br>SNAP_Close: Weight=1.000<br>PFE_Close: Weight=0.000<br>JNJ_Close: Weight=0.000",
          "Return: 41.058%<br>Volatility: 0.398<br>Sharpe Ratio: 1.031<br>NFLX_Close: Weight=0.808<br>TXN_Close: Weight=0.000<br>HON_Close: Weight=0.192",
          "Return: 24.727%<br>Volatility: 0.407<br>Sharpe Ratio: 0.607<br>GILD_Close: Weight=0.000<br>TXN_Close: Weight=0.722<br>MA_Close: Weight=0.000<br>ACN_Close: Weight=0.278",
          "Return: 72.696%<br>Volatility: 0.512<br>Sharpe Ratio: 1.421<br>UBER_Close: Weight=0.067<br>PYPL_Close: Weight=0.933<br>UNH_Close: Weight=0.000",
          "Return: 24.871%<br>Volatility: 0.431<br>Sharpe Ratio: 0.577<br>BA_Close: Weight=0.000<br>REGN_Close: Weight=1.000<br>KO_Close: Weight=0.000",
          "Return: 13.501%<br>Volatility: 0.325<br>Sharpe Ratio: 0.416<br>PG_Close: Weight=1.000<br>MCD_Close: Weight=0.000<br>CVX_Close: Weight=0.000",
          "Return: 21.647%<br>Volatility: 0.351<br>Sharpe Ratio: 0.616<br>ABBV_Close: Weight=1.000<br>ZBH_Close: Weight=0.000<br>WFC_Close: Weight=0.000",
          "Return: 22.952%<br>Volatility: 0.366<br>Sharpe Ratio: 0.627<br>ABT_Close: Weight=0.778<br>DIS_Close: Weight=0.222<br>GS_Close: Weight=0.000",
          "Return: 58.803%<br>Volatility: 0.468<br>Sharpe Ratio: 1.256<br>JPM_Close: Weight=0.000<br>BABA_Close: Weight=0.000<br>AAPL_Close: Weight=1.000<br>KO_Close: Weight=0.000",
          "Return: 64.279%<br>Volatility: 0.456<br>Sharpe Ratio: 1.410<br>SAP_Close: Weight=0.000<br>SPOT_Close: Weight=0.763<br>RMD_Close: Weight=0.237",
          "Return: 30.052%<br>Volatility: 0.345<br>Sharpe Ratio: 0.871<br>ABBV_Close: Weight=0.194<br>V_Close: Weight=0.000<br>ADBE_Close: Weight=0.552<br>GIS_Close: Weight=0.254",
          "Return: 23.745%<br>Volatility: 0.393<br>Sharpe Ratio: 0.605<br>INTC_Close: Weight=0.000<br>MCD_Close: Weight=0.000<br>ABT_Close: Weight=1.000",
          "Return: 24.236%<br>Volatility: 0.513<br>Sharpe Ratio: 0.473<br>ETN_Close: Weight=1.000<br>IBM_Close: Weight=0.000<br>GS_Close: Weight=0.000",
          "Return: 17.805%<br>Volatility: 0.453<br>Sharpe Ratio: 0.393<br>GM_Close: Weight=0.000<br>MO_Close: Weight=0.000<br>ZBH_Close: Weight=0.000<br>HON_Close: Weight=1.000",
          "Return: 20.170%<br>Volatility: 0.306<br>Sharpe Ratio: 0.660<br>GIS_Close: Weight=0.536<br>META_Close: Weight=0.464<br>ZBH_Close: Weight=0.000<br>CPB_Close: Weight=0.000",
          "Return: 42.745%<br>Volatility: 0.459<br>Sharpe Ratio: 0.932<br>TXN_Close: Weight=0.000<br>CAT_Close: Weight=0.000<br>DE_Close: Weight=1.000",
          "Return: 42.745%<br>Volatility: 0.459<br>Sharpe Ratio: 0.932<br>DE_Close: Weight=1.000<br>ZBH_Close: Weight=0.000<br>CAT_Close: Weight=0.000",
          "Return: 49.280%<br>Volatility: 0.332<br>Sharpe Ratio: 1.485<br>AMZN_Close: Weight=0.698<br>ETN_Close: Weight=0.000<br>DHR_Close: Weight=0.302<br>EXC_Close: Weight=0.000",
          "Return: 20.983%<br>Volatility: 0.313<br>Sharpe Ratio: 0.671<br>XOM_Close: Weight=0.000<br>PFE_Close: Weight=0.000<br>WMT_Close: Weight=1.000<br>MRK_Close: Weight=0.000"
         ],
         "type": "scatter",
         "x": [
          0.4072534134672001,
          0.4468009759164154,
          0.5726405081588655,
          0.4509803803316867,
          0.42887411981267104,
          0.3852774182917469,
          0.4302418087225544,
          0.5275152001240041,
          0.3814913986690007,
          0.5221623760317073,
          0.2899051433797316,
          0.3187562297445536,
          0.3056831549117562,
          0.40207950449533225,
          0.37881975932747636,
          0.3736595550992629,
          0.41608460952631254,
          0.5831771372072517,
          0.5003377849884834,
          0.7402316491216471,
          0.38149139866900084,
          0.3029691680425887,
          0.3847338211723583,
          0.45292006616247754,
          0.40564058869697456,
          0.4413350998143081,
          0.34561381296818344,
          0.5235468805085618,
          0.26965131139085297,
          0.38149139866900084,
          0.3505263799637213,
          0.35873484789447824,
          0.28057908880479143,
          0.2899051433797316,
          0.28675052055649436,
          0.3367481657940577,
          0.44480859899350383,
          0.38691865548830534,
          0.535737791087639,
          0.3515732178550444,
          0.44814519927944463,
          0.38055929942526256,
          0.35371852296522566,
          0.3736595550992629,
          0.29961252322951776,
          0.542405675235578,
          0.3029691680425887,
          0.5275152001240041,
          0.42782974741009505,
          0.3040515600517591,
          0.43169231877878966,
          0.4006770425552892,
          0.29786719688376573,
          0.33102743948830027,
          0.5230005815140739,
          0.5221623760317073,
          0.5479086088508723,
          0.38883302106075296,
          0.606878938023476,
          0.4448121129612807,
          0.4144646694198973,
          0.3048819260237151,
          0.5074840006560514,
          0.4848891144072853,
          0.4006770425552893,
          0.4882028250183861,
          0.41608460952631254,
          0.33004768774529814,
          0.4626073161159896,
          0.4953383258955659,
          0.3211340112967325,
          0.44370192679795556,
          0.5479086088508722,
          0.3736595550992629,
          0.31843305732215627,
          0.4101445153041004,
          0.3736595550992629,
          0.3497389154776608,
          0.41901862617084995,
          0.5100701127042527,
          0.3904417751705359,
          0.4680776729719319,
          0.5275152001240042,
          0.38691865548830534,
          0.31281024455121187,
          0.3314872947049769,
          0.41949741878050834,
          0.3455866964179421,
          0.31281024455121187,
          0.4572973428366884,
          0.3847338211723583,
          0.3381958483117868,
          0.4680776729719319,
          0.5479086088508721,
          0.4641568388677429,
          0.35121482270504983,
          0.37523064300926245,
          0.3869186554883053,
          0.4942516094073318,
          0.389253682193733,
          0.8106833805705663,
          0.38280287242345296,
          0.4586522982893938,
          0.3062343043395312,
          0.4798671889902505,
          0.45865229828937787,
          0.41219990627571185,
          0.37365955509925985,
          0.3559741737980437,
          0.290672935119312,
          0.3847338211723583,
          0.4680776729719319,
          0.36796362591251597,
          0.35509735701612755,
          0.4863553226284561,
          0.47986718899025044,
          0.37574443339340496,
          0.40711638684153434,
          0.4423270790353731,
          0.3128102445512118,
          0.4680776729719319,
          0.41608460952631254,
          0.4686747648014904,
          0.3119435597348726,
          0.33674816579405686,
          0.4115553075741321,
          0.3736595550992631,
          0.35704408661621834,
          0.37426942110533223,
          0.3512148227050494,
          0.583177137207252,
          0.43325808252338754,
          0.2921775513044886,
          0.485914592147611,
          0.3029691680425893,
          0.4014723330312366,
          0.4144646694198968,
          0.3752984765241743,
          0.4147191746841212,
          0.4313599810952142,
          0.8984976357710986,
          0.38227295956174817,
          0.41677794144589314,
          0.40567112991243837,
          0.3029691680425914,
          0.36577282917264015,
          0.47986718899025044,
          0.4554439311730699,
          0.4448054236205139,
          0.583177137207252,
          0.32998253408562,
          0.4684713023626818,
          0.4168496602070009,
          0.41446466941989685,
          0.3551726078549882,
          0.36688975280453273,
          0.33278041330476976,
          0.4942516094073318,
          0.41677794144589314,
          0.3736595550992629,
          0.3128102445512119,
          0.416084609526313,
          0.3656192858919301,
          0.4992223900904035,
          0.40289084264276326,
          0.45865229828937826,
          0.523000581514074,
          0.484889114407285,
          0.3551726078549882,
          0.3654467255983247,
          0.2899051433797317,
          0.4749928447226881,
          0.46812741112946477,
          0.523000581514074,
          0.4085194391862873,
          0.41677794144589314,
          0.4006770425552893,
          0.4626073161159895,
          0.32454829495157983,
          0.458652298289378,
          0.4626073161159895,
          0.35873484789447824,
          0.3128102445512118,
          0.4111811214616512,
          0.4313599810952142,
          0.3367481657940577,
          0.3986202520478237,
          0.38141728513346645,
          0.6183702702904581,
          0.2899051433797316,
          0.44087033092044714,
          0.4680776729719319,
          0.3386777198436632,
          0.4160846095263128,
          0.38949942276303473,
          0.47998038417030325,
          0.41608460952631254,
          0.46260731611598954,
          0.32785165960173956,
          0.3778964115318655,
          0.4408703309204473,
          0.3551726078549882,
          0.5275152001240042,
          0.5439949444921873,
          0.47986718899025044,
          0.523000581514074,
          0.4079681633755733,
          0.38312180137078294,
          0.45349058254209107,
          0.41677794144589325,
          0.4413350998143083,
          0.4799440844917481,
          0.4798671889902505,
          0.7278858825157355,
          0.5726405081588654,
          0.41677794144589314,
          0.583177137207252,
          0.28656912198242057,
          0.4006770425552894,
          0.5530277224033999,
          0.44905654593233274,
          0.3847338211723583,
          0.4443069920911517,
          0.5275152001240042,
          0.44087033092044753,
          0.4006770425552894,
          0.3410399703117697,
          0.32454829495157983,
          0.427829747410095,
          0.41677794144589414,
          0.4480133840377096,
          0.4680776729719319,
          0.898497635771099,
          0.4413350998143083,
          0.6636127167206731,
          0.3840410491643717,
          0.5479086088508723,
          0.5906987958069096,
          0.43135998109521423,
          0.3029691680425893,
          0.4038847352584081,
          0.4808477664076018,
          0.4316923187787897,
          0.36350260613479896,
          0.2932176234446919,
          0.4680776729719319,
          0.4194974187805078,
          0.3847338211723583,
          0.48803038928694303,
          0.898497635771099,
          0.4078632255736858,
          0.4468009759164154,
          0.3367481657940578,
          0.458652298289378,
          0.4959537064881922,
          0.5258741922008096,
          0.5275152001240042,
          0.38473382117235827,
          0.3195040895577794,
          0.3847338211723583,
          0.36082753342383966,
          0.6630679439917452,
          0.5275152001240042,
          0.40365741451623033,
          0.3512148227050498,
          0.5479086088508722,
          0.30591242633951626,
          0.4680776729719318,
          0.458652298289378,
          0.3587348478944782,
          0.41272753418313063,
          0.4160846095263126,
          0.40147233303123264,
          0.3367481657940577,
          0.7023291941765872,
          0.4039928370648018,
          0.46329158470087206,
          0.3847338211723583,
          0.5537209024836703,
          0.3766617312258076,
          0.4798671889902505,
          0.2899051433797316,
          0.4501280319886271,
          0.3847338211723581,
          0.523000581514074,
          0.40592862136885643,
          0.3348193437887994,
          0.37529847652417453,
          0.37981299128263635,
          0.4882028250183866,
          0.3679636259125163,
          0.3969852535373701,
          0.4079997298016124,
          0.4680776729719319,
          0.3641810587393782,
          0.3367481657940577,
          0.898497635771099,
          0.583177137207252,
          0.37481197126146093,
          0.43808881919643383,
          0.39857878579142136,
          0.49836866079712133,
          0.898497635771099,
          0.3310178737116641,
          0.45729734283668855,
          0.2877217267663894,
          0.38696251529919534,
          0.41677794144589314,
          0.4194974187805078,
          0.5275152001240042,
          0.898497635771099,
          0.38141728513346657,
          0.4468009759164154,
          0.4680776729719319,
          0.336748165794058,
          0.7182413661013933,
          0.41608460952631254,
          0.36328947316714394,
          0.3932802996527446,
          0.3752984765241743,
          0.41608460952631254,
          0.4680776729719319,
          0.458652298289378,
          0.4626073161159895,
          0.5970760643165981,
          0.5479086088508721,
          0.4680776729719319,
          0.4569266959499271,
          0.7402316491216471,
          0.45692669594992696,
          0.2899051433797316,
          0.28990514337973144,
          0.4882028250183865,
          0.3656147957368342,
          0.6154260392412974,
          0.29548034745927615,
          0.2897430181030188,
          0.4194974187805078,
          0.5230005815140739,
          0.379445884004928,
          0.8984976357710979,
          0.41677794144589325,
          0.3650207384925256,
          0.47760222022700244,
          0.2859589646729328,
          0.5221623760317073,
          0.28680004547295807,
          0.28823565973824283,
          0.6259337311556675,
          0.42782974741009494,
          0.45865229828937804,
          0.3852774182917469,
          0.4539224303295117,
          0.3250408767155532,
          0.47986718899025044,
          0.3551726078549882,
          0.45692669594992696,
          0.42151852573529763,
          0.40850406117346183,
          0.37442894603331833,
          0.3510472443221552,
          0.3367481657940577,
          0.6649309874361975,
          0.4620521877568762,
          0.39714918295078583,
          0.5656569719665541,
          0.44408386677004796,
          0.3506286205560141,
          0.38149139866900095,
          0.3657175286346056,
          0.3852774182917469,
          0.3736595550992629,
          0.49922239009040337,
          0.4162140799053097,
          0.5472444920692258,
          0.4992223900904021,
          0.3840567686537411,
          0.4014723330312365,
          0.37529847652417414,
          0.495289565114361,
          0.7402316491216471,
          0.5275152001240042,
          0.7248872345104023,
          0.2899051433797316,
          0.2879975378067114,
          0.8399886168951474,
          0.4942516094073318,
          0.49200479806941533,
          0.3814272536138968,
          0.4942516094073318,
          0.38097686641825934,
          0.3625450002998671,
          0.38691865548831184,
          0.4620521877568762,
          0.4468009759164154,
          0.4620521877568762,
          0.30009377417582267,
          0.38049491641419986,
          0.5472444920692258,
          0.30560446108992356,
          0.41608460952631254,
          0.5146076722959265,
          0.5126583073304272,
          0.46807767297193187,
          0.3294705556375111,
          0.39155621687769193,
          0.2795251261658009,
          0.8896991951379014,
          0.43726201079883326,
          0.35121482270504956,
          0.606878938023476,
          0.5479086088508722,
          0.43169231877879005,
          0.3736595550992629,
          0.41949741878050745,
          0.3338364558411843,
          0.5040983212906108,
          0.443860240270906,
          0.44722477883615225,
          0.3598560681472409,
          0.468077672971932,
          0.3530932052352731,
          0.5589964717802651,
          0.3512148227050496,
          0.35263407019974824,
          0.3658413104311471,
          0.5053568006825149,
          0.36954802253224994,
          0.5099588176868601,
          0.38150023414161544,
          0.3995486974195313,
          0.37365955509926174,
          0.3590318234581234,
          0.30296916804258867,
          0.3515732581906215,
          0.7278858825157353,
          0.4160846095263125,
          0.4942516094073318,
          0.5074767107198305,
          0.5393900949019074,
          0.46205218775687634,
          0.3736595550992629,
          0.364196983414477,
          0.2898692005020768,
          0.28776589240666955,
          0.3092698012263403,
          0.33468909588790424,
          0.45692669594992696,
          0.37365955509926296,
          0.31042508432434257,
          0.3512148227050489,
          0.6154260392412971,
          0.45349058254209107,
          0.3447052258579657,
          0.39259895374791676,
          0.37295231289321334,
          0.37365955509926285,
          0.4949896268114507,
          0.3854147747546452,
          0.47986718899025044,
          0.5229673274839531,
          0.2853614179459344,
          0.5275152001240042,
          0.5221623760317073,
          0.3226523498209456,
          0.41974796950965454,
          0.4942516094073318,
          0.4334767786557425,
          0.4251623180500933,
          0.2899051433797316,
          0.4306642973800737,
          0.6154260392412972,
          0.28996012496307866,
          0.3551726078549882,
          0.41621407990530984,
          0.30433425478428494,
          0.37080738565012455,
          0.33360243859523403,
          0.2853047805991575,
          0.41219990627570985,
          0.4162140799053096,
          0.5014884827871499,
          0.3367481657940574,
          0.3736595550992629,
          0.7402316491216471,
          0.46260731611598954,
          0.30595356428531345,
          0.28990514337973156,
          0.3040515138081135,
          0.38149139866900084,
          0.4626073161159896,
          0.4920047980694139,
          0.5230005815140739,
          0.3512148227050495,
          0.3925989537479167,
          0.2899051433797316,
          0.3779114849084872,
          0.39714918295078583,
          0.45865229828937804,
          0.468077672971932,
          0.367963625912516,
          0.5589964717802651,
          0.4162140799053098,
          0.4217940368727799,
          0.3004343777156227,
          0.5275152001240042,
          0.38473382117235827,
          0.4967982858905603,
          0.4626073161159896,
          0.5275152001240042,
          0.34703726939916085,
          0.33975945001661606,
          0.36796362591251575,
          0.39322474443112965,
          0.35121482270504945,
          0.3310046443134272,
          0.36174684053260436,
          0.3861281097350678,
          0.523000581514074,
          0.5909800674681585,
          0.41121542309990217,
          0.33956051042586627,
          0.41998566621890493,
          0.523000581514074,
          0.3564118914851161,
          0.8984976357710983,
          0.4798671889902505,
          0.33416218036045015,
          0.5680805260521286,
          0.5228591745239802,
          0.41896479590202707,
          0.44289980881489144,
          0.3755574186059444,
          0.6180398883720116,
          0.28800200500415774,
          0.44022272191122047,
          0.42782974741009555,
          0.4798671889902505,
          0.31364100251627286,
          0.4470006173521288,
          0.7206843664143495,
          0.5221623760317073,
          0.45392243032951174,
          0.5479086088508718,
          0.3852774182917469,
          0.39714918295078583,
          0.40822913077450773,
          0.7278858825157353,
          0.5962172361827055,
          0.31843305732208643,
          0.39049330870155247,
          0.327931645340661,
          0.45392243032951174,
          0.4992223900904037,
          0.606878938023476,
          0.3551726078549882,
          0.4680776729719319,
          0.3702281435227909,
          0.583177137207252,
          0.3056838379207166,
          0.46514864282179064,
          0.43793309659936636,
          0.4160846095263127,
          0.8984976357710952,
          0.41677794144589453,
          0.347241354522461,
          0.5104529627989731,
          0.378432095243877,
          0.6068789380234759,
          0.456926695949927,
          0.5915453533059187,
          0.583177137207252,
          0.34461870810492445,
          0.5726405081588652,
          0.3181401015499996,
          0.4162140799053096,
          0.5230005815140739,
          0.46205218775687623,
          0.2879608477187777,
          0.5230005815140739,
          0.5126583073304299,
          0.39691840190084615,
          0.583177137207252,
          0.718581110024408,
          0.4161197661618677,
          0.468077672971932,
          0.6068789380234759,
          0.47967776597272815,
          0.3703212347998941,
          0.4620521877568762,
          0.34558002791736203,
          0.5726405081588656,
          0.36144162288713444,
          0.30296916804258867,
          0.3950775888969857,
          0.5656542394425939,
          0.35502517604167116,
          0.35039413887829063,
          0.4882028250183866,
          0.32673944079933415,
          0.41677794144589314,
          0.4739331840592277,
          0.3192635530401736,
          0.33674816579405775,
          0.4194974187805079,
          0.583177137207252,
          0.32454829495157983,
          0.523000581514074,
          0.3551726078549882,
          0.4726264526135019,
          0.32045631329800767,
          0.37313977349535493,
          0.4798671889902505,
          0.2899051433797244,
          0.48803038928694303,
          0.4593844230505199,
          0.5221623760317073,
          0.30296916804258867,
          0.45392243032951185,
          0.41608460952631254,
          0.4798671889902505,
          0.4448005083715386,
          0.41677794144589314,
          0.49200479806941383,
          0.3210006902759507,
          0.36796362591251586,
          0.37509197725355753,
          0.5235468805085618,
          0.4413350998143082,
          0.583177137207252,
          0.45235457930433226,
          0.42898281237829095,
          0.46580284463840615,
          0.5306086737467793,
          0.3847338211723583,
          0.34425215763152484,
          0.606878938023476,
          0.8984976357710983,
          0.5124877937642008,
          0.3847338211723583,
          0.4726264526135019,
          0.523000581514074,
          0.4942516094073317,
          0.4680776729719319,
          0.4533674105118965,
          0.41220977081587784,
          0.3670599298728953,
          0.3853641609605954,
          0.5479086088508723,
          0.4094228255992171,
          0.2919908257128556,
          0.4147191746841213,
          0.35121482270504967,
          0.4501753171606027,
          0.5484014267223131,
          0.5221623760317077,
          0.4006770425552893,
          0.29495393703792006,
          0.5126583073304272,
          0.4413350998143082,
          0.6068789380234759,
          0.28990514337973156,
          0.4752987562056116,
          0.3327802057066032,
          0.4190628231428169,
          0.41677794144589314,
          0.41608460952631254,
          0.3419652712586302,
          0.3274827672968605,
          0.45915395334350273,
          0.4006770425552894,
          0.3869620742002782,
          0.3178688841648872,
          0.3847338211723584,
          0.4920047980694139,
          0.33631788197984364,
          0.42742323286102213,
          0.5472444920692258,
          0.3601619181383159,
          0.38691865548830684,
          0.45692669594992696,
          0.45392243032951185,
          0.5221623760317073,
          0.48803038928694303,
          0.41949741878050784,
          0.2973710446074984,
          0.28816043141113346,
          0.5275152001240037,
          0.3814913986690013,
          0.898497635771099,
          0.3830322225256991,
          0.5726405081588654,
          0.41276949238375893,
          0.625524951023871,
          0.4420094026613655,
          0.3781057700384777,
          0.385342978865541,
          0.29228515405701616,
          0.4726264526135019,
          0.427829747410095,
          0.3178329560248221,
          0.29548449242686,
          0.3551726078549883,
          0.523000581514074,
          0.3367481657940578,
          0.45692669594992696,
          0.385277418291747,
          0.41226976716629615,
          0.4006770425552893,
          0.45349058254209135,
          0.46260731611598954,
          0.3367481657940578,
          0.6154260392412974,
          0.4162140799053096,
          0.49200479806941383,
          0.4145235289050273,
          0.3551726078549882,
          0.3044510894781686,
          0.3736595550992629,
          0.5258683953128622,
          0.38473382117235794,
          0.596209799200311,
          0.45692669594992696,
          0.41677794144589314,
          0.40426378318040246,
          0.3088603046080191,
          0.4468009759164154,
          0.583177137207252,
          0.3658147193864244,
          0.2899051433797316,
          0.41755014305789595,
          0.898497635771099,
          0.29022971917843265,
          0.47986718899025044,
          0.3847338211723583,
          0.5962077780929151,
          0.4316923187787892,
          0.35084389406641103,
          0.36655293912312126,
          0.44362780457161144,
          0.4006770425552893,
          0.36293903649762355,
          0.43169231877879155,
          0.4620521877568762,
          0.4949373836336374,
          0.5967482297732989,
          0.523000581514074,
          0.5479086088508722,
          0.43301412684946,
          0.49922239009040353,
          0.4313599810952142,
          0.35517260785498816,
          0.5175532484189395,
          0.30953901355973473,
          0.4897556261320198,
          0.42720334196219634,
          0.4198543685091427,
          0.3092698012263404,
          0.4014723330312366,
          0.5726405081588654,
          0.5671874985843802,
          0.3840623237660749,
          0.583177137207252,
          0.5028209588842663,
          0.49200479806941383,
          0.33155942745412936,
          0.4524331281897644,
          0.37365955509926285,
          0.583177137207252,
          0.27548594505359986,
          0.2891298529260665,
          0.3988012832526015,
          0.4350856631252458,
          0.44097398303978813,
          0.4680776729719319,
          0.31281024455121187,
          0.38473382117235827,
          0.7402316491216471,
          0.4538496478996847,
          0.5235468805085611,
          0.4848891144072853,
          0.4557887962544609,
          0.3279535311127062,
          0.46593271977283224,
          0.3976343433479201,
          0.5479086088508723,
          0.42397945269801635,
          0.3703793203528098,
          0.4240855430118537,
          0.34888530044286786,
          0.7402316491216471,
          0.40750705505306595,
          0.4413350998143082,
          0.31841371505749305,
          0.3116600810752851,
          0.4509655518507503,
          0.41608460952631254,
          0.41727893855242393,
          0.38141728513346657,
          0.4006770425552893,
          0.5634627126519561,
          0.3831218687094184,
          0.36522524031691866,
          0.35503126570011967,
          0.3852774182917469,
          0.43293595019158476,
          0.37819150591204864,
          0.5275152001240042,
          0.39714918295078727,
          0.453490582542091,
          0.35010525186047137,
          0.4006770425552894,
          0.898497635771099,
          0.39259895374791687,
          0.5966508489088489,
          0.37365955509926285,
          0.898497635771099,
          0.36796362591251586,
          0.4167779414458935,
          0.3869186554883053,
          0.30567963047825814,
          0.4680776729719319,
          0.3814913986690007,
          0.3411975643801016,
          0.3374587224724104,
          0.4783297137001518,
          0.33765997749322474,
          0.32454829495157983,
          0.35873484789447824,
          0.3808759924754431,
          0.4162140799053097,
          0.5117333315210297,
          0.3689949341845479,
          0.352665726614477,
          0.3749527333459598,
          0.42782974741009516,
          0.45692669594992696,
          0.4586522982893781,
          0.4680776729719319,
          0.39106945874242904,
          0.35053334015263904,
          0.523000581514074,
          0.5350832090023516,
          0.42782974741009516,
          0.7282469034494369,
          0.5221623760317072,
          0.740231649121647,
          0.4122706868550047,
          0.30193782185850926,
          0.36686091276898997,
          0.4351383780847333,
          0.41328349683587023,
          0.4798671889902505,
          0.4433582641317898,
          0.5126583073304272,
          0.37168289959020184,
          0.31281024455121187,
          0.3367481657940582,
          0.3092698012263404,
          0.37130702894712897,
          0.4534905825420914,
          0.3551726078549882,
          0.5275152001240042,
          0.3987867304572141,
          0.4569266959499269,
          0.5660121499406859,
          0.5230005815140739,
          0.5726405081588678,
          0.4014723330312366,
          0.3736595550992629,
          0.3128102445512134,
          0.3332199948716818,
          0.4586522982893783,
          0.740231649121647,
          0.3072784532100831,
          0.4920047980694138,
          0.3092698012263403,
          0.35026258702068314,
          0.46807767297193187,
          0.2850188432020587,
          0.36769151327840804,
          0.38473382117235827,
          0.4920047980694139,
          0.3869186554883053,
          0.47834437157708853,
          0.3300339782798598,
          0.31281024455121187,
          0.3801578331176599,
          0.38691865548830534,
          0.42782974741009483,
          0.8984976357710959,
          0.4285721957533757,
          0.3852774182917469,
          0.4920047980694138,
          0.3094322144718631,
          0.4160846095263124,
          0.24513762563650257,
          0.583177137207252,
          0.38198307034953244,
          0.47298827531420656,
          0.3814172851334669,
          0.379820043064907,
          0.8577162479894297,
          0.5126583073304273,
          0.5129519471947788,
          0.48803038928694314,
          0.31281024455121176,
          0.5275152001240042,
          0.4413350998143082,
          0.3717900931131426,
          0.4680776729719319,
          0.36776666104076366,
          0.567196806676157,
          0.7278858825157353,
          0.28990514337973167,
          0.4882028250183866,
          0.39696536887849726,
          0.4413350998143082,
          0.7258375188856643,
          0.355172607854988,
          0.46205218775687623,
          0.5221623760317071,
          0.3551726078549884,
          0.3925989537479167,
          0.43169231877878883,
          0.4160846095263125,
          0.4408703309204471,
          0.41608460952631254,
          0.4194974187805078,
          0.30622433030447055,
          0.7262215973442787,
          0.3925989537479167,
          0.29414949731866935,
          0.3210733174934201,
          0.28771734997893866,
          0.3503640240855354,
          0.3797136622271679,
          0.3847338211723584,
          0.46736764226038563,
          0.28770966081093086,
          0.45392243032951174,
          0.7402316491216471,
          0.4468009759164154,
          0.38849910021842,
          0.33182046022260586,
          0.3551726078549883,
          0.4620521877568758,
          0.4511554464261355,
          0.5660688448728752,
          0.44133509981430813,
          0.5235468805085617,
          0.3867620518943408,
          0.2961267157113763,
          0.4313599810952142,
          0.606878938023476,
          0.377224933038808,
          0.3367481657940576,
          0.49042565104557173,
          0.583177137207252,
          0.39259895374791676,
          0.4511599405789223,
          0.5275152001240043,
          0.36146179503667797,
          0.28990514337973156,
          0.42280269297786865,
          0.2893410454770379,
          0.38473382117235827,
          0.3367481657940578,
          0.44087033092044714,
          0.38473382117235827,
          0.6154260392412972,
          0.46661544381974135,
          0.4160846095263134,
          0.48803038928694326,
          0.523000581514074,
          0.4313599810952142,
          0.28898262247898165,
          0.4798671889902504,
          0.38241577935450477,
          0.4167333300029534,
          0.740231649121647,
          0.7402316491216471,
          0.39808024425215077,
          0.40732270769519335,
          0.5117146456167786,
          0.4313599810952126,
          0.3245482949515814,
          0.3512148227050513,
          0.36577677687834065,
          0.4680776729719319,
          0.45585015170193843,
          0.3449401919183207,
          0.3925989537479167,
          0.5126583073304272,
          0.4534905825420909,
          0.3056282526797463,
          0.458652298289378,
          0.45865229828937804,
          0.3318361019982749,
          0.31281024455121215
         ],
         "y": [
          0.2811528464590848,
          0.21279307375917733,
          0.29594223651893814,
          0.6749559863313623,
          0.19957529337016638,
          0.24167907898543486,
          0.5565885364592876,
          0.5526294068416135,
          0.14382583033010496,
          0.2876852334881771,
          0.2859002102973608,
          0.208539950908322,
          0.2103610783514932,
          0.24486720727109124,
          0.21024362785150785,
          0.350745653473924,
          0.33675425306287243,
          0.7894958235740009,
          0.5267450371287449,
          1.0830478017374823,
          0.14382583033010526,
          0.0939711188626862,
          0.5510059339820083,
          0.25319286170282806,
          0.2565469428285522,
          0.3340568229866235,
          0.172858787728216,
          0.12617618814473067,
          0.14812779841570575,
          0.14382583033010526,
          0.2102380270566589,
          0.029468374690885916,
          0.11501061961927689,
          0.2859002102973608,
          0.3255317353577846,
          0.35814414161031455,
          0.6242385003638641,
          0.23882872117984466,
          1.3164903397681549,
          0.5654918866938128,
          0.451773395249131,
          0.4034213986643749,
          0.24242516037108577,
          0.35074565347392384,
          0.18357422910434157,
          0.5742172291465147,
          0.09397111886268654,
          0.5526294068416135,
          0.13993536027100403,
          0.5602855017220798,
          0.25770991457096337,
          0.19527111477096368,
          0.0006638916126782416,
          0.3564941684382079,
          0.7402852764708266,
          0.28768523348817715,
          0.7478781109776836,
          0.23290634846603028,
          0.6335910496711948,
          0.6242434312845477,
          0.032926512472399756,
          0.20476825593550207,
          0.5394393100305825,
          0.18209703271213876,
          0.1952711147709639,
          0.16467712317500993,
          0.3367542530628723,
          0.2171955270952444,
          0.46594933794078003,
          0.7016927570570556,
          0.11767321407210689,
          0.184752927360043,
          0.7478781109776835,
          0.35074565347392395,
          -0.05955592429566152,
          0.13186581772523337,
          0.350745653473924,
          0.023689963827042634,
          0.5993129931934644,
          0.709167565890408,
          0.45074406199944694,
          0.5880264891927275,
          0.5526294068416137,
          0.23882872117984466,
          0.20983158390136114,
          0.21107009993604436,
          0.2545263081465814,
          0.1728452323389566,
          0.20983158390136114,
          0.009957776525110974,
          0.5510059339820081,
          0.27096045898647836,
          0.5880264891927277,
          0.7478781109776833,
          -0.0319410424951571,
          0.2164717886606898,
          0.3114062326400518,
          0.23882872117984466,
          0.15287409267666774,
          0.41799510932548267,
          1.8951461956158835,
          0.16123666464492417,
          0.4274503839144884,
          0.20724807146270222,
          0.3986494476224113,
          0.4274503839145139,
          -0.034382862935375326,
          0.3507456534739151,
          0.2507713011983785,
          0.1476824420270989,
          0.5510059339820083,
          0.5880264891927277,
          0.11037161895364506,
          0.23413640502324062,
          0.7656284572389465,
          0.39864944762241117,
          0.22450496727061717,
          0.27877096883196506,
          0.3764729557382258,
          0.20983158390136106,
          0.5880264891927276,
          0.33675425306287243,
          0.2637114455107273,
          0.20926313881865963,
          0.35814414161030894,
          0.3144820849570406,
          0.3507456534739241,
          0.3383057668358791,
          0.07368031510826004,
          0.21647178866069,
          0.7894958235740014,
          0.20037331322153645,
          0.484752251584105,
          0.510566311712569,
          0.09397111886267934,
          0.07719835281645306,
          0.03292651247240003,
          0.0033023772658956037,
          0.08165041063578318,
          0.24870870544283644,
          2.0969647925346453,
          0.714698460893179,
          0.26242357023740426,
          0.25656630014216353,
          0.09397111886268687,
          0.22951664351934475,
          0.3986494476224112,
          0.6328985360016675,
          0.6242340445011302,
          0.7894958235740014,
          0.2171526295967069,
          0.263596795616618,
          0.2529700208263931,
          0.03292651247240003,
          0.5670804754666484,
          0.4310455329702251,
          0.5732368844754707,
          0.15287409267666774,
          0.26242357023740415,
          0.350745653473924,
          0.20983158390136117,
          0.3367542530628721,
          0.34585863897971264,
          0.028090766542433816,
          0.24561476465602336,
          0.42745038391451345,
          0.7402852764708268,
          0.18209703271213754,
          0.5670804754666484,
          0.11272221772761809,
          0.28590021029736085,
          0.6897166600706601,
          0.39024749782379164,
          0.7402852764708268,
          0.2458763708388435,
          0.26242357023740426,
          0.19527111477096387,
          0.4659493379407799,
          0.1350073510217611,
          0.427450383914514,
          0.4659493379407799,
          0.029468374690885916,
          0.20983158390136103,
          0.1677080356899009,
          0.24870870544283638,
          0.35814414161031455,
          0.33613950492342637,
          -0.02820333391738884,
          0.4724644942025787,
          0.28590021029736085,
          0.1461034814846819,
          0.5880264891927277,
          0.30342615003569845,
          0.33675425306287216,
          0.19095087797901175,
          0.4458930111038486,
          0.3367542530628724,
          0.4659493379407799,
          0.14162200603203162,
          0.5512757480806701,
          0.14610348148468172,
          0.5670804754666484,
          0.5526294068416137,
          -0.08286614113004126,
          0.3986494476224112,
          0.7402852764708265,
          0.21747894491559716,
          0.5488346078345905,
          0.17805114424715718,
          0.26242357023740415,
          0.3340568229866232,
          0.4458593362672922,
          0.3986494476224112,
          0.5416027864895874,
          0.2959422365189381,
          0.26242357023740426,
          0.7894958235740014,
          0.2835459701856487,
          0.1952711147709639,
          0.579445552520392,
          0.5807254386585614,
          0.5510059339820083,
          0.2797962230513393,
          0.5526294068416137,
          0.1461034814846818,
          0.19527111477096393,
          0.40630053597433385,
          0.13500735102176126,
          0.13993536027100417,
          0.2624235702374041,
          0.45164041758385604,
          0.5880264891927276,
          2.096964792534647,
          0.3340568229866237,
          0.9743435182446267,
          0.4017863378167321,
          0.7478781109776836,
          0.8746037625247791,
          0.2487087054428364,
          0.09397111886268551,
          0.267815371519273,
          0.2594946022465302,
          0.25770991457096337,
          0.5221851116079804,
          0.1733475996328306,
          0.5880264891927276,
          0.2545263081465827,
          0.5510059339820083,
          0.20167341469892838,
          2.096964792534647,
          0.25946183144674384,
          0.21279307375917733,
          0.3581441416103146,
          0.42745038391451395,
          0.6811525753700174,
          0.7184808170784694,
          0.5526294068416137,
          0.5510059339820081,
          0.11708724097747011,
          0.5510059339820083,
          -0.05213161354577695,
          0.9735438965827848,
          0.5526294068416137,
          0.051227768728232176,
          0.21647178866069025,
          0.7478781109776833,
          0.20768584384952388,
          0.5880264891927276,
          0.42745038391451395,
          0.0294683746908859,
          0.6298562136528069,
          0.3367542530628725,
          0.07719835281645138,
          0.35814414161031455,
          -0.11835732274788797,
          0.32744820504453914,
          0.49350050226369574,
          0.5510059339820083,
          0.6093590075080414,
          0.5398373910183211,
          0.3986494476224112,
          0.28590021029736085,
          0.1768396096393225,
          0.5510059339820074,
          0.7402852764708268,
          0.28595885756052086,
          0.21470075541061454,
          0.0033023772658955252,
          0.2417885582426771,
          0.16467712317501185,
          0.11037161895364479,
          0.21464369268197095,
          0.21749585109389247,
          0.5880264891927277,
          0.3425179736668226,
          0.3581441416103145,
          2.096964792534647,
          0.7894958235740014,
          0.6268759009434521,
          0.166010683200474,
          0.33610450448143486,
          0.800272163735773,
          2.096964792534647,
          0.3564840045434416,
          0.009957776525111109,
          0.2842971962991635,
          0.33564881495698107,
          0.26242357023740426,
          0.25452630814658267,
          0.5526294068416137,
          2.096964792534647,
          -0.028203333917388895,
          0.21279307375917733,
          0.5880264891927277,
          0.3581441416103147,
          0.5344609844030553,
          0.33675425306287243,
          0.5218788013090034,
          0.2518014284071298,
          0.0033023772658956024,
          0.33675425306287243,
          0.5880264891927276,
          0.427450383914514,
          0.4659493379407799,
          0.8835976284734343,
          0.7478781109776832,
          0.5880264891927277,
          0.3124434377845258,
          1.0830478017374823,
          0.3124434377845257,
          0.28590021029736085,
          0.285900210297353,
          0.16467712317501182,
          0.34585439658415046,
          0.1253395921382164,
          0.2082368005974011,
          0.2859441843139147,
          0.2545263081465827,
          0.7402852764708266,
          0.2870514289482497,
          2.096964792534644,
          0.2624235702374043,
          0.36655144474196066,
          0.6834394906725533,
          0.14983090528386367,
          0.28768523348817715,
          0.32558804599884805,
          0.28490861177872495,
          0.46821050092066807,
          0.1399353602710042,
          0.427450383914514,
          0.24167907898543486,
          0.20952760419295402,
          0.20941672544768744,
          0.3986494476224112,
          0.5670804754666484,
          0.3124434377845259,
          0.24673773593420234,
          0.2167726518885857,
          0.23184200121561427,
          0.5747439263018683,
          0.35814414161031455,
          0.9763963659601469,
          0.2602975704339868,
          0.019191751776800436,
          0.9342711036820837,
          0.2796555220768444,
          0.22603616391587944,
          0.14382583033010524,
          0.13003729000253167,
          0.24167907898543484,
          0.350745653473924,
          0.02809076654243375,
          0.22015293842960526,
          0.060080658955880537,
          0.028090766542433726,
          0.4018027804377491,
          0.07719835281645296,
          0.00330237726589548,
          0.7016237240679472,
          1.0830478017374823,
          0.5526294068416137,
          1.7001090168366924,
          0.2859002102973608,
          0.2847226700033931,
          1.963951673099427,
          0.1528740926766677,
          0.3049003169506103,
          0.2687643020370275,
          0.1528740926766676,
          0.23945595351662208,
          0.41519789435498106,
          0.23882872117983853,
          0.26029757043398677,
          0.21279307375917733,
          0.2602975704339868,
          0.30381603906462495,
          0.5610819956825084,
          0.06008065895588055,
          0.20168562335058007,
          0.3367542530628724,
          0.7831367417614556,
          0.24236105046888737,
          0.5880264891927276,
          0.5280024007826606,
          0.32139958298132426,
          0.16812939810268934,
          2.0764435829620638,
          0.3574478509247532,
          0.21647178866069036,
          0.6335910496711948,
          0.7478781109776835,
          0.25770991457096293,
          0.350745653473924,
          0.2545263081465821,
          0.22593081681068267,
          0.7225732151544375,
          0.21369398452263838,
          0.30615684557308137,
          0.17958538963766774,
          0.5880264891927277,
          0.5145473384340011,
          -0.0446015214225276,
          0.21647178866069036,
          0.5763646178562816,
          0.34536575997712615,
          0.41560665644512973,
          0.14889120116833665,
          0.7090126788047786,
          0.1972775921921221,
          0.15996907888776904,
          0.3507456534739199,
          0.4107610381455441,
          0.09397111886268657,
          0.5654919509673891,
          0.5416027864895874,
          0.3367542530628724,
          0.15287409267666774,
          0.8525714028212171,
          0.28024474593225396,
          0.2602975704339865,
          0.350745653473924,
          0.34253295584158167,
          0.2858651725750132,
          0.15953042615714863,
          0.15105294660871413,
          0.1162874462701099,
          0.3124434377845259,
          0.3507456534739241,
          0.3336011159530784,
          0.21647178866068054,
          0.12533959213821433,
          0.1780511442471571,
          0.3282084561379844,
          0.2374489645285253,
          0.22667993684730584,
          0.3507456534739239,
          0.7011990022950535,
          0.2379226672331591,
          0.3986494476224112,
          0.7145446435844063,
          0.2998610565504339,
          0.5526294068416137,
          0.2876852334881771,
          0.019373799843947725,
          0.4351314047167042,
          0.15287409267666774,
          0.2004745211459577,
          0.6692693457504773,
          0.28590021029736085,
          0.05375770135634085,
          0.12533959213821638,
          0.19768517557634027,
          0.5670804754666484,
          0.22015293842960526,
          0.20961432927929963,
          0.4008151267677039,
          0.35440072262146827,
          0.10692233138859207,
          -0.0343828629353711,
          0.2201529384296052,
          0.7091812358785906,
          0.358144141610312,
          0.350745653473924,
          1.0830478017374823,
          0.4659493379407799,
          0.328091051755841,
          0.2859002102973608,
          0.560285416891575,
          0.14382583033010524,
          0.46594933794078003,
          0.3049003169506118,
          0.7402852764708262,
          0.2164717886606903,
          0.23744896452852515,
          0.28590021029736085,
          0.5413461586116383,
          0.019191751776800346,
          0.42745038391451395,
          0.5880264891927277,
          0.11037161895364504,
          -0.0446015214225276,
          0.2201529384296053,
          0.1468143504525719,
          0.17395169651820186,
          0.5526294068416137,
          0.5510059339820081,
          0.7042434110114333,
          0.46594933794078003,
          0.5526294068416137,
          0.21930210237467343,
          0.23381067254613036,
          0.1103716189536443,
          0.2517659248404489,
          0.2164717886606901,
          0.16027324284903122,
          0.38294925579373157,
          0.23840170198086919,
          0.7402852764708268,
          0.8786445312164977,
          0.13212488643946732,
          0.030968331899699074,
          0.25475795708617227,
          0.7402852764708262,
          0.251869749353822,
          2.0969647925346453,
          0.3986494476224112,
          0.22713430144650773,
          0.8498473905371203,
          0.7101644984252903,
          0.2659307769049126,
          0.4808279681937922,
          0.5386027689303003,
          0.4613508784405783,
          0.19780376602133337,
          0.41270535340310693,
          0.13993536027100428,
          0.3986494476224112,
          0.23103207952545166,
          0.6360832007508269,
          1.7116737718702901,
          0.28768523348817715,
          0.2095276041929541,
          0.7478781109776829,
          0.24167907898543486,
          0.01919175177680043,
          0.3846515339316861,
          0.5416027864895874,
          0.8901975422267857,
          -0.05955592429577556,
          0.45080352758107106,
          0.3998848224690452,
          0.2095276041929541,
          0.02809076654243366,
          0.6335910496711948,
          0.5670804754666484,
          0.5880264891927274,
          0.228998706825143,
          0.7894958235740014,
          0.20173797725570153,
          0.5980282240726025,
          0.4859606485076074,
          0.3367542530628725,
          2.0969647925346373,
          0.2624235702374038,
          0.20776340697519566,
          0.6989228386538422,
          0.041682326336420356,
          0.6335910496711947,
          0.31244343778452544,
          0.8737022885349224,
          0.7894958235740014,
          0.2126485852724456,
          0.295942236518938,
          0.20108341237704153,
          0.22015293842960482,
          0.7402852764708266,
          0.26029757043398677,
          0.2845935649294069,
          0.7402852764708266,
          0.2423610504688846,
          0.28504938308657424,
          0.7894958235740014,
          0.5347138825782171,
          0.2539955519152146,
          0.5880264891927277,
          0.6335910496711947,
          0.3984921599801931,
          0.11384030105679331,
          0.26029757043398677,
          0.17284189787436183,
          0.2959422365189382,
          0.23733728524486591,
          0.09397111886268648,
          0.5831427662677078,
          0.9342665923294728,
          0.2333963971131426,
          0.22437194576065822,
          0.16467712317501185,
          0.2282537389016999,
          0.26242357023740426,
          0.39378841782625995,
          0.1360028624757095,
          0.35814414161031455,
          0.25452630814658267,
          0.7894958235740014,
          0.13500735102176145,
          0.7402852764708268,
          0.5670804754666484,
          0.05877291117506049,
          0.1386820174711676,
          0.2352735472516779,
          0.3986494476224112,
          0.28590021029728446,
          0.20167341469892847,
          0.6552094986495516,
          0.2876852334881771,
          0.09397111886268657,
          0.20952760419295405,
          0.33675425306287243,
          0.39864944762241117,
          0.3042641851954928,
          0.26242357023740426,
          0.3049003169506118,
          0.5428579707467245,
          0.11037161895364474,
          0.2277225318356818,
          0.1261761881447306,
          0.3340568229866236,
          0.7894958235740014,
          0.6324371557452761,
          0.4018075425484404,
          0.1925995363466033,
          0.7196916632395518,
          0.5510059339820083,
          0.34038178731772323,
          0.6335910496711948,
          2.0969647925346453,
          0.28249378807000475,
          0.5510059339820081,
          0.05877291117506049,
          0.7402852764708268,
          0.1528740926766677,
          0.5880264891927277,
          0.17438800270264343,
          0.39860257461078097,
          0.5384623511423758,
          0.31610587155674563,
          0.7478781109776836,
          0.09997146508663762,
          0.2883467411115286,
          0.0816504106357832,
          0.21647178866069033,
          0.2781949144512478,
          0.5777538332939419,
          0.2876852334881767,
          0.19527111477096393,
          0.22260461419757027,
          0.24236105046888679,
          0.3340568229866237,
          0.6335910496711947,
          0.2859002102973608,
          0.7217865179745102,
          0.5732365268917861,
          0.42782200233909,
          0.26242357023740426,
          0.33675425306287243,
          0.5644642732336318,
          0.2115157583904723,
          0.6548807116174764,
          0.19527111477096395,
          0.3356484294213109,
          0.19933002161011307,
          0.5510059339820081,
          0.3049003169506118,
          0.3183141123133218,
          0.4006589748814332,
          0.06008065895588052,
          0.17821232100025025,
          0.23882872117984302,
          0.3124434377845259,
          0.20952760419295413,
          0.28768523348817715,
          0.20167341469892847,
          0.25452630814658267,
          0.20385774669092716,
          0.28973090597097395,
          0.5526294068416125,
          0.14382583033009938,
          2.096964792534647,
          0.14990651149427014,
          0.2959422365189381,
          0.6299202025331141,
          0.922336314347127,
          0.6307776633560356,
          0.5416245849851477,
          0.31608845750443804,
          0.48493063234099354,
          0.05877291117506049,
          0.1399353602710042,
          0.19930748132100629,
          0.20823973345639135,
          0.5670804754666484,
          0.7402852764708269,
          0.3581441416103145,
          0.3124434377845259,
          0.24167907898543464,
          0.39866069445648317,
          0.19527111477096384,
          0.17805114424715723,
          0.46594933794078,
          0.3581441416103146,
          0.1253395921382164,
          0.2201529384296051,
          0.3049003169506118,
          0.04539379397827649,
          0.5670804754666484,
          0.27680225249012025,
          0.35074565347392384,
          0.7184728999163121,
          0.5510059339820074,
          0.8901864388929153,
          0.3124434377845259,
          0.2624235702374042,
          0.3316230486504263,
          0.13422780943008925,
          0.21279307375917733,
          0.7894958235740014,
          0.3453406977022685,
          0.2859002102973607,
          0.2410670405222672,
          2.096964792534647,
          0.3110040564746905,
          0.39864944762241117,
          0.5510059339820083,
          0.8901834213703377,
          0.2577099145709617,
          0.5604495616479425,
          0.19719450476775155,
          0.18472205330187685,
          0.19527111477096393,
          0.24575665251707252,
          0.25770991457096104,
          0.2602975704339868,
          0.8194978778463461,
          0.8831126239050324,
          0.7402852764708268,
          0.7478781109776835,
          0.43802365910579893,
          0.028090766542433778,
          0.24870870544283644,
          0.5670804754666483,
          0.7100115540786597,
          0.1841080474804112,
          -0.04296447219622368,
          0.4372726756050497,
          0.4352418870321122,
          0.15105294660871416,
          0.07719835281645306,
          0.2959422365189379,
          0.7706943330918506,
          0.40180859042864203,
          0.7894958235740014,
          0.3825357820803561,
          0.3049003169506118,
          0.5340213202648779,
          0.569060720999165,
          0.35074565347392395,
          0.7894958235740013,
          0.12993137314673248,
          0.2034602153430753,
          0.4175718147542013,
          0.40672527053504504,
          0.3337911544409529,
          0.5880264891927276,
          0.20983158390136114,
          0.5510059339820081,
          1.0830478017374823,
          0.1406671550164129,
          0.12617618814473033,
          0.18209703271213876,
          0.580718545722707,
          0.39991148555621775,
          0.5436086587455804,
          0.32518024424133424,
          0.7478781109776836,
          0.3801080737758593,
          0.22909226838454197,
          0.16398022727716288,
          0.2151713830148446,
          1.0830478017374823,
          0.21626061085749662,
          0.3340568229866237,
          0.11668387221509668,
          0.3568678171858829,
          0.6749338054317227,
          0.33675425306287243,
          0.2260066395904956,
          -0.028203333917388922,
          0.19527111477096393,
          0.7645179013084656,
          0.548834704313282,
          0.23751910317350727,
          0.23340040435920067,
          0.24167907898543486,
          0.24552055026044317,
          0.1907009383837716,
          0.5526294068416137,
          0.01919175177679965,
          0.17805114424715715,
          0.25129621547492553,
          0.19527111477096373,
          2.096964792534647,
          0.23744896452852346,
          0.8829685222293862,
          0.35074565347392395,
          2.096964792534647,
          0.11037161895364495,
          0.2624235702374044,
          0.23882872117984466,
          0.21035876004887474,
          0.5880264891927277,
          0.14382583033010524,
          0.5186093101097649,
          0.21115629321583348,
          0.7098567328892968,
          0.509592565165221,
          0.13500735102176145,
          0.029468374690885916,
          0.23941621492819337,
          0.22015293842960526,
          0.7269852789546007,
          0.2306225308326821,
          0.5764163013331043,
          0.549908644959467,
          0.13993536027100387,
          0.3124434377845259,
          0.42745038391451395,
          0.5880264891927277,
          0.2538206970678004,
          0.6245222740817031,
          0.7402852764708266,
          0.8904716089924727,
          0.13993536027100417,
          1.7060926575500521,
          0.28768523348817604,
          1.083047801737482,
          0.3986615842653735,
          0.1476235267980394,
          0.4310116549210231,
          0.4067745588329512,
          0.25122152762678956,
          0.3986494476224113,
          0.4139347921059775,
          0.24236105046888734,
          0.2691613347592253,
          0.20983158390136114,
          0.3581441416103122,
          0.15105294660871416,
          0.4479881505326482,
          0.17805114424715637,
          0.5670804754666484,
          0.5526294068416137,
          0.41755658297444276,
          0.3124434377845259,
          0.2925432676092501,
          0.7402852764708266,
          0.29594223651893875,
          0.07719835281645306,
          0.35074565347392395,
          0.2098315839013614,
          0.500709622944449,
          0.42745038391451434,
          1.083047801737482,
          0.13152092883249447,
          0.3049003169506117,
          0.15105294660871413,
          0.5594516229387466,
          0.5880264891927276,
          0.3259195651061109,
          0.25529069153912454,
          0.5510059339820081,
          0.30490031695061176,
          0.23882872117984466,
          0.7344969961487958,
          0.21718650290445143,
          0.20983158390136106,
          0.26705639120056335,
          0.2388287211798447,
          0.13993536027100414,
          2.096964792534638,
          0.6307505053908096,
          0.24167907898543486,
          0.30490031695061176,
          0.26580106508668677,
          0.33675425306287227,
          -0.006054719373335377,
          0.7894958235740014,
          0.25073890084502937,
          0.38082819371279286,
          -0.028203333917389696,
          0.4592596034892966,
          0.14477612965692216,
          0.24236105046888734,
          0.7262533742109943,
          0.20167341469892833,
          0.20983158390136097,
          0.5526294068416137,
          0.3340568229866237,
          0.2692391853952173,
          0.5880264891927277,
          0.2321795027100681,
          0.7707069737538175,
          0.5416027864895874,
          0.28590021029736085,
          0.16467712317501185,
          0.2146329629669107,
          0.3340568229866237,
          1.7066404594664857,
          0.5670804754666476,
          0.26029757043398605,
          0.2876852334881768,
          0.5670804754666486,
          0.23744896452852535,
          0.2577099145709587,
          0.3367542530628724,
          0.14610348148468189,
          0.33675425306287243,
          0.25452630814658267,
          0.20724131169556168,
          1.7075432945177162,
          0.23744896452852535,
          0.20114393041183726,
          0.3451518054774152,
          0.2842928990434464,
          0.5107220706992329,
          0.3741208089993093,
          0.5510059339820083,
          0.19373991605184204,
          0.15949914161626194,
          0.2095276041929541,
          1.0830478017374823,
          0.21279307375917733,
          0.4043235647128761,
          0.49277689349110276,
          0.5670804754666485,
          0.26029757043398577,
          0.5010070485544067,
          0.2925725762283381,
          0.33405682298662354,
          0.12617618814473064,
          0.4067366219405082,
          0.3239265221532009,
          0.24870870544283644,
          0.6335910496711948,
          0.09333807999486356,
          0.3581441416103142,
          0.3039279110635929,
          0.7894958235740014,
          0.23744896452852535,
          0.501012039638981,
          0.5526294068416135,
          0.3468071288739942,
          0.2859002102973608,
          0.5514346013383811,
          0.28535770124193205,
          0.5510059339820081,
          0.3581441416103146,
          0.1461034814846819,
          0.5510059339820081,
          0.12533959213821638,
          0.4343607221666193,
          0.33675425306287293,
          0.20167341469892827,
          0.7402852764708268,
          0.24870870544283644,
          0.12226791653223411,
          0.39864944762241117,
          0.26757096752480325,
          0.20346290549265333,
          1.083047801737482,
          1.0830478017374823,
          0.4105756206444825,
          0.24726872673356695,
          0.7269587488261732,
          0.2487087054428353,
          0.1350073510217596,
          0.21647178866069056,
          0.22951912190311527,
          0.5880264891927276,
          0.6427923965345009,
          0.3005193203817724,
          0.23744896452852532,
          0.2423610504688873,
          0.17805114424715712,
          0.20170132584157505,
          0.427450383914514,
          0.427450383914514,
          0.4928001041820599,
          0.2098315839013612
         ]
        }
       ],
       "layout": {
        "template": {
         "data": {
          "bar": [
           {
            "error_x": {
             "color": "#2a3f5f"
            },
            "error_y": {
             "color": "#2a3f5f"
            },
            "marker": {
             "line": {
              "color": "#E5ECF6",
              "width": 0.5
             },
             "pattern": {
              "fillmode": "overlay",
              "size": 10,
              "solidity": 0.2
             }
            },
            "type": "bar"
           }
          ],
          "barpolar": [
           {
            "marker": {
             "line": {
              "color": "#E5ECF6",
              "width": 0.5
             },
             "pattern": {
              "fillmode": "overlay",
              "size": 10,
              "solidity": 0.2
             }
            },
            "type": "barpolar"
           }
          ],
          "carpet": [
           {
            "aaxis": {
             "endlinecolor": "#2a3f5f",
             "gridcolor": "white",
             "linecolor": "white",
             "minorgridcolor": "white",
             "startlinecolor": "#2a3f5f"
            },
            "baxis": {
             "endlinecolor": "#2a3f5f",
             "gridcolor": "white",
             "linecolor": "white",
             "minorgridcolor": "white",
             "startlinecolor": "#2a3f5f"
            },
            "type": "carpet"
           }
          ],
          "choropleth": [
           {
            "colorbar": {
             "outlinewidth": 0,
             "ticks": ""
            },
            "type": "choropleth"
           }
          ],
          "contour": [
           {
            "colorbar": {
             "outlinewidth": 0,
             "ticks": ""
            },
            "colorscale": [
             [
              0,
              "#0d0887"
             ],
             [
              0.1111111111111111,
              "#46039f"
             ],
             [
              0.2222222222222222,
              "#7201a8"
             ],
             [
              0.3333333333333333,
              "#9c179e"
             ],
             [
              0.4444444444444444,
              "#bd3786"
             ],
             [
              0.5555555555555556,
              "#d8576b"
             ],
             [
              0.6666666666666666,
              "#ed7953"
             ],
             [
              0.7777777777777778,
              "#fb9f3a"
             ],
             [
              0.8888888888888888,
              "#fdca26"
             ],
             [
              1,
              "#f0f921"
             ]
            ],
            "type": "contour"
           }
          ],
          "contourcarpet": [
           {
            "colorbar": {
             "outlinewidth": 0,
             "ticks": ""
            },
            "type": "contourcarpet"
           }
          ],
          "heatmap": [
           {
            "colorbar": {
             "outlinewidth": 0,
             "ticks": ""
            },
            "colorscale": [
             [
              0,
              "#0d0887"
             ],
             [
              0.1111111111111111,
              "#46039f"
             ],
             [
              0.2222222222222222,
              "#7201a8"
             ],
             [
              0.3333333333333333,
              "#9c179e"
             ],
             [
              0.4444444444444444,
              "#bd3786"
             ],
             [
              0.5555555555555556,
              "#d8576b"
             ],
             [
              0.6666666666666666,
              "#ed7953"
             ],
             [
              0.7777777777777778,
              "#fb9f3a"
             ],
             [
              0.8888888888888888,
              "#fdca26"
             ],
             [
              1,
              "#f0f921"
             ]
            ],
            "type": "heatmap"
           }
          ],
          "histogram": [
           {
            "marker": {
             "pattern": {
              "fillmode": "overlay",
              "size": 10,
              "solidity": 0.2
             }
            },
            "type": "histogram"
           }
          ],
          "histogram2d": [
           {
            "colorbar": {
             "outlinewidth": 0,
             "ticks": ""
            },
            "colorscale": [
             [
              0,
              "#0d0887"
             ],
             [
              0.1111111111111111,
              "#46039f"
             ],
             [
              0.2222222222222222,
              "#7201a8"
             ],
             [
              0.3333333333333333,
              "#9c179e"
             ],
             [
              0.4444444444444444,
              "#bd3786"
             ],
             [
              0.5555555555555556,
              "#d8576b"
             ],
             [
              0.6666666666666666,
              "#ed7953"
             ],
             [
              0.7777777777777778,
              "#fb9f3a"
             ],
             [
              0.8888888888888888,
              "#fdca26"
             ],
             [
              1,
              "#f0f921"
             ]
            ],
            "type": "histogram2d"
           }
          ],
          "histogram2dcontour": [
           {
            "colorbar": {
             "outlinewidth": 0,
             "ticks": ""
            },
            "colorscale": [
             [
              0,
              "#0d0887"
             ],
             [
              0.1111111111111111,
              "#46039f"
             ],
             [
              0.2222222222222222,
              "#7201a8"
             ],
             [
              0.3333333333333333,
              "#9c179e"
             ],
             [
              0.4444444444444444,
              "#bd3786"
             ],
             [
              0.5555555555555556,
              "#d8576b"
             ],
             [
              0.6666666666666666,
              "#ed7953"
             ],
             [
              0.7777777777777778,
              "#fb9f3a"
             ],
             [
              0.8888888888888888,
              "#fdca26"
             ],
             [
              1,
              "#f0f921"
             ]
            ],
            "type": "histogram2dcontour"
           }
          ],
          "mesh3d": [
           {
            "colorbar": {
             "outlinewidth": 0,
             "ticks": ""
            },
            "type": "mesh3d"
           }
          ],
          "parcoords": [
           {
            "line": {
             "colorbar": {
              "outlinewidth": 0,
              "ticks": ""
             }
            },
            "type": "parcoords"
           }
          ],
          "pie": [
           {
            "automargin": true,
            "type": "pie"
           }
          ],
          "scatter": [
           {
            "fillpattern": {
             "fillmode": "overlay",
             "size": 10,
             "solidity": 0.2
            },
            "type": "scatter"
           }
          ],
          "scatter3d": [
           {
            "line": {
             "colorbar": {
              "outlinewidth": 0,
              "ticks": ""
             }
            },
            "marker": {
             "colorbar": {
              "outlinewidth": 0,
              "ticks": ""
             }
            },
            "type": "scatter3d"
           }
          ],
          "scattercarpet": [
           {
            "marker": {
             "colorbar": {
              "outlinewidth": 0,
              "ticks": ""
             }
            },
            "type": "scattercarpet"
           }
          ],
          "scattergeo": [
           {
            "marker": {
             "colorbar": {
              "outlinewidth": 0,
              "ticks": ""
             }
            },
            "type": "scattergeo"
           }
          ],
          "scattergl": [
           {
            "marker": {
             "colorbar": {
              "outlinewidth": 0,
              "ticks": ""
             }
            },
            "type": "scattergl"
           }
          ],
          "scattermap": [
           {
            "marker": {
             "colorbar": {
              "outlinewidth": 0,
              "ticks": ""
             }
            },
            "type": "scattermap"
           }
          ],
          "scattermapbox": [
           {
            "marker": {
             "colorbar": {
              "outlinewidth": 0,
              "ticks": ""
             }
            },
            "type": "scattermapbox"
           }
          ],
          "scatterpolar": [
           {
            "marker": {
             "colorbar": {
              "outlinewidth": 0,
              "ticks": ""
             }
            },
            "type": "scatterpolar"
           }
          ],
          "scatterpolargl": [
           {
            "marker": {
             "colorbar": {
              "outlinewidth": 0,
              "ticks": ""
             }
            },
            "type": "scatterpolargl"
           }
          ],
          "scatterternary": [
           {
            "marker": {
             "colorbar": {
              "outlinewidth": 0,
              "ticks": ""
             }
            },
            "type": "scatterternary"
           }
          ],
          "surface": [
           {
            "colorbar": {
             "outlinewidth": 0,
             "ticks": ""
            },
            "colorscale": [
             [
              0,
              "#0d0887"
             ],
             [
              0.1111111111111111,
              "#46039f"
             ],
             [
              0.2222222222222222,
              "#7201a8"
             ],
             [
              0.3333333333333333,
              "#9c179e"
             ],
             [
              0.4444444444444444,
              "#bd3786"
             ],
             [
              0.5555555555555556,
              "#d8576b"
             ],
             [
              0.6666666666666666,
              "#ed7953"
             ],
             [
              0.7777777777777778,
              "#fb9f3a"
             ],
             [
              0.8888888888888888,
              "#fdca26"
             ],
             [
              1,
              "#f0f921"
             ]
            ],
            "type": "surface"
           }
          ],
          "table": [
           {
            "cells": {
             "fill": {
              "color": "#EBF0F8"
             },
             "line": {
              "color": "white"
             }
            },
            "header": {
             "fill": {
              "color": "#C8D4E3"
             },
             "line": {
              "color": "white"
             }
            },
            "type": "table"
           }
          ]
         },
         "layout": {
          "annotationdefaults": {
           "arrowcolor": "#2a3f5f",
           "arrowhead": 0,
           "arrowwidth": 1
          },
          "autotypenumbers": "strict",
          "coloraxis": {
           "colorbar": {
            "outlinewidth": 0,
            "ticks": ""
           }
          },
          "colorscale": {
           "diverging": [
            [
             0,
             "#8e0152"
            ],
            [
             0.1,
             "#c51b7d"
            ],
            [
             0.2,
             "#de77ae"
            ],
            [
             0.3,
             "#f1b6da"
            ],
            [
             0.4,
             "#fde0ef"
            ],
            [
             0.5,
             "#f7f7f7"
            ],
            [
             0.6,
             "#e6f5d0"
            ],
            [
             0.7,
             "#b8e186"
            ],
            [
             0.8,
             "#7fbc41"
            ],
            [
             0.9,
             "#4d9221"
            ],
            [
             1,
             "#276419"
            ]
           ],
           "sequential": [
            [
             0,
             "#0d0887"
            ],
            [
             0.1111111111111111,
             "#46039f"
            ],
            [
             0.2222222222222222,
             "#7201a8"
            ],
            [
             0.3333333333333333,
             "#9c179e"
            ],
            [
             0.4444444444444444,
             "#bd3786"
            ],
            [
             0.5555555555555556,
             "#d8576b"
            ],
            [
             0.6666666666666666,
             "#ed7953"
            ],
            [
             0.7777777777777778,
             "#fb9f3a"
            ],
            [
             0.8888888888888888,
             "#fdca26"
            ],
            [
             1,
             "#f0f921"
            ]
           ],
           "sequentialminus": [
            [
             0,
             "#0d0887"
            ],
            [
             0.1111111111111111,
             "#46039f"
            ],
            [
             0.2222222222222222,
             "#7201a8"
            ],
            [
             0.3333333333333333,
             "#9c179e"
            ],
            [
             0.4444444444444444,
             "#bd3786"
            ],
            [
             0.5555555555555556,
             "#d8576b"
            ],
            [
             0.6666666666666666,
             "#ed7953"
            ],
            [
             0.7777777777777778,
             "#fb9f3a"
            ],
            [
             0.8888888888888888,
             "#fdca26"
            ],
            [
             1,
             "#f0f921"
            ]
           ]
          },
          "colorway": [
           "#636efa",
           "#EF553B",
           "#00cc96",
           "#ab63fa",
           "#FFA15A",
           "#19d3f3",
           "#FF6692",
           "#B6E880",
           "#FF97FF",
           "#FECB52"
          ],
          "font": {
           "color": "#2a3f5f"
          },
          "geo": {
           "bgcolor": "white",
           "lakecolor": "white",
           "landcolor": "#E5ECF6",
           "showlakes": true,
           "showland": true,
           "subunitcolor": "white"
          },
          "hoverlabel": {
           "align": "left"
          },
          "hovermode": "closest",
          "mapbox": {
           "style": "light"
          },
          "paper_bgcolor": "white",
          "plot_bgcolor": "#E5ECF6",
          "polar": {
           "angularaxis": {
            "gridcolor": "white",
            "linecolor": "white",
            "ticks": ""
           },
           "bgcolor": "#E5ECF6",
           "radialaxis": {
            "gridcolor": "white",
            "linecolor": "white",
            "ticks": ""
           }
          },
          "scene": {
           "xaxis": {
            "backgroundcolor": "#E5ECF6",
            "gridcolor": "white",
            "gridwidth": 2,
            "linecolor": "white",
            "showbackground": true,
            "ticks": "",
            "zerolinecolor": "white"
           },
           "yaxis": {
            "backgroundcolor": "#E5ECF6",
            "gridcolor": "white",
            "gridwidth": 2,
            "linecolor": "white",
            "showbackground": true,
            "ticks": "",
            "zerolinecolor": "white"
           },
           "zaxis": {
            "backgroundcolor": "#E5ECF6",
            "gridcolor": "white",
            "gridwidth": 2,
            "linecolor": "white",
            "showbackground": true,
            "ticks": "",
            "zerolinecolor": "white"
           }
          },
          "shapedefaults": {
           "line": {
            "color": "#2a3f5f"
           }
          },
          "ternary": {
           "aaxis": {
            "gridcolor": "white",
            "linecolor": "white",
            "ticks": ""
           },
           "baxis": {
            "gridcolor": "white",
            "linecolor": "white",
            "ticks": ""
           },
           "bgcolor": "#E5ECF6",
           "caxis": {
            "gridcolor": "white",
            "linecolor": "white",
            "ticks": ""
           }
          },
          "title": {
           "x": 0.05
          },
          "xaxis": {
           "automargin": true,
           "gridcolor": "white",
           "linecolor": "white",
           "ticks": "",
           "title": {
            "standoff": 15
           },
           "zerolinecolor": "white",
           "zerolinewidth": 2
          },
          "yaxis": {
           "automargin": true,
           "gridcolor": "white",
           "linecolor": "white",
           "ticks": "",
           "title": {
            "standoff": 15
           },
           "zerolinecolor": "white",
           "zerolinewidth": 2
          }
         }
        },
        "title": {
         "text": "Sample of Random Portfolios"
        },
        "xaxis": {
         "title": {
          "text": "Volatility (Standard Deviation)"
         }
        },
        "yaxis": {
         "title": {
          "text": "Annualised Returns"
         }
        }
       }
      }
     },
     "metadata": {},
     "output_type": "display_data"
    }
   ],
   "source": [
    "fig1 = go.Figure()\n",
    "\n",
    "fig1.add_trace(go.Scatter(\n",
    "    x=[np.sqrt(p[\"variance\"]) for p in all_portfolios],\n",
    "    y=[p[\"return\"] for p in all_portfolios],\n",
    "    mode='markers',\n",
    "    marker=dict(\n",
    "        color=[p[\"sharpe\"] for p in all_portfolios],\n",
    "        showscale=True,\n",
    "        size=7,\n",
    "        line=dict(width=1),\n",
    "        colorscale=\"RdBu\",\n",
    "        colorbar=dict(title=\"Sharpe<br>Ratio\")\n",
    "    ),\n",
    "    hoverinfo='text',\n",
    "    text=[\n",
    "        f\"Return: {p['return']:.3%}<br>Volatility: {np.sqrt(p['variance']):.3f}<br>\" +\n",
    "        f\"Sharpe Ratio: {p['return'] / (np.sqrt(p['variance'])):.3f}<br>\" +\n",
    "        \"<br>\".join([f\"{p['tickers'][i]}: Weight={p['weights'][i]:.3f}\" for i in range(len(p['tickers']))])\n",
    "        for p in all_portfolios\n",
    "    ]\n",
    "))\n",
    "\n",
    "fig1.update_layout(\n",
    "    xaxis=dict(title='Volatility (Standard Deviation)'),\n",
    "    yaxis=dict(title='Annualised Returns'),\n",
    "    title='Sample of Random Portfolios'\n",
    ")\n",
    "\n",
    "fig1.show()"
   ]
  },
  {
   "cell_type": "code",
   "execution_count": 119,
   "metadata": {
    "colab": {
     "base_uri": "https://localhost:8080/",
     "height": 542
    },
    "id": "uHkH6APvabDV",
    "outputId": "8dbda4b6-b409-48de-98ea-c89f8e6f5f85"
   },
   "outputs": [
    {
     "data": {
      "application/vnd.plotly.v1+json": {
       "config": {
        "plotlyServerURL": "https://plot.ly"
       },
       "data": [
        {
         "hoverinfo": "text",
         "marker": {
          "color": [
           0.6903633884009879,
           0.516802832322222,
           1.4966415741521755,
           0.6272858660053265,
           1.2936644583934638,
           0.3770093659566222,
           0.9861853672698557,
           0.9386770622813276,
           1.3537839075015503,
           1.4631200962869098,
           1.432174411656835,
           0.5493309031269576,
           0.9861853672698557,
           1.135243746815273,
           1.063537022587205,
           1.403386764051701,
           2.4573408142357387,
           1.6084612193838048,
           1.8427318762209333,
           1.4154578458167653,
           1.403386762848533,
           1.4165929030191702,
           1.4302776911618758,
           1.3903335016643001,
           2.337714379049022,
           1.5742162604516963,
           1.6591016298816452,
           2.33385677273932,
           1.8696024477183417,
           1.5966334760201415,
           1.7225679804372502,
           0.9894505319489469,
           2.333856772739321,
           1.6725076812078574,
           1.6057834825644308,
           2.3338567727393205,
           0.5239594619991494,
           1.135244052914724,
           1.6372267140613905,
           2.345342745599551,
           2.3380693899862455,
           0.6014822367094221,
           2.3338714863513164,
           1.6344552797459475,
           1.6800207473794946,
           1.0508114891945437,
           1.8427318774843209,
           2.333856772739321,
           2.3750671606579323,
           2.33385677273932,
           1.5185954277192961,
           1.722567980492151,
           1.6591011401365872,
           1.6557607183153393,
           1.6344551166527854,
           1.7816344482660513,
           1.6641740836023116,
           1.1435018170888316,
           1.5354983559797704,
           2.333856772739319,
           -0.0246992658006466
          ],
          "colorbar": {
           "title": {
            "text": "Sharpe<br>Ratio"
           }
          },
          "colorscale": [
           [
            0,
            "rgb(103,0,31)"
           ],
           [
            0.1,
            "rgb(178,24,43)"
           ],
           [
            0.2,
            "rgb(214,96,77)"
           ],
           [
            0.3,
            "rgb(244,165,130)"
           ],
           [
            0.4,
            "rgb(253,219,199)"
           ],
           [
            0.5,
            "rgb(247,247,247)"
           ],
           [
            0.6,
            "rgb(209,229,240)"
           ],
           [
            0.7,
            "rgb(146,197,222)"
           ],
           [
            0.8,
            "rgb(67,147,195)"
           ],
           [
            0.9,
            "rgb(33,102,172)"
           ],
           [
            1,
            "rgb(5,48,97)"
           ]
          ],
          "line": {
           "width": 1
          },
          "showscale": true,
          "size": 7
         },
         "mode": "markers",
         "name": "Portfolios",
         "text": [
          "Return: 28.115%<br>Volatility: 0.407<br>Sharpe Ratio: 0.690<br>NEE_Close: Weight=0.559<br>RMD_Close: Weight=0.441<br>T_Close: Weight=0.000",
          "Return: 29.594%<br>Volatility: 0.573<br>Sharpe Ratio: 0.517<br>JPM_Close: Weight=0.000<br>CVX_Close: Weight=0.000<br>MS_Close: Weight=1.000",
          "Return: 67.496%<br>Volatility: 0.451<br>Sharpe Ratio: 1.497<br>K_Close: Weight=0.000<br>SPOT_Close: Weight=0.627<br>UNH_Close: Weight=0.000<br>QCOM_Close: Weight=0.373",
          "Return: 24.168%<br>Volatility: 0.385<br>Sharpe Ratio: 0.627<br>GOOG_Close: Weight=1.000<br>GS_Close: Weight=0.000<br>JNJ_Close: Weight=0.000",
          "Return: 55.659%<br>Volatility: 0.430<br>Sharpe Ratio: 1.294<br>GILD_Close: Weight=0.000<br>AAPL_Close: Weight=0.646<br>AMD_Close: Weight=0.186<br>TMO_Close: Weight=0.168",
          "Return: 14.383%<br>Volatility: 0.381<br>Sharpe Ratio: 0.377<br>GE_Close: Weight=0.000<br>CMCSA_Close: Weight=1.000<br>EMR_Close: Weight=0.000",
          "Return: 28.590%<br>Volatility: 0.290<br>Sharpe Ratio: 0.986<br>K_Close: Weight=0.000<br>COST_Close: Weight=1.000<br>LMT_Close: Weight=0.000<br>MMM_Close: Weight=0.000",
          "Return: 35.075%<br>Volatility: 0.374<br>Sharpe Ratio: 0.939<br>DUK_Close: Weight=0.000<br>LMT_Close: Weight=0.000<br>AMGN_Close: Weight=0.000<br>TMO_Close: Weight=1.000",
          "Return: 78.950%<br>Volatility: 0.583<br>Sharpe Ratio: 1.354<br>MRK_Close: Weight=0.000<br>RTX_Close: Weight=0.000<br>NVDA_Close: Weight=1.000",
          "Return: 108.305%<br>Volatility: 0.740<br>Sharpe Ratio: 1.463<br>SNAP_Close: Weight=1.000<br>PM_Close: Weight=0.000<br>EXC_Close: Weight=0.000",
          "Return: 55.101%<br>Volatility: 0.385<br>Sharpe Ratio: 1.432<br>AMZN_Close: Weight=1.000<br>MO_Close: Weight=0.000<br>PG_Close: Weight=0.000<br>MRK_Close: Weight=0.000",
          "Return: 14.813%<br>Volatility: 0.270<br>Sharpe Ratio: 0.549<br>KR_Close: Weight=0.292<br>GIS_Close: Weight=0.488<br>UNH_Close: Weight=0.220",
          "Return: 28.590%<br>Volatility: 0.290<br>Sharpe Ratio: 0.986<br>COST_Close: Weight=1.000<br>HD_Close: Weight=0.000<br>BABA_Close: Weight=0.000",
          "Return: 32.553%<br>Volatility: 0.287<br>Sharpe Ratio: 1.135<br>DHR_Close: Weight=0.549<br>MSFT_Close: Weight=0.000<br>COST_Close: Weight=0.451",
          "Return: 35.814%<br>Volatility: 0.337<br>Sharpe Ratio: 1.064<br>GE_Close: Weight=0.000<br>PG_Close: Weight=0.000<br>DHR_Close: Weight=1.000",
          "Return: 62.424%<br>Volatility: 0.445<br>Sharpe Ratio: 1.403<br>SPOT_Close: Weight=0.745<br>NEE_Close: Weight=0.255<br>CSCO_Close: Weight=0.000<br>AEP_Close: Weight=0.000",
          "Return: 131.649%<br>Volatility: 0.536<br>Sharpe Ratio: 2.457<br>MDT_Close: Weight=0.000<br>TSLA_Close: Weight=0.490<br>RDY_Close: Weight=0.510",
          "Return: 56.549%<br>Volatility: 0.352<br>Sharpe Ratio: 1.608<br>UBER_Close: Weight=0.062<br>HON_Close: Weight=0.000<br>RDY_Close: Weight=0.938",
          "Return: 56.029%<br>Volatility: 0.304<br>Sharpe Ratio: 1.843<br>IBM_Close: Weight=0.000<br>MDT_Close: Weight=0.000<br>AMZN_Close: Weight=0.423<br>RDY_Close: Weight=0.577",
          "Return: 74.029%<br>Volatility: 0.523<br>Sharpe Ratio: 1.415<br>CSCO_Close: Weight=0.000<br>PYPL_Close: Weight=1.000<br>CPB_Close: Weight=0.000<br>EXC_Close: Weight=0.000",
          "Return: 62.424%<br>Volatility: 0.445<br>Sharpe Ratio: 1.403<br>AEP_Close: Weight=0.000<br>NEE_Close: Weight=0.255<br>JPM_Close: Weight=0.000<br>SPOT_Close: Weight=0.745",
          "Return: 70.169%<br>Volatility: 0.495<br>Sharpe Ratio: 1.417<br>MCD_Close: Weight=0.000<br>LLY_Close: Weight=0.000<br>PYPL_Close: Weight=0.938<br>KR_Close: Weight=0.062",
          "Return: 59.931%<br>Volatility: 0.419<br>Sharpe Ratio: 1.430<br>SPOT_Close: Weight=0.699<br>LLY_Close: Weight=0.301<br>MS_Close: Weight=0.000<br>VZ_Close: Weight=0.000",
          "Return: 70.917%<br>Volatility: 0.510<br>Sharpe Ratio: 1.390<br>NVDA_Close: Weight=0.601<br>JPM_Close: Weight=0.000<br>AAPL_Close: Weight=0.399",
          "Return: 189.515%<br>Volatility: 0.811<br>Sharpe Ratio: 2.338<br>T_Close: Weight=0.000<br>TSLA_Close: Weight=0.891<br>ISRG_Close: Weight=0.000<br>REGN_Close: Weight=0.109",
          "Return: 76.563%<br>Volatility: 0.486<br>Sharpe Ratio: 1.574<br>SYY_Close: Weight=0.000<br>DHR_Close: Weight=0.247<br>QCOM_Close: Weight=0.261<br>SNAP_Close: Weight=0.492",
          "Return: 48.475%<br>Volatility: 0.292<br>Sharpe Ratio: 1.659<br>RDY_Close: Weight=0.707<br>ADBE_Close: Weight=0.000<br>LLY_Close: Weight=0.000<br>COST_Close: Weight=0.293",
          "Return: 209.696%<br>Volatility: 0.898<br>Sharpe Ratio: 2.334<br>ACN_Close: Weight=0.000<br>TSLA_Close: Weight=1.000<br>MCD_Close: Weight=0.000<br>BAC_Close: Weight=0.000",
          "Return: 71.470%<br>Volatility: 0.382<br>Sharpe Ratio: 1.870<br>RDY_Close: Weight=0.714<br>MSFT_Close: Weight=0.000<br>SNAP_Close: Weight=0.286",
          "Return: 56.708%<br>Volatility: 0.355<br>Sharpe Ratio: 1.597<br>LYFT_Close: Weight=0.000<br>VRTX_Close: Weight=0.000<br>RDY_Close: Weight=1.000",
          "Return: 57.324%<br>Volatility: 0.333<br>Sharpe Ratio: 1.723<br>RDY_Close: Weight=0.706<br>LMT_Close: Weight=0.000<br>ORCL_Close: Weight=0.000<br>AAPL_Close: Weight=0.294",
          "Return: 28.355%<br>Volatility: 0.287<br>Sharpe Ratio: 0.989<br>COST_Close: Weight=0.913<br>LLY_Close: Weight=0.041<br>CPB_Close: Weight=0.000<br>NEE_Close: Weight=0.046",
          "Return: 209.696%<br>Volatility: 0.898<br>Sharpe Ratio: 2.334<br>IBM_Close: Weight=0.000<br>TSLA_Close: Weight=1.000<br>VRTX_Close: Weight=0.000",
          "Return: 62.688%<br>Volatility: 0.375<br>Sharpe Ratio: 1.673<br>SPOT_Close: Weight=0.385<br>CAT_Close: Weight=0.000<br>AMZN_Close: Weight=0.615<br>MO_Close: Weight=0.000",
          "Return: 80.027%<br>Volatility: 0.498<br>Sharpe Ratio: 1.606<br>NFLX_Close: Weight=0.458<br>SNAP_Close: Weight=0.542<br>LMT_Close: Weight=0.000",
          "Return: 209.696%<br>Volatility: 0.898<br>Sharpe Ratio: 2.334<br>AEP_Close: Weight=0.000<br>TSLA_Close: Weight=1.000<br>EMR_Close: Weight=0.000<br>BSX_Close: Weight=0.000",
          "Return: 14.983%<br>Volatility: 0.286<br>Sharpe Ratio: 0.524<br>GIS_Close: Weight=0.753<br>EW_Close: Weight=0.247<br>T_Close: Weight=0.000",
          "Return: 32.559%<br>Volatility: 0.287<br>Sharpe Ratio: 1.135<br>COST_Close: Weight=0.451<br>DHR_Close: Weight=0.549<br>BMY_Close: Weight=0.000",
          "Return: 57.474%<br>Volatility: 0.351<br>Sharpe Ratio: 1.637<br>RDY_Close: Weight=0.841<br>TXN_Close: Weight=0.000<br>AMD_Close: Weight=0.127<br>UBER_Close: Weight=0.031",
          "Return: 170.011%<br>Volatility: 0.725<br>Sharpe Ratio: 2.345<br>EXC_Close: Weight=0.000<br>DHR_Close: Weight=0.228<br>GE_Close: Weight=0.000<br>TSLA_Close: Weight=0.772",
          "Return: 196.395%<br>Volatility: 0.840<br>Sharpe Ratio: 2.338<br>TSLA_Close: Weight=0.898<br>MS_Close: Weight=0.000<br>DUK_Close: Weight=0.000<br>NVDA_Close: Weight=0.102",
          "Return: 16.813%<br>Volatility: 0.280<br>Sharpe Ratio: 0.601<br>GIS_Close: Weight=0.663<br>EMR_Close: Weight=0.000<br>CVX_Close: Weight=0.000<br>DIS_Close: Weight=0.337",
          "Return: 207.644%<br>Volatility: 0.890<br>Sharpe Ratio: 2.334<br>TSLA_Close: Weight=0.989<br>GIS_Close: Weight=0.011<br>AMD_Close: Weight=0.000",
          "Return: 57.636%<br>Volatility: 0.353<br>Sharpe Ratio: 1.634<br>AMD_Close: Weight=0.140<br>BSX_Close: Weight=0.000<br>RDY_Close: Weight=0.860",
          "Return: 85.257%<br>Volatility: 0.507<br>Sharpe Ratio: 1.680<br>AAPL_Close: Weight=0.318<br>ETN_Close: Weight=0.000<br>SNAP_Close: Weight=0.433<br>NVDA_Close: Weight=0.248",
          "Return: 29.986%<br>Volatility: 0.285<br>Sharpe Ratio: 1.051<br>GE_Close: Weight=0.000<br>COST_Close: Weight=0.725<br>NKE_Close: Weight=0.275",
          "Return: 56.029%<br>Volatility: 0.304<br>Sharpe Ratio: 1.843<br>RDY_Close: Weight=0.577<br>BAC_Close: Weight=0.000<br>AMZN_Close: Weight=0.423<br>ADBE_Close: Weight=0.000",
          "Return: 209.696%<br>Volatility: 0.898<br>Sharpe Ratio: 2.334<br>MDT_Close: Weight=0.000<br>TSLA_Close: Weight=1.000<br>ORCL_Close: Weight=0.000<br>MRK_Close: Weight=0.000",
          "Return: 171.167%<br>Volatility: 0.721<br>Sharpe Ratio: 2.375<br>K_Close: Weight=0.000<br>TSLA_Close: Weight=0.716<br>BSX_Close: Weight=0.000<br>PYPL_Close: Weight=0.284",
          "Return: 209.696%<br>Volatility: 0.898<br>Sharpe Ratio: 2.334<br>MO_Close: Weight=0.000<br>DUK_Close: Weight=0.000<br>ORCL_Close: Weight=0.000<br>TSLA_Close: Weight=1.000",
          "Return: 72.179%<br>Volatility: 0.475<br>Sharpe Ratio: 1.519<br>WMT_Close: Weight=0.414<br>MDT_Close: Weight=0.000<br>SNAP_Close: Weight=0.586<br>AEP_Close: Weight=0.000",
          "Return: 57.324%<br>Volatility: 0.333<br>Sharpe Ratio: 1.723<br>K_Close: Weight=0.000<br>WFC_Close: Weight=0.000<br>RDY_Close: Weight=0.706<br>AAPL_Close: Weight=0.294",
          "Return: 48.493%<br>Volatility: 0.292<br>Sharpe Ratio: 1.659<br>PM_Close: Weight=0.000<br>COST_Close: Weight=0.292<br>RDY_Close: Weight=0.708<br>GS_Close: Weight=0.000",
          "Return: 81.950%<br>Volatility: 0.495<br>Sharpe Ratio: 1.656<br>LLY_Close: Weight=0.000<br>AAPL_Close: Weight=0.532<br>SNAP_Close: Weight=0.468<br>WFC_Close: Weight=0.000",
          "Return: 57.642%<br>Volatility: 0.353<br>Sharpe Ratio: 1.634<br>RDY_Close: Weight=0.860<br>UNH_Close: Weight=0.000<br>AMD_Close: Weight=0.140",
          "Return: 62.452%<br>Volatility: 0.351<br>Sharpe Ratio: 1.782<br>RDY_Close: Weight=0.668<br>BIIB_Close: Weight=0.000<br>PYPL_Close: Weight=0.332",
          "Return: 89.047%<br>Volatility: 0.535<br>Sharpe Ratio: 1.664<br>SNAP_Close: Weight=0.438<br>PYPL_Close: Weight=0.562<br>IBM_Close: Weight=0.000",
          "Return: 32.592%<br>Volatility: 0.285<br>Sharpe Ratio: 1.144<br>SYY_Close: Weight=0.000<br>COST_Close: Weight=0.415<br>NKE_Close: Weight=0.105<br>DHR_Close: Weight=0.480",
          "Return: 73.450%<br>Volatility: 0.478<br>Sharpe Ratio: 1.535<br>DHR_Close: Weight=0.481<br>MDT_Close: Weight=0.000<br>ISRG_Close: Weight=0.000<br>SNAP_Close: Weight=0.519",
          "Return: 209.696%<br>Volatility: 0.898<br>Sharpe Ratio: 2.334<br>JNJ_Close: Weight=0.000<br>EMR_Close: Weight=0.000<br>TSLA_Close: Weight=1.000<br>GE_Close: Weight=0.000",
          "Return: -0.605%<br>Volatility: 0.245<br>Sharpe Ratio: -0.025<br>BA_Close: Weight=0.000<br>EXC_Close: Weight=0.000<br>VZ_Close: Weight=1.000"
         ],
         "type": "scatter",
         "x": [
          0.4072534134672001,
          0.5726405081588655,
          0.4509803803316867,
          0.3852774182917469,
          0.4302418087225544,
          0.3814913986690007,
          0.2899051433797316,
          0.3736595550992629,
          0.5831771372072517,
          0.7402316491216471,
          0.3847338211723583,
          0.26965131139085297,
          0.2899051433797316,
          0.28675052055649436,
          0.3367481657940577,
          0.44480859899350383,
          0.535737791087639,
          0.3515732178550444,
          0.3040515600517591,
          0.5230005815140739,
          0.4448121129612807,
          0.4953383258955659,
          0.41901862617084995,
          0.5100701127042527,
          0.8106833805705663,
          0.4863553226284561,
          0.2921775513044886,
          0.8984976357710986,
          0.38227295956174817,
          0.3551726078549882,
          0.33278041330476976,
          0.28656912198242057,
          0.898497635771099,
          0.37481197126146093,
          0.49836866079712133,
          0.8984976357710979,
          0.2859589646729328,
          0.28680004547295807,
          0.3510472443221552,
          0.7248872345104023,
          0.8399886168951474,
          0.2795251261658009,
          0.8896991951379014,
          0.35263407019974824,
          0.5074767107198305,
          0.2853614179459344,
          0.3040515138081135,
          0.8984976357710983,
          0.7206843664143495,
          0.8984976357710952,
          0.4752987562056116,
          0.3327802057066032,
          0.29228515405701616,
          0.4949373836336374,
          0.352665726614477,
          0.35053334015263904,
          0.5350832090023516,
          0.2850188432020587,
          0.47834437157708853,
          0.8984976357710959,
          0.24513762563650257
         ],
         "y": [
          0.2811528464590848,
          0.29594223651893814,
          0.6749559863313623,
          0.24167907898543486,
          0.5565885364592876,
          0.14382583033010496,
          0.2859002102973608,
          0.350745653473924,
          0.7894958235740009,
          1.0830478017374823,
          0.5510059339820083,
          0.14812779841570575,
          0.2859002102973608,
          0.3255317353577846,
          0.35814414161031455,
          0.6242385003638641,
          1.3164903397681549,
          0.5654918866938128,
          0.5602855017220798,
          0.7402852764708266,
          0.6242434312845477,
          0.7016927570570556,
          0.5993129931934644,
          0.709167565890408,
          1.8951461956158835,
          0.7656284572389465,
          0.484752251584105,
          2.0969647925346453,
          0.714698460893179,
          0.5670804754666484,
          0.5732368844754707,
          0.2835459701856487,
          2.096964792534647,
          0.6268759009434521,
          0.800272163735773,
          2.096964792534644,
          0.14983090528386367,
          0.32558804599884805,
          0.5747439263018683,
          1.7001090168366924,
          1.963951673099427,
          0.16812939810268934,
          2.0764435829620638,
          0.5763646178562816,
          0.8525714028212171,
          0.2998610565504339,
          0.560285416891575,
          2.0969647925346453,
          1.7116737718702901,
          2.0969647925346373,
          0.7217865179745102,
          0.5732365268917861,
          0.48493063234099354,
          0.8194978778463461,
          0.5764163013331043,
          0.6245222740817031,
          0.8904716089924727,
          0.3259195651061109,
          0.7344969961487958,
          2.096964792534638,
          -0.006054719373335377
         ]
        },
        {
         "hoverinfo": "text",
         "hovertext": [
          "GIS_Close <br>Volatility: 0.309 <br>Returns: 15.105% <br>Sharpe Ratio: 0.488",
          "WMT_Close <br>Volatility: 0.313 <br>Returns: 20.983% <br>Sharpe Ratio: 0.671",
          "ORCL_Close <br>Volatility: 0.401 <br>Returns: 19.527% <br>Sharpe Ratio: 0.487",
          "GS_Close <br>Volatility: 0.524 <br>Returns: 12.618% <br>Sharpe Ratio: 0.241",
          "TMO_Close <br>Volatility: 0.374 <br>Returns: 35.075% <br>Sharpe Ratio: 0.939",
          "ACN_Close <br>Volatility: 0.416 <br>Returns: 22.015% <br>Sharpe Ratio: 0.529",
          "DUK_Close <br>Volatility: 0.415 <br>Returns: 4.539% <br>Sharpe Ratio: 0.110",
          "NVDA_Close <br>Volatility: 0.583 <br>Returns: 78.950% <br>Sharpe Ratio: 1.354",
          "BMY_Close <br>Volatility: 0.298 <br>Returns: 0.066% <br>Sharpe Ratio: 0.002",
          "NEE_Close <br>Volatility: 0.417 <br>Returns: 26.242% <br>Sharpe Ratio: 0.630",
          "SRE_Close <br>Volatility: 0.479 <br>Returns: -13.414% <br>Sharpe Ratio: -0.280",
          "IBM_Close <br>Volatility: 0.412 <br>Returns: -3.438% <br>Sharpe Ratio: -0.083",
          "ISRG_Close <br>Volatility: 0.457 <br>Returns: 31.244% <br>Sharpe Ratio: 0.684",
          "BABA_Close <br>Volatility: 0.415 <br>Returns: 8.165% <br>Sharpe Ratio: 0.197",
          "CPB_Close <br>Volatility: 0.323 <br>Returns: 1.937% <br>Sharpe Ratio: 0.060",
          "MS_Close <br>Volatility: 0.573 <br>Returns: 29.594% <br>Sharpe Ratio: 0.517",
          "RMD_Close <br>Volatility: 0.492 <br>Returns: 30.490% <br>Sharpe Ratio: 0.620",
          "EXC_Close <br>Volatility: 0.490 <br>Returns: -4.296% <br>Sharpe Ratio: -0.088",
          "AMD_Close <br>Volatility: 0.607 <br>Returns: 63.359% <br>Sharpe Ratio: 1.044",
          "VRTX_Close <br>Volatility: 0.473 <br>Returns: 5.877% <br>Sharpe Ratio: 0.124",
          "KO_Close <br>Volatility: 0.350 <br>Returns: 2.369% <br>Sharpe Ratio: 0.068",
          "TXN_Close <br>Volatility: 0.432 <br>Returns: 25.771% <br>Sharpe Ratio: 0.597",
          "MCD_Close <br>Volatility: 0.401 <br>Returns: 7.720% <br>Sharpe Ratio: 0.192",
          "JNJ_Close <br>Volatility: 0.303 <br>Returns: 9.397% <br>Sharpe Ratio: 0.310",
          "HON_Close <br>Volatility: 0.453 <br>Returns: 17.805% <br>Sharpe Ratio: 0.393",
          "PYPL_Close <br>Volatility: 0.523 <br>Returns: 74.029% <br>Sharpe Ratio: 1.415",
          "MRK_Close <br>Volatility: 0.319 <br>Returns: -10.200% <br>Sharpe Ratio: -0.320",
          "UBER_Close <br>Volatility: 0.728 <br>Returns: 54.160% <br>Sharpe Ratio: 0.744",
          "XOM_Close <br>Volatility: 0.530 <br>Returns: -45.815% <br>Sharpe Ratio: -0.864",
          "GM_Close <br>Volatility: 0.615 <br>Returns: 12.534% <br>Sharpe Ratio: 0.204",
          "KR_Close <br>Volatility: 0.321 <br>Returns: 11.767% <br>Sharpe Ratio: 0.366",
          "LMT_Close <br>Volatility: 0.415 <br>Returns: -9.516% <br>Sharpe Ratio: -0.229",
          "TSLA_Close <br>Volatility: 0.898 <br>Returns: 209.696% <br>Sharpe Ratio: 2.334",
          "REGN_Close <br>Volatility: 0.431 <br>Returns: 24.871% <br>Sharpe Ratio: 0.577",
          "AMGN_Close <br>Volatility: 0.381 <br>Returns: -2.820% <br>Sharpe Ratio: -0.074",
          "UNH_Close <br>Volatility: 0.485 <br>Returns: 18.210% <br>Sharpe Ratio: 0.376",
          "T_Close <br>Volatility: 0.358 <br>Returns: -22.344% <br>Sharpe Ratio: -0.624",
          "ADBE_Close <br>Volatility: 0.480 <br>Returns: 39.865% <br>Sharpe Ratio: 0.831",
          "VZ_Close <br>Volatility: 0.245 <br>Returns: -0.605% <br>Sharpe Ratio: -0.025",
          "WFC_Close <br>Volatility: 0.616 <br>Returns: -55.430% <br>Sharpe Ratio: -0.899",
          "GILD_Close <br>Volatility: 0.373 <br>Returns: -10.162% <br>Sharpe Ratio: -0.272",
          "EW_Close <br>Volatility: 0.441 <br>Returns: 14.610% <br>Sharpe Ratio: 0.331",
          "DIS_Close <br>Volatility: 0.488 <br>Returns: 20.167% <br>Sharpe Ratio: 0.413",
          "ABBV_Close <br>Volatility: 0.351 <br>Returns: 21.647% <br>Sharpe Ratio: 0.616",
          "BIIB_Close <br>Volatility: 0.667 <br>Returns: -18.970% <br>Sharpe Ratio: -0.284",
          "LYFT_Close <br>Volatility: 0.858 <br>Returns: 14.478% <br>Sharpe Ratio: 0.169",
          "MO_Close <br>Volatility: 0.366 <br>Returns: -10.116% <br>Sharpe Ratio: -0.277",
          "BSX_Close <br>Volatility: 0.451 <br>Returns: -24.400% <br>Sharpe Ratio: -0.541",
          "DHR_Close <br>Volatility: 0.337 <br>Returns: 35.814% <br>Sharpe Ratio: 1.064",
          "MDT_Close <br>Volatility: 0.414 <br>Returns: 3.293% <br>Sharpe Ratio: 0.079",
          "SPOT_Close <br>Volatility: 0.548 <br>Returns: 74.788% <br>Sharpe Ratio: 1.365",
          "META_Close <br>Volatility: 0.462 <br>Returns: 26.030% <br>Sharpe Ratio: 0.563",
          "PG_Close <br>Volatility: 0.325 <br>Returns: 13.501% <br>Sharpe Ratio: 0.416",
          "UA_Close <br>Volatility: 0.679 <br>Returns: -24.459% <br>Sharpe Ratio: -0.360",
          "COST_Close <br>Volatility: 0.290 <br>Returns: 28.590% <br>Sharpe Ratio: 0.986",
          "V_Close <br>Volatility: 0.428 <br>Returns: 13.994% <br>Sharpe Ratio: 0.327",
          "QCOM_Close <br>Volatility: 0.528 <br>Returns: 55.263% <br>Sharpe Ratio: 1.048",
          "GE_Close <br>Volatility: 0.632 <br>Returns: -10.323% <br>Sharpe Ratio: -0.163",
          "MMM_Close <br>Volatility: 0.375 <br>Returns: 0.330% <br>Sharpe Ratio: 0.009",
          "SAP_Close <br>Volatility: 0.464 <br>Returns: -3.194% <br>Sharpe Ratio: -0.069",
          "LLY_Close <br>Volatility: 0.419 <br>Returns: 25.453% <br>Sharpe Ratio: 0.607",
          "DE_Close <br>Volatility: 0.459 <br>Returns: 42.745% <br>Sharpe Ratio: 0.932",
          "BAC_Close <br>Volatility: 0.586 <br>Returns: -14.706% <br>Sharpe Ratio: -0.251",
          "ETN_Close <br>Volatility: 0.513 <br>Returns: 24.236% <br>Sharpe Ratio: 0.473",
          "PM_Close <br>Volatility: 0.397 <br>Returns: 1.919% <br>Sharpe Ratio: 0.048",
          "SYK_Close <br>Volatility: 0.494 <br>Returns: 15.287% <br>Sharpe Ratio: 0.309",
          "SNAP_Close <br>Volatility: 0.740 <br>Returns: 108.305% <br>Sharpe Ratio: 1.463",
          "MSFT_Close <br>Volatility: 0.441 <br>Returns: 33.406% <br>Sharpe Ratio: 0.757",
          "NKE_Close <br>Volatility: 0.416 <br>Returns: 33.675% <br>Sharpe Ratio: 0.809",
          "CAT_Close <br>Volatility: 0.454 <br>Returns: 20.953% <br>Sharpe Ratio: 0.462",
          "EMR_Close <br>Volatility: 0.547 <br>Returns: 6.008% <br>Sharpe Ratio: 0.110",
          "BTI_Close <br>Volatility: 0.361 <br>Returns: -5.213% <br>Sharpe Ratio: -0.144",
          "SO_Close <br>Volatility: 0.457 <br>Returns: 0.996% <br>Sharpe Ratio: 0.022",
          "CVX_Close <br>Volatility: 0.620 <br>Returns: -29.888% <br>Sharpe Ratio: -0.482",
          "AAPL_Close <br>Volatility: 0.468 <br>Returns: 58.803% <br>Sharpe Ratio: 1.256",
          "ABT_Close <br>Volatility: 0.393 <br>Returns: 23.745% <br>Sharpe Ratio: 0.605",
          "JPM_Close <br>Volatility: 0.544 <br>Returns: -8.287% <br>Sharpe Ratio: -0.152",
          "SYY_Close <br>Volatility: 0.702 <br>Returns: -11.836% <br>Sharpe Ratio: -0.169",
          "GOOG_Close <br>Volatility: 0.385 <br>Returns: 24.168% <br>Sharpe Ratio: 0.627",
          "ZBH_Close <br>Volatility: 0.499 <br>Returns: 2.809% <br>Sharpe Ratio: 0.056",
          "BA_Close <br>Volatility: 0.880 <br>Returns: -42.649% <br>Sharpe Ratio: -0.485",
          "CSCO_Close <br>Volatility: 0.421 <br>Returns: -5.864% <br>Sharpe Ratio: -0.139",
          "F_Close <br>Volatility: 0.559 <br>Returns: -4.460% <br>Sharpe Ratio: -0.080",
          "AMZN_Close <br>Volatility: 0.385 <br>Returns: 55.101% <br>Sharpe Ratio: 1.432",
          "PEP_Close <br>Volatility: 0.368 <br>Returns: 11.037% <br>Sharpe Ratio: 0.300",
          "MA_Close <br>Volatility: 0.488 <br>Returns: 16.468% <br>Sharpe Ratio: 0.337",
          "CMCSA_Close <br>Volatility: 0.381 <br>Returns: 14.383% <br>Sharpe Ratio: 0.377",
          "RTX_Close <br>Volatility: 0.577 <br>Returns: -27.337% <br>Sharpe Ratio: -0.474",
          "INTC_Close <br>Volatility: 0.541 <br>Returns: -19.777% <br>Sharpe Ratio: -0.366",
          "PFE_Close <br>Volatility: 0.359 <br>Returns: 2.947% <br>Sharpe Ratio: 0.082",
          "RDY_Close <br>Volatility: 0.355 <br>Returns: 56.708% <br>Sharpe Ratio: 1.597",
          "K_Close <br>Volatility: 0.318 <br>Returns: -5.956% <br>Sharpe Ratio: -0.187",
          "NFLX_Close <br>Volatility: 0.463 <br>Returns: 46.595% <br>Sharpe Ratio: 1.007",
          "AEP_Close <br>Volatility: 0.386 <br>Returns: -10.503% <br>Sharpe Ratio: -0.272",
          "CRM_Close <br>Volatility: 0.522 <br>Returns: 28.769% <br>Sharpe Ratio: 0.551",
          "HD_Close <br>Volatility: 0.447 <br>Returns: 21.279% <br>Sharpe Ratio: 0.476",
          "GOOGL_Close <br>Volatility: 0.387 <br>Returns: 23.883% <br>Sharpe Ratio: 0.617"
         ],
         "marker": {
          "color": "brown",
          "line": {
           "width": 1
          },
          "size": 5,
          "symbol": "triangle-up"
         },
         "mode": "markers",
         "name": "Individual Assets",
         "type": "scatter",
         "x": {
          "bdata": "VxV6kBPL0z++4IxCFQXUPyUcglKxpNk/gaA2Y+XA4D/HTz/ECerXP4r+VGFAo9o/YXQEso2H2j/Jj4IZY6niP52vSpNBENM/exMNY32s2j8VMCED4aLeP4CUN7d7Ydo/rI3xd0k+3T/gthJLworaPz9YnQpWptQ/XAfdLxJT4j/RuUuxAX3fP8M3UfsnWN8/MiXuYI1r4z9axEwFgz/ePyZdB1UfYtY/OrfF0dig2z8DjScDubHZP54cHMvYY9M/OPxDXf0F3T+xiiy3a7zgP38amMu3bdQ/fAGUVddK5z8RqUBl0/bgP+699PKRseM/5sYJq3WN1D+d/6N2pIraPzJyJR1+wOw/G9vm5Gab2z8HwHELJGnYP1A0JFpsCN8/Rwxgjczu1j+tvcjeJLbePwlekHKrYM8/0ZT0xPa44z/kZ52lx+DXPwQfRTE4N9w/q0Jc0OM73z9A31i8TXrWP/46dDTEWuU//5hLWGly6z/yhSb6RmbXP2GoRdWI2tw/obPELUiN1T/NYCDSlobaP2fDhqJ3iOE/mIHdVkOS3T/DiDI2ZsXUP2gfEYXYu+U/VoVwTc6N0j+Ud1gFkGHbP6SdlY5n4eA/9fF6SFs55D+oPLrm4wTYP2e1yeK+tN0/78uaswvZ2j/h1lgrj1rdP6mwSbp8xOI/ijgAZbJn4D8fCBpo5GrZPz6XmYDRod8/wyGOSPqv5z/c4BGT1T7cP040klchodo/7OhLqhAN3T+DT4vhBoPhP7tP413MF9c/cgACE1xE3T9wHcpw5NjjPya+WQ789N0/saGyXFcg2T+hEPkVaGjhP5Z2ABN7eeY/yNLcnWKo2D+Wobd3QvPfP4tvdKwLK+w/Q4uYyZXy2j8gBZyRTOPhP9Bs5pp6n9g/flvaTreM1z+1M9EPtz7fPyRGP+Zaatg/Oct+r0d14j+Yema270/hP78b6QGD9dY/cQXL4yW71j87fsoLNWHUP9DxZrdbm90/834ukHi32D80QAjfjbXgP9lw2B5jmNw/RDbidkbD2D8=",
          "dtype": "f8"
         },
         "y": {
          "bdata": "5A3T9LNVwz/YGUPnwtvKP3S65dWk/sg/tcrOlIomwD8lnrjlnXLWP9AzVrP4Lcw/bPcn+do9pz+HhtK+jEPpP++/3GEgwUU/JKH3OozL0D9TpKomWyvBv4NWs2+hmqG/LpnIwhL/0z+TumKTCue0P8+A6rK51pM/5KbWtLfw0j9G8nWefIPTP1wD8nVw/6W/9QisvGBG5D82c8amexeuP6C7hY8uQpg/xPu7uVF+0D8h2KZwRcOzP/2kSMJ9Drg/G0nHQGHKxj9w4YS/arDnPwhDYM1nHLq/4KXsXc9U4T9VHkRHZ1Ldv8tVkLQgC8A/ow4O7tQfvj/UqPavbVy4v9tlJnqVxgBA5cEN1q/Vzz+D30CzVeGcv2lAGaD0Tsc/Wb6AwNOZzL+F1Ab5eIPZPyByHlvVzHi/P+IPZtC84b+4mMU23QO6v017Z9WEs8I/rmFNOG/QyT/v8mb6WLXLP5w5LcUwSMi/ihgPMwaIwj+8H70P7uW5v68OFfpMO8+/SxneZ9Xr1j/aB3tsvtugP51jgROe7uc/soAPJLeo0D/V1K2+60fBP7xjXyDQTs+/U2NJZTBM0j8Vf/XhZunBP9sppt0jr+E/nejjjgltur8b+WRLlg1rP9Bs1YmTWqC/KIRdtihK0D+z1OTaWFvbP8FxbOW80sK/GUbL2K8Fzz9j7u+oAKeTP9zZOdZgkcM/kHmH7ilU8T/p7G7eL2HVP5hp7LVhjdU/pxnP78zRyj+y3qxi5MKuP6mYiK7+sKq/qjwhJL5khD9G1INz5SDTv3t2iO0c0eI/Bz6PSLpkzj9MaBkmtza1v129cV6qTL6/CVcvDlfvzj8iMHpu08OcP/Q3lceTS9u/b2mqCUkGrr+QI7m3Atamv2FZSzLXoeE/pP7PfVBBvD8l0DfVIxTFP5I+y4LiaMI/2q6NePF+0b9INArHY1DJv/4nQSb1LJ4/U4oK9IUl4j/WDUQ2HX6uv6kaAywd0t0/ffsv2ifjur8T7VdTb2nSP6w0Tq7NPMs/RA5ohfCRzj8=",
          "dtype": "f8"
         }
        }
       ],
       "layout": {
        "legend": {
         "y": 5
        },
        "template": {
         "data": {
          "bar": [
           {
            "error_x": {
             "color": "#2a3f5f"
            },
            "error_y": {
             "color": "#2a3f5f"
            },
            "marker": {
             "line": {
              "color": "#E5ECF6",
              "width": 0.5
             },
             "pattern": {
              "fillmode": "overlay",
              "size": 10,
              "solidity": 0.2
             }
            },
            "type": "bar"
           }
          ],
          "barpolar": [
           {
            "marker": {
             "line": {
              "color": "#E5ECF6",
              "width": 0.5
             },
             "pattern": {
              "fillmode": "overlay",
              "size": 10,
              "solidity": 0.2
             }
            },
            "type": "barpolar"
           }
          ],
          "carpet": [
           {
            "aaxis": {
             "endlinecolor": "#2a3f5f",
             "gridcolor": "white",
             "linecolor": "white",
             "minorgridcolor": "white",
             "startlinecolor": "#2a3f5f"
            },
            "baxis": {
             "endlinecolor": "#2a3f5f",
             "gridcolor": "white",
             "linecolor": "white",
             "minorgridcolor": "white",
             "startlinecolor": "#2a3f5f"
            },
            "type": "carpet"
           }
          ],
          "choropleth": [
           {
            "colorbar": {
             "outlinewidth": 0,
             "ticks": ""
            },
            "type": "choropleth"
           }
          ],
          "contour": [
           {
            "colorbar": {
             "outlinewidth": 0,
             "ticks": ""
            },
            "colorscale": [
             [
              0,
              "#0d0887"
             ],
             [
              0.1111111111111111,
              "#46039f"
             ],
             [
              0.2222222222222222,
              "#7201a8"
             ],
             [
              0.3333333333333333,
              "#9c179e"
             ],
             [
              0.4444444444444444,
              "#bd3786"
             ],
             [
              0.5555555555555556,
              "#d8576b"
             ],
             [
              0.6666666666666666,
              "#ed7953"
             ],
             [
              0.7777777777777778,
              "#fb9f3a"
             ],
             [
              0.8888888888888888,
              "#fdca26"
             ],
             [
              1,
              "#f0f921"
             ]
            ],
            "type": "contour"
           }
          ],
          "contourcarpet": [
           {
            "colorbar": {
             "outlinewidth": 0,
             "ticks": ""
            },
            "type": "contourcarpet"
           }
          ],
          "heatmap": [
           {
            "colorbar": {
             "outlinewidth": 0,
             "ticks": ""
            },
            "colorscale": [
             [
              0,
              "#0d0887"
             ],
             [
              0.1111111111111111,
              "#46039f"
             ],
             [
              0.2222222222222222,
              "#7201a8"
             ],
             [
              0.3333333333333333,
              "#9c179e"
             ],
             [
              0.4444444444444444,
              "#bd3786"
             ],
             [
              0.5555555555555556,
              "#d8576b"
             ],
             [
              0.6666666666666666,
              "#ed7953"
             ],
             [
              0.7777777777777778,
              "#fb9f3a"
             ],
             [
              0.8888888888888888,
              "#fdca26"
             ],
             [
              1,
              "#f0f921"
             ]
            ],
            "type": "heatmap"
           }
          ],
          "histogram": [
           {
            "marker": {
             "pattern": {
              "fillmode": "overlay",
              "size": 10,
              "solidity": 0.2
             }
            },
            "type": "histogram"
           }
          ],
          "histogram2d": [
           {
            "colorbar": {
             "outlinewidth": 0,
             "ticks": ""
            },
            "colorscale": [
             [
              0,
              "#0d0887"
             ],
             [
              0.1111111111111111,
              "#46039f"
             ],
             [
              0.2222222222222222,
              "#7201a8"
             ],
             [
              0.3333333333333333,
              "#9c179e"
             ],
             [
              0.4444444444444444,
              "#bd3786"
             ],
             [
              0.5555555555555556,
              "#d8576b"
             ],
             [
              0.6666666666666666,
              "#ed7953"
             ],
             [
              0.7777777777777778,
              "#fb9f3a"
             ],
             [
              0.8888888888888888,
              "#fdca26"
             ],
             [
              1,
              "#f0f921"
             ]
            ],
            "type": "histogram2d"
           }
          ],
          "histogram2dcontour": [
           {
            "colorbar": {
             "outlinewidth": 0,
             "ticks": ""
            },
            "colorscale": [
             [
              0,
              "#0d0887"
             ],
             [
              0.1111111111111111,
              "#46039f"
             ],
             [
              0.2222222222222222,
              "#7201a8"
             ],
             [
              0.3333333333333333,
              "#9c179e"
             ],
             [
              0.4444444444444444,
              "#bd3786"
             ],
             [
              0.5555555555555556,
              "#d8576b"
             ],
             [
              0.6666666666666666,
              "#ed7953"
             ],
             [
              0.7777777777777778,
              "#fb9f3a"
             ],
             [
              0.8888888888888888,
              "#fdca26"
             ],
             [
              1,
              "#f0f921"
             ]
            ],
            "type": "histogram2dcontour"
           }
          ],
          "mesh3d": [
           {
            "colorbar": {
             "outlinewidth": 0,
             "ticks": ""
            },
            "type": "mesh3d"
           }
          ],
          "parcoords": [
           {
            "line": {
             "colorbar": {
              "outlinewidth": 0,
              "ticks": ""
             }
            },
            "type": "parcoords"
           }
          ],
          "pie": [
           {
            "automargin": true,
            "type": "pie"
           }
          ],
          "scatter": [
           {
            "fillpattern": {
             "fillmode": "overlay",
             "size": 10,
             "solidity": 0.2
            },
            "type": "scatter"
           }
          ],
          "scatter3d": [
           {
            "line": {
             "colorbar": {
              "outlinewidth": 0,
              "ticks": ""
             }
            },
            "marker": {
             "colorbar": {
              "outlinewidth": 0,
              "ticks": ""
             }
            },
            "type": "scatter3d"
           }
          ],
          "scattercarpet": [
           {
            "marker": {
             "colorbar": {
              "outlinewidth": 0,
              "ticks": ""
             }
            },
            "type": "scattercarpet"
           }
          ],
          "scattergeo": [
           {
            "marker": {
             "colorbar": {
              "outlinewidth": 0,
              "ticks": ""
             }
            },
            "type": "scattergeo"
           }
          ],
          "scattergl": [
           {
            "marker": {
             "colorbar": {
              "outlinewidth": 0,
              "ticks": ""
             }
            },
            "type": "scattergl"
           }
          ],
          "scattermap": [
           {
            "marker": {
             "colorbar": {
              "outlinewidth": 0,
              "ticks": ""
             }
            },
            "type": "scattermap"
           }
          ],
          "scattermapbox": [
           {
            "marker": {
             "colorbar": {
              "outlinewidth": 0,
              "ticks": ""
             }
            },
            "type": "scattermapbox"
           }
          ],
          "scatterpolar": [
           {
            "marker": {
             "colorbar": {
              "outlinewidth": 0,
              "ticks": ""
             }
            },
            "type": "scatterpolar"
           }
          ],
          "scatterpolargl": [
           {
            "marker": {
             "colorbar": {
              "outlinewidth": 0,
              "ticks": ""
             }
            },
            "type": "scatterpolargl"
           }
          ],
          "scatterternary": [
           {
            "marker": {
             "colorbar": {
              "outlinewidth": 0,
              "ticks": ""
             }
            },
            "type": "scatterternary"
           }
          ],
          "surface": [
           {
            "colorbar": {
             "outlinewidth": 0,
             "ticks": ""
            },
            "colorscale": [
             [
              0,
              "#0d0887"
             ],
             [
              0.1111111111111111,
              "#46039f"
             ],
             [
              0.2222222222222222,
              "#7201a8"
             ],
             [
              0.3333333333333333,
              "#9c179e"
             ],
             [
              0.4444444444444444,
              "#bd3786"
             ],
             [
              0.5555555555555556,
              "#d8576b"
             ],
             [
              0.6666666666666666,
              "#ed7953"
             ],
             [
              0.7777777777777778,
              "#fb9f3a"
             ],
             [
              0.8888888888888888,
              "#fdca26"
             ],
             [
              1,
              "#f0f921"
             ]
            ],
            "type": "surface"
           }
          ],
          "table": [
           {
            "cells": {
             "fill": {
              "color": "#EBF0F8"
             },
             "line": {
              "color": "white"
             }
            },
            "header": {
             "fill": {
              "color": "#C8D4E3"
             },
             "line": {
              "color": "white"
             }
            },
            "type": "table"
           }
          ]
         },
         "layout": {
          "annotationdefaults": {
           "arrowcolor": "#2a3f5f",
           "arrowhead": 0,
           "arrowwidth": 1
          },
          "autotypenumbers": "strict",
          "coloraxis": {
           "colorbar": {
            "outlinewidth": 0,
            "ticks": ""
           }
          },
          "colorscale": {
           "diverging": [
            [
             0,
             "#8e0152"
            ],
            [
             0.1,
             "#c51b7d"
            ],
            [
             0.2,
             "#de77ae"
            ],
            [
             0.3,
             "#f1b6da"
            ],
            [
             0.4,
             "#fde0ef"
            ],
            [
             0.5,
             "#f7f7f7"
            ],
            [
             0.6,
             "#e6f5d0"
            ],
            [
             0.7,
             "#b8e186"
            ],
            [
             0.8,
             "#7fbc41"
            ],
            [
             0.9,
             "#4d9221"
            ],
            [
             1,
             "#276419"
            ]
           ],
           "sequential": [
            [
             0,
             "#0d0887"
            ],
            [
             0.1111111111111111,
             "#46039f"
            ],
            [
             0.2222222222222222,
             "#7201a8"
            ],
            [
             0.3333333333333333,
             "#9c179e"
            ],
            [
             0.4444444444444444,
             "#bd3786"
            ],
            [
             0.5555555555555556,
             "#d8576b"
            ],
            [
             0.6666666666666666,
             "#ed7953"
            ],
            [
             0.7777777777777778,
             "#fb9f3a"
            ],
            [
             0.8888888888888888,
             "#fdca26"
            ],
            [
             1,
             "#f0f921"
            ]
           ],
           "sequentialminus": [
            [
             0,
             "#0d0887"
            ],
            [
             0.1111111111111111,
             "#46039f"
            ],
            [
             0.2222222222222222,
             "#7201a8"
            ],
            [
             0.3333333333333333,
             "#9c179e"
            ],
            [
             0.4444444444444444,
             "#bd3786"
            ],
            [
             0.5555555555555556,
             "#d8576b"
            ],
            [
             0.6666666666666666,
             "#ed7953"
            ],
            [
             0.7777777777777778,
             "#fb9f3a"
            ],
            [
             0.8888888888888888,
             "#fdca26"
            ],
            [
             1,
             "#f0f921"
            ]
           ]
          },
          "colorway": [
           "#636efa",
           "#EF553B",
           "#00cc96",
           "#ab63fa",
           "#FFA15A",
           "#19d3f3",
           "#FF6692",
           "#B6E880",
           "#FF97FF",
           "#FECB52"
          ],
          "font": {
           "color": "#2a3f5f"
          },
          "geo": {
           "bgcolor": "white",
           "lakecolor": "white",
           "landcolor": "#E5ECF6",
           "showlakes": true,
           "showland": true,
           "subunitcolor": "white"
          },
          "hoverlabel": {
           "align": "left"
          },
          "hovermode": "closest",
          "mapbox": {
           "style": "light"
          },
          "paper_bgcolor": "white",
          "plot_bgcolor": "#E5ECF6",
          "polar": {
           "angularaxis": {
            "gridcolor": "white",
            "linecolor": "white",
            "ticks": ""
           },
           "bgcolor": "#E5ECF6",
           "radialaxis": {
            "gridcolor": "white",
            "linecolor": "white",
            "ticks": ""
           }
          },
          "scene": {
           "xaxis": {
            "backgroundcolor": "#E5ECF6",
            "gridcolor": "white",
            "gridwidth": 2,
            "linecolor": "white",
            "showbackground": true,
            "ticks": "",
            "zerolinecolor": "white"
           },
           "yaxis": {
            "backgroundcolor": "#E5ECF6",
            "gridcolor": "white",
            "gridwidth": 2,
            "linecolor": "white",
            "showbackground": true,
            "ticks": "",
            "zerolinecolor": "white"
           },
           "zaxis": {
            "backgroundcolor": "#E5ECF6",
            "gridcolor": "white",
            "gridwidth": 2,
            "linecolor": "white",
            "showbackground": true,
            "ticks": "",
            "zerolinecolor": "white"
           }
          },
          "shapedefaults": {
           "line": {
            "color": "#2a3f5f"
           }
          },
          "ternary": {
           "aaxis": {
            "gridcolor": "white",
            "linecolor": "white",
            "ticks": ""
           },
           "baxis": {
            "gridcolor": "white",
            "linecolor": "white",
            "ticks": ""
           },
           "bgcolor": "#E5ECF6",
           "caxis": {
            "gridcolor": "white",
            "linecolor": "white",
            "ticks": ""
           }
          },
          "title": {
           "x": 0.05
          },
          "xaxis": {
           "automargin": true,
           "gridcolor": "white",
           "linecolor": "white",
           "ticks": "",
           "title": {
            "standoff": 15
           },
           "zerolinecolor": "white",
           "zerolinewidth": 2
          },
          "yaxis": {
           "automargin": true,
           "gridcolor": "white",
           "linecolor": "white",
           "ticks": "",
           "title": {
            "standoff": 15
           },
           "zerolinecolor": "white",
           "zerolinewidth": 2
          }
         }
        },
        "title": {
         "text": "Sample of Random Portfolios"
        },
        "xaxis": {
         "title": {
          "text": "Volatility (Standard Deviation)"
         }
        },
        "yaxis": {
         "title": {
          "text": "Annualized Return"
         }
        }
       }
      }
     },
     "metadata": {},
     "output_type": "display_data"
    }
   ],
   "source": [
    "fig2 = go.Figure()\n",
    "\n",
    "fig2.add_trace(go.Scatter(\n",
    "    x=[np.sqrt(p[\"variance\"]) for p in dominant_portfolios],  # Convert variance to volatility\n",
    "    y=[p[\"return\"] for p in dominant_portfolios],\n",
    "    mode='markers',\n",
    "    marker=dict(\n",
    "        color=[p[\"return\"] / (np.sqrt(p[\"variance\"])) for p in dominant_portfolios],  # Sharpe Ratio\n",
    "        showscale=True,\n",
    "        size=7,\n",
    "        line=dict(width=1),\n",
    "        colorscale=\"RdBu\",\n",
    "        colorbar=dict(title=\"Sharpe<br>Ratio\")\n",
    "    ),\n",
    "    hoverinfo='text',\n",
    "    text=[\n",
    "        f\"Return: {p['return']:.3%}<br>Volatility: {np.sqrt(p['variance']):.3f}<br>\" +\n",
    "        f\"Sharpe Ratio: {p['sharpe']:.3f}<br>\" +\n",
    "        \"<br>\".join([f\"{p['tickers'][i]}: Weight={p['weights'][i]:.3f}\" for i in range(len(p['tickers']))])\n",
    "        for p in dominant_portfolios\n",
    "    ],\n",
    "    name=\"Portfolios\"\n",
    "))\n",
    "\n",
    "fig2.add_trace(go.Scatter(\n",
    "    x=volatility,\n",
    "    y=annualized_returns,\n",
    "    mode='markers',\n",
    "    hoverinfo='text',\n",
    "    hovertext=[\n",
    "        f\"{name} <br>Volatility: {vol:.3f} <br>Returns: {ret:.3%} <br>Sharpe Ratio: {sr:.3f}\"\n",
    "        for name, vol, ret, sr in zip(names, volatility, annualized_returns, sharpe_ratios)\n",
    "    ],\n",
    "    marker=dict(\n",
    "        color='brown',\n",
    "        size=5,\n",
    "        symbol='triangle-up',  # Sets the marker shape to a triangle\n",
    "        line=dict(width=1)\n",
    "    ),\n",
    "    name=\"Individual Assets\"\n",
    "))\n",
    "\n",
    "fig2.update_layout(\n",
    "    title='Sample of Random Portfolios',\n",
    "    xaxis_title='Volatility (Standard Deviation)',\n",
    "    yaxis_title='Annualized Return',\n",
    "    legend=dict(y=5\n",
    "    )\n",
    ")\n",
    "\n",
    "fig2.show()"
   ]
  },
  {
   "cell_type": "markdown",
   "metadata": {
    "id": "6-WDtJTgabDV"
   },
   "source": [
    "## 5.0 Machine Learning Method"
   ]
  },
  {
   "cell_type": "markdown",
   "metadata": {},
   "source": [
    "### 5.1 Optimization Function Only"
   ]
  },
  {
   "cell_type": "code",
   "execution_count": 120,
   "metadata": {
    "colab": {
     "base_uri": "https://localhost:8080/"
    },
    "id": "7xbdm-4NabDV",
    "outputId": "53c0d514-7544-4e8f-9ed5-4af9aa786a56"
   },
   "outputs": [
    {
     "name": "stderr",
     "output_type": "stream",
     "text": [
      "  0%|          | 281/100000 [00:02<11:53, 139.74it/s]"
     ]
    },
    {
     "name": "stdout",
     "output_type": "stream",
     "text": [
      "All assets have been tested\n"
     ]
    },
    {
     "name": "stderr",
     "output_type": "stream",
     "text": [
      "\n"
     ]
    },
    {
     "data": {
      "text/plain": [
       "({'tickers': array(['JPM_Close', 'AMGN_Close', 'SNAP_Close', 'SAP_Close', 'MSFT_Close',\n",
       "         'NVDA_Close', 'KO_Close', 'ETN_Close'], dtype='<U11'),\n",
       "  'weights': array([0.00000000e+00, 1.82560029e-16, 4.93167789e-01, 0.00000000e+00,\n",
       "         9.11328272e-17, 5.06832211e-01, 0.00000000e+00, 0.00000000e+00]),\n",
       "  'return': np.float64(0.9342662036157129),\n",
       "  'variance': np.float64(0.31996445225009845),\n",
       "  'sharpe': np.float64(1.6516566611323205)},\n",
       " {'tickers': ['AMGN_Close',\n",
       "   'SNAP_Close',\n",
       "   'KO_Close',\n",
       "   'TSLA_Close',\n",
       "   'SPOT_Close',\n",
       "   'UBER_Close',\n",
       "   'AMZN_Close',\n",
       "   'RDY_Close'],\n",
       "  'weights': array([7.91179403e-17, 1.03345741e-01, 1.34270120e-16, 3.67509627e-01,\n",
       "         1.31944803e-01, 3.81561688e-16, 3.48873586e-02, 3.62312471e-01]),\n",
       "  'return': np.float64(1.205945225381083),\n",
       "  'variance': np.float64(0.2276271557289407),\n",
       "  'sharpe': np.float64(2.5276419033003377)},\n",
       " 282,\n",
       " 192)"
      ]
     },
     "execution_count": 120,
     "metadata": {},
     "output_type": "execute_result"
    }
   ],
   "source": [
    "def MLRBA_V1(ticker, covariances, returns, num_iterations=None, risk_free_rate = 0, \n",
    "             return_power = 1, std_power = 1, return_weight=1/3, corr_weight=1/3, vol_weight= 1/3, num_assets = 8):\n",
    "    \n",
    "    if num_iterations is None:\n",
    "        num_iterations = min(math.comb(len(ticker), num_assets), 100000)\n",
    "        \n",
    "    base_portfolio = np.random.choice(list(ticker), num_assets, replace=False)\n",
    "    #base_portfolio = list(ticker)[:num_assets]\n",
    "    highest_weighted_sharpe = -np.inf\n",
    "\n",
    "    all_portfolios = []\n",
    "\n",
    "    tested_assets = set()\n",
    "    best_iteration = 0\n",
    "\n",
    "    def _get_portfolio_stats (portfolio_assets, risk_free_rate = 0):\n",
    "        p_asset_ret = returns.loc[portfolio_assets].values\n",
    "        p_asset_var = covariances.loc[portfolio_assets, portfolio_assets].values\n",
    "        best_p_weights = maximize_sharpe(p_asset_ret, p_asset_var)\n",
    "        p_ret = np.dot(best_p_weights,p_asset_ret)\n",
    "        p_var = np.dot(best_p_weights, p_asset_var @ best_p_weights)\n",
    "        sharpe = get_sharpe_ratio(p_ret, p_var, risk_free_rate, return_power, std_power)\n",
    "\n",
    "        return p_asset_ret, p_asset_var, sharpe, p_ret, p_var, best_p_weights\n",
    "\n",
    "    def _update_portfolios_array(portfolios, assets, weights, p_ret, p_var):\n",
    "        portfolios.append({\n",
    "            \"tickers\": assets,\n",
    "            \"weights\": weights,\n",
    "            \"return\": p_ret,\n",
    "            \"variance\": p_var,\n",
    "            \"sharpe\": (p_ret-risk_free_rate)/np.sqrt(p_var),\n",
    "        })\n",
    "\n",
    "    curr_ret, curr_var, curr_weighted_sharpe, curr_p_return, curr_p_variance, curr_p_weights = _get_portfolio_stats(base_portfolio, risk_free_rate)\n",
    "    _update_portfolios_array(all_portfolios, base_portfolio, curr_p_weights, curr_p_return, curr_p_variance)\n",
    "\n",
    "    good_portfolios = all_portfolios.copy()\n",
    "    best_portfolio = base_portfolio.copy()\n",
    "\n",
    "    highest_weighted_sharpe = curr_weighted_sharpe\n",
    "    for i in tqdm(range(num_iterations)):\n",
    "        asset_to_remove = find_best_asset_to_remove(best_portfolio, curr_var, curr_ret)     #most_correlated_asset, _, _ = find_correlation_matrix(portfolio, curr_variances)\n",
    "        new_portfolio = [str(asset) for asset in best_portfolio if asset != asset_to_remove]\n",
    "\n",
    "        ranked_assets = find_asset_to_add(new_portfolio, ticker, covariances, returns, return_weight, corr_weight, vol_weight)         # Find the next best asset to add to the portfolio\n",
    "        asset_to_add = ranked_assets.index[0]\n",
    "\n",
    "        for asset in ranked_assets.index:\n",
    "            if asset not in tested_assets:\n",
    "                asset_to_add = asset\n",
    "                break\n",
    "\n",
    "        new_portfolio.append(asset_to_add)\n",
    "        tested_assets.add(asset_to_add)\n",
    "\n",
    "        if len(tested_assets) >= len(ticker) - num_assets:\n",
    "            print(\"All assets have been tested\")\n",
    "            break\n",
    "\n",
    "        # Substitute in and measure portfolio performance based on sharpe ratio\n",
    "        new_returns, new_var, new_weighted_sharpe, new_p_return, new_p_variance, new_p_weights = _get_portfolio_stats(new_portfolio, risk_free_rate)\n",
    "\n",
    "        _update_portfolios_array(all_portfolios, new_portfolio, new_p_weights, new_p_return, new_p_variance)\n",
    "\n",
    "        if new_weighted_sharpe > highest_weighted_sharpe:\n",
    "            highest_weighted_sharpe = new_weighted_sharpe\n",
    "            best_portfolio = new_portfolio\n",
    "            curr_ret, curr_var = new_returns, new_var\n",
    "            best_iteration = i  # Update the best iteration\n",
    "\n",
    "            _update_portfolios_array(good_portfolios, new_portfolio, new_p_weights, new_p_return, new_p_variance)\n",
    "\n",
    "            tested_assets.clear()\n",
    "\n",
    "        # If Sharpe ratio was worse, then move on to the next least correlated asset\n",
    "        # If Sharpe ratio is better, set as new base portfolio, and repeat the process for num_iterations times\n",
    "        # Adjust the sharpe ratio, maybe more emphasis on returns/volatility\n",
    "        # Update weights to value return or corr\n",
    "        # See how many iterations it takes to get here, whats a good threshold/stopping point\n",
    "        # Backtesting\n",
    "        # Train a model to maybe predict the sharpe ratio of a portfolio\n",
    "\n",
    "    base_details = good_portfolios[0]\n",
    "    best_details = good_portfolios[-1]\n",
    "\n",
    "    return base_details, best_details, good_portfolios, all_portfolios, best_iteration  \n",
    "\n",
    "base_portfolio, best_portfolio, good_portfolios, total_portfolios, best_iteration = MLRBA_V1(names, cov, annualized_returns)\n",
    "base_portfolio, best_portfolio, len(total_portfolios), best_iteration"
   ]
  },
  {
   "cell_type": "code",
   "execution_count": 121,
   "metadata": {
    "colab": {
     "base_uri": "https://localhost:8080/",
     "height": 542
    },
    "id": "Znh8vrYQabDW",
    "outputId": "f770bd56-eace-405c-a8c0-a1d835201f64"
   },
   "outputs": [
    {
     "data": {
      "application/vnd.plotly.v1+json": {
       "config": {
        "plotlyServerURL": "https://plot.ly"
       },
       "data": [
        {
         "hoverinfo": "text",
         "marker": {
          "color": [
           1.6516566611323205,
           2.4195251737173877,
           2.419525173796262,
           2.419525173796262,
           2.4279316207640433,
           2.4279316207383284,
           2.427931646952608,
           2.4279316207383284,
           2.427931646952608,
           2.4279316330889356,
           2.4279316616466535,
           2.4279316207383284,
           2.427931646952608,
           2.4279316330889356,
           2.4279316616466535,
           2.4279316387742296,
           2.427931628299234,
           2.427931613829016,
           2.4279316190532505,
           2.42793161343461,
           2.4279316119530963,
           2.427931626851373,
           2.427931604636603,
           2.4279316082561926,
           2.427931611933847,
           2.427931633065857,
           2.4279316117403953,
           2.4279316322427014,
           2.427931615917617,
           2.4279316039337844,
           2.4279316370180126,
           2.4279316175416525,
           2.4279316269280455,
           2.4279316374381157,
           2.427931637611097,
           2.4279316179993398,
           2.427931610098076,
           2.427931611010834,
           2.427931616173192,
           2.4279316262509543,
           2.4279316439898264,
           2.4279316179027273,
           2.4279316355562,
           2.427931615843307,
           2.427931603685877,
           2.4279316212954174,
           2.4279316320809365,
           2.4279316113191687,
           2.4279316162785474,
           2.427931613754078,
           2.4279316200631063,
           2.4279316040236156,
           2.427931609018043,
           2.4279316375191526,
           2.4279316290373494,
           2.427931639179376,
           2.427931597642589,
           2.4279316447395014,
           2.4279316353638287,
           2.427931598382163,
           2.4279315930384993,
           2.4279316043826005,
           2.4279316122183596,
           2.4517092681254127,
           2.451709268524207,
           2.451709268524207,
           2.451709267291006,
           2.451709268427417,
           2.4517092697739926,
           2.451709268524207,
           2.451709267291006,
           2.451709268427417,
           2.4517092697739926,
           2.451709270597265,
           2.4490072876967077,
           2.4490072774267286,
           2.4517092705993035,
           2.4490072876967077,
           2.4490072774267286,
           2.4517092705993035,
           2.449007283583575,
           2.449006887072193,
           2.4490072850151394,
           2.449007289182728,
           2.449007292945944,
           2.4490072887900967,
           2.4490072904727844,
           2.4490072906737597,
           2.449007286219673,
           2.4490072829526337,
           2.4490072837049355,
           2.449007283134757,
           2.449007283130735,
           2.4490072924656356,
           2.449007291339888,
           2.4490072953372617,
           2.4490072861476917,
           2.4490072934285267,
           2.4490072938748444,
           2.4490072962169336,
           2.449007291026763,
           2.4490072951360102,
           2.4490072952061444,
           2.4490072830165017,
           2.449007281712537,
           2.449007279276008,
           2.449007288250819,
           2.449007288243194,
           2.4490072876923126,
           2.449007291195874,
           2.4490072901135806,
           2.44900729557704,
           2.4490072847085322,
           2.4490072932255105,
           2.4490072872603776,
           2.4490072865440218,
           2.4490072816277553,
           2.4490072899712025,
           2.449007280137147,
           2.4490072912352323,
           2.4490072837110177,
           2.449007293144149,
           2.4547810663285463,
           2.4547811030769475,
           2.4547811030769475,
           2.4547812416504713,
           2.4547811030769475,
           2.4547812416504713,
           2.455168552307319,
           2.4547811030769475,
           2.4547812416504713,
           2.455168552307319,
           2.454781151956015,
           2.4547810179323255,
           2.454781086924717,
           2.4547810763737696,
           2.454781072629467,
           2.4547812717370228,
           2.4547811353366664,
           2.454781168393289,
           2.4547810765902183,
           2.454781487287619,
           2.454781143565408,
           2.4547814879395533,
           2.454781487918968,
           2.4547810001338823,
           2.4547810150784826,
           2.4547811490232645,
           2.454781077679065,
           2.4547811582041046,
           2.454781487413741,
           2.4547811645311546,
           2.454781148797402,
           2.4547810791301212,
           2.454781106718031,
           2.4547809620854832,
           2.4547811508401103,
           2.454781185945008,
           2.4547811864753672,
           2.4547810512974926,
           2.454781209293028,
           2.4547814854642915,
           2.454781102214182,
           2.4547810605318645,
           2.45478111307168,
           2.4547810259278093,
           2.4547810873663582,
           2.454781161711459,
           2.454781476929678,
           2.4547809925216355,
           2.4547811318018766,
           2.454781486856744,
           2.4547810082613215,
           2.4547811258781085,
           2.4547811768565087,
           2.454781201006559,
           2.454781058733033,
           2.45478119861398,
           2.454781487471391,
           2.45478106635325,
           2.454780984382836,
           2.454781022195503,
           2.454781120942857,
           2.454781195070902,
           2.4547810144252575,
           2.454781487966221,
           2.4547810851019105,
           2.4547810760430306,
           2.4547814754123607,
           2.45478103595646,
           2.4547809904671594,
           2.454781487142123,
           2.454781487884504,
           2.5276419033003377,
           2.5276419032992266,
           2.0754101066791266,
           2.07541004597628,
           2.075410898357555,
           2.0754102935088294,
           2.075410293510883,
           2.075410038172398,
           2.0754102935167813,
           2.0754102935074354,
           2.075410293443346,
           2.075410277830661,
           2.0754099280325784,
           2.0754102935093757,
           2.075410293361716,
           2.0754102935065792,
           2.0754102935223173,
           2.0754102931499396,
           2.075410293391848,
           2.075409996386557,
           2.0754099963165933,
           2.0754100042674994,
           2.075410240955983,
           2.0754102935177556,
           2.075410293516325,
           2.0754101119642496,
           2.0754102525977918,
           2.075409892083399,
           2.075409844288035,
           2.0754102934405467,
           2.0754102935105014,
           2.0754102058818154,
           2.0754102339246376,
           2.0754100672410294,
           2.075410264933963,
           2.0754098308360414,
           2.0754101457627714,
           2.0754099346470127,
           2.0754101432891274,
           2.0754098267538015,
           2.0754102934291763,
           2.0754099977971476,
           2.0754100279457273,
           2.0754101160436607,
           2.075410293260777,
           2.075410140762852,
           2.0754099109947166,
           2.0754097959431417,
           2.075410272586963,
           2.0754102933268594,
           2.075410041035786,
           2.0754101463868664,
           2.075409905023221,
           2.075410259973645,
           2.0754099324069437,
           2.075410293513594,
           2.075410187017344,
           2.0754102935116623,
           2.0754100273324543,
           2.075410002600511,
           2.075410293513332,
           2.075410245382363,
           2.0754102935038206,
           2.0754102933334333,
           2.075410293438404,
           2.0754101862579817,
           2.0754102933530376,
           2.0754102932046306,
           2.0754102637119347,
           2.075410293523354,
           2.0754099740691943,
           2.0754101195574512,
           2.0754102934038254,
           2.0754099976804175,
           2.075409864845125,
           2.075410293419142,
           2.075410293515432,
           2.0754102933380305,
           2.0754102934730914,
           2.0754102935137357,
           2.0754100549525614,
           2.075409862630732,
           2.075410293513629,
           2.075410293313886,
           2.0754100098990387,
           2.0754102935190684,
           2.0754102933575935,
           2.0754101961214446,
           2.0754100153578476
          ],
          "colorbar": {
           "title": {
            "text": "Sharpe<br>Ratio"
           }
          },
          "colorscale": [
           [
            0,
            "rgb(103,0,31)"
           ],
           [
            0.1,
            "rgb(178,24,43)"
           ],
           [
            0.2,
            "rgb(214,96,77)"
           ],
           [
            0.3,
            "rgb(244,165,130)"
           ],
           [
            0.4,
            "rgb(253,219,199)"
           ],
           [
            0.5,
            "rgb(247,247,247)"
           ],
           [
            0.6,
            "rgb(209,229,240)"
           ],
           [
            0.7,
            "rgb(146,197,222)"
           ],
           [
            0.8,
            "rgb(67,147,195)"
           ],
           [
            0.9,
            "rgb(33,102,172)"
           ],
           [
            1,
            "rgb(5,48,97)"
           ]
          ],
          "line": {
           "width": 1
          },
          "showscale": true,
          "size": 7
         },
         "mode": "markers",
         "name": "Portfolios",
         "text": [
          "Return: 93.427%<br>Volatility: 0.566<br>Sharpe Ratio: 1.652<br>JPM_Close: Weight=0.000<br>AMGN_Close: Weight=0.000<br>SNAP_Close: Weight=0.493<br>SAP_Close: Weight=0.000<br>MSFT_Close: Weight=0.000<br>NVDA_Close: Weight=0.507<br>KO_Close: Weight=0.000<br>ETN_Close: Weight=0.000",
          "Return: 180.629%<br>Volatility: 0.747<br>Sharpe Ratio: 2.420<br>AMGN_Close: Weight=0.000<br>SNAP_Close: Weight=0.287<br>SAP_Close: Weight=0.000<br>MSFT_Close: Weight=0.000<br>NVDA_Close: Weight=0.000<br>KO_Close: Weight=0.000<br>ETN_Close: Weight=0.000<br>TSLA_Close: Weight=0.713",
          "Return: 180.629%<br>Volatility: 0.747<br>Sharpe Ratio: 2.420<br>AMGN_Close: Weight=0.000<br>SNAP_Close: Weight=0.287<br>SAP_Close: Weight=0.000<br>NVDA_Close: Weight=0.000<br>KO_Close: Weight=0.000<br>ETN_Close: Weight=0.000<br>TSLA_Close: Weight=0.713<br>LYFT_Close: Weight=0.000",
          "Return: 180.629%<br>Volatility: 0.747<br>Sharpe Ratio: 2.420<br>AMGN_Close: Weight=0.000<br>SNAP_Close: Weight=0.287<br>SAP_Close: Weight=0.000<br>NVDA_Close: Weight=0.000<br>KO_Close: Weight=0.000<br>ETN_Close: Weight=0.000<br>TSLA_Close: Weight=0.713<br>LYFT_Close: Weight=0.000",
          "Return: 168.406%<br>Volatility: 0.694<br>Sharpe Ratio: 2.428<br>AMGN_Close: Weight=0.000<br>SNAP_Close: Weight=0.228<br>SAP_Close: Weight=0.000<br>NVDA_Close: Weight=0.000<br>KO_Close: Weight=0.000<br>ETN_Close: Weight=0.000<br>TSLA_Close: Weight=0.638<br>PYPL_Close: Weight=0.134",
          "Return: 168.406%<br>Volatility: 0.694<br>Sharpe Ratio: 2.428<br>AMGN_Close: Weight=0.000<br>SNAP_Close: Weight=0.228<br>SAP_Close: Weight=0.000<br>KO_Close: Weight=0.000<br>ETN_Close: Weight=0.000<br>TSLA_Close: Weight=0.638<br>PYPL_Close: Weight=0.134<br>NVDA_Close: Weight=0.000",
          "Return: 168.409%<br>Volatility: 0.694<br>Sharpe Ratio: 2.428<br>AMGN_Close: Weight=0.000<br>SNAP_Close: Weight=0.228<br>SAP_Close: Weight=0.000<br>KO_Close: Weight=0.000<br>ETN_Close: Weight=0.000<br>TSLA_Close: Weight=0.638<br>PYPL_Close: Weight=0.134<br>LYFT_Close: Weight=0.000",
          "Return: 168.406%<br>Volatility: 0.694<br>Sharpe Ratio: 2.428<br>AMGN_Close: Weight=0.000<br>SNAP_Close: Weight=0.228<br>SAP_Close: Weight=0.000<br>KO_Close: Weight=0.000<br>ETN_Close: Weight=0.000<br>TSLA_Close: Weight=0.638<br>PYPL_Close: Weight=0.134<br>NVDA_Close: Weight=0.000",
          "Return: 168.409%<br>Volatility: 0.694<br>Sharpe Ratio: 2.428<br>AMGN_Close: Weight=0.000<br>SNAP_Close: Weight=0.228<br>SAP_Close: Weight=0.000<br>KO_Close: Weight=0.000<br>ETN_Close: Weight=0.000<br>TSLA_Close: Weight=0.638<br>PYPL_Close: Weight=0.134<br>LYFT_Close: Weight=0.000",
          "Return: 168.407%<br>Volatility: 0.694<br>Sharpe Ratio: 2.428<br>AMGN_Close: Weight=0.000<br>SNAP_Close: Weight=0.228<br>SAP_Close: Weight=0.000<br>KO_Close: Weight=0.000<br>ETN_Close: Weight=0.000<br>TSLA_Close: Weight=0.638<br>PYPL_Close: Weight=0.134<br>MS_Close: Weight=0.000",
          "Return: 168.411%<br>Volatility: 0.694<br>Sharpe Ratio: 2.428<br>AMGN_Close: Weight=0.000<br>SNAP_Close: Weight=0.229<br>SAP_Close: Weight=0.000<br>KO_Close: Weight=0.000<br>ETN_Close: Weight=0.000<br>TSLA_Close: Weight=0.638<br>PYPL_Close: Weight=0.134<br>BA_Close: Weight=0.000",
          "Return: 168.406%<br>Volatility: 0.694<br>Sharpe Ratio: 2.428<br>AMGN_Close: Weight=0.000<br>SNAP_Close: Weight=0.228<br>SAP_Close: Weight=0.000<br>KO_Close: Weight=0.000<br>ETN_Close: Weight=0.000<br>TSLA_Close: Weight=0.638<br>PYPL_Close: Weight=0.134<br>NVDA_Close: Weight=0.000",
          "Return: 168.409%<br>Volatility: 0.694<br>Sharpe Ratio: 2.428<br>AMGN_Close: Weight=0.000<br>SNAP_Close: Weight=0.228<br>SAP_Close: Weight=0.000<br>KO_Close: Weight=0.000<br>ETN_Close: Weight=0.000<br>TSLA_Close: Weight=0.638<br>PYPL_Close: Weight=0.134<br>LYFT_Close: Weight=0.000",
          "Return: 168.407%<br>Volatility: 0.694<br>Sharpe Ratio: 2.428<br>AMGN_Close: Weight=0.000<br>SNAP_Close: Weight=0.228<br>SAP_Close: Weight=0.000<br>KO_Close: Weight=0.000<br>ETN_Close: Weight=0.000<br>TSLA_Close: Weight=0.638<br>PYPL_Close: Weight=0.134<br>MS_Close: Weight=0.000",
          "Return: 168.411%<br>Volatility: 0.694<br>Sharpe Ratio: 2.428<br>AMGN_Close: Weight=0.000<br>SNAP_Close: Weight=0.229<br>SAP_Close: Weight=0.000<br>KO_Close: Weight=0.000<br>ETN_Close: Weight=0.000<br>TSLA_Close: Weight=0.638<br>PYPL_Close: Weight=0.134<br>BA_Close: Weight=0.000",
          "Return: 168.406%<br>Volatility: 0.694<br>Sharpe Ratio: 2.428<br>AMGN_Close: Weight=0.000<br>SNAP_Close: Weight=0.228<br>SAP_Close: Weight=0.000<br>KO_Close: Weight=0.000<br>ETN_Close: Weight=0.000<br>TSLA_Close: Weight=0.638<br>PYPL_Close: Weight=0.134<br>UBER_Close: Weight=0.000",
          "Return: 168.406%<br>Volatility: 0.694<br>Sharpe Ratio: 2.428<br>AMGN_Close: Weight=0.000<br>SNAP_Close: Weight=0.228<br>SAP_Close: Weight=0.000<br>KO_Close: Weight=0.000<br>ETN_Close: Weight=0.000<br>TSLA_Close: Weight=0.638<br>PYPL_Close: Weight=0.134<br>AMD_Close: Weight=0.000",
          "Return: 168.405%<br>Volatility: 0.694<br>Sharpe Ratio: 2.428<br>AMGN_Close: Weight=0.000<br>SNAP_Close: Weight=0.228<br>SAP_Close: Weight=0.000<br>KO_Close: Weight=0.000<br>ETN_Close: Weight=0.000<br>TSLA_Close: Weight=0.638<br>PYPL_Close: Weight=0.134<br>QCOM_Close: Weight=0.000",
          "Return: 168.405%<br>Volatility: 0.694<br>Sharpe Ratio: 2.428<br>AMGN_Close: Weight=0.000<br>SNAP_Close: Weight=0.228<br>SAP_Close: Weight=0.000<br>KO_Close: Weight=0.000<br>ETN_Close: Weight=0.000<br>TSLA_Close: Weight=0.638<br>PYPL_Close: Weight=0.134<br>AAPL_Close: Weight=0.000",
          "Return: 168.405%<br>Volatility: 0.694<br>Sharpe Ratio: 2.428<br>AMGN_Close: Weight=0.000<br>SNAP_Close: Weight=0.228<br>SAP_Close: Weight=0.000<br>KO_Close: Weight=0.000<br>ETN_Close: Weight=0.000<br>TSLA_Close: Weight=0.638<br>PYPL_Close: Weight=0.134<br>ISRG_Close: Weight=0.000",
          "Return: 168.405%<br>Volatility: 0.694<br>Sharpe Ratio: 2.428<br>AMGN_Close: Weight=0.000<br>SNAP_Close: Weight=0.228<br>SAP_Close: Weight=0.000<br>KO_Close: Weight=0.000<br>ETN_Close: Weight=0.000<br>TSLA_Close: Weight=0.638<br>PYPL_Close: Weight=0.134<br>MSFT_Close: Weight=0.000",
          "Return: 168.406%<br>Volatility: 0.694<br>Sharpe Ratio: 2.428<br>AMGN_Close: Weight=0.000<br>SNAP_Close: Weight=0.228<br>SAP_Close: Weight=0.000<br>KO_Close: Weight=0.000<br>ETN_Close: Weight=0.000<br>TSLA_Close: Weight=0.638<br>PYPL_Close: Weight=0.134<br>MA_Close: Weight=0.000",
          "Return: 168.403%<br>Volatility: 0.694<br>Sharpe Ratio: 2.428<br>AMGN_Close: Weight=0.000<br>SNAP_Close: Weight=0.228<br>SAP_Close: Weight=0.000<br>KO_Close: Weight=0.000<br>ETN_Close: Weight=0.000<br>TSLA_Close: Weight=0.638<br>PYPL_Close: Weight=0.134<br>ADBE_Close: Weight=0.000",
          "Return: 168.404%<br>Volatility: 0.694<br>Sharpe Ratio: 2.428<br>AMGN_Close: Weight=0.000<br>SNAP_Close: Weight=0.228<br>SAP_Close: Weight=0.000<br>KO_Close: Weight=0.000<br>ETN_Close: Weight=0.000<br>TSLA_Close: Weight=0.638<br>PYPL_Close: Weight=0.134<br>HD_Close: Weight=0.000",
          "Return: 168.404%<br>Volatility: 0.694<br>Sharpe Ratio: 2.428<br>AMGN_Close: Weight=0.000<br>SNAP_Close: Weight=0.228<br>SAP_Close: Weight=0.000<br>KO_Close: Weight=0.000<br>ETN_Close: Weight=0.000<br>TSLA_Close: Weight=0.638<br>PYPL_Close: Weight=0.134<br>V_Close: Weight=0.000",
          "Return: 168.407%<br>Volatility: 0.694<br>Sharpe Ratio: 2.428<br>AMGN_Close: Weight=0.000<br>SNAP_Close: Weight=0.228<br>SAP_Close: Weight=0.000<br>KO_Close: Weight=0.000<br>ETN_Close: Weight=0.000<br>TSLA_Close: Weight=0.638<br>PYPL_Close: Weight=0.134<br>GS_Close: Weight=0.000",
          "Return: 168.399%<br>Volatility: 0.694<br>Sharpe Ratio: 2.428<br>AMGN_Close: Weight=0.000<br>SNAP_Close: Weight=0.228<br>SAP_Close: Weight=0.000<br>KO_Close: Weight=0.000<br>ETN_Close: Weight=0.000<br>TSLA_Close: Weight=0.638<br>PYPL_Close: Weight=0.134<br>ACN_Close: Weight=0.000",
          "Return: 168.407%<br>Volatility: 0.694<br>Sharpe Ratio: 2.428<br>AMGN_Close: Weight=0.000<br>SNAP_Close: Weight=0.228<br>SAP_Close: Weight=0.000<br>KO_Close: Weight=0.000<br>ETN_Close: Weight=0.000<br>TSLA_Close: Weight=0.638<br>PYPL_Close: Weight=0.134<br>GM_Close: Weight=0.000",
          "Return: 168.400%<br>Volatility: 0.694<br>Sharpe Ratio: 2.428<br>AMGN_Close: Weight=0.000<br>SNAP_Close: Weight=0.228<br>SAP_Close: Weight=0.000<br>KO_Close: Weight=0.000<br>ETN_Close: Weight=0.000<br>TSLA_Close: Weight=0.638<br>PYPL_Close: Weight=0.134<br>DE_Close: Weight=0.000",
          "Return: 168.403%<br>Volatility: 0.694<br>Sharpe Ratio: 2.428<br>AMGN_Close: Weight=0.000<br>SNAP_Close: Weight=0.228<br>SAP_Close: Weight=0.000<br>KO_Close: Weight=0.000<br>ETN_Close: Weight=0.000<br>TSLA_Close: Weight=0.638<br>PYPL_Close: Weight=0.134<br>TXN_Close: Weight=0.000",
          "Return: 168.407%<br>Volatility: 0.694<br>Sharpe Ratio: 2.428<br>AMGN_Close: Weight=0.000<br>SNAP_Close: Weight=0.228<br>SAP_Close: Weight=0.000<br>KO_Close: Weight=0.000<br>ETN_Close: Weight=0.000<br>TSLA_Close: Weight=0.638<br>PYPL_Close: Weight=0.134<br>SYY_Close: Weight=0.000",
          "Return: 168.405%<br>Volatility: 0.694<br>Sharpe Ratio: 2.428<br>AMGN_Close: Weight=0.000<br>SNAP_Close: Weight=0.228<br>SAP_Close: Weight=0.000<br>KO_Close: Weight=0.000<br>ETN_Close: Weight=0.000<br>TSLA_Close: Weight=0.638<br>PYPL_Close: Weight=0.134<br>SYK_Close: Weight=0.000",
          "Return: 168.406%<br>Volatility: 0.694<br>Sharpe Ratio: 2.428<br>AMGN_Close: Weight=0.000<br>SNAP_Close: Weight=0.228<br>SAP_Close: Weight=0.000<br>KO_Close: Weight=0.000<br>ETN_Close: Weight=0.000<br>TSLA_Close: Weight=0.638<br>PYPL_Close: Weight=0.134<br>CRM_Close: Weight=0.000",
          "Return: 168.408%<br>Volatility: 0.694<br>Sharpe Ratio: 2.428<br>AMGN_Close: Weight=0.000<br>SNAP_Close: Weight=0.228<br>SAP_Close: Weight=0.000<br>KO_Close: Weight=0.000<br>ETN_Close: Weight=0.000<br>TSLA_Close: Weight=0.638<br>PYPL_Close: Weight=0.134<br>BAC_Close: Weight=0.000",
          "Return: 168.408%<br>Volatility: 0.694<br>Sharpe Ratio: 2.428<br>AMGN_Close: Weight=0.000<br>SNAP_Close: Weight=0.228<br>SAP_Close: Weight=0.000<br>KO_Close: Weight=0.000<br>ETN_Close: Weight=0.000<br>TSLA_Close: Weight=0.638<br>PYPL_Close: Weight=0.134<br>EMR_Close: Weight=0.000",
          "Return: 168.405%<br>Volatility: 0.694<br>Sharpe Ratio: 2.428<br>AMGN_Close: Weight=0.000<br>SNAP_Close: Weight=0.228<br>SAP_Close: Weight=0.000<br>KO_Close: Weight=0.000<br>ETN_Close: Weight=0.000<br>TSLA_Close: Weight=0.638<br>PYPL_Close: Weight=0.134<br>UNH_Close: Weight=0.000",
          "Return: 168.399%<br>Volatility: 0.694<br>Sharpe Ratio: 2.428<br>AMGN_Close: Weight=0.000<br>SNAP_Close: Weight=0.228<br>SAP_Close: Weight=0.000<br>KO_Close: Weight=0.000<br>ETN_Close: Weight=0.000<br>TSLA_Close: Weight=0.638<br>PYPL_Close: Weight=0.134<br>GOOGL_Close: Weight=0.000",
          "Return: 168.399%<br>Volatility: 0.694<br>Sharpe Ratio: 2.428<br>AMGN_Close: Weight=0.000<br>SNAP_Close: Weight=0.228<br>SAP_Close: Weight=0.000<br>KO_Close: Weight=0.000<br>ETN_Close: Weight=0.000<br>TSLA_Close: Weight=0.638<br>PYPL_Close: Weight=0.134<br>GOOG_Close: Weight=0.000",
          "Return: 168.405%<br>Volatility: 0.694<br>Sharpe Ratio: 2.428<br>AMGN_Close: Weight=0.000<br>SNAP_Close: Weight=0.228<br>SAP_Close: Weight=0.000<br>KO_Close: Weight=0.000<br>ETN_Close: Weight=0.000<br>TSLA_Close: Weight=0.638<br>PYPL_Close: Weight=0.134<br>EXC_Close: Weight=0.000",
          "Return: 168.406%<br>Volatility: 0.694<br>Sharpe Ratio: 2.428<br>AMGN_Close: Weight=0.000<br>SNAP_Close: Weight=0.228<br>SAP_Close: Weight=0.000<br>KO_Close: Weight=0.000<br>ETN_Close: Weight=0.000<br>TSLA_Close: Weight=0.638<br>PYPL_Close: Weight=0.134<br>JPM_Close: Weight=0.000",
          "Return: 168.408%<br>Volatility: 0.694<br>Sharpe Ratio: 2.428<br>AMGN_Close: Weight=0.000<br>SNAP_Close: Weight=0.228<br>SAP_Close: Weight=0.000<br>KO_Close: Weight=0.000<br>ETN_Close: Weight=0.000<br>TSLA_Close: Weight=0.638<br>PYPL_Close: Weight=0.134<br>CVX_Close: Weight=0.000",
          "Return: 168.405%<br>Volatility: 0.694<br>Sharpe Ratio: 2.428<br>AMGN_Close: Weight=0.000<br>SNAP_Close: Weight=0.228<br>SAP_Close: Weight=0.000<br>KO_Close: Weight=0.000<br>ETN_Close: Weight=0.000<br>TSLA_Close: Weight=0.638<br>PYPL_Close: Weight=0.134<br>HON_Close: Weight=0.000",
          "Return: 168.392%<br>Volatility: 0.694<br>Sharpe Ratio: 2.428<br>AMGN_Close: Weight=0.000<br>SNAP_Close: Weight=0.228<br>SAP_Close: Weight=0.000<br>KO_Close: Weight=0.000<br>ETN_Close: Weight=0.000<br>TSLA_Close: Weight=0.638<br>PYPL_Close: Weight=0.134<br>META_Close: Weight=0.000",
          "Return: 168.405%<br>Volatility: 0.694<br>Sharpe Ratio: 2.428<br>AMGN_Close: Weight=0.000<br>SNAP_Close: Weight=0.228<br>SAP_Close: Weight=0.000<br>KO_Close: Weight=0.000<br>ETN_Close: Weight=0.000<br>TSLA_Close: Weight=0.638<br>PYPL_Close: Weight=0.134<br>DIS_Close: Weight=0.000",
          "Return: 168.404%<br>Volatility: 0.694<br>Sharpe Ratio: 2.428<br>AMGN_Close: Weight=0.000<br>SNAP_Close: Weight=0.228<br>SAP_Close: Weight=0.000<br>KO_Close: Weight=0.000<br>ETN_Close: Weight=0.000<br>TSLA_Close: Weight=0.638<br>PYPL_Close: Weight=0.134<br>RMD_Close: Weight=0.000",
          "Return: 168.397%<br>Volatility: 0.694<br>Sharpe Ratio: 2.428<br>AMGN_Close: Weight=0.000<br>SNAP_Close: Weight=0.228<br>SAP_Close: Weight=0.000<br>KO_Close: Weight=0.000<br>ETN_Close: Weight=0.000<br>TSLA_Close: Weight=0.638<br>PYPL_Close: Weight=0.134<br>NKE_Close: Weight=0.000",
          "Return: 168.407%<br>Volatility: 0.694<br>Sharpe Ratio: 2.428<br>AMGN_Close: Weight=0.000<br>SNAP_Close: Weight=0.228<br>SAP_Close: Weight=0.000<br>KO_Close: Weight=0.000<br>ETN_Close: Weight=0.000<br>TSLA_Close: Weight=0.638<br>PYPL_Close: Weight=0.134<br>GE_Close: Weight=0.000",
          "Return: 168.403%<br>Volatility: 0.694<br>Sharpe Ratio: 2.428<br>AMGN_Close: Weight=0.000<br>SNAP_Close: Weight=0.228<br>SAP_Close: Weight=0.000<br>KO_Close: Weight=0.000<br>ETN_Close: Weight=0.000<br>TSLA_Close: Weight=0.638<br>PYPL_Close: Weight=0.134<br>MCD_Close: Weight=0.000",
          "Return: 168.405%<br>Volatility: 0.694<br>Sharpe Ratio: 2.428<br>AMGN_Close: Weight=0.000<br>SNAP_Close: Weight=0.228<br>SAP_Close: Weight=0.000<br>KO_Close: Weight=0.000<br>ETN_Close: Weight=0.000<br>TSLA_Close: Weight=0.638<br>PYPL_Close: Weight=0.134<br>INTC_Close: Weight=0.000",
          "Return: 168.404%<br>Volatility: 0.694<br>Sharpe Ratio: 2.428<br>AMGN_Close: Weight=0.000<br>SNAP_Close: Weight=0.228<br>SAP_Close: Weight=0.000<br>KO_Close: Weight=0.000<br>ETN_Close: Weight=0.000<br>TSLA_Close: Weight=0.638<br>PYPL_Close: Weight=0.134<br>MDT_Close: Weight=0.000",
          "Return: 168.406%<br>Volatility: 0.694<br>Sharpe Ratio: 2.428<br>AMGN_Close: Weight=0.000<br>SNAP_Close: Weight=0.228<br>SAP_Close: Weight=0.000<br>KO_Close: Weight=0.000<br>ETN_Close: Weight=0.000<br>TSLA_Close: Weight=0.638<br>PYPL_Close: Weight=0.134<br>EW_Close: Weight=0.000",
          "Return: 168.401%<br>Volatility: 0.694<br>Sharpe Ratio: 2.428<br>AMGN_Close: Weight=0.000<br>SNAP_Close: Weight=0.228<br>SAP_Close: Weight=0.000<br>KO_Close: Weight=0.000<br>ETN_Close: Weight=0.000<br>TSLA_Close: Weight=0.638<br>PYPL_Close: Weight=0.134<br>NEE_Close: Weight=0.000",
          "Return: 168.403%<br>Volatility: 0.694<br>Sharpe Ratio: 2.428<br>AMGN_Close: Weight=0.000<br>SNAP_Close: Weight=0.228<br>SAP_Close: Weight=0.000<br>KO_Close: Weight=0.000<br>ETN_Close: Weight=0.000<br>TSLA_Close: Weight=0.638<br>PYPL_Close: Weight=0.134<br>CAT_Close: Weight=0.000",
          "Return: 168.408%<br>Volatility: 0.694<br>Sharpe Ratio: 2.428<br>AMGN_Close: Weight=0.000<br>SNAP_Close: Weight=0.228<br>SAP_Close: Weight=0.000<br>KO_Close: Weight=0.000<br>ETN_Close: Weight=0.000<br>TSLA_Close: Weight=0.638<br>PYPL_Close: Weight=0.134<br>F_Close: Weight=0.000",
          "Return: 168.406%<br>Volatility: 0.694<br>Sharpe Ratio: 2.428<br>AMGN_Close: Weight=0.000<br>SNAP_Close: Weight=0.228<br>SAP_Close: Weight=0.000<br>KO_Close: Weight=0.000<br>ETN_Close: Weight=0.000<br>TSLA_Close: Weight=0.638<br>PYPL_Close: Weight=0.134<br>UA_Close: Weight=0.000",
          "Return: 168.408%<br>Volatility: 0.694<br>Sharpe Ratio: 2.428<br>AMGN_Close: Weight=0.000<br>SNAP_Close: Weight=0.228<br>SAP_Close: Weight=0.000<br>KO_Close: Weight=0.000<br>ETN_Close: Weight=0.000<br>TSLA_Close: Weight=0.638<br>PYPL_Close: Weight=0.134<br>RTX_Close: Weight=0.000",
          "Return: 168.403%<br>Volatility: 0.694<br>Sharpe Ratio: 2.428<br>AMGN_Close: Weight=0.000<br>SNAP_Close: Weight=0.228<br>SAP_Close: Weight=0.000<br>KO_Close: Weight=0.000<br>ETN_Close: Weight=0.000<br>TSLA_Close: Weight=0.638<br>PYPL_Close: Weight=0.134<br>PEP_Close: Weight=0.000",
          "Return: 168.387%<br>Volatility: 0.694<br>Sharpe Ratio: 2.428<br>AMGN_Close: Weight=0.000<br>SNAP_Close: Weight=0.228<br>SAP_Close: Weight=0.000<br>KO_Close: Weight=0.000<br>ETN_Close: Weight=0.000<br>TSLA_Close: Weight=0.638<br>PYPL_Close: Weight=0.134<br>DHR_Close: Weight=0.000",
          "Return: 168.407%<br>Volatility: 0.694<br>Sharpe Ratio: 2.428<br>AMGN_Close: Weight=0.000<br>SNAP_Close: Weight=0.228<br>SAP_Close: Weight=0.000<br>KO_Close: Weight=0.000<br>ETN_Close: Weight=0.000<br>TSLA_Close: Weight=0.638<br>PYPL_Close: Weight=0.134<br>WFC_Close: Weight=0.000",
          "Return: 168.398%<br>Volatility: 0.694<br>Sharpe Ratio: 2.428<br>AMGN_Close: Weight=0.000<br>SNAP_Close: Weight=0.228<br>SAP_Close: Weight=0.000<br>KO_Close: Weight=0.000<br>ETN_Close: Weight=0.000<br>TSLA_Close: Weight=0.638<br>PYPL_Close: Weight=0.134<br>ORCL_Close: Weight=0.000",
          "Return: 168.402%<br>Volatility: 0.694<br>Sharpe Ratio: 2.428<br>AMGN_Close: Weight=0.000<br>SNAP_Close: Weight=0.228<br>SAP_Close: Weight=0.000<br>KO_Close: Weight=0.000<br>ETN_Close: Weight=0.000<br>TSLA_Close: Weight=0.638<br>PYPL_Close: Weight=0.134<br>ABT_Close: Weight=0.000",
          "Return: 168.403%<br>Volatility: 0.694<br>Sharpe Ratio: 2.428<br>AMGN_Close: Weight=0.000<br>SNAP_Close: Weight=0.228<br>SAP_Close: Weight=0.000<br>KO_Close: Weight=0.000<br>ETN_Close: Weight=0.000<br>TSLA_Close: Weight=0.638<br>PYPL_Close: Weight=0.134<br>CMCSA_Close: Weight=0.000",
          "Return: 168.405%<br>Volatility: 0.694<br>Sharpe Ratio: 2.428<br>AMGN_Close: Weight=0.000<br>SNAP_Close: Weight=0.228<br>SAP_Close: Weight=0.000<br>KO_Close: Weight=0.000<br>ETN_Close: Weight=0.000<br>TSLA_Close: Weight=0.638<br>PYPL_Close: Weight=0.134<br>IBM_Close: Weight=0.000",
          "Return: 156.260%<br>Volatility: 0.637<br>Sharpe Ratio: 2.452<br>AMGN_Close: Weight=0.000<br>SNAP_Close: Weight=0.183<br>SAP_Close: Weight=0.000<br>KO_Close: Weight=0.000<br>ETN_Close: Weight=0.000<br>TSLA_Close: Weight=0.559<br>PYPL_Close: Weight=0.071<br>SPOT_Close: Weight=0.187",
          "Return: 156.261%<br>Volatility: 0.637<br>Sharpe Ratio: 2.452<br>AMGN_Close: Weight=0.000<br>SNAP_Close: Weight=0.183<br>SAP_Close: Weight=0.000<br>KO_Close: Weight=0.000<br>TSLA_Close: Weight=0.559<br>PYPL_Close: Weight=0.071<br>SPOT_Close: Weight=0.187<br>NVDA_Close: Weight=0.000",
          "Return: 156.261%<br>Volatility: 0.637<br>Sharpe Ratio: 2.452<br>AMGN_Close: Weight=0.000<br>SNAP_Close: Weight=0.183<br>SAP_Close: Weight=0.000<br>KO_Close: Weight=0.000<br>TSLA_Close: Weight=0.559<br>PYPL_Close: Weight=0.071<br>SPOT_Close: Weight=0.187<br>NVDA_Close: Weight=0.000",
          "Return: 156.260%<br>Volatility: 0.637<br>Sharpe Ratio: 2.452<br>AMGN_Close: Weight=0.000<br>SNAP_Close: Weight=0.183<br>SAP_Close: Weight=0.000<br>KO_Close: Weight=0.000<br>TSLA_Close: Weight=0.559<br>PYPL_Close: Weight=0.071<br>SPOT_Close: Weight=0.187<br>AMD_Close: Weight=0.000",
          "Return: 156.260%<br>Volatility: 0.637<br>Sharpe Ratio: 2.452<br>AMGN_Close: Weight=0.000<br>SNAP_Close: Weight=0.183<br>SAP_Close: Weight=0.000<br>KO_Close: Weight=0.000<br>TSLA_Close: Weight=0.559<br>PYPL_Close: Weight=0.071<br>SPOT_Close: Weight=0.187<br>LYFT_Close: Weight=0.000",
          "Return: 156.262%<br>Volatility: 0.637<br>Sharpe Ratio: 2.452<br>AMGN_Close: Weight=0.000<br>SNAP_Close: Weight=0.183<br>SAP_Close: Weight=0.000<br>KO_Close: Weight=0.000<br>TSLA_Close: Weight=0.559<br>PYPL_Close: Weight=0.071<br>SPOT_Close: Weight=0.187<br>ADBE_Close: Weight=0.000",
          "Return: 156.261%<br>Volatility: 0.637<br>Sharpe Ratio: 2.452<br>AMGN_Close: Weight=0.000<br>SNAP_Close: Weight=0.183<br>SAP_Close: Weight=0.000<br>KO_Close: Weight=0.000<br>TSLA_Close: Weight=0.559<br>PYPL_Close: Weight=0.071<br>SPOT_Close: Weight=0.187<br>NVDA_Close: Weight=0.000",
          "Return: 156.260%<br>Volatility: 0.637<br>Sharpe Ratio: 2.452<br>AMGN_Close: Weight=0.000<br>SNAP_Close: Weight=0.183<br>SAP_Close: Weight=0.000<br>KO_Close: Weight=0.000<br>TSLA_Close: Weight=0.559<br>PYPL_Close: Weight=0.071<br>SPOT_Close: Weight=0.187<br>AMD_Close: Weight=0.000",
          "Return: 156.260%<br>Volatility: 0.637<br>Sharpe Ratio: 2.452<br>AMGN_Close: Weight=0.000<br>SNAP_Close: Weight=0.183<br>SAP_Close: Weight=0.000<br>KO_Close: Weight=0.000<br>TSLA_Close: Weight=0.559<br>PYPL_Close: Weight=0.071<br>SPOT_Close: Weight=0.187<br>LYFT_Close: Weight=0.000",
          "Return: 156.262%<br>Volatility: 0.637<br>Sharpe Ratio: 2.452<br>AMGN_Close: Weight=0.000<br>SNAP_Close: Weight=0.183<br>SAP_Close: Weight=0.000<br>KO_Close: Weight=0.000<br>TSLA_Close: Weight=0.559<br>PYPL_Close: Weight=0.071<br>SPOT_Close: Weight=0.187<br>ADBE_Close: Weight=0.000",
          "Return: 156.262%<br>Volatility: 0.637<br>Sharpe Ratio: 2.452<br>AMGN_Close: Weight=0.000<br>SNAP_Close: Weight=0.183<br>SAP_Close: Weight=0.000<br>KO_Close: Weight=0.000<br>TSLA_Close: Weight=0.559<br>PYPL_Close: Weight=0.071<br>SPOT_Close: Weight=0.187<br>UBER_Close: Weight=0.000",
          "Return: 160.784%<br>Volatility: 0.657<br>Sharpe Ratio: 2.449<br>AMGN_Close: Weight=0.000<br>SNAP_Close: Weight=0.206<br>SAP_Close: Weight=0.000<br>KO_Close: Weight=0.000<br>TSLA_Close: Weight=0.586<br>SPOT_Close: Weight=0.208<br>UBER_Close: Weight=0.000<br>NVDA_Close: Weight=0.000",
          "Return: 160.789%<br>Volatility: 0.657<br>Sharpe Ratio: 2.449<br>AMGN_Close: Weight=0.000<br>SNAP_Close: Weight=0.206<br>SAP_Close: Weight=0.000<br>KO_Close: Weight=0.000<br>TSLA_Close: Weight=0.586<br>SPOT_Close: Weight=0.208<br>UBER_Close: Weight=0.000<br>LYFT_Close: Weight=0.000",
          "Return: 156.262%<br>Volatility: 0.637<br>Sharpe Ratio: 2.452<br>AMGN_Close: Weight=0.000<br>SNAP_Close: Weight=0.183<br>SAP_Close: Weight=0.000<br>KO_Close: Weight=0.000<br>TSLA_Close: Weight=0.559<br>SPOT_Close: Weight=0.187<br>UBER_Close: Weight=0.000<br>PYPL_Close: Weight=0.071",
          "Return: 160.784%<br>Volatility: 0.657<br>Sharpe Ratio: 2.449<br>AMGN_Close: Weight=0.000<br>SNAP_Close: Weight=0.206<br>SAP_Close: Weight=0.000<br>KO_Close: Weight=0.000<br>TSLA_Close: Weight=0.586<br>SPOT_Close: Weight=0.208<br>UBER_Close: Weight=0.000<br>NVDA_Close: Weight=0.000",
          "Return: 160.789%<br>Volatility: 0.657<br>Sharpe Ratio: 2.449<br>AMGN_Close: Weight=0.000<br>SNAP_Close: Weight=0.206<br>SAP_Close: Weight=0.000<br>KO_Close: Weight=0.000<br>TSLA_Close: Weight=0.586<br>SPOT_Close: Weight=0.208<br>UBER_Close: Weight=0.000<br>LYFT_Close: Weight=0.000",
          "Return: 156.262%<br>Volatility: 0.637<br>Sharpe Ratio: 2.452<br>AMGN_Close: Weight=0.000<br>SNAP_Close: Weight=0.183<br>SAP_Close: Weight=0.000<br>KO_Close: Weight=0.000<br>TSLA_Close: Weight=0.559<br>SPOT_Close: Weight=0.187<br>UBER_Close: Weight=0.000<br>PYPL_Close: Weight=0.071",
          "Return: 160.785%<br>Volatility: 0.657<br>Sharpe Ratio: 2.449<br>AMGN_Close: Weight=0.000<br>SNAP_Close: Weight=0.206<br>SAP_Close: Weight=0.000<br>KO_Close: Weight=0.000<br>TSLA_Close: Weight=0.586<br>SPOT_Close: Weight=0.208<br>UBER_Close: Weight=0.000<br>AMD_Close: Weight=0.000",
          "Return: 160.795%<br>Volatility: 0.657<br>Sharpe Ratio: 2.449<br>AMGN_Close: Weight=0.000<br>SNAP_Close: Weight=0.205<br>SAP_Close: Weight=0.000<br>KO_Close: Weight=0.000<br>TSLA_Close: Weight=0.586<br>SPOT_Close: Weight=0.208<br>UBER_Close: Weight=0.000<br>BA_Close: Weight=0.000",
          "Return: 160.785%<br>Volatility: 0.657<br>Sharpe Ratio: 2.449<br>AMGN_Close: Weight=0.000<br>SNAP_Close: Weight=0.206<br>SAP_Close: Weight=0.000<br>KO_Close: Weight=0.000<br>TSLA_Close: Weight=0.586<br>SPOT_Close: Weight=0.208<br>UBER_Close: Weight=0.000<br>MS_Close: Weight=0.000",
          "Return: 160.784%<br>Volatility: 0.657<br>Sharpe Ratio: 2.449<br>AMGN_Close: Weight=0.000<br>SNAP_Close: Weight=0.206<br>SAP_Close: Weight=0.000<br>KO_Close: Weight=0.000<br>TSLA_Close: Weight=0.586<br>SPOT_Close: Weight=0.208<br>UBER_Close: Weight=0.000<br>QCOM_Close: Weight=0.000",
          "Return: 160.784%<br>Volatility: 0.657<br>Sharpe Ratio: 2.449<br>AMGN_Close: Weight=0.000<br>SNAP_Close: Weight=0.206<br>SAP_Close: Weight=0.000<br>KO_Close: Weight=0.000<br>TSLA_Close: Weight=0.586<br>SPOT_Close: Weight=0.208<br>UBER_Close: Weight=0.000<br>ADBE_Close: Weight=0.000",
          "Return: 160.784%<br>Volatility: 0.657<br>Sharpe Ratio: 2.449<br>AMGN_Close: Weight=0.000<br>SNAP_Close: Weight=0.206<br>SAP_Close: Weight=0.000<br>KO_Close: Weight=0.000<br>TSLA_Close: Weight=0.586<br>SPOT_Close: Weight=0.208<br>UBER_Close: Weight=0.000<br>AAPL_Close: Weight=0.000",
          "Return: 160.784%<br>Volatility: 0.657<br>Sharpe Ratio: 2.449<br>AMGN_Close: Weight=0.000<br>SNAP_Close: Weight=0.206<br>SAP_Close: Weight=0.000<br>KO_Close: Weight=0.000<br>TSLA_Close: Weight=0.586<br>SPOT_Close: Weight=0.208<br>UBER_Close: Weight=0.000<br>MSFT_Close: Weight=0.000",
          "Return: 160.784%<br>Volatility: 0.657<br>Sharpe Ratio: 2.449<br>AMGN_Close: Weight=0.000<br>SNAP_Close: Weight=0.206<br>SAP_Close: Weight=0.000<br>KO_Close: Weight=0.000<br>TSLA_Close: Weight=0.586<br>SPOT_Close: Weight=0.208<br>UBER_Close: Weight=0.000<br>ISRG_Close: Weight=0.000",
          "Return: 160.785%<br>Volatility: 0.657<br>Sharpe Ratio: 2.449<br>AMGN_Close: Weight=0.000<br>SNAP_Close: Weight=0.206<br>SAP_Close: Weight=0.000<br>KO_Close: Weight=0.000<br>TSLA_Close: Weight=0.586<br>SPOT_Close: Weight=0.208<br>UBER_Close: Weight=0.000<br>MA_Close: Weight=0.000",
          "Return: 160.786%<br>Volatility: 0.657<br>Sharpe Ratio: 2.449<br>AMGN_Close: Weight=0.000<br>SNAP_Close: Weight=0.206<br>SAP_Close: Weight=0.000<br>KO_Close: Weight=0.000<br>TSLA_Close: Weight=0.586<br>SPOT_Close: Weight=0.208<br>UBER_Close: Weight=0.000<br>SYY_Close: Weight=0.000",
          "Return: 160.786%<br>Volatility: 0.657<br>Sharpe Ratio: 2.449<br>AMGN_Close: Weight=0.000<br>SNAP_Close: Weight=0.206<br>SAP_Close: Weight=0.000<br>KO_Close: Weight=0.000<br>TSLA_Close: Weight=0.586<br>SPOT_Close: Weight=0.208<br>UBER_Close: Weight=0.000<br>CRM_Close: Weight=0.000",
          "Return: 160.786%<br>Volatility: 0.657<br>Sharpe Ratio: 2.449<br>AMGN_Close: Weight=0.000<br>SNAP_Close: Weight=0.206<br>SAP_Close: Weight=0.000<br>KO_Close: Weight=0.000<br>TSLA_Close: Weight=0.586<br>SPOT_Close: Weight=0.208<br>UBER_Close: Weight=0.000<br>GM_Close: Weight=0.000",
          "Return: 160.786%<br>Volatility: 0.657<br>Sharpe Ratio: 2.449<br>AMGN_Close: Weight=0.000<br>SNAP_Close: Weight=0.206<br>SAP_Close: Weight=0.000<br>KO_Close: Weight=0.000<br>TSLA_Close: Weight=0.586<br>SPOT_Close: Weight=0.208<br>UBER_Close: Weight=0.000<br>GS_Close: Weight=0.000",
          "Return: 160.784%<br>Volatility: 0.657<br>Sharpe Ratio: 2.449<br>AMGN_Close: Weight=0.000<br>SNAP_Close: Weight=0.206<br>SAP_Close: Weight=0.000<br>KO_Close: Weight=0.000<br>TSLA_Close: Weight=0.586<br>SPOT_Close: Weight=0.208<br>UBER_Close: Weight=0.000<br>HD_Close: Weight=0.000",
          "Return: 160.784%<br>Volatility: 0.657<br>Sharpe Ratio: 2.449<br>AMGN_Close: Weight=0.000<br>SNAP_Close: Weight=0.206<br>SAP_Close: Weight=0.000<br>KO_Close: Weight=0.000<br>TSLA_Close: Weight=0.586<br>SPOT_Close: Weight=0.208<br>UBER_Close: Weight=0.000<br>V_Close: Weight=0.000",
          "Return: 160.785%<br>Volatility: 0.657<br>Sharpe Ratio: 2.449<br>AMGN_Close: Weight=0.000<br>SNAP_Close: Weight=0.206<br>SAP_Close: Weight=0.000<br>KO_Close: Weight=0.000<br>TSLA_Close: Weight=0.586<br>SPOT_Close: Weight=0.208<br>UBER_Close: Weight=0.000<br>ACN_Close: Weight=0.000",
          "Return: 160.785%<br>Volatility: 0.657<br>Sharpe Ratio: 2.449<br>AMGN_Close: Weight=0.000<br>SNAP_Close: Weight=0.206<br>SAP_Close: Weight=0.000<br>KO_Close: Weight=0.000<br>TSLA_Close: Weight=0.586<br>SPOT_Close: Weight=0.208<br>UBER_Close: Weight=0.000<br>ETN_Close: Weight=0.000",
          "Return: 160.784%<br>Volatility: 0.657<br>Sharpe Ratio: 2.449<br>AMGN_Close: Weight=0.000<br>SNAP_Close: Weight=0.206<br>SAP_Close: Weight=0.000<br>KO_Close: Weight=0.000<br>TSLA_Close: Weight=0.586<br>SPOT_Close: Weight=0.208<br>UBER_Close: Weight=0.000<br>TXN_Close: Weight=0.000",
          "Return: 160.784%<br>Volatility: 0.657<br>Sharpe Ratio: 2.449<br>AMGN_Close: Weight=0.000<br>SNAP_Close: Weight=0.206<br>SAP_Close: Weight=0.000<br>KO_Close: Weight=0.000<br>TSLA_Close: Weight=0.586<br>SPOT_Close: Weight=0.208<br>UBER_Close: Weight=0.000<br>DE_Close: Weight=0.000",
          "Return: 160.785%<br>Volatility: 0.657<br>Sharpe Ratio: 2.449<br>AMGN_Close: Weight=0.000<br>SNAP_Close: Weight=0.206<br>SAP_Close: Weight=0.000<br>KO_Close: Weight=0.000<br>TSLA_Close: Weight=0.586<br>SPOT_Close: Weight=0.208<br>UBER_Close: Weight=0.000<br>META_Close: Weight=0.000",
          "Return: 160.784%<br>Volatility: 0.657<br>Sharpe Ratio: 2.449<br>AMGN_Close: Weight=0.000<br>SNAP_Close: Weight=0.206<br>SAP_Close: Weight=0.000<br>KO_Close: Weight=0.000<br>TSLA_Close: Weight=0.586<br>SPOT_Close: Weight=0.208<br>UBER_Close: Weight=0.000<br>SYK_Close: Weight=0.000",
          "Return: 160.785%<br>Volatility: 0.657<br>Sharpe Ratio: 2.449<br>AMGN_Close: Weight=0.000<br>SNAP_Close: Weight=0.206<br>SAP_Close: Weight=0.000<br>KO_Close: Weight=0.000<br>TSLA_Close: Weight=0.586<br>SPOT_Close: Weight=0.208<br>UBER_Close: Weight=0.000<br>GOOGL_Close: Weight=0.000",
          "Return: 160.785%<br>Volatility: 0.657<br>Sharpe Ratio: 2.449<br>AMGN_Close: Weight=0.000<br>SNAP_Close: Weight=0.206<br>SAP_Close: Weight=0.000<br>KO_Close: Weight=0.000<br>TSLA_Close: Weight=0.586<br>SPOT_Close: Weight=0.208<br>UBER_Close: Weight=0.000<br>GOOG_Close: Weight=0.000",
          "Return: 160.787%<br>Volatility: 0.657<br>Sharpe Ratio: 2.449<br>AMGN_Close: Weight=0.000<br>SNAP_Close: Weight=0.206<br>SAP_Close: Weight=0.000<br>KO_Close: Weight=0.000<br>TSLA_Close: Weight=0.586<br>SPOT_Close: Weight=0.208<br>UBER_Close: Weight=0.000<br>BAC_Close: Weight=0.000",
          "Return: 160.786%<br>Volatility: 0.657<br>Sharpe Ratio: 2.449<br>AMGN_Close: Weight=0.000<br>SNAP_Close: Weight=0.206<br>SAP_Close: Weight=0.000<br>KO_Close: Weight=0.000<br>TSLA_Close: Weight=0.586<br>SPOT_Close: Weight=0.208<br>UBER_Close: Weight=0.000<br>EMR_Close: Weight=0.000",
          "Return: 160.788%<br>Volatility: 0.657<br>Sharpe Ratio: 2.449<br>AMGN_Close: Weight=0.000<br>SNAP_Close: Weight=0.206<br>SAP_Close: Weight=0.000<br>KO_Close: Weight=0.000<br>TSLA_Close: Weight=0.586<br>SPOT_Close: Weight=0.208<br>UBER_Close: Weight=0.000<br>CVX_Close: Weight=0.000",
          "Return: 160.785%<br>Volatility: 0.657<br>Sharpe Ratio: 2.449<br>AMGN_Close: Weight=0.000<br>SNAP_Close: Weight=0.206<br>SAP_Close: Weight=0.000<br>KO_Close: Weight=0.000<br>TSLA_Close: Weight=0.586<br>SPOT_Close: Weight=0.208<br>UBER_Close: Weight=0.000<br>DIS_Close: Weight=0.000",
          "Return: 160.785%<br>Volatility: 0.657<br>Sharpe Ratio: 2.449<br>AMGN_Close: Weight=0.000<br>SNAP_Close: Weight=0.206<br>SAP_Close: Weight=0.000<br>KO_Close: Weight=0.000<br>TSLA_Close: Weight=0.586<br>SPOT_Close: Weight=0.208<br>UBER_Close: Weight=0.000<br>UNH_Close: Weight=0.000",
          "Return: 160.785%<br>Volatility: 0.657<br>Sharpe Ratio: 2.449<br>AMGN_Close: Weight=0.000<br>SNAP_Close: Weight=0.206<br>SAP_Close: Weight=0.000<br>KO_Close: Weight=0.000<br>TSLA_Close: Weight=0.586<br>SPOT_Close: Weight=0.208<br>UBER_Close: Weight=0.000<br>JPM_Close: Weight=0.000",
          "Return: 160.784%<br>Volatility: 0.657<br>Sharpe Ratio: 2.449<br>AMGN_Close: Weight=0.000<br>SNAP_Close: Weight=0.206<br>SAP_Close: Weight=0.000<br>KO_Close: Weight=0.000<br>TSLA_Close: Weight=0.586<br>SPOT_Close: Weight=0.208<br>UBER_Close: Weight=0.000<br>EXC_Close: Weight=0.000",
          "Return: 160.784%<br>Volatility: 0.657<br>Sharpe Ratio: 2.449<br>AMGN_Close: Weight=0.000<br>SNAP_Close: Weight=0.206<br>SAP_Close: Weight=0.000<br>KO_Close: Weight=0.000<br>TSLA_Close: Weight=0.586<br>SPOT_Close: Weight=0.208<br>UBER_Close: Weight=0.000<br>HON_Close: Weight=0.000",
          "Return: 160.784%<br>Volatility: 0.657<br>Sharpe Ratio: 2.449<br>AMGN_Close: Weight=0.000<br>SNAP_Close: Weight=0.206<br>SAP_Close: Weight=0.000<br>KO_Close: Weight=0.000<br>TSLA_Close: Weight=0.586<br>SPOT_Close: Weight=0.208<br>UBER_Close: Weight=0.000<br>NKE_Close: Weight=0.000",
          "Return: 160.785%<br>Volatility: 0.657<br>Sharpe Ratio: 2.449<br>AMGN_Close: Weight=0.000<br>SNAP_Close: Weight=0.206<br>SAP_Close: Weight=0.000<br>KO_Close: Weight=0.000<br>TSLA_Close: Weight=0.586<br>SPOT_Close: Weight=0.208<br>UBER_Close: Weight=0.000<br>GE_Close: Weight=0.000",
          "Return: 160.784%<br>Volatility: 0.657<br>Sharpe Ratio: 2.449<br>AMGN_Close: Weight=0.000<br>SNAP_Close: Weight=0.206<br>SAP_Close: Weight=0.000<br>KO_Close: Weight=0.000<br>TSLA_Close: Weight=0.586<br>SPOT_Close: Weight=0.208<br>UBER_Close: Weight=0.000<br>MCD_Close: Weight=0.000",
          "Return: 160.785%<br>Volatility: 0.657<br>Sharpe Ratio: 2.449<br>AMGN_Close: Weight=0.000<br>SNAP_Close: Weight=0.206<br>SAP_Close: Weight=0.000<br>KO_Close: Weight=0.000<br>TSLA_Close: Weight=0.586<br>SPOT_Close: Weight=0.208<br>UBER_Close: Weight=0.000<br>EW_Close: Weight=0.000",
          "Return: 160.785%<br>Volatility: 0.657<br>Sharpe Ratio: 2.449<br>AMGN_Close: Weight=0.000<br>SNAP_Close: Weight=0.206<br>SAP_Close: Weight=0.000<br>KO_Close: Weight=0.000<br>TSLA_Close: Weight=0.586<br>SPOT_Close: Weight=0.208<br>UBER_Close: Weight=0.000<br>UA_Close: Weight=0.000",
          "Return: 160.787%<br>Volatility: 0.657<br>Sharpe Ratio: 2.449<br>AMGN_Close: Weight=0.000<br>SNAP_Close: Weight=0.206<br>SAP_Close: Weight=0.000<br>KO_Close: Weight=0.000<br>TSLA_Close: Weight=0.586<br>SPOT_Close: Weight=0.208<br>UBER_Close: Weight=0.000<br>F_Close: Weight=0.000",
          "Return: 160.785%<br>Volatility: 0.657<br>Sharpe Ratio: 2.449<br>AMGN_Close: Weight=0.000<br>SNAP_Close: Weight=0.206<br>SAP_Close: Weight=0.000<br>KO_Close: Weight=0.000<br>TSLA_Close: Weight=0.586<br>SPOT_Close: Weight=0.208<br>UBER_Close: Weight=0.000<br>INTC_Close: Weight=0.000",
          "Return: 160.787%<br>Volatility: 0.657<br>Sharpe Ratio: 2.449<br>AMGN_Close: Weight=0.000<br>SNAP_Close: Weight=0.206<br>SAP_Close: Weight=0.000<br>KO_Close: Weight=0.000<br>TSLA_Close: Weight=0.586<br>SPOT_Close: Weight=0.208<br>UBER_Close: Weight=0.000<br>RTX_Close: Weight=0.000",
          "Return: 160.784%<br>Volatility: 0.657<br>Sharpe Ratio: 2.449<br>AMGN_Close: Weight=0.000<br>SNAP_Close: Weight=0.206<br>SAP_Close: Weight=0.000<br>KO_Close: Weight=0.000<br>TSLA_Close: Weight=0.586<br>SPOT_Close: Weight=0.208<br>UBER_Close: Weight=0.000<br>MDT_Close: Weight=0.000",
          "Return: 160.786%<br>Volatility: 0.657<br>Sharpe Ratio: 2.449<br>AMGN_Close: Weight=0.000<br>SNAP_Close: Weight=0.206<br>SAP_Close: Weight=0.000<br>KO_Close: Weight=0.000<br>TSLA_Close: Weight=0.586<br>SPOT_Close: Weight=0.208<br>UBER_Close: Weight=0.000<br>ZBH_Close: Weight=0.000",
          "Return: 160.784%<br>Volatility: 0.657<br>Sharpe Ratio: 2.449<br>AMGN_Close: Weight=0.000<br>SNAP_Close: Weight=0.206<br>SAP_Close: Weight=0.000<br>KO_Close: Weight=0.000<br>TSLA_Close: Weight=0.586<br>SPOT_Close: Weight=0.208<br>UBER_Close: Weight=0.000<br>RMD_Close: Weight=0.000",
          "Return: 148.630%<br>Volatility: 0.605<br>Sharpe Ratio: 2.455<br>AMGN_Close: Weight=0.000<br>SNAP_Close: Weight=0.180<br>SAP_Close: Weight=0.000<br>KO_Close: Weight=0.000<br>TSLA_Close: Weight=0.521<br>SPOT_Close: Weight=0.171<br>UBER_Close: Weight=0.000<br>AMZN_Close: Weight=0.127",
          "Return: 148.620%<br>Volatility: 0.605<br>Sharpe Ratio: 2.455<br>AMGN_Close: Weight=0.000<br>SNAP_Close: Weight=0.180<br>KO_Close: Weight=0.000<br>TSLA_Close: Weight=0.521<br>SPOT_Close: Weight=0.171<br>UBER_Close: Weight=0.000<br>AMZN_Close: Weight=0.127<br>NVDA_Close: Weight=0.000",
          "Return: 148.620%<br>Volatility: 0.605<br>Sharpe Ratio: 2.455<br>AMGN_Close: Weight=0.000<br>SNAP_Close: Weight=0.180<br>KO_Close: Weight=0.000<br>TSLA_Close: Weight=0.521<br>SPOT_Close: Weight=0.171<br>UBER_Close: Weight=0.000<br>AMZN_Close: Weight=0.127<br>NVDA_Close: Weight=0.000",
          "Return: 148.588%<br>Volatility: 0.605<br>Sharpe Ratio: 2.455<br>AMGN_Close: Weight=0.000<br>SNAP_Close: Weight=0.180<br>KO_Close: Weight=0.000<br>TSLA_Close: Weight=0.521<br>SPOT_Close: Weight=0.171<br>UBER_Close: Weight=0.000<br>AMZN_Close: Weight=0.128<br>LYFT_Close: Weight=0.000",
          "Return: 148.620%<br>Volatility: 0.605<br>Sharpe Ratio: 2.455<br>AMGN_Close: Weight=0.000<br>SNAP_Close: Weight=0.180<br>KO_Close: Weight=0.000<br>TSLA_Close: Weight=0.521<br>SPOT_Close: Weight=0.171<br>UBER_Close: Weight=0.000<br>AMZN_Close: Weight=0.127<br>NVDA_Close: Weight=0.000",
          "Return: 148.588%<br>Volatility: 0.605<br>Sharpe Ratio: 2.455<br>AMGN_Close: Weight=0.000<br>SNAP_Close: Weight=0.180<br>KO_Close: Weight=0.000<br>TSLA_Close: Weight=0.521<br>SPOT_Close: Weight=0.171<br>UBER_Close: Weight=0.000<br>AMZN_Close: Weight=0.128<br>LYFT_Close: Weight=0.000",
          "Return: 148.400%<br>Volatility: 0.604<br>Sharpe Ratio: 2.455<br>AMGN_Close: Weight=0.000<br>SNAP_Close: Weight=0.175<br>KO_Close: Weight=0.000<br>TSLA_Close: Weight=0.519<br>SPOT_Close: Weight=0.167<br>UBER_Close: Weight=0.000<br>AMZN_Close: Weight=0.111<br>PYPL_Close: Weight=0.029",
          "Return: 148.620%<br>Volatility: 0.605<br>Sharpe Ratio: 2.455<br>AMGN_Close: Weight=0.000<br>SNAP_Close: Weight=0.180<br>KO_Close: Weight=0.000<br>TSLA_Close: Weight=0.521<br>SPOT_Close: Weight=0.171<br>UBER_Close: Weight=0.000<br>AMZN_Close: Weight=0.127<br>NVDA_Close: Weight=0.000",
          "Return: 148.588%<br>Volatility: 0.605<br>Sharpe Ratio: 2.455<br>AMGN_Close: Weight=0.000<br>SNAP_Close: Weight=0.180<br>KO_Close: Weight=0.000<br>TSLA_Close: Weight=0.521<br>SPOT_Close: Weight=0.171<br>UBER_Close: Weight=0.000<br>AMZN_Close: Weight=0.128<br>LYFT_Close: Weight=0.000",
          "Return: 148.400%<br>Volatility: 0.604<br>Sharpe Ratio: 2.455<br>AMGN_Close: Weight=0.000<br>SNAP_Close: Weight=0.175<br>KO_Close: Weight=0.000<br>TSLA_Close: Weight=0.519<br>SPOT_Close: Weight=0.167<br>UBER_Close: Weight=0.000<br>AMZN_Close: Weight=0.111<br>PYPL_Close: Weight=0.029",
          "Return: 148.613%<br>Volatility: 0.605<br>Sharpe Ratio: 2.455<br>AMGN_Close: Weight=0.000<br>SNAP_Close: Weight=0.180<br>KO_Close: Weight=0.000<br>TSLA_Close: Weight=0.521<br>SPOT_Close: Weight=0.171<br>UBER_Close: Weight=0.000<br>AMZN_Close: Weight=0.128<br>AMD_Close: Weight=0.000",
          "Return: 148.636%<br>Volatility: 0.605<br>Sharpe Ratio: 2.455<br>AMGN_Close: Weight=0.000<br>SNAP_Close: Weight=0.180<br>KO_Close: Weight=0.000<br>TSLA_Close: Weight=0.521<br>SPOT_Close: Weight=0.171<br>UBER_Close: Weight=0.000<br>AMZN_Close: Weight=0.127<br>ADBE_Close: Weight=0.000",
          "Return: 148.625%<br>Volatility: 0.605<br>Sharpe Ratio: 2.455<br>AMGN_Close: Weight=0.000<br>SNAP_Close: Weight=0.180<br>KO_Close: Weight=0.000<br>TSLA_Close: Weight=0.521<br>SPOT_Close: Weight=0.171<br>UBER_Close: Weight=0.000<br>AMZN_Close: Weight=0.127<br>AAPL_Close: Weight=0.000",
          "Return: 148.625%<br>Volatility: 0.605<br>Sharpe Ratio: 2.455<br>AMGN_Close: Weight=0.000<br>SNAP_Close: Weight=0.180<br>KO_Close: Weight=0.000<br>TSLA_Close: Weight=0.521<br>SPOT_Close: Weight=0.171<br>UBER_Close: Weight=0.000<br>AMZN_Close: Weight=0.127<br>QCOM_Close: Weight=0.000",
          "Return: 148.629%<br>Volatility: 0.605<br>Sharpe Ratio: 2.455<br>AMGN_Close: Weight=0.000<br>SNAP_Close: Weight=0.180<br>KO_Close: Weight=0.000<br>TSLA_Close: Weight=0.521<br>SPOT_Close: Weight=0.171<br>UBER_Close: Weight=0.000<br>AMZN_Close: Weight=0.127<br>MSFT_Close: Weight=0.000",
          "Return: 148.574%<br>Volatility: 0.605<br>Sharpe Ratio: 2.455<br>AMGN_Close: Weight=0.000<br>SNAP_Close: Weight=0.180<br>KO_Close: Weight=0.000<br>TSLA_Close: Weight=0.521<br>SPOT_Close: Weight=0.171<br>UBER_Close: Weight=0.000<br>AMZN_Close: Weight=0.128<br>BA_Close: Weight=0.000",
          "Return: 148.618%<br>Volatility: 0.605<br>Sharpe Ratio: 2.455<br>AMGN_Close: Weight=0.000<br>SNAP_Close: Weight=0.180<br>KO_Close: Weight=0.000<br>TSLA_Close: Weight=0.521<br>SPOT_Close: Weight=0.171<br>UBER_Close: Weight=0.000<br>AMZN_Close: Weight=0.128<br>MS_Close: Weight=0.000",
          "Return: 148.609%<br>Volatility: 0.605<br>Sharpe Ratio: 2.455<br>AMGN_Close: Weight=0.000<br>SNAP_Close: Weight=0.180<br>KO_Close: Weight=0.000<br>TSLA_Close: Weight=0.521<br>SPOT_Close: Weight=0.171<br>UBER_Close: Weight=0.000<br>AMZN_Close: Weight=0.128<br>CRM_Close: Weight=0.000",
          "Return: 148.627%<br>Volatility: 0.605<br>Sharpe Ratio: 2.455<br>AMGN_Close: Weight=0.000<br>SNAP_Close: Weight=0.180<br>KO_Close: Weight=0.000<br>TSLA_Close: Weight=0.521<br>SPOT_Close: Weight=0.171<br>UBER_Close: Weight=0.000<br>AMZN_Close: Weight=0.127<br>ISRG_Close: Weight=0.000",
          "Return: 148.533%<br>Volatility: 0.605<br>Sharpe Ratio: 2.455<br>AMGN_Close: Weight=0.000<br>SNAP_Close: Weight=0.180<br>KO_Close: Weight=0.000<br>TSLA_Close: Weight=0.521<br>SPOT_Close: Weight=0.171<br>UBER_Close: Weight=0.000<br>AMZN_Close: Weight=0.128<br>META_Close: Weight=0.000",
          "Return: 148.617%<br>Volatility: 0.605<br>Sharpe Ratio: 2.455<br>AMGN_Close: Weight=0.000<br>SNAP_Close: Weight=0.180<br>KO_Close: Weight=0.000<br>TSLA_Close: Weight=0.521<br>SPOT_Close: Weight=0.171<br>UBER_Close: Weight=0.000<br>AMZN_Close: Weight=0.128<br>MA_Close: Weight=0.000",
          "Return: 148.533%<br>Volatility: 0.605<br>Sharpe Ratio: 2.455<br>AMGN_Close: Weight=0.000<br>SNAP_Close: Weight=0.180<br>KO_Close: Weight=0.000<br>TSLA_Close: Weight=0.521<br>SPOT_Close: Weight=0.171<br>UBER_Close: Weight=0.000<br>AMZN_Close: Weight=0.128<br>GOOGL_Close: Weight=0.000",
          "Return: 148.533%<br>Volatility: 0.605<br>Sharpe Ratio: 2.455<br>AMGN_Close: Weight=0.000<br>SNAP_Close: Weight=0.180<br>KO_Close: Weight=0.000<br>TSLA_Close: Weight=0.521<br>SPOT_Close: Weight=0.171<br>UBER_Close: Weight=0.000<br>AMZN_Close: Weight=0.128<br>GOOG_Close: Weight=0.000",
          "Return: 148.638%<br>Volatility: 0.606<br>Sharpe Ratio: 2.455<br>AMGN_Close: Weight=0.000<br>SNAP_Close: Weight=0.180<br>KO_Close: Weight=0.000<br>TSLA_Close: Weight=0.521<br>SPOT_Close: Weight=0.171<br>UBER_Close: Weight=0.000<br>AMZN_Close: Weight=0.127<br>TXN_Close: Weight=0.000",
          "Return: 148.633%<br>Volatility: 0.605<br>Sharpe Ratio: 2.455<br>AMGN_Close: Weight=0.000<br>SNAP_Close: Weight=0.180<br>KO_Close: Weight=0.000<br>TSLA_Close: Weight=0.521<br>SPOT_Close: Weight=0.171<br>UBER_Close: Weight=0.000<br>AMZN_Close: Weight=0.127<br>HD_Close: Weight=0.000",
          "Return: 148.614%<br>Volatility: 0.605<br>Sharpe Ratio: 2.455<br>AMGN_Close: Weight=0.000<br>SNAP_Close: Weight=0.180<br>KO_Close: Weight=0.000<br>TSLA_Close: Weight=0.521<br>SPOT_Close: Weight=0.171<br>UBER_Close: Weight=0.000<br>AMZN_Close: Weight=0.128<br>SYY_Close: Weight=0.000",
          "Return: 148.629%<br>Volatility: 0.605<br>Sharpe Ratio: 2.455<br>AMGN_Close: Weight=0.000<br>SNAP_Close: Weight=0.180<br>KO_Close: Weight=0.000<br>TSLA_Close: Weight=0.521<br>SPOT_Close: Weight=0.171<br>UBER_Close: Weight=0.000<br>AMZN_Close: Weight=0.127<br>V_Close: Weight=0.000",
          "Return: 148.612%<br>Volatility: 0.605<br>Sharpe Ratio: 2.455<br>AMGN_Close: Weight=0.000<br>SNAP_Close: Weight=0.180<br>KO_Close: Weight=0.000<br>TSLA_Close: Weight=0.521<br>SPOT_Close: Weight=0.171<br>UBER_Close: Weight=0.000<br>AMZN_Close: Weight=0.128<br>GS_Close: Weight=0.000",
          "Return: 148.533%<br>Volatility: 0.605<br>Sharpe Ratio: 2.455<br>AMGN_Close: Weight=0.000<br>SNAP_Close: Weight=0.180<br>KO_Close: Weight=0.000<br>TSLA_Close: Weight=0.521<br>SPOT_Close: Weight=0.171<br>UBER_Close: Weight=0.000<br>AMZN_Close: Weight=0.128<br>ACN_Close: Weight=0.000",
          "Return: 148.613%<br>Volatility: 0.605<br>Sharpe Ratio: 2.455<br>AMGN_Close: Weight=0.000<br>SNAP_Close: Weight=0.180<br>KO_Close: Weight=0.000<br>TSLA_Close: Weight=0.521<br>SPOT_Close: Weight=0.171<br>UBER_Close: Weight=0.000<br>AMZN_Close: Weight=0.128<br>GM_Close: Weight=0.000",
          "Return: 148.617%<br>Volatility: 0.605<br>Sharpe Ratio: 2.455<br>AMGN_Close: Weight=0.000<br>SNAP_Close: Weight=0.180<br>KO_Close: Weight=0.000<br>TSLA_Close: Weight=0.521<br>SPOT_Close: Weight=0.171<br>UBER_Close: Weight=0.000<br>AMZN_Close: Weight=0.128<br>ETN_Close: Weight=0.000",
          "Return: 148.627%<br>Volatility: 0.605<br>Sharpe Ratio: 2.455<br>AMGN_Close: Weight=0.000<br>SNAP_Close: Weight=0.180<br>KO_Close: Weight=0.000<br>TSLA_Close: Weight=0.521<br>SPOT_Close: Weight=0.171<br>UBER_Close: Weight=0.000<br>AMZN_Close: Weight=0.127<br>SYK_Close: Weight=0.000",
          "Return: 148.623%<br>Volatility: 0.605<br>Sharpe Ratio: 2.455<br>AMGN_Close: Weight=0.000<br>SNAP_Close: Weight=0.180<br>KO_Close: Weight=0.000<br>TSLA_Close: Weight=0.521<br>SPOT_Close: Weight=0.171<br>UBER_Close: Weight=0.000<br>AMZN_Close: Weight=0.127<br>UNH_Close: Weight=0.000",
          "Return: 148.626%<br>Volatility: 0.605<br>Sharpe Ratio: 2.455<br>AMGN_Close: Weight=0.000<br>SNAP_Close: Weight=0.181<br>KO_Close: Weight=0.000<br>TSLA_Close: Weight=0.521<br>SPOT_Close: Weight=0.171<br>UBER_Close: Weight=0.000<br>AMZN_Close: Weight=0.127<br>DE_Close: Weight=0.000",
          "Return: 148.617%<br>Volatility: 0.605<br>Sharpe Ratio: 2.455<br>AMGN_Close: Weight=0.000<br>SNAP_Close: Weight=0.180<br>KO_Close: Weight=0.000<br>TSLA_Close: Weight=0.521<br>SPOT_Close: Weight=0.171<br>UBER_Close: Weight=0.000<br>AMZN_Close: Weight=0.128<br>DIS_Close: Weight=0.000",
          "Return: 148.604%<br>Volatility: 0.605<br>Sharpe Ratio: 2.455<br>AMGN_Close: Weight=0.000<br>SNAP_Close: Weight=0.180<br>KO_Close: Weight=0.000<br>TSLA_Close: Weight=0.521<br>SPOT_Close: Weight=0.171<br>UBER_Close: Weight=0.000<br>AMZN_Close: Weight=0.128<br>BAC_Close: Weight=0.000",
          "Return: 148.607%<br>Volatility: 0.605<br>Sharpe Ratio: 2.455<br>AMGN_Close: Weight=0.000<br>SNAP_Close: Weight=0.180<br>KO_Close: Weight=0.000<br>TSLA_Close: Weight=0.521<br>SPOT_Close: Weight=0.171<br>UBER_Close: Weight=0.000<br>AMZN_Close: Weight=0.128<br>EMR_Close: Weight=0.000",
          "Return: 148.632%<br>Volatility: 0.605<br>Sharpe Ratio: 2.455<br>AMGN_Close: Weight=0.000<br>SNAP_Close: Weight=0.180<br>KO_Close: Weight=0.000<br>TSLA_Close: Weight=0.521<br>SPOT_Close: Weight=0.171<br>UBER_Close: Weight=0.000<br>AMZN_Close: Weight=0.127<br>EXC_Close: Weight=0.000",
          "Return: 148.596%<br>Volatility: 0.605<br>Sharpe Ratio: 2.455<br>AMGN_Close: Weight=0.000<br>SNAP_Close: Weight=0.180<br>KO_Close: Weight=0.000<br>TSLA_Close: Weight=0.521<br>SPOT_Close: Weight=0.171<br>UBER_Close: Weight=0.000<br>AMZN_Close: Weight=0.128<br>CVX_Close: Weight=0.000",
          "Return: 148.534%<br>Volatility: 0.605<br>Sharpe Ratio: 2.455<br>AMGN_Close: Weight=0.000<br>SNAP_Close: Weight=0.180<br>KO_Close: Weight=0.000<br>TSLA_Close: Weight=0.521<br>SPOT_Close: Weight=0.171<br>UBER_Close: Weight=0.000<br>AMZN_Close: Weight=0.128<br>NKE_Close: Weight=0.000",
          "Return: 148.623%<br>Volatility: 0.605<br>Sharpe Ratio: 2.455<br>AMGN_Close: Weight=0.000<br>SNAP_Close: Weight=0.180<br>KO_Close: Weight=0.000<br>TSLA_Close: Weight=0.521<br>SPOT_Close: Weight=0.171<br>UBER_Close: Weight=0.000<br>AMZN_Close: Weight=0.127<br>NFLX_Close: Weight=0.000",
          "Return: 148.629%<br>Volatility: 0.605<br>Sharpe Ratio: 2.455<br>AMGN_Close: Weight=0.000<br>SNAP_Close: Weight=0.180<br>KO_Close: Weight=0.000<br>TSLA_Close: Weight=0.521<br>SPOT_Close: Weight=0.171<br>UBER_Close: Weight=0.000<br>AMZN_Close: Weight=0.127<br>INTC_Close: Weight=0.000",
          "Return: 148.623%<br>Volatility: 0.605<br>Sharpe Ratio: 2.455<br>AMGN_Close: Weight=0.000<br>SNAP_Close: Weight=0.180<br>KO_Close: Weight=0.000<br>TSLA_Close: Weight=0.521<br>SPOT_Close: Weight=0.171<br>UBER_Close: Weight=0.000<br>AMZN_Close: Weight=0.128<br>JPM_Close: Weight=0.000",
          "Return: 148.632%<br>Volatility: 0.605<br>Sharpe Ratio: 2.455<br>AMGN_Close: Weight=0.000<br>SNAP_Close: Weight=0.180<br>KO_Close: Weight=0.000<br>TSLA_Close: Weight=0.521<br>SPOT_Close: Weight=0.171<br>UBER_Close: Weight=0.000<br>AMZN_Close: Weight=0.127<br>MCD_Close: Weight=0.000",
          "Return: 148.626%<br>Volatility: 0.605<br>Sharpe Ratio: 2.455<br>AMGN_Close: Weight=0.000<br>SNAP_Close: Weight=0.180<br>KO_Close: Weight=0.000<br>TSLA_Close: Weight=0.521<br>SPOT_Close: Weight=0.171<br>UBER_Close: Weight=0.000<br>AMZN_Close: Weight=0.127<br>HON_Close: Weight=0.000",
          "Return: 148.615%<br>Volatility: 0.605<br>Sharpe Ratio: 2.455<br>AMGN_Close: Weight=0.000<br>SNAP_Close: Weight=0.180<br>KO_Close: Weight=0.000<br>TSLA_Close: Weight=0.521<br>SPOT_Close: Weight=0.171<br>UBER_Close: Weight=0.000<br>AMZN_Close: Weight=0.128<br>EW_Close: Weight=0.000",
          "Return: 148.537%<br>Volatility: 0.605<br>Sharpe Ratio: 2.455<br>AMGN_Close: Weight=0.000<br>SNAP_Close: Weight=0.180<br>KO_Close: Weight=0.000<br>TSLA_Close: Weight=0.521<br>SPOT_Close: Weight=0.171<br>UBER_Close: Weight=0.000<br>AMZN_Close: Weight=0.128<br>DHR_Close: Weight=0.000",
          "Return: 148.637%<br>Volatility: 0.605<br>Sharpe Ratio: 2.455<br>AMGN_Close: Weight=0.000<br>SNAP_Close: Weight=0.180<br>KO_Close: Weight=0.000<br>TSLA_Close: Weight=0.521<br>SPOT_Close: Weight=0.171<br>UBER_Close: Weight=0.000<br>AMZN_Close: Weight=0.127<br>RMD_Close: Weight=0.000",
          "Return: 148.618%<br>Volatility: 0.605<br>Sharpe Ratio: 2.455<br>AMGN_Close: Weight=0.000<br>SNAP_Close: Weight=0.180<br>KO_Close: Weight=0.000<br>TSLA_Close: Weight=0.521<br>SPOT_Close: Weight=0.171<br>UBER_Close: Weight=0.000<br>AMZN_Close: Weight=0.128<br>GE_Close: Weight=0.000",
          "Return: 148.533%<br>Volatility: 0.605<br>Sharpe Ratio: 2.455<br>AMGN_Close: Weight=0.000<br>SNAP_Close: Weight=0.180<br>KO_Close: Weight=0.000<br>TSLA_Close: Weight=0.521<br>SPOT_Close: Weight=0.171<br>UBER_Close: Weight=0.000<br>AMZN_Close: Weight=0.128<br>NEE_Close: Weight=0.000",
          "Return: 148.637%<br>Volatility: 0.606<br>Sharpe Ratio: 2.455<br>AMGN_Close: Weight=0.000<br>SNAP_Close: Weight=0.180<br>KO_Close: Weight=0.000<br>TSLA_Close: Weight=0.521<br>SPOT_Close: Weight=0.171<br>UBER_Close: Weight=0.000<br>AMZN_Close: Weight=0.127<br>CMCSA_Close: Weight=0.000",
          "Return: 148.620%<br>Volatility: 0.605<br>Sharpe Ratio: 2.455<br>AMGN_Close: Weight=0.000<br>SNAP_Close: Weight=0.180<br>KO_Close: Weight=0.000<br>TSLA_Close: Weight=0.521<br>SPOT_Close: Weight=0.171<br>UBER_Close: Weight=0.000<br>AMZN_Close: Weight=0.128<br>UA_Close: Weight=0.000",
          "Return: 148.610%<br>Volatility: 0.605<br>Sharpe Ratio: 2.455<br>AMGN_Close: Weight=0.000<br>SNAP_Close: Weight=0.180<br>KO_Close: Weight=0.000<br>TSLA_Close: Weight=0.521<br>SPOT_Close: Weight=0.171<br>UBER_Close: Weight=0.000<br>AMZN_Close: Weight=0.128<br>ZBH_Close: Weight=0.000",
          "Return: 148.605%<br>Volatility: 0.605<br>Sharpe Ratio: 2.455<br>AMGN_Close: Weight=0.000<br>SNAP_Close: Weight=0.180<br>KO_Close: Weight=0.000<br>TSLA_Close: Weight=0.521<br>SPOT_Close: Weight=0.171<br>UBER_Close: Weight=0.000<br>AMZN_Close: Weight=0.128<br>F_Close: Weight=0.000",
          "Return: 148.629%<br>Volatility: 0.605<br>Sharpe Ratio: 2.455<br>AMGN_Close: Weight=0.000<br>SNAP_Close: Weight=0.180<br>KO_Close: Weight=0.000<br>TSLA_Close: Weight=0.521<br>SPOT_Close: Weight=0.171<br>UBER_Close: Weight=0.000<br>AMZN_Close: Weight=0.127<br>MDT_Close: Weight=0.000",
          "Return: 148.600%<br>Volatility: 0.605<br>Sharpe Ratio: 2.455<br>AMGN_Close: Weight=0.000<br>SNAP_Close: Weight=0.180<br>KO_Close: Weight=0.000<br>TSLA_Close: Weight=0.521<br>SPOT_Close: Weight=0.171<br>UBER_Close: Weight=0.000<br>AMZN_Close: Weight=0.128<br>RTX_Close: Weight=0.000",
          "Return: 148.533%<br>Volatility: 0.605<br>Sharpe Ratio: 2.455<br>AMGN_Close: Weight=0.000<br>SNAP_Close: Weight=0.180<br>KO_Close: Weight=0.000<br>TSLA_Close: Weight=0.521<br>SPOT_Close: Weight=0.171<br>UBER_Close: Weight=0.000<br>AMZN_Close: Weight=0.128<br>ORCL_Close: Weight=0.000",
          "Return: 148.630%<br>Volatility: 0.605<br>Sharpe Ratio: 2.455<br>AMGN_Close: Weight=0.000<br>SNAP_Close: Weight=0.180<br>KO_Close: Weight=0.000<br>TSLA_Close: Weight=0.521<br>SPOT_Close: Weight=0.171<br>UBER_Close: Weight=0.000<br>AMZN_Close: Weight=0.127<br>SAP_Close: Weight=0.000",
          "Return: 148.640%<br>Volatility: 0.606<br>Sharpe Ratio: 2.455<br>AMGN_Close: Weight=0.000<br>SNAP_Close: Weight=0.180<br>KO_Close: Weight=0.000<br>TSLA_Close: Weight=0.521<br>SPOT_Close: Weight=0.171<br>UBER_Close: Weight=0.000<br>AMZN_Close: Weight=0.127<br>PEP_Close: Weight=0.000",
          "Return: 148.639%<br>Volatility: 0.606<br>Sharpe Ratio: 2.455<br>AMGN_Close: Weight=0.000<br>SNAP_Close: Weight=0.180<br>KO_Close: Weight=0.000<br>TSLA_Close: Weight=0.521<br>SPOT_Close: Weight=0.171<br>UBER_Close: Weight=0.000<br>AMZN_Close: Weight=0.127<br>CSCO_Close: Weight=0.000",
          "Return: 148.620%<br>Volatility: 0.605<br>Sharpe Ratio: 2.455<br>AMGN_Close: Weight=0.000<br>SNAP_Close: Weight=0.180<br>KO_Close: Weight=0.000<br>TSLA_Close: Weight=0.521<br>SPOT_Close: Weight=0.171<br>UBER_Close: Weight=0.000<br>AMZN_Close: Weight=0.128<br>VRTX_Close: Weight=0.000",
          "Return: 148.597%<br>Volatility: 0.605<br>Sharpe Ratio: 2.455<br>AMGN_Close: Weight=0.000<br>SNAP_Close: Weight=0.180<br>KO_Close: Weight=0.000<br>TSLA_Close: Weight=0.521<br>SPOT_Close: Weight=0.171<br>UBER_Close: Weight=0.000<br>AMZN_Close: Weight=0.128<br>WFC_Close: Weight=0.000",
          "Return: 148.635%<br>Volatility: 0.605<br>Sharpe Ratio: 2.455<br>AMGN_Close: Weight=0.000<br>SNAP_Close: Weight=0.180<br>KO_Close: Weight=0.000<br>TSLA_Close: Weight=0.521<br>SPOT_Close: Weight=0.171<br>UBER_Close: Weight=0.000<br>AMZN_Close: Weight=0.127<br>CAT_Close: Weight=0.000",
          "Return: 148.533%<br>Volatility: 0.605<br>Sharpe Ratio: 2.455<br>AMGN_Close: Weight=0.000<br>SNAP_Close: Weight=0.180<br>KO_Close: Weight=0.000<br>TSLA_Close: Weight=0.521<br>SPOT_Close: Weight=0.171<br>UBER_Close: Weight=0.000<br>AMZN_Close: Weight=0.128<br>ABT_Close: Weight=0.000",
          "Return: 148.628%<br>Volatility: 0.605<br>Sharpe Ratio: 2.455<br>AMGN_Close: Weight=0.000<br>SNAP_Close: Weight=0.180<br>KO_Close: Weight=0.000<br>TSLA_Close: Weight=0.521<br>SPOT_Close: Weight=0.171<br>UBER_Close: Weight=0.000<br>AMZN_Close: Weight=0.127<br>BSX_Close: Weight=0.000",
          "Return: 148.629%<br>Volatility: 0.605<br>Sharpe Ratio: 2.455<br>AMGN_Close: Weight=0.000<br>SNAP_Close: Weight=0.180<br>KO_Close: Weight=0.000<br>TSLA_Close: Weight=0.521<br>SPOT_Close: Weight=0.171<br>UBER_Close: Weight=0.000<br>AMZN_Close: Weight=0.127<br>IBM_Close: Weight=0.000",
          "Return: 148.539%<br>Volatility: 0.605<br>Sharpe Ratio: 2.455<br>AMGN_Close: Weight=0.000<br>SNAP_Close: Weight=0.180<br>KO_Close: Weight=0.000<br>TSLA_Close: Weight=0.521<br>SPOT_Close: Weight=0.171<br>UBER_Close: Weight=0.000<br>AMZN_Close: Weight=0.128<br>TMO_Close: Weight=0.000",
          "Return: 148.633%<br>Volatility: 0.605<br>Sharpe Ratio: 2.455<br>AMGN_Close: Weight=0.000<br>SNAP_Close: Weight=0.180<br>KO_Close: Weight=0.000<br>TSLA_Close: Weight=0.521<br>SPOT_Close: Weight=0.171<br>UBER_Close: Weight=0.000<br>AMZN_Close: Weight=0.127<br>PM_Close: Weight=0.000",
          "Return: 148.641%<br>Volatility: 0.606<br>Sharpe Ratio: 2.455<br>AMGN_Close: Weight=0.000<br>SNAP_Close: Weight=0.180<br>KO_Close: Weight=0.000<br>TSLA_Close: Weight=0.521<br>SPOT_Close: Weight=0.171<br>UBER_Close: Weight=0.000<br>AMZN_Close: Weight=0.127<br>SRE_Close: Weight=0.000",
          "Return: 148.533%<br>Volatility: 0.605<br>Sharpe Ratio: 2.455<br>AMGN_Close: Weight=0.000<br>SNAP_Close: Weight=0.180<br>KO_Close: Weight=0.000<br>TSLA_Close: Weight=0.521<br>SPOT_Close: Weight=0.171<br>UBER_Close: Weight=0.000<br>AMZN_Close: Weight=0.128<br>ABBV_Close: Weight=0.000",
          "Return: 148.533%<br>Volatility: 0.605<br>Sharpe Ratio: 2.455<br>AMGN_Close: Weight=0.000<br>SNAP_Close: Weight=0.180<br>KO_Close: Weight=0.000<br>TSLA_Close: Weight=0.521<br>SPOT_Close: Weight=0.171<br>UBER_Close: Weight=0.000<br>AMZN_Close: Weight=0.128<br>SO_Close: Weight=0.000",
          "Return: 120.595%<br>Volatility: 0.477<br>Sharpe Ratio: 2.528<br>AMGN_Close: Weight=0.000<br>SNAP_Close: Weight=0.103<br>KO_Close: Weight=0.000<br>TSLA_Close: Weight=0.368<br>SPOT_Close: Weight=0.132<br>UBER_Close: Weight=0.000<br>AMZN_Close: Weight=0.035<br>RDY_Close: Weight=0.362",
          "Return: 120.595%<br>Volatility: 0.477<br>Sharpe Ratio: 2.528<br>AMGN_Close: Weight=0.000<br>SNAP_Close: Weight=0.103<br>KO_Close: Weight=0.000<br>SPOT_Close: Weight=0.132<br>UBER_Close: Weight=0.000<br>AMZN_Close: Weight=0.035<br>RDY_Close: Weight=0.362<br>TSLA_Close: Weight=0.368",
          "Return: 66.911%<br>Volatility: 0.322<br>Sharpe Ratio: 2.075<br>AMGN_Close: Weight=0.000<br>SNAP_Close: Weight=0.140<br>KO_Close: Weight=0.000<br>SPOT_Close: Weight=0.185<br>UBER_Close: Weight=0.000<br>AMZN_Close: Weight=0.232<br>RDY_Close: Weight=0.443<br>NVDA_Close: Weight=0.000",
          "Return: 66.903%<br>Volatility: 0.322<br>Sharpe Ratio: 2.075<br>AMGN_Close: Weight=0.000<br>SNAP_Close: Weight=0.140<br>KO_Close: Weight=0.000<br>SPOT_Close: Weight=0.185<br>UBER_Close: Weight=0.000<br>AMZN_Close: Weight=0.232<br>RDY_Close: Weight=0.443<br>LYFT_Close: Weight=0.000",
          "Return: 66.905%<br>Volatility: 0.322<br>Sharpe Ratio: 2.075<br>AMGN_Close: Weight=0.000<br>SNAP_Close: Weight=0.140<br>KO_Close: Weight=0.000<br>SPOT_Close: Weight=0.185<br>UBER_Close: Weight=0.000<br>AMZN_Close: Weight=0.232<br>RDY_Close: Weight=0.443<br>PYPL_Close: Weight=0.001",
          "Return: 66.902%<br>Volatility: 0.322<br>Sharpe Ratio: 2.075<br>AMGN_Close: Weight=0.000<br>SNAP_Close: Weight=0.140<br>KO_Close: Weight=0.000<br>SPOT_Close: Weight=0.185<br>UBER_Close: Weight=0.000<br>AMZN_Close: Weight=0.232<br>RDY_Close: Weight=0.443<br>AMD_Close: Weight=0.000",
          "Return: 66.902%<br>Volatility: 0.322<br>Sharpe Ratio: 2.075<br>AMGN_Close: Weight=0.000<br>SNAP_Close: Weight=0.140<br>KO_Close: Weight=0.000<br>SPOT_Close: Weight=0.185<br>UBER_Close: Weight=0.000<br>AMZN_Close: Weight=0.232<br>RDY_Close: Weight=0.443<br>ADBE_Close: Weight=0.000",
          "Return: 66.913%<br>Volatility: 0.322<br>Sharpe Ratio: 2.075<br>AMGN_Close: Weight=0.000<br>SNAP_Close: Weight=0.140<br>KO_Close: Weight=0.000<br>SPOT_Close: Weight=0.185<br>UBER_Close: Weight=0.000<br>AMZN_Close: Weight=0.232<br>RDY_Close: Weight=0.443<br>QCOM_Close: Weight=0.000",
          "Return: 66.902%<br>Volatility: 0.322<br>Sharpe Ratio: 2.075<br>AMGN_Close: Weight=0.000<br>SNAP_Close: Weight=0.140<br>KO_Close: Weight=0.000<br>SPOT_Close: Weight=0.185<br>UBER_Close: Weight=0.000<br>AMZN_Close: Weight=0.232<br>RDY_Close: Weight=0.443<br>AAPL_Close: Weight=0.000",
          "Return: 66.902%<br>Volatility: 0.322<br>Sharpe Ratio: 2.075<br>AMGN_Close: Weight=0.000<br>SNAP_Close: Weight=0.140<br>KO_Close: Weight=0.000<br>SPOT_Close: Weight=0.185<br>UBER_Close: Weight=0.000<br>AMZN_Close: Weight=0.232<br>RDY_Close: Weight=0.443<br>MSFT_Close: Weight=0.000",
          "Return: 66.902%<br>Volatility: 0.322<br>Sharpe Ratio: 2.075<br>AMGN_Close: Weight=0.000<br>SNAP_Close: Weight=0.140<br>KO_Close: Weight=0.000<br>SPOT_Close: Weight=0.185<br>UBER_Close: Weight=0.000<br>AMZN_Close: Weight=0.232<br>RDY_Close: Weight=0.443<br>MS_Close: Weight=0.000",
          "Return: 66.899%<br>Volatility: 0.322<br>Sharpe Ratio: 2.075<br>AMGN_Close: Weight=0.000<br>SNAP_Close: Weight=0.140<br>KO_Close: Weight=0.000<br>SPOT_Close: Weight=0.185<br>UBER_Close: Weight=0.000<br>AMZN_Close: Weight=0.232<br>RDY_Close: Weight=0.443<br>BA_Close: Weight=0.000",
          "Return: 66.916%<br>Volatility: 0.322<br>Sharpe Ratio: 2.075<br>AMGN_Close: Weight=0.000<br>SNAP_Close: Weight=0.140<br>KO_Close: Weight=0.000<br>SPOT_Close: Weight=0.185<br>UBER_Close: Weight=0.000<br>AMZN_Close: Weight=0.232<br>RDY_Close: Weight=0.442<br>ISRG_Close: Weight=0.000",
          "Return: 66.902%<br>Volatility: 0.322<br>Sharpe Ratio: 2.075<br>AMGN_Close: Weight=0.000<br>SNAP_Close: Weight=0.140<br>KO_Close: Weight=0.000<br>SPOT_Close: Weight=0.185<br>UBER_Close: Weight=0.000<br>AMZN_Close: Weight=0.232<br>RDY_Close: Weight=0.443<br>META_Close: Weight=0.000",
          "Return: 66.902%<br>Volatility: 0.322<br>Sharpe Ratio: 2.075<br>AMGN_Close: Weight=0.000<br>SNAP_Close: Weight=0.140<br>KO_Close: Weight=0.000<br>SPOT_Close: Weight=0.185<br>UBER_Close: Weight=0.000<br>AMZN_Close: Weight=0.232<br>RDY_Close: Weight=0.443<br>TXN_Close: Weight=0.000",
          "Return: 66.902%<br>Volatility: 0.322<br>Sharpe Ratio: 2.075<br>AMGN_Close: Weight=0.000<br>SNAP_Close: Weight=0.140<br>KO_Close: Weight=0.000<br>SPOT_Close: Weight=0.185<br>UBER_Close: Weight=0.000<br>AMZN_Close: Weight=0.232<br>RDY_Close: Weight=0.443<br>CRM_Close: Weight=0.000",
          "Return: 66.902%<br>Volatility: 0.322<br>Sharpe Ratio: 2.075<br>AMGN_Close: Weight=0.000<br>SNAP_Close: Weight=0.140<br>KO_Close: Weight=0.000<br>SPOT_Close: Weight=0.185<br>UBER_Close: Weight=0.000<br>AMZN_Close: Weight=0.232<br>RDY_Close: Weight=0.443<br>MA_Close: Weight=0.000",
          "Return: 66.902%<br>Volatility: 0.322<br>Sharpe Ratio: 2.075<br>AMGN_Close: Weight=0.000<br>SNAP_Close: Weight=0.140<br>KO_Close: Weight=0.000<br>SPOT_Close: Weight=0.185<br>UBER_Close: Weight=0.000<br>AMZN_Close: Weight=0.232<br>RDY_Close: Weight=0.443<br>HD_Close: Weight=0.000",
          "Return: 66.902%<br>Volatility: 0.322<br>Sharpe Ratio: 2.075<br>AMGN_Close: Weight=0.000<br>SNAP_Close: Weight=0.140<br>KO_Close: Weight=0.000<br>SPOT_Close: Weight=0.185<br>UBER_Close: Weight=0.000<br>AMZN_Close: Weight=0.232<br>RDY_Close: Weight=0.443<br>V_Close: Weight=0.000",
          "Return: 66.915%<br>Volatility: 0.322<br>Sharpe Ratio: 2.075<br>AMGN_Close: Weight=0.000<br>SNAP_Close: Weight=0.140<br>KO_Close: Weight=0.000<br>SPOT_Close: Weight=0.185<br>UBER_Close: Weight=0.000<br>AMZN_Close: Weight=0.232<br>RDY_Close: Weight=0.442<br>GOOG_Close: Weight=0.000",
          "Return: 66.915%<br>Volatility: 0.322<br>Sharpe Ratio: 2.075<br>AMGN_Close: Weight=0.000<br>SNAP_Close: Weight=0.140<br>KO_Close: Weight=0.000<br>SPOT_Close: Weight=0.185<br>UBER_Close: Weight=0.000<br>AMZN_Close: Weight=0.232<br>RDY_Close: Weight=0.442<br>GOOGL_Close: Weight=0.000",
          "Return: 66.914%<br>Volatility: 0.322<br>Sharpe Ratio: 2.075<br>AMGN_Close: Weight=0.000<br>SNAP_Close: Weight=0.140<br>KO_Close: Weight=0.000<br>SPOT_Close: Weight=0.185<br>UBER_Close: Weight=0.000<br>AMZN_Close: Weight=0.232<br>RDY_Close: Weight=0.442<br>ACN_Close: Weight=0.000",
          "Return: 66.906%<br>Volatility: 0.322<br>Sharpe Ratio: 2.075<br>AMGN_Close: Weight=0.000<br>SNAP_Close: Weight=0.140<br>KO_Close: Weight=0.000<br>SPOT_Close: Weight=0.185<br>UBER_Close: Weight=0.000<br>AMZN_Close: Weight=0.232<br>RDY_Close: Weight=0.443<br>SYY_Close: Weight=0.000",
          "Return: 66.902%<br>Volatility: 0.322<br>Sharpe Ratio: 2.075<br>AMGN_Close: Weight=0.000<br>SNAP_Close: Weight=0.140<br>KO_Close: Weight=0.000<br>SPOT_Close: Weight=0.185<br>UBER_Close: Weight=0.000<br>AMZN_Close: Weight=0.232<br>RDY_Close: Weight=0.443<br>GS_Close: Weight=0.000",
          "Return: 66.902%<br>Volatility: 0.322<br>Sharpe Ratio: 2.075<br>AMGN_Close: Weight=0.000<br>SNAP_Close: Weight=0.140<br>KO_Close: Weight=0.000<br>SPOT_Close: Weight=0.185<br>UBER_Close: Weight=0.000<br>AMZN_Close: Weight=0.232<br>RDY_Close: Weight=0.443<br>UNH_Close: Weight=0.000",
          "Return: 66.903%<br>Volatility: 0.322<br>Sharpe Ratio: 2.075<br>AMGN_Close: Weight=0.000<br>SNAP_Close: Weight=0.140<br>KO_Close: Weight=0.000<br>SPOT_Close: Weight=0.185<br>UBER_Close: Weight=0.000<br>AMZN_Close: Weight=0.233<br>RDY_Close: Weight=0.442<br>GM_Close: Weight=0.000",
          "Return: 66.906%<br>Volatility: 0.322<br>Sharpe Ratio: 2.075<br>AMGN_Close: Weight=0.000<br>SNAP_Close: Weight=0.140<br>KO_Close: Weight=0.000<br>SPOT_Close: Weight=0.185<br>UBER_Close: Weight=0.000<br>AMZN_Close: Weight=0.232<br>RDY_Close: Weight=0.443<br>DE_Close: Weight=0.000",
          "Return: 66.911%<br>Volatility: 0.322<br>Sharpe Ratio: 2.075<br>AMGN_Close: Weight=0.000<br>SNAP_Close: Weight=0.140<br>KO_Close: Weight=0.000<br>SPOT_Close: Weight=0.185<br>UBER_Close: Weight=0.000<br>AMZN_Close: Weight=0.233<br>RDY_Close: Weight=0.442<br>ETN_Close: Weight=0.000",
          "Return: 66.914%<br>Volatility: 0.322<br>Sharpe Ratio: 2.075<br>AMGN_Close: Weight=0.000<br>SNAP_Close: Weight=0.140<br>KO_Close: Weight=0.000<br>SPOT_Close: Weight=0.185<br>UBER_Close: Weight=0.000<br>AMZN_Close: Weight=0.232<br>RDY_Close: Weight=0.442<br>SYK_Close: Weight=0.000",
          "Return: 66.902%<br>Volatility: 0.322<br>Sharpe Ratio: 2.075<br>AMGN_Close: Weight=0.000<br>SNAP_Close: Weight=0.140<br>KO_Close: Weight=0.000<br>SPOT_Close: Weight=0.185<br>UBER_Close: Weight=0.000<br>AMZN_Close: Weight=0.232<br>RDY_Close: Weight=0.443<br>DIS_Close: Weight=0.000",
          "Return: 66.902%<br>Volatility: 0.322<br>Sharpe Ratio: 2.075<br>AMGN_Close: Weight=0.000<br>SNAP_Close: Weight=0.140<br>KO_Close: Weight=0.000<br>SPOT_Close: Weight=0.185<br>UBER_Close: Weight=0.000<br>AMZN_Close: Weight=0.232<br>RDY_Close: Weight=0.443<br>EXC_Close: Weight=0.000",
          "Return: 66.903%<br>Volatility: 0.322<br>Sharpe Ratio: 2.075<br>AMGN_Close: Weight=0.000<br>SNAP_Close: Weight=0.140<br>KO_Close: Weight=0.000<br>SPOT_Close: Weight=0.185<br>UBER_Close: Weight=0.000<br>AMZN_Close: Weight=0.232<br>RDY_Close: Weight=0.443<br>BAC_Close: Weight=0.000",
          "Return: 66.901%<br>Volatility: 0.322<br>Sharpe Ratio: 2.075<br>AMGN_Close: Weight=0.000<br>SNAP_Close: Weight=0.140<br>KO_Close: Weight=0.000<br>SPOT_Close: Weight=0.185<br>UBER_Close: Weight=0.000<br>AMZN_Close: Weight=0.232<br>RDY_Close: Weight=0.443<br>CVX_Close: Weight=0.000",
          "Return: 66.903%<br>Volatility: 0.322<br>Sharpe Ratio: 2.075<br>AMGN_Close: Weight=0.000<br>SNAP_Close: Weight=0.140<br>KO_Close: Weight=0.000<br>SPOT_Close: Weight=0.185<br>UBER_Close: Weight=0.000<br>AMZN_Close: Weight=0.232<br>RDY_Close: Weight=0.443<br>EMR_Close: Weight=0.000",
          "Return: 66.905%<br>Volatility: 0.322<br>Sharpe Ratio: 2.075<br>AMGN_Close: Weight=0.000<br>SNAP_Close: Weight=0.140<br>KO_Close: Weight=0.000<br>SPOT_Close: Weight=0.185<br>UBER_Close: Weight=0.000<br>AMZN_Close: Weight=0.232<br>RDY_Close: Weight=0.443<br>NKE_Close: Weight=0.000",
          "Return: 66.908%<br>Volatility: 0.322<br>Sharpe Ratio: 2.075<br>AMGN_Close: Weight=0.000<br>SNAP_Close: Weight=0.140<br>KO_Close: Weight=0.000<br>SPOT_Close: Weight=0.185<br>UBER_Close: Weight=0.000<br>AMZN_Close: Weight=0.233<br>RDY_Close: Weight=0.442<br>INTC_Close: Weight=0.000",
          "Return: 66.899%<br>Volatility: 0.322<br>Sharpe Ratio: 2.075<br>AMGN_Close: Weight=0.000<br>SNAP_Close: Weight=0.140<br>KO_Close: Weight=0.000<br>SPOT_Close: Weight=0.185<br>UBER_Close: Weight=0.000<br>AMZN_Close: Weight=0.232<br>RDY_Close: Weight=0.443<br>JPM_Close: Weight=0.000",
          "Return: 66.912%<br>Volatility: 0.322<br>Sharpe Ratio: 2.075<br>AMGN_Close: Weight=0.000<br>SNAP_Close: Weight=0.140<br>KO_Close: Weight=0.000<br>SPOT_Close: Weight=0.185<br>UBER_Close: Weight=0.000<br>AMZN_Close: Weight=0.232<br>RDY_Close: Weight=0.442<br>HON_Close: Weight=0.000",
          "Return: 66.900%<br>Volatility: 0.322<br>Sharpe Ratio: 2.075<br>AMGN_Close: Weight=0.000<br>SNAP_Close: Weight=0.140<br>KO_Close: Weight=0.000<br>SPOT_Close: Weight=0.185<br>UBER_Close: Weight=0.000<br>AMZN_Close: Weight=0.232<br>RDY_Close: Weight=0.443<br>DHR_Close: Weight=0.000",
          "Return: 66.915%<br>Volatility: 0.322<br>Sharpe Ratio: 2.075<br>AMGN_Close: Weight=0.000<br>SNAP_Close: Weight=0.140<br>KO_Close: Weight=0.000<br>SPOT_Close: Weight=0.185<br>UBER_Close: Weight=0.000<br>AMZN_Close: Weight=0.232<br>RDY_Close: Weight=0.442<br>MCD_Close: Weight=0.000",
          "Return: 66.902%<br>Volatility: 0.322<br>Sharpe Ratio: 2.075<br>AMGN_Close: Weight=0.000<br>SNAP_Close: Weight=0.140<br>KO_Close: Weight=0.000<br>SPOT_Close: Weight=0.185<br>UBER_Close: Weight=0.000<br>AMZN_Close: Weight=0.232<br>RDY_Close: Weight=0.443<br>EW_Close: Weight=0.000",
          "Return: 66.914%<br>Volatility: 0.322<br>Sharpe Ratio: 2.075<br>AMGN_Close: Weight=0.000<br>SNAP_Close: Weight=0.140<br>KO_Close: Weight=0.000<br>SPOT_Close: Weight=0.185<br>UBER_Close: Weight=0.000<br>AMZN_Close: Weight=0.232<br>RDY_Close: Weight=0.443<br>NFLX_Close: Weight=0.000",
          "Return: 66.914%<br>Volatility: 0.322<br>Sharpe Ratio: 2.075<br>AMGN_Close: Weight=0.000<br>SNAP_Close: Weight=0.140<br>KO_Close: Weight=0.000<br>SPOT_Close: Weight=0.185<br>UBER_Close: Weight=0.000<br>AMZN_Close: Weight=0.232<br>RDY_Close: Weight=0.442<br>RMD_Close: Weight=0.000",
          "Return: 66.911%<br>Volatility: 0.322<br>Sharpe Ratio: 2.075<br>AMGN_Close: Weight=0.000<br>SNAP_Close: Weight=0.140<br>KO_Close: Weight=0.000<br>SPOT_Close: Weight=0.185<br>UBER_Close: Weight=0.000<br>AMZN_Close: Weight=0.232<br>RDY_Close: Weight=0.443<br>NEE_Close: Weight=0.000",
          "Return: 66.902%<br>Volatility: 0.322<br>Sharpe Ratio: 2.075<br>AMGN_Close: Weight=0.000<br>SNAP_Close: Weight=0.140<br>KO_Close: Weight=0.000<br>SPOT_Close: Weight=0.185<br>UBER_Close: Weight=0.000<br>AMZN_Close: Weight=0.232<br>RDY_Close: Weight=0.443<br>CMCSA_Close: Weight=0.000",
          "Return: 66.903%<br>Volatility: 0.322<br>Sharpe Ratio: 2.075<br>AMGN_Close: Weight=0.000<br>SNAP_Close: Weight=0.140<br>KO_Close: Weight=0.000<br>SPOT_Close: Weight=0.185<br>UBER_Close: Weight=0.000<br>AMZN_Close: Weight=0.232<br>RDY_Close: Weight=0.443<br>GE_Close: Weight=0.000",
          "Return: 66.916%<br>Volatility: 0.322<br>Sharpe Ratio: 2.075<br>AMGN_Close: Weight=0.000<br>SNAP_Close: Weight=0.140<br>KO_Close: Weight=0.000<br>SPOT_Close: Weight=0.185<br>UBER_Close: Weight=0.000<br>AMZN_Close: Weight=0.232<br>RDY_Close: Weight=0.442<br>ORCL_Close: Weight=0.000",
          "Return: 66.911%<br>Volatility: 0.322<br>Sharpe Ratio: 2.075<br>AMGN_Close: Weight=0.000<br>SNAP_Close: Weight=0.140<br>KO_Close: Weight=0.000<br>SPOT_Close: Weight=0.185<br>UBER_Close: Weight=0.000<br>AMZN_Close: Weight=0.233<br>RDY_Close: Weight=0.442<br>MDT_Close: Weight=0.000",
          "Return: 66.903%<br>Volatility: 0.322<br>Sharpe Ratio: 2.075<br>AMGN_Close: Weight=0.000<br>SNAP_Close: Weight=0.140<br>KO_Close: Weight=0.000<br>SPOT_Close: Weight=0.185<br>UBER_Close: Weight=0.000<br>AMZN_Close: Weight=0.232<br>RDY_Close: Weight=0.443<br>CSCO_Close: Weight=0.000",
          "Return: 66.902%<br>Volatility: 0.322<br>Sharpe Ratio: 2.075<br>AMGN_Close: Weight=0.000<br>SNAP_Close: Weight=0.140<br>KO_Close: Weight=0.000<br>SPOT_Close: Weight=0.185<br>UBER_Close: Weight=0.000<br>AMZN_Close: Weight=0.232<br>RDY_Close: Weight=0.443<br>PEP_Close: Weight=0.000",
          "Return: 66.904%<br>Volatility: 0.322<br>Sharpe Ratio: 2.075<br>AMGN_Close: Weight=0.000<br>SNAP_Close: Weight=0.140<br>KO_Close: Weight=0.000<br>SPOT_Close: Weight=0.185<br>UBER_Close: Weight=0.000<br>AMZN_Close: Weight=0.233<br>RDY_Close: Weight=0.442<br>ZBH_Close: Weight=0.000",
          "Return: 66.907%<br>Volatility: 0.322<br>Sharpe Ratio: 2.075<br>AMGN_Close: Weight=0.000<br>SNAP_Close: Weight=0.140<br>KO_Close: Weight=0.000<br>SPOT_Close: Weight=0.185<br>UBER_Close: Weight=0.000<br>AMZN_Close: Weight=0.232<br>RDY_Close: Weight=0.443<br>F_Close: Weight=0.000",
          "Return: 66.914%<br>Volatility: 0.322<br>Sharpe Ratio: 2.075<br>AMGN_Close: Weight=0.000<br>SNAP_Close: Weight=0.140<br>KO_Close: Weight=0.000<br>SPOT_Close: Weight=0.185<br>UBER_Close: Weight=0.000<br>AMZN_Close: Weight=0.232<br>RDY_Close: Weight=0.442<br>CAT_Close: Weight=0.000",
          "Return: 66.906%<br>Volatility: 0.322<br>Sharpe Ratio: 2.075<br>AMGN_Close: Weight=0.000<br>SNAP_Close: Weight=0.140<br>KO_Close: Weight=0.000<br>SPOT_Close: Weight=0.185<br>UBER_Close: Weight=0.000<br>AMZN_Close: Weight=0.232<br>RDY_Close: Weight=0.443<br>UA_Close: Weight=0.000",
          "Return: 66.916%<br>Volatility: 0.322<br>Sharpe Ratio: 2.075<br>AMGN_Close: Weight=0.000<br>SNAP_Close: Weight=0.140<br>KO_Close: Weight=0.000<br>SPOT_Close: Weight=0.185<br>UBER_Close: Weight=0.000<br>AMZN_Close: Weight=0.232<br>RDY_Close: Weight=0.442<br>ABT_Close: Weight=0.000",
          "Return: 66.902%<br>Volatility: 0.322<br>Sharpe Ratio: 2.075<br>AMGN_Close: Weight=0.000<br>SNAP_Close: Weight=0.140<br>KO_Close: Weight=0.000<br>SPOT_Close: Weight=0.185<br>UBER_Close: Weight=0.000<br>AMZN_Close: Weight=0.232<br>RDY_Close: Weight=0.443<br>SAP_Close: Weight=0.000",
          "Return: 66.894%<br>Volatility: 0.322<br>Sharpe Ratio: 2.075<br>AMGN_Close: Weight=0.000<br>SNAP_Close: Weight=0.140<br>KO_Close: Weight=0.000<br>SPOT_Close: Weight=0.185<br>UBER_Close: Weight=0.000<br>AMZN_Close: Weight=0.232<br>RDY_Close: Weight=0.443<br>RTX_Close: Weight=0.000",
          "Return: 66.902%<br>Volatility: 0.322<br>Sharpe Ratio: 2.075<br>AMGN_Close: Weight=0.000<br>SNAP_Close: Weight=0.140<br>KO_Close: Weight=0.000<br>SPOT_Close: Weight=0.185<br>UBER_Close: Weight=0.000<br>AMZN_Close: Weight=0.232<br>RDY_Close: Weight=0.443<br>IBM_Close: Weight=0.000",
          "Return: 66.900%<br>Volatility: 0.322<br>Sharpe Ratio: 2.075<br>AMGN_Close: Weight=0.000<br>SNAP_Close: Weight=0.140<br>KO_Close: Weight=0.000<br>SPOT_Close: Weight=0.185<br>UBER_Close: Weight=0.000<br>AMZN_Close: Weight=0.233<br>RDY_Close: Weight=0.442<br>BSX_Close: Weight=0.000",
          "Return: 66.899%<br>Volatility: 0.322<br>Sharpe Ratio: 2.075<br>AMGN_Close: Weight=0.000<br>SNAP_Close: Weight=0.140<br>KO_Close: Weight=0.000<br>SPOT_Close: Weight=0.185<br>UBER_Close: Weight=0.000<br>AMZN_Close: Weight=0.232<br>RDY_Close: Weight=0.443<br>TMO_Close: Weight=0.000",
          "Return: 66.902%<br>Volatility: 0.322<br>Sharpe Ratio: 2.075<br>AMGN_Close: Weight=0.000<br>SNAP_Close: Weight=0.140<br>KO_Close: Weight=0.000<br>SPOT_Close: Weight=0.185<br>UBER_Close: Weight=0.000<br>AMZN_Close: Weight=0.232<br>RDY_Close: Weight=0.443<br>VRTX_Close: Weight=0.000",
          "Return: 66.899%<br>Volatility: 0.322<br>Sharpe Ratio: 2.075<br>AMGN_Close: Weight=0.000<br>SNAP_Close: Weight=0.140<br>KO_Close: Weight=0.000<br>SPOT_Close: Weight=0.185<br>UBER_Close: Weight=0.000<br>AMZN_Close: Weight=0.232<br>RDY_Close: Weight=0.443<br>WFC_Close: Weight=0.000",
          "Return: 66.902%<br>Volatility: 0.322<br>Sharpe Ratio: 2.075<br>AMGN_Close: Weight=0.000<br>SNAP_Close: Weight=0.140<br>KO_Close: Weight=0.000<br>SPOT_Close: Weight=0.185<br>UBER_Close: Weight=0.000<br>AMZN_Close: Weight=0.232<br>RDY_Close: Weight=0.443<br>SRE_Close: Weight=0.000",
          "Return: 66.902%<br>Volatility: 0.322<br>Sharpe Ratio: 2.075<br>AMGN_Close: Weight=0.000<br>SNAP_Close: Weight=0.140<br>KO_Close: Weight=0.000<br>SPOT_Close: Weight=0.185<br>UBER_Close: Weight=0.000<br>AMZN_Close: Weight=0.232<br>RDY_Close: Weight=0.443<br>PM_Close: Weight=0.000",
          "Return: 66.902%<br>Volatility: 0.322<br>Sharpe Ratio: 2.075<br>AMGN_Close: Weight=0.000<br>SNAP_Close: Weight=0.140<br>KO_Close: Weight=0.000<br>SPOT_Close: Weight=0.185<br>UBER_Close: Weight=0.000<br>AMZN_Close: Weight=0.232<br>RDY_Close: Weight=0.443<br>SO_Close: Weight=0.000",
          "Return: 66.909%<br>Volatility: 0.322<br>Sharpe Ratio: 2.075<br>AMGN_Close: Weight=0.000<br>SNAP_Close: Weight=0.140<br>KO_Close: Weight=0.000<br>SPOT_Close: Weight=0.185<br>UBER_Close: Weight=0.000<br>AMZN_Close: Weight=0.232<br>RDY_Close: Weight=0.443<br>ABBV_Close: Weight=0.000",
          "Return: 66.902%<br>Volatility: 0.322<br>Sharpe Ratio: 2.075<br>AMGN_Close: Weight=0.000<br>SNAP_Close: Weight=0.140<br>KO_Close: Weight=0.000<br>SPOT_Close: Weight=0.185<br>UBER_Close: Weight=0.000<br>AMZN_Close: Weight=0.232<br>RDY_Close: Weight=0.443<br>DUK_Close: Weight=0.000",
          "Return: 66.902%<br>Volatility: 0.322<br>Sharpe Ratio: 2.075<br>AMGN_Close: Weight=0.000<br>SNAP_Close: Weight=0.140<br>KO_Close: Weight=0.000<br>SPOT_Close: Weight=0.185<br>UBER_Close: Weight=0.000<br>AMZN_Close: Weight=0.232<br>RDY_Close: Weight=0.443<br>BIIB_Close: Weight=0.000",
          "Return: 66.899%<br>Volatility: 0.322<br>Sharpe Ratio: 2.075<br>AMGN_Close: Weight=0.000<br>SNAP_Close: Weight=0.140<br>KO_Close: Weight=0.000<br>SPOT_Close: Weight=0.185<br>UBER_Close: Weight=0.000<br>AMZN_Close: Weight=0.232<br>RDY_Close: Weight=0.443<br>XOM_Close: Weight=0.000",
          "Return: 66.902%<br>Volatility: 0.322<br>Sharpe Ratio: 2.075<br>AMGN_Close: Weight=0.000<br>SNAP_Close: Weight=0.140<br>KO_Close: Weight=0.000<br>SPOT_Close: Weight=0.185<br>UBER_Close: Weight=0.000<br>AMZN_Close: Weight=0.232<br>RDY_Close: Weight=0.443<br>COST_Close: Weight=0.000",
          "Return: 66.915%<br>Volatility: 0.322<br>Sharpe Ratio: 2.075<br>AMGN_Close: Weight=0.000<br>SNAP_Close: Weight=0.140<br>KO_Close: Weight=0.000<br>SPOT_Close: Weight=0.185<br>UBER_Close: Weight=0.000<br>AMZN_Close: Weight=0.232<br>RDY_Close: Weight=0.442<br>BABA_Close: Weight=0.000",
          "Return: 66.911%<br>Volatility: 0.322<br>Sharpe Ratio: 2.075<br>AMGN_Close: Weight=0.000<br>SNAP_Close: Weight=0.140<br>KO_Close: Weight=0.000<br>SPOT_Close: Weight=0.185<br>UBER_Close: Weight=0.000<br>AMZN_Close: Weight=0.232<br>RDY_Close: Weight=0.443<br>LLY_Close: Weight=0.000",
          "Return: 66.902%<br>Volatility: 0.322<br>Sharpe Ratio: 2.075<br>AMGN_Close: Weight=0.000<br>SNAP_Close: Weight=0.140<br>KO_Close: Weight=0.000<br>SPOT_Close: Weight=0.185<br>UBER_Close: Weight=0.000<br>AMZN_Close: Weight=0.232<br>RDY_Close: Weight=0.443<br>MRK_Close: Weight=0.000",
          "Return: 66.915%<br>Volatility: 0.322<br>Sharpe Ratio: 2.075<br>AMGN_Close: Weight=0.000<br>SNAP_Close: Weight=0.140<br>KO_Close: Weight=0.000<br>SPOT_Close: Weight=0.185<br>UBER_Close: Weight=0.000<br>AMZN_Close: Weight=0.232<br>RDY_Close: Weight=0.442<br>PG_Close: Weight=0.000",
          "Return: 66.917%<br>Volatility: 0.322<br>Sharpe Ratio: 2.075<br>AMGN_Close: Weight=0.000<br>SNAP_Close: Weight=0.140<br>KO_Close: Weight=0.000<br>SPOT_Close: Weight=0.185<br>UBER_Close: Weight=0.000<br>AMZN_Close: Weight=0.232<br>RDY_Close: Weight=0.442<br>JNJ_Close: Weight=0.000",
          "Return: 66.902%<br>Volatility: 0.322<br>Sharpe Ratio: 2.075<br>AMGN_Close: Weight=0.000<br>SNAP_Close: Weight=0.140<br>KO_Close: Weight=0.000<br>SPOT_Close: Weight=0.185<br>UBER_Close: Weight=0.000<br>AMZN_Close: Weight=0.232<br>RDY_Close: Weight=0.443<br>MMM_Close: Weight=0.000",
          "Return: 66.902%<br>Volatility: 0.322<br>Sharpe Ratio: 2.075<br>AMGN_Close: Weight=0.000<br>SNAP_Close: Weight=0.140<br>KO_Close: Weight=0.000<br>SPOT_Close: Weight=0.185<br>UBER_Close: Weight=0.000<br>AMZN_Close: Weight=0.232<br>RDY_Close: Weight=0.443<br>LMT_Close: Weight=0.000",
          "Return: 66.902%<br>Volatility: 0.322<br>Sharpe Ratio: 2.075<br>AMGN_Close: Weight=0.000<br>SNAP_Close: Weight=0.140<br>KO_Close: Weight=0.000<br>SPOT_Close: Weight=0.185<br>UBER_Close: Weight=0.000<br>AMZN_Close: Weight=0.232<br>RDY_Close: Weight=0.443<br>PFE_Close: Weight=0.000",
          "Return: 66.902%<br>Volatility: 0.322<br>Sharpe Ratio: 2.075<br>AMGN_Close: Weight=0.000<br>SNAP_Close: Weight=0.140<br>KO_Close: Weight=0.000<br>SPOT_Close: Weight=0.185<br>UBER_Close: Weight=0.000<br>AMZN_Close: Weight=0.232<br>RDY_Close: Weight=0.443<br>BTI_Close: Weight=0.000",
          "Return: 66.902%<br>Volatility: 0.322<br>Sharpe Ratio: 2.075<br>AMGN_Close: Weight=0.000<br>SNAP_Close: Weight=0.140<br>KO_Close: Weight=0.000<br>SPOT_Close: Weight=0.185<br>UBER_Close: Weight=0.000<br>AMZN_Close: Weight=0.232<br>RDY_Close: Weight=0.443<br>REGN_Close: Weight=0.000",
          "Return: 66.899%<br>Volatility: 0.322<br>Sharpe Ratio: 2.075<br>AMGN_Close: Weight=0.000<br>SNAP_Close: Weight=0.140<br>KO_Close: Weight=0.000<br>SPOT_Close: Weight=0.185<br>UBER_Close: Weight=0.000<br>AMZN_Close: Weight=0.232<br>RDY_Close: Weight=0.443<br>T_Close: Weight=0.000",
          "Return: 66.916%<br>Volatility: 0.322<br>Sharpe Ratio: 2.075<br>AMGN_Close: Weight=0.000<br>SNAP_Close: Weight=0.140<br>KO_Close: Weight=0.000<br>SPOT_Close: Weight=0.185<br>UBER_Close: Weight=0.000<br>AMZN_Close: Weight=0.232<br>RDY_Close: Weight=0.442<br>BMY_Close: Weight=0.000",
          "Return: 66.902%<br>Volatility: 0.322<br>Sharpe Ratio: 2.075<br>AMGN_Close: Weight=0.000<br>SNAP_Close: Weight=0.140<br>KO_Close: Weight=0.000<br>SPOT_Close: Weight=0.185<br>UBER_Close: Weight=0.000<br>AMZN_Close: Weight=0.232<br>RDY_Close: Weight=0.443<br>MO_Close: Weight=0.000",
          "Return: 66.902%<br>Volatility: 0.322<br>Sharpe Ratio: 2.075<br>AMGN_Close: Weight=0.000<br>SNAP_Close: Weight=0.140<br>KO_Close: Weight=0.000<br>SPOT_Close: Weight=0.185<br>UBER_Close: Weight=0.000<br>AMZN_Close: Weight=0.232<br>RDY_Close: Weight=0.443<br>AEP_Close: Weight=0.000",
          "Return: 66.914%<br>Volatility: 0.322<br>Sharpe Ratio: 2.075<br>AMGN_Close: Weight=0.000<br>SNAP_Close: Weight=0.140<br>KO_Close: Weight=0.000<br>SPOT_Close: Weight=0.185<br>UBER_Close: Weight=0.000<br>AMZN_Close: Weight=0.232<br>RDY_Close: Weight=0.442<br>VZ_Close: Weight=0.000",
          "Return: 66.902%<br>Volatility: 0.322<br>Sharpe Ratio: 2.075<br>AMGN_Close: Weight=0.000<br>SNAP_Close: Weight=0.140<br>KO_Close: Weight=0.000<br>SPOT_Close: Weight=0.185<br>UBER_Close: Weight=0.000<br>AMZN_Close: Weight=0.232<br>RDY_Close: Weight=0.443<br>WMT_Close: Weight=0.000",
          "Return: 66.902%<br>Volatility: 0.322<br>Sharpe Ratio: 2.075<br>AMGN_Close: Weight=0.000<br>SNAP_Close: Weight=0.140<br>KO_Close: Weight=0.000<br>SPOT_Close: Weight=0.185<br>UBER_Close: Weight=0.000<br>AMZN_Close: Weight=0.232<br>RDY_Close: Weight=0.443<br>GILD_Close: Weight=0.000",
          "Return: 66.908%<br>Volatility: 0.322<br>Sharpe Ratio: 2.075<br>AMGN_Close: Weight=0.000<br>SNAP_Close: Weight=0.140<br>KO_Close: Weight=0.000<br>SPOT_Close: Weight=0.185<br>UBER_Close: Weight=0.000<br>AMZN_Close: Weight=0.232<br>RDY_Close: Weight=0.443<br>GIS_Close: Weight=0.000",
          "Return: 66.914%<br>Volatility: 0.322<br>Sharpe Ratio: 2.075<br>AMGN_Close: Weight=0.000<br>SNAP_Close: Weight=0.140<br>KO_Close: Weight=0.000<br>SPOT_Close: Weight=0.185<br>UBER_Close: Weight=0.000<br>AMZN_Close: Weight=0.232<br>RDY_Close: Weight=0.442<br>CPB_Close: Weight=0.000"
         ],
         "type": "scatter",
         "x": [
          0.5656540040078374,
          0.7465461513663243,
          0.7465456299865668,
          0.7465456299865668,
          0.6936181385187851,
          0.6936181644830538,
          0.6936303442802332,
          0.6936181644830538,
          0.6936303442802332,
          0.6936238319656183,
          0.6936391172416012,
          0.6936181644830538,
          0.6936303442802332,
          0.6936238319656183,
          0.6936391172416012,
          0.6936172097072529,
          0.6936209620921624,
          0.6936145633362663,
          0.6936157756705894,
          0.6936139101133579,
          0.6936136601127123,
          0.6936200021774402,
          0.6936054573834978,
          0.6936091023337381,
          0.6936128784323441,
          0.6936239084799823,
          0.6935922257992334,
          0.6936239682297679,
          0.6935947161563064,
          0.6936061878645363,
          0.6936233322547559,
          0.6936137337117395,
          0.6936202397258218,
          0.6936254526923155,
          0.6936259499440411,
          0.6936158968519873,
          0.6935913223297783,
          0.6935905810870583,
          0.6936149272786684,
          0.693620947833715,
          0.6936280041988191,
          0.6936160831837257,
          0.693562417209443,
          0.6936156601621873,
          0.6936094349139135,
          0.6935840921926618,
          0.6936239557983156,
          0.6936052624056913,
          0.6936157919256548,
          0.6936114035380853,
          0.6936172424488037,
          0.6935982573203577,
          0.6936082417886109,
          0.6936266661521191,
          0.6936212264528238,
          0.693627258379343,
          0.6936052612611308,
          0.6935390271592987,
          0.6936250775227343,
          0.6935867086453124,
          0.6936031910643461,
          0.6936055565765697,
          0.6936138300293946,
          0.6373523814428247,
          0.6373554816136318,
          0.6373554816136318,
          0.6373502677799657,
          0.6373512403961639,
          0.6373594333833232,
          0.6373554816136318,
          0.6373502677799657,
          0.6373512403961639,
          0.6373594333833232,
          0.637361451720649,
          0.6565275580754926,
          0.6565482880780655,
          0.6373614501482903,
          0.6565275580754926,
          0.6565482880780655,
          0.6373614501482903,
          0.6565318203945234,
          0.6565703943802693,
          0.6565316554556062,
          0.6565276301493193,
          0.6565279508039651,
          0.6565279520476045,
          0.6565285653452575,
          0.6565282285472197,
          0.6565318680602952,
          0.6565345307905067,
          0.6565337687642671,
          0.6565337623875254,
          0.6565342038051974,
          0.6565277509703329,
          0.6565288729352372,
          0.6565297158621017,
          0.6565312980424185,
          0.6565284970368903,
          0.6565278815566539,
          0.6565316668806009,
          0.656528557334933,
          0.6565293503448626,
          0.656529428953882,
          0.6565374605558357,
          0.6565366821634805,
          0.6565436834272634,
          0.6565312713384301,
          0.656530034454459,
          0.656531064608006,
          0.656528964294921,
          0.6565287784304324,
          0.656529154943545,
          0.6565331874927486,
          0.6565283516488662,
          0.6565317484329934,
          0.6565320010819554,
          0.6565377182763947,
          0.656529971850123,
          0.6565411925383259,
          0.6565284342746636,
          0.6565343892837797,
          0.6565279912074911,
          0.6054697092205052,
          0.6054312112382156,
          0.6054312112382156,
          0.6053019729545286,
          0.6054312112382156,
          0.6053019729545286,
          0.6044408592190642,
          0.6054312112382156,
          0.6053019729545286,
          0.6044408592190642,
          0.6054009034456083,
          0.6054948270702136,
          0.6054509629237841,
          0.605452760958678,
          0.6054665460418162,
          0.6052434635894436,
          0.6054233267588969,
          0.6053871321043108,
          0.6054591487913272,
          0.6050780003290485,
          0.6054192275636844,
          0.605076949627215,
          0.6050769762264759,
          0.6055060147599156,
          0.605482496616595,
          0.6054068959296429,
          0.6054665626686907,
          0.6053996403358645,
          0.605076889481648,
          0.6054015183309929,
          0.6054188912148591,
          0.6054599003770548,
          0.605442947054129,
          0.6054569636383232,
          0.6054204500439246,
          0.6053659777935925,
          0.6053777863508617,
          0.6054813997856305,
          0.605331252884021,
          0.6050790608797807,
          0.605441769804941,
          0.6054670427805247,
          0.605441928598102,
          0.605479341286272,
          0.6054541623913239,
          0.6054116302838064,
          0.6050930480192768,
          0.6054992733256856,
          0.6054217230604635,
          0.6050775433038811,
          0.6055006410092477,
          0.6054301079869299,
          0.6053893826276613,
          0.6053676580944941,
          0.6054680967896451,
          0.6053490586241185,
          0.6050777506586507,
          0.6054696899322186,
          0.6055135765226853,
          0.6055081509160513,
          0.6054311880080041,
          0.6053361097431091,
          0.605491154530801,
          0.6050765921461088,
          0.6054617791940549,
          0.6054683869886202,
          0.6051009622843712,
          0.6054834600714614,
          0.6055146276116522,
          0.6050769092510438,
          0.6050771820506173,
          0.47710287751064834,
          0.4771028803501509,
          0.32239697840586995,
          0.32236136725146486,
          0.32237071668859607,
          0.3223572735732092,
          0.3223572834788407,
          0.32240924060370996,
          0.3223572102939957,
          0.3223572847755762,
          0.32235553948418844,
          0.32234254834670617,
          0.3224216630889612,
          0.3223572835236697,
          0.32235528872845437,
          0.3223572693204689,
          0.3223568181906864,
          0.3223546192219527,
          0.32235527109977763,
          0.3224160896066714,
          0.3224161530308513,
          0.3224143485202439,
          0.3223752546818978,
          0.322356738274271,
          0.32235677913557526,
          0.3223613648793139,
          0.32237391873745225,
          0.32239702321793184,
          0.322412403706483,
          0.3223555196624783,
          0.3223567029048897,
          0.32236065853888923,
          0.3223522509345067,
          0.32236009197585824,
          0.3223702604478752,
          0.32238273124294353,
          0.3223396775745433,
          0.32240290807659466,
          0.3223476108173593,
          0.3224205052659864,
          0.32235545648737457,
          0.3224129682118971,
          0.32241220685690847,
          0.3223990057916318,
          0.32235500943195283,
          0.3223610245585366,
          0.32242452234667207,
          0.32239711385217884,
          0.322361753320782,
          0.322355180040196,
          0.32236401958333344,
          0.32237982052122727,
          0.3224148607096264,
          0.32237405706353,
          0.322422550247699,
          0.32235693932440923,
          0.322318229561151,
          0.3223567400522412,
          0.3223448526301184,
          0.32234350964759917,
          0.32235703724172293,
          0.32234138573765386,
          0.3223565798610418,
          0.322355031403279,
          0.32235550679606173,
          0.3223879265436793,
          0.32235510747644913,
          0.32235487120792383,
          0.32234155438838963,
          0.3223570721904919,
          0.3224191485100638,
          0.32239931262319216,
          0.3223553411080053,
          0.32241643954831417,
          0.32242583554266124,
          0.32235540179665184,
          0.3223567983513146,
          0.3223550493711303,
          0.32235572950001634,
          0.3223572471053679,
          0.3223409489280759,
          0.32242359063548426,
          0.32235669078383006,
          0.3223550589529748,
          0.3224139031045944,
          0.32235715207278853,
          0.3223551898310454,
          0.3223857067083652,
          0.32241487393188606
         ],
         "y": [
          0.9342662036157129,
          1.806287206572653,
          1.8062859451400881,
          1.8062859451400881,
          1.6840574112452524,
          1.6840574742668852,
          1.684087064164611,
          1.6840574742668852,
          1.684087064164611,
          1.684071243093689,
          1.6841083745075187,
          1.6840574742668852,
          1.684087064164611,
          1.684071243093689,
          1.6841083745075187,
          1.684055168646539,
          1.684064271914905,
          1.6840487261363293,
          1.6840516732247703,
          1.6840471398822134,
          1.6840465318701445,
          1.6840619403033255,
          1.6840266111298208,
          1.6840354633302868,
          1.6840446339903168,
          1.6840714288493261,
          1.683994490675341,
          1.6840715733467602,
          1.6840005399893019,
          1.6840283842003414,
          1.6840700325551785,
          1.6840467144398488,
          1.6840625171077355,
          1.6840751811240078,
          1.6840763885371886,
          1.6840519667139089,
          1.6839922959741922,
          1.683990496920642,
          1.6840496113895482,
          1.68406423587564,
          1.684081380551821,
          1.6840524190476158,
          1.6839221339756345,
          1.6840513905518015,
          1.6840362676421927,
          1.6839747494620396,
          1.6840715430518398,
          1.6840261423721048,
          1.6840517107663797,
          1.6840410543104543,
          1.6840552351624283,
          1.6840091294438007,
          1.6840333745139981,
          1.684078127377665,
          1.6840649142764887,
          1.684079566416455,
          1.6840261301070425,
          1.68386535090191,
          1.6840742687991346,
          1.6839810861378368,
          1.6840211006174444,
          1.6840268517876376,
          1.6840469446002193,
          1.5626027406451766,
          1.5626103416168509,
          1.5626103416168509,
          1.562597558026546,
          1.5625999433229856,
          1.5626200310037932,
          1.5626103416168509,
          1.562597558026546,
          1.5625999433229856,
          1.5626200310037932,
          1.5626249799048462,
          1.6078407743006047,
          1.6078915354852428,
          1.562624976051179,
          1.6078407743006047,
          1.6078915354852428,
          1.562624976051179,
          1.6078512100505713,
          1.6079454176849854,
          1.607850807053829,
          1.607840951785545,
          1.6078417395417663,
          1.6078417398590186,
          1.6078432429341734,
          1.6078424182452695,
          1.6078513285150757,
          1.6078578474158411,
          1.6078559817019418,
          1.6078559657109135,
          1.6078570467433668,
          1.6078412498324082,
          1.607843996793555,
          1.6078460637519867,
          1.6078499324898847,
          1.6078430775870132,
          1.6078415705644453,
          1.607850842388057,
          1.6078432236805331,
          1.607845168465474,
          1.6078453610255812,
          1.6078650224744009,
          1.6078631153297531,
          1.607880259876051,
          1.6078498684723916,
          1.6078468393295255,
          1.6078493618213994,
          1.6078442204395373,
          1.6078437645454928,
          1.6078446902157706,
          1.6078545588226538,
          1.607842721397396,
          1.607851036230198,
          1.6078516544990364,
          1.6078656527221624,
          1.6078466871455395,
          1.6078741602362845,
          1.607842922441902,
          1.6078575013627412,
          1.6078418386204232,
          1.4862955784299468,
          1.4862010965605594,
          1.4862010965605594,
          1.4858839287427976,
          1.4862010965605594,
          1.4858839287427976,
          1.484004189284262,
          1.4862010965605594,
          1.4858839287427976,
          1.484004189284262,
          1.4861267271554224,
          1.4863572079481764,
          1.486249572845663,
          1.4862539802396142,
          1.4862878173337881,
          1.4857403192606147,
          1.4861817614205064,
          1.4860929314772826,
          1.4862696611013715,
          1.48533427357276,
          1.4861717037752673,
          1.485331694723821,
          1.4853317600067386,
          1.486384660499427,
          1.486326937656739,
          1.4861414356167768,
          1.4862878612064878,
          1.4861236302800218,
          1.4853315467614396,
          1.486128244177484,
          1.4861708812800614,
          1.4862715076176023,
          1.4862299076241612,
          1.4862642277014386,
          1.486174709100963,
          1.4860410128989143,
          1.4860700006441996,
          1.4863242671068475,
          1.4859557849775007,
          1.4853368758898067,
          1.4862270150082781,
          1.486289029393868,
          1.4862274113843135,
          1.486319198580809,
          1.4862574271054616,
          1.4861530651017105,
          1.4853712060966409,
          1.4863681071455557,
          1.4861778225518067,
          1.4853331514151271,
          1.4863714740395575,
          1.4861984021246606,
          1.4860984611431656,
          1.4860451467877303,
          1.4862916156663595,
          1.485999487709158,
          1.485333660797686,
          1.4862955310963832,
          1.4864032134335292,
          1.486389917653413,
          1.486201050352054,
          1.4859676988947603,
          1.4863481905446403,
          1.485330817201955,
          1.4862761233177153,
          1.486292338521963,
          1.4853906329698678,
          1.4863293153687238,
          1.4864057973108848,
          1.485331595126637,
          1.4853322652391774,
          1.205945225381083,
          1.2059452325577986,
          0.6691059473463546,
          0.6690320200283392,
          0.6690516987268481,
          0.6690236037612801,
          0.6690236243201917,
          0.6691313743484795,
          0.6690234724335125,
          0.6690236270103385,
          0.6690200047939675,
          0.6689930378208807,
          0.6691571205876051,
          0.6690236244127443,
          0.6690194843466222,
          0.6690235949343737,
          0.6690226586600527,
          0.6690180947776699,
          0.6690194477695982,
          0.6691455753655496,
          0.6691457069741693,
          0.6691419644383025,
          0.669060904997604,
          0.6690224927992312,
          0.6690225776027414,
          0.6690320363771252,
          0.6690581361178358,
          0.669105971164737,
          0.669137876573003,
          0.669019963654884,
          0.6690224193909147,
          0.6690306007063936,
          0.6690131605181181,
          0.6690293801634404,
          0.6690505476429554,
          0.6690762897133784,
          0.6689870372201077,
          0.6691181983812522,
          0.6690035011553636,
          0.669154684975954,
          0.6690198325369582,
          0.6691390976464251,
          0.6691375272429401,
          0.6691101580223713,
          0.6690189046592498,
          0.6690313393554895,
          0.6691630492260207,
          0.6691061282726083,
          0.6690328943310955,
          0.6690192587626557,
          0.669037523111907,
          0.669070350500132,
          0.6691429954434407,
          0.6690584255789794,
          0.6691589632160514,
          0.669022910059416,
          0.6689425370926076,
          0.6690224964872845,
          0.66899773940755,
          0.6689949441959817,
          0.6690231132779323,
          0.6689906144706752,
          0.6690221640222926,
          0.6690189502821873,
          0.6690199369510998,
          0.669087186675342,
          0.6690191081715473,
          0.669018617769578,
          0.6689909703985227,
          0.6690231858141977,
          0.6691519166486832,
          0.6691107959565393,
          0.6690195930692555,
          0.6691463020550952,
          0.6691657597661711,
          0.6690197190280347,
          0.6690226174829967,
          0.6690189875743329,
          0.6690203991643614,
          0.6690235488312314,
          0.6689896465282789,
          0.6691610999496977,
          0.6690223942357509,
          0.6690190074528084,
          0.669141041833894,
          0.6690233516013571,
          0.6690192790925926,
          0.6690825827863587,
          0.6691430584585741
         ]
        },
        {
         "hoverinfo": "text",
         "hovertext": [
          "GIS_Close <br>Volatility: 0.309 <br>Returns: 15.105% <br>Sharpe Ratio: 0.488",
          "WMT_Close <br>Volatility: 0.313 <br>Returns: 20.983% <br>Sharpe Ratio: 0.671",
          "ORCL_Close <br>Volatility: 0.401 <br>Returns: 19.527% <br>Sharpe Ratio: 0.487",
          "GS_Close <br>Volatility: 0.524 <br>Returns: 12.618% <br>Sharpe Ratio: 0.241",
          "TMO_Close <br>Volatility: 0.374 <br>Returns: 35.075% <br>Sharpe Ratio: 0.939",
          "ACN_Close <br>Volatility: 0.416 <br>Returns: 22.015% <br>Sharpe Ratio: 0.529",
          "DUK_Close <br>Volatility: 0.415 <br>Returns: 4.539% <br>Sharpe Ratio: 0.110",
          "NVDA_Close <br>Volatility: 0.583 <br>Returns: 78.950% <br>Sharpe Ratio: 1.354",
          "BMY_Close <br>Volatility: 0.298 <br>Returns: 0.066% <br>Sharpe Ratio: 0.002",
          "NEE_Close <br>Volatility: 0.417 <br>Returns: 26.242% <br>Sharpe Ratio: 0.630",
          "SRE_Close <br>Volatility: 0.479 <br>Returns: -13.414% <br>Sharpe Ratio: -0.280",
          "IBM_Close <br>Volatility: 0.412 <br>Returns: -3.438% <br>Sharpe Ratio: -0.083",
          "ISRG_Close <br>Volatility: 0.457 <br>Returns: 31.244% <br>Sharpe Ratio: 0.684",
          "BABA_Close <br>Volatility: 0.415 <br>Returns: 8.165% <br>Sharpe Ratio: 0.197",
          "CPB_Close <br>Volatility: 0.323 <br>Returns: 1.937% <br>Sharpe Ratio: 0.060",
          "MS_Close <br>Volatility: 0.573 <br>Returns: 29.594% <br>Sharpe Ratio: 0.517",
          "RMD_Close <br>Volatility: 0.492 <br>Returns: 30.490% <br>Sharpe Ratio: 0.620",
          "EXC_Close <br>Volatility: 0.490 <br>Returns: -4.296% <br>Sharpe Ratio: -0.088",
          "AMD_Close <br>Volatility: 0.607 <br>Returns: 63.359% <br>Sharpe Ratio: 1.044",
          "VRTX_Close <br>Volatility: 0.473 <br>Returns: 5.877% <br>Sharpe Ratio: 0.124",
          "KO_Close <br>Volatility: 0.350 <br>Returns: 2.369% <br>Sharpe Ratio: 0.068",
          "TXN_Close <br>Volatility: 0.432 <br>Returns: 25.771% <br>Sharpe Ratio: 0.597",
          "MCD_Close <br>Volatility: 0.401 <br>Returns: 7.720% <br>Sharpe Ratio: 0.192",
          "JNJ_Close <br>Volatility: 0.303 <br>Returns: 9.397% <br>Sharpe Ratio: 0.310",
          "HON_Close <br>Volatility: 0.453 <br>Returns: 17.805% <br>Sharpe Ratio: 0.393",
          "PYPL_Close <br>Volatility: 0.523 <br>Returns: 74.029% <br>Sharpe Ratio: 1.415",
          "MRK_Close <br>Volatility: 0.319 <br>Returns: -10.200% <br>Sharpe Ratio: -0.320",
          "UBER_Close <br>Volatility: 0.728 <br>Returns: 54.160% <br>Sharpe Ratio: 0.744",
          "XOM_Close <br>Volatility: 0.530 <br>Returns: -45.815% <br>Sharpe Ratio: -0.864",
          "GM_Close <br>Volatility: 0.615 <br>Returns: 12.534% <br>Sharpe Ratio: 0.204",
          "KR_Close <br>Volatility: 0.321 <br>Returns: 11.767% <br>Sharpe Ratio: 0.366",
          "LMT_Close <br>Volatility: 0.415 <br>Returns: -9.516% <br>Sharpe Ratio: -0.229",
          "TSLA_Close <br>Volatility: 0.898 <br>Returns: 209.696% <br>Sharpe Ratio: 2.334",
          "REGN_Close <br>Volatility: 0.431 <br>Returns: 24.871% <br>Sharpe Ratio: 0.577",
          "AMGN_Close <br>Volatility: 0.381 <br>Returns: -2.820% <br>Sharpe Ratio: -0.074",
          "UNH_Close <br>Volatility: 0.485 <br>Returns: 18.210% <br>Sharpe Ratio: 0.376",
          "T_Close <br>Volatility: 0.358 <br>Returns: -22.344% <br>Sharpe Ratio: -0.624",
          "ADBE_Close <br>Volatility: 0.480 <br>Returns: 39.865% <br>Sharpe Ratio: 0.831",
          "VZ_Close <br>Volatility: 0.245 <br>Returns: -0.605% <br>Sharpe Ratio: -0.025",
          "WFC_Close <br>Volatility: 0.616 <br>Returns: -55.430% <br>Sharpe Ratio: -0.899",
          "GILD_Close <br>Volatility: 0.373 <br>Returns: -10.162% <br>Sharpe Ratio: -0.272",
          "EW_Close <br>Volatility: 0.441 <br>Returns: 14.610% <br>Sharpe Ratio: 0.331",
          "DIS_Close <br>Volatility: 0.488 <br>Returns: 20.167% <br>Sharpe Ratio: 0.413",
          "ABBV_Close <br>Volatility: 0.351 <br>Returns: 21.647% <br>Sharpe Ratio: 0.616",
          "BIIB_Close <br>Volatility: 0.667 <br>Returns: -18.970% <br>Sharpe Ratio: -0.284",
          "LYFT_Close <br>Volatility: 0.858 <br>Returns: 14.478% <br>Sharpe Ratio: 0.169",
          "MO_Close <br>Volatility: 0.366 <br>Returns: -10.116% <br>Sharpe Ratio: -0.277",
          "BSX_Close <br>Volatility: 0.451 <br>Returns: -24.400% <br>Sharpe Ratio: -0.541",
          "DHR_Close <br>Volatility: 0.337 <br>Returns: 35.814% <br>Sharpe Ratio: 1.064",
          "MDT_Close <br>Volatility: 0.414 <br>Returns: 3.293% <br>Sharpe Ratio: 0.079",
          "SPOT_Close <br>Volatility: 0.548 <br>Returns: 74.788% <br>Sharpe Ratio: 1.365",
          "META_Close <br>Volatility: 0.462 <br>Returns: 26.030% <br>Sharpe Ratio: 0.563",
          "PG_Close <br>Volatility: 0.325 <br>Returns: 13.501% <br>Sharpe Ratio: 0.416",
          "UA_Close <br>Volatility: 0.679 <br>Returns: -24.459% <br>Sharpe Ratio: -0.360",
          "COST_Close <br>Volatility: 0.290 <br>Returns: 28.590% <br>Sharpe Ratio: 0.986",
          "V_Close <br>Volatility: 0.428 <br>Returns: 13.994% <br>Sharpe Ratio: 0.327",
          "QCOM_Close <br>Volatility: 0.528 <br>Returns: 55.263% <br>Sharpe Ratio: 1.048",
          "GE_Close <br>Volatility: 0.632 <br>Returns: -10.323% <br>Sharpe Ratio: -0.163",
          "MMM_Close <br>Volatility: 0.375 <br>Returns: 0.330% <br>Sharpe Ratio: 0.009",
          "SAP_Close <br>Volatility: 0.464 <br>Returns: -3.194% <br>Sharpe Ratio: -0.069",
          "LLY_Close <br>Volatility: 0.419 <br>Returns: 25.453% <br>Sharpe Ratio: 0.607",
          "DE_Close <br>Volatility: 0.459 <br>Returns: 42.745% <br>Sharpe Ratio: 0.932",
          "BAC_Close <br>Volatility: 0.586 <br>Returns: -14.706% <br>Sharpe Ratio: -0.251",
          "ETN_Close <br>Volatility: 0.513 <br>Returns: 24.236% <br>Sharpe Ratio: 0.473",
          "PM_Close <br>Volatility: 0.397 <br>Returns: 1.919% <br>Sharpe Ratio: 0.048",
          "SYK_Close <br>Volatility: 0.494 <br>Returns: 15.287% <br>Sharpe Ratio: 0.309",
          "SNAP_Close <br>Volatility: 0.740 <br>Returns: 108.305% <br>Sharpe Ratio: 1.463",
          "MSFT_Close <br>Volatility: 0.441 <br>Returns: 33.406% <br>Sharpe Ratio: 0.757",
          "NKE_Close <br>Volatility: 0.416 <br>Returns: 33.675% <br>Sharpe Ratio: 0.809",
          "CAT_Close <br>Volatility: 0.454 <br>Returns: 20.953% <br>Sharpe Ratio: 0.462",
          "EMR_Close <br>Volatility: 0.547 <br>Returns: 6.008% <br>Sharpe Ratio: 0.110",
          "BTI_Close <br>Volatility: 0.361 <br>Returns: -5.213% <br>Sharpe Ratio: -0.144",
          "SO_Close <br>Volatility: 0.457 <br>Returns: 0.996% <br>Sharpe Ratio: 0.022",
          "CVX_Close <br>Volatility: 0.620 <br>Returns: -29.888% <br>Sharpe Ratio: -0.482",
          "AAPL_Close <br>Volatility: 0.468 <br>Returns: 58.803% <br>Sharpe Ratio: 1.256",
          "ABT_Close <br>Volatility: 0.393 <br>Returns: 23.745% <br>Sharpe Ratio: 0.605",
          "JPM_Close <br>Volatility: 0.544 <br>Returns: -8.287% <br>Sharpe Ratio: -0.152",
          "SYY_Close <br>Volatility: 0.702 <br>Returns: -11.836% <br>Sharpe Ratio: -0.169",
          "GOOG_Close <br>Volatility: 0.385 <br>Returns: 24.168% <br>Sharpe Ratio: 0.627",
          "ZBH_Close <br>Volatility: 0.499 <br>Returns: 2.809% <br>Sharpe Ratio: 0.056",
          "BA_Close <br>Volatility: 0.880 <br>Returns: -42.649% <br>Sharpe Ratio: -0.485",
          "CSCO_Close <br>Volatility: 0.421 <br>Returns: -5.864% <br>Sharpe Ratio: -0.139",
          "F_Close <br>Volatility: 0.559 <br>Returns: -4.460% <br>Sharpe Ratio: -0.080",
          "AMZN_Close <br>Volatility: 0.385 <br>Returns: 55.101% <br>Sharpe Ratio: 1.432",
          "PEP_Close <br>Volatility: 0.368 <br>Returns: 11.037% <br>Sharpe Ratio: 0.300",
          "MA_Close <br>Volatility: 0.488 <br>Returns: 16.468% <br>Sharpe Ratio: 0.337",
          "CMCSA_Close <br>Volatility: 0.381 <br>Returns: 14.383% <br>Sharpe Ratio: 0.377",
          "RTX_Close <br>Volatility: 0.577 <br>Returns: -27.337% <br>Sharpe Ratio: -0.474",
          "INTC_Close <br>Volatility: 0.541 <br>Returns: -19.777% <br>Sharpe Ratio: -0.366",
          "PFE_Close <br>Volatility: 0.359 <br>Returns: 2.947% <br>Sharpe Ratio: 0.082",
          "RDY_Close <br>Volatility: 0.355 <br>Returns: 56.708% <br>Sharpe Ratio: 1.597",
          "K_Close <br>Volatility: 0.318 <br>Returns: -5.956% <br>Sharpe Ratio: -0.187",
          "NFLX_Close <br>Volatility: 0.463 <br>Returns: 46.595% <br>Sharpe Ratio: 1.007",
          "AEP_Close <br>Volatility: 0.386 <br>Returns: -10.503% <br>Sharpe Ratio: -0.272",
          "CRM_Close <br>Volatility: 0.522 <br>Returns: 28.769% <br>Sharpe Ratio: 0.551",
          "HD_Close <br>Volatility: 0.447 <br>Returns: 21.279% <br>Sharpe Ratio: 0.476",
          "GOOGL_Close <br>Volatility: 0.387 <br>Returns: 23.883% <br>Sharpe Ratio: 0.617"
         ],
         "marker": {
          "color": "brown",
          "line": {
           "width": 1
          },
          "size": 5,
          "symbol": "triangle-up"
         },
         "mode": "markers",
         "name": "Individual Assets",
         "type": "scatter",
         "x": {
          "bdata": "VxV6kBPL0z++4IxCFQXUPyUcglKxpNk/gaA2Y+XA4D/HTz/ECerXP4r+VGFAo9o/YXQEso2H2j/Jj4IZY6niP52vSpNBENM/exMNY32s2j8VMCED4aLeP4CUN7d7Ydo/rI3xd0k+3T/gthJLworaPz9YnQpWptQ/XAfdLxJT4j/RuUuxAX3fP8M3UfsnWN8/MiXuYI1r4z9axEwFgz/ePyZdB1UfYtY/OrfF0dig2z8DjScDubHZP54cHMvYY9M/OPxDXf0F3T+xiiy3a7zgP38amMu3bdQ/fAGUVddK5z8RqUBl0/bgP+699PKRseM/5sYJq3WN1D+d/6N2pIraPzJyJR1+wOw/G9vm5Gab2z8HwHELJGnYP1A0JFpsCN8/Rwxgjczu1j+tvcjeJLbePwlekHKrYM8/0ZT0xPa44z/kZ52lx+DXPwQfRTE4N9w/q0Jc0OM73z9A31i8TXrWP/46dDTEWuU//5hLWGly6z/yhSb6RmbXP2GoRdWI2tw/obPELUiN1T/NYCDSlobaP2fDhqJ3iOE/mIHdVkOS3T/DiDI2ZsXUP2gfEYXYu+U/VoVwTc6N0j+Ud1gFkGHbP6SdlY5n4eA/9fF6SFs55D+oPLrm4wTYP2e1yeK+tN0/78uaswvZ2j/h1lgrj1rdP6mwSbp8xOI/ijgAZbJn4D8fCBpo5GrZPz6XmYDRod8/wyGOSPqv5z/c4BGT1T7cP040klchodo/7OhLqhAN3T+DT4vhBoPhP7tP413MF9c/cgACE1xE3T9wHcpw5NjjPya+WQ789N0/saGyXFcg2T+hEPkVaGjhP5Z2ABN7eeY/yNLcnWKo2D+Wobd3QvPfP4tvdKwLK+w/Q4uYyZXy2j8gBZyRTOPhP9Bs5pp6n9g/flvaTreM1z+1M9EPtz7fPyRGP+Zaatg/Oct+r0d14j+Yema270/hP78b6QGD9dY/cQXL4yW71j87fsoLNWHUP9DxZrdbm90/834ukHi32D80QAjfjbXgP9lw2B5jmNw/RDbidkbD2D8=",
          "dtype": "f8"
         },
         "y": {
          "bdata": "5A3T9LNVwz/YGUPnwtvKP3S65dWk/sg/tcrOlIomwD8lnrjlnXLWP9AzVrP4Lcw/bPcn+do9pz+HhtK+jEPpP++/3GEgwUU/JKH3OozL0D9TpKomWyvBv4NWs2+hmqG/LpnIwhL/0z+TumKTCue0P8+A6rK51pM/5KbWtLfw0j9G8nWefIPTP1wD8nVw/6W/9QisvGBG5D82c8amexeuP6C7hY8uQpg/xPu7uVF+0D8h2KZwRcOzP/2kSMJ9Drg/G0nHQGHKxj9w4YS/arDnPwhDYM1nHLq/4KXsXc9U4T9VHkRHZ1Ldv8tVkLQgC8A/ow4O7tQfvj/UqPavbVy4v9tlJnqVxgBA5cEN1q/Vzz+D30CzVeGcv2lAGaD0Tsc/Wb6AwNOZzL+F1Ab5eIPZPyByHlvVzHi/P+IPZtC84b+4mMU23QO6v017Z9WEs8I/rmFNOG/QyT/v8mb6WLXLP5w5LcUwSMi/ihgPMwaIwj+8H70P7uW5v68OFfpMO8+/SxneZ9Xr1j/aB3tsvtugP51jgROe7uc/soAPJLeo0D/V1K2+60fBP7xjXyDQTs+/U2NJZTBM0j8Vf/XhZunBP9sppt0jr+E/nejjjgltur8b+WRLlg1rP9Bs1YmTWqC/KIRdtihK0D+z1OTaWFvbP8FxbOW80sK/GUbL2K8Fzz9j7u+oAKeTP9zZOdZgkcM/kHmH7ilU8T/p7G7eL2HVP5hp7LVhjdU/pxnP78zRyj+y3qxi5MKuP6mYiK7+sKq/qjwhJL5khD9G1INz5SDTv3t2iO0c0eI/Bz6PSLpkzj9MaBkmtza1v129cV6qTL6/CVcvDlfvzj8iMHpu08OcP/Q3lceTS9u/b2mqCUkGrr+QI7m3Atamv2FZSzLXoeE/pP7PfVBBvD8l0DfVIxTFP5I+y4LiaMI/2q6NePF+0b9INArHY1DJv/4nQSb1LJ4/U4oK9IUl4j/WDUQ2HX6uv6kaAywd0t0/ffsv2ifjur8T7VdTb2nSP6w0Tq7NPMs/RA5ohfCRzj8=",
          "dtype": "f8"
         }
        }
       ],
       "layout": {
        "legend": {
         "y": 5
        },
        "template": {
         "data": {
          "bar": [
           {
            "error_x": {
             "color": "#2a3f5f"
            },
            "error_y": {
             "color": "#2a3f5f"
            },
            "marker": {
             "line": {
              "color": "#E5ECF6",
              "width": 0.5
             },
             "pattern": {
              "fillmode": "overlay",
              "size": 10,
              "solidity": 0.2
             }
            },
            "type": "bar"
           }
          ],
          "barpolar": [
           {
            "marker": {
             "line": {
              "color": "#E5ECF6",
              "width": 0.5
             },
             "pattern": {
              "fillmode": "overlay",
              "size": 10,
              "solidity": 0.2
             }
            },
            "type": "barpolar"
           }
          ],
          "carpet": [
           {
            "aaxis": {
             "endlinecolor": "#2a3f5f",
             "gridcolor": "white",
             "linecolor": "white",
             "minorgridcolor": "white",
             "startlinecolor": "#2a3f5f"
            },
            "baxis": {
             "endlinecolor": "#2a3f5f",
             "gridcolor": "white",
             "linecolor": "white",
             "minorgridcolor": "white",
             "startlinecolor": "#2a3f5f"
            },
            "type": "carpet"
           }
          ],
          "choropleth": [
           {
            "colorbar": {
             "outlinewidth": 0,
             "ticks": ""
            },
            "type": "choropleth"
           }
          ],
          "contour": [
           {
            "colorbar": {
             "outlinewidth": 0,
             "ticks": ""
            },
            "colorscale": [
             [
              0,
              "#0d0887"
             ],
             [
              0.1111111111111111,
              "#46039f"
             ],
             [
              0.2222222222222222,
              "#7201a8"
             ],
             [
              0.3333333333333333,
              "#9c179e"
             ],
             [
              0.4444444444444444,
              "#bd3786"
             ],
             [
              0.5555555555555556,
              "#d8576b"
             ],
             [
              0.6666666666666666,
              "#ed7953"
             ],
             [
              0.7777777777777778,
              "#fb9f3a"
             ],
             [
              0.8888888888888888,
              "#fdca26"
             ],
             [
              1,
              "#f0f921"
             ]
            ],
            "type": "contour"
           }
          ],
          "contourcarpet": [
           {
            "colorbar": {
             "outlinewidth": 0,
             "ticks": ""
            },
            "type": "contourcarpet"
           }
          ],
          "heatmap": [
           {
            "colorbar": {
             "outlinewidth": 0,
             "ticks": ""
            },
            "colorscale": [
             [
              0,
              "#0d0887"
             ],
             [
              0.1111111111111111,
              "#46039f"
             ],
             [
              0.2222222222222222,
              "#7201a8"
             ],
             [
              0.3333333333333333,
              "#9c179e"
             ],
             [
              0.4444444444444444,
              "#bd3786"
             ],
             [
              0.5555555555555556,
              "#d8576b"
             ],
             [
              0.6666666666666666,
              "#ed7953"
             ],
             [
              0.7777777777777778,
              "#fb9f3a"
             ],
             [
              0.8888888888888888,
              "#fdca26"
             ],
             [
              1,
              "#f0f921"
             ]
            ],
            "type": "heatmap"
           }
          ],
          "histogram": [
           {
            "marker": {
             "pattern": {
              "fillmode": "overlay",
              "size": 10,
              "solidity": 0.2
             }
            },
            "type": "histogram"
           }
          ],
          "histogram2d": [
           {
            "colorbar": {
             "outlinewidth": 0,
             "ticks": ""
            },
            "colorscale": [
             [
              0,
              "#0d0887"
             ],
             [
              0.1111111111111111,
              "#46039f"
             ],
             [
              0.2222222222222222,
              "#7201a8"
             ],
             [
              0.3333333333333333,
              "#9c179e"
             ],
             [
              0.4444444444444444,
              "#bd3786"
             ],
             [
              0.5555555555555556,
              "#d8576b"
             ],
             [
              0.6666666666666666,
              "#ed7953"
             ],
             [
              0.7777777777777778,
              "#fb9f3a"
             ],
             [
              0.8888888888888888,
              "#fdca26"
             ],
             [
              1,
              "#f0f921"
             ]
            ],
            "type": "histogram2d"
           }
          ],
          "histogram2dcontour": [
           {
            "colorbar": {
             "outlinewidth": 0,
             "ticks": ""
            },
            "colorscale": [
             [
              0,
              "#0d0887"
             ],
             [
              0.1111111111111111,
              "#46039f"
             ],
             [
              0.2222222222222222,
              "#7201a8"
             ],
             [
              0.3333333333333333,
              "#9c179e"
             ],
             [
              0.4444444444444444,
              "#bd3786"
             ],
             [
              0.5555555555555556,
              "#d8576b"
             ],
             [
              0.6666666666666666,
              "#ed7953"
             ],
             [
              0.7777777777777778,
              "#fb9f3a"
             ],
             [
              0.8888888888888888,
              "#fdca26"
             ],
             [
              1,
              "#f0f921"
             ]
            ],
            "type": "histogram2dcontour"
           }
          ],
          "mesh3d": [
           {
            "colorbar": {
             "outlinewidth": 0,
             "ticks": ""
            },
            "type": "mesh3d"
           }
          ],
          "parcoords": [
           {
            "line": {
             "colorbar": {
              "outlinewidth": 0,
              "ticks": ""
             }
            },
            "type": "parcoords"
           }
          ],
          "pie": [
           {
            "automargin": true,
            "type": "pie"
           }
          ],
          "scatter": [
           {
            "fillpattern": {
             "fillmode": "overlay",
             "size": 10,
             "solidity": 0.2
            },
            "type": "scatter"
           }
          ],
          "scatter3d": [
           {
            "line": {
             "colorbar": {
              "outlinewidth": 0,
              "ticks": ""
             }
            },
            "marker": {
             "colorbar": {
              "outlinewidth": 0,
              "ticks": ""
             }
            },
            "type": "scatter3d"
           }
          ],
          "scattercarpet": [
           {
            "marker": {
             "colorbar": {
              "outlinewidth": 0,
              "ticks": ""
             }
            },
            "type": "scattercarpet"
           }
          ],
          "scattergeo": [
           {
            "marker": {
             "colorbar": {
              "outlinewidth": 0,
              "ticks": ""
             }
            },
            "type": "scattergeo"
           }
          ],
          "scattergl": [
           {
            "marker": {
             "colorbar": {
              "outlinewidth": 0,
              "ticks": ""
             }
            },
            "type": "scattergl"
           }
          ],
          "scattermap": [
           {
            "marker": {
             "colorbar": {
              "outlinewidth": 0,
              "ticks": ""
             }
            },
            "type": "scattermap"
           }
          ],
          "scattermapbox": [
           {
            "marker": {
             "colorbar": {
              "outlinewidth": 0,
              "ticks": ""
             }
            },
            "type": "scattermapbox"
           }
          ],
          "scatterpolar": [
           {
            "marker": {
             "colorbar": {
              "outlinewidth": 0,
              "ticks": ""
             }
            },
            "type": "scatterpolar"
           }
          ],
          "scatterpolargl": [
           {
            "marker": {
             "colorbar": {
              "outlinewidth": 0,
              "ticks": ""
             }
            },
            "type": "scatterpolargl"
           }
          ],
          "scatterternary": [
           {
            "marker": {
             "colorbar": {
              "outlinewidth": 0,
              "ticks": ""
             }
            },
            "type": "scatterternary"
           }
          ],
          "surface": [
           {
            "colorbar": {
             "outlinewidth": 0,
             "ticks": ""
            },
            "colorscale": [
             [
              0,
              "#0d0887"
             ],
             [
              0.1111111111111111,
              "#46039f"
             ],
             [
              0.2222222222222222,
              "#7201a8"
             ],
             [
              0.3333333333333333,
              "#9c179e"
             ],
             [
              0.4444444444444444,
              "#bd3786"
             ],
             [
              0.5555555555555556,
              "#d8576b"
             ],
             [
              0.6666666666666666,
              "#ed7953"
             ],
             [
              0.7777777777777778,
              "#fb9f3a"
             ],
             [
              0.8888888888888888,
              "#fdca26"
             ],
             [
              1,
              "#f0f921"
             ]
            ],
            "type": "surface"
           }
          ],
          "table": [
           {
            "cells": {
             "fill": {
              "color": "#EBF0F8"
             },
             "line": {
              "color": "white"
             }
            },
            "header": {
             "fill": {
              "color": "#C8D4E3"
             },
             "line": {
              "color": "white"
             }
            },
            "type": "table"
           }
          ]
         },
         "layout": {
          "annotationdefaults": {
           "arrowcolor": "#2a3f5f",
           "arrowhead": 0,
           "arrowwidth": 1
          },
          "autotypenumbers": "strict",
          "coloraxis": {
           "colorbar": {
            "outlinewidth": 0,
            "ticks": ""
           }
          },
          "colorscale": {
           "diverging": [
            [
             0,
             "#8e0152"
            ],
            [
             0.1,
             "#c51b7d"
            ],
            [
             0.2,
             "#de77ae"
            ],
            [
             0.3,
             "#f1b6da"
            ],
            [
             0.4,
             "#fde0ef"
            ],
            [
             0.5,
             "#f7f7f7"
            ],
            [
             0.6,
             "#e6f5d0"
            ],
            [
             0.7,
             "#b8e186"
            ],
            [
             0.8,
             "#7fbc41"
            ],
            [
             0.9,
             "#4d9221"
            ],
            [
             1,
             "#276419"
            ]
           ],
           "sequential": [
            [
             0,
             "#0d0887"
            ],
            [
             0.1111111111111111,
             "#46039f"
            ],
            [
             0.2222222222222222,
             "#7201a8"
            ],
            [
             0.3333333333333333,
             "#9c179e"
            ],
            [
             0.4444444444444444,
             "#bd3786"
            ],
            [
             0.5555555555555556,
             "#d8576b"
            ],
            [
             0.6666666666666666,
             "#ed7953"
            ],
            [
             0.7777777777777778,
             "#fb9f3a"
            ],
            [
             0.8888888888888888,
             "#fdca26"
            ],
            [
             1,
             "#f0f921"
            ]
           ],
           "sequentialminus": [
            [
             0,
             "#0d0887"
            ],
            [
             0.1111111111111111,
             "#46039f"
            ],
            [
             0.2222222222222222,
             "#7201a8"
            ],
            [
             0.3333333333333333,
             "#9c179e"
            ],
            [
             0.4444444444444444,
             "#bd3786"
            ],
            [
             0.5555555555555556,
             "#d8576b"
            ],
            [
             0.6666666666666666,
             "#ed7953"
            ],
            [
             0.7777777777777778,
             "#fb9f3a"
            ],
            [
             0.8888888888888888,
             "#fdca26"
            ],
            [
             1,
             "#f0f921"
            ]
           ]
          },
          "colorway": [
           "#636efa",
           "#EF553B",
           "#00cc96",
           "#ab63fa",
           "#FFA15A",
           "#19d3f3",
           "#FF6692",
           "#B6E880",
           "#FF97FF",
           "#FECB52"
          ],
          "font": {
           "color": "#2a3f5f"
          },
          "geo": {
           "bgcolor": "white",
           "lakecolor": "white",
           "landcolor": "#E5ECF6",
           "showlakes": true,
           "showland": true,
           "subunitcolor": "white"
          },
          "hoverlabel": {
           "align": "left"
          },
          "hovermode": "closest",
          "mapbox": {
           "style": "light"
          },
          "paper_bgcolor": "white",
          "plot_bgcolor": "#E5ECF6",
          "polar": {
           "angularaxis": {
            "gridcolor": "white",
            "linecolor": "white",
            "ticks": ""
           },
           "bgcolor": "#E5ECF6",
           "radialaxis": {
            "gridcolor": "white",
            "linecolor": "white",
            "ticks": ""
           }
          },
          "scene": {
           "xaxis": {
            "backgroundcolor": "#E5ECF6",
            "gridcolor": "white",
            "gridwidth": 2,
            "linecolor": "white",
            "showbackground": true,
            "ticks": "",
            "zerolinecolor": "white"
           },
           "yaxis": {
            "backgroundcolor": "#E5ECF6",
            "gridcolor": "white",
            "gridwidth": 2,
            "linecolor": "white",
            "showbackground": true,
            "ticks": "",
            "zerolinecolor": "white"
           },
           "zaxis": {
            "backgroundcolor": "#E5ECF6",
            "gridcolor": "white",
            "gridwidth": 2,
            "linecolor": "white",
            "showbackground": true,
            "ticks": "",
            "zerolinecolor": "white"
           }
          },
          "shapedefaults": {
           "line": {
            "color": "#2a3f5f"
           }
          },
          "ternary": {
           "aaxis": {
            "gridcolor": "white",
            "linecolor": "white",
            "ticks": ""
           },
           "baxis": {
            "gridcolor": "white",
            "linecolor": "white",
            "ticks": ""
           },
           "bgcolor": "#E5ECF6",
           "caxis": {
            "gridcolor": "white",
            "linecolor": "white",
            "ticks": ""
           }
          },
          "title": {
           "x": 0.05
          },
          "xaxis": {
           "automargin": true,
           "gridcolor": "white",
           "linecolor": "white",
           "ticks": "",
           "title": {
            "standoff": 15
           },
           "zerolinecolor": "white",
           "zerolinewidth": 2
          },
          "yaxis": {
           "automargin": true,
           "gridcolor": "white",
           "linecolor": "white",
           "ticks": "",
           "title": {
            "standoff": 15
           },
           "zerolinecolor": "white",
           "zerolinewidth": 2
          }
         }
        },
        "title": {
         "text": "Sample of Random Portfolios"
        },
        "xaxis": {
         "title": {
          "text": "Volatility (Standard Deviation)"
         }
        },
        "yaxis": {
         "title": {
          "text": "Annualized Return"
         }
        }
       }
      }
     },
     "metadata": {},
     "output_type": "display_data"
    }
   ],
   "source": [
    "fig = go.Figure()\n",
    "\n",
    "fig.add_trace(go.Scatter(\n",
    "    x=[p[\"variance\"]**0.5 for p in total_portfolios],  # Convert variance to volatility\n",
    "    y=[p[\"return\"] for p in total_portfolios],\n",
    "    mode='markers',\n",
    "    marker=dict(\n",
    "        color=[p[\"sharpe\"] for p in total_portfolios],  # Sharpe Ratio\n",
    "        showscale=True,\n",
    "        size=7,\n",
    "        line=dict(width=1),\n",
    "        colorscale=\"RdBu\",\n",
    "        colorbar=dict(title=\"Sharpe<br>Ratio\")\n",
    "    ),\n",
    "    hoverinfo='text',\n",
    "    text=[\n",
    "        f\"Return: {p['return']:.3%}<br>Volatility: {p['variance']**0.5:.3f}<br>\" +\n",
    "        f\"Sharpe Ratio: {p['return'] / (p['variance']**0.5):.3f}<br>\" +\n",
    "        \"<br>\".join([f\"{p['tickers'][i]}: Weight={p['weights'][i]:.3f}\" for i in range(len(p['tickers']))])\n",
    "        for p in total_portfolios\n",
    "    ],\n",
    "    name=\"Portfolios\"\n",
    "))\n",
    "\n",
    "fig.add_trace(go.Scatter(\n",
    "    x=volatility,\n",
    "    y=annualized_returns,\n",
    "    mode='markers',\n",
    "    hoverinfo='text',\n",
    "    hovertext=[\n",
    "        f\"{name} <br>Volatility: {vol:.3f} <br>Returns: {ret:.3%} <br>Sharpe Ratio: {sr:.3f}\"\n",
    "        for name, vol, ret, sr in zip(names, volatility, annualized_returns, sharpe_ratios)\n",
    "    ],\n",
    "    marker=dict(\n",
    "        color='brown',\n",
    "        size=5,\n",
    "        symbol='triangle-up',  # Sets the marker shape to a triangle\n",
    "        line=dict(width=1)\n",
    "    ),\n",
    "    name=\"Individual Assets\"\n",
    "))\n",
    "\n",
    "fig.update_layout(\n",
    "    title='Sample of Random Portfolios',\n",
    "    xaxis_title='Volatility (Standard Deviation)',\n",
    "    yaxis_title='Annualized Return',\n",
    "    legend=dict(y=5\n",
    "    )\n",
    ")\n",
    "\n",
    "\n",
    "fig.show()"
   ]
  },
  {
   "cell_type": "code",
   "execution_count": 122,
   "metadata": {
    "colab": {
     "base_uri": "https://localhost:8080/",
     "height": 542
    },
    "id": "fcrLEvL3abDW",
    "outputId": "7123cd39-a752-4640-be20-6fe3fcbc6c17"
   },
   "outputs": [
    {
     "data": {
      "application/vnd.plotly.v1+json": {
       "config": {
        "plotlyServerURL": "https://plot.ly"
       },
       "data": [
        {
         "mode": "lines+markers",
         "type": "scatter",
         "x": [
          0,
          1,
          2,
          3,
          4,
          5,
          6,
          7,
          8,
          9,
          10,
          11,
          12,
          13,
          14,
          15,
          16,
          17,
          18,
          19,
          20,
          21,
          22,
          23,
          24,
          25,
          26,
          27,
          28,
          29,
          30,
          31,
          32,
          33,
          34,
          35,
          36,
          37,
          38,
          39,
          40,
          41,
          42,
          43,
          44,
          45,
          46,
          47,
          48,
          49,
          50,
          51,
          52,
          53,
          54,
          55,
          56,
          57,
          58,
          59,
          60,
          61,
          62,
          63,
          64,
          65,
          66,
          67,
          68,
          69,
          70,
          71,
          72,
          73,
          74,
          75,
          76,
          77,
          78,
          79,
          80,
          81,
          82,
          83,
          84,
          85,
          86,
          87,
          88,
          89,
          90,
          91,
          92,
          93,
          94,
          95,
          96,
          97,
          98,
          99,
          100,
          101,
          102,
          103,
          104,
          105,
          106,
          107,
          108,
          109,
          110,
          111,
          112,
          113,
          114,
          115,
          116,
          117,
          118,
          119,
          120,
          121,
          122,
          123,
          124,
          125,
          126,
          127,
          128,
          129,
          130,
          131,
          132,
          133,
          134,
          135,
          136,
          137,
          138,
          139,
          140,
          141,
          142,
          143,
          144,
          145,
          146,
          147,
          148,
          149,
          150,
          151,
          152,
          153,
          154,
          155,
          156,
          157,
          158,
          159,
          160,
          161,
          162,
          163,
          164,
          165,
          166,
          167,
          168,
          169,
          170,
          171,
          172,
          173,
          174,
          175,
          176,
          177,
          178,
          179,
          180,
          181,
          182,
          183,
          184,
          185,
          186,
          187,
          188,
          189,
          190,
          191,
          192,
          193,
          194,
          195,
          196,
          197,
          198,
          199,
          200,
          201,
          202,
          203,
          204,
          205,
          206,
          207,
          208,
          209,
          210,
          211,
          212,
          213,
          214,
          215,
          216,
          217,
          218,
          219,
          220,
          221,
          222,
          223,
          224,
          225,
          226,
          227,
          228,
          229,
          230,
          231,
          232,
          233,
          234,
          235,
          236,
          237,
          238,
          239,
          240,
          241,
          242,
          243,
          244,
          245,
          246,
          247,
          248,
          249,
          250,
          251,
          252,
          253,
          254,
          255,
          256,
          257,
          258,
          259,
          260,
          261,
          262,
          263,
          264,
          265,
          266,
          267,
          268,
          269,
          270,
          271,
          272,
          273,
          274,
          275,
          276,
          277,
          278,
          279,
          280,
          281
         ],
         "y": [
          1.6516566611323205,
          2.4195251737173877,
          2.419525173796262,
          2.419525173796262,
          2.4279316207640433,
          2.4279316207383284,
          2.427931646952608,
          2.4279316207383284,
          2.427931646952608,
          2.4279316330889356,
          2.4279316616466535,
          2.4279316207383284,
          2.427931646952608,
          2.4279316330889356,
          2.4279316616466535,
          2.4279316387742296,
          2.427931628299234,
          2.427931613829016,
          2.4279316190532505,
          2.42793161343461,
          2.4279316119530963,
          2.427931626851373,
          2.427931604636603,
          2.4279316082561926,
          2.427931611933847,
          2.427931633065857,
          2.4279316117403953,
          2.4279316322427014,
          2.427931615917617,
          2.4279316039337844,
          2.4279316370180126,
          2.4279316175416525,
          2.4279316269280455,
          2.4279316374381157,
          2.427931637611097,
          2.4279316179993398,
          2.427931610098076,
          2.427931611010834,
          2.427931616173192,
          2.4279316262509543,
          2.4279316439898264,
          2.4279316179027273,
          2.4279316355562,
          2.427931615843307,
          2.427931603685877,
          2.4279316212954174,
          2.4279316320809365,
          2.4279316113191687,
          2.4279316162785474,
          2.427931613754078,
          2.4279316200631063,
          2.4279316040236156,
          2.427931609018043,
          2.4279316375191526,
          2.4279316290373494,
          2.427931639179376,
          2.427931597642589,
          2.4279316447395014,
          2.4279316353638287,
          2.427931598382163,
          2.4279315930384993,
          2.4279316043826005,
          2.4279316122183596,
          2.4517092681254127,
          2.451709268524207,
          2.451709268524207,
          2.451709267291006,
          2.451709268427417,
          2.4517092697739926,
          2.451709268524207,
          2.451709267291006,
          2.451709268427417,
          2.4517092697739926,
          2.451709270597265,
          2.4490072876967077,
          2.4490072774267286,
          2.4517092705993035,
          2.4490072876967077,
          2.4490072774267286,
          2.4517092705993035,
          2.449007283583575,
          2.449006887072193,
          2.4490072850151394,
          2.449007289182728,
          2.449007292945944,
          2.4490072887900967,
          2.4490072904727844,
          2.4490072906737597,
          2.449007286219673,
          2.4490072829526337,
          2.4490072837049355,
          2.449007283134757,
          2.449007283130735,
          2.4490072924656356,
          2.449007291339888,
          2.4490072953372617,
          2.4490072861476917,
          2.4490072934285267,
          2.4490072938748444,
          2.4490072962169336,
          2.449007291026763,
          2.4490072951360102,
          2.4490072952061444,
          2.4490072830165017,
          2.449007281712537,
          2.449007279276008,
          2.449007288250819,
          2.449007288243194,
          2.4490072876923126,
          2.449007291195874,
          2.4490072901135806,
          2.44900729557704,
          2.4490072847085322,
          2.4490072932255105,
          2.4490072872603776,
          2.4490072865440218,
          2.4490072816277553,
          2.4490072899712025,
          2.449007280137147,
          2.4490072912352323,
          2.4490072837110177,
          2.449007293144149,
          2.4547810663285463,
          2.4547811030769475,
          2.4547811030769475,
          2.4547812416504713,
          2.4547811030769475,
          2.4547812416504713,
          2.455168552307319,
          2.4547811030769475,
          2.4547812416504713,
          2.455168552307319,
          2.454781151956015,
          2.4547810179323255,
          2.454781086924717,
          2.4547810763737696,
          2.454781072629467,
          2.4547812717370228,
          2.4547811353366664,
          2.454781168393289,
          2.4547810765902183,
          2.454781487287619,
          2.454781143565408,
          2.4547814879395533,
          2.454781487918968,
          2.4547810001338823,
          2.4547810150784826,
          2.4547811490232645,
          2.454781077679065,
          2.4547811582041046,
          2.454781487413741,
          2.4547811645311546,
          2.454781148797402,
          2.4547810791301212,
          2.454781106718031,
          2.4547809620854832,
          2.4547811508401103,
          2.454781185945008,
          2.4547811864753672,
          2.4547810512974926,
          2.454781209293028,
          2.4547814854642915,
          2.454781102214182,
          2.4547810605318645,
          2.45478111307168,
          2.4547810259278093,
          2.4547810873663582,
          2.454781161711459,
          2.454781476929678,
          2.4547809925216355,
          2.4547811318018766,
          2.454781486856744,
          2.4547810082613215,
          2.4547811258781085,
          2.4547811768565087,
          2.454781201006559,
          2.454781058733033,
          2.45478119861398,
          2.454781487471391,
          2.45478106635325,
          2.454780984382836,
          2.454781022195503,
          2.454781120942857,
          2.454781195070902,
          2.4547810144252575,
          2.454781487966221,
          2.4547810851019105,
          2.4547810760430306,
          2.4547814754123607,
          2.45478103595646,
          2.4547809904671594,
          2.454781487142123,
          2.454781487884504,
          2.5276419033003377,
          2.5276419032992266,
          2.0754101066791266,
          2.07541004597628,
          2.075410898357555,
          2.0754102935088294,
          2.075410293510883,
          2.075410038172398,
          2.0754102935167813,
          2.0754102935074354,
          2.075410293443346,
          2.075410277830661,
          2.0754099280325784,
          2.0754102935093757,
          2.075410293361716,
          2.0754102935065792,
          2.0754102935223173,
          2.0754102931499396,
          2.075410293391848,
          2.075409996386557,
          2.0754099963165933,
          2.0754100042674994,
          2.075410240955983,
          2.0754102935177556,
          2.075410293516325,
          2.0754101119642496,
          2.0754102525977918,
          2.075409892083399,
          2.075409844288035,
          2.0754102934405467,
          2.0754102935105014,
          2.0754102058818154,
          2.0754102339246376,
          2.0754100672410294,
          2.075410264933963,
          2.0754098308360414,
          2.0754101457627714,
          2.0754099346470127,
          2.0754101432891274,
          2.0754098267538015,
          2.0754102934291763,
          2.0754099977971476,
          2.0754100279457273,
          2.0754101160436607,
          2.075410293260777,
          2.075410140762852,
          2.0754099109947166,
          2.0754097959431417,
          2.075410272586963,
          2.0754102933268594,
          2.075410041035786,
          2.0754101463868664,
          2.075409905023221,
          2.075410259973645,
          2.0754099324069437,
          2.075410293513594,
          2.075410187017344,
          2.0754102935116623,
          2.0754100273324543,
          2.075410002600511,
          2.075410293513332,
          2.075410245382363,
          2.0754102935038206,
          2.0754102933334333,
          2.075410293438404,
          2.0754101862579817,
          2.0754102933530376,
          2.0754102932046306,
          2.0754102637119347,
          2.075410293523354,
          2.0754099740691943,
          2.0754101195574512,
          2.0754102934038254,
          2.0754099976804175,
          2.075409864845125,
          2.075410293419142,
          2.075410293515432,
          2.0754102933380305,
          2.0754102934730914,
          2.0754102935137357,
          2.0754100549525614,
          2.075409862630732,
          2.075410293513629,
          2.075410293313886,
          2.0754100098990387,
          2.0754102935190684,
          2.0754102933575935,
          2.0754101961214446,
          2.0754100153578476
         ]
        }
       ],
       "layout": {
        "template": {
         "data": {
          "bar": [
           {
            "error_x": {
             "color": "#2a3f5f"
            },
            "error_y": {
             "color": "#2a3f5f"
            },
            "marker": {
             "line": {
              "color": "#E5ECF6",
              "width": 0.5
             },
             "pattern": {
              "fillmode": "overlay",
              "size": 10,
              "solidity": 0.2
             }
            },
            "type": "bar"
           }
          ],
          "barpolar": [
           {
            "marker": {
             "line": {
              "color": "#E5ECF6",
              "width": 0.5
             },
             "pattern": {
              "fillmode": "overlay",
              "size": 10,
              "solidity": 0.2
             }
            },
            "type": "barpolar"
           }
          ],
          "carpet": [
           {
            "aaxis": {
             "endlinecolor": "#2a3f5f",
             "gridcolor": "white",
             "linecolor": "white",
             "minorgridcolor": "white",
             "startlinecolor": "#2a3f5f"
            },
            "baxis": {
             "endlinecolor": "#2a3f5f",
             "gridcolor": "white",
             "linecolor": "white",
             "minorgridcolor": "white",
             "startlinecolor": "#2a3f5f"
            },
            "type": "carpet"
           }
          ],
          "choropleth": [
           {
            "colorbar": {
             "outlinewidth": 0,
             "ticks": ""
            },
            "type": "choropleth"
           }
          ],
          "contour": [
           {
            "colorbar": {
             "outlinewidth": 0,
             "ticks": ""
            },
            "colorscale": [
             [
              0,
              "#0d0887"
             ],
             [
              0.1111111111111111,
              "#46039f"
             ],
             [
              0.2222222222222222,
              "#7201a8"
             ],
             [
              0.3333333333333333,
              "#9c179e"
             ],
             [
              0.4444444444444444,
              "#bd3786"
             ],
             [
              0.5555555555555556,
              "#d8576b"
             ],
             [
              0.6666666666666666,
              "#ed7953"
             ],
             [
              0.7777777777777778,
              "#fb9f3a"
             ],
             [
              0.8888888888888888,
              "#fdca26"
             ],
             [
              1,
              "#f0f921"
             ]
            ],
            "type": "contour"
           }
          ],
          "contourcarpet": [
           {
            "colorbar": {
             "outlinewidth": 0,
             "ticks": ""
            },
            "type": "contourcarpet"
           }
          ],
          "heatmap": [
           {
            "colorbar": {
             "outlinewidth": 0,
             "ticks": ""
            },
            "colorscale": [
             [
              0,
              "#0d0887"
             ],
             [
              0.1111111111111111,
              "#46039f"
             ],
             [
              0.2222222222222222,
              "#7201a8"
             ],
             [
              0.3333333333333333,
              "#9c179e"
             ],
             [
              0.4444444444444444,
              "#bd3786"
             ],
             [
              0.5555555555555556,
              "#d8576b"
             ],
             [
              0.6666666666666666,
              "#ed7953"
             ],
             [
              0.7777777777777778,
              "#fb9f3a"
             ],
             [
              0.8888888888888888,
              "#fdca26"
             ],
             [
              1,
              "#f0f921"
             ]
            ],
            "type": "heatmap"
           }
          ],
          "histogram": [
           {
            "marker": {
             "pattern": {
              "fillmode": "overlay",
              "size": 10,
              "solidity": 0.2
             }
            },
            "type": "histogram"
           }
          ],
          "histogram2d": [
           {
            "colorbar": {
             "outlinewidth": 0,
             "ticks": ""
            },
            "colorscale": [
             [
              0,
              "#0d0887"
             ],
             [
              0.1111111111111111,
              "#46039f"
             ],
             [
              0.2222222222222222,
              "#7201a8"
             ],
             [
              0.3333333333333333,
              "#9c179e"
             ],
             [
              0.4444444444444444,
              "#bd3786"
             ],
             [
              0.5555555555555556,
              "#d8576b"
             ],
             [
              0.6666666666666666,
              "#ed7953"
             ],
             [
              0.7777777777777778,
              "#fb9f3a"
             ],
             [
              0.8888888888888888,
              "#fdca26"
             ],
             [
              1,
              "#f0f921"
             ]
            ],
            "type": "histogram2d"
           }
          ],
          "histogram2dcontour": [
           {
            "colorbar": {
             "outlinewidth": 0,
             "ticks": ""
            },
            "colorscale": [
             [
              0,
              "#0d0887"
             ],
             [
              0.1111111111111111,
              "#46039f"
             ],
             [
              0.2222222222222222,
              "#7201a8"
             ],
             [
              0.3333333333333333,
              "#9c179e"
             ],
             [
              0.4444444444444444,
              "#bd3786"
             ],
             [
              0.5555555555555556,
              "#d8576b"
             ],
             [
              0.6666666666666666,
              "#ed7953"
             ],
             [
              0.7777777777777778,
              "#fb9f3a"
             ],
             [
              0.8888888888888888,
              "#fdca26"
             ],
             [
              1,
              "#f0f921"
             ]
            ],
            "type": "histogram2dcontour"
           }
          ],
          "mesh3d": [
           {
            "colorbar": {
             "outlinewidth": 0,
             "ticks": ""
            },
            "type": "mesh3d"
           }
          ],
          "parcoords": [
           {
            "line": {
             "colorbar": {
              "outlinewidth": 0,
              "ticks": ""
             }
            },
            "type": "parcoords"
           }
          ],
          "pie": [
           {
            "automargin": true,
            "type": "pie"
           }
          ],
          "scatter": [
           {
            "fillpattern": {
             "fillmode": "overlay",
             "size": 10,
             "solidity": 0.2
            },
            "type": "scatter"
           }
          ],
          "scatter3d": [
           {
            "line": {
             "colorbar": {
              "outlinewidth": 0,
              "ticks": ""
             }
            },
            "marker": {
             "colorbar": {
              "outlinewidth": 0,
              "ticks": ""
             }
            },
            "type": "scatter3d"
           }
          ],
          "scattercarpet": [
           {
            "marker": {
             "colorbar": {
              "outlinewidth": 0,
              "ticks": ""
             }
            },
            "type": "scattercarpet"
           }
          ],
          "scattergeo": [
           {
            "marker": {
             "colorbar": {
              "outlinewidth": 0,
              "ticks": ""
             }
            },
            "type": "scattergeo"
           }
          ],
          "scattergl": [
           {
            "marker": {
             "colorbar": {
              "outlinewidth": 0,
              "ticks": ""
             }
            },
            "type": "scattergl"
           }
          ],
          "scattermap": [
           {
            "marker": {
             "colorbar": {
              "outlinewidth": 0,
              "ticks": ""
             }
            },
            "type": "scattermap"
           }
          ],
          "scattermapbox": [
           {
            "marker": {
             "colorbar": {
              "outlinewidth": 0,
              "ticks": ""
             }
            },
            "type": "scattermapbox"
           }
          ],
          "scatterpolar": [
           {
            "marker": {
             "colorbar": {
              "outlinewidth": 0,
              "ticks": ""
             }
            },
            "type": "scatterpolar"
           }
          ],
          "scatterpolargl": [
           {
            "marker": {
             "colorbar": {
              "outlinewidth": 0,
              "ticks": ""
             }
            },
            "type": "scatterpolargl"
           }
          ],
          "scatterternary": [
           {
            "marker": {
             "colorbar": {
              "outlinewidth": 0,
              "ticks": ""
             }
            },
            "type": "scatterternary"
           }
          ],
          "surface": [
           {
            "colorbar": {
             "outlinewidth": 0,
             "ticks": ""
            },
            "colorscale": [
             [
              0,
              "#0d0887"
             ],
             [
              0.1111111111111111,
              "#46039f"
             ],
             [
              0.2222222222222222,
              "#7201a8"
             ],
             [
              0.3333333333333333,
              "#9c179e"
             ],
             [
              0.4444444444444444,
              "#bd3786"
             ],
             [
              0.5555555555555556,
              "#d8576b"
             ],
             [
              0.6666666666666666,
              "#ed7953"
             ],
             [
              0.7777777777777778,
              "#fb9f3a"
             ],
             [
              0.8888888888888888,
              "#fdca26"
             ],
             [
              1,
              "#f0f921"
             ]
            ],
            "type": "surface"
           }
          ],
          "table": [
           {
            "cells": {
             "fill": {
              "color": "#EBF0F8"
             },
             "line": {
              "color": "white"
             }
            },
            "header": {
             "fill": {
              "color": "#C8D4E3"
             },
             "line": {
              "color": "white"
             }
            },
            "type": "table"
           }
          ]
         },
         "layout": {
          "annotationdefaults": {
           "arrowcolor": "#2a3f5f",
           "arrowhead": 0,
           "arrowwidth": 1
          },
          "autotypenumbers": "strict",
          "coloraxis": {
           "colorbar": {
            "outlinewidth": 0,
            "ticks": ""
           }
          },
          "colorscale": {
           "diverging": [
            [
             0,
             "#8e0152"
            ],
            [
             0.1,
             "#c51b7d"
            ],
            [
             0.2,
             "#de77ae"
            ],
            [
             0.3,
             "#f1b6da"
            ],
            [
             0.4,
             "#fde0ef"
            ],
            [
             0.5,
             "#f7f7f7"
            ],
            [
             0.6,
             "#e6f5d0"
            ],
            [
             0.7,
             "#b8e186"
            ],
            [
             0.8,
             "#7fbc41"
            ],
            [
             0.9,
             "#4d9221"
            ],
            [
             1,
             "#276419"
            ]
           ],
           "sequential": [
            [
             0,
             "#0d0887"
            ],
            [
             0.1111111111111111,
             "#46039f"
            ],
            [
             0.2222222222222222,
             "#7201a8"
            ],
            [
             0.3333333333333333,
             "#9c179e"
            ],
            [
             0.4444444444444444,
             "#bd3786"
            ],
            [
             0.5555555555555556,
             "#d8576b"
            ],
            [
             0.6666666666666666,
             "#ed7953"
            ],
            [
             0.7777777777777778,
             "#fb9f3a"
            ],
            [
             0.8888888888888888,
             "#fdca26"
            ],
            [
             1,
             "#f0f921"
            ]
           ],
           "sequentialminus": [
            [
             0,
             "#0d0887"
            ],
            [
             0.1111111111111111,
             "#46039f"
            ],
            [
             0.2222222222222222,
             "#7201a8"
            ],
            [
             0.3333333333333333,
             "#9c179e"
            ],
            [
             0.4444444444444444,
             "#bd3786"
            ],
            [
             0.5555555555555556,
             "#d8576b"
            ],
            [
             0.6666666666666666,
             "#ed7953"
            ],
            [
             0.7777777777777778,
             "#fb9f3a"
            ],
            [
             0.8888888888888888,
             "#fdca26"
            ],
            [
             1,
             "#f0f921"
            ]
           ]
          },
          "colorway": [
           "#636efa",
           "#EF553B",
           "#00cc96",
           "#ab63fa",
           "#FFA15A",
           "#19d3f3",
           "#FF6692",
           "#B6E880",
           "#FF97FF",
           "#FECB52"
          ],
          "font": {
           "color": "#2a3f5f"
          },
          "geo": {
           "bgcolor": "white",
           "lakecolor": "white",
           "landcolor": "#E5ECF6",
           "showlakes": true,
           "showland": true,
           "subunitcolor": "white"
          },
          "hoverlabel": {
           "align": "left"
          },
          "hovermode": "closest",
          "mapbox": {
           "style": "light"
          },
          "paper_bgcolor": "white",
          "plot_bgcolor": "#E5ECF6",
          "polar": {
           "angularaxis": {
            "gridcolor": "white",
            "linecolor": "white",
            "ticks": ""
           },
           "bgcolor": "#E5ECF6",
           "radialaxis": {
            "gridcolor": "white",
            "linecolor": "white",
            "ticks": ""
           }
          },
          "scene": {
           "xaxis": {
            "backgroundcolor": "#E5ECF6",
            "gridcolor": "white",
            "gridwidth": 2,
            "linecolor": "white",
            "showbackground": true,
            "ticks": "",
            "zerolinecolor": "white"
           },
           "yaxis": {
            "backgroundcolor": "#E5ECF6",
            "gridcolor": "white",
            "gridwidth": 2,
            "linecolor": "white",
            "showbackground": true,
            "ticks": "",
            "zerolinecolor": "white"
           },
           "zaxis": {
            "backgroundcolor": "#E5ECF6",
            "gridcolor": "white",
            "gridwidth": 2,
            "linecolor": "white",
            "showbackground": true,
            "ticks": "",
            "zerolinecolor": "white"
           }
          },
          "shapedefaults": {
           "line": {
            "color": "#2a3f5f"
           }
          },
          "ternary": {
           "aaxis": {
            "gridcolor": "white",
            "linecolor": "white",
            "ticks": ""
           },
           "baxis": {
            "gridcolor": "white",
            "linecolor": "white",
            "ticks": ""
           },
           "bgcolor": "#E5ECF6",
           "caxis": {
            "gridcolor": "white",
            "linecolor": "white",
            "ticks": ""
           }
          },
          "title": {
           "x": 0.05
          },
          "xaxis": {
           "automargin": true,
           "gridcolor": "white",
           "linecolor": "white",
           "ticks": "",
           "title": {
            "standoff": 15
           },
           "zerolinecolor": "white",
           "zerolinewidth": 2
          },
          "yaxis": {
           "automargin": true,
           "gridcolor": "white",
           "linecolor": "white",
           "ticks": "",
           "title": {
            "standoff": 15
           },
           "zerolinecolor": "white",
           "zerolinewidth": 2
          }
         }
        },
        "title": {
         "text": "Sharpe Ratio Over Iterations"
        },
        "xaxis": {
         "title": {
          "text": "Iteration"
         }
        },
        "yaxis": {
         "title": {
          "text": "Sharpe Ratio"
         }
        }
       }
      }
     },
     "metadata": {},
     "output_type": "display_data"
    }
   ],
   "source": [
    "sharpe_ratios = [portfolio['sharpe'] for portfolio in total_portfolios]\n",
    "\n",
    "fig = go.Figure(data=go.Scatter(x=list(range(len(sharpe_ratios))), y=sharpe_ratios, mode='lines+markers'))\n",
    "fig.update_layout(title='Sharpe Ratio Over Iterations',\n",
    "                  xaxis_title='Iteration',\n",
    "                  yaxis_title='Sharpe Ratio',\n",
    "                  )\n",
    "fig.show()"
   ]
  },
  {
   "cell_type": "markdown",
   "metadata": {},
   "source": [
    "### 5.2 Reinforcement Weight Training"
   ]
  },
  {
   "cell_type": "code",
   "execution_count": 123,
   "metadata": {},
   "outputs": [
    {
     "name": "stderr",
     "output_type": "stream",
     "text": [
      "  0%|          | 185/100000 [00:01<15:59, 103.99it/s]"
     ]
    },
    {
     "name": "stdout",
     "output_type": "stream",
     "text": [
      "All assets have been tested\n",
      "Final Weights: 0.9479900276083781 0.027742831163858225 0.02426714122776374\n"
     ]
    },
    {
     "name": "stderr",
     "output_type": "stream",
     "text": [
      "\n"
     ]
    },
    {
     "data": {
      "text/plain": [
       "({'tickers': ['COST_Close',\n",
       "   'BMY_Close',\n",
       "   'TSLA_Close',\n",
       "   'SNAP_Close',\n",
       "   'SPOT_Close',\n",
       "   'RDY_Close',\n",
       "   'KR_Close',\n",
       "   'AMZN_Close'],\n",
       "  'weights': array([0.00000000e+00, 2.27146734e-16, 3.52911858e-01, 1.01383089e-01,\n",
       "         1.24328455e-01, 3.43340112e-01, 5.95010159e-02, 1.85354700e-02]),\n",
       "  'return': np.float64(1.1547453063063942),\n",
       "  'variance': np.float64(0.208376020177631),\n",
       "  'sharpe': np.float64(2.529661063227759)},\n",
       " np.float64(2.529661063227759),\n",
       " 96)"
      ]
     },
     "execution_count": 123,
     "metadata": {},
     "output_type": "execute_result"
    }
   ],
   "source": [
    "def MLRBA_V2(ticker, covariances, returns, num_iterations=None, risk_free_rate = 0, \n",
    "             return_power = 1, std_power = 1, return_weight=1/3, corr_weight=1/3, vol_weight= 1/3, num_assets = 8):\n",
    "    \n",
    "    if num_iterations is None:\n",
    "        num_iterations = min(math.comb(len(ticker), num_assets), 100000)\n",
    "\n",
    "    base_portfolio = np.random.choice(list(ticker), num_assets, replace=False)\n",
    "    #base_portfolio = list(ticker)[:num_assets]\n",
    "    highest_weighted_sharpe = -np.inf\n",
    "    all_portfolios = []\n",
    "    tested_assets = set()\n",
    "    best_iteration = 0\n",
    "\n",
    "    learning_rate = 0.05\n",
    "\n",
    "    def _get_portfolio_stats(portfolio_assets, risk_free_rate=0):\n",
    "        p_asset_ret = returns.loc[portfolio_assets].values\n",
    "        p_asset_var = covariances.loc[portfolio_assets, portfolio_assets].values\n",
    "        best_p_weights = maximize_sharpe(p_asset_ret, p_asset_var)\n",
    "        p_ret = np.dot(best_p_weights, p_asset_ret)\n",
    "        p_var = np.dot(best_p_weights, p_asset_var @ best_p_weights)\n",
    "        sharpe = get_sharpe_ratio(p_ret, p_var, risk_free_rate, return_power, std_power)\n",
    "        return p_asset_ret, p_asset_var, sharpe, p_ret, p_var, best_p_weights\n",
    "\n",
    "    def _update_portfolios_array(portfolios, assets, weights, p_ret, p_var):\n",
    "        portfolios.append({\n",
    "            \"tickers\": assets,\n",
    "            \"weights\": weights,\n",
    "            \"return\": p_ret,\n",
    "            \"variance\": p_var,\n",
    "            \"sharpe\": (p_ret - risk_free_rate) / np.sqrt(p_var),\n",
    "        })\n",
    "\n",
    "    curr_ret, curr_var, curr_weighted_sharpe, curr_p_return, curr_p_variance, curr_p_weights = _get_portfolio_stats(base_portfolio, risk_free_rate)\n",
    "    _update_portfolios_array(all_portfolios, base_portfolio, curr_p_weights, curr_p_return, curr_p_variance)\n",
    "\n",
    "    good_portfolios = all_portfolios.copy()\n",
    "    best_portfolio = base_portfolio.copy()\n",
    "    highest_weighted_sharpe = curr_weighted_sharpe\n",
    "\n",
    "    improvement_threshold = 0.001\n",
    "\n",
    "    for i in tqdm(range(num_iterations)):\n",
    "        asset_to_remove = find_best_asset_to_remove(best_portfolio, curr_var, curr_ret)\n",
    "        new_portfolio = [str(asset) for asset in best_portfolio if asset != asset_to_remove]\n",
    "\n",
    "        ranked_assets = find_asset_to_add(new_portfolio, ticker, covariances, returns, return_weight, corr_weight, vol_weight)\n",
    "        asset_to_add = ranked_assets.index[0]\n",
    "\n",
    "        for asset in ranked_assets.index:\n",
    "            if asset not in tested_assets:\n",
    "                asset_to_add = asset\n",
    "                break\n",
    "\n",
    "        new_portfolio.append(asset_to_add)\n",
    "        tested_assets.add(asset_to_add)\n",
    "\n",
    "        if len(tested_assets) >= len(ticker) - num_assets:\n",
    "            print(\"All assets have been tested\")\n",
    "            break\n",
    "\n",
    "        new_returns, new_var, new_weighted_sharpe, new_p_return, new_p_variance, new_p_weights = _get_portfolio_stats(new_portfolio, risk_free_rate)\n",
    "        _update_portfolios_array(all_portfolios, new_portfolio, new_p_weights, new_p_return, new_p_variance)\n",
    "\n",
    "        if new_weighted_sharpe > highest_weighted_sharpe:\n",
    "            improvement = new_weighted_sharpe - highest_weighted_sharpe\n",
    "            highest_weighted_sharpe = new_weighted_sharpe\n",
    "            best_portfolio = new_portfolio\n",
    "            curr_ret, curr_var = new_returns, new_var\n",
    "            best_iteration = i\n",
    "\n",
    "            asset_return = returns.loc[asset_to_add]\n",
    "            asset_vol = np.sqrt(covariances.loc[asset_to_add, asset_to_add])\n",
    "            avg_return = returns.mean()\n",
    "            avg_vol = np.sqrt(np.diag(covariances)).mean()\n",
    "\n",
    "            corr_with_portfolio = correlation_matrix.loc[new_portfolio, asset_to_add].drop(asset_to_add).mean()\n",
    "            avg_corr_in_portfolio = correlation_matrix.loc[new_portfolio].drop(asset_to_add, axis=1).mean().mean()\n",
    "            \n",
    "            # Update weights using the current learning rate\n",
    "            if asset_return > avg_return:\n",
    "                return_weight += learning_rate * (asset_return - avg_return) / avg_return\n",
    "            else:\n",
    "                return_weight -= learning_rate * (avg_return - asset_return) / avg_return\n",
    "\n",
    "            if asset_vol < avg_vol:\n",
    "                vol_weight -= learning_rate * (avg_vol - asset_vol) / avg_vol\n",
    "            else:\n",
    "                vol_weight += learning_rate * (asset_vol - avg_vol) / avg_vol\n",
    "\n",
    "            if corr_with_portfolio < avg_corr_in_portfolio:\n",
    "                corr_weight += learning_rate * (avg_corr_in_portfolio - corr_with_portfolio) / avg_corr_in_portfolio\n",
    "            else:\n",
    "                corr_weight -= learning_rate * (corr_with_portfolio - avg_corr_in_portfolio) / avg_corr_in_portfolio\n",
    "\n",
    "            total = return_weight + corr_weight + vol_weight\n",
    "            return_weight /= total\n",
    "            corr_weight /= total\n",
    "            vol_weight /= total\n",
    "\n",
    "            if improvement < improvement_threshold:\n",
    "                learning_rate *= 0.95\n",
    "            else:\n",
    "                learning_rate *= 1.01\n",
    "\n",
    "            _update_portfolios_array(good_portfolios, new_portfolio, new_p_weights, new_p_return, new_p_variance)\n",
    "            tested_assets.clear()\n",
    "\n",
    "    base_details = good_portfolios[0]\n",
    "    best_details = good_portfolios[-1]\n",
    "\n",
    "    print(\"Final Weights:\", return_weight, corr_weight, vol_weight)\n",
    "    \n",
    "    return base_details, best_details, good_portfolios, all_portfolios, best_iteration\n",
    "\n",
    "\n",
    "base_portfolio, best_portfolio, good_portfolios, total_portfolios, best_iteration = MLRBA_V2(names, cov, annualized_returns)\n",
    "best_portfolio, best_portfolio['sharpe'], best_iteration"
   ]
  },
  {
   "cell_type": "code",
   "execution_count": 124,
   "metadata": {},
   "outputs": [
    {
     "data": {
      "application/vnd.plotly.v1+json": {
       "config": {
        "plotlyServerURL": "https://plot.ly"
       },
       "data": [
        {
         "hoverinfo": "text",
         "marker": {
          "color": [
           1.0508118383756857,
           2.3483932078567746,
           2.4228207011114025,
           2.422820649412805,
           2.428109561608416,
           2.4281095701396658,
           2.4281095701396658,
           2.428109529040679,
           2.42810960479479,
           2.422820670189986,
           2.428109604794963,
           2.422820670189986,
           2.428109604794963,
           2.4228206992297325,
           2.4503768922415325,
           2.4503769156377295,
           2.4503769156377295,
           2.45188558375915,
           2.4503769156377295,
           2.45188558375915,
           2.4503769281963015,
           2.4503769208542536,
           2.4503769213146507,
           2.4547813126129174,
           2.4547812768791806,
           2.455168742876637,
           2.4547812768791806,
           2.455168742876637,
           2.4547813620254755,
           2.454781170528386,
           2.4547812218473037,
           2.5276418212459912,
           2.526960864668117,
           2.526960480133452,
           2.5269605416423966,
           2.526960862835002,
           2.5269608646619433,
           2.5276418212624563,
           2.526960864668117,
           2.526960480133452,
           2.5269605416423966,
           2.526960862835002,
           2.5269608646619433,
           2.5276418212624563,
           2.52696085853919,
           2.5269608677626265,
           2.5269608648053037,
           2.5269607220862884,
           2.5269608723423365,
           2.5269608647283412,
           2.526960866035245,
           2.5269606601568033,
           2.526960820844322,
           2.5269608324975974,
           2.526960867393304,
           2.526960762869551,
           2.526960781004154,
           2.5269608329397264,
           2.5269608679651356,
           2.526960867156727,
           2.5269608672910557,
           2.5275729942859932,
           2.5269606780097718,
           2.526960648006273,
           2.5269606084034617,
           2.526960868440137,
           2.5269605772088766,
           2.52696082343401,
           2.526960783272671,
           2.5269607782092876,
           2.5269608667789694,
           2.5269607436150148,
           2.5269608051142414,
           2.526960778028575,
           2.5269692685553653,
           2.5269608035750935,
           2.5269607609373983,
           2.526960838217749,
           2.526960818266467,
           2.526960833224509,
           2.5269606548049772,
           2.5269608679570505,
           2.526960863746284,
           2.5269606631836696,
           2.526960739309482,
           2.526960757974122,
           2.5269606930462984,
           2.526960430616364,
           2.526960798106211,
           2.529464571889323,
           2.529464297341843,
           2.5294646020092206,
           2.529464297341843,
           2.5294646020092206,
           2.529464523436965,
           2.529464468127465,
           2.529464376446623,
           2.529661063227759,
           2.529464297341843,
           2.5294646020092206,
           2.529464523436965,
           2.529464468127465,
           2.529464376446623,
           2.529661063227759,
           2.529464571904295,
           2.5294643895611997,
           2.529464283661732,
           2.5294643576095033,
           2.529464604841697,
           2.5294645963854028,
           2.5294645823217063,
           2.529464584485795,
           2.5294645511466984,
           2.529464535683662,
           2.5294645197235073,
           2.529464601598661,
           2.5294645969270393,
           2.5294644572080096,
           2.529464304388802,
           2.5294645806751563,
           2.5294645812554184,
           2.529464538797119,
           2.5294646021493246,
           2.5294643793233673,
           2.5294646076947536,
           2.5295661867864365,
           2.529464563405488,
           2.529464476987656,
           2.5294641668947406,
           2.5294645390830475,
           2.5294646053833456,
           2.52946457326048,
           2.529464590309016,
           2.5294645353795615,
           2.529464608074547,
           2.529464588207533,
           2.5294646168842863,
           2.52946460786799,
           2.5294645918807097,
           2.5294645457149203,
           2.5294645516896197,
           2.529464557340086,
           2.529464549583113,
           2.5294646041549127,
           2.5294645709371286,
           2.529464601102301,
           2.529464552692026,
           2.529464317916758,
           2.529464588361496,
           2.529464297780201,
           2.5294645839422536,
           2.5294646073180806,
           2.5294645697773754,
           2.529464609889757,
           2.5294646087348354,
           2.5294645343465754,
           2.5294645828227984,
           2.529464605137423,
           2.5294646036426736,
           2.5294644344356487,
           2.529464594867949,
           2.529464585987296,
           2.5294642388939184,
           2.529464567461015,
           2.5294645933541884,
           2.5294644703430813,
           2.5294645659442097,
           2.52946449057507,
           2.5294645989370146,
           2.529464581723839,
           2.52946459661886,
           2.5294645723574445,
           2.5294645661360238,
           2.5294645694963434,
           2.529464608143185,
           2.529464565257505,
           2.529464585287078,
           2.52946461748705,
           2.529464441974407,
           2.52946450263858,
           2.529464456177898,
           2.529464590439872,
           2.529464587540022,
           2.5294642040004858,
           2.529464609114939,
           2.529464574141122
          ],
          "colorbar": {
           "title": {
            "text": "Sharpe<br>Ratio"
           }
          },
          "colorscale": [
           [
            0,
            "rgb(103,0,31)"
           ],
           [
            0.1,
            "rgb(178,24,43)"
           ],
           [
            0.2,
            "rgb(214,96,77)"
           ],
           [
            0.3,
            "rgb(244,165,130)"
           ],
           [
            0.4,
            "rgb(253,219,199)"
           ],
           [
            0.5,
            "rgb(247,247,247)"
           ],
           [
            0.6,
            "rgb(209,229,240)"
           ],
           [
            0.7,
            "rgb(146,197,222)"
           ],
           [
            0.8,
            "rgb(67,147,195)"
           ],
           [
            0.9,
            "rgb(33,102,172)"
           ],
           [
            1,
            "rgb(5,48,97)"
           ]
          ],
          "line": {
           "width": 1
          },
          "showscale": true,
          "size": 7
         },
         "mode": "markers",
         "name": "Portfolios",
         "text": [
          "Return: 29.983%<br>Volatility: 0.285<br>Sharpe Ratio: 1.051<br>SAP_Close: Weight=0.000<br>LYFT_Close: Weight=0.000<br>COST_Close: Weight=0.726<br>NKE_Close: Weight=0.274<br>MA_Close: Weight=0.000<br>BMY_Close: Weight=0.000<br>SRE_Close: Weight=0.000<br>MDT_Close: Weight=0.000",
          "Return: 159.798%<br>Volatility: 0.680<br>Sharpe Ratio: 2.348<br>SAP_Close: Weight=0.000<br>LYFT_Close: Weight=0.000<br>COST_Close: Weight=0.276<br>NKE_Close: Weight=0.000<br>MA_Close: Weight=0.000<br>BMY_Close: Weight=0.000<br>MDT_Close: Weight=0.000<br>TSLA_Close: Weight=0.724",
          "Return: 161.466%<br>Volatility: 0.666<br>Sharpe Ratio: 2.423<br>SAP_Close: Weight=0.000<br>LYFT_Close: Weight=0.000<br>COST_Close: Weight=0.129<br>NKE_Close: Weight=0.000<br>BMY_Close: Weight=0.000<br>MDT_Close: Weight=0.000<br>TSLA_Close: Weight=0.626<br>SNAP_Close: Weight=0.244",
          "Return: 161.447%<br>Volatility: 0.666<br>Sharpe Ratio: 2.423<br>SAP_Close: Weight=0.000<br>COST_Close: Weight=0.130<br>NKE_Close: Weight=0.000<br>BMY_Close: Weight=0.000<br>MDT_Close: Weight=0.000<br>TSLA_Close: Weight=0.626<br>SNAP_Close: Weight=0.244<br>NVDA_Close: Weight=0.000",
          "Return: 164.456%<br>Volatility: 0.677<br>Sharpe Ratio: 2.428<br>SAP_Close: Weight=0.000<br>COST_Close: Weight=0.035<br>NKE_Close: Weight=0.000<br>BMY_Close: Weight=0.000<br>MDT_Close: Weight=0.000<br>TSLA_Close: Weight=0.622<br>SNAP_Close: Weight=0.223<br>PYPL_Close: Weight=0.120",
          "Return: 164.458%<br>Volatility: 0.677<br>Sharpe Ratio: 2.428<br>SAP_Close: Weight=0.000<br>COST_Close: Weight=0.035<br>NKE_Close: Weight=0.000<br>BMY_Close: Weight=0.000<br>TSLA_Close: Weight=0.622<br>SNAP_Close: Weight=0.223<br>PYPL_Close: Weight=0.120<br>NVDA_Close: Weight=0.000",
          "Return: 164.458%<br>Volatility: 0.677<br>Sharpe Ratio: 2.428<br>SAP_Close: Weight=0.000<br>COST_Close: Weight=0.035<br>NKE_Close: Weight=0.000<br>BMY_Close: Weight=0.000<br>TSLA_Close: Weight=0.622<br>SNAP_Close: Weight=0.223<br>PYPL_Close: Weight=0.120<br>NVDA_Close: Weight=0.000",
          "Return: 164.457%<br>Volatility: 0.677<br>Sharpe Ratio: 2.428<br>SAP_Close: Weight=0.000<br>COST_Close: Weight=0.035<br>NKE_Close: Weight=0.000<br>BMY_Close: Weight=0.000<br>TSLA_Close: Weight=0.622<br>SNAP_Close: Weight=0.223<br>PYPL_Close: Weight=0.120<br>AMD_Close: Weight=0.000",
          "Return: 164.453%<br>Volatility: 0.677<br>Sharpe Ratio: 2.428<br>SAP_Close: Weight=0.000<br>COST_Close: Weight=0.035<br>NKE_Close: Weight=0.000<br>BMY_Close: Weight=0.000<br>TSLA_Close: Weight=0.622<br>SNAP_Close: Weight=0.223<br>PYPL_Close: Weight=0.120<br>UBER_Close: Weight=0.000",
          "Return: 161.453%<br>Volatility: 0.666<br>Sharpe Ratio: 2.423<br>SAP_Close: Weight=0.000<br>COST_Close: Weight=0.130<br>NKE_Close: Weight=0.000<br>BMY_Close: Weight=0.000<br>TSLA_Close: Weight=0.626<br>SNAP_Close: Weight=0.244<br>UBER_Close: Weight=0.000<br>NVDA_Close: Weight=0.000",
          "Return: 164.453%<br>Volatility: 0.677<br>Sharpe Ratio: 2.428<br>SAP_Close: Weight=0.000<br>COST_Close: Weight=0.035<br>NKE_Close: Weight=0.000<br>BMY_Close: Weight=0.000<br>TSLA_Close: Weight=0.622<br>SNAP_Close: Weight=0.223<br>UBER_Close: Weight=0.000<br>PYPL_Close: Weight=0.120",
          "Return: 161.453%<br>Volatility: 0.666<br>Sharpe Ratio: 2.423<br>SAP_Close: Weight=0.000<br>COST_Close: Weight=0.130<br>NKE_Close: Weight=0.000<br>BMY_Close: Weight=0.000<br>TSLA_Close: Weight=0.626<br>SNAP_Close: Weight=0.244<br>UBER_Close: Weight=0.000<br>NVDA_Close: Weight=0.000",
          "Return: 164.453%<br>Volatility: 0.677<br>Sharpe Ratio: 2.428<br>SAP_Close: Weight=0.000<br>COST_Close: Weight=0.035<br>NKE_Close: Weight=0.000<br>BMY_Close: Weight=0.000<br>TSLA_Close: Weight=0.622<br>SNAP_Close: Weight=0.223<br>UBER_Close: Weight=0.000<br>PYPL_Close: Weight=0.120",
          "Return: 161.464%<br>Volatility: 0.666<br>Sharpe Ratio: 2.423<br>SAP_Close: Weight=0.000<br>COST_Close: Weight=0.129<br>NKE_Close: Weight=0.000<br>BMY_Close: Weight=0.000<br>TSLA_Close: Weight=0.626<br>SNAP_Close: Weight=0.244<br>UBER_Close: Weight=0.000<br>AMD_Close: Weight=0.000",
          "Return: 151.016%<br>Volatility: 0.616<br>Sharpe Ratio: 2.450<br>SAP_Close: Weight=0.000<br>COST_Close: Weight=0.078<br>NKE_Close: Weight=0.000<br>BMY_Close: Weight=0.000<br>TSLA_Close: Weight=0.545<br>SNAP_Close: Weight=0.188<br>UBER_Close: Weight=0.000<br>SPOT_Close: Weight=0.190",
          "Return: 151.036%<br>Volatility: 0.616<br>Sharpe Ratio: 2.450<br>SAP_Close: Weight=0.000<br>COST_Close: Weight=0.077<br>BMY_Close: Weight=0.000<br>TSLA_Close: Weight=0.545<br>SNAP_Close: Weight=0.188<br>UBER_Close: Weight=0.000<br>SPOT_Close: Weight=0.190<br>NVDA_Close: Weight=0.000",
          "Return: 151.036%<br>Volatility: 0.616<br>Sharpe Ratio: 2.450<br>SAP_Close: Weight=0.000<br>COST_Close: Weight=0.077<br>BMY_Close: Weight=0.000<br>TSLA_Close: Weight=0.545<br>SNAP_Close: Weight=0.188<br>UBER_Close: Weight=0.000<br>SPOT_Close: Weight=0.190<br>NVDA_Close: Weight=0.000",
          "Return: 152.910%<br>Volatility: 0.624<br>Sharpe Ratio: 2.452<br>SAP_Close: Weight=0.000<br>COST_Close: Weight=0.033<br>BMY_Close: Weight=0.000<br>TSLA_Close: Weight=0.546<br>SNAP_Close: Weight=0.179<br>UBER_Close: Weight=0.000<br>SPOT_Close: Weight=0.182<br>PYPL_Close: Weight=0.060",
          "Return: 151.036%<br>Volatility: 0.616<br>Sharpe Ratio: 2.450<br>SAP_Close: Weight=0.000<br>COST_Close: Weight=0.077<br>BMY_Close: Weight=0.000<br>TSLA_Close: Weight=0.545<br>SNAP_Close: Weight=0.188<br>UBER_Close: Weight=0.000<br>SPOT_Close: Weight=0.190<br>NVDA_Close: Weight=0.000",
          "Return: 152.910%<br>Volatility: 0.624<br>Sharpe Ratio: 2.452<br>SAP_Close: Weight=0.000<br>COST_Close: Weight=0.033<br>BMY_Close: Weight=0.000<br>TSLA_Close: Weight=0.546<br>SNAP_Close: Weight=0.179<br>UBER_Close: Weight=0.000<br>SPOT_Close: Weight=0.182<br>PYPL_Close: Weight=0.060",
          "Return: 151.061%<br>Volatility: 0.616<br>Sharpe Ratio: 2.450<br>SAP_Close: Weight=0.000<br>COST_Close: Weight=0.077<br>BMY_Close: Weight=0.000<br>TSLA_Close: Weight=0.545<br>SNAP_Close: Weight=0.188<br>UBER_Close: Weight=0.000<br>SPOT_Close: Weight=0.190<br>AMD_Close: Weight=0.000",
          "Return: 151.040%<br>Volatility: 0.616<br>Sharpe Ratio: 2.450<br>SAP_Close: Weight=0.000<br>COST_Close: Weight=0.077<br>BMY_Close: Weight=0.000<br>TSLA_Close: Weight=0.545<br>SNAP_Close: Weight=0.188<br>UBER_Close: Weight=0.000<br>SPOT_Close: Weight=0.190<br>AAPL_Close: Weight=0.000",
          "Return: 151.041%<br>Volatility: 0.616<br>Sharpe Ratio: 2.450<br>SAP_Close: Weight=0.000<br>COST_Close: Weight=0.077<br>BMY_Close: Weight=0.000<br>TSLA_Close: Weight=0.545<br>SNAP_Close: Weight=0.188<br>UBER_Close: Weight=0.000<br>SPOT_Close: Weight=0.190<br>QCOM_Close: Weight=0.000",
          "Return: 148.586%<br>Volatility: 0.605<br>Sharpe Ratio: 2.455<br>SAP_Close: Weight=0.000<br>COST_Close: Weight=0.000<br>BMY_Close: Weight=0.000<br>TSLA_Close: Weight=0.521<br>SNAP_Close: Weight=0.180<br>UBER_Close: Weight=0.000<br>SPOT_Close: Weight=0.171<br>AMZN_Close: Weight=0.128",
          "Return: 148.613%<br>Volatility: 0.605<br>Sharpe Ratio: 2.455<br>COST_Close: Weight=0.000<br>BMY_Close: Weight=0.000<br>TSLA_Close: Weight=0.521<br>SNAP_Close: Weight=0.180<br>UBER_Close: Weight=0.000<br>SPOT_Close: Weight=0.171<br>AMZN_Close: Weight=0.128<br>NVDA_Close: Weight=0.000",
          "Return: 148.318%<br>Volatility: 0.604<br>Sharpe Ratio: 2.455<br>COST_Close: Weight=0.000<br>BMY_Close: Weight=0.000<br>TSLA_Close: Weight=0.518<br>SNAP_Close: Weight=0.174<br>UBER_Close: Weight=0.000<br>SPOT_Close: Weight=0.167<br>AMZN_Close: Weight=0.112<br>PYPL_Close: Weight=0.029",
          "Return: 148.613%<br>Volatility: 0.605<br>Sharpe Ratio: 2.455<br>COST_Close: Weight=0.000<br>BMY_Close: Weight=0.000<br>TSLA_Close: Weight=0.521<br>SNAP_Close: Weight=0.180<br>UBER_Close: Weight=0.000<br>SPOT_Close: Weight=0.171<br>AMZN_Close: Weight=0.128<br>NVDA_Close: Weight=0.000",
          "Return: 148.318%<br>Volatility: 0.604<br>Sharpe Ratio: 2.455<br>COST_Close: Weight=0.000<br>BMY_Close: Weight=0.000<br>TSLA_Close: Weight=0.518<br>SNAP_Close: Weight=0.174<br>UBER_Close: Weight=0.000<br>SPOT_Close: Weight=0.167<br>AMZN_Close: Weight=0.112<br>PYPL_Close: Weight=0.029",
          "Return: 148.580%<br>Volatility: 0.605<br>Sharpe Ratio: 2.455<br>COST_Close: Weight=0.000<br>BMY_Close: Weight=0.000<br>TSLA_Close: Weight=0.521<br>SNAP_Close: Weight=0.180<br>UBER_Close: Weight=0.000<br>SPOT_Close: Weight=0.171<br>AMZN_Close: Weight=0.128<br>AMD_Close: Weight=0.000",
          "Return: 148.631%<br>Volatility: 0.605<br>Sharpe Ratio: 2.455<br>COST_Close: Weight=0.000<br>BMY_Close: Weight=0.000<br>TSLA_Close: Weight=0.521<br>SNAP_Close: Weight=0.180<br>UBER_Close: Weight=0.000<br>SPOT_Close: Weight=0.171<br>AMZN_Close: Weight=0.128<br>AAPL_Close: Weight=0.000",
          "Return: 148.623%<br>Volatility: 0.605<br>Sharpe Ratio: 2.455<br>COST_Close: Weight=0.000<br>BMY_Close: Weight=0.000<br>TSLA_Close: Weight=0.521<br>SNAP_Close: Weight=0.180<br>UBER_Close: Weight=0.000<br>SPOT_Close: Weight=0.171<br>AMZN_Close: Weight=0.128<br>QCOM_Close: Weight=0.000",
          "Return: 120.644%<br>Volatility: 0.477<br>Sharpe Ratio: 2.528<br>COST_Close: Weight=0.000<br>BMY_Close: Weight=0.000<br>TSLA_Close: Weight=0.368<br>SNAP_Close: Weight=0.103<br>UBER_Close: Weight=0.000<br>SPOT_Close: Weight=0.132<br>AMZN_Close: Weight=0.034<br>RDY_Close: Weight=0.362",
          "Return: 122.651%<br>Volatility: 0.485<br>Sharpe Ratio: 2.527<br>COST_Close: Weight=0.000<br>BMY_Close: Weight=0.000<br>TSLA_Close: Weight=0.378<br>SNAP_Close: Weight=0.107<br>UBER_Close: Weight=0.000<br>SPOT_Close: Weight=0.140<br>RDY_Close: Weight=0.375<br>NVDA_Close: Weight=0.000",
          "Return: 122.601%<br>Volatility: 0.485<br>Sharpe Ratio: 2.527<br>COST_Close: Weight=0.000<br>BMY_Close: Weight=0.000<br>TSLA_Close: Weight=0.378<br>SNAP_Close: Weight=0.107<br>UBER_Close: Weight=0.000<br>SPOT_Close: Weight=0.139<br>RDY_Close: Weight=0.375<br>PYPL_Close: Weight=0.000",
          "Return: 122.592%<br>Volatility: 0.485<br>Sharpe Ratio: 2.527<br>COST_Close: Weight=0.000<br>BMY_Close: Weight=0.000<br>TSLA_Close: Weight=0.378<br>SNAP_Close: Weight=0.107<br>UBER_Close: Weight=0.000<br>SPOT_Close: Weight=0.140<br>RDY_Close: Weight=0.375<br>AMD_Close: Weight=0.000",
          "Return: 122.652%<br>Volatility: 0.485<br>Sharpe Ratio: 2.527<br>COST_Close: Weight=0.000<br>BMY_Close: Weight=0.000<br>TSLA_Close: Weight=0.378<br>SNAP_Close: Weight=0.107<br>UBER_Close: Weight=0.000<br>SPOT_Close: Weight=0.140<br>RDY_Close: Weight=0.375<br>AAPL_Close: Weight=0.000",
          "Return: 122.651%<br>Volatility: 0.485<br>Sharpe Ratio: 2.527<br>COST_Close: Weight=0.000<br>BMY_Close: Weight=0.000<br>TSLA_Close: Weight=0.378<br>SNAP_Close: Weight=0.107<br>UBER_Close: Weight=0.000<br>SPOT_Close: Weight=0.140<br>RDY_Close: Weight=0.375<br>QCOM_Close: Weight=0.000",
          "Return: 120.644%<br>Volatility: 0.477<br>Sharpe Ratio: 2.528<br>COST_Close: Weight=0.000<br>BMY_Close: Weight=0.000<br>TSLA_Close: Weight=0.368<br>SNAP_Close: Weight=0.103<br>UBER_Close: Weight=0.000<br>SPOT_Close: Weight=0.132<br>RDY_Close: Weight=0.362<br>AMZN_Close: Weight=0.034",
          "Return: 122.651%<br>Volatility: 0.485<br>Sharpe Ratio: 2.527<br>COST_Close: Weight=0.000<br>BMY_Close: Weight=0.000<br>TSLA_Close: Weight=0.378<br>SNAP_Close: Weight=0.107<br>UBER_Close: Weight=0.000<br>SPOT_Close: Weight=0.140<br>RDY_Close: Weight=0.375<br>NVDA_Close: Weight=0.000",
          "Return: 122.601%<br>Volatility: 0.485<br>Sharpe Ratio: 2.527<br>COST_Close: Weight=0.000<br>BMY_Close: Weight=0.000<br>TSLA_Close: Weight=0.378<br>SNAP_Close: Weight=0.107<br>UBER_Close: Weight=0.000<br>SPOT_Close: Weight=0.139<br>RDY_Close: Weight=0.375<br>PYPL_Close: Weight=0.000",
          "Return: 122.592%<br>Volatility: 0.485<br>Sharpe Ratio: 2.527<br>COST_Close: Weight=0.000<br>BMY_Close: Weight=0.000<br>TSLA_Close: Weight=0.378<br>SNAP_Close: Weight=0.107<br>UBER_Close: Weight=0.000<br>SPOT_Close: Weight=0.140<br>RDY_Close: Weight=0.375<br>AMD_Close: Weight=0.000",
          "Return: 122.652%<br>Volatility: 0.485<br>Sharpe Ratio: 2.527<br>COST_Close: Weight=0.000<br>BMY_Close: Weight=0.000<br>TSLA_Close: Weight=0.378<br>SNAP_Close: Weight=0.107<br>UBER_Close: Weight=0.000<br>SPOT_Close: Weight=0.140<br>RDY_Close: Weight=0.375<br>AAPL_Close: Weight=0.000",
          "Return: 122.651%<br>Volatility: 0.485<br>Sharpe Ratio: 2.527<br>COST_Close: Weight=0.000<br>BMY_Close: Weight=0.000<br>TSLA_Close: Weight=0.378<br>SNAP_Close: Weight=0.107<br>UBER_Close: Weight=0.000<br>SPOT_Close: Weight=0.140<br>RDY_Close: Weight=0.375<br>QCOM_Close: Weight=0.000",
          "Return: 120.644%<br>Volatility: 0.477<br>Sharpe Ratio: 2.528<br>COST_Close: Weight=0.000<br>BMY_Close: Weight=0.000<br>TSLA_Close: Weight=0.368<br>SNAP_Close: Weight=0.103<br>UBER_Close: Weight=0.000<br>SPOT_Close: Weight=0.132<br>RDY_Close: Weight=0.362<br>AMZN_Close: Weight=0.034",
          "Return: 122.654%<br>Volatility: 0.485<br>Sharpe Ratio: 2.527<br>COST_Close: Weight=0.000<br>BMY_Close: Weight=0.000<br>TSLA_Close: Weight=0.378<br>SNAP_Close: Weight=0.107<br>UBER_Close: Weight=0.000<br>SPOT_Close: Weight=0.140<br>RDY_Close: Weight=0.375<br>NFLX_Close: Weight=0.000",
          "Return: 122.649%<br>Volatility: 0.485<br>Sharpe Ratio: 2.527<br>COST_Close: Weight=0.000<br>BMY_Close: Weight=0.000<br>TSLA_Close: Weight=0.378<br>SNAP_Close: Weight=0.107<br>UBER_Close: Weight=0.000<br>SPOT_Close: Weight=0.140<br>RDY_Close: Weight=0.375<br>DE_Close: Weight=0.000",
          "Return: 122.651%<br>Volatility: 0.485<br>Sharpe Ratio: 2.527<br>COST_Close: Weight=0.000<br>BMY_Close: Weight=0.000<br>TSLA_Close: Weight=0.378<br>SNAP_Close: Weight=0.107<br>UBER_Close: Weight=0.000<br>SPOT_Close: Weight=0.140<br>RDY_Close: Weight=0.375<br>ADBE_Close: Weight=0.000",
          "Return: 122.604%<br>Volatility: 0.485<br>Sharpe Ratio: 2.527<br>COST_Close: Weight=0.000<br>BMY_Close: Weight=0.000<br>TSLA_Close: Weight=0.378<br>SNAP_Close: Weight=0.107<br>UBER_Close: Weight=0.000<br>SPOT_Close: Weight=0.140<br>RDY_Close: Weight=0.375<br>MSFT_Close: Weight=0.000",
          "Return: 122.644%<br>Volatility: 0.485<br>Sharpe Ratio: 2.527<br>COST_Close: Weight=0.000<br>BMY_Close: Weight=0.000<br>TSLA_Close: Weight=0.378<br>SNAP_Close: Weight=0.107<br>UBER_Close: Weight=0.000<br>SPOT_Close: Weight=0.140<br>RDY_Close: Weight=0.375<br>DHR_Close: Weight=0.000",
          "Return: 122.651%<br>Volatility: 0.485<br>Sharpe Ratio: 2.527<br>COST_Close: Weight=0.000<br>BMY_Close: Weight=0.000<br>TSLA_Close: Weight=0.378<br>SNAP_Close: Weight=0.107<br>UBER_Close: Weight=0.000<br>SPOT_Close: Weight=0.140<br>RDY_Close: Weight=0.375<br>NKE_Close: Weight=0.000",
          "Return: 122.650%<br>Volatility: 0.485<br>Sharpe Ratio: 2.527<br>COST_Close: Weight=0.000<br>BMY_Close: Weight=0.000<br>TSLA_Close: Weight=0.378<br>SNAP_Close: Weight=0.107<br>UBER_Close: Weight=0.000<br>SPOT_Close: Weight=0.140<br>RDY_Close: Weight=0.375<br>TMO_Close: Weight=0.000",
          "Return: 122.598%<br>Volatility: 0.485<br>Sharpe Ratio: 2.527<br>COST_Close: Weight=0.000<br>BMY_Close: Weight=0.000<br>TSLA_Close: Weight=0.378<br>SNAP_Close: Weight=0.107<br>UBER_Close: Weight=0.000<br>SPOT_Close: Weight=0.140<br>RDY_Close: Weight=0.375<br>ISRG_Close: Weight=0.000",
          "Return: 122.623%<br>Volatility: 0.485<br>Sharpe Ratio: 2.527<br>COST_Close: Weight=0.000<br>BMY_Close: Weight=0.000<br>TSLA_Close: Weight=0.378<br>SNAP_Close: Weight=0.107<br>UBER_Close: Weight=0.000<br>SPOT_Close: Weight=0.140<br>RDY_Close: Weight=0.375<br>MS_Close: Weight=0.000",
          "Return: 122.625%<br>Volatility: 0.485<br>Sharpe Ratio: 2.527<br>COST_Close: Weight=0.000<br>BMY_Close: Weight=0.000<br>TSLA_Close: Weight=0.378<br>SNAP_Close: Weight=0.107<br>UBER_Close: Weight=0.000<br>SPOT_Close: Weight=0.140<br>RDY_Close: Weight=0.375<br>CRM_Close: Weight=0.000",
          "Return: 122.649%<br>Volatility: 0.485<br>Sharpe Ratio: 2.527<br>COST_Close: Weight=0.000<br>BMY_Close: Weight=0.000<br>TSLA_Close: Weight=0.378<br>SNAP_Close: Weight=0.107<br>UBER_Close: Weight=0.000<br>SPOT_Close: Weight=0.140<br>RDY_Close: Weight=0.375<br>RMD_Close: Weight=0.000",
          "Return: 122.609%<br>Volatility: 0.485<br>Sharpe Ratio: 2.527<br>COST_Close: Weight=0.000<br>BMY_Close: Weight=0.000<br>TSLA_Close: Weight=0.378<br>SNAP_Close: Weight=0.107<br>UBER_Close: Weight=0.000<br>SPOT_Close: Weight=0.140<br>RDY_Close: Weight=0.375<br>META_Close: Weight=0.000",
          "Return: 122.614%<br>Volatility: 0.485<br>Sharpe Ratio: 2.527<br>COST_Close: Weight=0.000<br>BMY_Close: Weight=0.000<br>TSLA_Close: Weight=0.378<br>SNAP_Close: Weight=0.107<br>UBER_Close: Weight=0.000<br>SPOT_Close: Weight=0.140<br>RDY_Close: Weight=0.375<br>TXN_Close: Weight=0.000",
          "Return: 122.624%<br>Volatility: 0.485<br>Sharpe Ratio: 2.527<br>COST_Close: Weight=0.000<br>BMY_Close: Weight=0.000<br>TSLA_Close: Weight=0.378<br>SNAP_Close: Weight=0.107<br>UBER_Close: Weight=0.000<br>SPOT_Close: Weight=0.140<br>RDY_Close: Weight=0.375<br>ETN_Close: Weight=0.000",
          "Return: 122.649%<br>Volatility: 0.485<br>Sharpe Ratio: 2.527<br>COST_Close: Weight=0.000<br>BMY_Close: Weight=0.000<br>TSLA_Close: Weight=0.378<br>SNAP_Close: Weight=0.107<br>UBER_Close: Weight=0.000<br>SPOT_Close: Weight=0.140<br>RDY_Close: Weight=0.375<br>NEE_Close: Weight=0.000",
          "Return: 122.649%<br>Volatility: 0.485<br>Sharpe Ratio: 2.527<br>COST_Close: Weight=0.000<br>BMY_Close: Weight=0.000<br>TSLA_Close: Weight=0.378<br>SNAP_Close: Weight=0.107<br>UBER_Close: Weight=0.000<br>SPOT_Close: Weight=0.140<br>RDY_Close: Weight=0.375<br>GOOG_Close: Weight=0.000",
          "Return: 122.649%<br>Volatility: 0.485<br>Sharpe Ratio: 2.527<br>COST_Close: Weight=0.000<br>BMY_Close: Weight=0.000<br>TSLA_Close: Weight=0.378<br>SNAP_Close: Weight=0.107<br>UBER_Close: Weight=0.000<br>SPOT_Close: Weight=0.140<br>RDY_Close: Weight=0.375<br>GOOGL_Close: Weight=0.000",
          "Return: 120.637%<br>Volatility: 0.477<br>Sharpe Ratio: 2.528<br>COST_Close: Weight=0.000<br>BMY_Close: Weight=0.000<br>TSLA_Close: Weight=0.372<br>SNAP_Close: Weight=0.104<br>UBER_Close: Weight=0.000<br>SPOT_Close: Weight=0.136<br>RDY_Close: Weight=0.361<br>LLY_Close: Weight=0.026",
          "Return: 122.635%<br>Volatility: 0.485<br>Sharpe Ratio: 2.527<br>COST_Close: Weight=0.000<br>BMY_Close: Weight=0.000<br>TSLA_Close: Weight=0.378<br>SNAP_Close: Weight=0.107<br>UBER_Close: Weight=0.000<br>SPOT_Close: Weight=0.140<br>RDY_Close: Weight=0.375<br>LYFT_Close: Weight=0.000",
          "Return: 122.598%<br>Volatility: 0.485<br>Sharpe Ratio: 2.527<br>COST_Close: Weight=0.000<br>BMY_Close: Weight=0.000<br>TSLA_Close: Weight=0.378<br>SNAP_Close: Weight=0.107<br>UBER_Close: Weight=0.000<br>SPOT_Close: Weight=0.140<br>RDY_Close: Weight=0.375<br>ACN_Close: Weight=0.000",
          "Return: 122.594%<br>Volatility: 0.485<br>Sharpe Ratio: 2.527<br>COST_Close: Weight=0.000<br>BMY_Close: Weight=0.000<br>TSLA_Close: Weight=0.378<br>SNAP_Close: Weight=0.107<br>UBER_Close: Weight=0.000<br>SPOT_Close: Weight=0.140<br>RDY_Close: Weight=0.375<br>HD_Close: Weight=0.000",
          "Return: 122.648%<br>Volatility: 0.485<br>Sharpe Ratio: 2.527<br>COST_Close: Weight=0.000<br>BMY_Close: Weight=0.000<br>TSLA_Close: Weight=0.378<br>SNAP_Close: Weight=0.107<br>UBER_Close: Weight=0.000<br>SPOT_Close: Weight=0.140<br>RDY_Close: Weight=0.375<br>ABT_Close: Weight=0.000",
          "Return: 122.606%<br>Volatility: 0.485<br>Sharpe Ratio: 2.527<br>COST_Close: Weight=0.000<br>BMY_Close: Weight=0.000<br>TSLA_Close: Weight=0.378<br>SNAP_Close: Weight=0.107<br>UBER_Close: Weight=0.000<br>SPOT_Close: Weight=0.139<br>RDY_Close: Weight=0.375<br>REGN_Close: Weight=0.000",
          "Return: 122.619%<br>Volatility: 0.485<br>Sharpe Ratio: 2.527<br>COST_Close: Weight=0.000<br>BMY_Close: Weight=0.000<br>TSLA_Close: Weight=0.378<br>SNAP_Close: Weight=0.107<br>UBER_Close: Weight=0.000<br>SPOT_Close: Weight=0.140<br>RDY_Close: Weight=0.375<br>DIS_Close: Weight=0.000",
          "Return: 122.614%<br>Volatility: 0.485<br>Sharpe Ratio: 2.527<br>COST_Close: Weight=0.000<br>BMY_Close: Weight=0.000<br>TSLA_Close: Weight=0.378<br>SNAP_Close: Weight=0.107<br>UBER_Close: Weight=0.000<br>SPOT_Close: Weight=0.140<br>RDY_Close: Weight=0.375<br>CAT_Close: Weight=0.000",
          "Return: 122.612%<br>Volatility: 0.485<br>Sharpe Ratio: 2.527<br>COST_Close: Weight=0.000<br>BMY_Close: Weight=0.000<br>TSLA_Close: Weight=0.378<br>SNAP_Close: Weight=0.107<br>UBER_Close: Weight=0.000<br>SPOT_Close: Weight=0.140<br>RDY_Close: Weight=0.375<br>UNH_Close: Weight=0.000",
          "Return: 122.650%<br>Volatility: 0.485<br>Sharpe Ratio: 2.527<br>COST_Close: Weight=0.000<br>BMY_Close: Weight=0.000<br>TSLA_Close: Weight=0.378<br>SNAP_Close: Weight=0.107<br>UBER_Close: Weight=0.000<br>SPOT_Close: Weight=0.140<br>RDY_Close: Weight=0.375<br>ABBV_Close: Weight=0.000",
          "Return: 122.606%<br>Volatility: 0.485<br>Sharpe Ratio: 2.527<br>COST_Close: Weight=0.000<br>BMY_Close: Weight=0.000<br>TSLA_Close: Weight=0.378<br>SNAP_Close: Weight=0.107<br>UBER_Close: Weight=0.000<br>SPOT_Close: Weight=0.140<br>RDY_Close: Weight=0.375<br>ORCL_Close: Weight=0.000",
          "Return: 122.616%<br>Volatility: 0.485<br>Sharpe Ratio: 2.527<br>COST_Close: Weight=0.000<br>BMY_Close: Weight=0.000<br>TSLA_Close: Weight=0.378<br>SNAP_Close: Weight=0.107<br>UBER_Close: Weight=0.000<br>SPOT_Close: Weight=0.140<br>RDY_Close: Weight=0.375<br>MA_Close: Weight=0.000",
          "Return: 122.615%<br>Volatility: 0.485<br>Sharpe Ratio: 2.527<br>COST_Close: Weight=0.000<br>BMY_Close: Weight=0.000<br>TSLA_Close: Weight=0.378<br>SNAP_Close: Weight=0.107<br>UBER_Close: Weight=0.000<br>SPOT_Close: Weight=0.140<br>RDY_Close: Weight=0.375<br>HON_Close: Weight=0.000",
          "Return: 122.287%<br>Volatility: 0.484<br>Sharpe Ratio: 2.527<br>COST_Close: Weight=0.000<br>BMY_Close: Weight=0.000<br>TSLA_Close: Weight=0.377<br>SNAP_Close: Weight=0.107<br>UBER_Close: Weight=0.000<br>SPOT_Close: Weight=0.139<br>RDY_Close: Weight=0.373<br>WMT_Close: Weight=0.004",
          "Return: 122.620%<br>Volatility: 0.485<br>Sharpe Ratio: 2.527<br>COST_Close: Weight=0.000<br>BMY_Close: Weight=0.000<br>TSLA_Close: Weight=0.378<br>SNAP_Close: Weight=0.107<br>UBER_Close: Weight=0.000<br>SPOT_Close: Weight=0.140<br>RDY_Close: Weight=0.375<br>SYK_Close: Weight=0.000",
          "Return: 122.610%<br>Volatility: 0.485<br>Sharpe Ratio: 2.527<br>COST_Close: Weight=0.000<br>BMY_Close: Weight=0.000<br>TSLA_Close: Weight=0.378<br>SNAP_Close: Weight=0.107<br>UBER_Close: Weight=0.000<br>SPOT_Close: Weight=0.140<br>RDY_Close: Weight=0.375<br>GM_Close: Weight=0.000",
          "Return: 122.625%<br>Volatility: 0.485<br>Sharpe Ratio: 2.527<br>COST_Close: Weight=0.000<br>BMY_Close: Weight=0.000<br>TSLA_Close: Weight=0.378<br>SNAP_Close: Weight=0.107<br>UBER_Close: Weight=0.000<br>SPOT_Close: Weight=0.140<br>RDY_Close: Weight=0.375<br>V_Close: Weight=0.000",
          "Return: 122.619%<br>Volatility: 0.485<br>Sharpe Ratio: 2.527<br>COST_Close: Weight=0.000<br>BMY_Close: Weight=0.000<br>TSLA_Close: Weight=0.378<br>SNAP_Close: Weight=0.107<br>UBER_Close: Weight=0.000<br>SPOT_Close: Weight=0.140<br>RDY_Close: Weight=0.375<br>GS_Close: Weight=0.000",
          "Return: 122.621%<br>Volatility: 0.485<br>Sharpe Ratio: 2.527<br>COST_Close: Weight=0.000<br>BMY_Close: Weight=0.000<br>TSLA_Close: Weight=0.378<br>SNAP_Close: Weight=0.107<br>UBER_Close: Weight=0.000<br>SPOT_Close: Weight=0.140<br>RDY_Close: Weight=0.375<br>EW_Close: Weight=0.000",
          "Return: 122.598%<br>Volatility: 0.485<br>Sharpe Ratio: 2.527<br>COST_Close: Weight=0.000<br>BMY_Close: Weight=0.000<br>TSLA_Close: Weight=0.378<br>SNAP_Close: Weight=0.107<br>UBER_Close: Weight=0.000<br>SPOT_Close: Weight=0.140<br>RDY_Close: Weight=0.375<br>CMCSA_Close: Weight=0.000",
          "Return: 122.649%<br>Volatility: 0.485<br>Sharpe Ratio: 2.527<br>COST_Close: Weight=0.000<br>BMY_Close: Weight=0.000<br>TSLA_Close: Weight=0.378<br>SNAP_Close: Weight=0.107<br>UBER_Close: Weight=0.000<br>SPOT_Close: Weight=0.140<br>RDY_Close: Weight=0.375<br>PG_Close: Weight=0.000",
          "Return: 122.652%<br>Volatility: 0.485<br>Sharpe Ratio: 2.527<br>COST_Close: Weight=0.000<br>BMY_Close: Weight=0.000<br>TSLA_Close: Weight=0.378<br>SNAP_Close: Weight=0.107<br>UBER_Close: Weight=0.000<br>SPOT_Close: Weight=0.140<br>RDY_Close: Weight=0.375<br>GIS_Close: Weight=0.000",
          "Return: 122.598%<br>Volatility: 0.485<br>Sharpe Ratio: 2.527<br>COST_Close: Weight=0.000<br>BMY_Close: Weight=0.000<br>TSLA_Close: Weight=0.378<br>SNAP_Close: Weight=0.107<br>UBER_Close: Weight=0.000<br>SPOT_Close: Weight=0.140<br>RDY_Close: Weight=0.375<br>PEP_Close: Weight=0.000",
          "Return: 122.609%<br>Volatility: 0.485<br>Sharpe Ratio: 2.527<br>COST_Close: Weight=0.000<br>BMY_Close: Weight=0.000<br>TSLA_Close: Weight=0.378<br>SNAP_Close: Weight=0.107<br>UBER_Close: Weight=0.000<br>SPOT_Close: Weight=0.140<br>RDY_Close: Weight=0.375<br>EMR_Close: Weight=0.000",
          "Return: 122.610%<br>Volatility: 0.485<br>Sharpe Ratio: 2.527<br>COST_Close: Weight=0.000<br>BMY_Close: Weight=0.000<br>TSLA_Close: Weight=0.378<br>SNAP_Close: Weight=0.107<br>UBER_Close: Weight=0.000<br>SPOT_Close: Weight=0.140<br>RDY_Close: Weight=0.375<br>MCD_Close: Weight=0.000",
          "Return: 122.601%<br>Volatility: 0.485<br>Sharpe Ratio: 2.527<br>COST_Close: Weight=0.000<br>BMY_Close: Weight=0.000<br>TSLA_Close: Weight=0.378<br>SNAP_Close: Weight=0.107<br>UBER_Close: Weight=0.000<br>SPOT_Close: Weight=0.140<br>RDY_Close: Weight=0.375<br>BABA_Close: Weight=0.000",
          "Return: 122.589%<br>Volatility: 0.485<br>Sharpe Ratio: 2.527<br>COST_Close: Weight=0.000<br>BMY_Close: Weight=0.000<br>TSLA_Close: Weight=0.378<br>SNAP_Close: Weight=0.107<br>UBER_Close: Weight=0.000<br>SPOT_Close: Weight=0.139<br>RDY_Close: Weight=0.375<br>JNJ_Close: Weight=0.000",
          "Return: 122.614%<br>Volatility: 0.485<br>Sharpe Ratio: 2.527<br>COST_Close: Weight=0.000<br>BMY_Close: Weight=0.000<br>TSLA_Close: Weight=0.378<br>SNAP_Close: Weight=0.107<br>UBER_Close: Weight=0.000<br>SPOT_Close: Weight=0.140<br>RDY_Close: Weight=0.375<br>VRTX_Close: Weight=0.000",
          "Return: 116.026%<br>Volatility: 0.459<br>Sharpe Ratio: 2.529<br>COST_Close: Weight=0.000<br>BMY_Close: Weight=0.000<br>TSLA_Close: Weight=0.357<br>SNAP_Close: Weight=0.103<br>UBER_Close: Weight=0.000<br>SPOT_Close: Weight=0.128<br>RDY_Close: Weight=0.348<br>KR_Close: Weight=0.065",
          "Return: 116.128%<br>Volatility: 0.459<br>Sharpe Ratio: 2.529<br>COST_Close: Weight=0.000<br>BMY_Close: Weight=0.000<br>TSLA_Close: Weight=0.357<br>SNAP_Close: Weight=0.103<br>SPOT_Close: Weight=0.128<br>RDY_Close: Weight=0.348<br>KR_Close: Weight=0.064<br>NVDA_Close: Weight=0.000",
          "Return: 116.045%<br>Volatility: 0.459<br>Sharpe Ratio: 2.529<br>COST_Close: Weight=0.000<br>BMY_Close: Weight=0.000<br>TSLA_Close: Weight=0.357<br>SNAP_Close: Weight=0.103<br>SPOT_Close: Weight=0.127<br>RDY_Close: Weight=0.348<br>KR_Close: Weight=0.065<br>PYPL_Close: Weight=0.000",
          "Return: 116.128%<br>Volatility: 0.459<br>Sharpe Ratio: 2.529<br>COST_Close: Weight=0.000<br>BMY_Close: Weight=0.000<br>TSLA_Close: Weight=0.357<br>SNAP_Close: Weight=0.103<br>SPOT_Close: Weight=0.128<br>RDY_Close: Weight=0.348<br>KR_Close: Weight=0.064<br>NVDA_Close: Weight=0.000",
          "Return: 116.045%<br>Volatility: 0.459<br>Sharpe Ratio: 2.529<br>COST_Close: Weight=0.000<br>BMY_Close: Weight=0.000<br>TSLA_Close: Weight=0.357<br>SNAP_Close: Weight=0.103<br>SPOT_Close: Weight=0.127<br>RDY_Close: Weight=0.348<br>KR_Close: Weight=0.065<br>PYPL_Close: Weight=0.000",
          "Return: 116.062%<br>Volatility: 0.459<br>Sharpe Ratio: 2.529<br>COST_Close: Weight=0.000<br>BMY_Close: Weight=0.000<br>TSLA_Close: Weight=0.357<br>SNAP_Close: Weight=0.103<br>SPOT_Close: Weight=0.128<br>RDY_Close: Weight=0.348<br>KR_Close: Weight=0.064<br>AMD_Close: Weight=0.000",
          "Return: 116.117%<br>Volatility: 0.459<br>Sharpe Ratio: 2.529<br>COST_Close: Weight=0.000<br>BMY_Close: Weight=0.000<br>TSLA_Close: Weight=0.357<br>SNAP_Close: Weight=0.103<br>SPOT_Close: Weight=0.128<br>RDY_Close: Weight=0.348<br>KR_Close: Weight=0.064<br>AAPL_Close: Weight=0.000",
          "Return: 116.115%<br>Volatility: 0.459<br>Sharpe Ratio: 2.529<br>COST_Close: Weight=0.000<br>BMY_Close: Weight=0.000<br>TSLA_Close: Weight=0.357<br>SNAP_Close: Weight=0.103<br>SPOT_Close: Weight=0.127<br>RDY_Close: Weight=0.348<br>KR_Close: Weight=0.064<br>QCOM_Close: Weight=0.000",
          "Return: 115.475%<br>Volatility: 0.456<br>Sharpe Ratio: 2.530<br>COST_Close: Weight=0.000<br>BMY_Close: Weight=0.000<br>TSLA_Close: Weight=0.353<br>SNAP_Close: Weight=0.101<br>SPOT_Close: Weight=0.124<br>RDY_Close: Weight=0.343<br>KR_Close: Weight=0.060<br>AMZN_Close: Weight=0.019",
          "Return: 116.128%<br>Volatility: 0.459<br>Sharpe Ratio: 2.529<br>COST_Close: Weight=0.000<br>BMY_Close: Weight=0.000<br>TSLA_Close: Weight=0.357<br>SNAP_Close: Weight=0.103<br>SPOT_Close: Weight=0.128<br>RDY_Close: Weight=0.348<br>KR_Close: Weight=0.064<br>NVDA_Close: Weight=0.000",
          "Return: 116.045%<br>Volatility: 0.459<br>Sharpe Ratio: 2.529<br>COST_Close: Weight=0.000<br>BMY_Close: Weight=0.000<br>TSLA_Close: Weight=0.357<br>SNAP_Close: Weight=0.103<br>SPOT_Close: Weight=0.127<br>RDY_Close: Weight=0.348<br>KR_Close: Weight=0.065<br>PYPL_Close: Weight=0.000",
          "Return: 116.062%<br>Volatility: 0.459<br>Sharpe Ratio: 2.529<br>COST_Close: Weight=0.000<br>BMY_Close: Weight=0.000<br>TSLA_Close: Weight=0.357<br>SNAP_Close: Weight=0.103<br>SPOT_Close: Weight=0.128<br>RDY_Close: Weight=0.348<br>KR_Close: Weight=0.064<br>AMD_Close: Weight=0.000",
          "Return: 116.117%<br>Volatility: 0.459<br>Sharpe Ratio: 2.529<br>COST_Close: Weight=0.000<br>BMY_Close: Weight=0.000<br>TSLA_Close: Weight=0.357<br>SNAP_Close: Weight=0.103<br>SPOT_Close: Weight=0.128<br>RDY_Close: Weight=0.348<br>KR_Close: Weight=0.064<br>AAPL_Close: Weight=0.000",
          "Return: 116.115%<br>Volatility: 0.459<br>Sharpe Ratio: 2.529<br>COST_Close: Weight=0.000<br>BMY_Close: Weight=0.000<br>TSLA_Close: Weight=0.357<br>SNAP_Close: Weight=0.103<br>SPOT_Close: Weight=0.127<br>RDY_Close: Weight=0.348<br>KR_Close: Weight=0.064<br>QCOM_Close: Weight=0.000",
          "Return: 115.475%<br>Volatility: 0.456<br>Sharpe Ratio: 2.530<br>COST_Close: Weight=0.000<br>BMY_Close: Weight=0.000<br>TSLA_Close: Weight=0.353<br>SNAP_Close: Weight=0.101<br>SPOT_Close: Weight=0.124<br>RDY_Close: Weight=0.343<br>KR_Close: Weight=0.060<br>AMZN_Close: Weight=0.019",
          "Return: 116.026%<br>Volatility: 0.459<br>Sharpe Ratio: 2.529<br>COST_Close: Weight=0.000<br>BMY_Close: Weight=0.000<br>TSLA_Close: Weight=0.357<br>SNAP_Close: Weight=0.103<br>SPOT_Close: Weight=0.128<br>RDY_Close: Weight=0.348<br>KR_Close: Weight=0.065<br>UBER_Close: Weight=0.000",
          "Return: 116.127%<br>Volatility: 0.459<br>Sharpe Ratio: 2.529<br>COST_Close: Weight=0.000<br>BMY_Close: Weight=0.000<br>TSLA_Close: Weight=0.357<br>SNAP_Close: Weight=0.103<br>SPOT_Close: Weight=0.127<br>RDY_Close: Weight=0.348<br>KR_Close: Weight=0.064<br>NFLX_Close: Weight=0.000",
          "Return: 116.130%<br>Volatility: 0.459<br>Sharpe Ratio: 2.529<br>COST_Close: Weight=0.000<br>BMY_Close: Weight=0.000<br>TSLA_Close: Weight=0.357<br>SNAP_Close: Weight=0.103<br>SPOT_Close: Weight=0.128<br>RDY_Close: Weight=0.348<br>KR_Close: Weight=0.064<br>ADBE_Close: Weight=0.000",
          "Return: 116.136%<br>Volatility: 0.459<br>Sharpe Ratio: 2.529<br>COST_Close: Weight=0.000<br>BMY_Close: Weight=0.000<br>TSLA_Close: Weight=0.357<br>SNAP_Close: Weight=0.103<br>SPOT_Close: Weight=0.127<br>RDY_Close: Weight=0.348<br>KR_Close: Weight=0.064<br>DE_Close: Weight=0.000",
          "Return: 116.065%<br>Volatility: 0.459<br>Sharpe Ratio: 2.529<br>COST_Close: Weight=0.000<br>BMY_Close: Weight=0.000<br>TSLA_Close: Weight=0.357<br>SNAP_Close: Weight=0.103<br>SPOT_Close: Weight=0.128<br>RDY_Close: Weight=0.348<br>KR_Close: Weight=0.064<br>MSFT_Close: Weight=0.000",
          "Return: 116.038%<br>Volatility: 0.459<br>Sharpe Ratio: 2.529<br>COST_Close: Weight=0.000<br>BMY_Close: Weight=0.000<br>TSLA_Close: Weight=0.357<br>SNAP_Close: Weight=0.103<br>SPOT_Close: Weight=0.127<br>RDY_Close: Weight=0.348<br>KR_Close: Weight=0.065<br>DHR_Close: Weight=0.000",
          "Return: 116.034%<br>Volatility: 0.459<br>Sharpe Ratio: 2.529<br>COST_Close: Weight=0.000<br>BMY_Close: Weight=0.000<br>TSLA_Close: Weight=0.357<br>SNAP_Close: Weight=0.103<br>SPOT_Close: Weight=0.127<br>RDY_Close: Weight=0.348<br>KR_Close: Weight=0.065<br>TMO_Close: Weight=0.000",
          "Return: 116.031%<br>Volatility: 0.459<br>Sharpe Ratio: 2.529<br>COST_Close: Weight=0.000<br>BMY_Close: Weight=0.000<br>TSLA_Close: Weight=0.357<br>SNAP_Close: Weight=0.103<br>SPOT_Close: Weight=0.128<br>RDY_Close: Weight=0.348<br>KR_Close: Weight=0.065<br>NKE_Close: Weight=0.000",
          "Return: 116.092%<br>Volatility: 0.459<br>Sharpe Ratio: 2.529<br>COST_Close: Weight=0.000<br>BMY_Close: Weight=0.000<br>TSLA_Close: Weight=0.357<br>SNAP_Close: Weight=0.103<br>SPOT_Close: Weight=0.128<br>RDY_Close: Weight=0.348<br>KR_Close: Weight=0.064<br>ISRG_Close: Weight=0.000",
          "Return: 116.066%<br>Volatility: 0.459<br>Sharpe Ratio: 2.529<br>COST_Close: Weight=0.000<br>BMY_Close: Weight=0.000<br>TSLA_Close: Weight=0.357<br>SNAP_Close: Weight=0.103<br>SPOT_Close: Weight=0.128<br>RDY_Close: Weight=0.348<br>KR_Close: Weight=0.064<br>MS_Close: Weight=0.000",
          "Return: 116.064%<br>Volatility: 0.459<br>Sharpe Ratio: 2.529<br>COST_Close: Weight=0.000<br>BMY_Close: Weight=0.000<br>TSLA_Close: Weight=0.357<br>SNAP_Close: Weight=0.103<br>SPOT_Close: Weight=0.128<br>RDY_Close: Weight=0.348<br>KR_Close: Weight=0.064<br>CRM_Close: Weight=0.000",
          "Return: 116.074%<br>Volatility: 0.459<br>Sharpe Ratio: 2.529<br>COST_Close: Weight=0.000<br>BMY_Close: Weight=0.000<br>TSLA_Close: Weight=0.357<br>SNAP_Close: Weight=0.103<br>SPOT_Close: Weight=0.128<br>RDY_Close: Weight=0.348<br>KR_Close: Weight=0.064<br>RMD_Close: Weight=0.000",
          "Return: 116.061%<br>Volatility: 0.459<br>Sharpe Ratio: 2.529<br>COST_Close: Weight=0.000<br>BMY_Close: Weight=0.000<br>TSLA_Close: Weight=0.357<br>SNAP_Close: Weight=0.103<br>SPOT_Close: Weight=0.127<br>RDY_Close: Weight=0.348<br>KR_Close: Weight=0.064<br>TXN_Close: Weight=0.000",
          "Return: 116.108%<br>Volatility: 0.459<br>Sharpe Ratio: 2.529<br>COST_Close: Weight=0.000<br>BMY_Close: Weight=0.000<br>TSLA_Close: Weight=0.357<br>SNAP_Close: Weight=0.103<br>SPOT_Close: Weight=0.128<br>RDY_Close: Weight=0.348<br>KR_Close: Weight=0.064<br>META_Close: Weight=0.000",
          "Return: 116.128%<br>Volatility: 0.459<br>Sharpe Ratio: 2.529<br>COST_Close: Weight=0.000<br>BMY_Close: Weight=0.000<br>TSLA_Close: Weight=0.357<br>SNAP_Close: Weight=0.103<br>SPOT_Close: Weight=0.128<br>RDY_Close: Weight=0.348<br>KR_Close: Weight=0.064<br>NEE_Close: Weight=0.000",
          "Return: 116.029%<br>Volatility: 0.459<br>Sharpe Ratio: 2.529<br>COST_Close: Weight=0.000<br>BMY_Close: Weight=0.000<br>TSLA_Close: Weight=0.357<br>SNAP_Close: Weight=0.103<br>SPOT_Close: Weight=0.128<br>RDY_Close: Weight=0.348<br>KR_Close: Weight=0.065<br>GOOG_Close: Weight=0.000",
          "Return: 116.029%<br>Volatility: 0.459<br>Sharpe Ratio: 2.529<br>COST_Close: Weight=0.000<br>BMY_Close: Weight=0.000<br>TSLA_Close: Weight=0.357<br>SNAP_Close: Weight=0.103<br>SPOT_Close: Weight=0.128<br>RDY_Close: Weight=0.348<br>KR_Close: Weight=0.065<br>GOOGL_Close: Weight=0.000",
          "Return: 116.066%<br>Volatility: 0.459<br>Sharpe Ratio: 2.529<br>COST_Close: Weight=0.000<br>BMY_Close: Weight=0.000<br>TSLA_Close: Weight=0.357<br>SNAP_Close: Weight=0.103<br>SPOT_Close: Weight=0.128<br>RDY_Close: Weight=0.348<br>KR_Close: Weight=0.064<br>ETN_Close: Weight=0.000",
          "Return: 116.074%<br>Volatility: 0.459<br>Sharpe Ratio: 2.529<br>COST_Close: Weight=0.000<br>BMY_Close: Weight=0.000<br>TSLA_Close: Weight=0.357<br>SNAP_Close: Weight=0.103<br>SPOT_Close: Weight=0.128<br>RDY_Close: Weight=0.348<br>KR_Close: Weight=0.064<br>ABT_Close: Weight=0.000",
          "Return: 116.118%<br>Volatility: 0.459<br>Sharpe Ratio: 2.529<br>COST_Close: Weight=0.000<br>BMY_Close: Weight=0.000<br>TSLA_Close: Weight=0.357<br>SNAP_Close: Weight=0.103<br>SPOT_Close: Weight=0.128<br>RDY_Close: Weight=0.348<br>KR_Close: Weight=0.064<br>ACN_Close: Weight=0.000",
          "Return: 116.068%<br>Volatility: 0.459<br>Sharpe Ratio: 2.529<br>COST_Close: Weight=0.000<br>BMY_Close: Weight=0.000<br>TSLA_Close: Weight=0.357<br>SNAP_Close: Weight=0.103<br>SPOT_Close: Weight=0.128<br>RDY_Close: Weight=0.348<br>KR_Close: Weight=0.064<br>HD_Close: Weight=0.000",
          "Return: 115.637%<br>Volatility: 0.457<br>Sharpe Ratio: 2.530<br>COST_Close: Weight=0.000<br>BMY_Close: Weight=0.000<br>TSLA_Close: Weight=0.356<br>SNAP_Close: Weight=0.102<br>SPOT_Close: Weight=0.127<br>RDY_Close: Weight=0.344<br>KR_Close: Weight=0.060<br>LLY_Close: Weight=0.011",
          "Return: 116.025%<br>Volatility: 0.459<br>Sharpe Ratio: 2.529<br>COST_Close: Weight=0.000<br>BMY_Close: Weight=0.000<br>TSLA_Close: Weight=0.357<br>SNAP_Close: Weight=0.103<br>SPOT_Close: Weight=0.127<br>RDY_Close: Weight=0.348<br>KR_Close: Weight=0.065<br>REGN_Close: Weight=0.000",
          "Return: 116.092%<br>Volatility: 0.459<br>Sharpe Ratio: 2.529<br>COST_Close: Weight=0.000<br>BMY_Close: Weight=0.000<br>TSLA_Close: Weight=0.357<br>SNAP_Close: Weight=0.103<br>SPOT_Close: Weight=0.127<br>RDY_Close: Weight=0.348<br>KR_Close: Weight=0.064<br>ABBV_Close: Weight=0.000",
          "Return: 116.040%<br>Volatility: 0.459<br>Sharpe Ratio: 2.529<br>COST_Close: Weight=0.000<br>BMY_Close: Weight=0.000<br>TSLA_Close: Weight=0.357<br>SNAP_Close: Weight=0.103<br>SPOT_Close: Weight=0.127<br>RDY_Close: Weight=0.349<br>KR_Close: Weight=0.064<br>UNH_Close: Weight=0.000",
          "Return: 116.092%<br>Volatility: 0.459<br>Sharpe Ratio: 2.529<br>COST_Close: Weight=0.000<br>BMY_Close: Weight=0.000<br>TSLA_Close: Weight=0.357<br>SNAP_Close: Weight=0.103<br>SPOT_Close: Weight=0.128<br>RDY_Close: Weight=0.348<br>KR_Close: Weight=0.064<br>ORCL_Close: Weight=0.000",
          "Return: 116.072%<br>Volatility: 0.459<br>Sharpe Ratio: 2.529<br>COST_Close: Weight=0.000<br>BMY_Close: Weight=0.000<br>TSLA_Close: Weight=0.357<br>SNAP_Close: Weight=0.103<br>SPOT_Close: Weight=0.128<br>RDY_Close: Weight=0.348<br>KR_Close: Weight=0.064<br>CAT_Close: Weight=0.000",
          "Return: 116.029%<br>Volatility: 0.459<br>Sharpe Ratio: 2.529<br>COST_Close: Weight=0.000<br>BMY_Close: Weight=0.000<br>TSLA_Close: Weight=0.357<br>SNAP_Close: Weight=0.103<br>SPOT_Close: Weight=0.127<br>RDY_Close: Weight=0.348<br>KR_Close: Weight=0.065<br>WMT_Close: Weight=0.000",
          "Return: 116.059%<br>Volatility: 0.459<br>Sharpe Ratio: 2.529<br>COST_Close: Weight=0.000<br>BMY_Close: Weight=0.000<br>TSLA_Close: Weight=0.357<br>SNAP_Close: Weight=0.103<br>SPOT_Close: Weight=0.127<br>RDY_Close: Weight=0.348<br>KR_Close: Weight=0.064<br>DIS_Close: Weight=0.000",
          "Return: 116.065%<br>Volatility: 0.459<br>Sharpe Ratio: 2.529<br>COST_Close: Weight=0.000<br>BMY_Close: Weight=0.000<br>TSLA_Close: Weight=0.357<br>SNAP_Close: Weight=0.103<br>SPOT_Close: Weight=0.128<br>RDY_Close: Weight=0.348<br>KR_Close: Weight=0.064<br>MA_Close: Weight=0.000",
          "Return: 116.069%<br>Volatility: 0.459<br>Sharpe Ratio: 2.529<br>COST_Close: Weight=0.000<br>BMY_Close: Weight=0.000<br>TSLA_Close: Weight=0.357<br>SNAP_Close: Weight=0.103<br>SPOT_Close: Weight=0.128<br>RDY_Close: Weight=0.348<br>KR_Close: Weight=0.064<br>HON_Close: Weight=0.000",
          "Return: 116.060%<br>Volatility: 0.459<br>Sharpe Ratio: 2.529<br>COST_Close: Weight=0.000<br>BMY_Close: Weight=0.000<br>TSLA_Close: Weight=0.357<br>SNAP_Close: Weight=0.103<br>SPOT_Close: Weight=0.127<br>RDY_Close: Weight=0.348<br>KR_Close: Weight=0.064<br>V_Close: Weight=0.000",
          "Return: 116.060%<br>Volatility: 0.459<br>Sharpe Ratio: 2.529<br>COST_Close: Weight=0.000<br>BMY_Close: Weight=0.000<br>TSLA_Close: Weight=0.357<br>SNAP_Close: Weight=0.103<br>SPOT_Close: Weight=0.128<br>RDY_Close: Weight=0.348<br>KR_Close: Weight=0.064<br>LYFT_Close: Weight=0.000",
          "Return: 116.069%<br>Volatility: 0.459<br>Sharpe Ratio: 2.529<br>COST_Close: Weight=0.000<br>BMY_Close: Weight=0.000<br>TSLA_Close: Weight=0.357<br>SNAP_Close: Weight=0.103<br>SPOT_Close: Weight=0.128<br>RDY_Close: Weight=0.348<br>KR_Close: Weight=0.064<br>SYK_Close: Weight=0.000",
          "Return: 116.079%<br>Volatility: 0.459<br>Sharpe Ratio: 2.529<br>COST_Close: Weight=0.000<br>BMY_Close: Weight=0.000<br>TSLA_Close: Weight=0.357<br>SNAP_Close: Weight=0.103<br>SPOT_Close: Weight=0.128<br>RDY_Close: Weight=0.348<br>KR_Close: Weight=0.064<br>CMCSA_Close: Weight=0.000",
          "Return: 116.062%<br>Volatility: 0.459<br>Sharpe Ratio: 2.529<br>COST_Close: Weight=0.000<br>BMY_Close: Weight=0.000<br>TSLA_Close: Weight=0.357<br>SNAP_Close: Weight=0.103<br>SPOT_Close: Weight=0.128<br>RDY_Close: Weight=0.348<br>KR_Close: Weight=0.064<br>EW_Close: Weight=0.000",
          "Return: 116.066%<br>Volatility: 0.459<br>Sharpe Ratio: 2.529<br>COST_Close: Weight=0.000<br>BMY_Close: Weight=0.000<br>TSLA_Close: Weight=0.357<br>SNAP_Close: Weight=0.103<br>SPOT_Close: Weight=0.128<br>RDY_Close: Weight=0.348<br>KR_Close: Weight=0.064<br>GS_Close: Weight=0.000",
          "Return: 116.088%<br>Volatility: 0.459<br>Sharpe Ratio: 2.529<br>COST_Close: Weight=0.000<br>BMY_Close: Weight=0.000<br>TSLA_Close: Weight=0.357<br>SNAP_Close: Weight=0.103<br>SPOT_Close: Weight=0.128<br>RDY_Close: Weight=0.348<br>KR_Close: Weight=0.064<br>PG_Close: Weight=0.000",
          "Return: 116.066%<br>Volatility: 0.459<br>Sharpe Ratio: 2.529<br>COST_Close: Weight=0.000<br>BMY_Close: Weight=0.000<br>TSLA_Close: Weight=0.357<br>SNAP_Close: Weight=0.103<br>SPOT_Close: Weight=0.128<br>RDY_Close: Weight=0.348<br>KR_Close: Weight=0.064<br>GM_Close: Weight=0.000",
          "Return: 116.062%<br>Volatility: 0.459<br>Sharpe Ratio: 2.529<br>COST_Close: Weight=0.000<br>BMY_Close: Weight=0.000<br>TSLA_Close: Weight=0.357<br>SNAP_Close: Weight=0.103<br>SPOT_Close: Weight=0.127<br>RDY_Close: Weight=0.348<br>KR_Close: Weight=0.064<br>PEP_Close: Weight=0.000",
          "Return: 116.027%<br>Volatility: 0.459<br>Sharpe Ratio: 2.529<br>COST_Close: Weight=0.000<br>BMY_Close: Weight=0.000<br>TSLA_Close: Weight=0.357<br>SNAP_Close: Weight=0.103<br>SPOT_Close: Weight=0.127<br>RDY_Close: Weight=0.348<br>KR_Close: Weight=0.065<br>GIS_Close: Weight=0.000",
          "Return: 116.075%<br>Volatility: 0.459<br>Sharpe Ratio: 2.529<br>COST_Close: Weight=0.000<br>BMY_Close: Weight=0.000<br>TSLA_Close: Weight=0.357<br>SNAP_Close: Weight=0.103<br>SPOT_Close: Weight=0.128<br>RDY_Close: Weight=0.348<br>KR_Close: Weight=0.064<br>MCD_Close: Weight=0.000",
          "Return: 116.089%<br>Volatility: 0.459<br>Sharpe Ratio: 2.529<br>COST_Close: Weight=0.000<br>BMY_Close: Weight=0.000<br>TSLA_Close: Weight=0.357<br>SNAP_Close: Weight=0.103<br>SPOT_Close: Weight=0.128<br>RDY_Close: Weight=0.348<br>KR_Close: Weight=0.064<br>JNJ_Close: Weight=0.000",
          "Return: 116.045%<br>Volatility: 0.459<br>Sharpe Ratio: 2.529<br>COST_Close: Weight=0.000<br>BMY_Close: Weight=0.000<br>TSLA_Close: Weight=0.357<br>SNAP_Close: Weight=0.103<br>SPOT_Close: Weight=0.127<br>RDY_Close: Weight=0.348<br>KR_Close: Weight=0.064<br>VRTX_Close: Weight=0.000",
          "Return: 116.032%<br>Volatility: 0.459<br>Sharpe Ratio: 2.529<br>COST_Close: Weight=0.000<br>BMY_Close: Weight=0.000<br>TSLA_Close: Weight=0.357<br>SNAP_Close: Weight=0.103<br>SPOT_Close: Weight=0.128<br>RDY_Close: Weight=0.348<br>KR_Close: Weight=0.065<br>BABA_Close: Weight=0.000",
          "Return: 116.049%<br>Volatility: 0.459<br>Sharpe Ratio: 2.529<br>COST_Close: Weight=0.000<br>BMY_Close: Weight=0.000<br>TSLA_Close: Weight=0.357<br>SNAP_Close: Weight=0.103<br>SPOT_Close: Weight=0.127<br>RDY_Close: Weight=0.348<br>KR_Close: Weight=0.064<br>EMR_Close: Weight=0.000",
          "Return: 116.060%<br>Volatility: 0.459<br>Sharpe Ratio: 2.529<br>COST_Close: Weight=0.000<br>BMY_Close: Weight=0.000<br>TSLA_Close: Weight=0.357<br>SNAP_Close: Weight=0.103<br>SPOT_Close: Weight=0.127<br>RDY_Close: Weight=0.348<br>KR_Close: Weight=0.064<br>DUK_Close: Weight=0.000",
          "Return: 116.066%<br>Volatility: 0.459<br>Sharpe Ratio: 2.529<br>COST_Close: Weight=0.000<br>BMY_Close: Weight=0.000<br>TSLA_Close: Weight=0.357<br>SNAP_Close: Weight=0.103<br>SPOT_Close: Weight=0.128<br>RDY_Close: Weight=0.348<br>KR_Close: Weight=0.064<br>MDT_Close: Weight=0.000",
          "Return: 116.061%<br>Volatility: 0.459<br>Sharpe Ratio: 2.529<br>COST_Close: Weight=0.000<br>BMY_Close: Weight=0.000<br>TSLA_Close: Weight=0.357<br>SNAP_Close: Weight=0.103<br>SPOT_Close: Weight=0.128<br>RDY_Close: Weight=0.348<br>KR_Close: Weight=0.064<br>PM_Close: Weight=0.000",
          "Return: 116.063%<br>Volatility: 0.459<br>Sharpe Ratio: 2.529<br>COST_Close: Weight=0.000<br>BMY_Close: Weight=0.000<br>TSLA_Close: Weight=0.357<br>SNAP_Close: Weight=0.103<br>SPOT_Close: Weight=0.127<br>RDY_Close: Weight=0.348<br>KR_Close: Weight=0.064<br>PFE_Close: Weight=0.000",
          "Return: 116.067%<br>Volatility: 0.459<br>Sharpe Ratio: 2.529<br>COST_Close: Weight=0.000<br>BMY_Close: Weight=0.000<br>TSLA_Close: Weight=0.357<br>SNAP_Close: Weight=0.103<br>SPOT_Close: Weight=0.128<br>RDY_Close: Weight=0.348<br>KR_Close: Weight=0.064<br>KO_Close: Weight=0.000",
          "Return: 116.065%<br>Volatility: 0.459<br>Sharpe Ratio: 2.529<br>COST_Close: Weight=0.000<br>BMY_Close: Weight=0.000<br>TSLA_Close: Weight=0.357<br>SNAP_Close: Weight=0.103<br>SPOT_Close: Weight=0.128<br>RDY_Close: Weight=0.348<br>KR_Close: Weight=0.064<br>ZBH_Close: Weight=0.000",
          "Return: 116.061%<br>Volatility: 0.459<br>Sharpe Ratio: 2.529<br>COST_Close: Weight=0.000<br>BMY_Close: Weight=0.000<br>TSLA_Close: Weight=0.357<br>SNAP_Close: Weight=0.103<br>SPOT_Close: Weight=0.127<br>RDY_Close: Weight=0.348<br>KR_Close: Weight=0.064<br>SO_Close: Weight=0.000",
          "Return: 116.062%<br>Volatility: 0.459<br>Sharpe Ratio: 2.529<br>COST_Close: Weight=0.000<br>BMY_Close: Weight=0.000<br>TSLA_Close: Weight=0.357<br>SNAP_Close: Weight=0.103<br>SPOT_Close: Weight=0.127<br>RDY_Close: Weight=0.348<br>KR_Close: Weight=0.064<br>CPB_Close: Weight=0.000",
          "Return: 116.061%<br>Volatility: 0.459<br>Sharpe Ratio: 2.529<br>COST_Close: Weight=0.000<br>BMY_Close: Weight=0.000<br>TSLA_Close: Weight=0.357<br>SNAP_Close: Weight=0.103<br>SPOT_Close: Weight=0.127<br>RDY_Close: Weight=0.348<br>KR_Close: Weight=0.064<br>MMM_Close: Weight=0.000",
          "Return: 116.045%<br>Volatility: 0.459<br>Sharpe Ratio: 2.529<br>COST_Close: Weight=0.000<br>BMY_Close: Weight=0.000<br>TSLA_Close: Weight=0.357<br>SNAP_Close: Weight=0.103<br>SPOT_Close: Weight=0.127<br>RDY_Close: Weight=0.348<br>KR_Close: Weight=0.064<br>EXC_Close: Weight=0.000",
          "Return: 116.036%<br>Volatility: 0.459<br>Sharpe Ratio: 2.529<br>COST_Close: Weight=0.000<br>BMY_Close: Weight=0.000<br>TSLA_Close: Weight=0.357<br>SNAP_Close: Weight=0.103<br>SPOT_Close: Weight=0.128<br>RDY_Close: Weight=0.348<br>KR_Close: Weight=0.065<br>VZ_Close: Weight=0.000",
          "Return: 116.061%<br>Volatility: 0.459<br>Sharpe Ratio: 2.529<br>COST_Close: Weight=0.000<br>BMY_Close: Weight=0.000<br>TSLA_Close: Weight=0.357<br>SNAP_Close: Weight=0.103<br>SPOT_Close: Weight=0.128<br>RDY_Close: Weight=0.348<br>KR_Close: Weight=0.064<br>AMGN_Close: Weight=0.000",
          "Return: 116.037%<br>Volatility: 0.459<br>Sharpe Ratio: 2.529<br>COST_Close: Weight=0.000<br>BMY_Close: Weight=0.000<br>TSLA_Close: Weight=0.357<br>SNAP_Close: Weight=0.103<br>SPOT_Close: Weight=0.127<br>RDY_Close: Weight=0.348<br>KR_Close: Weight=0.064<br>IBM_Close: Weight=0.000",
          "Return: 116.064%<br>Volatility: 0.459<br>Sharpe Ratio: 2.529<br>COST_Close: Weight=0.000<br>BMY_Close: Weight=0.000<br>TSLA_Close: Weight=0.357<br>SNAP_Close: Weight=0.103<br>SPOT_Close: Weight=0.128<br>RDY_Close: Weight=0.348<br>KR_Close: Weight=0.064<br>SAP_Close: Weight=0.000",
          "Return: 116.059%<br>Volatility: 0.459<br>Sharpe Ratio: 2.529<br>COST_Close: Weight=0.000<br>BMY_Close: Weight=0.000<br>TSLA_Close: Weight=0.357<br>SNAP_Close: Weight=0.103<br>SPOT_Close: Weight=0.128<br>RDY_Close: Weight=0.348<br>KR_Close: Weight=0.064<br>CSCO_Close: Weight=0.000",
          "Return: 116.067%<br>Volatility: 0.459<br>Sharpe Ratio: 2.529<br>COST_Close: Weight=0.000<br>BMY_Close: Weight=0.000<br>TSLA_Close: Weight=0.357<br>SNAP_Close: Weight=0.103<br>SPOT_Close: Weight=0.128<br>RDY_Close: Weight=0.348<br>KR_Close: Weight=0.064<br>F_Close: Weight=0.000",
          "Return: 116.062%<br>Volatility: 0.459<br>Sharpe Ratio: 2.529<br>COST_Close: Weight=0.000<br>BMY_Close: Weight=0.000<br>TSLA_Close: Weight=0.357<br>SNAP_Close: Weight=0.103<br>SPOT_Close: Weight=0.128<br>RDY_Close: Weight=0.348<br>KR_Close: Weight=0.064<br>BTI_Close: Weight=0.000",
          "Return: 116.053%<br>Volatility: 0.459<br>Sharpe Ratio: 2.529<br>COST_Close: Weight=0.000<br>BMY_Close: Weight=0.000<br>TSLA_Close: Weight=0.357<br>SNAP_Close: Weight=0.103<br>SPOT_Close: Weight=0.128<br>RDY_Close: Weight=0.348<br>KR_Close: Weight=0.064<br>JPM_Close: Weight=0.000",
          "Return: 116.060%<br>Volatility: 0.459<br>Sharpe Ratio: 2.529<br>COST_Close: Weight=0.000<br>BMY_Close: Weight=0.000<br>TSLA_Close: Weight=0.357<br>SNAP_Close: Weight=0.103<br>SPOT_Close: Weight=0.127<br>RDY_Close: Weight=0.348<br>KR_Close: Weight=0.064<br>MRK_Close: Weight=0.000",
          "Return: 116.062%<br>Volatility: 0.459<br>Sharpe Ratio: 2.529<br>COST_Close: Weight=0.000<br>BMY_Close: Weight=0.000<br>TSLA_Close: Weight=0.357<br>SNAP_Close: Weight=0.103<br>SPOT_Close: Weight=0.128<br>RDY_Close: Weight=0.348<br>KR_Close: Weight=0.064<br>LMT_Close: Weight=0.000",
          "Return: 116.059%<br>Volatility: 0.459<br>Sharpe Ratio: 2.529<br>COST_Close: Weight=0.000<br>BMY_Close: Weight=0.000<br>TSLA_Close: Weight=0.357<br>SNAP_Close: Weight=0.103<br>SPOT_Close: Weight=0.127<br>RDY_Close: Weight=0.348<br>KR_Close: Weight=0.064<br>K_Close: Weight=0.000",
          "Return: 116.065%<br>Volatility: 0.459<br>Sharpe Ratio: 2.529<br>COST_Close: Weight=0.000<br>BMY_Close: Weight=0.000<br>TSLA_Close: Weight=0.357<br>SNAP_Close: Weight=0.103<br>SPOT_Close: Weight=0.128<br>RDY_Close: Weight=0.348<br>KR_Close: Weight=0.064<br>GE_Close: Weight=0.000",
          "Return: 116.072%<br>Volatility: 0.459<br>Sharpe Ratio: 2.529<br>COST_Close: Weight=0.000<br>BMY_Close: Weight=0.000<br>TSLA_Close: Weight=0.357<br>SNAP_Close: Weight=0.103<br>SPOT_Close: Weight=0.128<br>RDY_Close: Weight=0.348<br>KR_Close: Weight=0.064<br>SYY_Close: Weight=0.000",
          "Return: 116.064%<br>Volatility: 0.459<br>Sharpe Ratio: 2.529<br>COST_Close: Weight=0.000<br>BMY_Close: Weight=0.000<br>TSLA_Close: Weight=0.357<br>SNAP_Close: Weight=0.103<br>SPOT_Close: Weight=0.128<br>RDY_Close: Weight=0.348<br>KR_Close: Weight=0.064<br>MO_Close: Weight=0.000",
          "Return: 116.069%<br>Volatility: 0.459<br>Sharpe Ratio: 2.529<br>COST_Close: Weight=0.000<br>BMY_Close: Weight=0.000<br>TSLA_Close: Weight=0.357<br>SNAP_Close: Weight=0.103<br>SPOT_Close: Weight=0.127<br>RDY_Close: Weight=0.348<br>KR_Close: Weight=0.064<br>AEP_Close: Weight=0.000",
          "Return: 116.062%<br>Volatility: 0.459<br>Sharpe Ratio: 2.529<br>COST_Close: Weight=0.000<br>BMY_Close: Weight=0.000<br>TSLA_Close: Weight=0.357<br>SNAP_Close: Weight=0.103<br>SPOT_Close: Weight=0.128<br>RDY_Close: Weight=0.348<br>KR_Close: Weight=0.064<br>GILD_Close: Weight=0.000",
          "Return: 116.061%<br>Volatility: 0.459<br>Sharpe Ratio: 2.529<br>COST_Close: Weight=0.000<br>BMY_Close: Weight=0.000<br>TSLA_Close: Weight=0.357<br>SNAP_Close: Weight=0.103<br>SPOT_Close: Weight=0.128<br>RDY_Close: Weight=0.348<br>KR_Close: Weight=0.064<br>SRE_Close: Weight=0.000",
          "Return: 116.056%<br>Volatility: 0.459<br>Sharpe Ratio: 2.529<br>COST_Close: Weight=0.000<br>BMY_Close: Weight=0.000<br>TSLA_Close: Weight=0.357<br>SNAP_Close: Weight=0.103<br>SPOT_Close: Weight=0.128<br>RDY_Close: Weight=0.348<br>KR_Close: Weight=0.064<br>BAC_Close: Weight=0.000",
          "Return: 116.103%<br>Volatility: 0.459<br>Sharpe Ratio: 2.529<br>COST_Close: Weight=0.000<br>BMY_Close: Weight=0.000<br>TSLA_Close: Weight=0.357<br>SNAP_Close: Weight=0.103<br>SPOT_Close: Weight=0.128<br>RDY_Close: Weight=0.348<br>KR_Close: Weight=0.064<br>INTC_Close: Weight=0.000",
          "Return: 116.090%<br>Volatility: 0.459<br>Sharpe Ratio: 2.529<br>COST_Close: Weight=0.000<br>BMY_Close: Weight=0.000<br>TSLA_Close: Weight=0.357<br>SNAP_Close: Weight=0.103<br>SPOT_Close: Weight=0.127<br>RDY_Close: Weight=0.348<br>KR_Close: Weight=0.064<br>BIIB_Close: Weight=0.000",
          "Return: 116.043%<br>Volatility: 0.459<br>Sharpe Ratio: 2.529<br>COST_Close: Weight=0.000<br>BMY_Close: Weight=0.000<br>TSLA_Close: Weight=0.357<br>SNAP_Close: Weight=0.103<br>SPOT_Close: Weight=0.128<br>RDY_Close: Weight=0.348<br>KR_Close: Weight=0.064<br>T_Close: Weight=0.000",
          "Return: 116.065%<br>Volatility: 0.459<br>Sharpe Ratio: 2.529<br>COST_Close: Weight=0.000<br>BMY_Close: Weight=0.000<br>TSLA_Close: Weight=0.357<br>SNAP_Close: Weight=0.103<br>SPOT_Close: Weight=0.128<br>RDY_Close: Weight=0.348<br>KR_Close: Weight=0.064<br>BSX_Close: Weight=0.000",
          "Return: 116.081%<br>Volatility: 0.459<br>Sharpe Ratio: 2.529<br>COST_Close: Weight=0.000<br>BMY_Close: Weight=0.000<br>TSLA_Close: Weight=0.357<br>SNAP_Close: Weight=0.103<br>SPOT_Close: Weight=0.128<br>RDY_Close: Weight=0.348<br>KR_Close: Weight=0.064<br>UA_Close: Weight=0.000",
          "Return: 116.125%<br>Volatility: 0.459<br>Sharpe Ratio: 2.529<br>COST_Close: Weight=0.000<br>BMY_Close: Weight=0.000<br>TSLA_Close: Weight=0.357<br>SNAP_Close: Weight=0.103<br>SPOT_Close: Weight=0.127<br>RDY_Close: Weight=0.348<br>KR_Close: Weight=0.064<br>RTX_Close: Weight=0.000",
          "Return: 116.050%<br>Volatility: 0.459<br>Sharpe Ratio: 2.529<br>COST_Close: Weight=0.000<br>BMY_Close: Weight=0.000<br>TSLA_Close: Weight=0.357<br>SNAP_Close: Weight=0.103<br>SPOT_Close: Weight=0.128<br>RDY_Close: Weight=0.348<br>KR_Close: Weight=0.064<br>CVX_Close: Weight=0.000",
          "Return: 116.061%<br>Volatility: 0.459<br>Sharpe Ratio: 2.529<br>COST_Close: Weight=0.000<br>BMY_Close: Weight=0.000<br>TSLA_Close: Weight=0.357<br>SNAP_Close: Weight=0.103<br>SPOT_Close: Weight=0.127<br>RDY_Close: Weight=0.348<br>KR_Close: Weight=0.064<br>BA_Close: Weight=0.000"
         ],
         "type": "scatter",
         "x": [
          0.2853337503103465,
          0.680456998846368,
          0.6664382501508817,
          0.6663601280649396,
          0.6773000396342853,
          0.6773085145988665,
          0.6773085145988665,
          0.6773065514861243,
          0.6772899908576705,
          0.6663831190145805,
          0.6772900083047417,
          0.6663831190145805,
          0.6772900083047417,
          0.6664305157045385,
          0.6162956006887329,
          0.6163803737080986,
          0.6163803737080986,
          0.623640670066815,
          0.6163803737080986,
          0.623640670066815,
          0.6164810887639436,
          0.6163951481344877,
          0.6163982007056172,
          0.6052921094035757,
          0.6054040111144203,
          0.6041039964433356,
          0.6054040111144203,
          0.6041039964433356,
          0.6052679395321361,
          0.6054762014789146,
          0.6054436726068531,
          0.4772994463914109,
          0.48536975348624123,
          0.48517065851393787,
          0.48513485612708585,
          0.48537400889135,
          0.48537010150262383,
          0.47729943621620285,
          0.48536975348624123,
          0.48517065851393787,
          0.48513485612708585,
          0.48537400889135,
          0.48537010150262383,
          0.47729943621620285,
          0.48538255633341,
          0.485361267272888,
          0.485369143857219,
          0.4851841469839241,
          0.48534371812788424,
          0.4853698868745244,
          0.4853662639869361,
          0.4851608902373133,
          0.48526015705673664,
          0.48526478766677433,
          0.48536248099020673,
          0.4852026822407821,
          0.4852238609461114,
          0.4852641681244792,
          0.4853610613413843,
          0.48536287265555295,
          0.4853624850122919,
          0.47728388369474284,
          0.48530474613227925,
          0.48515814479117975,
          0.4851459649327182,
          0.4853589899918297,
          0.4851921635659857,
          0.48524331182843394,
          0.4852251642300119,
          0.48521536554744105,
          0.4853642349815054,
          0.48519115367723253,
          0.48522939588172775,
          0.485227127033186,
          0.4839283522382427,
          0.4852484138950076,
          0.4852087991333924,
          0.48526753158883407,
          0.4852425503353105,
          0.4852522481135688,
          0.48515876380102574,
          0.48536047940894694,
          0.48537221076373815,
          0.4851607846707945,
          0.485203392354097,
          0.48520732519266657,
          0.4851715702043805,
          0.4851229361660012,
          0.4852250692751001,
          0.4586959217884948,
          0.45910038193204944,
          0.45877205261707654,
          0.45910038193204944,
          0.45877205261707654,
          0.4588412588930106,
          0.45905685991456097,
          0.45904861777124323,
          0.45648222328764454,
          0.45910038193204944,
          0.45877205261707654,
          0.4588412588930106,
          0.45905685991456097,
          0.45904861777124323,
          0.45648222328764454,
          0.45869593992631935,
          0.4590978256704317,
          0.4591075780777558,
          0.45913392518120866,
          0.4588531695673351,
          0.45874441559491935,
          0.4587292803167135,
          0.45871746893184917,
          0.45895754041257913,
          0.4588566566576706,
          0.4588487630496148,
          0.4588889892795973,
          0.45883546147003756,
          0.4590205043514119,
          0.4590995241436885,
          0.45870888498527035,
          0.4587096122819017,
          0.4588553625269648,
          0.4588882323074174,
          0.4590632321596291,
          0.4588620623049835,
          0.4571426173693549,
          0.4586935162185293,
          0.4589602834795524,
          0.45875238330191803,
          0.45896032418214117,
          0.4588804339216451,
          0.4587095290382342,
          0.45883008706590295,
          0.4588534131277663,
          0.4588671035344421,
          0.4588328725137191,
          0.4588330067598558,
          0.4588687117571942,
          0.458907460494771,
          0.4588420678860045,
          0.45885727367903945,
          0.45894256588730686,
          0.45885785818806396,
          0.45884120620362073,
          0.4587023217965784,
          0.45889313174660257,
          0.45894761039863524,
          0.4587748055756741,
          0.4587227106355686,
          0.4587880925788146,
          0.45883373725587956,
          0.45885717669969517,
          0.45883678503686276,
          0.45884546335090975,
          0.45886030607007916,
          0.4588522880222264,
          0.45883425850077564,
          0.4588387578623399,
          0.458834716079778,
          0.45877106856046906,
          0.4587356091018732,
          0.45883447164038604,
          0.4587432230106077,
          0.4588482590606683,
          0.45882765607305265,
          0.45885801913824426,
          0.4588415250877687,
          0.4588061806592618,
          0.4588336975052701,
          0.458840993203852,
          0.45882989770041727,
          0.458852474931861,
          0.4588812210866,
          0.45884814558601333,
          0.45886676789864356,
          0.45884168881489146,
          0.4588360557922534,
          0.458818252249326,
          0.4590016202707163,
          0.4589526296951711,
          0.4587648878611081,
          0.4588538567864206,
          0.45891537359718837,
          0.4590904149612746,
          0.4587946456439634,
          0.4588378757423073
         ],
         "y": [
          0.2998320827142441,
          1.5979805943294159,
          1.6146603884780153,
          1.614471078221097,
          1.644558702313767,
          1.6445792862345894,
          1.6445792862345894,
          1.6445744917451397,
          1.6445343320328851,
          1.614526795014199,
          1.6445343743964038,
          1.614526795014199,
          1.6445343743964038,
          1.6146416480473011,
          1.5101564987177858,
          1.5103642389864818,
          1.5103642389864818,
          1.52909556838272,
          1.5103642389864818,
          1.52909556838272,
          1.5106110365765035,
          1.5104004451152875,
          1.5104079253489204,
          1.4858597588359512,
          1.4861344314312344,
          1.4831772495145366,
          1.4861344314312344,
          1.4831772495145366,
          1.48580045699505,
          1.4863115785934908,
          1.4862317584015696,
          1.2064420419564892,
          1.226510371953343,
          1.2260070801850436,
          1.225916638808507,
          1.2265211243057699,
          1.2265112513741254,
          1.2064420162450666,
          1.226510371953343,
          1.2260070801850436,
          1.225916638808507,
          1.2265211243057699,
          1.2265112513741254,
          1.2064420162450666,
          1.2265427212722204,
          1.226488929126265,
          1.226508831511248,
          1.2260412824073168,
          1.2264445853463115,
          1.2265107090495455,
          1.2265015547887195,
          1.2259824834763435,
          1.226233404799136,
          1.226245111824202,
          1.2264919959631788,
          1.2260881400615191,
          1.2261416666182368,
          1.2262435464796373,
          1.2264884088437038,
          1.2264929855713562,
          1.226492006077203,
          1.206369855034769,
          1.2263460103277846,
          1.2259755399470407,
          1.225944742710866,
          1.2264831748549818,
          1.226061469701927,
          1.2261908388238256,
          1.2261449610662813,
          1.2261201977228655,
          1.2264964279323762,
          1.2260589984916463,
          1.2261556648823877,
          1.22614991844835,
          1.2228720742886754,
          1.226203721909668,
          1.2261035962716385,
          1.2262520483835782,
          1.2261889120530234,
          1.22621342521713,
          1.2259771074590133,
          1.2264869383192827,
          1.2265165809499792,
          1.2259822181824205,
          1.2260899230585776,
          1.2260998702434571,
          1.2260094872900222,
          1.2258864636759135,
          1.2261447283165485,
          1.1602550834341132,
          1.1612780249931232,
          1.1604476674860067,
          1.1612780249931232,
          1.1604476674860067,
          1.160622686259026,
          1.1611680160040492,
          1.161147125709422,
          1.1547453063063942,
          1.1612780249931232,
          1.1604476674860067,
          1.160622686259026,
          1.1611680160040492,
          1.161147125709422,
          1.1547453063063942,
          1.1602551293199657,
          1.1612716013583326,
          1.1612962211061233,
          1.1613628991152156,
          1.1606528512399994,
          1.1603777580368602,
          1.1603394674350527,
          1.1603095919480753,
          1.1609168289550973,
          1.1606616399779521,
          1.1606416660530192,
          1.1607434544461288,
          1.1606080556031406,
          1.161076050886591,
          1.1612758584833451,
          1.1602878774112353,
          1.1602897173484759,
          1.1606583679488538,
          1.1607415399644883,
          1.161184093604835,
          1.1606753464142807,
          1.15637250743657,
          1.1602489947386303,
          1.1609237334097124,
          1.1603977150397629,
          1.1609238648647857,
          1.1607218157077526,
          1.1602895031192129,
          1.1605944582016043,
          1.1606534354445512,
          1.1606880982000503,
          1.160601502928994,
          1.1606018556576838,
          1.160692166047801,
          1.160790172271419,
          1.160624742800167,
          1.1606632080560726,
          1.16087895426666,
          1.1606646855843432,
          1.1606225900198042,
          1.1602712715910468,
          1.1607539324420058,
          1.160891712046058,
          1.160454500662866,
          1.160322852429868,
          1.1604881004247891,
          1.1606036883066126,
          1.1606629882757775,
          1.160611391061302,
          1.1606333609545936,
          1.1606709045574997,
          1.1606505890560015,
          1.1606050062634725,
          1.1606163974780093,
          1.1606061732462343,
          1.1604451014717452,
          1.1603554816283717,
          1.1606055468445489,
          1.1603745774402698,
          1.160640413135133,
          1.1605883104884795,
          1.1606650563421945,
          1.160623379093312,
          1.160533942033973,
          1.1606035946389555,
          1.1606220409521324,
          1.1605939821034588,
          1.1606510792786748,
          1.1607237888037856,
          1.1606401270389206,
          1.1606872492526723,
          1.1606237929201788,
          1.1606095535793108,
          1.160564534921918,
          1.161028277283416,
          1.1609043852065644,
          1.1604294775871122,
          1.160654582928019,
          1.1608101861917872,
          1.1612527710442733,
          1.1605048190078346,
          1.1606141519643325
         ]
        },
        {
         "hoverinfo": "text",
         "hovertext": [
          "GIS_Close <br>Volatility: 0.309 <br>Returns: 15.105% <br>Sharpe Ratio: 1.652",
          "WMT_Close <br>Volatility: 0.313 <br>Returns: 20.983% <br>Sharpe Ratio: 2.420",
          "ORCL_Close <br>Volatility: 0.401 <br>Returns: 19.527% <br>Sharpe Ratio: 2.420",
          "GS_Close <br>Volatility: 0.524 <br>Returns: 12.618% <br>Sharpe Ratio: 2.420",
          "TMO_Close <br>Volatility: 0.374 <br>Returns: 35.075% <br>Sharpe Ratio: 2.428",
          "ACN_Close <br>Volatility: 0.416 <br>Returns: 22.015% <br>Sharpe Ratio: 2.428",
          "DUK_Close <br>Volatility: 0.415 <br>Returns: 4.539% <br>Sharpe Ratio: 2.428",
          "NVDA_Close <br>Volatility: 0.583 <br>Returns: 78.950% <br>Sharpe Ratio: 2.428",
          "BMY_Close <br>Volatility: 0.298 <br>Returns: 0.066% <br>Sharpe Ratio: 2.428",
          "NEE_Close <br>Volatility: 0.417 <br>Returns: 26.242% <br>Sharpe Ratio: 2.428",
          "SRE_Close <br>Volatility: 0.479 <br>Returns: -13.414% <br>Sharpe Ratio: 2.428",
          "IBM_Close <br>Volatility: 0.412 <br>Returns: -3.438% <br>Sharpe Ratio: 2.428",
          "ISRG_Close <br>Volatility: 0.457 <br>Returns: 31.244% <br>Sharpe Ratio: 2.428",
          "BABA_Close <br>Volatility: 0.415 <br>Returns: 8.165% <br>Sharpe Ratio: 2.428",
          "CPB_Close <br>Volatility: 0.323 <br>Returns: 1.937% <br>Sharpe Ratio: 2.428",
          "MS_Close <br>Volatility: 0.573 <br>Returns: 29.594% <br>Sharpe Ratio: 2.428",
          "RMD_Close <br>Volatility: 0.492 <br>Returns: 30.490% <br>Sharpe Ratio: 2.428",
          "EXC_Close <br>Volatility: 0.490 <br>Returns: -4.296% <br>Sharpe Ratio: 2.428",
          "AMD_Close <br>Volatility: 0.607 <br>Returns: 63.359% <br>Sharpe Ratio: 2.428",
          "VRTX_Close <br>Volatility: 0.473 <br>Returns: 5.877% <br>Sharpe Ratio: 2.428",
          "KO_Close <br>Volatility: 0.350 <br>Returns: 2.369% <br>Sharpe Ratio: 2.428",
          "TXN_Close <br>Volatility: 0.432 <br>Returns: 25.771% <br>Sharpe Ratio: 2.428",
          "MCD_Close <br>Volatility: 0.401 <br>Returns: 7.720% <br>Sharpe Ratio: 2.428",
          "JNJ_Close <br>Volatility: 0.303 <br>Returns: 9.397% <br>Sharpe Ratio: 2.428",
          "HON_Close <br>Volatility: 0.453 <br>Returns: 17.805% <br>Sharpe Ratio: 2.428",
          "PYPL_Close <br>Volatility: 0.523 <br>Returns: 74.029% <br>Sharpe Ratio: 2.428",
          "MRK_Close <br>Volatility: 0.319 <br>Returns: -10.200% <br>Sharpe Ratio: 2.428",
          "UBER_Close <br>Volatility: 0.728 <br>Returns: 54.160% <br>Sharpe Ratio: 2.428",
          "XOM_Close <br>Volatility: 0.530 <br>Returns: -45.815% <br>Sharpe Ratio: 2.428",
          "GM_Close <br>Volatility: 0.615 <br>Returns: 12.534% <br>Sharpe Ratio: 2.428",
          "KR_Close <br>Volatility: 0.321 <br>Returns: 11.767% <br>Sharpe Ratio: 2.428",
          "LMT_Close <br>Volatility: 0.415 <br>Returns: -9.516% <br>Sharpe Ratio: 2.428",
          "TSLA_Close <br>Volatility: 0.898 <br>Returns: 209.696% <br>Sharpe Ratio: 2.428",
          "REGN_Close <br>Volatility: 0.431 <br>Returns: 24.871% <br>Sharpe Ratio: 2.428",
          "AMGN_Close <br>Volatility: 0.381 <br>Returns: -2.820% <br>Sharpe Ratio: 2.428",
          "UNH_Close <br>Volatility: 0.485 <br>Returns: 18.210% <br>Sharpe Ratio: 2.428",
          "T_Close <br>Volatility: 0.358 <br>Returns: -22.344% <br>Sharpe Ratio: 2.428",
          "ADBE_Close <br>Volatility: 0.480 <br>Returns: 39.865% <br>Sharpe Ratio: 2.428",
          "VZ_Close <br>Volatility: 0.245 <br>Returns: -0.605% <br>Sharpe Ratio: 2.428",
          "WFC_Close <br>Volatility: 0.616 <br>Returns: -55.430% <br>Sharpe Ratio: 2.428",
          "GILD_Close <br>Volatility: 0.373 <br>Returns: -10.162% <br>Sharpe Ratio: 2.428",
          "EW_Close <br>Volatility: 0.441 <br>Returns: 14.610% <br>Sharpe Ratio: 2.428",
          "DIS_Close <br>Volatility: 0.488 <br>Returns: 20.167% <br>Sharpe Ratio: 2.428",
          "ABBV_Close <br>Volatility: 0.351 <br>Returns: 21.647% <br>Sharpe Ratio: 2.428",
          "BIIB_Close <br>Volatility: 0.667 <br>Returns: -18.970% <br>Sharpe Ratio: 2.428",
          "LYFT_Close <br>Volatility: 0.858 <br>Returns: 14.478% <br>Sharpe Ratio: 2.428",
          "MO_Close <br>Volatility: 0.366 <br>Returns: -10.116% <br>Sharpe Ratio: 2.428",
          "BSX_Close <br>Volatility: 0.451 <br>Returns: -24.400% <br>Sharpe Ratio: 2.428",
          "DHR_Close <br>Volatility: 0.337 <br>Returns: 35.814% <br>Sharpe Ratio: 2.428",
          "MDT_Close <br>Volatility: 0.414 <br>Returns: 3.293% <br>Sharpe Ratio: 2.428",
          "SPOT_Close <br>Volatility: 0.548 <br>Returns: 74.788% <br>Sharpe Ratio: 2.428",
          "META_Close <br>Volatility: 0.462 <br>Returns: 26.030% <br>Sharpe Ratio: 2.428",
          "PG_Close <br>Volatility: 0.325 <br>Returns: 13.501% <br>Sharpe Ratio: 2.428",
          "UA_Close <br>Volatility: 0.679 <br>Returns: -24.459% <br>Sharpe Ratio: 2.428",
          "COST_Close <br>Volatility: 0.290 <br>Returns: 28.590% <br>Sharpe Ratio: 2.428",
          "V_Close <br>Volatility: 0.428 <br>Returns: 13.994% <br>Sharpe Ratio: 2.428",
          "QCOM_Close <br>Volatility: 0.528 <br>Returns: 55.263% <br>Sharpe Ratio: 2.428",
          "GE_Close <br>Volatility: 0.632 <br>Returns: -10.323% <br>Sharpe Ratio: 2.428",
          "MMM_Close <br>Volatility: 0.375 <br>Returns: 0.330% <br>Sharpe Ratio: 2.428",
          "SAP_Close <br>Volatility: 0.464 <br>Returns: -3.194% <br>Sharpe Ratio: 2.428",
          "LLY_Close <br>Volatility: 0.419 <br>Returns: 25.453% <br>Sharpe Ratio: 2.428",
          "DE_Close <br>Volatility: 0.459 <br>Returns: 42.745% <br>Sharpe Ratio: 2.428",
          "BAC_Close <br>Volatility: 0.586 <br>Returns: -14.706% <br>Sharpe Ratio: 2.428",
          "ETN_Close <br>Volatility: 0.513 <br>Returns: 24.236% <br>Sharpe Ratio: 2.452",
          "PM_Close <br>Volatility: 0.397 <br>Returns: 1.919% <br>Sharpe Ratio: 2.452",
          "SYK_Close <br>Volatility: 0.494 <br>Returns: 15.287% <br>Sharpe Ratio: 2.452",
          "SNAP_Close <br>Volatility: 0.740 <br>Returns: 108.305% <br>Sharpe Ratio: 2.452",
          "MSFT_Close <br>Volatility: 0.441 <br>Returns: 33.406% <br>Sharpe Ratio: 2.452",
          "NKE_Close <br>Volatility: 0.416 <br>Returns: 33.675% <br>Sharpe Ratio: 2.452",
          "CAT_Close <br>Volatility: 0.454 <br>Returns: 20.953% <br>Sharpe Ratio: 2.452",
          "EMR_Close <br>Volatility: 0.547 <br>Returns: 6.008% <br>Sharpe Ratio: 2.452",
          "BTI_Close <br>Volatility: 0.361 <br>Returns: -5.213% <br>Sharpe Ratio: 2.452",
          "SO_Close <br>Volatility: 0.457 <br>Returns: 0.996% <br>Sharpe Ratio: 2.452",
          "CVX_Close <br>Volatility: 0.620 <br>Returns: -29.888% <br>Sharpe Ratio: 2.452",
          "AAPL_Close <br>Volatility: 0.468 <br>Returns: 58.803% <br>Sharpe Ratio: 2.449",
          "ABT_Close <br>Volatility: 0.393 <br>Returns: 23.745% <br>Sharpe Ratio: 2.449",
          "JPM_Close <br>Volatility: 0.544 <br>Returns: -8.287% <br>Sharpe Ratio: 2.452",
          "SYY_Close <br>Volatility: 0.702 <br>Returns: -11.836% <br>Sharpe Ratio: 2.449",
          "GOOG_Close <br>Volatility: 0.385 <br>Returns: 24.168% <br>Sharpe Ratio: 2.449",
          "ZBH_Close <br>Volatility: 0.499 <br>Returns: 2.809% <br>Sharpe Ratio: 2.452",
          "BA_Close <br>Volatility: 0.880 <br>Returns: -42.649% <br>Sharpe Ratio: 2.449",
          "CSCO_Close <br>Volatility: 0.421 <br>Returns: -5.864% <br>Sharpe Ratio: 2.449",
          "F_Close <br>Volatility: 0.559 <br>Returns: -4.460% <br>Sharpe Ratio: 2.449",
          "AMZN_Close <br>Volatility: 0.385 <br>Returns: 55.101% <br>Sharpe Ratio: 2.449",
          "PEP_Close <br>Volatility: 0.368 <br>Returns: 11.037% <br>Sharpe Ratio: 2.449",
          "MA_Close <br>Volatility: 0.488 <br>Returns: 16.468% <br>Sharpe Ratio: 2.449",
          "CMCSA_Close <br>Volatility: 0.381 <br>Returns: 14.383% <br>Sharpe Ratio: 2.449",
          "RTX_Close <br>Volatility: 0.577 <br>Returns: -27.337% <br>Sharpe Ratio: 2.449",
          "INTC_Close <br>Volatility: 0.541 <br>Returns: -19.777% <br>Sharpe Ratio: 2.449",
          "PFE_Close <br>Volatility: 0.359 <br>Returns: 2.947% <br>Sharpe Ratio: 2.449",
          "RDY_Close <br>Volatility: 0.355 <br>Returns: 56.708% <br>Sharpe Ratio: 2.449",
          "K_Close <br>Volatility: 0.318 <br>Returns: -5.956% <br>Sharpe Ratio: 2.449",
          "NFLX_Close <br>Volatility: 0.463 <br>Returns: 46.595% <br>Sharpe Ratio: 2.449",
          "AEP_Close <br>Volatility: 0.386 <br>Returns: -10.503% <br>Sharpe Ratio: 2.449",
          "CRM_Close <br>Volatility: 0.522 <br>Returns: 28.769% <br>Sharpe Ratio: 2.449",
          "HD_Close <br>Volatility: 0.447 <br>Returns: 21.279% <br>Sharpe Ratio: 2.449",
          "GOOGL_Close <br>Volatility: 0.387 <br>Returns: 23.883% <br>Sharpe Ratio: 2.449"
         ],
         "marker": {
          "color": "brown",
          "line": {
           "width": 1
          },
          "size": 5,
          "symbol": "triangle-up"
         },
         "mode": "markers",
         "name": "Individual Assets",
         "type": "scatter",
         "x": {
          "bdata": "VxV6kBPL0z++4IxCFQXUPyUcglKxpNk/gaA2Y+XA4D/HTz/ECerXP4r+VGFAo9o/YXQEso2H2j/Jj4IZY6niP52vSpNBENM/exMNY32s2j8VMCED4aLeP4CUN7d7Ydo/rI3xd0k+3T/gthJLworaPz9YnQpWptQ/XAfdLxJT4j/RuUuxAX3fP8M3UfsnWN8/MiXuYI1r4z9axEwFgz/ePyZdB1UfYtY/OrfF0dig2z8DjScDubHZP54cHMvYY9M/OPxDXf0F3T+xiiy3a7zgP38amMu3bdQ/fAGUVddK5z8RqUBl0/bgP+699PKRseM/5sYJq3WN1D+d/6N2pIraPzJyJR1+wOw/G9vm5Gab2z8HwHELJGnYP1A0JFpsCN8/Rwxgjczu1j+tvcjeJLbePwlekHKrYM8/0ZT0xPa44z/kZ52lx+DXPwQfRTE4N9w/q0Jc0OM73z9A31i8TXrWP/46dDTEWuU//5hLWGly6z/yhSb6RmbXP2GoRdWI2tw/obPELUiN1T/NYCDSlobaP2fDhqJ3iOE/mIHdVkOS3T/DiDI2ZsXUP2gfEYXYu+U/VoVwTc6N0j+Ud1gFkGHbP6SdlY5n4eA/9fF6SFs55D+oPLrm4wTYP2e1yeK+tN0/78uaswvZ2j/h1lgrj1rdP6mwSbp8xOI/ijgAZbJn4D8fCBpo5GrZPz6XmYDRod8/wyGOSPqv5z/c4BGT1T7cP040klchodo/7OhLqhAN3T+DT4vhBoPhP7tP413MF9c/cgACE1xE3T9wHcpw5NjjPya+WQ789N0/saGyXFcg2T+hEPkVaGjhP5Z2ABN7eeY/yNLcnWKo2D+Wobd3QvPfP4tvdKwLK+w/Q4uYyZXy2j8gBZyRTOPhP9Bs5pp6n9g/flvaTreM1z+1M9EPtz7fPyRGP+Zaatg/Oct+r0d14j+Yema270/hP78b6QGD9dY/cQXL4yW71j87fsoLNWHUP9DxZrdbm90/834ukHi32D80QAjfjbXgP9lw2B5jmNw/RDbidkbD2D8=",
          "dtype": "f8"
         },
         "y": {
          "bdata": "5A3T9LNVwz/YGUPnwtvKP3S65dWk/sg/tcrOlIomwD8lnrjlnXLWP9AzVrP4Lcw/bPcn+do9pz+HhtK+jEPpP++/3GEgwUU/JKH3OozL0D9TpKomWyvBv4NWs2+hmqG/LpnIwhL/0z+TumKTCue0P8+A6rK51pM/5KbWtLfw0j9G8nWefIPTP1wD8nVw/6W/9QisvGBG5D82c8amexeuP6C7hY8uQpg/xPu7uVF+0D8h2KZwRcOzP/2kSMJ9Drg/G0nHQGHKxj9w4YS/arDnPwhDYM1nHLq/4KXsXc9U4T9VHkRHZ1Ldv8tVkLQgC8A/ow4O7tQfvj/UqPavbVy4v9tlJnqVxgBA5cEN1q/Vzz+D30CzVeGcv2lAGaD0Tsc/Wb6AwNOZzL+F1Ab5eIPZPyByHlvVzHi/P+IPZtC84b+4mMU23QO6v017Z9WEs8I/rmFNOG/QyT/v8mb6WLXLP5w5LcUwSMi/ihgPMwaIwj+8H70P7uW5v68OFfpMO8+/SxneZ9Xr1j/aB3tsvtugP51jgROe7uc/soAPJLeo0D/V1K2+60fBP7xjXyDQTs+/U2NJZTBM0j8Vf/XhZunBP9sppt0jr+E/nejjjgltur8b+WRLlg1rP9Bs1YmTWqC/KIRdtihK0D+z1OTaWFvbP8FxbOW80sK/GUbL2K8Fzz9j7u+oAKeTP9zZOdZgkcM/kHmH7ilU8T/p7G7eL2HVP5hp7LVhjdU/pxnP78zRyj+y3qxi5MKuP6mYiK7+sKq/qjwhJL5khD9G1INz5SDTv3t2iO0c0eI/Bz6PSLpkzj9MaBkmtza1v129cV6qTL6/CVcvDlfvzj8iMHpu08OcP/Q3lceTS9u/b2mqCUkGrr+QI7m3Atamv2FZSzLXoeE/pP7PfVBBvD8l0DfVIxTFP5I+y4LiaMI/2q6NePF+0b9INArHY1DJv/4nQSb1LJ4/U4oK9IUl4j/WDUQ2HX6uv6kaAywd0t0/ffsv2ifjur8T7VdTb2nSP6w0Tq7NPMs/RA5ohfCRzj8=",
          "dtype": "f8"
         }
        }
       ],
       "layout": {
        "legend": {
         "y": 5
        },
        "template": {
         "data": {
          "bar": [
           {
            "error_x": {
             "color": "#2a3f5f"
            },
            "error_y": {
             "color": "#2a3f5f"
            },
            "marker": {
             "line": {
              "color": "#E5ECF6",
              "width": 0.5
             },
             "pattern": {
              "fillmode": "overlay",
              "size": 10,
              "solidity": 0.2
             }
            },
            "type": "bar"
           }
          ],
          "barpolar": [
           {
            "marker": {
             "line": {
              "color": "#E5ECF6",
              "width": 0.5
             },
             "pattern": {
              "fillmode": "overlay",
              "size": 10,
              "solidity": 0.2
             }
            },
            "type": "barpolar"
           }
          ],
          "carpet": [
           {
            "aaxis": {
             "endlinecolor": "#2a3f5f",
             "gridcolor": "white",
             "linecolor": "white",
             "minorgridcolor": "white",
             "startlinecolor": "#2a3f5f"
            },
            "baxis": {
             "endlinecolor": "#2a3f5f",
             "gridcolor": "white",
             "linecolor": "white",
             "minorgridcolor": "white",
             "startlinecolor": "#2a3f5f"
            },
            "type": "carpet"
           }
          ],
          "choropleth": [
           {
            "colorbar": {
             "outlinewidth": 0,
             "ticks": ""
            },
            "type": "choropleth"
           }
          ],
          "contour": [
           {
            "colorbar": {
             "outlinewidth": 0,
             "ticks": ""
            },
            "colorscale": [
             [
              0,
              "#0d0887"
             ],
             [
              0.1111111111111111,
              "#46039f"
             ],
             [
              0.2222222222222222,
              "#7201a8"
             ],
             [
              0.3333333333333333,
              "#9c179e"
             ],
             [
              0.4444444444444444,
              "#bd3786"
             ],
             [
              0.5555555555555556,
              "#d8576b"
             ],
             [
              0.6666666666666666,
              "#ed7953"
             ],
             [
              0.7777777777777778,
              "#fb9f3a"
             ],
             [
              0.8888888888888888,
              "#fdca26"
             ],
             [
              1,
              "#f0f921"
             ]
            ],
            "type": "contour"
           }
          ],
          "contourcarpet": [
           {
            "colorbar": {
             "outlinewidth": 0,
             "ticks": ""
            },
            "type": "contourcarpet"
           }
          ],
          "heatmap": [
           {
            "colorbar": {
             "outlinewidth": 0,
             "ticks": ""
            },
            "colorscale": [
             [
              0,
              "#0d0887"
             ],
             [
              0.1111111111111111,
              "#46039f"
             ],
             [
              0.2222222222222222,
              "#7201a8"
             ],
             [
              0.3333333333333333,
              "#9c179e"
             ],
             [
              0.4444444444444444,
              "#bd3786"
             ],
             [
              0.5555555555555556,
              "#d8576b"
             ],
             [
              0.6666666666666666,
              "#ed7953"
             ],
             [
              0.7777777777777778,
              "#fb9f3a"
             ],
             [
              0.8888888888888888,
              "#fdca26"
             ],
             [
              1,
              "#f0f921"
             ]
            ],
            "type": "heatmap"
           }
          ],
          "histogram": [
           {
            "marker": {
             "pattern": {
              "fillmode": "overlay",
              "size": 10,
              "solidity": 0.2
             }
            },
            "type": "histogram"
           }
          ],
          "histogram2d": [
           {
            "colorbar": {
             "outlinewidth": 0,
             "ticks": ""
            },
            "colorscale": [
             [
              0,
              "#0d0887"
             ],
             [
              0.1111111111111111,
              "#46039f"
             ],
             [
              0.2222222222222222,
              "#7201a8"
             ],
             [
              0.3333333333333333,
              "#9c179e"
             ],
             [
              0.4444444444444444,
              "#bd3786"
             ],
             [
              0.5555555555555556,
              "#d8576b"
             ],
             [
              0.6666666666666666,
              "#ed7953"
             ],
             [
              0.7777777777777778,
              "#fb9f3a"
             ],
             [
              0.8888888888888888,
              "#fdca26"
             ],
             [
              1,
              "#f0f921"
             ]
            ],
            "type": "histogram2d"
           }
          ],
          "histogram2dcontour": [
           {
            "colorbar": {
             "outlinewidth": 0,
             "ticks": ""
            },
            "colorscale": [
             [
              0,
              "#0d0887"
             ],
             [
              0.1111111111111111,
              "#46039f"
             ],
             [
              0.2222222222222222,
              "#7201a8"
             ],
             [
              0.3333333333333333,
              "#9c179e"
             ],
             [
              0.4444444444444444,
              "#bd3786"
             ],
             [
              0.5555555555555556,
              "#d8576b"
             ],
             [
              0.6666666666666666,
              "#ed7953"
             ],
             [
              0.7777777777777778,
              "#fb9f3a"
             ],
             [
              0.8888888888888888,
              "#fdca26"
             ],
             [
              1,
              "#f0f921"
             ]
            ],
            "type": "histogram2dcontour"
           }
          ],
          "mesh3d": [
           {
            "colorbar": {
             "outlinewidth": 0,
             "ticks": ""
            },
            "type": "mesh3d"
           }
          ],
          "parcoords": [
           {
            "line": {
             "colorbar": {
              "outlinewidth": 0,
              "ticks": ""
             }
            },
            "type": "parcoords"
           }
          ],
          "pie": [
           {
            "automargin": true,
            "type": "pie"
           }
          ],
          "scatter": [
           {
            "fillpattern": {
             "fillmode": "overlay",
             "size": 10,
             "solidity": 0.2
            },
            "type": "scatter"
           }
          ],
          "scatter3d": [
           {
            "line": {
             "colorbar": {
              "outlinewidth": 0,
              "ticks": ""
             }
            },
            "marker": {
             "colorbar": {
              "outlinewidth": 0,
              "ticks": ""
             }
            },
            "type": "scatter3d"
           }
          ],
          "scattercarpet": [
           {
            "marker": {
             "colorbar": {
              "outlinewidth": 0,
              "ticks": ""
             }
            },
            "type": "scattercarpet"
           }
          ],
          "scattergeo": [
           {
            "marker": {
             "colorbar": {
              "outlinewidth": 0,
              "ticks": ""
             }
            },
            "type": "scattergeo"
           }
          ],
          "scattergl": [
           {
            "marker": {
             "colorbar": {
              "outlinewidth": 0,
              "ticks": ""
             }
            },
            "type": "scattergl"
           }
          ],
          "scattermap": [
           {
            "marker": {
             "colorbar": {
              "outlinewidth": 0,
              "ticks": ""
             }
            },
            "type": "scattermap"
           }
          ],
          "scattermapbox": [
           {
            "marker": {
             "colorbar": {
              "outlinewidth": 0,
              "ticks": ""
             }
            },
            "type": "scattermapbox"
           }
          ],
          "scatterpolar": [
           {
            "marker": {
             "colorbar": {
              "outlinewidth": 0,
              "ticks": ""
             }
            },
            "type": "scatterpolar"
           }
          ],
          "scatterpolargl": [
           {
            "marker": {
             "colorbar": {
              "outlinewidth": 0,
              "ticks": ""
             }
            },
            "type": "scatterpolargl"
           }
          ],
          "scatterternary": [
           {
            "marker": {
             "colorbar": {
              "outlinewidth": 0,
              "ticks": ""
             }
            },
            "type": "scatterternary"
           }
          ],
          "surface": [
           {
            "colorbar": {
             "outlinewidth": 0,
             "ticks": ""
            },
            "colorscale": [
             [
              0,
              "#0d0887"
             ],
             [
              0.1111111111111111,
              "#46039f"
             ],
             [
              0.2222222222222222,
              "#7201a8"
             ],
             [
              0.3333333333333333,
              "#9c179e"
             ],
             [
              0.4444444444444444,
              "#bd3786"
             ],
             [
              0.5555555555555556,
              "#d8576b"
             ],
             [
              0.6666666666666666,
              "#ed7953"
             ],
             [
              0.7777777777777778,
              "#fb9f3a"
             ],
             [
              0.8888888888888888,
              "#fdca26"
             ],
             [
              1,
              "#f0f921"
             ]
            ],
            "type": "surface"
           }
          ],
          "table": [
           {
            "cells": {
             "fill": {
              "color": "#EBF0F8"
             },
             "line": {
              "color": "white"
             }
            },
            "header": {
             "fill": {
              "color": "#C8D4E3"
             },
             "line": {
              "color": "white"
             }
            },
            "type": "table"
           }
          ]
         },
         "layout": {
          "annotationdefaults": {
           "arrowcolor": "#2a3f5f",
           "arrowhead": 0,
           "arrowwidth": 1
          },
          "autotypenumbers": "strict",
          "coloraxis": {
           "colorbar": {
            "outlinewidth": 0,
            "ticks": ""
           }
          },
          "colorscale": {
           "diverging": [
            [
             0,
             "#8e0152"
            ],
            [
             0.1,
             "#c51b7d"
            ],
            [
             0.2,
             "#de77ae"
            ],
            [
             0.3,
             "#f1b6da"
            ],
            [
             0.4,
             "#fde0ef"
            ],
            [
             0.5,
             "#f7f7f7"
            ],
            [
             0.6,
             "#e6f5d0"
            ],
            [
             0.7,
             "#b8e186"
            ],
            [
             0.8,
             "#7fbc41"
            ],
            [
             0.9,
             "#4d9221"
            ],
            [
             1,
             "#276419"
            ]
           ],
           "sequential": [
            [
             0,
             "#0d0887"
            ],
            [
             0.1111111111111111,
             "#46039f"
            ],
            [
             0.2222222222222222,
             "#7201a8"
            ],
            [
             0.3333333333333333,
             "#9c179e"
            ],
            [
             0.4444444444444444,
             "#bd3786"
            ],
            [
             0.5555555555555556,
             "#d8576b"
            ],
            [
             0.6666666666666666,
             "#ed7953"
            ],
            [
             0.7777777777777778,
             "#fb9f3a"
            ],
            [
             0.8888888888888888,
             "#fdca26"
            ],
            [
             1,
             "#f0f921"
            ]
           ],
           "sequentialminus": [
            [
             0,
             "#0d0887"
            ],
            [
             0.1111111111111111,
             "#46039f"
            ],
            [
             0.2222222222222222,
             "#7201a8"
            ],
            [
             0.3333333333333333,
             "#9c179e"
            ],
            [
             0.4444444444444444,
             "#bd3786"
            ],
            [
             0.5555555555555556,
             "#d8576b"
            ],
            [
             0.6666666666666666,
             "#ed7953"
            ],
            [
             0.7777777777777778,
             "#fb9f3a"
            ],
            [
             0.8888888888888888,
             "#fdca26"
            ],
            [
             1,
             "#f0f921"
            ]
           ]
          },
          "colorway": [
           "#636efa",
           "#EF553B",
           "#00cc96",
           "#ab63fa",
           "#FFA15A",
           "#19d3f3",
           "#FF6692",
           "#B6E880",
           "#FF97FF",
           "#FECB52"
          ],
          "font": {
           "color": "#2a3f5f"
          },
          "geo": {
           "bgcolor": "white",
           "lakecolor": "white",
           "landcolor": "#E5ECF6",
           "showlakes": true,
           "showland": true,
           "subunitcolor": "white"
          },
          "hoverlabel": {
           "align": "left"
          },
          "hovermode": "closest",
          "mapbox": {
           "style": "light"
          },
          "paper_bgcolor": "white",
          "plot_bgcolor": "#E5ECF6",
          "polar": {
           "angularaxis": {
            "gridcolor": "white",
            "linecolor": "white",
            "ticks": ""
           },
           "bgcolor": "#E5ECF6",
           "radialaxis": {
            "gridcolor": "white",
            "linecolor": "white",
            "ticks": ""
           }
          },
          "scene": {
           "xaxis": {
            "backgroundcolor": "#E5ECF6",
            "gridcolor": "white",
            "gridwidth": 2,
            "linecolor": "white",
            "showbackground": true,
            "ticks": "",
            "zerolinecolor": "white"
           },
           "yaxis": {
            "backgroundcolor": "#E5ECF6",
            "gridcolor": "white",
            "gridwidth": 2,
            "linecolor": "white",
            "showbackground": true,
            "ticks": "",
            "zerolinecolor": "white"
           },
           "zaxis": {
            "backgroundcolor": "#E5ECF6",
            "gridcolor": "white",
            "gridwidth": 2,
            "linecolor": "white",
            "showbackground": true,
            "ticks": "",
            "zerolinecolor": "white"
           }
          },
          "shapedefaults": {
           "line": {
            "color": "#2a3f5f"
           }
          },
          "ternary": {
           "aaxis": {
            "gridcolor": "white",
            "linecolor": "white",
            "ticks": ""
           },
           "baxis": {
            "gridcolor": "white",
            "linecolor": "white",
            "ticks": ""
           },
           "bgcolor": "#E5ECF6",
           "caxis": {
            "gridcolor": "white",
            "linecolor": "white",
            "ticks": ""
           }
          },
          "title": {
           "x": 0.05
          },
          "xaxis": {
           "automargin": true,
           "gridcolor": "white",
           "linecolor": "white",
           "ticks": "",
           "title": {
            "standoff": 15
           },
           "zerolinecolor": "white",
           "zerolinewidth": 2
          },
          "yaxis": {
           "automargin": true,
           "gridcolor": "white",
           "linecolor": "white",
           "ticks": "",
           "title": {
            "standoff": 15
           },
           "zerolinecolor": "white",
           "zerolinewidth": 2
          }
         }
        },
        "title": {
         "text": "Sample of Random Portfolios"
        },
        "xaxis": {
         "title": {
          "text": "Volatility (Standard Deviation)"
         }
        },
        "yaxis": {
         "title": {
          "text": "Annualized Return"
         }
        }
       }
      }
     },
     "metadata": {},
     "output_type": "display_data"
    }
   ],
   "source": [
    "fig = go.Figure()\n",
    "\n",
    "fig.add_trace(go.Scatter(\n",
    "    x=[p[\"variance\"]**0.5 for p in total_portfolios],  # Convert variance to volatility\n",
    "    y=[p[\"return\"] for p in total_portfolios],\n",
    "    mode='markers',\n",
    "    marker=dict(\n",
    "        color=[p[\"sharpe\"] for p in total_portfolios],  # Sharpe Ratio\n",
    "        showscale=True,\n",
    "        size=7,\n",
    "        line=dict(width=1),\n",
    "        colorscale=\"RdBu\",\n",
    "        colorbar=dict(title=\"Sharpe<br>Ratio\")\n",
    "    ),\n",
    "    hoverinfo='text',\n",
    "    text=[\n",
    "        f\"Return: {p['return']:.3%}<br>Volatility: {p['variance']**0.5:.3f}<br>\" +\n",
    "        f\"Sharpe Ratio: {p['return'] / (p['variance']**0.5):.3f}<br>\" +\n",
    "        \"<br>\".join([f\"{p['tickers'][i]}: Weight={p['weights'][i]:.3f}\" for i in range(len(p['tickers']))])\n",
    "        for p in total_portfolios\n",
    "    ],\n",
    "    name=\"Portfolios\"\n",
    "))\n",
    "\n",
    "fig.add_trace(go.Scatter(\n",
    "    x=volatility,\n",
    "    y=annualized_returns,\n",
    "    mode='markers',\n",
    "    hoverinfo='text',\n",
    "    hovertext=[\n",
    "        f\"{name} <br>Volatility: {vol:.3f} <br>Returns: {ret:.3%} <br>Sharpe Ratio: {sr:.3f}\"\n",
    "        for name, vol, ret, sr in zip(names, volatility, annualized_returns, sharpe_ratios)\n",
    "    ],\n",
    "    marker=dict(\n",
    "        color='brown',\n",
    "        size=5,\n",
    "        symbol='triangle-up',  # Sets the marker shape to a triangle\n",
    "        line=dict(width=1)\n",
    "    ),\n",
    "    name=\"Individual Assets\"\n",
    "))\n",
    "\n",
    "fig.update_layout(\n",
    "    title='Sample of Random Portfolios',\n",
    "    xaxis_title='Volatility (Standard Deviation)',\n",
    "    yaxis_title='Annualized Return',\n",
    "    legend=dict(y=5\n",
    "    )\n",
    ")\n",
    "\n",
    "\n",
    "fig.show()"
   ]
  },
  {
   "cell_type": "code",
   "execution_count": 125,
   "metadata": {},
   "outputs": [
    {
     "data": {
      "application/vnd.plotly.v1+json": {
       "config": {
        "plotlyServerURL": "https://plot.ly"
       },
       "data": [
        {
         "mode": "lines+markers",
         "type": "scatter",
         "x": [
          0,
          1,
          2,
          3,
          4,
          5,
          6,
          7,
          8,
          9,
          10,
          11,
          12,
          13,
          14,
          15,
          16,
          17,
          18,
          19,
          20,
          21,
          22,
          23,
          24,
          25,
          26,
          27,
          28,
          29,
          30,
          31,
          32,
          33,
          34,
          35,
          36,
          37,
          38,
          39,
          40,
          41,
          42,
          43,
          44,
          45,
          46,
          47,
          48,
          49,
          50,
          51,
          52,
          53,
          54,
          55,
          56,
          57,
          58,
          59,
          60,
          61,
          62,
          63,
          64,
          65,
          66,
          67,
          68,
          69,
          70,
          71,
          72,
          73,
          74,
          75,
          76,
          77,
          78,
          79,
          80,
          81,
          82,
          83,
          84,
          85,
          86,
          87,
          88,
          89,
          90,
          91,
          92,
          93,
          94,
          95,
          96,
          97,
          98,
          99,
          100,
          101,
          102,
          103,
          104,
          105,
          106,
          107,
          108,
          109,
          110,
          111,
          112,
          113,
          114,
          115,
          116,
          117,
          118,
          119,
          120,
          121,
          122,
          123,
          124,
          125,
          126,
          127,
          128,
          129,
          130,
          131,
          132,
          133,
          134,
          135,
          136,
          137,
          138,
          139,
          140,
          141,
          142,
          143,
          144,
          145,
          146,
          147,
          148,
          149,
          150,
          151,
          152,
          153,
          154,
          155,
          156,
          157,
          158,
          159,
          160,
          161,
          162,
          163,
          164,
          165,
          166,
          167,
          168,
          169,
          170,
          171,
          172,
          173,
          174,
          175,
          176,
          177,
          178,
          179,
          180,
          181,
          182,
          183,
          184,
          185
         ],
         "y": [
          1.0508118383756857,
          2.3483932078567746,
          2.4228207011114025,
          2.422820649412805,
          2.428109561608416,
          2.4281095701396658,
          2.4281095701396658,
          2.428109529040679,
          2.42810960479479,
          2.422820670189986,
          2.428109604794963,
          2.422820670189986,
          2.428109604794963,
          2.4228206992297325,
          2.4503768922415325,
          2.4503769156377295,
          2.4503769156377295,
          2.45188558375915,
          2.4503769156377295,
          2.45188558375915,
          2.4503769281963015,
          2.4503769208542536,
          2.4503769213146507,
          2.4547813126129174,
          2.4547812768791806,
          2.455168742876637,
          2.4547812768791806,
          2.455168742876637,
          2.4547813620254755,
          2.454781170528386,
          2.4547812218473037,
          2.5276418212459912,
          2.526960864668117,
          2.526960480133452,
          2.5269605416423966,
          2.526960862835002,
          2.5269608646619433,
          2.5276418212624563,
          2.526960864668117,
          2.526960480133452,
          2.5269605416423966,
          2.526960862835002,
          2.5269608646619433,
          2.5276418212624563,
          2.52696085853919,
          2.5269608677626265,
          2.5269608648053037,
          2.5269607220862884,
          2.5269608723423365,
          2.5269608647283412,
          2.526960866035245,
          2.5269606601568033,
          2.526960820844322,
          2.5269608324975974,
          2.526960867393304,
          2.526960762869551,
          2.526960781004154,
          2.5269608329397264,
          2.5269608679651356,
          2.526960867156727,
          2.5269608672910557,
          2.5275729942859932,
          2.5269606780097718,
          2.526960648006273,
          2.5269606084034617,
          2.526960868440137,
          2.5269605772088766,
          2.52696082343401,
          2.526960783272671,
          2.5269607782092876,
          2.5269608667789694,
          2.5269607436150148,
          2.5269608051142414,
          2.526960778028575,
          2.5269692685553653,
          2.5269608035750935,
          2.5269607609373983,
          2.526960838217749,
          2.526960818266467,
          2.526960833224509,
          2.5269606548049772,
          2.5269608679570505,
          2.526960863746284,
          2.5269606631836696,
          2.526960739309482,
          2.526960757974122,
          2.5269606930462984,
          2.526960430616364,
          2.526960798106211,
          2.529464571889323,
          2.529464297341843,
          2.5294646020092206,
          2.529464297341843,
          2.5294646020092206,
          2.529464523436965,
          2.529464468127465,
          2.529464376446623,
          2.529661063227759,
          2.529464297341843,
          2.5294646020092206,
          2.529464523436965,
          2.529464468127465,
          2.529464376446623,
          2.529661063227759,
          2.529464571904295,
          2.5294643895611997,
          2.529464283661732,
          2.5294643576095033,
          2.529464604841697,
          2.5294645963854028,
          2.5294645823217063,
          2.529464584485795,
          2.5294645511466984,
          2.529464535683662,
          2.5294645197235073,
          2.529464601598661,
          2.5294645969270393,
          2.5294644572080096,
          2.529464304388802,
          2.5294645806751563,
          2.5294645812554184,
          2.529464538797119,
          2.5294646021493246,
          2.5294643793233673,
          2.5294646076947536,
          2.5295661867864365,
          2.529464563405488,
          2.529464476987656,
          2.5294641668947406,
          2.5294645390830475,
          2.5294646053833456,
          2.52946457326048,
          2.529464590309016,
          2.5294645353795615,
          2.529464608074547,
          2.529464588207533,
          2.5294646168842863,
          2.52946460786799,
          2.5294645918807097,
          2.5294645457149203,
          2.5294645516896197,
          2.529464557340086,
          2.529464549583113,
          2.5294646041549127,
          2.5294645709371286,
          2.529464601102301,
          2.529464552692026,
          2.529464317916758,
          2.529464588361496,
          2.529464297780201,
          2.5294645839422536,
          2.5294646073180806,
          2.5294645697773754,
          2.529464609889757,
          2.5294646087348354,
          2.5294645343465754,
          2.5294645828227984,
          2.529464605137423,
          2.5294646036426736,
          2.5294644344356487,
          2.529464594867949,
          2.529464585987296,
          2.5294642388939184,
          2.529464567461015,
          2.5294645933541884,
          2.5294644703430813,
          2.5294645659442097,
          2.52946449057507,
          2.5294645989370146,
          2.529464581723839,
          2.52946459661886,
          2.5294645723574445,
          2.5294645661360238,
          2.5294645694963434,
          2.529464608143185,
          2.529464565257505,
          2.529464585287078,
          2.52946461748705,
          2.529464441974407,
          2.52946450263858,
          2.529464456177898,
          2.529464590439872,
          2.529464587540022,
          2.5294642040004858,
          2.529464609114939,
          2.529464574141122
         ]
        }
       ],
       "layout": {
        "template": {
         "data": {
          "bar": [
           {
            "error_x": {
             "color": "#2a3f5f"
            },
            "error_y": {
             "color": "#2a3f5f"
            },
            "marker": {
             "line": {
              "color": "#E5ECF6",
              "width": 0.5
             },
             "pattern": {
              "fillmode": "overlay",
              "size": 10,
              "solidity": 0.2
             }
            },
            "type": "bar"
           }
          ],
          "barpolar": [
           {
            "marker": {
             "line": {
              "color": "#E5ECF6",
              "width": 0.5
             },
             "pattern": {
              "fillmode": "overlay",
              "size": 10,
              "solidity": 0.2
             }
            },
            "type": "barpolar"
           }
          ],
          "carpet": [
           {
            "aaxis": {
             "endlinecolor": "#2a3f5f",
             "gridcolor": "white",
             "linecolor": "white",
             "minorgridcolor": "white",
             "startlinecolor": "#2a3f5f"
            },
            "baxis": {
             "endlinecolor": "#2a3f5f",
             "gridcolor": "white",
             "linecolor": "white",
             "minorgridcolor": "white",
             "startlinecolor": "#2a3f5f"
            },
            "type": "carpet"
           }
          ],
          "choropleth": [
           {
            "colorbar": {
             "outlinewidth": 0,
             "ticks": ""
            },
            "type": "choropleth"
           }
          ],
          "contour": [
           {
            "colorbar": {
             "outlinewidth": 0,
             "ticks": ""
            },
            "colorscale": [
             [
              0,
              "#0d0887"
             ],
             [
              0.1111111111111111,
              "#46039f"
             ],
             [
              0.2222222222222222,
              "#7201a8"
             ],
             [
              0.3333333333333333,
              "#9c179e"
             ],
             [
              0.4444444444444444,
              "#bd3786"
             ],
             [
              0.5555555555555556,
              "#d8576b"
             ],
             [
              0.6666666666666666,
              "#ed7953"
             ],
             [
              0.7777777777777778,
              "#fb9f3a"
             ],
             [
              0.8888888888888888,
              "#fdca26"
             ],
             [
              1,
              "#f0f921"
             ]
            ],
            "type": "contour"
           }
          ],
          "contourcarpet": [
           {
            "colorbar": {
             "outlinewidth": 0,
             "ticks": ""
            },
            "type": "contourcarpet"
           }
          ],
          "heatmap": [
           {
            "colorbar": {
             "outlinewidth": 0,
             "ticks": ""
            },
            "colorscale": [
             [
              0,
              "#0d0887"
             ],
             [
              0.1111111111111111,
              "#46039f"
             ],
             [
              0.2222222222222222,
              "#7201a8"
             ],
             [
              0.3333333333333333,
              "#9c179e"
             ],
             [
              0.4444444444444444,
              "#bd3786"
             ],
             [
              0.5555555555555556,
              "#d8576b"
             ],
             [
              0.6666666666666666,
              "#ed7953"
             ],
             [
              0.7777777777777778,
              "#fb9f3a"
             ],
             [
              0.8888888888888888,
              "#fdca26"
             ],
             [
              1,
              "#f0f921"
             ]
            ],
            "type": "heatmap"
           }
          ],
          "histogram": [
           {
            "marker": {
             "pattern": {
              "fillmode": "overlay",
              "size": 10,
              "solidity": 0.2
             }
            },
            "type": "histogram"
           }
          ],
          "histogram2d": [
           {
            "colorbar": {
             "outlinewidth": 0,
             "ticks": ""
            },
            "colorscale": [
             [
              0,
              "#0d0887"
             ],
             [
              0.1111111111111111,
              "#46039f"
             ],
             [
              0.2222222222222222,
              "#7201a8"
             ],
             [
              0.3333333333333333,
              "#9c179e"
             ],
             [
              0.4444444444444444,
              "#bd3786"
             ],
             [
              0.5555555555555556,
              "#d8576b"
             ],
             [
              0.6666666666666666,
              "#ed7953"
             ],
             [
              0.7777777777777778,
              "#fb9f3a"
             ],
             [
              0.8888888888888888,
              "#fdca26"
             ],
             [
              1,
              "#f0f921"
             ]
            ],
            "type": "histogram2d"
           }
          ],
          "histogram2dcontour": [
           {
            "colorbar": {
             "outlinewidth": 0,
             "ticks": ""
            },
            "colorscale": [
             [
              0,
              "#0d0887"
             ],
             [
              0.1111111111111111,
              "#46039f"
             ],
             [
              0.2222222222222222,
              "#7201a8"
             ],
             [
              0.3333333333333333,
              "#9c179e"
             ],
             [
              0.4444444444444444,
              "#bd3786"
             ],
             [
              0.5555555555555556,
              "#d8576b"
             ],
             [
              0.6666666666666666,
              "#ed7953"
             ],
             [
              0.7777777777777778,
              "#fb9f3a"
             ],
             [
              0.8888888888888888,
              "#fdca26"
             ],
             [
              1,
              "#f0f921"
             ]
            ],
            "type": "histogram2dcontour"
           }
          ],
          "mesh3d": [
           {
            "colorbar": {
             "outlinewidth": 0,
             "ticks": ""
            },
            "type": "mesh3d"
           }
          ],
          "parcoords": [
           {
            "line": {
             "colorbar": {
              "outlinewidth": 0,
              "ticks": ""
             }
            },
            "type": "parcoords"
           }
          ],
          "pie": [
           {
            "automargin": true,
            "type": "pie"
           }
          ],
          "scatter": [
           {
            "fillpattern": {
             "fillmode": "overlay",
             "size": 10,
             "solidity": 0.2
            },
            "type": "scatter"
           }
          ],
          "scatter3d": [
           {
            "line": {
             "colorbar": {
              "outlinewidth": 0,
              "ticks": ""
             }
            },
            "marker": {
             "colorbar": {
              "outlinewidth": 0,
              "ticks": ""
             }
            },
            "type": "scatter3d"
           }
          ],
          "scattercarpet": [
           {
            "marker": {
             "colorbar": {
              "outlinewidth": 0,
              "ticks": ""
             }
            },
            "type": "scattercarpet"
           }
          ],
          "scattergeo": [
           {
            "marker": {
             "colorbar": {
              "outlinewidth": 0,
              "ticks": ""
             }
            },
            "type": "scattergeo"
           }
          ],
          "scattergl": [
           {
            "marker": {
             "colorbar": {
              "outlinewidth": 0,
              "ticks": ""
             }
            },
            "type": "scattergl"
           }
          ],
          "scattermap": [
           {
            "marker": {
             "colorbar": {
              "outlinewidth": 0,
              "ticks": ""
             }
            },
            "type": "scattermap"
           }
          ],
          "scattermapbox": [
           {
            "marker": {
             "colorbar": {
              "outlinewidth": 0,
              "ticks": ""
             }
            },
            "type": "scattermapbox"
           }
          ],
          "scatterpolar": [
           {
            "marker": {
             "colorbar": {
              "outlinewidth": 0,
              "ticks": ""
             }
            },
            "type": "scatterpolar"
           }
          ],
          "scatterpolargl": [
           {
            "marker": {
             "colorbar": {
              "outlinewidth": 0,
              "ticks": ""
             }
            },
            "type": "scatterpolargl"
           }
          ],
          "scatterternary": [
           {
            "marker": {
             "colorbar": {
              "outlinewidth": 0,
              "ticks": ""
             }
            },
            "type": "scatterternary"
           }
          ],
          "surface": [
           {
            "colorbar": {
             "outlinewidth": 0,
             "ticks": ""
            },
            "colorscale": [
             [
              0,
              "#0d0887"
             ],
             [
              0.1111111111111111,
              "#46039f"
             ],
             [
              0.2222222222222222,
              "#7201a8"
             ],
             [
              0.3333333333333333,
              "#9c179e"
             ],
             [
              0.4444444444444444,
              "#bd3786"
             ],
             [
              0.5555555555555556,
              "#d8576b"
             ],
             [
              0.6666666666666666,
              "#ed7953"
             ],
             [
              0.7777777777777778,
              "#fb9f3a"
             ],
             [
              0.8888888888888888,
              "#fdca26"
             ],
             [
              1,
              "#f0f921"
             ]
            ],
            "type": "surface"
           }
          ],
          "table": [
           {
            "cells": {
             "fill": {
              "color": "#EBF0F8"
             },
             "line": {
              "color": "white"
             }
            },
            "header": {
             "fill": {
              "color": "#C8D4E3"
             },
             "line": {
              "color": "white"
             }
            },
            "type": "table"
           }
          ]
         },
         "layout": {
          "annotationdefaults": {
           "arrowcolor": "#2a3f5f",
           "arrowhead": 0,
           "arrowwidth": 1
          },
          "autotypenumbers": "strict",
          "coloraxis": {
           "colorbar": {
            "outlinewidth": 0,
            "ticks": ""
           }
          },
          "colorscale": {
           "diverging": [
            [
             0,
             "#8e0152"
            ],
            [
             0.1,
             "#c51b7d"
            ],
            [
             0.2,
             "#de77ae"
            ],
            [
             0.3,
             "#f1b6da"
            ],
            [
             0.4,
             "#fde0ef"
            ],
            [
             0.5,
             "#f7f7f7"
            ],
            [
             0.6,
             "#e6f5d0"
            ],
            [
             0.7,
             "#b8e186"
            ],
            [
             0.8,
             "#7fbc41"
            ],
            [
             0.9,
             "#4d9221"
            ],
            [
             1,
             "#276419"
            ]
           ],
           "sequential": [
            [
             0,
             "#0d0887"
            ],
            [
             0.1111111111111111,
             "#46039f"
            ],
            [
             0.2222222222222222,
             "#7201a8"
            ],
            [
             0.3333333333333333,
             "#9c179e"
            ],
            [
             0.4444444444444444,
             "#bd3786"
            ],
            [
             0.5555555555555556,
             "#d8576b"
            ],
            [
             0.6666666666666666,
             "#ed7953"
            ],
            [
             0.7777777777777778,
             "#fb9f3a"
            ],
            [
             0.8888888888888888,
             "#fdca26"
            ],
            [
             1,
             "#f0f921"
            ]
           ],
           "sequentialminus": [
            [
             0,
             "#0d0887"
            ],
            [
             0.1111111111111111,
             "#46039f"
            ],
            [
             0.2222222222222222,
             "#7201a8"
            ],
            [
             0.3333333333333333,
             "#9c179e"
            ],
            [
             0.4444444444444444,
             "#bd3786"
            ],
            [
             0.5555555555555556,
             "#d8576b"
            ],
            [
             0.6666666666666666,
             "#ed7953"
            ],
            [
             0.7777777777777778,
             "#fb9f3a"
            ],
            [
             0.8888888888888888,
             "#fdca26"
            ],
            [
             1,
             "#f0f921"
            ]
           ]
          },
          "colorway": [
           "#636efa",
           "#EF553B",
           "#00cc96",
           "#ab63fa",
           "#FFA15A",
           "#19d3f3",
           "#FF6692",
           "#B6E880",
           "#FF97FF",
           "#FECB52"
          ],
          "font": {
           "color": "#2a3f5f"
          },
          "geo": {
           "bgcolor": "white",
           "lakecolor": "white",
           "landcolor": "#E5ECF6",
           "showlakes": true,
           "showland": true,
           "subunitcolor": "white"
          },
          "hoverlabel": {
           "align": "left"
          },
          "hovermode": "closest",
          "mapbox": {
           "style": "light"
          },
          "paper_bgcolor": "white",
          "plot_bgcolor": "#E5ECF6",
          "polar": {
           "angularaxis": {
            "gridcolor": "white",
            "linecolor": "white",
            "ticks": ""
           },
           "bgcolor": "#E5ECF6",
           "radialaxis": {
            "gridcolor": "white",
            "linecolor": "white",
            "ticks": ""
           }
          },
          "scene": {
           "xaxis": {
            "backgroundcolor": "#E5ECF6",
            "gridcolor": "white",
            "gridwidth": 2,
            "linecolor": "white",
            "showbackground": true,
            "ticks": "",
            "zerolinecolor": "white"
           },
           "yaxis": {
            "backgroundcolor": "#E5ECF6",
            "gridcolor": "white",
            "gridwidth": 2,
            "linecolor": "white",
            "showbackground": true,
            "ticks": "",
            "zerolinecolor": "white"
           },
           "zaxis": {
            "backgroundcolor": "#E5ECF6",
            "gridcolor": "white",
            "gridwidth": 2,
            "linecolor": "white",
            "showbackground": true,
            "ticks": "",
            "zerolinecolor": "white"
           }
          },
          "shapedefaults": {
           "line": {
            "color": "#2a3f5f"
           }
          },
          "ternary": {
           "aaxis": {
            "gridcolor": "white",
            "linecolor": "white",
            "ticks": ""
           },
           "baxis": {
            "gridcolor": "white",
            "linecolor": "white",
            "ticks": ""
           },
           "bgcolor": "#E5ECF6",
           "caxis": {
            "gridcolor": "white",
            "linecolor": "white",
            "ticks": ""
           }
          },
          "title": {
           "x": 0.05
          },
          "xaxis": {
           "automargin": true,
           "gridcolor": "white",
           "linecolor": "white",
           "ticks": "",
           "title": {
            "standoff": 15
           },
           "zerolinecolor": "white",
           "zerolinewidth": 2
          },
          "yaxis": {
           "automargin": true,
           "gridcolor": "white",
           "linecolor": "white",
           "ticks": "",
           "title": {
            "standoff": 15
           },
           "zerolinecolor": "white",
           "zerolinewidth": 2
          }
         }
        },
        "title": {
         "text": "Sharpe Ratio Over Iterations"
        },
        "xaxis": {
         "title": {
          "text": "Iteration"
         }
        },
        "yaxis": {
         "title": {
          "text": "Sharpe Ratio"
         }
        }
       }
      }
     },
     "metadata": {},
     "output_type": "display_data"
    }
   ],
   "source": [
    "sharpe_ratios = [portfolio['sharpe'] for portfolio in total_portfolios]\n",
    "\n",
    "fig = go.Figure(data=go.Scatter(x=list(range(len(sharpe_ratios))), y=sharpe_ratios, mode='lines+markers'))\n",
    "fig.update_layout(title='Sharpe Ratio Over Iterations',\n",
    "                  xaxis_title='Iteration',\n",
    "                  yaxis_title='Sharpe Ratio',\n",
    "                  )\n",
    "fig.show()"
   ]
  },
  {
   "cell_type": "code",
   "execution_count": 126,
   "metadata": {},
   "outputs": [
    {
     "name": "stderr",
     "output_type": "stream",
     "text": [
      "  0%|          | 396/100000 [00:03<13:02, 127.22it/s]\n"
     ]
    },
    {
     "name": "stdout",
     "output_type": "stream",
     "text": [
      "All assets have been tested\n",
      "Average length of good portfolios: 26.0 Average iterations: 307.0 Std Dev: 0\n"
     ]
    },
    {
     "name": "stderr",
     "output_type": "stream",
     "text": [
      "  0%|          | 184/100000 [00:01<14:50, 112.14it/s]"
     ]
    },
    {
     "name": "stdout",
     "output_type": "stream",
     "text": [
      "All assets have been tested\n",
      "Final Weights: 0.8705475889959583 0.06673107567260751 0.06272133533143402\n",
      "Average length of good portfolios: 11.0 Average iterations: 95.0 Std Dev: 0\n"
     ]
    },
    {
     "name": "stderr",
     "output_type": "stream",
     "text": [
      "\n"
     ]
    }
   ],
   "source": [
    "def run_MLRBA_multiple_times(names, cov, annualized_returns, num_runs, version):\n",
    "    total_good_portfolios_length = 0\n",
    "    best_portfolios = []\n",
    "    best_iterations = []\n",
    "\n",
    "    for i in range(num_runs):\n",
    "        if version == 'v1':\n",
    "            _, best_portfolio, good_portfolios, _, best_iteration = MLRBA_V1(names, cov, annualized_returns)\n",
    "        elif version == 'v2':\n",
    "            _, best_portfolio, good_portfolios, _, best_iteration = MLRBA_V2(names, cov, annualized_returns)\n",
    "        \n",
    "        total_good_portfolios_length += len(good_portfolios)\n",
    "        best_portfolios.append(best_portfolio)\n",
    "        best_iterations.append(best_iteration)\n",
    "\n",
    "    average_length = total_good_portfolios_length / num_runs\n",
    "    average_iteration = statistics.fmean(best_iterations)\n",
    "    std_dev_iteration = statistics.stdev(best_iterations) if num_runs > 1 else 0\n",
    "\n",
    "    return average_length, best_portfolios, average_iteration, std_dev_iteration, best_iterations\n",
    "\n",
    "num_runs = 1\n",
    "average_good_portfolios_length_V1, _, average_iteration_V1, std_dev_V1, best_iterations_v1 = run_MLRBA_multiple_times(names, cov, annualized_returns, num_runs, 'v1')\n",
    "print(\"Average length of good portfolios:\", average_good_portfolios_length_V1, \"Average iterations:\", average_iteration_V1, \"Std Dev:\", std_dev_V1)\n",
    "\n",
    "average_good_portfolios_length_V2, _, average_iteration_V2, std_dev_V2, best_iterations_v2 = run_MLRBA_multiple_times(names, cov, annualized_returns, num_runs, 'v2')\n",
    "print(\"Average length of good portfolios:\", average_good_portfolios_length_V2, \"Average iterations:\", average_iteration_V2, \"Std Dev:\", std_dev_V2)"
   ]
  },
  {
   "cell_type": "code",
   "execution_count": 127,
   "metadata": {},
   "outputs": [
    {
     "data": {
      "application/vnd.plotly.v1+json": {
       "config": {
        "plotlyServerURL": "https://plot.ly"
       },
       "data": [
        {
         "mode": "lines",
         "name": "MLRBA V1",
         "type": "scatter",
         "x": [
          1
         ],
         "xaxis": "x",
         "y": [
          307
         ],
         "yaxis": "y"
        },
        {
         "mode": "lines",
         "name": "MLRBA V2",
         "type": "scatter",
         "x": [
          1
         ],
         "xaxis": "x",
         "y": [
          95
         ],
         "yaxis": "y"
        },
        {
         "error_y": {
          "array": [
           0
          ],
          "type": "data",
          "visible": true
         },
         "name": "MLRBA V1",
         "type": "bar",
         "width": 0.4,
         "x": [
          "MLRBA V1"
         ],
         "xaxis": "x2",
         "y": [
          307
         ],
         "yaxis": "y2"
        },
        {
         "error_y": {
          "array": [
           0
          ],
          "type": "data",
          "visible": true
         },
         "name": "MLRBA V2",
         "type": "bar",
         "width": 0.4,
         "x": [
          "MLRBA V2"
         ],
         "xaxis": "x2",
         "y": [
          95
         ],
         "yaxis": "y2"
        }
       ],
       "layout": {
        "annotations": [
         {
          "font": {
           "size": 16
          },
          "showarrow": false,
          "text": "Iterations to Reach Best Portfolio (Line Plot)",
          "x": 0.225,
          "xanchor": "center",
          "xref": "paper",
          "y": 1,
          "yanchor": "bottom",
          "yref": "paper"
         },
         {
          "font": {
           "size": 16
          },
          "showarrow": false,
          "text": "Iterations to Reach Best Portfolio (Bar Plot)",
          "x": 0.775,
          "xanchor": "center",
          "xref": "paper",
          "y": 1,
          "yanchor": "bottom",
          "yref": "paper"
         }
        ],
        "template": {
         "data": {
          "bar": [
           {
            "error_x": {
             "color": "#2a3f5f"
            },
            "error_y": {
             "color": "#2a3f5f"
            },
            "marker": {
             "line": {
              "color": "#E5ECF6",
              "width": 0.5
             },
             "pattern": {
              "fillmode": "overlay",
              "size": 10,
              "solidity": 0.2
             }
            },
            "type": "bar"
           }
          ],
          "barpolar": [
           {
            "marker": {
             "line": {
              "color": "#E5ECF6",
              "width": 0.5
             },
             "pattern": {
              "fillmode": "overlay",
              "size": 10,
              "solidity": 0.2
             }
            },
            "type": "barpolar"
           }
          ],
          "carpet": [
           {
            "aaxis": {
             "endlinecolor": "#2a3f5f",
             "gridcolor": "white",
             "linecolor": "white",
             "minorgridcolor": "white",
             "startlinecolor": "#2a3f5f"
            },
            "baxis": {
             "endlinecolor": "#2a3f5f",
             "gridcolor": "white",
             "linecolor": "white",
             "minorgridcolor": "white",
             "startlinecolor": "#2a3f5f"
            },
            "type": "carpet"
           }
          ],
          "choropleth": [
           {
            "colorbar": {
             "outlinewidth": 0,
             "ticks": ""
            },
            "type": "choropleth"
           }
          ],
          "contour": [
           {
            "colorbar": {
             "outlinewidth": 0,
             "ticks": ""
            },
            "colorscale": [
             [
              0,
              "#0d0887"
             ],
             [
              0.1111111111111111,
              "#46039f"
             ],
             [
              0.2222222222222222,
              "#7201a8"
             ],
             [
              0.3333333333333333,
              "#9c179e"
             ],
             [
              0.4444444444444444,
              "#bd3786"
             ],
             [
              0.5555555555555556,
              "#d8576b"
             ],
             [
              0.6666666666666666,
              "#ed7953"
             ],
             [
              0.7777777777777778,
              "#fb9f3a"
             ],
             [
              0.8888888888888888,
              "#fdca26"
             ],
             [
              1,
              "#f0f921"
             ]
            ],
            "type": "contour"
           }
          ],
          "contourcarpet": [
           {
            "colorbar": {
             "outlinewidth": 0,
             "ticks": ""
            },
            "type": "contourcarpet"
           }
          ],
          "heatmap": [
           {
            "colorbar": {
             "outlinewidth": 0,
             "ticks": ""
            },
            "colorscale": [
             [
              0,
              "#0d0887"
             ],
             [
              0.1111111111111111,
              "#46039f"
             ],
             [
              0.2222222222222222,
              "#7201a8"
             ],
             [
              0.3333333333333333,
              "#9c179e"
             ],
             [
              0.4444444444444444,
              "#bd3786"
             ],
             [
              0.5555555555555556,
              "#d8576b"
             ],
             [
              0.6666666666666666,
              "#ed7953"
             ],
             [
              0.7777777777777778,
              "#fb9f3a"
             ],
             [
              0.8888888888888888,
              "#fdca26"
             ],
             [
              1,
              "#f0f921"
             ]
            ],
            "type": "heatmap"
           }
          ],
          "histogram": [
           {
            "marker": {
             "pattern": {
              "fillmode": "overlay",
              "size": 10,
              "solidity": 0.2
             }
            },
            "type": "histogram"
           }
          ],
          "histogram2d": [
           {
            "colorbar": {
             "outlinewidth": 0,
             "ticks": ""
            },
            "colorscale": [
             [
              0,
              "#0d0887"
             ],
             [
              0.1111111111111111,
              "#46039f"
             ],
             [
              0.2222222222222222,
              "#7201a8"
             ],
             [
              0.3333333333333333,
              "#9c179e"
             ],
             [
              0.4444444444444444,
              "#bd3786"
             ],
             [
              0.5555555555555556,
              "#d8576b"
             ],
             [
              0.6666666666666666,
              "#ed7953"
             ],
             [
              0.7777777777777778,
              "#fb9f3a"
             ],
             [
              0.8888888888888888,
              "#fdca26"
             ],
             [
              1,
              "#f0f921"
             ]
            ],
            "type": "histogram2d"
           }
          ],
          "histogram2dcontour": [
           {
            "colorbar": {
             "outlinewidth": 0,
             "ticks": ""
            },
            "colorscale": [
             [
              0,
              "#0d0887"
             ],
             [
              0.1111111111111111,
              "#46039f"
             ],
             [
              0.2222222222222222,
              "#7201a8"
             ],
             [
              0.3333333333333333,
              "#9c179e"
             ],
             [
              0.4444444444444444,
              "#bd3786"
             ],
             [
              0.5555555555555556,
              "#d8576b"
             ],
             [
              0.6666666666666666,
              "#ed7953"
             ],
             [
              0.7777777777777778,
              "#fb9f3a"
             ],
             [
              0.8888888888888888,
              "#fdca26"
             ],
             [
              1,
              "#f0f921"
             ]
            ],
            "type": "histogram2dcontour"
           }
          ],
          "mesh3d": [
           {
            "colorbar": {
             "outlinewidth": 0,
             "ticks": ""
            },
            "type": "mesh3d"
           }
          ],
          "parcoords": [
           {
            "line": {
             "colorbar": {
              "outlinewidth": 0,
              "ticks": ""
             }
            },
            "type": "parcoords"
           }
          ],
          "pie": [
           {
            "automargin": true,
            "type": "pie"
           }
          ],
          "scatter": [
           {
            "fillpattern": {
             "fillmode": "overlay",
             "size": 10,
             "solidity": 0.2
            },
            "type": "scatter"
           }
          ],
          "scatter3d": [
           {
            "line": {
             "colorbar": {
              "outlinewidth": 0,
              "ticks": ""
             }
            },
            "marker": {
             "colorbar": {
              "outlinewidth": 0,
              "ticks": ""
             }
            },
            "type": "scatter3d"
           }
          ],
          "scattercarpet": [
           {
            "marker": {
             "colorbar": {
              "outlinewidth": 0,
              "ticks": ""
             }
            },
            "type": "scattercarpet"
           }
          ],
          "scattergeo": [
           {
            "marker": {
             "colorbar": {
              "outlinewidth": 0,
              "ticks": ""
             }
            },
            "type": "scattergeo"
           }
          ],
          "scattergl": [
           {
            "marker": {
             "colorbar": {
              "outlinewidth": 0,
              "ticks": ""
             }
            },
            "type": "scattergl"
           }
          ],
          "scattermap": [
           {
            "marker": {
             "colorbar": {
              "outlinewidth": 0,
              "ticks": ""
             }
            },
            "type": "scattermap"
           }
          ],
          "scattermapbox": [
           {
            "marker": {
             "colorbar": {
              "outlinewidth": 0,
              "ticks": ""
             }
            },
            "type": "scattermapbox"
           }
          ],
          "scatterpolar": [
           {
            "marker": {
             "colorbar": {
              "outlinewidth": 0,
              "ticks": ""
             }
            },
            "type": "scatterpolar"
           }
          ],
          "scatterpolargl": [
           {
            "marker": {
             "colorbar": {
              "outlinewidth": 0,
              "ticks": ""
             }
            },
            "type": "scatterpolargl"
           }
          ],
          "scatterternary": [
           {
            "marker": {
             "colorbar": {
              "outlinewidth": 0,
              "ticks": ""
             }
            },
            "type": "scatterternary"
           }
          ],
          "surface": [
           {
            "colorbar": {
             "outlinewidth": 0,
             "ticks": ""
            },
            "colorscale": [
             [
              0,
              "#0d0887"
             ],
             [
              0.1111111111111111,
              "#46039f"
             ],
             [
              0.2222222222222222,
              "#7201a8"
             ],
             [
              0.3333333333333333,
              "#9c179e"
             ],
             [
              0.4444444444444444,
              "#bd3786"
             ],
             [
              0.5555555555555556,
              "#d8576b"
             ],
             [
              0.6666666666666666,
              "#ed7953"
             ],
             [
              0.7777777777777778,
              "#fb9f3a"
             ],
             [
              0.8888888888888888,
              "#fdca26"
             ],
             [
              1,
              "#f0f921"
             ]
            ],
            "type": "surface"
           }
          ],
          "table": [
           {
            "cells": {
             "fill": {
              "color": "#EBF0F8"
             },
             "line": {
              "color": "white"
             }
            },
            "header": {
             "fill": {
              "color": "#C8D4E3"
             },
             "line": {
              "color": "white"
             }
            },
            "type": "table"
           }
          ]
         },
         "layout": {
          "annotationdefaults": {
           "arrowcolor": "#2a3f5f",
           "arrowhead": 0,
           "arrowwidth": 1
          },
          "autotypenumbers": "strict",
          "coloraxis": {
           "colorbar": {
            "outlinewidth": 0,
            "ticks": ""
           }
          },
          "colorscale": {
           "diverging": [
            [
             0,
             "#8e0152"
            ],
            [
             0.1,
             "#c51b7d"
            ],
            [
             0.2,
             "#de77ae"
            ],
            [
             0.3,
             "#f1b6da"
            ],
            [
             0.4,
             "#fde0ef"
            ],
            [
             0.5,
             "#f7f7f7"
            ],
            [
             0.6,
             "#e6f5d0"
            ],
            [
             0.7,
             "#b8e186"
            ],
            [
             0.8,
             "#7fbc41"
            ],
            [
             0.9,
             "#4d9221"
            ],
            [
             1,
             "#276419"
            ]
           ],
           "sequential": [
            [
             0,
             "#0d0887"
            ],
            [
             0.1111111111111111,
             "#46039f"
            ],
            [
             0.2222222222222222,
             "#7201a8"
            ],
            [
             0.3333333333333333,
             "#9c179e"
            ],
            [
             0.4444444444444444,
             "#bd3786"
            ],
            [
             0.5555555555555556,
             "#d8576b"
            ],
            [
             0.6666666666666666,
             "#ed7953"
            ],
            [
             0.7777777777777778,
             "#fb9f3a"
            ],
            [
             0.8888888888888888,
             "#fdca26"
            ],
            [
             1,
             "#f0f921"
            ]
           ],
           "sequentialminus": [
            [
             0,
             "#0d0887"
            ],
            [
             0.1111111111111111,
             "#46039f"
            ],
            [
             0.2222222222222222,
             "#7201a8"
            ],
            [
             0.3333333333333333,
             "#9c179e"
            ],
            [
             0.4444444444444444,
             "#bd3786"
            ],
            [
             0.5555555555555556,
             "#d8576b"
            ],
            [
             0.6666666666666666,
             "#ed7953"
            ],
            [
             0.7777777777777778,
             "#fb9f3a"
            ],
            [
             0.8888888888888888,
             "#fdca26"
            ],
            [
             1,
             "#f0f921"
            ]
           ]
          },
          "colorway": [
           "#636efa",
           "#EF553B",
           "#00cc96",
           "#ab63fa",
           "#FFA15A",
           "#19d3f3",
           "#FF6692",
           "#B6E880",
           "#FF97FF",
           "#FECB52"
          ],
          "font": {
           "color": "#2a3f5f"
          },
          "geo": {
           "bgcolor": "white",
           "lakecolor": "white",
           "landcolor": "#E5ECF6",
           "showlakes": true,
           "showland": true,
           "subunitcolor": "white"
          },
          "hoverlabel": {
           "align": "left"
          },
          "hovermode": "closest",
          "mapbox": {
           "style": "light"
          },
          "paper_bgcolor": "white",
          "plot_bgcolor": "#E5ECF6",
          "polar": {
           "angularaxis": {
            "gridcolor": "white",
            "linecolor": "white",
            "ticks": ""
           },
           "bgcolor": "#E5ECF6",
           "radialaxis": {
            "gridcolor": "white",
            "linecolor": "white",
            "ticks": ""
           }
          },
          "scene": {
           "xaxis": {
            "backgroundcolor": "#E5ECF6",
            "gridcolor": "white",
            "gridwidth": 2,
            "linecolor": "white",
            "showbackground": true,
            "ticks": "",
            "zerolinecolor": "white"
           },
           "yaxis": {
            "backgroundcolor": "#E5ECF6",
            "gridcolor": "white",
            "gridwidth": 2,
            "linecolor": "white",
            "showbackground": true,
            "ticks": "",
            "zerolinecolor": "white"
           },
           "zaxis": {
            "backgroundcolor": "#E5ECF6",
            "gridcolor": "white",
            "gridwidth": 2,
            "linecolor": "white",
            "showbackground": true,
            "ticks": "",
            "zerolinecolor": "white"
           }
          },
          "shapedefaults": {
           "line": {
            "color": "#2a3f5f"
           }
          },
          "ternary": {
           "aaxis": {
            "gridcolor": "white",
            "linecolor": "white",
            "ticks": ""
           },
           "baxis": {
            "gridcolor": "white",
            "linecolor": "white",
            "ticks": ""
           },
           "bgcolor": "#E5ECF6",
           "caxis": {
            "gridcolor": "white",
            "linecolor": "white",
            "ticks": ""
           }
          },
          "title": {
           "x": 0.05
          },
          "xaxis": {
           "automargin": true,
           "gridcolor": "white",
           "linecolor": "white",
           "ticks": "",
           "title": {
            "standoff": 15
           },
           "zerolinecolor": "white",
           "zerolinewidth": 2
          },
          "yaxis": {
           "automargin": true,
           "gridcolor": "white",
           "linecolor": "white",
           "ticks": "",
           "title": {
            "standoff": 15
           },
           "zerolinecolor": "white",
           "zerolinewidth": 2
          }
         }
        },
        "xaxis": {
         "anchor": "y",
         "domain": [
          0,
          0.45
         ],
         "title": {
          "text": "Run Number"
         }
        },
        "xaxis2": {
         "anchor": "y2",
         "domain": [
          0.55,
          1
         ],
         "title": {
          "text": "Run Number"
         }
        },
        "yaxis": {
         "anchor": "x",
         "domain": [
          0,
          1
         ],
         "title": {
          "text": "Average Number of Iterations to Best Portfolio"
         }
        },
        "yaxis2": {
         "anchor": "x2",
         "domain": [
          0,
          1
         ],
         "title": {
          "text": "Average Number of Iterations to Best Portfolio"
         }
        }
       }
      }
     },
     "metadata": {},
     "output_type": "display_data"
    }
   ],
   "source": [
    "import plotly.graph_objects as go\n",
    "from plotly.subplots import make_subplots\n",
    "\n",
    "fig = make_subplots(\n",
    "    rows=1, cols=2,\n",
    "    subplot_titles=[\n",
    "        \"Iterations to Reach Best Portfolio (Line Plot)\",\n",
    "        \"Iterations to Reach Best Portfolio (Bar Plot)\"\n",
    "    ],)\n",
    "\n",
    "fig.add_trace(\n",
    "    go.Scatter(x=list(range(1, num_runs + 1)), y=best_iterations_v1, mode='lines', name='MLRBA V1'),\n",
    "    row=1, col=1\n",
    ")\n",
    "fig.add_trace(\n",
    "    go.Scatter(x=list(range(1, num_runs + 1)), y=best_iterations_v2, mode='lines', name='MLRBA V2'),\n",
    "    row=1, col=1\n",
    ")\n",
    "fig.update_xaxes(title_text='Run Number', row=1, col=1)\n",
    "fig.update_yaxes(title_text='Average Number of Iterations to Best Portfolio', row=1, col=1)\n",
    "\n",
    "fig.add_trace(\n",
    "    go.Bar(x=['MLRBA V1'], y=[average_iteration_V1], name='MLRBA V1', width=0.4,\n",
    "           error_y=dict(type='data', array=[std_dev_V1], visible=True)),\n",
    "    row=1, col=2\n",
    ")\n",
    "fig.add_trace(\n",
    "    go.Bar(x=['MLRBA V2'], y=[average_iteration_V2], name='MLRBA V2', width=0.4,\n",
    "           error_y=dict(type='data', array=[std_dev_V2], visible=True)),\n",
    "    row=1, col=2\n",
    ")\n",
    "fig.update_xaxes(title_text='Run Number', row=1, col=2)\n",
    "fig.update_yaxes(title_text='Average Number of Iterations to Best Portfolio', row=1, col=2)\n",
    "\n",
    "fig.show()"
   ]
  },
  {
   "cell_type": "markdown",
   "metadata": {},
   "source": [
    "## 6.0 Portfolio Prediction using LSTM"
   ]
  },
  {
   "cell_type": "code",
   "execution_count": 161,
   "metadata": {},
   "outputs": [],
   "source": [
    "class PortfolioPredictor:\n",
    "    def __init__(self, raw_data_train, raw_data_test, best_portfolio, n_steps=3, epochs=50, batch_size=32):\n",
    "        self.raw_data_train = raw_data_train\n",
    "        self.raw_data_test = raw_data_test\n",
    "        self.best_portfolio = best_portfolio\n",
    "        self.n_steps = n_steps\n",
    "        self.epochs = epochs\n",
    "        self.batch_size = batch_size\n",
    "        self.model = None\n",
    "        self.history = None\n",
    "\n",
    "    def preprocess_data(self):\n",
    "        # Selecting data for the tickers\n",
    "        best_portfolio_data_train = self.raw_data_train[self.best_portfolio['tickers']]\n",
    "        best_portfolio_data_test = self.raw_data_test[self.best_portfolio['tickers']]\n",
    "        weights = np.array(self.best_portfolio['weights'])\n",
    "\n",
    "        # Scaling the data\n",
    "        scaler = MinMaxScaler(feature_range=(0, 1))\n",
    "        normalized_train_data = scaler.fit_transform(best_portfolio_data_train)\n",
    "        normalized_test_data = scaler.transform(best_portfolio_data_test)\n",
    "\n",
    "        # Calculating weighted returns\n",
    "        self.weighted_returns_train = np.dot(normalized_train_data, weights)\n",
    "        self.weighted_returns_test = np.dot(normalized_test_data, weights)\n",
    "\n",
    "    def create_datasets(self, data):\n",
    "        X, y = [], []\n",
    "        for i in range(self.n_steps, len(data)):\n",
    "            X.append(data[i - self.n_steps:i, :])\n",
    "            y.append(data[i, :])\n",
    "        return np.array(X), np.array(y)\n",
    "\n",
    "    def build_model(self):\n",
    "        self.model = Sequential([\n",
    "            LSTM(50, activation='relu', return_sequences=True),\n",
    "            Dropout(0.2),\n",
    "            LSTM(50, activation='relu', return_sequences=False),\n",
    "            Dropout(0.2),\n",
    "            Dense(1),\n",
    "        ])\n",
    "\n",
    "        def tf_weighted_mse(y_true, y_pred, power=3):\n",
    "            n = tf.shape(y_true)[0]\n",
    "            normalized_index = tf.cond(\n",
    "                tf.equal(n, 1),\n",
    "                lambda: tf.ones([n], dtype=tf.float32),\n",
    "                lambda: tf.cast(tf.range(n), tf.float32) / tf.cast(n - 1, tf.float32)\n",
    "            )\n",
    "            weights = tf.pow(normalized_index, power)\n",
    "            weights += 1e-6\n",
    "            weights /= tf.reduce_sum(weights)\n",
    "            \n",
    "            squared_errors = tf.square(y_true - y_pred)\n",
    "            weighted_squared_errors = weights * squared_errors\n",
    "            return tf.reduce_mean(weighted_squared_errors)\n",
    "\n",
    "        self.model.compile(optimizer='adam', loss=tf_weighted_mse)\n",
    "\n",
    "    def train_model(self):\n",
    "        X_train_weighted, y_train_weighted = self.create_datasets(self.weighted_returns_train.reshape(-1, 1))\n",
    "        self.history = self.model.fit(X_train_weighted, y_train_weighted, epochs=self.epochs, batch_size=self.batch_size, validation_split=0.1, verbose=0)\n",
    "\n",
    "    def predict(self, predict_days=None):\n",
    "        # Generate test set data\n",
    "        X_test_weighted, y_test_weighted = self.create_datasets(self.weighted_returns_test.reshape(-1, 1))\n",
    "        \n",
    "        # Determine the number of predictions based on predict_days\n",
    "        if predict_days is not None:\n",
    "            # Ensure that predict_days does not exceed the length of X_test_weighted\n",
    "            predict_days = min(predict_days, len(X_test_weighted))\n",
    "            # Slice the last 'predict_days' entries for prediction\n",
    "            X_test_to_predict = X_test_weighted[-predict_days:]\n",
    "            self.predictions = self.model.predict(X_test_to_predict)\n",
    "            self.y_test_weighted = y_test_weighted[-predict_days:]\n",
    "        else:\n",
    "            self.predictions = self.model.predict(X_test_weighted)\n",
    "            self.y_test_weighted = y_test_weighted\n",
    "        \n",
    "        # Normalize and compute cumulative returns for the predicted period\n",
    "        return self.predictions\n",
    "        \n",
    "    def plot_loss(self):\n",
    "        fig = go.Figure()\n",
    "        fig.add_trace(go.Scatter(x=np.arange(1, len(self.history.history['loss'])+1), y=self.history.history['loss'], mode='lines', name='Training Loss'))\n",
    "        fig.add_trace(go.Scatter(x=np.arange(1, len(self.history.history['val_loss'])+1), y=self.history.history['val_loss'], mode='lines', name='Validation Loss'))\n",
    "        fig.update_layout(title='Training and Validation Loss Over Epochs',\n",
    "                          xaxis_title='Epoch',\n",
    "                          yaxis_title='Loss',\n",
    "                          legend_title='Type of Loss')\n",
    "        fig.show()\n",
    "\n",
    "    def plot_predictions(self):\n",
    "        normalized_test = self.normalize_cumulative_returns(self.y_test_weighted)\n",
    "        normalized_predicted = self.normalize_cumulative_returns(self.predictions)\n",
    "\n",
    "        fig = go.Figure()\n",
    "        fig.add_trace(go.Scatter(x=self.raw_data_test.index[-len(normalized_test):], y=normalized_test, mode='lines', name='Actual Weighted Returns'))\n",
    "        fig.add_trace(go.Scatter(x=self.raw_data_test.index[-len(normalized_predicted):], y=normalized_predicted, mode='lines', name='Predicted Weighted Returns'))\n",
    "        fig.update_layout(title='Actual vs Predicted Weighted Portfolio Returns',\n",
    "                          xaxis_title='Date',\n",
    "                          yaxis_title='Weighted Returns',\n",
    "                          legend_title='Type')\n",
    "        fig.show()\n",
    "\n",
    "    def normalize_cumulative_returns(self, data):\n",
    "        data_series = pd.Series(data.flatten())\n",
    "        percentage_changes = data_series.pct_change()\n",
    "        cumulative_returns = (1 + percentage_changes).cumprod()\n",
    "        start_value = cumulative_returns.iloc[1]\n",
    "        normalized_returns = (cumulative_returns / start_value) * 100\n",
    "        return normalized_returns\n",
    "    \n"
   ]
  },
  {
   "cell_type": "code",
   "execution_count": 162,
   "metadata": {},
   "outputs": [
    {
     "name": "stdout",
     "output_type": "stream",
     "text": [
      "\u001b[1m8/8\u001b[0m \u001b[32m━━━━━━━━━━━━━━━━━━━━\u001b[0m\u001b[37m\u001b[0m \u001b[1m0s\u001b[0m 24ms/step\n"
     ]
    },
    {
     "data": {
      "application/vnd.plotly.v1+json": {
       "config": {
        "plotlyServerURL": "https://plot.ly"
       },
       "data": [
        {
         "mode": "lines",
         "name": "Training Loss",
         "type": "scatter",
         "x": {
          "bdata": "AQIDBAUGBwgJCgsMDQ4PEBESExQVFhcYGRobHB0eHyAhIiMkJSYnKCkqKywtLi8wMTI=",
          "dtype": "i1"
         },
         "y": [
          0.0072140926495194435,
          0.006719587836414576,
          0.005520589184015989,
          0.00528513640165329,
          0.005676287692040205,
          0.0057148318737745285,
          0.0048429835587739944,
          0.005432226229459047,
          0.004555154591798782,
          0.005679461173713207,
          0.003850163659080863,
          0.0037040002644062042,
          0.003631345694884658,
          0.004368345253169537,
          0.003992693033069372,
          0.002729445928707719,
          0.0029976828955113888,
          0.0022937289904803038,
          0.0028334714006632566,
          0.0020015400368720293,
          0.0024074604734778404,
          0.0017195286927744746,
          0.0014703484484925866,
          0.0017469041049480438,
          0.00130044249817729,
          0.0011273612035438418,
          0.0012581078335642815,
          0.001036399626173079,
          0.0011259655002504587,
          0.001047224272042513,
          0.0009414578671567142,
          0.0010737378615885973,
          0.0008966572931967676,
          0.001067182864062488,
          0.0008989376365207136,
          0.0008654805715195835,
          0.0009907686617225409,
          0.001004414283670485,
          0.000904263521078974,
          0.0008668258669786155,
          0.001090930076315999,
          0.0010734129464253783,
          0.0010398079175502062,
          0.0010086048860102892,
          0.001024435507133603,
          0.0008878000662662089,
          0.0008291942649520934,
          0.0008505708537995815,
          0.0010337012354284525,
          0.0011717407032847404
         ]
        },
        {
         "mode": "lines",
         "name": "Validation Loss",
         "type": "scatter",
         "x": {
          "bdata": "AQIDBAUGBwgJCgsMDQ4PEBESExQVFhcYGRobHB0eHyAhIiMkJSYnKCkqKywtLi8wMTI=",
          "dtype": "i1"
         },
         "y": [
          0.02706293575465679,
          0.026305049657821655,
          0.02570982463657856,
          0.02524929866194725,
          0.024810032919049263,
          0.024187253788113594,
          0.023448321968317032,
          0.022783590480685234,
          0.021924776956439018,
          0.021093381568789482,
          0.02012448199093342,
          0.019494233652949333,
          0.018877895548939705,
          0.01811189576983452,
          0.01693015545606613,
          0.015672167763113976,
          0.014859086833894253,
          0.013888687826693058,
          0.01320455502718687,
          0.012034209445118904,
          0.011121803894639015,
          0.009855849668383598,
          0.00893484614789486,
          0.00839607510715723,
          0.0073093269020318985,
          0.0063962992280721664,
          0.00614636205136776,
          0.006290934514254332,
          0.005963072180747986,
          0.00536925345659256,
          0.00523591972887516,
          0.004888792056590319,
          0.005011926870793104,
          0.004951195791363716,
          0.004439822398126125,
          0.004292952362447977,
          0.004228127654641867,
          0.004482288844883442,
          0.0048661851324141026,
          0.005028075538575649,
          0.004708374384790659,
          0.0038425433449447155,
          0.002873696619644761,
          0.0022366566117852926,
          0.002278113504871726,
          0.002622854895889759,
          0.002804739633575082,
          0.002808105666190386,
          0.002500147558748722,
          0.0027724849060177803
         ]
        }
       ],
       "layout": {
        "legend": {
         "title": {
          "text": "Type of Loss"
         }
        },
        "template": {
         "data": {
          "bar": [
           {
            "error_x": {
             "color": "#2a3f5f"
            },
            "error_y": {
             "color": "#2a3f5f"
            },
            "marker": {
             "line": {
              "color": "#E5ECF6",
              "width": 0.5
             },
             "pattern": {
              "fillmode": "overlay",
              "size": 10,
              "solidity": 0.2
             }
            },
            "type": "bar"
           }
          ],
          "barpolar": [
           {
            "marker": {
             "line": {
              "color": "#E5ECF6",
              "width": 0.5
             },
             "pattern": {
              "fillmode": "overlay",
              "size": 10,
              "solidity": 0.2
             }
            },
            "type": "barpolar"
           }
          ],
          "carpet": [
           {
            "aaxis": {
             "endlinecolor": "#2a3f5f",
             "gridcolor": "white",
             "linecolor": "white",
             "minorgridcolor": "white",
             "startlinecolor": "#2a3f5f"
            },
            "baxis": {
             "endlinecolor": "#2a3f5f",
             "gridcolor": "white",
             "linecolor": "white",
             "minorgridcolor": "white",
             "startlinecolor": "#2a3f5f"
            },
            "type": "carpet"
           }
          ],
          "choropleth": [
           {
            "colorbar": {
             "outlinewidth": 0,
             "ticks": ""
            },
            "type": "choropleth"
           }
          ],
          "contour": [
           {
            "colorbar": {
             "outlinewidth": 0,
             "ticks": ""
            },
            "colorscale": [
             [
              0,
              "#0d0887"
             ],
             [
              0.1111111111111111,
              "#46039f"
             ],
             [
              0.2222222222222222,
              "#7201a8"
             ],
             [
              0.3333333333333333,
              "#9c179e"
             ],
             [
              0.4444444444444444,
              "#bd3786"
             ],
             [
              0.5555555555555556,
              "#d8576b"
             ],
             [
              0.6666666666666666,
              "#ed7953"
             ],
             [
              0.7777777777777778,
              "#fb9f3a"
             ],
             [
              0.8888888888888888,
              "#fdca26"
             ],
             [
              1,
              "#f0f921"
             ]
            ],
            "type": "contour"
           }
          ],
          "contourcarpet": [
           {
            "colorbar": {
             "outlinewidth": 0,
             "ticks": ""
            },
            "type": "contourcarpet"
           }
          ],
          "heatmap": [
           {
            "colorbar": {
             "outlinewidth": 0,
             "ticks": ""
            },
            "colorscale": [
             [
              0,
              "#0d0887"
             ],
             [
              0.1111111111111111,
              "#46039f"
             ],
             [
              0.2222222222222222,
              "#7201a8"
             ],
             [
              0.3333333333333333,
              "#9c179e"
             ],
             [
              0.4444444444444444,
              "#bd3786"
             ],
             [
              0.5555555555555556,
              "#d8576b"
             ],
             [
              0.6666666666666666,
              "#ed7953"
             ],
             [
              0.7777777777777778,
              "#fb9f3a"
             ],
             [
              0.8888888888888888,
              "#fdca26"
             ],
             [
              1,
              "#f0f921"
             ]
            ],
            "type": "heatmap"
           }
          ],
          "histogram": [
           {
            "marker": {
             "pattern": {
              "fillmode": "overlay",
              "size": 10,
              "solidity": 0.2
             }
            },
            "type": "histogram"
           }
          ],
          "histogram2d": [
           {
            "colorbar": {
             "outlinewidth": 0,
             "ticks": ""
            },
            "colorscale": [
             [
              0,
              "#0d0887"
             ],
             [
              0.1111111111111111,
              "#46039f"
             ],
             [
              0.2222222222222222,
              "#7201a8"
             ],
             [
              0.3333333333333333,
              "#9c179e"
             ],
             [
              0.4444444444444444,
              "#bd3786"
             ],
             [
              0.5555555555555556,
              "#d8576b"
             ],
             [
              0.6666666666666666,
              "#ed7953"
             ],
             [
              0.7777777777777778,
              "#fb9f3a"
             ],
             [
              0.8888888888888888,
              "#fdca26"
             ],
             [
              1,
              "#f0f921"
             ]
            ],
            "type": "histogram2d"
           }
          ],
          "histogram2dcontour": [
           {
            "colorbar": {
             "outlinewidth": 0,
             "ticks": ""
            },
            "colorscale": [
             [
              0,
              "#0d0887"
             ],
             [
              0.1111111111111111,
              "#46039f"
             ],
             [
              0.2222222222222222,
              "#7201a8"
             ],
             [
              0.3333333333333333,
              "#9c179e"
             ],
             [
              0.4444444444444444,
              "#bd3786"
             ],
             [
              0.5555555555555556,
              "#d8576b"
             ],
             [
              0.6666666666666666,
              "#ed7953"
             ],
             [
              0.7777777777777778,
              "#fb9f3a"
             ],
             [
              0.8888888888888888,
              "#fdca26"
             ],
             [
              1,
              "#f0f921"
             ]
            ],
            "type": "histogram2dcontour"
           }
          ],
          "mesh3d": [
           {
            "colorbar": {
             "outlinewidth": 0,
             "ticks": ""
            },
            "type": "mesh3d"
           }
          ],
          "parcoords": [
           {
            "line": {
             "colorbar": {
              "outlinewidth": 0,
              "ticks": ""
             }
            },
            "type": "parcoords"
           }
          ],
          "pie": [
           {
            "automargin": true,
            "type": "pie"
           }
          ],
          "scatter": [
           {
            "fillpattern": {
             "fillmode": "overlay",
             "size": 10,
             "solidity": 0.2
            },
            "type": "scatter"
           }
          ],
          "scatter3d": [
           {
            "line": {
             "colorbar": {
              "outlinewidth": 0,
              "ticks": ""
             }
            },
            "marker": {
             "colorbar": {
              "outlinewidth": 0,
              "ticks": ""
             }
            },
            "type": "scatter3d"
           }
          ],
          "scattercarpet": [
           {
            "marker": {
             "colorbar": {
              "outlinewidth": 0,
              "ticks": ""
             }
            },
            "type": "scattercarpet"
           }
          ],
          "scattergeo": [
           {
            "marker": {
             "colorbar": {
              "outlinewidth": 0,
              "ticks": ""
             }
            },
            "type": "scattergeo"
           }
          ],
          "scattergl": [
           {
            "marker": {
             "colorbar": {
              "outlinewidth": 0,
              "ticks": ""
             }
            },
            "type": "scattergl"
           }
          ],
          "scattermap": [
           {
            "marker": {
             "colorbar": {
              "outlinewidth": 0,
              "ticks": ""
             }
            },
            "type": "scattermap"
           }
          ],
          "scattermapbox": [
           {
            "marker": {
             "colorbar": {
              "outlinewidth": 0,
              "ticks": ""
             }
            },
            "type": "scattermapbox"
           }
          ],
          "scatterpolar": [
           {
            "marker": {
             "colorbar": {
              "outlinewidth": 0,
              "ticks": ""
             }
            },
            "type": "scatterpolar"
           }
          ],
          "scatterpolargl": [
           {
            "marker": {
             "colorbar": {
              "outlinewidth": 0,
              "ticks": ""
             }
            },
            "type": "scatterpolargl"
           }
          ],
          "scatterternary": [
           {
            "marker": {
             "colorbar": {
              "outlinewidth": 0,
              "ticks": ""
             }
            },
            "type": "scatterternary"
           }
          ],
          "surface": [
           {
            "colorbar": {
             "outlinewidth": 0,
             "ticks": ""
            },
            "colorscale": [
             [
              0,
              "#0d0887"
             ],
             [
              0.1111111111111111,
              "#46039f"
             ],
             [
              0.2222222222222222,
              "#7201a8"
             ],
             [
              0.3333333333333333,
              "#9c179e"
             ],
             [
              0.4444444444444444,
              "#bd3786"
             ],
             [
              0.5555555555555556,
              "#d8576b"
             ],
             [
              0.6666666666666666,
              "#ed7953"
             ],
             [
              0.7777777777777778,
              "#fb9f3a"
             ],
             [
              0.8888888888888888,
              "#fdca26"
             ],
             [
              1,
              "#f0f921"
             ]
            ],
            "type": "surface"
           }
          ],
          "table": [
           {
            "cells": {
             "fill": {
              "color": "#EBF0F8"
             },
             "line": {
              "color": "white"
             }
            },
            "header": {
             "fill": {
              "color": "#C8D4E3"
             },
             "line": {
              "color": "white"
             }
            },
            "type": "table"
           }
          ]
         },
         "layout": {
          "annotationdefaults": {
           "arrowcolor": "#2a3f5f",
           "arrowhead": 0,
           "arrowwidth": 1
          },
          "autotypenumbers": "strict",
          "coloraxis": {
           "colorbar": {
            "outlinewidth": 0,
            "ticks": ""
           }
          },
          "colorscale": {
           "diverging": [
            [
             0,
             "#8e0152"
            ],
            [
             0.1,
             "#c51b7d"
            ],
            [
             0.2,
             "#de77ae"
            ],
            [
             0.3,
             "#f1b6da"
            ],
            [
             0.4,
             "#fde0ef"
            ],
            [
             0.5,
             "#f7f7f7"
            ],
            [
             0.6,
             "#e6f5d0"
            ],
            [
             0.7,
             "#b8e186"
            ],
            [
             0.8,
             "#7fbc41"
            ],
            [
             0.9,
             "#4d9221"
            ],
            [
             1,
             "#276419"
            ]
           ],
           "sequential": [
            [
             0,
             "#0d0887"
            ],
            [
             0.1111111111111111,
             "#46039f"
            ],
            [
             0.2222222222222222,
             "#7201a8"
            ],
            [
             0.3333333333333333,
             "#9c179e"
            ],
            [
             0.4444444444444444,
             "#bd3786"
            ],
            [
             0.5555555555555556,
             "#d8576b"
            ],
            [
             0.6666666666666666,
             "#ed7953"
            ],
            [
             0.7777777777777778,
             "#fb9f3a"
            ],
            [
             0.8888888888888888,
             "#fdca26"
            ],
            [
             1,
             "#f0f921"
            ]
           ],
           "sequentialminus": [
            [
             0,
             "#0d0887"
            ],
            [
             0.1111111111111111,
             "#46039f"
            ],
            [
             0.2222222222222222,
             "#7201a8"
            ],
            [
             0.3333333333333333,
             "#9c179e"
            ],
            [
             0.4444444444444444,
             "#bd3786"
            ],
            [
             0.5555555555555556,
             "#d8576b"
            ],
            [
             0.6666666666666666,
             "#ed7953"
            ],
            [
             0.7777777777777778,
             "#fb9f3a"
            ],
            [
             0.8888888888888888,
             "#fdca26"
            ],
            [
             1,
             "#f0f921"
            ]
           ]
          },
          "colorway": [
           "#636efa",
           "#EF553B",
           "#00cc96",
           "#ab63fa",
           "#FFA15A",
           "#19d3f3",
           "#FF6692",
           "#B6E880",
           "#FF97FF",
           "#FECB52"
          ],
          "font": {
           "color": "#2a3f5f"
          },
          "geo": {
           "bgcolor": "white",
           "lakecolor": "white",
           "landcolor": "#E5ECF6",
           "showlakes": true,
           "showland": true,
           "subunitcolor": "white"
          },
          "hoverlabel": {
           "align": "left"
          },
          "hovermode": "closest",
          "mapbox": {
           "style": "light"
          },
          "paper_bgcolor": "white",
          "plot_bgcolor": "#E5ECF6",
          "polar": {
           "angularaxis": {
            "gridcolor": "white",
            "linecolor": "white",
            "ticks": ""
           },
           "bgcolor": "#E5ECF6",
           "radialaxis": {
            "gridcolor": "white",
            "linecolor": "white",
            "ticks": ""
           }
          },
          "scene": {
           "xaxis": {
            "backgroundcolor": "#E5ECF6",
            "gridcolor": "white",
            "gridwidth": 2,
            "linecolor": "white",
            "showbackground": true,
            "ticks": "",
            "zerolinecolor": "white"
           },
           "yaxis": {
            "backgroundcolor": "#E5ECF6",
            "gridcolor": "white",
            "gridwidth": 2,
            "linecolor": "white",
            "showbackground": true,
            "ticks": "",
            "zerolinecolor": "white"
           },
           "zaxis": {
            "backgroundcolor": "#E5ECF6",
            "gridcolor": "white",
            "gridwidth": 2,
            "linecolor": "white",
            "showbackground": true,
            "ticks": "",
            "zerolinecolor": "white"
           }
          },
          "shapedefaults": {
           "line": {
            "color": "#2a3f5f"
           }
          },
          "ternary": {
           "aaxis": {
            "gridcolor": "white",
            "linecolor": "white",
            "ticks": ""
           },
           "baxis": {
            "gridcolor": "white",
            "linecolor": "white",
            "ticks": ""
           },
           "bgcolor": "#E5ECF6",
           "caxis": {
            "gridcolor": "white",
            "linecolor": "white",
            "ticks": ""
           }
          },
          "title": {
           "x": 0.05
          },
          "xaxis": {
           "automargin": true,
           "gridcolor": "white",
           "linecolor": "white",
           "ticks": "",
           "title": {
            "standoff": 15
           },
           "zerolinecolor": "white",
           "zerolinewidth": 2
          },
          "yaxis": {
           "automargin": true,
           "gridcolor": "white",
           "linecolor": "white",
           "ticks": "",
           "title": {
            "standoff": 15
           },
           "zerolinecolor": "white",
           "zerolinewidth": 2
          }
         }
        },
        "title": {
         "text": "Training and Validation Loss Over Epochs"
        },
        "xaxis": {
         "title": {
          "text": "Epoch"
         }
        },
        "yaxis": {
         "title": {
          "text": "Loss"
         }
        }
       }
      }
     },
     "metadata": {},
     "output_type": "display_data"
    },
    {
     "data": {
      "application/vnd.plotly.v1+json": {
       "config": {
        "plotlyServerURL": "https://plot.ly"
       },
       "data": [
        {
         "mode": "lines",
         "name": "Actual Weighted Returns",
         "type": "scatter",
         "x": [
          "2021-01-04T00:00:00.000000000",
          "2021-01-05T00:00:00.000000000",
          "2021-01-06T00:00:00.000000000",
          "2021-01-07T00:00:00.000000000",
          "2021-01-08T00:00:00.000000000",
          "2021-01-11T00:00:00.000000000",
          "2021-01-12T00:00:00.000000000",
          "2021-01-13T00:00:00.000000000",
          "2021-01-14T00:00:00.000000000",
          "2021-01-15T00:00:00.000000000",
          "2021-01-19T00:00:00.000000000",
          "2021-01-20T00:00:00.000000000",
          "2021-01-21T00:00:00.000000000",
          "2021-01-22T00:00:00.000000000",
          "2021-01-25T00:00:00.000000000",
          "2021-01-26T00:00:00.000000000",
          "2021-01-27T00:00:00.000000000",
          "2021-01-28T00:00:00.000000000",
          "2021-01-29T00:00:00.000000000",
          "2021-02-01T00:00:00.000000000",
          "2021-02-02T00:00:00.000000000",
          "2021-02-03T00:00:00.000000000",
          "2021-02-04T00:00:00.000000000",
          "2021-02-05T00:00:00.000000000",
          "2021-02-08T00:00:00.000000000",
          "2021-02-09T00:00:00.000000000",
          "2021-02-10T00:00:00.000000000",
          "2021-02-11T00:00:00.000000000",
          "2021-02-12T00:00:00.000000000",
          "2021-02-16T00:00:00.000000000",
          "2021-02-17T00:00:00.000000000",
          "2021-02-18T00:00:00.000000000",
          "2021-02-19T00:00:00.000000000",
          "2021-02-22T00:00:00.000000000",
          "2021-02-23T00:00:00.000000000",
          "2021-02-24T00:00:00.000000000",
          "2021-02-25T00:00:00.000000000",
          "2021-02-26T00:00:00.000000000",
          "2021-03-01T00:00:00.000000000",
          "2021-03-02T00:00:00.000000000",
          "2021-03-03T00:00:00.000000000",
          "2021-03-04T00:00:00.000000000",
          "2021-03-05T00:00:00.000000000",
          "2021-03-08T00:00:00.000000000",
          "2021-03-09T00:00:00.000000000",
          "2021-03-10T00:00:00.000000000",
          "2021-03-11T00:00:00.000000000",
          "2021-03-12T00:00:00.000000000",
          "2021-03-15T00:00:00.000000000",
          "2021-03-16T00:00:00.000000000",
          "2021-03-17T00:00:00.000000000",
          "2021-03-18T00:00:00.000000000",
          "2021-03-19T00:00:00.000000000",
          "2021-03-22T00:00:00.000000000",
          "2021-03-23T00:00:00.000000000",
          "2021-03-24T00:00:00.000000000",
          "2021-03-25T00:00:00.000000000",
          "2021-03-26T00:00:00.000000000",
          "2021-03-29T00:00:00.000000000",
          "2021-03-30T00:00:00.000000000",
          "2021-03-31T00:00:00.000000000",
          "2021-04-01T00:00:00.000000000",
          "2021-04-05T00:00:00.000000000",
          "2021-04-06T00:00:00.000000000",
          "2021-04-07T00:00:00.000000000",
          "2021-04-08T00:00:00.000000000",
          "2021-04-09T00:00:00.000000000",
          "2021-04-12T00:00:00.000000000",
          "2021-04-13T00:00:00.000000000",
          "2021-04-14T00:00:00.000000000",
          "2021-04-15T00:00:00.000000000",
          "2021-04-16T00:00:00.000000000",
          "2021-04-19T00:00:00.000000000",
          "2021-04-20T00:00:00.000000000",
          "2021-04-21T00:00:00.000000000",
          "2021-04-22T00:00:00.000000000",
          "2021-04-23T00:00:00.000000000",
          "2021-04-26T00:00:00.000000000",
          "2021-04-27T00:00:00.000000000",
          "2021-04-28T00:00:00.000000000",
          "2021-04-29T00:00:00.000000000",
          "2021-04-30T00:00:00.000000000",
          "2021-05-03T00:00:00.000000000",
          "2021-05-04T00:00:00.000000000",
          "2021-05-05T00:00:00.000000000",
          "2021-05-06T00:00:00.000000000",
          "2021-05-07T00:00:00.000000000",
          "2021-05-10T00:00:00.000000000",
          "2021-05-11T00:00:00.000000000",
          "2021-05-12T00:00:00.000000000",
          "2021-05-13T00:00:00.000000000",
          "2021-05-14T00:00:00.000000000",
          "2021-05-17T00:00:00.000000000",
          "2021-05-18T00:00:00.000000000",
          "2021-05-19T00:00:00.000000000",
          "2021-05-20T00:00:00.000000000",
          "2021-05-21T00:00:00.000000000",
          "2021-05-24T00:00:00.000000000",
          "2021-05-25T00:00:00.000000000",
          "2021-05-26T00:00:00.000000000",
          "2021-05-27T00:00:00.000000000",
          "2021-05-28T00:00:00.000000000",
          "2021-06-01T00:00:00.000000000",
          "2021-06-02T00:00:00.000000000",
          "2021-06-03T00:00:00.000000000",
          "2021-06-04T00:00:00.000000000",
          "2021-06-07T00:00:00.000000000",
          "2021-06-08T00:00:00.000000000",
          "2021-06-09T00:00:00.000000000",
          "2021-06-10T00:00:00.000000000",
          "2021-06-11T00:00:00.000000000",
          "2021-06-14T00:00:00.000000000",
          "2021-06-15T00:00:00.000000000",
          "2021-06-16T00:00:00.000000000",
          "2021-06-17T00:00:00.000000000",
          "2021-06-18T00:00:00.000000000",
          "2021-06-21T00:00:00.000000000",
          "2021-06-22T00:00:00.000000000",
          "2021-06-23T00:00:00.000000000",
          "2021-06-24T00:00:00.000000000",
          "2021-06-25T00:00:00.000000000",
          "2021-06-28T00:00:00.000000000",
          "2021-06-29T00:00:00.000000000",
          "2021-06-30T00:00:00.000000000",
          "2021-07-01T00:00:00.000000000",
          "2021-07-02T00:00:00.000000000",
          "2021-07-06T00:00:00.000000000",
          "2021-07-07T00:00:00.000000000",
          "2021-07-08T00:00:00.000000000",
          "2021-07-09T00:00:00.000000000",
          "2021-07-12T00:00:00.000000000",
          "2021-07-13T00:00:00.000000000",
          "2021-07-14T00:00:00.000000000",
          "2021-07-15T00:00:00.000000000",
          "2021-07-16T00:00:00.000000000",
          "2021-07-19T00:00:00.000000000",
          "2021-07-20T00:00:00.000000000",
          "2021-07-21T00:00:00.000000000",
          "2021-07-22T00:00:00.000000000",
          "2021-07-23T00:00:00.000000000",
          "2021-07-26T00:00:00.000000000",
          "2021-07-27T00:00:00.000000000",
          "2021-07-28T00:00:00.000000000",
          "2021-07-29T00:00:00.000000000",
          "2021-07-30T00:00:00.000000000",
          "2021-08-02T00:00:00.000000000",
          "2021-08-03T00:00:00.000000000",
          "2021-08-04T00:00:00.000000000",
          "2021-08-05T00:00:00.000000000",
          "2021-08-06T00:00:00.000000000",
          "2021-08-09T00:00:00.000000000",
          "2021-08-10T00:00:00.000000000",
          "2021-08-11T00:00:00.000000000",
          "2021-08-12T00:00:00.000000000",
          "2021-08-13T00:00:00.000000000",
          "2021-08-16T00:00:00.000000000",
          "2021-08-17T00:00:00.000000000",
          "2021-08-18T00:00:00.000000000",
          "2021-08-19T00:00:00.000000000",
          "2021-08-20T00:00:00.000000000",
          "2021-08-23T00:00:00.000000000",
          "2021-08-24T00:00:00.000000000",
          "2021-08-25T00:00:00.000000000",
          "2021-08-26T00:00:00.000000000",
          "2021-08-27T00:00:00.000000000",
          "2021-08-30T00:00:00.000000000",
          "2021-08-31T00:00:00.000000000",
          "2021-09-01T00:00:00.000000000",
          "2021-09-02T00:00:00.000000000",
          "2021-09-03T00:00:00.000000000",
          "2021-09-07T00:00:00.000000000",
          "2021-09-08T00:00:00.000000000",
          "2021-09-09T00:00:00.000000000",
          "2021-09-10T00:00:00.000000000",
          "2021-09-13T00:00:00.000000000",
          "2021-09-14T00:00:00.000000000",
          "2021-09-15T00:00:00.000000000",
          "2021-09-16T00:00:00.000000000",
          "2021-09-17T00:00:00.000000000",
          "2021-09-20T00:00:00.000000000",
          "2021-09-21T00:00:00.000000000",
          "2021-09-22T00:00:00.000000000",
          "2021-09-23T00:00:00.000000000",
          "2021-09-24T00:00:00.000000000",
          "2021-09-27T00:00:00.000000000",
          "2021-09-28T00:00:00.000000000",
          "2021-09-29T00:00:00.000000000",
          "2021-09-30T00:00:00.000000000",
          "2021-10-01T00:00:00.000000000",
          "2021-10-04T00:00:00.000000000",
          "2021-10-05T00:00:00.000000000",
          "2021-10-06T00:00:00.000000000",
          "2021-10-07T00:00:00.000000000",
          "2021-10-08T00:00:00.000000000",
          "2021-10-11T00:00:00.000000000",
          "2021-10-12T00:00:00.000000000",
          "2021-10-13T00:00:00.000000000",
          "2021-10-14T00:00:00.000000000",
          "2021-10-15T00:00:00.000000000",
          "2021-10-18T00:00:00.000000000",
          "2021-10-19T00:00:00.000000000",
          "2021-10-20T00:00:00.000000000",
          "2021-10-21T00:00:00.000000000",
          "2021-10-22T00:00:00.000000000",
          "2021-10-25T00:00:00.000000000",
          "2021-10-26T00:00:00.000000000",
          "2021-10-27T00:00:00.000000000",
          "2021-10-28T00:00:00.000000000",
          "2021-10-29T00:00:00.000000000",
          "2021-11-01T00:00:00.000000000",
          "2021-11-02T00:00:00.000000000",
          "2021-11-03T00:00:00.000000000",
          "2021-11-04T00:00:00.000000000",
          "2021-11-05T00:00:00.000000000",
          "2021-11-08T00:00:00.000000000",
          "2021-11-09T00:00:00.000000000",
          "2021-11-10T00:00:00.000000000",
          "2021-11-11T00:00:00.000000000",
          "2021-11-12T00:00:00.000000000",
          "2021-11-15T00:00:00.000000000",
          "2021-11-16T00:00:00.000000000",
          "2021-11-17T00:00:00.000000000",
          "2021-11-18T00:00:00.000000000",
          "2021-11-19T00:00:00.000000000",
          "2021-11-22T00:00:00.000000000",
          "2021-11-23T00:00:00.000000000",
          "2021-11-24T00:00:00.000000000",
          "2021-11-26T00:00:00.000000000",
          "2021-11-29T00:00:00.000000000",
          "2021-11-30T00:00:00.000000000",
          "2021-12-01T00:00:00.000000000",
          "2021-12-02T00:00:00.000000000",
          "2021-12-03T00:00:00.000000000",
          "2021-12-06T00:00:00.000000000",
          "2021-12-07T00:00:00.000000000",
          "2021-12-08T00:00:00.000000000",
          "2021-12-09T00:00:00.000000000",
          "2021-12-10T00:00:00.000000000",
          "2021-12-13T00:00:00.000000000",
          "2021-12-14T00:00:00.000000000",
          "2021-12-15T00:00:00.000000000",
          "2021-12-16T00:00:00.000000000",
          "2021-12-17T00:00:00.000000000",
          "2021-12-20T00:00:00.000000000",
          "2021-12-21T00:00:00.000000000",
          "2021-12-22T00:00:00.000000000",
          "2021-12-23T00:00:00.000000000",
          "2021-12-27T00:00:00.000000000",
          "2021-12-28T00:00:00.000000000",
          "2021-12-29T00:00:00.000000000",
          "2021-12-30T00:00:00.000000000",
          "2021-12-31T00:00:00.000000000"
         ],
         "y": {
          "bdata": "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",
          "dtype": "f8"
         }
        },
        {
         "mode": "lines",
         "name": "Predicted Weighted Returns",
         "type": "scatter",
         "x": [
          "2021-01-04T00:00:00.000000000",
          "2021-01-05T00:00:00.000000000",
          "2021-01-06T00:00:00.000000000",
          "2021-01-07T00:00:00.000000000",
          "2021-01-08T00:00:00.000000000",
          "2021-01-11T00:00:00.000000000",
          "2021-01-12T00:00:00.000000000",
          "2021-01-13T00:00:00.000000000",
          "2021-01-14T00:00:00.000000000",
          "2021-01-15T00:00:00.000000000",
          "2021-01-19T00:00:00.000000000",
          "2021-01-20T00:00:00.000000000",
          "2021-01-21T00:00:00.000000000",
          "2021-01-22T00:00:00.000000000",
          "2021-01-25T00:00:00.000000000",
          "2021-01-26T00:00:00.000000000",
          "2021-01-27T00:00:00.000000000",
          "2021-01-28T00:00:00.000000000",
          "2021-01-29T00:00:00.000000000",
          "2021-02-01T00:00:00.000000000",
          "2021-02-02T00:00:00.000000000",
          "2021-02-03T00:00:00.000000000",
          "2021-02-04T00:00:00.000000000",
          "2021-02-05T00:00:00.000000000",
          "2021-02-08T00:00:00.000000000",
          "2021-02-09T00:00:00.000000000",
          "2021-02-10T00:00:00.000000000",
          "2021-02-11T00:00:00.000000000",
          "2021-02-12T00:00:00.000000000",
          "2021-02-16T00:00:00.000000000",
          "2021-02-17T00:00:00.000000000",
          "2021-02-18T00:00:00.000000000",
          "2021-02-19T00:00:00.000000000",
          "2021-02-22T00:00:00.000000000",
          "2021-02-23T00:00:00.000000000",
          "2021-02-24T00:00:00.000000000",
          "2021-02-25T00:00:00.000000000",
          "2021-02-26T00:00:00.000000000",
          "2021-03-01T00:00:00.000000000",
          "2021-03-02T00:00:00.000000000",
          "2021-03-03T00:00:00.000000000",
          "2021-03-04T00:00:00.000000000",
          "2021-03-05T00:00:00.000000000",
          "2021-03-08T00:00:00.000000000",
          "2021-03-09T00:00:00.000000000",
          "2021-03-10T00:00:00.000000000",
          "2021-03-11T00:00:00.000000000",
          "2021-03-12T00:00:00.000000000",
          "2021-03-15T00:00:00.000000000",
          "2021-03-16T00:00:00.000000000",
          "2021-03-17T00:00:00.000000000",
          "2021-03-18T00:00:00.000000000",
          "2021-03-19T00:00:00.000000000",
          "2021-03-22T00:00:00.000000000",
          "2021-03-23T00:00:00.000000000",
          "2021-03-24T00:00:00.000000000",
          "2021-03-25T00:00:00.000000000",
          "2021-03-26T00:00:00.000000000",
          "2021-03-29T00:00:00.000000000",
          "2021-03-30T00:00:00.000000000",
          "2021-03-31T00:00:00.000000000",
          "2021-04-01T00:00:00.000000000",
          "2021-04-05T00:00:00.000000000",
          "2021-04-06T00:00:00.000000000",
          "2021-04-07T00:00:00.000000000",
          "2021-04-08T00:00:00.000000000",
          "2021-04-09T00:00:00.000000000",
          "2021-04-12T00:00:00.000000000",
          "2021-04-13T00:00:00.000000000",
          "2021-04-14T00:00:00.000000000",
          "2021-04-15T00:00:00.000000000",
          "2021-04-16T00:00:00.000000000",
          "2021-04-19T00:00:00.000000000",
          "2021-04-20T00:00:00.000000000",
          "2021-04-21T00:00:00.000000000",
          "2021-04-22T00:00:00.000000000",
          "2021-04-23T00:00:00.000000000",
          "2021-04-26T00:00:00.000000000",
          "2021-04-27T00:00:00.000000000",
          "2021-04-28T00:00:00.000000000",
          "2021-04-29T00:00:00.000000000",
          "2021-04-30T00:00:00.000000000",
          "2021-05-03T00:00:00.000000000",
          "2021-05-04T00:00:00.000000000",
          "2021-05-05T00:00:00.000000000",
          "2021-05-06T00:00:00.000000000",
          "2021-05-07T00:00:00.000000000",
          "2021-05-10T00:00:00.000000000",
          "2021-05-11T00:00:00.000000000",
          "2021-05-12T00:00:00.000000000",
          "2021-05-13T00:00:00.000000000",
          "2021-05-14T00:00:00.000000000",
          "2021-05-17T00:00:00.000000000",
          "2021-05-18T00:00:00.000000000",
          "2021-05-19T00:00:00.000000000",
          "2021-05-20T00:00:00.000000000",
          "2021-05-21T00:00:00.000000000",
          "2021-05-24T00:00:00.000000000",
          "2021-05-25T00:00:00.000000000",
          "2021-05-26T00:00:00.000000000",
          "2021-05-27T00:00:00.000000000",
          "2021-05-28T00:00:00.000000000",
          "2021-06-01T00:00:00.000000000",
          "2021-06-02T00:00:00.000000000",
          "2021-06-03T00:00:00.000000000",
          "2021-06-04T00:00:00.000000000",
          "2021-06-07T00:00:00.000000000",
          "2021-06-08T00:00:00.000000000",
          "2021-06-09T00:00:00.000000000",
          "2021-06-10T00:00:00.000000000",
          "2021-06-11T00:00:00.000000000",
          "2021-06-14T00:00:00.000000000",
          "2021-06-15T00:00:00.000000000",
          "2021-06-16T00:00:00.000000000",
          "2021-06-17T00:00:00.000000000",
          "2021-06-18T00:00:00.000000000",
          "2021-06-21T00:00:00.000000000",
          "2021-06-22T00:00:00.000000000",
          "2021-06-23T00:00:00.000000000",
          "2021-06-24T00:00:00.000000000",
          "2021-06-25T00:00:00.000000000",
          "2021-06-28T00:00:00.000000000",
          "2021-06-29T00:00:00.000000000",
          "2021-06-30T00:00:00.000000000",
          "2021-07-01T00:00:00.000000000",
          "2021-07-02T00:00:00.000000000",
          "2021-07-06T00:00:00.000000000",
          "2021-07-07T00:00:00.000000000",
          "2021-07-08T00:00:00.000000000",
          "2021-07-09T00:00:00.000000000",
          "2021-07-12T00:00:00.000000000",
          "2021-07-13T00:00:00.000000000",
          "2021-07-14T00:00:00.000000000",
          "2021-07-15T00:00:00.000000000",
          "2021-07-16T00:00:00.000000000",
          "2021-07-19T00:00:00.000000000",
          "2021-07-20T00:00:00.000000000",
          "2021-07-21T00:00:00.000000000",
          "2021-07-22T00:00:00.000000000",
          "2021-07-23T00:00:00.000000000",
          "2021-07-26T00:00:00.000000000",
          "2021-07-27T00:00:00.000000000",
          "2021-07-28T00:00:00.000000000",
          "2021-07-29T00:00:00.000000000",
          "2021-07-30T00:00:00.000000000",
          "2021-08-02T00:00:00.000000000",
          "2021-08-03T00:00:00.000000000",
          "2021-08-04T00:00:00.000000000",
          "2021-08-05T00:00:00.000000000",
          "2021-08-06T00:00:00.000000000",
          "2021-08-09T00:00:00.000000000",
          "2021-08-10T00:00:00.000000000",
          "2021-08-11T00:00:00.000000000",
          "2021-08-12T00:00:00.000000000",
          "2021-08-13T00:00:00.000000000",
          "2021-08-16T00:00:00.000000000",
          "2021-08-17T00:00:00.000000000",
          "2021-08-18T00:00:00.000000000",
          "2021-08-19T00:00:00.000000000",
          "2021-08-20T00:00:00.000000000",
          "2021-08-23T00:00:00.000000000",
          "2021-08-24T00:00:00.000000000",
          "2021-08-25T00:00:00.000000000",
          "2021-08-26T00:00:00.000000000",
          "2021-08-27T00:00:00.000000000",
          "2021-08-30T00:00:00.000000000",
          "2021-08-31T00:00:00.000000000",
          "2021-09-01T00:00:00.000000000",
          "2021-09-02T00:00:00.000000000",
          "2021-09-03T00:00:00.000000000",
          "2021-09-07T00:00:00.000000000",
          "2021-09-08T00:00:00.000000000",
          "2021-09-09T00:00:00.000000000",
          "2021-09-10T00:00:00.000000000",
          "2021-09-13T00:00:00.000000000",
          "2021-09-14T00:00:00.000000000",
          "2021-09-15T00:00:00.000000000",
          "2021-09-16T00:00:00.000000000",
          "2021-09-17T00:00:00.000000000",
          "2021-09-20T00:00:00.000000000",
          "2021-09-21T00:00:00.000000000",
          "2021-09-22T00:00:00.000000000",
          "2021-09-23T00:00:00.000000000",
          "2021-09-24T00:00:00.000000000",
          "2021-09-27T00:00:00.000000000",
          "2021-09-28T00:00:00.000000000",
          "2021-09-29T00:00:00.000000000",
          "2021-09-30T00:00:00.000000000",
          "2021-10-01T00:00:00.000000000",
          "2021-10-04T00:00:00.000000000",
          "2021-10-05T00:00:00.000000000",
          "2021-10-06T00:00:00.000000000",
          "2021-10-07T00:00:00.000000000",
          "2021-10-08T00:00:00.000000000",
          "2021-10-11T00:00:00.000000000",
          "2021-10-12T00:00:00.000000000",
          "2021-10-13T00:00:00.000000000",
          "2021-10-14T00:00:00.000000000",
          "2021-10-15T00:00:00.000000000",
          "2021-10-18T00:00:00.000000000",
          "2021-10-19T00:00:00.000000000",
          "2021-10-20T00:00:00.000000000",
          "2021-10-21T00:00:00.000000000",
          "2021-10-22T00:00:00.000000000",
          "2021-10-25T00:00:00.000000000",
          "2021-10-26T00:00:00.000000000",
          "2021-10-27T00:00:00.000000000",
          "2021-10-28T00:00:00.000000000",
          "2021-10-29T00:00:00.000000000",
          "2021-11-01T00:00:00.000000000",
          "2021-11-02T00:00:00.000000000",
          "2021-11-03T00:00:00.000000000",
          "2021-11-04T00:00:00.000000000",
          "2021-11-05T00:00:00.000000000",
          "2021-11-08T00:00:00.000000000",
          "2021-11-09T00:00:00.000000000",
          "2021-11-10T00:00:00.000000000",
          "2021-11-11T00:00:00.000000000",
          "2021-11-12T00:00:00.000000000",
          "2021-11-15T00:00:00.000000000",
          "2021-11-16T00:00:00.000000000",
          "2021-11-17T00:00:00.000000000",
          "2021-11-18T00:00:00.000000000",
          "2021-11-19T00:00:00.000000000",
          "2021-11-22T00:00:00.000000000",
          "2021-11-23T00:00:00.000000000",
          "2021-11-24T00:00:00.000000000",
          "2021-11-26T00:00:00.000000000",
          "2021-11-29T00:00:00.000000000",
          "2021-11-30T00:00:00.000000000",
          "2021-12-01T00:00:00.000000000",
          "2021-12-02T00:00:00.000000000",
          "2021-12-03T00:00:00.000000000",
          "2021-12-06T00:00:00.000000000",
          "2021-12-07T00:00:00.000000000",
          "2021-12-08T00:00:00.000000000",
          "2021-12-09T00:00:00.000000000",
          "2021-12-10T00:00:00.000000000",
          "2021-12-13T00:00:00.000000000",
          "2021-12-14T00:00:00.000000000",
          "2021-12-15T00:00:00.000000000",
          "2021-12-16T00:00:00.000000000",
          "2021-12-17T00:00:00.000000000",
          "2021-12-20T00:00:00.000000000",
          "2021-12-21T00:00:00.000000000",
          "2021-12-22T00:00:00.000000000",
          "2021-12-23T00:00:00.000000000",
          "2021-12-27T00:00:00.000000000",
          "2021-12-28T00:00:00.000000000",
          "2021-12-29T00:00:00.000000000",
          "2021-12-30T00:00:00.000000000",
          "2021-12-31T00:00:00.000000000"
         ],
         "y": {
          "bdata": "AADAfwAAyELpvslC9ITLQlEU0UJQQthCg0bUQl+31kLyPNZC6+7UQuBU0UK/99BCgKXSQg0100KbxtJC9JrWQjsd2EKWVdJCJqXOQmD6w0Ib9cZCO9PMQtEXzEIF9stCjN/PQrpH0kJk6NFCoS7OQkDUzkI40M9CmfzMQvglzEK1BctCiMvMQovswkIjcMJCLN3EQrhwu0KMGbtCfrDAQvR6vUI/I7lCm7K2Qhv9s0Jzq65CToG4Qg+YuEKarb1CQTi9QkR3vkLeU71CxPO8QhZvtEJFT7ZCdHa5QnZ+t0JPV7JC4jy0Qt7wtEKEh7NCKtW1QgptuEKOkrpCkJi8Qu4uv0IhT75CiY3AQnjQwUJ9wsVC9nHHQr62xELH+sdCq7bHQlwdxkJkC8dCA/LIQrmMx0I5L8pC2rfKQgQEyEKDQMVCAefFQnMkx0JDe8ZCfhHBQvslwkLsgMJCcmHEQh+3wUIQWcBCr9O7QohBu0KKYb1CHuS8QsImvEIKH7tCNcS+QuAWvkLevMFCVp3BQvRCwkJ/mMNCmBjDQl9pxUJvqMNCFOi/QjK/wkIJfMNCEW3DQuJUwkIFn8VC2HrHQht5yEIbBcVCdGjEQubexUJ2n8VCqlLGQlQkx0JQDspC1DLMQkDbzELSu89CBb7PQtumz0KiyNBCZ37RQuQUzkIVR8xCZXrMQplAz0IDS9FCP5rOQvgtzEL7h8pCa5PJQr/0ykJi38tCFCfMQuZ0y0I2kNBCDWLQQjwvw0K/ecJCoCzFQlO5xELJd8ZCd9XHQqvqyEI+GcpCCLzIQjhDy0K238hCJLXIQmgiyULfy8dCihHFQl6sxEJBT8ZC0hPFQipExkIHI8lCDgLJQsjWyEJzbcVCXpzJQlb6zUKxMdBCngvRQmwM1UIlGdVCT0fWQmA51UJqPNRC/zTQQlQ40ULy+s9C86HRQsmL0EIQNtFCTO3KQs2/zUIm4M5CgtDOQnff0ELOWNFCByXOQnV4zkJ1Os5CqmXPQnaHz0Lr889C8TzPQszV0EJUGc5Cp0HOQrx/0EJebNFCDoHTQtIg1kKOttZCBsrVQuuB1EL44dRCQgPQQtj+2UIa59hCAEXaQrJ030KNpuJCtGjvQqJe60L3PfJCjkHzQgoZ8UKayu1CJ1zhQiZr5EKoleRCmw/jQoJ94kIboOJCL9bjQsAf40JtXeRClf3jQgvh4EL99OBCJCrhQqjv4kK3g+JC8rraQmtn30I9xNVCEwvWQmsB3EKxRt1C2XLXQh2L2EKGFNRCb/vSQjCp1EL8tNFCGVLQQgm9zUKX+dFCWf7XQpEY3kJtouFCSGvhQqJi4kLpd+NC",
          "dtype": "f4"
         }
        }
       ],
       "layout": {
        "legend": {
         "title": {
          "text": "Type"
         }
        },
        "template": {
         "data": {
          "bar": [
           {
            "error_x": {
             "color": "#2a3f5f"
            },
            "error_y": {
             "color": "#2a3f5f"
            },
            "marker": {
             "line": {
              "color": "#E5ECF6",
              "width": 0.5
             },
             "pattern": {
              "fillmode": "overlay",
              "size": 10,
              "solidity": 0.2
             }
            },
            "type": "bar"
           }
          ],
          "barpolar": [
           {
            "marker": {
             "line": {
              "color": "#E5ECF6",
              "width": 0.5
             },
             "pattern": {
              "fillmode": "overlay",
              "size": 10,
              "solidity": 0.2
             }
            },
            "type": "barpolar"
           }
          ],
          "carpet": [
           {
            "aaxis": {
             "endlinecolor": "#2a3f5f",
             "gridcolor": "white",
             "linecolor": "white",
             "minorgridcolor": "white",
             "startlinecolor": "#2a3f5f"
            },
            "baxis": {
             "endlinecolor": "#2a3f5f",
             "gridcolor": "white",
             "linecolor": "white",
             "minorgridcolor": "white",
             "startlinecolor": "#2a3f5f"
            },
            "type": "carpet"
           }
          ],
          "choropleth": [
           {
            "colorbar": {
             "outlinewidth": 0,
             "ticks": ""
            },
            "type": "choropleth"
           }
          ],
          "contour": [
           {
            "colorbar": {
             "outlinewidth": 0,
             "ticks": ""
            },
            "colorscale": [
             [
              0,
              "#0d0887"
             ],
             [
              0.1111111111111111,
              "#46039f"
             ],
             [
              0.2222222222222222,
              "#7201a8"
             ],
             [
              0.3333333333333333,
              "#9c179e"
             ],
             [
              0.4444444444444444,
              "#bd3786"
             ],
             [
              0.5555555555555556,
              "#d8576b"
             ],
             [
              0.6666666666666666,
              "#ed7953"
             ],
             [
              0.7777777777777778,
              "#fb9f3a"
             ],
             [
              0.8888888888888888,
              "#fdca26"
             ],
             [
              1,
              "#f0f921"
             ]
            ],
            "type": "contour"
           }
          ],
          "contourcarpet": [
           {
            "colorbar": {
             "outlinewidth": 0,
             "ticks": ""
            },
            "type": "contourcarpet"
           }
          ],
          "heatmap": [
           {
            "colorbar": {
             "outlinewidth": 0,
             "ticks": ""
            },
            "colorscale": [
             [
              0,
              "#0d0887"
             ],
             [
              0.1111111111111111,
              "#46039f"
             ],
             [
              0.2222222222222222,
              "#7201a8"
             ],
             [
              0.3333333333333333,
              "#9c179e"
             ],
             [
              0.4444444444444444,
              "#bd3786"
             ],
             [
              0.5555555555555556,
              "#d8576b"
             ],
             [
              0.6666666666666666,
              "#ed7953"
             ],
             [
              0.7777777777777778,
              "#fb9f3a"
             ],
             [
              0.8888888888888888,
              "#fdca26"
             ],
             [
              1,
              "#f0f921"
             ]
            ],
            "type": "heatmap"
           }
          ],
          "histogram": [
           {
            "marker": {
             "pattern": {
              "fillmode": "overlay",
              "size": 10,
              "solidity": 0.2
             }
            },
            "type": "histogram"
           }
          ],
          "histogram2d": [
           {
            "colorbar": {
             "outlinewidth": 0,
             "ticks": ""
            },
            "colorscale": [
             [
              0,
              "#0d0887"
             ],
             [
              0.1111111111111111,
              "#46039f"
             ],
             [
              0.2222222222222222,
              "#7201a8"
             ],
             [
              0.3333333333333333,
              "#9c179e"
             ],
             [
              0.4444444444444444,
              "#bd3786"
             ],
             [
              0.5555555555555556,
              "#d8576b"
             ],
             [
              0.6666666666666666,
              "#ed7953"
             ],
             [
              0.7777777777777778,
              "#fb9f3a"
             ],
             [
              0.8888888888888888,
              "#fdca26"
             ],
             [
              1,
              "#f0f921"
             ]
            ],
            "type": "histogram2d"
           }
          ],
          "histogram2dcontour": [
           {
            "colorbar": {
             "outlinewidth": 0,
             "ticks": ""
            },
            "colorscale": [
             [
              0,
              "#0d0887"
             ],
             [
              0.1111111111111111,
              "#46039f"
             ],
             [
              0.2222222222222222,
              "#7201a8"
             ],
             [
              0.3333333333333333,
              "#9c179e"
             ],
             [
              0.4444444444444444,
              "#bd3786"
             ],
             [
              0.5555555555555556,
              "#d8576b"
             ],
             [
              0.6666666666666666,
              "#ed7953"
             ],
             [
              0.7777777777777778,
              "#fb9f3a"
             ],
             [
              0.8888888888888888,
              "#fdca26"
             ],
             [
              1,
              "#f0f921"
             ]
            ],
            "type": "histogram2dcontour"
           }
          ],
          "mesh3d": [
           {
            "colorbar": {
             "outlinewidth": 0,
             "ticks": ""
            },
            "type": "mesh3d"
           }
          ],
          "parcoords": [
           {
            "line": {
             "colorbar": {
              "outlinewidth": 0,
              "ticks": ""
             }
            },
            "type": "parcoords"
           }
          ],
          "pie": [
           {
            "automargin": true,
            "type": "pie"
           }
          ],
          "scatter": [
           {
            "fillpattern": {
             "fillmode": "overlay",
             "size": 10,
             "solidity": 0.2
            },
            "type": "scatter"
           }
          ],
          "scatter3d": [
           {
            "line": {
             "colorbar": {
              "outlinewidth": 0,
              "ticks": ""
             }
            },
            "marker": {
             "colorbar": {
              "outlinewidth": 0,
              "ticks": ""
             }
            },
            "type": "scatter3d"
           }
          ],
          "scattercarpet": [
           {
            "marker": {
             "colorbar": {
              "outlinewidth": 0,
              "ticks": ""
             }
            },
            "type": "scattercarpet"
           }
          ],
          "scattergeo": [
           {
            "marker": {
             "colorbar": {
              "outlinewidth": 0,
              "ticks": ""
             }
            },
            "type": "scattergeo"
           }
          ],
          "scattergl": [
           {
            "marker": {
             "colorbar": {
              "outlinewidth": 0,
              "ticks": ""
             }
            },
            "type": "scattergl"
           }
          ],
          "scattermap": [
           {
            "marker": {
             "colorbar": {
              "outlinewidth": 0,
              "ticks": ""
             }
            },
            "type": "scattermap"
           }
          ],
          "scattermapbox": [
           {
            "marker": {
             "colorbar": {
              "outlinewidth": 0,
              "ticks": ""
             }
            },
            "type": "scattermapbox"
           }
          ],
          "scatterpolar": [
           {
            "marker": {
             "colorbar": {
              "outlinewidth": 0,
              "ticks": ""
             }
            },
            "type": "scatterpolar"
           }
          ],
          "scatterpolargl": [
           {
            "marker": {
             "colorbar": {
              "outlinewidth": 0,
              "ticks": ""
             }
            },
            "type": "scatterpolargl"
           }
          ],
          "scatterternary": [
           {
            "marker": {
             "colorbar": {
              "outlinewidth": 0,
              "ticks": ""
             }
            },
            "type": "scatterternary"
           }
          ],
          "surface": [
           {
            "colorbar": {
             "outlinewidth": 0,
             "ticks": ""
            },
            "colorscale": [
             [
              0,
              "#0d0887"
             ],
             [
              0.1111111111111111,
              "#46039f"
             ],
             [
              0.2222222222222222,
              "#7201a8"
             ],
             [
              0.3333333333333333,
              "#9c179e"
             ],
             [
              0.4444444444444444,
              "#bd3786"
             ],
             [
              0.5555555555555556,
              "#d8576b"
             ],
             [
              0.6666666666666666,
              "#ed7953"
             ],
             [
              0.7777777777777778,
              "#fb9f3a"
             ],
             [
              0.8888888888888888,
              "#fdca26"
             ],
             [
              1,
              "#f0f921"
             ]
            ],
            "type": "surface"
           }
          ],
          "table": [
           {
            "cells": {
             "fill": {
              "color": "#EBF0F8"
             },
             "line": {
              "color": "white"
             }
            },
            "header": {
             "fill": {
              "color": "#C8D4E3"
             },
             "line": {
              "color": "white"
             }
            },
            "type": "table"
           }
          ]
         },
         "layout": {
          "annotationdefaults": {
           "arrowcolor": "#2a3f5f",
           "arrowhead": 0,
           "arrowwidth": 1
          },
          "autotypenumbers": "strict",
          "coloraxis": {
           "colorbar": {
            "outlinewidth": 0,
            "ticks": ""
           }
          },
          "colorscale": {
           "diverging": [
            [
             0,
             "#8e0152"
            ],
            [
             0.1,
             "#c51b7d"
            ],
            [
             0.2,
             "#de77ae"
            ],
            [
             0.3,
             "#f1b6da"
            ],
            [
             0.4,
             "#fde0ef"
            ],
            [
             0.5,
             "#f7f7f7"
            ],
            [
             0.6,
             "#e6f5d0"
            ],
            [
             0.7,
             "#b8e186"
            ],
            [
             0.8,
             "#7fbc41"
            ],
            [
             0.9,
             "#4d9221"
            ],
            [
             1,
             "#276419"
            ]
           ],
           "sequential": [
            [
             0,
             "#0d0887"
            ],
            [
             0.1111111111111111,
             "#46039f"
            ],
            [
             0.2222222222222222,
             "#7201a8"
            ],
            [
             0.3333333333333333,
             "#9c179e"
            ],
            [
             0.4444444444444444,
             "#bd3786"
            ],
            [
             0.5555555555555556,
             "#d8576b"
            ],
            [
             0.6666666666666666,
             "#ed7953"
            ],
            [
             0.7777777777777778,
             "#fb9f3a"
            ],
            [
             0.8888888888888888,
             "#fdca26"
            ],
            [
             1,
             "#f0f921"
            ]
           ],
           "sequentialminus": [
            [
             0,
             "#0d0887"
            ],
            [
             0.1111111111111111,
             "#46039f"
            ],
            [
             0.2222222222222222,
             "#7201a8"
            ],
            [
             0.3333333333333333,
             "#9c179e"
            ],
            [
             0.4444444444444444,
             "#bd3786"
            ],
            [
             0.5555555555555556,
             "#d8576b"
            ],
            [
             0.6666666666666666,
             "#ed7953"
            ],
            [
             0.7777777777777778,
             "#fb9f3a"
            ],
            [
             0.8888888888888888,
             "#fdca26"
            ],
            [
             1,
             "#f0f921"
            ]
           ]
          },
          "colorway": [
           "#636efa",
           "#EF553B",
           "#00cc96",
           "#ab63fa",
           "#FFA15A",
           "#19d3f3",
           "#FF6692",
           "#B6E880",
           "#FF97FF",
           "#FECB52"
          ],
          "font": {
           "color": "#2a3f5f"
          },
          "geo": {
           "bgcolor": "white",
           "lakecolor": "white",
           "landcolor": "#E5ECF6",
           "showlakes": true,
           "showland": true,
           "subunitcolor": "white"
          },
          "hoverlabel": {
           "align": "left"
          },
          "hovermode": "closest",
          "mapbox": {
           "style": "light"
          },
          "paper_bgcolor": "white",
          "plot_bgcolor": "#E5ECF6",
          "polar": {
           "angularaxis": {
            "gridcolor": "white",
            "linecolor": "white",
            "ticks": ""
           },
           "bgcolor": "#E5ECF6",
           "radialaxis": {
            "gridcolor": "white",
            "linecolor": "white",
            "ticks": ""
           }
          },
          "scene": {
           "xaxis": {
            "backgroundcolor": "#E5ECF6",
            "gridcolor": "white",
            "gridwidth": 2,
            "linecolor": "white",
            "showbackground": true,
            "ticks": "",
            "zerolinecolor": "white"
           },
           "yaxis": {
            "backgroundcolor": "#E5ECF6",
            "gridcolor": "white",
            "gridwidth": 2,
            "linecolor": "white",
            "showbackground": true,
            "ticks": "",
            "zerolinecolor": "white"
           },
           "zaxis": {
            "backgroundcolor": "#E5ECF6",
            "gridcolor": "white",
            "gridwidth": 2,
            "linecolor": "white",
            "showbackground": true,
            "ticks": "",
            "zerolinecolor": "white"
           }
          },
          "shapedefaults": {
           "line": {
            "color": "#2a3f5f"
           }
          },
          "ternary": {
           "aaxis": {
            "gridcolor": "white",
            "linecolor": "white",
            "ticks": ""
           },
           "baxis": {
            "gridcolor": "white",
            "linecolor": "white",
            "ticks": ""
           },
           "bgcolor": "#E5ECF6",
           "caxis": {
            "gridcolor": "white",
            "linecolor": "white",
            "ticks": ""
           }
          },
          "title": {
           "x": 0.05
          },
          "xaxis": {
           "automargin": true,
           "gridcolor": "white",
           "linecolor": "white",
           "ticks": "",
           "title": {
            "standoff": 15
           },
           "zerolinecolor": "white",
           "zerolinewidth": 2
          },
          "yaxis": {
           "automargin": true,
           "gridcolor": "white",
           "linecolor": "white",
           "ticks": "",
           "title": {
            "standoff": 15
           },
           "zerolinecolor": "white",
           "zerolinewidth": 2
          }
         }
        },
        "title": {
         "text": "Actual vs Predicted Weighted Portfolio Returns"
        },
        "xaxis": {
         "title": {
          "text": "Date"
         }
        },
        "yaxis": {
         "title": {
          "text": "Weighted Returns"
         }
        }
       }
      }
     },
     "metadata": {},
     "output_type": "display_data"
    }
   ],
   "source": [
    "portfolio_predictor = PortfolioPredictor(raw_data_train, raw_data_test, best_portfolio, n_steps=1)\n",
    "\n",
    "portfolio_predictor.preprocess_data()\n",
    "portfolio_predictor.build_model()\n",
    "portfolio_predictor.train_model()\n",
    "prediction = portfolio_predictor.predict()   \n",
    "portfolio_predictor.plot_loss()\n",
    "portfolio_predictor.plot_predictions()"
   ]
  },
  {
   "cell_type": "code",
   "execution_count": null,
   "metadata": {},
   "outputs": [
    {
     "name": "stderr",
     "output_type": "stream",
     "text": [
      "  0%|          | 244/100000 [00:01<13:14, 125.60it/s]\n"
     ]
    },
    {
     "name": "stdout",
     "output_type": "stream",
     "text": [
      "All assets have been tested\n",
      "Final Weights: 0.9467112369041638 0.04934950289480603 0.003939260201030065\n",
      "\u001b[1m1/1\u001b[0m \u001b[32m━━━━━━━━━━━━━━━━━━━━\u001b[0m\u001b[37m\u001b[0m \u001b[1m0s\u001b[0m 167ms/step\n",
      "[[0.9706278 ]\n",
      " [0.97763836]]\n",
      "\u001b[1m1/1\u001b[0m \u001b[32m━━━━━━━━━━━━━━━━━━━━\u001b[0m\u001b[37m\u001b[0m \u001b[1m0s\u001b[0m 164ms/step\n",
      "[[0.8169551]\n",
      " [0.8216842]]\n",
      "\u001b[1m1/1\u001b[0m \u001b[32m━━━━━━━━━━━━━━━━━━━━\u001b[0m\u001b[37m\u001b[0m \u001b[1m0s\u001b[0m 157ms/step\n",
      "[[0.85186166]\n",
      " [0.8572143 ]]\n",
      "{0: array([0.00722273], dtype=float32), 1: array([0.00578868], dtype=float32), 2: array([0.00628343], dtype=float32)}\n",
      "Current iteration: 0, the best portfolio found was portfolio: 0\n"
     ]
    },
    {
     "name": "stderr",
     "output_type": "stream",
     "text": [
      "  0%|          | 223/100000 [00:01<12:48, 129.88it/s]\n"
     ]
    },
    {
     "name": "stdout",
     "output_type": "stream",
     "text": [
      "All assets have been tested\n",
      "Final Weights: 0.9354708493066173 0.028802455269891784 0.035726695423491\n",
      "\u001b[1m1/1\u001b[0m \u001b[32m━━━━━━━━━━━━━━━━━━━━\u001b[0m\u001b[37m\u001b[0m \u001b[1m0s\u001b[0m 155ms/step\n",
      "[[1.0037936]\n",
      " [1.0094848]]\n",
      "\u001b[1m1/1\u001b[0m \u001b[32m━━━━━━━━━━━━━━━━━━━━\u001b[0m\u001b[37m\u001b[0m \u001b[1m0s\u001b[0m 161ms/step\n",
      "[[1.1428521]\n",
      " [1.1499304]]\n",
      "\u001b[1m1/1\u001b[0m \u001b[32m━━━━━━━━━━━━━━━━━━━━\u001b[0m\u001b[37m\u001b[0m \u001b[1m0s\u001b[0m 165ms/step\n",
      "[[1.0089262]\n",
      " [1.0160905]]\n",
      "{0: array([0.00566966], dtype=float32), 1: array([0.00619353], dtype=float32), 2: array([0.00710097], dtype=float32)}\n",
      "Current iteration: 1, the best portfolio found was portfolio: 2\n"
     ]
    },
    {
     "name": "stderr",
     "output_type": "stream",
     "text": [
      "  0%|          | 178/100000 [00:01<13:47, 120.62it/s]\n"
     ]
    },
    {
     "name": "stdout",
     "output_type": "stream",
     "text": [
      "All assets have been tested\n",
      "Final Weights: 0.8925415302919841 0.026534423659122387 0.08092404604889342\n",
      "\u001b[1m1/1\u001b[0m \u001b[32m━━━━━━━━━━━━━━━━━━━━\u001b[0m\u001b[37m\u001b[0m \u001b[1m0s\u001b[0m 160ms/step\n",
      "[[1.0745946]\n",
      " [1.0813967]]\n",
      "\u001b[1m1/1\u001b[0m \u001b[32m━━━━━━━━━━━━━━━━━━━━\u001b[0m\u001b[37m\u001b[0m \u001b[1m0s\u001b[0m 162ms/step\n",
      "[[1.1031882]\n",
      " [1.1109362]]\n",
      "\u001b[1m1/1\u001b[0m \u001b[32m━━━━━━━━━━━━━━━━━━━━\u001b[0m\u001b[37m\u001b[0m \u001b[1m0s\u001b[0m 159ms/step\n",
      "[[1.1797644]\n",
      " [1.1894041]]\n",
      "{0: array([0.00632991], dtype=float32), 1: array([0.00702329], dtype=float32), 2: array([0.0081709], dtype=float32)}\n",
      "Current iteration: 2, the best portfolio found was portfolio: 2\n"
     ]
    },
    {
     "name": "stderr",
     "output_type": "stream",
     "text": [
      "  0%|          | 143/100000 [00:01<12:37, 131.90it/s]\n"
     ]
    },
    {
     "name": "stdout",
     "output_type": "stream",
     "text": [
      "All assets have been tested\n",
      "Final Weights: 0.8885108092784846 0.03239705794063806 0.07909213278087734\n",
      "\u001b[1m1/1\u001b[0m \u001b[32m━━━━━━━━━━━━━━━━━━━━\u001b[0m\u001b[37m\u001b[0m \u001b[1m0s\u001b[0m 158ms/step\n",
      "[[0.8969886]\n",
      " [0.9020252]]\n",
      "\u001b[1m1/1\u001b[0m \u001b[32m━━━━━━━━━━━━━━━━━━━━\u001b[0m\u001b[37m\u001b[0m \u001b[1m0s\u001b[0m 168ms/step\n",
      "[[1.0068462]\n",
      " [1.0139029]]\n",
      "\u001b[1m1/1\u001b[0m \u001b[32m━━━━━━━━━━━━━━━━━━━━\u001b[0m\u001b[37m\u001b[0m \u001b[1m0s\u001b[0m 168ms/step\n",
      "[[1.0392989]\n",
      " [1.0494715]]\n",
      "{0: array([0.00561507], dtype=float32), 1: array([0.00700873], dtype=float32), 2: array([0.00978795], dtype=float32)}\n",
      "Current iteration: 3, the best portfolio found was portfolio: 2\n"
     ]
    },
    {
     "name": "stderr",
     "output_type": "stream",
     "text": [
      "  0%|          | 196/100000 [00:01<13:14, 125.59it/s]\n"
     ]
    },
    {
     "name": "stdout",
     "output_type": "stream",
     "text": [
      "All assets have been tested\n",
      "Final Weights: 0.8888959780239892 0.04567835250309263 0.06542566947291807\n",
      "\u001b[1m1/1\u001b[0m \u001b[32m━━━━━━━━━━━━━━━━━━━━\u001b[0m\u001b[37m\u001b[0m \u001b[1m0s\u001b[0m 157ms/step\n",
      "[[1.1074568]\n",
      " [1.1150892]]\n",
      "\u001b[1m1/1\u001b[0m \u001b[32m━━━━━━━━━━━━━━━━━━━━\u001b[0m\u001b[37m\u001b[0m \u001b[1m0s\u001b[0m 157ms/step\n",
      "[[1.0161663]\n",
      " [1.0225098]]\n",
      "\u001b[1m1/1\u001b[0m \u001b[32m━━━━━━━━━━━━━━━━━━━━\u001b[0m\u001b[37m\u001b[0m \u001b[1m0s\u001b[0m 156ms/step\n",
      "[[1.0953611]\n",
      " [1.1066921]]\n",
      "{0: array([0.0068918], dtype=float32), 1: array([0.00624256], dtype=float32), 2: array([0.0103445], dtype=float32)}\n",
      "Current iteration: 4, the best portfolio found was portfolio: 2\n"
     ]
    },
    {
     "name": "stderr",
     "output_type": "stream",
     "text": [
      "  0%|          | 408/100000 [00:03<14:42, 112.91it/s]\n"
     ]
    },
    {
     "name": "stdout",
     "output_type": "stream",
     "text": [
      "All assets have been tested\n",
      "Final Weights: 0.9048316681586921 0.056065024612395764 0.039103307228912046\n",
      "\u001b[1m1/1\u001b[0m \u001b[32m━━━━━━━━━━━━━━━━━━━━\u001b[0m\u001b[37m\u001b[0m \u001b[1m0s\u001b[0m 179ms/step\n",
      "[[1.3022965]\n",
      " [1.3157401]]\n",
      "\u001b[1m1/1\u001b[0m \u001b[32m━━━━━━━━━━━━━━━━━━━━\u001b[0m\u001b[37m\u001b[0m \u001b[1m0s\u001b[0m 159ms/step\n",
      "[[1.3519233]\n",
      " [1.3663193]]\n",
      "\u001b[1m1/1\u001b[0m \u001b[32m━━━━━━━━━━━━━━━━━━━━\u001b[0m\u001b[37m\u001b[0m \u001b[1m0s\u001b[0m 160ms/step\n",
      "[[1.0528054]\n",
      " [1.0625068]]\n",
      "{0: array([0.01032299], dtype=float32), 1: array([0.0106485], dtype=float32), 2: array([0.00921478], dtype=float32)}\n",
      "Current iteration: 5, the best portfolio found was portfolio: 1\n"
     ]
    },
    {
     "name": "stderr",
     "output_type": "stream",
     "text": [
      "  0%|          | 335/100000 [00:02<13:51, 119.93it/s]\n"
     ]
    },
    {
     "name": "stdout",
     "output_type": "stream",
     "text": [
      "All assets have been tested\n",
      "Final Weights: 0.8722277480145983 0.04727033844056798 0.0805019135448337\n",
      "\u001b[1m1/1\u001b[0m \u001b[32m━━━━━━━━━━━━━━━━━━━━\u001b[0m\u001b[37m\u001b[0m \u001b[1m0s\u001b[0m 166ms/step\n",
      "[[1.6981015]\n",
      " [1.7151324]]\n",
      "\u001b[1m1/1\u001b[0m \u001b[32m━━━━━━━━━━━━━━━━━━━━\u001b[0m\u001b[37m\u001b[0m \u001b[1m0s\u001b[0m 157ms/step\n",
      "[[1.5706236]\n",
      " [1.5857531]]\n",
      "\u001b[1m1/1\u001b[0m \u001b[32m━━━━━━━━━━━━━━━━━━━━\u001b[0m\u001b[37m\u001b[0m \u001b[1m0s\u001b[0m 165ms/step\n",
      "[[1.413464 ]\n",
      " [1.4293905]]\n",
      "{0: array([0.01002934], dtype=float32), 1: array([0.00963276], dtype=float32), 2: array([0.01126778], dtype=float32)}\n",
      "Current iteration: 6, the best portfolio found was portfolio: 2\n"
     ]
    },
    {
     "name": "stderr",
     "output_type": "stream",
     "text": [
      "  0%|          | 317/100000 [00:02<13:56, 119.16it/s]\n"
     ]
    },
    {
     "name": "stdout",
     "output_type": "stream",
     "text": [
      "All assets have been tested\n",
      "Final Weights: 0.8904192464942469 0.030480370584783725 0.07910038292096948\n",
      "\u001b[1m1/1\u001b[0m \u001b[32m━━━━━━━━━━━━━━━━━━━━\u001b[0m\u001b[37m\u001b[0m \u001b[1m0s\u001b[0m 192ms/step\n",
      "[[1.218976 ]\n",
      " [1.2263942]]\n",
      "\u001b[1m1/1\u001b[0m \u001b[32m━━━━━━━━━━━━━━━━━━━━\u001b[0m\u001b[37m\u001b[0m \u001b[1m0s\u001b[0m 176ms/step\n",
      "[[1.2502747]\n",
      " [1.2582815]]\n",
      "\u001b[1m1/1\u001b[0m \u001b[32m━━━━━━━━━━━━━━━━━━━━\u001b[0m\u001b[37m\u001b[0m \u001b[1m0s\u001b[0m 154ms/step\n",
      "[[1.3910612]\n",
      " [1.4062284]]\n",
      "{0: array([0.00608556], dtype=float32), 1: array([0.00640404], dtype=float32), 2: array([0.01090336], dtype=float32)}\n",
      "Current iteration: 7, the best portfolio found was portfolio: 2\n"
     ]
    },
    {
     "name": "stderr",
     "output_type": "stream",
     "text": [
      "  0%|          | 386/100000 [00:03<13:52, 119.70it/s]\n"
     ]
    },
    {
     "name": "stdout",
     "output_type": "stream",
     "text": [
      "All assets have been tested\n",
      "Final Weights: 0.8703816133171932 0.054539389214092085 0.07507899746871473\n",
      "\u001b[1m1/1\u001b[0m \u001b[32m━━━━━━━━━━━━━━━━━━━━\u001b[0m\u001b[37m\u001b[0m \u001b[1m0s\u001b[0m 157ms/step\n",
      "[[1.4008654]\n",
      " [1.4120193]]\n",
      "\u001b[1m1/1\u001b[0m \u001b[32m━━━━━━━━━━━━━━━━━━━━\u001b[0m\u001b[37m\u001b[0m \u001b[1m0s\u001b[0m 161ms/step\n",
      "[[1.7514302]\n",
      " [1.7686061]]\n",
      "\u001b[1m1/1\u001b[0m \u001b[32m━━━━━━━━━━━━━━━━━━━━\u001b[0m\u001b[37m\u001b[0m \u001b[1m0s\u001b[0m 181ms/step\n",
      "[[1.0609052]\n",
      " [1.0699317]]\n",
      "{0: array([0.00796209], dtype=float32), 1: array([0.00980679], dtype=float32), 2: array([0.00850833], dtype=float32)}\n",
      "Current iteration: 8, the best portfolio found was portfolio: 1\n"
     ]
    },
    {
     "name": "stderr",
     "output_type": "stream",
     "text": [
      "  0%|          | 160/100000 [00:01<13:24, 124.10it/s]\n"
     ]
    },
    {
     "name": "stdout",
     "output_type": "stream",
     "text": [
      "All assets have been tested\n",
      "Final Weights: 0.9042984592945802 0.0429951413047036 0.05270639940071622\n",
      "\u001b[1m1/1\u001b[0m \u001b[32m━━━━━━━━━━━━━━━━━━━━\u001b[0m\u001b[37m\u001b[0m \u001b[1m0s\u001b[0m 156ms/step\n",
      "[[1.459542 ]\n",
      " [1.4636421]]\n",
      "\u001b[1m1/1\u001b[0m \u001b[32m━━━━━━━━━━━━━━━━━━━━\u001b[0m\u001b[37m\u001b[0m \u001b[1m0s\u001b[0m 159ms/step\n",
      "[[1.4701235]\n",
      " [1.4850107]]\n",
      "\u001b[1m1/1\u001b[0m \u001b[32m━━━━━━━━━━━━━━━━━━━━\u001b[0m\u001b[37m\u001b[0m \u001b[1m0s\u001b[0m 160ms/step\n",
      "[[1.6038978]\n",
      " [1.6172978]]\n",
      "{0: array([0.00280916], dtype=float32), 1: array([0.01012651], dtype=float32), 2: array([0.00835462], dtype=float32)}\n",
      "Current iteration: 9, the best portfolio found was portfolio: 1\n"
     ]
    }
   ],
   "source": [
    "def evaluate_portfolios_over_time(raw_data, window_size=5, num_windows=None, threshold=0.05, epochs=50):\n",
    "    split = len(raw_data.index) // 2\n",
    "    all_good_portfolios = []\n",
    "    if num_windows is None:\n",
    "        num_windows = split // window_size\n",
    "    \n",
    "    previous_best_portfolio = None \n",
    "\n",
    "    for i in range(num_windows):\n",
    "        curr_split = i * window_size\n",
    "\n",
    "        loop_raw_data_train = raw_data.iloc[:split + curr_split]\n",
    "        loop_raw_data_test = raw_data.iloc[split + curr_split:]\n",
    "        \n",
    "        loop_names, loop_annualized_returns, loop_cov, _ = get_matrices(loop_raw_data_train)\n",
    "        \n",
    "        _, loop_best_portfolio, loop_good_portfolios, _, _ = MLRBA_V2(loop_names, loop_cov, loop_annualized_returns)\n",
    "        best_sharpe = loop_best_portfolio['sharpe']\n",
    "        \n",
    "        close_to_best = []\n",
    "        for j in range(len(loop_good_portfolios)):\n",
    "            difference = abs((best_sharpe - loop_good_portfolios[j]['sharpe']) / best_sharpe)\n",
    "            if difference < threshold:\n",
    "                close_to_best.append(loop_good_portfolios[j])\n",
    "\n",
    "        if previous_best_portfolio is not None:\n",
    "            close_to_best.append(previous_best_portfolio)\n",
    "\n",
    "        portfolio_results = {}\n",
    "        for id, portfolio in enumerate(close_to_best):\n",
    "            portfolio_predictor = PortfolioPredictor(loop_raw_data_train, loop_raw_data_test, portfolio, n_steps=window_size, epochs=epochs)\n",
    "            portfolio_predictor.preprocess_data()\n",
    "            portfolio_predictor.build_model()\n",
    "            portfolio_predictor.train_model()\n",
    "            prediction = portfolio_predictor.predict(window_size) \n",
    "            print(prediction)          \n",
    "\n",
    "            if window_size == 1:\n",
    "                actual = portfolio_predictor.y_test_weighted[0]\n",
    "                percentage_diff = (prediction[0] - actual) / actual\n",
    "            else:\n",
    "                percentage_diff = (prediction[window_size-1] - prediction[0]) / prediction[0]\n",
    "            \n",
    "            portfolio_results[id] = percentage_diff\n",
    "\n",
    "        print(portfolio_results)          \n",
    "        best_id = max(portfolio_results, key=portfolio_results.get)\n",
    "        predicted_best_portfolio = close_to_best[best_id]\n",
    "\n",
    "        previous_best_portfolio = predicted_best_portfolio\n",
    "        \n",
    "        start_date = loop_raw_data_test.index[0]\n",
    "        end_date = loop_raw_data_test.index[window_size-1]\n",
    "        \n",
    "        all_good_portfolios.append({\n",
    "            \"portfolio\": predicted_best_portfolio,\n",
    "            \"start_date\": start_date,\n",
    "            \"end_date\": end_date\n",
    "        })\n",
    "        print(f'Current iteration: {i}, the best portfolio found was portfolio: {best_id}')\n",
    "    \n",
    "    return all_good_portfolios\n",
    "\n",
    "all_good_portfolios = evaluate_portfolios_over_time(raw_data, window_size=2, num_windows=10, threshold=0.05, epochs=50)"
   ]
  },
  {
   "cell_type": "code",
   "execution_count": 158,
   "metadata": {},
   "outputs": [
    {
     "data": {
      "text/plain": [
       "[Date\n",
       " 2020-12-31    136.823524\n",
       " 2021-01-04    139.090044\n",
       " dtype: float64,\n",
       " Date\n",
       " 2021-01-05    140.199127\n",
       " 2021-01-06    142.613553\n",
       " dtype: float64,\n",
       " Date\n",
       " 2021-01-07    152.034521\n",
       " 2021-01-08    162.323154\n",
       " dtype: float64,\n",
       " Date\n",
       " 2021-01-11    153.437026\n",
       " 2021-01-12    158.392779\n",
       " dtype: float64,\n",
       " Date\n",
       " 2021-01-13    158.767832\n",
       " 2021-01-14    156.672839\n",
       " dtype: float64,\n",
       " Date\n",
       " 2021-01-15    162.386602\n",
       " 2021-01-19    165.247623\n",
       " dtype: float64,\n",
       " Date\n",
       " 2021-01-20    167.673521\n",
       " 2021-01-21    169.272913\n",
       " dtype: float64,\n",
       " Date\n",
       " 2021-01-22    168.745175\n",
       " 2021-01-25    172.802748\n",
       " dtype: float64,\n",
       " Date\n",
       " 2021-01-26    181.335058\n",
       " 2021-01-27    177.284464\n",
       " dtype: float64,\n",
       " Date\n",
       " 2021-01-28    161.220423\n",
       " 2021-01-29    155.226544\n",
       " dtype: float64]"
      ]
     },
     "execution_count": 158,
     "metadata": {},
     "output_type": "execute_result"
    }
   ],
   "source": [
    "def extract_asset_returns(raw_data, assets, start_date, end_date):\n",
    "    if not isinstance(raw_data.index, pd.DatetimeIndex):\n",
    "        raw_data.index = pd.to_datetime(raw_data.index)\n",
    "\n",
    "    filtered_data = raw_data.loc[start_date:end_date, assets]\n",
    "\n",
    "    return filtered_data\n",
    "\n",
    "ML_portfolio = []\n",
    "\n",
    "for i in range(len(all_good_portfolios)):\n",
    "    curr_best_portfolio = all_good_portfolios[i]['portfolio']\n",
    "    best_curr_port_assets = curr_best_portfolio['tickers']\n",
    "\n",
    "    best_curr_port_assets_test_data = extract_asset_returns(raw_data, best_curr_port_assets, all_good_portfolios[i]['start_date'], all_good_portfolios[i]['end_date'])\n",
    "\n",
    "    curr_best_portfolio_weights = curr_best_portfolio['weights']\n",
    "\n",
    "    weighted_returns = best_curr_port_assets_test_data.mul(curr_best_portfolio_weights, axis='columns')\n",
    "    portfolio_daily_returns = weighted_returns.sum(axis=1)\n",
    "\n",
    "    ML_portfolio.append(portfolio_daily_returns)\n",
    "\n",
    "ML_portfolio"
   ]
  },
  {
   "cell_type": "code",
   "execution_count": 159,
   "metadata": {},
   "outputs": [
    {
     "name": "stderr",
     "output_type": "stream",
     "text": [
      "C:\\Users\\tongc\\AppData\\Local\\Temp\\ipykernel_27484\\3348600324.py:15: FutureWarning:\n",
      "\n",
      "The behavior of array concatenation with empty entries is deprecated. In a future version, this will no longer exclude empty items when determining the result dtype. To retain the old behavior, exclude the empty entries before the concat operation.\n",
      "\n"
     ]
    },
    {
     "data": {
      "text/plain": [
       "2020-12-31    100.000000\n",
       "2021-01-04    101.656528\n",
       "2021-01-05    101.656528\n",
       "2021-01-06    103.407197\n",
       "2021-01-07    103.407197\n",
       "2021-01-08    110.405073\n",
       "2021-01-11    110.405073\n",
       "2021-01-12    113.970968\n",
       "2021-01-13    113.970968\n",
       "2021-01-14    112.467084\n",
       "2021-01-15    112.467084\n",
       "2021-01-19    114.448594\n",
       "2021-01-20    114.448594\n",
       "2021-01-21    115.540288\n",
       "2021-01-22    115.540288\n",
       "2021-01-25    118.318520\n",
       "2021-01-26    118.318520\n",
       "2021-01-27    115.675565\n",
       "2021-01-28    115.675565\n",
       "2021-01-29    111.374960\n",
       "dtype: float64"
      ]
     },
     "execution_count": 159,
     "metadata": {},
     "output_type": "execute_result"
    }
   ],
   "source": [
    "import pandas as pd\n",
    "\n",
    "def chain_portfolio_performance(weekly_series_list, starting_value=100):\n",
    "    continuous_series = pd.Series()\n",
    "    current_value = starting_value\n",
    "\n",
    "    for week_series in weekly_series_list:\n",
    "        # Normalize the week so that it starts at 1 (or current_value)\n",
    "        week_normalized = week_series / week_series.iloc[0]\n",
    "        # Scale the normalized week to start at current_value\n",
    "        week_scaled = week_normalized * current_value\n",
    "        # Update the current_value to the last value of this week\n",
    "        current_value = week_scaled.iloc[-1]\n",
    "        # Append the week_series to the continuous_series\n",
    "        continuous_series = pd.concat([continuous_series, week_scaled])\n",
    "    \n",
    "    return continuous_series\n",
    "\n",
    "ML_portfolio_streamed = chain_portfolio_performance(ML_portfolio, starting_value=100)\n",
    "ML_portfolio_streamed"
   ]
  },
  {
   "cell_type": "code",
   "execution_count": 160,
   "metadata": {},
   "outputs": [
    {
     "name": "stderr",
     "output_type": "stream",
     "text": [
      "[*********************100%***********************]  1 of 1 completed"
     ]
    },
    {
     "name": "stdout",
     "output_type": "stream",
     "text": [
      "Omitted assets: []\n",
      "Time to fetch data: 0.10 seconds\n",
      "Max combination of assets with complete data: 1\n"
     ]
    },
    {
     "name": "stderr",
     "output_type": "stream",
     "text": [
      "\n"
     ]
    },
    {
     "data": {
      "application/vnd.plotly.v1+json": {
       "config": {
        "plotlyServerURL": "https://plot.ly"
       },
       "data": [
        {
         "mode": "lines",
         "name": "Nasdaq Composite",
         "type": "scatter",
         "x": [
          "2020-12-31T00:00:00.000000000",
          "2021-01-04T00:00:00.000000000",
          "2021-01-05T00:00:00.000000000",
          "2021-01-06T00:00:00.000000000",
          "2021-01-07T00:00:00.000000000",
          "2021-01-08T00:00:00.000000000",
          "2021-01-11T00:00:00.000000000",
          "2021-01-12T00:00:00.000000000",
          "2021-01-13T00:00:00.000000000",
          "2021-01-14T00:00:00.000000000",
          "2021-01-15T00:00:00.000000000",
          "2021-01-19T00:00:00.000000000",
          "2021-01-20T00:00:00.000000000",
          "2021-01-21T00:00:00.000000000",
          "2021-01-22T00:00:00.000000000",
          "2021-01-25T00:00:00.000000000",
          "2021-01-26T00:00:00.000000000",
          "2021-01-27T00:00:00.000000000",
          "2021-01-28T00:00:00.000000000"
         ],
         "y": {
          "bdata": "AAAAAAAAWUBp40MvvKFYQGy96MaT3VhAns8bkMK2WEDaTJuC/FhZQP5IJpbGm1lAM1bwO5FJWUA4ysGrcVtZQNzuwb2Cd1lAv8ymSmlvWUAf7zx9uzZZQO+2rktkmVlA8ToIR4kaWkDtGQwyHT9aQCQPHqslRVpAYHXgUEtzWkD5L8/lXG5aQMU6nqzZvVlA0w4jEefeWUA=",
          "dtype": "f8"
         }
        },
        {
         "mode": "lines",
         "name": "Portfolio Growth",
         "type": "scatter",
         "x": [
          "2020-12-31T00:00:00.000000000",
          "2021-01-04T00:00:00.000000000",
          "2021-01-05T00:00:00.000000000",
          "2021-01-06T00:00:00.000000000",
          "2021-01-07T00:00:00.000000000",
          "2021-01-08T00:00:00.000000000",
          "2021-01-11T00:00:00.000000000",
          "2021-01-12T00:00:00.000000000",
          "2021-01-13T00:00:00.000000000",
          "2021-01-14T00:00:00.000000000",
          "2021-01-15T00:00:00.000000000",
          "2021-01-19T00:00:00.000000000",
          "2021-01-20T00:00:00.000000000",
          "2021-01-21T00:00:00.000000000",
          "2021-01-22T00:00:00.000000000",
          "2021-01-25T00:00:00.000000000",
          "2021-01-26T00:00:00.000000000",
          "2021-01-27T00:00:00.000000000",
          "2021-01-28T00:00:00.000000000",
          "2021-01-29T00:00:00.000000000"
         ],
         "y": {
          "bdata": "AAAAAAAAWUDDEcyOBGpZQMMRzI4EallARz+Ygg/aWUBHP5iCD9pZQGfdwrXsmVtAZ93CteyZW0BSADpVJH5cQFIAOlUkflxAqG3ws+QdXECobfCz5B1cQIEqosK1nFxAgSqiwrWcXEAkJIYUlOJcQCQkhhSU4lxAZYrjn2KUXUBliuOfYpRdQFL75HU861xAUvvkdTzrXECOFxVa/9dbQA==",
          "dtype": "f8"
         }
        }
       ],
       "layout": {
        "template": {
         "data": {
          "bar": [
           {
            "error_x": {
             "color": "#2a3f5f"
            },
            "error_y": {
             "color": "#2a3f5f"
            },
            "marker": {
             "line": {
              "color": "#E5ECF6",
              "width": 0.5
             },
             "pattern": {
              "fillmode": "overlay",
              "size": 10,
              "solidity": 0.2
             }
            },
            "type": "bar"
           }
          ],
          "barpolar": [
           {
            "marker": {
             "line": {
              "color": "#E5ECF6",
              "width": 0.5
             },
             "pattern": {
              "fillmode": "overlay",
              "size": 10,
              "solidity": 0.2
             }
            },
            "type": "barpolar"
           }
          ],
          "carpet": [
           {
            "aaxis": {
             "endlinecolor": "#2a3f5f",
             "gridcolor": "white",
             "linecolor": "white",
             "minorgridcolor": "white",
             "startlinecolor": "#2a3f5f"
            },
            "baxis": {
             "endlinecolor": "#2a3f5f",
             "gridcolor": "white",
             "linecolor": "white",
             "minorgridcolor": "white",
             "startlinecolor": "#2a3f5f"
            },
            "type": "carpet"
           }
          ],
          "choropleth": [
           {
            "colorbar": {
             "outlinewidth": 0,
             "ticks": ""
            },
            "type": "choropleth"
           }
          ],
          "contour": [
           {
            "colorbar": {
             "outlinewidth": 0,
             "ticks": ""
            },
            "colorscale": [
             [
              0,
              "#0d0887"
             ],
             [
              0.1111111111111111,
              "#46039f"
             ],
             [
              0.2222222222222222,
              "#7201a8"
             ],
             [
              0.3333333333333333,
              "#9c179e"
             ],
             [
              0.4444444444444444,
              "#bd3786"
             ],
             [
              0.5555555555555556,
              "#d8576b"
             ],
             [
              0.6666666666666666,
              "#ed7953"
             ],
             [
              0.7777777777777778,
              "#fb9f3a"
             ],
             [
              0.8888888888888888,
              "#fdca26"
             ],
             [
              1,
              "#f0f921"
             ]
            ],
            "type": "contour"
           }
          ],
          "contourcarpet": [
           {
            "colorbar": {
             "outlinewidth": 0,
             "ticks": ""
            },
            "type": "contourcarpet"
           }
          ],
          "heatmap": [
           {
            "colorbar": {
             "outlinewidth": 0,
             "ticks": ""
            },
            "colorscale": [
             [
              0,
              "#0d0887"
             ],
             [
              0.1111111111111111,
              "#46039f"
             ],
             [
              0.2222222222222222,
              "#7201a8"
             ],
             [
              0.3333333333333333,
              "#9c179e"
             ],
             [
              0.4444444444444444,
              "#bd3786"
             ],
             [
              0.5555555555555556,
              "#d8576b"
             ],
             [
              0.6666666666666666,
              "#ed7953"
             ],
             [
              0.7777777777777778,
              "#fb9f3a"
             ],
             [
              0.8888888888888888,
              "#fdca26"
             ],
             [
              1,
              "#f0f921"
             ]
            ],
            "type": "heatmap"
           }
          ],
          "histogram": [
           {
            "marker": {
             "pattern": {
              "fillmode": "overlay",
              "size": 10,
              "solidity": 0.2
             }
            },
            "type": "histogram"
           }
          ],
          "histogram2d": [
           {
            "colorbar": {
             "outlinewidth": 0,
             "ticks": ""
            },
            "colorscale": [
             [
              0,
              "#0d0887"
             ],
             [
              0.1111111111111111,
              "#46039f"
             ],
             [
              0.2222222222222222,
              "#7201a8"
             ],
             [
              0.3333333333333333,
              "#9c179e"
             ],
             [
              0.4444444444444444,
              "#bd3786"
             ],
             [
              0.5555555555555556,
              "#d8576b"
             ],
             [
              0.6666666666666666,
              "#ed7953"
             ],
             [
              0.7777777777777778,
              "#fb9f3a"
             ],
             [
              0.8888888888888888,
              "#fdca26"
             ],
             [
              1,
              "#f0f921"
             ]
            ],
            "type": "histogram2d"
           }
          ],
          "histogram2dcontour": [
           {
            "colorbar": {
             "outlinewidth": 0,
             "ticks": ""
            },
            "colorscale": [
             [
              0,
              "#0d0887"
             ],
             [
              0.1111111111111111,
              "#46039f"
             ],
             [
              0.2222222222222222,
              "#7201a8"
             ],
             [
              0.3333333333333333,
              "#9c179e"
             ],
             [
              0.4444444444444444,
              "#bd3786"
             ],
             [
              0.5555555555555556,
              "#d8576b"
             ],
             [
              0.6666666666666666,
              "#ed7953"
             ],
             [
              0.7777777777777778,
              "#fb9f3a"
             ],
             [
              0.8888888888888888,
              "#fdca26"
             ],
             [
              1,
              "#f0f921"
             ]
            ],
            "type": "histogram2dcontour"
           }
          ],
          "mesh3d": [
           {
            "colorbar": {
             "outlinewidth": 0,
             "ticks": ""
            },
            "type": "mesh3d"
           }
          ],
          "parcoords": [
           {
            "line": {
             "colorbar": {
              "outlinewidth": 0,
              "ticks": ""
             }
            },
            "type": "parcoords"
           }
          ],
          "pie": [
           {
            "automargin": true,
            "type": "pie"
           }
          ],
          "scatter": [
           {
            "fillpattern": {
             "fillmode": "overlay",
             "size": 10,
             "solidity": 0.2
            },
            "type": "scatter"
           }
          ],
          "scatter3d": [
           {
            "line": {
             "colorbar": {
              "outlinewidth": 0,
              "ticks": ""
             }
            },
            "marker": {
             "colorbar": {
              "outlinewidth": 0,
              "ticks": ""
             }
            },
            "type": "scatter3d"
           }
          ],
          "scattercarpet": [
           {
            "marker": {
             "colorbar": {
              "outlinewidth": 0,
              "ticks": ""
             }
            },
            "type": "scattercarpet"
           }
          ],
          "scattergeo": [
           {
            "marker": {
             "colorbar": {
              "outlinewidth": 0,
              "ticks": ""
             }
            },
            "type": "scattergeo"
           }
          ],
          "scattergl": [
           {
            "marker": {
             "colorbar": {
              "outlinewidth": 0,
              "ticks": ""
             }
            },
            "type": "scattergl"
           }
          ],
          "scattermap": [
           {
            "marker": {
             "colorbar": {
              "outlinewidth": 0,
              "ticks": ""
             }
            },
            "type": "scattermap"
           }
          ],
          "scattermapbox": [
           {
            "marker": {
             "colorbar": {
              "outlinewidth": 0,
              "ticks": ""
             }
            },
            "type": "scattermapbox"
           }
          ],
          "scatterpolar": [
           {
            "marker": {
             "colorbar": {
              "outlinewidth": 0,
              "ticks": ""
             }
            },
            "type": "scatterpolar"
           }
          ],
          "scatterpolargl": [
           {
            "marker": {
             "colorbar": {
              "outlinewidth": 0,
              "ticks": ""
             }
            },
            "type": "scatterpolargl"
           }
          ],
          "scatterternary": [
           {
            "marker": {
             "colorbar": {
              "outlinewidth": 0,
              "ticks": ""
             }
            },
            "type": "scatterternary"
           }
          ],
          "surface": [
           {
            "colorbar": {
             "outlinewidth": 0,
             "ticks": ""
            },
            "colorscale": [
             [
              0,
              "#0d0887"
             ],
             [
              0.1111111111111111,
              "#46039f"
             ],
             [
              0.2222222222222222,
              "#7201a8"
             ],
             [
              0.3333333333333333,
              "#9c179e"
             ],
             [
              0.4444444444444444,
              "#bd3786"
             ],
             [
              0.5555555555555556,
              "#d8576b"
             ],
             [
              0.6666666666666666,
              "#ed7953"
             ],
             [
              0.7777777777777778,
              "#fb9f3a"
             ],
             [
              0.8888888888888888,
              "#fdca26"
             ],
             [
              1,
              "#f0f921"
             ]
            ],
            "type": "surface"
           }
          ],
          "table": [
           {
            "cells": {
             "fill": {
              "color": "#EBF0F8"
             },
             "line": {
              "color": "white"
             }
            },
            "header": {
             "fill": {
              "color": "#C8D4E3"
             },
             "line": {
              "color": "white"
             }
            },
            "type": "table"
           }
          ]
         },
         "layout": {
          "annotationdefaults": {
           "arrowcolor": "#2a3f5f",
           "arrowhead": 0,
           "arrowwidth": 1
          },
          "autotypenumbers": "strict",
          "coloraxis": {
           "colorbar": {
            "outlinewidth": 0,
            "ticks": ""
           }
          },
          "colorscale": {
           "diverging": [
            [
             0,
             "#8e0152"
            ],
            [
             0.1,
             "#c51b7d"
            ],
            [
             0.2,
             "#de77ae"
            ],
            [
             0.3,
             "#f1b6da"
            ],
            [
             0.4,
             "#fde0ef"
            ],
            [
             0.5,
             "#f7f7f7"
            ],
            [
             0.6,
             "#e6f5d0"
            ],
            [
             0.7,
             "#b8e186"
            ],
            [
             0.8,
             "#7fbc41"
            ],
            [
             0.9,
             "#4d9221"
            ],
            [
             1,
             "#276419"
            ]
           ],
           "sequential": [
            [
             0,
             "#0d0887"
            ],
            [
             0.1111111111111111,
             "#46039f"
            ],
            [
             0.2222222222222222,
             "#7201a8"
            ],
            [
             0.3333333333333333,
             "#9c179e"
            ],
            [
             0.4444444444444444,
             "#bd3786"
            ],
            [
             0.5555555555555556,
             "#d8576b"
            ],
            [
             0.6666666666666666,
             "#ed7953"
            ],
            [
             0.7777777777777778,
             "#fb9f3a"
            ],
            [
             0.8888888888888888,
             "#fdca26"
            ],
            [
             1,
             "#f0f921"
            ]
           ],
           "sequentialminus": [
            [
             0,
             "#0d0887"
            ],
            [
             0.1111111111111111,
             "#46039f"
            ],
            [
             0.2222222222222222,
             "#7201a8"
            ],
            [
             0.3333333333333333,
             "#9c179e"
            ],
            [
             0.4444444444444444,
             "#bd3786"
            ],
            [
             0.5555555555555556,
             "#d8576b"
            ],
            [
             0.6666666666666666,
             "#ed7953"
            ],
            [
             0.7777777777777778,
             "#fb9f3a"
            ],
            [
             0.8888888888888888,
             "#fdca26"
            ],
            [
             1,
             "#f0f921"
            ]
           ]
          },
          "colorway": [
           "#636efa",
           "#EF553B",
           "#00cc96",
           "#ab63fa",
           "#FFA15A",
           "#19d3f3",
           "#FF6692",
           "#B6E880",
           "#FF97FF",
           "#FECB52"
          ],
          "font": {
           "color": "#2a3f5f"
          },
          "geo": {
           "bgcolor": "white",
           "lakecolor": "white",
           "landcolor": "#E5ECF6",
           "showlakes": true,
           "showland": true,
           "subunitcolor": "white"
          },
          "hoverlabel": {
           "align": "left"
          },
          "hovermode": "closest",
          "mapbox": {
           "style": "light"
          },
          "paper_bgcolor": "white",
          "plot_bgcolor": "#E5ECF6",
          "polar": {
           "angularaxis": {
            "gridcolor": "white",
            "linecolor": "white",
            "ticks": ""
           },
           "bgcolor": "#E5ECF6",
           "radialaxis": {
            "gridcolor": "white",
            "linecolor": "white",
            "ticks": ""
           }
          },
          "scene": {
           "xaxis": {
            "backgroundcolor": "#E5ECF6",
            "gridcolor": "white",
            "gridwidth": 2,
            "linecolor": "white",
            "showbackground": true,
            "ticks": "",
            "zerolinecolor": "white"
           },
           "yaxis": {
            "backgroundcolor": "#E5ECF6",
            "gridcolor": "white",
            "gridwidth": 2,
            "linecolor": "white",
            "showbackground": true,
            "ticks": "",
            "zerolinecolor": "white"
           },
           "zaxis": {
            "backgroundcolor": "#E5ECF6",
            "gridcolor": "white",
            "gridwidth": 2,
            "linecolor": "white",
            "showbackground": true,
            "ticks": "",
            "zerolinecolor": "white"
           }
          },
          "shapedefaults": {
           "line": {
            "color": "#2a3f5f"
           }
          },
          "ternary": {
           "aaxis": {
            "gridcolor": "white",
            "linecolor": "white",
            "ticks": ""
           },
           "baxis": {
            "gridcolor": "white",
            "linecolor": "white",
            "ticks": ""
           },
           "bgcolor": "#E5ECF6",
           "caxis": {
            "gridcolor": "white",
            "linecolor": "white",
            "ticks": ""
           }
          },
          "title": {
           "x": 0.05
          },
          "xaxis": {
           "automargin": true,
           "gridcolor": "white",
           "linecolor": "white",
           "ticks": "",
           "title": {
            "standoff": 15
           },
           "zerolinecolor": "white",
           "zerolinewidth": 2
          },
          "yaxis": {
           "automargin": true,
           "gridcolor": "white",
           "linecolor": "white",
           "ticks": "",
           "title": {
            "standoff": 15
           },
           "zerolinecolor": "white",
           "zerolinewidth": 2
          }
         }
        },
        "title": {
         "text": "Comparison of Portfolio vs. Nasdaq Composite Growth"
        },
        "xaxis": {
         "tickformat": "%b %Y",
         "tickmode": "auto",
         "title": {
          "text": "Date"
         },
         "type": "date"
        },
        "yaxis": {
         "title": {
          "text": "Normalized Value (Base 100%)"
         }
        }
       }
      }
     },
     "metadata": {},
     "output_type": "display_data"
    }
   ],
   "source": [
    "ML_daily_returns = ML_portfolio_streamed.pct_change()\n",
    "ML_cumulative_returns = (1 + ML_daily_returns).cumprod()\n",
    "\n",
    "ML_cumulative_returns.iloc[0] = 1\n",
    "ML_portfolio_normalized = (ML_cumulative_returns / ML_cumulative_returns.iloc[0]) * 100\n",
    "\n",
    "Nasdaq_comp = getNasdaq_comp(ML_portfolio_streamed.index[0], ML_portfolio_streamed.index[-1])\n",
    "\n",
    "fig = go.Figure()\n",
    "\n",
    "fig.add_trace(go.Scatter(\n",
    "    x=Nasdaq_comp.index,\n",
    "    y=Nasdaq_comp['Normalized'],\n",
    "    mode='lines',\n",
    "    name='Nasdaq Composite'\n",
    "))\n",
    "\n",
    "fig.add_trace(go.Scatter(\n",
    "    x=ML_cumulative_returns.index,\n",
    "    y=ML_portfolio_normalized,\n",
    "    mode='lines',\n",
    "    name='Portfolio Growth'\n",
    "))\n",
    "\n",
    "fig.update_layout(\n",
    "    title='Comparison of Portfolio vs. Nasdaq Composite Growth',\n",
    "    xaxis_title='Date',\n",
    "    yaxis_title='Normalized Value (Base 100%)',\n",
    "    xaxis=dict(\n",
    "        type='date',\n",
    "        tickformat='%b %Y',\n",
    "        tickmode='auto'\n",
    "    )\n",
    ")"
   ]
  },
  {
   "cell_type": "markdown",
   "metadata": {
    "id": "KFtx1nkbabDW",
    "jp-MarkdownHeadingCollapsed": true
   },
   "source": [
    "## 7.0 Find Optimal Portfolio Size"
   ]
  },
  {
   "cell_type": "code",
   "execution_count": 56,
   "metadata": {
    "colab": {
     "base_uri": "https://localhost:8080/"
    },
    "id": "TSnuoMXUabDW",
    "outputId": "821dc1cf-0262-45fb-9296-ae3847b54dce"
   },
   "outputs": [
    {
     "name": "stderr",
     "output_type": "stream",
     "text": [
      "100%|██████████| 10000/10000 [00:09<00:00, 1018.95it/s]\n"
     ]
    }
   ],
   "source": [
    "all_portfolios, dominant_portfolios = MonteCarloRBA(names, cov, annualized_returns, 10000, \"random\", 3, 50)"
   ]
  },
  {
   "cell_type": "code",
   "execution_count": 57,
   "metadata": {
    "colab": {
     "base_uri": "https://localhost:8080/",
     "height": 542
    },
    "id": "pXRrClKnabDW",
    "outputId": "c0cb593c-3e56-4060-e1d1-a69c2221d9e6"
   },
   "outputs": [
    {
     "data": {
      "application/vnd.plotly.v1+json": {
       "config": {
        "plotlyServerURL": "https://plot.ly"
       },
       "data": [
        {
         "mode": "lines",
         "name": "Average Volatility",
         "type": "scatter",
         "x": [
          3,
          4,
          5,
          6,
          7,
          8,
          9,
          10,
          11,
          12,
          13,
          14,
          15,
          16,
          17,
          18,
          19,
          20,
          21,
          22,
          23,
          24,
          25,
          26,
          27,
          28,
          29,
          30,
          31,
          32,
          33,
          34,
          35,
          36,
          37,
          38,
          39,
          40,
          41,
          42,
          43,
          44,
          45,
          46,
          47,
          48,
          49
         ],
         "y": [
          0.21431643458919164,
          0.21077004155534187,
          0.20153077129141295,
          0.20120536963577368,
          0.19356327682018848,
          0.18321044410097026,
          0.1875297011501395,
          0.1823692667447534,
          0.17672940749142185,
          0.1796591251657784,
          0.17595289983424525,
          0.17595555805005603,
          0.1755872880873469,
          0.17548112775768704,
          0.1751736930689608,
          0.17277615671940189,
          0.17255293757790363,
          0.17397574874522337,
          0.1719546974965491,
          0.1707194410777688,
          0.17122026054409475,
          0.17115014630620257,
          0.16959847255339416,
          0.16986194382679265,
          0.16971701306733036,
          0.16988439005711048,
          0.1688736067371912,
          0.16924541333626741,
          0.1670671453202568,
          0.16890160393735892,
          0.16662285876582197,
          0.16656695352954018,
          0.16704128281711003,
          0.1673206976215999,
          0.16691341845603982,
          0.16872753906170868,
          0.16521833591185736,
          0.16550506490899067,
          0.16647605376236554,
          0.16537288570900358,
          0.1652101750795345,
          0.16594000547677726,
          0.16632179947171474,
          0.16528400033008145,
          0.16562897334133034,
          0.16608447718120506,
          0.165300133421116
         ]
        },
        {
         "mode": "lines",
         "name": "Average Returns",
         "type": "scatter",
         "x": [
          3,
          4,
          5,
          6,
          7,
          8,
          9,
          10,
          11,
          12,
          13,
          14,
          15,
          16,
          17,
          18,
          19,
          20,
          21,
          22,
          23,
          24,
          25,
          26,
          27,
          28,
          29,
          30,
          31,
          32,
          33,
          34,
          35,
          36,
          37,
          38,
          39,
          40,
          41,
          42,
          43,
          44,
          45,
          46,
          47,
          48,
          49
         ],
         "y": [
          0.04908278941863773,
          0.04428334226228305,
          0.047852390793005316,
          0.03880267535223201,
          0.03352525247605949,
          0.05820148969416694,
          0.05067882348646891,
          0.0490191333450544,
          0.06491637987309071,
          0.046507246337431446,
          0.04486618472940037,
          0.05973917615451083,
          0.04950937150330246,
          0.04959426816351979,
          0.05154252978072292,
          0.04853737614888836,
          0.048880732364603115,
          0.048763247297758355,
          0.05018997021817788,
          0.046626593511913485,
          0.0494333673464597,
          0.044901292373596996,
          0.04690309276885421,
          0.04456108206926595,
          0.050075717490920914,
          0.04400602321219258,
          0.05501095670780713,
          0.04678281516418586,
          0.05406065011565065,
          0.047046130746319345,
          0.0511190343662651,
          0.050003679101739806,
          0.0509183031703628,
          0.04759741478569033,
          0.04744699314263268,
          0.04526541821277337,
          0.0531652081180038,
          0.04984270700215691,
          0.05168660607143117,
          0.04863280316513515,
          0.05328752481927493,
          0.05213544847793795,
          0.04738611702078399,
          0.053140549814337606,
          0.04764537015284518,
          0.05177873950268552,
          0.05452854990866414
         ]
        }
       ],
       "layout": {
        "template": {
         "data": {
          "bar": [
           {
            "error_x": {
             "color": "#2a3f5f"
            },
            "error_y": {
             "color": "#2a3f5f"
            },
            "marker": {
             "line": {
              "color": "#E5ECF6",
              "width": 0.5
             },
             "pattern": {
              "fillmode": "overlay",
              "size": 10,
              "solidity": 0.2
             }
            },
            "type": "bar"
           }
          ],
          "barpolar": [
           {
            "marker": {
             "line": {
              "color": "#E5ECF6",
              "width": 0.5
             },
             "pattern": {
              "fillmode": "overlay",
              "size": 10,
              "solidity": 0.2
             }
            },
            "type": "barpolar"
           }
          ],
          "carpet": [
           {
            "aaxis": {
             "endlinecolor": "#2a3f5f",
             "gridcolor": "white",
             "linecolor": "white",
             "minorgridcolor": "white",
             "startlinecolor": "#2a3f5f"
            },
            "baxis": {
             "endlinecolor": "#2a3f5f",
             "gridcolor": "white",
             "linecolor": "white",
             "minorgridcolor": "white",
             "startlinecolor": "#2a3f5f"
            },
            "type": "carpet"
           }
          ],
          "choropleth": [
           {
            "colorbar": {
             "outlinewidth": 0,
             "ticks": ""
            },
            "type": "choropleth"
           }
          ],
          "contour": [
           {
            "colorbar": {
             "outlinewidth": 0,
             "ticks": ""
            },
            "colorscale": [
             [
              0,
              "#0d0887"
             ],
             [
              0.1111111111111111,
              "#46039f"
             ],
             [
              0.2222222222222222,
              "#7201a8"
             ],
             [
              0.3333333333333333,
              "#9c179e"
             ],
             [
              0.4444444444444444,
              "#bd3786"
             ],
             [
              0.5555555555555556,
              "#d8576b"
             ],
             [
              0.6666666666666666,
              "#ed7953"
             ],
             [
              0.7777777777777778,
              "#fb9f3a"
             ],
             [
              0.8888888888888888,
              "#fdca26"
             ],
             [
              1,
              "#f0f921"
             ]
            ],
            "type": "contour"
           }
          ],
          "contourcarpet": [
           {
            "colorbar": {
             "outlinewidth": 0,
             "ticks": ""
            },
            "type": "contourcarpet"
           }
          ],
          "heatmap": [
           {
            "colorbar": {
             "outlinewidth": 0,
             "ticks": ""
            },
            "colorscale": [
             [
              0,
              "#0d0887"
             ],
             [
              0.1111111111111111,
              "#46039f"
             ],
             [
              0.2222222222222222,
              "#7201a8"
             ],
             [
              0.3333333333333333,
              "#9c179e"
             ],
             [
              0.4444444444444444,
              "#bd3786"
             ],
             [
              0.5555555555555556,
              "#d8576b"
             ],
             [
              0.6666666666666666,
              "#ed7953"
             ],
             [
              0.7777777777777778,
              "#fb9f3a"
             ],
             [
              0.8888888888888888,
              "#fdca26"
             ],
             [
              1,
              "#f0f921"
             ]
            ],
            "type": "heatmap"
           }
          ],
          "histogram": [
           {
            "marker": {
             "pattern": {
              "fillmode": "overlay",
              "size": 10,
              "solidity": 0.2
             }
            },
            "type": "histogram"
           }
          ],
          "histogram2d": [
           {
            "colorbar": {
             "outlinewidth": 0,
             "ticks": ""
            },
            "colorscale": [
             [
              0,
              "#0d0887"
             ],
             [
              0.1111111111111111,
              "#46039f"
             ],
             [
              0.2222222222222222,
              "#7201a8"
             ],
             [
              0.3333333333333333,
              "#9c179e"
             ],
             [
              0.4444444444444444,
              "#bd3786"
             ],
             [
              0.5555555555555556,
              "#d8576b"
             ],
             [
              0.6666666666666666,
              "#ed7953"
             ],
             [
              0.7777777777777778,
              "#fb9f3a"
             ],
             [
              0.8888888888888888,
              "#fdca26"
             ],
             [
              1,
              "#f0f921"
             ]
            ],
            "type": "histogram2d"
           }
          ],
          "histogram2dcontour": [
           {
            "colorbar": {
             "outlinewidth": 0,
             "ticks": ""
            },
            "colorscale": [
             [
              0,
              "#0d0887"
             ],
             [
              0.1111111111111111,
              "#46039f"
             ],
             [
              0.2222222222222222,
              "#7201a8"
             ],
             [
              0.3333333333333333,
              "#9c179e"
             ],
             [
              0.4444444444444444,
              "#bd3786"
             ],
             [
              0.5555555555555556,
              "#d8576b"
             ],
             [
              0.6666666666666666,
              "#ed7953"
             ],
             [
              0.7777777777777778,
              "#fb9f3a"
             ],
             [
              0.8888888888888888,
              "#fdca26"
             ],
             [
              1,
              "#f0f921"
             ]
            ],
            "type": "histogram2dcontour"
           }
          ],
          "mesh3d": [
           {
            "colorbar": {
             "outlinewidth": 0,
             "ticks": ""
            },
            "type": "mesh3d"
           }
          ],
          "parcoords": [
           {
            "line": {
             "colorbar": {
              "outlinewidth": 0,
              "ticks": ""
             }
            },
            "type": "parcoords"
           }
          ],
          "pie": [
           {
            "automargin": true,
            "type": "pie"
           }
          ],
          "scatter": [
           {
            "fillpattern": {
             "fillmode": "overlay",
             "size": 10,
             "solidity": 0.2
            },
            "type": "scatter"
           }
          ],
          "scatter3d": [
           {
            "line": {
             "colorbar": {
              "outlinewidth": 0,
              "ticks": ""
             }
            },
            "marker": {
             "colorbar": {
              "outlinewidth": 0,
              "ticks": ""
             }
            },
            "type": "scatter3d"
           }
          ],
          "scattercarpet": [
           {
            "marker": {
             "colorbar": {
              "outlinewidth": 0,
              "ticks": ""
             }
            },
            "type": "scattercarpet"
           }
          ],
          "scattergeo": [
           {
            "marker": {
             "colorbar": {
              "outlinewidth": 0,
              "ticks": ""
             }
            },
            "type": "scattergeo"
           }
          ],
          "scattergl": [
           {
            "marker": {
             "colorbar": {
              "outlinewidth": 0,
              "ticks": ""
             }
            },
            "type": "scattergl"
           }
          ],
          "scattermap": [
           {
            "marker": {
             "colorbar": {
              "outlinewidth": 0,
              "ticks": ""
             }
            },
            "type": "scattermap"
           }
          ],
          "scattermapbox": [
           {
            "marker": {
             "colorbar": {
              "outlinewidth": 0,
              "ticks": ""
             }
            },
            "type": "scattermapbox"
           }
          ],
          "scatterpolar": [
           {
            "marker": {
             "colorbar": {
              "outlinewidth": 0,
              "ticks": ""
             }
            },
            "type": "scatterpolar"
           }
          ],
          "scatterpolargl": [
           {
            "marker": {
             "colorbar": {
              "outlinewidth": 0,
              "ticks": ""
             }
            },
            "type": "scatterpolargl"
           }
          ],
          "scatterternary": [
           {
            "marker": {
             "colorbar": {
              "outlinewidth": 0,
              "ticks": ""
             }
            },
            "type": "scatterternary"
           }
          ],
          "surface": [
           {
            "colorbar": {
             "outlinewidth": 0,
             "ticks": ""
            },
            "colorscale": [
             [
              0,
              "#0d0887"
             ],
             [
              0.1111111111111111,
              "#46039f"
             ],
             [
              0.2222222222222222,
              "#7201a8"
             ],
             [
              0.3333333333333333,
              "#9c179e"
             ],
             [
              0.4444444444444444,
              "#bd3786"
             ],
             [
              0.5555555555555556,
              "#d8576b"
             ],
             [
              0.6666666666666666,
              "#ed7953"
             ],
             [
              0.7777777777777778,
              "#fb9f3a"
             ],
             [
              0.8888888888888888,
              "#fdca26"
             ],
             [
              1,
              "#f0f921"
             ]
            ],
            "type": "surface"
           }
          ],
          "table": [
           {
            "cells": {
             "fill": {
              "color": "#EBF0F8"
             },
             "line": {
              "color": "white"
             }
            },
            "header": {
             "fill": {
              "color": "#C8D4E3"
             },
             "line": {
              "color": "white"
             }
            },
            "type": "table"
           }
          ]
         },
         "layout": {
          "annotationdefaults": {
           "arrowcolor": "#2a3f5f",
           "arrowhead": 0,
           "arrowwidth": 1
          },
          "autotypenumbers": "strict",
          "coloraxis": {
           "colorbar": {
            "outlinewidth": 0,
            "ticks": ""
           }
          },
          "colorscale": {
           "diverging": [
            [
             0,
             "#8e0152"
            ],
            [
             0.1,
             "#c51b7d"
            ],
            [
             0.2,
             "#de77ae"
            ],
            [
             0.3,
             "#f1b6da"
            ],
            [
             0.4,
             "#fde0ef"
            ],
            [
             0.5,
             "#f7f7f7"
            ],
            [
             0.6,
             "#e6f5d0"
            ],
            [
             0.7,
             "#b8e186"
            ],
            [
             0.8,
             "#7fbc41"
            ],
            [
             0.9,
             "#4d9221"
            ],
            [
             1,
             "#276419"
            ]
           ],
           "sequential": [
            [
             0,
             "#0d0887"
            ],
            [
             0.1111111111111111,
             "#46039f"
            ],
            [
             0.2222222222222222,
             "#7201a8"
            ],
            [
             0.3333333333333333,
             "#9c179e"
            ],
            [
             0.4444444444444444,
             "#bd3786"
            ],
            [
             0.5555555555555556,
             "#d8576b"
            ],
            [
             0.6666666666666666,
             "#ed7953"
            ],
            [
             0.7777777777777778,
             "#fb9f3a"
            ],
            [
             0.8888888888888888,
             "#fdca26"
            ],
            [
             1,
             "#f0f921"
            ]
           ],
           "sequentialminus": [
            [
             0,
             "#0d0887"
            ],
            [
             0.1111111111111111,
             "#46039f"
            ],
            [
             0.2222222222222222,
             "#7201a8"
            ],
            [
             0.3333333333333333,
             "#9c179e"
            ],
            [
             0.4444444444444444,
             "#bd3786"
            ],
            [
             0.5555555555555556,
             "#d8576b"
            ],
            [
             0.6666666666666666,
             "#ed7953"
            ],
            [
             0.7777777777777778,
             "#fb9f3a"
            ],
            [
             0.8888888888888888,
             "#fdca26"
            ],
            [
             1,
             "#f0f921"
            ]
           ]
          },
          "colorway": [
           "#636efa",
           "#EF553B",
           "#00cc96",
           "#ab63fa",
           "#FFA15A",
           "#19d3f3",
           "#FF6692",
           "#B6E880",
           "#FF97FF",
           "#FECB52"
          ],
          "font": {
           "color": "#2a3f5f"
          },
          "geo": {
           "bgcolor": "white",
           "lakecolor": "white",
           "landcolor": "#E5ECF6",
           "showlakes": true,
           "showland": true,
           "subunitcolor": "white"
          },
          "hoverlabel": {
           "align": "left"
          },
          "hovermode": "closest",
          "mapbox": {
           "style": "light"
          },
          "paper_bgcolor": "white",
          "plot_bgcolor": "#E5ECF6",
          "polar": {
           "angularaxis": {
            "gridcolor": "white",
            "linecolor": "white",
            "ticks": ""
           },
           "bgcolor": "#E5ECF6",
           "radialaxis": {
            "gridcolor": "white",
            "linecolor": "white",
            "ticks": ""
           }
          },
          "scene": {
           "xaxis": {
            "backgroundcolor": "#E5ECF6",
            "gridcolor": "white",
            "gridwidth": 2,
            "linecolor": "white",
            "showbackground": true,
            "ticks": "",
            "zerolinecolor": "white"
           },
           "yaxis": {
            "backgroundcolor": "#E5ECF6",
            "gridcolor": "white",
            "gridwidth": 2,
            "linecolor": "white",
            "showbackground": true,
            "ticks": "",
            "zerolinecolor": "white"
           },
           "zaxis": {
            "backgroundcolor": "#E5ECF6",
            "gridcolor": "white",
            "gridwidth": 2,
            "linecolor": "white",
            "showbackground": true,
            "ticks": "",
            "zerolinecolor": "white"
           }
          },
          "shapedefaults": {
           "line": {
            "color": "#2a3f5f"
           }
          },
          "ternary": {
           "aaxis": {
            "gridcolor": "white",
            "linecolor": "white",
            "ticks": ""
           },
           "baxis": {
            "gridcolor": "white",
            "linecolor": "white",
            "ticks": ""
           },
           "bgcolor": "#E5ECF6",
           "caxis": {
            "gridcolor": "white",
            "linecolor": "white",
            "ticks": ""
           }
          },
          "title": {
           "x": 0.05
          },
          "xaxis": {
           "automargin": true,
           "gridcolor": "white",
           "linecolor": "white",
           "ticks": "",
           "title": {
            "standoff": 15
           },
           "zerolinecolor": "white",
           "zerolinewidth": 2
          },
          "yaxis": {
           "automargin": true,
           "gridcolor": "white",
           "linecolor": "white",
           "ticks": "",
           "title": {
            "standoff": 15
           },
           "zerolinecolor": "white",
           "zerolinewidth": 2
          }
         }
        },
        "title": {
         "text": "Average Volatility and Returns by Portfolio Size"
        },
        "xaxis": {
         "title": {
          "text": "Number of Assets in Portfolio"
         },
         "type": "category"
        },
        "yaxis": {
         "title": {
          "text": "Average Value"
         }
        }
       }
      }
     },
     "metadata": {},
     "output_type": "display_data"
    }
   ],
   "source": [
    "rd_portfolio_sizes = [len(portfolio['tickers']) for portfolio in all_portfolios]\n",
    "rd_volatility = [np.sqrt(portfolio['variance']) for portfolio in all_portfolios]\n",
    "rd_returns = [portfolio['return'] for portfolio in all_portfolios]\n",
    "\n",
    "volatility_by_size = defaultdict(list)\n",
    "for size, vol, ret in zip(rd_portfolio_sizes, rd_volatility, rd_returns):\n",
    "    volatility_by_size[size].append((vol, ret))\n",
    "\n",
    "average_volatility = {size: np.mean([v[0] for v in vols]) for size, vols in volatility_by_size.items()}\n",
    "average_returns = {size: np.mean([v[1] for v in vols]) for size, vols in volatility_by_size.items()}\n",
    "\n",
    "sorted_sizes = sorted(average_volatility.keys())\n",
    "sorted_average_vols = [average_volatility[size] for size in sorted_sizes]\n",
    "sorted_average_rets = [average_returns[size] for size in sorted_sizes]\n",
    "\n",
    "fig = go.Figure()\n",
    "fig.add_trace(go.Scatter(\n",
    "    x=sorted_sizes,\n",
    "    y=sorted_average_vols,\n",
    "    mode='lines',\n",
    "    name='Average Volatility'\n",
    "))\n",
    "fig.add_trace(go.Scatter(\n",
    "    x=sorted_sizes,\n",
    "    y=sorted_average_rets,\n",
    "    mode='lines',\n",
    "    name='Average Returns'\n",
    "))\n",
    "\n",
    "fig.update_layout(\n",
    "    title='Average Volatility and Returns by Portfolio Size',\n",
    "    xaxis_title='Number of Assets in Portfolio',\n",
    "    yaxis_title='Average Value',\n",
    "    xaxis=dict(type='category'),\n",
    ")\n",
    "\n",
    "fig.show()\n"
   ]
  },
  {
   "cell_type": "markdown",
   "metadata": {
    "id": "S5u_KAQS1CRr"
   },
   "source": [
    "## 8.0 Testing Against Others"
   ]
  },
  {
   "cell_type": "code",
   "execution_count": 144,
   "metadata": {
    "colab": {
     "base_uri": "https://localhost:8080/",
     "height": 594
    },
    "id": "n4AB0laC1CRr",
    "outputId": "4b139451-2662-435b-dc3d-56a5eed5b189"
   },
   "outputs": [
    {
     "name": "stderr",
     "output_type": "stream",
     "text": [
      "[*********************100%***********************]  1 of 1 completed"
     ]
    },
    {
     "name": "stdout",
     "output_type": "stream",
     "text": [
      "Omitted assets: []\n",
      "Time to fetch data: 0.02 seconds\n",
      "Max combination of assets with complete data: 1\n"
     ]
    },
    {
     "name": "stderr",
     "output_type": "stream",
     "text": [
      "\n"
     ]
    },
    {
     "data": {
      "application/vnd.plotly.v1+json": {
       "config": {
        "plotlyServerURL": "https://plot.ly"
       },
       "data": [
        {
         "mode": "lines",
         "name": "Nasdaq Composite",
         "type": "scatter",
         "x": [
          "2020-12-31T00:00:00.000000000",
          "2021-01-04T00:00:00.000000000",
          "2021-01-05T00:00:00.000000000",
          "2021-01-06T00:00:00.000000000",
          "2021-01-07T00:00:00.000000000",
          "2021-01-08T00:00:00.000000000",
          "2021-01-11T00:00:00.000000000",
          "2021-01-12T00:00:00.000000000",
          "2021-01-13T00:00:00.000000000",
          "2021-01-14T00:00:00.000000000",
          "2021-01-15T00:00:00.000000000",
          "2021-01-19T00:00:00.000000000",
          "2021-01-20T00:00:00.000000000",
          "2021-01-21T00:00:00.000000000",
          "2021-01-22T00:00:00.000000000",
          "2021-01-25T00:00:00.000000000",
          "2021-01-26T00:00:00.000000000",
          "2021-01-27T00:00:00.000000000",
          "2021-01-28T00:00:00.000000000",
          "2021-01-29T00:00:00.000000000",
          "2021-02-01T00:00:00.000000000",
          "2021-02-02T00:00:00.000000000",
          "2021-02-03T00:00:00.000000000",
          "2021-02-04T00:00:00.000000000",
          "2021-02-05T00:00:00.000000000",
          "2021-02-08T00:00:00.000000000",
          "2021-02-09T00:00:00.000000000",
          "2021-02-10T00:00:00.000000000",
          "2021-02-11T00:00:00.000000000",
          "2021-02-12T00:00:00.000000000",
          "2021-02-16T00:00:00.000000000",
          "2021-02-17T00:00:00.000000000",
          "2021-02-18T00:00:00.000000000",
          "2021-02-19T00:00:00.000000000",
          "2021-02-22T00:00:00.000000000",
          "2021-02-23T00:00:00.000000000",
          "2021-02-24T00:00:00.000000000",
          "2021-02-25T00:00:00.000000000",
          "2021-02-26T00:00:00.000000000",
          "2021-03-01T00:00:00.000000000",
          "2021-03-02T00:00:00.000000000",
          "2021-03-03T00:00:00.000000000",
          "2021-03-04T00:00:00.000000000",
          "2021-03-05T00:00:00.000000000",
          "2021-03-08T00:00:00.000000000",
          "2021-03-09T00:00:00.000000000",
          "2021-03-10T00:00:00.000000000",
          "2021-03-11T00:00:00.000000000",
          "2021-03-12T00:00:00.000000000",
          "2021-03-15T00:00:00.000000000",
          "2021-03-16T00:00:00.000000000",
          "2021-03-17T00:00:00.000000000",
          "2021-03-18T00:00:00.000000000",
          "2021-03-19T00:00:00.000000000",
          "2021-03-22T00:00:00.000000000",
          "2021-03-23T00:00:00.000000000",
          "2021-03-24T00:00:00.000000000",
          "2021-03-25T00:00:00.000000000",
          "2021-03-26T00:00:00.000000000",
          "2021-03-29T00:00:00.000000000",
          "2021-03-30T00:00:00.000000000",
          "2021-03-31T00:00:00.000000000",
          "2021-04-01T00:00:00.000000000",
          "2021-04-05T00:00:00.000000000",
          "2021-04-06T00:00:00.000000000",
          "2021-04-07T00:00:00.000000000",
          "2021-04-08T00:00:00.000000000",
          "2021-04-09T00:00:00.000000000",
          "2021-04-12T00:00:00.000000000",
          "2021-04-13T00:00:00.000000000",
          "2021-04-14T00:00:00.000000000",
          "2021-04-15T00:00:00.000000000",
          "2021-04-16T00:00:00.000000000",
          "2021-04-19T00:00:00.000000000",
          "2021-04-20T00:00:00.000000000",
          "2021-04-21T00:00:00.000000000",
          "2021-04-22T00:00:00.000000000",
          "2021-04-23T00:00:00.000000000",
          "2021-04-26T00:00:00.000000000",
          "2021-04-27T00:00:00.000000000",
          "2021-04-28T00:00:00.000000000",
          "2021-04-29T00:00:00.000000000",
          "2021-04-30T00:00:00.000000000",
          "2021-05-03T00:00:00.000000000",
          "2021-05-04T00:00:00.000000000",
          "2021-05-05T00:00:00.000000000",
          "2021-05-06T00:00:00.000000000",
          "2021-05-07T00:00:00.000000000",
          "2021-05-10T00:00:00.000000000",
          "2021-05-11T00:00:00.000000000",
          "2021-05-12T00:00:00.000000000",
          "2021-05-13T00:00:00.000000000",
          "2021-05-14T00:00:00.000000000",
          "2021-05-17T00:00:00.000000000",
          "2021-05-18T00:00:00.000000000",
          "2021-05-19T00:00:00.000000000",
          "2021-05-20T00:00:00.000000000",
          "2021-05-21T00:00:00.000000000",
          "2021-05-24T00:00:00.000000000",
          "2021-05-25T00:00:00.000000000",
          "2021-05-26T00:00:00.000000000",
          "2021-05-27T00:00:00.000000000",
          "2021-05-28T00:00:00.000000000",
          "2021-06-01T00:00:00.000000000",
          "2021-06-02T00:00:00.000000000",
          "2021-06-03T00:00:00.000000000",
          "2021-06-04T00:00:00.000000000",
          "2021-06-07T00:00:00.000000000",
          "2021-06-08T00:00:00.000000000",
          "2021-06-09T00:00:00.000000000",
          "2021-06-10T00:00:00.000000000",
          "2021-06-11T00:00:00.000000000",
          "2021-06-14T00:00:00.000000000",
          "2021-06-15T00:00:00.000000000",
          "2021-06-16T00:00:00.000000000",
          "2021-06-17T00:00:00.000000000",
          "2021-06-18T00:00:00.000000000",
          "2021-06-21T00:00:00.000000000",
          "2021-06-22T00:00:00.000000000",
          "2021-06-23T00:00:00.000000000",
          "2021-06-24T00:00:00.000000000",
          "2021-06-25T00:00:00.000000000",
          "2021-06-28T00:00:00.000000000",
          "2021-06-29T00:00:00.000000000",
          "2021-06-30T00:00:00.000000000",
          "2021-07-01T00:00:00.000000000",
          "2021-07-02T00:00:00.000000000",
          "2021-07-06T00:00:00.000000000",
          "2021-07-07T00:00:00.000000000",
          "2021-07-08T00:00:00.000000000",
          "2021-07-09T00:00:00.000000000",
          "2021-07-12T00:00:00.000000000",
          "2021-07-13T00:00:00.000000000",
          "2021-07-14T00:00:00.000000000",
          "2021-07-15T00:00:00.000000000",
          "2021-07-16T00:00:00.000000000",
          "2021-07-19T00:00:00.000000000",
          "2021-07-20T00:00:00.000000000",
          "2021-07-21T00:00:00.000000000",
          "2021-07-22T00:00:00.000000000",
          "2021-07-23T00:00:00.000000000",
          "2021-07-26T00:00:00.000000000",
          "2021-07-27T00:00:00.000000000",
          "2021-07-28T00:00:00.000000000",
          "2021-07-29T00:00:00.000000000",
          "2021-07-30T00:00:00.000000000",
          "2021-08-02T00:00:00.000000000",
          "2021-08-03T00:00:00.000000000",
          "2021-08-04T00:00:00.000000000",
          "2021-08-05T00:00:00.000000000",
          "2021-08-06T00:00:00.000000000",
          "2021-08-09T00:00:00.000000000",
          "2021-08-10T00:00:00.000000000",
          "2021-08-11T00:00:00.000000000",
          "2021-08-12T00:00:00.000000000",
          "2021-08-13T00:00:00.000000000",
          "2021-08-16T00:00:00.000000000",
          "2021-08-17T00:00:00.000000000",
          "2021-08-18T00:00:00.000000000",
          "2021-08-19T00:00:00.000000000",
          "2021-08-20T00:00:00.000000000",
          "2021-08-23T00:00:00.000000000",
          "2021-08-24T00:00:00.000000000",
          "2021-08-25T00:00:00.000000000",
          "2021-08-26T00:00:00.000000000",
          "2021-08-27T00:00:00.000000000",
          "2021-08-30T00:00:00.000000000",
          "2021-08-31T00:00:00.000000000",
          "2021-09-01T00:00:00.000000000",
          "2021-09-02T00:00:00.000000000",
          "2021-09-03T00:00:00.000000000",
          "2021-09-07T00:00:00.000000000",
          "2021-09-08T00:00:00.000000000",
          "2021-09-09T00:00:00.000000000",
          "2021-09-10T00:00:00.000000000",
          "2021-09-13T00:00:00.000000000",
          "2021-09-14T00:00:00.000000000",
          "2021-09-15T00:00:00.000000000",
          "2021-09-16T00:00:00.000000000",
          "2021-09-17T00:00:00.000000000",
          "2021-09-20T00:00:00.000000000",
          "2021-09-21T00:00:00.000000000",
          "2021-09-22T00:00:00.000000000",
          "2021-09-23T00:00:00.000000000",
          "2021-09-24T00:00:00.000000000",
          "2021-09-27T00:00:00.000000000",
          "2021-09-28T00:00:00.000000000",
          "2021-09-29T00:00:00.000000000",
          "2021-09-30T00:00:00.000000000",
          "2021-10-01T00:00:00.000000000",
          "2021-10-04T00:00:00.000000000",
          "2021-10-05T00:00:00.000000000",
          "2021-10-06T00:00:00.000000000",
          "2021-10-07T00:00:00.000000000",
          "2021-10-08T00:00:00.000000000",
          "2021-10-11T00:00:00.000000000",
          "2021-10-12T00:00:00.000000000",
          "2021-10-13T00:00:00.000000000",
          "2021-10-14T00:00:00.000000000",
          "2021-10-15T00:00:00.000000000",
          "2021-10-18T00:00:00.000000000",
          "2021-10-19T00:00:00.000000000",
          "2021-10-20T00:00:00.000000000",
          "2021-10-21T00:00:00.000000000",
          "2021-10-22T00:00:00.000000000",
          "2021-10-25T00:00:00.000000000",
          "2021-10-26T00:00:00.000000000",
          "2021-10-27T00:00:00.000000000",
          "2021-10-28T00:00:00.000000000",
          "2021-10-29T00:00:00.000000000",
          "2021-11-01T00:00:00.000000000",
          "2021-11-02T00:00:00.000000000",
          "2021-11-03T00:00:00.000000000",
          "2021-11-04T00:00:00.000000000",
          "2021-11-05T00:00:00.000000000",
          "2021-11-08T00:00:00.000000000",
          "2021-11-09T00:00:00.000000000",
          "2021-11-10T00:00:00.000000000",
          "2021-11-11T00:00:00.000000000",
          "2021-11-12T00:00:00.000000000",
          "2021-11-15T00:00:00.000000000",
          "2021-11-16T00:00:00.000000000",
          "2021-11-17T00:00:00.000000000",
          "2021-11-18T00:00:00.000000000",
          "2021-11-19T00:00:00.000000000",
          "2021-11-22T00:00:00.000000000",
          "2021-11-23T00:00:00.000000000",
          "2021-11-24T00:00:00.000000000",
          "2021-11-26T00:00:00.000000000",
          "2021-11-29T00:00:00.000000000",
          "2021-11-30T00:00:00.000000000",
          "2021-12-01T00:00:00.000000000",
          "2021-12-02T00:00:00.000000000",
          "2021-12-03T00:00:00.000000000",
          "2021-12-06T00:00:00.000000000",
          "2021-12-07T00:00:00.000000000",
          "2021-12-08T00:00:00.000000000",
          "2021-12-09T00:00:00.000000000",
          "2021-12-10T00:00:00.000000000",
          "2021-12-13T00:00:00.000000000",
          "2021-12-14T00:00:00.000000000",
          "2021-12-15T00:00:00.000000000",
          "2021-12-16T00:00:00.000000000",
          "2021-12-17T00:00:00.000000000",
          "2021-12-20T00:00:00.000000000",
          "2021-12-21T00:00:00.000000000",
          "2021-12-22T00:00:00.000000000",
          "2021-12-23T00:00:00.000000000",
          "2021-12-27T00:00:00.000000000",
          "2021-12-28T00:00:00.000000000",
          "2021-12-29T00:00:00.000000000",
          "2021-12-30T00:00:00.000000000"
         ],
         "y": {
          "bdata": "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",
          "dtype": "f8"
         }
        },
        {
         "mode": "lines",
         "name": "Portfolio Growth",
         "type": "scatter",
         "x": [
          "2020-12-31T00:00:00.000000000",
          "2021-01-04T00:00:00.000000000",
          "2021-01-05T00:00:00.000000000",
          "2021-01-06T00:00:00.000000000",
          "2021-01-07T00:00:00.000000000",
          "2021-01-08T00:00:00.000000000",
          "2021-01-11T00:00:00.000000000",
          "2021-01-12T00:00:00.000000000",
          "2021-01-13T00:00:00.000000000",
          "2021-01-14T00:00:00.000000000",
          "2021-01-15T00:00:00.000000000",
          "2021-01-19T00:00:00.000000000",
          "2021-01-20T00:00:00.000000000",
          "2021-01-21T00:00:00.000000000",
          "2021-01-22T00:00:00.000000000",
          "2021-01-25T00:00:00.000000000",
          "2021-01-26T00:00:00.000000000",
          "2021-01-27T00:00:00.000000000",
          "2021-01-28T00:00:00.000000000",
          "2021-01-29T00:00:00.000000000",
          "2021-02-01T00:00:00.000000000",
          "2021-02-02T00:00:00.000000000",
          "2021-02-03T00:00:00.000000000",
          "2021-02-04T00:00:00.000000000",
          "2021-02-05T00:00:00.000000000",
          "2021-02-08T00:00:00.000000000",
          "2021-02-09T00:00:00.000000000",
          "2021-02-10T00:00:00.000000000",
          "2021-02-11T00:00:00.000000000",
          "2021-02-12T00:00:00.000000000",
          "2021-02-16T00:00:00.000000000",
          "2021-02-17T00:00:00.000000000",
          "2021-02-18T00:00:00.000000000",
          "2021-02-19T00:00:00.000000000",
          "2021-02-22T00:00:00.000000000",
          "2021-02-23T00:00:00.000000000",
          "2021-02-24T00:00:00.000000000",
          "2021-02-25T00:00:00.000000000",
          "2021-02-26T00:00:00.000000000",
          "2021-03-01T00:00:00.000000000",
          "2021-03-02T00:00:00.000000000",
          "2021-03-03T00:00:00.000000000",
          "2021-03-04T00:00:00.000000000",
          "2021-03-05T00:00:00.000000000",
          "2021-03-08T00:00:00.000000000",
          "2021-03-09T00:00:00.000000000",
          "2021-03-10T00:00:00.000000000",
          "2021-03-11T00:00:00.000000000",
          "2021-03-12T00:00:00.000000000",
          "2021-03-15T00:00:00.000000000",
          "2021-03-16T00:00:00.000000000",
          "2021-03-17T00:00:00.000000000",
          "2021-03-18T00:00:00.000000000",
          "2021-03-19T00:00:00.000000000",
          "2021-03-22T00:00:00.000000000",
          "2021-03-23T00:00:00.000000000",
          "2021-03-24T00:00:00.000000000",
          "2021-03-25T00:00:00.000000000",
          "2021-03-26T00:00:00.000000000",
          "2021-03-29T00:00:00.000000000",
          "2021-03-30T00:00:00.000000000",
          "2021-03-31T00:00:00.000000000",
          "2021-04-01T00:00:00.000000000",
          "2021-04-05T00:00:00.000000000",
          "2021-04-06T00:00:00.000000000",
          "2021-04-07T00:00:00.000000000",
          "2021-04-08T00:00:00.000000000",
          "2021-04-09T00:00:00.000000000",
          "2021-04-12T00:00:00.000000000",
          "2021-04-13T00:00:00.000000000",
          "2021-04-14T00:00:00.000000000",
          "2021-04-15T00:00:00.000000000",
          "2021-04-16T00:00:00.000000000",
          "2021-04-19T00:00:00.000000000",
          "2021-04-20T00:00:00.000000000",
          "2021-04-21T00:00:00.000000000",
          "2021-04-22T00:00:00.000000000",
          "2021-04-23T00:00:00.000000000",
          "2021-04-26T00:00:00.000000000",
          "2021-04-27T00:00:00.000000000",
          "2021-04-28T00:00:00.000000000",
          "2021-04-29T00:00:00.000000000",
          "2021-04-30T00:00:00.000000000",
          "2021-05-03T00:00:00.000000000",
          "2021-05-04T00:00:00.000000000",
          "2021-05-05T00:00:00.000000000",
          "2021-05-06T00:00:00.000000000",
          "2021-05-07T00:00:00.000000000",
          "2021-05-10T00:00:00.000000000",
          "2021-05-11T00:00:00.000000000",
          "2021-05-12T00:00:00.000000000",
          "2021-05-13T00:00:00.000000000",
          "2021-05-14T00:00:00.000000000",
          "2021-05-17T00:00:00.000000000",
          "2021-05-18T00:00:00.000000000",
          "2021-05-19T00:00:00.000000000",
          "2021-05-20T00:00:00.000000000",
          "2021-05-21T00:00:00.000000000",
          "2021-05-24T00:00:00.000000000",
          "2021-05-25T00:00:00.000000000",
          "2021-05-26T00:00:00.000000000",
          "2021-05-27T00:00:00.000000000",
          "2021-05-28T00:00:00.000000000",
          "2021-06-01T00:00:00.000000000",
          "2021-06-02T00:00:00.000000000",
          "2021-06-03T00:00:00.000000000",
          "2021-06-04T00:00:00.000000000",
          "2021-06-07T00:00:00.000000000",
          "2021-06-08T00:00:00.000000000",
          "2021-06-09T00:00:00.000000000",
          "2021-06-10T00:00:00.000000000",
          "2021-06-11T00:00:00.000000000",
          "2021-06-14T00:00:00.000000000",
          "2021-06-15T00:00:00.000000000",
          "2021-06-16T00:00:00.000000000",
          "2021-06-17T00:00:00.000000000",
          "2021-06-18T00:00:00.000000000",
          "2021-06-21T00:00:00.000000000",
          "2021-06-22T00:00:00.000000000",
          "2021-06-23T00:00:00.000000000",
          "2021-06-24T00:00:00.000000000",
          "2021-06-25T00:00:00.000000000",
          "2021-06-28T00:00:00.000000000",
          "2021-06-29T00:00:00.000000000",
          "2021-06-30T00:00:00.000000000",
          "2021-07-01T00:00:00.000000000",
          "2021-07-02T00:00:00.000000000",
          "2021-07-06T00:00:00.000000000",
          "2021-07-07T00:00:00.000000000",
          "2021-07-08T00:00:00.000000000",
          "2021-07-09T00:00:00.000000000",
          "2021-07-12T00:00:00.000000000",
          "2021-07-13T00:00:00.000000000",
          "2021-07-14T00:00:00.000000000",
          "2021-07-15T00:00:00.000000000",
          "2021-07-16T00:00:00.000000000",
          "2021-07-19T00:00:00.000000000",
          "2021-07-20T00:00:00.000000000",
          "2021-07-21T00:00:00.000000000",
          "2021-07-22T00:00:00.000000000",
          "2021-07-23T00:00:00.000000000",
          "2021-07-26T00:00:00.000000000",
          "2021-07-27T00:00:00.000000000",
          "2021-07-28T00:00:00.000000000",
          "2021-07-29T00:00:00.000000000",
          "2021-07-30T00:00:00.000000000",
          "2021-08-02T00:00:00.000000000",
          "2021-08-03T00:00:00.000000000",
          "2021-08-04T00:00:00.000000000",
          "2021-08-05T00:00:00.000000000",
          "2021-08-06T00:00:00.000000000",
          "2021-08-09T00:00:00.000000000",
          "2021-08-10T00:00:00.000000000",
          "2021-08-11T00:00:00.000000000",
          "2021-08-12T00:00:00.000000000",
          "2021-08-13T00:00:00.000000000",
          "2021-08-16T00:00:00.000000000",
          "2021-08-17T00:00:00.000000000",
          "2021-08-18T00:00:00.000000000",
          "2021-08-19T00:00:00.000000000",
          "2021-08-20T00:00:00.000000000",
          "2021-08-23T00:00:00.000000000",
          "2021-08-24T00:00:00.000000000",
          "2021-08-25T00:00:00.000000000",
          "2021-08-26T00:00:00.000000000",
          "2021-08-27T00:00:00.000000000",
          "2021-08-30T00:00:00.000000000",
          "2021-08-31T00:00:00.000000000",
          "2021-09-01T00:00:00.000000000",
          "2021-09-02T00:00:00.000000000",
          "2021-09-03T00:00:00.000000000",
          "2021-09-07T00:00:00.000000000",
          "2021-09-08T00:00:00.000000000",
          "2021-09-09T00:00:00.000000000",
          "2021-09-10T00:00:00.000000000",
          "2021-09-13T00:00:00.000000000",
          "2021-09-14T00:00:00.000000000",
          "2021-09-15T00:00:00.000000000",
          "2021-09-16T00:00:00.000000000",
          "2021-09-17T00:00:00.000000000",
          "2021-09-20T00:00:00.000000000",
          "2021-09-21T00:00:00.000000000",
          "2021-09-22T00:00:00.000000000",
          "2021-09-23T00:00:00.000000000",
          "2021-09-24T00:00:00.000000000",
          "2021-09-27T00:00:00.000000000",
          "2021-09-28T00:00:00.000000000",
          "2021-09-29T00:00:00.000000000",
          "2021-09-30T00:00:00.000000000",
          "2021-10-01T00:00:00.000000000",
          "2021-10-04T00:00:00.000000000",
          "2021-10-05T00:00:00.000000000",
          "2021-10-06T00:00:00.000000000",
          "2021-10-07T00:00:00.000000000",
          "2021-10-08T00:00:00.000000000",
          "2021-10-11T00:00:00.000000000",
          "2021-10-12T00:00:00.000000000",
          "2021-10-13T00:00:00.000000000",
          "2021-10-14T00:00:00.000000000",
          "2021-10-15T00:00:00.000000000",
          "2021-10-18T00:00:00.000000000",
          "2021-10-19T00:00:00.000000000",
          "2021-10-20T00:00:00.000000000",
          "2021-10-21T00:00:00.000000000",
          "2021-10-22T00:00:00.000000000",
          "2021-10-25T00:00:00.000000000",
          "2021-10-26T00:00:00.000000000",
          "2021-10-27T00:00:00.000000000",
          "2021-10-28T00:00:00.000000000",
          "2021-10-29T00:00:00.000000000",
          "2021-11-01T00:00:00.000000000",
          "2021-11-02T00:00:00.000000000",
          "2021-11-03T00:00:00.000000000",
          "2021-11-04T00:00:00.000000000",
          "2021-11-05T00:00:00.000000000",
          "2021-11-08T00:00:00.000000000",
          "2021-11-09T00:00:00.000000000",
          "2021-11-10T00:00:00.000000000",
          "2021-11-11T00:00:00.000000000",
          "2021-11-12T00:00:00.000000000",
          "2021-11-15T00:00:00.000000000",
          "2021-11-16T00:00:00.000000000",
          "2021-11-17T00:00:00.000000000",
          "2021-11-18T00:00:00.000000000",
          "2021-11-19T00:00:00.000000000",
          "2021-11-22T00:00:00.000000000",
          "2021-11-23T00:00:00.000000000",
          "2021-11-24T00:00:00.000000000",
          "2021-11-26T00:00:00.000000000",
          "2021-11-29T00:00:00.000000000",
          "2021-11-30T00:00:00.000000000",
          "2021-12-01T00:00:00.000000000",
          "2021-12-02T00:00:00.000000000",
          "2021-12-03T00:00:00.000000000",
          "2021-12-06T00:00:00.000000000",
          "2021-12-07T00:00:00.000000000",
          "2021-12-08T00:00:00.000000000",
          "2021-12-09T00:00:00.000000000",
          "2021-12-10T00:00:00.000000000",
          "2021-12-13T00:00:00.000000000",
          "2021-12-14T00:00:00.000000000",
          "2021-12-15T00:00:00.000000000",
          "2021-12-16T00:00:00.000000000",
          "2021-12-17T00:00:00.000000000",
          "2021-12-20T00:00:00.000000000",
          "2021-12-21T00:00:00.000000000",
          "2021-12-22T00:00:00.000000000",
          "2021-12-23T00:00:00.000000000",
          "2021-12-27T00:00:00.000000000",
          "2021-12-28T00:00:00.000000000",
          "2021-12-29T00:00:00.000000000",
          "2021-12-30T00:00:00.000000000",
          "2021-12-31T00:00:00.000000000"
         ],
         "y": {
          "bdata": "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",
          "dtype": "f8"
         }
        },
        {
         "mode": "lines",
         "name": "Portfolio Growth",
         "type": "scatter",
         "x": [
          "2016-07-01T00:00:00.000000000",
          "2016-07-05T00:00:00.000000000",
          "2016-07-06T00:00:00.000000000",
          "2016-07-07T00:00:00.000000000",
          "2016-07-08T00:00:00.000000000",
          "2016-07-11T00:00:00.000000000",
          "2016-07-12T00:00:00.000000000",
          "2016-07-13T00:00:00.000000000",
          "2016-07-14T00:00:00.000000000",
          "2016-07-15T00:00:00.000000000",
          "2016-07-18T00:00:00.000000000",
          "2016-07-19T00:00:00.000000000",
          "2016-07-20T00:00:00.000000000",
          "2016-07-21T00:00:00.000000000",
          "2016-07-22T00:00:00.000000000",
          "2016-07-25T00:00:00.000000000",
          "2016-07-26T00:00:00.000000000",
          "2016-07-27T00:00:00.000000000",
          "2016-07-28T00:00:00.000000000",
          "2016-07-29T00:00:00.000000000",
          "2016-08-01T00:00:00.000000000",
          "2016-08-02T00:00:00.000000000",
          "2016-08-03T00:00:00.000000000",
          "2016-08-04T00:00:00.000000000",
          "2016-08-05T00:00:00.000000000",
          "2016-08-08T00:00:00.000000000",
          "2016-08-09T00:00:00.000000000",
          "2016-08-10T00:00:00.000000000",
          "2016-08-11T00:00:00.000000000",
          "2016-08-12T00:00:00.000000000",
          "2016-08-15T00:00:00.000000000",
          "2016-08-16T00:00:00.000000000",
          "2016-08-17T00:00:00.000000000",
          "2016-08-18T00:00:00.000000000",
          "2016-08-19T00:00:00.000000000",
          "2016-08-22T00:00:00.000000000",
          "2016-08-23T00:00:00.000000000",
          "2016-08-24T00:00:00.000000000",
          "2016-08-25T00:00:00.000000000",
          "2016-08-26T00:00:00.000000000",
          "2016-08-29T00:00:00.000000000",
          "2016-08-30T00:00:00.000000000",
          "2016-08-31T00:00:00.000000000",
          "2016-09-01T00:00:00.000000000",
          "2016-09-02T00:00:00.000000000",
          "2016-09-06T00:00:00.000000000",
          "2016-09-07T00:00:00.000000000",
          "2016-09-08T00:00:00.000000000",
          "2016-09-09T00:00:00.000000000",
          "2016-09-12T00:00:00.000000000",
          "2016-09-13T00:00:00.000000000",
          "2016-09-14T00:00:00.000000000",
          "2016-09-15T00:00:00.000000000",
          "2016-09-16T00:00:00.000000000",
          "2016-09-19T00:00:00.000000000",
          "2016-09-20T00:00:00.000000000",
          "2016-09-21T00:00:00.000000000",
          "2016-09-22T00:00:00.000000000",
          "2016-09-23T00:00:00.000000000",
          "2016-09-26T00:00:00.000000000",
          "2016-09-27T00:00:00.000000000",
          "2016-09-28T00:00:00.000000000",
          "2016-09-29T00:00:00.000000000",
          "2016-09-30T00:00:00.000000000",
          "2016-10-03T00:00:00.000000000",
          "2016-10-04T00:00:00.000000000",
          "2016-10-05T00:00:00.000000000",
          "2016-10-06T00:00:00.000000000",
          "2016-10-07T00:00:00.000000000",
          "2016-10-10T00:00:00.000000000",
          "2016-10-11T00:00:00.000000000",
          "2016-10-12T00:00:00.000000000",
          "2016-10-13T00:00:00.000000000",
          "2016-10-14T00:00:00.000000000",
          "2016-10-17T00:00:00.000000000",
          "2016-10-18T00:00:00.000000000",
          "2016-10-19T00:00:00.000000000",
          "2016-10-20T00:00:00.000000000",
          "2016-10-21T00:00:00.000000000",
          "2016-10-24T00:00:00.000000000",
          "2016-10-25T00:00:00.000000000",
          "2016-10-26T00:00:00.000000000",
          "2016-10-27T00:00:00.000000000",
          "2016-10-28T00:00:00.000000000",
          "2016-10-31T00:00:00.000000000",
          "2016-11-01T00:00:00.000000000",
          "2016-11-02T00:00:00.000000000",
          "2016-11-03T00:00:00.000000000",
          "2016-11-04T00:00:00.000000000",
          "2016-11-07T00:00:00.000000000",
          "2016-11-08T00:00:00.000000000",
          "2016-11-09T00:00:00.000000000",
          "2016-11-10T00:00:00.000000000",
          "2016-11-11T00:00:00.000000000",
          "2016-11-14T00:00:00.000000000",
          "2016-11-15T00:00:00.000000000",
          "2016-11-16T00:00:00.000000000",
          "2016-11-17T00:00:00.000000000",
          "2016-11-18T00:00:00.000000000",
          "2016-11-21T00:00:00.000000000",
          "2016-11-22T00:00:00.000000000",
          "2016-11-23T00:00:00.000000000",
          "2016-11-25T00:00:00.000000000",
          "2016-11-28T00:00:00.000000000",
          "2016-11-29T00:00:00.000000000",
          "2016-11-30T00:00:00.000000000",
          "2016-12-01T00:00:00.000000000",
          "2016-12-02T00:00:00.000000000",
          "2016-12-05T00:00:00.000000000",
          "2016-12-06T00:00:00.000000000",
          "2016-12-07T00:00:00.000000000",
          "2016-12-08T00:00:00.000000000",
          "2016-12-09T00:00:00.000000000",
          "2016-12-12T00:00:00.000000000",
          "2016-12-13T00:00:00.000000000",
          "2016-12-14T00:00:00.000000000",
          "2016-12-15T00:00:00.000000000",
          "2016-12-16T00:00:00.000000000",
          "2016-12-19T00:00:00.000000000",
          "2016-12-20T00:00:00.000000000",
          "2016-12-21T00:00:00.000000000",
          "2016-12-22T00:00:00.000000000",
          "2016-12-23T00:00:00.000000000",
          "2016-12-27T00:00:00.000000000",
          "2016-12-28T00:00:00.000000000",
          "2016-12-29T00:00:00.000000000",
          "2016-12-30T00:00:00.000000000",
          "2017-01-03T00:00:00.000000000",
          "2017-01-04T00:00:00.000000000",
          "2017-01-05T00:00:00.000000000",
          "2017-01-06T00:00:00.000000000",
          "2017-01-09T00:00:00.000000000",
          "2017-01-10T00:00:00.000000000",
          "2017-01-11T00:00:00.000000000",
          "2017-01-12T00:00:00.000000000",
          "2017-01-13T00:00:00.000000000",
          "2017-01-17T00:00:00.000000000",
          "2017-01-18T00:00:00.000000000",
          "2017-01-19T00:00:00.000000000",
          "2017-01-20T00:00:00.000000000",
          "2017-01-23T00:00:00.000000000",
          "2017-01-24T00:00:00.000000000",
          "2017-01-25T00:00:00.000000000",
          "2017-01-26T00:00:00.000000000",
          "2017-01-27T00:00:00.000000000",
          "2017-01-30T00:00:00.000000000",
          "2017-01-31T00:00:00.000000000",
          "2017-02-01T00:00:00.000000000",
          "2017-02-02T00:00:00.000000000",
          "2017-02-03T00:00:00.000000000",
          "2017-02-06T00:00:00.000000000",
          "2017-02-07T00:00:00.000000000",
          "2017-02-08T00:00:00.000000000",
          "2017-02-09T00:00:00.000000000",
          "2017-02-10T00:00:00.000000000",
          "2017-02-13T00:00:00.000000000",
          "2017-02-14T00:00:00.000000000",
          "2017-02-15T00:00:00.000000000",
          "2017-02-16T00:00:00.000000000",
          "2017-02-17T00:00:00.000000000",
          "2017-02-21T00:00:00.000000000",
          "2017-02-22T00:00:00.000000000",
          "2017-02-23T00:00:00.000000000",
          "2017-02-24T00:00:00.000000000",
          "2017-02-27T00:00:00.000000000",
          "2017-02-28T00:00:00.000000000",
          "2017-03-01T00:00:00.000000000",
          "2017-03-02T00:00:00.000000000",
          "2017-03-03T00:00:00.000000000",
          "2017-03-06T00:00:00.000000000",
          "2017-03-07T00:00:00.000000000",
          "2017-03-08T00:00:00.000000000",
          "2017-03-09T00:00:00.000000000",
          "2017-03-10T00:00:00.000000000",
          "2017-03-13T00:00:00.000000000",
          "2017-03-14T00:00:00.000000000",
          "2017-03-15T00:00:00.000000000",
          "2017-03-16T00:00:00.000000000",
          "2017-03-17T00:00:00.000000000",
          "2017-03-20T00:00:00.000000000",
          "2017-03-21T00:00:00.000000000",
          "2017-03-22T00:00:00.000000000",
          "2017-03-23T00:00:00.000000000",
          "2017-03-24T00:00:00.000000000",
          "2017-03-27T00:00:00.000000000",
          "2017-03-28T00:00:00.000000000",
          "2017-03-29T00:00:00.000000000",
          "2017-03-30T00:00:00.000000000",
          "2017-03-31T00:00:00.000000000",
          "2017-04-03T00:00:00.000000000",
          "2017-04-04T00:00:00.000000000",
          "2017-04-05T00:00:00.000000000",
          "2017-04-06T00:00:00.000000000",
          "2017-04-07T00:00:00.000000000",
          "2017-04-10T00:00:00.000000000",
          "2017-04-11T00:00:00.000000000",
          "2017-04-12T00:00:00.000000000",
          "2017-04-13T00:00:00.000000000",
          "2017-04-17T00:00:00.000000000",
          "2017-04-18T00:00:00.000000000",
          "2017-04-19T00:00:00.000000000",
          "2017-04-20T00:00:00.000000000",
          "2017-04-21T00:00:00.000000000",
          "2017-04-24T00:00:00.000000000",
          "2017-04-25T00:00:00.000000000",
          "2017-04-26T00:00:00.000000000",
          "2017-04-27T00:00:00.000000000",
          "2017-04-28T00:00:00.000000000",
          "2017-05-01T00:00:00.000000000",
          "2017-05-02T00:00:00.000000000",
          "2017-05-03T00:00:00.000000000",
          "2017-05-04T00:00:00.000000000",
          "2017-05-05T00:00:00.000000000",
          "2017-05-08T00:00:00.000000000",
          "2017-05-09T00:00:00.000000000",
          "2017-05-10T00:00:00.000000000",
          "2017-05-11T00:00:00.000000000",
          "2017-05-12T00:00:00.000000000",
          "2017-05-15T00:00:00.000000000",
          "2017-05-16T00:00:00.000000000",
          "2017-05-17T00:00:00.000000000",
          "2017-05-18T00:00:00.000000000",
          "2017-05-19T00:00:00.000000000",
          "2017-05-22T00:00:00.000000000",
          "2017-05-23T00:00:00.000000000",
          "2017-05-24T00:00:00.000000000",
          "2017-05-25T00:00:00.000000000",
          "2017-05-26T00:00:00.000000000",
          "2017-05-30T00:00:00.000000000",
          "2017-05-31T00:00:00.000000000",
          "2017-06-01T00:00:00.000000000",
          "2017-06-02T00:00:00.000000000",
          "2017-06-05T00:00:00.000000000",
          "2017-06-06T00:00:00.000000000",
          "2017-06-07T00:00:00.000000000",
          "2017-06-08T00:00:00.000000000",
          "2017-06-09T00:00:00.000000000",
          "2017-06-12T00:00:00.000000000",
          "2017-06-13T00:00:00.000000000",
          "2017-06-14T00:00:00.000000000",
          "2017-06-15T00:00:00.000000000",
          "2017-06-16T00:00:00.000000000",
          "2017-06-19T00:00:00.000000000",
          "2017-06-20T00:00:00.000000000",
          "2017-06-21T00:00:00.000000000",
          "2017-06-22T00:00:00.000000000",
          "2017-06-23T00:00:00.000000000",
          "2017-06-26T00:00:00.000000000",
          "2017-06-27T00:00:00.000000000",
          "2017-06-28T00:00:00.000000000",
          "2017-06-29T00:00:00.000000000",
          "2017-06-30T00:00:00.000000000",
          "2017-07-03T00:00:00.000000000",
          "2017-07-05T00:00:00.000000000",
          "2017-07-06T00:00:00.000000000",
          "2017-07-07T00:00:00.000000000",
          "2017-07-10T00:00:00.000000000",
          "2017-07-11T00:00:00.000000000",
          "2017-07-12T00:00:00.000000000",
          "2017-07-13T00:00:00.000000000",
          "2017-07-14T00:00:00.000000000",
          "2017-07-17T00:00:00.000000000",
          "2017-07-18T00:00:00.000000000",
          "2017-07-19T00:00:00.000000000",
          "2017-07-20T00:00:00.000000000",
          "2017-07-21T00:00:00.000000000",
          "2017-07-24T00:00:00.000000000",
          "2017-07-25T00:00:00.000000000",
          "2017-07-26T00:00:00.000000000",
          "2017-07-27T00:00:00.000000000",
          "2017-07-28T00:00:00.000000000",
          "2017-07-31T00:00:00.000000000",
          "2017-08-01T00:00:00.000000000",
          "2017-08-02T00:00:00.000000000",
          "2017-08-03T00:00:00.000000000",
          "2017-08-04T00:00:00.000000000",
          "2017-08-07T00:00:00.000000000",
          "2017-08-08T00:00:00.000000000",
          "2017-08-09T00:00:00.000000000",
          "2017-08-10T00:00:00.000000000",
          "2017-08-11T00:00:00.000000000",
          "2017-08-14T00:00:00.000000000",
          "2017-08-15T00:00:00.000000000",
          "2017-08-16T00:00:00.000000000",
          "2017-08-17T00:00:00.000000000",
          "2017-08-18T00:00:00.000000000",
          "2017-08-21T00:00:00.000000000",
          "2017-08-22T00:00:00.000000000",
          "2017-08-23T00:00:00.000000000",
          "2017-08-24T00:00:00.000000000",
          "2017-08-25T00:00:00.000000000",
          "2017-08-28T00:00:00.000000000",
          "2017-08-29T00:00:00.000000000",
          "2017-08-30T00:00:00.000000000",
          "2017-08-31T00:00:00.000000000",
          "2017-09-01T00:00:00.000000000",
          "2017-09-05T00:00:00.000000000",
          "2017-09-06T00:00:00.000000000",
          "2017-09-07T00:00:00.000000000",
          "2017-09-08T00:00:00.000000000",
          "2017-09-11T00:00:00.000000000",
          "2017-09-12T00:00:00.000000000",
          "2017-09-13T00:00:00.000000000",
          "2017-09-14T00:00:00.000000000",
          "2017-09-15T00:00:00.000000000",
          "2017-09-18T00:00:00.000000000",
          "2017-09-19T00:00:00.000000000",
          "2017-09-20T00:00:00.000000000",
          "2017-09-21T00:00:00.000000000",
          "2017-09-22T00:00:00.000000000",
          "2017-09-25T00:00:00.000000000",
          "2017-09-26T00:00:00.000000000",
          "2017-09-27T00:00:00.000000000",
          "2017-09-28T00:00:00.000000000",
          "2017-09-29T00:00:00.000000000",
          "2017-10-02T00:00:00.000000000",
          "2017-10-03T00:00:00.000000000",
          "2017-10-04T00:00:00.000000000",
          "2017-10-05T00:00:00.000000000",
          "2017-10-06T00:00:00.000000000",
          "2017-10-09T00:00:00.000000000",
          "2017-10-10T00:00:00.000000000",
          "2017-10-11T00:00:00.000000000",
          "2017-10-12T00:00:00.000000000",
          "2017-10-13T00:00:00.000000000",
          "2017-10-16T00:00:00.000000000",
          "2017-10-17T00:00:00.000000000",
          "2017-10-18T00:00:00.000000000",
          "2017-10-19T00:00:00.000000000",
          "2017-10-20T00:00:00.000000000",
          "2017-10-23T00:00:00.000000000",
          "2017-10-24T00:00:00.000000000",
          "2017-10-25T00:00:00.000000000",
          "2017-10-26T00:00:00.000000000",
          "2017-10-27T00:00:00.000000000",
          "2017-10-30T00:00:00.000000000",
          "2017-10-31T00:00:00.000000000",
          "2017-11-01T00:00:00.000000000",
          "2017-11-02T00:00:00.000000000",
          "2017-11-03T00:00:00.000000000",
          "2017-11-06T00:00:00.000000000",
          "2017-11-07T00:00:00.000000000",
          "2017-11-08T00:00:00.000000000",
          "2017-11-09T00:00:00.000000000",
          "2017-11-10T00:00:00.000000000",
          "2017-11-13T00:00:00.000000000",
          "2017-11-14T00:00:00.000000000",
          "2017-11-15T00:00:00.000000000",
          "2017-11-16T00:00:00.000000000",
          "2017-11-17T00:00:00.000000000",
          "2017-11-20T00:00:00.000000000",
          "2017-11-21T00:00:00.000000000",
          "2017-11-22T00:00:00.000000000",
          "2017-11-24T00:00:00.000000000",
          "2017-11-27T00:00:00.000000000",
          "2017-11-28T00:00:00.000000000",
          "2017-11-29T00:00:00.000000000",
          "2017-11-30T00:00:00.000000000",
          "2017-12-01T00:00:00.000000000",
          "2017-12-04T00:00:00.000000000",
          "2017-12-05T00:00:00.000000000",
          "2017-12-06T00:00:00.000000000",
          "2017-12-07T00:00:00.000000000",
          "2017-12-08T00:00:00.000000000",
          "2017-12-11T00:00:00.000000000",
          "2017-12-12T00:00:00.000000000",
          "2017-12-13T00:00:00.000000000",
          "2017-12-14T00:00:00.000000000",
          "2017-12-15T00:00:00.000000000",
          "2017-12-18T00:00:00.000000000",
          "2017-12-19T00:00:00.000000000",
          "2017-12-20T00:00:00.000000000",
          "2017-12-21T00:00:00.000000000",
          "2017-12-22T00:00:00.000000000",
          "2017-12-26T00:00:00.000000000"
         ],
         "y": {
          "bdata": "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",
          "dtype": "f8"
         }
        }
       ],
       "layout": {
        "template": {
         "data": {
          "bar": [
           {
            "error_x": {
             "color": "#2a3f5f"
            },
            "error_y": {
             "color": "#2a3f5f"
            },
            "marker": {
             "line": {
              "color": "#E5ECF6",
              "width": 0.5
             },
             "pattern": {
              "fillmode": "overlay",
              "size": 10,
              "solidity": 0.2
             }
            },
            "type": "bar"
           }
          ],
          "barpolar": [
           {
            "marker": {
             "line": {
              "color": "#E5ECF6",
              "width": 0.5
             },
             "pattern": {
              "fillmode": "overlay",
              "size": 10,
              "solidity": 0.2
             }
            },
            "type": "barpolar"
           }
          ],
          "carpet": [
           {
            "aaxis": {
             "endlinecolor": "#2a3f5f",
             "gridcolor": "white",
             "linecolor": "white",
             "minorgridcolor": "white",
             "startlinecolor": "#2a3f5f"
            },
            "baxis": {
             "endlinecolor": "#2a3f5f",
             "gridcolor": "white",
             "linecolor": "white",
             "minorgridcolor": "white",
             "startlinecolor": "#2a3f5f"
            },
            "type": "carpet"
           }
          ],
          "choropleth": [
           {
            "colorbar": {
             "outlinewidth": 0,
             "ticks": ""
            },
            "type": "choropleth"
           }
          ],
          "contour": [
           {
            "colorbar": {
             "outlinewidth": 0,
             "ticks": ""
            },
            "colorscale": [
             [
              0,
              "#0d0887"
             ],
             [
              0.1111111111111111,
              "#46039f"
             ],
             [
              0.2222222222222222,
              "#7201a8"
             ],
             [
              0.3333333333333333,
              "#9c179e"
             ],
             [
              0.4444444444444444,
              "#bd3786"
             ],
             [
              0.5555555555555556,
              "#d8576b"
             ],
             [
              0.6666666666666666,
              "#ed7953"
             ],
             [
              0.7777777777777778,
              "#fb9f3a"
             ],
             [
              0.8888888888888888,
              "#fdca26"
             ],
             [
              1,
              "#f0f921"
             ]
            ],
            "type": "contour"
           }
          ],
          "contourcarpet": [
           {
            "colorbar": {
             "outlinewidth": 0,
             "ticks": ""
            },
            "type": "contourcarpet"
           }
          ],
          "heatmap": [
           {
            "colorbar": {
             "outlinewidth": 0,
             "ticks": ""
            },
            "colorscale": [
             [
              0,
              "#0d0887"
             ],
             [
              0.1111111111111111,
              "#46039f"
             ],
             [
              0.2222222222222222,
              "#7201a8"
             ],
             [
              0.3333333333333333,
              "#9c179e"
             ],
             [
              0.4444444444444444,
              "#bd3786"
             ],
             [
              0.5555555555555556,
              "#d8576b"
             ],
             [
              0.6666666666666666,
              "#ed7953"
             ],
             [
              0.7777777777777778,
              "#fb9f3a"
             ],
             [
              0.8888888888888888,
              "#fdca26"
             ],
             [
              1,
              "#f0f921"
             ]
            ],
            "type": "heatmap"
           }
          ],
          "histogram": [
           {
            "marker": {
             "pattern": {
              "fillmode": "overlay",
              "size": 10,
              "solidity": 0.2
             }
            },
            "type": "histogram"
           }
          ],
          "histogram2d": [
           {
            "colorbar": {
             "outlinewidth": 0,
             "ticks": ""
            },
            "colorscale": [
             [
              0,
              "#0d0887"
             ],
             [
              0.1111111111111111,
              "#46039f"
             ],
             [
              0.2222222222222222,
              "#7201a8"
             ],
             [
              0.3333333333333333,
              "#9c179e"
             ],
             [
              0.4444444444444444,
              "#bd3786"
             ],
             [
              0.5555555555555556,
              "#d8576b"
             ],
             [
              0.6666666666666666,
              "#ed7953"
             ],
             [
              0.7777777777777778,
              "#fb9f3a"
             ],
             [
              0.8888888888888888,
              "#fdca26"
             ],
             [
              1,
              "#f0f921"
             ]
            ],
            "type": "histogram2d"
           }
          ],
          "histogram2dcontour": [
           {
            "colorbar": {
             "outlinewidth": 0,
             "ticks": ""
            },
            "colorscale": [
             [
              0,
              "#0d0887"
             ],
             [
              0.1111111111111111,
              "#46039f"
             ],
             [
              0.2222222222222222,
              "#7201a8"
             ],
             [
              0.3333333333333333,
              "#9c179e"
             ],
             [
              0.4444444444444444,
              "#bd3786"
             ],
             [
              0.5555555555555556,
              "#d8576b"
             ],
             [
              0.6666666666666666,
              "#ed7953"
             ],
             [
              0.7777777777777778,
              "#fb9f3a"
             ],
             [
              0.8888888888888888,
              "#fdca26"
             ],
             [
              1,
              "#f0f921"
             ]
            ],
            "type": "histogram2dcontour"
           }
          ],
          "mesh3d": [
           {
            "colorbar": {
             "outlinewidth": 0,
             "ticks": ""
            },
            "type": "mesh3d"
           }
          ],
          "parcoords": [
           {
            "line": {
             "colorbar": {
              "outlinewidth": 0,
              "ticks": ""
             }
            },
            "type": "parcoords"
           }
          ],
          "pie": [
           {
            "automargin": true,
            "type": "pie"
           }
          ],
          "scatter": [
           {
            "fillpattern": {
             "fillmode": "overlay",
             "size": 10,
             "solidity": 0.2
            },
            "type": "scatter"
           }
          ],
          "scatter3d": [
           {
            "line": {
             "colorbar": {
              "outlinewidth": 0,
              "ticks": ""
             }
            },
            "marker": {
             "colorbar": {
              "outlinewidth": 0,
              "ticks": ""
             }
            },
            "type": "scatter3d"
           }
          ],
          "scattercarpet": [
           {
            "marker": {
             "colorbar": {
              "outlinewidth": 0,
              "ticks": ""
             }
            },
            "type": "scattercarpet"
           }
          ],
          "scattergeo": [
           {
            "marker": {
             "colorbar": {
              "outlinewidth": 0,
              "ticks": ""
             }
            },
            "type": "scattergeo"
           }
          ],
          "scattergl": [
           {
            "marker": {
             "colorbar": {
              "outlinewidth": 0,
              "ticks": ""
             }
            },
            "type": "scattergl"
           }
          ],
          "scattermap": [
           {
            "marker": {
             "colorbar": {
              "outlinewidth": 0,
              "ticks": ""
             }
            },
            "type": "scattermap"
           }
          ],
          "scattermapbox": [
           {
            "marker": {
             "colorbar": {
              "outlinewidth": 0,
              "ticks": ""
             }
            },
            "type": "scattermapbox"
           }
          ],
          "scatterpolar": [
           {
            "marker": {
             "colorbar": {
              "outlinewidth": 0,
              "ticks": ""
             }
            },
            "type": "scatterpolar"
           }
          ],
          "scatterpolargl": [
           {
            "marker": {
             "colorbar": {
              "outlinewidth": 0,
              "ticks": ""
             }
            },
            "type": "scatterpolargl"
           }
          ],
          "scatterternary": [
           {
            "marker": {
             "colorbar": {
              "outlinewidth": 0,
              "ticks": ""
             }
            },
            "type": "scatterternary"
           }
          ],
          "surface": [
           {
            "colorbar": {
             "outlinewidth": 0,
             "ticks": ""
            },
            "colorscale": [
             [
              0,
              "#0d0887"
             ],
             [
              0.1111111111111111,
              "#46039f"
             ],
             [
              0.2222222222222222,
              "#7201a8"
             ],
             [
              0.3333333333333333,
              "#9c179e"
             ],
             [
              0.4444444444444444,
              "#bd3786"
             ],
             [
              0.5555555555555556,
              "#d8576b"
             ],
             [
              0.6666666666666666,
              "#ed7953"
             ],
             [
              0.7777777777777778,
              "#fb9f3a"
             ],
             [
              0.8888888888888888,
              "#fdca26"
             ],
             [
              1,
              "#f0f921"
             ]
            ],
            "type": "surface"
           }
          ],
          "table": [
           {
            "cells": {
             "fill": {
              "color": "#EBF0F8"
             },
             "line": {
              "color": "white"
             }
            },
            "header": {
             "fill": {
              "color": "#C8D4E3"
             },
             "line": {
              "color": "white"
             }
            },
            "type": "table"
           }
          ]
         },
         "layout": {
          "annotationdefaults": {
           "arrowcolor": "#2a3f5f",
           "arrowhead": 0,
           "arrowwidth": 1
          },
          "autotypenumbers": "strict",
          "coloraxis": {
           "colorbar": {
            "outlinewidth": 0,
            "ticks": ""
           }
          },
          "colorscale": {
           "diverging": [
            [
             0,
             "#8e0152"
            ],
            [
             0.1,
             "#c51b7d"
            ],
            [
             0.2,
             "#de77ae"
            ],
            [
             0.3,
             "#f1b6da"
            ],
            [
             0.4,
             "#fde0ef"
            ],
            [
             0.5,
             "#f7f7f7"
            ],
            [
             0.6,
             "#e6f5d0"
            ],
            [
             0.7,
             "#b8e186"
            ],
            [
             0.8,
             "#7fbc41"
            ],
            [
             0.9,
             "#4d9221"
            ],
            [
             1,
             "#276419"
            ]
           ],
           "sequential": [
            [
             0,
             "#0d0887"
            ],
            [
             0.1111111111111111,
             "#46039f"
            ],
            [
             0.2222222222222222,
             "#7201a8"
            ],
            [
             0.3333333333333333,
             "#9c179e"
            ],
            [
             0.4444444444444444,
             "#bd3786"
            ],
            [
             0.5555555555555556,
             "#d8576b"
            ],
            [
             0.6666666666666666,
             "#ed7953"
            ],
            [
             0.7777777777777778,
             "#fb9f3a"
            ],
            [
             0.8888888888888888,
             "#fdca26"
            ],
            [
             1,
             "#f0f921"
            ]
           ],
           "sequentialminus": [
            [
             0,
             "#0d0887"
            ],
            [
             0.1111111111111111,
             "#46039f"
            ],
            [
             0.2222222222222222,
             "#7201a8"
            ],
            [
             0.3333333333333333,
             "#9c179e"
            ],
            [
             0.4444444444444444,
             "#bd3786"
            ],
            [
             0.5555555555555556,
             "#d8576b"
            ],
            [
             0.6666666666666666,
             "#ed7953"
            ],
            [
             0.7777777777777778,
             "#fb9f3a"
            ],
            [
             0.8888888888888888,
             "#fdca26"
            ],
            [
             1,
             "#f0f921"
            ]
           ]
          },
          "colorway": [
           "#636efa",
           "#EF553B",
           "#00cc96",
           "#ab63fa",
           "#FFA15A",
           "#19d3f3",
           "#FF6692",
           "#B6E880",
           "#FF97FF",
           "#FECB52"
          ],
          "font": {
           "color": "#2a3f5f"
          },
          "geo": {
           "bgcolor": "white",
           "lakecolor": "white",
           "landcolor": "#E5ECF6",
           "showlakes": true,
           "showland": true,
           "subunitcolor": "white"
          },
          "hoverlabel": {
           "align": "left"
          },
          "hovermode": "closest",
          "mapbox": {
           "style": "light"
          },
          "paper_bgcolor": "white",
          "plot_bgcolor": "#E5ECF6",
          "polar": {
           "angularaxis": {
            "gridcolor": "white",
            "linecolor": "white",
            "ticks": ""
           },
           "bgcolor": "#E5ECF6",
           "radialaxis": {
            "gridcolor": "white",
            "linecolor": "white",
            "ticks": ""
           }
          },
          "scene": {
           "xaxis": {
            "backgroundcolor": "#E5ECF6",
            "gridcolor": "white",
            "gridwidth": 2,
            "linecolor": "white",
            "showbackground": true,
            "ticks": "",
            "zerolinecolor": "white"
           },
           "yaxis": {
            "backgroundcolor": "#E5ECF6",
            "gridcolor": "white",
            "gridwidth": 2,
            "linecolor": "white",
            "showbackground": true,
            "ticks": "",
            "zerolinecolor": "white"
           },
           "zaxis": {
            "backgroundcolor": "#E5ECF6",
            "gridcolor": "white",
            "gridwidth": 2,
            "linecolor": "white",
            "showbackground": true,
            "ticks": "",
            "zerolinecolor": "white"
           }
          },
          "shapedefaults": {
           "line": {
            "color": "#2a3f5f"
           }
          },
          "ternary": {
           "aaxis": {
            "gridcolor": "white",
            "linecolor": "white",
            "ticks": ""
           },
           "baxis": {
            "gridcolor": "white",
            "linecolor": "white",
            "ticks": ""
           },
           "bgcolor": "#E5ECF6",
           "caxis": {
            "gridcolor": "white",
            "linecolor": "white",
            "ticks": ""
           }
          },
          "title": {
           "x": 0.05
          },
          "xaxis": {
           "automargin": true,
           "gridcolor": "white",
           "linecolor": "white",
           "ticks": "",
           "title": {
            "standoff": 15
           },
           "zerolinecolor": "white",
           "zerolinewidth": 2
          },
          "yaxis": {
           "automargin": true,
           "gridcolor": "white",
           "linecolor": "white",
           "ticks": "",
           "title": {
            "standoff": 15
           },
           "zerolinecolor": "white",
           "zerolinewidth": 2
          }
         }
        },
        "title": {
         "text": "Comparison of Portfolio vs. Nasdaq Composite Growth"
        },
        "xaxis": {
         "tickformat": "%b %Y",
         "tickmode": "auto",
         "title": {
          "text": "Date"
         },
         "type": "date"
        },
        "yaxis": {
         "title": {
          "text": "Normalized Value (Base 100)"
         }
        }
       }
      }
     },
     "metadata": {},
     "output_type": "display_data"
    }
   ],
   "source": [
    "best_port_assets = best_portfolio['tickers']\n",
    "best_port_assets_test_data = raw_data_test.loc[:, best_port_assets]\n",
    "\n",
    "Nasdaq_comp = getNasdaq_comp(best_port_assets_test_data.index[0], best_port_assets_test_data.index[-1])\n",
    "\n",
    "best_portfolio_weights = best_portfolio['weights']\n",
    "normalized_prices = best_port_assets_test_data.div(best_port_assets_test_data.iloc[0])\n",
    "daily_returns = normalized_prices.pct_change()\n",
    "weighted_returns = daily_returns.mul(best_portfolio_weights, axis='columns')\n",
    "portfolio_daily_returns = weighted_returns.sum(axis=1)\n",
    "portfolio_cumulative_returns = (1 + portfolio_daily_returns).cumprod()\n",
    "\n",
    "portfolio_start = portfolio_cumulative_returns.iloc[0]\n",
    "portfolio_normalized = (portfolio_cumulative_returns / portfolio_start) * 100\n",
    "\n",
    "fig = go.Figure()\n",
    "\n",
    "fig.add_trace(go.Scatter(\n",
    "    x=Nasdaq_comp.index,\n",
    "    y=Nasdaq_comp['Normalized'],\n",
    "    mode='lines',\n",
    "    name='Nasdaq Composite'\n",
    "))\n",
    "\n",
    "fig.add_trace(go.Scatter(\n",
    "    x=portfolio_cumulative_returns.index,\n",
    "    y=portfolio_normalized,\n",
    "    mode='lines',\n",
    "    name='Portfolio Growth'\n",
    "))\n",
    "\n",
    "fig.add_trace(go.Scatter(\n",
    "    x=ML_cumulative_returns.index,\n",
    "    y=ML_portfolio_normalized,\n",
    "    mode='lines',\n",
    "    name='Portfolio Growth'\n",
    "))\n",
    "\n",
    "fig.update_layout(\n",
    "    title='Comparison of Portfolio vs. Nasdaq Composite Growth',\n",
    "    xaxis_title='Date',\n",
    "    yaxis_title='Normalized Value (Base 100)',\n",
    "    xaxis=dict(\n",
    "        type='date',\n",
    "        tickformat='%b %Y',\n",
    "        tickmode='auto'\n",
    "    )\n",
    ")"
   ]
  }
 ],
 "metadata": {
  "colab": {
   "include_colab_link": true,
   "provenance": []
  },
  "kernelspec": {
   "display_name": "roboA",
   "language": "python",
   "name": "python3"
  },
  "language_info": {
   "codemirror_mode": {
    "name": "ipython",
    "version": 3
   },
   "file_extension": ".py",
   "mimetype": "text/x-python",
   "name": "python",
   "nbconvert_exporter": "python",
   "pygments_lexer": "ipython3",
   "version": "3.12.8"
  }
 },
 "nbformat": 4,
 "nbformat_minor": 4
}
