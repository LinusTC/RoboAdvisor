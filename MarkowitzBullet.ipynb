{
 "cells": [
  {
   "cell_type": "markdown",
   "metadata": {
    "id": "bj91ThpmabDR"
   },
   "source": [
    "# Investment Robo-advisor"
   ]
  },
  {
   "cell_type": "markdown",
   "metadata": {
    "id": "w31yow0TabDS"
   },
   "source": [
    "## 1. Imports"
   ]
  },
  {
   "cell_type": "code",
   "execution_count": 1,
   "metadata": {
    "execution": {
     "iopub.execute_input": "2025-03-28T01:45:53.383324Z",
     "iopub.status.busy": "2025-03-28T01:45:53.382444Z",
     "iopub.status.idle": "2025-03-28T01:45:58.308586Z",
     "shell.execute_reply": "2025-03-28T01:45:58.307422Z",
     "shell.execute_reply.started": "2025-03-28T01:45:53.383271Z"
    },
    "id": "EvpNgOhEabDS",
    "trusted": true
   },
   "outputs": [],
   "source": [
    "import pandas as pd\n",
    "import numpy as np\n",
    "import plotly.graph_objects as go\n",
    "from plotly.subplots import make_subplots\n",
    "import statistics\n",
    "from tqdm import tqdm\n",
    "from collections import defaultdict, Counter\n",
    "import math\n",
    "from itertools import combinations\n",
    "from sklearn.preprocessing import MinMaxScaler\n",
    "import tensorflow as tf\n",
    "from tensorflow.keras.models import Sequential # type: ignore\n",
    "from tensorflow.keras.layers import LSTM, Dense, Dropout # type: ignore\n",
    "\n",
    "from fetchData import fetch_raw_data_yf, getSNP500, fetch_raw_data_yf_all, getNasdaq_comp\n",
    "from MonteCarloRBA import MonteCarloRBA\n",
    "from PortfolioFunction import maximize_sharpe, create_correlation_matrix, get_sharpe_ratio, get_matrices, maximize_sharpe_SLSQP\n",
    "from LearningRBA import find_best_asset_to_remove, find_asset_to_add\n"
   ]
  },
  {
   "cell_type": "markdown",
   "metadata": {
    "id": "fnySmmT6abDT"
   },
   "source": [
    "## 2. Fetch Data"
   ]
  },
  {
   "cell_type": "markdown",
   "metadata": {
    "id": "8bz1yuGUabDT"
   },
   "source": [
    "### Get all Nasdaq Stocks"
   ]
  },
  {
   "cell_type": "code",
   "execution_count": null,
   "metadata": {
    "colab": {
     "base_uri": "https://localhost:8080/"
    },
    "execution": {
     "iopub.execute_input": "2025-03-28T01:45:58.310597Z",
     "iopub.status.busy": "2025-03-28T01:45:58.309866Z",
     "iopub.status.idle": "2025-03-28T01:45:58.610539Z",
     "shell.execute_reply": "2025-03-28T01:45:58.609457Z",
     "shell.execute_reply.started": "2025-03-28T01:45:58.310560Z"
    },
    "id": "H4G7yoJuabDT",
    "outputId": "e6e2de66-44f1-4d77-8bc1-bfe43fe6e4cd",
    "trusted": true
   },
   "outputs": [],
   "source": [
    "assets= [\n",
    "    \"AAPL\",  # Apple Inc.\n",
    "    \"MSFT\",  # Microsoft Corporation\n",
    "    \"AMZN\",  # Amazon.com Inc.\n",
    "    \"GOOGL\", # Alphabet Inc. (Google) Class A\n",
    "    \"GOOG\",  # Alphabet Inc. (Google) Class C\n",
    "    \"META\",    # Meta Platforms Inc (formerly Facebook)\n",
    "    \"TSLA\",  # Tesla Inc\n",
    "    \"UA\", # Berkshire Hathaway Inc. Class B\n",
    "    \"JPM\",   # JPMorgan Chase & Co.\n",
    "    \"V\",     # Visa Inc.\n",
    "    \"JNJ\",   # Johnson & Johnson\n",
    "    \"WMT\",   # Walmart Inc.\n",
    "    \"PG\",    # Procter & Gamble Co.\n",
    "    \"UNH\",   # UnitedHealth Group Inc.\n",
    "    \"MA\",    # Mastercard Inc.\n",
    "    \"NVDA\",  # NVIDIA Corporation\n",
    "    \"HD\",    # Home Depot Inc.\n",
    "    \"BAC\",   # Bank of America Corp\n",
    "    \"DIS\",   # Walt Disney Co\n",
    "    \"PYPL\",  # PayPal Holdings\n",
    "    \"VZ\",    # Verizon Communications Inc.\n",
    "    \"ADBE\",  # Adobe Inc.\n",
    "    \"CMCSA\", # Comcast Corporation\n",
    "    \"NFLX\",  # Netflix Inc.\n",
    "    \"KO\",    # Coca-Cola Co\n",
    "    \"NKE\",   # NIKE Inc.\n",
    "    \"PFE\",   # Pfizer Inc.\n",
    "    \"MRK\",   # Merck & Co., Inc.\n",
    "    \"PEP\",   # PepsiCo, Inc.\n",
    "    \"T\",     # AT&T Inc.\n",
    "    \"ABT\",   # Abbott Laboratories\n",
    "    \"CRM\",   # Salesforce.com Inc.\n",
    "    \"ORCL\",  # Oracle Corporation\n",
    "    \"ABBV\",  # AbbVie Inc.\n",
    "    \"CSCO\",  # Cisco Systems, Inc.\n",
    "    \"INTC\",  # Intel Corporation\n",
    "    \"TMO\",   # Thermo Fisher Scientific Inc.\n",
    "    \"XOM\",   # Exxon Mobil Corporation\n",
    "    \"ACN\",   # Accenture plc\n",
    "    \"LLY\",   # Eli Lilly and Company\n",
    "    \"COST\",  # Costco Wholesale Corporation\n",
    "    \"MCD\",   # McDonald's Corp\n",
    "    \"DHR\",   # Danaher Corporation\n",
    "    \"MDT\",   # Medtronic plc\n",
    "    \"NEE\",   # NextEra Energy, Inc.\n",
    "    \"BMY\",   # Bristol-Myers Squibb Company\n",
    "    \"QCOM\",  # Qualcomm Inc\n",
    "    \"CVX\",   # Chevron Corporation\n",
    "    \"WFC\",   # Wells Fargo & Co\n",
    "    \"LMT\",    # Lockheed Martin Corporation\n",
    "    \"GS\",   # Goldman Sachs Group, Inc.\n",
    "    \"MS\",   # Morgan Stanley\n",
    "    \"IBM\",  # International Business Machines Corporation\n",
    "    \"GE\",   # General Electric Company\n",
    "    \"F\",    # Ford Motor Company\n",
    "    \"GM\",   # General Motors Company\n",
    "    \"UBER\", # Uber Technologies, Inc.\n",
    "    \"LYFT\", # Lyft, Inc.\n",
    "    \"SNAP\", # Snap Inc.\n",
    "    \"TWTR\", # Twitter, Inc.\n",
    "    \"SPOT\", # Spotify Technology S.A.\n",
    "    \"AMD\",  # Advanced Micro Devices, Inc.\n",
    "    \"TXN\",  # Texas Instruments Incorporated\n",
    "    \"BABA\", # Alibaba Group Holding Limited\n",
    "    \"SAP\",  # SAP SE\n",
    "    \"HON\",  # Honeywell International Inc.\n",
    "    \"BA\",   # Boeing Company\n",
    "    \"RTX\",  # Raytheon Technologies Corporation\n",
    "    \"CAT\",  # Caterpillar Inc.\n",
    "    \"DE\",   # Deere & Company\n",
    "    \"MMM\",  # 3M Company\n",
    "    \"DUK\",  # Duke Energy Corporation\n",
    "    \"SO\",   # Southern Company\n",
    "    \"EXC\",  # Exelon Corporation\n",
    "    \"NEE\",  # NextEra Energy, Inc.\n",
    "    \"AEP\",  # American Electric Power Company, Inc.\n",
    "    \"SRE\",  # Sempra Energy\n",
    "    \"ETN\",  # Eaton Corporation plc\n",
    "    \"EMR\",  # Emerson Electric Co.\n",
    "    \"SYY\",  # Sysco Corporation\n",
    "    \"KR\",   # Kroger Co.\n",
    "    \"GIS\",  # General Mills, Inc.\n",
    "    \"K\",    # Kellogg Company\n",
    "    \"CPB\",  # Campbell Soup Company\n",
    "    \"MO\",   # Altria Group, Inc.\n",
    "    \"PM\",   # Philip Morris International Inc.\n",
    "    \"BTI\",  # British American Tobacco plc\n",
    "    \"RDY\",  # Dr. Reddy's Laboratories Ltd.\n",
    "    \"GILD\", # Gilead Sciences, Inc.\n",
    "    \"BIIB\", # Biogen Inc.\n",
    "    \"CELG\", # Celgene Corporation\n",
    "    \"AMGN\", # Amgen Inc.\n",
    "    \"SYK\",  # Stryker Corporation\n",
    "    \"BSX\",  # Boston Scientific Corporation\n",
    "    \"ISRG\", # Intuitive Surgical, Inc.\n",
    "    \"ZBH\",  # Zimmer Biomet Holdings, Inc.\n",
    "    \"EW\",   # Edwards Lifesciences Corporation\n",
    "    \"RMD\",  # ResMed Inc.\n",
    "    \"VRTX\", # Vertex Pharmaceuticals Incorporated\n",
    "    \"REGN\",  # Regeneron Pharmaceuticals, Inc.\n",
    "]\n",
    "\n",
    "assets = getSNP500()"
   ]
  },
  {
   "cell_type": "code",
   "execution_count": null,
   "metadata": {
    "colab": {
     "base_uri": "https://localhost:8080/"
    },
    "execution": {
     "iopub.execute_input": "2025-03-28T01:45:58.612180Z",
     "iopub.status.busy": "2025-03-28T01:45:58.611759Z",
     "iopub.status.idle": "2025-03-28T01:45:58.617112Z",
     "shell.execute_reply": "2025-03-28T01:45:58.615944Z",
     "shell.execute_reply.started": "2025-03-28T01:45:58.612143Z"
    },
    "id": "AvJfF_5YabDU",
    "outputId": "e2769ab4-6379-4ccc-e628-557b92733cd1",
    "trusted": true
   },
   "outputs": [],
   "source": [
    "start_date = pd.Timestamp(\"2013-01-01\")\n",
    "end_date = pd.Timestamp(\"2015-01-01\")"
   ]
  },
  {
   "cell_type": "code",
   "execution_count": 4,
   "metadata": {
    "execution": {
     "iopub.execute_input": "2025-03-28T01:45:58.618781Z",
     "iopub.status.busy": "2025-03-28T01:45:58.618327Z",
     "iopub.status.idle": "2025-03-28T01:48:06.972943Z",
     "shell.execute_reply": "2025-03-28T01:48:06.971777Z",
     "shell.execute_reply.started": "2025-03-28T01:45:58.618735Z"
    },
    "scrolled": true,
    "trusted": true
   },
   "outputs": [
    {
     "name": "stderr",
     "output_type": "stream",
     "text": [
      "[*********************100%***********************]  1 of 1 completed\n",
      "[*********************100%***********************]  1 of 1 completed\n",
      "[*********************100%***********************]  1 of 1 completed\n",
      "[*********************100%***********************]  1 of 1 completed\n",
      "[*********************100%***********************]  1 of 1 completed\n",
      "[*********************100%***********************]  1 of 1 completed\n",
      "[*********************100%***********************]  1 of 1 completed\n",
      "[*********************100%***********************]  1 of 1 completed\n",
      "[*********************100%***********************]  1 of 1 completed\n",
      "[*********************100%***********************]  1 of 1 completed\n",
      "\n",
      "1 Failed download:\n",
      "['UBER']: YFPricesMissingError('possibly delisted; no price data found  (1d 2015-01-01 00:00:00 -> 2018-01-01 00:00:00) (Yahoo error = \"Data doesn\\'t exist for startDate = 1420088400, endDate = 1514782800\")')\n",
      "[*********************100%***********************]  1 of 1 completed\n",
      "[*********************100%***********************]  1 of 1 completed\n",
      "[*********************100%***********************]  1 of 1 completed\n",
      "[*********************100%***********************]  1 of 1 completed\n",
      "[*********************100%***********************]  1 of 1 completed\n",
      "[*********************100%***********************]  1 of 1 completed\n",
      "[*********************100%***********************]  1 of 1 completed\n",
      "[*********************100%***********************]  1 of 1 completed\n",
      "[*********************100%***********************]  1 of 1 completed\n",
      "[*********************100%***********************]  1 of 1 completed\n",
      "[*********************100%***********************]  1 of 1 completed\n",
      "[*********************100%***********************]  1 of 1 completed\n",
      "[*********************100%***********************]  1 of 1 completed\n",
      "[*********************100%***********************]  1 of 1 completed\n",
      "[*********************100%***********************]  1 of 1 completed\n",
      "[*********************100%***********************]  1 of 1 completed\n",
      "[*********************100%***********************]  1 of 1 completed\n",
      "[*********************100%***********************]  1 of 1 completed\n",
      "[*********************100%***********************]  1 of 1 completed\n",
      "[*********************100%***********************]  1 of 1 completed\n",
      "[*********************100%***********************]  1 of 1 completed\n",
      "[*********************100%***********************]  1 of 1 completed\n",
      "[*********************100%***********************]  1 of 1 completed\n",
      "[*********************100%***********************]  1 of 1 completed\n",
      "[*********************100%***********************]  1 of 1 completed\n",
      "[*********************100%***********************]  1 of 1 completed\n",
      "[*********************100%***********************]  1 of 1 completed\n",
      "\n",
      "1 Failed download:\n",
      "['CELG']: YFTzMissingError('possibly delisted; no timezone found')\n",
      "[*********************100%***********************]  1 of 1 completed\n",
      "[*********************100%***********************]  1 of 1 completed\n",
      "\n",
      "1 Failed download:\n",
      "['SPOT']: YFPricesMissingError('possibly delisted; no price data found  (1d 2015-01-01 00:00:00 -> 2018-01-01 00:00:00) (Yahoo error = \"Data doesn\\'t exist for startDate = 1420088400, endDate = 1514782800\")')\n",
      "[*********************100%***********************]  1 of 1 completed\n",
      "[*********************100%***********************]  1 of 1 completed\n",
      "[*********************100%***********************]  1 of 1 completed\n",
      "[*********************100%***********************]  1 of 1 completed\n",
      "[*********************100%***********************]  1 of 1 completed\n",
      "[*********************100%***********************]  1 of 1 completed\n",
      "[*********************100%***********************]  1 of 1 completed\n",
      "[*********************100%***********************]  1 of 1 completed\n",
      "[*********************100%***********************]  1 of 1 completed\n",
      "[*********************100%***********************]  1 of 1 completed\n",
      "[*********************100%***********************]  1 of 1 completed\n",
      "[*********************100%***********************]  1 of 1 completed\n",
      "[*********************100%***********************]  1 of 1 completed\n",
      "[*********************100%***********************]  1 of 1 completed\n",
      "[*********************100%***********************]  1 of 1 completed\n",
      "[*********************100%***********************]  1 of 1 completed\n",
      "[*********************100%***********************]  1 of 1 completed\n",
      "[*********************100%***********************]  1 of 1 completed\n",
      "[*********************100%***********************]  1 of 1 completed\n",
      "[*********************100%***********************]  1 of 1 completed\n",
      "[*********************100%***********************]  1 of 1 completed\n",
      "[*********************100%***********************]  1 of 1 completed\n",
      "[*********************100%***********************]  1 of 1 completed\n",
      "[*********************100%***********************]  1 of 1 completed\n",
      "[*********************100%***********************]  1 of 1 completed\n",
      "[*********************100%***********************]  1 of 1 completed\n",
      "[*********************100%***********************]  1 of 1 completed\n",
      "[*********************100%***********************]  1 of 1 completed\n",
      "[*********************100%***********************]  1 of 1 completed\n",
      "[*********************100%***********************]  1 of 1 completed\n",
      "[*********************100%***********************]  1 of 1 completed\n",
      "[*********************100%***********************]  1 of 1 completed\n",
      "[*********************100%***********************]  1 of 1 completed\n",
      "[*********************100%***********************]  1 of 1 completed\n",
      "[*********************100%***********************]  1 of 1 completed\n",
      "[*********************100%***********************]  1 of 1 completed\n",
      "[*********************100%***********************]  1 of 1 completed\n",
      "[*********************100%***********************]  1 of 1 completed\n",
      "[*********************100%***********************]  1 of 1 completed\n",
      "[*********************100%***********************]  1 of 1 completed\n",
      "[*********************100%***********************]  1 of 1 completed\n",
      "[*********************100%***********************]  1 of 1 completed\n",
      "[*********************100%***********************]  1 of 1 completed\n",
      "\n",
      "1 Failed download:\n",
      "['TWTR']: YFTzMissingError('possibly delisted; no timezone found')\n",
      "[*********************100%***********************]  1 of 1 completed\n",
      "[*********************100%***********************]  1 of 1 completed\n",
      "\n",
      "1 Failed download:\n",
      "['LYFT']: YFPricesMissingError('possibly delisted; no price data found  (1d 2015-01-01 00:00:00 -> 2018-01-01 00:00:00) (Yahoo error = \"Data doesn\\'t exist for startDate = 1420088400, endDate = 1514782800\")')\n",
      "[*********************100%***********************]  1 of 1 completed\n",
      "[*********************100%***********************]  1 of 1 completed\n",
      "[*********************100%***********************]  1 of 1 completed\n",
      "[*********************100%***********************]  1 of 1 completed\n",
      "[*********************100%***********************]  1 of 1 completed\n",
      "[*********************100%***********************]  1 of 1 completed\n",
      "[*********************100%***********************]  1 of 1 completed\n",
      "[*********************100%***********************]  1 of 1 completed\n",
      "[*********************100%***********************]  1 of 1 completed\n",
      "[*********************100%***********************]  1 of 1 completed\n",
      "[*********************100%***********************]  1 of 1 completed\n",
      "[*********************100%***********************]  1 of 1 completed\n",
      "[*********************100%***********************]  1 of 1 completed\n",
      "[*********************100%***********************]  1 of 1 completed\n",
      "[*********************100%***********************]  1 of 1 completed"
     ]
    },
    {
     "name": "stdout",
     "output_type": "stream",
     "text": [
      "Omitted assets: ['UBER', 'CELG', 'SPOT', 'TWTR', 'LYFT']\n",
      "Time to fetch data: 14.20 seconds\n",
      "Max combination of assets with complete data: 91\n"
     ]
    },
    {
     "name": "stderr",
     "output_type": "stream",
     "text": [
      "\n"
     ]
    }
   ],
   "source": [
    "raw_data, asset_errors, max_combination= fetch_raw_data_yf(assets, start_date, end_date)"
   ]
  },
  {
   "cell_type": "markdown",
   "metadata": {
    "id": "FyXEENSbabDU"
   },
   "source": [
    "## 3. Mean, Volatility and Covariance"
   ]
  },
  {
   "cell_type": "code",
   "execution_count": 5,
   "metadata": {
    "colab": {
     "base_uri": "https://localhost:8080/"
    },
    "execution": {
     "iopub.execute_input": "2025-03-28T01:48:06.976659Z",
     "iopub.status.busy": "2025-03-28T01:48:06.976361Z",
     "iopub.status.idle": "2025-03-28T01:48:07.104927Z",
     "shell.execute_reply": "2025-03-28T01:48:07.103928Z",
     "shell.execute_reply.started": "2025-03-28T01:48:06.976634Z"
    },
    "id": "V8UnmVllabDU",
    "outputId": "5db2e605-2732-40fd-8052-5cddc38fded9",
    "trusted": true
   },
   "outputs": [],
   "source": [
    "names, annualized_returns, unweighted_annaulized_returns, weighted_returns_matrix, normal_returns_matrix, cov, correlation_matrix = get_matrices(raw_data)\n",
    "\n",
    "volatility = np.sqrt(np.diag(cov))\n",
    "risk_free_rate=0\n",
    "sharpe_ratios = (annualized_returns - risk_free_rate) / volatility"
   ]
  },
  {
   "cell_type": "code",
   "execution_count": 6,
   "metadata": {
    "colab": {
     "base_uri": "https://localhost:8080/",
     "height": 542
    },
    "execution": {
     "iopub.execute_input": "2025-03-28T01:48:07.107459Z",
     "iopub.status.busy": "2025-03-28T01:48:07.107065Z",
     "iopub.status.idle": "2025-03-28T01:48:07.660329Z",
     "shell.execute_reply": "2025-03-28T01:48:07.659148Z",
     "shell.execute_reply.started": "2025-03-28T01:48:07.107424Z"
    },
    "id": "70g4vm3qabDU",
    "outputId": "3974e87c-1b85-4392-e8b8-594c2626466e",
    "trusted": true
   },
   "outputs": [
    {
     "data": {
      "application/vnd.plotly.v1+json": {
       "config": {
        "plotlyServerURL": "https://plotly.com"
       },
       "data": [
        {
         "hoverinfo": "text",
         "hovertext": [
          "<br>Symbol: HD <br>Volatility: 0.176 <br>Returns: 20.193% <br>Sharpe Ratio: 1.147",
          "<br>Symbol: ABBV <br>Volatility: 0.263 <br>Returns: 12.552% <br>Sharpe Ratio: 0.478",
          "<br>Symbol: CSCO <br>Volatility: 0.204 <br>Returns: 11.637% <br>Sharpe Ratio: 0.571",
          "<br>Symbol: MS <br>Volatility: 0.270 <br>Returns: 5.158% <br>Sharpe Ratio: 0.191",
          "<br>Symbol: EXC <br>Volatility: 0.210 <br>Returns: 2.272% <br>Sharpe Ratio: 0.108",
          "<br>Symbol: TSLA <br>Volatility: 0.378 <br>Returns: 7.556% <br>Sharpe Ratio: 0.200",
          "<br>Symbol: ORCL <br>Volatility: 0.196 <br>Returns: 2.723% <br>Sharpe Ratio: 0.139",
          "<br>Symbol: META <br>Volatility: 0.240 <br>Returns: 25.166% <br>Sharpe Ratio: 1.050",
          "<br>Symbol: BABA <br>Volatility: 0.305 <br>Returns: 13.427% <br>Sharpe Ratio: 0.440",
          "<br>Symbol: BSX <br>Volatility: 0.238 <br>Returns: 31.916% <br>Sharpe Ratio: 1.342",
          "<br>Symbol: KR <br>Volatility: 0.278 <br>Returns: -4.012% <br>Sharpe Ratio: -0.145",
          "<br>Symbol: GOOGL <br>Volatility: 0.219 <br>Returns: 19.882% <br>Sharpe Ratio: 0.910",
          "<br>Symbol: ADBE <br>Volatility: 0.233 <br>Returns: 28.474% <br>Sharpe Ratio: 1.222",
          "<br>Symbol: MDT <br>Volatility: 0.187 <br>Returns: 7.443% <br>Sharpe Ratio: 0.399",
          "<br>Symbol: SRE <br>Volatility: 0.179 <br>Returns: 2.130% <br>Sharpe Ratio: 0.119",
          "<br>Symbol: DIS <br>Volatility: 0.186 <br>Returns: 5.712% <br>Sharpe Ratio: 0.307",
          "<br>Symbol: SO <br>Volatility: 0.152 <br>Returns: 5.543% <br>Sharpe Ratio: 0.366",
          "<br>Symbol: BMY <br>Volatility: 0.260 <br>Returns: 4.620% <br>Sharpe Ratio: 0.178",
          "<br>Symbol: RDY <br>Volatility: 0.320 <br>Returns: -8.938% <br>Sharpe Ratio: -0.279",
          "<br>Symbol: AEP <br>Volatility: 0.164 <br>Returns: 9.978% <br>Sharpe Ratio: 0.607",
          "<br>Symbol: UNH <br>Volatility: 0.200 <br>Returns: 28.937% <br>Sharpe Ratio: 1.446",
          "<br>Symbol: AMZN <br>Volatility: 0.281 <br>Returns: 43.135% <br>Sharpe Ratio: 1.533",
          "<br>Symbol: LMT <br>Volatility: 0.152 <br>Returns: 18.328% <br>Sharpe Ratio: 1.208",
          "<br>Symbol: F <br>Volatility: 0.223 <br>Returns: -4.072% <br>Sharpe Ratio: -0.182",
          "<br>Symbol: DUK <br>Volatility: 0.161 <br>Returns: 5.205% <br>Sharpe Ratio: 0.324",
          "<br>Symbol: SYK <br>Volatility: 0.179 <br>Returns: 16.514% <br>Sharpe Ratio: 0.920",
          "<br>Symbol: NFLX <br>Volatility: 0.415 <br>Returns: 45.790% <br>Sharpe Ratio: 1.103",
          "<br>Symbol: NKE <br>Volatility: 0.222 <br>Returns: 7.835% <br>Sharpe Ratio: 0.353",
          "<br>Symbol: SAP <br>Volatility: 0.193 <br>Returns: 12.387% <br>Sharpe Ratio: 0.641",
          "<br>Symbol: EW <br>Volatility: 0.299 <br>Returns: 20.498% <br>Sharpe Ratio: 0.686",
          "<br>Symbol: GOOG <br>Volatility: 0.221 <br>Returns: 19.843% <br>Sharpe Ratio: 0.897",
          "<br>Symbol: CRM <br>Volatility: 0.281 <br>Returns: 16.727% <br>Sharpe Ratio: 0.594",
          "<br>Symbol: CMCSA <br>Volatility: 0.191 <br>Returns: 9.575% <br>Sharpe Ratio: 0.501",
          "<br>Symbol: CVX <br>Volatility: 0.224 <br>Returns: 1.287% <br>Sharpe Ratio: 0.057",
          "<br>Symbol: T <br>Volatility: 0.158 <br>Returns: 9.660% <br>Sharpe Ratio: 0.613",
          "<br>Symbol: AMGN <br>Volatility: 0.239 <br>Returns: 3.496% <br>Sharpe Ratio: 0.146",
          "<br>Symbol: BAC <br>Volatility: 0.268 <br>Returns: 9.040% <br>Sharpe Ratio: 0.337",
          "<br>Symbol: GE <br>Volatility: 0.199 <br>Returns: -8.514% <br>Sharpe Ratio: -0.427",
          "<br>Symbol: RTX <br>Volatility: 0.169 <br>Returns: 3.781% <br>Sharpe Ratio: 0.223",
          "<br>Symbol: SYY <br>Volatility: 0.176 <br>Returns: 14.809% <br>Sharpe Ratio: 0.843",
          "<br>Symbol: KO <br>Volatility: 0.128 <br>Returns: 6.685% <br>Sharpe Ratio: 0.522",
          "<br>Symbol: MO <br>Volatility: 0.171 <br>Returns: 18.106% <br>Sharpe Ratio: 1.062",
          "<br>Symbol: ZBH <br>Volatility: 0.219 <br>Returns: 5.869% <br>Sharpe Ratio: 0.269",
          "<br>Symbol: EMR <br>Volatility: 0.209 <br>Returns: 2.202% <br>Sharpe Ratio: 0.105",
          "<br>Symbol: BA <br>Volatility: 0.213 <br>Returns: 29.768% <br>Sharpe Ratio: 1.395",
          "<br>Symbol: GIS <br>Volatility: 0.171 <br>Returns: 4.582% <br>Sharpe Ratio: 0.268",
          "<br>Symbol: TXN <br>Volatility: 0.218 <br>Returns: 22.393% <br>Sharpe Ratio: 1.029",
          "<br>Symbol: REGN <br>Volatility: 0.342 <br>Returns: -0.803% <br>Sharpe Ratio: -0.023",
          "<br>Symbol: VRTX <br>Volatility: 0.402 <br>Returns: 3.523% <br>Sharpe Ratio: 0.088",
          "<br>Symbol: CPB <br>Volatility: 0.206 <br>Returns: 7.703% <br>Sharpe Ratio: 0.375",
          "<br>Symbol: JNJ <br>Volatility: 0.139 <br>Returns: 11.317% <br>Sharpe Ratio: 0.815",
          "<br>Symbol: ACN <br>Volatility: 0.186 <br>Returns: 17.964% <br>Sharpe Ratio: 0.964",
          "<br>Symbol: JPM <br>Volatility: 0.213 <br>Returns: 13.182% <br>Sharpe Ratio: 0.619",
          "<br>Symbol: HON <br>Volatility: 0.165 <br>Returns: 14.590% <br>Sharpe Ratio: 0.885",
          "<br>Symbol: ABT <br>Volatility: 0.206 <br>Returns: 9.483% <br>Sharpe Ratio: 0.460",
          "<br>Symbol: MMM <br>Volatility: 0.155 <br>Returns: 12.189% <br>Sharpe Ratio: 0.786",
          "<br>Symbol: TMO <br>Volatility: 0.198 <br>Returns: 12.764% <br>Sharpe Ratio: 0.646",
          "<br>Symbol: AMD <br>Volatility: 0.654 <br>Returns: 46.846% <br>Sharpe Ratio: 0.716",
          "<br>Symbol: WMT <br>Volatility: 0.194 <br>Returns: 6.217% <br>Sharpe Ratio: 0.320",
          "<br>Symbol: BIIB <br>Volatility: 0.346 <br>Returns: 0.269% <br>Sharpe Ratio: 0.008",
          "<br>Symbol: ETN <br>Volatility: 0.221 <br>Returns: 4.330% <br>Sharpe Ratio: 0.196",
          "<br>Symbol: CAT <br>Volatility: 0.245 <br>Returns: 11.261% <br>Sharpe Ratio: 0.461",
          "<br>Symbol: RMD <br>Volatility: 0.247 <br>Returns: 17.896% <br>Sharpe Ratio: 0.726",
          "<br>Symbol: COST <br>Volatility: 0.182 <br>Returns: 11.815% <br>Sharpe Ratio: 0.650",
          "<br>Symbol: K <br>Volatility: 0.175 <br>Returns: 2.911% <br>Sharpe Ratio: 0.166",
          "<br>Symbol: BTI <br>Volatility: 0.195 <br>Returns: 11.533% <br>Sharpe Ratio: 0.590",
          "<br>Symbol: PG <br>Volatility: 0.139 <br>Returns: 1.873% <br>Sharpe Ratio: 0.135",
          "<br>Symbol: LLY <br>Volatility: 0.227 <br>Returns: 9.096% <br>Sharpe Ratio: 0.401",
          "<br>Symbol: AAPL <br>Volatility: 0.229 <br>Returns: 17.113% <br>Sharpe Ratio: 0.748",
          "<br>Symbol: GM <br>Volatility: 0.238 <br>Returns: 10.804% <br>Sharpe Ratio: 0.454",
          "<br>Symbol: PEP <br>Volatility: 0.131 <br>Returns: 10.590% <br>Sharpe Ratio: 0.809",
          "<br>Symbol: PFE <br>Volatility: 0.170 <br>Returns: 10.529% <br>Sharpe Ratio: 0.619",
          "<br>Symbol: ISRG <br>Volatility: 0.209 <br>Returns: 23.548% <br>Sharpe Ratio: 1.126",
          "<br>Symbol: NEE <br>Volatility: 0.165 <br>Returns: 15.025% <br>Sharpe Ratio: 0.912",
          "<br>Symbol: WFC <br>Volatility: 0.206 <br>Returns: 0.957% <br>Sharpe Ratio: 0.046",
          "<br>Symbol: MCD <br>Volatility: 0.160 <br>Returns: 22.280% <br>Sharpe Ratio: 1.395",
          "<br>Symbol: NVDA <br>Volatility: 0.397 <br>Returns: 75.653% <br>Sharpe Ratio: 1.907",
          "<br>Symbol: DHR <br>Volatility: 0.316 <br>Returns: 25.686% <br>Sharpe Ratio: 0.813",
          "<br>Symbol: V <br>Volatility: 0.193 <br>Returns: 15.828% <br>Sharpe Ratio: 0.821",
          "<br>Symbol: GS <br>Volatility: 0.232 <br>Returns: 4.597% <br>Sharpe Ratio: 0.198",
          "<br>Symbol: IBM <br>Volatility: 0.190 <br>Returns: -1.319% <br>Sharpe Ratio: -0.069",
          "<br>Symbol: VZ <br>Volatility: 0.162 <br>Returns: 7.585% <br>Sharpe Ratio: 0.467",
          "<br>Symbol: MRK <br>Volatility: 0.196 <br>Returns: 8.377% <br>Sharpe Ratio: 0.427",
          "<br>Symbol: PM <br>Volatility: 0.165 <br>Returns: 14.014% <br>Sharpe Ratio: 0.849",
          "<br>Symbol: INTC <br>Volatility: 0.216 <br>Returns: 6.827% <br>Sharpe Ratio: 0.316",
          "<br>Symbol: DE <br>Volatility: 0.227 <br>Returns: 16.579% <br>Sharpe Ratio: 0.732",
          "<br>Symbol: MA <br>Volatility: 0.189 <br>Returns: 17.260% <br>Sharpe Ratio: 0.913",
          "<br>Symbol: GILD <br>Volatility: 0.257 <br>Returns: -1.188% <br>Sharpe Ratio: -0.046",
          "<br>Symbol: MSFT <br>Volatility: 0.225 <br>Returns: 19.179% <br>Sharpe Ratio: 0.853",
          "<br>Symbol: QCOM <br>Volatility: 0.293 <br>Returns: -5.067% <br>Sharpe Ratio: -0.173",
          "<br>Symbol: XOM <br>Volatility: 0.182 <br>Returns: -3.269% <br>Sharpe Ratio: -0.179"
         ],
         "marker": {
          "color": {
           "bdata": "m3Vgl2dZ8j+hcqVal5LeP0yMebWzR+I/mXpLFPN+yD/EBNW0W6C7P8VN2VKInMk/evoi5dDTwT93Rq1jdsvwP3iDj0XKI9w/f59taG949T9LG8Yaan/Cvyntt5NwG+0/vjqfNiON8z+Strm5OYbZP7KNjUQ1fb4/8tji+X6g0z8mffrvmmnXP8DqmdTSxMY/RyD+pm/d0b96SsE0kGzjPyv8d77CI/c/IsLsoi+J+D8jBDhJHFPzP+kNc7oAW8e/bFCchey71D+OTfIiaHHtPyR0C78QpfE/vh+609mT1j9qjE0aeoXkP9K9VkL28eU/vB2gA8az7D+Bg9hLZwXjP6nF10J/CeA/MTx1DbForT+BWFaH4Z/jP5N+7hPetMI/3BtYi8qM1T9pMnVyElrbv76a6CICkMw/bWKHyZj66j+4XYBuL7bgP7vXFZ+e/fA/adPEbCQv0T/RG+vPV/a6P5/VUjgSUfY/7Y/X0msr0T8whrkR23bwP+mUP8N9CJi/4QCYS/Bqtj/keRhf8PvXP9807M9jEeo/DVXBNinX7j/pNO1wCsvjPz8FMkN8Tuw/RD6BIL923T9Fh6ju/yLpP9kEqqgeruQ/GNo6BVjq5j87Jaun8HrUP7mgE0TN3X8/llh8v70XyT+00Bn3+njdP3yoAMgQOOc/Xqnc/wnL5D9LMVJUckzFP2WhOp8O5OI/pKjPKitLwT8BVS9UPKnZPw233r0L7+c/HP14QVgW3T+v1TKWCeLpPwBhMYPLyuM/wpOsMUcC8j99UdijzCvtP1sZSvImyqc/ChmruM5T9j8OF8j3joP+P9kne3DmAeo/Cy3phrRB6j/TVkZYKl/JPwozLg0EvLG/BO7SvjXm3T8/kcTksE/bPwKQSPSkKOs/dDIYLOo21D+nP0W9tGjnP5jKsKw6Ne0/BN3bRAK1p7/SR7WVCUjrP8N8plbfIsa/NqbuQ4L2xr8=",
           "dtype": "f8"
          },
          "colorbar": {
           "title": {
            "text": "Sharpe<br>Ratio"
           }
          },
          "colorscale": [
           [
            0,
            "rgb(103,0,31)"
           ],
           [
            0.1,
            "rgb(178,24,43)"
           ],
           [
            0.2,
            "rgb(214,96,77)"
           ],
           [
            0.3,
            "rgb(244,165,130)"
           ],
           [
            0.4,
            "rgb(253,219,199)"
           ],
           [
            0.5,
            "rgb(247,247,247)"
           ],
           [
            0.6,
            "rgb(209,229,240)"
           ],
           [
            0.7,
            "rgb(146,197,222)"
           ],
           [
            0.8,
            "rgb(67,147,195)"
           ],
           [
            0.9,
            "rgb(33,102,172)"
           ],
           [
            1,
            "rgb(5,48,97)"
           ]
          ],
          "line": {
           "width": 1
          },
          "size": 6
         },
         "mode": "markers",
         "type": "scatter",
         "x": {
          "bdata": "8uXzLquJxj98uwrpDtHQPziKLHr7Eso/ZmAhqJ4/0T+ctU94b/HKP5oRI3riKtg/UgIwA4IGyT+4Otg/RLDOP6vX7sYni9M/WWVu4pdxzj+fH+A8t8TRP0JFKtlX+ss/DFU9NqHTzT9ldKVdsOPHP82f5mUQ48Y/XYsPVCHXxz8JdSXr2mTDP6h+hC8Qn9A/boF0RNl91D+cJuXybArFP8+rKn9unMk/wEU+u5UA0j9WQzYqf2zDPxLEgzZxkMw/UU2Veh6QxD/6b7lNYfnGP/D8qdDjkto/tmN7D95tzD/TwNdmd7nIP+XQXTYGIdM/d+oP4UhRzD/Li7VtagLSP7M3L8g+dMg/Rmtd53CrzD8rYiqFhynEP6ACeCGMnc4/sAcgx4Eu0T/OEsrI6H/JP9WsoPLasMU/mOqR2dR7xj+nI5TS02LAPyPkZUQI08U/q9019RT7yz+OA2ssBMPKP5gpBiReUcs/fzjLc1rcxT/10jitzdrLP4c6t9Jv5NU/5XBuW1PA2T8Hm76kD0/KP+6xuxAqyME/a+dS16Dbxz/hyx0sXEfLP3Xxz/SfHMU/lZWcZhBeyj90vMm7ltzDP+o5fZUbSMk/t79txfbu5D91+QAVUN7IP8JEcq2QKNY/w5NaPHNFzD/SgF335UzPP6Nmh7nNkc8/ichcu05Gxz9yuIM0zWPGP/hOGHxoAck/rLz7i2m/wT+LYRkFuAnNP2d6qEddSc0/6ROJ2WVtzj9jPitxPMLAP8XIt68qysU/96N08VrHyj+y+w0JsRjFP25jJnSSWso/hJ1QtsJvxD+IQWxJU2PZPzNwJmELOtQ/4jkwFBGxyD9K2CL7/6/NPzwji3fbYMg//jCalU7IxD8VOU9CyiDJP3DiAQS+IsU/QQzo8yOryz8bpnLohQLNPzKioDlbNMg/mIIXWyZr0D+P+h0klMvMPwmOSRCPwNI/f3DKduBSxz8=",
          "dtype": "f8"
         },
         "y": {
          "bdata": "2ayASNDYyT+ImKJYBxHAP/14egE0yr0/n5W4CUloqj8APLNxukKXP7BZU/S4V7M/bQ/rsDbimz8oTHTaQRvQP59deYqeL8E/OOKJox9t1D9I9OhnzYqkvxDVR0Tdcsk/ZkbtCDU50j/ShupTFg6zPycssXBszpU/j3+XE5w+rT/9Okpc/GCsP0AwLMwtp6c//8KvIFDhtr91RAxjJYu5P7x8EGEOhdI/8tL4Mzub2z9G+IwsvHXHPzEBkMcM2aS/l8Prdqqlqj/prZ2RayPFP9XLPKs4Tt0/YJff4+IOtD84OuifF7a/Pzx5/f+fPMo/VB7BrjVmyT+BCHZo82jFP1hyW6zCgrg/McfzICpZij+ZoGrTybq4P8ikHX+p5aE/dXmxxToktz9GOkfbssu1vyetR+BcXKM/kkx2ua/0wj8xmoiPaB2xPx4AEJT5LMc/aLQ/hTcNrj+75EEEeIyWPxN86TwmDdM/Yq3On3N1pz8R/9C7uKnMP9hx5gMjcYC/zw5BwkcKoj8GYEEA9bezP4Eze/WX+Lw/UEW9JFH+xj8UVHpRdN/AP+FxW7fTrMI/VLyyNRdHuD9ICp/5HTS/P/rcRYyhVsA/PzejUS373T8AAC1I+dSvP7wxN3LiEGY/NCRXlTsrpj8xxwNBBtS8P3zHlJMb6MY/JPHa/Dw/vj+2Y7tg982dP3m/mHYAhr0/NBlkRcEukz9GQnTWKUm3P1x+LbuB58U/TSBDbmOouz9nSSYRQBy7P9jAPDNA9Lo/YVPIYhYkzj/H0oWHQDvDP5utEBOVl4M/sU+Lh7eEzD9eECEffjXoP8EOlbdccNA/F6Yx15BCxD+JAwrFyYmnP71sDG5hBYu/HngX1Alrsz9w9EKDPnK1PxtETbQo8ME/OMSzvnF6sT+OxQxMvDjFPwaB1cS1F8Y/fxHmmMVTiL/sQsOrl4zIP5jTv6ej8am/srtvYaa8oL8=",
          "dtype": "f8"
         }
        }
       ],
       "layout": {
        "font": {
         "family": "Cambria",
         "size": 18
        },
        "height": 1080,
        "template": {
         "data": {
          "bar": [
           {
            "error_x": {
             "color": "#2a3f5f"
            },
            "error_y": {
             "color": "#2a3f5f"
            },
            "marker": {
             "line": {
              "color": "#E5ECF6",
              "width": 0.5
             },
             "pattern": {
              "fillmode": "overlay",
              "size": 10,
              "solidity": 0.2
             }
            },
            "type": "bar"
           }
          ],
          "barpolar": [
           {
            "marker": {
             "line": {
              "color": "#E5ECF6",
              "width": 0.5
             },
             "pattern": {
              "fillmode": "overlay",
              "size": 10,
              "solidity": 0.2
             }
            },
            "type": "barpolar"
           }
          ],
          "carpet": [
           {
            "aaxis": {
             "endlinecolor": "#2a3f5f",
             "gridcolor": "white",
             "linecolor": "white",
             "minorgridcolor": "white",
             "startlinecolor": "#2a3f5f"
            },
            "baxis": {
             "endlinecolor": "#2a3f5f",
             "gridcolor": "white",
             "linecolor": "white",
             "minorgridcolor": "white",
             "startlinecolor": "#2a3f5f"
            },
            "type": "carpet"
           }
          ],
          "choropleth": [
           {
            "colorbar": {
             "outlinewidth": 0,
             "ticks": ""
            },
            "type": "choropleth"
           }
          ],
          "contour": [
           {
            "colorbar": {
             "outlinewidth": 0,
             "ticks": ""
            },
            "colorscale": [
             [
              0,
              "#0d0887"
             ],
             [
              0.1111111111111111,
              "#46039f"
             ],
             [
              0.2222222222222222,
              "#7201a8"
             ],
             [
              0.3333333333333333,
              "#9c179e"
             ],
             [
              0.4444444444444444,
              "#bd3786"
             ],
             [
              0.5555555555555556,
              "#d8576b"
             ],
             [
              0.6666666666666666,
              "#ed7953"
             ],
             [
              0.7777777777777778,
              "#fb9f3a"
             ],
             [
              0.8888888888888888,
              "#fdca26"
             ],
             [
              1,
              "#f0f921"
             ]
            ],
            "type": "contour"
           }
          ],
          "contourcarpet": [
           {
            "colorbar": {
             "outlinewidth": 0,
             "ticks": ""
            },
            "type": "contourcarpet"
           }
          ],
          "heatmap": [
           {
            "colorbar": {
             "outlinewidth": 0,
             "ticks": ""
            },
            "colorscale": [
             [
              0,
              "#0d0887"
             ],
             [
              0.1111111111111111,
              "#46039f"
             ],
             [
              0.2222222222222222,
              "#7201a8"
             ],
             [
              0.3333333333333333,
              "#9c179e"
             ],
             [
              0.4444444444444444,
              "#bd3786"
             ],
             [
              0.5555555555555556,
              "#d8576b"
             ],
             [
              0.6666666666666666,
              "#ed7953"
             ],
             [
              0.7777777777777778,
              "#fb9f3a"
             ],
             [
              0.8888888888888888,
              "#fdca26"
             ],
             [
              1,
              "#f0f921"
             ]
            ],
            "type": "heatmap"
           }
          ],
          "histogram": [
           {
            "marker": {
             "pattern": {
              "fillmode": "overlay",
              "size": 10,
              "solidity": 0.2
             }
            },
            "type": "histogram"
           }
          ],
          "histogram2d": [
           {
            "colorbar": {
             "outlinewidth": 0,
             "ticks": ""
            },
            "colorscale": [
             [
              0,
              "#0d0887"
             ],
             [
              0.1111111111111111,
              "#46039f"
             ],
             [
              0.2222222222222222,
              "#7201a8"
             ],
             [
              0.3333333333333333,
              "#9c179e"
             ],
             [
              0.4444444444444444,
              "#bd3786"
             ],
             [
              0.5555555555555556,
              "#d8576b"
             ],
             [
              0.6666666666666666,
              "#ed7953"
             ],
             [
              0.7777777777777778,
              "#fb9f3a"
             ],
             [
              0.8888888888888888,
              "#fdca26"
             ],
             [
              1,
              "#f0f921"
             ]
            ],
            "type": "histogram2d"
           }
          ],
          "histogram2dcontour": [
           {
            "colorbar": {
             "outlinewidth": 0,
             "ticks": ""
            },
            "colorscale": [
             [
              0,
              "#0d0887"
             ],
             [
              0.1111111111111111,
              "#46039f"
             ],
             [
              0.2222222222222222,
              "#7201a8"
             ],
             [
              0.3333333333333333,
              "#9c179e"
             ],
             [
              0.4444444444444444,
              "#bd3786"
             ],
             [
              0.5555555555555556,
              "#d8576b"
             ],
             [
              0.6666666666666666,
              "#ed7953"
             ],
             [
              0.7777777777777778,
              "#fb9f3a"
             ],
             [
              0.8888888888888888,
              "#fdca26"
             ],
             [
              1,
              "#f0f921"
             ]
            ],
            "type": "histogram2dcontour"
           }
          ],
          "mesh3d": [
           {
            "colorbar": {
             "outlinewidth": 0,
             "ticks": ""
            },
            "type": "mesh3d"
           }
          ],
          "parcoords": [
           {
            "line": {
             "colorbar": {
              "outlinewidth": 0,
              "ticks": ""
             }
            },
            "type": "parcoords"
           }
          ],
          "pie": [
           {
            "automargin": true,
            "type": "pie"
           }
          ],
          "scatter": [
           {
            "fillpattern": {
             "fillmode": "overlay",
             "size": 10,
             "solidity": 0.2
            },
            "type": "scatter"
           }
          ],
          "scatter3d": [
           {
            "line": {
             "colorbar": {
              "outlinewidth": 0,
              "ticks": ""
             }
            },
            "marker": {
             "colorbar": {
              "outlinewidth": 0,
              "ticks": ""
             }
            },
            "type": "scatter3d"
           }
          ],
          "scattercarpet": [
           {
            "marker": {
             "colorbar": {
              "outlinewidth": 0,
              "ticks": ""
             }
            },
            "type": "scattercarpet"
           }
          ],
          "scattergeo": [
           {
            "marker": {
             "colorbar": {
              "outlinewidth": 0,
              "ticks": ""
             }
            },
            "type": "scattergeo"
           }
          ],
          "scattergl": [
           {
            "marker": {
             "colorbar": {
              "outlinewidth": 0,
              "ticks": ""
             }
            },
            "type": "scattergl"
           }
          ],
          "scattermap": [
           {
            "marker": {
             "colorbar": {
              "outlinewidth": 0,
              "ticks": ""
             }
            },
            "type": "scattermap"
           }
          ],
          "scattermapbox": [
           {
            "marker": {
             "colorbar": {
              "outlinewidth": 0,
              "ticks": ""
             }
            },
            "type": "scattermapbox"
           }
          ],
          "scatterpolar": [
           {
            "marker": {
             "colorbar": {
              "outlinewidth": 0,
              "ticks": ""
             }
            },
            "type": "scatterpolar"
           }
          ],
          "scatterpolargl": [
           {
            "marker": {
             "colorbar": {
              "outlinewidth": 0,
              "ticks": ""
             }
            },
            "type": "scatterpolargl"
           }
          ],
          "scatterternary": [
           {
            "marker": {
             "colorbar": {
              "outlinewidth": 0,
              "ticks": ""
             }
            },
            "type": "scatterternary"
           }
          ],
          "surface": [
           {
            "colorbar": {
             "outlinewidth": 0,
             "ticks": ""
            },
            "colorscale": [
             [
              0,
              "#0d0887"
             ],
             [
              0.1111111111111111,
              "#46039f"
             ],
             [
              0.2222222222222222,
              "#7201a8"
             ],
             [
              0.3333333333333333,
              "#9c179e"
             ],
             [
              0.4444444444444444,
              "#bd3786"
             ],
             [
              0.5555555555555556,
              "#d8576b"
             ],
             [
              0.6666666666666666,
              "#ed7953"
             ],
             [
              0.7777777777777778,
              "#fb9f3a"
             ],
             [
              0.8888888888888888,
              "#fdca26"
             ],
             [
              1,
              "#f0f921"
             ]
            ],
            "type": "surface"
           }
          ],
          "table": [
           {
            "cells": {
             "fill": {
              "color": "#EBF0F8"
             },
             "line": {
              "color": "white"
             }
            },
            "header": {
             "fill": {
              "color": "#C8D4E3"
             },
             "line": {
              "color": "white"
             }
            },
            "type": "table"
           }
          ]
         },
         "layout": {
          "annotationdefaults": {
           "arrowcolor": "#2a3f5f",
           "arrowhead": 0,
           "arrowwidth": 1
          },
          "autotypenumbers": "strict",
          "coloraxis": {
           "colorbar": {
            "outlinewidth": 0,
            "ticks": ""
           }
          },
          "colorscale": {
           "diverging": [
            [
             0,
             "#8e0152"
            ],
            [
             0.1,
             "#c51b7d"
            ],
            [
             0.2,
             "#de77ae"
            ],
            [
             0.3,
             "#f1b6da"
            ],
            [
             0.4,
             "#fde0ef"
            ],
            [
             0.5,
             "#f7f7f7"
            ],
            [
             0.6,
             "#e6f5d0"
            ],
            [
             0.7,
             "#b8e186"
            ],
            [
             0.8,
             "#7fbc41"
            ],
            [
             0.9,
             "#4d9221"
            ],
            [
             1,
             "#276419"
            ]
           ],
           "sequential": [
            [
             0,
             "#0d0887"
            ],
            [
             0.1111111111111111,
             "#46039f"
            ],
            [
             0.2222222222222222,
             "#7201a8"
            ],
            [
             0.3333333333333333,
             "#9c179e"
            ],
            [
             0.4444444444444444,
             "#bd3786"
            ],
            [
             0.5555555555555556,
             "#d8576b"
            ],
            [
             0.6666666666666666,
             "#ed7953"
            ],
            [
             0.7777777777777778,
             "#fb9f3a"
            ],
            [
             0.8888888888888888,
             "#fdca26"
            ],
            [
             1,
             "#f0f921"
            ]
           ],
           "sequentialminus": [
            [
             0,
             "#0d0887"
            ],
            [
             0.1111111111111111,
             "#46039f"
            ],
            [
             0.2222222222222222,
             "#7201a8"
            ],
            [
             0.3333333333333333,
             "#9c179e"
            ],
            [
             0.4444444444444444,
             "#bd3786"
            ],
            [
             0.5555555555555556,
             "#d8576b"
            ],
            [
             0.6666666666666666,
             "#ed7953"
            ],
            [
             0.7777777777777778,
             "#fb9f3a"
            ],
            [
             0.8888888888888888,
             "#fdca26"
            ],
            [
             1,
             "#f0f921"
            ]
           ]
          },
          "colorway": [
           "#636efa",
           "#EF553B",
           "#00cc96",
           "#ab63fa",
           "#FFA15A",
           "#19d3f3",
           "#FF6692",
           "#B6E880",
           "#FF97FF",
           "#FECB52"
          ],
          "font": {
           "color": "#2a3f5f"
          },
          "geo": {
           "bgcolor": "white",
           "lakecolor": "white",
           "landcolor": "#E5ECF6",
           "showlakes": true,
           "showland": true,
           "subunitcolor": "white"
          },
          "hoverlabel": {
           "align": "left"
          },
          "hovermode": "closest",
          "mapbox": {
           "style": "light"
          },
          "paper_bgcolor": "white",
          "plot_bgcolor": "#E5ECF6",
          "polar": {
           "angularaxis": {
            "gridcolor": "white",
            "linecolor": "white",
            "ticks": ""
           },
           "bgcolor": "#E5ECF6",
           "radialaxis": {
            "gridcolor": "white",
            "linecolor": "white",
            "ticks": ""
           }
          },
          "scene": {
           "xaxis": {
            "backgroundcolor": "#E5ECF6",
            "gridcolor": "white",
            "gridwidth": 2,
            "linecolor": "white",
            "showbackground": true,
            "ticks": "",
            "zerolinecolor": "white"
           },
           "yaxis": {
            "backgroundcolor": "#E5ECF6",
            "gridcolor": "white",
            "gridwidth": 2,
            "linecolor": "white",
            "showbackground": true,
            "ticks": "",
            "zerolinecolor": "white"
           },
           "zaxis": {
            "backgroundcolor": "#E5ECF6",
            "gridcolor": "white",
            "gridwidth": 2,
            "linecolor": "white",
            "showbackground": true,
            "ticks": "",
            "zerolinecolor": "white"
           }
          },
          "shapedefaults": {
           "line": {
            "color": "#2a3f5f"
           }
          },
          "ternary": {
           "aaxis": {
            "gridcolor": "white",
            "linecolor": "white",
            "ticks": ""
           },
           "baxis": {
            "gridcolor": "white",
            "linecolor": "white",
            "ticks": ""
           },
           "bgcolor": "#E5ECF6",
           "caxis": {
            "gridcolor": "white",
            "linecolor": "white",
            "ticks": ""
           }
          },
          "title": {
           "x": 0.05
          },
          "xaxis": {
           "automargin": true,
           "gridcolor": "white",
           "linecolor": "white",
           "ticks": "",
           "title": {
            "standoff": 15
           },
           "zerolinecolor": "white",
           "zerolinewidth": 2
          },
          "yaxis": {
           "automargin": true,
           "gridcolor": "white",
           "linecolor": "white",
           "ticks": "",
           "title": {
            "standoff": 15
           },
           "zerolinecolor": "white",
           "zerolinewidth": 2
          }
         }
        },
        "title": {
         "text": "Annual Performance of Individual Assets"
        },
        "width": 1920,
        "xaxis": {
         "title": {
          "text": "Volatility (Standard Deviation)"
         }
        },
        "yaxis": {
         "title": {
          "text": "Annualized Returns"
         }
        }
       }
      }
     },
     "metadata": {},
     "output_type": "display_data"
    }
   ],
   "source": [
    "hover_texts = [\n",
    "    f\"<br>Symbol: {ticker} <br>Volatility: {vol:.3f} <br>Returns: {ret:.3%} <br>Sharpe Ratio: {sr:.3f}\"\n",
    "    for ticker, vol, ret, sr in zip(names, volatility, annualized_returns, sharpe_ratios)\n",
    "]\n",
    "\n",
    "fig = go.Figure(data=go.Scatter(\n",
    "    x=volatility,\n",
    "    y=annualized_returns,\n",
    "    mode='markers',\n",
    "    hoverinfo='text',\n",
    "    hovertext=hover_texts,\n",
    "    marker=dict(color=sharpe_ratios, colorscale = 'RdBu', size=6, line=dict(width=1), colorbar=dict(title=\"Sharpe<br>Ratio\")\n",
    "    )\n",
    "))\n",
    "\n",
    "fig.update_layout(\n",
    "    title='Annual Performance of Individual Assets',\n",
    "    xaxis_title='Volatility (Standard Deviation)',\n",
    "    yaxis_title='Annualized Returns',\n",
    "    width = 1920,\n",
    "    height = 1080,\n",
    "    font=dict(\n",
    "        family=\"Cambria\",\n",
    "        size=18,\n",
    "    )\n",
    ")\n",
    "\n",
    "fig.show()\n",
    "#fig.write_html(\"PerformanceofIndividualAssets.html\")\n",
    "#fig.write_image(\"PerformanceofIndividualAssets.png\", format='png', width=1920, height=1080)"
   ]
  },
  {
   "cell_type": "markdown",
   "metadata": {},
   "source": [
    "### Demonstrating SLSQP"
   ]
  },
  {
   "cell_type": "code",
   "execution_count": 7,
   "metadata": {
    "execution": {
     "iopub.execute_input": "2025-03-28T01:48:07.662079Z",
     "iopub.status.busy": "2025-03-28T01:48:07.661649Z",
     "iopub.status.idle": "2025-03-28T01:48:07.680432Z",
     "shell.execute_reply": "2025-03-28T01:48:07.678989Z",
     "shell.execute_reply.started": "2025-03-28T01:48:07.662046Z"
    },
    "trusted": true
   },
   "outputs": [],
   "source": [
    "rand_assets = np.random.choice(list(names), 5, replace=False)\n",
    "\n",
    "selected_returns = annualized_returns.loc[rand_assets].values\n",
    "selected_covariances = cov.loc[rand_assets, rand_assets].values\n",
    "\n",
    "optimized_weights, weights_history, sharpe_history = maximize_sharpe_SLSQP(selected_returns, selected_covariances)"
   ]
  },
  {
   "cell_type": "code",
   "execution_count": 8,
   "metadata": {
    "execution": {
     "iopub.execute_input": "2025-03-28T01:48:07.681837Z",
     "iopub.status.busy": "2025-03-28T01:48:07.681522Z",
     "iopub.status.idle": "2025-03-28T01:48:08.021178Z",
     "shell.execute_reply": "2025-03-28T01:48:08.020008Z",
     "shell.execute_reply.started": "2025-03-28T01:48:07.681789Z"
    },
    "trusted": true
   },
   "outputs": [
    {
     "data": {
      "application/vnd.plotly.v1+json": {
       "config": {
        "plotlyServerURL": "https://plotly.com"
       },
       "data": [
        {
         "mode": "lines+markers",
         "name": "Asset 1 Weight",
         "type": "scatter",
         "x": [
          0,
          1,
          2,
          3,
          4,
          5,
          6
         ],
         "xaxis": "x",
         "y": [
          0,
          0,
          0,
          0,
          1.3731517035148978e-16,
          0,
          0
         ],
         "yaxis": "y"
        },
        {
         "mode": "lines+markers",
         "name": "Asset 2 Weight",
         "type": "scatter",
         "x": [
          0,
          1,
          2,
          3,
          4,
          5,
          6
         ],
         "xaxis": "x",
         "y": [
          1.942890293094024e-16,
          1.4615933838035113e-16,
          1.0204848693834756e-16,
          2.709875418298475e-17,
          6.065558585406962e-19,
          1.1209582080229072e-16,
          1.1209582080229072e-16
         ],
         "yaxis": "y"
        },
        {
         "mode": "lines+markers",
         "name": "Asset 3 Weight",
         "type": "scatter",
         "x": [
          0,
          1,
          2,
          3,
          4,
          5,
          6
         ],
         "xaxis": "x",
         "y": [
          0.005690144995848523,
          0.11561233599316319,
          0.4615573297904402,
          0.26892636105421425,
          0.2456288085993497,
          0.24897602478147654,
          0.24897602478147654
         ],
         "yaxis": "y"
        },
        {
         "mode": "lines+markers",
         "name": "Asset 4 Weight",
         "type": "scatter",
         "x": [
          0,
          1,
          2,
          3,
          4,
          5,
          6
         ],
         "xaxis": "x",
         "y": [
          0.8652252803246181,
          0.7378904662726523,
          0.33319458098089655,
          0.5691329245558672,
          0.5999383477178508,
          0.5970933813662829,
          0.5970933813662829
         ],
         "yaxis": "y"
        },
        {
         "mode": "lines+markers",
         "name": "Asset 5 Weight",
         "type": "scatter",
         "x": [
          0,
          1,
          2,
          3,
          4,
          5,
          6
         ],
         "xaxis": "x",
         "y": [
          0.12908457467953377,
          0.14649719773418435,
          0.20524808922866328,
          0.16194071438991864,
          0.15443284368279947,
          0.15393059385224045,
          0.15393059385224045
         ],
         "yaxis": "y"
        },
        {
         "mode": "lines+markers",
         "name": "Sharpe Ratio",
         "type": "scatter",
         "x": [
          0,
          1,
          2,
          3,
          4,
          5,
          6
         ],
         "xaxis": "x2",
         "y": [
          1.2470985495996982,
          1.275263969150791,
          1.1931724479713752,
          1.2901578111710748,
          1.290858515712355,
          1.290870042767293,
          1.290870042767293
         ],
         "yaxis": "y2"
        }
       ],
       "layout": {
        "annotations": [
         {
          "font": {
           "size": 16
          },
          "showarrow": false,
          "text": "Portfolio Weights Over Iterations",
          "x": 0.225,
          "xanchor": "center",
          "xref": "paper",
          "y": 1,
          "yanchor": "bottom",
          "yref": "paper"
         },
         {
          "font": {
           "size": 16
          },
          "showarrow": false,
          "text": "Sharpe Ratio Over Iterations",
          "x": 0.775,
          "xanchor": "center",
          "xref": "paper",
          "y": 1,
          "yanchor": "bottom",
          "yref": "paper"
         }
        ],
        "font": {
         "family": "Cambria",
         "size": 18
        },
        "legend": {
         "title": {
          "text": "Assets"
         }
        },
        "template": {
         "data": {
          "bar": [
           {
            "error_x": {
             "color": "#2a3f5f"
            },
            "error_y": {
             "color": "#2a3f5f"
            },
            "marker": {
             "line": {
              "color": "#E5ECF6",
              "width": 0.5
             },
             "pattern": {
              "fillmode": "overlay",
              "size": 10,
              "solidity": 0.2
             }
            },
            "type": "bar"
           }
          ],
          "barpolar": [
           {
            "marker": {
             "line": {
              "color": "#E5ECF6",
              "width": 0.5
             },
             "pattern": {
              "fillmode": "overlay",
              "size": 10,
              "solidity": 0.2
             }
            },
            "type": "barpolar"
           }
          ],
          "carpet": [
           {
            "aaxis": {
             "endlinecolor": "#2a3f5f",
             "gridcolor": "white",
             "linecolor": "white",
             "minorgridcolor": "white",
             "startlinecolor": "#2a3f5f"
            },
            "baxis": {
             "endlinecolor": "#2a3f5f",
             "gridcolor": "white",
             "linecolor": "white",
             "minorgridcolor": "white",
             "startlinecolor": "#2a3f5f"
            },
            "type": "carpet"
           }
          ],
          "choropleth": [
           {
            "colorbar": {
             "outlinewidth": 0,
             "ticks": ""
            },
            "type": "choropleth"
           }
          ],
          "contour": [
           {
            "colorbar": {
             "outlinewidth": 0,
             "ticks": ""
            },
            "colorscale": [
             [
              0,
              "#0d0887"
             ],
             [
              0.1111111111111111,
              "#46039f"
             ],
             [
              0.2222222222222222,
              "#7201a8"
             ],
             [
              0.3333333333333333,
              "#9c179e"
             ],
             [
              0.4444444444444444,
              "#bd3786"
             ],
             [
              0.5555555555555556,
              "#d8576b"
             ],
             [
              0.6666666666666666,
              "#ed7953"
             ],
             [
              0.7777777777777778,
              "#fb9f3a"
             ],
             [
              0.8888888888888888,
              "#fdca26"
             ],
             [
              1,
              "#f0f921"
             ]
            ],
            "type": "contour"
           }
          ],
          "contourcarpet": [
           {
            "colorbar": {
             "outlinewidth": 0,
             "ticks": ""
            },
            "type": "contourcarpet"
           }
          ],
          "heatmap": [
           {
            "colorbar": {
             "outlinewidth": 0,
             "ticks": ""
            },
            "colorscale": [
             [
              0,
              "#0d0887"
             ],
             [
              0.1111111111111111,
              "#46039f"
             ],
             [
              0.2222222222222222,
              "#7201a8"
             ],
             [
              0.3333333333333333,
              "#9c179e"
             ],
             [
              0.4444444444444444,
              "#bd3786"
             ],
             [
              0.5555555555555556,
              "#d8576b"
             ],
             [
              0.6666666666666666,
              "#ed7953"
             ],
             [
              0.7777777777777778,
              "#fb9f3a"
             ],
             [
              0.8888888888888888,
              "#fdca26"
             ],
             [
              1,
              "#f0f921"
             ]
            ],
            "type": "heatmap"
           }
          ],
          "histogram": [
           {
            "marker": {
             "pattern": {
              "fillmode": "overlay",
              "size": 10,
              "solidity": 0.2
             }
            },
            "type": "histogram"
           }
          ],
          "histogram2d": [
           {
            "colorbar": {
             "outlinewidth": 0,
             "ticks": ""
            },
            "colorscale": [
             [
              0,
              "#0d0887"
             ],
             [
              0.1111111111111111,
              "#46039f"
             ],
             [
              0.2222222222222222,
              "#7201a8"
             ],
             [
              0.3333333333333333,
              "#9c179e"
             ],
             [
              0.4444444444444444,
              "#bd3786"
             ],
             [
              0.5555555555555556,
              "#d8576b"
             ],
             [
              0.6666666666666666,
              "#ed7953"
             ],
             [
              0.7777777777777778,
              "#fb9f3a"
             ],
             [
              0.8888888888888888,
              "#fdca26"
             ],
             [
              1,
              "#f0f921"
             ]
            ],
            "type": "histogram2d"
           }
          ],
          "histogram2dcontour": [
           {
            "colorbar": {
             "outlinewidth": 0,
             "ticks": ""
            },
            "colorscale": [
             [
              0,
              "#0d0887"
             ],
             [
              0.1111111111111111,
              "#46039f"
             ],
             [
              0.2222222222222222,
              "#7201a8"
             ],
             [
              0.3333333333333333,
              "#9c179e"
             ],
             [
              0.4444444444444444,
              "#bd3786"
             ],
             [
              0.5555555555555556,
              "#d8576b"
             ],
             [
              0.6666666666666666,
              "#ed7953"
             ],
             [
              0.7777777777777778,
              "#fb9f3a"
             ],
             [
              0.8888888888888888,
              "#fdca26"
             ],
             [
              1,
              "#f0f921"
             ]
            ],
            "type": "histogram2dcontour"
           }
          ],
          "mesh3d": [
           {
            "colorbar": {
             "outlinewidth": 0,
             "ticks": ""
            },
            "type": "mesh3d"
           }
          ],
          "parcoords": [
           {
            "line": {
             "colorbar": {
              "outlinewidth": 0,
              "ticks": ""
             }
            },
            "type": "parcoords"
           }
          ],
          "pie": [
           {
            "automargin": true,
            "type": "pie"
           }
          ],
          "scatter": [
           {
            "fillpattern": {
             "fillmode": "overlay",
             "size": 10,
             "solidity": 0.2
            },
            "type": "scatter"
           }
          ],
          "scatter3d": [
           {
            "line": {
             "colorbar": {
              "outlinewidth": 0,
              "ticks": ""
             }
            },
            "marker": {
             "colorbar": {
              "outlinewidth": 0,
              "ticks": ""
             }
            },
            "type": "scatter3d"
           }
          ],
          "scattercarpet": [
           {
            "marker": {
             "colorbar": {
              "outlinewidth": 0,
              "ticks": ""
             }
            },
            "type": "scattercarpet"
           }
          ],
          "scattergeo": [
           {
            "marker": {
             "colorbar": {
              "outlinewidth": 0,
              "ticks": ""
             }
            },
            "type": "scattergeo"
           }
          ],
          "scattergl": [
           {
            "marker": {
             "colorbar": {
              "outlinewidth": 0,
              "ticks": ""
             }
            },
            "type": "scattergl"
           }
          ],
          "scattermap": [
           {
            "marker": {
             "colorbar": {
              "outlinewidth": 0,
              "ticks": ""
             }
            },
            "type": "scattermap"
           }
          ],
          "scattermapbox": [
           {
            "marker": {
             "colorbar": {
              "outlinewidth": 0,
              "ticks": ""
             }
            },
            "type": "scattermapbox"
           }
          ],
          "scatterpolar": [
           {
            "marker": {
             "colorbar": {
              "outlinewidth": 0,
              "ticks": ""
             }
            },
            "type": "scatterpolar"
           }
          ],
          "scatterpolargl": [
           {
            "marker": {
             "colorbar": {
              "outlinewidth": 0,
              "ticks": ""
             }
            },
            "type": "scatterpolargl"
           }
          ],
          "scatterternary": [
           {
            "marker": {
             "colorbar": {
              "outlinewidth": 0,
              "ticks": ""
             }
            },
            "type": "scatterternary"
           }
          ],
          "surface": [
           {
            "colorbar": {
             "outlinewidth": 0,
             "ticks": ""
            },
            "colorscale": [
             [
              0,
              "#0d0887"
             ],
             [
              0.1111111111111111,
              "#46039f"
             ],
             [
              0.2222222222222222,
              "#7201a8"
             ],
             [
              0.3333333333333333,
              "#9c179e"
             ],
             [
              0.4444444444444444,
              "#bd3786"
             ],
             [
              0.5555555555555556,
              "#d8576b"
             ],
             [
              0.6666666666666666,
              "#ed7953"
             ],
             [
              0.7777777777777778,
              "#fb9f3a"
             ],
             [
              0.8888888888888888,
              "#fdca26"
             ],
             [
              1,
              "#f0f921"
             ]
            ],
            "type": "surface"
           }
          ],
          "table": [
           {
            "cells": {
             "fill": {
              "color": "#EBF0F8"
             },
             "line": {
              "color": "white"
             }
            },
            "header": {
             "fill": {
              "color": "#C8D4E3"
             },
             "line": {
              "color": "white"
             }
            },
            "type": "table"
           }
          ]
         },
         "layout": {
          "annotationdefaults": {
           "arrowcolor": "#2a3f5f",
           "arrowhead": 0,
           "arrowwidth": 1
          },
          "autotypenumbers": "strict",
          "coloraxis": {
           "colorbar": {
            "outlinewidth": 0,
            "ticks": ""
           }
          },
          "colorscale": {
           "diverging": [
            [
             0,
             "#8e0152"
            ],
            [
             0.1,
             "#c51b7d"
            ],
            [
             0.2,
             "#de77ae"
            ],
            [
             0.3,
             "#f1b6da"
            ],
            [
             0.4,
             "#fde0ef"
            ],
            [
             0.5,
             "#f7f7f7"
            ],
            [
             0.6,
             "#e6f5d0"
            ],
            [
             0.7,
             "#b8e186"
            ],
            [
             0.8,
             "#7fbc41"
            ],
            [
             0.9,
             "#4d9221"
            ],
            [
             1,
             "#276419"
            ]
           ],
           "sequential": [
            [
             0,
             "#0d0887"
            ],
            [
             0.1111111111111111,
             "#46039f"
            ],
            [
             0.2222222222222222,
             "#7201a8"
            ],
            [
             0.3333333333333333,
             "#9c179e"
            ],
            [
             0.4444444444444444,
             "#bd3786"
            ],
            [
             0.5555555555555556,
             "#d8576b"
            ],
            [
             0.6666666666666666,
             "#ed7953"
            ],
            [
             0.7777777777777778,
             "#fb9f3a"
            ],
            [
             0.8888888888888888,
             "#fdca26"
            ],
            [
             1,
             "#f0f921"
            ]
           ],
           "sequentialminus": [
            [
             0,
             "#0d0887"
            ],
            [
             0.1111111111111111,
             "#46039f"
            ],
            [
             0.2222222222222222,
             "#7201a8"
            ],
            [
             0.3333333333333333,
             "#9c179e"
            ],
            [
             0.4444444444444444,
             "#bd3786"
            ],
            [
             0.5555555555555556,
             "#d8576b"
            ],
            [
             0.6666666666666666,
             "#ed7953"
            ],
            [
             0.7777777777777778,
             "#fb9f3a"
            ],
            [
             0.8888888888888888,
             "#fdca26"
            ],
            [
             1,
             "#f0f921"
            ]
           ]
          },
          "colorway": [
           "#636efa",
           "#EF553B",
           "#00cc96",
           "#ab63fa",
           "#FFA15A",
           "#19d3f3",
           "#FF6692",
           "#B6E880",
           "#FF97FF",
           "#FECB52"
          ],
          "font": {
           "color": "#2a3f5f"
          },
          "geo": {
           "bgcolor": "white",
           "lakecolor": "white",
           "landcolor": "#E5ECF6",
           "showlakes": true,
           "showland": true,
           "subunitcolor": "white"
          },
          "hoverlabel": {
           "align": "left"
          },
          "hovermode": "closest",
          "mapbox": {
           "style": "light"
          },
          "paper_bgcolor": "white",
          "plot_bgcolor": "#E5ECF6",
          "polar": {
           "angularaxis": {
            "gridcolor": "white",
            "linecolor": "white",
            "ticks": ""
           },
           "bgcolor": "#E5ECF6",
           "radialaxis": {
            "gridcolor": "white",
            "linecolor": "white",
            "ticks": ""
           }
          },
          "scene": {
           "xaxis": {
            "backgroundcolor": "#E5ECF6",
            "gridcolor": "white",
            "gridwidth": 2,
            "linecolor": "white",
            "showbackground": true,
            "ticks": "",
            "zerolinecolor": "white"
           },
           "yaxis": {
            "backgroundcolor": "#E5ECF6",
            "gridcolor": "white",
            "gridwidth": 2,
            "linecolor": "white",
            "showbackground": true,
            "ticks": "",
            "zerolinecolor": "white"
           },
           "zaxis": {
            "backgroundcolor": "#E5ECF6",
            "gridcolor": "white",
            "gridwidth": 2,
            "linecolor": "white",
            "showbackground": true,
            "ticks": "",
            "zerolinecolor": "white"
           }
          },
          "shapedefaults": {
           "line": {
            "color": "#2a3f5f"
           }
          },
          "ternary": {
           "aaxis": {
            "gridcolor": "white",
            "linecolor": "white",
            "ticks": ""
           },
           "baxis": {
            "gridcolor": "white",
            "linecolor": "white",
            "ticks": ""
           },
           "bgcolor": "#E5ECF6",
           "caxis": {
            "gridcolor": "white",
            "linecolor": "white",
            "ticks": ""
           }
          },
          "title": {
           "x": 0.05
          },
          "xaxis": {
           "automargin": true,
           "gridcolor": "white",
           "linecolor": "white",
           "ticks": "",
           "title": {
            "standoff": 15
           },
           "zerolinecolor": "white",
           "zerolinewidth": 2
          },
          "yaxis": {
           "automargin": true,
           "gridcolor": "white",
           "linecolor": "white",
           "ticks": "",
           "title": {
            "standoff": 15
           },
           "zerolinecolor": "white",
           "zerolinewidth": 2
          }
         }
        },
        "title": {
         "text": "Portfolio Optimization Analysis"
        },
        "xaxis": {
         "anchor": "y",
         "domain": [
          0,
          0.45
         ],
         "title": {
          "text": "Iteration"
         }
        },
        "xaxis2": {
         "anchor": "y2",
         "domain": [
          0.55,
          1
         ],
         "title": {
          "text": "Iteration"
         }
        },
        "yaxis": {
         "anchor": "x",
         "domain": [
          0,
          1
         ],
         "title": {
          "text": "Weight"
         }
        },
        "yaxis2": {
         "anchor": "x2",
         "domain": [
          0,
          1
         ],
         "title": {
          "text": "Sharpe Ratio"
         }
        }
       }
      }
     },
     "metadata": {},
     "output_type": "display_data"
    }
   ],
   "source": [
    "fig = make_subplots(rows=1, cols=2, subplot_titles=(\"Portfolio Weights Over Iterations\", \"Sharpe Ratio Over Iterations\"))\n",
    "\n",
    "for i in range(len(selected_returns)):\n",
    "    fig.add_trace(go.Scatter(x=list(range(len(weights_history))), \n",
    "                             y=[h[i] for h in weights_history], \n",
    "                             mode='lines+markers', \n",
    "                             name=f'Asset {i+1} Weight'), \n",
    "                  row=1, col=1)\n",
    "\n",
    "fig.add_trace(go.Scatter(x=list(range(len(sharpe_history))), \n",
    "                         y=sharpe_history, \n",
    "                         mode='lines+markers', \n",
    "                         name='Sharpe Ratio'), \n",
    "              row=1, col=2)\n",
    "\n",
    "fig.update_layout(title_text='Portfolio Optimization Analysis',\n",
    "                  xaxis_title='Iteration',\n",
    "                  yaxis_title='Weight',\n",
    "                  legend_title='Assets',\n",
    "                    font=dict(\n",
    "                        family=\"Cambria\",\n",
    "                        size=18,\n",
    "                    )\n",
    ")\n",
    "\n",
    "# Update xaxis and yaxis properties for Sharpe Ratio subplot\n",
    "fig.update_xaxes(title_text=\"Iteration\", row=1, col=2)\n",
    "fig.update_yaxes(title_text=\"Sharpe Ratio\", row=1, col=2)\n",
    "\n",
    "fig.show()\n",
    "\n",
    "#fig.write_html(\"SLSQPDemo.html\")\n",
    "#fig.write_image(\"SLSQPDemo.png\", format='png', width=1920, height=1080)"
   ]
  },
  {
   "cell_type": "markdown",
   "metadata": {
    "id": "E3i7iFfDabDV"
   },
   "source": [
    "## 4.0 Monte Carlo Method"
   ]
  },
  {
   "cell_type": "code",
   "execution_count": null,
   "metadata": {
    "colab": {
     "base_uri": "https://localhost:8080/"
    },
    "execution": {
     "iopub.execute_input": "2025-03-28T01:48:08.023073Z",
     "iopub.status.busy": "2025-03-28T01:48:08.022647Z",
     "iopub.status.idle": "2025-03-28T01:49:30.374046Z",
     "shell.execute_reply": "2025-03-28T01:49:30.372927Z",
     "shell.execute_reply.started": "2025-03-28T01:48:08.023041Z"
    },
    "id": "fsgRqCSWabDV",
    "outputId": "55346305-b21e-48aa-bd8b-0daed1a50060",
    "trusted": true
   },
   "outputs": [],
   "source": [
    "all_portfolios, dominant_portfolios = MonteCarloRBA(names, cov, annualized_returns, 10000, min_assets=8, max_assets=8)"
   ]
  },
  {
   "cell_type": "code",
   "execution_count": null,
   "metadata": {
    "colab": {
     "base_uri": "https://localhost:8080/"
    },
    "execution": {
     "iopub.execute_input": "2025-03-28T01:49:30.375612Z",
     "iopub.status.busy": "2025-03-28T01:49:30.375258Z",
     "iopub.status.idle": "2025-03-28T01:49:30.404654Z",
     "shell.execute_reply": "2025-03-28T01:49:30.403338Z",
     "shell.execute_reply.started": "2025-03-28T01:49:30.375576Z"
    },
    "id": "09tYBpwxabDV",
    "outputId": "055bc292-d45d-4b5b-baaf-482d1c4ede81",
    "trusted": true
   },
   "outputs": [],
   "source": [
    "iterations = [portfolio['iteration'] for portfolio in dominant_portfolios]\n",
    "counts = list(range(1, len(dominant_portfolios) + 1))\n",
    "\n",
    "fig = go.Figure()\n",
    "\n",
    "fig.add_trace(go.Scatter(x=iterations, y=counts,\n",
    "                        mode='lines',\n",
    "                        name='Dominant Portfolios',\n",
    "                        line=dict(shape='spline')\n",
    "))  \n",
    "\n",
    "fig.update_layout(\n",
    "    title='Growth of Dominant Portfolios Over Iterations',\n",
    "    xaxis_title='Portfolios Generated',\n",
    "    yaxis_title='Number of Dominant Portfolios Found',\n",
    "    height=1080,\n",
    "    width=1920,\n",
    "    font=dict(\n",
    "        family=\"Cambria\",\n",
    "        size=18,\n",
    "    )\n",
    ")\n",
    "\n",
    "fig.show()\n",
    "#fig.write_html(\"FrequencyOfDom.html\")\n",
    "#fig.write_image(\"FrequencyOfDom.png\", format='png', width=1920, height=1080)"
   ]
  },
  {
   "cell_type": "code",
   "execution_count": null,
   "metadata": {
    "colab": {
     "base_uri": "https://localhost:8080/",
     "height": 542
    },
    "execution": {
     "iopub.execute_input": "2025-03-28T01:49:30.406236Z",
     "iopub.status.busy": "2025-03-28T01:49:30.405826Z",
     "iopub.status.idle": "2025-03-28T01:49:31.388067Z",
     "shell.execute_reply": "2025-03-28T01:49:31.386584Z",
     "shell.execute_reply.started": "2025-03-28T01:49:30.406197Z"
    },
    "id": "uuj_oTIZabDV",
    "outputId": "c0fec4f3-4492-4608-a54f-48d800b04ba7",
    "trusted": true
   },
   "outputs": [],
   "source": [
    "fig1 = go.Figure()\n",
    "\n",
    "fig1.add_trace(go.Scatter(\n",
    "    x=[np.sqrt(p[\"variance\"]) for p in all_portfolios],\n",
    "    y=[p[\"return\"] for p in all_portfolios],\n",
    "    mode='markers',\n",
    "    marker=dict(\n",
    "        color=[p[\"sharpe\"] for p in all_portfolios],\n",
    "        showscale=True,\n",
    "        size=7,\n",
    "        line=dict(width=1),\n",
    "        colorscale=\"RdBu\",\n",
    "        colorbar=dict(title=\"Sharpe<br>Ratio\")\n",
    "    ),\n",
    "    hoverinfo='text',\n",
    "    text=[\n",
    "        f\"Return: {p['return']:.3%}<br>Volatility: {np.sqrt(p['variance']):.3f}<br>\" +\n",
    "        f\"Sharpe Ratio: {p['return'] / (np.sqrt(p['variance'])):.3f}<br>\" +\n",
    "        \"<br>\".join([f\"{p['tickers'][i]}: Weight={p['weights'][i]:.3f}\" for i in range(len(p['tickers']))])\n",
    "        for p in all_portfolios\n",
    "    ]\n",
    "))\n",
    "\n",
    "fig1.update_layout(\n",
    "    xaxis=dict(title='Volatility (Standard Deviation)'),\n",
    "    yaxis=dict(title='Annualised Returns'),\n",
    "    title='Monte Carlo Randomly Generated Portfolios',\n",
    "    height=1080,\n",
    "    width=1920,\n",
    "    font=dict(\n",
    "        family=\"Cambria\",\n",
    "        size=18,\n",
    "    )\n",
    ")\n",
    "fig1.show()\n",
    "#fig1.write_html(\"MonteCarlo.html\")\n",
    "#fig1.write_image(\"MonteCarlo.png\", format='png', width=1920, height=1080)"
   ]
  },
  {
   "cell_type": "code",
   "execution_count": null,
   "metadata": {
    "colab": {
     "base_uri": "https://localhost:8080/",
     "height": 542
    },
    "execution": {
     "iopub.execute_input": "2025-03-28T01:49:31.390227Z",
     "iopub.status.busy": "2025-03-28T01:49:31.389701Z",
     "iopub.status.idle": "2025-03-28T01:49:31.429758Z",
     "shell.execute_reply": "2025-03-28T01:49:31.428601Z",
     "shell.execute_reply.started": "2025-03-28T01:49:31.390178Z"
    },
    "id": "uHkH6APvabDV",
    "outputId": "8dbda4b6-b409-48de-98ea-c89f8e6f5f85",
    "trusted": true
   },
   "outputs": [],
   "source": [
    "fig2 = go.Figure()\n",
    "\n",
    "fig2.add_trace(go.Scatter(\n",
    "    x=[np.sqrt(p[\"variance\"]) for p in dominant_portfolios],  # Convert variance to volatility\n",
    "    y=[p[\"return\"] for p in dominant_portfolios],\n",
    "    mode='markers',\n",
    "    marker=dict(\n",
    "        size=7,\n",
    "        line=dict(width=1),\n",
    "        #showscale=True,\n",
    "        #color=[p[\"return\"] / (np.sqrt(p[\"variance\"])) for p in dominant_portfolios],  # Sharpe Ratio\n",
    "        #colorscale=\"RdBu\",\n",
    "        #colorbar=dict(title=\"Sharpe<br>Ratio\")\n",
    "    ),\n",
    "    hoverinfo='text',\n",
    "    text=[\n",
    "        f\"Return: {p['return']:.3%}<br>Volatility: {np.sqrt(p['variance']):.3f}<br>\" +\n",
    "        f\"Sharpe Ratio: {p['sharpe']:.3f}<br>\" +\n",
    "        \"<br>\".join([f\"{p['tickers'][i]}: Weight={p['weights'][i]:.3f}\" for i in range(len(p['tickers']))])\n",
    "        for p in dominant_portfolios\n",
    "    ],\n",
    "    name=\"Monte Carlo Portfolios\"\n",
    "))\n",
    "\n",
    "fig2.add_trace(go.Scatter(\n",
    "    x=volatility,\n",
    "    y=annualized_returns,\n",
    "    mode='markers',\n",
    "    hoverinfo='text',\n",
    "    hovertext=[\n",
    "        f\"{name} <br>Volatility: {vol:.3f} <br>Returns: {ret:.3%} <br>Sharpe Ratio: {sr:.3f}\"\n",
    "        for name, vol, ret, sr in zip(names, volatility, annualized_returns, sharpe_ratios)\n",
    "    ],\n",
    "    marker=dict(\n",
    "        color='green',\n",
    "        size=5,\n",
    "        line=dict(width=1)\n",
    "    ),\n",
    "    name=\"Individual Assets\"\n",
    "))\n",
    "\n",
    "fig2.update_layout(\n",
    "    title='Monte Carlo Portfolios with Individual Assets',\n",
    "    xaxis_title='Volatility (Standard Deviation)',\n",
    "    yaxis_title='Annualized Return',\n",
    "    legend=dict(y=5),\n",
    "    height=1080,\n",
    "    width=1920,\n",
    "    font=dict(\n",
    "        family=\"Cambria\",\n",
    "        size=18,\n",
    "    )\n",
    ")\n",
    "\n",
    "fig2.show()\n",
    "#fig2.write_html(\"MCMarkowitzBullet.html\")\n",
    "#fig2.write_image(\"MCMarkowitzBullet.png\", format='png', width=1920, height=1080)"
   ]
  },
  {
   "cell_type": "markdown",
   "metadata": {
    "id": "6-WDtJTgabDV"
   },
   "source": [
    "## 5.0 Machine Learning Method"
   ]
  },
  {
   "cell_type": "markdown",
   "metadata": {},
   "source": [
    "### 5.1 Optimization Function Only"
   ]
  },
  {
   "cell_type": "code",
   "execution_count": null,
   "metadata": {
    "colab": {
     "base_uri": "https://localhost:8080/"
    },
    "execution": {
     "iopub.execute_input": "2025-03-28T01:49:31.431397Z",
     "iopub.status.busy": "2025-03-28T01:49:31.431082Z",
     "iopub.status.idle": "2025-03-28T01:50:02.278310Z",
     "shell.execute_reply": "2025-03-28T01:50:02.277108Z",
     "shell.execute_reply.started": "2025-03-28T01:49:31.431361Z"
    },
    "id": "7xbdm-4NabDV",
    "outputId": "53c0d514-7544-4e8f-9ed5-4af9aa786a56",
    "trusted": true
   },
   "outputs": [],
   "source": [
    "def MLRBA_V1(ticker, covariances, returns, num_iterations=None, risk_free_rate = 0, \n",
    "             return_power = 1, std_power = 1, return_weight=1/3, corr_weight=1/3, vol_weight= 1/3, num_assets = 8, base_portfolio = None):\n",
    "    \n",
    "    if num_iterations is None:\n",
    "        num_iterations = min(math.comb(len(ticker), num_assets), 100000)\n",
    "    \n",
    "    if base_portfolio is None:\n",
    "        base_portfolio = np.random.choice(list(ticker), num_assets, replace=False)\n",
    "        #base_portfolio = list(ticker)[:num_assets]\n",
    "    \n",
    "    def _get_portfolio_stats (portfolio_assets, risk_free_rate = 0):\n",
    "        p_asset_ret = returns.loc[portfolio_assets].values\n",
    "        p_asset_var = covariances.loc[portfolio_assets, portfolio_assets].values\n",
    "        best_p_weights = maximize_sharpe(p_asset_ret, p_asset_var)\n",
    "        p_ret = np.dot(best_p_weights,p_asset_ret)\n",
    "        p_var = np.dot(best_p_weights, p_asset_var @ best_p_weights)\n",
    "        sharpe = get_sharpe_ratio(p_ret, p_var, risk_free_rate, return_power, std_power)\n",
    "\n",
    "        return p_asset_ret, p_asset_var, sharpe, p_ret, p_var, best_p_weights\n",
    "\n",
    "    def _update_portfolios_array(portfolios, assets, weights, p_ret, p_var):\n",
    "        portfolios.append({\n",
    "            \"tickers\": assets,\n",
    "            \"weights\": weights,\n",
    "            \"return\": p_ret,\n",
    "            \"variance\": p_var,\n",
    "            \"sharpe\": (p_ret-risk_free_rate)/np.sqrt(p_var),\n",
    "        })\n",
    "\n",
    "    all_portfolios = []\n",
    "    \n",
    "    curr_ret, curr_var, curr_weighted_sharpe, curr_p_return, curr_p_variance, curr_p_weights = _get_portfolio_stats(base_portfolio, risk_free_rate)\n",
    "    _update_portfolios_array(all_portfolios, base_portfolio, curr_p_weights, curr_p_return, curr_p_variance)\n",
    "\n",
    "    good_portfolios = all_portfolios.copy()\n",
    "    best_portfolio = base_portfolio.copy()\n",
    "\n",
    "    highest_weighted_sharpe = -np.inf\n",
    "    highest_weighted_sharpe = curr_weighted_sharpe\n",
    "    \n",
    "    portfolios_tested = 0\n",
    "    best_iteration = 0\n",
    "\n",
    "    progress_bar = tqdm(total=num_iterations, desc=\"Portfolios Tested\")\n",
    "    for _ in range(num_iterations):\n",
    "        asset_to_remove = find_best_asset_to_remove(best_portfolio, curr_var, curr_ret)\n",
    "        new_portfolio = [str(asset) for asset in best_portfolio if asset != asset_to_remove]\n",
    "\n",
    "        ranked_assets = find_asset_to_add(new_portfolio, ticker, covariances, returns,\n",
    "                                          return_weight, corr_weight, vol_weight)\n",
    "\n",
    "        asset_added = False\n",
    "\n",
    "        for asset in ranked_assets.index:\n",
    "            if asset in new_portfolio:\n",
    "                continue\n",
    "\n",
    "            test_portfolio = new_portfolio + [asset]\n",
    "            portfolios_tested += 1\n",
    "            progress_bar.update(1)\n",
    "\n",
    "            new_returns, new_var, new_weighted_sharpe, new_p_return, new_p_variance, new_p_weights = _get_portfolio_stats(test_portfolio, risk_free_rate)\n",
    "            _update_portfolios_array(all_portfolios, test_portfolio, new_p_weights, new_p_return, new_p_variance)\n",
    "\n",
    "            if new_weighted_sharpe > highest_weighted_sharpe:\n",
    "                best_iteration = portfolios_tested\n",
    "                best_portfolio = test_portfolio\n",
    "                curr_ret, curr_var = new_returns, new_var\n",
    "                highest_weighted_sharpe = new_weighted_sharpe\n",
    "\n",
    "                _update_portfolios_array(good_portfolios, test_portfolio, new_p_weights, new_p_return, new_p_variance)\n",
    "\n",
    "                asset_added = True\n",
    "                break  # Accept first asset that improves Sharpe\n",
    "\n",
    "        if not asset_added:\n",
    "            print(\"All assets have been tested or no improvement found.\")\n",
    "            break\n",
    "\n",
    "    progress_bar.close()\n",
    "\n",
    "    base_details = good_portfolios[0]\n",
    "    best_details = good_portfolios[-1]\n",
    "\n",
    "    return base_details, best_details, good_portfolios, all_portfolios, best_iteration  \n",
    "\n",
    "base_portfolio, best_portfolio, good_portfolios, total_portfolios, best_iteration = MLRBA_V1(names, cov, annualized_returns)\n",
    "base_portfolio, best_portfolio, len(good_portfolios), len(total_portfolios), best_iteration"
   ]
  },
  {
   "cell_type": "code",
   "execution_count": null,
   "metadata": {
    "colab": {
     "base_uri": "https://localhost:8080/",
     "height": 542
    },
    "execution": {
     "iopub.execute_input": "2025-03-28T01:50:02.279927Z",
     "iopub.status.busy": "2025-03-28T01:50:02.279429Z",
     "iopub.status.idle": "2025-03-28T01:50:02.324483Z",
     "shell.execute_reply": "2025-03-28T01:50:02.323188Z",
     "shell.execute_reply.started": "2025-03-28T01:50:02.279893Z"
    },
    "id": "Znh8vrYQabDW",
    "outputId": "f770bd56-eace-405c-a8c0-a1d835201f64",
    "trusted": true
   },
   "outputs": [],
   "source": [
    "fig = go.Figure()\n",
    "\n",
    "fig.add_trace(go.Scatter(\n",
    "    x=[p[\"variance\"]**0.5 for p in good_portfolios],  # Convert variance to volatility\n",
    "    y=[p[\"return\"] for p in good_portfolios],\n",
    "    mode='markers',\n",
    "    marker=dict(\n",
    "        color=[p[\"sharpe\"] for p in good_portfolios],  # Sharpe Ratio\n",
    "        showscale=True,\n",
    "        size=7,\n",
    "        line=dict(width=1),\n",
    "        colorscale=\"RdBu\",\n",
    "        colorbar=dict(title=\"Sharpe<br>Ratio\")\n",
    "    ),\n",
    "    hoverinfo='text',\n",
    "    text=[\n",
    "        f\"Return: {p['return']:.3%}<br>Volatility: {p['variance']**0.5:.3f}<br>\" +\n",
    "        f\"Sharpe Ratio: {p['return'] / (p['variance']**0.5):.3f}<br>\" +\n",
    "        \"<br>\".join([f\"{p['tickers'][i]}: Weight={p['weights'][i]:.3f}\" for i in range(len(p['tickers']))])\n",
    "        for p in good_portfolios\n",
    "    ],\n",
    "    name=\"Portfolios\"\n",
    "))\n",
    "\n",
    "fig.update_layout(\n",
    "    title='Convergence Strategy Generarted Portfolios',\n",
    "    xaxis_title='Volatility (Standard Deviation)',\n",
    "    yaxis_title='Annualized Return',\n",
    "    legend=dict(y=5),\n",
    "    width=1920,\n",
    "    height=1080,\n",
    "    font=dict(\n",
    "        family=\"Cambria\",\n",
    "        size=18,\n",
    "    )\n",
    ")\n",
    "\n",
    "fig.show()\n",
    "#fig.write_html(\"ConvergenceRBA.html\")\n",
    "#fig.write_image(\"ConvergenceRBA.png\", format='png', width=1920, height=1080)\n",
    "\n",
    "fig.add_trace(go.Scatter(\n",
    "    x=volatility,\n",
    "    y=annualized_returns,\n",
    "    mode='markers',\n",
    "    hoverinfo='text',\n",
    "    hovertext=[\n",
    "        f\"{name} <br>Volatility: {vol:.3f} <br>Returns: {ret:.3%} <br>Sharpe Ratio: {sr:.3f}\"\n",
    "        for name, vol, ret, sr in zip(names, volatility, annualized_returns, sharpe_ratios)\n",
    "    ],\n",
    "    marker=dict(\n",
    "        color='green',\n",
    "        size=5,\n",
    "        line=dict(width=1)\n",
    "    ),\n",
    "    name=\"Individual Assets\"\n",
    "))\n",
    "\n",
    "fig.update_layout(\n",
    "    title='Convergence Strategy Generarted Portfolios with Individual Assets',\n",
    "    xaxis_title='Volatility (Standard Deviation)',\n",
    "    yaxis_title='Annualized Return',\n",
    "    legend=dict(y=5),\n",
    "    width=1920,\n",
    "    height=1080,\n",
    "    font=dict(\n",
    "        family=\"Cambria\",\n",
    "        size=18,\n",
    "    )\n",
    ")\n",
    "\n",
    "\n",
    "fig.show()\n",
    "\n",
    "#fig.write_html(\"ConvergenceRBA+Asset.html\")\n",
    "#fig.write_image(\"ConvergenceRBA+Asset.png\", format='png', width=1920, height=1080)\n"
   ]
  },
  {
   "cell_type": "code",
   "execution_count": null,
   "metadata": {
    "colab": {
     "base_uri": "https://localhost:8080/",
     "height": 542
    },
    "execution": {
     "iopub.execute_input": "2025-03-28T01:50:02.326535Z",
     "iopub.status.busy": "2025-03-28T01:50:02.326077Z",
     "iopub.status.idle": "2025-03-28T01:50:02.370036Z",
     "shell.execute_reply": "2025-03-28T01:50:02.368463Z",
     "shell.execute_reply.started": "2025-03-28T01:50:02.326487Z"
    },
    "id": "fcrLEvL3abDW",
    "outputId": "7123cd39-a752-4640-be20-6fe3fcbc6c17",
    "trusted": true
   },
   "outputs": [],
   "source": [
    "sharpe_ratios = [portfolio['sharpe'] for portfolio in total_portfolios]\n",
    "\n",
    "fig = go.Figure(data=go.Scatter(x=list(range(len(sharpe_ratios))), y=sharpe_ratios, mode='lines+markers'))\n",
    "fig.update_layout(title='Sharpe Ratio Over Iterations',\n",
    "                xaxis_title='Iteration',\n",
    "                yaxis_title='Sharpe Ratio',\n",
    "                width=1920,\n",
    "                height=1080,\n",
    "                font=dict(\n",
    "                    family=\"Cambria\",\n",
    "                    size=18,\n",
    "                )\n",
    ")\n",
    "fig.show()"
   ]
  },
  {
   "cell_type": "markdown",
   "metadata": {},
   "source": [
    "#### Comparing MLRBA_V1 with Monte Carlo"
   ]
  },
  {
   "cell_type": "code",
   "execution_count": null,
   "metadata": {
    "execution": {
     "iopub.execute_input": "2025-03-28T01:50:02.371193Z",
     "iopub.status.busy": "2025-03-28T01:50:02.370887Z",
     "iopub.status.idle": "2025-03-28T01:50:03.976070Z",
     "shell.execute_reply": "2025-03-28T01:50:03.974940Z",
     "shell.execute_reply.started": "2025-03-28T01:50:02.371167Z"
    },
    "trusted": true
   },
   "outputs": [],
   "source": [
    "figC = go.Figure(fig2)\n",
    "figC.add_trace(go.Scatter(\n",
    "    x=[p[\"variance\"]**0.5 for p in good_portfolios],  # Convert variance to volatility\n",
    "    y=[p[\"return\"] for p in good_portfolios],\n",
    "    mode='markers',\n",
    "    marker=dict(\n",
    "        size=7,\n",
    "        line=dict(width=1),\n",
    "        color=\"Red\",\n",
    "    ),\n",
    "    hoverinfo='text',\n",
    "    text=[\n",
    "        f\"Return: {p['return']:.3%}<br>Volatility: {p['variance']**0.5:.3f}<br>\" +\n",
    "        f\"Sharpe Ratio: {p['return'] / (p['variance']**0.5):.3f}<br>\" +\n",
    "        \"<br>\".join([f\"{p['tickers'][i]}: Weight={p['weights'][i]:.3f}\" for i in range(len(p['tickers']))])\n",
    "        for p in good_portfolios\n",
    "    ],\n",
    "    name=\"Convergence Portfolios\"\n",
    "))\n",
    "\n",
    "figC.update_layout(\n",
    "    title='Convergence vs Monte Carlo vs Individual Assets',\n",
    "    legend=dict(x=0.85, y=0.95),\n",
    "    width=1920,\n",
    "    height=1080,\n",
    "    font=dict(\n",
    "        family=\"Cambria\",\n",
    "        size=18,\n",
    "    )\n",
    ")\n",
    "\n",
    "figC.show()\n",
    "#figC.write_html(\"ComparisonOfConvergence+MC.html\")\n",
    "#figC.write_image(\"ComparisonOfConvergence+MC.png\", format='png', width=1920, height=1080)"
   ]
  },
  {
   "cell_type": "markdown",
   "metadata": {},
   "source": [
    "### 5.2 Reinforcement Weight Training"
   ]
  },
  {
   "cell_type": "code",
   "execution_count": 9,
   "metadata": {
    "execution": {
     "iopub.execute_input": "2025-03-28T01:50:03.977877Z",
     "iopub.status.busy": "2025-03-28T01:50:03.977357Z",
     "iopub.status.idle": "2025-03-28T01:50:11.560961Z",
     "shell.execute_reply": "2025-03-28T01:50:11.559727Z",
     "shell.execute_reply.started": "2025-03-28T01:50:03.977831Z"
    },
    "trusted": true
   },
   "outputs": [
    {
     "name": "stderr",
     "output_type": "stream",
     "text": [
      "Portfolios Tested:   0%|          | 98/100000 [00:00<07:30, 221.68it/s]"
     ]
    },
    {
     "name": "stdout",
     "output_type": "stream",
     "text": [
      "All assets have been tested or no improvement possible.\n"
     ]
    },
    {
     "name": "stderr",
     "output_type": "stream",
     "text": [
      "\n"
     ]
    },
    {
     "data": {
      "text/plain": [
       "({'tickers': ['NKE', 'QCOM', 'NVDA', 'AMD', 'NFLX', 'AMZN', 'BSX', 'BA'],\n",
       "  'weights': array([0.00000000e+00, 4.87173289e-16, 2.84078340e-01, 0.00000000e+00,\n",
       "         3.84078643e-02, 2.36573124e-01, 1.77562816e-01, 2.63377856e-01]),\n",
       "  'return': np.float64(0.4696190908271363),\n",
       "  'variance': np.float64(0.03866452141665683),\n",
       "  'sharpe': np.float64(2.3883029988660622)},\n",
       " np.float64(2.3883029988660622),\n",
       " 14)"
      ]
     },
     "execution_count": 9,
     "metadata": {},
     "output_type": "execute_result"
    }
   ],
   "source": [
    "def MLRBA_V2(ticker, covariances, returns, num_iterations=None, risk_free_rate = 0, \n",
    "             return_power = 1, std_power = 1, return_weight=1/3, corr_weight=1/3, vol_weight= 1/3, num_assets = 8, base_portfolio = None):\n",
    "    \n",
    "    if num_iterations is None:\n",
    "        num_iterations = min(math.comb(len(ticker), num_assets), 100000)\n",
    "\n",
    "    if base_portfolio is None:\n",
    "        base_portfolio = np.random.choice(list(ticker), num_assets, replace=False)\n",
    "        #base_portfolio = list(ticker)[:num_assets]\n",
    "\n",
    "    def _get_portfolio_stats(portfolio_assets, risk_free_rate=0):\n",
    "        p_asset_ret = returns.loc[portfolio_assets].values\n",
    "        p_asset_var = covariances.loc[portfolio_assets, portfolio_assets].values\n",
    "        best_p_weights = maximize_sharpe(p_asset_ret, p_asset_var)\n",
    "        p_ret = np.dot(best_p_weights, p_asset_ret)\n",
    "        p_var = np.dot(best_p_weights, p_asset_var @ best_p_weights)\n",
    "        sharpe = get_sharpe_ratio(p_ret, p_var, risk_free_rate, return_power, std_power)\n",
    "        return p_asset_ret, p_asset_var, sharpe, p_ret, p_var, best_p_weights\n",
    "\n",
    "    def _update_portfolios_array(portfolios, assets, weights, p_ret, p_var):\n",
    "        portfolios.append({\n",
    "            \"tickers\": assets,\n",
    "            \"weights\": weights,\n",
    "            \"return\": p_ret,\n",
    "            \"variance\": p_var,\n",
    "            \"sharpe\": (p_ret - risk_free_rate) / np.sqrt(p_var),\n",
    "        })\n",
    "\n",
    "    all_portfolios = []\n",
    "\n",
    "    curr_ret, curr_var, curr_weighted_sharpe, curr_p_return, curr_p_variance, curr_p_weights = _get_portfolio_stats(base_portfolio, risk_free_rate)\n",
    "    _update_portfolios_array(all_portfolios, base_portfolio, curr_p_weights, curr_p_return, curr_p_variance)\n",
    "\n",
    "    good_portfolios = all_portfolios.copy()\n",
    "    best_portfolio = base_portfolio.copy()\n",
    "\n",
    "    highest_weighted_sharpe = -np.inf\n",
    "    highest_weighted_sharpe = curr_weighted_sharpe\n",
    "\n",
    "    best_iteration = 0\n",
    "    portfolios_tested = 0\n",
    "\n",
    "    learning_rate = 0.03\n",
    "    improvement_threshold = 0.001\n",
    "\n",
    "    progress_bar = tqdm(total=num_iterations, desc=\"Portfolios Tested\")\n",
    "    for i in range(num_iterations):\n",
    "        asset_to_remove = find_best_asset_to_remove(best_portfolio, curr_var, curr_ret)\n",
    "        new_portfolio = [str(asset) for asset in best_portfolio if asset != asset_to_remove]\n",
    "\n",
    "        ranked_assets = find_asset_to_add(new_portfolio, ticker, covariances, returns, return_weight, corr_weight, vol_weight)\n",
    "\n",
    "        asset_added = False\n",
    "\n",
    "        for asset in ranked_assets.index:\n",
    "            portfolios_tested += 1\n",
    "            progress_bar.update(1)\n",
    "            \n",
    "            copy_new_portfolio = new_portfolio.copy()\n",
    "            copy_new_portfolio.append(asset)\n",
    "\n",
    "            new_returns, new_var, new_weighted_sharpe, new_p_return, new_p_variance, new_p_weights = _get_portfolio_stats(copy_new_portfolio, risk_free_rate)\n",
    "            _update_portfolios_array(all_portfolios, copy_new_portfolio, new_p_weights, new_p_return, new_p_variance)\n",
    "\n",
    "            if new_weighted_sharpe > highest_weighted_sharpe:\n",
    "                best_iteration = portfolios_tested\n",
    "                improvement = new_weighted_sharpe - highest_weighted_sharpe\n",
    "                highest_weighted_sharpe = new_weighted_sharpe\n",
    "                best_portfolio = copy_new_portfolio\n",
    "                curr_ret, curr_var = new_returns, new_var\n",
    "\n",
    "                asset_added = True\n",
    "\n",
    "                asset_return = returns.loc[asset]\n",
    "                asset_vol = np.sqrt(covariances.loc[asset, asset])\n",
    "                avg_return = returns.mean()\n",
    "                avg_vol = np.sqrt(np.diag(covariances)).mean()\n",
    "\n",
    "                corr_with_portfolio = correlation_matrix.loc[copy_new_portfolio, asset].drop(asset).mean()\n",
    "                avg_corr_in_portfolio = correlation_matrix.loc[copy_new_portfolio].drop(asset, axis=1).mean().mean()\n",
    "\n",
    "                # Update weights using the current learning rate\n",
    "                return_weight += learning_rate * (asset_return - avg_return) / avg_return\n",
    "                vol_weight    += learning_rate * (avg_vol - asset_vol) / avg_vol\n",
    "                corr_weight   += learning_rate * (avg_corr_in_portfolio - corr_with_portfolio) / avg_corr_in_portfolio\n",
    "\n",
    "                total = return_weight + corr_weight + vol_weight\n",
    "                return_weight /= total\n",
    "                corr_weight /= total\n",
    "                vol_weight /= total\n",
    "\n",
    "                if improvement < improvement_threshold:\n",
    "                    learning_rate *= 0.95\n",
    "                else:\n",
    "                    learning_rate *= 1.01\n",
    "\n",
    "                _update_portfolios_array(good_portfolios, copy_new_portfolio, new_p_weights, new_p_return, new_p_variance)\n",
    "                break  # stop at first valid improving asset\n",
    "\n",
    "        if not asset_added:\n",
    "            print(\"All assets have been tested or no improvement possible.\")\n",
    "            break\n",
    "\n",
    "    base_details = good_portfolios[0]\n",
    "    best_details = good_portfolios[-1]\n",
    "\n",
    "    return base_details, best_details, good_portfolios, all_portfolios, best_iteration\n",
    "\n",
    "\n",
    "base_portfolio, best_portfolio, good_portfolios, total_portfolios, best_iteration = MLRBA_V2(names, cov, annualized_returns)\n",
    "best_portfolio, best_portfolio['sharpe'], best_iteration"
   ]
  },
  {
   "cell_type": "code",
   "execution_count": null,
   "metadata": {
    "execution": {
     "iopub.execute_input": "2025-03-28T01:50:11.562544Z",
     "iopub.status.busy": "2025-03-28T01:50:11.562152Z",
     "iopub.status.idle": "2025-03-28T01:50:11.602498Z",
     "shell.execute_reply": "2025-03-28T01:50:11.600912Z",
     "shell.execute_reply.started": "2025-03-28T01:50:11.562508Z"
    },
    "trusted": true
   },
   "outputs": [],
   "source": [
    "fig = go.Figure()\n",
    "\n",
    "fig.add_trace(go.Scatter(\n",
    "    x=[p[\"variance\"]**0.5 for p in good_portfolios],  # Convert variance to volatility\n",
    "    y=[p[\"return\"] for p in good_portfolios],\n",
    "    mode='markers',\n",
    "    marker=dict(\n",
    "        color=[p[\"sharpe\"] for p in good_portfolios],  # Sharpe Ratio\n",
    "        showscale=True,\n",
    "        size=7,\n",
    "        line=dict(width=1),\n",
    "        colorscale=\"RdBu\",\n",
    "        colorbar=dict(title=\"Sharpe<br>Ratio\")\n",
    "    ),\n",
    "    hoverinfo='text',\n",
    "    text=[\n",
    "        f\"Return: {p['return']:.3%}<br>Volatility: {p['variance']**0.5:.3f}<br>\" +\n",
    "        f\"Sharpe Ratio: {p['return'] / (p['variance']**0.5):.3f}<br>\" +\n",
    "        \"<br>\".join([f\"{p['tickers'][i]}: Weight={p['weights'][i]:.3f}\" for i in range(len(p['tickers']))])\n",
    "        for p in good_portfolios\n",
    "    ],\n",
    "    name=\"Portfolios\"\n",
    "))\n",
    "\n",
    "fig.update_layout(\n",
    "    title='Learning Convergence Portfolios',\n",
    "    xaxis_title='Volatility (Standard Deviation)',\n",
    "    yaxis_title='Annualized Return',\n",
    "    legend=dict(y=5),\n",
    "    width=1920,\n",
    "    height=1080,\n",
    "    font=dict(\n",
    "        family=\"Cambria\",\n",
    "        size=18,\n",
    "    )\n",
    ")\n",
    "\n",
    "fig.show()\n",
    "#fig.write_html(\"LearningConvergenceRBA.html\")\n",
    "#fig.write_image(\"LearningConvergenceRBA.png\", format='png', width=1920, height=1080)\n",
    "\n",
    "fig.add_trace(go.Scatter(\n",
    "    x=volatility,\n",
    "    y=annualized_returns,\n",
    "    mode='markers',\n",
    "    hoverinfo='text',\n",
    "    hovertext=[\n",
    "        f\"{name} <br>Volatility: {vol:.3f} <br>Returns: {ret:.3%} <br>Sharpe Ratio: {sr:.3f}\"\n",
    "        for name, vol, ret, sr in zip(names, volatility, annualized_returns, sharpe_ratios)\n",
    "    ],\n",
    "    marker=dict(\n",
    "        color='green',\n",
    "        size=5,\n",
    "        line=dict(width=1)\n",
    "    ),\n",
    "    name=\"Individual Assets\"\n",
    "))\n",
    "\n",
    "fig.update_layout(\n",
    "    title='Learning Convergence Portfolios with Individual Assets',\n",
    "    xaxis_title='Volatility (Standard Deviation)',\n",
    "    yaxis_title='Annualized Return',\n",
    "    legend=dict(y=5),\n",
    "    width=1920,\n",
    "    height=1080,\n",
    "    font=dict(\n",
    "        family=\"Cambria\",\n",
    "        size=18,\n",
    "    )\n",
    ")\n",
    "\n",
    "\n",
    "fig.show()\n",
    "#fig.write_html(\"LearningConvergenceRBA+Asset.html\")\n",
    "#fig.write_image(\"LearningConvergenceRBA+Asset.png\", format='png', width=1920, height=1080)\n"
   ]
  },
  {
   "cell_type": "code",
   "execution_count": null,
   "metadata": {
    "execution": {
     "iopub.execute_input": "2025-03-28T01:50:11.604457Z",
     "iopub.status.busy": "2025-03-28T01:50:11.604098Z",
     "iopub.status.idle": "2025-03-28T01:50:11.625195Z",
     "shell.execute_reply": "2025-03-28T01:50:11.623946Z",
     "shell.execute_reply.started": "2025-03-28T01:50:11.604415Z"
    },
    "trusted": true
   },
   "outputs": [],
   "source": [
    "sharpe_ratios = [portfolio['sharpe'] for portfolio in total_portfolios]\n",
    "\n",
    "fig = go.Figure(data=go.Scatter(x=list(range(len(sharpe_ratios))), y=sharpe_ratios, mode='lines+markers'))\n",
    "fig.update_layout(title='Sharpe Ratio Over Iterations',\n",
    "                  xaxis_title='Iteration',\n",
    "                  yaxis_title='Sharpe Ratio',\n",
    "                  )\n",
    "fig.show()"
   ]
  },
  {
   "cell_type": "code",
   "execution_count": null,
   "metadata": {
    "execution": {
     "iopub.execute_input": "2025-03-28T01:50:11.626994Z",
     "iopub.status.busy": "2025-03-28T01:50:11.626392Z",
     "iopub.status.idle": "2025-03-28T01:50:11.679095Z",
     "shell.execute_reply": "2025-03-28T01:50:11.677715Z",
     "shell.execute_reply.started": "2025-03-28T01:50:11.626958Z"
    },
    "trusted": true
   },
   "outputs": [],
   "source": [
    "figC = go.Figure(fig2)\n",
    "figC.add_trace(go.Scatter(\n",
    "    x=[p[\"variance\"]**0.5 for p in good_portfolios],  # Convert variance to volatility\n",
    "    y=[p[\"return\"] for p in good_portfolios],\n",
    "    mode='markers',\n",
    "    marker=dict(\n",
    "        size=7,\n",
    "        line=dict(width=1),\n",
    "        color=\"Red\",\n",
    "    ),\n",
    "    hoverinfo='text',\n",
    "    text=[\n",
    "        f\"Return: {p['return']:.3%}<br>Volatility: {p['variance']**0.5:.3f}<br>\" +\n",
    "        f\"Sharpe Ratio: {p['return'] / (p['variance']**0.5):.3f}<br>\" +\n",
    "        \"<br>\".join([f\"{p['tickers'][i]}: Weight={p['weights'][i]:.3f}\" for i in range(len(p['tickers']))])\n",
    "        for p in good_portfolios\n",
    "    ],\n",
    "    name=\"Learning Convergence Portfolios\"\n",
    "))\n",
    "\n",
    "figC.update_layout(\n",
    "    title='Learning Convergence vs Monte Carlo vs Individual Assets',\n",
    "    legend=dict(x=0.8, y=0.95),\n",
    "    width=1920,\n",
    "    height=1080,\n",
    "    font=dict(\n",
    "        family=\"Cambria\",\n",
    "        size=18,\n",
    "    )\n",
    ")\n",
    "\n",
    "figC.show()\n",
    "#figC.write_html(\"ComparisonOfLearningConvergence+MC.html\")\n",
    "#figC.write_image(\"ComparisonOfLearningConvergence+MC.png\", format='png', width=1920, height=1080)"
   ]
  },
  {
   "cell_type": "markdown",
   "metadata": {},
   "source": [
    "### Comparing V1 and V2"
   ]
  },
  {
   "cell_type": "code",
   "execution_count": null,
   "metadata": {
    "execution": {
     "iopub.execute_input": "2025-03-28T01:50:11.680512Z",
     "iopub.status.busy": "2025-03-28T01:50:11.680086Z",
     "iopub.status.idle": "2025-03-28T01:58:45.374167Z",
     "shell.execute_reply": "2025-03-28T01:58:45.371622Z",
     "shell.execute_reply.started": "2025-03-28T01:50:11.680469Z"
    },
    "scrolled": true,
    "trusted": true
   },
   "outputs": [],
   "source": [
    "def run_MLRBA_multiple_times(names, cov, annualized_returns, num_runs, num_assets=8):\n",
    "\n",
    "    def generate_rand_port(tickers, num_assets, num_runs):\n",
    "        rand_port = []\n",
    "        for _ in range (num_runs):\n",
    "            base_portfolio = np.random.choice(list(tickers), num_assets, replace=False)\n",
    "            rand_port.append(base_portfolio)\n",
    "\n",
    "        return rand_port\n",
    "    \n",
    "    random_portfolios = generate_rand_port(names, num_assets=num_assets, num_runs=num_runs)\n",
    "\n",
    "    total_good_portfolios_length_v1 = 0\n",
    "    best_portfolios_v1 = []\n",
    "    best_iterations_v1 = []\n",
    "    \n",
    "    total_good_portfolios_length_v2 = 0\n",
    "    best_portfolios_v2 = []\n",
    "    best_iterations_v2 = []\n",
    "    \n",
    "    for portfolio in random_portfolios:\n",
    "        base_portfolio_v1, best_portfolio_v1, good_portfolios_v1, _, best_iteration_v1 = MLRBA_V1(names, cov, annualized_returns, base_portfolio=portfolio)\n",
    "        total_good_portfolios_length_v1 += len(good_portfolios_v1)\n",
    "        best_portfolios_v1.append(best_portfolio_v1)\n",
    "        best_iterations_v1.append(best_iteration_v1)\n",
    "        \n",
    "        base_portfolio_v2, best_portfolio_v2, good_portfolios_v2, _, best_iteration_v2 = MLRBA_V2(names, cov, annualized_returns, base_portfolio=portfolio)\n",
    "        total_good_portfolios_length_v2 += len(good_portfolios_v2)\n",
    "        best_portfolios_v2.append(best_portfolio_v2)\n",
    "        best_iterations_v2.append(best_iteration_v2)\n",
    "\n",
    "        print(base_portfolio_v1['tickers'] == base_portfolio_v2['tickers'])\n",
    "\n",
    "    average_length_v1 = total_good_portfolios_length_v1 / num_runs\n",
    "    average_iteration_v1 = statistics.fmean(best_iterations_v1)\n",
    "    std_dev_iteration_v1 = statistics.stdev(best_iterations_v1) if num_runs > 1 else 0\n",
    "\n",
    "    average_length_v2 = total_good_portfolios_length_v2 / num_runs\n",
    "    average_iteration_v2 = statistics.fmean(best_iterations_v2)\n",
    "    std_dev_iteration_v2 = statistics.stdev(best_iterations_v2) if num_runs > 1 else 0\n",
    "\n",
    "    \n",
    "    results = {\n",
    "        'v1': (base_portfolio_v1, average_length_v1, best_portfolios_v1, average_iteration_v1, std_dev_iteration_v1, best_iterations_v1),\n",
    "        'v2': (base_portfolio_v2, average_length_v2, best_portfolios_v2, average_iteration_v2, std_dev_iteration_v2, best_iterations_v2)\n",
    "    }\n",
    "    \n",
    "    return results\n",
    "\n",
    "num_runs = 20\n",
    "results = run_MLRBA_multiple_times(names, cov, annualized_returns, num_runs)\n",
    "\n",
    "_, _, best_portfolios_v1, average_iteration_v1, std_dev_v1, best_iterations_v1 = results['v1']\n",
    "_, _, best_portfolios_v2, average_iteration_v2, std_dev_v2, best_iterations_v2 = results['v2']"
   ]
  },
  {
   "cell_type": "code",
   "execution_count": null,
   "metadata": {
    "execution": {
     "iopub.execute_input": "2025-03-28T01:58:45.375415Z",
     "iopub.status.busy": "2025-03-28T01:58:45.375113Z",
     "iopub.status.idle": "2025-03-28T01:58:45.436100Z",
     "shell.execute_reply": "2025-03-28T01:58:45.434935Z",
     "shell.execute_reply.started": "2025-03-28T01:58:45.375380Z"
    },
    "trusted": true
   },
   "outputs": [],
   "source": [
    "from plotly.subplots import make_subplots\n",
    "\n",
    "avg_sharpe_v1 = np.mean([portfolio['sharpe'] for portfolio in best_portfolios_v1])\n",
    "avg_sharpe_v2 = np.mean([portfolio['sharpe'] for portfolio in best_portfolios_v2])\n",
    "\n",
    "fig = make_subplots(\n",
    "    rows=1, cols=2,\n",
    "    subplot_titles=[\n",
    "        \"Average Iterations to Find Best Portfolio\",\n",
    "        \"Average Highest Sharpe Ratio\"\n",
    "    ]\n",
    ")\n",
    "\n",
    "fig.add_trace(go.Bar(\n",
    "    x=['Standard Convergence', 'Learning Convergergence'],\n",
    "    y=[average_iteration_v1, average_iteration_v2],\n",
    "    name='Iterations',\n",
    "    error_y=dict(type='data', array=[std_dev_v1, std_dev_v2], visible=True),\n",
    "    width=0.4\n",
    "), row=1, col=1)\n",
    "\n",
    "fig.add_trace(go.Bar(\n",
    "    x=['Standard Convergence', 'Learning Convergergence'],\n",
    "    y=[avg_sharpe_v1, avg_sharpe_v2],\n",
    "    name='Sharpe Ratio',\n",
    "    width=0.4\n",
    "), row=1, col=2)\n",
    "\n",
    "# Axis titles\n",
    "fig.update_xaxes(title_text='Method Version', row=1, col=1)\n",
    "fig.update_yaxes(title_text='Average Iterations', row=1, col=1)\n",
    "\n",
    "fig.update_xaxes(title_text='Method Version', row=1, col=2)\n",
    "fig.update_yaxes(title_text='Average Sharpe Ratio', row=1, col=2)\n",
    "\n",
    "# Layout and display\n",
    "fig.update_layout(\n",
    "    title_text='Standard Convergence vs Learning Convergence',\n",
    "    showlegend=False,\n",
    "    font=dict(\n",
    "        family=\"Cambria\",\n",
    "        size=18,\n",
    "    )\n",
    ")\n",
    "\n",
    "fig.show()\n",
    "#fig.write_html(\"StandardvsLearning.html\")\n",
    "#fig.write_image(\"StandardvsLearning.png\", format='png', width=1920, height=1080)"
   ]
  },
  {
   "cell_type": "markdown",
   "metadata": {},
   "source": [
    "## 6.0 Portfolio Prediction using LSTM"
   ]
  },
  {
   "cell_type": "code",
   "execution_count": 10,
   "metadata": {
    "execution": {
     "iopub.execute_input": "2025-03-28T01:58:45.441291Z",
     "iopub.status.busy": "2025-03-28T01:58:45.440926Z",
     "iopub.status.idle": "2025-03-28T01:58:45.463114Z",
     "shell.execute_reply": "2025-03-28T01:58:45.461656Z",
     "shell.execute_reply.started": "2025-03-28T01:58:45.441259Z"
    },
    "trusted": true
   },
   "outputs": [],
   "source": [
    "class PortfolioPredictor:\n",
    "    def __init__(self, raw_data_train, raw_data_test, best_portfolio, n_steps=1, epochs=50, batch_size=32):\n",
    "        self.raw_data_train = raw_data_train\n",
    "        self.raw_data_test = raw_data_test\n",
    "        self.best_portfolio = best_portfolio\n",
    "        self.n_steps = n_steps\n",
    "        self.epochs = epochs\n",
    "        self.batch_size = batch_size\n",
    "        self.model = None\n",
    "        self.history = None\n",
    "\n",
    "    def preprocess_data(self):\n",
    "        best_portfolio_data_train = self.raw_data_train[self.best_portfolio['tickers']]\n",
    "        best_portfolio_data_test = self.raw_data_test[self.best_portfolio['tickers']]\n",
    "        weights = np.array(self.best_portfolio['weights'])\n",
    "\n",
    "        # Use a scaler fitted on a broader dataset so that training/test normalization is consistent\n",
    "        self.scaler = MinMaxScaler(feature_range=(0, 1))\n",
    "        # Fit on the entire raw_data (or on a fixed training period) for consistency\n",
    "        full_data = pd.concat([best_portfolio_data_train, best_portfolio_data_test])\n",
    "        self.scaler.fit(full_data)\n",
    "        \n",
    "        normalized_train_data = self.scaler.transform(best_portfolio_data_train)\n",
    "        normalized_test_data = self.scaler.transform(best_portfolio_data_test)\n",
    "\n",
    "        self.weighted_returns_train = np.dot(normalized_train_data, weights)\n",
    "        self.weighted_returns_test = np.dot(normalized_test_data, weights)\n",
    "\n",
    "    def create_datasets(self, data):\n",
    "        X, y = [], []\n",
    "        for i in range(len(data) - self.n_steps):\n",
    "            v = data[i:(i + self.n_steps), :]\n",
    "            X.append(v)\n",
    "            y.append(data[i + self.n_steps, :])\n",
    "        return np.array(X), np.array(y)\n",
    "\n",
    "    def build_model(self):\n",
    "        self.model = Sequential([\n",
    "            LSTM(250, activation='relu', return_sequences=True),\n",
    "            Dropout(0.2),\n",
    "            LSTM(50, activation='relu', return_sequences=False),\n",
    "            Dropout(0.2),\n",
    "            Dense(1),\n",
    "        ])\n",
    "\n",
    "        def tf_weighted_mse(y_true, y_pred, power=3):\n",
    "            n = tf.shape(y_true)[0]\n",
    "            normalized_index = tf.cond(\n",
    "                tf.equal(n, 1),\n",
    "                lambda: tf.ones([n], dtype=tf.float32),\n",
    "                lambda: tf.cast(tf.range(n), tf.float32) / tf.cast(n - 1, tf.float32)\n",
    "            )\n",
    "            weights = tf.pow(normalized_index, power)\n",
    "            weights += 1e-6\n",
    "            weights /= tf.reduce_sum(weights)\n",
    "            \n",
    "            squared_errors = tf.square(y_true - y_pred)\n",
    "            weighted_squared_errors = weights * squared_errors\n",
    "            return tf.reduce_mean(weighted_squared_errors)\n",
    "\n",
    "        self.model.compile(optimizer='adam', loss=tf_weighted_mse)\n",
    "\n",
    "    def train_model(self):\n",
    "        self.X_train_weighted, self.y_train_weighted = self.create_datasets(self.weighted_returns_train.reshape(-1, 1))\n",
    "        self.history = self.model.fit(self.X_train_weighted, self.y_train_weighted, epochs=self.epochs, batch_size=self.batch_size, validation_split=0.001, shuffle=False, verbose=0)\n",
    "\n",
    "    def predict(self):\n",
    "        X_test_weighted, y_test_weighted = self.create_datasets(self.weighted_returns_test.reshape(-1, 1))\n",
    "        \n",
    "        self.predictions = self.model.predict(X_test_weighted)\n",
    "        self.y_test_weighted = y_test_weighted\n",
    "        \n",
    "        return self.predictions\n",
    "\n",
    "    def normalize_cumulative_returns(self, data):\n",
    "        data_series = pd.Series(data.flatten())\n",
    "        pct_change = data_series.pct_change().fillna(0)\n",
    "        cum_returns = (1 + pct_change).cumprod()\n",
    "        normalized_returns = cum_returns * 100\n",
    "        return normalized_returns\n",
    "\n",
    "    def normalize_cumulative_returns_with_baseline(self, data, baseline):\n",
    "        data_series = pd.Series(data.flatten())\n",
    "        pct_change = data_series.pct_change().fillna(0)\n",
    "        cum_returns = (1 + pct_change).cumprod()\n",
    "        normalized_returns = cum_returns * baseline\n",
    "        return normalized_returns\n",
    "\n",
    "    def plot_loss(self):\n",
    "        fig = go.Figure()\n",
    "        fig.add_trace(go.Scatter(x=np.arange(1, len(self.history.history['loss'])+1), y=self.history.history['loss'], mode='lines', name='Training Loss'))\n",
    "        fig.add_trace(go.Scatter(x=np.arange(1, len(self.history.history['val_loss'])+1), y=self.history.history['val_loss'], mode='lines', name='Validation Loss'))\n",
    "        fig.update_layout(title='Training and Validation Loss Over Epochs',\n",
    "                          xaxis_title='Epoch',\n",
    "                          yaxis_title='Loss',\n",
    "                          legend_title='Type of Loss')\n",
    "        fig.show()\n",
    "        \n",
    "    def plot_predictions(self):\n",
    "        normalized_train = self.normalize_cumulative_returns(self.y_train_weighted)\n",
    "        training_end_value = normalized_train.iloc[-1]\n",
    "        normalized_test = self.normalize_cumulative_returns_with_baseline(self.y_test_weighted, training_end_value)\n",
    "        normalized_predicted = self.normalize_cumulative_returns_with_baseline(self.predictions, training_end_value)\n",
    "\n",
    "        fig = go.Figure()\n",
    "        fig.add_trace(go.Scatter(\n",
    "            x=self.raw_data_train.index,\n",
    "            y=normalized_train,\n",
    "            mode='lines',\n",
    "            name='Actual Training Returns'\n",
    "        ))\n",
    "        fig.add_trace(go.Scatter(\n",
    "            x=self.raw_data_test.index[self.n_steps:],\n",
    "            y=normalized_test,\n",
    "            mode='lines',\n",
    "            name='Actual Test Returns'\n",
    "        ))\n",
    "        fig.add_trace(go.Scatter(\n",
    "            x=self.raw_data_test.index[self.n_steps:],\n",
    "            y=normalized_predicted,\n",
    "            mode='lines',\n",
    "            name='Predicted Test Returns'\n",
    "        ))\n",
    "        fig.update_layout(\n",
    "            title='Actual vs Predicted Weighted Portfolio Returns',\n",
    "            xaxis_title='Date',\n",
    "            yaxis_title='Normalized Returns',\n",
    "            legend_title='Portfolio'\n",
    "        )\n",
    "        fig.show()"
   ]
  },
  {
   "cell_type": "code",
   "execution_count": 11,
   "metadata": {
    "execution": {
     "iopub.execute_input": "2025-03-28T01:58:45.465266Z",
     "iopub.status.busy": "2025-03-28T01:58:45.464960Z",
     "iopub.status.idle": "2025-03-28T02:00:26.052539Z",
     "shell.execute_reply": "2025-03-28T02:00:26.051044Z",
     "shell.execute_reply.started": "2025-03-28T01:58:45.465239Z"
    },
    "scrolled": true,
    "trusted": true
   },
   "outputs": [
    {
     "name": "stderr",
     "output_type": "stream",
     "text": [
      "[*********************100%***********************]  1 of 1 completed\n",
      "[*********************100%***********************]  1 of 1 completed\n",
      "[*********************100%***********************]  1 of 1 completed\n",
      "[*********************100%***********************]  1 of 1 completed\n",
      "[*********************100%***********************]  1 of 1 completed\n",
      "[*********************100%***********************]  1 of 1 completed\n",
      "[*********************100%***********************]  1 of 1 completed\n",
      "[*********************100%***********************]  1 of 1 completed\n",
      "[*********************100%***********************]  1 of 1 completed\n",
      "[*********************100%***********************]  1 of 1 completed\n",
      "[*********************100%***********************]  1 of 1 completed\n",
      "[*********************100%***********************]  1 of 1 completed\n",
      "[*********************100%***********************]  1 of 1 completed\n",
      "[*********************100%***********************]  1 of 1 completed\n",
      "[*********************100%***********************]  1 of 1 completed\n",
      "[*********************100%***********************]  1 of 1 completed\n",
      "[*********************100%***********************]  1 of 1 completed\n",
      "[*********************100%***********************]  1 of 1 completed\n",
      "[*********************100%***********************]  1 of 1 completed\n",
      "[*********************100%***********************]  1 of 1 completed\n",
      "[*********************100%***********************]  1 of 1 completed\n",
      "[*********************100%***********************]  1 of 1 completed\n",
      "[*********************100%***********************]  1 of 1 completed\n",
      "[*********************100%***********************]  1 of 1 completed\n",
      "[*********************100%***********************]  1 of 1 completed\n",
      "[*********************100%***********************]  1 of 1 completed\n",
      "[*********************100%***********************]  1 of 1 completed\n",
      "[*********************100%***********************]  1 of 1 completed\n",
      "[*********************100%***********************]  1 of 1 completed\n",
      "[*********************100%***********************]  1 of 1 completed\n",
      "[*********************100%***********************]  1 of 1 completed\n",
      "[*********************100%***********************]  1 of 1 completed\n",
      "[*********************100%***********************]  1 of 1 completed\n",
      "[*********************100%***********************]  1 of 1 completed\n",
      "[*********************100%***********************]  1 of 1 completed\n",
      "[*********************100%***********************]  1 of 1 completed\n",
      "[*********************100%***********************]  1 of 1 completed\n",
      "\n",
      "1 Failed download:\n",
      "['CELG']: YFTzMissingError('possibly delisted; no timezone found')\n",
      "[*********************100%***********************]  1 of 1 completed\n",
      "[*********************100%***********************]  1 of 1 completed\n",
      "[*********************100%***********************]  1 of 1 completed\n",
      "[*********************100%***********************]  1 of 1 completed\n",
      "[*********************100%***********************]  1 of 1 completed\n",
      "[*********************100%***********************]  1 of 1 completed\n",
      "[*********************100%***********************]  1 of 1 completed\n",
      "[*********************100%***********************]  1 of 1 completed\n",
      "[*********************100%***********************]  1 of 1 completed\n",
      "[*********************100%***********************]  1 of 1 completed\n",
      "[*********************100%***********************]  1 of 1 completed\n",
      "[*********************100%***********************]  1 of 1 completed\n",
      "[*********************100%***********************]  1 of 1 completed\n",
      "[*********************100%***********************]  1 of 1 completed\n",
      "[*********************100%***********************]  1 of 1 completed\n",
      "[*********************100%***********************]  1 of 1 completed\n",
      "[*********************100%***********************]  1 of 1 completed\n",
      "[*********************100%***********************]  1 of 1 completed\n",
      "[*********************100%***********************]  1 of 1 completed\n",
      "[*********************100%***********************]  1 of 1 completed\n",
      "[*********************100%***********************]  1 of 1 completed\n",
      "[*********************100%***********************]  1 of 1 completed\n",
      "[*********************100%***********************]  1 of 1 completed\n",
      "[*********************100%***********************]  1 of 1 completed\n",
      "[*********************100%***********************]  1 of 1 completed\n",
      "[*********************100%***********************]  1 of 1 completed\n",
      "[*********************100%***********************]  1 of 1 completed\n",
      "[*********************100%***********************]  1 of 1 completed\n",
      "[*********************100%***********************]  1 of 1 completed\n",
      "[*********************100%***********************]  1 of 1 completed\n",
      "[*********************100%***********************]  1 of 1 completed\n",
      "[*********************100%***********************]  1 of 1 completed\n",
      "[*********************100%***********************]  1 of 1 completed\n",
      "[*********************100%***********************]  1 of 1 completed\n",
      "[*********************100%***********************]  1 of 1 completed\n",
      "[*********************100%***********************]  1 of 1 completed\n",
      "[*********************100%***********************]  1 of 1 completed\n",
      "[*********************100%***********************]  1 of 1 completed\n",
      "[*********************100%***********************]  1 of 1 completed\n",
      "[*********************100%***********************]  1 of 1 completed\n",
      "[*********************100%***********************]  1 of 1 completed\n",
      "[*********************100%***********************]  1 of 1 completed\n",
      "[*********************100%***********************]  1 of 1 completed\n",
      "[*********************100%***********************]  1 of 1 completed\n",
      "[*********************100%***********************]  1 of 1 completed\n",
      "\n",
      "1 Failed download:\n",
      "['TWTR']: YFTzMissingError('possibly delisted; no timezone found')\n",
      "[*********************100%***********************]  1 of 1 completed\n",
      "[*********************100%***********************]  1 of 1 completed\n",
      "[*********************100%***********************]  1 of 1 completed\n",
      "[*********************100%***********************]  1 of 1 completed\n",
      "[*********************100%***********************]  1 of 1 completed\n",
      "[*********************100%***********************]  1 of 1 completed\n",
      "[*********************100%***********************]  1 of 1 completed\n",
      "[*********************100%***********************]  1 of 1 completed\n",
      "[*********************100%***********************]  1 of 1 completed\n",
      "[*********************100%***********************]  1 of 1 completed\n",
      "[*********************100%***********************]  1 of 1 completed\n",
      "[*********************100%***********************]  1 of 1 completed\n",
      "[*********************100%***********************]  1 of 1 completed\n",
      "[*********************100%***********************]  1 of 1 completed\n",
      "[*********************100%***********************]  1 of 1 completed\n",
      "[*********************100%***********************]  1 of 1 completed\n",
      "[*********************100%***********************]  1 of 1 completed\n"
     ]
    },
    {
     "name": "stdout",
     "output_type": "stream",
     "text": [
      "Omitted assets: ['CELG', 'TWTR']\n",
      "Time to fetch data: 13.24 seconds\n",
      "Max combination of assets with complete data: 91\n",
      "\u001b[1m16/16\u001b[0m \u001b[32m━━━━━━━━━━━━━━━━━━━━\u001b[0m\u001b[37m\u001b[0m \u001b[1m0s\u001b[0m 11ms/step\n"
     ]
    },
    {
     "data": {
      "application/vnd.plotly.v1+json": {
       "config": {
        "plotlyServerURL": "https://plotly.com"
       },
       "data": [
        {
         "mode": "lines",
         "name": "Training Loss",
         "type": "scatter",
         "x": {
          "bdata": "AQIDBAUGBwgJCgsMDQ4PEBESExQVFhcYGRobHB0e",
          "dtype": "i1"
         },
         "y": [
          0.0009763234411366284,
          0.00046275713248178363,
          0.0006114568677730858,
          0.0003664013056550175,
          0.00015974657435435802,
          0.00005194526966079138,
          0.00006780803960282356,
          0.0000696330243954435,
          0.00005179097570362501,
          0.00006293948536040261,
          0.00007791964162606746,
          0.00010324185859644786,
          0.000033423675631638616,
          0.00005328019324224442,
          0.00006288599979598075,
          0.000042406107240822166,
          0.00014027954603079706,
          0.00007705308962613344,
          0.00010053844016510993,
          0.0001105273186112754,
          0.000048346835683332756,
          0.00005182769746170379,
          0.0000662616512272507,
          0.000049783222493715584,
          0.0000609523085586261,
          0.00004004376751254313,
          0.00003131475386908278,
          0.000031182287784758955,
          0.000037491718103410676,
          0.000027523374228621833
         ]
        },
        {
         "mode": "lines",
         "name": "Validation Loss",
         "type": "scatter",
         "x": {
          "bdata": "AQIDBAUGBwgJCgsMDQ4PEBESExQVFhcYGRobHB0e",
          "dtype": "i1"
         },
         "y": [
          0.0859343409538269,
          0.031315311789512634,
          0.02677946165204048,
          0.01044068019837141,
          0.00007843293133191764,
          0.000016272055290755816,
          0.0000758261521696113,
          0.000007884722435846925,
          0.00008564163726987317,
          0.00022982632799539715,
          0.0004381868347991258,
          0.00008588341006543487,
          0.00002803995448630303,
          0.00041933180182240903,
          7.546987035311759e-8,
          0.0001759890583343804,
          0.0011551030911505222,
          0.0001847053354140371,
          0.0000031161116567091085,
          0.0010377600556239486,
          0.00028161704540252686,
          0.00005724127549910918,
          0.00005721241541323252,
          9.699130032458925e-8,
          0.0002370110887568444,
          0.000006762863904441474,
          2.8802566021113307e-7,
          0.00013966210826765746,
          0.000046759381802985445,
          0.00010223421122645959
         ]
        }
       ],
       "layout": {
        "legend": {
         "title": {
          "text": "Type of Loss"
         }
        },
        "template": {
         "data": {
          "bar": [
           {
            "error_x": {
             "color": "#2a3f5f"
            },
            "error_y": {
             "color": "#2a3f5f"
            },
            "marker": {
             "line": {
              "color": "#E5ECF6",
              "width": 0.5
             },
             "pattern": {
              "fillmode": "overlay",
              "size": 10,
              "solidity": 0.2
             }
            },
            "type": "bar"
           }
          ],
          "barpolar": [
           {
            "marker": {
             "line": {
              "color": "#E5ECF6",
              "width": 0.5
             },
             "pattern": {
              "fillmode": "overlay",
              "size": 10,
              "solidity": 0.2
             }
            },
            "type": "barpolar"
           }
          ],
          "carpet": [
           {
            "aaxis": {
             "endlinecolor": "#2a3f5f",
             "gridcolor": "white",
             "linecolor": "white",
             "minorgridcolor": "white",
             "startlinecolor": "#2a3f5f"
            },
            "baxis": {
             "endlinecolor": "#2a3f5f",
             "gridcolor": "white",
             "linecolor": "white",
             "minorgridcolor": "white",
             "startlinecolor": "#2a3f5f"
            },
            "type": "carpet"
           }
          ],
          "choropleth": [
           {
            "colorbar": {
             "outlinewidth": 0,
             "ticks": ""
            },
            "type": "choropleth"
           }
          ],
          "contour": [
           {
            "colorbar": {
             "outlinewidth": 0,
             "ticks": ""
            },
            "colorscale": [
             [
              0,
              "#0d0887"
             ],
             [
              0.1111111111111111,
              "#46039f"
             ],
             [
              0.2222222222222222,
              "#7201a8"
             ],
             [
              0.3333333333333333,
              "#9c179e"
             ],
             [
              0.4444444444444444,
              "#bd3786"
             ],
             [
              0.5555555555555556,
              "#d8576b"
             ],
             [
              0.6666666666666666,
              "#ed7953"
             ],
             [
              0.7777777777777778,
              "#fb9f3a"
             ],
             [
              0.8888888888888888,
              "#fdca26"
             ],
             [
              1,
              "#f0f921"
             ]
            ],
            "type": "contour"
           }
          ],
          "contourcarpet": [
           {
            "colorbar": {
             "outlinewidth": 0,
             "ticks": ""
            },
            "type": "contourcarpet"
           }
          ],
          "heatmap": [
           {
            "colorbar": {
             "outlinewidth": 0,
             "ticks": ""
            },
            "colorscale": [
             [
              0,
              "#0d0887"
             ],
             [
              0.1111111111111111,
              "#46039f"
             ],
             [
              0.2222222222222222,
              "#7201a8"
             ],
             [
              0.3333333333333333,
              "#9c179e"
             ],
             [
              0.4444444444444444,
              "#bd3786"
             ],
             [
              0.5555555555555556,
              "#d8576b"
             ],
             [
              0.6666666666666666,
              "#ed7953"
             ],
             [
              0.7777777777777778,
              "#fb9f3a"
             ],
             [
              0.8888888888888888,
              "#fdca26"
             ],
             [
              1,
              "#f0f921"
             ]
            ],
            "type": "heatmap"
           }
          ],
          "histogram": [
           {
            "marker": {
             "pattern": {
              "fillmode": "overlay",
              "size": 10,
              "solidity": 0.2
             }
            },
            "type": "histogram"
           }
          ],
          "histogram2d": [
           {
            "colorbar": {
             "outlinewidth": 0,
             "ticks": ""
            },
            "colorscale": [
             [
              0,
              "#0d0887"
             ],
             [
              0.1111111111111111,
              "#46039f"
             ],
             [
              0.2222222222222222,
              "#7201a8"
             ],
             [
              0.3333333333333333,
              "#9c179e"
             ],
             [
              0.4444444444444444,
              "#bd3786"
             ],
             [
              0.5555555555555556,
              "#d8576b"
             ],
             [
              0.6666666666666666,
              "#ed7953"
             ],
             [
              0.7777777777777778,
              "#fb9f3a"
             ],
             [
              0.8888888888888888,
              "#fdca26"
             ],
             [
              1,
              "#f0f921"
             ]
            ],
            "type": "histogram2d"
           }
          ],
          "histogram2dcontour": [
           {
            "colorbar": {
             "outlinewidth": 0,
             "ticks": ""
            },
            "colorscale": [
             [
              0,
              "#0d0887"
             ],
             [
              0.1111111111111111,
              "#46039f"
             ],
             [
              0.2222222222222222,
              "#7201a8"
             ],
             [
              0.3333333333333333,
              "#9c179e"
             ],
             [
              0.4444444444444444,
              "#bd3786"
             ],
             [
              0.5555555555555556,
              "#d8576b"
             ],
             [
              0.6666666666666666,
              "#ed7953"
             ],
             [
              0.7777777777777778,
              "#fb9f3a"
             ],
             [
              0.8888888888888888,
              "#fdca26"
             ],
             [
              1,
              "#f0f921"
             ]
            ],
            "type": "histogram2dcontour"
           }
          ],
          "mesh3d": [
           {
            "colorbar": {
             "outlinewidth": 0,
             "ticks": ""
            },
            "type": "mesh3d"
           }
          ],
          "parcoords": [
           {
            "line": {
             "colorbar": {
              "outlinewidth": 0,
              "ticks": ""
             }
            },
            "type": "parcoords"
           }
          ],
          "pie": [
           {
            "automargin": true,
            "type": "pie"
           }
          ],
          "scatter": [
           {
            "fillpattern": {
             "fillmode": "overlay",
             "size": 10,
             "solidity": 0.2
            },
            "type": "scatter"
           }
          ],
          "scatter3d": [
           {
            "line": {
             "colorbar": {
              "outlinewidth": 0,
              "ticks": ""
             }
            },
            "marker": {
             "colorbar": {
              "outlinewidth": 0,
              "ticks": ""
             }
            },
            "type": "scatter3d"
           }
          ],
          "scattercarpet": [
           {
            "marker": {
             "colorbar": {
              "outlinewidth": 0,
              "ticks": ""
             }
            },
            "type": "scattercarpet"
           }
          ],
          "scattergeo": [
           {
            "marker": {
             "colorbar": {
              "outlinewidth": 0,
              "ticks": ""
             }
            },
            "type": "scattergeo"
           }
          ],
          "scattergl": [
           {
            "marker": {
             "colorbar": {
              "outlinewidth": 0,
              "ticks": ""
             }
            },
            "type": "scattergl"
           }
          ],
          "scattermap": [
           {
            "marker": {
             "colorbar": {
              "outlinewidth": 0,
              "ticks": ""
             }
            },
            "type": "scattermap"
           }
          ],
          "scattermapbox": [
           {
            "marker": {
             "colorbar": {
              "outlinewidth": 0,
              "ticks": ""
             }
            },
            "type": "scattermapbox"
           }
          ],
          "scatterpolar": [
           {
            "marker": {
             "colorbar": {
              "outlinewidth": 0,
              "ticks": ""
             }
            },
            "type": "scatterpolar"
           }
          ],
          "scatterpolargl": [
           {
            "marker": {
             "colorbar": {
              "outlinewidth": 0,
              "ticks": ""
             }
            },
            "type": "scatterpolargl"
           }
          ],
          "scatterternary": [
           {
            "marker": {
             "colorbar": {
              "outlinewidth": 0,
              "ticks": ""
             }
            },
            "type": "scatterternary"
           }
          ],
          "surface": [
           {
            "colorbar": {
             "outlinewidth": 0,
             "ticks": ""
            },
            "colorscale": [
             [
              0,
              "#0d0887"
             ],
             [
              0.1111111111111111,
              "#46039f"
             ],
             [
              0.2222222222222222,
              "#7201a8"
             ],
             [
              0.3333333333333333,
              "#9c179e"
             ],
             [
              0.4444444444444444,
              "#bd3786"
             ],
             [
              0.5555555555555556,
              "#d8576b"
             ],
             [
              0.6666666666666666,
              "#ed7953"
             ],
             [
              0.7777777777777778,
              "#fb9f3a"
             ],
             [
              0.8888888888888888,
              "#fdca26"
             ],
             [
              1,
              "#f0f921"
             ]
            ],
            "type": "surface"
           }
          ],
          "table": [
           {
            "cells": {
             "fill": {
              "color": "#EBF0F8"
             },
             "line": {
              "color": "white"
             }
            },
            "header": {
             "fill": {
              "color": "#C8D4E3"
             },
             "line": {
              "color": "white"
             }
            },
            "type": "table"
           }
          ]
         },
         "layout": {
          "annotationdefaults": {
           "arrowcolor": "#2a3f5f",
           "arrowhead": 0,
           "arrowwidth": 1
          },
          "autotypenumbers": "strict",
          "coloraxis": {
           "colorbar": {
            "outlinewidth": 0,
            "ticks": ""
           }
          },
          "colorscale": {
           "diverging": [
            [
             0,
             "#8e0152"
            ],
            [
             0.1,
             "#c51b7d"
            ],
            [
             0.2,
             "#de77ae"
            ],
            [
             0.3,
             "#f1b6da"
            ],
            [
             0.4,
             "#fde0ef"
            ],
            [
             0.5,
             "#f7f7f7"
            ],
            [
             0.6,
             "#e6f5d0"
            ],
            [
             0.7,
             "#b8e186"
            ],
            [
             0.8,
             "#7fbc41"
            ],
            [
             0.9,
             "#4d9221"
            ],
            [
             1,
             "#276419"
            ]
           ],
           "sequential": [
            [
             0,
             "#0d0887"
            ],
            [
             0.1111111111111111,
             "#46039f"
            ],
            [
             0.2222222222222222,
             "#7201a8"
            ],
            [
             0.3333333333333333,
             "#9c179e"
            ],
            [
             0.4444444444444444,
             "#bd3786"
            ],
            [
             0.5555555555555556,
             "#d8576b"
            ],
            [
             0.6666666666666666,
             "#ed7953"
            ],
            [
             0.7777777777777778,
             "#fb9f3a"
            ],
            [
             0.8888888888888888,
             "#fdca26"
            ],
            [
             1,
             "#f0f921"
            ]
           ],
           "sequentialminus": [
            [
             0,
             "#0d0887"
            ],
            [
             0.1111111111111111,
             "#46039f"
            ],
            [
             0.2222222222222222,
             "#7201a8"
            ],
            [
             0.3333333333333333,
             "#9c179e"
            ],
            [
             0.4444444444444444,
             "#bd3786"
            ],
            [
             0.5555555555555556,
             "#d8576b"
            ],
            [
             0.6666666666666666,
             "#ed7953"
            ],
            [
             0.7777777777777778,
             "#fb9f3a"
            ],
            [
             0.8888888888888888,
             "#fdca26"
            ],
            [
             1,
             "#f0f921"
            ]
           ]
          },
          "colorway": [
           "#636efa",
           "#EF553B",
           "#00cc96",
           "#ab63fa",
           "#FFA15A",
           "#19d3f3",
           "#FF6692",
           "#B6E880",
           "#FF97FF",
           "#FECB52"
          ],
          "font": {
           "color": "#2a3f5f"
          },
          "geo": {
           "bgcolor": "white",
           "lakecolor": "white",
           "landcolor": "#E5ECF6",
           "showlakes": true,
           "showland": true,
           "subunitcolor": "white"
          },
          "hoverlabel": {
           "align": "left"
          },
          "hovermode": "closest",
          "mapbox": {
           "style": "light"
          },
          "paper_bgcolor": "white",
          "plot_bgcolor": "#E5ECF6",
          "polar": {
           "angularaxis": {
            "gridcolor": "white",
            "linecolor": "white",
            "ticks": ""
           },
           "bgcolor": "#E5ECF6",
           "radialaxis": {
            "gridcolor": "white",
            "linecolor": "white",
            "ticks": ""
           }
          },
          "scene": {
           "xaxis": {
            "backgroundcolor": "#E5ECF6",
            "gridcolor": "white",
            "gridwidth": 2,
            "linecolor": "white",
            "showbackground": true,
            "ticks": "",
            "zerolinecolor": "white"
           },
           "yaxis": {
            "backgroundcolor": "#E5ECF6",
            "gridcolor": "white",
            "gridwidth": 2,
            "linecolor": "white",
            "showbackground": true,
            "ticks": "",
            "zerolinecolor": "white"
           },
           "zaxis": {
            "backgroundcolor": "#E5ECF6",
            "gridcolor": "white",
            "gridwidth": 2,
            "linecolor": "white",
            "showbackground": true,
            "ticks": "",
            "zerolinecolor": "white"
           }
          },
          "shapedefaults": {
           "line": {
            "color": "#2a3f5f"
           }
          },
          "ternary": {
           "aaxis": {
            "gridcolor": "white",
            "linecolor": "white",
            "ticks": ""
           },
           "baxis": {
            "gridcolor": "white",
            "linecolor": "white",
            "ticks": ""
           },
           "bgcolor": "#E5ECF6",
           "caxis": {
            "gridcolor": "white",
            "linecolor": "white",
            "ticks": ""
           }
          },
          "title": {
           "x": 0.05
          },
          "xaxis": {
           "automargin": true,
           "gridcolor": "white",
           "linecolor": "white",
           "ticks": "",
           "title": {
            "standoff": 15
           },
           "zerolinecolor": "white",
           "zerolinewidth": 2
          },
          "yaxis": {
           "automargin": true,
           "gridcolor": "white",
           "linecolor": "white",
           "ticks": "",
           "title": {
            "standoff": 15
           },
           "zerolinecolor": "white",
           "zerolinewidth": 2
          }
         }
        },
        "title": {
         "text": "Training and Validation Loss Over Epochs"
        },
        "xaxis": {
         "title": {
          "text": "Epoch"
         }
        },
        "yaxis": {
         "title": {
          "text": "Loss"
         }
        }
       }
      }
     },
     "metadata": {},
     "output_type": "display_data"
    },
    {
     "data": {
      "application/vnd.plotly.v1+json": {
       "config": {
        "plotlyServerURL": "https://plotly.com"
       },
       "data": [
        {
         "mode": "lines",
         "name": "Actual Training Returns",
         "type": "scatter",
         "x": [
          "2015-01-02T00:00:00.000000000",
          "2015-01-05T00:00:00.000000000",
          "2015-01-06T00:00:00.000000000",
          "2015-01-07T00:00:00.000000000",
          "2015-01-08T00:00:00.000000000",
          "2015-01-09T00:00:00.000000000",
          "2015-01-12T00:00:00.000000000",
          "2015-01-13T00:00:00.000000000",
          "2015-01-14T00:00:00.000000000",
          "2015-01-15T00:00:00.000000000",
          "2015-01-16T00:00:00.000000000",
          "2015-01-20T00:00:00.000000000",
          "2015-01-21T00:00:00.000000000",
          "2015-01-22T00:00:00.000000000",
          "2015-01-23T00:00:00.000000000",
          "2015-01-26T00:00:00.000000000",
          "2015-01-27T00:00:00.000000000",
          "2015-01-28T00:00:00.000000000",
          "2015-01-29T00:00:00.000000000",
          "2015-01-30T00:00:00.000000000",
          "2015-02-02T00:00:00.000000000",
          "2015-02-03T00:00:00.000000000",
          "2015-02-04T00:00:00.000000000",
          "2015-02-05T00:00:00.000000000",
          "2015-02-06T00:00:00.000000000",
          "2015-02-09T00:00:00.000000000",
          "2015-02-10T00:00:00.000000000",
          "2015-02-11T00:00:00.000000000",
          "2015-02-12T00:00:00.000000000",
          "2015-02-13T00:00:00.000000000",
          "2015-02-17T00:00:00.000000000",
          "2015-02-18T00:00:00.000000000",
          "2015-02-19T00:00:00.000000000",
          "2015-02-20T00:00:00.000000000",
          "2015-02-23T00:00:00.000000000",
          "2015-02-24T00:00:00.000000000",
          "2015-02-25T00:00:00.000000000",
          "2015-02-26T00:00:00.000000000",
          "2015-02-27T00:00:00.000000000",
          "2015-03-02T00:00:00.000000000",
          "2015-03-03T00:00:00.000000000",
          "2015-03-04T00:00:00.000000000",
          "2015-03-05T00:00:00.000000000",
          "2015-03-06T00:00:00.000000000",
          "2015-03-09T00:00:00.000000000",
          "2015-03-10T00:00:00.000000000",
          "2015-03-11T00:00:00.000000000",
          "2015-03-12T00:00:00.000000000",
          "2015-03-13T00:00:00.000000000",
          "2015-03-16T00:00:00.000000000",
          "2015-03-17T00:00:00.000000000",
          "2015-03-18T00:00:00.000000000",
          "2015-03-19T00:00:00.000000000",
          "2015-03-20T00:00:00.000000000",
          "2015-03-23T00:00:00.000000000",
          "2015-03-24T00:00:00.000000000",
          "2015-03-25T00:00:00.000000000",
          "2015-03-26T00:00:00.000000000",
          "2015-03-27T00:00:00.000000000",
          "2015-03-30T00:00:00.000000000",
          "2015-03-31T00:00:00.000000000",
          "2015-04-01T00:00:00.000000000",
          "2015-04-02T00:00:00.000000000",
          "2015-04-06T00:00:00.000000000",
          "2015-04-07T00:00:00.000000000",
          "2015-04-08T00:00:00.000000000",
          "2015-04-09T00:00:00.000000000",
          "2015-04-10T00:00:00.000000000",
          "2015-04-13T00:00:00.000000000",
          "2015-04-14T00:00:00.000000000",
          "2015-04-15T00:00:00.000000000",
          "2015-04-16T00:00:00.000000000",
          "2015-04-17T00:00:00.000000000",
          "2015-04-20T00:00:00.000000000",
          "2015-04-21T00:00:00.000000000",
          "2015-04-22T00:00:00.000000000",
          "2015-04-23T00:00:00.000000000",
          "2015-04-24T00:00:00.000000000",
          "2015-04-27T00:00:00.000000000",
          "2015-04-28T00:00:00.000000000",
          "2015-04-29T00:00:00.000000000",
          "2015-04-30T00:00:00.000000000",
          "2015-05-01T00:00:00.000000000",
          "2015-05-04T00:00:00.000000000",
          "2015-05-05T00:00:00.000000000",
          "2015-05-06T00:00:00.000000000",
          "2015-05-07T00:00:00.000000000",
          "2015-05-08T00:00:00.000000000",
          "2015-05-11T00:00:00.000000000",
          "2015-05-12T00:00:00.000000000",
          "2015-05-13T00:00:00.000000000",
          "2015-05-14T00:00:00.000000000",
          "2015-05-15T00:00:00.000000000",
          "2015-05-18T00:00:00.000000000",
          "2015-05-19T00:00:00.000000000",
          "2015-05-20T00:00:00.000000000",
          "2015-05-21T00:00:00.000000000",
          "2015-05-22T00:00:00.000000000",
          "2015-05-26T00:00:00.000000000",
          "2015-05-27T00:00:00.000000000",
          "2015-05-28T00:00:00.000000000",
          "2015-05-29T00:00:00.000000000",
          "2015-06-01T00:00:00.000000000",
          "2015-06-02T00:00:00.000000000",
          "2015-06-03T00:00:00.000000000",
          "2015-06-04T00:00:00.000000000",
          "2015-06-05T00:00:00.000000000",
          "2015-06-08T00:00:00.000000000",
          "2015-06-09T00:00:00.000000000",
          "2015-06-10T00:00:00.000000000",
          "2015-06-11T00:00:00.000000000",
          "2015-06-12T00:00:00.000000000",
          "2015-06-15T00:00:00.000000000",
          "2015-06-16T00:00:00.000000000",
          "2015-06-17T00:00:00.000000000",
          "2015-06-18T00:00:00.000000000",
          "2015-06-19T00:00:00.000000000",
          "2015-06-22T00:00:00.000000000",
          "2015-06-23T00:00:00.000000000",
          "2015-06-24T00:00:00.000000000",
          "2015-06-25T00:00:00.000000000",
          "2015-06-26T00:00:00.000000000",
          "2015-06-29T00:00:00.000000000",
          "2015-06-30T00:00:00.000000000",
          "2015-07-01T00:00:00.000000000",
          "2015-07-02T00:00:00.000000000",
          "2015-07-06T00:00:00.000000000",
          "2015-07-07T00:00:00.000000000",
          "2015-07-08T00:00:00.000000000",
          "2015-07-09T00:00:00.000000000",
          "2015-07-10T00:00:00.000000000",
          "2015-07-13T00:00:00.000000000",
          "2015-07-14T00:00:00.000000000",
          "2015-07-15T00:00:00.000000000",
          "2015-07-16T00:00:00.000000000",
          "2015-07-17T00:00:00.000000000",
          "2015-07-20T00:00:00.000000000",
          "2015-07-21T00:00:00.000000000",
          "2015-07-22T00:00:00.000000000",
          "2015-07-23T00:00:00.000000000",
          "2015-07-24T00:00:00.000000000",
          "2015-07-27T00:00:00.000000000",
          "2015-07-28T00:00:00.000000000",
          "2015-07-29T00:00:00.000000000",
          "2015-07-30T00:00:00.000000000",
          "2015-07-31T00:00:00.000000000",
          "2015-08-03T00:00:00.000000000",
          "2015-08-04T00:00:00.000000000",
          "2015-08-05T00:00:00.000000000",
          "2015-08-06T00:00:00.000000000",
          "2015-08-07T00:00:00.000000000",
          "2015-08-10T00:00:00.000000000",
          "2015-08-11T00:00:00.000000000",
          "2015-08-12T00:00:00.000000000",
          "2015-08-13T00:00:00.000000000",
          "2015-08-14T00:00:00.000000000",
          "2015-08-17T00:00:00.000000000",
          "2015-08-18T00:00:00.000000000",
          "2015-08-19T00:00:00.000000000",
          "2015-08-20T00:00:00.000000000",
          "2015-08-21T00:00:00.000000000",
          "2015-08-24T00:00:00.000000000",
          "2015-08-25T00:00:00.000000000",
          "2015-08-26T00:00:00.000000000",
          "2015-08-27T00:00:00.000000000",
          "2015-08-28T00:00:00.000000000",
          "2015-08-31T00:00:00.000000000",
          "2015-09-01T00:00:00.000000000",
          "2015-09-02T00:00:00.000000000",
          "2015-09-03T00:00:00.000000000",
          "2015-09-04T00:00:00.000000000",
          "2015-09-08T00:00:00.000000000",
          "2015-09-09T00:00:00.000000000",
          "2015-09-10T00:00:00.000000000",
          "2015-09-11T00:00:00.000000000",
          "2015-09-14T00:00:00.000000000",
          "2015-09-15T00:00:00.000000000",
          "2015-09-16T00:00:00.000000000",
          "2015-09-17T00:00:00.000000000",
          "2015-09-18T00:00:00.000000000",
          "2015-09-21T00:00:00.000000000",
          "2015-09-22T00:00:00.000000000",
          "2015-09-23T00:00:00.000000000",
          "2015-09-24T00:00:00.000000000",
          "2015-09-25T00:00:00.000000000",
          "2015-09-28T00:00:00.000000000",
          "2015-09-29T00:00:00.000000000",
          "2015-09-30T00:00:00.000000000",
          "2015-10-01T00:00:00.000000000",
          "2015-10-02T00:00:00.000000000",
          "2015-10-05T00:00:00.000000000",
          "2015-10-06T00:00:00.000000000",
          "2015-10-07T00:00:00.000000000",
          "2015-10-08T00:00:00.000000000",
          "2015-10-09T00:00:00.000000000",
          "2015-10-12T00:00:00.000000000",
          "2015-10-13T00:00:00.000000000",
          "2015-10-14T00:00:00.000000000",
          "2015-10-15T00:00:00.000000000",
          "2015-10-16T00:00:00.000000000",
          "2015-10-19T00:00:00.000000000",
          "2015-10-20T00:00:00.000000000",
          "2015-10-21T00:00:00.000000000",
          "2015-10-22T00:00:00.000000000",
          "2015-10-23T00:00:00.000000000",
          "2015-10-26T00:00:00.000000000",
          "2015-10-27T00:00:00.000000000",
          "2015-10-28T00:00:00.000000000",
          "2015-10-29T00:00:00.000000000",
          "2015-10-30T00:00:00.000000000",
          "2015-11-02T00:00:00.000000000",
          "2015-11-03T00:00:00.000000000",
          "2015-11-04T00:00:00.000000000",
          "2015-11-05T00:00:00.000000000",
          "2015-11-06T00:00:00.000000000",
          "2015-11-09T00:00:00.000000000",
          "2015-11-10T00:00:00.000000000",
          "2015-11-11T00:00:00.000000000",
          "2015-11-12T00:00:00.000000000",
          "2015-11-13T00:00:00.000000000",
          "2015-11-16T00:00:00.000000000",
          "2015-11-17T00:00:00.000000000",
          "2015-11-18T00:00:00.000000000",
          "2015-11-19T00:00:00.000000000",
          "2015-11-20T00:00:00.000000000",
          "2015-11-23T00:00:00.000000000",
          "2015-11-24T00:00:00.000000000",
          "2015-11-25T00:00:00.000000000",
          "2015-11-27T00:00:00.000000000",
          "2015-11-30T00:00:00.000000000",
          "2015-12-01T00:00:00.000000000",
          "2015-12-02T00:00:00.000000000",
          "2015-12-03T00:00:00.000000000",
          "2015-12-04T00:00:00.000000000",
          "2015-12-07T00:00:00.000000000",
          "2015-12-08T00:00:00.000000000",
          "2015-12-09T00:00:00.000000000",
          "2015-12-10T00:00:00.000000000",
          "2015-12-11T00:00:00.000000000",
          "2015-12-14T00:00:00.000000000",
          "2015-12-15T00:00:00.000000000",
          "2015-12-16T00:00:00.000000000",
          "2015-12-17T00:00:00.000000000",
          "2015-12-18T00:00:00.000000000",
          "2015-12-21T00:00:00.000000000",
          "2015-12-22T00:00:00.000000000",
          "2015-12-23T00:00:00.000000000",
          "2015-12-24T00:00:00.000000000",
          "2015-12-28T00:00:00.000000000",
          "2015-12-29T00:00:00.000000000",
          "2015-12-30T00:00:00.000000000",
          "2015-12-31T00:00:00.000000000",
          "2016-01-04T00:00:00.000000000",
          "2016-01-05T00:00:00.000000000",
          "2016-01-06T00:00:00.000000000",
          "2016-01-07T00:00:00.000000000",
          "2016-01-08T00:00:00.000000000",
          "2016-01-11T00:00:00.000000000",
          "2016-01-12T00:00:00.000000000",
          "2016-01-13T00:00:00.000000000",
          "2016-01-14T00:00:00.000000000",
          "2016-01-15T00:00:00.000000000",
          "2016-01-19T00:00:00.000000000",
          "2016-01-20T00:00:00.000000000",
          "2016-01-21T00:00:00.000000000",
          "2016-01-22T00:00:00.000000000",
          "2016-01-25T00:00:00.000000000",
          "2016-01-26T00:00:00.000000000",
          "2016-01-27T00:00:00.000000000",
          "2016-01-28T00:00:00.000000000",
          "2016-01-29T00:00:00.000000000",
          "2016-02-01T00:00:00.000000000",
          "2016-02-02T00:00:00.000000000",
          "2016-02-03T00:00:00.000000000",
          "2016-02-04T00:00:00.000000000",
          "2016-02-05T00:00:00.000000000",
          "2016-02-08T00:00:00.000000000",
          "2016-02-09T00:00:00.000000000",
          "2016-02-10T00:00:00.000000000",
          "2016-02-11T00:00:00.000000000",
          "2016-02-12T00:00:00.000000000",
          "2016-02-16T00:00:00.000000000",
          "2016-02-17T00:00:00.000000000",
          "2016-02-18T00:00:00.000000000",
          "2016-02-19T00:00:00.000000000",
          "2016-02-22T00:00:00.000000000",
          "2016-02-23T00:00:00.000000000",
          "2016-02-24T00:00:00.000000000",
          "2016-02-25T00:00:00.000000000",
          "2016-02-26T00:00:00.000000000",
          "2016-02-29T00:00:00.000000000",
          "2016-03-01T00:00:00.000000000",
          "2016-03-02T00:00:00.000000000",
          "2016-03-03T00:00:00.000000000",
          "2016-03-04T00:00:00.000000000",
          "2016-03-07T00:00:00.000000000",
          "2016-03-08T00:00:00.000000000",
          "2016-03-09T00:00:00.000000000",
          "2016-03-10T00:00:00.000000000",
          "2016-03-11T00:00:00.000000000",
          "2016-03-14T00:00:00.000000000",
          "2016-03-15T00:00:00.000000000",
          "2016-03-16T00:00:00.000000000",
          "2016-03-17T00:00:00.000000000",
          "2016-03-18T00:00:00.000000000",
          "2016-03-21T00:00:00.000000000",
          "2016-03-22T00:00:00.000000000",
          "2016-03-23T00:00:00.000000000",
          "2016-03-24T00:00:00.000000000",
          "2016-03-28T00:00:00.000000000",
          "2016-03-29T00:00:00.000000000",
          "2016-03-30T00:00:00.000000000",
          "2016-03-31T00:00:00.000000000",
          "2016-04-01T00:00:00.000000000",
          "2016-04-04T00:00:00.000000000",
          "2016-04-05T00:00:00.000000000",
          "2016-04-06T00:00:00.000000000",
          "2016-04-07T00:00:00.000000000",
          "2016-04-08T00:00:00.000000000",
          "2016-04-11T00:00:00.000000000",
          "2016-04-12T00:00:00.000000000",
          "2016-04-13T00:00:00.000000000",
          "2016-04-14T00:00:00.000000000",
          "2016-04-15T00:00:00.000000000",
          "2016-04-18T00:00:00.000000000",
          "2016-04-19T00:00:00.000000000",
          "2016-04-20T00:00:00.000000000",
          "2016-04-21T00:00:00.000000000",
          "2016-04-22T00:00:00.000000000",
          "2016-04-25T00:00:00.000000000",
          "2016-04-26T00:00:00.000000000",
          "2016-04-27T00:00:00.000000000",
          "2016-04-28T00:00:00.000000000",
          "2016-04-29T00:00:00.000000000",
          "2016-05-02T00:00:00.000000000",
          "2016-05-03T00:00:00.000000000",
          "2016-05-04T00:00:00.000000000",
          "2016-05-05T00:00:00.000000000",
          "2016-05-06T00:00:00.000000000",
          "2016-05-09T00:00:00.000000000",
          "2016-05-10T00:00:00.000000000",
          "2016-05-11T00:00:00.000000000",
          "2016-05-12T00:00:00.000000000",
          "2016-05-13T00:00:00.000000000",
          "2016-05-16T00:00:00.000000000",
          "2016-05-17T00:00:00.000000000",
          "2016-05-18T00:00:00.000000000",
          "2016-05-19T00:00:00.000000000",
          "2016-05-20T00:00:00.000000000",
          "2016-05-23T00:00:00.000000000",
          "2016-05-24T00:00:00.000000000",
          "2016-05-25T00:00:00.000000000",
          "2016-05-26T00:00:00.000000000",
          "2016-05-27T00:00:00.000000000",
          "2016-05-31T00:00:00.000000000",
          "2016-06-01T00:00:00.000000000",
          "2016-06-02T00:00:00.000000000",
          "2016-06-03T00:00:00.000000000",
          "2016-06-06T00:00:00.000000000",
          "2016-06-07T00:00:00.000000000",
          "2016-06-08T00:00:00.000000000",
          "2016-06-09T00:00:00.000000000",
          "2016-06-10T00:00:00.000000000",
          "2016-06-13T00:00:00.000000000",
          "2016-06-14T00:00:00.000000000",
          "2016-06-15T00:00:00.000000000",
          "2016-06-16T00:00:00.000000000",
          "2016-06-17T00:00:00.000000000",
          "2016-06-20T00:00:00.000000000",
          "2016-06-21T00:00:00.000000000",
          "2016-06-22T00:00:00.000000000",
          "2016-06-23T00:00:00.000000000",
          "2016-06-24T00:00:00.000000000",
          "2016-06-27T00:00:00.000000000",
          "2016-06-28T00:00:00.000000000",
          "2016-06-29T00:00:00.000000000",
          "2016-06-30T00:00:00.000000000",
          "2016-07-01T00:00:00.000000000",
          "2016-07-05T00:00:00.000000000",
          "2016-07-06T00:00:00.000000000",
          "2016-07-07T00:00:00.000000000",
          "2016-07-08T00:00:00.000000000",
          "2016-07-11T00:00:00.000000000",
          "2016-07-12T00:00:00.000000000",
          "2016-07-13T00:00:00.000000000",
          "2016-07-14T00:00:00.000000000",
          "2016-07-15T00:00:00.000000000",
          "2016-07-18T00:00:00.000000000",
          "2016-07-19T00:00:00.000000000",
          "2016-07-20T00:00:00.000000000",
          "2016-07-21T00:00:00.000000000",
          "2016-07-22T00:00:00.000000000",
          "2016-07-25T00:00:00.000000000",
          "2016-07-26T00:00:00.000000000",
          "2016-07-27T00:00:00.000000000",
          "2016-07-28T00:00:00.000000000",
          "2016-07-29T00:00:00.000000000",
          "2016-08-01T00:00:00.000000000",
          "2016-08-02T00:00:00.000000000",
          "2016-08-03T00:00:00.000000000",
          "2016-08-04T00:00:00.000000000",
          "2016-08-05T00:00:00.000000000",
          "2016-08-08T00:00:00.000000000",
          "2016-08-09T00:00:00.000000000",
          "2016-08-10T00:00:00.000000000",
          "2016-08-11T00:00:00.000000000",
          "2016-08-12T00:00:00.000000000",
          "2016-08-15T00:00:00.000000000",
          "2016-08-16T00:00:00.000000000",
          "2016-08-17T00:00:00.000000000",
          "2016-08-18T00:00:00.000000000",
          "2016-08-19T00:00:00.000000000",
          "2016-08-22T00:00:00.000000000",
          "2016-08-23T00:00:00.000000000",
          "2016-08-24T00:00:00.000000000",
          "2016-08-25T00:00:00.000000000",
          "2016-08-26T00:00:00.000000000",
          "2016-08-29T00:00:00.000000000",
          "2016-08-30T00:00:00.000000000",
          "2016-08-31T00:00:00.000000000",
          "2016-09-01T00:00:00.000000000",
          "2016-09-02T00:00:00.000000000",
          "2016-09-06T00:00:00.000000000",
          "2016-09-07T00:00:00.000000000",
          "2016-09-08T00:00:00.000000000",
          "2016-09-09T00:00:00.000000000",
          "2016-09-12T00:00:00.000000000",
          "2016-09-13T00:00:00.000000000",
          "2016-09-14T00:00:00.000000000",
          "2016-09-15T00:00:00.000000000",
          "2016-09-16T00:00:00.000000000",
          "2016-09-19T00:00:00.000000000",
          "2016-09-20T00:00:00.000000000",
          "2016-09-21T00:00:00.000000000",
          "2016-09-22T00:00:00.000000000",
          "2016-09-23T00:00:00.000000000",
          "2016-09-26T00:00:00.000000000",
          "2016-09-27T00:00:00.000000000",
          "2016-09-28T00:00:00.000000000",
          "2016-09-29T00:00:00.000000000",
          "2016-09-30T00:00:00.000000000",
          "2016-10-03T00:00:00.000000000",
          "2016-10-04T00:00:00.000000000",
          "2016-10-05T00:00:00.000000000",
          "2016-10-06T00:00:00.000000000",
          "2016-10-07T00:00:00.000000000",
          "2016-10-10T00:00:00.000000000",
          "2016-10-11T00:00:00.000000000",
          "2016-10-12T00:00:00.000000000",
          "2016-10-13T00:00:00.000000000",
          "2016-10-14T00:00:00.000000000",
          "2016-10-17T00:00:00.000000000",
          "2016-10-18T00:00:00.000000000",
          "2016-10-19T00:00:00.000000000",
          "2016-10-20T00:00:00.000000000",
          "2016-10-21T00:00:00.000000000",
          "2016-10-24T00:00:00.000000000",
          "2016-10-25T00:00:00.000000000",
          "2016-10-26T00:00:00.000000000",
          "2016-10-27T00:00:00.000000000",
          "2016-10-28T00:00:00.000000000",
          "2016-10-31T00:00:00.000000000",
          "2016-11-01T00:00:00.000000000",
          "2016-11-02T00:00:00.000000000",
          "2016-11-03T00:00:00.000000000",
          "2016-11-04T00:00:00.000000000",
          "2016-11-07T00:00:00.000000000",
          "2016-11-08T00:00:00.000000000",
          "2016-11-09T00:00:00.000000000",
          "2016-11-10T00:00:00.000000000",
          "2016-11-11T00:00:00.000000000",
          "2016-11-14T00:00:00.000000000",
          "2016-11-15T00:00:00.000000000",
          "2016-11-16T00:00:00.000000000",
          "2016-11-17T00:00:00.000000000",
          "2016-11-18T00:00:00.000000000",
          "2016-11-21T00:00:00.000000000",
          "2016-11-22T00:00:00.000000000",
          "2016-11-23T00:00:00.000000000",
          "2016-11-25T00:00:00.000000000",
          "2016-11-28T00:00:00.000000000",
          "2016-11-29T00:00:00.000000000",
          "2016-11-30T00:00:00.000000000",
          "2016-12-01T00:00:00.000000000",
          "2016-12-02T00:00:00.000000000",
          "2016-12-05T00:00:00.000000000",
          "2016-12-06T00:00:00.000000000",
          "2016-12-07T00:00:00.000000000",
          "2016-12-08T00:00:00.000000000",
          "2016-12-09T00:00:00.000000000",
          "2016-12-12T00:00:00.000000000",
          "2016-12-13T00:00:00.000000000",
          "2016-12-14T00:00:00.000000000",
          "2016-12-15T00:00:00.000000000",
          "2016-12-16T00:00:00.000000000",
          "2016-12-19T00:00:00.000000000",
          "2016-12-20T00:00:00.000000000",
          "2016-12-21T00:00:00.000000000",
          "2016-12-22T00:00:00.000000000",
          "2016-12-23T00:00:00.000000000",
          "2016-12-27T00:00:00.000000000",
          "2016-12-28T00:00:00.000000000",
          "2016-12-29T00:00:00.000000000",
          "2016-12-30T00:00:00.000000000",
          "2017-01-03T00:00:00.000000000",
          "2017-01-04T00:00:00.000000000",
          "2017-01-05T00:00:00.000000000",
          "2017-01-06T00:00:00.000000000",
          "2017-01-09T00:00:00.000000000",
          "2017-01-10T00:00:00.000000000",
          "2017-01-11T00:00:00.000000000",
          "2017-01-12T00:00:00.000000000",
          "2017-01-13T00:00:00.000000000",
          "2017-01-17T00:00:00.000000000",
          "2017-01-18T00:00:00.000000000",
          "2017-01-19T00:00:00.000000000",
          "2017-01-20T00:00:00.000000000",
          "2017-01-23T00:00:00.000000000",
          "2017-01-24T00:00:00.000000000",
          "2017-01-25T00:00:00.000000000",
          "2017-01-26T00:00:00.000000000",
          "2017-01-27T00:00:00.000000000",
          "2017-01-30T00:00:00.000000000",
          "2017-01-31T00:00:00.000000000",
          "2017-02-01T00:00:00.000000000",
          "2017-02-02T00:00:00.000000000",
          "2017-02-03T00:00:00.000000000",
          "2017-02-06T00:00:00.000000000",
          "2017-02-07T00:00:00.000000000",
          "2017-02-08T00:00:00.000000000",
          "2017-02-09T00:00:00.000000000",
          "2017-02-10T00:00:00.000000000",
          "2017-02-13T00:00:00.000000000",
          "2017-02-14T00:00:00.000000000",
          "2017-02-15T00:00:00.000000000",
          "2017-02-16T00:00:00.000000000",
          "2017-02-17T00:00:00.000000000",
          "2017-02-21T00:00:00.000000000",
          "2017-02-22T00:00:00.000000000",
          "2017-02-23T00:00:00.000000000",
          "2017-02-24T00:00:00.000000000",
          "2017-02-27T00:00:00.000000000",
          "2017-02-28T00:00:00.000000000",
          "2017-03-01T00:00:00.000000000",
          "2017-03-02T00:00:00.000000000",
          "2017-03-03T00:00:00.000000000",
          "2017-03-06T00:00:00.000000000",
          "2017-03-07T00:00:00.000000000",
          "2017-03-08T00:00:00.000000000",
          "2017-03-09T00:00:00.000000000",
          "2017-03-10T00:00:00.000000000",
          "2017-03-13T00:00:00.000000000",
          "2017-03-14T00:00:00.000000000",
          "2017-03-15T00:00:00.000000000",
          "2017-03-16T00:00:00.000000000",
          "2017-03-17T00:00:00.000000000",
          "2017-03-20T00:00:00.000000000",
          "2017-03-21T00:00:00.000000000",
          "2017-03-22T00:00:00.000000000",
          "2017-03-23T00:00:00.000000000",
          "2017-03-24T00:00:00.000000000",
          "2017-03-27T00:00:00.000000000",
          "2017-03-28T00:00:00.000000000",
          "2017-03-29T00:00:00.000000000",
          "2017-03-30T00:00:00.000000000",
          "2017-03-31T00:00:00.000000000",
          "2017-04-03T00:00:00.000000000",
          "2017-04-04T00:00:00.000000000",
          "2017-04-05T00:00:00.000000000",
          "2017-04-06T00:00:00.000000000",
          "2017-04-07T00:00:00.000000000",
          "2017-04-10T00:00:00.000000000",
          "2017-04-11T00:00:00.000000000",
          "2017-04-12T00:00:00.000000000",
          "2017-04-13T00:00:00.000000000",
          "2017-04-17T00:00:00.000000000",
          "2017-04-18T00:00:00.000000000",
          "2017-04-19T00:00:00.000000000",
          "2017-04-20T00:00:00.000000000",
          "2017-04-21T00:00:00.000000000",
          "2017-04-24T00:00:00.000000000",
          "2017-04-25T00:00:00.000000000",
          "2017-04-26T00:00:00.000000000",
          "2017-04-27T00:00:00.000000000",
          "2017-04-28T00:00:00.000000000",
          "2017-05-01T00:00:00.000000000",
          "2017-05-02T00:00:00.000000000",
          "2017-05-03T00:00:00.000000000",
          "2017-05-04T00:00:00.000000000",
          "2017-05-05T00:00:00.000000000",
          "2017-05-08T00:00:00.000000000",
          "2017-05-09T00:00:00.000000000",
          "2017-05-10T00:00:00.000000000",
          "2017-05-11T00:00:00.000000000",
          "2017-05-12T00:00:00.000000000",
          "2017-05-15T00:00:00.000000000",
          "2017-05-16T00:00:00.000000000",
          "2017-05-17T00:00:00.000000000",
          "2017-05-18T00:00:00.000000000",
          "2017-05-19T00:00:00.000000000",
          "2017-05-22T00:00:00.000000000",
          "2017-05-23T00:00:00.000000000",
          "2017-05-24T00:00:00.000000000",
          "2017-05-25T00:00:00.000000000",
          "2017-05-26T00:00:00.000000000",
          "2017-05-30T00:00:00.000000000",
          "2017-05-31T00:00:00.000000000",
          "2017-06-01T00:00:00.000000000",
          "2017-06-02T00:00:00.000000000",
          "2017-06-05T00:00:00.000000000",
          "2017-06-06T00:00:00.000000000",
          "2017-06-07T00:00:00.000000000",
          "2017-06-08T00:00:00.000000000",
          "2017-06-09T00:00:00.000000000",
          "2017-06-12T00:00:00.000000000",
          "2017-06-13T00:00:00.000000000",
          "2017-06-14T00:00:00.000000000",
          "2017-06-15T00:00:00.000000000",
          "2017-06-16T00:00:00.000000000",
          "2017-06-19T00:00:00.000000000",
          "2017-06-20T00:00:00.000000000",
          "2017-06-21T00:00:00.000000000",
          "2017-06-22T00:00:00.000000000",
          "2017-06-23T00:00:00.000000000",
          "2017-06-26T00:00:00.000000000",
          "2017-06-27T00:00:00.000000000",
          "2017-06-28T00:00:00.000000000",
          "2017-06-29T00:00:00.000000000",
          "2017-06-30T00:00:00.000000000",
          "2017-07-03T00:00:00.000000000",
          "2017-07-05T00:00:00.000000000",
          "2017-07-06T00:00:00.000000000",
          "2017-07-07T00:00:00.000000000",
          "2017-07-10T00:00:00.000000000",
          "2017-07-11T00:00:00.000000000",
          "2017-07-12T00:00:00.000000000",
          "2017-07-13T00:00:00.000000000",
          "2017-07-14T00:00:00.000000000",
          "2017-07-17T00:00:00.000000000",
          "2017-07-18T00:00:00.000000000",
          "2017-07-19T00:00:00.000000000",
          "2017-07-20T00:00:00.000000000",
          "2017-07-21T00:00:00.000000000",
          "2017-07-24T00:00:00.000000000",
          "2017-07-25T00:00:00.000000000",
          "2017-07-26T00:00:00.000000000",
          "2017-07-27T00:00:00.000000000",
          "2017-07-28T00:00:00.000000000",
          "2017-07-31T00:00:00.000000000",
          "2017-08-01T00:00:00.000000000",
          "2017-08-02T00:00:00.000000000",
          "2017-08-03T00:00:00.000000000",
          "2017-08-04T00:00:00.000000000",
          "2017-08-07T00:00:00.000000000",
          "2017-08-08T00:00:00.000000000",
          "2017-08-09T00:00:00.000000000",
          "2017-08-10T00:00:00.000000000",
          "2017-08-11T00:00:00.000000000",
          "2017-08-14T00:00:00.000000000",
          "2017-08-15T00:00:00.000000000",
          "2017-08-16T00:00:00.000000000",
          "2017-08-17T00:00:00.000000000",
          "2017-08-18T00:00:00.000000000",
          "2017-08-21T00:00:00.000000000",
          "2017-08-22T00:00:00.000000000",
          "2017-08-23T00:00:00.000000000",
          "2017-08-24T00:00:00.000000000",
          "2017-08-25T00:00:00.000000000",
          "2017-08-28T00:00:00.000000000",
          "2017-08-29T00:00:00.000000000",
          "2017-08-30T00:00:00.000000000",
          "2017-08-31T00:00:00.000000000",
          "2017-09-01T00:00:00.000000000",
          "2017-09-05T00:00:00.000000000",
          "2017-09-06T00:00:00.000000000",
          "2017-09-07T00:00:00.000000000",
          "2017-09-08T00:00:00.000000000",
          "2017-09-11T00:00:00.000000000",
          "2017-09-12T00:00:00.000000000",
          "2017-09-13T00:00:00.000000000",
          "2017-09-14T00:00:00.000000000",
          "2017-09-15T00:00:00.000000000",
          "2017-09-18T00:00:00.000000000",
          "2017-09-19T00:00:00.000000000",
          "2017-09-20T00:00:00.000000000",
          "2017-09-21T00:00:00.000000000",
          "2017-09-22T00:00:00.000000000",
          "2017-09-25T00:00:00.000000000",
          "2017-09-26T00:00:00.000000000",
          "2017-09-27T00:00:00.000000000",
          "2017-09-28T00:00:00.000000000",
          "2017-09-29T00:00:00.000000000",
          "2017-10-02T00:00:00.000000000",
          "2017-10-03T00:00:00.000000000",
          "2017-10-04T00:00:00.000000000",
          "2017-10-05T00:00:00.000000000",
          "2017-10-06T00:00:00.000000000",
          "2017-10-09T00:00:00.000000000",
          "2017-10-10T00:00:00.000000000",
          "2017-10-11T00:00:00.000000000",
          "2017-10-12T00:00:00.000000000",
          "2017-10-13T00:00:00.000000000",
          "2017-10-16T00:00:00.000000000",
          "2017-10-17T00:00:00.000000000",
          "2017-10-18T00:00:00.000000000",
          "2017-10-19T00:00:00.000000000",
          "2017-10-20T00:00:00.000000000",
          "2017-10-23T00:00:00.000000000",
          "2017-10-24T00:00:00.000000000",
          "2017-10-25T00:00:00.000000000",
          "2017-10-26T00:00:00.000000000",
          "2017-10-27T00:00:00.000000000",
          "2017-10-30T00:00:00.000000000",
          "2017-10-31T00:00:00.000000000",
          "2017-11-01T00:00:00.000000000",
          "2017-11-02T00:00:00.000000000",
          "2017-11-03T00:00:00.000000000",
          "2017-11-06T00:00:00.000000000",
          "2017-11-07T00:00:00.000000000",
          "2017-11-08T00:00:00.000000000",
          "2017-11-09T00:00:00.000000000",
          "2017-11-10T00:00:00.000000000",
          "2017-11-13T00:00:00.000000000",
          "2017-11-14T00:00:00.000000000",
          "2017-11-15T00:00:00.000000000",
          "2017-11-16T00:00:00.000000000",
          "2017-11-17T00:00:00.000000000",
          "2017-11-20T00:00:00.000000000",
          "2017-11-21T00:00:00.000000000",
          "2017-11-22T00:00:00.000000000",
          "2017-11-24T00:00:00.000000000",
          "2017-11-27T00:00:00.000000000",
          "2017-11-28T00:00:00.000000000",
          "2017-11-29T00:00:00.000000000",
          "2017-11-30T00:00:00.000000000",
          "2017-12-01T00:00:00.000000000",
          "2017-12-04T00:00:00.000000000",
          "2017-12-05T00:00:00.000000000",
          "2017-12-06T00:00:00.000000000",
          "2017-12-07T00:00:00.000000000",
          "2017-12-08T00:00:00.000000000",
          "2017-12-11T00:00:00.000000000",
          "2017-12-12T00:00:00.000000000",
          "2017-12-13T00:00:00.000000000",
          "2017-12-14T00:00:00.000000000",
          "2017-12-15T00:00:00.000000000",
          "2017-12-18T00:00:00.000000000",
          "2017-12-19T00:00:00.000000000",
          "2017-12-20T00:00:00.000000000",
          "2017-12-21T00:00:00.000000000",
          "2017-12-22T00:00:00.000000000",
          "2017-12-26T00:00:00.000000000",
          "2017-12-27T00:00:00.000000000",
          "2017-12-28T00:00:00.000000000",
          "2017-12-29T00:00:00.000000000"
         ],
         "y": {
          "bdata": "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",
          "dtype": "f8"
         }
        },
        {
         "mode": "lines",
         "name": "Actual Test Returns",
         "type": "scatter",
         "x": [
          "2018-01-05T00:00:00.000000000",
          "2018-01-08T00:00:00.000000000",
          "2018-01-09T00:00:00.000000000",
          "2018-01-10T00:00:00.000000000",
          "2018-01-11T00:00:00.000000000",
          "2018-01-12T00:00:00.000000000",
          "2018-01-16T00:00:00.000000000",
          "2018-01-17T00:00:00.000000000",
          "2018-01-18T00:00:00.000000000",
          "2018-01-19T00:00:00.000000000",
          "2018-01-22T00:00:00.000000000",
          "2018-01-23T00:00:00.000000000",
          "2018-01-24T00:00:00.000000000",
          "2018-01-25T00:00:00.000000000",
          "2018-01-26T00:00:00.000000000",
          "2018-01-29T00:00:00.000000000",
          "2018-01-30T00:00:00.000000000",
          "2018-01-31T00:00:00.000000000",
          "2018-02-01T00:00:00.000000000",
          "2018-02-02T00:00:00.000000000",
          "2018-02-05T00:00:00.000000000",
          "2018-02-06T00:00:00.000000000",
          "2018-02-07T00:00:00.000000000",
          "2018-02-08T00:00:00.000000000",
          "2018-02-09T00:00:00.000000000",
          "2018-02-12T00:00:00.000000000",
          "2018-02-13T00:00:00.000000000",
          "2018-02-14T00:00:00.000000000",
          "2018-02-15T00:00:00.000000000",
          "2018-02-16T00:00:00.000000000",
          "2018-02-20T00:00:00.000000000",
          "2018-02-21T00:00:00.000000000",
          "2018-02-22T00:00:00.000000000",
          "2018-02-23T00:00:00.000000000",
          "2018-02-26T00:00:00.000000000",
          "2018-02-27T00:00:00.000000000",
          "2018-02-28T00:00:00.000000000",
          "2018-03-01T00:00:00.000000000",
          "2018-03-02T00:00:00.000000000",
          "2018-03-05T00:00:00.000000000",
          "2018-03-06T00:00:00.000000000",
          "2018-03-07T00:00:00.000000000",
          "2018-03-08T00:00:00.000000000",
          "2018-03-09T00:00:00.000000000",
          "2018-03-12T00:00:00.000000000",
          "2018-03-13T00:00:00.000000000",
          "2018-03-14T00:00:00.000000000",
          "2018-03-15T00:00:00.000000000",
          "2018-03-16T00:00:00.000000000",
          "2018-03-19T00:00:00.000000000",
          "2018-03-20T00:00:00.000000000",
          "2018-03-21T00:00:00.000000000",
          "2018-03-22T00:00:00.000000000",
          "2018-03-23T00:00:00.000000000",
          "2018-03-26T00:00:00.000000000",
          "2018-03-27T00:00:00.000000000",
          "2018-03-28T00:00:00.000000000",
          "2018-03-29T00:00:00.000000000",
          "2018-04-02T00:00:00.000000000",
          "2018-04-03T00:00:00.000000000",
          "2018-04-04T00:00:00.000000000",
          "2018-04-05T00:00:00.000000000",
          "2018-04-06T00:00:00.000000000",
          "2018-04-09T00:00:00.000000000",
          "2018-04-10T00:00:00.000000000",
          "2018-04-11T00:00:00.000000000",
          "2018-04-12T00:00:00.000000000",
          "2018-04-13T00:00:00.000000000",
          "2018-04-16T00:00:00.000000000",
          "2018-04-17T00:00:00.000000000",
          "2018-04-18T00:00:00.000000000",
          "2018-04-19T00:00:00.000000000",
          "2018-04-20T00:00:00.000000000",
          "2018-04-23T00:00:00.000000000",
          "2018-04-24T00:00:00.000000000",
          "2018-04-25T00:00:00.000000000",
          "2018-04-26T00:00:00.000000000",
          "2018-04-27T00:00:00.000000000",
          "2018-04-30T00:00:00.000000000",
          "2018-05-01T00:00:00.000000000",
          "2018-05-02T00:00:00.000000000",
          "2018-05-03T00:00:00.000000000",
          "2018-05-04T00:00:00.000000000",
          "2018-05-07T00:00:00.000000000",
          "2018-05-08T00:00:00.000000000",
          "2018-05-09T00:00:00.000000000",
          "2018-05-10T00:00:00.000000000",
          "2018-05-11T00:00:00.000000000",
          "2018-05-14T00:00:00.000000000",
          "2018-05-15T00:00:00.000000000",
          "2018-05-16T00:00:00.000000000",
          "2018-05-17T00:00:00.000000000",
          "2018-05-18T00:00:00.000000000",
          "2018-05-21T00:00:00.000000000",
          "2018-05-22T00:00:00.000000000",
          "2018-05-23T00:00:00.000000000",
          "2018-05-24T00:00:00.000000000",
          "2018-05-25T00:00:00.000000000",
          "2018-05-29T00:00:00.000000000",
          "2018-05-30T00:00:00.000000000",
          "2018-05-31T00:00:00.000000000",
          "2018-06-01T00:00:00.000000000",
          "2018-06-04T00:00:00.000000000",
          "2018-06-05T00:00:00.000000000",
          "2018-06-06T00:00:00.000000000",
          "2018-06-07T00:00:00.000000000",
          "2018-06-08T00:00:00.000000000",
          "2018-06-11T00:00:00.000000000",
          "2018-06-12T00:00:00.000000000",
          "2018-06-13T00:00:00.000000000",
          "2018-06-14T00:00:00.000000000",
          "2018-06-15T00:00:00.000000000",
          "2018-06-18T00:00:00.000000000",
          "2018-06-19T00:00:00.000000000",
          "2018-06-20T00:00:00.000000000",
          "2018-06-21T00:00:00.000000000",
          "2018-06-22T00:00:00.000000000",
          "2018-06-25T00:00:00.000000000",
          "2018-06-26T00:00:00.000000000",
          "2018-06-27T00:00:00.000000000",
          "2018-06-28T00:00:00.000000000",
          "2018-06-29T00:00:00.000000000",
          "2018-07-02T00:00:00.000000000",
          "2018-07-03T00:00:00.000000000",
          "2018-07-05T00:00:00.000000000",
          "2018-07-06T00:00:00.000000000",
          "2018-07-09T00:00:00.000000000",
          "2018-07-10T00:00:00.000000000",
          "2018-07-11T00:00:00.000000000",
          "2018-07-12T00:00:00.000000000",
          "2018-07-13T00:00:00.000000000",
          "2018-07-16T00:00:00.000000000",
          "2018-07-17T00:00:00.000000000",
          "2018-07-18T00:00:00.000000000",
          "2018-07-19T00:00:00.000000000",
          "2018-07-20T00:00:00.000000000",
          "2018-07-23T00:00:00.000000000",
          "2018-07-24T00:00:00.000000000",
          "2018-07-25T00:00:00.000000000",
          "2018-07-26T00:00:00.000000000",
          "2018-07-27T00:00:00.000000000",
          "2018-07-30T00:00:00.000000000",
          "2018-07-31T00:00:00.000000000",
          "2018-08-01T00:00:00.000000000",
          "2018-08-02T00:00:00.000000000",
          "2018-08-03T00:00:00.000000000",
          "2018-08-06T00:00:00.000000000",
          "2018-08-07T00:00:00.000000000",
          "2018-08-08T00:00:00.000000000",
          "2018-08-09T00:00:00.000000000",
          "2018-08-10T00:00:00.000000000",
          "2018-08-13T00:00:00.000000000",
          "2018-08-14T00:00:00.000000000",
          "2018-08-15T00:00:00.000000000",
          "2018-08-16T00:00:00.000000000",
          "2018-08-17T00:00:00.000000000",
          "2018-08-20T00:00:00.000000000",
          "2018-08-21T00:00:00.000000000",
          "2018-08-22T00:00:00.000000000",
          "2018-08-23T00:00:00.000000000",
          "2018-08-24T00:00:00.000000000",
          "2018-08-27T00:00:00.000000000",
          "2018-08-28T00:00:00.000000000",
          "2018-08-29T00:00:00.000000000",
          "2018-08-30T00:00:00.000000000",
          "2018-08-31T00:00:00.000000000",
          "2018-09-04T00:00:00.000000000",
          "2018-09-05T00:00:00.000000000",
          "2018-09-06T00:00:00.000000000",
          "2018-09-07T00:00:00.000000000",
          "2018-09-10T00:00:00.000000000",
          "2018-09-11T00:00:00.000000000",
          "2018-09-12T00:00:00.000000000",
          "2018-09-13T00:00:00.000000000",
          "2018-09-14T00:00:00.000000000",
          "2018-09-17T00:00:00.000000000",
          "2018-09-18T00:00:00.000000000",
          "2018-09-19T00:00:00.000000000",
          "2018-09-20T00:00:00.000000000",
          "2018-09-21T00:00:00.000000000",
          "2018-09-24T00:00:00.000000000",
          "2018-09-25T00:00:00.000000000",
          "2018-09-26T00:00:00.000000000",
          "2018-09-27T00:00:00.000000000",
          "2018-09-28T00:00:00.000000000",
          "2018-10-01T00:00:00.000000000",
          "2018-10-02T00:00:00.000000000",
          "2018-10-03T00:00:00.000000000",
          "2018-10-04T00:00:00.000000000",
          "2018-10-05T00:00:00.000000000",
          "2018-10-08T00:00:00.000000000",
          "2018-10-09T00:00:00.000000000",
          "2018-10-10T00:00:00.000000000",
          "2018-10-11T00:00:00.000000000",
          "2018-10-12T00:00:00.000000000",
          "2018-10-15T00:00:00.000000000",
          "2018-10-16T00:00:00.000000000",
          "2018-10-17T00:00:00.000000000",
          "2018-10-18T00:00:00.000000000",
          "2018-10-19T00:00:00.000000000",
          "2018-10-22T00:00:00.000000000",
          "2018-10-23T00:00:00.000000000",
          "2018-10-24T00:00:00.000000000",
          "2018-10-25T00:00:00.000000000",
          "2018-10-26T00:00:00.000000000",
          "2018-10-29T00:00:00.000000000",
          "2018-10-30T00:00:00.000000000",
          "2018-10-31T00:00:00.000000000",
          "2018-11-01T00:00:00.000000000",
          "2018-11-02T00:00:00.000000000",
          "2018-11-05T00:00:00.000000000",
          "2018-11-06T00:00:00.000000000",
          "2018-11-07T00:00:00.000000000",
          "2018-11-08T00:00:00.000000000",
          "2018-11-09T00:00:00.000000000",
          "2018-11-12T00:00:00.000000000",
          "2018-11-13T00:00:00.000000000",
          "2018-11-14T00:00:00.000000000",
          "2018-11-15T00:00:00.000000000",
          "2018-11-16T00:00:00.000000000",
          "2018-11-19T00:00:00.000000000",
          "2018-11-20T00:00:00.000000000",
          "2018-11-21T00:00:00.000000000",
          "2018-11-23T00:00:00.000000000",
          "2018-11-26T00:00:00.000000000",
          "2018-11-27T00:00:00.000000000",
          "2018-11-28T00:00:00.000000000",
          "2018-11-29T00:00:00.000000000",
          "2018-11-30T00:00:00.000000000",
          "2018-12-03T00:00:00.000000000",
          "2018-12-04T00:00:00.000000000",
          "2018-12-06T00:00:00.000000000",
          "2018-12-07T00:00:00.000000000",
          "2018-12-10T00:00:00.000000000",
          "2018-12-11T00:00:00.000000000",
          "2018-12-12T00:00:00.000000000",
          "2018-12-13T00:00:00.000000000",
          "2018-12-14T00:00:00.000000000",
          "2018-12-17T00:00:00.000000000",
          "2018-12-18T00:00:00.000000000",
          "2018-12-19T00:00:00.000000000",
          "2018-12-20T00:00:00.000000000",
          "2018-12-21T00:00:00.000000000",
          "2018-12-24T00:00:00.000000000",
          "2018-12-26T00:00:00.000000000",
          "2018-12-27T00:00:00.000000000",
          "2018-12-28T00:00:00.000000000",
          "2018-12-31T00:00:00.000000000",
          "2019-01-02T00:00:00.000000000",
          "2019-01-03T00:00:00.000000000",
          "2019-01-04T00:00:00.000000000",
          "2019-01-07T00:00:00.000000000",
          "2019-01-08T00:00:00.000000000",
          "2019-01-09T00:00:00.000000000",
          "2019-01-10T00:00:00.000000000",
          "2019-01-11T00:00:00.000000000",
          "2019-01-14T00:00:00.000000000",
          "2019-01-15T00:00:00.000000000",
          "2019-01-16T00:00:00.000000000",
          "2019-01-17T00:00:00.000000000",
          "2019-01-18T00:00:00.000000000",
          "2019-01-22T00:00:00.000000000",
          "2019-01-23T00:00:00.000000000",
          "2019-01-24T00:00:00.000000000",
          "2019-01-25T00:00:00.000000000",
          "2019-01-28T00:00:00.000000000",
          "2019-01-29T00:00:00.000000000",
          "2019-01-30T00:00:00.000000000",
          "2019-01-31T00:00:00.000000000",
          "2019-02-01T00:00:00.000000000",
          "2019-02-04T00:00:00.000000000",
          "2019-02-05T00:00:00.000000000",
          "2019-02-06T00:00:00.000000000",
          "2019-02-07T00:00:00.000000000",
          "2019-02-08T00:00:00.000000000",
          "2019-02-11T00:00:00.000000000",
          "2019-02-12T00:00:00.000000000",
          "2019-02-13T00:00:00.000000000",
          "2019-02-14T00:00:00.000000000",
          "2019-02-15T00:00:00.000000000",
          "2019-02-19T00:00:00.000000000",
          "2019-02-20T00:00:00.000000000",
          "2019-02-21T00:00:00.000000000",
          "2019-02-22T00:00:00.000000000",
          "2019-02-25T00:00:00.000000000",
          "2019-02-26T00:00:00.000000000",
          "2019-02-27T00:00:00.000000000",
          "2019-02-28T00:00:00.000000000",
          "2019-03-01T00:00:00.000000000",
          "2019-03-04T00:00:00.000000000",
          "2019-03-05T00:00:00.000000000",
          "2019-03-06T00:00:00.000000000",
          "2019-03-07T00:00:00.000000000",
          "2019-03-08T00:00:00.000000000",
          "2019-03-11T00:00:00.000000000",
          "2019-03-12T00:00:00.000000000",
          "2019-03-13T00:00:00.000000000",
          "2019-03-14T00:00:00.000000000",
          "2019-03-15T00:00:00.000000000",
          "2019-03-18T00:00:00.000000000",
          "2019-03-19T00:00:00.000000000",
          "2019-03-20T00:00:00.000000000",
          "2019-03-21T00:00:00.000000000",
          "2019-03-22T00:00:00.000000000",
          "2019-03-25T00:00:00.000000000",
          "2019-03-26T00:00:00.000000000",
          "2019-03-27T00:00:00.000000000",
          "2019-03-28T00:00:00.000000000",
          "2019-03-29T00:00:00.000000000",
          "2019-04-01T00:00:00.000000000",
          "2019-04-02T00:00:00.000000000",
          "2019-04-03T00:00:00.000000000",
          "2019-04-04T00:00:00.000000000",
          "2019-04-05T00:00:00.000000000",
          "2019-04-08T00:00:00.000000000",
          "2019-04-09T00:00:00.000000000",
          "2019-04-10T00:00:00.000000000",
          "2019-04-11T00:00:00.000000000",
          "2019-04-12T00:00:00.000000000",
          "2019-04-15T00:00:00.000000000",
          "2019-04-16T00:00:00.000000000",
          "2019-04-17T00:00:00.000000000",
          "2019-04-18T00:00:00.000000000",
          "2019-04-22T00:00:00.000000000",
          "2019-04-23T00:00:00.000000000",
          "2019-04-24T00:00:00.000000000",
          "2019-04-25T00:00:00.000000000",
          "2019-04-26T00:00:00.000000000",
          "2019-04-29T00:00:00.000000000",
          "2019-04-30T00:00:00.000000000",
          "2019-05-01T00:00:00.000000000",
          "2019-05-02T00:00:00.000000000",
          "2019-05-03T00:00:00.000000000",
          "2019-05-06T00:00:00.000000000",
          "2019-05-07T00:00:00.000000000",
          "2019-05-08T00:00:00.000000000",
          "2019-05-09T00:00:00.000000000",
          "2019-05-10T00:00:00.000000000",
          "2019-05-13T00:00:00.000000000",
          "2019-05-14T00:00:00.000000000",
          "2019-05-15T00:00:00.000000000",
          "2019-05-16T00:00:00.000000000",
          "2019-05-17T00:00:00.000000000",
          "2019-05-20T00:00:00.000000000",
          "2019-05-21T00:00:00.000000000",
          "2019-05-22T00:00:00.000000000",
          "2019-05-23T00:00:00.000000000",
          "2019-05-24T00:00:00.000000000",
          "2019-05-28T00:00:00.000000000",
          "2019-05-29T00:00:00.000000000",
          "2019-05-30T00:00:00.000000000",
          "2019-05-31T00:00:00.000000000",
          "2019-06-03T00:00:00.000000000",
          "2019-06-04T00:00:00.000000000",
          "2019-06-05T00:00:00.000000000",
          "2019-06-06T00:00:00.000000000",
          "2019-06-07T00:00:00.000000000",
          "2019-06-10T00:00:00.000000000",
          "2019-06-11T00:00:00.000000000",
          "2019-06-12T00:00:00.000000000",
          "2019-06-13T00:00:00.000000000",
          "2019-06-14T00:00:00.000000000",
          "2019-06-17T00:00:00.000000000",
          "2019-06-18T00:00:00.000000000",
          "2019-06-19T00:00:00.000000000",
          "2019-06-20T00:00:00.000000000",
          "2019-06-21T00:00:00.000000000",
          "2019-06-24T00:00:00.000000000",
          "2019-06-25T00:00:00.000000000",
          "2019-06-26T00:00:00.000000000",
          "2019-06-27T00:00:00.000000000",
          "2019-06-28T00:00:00.000000000",
          "2019-07-01T00:00:00.000000000",
          "2019-07-02T00:00:00.000000000",
          "2019-07-03T00:00:00.000000000",
          "2019-07-05T00:00:00.000000000",
          "2019-07-08T00:00:00.000000000",
          "2019-07-09T00:00:00.000000000",
          "2019-07-10T00:00:00.000000000",
          "2019-07-11T00:00:00.000000000",
          "2019-07-12T00:00:00.000000000",
          "2019-07-15T00:00:00.000000000",
          "2019-07-16T00:00:00.000000000",
          "2019-07-17T00:00:00.000000000",
          "2019-07-18T00:00:00.000000000",
          "2019-07-19T00:00:00.000000000",
          "2019-07-22T00:00:00.000000000",
          "2019-07-23T00:00:00.000000000",
          "2019-07-24T00:00:00.000000000",
          "2019-07-25T00:00:00.000000000",
          "2019-07-26T00:00:00.000000000",
          "2019-07-29T00:00:00.000000000",
          "2019-07-30T00:00:00.000000000",
          "2019-07-31T00:00:00.000000000",
          "2019-08-01T00:00:00.000000000",
          "2019-08-02T00:00:00.000000000",
          "2019-08-05T00:00:00.000000000",
          "2019-08-06T00:00:00.000000000",
          "2019-08-07T00:00:00.000000000",
          "2019-08-08T00:00:00.000000000",
          "2019-08-09T00:00:00.000000000",
          "2019-08-12T00:00:00.000000000",
          "2019-08-13T00:00:00.000000000",
          "2019-08-14T00:00:00.000000000",
          "2019-08-15T00:00:00.000000000",
          "2019-08-16T00:00:00.000000000",
          "2019-08-19T00:00:00.000000000",
          "2019-08-20T00:00:00.000000000",
          "2019-08-21T00:00:00.000000000",
          "2019-08-22T00:00:00.000000000",
          "2019-08-23T00:00:00.000000000",
          "2019-08-26T00:00:00.000000000",
          "2019-08-27T00:00:00.000000000",
          "2019-08-28T00:00:00.000000000",
          "2019-08-29T00:00:00.000000000",
          "2019-08-30T00:00:00.000000000",
          "2019-09-03T00:00:00.000000000",
          "2019-09-04T00:00:00.000000000",
          "2019-09-05T00:00:00.000000000",
          "2019-09-06T00:00:00.000000000",
          "2019-09-09T00:00:00.000000000",
          "2019-09-10T00:00:00.000000000",
          "2019-09-11T00:00:00.000000000",
          "2019-09-12T00:00:00.000000000",
          "2019-09-13T00:00:00.000000000",
          "2019-09-16T00:00:00.000000000",
          "2019-09-17T00:00:00.000000000",
          "2019-09-18T00:00:00.000000000",
          "2019-09-19T00:00:00.000000000",
          "2019-09-20T00:00:00.000000000",
          "2019-09-23T00:00:00.000000000",
          "2019-09-24T00:00:00.000000000",
          "2019-09-25T00:00:00.000000000",
          "2019-09-26T00:00:00.000000000",
          "2019-09-27T00:00:00.000000000",
          "2019-09-30T00:00:00.000000000",
          "2019-10-01T00:00:00.000000000",
          "2019-10-02T00:00:00.000000000",
          "2019-10-03T00:00:00.000000000",
          "2019-10-04T00:00:00.000000000",
          "2019-10-07T00:00:00.000000000",
          "2019-10-08T00:00:00.000000000",
          "2019-10-09T00:00:00.000000000",
          "2019-10-10T00:00:00.000000000",
          "2019-10-11T00:00:00.000000000",
          "2019-10-14T00:00:00.000000000",
          "2019-10-15T00:00:00.000000000",
          "2019-10-16T00:00:00.000000000",
          "2019-10-17T00:00:00.000000000",
          "2019-10-18T00:00:00.000000000",
          "2019-10-21T00:00:00.000000000",
          "2019-10-22T00:00:00.000000000",
          "2019-10-23T00:00:00.000000000",
          "2019-10-24T00:00:00.000000000",
          "2019-10-25T00:00:00.000000000",
          "2019-10-28T00:00:00.000000000",
          "2019-10-29T00:00:00.000000000",
          "2019-10-30T00:00:00.000000000",
          "2019-10-31T00:00:00.000000000",
          "2019-11-01T00:00:00.000000000",
          "2019-11-04T00:00:00.000000000",
          "2019-11-05T00:00:00.000000000",
          "2019-11-06T00:00:00.000000000",
          "2019-11-07T00:00:00.000000000",
          "2019-11-08T00:00:00.000000000",
          "2019-11-11T00:00:00.000000000",
          "2019-11-12T00:00:00.000000000",
          "2019-11-13T00:00:00.000000000",
          "2019-11-14T00:00:00.000000000",
          "2019-11-15T00:00:00.000000000",
          "2019-11-18T00:00:00.000000000",
          "2019-11-19T00:00:00.000000000",
          "2019-11-20T00:00:00.000000000",
          "2019-11-21T00:00:00.000000000",
          "2019-11-22T00:00:00.000000000",
          "2019-11-25T00:00:00.000000000",
          "2019-11-26T00:00:00.000000000",
          "2019-11-27T00:00:00.000000000",
          "2019-11-29T00:00:00.000000000",
          "2019-12-02T00:00:00.000000000",
          "2019-12-03T00:00:00.000000000",
          "2019-12-04T00:00:00.000000000",
          "2019-12-05T00:00:00.000000000",
          "2019-12-06T00:00:00.000000000",
          "2019-12-09T00:00:00.000000000",
          "2019-12-10T00:00:00.000000000",
          "2019-12-11T00:00:00.000000000",
          "2019-12-12T00:00:00.000000000",
          "2019-12-13T00:00:00.000000000",
          "2019-12-16T00:00:00.000000000",
          "2019-12-17T00:00:00.000000000",
          "2019-12-18T00:00:00.000000000",
          "2019-12-19T00:00:00.000000000",
          "2019-12-20T00:00:00.000000000",
          "2019-12-23T00:00:00.000000000",
          "2019-12-24T00:00:00.000000000",
          "2019-12-26T00:00:00.000000000",
          "2019-12-27T00:00:00.000000000",
          "2019-12-30T00:00:00.000000000",
          "2019-12-31T00:00:00.000000000"
         ],
         "y": {
          "bdata": "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",
          "dtype": "f8"
         }
        },
        {
         "mode": "lines",
         "name": "Predicted Test Returns",
         "type": "scatter",
         "x": [
          "2018-01-05T00:00:00.000000000",
          "2018-01-08T00:00:00.000000000",
          "2018-01-09T00:00:00.000000000",
          "2018-01-10T00:00:00.000000000",
          "2018-01-11T00:00:00.000000000",
          "2018-01-12T00:00:00.000000000",
          "2018-01-16T00:00:00.000000000",
          "2018-01-17T00:00:00.000000000",
          "2018-01-18T00:00:00.000000000",
          "2018-01-19T00:00:00.000000000",
          "2018-01-22T00:00:00.000000000",
          "2018-01-23T00:00:00.000000000",
          "2018-01-24T00:00:00.000000000",
          "2018-01-25T00:00:00.000000000",
          "2018-01-26T00:00:00.000000000",
          "2018-01-29T00:00:00.000000000",
          "2018-01-30T00:00:00.000000000",
          "2018-01-31T00:00:00.000000000",
          "2018-02-01T00:00:00.000000000",
          "2018-02-02T00:00:00.000000000",
          "2018-02-05T00:00:00.000000000",
          "2018-02-06T00:00:00.000000000",
          "2018-02-07T00:00:00.000000000",
          "2018-02-08T00:00:00.000000000",
          "2018-02-09T00:00:00.000000000",
          "2018-02-12T00:00:00.000000000",
          "2018-02-13T00:00:00.000000000",
          "2018-02-14T00:00:00.000000000",
          "2018-02-15T00:00:00.000000000",
          "2018-02-16T00:00:00.000000000",
          "2018-02-20T00:00:00.000000000",
          "2018-02-21T00:00:00.000000000",
          "2018-02-22T00:00:00.000000000",
          "2018-02-23T00:00:00.000000000",
          "2018-02-26T00:00:00.000000000",
          "2018-02-27T00:00:00.000000000",
          "2018-02-28T00:00:00.000000000",
          "2018-03-01T00:00:00.000000000",
          "2018-03-02T00:00:00.000000000",
          "2018-03-05T00:00:00.000000000",
          "2018-03-06T00:00:00.000000000",
          "2018-03-07T00:00:00.000000000",
          "2018-03-08T00:00:00.000000000",
          "2018-03-09T00:00:00.000000000",
          "2018-03-12T00:00:00.000000000",
          "2018-03-13T00:00:00.000000000",
          "2018-03-14T00:00:00.000000000",
          "2018-03-15T00:00:00.000000000",
          "2018-03-16T00:00:00.000000000",
          "2018-03-19T00:00:00.000000000",
          "2018-03-20T00:00:00.000000000",
          "2018-03-21T00:00:00.000000000",
          "2018-03-22T00:00:00.000000000",
          "2018-03-23T00:00:00.000000000",
          "2018-03-26T00:00:00.000000000",
          "2018-03-27T00:00:00.000000000",
          "2018-03-28T00:00:00.000000000",
          "2018-03-29T00:00:00.000000000",
          "2018-04-02T00:00:00.000000000",
          "2018-04-03T00:00:00.000000000",
          "2018-04-04T00:00:00.000000000",
          "2018-04-05T00:00:00.000000000",
          "2018-04-06T00:00:00.000000000",
          "2018-04-09T00:00:00.000000000",
          "2018-04-10T00:00:00.000000000",
          "2018-04-11T00:00:00.000000000",
          "2018-04-12T00:00:00.000000000",
          "2018-04-13T00:00:00.000000000",
          "2018-04-16T00:00:00.000000000",
          "2018-04-17T00:00:00.000000000",
          "2018-04-18T00:00:00.000000000",
          "2018-04-19T00:00:00.000000000",
          "2018-04-20T00:00:00.000000000",
          "2018-04-23T00:00:00.000000000",
          "2018-04-24T00:00:00.000000000",
          "2018-04-25T00:00:00.000000000",
          "2018-04-26T00:00:00.000000000",
          "2018-04-27T00:00:00.000000000",
          "2018-04-30T00:00:00.000000000",
          "2018-05-01T00:00:00.000000000",
          "2018-05-02T00:00:00.000000000",
          "2018-05-03T00:00:00.000000000",
          "2018-05-04T00:00:00.000000000",
          "2018-05-07T00:00:00.000000000",
          "2018-05-08T00:00:00.000000000",
          "2018-05-09T00:00:00.000000000",
          "2018-05-10T00:00:00.000000000",
          "2018-05-11T00:00:00.000000000",
          "2018-05-14T00:00:00.000000000",
          "2018-05-15T00:00:00.000000000",
          "2018-05-16T00:00:00.000000000",
          "2018-05-17T00:00:00.000000000",
          "2018-05-18T00:00:00.000000000",
          "2018-05-21T00:00:00.000000000",
          "2018-05-22T00:00:00.000000000",
          "2018-05-23T00:00:00.000000000",
          "2018-05-24T00:00:00.000000000",
          "2018-05-25T00:00:00.000000000",
          "2018-05-29T00:00:00.000000000",
          "2018-05-30T00:00:00.000000000",
          "2018-05-31T00:00:00.000000000",
          "2018-06-01T00:00:00.000000000",
          "2018-06-04T00:00:00.000000000",
          "2018-06-05T00:00:00.000000000",
          "2018-06-06T00:00:00.000000000",
          "2018-06-07T00:00:00.000000000",
          "2018-06-08T00:00:00.000000000",
          "2018-06-11T00:00:00.000000000",
          "2018-06-12T00:00:00.000000000",
          "2018-06-13T00:00:00.000000000",
          "2018-06-14T00:00:00.000000000",
          "2018-06-15T00:00:00.000000000",
          "2018-06-18T00:00:00.000000000",
          "2018-06-19T00:00:00.000000000",
          "2018-06-20T00:00:00.000000000",
          "2018-06-21T00:00:00.000000000",
          "2018-06-22T00:00:00.000000000",
          "2018-06-25T00:00:00.000000000",
          "2018-06-26T00:00:00.000000000",
          "2018-06-27T00:00:00.000000000",
          "2018-06-28T00:00:00.000000000",
          "2018-06-29T00:00:00.000000000",
          "2018-07-02T00:00:00.000000000",
          "2018-07-03T00:00:00.000000000",
          "2018-07-05T00:00:00.000000000",
          "2018-07-06T00:00:00.000000000",
          "2018-07-09T00:00:00.000000000",
          "2018-07-10T00:00:00.000000000",
          "2018-07-11T00:00:00.000000000",
          "2018-07-12T00:00:00.000000000",
          "2018-07-13T00:00:00.000000000",
          "2018-07-16T00:00:00.000000000",
          "2018-07-17T00:00:00.000000000",
          "2018-07-18T00:00:00.000000000",
          "2018-07-19T00:00:00.000000000",
          "2018-07-20T00:00:00.000000000",
          "2018-07-23T00:00:00.000000000",
          "2018-07-24T00:00:00.000000000",
          "2018-07-25T00:00:00.000000000",
          "2018-07-26T00:00:00.000000000",
          "2018-07-27T00:00:00.000000000",
          "2018-07-30T00:00:00.000000000",
          "2018-07-31T00:00:00.000000000",
          "2018-08-01T00:00:00.000000000",
          "2018-08-02T00:00:00.000000000",
          "2018-08-03T00:00:00.000000000",
          "2018-08-06T00:00:00.000000000",
          "2018-08-07T00:00:00.000000000",
          "2018-08-08T00:00:00.000000000",
          "2018-08-09T00:00:00.000000000",
          "2018-08-10T00:00:00.000000000",
          "2018-08-13T00:00:00.000000000",
          "2018-08-14T00:00:00.000000000",
          "2018-08-15T00:00:00.000000000",
          "2018-08-16T00:00:00.000000000",
          "2018-08-17T00:00:00.000000000",
          "2018-08-20T00:00:00.000000000",
          "2018-08-21T00:00:00.000000000",
          "2018-08-22T00:00:00.000000000",
          "2018-08-23T00:00:00.000000000",
          "2018-08-24T00:00:00.000000000",
          "2018-08-27T00:00:00.000000000",
          "2018-08-28T00:00:00.000000000",
          "2018-08-29T00:00:00.000000000",
          "2018-08-30T00:00:00.000000000",
          "2018-08-31T00:00:00.000000000",
          "2018-09-04T00:00:00.000000000",
          "2018-09-05T00:00:00.000000000",
          "2018-09-06T00:00:00.000000000",
          "2018-09-07T00:00:00.000000000",
          "2018-09-10T00:00:00.000000000",
          "2018-09-11T00:00:00.000000000",
          "2018-09-12T00:00:00.000000000",
          "2018-09-13T00:00:00.000000000",
          "2018-09-14T00:00:00.000000000",
          "2018-09-17T00:00:00.000000000",
          "2018-09-18T00:00:00.000000000",
          "2018-09-19T00:00:00.000000000",
          "2018-09-20T00:00:00.000000000",
          "2018-09-21T00:00:00.000000000",
          "2018-09-24T00:00:00.000000000",
          "2018-09-25T00:00:00.000000000",
          "2018-09-26T00:00:00.000000000",
          "2018-09-27T00:00:00.000000000",
          "2018-09-28T00:00:00.000000000",
          "2018-10-01T00:00:00.000000000",
          "2018-10-02T00:00:00.000000000",
          "2018-10-03T00:00:00.000000000",
          "2018-10-04T00:00:00.000000000",
          "2018-10-05T00:00:00.000000000",
          "2018-10-08T00:00:00.000000000",
          "2018-10-09T00:00:00.000000000",
          "2018-10-10T00:00:00.000000000",
          "2018-10-11T00:00:00.000000000",
          "2018-10-12T00:00:00.000000000",
          "2018-10-15T00:00:00.000000000",
          "2018-10-16T00:00:00.000000000",
          "2018-10-17T00:00:00.000000000",
          "2018-10-18T00:00:00.000000000",
          "2018-10-19T00:00:00.000000000",
          "2018-10-22T00:00:00.000000000",
          "2018-10-23T00:00:00.000000000",
          "2018-10-24T00:00:00.000000000",
          "2018-10-25T00:00:00.000000000",
          "2018-10-26T00:00:00.000000000",
          "2018-10-29T00:00:00.000000000",
          "2018-10-30T00:00:00.000000000",
          "2018-10-31T00:00:00.000000000",
          "2018-11-01T00:00:00.000000000",
          "2018-11-02T00:00:00.000000000",
          "2018-11-05T00:00:00.000000000",
          "2018-11-06T00:00:00.000000000",
          "2018-11-07T00:00:00.000000000",
          "2018-11-08T00:00:00.000000000",
          "2018-11-09T00:00:00.000000000",
          "2018-11-12T00:00:00.000000000",
          "2018-11-13T00:00:00.000000000",
          "2018-11-14T00:00:00.000000000",
          "2018-11-15T00:00:00.000000000",
          "2018-11-16T00:00:00.000000000",
          "2018-11-19T00:00:00.000000000",
          "2018-11-20T00:00:00.000000000",
          "2018-11-21T00:00:00.000000000",
          "2018-11-23T00:00:00.000000000",
          "2018-11-26T00:00:00.000000000",
          "2018-11-27T00:00:00.000000000",
          "2018-11-28T00:00:00.000000000",
          "2018-11-29T00:00:00.000000000",
          "2018-11-30T00:00:00.000000000",
          "2018-12-03T00:00:00.000000000",
          "2018-12-04T00:00:00.000000000",
          "2018-12-06T00:00:00.000000000",
          "2018-12-07T00:00:00.000000000",
          "2018-12-10T00:00:00.000000000",
          "2018-12-11T00:00:00.000000000",
          "2018-12-12T00:00:00.000000000",
          "2018-12-13T00:00:00.000000000",
          "2018-12-14T00:00:00.000000000",
          "2018-12-17T00:00:00.000000000",
          "2018-12-18T00:00:00.000000000",
          "2018-12-19T00:00:00.000000000",
          "2018-12-20T00:00:00.000000000",
          "2018-12-21T00:00:00.000000000",
          "2018-12-24T00:00:00.000000000",
          "2018-12-26T00:00:00.000000000",
          "2018-12-27T00:00:00.000000000",
          "2018-12-28T00:00:00.000000000",
          "2018-12-31T00:00:00.000000000",
          "2019-01-02T00:00:00.000000000",
          "2019-01-03T00:00:00.000000000",
          "2019-01-04T00:00:00.000000000",
          "2019-01-07T00:00:00.000000000",
          "2019-01-08T00:00:00.000000000",
          "2019-01-09T00:00:00.000000000",
          "2019-01-10T00:00:00.000000000",
          "2019-01-11T00:00:00.000000000",
          "2019-01-14T00:00:00.000000000",
          "2019-01-15T00:00:00.000000000",
          "2019-01-16T00:00:00.000000000",
          "2019-01-17T00:00:00.000000000",
          "2019-01-18T00:00:00.000000000",
          "2019-01-22T00:00:00.000000000",
          "2019-01-23T00:00:00.000000000",
          "2019-01-24T00:00:00.000000000",
          "2019-01-25T00:00:00.000000000",
          "2019-01-28T00:00:00.000000000",
          "2019-01-29T00:00:00.000000000",
          "2019-01-30T00:00:00.000000000",
          "2019-01-31T00:00:00.000000000",
          "2019-02-01T00:00:00.000000000",
          "2019-02-04T00:00:00.000000000",
          "2019-02-05T00:00:00.000000000",
          "2019-02-06T00:00:00.000000000",
          "2019-02-07T00:00:00.000000000",
          "2019-02-08T00:00:00.000000000",
          "2019-02-11T00:00:00.000000000",
          "2019-02-12T00:00:00.000000000",
          "2019-02-13T00:00:00.000000000",
          "2019-02-14T00:00:00.000000000",
          "2019-02-15T00:00:00.000000000",
          "2019-02-19T00:00:00.000000000",
          "2019-02-20T00:00:00.000000000",
          "2019-02-21T00:00:00.000000000",
          "2019-02-22T00:00:00.000000000",
          "2019-02-25T00:00:00.000000000",
          "2019-02-26T00:00:00.000000000",
          "2019-02-27T00:00:00.000000000",
          "2019-02-28T00:00:00.000000000",
          "2019-03-01T00:00:00.000000000",
          "2019-03-04T00:00:00.000000000",
          "2019-03-05T00:00:00.000000000",
          "2019-03-06T00:00:00.000000000",
          "2019-03-07T00:00:00.000000000",
          "2019-03-08T00:00:00.000000000",
          "2019-03-11T00:00:00.000000000",
          "2019-03-12T00:00:00.000000000",
          "2019-03-13T00:00:00.000000000",
          "2019-03-14T00:00:00.000000000",
          "2019-03-15T00:00:00.000000000",
          "2019-03-18T00:00:00.000000000",
          "2019-03-19T00:00:00.000000000",
          "2019-03-20T00:00:00.000000000",
          "2019-03-21T00:00:00.000000000",
          "2019-03-22T00:00:00.000000000",
          "2019-03-25T00:00:00.000000000",
          "2019-03-26T00:00:00.000000000",
          "2019-03-27T00:00:00.000000000",
          "2019-03-28T00:00:00.000000000",
          "2019-03-29T00:00:00.000000000",
          "2019-04-01T00:00:00.000000000",
          "2019-04-02T00:00:00.000000000",
          "2019-04-03T00:00:00.000000000",
          "2019-04-04T00:00:00.000000000",
          "2019-04-05T00:00:00.000000000",
          "2019-04-08T00:00:00.000000000",
          "2019-04-09T00:00:00.000000000",
          "2019-04-10T00:00:00.000000000",
          "2019-04-11T00:00:00.000000000",
          "2019-04-12T00:00:00.000000000",
          "2019-04-15T00:00:00.000000000",
          "2019-04-16T00:00:00.000000000",
          "2019-04-17T00:00:00.000000000",
          "2019-04-18T00:00:00.000000000",
          "2019-04-22T00:00:00.000000000",
          "2019-04-23T00:00:00.000000000",
          "2019-04-24T00:00:00.000000000",
          "2019-04-25T00:00:00.000000000",
          "2019-04-26T00:00:00.000000000",
          "2019-04-29T00:00:00.000000000",
          "2019-04-30T00:00:00.000000000",
          "2019-05-01T00:00:00.000000000",
          "2019-05-02T00:00:00.000000000",
          "2019-05-03T00:00:00.000000000",
          "2019-05-06T00:00:00.000000000",
          "2019-05-07T00:00:00.000000000",
          "2019-05-08T00:00:00.000000000",
          "2019-05-09T00:00:00.000000000",
          "2019-05-10T00:00:00.000000000",
          "2019-05-13T00:00:00.000000000",
          "2019-05-14T00:00:00.000000000",
          "2019-05-15T00:00:00.000000000",
          "2019-05-16T00:00:00.000000000",
          "2019-05-17T00:00:00.000000000",
          "2019-05-20T00:00:00.000000000",
          "2019-05-21T00:00:00.000000000",
          "2019-05-22T00:00:00.000000000",
          "2019-05-23T00:00:00.000000000",
          "2019-05-24T00:00:00.000000000",
          "2019-05-28T00:00:00.000000000",
          "2019-05-29T00:00:00.000000000",
          "2019-05-30T00:00:00.000000000",
          "2019-05-31T00:00:00.000000000",
          "2019-06-03T00:00:00.000000000",
          "2019-06-04T00:00:00.000000000",
          "2019-06-05T00:00:00.000000000",
          "2019-06-06T00:00:00.000000000",
          "2019-06-07T00:00:00.000000000",
          "2019-06-10T00:00:00.000000000",
          "2019-06-11T00:00:00.000000000",
          "2019-06-12T00:00:00.000000000",
          "2019-06-13T00:00:00.000000000",
          "2019-06-14T00:00:00.000000000",
          "2019-06-17T00:00:00.000000000",
          "2019-06-18T00:00:00.000000000",
          "2019-06-19T00:00:00.000000000",
          "2019-06-20T00:00:00.000000000",
          "2019-06-21T00:00:00.000000000",
          "2019-06-24T00:00:00.000000000",
          "2019-06-25T00:00:00.000000000",
          "2019-06-26T00:00:00.000000000",
          "2019-06-27T00:00:00.000000000",
          "2019-06-28T00:00:00.000000000",
          "2019-07-01T00:00:00.000000000",
          "2019-07-02T00:00:00.000000000",
          "2019-07-03T00:00:00.000000000",
          "2019-07-05T00:00:00.000000000",
          "2019-07-08T00:00:00.000000000",
          "2019-07-09T00:00:00.000000000",
          "2019-07-10T00:00:00.000000000",
          "2019-07-11T00:00:00.000000000",
          "2019-07-12T00:00:00.000000000",
          "2019-07-15T00:00:00.000000000",
          "2019-07-16T00:00:00.000000000",
          "2019-07-17T00:00:00.000000000",
          "2019-07-18T00:00:00.000000000",
          "2019-07-19T00:00:00.000000000",
          "2019-07-22T00:00:00.000000000",
          "2019-07-23T00:00:00.000000000",
          "2019-07-24T00:00:00.000000000",
          "2019-07-25T00:00:00.000000000",
          "2019-07-26T00:00:00.000000000",
          "2019-07-29T00:00:00.000000000",
          "2019-07-30T00:00:00.000000000",
          "2019-07-31T00:00:00.000000000",
          "2019-08-01T00:00:00.000000000",
          "2019-08-02T00:00:00.000000000",
          "2019-08-05T00:00:00.000000000",
          "2019-08-06T00:00:00.000000000",
          "2019-08-07T00:00:00.000000000",
          "2019-08-08T00:00:00.000000000",
          "2019-08-09T00:00:00.000000000",
          "2019-08-12T00:00:00.000000000",
          "2019-08-13T00:00:00.000000000",
          "2019-08-14T00:00:00.000000000",
          "2019-08-15T00:00:00.000000000",
          "2019-08-16T00:00:00.000000000",
          "2019-08-19T00:00:00.000000000",
          "2019-08-20T00:00:00.000000000",
          "2019-08-21T00:00:00.000000000",
          "2019-08-22T00:00:00.000000000",
          "2019-08-23T00:00:00.000000000",
          "2019-08-26T00:00:00.000000000",
          "2019-08-27T00:00:00.000000000",
          "2019-08-28T00:00:00.000000000",
          "2019-08-29T00:00:00.000000000",
          "2019-08-30T00:00:00.000000000",
          "2019-09-03T00:00:00.000000000",
          "2019-09-04T00:00:00.000000000",
          "2019-09-05T00:00:00.000000000",
          "2019-09-06T00:00:00.000000000",
          "2019-09-09T00:00:00.000000000",
          "2019-09-10T00:00:00.000000000",
          "2019-09-11T00:00:00.000000000",
          "2019-09-12T00:00:00.000000000",
          "2019-09-13T00:00:00.000000000",
          "2019-09-16T00:00:00.000000000",
          "2019-09-17T00:00:00.000000000",
          "2019-09-18T00:00:00.000000000",
          "2019-09-19T00:00:00.000000000",
          "2019-09-20T00:00:00.000000000",
          "2019-09-23T00:00:00.000000000",
          "2019-09-24T00:00:00.000000000",
          "2019-09-25T00:00:00.000000000",
          "2019-09-26T00:00:00.000000000",
          "2019-09-27T00:00:00.000000000",
          "2019-09-30T00:00:00.000000000",
          "2019-10-01T00:00:00.000000000",
          "2019-10-02T00:00:00.000000000",
          "2019-10-03T00:00:00.000000000",
          "2019-10-04T00:00:00.000000000",
          "2019-10-07T00:00:00.000000000",
          "2019-10-08T00:00:00.000000000",
          "2019-10-09T00:00:00.000000000",
          "2019-10-10T00:00:00.000000000",
          "2019-10-11T00:00:00.000000000",
          "2019-10-14T00:00:00.000000000",
          "2019-10-15T00:00:00.000000000",
          "2019-10-16T00:00:00.000000000",
          "2019-10-17T00:00:00.000000000",
          "2019-10-18T00:00:00.000000000",
          "2019-10-21T00:00:00.000000000",
          "2019-10-22T00:00:00.000000000",
          "2019-10-23T00:00:00.000000000",
          "2019-10-24T00:00:00.000000000",
          "2019-10-25T00:00:00.000000000",
          "2019-10-28T00:00:00.000000000",
          "2019-10-29T00:00:00.000000000",
          "2019-10-30T00:00:00.000000000",
          "2019-10-31T00:00:00.000000000",
          "2019-11-01T00:00:00.000000000",
          "2019-11-04T00:00:00.000000000",
          "2019-11-05T00:00:00.000000000",
          "2019-11-06T00:00:00.000000000",
          "2019-11-07T00:00:00.000000000",
          "2019-11-08T00:00:00.000000000",
          "2019-11-11T00:00:00.000000000",
          "2019-11-12T00:00:00.000000000",
          "2019-11-13T00:00:00.000000000",
          "2019-11-14T00:00:00.000000000",
          "2019-11-15T00:00:00.000000000",
          "2019-11-18T00:00:00.000000000",
          "2019-11-19T00:00:00.000000000",
          "2019-11-20T00:00:00.000000000",
          "2019-11-21T00:00:00.000000000",
          "2019-11-22T00:00:00.000000000",
          "2019-11-25T00:00:00.000000000",
          "2019-11-26T00:00:00.000000000",
          "2019-11-27T00:00:00.000000000",
          "2019-11-29T00:00:00.000000000",
          "2019-12-02T00:00:00.000000000",
          "2019-12-03T00:00:00.000000000",
          "2019-12-04T00:00:00.000000000",
          "2019-12-05T00:00:00.000000000",
          "2019-12-06T00:00:00.000000000",
          "2019-12-09T00:00:00.000000000",
          "2019-12-10T00:00:00.000000000",
          "2019-12-11T00:00:00.000000000",
          "2019-12-12T00:00:00.000000000",
          "2019-12-13T00:00:00.000000000",
          "2019-12-16T00:00:00.000000000",
          "2019-12-17T00:00:00.000000000",
          "2019-12-18T00:00:00.000000000",
          "2019-12-19T00:00:00.000000000",
          "2019-12-20T00:00:00.000000000",
          "2019-12-23T00:00:00.000000000",
          "2019-12-24T00:00:00.000000000",
          "2019-12-26T00:00:00.000000000",
          "2019-12-27T00:00:00.000000000",
          "2019-12-30T00:00:00.000000000",
          "2019-12-31T00:00:00.000000000"
         ],
         "y": {
          "bdata": "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",
          "dtype": "f4"
         }
        }
       ],
       "layout": {
        "legend": {
         "title": {
          "text": "Portfolio"
         }
        },
        "template": {
         "data": {
          "bar": [
           {
            "error_x": {
             "color": "#2a3f5f"
            },
            "error_y": {
             "color": "#2a3f5f"
            },
            "marker": {
             "line": {
              "color": "#E5ECF6",
              "width": 0.5
             },
             "pattern": {
              "fillmode": "overlay",
              "size": 10,
              "solidity": 0.2
             }
            },
            "type": "bar"
           }
          ],
          "barpolar": [
           {
            "marker": {
             "line": {
              "color": "#E5ECF6",
              "width": 0.5
             },
             "pattern": {
              "fillmode": "overlay",
              "size": 10,
              "solidity": 0.2
             }
            },
            "type": "barpolar"
           }
          ],
          "carpet": [
           {
            "aaxis": {
             "endlinecolor": "#2a3f5f",
             "gridcolor": "white",
             "linecolor": "white",
             "minorgridcolor": "white",
             "startlinecolor": "#2a3f5f"
            },
            "baxis": {
             "endlinecolor": "#2a3f5f",
             "gridcolor": "white",
             "linecolor": "white",
             "minorgridcolor": "white",
             "startlinecolor": "#2a3f5f"
            },
            "type": "carpet"
           }
          ],
          "choropleth": [
           {
            "colorbar": {
             "outlinewidth": 0,
             "ticks": ""
            },
            "type": "choropleth"
           }
          ],
          "contour": [
           {
            "colorbar": {
             "outlinewidth": 0,
             "ticks": ""
            },
            "colorscale": [
             [
              0,
              "#0d0887"
             ],
             [
              0.1111111111111111,
              "#46039f"
             ],
             [
              0.2222222222222222,
              "#7201a8"
             ],
             [
              0.3333333333333333,
              "#9c179e"
             ],
             [
              0.4444444444444444,
              "#bd3786"
             ],
             [
              0.5555555555555556,
              "#d8576b"
             ],
             [
              0.6666666666666666,
              "#ed7953"
             ],
             [
              0.7777777777777778,
              "#fb9f3a"
             ],
             [
              0.8888888888888888,
              "#fdca26"
             ],
             [
              1,
              "#f0f921"
             ]
            ],
            "type": "contour"
           }
          ],
          "contourcarpet": [
           {
            "colorbar": {
             "outlinewidth": 0,
             "ticks": ""
            },
            "type": "contourcarpet"
           }
          ],
          "heatmap": [
           {
            "colorbar": {
             "outlinewidth": 0,
             "ticks": ""
            },
            "colorscale": [
             [
              0,
              "#0d0887"
             ],
             [
              0.1111111111111111,
              "#46039f"
             ],
             [
              0.2222222222222222,
              "#7201a8"
             ],
             [
              0.3333333333333333,
              "#9c179e"
             ],
             [
              0.4444444444444444,
              "#bd3786"
             ],
             [
              0.5555555555555556,
              "#d8576b"
             ],
             [
              0.6666666666666666,
              "#ed7953"
             ],
             [
              0.7777777777777778,
              "#fb9f3a"
             ],
             [
              0.8888888888888888,
              "#fdca26"
             ],
             [
              1,
              "#f0f921"
             ]
            ],
            "type": "heatmap"
           }
          ],
          "histogram": [
           {
            "marker": {
             "pattern": {
              "fillmode": "overlay",
              "size": 10,
              "solidity": 0.2
             }
            },
            "type": "histogram"
           }
          ],
          "histogram2d": [
           {
            "colorbar": {
             "outlinewidth": 0,
             "ticks": ""
            },
            "colorscale": [
             [
              0,
              "#0d0887"
             ],
             [
              0.1111111111111111,
              "#46039f"
             ],
             [
              0.2222222222222222,
              "#7201a8"
             ],
             [
              0.3333333333333333,
              "#9c179e"
             ],
             [
              0.4444444444444444,
              "#bd3786"
             ],
             [
              0.5555555555555556,
              "#d8576b"
             ],
             [
              0.6666666666666666,
              "#ed7953"
             ],
             [
              0.7777777777777778,
              "#fb9f3a"
             ],
             [
              0.8888888888888888,
              "#fdca26"
             ],
             [
              1,
              "#f0f921"
             ]
            ],
            "type": "histogram2d"
           }
          ],
          "histogram2dcontour": [
           {
            "colorbar": {
             "outlinewidth": 0,
             "ticks": ""
            },
            "colorscale": [
             [
              0,
              "#0d0887"
             ],
             [
              0.1111111111111111,
              "#46039f"
             ],
             [
              0.2222222222222222,
              "#7201a8"
             ],
             [
              0.3333333333333333,
              "#9c179e"
             ],
             [
              0.4444444444444444,
              "#bd3786"
             ],
             [
              0.5555555555555556,
              "#d8576b"
             ],
             [
              0.6666666666666666,
              "#ed7953"
             ],
             [
              0.7777777777777778,
              "#fb9f3a"
             ],
             [
              0.8888888888888888,
              "#fdca26"
             ],
             [
              1,
              "#f0f921"
             ]
            ],
            "type": "histogram2dcontour"
           }
          ],
          "mesh3d": [
           {
            "colorbar": {
             "outlinewidth": 0,
             "ticks": ""
            },
            "type": "mesh3d"
           }
          ],
          "parcoords": [
           {
            "line": {
             "colorbar": {
              "outlinewidth": 0,
              "ticks": ""
             }
            },
            "type": "parcoords"
           }
          ],
          "pie": [
           {
            "automargin": true,
            "type": "pie"
           }
          ],
          "scatter": [
           {
            "fillpattern": {
             "fillmode": "overlay",
             "size": 10,
             "solidity": 0.2
            },
            "type": "scatter"
           }
          ],
          "scatter3d": [
           {
            "line": {
             "colorbar": {
              "outlinewidth": 0,
              "ticks": ""
             }
            },
            "marker": {
             "colorbar": {
              "outlinewidth": 0,
              "ticks": ""
             }
            },
            "type": "scatter3d"
           }
          ],
          "scattercarpet": [
           {
            "marker": {
             "colorbar": {
              "outlinewidth": 0,
              "ticks": ""
             }
            },
            "type": "scattercarpet"
           }
          ],
          "scattergeo": [
           {
            "marker": {
             "colorbar": {
              "outlinewidth": 0,
              "ticks": ""
             }
            },
            "type": "scattergeo"
           }
          ],
          "scattergl": [
           {
            "marker": {
             "colorbar": {
              "outlinewidth": 0,
              "ticks": ""
             }
            },
            "type": "scattergl"
           }
          ],
          "scattermap": [
           {
            "marker": {
             "colorbar": {
              "outlinewidth": 0,
              "ticks": ""
             }
            },
            "type": "scattermap"
           }
          ],
          "scattermapbox": [
           {
            "marker": {
             "colorbar": {
              "outlinewidth": 0,
              "ticks": ""
             }
            },
            "type": "scattermapbox"
           }
          ],
          "scatterpolar": [
           {
            "marker": {
             "colorbar": {
              "outlinewidth": 0,
              "ticks": ""
             }
            },
            "type": "scatterpolar"
           }
          ],
          "scatterpolargl": [
           {
            "marker": {
             "colorbar": {
              "outlinewidth": 0,
              "ticks": ""
             }
            },
            "type": "scatterpolargl"
           }
          ],
          "scatterternary": [
           {
            "marker": {
             "colorbar": {
              "outlinewidth": 0,
              "ticks": ""
             }
            },
            "type": "scatterternary"
           }
          ],
          "surface": [
           {
            "colorbar": {
             "outlinewidth": 0,
             "ticks": ""
            },
            "colorscale": [
             [
              0,
              "#0d0887"
             ],
             [
              0.1111111111111111,
              "#46039f"
             ],
             [
              0.2222222222222222,
              "#7201a8"
             ],
             [
              0.3333333333333333,
              "#9c179e"
             ],
             [
              0.4444444444444444,
              "#bd3786"
             ],
             [
              0.5555555555555556,
              "#d8576b"
             ],
             [
              0.6666666666666666,
              "#ed7953"
             ],
             [
              0.7777777777777778,
              "#fb9f3a"
             ],
             [
              0.8888888888888888,
              "#fdca26"
             ],
             [
              1,
              "#f0f921"
             ]
            ],
            "type": "surface"
           }
          ],
          "table": [
           {
            "cells": {
             "fill": {
              "color": "#EBF0F8"
             },
             "line": {
              "color": "white"
             }
            },
            "header": {
             "fill": {
              "color": "#C8D4E3"
             },
             "line": {
              "color": "white"
             }
            },
            "type": "table"
           }
          ]
         },
         "layout": {
          "annotationdefaults": {
           "arrowcolor": "#2a3f5f",
           "arrowhead": 0,
           "arrowwidth": 1
          },
          "autotypenumbers": "strict",
          "coloraxis": {
           "colorbar": {
            "outlinewidth": 0,
            "ticks": ""
           }
          },
          "colorscale": {
           "diverging": [
            [
             0,
             "#8e0152"
            ],
            [
             0.1,
             "#c51b7d"
            ],
            [
             0.2,
             "#de77ae"
            ],
            [
             0.3,
             "#f1b6da"
            ],
            [
             0.4,
             "#fde0ef"
            ],
            [
             0.5,
             "#f7f7f7"
            ],
            [
             0.6,
             "#e6f5d0"
            ],
            [
             0.7,
             "#b8e186"
            ],
            [
             0.8,
             "#7fbc41"
            ],
            [
             0.9,
             "#4d9221"
            ],
            [
             1,
             "#276419"
            ]
           ],
           "sequential": [
            [
             0,
             "#0d0887"
            ],
            [
             0.1111111111111111,
             "#46039f"
            ],
            [
             0.2222222222222222,
             "#7201a8"
            ],
            [
             0.3333333333333333,
             "#9c179e"
            ],
            [
             0.4444444444444444,
             "#bd3786"
            ],
            [
             0.5555555555555556,
             "#d8576b"
            ],
            [
             0.6666666666666666,
             "#ed7953"
            ],
            [
             0.7777777777777778,
             "#fb9f3a"
            ],
            [
             0.8888888888888888,
             "#fdca26"
            ],
            [
             1,
             "#f0f921"
            ]
           ],
           "sequentialminus": [
            [
             0,
             "#0d0887"
            ],
            [
             0.1111111111111111,
             "#46039f"
            ],
            [
             0.2222222222222222,
             "#7201a8"
            ],
            [
             0.3333333333333333,
             "#9c179e"
            ],
            [
             0.4444444444444444,
             "#bd3786"
            ],
            [
             0.5555555555555556,
             "#d8576b"
            ],
            [
             0.6666666666666666,
             "#ed7953"
            ],
            [
             0.7777777777777778,
             "#fb9f3a"
            ],
            [
             0.8888888888888888,
             "#fdca26"
            ],
            [
             1,
             "#f0f921"
            ]
           ]
          },
          "colorway": [
           "#636efa",
           "#EF553B",
           "#00cc96",
           "#ab63fa",
           "#FFA15A",
           "#19d3f3",
           "#FF6692",
           "#B6E880",
           "#FF97FF",
           "#FECB52"
          ],
          "font": {
           "color": "#2a3f5f"
          },
          "geo": {
           "bgcolor": "white",
           "lakecolor": "white",
           "landcolor": "#E5ECF6",
           "showlakes": true,
           "showland": true,
           "subunitcolor": "white"
          },
          "hoverlabel": {
           "align": "left"
          },
          "hovermode": "closest",
          "mapbox": {
           "style": "light"
          },
          "paper_bgcolor": "white",
          "plot_bgcolor": "#E5ECF6",
          "polar": {
           "angularaxis": {
            "gridcolor": "white",
            "linecolor": "white",
            "ticks": ""
           },
           "bgcolor": "#E5ECF6",
           "radialaxis": {
            "gridcolor": "white",
            "linecolor": "white",
            "ticks": ""
           }
          },
          "scene": {
           "xaxis": {
            "backgroundcolor": "#E5ECF6",
            "gridcolor": "white",
            "gridwidth": 2,
            "linecolor": "white",
            "showbackground": true,
            "ticks": "",
            "zerolinecolor": "white"
           },
           "yaxis": {
            "backgroundcolor": "#E5ECF6",
            "gridcolor": "white",
            "gridwidth": 2,
            "linecolor": "white",
            "showbackground": true,
            "ticks": "",
            "zerolinecolor": "white"
           },
           "zaxis": {
            "backgroundcolor": "#E5ECF6",
            "gridcolor": "white",
            "gridwidth": 2,
            "linecolor": "white",
            "showbackground": true,
            "ticks": "",
            "zerolinecolor": "white"
           }
          },
          "shapedefaults": {
           "line": {
            "color": "#2a3f5f"
           }
          },
          "ternary": {
           "aaxis": {
            "gridcolor": "white",
            "linecolor": "white",
            "ticks": ""
           },
           "baxis": {
            "gridcolor": "white",
            "linecolor": "white",
            "ticks": ""
           },
           "bgcolor": "#E5ECF6",
           "caxis": {
            "gridcolor": "white",
            "linecolor": "white",
            "ticks": ""
           }
          },
          "title": {
           "x": 0.05
          },
          "xaxis": {
           "automargin": true,
           "gridcolor": "white",
           "linecolor": "white",
           "ticks": "",
           "title": {
            "standoff": 15
           },
           "zerolinecolor": "white",
           "zerolinewidth": 2
          },
          "yaxis": {
           "automargin": true,
           "gridcolor": "white",
           "linecolor": "white",
           "ticks": "",
           "title": {
            "standoff": 15
           },
           "zerolinecolor": "white",
           "zerolinewidth": 2
          }
         }
        },
        "title": {
         "text": "Actual vs Predicted Weighted Portfolio Returns"
        },
        "xaxis": {
         "title": {
          "text": "Date"
         }
        },
        "yaxis": {
         "title": {
          "text": "Normalized Returns"
         }
        }
       }
      }
     },
     "metadata": {},
     "output_type": "display_data"
    }
   ],
   "source": [
    "investment_length = 730\n",
    "investment_end_date = end_date + pd.Timedelta(days=investment_length)\n",
    "\n",
    "raw_data, asset_errors, max_combination= fetch_raw_data_yf(assets, start_date, investment_end_date)\n",
    "names, annualized_returns, unweighted_annaulized_returns, weighted_returns_matrix, normal_returns_matrix, cov, correlation_matrix = get_matrices(raw_data)\n",
    "\n",
    "raw_data_train = raw_data.loc[:end_date]\n",
    "raw_data_test = raw_data.loc[end_date:]\n",
    "\n",
    "portfolio_predictor = PortfolioPredictor(raw_data_train, raw_data_test, best_portfolio, n_steps=3, epochs=30)\n",
    "\n",
    "portfolio_predictor.preprocess_data()\n",
    "portfolio_predictor.build_model()\n",
    "portfolio_predictor.train_model()\n",
    "prediction = portfolio_predictor.predict()   \n",
    "portfolio_predictor.plot_loss()\n",
    "portfolio_predictor.plot_predictions()"
   ]
  },
  {
   "cell_type": "code",
   "execution_count": null,
   "metadata": {
    "execution": {
     "iopub.execute_input": "2025-03-28T02:00:26.054061Z",
     "iopub.status.busy": "2025-03-28T02:00:26.053732Z",
     "iopub.status.idle": "2025-03-28T02:00:26.067770Z",
     "shell.execute_reply": "2025-03-28T02:00:26.066463Z",
     "shell.execute_reply.started": "2025-03-28T02:00:26.054033Z"
    },
    "trusted": true
   },
   "outputs": [],
   "source": [
    "def evaluate_portfolios_over_time(raw_data, window_size=5, threshold=0.05, epochs=30, length_of_investment = None):\n",
    "    investment_start = len(raw_data[:end_date])\n",
    "\n",
    "    trading_days = len(raw_data[end_date:end_date + pd.Timedelta(days=length_of_investment)] if length_of_investment is not None else raw_data[end_date:])\n",
    "    trading_days = trading_days - 1 if trading_days % window_size == 0 else trading_days\n",
    "    num_windows = trading_days // window_size\n",
    "\n",
    "    previous_best_portfolio = None\n",
    "    all_good_portfolios = []\n",
    "    for i in range(num_windows):\n",
    "        print(f'Predicting Week {i} in {num_windows} Total Weeks')\n",
    "\n",
    "        loop_raw_data_train = raw_data.iloc[:investment_start + i*window_size]\n",
    "        loop_raw_data_test = raw_data.iloc[investment_start + i*window_size:]\n",
    "        \n",
    "        loop_names, loop_annualized_returns, _, _, _, loop_cov, _ = get_matrices(loop_raw_data_train)\n",
    "        \n",
    "        _, loop_best_portfolio, loop_good_portfolios, _, _ = MLRBA_V2(loop_names, loop_cov, loop_annualized_returns)\n",
    "        best_sharpe = loop_best_portfolio['sharpe']\n",
    "        \n",
    "        close_to_best = []\n",
    "        if previous_best_portfolio is not None:\n",
    "            close_to_best.append(previous_best_portfolio)\n",
    "        close_to_best.append(loop_best_portfolio)\n",
    "        \n",
    "        for j in range(len(loop_best_portfolio)):\n",
    "            difference = abs((best_sharpe - loop_good_portfolios[j]['sharpe']) / best_sharpe)\n",
    "            if difference < threshold:\n",
    "                close_to_best.append(loop_good_portfolios[j])\n",
    "\n",
    "        print(f'Length of close to best is: {len(close_to_best)}')\n",
    "\n",
    "        sharpe_list = [portfolio['sharpe'] for portfolio in close_to_best]\n",
    "        print(\"Sharpe ratios (first is best_sharpe):\", sharpe_list)\n",
    "        \n",
    "        portfolio_results = {}\n",
    "        for id, portfolio in enumerate(close_to_best):\n",
    "            portfolio_predictor = PortfolioPredictor(loop_raw_data_train, loop_raw_data_test, portfolio, n_steps=window_size, epochs=epochs)\n",
    "            portfolio_predictor.preprocess_data()\n",
    "            portfolio_predictor.build_model()\n",
    "            portfolio_predictor.train_model()\n",
    "            prediction = portfolio_predictor.predict() \n",
    "\n",
    "            if len(prediction) >= window_size:\n",
    "                end_pred = prediction[window_size-1]\n",
    "            else:\n",
    "                end_pred = prediction[-1]\n",
    "            \n",
    "            percentage_diff = (end_pred - prediction[0]) / prediction[0]\n",
    "            print(prediction[:min(window_size, len(prediction))], prediction[0], percentage_diff * 100)          \n",
    "            \n",
    "            portfolio_results[id] = percentage_diff\n",
    "\n",
    "        best_id = None\n",
    "\n",
    "        # Check if all predictions (percentage_diff) are negative\n",
    "        if max(portfolio_results.values()) < 0:\n",
    "            print(\"All percentage differences are negative. Choosing an empty portfolio(not holding anything).\")\n",
    "            predicted_best_portfolio = {}\n",
    "        else:\n",
    "            best_id = max(portfolio_results, key=portfolio_results.get)\n",
    "            predicted_best_portfolio = close_to_best[best_id]\n",
    "            previous_best_portfolio = predicted_best_portfolio\n",
    "        \n",
    "        portfolio_start_date = loop_raw_data_test.index[0]\n",
    "        portfolio_end_date = loop_raw_data_test.index[window_size-1]\n",
    "        \n",
    "        all_good_portfolios.append({\n",
    "            \"portfolio\": predicted_best_portfolio,\n",
    "            \"start_date\": portfolio_start_date,\n",
    "            \"end_date\": portfolio_end_date\n",
    "        })\n",
    "        if best_id is not None:\n",
    "            print(f'Current iteration: {i}, the best portfolio found was portfolio: {best_id}')\n",
    "        else:\n",
    "            print(f'Current iteration: {i}, no portfolio selected (empty portfolio chosen).')\n",
    "    \n",
    "    return all_good_portfolios"
   ]
  },
  {
   "cell_type": "code",
   "execution_count": null,
   "metadata": {
    "execution": {
     "iopub.execute_input": "2025-03-28T02:00:26.069547Z",
     "iopub.status.busy": "2025-03-28T02:00:26.069021Z",
     "iopub.status.idle": "2025-03-28T04:29:52.544768Z",
     "shell.execute_reply": "2025-03-28T04:29:52.543289Z",
     "shell.execute_reply.started": "2025-03-28T02:00:26.069496Z"
    },
    "scrolled": true,
    "trusted": true
   },
   "outputs": [
    {
     "name": "stdout",
     "output_type": "stream",
     "text": [
      "Predicting Week 0 in 4 Total Weeks\n"
     ]
    },
    {
     "name": "stderr",
     "output_type": "stream",
     "text": [
      "Portfolios Tested:   0%|          | 97/100000 [00:00<08:31, 195.29it/s]\n"
     ]
    },
    {
     "name": "stdout",
     "output_type": "stream",
     "text": [
      "All assets have been tested or no improvement possible.\n",
      "\u001b[1m16/16\u001b[0m \u001b[32m━━━━━━━━━━━━━━━━━━━━\u001b[0m\u001b[37m\u001b[0m \u001b[1m0s\u001b[0m 13ms/step\n",
      "[[0.6232628 ]\n",
      " [0.63246757]\n",
      " [0.6374805 ]\n",
      " [0.64226776]\n",
      " [0.64514655]] [0.6232628] [3.5111554]\n",
      "2018-01-02 00:00:00 2018-01-08 00:00:00\n",
      "Current iteration: 0, the best portfolio found was portfolio: 0\n",
      "Predicting Week 1 in 4 Total Weeks\n"
     ]
    },
    {
     "name": "stderr",
     "output_type": "stream",
     "text": [
      "Portfolios Tested:   0%|          | 123/100000 [00:00<08:11, 203.38it/s]\n"
     ]
    },
    {
     "name": "stdout",
     "output_type": "stream",
     "text": [
      "All assets have been tested or no improvement possible.\n",
      "\u001b[1m16/16\u001b[0m \u001b[32m━━━━━━━━━━━━━━━━━━━━\u001b[0m\u001b[37m\u001b[0m \u001b[1m0s\u001b[0m 14ms/step\n",
      "[[0.6173311]\n",
      " [0.6225772]\n",
      " [0.6301895]\n",
      " [0.6386712]\n",
      " [0.6473621]] [0.6173311] [4.8646545]\n",
      "\u001b[1m16/16\u001b[0m \u001b[32m━━━━━━━━━━━━━━━━━━━━\u001b[0m\u001b[37m\u001b[0m \u001b[1m0s\u001b[0m 19ms/step\n",
      "[[0.70019215]\n",
      " [0.7060742 ]\n",
      " [0.7140227 ]\n",
      " [0.7217659 ]\n",
      " [0.7287028 ]] [0.70019215] [4.0718293]\n",
      "2018-01-09 00:00:00 2018-01-16 00:00:00\n",
      "Current iteration: 1, the best portfolio found was portfolio: 0\n",
      "Predicting Week 2 in 4 Total Weeks\n"
     ]
    },
    {
     "name": "stderr",
     "output_type": "stream",
     "text": [
      "Portfolios Tested:   0%|          | 139/100000 [00:01<13:16, 125.35it/s]\n"
     ]
    },
    {
     "name": "stdout",
     "output_type": "stream",
     "text": [
      "All assets have been tested or no improvement possible.\n",
      "\u001b[1m16/16\u001b[0m \u001b[32m━━━━━━━━━━━━━━━━━━━━\u001b[0m\u001b[37m\u001b[0m \u001b[1m0s\u001b[0m 14ms/step\n",
      "[[0.63909686]\n",
      " [0.6469394 ]\n",
      " [0.65444803]\n",
      " [0.6623813 ]\n",
      " [0.66951144]] [0.63909686] [4.758994]\n",
      "\u001b[1m16/16\u001b[0m \u001b[32m━━━━━━━━━━━━━━━━━━━━\u001b[0m\u001b[37m\u001b[0m \u001b[1m0s\u001b[0m 14ms/step\n",
      "[[0.65233827]\n",
      " [0.6564901 ]\n",
      " [0.662176  ]\n",
      " [0.66839635]\n",
      " [0.6744521 ]] [0.65233827] [3.3899374]\n",
      "2018-01-17 00:00:00 2018-01-23 00:00:00\n",
      "Current iteration: 2, the best portfolio found was portfolio: 0\n",
      "Predicting Week 3 in 4 Total Weeks\n"
     ]
    },
    {
     "name": "stderr",
     "output_type": "stream",
     "text": [
      "Portfolios Tested:   0%|          | 173/100000 [00:01<10:01, 165.93it/s]\n"
     ]
    },
    {
     "name": "stdout",
     "output_type": "stream",
     "text": [
      "All assets have been tested or no improvement possible.\n",
      "\u001b[1m16/16\u001b[0m \u001b[32m━━━━━━━━━━━━━━━━━━━━\u001b[0m\u001b[37m\u001b[0m \u001b[1m0s\u001b[0m 15ms/step\n",
      "[[0.6933273 ]\n",
      " [0.6967427 ]\n",
      " [0.69662505]\n",
      " [0.68953395]\n",
      " [0.6739133 ]] [0.6933273] [-2.8001215]\n",
      "\u001b[1m16/16\u001b[0m \u001b[32m━━━━━━━━━━━━━━━━━━━━\u001b[0m\u001b[37m\u001b[0m \u001b[1m0s\u001b[0m 15ms/step\n",
      "[[0.69681114]\n",
      " [0.7012125 ]\n",
      " [0.7018727 ]\n",
      " [0.6950411 ]\n",
      " [0.68003696]] [0.69681114] [-2.4072773]\n",
      "All percentage differences are negative. Choosing an empty portfolio (not holding anything).\n",
      "2018-01-24 00:00:00 2018-01-30 00:00:00\n",
      "Current iteration: 3, no portfolio selected (empty portfolio chosen).\n"
     ]
    }
   ],
   "source": [
    "all_good_portfolios = evaluate_portfolios_over_time(raw_data, window_size=5, threshold=0.5, epochs=20, length_of_investment = None)"
   ]
  },
  {
   "cell_type": "code",
   "execution_count": null,
   "metadata": {
    "execution": {
     "iopub.execute_input": "2025-03-28T04:29:52.555427Z",
     "iopub.status.busy": "2025-03-28T04:29:52.555028Z",
     "iopub.status.idle": "2025-03-28T04:29:52.817373Z",
     "shell.execute_reply": "2025-03-28T04:29:52.816414Z",
     "shell.execute_reply.started": "2025-03-28T04:29:52.555397Z"
    },
    "trusted": true
   },
   "outputs": [
    {
     "name": "stderr",
     "output_type": "stream",
     "text": [
      "C:\\Users\\tongc\\AppData\\Local\\Temp\\ipykernel_32096\\2082675251.py:21: FutureWarning:\n",
      "\n",
      "The behavior of array concatenation with empty entries is deprecated. In a future version, this will no longer exclude empty items when determining the result dtype. To retain the old behavior, exclude the empty entries before the concat operation.\n",
      "\n"
     ]
    },
    {
     "data": {
      "text/plain": [
       "2018-01-02    100.000000\n",
       "2018-01-03    101.182600\n",
       "2018-01-04    101.648825\n",
       "2018-01-05    103.476826\n",
       "2018-01-08    102.610037\n",
       "2018-01-09    102.610037\n",
       "2018-01-10    102.228680\n",
       "2018-01-11    103.045735\n",
       "2018-01-12    104.581058\n",
       "2018-01-16    105.927998\n",
       "2018-01-17    105.927998\n",
       "2018-01-18    107.453456\n",
       "2018-01-19    107.684227\n",
       "2018-01-22    108.485258\n",
       "2018-01-23    110.230954\n",
       "2018-01-24    110.230954\n",
       "2018-01-25    110.230954\n",
       "2018-01-26    110.230954\n",
       "2018-01-29    110.230954\n",
       "2018-01-30    110.230954\n",
       "dtype: float64"
      ]
     },
     "execution_count": 74,
     "metadata": {},
     "output_type": "execute_result"
    }
   ],
   "source": [
    "def extract_asset_returns(raw_data, assets, start_date, end_date):\n",
    "    if not isinstance(raw_data.index, pd.DatetimeIndex):\n",
    "        raw_data.index = pd.to_datetime(raw_data.index)\n",
    "\n",
    "    filtered_data = raw_data.loc[start_date:end_date, assets]\n",
    "\n",
    "    return filtered_data\n",
    "\n",
    "def chain_portfolio_performance(weekly_series_list, starting_value=100):\n",
    "    continuous_series = pd.Series()\n",
    "    current_value = starting_value\n",
    "\n",
    "    for week_series in weekly_series_list:\n",
    "        # Normalize the week so that it starts at 1 (or current_value)\n",
    "        week_normalized = week_series / week_series.iloc[0]\n",
    "        # Scale the normalized week to start at current_value\n",
    "        week_scaled = week_normalized * current_value\n",
    "        # Update the current_value to the last value of this week\n",
    "        current_value = week_scaled.iloc[-1]\n",
    "        # Append the week_series to the continuous_series\n",
    "        continuous_series = pd.concat([continuous_series, week_scaled])\n",
    "    \n",
    "    return continuous_series\n",
    "\n",
    "ML_portfolio = []\n",
    "initial_value = 100\n",
    "\n",
    "for i in range(len(all_good_portfolios)):\n",
    "    curr_best_portfolio = all_good_portfolios[i]['portfolio']\n",
    "    p_start_date = all_good_portfolios[i]['start_date']\n",
    "    p_end_date = all_good_portfolios[i]['end_date']\n",
    "    \n",
    "    if not curr_best_portfolio:\n",
    "        if i == 0:\n",
    "            previous_value = initial_value\n",
    "        else:\n",
    "            previous_value = ML_portfolio[-1].iloc[-1]\n",
    "        window_index = raw_data.loc[p_start_date:p_end_date].index\n",
    "        portfolio_daily_returns = pd.Series(previous_value, index=window_index)\n",
    "    else:\n",
    "        best_curr_port_assets = curr_best_portfolio['tickers']\n",
    "        best_curr_port_assets_test_data = extract_asset_returns(raw_data, best_curr_port_assets, p_start_date, p_end_date)\n",
    "        curr_best_portfolio_weights = curr_best_portfolio['weights']\n",
    "        weighted_returns = best_curr_port_assets_test_data.mul(curr_best_portfolio_weights, axis='columns')\n",
    "        portfolio_daily_returns = weighted_returns.sum(axis=1)\n",
    "    \n",
    "    ML_portfolio.append(portfolio_daily_returns)\n",
    "\n",
    "ML_portfolio_streamed = chain_portfolio_performance(ML_portfolio, starting_value=initial_value)\n",
    "ML_portfolio_streamed"
   ]
  },
  {
   "cell_type": "code",
   "execution_count": 75,
   "metadata": {
    "execution": {
     "iopub.execute_input": "2025-03-28T04:52:43.019676Z",
     "iopub.status.busy": "2025-03-28T04:52:43.019281Z",
     "iopub.status.idle": "2025-03-28T04:52:43.157616Z",
     "shell.execute_reply": "2025-03-28T04:52:43.156279Z",
     "shell.execute_reply.started": "2025-03-28T04:52:43.019644Z"
    },
    "trusted": true
   },
   "outputs": [
    {
     "name": "stderr",
     "output_type": "stream",
     "text": [
      "[*********************100%***********************]  1 of 1 completed"
     ]
    },
    {
     "name": "stdout",
     "output_type": "stream",
     "text": [
      "Omitted assets: []\n",
      "Time to fetch data: 0.09 seconds\n",
      "Max combination of assets with complete data: 1\n"
     ]
    },
    {
     "name": "stderr",
     "output_type": "stream",
     "text": [
      "\n"
     ]
    },
    {
     "data": {
      "application/vnd.plotly.v1+json": {
       "config": {
        "plotlyServerURL": "https://plotly.com"
       },
       "data": [
        {
         "mode": "lines",
         "name": "Nasdaq Composite",
         "type": "scatter",
         "x": [
          "2018-01-02T00:00:00.000000000",
          "2018-01-03T00:00:00.000000000",
          "2018-01-04T00:00:00.000000000",
          "2018-01-05T00:00:00.000000000",
          "2018-01-08T00:00:00.000000000",
          "2018-01-09T00:00:00.000000000",
          "2018-01-10T00:00:00.000000000",
          "2018-01-11T00:00:00.000000000",
          "2018-01-12T00:00:00.000000000",
          "2018-01-16T00:00:00.000000000",
          "2018-01-17T00:00:00.000000000",
          "2018-01-18T00:00:00.000000000",
          "2018-01-19T00:00:00.000000000",
          "2018-01-22T00:00:00.000000000",
          "2018-01-23T00:00:00.000000000",
          "2018-01-24T00:00:00.000000000",
          "2018-01-25T00:00:00.000000000",
          "2018-01-26T00:00:00.000000000",
          "2018-01-29T00:00:00.000000000"
         ],
         "y": {
          "bdata": "AAAAAAAAWUAqUcs6jTVZQIgLKhfcQFlAlvBRAG52WUAo0vugdIlZQFf1jQAcj1lAaaaCVveFWUDNSfBgIrtZQIlcn2sl6FlAqapsSgPGWUA2f35iJApaQAkfs/QaCFpAN5kMNPEsWkBcOVTcYm5aQEyohrMenlpAFizcuc50WkDDJCvTPnFaQC0jGSKpx1pAUW8GCs2jWkA=",
          "dtype": "f8"
         }
        },
        {
         "mode": "lines",
         "name": "Portfolio Growth",
         "type": "scatter",
         "x": [
          "2018-01-02T00:00:00.000000000",
          "2018-01-03T00:00:00.000000000",
          "2018-01-04T00:00:00.000000000",
          "2018-01-05T00:00:00.000000000",
          "2018-01-08T00:00:00.000000000",
          "2018-01-09T00:00:00.000000000",
          "2018-01-10T00:00:00.000000000",
          "2018-01-11T00:00:00.000000000",
          "2018-01-12T00:00:00.000000000",
          "2018-01-16T00:00:00.000000000",
          "2018-01-17T00:00:00.000000000",
          "2018-01-18T00:00:00.000000000",
          "2018-01-19T00:00:00.000000000",
          "2018-01-22T00:00:00.000000000",
          "2018-01-23T00:00:00.000000000",
          "2018-01-24T00:00:00.000000000",
          "2018-01-25T00:00:00.000000000",
          "2018-01-26T00:00:00.000000000",
          "2018-01-29T00:00:00.000000000",
          "2018-01-30T00:00:00.000000000"
         ],
         "y": {
          "bdata": "AAAAAAAAWUCL6py5r0tZQOD2RViGaVlAWBGSUITeWUBbjErYCqdZQFuMStgKp1lA0tT/saKOWUAH0IRQ7cJZQFDCeA4wJVpALaXoUmR7WkAtpehSZHtaQNiF/WoF3VpACHWrXsrrWkBUieJ2Dh9bQOEAX/HHjltA4QBf8ceOW0DhAF/xx45bQOEAX/HHjltA4QBf8ceOW0DhAF/xx45bQA==",
          "dtype": "f8"
         }
        }
       ],
       "layout": {
        "font": {
         "family": "Cambria",
         "size": 18
        },
        "height": 1080,
        "template": {
         "data": {
          "bar": [
           {
            "error_x": {
             "color": "#2a3f5f"
            },
            "error_y": {
             "color": "#2a3f5f"
            },
            "marker": {
             "line": {
              "color": "#E5ECF6",
              "width": 0.5
             },
             "pattern": {
              "fillmode": "overlay",
              "size": 10,
              "solidity": 0.2
             }
            },
            "type": "bar"
           }
          ],
          "barpolar": [
           {
            "marker": {
             "line": {
              "color": "#E5ECF6",
              "width": 0.5
             },
             "pattern": {
              "fillmode": "overlay",
              "size": 10,
              "solidity": 0.2
             }
            },
            "type": "barpolar"
           }
          ],
          "carpet": [
           {
            "aaxis": {
             "endlinecolor": "#2a3f5f",
             "gridcolor": "white",
             "linecolor": "white",
             "minorgridcolor": "white",
             "startlinecolor": "#2a3f5f"
            },
            "baxis": {
             "endlinecolor": "#2a3f5f",
             "gridcolor": "white",
             "linecolor": "white",
             "minorgridcolor": "white",
             "startlinecolor": "#2a3f5f"
            },
            "type": "carpet"
           }
          ],
          "choropleth": [
           {
            "colorbar": {
             "outlinewidth": 0,
             "ticks": ""
            },
            "type": "choropleth"
           }
          ],
          "contour": [
           {
            "colorbar": {
             "outlinewidth": 0,
             "ticks": ""
            },
            "colorscale": [
             [
              0,
              "#0d0887"
             ],
             [
              0.1111111111111111,
              "#46039f"
             ],
             [
              0.2222222222222222,
              "#7201a8"
             ],
             [
              0.3333333333333333,
              "#9c179e"
             ],
             [
              0.4444444444444444,
              "#bd3786"
             ],
             [
              0.5555555555555556,
              "#d8576b"
             ],
             [
              0.6666666666666666,
              "#ed7953"
             ],
             [
              0.7777777777777778,
              "#fb9f3a"
             ],
             [
              0.8888888888888888,
              "#fdca26"
             ],
             [
              1,
              "#f0f921"
             ]
            ],
            "type": "contour"
           }
          ],
          "contourcarpet": [
           {
            "colorbar": {
             "outlinewidth": 0,
             "ticks": ""
            },
            "type": "contourcarpet"
           }
          ],
          "heatmap": [
           {
            "colorbar": {
             "outlinewidth": 0,
             "ticks": ""
            },
            "colorscale": [
             [
              0,
              "#0d0887"
             ],
             [
              0.1111111111111111,
              "#46039f"
             ],
             [
              0.2222222222222222,
              "#7201a8"
             ],
             [
              0.3333333333333333,
              "#9c179e"
             ],
             [
              0.4444444444444444,
              "#bd3786"
             ],
             [
              0.5555555555555556,
              "#d8576b"
             ],
             [
              0.6666666666666666,
              "#ed7953"
             ],
             [
              0.7777777777777778,
              "#fb9f3a"
             ],
             [
              0.8888888888888888,
              "#fdca26"
             ],
             [
              1,
              "#f0f921"
             ]
            ],
            "type": "heatmap"
           }
          ],
          "histogram": [
           {
            "marker": {
             "pattern": {
              "fillmode": "overlay",
              "size": 10,
              "solidity": 0.2
             }
            },
            "type": "histogram"
           }
          ],
          "histogram2d": [
           {
            "colorbar": {
             "outlinewidth": 0,
             "ticks": ""
            },
            "colorscale": [
             [
              0,
              "#0d0887"
             ],
             [
              0.1111111111111111,
              "#46039f"
             ],
             [
              0.2222222222222222,
              "#7201a8"
             ],
             [
              0.3333333333333333,
              "#9c179e"
             ],
             [
              0.4444444444444444,
              "#bd3786"
             ],
             [
              0.5555555555555556,
              "#d8576b"
             ],
             [
              0.6666666666666666,
              "#ed7953"
             ],
             [
              0.7777777777777778,
              "#fb9f3a"
             ],
             [
              0.8888888888888888,
              "#fdca26"
             ],
             [
              1,
              "#f0f921"
             ]
            ],
            "type": "histogram2d"
           }
          ],
          "histogram2dcontour": [
           {
            "colorbar": {
             "outlinewidth": 0,
             "ticks": ""
            },
            "colorscale": [
             [
              0,
              "#0d0887"
             ],
             [
              0.1111111111111111,
              "#46039f"
             ],
             [
              0.2222222222222222,
              "#7201a8"
             ],
             [
              0.3333333333333333,
              "#9c179e"
             ],
             [
              0.4444444444444444,
              "#bd3786"
             ],
             [
              0.5555555555555556,
              "#d8576b"
             ],
             [
              0.6666666666666666,
              "#ed7953"
             ],
             [
              0.7777777777777778,
              "#fb9f3a"
             ],
             [
              0.8888888888888888,
              "#fdca26"
             ],
             [
              1,
              "#f0f921"
             ]
            ],
            "type": "histogram2dcontour"
           }
          ],
          "mesh3d": [
           {
            "colorbar": {
             "outlinewidth": 0,
             "ticks": ""
            },
            "type": "mesh3d"
           }
          ],
          "parcoords": [
           {
            "line": {
             "colorbar": {
              "outlinewidth": 0,
              "ticks": ""
             }
            },
            "type": "parcoords"
           }
          ],
          "pie": [
           {
            "automargin": true,
            "type": "pie"
           }
          ],
          "scatter": [
           {
            "fillpattern": {
             "fillmode": "overlay",
             "size": 10,
             "solidity": 0.2
            },
            "type": "scatter"
           }
          ],
          "scatter3d": [
           {
            "line": {
             "colorbar": {
              "outlinewidth": 0,
              "ticks": ""
             }
            },
            "marker": {
             "colorbar": {
              "outlinewidth": 0,
              "ticks": ""
             }
            },
            "type": "scatter3d"
           }
          ],
          "scattercarpet": [
           {
            "marker": {
             "colorbar": {
              "outlinewidth": 0,
              "ticks": ""
             }
            },
            "type": "scattercarpet"
           }
          ],
          "scattergeo": [
           {
            "marker": {
             "colorbar": {
              "outlinewidth": 0,
              "ticks": ""
             }
            },
            "type": "scattergeo"
           }
          ],
          "scattergl": [
           {
            "marker": {
             "colorbar": {
              "outlinewidth": 0,
              "ticks": ""
             }
            },
            "type": "scattergl"
           }
          ],
          "scattermap": [
           {
            "marker": {
             "colorbar": {
              "outlinewidth": 0,
              "ticks": ""
             }
            },
            "type": "scattermap"
           }
          ],
          "scattermapbox": [
           {
            "marker": {
             "colorbar": {
              "outlinewidth": 0,
              "ticks": ""
             }
            },
            "type": "scattermapbox"
           }
          ],
          "scatterpolar": [
           {
            "marker": {
             "colorbar": {
              "outlinewidth": 0,
              "ticks": ""
             }
            },
            "type": "scatterpolar"
           }
          ],
          "scatterpolargl": [
           {
            "marker": {
             "colorbar": {
              "outlinewidth": 0,
              "ticks": ""
             }
            },
            "type": "scatterpolargl"
           }
          ],
          "scatterternary": [
           {
            "marker": {
             "colorbar": {
              "outlinewidth": 0,
              "ticks": ""
             }
            },
            "type": "scatterternary"
           }
          ],
          "surface": [
           {
            "colorbar": {
             "outlinewidth": 0,
             "ticks": ""
            },
            "colorscale": [
             [
              0,
              "#0d0887"
             ],
             [
              0.1111111111111111,
              "#46039f"
             ],
             [
              0.2222222222222222,
              "#7201a8"
             ],
             [
              0.3333333333333333,
              "#9c179e"
             ],
             [
              0.4444444444444444,
              "#bd3786"
             ],
             [
              0.5555555555555556,
              "#d8576b"
             ],
             [
              0.6666666666666666,
              "#ed7953"
             ],
             [
              0.7777777777777778,
              "#fb9f3a"
             ],
             [
              0.8888888888888888,
              "#fdca26"
             ],
             [
              1,
              "#f0f921"
             ]
            ],
            "type": "surface"
           }
          ],
          "table": [
           {
            "cells": {
             "fill": {
              "color": "#EBF0F8"
             },
             "line": {
              "color": "white"
             }
            },
            "header": {
             "fill": {
              "color": "#C8D4E3"
             },
             "line": {
              "color": "white"
             }
            },
            "type": "table"
           }
          ]
         },
         "layout": {
          "annotationdefaults": {
           "arrowcolor": "#2a3f5f",
           "arrowhead": 0,
           "arrowwidth": 1
          },
          "autotypenumbers": "strict",
          "coloraxis": {
           "colorbar": {
            "outlinewidth": 0,
            "ticks": ""
           }
          },
          "colorscale": {
           "diverging": [
            [
             0,
             "#8e0152"
            ],
            [
             0.1,
             "#c51b7d"
            ],
            [
             0.2,
             "#de77ae"
            ],
            [
             0.3,
             "#f1b6da"
            ],
            [
             0.4,
             "#fde0ef"
            ],
            [
             0.5,
             "#f7f7f7"
            ],
            [
             0.6,
             "#e6f5d0"
            ],
            [
             0.7,
             "#b8e186"
            ],
            [
             0.8,
             "#7fbc41"
            ],
            [
             0.9,
             "#4d9221"
            ],
            [
             1,
             "#276419"
            ]
           ],
           "sequential": [
            [
             0,
             "#0d0887"
            ],
            [
             0.1111111111111111,
             "#46039f"
            ],
            [
             0.2222222222222222,
             "#7201a8"
            ],
            [
             0.3333333333333333,
             "#9c179e"
            ],
            [
             0.4444444444444444,
             "#bd3786"
            ],
            [
             0.5555555555555556,
             "#d8576b"
            ],
            [
             0.6666666666666666,
             "#ed7953"
            ],
            [
             0.7777777777777778,
             "#fb9f3a"
            ],
            [
             0.8888888888888888,
             "#fdca26"
            ],
            [
             1,
             "#f0f921"
            ]
           ],
           "sequentialminus": [
            [
             0,
             "#0d0887"
            ],
            [
             0.1111111111111111,
             "#46039f"
            ],
            [
             0.2222222222222222,
             "#7201a8"
            ],
            [
             0.3333333333333333,
             "#9c179e"
            ],
            [
             0.4444444444444444,
             "#bd3786"
            ],
            [
             0.5555555555555556,
             "#d8576b"
            ],
            [
             0.6666666666666666,
             "#ed7953"
            ],
            [
             0.7777777777777778,
             "#fb9f3a"
            ],
            [
             0.8888888888888888,
             "#fdca26"
            ],
            [
             1,
             "#f0f921"
            ]
           ]
          },
          "colorway": [
           "#636efa",
           "#EF553B",
           "#00cc96",
           "#ab63fa",
           "#FFA15A",
           "#19d3f3",
           "#FF6692",
           "#B6E880",
           "#FF97FF",
           "#FECB52"
          ],
          "font": {
           "color": "#2a3f5f"
          },
          "geo": {
           "bgcolor": "white",
           "lakecolor": "white",
           "landcolor": "#E5ECF6",
           "showlakes": true,
           "showland": true,
           "subunitcolor": "white"
          },
          "hoverlabel": {
           "align": "left"
          },
          "hovermode": "closest",
          "mapbox": {
           "style": "light"
          },
          "paper_bgcolor": "white",
          "plot_bgcolor": "#E5ECF6",
          "polar": {
           "angularaxis": {
            "gridcolor": "white",
            "linecolor": "white",
            "ticks": ""
           },
           "bgcolor": "#E5ECF6",
           "radialaxis": {
            "gridcolor": "white",
            "linecolor": "white",
            "ticks": ""
           }
          },
          "scene": {
           "xaxis": {
            "backgroundcolor": "#E5ECF6",
            "gridcolor": "white",
            "gridwidth": 2,
            "linecolor": "white",
            "showbackground": true,
            "ticks": "",
            "zerolinecolor": "white"
           },
           "yaxis": {
            "backgroundcolor": "#E5ECF6",
            "gridcolor": "white",
            "gridwidth": 2,
            "linecolor": "white",
            "showbackground": true,
            "ticks": "",
            "zerolinecolor": "white"
           },
           "zaxis": {
            "backgroundcolor": "#E5ECF6",
            "gridcolor": "white",
            "gridwidth": 2,
            "linecolor": "white",
            "showbackground": true,
            "ticks": "",
            "zerolinecolor": "white"
           }
          },
          "shapedefaults": {
           "line": {
            "color": "#2a3f5f"
           }
          },
          "ternary": {
           "aaxis": {
            "gridcolor": "white",
            "linecolor": "white",
            "ticks": ""
           },
           "baxis": {
            "gridcolor": "white",
            "linecolor": "white",
            "ticks": ""
           },
           "bgcolor": "#E5ECF6",
           "caxis": {
            "gridcolor": "white",
            "linecolor": "white",
            "ticks": ""
           }
          },
          "title": {
           "x": 0.05
          },
          "xaxis": {
           "automargin": true,
           "gridcolor": "white",
           "linecolor": "white",
           "ticks": "",
           "title": {
            "standoff": 15
           },
           "zerolinecolor": "white",
           "zerolinewidth": 2
          },
          "yaxis": {
           "automargin": true,
           "gridcolor": "white",
           "linecolor": "white",
           "ticks": "",
           "title": {
            "standoff": 15
           },
           "zerolinecolor": "white",
           "zerolinewidth": 2
          }
         }
        },
        "title": {
         "text": "Comparison of Portfolio vs. Nasdaq Composite Growth"
        },
        "width": 1920,
        "xaxis": {
         "tickformat": "%b %Y",
         "tickmode": "auto",
         "title": {
          "text": "Date"
         },
         "type": "date"
        },
        "yaxis": {
         "title": {
          "text": "Normalized Value (Base 100)"
         }
        }
       }
      }
     },
     "metadata": {},
     "output_type": "display_data"
    }
   ],
   "source": [
    "ML_daily_returns = ML_portfolio_streamed.pct_change()\n",
    "ML_cumulative_returns = (1 + ML_daily_returns).cumprod()\n",
    "\n",
    "ML_cumulative_returns.iloc[0] = 1\n",
    "ML_portfolio_normalized = (ML_cumulative_returns / ML_cumulative_returns.iloc[0]) * 100\n",
    "\n",
    "Nasdaq_comp = getNasdaq_comp(ML_portfolio_streamed.index[0], ML_portfolio_streamed.index[-1])\n",
    "\n",
    "fig = go.Figure()\n",
    "\n",
    "fig.add_trace(go.Scatter(\n",
    "    x=Nasdaq_comp.index,\n",
    "    y=Nasdaq_comp['Normalized'],\n",
    "    mode='lines',\n",
    "    name='Nasdaq Composite'\n",
    "))\n",
    "\n",
    "fig.add_trace(go.Scatter(\n",
    "    x=ML_cumulative_returns.index,\n",
    "    y=ML_portfolio_normalized,\n",
    "    mode='lines',\n",
    "    name='Portfolio Growth'\n",
    "))\n",
    "\n",
    "fig.update_layout(\n",
    "    title='Comparison of Portfolio vs. Nasdaq Composite Growth',\n",
    "    xaxis_title='Date',\n",
    "    yaxis_title='Normalized Value (Base 100)',\n",
    "    xaxis=dict(\n",
    "        type='date',\n",
    "        tickformat='%b %Y',\n",
    "        tickmode='auto'\n",
    "    ),\n",
    "    width=1920,\n",
    "    height=1080,\n",
    "    font=dict(\n",
    "        family=\"Cambria\",\n",
    "        size=18,\n",
    "    )\n",
    ")\n",
    "fig.show()\n",
    "#fig.write_html(\"RBAVsNasdaq.html\")\n",
    "#fig.write_image(\"RBAVsNasdaq.png\", format='png', width=1920, height=1080)"
   ]
  },
  {
   "cell_type": "markdown",
   "metadata": {
    "id": "S5u_KAQS1CRr"
   },
   "source": [
    "## 7.0 Testing Against Others"
   ]
  },
  {
   "cell_type": "code",
   "execution_count": 76,
   "metadata": {
    "colab": {
     "base_uri": "https://localhost:8080/",
     "height": 594
    },
    "execution": {
     "iopub.execute_input": "2025-03-28T04:52:45.753176Z",
     "iopub.status.busy": "2025-03-28T04:52:45.752653Z",
     "iopub.status.idle": "2025-03-28T04:52:45.914394Z",
     "shell.execute_reply": "2025-03-28T04:52:45.913275Z",
     "shell.execute_reply.started": "2025-03-28T04:52:45.753132Z"
    },
    "id": "n4AB0laC1CRr",
    "outputId": "4b139451-2662-435b-dc3d-56a5eed5b189",
    "trusted": true
   },
   "outputs": [
    {
     "name": "stderr",
     "output_type": "stream",
     "text": [
      "[*********************100%***********************]  1 of 1 completed"
     ]
    },
    {
     "name": "stdout",
     "output_type": "stream",
     "text": [
      "Omitted assets: []\n",
      "Time to fetch data: 0.02 seconds\n",
      "Max combination of assets with complete data: 1\n"
     ]
    },
    {
     "name": "stderr",
     "output_type": "stream",
     "text": [
      "\n"
     ]
    },
    {
     "data": {
      "application/vnd.plotly.v1+json": {
       "config": {
        "plotlyServerURL": "https://plotly.com"
       },
       "data": [
        {
         "mode": "lines",
         "name": "Nasdaq Composite",
         "type": "scatter",
         "x": [
          "2018-01-02T00:00:00.000000000",
          "2018-01-03T00:00:00.000000000",
          "2018-01-04T00:00:00.000000000",
          "2018-01-05T00:00:00.000000000",
          "2018-01-08T00:00:00.000000000",
          "2018-01-09T00:00:00.000000000",
          "2018-01-10T00:00:00.000000000",
          "2018-01-11T00:00:00.000000000",
          "2018-01-12T00:00:00.000000000",
          "2018-01-16T00:00:00.000000000",
          "2018-01-17T00:00:00.000000000",
          "2018-01-18T00:00:00.000000000",
          "2018-01-19T00:00:00.000000000",
          "2018-01-22T00:00:00.000000000",
          "2018-01-23T00:00:00.000000000",
          "2018-01-24T00:00:00.000000000",
          "2018-01-25T00:00:00.000000000",
          "2018-01-26T00:00:00.000000000",
          "2018-01-29T00:00:00.000000000"
         ],
         "y": {
          "bdata": "AAAAAAAAWUAqUcs6jTVZQIgLKhfcQFlAlvBRAG52WUAo0vugdIlZQFf1jQAcj1lAaaaCVveFWUDNSfBgIrtZQIlcn2sl6FlAqapsSgPGWUA2f35iJApaQAkfs/QaCFpAN5kMNPEsWkBcOVTcYm5aQEyohrMenlpAFizcuc50WkDDJCvTPnFaQC0jGSKpx1pAUW8GCs2jWkA=",
          "dtype": "f8"
         }
        },
        {
         "mode": "lines",
         "name": "Portfolio with Adjustments",
         "type": "scatter",
         "x": [
          "2018-01-02T00:00:00.000000000",
          "2018-01-03T00:00:00.000000000",
          "2018-01-04T00:00:00.000000000",
          "2018-01-05T00:00:00.000000000",
          "2018-01-08T00:00:00.000000000",
          "2018-01-09T00:00:00.000000000",
          "2018-01-10T00:00:00.000000000",
          "2018-01-11T00:00:00.000000000",
          "2018-01-12T00:00:00.000000000",
          "2018-01-16T00:00:00.000000000",
          "2018-01-17T00:00:00.000000000",
          "2018-01-18T00:00:00.000000000",
          "2018-01-19T00:00:00.000000000",
          "2018-01-22T00:00:00.000000000",
          "2018-01-23T00:00:00.000000000",
          "2018-01-24T00:00:00.000000000",
          "2018-01-25T00:00:00.000000000",
          "2018-01-26T00:00:00.000000000",
          "2018-01-29T00:00:00.000000000",
          "2018-01-30T00:00:00.000000000"
         ],
         "y": {
          "bdata": "AAAAAAAAWUCL6py5r0tZQOD2RViGaVlAWBGSUITeWUBbjErYCqdZQFuMStgKp1lA0tT/saKOWUAH0IRQ7cJZQFDCeA4wJVpALaXoUmR7WkAtpehSZHtaQNiF/WoF3VpACHWrXsrrWkBUieJ2Dh9bQOEAX/HHjltA4QBf8ceOW0DhAF/xx45bQOEAX/HHjltA4QBf8ceOW0DhAF/xx45bQA==",
          "dtype": "f8"
         }
        },
        {
         "mode": "lines",
         "name": "Base Portfolio",
         "type": "scatter",
         "x": [
          "2018-01-02T00:00:00.000000000",
          "2018-01-03T00:00:00.000000000",
          "2018-01-04T00:00:00.000000000",
          "2018-01-05T00:00:00.000000000",
          "2018-01-08T00:00:00.000000000",
          "2018-01-09T00:00:00.000000000",
          "2018-01-10T00:00:00.000000000",
          "2018-01-11T00:00:00.000000000",
          "2018-01-12T00:00:00.000000000",
          "2018-01-16T00:00:00.000000000",
          "2018-01-17T00:00:00.000000000",
          "2018-01-18T00:00:00.000000000",
          "2018-01-19T00:00:00.000000000",
          "2018-01-22T00:00:00.000000000",
          "2018-01-23T00:00:00.000000000",
          "2018-01-24T00:00:00.000000000",
          "2018-01-25T00:00:00.000000000",
          "2018-01-26T00:00:00.000000000",
          "2018-01-29T00:00:00.000000000",
          "2018-01-30T00:00:00.000000000"
         ],
         "y": {
          "bdata": "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",
          "dtype": "f8"
         }
        }
       ],
       "layout": {
        "font": {
         "family": "Cambria",
         "size": 18
        },
        "height": 1080,
        "template": {
         "data": {
          "bar": [
           {
            "error_x": {
             "color": "#2a3f5f"
            },
            "error_y": {
             "color": "#2a3f5f"
            },
            "marker": {
             "line": {
              "color": "#E5ECF6",
              "width": 0.5
             },
             "pattern": {
              "fillmode": "overlay",
              "size": 10,
              "solidity": 0.2
             }
            },
            "type": "bar"
           }
          ],
          "barpolar": [
           {
            "marker": {
             "line": {
              "color": "#E5ECF6",
              "width": 0.5
             },
             "pattern": {
              "fillmode": "overlay",
              "size": 10,
              "solidity": 0.2
             }
            },
            "type": "barpolar"
           }
          ],
          "carpet": [
           {
            "aaxis": {
             "endlinecolor": "#2a3f5f",
             "gridcolor": "white",
             "linecolor": "white",
             "minorgridcolor": "white",
             "startlinecolor": "#2a3f5f"
            },
            "baxis": {
             "endlinecolor": "#2a3f5f",
             "gridcolor": "white",
             "linecolor": "white",
             "minorgridcolor": "white",
             "startlinecolor": "#2a3f5f"
            },
            "type": "carpet"
           }
          ],
          "choropleth": [
           {
            "colorbar": {
             "outlinewidth": 0,
             "ticks": ""
            },
            "type": "choropleth"
           }
          ],
          "contour": [
           {
            "colorbar": {
             "outlinewidth": 0,
             "ticks": ""
            },
            "colorscale": [
             [
              0,
              "#0d0887"
             ],
             [
              0.1111111111111111,
              "#46039f"
             ],
             [
              0.2222222222222222,
              "#7201a8"
             ],
             [
              0.3333333333333333,
              "#9c179e"
             ],
             [
              0.4444444444444444,
              "#bd3786"
             ],
             [
              0.5555555555555556,
              "#d8576b"
             ],
             [
              0.6666666666666666,
              "#ed7953"
             ],
             [
              0.7777777777777778,
              "#fb9f3a"
             ],
             [
              0.8888888888888888,
              "#fdca26"
             ],
             [
              1,
              "#f0f921"
             ]
            ],
            "type": "contour"
           }
          ],
          "contourcarpet": [
           {
            "colorbar": {
             "outlinewidth": 0,
             "ticks": ""
            },
            "type": "contourcarpet"
           }
          ],
          "heatmap": [
           {
            "colorbar": {
             "outlinewidth": 0,
             "ticks": ""
            },
            "colorscale": [
             [
              0,
              "#0d0887"
             ],
             [
              0.1111111111111111,
              "#46039f"
             ],
             [
              0.2222222222222222,
              "#7201a8"
             ],
             [
              0.3333333333333333,
              "#9c179e"
             ],
             [
              0.4444444444444444,
              "#bd3786"
             ],
             [
              0.5555555555555556,
              "#d8576b"
             ],
             [
              0.6666666666666666,
              "#ed7953"
             ],
             [
              0.7777777777777778,
              "#fb9f3a"
             ],
             [
              0.8888888888888888,
              "#fdca26"
             ],
             [
              1,
              "#f0f921"
             ]
            ],
            "type": "heatmap"
           }
          ],
          "histogram": [
           {
            "marker": {
             "pattern": {
              "fillmode": "overlay",
              "size": 10,
              "solidity": 0.2
             }
            },
            "type": "histogram"
           }
          ],
          "histogram2d": [
           {
            "colorbar": {
             "outlinewidth": 0,
             "ticks": ""
            },
            "colorscale": [
             [
              0,
              "#0d0887"
             ],
             [
              0.1111111111111111,
              "#46039f"
             ],
             [
              0.2222222222222222,
              "#7201a8"
             ],
             [
              0.3333333333333333,
              "#9c179e"
             ],
             [
              0.4444444444444444,
              "#bd3786"
             ],
             [
              0.5555555555555556,
              "#d8576b"
             ],
             [
              0.6666666666666666,
              "#ed7953"
             ],
             [
              0.7777777777777778,
              "#fb9f3a"
             ],
             [
              0.8888888888888888,
              "#fdca26"
             ],
             [
              1,
              "#f0f921"
             ]
            ],
            "type": "histogram2d"
           }
          ],
          "histogram2dcontour": [
           {
            "colorbar": {
             "outlinewidth": 0,
             "ticks": ""
            },
            "colorscale": [
             [
              0,
              "#0d0887"
             ],
             [
              0.1111111111111111,
              "#46039f"
             ],
             [
              0.2222222222222222,
              "#7201a8"
             ],
             [
              0.3333333333333333,
              "#9c179e"
             ],
             [
              0.4444444444444444,
              "#bd3786"
             ],
             [
              0.5555555555555556,
              "#d8576b"
             ],
             [
              0.6666666666666666,
              "#ed7953"
             ],
             [
              0.7777777777777778,
              "#fb9f3a"
             ],
             [
              0.8888888888888888,
              "#fdca26"
             ],
             [
              1,
              "#f0f921"
             ]
            ],
            "type": "histogram2dcontour"
           }
          ],
          "mesh3d": [
           {
            "colorbar": {
             "outlinewidth": 0,
             "ticks": ""
            },
            "type": "mesh3d"
           }
          ],
          "parcoords": [
           {
            "line": {
             "colorbar": {
              "outlinewidth": 0,
              "ticks": ""
             }
            },
            "type": "parcoords"
           }
          ],
          "pie": [
           {
            "automargin": true,
            "type": "pie"
           }
          ],
          "scatter": [
           {
            "fillpattern": {
             "fillmode": "overlay",
             "size": 10,
             "solidity": 0.2
            },
            "type": "scatter"
           }
          ],
          "scatter3d": [
           {
            "line": {
             "colorbar": {
              "outlinewidth": 0,
              "ticks": ""
             }
            },
            "marker": {
             "colorbar": {
              "outlinewidth": 0,
              "ticks": ""
             }
            },
            "type": "scatter3d"
           }
          ],
          "scattercarpet": [
           {
            "marker": {
             "colorbar": {
              "outlinewidth": 0,
              "ticks": ""
             }
            },
            "type": "scattercarpet"
           }
          ],
          "scattergeo": [
           {
            "marker": {
             "colorbar": {
              "outlinewidth": 0,
              "ticks": ""
             }
            },
            "type": "scattergeo"
           }
          ],
          "scattergl": [
           {
            "marker": {
             "colorbar": {
              "outlinewidth": 0,
              "ticks": ""
             }
            },
            "type": "scattergl"
           }
          ],
          "scattermap": [
           {
            "marker": {
             "colorbar": {
              "outlinewidth": 0,
              "ticks": ""
             }
            },
            "type": "scattermap"
           }
          ],
          "scattermapbox": [
           {
            "marker": {
             "colorbar": {
              "outlinewidth": 0,
              "ticks": ""
             }
            },
            "type": "scattermapbox"
           }
          ],
          "scatterpolar": [
           {
            "marker": {
             "colorbar": {
              "outlinewidth": 0,
              "ticks": ""
             }
            },
            "type": "scatterpolar"
           }
          ],
          "scatterpolargl": [
           {
            "marker": {
             "colorbar": {
              "outlinewidth": 0,
              "ticks": ""
             }
            },
            "type": "scatterpolargl"
           }
          ],
          "scatterternary": [
           {
            "marker": {
             "colorbar": {
              "outlinewidth": 0,
              "ticks": ""
             }
            },
            "type": "scatterternary"
           }
          ],
          "surface": [
           {
            "colorbar": {
             "outlinewidth": 0,
             "ticks": ""
            },
            "colorscale": [
             [
              0,
              "#0d0887"
             ],
             [
              0.1111111111111111,
              "#46039f"
             ],
             [
              0.2222222222222222,
              "#7201a8"
             ],
             [
              0.3333333333333333,
              "#9c179e"
             ],
             [
              0.4444444444444444,
              "#bd3786"
             ],
             [
              0.5555555555555556,
              "#d8576b"
             ],
             [
              0.6666666666666666,
              "#ed7953"
             ],
             [
              0.7777777777777778,
              "#fb9f3a"
             ],
             [
              0.8888888888888888,
              "#fdca26"
             ],
             [
              1,
              "#f0f921"
             ]
            ],
            "type": "surface"
           }
          ],
          "table": [
           {
            "cells": {
             "fill": {
              "color": "#EBF0F8"
             },
             "line": {
              "color": "white"
             }
            },
            "header": {
             "fill": {
              "color": "#C8D4E3"
             },
             "line": {
              "color": "white"
             }
            },
            "type": "table"
           }
          ]
         },
         "layout": {
          "annotationdefaults": {
           "arrowcolor": "#2a3f5f",
           "arrowhead": 0,
           "arrowwidth": 1
          },
          "autotypenumbers": "strict",
          "coloraxis": {
           "colorbar": {
            "outlinewidth": 0,
            "ticks": ""
           }
          },
          "colorscale": {
           "diverging": [
            [
             0,
             "#8e0152"
            ],
            [
             0.1,
             "#c51b7d"
            ],
            [
             0.2,
             "#de77ae"
            ],
            [
             0.3,
             "#f1b6da"
            ],
            [
             0.4,
             "#fde0ef"
            ],
            [
             0.5,
             "#f7f7f7"
            ],
            [
             0.6,
             "#e6f5d0"
            ],
            [
             0.7,
             "#b8e186"
            ],
            [
             0.8,
             "#7fbc41"
            ],
            [
             0.9,
             "#4d9221"
            ],
            [
             1,
             "#276419"
            ]
           ],
           "sequential": [
            [
             0,
             "#0d0887"
            ],
            [
             0.1111111111111111,
             "#46039f"
            ],
            [
             0.2222222222222222,
             "#7201a8"
            ],
            [
             0.3333333333333333,
             "#9c179e"
            ],
            [
             0.4444444444444444,
             "#bd3786"
            ],
            [
             0.5555555555555556,
             "#d8576b"
            ],
            [
             0.6666666666666666,
             "#ed7953"
            ],
            [
             0.7777777777777778,
             "#fb9f3a"
            ],
            [
             0.8888888888888888,
             "#fdca26"
            ],
            [
             1,
             "#f0f921"
            ]
           ],
           "sequentialminus": [
            [
             0,
             "#0d0887"
            ],
            [
             0.1111111111111111,
             "#46039f"
            ],
            [
             0.2222222222222222,
             "#7201a8"
            ],
            [
             0.3333333333333333,
             "#9c179e"
            ],
            [
             0.4444444444444444,
             "#bd3786"
            ],
            [
             0.5555555555555556,
             "#d8576b"
            ],
            [
             0.6666666666666666,
             "#ed7953"
            ],
            [
             0.7777777777777778,
             "#fb9f3a"
            ],
            [
             0.8888888888888888,
             "#fdca26"
            ],
            [
             1,
             "#f0f921"
            ]
           ]
          },
          "colorway": [
           "#636efa",
           "#EF553B",
           "#00cc96",
           "#ab63fa",
           "#FFA15A",
           "#19d3f3",
           "#FF6692",
           "#B6E880",
           "#FF97FF",
           "#FECB52"
          ],
          "font": {
           "color": "#2a3f5f"
          },
          "geo": {
           "bgcolor": "white",
           "lakecolor": "white",
           "landcolor": "#E5ECF6",
           "showlakes": true,
           "showland": true,
           "subunitcolor": "white"
          },
          "hoverlabel": {
           "align": "left"
          },
          "hovermode": "closest",
          "mapbox": {
           "style": "light"
          },
          "paper_bgcolor": "white",
          "plot_bgcolor": "#E5ECF6",
          "polar": {
           "angularaxis": {
            "gridcolor": "white",
            "linecolor": "white",
            "ticks": ""
           },
           "bgcolor": "#E5ECF6",
           "radialaxis": {
            "gridcolor": "white",
            "linecolor": "white",
            "ticks": ""
           }
          },
          "scene": {
           "xaxis": {
            "backgroundcolor": "#E5ECF6",
            "gridcolor": "white",
            "gridwidth": 2,
            "linecolor": "white",
            "showbackground": true,
            "ticks": "",
            "zerolinecolor": "white"
           },
           "yaxis": {
            "backgroundcolor": "#E5ECF6",
            "gridcolor": "white",
            "gridwidth": 2,
            "linecolor": "white",
            "showbackground": true,
            "ticks": "",
            "zerolinecolor": "white"
           },
           "zaxis": {
            "backgroundcolor": "#E5ECF6",
            "gridcolor": "white",
            "gridwidth": 2,
            "linecolor": "white",
            "showbackground": true,
            "ticks": "",
            "zerolinecolor": "white"
           }
          },
          "shapedefaults": {
           "line": {
            "color": "#2a3f5f"
           }
          },
          "ternary": {
           "aaxis": {
            "gridcolor": "white",
            "linecolor": "white",
            "ticks": ""
           },
           "baxis": {
            "gridcolor": "white",
            "linecolor": "white",
            "ticks": ""
           },
           "bgcolor": "#E5ECF6",
           "caxis": {
            "gridcolor": "white",
            "linecolor": "white",
            "ticks": ""
           }
          },
          "title": {
           "x": 0.05
          },
          "xaxis": {
           "automargin": true,
           "gridcolor": "white",
           "linecolor": "white",
           "ticks": "",
           "title": {
            "standoff": 15
           },
           "zerolinecolor": "white",
           "zerolinewidth": 2
          },
          "yaxis": {
           "automargin": true,
           "gridcolor": "white",
           "linecolor": "white",
           "ticks": "",
           "title": {
            "standoff": 15
           },
           "zerolinecolor": "white",
           "zerolinewidth": 2
          }
         }
        },
        "title": {
         "text": "Comparison of Portfolio vs. Nasdaq Composite Growth"
        },
        "width": 1920,
        "xaxis": {
         "tickformat": "%b %Y",
         "tickmode": "auto",
         "title": {
          "text": "Date"
         },
         "type": "date"
        },
        "yaxis": {
         "title": {
          "text": "Normalized Value (Base 100)"
         }
        }
       }
      }
     },
     "metadata": {},
     "output_type": "display_data"
    }
   ],
   "source": [
    "best_port_assets = best_portfolio['tickers']\n",
    "best_port_assets_test_data = raw_data_test.loc[:, best_port_assets]\n",
    "\n",
    "Nasdaq_comp = getNasdaq_comp(ML_cumulative_returns.index[0], ML_cumulative_returns.index[-1])\n",
    "\n",
    "best_portfolio_weights = best_portfolio['weights']\n",
    "normalized_prices = best_port_assets_test_data.div(best_port_assets_test_data.iloc[0])\n",
    "daily_returns = normalized_prices.pct_change()\n",
    "weighted_returns = daily_returns.mul(best_portfolio_weights, axis='columns')\n",
    "portfolio_daily_returns = weighted_returns.sum(axis=1)\n",
    "portfolio_cumulative_returns = (1 + portfolio_daily_returns).cumprod()\n",
    "\n",
    "portfolio_start = portfolio_cumulative_returns.iloc[0]\n",
    "portfolio_normalized = (portfolio_cumulative_returns / portfolio_start) * 100\n",
    "\n",
    "fig = go.Figure()\n",
    "\n",
    "fig.add_trace(go.Scatter(\n",
    "    x=Nasdaq_comp.index,\n",
    "    y=Nasdaq_comp['Normalized'],\n",
    "    mode='lines',\n",
    "    name='Nasdaq Composite'\n",
    "))\n",
    "\n",
    "fig.add_trace(go.Scatter(\n",
    "    x=ML_cumulative_returns.index,\n",
    "    y=ML_portfolio_normalized,\n",
    "    mode='lines',\n",
    "    name='Portfolio with Adjustments'\n",
    "))\n",
    "\n",
    "fig.add_trace(go.Scatter(\n",
    "    x=ML_cumulative_returns.index,\n",
    "    y=portfolio_normalized,\n",
    "    mode='lines',\n",
    "    name='Base Portfolio'\n",
    "))\n",
    "\n",
    "fig.update_layout(\n",
    "    title='Comparison of Portfolio vs. Nasdaq Composite Growth',\n",
    "    xaxis_title='Date',\n",
    "    yaxis_title='Normalized Value (Base 100)',\n",
    "    xaxis=dict(\n",
    "        type='date',\n",
    "        tickformat='%b %Y',\n",
    "        tickmode='auto'\n",
    "    ),\n",
    "    width=1920,\n",
    "    height=1080,\n",
    "    font=dict(\n",
    "        family=\"Cambria\",\n",
    "        size=18,\n",
    "    )\n",
    ")\n",
    "fig.show()\n",
    "fig.write_html(\"MLRBAvsRBAvsNasdaq.html\")\n",
    "#fig.write_image(\"MLRBAvsRBAvsNasdaq.png\", format='png', width=1920, height=1080)"
   ]
  },
  {
   "cell_type": "markdown",
   "metadata": {},
   "source": [
    "## 8.0 Find Optimal Portfolio Size"
   ]
  },
  {
   "cell_type": "code",
   "execution_count": null,
   "metadata": {
    "execution": {
     "iopub.execute_input": "2025-03-28T04:29:53.184138Z",
     "iopub.status.busy": "2025-03-28T04:29:53.183784Z",
     "iopub.status.idle": "2025-03-28T04:33:57.922788Z",
     "shell.execute_reply": "2025-03-28T04:33:57.921447Z",
     "shell.execute_reply.started": "2025-03-28T04:29:53.184109Z"
    },
    "trusted": true
   },
   "outputs": [],
   "source": [
    "all_portfolios, dominant_portfolios = MonteCarloRBA(names, cov, annualized_returns, 10000, 'sharpe', 3, 50)"
   ]
  },
  {
   "cell_type": "code",
   "execution_count": null,
   "metadata": {
    "execution": {
     "iopub.execute_input": "2025-03-28T04:33:57.926499Z",
     "iopub.status.busy": "2025-03-28T04:33:57.926159Z",
     "iopub.status.idle": "2025-03-28T04:33:57.988969Z",
     "shell.execute_reply": "2025-03-28T04:33:57.988026Z",
     "shell.execute_reply.started": "2025-03-28T04:33:57.926470Z"
    },
    "trusted": true
   },
   "outputs": [],
   "source": [
    "rd_portfolio_sizes = [len(portfolio['tickers']) for portfolio in all_portfolios]\n",
    "rd_volatility = [np.sqrt(portfolio['variance']) for portfolio in all_portfolios]\n",
    "rd_returns = [portfolio['return'] for portfolio in all_portfolios]\n",
    "\n",
    "volatility_by_size = defaultdict(list)\n",
    "for size, vol, ret in zip(rd_portfolio_sizes, rd_volatility, rd_returns):\n",
    "    volatility_by_size[size].append((vol, ret))\n",
    "\n",
    "average_volatility = {size: np.mean([v[0] for v in vols]) for size, vols in volatility_by_size.items()}\n",
    "average_returns = {size: np.mean([v[1] for v in vols]) for size, vols in volatility_by_size.items()}\n",
    "\n",
    "sorted_sizes = sorted(average_volatility.keys())\n",
    "sorted_average_vols = [average_volatility[size] for size in sorted_sizes]\n",
    "sorted_average_rets = [average_returns[size] for size in sorted_sizes]\n",
    "\n",
    "fig = go.Figure()\n",
    "fig.add_trace(go.Scatter(\n",
    "    x=sorted_sizes,\n",
    "    y=sorted_average_vols,\n",
    "    mode='lines',\n",
    "    name='Average Volatility'\n",
    "))\n",
    "\n",
    "fig.update_layout(\n",
    "    title='Average Volatility and Returns by Portfolio Size',\n",
    "    xaxis_title='Number of Assets in Portfolio',\n",
    "    yaxis_title='Average Value',\n",
    "    xaxis=dict(type='category'),\n",
    ")\n",
    "\n",
    "fig.show()"
   ]
  },
  {
   "cell_type": "code",
   "execution_count": null,
   "metadata": {
    "execution": {
     "iopub.execute_input": "2025-03-28T04:33:57.990592Z",
     "iopub.status.busy": "2025-03-28T04:33:57.990298Z",
     "iopub.status.idle": "2025-03-28T04:44:34.066599Z",
     "shell.execute_reply": "2025-03-28T04:44:34.065198Z",
     "shell.execute_reply.started": "2025-03-28T04:33:57.990568Z"
    },
    "trusted": true
   },
   "outputs": [],
   "source": [
    "all_portfolios, dominant_portfolios = MonteCarloRBA(names, cov, annualized_returns, 10000, 'vol', 50, 50)"
   ]
  },
  {
   "cell_type": "code",
   "execution_count": null,
   "metadata": {
    "execution": {
     "iopub.execute_input": "2025-03-28T04:44:34.072029Z",
     "iopub.status.busy": "2025-03-28T04:44:34.071658Z",
     "iopub.status.idle": "2025-03-28T04:44:34.271067Z",
     "shell.execute_reply": "2025-03-28T04:44:34.270020Z",
     "shell.execute_reply.started": "2025-03-28T04:44:34.071999Z"
    },
    "trusted": true
   },
   "outputs": [],
   "source": [
    "rd_portfolio_sizes = [sum(weight > 0 for weight in portfolio['weights']) for portfolio in all_portfolios]\n",
    "\n",
    "portfolio_size_counts = Counter(rd_portfolio_sizes)\n",
    "\n",
    "sizes = sorted(portfolio_size_counts.keys())\n",
    "counts = [portfolio_size_counts[size] for size in sizes]\n",
    "\n",
    "fig = go.Figure(data=[go.Bar(x=sizes, y=counts)])\n",
    "\n",
    "fig.update_layout(\n",
    "    title='Distribution of Portfolio Sizes After Optimization',\n",
    "    xaxis_title='Number of assets in portfolio after optimizing',\n",
    "    yaxis_title='Number of Portfolios',\n",
    "    xaxis=dict(type='category'),\n",
    "    yaxis=dict(type='linear')\n",
    ")\n",
    "\n",
    "fig.show()"
   ]
  },
  {
   "cell_type": "code",
   "execution_count": null,
   "metadata": {
    "execution": {
     "iopub.execute_input": "2025-03-28T04:44:34.272635Z",
     "iopub.status.busy": "2025-03-28T04:44:34.272240Z",
     "iopub.status.idle": "2025-03-28T04:44:34.277238Z",
     "shell.execute_reply": "2025-03-28T04:44:34.275954Z",
     "shell.execute_reply.started": "2025-03-28T04:44:34.272594Z"
    },
    "trusted": true
   },
   "outputs": [],
   "source": [
    "#fig.write_html(\"PortfolioSize.html\")"
   ]
  }
 ],
 "metadata": {
  "colab": {
   "include_colab_link": true,
   "provenance": []
  },
  "kaggle": {
   "accelerator": "none",
   "dataSources": [
    {
     "datasetId": 6985997,
     "sourceId": 11190608,
     "sourceType": "datasetVersion"
    }
   ],
   "dockerImageVersionId": 30918,
   "isGpuEnabled": false,
   "isInternetEnabled": true,
   "language": "python",
   "sourceType": "notebook"
  },
  "kernelspec": {
   "display_name": "roboA",
   "language": "python",
   "name": "python3"
  },
  "language_info": {
   "codemirror_mode": {
    "name": "ipython",
    "version": 3
   },
   "file_extension": ".py",
   "mimetype": "text/x-python",
   "name": "python",
   "nbconvert_exporter": "python",
   "pygments_lexer": "ipython3",
   "version": "3.12.8"
  }
 },
 "nbformat": 4,
 "nbformat_minor": 4
}
