{
 "cells": [
  {
   "cell_type": "markdown",
   "metadata": {},
   "source": [
    "# Markowitz Efficient Frontier"
   ]
  },
  {
   "cell_type": "markdown",
   "metadata": {},
   "source": [
    "## 1. Imports"
   ]
  },
  {
   "cell_type": "code",
   "execution_count": 49,
   "metadata": {},
   "outputs": [],
   "source": [
    "import pandas as pd\n",
    "import numpy as np\n",
    "import yfinance as yf\n",
    "import plotly.graph_objects as go\n",
    "from tqdm import tqdm\n",
    "from fetchData import fetch_raw_data_yf, get_matrices, getNasdaqStocks"
   ]
  },
  {
   "cell_type": "markdown",
   "metadata": {},
   "source": [
    "## 2. Fetch Data"
   ]
  },
  {
   "cell_type": "markdown",
   "metadata": {},
   "source": [
    "### Get all Nasdaq Stocks"
   ]
  },
  {
   "cell_type": "code",
   "execution_count": 50,
   "metadata": {},
   "outputs": [
    {
     "data": {
      "text/plain": [
       "100"
      ]
     },
     "execution_count": 50,
     "metadata": {},
     "output_type": "execute_result"
    }
   ],
   "source": [
    "assets= [\n",
    "    \"AAPL\",  # Apple Inc.\n",
    "    \"MSFT\",  # Microsoft Corporation\n",
    "    \"AMZN\",  # Amazon.com Inc.\n",
    "    \"GOOGL\", # Alphabet Inc. (Google) Class A\n",
    "    \"GOOG\",  # Alphabet Inc. (Google) Class C\n",
    "    \"META\",    # Meta Platforms Inc (formerly Facebook)\n",
    "    \"TSLA\",  # Tesla Inc\n",
    "    \"UA\", # Berkshire Hathaway Inc. Class B\n",
    "    \"JPM\",   # JPMorgan Chase & Co.\n",
    "    \"V\",     # Visa Inc.\n",
    "    \"JNJ\",   # Johnson & Johnson\n",
    "    \"WMT\",   # Walmart Inc.\n",
    "    \"PG\",    # Procter & Gamble Co.\n",
    "    \"UNH\",   # UnitedHealth Group Inc.\n",
    "    \"MA\",    # Mastercard Inc.\n",
    "    \"NVDA\",  # NVIDIA Corporation\n",
    "    \"HD\",    # Home Depot Inc.\n",
    "    \"BAC\",   # Bank of America Corp\n",
    "    \"DIS\",   # Walt Disney Co\n",
    "    \"PYPL\",  # PayPal Holdings\n",
    "    \"VZ\",    # Verizon Communications Inc.\n",
    "    \"ADBE\",  # Adobe Inc.\n",
    "    \"CMCSA\", # Comcast Corporation\n",
    "    \"NFLX\",  # Netflix Inc.\n",
    "    \"KO\",    # Coca-Cola Co\n",
    "    \"NKE\",   # NIKE Inc.\n",
    "    \"PFE\",   # Pfizer Inc.\n",
    "    \"MRK\",   # Merck & Co., Inc.\n",
    "    \"PEP\",   # PepsiCo, Inc.\n",
    "    \"T\",     # AT&T Inc.\n",
    "    \"ABT\",   # Abbott Laboratories\n",
    "    \"CRM\",   # Salesforce.com Inc.\n",
    "    \"ORCL\",  # Oracle Corporation\n",
    "    \"ABBV\",  # AbbVie Inc.\n",
    "    \"CSCO\",  # Cisco Systems, Inc.\n",
    "    \"INTC\",  # Intel Corporation\n",
    "    \"TMO\",   # Thermo Fisher Scientific Inc.\n",
    "    \"XOM\",   # Exxon Mobil Corporation\n",
    "    \"ACN\",   # Accenture plc\n",
    "    \"LLY\",   # Eli Lilly and Company\n",
    "    \"COST\",  # Costco Wholesale Corporation\n",
    "    \"MCD\",   # McDonald's Corp\n",
    "    \"DHR\",   # Danaher Corporation\n",
    "    \"MDT\",   # Medtronic plc\n",
    "    \"NEE\",   # NextEra Energy, Inc.\n",
    "    \"BMY\",   # Bristol-Myers Squibb Company\n",
    "    \"QCOM\",  # Qualcomm Inc\n",
    "    \"CVX\",   # Chevron Corporation\n",
    "    \"WFC\",   # Wells Fargo & Co\n",
    "    \"LMT\",    # Lockheed Martin Corporation\n",
    "    \"GS\",   # Goldman Sachs Group, Inc.\n",
    "    \"MS\",   # Morgan Stanley\n",
    "    \"IBM\",  # International Business Machines Corporation\n",
    "    \"GE\",   # General Electric Company\n",
    "    \"F\",    # Ford Motor Company\n",
    "    \"GM\",   # General Motors Company\n",
    "    \"UBER\", # Uber Technologies, Inc.\n",
    "    \"LYFT\", # Lyft, Inc.\n",
    "    \"SNAP\", # Snap Inc.\n",
    "    \"TWTR\", # Twitter, Inc.\n",
    "    \"SPOT\", # Spotify Technology S.A.\n",
    "    \"AMD\",  # Advanced Micro Devices, Inc.\n",
    "    \"TXN\",  # Texas Instruments Incorporated\n",
    "    \"BABA\", # Alibaba Group Holding Limited\n",
    "    \"SAP\",  # SAP SE\n",
    "    \"HON\",  # Honeywell International Inc.\n",
    "    \"BA\",   # Boeing Company\n",
    "    \"RTX\",  # Raytheon Technologies Corporation\n",
    "    \"CAT\",  # Caterpillar Inc.\n",
    "    \"DE\",   # Deere & Company\n",
    "    \"MMM\",  # 3M Company\n",
    "    \"DUK\",  # Duke Energy Corporation\n",
    "    \"SO\",   # Southern Company\n",
    "    \"EXC\",  # Exelon Corporation\n",
    "    \"NEE\",  # NextEra Energy, Inc.\n",
    "    \"AEP\",  # American Electric Power Company, Inc.\n",
    "    \"SRE\",  # Sempra Energy\n",
    "    \"ETN\",  # Eaton Corporation plc\n",
    "    \"EMR\",  # Emerson Electric Co.\n",
    "    \"SYY\",  # Sysco Corporation\n",
    "    \"KR\",   # Kroger Co.\n",
    "    \"GIS\",  # General Mills, Inc.\n",
    "    \"K\",    # Kellogg Company\n",
    "    \"CPB\",  # Campbell Soup Company\n",
    "    \"MO\",   # Altria Group, Inc.\n",
    "    \"PM\",   # Philip Morris International Inc.\n",
    "    \"BTI\",  # British American Tobacco plc\n",
    "    \"RDY\",  # Dr. Reddy's Laboratories Ltd.\n",
    "    \"GILD\", # Gilead Sciences, Inc.\n",
    "    \"BIIB\", # Biogen Inc.\n",
    "    \"CELG\", # Celgene Corporation\n",
    "    \"AMGN\", # Amgen Inc.\n",
    "    \"SYK\",  # Stryker Corporation\n",
    "    \"BSX\",  # Boston Scientific Corporation\n",
    "    \"ISRG\", # Intuitive Surgical, Inc.\n",
    "    \"ZBH\",  # Zimmer Biomet Holdings, Inc.\n",
    "    \"EW\",   # Edwards Lifesciences Corporation\n",
    "    \"RMD\",  # ResMed Inc.\n",
    "    \"VRTX\", # Vertex Pharmaceuticals Incorporated\n",
    "    \"REGN\",  # Regeneron Pharmaceuticals, Inc.\n",
    "]\n",
    "\n",
    "len(assets)"
   ]
  },
  {
   "cell_type": "code",
   "execution_count": 51,
   "metadata": {},
   "outputs": [
    {
     "name": "stderr",
     "output_type": "stream",
     "text": [
      "[*********************100%***********************]  99 of 99 completed\n",
      "\n",
      "5 Failed downloads:\n",
      "['LYFT', 'SPOT', 'UBER']: YFPricesMissingError('possibly delisted; no price data found  (1d 2015-01-01 -> 2018-01-01) (Yahoo error = \"Data doesn\\'t exist for startDate = 1420088400, endDate = 1514782800\")')\n",
      "['CELG', 'TWTR']: YFTzMissingError('possibly delisted; no timezone found')\n"
     ]
    },
    {
     "name": "stdout",
     "output_type": "stream",
     "text": [
      "Omitted assets ( 5 ):  ['SPOT', 'CELG', 'LYFT', 'UBER', 'TWTR']\n",
      "Time to fetch data: 3.47 seconds\n"
     ]
    },
    {
     "data": {
      "text/plain": [
       "94"
      ]
     },
     "execution_count": 51,
     "metadata": {},
     "output_type": "execute_result"
    }
   ],
   "source": [
    "raw_data, asset_errors, max_combination= fetch_raw_data_yf(assets)\n",
    "\n",
    "max_combination"
   ]
  },
  {
   "cell_type": "markdown",
   "metadata": {},
   "source": [
    "## 3. Mean, Volatility and Covariance"
   ]
  },
  {
   "cell_type": "code",
   "execution_count": 52,
   "metadata": {},
   "outputs": [
    {
     "data": {
      "text/html": [
       "<div>\n",
       "<style scoped>\n",
       "    .dataframe tbody tr th:only-of-type {\n",
       "        vertical-align: middle;\n",
       "    }\n",
       "\n",
       "    .dataframe tbody tr th {\n",
       "        vertical-align: top;\n",
       "    }\n",
       "\n",
       "    .dataframe thead th {\n",
       "        text-align: right;\n",
       "    }\n",
       "</style>\n",
       "<table border=\"1\" class=\"dataframe\">\n",
       "  <thead>\n",
       "    <tr style=\"text-align: right;\">\n",
       "      <th>Ticker</th>\n",
       "      <th>RDY_Close</th>\n",
       "      <th>SYY_Close</th>\n",
       "      <th>RMD_Close</th>\n",
       "      <th>GE_Close</th>\n",
       "      <th>XOM_Close</th>\n",
       "      <th>BAC_Close</th>\n",
       "      <th>SAP_Close</th>\n",
       "      <th>F_Close</th>\n",
       "      <th>ISRG_Close</th>\n",
       "      <th>ETN_Close</th>\n",
       "      <th>...</th>\n",
       "      <th>BMY_Close</th>\n",
       "      <th>DE_Close</th>\n",
       "      <th>QCOM_Close</th>\n",
       "      <th>GS_Close</th>\n",
       "      <th>GM_Close</th>\n",
       "      <th>ZBH_Close</th>\n",
       "      <th>ADBE_Close</th>\n",
       "      <th>CSCO_Close</th>\n",
       "      <th>T_Close</th>\n",
       "      <th>WFC_Close</th>\n",
       "    </tr>\n",
       "    <tr>\n",
       "      <th>Ticker</th>\n",
       "      <th></th>\n",
       "      <th></th>\n",
       "      <th></th>\n",
       "      <th></th>\n",
       "      <th></th>\n",
       "      <th></th>\n",
       "      <th></th>\n",
       "      <th></th>\n",
       "      <th></th>\n",
       "      <th></th>\n",
       "      <th></th>\n",
       "      <th></th>\n",
       "      <th></th>\n",
       "      <th></th>\n",
       "      <th></th>\n",
       "      <th></th>\n",
       "      <th></th>\n",
       "      <th></th>\n",
       "      <th></th>\n",
       "      <th></th>\n",
       "      <th></th>\n",
       "    </tr>\n",
       "  </thead>\n",
       "  <tbody>\n",
       "    <tr>\n",
       "      <th>RDY_Close</th>\n",
       "      <td>0.091301</td>\n",
       "      <td>0.004664</td>\n",
       "      <td>0.003514</td>\n",
       "      <td>0.009759</td>\n",
       "      <td>0.001097</td>\n",
       "      <td>0.014203</td>\n",
       "      <td>0.007040</td>\n",
       "      <td>0.007403</td>\n",
       "      <td>0.002827</td>\n",
       "      <td>0.006077</td>\n",
       "      <td>...</td>\n",
       "      <td>0.007135</td>\n",
       "      <td>0.004547</td>\n",
       "      <td>0.002038</td>\n",
       "      <td>0.011597</td>\n",
       "      <td>0.005315</td>\n",
       "      <td>0.008850</td>\n",
       "      <td>0.006747</td>\n",
       "      <td>0.008298</td>\n",
       "      <td>-0.000990</td>\n",
       "      <td>0.011404</td>\n",
       "    </tr>\n",
       "    <tr>\n",
       "      <th>SYY_Close</th>\n",
       "      <td>0.004664</td>\n",
       "      <td>0.026035</td>\n",
       "      <td>0.002990</td>\n",
       "      <td>0.002933</td>\n",
       "      <td>0.000840</td>\n",
       "      <td>0.006745</td>\n",
       "      <td>0.001352</td>\n",
       "      <td>0.007092</td>\n",
       "      <td>-0.002382</td>\n",
       "      <td>0.002456</td>\n",
       "      <td>...</td>\n",
       "      <td>0.003280</td>\n",
       "      <td>0.003718</td>\n",
       "      <td>-0.000142</td>\n",
       "      <td>0.005501</td>\n",
       "      <td>0.003176</td>\n",
       "      <td>0.002062</td>\n",
       "      <td>-0.003289</td>\n",
       "      <td>0.003550</td>\n",
       "      <td>0.006120</td>\n",
       "      <td>0.006026</td>\n",
       "    </tr>\n",
       "    <tr>\n",
       "      <th>RMD_Close</th>\n",
       "      <td>0.003514</td>\n",
       "      <td>0.002990</td>\n",
       "      <td>0.040309</td>\n",
       "      <td>-0.000520</td>\n",
       "      <td>0.000990</td>\n",
       "      <td>0.005972</td>\n",
       "      <td>0.008995</td>\n",
       "      <td>0.001188</td>\n",
       "      <td>0.011196</td>\n",
       "      <td>0.008634</td>\n",
       "      <td>...</td>\n",
       "      <td>0.004783</td>\n",
       "      <td>0.005981</td>\n",
       "      <td>0.004854</td>\n",
       "      <td>0.006470</td>\n",
       "      <td>0.003673</td>\n",
       "      <td>0.012785</td>\n",
       "      <td>0.008384</td>\n",
       "      <td>0.007801</td>\n",
       "      <td>0.003123</td>\n",
       "      <td>0.005680</td>\n",
       "    </tr>\n",
       "    <tr>\n",
       "      <th>GE_Close</th>\n",
       "      <td>0.009759</td>\n",
       "      <td>0.002933</td>\n",
       "      <td>-0.000520</td>\n",
       "      <td>0.045351</td>\n",
       "      <td>0.004385</td>\n",
       "      <td>0.012808</td>\n",
       "      <td>-0.000474</td>\n",
       "      <td>0.010366</td>\n",
       "      <td>-0.000750</td>\n",
       "      <td>0.008314</td>\n",
       "      <td>...</td>\n",
       "      <td>0.000852</td>\n",
       "      <td>0.007423</td>\n",
       "      <td>0.003324</td>\n",
       "      <td>0.009991</td>\n",
       "      <td>0.009873</td>\n",
       "      <td>0.002263</td>\n",
       "      <td>0.002537</td>\n",
       "      <td>0.004596</td>\n",
       "      <td>0.012486</td>\n",
       "      <td>0.008003</td>\n",
       "    </tr>\n",
       "    <tr>\n",
       "      <th>XOM_Close</th>\n",
       "      <td>0.001097</td>\n",
       "      <td>0.000840</td>\n",
       "      <td>0.000990</td>\n",
       "      <td>0.004385</td>\n",
       "      <td>0.010788</td>\n",
       "      <td>0.005377</td>\n",
       "      <td>0.000115</td>\n",
       "      <td>0.004791</td>\n",
       "      <td>-0.001245</td>\n",
       "      <td>0.004406</td>\n",
       "      <td>...</td>\n",
       "      <td>-0.000396</td>\n",
       "      <td>0.003418</td>\n",
       "      <td>0.000856</td>\n",
       "      <td>0.005698</td>\n",
       "      <td>0.003259</td>\n",
       "      <td>0.001363</td>\n",
       "      <td>-0.001663</td>\n",
       "      <td>0.001925</td>\n",
       "      <td>0.004238</td>\n",
       "      <td>0.004602</td>\n",
       "    </tr>\n",
       "    <tr>\n",
       "      <th>...</th>\n",
       "      <td>...</td>\n",
       "      <td>...</td>\n",
       "      <td>...</td>\n",
       "      <td>...</td>\n",
       "      <td>...</td>\n",
       "      <td>...</td>\n",
       "      <td>...</td>\n",
       "      <td>...</td>\n",
       "      <td>...</td>\n",
       "      <td>...</td>\n",
       "      <td>...</td>\n",
       "      <td>...</td>\n",
       "      <td>...</td>\n",
       "      <td>...</td>\n",
       "      <td>...</td>\n",
       "      <td>...</td>\n",
       "      <td>...</td>\n",
       "      <td>...</td>\n",
       "      <td>...</td>\n",
       "      <td>...</td>\n",
       "      <td>...</td>\n",
       "    </tr>\n",
       "    <tr>\n",
       "      <th>ZBH_Close</th>\n",
       "      <td>0.008850</td>\n",
       "      <td>0.002062</td>\n",
       "      <td>0.012785</td>\n",
       "      <td>0.002263</td>\n",
       "      <td>0.001363</td>\n",
       "      <td>0.005950</td>\n",
       "      <td>0.002201</td>\n",
       "      <td>0.004220</td>\n",
       "      <td>0.005598</td>\n",
       "      <td>0.006093</td>\n",
       "      <td>...</td>\n",
       "      <td>0.001717</td>\n",
       "      <td>0.004610</td>\n",
       "      <td>-0.004816</td>\n",
       "      <td>0.005182</td>\n",
       "      <td>0.005340</td>\n",
       "      <td>0.037735</td>\n",
       "      <td>0.006898</td>\n",
       "      <td>0.005034</td>\n",
       "      <td>0.002133</td>\n",
       "      <td>0.004165</td>\n",
       "    </tr>\n",
       "    <tr>\n",
       "      <th>ADBE_Close</th>\n",
       "      <td>0.006747</td>\n",
       "      <td>-0.003289</td>\n",
       "      <td>0.008384</td>\n",
       "      <td>0.002537</td>\n",
       "      <td>-0.001663</td>\n",
       "      <td>-0.000410</td>\n",
       "      <td>0.013725</td>\n",
       "      <td>-0.001899</td>\n",
       "      <td>0.022981</td>\n",
       "      <td>0.006826</td>\n",
       "      <td>...</td>\n",
       "      <td>0.006387</td>\n",
       "      <td>0.004204</td>\n",
       "      <td>0.013411</td>\n",
       "      <td>0.002420</td>\n",
       "      <td>0.000990</td>\n",
       "      <td>0.006898</td>\n",
       "      <td>0.051898</td>\n",
       "      <td>0.008798</td>\n",
       "      <td>-0.004104</td>\n",
       "      <td>0.000741</td>\n",
       "    </tr>\n",
       "    <tr>\n",
       "      <th>CSCO_Close</th>\n",
       "      <td>0.008298</td>\n",
       "      <td>0.003550</td>\n",
       "      <td>0.007801</td>\n",
       "      <td>0.004596</td>\n",
       "      <td>0.001925</td>\n",
       "      <td>0.008951</td>\n",
       "      <td>0.006886</td>\n",
       "      <td>0.006799</td>\n",
       "      <td>0.005520</td>\n",
       "      <td>0.008125</td>\n",
       "      <td>...</td>\n",
       "      <td>0.007259</td>\n",
       "      <td>0.008686</td>\n",
       "      <td>0.009252</td>\n",
       "      <td>0.007960</td>\n",
       "      <td>0.009665</td>\n",
       "      <td>0.005034</td>\n",
       "      <td>0.008798</td>\n",
       "      <td>0.026896</td>\n",
       "      <td>0.004894</td>\n",
       "      <td>0.006977</td>\n",
       "    </tr>\n",
       "    <tr>\n",
       "      <th>T_Close</th>\n",
       "      <td>-0.000990</td>\n",
       "      <td>0.006120</td>\n",
       "      <td>0.003123</td>\n",
       "      <td>0.012486</td>\n",
       "      <td>0.004238</td>\n",
       "      <td>0.009856</td>\n",
       "      <td>-0.000385</td>\n",
       "      <td>0.009353</td>\n",
       "      <td>-0.004167</td>\n",
       "      <td>0.004632</td>\n",
       "      <td>...</td>\n",
       "      <td>-0.000762</td>\n",
       "      <td>0.004942</td>\n",
       "      <td>0.002086</td>\n",
       "      <td>0.009470</td>\n",
       "      <td>0.008505</td>\n",
       "      <td>0.002133</td>\n",
       "      <td>-0.004104</td>\n",
       "      <td>0.004894</td>\n",
       "      <td>0.030674</td>\n",
       "      <td>0.007585</td>\n",
       "    </tr>\n",
       "    <tr>\n",
       "      <th>WFC_Close</th>\n",
       "      <td>0.011404</td>\n",
       "      <td>0.006026</td>\n",
       "      <td>0.005680</td>\n",
       "      <td>0.008003</td>\n",
       "      <td>0.004602</td>\n",
       "      <td>0.025452</td>\n",
       "      <td>0.002843</td>\n",
       "      <td>0.011052</td>\n",
       "      <td>0.000924</td>\n",
       "      <td>0.007916</td>\n",
       "      <td>...</td>\n",
       "      <td>0.004074</td>\n",
       "      <td>0.009242</td>\n",
       "      <td>0.005632</td>\n",
       "      <td>0.020472</td>\n",
       "      <td>0.008587</td>\n",
       "      <td>0.004165</td>\n",
       "      <td>0.000741</td>\n",
       "      <td>0.006977</td>\n",
       "      <td>0.007585</td>\n",
       "      <td>0.029098</td>\n",
       "    </tr>\n",
       "  </tbody>\n",
       "</table>\n",
       "<p>94 rows × 94 columns</p>\n",
       "</div>"
      ],
      "text/plain": [
       "Ticker      RDY_Close  SYY_Close  RMD_Close  GE_Close  XOM_Close  BAC_Close  \\\n",
       "Ticker                                                                        \n",
       "RDY_Close    0.091301   0.004664   0.003514  0.009759   0.001097   0.014203   \n",
       "SYY_Close    0.004664   0.026035   0.002990  0.002933   0.000840   0.006745   \n",
       "RMD_Close    0.003514   0.002990   0.040309 -0.000520   0.000990   0.005972   \n",
       "GE_Close     0.009759   0.002933  -0.000520  0.045351   0.004385   0.012808   \n",
       "XOM_Close    0.001097   0.000840   0.000990  0.004385   0.010788   0.005377   \n",
       "...               ...        ...        ...       ...        ...        ...   \n",
       "ZBH_Close    0.008850   0.002062   0.012785  0.002263   0.001363   0.005950   \n",
       "ADBE_Close   0.006747  -0.003289   0.008384  0.002537  -0.001663  -0.000410   \n",
       "CSCO_Close   0.008298   0.003550   0.007801  0.004596   0.001925   0.008951   \n",
       "T_Close     -0.000990   0.006120   0.003123  0.012486   0.004238   0.009856   \n",
       "WFC_Close    0.011404   0.006026   0.005680  0.008003   0.004602   0.025452   \n",
       "\n",
       "Ticker      SAP_Close   F_Close  ISRG_Close  ETN_Close  ...  BMY_Close  \\\n",
       "Ticker                                                  ...              \n",
       "RDY_Close    0.007040  0.007403    0.002827   0.006077  ...   0.007135   \n",
       "SYY_Close    0.001352  0.007092   -0.002382   0.002456  ...   0.003280   \n",
       "RMD_Close    0.008995  0.001188    0.011196   0.008634  ...   0.004783   \n",
       "GE_Close    -0.000474  0.010366   -0.000750   0.008314  ...   0.000852   \n",
       "XOM_Close    0.000115  0.004791   -0.001245   0.004406  ...  -0.000396   \n",
       "...               ...       ...         ...        ...  ...        ...   \n",
       "ZBH_Close    0.002201  0.004220    0.005598   0.006093  ...   0.001717   \n",
       "ADBE_Close   0.013725 -0.001899    0.022981   0.006826  ...   0.006387   \n",
       "CSCO_Close   0.006886  0.006799    0.005520   0.008125  ...   0.007259   \n",
       "T_Close     -0.000385  0.009353   -0.004167   0.004632  ...  -0.000762   \n",
       "WFC_Close    0.002843  0.011052    0.000924   0.007916  ...   0.004074   \n",
       "\n",
       "Ticker      DE_Close  QCOM_Close  GS_Close  GM_Close  ZBH_Close  ADBE_Close  \\\n",
       "Ticker                                                                        \n",
       "RDY_Close   0.004547    0.002038  0.011597  0.005315   0.008850    0.006747   \n",
       "SYY_Close   0.003718   -0.000142  0.005501  0.003176   0.002062   -0.003289   \n",
       "RMD_Close   0.005981    0.004854  0.006470  0.003673   0.012785    0.008384   \n",
       "GE_Close    0.007423    0.003324  0.009991  0.009873   0.002263    0.002537   \n",
       "XOM_Close   0.003418    0.000856  0.005698  0.003259   0.001363   -0.001663   \n",
       "...              ...         ...       ...       ...        ...         ...   \n",
       "ZBH_Close   0.004610   -0.004816  0.005182  0.005340   0.037735    0.006898   \n",
       "ADBE_Close  0.004204    0.013411  0.002420  0.000990   0.006898    0.051898   \n",
       "CSCO_Close  0.008686    0.009252  0.007960  0.009665   0.005034    0.008798   \n",
       "T_Close     0.004942    0.002086  0.009470  0.008505   0.002133   -0.004104   \n",
       "WFC_Close   0.009242    0.005632  0.020472  0.008587   0.004165    0.000741   \n",
       "\n",
       "Ticker      CSCO_Close   T_Close  WFC_Close  \n",
       "Ticker                                       \n",
       "RDY_Close     0.008298 -0.000990   0.011404  \n",
       "SYY_Close     0.003550  0.006120   0.006026  \n",
       "RMD_Close     0.007801  0.003123   0.005680  \n",
       "GE_Close      0.004596  0.012486   0.008003  \n",
       "XOM_Close     0.001925  0.004238   0.004602  \n",
       "...                ...       ...        ...  \n",
       "ZBH_Close     0.005034  0.002133   0.004165  \n",
       "ADBE_Close    0.008798 -0.004104   0.000741  \n",
       "CSCO_Close    0.026896  0.004894   0.006977  \n",
       "T_Close       0.004894  0.030674   0.007585  \n",
       "WFC_Close     0.006977  0.007585   0.029098  \n",
       "\n",
       "[94 rows x 94 columns]"
      ]
     },
     "execution_count": 52,
     "metadata": {},
     "output_type": "execute_result"
    }
   ],
   "source": [
    "annualized_returns = get_matrices(raw_data, max_combination ,None)[0][2]\n",
    "cov = get_matrices(raw_data, max_combination ,None)[0][1]\n",
    "names = get_matrices(raw_data, max_combination ,None)[0][0]\n",
    "volatility = np.sqrt(np.diag(cov)) #standard deviation\n",
    "\n",
    "risk_free_rate=0 \n",
    "sharpe_ratios = (annualized_returns - risk_free_rate) / volatility\n",
    "\n",
    "cov"
   ]
  },
  {
   "cell_type": "code",
   "execution_count": 53,
   "metadata": {},
   "outputs": [
    {
     "data": {
      "application/vnd.plotly.v1+json": {
       "config": {
        "plotlyServerURL": "https://plot.ly"
       },
       "data": [
        {
         "hoverinfo": "text",
         "hovertext": [
          "RDY_Close <br>Volatility: 0.30 <br>Returns: -15.56% <br>Sharpe Ratio: -0.52",
          "SYY_Close <br>Volatility: 0.16 <br>Returns: 19.12% <br>Sharpe Ratio: 1.19",
          "RMD_Close <br>Volatility: 0.20 <br>Returns: 20.34% <br>Sharpe Ratio: 1.01",
          "GE_Close <br>Volatility: 0.21 <br>Returns: -62.75% <br>Sharpe Ratio: -2.95",
          "XOM_Close <br>Volatility: 0.10 <br>Returns: 3.88% <br>Sharpe Ratio: 0.37",
          "BAC_Close <br>Volatility: 0.21 <br>Returns: 20.36% <br>Sharpe Ratio: 0.97",
          "SAP_Close <br>Volatility: 0.14 <br>Returns: 22.38% <br>Sharpe Ratio: 1.63",
          "F_Close <br>Volatility: 0.17 <br>Returns: 3.00% <br>Sharpe Ratio: 0.18",
          "ISRG_Close <br>Volatility: 0.19 <br>Returns: 46.59% <br>Sharpe Ratio: 2.44",
          "ETN_Close <br>Volatility: 0.16 <br>Returns: 13.76% <br>Sharpe Ratio: 0.89",
          "PG_Close <br>Volatility: 0.10 <br>Returns: 4.02% <br>Sharpe Ratio: 0.41",
          "EMR_Close <br>Volatility: 0.16 <br>Returns: 20.27% <br>Sharpe Ratio: 1.25",
          "UA_Close <br>Volatility: 0.46 <br>Returns: -42.37% <br>Sharpe Ratio: -0.91",
          "K_Close <br>Volatility: 0.18 <br>Returns: -9.01% <br>Sharpe Ratio: -0.50",
          "PM_Close <br>Volatility: 0.14 <br>Returns: -0.16% <br>Sharpe Ratio: -0.01",
          "WMT_Close <br>Volatility: 0.18 <br>Returns: 43.06% <br>Sharpe Ratio: 2.37",
          "TMO_Close <br>Volatility: 0.16 <br>Returns: 21.55% <br>Sharpe Ratio: 1.32",
          "GIS_Close <br>Volatility: 0.17 <br>Returns: -0.03% <br>Sharpe Ratio: -0.00",
          "AAPL_Close <br>Volatility: 0.18 <br>Returns: 25.04% <br>Sharpe Ratio: 1.42",
          "CAT_Close <br>Volatility: 0.20 <br>Returns: 64.11% <br>Sharpe Ratio: 3.25",
          "INTC_Close <br>Volatility: 0.18 <br>Returns: 32.63% <br>Sharpe Ratio: 1.86",
          "ABBV_Close <br>Volatility: 0.18 <br>Returns: 54.05% <br>Sharpe Ratio: 3.03",
          "MA_Close <br>Volatility: 0.14 <br>Returns: 37.50% <br>Sharpe Ratio: 2.60",
          "GILD_Close <br>Volatility: 0.19 <br>Returns: 5.32% <br>Sharpe Ratio: 0.28",
          "VZ_Close <br>Volatility: 0.17 <br>Returns: 11.30% <br>Sharpe Ratio: 0.67",
          "AMD_Close <br>Volatility: 0.58 <br>Returns: -36.20% <br>Sharpe Ratio: -0.62",
          "AEP_Close <br>Volatility: 0.11 <br>Returns: 15.15% <br>Sharpe Ratio: 1.42",
          "MSFT_Close <br>Volatility: 0.15 <br>Returns: 36.72% <br>Sharpe Ratio: 2.42",
          "MO_Close <br>Volatility: 0.18 <br>Returns: -2.75% <br>Sharpe Ratio: -0.15",
          "SO_Close <br>Volatility: 0.12 <br>Returns: -1.26% <br>Sharpe Ratio: -0.11",
          "MCD_Close <br>Volatility: 0.14 <br>Returns: 37.50% <br>Sharpe Ratio: 2.75",
          "V_Close <br>Volatility: 0.13 <br>Returns: 30.98% <br>Sharpe Ratio: 2.47",
          "UNH_Close <br>Volatility: 0.14 <br>Returns: 34.90% <br>Sharpe Ratio: 2.48",
          "PFE_Close <br>Volatility: 0.11 <br>Returns: 9.22% <br>Sharpe Ratio: 0.85",
          "SNAP_Close <br>Volatility: 0.63 <br>Returns: -61.94% <br>Sharpe Ratio: -0.98",
          "KR_Close <br>Volatility: 0.36 <br>Returns: -11.51% <br>Sharpe Ratio: -0.32",
          "ORCL_Close <br>Volatility: 0.19 <br>Returns: 13.13% <br>Sharpe Ratio: 0.70",
          "MDT_Close <br>Volatility: 0.15 <br>Returns: 0.82% <br>Sharpe Ratio: 0.05",
          "SYK_Close <br>Volatility: 0.16 <br>Returns: 21.73% <br>Sharpe Ratio: 1.40",
          "ABT_Close <br>Volatility: 0.14 <br>Returns: 28.67% <br>Sharpe Ratio: 2.05",
          "KO_Close <br>Volatility: 0.09 <br>Returns: 13.24% <br>Sharpe Ratio: 1.53",
          "VRTX_Close <br>Volatility: 0.38 <br>Returns: 61.33% <br>Sharpe Ratio: 1.59",
          "TSLA_Close <br>Volatility: 0.36 <br>Returns: 26.10% <br>Sharpe Ratio: 0.73",
          "PEP_Close <br>Volatility: 0.10 <br>Returns: 12.73% <br>Sharpe Ratio: 1.30",
          "BIIB_Close <br>Volatility: 0.23 <br>Returns: 9.80% <br>Sharpe Ratio: 0.43",
          "NKE_Close <br>Volatility: 0.23 <br>Returns: 10.70% <br>Sharpe Ratio: 0.47",
          "BSX_Close <br>Volatility: 0.17 <br>Returns: -1.01% <br>Sharpe Ratio: -0.06",
          "BA_Close <br>Volatility: 0.17 <br>Returns: 59.54% <br>Sharpe Ratio: 3.42",
          "GOOGL_Close <br>Volatility: 0.16 <br>Returns: 25.77% <br>Sharpe Ratio: 1.64",
          "RTX_Close <br>Volatility: 0.14 <br>Returns: 16.98% <br>Sharpe Ratio: 1.24",
          "COST_Close <br>Volatility: 0.20 <br>Returns: 11.21% <br>Sharpe Ratio: 0.56",
          "LMT_Close <br>Volatility: 0.11 <br>Returns: 24.36% <br>Sharpe Ratio: 2.21",
          "NEE_Close <br>Volatility: 0.11 <br>Returns: 23.55% <br>Sharpe Ratio: 2.10",
          "TXN_Close <br>Volatility: 0.16 <br>Returns: 37.14% <br>Sharpe Ratio: 2.30",
          "CRM_Close <br>Volatility: 0.16 <br>Returns: 25.48% <br>Sharpe Ratio: 1.63",
          "DIS_Close <br>Volatility: 0.16 <br>Returns: -1.54% <br>Sharpe Ratio: -0.10",
          "HON_Close <br>Volatility: 0.10 <br>Returns: 25.07% <br>Sharpe Ratio: 2.47",
          "PYPL_Close <br>Volatility: 0.23 <br>Returns: 65.17% <br>Sharpe Ratio: 2.82",
          "JPM_Close <br>Volatility: 0.16 <br>Returns: 19.92% <br>Sharpe Ratio: 1.28",
          "NFLX_Close <br>Volatility: 0.29 <br>Returns: 38.28% <br>Sharpe Ratio: 1.33",
          "CVX_Close <br>Volatility: 0.14 <br>Returns: 15.44% <br>Sharpe Ratio: 1.09",
          "EXC_Close <br>Volatility: 0.13 <br>Returns: 12.63% <br>Sharpe Ratio: 0.96",
          "MS_Close <br>Volatility: 0.20 <br>Returns: 16.83% <br>Sharpe Ratio: 0.86",
          "NVDA_Close <br>Volatility: 0.39 <br>Returns: 80.73% <br>Sharpe Ratio: 2.05",
          "JNJ_Close <br>Volatility: 0.11 <br>Returns: 16.97% <br>Sharpe Ratio: 1.49",
          "REGN_Close <br>Volatility: 0.28 <br>Returns: 0.03% <br>Sharpe Ratio: 0.00",
          "BTI_Close <br>Volatility: 0.19 <br>Returns: 11.15% <br>Sharpe Ratio: 0.58",
          "AMGN_Close <br>Volatility: 0.17 <br>Returns: -0.36% <br>Sharpe Ratio: -0.02",
          "META_Close <br>Volatility: 0.17 <br>Returns: 30.58% <br>Sharpe Ratio: 1.77",
          "GOOG_Close <br>Volatility: 0.16 <br>Returns: 27.71% <br>Sharpe Ratio: 1.74",
          "EW_Close <br>Volatility: 0.23 <br>Returns: 22.60% <br>Sharpe Ratio: 0.97",
          "SRE_Close <br>Volatility: 0.13 <br>Returns: 0.42% <br>Sharpe Ratio: 0.03",
          "LLY_Close <br>Volatility: 0.15 <br>Returns: 4.51% <br>Sharpe Ratio: 0.31",
          "AMZN_Close <br>Volatility: 0.21 <br>Returns: 38.44% <br>Sharpe Ratio: 1.81",
          "IBM_Close <br>Volatility: 0.16 <br>Returns: -15.90% <br>Sharpe Ratio: -1.01",
          "MRK_Close <br>Volatility: 0.15 <br>Returns: -15.66% <br>Sharpe Ratio: -1.04",
          "BABA_Close <br>Volatility: 0.27 <br>Returns: 61.61% <br>Sharpe Ratio: 2.30",
          "CMCSA_Close <br>Volatility: 0.21 <br>Returns: 9.55% <br>Sharpe Ratio: 0.46",
          "DUK_Close <br>Volatility: 0.09 <br>Returns: 6.18% <br>Sharpe Ratio: 0.66",
          "HD_Close <br>Volatility: 0.14 <br>Returns: 32.45% <br>Sharpe Ratio: 2.40",
          "ACN_Close <br>Volatility: 0.13 <br>Returns: 27.35% <br>Sharpe Ratio: 2.06",
          "MMM_Close <br>Volatility: 0.13 <br>Returns: 27.77% <br>Sharpe Ratio: 2.12",
          "DHR_Close <br>Volatility: 0.13 <br>Returns: 9.07% <br>Sharpe Ratio: 0.71",
          "CPB_Close <br>Volatility: 0.24 <br>Returns: -23.67% <br>Sharpe Ratio: -0.98",
          "BMY_Close <br>Volatility: 0.18 <br>Returns: 11.41% <br>Sharpe Ratio: 0.63",
          "DE_Close <br>Volatility: 0.18 <br>Returns: 45.12% <br>Sharpe Ratio: 2.53",
          "QCOM_Close <br>Volatility: 0.24 <br>Returns: 18.78% <br>Sharpe Ratio: 0.79",
          "GS_Close <br>Volatility: 0.20 <br>Returns: 2.94% <br>Sharpe Ratio: 0.15",
          "GM_Close <br>Volatility: 0.19 <br>Returns: 14.71% <br>Sharpe Ratio: 0.78",
          "ZBH_Close <br>Volatility: 0.19 <br>Returns: 3.62% <br>Sharpe Ratio: 0.19",
          "ADBE_Close <br>Volatility: 0.23 <br>Returns: 45.54% <br>Sharpe Ratio: 2.00",
          "CSCO_Close <br>Volatility: 0.16 <br>Returns: 16.11% <br>Sharpe Ratio: 0.98",
          "T_Close <br>Volatility: 0.18 <br>Returns: -3.53% <br>Sharpe Ratio: -0.20",
          "WFC_Close <br>Volatility: 0.17 <br>Returns: 6.48% <br>Sharpe Ratio: 0.38"
         ],
         "marker": {
          "color": {
           "bdata": "BWei6QB74L+YeEoP7/byP/0O6fZkNvA/cBUcB/ySB8A83d4+6+fXP5qh1nxvHu8/yrTtRmQN+j/qu/QSWRLHPxIjFUuJfQNAOgX9lDxZ7D/UfBGGOUPaP3ySy6Qt7/M/+exm1qc37b/GWU+eQL7fv3QvQO0NJ4i/AJai3ab5AkBU8gQjhin1P57HbrYEYFy/oIT2RDbD9j+nMyuWhAAKQHvQt7nPuv0/UOeFcRY1CEAtIEuPYdAEQEwpauRI+dE/uZa7Uq9c5T/hc6Uog9/jv+U1ACD4x/Y/yglohxhbA0BGCmh36sHDv5m5Ew12Hru/p9cGCm/7BUAGwAtK08MDQIMEnv5qzQNAO3sbfp5V6z/Doudtw03vv7b9PlAiUdS//ehps5Zy5j+SL2j7GbSrP/T82Zv2XPY/K0bbzYZrAEB1X6iZEob4P5HzG1bhg/k/ZVri37VK5z95uaxCQ9T0P2jxkUxKits/lxqLRCdV3j9hGrAziWauv1y2uRTUUwtAPnyfSzo3+j/yuIE2wejzP9YfW0PJCuI/eo6pfAilAUBjKZnm7M0AQIOpDtLeZgJAosBW+akl+j+Omomwhem4v5PidzPtuwNAMXKmzYiIBkBEUtuyImn0PzPSduoJWvU/bhgg/Uh88T+qEy+iTbzuPwv1MPuTc+s/7QZi5J1nAED2ErQVtcL3P585PQIphlI/G1KtAQC04j9hFiC+zK+Vv1GrZctwVvw/BLpb9QfM+z8ZUySkSiHvP9vKUmZC3Z8/xcEBFmWu0z9zvEGzDAT9P3D63dlEJvC/1NldzLeZ8L/pp1105m8CQHYsN419ut0/haplNvP15D951papkDoDQOPPdwPfdwBADlgPNuzxAEAlIavfE5nmP9ML6jMNf++/Dv7Ek+g95D+nA/Gy5TYEQMrtLMQjKek/NtkaT0Q0wz95giN0VtvoP/Bv91ah1cc/nOtwmfL7/z8z5P+Gym/vPxkgcPVcxMm/LjkIA4dT2D8=",
           "dtype": "f8"
          },
          "colorbar": {
           "title": {
            "text": "Sharpe<br>Ratio"
           }
          },
          "colorscale": [
           [
            0,
            "rgb(103,0,31)"
           ],
           [
            0.1,
            "rgb(178,24,43)"
           ],
           [
            0.2,
            "rgb(214,96,77)"
           ],
           [
            0.3,
            "rgb(244,165,130)"
           ],
           [
            0.4,
            "rgb(253,219,199)"
           ],
           [
            0.5,
            "rgb(247,247,247)"
           ],
           [
            0.6,
            "rgb(209,229,240)"
           ],
           [
            0.7,
            "rgb(146,197,222)"
           ],
           [
            0.8,
            "rgb(67,147,195)"
           ],
           [
            0.9,
            "rgb(33,102,172)"
           ],
           [
            1,
            "rgb(5,48,97)"
           ]
          ],
          "line": {
           "width": 1
          },
          "size": 6
         },
         "mode": "markers",
         "type": "scatter",
         "x": {
          "bdata": "iSvmmZZW0z/N3isDMqfEP7amuBXVssk/wYO4zTJCyz9cfteZ3Za6PzB7YmGCzMo/6LJXkJOXwT8OmPupIEfFP15yaA/3ecg/cKfofNjiwz/APHSkdBi5Pzv/XAeF0sQ/qZdau6Gy3T9OMB48tT7HPybWZRDl4cE/SqS1Mow8xz/QlnKloNvEPxJ/6M3RO8Y/Z5tyGFmIxj/KG+DDFz/JP84+35TtecY/HGGxkjHdxj8/fppt+HLCP8tuu49jQMg/1jeAAIiqxT99ZuvUc6fiP256U3u3PLs/h2xCtuBswz+0E52ey8XGPy/bmTXYa74/6pW9DaB3wT/ODJoJMA3AP7xe5xadDMI/p9KV1Mifuz9KaSCc0ELkP6oqrBCqNdc/Y9vHEiT3xz+x9YKieGnDP79Oos7q5sM/wtcZG7vgwT8sWe2NsRu2Pw5EhZd2ndg/ISwVRQb01j+EuFNlIwi5P52qZ0DKJc0/eUA8ZnXizD/aX9SBWNLFP7M1EpaQT8Y/z/28H/sgxD+vXgY1lHfBP+15+xmXcck/0rvyLU1GvD+iv492fbK8P2XX0Fwcq8Q/BJzMB/X1wz/eFZt18jzEP4iBvxvMA7o/zIv+sZKdzT+gbch45/zDPwXaUBXoW9I/wEi5zr8Wwj8048oWhtPAP0O8gpH5HMk/HVxkpI8y2T8ioFF6TUC9Pwlw2CSGEtI/1Qlc3jhtyD/YXs1I4nXFP/LL2Lx8GsY/ApfuubFqxD9+oQJPZ73NP8aL9ZENH8E/ePmXYVPJwj+YOtANKSLLP7YG8cp0K8Q/f70bXUZSwz+/whzM9hvRP9L+coNkUMo/x5RlOmUruD/4VhAldkjBPy1ZcVwGAcE/2qUoknLIwD+fsr4PDm/AP2BZ4FsGx84/LE6LV/UWxz+c4Zsa9trGP3VpF5dLkc4/5zLRfg4fyT/9fpn4tzvIPyzBVila3cg/0vo+au8ozT9HjlAs+f3EP720p2oBa8Y/WoVOF5nVxT8=",
          "dtype": "f8"
         },
         "y": {
          "bdata": "UX8GWkHrw79cDLp513rIPyueKc8yCso/5bMFO8kU5L8ATGrOI92jP68tg2abD8o/t5HKMwmlzD9+EvRtpa6eP47no0Pg0N0/yUlT/fGdwT/+qIoWl5ikPxZSaQJC8ck/zEX6Wokd278l7bvW8g63v2akpMd9/lq/HIHwVK6O2z9sp9aBZJbLPwCU0E8OtzO/X3FhVjIH0D9/8+Hpq4PkP8Z+Buu14dQ/ItdOkdNL4T8KO86k/f/XP1x1GlJCPqs/Na7id1TtvD9pAadVcCvXv280m+vyY8M/poMx3uN/1z+T7Dhr4R6cvyTnB8Lzx4m/if646X//1z8yOw69HdTTPxxss9q0VtY/UJGfsrqYtz9Wi/SZ9tHjv6myPAjGeL2/DypDGrrPwD/IXJnSPs6AP7KjeWIl0cs/QXeCnuBY0j/i8LD7ZfHAPwnvQpl2oOM/YlcBRfu00D/1nwWnIEvAP22br0vZFbk/PuqNCSthuz+WLp8DH7uEv0G0NTuUDeM/LOPAZIl90D+fXuXRGLzFPyfuwQnxsLw/NM4u/FUuzz/E5mFE1SPOP3TyvJJixdc/WEwlgFVP0D89LSVVzIKPvyYNMzcIC9A/RG3WJbHa5D+HmN5eeH/JPycKLfbwf9g/lB2ynq7Ewz+nW2Y7USnAP3Bi5dUmi8U/xf7iyL3V6T+yQy0NM7jFP5lJ515g7DQ/XIR8vKyNvD/c25H4hBZtv0wPrD3iktM/6OfENTO80T+iYZ/FbO7MP50r6SF3DHE/xgdfH9cbpz8ip3Q+ZJrYP5iVqMuyW8S/GDbFEecLxL8b/DIUHrfjP3B+hJ01crg/gJ1KbMaprz/8XqE7T8XUP18Suf1qgNE/6rAwlTXG0T/GELm17TW3PyvbBr0AS86/J5Dw1gk2vT8uPlu9HuDcP49nM2HPCMg/Za7lZfEmnj/cRPIl5NLCPyNKGosXhaI/JJM7Fj4l3T/1CQQ3X5/EP+MqlqMpDaK/xdS+9TCZsD8=",
          "dtype": "f8"
         }
        }
       ],
       "layout": {
        "template": {
         "data": {
          "bar": [
           {
            "error_x": {
             "color": "#2a3f5f"
            },
            "error_y": {
             "color": "#2a3f5f"
            },
            "marker": {
             "line": {
              "color": "#E5ECF6",
              "width": 0.5
             },
             "pattern": {
              "fillmode": "overlay",
              "size": 10,
              "solidity": 0.2
             }
            },
            "type": "bar"
           }
          ],
          "barpolar": [
           {
            "marker": {
             "line": {
              "color": "#E5ECF6",
              "width": 0.5
             },
             "pattern": {
              "fillmode": "overlay",
              "size": 10,
              "solidity": 0.2
             }
            },
            "type": "barpolar"
           }
          ],
          "carpet": [
           {
            "aaxis": {
             "endlinecolor": "#2a3f5f",
             "gridcolor": "white",
             "linecolor": "white",
             "minorgridcolor": "white",
             "startlinecolor": "#2a3f5f"
            },
            "baxis": {
             "endlinecolor": "#2a3f5f",
             "gridcolor": "white",
             "linecolor": "white",
             "minorgridcolor": "white",
             "startlinecolor": "#2a3f5f"
            },
            "type": "carpet"
           }
          ],
          "choropleth": [
           {
            "colorbar": {
             "outlinewidth": 0,
             "ticks": ""
            },
            "type": "choropleth"
           }
          ],
          "contour": [
           {
            "colorbar": {
             "outlinewidth": 0,
             "ticks": ""
            },
            "colorscale": [
             [
              0,
              "#0d0887"
             ],
             [
              0.1111111111111111,
              "#46039f"
             ],
             [
              0.2222222222222222,
              "#7201a8"
             ],
             [
              0.3333333333333333,
              "#9c179e"
             ],
             [
              0.4444444444444444,
              "#bd3786"
             ],
             [
              0.5555555555555556,
              "#d8576b"
             ],
             [
              0.6666666666666666,
              "#ed7953"
             ],
             [
              0.7777777777777778,
              "#fb9f3a"
             ],
             [
              0.8888888888888888,
              "#fdca26"
             ],
             [
              1,
              "#f0f921"
             ]
            ],
            "type": "contour"
           }
          ],
          "contourcarpet": [
           {
            "colorbar": {
             "outlinewidth": 0,
             "ticks": ""
            },
            "type": "contourcarpet"
           }
          ],
          "heatmap": [
           {
            "colorbar": {
             "outlinewidth": 0,
             "ticks": ""
            },
            "colorscale": [
             [
              0,
              "#0d0887"
             ],
             [
              0.1111111111111111,
              "#46039f"
             ],
             [
              0.2222222222222222,
              "#7201a8"
             ],
             [
              0.3333333333333333,
              "#9c179e"
             ],
             [
              0.4444444444444444,
              "#bd3786"
             ],
             [
              0.5555555555555556,
              "#d8576b"
             ],
             [
              0.6666666666666666,
              "#ed7953"
             ],
             [
              0.7777777777777778,
              "#fb9f3a"
             ],
             [
              0.8888888888888888,
              "#fdca26"
             ],
             [
              1,
              "#f0f921"
             ]
            ],
            "type": "heatmap"
           }
          ],
          "histogram": [
           {
            "marker": {
             "pattern": {
              "fillmode": "overlay",
              "size": 10,
              "solidity": 0.2
             }
            },
            "type": "histogram"
           }
          ],
          "histogram2d": [
           {
            "colorbar": {
             "outlinewidth": 0,
             "ticks": ""
            },
            "colorscale": [
             [
              0,
              "#0d0887"
             ],
             [
              0.1111111111111111,
              "#46039f"
             ],
             [
              0.2222222222222222,
              "#7201a8"
             ],
             [
              0.3333333333333333,
              "#9c179e"
             ],
             [
              0.4444444444444444,
              "#bd3786"
             ],
             [
              0.5555555555555556,
              "#d8576b"
             ],
             [
              0.6666666666666666,
              "#ed7953"
             ],
             [
              0.7777777777777778,
              "#fb9f3a"
             ],
             [
              0.8888888888888888,
              "#fdca26"
             ],
             [
              1,
              "#f0f921"
             ]
            ],
            "type": "histogram2d"
           }
          ],
          "histogram2dcontour": [
           {
            "colorbar": {
             "outlinewidth": 0,
             "ticks": ""
            },
            "colorscale": [
             [
              0,
              "#0d0887"
             ],
             [
              0.1111111111111111,
              "#46039f"
             ],
             [
              0.2222222222222222,
              "#7201a8"
             ],
             [
              0.3333333333333333,
              "#9c179e"
             ],
             [
              0.4444444444444444,
              "#bd3786"
             ],
             [
              0.5555555555555556,
              "#d8576b"
             ],
             [
              0.6666666666666666,
              "#ed7953"
             ],
             [
              0.7777777777777778,
              "#fb9f3a"
             ],
             [
              0.8888888888888888,
              "#fdca26"
             ],
             [
              1,
              "#f0f921"
             ]
            ],
            "type": "histogram2dcontour"
           }
          ],
          "mesh3d": [
           {
            "colorbar": {
             "outlinewidth": 0,
             "ticks": ""
            },
            "type": "mesh3d"
           }
          ],
          "parcoords": [
           {
            "line": {
             "colorbar": {
              "outlinewidth": 0,
              "ticks": ""
             }
            },
            "type": "parcoords"
           }
          ],
          "pie": [
           {
            "automargin": true,
            "type": "pie"
           }
          ],
          "scatter": [
           {
            "fillpattern": {
             "fillmode": "overlay",
             "size": 10,
             "solidity": 0.2
            },
            "type": "scatter"
           }
          ],
          "scatter3d": [
           {
            "line": {
             "colorbar": {
              "outlinewidth": 0,
              "ticks": ""
             }
            },
            "marker": {
             "colorbar": {
              "outlinewidth": 0,
              "ticks": ""
             }
            },
            "type": "scatter3d"
           }
          ],
          "scattercarpet": [
           {
            "marker": {
             "colorbar": {
              "outlinewidth": 0,
              "ticks": ""
             }
            },
            "type": "scattercarpet"
           }
          ],
          "scattergeo": [
           {
            "marker": {
             "colorbar": {
              "outlinewidth": 0,
              "ticks": ""
             }
            },
            "type": "scattergeo"
           }
          ],
          "scattergl": [
           {
            "marker": {
             "colorbar": {
              "outlinewidth": 0,
              "ticks": ""
             }
            },
            "type": "scattergl"
           }
          ],
          "scattermap": [
           {
            "marker": {
             "colorbar": {
              "outlinewidth": 0,
              "ticks": ""
             }
            },
            "type": "scattermap"
           }
          ],
          "scattermapbox": [
           {
            "marker": {
             "colorbar": {
              "outlinewidth": 0,
              "ticks": ""
             }
            },
            "type": "scattermapbox"
           }
          ],
          "scatterpolar": [
           {
            "marker": {
             "colorbar": {
              "outlinewidth": 0,
              "ticks": ""
             }
            },
            "type": "scatterpolar"
           }
          ],
          "scatterpolargl": [
           {
            "marker": {
             "colorbar": {
              "outlinewidth": 0,
              "ticks": ""
             }
            },
            "type": "scatterpolargl"
           }
          ],
          "scatterternary": [
           {
            "marker": {
             "colorbar": {
              "outlinewidth": 0,
              "ticks": ""
             }
            },
            "type": "scatterternary"
           }
          ],
          "surface": [
           {
            "colorbar": {
             "outlinewidth": 0,
             "ticks": ""
            },
            "colorscale": [
             [
              0,
              "#0d0887"
             ],
             [
              0.1111111111111111,
              "#46039f"
             ],
             [
              0.2222222222222222,
              "#7201a8"
             ],
             [
              0.3333333333333333,
              "#9c179e"
             ],
             [
              0.4444444444444444,
              "#bd3786"
             ],
             [
              0.5555555555555556,
              "#d8576b"
             ],
             [
              0.6666666666666666,
              "#ed7953"
             ],
             [
              0.7777777777777778,
              "#fb9f3a"
             ],
             [
              0.8888888888888888,
              "#fdca26"
             ],
             [
              1,
              "#f0f921"
             ]
            ],
            "type": "surface"
           }
          ],
          "table": [
           {
            "cells": {
             "fill": {
              "color": "#EBF0F8"
             },
             "line": {
              "color": "white"
             }
            },
            "header": {
             "fill": {
              "color": "#C8D4E3"
             },
             "line": {
              "color": "white"
             }
            },
            "type": "table"
           }
          ]
         },
         "layout": {
          "annotationdefaults": {
           "arrowcolor": "#2a3f5f",
           "arrowhead": 0,
           "arrowwidth": 1
          },
          "autotypenumbers": "strict",
          "coloraxis": {
           "colorbar": {
            "outlinewidth": 0,
            "ticks": ""
           }
          },
          "colorscale": {
           "diverging": [
            [
             0,
             "#8e0152"
            ],
            [
             0.1,
             "#c51b7d"
            ],
            [
             0.2,
             "#de77ae"
            ],
            [
             0.3,
             "#f1b6da"
            ],
            [
             0.4,
             "#fde0ef"
            ],
            [
             0.5,
             "#f7f7f7"
            ],
            [
             0.6,
             "#e6f5d0"
            ],
            [
             0.7,
             "#b8e186"
            ],
            [
             0.8,
             "#7fbc41"
            ],
            [
             0.9,
             "#4d9221"
            ],
            [
             1,
             "#276419"
            ]
           ],
           "sequential": [
            [
             0,
             "#0d0887"
            ],
            [
             0.1111111111111111,
             "#46039f"
            ],
            [
             0.2222222222222222,
             "#7201a8"
            ],
            [
             0.3333333333333333,
             "#9c179e"
            ],
            [
             0.4444444444444444,
             "#bd3786"
            ],
            [
             0.5555555555555556,
             "#d8576b"
            ],
            [
             0.6666666666666666,
             "#ed7953"
            ],
            [
             0.7777777777777778,
             "#fb9f3a"
            ],
            [
             0.8888888888888888,
             "#fdca26"
            ],
            [
             1,
             "#f0f921"
            ]
           ],
           "sequentialminus": [
            [
             0,
             "#0d0887"
            ],
            [
             0.1111111111111111,
             "#46039f"
            ],
            [
             0.2222222222222222,
             "#7201a8"
            ],
            [
             0.3333333333333333,
             "#9c179e"
            ],
            [
             0.4444444444444444,
             "#bd3786"
            ],
            [
             0.5555555555555556,
             "#d8576b"
            ],
            [
             0.6666666666666666,
             "#ed7953"
            ],
            [
             0.7777777777777778,
             "#fb9f3a"
            ],
            [
             0.8888888888888888,
             "#fdca26"
            ],
            [
             1,
             "#f0f921"
            ]
           ]
          },
          "colorway": [
           "#636efa",
           "#EF553B",
           "#00cc96",
           "#ab63fa",
           "#FFA15A",
           "#19d3f3",
           "#FF6692",
           "#B6E880",
           "#FF97FF",
           "#FECB52"
          ],
          "font": {
           "color": "#2a3f5f"
          },
          "geo": {
           "bgcolor": "white",
           "lakecolor": "white",
           "landcolor": "#E5ECF6",
           "showlakes": true,
           "showland": true,
           "subunitcolor": "white"
          },
          "hoverlabel": {
           "align": "left"
          },
          "hovermode": "closest",
          "mapbox": {
           "style": "light"
          },
          "paper_bgcolor": "white",
          "plot_bgcolor": "#E5ECF6",
          "polar": {
           "angularaxis": {
            "gridcolor": "white",
            "linecolor": "white",
            "ticks": ""
           },
           "bgcolor": "#E5ECF6",
           "radialaxis": {
            "gridcolor": "white",
            "linecolor": "white",
            "ticks": ""
           }
          },
          "scene": {
           "xaxis": {
            "backgroundcolor": "#E5ECF6",
            "gridcolor": "white",
            "gridwidth": 2,
            "linecolor": "white",
            "showbackground": true,
            "ticks": "",
            "zerolinecolor": "white"
           },
           "yaxis": {
            "backgroundcolor": "#E5ECF6",
            "gridcolor": "white",
            "gridwidth": 2,
            "linecolor": "white",
            "showbackground": true,
            "ticks": "",
            "zerolinecolor": "white"
           },
           "zaxis": {
            "backgroundcolor": "#E5ECF6",
            "gridcolor": "white",
            "gridwidth": 2,
            "linecolor": "white",
            "showbackground": true,
            "ticks": "",
            "zerolinecolor": "white"
           }
          },
          "shapedefaults": {
           "line": {
            "color": "#2a3f5f"
           }
          },
          "ternary": {
           "aaxis": {
            "gridcolor": "white",
            "linecolor": "white",
            "ticks": ""
           },
           "baxis": {
            "gridcolor": "white",
            "linecolor": "white",
            "ticks": ""
           },
           "bgcolor": "#E5ECF6",
           "caxis": {
            "gridcolor": "white",
            "linecolor": "white",
            "ticks": ""
           }
          },
          "title": {
           "x": 0.05
          },
          "xaxis": {
           "automargin": true,
           "gridcolor": "white",
           "linecolor": "white",
           "ticks": "",
           "title": {
            "standoff": 15
           },
           "zerolinecolor": "white",
           "zerolinewidth": 2
          },
          "yaxis": {
           "automargin": true,
           "gridcolor": "white",
           "linecolor": "white",
           "ticks": "",
           "title": {
            "standoff": 15
           },
           "zerolinecolor": "white",
           "zerolinewidth": 2
          }
         }
        },
        "title": {
         "text": "Markowitz Mean Varience Model"
        },
        "xaxis": {
         "title": {
          "text": "Volatility (Standard Deviation)"
         }
        },
        "yaxis": {
         "title": {
          "text": "Annualized Returns"
         }
        }
       }
      }
     },
     "metadata": {},
     "output_type": "display_data"
    }
   ],
   "source": [
    "hover_texts = [\n",
    "    f\"{ticker} <br>Volatility: {vol:.2f} <br>Returns: {ret:.2%} <br>Sharpe Ratio: {sr:.2f}\"\n",
    "    for ticker, vol, ret, sr in zip(names, volatility, annualized_returns, sharpe_ratios)\n",
    "]\n",
    "\n",
    "fig = go.Figure(data=go.Scatter(\n",
    "    x=volatility, \n",
    "    y=annualized_returns, \n",
    "    mode='markers',\n",
    "    hoverinfo='text',\n",
    "    hovertext=hover_texts,\n",
    "    marker=dict(color=sharpe_ratios, colorscale = 'RdBu', size=6, line=dict(width=1), colorbar=dict(title=\"Sharpe<br>Ratio\")\n",
    "    )\n",
    "))\n",
    "\n",
    "fig.update_layout(\n",
    "    title='Markowitz Mean Varience Model',\n",
    "    xaxis_title='Volatility (Standard Deviation)',\n",
    "    yaxis_title='Annualized Returns',\n",
    ")\n",
    "\n",
    "fig.show()\n"
   ]
  },
  {
   "cell_type": "code",
   "execution_count": 54,
   "metadata": {},
   "outputs": [],
   "source": [
    "portfolio_size = 5\n",
    "number_of_portfolios = 1000\n",
    "\n",
    "mean_variance_pairs = []\n",
    "hover_texts = []\n",
    "\n",
    "tickers_list = []\n",
    "weights_list = []\n",
    "\n",
    "for _ in range(number_of_portfolios):\n",
    "    assets = np.random.choice(list(raw_data.columns), portfolio_size, replace=False)\n",
    "    weights = np.random.rand(portfolio_size)\n",
    "    weights /= weights.sum()\n",
    "\n",
    "    portfolio_E_Return = 0\n",
    "    portfolio_E_Variance = 0\n",
    "\n",
    "    for i in range(len(assets)):\n",
    "        portfolio_E_Return += weights[i] * annualized_returns.loc[assets[i]]\n",
    "        for j in range(len(assets)):\n",
    "            portfolio_E_Variance += weights[i] * weights[j] * cov.loc[assets[i], assets[j]]\n",
    "    \n",
    "    mean_variance_pairs.append([portfolio_E_Return, portfolio_E_Variance])\n",
    "    tickers_list.append(assets)\n",
    "    weights_list.append(weights)\n",
    "\n",
    "    hover_text = f\"Return: {portfolio_E_Return:.2%}<br>Volatility: {portfolio_E_Variance**0.5:.2f}<br>\" + \"<br>\".join([f\"{assets[i]}: {weights[i]:.2f}\" for i in range(portfolio_size)])\n",
    "    hover_texts.append(hover_text)\n",
    "\n",
    "mean_variance_pairs = np.array(mean_variance_pairs)"
   ]
  },
  {
   "cell_type": "code",
   "execution_count": 55,
   "metadata": {},
   "outputs": [
    {
     "data": {
      "application/vnd.plotly.v1+json": {
       "config": {
        "plotlyServerURL": "https://plot.ly"
       },
       "data": [
        {
         "marker": {
          "color": {
           "bdata": "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",
           "dtype": "f8"
          },
          "colorbar": {
           "title": {
            "text": "Sharpe<br>Ratio"
           }
          },
          "colorscale": [
           [
            0,
            "rgb(103,0,31)"
           ],
           [
            0.1,
            "rgb(178,24,43)"
           ],
           [
            0.2,
            "rgb(214,96,77)"
           ],
           [
            0.3,
            "rgb(244,165,130)"
           ],
           [
            0.4,
            "rgb(253,219,199)"
           ],
           [
            0.5,
            "rgb(247,247,247)"
           ],
           [
            0.6,
            "rgb(209,229,240)"
           ],
           [
            0.7,
            "rgb(146,197,222)"
           ],
           [
            0.8,
            "rgb(67,147,195)"
           ],
           [
            0.9,
            "rgb(33,102,172)"
           ],
           [
            1,
            "rgb(5,48,97)"
           ]
          ],
          "line": {
           "width": 1
          },
          "showscale": true,
          "size": 7
         },
         "mode": "markers",
         "text": [
          "Return: 2.15%<br>Volatility: 0.09<br>EMR_Close: 0.06<br>LLY_Close: 0.12<br>T_Close: 0.34<br>GIS_Close: 0.09<br>PG_Close: 0.39",
          "Return: 20.49%<br>Volatility: 0.11<br>AAPL_Close: 0.11<br>CRM_Close: 0.23<br>SYY_Close: 0.13<br>INTC_Close: 0.08<br>GM_Close: 0.44",
          "Return: 9.13%<br>Volatility: 0.10<br>RMD_Close: 0.32<br>K_Close: 0.26<br>MDT_Close: 0.01<br>NKE_Close: 0.14<br>PEP_Close: 0.27",
          "Return: 17.14%<br>Volatility: 0.10<br>TXN_Close: 0.16<br>NKE_Close: 0.32<br>AAPL_Close: 0.11<br>SAP_Close: 0.09<br>DHR_Close: 0.32",
          "Return: 20.54%<br>Volatility: 0.12<br>DE_Close: 0.36<br>GS_Close: 0.28<br>BIIB_Close: 0.14<br>BSX_Close: 0.00<br>CMCSA_Close: 0.21",
          "Return: 27.47%<br>Volatility: 0.10<br>TXN_Close: 0.06<br>PYPL_Close: 0.24<br>SAP_Close: 0.33<br>CMCSA_Close: 0.12<br>XOM_Close: 0.24",
          "Return: 3.85%<br>Volatility: 0.08<br>MSFT_Close: 0.23<br>MRK_Close: 0.24<br>MO_Close: 0.16<br>PG_Close: 0.25<br>KR_Close: 0.11",
          "Return: 26.59%<br>Volatility: 0.12<br>VZ_Close: 0.10<br>GIS_Close: 0.07<br>GM_Close: 0.35<br>BTI_Close: 0.20<br>PYPL_Close: 0.28",
          "Return: 5.22%<br>Volatility: 0.07<br>INTC_Close: 0.07<br>SO_Close: 0.41<br>HON_Close: 0.24<br>EMR_Close: 0.05<br>IBM_Close: 0.23",
          "Return: 31.68%<br>Volatility: 0.13<br>RMD_Close: 0.42<br>SYY_Close: 0.01<br>PFE_Close: 0.04<br>EMR_Close: 0.06<br>DE_Close: 0.48",
          "Return: 18.78%<br>Volatility: 0.11<br>CMCSA_Close: 0.03<br>BAC_Close: 0.26<br>ABT_Close: 0.12<br>SYK_Close: 0.30<br>COST_Close: 0.30",
          "Return: 4.79%<br>Volatility: 0.18<br>UA_Close: 0.34<br>DHR_Close: 0.03<br>BA_Close: 0.22<br>VZ_Close: 0.23<br>RTX_Close: 0.19",
          "Return: -1.17%<br>Volatility: 0.19<br>PFE_Close: 0.25<br>UA_Close: 0.37<br>DUK_Close: 0.07<br>SYK_Close: 0.05<br>WMT_Close: 0.25",
          "Return: 3.29%<br>Volatility: 0.09<br>LLY_Close: 0.12<br>CAT_Close: 0.09<br>GS_Close: 0.24<br>PG_Close: 0.25<br>MRK_Close: 0.30",
          "Return: 23.07%<br>Volatility: 0.10<br>HD_Close: 0.08<br>LMT_Close: 0.28<br>AMZN_Close: 0.27<br>NKE_Close: 0.30<br>GIS_Close: 0.07",
          "Return: 17.48%<br>Volatility: 0.11<br>TMO_Close: 0.21<br>MA_Close: 0.30<br>SAP_Close: 0.09<br>AMGN_Close: 0.24<br>REGN_Close: 0.16",
          "Return: 3.50%<br>Volatility: 0.09<br>PM_Close: 0.50<br>F_Close: 0.18<br>K_Close: 0.15<br>INTC_Close: 0.13<br>LLY_Close: 0.04",
          "Return: 10.78%<br>Volatility: 0.09<br>RMD_Close: 0.12<br>MSFT_Close: 0.16<br>AMGN_Close: 0.33<br>SYK_Close: 0.11<br>SRE_Close: 0.27",
          "Return: 10.53%<br>Volatility: 0.12<br>ABBV_Close: 0.00<br>ZBH_Close: 0.22<br>PEP_Close: 0.14<br>COST_Close: 0.53<br>MS_Close: 0.11",
          "Return: 29.79%<br>Volatility: 0.13<br>GM_Close: 0.30<br>TXN_Close: 0.19<br>NFLX_Close: 0.18<br>RDY_Close: 0.01<br>MSFT_Close: 0.32",
          "Return: -0.89%<br>Volatility: 0.11<br>EXC_Close: 0.12<br>GE_Close: 0.08<br>LLY_Close: 0.12<br>GILD_Close: 0.39<br>MDT_Close: 0.28",
          "Return: 19.16%<br>Volatility: 0.11<br>INTC_Close: 0.20<br>MSFT_Close: 0.26<br>T_Close: 0.01<br>BIIB_Close: 0.32<br>SO_Close: 0.21",
          "Return: 16.09%<br>Volatility: 0.09<br>HON_Close: 0.23<br>DUK_Close: 0.03<br>NKE_Close: 0.04<br>GOOGL_Close: 0.38<br>PM_Close: 0.32",
          "Return: 12.56%<br>Volatility: 0.11<br>EW_Close: 0.20<br>CPB_Close: 0.20<br>NFLX_Close: 0.18<br>PG_Close: 0.13<br>SYY_Close: 0.29",
          "Return: 12.85%<br>Volatility: 0.11<br>MA_Close: 0.04<br>BTI_Close: 0.07<br>GS_Close: 0.36<br>BMY_Close: 0.18<br>TMO_Close: 0.35",
          "Return: 6.47%<br>Volatility: 0.09<br>SAP_Close: 0.23<br>IBM_Close: 0.31<br>BMY_Close: 0.20<br>REGN_Close: 0.14<br>HD_Close: 0.12",
          "Return: 24.15%<br>Volatility: 0.13<br>JPM_Close: 0.38<br>BABA_Close: 0.12<br>SYK_Close: 0.07<br>MS_Close: 0.25<br>EMR_Close: 0.19",
          "Return: 31.26%<br>Volatility: 0.14<br>NVDA_Close: 0.24<br>AMGN_Close: 0.10<br>EW_Close: 0.22<br>SRE_Close: 0.34<br>PYPL_Close: 0.11",
          "Return: 4.76%<br>Volatility: 0.09<br>CVX_Close: 0.43<br>CMCSA_Close: 0.15<br>PFE_Close: 0.04<br>MDT_Close: 0.15<br>MRK_Close: 0.24",
          "Return: -8.02%<br>Volatility: 0.09<br>EXC_Close: 0.34<br>GE_Close: 0.25<br>GIS_Close: 0.30<br>MA_Close: 0.07<br>HON_Close: 0.04",
          "Return: 17.99%<br>Volatility: 0.13<br>NVDA_Close: 0.14<br>BSX_Close: 0.26<br>RDY_Close: 0.03<br>BIIB_Close: 0.27<br>CSCO_Close: 0.30",
          "Return: -17.18%<br>Volatility: 0.24<br>CPB_Close: 0.29<br>PM_Close: 0.06<br>WMT_Close: 0.05<br>CMCSA_Close: 0.21<br>AMD_Close: 0.40",
          "Return: 27.78%<br>Volatility: 0.11<br>GILD_Close: 0.23<br>DE_Close: 0.28<br>EW_Close: 0.23<br>ZBH_Close: 0.13<br>PYPL_Close: 0.12",
          "Return: 17.64%<br>Volatility: 0.18<br>AMD_Close: 0.17<br>NKE_Close: 0.12<br>EW_Close: 0.10<br>GILD_Close: 0.18<br>ADBE_Close: 0.42",
          "Return: 18.71%<br>Volatility: 0.10<br>BMY_Close: 0.26<br>MSFT_Close: 0.01<br>F_Close: 0.19<br>MCD_Close: 0.23<br>JPM_Close: 0.31",
          "Return: 59.82%<br>Volatility: 0.16<br>PYPL_Close: 0.30<br>GOOGL_Close: 0.04<br>VRTX_Close: 0.28<br>ABBV_Close: 0.14<br>BA_Close: 0.25",
          "Return: 34.06%<br>Volatility: 0.14<br>TMO_Close: 0.23<br>LMT_Close: 0.30<br>ORCL_Close: 0.11<br>VRTX_Close: 0.31<br>MMM_Close: 0.06",
          "Return: 21.89%<br>Volatility: 0.12<br>DE_Close: 0.11<br>SRE_Close: 0.38<br>NFLX_Close: 0.30<br>JPM_Close: 0.14<br>TXN_Close: 0.07",
          "Return: 15.01%<br>Volatility: 0.10<br>CPB_Close: 0.06<br>BTI_Close: 0.37<br>ACN_Close: 0.14<br>AMGN_Close: 0.16<br>HD_Close: 0.27",
          "Return: 14.31%<br>Volatility: 0.09<br>ORCL_Close: 0.27<br>AMZN_Close: 0.11<br>EXC_Close: 0.30<br>AEP_Close: 0.24<br>KR_Close: 0.08",
          "Return: 19.93%<br>Volatility: 0.11<br>NFLX_Close: 0.18<br>MCD_Close: 0.05<br>CSCO_Close: 0.35<br>LMT_Close: 0.24<br>BSX_Close: 0.18",
          "Return: 4.90%<br>Volatility: 0.13<br>EMR_Close: 0.09<br>K_Close: 0.23<br>KR_Close: 0.05<br>REGN_Close: 0.32<br>SYY_Close: 0.31",
          "Return: 13.64%<br>Volatility: 0.11<br>DUK_Close: 0.01<br>IBM_Close: 0.08<br>KR_Close: 0.13<br>GILD_Close: 0.31<br>HD_Close: 0.46",
          "Return: 26.01%<br>Volatility: 0.10<br>MO_Close: 0.16<br>HON_Close: 0.16<br>MS_Close: 0.07<br>EXC_Close: 0.34<br>BABA_Close: 0.28",
          "Return: 23.21%<br>Volatility: 0.11<br>HD_Close: 0.03<br>SAP_Close: 0.23<br>GIS_Close: 0.28<br>AAPL_Close: 0.18<br>ADBE_Close: 0.27",
          "Return: -12.29%<br>Volatility: 0.09<br>GM_Close: 0.19<br>SO_Close: 0.38<br>CMCSA_Close: 0.07<br>JNJ_Close: 0.08<br>GE_Close: 0.27",
          "Return: 5.98%<br>Volatility: 0.11<br>MO_Close: 0.12<br>META_Close: 0.19<br>ZBH_Close: 0.13<br>WFC_Close: 0.07<br>BSX_Close: 0.48",
          "Return: 18.00%<br>Volatility: 0.11<br>ABT_Close: 0.18<br>MS_Close: 0.32<br>DHR_Close: 0.29<br>CAT_Close: 0.05<br>BIIB_Close: 0.17",
          "Return: 35.67%<br>Volatility: 0.11<br>UA_Close: 0.03<br>ABBV_Close: 0.14<br>MSFT_Close: 0.29<br>META_Close: 0.34<br>WMT_Close: 0.19",
          "Return: 19.86%<br>Volatility: 0.11<br>JPM_Close: 0.11<br>ACN_Close: 0.08<br>GIS_Close: 0.48<br>BABA_Close: 0.23<br>PEP_Close: 0.10",
          "Return: 24.17%<br>Volatility: 0.09<br>DUK_Close: 0.36<br>RTX_Close: 0.17<br>MCD_Close: 0.11<br>PYPL_Close: 0.20<br>BMY_Close: 0.17",
          "Return: 19.21%<br>Volatility: 0.09<br>REGN_Close: 0.05<br>HD_Close: 0.19<br>AMGN_Close: 0.21<br>GOOG_Close: 0.26<br>EMR_Close: 0.28",
          "Return: 15.34%<br>Volatility: 0.12<br>AAPL_Close: 0.38<br>TXN_Close: 0.24<br>T_Close: 0.16<br>LMT_Close: 0.03<br>RDY_Close: 0.20",
          "Return: 37.02%<br>Volatility: 0.12<br>HON_Close: 0.04<br>GOOG_Close: 0.15<br>QCOM_Close: 0.27<br>BA_Close: 0.31<br>MSFT_Close: 0.23",
          "Return: 3.02%<br>Volatility: 0.09<br>SRE_Close: 0.13<br>DUK_Close: 0.75<br>UNH_Close: 0.03<br>UA_Close: 0.08<br>CRM_Close: 0.01",
          "Return: 33.33%<br>Volatility: 0.12<br>SYY_Close: 0.02<br>BA_Close: 0.11<br>TXN_Close: 0.38<br>BSX_Close: 0.29<br>PYPL_Close: 0.19",
          "Return: 33.55%<br>Volatility: 0.11<br>LLY_Close: 0.07<br>NEE_Close: 0.35<br>JNJ_Close: 0.03<br>EW_Close: 0.26<br>PYPL_Close: 0.28",
          "Return: -0.11%<br>Volatility: 0.20<br>UA_Close: 0.16<br>AMD_Close: 0.27<br>EW_Close: 0.16<br>ISRG_Close: 0.12<br>HON_Close: 0.29",
          "Return: 17.58%<br>Volatility: 0.08<br>RTX_Close: 0.25<br>DUK_Close: 0.17<br>BMY_Close: 0.24<br>EMR_Close: 0.17<br>UNH_Close: 0.18",
          "Return: 14.22%<br>Volatility: 0.18<br>TSLA_Close: 0.07<br>BA_Close: 0.36<br>AMD_Close: 0.22<br>CRM_Close: 0.00<br>MO_Close: 0.35",
          "Return: 5.67%<br>Volatility: 0.13<br>SYK_Close: 0.24<br>BMY_Close: 0.36<br>RDY_Close: 0.29<br>ACN_Close: 0.03<br>REGN_Close: 0.08",
          "Return: 34.26%<br>Volatility: 0.10<br>UNH_Close: 0.19<br>SYK_Close: 0.11<br>CRM_Close: 0.00<br>ACN_Close: 0.10<br>MCD_Close: 0.60",
          "Return: 11.98%<br>Volatility: 0.09<br>RTX_Close: 0.02<br>DUK_Close: 0.22<br>MSFT_Close: 0.27<br>BSX_Close: 0.29<br>F_Close: 0.19",
          "Return: 24.11%<br>Volatility: 0.09<br>NVDA_Close: 0.04<br>GM_Close: 0.29<br>NEE_Close: 0.36<br>PFE_Close: 0.03<br>GOOG_Close: 0.28",
          "Return: 21.33%<br>Volatility: 0.12<br>RMD_Close: 0.24<br>PG_Close: 0.05<br>NFLX_Close: 0.26<br>JNJ_Close: 0.22<br>BMY_Close: 0.24",
          "Return: 16.32%<br>Volatility: 0.09<br>META_Close: 0.26<br>BAC_Close: 0.06<br>VZ_Close: 0.24<br>T_Close: 0.15<br>JNJ_Close: 0.28",
          "Return: 15.65%<br>Volatility: 0.10<br>ZBH_Close: 0.36<br>DHR_Close: 0.13<br>DUK_Close: 0.12<br>UNH_Close: 0.19<br>ABT_Close: 0.20",
          "Return: 28.78%<br>Volatility: 0.12<br>ABBV_Close: 0.18<br>INTC_Close: 0.21<br>COST_Close: 0.01<br>BIIB_Close: 0.38<br>MCD_Close: 0.23",
          "Return: 13.40%<br>Volatility: 0.09<br>CRM_Close: 0.32<br>MO_Close: 0.31<br>PFE_Close: 0.23<br>V_Close: 0.09<br>NEE_Close: 0.04",
          "Return: 21.49%<br>Volatility: 0.20<br>NKE_Close: 0.17<br>AMD_Close: 0.20<br>NEE_Close: 0.26<br>NVDA_Close: 0.23<br>CSCO_Close: 0.13",
          "Return: 43.07%<br>Volatility: 0.14<br>BA_Close: 0.25<br>NVDA_Close: 0.11<br>ORCL_Close: 0.17<br>AMZN_Close: 0.43<br>KO_Close: 0.04",
          "Return: 3.70%<br>Volatility: 0.10<br>SYY_Close: 0.15<br>CSCO_Close: 0.06<br>BSX_Close: 0.36<br>GIS_Close: 0.42<br>JPM_Close: 0.02",
          "Return: -10.95%<br>Volatility: 0.12<br>TXN_Close: 0.13<br>ABT_Close: 0.15<br>BAC_Close: 0.17<br>GE_Close: 0.38<br>ZBH_Close: 0.17",
          "Return: 3.27%<br>Volatility: 0.11<br>GM_Close: 0.21<br>IBM_Close: 0.27<br>GILD_Close: 0.37<br>JPM_Close: 0.11<br>BTI_Close: 0.04",
          "Return: 47.58%<br>Volatility: 0.12<br>BABA_Close: 0.31<br>MMM_Close: 0.31<br>CAT_Close: 0.24<br>V_Close: 0.14<br>BA_Close: 0.00",
          "Return: 22.61%<br>Volatility: 0.11<br>AMZN_Close: 0.03<br>SYK_Close: 0.12<br>MA_Close: 0.14<br>BTI_Close: 0.36<br>ACN_Close: 0.36",
          "Return: -10.58%<br>Volatility: 0.19<br>GS_Close: 0.37<br>DHR_Close: 0.17<br>PEP_Close: 0.06<br>SYK_Close: 0.04<br>UA_Close: 0.35",
          "Return: 9.44%<br>Volatility: 0.13<br>DIS_Close: 0.28<br>UA_Close: 0.19<br>RMD_Close: 0.12<br>MSFT_Close: 0.26<br>NFLX_Close: 0.15",
          "Return: 34.71%<br>Volatility: 0.13<br>AAPL_Close: 0.26<br>VRTX_Close: 0.15<br>TXN_Close: 0.33<br>BAC_Close: 0.17<br>UNH_Close: 0.09",
          "Return: 20.77%<br>Volatility: 0.10<br>DHR_Close: 0.16<br>MS_Close: 0.16<br>INTC_Close: 0.18<br>TMO_Close: 0.21<br>SYK_Close: 0.28",
          "Return: 9.22%<br>Volatility: 0.09<br>BAC_Close: 0.25<br>BIIB_Close: 0.17<br>CPB_Close: 0.12<br>LMT_Close: 0.17<br>PG_Close: 0.28",
          "Return: 32.37%<br>Volatility: 0.11<br>WFC_Close: 0.15<br>VRTX_Close: 0.14<br>ABT_Close: 0.33<br>V_Close: 0.16<br>TXN_Close: 0.22",
          "Return: 20.45%<br>Volatility: 0.09<br>NFLX_Close: 0.12<br>INTC_Close: 0.07<br>DHR_Close: 0.30<br>CVX_Close: 0.38<br>AMZN_Close: 0.13",
          "Return: 19.63%<br>Volatility: 0.14<br>BA_Close: 0.17<br>SYK_Close: 0.24<br>SAP_Close: 0.22<br>AMD_Close: 0.14<br>RMD_Close: 0.23",
          "Return: 13.94%<br>Volatility: 0.12<br>QCOM_Close: 0.27<br>GM_Close: 0.17<br>COST_Close: 0.28<br>MS_Close: 0.01<br>VZ_Close: 0.27",
          "Return: 2.98%<br>Volatility: 0.09<br>MO_Close: 0.28<br>TMO_Close: 0.24<br>IBM_Close: 0.29<br>CVX_Close: 0.18<br>AMZN_Close: 0.01",
          "Return: 25.43%<br>Volatility: 0.14<br>ISRG_Close: 0.22<br>RMD_Close: 0.24<br>AMZN_Close: 0.05<br>EW_Close: 0.37<br>SRE_Close: 0.12",
          "Return: 20.45%<br>Volatility: 0.11<br>ZBH_Close: 0.34<br>MMM_Close: 0.31<br>TXN_Close: 0.21<br>AAPL_Close: 0.12<br>MO_Close: 0.02",
          "Return: 17.69%<br>Volatility: 0.09<br>BAC_Close: 0.11<br>NFLX_Close: 0.07<br>CMCSA_Close: 0.18<br>MMM_Close: 0.48<br>IBM_Close: 0.15",
          "Return: 12.86%<br>Volatility: 0.08<br>GIS_Close: 0.20<br>JPM_Close: 0.16<br>CVX_Close: 0.27<br>LLY_Close: 0.06<br>RTX_Close: 0.31",
          "Return: 26.66%<br>Volatility: 0.11<br>ISRG_Close: 0.27<br>CAT_Close: 0.12<br>EW_Close: 0.22<br>SYK_Close: 0.16<br>K_Close: 0.23",
          "Return: -17.17%<br>Volatility: 0.26<br>UA_Close: 0.50<br>SRE_Close: 0.06<br>MS_Close: 0.14<br>F_Close: 0.23<br>GM_Close: 0.07",
          "Return: 19.84%<br>Volatility: 0.10<br>BABA_Close: 0.18<br>TXN_Close: 0.14<br>MRK_Close: 0.31<br>BAC_Close: 0.20<br>GOOGL_Close: 0.17",
          "Return: 14.42%<br>Volatility: 0.11<br>SO_Close: 0.10<br>RMD_Close: 0.31<br>ORCL_Close: 0.07<br>REGN_Close: 0.18<br>TMO_Close: 0.34",
          "Return: 14.26%<br>Volatility: 0.15<br>BABA_Close: 0.14<br>F_Close: 0.10<br>SYK_Close: 0.34<br>AMD_Close: 0.14<br>BIIB_Close: 0.29",
          "Return: 25.70%<br>Volatility: 0.10<br>ABBV_Close: 0.14<br>XOM_Close: 0.15<br>INTC_Close: 0.21<br>GM_Close: 0.25<br>GOOG_Close: 0.25",
          "Return: 7.04%<br>Volatility: 0.20<br>UA_Close: 0.39<br>RTX_Close: 0.16<br>WFC_Close: 0.10<br>BA_Close: 0.34<br>GIS_Close: 0.00",
          "Return: 4.57%<br>Volatility: 0.13<br>ZBH_Close: 0.20<br>WFC_Close: 0.07<br>ABT_Close: 0.24<br>RDY_Close: 0.27<br>GS_Close: 0.22",
          "Return: 20.49%<br>Volatility: 0.09<br>RTX_Close: 0.09<br>PG_Close: 0.31<br>WMT_Close: 0.10<br>GOOG_Close: 0.26<br>GOOGL_Close: 0.24",
          "Return: 11.98%<br>Volatility: 0.08<br>ETN_Close: 0.27<br>PFE_Close: 0.40<br>AEP_Close: 0.15<br>EW_Close: 0.05<br>DHR_Close: 0.13",
          "Return: 38.44%<br>Volatility: 0.14<br>GOOGL_Close: 0.09<br>PG_Close: 0.33<br>NVDA_Close: 0.32<br>HD_Close: 0.05<br>UNH_Close: 0.21",
          "Return: 33.93%<br>Volatility: 0.17<br>PFE_Close: 0.35<br>VRTX_Close: 0.37<br>EMR_Close: 0.01<br>ISRG_Close: 0.16<br>MDT_Close: 0.11",
          "Return: -0.80%<br>Volatility: 0.12<br>SNAP_Close: 0.16<br>PEP_Close: 0.14<br>SO_Close: 0.23<br>PFE_Close: 0.26<br>HON_Close: 0.21",
          "Return: 8.91%<br>Volatility: 0.11<br>NKE_Close: 0.28<br>GILD_Close: 0.24<br>CSCO_Close: 0.15<br>LMT_Close: 0.06<br>F_Close: 0.28",
          "Return: 41.52%<br>Volatility: 0.16<br>CSCO_Close: 0.21<br>ACN_Close: 0.11<br>CAT_Close: 0.07<br>TXN_Close: 0.29<br>VRTX_Close: 0.32",
          "Return: 16.22%<br>Volatility: 0.09<br>HON_Close: 0.17<br>DE_Close: 0.09<br>KO_Close: 0.23<br>BMY_Close: 0.32<br>WFC_Close: 0.19",
          "Return: 11.61%<br>Volatility: 0.12<br>BABA_Close: 0.07<br>CPB_Close: 0.28<br>HD_Close: 0.26<br>EW_Close: 0.23<br>GIS_Close: 0.16",
          "Return: 17.02%<br>Volatility: 0.08<br>BABA_Close: 0.01<br>WMT_Close: 0.31<br>SO_Close: 0.40<br>BAC_Close: 0.12<br>DUK_Close: 0.16",
          "Return: 19.95%<br>Volatility: 0.08<br>BABA_Close: 0.14<br>SAP_Close: 0.15<br>DUK_Close: 0.51<br>BMY_Close: 0.05<br>GOOG_Close: 0.14",
          "Return: 19.05%<br>Volatility: 0.08<br>JPM_Close: 0.02<br>EXC_Close: 0.29<br>DIS_Close: 0.23<br>ACN_Close: 0.38<br>BABA_Close: 0.08",
          "Return: 23.45%<br>Volatility: 0.09<br>UNH_Close: 0.06<br>AMGN_Close: 0.19<br>CAT_Close: 0.27<br>PG_Close: 0.36<br>TMO_Close: 0.11",
          "Return: 15.90%<br>Volatility: 0.10<br>RDY_Close: 0.02<br>CRM_Close: 0.10<br>BAC_Close: 0.33<br>LMT_Close: 0.39<br>IBM_Close: 0.17",
          "Return: 1.88%<br>Volatility: 0.12<br>REGN_Close: 0.25<br>K_Close: 0.01<br>DHR_Close: 0.13<br>GILD_Close: 0.26<br>DIS_Close: 0.35",
          "Return: 8.77%<br>Volatility: 0.13<br>AMD_Close: 0.10<br>RTX_Close: 0.07<br>BMY_Close: 0.31<br>QCOM_Close: 0.21<br>COST_Close: 0.31",
          "Return: 14.77%<br>Volatility: 0.07<br>KO_Close: 0.33<br>MO_Close: 0.04<br>LMT_Close: 0.40<br>AMGN_Close: 0.06<br>GILD_Close: 0.17",
          "Return: 21.54%<br>Volatility: 0.12<br>ORCL_Close: 0.37<br>EW_Close: 0.04<br>GOOGL_Close: 0.33<br>WFC_Close: 0.08<br>MA_Close: 0.18",
          "Return: 21.48%<br>Volatility: 0.14<br>AAPL_Close: 0.35<br>TMO_Close: 0.10<br>TXN_Close: 0.11<br>QCOM_Close: 0.34<br>AMGN_Close: 0.10",
          "Return: 4.65%<br>Volatility: 0.13<br>GILD_Close: 0.18<br>K_Close: 0.02<br>UA_Close: 0.20<br>XOM_Close: 0.17<br>MMM_Close: 0.43",
          "Return: 18.17%<br>Volatility: 0.09<br>PM_Close: 0.38<br>CSCO_Close: 0.00<br>BAC_Close: 0.26<br>ABBV_Close: 0.23<br>XOM_Close: 0.13",
          "Return: -5.18%<br>Volatility: 0.10<br>UNH_Close: 0.17<br>GE_Close: 0.27<br>XOM_Close: 0.07<br>F_Close: 0.25<br>RMD_Close: 0.24",
          "Return: 13.38%<br>Volatility: 0.13<br>TSLA_Close: 0.30<br>MCD_Close: 0.05<br>PEP_Close: 0.30<br>BSX_Close: 0.09<br>SO_Close: 0.25",
          "Return: 32.56%<br>Volatility: 0.09<br>RDY_Close: 0.01<br>ABBV_Close: 0.30<br>NEE_Close: 0.26<br>V_Close: 0.27<br>KO_Close: 0.15",
          "Return: 3.26%<br>Volatility: 0.12<br>MRK_Close: 0.25<br>GILD_Close: 0.51<br>EMR_Close: 0.04<br>GOOGL_Close: 0.07<br>KO_Close: 0.13",
          "Return: 7.29%<br>Volatility: 0.16<br>K_Close: 0.00<br>DE_Close: 0.31<br>UA_Close: 0.24<br>BMY_Close: 0.19<br>GILD_Close: 0.25",
          "Return: 15.84%<br>Volatility: 0.09<br>JNJ_Close: 0.27<br>GILD_Close: 0.24<br>HON_Close: 0.03<br>WFC_Close: 0.20<br>META_Close: 0.26",
          "Return: 7.74%<br>Volatility: 0.14<br>REGN_Close: 0.42<br>VZ_Close: 0.26<br>XOM_Close: 0.09<br>INTC_Close: 0.02<br>QCOM_Close: 0.21",
          "Return: 14.28%<br>Volatility: 0.10<br>ACN_Close: 0.05<br>WMT_Close: 0.15<br>MDT_Close: 0.06<br>GOOGL_Close: 0.30<br>MO_Close: 0.44",
          "Return: 7.94%<br>Volatility: 0.16<br>PEP_Close: 0.02<br>NVDA_Close: 0.23<br>PG_Close: 0.27<br>UA_Close: 0.28<br>DIS_Close: 0.20",
          "Return: 8.87%<br>Volatility: 0.08<br>CVX_Close: 0.13<br>DIS_Close: 0.21<br>EXC_Close: 0.37<br>AAPL_Close: 0.10<br>GIS_Close: 0.19",
          "Return: 39.25%<br>Volatility: 0.12<br>PG_Close: 0.01<br>V_Close: 0.30<br>MMM_Close: 0.24<br>AEP_Close: 0.11<br>PYPL_Close: 0.33",
          "Return: -3.10%<br>Volatility: 0.27<br>GOOGL_Close: 0.42<br>DIS_Close: 0.09<br>JNJ_Close: 0.03<br>AMD_Close: 0.42<br>LMT_Close: 0.03",
          "Return: 2.74%<br>Volatility: 0.16<br>SAP_Close: 0.31<br>AMD_Close: 0.22<br>AEP_Close: 0.19<br>AMGN_Close: 0.26<br>MMM_Close: 0.03",
          "Return: 13.29%<br>Volatility: 0.08<br>K_Close: 0.08<br>MDT_Close: 0.15<br>JNJ_Close: 0.22<br>XOM_Close: 0.29<br>UNH_Close: 0.26",
          "Return: 35.60%<br>Volatility: 0.14<br>K_Close: 0.03<br>MCD_Close: 0.31<br>VRTX_Close: 0.25<br>AAPL_Close: 0.33<br>COST_Close: 0.08",
          "Return: 7.01%<br>Volatility: 0.11<br>NEE_Close: 0.03<br>RMD_Close: 0.21<br>MDT_Close: 0.31<br>GS_Close: 0.19<br>GILD_Close: 0.27",
          "Return: 17.17%<br>Volatility: 0.11<br>AMGN_Close: 0.31<br>ETN_Close: 0.35<br>META_Close: 0.15<br>TXN_Close: 0.14<br>ABBV_Close: 0.05",
          "Return: -5.85%<br>Volatility: 0.10<br>NEE_Close: 0.40<br>PYPL_Close: 0.13<br>CVX_Close: 0.02<br>ACN_Close: 0.05<br>GE_Close: 0.40",
          "Return: 19.74%<br>Volatility: 0.10<br>WMT_Close: 0.07<br>SAP_Close: 0.06<br>HD_Close: 0.31<br>BIIB_Close: 0.29<br>PFE_Close: 0.27",
          "Return: 22.66%<br>Volatility: 0.10<br>ADBE_Close: 0.25<br>XOM_Close: 0.29<br>ISRG_Close: 0.21<br>T_Close: 0.16<br>COST_Close: 0.09",
          "Return: 7.98%<br>Volatility: 0.10<br>SYK_Close: 0.07<br>ISRG_Close: 0.01<br>AAPL_Close: 0.29<br>SRE_Close: 0.22<br>T_Close: 0.41",
          "Return: 7.11%<br>Volatility: 0.12<br>IBM_Close: 0.04<br>EW_Close: 0.05<br>CMCSA_Close: 0.37<br>EMR_Close: 0.15<br>GIS_Close: 0.40",
          "Return: -17.11%<br>Volatility: 0.11<br>SRE_Close: 0.16<br>K_Close: 0.28<br>GE_Close: 0.25<br>F_Close: 0.02<br>GS_Close: 0.29",
          "Return: 18.08%<br>Volatility: 0.13<br>ABBV_Close: 0.36<br>BIIB_Close: 0.27<br>GS_Close: 0.10<br>DIS_Close: 0.20<br>SNAP_Close: 0.07",
          "Return: 22.17%<br>Volatility: 0.09<br>IBM_Close: 0.04<br>CAT_Close: 0.24<br>ACN_Close: 0.28<br>SO_Close: 0.19<br>GIS_Close: 0.25",
          "Return: 5.77%<br>Volatility: 0.10<br>HON_Close: 0.28<br>ETN_Close: 0.03<br>SO_Close: 0.19<br>RTX_Close: 0.00<br>MO_Close: 0.50",
          "Return: 27.59%<br>Volatility: 0.12<br>PYPL_Close: 0.19<br>MSFT_Close: 0.16<br>TMO_Close: 0.22<br>SYK_Close: 0.16<br>ZBH_Close: 0.27",
          "Return: 15.77%<br>Volatility: 0.08<br>SAP_Close: 0.31<br>DHR_Close: 0.26<br>NKE_Close: 0.17<br>MDT_Close: 0.06<br>NEE_Close: 0.20",
          "Return: 0.86%<br>Volatility: 0.12<br>MSFT_Close: 0.25<br>IBM_Close: 0.18<br>AMD_Close: 0.13<br>MO_Close: 0.28<br>SRE_Close: 0.15",
          "Return: 23.50%<br>Volatility: 0.10<br>LLY_Close: 0.07<br>RTX_Close: 0.07<br>PEP_Close: 0.31<br>CRM_Close: 0.24<br>AMZN_Close: 0.31",
          "Return: 27.61%<br>Volatility: 0.16<br>CSCO_Close: 0.14<br>VRTX_Close: 0.30<br>BSX_Close: 0.27<br>WFC_Close: 0.05<br>GOOG_Close: 0.24",
          "Return: 22.41%<br>Volatility: 0.09<br>XOM_Close: 0.07<br>SYK_Close: 0.30<br>BABA_Close: 0.14<br>ORCL_Close: 0.22<br>CVX_Close: 0.27",
          "Return: 37.24%<br>Volatility: 0.16<br>MMM_Close: 0.07<br>MS_Close: 0.12<br>EMR_Close: 0.25<br>BABA_Close: 0.48<br>RDY_Close: 0.08",
          "Return: 13.77%<br>Volatility: 0.10<br>MCD_Close: 0.38<br>SNAP_Close: 0.09<br>EXC_Close: 0.31<br>PG_Close: 0.17<br>WFC_Close: 0.05",
          "Return: -18.79%<br>Volatility: 0.22<br>BMY_Close: 0.21<br>UA_Close: 0.23<br>SNAP_Close: 0.25<br>JNJ_Close: 0.23<br>GILD_Close: 0.08",
          "Return: 19.46%<br>Volatility: 0.10<br>GIS_Close: 0.40<br>MO_Close: 0.02<br>DIS_Close: 0.16<br>ABBV_Close: 0.17<br>WMT_Close: 0.25",
          "Return: 17.44%<br>Volatility: 0.10<br>TXN_Close: 0.17<br>EXC_Close: 0.25<br>BSX_Close: 0.29<br>INTC_Close: 0.18<br>EW_Close: 0.12",
          "Return: 16.68%<br>Volatility: 0.15<br>BABA_Close: 0.33<br>SNAP_Close: 0.17<br>EXC_Close: 0.26<br>AEP_Close: 0.09<br>RTX_Close: 0.15",
          "Return: 14.37%<br>Volatility: 0.08<br>EXC_Close: 0.17<br>AAPL_Close: 0.11<br>EMR_Close: 0.37<br>PG_Close: 0.29<br>GM_Close: 0.06",
          "Return: 0.66%<br>Volatility: 0.14<br>AMD_Close: 0.21<br>CVX_Close: 0.22<br>COST_Close: 0.29<br>SYK_Close: 0.09<br>SO_Close: 0.19",
          "Return: 15.82%<br>Volatility: 0.10<br>QCOM_Close: 0.13<br>GOOG_Close: 0.17<br>CSCO_Close: 0.18<br>ABT_Close: 0.24<br>T_Close: 0.29",
          "Return: 22.82%<br>Volatility: 0.08<br>BA_Close: 0.28<br>MRK_Close: 0.20<br>WMT_Close: 0.06<br>KO_Close: 0.36<br>TMO_Close: 0.10",
          "Return: 31.91%<br>Volatility: 0.20<br>TSLA_Close: 0.39<br>QCOM_Close: 0.36<br>BAC_Close: 0.01<br>VRTX_Close: 0.18<br>BA_Close: 0.06",
          "Return: 20.58%<br>Volatility: 0.08<br>RTX_Close: 0.19<br>MSFT_Close: 0.20<br>UNH_Close: 0.22<br>PM_Close: 0.15<br>PFE_Close: 0.24",
          "Return: -2.98%<br>Volatility: 0.18<br>SNAP_Close: 0.25<br>SYY_Close: 0.23<br>ACN_Close: 0.03<br>PFE_Close: 0.24<br>EMR_Close: 0.24",
          "Return: 10.33%<br>Volatility: 0.09<br>ABT_Close: 0.28<br>MO_Close: 0.23<br>PG_Close: 0.35<br>AMGN_Close: 0.11<br>BABA_Close: 0.02",
          "Return: 17.92%<br>Volatility: 0.09<br>ACN_Close: 0.28<br>XOM_Close: 0.16<br>GIS_Close: 0.31<br>PG_Close: 0.15<br>NVDA_Close: 0.11",
          "Return: 6.52%<br>Volatility: 0.13<br>VZ_Close: 0.22<br>BAC_Close: 0.18<br>REGN_Close: 0.40<br>IBM_Close: 0.02<br>PG_Close: 0.17",
          "Return: 18.25%<br>Volatility: 0.09<br>JNJ_Close: 0.04<br>ETN_Close: 0.18<br>VZ_Close: 0.16<br>GOOG_Close: 0.26<br>RTX_Close: 0.37",
          "Return: -1.71%<br>Volatility: 0.14<br>SNAP_Close: 0.16<br>VRTX_Close: 0.05<br>T_Close: 0.35<br>GOOGL_Close: 0.08<br>EXC_Close: 0.35",
          "Return: 35.42%<br>Volatility: 0.14<br>ABBV_Close: 0.12<br>ETN_Close: 0.06<br>EXC_Close: 0.09<br>ISRG_Close: 0.44<br>EW_Close: 0.30",
          "Return: 23.52%<br>Volatility: 0.14<br>QCOM_Close: 0.11<br>BTI_Close: 0.25<br>PM_Close: 0.07<br>REGN_Close: 0.29<br>PYPL_Close: 0.29",
          "Return: 18.73%<br>Volatility: 0.12<br>EW_Close: 0.31<br>GM_Close: 0.28<br>EXC_Close: 0.18<br>SYK_Close: 0.16<br>TSLA_Close: 0.07",
          "Return: 18.06%<br>Volatility: 0.09<br>DUK_Close: 0.19<br>TXN_Close: 0.03<br>GIS_Close: 0.13<br>MSFT_Close: 0.50<br>MRK_Close: 0.16",
          "Return: 12.90%<br>Volatility: 0.12<br>SYK_Close: 0.04<br>UNH_Close: 0.17<br>REGN_Close: 0.37<br>PEP_Close: 0.38<br>HD_Close: 0.04",
          "Return: 15.81%<br>Volatility: 0.11<br>VZ_Close: 0.25<br>GOOG_Close: 0.16<br>QCOM_Close: 0.22<br>IBM_Close: 0.09<br>BAC_Close: 0.28",
          "Return: 0.57%<br>Volatility: 0.10<br>PG_Close: 0.22<br>UA_Close: 0.15<br>MMM_Close: 0.18<br>LLY_Close: 0.23<br>BSX_Close: 0.22",
          "Return: 8.52%<br>Volatility: 0.17<br>KR_Close: 0.30<br>ACN_Close: 0.10<br>COST_Close: 0.34<br>EMR_Close: 0.11<br>BAC_Close: 0.15",
          "Return: -6.86%<br>Volatility: 0.15<br>TXN_Close: 0.21<br>KR_Close: 0.21<br>NFLX_Close: 0.09<br>SNAP_Close: 0.17<br>MRK_Close: 0.32",
          "Return: 12.27%<br>Volatility: 0.09<br>XOM_Close: 0.41<br>CMCSA_Close: 0.30<br>TSLA_Close: 0.04<br>EW_Close: 0.02<br>MMM_Close: 0.23",
          "Return: 28.24%<br>Volatility: 0.10<br>CSCO_Close: 0.31<br>ISRG_Close: 0.25<br>EMR_Close: 0.08<br>UNH_Close: 0.24<br>BMY_Close: 0.11",
          "Return: 11.88%<br>Volatility: 0.10<br>KO_Close: 0.11<br>EMR_Close: 0.55<br>BSX_Close: 0.19<br>ETN_Close: 0.04<br>K_Close: 0.11",
          "Return: 34.86%<br>Volatility: 0.10<br>COST_Close: 0.23<br>CAT_Close: 0.13<br>ISRG_Close: 0.29<br>HD_Close: 0.26<br>EW_Close: 0.09",
          "Return: 2.81%<br>Volatility: 0.11<br>EW_Close: 0.20<br>BMY_Close: 0.27<br>IBM_Close: 0.07<br>DIS_Close: 0.24<br>RDY_Close: 0.22",
          "Return: 19.16%<br>Volatility: 0.10<br>DUK_Close: 0.13<br>DIS_Close: 0.11<br>SAP_Close: 0.37<br>AAPL_Close: 0.33<br>V_Close: 0.07",
          "Return: 8.11%<br>Volatility: 0.14<br>ZBH_Close: 0.10<br>CVX_Close: 0.14<br>BTI_Close: 0.68<br>UA_Close: 0.06<br>META_Close: 0.02",
          "Return: 16.17%<br>Volatility: 0.10<br>KO_Close: 0.14<br>AMD_Close: 0.04<br>SAP_Close: 0.25<br>HON_Close: 0.20<br>GM_Close: 0.37",
          "Return: 17.93%<br>Volatility: 0.14<br>NKE_Close: 0.40<br>BAC_Close: 0.33<br>TSLA_Close: 0.18<br>MMM_Close: 0.04<br>TMO_Close: 0.05",
          "Return: 13.91%<br>Volatility: 0.08<br>GM_Close: 0.25<br>PFE_Close: 0.21<br>TXN_Close: 0.16<br>AEP_Close: 0.17<br>BSX_Close: 0.21",
          "Return: 17.36%<br>Volatility: 0.11<br>IBM_Close: 0.02<br>WMT_Close: 0.03<br>META_Close: 0.33<br>SYK_Close: 0.29<br>AMGN_Close: 0.33",
          "Return: 29.63%<br>Volatility: 0.12<br>MSFT_Close: 0.29<br>BABA_Close: 0.12<br>BSX_Close: 0.23<br>MA_Close: 0.26<br>BAC_Close: 0.10",
          "Return: 19.33%<br>Volatility: 0.11<br>BSX_Close: 0.20<br>GIS_Close: 0.03<br>SRE_Close: 0.36<br>NVDA_Close: 0.14<br>ABT_Close: 0.28",
          "Return: 32.23%<br>Volatility: 0.16<br>MDT_Close: 0.52<br>F_Close: 0.01<br>DE_Close: 0.18<br>NFLX_Close: 0.01<br>NVDA_Close: 0.29",
          "Return: 11.23%<br>Volatility: 0.14<br>NVDA_Close: 0.16<br>IBM_Close: 0.18<br>PEP_Close: 0.03<br>BAC_Close: 0.06<br>BSX_Close: 0.58",
          "Return: 17.01%<br>Volatility: 0.08<br>LLY_Close: 0.17<br>PFE_Close: 0.20<br>BTI_Close: 0.21<br>CVX_Close: 0.23<br>WMT_Close: 0.20",
          "Return: -18.55%<br>Volatility: 0.25<br>SNAP_Close: 0.31<br>DUK_Close: 0.13<br>AMD_Close: 0.26<br>PEP_Close: 0.21<br>PYPL_Close: 0.10",
          "Return: 20.18%<br>Volatility: 0.09<br>ACN_Close: 0.17<br>SRE_Close: 0.20<br>F_Close: 0.17<br>TXN_Close: 0.37<br>ETN_Close: 0.09",
          "Return: 20.81%<br>Volatility: 0.10<br>META_Close: 0.15<br>COST_Close: 0.16<br>ACN_Close: 0.24<br>GOOGL_Close: 0.27<br>LLY_Close: 0.18",
          "Return: 18.18%<br>Volatility: 0.10<br>ETN_Close: 0.04<br>SO_Close: 0.23<br>CSCO_Close: 0.22<br>AMZN_Close: 0.27<br>MS_Close: 0.24",
          "Return: 21.66%<br>Volatility: 0.11<br>DIS_Close: 0.04<br>AMGN_Close: 0.28<br>UNH_Close: 0.43<br>BA_Close: 0.01<br>GOOGL_Close: 0.24",
          "Return: 43.89%<br>Volatility: 0.12<br>CAT_Close: 0.39<br>DHR_Close: 0.02<br>TMO_Close: 0.38<br>BABA_Close: 0.17<br>MDT_Close: 0.04",
          "Return: 14.40%<br>Volatility: 0.12<br>HON_Close: 0.06<br>COST_Close: 0.27<br>BIIB_Close: 0.30<br>ORCL_Close: 0.15<br>EW_Close: 0.22",
          "Return: 13.38%<br>Volatility: 0.12<br>T_Close: 0.16<br>CRM_Close: 0.18<br>REGN_Close: 0.30<br>ABT_Close: 0.28<br>CSCO_Close: 0.08",
          "Return: 18.01%<br>Volatility: 0.11<br>MS_Close: 0.06<br>BSX_Close: 0.27<br>ZBH_Close: 0.28<br>INTC_Close: 0.27<br>BA_Close: 0.12",
          "Return: 24.82%<br>Volatility: 0.10<br>BMY_Close: 0.23<br>QCOM_Close: 0.18<br>V_Close: 0.32<br>WMT_Close: 0.21<br>PM_Close: 0.07",
          "Return: 0.52%<br>Volatility: 0.15<br>JNJ_Close: 0.32<br>SYK_Close: 0.26<br>AAPL_Close: 0.10<br>SNAP_Close: 0.20<br>MO_Close: 0.12",
          "Return: 33.04%<br>Volatility: 0.13<br>KO_Close: 0.21<br>CMCSA_Close: 0.04<br>VRTX_Close: 0.05<br>AMZN_Close: 0.44<br>MA_Close: 0.27",
          "Return: 0.91%<br>Volatility: 0.19<br>SYK_Close: 0.16<br>UA_Close: 0.37<br>EXC_Close: 0.00<br>RTX_Close: 0.29<br>DE_Close: 0.18",
          "Return: 22.97%<br>Volatility: 0.09<br>HD_Close: 0.21<br>AMGN_Close: 0.24<br>JNJ_Close: 0.20<br>ABT_Close: 0.19<br>ADBE_Close: 0.16",
          "Return: 3.92%<br>Volatility: 0.14<br>UA_Close: 0.27<br>DHR_Close: 0.27<br>GILD_Close: 0.12<br>ACN_Close: 0.08<br>MCD_Close: 0.27",
          "Return: 14.70%<br>Volatility: 0.09<br>MRK_Close: 0.08<br>MDT_Close: 0.17<br>NEE_Close: 0.14<br>EMR_Close: 0.34<br>TMO_Close: 0.27",
          "Return: 20.45%<br>Volatility: 0.11<br>NFLX_Close: 0.13<br>LMT_Close: 0.18<br>QCOM_Close: 0.27<br>RTX_Close: 0.20<br>VZ_Close: 0.22",
          "Return: 5.38%<br>Volatility: 0.12<br>HON_Close: 0.01<br>SAP_Close: 0.06<br>BIIB_Close: 0.37<br>PM_Close: 0.48<br>PG_Close: 0.08",
          "Return: 25.80%<br>Volatility: 0.12<br>DE_Close: 0.11<br>PEP_Close: 0.38<br>MDT_Close: 0.05<br>ZBH_Close: 0.28<br>NVDA_Close: 0.19",
          "Return: 1.88%<br>Volatility: 0.13<br>SAP_Close: 0.29<br>AMGN_Close: 0.11<br>RDY_Close: 0.32<br>MDT_Close: 0.28<br>KO_Close: 0.00",
          "Return: 14.82%<br>Volatility: 0.11<br>INTC_Close: 0.07<br>JNJ_Close: 0.34<br>BIIB_Close: 0.18<br>JPM_Close: 0.03<br>BMY_Close: 0.38",
          "Return: 35.09%<br>Volatility: 0.10<br>HD_Close: 0.33<br>COST_Close: 0.15<br>CAT_Close: 0.27<br>PM_Close: 0.04<br>CRM_Close: 0.20",
          "Return: -5.29%<br>Volatility: 0.20<br>GS_Close: 0.39<br>WMT_Close: 0.02<br>AMD_Close: 0.31<br>KO_Close: 0.17<br>EXC_Close: 0.12",
          "Return: -18.81%<br>Volatility: 0.24<br>SNAP_Close: 0.33<br>UA_Close: 0.17<br>REGN_Close: 0.23<br>INTC_Close: 0.26<br>TSLA_Close: 0.02",
          "Return: 23.15%<br>Volatility: 0.07<br>ABBV_Close: 0.22<br>XOM_Close: 0.33<br>CMCSA_Close: 0.13<br>NEE_Close: 0.17<br>V_Close: 0.14",
          "Return: 20.51%<br>Volatility: 0.09<br>ACN_Close: 0.51<br>NKE_Close: 0.14<br>ETN_Close: 0.23<br>MMM_Close: 0.02<br>KO_Close: 0.09",
          "Return: -14.17%<br>Volatility: 0.12<br>RDY_Close: 0.08<br>BAC_Close: 0.27<br>MCD_Close: 0.08<br>GE_Close: 0.34<br>MDT_Close: 0.22",
          "Return: 2.25%<br>Volatility: 0.09<br>MRK_Close: 0.12<br>CMCSA_Close: 0.18<br>MDT_Close: 0.21<br>PG_Close: 0.24<br>GILD_Close: 0.26",
          "Return: 26.77%<br>Volatility: 0.11<br>CAT_Close: 0.06<br>JPM_Close: 0.13<br>CSCO_Close: 0.43<br>EMR_Close: 0.23<br>BA_Close: 0.15",
          "Return: 12.61%<br>Volatility: 0.08<br>UNH_Close: 0.03<br>JNJ_Close: 0.28<br>K_Close: 0.31<br>HON_Close: 0.38<br>MRK_Close: 0.00",
          "Return: 8.08%<br>Volatility: 0.18<br>EMR_Close: 0.27<br>WMT_Close: 0.34<br>DE_Close: 0.06<br>GILD_Close: 0.09<br>SNAP_Close: 0.24",
          "Return: 17.57%<br>Volatility: 0.22<br>WMT_Close: 0.22<br>MS_Close: 0.12<br>INTC_Close: 0.18<br>VRTX_Close: 0.18<br>AMD_Close: 0.30",
          "Return: -8.84%<br>Volatility: 0.11<br>CAT_Close: 0.15<br>JNJ_Close: 0.22<br>CPB_Close: 0.30<br>PG_Close: 0.08<br>GE_Close: 0.25",
          "Return: 16.11%<br>Volatility: 0.10<br>T_Close: 0.26<br>PYPL_Close: 0.07<br>GOOG_Close: 0.39<br>ISRG_Close: 0.07<br>K_Close: 0.20",
          "Return: 12.32%<br>Volatility: 0.15<br>TXN_Close: 0.29<br>COST_Close: 0.25<br>KR_Close: 0.27<br>JPM_Close: 0.02<br>CMCSA_Close: 0.17",
          "Return: 6.85%<br>Volatility: 0.12<br>MRK_Close: 0.16<br>VRTX_Close: 0.10<br>T_Close: 0.26<br>GOOG_Close: 0.27<br>RDY_Close: 0.22",
          "Return: 28.24%<br>Volatility: 0.08<br>MA_Close: 0.05<br>DHR_Close: 0.26<br>GOOGL_Close: 0.20<br>AEP_Close: 0.26<br>CAT_Close: 0.24",
          "Return: 9.18%<br>Volatility: 0.09<br>SYK_Close: 0.14<br>CPB_Close: 0.21<br>GS_Close: 0.12<br>CRM_Close: 0.27<br>CVX_Close: 0.25",
          "Return: 11.71%<br>Volatility: 0.08<br>MA_Close: 0.10<br>CRM_Close: 0.30<br>DHR_Close: 0.06<br>DIS_Close: 0.25<br>SRE_Close: 0.29",
          "Return: 18.51%<br>Volatility: 0.09<br>SYY_Close: 0.15<br>JPM_Close: 0.09<br>DIS_Close: 0.21<br>ADBE_Close: 0.31<br>MDT_Close: 0.24",
          "Return: 11.80%<br>Volatility: 0.11<br>DUK_Close: 0.23<br>DE_Close: 0.15<br>PM_Close: 0.11<br>REGN_Close: 0.30<br>MS_Close: 0.21",
          "Return: -5.98%<br>Volatility: 0.15<br>BA_Close: 0.03<br>UA_Close: 0.29<br>DIS_Close: 0.09<br>PM_Close: 0.28<br>AEP_Close: 0.32",
          "Return: 14.98%<br>Volatility: 0.08<br>HON_Close: 0.20<br>BTI_Close: 0.20<br>TMO_Close: 0.25<br>UNH_Close: 0.03<br>PG_Close: 0.32",
          "Return: 25.77%<br>Volatility: 0.08<br>DUK_Close: 0.30<br>ORCL_Close: 0.11<br>SYK_Close: 0.13<br>AAPL_Close: 0.22<br>BA_Close: 0.24",
          "Return: 23.89%<br>Volatility: 0.09<br>ISRG_Close: 0.35<br>CVX_Close: 0.18<br>RDY_Close: 0.13<br>KO_Close: 0.22<br>UNH_Close: 0.12",
          "Return: -22.54%<br>Volatility: 0.19<br>IBM_Close: 0.56<br>LLY_Close: 0.03<br>CSCO_Close: 0.03<br>UA_Close: 0.35<br>AEP_Close: 0.04",
          "Return: 11.16%<br>Volatility: 0.09<br>DIS_Close: 0.07<br>BIIB_Close: 0.11<br>WFC_Close: 0.33<br>V_Close: 0.31<br>K_Close: 0.17",
          "Return: 13.38%<br>Volatility: 0.08<br>K_Close: 0.24<br>MA_Close: 0.27<br>RTX_Close: 0.25<br>VZ_Close: 0.10<br>PM_Close: 0.14",
          "Return: 13.43%<br>Volatility: 0.13<br>QCOM_Close: 0.48<br>BMY_Close: 0.28<br>ZBH_Close: 0.05<br>DIS_Close: 0.02<br>DUK_Close: 0.17",
          "Return: 19.04%<br>Volatility: 0.08<br>EXC_Close: 0.14<br>AAPL_Close: 0.14<br>SO_Close: 0.20<br>MCD_Close: 0.27<br>CSCO_Close: 0.26",
          "Return: 39.75%<br>Volatility: 0.11<br>EMR_Close: 0.06<br>MDT_Close: 0.04<br>KO_Close: 0.36<br>CAT_Close: 0.21<br>BABA_Close: 0.32",
          "Return: 22.42%<br>Volatility: 0.12<br>REGN_Close: 0.04<br>EW_Close: 0.27<br>UNH_Close: 0.34<br>HON_Close: 0.03<br>COST_Close: 0.30",
          "Return: 21.95%<br>Volatility: 0.09<br>MS_Close: 0.21<br>SYY_Close: 0.23<br>JNJ_Close: 0.27<br>NVDA_Close: 0.02<br>ABT_Close: 0.27",
          "Return: 2.92%<br>Volatility: 0.13<br>ABBV_Close: 0.05<br>CPB_Close: 0.10<br>BA_Close: 0.14<br>SRE_Close: 0.33<br>RDY_Close: 0.38",
          "Return: 13.35%<br>Volatility: 0.11<br>KR_Close: 0.23<br>DHR_Close: 0.22<br>TXN_Close: 0.31<br>EXC_Close: 0.19<br>F_Close: 0.04",
          "Return: 45.18%<br>Volatility: 0.15<br>DE_Close: 0.32<br>NVDA_Close: 0.30<br>ZBH_Close: 0.13<br>JPM_Close: 0.03<br>NEE_Close: 0.22",
          "Return: 3.04%<br>Volatility: 0.12<br>CAT_Close: 0.06<br>KO_Close: 0.18<br>SNAP_Close: 0.08<br>K_Close: 0.31<br>BTI_Close: 0.37",
          "Return: 38.00%<br>Volatility: 0.12<br>CAT_Close: 0.37<br>CPB_Close: 0.11<br>VZ_Close: 0.02<br>PYPL_Close: 0.10<br>CRM_Close: 0.41",
          "Return: 26.22%<br>Volatility: 0.11<br>INTC_Close: 0.17<br>QCOM_Close: 0.22<br>WFC_Close: 0.16<br>BSX_Close: 0.20<br>CAT_Close: 0.24",
          "Return: 10.54%<br>Volatility: 0.10<br>MO_Close: 0.26<br>INTC_Close: 0.30<br>SNAP_Close: 0.03<br>LMT_Close: 0.31<br>UA_Close: 0.10",
          "Return: 13.55%<br>Volatility: 0.21<br>MA_Close: 0.18<br>CVX_Close: 0.12<br>NVDA_Close: 0.21<br>EMR_Close: 0.22<br>SNAP_Close: 0.27",
          "Return: 34.67%<br>Volatility: 0.13<br>DUK_Close: 0.25<br>HON_Close: 0.16<br>ADBE_Close: 0.41<br>PYPL_Close: 0.13<br>MCD_Close: 0.05",
          "Return: 13.88%<br>Volatility: 0.08<br>EXC_Close: 0.41<br>BTI_Close: 0.13<br>XOM_Close: 0.29<br>ADBE_Close: 0.10<br>LMT_Close: 0.07",
          "Return: 10.78%<br>Volatility: 0.12<br>BAC_Close: 0.11<br>BSX_Close: 0.35<br>TSLA_Close: 0.00<br>ORCL_Close: 0.40<br>CRM_Close: 0.14",
          "Return: 24.67%<br>Volatility: 0.11<br>TSLA_Close: 0.11<br>V_Close: 0.17<br>ISRG_Close: 0.27<br>RMD_Close: 0.19<br>GIS_Close: 0.26",
          "Return: 24.40%<br>Volatility: 0.10<br>PM_Close: 0.23<br>BA_Close: 0.19<br>REGN_Close: 0.05<br>GM_Close: 0.29<br>TXN_Close: 0.24",
          "Return: 17.52%<br>Volatility: 0.08<br>HON_Close: 0.10<br>SO_Close: 0.16<br>K_Close: 0.12<br>GM_Close: 0.31<br>MCD_Close: 0.31",
          "Return: 1.73%<br>Volatility: 0.14<br>PG_Close: 0.02<br>QCOM_Close: 0.07<br>GE_Close: 0.37<br>VZ_Close: 0.19<br>BABA_Close: 0.35",
          "Return: 27.88%<br>Volatility: 0.14<br>BSX_Close: 0.07<br>BTI_Close: 0.20<br>NVDA_Close: 0.26<br>GILD_Close: 0.18<br>ETN_Close: 0.29",
          "Return: 30.99%<br>Volatility: 0.10<br>BA_Close: 0.13<br>CAT_Close: 0.19<br>ZBH_Close: 0.32<br>MCD_Close: 0.24<br>PG_Close: 0.11",
          "Return: -20.15%<br>Volatility: 0.16<br>REGN_Close: 0.41<br>GE_Close: 0.41<br>QCOM_Close: 0.07<br>LLY_Close: 0.03<br>ADBE_Close: 0.08",
          "Return: 7.35%<br>Volatility: 0.11<br>SYK_Close: 0.19<br>MCD_Close: 0.07<br>GIS_Close: 0.45<br>BMY_Close: 0.18<br>KR_Close: 0.11",
          "Return: -10.83%<br>Volatility: 0.19<br>KR_Close: 0.01<br>QCOM_Close: 0.27<br>CRM_Close: 0.07<br>SNAP_Close: 0.17<br>RDY_Close: 0.48",
          "Return: 11.79%<br>Volatility: 0.13<br>ZBH_Close: 0.25<br>REGN_Close: 0.27<br>CAT_Close: 0.02<br>NKE_Close: 0.16<br>GOOGL_Close: 0.30",
          "Return: 5.98%<br>Volatility: 0.25<br>UA_Close: 0.25<br>NVDA_Close: 0.25<br>VRTX_Close: 0.09<br>DE_Close: 0.15<br>SNAP_Close: 0.26",
          "Return: 15.04%<br>Volatility: 0.11<br>EMR_Close: 0.58<br>SRE_Close: 0.08<br>LMT_Close: 0.10<br>JPM_Close: 0.04<br>GIS_Close: 0.19",
          "Return: 16.24%<br>Volatility: 0.10<br>CPB_Close: 0.18<br>BA_Close: 0.09<br>BTI_Close: 0.28<br>LMT_Close: 0.07<br>ACN_Close: 0.37",
          "Return: 14.54%<br>Volatility: 0.11<br>IBM_Close: 0.30<br>DHR_Close: 0.12<br>EW_Close: 0.29<br>ISRG_Close: 0.19<br>GOOG_Close: 0.11",
          "Return: 30.23%<br>Volatility: 0.13<br>PYPL_Close: 0.22<br>UNH_Close: 0.13<br>CVX_Close: 0.01<br>CSCO_Close: 0.55<br>TSLA_Close: 0.09",
          "Return: 8.91%<br>Volatility: 0.07<br>KO_Close: 0.50<br>AEP_Close: 0.01<br>HON_Close: 0.01<br>GS_Close: 0.11<br>PG_Close: 0.37",
          "Return: 16.00%<br>Volatility: 0.13<br>SRE_Close: 0.03<br>RMD_Close: 0.23<br>NVDA_Close: 0.19<br>CPB_Close: 0.36<br>TMO_Close: 0.20",
          "Return: 16.95%<br>Volatility: 0.09<br>CVX_Close: 0.19<br>MO_Close: 0.10<br>GOOGL_Close: 0.48<br>GIS_Close: 0.06<br>BTI_Close: 0.17",
          "Return: 16.24%<br>Volatility: 0.09<br>BAC_Close: 0.30<br>CRM_Close: 0.24<br>PEP_Close: 0.21<br>MCD_Close: 0.03<br>MDT_Close: 0.21",
          "Return: 9.64%<br>Volatility: 0.08<br>DIS_Close: 0.33<br>SYK_Close: 0.20<br>ISRG_Close: 0.10<br>SO_Close: 0.27<br>CSCO_Close: 0.09",
          "Return: 11.84%<br>Volatility: 0.09<br>HD_Close: 0.32<br>SYY_Close: 0.12<br>JPM_Close: 0.18<br>MRK_Close: 0.32<br>BMY_Close: 0.06",
          "Return: -5.19%<br>Volatility: 0.17<br>SNAP_Close: 0.20<br>META_Close: 0.18<br>BIIB_Close: 0.20<br>BSX_Close: 0.31<br>MDT_Close: 0.10",
          "Return: 16.37%<br>Volatility: 0.10<br>NFLX_Close: 0.14<br>BMY_Close: 0.18<br>TXN_Close: 0.33<br>JNJ_Close: 0.13<br>CPB_Close: 0.23",
          "Return: 15.53%<br>Volatility: 0.09<br>IBM_Close: 0.28<br>MA_Close: 0.36<br>VRTX_Close: 0.12<br>MO_Close: 0.16<br>SO_Close: 0.08",
          "Return: 13.87%<br>Volatility: 0.12<br>CAT_Close: 0.21<br>UA_Close: 0.13<br>GILD_Close: 0.14<br>HD_Close: 0.39<br>GE_Close: 0.12",
          "Return: 21.67%<br>Volatility: 0.12<br>TSLA_Close: 0.16<br>AMGN_Close: 0.10<br>ABT_Close: 0.25<br>NEE_Close: 0.10<br>BAC_Close: 0.38",
          "Return: 33.68%<br>Volatility: 0.15<br>JNJ_Close: 0.28<br>SYY_Close: 0.03<br>MS_Close: 0.34<br>NVDA_Close: 0.29<br>K_Close: 0.06",
          "Return: 30.26%<br>Volatility: 0.12<br>INTC_Close: 0.23<br>TSLA_Close: 0.17<br>GS_Close: 0.13<br>MMM_Close: 0.33<br>VRTX_Close: 0.14",
          "Return: 34.59%<br>Volatility: 0.10<br>MCD_Close: 0.41<br>EMR_Close: 0.02<br>DIS_Close: 0.04<br>ORCL_Close: 0.13<br>WMT_Close: 0.40",
          "Return: 10.99%<br>Volatility: 0.09<br>MMM_Close: 0.21<br>LLY_Close: 0.27<br>IBM_Close: 0.36<br>NVDA_Close: 0.06<br>ISRG_Close: 0.10",
          "Return: 7.98%<br>Volatility: 0.12<br>RTX_Close: 0.07<br>ZBH_Close: 0.36<br>AMGN_Close: 0.09<br>EXC_Close: 0.01<br>BMY_Close: 0.47",
          "Return: 16.63%<br>Volatility: 0.09<br>BMY_Close: 0.29<br>GOOGL_Close: 0.33<br>WFC_Close: 0.14<br>JNJ_Close: 0.21<br>BTI_Close: 0.03",
          "Return: 23.43%<br>Volatility: 0.08<br>CRM_Close: 0.29<br>JPM_Close: 0.14<br>ACN_Close: 0.33<br>NEE_Close: 0.06<br>CVX_Close: 0.18",
          "Return: 17.69%<br>Volatility: 0.12<br>SNAP_Close: 0.01<br>SYK_Close: 0.18<br>BAC_Close: 0.43<br>SAP_Close: 0.31<br>IBM_Close: 0.06",
          "Return: 21.32%<br>Volatility: 0.11<br>NKE_Close: 0.11<br>SRE_Close: 0.10<br>DE_Close: 0.38<br>DHR_Close: 0.10<br>WFC_Close: 0.30",
          "Return: 19.40%<br>Volatility: 0.13<br>PM_Close: 0.03<br>GS_Close: 0.54<br>TXN_Close: 0.28<br>ABT_Close: 0.05<br>BA_Close: 0.10",
          "Return: 17.80%<br>Volatility: 0.10<br>HD_Close: 0.18<br>GIS_Close: 0.14<br>AMZN_Close: 0.26<br>AMGN_Close: 0.20<br>CMCSA_Close: 0.22",
          "Return: -8.93%<br>Volatility: 0.13<br>AMD_Close: 0.06<br>ZBH_Close: 0.07<br>MMM_Close: 0.21<br>GE_Close: 0.31<br>QCOM_Close: 0.35",
          "Return: 22.35%<br>Volatility: 0.10<br>CRM_Close: 0.14<br>SYK_Close: 0.21<br>EMR_Close: 0.35<br>EW_Close: 0.10<br>LMT_Close: 0.20",
          "Return: 24.79%<br>Volatility: 0.10<br>MS_Close: 0.18<br>GM_Close: 0.26<br>AEP_Close: 0.23<br>SAP_Close: 0.03<br>DE_Close: 0.31",
          "Return: 27.03%<br>Volatility: 0.12<br>KR_Close: 0.07<br>TXN_Close: 0.28<br>BTI_Close: 0.11<br>AMZN_Close: 0.26<br>EW_Close: 0.27",
          "Return: 30.98%<br>Volatility: 0.12<br>MA_Close: 0.38<br>VRTX_Close: 0.06<br>MCD_Close: 0.04<br>MMM_Close: 0.14<br>RMD_Close: 0.38",
          "Return: 48.34%<br>Volatility: 0.12<br>CAT_Close: 0.33<br>ABT_Close: 0.05<br>BA_Close: 0.42<br>XOM_Close: 0.10<br>GIS_Close: 0.09",
          "Return: 33.76%<br>Volatility: 0.16<br>VRTX_Close: 0.39<br>DIS_Close: 0.09<br>NEE_Close: 0.37<br>PFE_Close: 0.09<br>DHR_Close: 0.05",
          "Return: 23.61%<br>Volatility: 0.10<br>AMZN_Close: 0.14<br>K_Close: 0.20<br>JPM_Close: 0.24<br>T_Close: 0.18<br>PYPL_Close: 0.24",
          "Return: 9.31%<br>Volatility: 0.13<br>EW_Close: 0.15<br>HON_Close: 0.14<br>RMD_Close: 0.00<br>T_Close: 0.16<br>GILD_Close: 0.54",
          "Return: 17.06%<br>Volatility: 0.11<br>ABT_Close: 0.23<br>GE_Close: 0.25<br>PYPL_Close: 0.29<br>CMCSA_Close: 0.08<br>WMT_Close: 0.14",
          "Return: 52.28%<br>Volatility: 0.17<br>TXN_Close: 0.04<br>VRTX_Close: 0.36<br>XOM_Close: 0.10<br>CAT_Close: 0.42<br>RMD_Close: 0.08",
          "Return: 31.43%<br>Volatility: 0.09<br>BA_Close: 0.27<br>LLY_Close: 0.27<br>INTC_Close: 0.23<br>V_Close: 0.22<br>F_Close: 0.01",
          "Return: 29.27%<br>Volatility: 0.13<br>BABA_Close: 0.26<br>ABT_Close: 0.10<br>AMGN_Close: 0.35<br>XOM_Close: 0.01<br>TXN_Close: 0.28",
          "Return: 9.72%<br>Volatility: 0.10<br>VZ_Close: 0.41<br>V_Close: 0.17<br>DUK_Close: 0.12<br>MO_Close: 0.30<br>META_Close: 0.00",
          "Return: 35.16%<br>Volatility: 0.12<br>BA_Close: 0.12<br>PYPL_Close: 0.23<br>BIIB_Close: 0.20<br>TXN_Close: 0.23<br>BMY_Close: 0.23",
          "Return: 15.76%<br>Volatility: 0.12<br>AMZN_Close: 0.03<br>BMY_Close: 0.40<br>MSFT_Close: 0.11<br>HD_Close: 0.13<br>GILD_Close: 0.33",
          "Return: -3.34%<br>Volatility: 0.10<br>MRK_Close: 0.24<br>GILD_Close: 0.07<br>BIIB_Close: 0.12<br>IBM_Close: 0.33<br>MS_Close: 0.24",
          "Return: -15.11%<br>Volatility: 0.25<br>EXC_Close: 0.27<br>KR_Close: 0.16<br>GOOGL_Close: 0.17<br>SNAP_Close: 0.36<br>V_Close: 0.05",
          "Return: 30.61%<br>Volatility: 0.11<br>UNH_Close: 0.17<br>INTC_Close: 0.21<br>BA_Close: 0.14<br>AMZN_Close: 0.24<br>MDT_Close: 0.24",
          "Return: 16.65%<br>Volatility: 0.09<br>INTC_Close: 0.38<br>SO_Close: 0.02<br>AEP_Close: 0.15<br>ACN_Close: 0.00<br>PG_Close: 0.44",
          "Return: 11.61%<br>Volatility: 0.09<br>EMR_Close: 0.14<br>COST_Close: 0.35<br>KO_Close: 0.31<br>REGN_Close: 0.14<br>BTI_Close: 0.06",
          "Return: -0.58%<br>Volatility: 0.13<br>PFE_Close: 0.01<br>RDY_Close: 0.38<br>AAPL_Close: 0.14<br>GIS_Close: 0.18<br>DUK_Close: 0.28",
          "Return: 22.49%<br>Volatility: 0.12<br>TXN_Close: 0.31<br>ABBV_Close: 0.02<br>AAPL_Close: 0.32<br>PEP_Close: 0.03<br>GILD_Close: 0.32",
          "Return: -16.37%<br>Volatility: 0.12<br>GE_Close: 0.37<br>EW_Close: 0.27<br>K_Close: 0.19<br>SAP_Close: 0.10<br>LLY_Close: 0.08",
          "Return: 13.82%<br>Volatility: 0.11<br>ETN_Close: 0.10<br>VZ_Close: 0.37<br>ZBH_Close: 0.22<br>ADBE_Close: 0.05<br>BAC_Close: 0.26",
          "Return: 22.07%<br>Volatility: 0.07<br>MMM_Close: 0.22<br>AMGN_Close: 0.13<br>KO_Close: 0.11<br>JNJ_Close: 0.26<br>MCD_Close: 0.27",
          "Return: 28.62%<br>Volatility: 0.09<br>MMM_Close: 0.21<br>ETN_Close: 0.06<br>SYY_Close: 0.08<br>WMT_Close: 0.36<br>RTX_Close: 0.29",
          "Return: 21.56%<br>Volatility: 0.10<br>INTC_Close: 0.29<br>PM_Close: 0.01<br>HD_Close: 0.25<br>NEE_Close: 0.13<br>GS_Close: 0.32",
          "Return: 16.43%<br>Volatility: 0.11<br>CSCO_Close: 0.01<br>BAC_Close: 0.24<br>EW_Close: 0.29<br>MO_Close: 0.22<br>SAP_Close: 0.25",
          "Return: 8.23%<br>Volatility: 0.11<br>QCOM_Close: 0.34<br>VZ_Close: 0.24<br>SAP_Close: 0.06<br>AMGN_Close: 0.11<br>K_Close: 0.24",
          "Return: 2.99%<br>Volatility: 0.08<br>SO_Close: 0.12<br>K_Close: 0.05<br>MO_Close: 0.19<br>PFE_Close: 0.35<br>F_Close: 0.29",
          "Return: 22.40%<br>Volatility: 0.17<br>BSX_Close: 0.30<br>CPB_Close: 0.04<br>NVDA_Close: 0.25<br>REGN_Close: 0.23<br>QCOM_Close: 0.18",
          "Return: 2.90%<br>Volatility: 0.11<br>SRE_Close: 0.31<br>CPB_Close: 0.36<br>TSLA_Close: 0.06<br>PYPL_Close: 0.08<br>NEE_Close: 0.19",
          "Return: -1.31%<br>Volatility: 0.08<br>GIS_Close: 0.16<br>GILD_Close: 0.25<br>SO_Close: 0.18<br>IBM_Close: 0.22<br>DUK_Close: 0.18",
          "Return: 40.88%<br>Volatility: 0.16<br>LMT_Close: 0.06<br>GOOGL_Close: 0.17<br>NFLX_Close: 0.34<br>MCD_Close: 0.21<br>PYPL_Close: 0.22",
          "Return: 23.85%<br>Volatility: 0.11<br>MO_Close: 0.04<br>TXN_Close: 0.28<br>AEP_Close: 0.15<br>ADBE_Close: 0.24<br>GIS_Close: 0.28",
          "Return: 33.48%<br>Volatility: 0.10<br>TMO_Close: 0.32<br>NVDA_Close: 0.06<br>AAPL_Close: 0.17<br>WMT_Close: 0.25<br>HD_Close: 0.20",
          "Return: -2.24%<br>Volatility: 0.17<br>COST_Close: 0.01<br>KR_Close: 0.42<br>MO_Close: 0.23<br>WMT_Close: 0.00<br>DHR_Close: 0.34",
          "Return: 18.39%<br>Volatility: 0.07<br>WMT_Close: 0.09<br>V_Close: 0.24<br>PG_Close: 0.33<br>HON_Close: 0.16<br>NKE_Close: 0.18",
          "Return: 18.76%<br>Volatility: 0.12<br>AMZN_Close: 0.02<br>DIS_Close: 0.17<br>UNH_Close: 0.22<br>MS_Close: 0.28<br>QCOM_Close: 0.31",
          "Return: -2.48%<br>Volatility: 0.17<br>SNAP_Close: 0.18<br>GILD_Close: 0.52<br>RMD_Close: 0.09<br>EW_Close: 0.13<br>ORCL_Close: 0.09",
          "Return: 25.54%<br>Volatility: 0.11<br>MMM_Close: 0.23<br>BABA_Close: 0.14<br>MRK_Close: 0.03<br>PG_Close: 0.35<br>NFLX_Close: 0.25",
          "Return: 10.34%<br>Volatility: 0.13<br>WFC_Close: 0.08<br>REGN_Close: 0.22<br>EMR_Close: 0.19<br>QCOM_Close: 0.34<br>MO_Close: 0.16",
          "Return: 37.64%<br>Volatility: 0.12<br>BABA_Close: 0.40<br>GOOG_Close: 0.07<br>AEP_Close: 0.28<br>CAT_Close: 0.03<br>SYK_Close: 0.21",
          "Return: 14.95%<br>Volatility: 0.10<br>MCD_Close: 0.26<br>CMCSA_Close: 0.11<br>DHR_Close: 0.32<br>REGN_Close: 0.19<br>BIIB_Close: 0.12",
          "Return: 13.44%<br>Volatility: 0.09<br>PEP_Close: 0.25<br>ORCL_Close: 0.21<br>LMT_Close: 0.01<br>TMO_Close: 0.34<br>PM_Close: 0.19",
          "Return: 14.28%<br>Volatility: 0.08<br>SO_Close: 0.24<br>COST_Close: 0.21<br>XOM_Close: 0.26<br>CAT_Close: 0.14<br>CSCO_Close: 0.16",
          "Return: 9.78%<br>Volatility: 0.09<br>LMT_Close: 0.24<br>PFE_Close: 0.33<br>KO_Close: 0.19<br>KR_Close: 0.19<br>BTI_Close: 0.05",
          "Return: 7.36%<br>Volatility: 0.10<br>TSLA_Close: 0.16<br>PG_Close: 0.36<br>DIS_Close: 0.35<br>BTI_Close: 0.12<br>PYPL_Close: 0.01",
          "Return: -0.08%<br>Volatility: 0.11<br>SYK_Close: 0.28<br>GE_Close: 0.31<br>CSCO_Close: 0.06<br>ACN_Close: 0.10<br>TXN_Close: 0.26",
          "Return: -12.30%<br>Volatility: 0.17<br>MO_Close: 0.15<br>PM_Close: 0.15<br>CMCSA_Close: 0.28<br>SNAP_Close: 0.25<br>XOM_Close: 0.17",
          "Return: 26.98%<br>Volatility: 0.15<br>IBM_Close: 0.09<br>CVX_Close: 0.13<br>MMM_Close: 0.23<br>NFLX_Close: 0.48<br>AAPL_Close: 0.06",
          "Return: 25.34%<br>Volatility: 0.11<br>IBM_Close: 0.16<br>ISRG_Close: 0.38<br>PFE_Close: 0.26<br>ADBE_Close: 0.13<br>CRM_Close: 0.07",
          "Return: 29.80%<br>Volatility: 0.13<br>SO_Close: 0.01<br>REGN_Close: 0.13<br>PYPL_Close: 0.28<br>GOOG_Close: 0.25<br>GM_Close: 0.33",
          "Return: -3.15%<br>Volatility: 0.09<br>ORCL_Close: 0.18<br>MMM_Close: 0.17<br>GE_Close: 0.28<br>LMT_Close: 0.16<br>CVX_Close: 0.22",
          "Return: 4.50%<br>Volatility: 0.11<br>EW_Close: 0.05<br>BTI_Close: 0.19<br>RDY_Close: 0.19<br>QCOM_Close: 0.22<br>SRE_Close: 0.36",
          "Return: 31.35%<br>Volatility: 0.14<br>EW_Close: 0.26<br>VRTX_Close: 0.25<br>JNJ_Close: 0.24<br>ETN_Close: 0.17<br>DE_Close: 0.08",
          "Return: 14.39%<br>Volatility: 0.16<br>MSFT_Close: 0.13<br>AMD_Close: 0.21<br>DE_Close: 0.27<br>ETN_Close: 0.25<br>BTI_Close: 0.15",
          "Return: 32.12%<br>Volatility: 0.10<br>ACN_Close: 0.37<br>ABBV_Close: 0.22<br>LMT_Close: 0.20<br>MSFT_Close: 0.13<br>BIIB_Close: 0.09",
          "Return: 29.24%<br>Volatility: 0.10<br>QCOM_Close: 0.22<br>PG_Close: 0.16<br>ABBV_Close: 0.33<br>CRM_Close: 0.13<br>BAC_Close: 0.16",
          "Return: 24.72%<br>Volatility: 0.09<br>CRM_Close: 0.27<br>TXN_Close: 0.14<br>HON_Close: 0.21<br>JPM_Close: 0.05<br>SYY_Close: 0.33",
          "Return: 9.99%<br>Volatility: 0.12<br>WFC_Close: 0.22<br>UA_Close: 0.09<br>META_Close: 0.13<br>CPB_Close: 0.24<br>DE_Close: 0.31",
          "Return: 19.38%<br>Volatility: 0.11<br>GM_Close: 0.24<br>UA_Close: 0.03<br>LLY_Close: 0.14<br>ABBV_Close: 0.24<br>COST_Close: 0.34",
          "Return: 10.25%<br>Volatility: 0.10<br>GIS_Close: 0.31<br>ABBV_Close: 0.04<br>AMGN_Close: 0.21<br>ETN_Close: 0.31<br>ABT_Close: 0.13",
          "Return: 39.58%<br>Volatility: 0.16<br>MS_Close: 0.03<br>NFLX_Close: 0.31<br>PEP_Close: 0.23<br>AMGN_Close: 0.03<br>BABA_Close: 0.39",
          "Return: 18.00%<br>Volatility: 0.10<br>XOM_Close: 0.12<br>ABT_Close: 0.16<br>UNH_Close: 0.05<br>VZ_Close: 0.27<br>EMR_Close: 0.41",
          "Return: 20.97%<br>Volatility: 0.10<br>AEP_Close: 0.30<br>TMO_Close: 0.26<br>BSX_Close: 0.09<br>GIS_Close: 0.11<br>ADBE_Close: 0.24",
          "Return: 20.96%<br>Volatility: 0.09<br>CAT_Close: 0.21<br>AMGN_Close: 0.25<br>AEP_Close: 0.26<br>ORCL_Close: 0.27<br>T_Close: 0.01",
          "Return: 28.17%<br>Volatility: 0.11<br>ABT_Close: 0.03<br>VZ_Close: 0.05<br>PEP_Close: 0.37<br>BABA_Close: 0.37<br>T_Close: 0.18",
          "Return: 18.82%<br>Volatility: 0.08<br>KO_Close: 0.37<br>TMO_Close: 0.25<br>DE_Close: 0.15<br>BSX_Close: 0.05<br>NKE_Close: 0.18",
          "Return: 1.00%<br>Volatility: 0.11<br>PEP_Close: 0.10<br>MS_Close: 0.35<br>MRK_Close: 0.42<br>T_Close: 0.01<br>PG_Close: 0.12",
          "Return: 37.86%<br>Volatility: 0.11<br>DHR_Close: 0.26<br>TXN_Close: 0.21<br>CAT_Close: 0.18<br>REGN_Close: 0.10<br>PYPL_Close: 0.25",
          "Return: 17.04%<br>Volatility: 0.09<br>EMR_Close: 0.22<br>ABT_Close: 0.36<br>F_Close: 0.21<br>MDT_Close: 0.09<br>EXC_Close: 0.11",
          "Return: 2.54%<br>Volatility: 0.08<br>IBM_Close: 0.24<br>SRE_Close: 0.26<br>ZBH_Close: 0.26<br>F_Close: 0.09<br>HD_Close: 0.16",
          "Return: 33.68%<br>Volatility: 0.13<br>GOOGL_Close: 0.24<br>HON_Close: 0.05<br>V_Close: 0.28<br>IBM_Close: 0.12<br>BABA_Close: 0.32",
          "Return: 21.97%<br>Volatility: 0.09<br>EXC_Close: 0.06<br>ORCL_Close: 0.03<br>HON_Close: 0.32<br>CRM_Close: 0.33<br>RTX_Close: 0.26",
          "Return: 12.29%<br>Volatility: 0.09<br>GOOG_Close: 0.22<br>PEP_Close: 0.23<br>GS_Close: 0.26<br>WFC_Close: 0.15<br>BTI_Close: 0.14",
          "Return: -8.46%<br>Volatility: 0.14<br>PM_Close: 0.16<br>AMD_Close: 0.21<br>SRE_Close: 0.30<br>RDY_Close: 0.07<br>GIS_Close: 0.27",
          "Return: 13.53%<br>Volatility: 0.12<br>JNJ_Close: 0.28<br>RTX_Close: 0.12<br>RDY_Close: 0.29<br>DE_Close: 0.25<br>MO_Close: 0.06",
          "Return: 17.03%<br>Volatility: 0.10<br>VZ_Close: 0.15<br>CSCO_Close: 0.28<br>GM_Close: 0.28<br>HON_Close: 0.25<br>DHR_Close: 0.04",
          "Return: 23.87%<br>Volatility: 0.13<br>PFE_Close: 0.24<br>ETN_Close: 0.11<br>VRTX_Close: 0.23<br>GILD_Close: 0.09<br>CSCO_Close: 0.33",
          "Return: 16.47%<br>Volatility: 0.07<br>CVX_Close: 0.24<br>ADBE_Close: 0.03<br>PM_Close: 0.22<br>LMT_Close: 0.31<br>SYY_Close: 0.19",
          "Return: -1.12%<br>Volatility: 0.10<br>NFLX_Close: 0.01<br>PG_Close: 0.27<br>REGN_Close: 0.20<br>BSX_Close: 0.25<br>K_Close: 0.26",
          "Return: 8.69%<br>Volatility: 0.09<br>WMT_Close: 0.05<br>ETN_Close: 0.33<br>PG_Close: 0.09<br>ORCL_Close: 0.16<br>DIS_Close: 0.37",
          "Return: 13.16%<br>Volatility: 0.14<br>META_Close: 0.41<br>MSFT_Close: 0.06<br>LLY_Close: 0.17<br>KR_Close: 0.31<br>TMO_Close: 0.05",
          "Return: 32.53%<br>Volatility: 0.12<br>RMD_Close: 0.24<br>DE_Close: 0.25<br>GE_Close: 0.00<br>BABA_Close: 0.23<br>CMCSA_Close: 0.29",
          "Return: 19.35%<br>Volatility: 0.10<br>CVX_Close: 0.19<br>JPM_Close: 0.15<br>CSCO_Close: 0.36<br>GM_Close: 0.18<br>WMT_Close: 0.11",
          "Return: 8.60%<br>Volatility: 0.18<br>REGN_Close: 0.28<br>GOOG_Close: 0.22<br>MA_Close: 0.27<br>SO_Close: 0.04<br>AMD_Close: 0.20",
          "Return: 16.01%<br>Volatility: 0.13<br>AMGN_Close: 0.27<br>VRTX_Close: 0.24<br>DIS_Close: 0.24<br>NKE_Close: 0.15<br>GIS_Close: 0.10",
          "Return: 29.68%<br>Volatility: 0.16<br>SAP_Close: 0.00<br>ISRG_Close: 0.57<br>KO_Close: 0.02<br>CRM_Close: 0.11<br>REGN_Close: 0.30",
          "Return: -1.05%<br>Volatility: 0.23<br>XOM_Close: 0.14<br>GOOGL_Close: 0.34<br>VRTX_Close: 0.12<br>WMT_Close: 0.07<br>SNAP_Close: 0.33",
          "Return: 19.11%<br>Volatility: 0.08<br>DE_Close: 0.06<br>PG_Close: 0.24<br>COST_Close: 0.17<br>BA_Close: 0.22<br>PM_Close: 0.30",
          "Return: 10.23%<br>Volatility: 0.11<br>CPB_Close: 0.32<br>PEP_Close: 0.13<br>BABA_Close: 0.17<br>AEP_Close: 0.06<br>GM_Close: 0.31",
          "Return: 14.81%<br>Volatility: 0.10<br>ORCL_Close: 0.42<br>SO_Close: 0.18<br>NEE_Close: 0.16<br>AAPL_Close: 0.18<br>BAC_Close: 0.05",
          "Return: -10.42%<br>Volatility: 0.17<br>CVX_Close: 0.07<br>UA_Close: 0.32<br>T_Close: 0.33<br>COST_Close: 0.07<br>KO_Close: 0.20",
          "Return: -13.22%<br>Volatility: 0.28<br>BMY_Close: 0.13<br>AMD_Close: 0.45<br>BSX_Close: 0.31<br>MS_Close: 0.02<br>SYY_Close: 0.09",
          "Return: 2.68%<br>Volatility: 0.13<br>ORCL_Close: 0.40<br>PEP_Close: 0.11<br>MDT_Close: 0.35<br>PFE_Close: 0.02<br>AMD_Close: 0.12",
          "Return: 14.82%<br>Volatility: 0.10<br>ORCL_Close: 0.43<br>DUK_Close: 0.32<br>WFC_Close: 0.08<br>BABA_Close: 0.07<br>SAP_Close: 0.10",
          "Return: 13.81%<br>Volatility: 0.11<br>GILD_Close: 0.31<br>MDT_Close: 0.30<br>PYPL_Close: 0.04<br>AAPL_Close: 0.15<br>GOOGL_Close: 0.20",
          "Return: -18.05%<br>Volatility: 0.11<br>MRK_Close: 0.19<br>TMO_Close: 0.34<br>KO_Close: 0.06<br>IBM_Close: 0.06<br>GE_Close: 0.35",
          "Return: 4.37%<br>Volatility: 0.10<br>IBM_Close: 0.29<br>GOOGL_Close: 0.21<br>VZ_Close: 0.19<br>GILD_Close: 0.29<br>MRK_Close: 0.01",
          "Return: 2.98%<br>Volatility: 0.11<br>COST_Close: 0.08<br>GE_Close: 0.24<br>CMCSA_Close: 0.11<br>MA_Close: 0.28<br>BAC_Close: 0.28",
          "Return: 30.33%<br>Volatility: 0.13<br>AAPL_Close: 0.24<br>BA_Close: 0.20<br>GOOGL_Close: 0.26<br>BSX_Close: 0.15<br>NFLX_Close: 0.16",
          "Return: -1.70%<br>Volatility: 0.20<br>AMD_Close: 0.31<br>SRE_Close: 0.00<br>DIS_Close: 0.27<br>GIS_Close: 0.05<br>ACN_Close: 0.37",
          "Return: 18.30%<br>Volatility: 0.10<br>TSLA_Close: 0.03<br>F_Close: 0.26<br>RMD_Close: 0.12<br>MMM_Close: 0.26<br>SYK_Close: 0.33",
          "Return: 37.82%<br>Volatility: 0.16<br>EMR_Close: 0.17<br>INTC_Close: 0.35<br>AAPL_Close: 0.15<br>VRTX_Close: 0.29<br>UNH_Close: 0.04",
          "Return: 30.49%<br>Volatility: 0.12<br>NVDA_Close: 0.15<br>AMZN_Close: 0.08<br>ABT_Close: 0.45<br>V_Close: 0.15<br>IBM_Close: 0.16",
          "Return: 24.13%<br>Volatility: 0.13<br>KR_Close: 0.08<br>HON_Close: 0.17<br>DHR_Close: 0.17<br>MA_Close: 0.34<br>TSLA_Close: 0.24",
          "Return: 14.36%<br>Volatility: 0.08<br>CRM_Close: 0.20<br>DUK_Close: 0.24<br>HON_Close: 0.17<br>SO_Close: 0.10<br>EXC_Close: 0.29",
          "Return: 19.99%<br>Volatility: 0.10<br>BSX_Close: 0.07<br>UNH_Close: 0.32<br>CAT_Close: 0.18<br>EMR_Close: 0.05<br>K_Close: 0.38",
          "Return: 21.31%<br>Volatility: 0.10<br>SYY_Close: 0.15<br>KO_Close: 0.32<br>NFLX_Close: 0.26<br>ORCL_Close: 0.22<br>LMT_Close: 0.05",
          "Return: 15.71%<br>Volatility: 0.10<br>T_Close: 0.22<br>SRE_Close: 0.04<br>XOM_Close: 0.34<br>TXN_Close: 0.04<br>AMZN_Close: 0.36",
          "Return: 23.31%<br>Volatility: 0.10<br>MS_Close: 0.19<br>EMR_Close: 0.20<br>DE_Close: 0.18<br>SO_Close: 0.25<br>ADBE_Close: 0.18",
          "Return: 33.59%<br>Volatility: 0.13<br>BSX_Close: 0.21<br>CAT_Close: 0.16<br>ISRG_Close: 0.17<br>AMZN_Close: 0.38<br>ORCL_Close: 0.08",
          "Return: 15.13%<br>Volatility: 0.12<br>MCD_Close: 0.06<br>GS_Close: 0.37<br>NEE_Close: 0.03<br>EW_Close: 0.26<br>SYY_Close: 0.28",
          "Return: 18.79%<br>Volatility: 0.10<br>ISRG_Close: 0.38<br>GS_Close: 0.23<br>SO_Close: 0.34<br>PEP_Close: 0.02<br>RMD_Close: 0.02",
          "Return: 8.12%<br>Volatility: 0.08<br>SO_Close: 0.13<br>BIIB_Close: 0.21<br>AEP_Close: 0.27<br>KO_Close: 0.19<br>DIS_Close: 0.20",
          "Return: 26.74%<br>Volatility: 0.09<br>DIS_Close: 0.21<br>ISRG_Close: 0.06<br>SAP_Close: 0.46<br>EXC_Close: 0.07<br>CAT_Close: 0.21",
          "Return: 36.31%<br>Volatility: 0.10<br>WMT_Close: 0.38<br>WFC_Close: 0.03<br>MCD_Close: 0.25<br>DHR_Close: 0.20<br>BABA_Close: 0.14",
          "Return: 10.48%<br>Volatility: 0.09<br>XOM_Close: 0.27<br>NEE_Close: 0.03<br>MRK_Close: 0.08<br>GOOG_Close: 0.18<br>BMY_Close: 0.45",
          "Return: 17.56%<br>Volatility: 0.13<br>UNH_Close: 0.37<br>SO_Close: 0.04<br>SYK_Close: 0.34<br>KR_Close: 0.24<br>WFC_Close: 0.00",
          "Return: 19.96%<br>Volatility: 0.11<br>BIIB_Close: 0.15<br>GOOGL_Close: 0.39<br>DE_Close: 0.09<br>KO_Close: 0.00<br>COST_Close: 0.37",
          "Return: 17.91%<br>Volatility: 0.11<br>MO_Close: 0.41<br>MCD_Close: 0.05<br>PG_Close: 0.05<br>V_Close: 0.26<br>AMZN_Close: 0.23",
          "Return: 10.41%<br>Volatility: 0.10<br>WFC_Close: 0.31<br>EXC_Close: 0.17<br>VZ_Close: 0.35<br>EMR_Close: 0.14<br>RDY_Close: 0.03",
          "Return: 9.10%<br>Volatility: 0.08<br>MDT_Close: 0.27<br>NKE_Close: 0.18<br>REGN_Close: 0.12<br>AEP_Close: 0.33<br>BAC_Close: 0.10",
          "Return: 8.97%<br>Volatility: 0.13<br>MRK_Close: 0.13<br>ACN_Close: 0.32<br>NFLX_Close: 0.11<br>UA_Close: 0.22<br>INTC_Close: 0.22",
          "Return: 33.09%<br>Volatility: 0.11<br>DHR_Close: 0.15<br>AMZN_Close: 0.05<br>VRTX_Close: 0.18<br>MCD_Close: 0.33<br>SAP_Close: 0.29",
          "Return: 11.51%<br>Volatility: 0.09<br>VZ_Close: 0.39<br>ORCL_Close: 0.12<br>EXC_Close: 0.25<br>ETN_Close: 0.13<br>GILD_Close: 0.11",
          "Return: 22.38%<br>Volatility: 0.09<br>DE_Close: 0.03<br>KO_Close: 0.26<br>UNH_Close: 0.32<br>MA_Close: 0.08<br>NKE_Close: 0.30",
          "Return: -18.33%<br>Volatility: 0.14<br>GE_Close: 0.34<br>UA_Close: 0.17<br>AMZN_Close: 0.06<br>META_Close: 0.32<br>MRK_Close: 0.11",
          "Return: 21.44%<br>Volatility: 0.13<br>MMM_Close: 0.00<br>TSLA_Close: 0.26<br>CVX_Close: 0.32<br>GOOG_Close: 0.29<br>ORCL_Close: 0.13",
          "Return: 20.99%<br>Volatility: 0.12<br>NEE_Close: 0.18<br>REGN_Close: 0.29<br>WMT_Close: 0.34<br>BIIB_Close: 0.09<br>BMY_Close: 0.10",
          "Return: 39.40%<br>Volatility: 0.12<br>BABA_Close: 0.36<br>PFE_Close: 0.28<br>JPM_Close: 0.06<br>PG_Close: 0.08<br>BA_Close: 0.22",
          "Return: 23.02%<br>Volatility: 0.10<br>GOOGL_Close: 0.25<br>COST_Close: 0.20<br>NVDA_Close: 0.06<br>HON_Close: 0.29<br>NKE_Close: 0.21",
          "Return: 20.11%<br>Volatility: 0.10<br>CPB_Close: 0.07<br>INTC_Close: 0.43<br>DIS_Close: 0.17<br>MA_Close: 0.22<br>T_Close: 0.10",
          "Return: 32.03%<br>Volatility: 0.13<br>MCD_Close: 0.24<br>RTX_Close: 0.16<br>ORCL_Close: 0.21<br>QCOM_Close: 0.15<br>VRTX_Close: 0.24",
          "Return: 10.07%<br>Volatility: 0.12<br>ADBE_Close: 0.03<br>WFC_Close: 0.49<br>CMCSA_Close: 0.07<br>BMY_Close: 0.38<br>CVX_Close: 0.03",
          "Return: 13.41%<br>Volatility: 0.11<br>SNAP_Close: 0.00<br>BIIB_Close: 0.31<br>INTC_Close: 0.35<br>K_Close: 0.09<br>PM_Close: 0.25",
          "Return: 5.64%<br>Volatility: 0.21<br>AMD_Close: 0.31<br>PG_Close: 0.22<br>CMCSA_Close: 0.21<br>LMT_Close: 0.06<br>BABA_Close: 0.20",
          "Return: 8.02%<br>Volatility: 0.16<br>SYY_Close: 0.19<br>SO_Close: 0.27<br>CVX_Close: 0.10<br>CAT_Close: 0.19<br>AMD_Close: 0.25",
          "Return: 27.57%<br>Volatility: 0.09<br>UNH_Close: 0.28<br>SYY_Close: 0.07<br>HD_Close: 0.30<br>NFLX_Close: 0.15<br>PG_Close: 0.19",
          "Return: 15.29%<br>Volatility: 0.11<br>HON_Close: 0.03<br>SRE_Close: 0.16<br>SYY_Close: 0.17<br>CSCO_Close: 0.61<br>ABBV_Close: 0.02",
          "Return: 16.81%<br>Volatility: 0.11<br>GS_Close: 0.33<br>SRE_Close: 0.13<br>WMT_Close: 0.08<br>GOOGL_Close: 0.42<br>AMZN_Close: 0.04",
          "Return: 5.20%<br>Volatility: 0.13<br>CSCO_Close: 0.04<br>DHR_Close: 0.33<br>GS_Close: 0.55<br>ACN_Close: 0.05<br>UA_Close: 0.03",
          "Return: 29.90%<br>Volatility: 0.14<br>ADBE_Close: 0.26<br>COST_Close: 0.30<br>NVDA_Close: 0.22<br>GS_Close: 0.03<br>IBM_Close: 0.19",
          "Return: 27.61%<br>Volatility: 0.15<br>WFC_Close: 0.22<br>TSLA_Close: 0.32<br>ABBV_Close: 0.05<br>HD_Close: 0.08<br>MA_Close: 0.34",
          "Return: 17.01%<br>Volatility: 0.11<br>GOOG_Close: 0.02<br>HD_Close: 0.35<br>BAC_Close: 0.30<br>K_Close: 0.17<br>ZBH_Close: 0.16",
          "Return: 13.21%<br>Volatility: 0.12<br>GS_Close: 0.02<br>BAC_Close: 0.21<br>F_Close: 0.31<br>BMY_Close: 0.22<br>EW_Close: 0.24",
          "Return: 7.44%<br>Volatility: 0.11<br>BIIB_Close: 0.27<br>F_Close: 0.16<br>MA_Close: 0.10<br>DIS_Close: 0.39<br>CSCO_Close: 0.08",
          "Return: 3.67%<br>Volatility: 0.12<br>T_Close: 0.31<br>DIS_Close: 0.24<br>PYPL_Close: 0.07<br>RDY_Close: 0.11<br>CMCSA_Close: 0.27",
          "Return: -4.54%<br>Volatility: 0.10<br>DHR_Close: 0.01<br>PM_Close: 0.49<br>ABBV_Close: 0.10<br>LMT_Close: 0.17<br>GE_Close: 0.22",
          "Return: 32.72%<br>Volatility: 0.12<br>GM_Close: 0.18<br>KO_Close: 0.01<br>T_Close: 0.09<br>VRTX_Close: 0.19<br>UNH_Close: 0.53",
          "Return: 6.89%<br>Volatility: 0.16<br>META_Close: 0.10<br>ACN_Close: 0.28<br>MSFT_Close: 0.02<br>DHR_Close: 0.38<br>AMD_Close: 0.22",
          "Return: 34.62%<br>Volatility: 0.12<br>GM_Close: 0.13<br>HON_Close: 0.26<br>NFLX_Close: 0.30<br>ABBV_Close: 0.28<br>T_Close: 0.04",
          "Return: 14.37%<br>Volatility: 0.14<br>KR_Close: 0.31<br>PYPL_Close: 0.19<br>META_Close: 0.12<br>ORCL_Close: 0.16<br>DIS_Close: 0.23",
          "Return: 20.00%<br>Volatility: 0.11<br>MDT_Close: 0.17<br>GIS_Close: 0.35<br>DE_Close: 0.36<br>HD_Close: 0.11<br>HON_Close: 0.01",
          "Return: 34.86%<br>Volatility: 0.11<br>RMD_Close: 0.01<br>PFE_Close: 0.01<br>ABBV_Close: 0.41<br>GOOG_Close: 0.33<br>ETN_Close: 0.24",
          "Return: 22.46%<br>Volatility: 0.13<br>GILD_Close: 0.23<br>UNH_Close: 0.25<br>TSLA_Close: 0.24<br>BSX_Close: 0.04<br>CRM_Close: 0.24",
          "Return: 17.20%<br>Volatility: 0.11<br>BIIB_Close: 0.16<br>GILD_Close: 0.32<br>PG_Close: 0.27<br>VRTX_Close: 0.11<br>WMT_Close: 0.15",
          "Return: 5.53%<br>Volatility: 0.18<br>MSFT_Close: 0.15<br>BMY_Close: 0.27<br>SNAP_Close: 0.21<br>ORCL_Close: 0.16<br>AMZN_Close: 0.21",
          "Return: 13.99%<br>Volatility: 0.18<br>AMD_Close: 0.14<br>REGN_Close: 0.17<br>ZBH_Close: 0.23<br>VRTX_Close: 0.26<br>VZ_Close: 0.21",
          "Return: 42.86%<br>Volatility: 0.11<br>BABA_Close: 0.11<br>CVX_Close: 0.30<br>TXN_Close: 0.02<br>SYY_Close: 0.08<br>BA_Close: 0.49",
          "Return: 45.16%<br>Volatility: 0.18<br>HON_Close: 0.26<br>CRM_Close: 0.25<br>NVDA_Close: 0.39<br>DIS_Close: 0.08<br>GOOG_Close: 0.02",
          "Return: 38.34%<br>Volatility: 0.10<br>CAT_Close: 0.30<br>BA_Close: 0.31<br>SO_Close: 0.15<br>SYK_Close: 0.05<br>PM_Close: 0.20",
          "Return: 20.22%<br>Volatility: 0.09<br>AEP_Close: 0.03<br>EXC_Close: 0.33<br>SAP_Close: 0.33<br>ABT_Close: 0.27<br>ORCL_Close: 0.04",
          "Return: 34.84%<br>Volatility: 0.10<br>XOM_Close: 0.05<br>WMT_Close: 0.22<br>META_Close: 0.40<br>PG_Close: 0.10<br>ABBV_Close: 0.23",
          "Return: 28.23%<br>Volatility: 0.12<br>BA_Close: 0.14<br>MSFT_Close: 0.33<br>NFLX_Close: 0.23<br>COST_Close: 0.00<br>T_Close: 0.29",
          "Return: 18.66%<br>Volatility: 0.11<br>SAP_Close: 0.09<br>CPB_Close: 0.17<br>ADBE_Close: 0.25<br>EMR_Close: 0.27<br>MS_Close: 0.21",
          "Return: 12.98%<br>Volatility: 0.09<br>SO_Close: 0.42<br>QCOM_Close: 0.06<br>EXC_Close: 0.12<br>BABA_Close: 0.18<br>BSX_Close: 0.22",
          "Return: 27.45%<br>Volatility: 0.15<br>REGN_Close: 0.36<br>MS_Close: 0.02<br>ISRG_Close: 0.35<br>NVDA_Close: 0.02<br>TXN_Close: 0.24",
          "Return: -15.44%<br>Volatility: 0.09<br>AAPL_Close: 0.07<br>LLY_Close: 0.14<br>GE_Close: 0.34<br>AMGN_Close: 0.14<br>PEP_Close: 0.31",
          "Return: 18.32%<br>Volatility: 0.14<br>MSFT_Close: 0.07<br>TXN_Close: 0.29<br>DE_Close: 0.01<br>REGN_Close: 0.36<br>MS_Close: 0.27",
          "Return: 17.68%<br>Volatility: 0.07<br>MS_Close: 0.11<br>REGN_Close: 0.08<br>KO_Close: 0.32<br>EXC_Close: 0.20<br>HD_Close: 0.27",
          "Return: 6.47%<br>Volatility: 0.08<br>QCOM_Close: 0.04<br>MRK_Close: 0.39<br>V_Close: 0.14<br>AEP_Close: 0.27<br>BAC_Close: 0.16",
          "Return: 38.67%<br>Volatility: 0.11<br>PFE_Close: 0.06<br>SYY_Close: 0.10<br>KO_Close: 0.26<br>PYPL_Close: 0.35<br>WMT_Close: 0.24",
          "Return: 14.42%<br>Volatility: 0.08<br>GOOGL_Close: 0.25<br>T_Close: 0.02<br>HON_Close: 0.32<br>SO_Close: 0.37<br>BMY_Close: 0.05",
          "Return: 8.75%<br>Volatility: 0.11<br>BMY_Close: 0.16<br>TSLA_Close: 0.14<br>SYK_Close: 0.31<br>T_Close: 0.01<br>K_Close: 0.39",
          "Return: 10.63%<br>Volatility: 0.17<br>SNAP_Close: 0.24<br>NFLX_Close: 0.14<br>MMM_Close: 0.27<br>WMT_Close: 0.16<br>V_Close: 0.18",
          "Return: 16.80%<br>Volatility: 0.15<br>WMT_Close: 0.03<br>BIIB_Close: 0.36<br>ISRG_Close: 0.22<br>GILD_Close: 0.36<br>RDY_Close: 0.03",
          "Return: 33.38%<br>Volatility: 0.09<br>EXC_Close: 0.21<br>ABBV_Close: 0.14<br>CRM_Close: 0.31<br>PYPL_Close: 0.13<br>HD_Close: 0.21",
          "Return: 13.13%<br>Volatility: 0.10<br>BAC_Close: 0.02<br>AMZN_Close: 0.13<br>F_Close: 0.43<br>DHR_Close: 0.36<br>ABBV_Close: 0.06",
          "Return: 29.50%<br>Volatility: 0.11<br>TXN_Close: 0.14<br>V_Close: 0.53<br>ACN_Close: 0.00<br>META_Close: 0.23<br>CMCSA_Close: 0.10",
          "Return: 8.67%<br>Volatility: 0.13<br>MA_Close: 0.06<br>LLY_Close: 0.27<br>ORCL_Close: 0.27<br>REGN_Close: 0.31<br>SYY_Close: 0.07",
          "Return: 19.84%<br>Volatility: 0.11<br>ACN_Close: 0.24<br>MDT_Close: 0.16<br>PYPL_Close: 0.07<br>RMD_Close: 0.29<br>COST_Close: 0.24",
          "Return: 28.32%<br>Volatility: 0.09<br>CSCO_Close: 0.19<br>ISRG_Close: 0.31<br>MCD_Close: 0.30<br>DIS_Close: 0.06<br>T_Close: 0.14",
          "Return: 26.48%<br>Volatility: 0.15<br>EXC_Close: 0.09<br>UA_Close: 0.10<br>MA_Close: 0.33<br>IBM_Close: 0.15<br>VRTX_Close: 0.32",
          "Return: 1.86%<br>Volatility: 0.11<br>UA_Close: 0.16<br>ISRG_Close: 0.09<br>SYY_Close: 0.24<br>BTI_Close: 0.30<br>MRK_Close: 0.21",
          "Return: 13.22%<br>Volatility: 0.12<br>ETN_Close: 0.20<br>GE_Close: 0.23<br>ABBV_Close: 0.26<br>BIIB_Close: 0.02<br>NFLX_Close: 0.28",
          "Return: 2.29%<br>Volatility: 0.09<br>XOM_Close: 0.25<br>AAPL_Close: 0.27<br>GE_Close: 0.23<br>MCD_Close: 0.23<br>WFC_Close: 0.02",
          "Return: 23.05%<br>Volatility: 0.12<br>MSFT_Close: 0.41<br>AAPL_Close: 0.08<br>BIIB_Close: 0.34<br>PEP_Close: 0.15<br>TXN_Close: 0.02",
          "Return: 25.01%<br>Volatility: 0.11<br>GM_Close: 0.19<br>HD_Close: 0.04<br>ZBH_Close: 0.34<br>PYPL_Close: 0.27<br>KO_Close: 0.16",
          "Return: 4.71%<br>Volatility: 0.08<br>XOM_Close: 0.20<br>IBM_Close: 0.36<br>RMD_Close: 0.09<br>JPM_Close: 0.13<br>NEE_Close: 0.22",
          "Return: 20.58%<br>Volatility: 0.10<br>PYPL_Close: 0.29<br>GE_Close: 0.08<br>VZ_Close: 0.28<br>PFE_Close: 0.30<br>GM_Close: 0.05",
          "Return: 32.42%<br>Volatility: 0.08<br>CAT_Close: 0.21<br>NEE_Close: 0.26<br>PEP_Close: 0.22<br>LMT_Close: 0.13<br>AMZN_Close: 0.17",
          "Return: 9.25%<br>Volatility: 0.11<br>BIIB_Close: 0.31<br>DE_Close: 0.00<br>BTI_Close: 0.03<br>ETN_Close: 0.29<br>LLY_Close: 0.36",
          "Return: 24.04%<br>Volatility: 0.14<br>WMT_Close: 0.10<br>NFLX_Close: 0.26<br>ABT_Close: 0.26<br>REGN_Close: 0.27<br>SYK_Close: 0.12",
          "Return: 7.09%<br>Volatility: 0.14<br>CSCO_Close: 0.31<br>KR_Close: 0.26<br>GIS_Close: 0.24<br>AAPL_Close: 0.03<br>GOOGL_Close: 0.17",
          "Return: 23.63%<br>Volatility: 0.09<br>PEP_Close: 0.14<br>ABBV_Close: 0.25<br>GS_Close: 0.05<br>DHR_Close: 0.25<br>SYY_Close: 0.30",
          "Return: 15.43%<br>Volatility: 0.12<br>AMZN_Close: 0.39<br>T_Close: 0.36<br>GM_Close: 0.10<br>KO_Close: 0.03<br>MO_Close: 0.11",
          "Return: 9.08%<br>Volatility: 0.12<br>RDY_Close: 0.28<br>PEP_Close: 0.14<br>DHR_Close: 0.25<br>AAPL_Close: 0.23<br>NFLX_Close: 0.10",
          "Return: 32.39%<br>Volatility: 0.11<br>T_Close: 0.25<br>BABA_Close: 0.30<br>DE_Close: 0.28<br>JPM_Close: 0.01<br>KO_Close: 0.16",
          "Return: 27.78%<br>Volatility: 0.13<br>GOOG_Close: 0.34<br>T_Close: 0.01<br>KR_Close: 0.22<br>CAT_Close: 0.19<br>TXN_Close: 0.24",
          "Return: 9.64%<br>Volatility: 0.08<br>AMZN_Close: 0.18<br>CPB_Close: 0.25<br>MCD_Close: 0.12<br>KO_Close: 0.25<br>XOM_Close: 0.20",
          "Return: 9.52%<br>Volatility: 0.11<br>TXN_Close: 0.12<br>DIS_Close: 0.17<br>NKE_Close: 0.08<br>PG_Close: 0.27<br>CMCSA_Close: 0.36",
          "Return: 17.90%<br>Volatility: 0.12<br>MMM_Close: 0.18<br>JPM_Close: 0.07<br>AAPL_Close: 0.44<br>T_Close: 0.06<br>GS_Close: 0.25",
          "Return: -19.08%<br>Volatility: 0.29<br>BTI_Close: 0.36<br>BAC_Close: 0.17<br>REGN_Close: 0.04<br>SNAP_Close: 0.43<br>TMO_Close: 0.00",
          "Return: 6.24%<br>Volatility: 0.07<br>GILD_Close: 0.06<br>DUK_Close: 0.31<br>MRK_Close: 0.06<br>WFC_Close: 0.38<br>PEP_Close: 0.20",
          "Return: -1.48%<br>Volatility: 0.11<br>AMZN_Close: 0.20<br>UNH_Close: 0.31<br>GE_Close: 0.39<br>VRTX_Close: 0.07<br>HON_Close: 0.03",
          "Return: 22.59%<br>Volatility: 0.11<br>EMR_Close: 0.22<br>BAC_Close: 0.23<br>V_Close: 0.07<br>LMT_Close: 0.24<br>EW_Close: 0.24",
          "Return: 28.57%<br>Volatility: 0.12<br>RMD_Close: 0.35<br>GOOG_Close: 0.26<br>MA_Close: 0.34<br>AAPL_Close: 0.02<br>HD_Close: 0.03",
          "Return: 37.31%<br>Volatility: 0.10<br>BA_Close: 0.46<br>WMT_Close: 0.23<br>NFLX_Close: 0.01<br>BSX_Close: 0.14<br>DIS_Close: 0.15",
          "Return: 26.87%<br>Volatility: 0.13<br>VRTX_Close: 0.23<br>DE_Close: 0.22<br>DHR_Close: 0.20<br>BSX_Close: 0.26<br>CVX_Close: 0.09",
          "Return: 19.29%<br>Volatility: 0.09<br>AAPL_Close: 0.32<br>K_Close: 0.19<br>CVX_Close: 0.27<br>V_Close: 0.18<br>NVDA_Close: 0.04",
          "Return: 14.62%<br>Volatility: 0.13<br>TSLA_Close: 0.30<br>EMR_Close: 0.11<br>KO_Close: 0.10<br>BIIB_Close: 0.25<br>XOM_Close: 0.25",
          "Return: 4.64%<br>Volatility: 0.11<br>GS_Close: 0.29<br>MO_Close: 0.22<br>ETN_Close: 0.25<br>F_Close: 0.23<br>HON_Close: 0.01",
          "Return: 18.23%<br>Volatility: 0.12<br>EW_Close: 0.36<br>DIS_Close: 0.01<br>VZ_Close: 0.10<br>GOOG_Close: 0.37<br>K_Close: 0.16",
          "Return: 16.74%<br>Volatility: 0.10<br>QCOM_Close: 0.34<br>DIS_Close: 0.09<br>AEP_Close: 0.34<br>SAP_Close: 0.15<br>GOOGL_Close: 0.09",
          "Return: 19.20%<br>Volatility: 0.10<br>DHR_Close: 0.34<br>DE_Close: 0.16<br>SYY_Close: 0.38<br>T_Close: 0.00<br>ETN_Close: 0.13",
          "Return: 23.98%<br>Volatility: 0.09<br>GOOG_Close: 0.24<br>SYY_Close: 0.30<br>ABT_Close: 0.19<br>DHR_Close: 0.14<br>MCD_Close: 0.14",
          "Return: 28.14%<br>Volatility: 0.13<br>ADBE_Close: 0.36<br>EW_Close: 0.08<br>F_Close: 0.39<br>VRTX_Close: 0.12<br>NEE_Close: 0.04",
          "Return: 24.35%<br>Volatility: 0.10<br>GOOG_Close: 0.17<br>LLY_Close: 0.21<br>WMT_Close: 0.25<br>VZ_Close: 0.23<br>NFLX_Close: 0.14",
          "Return: 21.75%<br>Volatility: 0.13<br>RTX_Close: 0.21<br>ZBH_Close: 0.34<br>BTI_Close: 0.08<br>BIIB_Close: 0.02<br>ADBE_Close: 0.35",
          "Return: 19.42%<br>Volatility: 0.10<br>VZ_Close: 0.27<br>GIS_Close: 0.14<br>TXN_Close: 0.30<br>EMR_Close: 0.17<br>CVX_Close: 0.11",
          "Return: 27.19%<br>Volatility: 0.14<br>GOOGL_Close: 0.04<br>RMD_Close: 0.30<br>VRTX_Close: 0.28<br>DUK_Close: 0.36<br>HD_Close: 0.02",
          "Return: 21.02%<br>Volatility: 0.20<br>AEP_Close: 0.39<br>PFE_Close: 0.04<br>CAT_Close: 0.01<br>VZ_Close: 0.03<br>TSLA_Close: 0.53",
          "Return: 22.73%<br>Volatility: 0.11<br>TXN_Close: 0.28<br>WFC_Close: 0.32<br>MS_Close: 0.12<br>SYY_Close: 0.12<br>MA_Close: 0.16",
          "Return: 27.66%<br>Volatility: 0.10<br>DIS_Close: 0.28<br>GS_Close: 0.05<br>EXC_Close: 0.23<br>CAT_Close: 0.39<br>ZBH_Close: 0.05",
          "Return: 0.79%<br>Volatility: 0.11<br>ABT_Close: 0.06<br>BMY_Close: 0.35<br>PEP_Close: 0.19<br>SO_Close: 0.23<br>UA_Close: 0.17",
          "Return: 12.34%<br>Volatility: 0.10<br>AMZN_Close: 0.29<br>TMO_Close: 0.11<br>ETN_Close: 0.03<br>NKE_Close: 0.27<br>MRK_Close: 0.30",
          "Return: 21.08%<br>Volatility: 0.11<br>XOM_Close: 0.10<br>PEP_Close: 0.07<br>GOOGL_Close: 0.29<br>WFC_Close: 0.42<br>NVDA_Close: 0.12",
          "Return: 3.28%<br>Volatility: 0.11<br>AMGN_Close: 0.16<br>GOOGL_Close: 0.25<br>RDY_Close: 0.22<br>T_Close: 0.25<br>BTI_Close: 0.12",
          "Return: -19.77%<br>Volatility: 0.22<br>SNAP_Close: 0.31<br>SYK_Close: 0.21<br>AMD_Close: 0.11<br>SYY_Close: 0.15<br>RDY_Close: 0.22",
          "Return: 25.16%<br>Volatility: 0.13<br>BSX_Close: 0.30<br>SYY_Close: 0.07<br>QCOM_Close: 0.01<br>ISRG_Close: 0.51<br>AMGN_Close: 0.10",
          "Return: 15.80%<br>Volatility: 0.14<br>TSLA_Close: 0.26<br>BA_Close: 0.02<br>DIS_Close: 0.30<br>QCOM_Close: 0.16<br>BAC_Close: 0.26",
          "Return: -8.57%<br>Volatility: 0.24<br>MS_Close: 0.24<br>UA_Close: 0.48<br>NFLX_Close: 0.08<br>BSX_Close: 0.07<br>UNH_Close: 0.13",
          "Return: 19.03%<br>Volatility: 0.09<br>CSCO_Close: 0.35<br>CPB_Close: 0.02<br>NEE_Close: 0.23<br>BAC_Close: 0.14<br>SYK_Close: 0.27",
          "Return: 13.71%<br>Volatility: 0.09<br>DUK_Close: 0.05<br>SO_Close: 0.15<br>SYK_Close: 0.16<br>MMM_Close: 0.28<br>WFC_Close: 0.36",
          "Return: 10.06%<br>Volatility: 0.09<br>CPB_Close: 0.03<br>GOOGL_Close: 0.06<br>KR_Close: 0.09<br>NEE_Close: 0.45<br>BSX_Close: 0.36",
          "Return: 28.19%<br>Volatility: 0.11<br>ETN_Close: 0.25<br>F_Close: 0.15<br>BTI_Close: 0.10<br>TSLA_Close: 0.15<br>ABBV_Close: 0.36",
          "Return: 26.13%<br>Volatility: 0.10<br>ISRG_Close: 0.21<br>ACN_Close: 0.22<br>ETN_Close: 0.05<br>GM_Close: 0.26<br>SAP_Close: 0.26",
          "Return: 38.49%<br>Volatility: 0.13<br>MMM_Close: 0.29<br>TSLA_Close: 0.27<br>CAT_Close: 0.26<br>ISRG_Close: 0.15<br>XOM_Close: 0.04",
          "Return: -3.69%<br>Volatility: 0.11<br>GS_Close: 0.08<br>UNH_Close: 0.11<br>MSFT_Close: 0.07<br>IBM_Close: 0.62<br>MO_Close: 0.13",
          "Return: 19.15%<br>Volatility: 0.08<br>LMT_Close: 0.36<br>PM_Close: 0.06<br>RTX_Close: 0.22<br>SYK_Close: 0.22<br>KO_Close: 0.14",
          "Return: 14.71%<br>Volatility: 0.09<br>PM_Close: 0.04<br>PFE_Close: 0.30<br>BTI_Close: 0.27<br>CRM_Close: 0.15<br>TMO_Close: 0.23",
          "Return: 9.87%<br>Volatility: 0.11<br>SYK_Close: 0.37<br>PYPL_Close: 0.15<br>MS_Close: 0.00<br>GOOGL_Close: 0.25<br>GE_Close: 0.23",
          "Return: 14.93%<br>Volatility: 0.10<br>AMZN_Close: 0.20<br>MA_Close: 0.07<br>MS_Close: 0.26<br>PM_Close: 0.45<br>RTX_Close: 0.01",
          "Return: 34.56%<br>Volatility: 0.09<br>HD_Close: 0.29<br>DIS_Close: 0.12<br>MCD_Close: 0.30<br>BA_Close: 0.26<br>AMD_Close: 0.03",
          "Return: 12.23%<br>Volatility: 0.17<br>AMZN_Close: 0.31<br>AMD_Close: 0.21<br>LMT_Close: 0.28<br>PG_Close: 0.11<br>BIIB_Close: 0.09",
          "Return: 19.46%<br>Volatility: 0.13<br>ISRG_Close: 0.21<br>EW_Close: 0.23<br>AMD_Close: 0.10<br>GILD_Close: 0.14<br>NEE_Close: 0.31",
          "Return: 30.92%<br>Volatility: 0.13<br>REGN_Close: 0.04<br>DHR_Close: 0.26<br>UA_Close: 0.01<br>WMT_Close: 0.68<br>EW_Close: 0.00",
          "Return: 23.40%<br>Volatility: 0.09<br>EXC_Close: 0.12<br>CAT_Close: 0.18<br>MMM_Close: 0.25<br>MDT_Close: 0.30<br>SYK_Close: 0.15",
          "Return: -8.91%<br>Volatility: 0.16<br>QCOM_Close: 0.22<br>UA_Close: 0.27<br>TXN_Close: 0.08<br>MRK_Close: 0.31<br>XOM_Close: 0.12",
          "Return: 22.97%<br>Volatility: 0.13<br>MSFT_Close: 0.24<br>AAPL_Close: 0.21<br>SRE_Close: 0.12<br>VZ_Close: 0.16<br>TSLA_Close: 0.26",
          "Return: 14.75%<br>Volatility: 0.13<br>MMM_Close: 0.26<br>UA_Close: 0.23<br>MSFT_Close: 0.20<br>MA_Close: 0.26<br>GIS_Close: 0.05",
          "Return: 18.13%<br>Volatility: 0.22<br>AMD_Close: 0.27<br>WFC_Close: 0.20<br>NVDA_Close: 0.15<br>MCD_Close: 0.12<br>MA_Close: 0.25",
          "Return: 19.80%<br>Volatility: 0.15<br>DIS_Close: 0.22<br>NKE_Close: 0.09<br>VRTX_Close: 0.33<br>AMGN_Close: 0.04<br>T_Close: 0.32",
          "Return: 15.27%<br>Volatility: 0.10<br>RTX_Close: 0.12<br>MDT_Close: 0.05<br>ETN_Close: 0.37<br>SYY_Close: 0.42<br>REGN_Close: 0.04",
          "Return: 34.88%<br>Volatility: 0.12<br>MCD_Close: 0.17<br>ADBE_Close: 0.26<br>LLY_Close: 0.04<br>GOOG_Close: 0.16<br>INTC_Close: 0.38",
          "Return: 22.04%<br>Volatility: 0.15<br>TSLA_Close: 0.14<br>DHR_Close: 0.22<br>KR_Close: 0.11<br>VRTX_Close: 0.24<br>NKE_Close: 0.30",
          "Return: 16.93%<br>Volatility: 0.10<br>AMGN_Close: 0.32<br>MO_Close: 0.13<br>SAP_Close: 0.04<br>ACN_Close: 0.26<br>AMZN_Close: 0.24",
          "Return: 23.72%<br>Volatility: 0.11<br>CRM_Close: 0.22<br>HON_Close: 0.01<br>NEE_Close: 0.13<br>TXN_Close: 0.40<br>MDT_Close: 0.25",
          "Return: 17.68%<br>Volatility: 0.11<br>NKE_Close: 0.26<br>COST_Close: 0.09<br>CSCO_Close: 0.29<br>ABT_Close: 0.19<br>SYK_Close: 0.18",
          "Return: 37.44%<br>Volatility: 0.16<br>ETN_Close: 0.06<br>SAP_Close: 0.02<br>ADBE_Close: 0.37<br>NVDA_Close: 0.21<br>WFC_Close: 0.34",
          "Return: 31.98%<br>Volatility: 0.17<br>VRTX_Close: 0.28<br>GOOG_Close: 0.28<br>AMD_Close: 0.01<br>GM_Close: 0.10<br>QCOM_Close: 0.32",
          "Return: 17.63%<br>Volatility: 0.09<br>MMM_Close: 0.20<br>CSCO_Close: 0.19<br>K_Close: 0.19<br>AMGN_Close: 0.07<br>META_Close: 0.35",
          "Return: 10.86%<br>Volatility: 0.15<br>UA_Close: 0.26<br>INTC_Close: 0.13<br>WMT_Close: 0.16<br>JNJ_Close: 0.06<br>AAPL_Close: 0.40",
          "Return: 24.48%<br>Volatility: 0.12<br>EMR_Close: 0.14<br>V_Close: 0.18<br>ORCL_Close: 0.29<br>NFLX_Close: 0.27<br>AEP_Close: 0.12",
          "Return: 14.76%<br>Volatility: 0.11<br>SAP_Close: 0.14<br>CMCSA_Close: 0.11<br>EW_Close: 0.18<br>BMY_Close: 0.44<br>COST_Close: 0.12",
          "Return: 21.31%<br>Volatility: 0.14<br>EMR_Close: 0.01<br>AEP_Close: 0.08<br>JNJ_Close: 0.14<br>MS_Close: 0.66<br>VRTX_Close: 0.10",
          "Return: 14.94%<br>Volatility: 0.14<br>MSFT_Close: 0.31<br>AMD_Close: 0.08<br>AMZN_Close: 0.18<br>UA_Close: 0.18<br>ACN_Close: 0.25",
          "Return: -10.85%<br>Volatility: 0.20<br>LLY_Close: 0.17<br>GOOG_Close: 0.15<br>DHR_Close: 0.16<br>MDT_Close: 0.24<br>SNAP_Close: 0.28",
          "Return: 40.94%<br>Volatility: 0.12<br>META_Close: 0.20<br>MA_Close: 0.23<br>BA_Close: 0.28<br>ADBE_Close: 0.08<br>GOOG_Close: 0.20",
          "Return: 20.51%<br>Volatility: 0.09<br>KO_Close: 0.10<br>CAT_Close: 0.19<br>TMO_Close: 0.32<br>SO_Close: 0.10<br>GIS_Close: 0.29",
          "Return: 5.98%<br>Volatility: 0.09<br>GE_Close: 0.16<br>CRM_Close: 0.23<br>SAP_Close: 0.27<br>GIS_Close: 0.19<br>AAPL_Close: 0.15",
          "Return: 7.61%<br>Volatility: 0.08<br>ETN_Close: 0.24<br>SRE_Close: 0.30<br>MO_Close: 0.17<br>AAPL_Close: 0.16<br>XOM_Close: 0.13",
          "Return: 24.58%<br>Volatility: 0.11<br>ADBE_Close: 0.12<br>WMT_Close: 0.28<br>SRE_Close: 0.31<br>AMZN_Close: 0.03<br>EW_Close: 0.26",
          "Return: 18.17%<br>Volatility: 0.13<br>CVX_Close: 0.21<br>MSFT_Close: 0.19<br>CMCSA_Close: 0.08<br>BSX_Close: 0.23<br>TSLA_Close: 0.28",
          "Return: -3.93%<br>Volatility: 0.10<br>ZBH_Close: 0.25<br>SO_Close: 0.20<br>BTI_Close: 0.29<br>CPB_Close: 0.21<br>GE_Close: 0.04",
          "Return: 22.39%<br>Volatility: 0.14<br>VRTX_Close: 0.33<br>GM_Close: 0.13<br>GE_Close: 0.03<br>IBM_Close: 0.30<br>HD_Close: 0.22",
          "Return: 25.51%<br>Volatility: 0.11<br>ORCL_Close: 0.08<br>BTI_Close: 0.15<br>ISRG_Close: 0.34<br>GOOG_Close: 0.13<br>NKE_Close: 0.30",
          "Return: 19.17%<br>Volatility: 0.09<br>INTC_Close: 0.32<br>TMO_Close: 0.32<br>KO_Close: 0.09<br>K_Close: 0.15<br>CVX_Close: 0.12",
          "Return: -5.80%<br>Volatility: 0.14<br>CPB_Close: 0.21<br>AMGN_Close: 0.22<br>CMCSA_Close: 0.08<br>UA_Close: 0.21<br>GOOGL_Close: 0.28",
          "Return: 14.52%<br>Volatility: 0.10<br>VRTX_Close: 0.16<br>PEP_Close: 0.10<br>DHR_Close: 0.38<br>DIS_Close: 0.34<br>JNJ_Close: 0.01",
          "Return: 20.26%<br>Volatility: 0.09<br>ZBH_Close: 0.12<br>UNH_Close: 0.38<br>BSX_Close: 0.18<br>IBM_Close: 0.07<br>V_Close: 0.26",
          "Return: 18.85%<br>Volatility: 0.10<br>SAP_Close: 0.15<br>BTI_Close: 0.34<br>MCD_Close: 0.04<br>WMT_Close: 0.24<br>DIS_Close: 0.22",
          "Return: 17.60%<br>Volatility: 0.10<br>AAPL_Close: 0.23<br>CMCSA_Close: 0.28<br>GOOGL_Close: 0.09<br>SYY_Close: 0.16<br>CVX_Close: 0.23",
          "Return: 13.05%<br>Volatility: 0.11<br>CRM_Close: 0.20<br>F_Close: 0.29<br>GILD_Close: 0.13<br>GIS_Close: 0.10<br>EW_Close: 0.28",
          "Return: 12.74%<br>Volatility: 0.09<br>GIS_Close: 0.23<br>GILD_Close: 0.21<br>JPM_Close: 0.24<br>MA_Close: 0.11<br>ORCL_Close: 0.21",
          "Return: 19.70%<br>Volatility: 0.11<br>QCOM_Close: 0.25<br>RTX_Close: 0.17<br>GM_Close: 0.23<br>SYK_Close: 0.14<br>ACN_Close: 0.20",
          "Return: 4.72%<br>Volatility: 0.14<br>PYPL_Close: 0.17<br>GE_Close: 0.25<br>MS_Close: 0.22<br>SNAP_Close: 0.08<br>NFLX_Close: 0.28",
          "Return: 9.54%<br>Volatility: 0.16<br>AMD_Close: 0.17<br>PFE_Close: 0.08<br>MMM_Close: 0.12<br>CPB_Close: 0.32<br>BABA_Close: 0.31",
          "Return: 27.75%<br>Volatility: 0.12<br>LMT_Close: 0.15<br>HD_Close: 0.17<br>NFLX_Close: 0.25<br>TMO_Close: 0.21<br>RMD_Close: 0.22",
          "Return: 12.36%<br>Volatility: 0.13<br>NVDA_Close: 0.18<br>NFLX_Close: 0.05<br>MRK_Close: 0.38<br>BSX_Close: 0.33<br>MA_Close: 0.06",
          "Return: 14.07%<br>Volatility: 0.09<br>MCD_Close: 0.06<br>ZBH_Close: 0.22<br>RTX_Close: 0.26<br>K_Close: 0.19<br>V_Close: 0.27",
          "Return: 39.67%<br>Volatility: 0.12<br>UNH_Close: 0.18<br>CAT_Close: 0.19<br>JPM_Close: 0.30<br>TSLA_Close: 0.15<br>BABA_Close: 0.19",
          "Return: 16.09%<br>Volatility: 0.09<br>LMT_Close: 0.34<br>COST_Close: 0.21<br>SYK_Close: 0.30<br>WFC_Close: 0.07<br>IBM_Close: 0.09",
          "Return: 8.45%<br>Volatility: 0.11<br>TMO_Close: 0.29<br>MO_Close: 0.33<br>ZBH_Close: 0.29<br>SO_Close: 0.01<br>MMM_Close: 0.08",
          "Return: 10.13%<br>Volatility: 0.15<br>ISRG_Close: 0.22<br>DUK_Close: 0.04<br>DHR_Close: 0.35<br>AMD_Close: 0.19<br>MS_Close: 0.20",
          "Return: 0.28%<br>Volatility: 0.16<br>AMD_Close: 0.24<br>RTX_Close: 0.34<br>V_Close: 0.01<br>PEP_Close: 0.21<br>MDT_Close: 0.21",
          "Return: 3.70%<br>Volatility: 0.11<br>CPB_Close: 0.25<br>AEP_Close: 0.31<br>REGN_Close: 0.28<br>PEP_Close: 0.04<br>MSFT_Close: 0.12",
          "Return: 7.99%<br>Volatility: 0.13<br>KR_Close: 0.26<br>DUK_Close: 0.05<br>SRE_Close: 0.10<br>BMY_Close: 0.36<br>MMM_Close: 0.23",
          "Return: 14.67%<br>Volatility: 0.10<br>MA_Close: 0.24<br>AMGN_Close: 0.47<br>EXC_Close: 0.17<br>ADBE_Close: 0.03<br>MMM_Close: 0.09",
          "Return: 35.09%<br>Volatility: 0.12<br>AAPL_Close: 0.23<br>ADBE_Close: 0.34<br>CAT_Close: 0.16<br>GOOG_Close: 0.05<br>PFE_Close: 0.22",
          "Return: 11.03%<br>Volatility: 0.09<br>GS_Close: 0.17<br>META_Close: 0.17<br>PM_Close: 0.20<br>IBM_Close: 0.17<br>ACN_Close: 0.29",
          "Return: 12.09%<br>Volatility: 0.11<br>VRTX_Close: 0.02<br>CSCO_Close: 0.33<br>BTI_Close: 0.03<br>GM_Close: 0.34<br>MDT_Close: 0.28",
          "Return: 27.55%<br>Volatility: 0.10<br>ABT_Close: 0.17<br>ISRG_Close: 0.34<br>GIS_Close: 0.18<br>QCOM_Close: 0.14<br>HON_Close: 0.16",
          "Return: -5.08%<br>Volatility: 0.16<br>DIS_Close: 0.09<br>MRK_Close: 0.32<br>AMD_Close: 0.24<br>UNH_Close: 0.14<br>JNJ_Close: 0.21",
          "Return: 40.31%<br>Volatility: 0.10<br>CAT_Close: 0.25<br>PEP_Close: 0.29<br>PYPL_Close: 0.12<br>MS_Close: 0.11<br>ISRG_Close: 0.23",
          "Return: 24.61%<br>Volatility: 0.12<br>WMT_Close: 0.01<br>AAPL_Close: 0.16<br>ABT_Close: 0.40<br>SO_Close: 0.00<br>BAC_Close: 0.43",
          "Return: 40.62%<br>Volatility: 0.10<br>V_Close: 0.14<br>XOM_Close: 0.07<br>BA_Close: 0.38<br>WMT_Close: 0.21<br>SAP_Close: 0.20",
          "Return: 6.52%<br>Volatility: 0.14<br>CMCSA_Close: 0.36<br>ADBE_Close: 0.02<br>ZBH_Close: 0.14<br>ABT_Close: 0.17<br>KR_Close: 0.30",
          "Return: 20.27%<br>Volatility: 0.09<br>VRTX_Close: 0.02<br>TMO_Close: 0.19<br>NEE_Close: 0.27<br>KO_Close: 0.24<br>QCOM_Close: 0.29",
          "Return: 22.21%<br>Volatility: 0.12<br>ADBE_Close: 0.27<br>SAP_Close: 0.30<br>NKE_Close: 0.19<br>KR_Close: 0.11<br>JNJ_Close: 0.13",
          "Return: 27.13%<br>Volatility: 0.08<br>DIS_Close: 0.22<br>ACN_Close: 0.23<br>CSCO_Close: 0.03<br>KO_Close: 0.22<br>BA_Close: 0.30",
          "Return: 25.12%<br>Volatility: 0.11<br>PG_Close: 0.20<br>ETN_Close: 0.30<br>JPM_Close: 0.17<br>BIIB_Close: 0.07<br>BABA_Close: 0.26",
          "Return: 23.63%<br>Volatility: 0.10<br>V_Close: 0.07<br>TMO_Close: 0.25<br>NEE_Close: 0.07<br>NKE_Close: 0.17<br>ABT_Close: 0.44",
          "Return: 29.18%<br>Volatility: 0.11<br>MS_Close: 0.10<br>BIIB_Close: 0.21<br>EMR_Close: 0.13<br>ISRG_Close: 0.38<br>ACN_Close: 0.19",
          "Return: 25.51%<br>Volatility: 0.11<br>DE_Close: 0.22<br>HON_Close: 0.19<br>INTC_Close: 0.28<br>GS_Close: 0.21<br>NKE_Close: 0.10",
          "Return: 27.99%<br>Volatility: 0.12<br>DE_Close: 0.01<br>DIS_Close: 0.27<br>T_Close: 0.05<br>BA_Close: 0.42<br>VZ_Close: 0.25",
          "Return: -6.08%<br>Volatility: 0.22<br>META_Close: 0.08<br>ORCL_Close: 0.38<br>EMR_Close: 0.22<br>SNAP_Close: 0.30<br>QCOM_Close: 0.03",
          "Return: 10.78%<br>Volatility: 0.09<br>IBM_Close: 0.22<br>SO_Close: 0.06<br>TXN_Close: 0.21<br>DHR_Close: 0.26<br>CSCO_Close: 0.25",
          "Return: 14.54%<br>Volatility: 0.14<br>NFLX_Close: 0.40<br>K_Close: 0.26<br>AMGN_Close: 0.29<br>WFC_Close: 0.01<br>AMZN_Close: 0.04",
          "Return: 17.76%<br>Volatility: 0.13<br>ADBE_Close: 0.16<br>SAP_Close: 0.20<br>PYPL_Close: 0.25<br>CPB_Close: 0.31<br>AMD_Close: 0.08",
          "Return: -11.44%<br>Volatility: 0.25<br>CRM_Close: 0.12<br>WFC_Close: 0.02<br>AMGN_Close: 0.19<br>AMD_Close: 0.39<br>DIS_Close: 0.27",
          "Return: 8.55%<br>Volatility: 0.10<br>CPB_Close: 0.03<br>AEP_Close: 0.30<br>PG_Close: 0.21<br>HD_Close: 0.12<br>REGN_Close: 0.35",
          "Return: 10.90%<br>Volatility: 0.13<br>MS_Close: 0.27<br>IBM_Close: 0.12<br>UA_Close: 0.17<br>CRM_Close: 0.20<br>ADBE_Close: 0.23",
          "Return: 13.30%<br>Volatility: 0.10<br>F_Close: 0.31<br>UA_Close: 0.08<br>BIIB_Close: 0.12<br>MMM_Close: 0.34<br>HD_Close: 0.15",
          "Return: 23.52%<br>Volatility: 0.09<br>MMM_Close: 0.19<br>DHR_Close: 0.06<br>WMT_Close: 0.32<br>MDT_Close: 0.15<br>ETN_Close: 0.28",
          "Return: 17.81%<br>Volatility: 0.09<br>JNJ_Close: 0.28<br>META_Close: 0.19<br>GILD_Close: 0.16<br>DHR_Close: 0.19<br>CRM_Close: 0.19",
          "Return: -10.83%<br>Volatility: 0.15<br>KO_Close: 0.04<br>AMD_Close: 0.15<br>CPB_Close: 0.42<br>ZBH_Close: 0.07<br>BTI_Close: 0.32",
          "Return: -0.20%<br>Volatility: 0.14<br>BTI_Close: 0.31<br>DHR_Close: 0.04<br>WFC_Close: 0.35<br>UA_Close: 0.20<br>EMR_Close: 0.11",
          "Return: 17.97%<br>Volatility: 0.10<br>ETN_Close: 0.23<br>ACN_Close: 0.33<br>ABT_Close: 0.27<br>KR_Close: 0.15<br>GIS_Close: 0.03",
          "Return: 7.42%<br>Volatility: 0.12<br>COST_Close: 0.03<br>K_Close: 0.35<br>INTC_Close: 0.36<br>TXN_Close: 0.05<br>RDY_Close: 0.21",
          "Return: 7.05%<br>Volatility: 0.12<br>SNAP_Close: 0.10<br>CSCO_Close: 0.30<br>ETN_Close: 0.04<br>TXN_Close: 0.28<br>K_Close: 0.29",
          "Return: 19.77%<br>Volatility: 0.07<br>CSCO_Close: 0.12<br>MCD_Close: 0.27<br>CVX_Close: 0.18<br>CMCSA_Close: 0.18<br>KO_Close: 0.25",
          "Return: 16.50%<br>Volatility: 0.13<br>BAC_Close: 0.06<br>GS_Close: 0.11<br>KR_Close: 0.06<br>QCOM_Close: 0.40<br>TMO_Close: 0.37",
          "Return: 10.37%<br>Volatility: 0.12<br>PM_Close: 0.02<br>REGN_Close: 0.33<br>MA_Close: 0.26<br>ADBE_Close: 0.04<br>T_Close: 0.35",
          "Return: 12.25%<br>Volatility: 0.09<br>SYY_Close: 0.29<br>PEP_Close: 0.06<br>AAPL_Close: 0.13<br>SRE_Close: 0.43<br>ABT_Close: 0.08",
          "Return: 28.37%<br>Volatility: 0.12<br>CPB_Close: 0.03<br>MSFT_Close: 0.19<br>BABA_Close: 0.26<br>ETN_Close: 0.24<br>CMCSA_Close: 0.27",
          "Return: 13.61%<br>Volatility: 0.16<br>MA_Close: 0.09<br>TXN_Close: 0.18<br>SAP_Close: 0.27<br>CSCO_Close: 0.28<br>AMD_Close: 0.19",
          "Return: 0.20%<br>Volatility: 0.16<br>AMD_Close: 0.25<br>CSCO_Close: 0.17<br>PFE_Close: 0.28<br>TMO_Close: 0.17<br>SRE_Close: 0.12",
          "Return: 15.21%<br>Volatility: 0.13<br>PFE_Close: 0.04<br>GS_Close: 0.28<br>MRK_Close: 0.03<br>MA_Close: 0.29<br>BIIB_Close: 0.37",
          "Return: 27.81%<br>Volatility: 0.11<br>UNH_Close: 0.02<br>MA_Close: 0.00<br>BAC_Close: 0.39<br>WMT_Close: 0.23<br>CRM_Close: 0.35",
          "Return: 15.43%<br>Volatility: 0.09<br>AEP_Close: 0.03<br>KO_Close: 0.11<br>PM_Close: 0.42<br>HON_Close: 0.26<br>AMZN_Close: 0.18",
          "Return: 12.86%<br>Volatility: 0.12<br>CPB_Close: 0.21<br>BIIB_Close: 0.03<br>REGN_Close: 0.15<br>GM_Close: 0.41<br>BA_Close: 0.19",
          "Return: 19.11%<br>Volatility: 0.08<br>SYY_Close: 0.23<br>SO_Close: 0.17<br>MA_Close: 0.19<br>HON_Close: 0.24<br>NKE_Close: 0.16",
          "Return: 22.76%<br>Volatility: 0.15<br>SYY_Close: 0.05<br>NFLX_Close: 0.26<br>ABBV_Close: 0.07<br>MRK_Close: 0.39<br>VRTX_Close: 0.23",
          "Return: 28.56%<br>Volatility: 0.09<br>AEP_Close: 0.37<br>ABBV_Close: 0.34<br>BIIB_Close: 0.05<br>NKE_Close: 0.14<br>GOOGL_Close: 0.09",
          "Return: 18.91%<br>Volatility: 0.09<br>PFE_Close: 0.32<br>DHR_Close: 0.24<br>CRM_Close: 0.04<br>TXN_Close: 0.14<br>ABT_Close: 0.27",
          "Return: 14.67%<br>Volatility: 0.11<br>NVDA_Close: 0.12<br>GIS_Close: 0.35<br>F_Close: 0.38<br>BIIB_Close: 0.07<br>ADBE_Close: 0.07",
          "Return: 33.33%<br>Volatility: 0.09<br>BA_Close: 0.30<br>DE_Close: 0.14<br>F_Close: 0.27<br>PEP_Close: 0.04<br>V_Close: 0.25",
          "Return: 19.31%<br>Volatility: 0.09<br>JPM_Close: 0.05<br>GM_Close: 0.30<br>VZ_Close: 0.26<br>MCD_Close: 0.30<br>DIS_Close: 0.10",
          "Return: 36.58%<br>Volatility: 0.11<br>HD_Close: 0.03<br>PYPL_Close: 0.37<br>NEE_Close: 0.28<br>JPM_Close: 0.06<br>GM_Close: 0.26",
          "Return: 38.23%<br>Volatility: 0.16<br>EMR_Close: 0.31<br>F_Close: 0.17<br>VRTX_Close: 0.17<br>NVDA_Close: 0.24<br>GM_Close: 0.11",
          "Return: -0.44%<br>Volatility: 0.26<br>PFE_Close: 0.18<br>SNAP_Close: 0.37<br>NVDA_Close: 0.17<br>AMGN_Close: 0.12<br>ISRG_Close: 0.15",
          "Return: 24.73%<br>Volatility: 0.10<br>AMZN_Close: 0.27<br>GOOG_Close: 0.23<br>ABBV_Close: 0.10<br>GILD_Close: 0.13<br>DUK_Close: 0.27",
          "Return: 26.17%<br>Volatility: 0.09<br>MCD_Close: 0.27<br>BAC_Close: 0.10<br>MSFT_Close: 0.22<br>DHR_Close: 0.14<br>RTX_Close: 0.27",
          "Return: 7.23%<br>Volatility: 0.08<br>GIS_Close: 0.24<br>WFC_Close: 0.13<br>F_Close: 0.22<br>CRM_Close: 0.18<br>LLY_Close: 0.23",
          "Return: 1.25%<br>Volatility: 0.10<br>GM_Close: 0.20<br>MO_Close: 0.34<br>PG_Close: 0.29<br>MRK_Close: 0.05<br>K_Close: 0.13",
          "Return: 1.05%<br>Volatility: 0.20<br>ADBE_Close: 0.15<br>V_Close: 0.05<br>LLY_Close: 0.25<br>UA_Close: 0.40<br>ABBV_Close: 0.15",
          "Return: 10.38%<br>Volatility: 0.07<br>TMO_Close: 0.24<br>XOM_Close: 0.34<br>PEP_Close: 0.05<br>DUK_Close: 0.32<br>NEE_Close: 0.06",
          "Return: -10.27%<br>Volatility: 0.24<br>SYY_Close: 0.23<br>SNAP_Close: 0.35<br>BSX_Close: 0.11<br>BAC_Close: 0.11<br>GOOGL_Close: 0.20",
          "Return: 22.80%<br>Volatility: 0.09<br>DIS_Close: 0.32<br>GOOGL_Close: 0.30<br>NVDA_Close: 0.05<br>MDT_Close: 0.03<br>MCD_Close: 0.30",
          "Return: 38.72%<br>Volatility: 0.12<br>BA_Close: 0.44<br>SNAP_Close: 0.03<br>WFC_Close: 0.32<br>CAT_Close: 0.19<br>SYK_Close: 0.02",
          "Return: 24.58%<br>Volatility: 0.10<br>DHR_Close: 0.20<br>JPM_Close: 0.39<br>META_Close: 0.23<br>ADBE_Close: 0.16<br>ABT_Close: 0.02",
          "Return: 16.85%<br>Volatility: 0.08<br>PEP_Close: 0.18<br>HD_Close: 0.29<br>MS_Close: 0.09<br>ORCL_Close: 0.29<br>SO_Close: 0.15",
          "Return: 13.64%<br>Volatility: 0.10<br>JNJ_Close: 0.06<br>ETN_Close: 0.14<br>F_Close: 0.28<br>DHR_Close: 0.20<br>AAPL_Close: 0.32",
          "Return: 23.27%<br>Volatility: 0.12<br>NVDA_Close: 0.22<br>LMT_Close: 0.13<br>MO_Close: 0.10<br>SO_Close: 0.26<br>NKE_Close: 0.29",
          "Return: 31.04%<br>Volatility: 0.16<br>CVX_Close: 0.01<br>VRTX_Close: 0.28<br>PYPL_Close: 0.12<br>CMCSA_Close: 0.39<br>NKE_Close: 0.20",
          "Return: 16.50%<br>Volatility: 0.07<br>AEP_Close: 0.10<br>SO_Close: 0.08<br>XOM_Close: 0.23<br>HON_Close: 0.18<br>NEE_Close: 0.42",
          "Return: 21.70%<br>Volatility: 0.10<br>TMO_Close: 0.04<br>MSFT_Close: 0.19<br>CRM_Close: 0.33<br>ABT_Close: 0.21<br>MO_Close: 0.23",
          "Return: 24.18%<br>Volatility: 0.14<br>IBM_Close: 0.05<br>PYPL_Close: 0.38<br>MO_Close: 0.51<br>NFLX_Close: 0.00<br>AAPL_Close: 0.05",
          "Return: 10.71%<br>Volatility: 0.12<br>GS_Close: 0.24<br>NVDA_Close: 0.04<br>BIIB_Close: 0.23<br>AMGN_Close: 0.22<br>JNJ_Close: 0.27",
          "Return: 5.36%<br>Volatility: 0.18<br>AAPL_Close: 0.20<br>VZ_Close: 0.02<br>MO_Close: 0.00<br>MDT_Close: 0.18<br>REGN_Close: 0.60",
          "Return: 12.56%<br>Volatility: 0.09<br>BTI_Close: 0.31<br>PG_Close: 0.37<br>BABA_Close: 0.06<br>ORCL_Close: 0.05<br>GM_Close: 0.20",
          "Return: 21.91%<br>Volatility: 0.09<br>CVX_Close: 0.28<br>MA_Close: 0.07<br>GOOG_Close: 0.30<br>JPM_Close: 0.27<br>CSCO_Close: 0.08",
          "Return: -3.26%<br>Volatility: 0.10<br>IBM_Close: 0.57<br>ACN_Close: 0.14<br>DUK_Close: 0.23<br>GOOG_Close: 0.02<br>GS_Close: 0.05",
          "Return: 10.76%<br>Volatility: 0.10<br>ZBH_Close: 0.33<br>V_Close: 0.26<br>XOM_Close: 0.17<br>BIIB_Close: 0.07<br>MDT_Close: 0.18",
          "Return: 8.50%<br>Volatility: 0.11<br>EW_Close: 0.15<br>GS_Close: 0.34<br>JNJ_Close: 0.16<br>LLY_Close: 0.30<br>AMGN_Close: 0.05",
          "Return: 22.47%<br>Volatility: 0.14<br>IBM_Close: 0.17<br>TSLA_Close: 0.29<br>ISRG_Close: 0.10<br>NEE_Close: 0.26<br>AMZN_Close: 0.17",
          "Return: 28.83%<br>Volatility: 0.10<br>ADBE_Close: 0.10<br>VZ_Close: 0.29<br>ABBV_Close: 0.29<br>ETN_Close: 0.19<br>SAP_Close: 0.14",
          "Return: 14.65%<br>Volatility: 0.10<br>GM_Close: 0.39<br>SRE_Close: 0.22<br>GS_Close: 0.07<br>ABT_Close: 0.30<br>AMGN_Close: 0.02",
          "Return: 34.35%<br>Volatility: 0.13<br>MCD_Close: 0.31<br>ORCL_Close: 0.35<br>KR_Close: 0.02<br>NVDA_Close: 0.23<br>MO_Close: 0.09",
          "Return: 14.77%<br>Volatility: 0.08<br>JNJ_Close: 0.27<br>MA_Close: 0.35<br>GE_Close: 0.09<br>CVX_Close: 0.15<br>GS_Close: 0.13",
          "Return: 13.35%<br>Volatility: 0.10<br>INTC_Close: 0.26<br>ORCL_Close: 0.27<br>KO_Close: 0.26<br>REGN_Close: 0.06<br>RDY_Close: 0.15",
          "Return: 15.80%<br>Volatility: 0.09<br>META_Close: 0.23<br>PEP_Close: 0.30<br>T_Close: 0.26<br>GOOG_Close: 0.20<br>ACN_Close: 0.01",
          "Return: 9.66%<br>Volatility: 0.08<br>ETN_Close: 0.21<br>EXC_Close: 0.13<br>PG_Close: 0.18<br>PM_Close: 0.28<br>SAP_Close: 0.20",
          "Return: 13.39%<br>Volatility: 0.09<br>LLY_Close: 0.36<br>TXN_Close: 0.06<br>MO_Close: 0.26<br>BA_Close: 0.10<br>SYY_Close: 0.22",
          "Return: 2.77%<br>Volatility: 0.12<br>ADBE_Close: 0.31<br>EMR_Close: 0.35<br>AMD_Close: 0.01<br>DHR_Close: 0.04<br>GE_Close: 0.29",
          "Return: 29.49%<br>Volatility: 0.09<br>KO_Close: 0.24<br>ACN_Close: 0.51<br>BA_Close: 0.20<br>MDT_Close: 0.03<br>COST_Close: 0.00",
          "Return: 19.64%<br>Volatility: 0.10<br>K_Close: 0.25<br>ADBE_Close: 0.25<br>AAPL_Close: 0.18<br>BA_Close: 0.04<br>KO_Close: 0.28",
          "Return: 29.12%<br>Volatility: 0.11<br>CRM_Close: 0.11<br>GIS_Close: 0.13<br>META_Close: 0.27<br>GOOG_Close: 0.35<br>BA_Close: 0.14",
          "Return: 40.85%<br>Volatility: 0.14<br>MMM_Close: 0.12<br>DE_Close: 0.41<br>MS_Close: 0.06<br>AMD_Close: 0.09<br>PYPL_Close: 0.33",
          "Return: 17.23%<br>Volatility: 0.07<br>GIS_Close: 0.09<br>BAC_Close: 0.30<br>AEP_Close: 0.37<br>NEE_Close: 0.23<br>SO_Close: 0.01",
          "Return: 27.62%<br>Volatility: 0.11<br>MA_Close: 0.16<br>MCD_Close: 0.06<br>META_Close: 0.32<br>TXN_Close: 0.27<br>SO_Close: 0.20",
          "Return: 7.45%<br>Volatility: 0.14<br>UNH_Close: 0.34<br>VZ_Close: 0.19<br>XOM_Close: 0.18<br>AMD_Close: 0.20<br>SRE_Close: 0.09",
          "Return: 30.81%<br>Volatility: 0.10<br>VRTX_Close: 0.18<br>MMM_Close: 0.31<br>ORCL_Close: 0.09<br>BABA_Close: 0.09<br>PEP_Close: 0.33",
          "Return: 12.90%<br>Volatility: 0.12<br>WMT_Close: 0.17<br>PFE_Close: 0.30<br>EW_Close: 0.09<br>AMD_Close: 0.10<br>ORCL_Close: 0.35",
          "Return: 3.92%<br>Volatility: 0.10<br>BMY_Close: 0.03<br>ETN_Close: 0.24<br>AEP_Close: 0.08<br>MO_Close: 0.34<br>AMGN_Close: 0.30",
          "Return: 5.99%<br>Volatility: 0.09<br>CRM_Close: 0.15<br>GM_Close: 0.16<br>SYY_Close: 0.30<br>MRK_Close: 0.30<br>IBM_Close: 0.08",
          "Return: 1.08%<br>Volatility: 0.09<br>CRM_Close: 0.06<br>GE_Close: 0.22<br>CVX_Close: 0.34<br>SAP_Close: 0.32<br>BMY_Close: 0.06",
          "Return: 3.53%<br>Volatility: 0.09<br>SRE_Close: 0.19<br>T_Close: 0.34<br>WFC_Close: 0.05<br>HON_Close: 0.27<br>RDY_Close: 0.16",
          "Return: 9.98%<br>Volatility: 0.09<br>CAT_Close: 0.12<br>BABA_Close: 0.13<br>BSX_Close: 0.17<br>MRK_Close: 0.34<br>GIS_Close: 0.24",
          "Return: 14.03%<br>Volatility: 0.10<br>VRTX_Close: 0.21<br>SO_Close: 0.23<br>MRK_Close: 0.19<br>JNJ_Close: 0.23<br>DUK_Close: 0.15",
          "Return: 5.68%<br>Volatility: 0.13<br>AMGN_Close: 0.22<br>SYY_Close: 0.12<br>GM_Close: 0.39<br>PG_Close: 0.04<br>KR_Close: 0.22",
          "Return: 10.53%<br>Volatility: 0.09<br>ACN_Close: 0.17<br>DHR_Close: 0.25<br>SRE_Close: 0.28<br>BMY_Close: 0.24<br>GM_Close: 0.06",
          "Return: -5.09%<br>Volatility: 0.20<br>RDY_Close: 0.30<br>UA_Close: 0.34<br>PYPL_Close: 0.14<br>GS_Close: 0.09<br>AMZN_Close: 0.13",
          "Return: -8.23%<br>Volatility: 0.09<br>CVX_Close: 0.28<br>DHR_Close: 0.30<br>UA_Close: 0.05<br>KO_Close: 0.13<br>GE_Close: 0.24",
          "Return: 15.34%<br>Volatility: 0.11<br>SO_Close: 0.14<br>GS_Close: 0.47<br>LMT_Close: 0.16<br>ABBV_Close: 0.12<br>INTC_Close: 0.12",
          "Return: 9.57%<br>Volatility: 0.09<br>NEE_Close: 0.31<br>COST_Close: 0.32<br>BSX_Close: 0.18<br>RDY_Close: 0.13<br>ETN_Close: 0.07",
          "Return: 13.96%<br>Volatility: 0.10<br>BAC_Close: 0.09<br>LLY_Close: 0.47<br>NKE_Close: 0.12<br>AAPL_Close: 0.21<br>META_Close: 0.11",
          "Return: 15.93%<br>Volatility: 0.09<br>EMR_Close: 0.32<br>VZ_Close: 0.29<br>KO_Close: 0.28<br>HD_Close: 0.07<br>AMGN_Close: 0.03",
          "Return: 11.27%<br>Volatility: 0.08<br>PEP_Close: 0.29<br>T_Close: 0.14<br>CVX_Close: 0.04<br>F_Close: 0.22<br>SYK_Close: 0.31",
          "Return: -21.14%<br>Volatility: 0.12<br>GE_Close: 0.45<br>RTX_Close: 0.03<br>PG_Close: 0.25<br>AMZN_Close: 0.02<br>RMD_Close: 0.25",
          "Return: 1.30%<br>Volatility: 0.13<br>EXC_Close: 0.10<br>BTI_Close: 0.20<br>META_Close: 0.16<br>KR_Close: 0.29<br>MRK_Close: 0.24",
          "Return: 14.43%<br>Volatility: 0.08<br>NEE_Close: 0.46<br>GS_Close: 0.22<br>RTX_Close: 0.17<br>TSLA_Close: 0.06<br>IBM_Close: 0.09",
          "Return: 18.81%<br>Volatility: 0.12<br>EW_Close: 0.43<br>NFLX_Close: 0.06<br>PFE_Close: 0.23<br>DUK_Close: 0.19<br>MSFT_Close: 0.09",
          "Return: 15.08%<br>Volatility: 0.09<br>PFE_Close: 0.25<br>NKE_Close: 0.05<br>SAP_Close: 0.12<br>PM_Close: 0.36<br>DE_Close: 0.21",
          "Return: 28.31%<br>Volatility: 0.09<br>MMM_Close: 0.09<br>NEE_Close: 0.31<br>MCD_Close: 0.20<br>EXC_Close: 0.07<br>META_Close: 0.33",
          "Return: 13.85%<br>Volatility: 0.11<br>PYPL_Close: 0.07<br>ZBH_Close: 0.26<br>WFC_Close: 0.41<br>ISRG_Close: 0.08<br>BMY_Close: 0.18",
          "Return: 14.99%<br>Volatility: 0.09<br>TXN_Close: 0.29<br>MDT_Close: 0.02<br>DIS_Close: 0.42<br>JPM_Close: 0.18<br>AEP_Close: 0.09",
          "Return: 15.67%<br>Volatility: 0.10<br>K_Close: 0.32<br>SYK_Close: 0.25<br>TXN_Close: 0.19<br>TMO_Close: 0.18<br>UNH_Close: 0.06",
          "Return: 21.23%<br>Volatility: 0.11<br>IBM_Close: 0.23<br>MSFT_Close: 0.13<br>EW_Close: 0.31<br>KO_Close: 0.12<br>ABBV_Close: 0.21",
          "Return: 22.75%<br>Volatility: 0.09<br>TXN_Close: 0.21<br>ABT_Close: 0.24<br>ISRG_Close: 0.14<br>WFC_Close: 0.24<br>DIS_Close: 0.17",
          "Return: 23.88%<br>Volatility: 0.09<br>QCOM_Close: 0.14<br>PEP_Close: 0.27<br>SRE_Close: 0.02<br>WMT_Close: 0.37<br>PFE_Close: 0.21",
          "Return: 20.33%<br>Volatility: 0.08<br>SYY_Close: 0.21<br>KO_Close: 0.18<br>GM_Close: 0.25<br>DE_Close: 0.20<br>DUK_Close: 0.14",
          "Return: 35.65%<br>Volatility: 0.14<br>BIIB_Close: 0.03<br>CRM_Close: 0.30<br>VRTX_Close: 0.16<br>ZBH_Close: 0.25<br>PYPL_Close: 0.26",
          "Return: 14.54%<br>Volatility: 0.11<br>JPM_Close: 0.39<br>MO_Close: 0.06<br>NKE_Close: 0.04<br>ACN_Close: 0.20<br>F_Close: 0.30",
          "Return: 5.33%<br>Volatility: 0.12<br>XOM_Close: 0.12<br>BIIB_Close: 0.21<br>BMY_Close: 0.30<br>RDY_Close: 0.24<br>LMT_Close: 0.13",
          "Return: 7.76%<br>Volatility: 0.20<br>ADBE_Close: 0.22<br>SYY_Close: 0.33<br>MS_Close: 0.11<br>AMD_Close: 0.30<br>DHR_Close: 0.05",
          "Return: 0.31%<br>Volatility: 0.13<br>MDT_Close: 0.21<br>NKE_Close: 0.29<br>PEP_Close: 0.23<br>AMD_Close: 0.16<br>DIS_Close: 0.11",
          "Return: 12.16%<br>Volatility: 0.11<br>CMCSA_Close: 0.22<br>EMR_Close: 0.21<br>VZ_Close: 0.24<br>JPM_Close: 0.21<br>K_Close: 0.12",
          "Return: 21.42%<br>Volatility: 0.10<br>BABA_Close: 0.22<br>DHR_Close: 0.10<br>DIS_Close: 0.16<br>NEE_Close: 0.30<br>REGN_Close: 0.22",
          "Return: 5.52%<br>Volatility: 0.10<br>IBM_Close: 0.22<br>COST_Close: 0.17<br>WFC_Close: 0.25<br>SYY_Close: 0.17<br>BMY_Close: 0.19",
          "Return: -4.81%<br>Volatility: 0.12<br>NEE_Close: 0.32<br>MMM_Close: 0.07<br>KR_Close: 0.29<br>GE_Close: 0.21<br>EMR_Close: 0.11",
          "Return: 13.84%<br>Volatility: 0.07<br>HON_Close: 0.15<br>GOOGL_Close: 0.25<br>DHR_Close: 0.29<br>DIS_Close: 0.11<br>DUK_Close: 0.21",
          "Return: 15.14%<br>Volatility: 0.17<br>MSFT_Close: 0.26<br>SAP_Close: 0.26<br>AMD_Close: 0.18<br>QCOM_Close: 0.25<br>V_Close: 0.05",
          "Return: 26.25%<br>Volatility: 0.14<br>MO_Close: 0.18<br>INTC_Close: 0.17<br>VRTX_Close: 0.27<br>GM_Close: 0.32<br>REGN_Close: 0.06",
          "Return: 13.93%<br>Volatility: 0.10<br>GIS_Close: 0.00<br>LMT_Close: 0.04<br>BABA_Close: 0.12<br>JNJ_Close: 0.41<br>T_Close: 0.43",
          "Return: 12.03%<br>Volatility: 0.10<br>SO_Close: 0.14<br>INTC_Close: 0.11<br>QCOM_Close: 0.10<br>MRK_Close: 0.37<br>ADBE_Close: 0.28",
          "Return: -4.97%<br>Volatility: 0.19<br>GOOG_Close: 0.24<br>AMD_Close: 0.22<br>MA_Close: 0.04<br>RDY_Close: 0.29<br>MO_Close: 0.21",
          "Return: 22.17%<br>Volatility: 0.12<br>CMCSA_Close: 0.16<br>JNJ_Close: 0.06<br>GOOG_Close: 0.43<br>PM_Close: 0.01<br>EW_Close: 0.34",
          "Return: 35.37%<br>Volatility: 0.14<br>AMZN_Close: 0.52<br>VRTX_Close: 0.07<br>JPM_Close: 0.19<br>MCD_Close: 0.16<br>SYY_Close: 0.05",
          "Return: 19.28%<br>Volatility: 0.08<br>BMY_Close: 0.30<br>PG_Close: 0.21<br>HD_Close: 0.13<br>ISRG_Close: 0.18<br>PEP_Close: 0.18",
          "Return: 17.52%<br>Volatility: 0.12<br>GOOGL_Close: 0.32<br>AMZN_Close: 0.12<br>RMD_Close: 0.31<br>IBM_Close: 0.22<br>VRTX_Close: 0.03",
          "Return: 11.90%<br>Volatility: 0.11<br>KR_Close: 0.16<br>KO_Close: 0.20<br>NKE_Close: 0.12<br>BAC_Close: 0.31<br>JNJ_Close: 0.20",
          "Return: 26.58%<br>Volatility: 0.10<br>NVDA_Close: 0.12<br>BMY_Close: 0.28<br>AEP_Close: 0.22<br>KO_Close: 0.15<br>MSFT_Close: 0.23",
          "Return: 21.64%<br>Volatility: 0.11<br>BSX_Close: 0.10<br>MA_Close: 0.23<br>MS_Close: 0.32<br>JPM_Close: 0.03<br>SAP_Close: 0.31",
          "Return: 14.27%<br>Volatility: 0.11<br>CPB_Close: 0.08<br>MMM_Close: 0.38<br>ORCL_Close: 0.05<br>ZBH_Close: 0.40<br>MA_Close: 0.10",
          "Return: 22.40%<br>Volatility: 0.13<br>QCOM_Close: 0.35<br>ZBH_Close: 0.19<br>NVDA_Close: 0.11<br>CSCO_Close: 0.18<br>BAC_Close: 0.16",
          "Return: 25.34%<br>Volatility: 0.11<br>BABA_Close: 0.27<br>K_Close: 0.25<br>VRTX_Close: 0.05<br>HD_Close: 0.13<br>BMY_Close: 0.30",
          "Return: 18.22%<br>Volatility: 0.12<br>KR_Close: 0.18<br>AAPL_Close: 0.26<br>MA_Close: 0.27<br>BAC_Close: 0.19<br>DIS_Close: 0.09",
          "Return: 13.22%<br>Volatility: 0.09<br>CRM_Close: 0.43<br>ABBV_Close: 0.06<br>T_Close: 0.19<br>DIS_Close: 0.22<br>SO_Close: 0.10",
          "Return: -3.49%<br>Volatility: 0.17<br>SNAP_Close: 0.22<br>ADBE_Close: 0.24<br>T_Close: 0.15<br>IBM_Close: 0.17<br>BTI_Close: 0.22",
          "Return: 22.33%<br>Volatility: 0.10<br>MO_Close: 0.17<br>ADBE_Close: 0.09<br>CRM_Close: 0.16<br>INTC_Close: 0.35<br>AEP_Close: 0.24",
          "Return: 14.85%<br>Volatility: 0.07<br>EMR_Close: 0.10<br>COST_Close: 0.21<br>BTI_Close: 0.05<br>LLY_Close: 0.27<br>NEE_Close: 0.37",
          "Return: -12.78%<br>Volatility: 0.12<br>GE_Close: 0.35<br>GS_Close: 0.09<br>ZBH_Close: 0.37<br>EW_Close: 0.08<br>ISRG_Close: 0.12",
          "Return: 25.24%<br>Volatility: 0.11<br>INTC_Close: 0.08<br>PYPL_Close: 0.26<br>CRM_Close: 0.24<br>SO_Close: 0.37<br>GILD_Close: 0.06",
          "Return: 18.53%<br>Volatility: 0.09<br>INTC_Close: 0.33<br>XOM_Close: 0.40<br>T_Close: 0.02<br>GOOGL_Close: 0.24<br>GM_Close: 0.01",
          "Return: 26.78%<br>Volatility: 0.11<br>JPM_Close: 0.11<br>MSFT_Close: 0.06<br>MS_Close: 0.13<br>HD_Close: 0.16<br>GOOG_Close: 0.55",
          "Return: 28.72%<br>Volatility: 0.09<br>NKE_Close: 0.19<br>WFC_Close: 0.18<br>GOOG_Close: 0.12<br>BA_Close: 0.36<br>PG_Close: 0.14",
          "Return: 14.83%<br>Volatility: 0.09<br>RMD_Close: 0.05<br>K_Close: 0.14<br>WFC_Close: 0.19<br>ISRG_Close: 0.31<br>DIS_Close: 0.31",
          "Return: 28.51%<br>Volatility: 0.10<br>TSLA_Close: 0.19<br>BA_Close: 0.30<br>CRM_Close: 0.01<br>PEP_Close: 0.41<br>XOM_Close: 0.10",
          "Return: -6.38%<br>Volatility: 0.16<br>GILD_Close: 0.01<br>RTX_Close: 0.16<br>IBM_Close: 0.28<br>HD_Close: 0.08<br>RDY_Close: 0.47",
          "Return: -3.31%<br>Volatility: 0.17<br>PM_Close: 0.37<br>GOOGL_Close: 0.34<br>BABA_Close: 0.01<br>NEE_Close: 0.06<br>SNAP_Close: 0.22",
          "Return: 5.51%<br>Volatility: 0.18<br>MO_Close: 0.13<br>TXN_Close: 0.27<br>HON_Close: 0.13<br>AMD_Close: 0.25<br>PFE_Close: 0.22",
          "Return: 32.03%<br>Volatility: 0.15<br>NVDA_Close: 0.15<br>ADBE_Close: 0.44<br>SAP_Close: 0.17<br>MO_Close: 0.03<br>IBM_Close: 0.22",
          "Return: 13.41%<br>Volatility: 0.09<br>GILD_Close: 0.25<br>CMCSA_Close: 0.03<br>TMO_Close: 0.28<br>PEP_Close: 0.39<br>RTX_Close: 0.05",
          "Return: 13.09%<br>Volatility: 0.09<br>MO_Close: 0.10<br>KO_Close: 0.25<br>BIIB_Close: 0.25<br>NKE_Close: 0.21<br>MMM_Close: 0.19",
          "Return: 19.53%<br>Volatility: 0.09<br>CVX_Close: 0.02<br>BTI_Close: 0.27<br>DHR_Close: 0.11<br>PEP_Close: 0.44<br>PYPL_Close: 0.14",
          "Return: 19.03%<br>Volatility: 0.11<br>KO_Close: 0.22<br>NFLX_Close: 0.07<br>GM_Close: 0.48<br>GOOGL_Close: 0.22<br>BA_Close: 0.01",
          "Return: 12.08%<br>Volatility: 0.07<br>EXC_Close: 0.14<br>MO_Close: 0.17<br>GOOG_Close: 0.09<br>SYK_Close: 0.03<br>KO_Close: 0.57",
          "Return: 19.74%<br>Volatility: 0.12<br>ISRG_Close: 0.10<br>MS_Close: 0.03<br>QCOM_Close: 0.09<br>MO_Close: 0.56<br>CAT_Close: 0.23",
          "Return: 13.28%<br>Volatility: 0.10<br>SO_Close: 0.10<br>DIS_Close: 0.19<br>SAP_Close: 0.03<br>AAPL_Close: 0.24<br>CSCO_Close: 0.43",
          "Return: 30.45%<br>Volatility: 0.10<br>LMT_Close: 0.34<br>RTX_Close: 0.36<br>ORCL_Close: 0.06<br>CAT_Close: 0.16<br>VRTX_Close: 0.09",
          "Return: 29.55%<br>Volatility: 0.10<br>INTC_Close: 0.31<br>BABA_Close: 0.20<br>RTX_Close: 0.22<br>EXC_Close: 0.20<br>BIIB_Close: 0.07",
          "Return: 27.84%<br>Volatility: 0.12<br>NVDA_Close: 0.20<br>SRE_Close: 0.31<br>SAP_Close: 0.21<br>ACN_Close: 0.21<br>RTX_Close: 0.07",
          "Return: 24.69%<br>Volatility: 0.10<br>QCOM_Close: 0.09<br>SO_Close: 0.14<br>ACN_Close: 0.24<br>TMO_Close: 0.18<br>MSFT_Close: 0.35",
          "Return: 16.99%<br>Volatility: 0.10<br>EMR_Close: 0.23<br>LMT_Close: 0.16<br>SYK_Close: 0.03<br>WFC_Close: 0.33<br>SAP_Close: 0.26",
          "Return: 32.86%<br>Volatility: 0.15<br>MDT_Close: 0.32<br>BABA_Close: 0.46<br>CAT_Close: 0.03<br>BAC_Close: 0.00<br>NKE_Close: 0.17",
          "Return: 24.51%<br>Volatility: 0.09<br>HON_Close: 0.27<br>MDT_Close: 0.09<br>AAPL_Close: 0.25<br>RMD_Close: 0.11<br>HD_Close: 0.28",
          "Return: 3.66%<br>Volatility: 0.13<br>COST_Close: 0.53<br>NKE_Close: 0.01<br>GE_Close: 0.07<br>KR_Close: 0.08<br>PFE_Close: 0.31",
          "Return: 20.56%<br>Volatility: 0.11<br>LMT_Close: 0.15<br>JPM_Close: 0.24<br>AAPL_Close: 0.29<br>GOOGL_Close: 0.20<br>REGN_Close: 0.13",
          "Return: 13.96%<br>Volatility: 0.09<br>NKE_Close: 0.30<br>SO_Close: 0.28<br>DUK_Close: 0.09<br>NFLX_Close: 0.04<br>V_Close: 0.29",
          "Return: 21.83%<br>Volatility: 0.09<br>MS_Close: 0.06<br>F_Close: 0.25<br>JNJ_Close: 0.34<br>HD_Close: 0.14<br>ADBE_Close: 0.21",
          "Return: 26.19%<br>Volatility: 0.08<br>GOOG_Close: 0.31<br>KO_Close: 0.20<br>MCD_Close: 0.29<br>JPM_Close: 0.19<br>CRM_Close: 0.01",
          "Return: 40.63%<br>Volatility: 0.11<br>CVX_Close: 0.04<br>ZBH_Close: 0.06<br>CAT_Close: 0.45<br>SAP_Close: 0.28<br>ABT_Close: 0.17",
          "Return: -5.17%<br>Volatility: 0.17<br>AMGN_Close: 0.22<br>ETN_Close: 0.21<br>LMT_Close: 0.18<br>SNAP_Close: 0.24<br>AEP_Close: 0.16",
          "Return: 20.20%<br>Volatility: 0.10<br>VZ_Close: 0.21<br>MSFT_Close: 0.10<br>BSX_Close: 0.21<br>BABA_Close: 0.24<br>MO_Close: 0.23",
          "Return: 26.36%<br>Volatility: 0.11<br>V_Close: 0.25<br>ABT_Close: 0.12<br>QCOM_Close: 0.28<br>META_Close: 0.08<br>MMM_Close: 0.26",
          "Return: 23.84%<br>Volatility: 0.09<br>MCD_Close: 0.39<br>EW_Close: 0.19<br>GM_Close: 0.07<br>HD_Close: 0.14<br>T_Close: 0.21",
          "Return: 18.66%<br>Volatility: 0.09<br>SO_Close: 0.07<br>BTI_Close: 0.25<br>QCOM_Close: 0.11<br>UNH_Close: 0.30<br>PEP_Close: 0.27",
          "Return: 30.90%<br>Volatility: 0.11<br>ACN_Close: 0.29<br>REGN_Close: 0.24<br>META_Close: 0.07<br>RTX_Close: 0.10<br>CAT_Close: 0.30",
          "Return: 12.45%<br>Volatility: 0.13<br>EW_Close: 0.03<br>REGN_Close: 0.26<br>GOOGL_Close: 0.29<br>GM_Close: 0.06<br>CMCSA_Close: 0.36",
          "Return: 20.57%<br>Volatility: 0.14<br>INTC_Close: 0.13<br>NFLX_Close: 0.27<br>MSFT_Close: 0.10<br>PEP_Close: 0.21<br>REGN_Close: 0.30",
          "Return: 16.27%<br>Volatility: 0.12<br>JPM_Close: 0.10<br>QCOM_Close: 0.38<br>EXC_Close: 0.26<br>CMCSA_Close: 0.18<br>CRM_Close: 0.09",
          "Return: 21.49%<br>Volatility: 0.08<br>DHR_Close: 0.34<br>MCD_Close: 0.24<br>V_Close: 0.22<br>KO_Close: 0.14<br>BTI_Close: 0.06",
          "Return: -1.26%<br>Volatility: 0.19<br>UA_Close: 0.29<br>RDY_Close: 0.10<br>EW_Close: 0.31<br>ISRG_Close: 0.01<br>MS_Close: 0.29",
          "Return: 24.05%<br>Volatility: 0.16<br>GOOG_Close: 0.27<br>VRTX_Close: 0.28<br>GE_Close: 0.22<br>T_Close: 0.02<br>PYPL_Close: 0.21",
          "Return: 8.24%<br>Volatility: 0.10<br>K_Close: 0.18<br>MCD_Close: 0.10<br>CMCSA_Close: 0.30<br>GILD_Close: 0.29<br>PEP_Close: 0.13",
          "Return: 15.01%<br>Volatility: 0.12<br>NFLX_Close: 0.26<br>ORCL_Close: 0.25<br>MO_Close: 0.21<br>ZBH_Close: 0.17<br>JNJ_Close: 0.12",
          "Return: -2.66%<br>Volatility: 0.12<br>GE_Close: 0.41<br>BABA_Close: 0.27<br>UNH_Close: 0.17<br>NKE_Close: 0.04<br>PM_Close: 0.12",
          "Return: 16.05%<br>Volatility: 0.09<br>K_Close: 0.29<br>AAPL_Close: 0.16<br>ACN_Close: 0.21<br>V_Close: 0.26<br>EXC_Close: 0.09",
          "Return: 13.81%<br>Volatility: 0.09<br>RTX_Close: 0.10<br>AMZN_Close: 0.23<br>GILD_Close: 0.23<br>EXC_Close: 0.21<br>DIS_Close: 0.24",
          "Return: 2.60%<br>Volatility: 0.12<br>SYY_Close: 0.08<br>CSCO_Close: 0.10<br>GE_Close: 0.07<br>GM_Close: 0.36<br>MO_Close: 0.39",
          "Return: 6.32%<br>Volatility: 0.09<br>DUK_Close: 0.16<br>COST_Close: 0.29<br>KO_Close: 0.19<br>T_Close: 0.08<br>AMGN_Close: 0.28",
          "Return: 17.96%<br>Volatility: 0.14<br>GM_Close: 0.63<br>ORCL_Close: 0.04<br>CVX_Close: 0.07<br>VRTX_Close: 0.12<br>DIS_Close: 0.14",
          "Return: 27.12%<br>Volatility: 0.14<br>F_Close: 0.23<br>GIS_Close: 0.05<br>QCOM_Close: 0.06<br>BABA_Close: 0.29<br>BAC_Close: 0.36",
          "Return: 15.09%<br>Volatility: 0.11<br>GIS_Close: 0.35<br>AMD_Close: 0.02<br>CRM_Close: 0.28<br>BIIB_Close: 0.25<br>PYPL_Close: 0.10",
          "Return: 23.15%<br>Volatility: 0.10<br>MDT_Close: 0.12<br>BABA_Close: 0.25<br>MS_Close: 0.03<br>T_Close: 0.31<br>MMM_Close: 0.29",
          "Return: 39.94%<br>Volatility: 0.15<br>GOOG_Close: 0.09<br>EW_Close: 0.04<br>ABBV_Close: 0.08<br>ISRG_Close: 0.69<br>SRE_Close: 0.10",
          "Return: 29.35%<br>Volatility: 0.15<br>RDY_Close: 0.13<br>BMY_Close: 0.29<br>BABA_Close: 0.40<br>SYK_Close: 0.04<br>QCOM_Close: 0.14",
          "Return: 17.03%<br>Volatility: 0.16<br>MSFT_Close: 0.27<br>LMT_Close: 0.23<br>AMD_Close: 0.21<br>V_Close: 0.30<br>EXC_Close: 0.00",
          "Return: 25.14%<br>Volatility: 0.11<br>VZ_Close: 0.11<br>CRM_Close: 0.34<br>DUK_Close: 0.35<br>LLY_Close: 0.04<br>NVDA_Close: 0.16",
          "Return: 6.24%<br>Volatility: 0.12<br>MCD_Close: 0.03<br>COST_Close: 0.55<br>SO_Close: 0.30<br>UA_Close: 0.02<br>PM_Close: 0.10",
          "Return: 9.10%<br>Volatility: 0.09<br>JNJ_Close: 0.26<br>SYY_Close: 0.17<br>GE_Close: 0.08<br>MCD_Close: 0.14<br>F_Close: 0.36",
          "Return: -7.60%<br>Volatility: 0.20<br>CMCSA_Close: 0.47<br>EXC_Close: 0.05<br>QCOM_Close: 0.18<br>GIS_Close: 0.04<br>SNAP_Close: 0.26",
          "Return: 22.85%<br>Volatility: 0.12<br>TSLA_Close: 0.23<br>KO_Close: 0.24<br>TXN_Close: 0.26<br>ETN_Close: 0.24<br>SYK_Close: 0.02",
          "Return: 17.88%<br>Volatility: 0.10<br>CMCSA_Close: 0.02<br>MDT_Close: 0.23<br>COST_Close: 0.27<br>CVX_Close: 0.17<br>AMZN_Close: 0.31",
          "Return: 9.91%<br>Volatility: 0.07<br>GE_Close: 0.10<br>SYK_Close: 0.21<br>AEP_Close: 0.21<br>JPM_Close: 0.30<br>PEP_Close: 0.18",
          "Return: 24.25%<br>Volatility: 0.10<br>IBM_Close: 0.05<br>CVX_Close: 0.33<br>EMR_Close: 0.07<br>META_Close: 0.32<br>AMZN_Close: 0.22",
          "Return: 26.86%<br>Volatility: 0.13<br>DUK_Close: 0.12<br>GS_Close: 0.20<br>HON_Close: 0.17<br>CMCSA_Close: 0.28<br>NVDA_Close: 0.23",
          "Return: 7.49%<br>Volatility: 0.11<br>EMR_Close: 0.30<br>INTC_Close: 0.14<br>CPB_Close: 0.25<br>VZ_Close: 0.25<br>PM_Close: 0.07",
          "Return: -3.98%<br>Volatility: 0.15<br>JNJ_Close: 0.28<br>ZBH_Close: 0.16<br>UA_Close: 0.25<br>BABA_Close: 0.00<br>LLY_Close: 0.30",
          "Return: 28.06%<br>Volatility: 0.12<br>REGN_Close: 0.19<br>MMM_Close: 0.05<br>PYPL_Close: 0.29<br>SYK_Close: 0.31<br>LLY_Close: 0.16",
          "Return: 22.80%<br>Volatility: 0.14<br>MO_Close: 0.29<br>CPB_Close: 0.13<br>JNJ_Close: 0.13<br>EW_Close: 0.20<br>NVDA_Close: 0.25",
          "Return: 30.12%<br>Volatility: 0.12<br>RMD_Close: 0.21<br>ACN_Close: 0.29<br>MCD_Close: 0.05<br>WMT_Close: 0.25<br>TSLA_Close: 0.19",
          "Return: 14.90%<br>Volatility: 0.12<br>T_Close: 0.29<br>HON_Close: 0.15<br>QCOM_Close: 0.37<br>NFLX_Close: 0.00<br>GOOG_Close: 0.18",
          "Return: -7.71%<br>Volatility: 0.25<br>BA_Close: 0.08<br>JPM_Close: 0.07<br>XOM_Close: 0.03<br>GOOG_Close: 0.30<br>UA_Close: 0.52",
          "Return: 6.30%<br>Volatility: 0.10<br>BIIB_Close: 0.25<br>IBM_Close: 0.38<br>UNH_Close: 0.18<br>HD_Close: 0.06<br>KO_Close: 0.13",
          "Return: 26.64%<br>Volatility: 0.09<br>TXN_Close: 0.27<br>ISRG_Close: 0.23<br>PG_Close: 0.25<br>INTC_Close: 0.09<br>ORCL_Close: 0.16",
          "Return: 9.41%<br>Volatility: 0.10<br>BSX_Close: 0.20<br>K_Close: 0.00<br>SYY_Close: 0.42<br>DE_Close: 0.06<br>MO_Close: 0.32",
          "Return: 16.63%<br>Volatility: 0.12<br>GIS_Close: 0.17<br>RDY_Close: 0.31<br>ABBV_Close: 0.25<br>HD_Close: 0.19<br>RMD_Close: 0.08",
          "Return: -3.10%<br>Volatility: 0.24<br>AMD_Close: 0.38<br>KR_Close: 0.03<br>BMY_Close: 0.39<br>WMT_Close: 0.13<br>KO_Close: 0.07",
          "Return: 5.13%<br>Volatility: 0.09<br>MO_Close: 0.33<br>PFE_Close: 0.40<br>GILD_Close: 0.04<br>ABT_Close: 0.07<br>REGN_Close: 0.15",
          "Return: 30.97%<br>Volatility: 0.08<br>DUK_Close: 0.32<br>BABA_Close: 0.02<br>NKE_Close: 0.17<br>BA_Close: 0.36<br>UNH_Close: 0.13",
          "Return: 25.59%<br>Volatility: 0.12<br>PYPL_Close: 0.16<br>GOOG_Close: 0.20<br>COST_Close: 0.34<br>QCOM_Close: 0.26<br>SYY_Close: 0.04",
          "Return: 19.31%<br>Volatility: 0.14<br>PM_Close: 0.34<br>DHR_Close: 0.21<br>HD_Close: 0.01<br>TSLA_Close: 0.28<br>BABA_Close: 0.16",
          "Return: 27.92%<br>Volatility: 0.10<br>CVX_Close: 0.33<br>ABBV_Close: 0.01<br>ISRG_Close: 0.19<br>GOOG_Close: 0.45<br>ADBE_Close: 0.03",
          "Return: 10.23%<br>Volatility: 0.20<br>NFLX_Close: 0.44<br>RDY_Close: 0.44<br>EXC_Close: 0.01<br>BIIB_Close: 0.03<br>DIS_Close: 0.08",
          "Return: 25.07%<br>Volatility: 0.10<br>INTC_Close: 0.27<br>ABBV_Close: 0.05<br>ISRG_Close: 0.19<br>GILD_Close: 0.28<br>AEP_Close: 0.20",
          "Return: 29.42%<br>Volatility: 0.10<br>ADBE_Close: 0.34<br>CVX_Close: 0.21<br>GM_Close: 0.11<br>JNJ_Close: 0.26<br>PYPL_Close: 0.07",
          "Return: 19.33%<br>Volatility: 0.08<br>RTX_Close: 0.23<br>MSFT_Close: 0.21<br>EXC_Close: 0.33<br>CVX_Close: 0.16<br>GM_Close: 0.07",
          "Return: 24.46%<br>Volatility: 0.09<br>SYY_Close: 0.23<br>AEP_Close: 0.07<br>TXN_Close: 0.41<br>EXC_Close: 0.29<br>V_Close: 0.00",
          "Return: 24.90%<br>Volatility: 0.09<br>LMT_Close: 0.13<br>MDT_Close: 0.11<br>ISRG_Close: 0.35<br>EMR_Close: 0.22<br>PG_Close: 0.18",
          "Return: 12.82%<br>Volatility: 0.10<br>AEP_Close: 0.21<br>KR_Close: 0.12<br>DIS_Close: 0.00<br>BSX_Close: 0.30<br>V_Close: 0.37",
          "Return: 25.70%<br>Volatility: 0.13<br>WMT_Close: 0.04<br>DIS_Close: 0.11<br>KO_Close: 0.33<br>AMZN_Close: 0.13<br>NFLX_Close: 0.38",
          "Return: 16.59%<br>Volatility: 0.12<br>CMCSA_Close: 0.24<br>ZBH_Close: 0.09<br>BA_Close: 0.09<br>BTI_Close: 0.26<br>QCOM_Close: 0.31",
          "Return: 33.28%<br>Volatility: 0.10<br>PFE_Close: 0.26<br>MA_Close: 0.23<br>CAT_Close: 0.26<br>F_Close: 0.02<br>AAPL_Close: 0.23",
          "Return: 12.74%<br>Volatility: 0.10<br>F_Close: 0.22<br>VRTX_Close: 0.14<br>DHR_Close: 0.17<br>XOM_Close: 0.23<br>GILD_Close: 0.25",
          "Return: 12.12%<br>Volatility: 0.09<br>AMGN_Close: 0.13<br>GS_Close: 0.24<br>HD_Close: 0.19<br>NFLX_Close: 0.15<br>SO_Close: 0.29",
          "Return: 2.16%<br>Volatility: 0.24<br>V_Close: 0.16<br>DHR_Close: 0.11<br>AMD_Close: 0.37<br>MCD_Close: 0.20<br>ORCL_Close: 0.16",
          "Return: 2.85%<br>Volatility: 0.08<br>PG_Close: 0.34<br>PEP_Close: 0.06<br>T_Close: 0.14<br>DE_Close: 0.04<br>BSX_Close: 0.42",
          "Return: 23.35%<br>Volatility: 0.09<br>CAT_Close: 0.24<br>WFC_Close: 0.05<br>IBM_Close: 0.24<br>MMM_Close: 0.19<br>SAP_Close: 0.27",
          "Return: 22.34%<br>Volatility: 0.12<br>KO_Close: 0.11<br>ORCL_Close: 0.21<br>TXN_Close: 0.24<br>MO_Close: 0.18<br>NFLX_Close: 0.25",
          "Return: 18.23%<br>Volatility: 0.13<br>K_Close: 0.09<br>UNH_Close: 0.25<br>SRE_Close: 0.18<br>TSLA_Close: 0.30<br>PEP_Close: 0.19",
          "Return: 5.05%<br>Volatility: 0.12<br>BAC_Close: 0.12<br>ETN_Close: 0.25<br>KO_Close: 0.29<br>RDY_Close: 0.31<br>SRE_Close: 0.03",
          "Return: 23.24%<br>Volatility: 0.15<br>TSLA_Close: 0.35<br>BAC_Close: 0.12<br>SO_Close: 0.15<br>AMZN_Close: 0.23<br>JPM_Close: 0.16",
          "Return: 16.59%<br>Volatility: 0.10<br>ADBE_Close: 0.27<br>XOM_Close: 0.18<br>ZBH_Close: 0.07<br>F_Close: 0.24<br>NKE_Close: 0.23",
          "Return: 22.20%<br>Volatility: 0.14<br>PFE_Close: 0.16<br>ISRG_Close: 0.27<br>INTC_Close: 0.04<br>REGN_Close: 0.23<br>EW_Close: 0.30",
          "Return: 10.19%<br>Volatility: 0.12<br>KR_Close: 0.24<br>BSX_Close: 0.07<br>AMZN_Close: 0.00<br>ABT_Close: 0.23<br>ETN_Close: 0.45",
          "Return: 35.00%<br>Volatility: 0.13<br>PYPL_Close: 0.37<br>ADBE_Close: 0.11<br>PEP_Close: 0.22<br>HD_Close: 0.09<br>REGN_Close: 0.20",
          "Return: 20.23%<br>Volatility: 0.13<br>REGN_Close: 0.18<br>ORCL_Close: 0.34<br>VRTX_Close: 0.17<br>RTX_Close: 0.31<br>BSX_Close: 0.00",
          "Return: 0.05%<br>Volatility: 0.19<br>EMR_Close: 0.46<br>SNAP_Close: 0.24<br>BMY_Close: 0.08<br>RMD_Close: 0.18<br>GOOG_Close: 0.05",
          "Return: 24.08%<br>Volatility: 0.12<br>V_Close: 0.21<br>SRE_Close: 0.24<br>NFLX_Close: 0.20<br>META_Close: 0.26<br>RMD_Close: 0.09",
          "Return: 24.59%<br>Volatility: 0.10<br>NKE_Close: 0.30<br>SNAP_Close: 0.05<br>CAT_Close: 0.21<br>HD_Close: 0.27<br>EXC_Close: 0.18",
          "Return: 3.37%<br>Volatility: 0.10<br>GE_Close: 0.24<br>BAC_Close: 0.12<br>LMT_Close: 0.40<br>DE_Close: 0.05<br>JPM_Close: 0.18",
          "Return: 10.39%<br>Volatility: 0.16<br>TSLA_Close: 0.37<br>DIS_Close: 0.21<br>AMD_Close: 0.07<br>RTX_Close: 0.29<br>CPB_Close: 0.06",
          "Return: 16.93%<br>Volatility: 0.09<br>SYY_Close: 0.35<br>ISRG_Close: 0.02<br>MDT_Close: 0.27<br>HON_Close: 0.27<br>AAPL_Close: 0.09",
          "Return: 14.62%<br>Volatility: 0.11<br>GOOGL_Close: 0.19<br>BTI_Close: 0.48<br>SYY_Close: 0.03<br>NEE_Close: 0.03<br>COST_Close: 0.26",
          "Return: 34.00%<br>Volatility: 0.12<br>INTC_Close: 0.26<br>NFLX_Close: 0.15<br>BMY_Close: 0.09<br>PFE_Close: 0.25<br>PYPL_Close: 0.25",
          "Return: 16.30%<br>Volatility: 0.08<br>RTX_Close: 0.12<br>SYY_Close: 0.20<br>MO_Close: 0.22<br>MA_Close: 0.21<br>PEP_Close: 0.25",
          "Return: 19.82%<br>Volatility: 0.12<br>EW_Close: 0.31<br>CRM_Close: 0.21<br>BIIB_Close: 0.25<br>WMT_Close: 0.11<br>XOM_Close: 0.13",
          "Return: 23.61%<br>Volatility: 0.14<br>TSLA_Close: 0.31<br>KO_Close: 0.07<br>ZBH_Close: 0.15<br>NEE_Close: 0.08<br>V_Close: 0.40",
          "Return: 15.40%<br>Volatility: 0.13<br>UNH_Close: 0.26<br>CAT_Close: 0.22<br>UA_Close: 0.21<br>MRK_Close: 0.08<br>COST_Close: 0.24",
          "Return: 22.45%<br>Volatility: 0.09<br>PEP_Close: 0.10<br>BMY_Close: 0.00<br>BTI_Close: 0.25<br>INTC_Close: 0.28<br>HON_Close: 0.36",
          "Return: 36.96%<br>Volatility: 0.12<br>BABA_Close: 0.16<br>BAC_Close: 0.18<br>WMT_Close: 0.21<br>INTC_Close: 0.42<br>NKE_Close: 0.02",
          "Return: 24.56%<br>Volatility: 0.11<br>PYPL_Close: 0.21<br>PFE_Close: 0.16<br>RMD_Close: 0.28<br>CSCO_Close: 0.17<br>GILD_Close: 0.18",
          "Return: 19.89%<br>Volatility: 0.11<br>AMZN_Close: 0.20<br>ETN_Close: 0.14<br>V_Close: 0.31<br>AMGN_Close: 0.33<br>MSFT_Close: 0.03",
          "Return: 16.13%<br>Volatility: 0.08<br>KO_Close: 0.38<br>ZBH_Close: 0.12<br>GILD_Close: 0.07<br>MDT_Close: 0.05<br>ACN_Close: 0.37",
          "Return: 17.56%<br>Volatility: 0.10<br>CSCO_Close: 0.10<br>META_Close: 0.28<br>AAPL_Close: 0.16<br>GIS_Close: 0.17<br>BMY_Close: 0.28",
          "Return: 22.53%<br>Volatility: 0.12<br>REGN_Close: 0.26<br>COST_Close: 0.23<br>NVDA_Close: 0.14<br>AEP_Close: 0.10<br>HON_Close: 0.27",
          "Return: 30.16%<br>Volatility: 0.10<br>GOOG_Close: 0.21<br>MCD_Close: 0.26<br>AAPL_Close: 0.12<br>TMO_Close: 0.24<br>MA_Close: 0.18",
          "Return: 22.85%<br>Volatility: 0.13<br>IBM_Close: 0.16<br>NFLX_Close: 0.31<br>MSFT_Close: 0.30<br>PEP_Close: 0.21<br>T_Close: 0.02",
          "Return: 3.42%<br>Volatility: 0.12<br>CVX_Close: 0.08<br>VZ_Close: 0.01<br>GILD_Close: 0.38<br>BMY_Close: 0.13<br>T_Close: 0.40",
          "Return: 34.88%<br>Volatility: 0.11<br>CAT_Close: 0.14<br>ACN_Close: 0.17<br>BA_Close: 0.41<br>CRM_Close: 0.07<br>CPB_Close: 0.21",
          "Return: 15.86%<br>Volatility: 0.19<br>PFE_Close: 0.02<br>BA_Close: 0.26<br>ACN_Close: 0.19<br>KR_Close: 0.50<br>JPM_Close: 0.03",
          "Return: 16.72%<br>Volatility: 0.07<br>JNJ_Close: 0.27<br>PEP_Close: 0.28<br>PG_Close: 0.16<br>GS_Close: 0.09<br>MA_Close: 0.21",
          "Return: 22.78%<br>Volatility: 0.10<br>AAPL_Close: 0.12<br>PFE_Close: 0.25<br>AMZN_Close: 0.25<br>UNH_Close: 0.16<br>BMY_Close: 0.23",
          "Return: 21.48%<br>Volatility: 0.13<br>GILD_Close: 0.10<br>PEP_Close: 0.13<br>CSCO_Close: 0.37<br>JPM_Close: 0.11<br>NFLX_Close: 0.29",
          "Return: 29.06%<br>Volatility: 0.10<br>SAP_Close: 0.25<br>F_Close: 0.21<br>ABBV_Close: 0.15<br>ABT_Close: 0.19<br>ISRG_Close: 0.20",
          "Return: 10.10%<br>Volatility: 0.14<br>INTC_Close: 0.20<br>PFE_Close: 0.11<br>IBM_Close: 0.21<br>NVDA_Close: 0.25<br>GE_Close: 0.23",
          "Return: 33.73%<br>Volatility: 0.13<br>NVDA_Close: 0.17<br>MSFT_Close: 0.27<br>ETN_Close: 0.08<br>DIS_Close: 0.20<br>INTC_Close: 0.28",
          "Return: 19.01%<br>Volatility: 0.13<br>MRK_Close: 0.25<br>NVDA_Close: 0.27<br>KR_Close: 0.08<br>SRE_Close: 0.17<br>DHR_Close: 0.23",
          "Return: 6.04%<br>Volatility: 0.10<br>VZ_Close: 0.19<br>GOOGL_Close: 0.19<br>T_Close: 0.17<br>RDY_Close: 0.24<br>CVX_Close: 0.21",
          "Return: 11.41%<br>Volatility: 0.10<br>CMCSA_Close: 0.05<br>META_Close: 0.05<br>IBM_Close: 0.07<br>AAPL_Close: 0.44<br>SO_Close: 0.40",
          "Return: 13.07%<br>Volatility: 0.12<br>UA_Close: 0.12<br>VZ_Close: 0.06<br>BAC_Close: 0.23<br>GOOG_Close: 0.45<br>PM_Close: 0.13",
          "Return: 6.34%<br>Volatility: 0.09<br>MRK_Close: 0.09<br>HON_Close: 0.56<br>GE_Close: 0.13<br>QCOM_Close: 0.06<br>WFC_Close: 0.15",
          "Return: 1.52%<br>Volatility: 0.08<br>MO_Close: 0.25<br>SO_Close: 0.13<br>PG_Close: 0.19<br>NKE_Close: 0.18<br>BSX_Close: 0.25",
          "Return: 9.78%<br>Volatility: 0.13<br>META_Close: 0.06<br>CPB_Close: 0.01<br>CMCSA_Close: 0.19<br>BAC_Close: 0.32<br>AMGN_Close: 0.43",
          "Return: -6.20%<br>Volatility: 0.13<br>GE_Close: 0.04<br>GIS_Close: 0.29<br>AMD_Close: 0.18<br>DHR_Close: 0.34<br>DIS_Close: 0.15",
          "Return: 2.95%<br>Volatility: 0.11<br>RDY_Close: 0.24<br>XOM_Close: 0.27<br>BMY_Close: 0.29<br>LLY_Close: 0.16<br>UNH_Close: 0.05",
          "Return: 15.99%<br>Volatility: 0.11<br>DIS_Close: 0.35<br>ADBE_Close: 0.18<br>AAPL_Close: 0.31<br>BTI_Close: 0.02<br>REGN_Close: 0.13",
          "Return: 11.84%<br>Volatility: 0.12<br>MMM_Close: 0.23<br>AMZN_Close: 0.16<br>JPM_Close: 0.21<br>MO_Close: 0.28<br>AMD_Close: 0.12",
          "Return: 12.92%<br>Volatility: 0.09<br>RTX_Close: 0.22<br>KR_Close: 0.13<br>GOOGL_Close: 0.19<br>MMM_Close: 0.30<br>MRK_Close: 0.16",
          "Return: 26.26%<br>Volatility: 0.10<br>MDT_Close: 0.07<br>NEE_Close: 0.12<br>EMR_Close: 0.14<br>CSCO_Close: 0.35<br>ISRG_Close: 0.32",
          "Return: 9.69%<br>Volatility: 0.18<br>JPM_Close: 0.19<br>HON_Close: 0.22<br>ABT_Close: 0.28<br>AMD_Close: 0.26<br>MSFT_Close: 0.06",
          "Return: 4.19%<br>Volatility: 0.09<br>RTX_Close: 0.25<br>IBM_Close: 0.33<br>MO_Close: 0.20<br>AAPL_Close: 0.13<br>GOOGL_Close: 0.10",
          "Return: 26.65%<br>Volatility: 0.10<br>LMT_Close: 0.05<br>INTC_Close: 0.29<br>ZBH_Close: 0.23<br>NEE_Close: 0.30<br>VRTX_Close: 0.13",
          "Return: 17.63%<br>Volatility: 0.11<br>UA_Close: 0.15<br>ABT_Close: 0.31<br>MSFT_Close: 0.23<br>NEE_Close: 0.05<br>JPM_Close: 0.26",
          "Return: 31.04%<br>Volatility: 0.09<br>GM_Close: 0.12<br>KO_Close: 0.20<br>INTC_Close: 0.19<br>DE_Close: 0.27<br>MA_Close: 0.21",
          "Return: 5.98%<br>Volatility: 0.11<br>GE_Close: 0.26<br>GOOG_Close: 0.10<br>PYPL_Close: 0.02<br>CAT_Close: 0.29<br>MO_Close: 0.32",
          "Return: 5.65%<br>Volatility: 0.10<br>ACN_Close: 0.16<br>UA_Close: 0.15<br>JNJ_Close: 0.25<br>AEP_Close: 0.23<br>SRE_Close: 0.22",
          "Return: -2.35%<br>Volatility: 0.09<br>NKE_Close: 0.06<br>EXC_Close: 0.37<br>RDY_Close: 0.13<br>LLY_Close: 0.06<br>IBM_Close: 0.37",
          "Return: 29.43%<br>Volatility: 0.13<br>VRTX_Close: 0.21<br>AMGN_Close: 0.10<br>RTX_Close: 0.25<br>ABBV_Close: 0.18<br>BMY_Close: 0.26",
          "Return: -3.46%<br>Volatility: 0.11<br>GE_Close: 0.14<br>MO_Close: 0.46<br>NEE_Close: 0.12<br>GIS_Close: 0.06<br>MS_Close: 0.22",
          "Return: 19.50%<br>Volatility: 0.13<br>NEE_Close: 0.08<br>AMGN_Close: 0.05<br>RMD_Close: 0.36<br>UNH_Close: 0.10<br>MS_Close: 0.42",
          "Return: 19.35%<br>Volatility: 0.09<br>VZ_Close: 0.26<br>AAPL_Close: 0.10<br>BABA_Close: 0.17<br>DHR_Close: 0.35<br>PG_Close: 0.13",
          "Return: 35.00%<br>Volatility: 0.12<br>PG_Close: 0.06<br>MA_Close: 0.52<br>KR_Close: 0.04<br>JPM_Close: 0.19<br>VRTX_Close: 0.19",
          "Return: 19.59%<br>Volatility: 0.11<br>EW_Close: 0.17<br>PFE_Close: 0.02<br>SYK_Close: 0.42<br>VZ_Close: 0.27<br>GOOG_Close: 0.13",
          "Return: 21.67%<br>Volatility: 0.12<br>GM_Close: 0.30<br>RDY_Close: 0.13<br>CMCSA_Close: 0.16<br>INTC_Close: 0.31<br>NVDA_Close: 0.09",
          "Return: 7.48%<br>Volatility: 0.09<br>PM_Close: 0.10<br>PFE_Close: 0.47<br>BTI_Close: 0.31<br>GOOG_Close: 0.04<br>MRK_Close: 0.08",
          "Return: 44.76%<br>Volatility: 0.12<br>CAT_Close: 0.31<br>DE_Close: 0.34<br>ABT_Close: 0.03<br>UNH_Close: 0.09<br>HON_Close: 0.23",
          "Return: 18.68%<br>Volatility: 0.13<br>MRK_Close: 0.30<br>VRTX_Close: 0.28<br>COST_Close: 0.28<br>GM_Close: 0.04<br>NEE_Close: 0.10",
          "Return: 13.63%<br>Volatility: 0.09<br>MA_Close: 0.14<br>DIS_Close: 0.12<br>GM_Close: 0.25<br>JNJ_Close: 0.32<br>T_Close: 0.17",
          "Return: 19.74%<br>Volatility: 0.08<br>PEP_Close: 0.20<br>UNH_Close: 0.23<br>HD_Close: 0.15<br>MDT_Close: 0.25<br>NEE_Close: 0.17",
          "Return: 10.94%<br>Volatility: 0.10<br>CVX_Close: 0.33<br>NKE_Close: 0.31<br>DHR_Close: 0.18<br>NEE_Close: 0.09<br>KR_Close: 0.10",
          "Return: 20.19%<br>Volatility: 0.07<br>PEP_Close: 0.29<br>CVX_Close: 0.18<br>BSX_Close: 0.13<br>MCD_Close: 0.28<br>GOOG_Close: 0.12",
          "Return: 22.22%<br>Volatility: 0.09<br>GILD_Close: 0.10<br>HON_Close: 0.28<br>CRM_Close: 0.23<br>UNH_Close: 0.18<br>BMY_Close: 0.20",
          "Return: 27.18%<br>Volatility: 0.12<br>V_Close: 0.02<br>RTX_Close: 0.29<br>NVDA_Close: 0.15<br>ORCL_Close: 0.27<br>TMO_Close: 0.28",
          "Return: 16.98%<br>Volatility: 0.10<br>SYY_Close: 0.05<br>V_Close: 0.41<br>BSX_Close: 0.26<br>XOM_Close: 0.02<br>ORCL_Close: 0.26",
          "Return: 5.21%<br>Volatility: 0.10<br>SAP_Close: 0.35<br>PFE_Close: 0.17<br>TSLA_Close: 0.03<br>PG_Close: 0.30<br>UA_Close: 0.15",
          "Return: 27.42%<br>Volatility: 0.10<br>PM_Close: 0.06<br>XOM_Close: 0.30<br>ABT_Close: 0.05<br>SYY_Close: 0.28<br>CAT_Close: 0.30",
          "Return: 18.85%<br>Volatility: 0.08<br>VRTX_Close: 0.07<br>DHR_Close: 0.08<br>KO_Close: 0.36<br>HD_Close: 0.29<br>AMGN_Close: 0.20",
          "Return: 21.17%<br>Volatility: 0.12<br>AMZN_Close: 0.06<br>ORCL_Close: 0.46<br>GIS_Close: 0.16<br>EW_Close: 0.14<br>ABBV_Close: 0.18",
          "Return: 24.84%<br>Volatility: 0.09<br>XOM_Close: 0.14<br>ORCL_Close: 0.26<br>PFE_Close: 0.23<br>MCD_Close: 0.19<br>BABA_Close: 0.19",
          "Return: 26.62%<br>Volatility: 0.15<br>NVDA_Close: 0.27<br>BSX_Close: 0.30<br>PG_Close: 0.12<br>HON_Close: 0.04<br>GM_Close: 0.27",
          "Return: 18.44%<br>Volatility: 0.09<br>CSCO_Close: 0.24<br>ACN_Close: 0.26<br>DHR_Close: 0.31<br>MA_Close: 0.15<br>MRK_Close: 0.05",
          "Return: 20.45%<br>Volatility: 0.16<br>ADBE_Close: 0.28<br>CRM_Close: 0.17<br>RDY_Close: 0.30<br>AMD_Close: 0.08<br>CAT_Close: 0.17",
          "Return: 22.65%<br>Volatility: 0.09<br>AMZN_Close: 0.19<br>DUK_Close: 0.13<br>ACN_Close: 0.19<br>EXC_Close: 0.13<br>TMO_Close: 0.36",
          "Return: 27.93%<br>Volatility: 0.11<br>TSLA_Close: 0.04<br>INTC_Close: 0.42<br>LLY_Close: 0.13<br>MMM_Close: 0.29<br>AMZN_Close: 0.12",
          "Return: 21.73%<br>Volatility: 0.09<br>UA_Close: 0.02<br>META_Close: 0.40<br>CAT_Close: 0.10<br>PFE_Close: 0.42<br>REGN_Close: 0.06",
          "Return: 16.15%<br>Volatility: 0.10<br>GM_Close: 0.21<br>CMCSA_Close: 0.35<br>NEE_Close: 0.12<br>HD_Close: 0.05<br>SYY_Close: 0.27",
          "Return: 23.47%<br>Volatility: 0.13<br>EW_Close: 0.10<br>F_Close: 0.01<br>TXN_Close: 0.39<br>ABT_Close: 0.24<br>REGN_Close: 0.27",
          "Return: 7.88%<br>Volatility: 0.13<br>SYY_Close: 0.36<br>BABA_Close: 0.01<br>EXC_Close: 0.10<br>KR_Close: 0.18<br>GS_Close: 0.35",
          "Return: 8.18%<br>Volatility: 0.11<br>RTX_Close: 0.08<br>CVX_Close: 0.31<br>DHR_Close: 0.05<br>GS_Close: 0.30<br>F_Close: 0.26",
          "Return: 12.62%<br>Volatility: 0.10<br>F_Close: 0.07<br>HD_Close: 0.17<br>JPM_Close: 0.27<br>CPB_Close: 0.24<br>GOOG_Close: 0.26",
          "Return: 30.47%<br>Volatility: 0.14<br>GS_Close: 0.07<br>EW_Close: 0.37<br>ISRG_Close: 0.33<br>ACN_Close: 0.21<br>V_Close: 0.02",
          "Return: 26.38%<br>Volatility: 0.12<br>EW_Close: 0.05<br>DE_Close: 0.27<br>CSCO_Close: 0.19<br>SYK_Close: 0.12<br>EMR_Close: 0.37",
          "Return: 29.22%<br>Volatility: 0.12<br>DE_Close: 0.25<br>NFLX_Close: 0.35<br>VZ_Close: 0.04<br>XOM_Close: 0.27<br>HD_Close: 0.09",
          "Return: 18.47%<br>Volatility: 0.10<br>MDT_Close: 0.15<br>CMCSA_Close: 0.26<br>SAP_Close: 0.13<br>T_Close: 0.21<br>ABBV_Close: 0.25",
          "Return: 22.05%<br>Volatility: 0.09<br>VZ_Close: 0.10<br>WMT_Close: 0.27<br>GS_Close: 0.08<br>RMD_Close: 0.26<br>PEP_Close: 0.28",
          "Return: 26.23%<br>Volatility: 0.14<br>NFLX_Close: 0.40<br>AMGN_Close: 0.13<br>MCD_Close: 0.11<br>EXC_Close: 0.12<br>SYK_Close: 0.24",
          "Return: 26.41%<br>Volatility: 0.13<br>F_Close: 0.24<br>NFLX_Close: 0.25<br>BIIB_Close: 0.24<br>BA_Close: 0.18<br>INTC_Close: 0.09",
          "Return: 7.31%<br>Volatility: 0.09<br>EMR_Close: 0.13<br>CRM_Close: 0.08<br>WFC_Close: 0.38<br>SRE_Close: 0.11<br>PM_Close: 0.29",
          "Return: 18.02%<br>Volatility: 0.15<br>NEE_Close: 0.14<br>TSLA_Close: 0.29<br>REGN_Close: 0.28<br>TXN_Close: 0.07<br>BAC_Close: 0.23",
          "Return: 18.94%<br>Volatility: 0.13<br>BSX_Close: 0.24<br>AMZN_Close: 0.18<br>KR_Close: 0.27<br>ABBV_Close: 0.26<br>EW_Close: 0.05",
          "Return: -8.84%<br>Volatility: 0.11<br>BSX_Close: 0.24<br>NFLX_Close: 0.23<br>GE_Close: 0.30<br>PM_Close: 0.22<br>VRTX_Close: 0.02",
          "Return: 27.33%<br>Volatility: 0.09<br>PYPL_Close: 0.25<br>SO_Close: 0.11<br>PEP_Close: 0.28<br>DHR_Close: 0.07<br>LMT_Close: 0.28",
          "Return: 12.04%<br>Volatility: 0.11<br>AMZN_Close: 0.00<br>SYK_Close: 0.25<br>MO_Close: 0.34<br>GOOGL_Close: 0.20<br>BTI_Close: 0.22",
          "Return: 31.68%<br>Volatility: 0.12<br>ABT_Close: 0.05<br>JPM_Close: 0.30<br>AMZN_Close: 0.26<br>CVX_Close: 0.00<br>MSFT_Close: 0.39",
          "Return: -14.31%<br>Volatility: 0.18<br>UA_Close: 0.29<br>RMD_Close: 0.05<br>BTI_Close: 0.20<br>RDY_Close: 0.34<br>SO_Close: 0.12",
          "Return: 18.53%<br>Volatility: 0.10<br>ABT_Close: 0.22<br>BAC_Close: 0.16<br>BTI_Close: 0.27<br>GOOG_Close: 0.12<br>VZ_Close: 0.23",
          "Return: 23.75%<br>Volatility: 0.10<br>MDT_Close: 0.14<br>CRM_Close: 0.29<br>WFC_Close: 0.25<br>DE_Close: 0.28<br>ADBE_Close: 0.04",
          "Return: 1.11%<br>Volatility: 0.09<br>T_Close: 0.43<br>SO_Close: 0.30<br>BTI_Close: 0.06<br>DIS_Close: 0.01<br>BMY_Close: 0.21",
          "Return: 7.17%<br>Volatility: 0.09<br>DE_Close: 0.07<br>LMT_Close: 0.14<br>K_Close: 0.30<br>META_Close: 0.11<br>PM_Close: 0.37",
          "Return: 20.00%<br>Volatility: 0.10<br>CVX_Close: 0.43<br>ETN_Close: 0.16<br>UA_Close: 0.08<br>HD_Close: 0.21<br>PYPL_Close: 0.12",
          "Return: 15.93%<br>Volatility: 0.13<br>ZBH_Close: 0.01<br>BTI_Close: 0.30<br>SAP_Close: 0.02<br>CMCSA_Close: 0.51<br>DE_Close: 0.16",
          "Return: 9.16%<br>Volatility: 0.14<br>F_Close: 0.46<br>GM_Close: 0.39<br>VZ_Close: 0.02<br>EMR_Close: 0.04<br>BMY_Close: 0.09",
          "Return: 3.92%<br>Volatility: 0.19<br>ISRG_Close: 0.05<br>ACN_Close: 0.27<br>AMD_Close: 0.30<br>MDT_Close: 0.10<br>RTX_Close: 0.27",
          "Return: 28.55%<br>Volatility: 0.13<br>TXN_Close: 0.02<br>K_Close: 0.09<br>REGN_Close: 0.22<br>BABA_Close: 0.29<br>ABT_Close: 0.38",
          "Return: 20.09%<br>Volatility: 0.23<br>PFE_Close: 0.20<br>V_Close: 0.05<br>HON_Close: 0.06<br>AMD_Close: 0.28<br>BABA_Close: 0.41",
          "Return: 25.44%<br>Volatility: 0.10<br>ORCL_Close: 0.30<br>JPM_Close: 0.13<br>BMY_Close: 0.13<br>GOOGL_Close: 0.12<br>DE_Close: 0.32",
          "Return: 23.66%<br>Volatility: 0.09<br>RDY_Close: 0.08<br>JNJ_Close: 0.25<br>MCD_Close: 0.23<br>WMT_Close: 0.27<br>ZBH_Close: 0.17",
          "Return: 39.80%<br>Volatility: 0.16<br>WMT_Close: 0.17<br>VRTX_Close: 0.24<br>AMGN_Close: 0.26<br>NVDA_Close: 0.16<br>GOOG_Close: 0.17",
          "Return: 10.98%<br>Volatility: 0.08<br>BTI_Close: 0.14<br>AMZN_Close: 0.10<br>DUK_Close: 0.18<br>JPM_Close: 0.26<br>DIS_Close: 0.33",
          "Return: 16.74%<br>Volatility: 0.10<br>MO_Close: 0.17<br>EMR_Close: 0.31<br>DE_Close: 0.17<br>CSCO_Close: 0.13<br>GILD_Close: 0.21",
          "Return: 23.47%<br>Volatility: 0.08<br>MCD_Close: 0.17<br>NEE_Close: 0.24<br>AMGN_Close: 0.11<br>EMR_Close: 0.25<br>GOOG_Close: 0.24",
          "Return: 12.72%<br>Volatility: 0.11<br>UNH_Close: 0.03<br>CPB_Close: 0.28<br>XOM_Close: 0.05<br>MA_Close: 0.27<br>SYK_Close: 0.37",
          "Return: 10.65%<br>Volatility: 0.19<br>SNAP_Close: 0.24<br>ADBE_Close: 0.17<br>RMD_Close: 0.22<br>GM_Close: 0.13<br>ISRG_Close: 0.24",
          "Return: 12.32%<br>Volatility: 0.11<br>BTI_Close: 0.38<br>IBM_Close: 0.19<br>QCOM_Close: 0.09<br>AAPL_Close: 0.27<br>MCD_Close: 0.07",
          "Return: 17.39%<br>Volatility: 0.12<br>CPB_Close: 0.07<br>TXN_Close: 0.17<br>ZBH_Close: 0.17<br>SYK_Close: 0.19<br>BAC_Close: 0.39",
          "Return: 7.91%<br>Volatility: 0.11<br>NFLX_Close: 0.26<br>CPB_Close: 0.08<br>GE_Close: 0.15<br>NEE_Close: 0.23<br>ORCL_Close: 0.28",
          "Return: 13.69%<br>Volatility: 0.07<br>KO_Close: 0.32<br>ZBH_Close: 0.20<br>PG_Close: 0.17<br>ACN_Close: 0.21<br>SAP_Close: 0.10",
          "Return: 4.17%<br>Volatility: 0.23<br>AMZN_Close: 0.32<br>BAC_Close: 0.15<br>AMD_Close: 0.33<br>T_Close: 0.10<br>PEP_Close: 0.09",
          "Return: 17.71%<br>Volatility: 0.15<br>T_Close: 0.12<br>HON_Close: 0.16<br>VZ_Close: 0.10<br>EW_Close: 0.54<br>BIIB_Close: 0.08",
          "Return: 22.10%<br>Volatility: 0.15<br>GM_Close: 0.26<br>UA_Close: 0.01<br>REGN_Close: 0.27<br>NFLX_Close: 0.28<br>ADBE_Close: 0.17",
          "Return: 12.89%<br>Volatility: 0.09<br>SRE_Close: 0.27<br>AAPL_Close: 0.17<br>COST_Close: 0.05<br>CRM_Close: 0.24<br>WFC_Close: 0.26",
          "Return: -9.16%<br>Volatility: 0.10<br>MDT_Close: 0.24<br>LMT_Close: 0.24<br>BABA_Close: 0.04<br>GE_Close: 0.35<br>MSFT_Close: 0.12",
          "Return: 16.50%<br>Volatility: 0.10<br>RTX_Close: 0.25<br>BTI_Close: 0.08<br>MRK_Close: 0.08<br>MS_Close: 0.27<br>GOOGL_Close: 0.31",
          "Return: 22.02%<br>Volatility: 0.13<br>NFLX_Close: 0.01<br>MO_Close: 0.18<br>AMZN_Close: 0.47<br>GS_Close: 0.24<br>INTC_Close: 0.10",
          "Return: 25.81%<br>Volatility: 0.11<br>EXC_Close: 0.35<br>NFLX_Close: 0.16<br>UNH_Close: 0.13<br>GOOG_Close: 0.32<br>ADBE_Close: 0.04",
          "Return: 0.79%<br>Volatility: 0.10<br>AEP_Close: 0.12<br>BTI_Close: 0.33<br>MRK_Close: 0.43<br>BABA_Close: 0.00<br>GM_Close: 0.12",
          "Return: 41.07%<br>Volatility: 0.11<br>SAP_Close: 0.40<br>AMZN_Close: 0.00<br>V_Close: 0.06<br>ABBV_Close: 0.43<br>CAT_Close: 0.11",
          "Return: -7.70%<br>Volatility: 0.11<br>RDY_Close: 0.26<br>PFE_Close: 0.23<br>SRE_Close: 0.25<br>GE_Close: 0.09<br>AMGN_Close: 0.17",
          "Return: 29.16%<br>Volatility: 0.12<br>MSFT_Close: 0.30<br>PM_Close: 0.23<br>TSLA_Close: 0.11<br>ISRG_Close: 0.32<br>PEP_Close: 0.04",
          "Return: 24.71%<br>Volatility: 0.07<br>MCD_Close: 0.29<br>LMT_Close: 0.11<br>PFE_Close: 0.15<br>MO_Close: 0.09<br>MMM_Close: 0.36",
          "Return: 21.46%<br>Volatility: 0.10<br>SAP_Close: 0.27<br>CSCO_Close: 0.04<br>SYK_Close: 0.33<br>TXN_Close: 0.15<br>DHR_Close: 0.21",
          "Return: 24.91%<br>Volatility: 0.09<br>EXC_Close: 0.24<br>BA_Close: 0.28<br>F_Close: 0.34<br>AMZN_Close: 0.01<br>V_Close: 0.13",
          "Return: 22.86%<br>Volatility: 0.10<br>IBM_Close: 0.21<br>BIIB_Close: 0.03<br>NEE_Close: 0.18<br>ISRG_Close: 0.37<br>SYK_Close: 0.21",
          "Return: 16.60%<br>Volatility: 0.17<br>GM_Close: 0.09<br>NEE_Close: 0.20<br>AMD_Close: 0.18<br>MA_Close: 0.30<br>TSLA_Close: 0.22",
          "Return: 7.17%<br>Volatility: 0.16<br>AMD_Close: 0.00<br>GILD_Close: 0.10<br>REGN_Close: 0.25<br>GOOGL_Close: 0.03<br>CMCSA_Close: 0.63",
          "Return: 9.93%<br>Volatility: 0.16<br>ACN_Close: 0.35<br>BSX_Close: 0.00<br>WMT_Close: 0.23<br>SNAP_Close: 0.19<br>BIIB_Close: 0.24",
          "Return: 38.72%<br>Volatility: 0.15<br>AAPL_Close: 0.03<br>EMR_Close: 0.06<br>MSFT_Close: 0.43<br>VRTX_Close: 0.25<br>HON_Close: 0.24",
          "Return: 32.11%<br>Volatility: 0.10<br>VZ_Close: 0.05<br>RTX_Close: 0.21<br>ETN_Close: 0.03<br>PFE_Close: 0.32<br>CAT_Close: 0.38"
         ],
         "type": "scatter",
         "x": {
          "bdata": "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",
          "dtype": "f8"
         },
         "y": {
          "bdata": "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",
          "dtype": "f8"
         }
        }
       ],
       "layout": {
        "template": {
         "data": {
          "bar": [
           {
            "error_x": {
             "color": "#2a3f5f"
            },
            "error_y": {
             "color": "#2a3f5f"
            },
            "marker": {
             "line": {
              "color": "#E5ECF6",
              "width": 0.5
             },
             "pattern": {
              "fillmode": "overlay",
              "size": 10,
              "solidity": 0.2
             }
            },
            "type": "bar"
           }
          ],
          "barpolar": [
           {
            "marker": {
             "line": {
              "color": "#E5ECF6",
              "width": 0.5
             },
             "pattern": {
              "fillmode": "overlay",
              "size": 10,
              "solidity": 0.2
             }
            },
            "type": "barpolar"
           }
          ],
          "carpet": [
           {
            "aaxis": {
             "endlinecolor": "#2a3f5f",
             "gridcolor": "white",
             "linecolor": "white",
             "minorgridcolor": "white",
             "startlinecolor": "#2a3f5f"
            },
            "baxis": {
             "endlinecolor": "#2a3f5f",
             "gridcolor": "white",
             "linecolor": "white",
             "minorgridcolor": "white",
             "startlinecolor": "#2a3f5f"
            },
            "type": "carpet"
           }
          ],
          "choropleth": [
           {
            "colorbar": {
             "outlinewidth": 0,
             "ticks": ""
            },
            "type": "choropleth"
           }
          ],
          "contour": [
           {
            "colorbar": {
             "outlinewidth": 0,
             "ticks": ""
            },
            "colorscale": [
             [
              0,
              "#0d0887"
             ],
             [
              0.1111111111111111,
              "#46039f"
             ],
             [
              0.2222222222222222,
              "#7201a8"
             ],
             [
              0.3333333333333333,
              "#9c179e"
             ],
             [
              0.4444444444444444,
              "#bd3786"
             ],
             [
              0.5555555555555556,
              "#d8576b"
             ],
             [
              0.6666666666666666,
              "#ed7953"
             ],
             [
              0.7777777777777778,
              "#fb9f3a"
             ],
             [
              0.8888888888888888,
              "#fdca26"
             ],
             [
              1,
              "#f0f921"
             ]
            ],
            "type": "contour"
           }
          ],
          "contourcarpet": [
           {
            "colorbar": {
             "outlinewidth": 0,
             "ticks": ""
            },
            "type": "contourcarpet"
           }
          ],
          "heatmap": [
           {
            "colorbar": {
             "outlinewidth": 0,
             "ticks": ""
            },
            "colorscale": [
             [
              0,
              "#0d0887"
             ],
             [
              0.1111111111111111,
              "#46039f"
             ],
             [
              0.2222222222222222,
              "#7201a8"
             ],
             [
              0.3333333333333333,
              "#9c179e"
             ],
             [
              0.4444444444444444,
              "#bd3786"
             ],
             [
              0.5555555555555556,
              "#d8576b"
             ],
             [
              0.6666666666666666,
              "#ed7953"
             ],
             [
              0.7777777777777778,
              "#fb9f3a"
             ],
             [
              0.8888888888888888,
              "#fdca26"
             ],
             [
              1,
              "#f0f921"
             ]
            ],
            "type": "heatmap"
           }
          ],
          "histogram": [
           {
            "marker": {
             "pattern": {
              "fillmode": "overlay",
              "size": 10,
              "solidity": 0.2
             }
            },
            "type": "histogram"
           }
          ],
          "histogram2d": [
           {
            "colorbar": {
             "outlinewidth": 0,
             "ticks": ""
            },
            "colorscale": [
             [
              0,
              "#0d0887"
             ],
             [
              0.1111111111111111,
              "#46039f"
             ],
             [
              0.2222222222222222,
              "#7201a8"
             ],
             [
              0.3333333333333333,
              "#9c179e"
             ],
             [
              0.4444444444444444,
              "#bd3786"
             ],
             [
              0.5555555555555556,
              "#d8576b"
             ],
             [
              0.6666666666666666,
              "#ed7953"
             ],
             [
              0.7777777777777778,
              "#fb9f3a"
             ],
             [
              0.8888888888888888,
              "#fdca26"
             ],
             [
              1,
              "#f0f921"
             ]
            ],
            "type": "histogram2d"
           }
          ],
          "histogram2dcontour": [
           {
            "colorbar": {
             "outlinewidth": 0,
             "ticks": ""
            },
            "colorscale": [
             [
              0,
              "#0d0887"
             ],
             [
              0.1111111111111111,
              "#46039f"
             ],
             [
              0.2222222222222222,
              "#7201a8"
             ],
             [
              0.3333333333333333,
              "#9c179e"
             ],
             [
              0.4444444444444444,
              "#bd3786"
             ],
             [
              0.5555555555555556,
              "#d8576b"
             ],
             [
              0.6666666666666666,
              "#ed7953"
             ],
             [
              0.7777777777777778,
              "#fb9f3a"
             ],
             [
              0.8888888888888888,
              "#fdca26"
             ],
             [
              1,
              "#f0f921"
             ]
            ],
            "type": "histogram2dcontour"
           }
          ],
          "mesh3d": [
           {
            "colorbar": {
             "outlinewidth": 0,
             "ticks": ""
            },
            "type": "mesh3d"
           }
          ],
          "parcoords": [
           {
            "line": {
             "colorbar": {
              "outlinewidth": 0,
              "ticks": ""
             }
            },
            "type": "parcoords"
           }
          ],
          "pie": [
           {
            "automargin": true,
            "type": "pie"
           }
          ],
          "scatter": [
           {
            "fillpattern": {
             "fillmode": "overlay",
             "size": 10,
             "solidity": 0.2
            },
            "type": "scatter"
           }
          ],
          "scatter3d": [
           {
            "line": {
             "colorbar": {
              "outlinewidth": 0,
              "ticks": ""
             }
            },
            "marker": {
             "colorbar": {
              "outlinewidth": 0,
              "ticks": ""
             }
            },
            "type": "scatter3d"
           }
          ],
          "scattercarpet": [
           {
            "marker": {
             "colorbar": {
              "outlinewidth": 0,
              "ticks": ""
             }
            },
            "type": "scattercarpet"
           }
          ],
          "scattergeo": [
           {
            "marker": {
             "colorbar": {
              "outlinewidth": 0,
              "ticks": ""
             }
            },
            "type": "scattergeo"
           }
          ],
          "scattergl": [
           {
            "marker": {
             "colorbar": {
              "outlinewidth": 0,
              "ticks": ""
             }
            },
            "type": "scattergl"
           }
          ],
          "scattermap": [
           {
            "marker": {
             "colorbar": {
              "outlinewidth": 0,
              "ticks": ""
             }
            },
            "type": "scattermap"
           }
          ],
          "scattermapbox": [
           {
            "marker": {
             "colorbar": {
              "outlinewidth": 0,
              "ticks": ""
             }
            },
            "type": "scattermapbox"
           }
          ],
          "scatterpolar": [
           {
            "marker": {
             "colorbar": {
              "outlinewidth": 0,
              "ticks": ""
             }
            },
            "type": "scatterpolar"
           }
          ],
          "scatterpolargl": [
           {
            "marker": {
             "colorbar": {
              "outlinewidth": 0,
              "ticks": ""
             }
            },
            "type": "scatterpolargl"
           }
          ],
          "scatterternary": [
           {
            "marker": {
             "colorbar": {
              "outlinewidth": 0,
              "ticks": ""
             }
            },
            "type": "scatterternary"
           }
          ],
          "surface": [
           {
            "colorbar": {
             "outlinewidth": 0,
             "ticks": ""
            },
            "colorscale": [
             [
              0,
              "#0d0887"
             ],
             [
              0.1111111111111111,
              "#46039f"
             ],
             [
              0.2222222222222222,
              "#7201a8"
             ],
             [
              0.3333333333333333,
              "#9c179e"
             ],
             [
              0.4444444444444444,
              "#bd3786"
             ],
             [
              0.5555555555555556,
              "#d8576b"
             ],
             [
              0.6666666666666666,
              "#ed7953"
             ],
             [
              0.7777777777777778,
              "#fb9f3a"
             ],
             [
              0.8888888888888888,
              "#fdca26"
             ],
             [
              1,
              "#f0f921"
             ]
            ],
            "type": "surface"
           }
          ],
          "table": [
           {
            "cells": {
             "fill": {
              "color": "#EBF0F8"
             },
             "line": {
              "color": "white"
             }
            },
            "header": {
             "fill": {
              "color": "#C8D4E3"
             },
             "line": {
              "color": "white"
             }
            },
            "type": "table"
           }
          ]
         },
         "layout": {
          "annotationdefaults": {
           "arrowcolor": "#2a3f5f",
           "arrowhead": 0,
           "arrowwidth": 1
          },
          "autotypenumbers": "strict",
          "coloraxis": {
           "colorbar": {
            "outlinewidth": 0,
            "ticks": ""
           }
          },
          "colorscale": {
           "diverging": [
            [
             0,
             "#8e0152"
            ],
            [
             0.1,
             "#c51b7d"
            ],
            [
             0.2,
             "#de77ae"
            ],
            [
             0.3,
             "#f1b6da"
            ],
            [
             0.4,
             "#fde0ef"
            ],
            [
             0.5,
             "#f7f7f7"
            ],
            [
             0.6,
             "#e6f5d0"
            ],
            [
             0.7,
             "#b8e186"
            ],
            [
             0.8,
             "#7fbc41"
            ],
            [
             0.9,
             "#4d9221"
            ],
            [
             1,
             "#276419"
            ]
           ],
           "sequential": [
            [
             0,
             "#0d0887"
            ],
            [
             0.1111111111111111,
             "#46039f"
            ],
            [
             0.2222222222222222,
             "#7201a8"
            ],
            [
             0.3333333333333333,
             "#9c179e"
            ],
            [
             0.4444444444444444,
             "#bd3786"
            ],
            [
             0.5555555555555556,
             "#d8576b"
            ],
            [
             0.6666666666666666,
             "#ed7953"
            ],
            [
             0.7777777777777778,
             "#fb9f3a"
            ],
            [
             0.8888888888888888,
             "#fdca26"
            ],
            [
             1,
             "#f0f921"
            ]
           ],
           "sequentialminus": [
            [
             0,
             "#0d0887"
            ],
            [
             0.1111111111111111,
             "#46039f"
            ],
            [
             0.2222222222222222,
             "#7201a8"
            ],
            [
             0.3333333333333333,
             "#9c179e"
            ],
            [
             0.4444444444444444,
             "#bd3786"
            ],
            [
             0.5555555555555556,
             "#d8576b"
            ],
            [
             0.6666666666666666,
             "#ed7953"
            ],
            [
             0.7777777777777778,
             "#fb9f3a"
            ],
            [
             0.8888888888888888,
             "#fdca26"
            ],
            [
             1,
             "#f0f921"
            ]
           ]
          },
          "colorway": [
           "#636efa",
           "#EF553B",
           "#00cc96",
           "#ab63fa",
           "#FFA15A",
           "#19d3f3",
           "#FF6692",
           "#B6E880",
           "#FF97FF",
           "#FECB52"
          ],
          "font": {
           "color": "#2a3f5f"
          },
          "geo": {
           "bgcolor": "white",
           "lakecolor": "white",
           "landcolor": "#E5ECF6",
           "showlakes": true,
           "showland": true,
           "subunitcolor": "white"
          },
          "hoverlabel": {
           "align": "left"
          },
          "hovermode": "closest",
          "mapbox": {
           "style": "light"
          },
          "paper_bgcolor": "white",
          "plot_bgcolor": "#E5ECF6",
          "polar": {
           "angularaxis": {
            "gridcolor": "white",
            "linecolor": "white",
            "ticks": ""
           },
           "bgcolor": "#E5ECF6",
           "radialaxis": {
            "gridcolor": "white",
            "linecolor": "white",
            "ticks": ""
           }
          },
          "scene": {
           "xaxis": {
            "backgroundcolor": "#E5ECF6",
            "gridcolor": "white",
            "gridwidth": 2,
            "linecolor": "white",
            "showbackground": true,
            "ticks": "",
            "zerolinecolor": "white"
           },
           "yaxis": {
            "backgroundcolor": "#E5ECF6",
            "gridcolor": "white",
            "gridwidth": 2,
            "linecolor": "white",
            "showbackground": true,
            "ticks": "",
            "zerolinecolor": "white"
           },
           "zaxis": {
            "backgroundcolor": "#E5ECF6",
            "gridcolor": "white",
            "gridwidth": 2,
            "linecolor": "white",
            "showbackground": true,
            "ticks": "",
            "zerolinecolor": "white"
           }
          },
          "shapedefaults": {
           "line": {
            "color": "#2a3f5f"
           }
          },
          "ternary": {
           "aaxis": {
            "gridcolor": "white",
            "linecolor": "white",
            "ticks": ""
           },
           "baxis": {
            "gridcolor": "white",
            "linecolor": "white",
            "ticks": ""
           },
           "bgcolor": "#E5ECF6",
           "caxis": {
            "gridcolor": "white",
            "linecolor": "white",
            "ticks": ""
           }
          },
          "title": {
           "x": 0.05
          },
          "xaxis": {
           "automargin": true,
           "gridcolor": "white",
           "linecolor": "white",
           "ticks": "",
           "title": {
            "standoff": 15
           },
           "zerolinecolor": "white",
           "zerolinewidth": 2
          },
          "yaxis": {
           "automargin": true,
           "gridcolor": "white",
           "linecolor": "white",
           "ticks": "",
           "title": {
            "standoff": 15
           },
           "zerolinecolor": "white",
           "zerolinewidth": 2
          }
         }
        },
        "title": {
         "text": "Sample of Random Portfolios"
        },
        "xaxis": {
         "title": {
          "text": "Volatility (Standard Deviation)"
         }
        },
        "yaxis": {
         "title": {
          "text": "Annualised Returns"
         }
        }
       }
      }
     },
     "metadata": {},
     "output_type": "display_data"
    }
   ],
   "source": [
    "fig = go.Figure()\n",
    "fig.add_trace(go.Scatter(\n",
    "    x=mean_variance_pairs[:, 1]**0.5,  # Volatility\n",
    "    y=mean_variance_pairs[:, 0],  # Returns\n",
    "    mode='markers',\n",
    "    marker=dict(\n",
    "        color=(mean_variance_pairs[:, 0]-risk_free_rate)/(mean_variance_pairs[:, 1]**0.5),  # Sharpe ratio\n",
    "        showscale=True,\n",
    "        size=7,\n",
    "        line=dict(width=1),\n",
    "        colorscale=\"RdBu\",\n",
    "        colorbar=dict(title=\"Sharpe<br>Ratio\")\n",
    "    ),\n",
    "    text=hover_texts  # Use the prepared hover texts\n",
    "))\n",
    "\n",
    "fig.update_layout(\n",
    "    xaxis=dict(title='Volatility (Standard Deviation)'),\n",
    "    yaxis=dict(title='Annualised Returns'),\n",
    "    title='Sample of Random Portfolios'\n",
    ")\n",
    "\n",
    "fig.show()"
   ]
  },
  {
   "cell_type": "code",
   "execution_count": 56,
   "metadata": {},
   "outputs": [
    {
     "name": "stderr",
     "output_type": "stream",
     "text": [
      "100%|██████████| 10000/10000 [00:02<00:00, 4794.54it/s]\n"
     ]
    }
   ],
   "source": [
    "##n_assets = 3\n",
    "mean_variance_pairs = []\n",
    "weights_list = []\n",
    "tickers_list = []\n",
    "hover_texts = [] \n",
    "\n",
    "for _ in tqdm(range(10000)):\n",
    "    next_i = False\n",
    "    while True:\n",
    "        temp =  np.random.randint(3, 6)\n",
    "        assets = np.random.choice(list(raw_data.columns), temp, replace=False)\n",
    "        weights = np.random.rand(temp)\n",
    "        weights /= weights.sum()\n",
    "\n",
    "        portfolio_E_Variance = 0\n",
    "        portfolio_E_Return = 0\n",
    "        for i in range(len(assets)):\n",
    "            portfolio_E_Return += weights[i] * annualized_returns.loc[assets[i]]\n",
    "            for j in range(len(assets)):\n",
    "                portfolio_E_Variance += weights[i] * weights[j] * cov.loc[assets[i], assets[j]]\n",
    "\n",
    "        # Check for dominated portfolios\n",
    "        for R, V in mean_variance_pairs:\n",
    "            if (R > portfolio_E_Return) & (V < portfolio_E_Variance):\n",
    "                next_i = True\n",
    "                break\n",
    "\n",
    "        if next_i:\n",
    "            break\n",
    "\n",
    "        mean_variance_pairs.append([portfolio_E_Return, portfolio_E_Variance])\n",
    "        weights_list.append(weights)\n",
    "        tickers_list.append(assets)\n",
    "        \n",
    "        # Generate hover text for the current portfolio\n",
    "        hover_text = \"<br>\".join([f\"{assets[i]}: Weight={weights[i]:.2f}\" for i in range(temp)])\n",
    "        hover_texts.append(f\"Return: {portfolio_E_Return:.2%}<br>Volatility: {portfolio_E_Variance**0.5:.2f}<br>{hover_text}\")\n",
    "        \n",
    "        break\n",
    "\n",
    "mean_variance_pairs = np.array(mean_variance_pairs)\n"
   ]
  },
  {
   "cell_type": "code",
   "execution_count": 57,
   "metadata": {},
   "outputs": [
    {
     "data": {
      "text/plain": [
       "91"
      ]
     },
     "execution_count": 57,
     "metadata": {},
     "output_type": "execute_result"
    }
   ],
   "source": [
    "len(mean_variance_pairs)"
   ]
  },
  {
   "cell_type": "code",
   "execution_count": 61,
   "metadata": {},
   "outputs": [
    {
     "data": {
      "application/vnd.plotly.v1+json": {
       "config": {
        "plotlyServerURL": "https://plot.ly"
       },
       "data": [
        {
         "hoverinfo": "text",
         "marker": {
          "color": {
           "bdata": "XovKAsEW/D+Mg9+AEoYGQJ6XqzfLHf0/zoE/6ljBB0DRdM6Q2bYGQFnQ/6IRJQJAcUKBEcwxDkCLOfERVnEIQPu7AsYAwgtABTZ5i8qaA0DSJr14LpoHQAqzZP891vk/3wJ8sJNpCUAInEeoXWUMQM6T/3vaLwJA6y8oemUFBUAgCthvefYOQA/ZXHd+eApAcM5DWnF+AEAfvujTi74GQORCpe+BIQJAQAVDbg4o8j/QHy/lm2gHQHzjHwYFOgxAtyHp1fGm8T8Q67JLzs0OQDAuHHo7AQ5ALC4VRqX0EEAsJt92sJ4CQDYEKamGTgtAUJfLSsJUD0AbYnyAgMIQQL92mRG0ExBAI2suf9zHBEDDVBBeb0z9P+deG2yiTwVASRTRUPnSEEAshATwsrEDQBIhVITIchFAhkXDSw/ICUA2VeMd+sUFQEXUyqNCgBFAZgDm3lMnC0AXyZfdy+oIQKjPQiVYiwNAKTDjNfobDUD0P7tgeSUOQJwiDti2hgxA4z4j36MQB0AowYwuBLUGQE+uSv8laAtAszlsPR+8DUASY31DmGoPQGfHt7+c1gRAVcPIcSvlEEDe9tXvexkQQOLVspnumQhArpWRZl77CUDMO5HsP6gAQL42LHbGhxFAcVA3HfYlBUCujjpM4ysRQNXyj76Ljg5Ab2gAyw5iEEBT6lwlUv4HQKbtOF27ZgdAT5aU4gJEAUB2t7y3vw0CQJVbiStrgBBAhOOAIp+eDUCbqYjLzggQQB6mwif0mghA3Kv5tL4UCUCfO9bbOZISQMs9C0PDcRBAn+yEb6R1D0AjgV3VmhkPQE3piTaNwAlAWBFafGx1EEBpbc565BsMQD47bopuhBBAkZtawR0tCECHrgnpqhkIQLFyOki8rBBAz8cs53kWDEDOSxIe98ALQMrD2cMR/QtA2NxO7oqfEEDBmeSDyzsGQApsskGWewtAQi3axFWVEEA=",
           "dtype": "f8"
          },
          "colorbar": {
           "title": {
            "text": "Sharpe<br>Ratio"
           }
          },
          "colorscale": [
           [
            0,
            "rgb(103,0,31)"
           ],
           [
            0.1,
            "rgb(178,24,43)"
           ],
           [
            0.2,
            "rgb(214,96,77)"
           ],
           [
            0.3,
            "rgb(244,165,130)"
           ],
           [
            0.4,
            "rgb(253,219,199)"
           ],
           [
            0.5,
            "rgb(247,247,247)"
           ],
           [
            0.6,
            "rgb(209,229,240)"
           ],
           [
            0.7,
            "rgb(146,197,222)"
           ],
           [
            0.8,
            "rgb(67,147,195)"
           ],
           [
            0.9,
            "rgb(33,102,172)"
           ],
           [
            1,
            "rgb(5,48,97)"
           ]
          ],
          "line": {
           "width": 1
          },
          "showscale": true,
          "size": 7
         },
         "mode": "markers",
         "text": [
          "Return: 18.30%<br>Volatility: 0.10<br>WFC_Close: Weight=0.05<br>ACN_Close: Weight=0.24<br>ORCL_Close: Weight=0.20<br>RMD_Close: Weight=0.26<br>ETN_Close: Weight=0.24",
          "Return: 34.21%<br>Volatility: 0.12<br>MSFT_Close: Weight=0.52<br>V_Close: Weight=0.32<br>INTC_Close: Weight=0.16",
          "Return: 18.46%<br>Volatility: 0.10<br>AEP_Close: Weight=0.15<br>ETN_Close: Weight=0.52<br>ACN_Close: Weight=0.33",
          "Return: 23.41%<br>Volatility: 0.08<br>TMO_Close: Weight=0.23<br>NEE_Close: Weight=0.25<br>BAC_Close: Weight=0.23<br>ORCL_Close: Weight=0.13<br>MCD_Close: Weight=0.17",
          "Return: 41.30%<br>Volatility: 0.15<br>BABA_Close: Weight=0.33<br>KO_Close: Weight=0.24<br>BAC_Close: Weight=0.21<br>VRTX_Close: Weight=0.22<br>JNJ_Close: Weight=0.00",
          "Return: 44.61%<br>Volatility: 0.20<br>DIS_Close: Weight=0.12<br>EW_Close: Weight=0.12<br>NVDA_Close: Weight=0.37<br>META_Close: Weight=0.39",
          "Return: 36.14%<br>Volatility: 0.10<br>CAT_Close: Weight=0.27<br>DIS_Close: Weight=0.33<br>ABBV_Close: Weight=0.31<br>ABT_Close: Weight=0.09",
          "Return: 39.94%<br>Volatility: 0.13<br>ABBV_Close: Weight=0.61<br>COST_Close: Weight=0.03<br>V_Close: Weight=0.14<br>BTI_Close: Weight=0.23",
          "Return: 41.28%<br>Volatility: 0.12<br>BABA_Close: Weight=0.38<br>WMT_Close: Weight=0.14<br>MMM_Close: Weight=0.29<br>RMD_Close: Weight=0.04<br>SYY_Close: Weight=0.15",
          "Return: 19.19%<br>Volatility: 0.08<br>GS_Close: Weight=0.00<br>GM_Close: Weight=0.07<br>PG_Close: Weight=0.07<br>MSFT_Close: Weight=0.23<br>AEP_Close: Weight=0.62",
          "Return: 28.17%<br>Volatility: 0.10<br>CAT_Close: Weight=0.08<br>V_Close: Weight=0.28<br>UNH_Close: Weight=0.32<br>QCOM_Close: Weight=0.22<br>K_Close: Weight=0.10",
          "Return: 12.20%<br>Volatility: 0.08<br>PEP_Close: Weight=0.52<br>DUK_Close: Weight=0.32<br>SAP_Close: Weight=0.16",
          "Return: 37.70%<br>Volatility: 0.12<br>BABA_Close: Weight=0.02<br>MCD_Close: Weight=0.74<br>MSFT_Close: Weight=0.25",
          "Return: 28.97%<br>Volatility: 0.08<br>ACN_Close: Weight=0.31<br>DUK_Close: Weight=0.34<br>EMR_Close: Weight=0.05<br>KO_Close: Weight=0.02<br>BA_Close: Weight=0.29",
          "Return: 52.33%<br>Volatility: 0.23<br>WMT_Close: Weight=0.01<br>NVDA_Close: Weight=0.49<br>GOOG_Close: Weight=0.44<br>PFE_Close: Weight=0.07",
          "Return: 20.18%<br>Volatility: 0.08<br>ABT_Close: Weight=0.02<br>LMT_Close: Weight=0.48<br>DUK_Close: Weight=0.34<br>MSFT_Close: Weight=0.16",
          "Return: 35.60%<br>Volatility: 0.09<br>CAT_Close: Weight=0.16<br>UNH_Close: Weight=0.12<br>ISRG_Close: Weight=0.19<br>NKE_Close: Weight=0.04<br>LMT_Close: Weight=0.49",
          "Return: 25.48%<br>Volatility: 0.08<br>HON_Close: Weight=0.30<br>T_Close: Weight=0.15<br>MCD_Close: Weight=0.24<br>V_Close: Weight=0.30",
          "Return: 15.07%<br>Volatility: 0.07<br>JPM_Close: Weight=0.21<br>TXN_Close: Weight=0.04<br>RMD_Close: Weight=0.18<br>ACN_Close: Weight=0.11<br>DUK_Close: Weight=0.47",
          "Return: 51.63%<br>Volatility: 0.18<br>COST_Close: Weight=0.09<br>DE_Close: Weight=0.43<br>PFE_Close: Weight=0.10<br>NVDA_Close: Weight=0.37",
          "Return: 51.67%<br>Volatility: 0.23<br>RMD_Close: Weight=0.08<br>NVDA_Close: Weight=0.46<br>GOOG_Close: Weight=0.46",
          "Return: 8.14%<br>Volatility: 0.07<br>MDT_Close: Weight=0.05<br>SRE_Close: Weight=0.26<br>DUK_Close: Weight=0.26<br>PFE_Close: Weight=0.29<br>CRM_Close: Weight=0.15",
          "Return: 49.04%<br>Volatility: 0.17<br>NEE_Close: Weight=0.37<br>BABA_Close: Weight=0.54<br>NVDA_Close: Weight=0.08",
          "Return: 50.51%<br>Volatility: 0.14<br>CAT_Close: Weight=0.34<br>ISRG_Close: Weight=0.61<br>MDT_Close: Weight=0.05",
          "Return: 7.53%<br>Volatility: 0.07<br>ACN_Close: Weight=0.14<br>F_Close: Weight=0.19<br>HD_Close: Weight=0.06<br>PG_Close: Weight=0.34<br>SO_Close: Weight=0.26",
          "Return: 30.51%<br>Volatility: 0.08<br>JNJ_Close: Weight=0.23<br>DUK_Close: Weight=0.16<br>HON_Close: Weight=0.31<br>BA_Close: Weight=0.30",
          "Return: 41.12%<br>Volatility: 0.11<br>AEP_Close: Weight=0.07<br>JNJ_Close: Weight=0.23<br>CAT_Close: Weight=0.38<br>TXN_Close: Weight=0.33",
          "Return: 51.79%<br>Volatility: 0.12<br>ABT_Close: Weight=0.06<br>V_Close: Weight=0.05<br>BA_Close: Weight=0.35<br>ZBH_Close: Weight=0.11<br>CAT_Close: Weight=0.42",
          "Return: 16.09%<br>Volatility: 0.07<br>LLY_Close: Weight=0.22<br>LMT_Close: Weight=0.25<br>JPM_Close: Weight=0.21<br>AEP_Close: Weight=0.32",
          "Return: 36.48%<br>Volatility: 0.11<br>ABBV_Close: Weight=0.29<br>V_Close: Weight=0.59<br>EMR_Close: Weight=0.12",
          "Return: 38.99%<br>Volatility: 0.10<br>SYY_Close: Weight=0.28<br>MA_Close: Weight=0.31<br>BA_Close: Weight=0.35<br>SNAP_Close: Weight=0.00<br>AAPL_Close: Weight=0.05",
          "Return: 38.38%<br>Volatility: 0.09<br>ABT_Close: Weight=0.25<br>WMT_Close: Weight=0.26<br>BA_Close: Weight=0.23<br>V_Close: Weight=0.07<br>SYK_Close: Weight=0.19",
          "Return: 44.15%<br>Volatility: 0.11<br>ABBV_Close: Weight=0.41<br>TXN_Close: Weight=0.32<br>MCD_Close: Weight=0.27",
          "Return: 19.20%<br>Volatility: 0.07<br>V_Close: Weight=0.23<br>XOM_Close: Weight=0.34<br>HON_Close: Weight=0.42",
          "Return: 55.19%<br>Volatility: 0.30<br>AAPL_Close: Weight=0.15<br>ABBV_Close: Weight=0.10<br>VRTX_Close: Weight=0.75",
          "Return: 19.48%<br>Volatility: 0.07<br>GM_Close: Weight=0.18<br>JNJ_Close: Weight=0.16<br>DIS_Close: Weight=0.04<br>NEE_Close: Weight=0.37<br>SAP_Close: Weight=0.25",
          "Return: 50.93%<br>Volatility: 0.12<br>GOOG_Close: Weight=0.14<br>BA_Close: Weight=0.30<br>PYPL_Close: Weight=0.29<br>MCD_Close: Weight=0.26",
          "Return: 17.43%<br>Volatility: 0.07<br>LMT_Close: Weight=0.35<br>JNJ_Close: Weight=0.15<br>ACN_Close: Weight=0.17<br>PG_Close: Weight=0.32<br>MMM_Close: Weight=0.02",
          "Return: 50.33%<br>Volatility: 0.12<br>LLY_Close: Weight=0.16<br>CAT_Close: Weight=0.36<br>BA_Close: Weight=0.42<br>GOOG_Close: Weight=0.06",
          "Return: 56.38%<br>Volatility: 0.17<br>UNH_Close: Weight=0.02<br>MCD_Close: Weight=0.29<br>PYPL_Close: Weight=0.68",
          "Return: 19.64%<br>Volatility: 0.07<br>BA_Close: Weight=0.05<br>META_Close: Weight=0.10<br>HON_Close: Weight=0.05<br>AEP_Close: Weight=0.54<br>CVX_Close: Weight=0.26",
          "Return: 49.74%<br>Volatility: 0.11<br>BA_Close: Weight=0.38<br>KO_Close: Weight=0.25<br>CAT_Close: Weight=0.38",
          "Return: 25.53%<br>Volatility: 0.08<br>MCD_Close: Weight=0.33<br>UNH_Close: Weight=0.08<br>DIS_Close: Weight=0.26<br>ISRG_Close: Weight=0.17<br>JNJ_Close: Weight=0.16",
          "Return: 22.79%<br>Volatility: 0.07<br>NEE_Close: Weight=0.40<br>HD_Close: Weight=0.09<br>VZ_Close: Weight=0.10<br>ORCL_Close: Weight=0.13<br>ACN_Close: Weight=0.29",
          "Return: 16.55%<br>Volatility: 0.07<br>LMT_Close: Weight=0.18<br>JNJ_Close: Weight=0.36<br>PEP_Close: Weight=0.04<br>KO_Close: Weight=0.42",
          "Return: 39.65%<br>Volatility: 0.11<br>GOOGL_Close: Weight=0.33<br>SYY_Close: Weight=0.22<br>BA_Close: Weight=0.45",
          "Return: 39.99%<br>Volatility: 0.11<br>PEP_Close: Weight=0.17<br>ABBV_Close: Weight=0.50<br>MCD_Close: Weight=0.24<br>EMR_Close: Weight=0.09",
          "Return: 32.32%<br>Volatility: 0.09<br>ABBV_Close: Weight=0.34<br>RTX_Close: Weight=0.18<br>AEP_Close: Weight=0.11<br>HON_Close: Weight=0.23<br>CRM_Close: Weight=0.14",
          "Return: 19.04%<br>Volatility: 0.07<br>XOM_Close: Weight=0.23<br>DUK_Close: Weight=0.28<br>WMT_Close: Weight=0.23<br>LMT_Close: Weight=0.22<br>GOOGL_Close: Weight=0.04",
          "Return: 20.29%<br>Volatility: 0.07<br>NEE_Close: Weight=0.22<br>LMT_Close: Weight=0.19<br>WFC_Close: Weight=0.22<br>SYY_Close: Weight=0.14<br>MMM_Close: Weight=0.23",
          "Return: 26.94%<br>Volatility: 0.08<br>PYPL_Close: Weight=0.09<br>MCD_Close: Weight=0.19<br>RTX_Close: Weight=0.23<br>AEP_Close: Weight=0.27<br>ACN_Close: Weight=0.23",
          "Return: 40.48%<br>Volatility: 0.11<br>V_Close: Weight=0.63<br>CAT_Close: Weight=0.09<br>ABBV_Close: Weight=0.29",
          "Return: 33.87%<br>Volatility: 0.09<br>ABT_Close: Weight=0.18<br>BABA_Close: Weight=0.20<br>GOOG_Close: Weight=0.01<br>WMT_Close: Weight=0.09<br>NEE_Close: Weight=0.52",
          "Return: 60.60%<br>Volatility: 0.23<br>DHR_Close: Weight=0.05<br>BABA_Close: Weight=0.44<br>CMCSA_Close: Weight=0.00<br>NVDA_Close: Weight=0.39<br>AEP_Close: Weight=0.12",
          "Return: 39.04%<br>Volatility: 0.09<br>BA_Close: Weight=0.22<br>HD_Close: Weight=0.19<br>UNH_Close: Weight=0.47<br>GOOG_Close: Weight=0.05<br>ACN_Close: Weight=0.07",
          "Return: 40.84%<br>Volatility: 0.10<br>KO_Close: Weight=0.18<br>CAT_Close: Weight=0.26<br>PYPL_Close: Weight=0.28<br>PEP_Close: Weight=0.28",
          "Return: 52.08%<br>Volatility: 0.17<br>NVDA_Close: Weight=0.25<br>WMT_Close: Weight=0.70<br>MA_Close: Weight=0.05",
          "Return: 23.58%<br>Volatility: 0.07<br>JPM_Close: Weight=0.18<br>NEE_Close: Weight=0.36<br>HON_Close: Weight=0.46",
          "Return: 62.59%<br>Volatility: 0.30<br>NVDA_Close: Weight=0.76<br>PG_Close: Weight=0.21<br>MS_Close: Weight=0.03",
          "Return: 44.91%<br>Volatility: 0.10<br>BA_Close: Weight=0.34<br>MA_Close: Weight=0.29<br>MCD_Close: Weight=0.37",
          "Return: 57.67%<br>Volatility: 0.22<br>BA_Close: Weight=0.27<br>NVDA_Close: Weight=0.52<br>MO_Close: Weight=0.21",
          "Return: 45.99%<br>Volatility: 0.11<br>DE_Close: Weight=0.12<br>ABBV_Close: Weight=0.35<br>TXN_Close: Weight=0.19<br>WMT_Close: Weight=0.34",
          "Return: 52.09%<br>Volatility: 0.14<br>CAT_Close: Weight=0.46<br>ISRG_Close: Weight=0.23<br>AMZN_Close: Weight=0.31",
          "Return: 41.66%<br>Volatility: 0.10<br>BA_Close: Weight=0.40<br>UNH_Close: Weight=0.30<br>LMT_Close: Weight=0.30",
          "Return: 21.09%<br>Volatility: 0.07<br>VZ_Close: Weight=0.14<br>DUK_Close: Weight=0.27<br>CVX_Close: Weight=0.17<br>MCD_Close: Weight=0.33<br>META_Close: Weight=0.10",
          "Return: 59.84%<br>Volatility: 0.20<br>PYPL_Close: Weight=0.44<br>SYK_Close: Weight=0.24<br>NVDA_Close: Weight=0.33",
          "Return: 13.32%<br>Volatility: 0.06<br>F_Close: Weight=0.12<br>NEE_Close: Weight=0.35<br>JPM_Close: Weight=0.05<br>KO_Close: Weight=0.31<br>DIS_Close: Weight=0.18",
          "Return: 74.09%<br>Volatility: 0.33<br>DE_Close: Weight=0.18<br>ISRG_Close: Weight=0.01<br>NVDA_Close: Weight=0.81",
          "Return: 46.56%<br>Volatility: 0.11<br>VRTX_Close: Weight=0.16<br>HON_Close: Weight=0.26<br>WMT_Close: Weight=0.26<br>BA_Close: Weight=0.31",
          "Return: 31.32%<br>Volatility: 0.08<br>MO_Close: Weight=0.02<br>MCD_Close: Weight=0.38<br>UNH_Close: Weight=0.21<br>HON_Close: Weight=0.38",
          "Return: 55.75%<br>Volatility: 0.14<br>PYPL_Close: Weight=0.42<br>BA_Close: Weight=0.43<br>SYY_Close: Weight=0.15",
          "Return: 21.94%<br>Volatility: 0.07<br>LLY_Close: Weight=0.13<br>KO_Close: Weight=0.29<br>UNH_Close: Weight=0.32<br>LMT_Close: Weight=0.27",
          "Return: 22.39%<br>Volatility: 0.07<br>DUK_Close: Weight=0.29<br>UNH_Close: Weight=0.08<br>HD_Close: Weight=0.27<br>HON_Close: Weight=0.36",
          "Return: 46.58%<br>Volatility: 0.10<br>HD_Close: Weight=0.20<br>DE_Close: Weight=0.18<br>BA_Close: Weight=0.32<br>WMT_Close: Weight=0.30",
          "Return: 39.47%<br>Volatility: 0.10<br>BA_Close: Weight=0.16<br>META_Close: Weight=0.24<br>UNH_Close: Weight=0.28<br>CAT_Close: Weight=0.18<br>NKE_Close: Weight=0.14",
          "Return: 33.88%<br>Volatility: 0.09<br>UNH_Close: Weight=0.34<br>PG_Close: Weight=0.24<br>HD_Close: Weight=0.20<br>CAT_Close: Weight=0.23",
          "Return: 35.45%<br>Volatility: 0.09<br>CAT_Close: Weight=0.27<br>KO_Close: Weight=0.32<br>DIS_Close: Weight=0.01<br>DE_Close: Weight=0.21<br>LMT_Close: Weight=0.20",
          "Return: 68.47%<br>Volatility: 0.21<br>WMT_Close: Weight=0.08<br>NVDA_Close: Weight=0.48<br>BA_Close: Weight=0.43",
          "Return: 59.22%<br>Volatility: 0.14<br>WMT_Close: Weight=0.25<br>PYPL_Close: Weight=0.42<br>CAT_Close: Weight=0.32",
          "Return: 27.31%<br>Volatility: 0.08<br>SYY_Close: Weight=0.10<br>HD_Close: Weight=0.30<br>MCD_Close: Weight=0.31<br>JNJ_Close: Weight=0.23<br>F_Close: Weight=0.06",
          "Return: 40.84%<br>Volatility: 0.10<br>MCD_Close: Weight=0.23<br>V_Close: Weight=0.31<br>ABT_Close: Weight=0.19<br>CAT_Close: Weight=0.26",
          "Return: 21.01%<br>Volatility: 0.07<br>KO_Close: Weight=0.23<br>NEE_Close: Weight=0.17<br>DUK_Close: Weight=0.11<br>META_Close: Weight=0.23<br>LMT_Close: Weight=0.25",
          "Return: 59.68%<br>Volatility: 0.20<br>ABBV_Close: Weight=0.18<br>SYY_Close: Weight=0.12<br>NVDA_Close: Weight=0.47<br>WMT_Close: Weight=0.23",
          "Return: 53.73%<br>Volatility: 0.13<br>BIIB_Close: Weight=0.11<br>ABBV_Close: Weight=0.43<br>CAT_Close: Weight=0.46",
          "Return: 26.44%<br>Volatility: 0.08<br>CVX_Close: Weight=0.17<br>DUK_Close: Weight=0.26<br>LMT_Close: Weight=0.21<br>AEP_Close: Weight=0.13<br>CAT_Close: Weight=0.24",
          "Return: 26.95%<br>Volatility: 0.08<br>ABT_Close: Weight=0.28<br>COST_Close: Weight=0.10<br>ORCL_Close: Weight=0.13<br>KO_Close: Weight=0.28<br>BA_Close: Weight=0.21",
          "Return: 26.85%<br>Volatility: 0.08<br>MRK_Close: Weight=0.15<br>KO_Close: Weight=0.24<br>MMM_Close: Weight=0.31<br>BA_Close: Weight=0.18<br>ABBV_Close: Weight=0.13",
          "Return: 36.31%<br>Volatility: 0.09<br>WMT_Close: Weight=0.21<br>ABBV_Close: Weight=0.26<br>NVDA_Close: Weight=0.08<br>EXC_Close: Weight=0.25<br>JPM_Close: Weight=0.21",
          "Return: 17.93%<br>Volatility: 0.06<br>BSX_Close: Weight=0.09<br>JNJ_Close: Weight=0.17<br>MCD_Close: Weight=0.25<br>NEE_Close: Weight=0.26<br>DIS_Close: Weight=0.23",
          "Return: 25.02%<br>Volatility: 0.07<br>JNJ_Close: Weight=0.21<br>MCD_Close: Weight=0.26<br>V_Close: Weight=0.24<br>AEP_Close: Weight=0.26<br>PFE_Close: Weight=0.03",
          "Return: 58.28%<br>Volatility: 0.14<br>BA_Close: Weight=0.77<br>ABBV_Close: Weight=0.23<br>BABA_Close: Weight=0.00"
         ],
         "type": "scatter",
         "x": {
          "bdata": "K2hkIQivuj+GqSDGuhq/P6kONwOZ9rk/nHJzdXwvtD+AyyxBOJ7CPzhx+Q6KLMk/dPyBr/WDuD/SV3zcu7vAP5a8FpTzdL4/Qc/ZbEIMtD9owz2BOnK4PwxwFGeYWLM/dgYDqdtivj92JClS9OS0P1aPttucds0/rfRK3T+osz/4Z7i1dIu3P8oIr5Mtt7M/Vnb3Ira0sj+CQC+ZOD7HP4gqzpxQLs0/+sVLyV1fsj/o4szZBHTFP7t0sq30UsI/mEUsQrt2sT9rBRjuwUi0P/u02JPOEbw/+N0zTTNHvz/JkEYZ0bGxPxT9nO56W7s/JNTpctZ8uT8KL/aeNXO3P3Q0JEovH7w//kHjcSjssj/hXo41sUnTP0k1kJGEubI/rfOlxFsAvz9IniCzhCCyP2luVYTwiL0/+kU+c9Vkxj/hl/tNVXqyP63CN5fAGr0/13nlINZBsz93qkcIlruyP76miGOiV7E/zEmGzjLluz9UvWytEiu7P8b9g3EcNLc/X4XozanosD+xfS2dyEuyP3yltPxIIrQ/UzO7XvLguz+m385iqBO2P3uMrv9qx80/7cjc6K+otz8LQK9m+vm5P7xqIMr0rMU/blq7jx+Wsj+ke2ZWsDzTP8tIhkIJO7o/fRZiFAbtyz83Frw/R2y7P78tkdnXdME/KfpLNocJuj/7s+Hk5gCyP6o3QSnYLso/a2hMHKKWrz88eGCFRQPVP4OXVh4M5bw/FxUPNAGntT/ep/UtE83BP9wSTDmLQrI/3Bf0NN9Isj8xJkN1uq65P5XPcKOwlLg/DFfoEG0Otj9DMWiXbVe3P88p7/2sOcs/YD0ZpxZswj9IhIKMzOWzPwBzCsueUbk/scJLhUnNsT+1oNHsAFvJP6WSu39Df8A/3Djhu8pGsz/cHrvh5uOzP1h9FjQ8pbM/11vGOMZetj8qxZjgBoWwP1P53lOdpbI/+RhP8QD+wT8=",
          "dtype": "f8"
         },
         "y": {
          "bdata": "L6/LZCBsxz8AWqFSsuTVP1eLGgenn8c/RNbR4i/4zT+XIN5DUm7aP51j4w9ujNw/9vtlu9wh1z+KMlWtIZDZP1Q2G0ZTa9o/PlYjqoKQyD8uU+NG4wfSP4poBQ56Pb8/TnmDOnwh2D8ZJU6ShYrSP8Q5MZzHvuA/7/OOEnXTyT/W2y3VFsjWP+Litd0RT9A/pvAYw4lIwz+yMI/pLYXgP4pCk5ibiOA/cib7fkjZtD/E7NgfCmPfPzwF71PPKeA/szz9wl5Esz/vK/CtqobTP7VEAWXGUdo/oJRnGbqS4D9kQLtUipfEP24Nq9RRWNc/WBynMnL02D9WiRrfRpDYP7MeD9DQQdw/qBH6ipCTyD9gOrm92qjhP8KGfhKw8Mg/ewCjxZFM4D/2gWUK8E/GPzaUJrGwGuA/SPVhrMcK4j8wiKMKMyXJP5jqsN271d8/wkKgYTdX0D/33hQuRyzNP7IuU7MZL8U/qomeixlg2T8GSS1dMpjZP0aceq9Hr9Q//Qfe7wlgyD98m73tMffJP35Nsup0PtE/kRU0bcDn2T/2NG9JlazVPy3i7VlaZOM/g5oqfI772D9BFAY1WiPaP7Vvdyj8qeA/ZhzTCJIuzj/HylVt+gbkP/5xHlFRvdw/9r8F1Kx04j/PqAxGRG7dP2VwSxVNq+A/e2gopRmp2j+S6R+pdv/KP55JsPy5JeM/kWGZECkLwT9cEOSmvLXnP0/2qQn2zN0/fldFWq0K1D+ZgVXK39bhPxAaJfanFMw/xEzryZGpzD9KSrEISc/dPxPNG752Q9k/ZYXzvQ+v1T+Fx6xoX6/WP+Fb31jh6OU/YnGF9Unz4j81ojbxanrRP5elRxUvI9o/YuHuwSDmyj8FcXE2lxjjPz7DKrddMeE/M9S2fnvr0D/jao/RO0DRP85e8xfILtE/DkA4SdY91z+zsiIepvTGP1RcGOLAA9A/wy7YzO6l4j8=",
          "dtype": "f8"
         }
        },
        {
         "hoverinfo": "text",
         "hovertext": [
          "RDY_Close <br>Volatility: 0.30 <br>Returns: -15.56% <br>Sharpe Ratio: -0.52",
          "SYY_Close <br>Volatility: 0.16 <br>Returns: 19.12% <br>Sharpe Ratio: 1.19",
          "RMD_Close <br>Volatility: 0.20 <br>Returns: 20.34% <br>Sharpe Ratio: 1.01",
          "GE_Close <br>Volatility: 0.21 <br>Returns: -62.75% <br>Sharpe Ratio: -2.95",
          "XOM_Close <br>Volatility: 0.10 <br>Returns: 3.88% <br>Sharpe Ratio: 0.37",
          "BAC_Close <br>Volatility: 0.21 <br>Returns: 20.36% <br>Sharpe Ratio: 0.97",
          "SAP_Close <br>Volatility: 0.14 <br>Returns: 22.38% <br>Sharpe Ratio: 1.63",
          "F_Close <br>Volatility: 0.17 <br>Returns: 3.00% <br>Sharpe Ratio: 0.18",
          "ISRG_Close <br>Volatility: 0.19 <br>Returns: 46.59% <br>Sharpe Ratio: 2.44",
          "ETN_Close <br>Volatility: 0.16 <br>Returns: 13.76% <br>Sharpe Ratio: 0.89",
          "PG_Close <br>Volatility: 0.10 <br>Returns: 4.02% <br>Sharpe Ratio: 0.41",
          "EMR_Close <br>Volatility: 0.16 <br>Returns: 20.27% <br>Sharpe Ratio: 1.25",
          "UA_Close <br>Volatility: 0.46 <br>Returns: -42.37% <br>Sharpe Ratio: -0.91",
          "K_Close <br>Volatility: 0.18 <br>Returns: -9.01% <br>Sharpe Ratio: -0.50",
          "PM_Close <br>Volatility: 0.14 <br>Returns: -0.16% <br>Sharpe Ratio: -0.01",
          "WMT_Close <br>Volatility: 0.18 <br>Returns: 43.06% <br>Sharpe Ratio: 2.37",
          "TMO_Close <br>Volatility: 0.16 <br>Returns: 21.55% <br>Sharpe Ratio: 1.32",
          "GIS_Close <br>Volatility: 0.17 <br>Returns: -0.03% <br>Sharpe Ratio: -0.00",
          "AAPL_Close <br>Volatility: 0.18 <br>Returns: 25.04% <br>Sharpe Ratio: 1.42",
          "CAT_Close <br>Volatility: 0.20 <br>Returns: 64.11% <br>Sharpe Ratio: 3.25",
          "INTC_Close <br>Volatility: 0.18 <br>Returns: 32.63% <br>Sharpe Ratio: 1.86",
          "ABBV_Close <br>Volatility: 0.18 <br>Returns: 54.05% <br>Sharpe Ratio: 3.03",
          "MA_Close <br>Volatility: 0.14 <br>Returns: 37.50% <br>Sharpe Ratio: 2.60",
          "GILD_Close <br>Volatility: 0.19 <br>Returns: 5.32% <br>Sharpe Ratio: 0.28",
          "VZ_Close <br>Volatility: 0.17 <br>Returns: 11.30% <br>Sharpe Ratio: 0.67",
          "AMD_Close <br>Volatility: 0.58 <br>Returns: -36.20% <br>Sharpe Ratio: -0.62",
          "AEP_Close <br>Volatility: 0.11 <br>Returns: 15.15% <br>Sharpe Ratio: 1.42",
          "MSFT_Close <br>Volatility: 0.15 <br>Returns: 36.72% <br>Sharpe Ratio: 2.42",
          "MO_Close <br>Volatility: 0.18 <br>Returns: -2.75% <br>Sharpe Ratio: -0.15",
          "SO_Close <br>Volatility: 0.12 <br>Returns: -1.26% <br>Sharpe Ratio: -0.11",
          "MCD_Close <br>Volatility: 0.14 <br>Returns: 37.50% <br>Sharpe Ratio: 2.75",
          "V_Close <br>Volatility: 0.13 <br>Returns: 30.98% <br>Sharpe Ratio: 2.47",
          "UNH_Close <br>Volatility: 0.14 <br>Returns: 34.90% <br>Sharpe Ratio: 2.48",
          "PFE_Close <br>Volatility: 0.11 <br>Returns: 9.22% <br>Sharpe Ratio: 0.85",
          "SNAP_Close <br>Volatility: 0.63 <br>Returns: -61.94% <br>Sharpe Ratio: -0.98",
          "KR_Close <br>Volatility: 0.36 <br>Returns: -11.51% <br>Sharpe Ratio: -0.32",
          "ORCL_Close <br>Volatility: 0.19 <br>Returns: 13.13% <br>Sharpe Ratio: 0.70",
          "MDT_Close <br>Volatility: 0.15 <br>Returns: 0.82% <br>Sharpe Ratio: 0.05",
          "SYK_Close <br>Volatility: 0.16 <br>Returns: 21.73% <br>Sharpe Ratio: 1.40",
          "ABT_Close <br>Volatility: 0.14 <br>Returns: 28.67% <br>Sharpe Ratio: 2.05",
          "KO_Close <br>Volatility: 0.09 <br>Returns: 13.24% <br>Sharpe Ratio: 1.53",
          "VRTX_Close <br>Volatility: 0.38 <br>Returns: 61.33% <br>Sharpe Ratio: 1.59",
          "TSLA_Close <br>Volatility: 0.36 <br>Returns: 26.10% <br>Sharpe Ratio: 0.73",
          "PEP_Close <br>Volatility: 0.10 <br>Returns: 12.73% <br>Sharpe Ratio: 1.30",
          "BIIB_Close <br>Volatility: 0.23 <br>Returns: 9.80% <br>Sharpe Ratio: 0.43",
          "NKE_Close <br>Volatility: 0.23 <br>Returns: 10.70% <br>Sharpe Ratio: 0.47",
          "BSX_Close <br>Volatility: 0.17 <br>Returns: -1.01% <br>Sharpe Ratio: -0.06",
          "BA_Close <br>Volatility: 0.17 <br>Returns: 59.54% <br>Sharpe Ratio: 3.42",
          "GOOGL_Close <br>Volatility: 0.16 <br>Returns: 25.77% <br>Sharpe Ratio: 1.64",
          "RTX_Close <br>Volatility: 0.14 <br>Returns: 16.98% <br>Sharpe Ratio: 1.24",
          "COST_Close <br>Volatility: 0.20 <br>Returns: 11.21% <br>Sharpe Ratio: 0.56",
          "LMT_Close <br>Volatility: 0.11 <br>Returns: 24.36% <br>Sharpe Ratio: 2.21",
          "NEE_Close <br>Volatility: 0.11 <br>Returns: 23.55% <br>Sharpe Ratio: 2.10",
          "TXN_Close <br>Volatility: 0.16 <br>Returns: 37.14% <br>Sharpe Ratio: 2.30",
          "CRM_Close <br>Volatility: 0.16 <br>Returns: 25.48% <br>Sharpe Ratio: 1.63",
          "DIS_Close <br>Volatility: 0.16 <br>Returns: -1.54% <br>Sharpe Ratio: -0.10",
          "HON_Close <br>Volatility: 0.10 <br>Returns: 25.07% <br>Sharpe Ratio: 2.47",
          "PYPL_Close <br>Volatility: 0.23 <br>Returns: 65.17% <br>Sharpe Ratio: 2.82",
          "JPM_Close <br>Volatility: 0.16 <br>Returns: 19.92% <br>Sharpe Ratio: 1.28",
          "NFLX_Close <br>Volatility: 0.29 <br>Returns: 38.28% <br>Sharpe Ratio: 1.33",
          "CVX_Close <br>Volatility: 0.14 <br>Returns: 15.44% <br>Sharpe Ratio: 1.09",
          "EXC_Close <br>Volatility: 0.13 <br>Returns: 12.63% <br>Sharpe Ratio: 0.96",
          "MS_Close <br>Volatility: 0.20 <br>Returns: 16.83% <br>Sharpe Ratio: 0.86",
          "NVDA_Close <br>Volatility: 0.39 <br>Returns: 80.73% <br>Sharpe Ratio: 2.05",
          "JNJ_Close <br>Volatility: 0.11 <br>Returns: 16.97% <br>Sharpe Ratio: 1.49",
          "REGN_Close <br>Volatility: 0.28 <br>Returns: 0.03% <br>Sharpe Ratio: 0.00",
          "BTI_Close <br>Volatility: 0.19 <br>Returns: 11.15% <br>Sharpe Ratio: 0.58",
          "AMGN_Close <br>Volatility: 0.17 <br>Returns: -0.36% <br>Sharpe Ratio: -0.02",
          "META_Close <br>Volatility: 0.17 <br>Returns: 30.58% <br>Sharpe Ratio: 1.77",
          "GOOG_Close <br>Volatility: 0.16 <br>Returns: 27.71% <br>Sharpe Ratio: 1.74",
          "EW_Close <br>Volatility: 0.23 <br>Returns: 22.60% <br>Sharpe Ratio: 0.97",
          "SRE_Close <br>Volatility: 0.13 <br>Returns: 0.42% <br>Sharpe Ratio: 0.03",
          "LLY_Close <br>Volatility: 0.15 <br>Returns: 4.51% <br>Sharpe Ratio: 0.31",
          "AMZN_Close <br>Volatility: 0.21 <br>Returns: 38.44% <br>Sharpe Ratio: 1.81",
          "IBM_Close <br>Volatility: 0.16 <br>Returns: -15.90% <br>Sharpe Ratio: -1.01",
          "MRK_Close <br>Volatility: 0.15 <br>Returns: -15.66% <br>Sharpe Ratio: -1.04",
          "BABA_Close <br>Volatility: 0.27 <br>Returns: 61.61% <br>Sharpe Ratio: 2.30",
          "CMCSA_Close <br>Volatility: 0.21 <br>Returns: 9.55% <br>Sharpe Ratio: 0.46",
          "DUK_Close <br>Volatility: 0.09 <br>Returns: 6.18% <br>Sharpe Ratio: 0.66",
          "HD_Close <br>Volatility: 0.14 <br>Returns: 32.45% <br>Sharpe Ratio: 2.40",
          "ACN_Close <br>Volatility: 0.13 <br>Returns: 27.35% <br>Sharpe Ratio: 2.06",
          "MMM_Close <br>Volatility: 0.13 <br>Returns: 27.77% <br>Sharpe Ratio: 2.12",
          "DHR_Close <br>Volatility: 0.13 <br>Returns: 9.07% <br>Sharpe Ratio: 0.71",
          "CPB_Close <br>Volatility: 0.24 <br>Returns: -23.67% <br>Sharpe Ratio: -0.98",
          "BMY_Close <br>Volatility: 0.18 <br>Returns: 11.41% <br>Sharpe Ratio: 0.63",
          "DE_Close <br>Volatility: 0.18 <br>Returns: 45.12% <br>Sharpe Ratio: 2.53",
          "QCOM_Close <br>Volatility: 0.24 <br>Returns: 18.78% <br>Sharpe Ratio: 0.79",
          "GS_Close <br>Volatility: 0.20 <br>Returns: 2.94% <br>Sharpe Ratio: 0.15",
          "GM_Close <br>Volatility: 0.19 <br>Returns: 14.71% <br>Sharpe Ratio: 0.78",
          "ZBH_Close <br>Volatility: 0.19 <br>Returns: 3.62% <br>Sharpe Ratio: 0.19",
          "ADBE_Close <br>Volatility: 0.23 <br>Returns: 45.54% <br>Sharpe Ratio: 2.00",
          "CSCO_Close <br>Volatility: 0.16 <br>Returns: 16.11% <br>Sharpe Ratio: 0.98",
          "T_Close <br>Volatility: 0.18 <br>Returns: -3.53% <br>Sharpe Ratio: -0.20",
          "WFC_Close <br>Volatility: 0.17 <br>Returns: 6.48% <br>Sharpe Ratio: 0.38"
         ],
         "marker": {
          "color": "brown",
          "line": {
           "width": 1
          },
          "size": 5,
          "symbol": "triangle-up"
         },
         "mode": "markers",
         "name": "Individual Assets",
         "type": "scatter",
         "x": {
          "bdata": "iSvmmZZW0z/N3isDMqfEP7amuBXVssk/wYO4zTJCyz9cfteZ3Za6PzB7YmGCzMo/6LJXkJOXwT8OmPupIEfFP15yaA/3ecg/cKfofNjiwz/APHSkdBi5Pzv/XAeF0sQ/qZdau6Gy3T9OMB48tT7HPybWZRDl4cE/SqS1Mow8xz/QlnKloNvEPxJ/6M3RO8Y/Z5tyGFmIxj/KG+DDFz/JP84+35TtecY/HGGxkjHdxj8/fppt+HLCP8tuu49jQMg/1jeAAIiqxT99ZuvUc6fiP256U3u3PLs/h2xCtuBswz+0E52ey8XGPy/bmTXYa74/6pW9DaB3wT/ODJoJMA3AP7xe5xadDMI/p9KV1Mifuz9KaSCc0ELkP6oqrBCqNdc/Y9vHEiT3xz+x9YKieGnDP79Oos7q5sM/wtcZG7vgwT8sWe2NsRu2Pw5EhZd2ndg/ISwVRQb01j+EuFNlIwi5P52qZ0DKJc0/eUA8ZnXizD/aX9SBWNLFP7M1EpaQT8Y/z/28H/sgxD+vXgY1lHfBP+15+xmXcck/0rvyLU1GvD+iv492fbK8P2XX0Fwcq8Q/BJzMB/X1wz/eFZt18jzEP4iBvxvMA7o/zIv+sZKdzT+gbch45/zDPwXaUBXoW9I/wEi5zr8Wwj8048oWhtPAP0O8gpH5HMk/HVxkpI8y2T8ioFF6TUC9Pwlw2CSGEtI/1Qlc3jhtyD/YXs1I4nXFP/LL2Lx8GsY/ApfuubFqxD9+oQJPZ73NP8aL9ZENH8E/ePmXYVPJwj+YOtANKSLLP7YG8cp0K8Q/f70bXUZSwz+/whzM9hvRP9L+coNkUMo/x5RlOmUruD/4VhAldkjBPy1ZcVwGAcE/2qUoknLIwD+fsr4PDm/AP2BZ4FsGx84/LE6LV/UWxz+c4Zsa9trGP3VpF5dLkc4/5zLRfg4fyT/9fpn4tzvIPyzBVila3cg/0vo+au8ozT9HjlAs+f3EP720p2oBa8Y/WoVOF5nVxT8=",
          "dtype": "f8"
         },
         "y": {
          "bdata": "UX8GWkHrw79cDLp513rIPyueKc8yCso/5bMFO8kU5L8ATGrOI92jP68tg2abD8o/t5HKMwmlzD9+EvRtpa6eP47no0Pg0N0/yUlT/fGdwT/+qIoWl5ikPxZSaQJC8ck/zEX6Wokd278l7bvW8g63v2akpMd9/lq/HIHwVK6O2z9sp9aBZJbLPwCU0E8OtzO/X3FhVjIH0D9/8+Hpq4PkP8Z+Buu14dQ/ItdOkdNL4T8KO86k/f/XP1x1GlJCPqs/Na7id1TtvD9pAadVcCvXv280m+vyY8M/poMx3uN/1z+T7Dhr4R6cvyTnB8Lzx4m/if646X//1z8yOw69HdTTPxxss9q0VtY/UJGfsrqYtz9Wi/SZ9tHjv6myPAjGeL2/DypDGrrPwD/IXJnSPs6AP7KjeWIl0cs/QXeCnuBY0j/i8LD7ZfHAPwnvQpl2oOM/YlcBRfu00D/1nwWnIEvAP22br0vZFbk/PuqNCSthuz+WLp8DH7uEv0G0NTuUDeM/LOPAZIl90D+fXuXRGLzFPyfuwQnxsLw/NM4u/FUuzz/E5mFE1SPOP3TyvJJixdc/WEwlgFVP0D89LSVVzIKPvyYNMzcIC9A/RG3WJbHa5D+HmN5eeH/JPycKLfbwf9g/lB2ynq7Ewz+nW2Y7USnAP3Bi5dUmi8U/xf7iyL3V6T+yQy0NM7jFP5lJ515g7DQ/XIR8vKyNvD/c25H4hBZtv0wPrD3iktM/6OfENTO80T+iYZ/FbO7MP50r6SF3DHE/xgdfH9cbpz8ip3Q+ZJrYP5iVqMuyW8S/GDbFEecLxL8b/DIUHrfjP3B+hJ01crg/gJ1KbMaprz/8XqE7T8XUP18Suf1qgNE/6rAwlTXG0T/GELm17TW3PyvbBr0AS86/J5Dw1gk2vT8uPlu9HuDcP49nM2HPCMg/Za7lZfEmnj/cRPIl5NLCPyNKGosXhaI/JJM7Fj4l3T/1CQQ3X5/EP+MqlqMpDaK/xdS+9TCZsD8=",
          "dtype": "f8"
         }
        }
       ],
       "layout": {
        "template": {
         "data": {
          "bar": [
           {
            "error_x": {
             "color": "#2a3f5f"
            },
            "error_y": {
             "color": "#2a3f5f"
            },
            "marker": {
             "line": {
              "color": "#E5ECF6",
              "width": 0.5
             },
             "pattern": {
              "fillmode": "overlay",
              "size": 10,
              "solidity": 0.2
             }
            },
            "type": "bar"
           }
          ],
          "barpolar": [
           {
            "marker": {
             "line": {
              "color": "#E5ECF6",
              "width": 0.5
             },
             "pattern": {
              "fillmode": "overlay",
              "size": 10,
              "solidity": 0.2
             }
            },
            "type": "barpolar"
           }
          ],
          "carpet": [
           {
            "aaxis": {
             "endlinecolor": "#2a3f5f",
             "gridcolor": "white",
             "linecolor": "white",
             "minorgridcolor": "white",
             "startlinecolor": "#2a3f5f"
            },
            "baxis": {
             "endlinecolor": "#2a3f5f",
             "gridcolor": "white",
             "linecolor": "white",
             "minorgridcolor": "white",
             "startlinecolor": "#2a3f5f"
            },
            "type": "carpet"
           }
          ],
          "choropleth": [
           {
            "colorbar": {
             "outlinewidth": 0,
             "ticks": ""
            },
            "type": "choropleth"
           }
          ],
          "contour": [
           {
            "colorbar": {
             "outlinewidth": 0,
             "ticks": ""
            },
            "colorscale": [
             [
              0,
              "#0d0887"
             ],
             [
              0.1111111111111111,
              "#46039f"
             ],
             [
              0.2222222222222222,
              "#7201a8"
             ],
             [
              0.3333333333333333,
              "#9c179e"
             ],
             [
              0.4444444444444444,
              "#bd3786"
             ],
             [
              0.5555555555555556,
              "#d8576b"
             ],
             [
              0.6666666666666666,
              "#ed7953"
             ],
             [
              0.7777777777777778,
              "#fb9f3a"
             ],
             [
              0.8888888888888888,
              "#fdca26"
             ],
             [
              1,
              "#f0f921"
             ]
            ],
            "type": "contour"
           }
          ],
          "contourcarpet": [
           {
            "colorbar": {
             "outlinewidth": 0,
             "ticks": ""
            },
            "type": "contourcarpet"
           }
          ],
          "heatmap": [
           {
            "colorbar": {
             "outlinewidth": 0,
             "ticks": ""
            },
            "colorscale": [
             [
              0,
              "#0d0887"
             ],
             [
              0.1111111111111111,
              "#46039f"
             ],
             [
              0.2222222222222222,
              "#7201a8"
             ],
             [
              0.3333333333333333,
              "#9c179e"
             ],
             [
              0.4444444444444444,
              "#bd3786"
             ],
             [
              0.5555555555555556,
              "#d8576b"
             ],
             [
              0.6666666666666666,
              "#ed7953"
             ],
             [
              0.7777777777777778,
              "#fb9f3a"
             ],
             [
              0.8888888888888888,
              "#fdca26"
             ],
             [
              1,
              "#f0f921"
             ]
            ],
            "type": "heatmap"
           }
          ],
          "histogram": [
           {
            "marker": {
             "pattern": {
              "fillmode": "overlay",
              "size": 10,
              "solidity": 0.2
             }
            },
            "type": "histogram"
           }
          ],
          "histogram2d": [
           {
            "colorbar": {
             "outlinewidth": 0,
             "ticks": ""
            },
            "colorscale": [
             [
              0,
              "#0d0887"
             ],
             [
              0.1111111111111111,
              "#46039f"
             ],
             [
              0.2222222222222222,
              "#7201a8"
             ],
             [
              0.3333333333333333,
              "#9c179e"
             ],
             [
              0.4444444444444444,
              "#bd3786"
             ],
             [
              0.5555555555555556,
              "#d8576b"
             ],
             [
              0.6666666666666666,
              "#ed7953"
             ],
             [
              0.7777777777777778,
              "#fb9f3a"
             ],
             [
              0.8888888888888888,
              "#fdca26"
             ],
             [
              1,
              "#f0f921"
             ]
            ],
            "type": "histogram2d"
           }
          ],
          "histogram2dcontour": [
           {
            "colorbar": {
             "outlinewidth": 0,
             "ticks": ""
            },
            "colorscale": [
             [
              0,
              "#0d0887"
             ],
             [
              0.1111111111111111,
              "#46039f"
             ],
             [
              0.2222222222222222,
              "#7201a8"
             ],
             [
              0.3333333333333333,
              "#9c179e"
             ],
             [
              0.4444444444444444,
              "#bd3786"
             ],
             [
              0.5555555555555556,
              "#d8576b"
             ],
             [
              0.6666666666666666,
              "#ed7953"
             ],
             [
              0.7777777777777778,
              "#fb9f3a"
             ],
             [
              0.8888888888888888,
              "#fdca26"
             ],
             [
              1,
              "#f0f921"
             ]
            ],
            "type": "histogram2dcontour"
           }
          ],
          "mesh3d": [
           {
            "colorbar": {
             "outlinewidth": 0,
             "ticks": ""
            },
            "type": "mesh3d"
           }
          ],
          "parcoords": [
           {
            "line": {
             "colorbar": {
              "outlinewidth": 0,
              "ticks": ""
             }
            },
            "type": "parcoords"
           }
          ],
          "pie": [
           {
            "automargin": true,
            "type": "pie"
           }
          ],
          "scatter": [
           {
            "fillpattern": {
             "fillmode": "overlay",
             "size": 10,
             "solidity": 0.2
            },
            "type": "scatter"
           }
          ],
          "scatter3d": [
           {
            "line": {
             "colorbar": {
              "outlinewidth": 0,
              "ticks": ""
             }
            },
            "marker": {
             "colorbar": {
              "outlinewidth": 0,
              "ticks": ""
             }
            },
            "type": "scatter3d"
           }
          ],
          "scattercarpet": [
           {
            "marker": {
             "colorbar": {
              "outlinewidth": 0,
              "ticks": ""
             }
            },
            "type": "scattercarpet"
           }
          ],
          "scattergeo": [
           {
            "marker": {
             "colorbar": {
              "outlinewidth": 0,
              "ticks": ""
             }
            },
            "type": "scattergeo"
           }
          ],
          "scattergl": [
           {
            "marker": {
             "colorbar": {
              "outlinewidth": 0,
              "ticks": ""
             }
            },
            "type": "scattergl"
           }
          ],
          "scattermap": [
           {
            "marker": {
             "colorbar": {
              "outlinewidth": 0,
              "ticks": ""
             }
            },
            "type": "scattermap"
           }
          ],
          "scattermapbox": [
           {
            "marker": {
             "colorbar": {
              "outlinewidth": 0,
              "ticks": ""
             }
            },
            "type": "scattermapbox"
           }
          ],
          "scatterpolar": [
           {
            "marker": {
             "colorbar": {
              "outlinewidth": 0,
              "ticks": ""
             }
            },
            "type": "scatterpolar"
           }
          ],
          "scatterpolargl": [
           {
            "marker": {
             "colorbar": {
              "outlinewidth": 0,
              "ticks": ""
             }
            },
            "type": "scatterpolargl"
           }
          ],
          "scatterternary": [
           {
            "marker": {
             "colorbar": {
              "outlinewidth": 0,
              "ticks": ""
             }
            },
            "type": "scatterternary"
           }
          ],
          "surface": [
           {
            "colorbar": {
             "outlinewidth": 0,
             "ticks": ""
            },
            "colorscale": [
             [
              0,
              "#0d0887"
             ],
             [
              0.1111111111111111,
              "#46039f"
             ],
             [
              0.2222222222222222,
              "#7201a8"
             ],
             [
              0.3333333333333333,
              "#9c179e"
             ],
             [
              0.4444444444444444,
              "#bd3786"
             ],
             [
              0.5555555555555556,
              "#d8576b"
             ],
             [
              0.6666666666666666,
              "#ed7953"
             ],
             [
              0.7777777777777778,
              "#fb9f3a"
             ],
             [
              0.8888888888888888,
              "#fdca26"
             ],
             [
              1,
              "#f0f921"
             ]
            ],
            "type": "surface"
           }
          ],
          "table": [
           {
            "cells": {
             "fill": {
              "color": "#EBF0F8"
             },
             "line": {
              "color": "white"
             }
            },
            "header": {
             "fill": {
              "color": "#C8D4E3"
             },
             "line": {
              "color": "white"
             }
            },
            "type": "table"
           }
          ]
         },
         "layout": {
          "annotationdefaults": {
           "arrowcolor": "#2a3f5f",
           "arrowhead": 0,
           "arrowwidth": 1
          },
          "autotypenumbers": "strict",
          "coloraxis": {
           "colorbar": {
            "outlinewidth": 0,
            "ticks": ""
           }
          },
          "colorscale": {
           "diverging": [
            [
             0,
             "#8e0152"
            ],
            [
             0.1,
             "#c51b7d"
            ],
            [
             0.2,
             "#de77ae"
            ],
            [
             0.3,
             "#f1b6da"
            ],
            [
             0.4,
             "#fde0ef"
            ],
            [
             0.5,
             "#f7f7f7"
            ],
            [
             0.6,
             "#e6f5d0"
            ],
            [
             0.7,
             "#b8e186"
            ],
            [
             0.8,
             "#7fbc41"
            ],
            [
             0.9,
             "#4d9221"
            ],
            [
             1,
             "#276419"
            ]
           ],
           "sequential": [
            [
             0,
             "#0d0887"
            ],
            [
             0.1111111111111111,
             "#46039f"
            ],
            [
             0.2222222222222222,
             "#7201a8"
            ],
            [
             0.3333333333333333,
             "#9c179e"
            ],
            [
             0.4444444444444444,
             "#bd3786"
            ],
            [
             0.5555555555555556,
             "#d8576b"
            ],
            [
             0.6666666666666666,
             "#ed7953"
            ],
            [
             0.7777777777777778,
             "#fb9f3a"
            ],
            [
             0.8888888888888888,
             "#fdca26"
            ],
            [
             1,
             "#f0f921"
            ]
           ],
           "sequentialminus": [
            [
             0,
             "#0d0887"
            ],
            [
             0.1111111111111111,
             "#46039f"
            ],
            [
             0.2222222222222222,
             "#7201a8"
            ],
            [
             0.3333333333333333,
             "#9c179e"
            ],
            [
             0.4444444444444444,
             "#bd3786"
            ],
            [
             0.5555555555555556,
             "#d8576b"
            ],
            [
             0.6666666666666666,
             "#ed7953"
            ],
            [
             0.7777777777777778,
             "#fb9f3a"
            ],
            [
             0.8888888888888888,
             "#fdca26"
            ],
            [
             1,
             "#f0f921"
            ]
           ]
          },
          "colorway": [
           "#636efa",
           "#EF553B",
           "#00cc96",
           "#ab63fa",
           "#FFA15A",
           "#19d3f3",
           "#FF6692",
           "#B6E880",
           "#FF97FF",
           "#FECB52"
          ],
          "font": {
           "color": "#2a3f5f"
          },
          "geo": {
           "bgcolor": "white",
           "lakecolor": "white",
           "landcolor": "#E5ECF6",
           "showlakes": true,
           "showland": true,
           "subunitcolor": "white"
          },
          "hoverlabel": {
           "align": "left"
          },
          "hovermode": "closest",
          "mapbox": {
           "style": "light"
          },
          "paper_bgcolor": "white",
          "plot_bgcolor": "#E5ECF6",
          "polar": {
           "angularaxis": {
            "gridcolor": "white",
            "linecolor": "white",
            "ticks": ""
           },
           "bgcolor": "#E5ECF6",
           "radialaxis": {
            "gridcolor": "white",
            "linecolor": "white",
            "ticks": ""
           }
          },
          "scene": {
           "xaxis": {
            "backgroundcolor": "#E5ECF6",
            "gridcolor": "white",
            "gridwidth": 2,
            "linecolor": "white",
            "showbackground": true,
            "ticks": "",
            "zerolinecolor": "white"
           },
           "yaxis": {
            "backgroundcolor": "#E5ECF6",
            "gridcolor": "white",
            "gridwidth": 2,
            "linecolor": "white",
            "showbackground": true,
            "ticks": "",
            "zerolinecolor": "white"
           },
           "zaxis": {
            "backgroundcolor": "#E5ECF6",
            "gridcolor": "white",
            "gridwidth": 2,
            "linecolor": "white",
            "showbackground": true,
            "ticks": "",
            "zerolinecolor": "white"
           }
          },
          "shapedefaults": {
           "line": {
            "color": "#2a3f5f"
           }
          },
          "ternary": {
           "aaxis": {
            "gridcolor": "white",
            "linecolor": "white",
            "ticks": ""
           },
           "baxis": {
            "gridcolor": "white",
            "linecolor": "white",
            "ticks": ""
           },
           "bgcolor": "#E5ECF6",
           "caxis": {
            "gridcolor": "white",
            "linecolor": "white",
            "ticks": ""
           }
          },
          "title": {
           "x": 0.05
          },
          "xaxis": {
           "automargin": true,
           "gridcolor": "white",
           "linecolor": "white",
           "ticks": "",
           "title": {
            "standoff": 15
           },
           "zerolinecolor": "white",
           "zerolinewidth": 2
          },
          "yaxis": {
           "automargin": true,
           "gridcolor": "white",
           "linecolor": "white",
           "ticks": "",
           "title": {
            "standoff": 15
           },
           "zerolinecolor": "white",
           "zerolinewidth": 2
          }
         }
        },
        "title": {
         "text": "Sample of Random Portfolios"
        },
        "xaxis": {
         "title": {
          "text": "Volatility (Standard Deviation)"
         }
        },
        "yaxis": {
         "title": {
          "text": "Annualized Return"
         }
        }
       }
      }
     },
     "metadata": {},
     "output_type": "display_data"
    }
   ],
   "source": [
    "fig = go.Figure()\n",
    "fig.add_trace(go.Scatter(\n",
    "    x=mean_variance_pairs[:, 1]**0.5,\n",
    "    y=mean_variance_pairs[:, 0],\n",
    "    mode='markers',\n",
    "    marker=dict(\n",
    "        color=(mean_variance_pairs[:, 0])/(mean_variance_pairs[:, 1]**0.5),\n",
    "        showscale=True, \n",
    "        size=7,\n",
    "        line=dict(width=1),\n",
    "        colorscale=\"RdBu\",\n",
    "        colorbar=dict(title=\"Sharpe<br>Ratio\")\n",
    "    ),\n",
    "    hoverinfo='text',\n",
    "    text=hover_texts\n",
    "))\n",
    "\n",
    "fig.add_trace(go.Scatter(\n",
    "    x=volatility, \n",
    "    y=annualized_returns,\n",
    "    mode='markers',\n",
    "    hoverinfo='text',\n",
    "    hovertext=[\n",
    "        f\"{name} <br>Volatility: {vol:.2f} <br>Returns: {ret:.2%} <br>Sharpe Ratio: {sr:.2f}\"\n",
    "        for name, vol, ret, sr in zip(names, volatility, annualized_returns, sharpe_ratios)\n",
    "    ],\n",
    "    marker=dict(\n",
    "        color='brown',\n",
    "        size=5,\n",
    "        symbol='triangle-up',  # Sets the marker shape to a triangle\n",
    "        line=dict(width=1)\n",
    "    ),\n",
    "    name=\"Individual Assets\"\n",
    "))\n",
    "\n",
    "fig.update_layout(\n",
    "    title='Sample of Random Portfolios',\n",
    "    xaxis_title='Volatility (Standard Deviation)',\n",
    "    yaxis_title='Annualized Return',\n",
    ")\n",
    "\n",
    "fig.show()"
   ]
  }
 ],
 "metadata": {
  "kernelspec": {
   "display_name": "roboA",
   "language": "python",
   "name": "python3"
  },
  "language_info": {
   "codemirror_mode": {
    "name": "ipython",
    "version": 3
   },
   "file_extension": ".py",
   "mimetype": "text/x-python",
   "name": "python",
   "nbconvert_exporter": "python",
   "pygments_lexer": "ipython3",
   "version": "3.12.8"
  }
 },
 "nbformat": 4,
 "nbformat_minor": 2
}
