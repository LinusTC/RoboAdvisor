{
 "cells": [
  {
   "cell_type": "markdown",
   "metadata": {},
   "source": [
    "# Markowitz Efficient Frontier"
   ]
  },
  {
   "cell_type": "markdown",
   "metadata": {},
   "source": [
    "## 1. Imports"
   ]
  },
  {
   "cell_type": "code",
   "execution_count": 127,
   "metadata": {},
   "outputs": [],
   "source": [
    "import pandas as pd\n",
    "import numpy as np\n",
    "import yfinance as yf\n",
    "import plotly.graph_objects as go\n",
    "from tqdm import tqdm\n",
    "import scipy.optimize\n",
    "\n",
    "from fetchData import fetch_raw_data_yf, get_matrices, getNasdaqStocks\n",
    "from MonteCarloRBA import MonteCarloRBA\n",
    "from portfolioFunction import maximize_sharpe, create_correlation_matrix\n",
    "from LearningRBA import find_best_asset_to_remove\n"
   ]
  },
  {
   "cell_type": "markdown",
   "metadata": {},
   "source": [
    "## 2. Fetch Data"
   ]
  },
  {
   "cell_type": "markdown",
   "metadata": {},
   "source": [
    "### Get all Nasdaq Stocks"
   ]
  },
  {
   "cell_type": "code",
   "execution_count": 128,
   "metadata": {},
   "outputs": [
    {
     "data": {
      "text/plain": [
       "100"
      ]
     },
     "execution_count": 128,
     "metadata": {},
     "output_type": "execute_result"
    }
   ],
   "source": [
    "assets= [\n",
    "    \"AAPL\",  # Apple Inc.\n",
    "    \"MSFT\",  # Microsoft Corporation\n",
    "    \"AMZN\",  # Amazon.com Inc.\n",
    "    \"GOOGL\", # Alphabet Inc. (Google) Class A\n",
    "    \"GOOG\",  # Alphabet Inc. (Google) Class C\n",
    "    \"META\",    # Meta Platforms Inc (formerly Facebook)\n",
    "    \"TSLA\",  # Tesla Inc\n",
    "    \"UA\", # Berkshire Hathaway Inc. Class B\n",
    "    \"JPM\",   # JPMorgan Chase & Co.\n",
    "    \"V\",     # Visa Inc.\n",
    "    \"JNJ\",   # Johnson & Johnson\n",
    "    \"WMT\",   # Walmart Inc.\n",
    "    \"PG\",    # Procter & Gamble Co.\n",
    "    \"UNH\",   # UnitedHealth Group Inc.\n",
    "    \"MA\",    # Mastercard Inc.\n",
    "    \"NVDA\",  # NVIDIA Corporation\n",
    "    \"HD\",    # Home Depot Inc.\n",
    "    \"BAC\",   # Bank of America Corp\n",
    "    \"DIS\",   # Walt Disney Co\n",
    "    \"PYPL\",  # PayPal Holdings\n",
    "    \"VZ\",    # Verizon Communications Inc.\n",
    "    \"ADBE\",  # Adobe Inc.\n",
    "    \"CMCSA\", # Comcast Corporation\n",
    "    \"NFLX\",  # Netflix Inc.\n",
    "    \"KO\",    # Coca-Cola Co\n",
    "    \"NKE\",   # NIKE Inc.\n",
    "    \"PFE\",   # Pfizer Inc.\n",
    "    \"MRK\",   # Merck & Co., Inc.\n",
    "    \"PEP\",   # PepsiCo, Inc.\n",
    "    \"T\",     # AT&T Inc.\n",
    "    \"ABT\",   # Abbott Laboratories\n",
    "    \"CRM\",   # Salesforce.com Inc.\n",
    "    \"ORCL\",  # Oracle Corporation\n",
    "    \"ABBV\",  # AbbVie Inc.\n",
    "    \"CSCO\",  # Cisco Systems, Inc.\n",
    "    \"INTC\",  # Intel Corporation\n",
    "    \"TMO\",   # Thermo Fisher Scientific Inc.\n",
    "    \"XOM\",   # Exxon Mobil Corporation\n",
    "    \"ACN\",   # Accenture plc\n",
    "    \"LLY\",   # Eli Lilly and Company\n",
    "    \"COST\",  # Costco Wholesale Corporation\n",
    "    \"MCD\",   # McDonald's Corp\n",
    "    \"DHR\",   # Danaher Corporation\n",
    "    \"MDT\",   # Medtronic plc\n",
    "    \"NEE\",   # NextEra Energy, Inc.\n",
    "    \"BMY\",   # Bristol-Myers Squibb Company\n",
    "    \"QCOM\",  # Qualcomm Inc\n",
    "    \"CVX\",   # Chevron Corporation\n",
    "    \"WFC\",   # Wells Fargo & Co\n",
    "    \"LMT\",    # Lockheed Martin Corporation\n",
    "    \"GS\",   # Goldman Sachs Group, Inc.\n",
    "    \"MS\",   # Morgan Stanley\n",
    "    \"IBM\",  # International Business Machines Corporation\n",
    "    \"GE\",   # General Electric Company\n",
    "    \"F\",    # Ford Motor Company\n",
    "    \"GM\",   # General Motors Company\n",
    "    \"UBER\", # Uber Technologies, Inc.\n",
    "    \"LYFT\", # Lyft, Inc.\n",
    "    \"SNAP\", # Snap Inc.\n",
    "    \"TWTR\", # Twitter, Inc.\n",
    "    \"SPOT\", # Spotify Technology S.A.\n",
    "    \"AMD\",  # Advanced Micro Devices, Inc.\n",
    "    \"TXN\",  # Texas Instruments Incorporated\n",
    "    \"BABA\", # Alibaba Group Holding Limited\n",
    "    \"SAP\",  # SAP SE\n",
    "    \"HON\",  # Honeywell International Inc.\n",
    "    \"BA\",   # Boeing Company\n",
    "    \"RTX\",  # Raytheon Technologies Corporation\n",
    "    \"CAT\",  # Caterpillar Inc.\n",
    "    \"DE\",   # Deere & Company\n",
    "    \"MMM\",  # 3M Company\n",
    "    \"DUK\",  # Duke Energy Corporation\n",
    "    \"SO\",   # Southern Company\n",
    "    \"EXC\",  # Exelon Corporation\n",
    "    \"NEE\",  # NextEra Energy, Inc.\n",
    "    \"AEP\",  # American Electric Power Company, Inc.\n",
    "    \"SRE\",  # Sempra Energy\n",
    "    \"ETN\",  # Eaton Corporation plc\n",
    "    \"EMR\",  # Emerson Electric Co.\n",
    "    \"SYY\",  # Sysco Corporation\n",
    "    \"KR\",   # Kroger Co.\n",
    "    \"GIS\",  # General Mills, Inc.\n",
    "    \"K\",    # Kellogg Company\n",
    "    \"CPB\",  # Campbell Soup Company\n",
    "    \"MO\",   # Altria Group, Inc.\n",
    "    \"PM\",   # Philip Morris International Inc.\n",
    "    \"BTI\",  # British American Tobacco plc\n",
    "    \"RDY\",  # Dr. Reddy's Laboratories Ltd.\n",
    "    \"GILD\", # Gilead Sciences, Inc.\n",
    "    \"BIIB\", # Biogen Inc.\n",
    "    \"CELG\", # Celgene Corporation\n",
    "    \"AMGN\", # Amgen Inc.\n",
    "    \"SYK\",  # Stryker Corporation\n",
    "    \"BSX\",  # Boston Scientific Corporation\n",
    "    \"ISRG\", # Intuitive Surgical, Inc.\n",
    "    \"ZBH\",  # Zimmer Biomet Holdings, Inc.\n",
    "    \"EW\",   # Edwards Lifesciences Corporation\n",
    "    \"RMD\",  # ResMed Inc.\n",
    "    \"VRTX\", # Vertex Pharmaceuticals Incorporated\n",
    "    \"REGN\",  # Regeneron Pharmaceuticals, Inc.\n",
    "]\n",
    "\n",
    "len(assets)"
   ]
  },
  {
   "cell_type": "code",
   "execution_count": 129,
   "metadata": {},
   "outputs": [
    {
     "name": "stderr",
     "output_type": "stream",
     "text": [
      "[*********************100%***********************]  99 of 99 completed\n",
      "\n",
      "5 Failed downloads:\n",
      "['UBER', 'SPOT', 'LYFT']: YFPricesMissingError('possibly delisted; no price data found  (1d 2015-01-01 -> 2018-01-01) (Yahoo error = \"Data doesn\\'t exist for startDate = 1420088400, endDate = 1514782800\")')\n",
      "['CELG', 'TWTR']: YFTzMissingError('possibly delisted; no timezone found')\n"
     ]
    },
    {
     "name": "stdout",
     "output_type": "stream",
     "text": [
      "Omitted assets ( 5 ):  ['SPOT', 'CELG', 'UBER', 'TWTR', 'LYFT']\n",
      "Time to fetch data: 3.16 seconds\n"
     ]
    }
   ],
   "source": [
    "raw_data, asset_errors, max_combination= fetch_raw_data_yf(assets)"
   ]
  },
  {
   "cell_type": "markdown",
   "metadata": {},
   "source": [
    "## 3. Mean, Volatility and Covariance"
   ]
  },
  {
   "cell_type": "code",
   "execution_count": 130,
   "metadata": {},
   "outputs": [],
   "source": [
    "names, cov, annualized_returns = get_matrices(raw_data, max_combination, None)[0]\n",
    "correlation_matrix = create_correlation_matrix(cov)\n",
    "volatility = np.sqrt(np.diag(cov))\n",
    "\n",
    "risk_free_rate=0 \n",
    "sharpe_ratios = (annualized_returns - risk_free_rate) / volatility"
   ]
  },
  {
   "cell_type": "code",
   "execution_count": 131,
   "metadata": {},
   "outputs": [
    {
     "data": {
      "application/vnd.plotly.v1+json": {
       "config": {
        "plotlyServerURL": "https://plot.ly"
       },
       "data": [
        {
         "hoverinfo": "text",
         "hovertext": [
          "SO_Close <br>Volatility: 0.12 <br>Returns: -1.26% <br>Sharpe Ratio: -0.11",
          "MS_Close <br>Volatility: 0.20 <br>Returns: 16.83% <br>Sharpe Ratio: 0.86",
          "SYY_Close <br>Volatility: 0.16 <br>Returns: 19.12% <br>Sharpe Ratio: 1.19",
          "SYK_Close <br>Volatility: 0.16 <br>Returns: 21.73% <br>Sharpe Ratio: 1.40",
          "MDT_Close <br>Volatility: 0.15 <br>Returns: 0.82% <br>Sharpe Ratio: 0.05",
          "CPB_Close <br>Volatility: 0.24 <br>Returns: -23.67% <br>Sharpe Ratio: -0.98",
          "MMM_Close <br>Volatility: 0.13 <br>Returns: 27.77% <br>Sharpe Ratio: 2.12",
          "NFLX_Close <br>Volatility: 0.29 <br>Returns: 38.28% <br>Sharpe Ratio: 1.33",
          "AMD_Close <br>Volatility: 0.58 <br>Returns: -36.20% <br>Sharpe Ratio: -0.62",
          "INTC_Close <br>Volatility: 0.18 <br>Returns: 32.63% <br>Sharpe Ratio: 1.86",
          "T_Close <br>Volatility: 0.18 <br>Returns: -3.53% <br>Sharpe Ratio: -0.20",
          "PG_Close <br>Volatility: 0.10 <br>Returns: 4.02% <br>Sharpe Ratio: 0.41",
          "QCOM_Close <br>Volatility: 0.24 <br>Returns: 18.78% <br>Sharpe Ratio: 0.79",
          "KO_Close <br>Volatility: 0.09 <br>Returns: 13.24% <br>Sharpe Ratio: 1.53",
          "IBM_Close <br>Volatility: 0.16 <br>Returns: -15.90% <br>Sharpe Ratio: -1.01",
          "EXC_Close <br>Volatility: 0.13 <br>Returns: 12.63% <br>Sharpe Ratio: 0.96",
          "GS_Close <br>Volatility: 0.20 <br>Returns: 2.94% <br>Sharpe Ratio: 0.15",
          "MSFT_Close <br>Volatility: 0.15 <br>Returns: 36.72% <br>Sharpe Ratio: 2.42",
          "PFE_Close <br>Volatility: 0.11 <br>Returns: 9.22% <br>Sharpe Ratio: 0.85",
          "MRK_Close <br>Volatility: 0.15 <br>Returns: -15.66% <br>Sharpe Ratio: -1.04",
          "NKE_Close <br>Volatility: 0.23 <br>Returns: 10.70% <br>Sharpe Ratio: 0.47",
          "ZBH_Close <br>Volatility: 0.19 <br>Returns: 3.62% <br>Sharpe Ratio: 0.19",
          "VRTX_Close <br>Volatility: 0.38 <br>Returns: 61.33% <br>Sharpe Ratio: 1.59",
          "SRE_Close <br>Volatility: 0.13 <br>Returns: 0.42% <br>Sharpe Ratio: 0.03",
          "DUK_Close <br>Volatility: 0.09 <br>Returns: 6.18% <br>Sharpe Ratio: 0.66",
          "PM_Close <br>Volatility: 0.14 <br>Returns: -0.16% <br>Sharpe Ratio: -0.01",
          "AMZN_Close <br>Volatility: 0.21 <br>Returns: 38.44% <br>Sharpe Ratio: 1.81",
          "TSLA_Close <br>Volatility: 0.36 <br>Returns: 26.10% <br>Sharpe Ratio: 0.73",
          "EW_Close <br>Volatility: 0.23 <br>Returns: 22.60% <br>Sharpe Ratio: 0.97",
          "GE_Close <br>Volatility: 0.21 <br>Returns: -62.75% <br>Sharpe Ratio: -2.95",
          "K_Close <br>Volatility: 0.18 <br>Returns: -9.01% <br>Sharpe Ratio: -0.50",
          "KR_Close <br>Volatility: 0.36 <br>Returns: -11.51% <br>Sharpe Ratio: -0.32",
          "BABA_Close <br>Volatility: 0.27 <br>Returns: 61.61% <br>Sharpe Ratio: 2.30",
          "LMT_Close <br>Volatility: 0.11 <br>Returns: 24.36% <br>Sharpe Ratio: 2.21",
          "BIIB_Close <br>Volatility: 0.23 <br>Returns: 9.80% <br>Sharpe Ratio: 0.43",
          "RMD_Close <br>Volatility: 0.20 <br>Returns: 20.34% <br>Sharpe Ratio: 1.01",
          "MA_Close <br>Volatility: 0.14 <br>Returns: 37.50% <br>Sharpe Ratio: 2.60",
          "BTI_Close <br>Volatility: 0.19 <br>Returns: 11.15% <br>Sharpe Ratio: 0.58",
          "MO_Close <br>Volatility: 0.18 <br>Returns: -2.75% <br>Sharpe Ratio: -0.15",
          "TMO_Close <br>Volatility: 0.16 <br>Returns: 21.55% <br>Sharpe Ratio: 1.32",
          "HON_Close <br>Volatility: 0.10 <br>Returns: 25.07% <br>Sharpe Ratio: 2.47",
          "RDY_Close <br>Volatility: 0.30 <br>Returns: -15.56% <br>Sharpe Ratio: -0.52",
          "PEP_Close <br>Volatility: 0.10 <br>Returns: 12.73% <br>Sharpe Ratio: 1.30",
          "ABT_Close <br>Volatility: 0.14 <br>Returns: 28.67% <br>Sharpe Ratio: 2.05",
          "RTX_Close <br>Volatility: 0.14 <br>Returns: 16.98% <br>Sharpe Ratio: 1.24",
          "AAPL_Close <br>Volatility: 0.18 <br>Returns: 25.04% <br>Sharpe Ratio: 1.42",
          "JPM_Close <br>Volatility: 0.16 <br>Returns: 19.92% <br>Sharpe Ratio: 1.28",
          "ORCL_Close <br>Volatility: 0.19 <br>Returns: 13.13% <br>Sharpe Ratio: 0.70",
          "CVX_Close <br>Volatility: 0.14 <br>Returns: 15.44% <br>Sharpe Ratio: 1.09",
          "AEP_Close <br>Volatility: 0.11 <br>Returns: 15.15% <br>Sharpe Ratio: 1.42",
          "GIS_Close <br>Volatility: 0.17 <br>Returns: -0.03% <br>Sharpe Ratio: -0.00",
          "BA_Close <br>Volatility: 0.17 <br>Returns: 59.54% <br>Sharpe Ratio: 3.42",
          "ETN_Close <br>Volatility: 0.16 <br>Returns: 13.76% <br>Sharpe Ratio: 0.89",
          "JNJ_Close <br>Volatility: 0.11 <br>Returns: 16.97% <br>Sharpe Ratio: 1.49",
          "CMCSA_Close <br>Volatility: 0.21 <br>Returns: 9.55% <br>Sharpe Ratio: 0.46",
          "COST_Close <br>Volatility: 0.20 <br>Returns: 11.21% <br>Sharpe Ratio: 0.56",
          "BAC_Close <br>Volatility: 0.21 <br>Returns: 20.36% <br>Sharpe Ratio: 0.97",
          "WMT_Close <br>Volatility: 0.18 <br>Returns: 43.06% <br>Sharpe Ratio: 2.37",
          "SAP_Close <br>Volatility: 0.14 <br>Returns: 22.38% <br>Sharpe Ratio: 1.63",
          "CSCO_Close <br>Volatility: 0.16 <br>Returns: 16.11% <br>Sharpe Ratio: 0.98",
          "DHR_Close <br>Volatility: 0.13 <br>Returns: 9.07% <br>Sharpe Ratio: 0.71",
          "REGN_Close <br>Volatility: 0.28 <br>Returns: 0.03% <br>Sharpe Ratio: 0.00",
          "CAT_Close <br>Volatility: 0.20 <br>Returns: 64.11% <br>Sharpe Ratio: 3.25",
          "XOM_Close <br>Volatility: 0.10 <br>Returns: 3.88% <br>Sharpe Ratio: 0.37",
          "TXN_Close <br>Volatility: 0.16 <br>Returns: 37.14% <br>Sharpe Ratio: 2.30",
          "VZ_Close <br>Volatility: 0.17 <br>Returns: 11.30% <br>Sharpe Ratio: 0.67",
          "GOOG_Close <br>Volatility: 0.16 <br>Returns: 27.71% <br>Sharpe Ratio: 1.74",
          "AMGN_Close <br>Volatility: 0.17 <br>Returns: -0.36% <br>Sharpe Ratio: -0.02",
          "LLY_Close <br>Volatility: 0.15 <br>Returns: 4.51% <br>Sharpe Ratio: 0.31",
          "WFC_Close <br>Volatility: 0.17 <br>Returns: 6.48% <br>Sharpe Ratio: 0.38",
          "GOOGL_Close <br>Volatility: 0.16 <br>Returns: 25.77% <br>Sharpe Ratio: 1.64",
          "CRM_Close <br>Volatility: 0.16 <br>Returns: 25.48% <br>Sharpe Ratio: 1.63",
          "EMR_Close <br>Volatility: 0.16 <br>Returns: 20.27% <br>Sharpe Ratio: 1.25",
          "HD_Close <br>Volatility: 0.14 <br>Returns: 32.45% <br>Sharpe Ratio: 2.40",
          "MCD_Close <br>Volatility: 0.14 <br>Returns: 37.50% <br>Sharpe Ratio: 2.75",
          "ABBV_Close <br>Volatility: 0.18 <br>Returns: 54.05% <br>Sharpe Ratio: 3.03",
          "PYPL_Close <br>Volatility: 0.23 <br>Returns: 65.17% <br>Sharpe Ratio: 2.82",
          "DE_Close <br>Volatility: 0.18 <br>Returns: 45.12% <br>Sharpe Ratio: 2.53",
          "ACN_Close <br>Volatility: 0.13 <br>Returns: 27.35% <br>Sharpe Ratio: 2.06",
          "GM_Close <br>Volatility: 0.19 <br>Returns: 14.71% <br>Sharpe Ratio: 0.78",
          "META_Close <br>Volatility: 0.17 <br>Returns: 30.58% <br>Sharpe Ratio: 1.77",
          "ISRG_Close <br>Volatility: 0.19 <br>Returns: 46.59% <br>Sharpe Ratio: 2.44",
          "DIS_Close <br>Volatility: 0.16 <br>Returns: -1.54% <br>Sharpe Ratio: -0.10",
          "F_Close <br>Volatility: 0.17 <br>Returns: 3.00% <br>Sharpe Ratio: 0.18",
          "V_Close <br>Volatility: 0.13 <br>Returns: 30.98% <br>Sharpe Ratio: 2.47",
          "BMY_Close <br>Volatility: 0.18 <br>Returns: 11.41% <br>Sharpe Ratio: 0.63",
          "ADBE_Close <br>Volatility: 0.23 <br>Returns: 45.54% <br>Sharpe Ratio: 2.00",
          "GILD_Close <br>Volatility: 0.19 <br>Returns: 5.32% <br>Sharpe Ratio: 0.28",
          "UA_Close <br>Volatility: 0.46 <br>Returns: -42.37% <br>Sharpe Ratio: -0.91",
          "NEE_Close <br>Volatility: 0.11 <br>Returns: 23.55% <br>Sharpe Ratio: 2.10",
          "SNAP_Close <br>Volatility: 0.63 <br>Returns: -61.94% <br>Sharpe Ratio: -0.98",
          "NVDA_Close <br>Volatility: 0.39 <br>Returns: 80.73% <br>Sharpe Ratio: 2.05",
          "BSX_Close <br>Volatility: 0.17 <br>Returns: -1.01% <br>Sharpe Ratio: -0.06",
          "UNH_Close <br>Volatility: 0.14 <br>Returns: 34.90% <br>Sharpe Ratio: 2.48"
         ],
         "marker": {
          "color": {
           "bdata": "nfCNmXIeu7/znu6OlnPrP6DWImzq9vI/rCZ5B/pc9j/XBevu4LOrP3JaiikPf++/akBbyefxAEAz0nbqCVr1P+FzpSiD3+O/JXMRstS6/T9G66zIZcTJvw4FOuQOQ9o/iLz0xygp6T/bvGZiFob4P4aQcRdHJvC/r/s4jz287j+BN9TrRTTDP7UnJi8aWwNAUrlEbptV6z+qvjCWuZnwv54etwstVd4/Ptt62ZfVxz+R8xtW4YP5P1I31FqE3p8/pQOtlPf15D+3HeA9liaIv3O8QbMMBP0/ZVri37VK5z8ZUySkSiHvPxjHa4D7kgfAxJXTVku+379+1kzBIFHUv1d9MF3mbwJACnAIdg2lAUBo8ZFMSorbP9l3KuJiNvA/wU1gwGbQBEAWuzbZ/bPiPzaHXZz0wcO//HmmSYcp9T89rlE26LsDQLafCFAAe+C/I/x0AkfU9D+Nmce5hWsAQICL6Mu76PM/MBt8eDbD9j+5q/6xHmn0Py2iL/qOcuY/p/hNfkd88T8Sf57o98f2P/tbudNqVly/wOIcJtJTC0DRiyNxQ1nsP6soK+C4wvc/LgCE7nK63T+7LhbHwwriP9MT395sHu8/cfZTHar5AkDPqklQYw36P/KxJAbFb+8//tlv8xiZ5j+fOT0CKYZSPySOrH2BAApA0dyLid3n1z9QLzp22mYCQNtoli2pXOU/xFOcPAfM+z9BPufcyK+Vv+hvoxdhrtM/KNnOv4NT2D8rUYO/Ojf6P5pSd0GpJfo/e9Y7yCvv8z/hMpDTjToDQCKVvjlu+wVAiyr7Fxs1CEAxcqbNiIgGQHfQzcnjNgRAbKszRdt3AECJ6Z0bWtvoP9AE2ktwVvw/EiMVS4l9A0D78ZK8e+m4vyHuzHBwEsc/kPk+SNPDA0DCFQ556j3kP5zrcJny+/8/E++hek350T/57GbWpzftvzd58k/lzQBAw6LnbcNN77/FKTTPnmcAQGEasDOJZq6/6FOvuWjNA0A=",
           "dtype": "f8"
          },
          "colorbar": {
           "title": {
            "text": "Sharpe<br>Ratio"
           }
          },
          "colorscale": [
           [
            0,
            "rgb(103,0,31)"
           ],
           [
            0.1,
            "rgb(178,24,43)"
           ],
           [
            0.2,
            "rgb(214,96,77)"
           ],
           [
            0.3,
            "rgb(244,165,130)"
           ],
           [
            0.4,
            "rgb(253,219,199)"
           ],
           [
            0.5,
            "rgb(247,247,247)"
           ],
           [
            0.6,
            "rgb(209,229,240)"
           ],
           [
            0.7,
            "rgb(146,197,222)"
           ],
           [
            0.8,
            "rgb(67,147,195)"
           ],
           [
            0.9,
            "rgb(33,102,172)"
           ],
           [
            1,
            "rgb(5,48,97)"
           ]
          ],
          "line": {
           "width": 1
          },
          "size": 6
         },
         "mode": "markers",
         "type": "scatter",
         "x": {
          "bdata": "EzAd3ttrvj/gXza3+hzJP+LynoUzp8Q/+lG1menmwz9z5EZhdmnDP271kyAGx84/scDps3bIwD8F2lAV6FvSP31m69Rzp+I/cZYEpOl5xj9G9x2I/2rGP9y/S0lwGLk/Vs0IQUiRzj/BQrZrqxu2P/pYtNBxK8Q/3I/ZAYrTwD+ycs+ADB/JPydJQxXcbMM/iwDmEMyfuz/BvT5IRFLDPwNLD9Vy4sw/Hx1g51jdyD8ORIWXdp3YP67p+f0NH8E/MB0vwmMruD+ivE1u4+HBP5g60A0pIss/ISwVRQb01j9+oQJPZ73NP/Bx3yQzQss/VkAc8bQ+xz/L6j9kqTXXPwScnuH2G9E/ALbch0dGvD+dqmdAyiXNP4OUHr3Yssk/b+nEnvVywj973BQLP23IPyYscrnLxcY/pj7CQaDbxD8WiYVA0QO6PxZR6dSWVtM/kcsh0R0IuT+AHdCwuuDBP/K9QxOWd8E/pEFy5ViIxj/4Np7z6vzDPzBsPdYm98c/MNl90r8Wwj/IBThvuDy7P1DiKbjRO8Y/QHQSYJFPxj+2BYwZ1eLDPyo/fUZHQL0/1LyIeWNQyj9554psm3HJP0FtdA6DzMo/c/WLZYo8xz/oqQ6+k5fBP2P3/vD7/cQ/dgyGXgpvwD8JcNgkhhLSP1M23BsZP8k/U4LKf+KWuj8Ddp05HqvEP708U46HqsU/LzbluLFqxD95aqof5nXFP0jr5gFUycI/Y50Ks5fVxT+Y2gw5+iDEP4aM0wH19cM/J2alZ4fSxD8gdbFydkjBP027Nzmhd8E/yc9uni3dxj/Mi/6xkp3NPwo2Hfj22sY/96uEWAkBwT9dEKfxtTvIPyYlX318GsY/XnJoD/d5yD9ySjMA8zzEP/TOm0YeR8U/IJSinDENwD9Q0ZQ99xbHP9L6PmrvKM0/kCHfH2VAyD+pl1q7obLdP5NHzsWHsrw/SmkgnNBC5D/pF2EyjzLZP9pf1IFY0sU/gBAo0psMwj8=",
          "dtype": "f8"
         },
         "y": {
          "bdata": "csbCk/PHib/wY5vXKYvFP2dTYEfTesg/lN3a8yfRyz+7kG9DGs6AP2CRH2UCS86//4FHUTXG0T8nCi328H/YP2kBp1VwK9e/5MZrv7Xh1D9bh8VNLg2iv9rCUxRymKQ/MMb9i9EIyD/8Tp3lY/HAPw2wWp2yW8S/0y8Vi0wpwD8VIMSJ8SaeP1qRHEfgf9c/RwaE0bqYtz89NsUR5wvEv6zkyNEtYbs/nSmJOw+Foj8J70KZdqDjP32qzs8jDXE/DhGzGMuprz9mbHaM9f1avyKndD5kmtg/YlcBRfu00D+iYZ/FbO7MPxyafgjJFOS/t0P1VfoOt7/k8pTqwni9vxL8MhQet+M/hOyyi1guzz9tm69L2RW5P3rNTiszCso/p4Y2+v//1z8BhtWosI28PyHylPzvHpy/oa8SfmWWyz/zQfZUBwvQPzJxKd1A68O/p8ss9B9LwD9I4PP83ljSP1nnPDsVvMU/a3FhVjIH0D+HGPnOd3/JP8NXwEG2z8A/V4kD8qzEwz/z4xhq82PDPzSBBX5isDO/xmjdjpMN4z9r10ZA853BP3+YSOkxuMU/eSbb6ityuD+ymW4w7bC8P8ZGvt2ZD8o/+eff6bCO2z8USgtvCKXMP2ipAVNen8Q/fRC5te01tz+ZSedeYOw0P9PBJpCqg+Q/rX46Exzdoz/qabUVX8XXP5i3Mo1L7bw/Msb+vjK80T9b1ZH4hBZtv1yBJTTTG6c/J2MFrS2ZsD+udqnwiH3QP0b4kQhVT9A/hAISjELxyT9Crq2ITMXUP0RnyaGA/9c/Gm8i5tNL4T9EbdYlsdrkPxOEfhod4Nw/F1TCFWqA0T+XykRX5dLCP4uSXK3hktM/juejQ+DQ3T+h8RGWwIKPv2iyZQ/Brp4/stserR/U0z/jsib6Dja9PySTOxY+Jd0/8DJkB0s+qz/MRfpaiR3bv69NAHzSI84/Vov0mfbR478mvcvFvtXpP5YunwMfu4S/LZ1wubBW1j8=",
          "dtype": "f8"
         }
        }
       ],
       "layout": {
        "template": {
         "data": {
          "bar": [
           {
            "error_x": {
             "color": "#2a3f5f"
            },
            "error_y": {
             "color": "#2a3f5f"
            },
            "marker": {
             "line": {
              "color": "#E5ECF6",
              "width": 0.5
             },
             "pattern": {
              "fillmode": "overlay",
              "size": 10,
              "solidity": 0.2
             }
            },
            "type": "bar"
           }
          ],
          "barpolar": [
           {
            "marker": {
             "line": {
              "color": "#E5ECF6",
              "width": 0.5
             },
             "pattern": {
              "fillmode": "overlay",
              "size": 10,
              "solidity": 0.2
             }
            },
            "type": "barpolar"
           }
          ],
          "carpet": [
           {
            "aaxis": {
             "endlinecolor": "#2a3f5f",
             "gridcolor": "white",
             "linecolor": "white",
             "minorgridcolor": "white",
             "startlinecolor": "#2a3f5f"
            },
            "baxis": {
             "endlinecolor": "#2a3f5f",
             "gridcolor": "white",
             "linecolor": "white",
             "minorgridcolor": "white",
             "startlinecolor": "#2a3f5f"
            },
            "type": "carpet"
           }
          ],
          "choropleth": [
           {
            "colorbar": {
             "outlinewidth": 0,
             "ticks": ""
            },
            "type": "choropleth"
           }
          ],
          "contour": [
           {
            "colorbar": {
             "outlinewidth": 0,
             "ticks": ""
            },
            "colorscale": [
             [
              0,
              "#0d0887"
             ],
             [
              0.1111111111111111,
              "#46039f"
             ],
             [
              0.2222222222222222,
              "#7201a8"
             ],
             [
              0.3333333333333333,
              "#9c179e"
             ],
             [
              0.4444444444444444,
              "#bd3786"
             ],
             [
              0.5555555555555556,
              "#d8576b"
             ],
             [
              0.6666666666666666,
              "#ed7953"
             ],
             [
              0.7777777777777778,
              "#fb9f3a"
             ],
             [
              0.8888888888888888,
              "#fdca26"
             ],
             [
              1,
              "#f0f921"
             ]
            ],
            "type": "contour"
           }
          ],
          "contourcarpet": [
           {
            "colorbar": {
             "outlinewidth": 0,
             "ticks": ""
            },
            "type": "contourcarpet"
           }
          ],
          "heatmap": [
           {
            "colorbar": {
             "outlinewidth": 0,
             "ticks": ""
            },
            "colorscale": [
             [
              0,
              "#0d0887"
             ],
             [
              0.1111111111111111,
              "#46039f"
             ],
             [
              0.2222222222222222,
              "#7201a8"
             ],
             [
              0.3333333333333333,
              "#9c179e"
             ],
             [
              0.4444444444444444,
              "#bd3786"
             ],
             [
              0.5555555555555556,
              "#d8576b"
             ],
             [
              0.6666666666666666,
              "#ed7953"
             ],
             [
              0.7777777777777778,
              "#fb9f3a"
             ],
             [
              0.8888888888888888,
              "#fdca26"
             ],
             [
              1,
              "#f0f921"
             ]
            ],
            "type": "heatmap"
           }
          ],
          "histogram": [
           {
            "marker": {
             "pattern": {
              "fillmode": "overlay",
              "size": 10,
              "solidity": 0.2
             }
            },
            "type": "histogram"
           }
          ],
          "histogram2d": [
           {
            "colorbar": {
             "outlinewidth": 0,
             "ticks": ""
            },
            "colorscale": [
             [
              0,
              "#0d0887"
             ],
             [
              0.1111111111111111,
              "#46039f"
             ],
             [
              0.2222222222222222,
              "#7201a8"
             ],
             [
              0.3333333333333333,
              "#9c179e"
             ],
             [
              0.4444444444444444,
              "#bd3786"
             ],
             [
              0.5555555555555556,
              "#d8576b"
             ],
             [
              0.6666666666666666,
              "#ed7953"
             ],
             [
              0.7777777777777778,
              "#fb9f3a"
             ],
             [
              0.8888888888888888,
              "#fdca26"
             ],
             [
              1,
              "#f0f921"
             ]
            ],
            "type": "histogram2d"
           }
          ],
          "histogram2dcontour": [
           {
            "colorbar": {
             "outlinewidth": 0,
             "ticks": ""
            },
            "colorscale": [
             [
              0,
              "#0d0887"
             ],
             [
              0.1111111111111111,
              "#46039f"
             ],
             [
              0.2222222222222222,
              "#7201a8"
             ],
             [
              0.3333333333333333,
              "#9c179e"
             ],
             [
              0.4444444444444444,
              "#bd3786"
             ],
             [
              0.5555555555555556,
              "#d8576b"
             ],
             [
              0.6666666666666666,
              "#ed7953"
             ],
             [
              0.7777777777777778,
              "#fb9f3a"
             ],
             [
              0.8888888888888888,
              "#fdca26"
             ],
             [
              1,
              "#f0f921"
             ]
            ],
            "type": "histogram2dcontour"
           }
          ],
          "mesh3d": [
           {
            "colorbar": {
             "outlinewidth": 0,
             "ticks": ""
            },
            "type": "mesh3d"
           }
          ],
          "parcoords": [
           {
            "line": {
             "colorbar": {
              "outlinewidth": 0,
              "ticks": ""
             }
            },
            "type": "parcoords"
           }
          ],
          "pie": [
           {
            "automargin": true,
            "type": "pie"
           }
          ],
          "scatter": [
           {
            "fillpattern": {
             "fillmode": "overlay",
             "size": 10,
             "solidity": 0.2
            },
            "type": "scatter"
           }
          ],
          "scatter3d": [
           {
            "line": {
             "colorbar": {
              "outlinewidth": 0,
              "ticks": ""
             }
            },
            "marker": {
             "colorbar": {
              "outlinewidth": 0,
              "ticks": ""
             }
            },
            "type": "scatter3d"
           }
          ],
          "scattercarpet": [
           {
            "marker": {
             "colorbar": {
              "outlinewidth": 0,
              "ticks": ""
             }
            },
            "type": "scattercarpet"
           }
          ],
          "scattergeo": [
           {
            "marker": {
             "colorbar": {
              "outlinewidth": 0,
              "ticks": ""
             }
            },
            "type": "scattergeo"
           }
          ],
          "scattergl": [
           {
            "marker": {
             "colorbar": {
              "outlinewidth": 0,
              "ticks": ""
             }
            },
            "type": "scattergl"
           }
          ],
          "scattermap": [
           {
            "marker": {
             "colorbar": {
              "outlinewidth": 0,
              "ticks": ""
             }
            },
            "type": "scattermap"
           }
          ],
          "scattermapbox": [
           {
            "marker": {
             "colorbar": {
              "outlinewidth": 0,
              "ticks": ""
             }
            },
            "type": "scattermapbox"
           }
          ],
          "scatterpolar": [
           {
            "marker": {
             "colorbar": {
              "outlinewidth": 0,
              "ticks": ""
             }
            },
            "type": "scatterpolar"
           }
          ],
          "scatterpolargl": [
           {
            "marker": {
             "colorbar": {
              "outlinewidth": 0,
              "ticks": ""
             }
            },
            "type": "scatterpolargl"
           }
          ],
          "scatterternary": [
           {
            "marker": {
             "colorbar": {
              "outlinewidth": 0,
              "ticks": ""
             }
            },
            "type": "scatterternary"
           }
          ],
          "surface": [
           {
            "colorbar": {
             "outlinewidth": 0,
             "ticks": ""
            },
            "colorscale": [
             [
              0,
              "#0d0887"
             ],
             [
              0.1111111111111111,
              "#46039f"
             ],
             [
              0.2222222222222222,
              "#7201a8"
             ],
             [
              0.3333333333333333,
              "#9c179e"
             ],
             [
              0.4444444444444444,
              "#bd3786"
             ],
             [
              0.5555555555555556,
              "#d8576b"
             ],
             [
              0.6666666666666666,
              "#ed7953"
             ],
             [
              0.7777777777777778,
              "#fb9f3a"
             ],
             [
              0.8888888888888888,
              "#fdca26"
             ],
             [
              1,
              "#f0f921"
             ]
            ],
            "type": "surface"
           }
          ],
          "table": [
           {
            "cells": {
             "fill": {
              "color": "#EBF0F8"
             },
             "line": {
              "color": "white"
             }
            },
            "header": {
             "fill": {
              "color": "#C8D4E3"
             },
             "line": {
              "color": "white"
             }
            },
            "type": "table"
           }
          ]
         },
         "layout": {
          "annotationdefaults": {
           "arrowcolor": "#2a3f5f",
           "arrowhead": 0,
           "arrowwidth": 1
          },
          "autotypenumbers": "strict",
          "coloraxis": {
           "colorbar": {
            "outlinewidth": 0,
            "ticks": ""
           }
          },
          "colorscale": {
           "diverging": [
            [
             0,
             "#8e0152"
            ],
            [
             0.1,
             "#c51b7d"
            ],
            [
             0.2,
             "#de77ae"
            ],
            [
             0.3,
             "#f1b6da"
            ],
            [
             0.4,
             "#fde0ef"
            ],
            [
             0.5,
             "#f7f7f7"
            ],
            [
             0.6,
             "#e6f5d0"
            ],
            [
             0.7,
             "#b8e186"
            ],
            [
             0.8,
             "#7fbc41"
            ],
            [
             0.9,
             "#4d9221"
            ],
            [
             1,
             "#276419"
            ]
           ],
           "sequential": [
            [
             0,
             "#0d0887"
            ],
            [
             0.1111111111111111,
             "#46039f"
            ],
            [
             0.2222222222222222,
             "#7201a8"
            ],
            [
             0.3333333333333333,
             "#9c179e"
            ],
            [
             0.4444444444444444,
             "#bd3786"
            ],
            [
             0.5555555555555556,
             "#d8576b"
            ],
            [
             0.6666666666666666,
             "#ed7953"
            ],
            [
             0.7777777777777778,
             "#fb9f3a"
            ],
            [
             0.8888888888888888,
             "#fdca26"
            ],
            [
             1,
             "#f0f921"
            ]
           ],
           "sequentialminus": [
            [
             0,
             "#0d0887"
            ],
            [
             0.1111111111111111,
             "#46039f"
            ],
            [
             0.2222222222222222,
             "#7201a8"
            ],
            [
             0.3333333333333333,
             "#9c179e"
            ],
            [
             0.4444444444444444,
             "#bd3786"
            ],
            [
             0.5555555555555556,
             "#d8576b"
            ],
            [
             0.6666666666666666,
             "#ed7953"
            ],
            [
             0.7777777777777778,
             "#fb9f3a"
            ],
            [
             0.8888888888888888,
             "#fdca26"
            ],
            [
             1,
             "#f0f921"
            ]
           ]
          },
          "colorway": [
           "#636efa",
           "#EF553B",
           "#00cc96",
           "#ab63fa",
           "#FFA15A",
           "#19d3f3",
           "#FF6692",
           "#B6E880",
           "#FF97FF",
           "#FECB52"
          ],
          "font": {
           "color": "#2a3f5f"
          },
          "geo": {
           "bgcolor": "white",
           "lakecolor": "white",
           "landcolor": "#E5ECF6",
           "showlakes": true,
           "showland": true,
           "subunitcolor": "white"
          },
          "hoverlabel": {
           "align": "left"
          },
          "hovermode": "closest",
          "mapbox": {
           "style": "light"
          },
          "paper_bgcolor": "white",
          "plot_bgcolor": "#E5ECF6",
          "polar": {
           "angularaxis": {
            "gridcolor": "white",
            "linecolor": "white",
            "ticks": ""
           },
           "bgcolor": "#E5ECF6",
           "radialaxis": {
            "gridcolor": "white",
            "linecolor": "white",
            "ticks": ""
           }
          },
          "scene": {
           "xaxis": {
            "backgroundcolor": "#E5ECF6",
            "gridcolor": "white",
            "gridwidth": 2,
            "linecolor": "white",
            "showbackground": true,
            "ticks": "",
            "zerolinecolor": "white"
           },
           "yaxis": {
            "backgroundcolor": "#E5ECF6",
            "gridcolor": "white",
            "gridwidth": 2,
            "linecolor": "white",
            "showbackground": true,
            "ticks": "",
            "zerolinecolor": "white"
           },
           "zaxis": {
            "backgroundcolor": "#E5ECF6",
            "gridcolor": "white",
            "gridwidth": 2,
            "linecolor": "white",
            "showbackground": true,
            "ticks": "",
            "zerolinecolor": "white"
           }
          },
          "shapedefaults": {
           "line": {
            "color": "#2a3f5f"
           }
          },
          "ternary": {
           "aaxis": {
            "gridcolor": "white",
            "linecolor": "white",
            "ticks": ""
           },
           "baxis": {
            "gridcolor": "white",
            "linecolor": "white",
            "ticks": ""
           },
           "bgcolor": "#E5ECF6",
           "caxis": {
            "gridcolor": "white",
            "linecolor": "white",
            "ticks": ""
           }
          },
          "title": {
           "x": 0.05
          },
          "xaxis": {
           "automargin": true,
           "gridcolor": "white",
           "linecolor": "white",
           "ticks": "",
           "title": {
            "standoff": 15
           },
           "zerolinecolor": "white",
           "zerolinewidth": 2
          },
          "yaxis": {
           "automargin": true,
           "gridcolor": "white",
           "linecolor": "white",
           "ticks": "",
           "title": {
            "standoff": 15
           },
           "zerolinecolor": "white",
           "zerolinewidth": 2
          }
         }
        },
        "title": {
         "text": "Markowitz Mean Varience Model"
        },
        "xaxis": {
         "title": {
          "text": "Volatility (Standard Deviation)"
         }
        },
        "yaxis": {
         "title": {
          "text": "Annualized Returns"
         }
        }
       }
      }
     },
     "metadata": {},
     "output_type": "display_data"
    }
   ],
   "source": [
    "hover_texts = [\n",
    "    f\"{ticker} <br>Volatility: {vol:.2f} <br>Returns: {ret:.2%} <br>Sharpe Ratio: {sr:.2f}\"\n",
    "    for ticker, vol, ret, sr in zip(names, volatility, annualized_returns, sharpe_ratios)\n",
    "]\n",
    "\n",
    "fig = go.Figure(data=go.Scatter(\n",
    "    x=volatility, \n",
    "    y=annualized_returns, \n",
    "    mode='markers',\n",
    "    hoverinfo='text',\n",
    "    hovertext=hover_texts,\n",
    "    marker=dict(color=sharpe_ratios, colorscale = 'RdBu', size=6, line=dict(width=1), colorbar=dict(title=\"Sharpe<br>Ratio\")\n",
    "    )\n",
    "))\n",
    "\n",
    "fig.update_layout(\n",
    "    title='Markowitz Mean Varience Model',\n",
    "    xaxis_title='Volatility (Standard Deviation)',\n",
    "    yaxis_title='Annualized Returns',\n",
    ")\n",
    "\n",
    "fig.show()\n"
   ]
  },
  {
   "cell_type": "markdown",
   "metadata": {},
   "source": [
    "## 4.0 Monte Carlo Method"
   ]
  },
  {
   "cell_type": "code",
   "execution_count": 132,
   "metadata": {},
   "outputs": [
    {
     "name": "stderr",
     "output_type": "stream",
     "text": [
      "100%|██████████| 1000/1000 [00:02<00:00, 382.58it/s]\n"
     ]
    }
   ],
   "source": [
    "all_portfolios, dominant_portfolios = MonteCarloRBA(names, cov, annualized_returns, 1000)"
   ]
  },
  {
   "cell_type": "code",
   "execution_count": 133,
   "metadata": {},
   "outputs": [
    {
     "name": "stdout",
     "output_type": "stream",
     "text": [
      "55 1000\n"
     ]
    }
   ],
   "source": [
    "print (len(dominant_portfolios) ,len(all_portfolios))"
   ]
  },
  {
   "cell_type": "code",
   "execution_count": 134,
   "metadata": {},
   "outputs": [
    {
     "data": {
      "application/vnd.plotly.v1+json": {
       "config": {
        "plotlyServerURL": "https://plot.ly"
       },
       "data": [
        {
         "hoverinfo": "text",
         "marker": {
          "color": [
           3.526964917667914,
           1.6341946179647155,
           2.420819786421685,
           4.163781825058359,
           2.0525011552846935,
           2.2790425778506562,
           2.9305166078480496,
           0.9823937530505289,
           2.497967988501164,
           2.135620514520765,
           0.7278699276674382,
           3.9027910285508294,
           3.519043241987225,
           1.5782447356235623,
           2.545812830548757,
           2.671917806149672,
           2.181301303497137,
           2.8792224265279045,
           2.91815787021143,
           3.6983366969514755,
           0.9782115072654554,
           0.9758873936614706,
           2.214594654517971,
           2.476202601932462,
           3.1590620167701764,
           2.376807921806173,
           3.118915022542711,
           1.9498390173972746,
           0.9561473350758812,
           1.6282848060912538,
           2.295015840271997,
           2.0630305403599545,
           2.141598862771736,
           2.9612030354779058,
           1.5557355181512937,
           2.4140868347911293,
           3.8313048742970968,
           1.9990106576721933,
           0.9721867502669426,
           2.57537456360402,
           1.1613096119764108,
           2.0193085945882046,
           3.523870856594231,
           3.0278567646734476,
           3.0252921411460614,
           1.6578874504616086,
           2.103628933663527,
           2.5897832085496817,
           2.7050283719883965,
           1.762326611265016,
           1.6907536826084175,
           1.4078609486953069,
           1.1620789872528683,
           2.6600118204530303,
           4.638698927066364,
           1.9657567611971563,
           2.838909051712945,
           2.312244694585415,
           3.368538356301266,
           1.6391204690555605,
           3.48181068078865,
           3.15912778247771,
           1.0319076056806542,
           2.763259074313707,
           2.4031454028547694,
           1.8208048863730342,
           3.0928346081101057,
           2.8837499095834382,
           1.7521811031557737,
           2.452025456668315,
           2.4367538671124023,
           3.2067300645164454,
           3.5501277035944896,
           2.6414991588077945,
           1.796267784035226,
           1.863327741490359,
           2.10493553052868,
           3.475622009215815,
           1.7823531846930187,
           1.6153465391076334,
           2.4638898534777556,
           2.2518416387341174,
           0.031122272533188135,
           1.0539459003739393,
           2.563468842859047,
           3.060330688617403,
           2.3002213703638645,
           3.155262821585218,
           0.7864013696513779,
           2.436297022421406,
           2.5904924475100413,
           1.5180906750927023,
           3.0498130587848697,
           3.20716824828809,
           1.4917437996493312,
           1.9396201526755275,
           1.275664038936823,
           2.7092515250881277,
           1.4104568491802796,
           3.042352336113395,
           0.9728139120003069,
           4.574226052474459,
           2.3254050695344595,
           2.583800052530888,
           2.685528480551345,
           2.5886535307419005,
           1.5172088650270859,
           0.9746675683612417,
           3.2691589489017154,
           3.0669859434895668,
           -0.05937603717764623,
           1.8241487696975769,
           1.9047605976529043,
           0.8233109111532031,
           3.2830420377031992,
           2.154998427041652,
           3.106501918796439,
           1.5181717981349705,
           2.5043988859460358,
           1.6340643308981582,
           3.0412920353298953,
           2.0366231882588255,
           2.4072391567097084,
           1.9209339026809833,
           0.6325580944400644,
           2.2694188556946915,
           3.2430777340127332,
           2.45887186055465,
           1.4119170009215074,
           2.170133495363644,
           2.130162536776641,
           3.453122534360677,
           1.3544791591380467,
           2.937356597986105,
           2.256244840235551,
           2.538681673437585,
           2.525197794695065,
           2.333826739284024,
           1.6282685409775466,
           2.7193267549290066,
           3.709253273046589,
           3.4511059710418928,
           2.941153865582095,
           3.468956480825712,
           4.021784707531136,
           1.8069679065756965,
           2.166997608232247,
           1.6511565943102646,
           3.1977922896287323,
           1.7513428855436641,
           2.491421109842341,
           2.934481531569088,
           3.706680680536006,
           2.2730087720829317,
           2.4035908249264684,
           0.8542000917130201,
           2.932549390944812,
           3.322941705273388,
           2.8322640465824884,
           2.7637145124123785,
           2.623043933590485,
           2.53386407433875,
           3.4159281709253566,
           2.5268016591963334,
           2.069917400256519,
           2.2770666943729956,
           2.7053668850732966,
           0.854200091712843,
           3.8231706344709306,
           1.977131170821084,
           1.0603840620624239,
           2.615965497897614,
           2.4035908249264595,
           2.48242238822022,
           2.03135664749644,
           3.322182741354204,
           4.11792622241963,
           2.058523693694431,
           3.2601304306662353,
           2.758190887753145,
           1.8875009210189322,
           2.11811787900665,
           2.744557252281644,
           2.6071228480763287,
           2.489835565399304,
           1.0191403899910014,
           2.003309513215695,
           2.7158304590603755,
           3.2014171286263253,
           2.71539696152109,
           1.611977778523906,
           3.087276954294142,
           2.1201651573126075,
           2.3140497059927476,
           1.4655894901164754,
           2.1980966687800234,
           2.6043142558797117,
           3.098107336421768,
           3.201837829203041,
           2.548327775723646,
           0.6517653369136227,
           2.527820872953672,
           2.4743922654755766,
           2.980897255564106,
           2.2144030888670154,
           2.015105107555148,
           3.5214595225443164,
           2.3511594555272213,
           2.243748482576577,
           2.3893958889068068,
           1.6448655353947912,
           2.7555945662678685,
           3.2863347496616315,
           2.3719064990280505,
           1.3587549950327131,
           1.7929712734453815,
           3.2957923529248925,
           1.9402699285486098,
           2.777279959305981,
           2.593691752469693,
           2.857726724407972,
           2.127433377714353,
           3.362668394681142,
           3.8017355550907324,
           2.1682667253205867,
           3.568729771334971,
           2.883333590409333,
           1.3091278519769227,
           2.5409911837683663,
           2.346286102353265,
           2.7160417296399793,
           2.843121341086767,
           2.5975766841230996,
           1.8352392047907078,
           2.1189209907065902,
           2.9940998499794773,
           2.7471284259052617,
           2.1527297016362676,
           2.487407080475939,
           1.0878873807026743,
           2.386320661694668,
           2.9642772579817156,
           1.54552195155113,
           1.2156104221128543,
           1.8801993807453903,
           0.8838920671452326,
           1.8352128458615393,
           3.9484167013891427,
           4.493357193160605,
           1.735087219631598,
           1.4850395924172868,
           2.1818844328437224,
           2.6214586927719075,
           2.8649550078086863,
           2.711320167247765,
           2.3751558678918827,
           1.845990558678233,
           3.1217389308498817,
           3.499038976741444,
           1.5116970535151744,
           2.8700735490536977,
           2.486572070066251,
           1.8581129985606788,
           3.7294829895970105,
           2.0266941898384814,
           2.1014872254905956,
           3.23345225012788,
           3.4441302014345787,
           1.856214030309673,
           0.7902475750184687,
           1.9848174364345506,
           2.583198279301173,
           3.0906064398023805,
           3.1181208556642113,
           2.420345534797448,
           2.5512799341691914,
           2.238591993852995,
           2.111074424738351,
           3.180782114417106,
           2.7805184539665557,
           3.0260068193928342,
           2.799542256560828,
           1.867686488685885,
           2.8500366182396677,
           2.8026712332107944,
           2.8084830470064013,
           1.981465749322883,
           3.1489687785150404,
           2.910124148698324,
           3.2246233554100523,
           1.245746398717918,
           1.6163461369715975,
           2.5093786785398073,
           2.9572850686460743,
           2.7809280785001365,
           1.4719347343380527,
           2.1065486205178976,
           3.118043739688271,
           3.0204075920466797,
           2.5815780732450686,
           2.4772741523370363,
           2.5215314422236426,
           3.09147012409844,
           3.6289461874347815,
           2.332639963249724,
           2.9281262317025503,
           2.4414250841604677,
           3.0624492933601473,
           2.5451784417237664,
           2.439074011623586,
           2.1266926653033598,
           2.4194835361022,
           2.532977181317672,
           3.496866406536734,
           2.850798099766227,
           3.3951851913715285,
           3.1909305988324665,
           3.674259763752112,
           2.7890358789567173,
           2.9623809305184685,
           2.9965891617677483,
           1.038196797603864,
           1.9979010228389138,
           3.6749649016710357,
           1.1410744126848142,
           0.965849371515065,
           3.119413682041033,
           2.295726342995162,
           2.371270606430175,
           3.187291149638632,
           2.314973958076242,
           3.0079539802876023,
           3.5375210331505573,
           1.3976993839191136,
           1.9196351243270784,
           2.7617778425534865,
           3.8339078748874877,
           3.049032733435947,
           3.2964860117539114,
           1.3780758282584653,
           2.957467002925827,
           3.4906120928921562,
           1.2658182723187263,
           2.6411218967004175,
           3.6289461032930475,
           3.136632659466459,
           2.7898407830846343,
           3.5525922021932423,
           2.2603742826879345,
           3.072048536112684,
           4.059736585189429,
           3.060982228267064,
           2.8215367593760585,
           2.4649936849736194,
           1.9940030656067664,
           0.9474647357956874,
           2.1760243880429933,
           3.8132040772161617,
           1.2846768893719438,
           2.915310452061193,
           2.5266210314951048,
           1.4857801764524032,
           3.000815311331292,
           2.820856632599402,
           3.3642320589787893,
           2.562908783986022,
           3.4969799465542772,
           3.0487229428232365,
           3.2821243346364897,
           1.8035426882558256,
           3.0718434935141583,
           3.353626401326627,
           3.170089780194341,
           0.5638140571986335,
           1.6965955653965943,
           3.1966134561860913,
           1.9649552956467349,
           2.8390801735009314,
           2.856064322473868,
           3.381465691878619,
           2.849564044837919,
           2.7554140867151147,
           2.3483990504904333,
           2.4430526472622525,
           3.2368470910396616,
           1.3889748156931858,
           2.7535802826611353,
           3.3085061564052523,
           0.8432273659554399,
           2.826073050751481,
           3.2099156248956215,
           2.934946049757529,
           1.8914064295400863,
           2.711110536983699,
           2.473124302994236,
           1.019140379390322,
           3.00637964571536,
           3.227581382683073,
           2.424778120584686,
           2.8624773575138884,
           1.6339118886739028,
           2.721949959242463,
           3.128534334388934,
           0.5945842011406357,
           2.3028588961729772,
           2.622009375670859,
           3.1405852785122153,
           1.3989229788949844,
           2.002239767237263,
           1.9870243060728838,
           2.723526093323821,
           1.9555573975907843,
           3.015541582362422,
           3.387890766220715,
           1.3421731285628549,
           2.7274748500765478,
           3.130437045098639,
           2.816667181627303,
           3.29248417776532,
           3.178543338587034,
           1.9114930921102595,
           2.246405952123755,
           0.7767763652221201,
           2.8509429305828835,
           1.6290579450368798,
           3.097000256677309,
           2.11977629133746,
           2.2826839763928297,
           2.0665036025870034,
           2.479569631925385,
           3.2007339223951603,
           2.5278208707160914,
           2.9817188923449574,
           3.2705136030562425,
           1.8145974339276707,
           3.5251309446916466,
           3.193950732460852,
           1.8622926380461637,
           1.2957010056823324,
           2.4407403966374095,
           1.6212834557271667,
           1.7829737603847633,
           2.453947647816736,
           0.9724640229184108,
           2.111117469027945,
           3.032313264078491,
           1.4095941952188404,
           2.3002213703638645,
           2.8581011725807914,
           2.4144402045879185,
           3.4795362255753424,
           2.4682008633931383,
           2.86684428090817,
           2.1002081645301,
           1.6543574664448284,
           0.7229524963531063,
           1.6663217752263584,
           3.42880182886402,
           3.7633151213838314,
           2.9378501441502793,
           2.1051589431154563,
           2.2745683561806054,
           3.0835472217686535,
           2.072309127256552,
           4.369076714957867,
           3.0889457768169204,
           0.9728139120003078,
           2.434784847954149,
           3.377131314115791,
           2.8871413600501037,
           2.730784116214827,
           2.5558337777206575,
           1.6282685409675084,
           3.4703968041606514,
           1.204492814763702,
           3.1290493813172757,
           2.304827244006813,
           3.4755243258256674,
           2.633667969669475,
           3.1759713855964167,
           2.42038821328769,
           2.3149740730842594,
           2.4283975316401842,
           3.2121265283416958,
           2.205991078592457,
           1.7647810250247626,
           2.789035935028785,
           3.132237808988258,
           2.7856047783917233,
           2.033147141002774,
           0.7864015185332378,
           3.106501704656305,
           3.316035059162721,
           2.9203049203592397,
           3.4605694353644614,
           2.795212616423074,
           2.299526617617895,
           3.8608809852698736,
           2.5617970098869343,
           3.5272532323807315,
           2.1661486088117834,
           2.9892394908918205,
           2.971093615639187,
           2.4546019729310067,
           2.6773762066914664,
           1.9321493221682784,
           1.2489001976335876,
           3.319967992116135,
           2.508539472604362,
           3.0151160039378597,
           2.799200065574542,
           2.7175501105893134,
           2.217095728277512,
           2.742978787698245,
           2.321369620062265,
           2.2081225564660687,
           2.667921099280631,
           2.118263208849334,
           3.153055793250779,
           3.5253242219512444,
           2.9720985091126515,
           3.2048226738623105,
           1.164131833307703,
           2.6706234648858778,
           0.28084122634730685,
           2.6742138969377502,
           2.1418126408201976,
           2.633667911004513,
           2.3622611469169206,
           2.0309224898549565,
           3.8009968510712224,
           3.026047166648541,
           3.439248935378465,
           3.791702796728937,
           2.5268758550266024,
           2.738303457693057,
           1.8858475842279634,
           2.8042145922051835,
           2.9780517161118314,
           0.186205846015321,
           2.9979131490176294,
           2.6386670891361215,
           4.178509535043224,
           2.4320281826003374,
           1.7345991494350033,
           1.4632358919356678,
           1.177102977505274,
           3.3767084997519135,
           2.8064028445856097,
           3.4140775792014497,
           3.7433663308973038,
           2.644525133172009,
           1.2517439678091562,
           1.867686554720136,
           2.560817819724976,
           2.6263098928595965,
           2.061690714312872,
           2.941632760099702,
           1.5656360829576754,
           1.7570785754377332,
           4.08594331761391,
           3.0146575791868053,
           1.3344821127658513,
           2.509237647284398,
           2.80220617387062,
           2.3562907197586043,
           1.4951174398138791,
           4.122648938991397,
           1.915584928146465,
           1.0928416188976742,
           2.7688438160734132,
           3.498927640439945,
           2.6858349443234886,
           3.0239147717039665,
           3.8346690428377874,
           1.7719891826114522,
           3.6545104782514115,
           2.7725571565049507,
           2.5681120743142665,
           1.9546925417056422,
           3.7410988866222836,
           2.4650094896937347,
           3.3582417307135937,
           2.6461675212825346,
           3.2288654565834616,
           2.773727730853972,
           2.4198089887640384,
           3.4558310043822065,
           2.175731410409001,
           2.633568348461431,
           3.1075518314719544,
           4.017799996533199,
           1.1179642282997027,
           2.42034556086808,
           2.5932527656697966,
           3.703604806268359,
           2.3798367972126893,
           2.9443633406247294,
           3.1762951601332516,
           2.53767239727133,
           2.468350301680244,
           1.1852821563783549,
           0.556467246562554,
           1.778223122851224,
           3.7209767065730115,
           2.831248590590395,
           2.419483536102201,
           3.6776690840374644,
           3.5006123838451932,
           3.3264682013435953,
           1.9923189663310843,
           2.62946796319989,
           1.1600126346917303,
           3.4937584321471586,
           2.0848172216823198,
           3.015934225682097,
           1.3222357441997636,
           3.617623537621084,
           3.1878308907039847,
           3.0127223782851846,
           2.741455870696051,
           1.0152553060429153,
           3.276217835148266,
           3.7938652410513987,
           3.1233937177646864,
           4.089583736935434,
           2.690204155660474,
           2.8974762514615273,
           0.5961056652841346,
           2.0667636427579814,
           2.3069688119755916,
           3.212126504245988,
           3.798747261399094,
           3.1805501161377268,
           2.348231069462759,
           3.5260596433672347,
           2.415595097078681,
           0.9823937530505289,
           3.6176931298763435,
           2.8537408117940273,
           2.076632080437868,
           3.4078999259329237,
           3.386465226469177,
           1.419853358125421,
           2.6009347123259436,
           3.250246984318226,
           2.371906499028042,
           2.313113925323735,
           2.301500796721594,
           1.8250698872099766,
           3.4227747856005797,
           2.842514860322025,
           1.5619087667651894,
           3.7317030821887043,
           0.9728139120003078,
           2.148009673553726,
           4.043492678957835,
           1.8610911957822875,
           3.330105126430429,
           0.9318585574053265,
           2.981478719489786,
           2.402023193429033,
           1.4321858740168347,
           3.0232504244167155,
           2.3874225474533315,
           2.276409324998696,
           1.268269281224178,
           2.4009160931842404,
           1.3435624161742692,
           2.446540340174375,
           2.6704340161769,
           2.7477688323293847,
           1.7479481729788031,
           1.5879940494660927,
           1.8897223868367068,
           0.15003274931990165,
           4.296119205295016,
           2.638831012085737,
           2.8891309682969313,
           2.3794898083025666,
           0.5638140571986325,
           2.075388880371638,
           2.400544480121362,
           2.1912225883422582,
           1.4247895460227094,
           2.6334493473559792,
           3.039596160556273,
           3.6275512735190674,
           1.6428785203627707,
           1.5830423657849828,
           1.9055105950575355,
           1.7000609398649418,
           3.8858347250188294,
           2.912832665816846,
           2.6927485052358784,
           2.0744658697622564,
           3.5737414695947995,
           2.2811669760625617,
           2.209779261783609,
           2.881671722086903,
           0.9461013267304271,
           2.8276616332357003,
           2.4706178325861345,
           1.6649975752966877,
           0.8229613314042739,
           1.927705978091562,
           2.8070511369480915,
           3.090868528480855,
           1.6419538129276885,
           3.6942328763906422,
           2.417936803153002,
           3.66262245008711,
           3.5241500071437577,
           2.587821357453111,
           1.4514192587716683,
           2.8883027400104093,
           2.400149796919431,
           2.8489299914116435,
           3.2814197178296824,
           0.7278699276674386,
           1.5133036980547443,
           3.6271735015790405,
           2.740875209427775,
           1.5361219256536545,
           2.5543240051737532,
           3.471009597249112,
           3.65278410922796,
           1.372076885220176,
           2.876386918505912,
           0.885896416639634,
           3.065262367567764,
           4.3815324782711995,
           2.6629766420501166,
           2.9334281478579873,
           2.4421172954097865,
           3.1369764557199478,
           2.556795911144568,
           2.1413743420739997,
           2.9897817824411814,
           2.7992000658645733,
           0.3735269396997412,
           1.4307148497308932,
           3.6288580290099066,
           2.5189417634978315,
           3.4299822817561654,
           2.1774310642235224,
           2.8242534593269935,
           2.466751503341383,
           3.0560854116345375,
           3.110628116246397,
           1.5879453014977327,
           1.7766507620064185,
           1.6339118868658593,
           2.9232635110185905,
           1.4953563649916588,
           1.4667906738336502,
           3.6503506485192174,
           2.735925742523866,
           3.458615493648274,
           2.5102853561661274,
           1.4376164101687359,
           2.406429501758394,
           2.7804144599986396,
           2.5445120362234164,
           1.8867678582594876,
           2.545980778043141,
           3.7287625466813097,
           2.4068753943378765,
           2.943083017163963,
           1.5829119316150657,
           3.3306946018955235,
           1.7711031878427996,
           2.2812454099769957,
           4.744821806905015,
           3.303914175622781,
           1.8676865505056828,
           3.197792269745045,
           1.7766507574272332,
           1.0191403760487476,
           2.0399609515484287,
           1.3841760604290971,
           2.0494936968653907,
           2.123573994158715,
           2.0108514012678023,
           2.6131835661895075,
           1.1940127750404481,
           2.9388166792564863,
           1.5374157789724796,
           1.0928416188975936,
           3.879307347394165,
           4.156378257999703,
           0.031122272533188174,
           2.8235251597758357,
           1.735398993329355,
           2.7743861724582883,
           0.9690379600949424,
           3.3460693307532465,
           2.456224402079178,
           2.5331249261604243,
           3.2565350452571598,
           2.597297984987556,
           2.751258345800617,
           3.0048467447975313,
           2.2128187462507025,
           1.345577985570254,
           2.583359067231845,
           0.9859401731666497,
           3.123120474614987,
           2.2781334832136952,
           1.8664783844868036,
           3.121893793956481,
           2.3640223636426705,
           1.3764192734660043,
           3.2096129938395466,
           1.4572114358958816,
           3.083998379974471,
           1.3836829728110915,
           2.7790448072282428,
           3.7691908216399916,
           0.6411359927306461,
           2.220337310113356,
           4.375431847886152,
           2.4634281017180664,
           2.8416543533268057,
           1.5187139676181167,
           3.429443940552482,
           2.5695814943300515,
           2.1411370942508166,
           3.4406016999238633,
           2.913309663733859,
           1.766313482846484,
           2.3952320861536416,
           1.6211665954959102,
           2.870038075639273,
           2.6532377618795784,
           1.0253512509072367,
           2.9935244917795205,
           1.580100419031728,
           2.429653561416942,
           2.1235739903335142,
           2.8009381102633513,
           1.737311589012493,
           3.5493507678384826,
           2.4005994973486025,
           1.6084882298498495,
           2.6411236746940387,
           2.9584421034026143,
           2.600412839546585,
           1.857211239614481,
           2.979562821729851,
           3.7585252013797876,
           1.3435624129626647,
           2.5822482101581654,
           1.8134886743753464,
           2.1207297779974748,
           2.715769602060108,
           3.4303500091313905,
           2.064360440540128,
           0.800213150603784,
           2.2817015299210817,
           0.8668748656931071,
           2.4410765207005696,
           2.685326095982656,
           1.798736395191695,
           0.8615657618543887,
           2.7315494943962983,
           2.9487613150066276,
           3.389945805314988,
           3.073559920586439,
           2.4047331131804124,
           1.4121384391394785,
           2.5547871709912866,
           3.3448690045176854,
           2.3814327670534277,
           2.3959809489754993,
           3.1978623473129777,
           1.3735734543975922,
           0.9604785725762273,
           2.4225615854096465,
           2.122691050160708,
           2.8469136536027704,
           2.6049780140613974,
           2.402546482044871,
           2.831762040390655,
           2.905260195814105,
           2.4540995809799537,
           3.899835083579347,
           3.525656830593458,
           3.0529847983742786,
           2.2213575956223433,
           2.137447737979881,
           2.609702836660851,
           1.7094301994800818,
           2.967345961240141,
           2.6240693708580225,
           3.986057060148709,
           2.6584101144496057,
           0.46613731351991294,
           3.264968816738263,
           1.1620789813052135,
           3.6923415155950328,
           1.6419623193629034,
           2.4790012598886357,
           2.4222826178404797,
           2.6603350428235855,
           3.7428178913886914,
           2.070269663690511,
           1.43936385209995,
           2.6668409965541082,
           3.064748069976864,
           2.292049710484856,
           1.9147532261156517,
           1.663010551395918,
           0.47394872802804294,
           2.8065177347617585,
           2.3440082389517523,
           2.5046169085449552,
           2.5371838109346023,
           2.5177505115357017,
           2.4706178325861354,
           3.509478612980562,
           1.240668870550493,
           1.7115875891484187,
           2.2565616090370515,
           0.30882152502243043,
           3.7187836471660964,
           3.6988554041753234,
           2.0372495173920657,
           2.605708127498203,
           2.2699946232095116,
           2.5970811335845365,
           2.4752974039679323,
           3.497800969612501,
           2.5279236398776326,
           4.174948569523883,
           2.9663523446599944,
           1.868644819755515,
           0.9538600742077601,
           2.2457702023352812,
           3.3060978511293984,
           2.330162420719275,
           2.6667899441435363,
           1.6153465166754484,
           2.6727618855343835,
           3.1008588428467188,
           1.3976993839191136,
           2.3222051944319158,
           2.396693629338309,
           0.9762946667575935,
           2.1794541573704245,
           2.632367259212609,
           3.1410028650433546,
           2.0437307867730565,
           0.8583973434500032,
           2.079271593733395,
           2.733005018569224,
           3.4257286377011202,
           1.7395769611906478,
           3.2892789267535947,
           2.3971104883383894,
           1.837554703165727,
           2.4687509851689464,
           1.4566929574532206,
           2.399341951303828,
           2.290266415739667,
           2.5387774299949473,
           2.1794719400731024,
           2.163322315776984,
           2.9319901197529163,
           2.9107786113085083,
           2.5632656628771593,
           2.7297700077715548,
           3.796342256654155,
           2.6400933635574013,
           3.626604331426167,
           3.9074915363621816,
           3.3002545535449963,
           3.7301056951449842,
           0.4303155658488067,
           2.510362700608181,
           2.7321724572592485,
           2.470617832586136,
           2.526211698699135,
           1.6384837609267133,
           1.2846919640508967,
           1.4416253857922212,
           3.4558310075296137,
           1.787620564626335,
           1.4627112663534723,
           3.1820591412875743,
           3.0151911663506215,
           2.4875307185909024,
           2.758026761086245,
           3.5985853544723327,
           1.4692959078817347,
           2.5236388708656525,
           1.2251480766340705,
           1.5042745583161583,
           2.4314009449663487,
           0.564806324714283
          ],
          "colorbar": {
           "title": {
            "text": "Sharpe<br>Ratio"
           }
          },
          "colorscale": [
           [
            0,
            "rgb(103,0,31)"
           ],
           [
            0.1,
            "rgb(178,24,43)"
           ],
           [
            0.2,
            "rgb(214,96,77)"
           ],
           [
            0.3,
            "rgb(244,165,130)"
           ],
           [
            0.4,
            "rgb(253,219,199)"
           ],
           [
            0.5,
            "rgb(247,247,247)"
           ],
           [
            0.6,
            "rgb(209,229,240)"
           ],
           [
            0.7,
            "rgb(146,197,222)"
           ],
           [
            0.8,
            "rgb(67,147,195)"
           ],
           [
            0.9,
            "rgb(33,102,172)"
           ],
           [
            1,
            "rgb(5,48,97)"
           ]
          ],
          "line": {
           "width": 1
          },
          "showscale": true,
          "size": 7
         },
         "mode": "markers",
         "text": [
          "Return: 29.57%<br>Volatility: 0.08<br>LMT_Close: Weight=0.39<br>MCD_Close: Weight=0.43<br>WFC_Close: Weight=0.00<br>GOOG_Close: Weight=0.13<br>XOM_Close: Weight=0.05",
          "Return: 25.48%<br>Volatility: 0.16<br>ZBH_Close: Weight=0.00<br>MRK_Close: Weight=0.00<br>CRM_Close: Weight=1.00",
          "Return: 36.15%<br>Volatility: 0.15<br>KR_Close: Weight=0.00<br>MSFT_Close: Weight=0.96<br>SYK_Close: Weight=0.04",
          "Return: 39.80%<br>Volatility: 0.10<br>BA_Close: Weight=0.40<br>V_Close: Weight=0.25<br>NEE_Close: Weight=0.35<br>DIS_Close: Weight=0.00",
          "Return: 28.67%<br>Volatility: 0.14<br>MRK_Close: Weight=0.00<br>BIIB_Close: Weight=0.00<br>ABT_Close: Weight=1.00<br>GS_Close: Weight=0.00",
          "Return: 31.21%<br>Volatility: 0.14<br>AMZN_Close: Weight=0.33<br>MS_Close: Weight=0.11<br>EW_Close: Weight=0.16<br>INTC_Close: Weight=0.39",
          "Return: 38.68%<br>Volatility: 0.13<br>V_Close: Weight=0.51<br>NVDA_Close: Weight=0.11<br>MSFT_Close: Weight=0.38",
          "Return: 16.11%<br>Volatility: 0.16<br>DIS_Close: Weight=0.00<br>CSCO_Close: Weight=1.00<br>BSX_Close: Weight=0.00",
          "Return: 32.91%<br>Volatility: 0.13<br>DHR_Close: Weight=0.00<br>MSFT_Close: Weight=0.73<br>REGN_Close: Weight=0.00<br>MO_Close: Weight=0.00<br>SAP_Close: Weight=0.27",
          "Return: 66.75%<br>Volatility: 0.31<br>NVDA_Close: Weight=0.67<br>NFLX_Close: Weight=0.33<br>GS_Close: Weight=0.00",
          "Return: 26.10%<br>Volatility: 0.36<br>TSLA_Close: Weight=1.00<br>PM_Close: Weight=0.00<br>MRK_Close: Weight=0.00<br>MO_Close: Weight=0.00",
          "Return: 34.87%<br>Volatility: 0.09<br>BA_Close: Weight=0.39<br>SYY_Close: Weight=0.13<br>META_Close: Weight=0.10<br>KO_Close: Weight=0.30<br>GOOGL_Close: Weight=0.08",
          "Return: 50.04%<br>Volatility: 0.14<br>SAP_Close: Weight=0.26<br>BA_Close: Weight=0.74<br>SRE_Close: Weight=0.00",
          "Return: 12.86%<br>Volatility: 0.08<br>CSCO_Close: Weight=0.22<br>IBM_Close: Weight=0.00<br>DUK_Close: Weight=0.33<br>RTX_Close: Weight=0.38<br>BMY_Close: Weight=0.07",
          "Return: 38.32%<br>Volatility: 0.15<br>MDT_Close: Weight=0.00<br>GOOG_Close: Weight=0.06<br>AMD_Close: Weight=0.00<br>MSFT_Close: Weight=0.70<br>ADBE_Close: Weight=0.24",
          "Return: 36.88%<br>Volatility: 0.14<br>ADBE_Close: Weight=0.20<br>EXC_Close: Weight=0.28<br>ISRG_Close: Weight=0.52",
          "Return: 28.03%<br>Volatility: 0.13<br>GS_Close: Weight=0.00<br>TMO_Close: Weight=0.42<br>INTC_Close: Weight=0.58",
          "Return: 46.94%<br>Volatility: 0.16<br>PYPL_Close: Weight=0.65<br>AMGN_Close: Weight=0.00<br>TMO_Close: Weight=0.11<br>PFE_Close: Weight=0.24",
          "Return: 29.84%<br>Volatility: 0.10<br>MCD_Close: Weight=0.66<br>COST_Close: Weight=0.06<br>RTX_Close: Weight=0.21<br>DHR_Close: Weight=0.02<br>BTI_Close: Weight=0.05",
          "Return: 40.22%<br>Volatility: 0.11<br>CPB_Close: Weight=0.00<br>CAT_Close: Weight=0.46<br>GS_Close: Weight=0.00<br>GOOG_Close: Weight=0.25<br>PEP_Close: Weight=0.29",
          "Return: 20.56%<br>Volatility: 0.21<br>SNAP_Close: Weight=0.00<br>EW_Close: Weight=0.88<br>ZBH_Close: Weight=0.00<br>GILD_Close: Weight=0.12",
          "Return: 7.93%<br>Volatility: 0.08<br>CMCSA_Close: Weight=0.14<br>PG_Close: Weight=0.26<br>AMGN_Close: Weight=0.00<br>PFE_Close: Weight=0.60",
          "Return: 25.86%<br>Volatility: 0.12<br>MMM_Close: Weight=0.83<br>F_Close: Weight=0.00<br>MS_Close: Weight=0.17",
          "Return: 28.72%<br>Volatility: 0.12<br>MSFT_Close: Weight=0.74<br>BIIB_Close: Weight=0.00<br>DUK_Close: Weight=0.26",
          "Return: 24.32%<br>Volatility: 0.08<br>XOM_Close: Weight=0.07<br>ISRG_Close: Weight=0.30<br>KO_Close: Weight=0.38<br>CRM_Close: Weight=0.06<br>SYY_Close: Weight=0.19",
          "Return: 30.99%<br>Volatility: 0.13<br>MO_Close: Weight=0.00<br>NVDA_Close: Weight=0.23<br>TSLA_Close: Weight=0.00<br>CRM_Close: Weight=0.32<br>PFE_Close: Weight=0.45",
          "Return: 35.76%<br>Volatility: 0.11<br>AAPL_Close: Weight=0.00<br>MSFT_Close: Weight=0.47<br>WFC_Close: Weight=0.00<br>UNH_Close: Weight=0.53<br>SYK_Close: Weight=0.00",
          "Return: 23.40%<br>Volatility: 0.12<br>NFLX_Close: Weight=0.18<br>TSLA_Close: Weight=0.04<br>COST_Close: Weight=0.19<br>SAP_Close: Weight=0.58",
          "Return: 10.50%<br>Volatility: 0.11<br>MS_Close: Weight=0.51<br>PG_Close: Weight=0.49<br>REGN_Close: Weight=0.00",
          "Return: 22.14%<br>Volatility: 0.14<br>KR_Close: Weight=0.00<br>ETN_Close: Weight=0.25<br>NFLX_Close: Weight=0.38<br>VZ_Close: Weight=0.37",
          "Return: 24.38%<br>Volatility: 0.11<br>AMZN_Close: Weight=0.38<br>JNJ_Close: Weight=0.56<br>F_Close: Weight=0.06",
          "Return: 36.45%<br>Volatility: 0.18<br>GIS_Close: Weight=0.00<br>ETN_Close: Weight=0.29<br>GS_Close: Weight=0.00<br>ADBE_Close: Weight=0.71",
          "Return: 46.44%<br>Volatility: 0.22<br>DHR_Close: Weight=0.29<br>NVDA_Close: Weight=0.49<br>RMD_Close: Weight=0.22<br>MRK_Close: Weight=0.00",
          "Return: 37.60%<br>Volatility: 0.13<br>COST_Close: Weight=0.09<br>SRE_Close: Weight=0.00<br>K_Close: Weight=0.00<br>ACN_Close: Weight=0.57<br>BABA_Close: Weight=0.34",
          "Return: 19.72%<br>Volatility: 0.13<br>SO_Close: Weight=0.00<br>SYY_Close: Weight=0.48<br>RDY_Close: Weight=0.00<br>SNAP_Close: Weight=0.00<br>EMR_Close: Weight=0.52",
          "Return: 35.21%<br>Volatility: 0.15<br>QCOM_Close: Weight=0.00<br>WFC_Close: Weight=0.00<br>META_Close: Weight=0.29<br>TXN_Close: Weight=0.71",
          "Return: 53.07%<br>Volatility: 0.14<br>TXN_Close: Weight=0.30<br>VRTX_Close: Weight=0.10<br>BA_Close: Weight=0.61<br>PM_Close: Weight=0.00",
          "Return: 45.54%<br>Volatility: 0.23<br>REGN_Close: Weight=0.00<br>AMGN_Close: Weight=0.00<br>ADBE_Close: Weight=1.00",
          "Return: 14.79%<br>Volatility: 0.15<br>COST_Close: Weight=0.36<br>DIS_Close: Weight=0.00<br>SNAP_Close: Weight=0.00<br>MS_Close: Weight=0.64",
          "Return: 21.67%<br>Volatility: 0.08<br>CMCSA_Close: Weight=0.02<br>RMD_Close: Weight=0.05<br>NEE_Close: Weight=0.62<br>VZ_Close: Weight=0.05<br>EMR_Close: Weight=0.26",
          "Return: 19.74%<br>Volatility: 0.17<br>REGN_Close: Weight=0.00<br>QCOM_Close: Weight=0.39<br>BAC_Close: Weight=0.61",
          "Return: 19.09%<br>Volatility: 0.09<br>DUK_Close: Weight=0.35<br>META_Close: Weight=0.43<br>TSLA_Close: Weight=0.02<br>CSCO_Close: Weight=0.19",
          "Return: 42.19%<br>Volatility: 0.12<br>ABBV_Close: Weight=0.51<br>MMM_Close: Weight=0.39<br>NFLX_Close: Weight=0.10",
          "Return: 51.77%<br>Volatility: 0.17<br>BABA_Close: Weight=0.36<br>ADBE_Close: Weight=0.15<br>AMD_Close: Weight=0.00<br>ISRG_Close: Weight=0.50<br>MDT_Close: Weight=0.00",
          "Return: 34.17%<br>Volatility: 0.11<br>WFC_Close: Weight=0.03<br>GOOG_Close: Weight=0.15<br>ISRG_Close: Weight=0.37<br>MMM_Close: Weight=0.45<br>RDY_Close: Weight=0.00",
          "Return: 12.69%<br>Volatility: 0.08<br>GE_Close: Weight=0.00<br>KO_Close: Weight=0.82<br>NKE_Close: Weight=0.10<br>CMCSA_Close: Weight=0.08",
          "Return: 20.80%<br>Volatility: 0.10<br>DIS_Close: Weight=0.00<br>PEP_Close: Weight=0.55<br>META_Close: Weight=0.45",
          "Return: 20.36%<br>Volatility: 0.08<br>AEP_Close: Weight=0.37<br>ACN_Close: Weight=0.42<br>SO_Close: Weight=0.00<br>CVX_Close: Weight=0.21",
          "Return: 28.82%<br>Volatility: 0.11<br>MO_Close: Weight=0.00<br>SAP_Close: Weight=0.36<br>SNAP_Close: Weight=0.00<br>LLY_Close: Weight=0.00<br>HD_Close: Weight=0.64",
          "Return: 21.79%<br>Volatility: 0.12<br>DHR_Close: Weight=0.09<br>GOOGL_Close: Weight=0.69<br>GM_Close: Weight=0.22<br>GIS_Close: Weight=0.00",
          "Return: 13.46%<br>Volatility: 0.08<br>EXC_Close: Weight=0.07<br>CMCSA_Close: Weight=0.10<br>PEP_Close: Weight=0.38<br>AEP_Close: Weight=0.44<br>KR_Close: Weight=0.00",
          "Return: 20.79%<br>Volatility: 0.15<br>RDY_Close: Weight=0.00<br>BIIB_Close: Weight=0.08<br>SYK_Close: Weight=0.92",
          "Return: 14.38%<br>Volatility: 0.12<br>UA_Close: Weight=0.00<br>BAC_Close: Weight=0.47<br>REGN_Close: Weight=0.00<br>DHR_Close: Weight=0.53<br>WFC_Close: Weight=0.00",
          "Return: 42.36%<br>Volatility: 0.16<br>BABA_Close: Weight=0.44<br>AMZN_Close: Weight=0.34<br>COST_Close: Weight=0.23",
          "Return: 52.82%<br>Volatility: 0.11<br>BA_Close: Weight=0.46<br>ABBV_Close: Weight=0.39<br>GOOGL_Close: Weight=0.00<br>AAPL_Close: Weight=0.06<br>INTC_Close: Weight=0.10",
          "Return: 25.88%<br>Volatility: 0.13<br>CMCSA_Close: Weight=0.12<br>CRM_Close: Weight=0.41<br>PM_Close: Weight=0.00<br>META_Close: Weight=0.47",
          "Return: 33.38%<br>Volatility: 0.12<br>NVDA_Close: Weight=0.18<br>GM_Close: Weight=0.10<br>F_Close: Weight=0.00<br>LMT_Close: Weight=0.72<br>BMY_Close: Weight=0.00",
          "Return: 37.22%<br>Volatility: 0.16<br>NFLX_Close: Weight=0.07<br>PM_Close: Weight=0.00<br>T_Close: Weight=0.00<br>TXN_Close: Weight=0.93",
          "Return: 31.81%<br>Volatility: 0.09<br>AEP_Close: Weight=0.21<br>PYPL_Close: Weight=0.28<br>LMT_Close: Weight=0.33<br>PFE_Close: Weight=0.03<br>PEP_Close: Weight=0.15",
          "Return: 25.29%<br>Volatility: 0.15<br>MDT_Close: Weight=0.00<br>GILD_Close: Weight=0.02<br>GOOGL_Close: Weight=0.98",
          "Return: 35.31%<br>Volatility: 0.10<br>ADBE_Close: Weight=0.15<br>HD_Close: Weight=0.51<br>DIS_Close: Weight=0.01<br>BTI_Close: Weight=0.00<br>MSFT_Close: Weight=0.32",
          "Return: 37.17%<br>Volatility: 0.12<br>ABT_Close: Weight=0.44<br>NFLX_Close: Weight=0.11<br>DE_Close: Weight=0.45",
          "Return: 9.76%<br>Volatility: 0.09<br>CPB_Close: Weight=0.00<br>PFE_Close: Weight=0.72<br>BTI_Close: Weight=0.28",
          "Return: 26.66%<br>Volatility: 0.10<br>GM_Close: Weight=0.10<br>CMCSA_Close: Weight=0.09<br>AMD_Close: Weight=0.00<br>MA_Close: Weight=0.62<br>DUK_Close: Weight=0.19",
          "Return: 30.36%<br>Volatility: 0.13<br>SAP_Close: Weight=0.28<br>EMR_Close: Weight=0.34<br>ADBE_Close: Weight=0.38<br>BTI_Close: Weight=0.00",
          "Return: 18.15%<br>Volatility: 0.10<br>JNJ_Close: Weight=0.64<br>EMR_Close: Weight=0.36<br>WFC_Close: Weight=0.00",
          "Return: 40.28%<br>Volatility: 0.13<br>ISRG_Close: Weight=0.32<br>MA_Close: Weight=0.37<br>BSX_Close: Weight=0.00<br>TXN_Close: Weight=0.31",
          "Return: 33.87%<br>Volatility: 0.12<br>JNJ_Close: Weight=0.31<br>GILD_Close: Weight=0.00<br>NVDA_Close: Weight=0.18<br>MMM_Close: Weight=0.51",
          "Return: 26.63%<br>Volatility: 0.15<br>JPM_Close: Weight=0.63<br>WFC_Close: Weight=0.00<br>NFLX_Close: Weight=0.37",
          "Return: 27.69%<br>Volatility: 0.11<br>ACN_Close: Weight=0.59<br>DHR_Close: Weight=0.04<br>RMD_Close: Weight=0.01<br>META_Close: Weight=0.36",
          "Return: 30.80%<br>Volatility: 0.13<br>EW_Close: Weight=0.09<br>RTX_Close: Weight=0.25<br>TXN_Close: Weight=0.66<br>DIS_Close: Weight=0.00<br>T_Close: Weight=0.00",
          "Return: 43.21%<br>Volatility: 0.13<br>HD_Close: Weight=0.76<br>RMD_Close: Weight=0.01<br>NVDA_Close: Weight=0.23",
          "Return: 33.02%<br>Volatility: 0.09<br>ABT_Close: Weight=0.24<br>HD_Close: Weight=0.42<br>MSFT_Close: Weight=0.34",
          "Return: 21.73%<br>Volatility: 0.08<br>TSLA_Close: Weight=0.03<br>HON_Close: Weight=0.69<br>CPB_Close: Weight=0.00<br>PEP_Close: Weight=0.27",
          "Return: 16.41%<br>Volatility: 0.09<br>AMGN_Close: Weight=0.00<br>JNJ_Close: Weight=0.64<br>CVX_Close: Weight=0.36",
          "Return: 23.56%<br>Volatility: 0.13<br>REGN_Close: Weight=0.00<br>SYK_Close: Weight=0.41<br>ORCL_Close: Weight=0.03<br>CRM_Close: Weight=0.56",
          "Return: 26.84%<br>Volatility: 0.13<br>EMR_Close: Weight=0.37<br>DHR_Close: Weight=0.17<br>AMZN_Close: Weight=0.46",
          "Return: 53.35%<br>Volatility: 0.15<br>VZ_Close: Weight=0.00<br>BA_Close: Weight=0.87<br>AMGN_Close: Weight=0.00<br>NKE_Close: Weight=0.13",
          "Return: 30.33%<br>Volatility: 0.17<br>TSLA_Close: Weight=0.06<br>GE_Close: Weight=0.00<br>META_Close: Weight=0.94<br>K_Close: Weight=0.00",
          "Return: 13.13%<br>Volatility: 0.08<br>WFC_Close: Weight=0.23<br>DUK_Close: Weight=0.00<br>AEP_Close: Weight=0.77",
          "Return: 50.74%<br>Volatility: 0.21<br>NVDA_Close: Weight=0.33<br>LLY_Close: Weight=0.16<br>RDY_Close: Weight=0.00<br>ADBE_Close: Weight=0.51",
          "Return: 26.17%<br>Volatility: 0.12<br>ABT_Close: Weight=0.70<br>PM_Close: Weight=0.00<br>EMR_Close: Weight=0.30",
          "Return: 0.42%<br>Volatility: 0.13<br>SRE_Close: Weight=1.00<br>PM_Close: Weight=0.00<br>MRK_Close: Weight=0.00",
          "Return: 14.15%<br>Volatility: 0.13<br>PG_Close: Weight=0.38<br>GE_Close: Weight=0.00<br>RMD_Close: Weight=0.62",
          "Return: 28.06%<br>Volatility: 0.11<br>NVDA_Close: Weight=0.19<br>JPM_Close: Weight=0.29<br>UA_Close: Weight=0.00<br>RDY_Close: Weight=0.00<br>PEP_Close: Weight=0.51",
          "Return: 35.31%<br>Volatility: 0.12<br>SRE_Close: Weight=0.00<br>KR_Close: Weight=0.00<br>DE_Close: Weight=0.46<br>EW_Close: Weight=0.08<br>MMM_Close: Weight=0.46",
          "Return: 37.14%<br>Volatility: 0.16<br>BIIB_Close: Weight=0.00<br>TXN_Close: Weight=1.00<br>DIS_Close: Weight=0.00",
          "Return: 37.93%<br>Volatility: 0.12<br>MCD_Close: Weight=0.73<br>VRTX_Close: Weight=0.14<br>CSCO_Close: Weight=0.13",
          "Return: 18.34%<br>Volatility: 0.23<br>QCOM_Close: Weight=0.98<br>GIS_Close: Weight=0.02<br>UA_Close: Weight=0.00<br>K_Close: Weight=0.00<br>KR_Close: Weight=0.00",
          "Return: 46.59%<br>Volatility: 0.19<br>K_Close: Weight=0.00<br>AMD_Close: Weight=0.00<br>ISRG_Close: Weight=1.00",
          "Return: 38.15%<br>Volatility: 0.15<br>PG_Close: Weight=0.00<br>DE_Close: Weight=0.77<br>CVX_Close: Weight=0.23",
          "Return: 16.76%<br>Volatility: 0.11<br>BMY_Close: Weight=0.10<br>SRE_Close: Weight=0.00<br>SYK_Close: Weight=0.59<br>KR_Close: Weight=0.00<br>PFE_Close: Weight=0.32",
          "Return: 37.02%<br>Volatility: 0.12<br>ABT_Close: Weight=0.49<br>RDY_Close: Weight=0.00<br>VZ_Close: Weight=0.00<br>DE_Close: Weight=0.51",
          "Return: 26.45%<br>Volatility: 0.08<br>INTC_Close: Weight=0.23<br>F_Close: Weight=0.03<br>NEE_Close: Weight=0.46<br>ABT_Close: Weight=0.29<br>ZBH_Close: Weight=0.00",
          "Return: 12.37%<br>Volatility: 0.08<br>DHR_Close: Weight=0.06<br>PFE_Close: Weight=0.29<br>EXC_Close: Weight=0.37<br>CSCO_Close: Weight=0.27",
          "Return: 22.01%<br>Volatility: 0.11<br>VZ_Close: Weight=0.28<br>GOOG_Close: Weight=0.65<br>BTI_Close: Weight=0.07",
          "Return: 19.92%<br>Volatility: 0.16<br>GIS_Close: Weight=0.00<br>MS_Close: Weight=0.00<br>RDY_Close: Weight=0.00<br>MRK_Close: Weight=0.00<br>JPM_Close: Weight=1.00",
          "Return: 31.93%<br>Volatility: 0.12<br>MO_Close: Weight=0.00<br>GILD_Close: Weight=0.00<br>CRM_Close: Weight=0.32<br>AMGN_Close: Weight=0.00<br>UNH_Close: Weight=0.68",
          "Return: 19.07%<br>Volatility: 0.14<br>ZBH_Close: Weight=0.00<br>ETN_Close: Weight=0.32<br>TMO_Close: Weight=0.68",
          "Return: 34.99%<br>Volatility: 0.12<br>BMY_Close: Weight=0.00<br>ISRG_Close: Weight=0.36<br>AMGN_Close: Weight=0.00<br>MMM_Close: Weight=0.47<br>META_Close: Weight=0.17",
          "Return: 22.60%<br>Volatility: 0.23<br>BSX_Close: Weight=0.00<br>RDY_Close: Weight=0.00<br>EW_Close: Weight=1.00",
          "Return: 51.80%<br>Volatility: 0.11<br>MSFT_Close: Weight=0.26<br>MRK_Close: Weight=0.00<br>BA_Close: Weight=0.39<br>PFE_Close: Weight=0.06<br>CAT_Close: Weight=0.29",
          "Return: 33.92%<br>Volatility: 0.15<br>NKE_Close: Weight=0.07<br>REGN_Close: Weight=0.00<br>TXN_Close: Weight=0.86<br>MS_Close: Weight=0.07",
          "Return: 26.43%<br>Volatility: 0.10<br>AMZN_Close: Weight=0.06<br>MSFT_Close: Weight=0.54<br>PEP_Close: Weight=0.36<br>DIS_Close: Weight=0.05<br>CPB_Close: Weight=0.00",
          "Return: 31.13%<br>Volatility: 0.12<br>CSCO_Close: Weight=0.00<br>MA_Close: Weight=0.79<br>LLY_Close: Weight=0.00<br>GM_Close: Weight=0.11<br>DIS_Close: Weight=0.10",
          "Return: 36.76%<br>Volatility: 0.14<br>SAP_Close: Weight=0.37<br>GIS_Close: Weight=0.02<br>ISRG_Close: Weight=0.61<br>SO_Close: Weight=0.00",
          "Return: 17.81%<br>Volatility: 0.12<br>JPM_Close: Weight=0.60<br>BTI_Close: Weight=0.22<br>GIS_Close: Weight=0.00<br>QCOM_Close: Weight=0.18",
          "Return: 9.83%<br>Volatility: 0.10<br>PFE_Close: Weight=0.70<br>VZ_Close: Weight=0.30<br>PM_Close: Weight=0.00<br>SO_Close: Weight=0.00",
          "Return: 33.26%<br>Volatility: 0.10<br>ACN_Close: Weight=0.42<br>SRE_Close: Weight=0.00<br>MCD_Close: Weight=0.58<br>GS_Close: Weight=0.00<br>BSX_Close: Weight=0.00",
          "Return: 39.36%<br>Volatility: 0.13<br>WMT_Close: Weight=0.53<br>JPM_Close: Weight=0.30<br>VRTX_Close: Weight=0.17<br>GS_Close: Weight=0.00",
          "Return: -1.01%<br>Volatility: 0.17<br>BSX_Close: Weight=1.00<br>MRK_Close: Weight=0.00<br>MO_Close: Weight=0.00<br>UA_Close: Weight=0.00",
          "Return: 18.32%<br>Volatility: 0.10<br>SYK_Close: Weight=0.48<br>SYY_Close: Weight=0.39<br>XOM_Close: Weight=0.13",
          "Return: 26.70%<br>Volatility: 0.14<br>LLY_Close: Weight=0.11<br>AMD_Close: Weight=0.00<br>INTC_Close: Weight=0.76<br>BTI_Close: Weight=0.13",
          "Return: 7.61%<br>Volatility: 0.09<br>T_Close: Weight=0.00<br>BTI_Close: Weight=0.30<br>AMGN_Close: Weight=0.01<br>DUK_Close: Weight=0.70<br>RDY_Close: Weight=0.00",
          "Return: 39.52%<br>Volatility: 0.12<br>EXC_Close: Weight=0.19<br>NVDA_Close: Weight=0.16<br>MCD_Close: Weight=0.65<br>SRE_Close: Weight=0.00<br>T_Close: Weight=0.00",
          "Return: 26.04%<br>Volatility: 0.12<br>VRTX_Close: Weight=0.24<br>T_Close: Weight=0.00<br>AEP_Close: Weight=0.76",
          "Return: 34.52%<br>Volatility: 0.11<br>HD_Close: Weight=0.56<br>KR_Close: Weight=0.00<br>TXN_Close: Weight=0.44",
          "Return: 16.60%<br>Volatility: 0.11<br>CSCO_Close: Weight=0.35<br>MRK_Close: Weight=0.00<br>GS_Close: Weight=0.00<br>BAC_Close: Weight=0.19<br>CVX_Close: Weight=0.47",
          "Return: 25.12%<br>Volatility: 0.10<br>MO_Close: Weight=0.00<br>CSCO_Close: Weight=0.00<br>SO_Close: Weight=0.00<br>TSLA_Close: Weight=0.05<br>HON_Close: Weight=0.95",
          "Return: 20.82%<br>Volatility: 0.13<br>F_Close: Weight=0.06<br>LLY_Close: Weight=0.02<br>SAP_Close: Weight=0.92",
          "Return: 50.26%<br>Volatility: 0.17<br>WMT_Close: Weight=0.66<br>CPB_Close: Weight=0.00<br>EW_Close: Weight=0.10<br>NVDA_Close: Weight=0.25",
          "Return: 15.17%<br>Volatility: 0.07<br>JPM_Close: Weight=0.34<br>EXC_Close: Weight=0.24<br>BAC_Close: Weight=0.00<br>WFC_Close: Weight=0.00<br>PEP_Close: Weight=0.41",
          "Return: 23.11%<br>Volatility: 0.10<br>LMT_Close: Weight=0.76<br>SYY_Close: Weight=0.24<br>COST_Close: Weight=0.00",
          "Return: 28.66%<br>Volatility: 0.15<br>WFC_Close: Weight=0.00<br>K_Close: Weight=0.00<br>MRK_Close: Weight=0.00<br>INTC_Close: Weight=0.76<br>CSCO_Close: Weight=0.24",
          "Return: 11.41%<br>Volatility: 0.18<br>DIS_Close: Weight=0.00<br>BMY_Close: Weight=1.00<br>MO_Close: Weight=0.00",
          "Return: 25.75%<br>Volatility: 0.11<br>ADBE_Close: Weight=0.38<br>GM_Close: Weight=0.13<br>PFE_Close: Weight=0.23<br>PG_Close: Weight=0.16<br>NFLX_Close: Weight=0.09",
          "Return: 47.60%<br>Volatility: 0.15<br>SRE_Close: Weight=0.00<br>AMZN_Close: Weight=0.23<br>EW_Close: Weight=0.09<br>ABBV_Close: Weight=0.68",
          "Return: 46.22%<br>Volatility: 0.19<br>NVDA_Close: Weight=0.21<br>TXN_Close: Weight=0.79<br>QCOM_Close: Weight=0.00<br>REGN_Close: Weight=0.00",
          "Return: 20.68%<br>Volatility: 0.15<br>SYY_Close: Weight=0.78<br>TSLA_Close: Weight=0.22<br>PM_Close: Weight=0.00",
          "Return: 30.45%<br>Volatility: 0.14<br>EMR_Close: Weight=0.34<br>VRTX_Close: Weight=0.23<br>MDT_Close: Weight=0.00<br>TMO_Close: Weight=0.43<br>DHR_Close: Weight=0.00",
          "Return: 29.34%<br>Volatility: 0.14<br>META_Close: Weight=0.23<br>AMZN_Close: Weight=0.31<br>SAP_Close: Weight=0.45<br>GE_Close: Weight=0.00",
          "Return: 46.18%<br>Volatility: 0.13<br>ABBV_Close: Weight=0.52<br>QCOM_Close: Weight=0.00<br>MA_Close: Weight=0.48<br>IBM_Close: Weight=0.00",
          "Return: 16.28%<br>Volatility: 0.12<br>LLY_Close: Weight=0.13<br>MRK_Close: Weight=0.00<br>COST_Close: Weight=0.22<br>EMR_Close: Weight=0.65",
          "Return: 28.35%<br>Volatility: 0.10<br>DUK_Close: Weight=0.00<br>AEP_Close: Weight=0.58<br>WFC_Close: Weight=0.11<br>AMGN_Close: Weight=0.00<br>BABA_Close: Weight=0.31",
          "Return: 25.54%<br>Volatility: 0.11<br>ABT_Close: Weight=0.67<br>BMY_Close: Weight=0.04<br>EMR_Close: Weight=0.29",
          "Return: 29.96%<br>Volatility: 0.12<br>TSLA_Close: Weight=0.03<br>EW_Close: Weight=0.11<br>MO_Close: Weight=0.00<br>V_Close: Weight=0.87",
          "Return: 26.57%<br>Volatility: 0.11<br>XOM_Close: Weight=0.13<br>V_Close: Weight=0.79<br>BIIB_Close: Weight=0.00<br>RMD_Close: Weight=0.09<br>DHR_Close: Weight=0.00",
          "Return: 52.52%<br>Volatility: 0.23<br>MO_Close: Weight=0.01<br>MS_Close: Weight=0.18<br>BABA_Close: Weight=0.80",
          "Return: 22.38%<br>Volatility: 0.14<br>SAP_Close: Weight=1.00<br>MRK_Close: Weight=0.00<br>MDT_Close: Weight=0.00",
          "Return: 29.01%<br>Volatility: 0.11<br>SYK_Close: Weight=0.32<br>SRE_Close: Weight=0.00<br>HD_Close: Weight=0.68<br>CPB_Close: Weight=0.00",
          "Return: 45.84%<br>Volatility: 0.12<br>SRE_Close: Weight=0.00<br>SYK_Close: Weight=0.23<br>AAPL_Close: Weight=0.15<br>KR_Close: Weight=0.00<br>BA_Close: Weight=0.62",
          "Return: 38.07%<br>Volatility: 0.11<br>ABBV_Close: Weight=0.45<br>MS_Close: Weight=0.01<br>HON_Close: Weight=0.54",
          "Return: 29.76%<br>Volatility: 0.10<br>SYK_Close: Weight=0.00<br>MMM_Close: Weight=0.42<br>MSFT_Close: Weight=0.47<br>PFE_Close: Weight=0.12",
          "Return: 34.34%<br>Volatility: 0.10<br>UNH_Close: Weight=0.39<br>VZ_Close: Weight=0.08<br>MA_Close: Weight=0.32<br>TXN_Close: Weight=0.21",
          "Return: 48.38%<br>Volatility: 0.12<br>BA_Close: Weight=0.55<br>K_Close: Weight=0.00<br>UNH_Close: Weight=0.45",
          "Return: 28.96%<br>Volatility: 0.16<br>QCOM_Close: Weight=0.14<br>META_Close: Weight=0.86<br>AMD_Close: Weight=0.00",
          "Return: 22.41%<br>Volatility: 0.10<br>TSLA_Close: Weight=0.05<br>REGN_Close: Weight=0.05<br>NEE_Close: Weight=0.89",
          "Return: 14.60%<br>Volatility: 0.09<br>GS_Close: Weight=0.00<br>MRK_Close: Weight=0.00<br>PEP_Close: Weight=0.61<br>SYY_Close: Weight=0.32<br>BIIB_Close: Weight=0.07",
          "Return: 35.90%<br>Volatility: 0.11<br>TXN_Close: Weight=0.44<br>UNH_Close: Weight=0.56<br>MDT_Close: Weight=0.00",
          "Return: 18.75%<br>Volatility: 0.11<br>EW_Close: Weight=0.17<br>GS_Close: Weight=0.00<br>SYY_Close: Weight=0.39<br>RTX_Close: Weight=0.45<br>AMGN_Close: Weight=0.00",
          "Return: 24.10%<br>Volatility: 0.10<br>ZBH_Close: Weight=0.00<br>RTX_Close: Weight=0.03<br>HON_Close: Weight=0.90<br>GM_Close: Weight=0.07",
          "Return: 54.11%<br>Volatility: 0.18<br>BAC_Close: Weight=0.25<br>PYPL_Close: Weight=0.75<br>PM_Close: Weight=0.00<br>CPB_Close: Weight=0.00",
          "Return: 43.53%<br>Volatility: 0.12<br>BA_Close: Weight=0.54<br>AMD_Close: Weight=0.00<br>AAPL_Close: Weight=0.14<br>AMGN_Close: Weight=0.00<br>LMT_Close: Weight=0.32",
          "Return: 23.47%<br>Volatility: 0.10<br>ZBH_Close: Weight=0.00<br>RTX_Close: Weight=0.29<br>ABT_Close: Weight=0.61<br>CMCSA_Close: Weight=0.09",
          "Return: 32.45%<br>Volatility: 0.14<br>AMGN_Close: Weight=0.00<br>HD_Close: Weight=1.00<br>MDT_Close: Weight=0.00",
          "Return: 9.22%<br>Volatility: 0.11<br>LLY_Close: Weight=0.00<br>MO_Close: Weight=0.00<br>PFE_Close: Weight=1.00",
          "Return: 57.72%<br>Volatility: 0.20<br>PYPL_Close: Weight=0.72<br>GS_Close: Weight=0.00<br>CPB_Close: Weight=0.00<br>AMZN_Close: Weight=0.28",
          "Return: 34.58%<br>Volatility: 0.10<br>PYPL_Close: Weight=0.24<br>ACN_Close: Weight=0.23<br>MA_Close: Weight=0.21<br>AEP_Close: Weight=0.32",
          "Return: 32.87%<br>Volatility: 0.12<br>UNH_Close: Weight=0.64<br>GOOGL_Close: Weight=0.10<br>META_Close: Weight=0.26",
          "Return: 37.06%<br>Volatility: 0.13<br>GOOGL_Close: Weight=0.35<br>DE_Close: Weight=0.62<br>PG_Close: Weight=0.03",
          "Return: 32.71%<br>Volatility: 0.12<br>ISRG_Close: Weight=0.56<br>DIS_Close: Weight=0.13<br>CPB_Close: Weight=0.00<br>SAP_Close: Weight=0.31",
          "Return: 35.60%<br>Volatility: 0.14<br>SO_Close: Weight=0.00<br>CPB_Close: Weight=0.00<br>INTC_Close: Weight=0.27<br>MSFT_Close: Weight=0.73",
          "Return: 59.54%<br>Volatility: 0.17<br>BSX_Close: Weight=0.00<br>IBM_Close: Weight=0.00<br>BA_Close: Weight=1.00<br>GE_Close: Weight=0.00",
          "Return: 45.12%<br>Volatility: 0.18<br>MO_Close: Weight=0.00<br>ETN_Close: Weight=0.00<br>DE_Close: Weight=1.00",
          "Return: 23.65%<br>Volatility: 0.11<br>TMO_Close: Weight=0.34<br>DIS_Close: Weight=0.01<br>MS_Close: Weight=0.15<br>GOOG_Close: Weight=0.50",
          "Return: 24.18%<br>Volatility: 0.11<br>MO_Close: Weight=0.00<br>JNJ_Close: Weight=0.54<br>IBM_Close: Weight=0.00<br>INTC_Close: Weight=0.46",
          "Return: 27.34%<br>Volatility: 0.10<br>MA_Close: Weight=0.59<br>F_Close: Weight=0.07<br>AAPL_Close: Weight=0.00<br>DUK_Close: Weight=0.20<br>GOOG_Close: Weight=0.13",
          "Return: 9.22%<br>Volatility: 0.11<br>RDY_Close: Weight=0.00<br>PFE_Close: Weight=1.00<br>IBM_Close: Weight=0.00",
          "Return: 39.73%<br>Volatility: 0.10<br>NEE_Close: Weight=0.34<br>UNH_Close: Weight=0.37<br>PYPL_Close: Weight=0.29",
          "Return: 31.10%<br>Volatility: 0.16<br>UA_Close: Weight=0.00<br>VRTX_Close: Weight=0.34<br>CVX_Close: Weight=0.66",
          "Return: 12.55%<br>Volatility: 0.12<br>TSLA_Close: Weight=0.20<br>UA_Close: Weight=0.00<br>MDT_Close: Weight=0.00<br>KR_Close: Weight=0.00<br>PFE_Close: Weight=0.80",
          "Return: 43.40%<br>Volatility: 0.17<br>ISRG_Close: Weight=0.75<br>ORCL_Close: Weight=0.04<br>DHR_Close: Weight=0.00<br>NFLX_Close: Weight=0.21",
          "Return: 32.45%<br>Volatility: 0.14<br>K_Close: Weight=0.00<br>MRK_Close: Weight=0.00<br>HD_Close: Weight=1.00",
          "Return: 34.78%<br>Volatility: 0.14<br>KR_Close: Weight=0.00<br>EW_Close: Weight=0.14<br>T_Close: Weight=0.00<br>MSFT_Close: Weight=0.86<br>PM_Close: Weight=0.00",
          "Return: 33.91%<br>Volatility: 0.17<br>VRTX_Close: Weight=0.34<br>BIIB_Close: Weight=0.00<br>JPM_Close: Weight=0.66<br>GIS_Close: Weight=0.00",
          "Return: 33.42%<br>Volatility: 0.10<br>REGN_Close: Weight=0.00<br>TXN_Close: Weight=0.25<br>PYPL_Close: Weight=0.27<br>KO_Close: Weight=0.48",
          "Return: 53.42%<br>Volatility: 0.13<br>VRTX_Close: Weight=0.12<br>COST_Close: Weight=0.00<br>RMD_Close: Weight=0.07<br>CAT_Close: Weight=0.46<br>WMT_Close: Weight=0.36",
          "Return: 27.35%<br>Volatility: 0.13<br>ACN_Close: Weight=1.00<br>AMGN_Close: Weight=0.00<br>CPB_Close: Weight=0.00",
          "Return: 58.73%<br>Volatility: 0.18<br>VZ_Close: Weight=0.08<br>CAT_Close: Weight=0.90<br>CVX_Close: Weight=0.03",
          "Return: 23.91%<br>Volatility: 0.09<br>KO_Close: Weight=0.55<br>GIS_Close: Weight=0.00<br>TXN_Close: Weight=0.45",
          "Return: 23.84%<br>Volatility: 0.13<br>BMY_Close: Weight=0.22<br>BTI_Close: Weight=0.13<br>META_Close: Weight=0.65",
          "Return: 27.77%<br>Volatility: 0.13<br>SRE_Close: Weight=0.00<br>MMM_Close: Weight=1.00<br>GIS_Close: Weight=0.00<br>IBM_Close: Weight=0.00",
          "Return: 21.30%<br>Volatility: 0.08<br>EMR_Close: Weight=0.10<br>AEP_Close: Weight=0.31<br>EXC_Close: Weight=0.01<br>WFC_Close: Weight=0.00<br>HON_Close: Weight=0.58",
          "Return: 28.63%<br>Volatility: 0.11<br>GS_Close: Weight=0.00<br>V_Close: Weight=0.78<br>RDY_Close: Weight=0.00<br>MRK_Close: Weight=0.00<br>EMR_Close: Weight=0.22",
          "Return: 20.81%<br>Volatility: 0.08<br>AEP_Close: Weight=0.34<br>PM_Close: Weight=0.00<br>BMY_Close: Weight=0.00<br>LMT_Close: Weight=0.59<br>QCOM_Close: Weight=0.07",
          "Return: 12.16%<br>Volatility: 0.12<br>IBM_Close: Weight=0.00<br>PG_Close: Weight=0.33<br>CSCO_Close: Weight=0.67<br>GS_Close: Weight=0.00",
          "Return: 25.28%<br>Volatility: 0.13<br>GOOG_Close: Weight=0.61<br>GS_Close: Weight=0.00<br>TMO_Close: Weight=0.39<br>KR_Close: Weight=0.00",
          "Return: 34.74%<br>Volatility: 0.13<br>AMZN_Close: Weight=0.06<br>TXN_Close: Weight=0.37<br>AMD_Close: Weight=0.00<br>MSFT_Close: Weight=0.47<br>GM_Close: Weight=0.10",
          "Return: 33.86%<br>Volatility: 0.11<br>INTC_Close: Weight=0.27<br>GE_Close: Weight=0.00<br>TMO_Close: Weight=0.15<br>MCD_Close: Weight=0.58",
          "Return: 30.28%<br>Volatility: 0.11<br>MA_Close: Weight=0.65<br>SYK_Close: Weight=0.09<br>TMO_Close: Weight=0.08<br>EXC_Close: Weight=0.18",
          "Return: 19.19%<br>Volatility: 0.12<br>REGN_Close: Weight=0.00<br>RTX_Close: Weight=0.52<br>PM_Close: Weight=0.00<br>TMO_Close: Weight=0.48",
          "Return: 42.31%<br>Volatility: 0.14<br>RTX_Close: Weight=0.10<br>BSX_Close: Weight=0.00<br>REGN_Close: Weight=0.00<br>ADBE_Close: Weight=0.33<br>DE_Close: Weight=0.57",
          "Return: 35.33%<br>Volatility: 0.17<br>ZBH_Close: Weight=0.00<br>ADBE_Close: Weight=0.64<br>RMD_Close: Weight=0.25<br>BMY_Close: Weight=0.11",
          "Return: 19.62%<br>Volatility: 0.08<br>SRE_Close: Weight=0.00<br>UA_Close: Weight=0.00<br>KO_Close: Weight=0.63<br>META_Close: Weight=0.37",
          "Return: 15.11%<br>Volatility: 0.10<br>CVX_Close: Weight=0.49<br>VZ_Close: Weight=0.14<br>CSCO_Close: Weight=0.37",
          "Return: 26.87%<br>Volatility: 0.12<br>LLY_Close: Weight=0.03<br>PEP_Close: Weight=0.53<br>GIS_Close: Weight=0.00<br>ADBE_Close: Weight=0.44",
          "Return: 37.23%<br>Volatility: 0.14<br>MA_Close: Weight=0.97<br>NFLX_Close: Weight=0.02<br>T_Close: Weight=0.01",
          "Return: 30.61%<br>Volatility: 0.10<br>VRTX_Close: Weight=0.11<br>NEE_Close: Weight=0.58<br>INTC_Close: Weight=0.31",
          "Return: 41.74%<br>Volatility: 0.13<br>ISRG_Close: Weight=0.37<br>REGN_Close: Weight=0.00<br>MMM_Close: Weight=0.50<br>NVDA_Close: Weight=0.13",
          "Return: 30.70%<br>Volatility: 0.12<br>XOM_Close: Weight=0.00<br>CSCO_Close: Weight=0.07<br>TSLA_Close: Weight=0.10<br>HD_Close: Weight=0.83",
          "Return: 7.26%<br>Volatility: 0.11<br>GE_Close: Weight=0.00<br>XOM_Close: Weight=0.54<br>COST_Close: Weight=0.46",
          "Return: 34.39%<br>Volatility: 0.14<br>REGN_Close: Weight=0.00<br>BABA_Close: Weight=0.48<br>PFE_Close: Weight=0.52",
          "Return: 31.19%<br>Volatility: 0.13<br>V_Close: Weight=0.97<br>NFLX_Close: Weight=0.03<br>BIIB_Close: Weight=0.00",
          "Return: 26.35%<br>Volatility: 0.09<br>T_Close: Weight=0.00<br>MMM_Close: Weight=0.35<br>LMT_Close: Weight=0.38<br>CPB_Close: Weight=0.00<br>ACN_Close: Weight=0.27",
          "Return: 23.13%<br>Volatility: 0.10<br>F_Close: Weight=0.00<br>JNJ_Close: Weight=0.51<br>EW_Close: Weight=0.07<br>META_Close: Weight=0.42",
          "Return: 20.02%<br>Volatility: 0.10<br>PFE_Close: Weight=0.38<br>AAPL_Close: Weight=0.22<br>GOOG_Close: Weight=0.40<br>GS_Close: Weight=0.00",
          "Return: 30.79%<br>Volatility: 0.09<br>MCD_Close: Weight=0.46<br>IBM_Close: Weight=0.00<br>GOOG_Close: Weight=0.13<br>LMT_Close: Weight=0.41",
          "Return: 32.99%<br>Volatility: 0.14<br>BMY_Close: Weight=0.16<br>RDY_Close: Weight=0.00<br>SRE_Close: Weight=0.00<br>AMD_Close: Weight=0.00<br>TXN_Close: Weight=0.84",
          "Return: 15.71%<br>Volatility: 0.07<br>KO_Close: Weight=0.58<br>CVX_Close: Weight=0.16<br>EW_Close: Weight=0.12<br>BAC_Close: Weight=0.14",
          "Return: 17.86%<br>Volatility: 0.07<br>DHR_Close: Weight=0.07<br>NEE_Close: Weight=0.49<br>BMY_Close: Weight=0.07<br>KO_Close: Weight=0.37",
          "Return: 16.16%<br>Volatility: 0.10<br>SYY_Close: Weight=0.41<br>EXC_Close: Weight=0.36<br>BIIB_Close: Weight=0.06<br>BSX_Close: Weight=0.00<br>QCOM_Close: Weight=0.17",
          "Return: 24.92%<br>Volatility: 0.09<br>BSX_Close: Weight=0.00<br>EXC_Close: Weight=0.11<br>MDT_Close: Weight=0.00<br>PEP_Close: Weight=0.34<br>UNH_Close: Weight=0.55",
          "Return: 35.12%<br>Volatility: 0.11<br>WMT_Close: Weight=0.39<br>F_Close: Weight=0.02<br>V_Close: Weight=0.59",
          "Return: 43.06%<br>Volatility: 0.18<br>WMT_Close: Weight=1.00<br>AMD_Close: Weight=0.00<br>REGN_Close: Weight=0.00",
          "Return: 19.63%<br>Volatility: 0.14<br>BSX_Close: Weight=0.00<br>BMY_Close: Weight=0.19<br>TMO_Close: Weight=0.81<br>MO_Close: Weight=0.00",
          "Return: 21.24%<br>Volatility: 0.12<br>T_Close: Weight=0.00<br>AAPL_Close: Weight=0.44<br>ORCL_Close: Weight=0.16<br>EMR_Close: Weight=0.40",
          "Return: 50.66%<br>Volatility: 0.15<br>REGN_Close: Weight=0.04<br>PFE_Close: Weight=0.20<br>CAT_Close: Weight=0.76<br>XOM_Close: Weight=0.00<br>WFC_Close: Weight=0.00",
          "Return: 19.67%<br>Volatility: 0.10<br>F_Close: Weight=0.00<br>SAP_Close: Weight=0.61<br>CVX_Close: Weight=0.39<br>AMGN_Close: Weight=0.00<br>GIS_Close: Weight=0.00",
          "Return: 30.60%<br>Volatility: 0.11<br>BAC_Close: Weight=0.08<br>UA_Close: Weight=0.00<br>INTC_Close: Weight=0.26<br>V_Close: Weight=0.66",
          "Return: 26.32%<br>Volatility: 0.10<br>REGN_Close: Weight=0.00<br>LMT_Close: Weight=0.68<br>MDT_Close: Weight=0.00<br>META_Close: Weight=0.32<br>GS_Close: Weight=0.00",
          "Return: 35.03%<br>Volatility: 0.12<br>COST_Close: Weight=0.09<br>SNAP_Close: Weight=0.00<br>F_Close: Weight=0.00<br>TXN_Close: Weight=0.34<br>MA_Close: Weight=0.57",
          "Return: 28.89%<br>Volatility: 0.14<br>AMZN_Close: Weight=0.39<br>MRK_Close: Weight=0.00<br>CRM_Close: Weight=0.41<br>MS_Close: Weight=0.20",
          "Return: 33.17%<br>Volatility: 0.10<br>T_Close: Weight=0.00<br>TXN_Close: Weight=0.30<br>TMO_Close: Weight=0.10<br>VZ_Close: Weight=0.10<br>MCD_Close: Weight=0.50",
          "Return: 42.60%<br>Volatility: 0.11<br>LMT_Close: Weight=0.23<br>ACN_Close: Weight=0.27<br>BA_Close: Weight=0.50<br>ZBH_Close: Weight=0.00",
          "Return: 18.73%<br>Volatility: 0.09<br>MDT_Close: Weight=0.00<br>NFLX_Close: Weight=0.17<br>KO_Close: Weight=0.70<br>EW_Close: Weight=0.13",
          "Return: 36.13%<br>Volatility: 0.10<br>ADBE_Close: Weight=0.17<br>QCOM_Close: Weight=0.01<br>ABBV_Close: Weight=0.43<br>PG_Close: Weight=0.00<br>KO_Close: Weight=0.40",
          "Return: 32.64%<br>Volatility: 0.11<br>BAC_Close: Weight=0.09<br>BTI_Close: Weight=0.06<br>QCOM_Close: Weight=0.03<br>UNH_Close: Weight=0.59<br>AMZN_Close: Weight=0.23",
          "Return: 12.41%<br>Volatility: 0.09<br>SO_Close: Weight=0.00<br>PFE_Close: Weight=0.49<br>SRE_Close: Weight=0.00<br>CVX_Close: Weight=0.51",
          "Return: 22.54%<br>Volatility: 0.09<br>COST_Close: Weight=0.05<br>MMM_Close: Weight=0.51<br>CVX_Close: Weight=0.27<br>TMO_Close: Weight=0.17",
          "Return: 27.49%<br>Volatility: 0.12<br>AAPL_Close: Weight=0.33<br>MDT_Close: Weight=0.00<br>ABT_Close: Weight=0.67<br>GE_Close: Weight=0.00",
          "Return: 42.80%<br>Volatility: 0.16<br>CPB_Close: Weight=0.00<br>NFLX_Close: Weight=0.20<br>RDY_Close: Weight=0.00<br>GM_Close: Weight=0.03<br>DE_Close: Weight=0.77",
          "Return: 35.06%<br>Volatility: 0.12<br>ZBH_Close: Weight=0.00<br>NEE_Close: Weight=0.76<br>NVDA_Close: Weight=0.21<br>AMD_Close: Weight=0.00<br>BTI_Close: Weight=0.03",
          "Return: 19.29%<br>Volatility: 0.07<br>LMT_Close: Weight=0.54<br>ZBH_Close: Weight=0.00<br>BSX_Close: Weight=0.00<br>KO_Close: Weight=0.46",
          "Return: 21.29%<br>Volatility: 0.12<br>SO_Close: Weight=0.00<br>GOOGL_Close: Weight=0.69<br>MRK_Close: Weight=0.00<br>VZ_Close: Weight=0.31",
          "Return: 19.07%<br>Volatility: 0.09<br>SNAP_Close: Weight=0.00<br>SRE_Close: Weight=0.00<br>ORCL_Close: Weight=0.07<br>CRM_Close: Weight=0.39<br>AEP_Close: Weight=0.54",
          "Return: 28.19%<br>Volatility: 0.09<br>DUK_Close: Weight=0.29<br>WFC_Close: Weight=0.01<br>VRTX_Close: Weight=0.13<br>HD_Close: Weight=0.57",
          "Return: 29.21%<br>Volatility: 0.11<br>T_Close: Weight=0.00<br>AAPL_Close: Weight=0.16<br>ADBE_Close: Weight=0.25<br>NEE_Close: Weight=0.59<br>SNAP_Close: Weight=0.00",
          "Return: 24.22%<br>Volatility: 0.11<br>MMM_Close: Weight=0.81<br>ZBH_Close: Weight=0.00<br>PFE_Close: Weight=0.19",
          "Return: 18.63%<br>Volatility: 0.07<br>ORCL_Close: Weight=0.06<br>GOOG_Close: Weight=0.34<br>DIS_Close: Weight=0.00<br>PEP_Close: Weight=0.30<br>CVX_Close: Weight=0.30",
          "Return: 8.02%<br>Volatility: 0.07<br>CMCSA_Close: Weight=0.13<br>PFE_Close: Weight=0.46<br>DUK_Close: Weight=0.41",
          "Return: 20.67%<br>Volatility: 0.09<br>KO_Close: Weight=0.52<br>K_Close: Weight=0.00<br>PM_Close: Weight=0.00<br>ABT_Close: Weight=0.48<br>SO_Close: Weight=0.00",
          "Return: 38.55%<br>Volatility: 0.13<br>VRTX_Close: Weight=0.11<br>SYY_Close: Weight=0.35<br>BSX_Close: Weight=0.00<br>ISRG_Close: Weight=0.53",
          "Return: 12.49%<br>Volatility: 0.08<br>PEP_Close: Weight=0.60<br>BMY_Close: Weight=0.17<br>EXC_Close: Weight=0.23",
          "Return: 12.44%<br>Volatility: 0.10<br>EXC_Close: Weight=0.54<br>ORCL_Close: Weight=0.25<br>CPB_Close: Weight=0.00<br>T_Close: Weight=0.00<br>BTI_Close: Weight=0.21",
          "Return: 22.71%<br>Volatility: 0.12<br>BMY_Close: Weight=0.10<br>MDT_Close: Weight=0.00<br>T_Close: Weight=0.00<br>SYK_Close: Weight=0.38<br>CRM_Close: Weight=0.52",
          "Return: 10.56%<br>Volatility: 0.12<br>T_Close: Weight=0.00<br>QCOM_Close: Weight=0.44<br>PG_Close: Weight=0.56<br>RDY_Close: Weight=0.00",
          "Return: 26.39%<br>Volatility: 0.14<br>META_Close: Weight=0.75<br>AMD_Close: Weight=0.00<br>ETN_Close: Weight=0.25",
          "Return: 51.98%<br>Volatility: 0.13<br>INTC_Close: Weight=0.20<br>JPM_Close: Weight=0.06<br>BABA_Close: Weight=0.17<br>BA_Close: Weight=0.56<br>RDY_Close: Weight=0.00",
          "Return: 59.28%<br>Volatility: 0.13<br>ABBV_Close: Weight=0.46<br>VRTX_Close: Weight=0.07<br>F_Close: Weight=0.00<br>CAT_Close: Weight=0.47",
          "Return: 19.70%<br>Volatility: 0.11<br>SAP_Close: Weight=0.76<br>GIS_Close: Weight=0.00<br>VZ_Close: Weight=0.23<br>GILD_Close: Weight=0.01",
          "Return: 16.97%<br>Volatility: 0.11<br>JNJ_Close: Weight=1.00<br>IBM_Close: Weight=0.00<br>BSX_Close: Weight=0.00<br>SO_Close: Weight=0.00",
          "Return: 25.05%<br>Volatility: 0.11<br>MMM_Close: Weight=0.80<br>CSCO_Close: Weight=0.14<br>SRE_Close: Weight=0.00<br>F_Close: Weight=0.00<br>NKE_Close: Weight=0.07",
          "Return: 41.90%<br>Volatility: 0.16<br>WFC_Close: Weight=0.08<br>ISRG_Close: Weight=0.73<br>NFLX_Close: Weight=0.20",
          "Return: 48.89%<br>Volatility: 0.17<br>PYPL_Close: Weight=0.71<br>PFE_Close: Weight=0.29<br>BMY_Close: Weight=0.00<br>AMGN_Close: Weight=0.00",
          "Return: 22.59%<br>Volatility: 0.08<br>HON_Close: Weight=0.69<br>REGN_Close: Weight=0.00<br>JNJ_Close: Weight=0.31",
          "Return: 27.48%<br>Volatility: 0.12<br>GILD_Close: Weight=0.00<br>ACN_Close: Weight=0.62<br>GOOG_Close: Weight=0.38",
          "Return: 16.51%<br>Volatility: 0.09<br>ETN_Close: Weight=0.14<br>SRE_Close: Weight=0.00<br>JNJ_Close: Weight=0.54<br>RTX_Close: Weight=0.31",
          "Return: 34.10%<br>Volatility: 0.11<br>DIS_Close: Weight=0.02<br>AAPL_Close: Weight=0.00<br>MSFT_Close: Weight=0.45<br>XOM_Close: Weight=0.03<br>UNH_Close: Weight=0.50",
          "Return: 34.70%<br>Volatility: 0.10<br>MCD_Close: Weight=0.45<br>SRE_Close: Weight=0.00<br>MA_Close: Weight=0.28<br>ACN_Close: Weight=0.28",
          "Return: 27.56%<br>Volatility: 0.18<br>MS_Close: Weight=0.43<br>GILD_Close: Weight=0.04<br>MO_Close: Weight=0.00<br>NFLX_Close: Weight=0.52",
          "Return: 33.61%<br>Volatility: 0.12<br>CMCSA_Close: Weight=0.06<br>NEE_Close: Weight=0.70<br>EW_Close: Weight=0.05<br>NVDA_Close: Weight=0.19<br>ZBH_Close: Weight=0.00",
          "Return: 33.68%<br>Volatility: 0.14<br>SNAP_Close: Weight=0.00<br>MS_Close: Weight=0.07<br>CPB_Close: Weight=0.00<br>UNH_Close: Weight=0.93<br>GILD_Close: Weight=0.00",
          "Return: 32.63%<br>Volatility: 0.18<br>INTC_Close: Weight=1.00<br>KR_Close: Weight=0.00<br>AMD_Close: Weight=0.00",
          "Return: 42.50%<br>Volatility: 0.11<br>JNJ_Close: Weight=0.40<br>REGN_Close: Weight=0.00<br>BA_Close: Weight=0.60",
          "Return: 16.27%<br>Volatility: 0.08<br>AEP_Close: Weight=0.59<br>SYY_Close: Weight=0.19<br>MS_Close: Weight=0.22",
          "Return: 50.95%<br>Volatility: 0.24<br>MRK_Close: Weight=0.00<br>DHR_Close: Weight=0.42<br>NVDA_Close: Weight=0.58<br>KR_Close: Weight=0.00",
          "Return: 31.56%<br>Volatility: 0.10<br>LMT_Close: Weight=0.43<br>T_Close: Weight=0.00<br>AMGN_Close: Weight=0.00<br>GOOG_Close: Weight=0.23<br>WMT_Close: Weight=0.34",
          "Return: 54.62%<br>Volatility: 0.16<br>COST_Close: Weight=0.10<br>IBM_Close: Weight=0.00<br>PM_Close: Weight=0.00<br>BA_Close: Weight=0.90",
          "Return: 27.40%<br>Volatility: 0.15<br>K_Close: Weight=0.00<br>PG_Close: Weight=0.32<br>AMZN_Close: Weight=0.68",
          "Return: 6.97%<br>Volatility: 0.09<br>RDY_Close: Weight=0.00<br>BIIB_Close: Weight=0.22<br>DUK_Close: Weight=0.78",
          "Return: 18.87%<br>Volatility: 0.10<br>KR_Close: Weight=0.00<br>AAPL_Close: Weight=0.38<br>AEP_Close: Weight=0.62",
          "Return: 22.37%<br>Volatility: 0.09<br>NEE_Close: Weight=0.51<br>CPB_Close: Weight=0.00<br>JNJ_Close: Weight=0.25<br>KR_Close: Weight=0.00<br>CRM_Close: Weight=0.24",
          "Return: 22.43%<br>Volatility: 0.07<br>ABT_Close: Weight=0.22<br>BAC_Close: Weight=0.12<br>MMM_Close: Weight=0.21<br>SAP_Close: Weight=0.14<br>AEP_Close: Weight=0.31",
          "Return: 32.44%<br>Volatility: 0.10<br>ISRG_Close: Weight=0.34<br>HON_Close: Weight=0.66<br>CPB_Close: Weight=0.00<br>SRE_Close: Weight=0.00",
          "Return: 21.88%<br>Volatility: 0.09<br>GE_Close: Weight=0.00<br>JNJ_Close: Weight=0.34<br>KR_Close: Weight=0.00<br>AMGN_Close: Weight=0.00<br>LMT_Close: Weight=0.66",
          "Return: 31.14%<br>Volatility: 0.12<br>ABT_Close: Weight=0.59<br>VRTX_Close: Weight=0.15<br>SYY_Close: Weight=0.26",
          "Return: 25.91%<br>Volatility: 0.12<br>AMZN_Close: Weight=0.43<br>TMO_Close: Weight=0.40<br>XOM_Close: Weight=0.17",
          "Return: 22.12%<br>Volatility: 0.10<br>BSX_Close: Weight=0.00<br>ACN_Close: Weight=0.75<br>SNAP_Close: Weight=0.00<br>DUK_Close: Weight=0.25",
          "Return: 51.00%<br>Volatility: 0.16<br>ACN_Close: Weight=0.43<br>PYPL_Close: Weight=0.45<br>NVDA_Close: Weight=0.13<br>GILD_Close: Weight=0.00",
          "Return: 35.72%<br>Volatility: 0.13<br>SYY_Close: Weight=0.34<br>EMR_Close: Weight=0.18<br>GILD_Close: Weight=0.00<br>BABA_Close: Weight=0.40<br>NKE_Close: Weight=0.08",
          "Return: 53.82%<br>Volatility: 0.18<br>XOM_Close: Weight=0.00<br>RMD_Close: Weight=0.01<br>ABBV_Close: Weight=0.99<br>ZBH_Close: Weight=0.00<br>PG_Close: Weight=0.00",
          "Return: 36.71%<br>Volatility: 0.13<br>SAP_Close: Weight=0.19<br>MRK_Close: Weight=0.00<br>AMZN_Close: Weight=0.22<br>MS_Close: Weight=0.12<br>ISRG_Close: Weight=0.47",
          "Return: 30.94%<br>Volatility: 0.17<br>BIIB_Close: Weight=0.07<br>INTC_Close: Weight=0.93<br>ZBH_Close: Weight=0.00",
          "Return: 35.87%<br>Volatility: 0.13<br>GIS_Close: Weight=0.00<br>DHR_Close: Weight=0.03<br>UNH_Close: Weight=0.68<br>AAPL_Close: Weight=0.16<br>VRTX_Close: Weight=0.13",
          "Return: 32.61%<br>Volatility: 0.12<br>JPM_Close: Weight=0.28<br>ZBH_Close: Weight=0.00<br>MA_Close: Weight=0.72",
          "Return: 22.99%<br>Volatility: 0.08<br>GOOGL_Close: Weight=0.14<br>EW_Close: Weight=0.01<br>JNJ_Close: Weight=0.27<br>HON_Close: Weight=0.58",
          "Return: 20.72%<br>Volatility: 0.10<br>SAP_Close: Weight=0.55<br>BSX_Close: Weight=0.00<br>JPM_Close: Weight=0.37<br>ORCL_Close: Weight=0.08<br>F_Close: Weight=0.00",
          "Return: 28.75%<br>Volatility: 0.09<br>DUK_Close: Weight=0.18<br>GOOG_Close: Weight=0.24<br>WMT_Close: Weight=0.33<br>KR_Close: Weight=0.00<br>ACN_Close: Weight=0.25",
          "Return: 48.37%<br>Volatility: 0.17<br>VZ_Close: Weight=0.20<br>PYPL_Close: Weight=0.69<br>ETN_Close: Weight=0.03<br>T_Close: Weight=0.00<br>NKE_Close: Weight=0.08",
          "Return: 27.42%<br>Volatility: 0.09<br>KR_Close: Weight=0.00<br>HON_Close: Weight=0.50<br>JNJ_Close: Weight=0.17<br>ISRG_Close: Weight=0.26<br>DIS_Close: Weight=0.07",
          "Return: 16.54%<br>Volatility: 0.13<br>RTX_Close: Weight=0.97<br>GE_Close: Weight=0.00<br>SRE_Close: Weight=0.00<br>ZBH_Close: Weight=0.03<br>AMGN_Close: Weight=0.00",
          "Return: 14.96%<br>Volatility: 0.09<br>JNJ_Close: Weight=0.71<br>DHR_Close: Weight=0.15<br>COST_Close: Weight=0.15",
          "Return: 24.68%<br>Volatility: 0.10<br>HON_Close: Weight=0.92<br>TSLA_Close: Weight=0.05<br>COST_Close: Weight=0.03",
          "Return: 36.07%<br>Volatility: 0.12<br>NVDA_Close: Weight=0.13<br>VRTX_Close: Weight=0.10<br>MSFT_Close: Weight=0.39<br>PEP_Close: Weight=0.37",
          "Return: 27.01%<br>Volatility: 0.10<br>MSFT_Close: Weight=0.55<br>AEP_Close: Weight=0.45<br>BTI_Close: Weight=0.00<br>MDT_Close: Weight=0.00",
          "Return: 21.16%<br>Volatility: 0.14<br>TSLA_Close: Weight=0.20<br>JPM_Close: Weight=0.80<br>MRK_Close: Weight=0.00",
          "Return: 43.18%<br>Volatility: 0.20<br>REGN_Close: Weight=0.00<br>NVDA_Close: Weight=0.50<br>PG_Close: Weight=0.37<br>BTI_Close: Weight=0.13<br>MDT_Close: Weight=0.00",
          "Return: 25.95%<br>Volatility: 0.08<br>LMT_Close: Weight=0.40<br>NKE_Close: Weight=0.04<br>ADBE_Close: Weight=0.13<br>NEE_Close: Weight=0.40<br>CMCSA_Close: Weight=0.03",
          "Return: 28.23%<br>Volatility: 0.09<br>ACN_Close: Weight=0.31<br>SYK_Close: Weight=0.17<br>SYY_Close: Weight=0.06<br>HD_Close: Weight=0.46<br>WFC_Close: Weight=0.00",
          "Return: 29.53%<br>Volatility: 0.11<br>JNJ_Close: Weight=0.30<br>PM_Close: Weight=0.00<br>GIS_Close: Weight=0.00<br>AMGN_Close: Weight=0.00<br>UNH_Close: Weight=0.70",
          "Return: 41.77%<br>Volatility: 0.17<br>CRM_Close: Weight=0.23<br>BIIB_Close: Weight=0.00<br>ISRG_Close: Weight=0.77",
          "Return: 29.54%<br>Volatility: 0.12<br>UA_Close: Weight=0.00<br>HD_Close: Weight=0.77<br>JPM_Close: Weight=0.23",
          "Return: 44.68%<br>Volatility: 0.14<br>ADBE_Close: Weight=0.16<br>PYPL_Close: Weight=0.47<br>XOM_Close: Weight=0.01<br>COST_Close: Weight=0.07<br>EMR_Close: Weight=0.29",
          "Return: 45.41%<br>Volatility: 0.13<br>LMT_Close: Weight=0.40<br>BA_Close: Weight=0.60<br>K_Close: Weight=0.00",
          "Return: 34.27%<br>Volatility: 0.15<br>TXN_Close: Weight=0.81<br>MS_Close: Weight=0.06<br>AAPL_Close: Weight=0.13",
          "Return: 30.61%<br>Volatility: 0.10<br>MSFT_Close: Weight=0.45<br>JPM_Close: Weight=0.19<br>ABT_Close: Weight=0.36<br>BTI_Close: Weight=0.00",
          "Return: 42.92%<br>Volatility: 0.18<br>ISRG_Close: Weight=0.92<br>T_Close: Weight=0.03<br>IBM_Close: Weight=0.00<br>F_Close: Weight=0.06<br>PM_Close: Weight=0.00",
          "Return: 42.65%<br>Volatility: 0.14<br>NKE_Close: Weight=0.08<br>CVX_Close: Weight=0.36<br>PYPL_Close: Weight=0.55",
          "Return: 29.73%<br>Volatility: 0.12<br>ZBH_Close: Weight=0.00<br>WMT_Close: Weight=0.56<br>PEP_Close: Weight=0.44",
          "Return: 39.02%<br>Volatility: 0.16<br>TMO_Close: Weight=0.36<br>SYK_Close: Weight=0.35<br>NVDA_Close: Weight=0.29",
          "Return: 26.38%<br>Volatility: 0.12<br>MMM_Close: Weight=0.93<br>MO_Close: Weight=0.00<br>WFC_Close: Weight=0.07",
          "Return: 36.72%<br>Volatility: 0.15<br>BSX_Close: Weight=0.00<br>SRE_Close: Weight=0.00<br>MSFT_Close: Weight=1.00",
          "Return: 29.30%<br>Volatility: 0.12<br>GIS_Close: Weight=0.00<br>META_Close: Weight=0.40<br>GILD_Close: Weight=0.00<br>ABT_Close: Weight=0.60<br>ORCL_Close: Weight=0.01",
          "Return: 42.01%<br>Volatility: 0.12<br>BABA_Close: Weight=0.33<br>GIS_Close: Weight=0.00<br>WFC_Close: Weight=0.00<br>HD_Close: Weight=0.67",
          "Return: 28.48%<br>Volatility: 0.10<br>LLY_Close: Weight=0.01<br>MA_Close: Weight=0.60<br>AEP_Close: Weight=0.38<br>RMD_Close: Weight=0.01",
          "Return: 34.34%<br>Volatility: 0.10<br>MSFT_Close: Weight=0.45<br>CRM_Close: Weight=0.03<br>XOM_Close: Weight=0.14<br>WMT_Close: Weight=0.38",
          "Return: 40.36%<br>Volatility: 0.13<br>PYPL_Close: Weight=0.41<br>LMT_Close: Weight=0.54<br>T_Close: Weight=0.00<br>PFE_Close: Weight=0.05<br>KR_Close: Weight=0.00",
          "Return: 38.07%<br>Volatility: 0.10<br>SO_Close: Weight=0.00<br>NKE_Close: Weight=0.05<br>GOOG_Close: Weight=0.27<br>CAT_Close: Weight=0.45<br>DUK_Close: Weight=0.24",
          "Return: 36.12%<br>Volatility: 0.13<br>MA_Close: Weight=0.72<br>INTC_Close: Weight=0.28<br>CSCO_Close: Weight=0.00",
          "Return: 35.88%<br>Volatility: 0.12<br>DIS_Close: Weight=0.09<br>CPB_Close: Weight=0.00<br>BABA_Close: Weight=0.23<br>V_Close: Weight=0.57<br>AMZN_Close: Weight=0.11",
          "Return: 21.44%<br>Volatility: 0.07<br>GM_Close: Weight=0.05<br>HON_Close: Weight=0.45<br>KO_Close: Weight=0.34<br>META_Close: Weight=0.17",
          "Return: 16.58%<br>Volatility: 0.16<br>T_Close: Weight=0.00<br>LLY_Close: Weight=0.24<br>RMD_Close: Weight=0.76",
          "Return: 17.89%<br>Volatility: 0.09<br>PEP_Close: Weight=0.41<br>EXC_Close: Weight=0.19<br>CRM_Close: Weight=0.41",
          "Return: 47.55%<br>Volatility: 0.13<br>CRM_Close: Weight=0.20<br>GOOGL_Close: Weight=0.15<br>BA_Close: Weight=0.65",
          "Return: 16.31%<br>Volatility: 0.14<br>MS_Close: Weight=0.45<br>UA_Close: Weight=0.00<br>QCOM_Close: Weight=0.35<br>NKE_Close: Weight=0.20",
          "Return: 10.71%<br>Volatility: 0.11<br>TSLA_Close: Weight=0.23<br>DUK_Close: Weight=0.77<br>RDY_Close: Weight=0.00",
          "Return: 44.17%<br>Volatility: 0.14<br>PYPL_Close: Weight=0.55<br>SYY_Close: Weight=0.35<br>GS_Close: Weight=0.00<br>GM_Close: Weight=0.10",
          "Return: 20.00%<br>Volatility: 0.09<br>PEP_Close: Weight=0.33<br>SRE_Close: Weight=0.00<br>EXC_Close: Weight=0.18<br>META_Close: Weight=0.30<br>SAP_Close: Weight=0.19",
          "Return: 21.77%<br>Volatility: 0.09<br>PG_Close: Weight=0.00<br>CSCO_Close: Weight=0.12<br>JNJ_Close: Weight=0.36<br>PEP_Close: Weight=0.38<br>VRTX_Close: Weight=0.15",
          "Return: 32.15%<br>Volatility: 0.10<br>K_Close: Weight=0.00<br>AMZN_Close: Weight=0.26<br>EXC_Close: Weight=0.25<br>WMT_Close: Weight=0.43<br>CMCSA_Close: Weight=0.07",
          "Return: 35.68%<br>Volatility: 0.15<br>UA_Close: Weight=0.00<br>TXN_Close: Weight=0.91<br>RDY_Close: Weight=0.00<br>BAC_Close: Weight=0.09",
          "Return: 30.15%<br>Volatility: 0.10<br>MCD_Close: Weight=0.62<br>VZ_Close: Weight=0.14<br>SAP_Close: Weight=0.24",
          "Return: 45.65%<br>Volatility: 0.13<br>COST_Close: Weight=0.07<br>AMD_Close: Weight=0.00<br>EXC_Close: Weight=0.22<br>BA_Close: Weight=0.71<br>UA_Close: Weight=0.00",
          "Return: 21.73%<br>Volatility: 0.16<br>SYK_Close: Weight=1.00<br>ZBH_Close: Weight=0.00<br>DIS_Close: Weight=0.00",
          "Return: 18.72%<br>Volatility: 0.10<br>SYK_Close: Weight=0.52<br>WFC_Close: Weight=0.00<br>GS_Close: Weight=0.00<br>CVX_Close: Weight=0.48",
          "Return: 27.75%<br>Volatility: 0.10<br>JNJ_Close: Weight=0.27<br>IBM_Close: Weight=0.00<br>DIS_Close: Weight=0.11<br>MA_Close: Weight=0.62<br>RDY_Close: Weight=0.00",
          "Return: 54.78%<br>Volatility: 0.14<br>BABA_Close: Weight=0.23<br>EMR_Close: Weight=0.13<br>BA_Close: Weight=0.64",
          "Return: 34.01%<br>Volatility: 0.11<br>HON_Close: Weight=0.72<br>MDT_Close: Weight=0.00<br>NVDA_Close: Weight=0.12<br>MS_Close: Weight=0.00<br>AMZN_Close: Weight=0.16",
          "Return: 36.43%<br>Volatility: 0.11<br>GE_Close: Weight=0.00<br>INTC_Close: Weight=0.17<br>MCD_Close: Weight=0.55<br>MSFT_Close: Weight=0.28",
          "Return: 11.99%<br>Volatility: 0.09<br>CMCSA_Close: Weight=0.11<br>WFC_Close: Weight=0.10<br>ETN_Close: Weight=0.30<br>EXC_Close: Weight=0.49",
          "Return: 22.17%<br>Volatility: 0.07<br>CMCSA_Close: Weight=0.00<br>BAC_Close: Weight=0.19<br>SAP_Close: Weight=0.21<br>COST_Close: Weight=0.04<br>NEE_Close: Weight=0.56",
          "Return: 43.48%<br>Volatility: 0.12<br>TMO_Close: Weight=0.03<br>ABBV_Close: Weight=0.53<br>BAC_Close: Weight=0.14<br>CRM_Close: Weight=0.12<br>ADBE_Close: Weight=0.18",
          "Return: 12.42%<br>Volatility: 0.10<br>BAC_Close: Weight=0.36<br>PG_Close: Weight=0.37<br>ORCL_Close: Weight=0.27<br>K_Close: Weight=0.00",
          "Return: 31.05%<br>Volatility: 0.12<br>EXC_Close: Weight=0.39<br>WMT_Close: Weight=0.61<br>K_Close: Weight=0.00<br>LLY_Close: Weight=0.00",
          "Return: 45.42%<br>Volatility: 0.13<br>GS_Close: Weight=0.00<br>LMT_Close: Weight=0.40<br>BA_Close: Weight=0.60",
          "Return: 40.79%<br>Volatility: 0.13<br>XOM_Close: Weight=0.00<br>DE_Close: Weight=0.49<br>ADBE_Close: Weight=0.33<br>JPM_Close: Weight=0.18",
          "Return: 32.69%<br>Volatility: 0.12<br>EMR_Close: Weight=0.18<br>NFLX_Close: Weight=0.14<br>UNH_Close: Weight=0.67<br>MO_Close: Weight=0.00<br>BMY_Close: Weight=0.00",
          "Return: 44.21%<br>Volatility: 0.12<br>IBM_Close: Weight=0.00<br>UA_Close: Weight=0.00<br>HD_Close: Weight=0.52<br>DE_Close: Weight=0.32<br>NVDA_Close: Weight=0.16",
          "Return: 44.58%<br>Volatility: 0.20<br>CMCSA_Close: Weight=0.14<br>NVDA_Close: Weight=0.34<br>META_Close: Weight=0.50<br>F_Close: Weight=0.01",
          "Return: 45.27%<br>Volatility: 0.15<br>DE_Close: Weight=0.63<br>GE_Close: Weight=0.00<br>SRE_Close: Weight=0.00<br>ZBH_Close: Weight=0.00<br>ADBE_Close: Weight=0.37",
          "Return: 42.63%<br>Volatility: 0.11<br>MMM_Close: Weight=0.23<br>ACN_Close: Weight=0.20<br>AMZN_Close: Weight=0.13<br>BA_Close: Weight=0.43<br>SYK_Close: Weight=0.01",
          "Return: 28.78%<br>Volatility: 0.09<br>TXN_Close: Weight=0.27<br>GIS_Close: Weight=0.00<br>ACN_Close: Weight=0.22<br>NFLX_Close: Weight=0.00<br>HON_Close: Weight=0.52",
          "Return: 35.64%<br>Volatility: 0.13<br>KR_Close: Weight=0.00<br>EW_Close: Weight=0.12<br>T_Close: Weight=0.00<br>MCD_Close: Weight=0.88",
          "Return: 40.15%<br>Volatility: 0.16<br>SO_Close: Weight=0.09<br>BAC_Close: Weight=0.18<br>BABA_Close: Weight=0.50<br>AAPL_Close: Weight=0.23",
          "Return: 16.75%<br>Volatility: 0.08<br>PEP_Close: Weight=0.47<br>LLY_Close: Weight=0.05<br>EW_Close: Weight=0.12<br>AAPL_Close: Weight=0.29<br>DHR_Close: Weight=0.07",
          "Return: 13.23%<br>Volatility: 0.14<br>UA_Close: Weight=0.00<br>GM_Close: Weight=0.55<br>BMY_Close: Weight=0.45<br>GS_Close: Weight=0.00<br>MDT_Close: Weight=0.00",
          "Return: 23.76%<br>Volatility: 0.11<br>META_Close: Weight=0.55<br>SO_Close: Weight=0.00<br>K_Close: Weight=0.00<br>CVX_Close: Weight=0.45<br>WFC_Close: Weight=0.00",
          "Return: 41.56%<br>Volatility: 0.11<br>MSFT_Close: Weight=0.25<br>GOOG_Close: Weight=0.00<br>NKE_Close: Weight=0.02<br>PYPL_Close: Weight=0.26<br>HD_Close: Weight=0.48",
          "Return: 16.99%<br>Volatility: 0.13<br>AMD_Close: Weight=0.00<br>BTI_Close: Weight=0.27<br>SYY_Close: Weight=0.73",
          "Return: 25.80%<br>Volatility: 0.09<br>TXN_Close: Weight=0.34<br>SYK_Close: Weight=0.03<br>EXC_Close: Weight=0.15<br>ABT_Close: Weight=0.28<br>PEP_Close: Weight=0.19",
          "Return: 26.80%<br>Volatility: 0.11<br>EW_Close: Weight=0.09<br>AMD_Close: Weight=0.00<br>PFE_Close: Weight=0.20<br>HD_Close: Weight=0.70",
          "Return: 19.51%<br>Volatility: 0.13<br>TMO_Close: Weight=0.62<br>GIS_Close: Weight=0.00<br>CSCO_Close: Weight=0.38<br>MRK_Close: Weight=0.00",
          "Return: 42.06%<br>Volatility: 0.14<br>BABA_Close: Weight=0.28<br>TMO_Close: Weight=0.13<br>GOOGL_Close: Weight=0.00<br>MA_Close: Weight=0.59",
          "Return: 26.04%<br>Volatility: 0.09<br>HON_Close: Weight=0.67<br>MO_Close: Weight=0.00<br>PFE_Close: Weight=0.12<br>PM_Close: Weight=0.00<br>AMZN_Close: Weight=0.21",
          "Return: 42.88%<br>Volatility: 0.13<br>UNH_Close: Weight=0.65<br>BABA_Close: Weight=0.32<br>BAC_Close: Weight=0.04",
          "Return: 38.57%<br>Volatility: 0.15<br>TXN_Close: Weight=0.64<br>DIS_Close: Weight=0.03<br>WFC_Close: Weight=0.00<br>ADBE_Close: Weight=0.33<br>UA_Close: Weight=0.00",
          "Return: 38.35%<br>Volatility: 0.11<br>UA_Close: Weight=0.00<br>ISRG_Close: Weight=0.42<br>CPB_Close: Weight=0.00<br>HD_Close: Weight=0.58<br>ETN_Close: Weight=0.00",
          "Return: 30.58%<br>Volatility: 0.10<br>BABA_Close: Weight=0.26<br>LMT_Close: Weight=0.57<br>BTI_Close: Weight=0.04<br>PG_Close: Weight=0.14",
          "Return: 42.39%<br>Volatility: 0.13<br>CRM_Close: Weight=0.29<br>ABBV_Close: Weight=0.62<br>ETN_Close: Weight=0.08",
          "Return: 27.62%<br>Volatility: 0.15<br>AMD_Close: Weight=0.00<br>META_Close: Weight=0.86<br>CMCSA_Close: Weight=0.14",
          "Return: 23.06%<br>Volatility: 0.08<br>AEP_Close: Weight=0.23<br>ABT_Close: Weight=0.23<br>SYY_Close: Weight=0.10<br>HON_Close: Weight=0.44",
          "Return: 32.08%<br>Volatility: 0.10<br>V_Close: Weight=0.53<br>VZ_Close: Weight=0.08<br>CMCSA_Close: Weight=0.05<br>ORCL_Close: Weight=0.01<br>WMT_Close: Weight=0.33",
          "Return: 46.53%<br>Volatility: 0.15<br>GOOG_Close: Weight=0.29<br>LLY_Close: Weight=0.00<br>ABBV_Close: Weight=0.71<br>SNAP_Close: Weight=0.00",
          "Return: 11.21%<br>Volatility: 0.20<br>BSX_Close: Weight=0.00<br>PM_Close: Weight=0.00<br>COST_Close: Weight=1.00",
          "Return: 17.22%<br>Volatility: 0.10<br>SYY_Close: Weight=0.39<br>RTX_Close: Weight=0.43<br>ETN_Close: Weight=0.18<br>KR_Close: Weight=0.00",
          "Return: 35.47%<br>Volatility: 0.11<br>BABA_Close: Weight=0.31<br>BSX_Close: Weight=0.00<br>T_Close: Weight=0.00<br>NEE_Close: Weight=0.69",
          "Return: 35.66%<br>Volatility: 0.18<br>CPB_Close: Weight=0.00<br>VRTX_Close: Weight=0.28<br>GOOGL_Close: Weight=0.72",
          "Return: 29.94%<br>Volatility: 0.11<br>HD_Close: Weight=0.64<br>CRM_Close: Weight=0.36<br>BSX_Close: Weight=0.00",
          "Return: 38.56%<br>Volatility: 0.14<br>INTC_Close: Weight=0.43<br>WMT_Close: Weight=0.57<br>COST_Close: Weight=0.00<br>MRK_Close: Weight=0.00",
          "Return: 33.11%<br>Volatility: 0.10<br>WMT_Close: Weight=0.37<br>MMM_Close: Weight=0.40<br>GOOG_Close: Weight=0.21<br>COST_Close: Weight=0.00<br>PFE_Close: Weight=0.02",
          "Return: 28.29%<br>Volatility: 0.10<br>AEP_Close: Weight=0.40<br>ADBE_Close: Weight=0.10<br>MSFT_Close: Weight=0.45<br>EW_Close: Weight=0.04",
          "Return: 26.21%<br>Volatility: 0.10<br>ETN_Close: Weight=0.04<br>CVX_Close: Weight=0.27<br>UNH_Close: Weight=0.59<br>REGN_Close: Weight=0.00<br>DHR_Close: Weight=0.09",
          "Return: 26.33%<br>Volatility: 0.11<br>BTI_Close: Weight=0.00<br>CPB_Close: Weight=0.00<br>PEP_Close: Weight=0.44<br>AAPL_Close: Weight=0.24<br>ADBE_Close: Weight=0.33",
          "Return: 31.18%<br>Volatility: 0.13<br>SO_Close: Weight=0.00<br>ADBE_Close: Weight=0.47<br>SYY_Close: Weight=0.43<br>CSCO_Close: Weight=0.10<br>ZBH_Close: Weight=0.00",
          "Return: 44.49%<br>Volatility: 0.14<br>EW_Close: Weight=0.07<br>REGN_Close: Weight=0.00<br>MRK_Close: Weight=0.00<br>AAPL_Close: Weight=0.25<br>ABBV_Close: Weight=0.68",
          "Return: 11.87%<br>Volatility: 0.09<br>DHR_Close: Weight=0.24<br>BSX_Close: Weight=0.00<br>PEP_Close: Weight=0.76",
          "Return: 27.65%<br>Volatility: 0.10<br>MA_Close: Weight=0.60<br>DUK_Close: Weight=0.21<br>CPB_Close: Weight=0.00<br>EMR_Close: Weight=0.18",
          "Return: 25.01%<br>Volatility: 0.08<br>TXN_Close: Weight=0.19<br>JPM_Close: Weight=0.19<br>MSFT_Close: Weight=0.22<br>AEP_Close: Weight=0.40",
          "Return: 11.55%<br>Volatility: 0.14<br>SRE_Close: Weight=0.02<br>BSX_Close: Weight=0.00<br>CMCSA_Close: Weight=0.37<br>ORCL_Close: Weight=0.61",
          "Return: 34.43%<br>Volatility: 0.12<br>K_Close: Weight=0.00<br>SYY_Close: Weight=0.35<br>ISRG_Close: Weight=0.56<br>MS_Close: Weight=0.09<br>AMD_Close: Weight=0.00",
          "Return: 32.32%<br>Volatility: 0.10<br>SAP_Close: Weight=0.16<br>ABT_Close: Weight=0.32<br>MCD_Close: Weight=0.53",
          "Return: 52.13%<br>Volatility: 0.18<br>BMY_Close: Weight=0.03<br>IBM_Close: Weight=0.00<br>PYPL_Close: Weight=0.63<br>CMCSA_Close: Weight=0.13<br>ADBE_Close: Weight=0.21",
          "Return: 31.88%<br>Volatility: 0.17<br>AMZN_Close: Weight=0.61<br>SNAP_Close: Weight=0.00<br>BTI_Close: Weight=0.10<br>AAPL_Close: Weight=0.29",
          "Return: 27.51%<br>Volatility: 0.10<br>ABT_Close: Weight=0.39<br>F_Close: Weight=0.00<br>BMY_Close: Weight=0.00<br>GOOGL_Close: Weight=0.22<br>ACN_Close: Weight=0.39",
          "Return: 35.01%<br>Volatility: 0.14<br>MS_Close: Weight=0.04<br>NVDA_Close: Weight=0.28<br>ORCL_Close: Weight=0.18<br>SYY_Close: Weight=0.44<br>BTI_Close: Weight=0.05",
          "Return: 12.16%<br>Volatility: 0.12<br>SRE_Close: Weight=0.00<br>CSCO_Close: Weight=0.67<br>PG_Close: Weight=0.33",
          "Return: 32.59%<br>Volatility: 0.11<br>HON_Close: Weight=0.62<br>GE_Close: Weight=0.00<br>REGN_Close: Weight=0.00<br>DE_Close: Weight=0.38",
          "Return: 31.12%<br>Volatility: 0.10<br>NEE_Close: Weight=0.46<br>CPB_Close: Weight=0.00<br>MCD_Close: Weight=0.54<br>EXC_Close: Weight=0.00",
          "Return: 35.87%<br>Volatility: 0.15<br>VZ_Close: Weight=0.22<br>NVDA_Close: Weight=0.29<br>GM_Close: Weight=0.07<br>MS_Close: Weight=0.05<br>TMO_Close: Weight=0.37",
          "Return: 28.15%<br>Volatility: 0.10<br>AEP_Close: Weight=0.37<br>MA_Close: Weight=0.56<br>TMO_Close: Weight=0.06",
          "Return: 14.67%<br>Volatility: 0.09<br>SRE_Close: Weight=0.00<br>AEP_Close: Weight=0.76<br>T_Close: Weight=0.00<br>CPB_Close: Weight=0.00<br>ORCL_Close: Weight=0.24",
          "Return: 26.61%<br>Volatility: 0.10<br>BAC_Close: Weight=0.14<br>INTC_Close: Weight=0.26<br>PEP_Close: Weight=0.37<br>SNAP_Close: Weight=0.00<br>ADBE_Close: Weight=0.24",
          "Return: 25.33%<br>Volatility: 0.08<br>TSLA_Close: Weight=0.02<br>ISRG_Close: Weight=0.32<br>CPB_Close: Weight=0.00<br>BAC_Close: Weight=0.15<br>KO_Close: Weight=0.51",
          "Return: 5.99%<br>Volatility: 0.10<br>PG_Close: Weight=0.64<br>CMCSA_Close: Weight=0.36<br>GE_Close: Weight=0.00",
          "Return: 23.24%<br>Volatility: 0.10<br>ZBH_Close: Weight=0.00<br>ETN_Close: Weight=0.06<br>PM_Close: Weight=0.00<br>RMD_Close: Weight=0.13<br>LMT_Close: Weight=0.81",
          "Return: 22.54%<br>Volatility: 0.09<br>MDT_Close: Weight=0.00<br>META_Close: Weight=0.29<br>AMD_Close: Weight=0.00<br>NEE_Close: Weight=0.56<br>XOM_Close: Weight=0.15",
          "Return: 23.14%<br>Volatility: 0.07<br>LMT_Close: Weight=0.32<br>DUK_Close: Weight=0.02<br>SAP_Close: Weight=0.03<br>TXN_Close: Weight=0.26<br>KO_Close: Weight=0.37",
          "Return: 20.99%<br>Volatility: 0.15<br>SYK_Close: Weight=0.96<br>LLY_Close: Weight=0.04<br>PM_Close: Weight=0.00",
          "Return: 20.88%<br>Volatility: 0.10<br>MDT_Close: Weight=0.00<br>CRM_Close: Weight=0.46<br>JNJ_Close: Weight=0.54",
          "Return: 25.87%<br>Volatility: 0.13<br>EXC_Close: Weight=0.41<br>VRTX_Close: Weight=0.25<br>CSCO_Close: Weight=0.34<br>SNAP_Close: Weight=0.00",
          "Return: 31.40%<br>Volatility: 0.12<br>CVX_Close: Weight=0.37<br>INTC_Close: Weight=0.33<br>DHR_Close: Weight=0.13<br>MO_Close: Weight=0.00<br>NVDA_Close: Weight=0.17",
          "Return: 34.74%<br>Volatility: 0.18<br>GIS_Close: Weight=0.00<br>SYK_Close: Weight=0.67<br>BSX_Close: Weight=0.00<br>VRTX_Close: Weight=0.33",
          "Return: 27.70%<br>Volatility: 0.09<br>UNH_Close: Weight=0.44<br>K_Close: Weight=0.00<br>CSCO_Close: Weight=0.12<br>MO_Close: Weight=0.00<br>NEE_Close: Weight=0.44",
          "Return: 35.78%<br>Volatility: 0.11<br>GE_Close: Weight=0.00<br>UA_Close: Weight=0.00<br>BABA_Close: Weight=0.27<br>DUK_Close: Weight=0.33<br>WMT_Close: Weight=0.39",
          "Return: 11.67%<br>Volatility: 0.09<br>GIS_Close: Weight=0.00<br>QCOM_Close: Weight=0.16<br>CSCO_Close: Weight=0.35<br>DUK_Close: Weight=0.49",
          "Return: 38.87%<br>Volatility: 0.14<br>VZ_Close: Weight=0.13<br>ABT_Close: Weight=0.63<br>NVDA_Close: Weight=0.24",
          "Return: 47.53%<br>Volatility: 0.15<br>SRE_Close: Weight=0.00<br>T_Close: Weight=0.00<br>BAC_Close: Weight=0.19<br>ABBV_Close: Weight=0.81<br>PG_Close: Weight=0.01",
          "Return: 65.17%<br>Volatility: 0.23<br>PYPL_Close: Weight=1.00<br>UA_Close: Weight=0.00<br>GE_Close: Weight=0.00",
          "Return: 34.67%<br>Volatility: 0.11<br>F_Close: Weight=0.04<br>ABBV_Close: Weight=0.54<br>PEP_Close: Weight=0.42",
          "Return: 25.49%<br>Volatility: 0.08<br>AEP_Close: Weight=0.27<br>INTC_Close: Weight=0.15<br>DIS_Close: Weight=0.02<br>V_Close: Weight=0.35<br>ACN_Close: Weight=0.21",
          "Return: 26.50%<br>Volatility: 0.14<br>META_Close: Weight=0.69<br>NKE_Close: Weight=0.13<br>EW_Close: Weight=0.18",
          "Return: 15.15%<br>Volatility: 0.07<br>KO_Close: Weight=0.52<br>JPM_Close: Weight=0.30<br>ZBH_Close: Weight=0.00<br>MS_Close: Weight=0.00<br>EXC_Close: Weight=0.18",
          "Return: 14.71%<br>Volatility: 0.19<br>T_Close: Weight=0.00<br>PM_Close: Weight=0.00<br>GM_Close: Weight=1.00",
          "Return: 33.54%<br>Volatility: 0.12<br>MA_Close: Weight=0.61<br>SNAP_Close: Weight=0.00<br>ACN_Close: Weight=0.39",
          "Return: 16.88%<br>Volatility: 0.10<br>PG_Close: Weight=0.19<br>EMR_Close: Weight=0.33<br>SYY_Close: Weight=0.34<br>BAC_Close: Weight=0.14<br>MO_Close: Weight=0.00",
          "Return: 24.09%<br>Volatility: 0.08<br>TMO_Close: Weight=0.10<br>HON_Close: Weight=0.50<br>CPB_Close: Weight=0.00<br>NEE_Close: Weight=0.40<br>IBM_Close: Weight=0.00",
          "Return: 26.64%<br>Volatility: 0.13<br>MMM_Close: Weight=0.94<br>DHR_Close: Weight=0.04<br>DUK_Close: Weight=0.02",
          "Return: 15.79%<br>Volatility: 0.07<br>JPM_Close: Weight=0.24<br>GM_Close: Weight=0.05<br>RMD_Close: Weight=0.12<br>KO_Close: Weight=0.59",
          "Return: 25.78%<br>Volatility: 0.12<br>BTI_Close: Weight=0.04<br>ACN_Close: Weight=0.92<br>K_Close: Weight=0.00<br>GILD_Close: Weight=0.04",
          "Return: 27.22%<br>Volatility: 0.11<br>ACN_Close: Weight=0.53<br>CSCO_Close: Weight=0.02<br>BMY_Close: Weight=0.04<br>CRM_Close: Weight=0.11<br>META_Close: Weight=0.30",
          "Return: 34.34%<br>Volatility: 0.11<br>ETN_Close: Weight=0.01<br>GOOGL_Close: Weight=0.16<br>INTC_Close: Weight=0.24<br>MCD_Close: Weight=0.60",
          "Return: 34.39%<br>Volatility: 0.14<br>UA_Close: Weight=0.00<br>BABA_Close: Weight=0.48<br>PFE_Close: Weight=0.52<br>KR_Close: Weight=0.00",
          "Return: 33.07%<br>Volatility: 0.11<br>MMM_Close: Weight=0.43<br>MA_Close: Weight=0.56<br>UA_Close: Weight=0.00<br>SO_Close: Weight=0.00<br>TMO_Close: Weight=0.02",
          "Return: 43.19%<br>Volatility: 0.13<br>PM_Close: Weight=0.00<br>CRM_Close: Weight=0.32<br>ABBV_Close: Weight=0.65<br>F_Close: Weight=0.03",
          "Return: 16.07%<br>Volatility: 0.09<br>TMO_Close: Weight=0.38<br>MO_Close: Weight=0.00<br>PEP_Close: Weight=0.62<br>AMGN_Close: Weight=0.00<br>K_Close: Weight=0.00",
          "Return: 35.45%<br>Volatility: 0.10<br>SNAP_Close: Weight=0.00<br>ORCL_Close: Weight=0.05<br>KO_Close: Weight=0.38<br>CAT_Close: Weight=0.43<br>RTX_Close: Weight=0.15",
          "Return: 25.04%<br>Volatility: 0.08<br>UA_Close: Weight=0.00<br>GOOGL_Close: Weight=0.09<br>LMT_Close: Weight=0.30<br>ISRG_Close: Weight=0.22<br>KO_Close: Weight=0.39",
          "Return: 24.30%<br>Volatility: 0.13<br>ORCL_Close: Weight=0.13<br>EW_Close: Weight=0.20<br>EMR_Close: Weight=0.42<br>NFLX_Close: Weight=0.25",
          "Return: 17.44%<br>Volatility: 0.13<br>JPM_Close: Weight=0.84<br>ZBH_Close: Weight=0.00<br>LLY_Close: Weight=0.16",
          "Return: 43.75%<br>Volatility: 0.18<br>ISRG_Close: Weight=0.93<br>BSX_Close: Weight=0.00<br>F_Close: Weight=0.07",
          "Return: 17.73%<br>Volatility: 0.11<br>JPM_Close: Weight=0.43<br>NKE_Close: Weight=0.08<br>GILD_Close: Weight=0.00<br>RTX_Close: Weight=0.49",
          "Return: 13.25%<br>Volatility: 0.07<br>CSCO_Close: Weight=0.20<br>GS_Close: Weight=0.00<br>KO_Close: Weight=0.72<br>WFC_Close: Weight=0.08",
          "Return: 42.80%<br>Volatility: 0.17<br>ISRG_Close: Weight=0.89<br>ORCL_Close: Weight=0.11<br>BMY_Close: Weight=0.00",
          "Return: 20.36%<br>Volatility: 0.21<br>UA_Close: Weight=0.00<br>AMD_Close: Weight=0.00<br>BAC_Close: Weight=1.00",
          "Return: 17.60%<br>Volatility: 0.08<br>VZ_Close: Weight=0.14<br>PEP_Close: Weight=0.43<br>RTX_Close: Weight=0.29<br>NFLX_Close: Weight=0.15",
          "Return: 36.10%<br>Volatility: 0.12<br>BABA_Close: Weight=0.28<br>ACN_Close: Weight=0.48<br>AMZN_Close: Weight=0.15<br>GE_Close: Weight=0.00<br>XOM_Close: Weight=0.10",
          "Return: 14.04%<br>Volatility: 0.10<br>BTI_Close: Weight=0.22<br>ETN_Close: Weight=0.27<br>MO_Close: Weight=0.00<br>F_Close: Weight=0.00<br>CVX_Close: Weight=0.51",
          "Return: 37.14%<br>Volatility: 0.16<br>T_Close: Weight=0.00<br>TXN_Close: Weight=1.00<br>F_Close: Weight=0.00",
          "Return: 21.12%<br>Volatility: 0.07<br>KO_Close: Weight=0.38<br>PFE_Close: Weight=0.14<br>V_Close: Weight=0.48",
          "Return: 45.69%<br>Volatility: 0.19<br>ETN_Close: Weight=0.10<br>BIIB_Close: Weight=0.00<br>MO_Close: Weight=0.00<br>META_Close: Weight=0.35<br>BABA_Close: Weight=0.54",
          "Return: 38.20%<br>Volatility: 0.11<br>DE_Close: Weight=0.35<br>MCD_Close: Weight=0.53<br>LLY_Close: Weight=0.06<br>NFLX_Close: Weight=0.06",
          "Return: 28.85%<br>Volatility: 0.12<br>PG_Close: Weight=0.18<br>MSFT_Close: Weight=0.69<br>F_Close: Weight=0.04<br>GOOG_Close: Weight=0.08<br>TSLA_Close: Weight=0.02",
          "Return: 26.49%<br>Volatility: 0.09<br>KO_Close: Weight=0.45<br>MA_Close: Weight=0.55<br>REGN_Close: Weight=0.00<br>QCOM_Close: Weight=0.00",
          "Return: 19.74%<br>Volatility: 0.09<br>CRM_Close: Weight=0.44<br>GIS_Close: Weight=0.00<br>AEP_Close: Weight=0.56<br>AMGN_Close: Weight=0.00",
          "Return: 16.12%<br>Volatility: 0.10<br>CMCSA_Close: Weight=0.08<br>EW_Close: Weight=0.23<br>CVX_Close: Weight=0.47<br>ORCL_Close: Weight=0.22",
          "Return: 10.79%<br>Volatility: 0.15<br>AMD_Close: Weight=0.00<br>VZ_Close: Weight=0.71<br>PM_Close: Weight=0.00<br>CMCSA_Close: Weight=0.29",
          "Return: 20.77%<br>Volatility: 0.12<br>NKE_Close: Weight=0.12<br>PG_Close: Weight=0.01<br>SAP_Close: Weight=0.87",
          "Return: 51.65%<br>Volatility: 0.15<br>ORCL_Close: Weight=0.01<br>SO_Close: Weight=0.00<br>CRM_Close: Weight=0.31<br>CAT_Close: Weight=0.68",
          "Return: 50.93%<br>Volatility: 0.14<br>BIIB_Close: Weight=0.00<br>BABA_Close: Weight=0.25<br>CAT_Close: Weight=0.52<br>PFE_Close: Weight=0.23",
          "Return: 28.39%<br>Volatility: 0.10<br>BIIB_Close: Weight=0.00<br>ETN_Close: Weight=0.10<br>T_Close: Weight=0.00<br>AEP_Close: Weight=0.30<br>MCD_Close: Weight=0.60",
          "Return: 35.85%<br>Volatility: 0.17<br>META_Close: Weight=0.68<br>VRTX_Close: Weight=0.25<br>GIS_Close: Weight=0.08<br>KR_Close: Weight=0.00",
          "Return: 24.31%<br>Volatility: 0.11<br>AMZN_Close: Weight=0.39<br>AEP_Close: Weight=0.61<br>MDT_Close: Weight=0.00",
          "Return: 24.20%<br>Volatility: 0.08<br>CVX_Close: Weight=0.12<br>EMR_Close: Weight=0.18<br>WMT_Close: Weight=0.32<br>KO_Close: Weight=0.38",
          "Return: 16.83%<br>Volatility: 0.08<br>CRM_Close: Weight=0.39<br>BAC_Close: Weight=0.22<br>CPB_Close: Weight=0.00<br>DUK_Close: Weight=0.39",
          "Return: 40.87%<br>Volatility: 0.09<br>SO_Close: Weight=0.00<br>MCD_Close: Weight=0.39<br>BA_Close: Weight=0.39<br>KO_Close: Weight=0.22",
          "Return: 38.76%<br>Volatility: 0.13<br>TMO_Close: Weight=0.10<br>DUK_Close: Weight=0.23<br>INTC_Close: Weight=0.26<br>PYPL_Close: Weight=0.41<br>GS_Close: Weight=0.00",
          "Return: 22.60%<br>Volatility: 0.23<br>EW_Close: Weight=1.00<br>SRE_Close: Weight=0.00<br>K_Close: Weight=0.00",
          "Return: 34.35%<br>Volatility: 0.14<br>GOOG_Close: Weight=0.17<br>TXN_Close: Weight=0.65<br>SO_Close: Weight=0.00<br>AAPL_Close: Weight=0.00<br>META_Close: Weight=0.18",
          "Return: 29.47%<br>Volatility: 0.09<br>AEP_Close: Weight=0.38<br>ADBE_Close: Weight=0.15<br>CVX_Close: Weight=0.26<br>BABA_Close: Weight=0.21",
          "Return: 45.34%<br>Volatility: 0.16<br>PYPL_Close: Weight=0.63<br>EW_Close: Weight=0.12<br>NFLX_Close: Weight=0.02<br>PG_Close: Weight=0.23",
          "Return: 22.99%<br>Volatility: 0.08<br>KO_Close: Weight=0.45<br>CSCO_Close: Weight=0.05<br>HD_Close: Weight=0.50<br>AMD_Close: Weight=0.00",
          "Return: 37.70%<br>Volatility: 0.15<br>BTI_Close: Weight=0.09<br>VZ_Close: Weight=0.02<br>DE_Close: Weight=0.79<br>DHR_Close: Weight=0.10",
          "Return: 22.38%<br>Volatility: 0.14<br>GIS_Close: Weight=0.00<br>SNAP_Close: Weight=0.00<br>SAP_Close: Weight=1.00",
          "Return: 42.56%<br>Volatility: 0.12<br>V_Close: Weight=0.50<br>ABBV_Close: Weight=0.50<br>REGN_Close: Weight=0.00",
          "Return: 14.00%<br>Volatility: 0.12<br>PM_Close: Weight=0.00<br>EW_Close: Weight=0.36<br>PFE_Close: Weight=0.64<br>UA_Close: Weight=0.00",
          "Return: 56.71%<br>Volatility: 0.18<br>QCOM_Close: Weight=0.00<br>VRTX_Close: Weight=0.19<br>GM_Close: Weight=0.15<br>PYPL_Close: Weight=0.66",
          "Return: 60.81%<br>Volatility: 0.26<br>BABA_Close: Weight=0.98<br>BIIB_Close: Weight=0.02<br>SNAP_Close: Weight=0.00",
          "Return: 35.78%<br>Volatility: 0.10<br>EXC_Close: Weight=0.09<br>ABBV_Close: Weight=0.41<br>F_Close: Weight=0.00<br>HON_Close: Weight=0.50<br>K_Close: Weight=0.00",
          "Return: 36.80%<br>Volatility: 0.14<br>WMT_Close: Weight=0.65<br>AMGN_Close: Weight=0.00<br>AAPL_Close: Weight=0.35",
          "Return: 29.07%<br>Volatility: 0.09<br>ORCL_Close: Weight=0.00<br>WMT_Close: Weight=0.33<br>CRM_Close: Weight=0.21<br>ABT_Close: Weight=0.31<br>XOM_Close: Weight=0.15",
          "Return: 40.82%<br>Volatility: 0.17<br>NVDA_Close: Weight=0.35<br>SYY_Close: Weight=0.51<br>RMD_Close: Weight=0.14",
          "Return: 35.68%<br>Volatility: 0.15<br>SRE_Close: Weight=0.00<br>TXN_Close: Weight=0.91<br>F_Close: Weight=0.00<br>BAC_Close: Weight=0.09",
          "Return: 29.47%<br>Volatility: 0.12<br>ZBH_Close: Weight=0.00<br>CPB_Close: Weight=0.00<br>VZ_Close: Weight=0.10<br>LLY_Close: Weight=0.03<br>HD_Close: Weight=0.87",
          "Return: 46.07%<br>Volatility: 0.14<br>K_Close: Weight=0.00<br>GE_Close: Weight=0.00<br>AAPL_Close: Weight=0.28<br>GS_Close: Weight=0.00<br>ABBV_Close: Weight=0.72",
          "Return: 25.50%<br>Volatility: 0.12<br>ACN_Close: Weight=0.77<br>NKE_Close: Weight=0.06<br>EW_Close: Weight=0.17",
          "Return: 21.91%<br>Volatility: 0.12<br>PG_Close: Weight=0.15<br>SYK_Close: Weight=0.50<br>NFLX_Close: Weight=0.24<br>NKE_Close: Weight=0.11",
          "Return: 36.12%<br>Volatility: 0.13<br>K_Close: Weight=0.00<br>INTC_Close: Weight=0.28<br>MA_Close: Weight=0.72<br>ETN_Close: Weight=0.00",
          "Return: 45.94%<br>Volatility: 0.15<br>CMCSA_Close: Weight=0.14<br>TSLA_Close: Weight=0.06<br>ABBV_Close: Weight=0.80",
          "Return: 35.83%<br>Volatility: 0.13<br>QCOM_Close: Weight=0.09<br>MCD_Close: Weight=0.91<br>PG_Close: Weight=0.00",
          "Return: 21.15%<br>Volatility: 0.10<br>TMO_Close: Weight=0.27<br>NKE_Close: Weight=0.04<br>NFLX_Close: Weight=0.20<br>RTX_Close: Weight=0.29<br>VZ_Close: Weight=0.20",
          "Return: 18.32%<br>Volatility: 0.23<br>BSX_Close: Weight=0.00<br>QCOM_Close: Weight=0.98<br>GIS_Close: Weight=0.02<br>MO_Close: Weight=0.00",
          "Return: 34.52%<br>Volatility: 0.11<br>HD_Close: Weight=0.56<br>UA_Close: Weight=0.00<br>TXN_Close: Weight=0.44<br>MS_Close: Weight=0.00",
          "Return: 30.60%<br>Volatility: 0.09<br>V_Close: Weight=0.44<br>DE_Close: Weight=0.34<br>DUK_Close: Weight=0.21<br>PM_Close: Weight=0.00",
          "Return: 30.15%<br>Volatility: 0.10<br>RDY_Close: Weight=0.00<br>MA_Close: Weight=0.67<br>MDT_Close: Weight=0.00<br>CVX_Close: Weight=0.33<br>AMGN_Close: Weight=0.00",
          "Return: 36.52%<br>Volatility: 0.11<br>CVX_Close: Weight=0.25<br>GILD_Close: Weight=0.00<br>SYY_Close: Weight=0.22<br>ABBV_Close: Weight=0.53<br>MS_Close: Weight=0.01",
          "Return: 32.36%<br>Volatility: 0.12<br>PFE_Close: Weight=0.00<br>LLY_Close: Weight=0.00<br>UNH_Close: Weight=0.59<br>ABT_Close: Weight=0.41",
          "Return: 23.79%<br>Volatility: 0.10<br>BAC_Close: Weight=0.14<br>LMT_Close: Weight=0.86<br>SNAP_Close: Weight=0.00",
          "Return: 46.11%<br>Volatility: 0.12<br>CAT_Close: Weight=0.44<br>SAP_Close: Weight=0.06<br>GOOG_Close: Weight=0.16<br>PFE_Close: Weight=0.17<br>BABA_Close: Weight=0.17",
          "Return: 35.26%<br>Volatility: 0.14<br>EXC_Close: Weight=0.32<br>ISRG_Close: Weight=0.67<br>GIS_Close: Weight=0.01",
          "Return: 49.52%<br>Volatility: 0.14<br>RMD_Close: Weight=0.16<br>RTX_Close: Weight=0.09<br>BA_Close: Weight=0.75",
          "Return: 33.95%<br>Volatility: 0.16<br>NVDA_Close: Weight=0.38<br>DIS_Close: Weight=0.11<br>DUK_Close: Weight=0.51",
          "Return: 38.29%<br>Volatility: 0.13<br>ADBE_Close: Weight=0.32<br>K_Close: Weight=0.00<br>UNH_Close: Weight=0.68<br>RDY_Close: Weight=0.00",
          "Return: 34.44%<br>Volatility: 0.12<br>DIS_Close: Weight=0.00<br>WMT_Close: Weight=0.45<br>ABT_Close: Weight=0.48<br>MS_Close: Weight=0.07",
          "Return: 25.31%<br>Volatility: 0.10<br>TXN_Close: Weight=0.62<br>SO_Close: Weight=0.00<br>DUK_Close: Weight=0.38",
          "Return: 46.25%<br>Volatility: 0.17<br>SYK_Close: Weight=0.11<br>T_Close: Weight=0.01<br>ISRG_Close: Weight=0.70<br>VRTX_Close: Weight=0.18",
          "Return: 14.24%<br>Volatility: 0.07<br>KO_Close: Weight=0.69<br>MS_Close: Weight=0.16<br>K_Close: Weight=0.00<br>CSCO_Close: Weight=0.14",
          "Return: 16.28%<br>Volatility: 0.13<br>RTX_Close: Weight=0.93<br>GIS_Close: Weight=0.00<br>WFC_Close: Weight=0.07<br>AMD_Close: Weight=0.00",
          "Return: 51.33%<br>Volatility: 0.15<br>CAT_Close: Weight=0.74<br>CMCSA_Close: Weight=0.04<br>WFC_Close: Weight=0.00<br>RTX_Close: Weight=0.23",
          "Return: 19.03%<br>Volatility: 0.08<br>BMY_Close: Weight=0.01<br>NEE_Close: Weight=0.56<br>RTX_Close: Weight=0.22<br>NKE_Close: Weight=0.05<br>PFE_Close: Weight=0.16",
          "Return: 31.02%<br>Volatility: 0.10<br>LMT_Close: Weight=0.57<br>WMT_Close: Weight=0.39<br>DHR_Close: Weight=0.04",
          "Return: 37.18%<br>Volatility: 0.13<br>MO_Close: Weight=0.00<br>MSFT_Close: Weight=0.41<br>CRM_Close: Weight=0.00<br>MA_Close: Weight=0.59",
          "Return: 29.26%<br>Volatility: 0.11<br>DIS_Close: Weight=0.00<br>WMT_Close: Weight=0.51<br>AEP_Close: Weight=0.49",
          "Return: 24.19%<br>Volatility: 0.11<br>RTX_Close: Weight=0.30<br>DIS_Close: Weight=0.00<br>ACN_Close: Weight=0.70<br>GE_Close: Weight=0.00",
          "Return: 36.94%<br>Volatility: 0.13<br>ISRG_Close: Weight=0.57<br>AMZN_Close: Weight=0.28<br>DHR_Close: Weight=0.00<br>DIS_Close: Weight=0.15",
          "Return: 21.82%<br>Volatility: 0.09<br>PG_Close: Weight=0.00<br>MDT_Close: Weight=0.00<br>INTC_Close: Weight=0.42<br>AEP_Close: Weight=0.52<br>GILD_Close: Weight=0.06",
          "Return: 38.29%<br>Volatility: 0.17<br>META_Close: Weight=0.48<br>ADBE_Close: Weight=0.52<br>MO_Close: Weight=0.00<br>UA_Close: Weight=0.00",
          "Return: 30.80%<br>Volatility: 0.12<br>ISRG_Close: Weight=0.46<br>DUK_Close: Weight=0.26<br>GOOG_Close: Weight=0.27<br>GS_Close: Weight=0.00",
          "Return: 32.28%<br>Volatility: 0.15<br>CMCSA_Close: Weight=0.13<br>GIS_Close: Weight=0.00<br>NKE_Close: Weight=0.08<br>CSCO_Close: Weight=0.19<br>ADBE_Close: Weight=0.59",
          "Return: 45.88%<br>Volatility: 0.15<br>AMD_Close: Weight=0.00<br>PFE_Close: Weight=0.00<br>XOM_Close: Weight=0.00<br>ABBV_Close: Weight=0.68<br>ABT_Close: Weight=0.32",
          "Return: 50.60%<br>Volatility: 0.14<br>BA_Close: Weight=0.78<br>SYY_Close: Weight=0.22<br>RDY_Close: Weight=0.00",
          "Return: 43.49%<br>Volatility: 0.15<br>XOM_Close: Weight=0.19<br>PYPL_Close: Weight=0.50<br>SYK_Close: Weight=0.16<br>ADBE_Close: Weight=0.14",
          "Return: 55.14%<br>Volatility: 0.17<br>VRTX_Close: Weight=0.15<br>LLY_Close: Weight=0.00<br>ABBV_Close: Weight=0.85<br>UA_Close: Weight=0.00",
          "Return: 19.76%<br>Volatility: 0.17<br>QCOM_Close: Weight=0.40<br>EW_Close: Weight=0.53<br>SRE_Close: Weight=0.00<br>ZBH_Close: Weight=0.07",
          "Return: 27.31%<br>Volatility: 0.10<br>DHR_Close: Weight=0.00<br>ABT_Close: Weight=0.43<br>MMM_Close: Weight=0.49<br>MS_Close: Weight=0.08<br>K_Close: Weight=0.00",
          "Return: 5.32%<br>Volatility: 0.19<br>DIS_Close: Weight=0.00<br>GE_Close: Weight=0.00<br>GILD_Close: Weight=1.00<br>AMGN_Close: Weight=0.00",
          "Return: 25.17%<br>Volatility: 0.09<br>CRM_Close: Weight=0.24<br>HON_Close: Weight=0.76<br>MO_Close: Weight=0.00",
          "Return: 17.58%<br>Volatility: 0.08<br>GS_Close: Weight=0.05<br>SAP_Close: Weight=0.43<br>MDT_Close: Weight=0.00<br>AEP_Close: Weight=0.52<br>AMD_Close: Weight=0.00",
          "Return: 36.80%<br>Volatility: 0.14<br>GILD_Close: Weight=0.00<br>WMT_Close: Weight=0.65<br>AAPL_Close: Weight=0.35<br>GE_Close: Weight=0.00",
          "Return: 21.02%<br>Volatility: 0.09<br>EXC_Close: Weight=0.18<br>CVX_Close: Weight=0.21<br>ETN_Close: Weight=0.08<br>GIS_Close: Weight=0.00<br>ACN_Close: Weight=0.52",
          "Return: 19.82%<br>Volatility: 0.10<br>JNJ_Close: Weight=0.60<br>AMGN_Close: Weight=0.00<br>CPB_Close: Weight=0.00<br>AAPL_Close: Weight=0.37<br>BTI_Close: Weight=0.03",
          "Return: 36.87%<br>Volatility: 0.10<br>HD_Close: Weight=0.40<br>GIS_Close: Weight=0.00<br>PYPL_Close: Weight=0.27<br>INTC_Close: Weight=0.11<br>PEP_Close: Weight=0.22",
          "Return: 53.72%<br>Volatility: 0.18<br>KR_Close: Weight=0.00<br>BTI_Close: Weight=0.01<br>ABBV_Close: Weight=0.99",
          "Return: 55.78%<br>Volatility: 0.16<br>BA_Close: Weight=0.91<br>ZBH_Close: Weight=0.00<br>ETN_Close: Weight=0.01<br>QCOM_Close: Weight=0.08",
          "Return: 58.99%<br>Volatility: 0.16<br>BA_Close: Weight=0.72<br>BABA_Close: Weight=0.26<br>DHR_Close: Weight=0.02",
          "Return: 44.57%<br>Volatility: 0.18<br>AMD_Close: Weight=0.00<br>DIS_Close: Weight=0.00<br>PG_Close: Weight=0.01<br>DE_Close: Weight=0.99",
          "Return: 22.02%<br>Volatility: 0.08<br>GOOG_Close: Weight=0.25<br>KO_Close: Weight=0.42<br>ABT_Close: Weight=0.33<br>SNAP_Close: Weight=0.00",
          "Return: 25.97%<br>Volatility: 0.14<br>COST_Close: Weight=0.24<br>BSX_Close: Weight=0.00<br>META_Close: Weight=0.76",
          "Return: 34.58%<br>Volatility: 0.12<br>NKE_Close: Weight=0.11<br>PM_Close: Weight=0.00<br>MCD_Close: Weight=0.89",
          "Return: 26.45%<br>Volatility: 0.09<br>ISRG_Close: Weight=0.34<br>AAPL_Close: Weight=0.15<br>KO_Close: Weight=0.51",
          "Return: 3.62%<br>Volatility: 0.19<br>ZBH_Close: Weight=1.00<br>PM_Close: Weight=0.00<br>K_Close: Weight=0.00",
          "Return: 49.51%<br>Volatility: 0.17<br>EMR_Close: Weight=0.35<br>LLY_Close: Weight=0.00<br>PYPL_Close: Weight=0.65",
          "Return: 35.13%<br>Volatility: 0.13<br>MA_Close: Weight=0.89<br>GE_Close: Weight=0.00<br>MO_Close: Weight=0.00<br>MS_Close: Weight=0.11",
          "Return: 48.53%<br>Volatility: 0.12<br>ISRG_Close: Weight=0.27<br>COST_Close: Weight=0.00<br>AMD_Close: Weight=0.00<br>WMT_Close: Weight=0.32<br>ABBV_Close: Weight=0.41",
          "Return: 21.24%<br>Volatility: 0.09<br>AEP_Close: Weight=0.43<br>PFE_Close: Weight=0.08<br>ABT_Close: Weight=0.49",
          "Return: 22.42%<br>Volatility: 0.13<br>UA_Close: Weight=0.00<br>ETN_Close: Weight=0.28<br>GOOGL_Close: Weight=0.72<br>GIS_Close: Weight=0.00",
          "Return: 17.14%<br>Volatility: 0.12<br>WFC_Close: Weight=0.00<br>CVX_Close: Weight=0.42<br>CMCSA_Close: Weight=0.10<br>EMR_Close: Weight=0.48",
          "Return: 17.86%<br>Volatility: 0.15<br>BIIB_Close: Weight=0.08<br>TSLA_Close: Weight=0.22<br>CSCO_Close: Weight=0.70<br>CPB_Close: Weight=0.00",
          "Return: 32.53%<br>Volatility: 0.10<br>ADBE_Close: Weight=0.12<br>BABA_Close: Weight=0.22<br>NEE_Close: Weight=0.55<br>F_Close: Weight=0.11<br>KR_Close: Weight=0.00",
          "Return: 37.04%<br>Volatility: 0.13<br>GIS_Close: Weight=0.00<br>COST_Close: Weight=0.09<br>UNH_Close: Weight=0.76<br>VRTX_Close: Weight=0.16",
          "Return: 28.57%<br>Volatility: 0.08<br>HD_Close: Weight=0.35<br>AEP_Close: Weight=0.29<br>SRE_Close: Weight=0.00<br>ORCL_Close: Weight=0.08<br>WMT_Close: Weight=0.27",
          "Return: 32.67%<br>Volatility: 0.09<br>NEE_Close: Weight=0.35<br>MA_Close: Weight=0.31<br>CMCSA_Close: Weight=0.05<br>WMT_Close: Weight=0.28<br>CSCO_Close: Weight=0.00",
          "Return: 35.77%<br>Volatility: 0.14<br>GOOG_Close: Weight=0.18<br>NFLX_Close: Weight=0.00<br>CPB_Close: Weight=0.00<br>SRE_Close: Weight=0.00<br>MA_Close: Weight=0.82",
          "Return: 13.48%<br>Volatility: 0.11<br>EW_Close: Weight=0.31<br>PFE_Close: Weight=0.54<br>CMCSA_Close: Weight=0.14",
          "Return: 30.93%<br>Volatility: 0.17<br>KR_Close: Weight=0.00<br>INTC_Close: Weight=0.93<br>AMD_Close: Weight=0.00<br>BIIB_Close: Weight=0.07",
          "Return: 31.48%<br>Volatility: 0.12<br>MS_Close: Weight=0.07<br>META_Close: Weight=0.25<br>JNJ_Close: Weight=0.51<br>NVDA_Close: Weight=0.18",
          "Return: 23.27%<br>Volatility: 0.09<br>SYK_Close: Weight=0.17<br>VZ_Close: Weight=0.09<br>AMGN_Close: Weight=0.00<br>HON_Close: Weight=0.74<br>DIS_Close: Weight=0.00",
          "Return: 28.14%<br>Volatility: 0.14<br>EXC_Close: Weight=0.40<br>AMZN_Close: Weight=0.45<br>NFLX_Close: Weight=0.15<br>UA_Close: Weight=0.00",
          "Return: 22.99%<br>Volatility: 0.08<br>NEE_Close: Weight=0.52<br>META_Close: Weight=0.12<br>GOOG_Close: Weight=0.10<br>MS_Close: Weight=0.14<br>RTX_Close: Weight=0.12",
          "Return: 27.68%<br>Volatility: 0.18<br>EW_Close: Weight=0.38<br>NFLX_Close: Weight=0.48<br>ZBH_Close: Weight=0.00<br>LLY_Close: Weight=0.14",
          "Return: 22.50%<br>Volatility: 0.13<br>GOOGL_Close: Weight=0.73<br>WFC_Close: Weight=0.03<br>GM_Close: Weight=0.24<br>BSX_Close: Weight=0.00",
          "Return: 48.23%<br>Volatility: 0.12<br>EXC_Close: Weight=0.15<br>BA_Close: Weight=0.53<br>ISRG_Close: Weight=0.32",
          "Return: 25.01%<br>Volatility: 0.08<br>JPM_Close: Weight=0.19<br>WMT_Close: Weight=0.32<br>PEP_Close: Weight=0.21<br>GM_Close: Weight=0.01<br>JNJ_Close: Weight=0.28",
          "Return: 38.28%<br>Volatility: 0.29<br>NFLX_Close: Weight=1.00<br>T_Close: Weight=0.00<br>AMGN_Close: Weight=0.00<br>IBM_Close: Weight=0.00",
          "Return: 21.83%<br>Volatility: 0.09<br>LMT_Close: Weight=0.68<br>CVX_Close: Weight=0.25<br>BAC_Close: Weight=0.07",
          "Return: 26.15%<br>Volatility: 0.09<br>MSFT_Close: Weight=0.48<br>AEP_Close: Weight=0.42<br>NFLX_Close: Weight=0.02<br>AAPL_Close: Weight=0.02<br>BMY_Close: Weight=0.05",
          "Return: 25.37%<br>Volatility: 0.11<br>AMZN_Close: Weight=0.26<br>META_Close: Weight=0.21<br>JNJ_Close: Weight=0.53",
          "Return: 20.31%<br>Volatility: 0.14<br>TSLA_Close: Weight=0.18<br>GM_Close: Weight=0.13<br>T_Close: Weight=0.00<br>JPM_Close: Weight=0.69",
          "Return: 38.14%<br>Volatility: 0.09<br>XOM_Close: Weight=0.00<br>SAP_Close: Weight=0.08<br>CAT_Close: Weight=0.34<br>NEE_Close: Weight=0.38<br>ACN_Close: Weight=0.20",
          "Return: 27.82%<br>Volatility: 0.15<br>LLY_Close: Weight=0.11<br>ETN_Close: Weight=0.28<br>AMZN_Close: Weight=0.61",
          "Return: 15.44%<br>Volatility: 0.14<br>IBM_Close: Weight=0.00<br>CVX_Close: Weight=1.00<br>AMGN_Close: Weight=0.00",
          "Return: 29.21%<br>Volatility: 0.11<br>SYY_Close: Weight=0.28<br>MSFT_Close: Weight=0.47<br>AMZN_Close: Weight=0.01<br>META_Close: Weight=0.10<br>SAP_Close: Weight=0.14",
          "Return: 38.31%<br>Volatility: 0.11<br>DHR_Close: Weight=0.00<br>ABBV_Close: Weight=0.47<br>LMT_Close: Weight=0.49<br>SYK_Close: Weight=0.04",
          "Return: 28.99%<br>Volatility: 0.11<br>VRTX_Close: Weight=0.12<br>LMT_Close: Weight=0.64<br>CRM_Close: Weight=0.24",
          "Return: 28.95%<br>Volatility: 0.10<br>NEE_Close: Weight=0.53<br>SO_Close: Weight=0.00<br>BTI_Close: Weight=0.00<br>TXN_Close: Weight=0.41<br>SYK_Close: Weight=0.07",
          "Return: 42.61%<br>Volatility: 0.11<br>BA_Close: Weight=0.48<br>ACN_Close: Weight=0.24<br>NFLX_Close: Weight=0.05<br>SNAP_Close: Weight=0.00<br>LMT_Close: Weight=0.23",
          "Return: 29.41%<br>Volatility: 0.17<br>SRE_Close: Weight=0.04<br>META_Close: Weight=0.96<br>REGN_Close: Weight=0.00<br>KR_Close: Weight=0.00",
          "Return: 32.69%<br>Volatility: 0.09<br>UNH_Close: Weight=0.36<br>RTX_Close: Weight=0.11<br>BABA_Close: Weight=0.22<br>REGN_Close: Weight=0.00<br>AEP_Close: Weight=0.31",
          "Return: 30.68%<br>Volatility: 0.11<br>CMCSA_Close: Weight=0.07<br>RDY_Close: Weight=0.00<br>MA_Close: Weight=0.74<br>VZ_Close: Weight=0.19",
          "Return: 35.49%<br>Volatility: 0.14<br>WMT_Close: Weight=0.69<br>BTI_Close: Weight=0.06<br>RMD_Close: Weight=0.25<br>GS_Close: Weight=0.00",
          "Return: 27.90%<br>Volatility: 0.14<br>AMZN_Close: Weight=0.62<br>CMCSA_Close: Weight=0.13<br>GE_Close: Weight=0.00<br>BMY_Close: Weight=0.25",
          "Return: 50.99%<br>Volatility: 0.14<br>MSFT_Close: Weight=0.27<br>MO_Close: Weight=0.00<br>K_Close: Weight=0.00<br>BABA_Close: Weight=0.22<br>ABBV_Close: Weight=0.51",
          "Return: 43.73%<br>Volatility: 0.18<br>NKE_Close: Weight=0.15<br>INTC_Close: Weight=0.56<br>NVDA_Close: Weight=0.30",
          "Return: 40.84%<br>Volatility: 0.12<br>JPM_Close: Weight=0.08<br>IBM_Close: Weight=0.00<br>CAT_Close: Weight=0.58<br>DUK_Close: Weight=0.31<br>COST_Close: Weight=0.04",
          "Return: 30.35%<br>Volatility: 0.11<br>PG_Close: Weight=0.07<br>MA_Close: Weight=0.81<br>DIS_Close: Weight=0.12<br>UA_Close: Weight=0.00",
          "Return: 29.28%<br>Volatility: 0.09<br>DUK_Close: Weight=0.25<br>T_Close: Weight=0.00<br>WMT_Close: Weight=0.31<br>HD_Close: Weight=0.44",
          "Return: 24.80%<br>Volatility: 0.09<br>KO_Close: Weight=0.51<br>MSFT_Close: Weight=0.49<br>GS_Close: Weight=0.00",
          "Return: 21.35%<br>Volatility: 0.09<br>KR_Close: Weight=0.00<br>ORCL_Close: Weight=0.12<br>MMM_Close: Weight=0.51<br>AEP_Close: Weight=0.37",
          "Return: 48.06%<br>Volatility: 0.14<br>NFLX_Close: Weight=0.00<br>MCD_Close: Weight=0.62<br>PYPL_Close: Weight=0.38<br>PM_Close: Weight=0.00<br>CPB_Close: Weight=0.00",
          "Return: 26.73%<br>Volatility: 0.12<br>ZBH_Close: Weight=0.00<br>ABT_Close: Weight=0.72<br>T_Close: Weight=0.00<br>SYK_Close: Weight=0.28<br>SO_Close: Weight=0.00",
          "Return: 39.47%<br>Volatility: 0.15<br>GE_Close: Weight=0.00<br>BAC_Close: Weight=0.27<br>ISRG_Close: Weight=0.73<br>BIIB_Close: Weight=0.00",
          "Return: 32.35%<br>Volatility: 0.10<br>HD_Close: Weight=0.59<br>META_Close: Weight=0.15<br>GILD_Close: Weight=0.02<br>GOOG_Close: Weight=0.07<br>AMZN_Close: Weight=0.16",
          "Return: 44.23%<br>Volatility: 0.11<br>BABA_Close: Weight=0.21<br>WMT_Close: Weight=0.31<br>MCD_Close: Weight=0.48",
          "Return: 12.15%<br>Volatility: 0.11<br>SO_Close: Weight=0.00<br>EXC_Close: Weight=0.75<br>NKE_Close: Weight=0.25",
          "Return: 21.88%<br>Volatility: 0.09<br>LMT_Close: Weight=0.66<br>JNJ_Close: Weight=0.34<br>AMD_Close: Weight=0.00",
          "Return: 21.75%<br>Volatility: 0.08<br>GM_Close: Weight=0.15<br>NEE_Close: Weight=0.63<br>TMO_Close: Weight=0.22",
          "Return: 54.15%<br>Volatility: 0.15<br>RDY_Close: Weight=0.00<br>BA_Close: Weight=0.71<br>META_Close: Weight=0.19<br>VRTX_Close: Weight=0.10<br>ZBH_Close: Weight=0.00",
          "Return: 24.15%<br>Volatility: 0.10<br>GILD_Close: Weight=0.00<br>ACN_Close: Weight=0.58<br>NFLX_Close: Weight=0.12<br>ORCL_Close: Weight=0.13<br>VZ_Close: Weight=0.17",
          "Return: 23.93%<br>Volatility: 0.08<br>JNJ_Close: Weight=0.21<br>INTC_Close: Weight=0.27<br>BIIB_Close: Weight=0.00<br>VZ_Close: Weight=0.06<br>NEE_Close: Weight=0.46",
          "Return: 32.24%<br>Volatility: 0.10<br>ORCL_Close: Weight=0.00<br>TMO_Close: Weight=0.10<br>MA_Close: Weight=0.35<br>BABA_Close: Weight=0.21<br>PEP_Close: Weight=0.35",
          "Return: 33.83%<br>Volatility: 0.13<br>ADBE_Close: Weight=0.36<br>K_Close: Weight=0.00<br>LLY_Close: Weight=0.00<br>SNAP_Close: Weight=0.00<br>ACN_Close: Weight=0.64",
          "Return: 24.83%<br>Volatility: 0.10<br>BSX_Close: Weight=0.00<br>HON_Close: Weight=0.97<br>K_Close: Weight=0.00<br>RTX_Close: Weight=0.03",
          "Return: 19.12%<br>Volatility: 0.16<br>AMGN_Close: Weight=0.00<br>GE_Close: Weight=0.00<br>SYY_Close: Weight=1.00",
          "Return: 5.84%<br>Volatility: 0.10<br>PM_Close: Weight=0.00<br>BIIB_Close: Weight=0.31<br>PG_Close: Weight=0.69<br>K_Close: Weight=0.00",
          "Return: 13.15%<br>Volatility: 0.07<br>AEP_Close: Weight=0.57<br>PG_Close: Weight=0.00<br>REGN_Close: Weight=0.00<br>ORCL_Close: Weight=0.16<br>PFE_Close: Weight=0.27",
          "Return: 35.99%<br>Volatility: 0.10<br>WMT_Close: Weight=0.31<br>ISRG_Close: Weight=0.24<br>MMM_Close: Weight=0.33<br>JNJ_Close: Weight=0.11<br>SNAP_Close: Weight=0.00",
          "Return: 23.75%<br>Volatility: 0.08<br>QCOM_Close: Weight=0.02<br>LMT_Close: Weight=0.32<br>SYY_Close: Weight=0.16<br>HON_Close: Weight=0.49<br>EW_Close: Weight=0.02",
          "Return: 36.72%<br>Volatility: 0.15<br>MSFT_Close: Weight=1.00<br>SO_Close: Weight=0.00<br>DHR_Close: Weight=0.00",
          "Return: 36.05%<br>Volatility: 0.10<br>ABBV_Close: Weight=0.38<br>GE_Close: Weight=0.00<br>ACN_Close: Weight=0.26<br>NEE_Close: Weight=0.36",
          "Return: 31.84%<br>Volatility: 0.09<br>HD_Close: Weight=0.41<br>ADBE_Close: Weight=0.17<br>LMT_Close: Weight=0.26<br>ACN_Close: Weight=0.16",
          "Return: 31.56%<br>Volatility: 0.09<br>HD_Close: Weight=0.47<br>GILD_Close: Weight=0.00<br>ETN_Close: Weight=0.00<br>V_Close: Weight=0.52",
          "Return: 21.28%<br>Volatility: 0.11<br>RMD_Close: Weight=0.10<br>SO_Close: Weight=0.00<br>PFE_Close: Weight=0.39<br>META_Close: Weight=0.51",
          "Return: 24.26%<br>Volatility: 0.09<br>BSX_Close: Weight=0.00<br>ACN_Close: Weight=0.38<br>VZ_Close: Weight=0.09<br>AMGN_Close: Weight=0.00<br>LMT_Close: Weight=0.53",
          "Return: 16.40%<br>Volatility: 0.14<br>CSCO_Close: Weight=0.60<br>MS_Close: Weight=0.40<br>REGN_Close: Weight=0.00",
          "Return: 35.95%<br>Volatility: 0.10<br>VZ_Close: Weight=0.17<br>MCD_Close: Weight=0.51<br>ISRG_Close: Weight=0.32",
          "Return: 30.63%<br>Volatility: 0.15<br>CSCO_Close: Weight=0.25<br>GS_Close: Weight=0.00<br>VRTX_Close: Weight=0.27<br>TMO_Close: Weight=0.46<br>BMY_Close: Weight=0.02",
          "Return: 25.99%<br>Volatility: 0.09<br>META_Close: Weight=0.17<br>HON_Close: Weight=0.51<br>SYY_Close: Weight=0.18<br>INTC_Close: Weight=0.14<br>ETN_Close: Weight=0.00",
          "Return: 11.81%<br>Volatility: 0.09<br>IBM_Close: Weight=0.00<br>PEP_Close: Weight=0.91<br>PM_Close: Weight=0.00<br>F_Close: Weight=0.09",
          "Return: 51.00%<br>Volatility: 0.14<br>ABBV_Close: Weight=0.59<br>ISRG_Close: Weight=0.41<br>AMGN_Close: Weight=0.00",
          "Return: 55.30%<br>Volatility: 0.17<br>PYPL_Close: Weight=0.62<br>BAC_Close: Weight=0.21<br>VRTX_Close: Weight=0.18<br>ETN_Close: Weight=0.00<br>GOOG_Close: Weight=0.00",
          "Return: 33.99%<br>Volatility: 0.11<br>GM_Close: Weight=0.04<br>ISRG_Close: Weight=0.41<br>MS_Close: Weight=0.09<br>MMM_Close: Weight=0.47",
          "Return: 20.54%<br>Volatility: 0.07<br>ETN_Close: Weight=0.00<br>UA_Close: Weight=0.00<br>HON_Close: Weight=0.62<br>KO_Close: Weight=0.38",
          "Return: 10.73%<br>Volatility: 0.11<br>ZBH_Close: Weight=0.10<br>EXC_Close: Weight=0.76<br>IBM_Close: Weight=0.00<br>GILD_Close: Weight=0.14",
          "Return: 43.18%<br>Volatility: 0.13<br>ABBV_Close: Weight=0.64<br>NKE_Close: Weight=0.04<br>CRM_Close: Weight=0.32",
          "Return: 45.22%<br>Volatility: 0.12<br>AMZN_Close: Weight=0.04<br>BAC_Close: Weight=0.10<br>INTC_Close: Weight=0.12<br>ABBV_Close: Weight=0.44<br>ISRG_Close: Weight=0.30",
          "Return: 24.45%<br>Volatility: 0.08<br>BTI_Close: Weight=0.03<br>UNH_Close: Weight=0.38<br>KO_Close: Weight=0.29<br>NEE_Close: Weight=0.30",
          "Return: 45.46%<br>Volatility: 0.11<br>NVDA_Close: Weight=0.10<br>AAPL_Close: Weight=0.06<br>CRM_Close: Weight=0.03<br>BA_Close: Weight=0.50<br>JNJ_Close: Weight=0.31",
          "Return: 34.57%<br>Volatility: 0.13<br>EMR_Close: Weight=0.37<br>WMT_Close: Weight=0.63<br>XOM_Close: Weight=0.00",
          "Return: 32.63%<br>Volatility: 0.11<br>MA_Close: Weight=0.58<br>ABT_Close: Weight=0.34<br>GM_Close: Weight=0.08<br>RDY_Close: Weight=0.00",
          "Return: 9.24%<br>Volatility: 0.16<br>DIS_Close: Weight=0.00<br>COST_Close: Weight=0.74<br>CPB_Close: Weight=0.00<br>ZBH_Close: Weight=0.26",
          "Return: 27.74%<br>Volatility: 0.13<br>INTC_Close: Weight=0.62<br>JPM_Close: Weight=0.38<br>CPB_Close: Weight=0.00<br>GS_Close: Weight=0.00",
          "Return: 38.94%<br>Volatility: 0.17<br>NVDA_Close: Weight=0.32<br>LLY_Close: Weight=0.13<br>SAP_Close: Weight=0.55",
          "Return: 46.07%<br>Volatility: 0.14<br>AAPL_Close: Weight=0.28<br>LLY_Close: Weight=0.00<br>ABBV_Close: Weight=0.72<br>T_Close: Weight=0.00",
          "Return: 49.60%<br>Volatility: 0.13<br>TXN_Close: Weight=0.20<br>NFLX_Close: Weight=0.02<br>BA_Close: Weight=0.59<br>INTC_Close: Weight=0.19<br>SRE_Close: Weight=0.00",
          "Return: 30.07%<br>Volatility: 0.09<br>EMR_Close: Weight=0.08<br>UNH_Close: Weight=0.40<br>ABT_Close: Weight=0.20<br>ACN_Close: Weight=0.32<br>PG_Close: Weight=0.00",
          "Return: 29.54%<br>Volatility: 0.13<br>GS_Close: Weight=0.00<br>K_Close: Weight=0.00<br>CRM_Close: Weight=0.48<br>EMR_Close: Weight=0.35<br>VRTX_Close: Weight=0.16",
          "Return: 46.20%<br>Volatility: 0.13<br>BMY_Close: Weight=0.05<br>EXC_Close: Weight=0.23<br>BA_Close: Weight=0.72<br>PM_Close: Weight=0.00",
          "Return: 33.66%<br>Volatility: 0.14<br>TMO_Close: Weight=0.41<br>GOOG_Close: Weight=0.11<br>AMZN_Close: Weight=0.33<br>VRTX_Close: Weight=0.15",
          "Return: 16.11%<br>Volatility: 0.16<br>MRK_Close: Weight=0.00<br>CSCO_Close: Weight=1.00<br>REGN_Close: Weight=0.00",
          "Return: 43.33%<br>Volatility: 0.12<br>V_Close: Weight=0.20<br>UNH_Close: Weight=0.49<br>PYPL_Close: Weight=0.30<br>MS_Close: Weight=0.00",
          "Return: 33.78%<br>Volatility: 0.12<br>EW_Close: Weight=0.03<br>INTC_Close: Weight=0.34<br>UNH_Close: Weight=0.63",
          "Return: 35.31%<br>Volatility: 0.17<br>CMCSA_Close: Weight=0.18<br>ADBE_Close: Weight=0.71<br>NKE_Close: Weight=0.11",
          "Return: 31.53%<br>Volatility: 0.09<br>GILD_Close: Weight=0.03<br>NEE_Close: Weight=0.55<br>RMD_Close: Weight=0.02<br>DE_Close: Weight=0.40",
          "Return: 31.30%<br>Volatility: 0.09<br>CMCSA_Close: Weight=0.03<br>INTC_Close: Weight=0.16<br>SO_Close: Weight=0.00<br>HON_Close: Weight=0.51<br>WMT_Close: Weight=0.30",
          "Return: 16.31%<br>Volatility: 0.11<br>RTX_Close: Weight=0.71<br>GM_Close: Weight=0.29<br>IBM_Close: Weight=0.00",
          "Return: 31.74%<br>Volatility: 0.12<br>PFE_Close: Weight=0.14<br>WMT_Close: Weight=0.59<br>GE_Close: Weight=0.00<br>RMD_Close: Weight=0.21<br>GM_Close: Weight=0.07",
          "Return: 64.11%<br>Volatility: 0.20<br>CAT_Close: Weight=1.00<br>F_Close: Weight=0.00<br>T_Close: Weight=0.00",
          "Return: 43.06%<br>Volatility: 0.18<br>COST_Close: Weight=0.00<br>WMT_Close: Weight=1.00<br>UA_Close: Weight=0.00",
          "Return: 42.24%<br>Volatility: 0.18<br>AMZN_Close: Weight=0.47<br>ZBH_Close: Weight=0.00<br>ADBE_Close: Weight=0.53",
          "Return: 26.65%<br>Volatility: 0.12<br>ACN_Close: Weight=0.70<br>AAPL_Close: Weight=0.30<br>PM_Close: Weight=0.00<br>REGN_Close: Weight=0.00",
          "Return: 21.07%<br>Volatility: 0.12<br>TSLA_Close: Weight=0.09<br>SYK_Close: Weight=0.44<br>TMO_Close: Weight=0.37<br>REGN_Close: Weight=0.00<br>BTI_Close: Weight=0.09",
          "Return: 55.10%<br>Volatility: 0.16<br>BA_Close: Weight=0.91<br>MS_Close: Weight=0.01<br>IBM_Close: Weight=0.00<br>DHR_Close: Weight=0.08",
          "Return: 29.59%<br>Volatility: 0.10<br>META_Close: Weight=0.29<br>PG_Close: Weight=0.13<br>UNH_Close: Weight=0.58",
          "Return: 16.19%<br>Volatility: 0.10<br>CPB_Close: Weight=0.00<br>SYK_Close: Weight=0.53<br>COST_Close: Weight=0.14<br>PFE_Close: Weight=0.32",
          "Return: 47.17%<br>Volatility: 0.13<br>INTC_Close: Weight=0.18<br>GIS_Close: Weight=0.01<br>ABBV_Close: Weight=0.48<br>ISRG_Close: Weight=0.32",
          "Return: 22.60%<br>Volatility: 0.23<br>SO_Close: Weight=0.00<br>DIS_Close: Weight=0.00<br>MO_Close: Weight=0.00<br>EW_Close: Weight=1.00",
          "Return: 33.79%<br>Volatility: 0.16<br>EW_Close: Weight=0.15<br>VRTX_Close: Weight=0.24<br>CRM_Close: Weight=0.61<br>UA_Close: Weight=0.00<br>BIIB_Close: Weight=0.00",
          "Return: 35.86%<br>Volatility: 0.09<br>MMM_Close: Weight=0.24<br>MA_Close: Weight=0.02<br>NEE_Close: Weight=0.26<br>MCD_Close: Weight=0.32<br>PYPL_Close: Weight=0.16",
          "Return: 29.47%<br>Volatility: 0.16<br>AMZN_Close: Weight=0.70<br>GILD_Close: Weight=0.04<br>DHR_Close: Weight=0.26",
          "Return: 33.03%<br>Volatility: 0.10<br>MCD_Close: Weight=0.47<br>V_Close: Weight=0.43<br>EMR_Close: Weight=0.10<br>WFC_Close: Weight=0.00",
          "Return: 11.35%<br>Volatility: 0.12<br>BMY_Close: Weight=0.47<br>VZ_Close: Weight=0.53<br>MO_Close: Weight=0.00",
          "Return: 31.27%<br>Volatility: 0.10<br>DUK_Close: Weight=0.12<br>WFC_Close: Weight=0.01<br>T_Close: Weight=0.02<br>MCD_Close: Weight=0.62<br>META_Close: Weight=0.24",
          "Return: 22.73%<br>Volatility: 0.09<br>CSCO_Close: Weight=0.07<br>QCOM_Close: Weight=0.06<br>DHR_Close: Weight=0.02<br>CVX_Close: Weight=0.31<br>ABT_Close: Weight=0.54",
          "Return: 18.58%<br>Volatility: 0.13<br>RTX_Close: Weight=0.72<br>GILD_Close: Weight=0.00<br>EW_Close: Weight=0.28",
          "Return: 50.96%<br>Volatility: 0.17<br>ADBE_Close: Weight=0.21<br>PYPL_Close: Weight=0.57<br>BAC_Close: Weight=0.23<br>QCOM_Close: Weight=0.00",
          "Return: 27.58%<br>Volatility: 0.12<br>NFLX_Close: Weight=0.17<br>BMY_Close: Weight=0.07<br>GM_Close: Weight=0.06<br>MMM_Close: Weight=0.69",
          "Return: 32.20%<br>Volatility: 0.14<br>MS_Close: Weight=0.21<br>LLY_Close: Weight=0.05<br>BSX_Close: Weight=0.00<br>ADBE_Close: Weight=0.48<br>AAPL_Close: Weight=0.27",
          "Return: 16.19%<br>Volatility: 0.13<br>MO_Close: Weight=0.00<br>RTX_Close: Weight=0.89<br>BIIB_Close: Weight=0.11<br>SO_Close: Weight=0.00",
          "Return: 28.65%<br>Volatility: 0.12<br>CMCSA_Close: Weight=0.10<br>NVDA_Close: Weight=0.22<br>DUK_Close: Weight=0.31<br>SAP_Close: Weight=0.37",
          "Return: 14.45%<br>Volatility: 0.11<br>XOM_Close: Weight=0.00<br>JPM_Close: Weight=0.66<br>PG_Close: Weight=0.34<br>UA_Close: Weight=0.00",
          "Return: 19.94%<br>Volatility: 0.08<br>ACN_Close: Weight=0.45<br>QCOM_Close: Weight=0.05<br>KO_Close: Weight=0.49",
          "Return: 25.32%<br>Volatility: 0.09<br>EXC_Close: Weight=0.15<br>JNJ_Close: Weight=0.26<br>MS_Close: Weight=0.08<br>MSFT_Close: Weight=0.49<br>DIS_Close: Weight=0.03",
          "Return: 37.50%<br>Volatility: 0.14<br>SNAP_Close: Weight=0.00<br>MCD_Close: Weight=1.00<br>GS_Close: Weight=0.00",
          "Return: 24.84%<br>Volatility: 0.14<br>EW_Close: Weight=0.22<br>CRM_Close: Weight=0.78<br>GILD_Close: Weight=0.00",
          "Return: 15.09%<br>Volatility: 0.10<br>BMY_Close: Weight=0.13<br>EXC_Close: Weight=0.48<br>MS_Close: Weight=0.28<br>TSLA_Close: Weight=0.11",
          "Return: 15.00%<br>Volatility: 0.08<br>PFE_Close: Weight=0.19<br>PEP_Close: Weight=0.45<br>SYK_Close: Weight=0.27<br>QCOM_Close: Weight=0.09",
          "Return: 2.94%<br>Volatility: 0.20<br>MO_Close: Weight=0.00<br>K_Close: Weight=0.00<br>GS_Close: Weight=1.00<br>REGN_Close: Weight=0.00",
          "Return: 61.60%<br>Volatility: 0.14<br>CAT_Close: Weight=0.45<br>BA_Close: Weight=0.55<br>WFC_Close: Weight=0.00<br>K_Close: Weight=0.00",
          "Return: 24.43%<br>Volatility: 0.09<br>HON_Close: Weight=0.73<br>AAPL_Close: Weight=0.15<br>JPM_Close: Weight=0.12",
          "Return: 34.12%<br>Volatility: 0.12<br>AMD_Close: Weight=0.00<br>WMT_Close: Weight=0.51<br>CMCSA_Close: Weight=0.06<br>GOOG_Close: Weight=0.40<br>DHR_Close: Weight=0.02",
          "Return: 26.22%<br>Volatility: 0.11<br>NFLX_Close: Weight=0.18<br>UA_Close: Weight=0.00<br>NEE_Close: Weight=0.82",
          "Return: 11.21%<br>Volatility: 0.20<br>CPB_Close: Weight=0.00<br>MRK_Close: Weight=0.00<br>COST_Close: Weight=1.00<br>SO_Close: Weight=0.00",
          "Return: 15.60%<br>Volatility: 0.08<br>RTX_Close: Weight=0.24<br>PEP_Close: Weight=0.50<br>BTI_Close: Weight=0.01<br>AMD_Close: Weight=0.00<br>EMR_Close: Weight=0.25",
          "Return: 25.36%<br>Volatility: 0.11<br>SAP_Close: Weight=0.37<br>MMM_Close: Weight=0.61<br>WFC_Close: Weight=0.02",
          "Return: 21.99%<br>Volatility: 0.10<br>ACN_Close: Weight=0.63<br>AMGN_Close: Weight=0.00<br>PEP_Close: Weight=0.37<br>UA_Close: Weight=0.00",
          "Return: 19.02%<br>Volatility: 0.13<br>SYY_Close: Weight=0.69<br>DIS_Close: Weight=0.00<br>QCOM_Close: Weight=0.31",
          "Return: 36.11%<br>Volatility: 0.14<br>MRK_Close: Weight=0.00<br>MO_Close: Weight=0.00<br>IBM_Close: Weight=0.00<br>EW_Close: Weight=0.09<br>MA_Close: Weight=0.91",
          "Return: 28.39%<br>Volatility: 0.09<br>CSCO_Close: Weight=0.00<br>SYY_Close: Weight=0.25<br>KR_Close: Weight=0.00<br>INTC_Close: Weight=0.21<br>V_Close: Weight=0.54",
          "Return: 47.76%<br>Volatility: 0.13<br>MDT_Close: Weight=0.00<br>ACN_Close: Weight=0.44<br>WFC_Close: Weight=0.00<br>CAT_Close: Weight=0.56",
          "Return: 23.25%<br>Volatility: 0.14<br>GOOGL_Close: Weight=0.89<br>LLY_Close: Weight=0.04<br>BIIB_Close: Weight=0.01<br>SRE_Close: Weight=0.05<br>GILD_Close: Weight=0.01",
          "Return: 14.74%<br>Volatility: 0.09<br>AMGN_Close: Weight=0.00<br>GS_Close: Weight=0.00<br>CMCSA_Close: Weight=0.12<br>PFE_Close: Weight=0.17<br>JNJ_Close: Weight=0.71",
          "Return: 21.77%<br>Volatility: 0.11<br>AMGN_Close: Weight=0.00<br>RTX_Close: Weight=0.44<br>CRM_Close: Weight=0.56<br>ZBH_Close: Weight=0.00",
          "Return: 22.64%<br>Volatility: 0.13<br>GILD_Close: Weight=0.00<br>CMCSA_Close: Weight=0.18<br>CRM_Close: Weight=0.82",
          "Return: 49.55%<br>Volatility: 0.13<br>UNH_Close: Weight=0.50<br>CAT_Close: Weight=0.50<br>BSX_Close: Weight=0.00",
          "Return: 27.72%<br>Volatility: 0.10<br>V_Close: Weight=0.45<br>MO_Close: Weight=0.00<br>HON_Close: Weight=0.55",
          "Return: 32.89%<br>Volatility: 0.12<br>NFLX_Close: Weight=0.19<br>HD_Close: Weight=0.78<br>ETN_Close: Weight=0.03",
          "Return: 24.57%<br>Volatility: 0.12<br>XOM_Close: Weight=0.17<br>GIS_Close: Weight=0.00<br>SRE_Close: Weight=0.00<br>ABT_Close: Weight=0.83",
          "Return: 35.10%<br>Volatility: 0.10<br>AAPL_Close: Weight=0.11<br>ISRG_Close: Weight=0.35<br>DIS_Close: Weight=0.04<br>HD_Close: Weight=0.50",
          "Return: 46.26%<br>Volatility: 0.20<br>NVDA_Close: Weight=0.42<br>GILD_Close: Weight=0.00<br>SYK_Close: Weight=0.58",
          "Return: 17.59%<br>Volatility: 0.08<br>KO_Close: Weight=0.61<br>GOOGL_Close: Weight=0.35<br>ORCL_Close: Weight=0.05<br>MDT_Close: Weight=0.00",
          "Return: 31.90%<br>Volatility: 0.11<br>WFC_Close: Weight=0.01<br>ISRG_Close: Weight=0.34<br>GOOGL_Close: Weight=0.15<br>LMT_Close: Weight=0.50<br>BIIB_Close: Weight=0.00",
          "Return: 9.50%<br>Volatility: 0.10<br>T_Close: Weight=0.00<br>PFE_Close: Weight=0.81<br>NKE_Close: Weight=0.19",
          "Return: 37.37%<br>Volatility: 0.13<br>MA_Close: Weight=0.62<br>SO_Close: Weight=0.00<br>TXN_Close: Weight=0.38<br>ZBH_Close: Weight=0.00<br>IBM_Close: Weight=0.00",
          "Return: 30.98%<br>Volatility: 0.13<br>V_Close: Weight=1.00<br>MO_Close: Weight=0.00<br>GE_Close: Weight=0.00",
          "Return: 16.54%<br>Volatility: 0.10<br>ZBH_Close: Weight=0.00<br>BIIB_Close: Weight=0.00<br>MS_Close: Weight=0.21<br>NKE_Close: Weight=0.06<br>JNJ_Close: Weight=0.73",
          "Return: 15.80%<br>Volatility: 0.19<br>WFC_Close: Weight=0.53<br>TSLA_Close: Weight=0.47<br>CPB_Close: Weight=0.00",
          "Return: 23.86%<br>Volatility: 0.12<br>GOOG_Close: Weight=0.65<br>NKE_Close: Weight=0.13<br>RMD_Close: Weight=0.22<br>MO_Close: Weight=0.00",
          "Return: 36.37%<br>Volatility: 0.13<br>INTC_Close: Weight=0.25<br>MA_Close: Weight=0.67<br>AMZN_Close: Weight=0.08",
          "Return: 34.43%<br>Volatility: 0.11<br>DUK_Close: Weight=0.16<br>LLY_Close: Weight=0.00<br>WFC_Close: Weight=0.01<br>BABA_Close: Weight=0.31<br>MMM_Close: Weight=0.52",
          "Return: 24.48%<br>Volatility: 0.15<br>BSX_Close: Weight=0.00<br>ZBH_Close: Weight=0.00<br>CRM_Close: Weight=0.94<br>BIIB_Close: Weight=0.06",
          "Return: 38.76%<br>Volatility: 0.10<br>MA_Close: Weight=0.36<br>KR_Close: Weight=0.00<br>UNH_Close: Weight=0.36<br>DE_Close: Weight=0.29",
          "Return: 20.14%<br>Volatility: 0.08<br>KO_Close: Weight=0.51<br>ACN_Close: Weight=0.49<br>XOM_Close: Weight=0.00<br>GE_Close: Weight=0.00",
          "Return: 52.73%<br>Volatility: 0.14<br>VRTX_Close: Weight=0.14<br>SAP_Close: Weight=0.26<br>MDT_Close: Weight=0.00<br>CAT_Close: Weight=0.60",
          "Return: 41.03%<br>Volatility: 0.12<br>BABA_Close: Weight=0.25<br>ACN_Close: Weight=0.33<br>WMT_Close: Weight=0.36<br>BAC_Close: Weight=0.06<br>GS_Close: Weight=0.00",
          "Return: 31.42%<br>Volatility: 0.12<br>JPM_Close: Weight=0.23<br>UNH_Close: Weight=0.77<br>BMY_Close: Weight=0.00",
          "Return: 11.91%<br>Volatility: 0.08<br>RDY_Close: Weight=0.00<br>CVX_Close: Weight=0.44<br>DHR_Close: Weight=0.29<br>PFE_Close: Weight=0.27",
          "Return: 33.99%<br>Volatility: 0.12<br>NVDA_Close: Weight=0.19<br>NEE_Close: Weight=0.67<br>IBM_Close: Weight=0.00<br>SYK_Close: Weight=0.15",
          "Return: 26.76%<br>Volatility: 0.11<br>SYY_Close: Weight=0.27<br>KR_Close: Weight=0.00<br>ACN_Close: Weight=0.59<br>NFLX_Close: Weight=0.15",
          "Return: 48.72%<br>Volatility: 0.17<br>XOM_Close: Weight=0.22<br>GS_Close: Weight=0.00<br>META_Close: Weight=0.08<br>PYPL_Close: Weight=0.70",
          "Return: 31.87%<br>Volatility: 0.10<br>KO_Close: Weight=0.51<br>PYPL_Close: Weight=0.34<br>BAC_Close: Weight=0.15",
          "Return: 26.10%<br>Volatility: 0.36<br>KR_Close: Weight=0.00<br>UA_Close: Weight=0.00<br>TSLA_Close: Weight=1.00",
          "Return: 16.32%<br>Volatility: 0.11<br>RTX_Close: Weight=0.56<br>GM_Close: Weight=0.20<br>CSCO_Close: Weight=0.25",
          "Return: 33.47%<br>Volatility: 0.09<br>BSX_Close: Weight=0.00<br>LMT_Close: Weight=0.30<br>AMZN_Close: Weight=0.13<br>V_Close: Weight=0.29<br>WMT_Close: Weight=0.29",
          "Return: 26.95%<br>Volatility: 0.10<br>AEP_Close: Weight=0.48<br>GS_Close: Weight=0.07<br>WMT_Close: Weight=0.45",
          "Return: 17.56%<br>Volatility: 0.11<br>T_Close: Weight=0.00<br>XOM_Close: Weight=0.15<br>TMO_Close: Weight=0.58<br>MS_Close: Weight=0.27<br>ZBH_Close: Weight=0.00",
          "Return: 37.81%<br>Volatility: 0.15<br>EW_Close: Weight=0.08<br>RTX_Close: Weight=0.30<br>INTC_Close: Weight=0.40<br>NVDA_Close: Weight=0.22",
          "Return: 30.80%<br>Volatility: 0.09<br>MO_Close: Weight=0.00<br>GILD_Close: Weight=0.00<br>MCD_Close: Weight=0.46<br>SRE_Close: Weight=0.00<br>HON_Close: Weight=0.54",
          "Return: 47.05%<br>Volatility: 0.13<br>CRM_Close: Weight=0.25<br>CAT_Close: Weight=0.44<br>COST_Close: Weight=0.04<br>DE_Close: Weight=0.27<br>IBM_Close: Weight=0.00",
          "Return: 15.56%<br>Volatility: 0.11<br>SO_Close: Weight=0.00<br>COST_Close: Weight=0.18<br>RMD_Close: Weight=0.38<br>GM_Close: Weight=0.26<br>VZ_Close: Weight=0.18",
          "Return: 33.37%<br>Volatility: 0.12<br>MCD_Close: Weight=0.82<br>SRE_Close: Weight=0.00<br>GM_Close: Weight=0.18<br>BSX_Close: Weight=0.00",
          "Return: 13.76%<br>Volatility: 0.16<br>REGN_Close: Weight=0.00<br>ETN_Close: Weight=1.00<br>BSX_Close: Weight=0.00",
          "Return: 39.61%<br>Volatility: 0.13<br>F_Close: Weight=0.00<br>MMM_Close: Weight=0.65<br>BABA_Close: Weight=0.35<br>AMD_Close: Weight=0.00<br>MDT_Close: Weight=0.00",
          "Return: 52.79%<br>Volatility: 0.12<br>BA_Close: Weight=0.45<br>EXC_Close: Weight=0.18<br>CAT_Close: Weight=0.37<br>IBM_Close: Weight=0.00",
          "Return: 21.21%<br>Volatility: 0.08<br>SYY_Close: Weight=0.16<br>HON_Close: Weight=0.68<br>DUK_Close: Weight=0.11<br>CMCSA_Close: Weight=0.04<br>NKE_Close: Weight=0.02",
          "Return: 24.66%<br>Volatility: 0.08<br>CRM_Close: Weight=0.27<br>MDT_Close: Weight=0.00<br>DUK_Close: Weight=0.22<br>HD_Close: Weight=0.50",
          "Return: 29.92%<br>Volatility: 0.12<br>BMY_Close: Weight=0.12<br>CPB_Close: Weight=0.00<br>HD_Close: Weight=0.88<br>MRK_Close: Weight=0.00",
          "Return: 34.14%<br>Volatility: 0.11<br>DHR_Close: Weight=0.00<br>BABA_Close: Weight=0.25<br>GIS_Close: Weight=0.00<br>RTX_Close: Weight=0.03<br>HON_Close: Weight=0.72",
          "Return: 23.91%<br>Volatility: 0.09<br>AEP_Close: Weight=0.47<br>AMD_Close: Weight=0.00<br>PM_Close: Weight=0.00<br>INTC_Close: Weight=0.27<br>META_Close: Weight=0.26",
          "Return: 23.92%<br>Volatility: 0.11<br>VZ_Close: Weight=0.16<br>NKE_Close: Weight=0.06<br>ACN_Close: Weight=0.79",
          "Return: 29.27%<br>Volatility: 0.10<br>SO_Close: Weight=0.00<br>EXC_Close: Weight=0.14<br>MA_Close: Weight=0.45<br>EMR_Close: Weight=0.12<br>ABT_Close: Weight=0.28",
          "Return: 37.18%<br>Volatility: 0.13<br>MA_Close: Weight=0.59<br>UA_Close: Weight=0.00<br>AMD_Close: Weight=0.00<br>RMD_Close: Weight=0.00<br>MSFT_Close: Weight=0.41",
          "Return: 3.88%<br>Volatility: 0.10<br>MRK_Close: Weight=0.00<br>AMGN_Close: Weight=0.00<br>XOM_Close: Weight=1.00",
          "Return: 19.17%<br>Volatility: 0.13<br>SYK_Close: Weight=0.83<br>WFC_Close: Weight=0.17<br>REGN_Close: Weight=0.00",
          "Return: 49.98%<br>Volatility: 0.14<br>MCD_Close: Weight=0.49<br>SRE_Close: Weight=0.00<br>GE_Close: Weight=0.00<br>CAT_Close: Weight=0.49<br>CSCO_Close: Weight=0.02",
          "Return: 22.70%<br>Volatility: 0.09<br>SAP_Close: Weight=0.35<br>GE_Close: Weight=0.00<br>NEE_Close: Weight=0.61<br>TSLA_Close: Weight=0.02<br>DIS_Close: Weight=0.02",
          "Return: 57.11%<br>Volatility: 0.17<br>T_Close: Weight=0.00<br>K_Close: Weight=0.00<br>EW_Close: Weight=0.07<br>BA_Close: Weight=0.93",
          "Return: 24.67%<br>Volatility: 0.11<br>MMM_Close: Weight=0.80<br>F_Close: Weight=0.00<br>AMGN_Close: Weight=0.00<br>EXC_Close: Weight=0.20<br>LLY_Close: Weight=0.00",
          "Return: 38.36%<br>Volatility: 0.14<br>RDY_Close: Weight=0.00<br>DE_Close: Weight=0.61<br>DIS_Close: Weight=0.00<br>GOOG_Close: Weight=0.39<br>AMD_Close: Weight=0.00",
          "Return: 25.07%<br>Volatility: 0.10<br>HON_Close: Weight=1.00<br>SNAP_Close: Weight=0.00<br>LLY_Close: Weight=0.00<br>CPB_Close: Weight=0.00",
          "Return: 30.13%<br>Volatility: 0.10<br>UNH_Close: Weight=0.44<br>AAPL_Close: Weight=0.15<br>DIS_Close: Weight=0.00<br>MMM_Close: Weight=0.38<br>COST_Close: Weight=0.02",
          "Return: 46.93%<br>Volatility: 0.15<br>SRE_Close: Weight=0.00<br>TMO_Close: Weight=0.22<br>ABBV_Close: Weight=0.78",
          "Return: 12.39%<br>Volatility: 0.08<br>F_Close: Weight=0.06<br>KO_Close: Weight=0.87<br>BIIB_Close: Weight=0.08",
          "Return: 28.34%<br>Volatility: 0.16<br>LLY_Close: Weight=0.09<br>KR_Close: Weight=0.00<br>META_Close: Weight=0.91",
          "Return: 14.67%<br>Volatility: 0.09<br>T_Close: Weight=0.00<br>AEP_Close: Weight=0.76<br>ORCL_Close: Weight=0.24",
          "Return: 32.00%<br>Volatility: 0.11<br>NVDA_Close: Weight=0.12<br>V_Close: Weight=0.54<br>JNJ_Close: Weight=0.34",
          "Return: 20.61%<br>Volatility: 0.14<br>AAPL_Close: Weight=0.70<br>TSLA_Close: Weight=0.08<br>LLY_Close: Weight=0.22<br>MRK_Close: Weight=0.00",
          "Return: 26.69%<br>Volatility: 0.18<br>NFLX_Close: Weight=0.57<br>BIIB_Close: Weight=0.05<br>COST_Close: Weight=0.37",
          "Return: 45.27%<br>Volatility: 0.12<br>EXC_Close: Weight=0.18<br>RMD_Close: Weight=0.10<br>BA_Close: Weight=0.63<br>F_Close: Weight=0.00<br>NFLX_Close: Weight=0.08",
          "Return: 26.60%<br>Volatility: 0.10<br>GIS_Close: Weight=0.00<br>ABT_Close: Weight=0.44<br>AEP_Close: Weight=0.44<br>MRK_Close: Weight=0.00<br>VRTX_Close: Weight=0.12",
          "Return: 37.74%<br>Volatility: 0.11<br>JPM_Close: Weight=0.07<br>MCD_Close: Weight=0.55<br>DE_Close: Weight=0.34<br>T_Close: Weight=0.00<br>GM_Close: Weight=0.05",
          "Return: 27.84%<br>Volatility: 0.11<br>AAPL_Close: Weight=0.15<br>MRK_Close: Weight=0.00<br>ABT_Close: Weight=0.55<br>GOOG_Close: Weight=0.30",
          "Return: 15.20%<br>Volatility: 0.11<br>RTX_Close: Weight=0.61<br>T_Close: Weight=0.00<br>GS_Close: Weight=0.00<br>ORCL_Close: Weight=0.25<br>COST_Close: Weight=0.14",
          "Return: 18.28%<br>Volatility: 0.08<br>AAPL_Close: Weight=0.17<br>KO_Close: Weight=0.48<br>EW_Close: Weight=0.10<br>SAP_Close: Weight=0.23<br>ORCL_Close: Weight=0.02",
          "Return: 32.66%<br>Volatility: 0.12<br>NFLX_Close: Weight=0.15<br>JPM_Close: Weight=0.18<br>REGN_Close: Weight=0.00<br>UNH_Close: Weight=0.67",
          "Return: 18.38%<br>Volatility: 0.07<br>PFE_Close: Weight=0.19<br>NKE_Close: Weight=0.06<br>CVX_Close: Weight=0.21<br>NEE_Close: Weight=0.54",
          "Return: 15.63%<br>Volatility: 0.08<br>MS_Close: Weight=0.29<br>CPB_Close: Weight=0.00<br>ZBH_Close: Weight=0.00<br>AEP_Close: Weight=0.71<br>K_Close: Weight=0.00",
          "Return: 29.60%<br>Volatility: 0.12<br>CPB_Close: Weight=0.00<br>INTC_Close: Weight=0.38<br>MMM_Close: Weight=0.62",
          "Return: 39.28%<br>Volatility: 0.11<br>BA_Close: Weight=0.47<br>DUK_Close: Weight=0.11<br>HON_Close: Weight=0.41<br>AMGN_Close: Weight=0.00",
          "Return: 33.00%<br>Volatility: 0.14<br>ADBE_Close: Weight=0.51<br>CPB_Close: Weight=0.00<br>JPM_Close: Weight=0.49<br>F_Close: Weight=0.00",
          "Return: 31.65%<br>Volatility: 0.11<br>SNAP_Close: Weight=0.00<br>UNH_Close: Weight=0.54<br>MMM_Close: Weight=0.46",
          "Return: 19.46%<br>Volatility: 0.12<br>CSCO_Close: Weight=0.27<br>WFC_Close: Weight=0.00<br>TSLA_Close: Weight=0.14<br>GM_Close: Weight=0.06<br>JPM_Close: Weight=0.53",
          "Return: 27.84%<br>Volatility: 0.08<br>SNAP_Close: Weight=0.00<br>SO_Close: Weight=0.00<br>NEE_Close: Weight=0.52<br>HD_Close: Weight=0.48<br>PM_Close: Weight=0.00",
          "Return: 30.58%<br>Volatility: 0.17<br>META_Close: Weight=1.00<br>DIS_Close: Weight=0.00<br>MRK_Close: Weight=0.00",
          "Return: 28.88%<br>Volatility: 0.13<br>AMZN_Close: Weight=0.41<br>SYY_Close: Weight=0.43<br>LLY_Close: Weight=0.04<br>NFLX_Close: Weight=0.12",
          "Return: 39.42%<br>Volatility: 0.08<br>MMM_Close: Weight=0.17<br>BMY_Close: Weight=0.00<br>BA_Close: Weight=0.30<br>NEE_Close: Weight=0.22<br>MCD_Close: Weight=0.30",
          "Return: 34.29%<br>Volatility: 0.10<br>AAPL_Close: Weight=0.00<br>HON_Close: Weight=0.43<br>DE_Close: Weight=0.29<br>GE_Close: Weight=0.00<br>TXN_Close: Weight=0.28",
          "Return: 30.94%<br>Volatility: 0.17<br>UA_Close: Weight=0.00<br>BIIB_Close: Weight=0.07<br>AMGN_Close: Weight=0.00<br>AMD_Close: Weight=0.00<br>INTC_Close: Weight=0.93",
          "Return: 35.90%<br>Volatility: 0.11<br>SO_Close: Weight=0.00<br>RMD_Close: Weight=0.00<br>UNH_Close: Weight=0.56<br>PM_Close: Weight=0.00<br>TXN_Close: Weight=0.44",
          "Return: 28.34%<br>Volatility: 0.16<br>REGN_Close: Weight=0.00<br>LLY_Close: Weight=0.09<br>META_Close: Weight=0.91<br>CPB_Close: Weight=0.00",
          "Return: 12.15%<br>Volatility: 0.12<br>PG_Close: Weight=0.33<br>MDT_Close: Weight=0.00<br>CSCO_Close: Weight=0.67<br>PM_Close: Weight=0.00",
          "Return: 26.46%<br>Volatility: 0.13<br>META_Close: Weight=0.60<br>MRK_Close: Weight=0.00<br>EMR_Close: Weight=0.40<br>KR_Close: Weight=0.00<br>SNAP_Close: Weight=0.00",
          "Return: 15.46%<br>Volatility: 0.11<br>REGN_Close: Weight=0.00<br>PFE_Close: Weight=0.42<br>JPM_Close: Weight=0.58",
          "Return: 15.44%<br>Volatility: 0.08<br>TMO_Close: Weight=0.28<br>KO_Close: Weight=0.65<br>NKE_Close: Weight=0.07",
          "Return: 61.48%<br>Volatility: 0.29<br>NVDA_Close: Weight=0.67<br>MO_Close: Weight=0.00<br>KR_Close: Weight=0.00<br>EW_Close: Weight=0.33",
          "Return: 16.25%<br>Volatility: 0.08<br>EXC_Close: Weight=0.20<br>AAPL_Close: Weight=0.28<br>PEP_Close: Weight=0.39<br>ETN_Close: Weight=0.13<br>GIS_Close: Weight=0.00",
          "Return: 35.91%<br>Volatility: 0.14<br>UA_Close: Weight=0.00<br>RMD_Close: Weight=0.04<br>AAPL_Close: Weight=0.07<br>MA_Close: Weight=0.89",
          "Return: 14.32%<br>Volatility: 0.12<br>ETN_Close: Weight=0.41<br>BTI_Close: Weight=0.17<br>CSCO_Close: Weight=0.43<br>UA_Close: Weight=0.00<br>GE_Close: Weight=0.00",
          "Return: 27.75%<br>Volatility: 0.09<br>LLY_Close: Weight=0.00<br>ABT_Close: Weight=0.29<br>ACN_Close: Weight=0.33<br>NKE_Close: Weight=0.01<br>MMM_Close: Weight=0.37",
          "Return: 21.12%<br>Volatility: 0.14<br>AMD_Close: Weight=0.00<br>TMO_Close: Weight=0.65<br>RMD_Close: Weight=0.35",
          "Return: 15.44%<br>Volatility: 0.14<br>MO_Close: Weight=0.00<br>GE_Close: Weight=0.00<br>CVX_Close: Weight=1.00",
          "Return: 41.90%<br>Volatility: 0.11<br>BA_Close: Weight=0.48<br>EXC_Close: Weight=0.15<br>V_Close: Weight=0.38<br>PM_Close: Weight=0.00<br>MDT_Close: Weight=0.00",
          "Return: 52.44%<br>Volatility: 0.13<br>SO_Close: Weight=0.00<br>BA_Close: Weight=0.50<br>ABT_Close: Weight=0.27<br>PYPL_Close: Weight=0.23",
          "Return: 0.42%<br>Volatility: 0.13<br>UA_Close: Weight=0.00<br>SRE_Close: Weight=1.00<br>K_Close: Weight=0.00",
          "Return: 59.65%<br>Volatility: 0.21<br>PYPL_Close: Weight=0.92<br>GIS_Close: Weight=0.08<br>BSX_Close: Weight=0.00<br>WFC_Close: Weight=0.00",
          "Return: 16.63%<br>Volatility: 0.10<br>TMO_Close: Weight=0.40<br>PG_Close: Weight=0.26<br>EMR_Close: Weight=0.34",
          "Return: 32.51%<br>Volatility: 0.12<br>MCD_Close: Weight=0.83<br>XOM_Close: Weight=0.10<br>ORCL_Close: Weight=0.07",
          "Return: 9.41%<br>Volatility: 0.10<br>DIS_Close: Weight=0.00<br>BMY_Close: Weight=0.36<br>XOM_Close: Weight=0.26<br>VZ_Close: Weight=0.38",
          "Return: 34.16%<br>Volatility: 0.10<br>HD_Close: Weight=0.51<br>BAC_Close: Weight=0.02<br>MSFT_Close: Weight=0.46",
          "Return: 30.37%<br>Volatility: 0.12<br>MDT_Close: Weight=0.00<br>PG_Close: Weight=0.20<br>DHR_Close: Weight=0.00<br>AMZN_Close: Weight=0.06<br>MSFT_Close: Weight=0.74",
          "Return: 27.52%<br>Volatility: 0.11<br>DUK_Close: Weight=0.04<br>KO_Close: Weight=0.63<br>NVDA_Close: Weight=0.22<br>PEP_Close: Weight=0.12",
          "Return: 36.68%<br>Volatility: 0.11<br>AEP_Close: Weight=0.38<br>BIIB_Close: Weight=0.00<br>ABBV_Close: Weight=0.56<br>NKE_Close: Weight=0.06",
          "Return: 36.05%<br>Volatility: 0.14<br>SYK_Close: Weight=0.09<br>AMD_Close: Weight=0.00<br>SAP_Close: Weight=0.35<br>SNAP_Close: Weight=0.00<br>ISRG_Close: Weight=0.57",
          "Return: 30.67%<br>Volatility: 0.11<br>UNH_Close: Weight=0.64<br>BIIB_Close: Weight=0.00<br>GOOGL_Close: Weight=0.30<br>COST_Close: Weight=0.06",
          "Return: 24.86%<br>Volatility: 0.08<br>V_Close: Weight=0.46<br>CMCSA_Close: Weight=0.05<br>PEP_Close: Weight=0.12<br>NEE_Close: Weight=0.36",
          "Return: 36.68%<br>Volatility: 0.17<br>GOOG_Close: Weight=0.50<br>GILD_Close: Weight=0.00<br>ADBE_Close: Weight=0.50",
          "Return: 18.35%<br>Volatility: 0.14<br>MS_Close: Weight=0.34<br>SYY_Close: Weight=0.66<br>GS_Close: Weight=0.00",
          "Return: 25.40%<br>Volatility: 0.10<br>ETN_Close: Weight=0.00<br>GOOGL_Close: Weight=0.19<br>MMM_Close: Weight=0.48<br>BAC_Close: Weight=0.11<br>SAP_Close: Weight=0.22",
          "Return: 11.17%<br>Volatility: 0.11<br>EXC_Close: Weight=0.85<br>KR_Close: Weight=0.00<br>ZBH_Close: Weight=0.12<br>REGN_Close: Weight=0.03",
          "Return: 25.34%<br>Volatility: 0.08<br>PM_Close: Weight=0.00<br>PFE_Close: Weight=0.20<br>TXN_Close: Weight=0.34<br>NEE_Close: Weight=0.45",
          "Return: 28.27%<br>Volatility: 0.12<br>GE_Close: Weight=0.00<br>BAC_Close: Weight=0.15<br>SYY_Close: Weight=0.39<br>AMZN_Close: Weight=0.46",
          "Return: 29.88%<br>Volatility: 0.16<br>META_Close: Weight=0.54<br>NFLX_Close: Weight=0.12<br>GOOGL_Close: Weight=0.34<br>BSX_Close: Weight=0.00",
          "Return: 41.34%<br>Volatility: 0.13<br>JNJ_Close: Weight=0.18<br>ABBV_Close: Weight=0.68<br>VZ_Close: Weight=0.14",
          "Return: 41.34%<br>Volatility: 0.17<br>AMD_Close: Weight=0.00<br>NVDA_Close: Weight=0.30<br>SYK_Close: Weight=0.36<br>GOOG_Close: Weight=0.34<br>PM_Close: Weight=0.00",
          "Return: 30.64%<br>Volatility: 0.22<br>CMCSA_Close: Weight=0.27<br>AMGN_Close: Weight=0.00<br>NFLX_Close: Weight=0.73",
          "Return: 27.44%<br>Volatility: 0.09<br>KO_Close: Weight=0.40<br>ISRG_Close: Weight=0.30<br>ACN_Close: Weight=0.30",
          "Return: 17.83%<br>Volatility: 0.12<br>JPM_Close: Weight=0.59<br>QCOM_Close: Weight=0.21<br>GM_Close: Weight=0.13<br>LLY_Close: Weight=0.08",
          "Return: 29.38%<br>Volatility: 0.10<br>AAPL_Close: Weight=0.16<br>HD_Close: Weight=0.48<br>ACN_Close: Weight=0.33<br>TSLA_Close: Weight=0.04",
          "Return: 15.89%<br>Volatility: 0.11<br>SNAP_Close: Weight=0.00<br>EMR_Close: Weight=0.61<br>DHR_Close: Weight=0.39<br>GIS_Close: Weight=0.00",
          "Return: 28.58%<br>Volatility: 0.10<br>UNH_Close: Weight=0.57<br>EXC_Close: Weight=0.18<br>CRM_Close: Weight=0.26<br>SYK_Close: Weight=0.00",
          "Return: 49.99%<br>Volatility: 0.13<br>AAPL_Close: Weight=0.00<br>CAT_Close: Weight=0.50<br>MA_Close: Weight=0.46<br>SYK_Close: Weight=0.04",
          "Return: 9.31%<br>Volatility: 0.15<br>BTI_Close: Weight=0.68<br>MRK_Close: Weight=0.00<br>GILD_Close: Weight=0.32",
          "Return: 23.06%<br>Volatility: 0.10<br>SNAP_Close: Weight=0.00<br>SO_Close: Weight=0.00<br>RTX_Close: Weight=0.29<br>ACN_Close: Weight=0.66<br>XOM_Close: Weight=0.05",
          "Return: 53.00%<br>Volatility: 0.12<br>PFE_Close: Weight=0.09<br>BA_Close: Weight=0.43<br>META_Close: Weight=0.13<br>CAT_Close: Weight=0.35",
          "Return: 28.16%<br>Volatility: 0.11<br>DUK_Close: Weight=0.29<br>BSX_Close: Weight=0.00<br>CVX_Close: Weight=0.33<br>VZ_Close: Weight=0.14<br>NVDA_Close: Weight=0.24",
          "Return: 32.52%<br>Volatility: 0.11<br>HD_Close: Weight=0.65<br>SO_Close: Weight=0.00<br>INTC_Close: Weight=0.35",
          "Return: 12.47%<br>Volatility: 0.08<br>GE_Close: Weight=0.00<br>ETN_Close: Weight=0.26<br>LLY_Close: Weight=0.06<br>PEP_Close: Weight=0.67",
          "Return: 41.10%<br>Volatility: 0.12<br>MMM_Close: Weight=0.42<br>ABBV_Close: Weight=0.53<br>MRK_Close: Weight=0.00<br>GM_Close: Weight=0.05",
          "Return: 37.54%<br>Volatility: 0.15<br>BABA_Close: Weight=0.42<br>SAP_Close: Weight=0.41<br>GIS_Close: Weight=0.00<br>GM_Close: Weight=0.17",
          "Return: 24.25%<br>Volatility: 0.11<br>CRM_Close: Weight=0.45<br>NKE_Close: Weight=0.04<br>NFLX_Close: Weight=0.12<br>JPM_Close: Weight=0.39<br>GE_Close: Weight=0.00",
          "Return: 49.89%<br>Volatility: 0.14<br>XOM_Close: Weight=0.09<br>BA_Close: Weight=0.81<br>BMY_Close: Weight=0.07<br>GM_Close: Weight=0.03",
          "Return: 24.37%<br>Volatility: 0.08<br>PG_Close: Weight=0.13<br>HON_Close: Weight=0.55<br>TMO_Close: Weight=0.14<br>GIS_Close: Weight=0.00<br>AMZN_Close: Weight=0.19",
          "Return: 25.43%<br>Volatility: 0.14<br>GOOG_Close: Weight=0.86<br>BTI_Close: Weight=0.14<br>GE_Close: Weight=0.00",
          "Return: 38.79%<br>Volatility: 0.16<br>VZ_Close: Weight=0.13<br>K_Close: Weight=0.00<br>SNAP_Close: Weight=0.00<br>WMT_Close: Weight=0.87",
          "Return: 17.24%<br>Volatility: 0.11<br>CVX_Close: Weight=0.50<br>EW_Close: Weight=0.23<br>CSCO_Close: Weight=0.28<br>WFC_Close: Weight=0.00<br>GIS_Close: Weight=0.00",
          "Return: 29.67%<br>Volatility: 0.10<br>MDT_Close: Weight=0.00<br>PFE_Close: Weight=0.28<br>AMD_Close: Weight=0.00<br>MCD_Close: Weight=0.72",
          "Return: 39.43%<br>Volatility: 0.15<br>AMD_Close: Weight=0.00<br>SNAP_Close: Weight=0.00<br>ADBE_Close: Weight=0.18<br>ISRG_Close: Weight=0.53<br>SAP_Close: Weight=0.29",
          "Return: 16.52%<br>Volatility: 0.16<br>PM_Close: Weight=0.00<br>QCOM_Close: Weight=0.45<br>GM_Close: Weight=0.55",
          "Return: 28.53%<br>Volatility: 0.10<br>LLY_Close: Weight=0.00<br>DUK_Close: Weight=0.29<br>VRTX_Close: Weight=0.13<br>HD_Close: Weight=0.58",
          "Return: 23.11%<br>Volatility: 0.15<br>NFLX_Close: Weight=0.41<br>SNAP_Close: Weight=0.00<br>CMCSA_Close: Weight=0.07<br>COST_Close: Weight=0.24<br>GM_Close: Weight=0.28",
          "Return: 36.80%<br>Volatility: 0.15<br>MSFT_Close: Weight=0.95<br>NFLX_Close: Weight=0.05<br>BIIB_Close: Weight=0.00",
          "Return: 61.48%<br>Volatility: 0.29<br>NVDA_Close: Weight=0.67<br>EW_Close: Weight=0.33<br>SRE_Close: Weight=0.00",
          "Return: 25.09%<br>Volatility: 0.09<br>ABT_Close: Weight=0.34<br>LMT_Close: Weight=0.49<br>EW_Close: Weight=0.01<br>XOM_Close: Weight=0.00<br>JPM_Close: Weight=0.16",
          "Return: 27.71%<br>Volatility: 0.16<br>GOOG_Close: Weight=1.00<br>GE_Close: Weight=0.00<br>SNAP_Close: Weight=0.00",
          "Return: 54.03%<br>Volatility: 0.15<br>PYPL_Close: Weight=0.47<br>DE_Close: Weight=0.52<br>GM_Close: Weight=0.01",
          "Return: 32.45%<br>Volatility: 0.14<br>SAP_Close: Weight=0.30<br>TXN_Close: Weight=0.68<br>TSLA_Close: Weight=0.02",
          "Return: 18.79%<br>Volatility: 0.12<br>SO_Close: Weight=0.00<br>MS_Close: Weight=0.19<br>AAPL_Close: Weight=0.52<br>MDT_Close: Weight=0.00<br>DHR_Close: Weight=0.29",
          "Return: 24.28%<br>Volatility: 0.09<br>NVDA_Close: Weight=0.18<br>GILD_Close: Weight=0.00<br>KO_Close: Weight=0.57<br>PFE_Close: Weight=0.25",
          "Return: 29.38%<br>Volatility: 0.10<br>DHR_Close: Weight=0.00<br>AEP_Close: Weight=0.48<br>DE_Close: Weight=0.47<br>XOM_Close: Weight=0.00<br>CSCO_Close: Weight=0.05",
          "Return: 39.05%<br>Volatility: 0.15<br>DE_Close: Weight=0.81<br>ORCL_Close: Weight=0.19<br>MS_Close: Weight=0.00<br>RDY_Close: Weight=0.00<br>GE_Close: Weight=0.00",
          "Return: 21.24%<br>Volatility: 0.11<br>RTX_Close: Weight=0.33<br>GOOGL_Close: Weight=0.50<br>CSCO_Close: Weight=0.17",
          "Return: 24.35%<br>Volatility: 0.08<br>AEP_Close: Weight=0.05<br>QCOM_Close: Weight=0.00<br>NEE_Close: Weight=0.37<br>XOM_Close: Weight=0.11<br>V_Close: Weight=0.46",
          "Return: 37.00%<br>Volatility: 0.10<br>TXN_Close: Weight=0.28<br>RDY_Close: Weight=0.00<br>PEP_Close: Weight=0.28<br>META_Close: Weight=0.03<br>ABBV_Close: Weight=0.41",
          "Return: 14.45%<br>Volatility: 0.11<br>PG_Close: Weight=0.34<br>MO_Close: Weight=0.00<br>JPM_Close: Weight=0.66",
          "Return: 24.33%<br>Volatility: 0.09<br>BAC_Close: Weight=0.00<br>JPM_Close: Weight=0.15<br>HON_Close: Weight=0.80<br>TSLA_Close: Weight=0.05",
          "Return: 38.44%<br>Volatility: 0.21<br>CPB_Close: Weight=0.00<br>SNAP_Close: Weight=0.00<br>RDY_Close: Weight=0.00<br>AMZN_Close: Weight=1.00",
          "Return: 22.35%<br>Volatility: 0.11<br>ABT_Close: Weight=0.72<br>DUK_Close: Weight=0.28<br>REGN_Close: Weight=0.00",
          "Return: 39.56%<br>Volatility: 0.15<br>QCOM_Close: Weight=0.01<br>GE_Close: Weight=0.00<br>NVDA_Close: Weight=0.24<br>ABT_Close: Weight=0.67<br>COST_Close: Weight=0.09",
          "Return: 40.59%<br>Volatility: 0.12<br>ABBV_Close: Weight=0.52<br>ETN_Close: Weight=0.06<br>MMM_Close: Weight=0.41<br>QCOM_Close: Weight=0.01",
          "Return: 30.64%<br>Volatility: 0.15<br>MO_Close: Weight=0.00<br>ADBE_Close: Weight=0.64<br>XOM_Close: Weight=0.36",
          "Return: 11.74%<br>Volatility: 0.15<br>LLY_Close: Weight=0.22<br>GM_Close: Weight=0.71<br>ZBH_Close: Weight=0.06",
          "Return: 26.97%<br>Volatility: 0.12<br>VRTX_Close: Weight=0.20<br>TMO_Close: Weight=0.29<br>F_Close: Weight=0.00<br>JNJ_Close: Weight=0.52<br>CPB_Close: Weight=0.00",
          "Return: 7.93%<br>Volatility: 0.09<br>MRK_Close: Weight=0.00<br>DUK_Close: Weight=0.67<br>BMY_Close: Weight=0.33",
          "Return: 43.59%<br>Volatility: 0.18<br>DHR_Close: Weight=0.00<br>ISRG_Close: Weight=0.94<br>GIS_Close: Weight=0.06",
          "Return: 45.30%<br>Volatility: 0.17<br>NVDA_Close: Weight=0.20<br>MSFT_Close: Weight=0.78<br>ORCL_Close: Weight=0.02",
          "Return: 31.34%<br>Volatility: 0.17<br>EXC_Close: Weight=0.62<br>LLY_Close: Weight=0.00<br>VRTX_Close: Weight=0.38",
          "Return: 9.57%<br>Volatility: 0.11<br>REGN_Close: Weight=0.00<br>NKE_Close: Weight=0.25<br>BIIB_Close: Weight=0.13<br>DHR_Close: Weight=0.62<br>PM_Close: Weight=0.00",
          "Return: 33.15%<br>Volatility: 0.12<br>EXC_Close: Weight=0.29<br>T_Close: Weight=0.00<br>RMD_Close: Weight=0.10<br>DE_Close: Weight=0.61",
          "Return: 29.30%<br>Volatility: 0.10<br>NEE_Close: Weight=0.49<br>MDT_Close: Weight=0.00<br>UNH_Close: Weight=0.51",
          "Return: 48.27%<br>Volatility: 0.14<br>CAT_Close: Weight=0.69<br>EXC_Close: Weight=0.31<br>T_Close: Weight=0.00",
          "Return: 30.18%<br>Volatility: 0.10<br>EMR_Close: Weight=0.06<br>ORCL_Close: Weight=0.01<br>SAP_Close: Weight=0.20<br>MCD_Close: Weight=0.56<br>JPM_Close: Weight=0.17",
          "Return: 30.25%<br>Volatility: 0.13<br>PFE_Close: Weight=0.39<br>NVDA_Close: Weight=0.22<br>CSCO_Close: Weight=0.13<br>CRM_Close: Weight=0.26",
          "Return: 19.51%<br>Volatility: 0.14<br>F_Close: Weight=0.12<br>SYK_Close: Weight=0.88<br>KR_Close: Weight=0.00",
          "Return: 39.86%<br>Volatility: 0.16<br>AMGN_Close: Weight=0.00<br>UA_Close: Weight=0.00<br>SNAP_Close: Weight=0.00<br>ISRG_Close: Weight=0.68<br>GOOGL_Close: Weight=0.32",
          "Return: 33.20%<br>Volatility: 0.10<br>GOOGL_Close: Weight=0.20<br>MMM_Close: Weight=0.42<br>WMT_Close: Weight=0.38",
          "Return: 38.40%<br>Volatility: 0.16<br>BIIB_Close: Weight=0.05<br>PG_Close: Weight=0.08<br>WMT_Close: Weight=0.87",
          "Return: 23.27%<br>Volatility: 0.10<br>JPM_Close: Weight=0.25<br>LMT_Close: Weight=0.75<br>DIS_Close: Weight=0.00<br>T_Close: Weight=0.00",
          "Return: 27.22%<br>Volatility: 0.09<br>KO_Close: Weight=0.37<br>GS_Close: Weight=0.00<br>MCD_Close: Weight=0.45<br>META_Close: Weight=0.18",
          "Return: 14.22%<br>Volatility: 0.10<br>GIS_Close: Weight=0.00<br>EXC_Close: Weight=0.62<br>MS_Close: Weight=0.38",
          "Return: 12.63%<br>Volatility: 0.13<br>SNAP_Close: Weight=0.00<br>MRK_Close: Weight=0.00<br>EXC_Close: Weight=1.00",
          "Return: 37.03%<br>Volatility: 0.15<br>NKE_Close: Weight=0.06<br>WMT_Close: Weight=0.80<br>GM_Close: Weight=0.14",
          "Return: 34.49%<br>Volatility: 0.16<br>ADBE_Close: Weight=0.68<br>T_Close: Weight=0.00<br>MRK_Close: Weight=0.00<br>VZ_Close: Weight=0.32",
          "Return: 29.84%<br>Volatility: 0.10<br>SYY_Close: Weight=0.30<br>PG_Close: Weight=0.20<br>ISRG_Close: Weight=0.50<br>SRE_Close: Weight=0.00",
          "Return: 41.34%<br>Volatility: 0.16<br>MS_Close: Weight=0.02<br>VRTX_Close: Weight=0.19<br>TXN_Close: Weight=0.78",
          "Return: 27.07%<br>Volatility: 0.11<br>DHR_Close: Weight=0.00<br>MMM_Close: Weight=0.65<br>SO_Close: Weight=0.00<br>GOOGL_Close: Weight=0.35",
          "Return: 32.65%<br>Volatility: 0.12<br>MCD_Close: Weight=0.79<br>XOM_Close: Weight=0.09<br>EW_Close: Weight=0.11",
          "Return: 33.28%<br>Volatility: 0.11<br>COST_Close: Weight=0.07<br>MCD_Close: Weight=0.74<br>AAPL_Close: Weight=0.19",
          "Return: 34.62%<br>Volatility: 0.14<br>DHR_Close: Weight=0.18<br>WMT_Close: Weight=0.72<br>QCOM_Close: Weight=0.10",
          "Return: 44.25%<br>Volatility: 0.11<br>T_Close: Weight=0.00<br>BA_Close: Weight=0.57<br>TMO_Close: Weight=0.26<br>GOOG_Close: Weight=0.17<br>MS_Close: Weight=0.00",
          "Return: 48.07%<br>Volatility: 0.14<br>LLY_Close: Weight=0.13<br>SRE_Close: Weight=0.00<br>CAT_Close: Weight=0.56<br>SNAP_Close: Weight=0.00<br>TXN_Close: Weight=0.31",
          "Return: 48.51%<br>Volatility: 0.16<br>WMT_Close: Weight=0.62<br>NVDA_Close: Weight=0.22<br>KR_Close: Weight=0.00<br>AAPL_Close: Weight=0.16",
          "Return: 25.62%<br>Volatility: 0.12<br>SRE_Close: Weight=0.00<br>SYY_Close: Weight=0.43<br>META_Close: Weight=0.57",
          "Return: 18.23%<br>Volatility: 0.09<br>SYY_Close: Weight=0.25<br>JNJ_Close: Weight=0.50<br>JPM_Close: Weight=0.24",
          "Return: 33.88%<br>Volatility: 0.13<br>MMM_Close: Weight=0.66<br>MO_Close: Weight=0.00<br>ADBE_Close: Weight=0.34<br>MRK_Close: Weight=0.00",
          "Return: 24.62%<br>Volatility: 0.14<br>NFLX_Close: Weight=0.39<br>VZ_Close: Weight=0.36<br>EW_Close: Weight=0.25",
          "Return: 35.56%<br>Volatility: 0.12<br>CSCO_Close: Weight=0.04<br>MMM_Close: Weight=0.52<br>ISRG_Close: Weight=0.44",
          "Return: 23.75%<br>Volatility: 0.09<br>CSCO_Close: Weight=0.03<br>CVX_Close: Weight=0.28<br>AAPL_Close: Weight=0.23<br>K_Close: Weight=0.00<br>ABT_Close: Weight=0.46",
          "Return: 44.63%<br>Volatility: 0.11<br>T_Close: Weight=0.00<br>PFE_Close: Weight=0.12<br>ORCL_Close: Weight=0.01<br>BA_Close: Weight=0.50<br>MSFT_Close: Weight=0.37",
          "Return: 22.89%<br>Volatility: 0.09<br>LMT_Close: Weight=0.48<br>WFC_Close: Weight=0.00<br>KR_Close: Weight=0.00<br>PEP_Close: Weight=0.21<br>ACN_Close: Weight=0.32",
          "Return: 8.99%<br>Volatility: 0.19<br>GS_Close: Weight=0.08<br>CMCSA_Close: Weight=0.92<br>MRK_Close: Weight=0.00",
          "Return: 42.92%<br>Volatility: 0.13<br>BIIB_Close: Weight=0.00<br>SYY_Close: Weight=0.30<br>DHR_Close: Weight=0.00<br>TXN_Close: Weight=0.30<br>PYPL_Close: Weight=0.40",
          "Return: 14.38%<br>Volatility: 0.12<br>BAC_Close: Weight=0.47<br>SO_Close: Weight=0.00<br>AMGN_Close: Weight=0.00<br>DHR_Close: Weight=0.53",
          "Return: 51.90%<br>Volatility: 0.14<br>SAP_Close: Weight=0.21<br>VRTX_Close: Weight=0.11<br>PM_Close: Weight=0.00<br>DHR_Close: Weight=0.00<br>BA_Close: Weight=0.68",
          "Return: 23.60%<br>Volatility: 0.14<br>SO_Close: Weight=0.00<br>F_Close: Weight=0.08<br>CRM_Close: Weight=0.92",
          "Return: 29.06%<br>Volatility: 0.12<br>GS_Close: Weight=0.00<br>DHR_Close: Weight=0.01<br>LLY_Close: Weight=0.06<br>V_Close: Weight=0.93<br>CPB_Close: Weight=0.00",
          "Return: 35.32%<br>Volatility: 0.15<br>ORCL_Close: Weight=0.02<br>SNAP_Close: Weight=0.00<br>ETN_Close: Weight=0.04<br>MSFT_Close: Weight=0.94",
          "Return: 24.55%<br>Volatility: 0.09<br>V_Close: Weight=0.60<br>KR_Close: Weight=0.00<br>PEP_Close: Weight=0.33<br>GIS_Close: Weight=0.00<br>GOOGL_Close: Weight=0.07",
          "Return: 43.17%<br>Volatility: 0.12<br>CAT_Close: Weight=0.45<br>MMM_Close: Weight=0.30<br>GOOGL_Close: Weight=0.21<br>VZ_Close: Weight=0.04",
          "Return: 26.93%<br>Volatility: 0.13<br>GM_Close: Weight=0.18<br>AAPL_Close: Weight=0.28<br>CMCSA_Close: Weight=0.02<br>INTC_Close: Weight=0.53",
          "Return: 18.00%<br>Volatility: 0.13<br>GE_Close: Weight=0.00<br>EMR_Close: Weight=0.53<br>CVX_Close: Weight=0.47",
          "Return: 49.14%<br>Volatility: 0.18<br>VRTX_Close: Weight=0.20<br>PM_Close: Weight=0.00<br>ISRG_Close: Weight=0.79<br>MO_Close: Weight=0.01",
          "Return: 45.05%<br>Volatility: 0.15<br>UNH_Close: Weight=0.78<br>MDT_Close: Weight=0.00<br>AMGN_Close: Weight=0.00<br>NVDA_Close: Weight=0.22",
          "Return: 23.20%<br>Volatility: 0.10<br>MS_Close: Weight=0.10<br>QCOM_Close: Weight=0.07<br>BMY_Close: Weight=0.00<br>LMT_Close: Weight=0.83",
          "Return: 17.21%<br>Volatility: 0.09<br>CSCO_Close: Weight=0.17<br>DUK_Close: Weight=0.18<br>SYK_Close: Weight=0.35<br>MO_Close: Weight=0.00<br>SYY_Close: Weight=0.30",
          "Return: 22.23%<br>Volatility: 0.13<br>DHR_Close: Weight=0.18<br>DIS_Close: Weight=0.02<br>GS_Close: Weight=0.00<br>GOOGL_Close: Weight=0.80",
          "Return: 10.70%<br>Volatility: 0.23<br>NKE_Close: Weight=1.00<br>KR_Close: Weight=0.00<br>MRK_Close: Weight=0.00",
          "Return: 30.97%<br>Volatility: 0.11<br>ETN_Close: Weight=0.08<br>GOOG_Close: Weight=0.30<br>TSLA_Close: Weight=0.02<br>UNH_Close: Weight=0.61",
          "Return: 20.62%<br>Volatility: 0.09<br>ZBH_Close: Weight=0.00<br>SYK_Close: Weight=0.27<br>CVX_Close: Weight=0.38<br>CRM_Close: Weight=0.35<br>BIIB_Close: Weight=0.00",
          "Return: 29.91%<br>Volatility: 0.12<br>RMD_Close: Weight=0.10<br>V_Close: Weight=0.90<br>DHR_Close: Weight=0.00",
          "Return: 28.17%<br>Volatility: 0.11<br>CSCO_Close: Weight=0.06<br>NKE_Close: Weight=0.07<br>BIIB_Close: Weight=0.00<br>AAPL_Close: Weight=0.09<br>V_Close: Weight=0.78",
          "Return: 23.54%<br>Volatility: 0.09<br>SNAP_Close: Weight=0.00<br>HON_Close: Weight=0.89<br>VZ_Close: Weight=0.11",
          "Return: 30.98%<br>Volatility: 0.13<br>REGN_Close: Weight=0.00<br>V_Close: Weight=1.00<br>KR_Close: Weight=0.00",
          "Return: 35.19%<br>Volatility: 0.10<br>TXN_Close: Weight=0.18<br>MA_Close: Weight=0.38<br>T_Close: Weight=0.00<br>HD_Close: Weight=0.44<br>SRE_Close: Weight=0.00",
          "Return: 17.17%<br>Volatility: 0.14<br>SYY_Close: Weight=0.75<br>KR_Close: Weight=0.00<br>VZ_Close: Weight=0.25",
          "Return: 14.32%<br>Volatility: 0.08<br>DHR_Close: Weight=0.10<br>EXC_Close: Weight=0.23<br>VZ_Close: Weight=0.13<br>BIIB_Close: Weight=0.01<br>JNJ_Close: Weight=0.52",
          "Return: 21.88%<br>Volatility: 0.10<br>AEP_Close: Weight=0.56<br>META_Close: Weight=0.44<br>GE_Close: Weight=0.00",
          "Return: 4.13%<br>Volatility: 0.13<br>RDY_Close: Weight=0.00<br>LLY_Close: Weight=0.91<br>MRK_Close: Weight=0.00<br>SRE_Close: Weight=0.09",
          "Return: 46.47%<br>Volatility: 0.12<br>XOM_Close: Weight=0.01<br>BMY_Close: Weight=0.01<br>BA_Close: Weight=0.61<br>ACN_Close: Weight=0.37",
          "Return: 51.79%<br>Volatility: 0.14<br>BA_Close: Weight=0.65<br>TXN_Close: Weight=0.35<br>SO_Close: Weight=0.00",
          "Return: 19.33%<br>Volatility: 0.09<br>XOM_Close: Weight=0.04<br>AAPL_Close: Weight=0.35<br>JNJ_Close: Weight=0.58<br>DIS_Close: Weight=0.00<br>QCOM_Close: Weight=0.04",
          "Return: 36.79%<br>Volatility: 0.14<br>MA_Close: Weight=0.96<br>GE_Close: Weight=0.00<br>RMD_Close: Weight=0.04<br>K_Close: Weight=0.00",
          "Return: 20.86%<br>Volatility: 0.09<br>NEE_Close: Weight=0.75<br>ETN_Close: Weight=0.21<br>CMCSA_Close: Weight=0.05",
          "Return: 40.60%<br>Volatility: 0.16<br>AMD_Close: Weight=0.00<br>RMD_Close: Weight=0.18<br>DE_Close: Weight=0.82",
          "Return: 34.90%<br>Volatility: 0.14<br>KR_Close: Weight=0.00<br>CPB_Close: Weight=0.00<br>UNH_Close: Weight=1.00",
          "Return: 26.61%<br>Volatility: 0.08<br>KO_Close: Weight=0.27<br>HD_Close: Weight=0.34<br>V_Close: Weight=0.38<br>BSX_Close: Weight=0.00<br>CSCO_Close: Weight=0.00",
          "Return: 34.81%<br>Volatility: 0.14<br>EMR_Close: Weight=0.34<br>AMZN_Close: Weight=0.29<br>GILD_Close: Weight=0.00<br>ADBE_Close: Weight=0.37<br>GIS_Close: Weight=0.00",
          "Return: 41.86%<br>Volatility: 0.10<br>UNH_Close: Weight=0.23<br>ABBV_Close: Weight=0.28<br>V_Close: Weight=0.24<br>DE_Close: Weight=0.24",
          "Return: 29.63%<br>Volatility: 0.10<br>MA_Close: Weight=0.47<br>LMT_Close: Weight=0.43<br>GM_Close: Weight=0.10",
          "Return: 18.82%<br>Volatility: 0.10<br>T_Close: Weight=0.00<br>GM_Close: Weight=0.13<br>DIS_Close: Weight=0.00<br>PFE_Close: Weight=0.33<br>GOOGL_Close: Weight=0.54",
          "Return: 8.62%<br>Volatility: 0.09<br>SO_Close: Weight=0.00<br>ORCL_Close: Weight=0.35<br>DUK_Close: Weight=0.65",
          "Return: 17.01%<br>Volatility: 0.08<br>AEP_Close: Weight=0.61<br>AMD_Close: Weight=0.00<br>JPM_Close: Weight=0.39",
          "Return: 60.98%<br>Volatility: 0.18<br>CAT_Close: Weight=0.88<br>NFLX_Close: Weight=0.12<br>WFC_Close: Weight=0.00",
          "Return: 25.86%<br>Volatility: 0.11<br>RTX_Close: Weight=0.27<br>AAPL_Close: Weight=0.05<br>JPM_Close: Weight=0.31<br>AMZN_Close: Weight=0.36<br>SO_Close: Weight=0.01",
          "Return: 33.72%<br>Volatility: 0.13<br>CPB_Close: Weight=0.00<br>CMCSA_Close: Weight=0.14<br>MA_Close: Weight=0.86",
          "Return: 13.13%<br>Volatility: 0.08<br>RDY_Close: Weight=0.00<br>AEP_Close: Weight=0.77<br>WFC_Close: Weight=0.23",
          "Return: 22.87%<br>Volatility: 0.09<br>HON_Close: Weight=0.65<br>IBM_Close: Weight=0.00<br>DUK_Close: Weight=0.14<br>GE_Close: Weight=0.00<br>GOOG_Close: Weight=0.21",
          "Return: 47.64%<br>Volatility: 0.15<br>K_Close: Weight=0.00<br>ORCL_Close: Weight=0.00<br>PYPL_Close: Weight=0.52<br>ABT_Close: Weight=0.48",
          "Return: 21.73%<br>Volatility: 0.16<br>SYK_Close: Weight=1.00<br>REGN_Close: Weight=0.00<br>IBM_Close: Weight=0.00<br>GE_Close: Weight=0.00",
          "Return: 18.80%<br>Volatility: 0.08<br>TMO_Close: Weight=0.23<br>TSLA_Close: Weight=0.03<br>KO_Close: Weight=0.61<br>NFLX_Close: Weight=0.13",
          "Return: 33.61%<br>Volatility: 0.14<br>AMZN_Close: Weight=0.30<br>LLY_Close: Weight=0.02<br>SAP_Close: Weight=0.25<br>ADBE_Close: Weight=0.33<br>ETN_Close: Weight=0.11",
          "Return: 13.86%<br>Volatility: 0.14<br>F_Close: Weight=0.10<br>MO_Close: Weight=0.00<br>BTI_Close: Weight=0.41<br>TSLA_Close: Weight=0.26<br>BIIB_Close: Weight=0.23",
          "Return: 24.13%<br>Volatility: 0.11<br>TMO_Close: Weight=0.28<br>GOOG_Close: Weight=0.37<br>SNAP_Close: Weight=0.00<br>SAP_Close: Weight=0.35",
          "Return: 33.56%<br>Volatility: 0.13<br>RMD_Close: Weight=0.22<br>SYY_Close: Weight=0.19<br>WMT_Close: Weight=0.59<br>AMD_Close: Weight=0.00<br>GS_Close: Weight=0.00",
          "Return: 24.92%<br>Volatility: 0.08<br>JNJ_Close: Weight=0.25<br>KO_Close: Weight=0.36<br>DE_Close: Weight=0.34<br>ORCL_Close: Weight=0.05",
          "Return: 25.60%<br>Volatility: 0.13<br>AMZN_Close: Weight=0.45<br>VZ_Close: Weight=0.25<br>SYK_Close: Weight=0.21<br>WFC_Close: Weight=0.03<br>BTI_Close: Weight=0.05",
          "Return: 15.83%<br>Volatility: 0.18<br>MS_Close: Weight=0.94<br>PM_Close: Weight=0.00<br>SO_Close: Weight=0.06",
          "Return: 23.40%<br>Volatility: 0.11<br>SAP_Close: Weight=0.41<br>GM_Close: Weight=0.16<br>KR_Close: Weight=0.00<br>GOOG_Close: Weight=0.42",
          "Return: 30.16%<br>Volatility: 0.11<br>WFC_Close: Weight=0.02<br>JNJ_Close: Weight=0.28<br>RTX_Close: Weight=0.25<br>ISRG_Close: Weight=0.45",
          "Return: 34.33%<br>Volatility: 0.10<br>MCD_Close: Weight=0.48<br>MSFT_Close: Weight=0.23<br>ACN_Close: Weight=0.29<br>BSX_Close: Weight=0.00",
          "Return: 20.78%<br>Volatility: 0.12<br>SAP_Close: Weight=0.70<br>GE_Close: Weight=0.00<br>QCOM_Close: Weight=0.10<br>CSCO_Close: Weight=0.20",
          "Return: 38.22%<br>Volatility: 0.12<br>EXC_Close: Weight=0.11<br>GIS_Close: Weight=0.00<br>ABBV_Close: Weight=0.60<br>CVX_Close: Weight=0.29",
          "Return: 32.56%<br>Volatility: 0.14<br>TXN_Close: Weight=0.69<br>SAP_Close: Weight=0.31<br>REGN_Close: Weight=0.00",
          "Return: 26.26%<br>Volatility: 0.14<br>SAP_Close: Weight=0.76<br>SNAP_Close: Weight=0.00<br>GS_Close: Weight=0.00<br>NFLX_Close: Weight=0.24",
          "Return: 24.89%<br>Volatility: 0.10<br>ZBH_Close: Weight=0.00<br>SNAP_Close: Weight=0.00<br>MS_Close: Weight=0.02<br>HON_Close: Weight=0.98",
          "Return: 13.41%<br>Volatility: 0.09<br>LLY_Close: Weight=0.09<br>AEP_Close: Weight=0.84<br>ZBH_Close: Weight=0.07",
          "Return: 25.73%<br>Volatility: 0.11<br>SAP_Close: Weight=0.38<br>ZBH_Close: Weight=0.00<br>MMM_Close: Weight=0.62<br>CPB_Close: Weight=0.00<br>AMD_Close: Weight=0.00",
          "Return: 18.27%<br>Volatility: 0.08<br>AAPL_Close: Weight=0.15<br>KO_Close: Weight=0.59<br>GOOGL_Close: Weight=0.26<br>MDT_Close: Weight=0.00",
          "Return: 31.74%<br>Volatility: 0.13<br>XOM_Close: Weight=0.00<br>PM_Close: Weight=0.00<br>HD_Close: Weight=0.89<br>TSLA_Close: Weight=0.11",
          "Return: 28.24%<br>Volatility: 0.13<br>PFE_Close: Weight=0.28<br>SRE_Close: Weight=0.00<br>IBM_Close: Weight=0.00<br>ADBE_Close: Weight=0.51<br>VZ_Close: Weight=0.21",
          "Return: 24.97%<br>Volatility: 0.12<br>GE_Close: Weight=0.00<br>INTC_Close: Weight=0.41<br>CSCO_Close: Weight=0.09<br>RTX_Close: Weight=0.30<br>AAPL_Close: Weight=0.20",
          "Return: 41.07%<br>Volatility: 0.14<br>TXN_Close: Weight=0.50<br>AMD_Close: Weight=0.00<br>ISRG_Close: Weight=0.47<br>ORCL_Close: Weight=0.02<br>GS_Close: Weight=0.00",
          "Return: 33.20%<br>Volatility: 0.11<br>MCD_Close: Weight=0.77<br>T_Close: Weight=0.00<br>SYY_Close: Weight=0.23",
          "Return: 25.61%<br>Volatility: 0.10<br>V_Close: Weight=0.75<br>PFE_Close: Weight=0.25<br>SRE_Close: Weight=0.00",
          "Return: 31.79%<br>Volatility: 0.12<br>HD_Close: Weight=0.69<br>SNAP_Close: Weight=0.00<br>SYY_Close: Weight=0.13<br>NFLX_Close: Weight=0.18<br>MDT_Close: Weight=0.00",
          "Return: 34.53%<br>Volatility: 0.09<br>HON_Close: Weight=0.34<br>PYPL_Close: Weight=0.17<br>NEE_Close: Weight=0.34<br>ISRG_Close: Weight=0.14",
          "Return: 30.99%<br>Volatility: 0.12<br>PFE_Close: Weight=0.17<br>CVX_Close: Weight=0.18<br>F_Close: Weight=0.00<br>DE_Close: Weight=0.58<br>DHR_Close: Weight=0.08",
          "Return: 37.34%<br>Volatility: 0.10<br>RMD_Close: Weight=0.00<br>HD_Close: Weight=0.49<br>INTC_Close: Weight=0.16<br>MS_Close: Weight=0.00<br>ISRG_Close: Weight=0.34",
          "Return: 31.63%<br>Volatility: 0.08<br>HD_Close: Weight=0.31<br>DE_Close: Weight=0.25<br>CPB_Close: Weight=0.00<br>NEE_Close: Weight=0.44",
          "Return: 55.90%<br>Volatility: 0.17<br>BIIB_Close: Weight=0.02<br>RMD_Close: Weight=0.13<br>CPB_Close: Weight=0.00<br>CAT_Close: Weight=0.82<br>QCOM_Close: Weight=0.03",
          "Return: 48.05%<br>Volatility: 0.13<br>DHR_Close: Weight=0.00<br>ABT_Close: Weight=0.45<br>CAT_Close: Weight=0.55",
          "Return: 9.80%<br>Volatility: 0.23<br>BIIB_Close: Weight=1.00<br>UA_Close: Weight=0.00<br>K_Close: Weight=0.00",
          "Return: 29.55%<br>Volatility: 0.12<br>MSFT_Close: Weight=0.67<br>EXC_Close: Weight=0.18<br>AMZN_Close: Weight=0.06<br>DUK_Close: Weight=0.10",
          "Return: 30.28%<br>Volatility: 0.11<br>COST_Close: Weight=0.07<br>CRM_Close: Weight=0.29<br>AMD_Close: Weight=0.00<br>UNH_Close: Weight=0.62<br>SYK_Close: Weight=0.02",
          "Return: 30.98%<br>Volatility: 0.13<br>V_Close: Weight=1.00<br>WFC_Close: Weight=0.00<br>KR_Close: Weight=0.00",
          "Return: 28.45%<br>Volatility: 0.11<br>RDY_Close: Weight=0.00<br>RTX_Close: Weight=0.18<br>SRE_Close: Weight=0.00<br>V_Close: Weight=0.82",
          "Return: 25.77%<br>Volatility: 0.16<br>SO_Close: Weight=0.00<br>IBM_Close: Weight=0.00<br>GOOGL_Close: Weight=1.00",
          "Return: 18.59%<br>Volatility: 0.14<br>JPM_Close: Weight=0.91<br>GILD_Close: Weight=0.09<br>DIS_Close: Weight=0.00",
          "Return: 14.04%<br>Volatility: 0.10<br>LLY_Close: Weight=0.10<br>GIS_Close: Weight=0.00<br>AEP_Close: Weight=0.90",
          "Return: 48.06%<br>Volatility: 0.14<br>MCD_Close: Weight=0.62<br>PM_Close: Weight=0.00<br>PYPL_Close: Weight=0.38",
          "Return: 26.12%<br>Volatility: 0.15<br>F_Close: Weight=0.07<br>CPB_Close: Weight=0.00<br>MO_Close: Weight=0.00<br>GIS_Close: Weight=0.08<br>META_Close: Weight=0.85",
          "Return: 14.01%<br>Volatility: 0.10<br>AEP_Close: Weight=0.88<br>GILD_Close: Weight=0.12<br>MO_Close: Weight=0.00",
          "Return: 36.41%<br>Volatility: 0.11<br>AMZN_Close: Weight=0.12<br>INTC_Close: Weight=0.25<br>MCD_Close: Weight=0.64",
          "Return: 27.47%<br>Volatility: 0.09<br>MSFT_Close: Weight=0.37<br>NEE_Close: Weight=0.45<br>EW_Close: Weight=0.03<br>RTX_Close: Weight=0.15<br>CPB_Close: Weight=0.00",
          "Return: 40.99%<br>Volatility: 0.16<br>BABA_Close: Weight=0.46<br>UA_Close: Weight=0.00<br>CSCO_Close: Weight=0.24<br>QCOM_Close: Weight=0.04<br>META_Close: Weight=0.25",
          "Return: 31.46%<br>Volatility: 0.11<br>GE_Close: Weight=0.00<br>RMD_Close: Weight=0.16<br>JPM_Close: Weight=0.26<br>BMY_Close: Weight=0.06<br>WMT_Close: Weight=0.52",
          "Return: 56.30%<br>Volatility: 0.16<br>ABBV_Close: Weight=0.68<br>RDY_Close: Weight=0.00<br>SO_Close: Weight=0.00<br>TSLA_Close: Weight=0.01<br>BABA_Close: Weight=0.32",
          "Return: 20.23%<br>Volatility: 0.14<br>AMGN_Close: Weight=0.00<br>AAPL_Close: Weight=0.77<br>LLY_Close: Weight=0.23",
          "Return: 29.17%<br>Volatility: 0.12<br>COST_Close: Weight=0.00<br>NKE_Close: Weight=0.02<br>HD_Close: Weight=0.75<br>JPM_Close: Weight=0.23",
          "Return: 13.86%<br>Volatility: 0.11<br>QCOM_Close: Weight=0.25<br>BIIB_Close: Weight=0.12<br>EXC_Close: Weight=0.63",
          "Return: 17.12%<br>Volatility: 0.11<br>CMCSA_Close: Weight=0.10<br>EW_Close: Weight=0.32<br>CVX_Close: Weight=0.58",
          "Return: 32.93%<br>Volatility: 0.14<br>TXN_Close: Weight=0.63<br>GOOG_Close: Weight=0.28<br>RMD_Close: Weight=0.09",
          "Return: 10.45%<br>Volatility: 0.19<br>COST_Close: Weight=0.93<br>CPB_Close: Weight=0.00<br>MDT_Close: Weight=0.07"
         ],
         "type": "scatter",
         "x": [
          0.0838382983959751,
          0.1559435137670314,
          0.14931234441277128,
          0.09557446548222061,
          0.13967069276280247,
          0.13695503757307825,
          0.13198871895404277,
          0.1640009810197923,
          0.1317636786784554,
          0.3125745515433,
          0.3586440729747568,
          0.08934669874312445,
          0.14220455904596127,
          0.08150882407766756,
          0.15052422910248292,
          0.13803846895130534,
          0.12849671705382737,
          0.16301666409878382,
          0.1022416136350062,
          0.10876173158823672,
          0.21016800698398397,
          0.08122715186057013,
          0.11677957550458479,
          0.11599405686817549,
          0.07699117338014495,
          0.1304051466150344,
          0.11465912819286583,
          0.12000632823462039,
          0.10982680800957387,
          0.13594149323945548,
          0.10622112436191126,
          0.17668607432709682,
          0.21685504069592107,
          0.12698653211509608,
          0.1267324145962027,
          0.14585327514425225,
          0.13852591804438869,
          0.22781174361985862,
          0.15212552629612225,
          0.08414132232068343,
          0.16994985090871928,
          0.09452973388316738,
          0.11971902975493258,
          0.17098410745045214,
          0.11293546709490229,
          0.07653267870943326,
          0.09886317965115393,
          0.07860309594387616,
          0.10653934893218953,
          0.12367071836464154,
          0.0795936437021008,
          0.1476705562944301,
          0.12377406860783338,
          0.15923140936657568,
          0.11387248011167747,
          0.13167154133530257,
          0.11756516622432135,
          0.16095664912128818,
          0.0944425192876443,
          0.154264805777593,
          0.10141313990421758,
          0.1176700963858725,
          0.09453958984011393,
          0.096462337852207,
          0.12633012199119828,
          0.09967594124940843,
          0.1302248502620947,
          0.1174438831222173,
          0.15198181009455153,
          0.11291705929267881,
          0.12641016799122584,
          0.13475151961011012,
          0.09300174335473478,
          0.08226761532333841,
          0.09137345752060912,
          0.1264412856566803,
          0.12749551875801876,
          0.15349155656383065,
          0.17018937823939947,
          0.08130466782435775,
          0.2059235064322197,
          0.11620245813977215,
          0.13376021290953344,
          0.13423333229805098,
          0.10944544162215616,
          0.11536465505114486,
          0.16147210896717476,
          0.12022682271817098,
          0.23320432463115687,
          0.1912220788225509,
          0.1472543882001742,
          0.11040800544552003,
          0.12140001716207743,
          0.0824704313168761,
          0.08290850387267075,
          0.11346065334925061,
          0.15615593810473857,
          0.11785320146620709,
          0.13521728957708623,
          0.11501630527846696,
          0.23234263761447563,
          0.11324002077071396,
          0.14586768394127264,
          0.10228373040378574,
          0.11590234368366169,
          0.1420210288642974,
          0.1173897820314335,
          0.10090444468594534,
          0.1017401294802171,
          0.12832589163422425,
          0.17048174228031943,
          0.1004270064398854,
          0.14017958549401688,
          0.09239293491203106,
          0.12037828965678116,
          0.12085444675106274,
          0.11112357228759444,
          0.10934011586740906,
          0.10029436054216347,
          0.1274207044217651,
          0.16526487703651607,
          0.07446615329891727,
          0.0959843375541235,
          0.14917906250139676,
          0.18038836008930526,
          0.11344818872796086,
          0.1467745157649327,
          0.18797259892150892,
          0.14643609824853404,
          0.14032182844783112,
          0.137727782328115,
          0.1337314516259943,
          0.12018046127118659,
          0.0965190666944908,
          0.1132005881162013,
          0.11801413836415378,
          0.10520629269149516,
          0.2250545859572357,
          0.13743826656475655,
          0.10667673358976633,
          0.12358692940817267,
          0.11031854736929507,
          0.10116791899587463,
          0.09898122283000894,
          0.12029632507394161,
          0.16028157876529758,
          0.10341163719199441,
          0.08842972537708486,
          0.11225225055813812,
          0.10708466629026382,
          0.09671326323303465,
          0.1843820120995101,
          0.11744995911472428,
          0.103257444041321,
          0.1350238857293471,
          0.10790706074294769,
          0.19682016972802138,
          0.10406086477603688,
          0.11604387638560851,
          0.13410216429018737,
          0.12471480909510312,
          0.14048157823498034,
          0.17430321875590146,
          0.1785572730536134,
          0.1142646144451463,
          0.10619376342575432,
          0.10104041486150102,
          0.10790706074294133,
          0.10392973086847615,
          0.15731177888982595,
          0.11832533397475634,
          0.1658918113532624,
          0.13502388572934634,
          0.14011834183965408,
          0.16692544017308564,
          0.10060592823419118,
          0.12972682609475186,
          0.13284413168125273,
          0.18014888361144143,
          0.08668636842279073,
          0.12632971152101602,
          0.1311176660997309,
          0.07760518076200947,
          0.10983326126613703,
          0.08359769924823962,
          0.11928096981608871,
          0.12621521760209248,
          0.1279190883748687,
          0.1057535709421268,
          0.11149861091987358,
          0.11902127042756283,
          0.13704080962773132,
          0.16663472480352987,
          0.08480238397421774,
          0.10310998096720467,
          0.12222051137127218,
          0.14293624646700245,
          0.0988070192795412,
          0.1303486106106871,
          0.12045939237232672,
          0.1113408765780915,
          0.1360457711797264,
          0.1260337653375943,
          0.08841240388630023,
          0.10446419662066186,
          0.09933184098989482,
          0.08742540762875056,
          0.14031165173165083,
          0.07002132584663688,
          0.07475350863642177,
          0.09826567977191818,
          0.09045036897657276,
          0.1068622836099433,
          0.18153505285583157,
          0.14447862744958812,
          0.11844601589732935,
          0.15370755357280624,
          0.10140135151006245,
          0.1101812617387287,
          0.10148936202133428,
          0.12257390203888505,
          0.13577802953116905,
          0.09865670365537753,
          0.11204657185621117,
          0.08638500045834832,
          0.10123309149238695,
          0.11318910377445177,
          0.09477901166099661,
          0.08870300101270401,
          0.11714936673584861,
          0.15759651061362426,
          0.12332479717803954,
          0.07426390585377822,
          0.11598741057827652,
          0.09001167589677199,
          0.09413721165135179,
          0.10633170392851933,
          0.11252628657741835,
          0.07489369177274938,
          0.07367995538151499,
          0.0866249321974149,
          0.13005336544275348,
          0.08079717003900454,
          0.10234214591068252,
          0.12079187694138056,
          0.11949018699401177,
          0.14379109527190792,
          0.13164329445180406,
          0.1319311585053591,
          0.11354545562470386,
          0.11426206084183518,
          0.11480930214578619,
          0.15983894316049843,
          0.17063780059237701,
          0.08330989221130375,
          0.11571690446035042,
          0.08943026458873436,
          0.10924831779139732,
          0.09916019476927526,
          0.18230604963057684,
          0.11711919616431503,
          0.1354582679968045,
          0.17559547909438633,
          0.11396275298943805,
          0.08027054188276414,
          0.24246523391448133,
          0.09759786678227494,
          0.15858070344888692,
          0.14761291868293575,
          0.08816182029709542,
          0.09508329841610415,
          0.08660425739317366,
          0.07256541794726765,
          0.10402909737342797,
          0.0904151747527388,
          0.122058364885835,
          0.11574883242515258,
          0.10476760348237159,
          0.16032820417687313,
          0.12845402802605227,
          0.17787452481945892,
          0.13113136508819925,
          0.16565000715854888,
          0.1258470307859164,
          0.11636392469069039,
          0.08187147450237581,
          0.10454611295949377,
          0.09129883955972586,
          0.16621639782853748,
          0.08504390863797573,
          0.13279042653412534,
          0.09256538383685822,
          0.09834690687834317,
          0.1219625901861325,
          0.09712410807432682,
          0.14373739796730572,
          0.20495665910197935,
          0.08322959278167338,
          0.09344952020727616,
          0.11436835473288583,
          0.16863132598101185,
          0.11715002258920736,
          0.14452816038955232,
          0.12514632160312716,
          0.14690869421984779,
          0.1045313894342231,
          0.17580855337191884,
          0.1392514265055868,
          0.116821856994089,
          0.159984853139726,
          0.1240372985458083,
          0.15175963438248,
          0.11569342104699656,
          0.12014230860005168,
          0.09991917775157412,
          0.10114615268276952,
          0.12649757380818197,
          0.10360852570159011,
          0.1294972452479503,
          0.12110231760218389,
          0.07156252882565355,
          0.1597206764076937,
          0.0895621307117858,
          0.12939338216375404,
          0.14289889310306736,
          0.1109245575315133,
          0.14158376672960094,
          0.08710461970788903,
          0.09179548036254971,
          0.10087455300490047,
          0.15412277025117202,
          0.10024697358758791,
          0.12903153766207195,
          0.15548439030921185,
          0.09753776865924212,
          0.10046834267810151,
          0.14288234265586539,
          0.11155611216154798,
          0.11050974869874299,
          0.08700364708327653,
          0.07497234734414618,
          0.12455459521926857,
          0.09814268871774885,
          0.11756818643888703,
          0.12516572750807178,
          0.1300298731541361,
          0.11716600598934936,
          0.1244436240899369,
          0.19721117962667534,
          0.14737380358867416,
          0.10500274675517875,
          0.09401799963667985,
          0.1263280882413025,
          0.16286616831421258,
          0.08398636514094361,
          0.1396731086763379,
          0.10918232395712921,
          0.10898449403217808,
          0.13222917575311485,
          0.08851480787246903,
          0.10606965561845433,
          0.13128920222326063,
          0.1401479226530549,
          0.09232417934672203,
          0.12745089207625257,
          0.15049982400793752,
          0.10966188987155247,
          0.1002952193466028,
          0.12915025148847065,
          0.15316270869120108,
          0.07508071526787836,
          0.0956430943518155,
          0.1467733893250386,
          0.19877951431208965,
          0.10152082070161153,
          0.11094845829932029,
          0.18149476861410466,
          0.10546484108185608,
          0.13501066137425566,
          0.09790145982776072,
          0.09927290639684437,
          0.09510803711287039,
          0.11209942138550831,
          0.12762847204717576,
          0.13744168144507488,
          0.08544113856331088,
          0.10042082216381093,
          0.07560027135831021,
          0.1369392912739457,
          0.1218174231825574,
          0.10069983285352642,
          0.1776124824946425,
          0.16856460001813056,
          0.10145939466589213,
          0.14156792733301635,
          0.1192909991881472,
          0.10840432988035681,
          0.0964202399823937,
          0.14794152824376652,
          0.0983490543553448,
          0.08980637746078612,
          0.09776559250139183,
          0.08097988788522374,
          0.10074685205712845,
          0.10089792506731746,
          0.08598194247261425,
          0.07367546095953277,
          0.1500249367249831,
          0.10429504898873439,
          0.13020704003912262,
          0.11529589644455879,
          0.17762332336777067,
          0.09186164248864936,
          0.10560179226103547,
          0.08694515300535825,
          0.14252828118168745,
          0.1518268785248155,
          0.2313712472069639,
          0.10531458567003671,
          0.08019777689985923,
          0.13863685943451864,
          0.06744667741033136,
          0.1893222265190414,
          0.11763096759783717,
          0.10361007050665176,
          0.07779650286725265,
          0.12566653391521063,
          0.06916566145495127,
          0.12476035429292785,
          0.10978424146584094,
          0.10729383639974475,
          0.1360488341447193,
          0.11090607769770443,
          0.13205535278997818,
          0.08857845379139527,
          0.1005661241475343,
          0.07838473126078005,
          0.1305095115317813,
          0.13459412914584637,
          0.1792631546802593,
          0.10935141308676888,
          0.07431254380717878,
          0.17443155318714984,
          0.20936620908546824,
          0.08336033295186497,
          0.1190508613295226,
          0.09960242991716385,
          0.16147210896717473,
          0.07389301746645292,
          0.18924372627746322,
          0.10979646161007925,
          0.11688316522824939,
          0.09239959218944115,
          0.09398191570082241,
          0.0974679730998707,
          0.1492281067791345,
          0.12461805883140482,
          0.15063154530771525,
          0.1353237754947216,
          0.09664056138478967,
          0.1702737070725633,
          0.10688698488057326,
          0.07847268859232005,
          0.0812253228795428,
          0.09353690486886371,
          0.12547382825517894,
          0.23234263761447588,
          0.14106437058120638,
          0.08726697690402116,
          0.15703845589739895,
          0.08418930576169414,
          0.1474961123636438,
          0.1374382665644493,
          0.12262785174770058,
          0.11621763494959267,
          0.18123690148607305,
          0.2638559549072453,
          0.10295596549427402,
          0.13972264313926316,
          0.09153891626254693,
          0.16863192751680234,
          0.15410720509430664,
          0.12136706571344184,
          0.1434153938190655,
          0.11559341775721198,
          0.12415794160234661,
          0.12949464541285058,
          0.1466681069998153,
          0.12862188238747332,
          0.10400310947129275,
          0.23292877076030652,
          0.11112034524480995,
          0.09226590205178019,
          0.10325335189385096,
          0.10553333632757425,
          0.11576366745830528,
          0.1034765512385745,
          0.11943196135605504,
          0.137626645503656,
          0.14040338252224555,
          0.1567477766988984,
          0.12808026880123288,
          0.11591079529931451,
          0.10312142676415784,
          0.1727568242136444,
          0.07371955343391266,
          0.13032648237252867,
          0.15461941078098734,
          0.07587846098836237,
          0.10288227794669004,
          0.1328197338157956,
          0.10767496466303594,
          0.10912274223899136,
          0.13465386935419818,
          0.09401677457011678,
          0.17342773680948126,
          0.11545610460476588,
          0.15239774561496633,
          0.14552004746239108,
          0.14354221949211768,
          0.14631388121731118,
          0.17205819095086936,
          0.16976990200449713,
          0.10227496975034141,
          0.18946517997961765,
          0.09411306376529566,
          0.08207138263774878,
          0.13973096617600975,
          0.08899664938801342,
          0.09758537294215248,
          0.09699025877819316,
          0.17750987299942958,
          0.1621878629611269,
          0.15556837155613568,
          0.17640092335679053,
          0.08041410825046329,
          0.1377024511751275,
          0.1233070051080537,
          0.08881685956797819,
          0.1942549829256927,
          0.16515640412301985,
          0.13313991453852242,
          0.11614256714538311,
          0.08733921154055296,
          0.1292577101516493,
          0.11716822253066475,
          0.151745486032717,
          0.09634760727934853,
          0.1319935842262989,
          0.08369567730523766,
          0.08727040600656634,
          0.1352759011816001,
          0.10769342080668656,
          0.16562800826449522,
          0.12291922317509982,
          0.08861359541037091,
          0.1364663708320603,
          0.07814888089647977,
          0.1767823170169635,
          0.12804184207618868,
          0.11803512866776976,
          0.08295522050411604,
          0.28685953218101135,
          0.08699353660603586,
          0.09331679991521254,
          0.10768023953010185,
          0.13581130076806197,
          0.09250894737930986,
          0.14521331613814448,
          0.14131925371084142,
          0.10550192383098786,
          0.10948164259548541,
          0.1079539811453129,
          0.09574760306377693,
          0.11113058596544433,
          0.16596782911793143,
          0.08944247716894999,
          0.11064026188433877,
          0.13818284179417223,
          0.14271482001397107,
          0.13628499689646498,
          0.17740583247978797,
          0.12161107353063175,
          0.11470399937986563,
          0.09066747235392157,
          0.08940450053187848,
          0.08821822768714112,
          0.13907100573648618,
          0.12284891516296452,
          0.14985807032147686,
          0.10409640362088778,
          0.1100935471159371,
          0.10866128659725362,
          0.0904131177730756,
          0.08387721134278257,
          0.14621933675224497,
          0.10145777986788194,
          0.08127098908702003,
          0.10150389874747376,
          0.1333153414489546,
          0.10058405011115983,
          0.16135257744271958,
          0.10493551343536142,
          0.0739522851531063,
          0.09672886105764929,
          0.08389376357712743,
          0.15175963438248008,
          0.09801261941051358,
          0.09096004308266961,
          0.09488380399607574,
          0.10682838220829183,
          0.09227171613799592,
          0.14135751063347607,
          0.10290461476655867,
          0.14689653522574456,
          0.08617682656285626,
          0.08933994394763313,
          0.14096271847030561,
          0.17346802239775655,
          0.11283200594196673,
          0.07493512107070655,
          0.10571258472743264,
          0.13180230530324505,
          0.11918621517588958,
          0.07828042494804922,
          0.1111577312945734,
          0.12851104659178494,
          0.11261505528373027,
          0.1550466437758426,
          0.13420261744715672,
          0.1687733848767786,
          0.14340967522168646,
          0.13057418253593692,
          0.09454066176879859,
          0.12581061246508074,
          0.13102465180389739,
          0.13932826426104378,
          0.16400098101979224,
          0.11978099129448108,
          0.1183849942630443,
          0.1700157631570006,
          0.09252956668630136,
          0.09243936518138698,
          0.1148957590124349,
          0.1220519654052347,
          0.1972381006275322,
          0.18153505285583116,
          0.1825963264666886,
          0.11581447574122639,
          0.11547438561704429,
          0.16099190311202094,
          0.10408269601783059,
          0.10368059249521518,
          0.12639991920502572,
          0.23234263761447585,
          0.15729478442320058,
          0.08867954701293325,
          0.15834661960422305,
          0.09919321665427591,
          0.1218201362350084,
          0.10488376621480243,
          0.09462820364148197,
          0.12971051578579035,
          0.16855144138093106,
          0.11552026013764197,
          0.1414362862749411,
          0.127685024062981,
          0.1193438294994002,
          0.10752102144853092,
          0.08149459093196369,
          0.09481664328395482,
          0.1364633111365613,
          0.1421230753999627,
          0.09501173421326138,
          0.07936661371475721,
          0.19626003541534015,
          0.1433795765651308,
          0.09258113901544805,
          0.1180859075210884,
          0.11019466901710127,
          0.19877951431208954,
          0.075160630848012,
          0.105626885128176,
          0.10036478461517268,
          0.13347174944175294,
          0.13710472492668585,
          0.09338502495633902,
          0.13165987803811893,
          0.1415311911382503,
          0.09311061683185248,
          0.11423783860090764,
          0.13317723879107413,
          0.12750676039526646,
          0.0951671782731344,
          0.12215457109278077,
          0.11842469823245207,
          0.0982215909406391,
          0.2027829314519584,
          0.07960859727164034,
          0.11068731956564411,
          0.10041747411449946,
          0.13214332408810398,
          0.12540264270970258,
          0.09933091560810658,
          0.19199247889524293,
          0.12379246557784525,
          0.1295602618798288,
          0.11137909188156081,
          0.14907840874869527,
          0.10490904831636273,
          0.08330160789739101,
          0.14396808792162913,
          0.11643425683007926,
          0.12142364846890391,
          0.08206077744269472,
          0.11769085898163577,
          0.11150385994732442,
          0.17101396154172757,
          0.09712980193470712,
          0.3586440729747569,
          0.10785830191774401,
          0.09227989928113722,
          0.09834166231673738,
          0.11432365291862555,
          0.14800677731743794,
          0.08874104272124113,
          0.12880151902640394,
          0.11337178751573812,
          0.11600181312215375,
          0.15535987613115554,
          0.12921113100321355,
          0.12047443440363388,
          0.07966194407430487,
          0.08406942874917402,
          0.12250262111196868,
          0.10883120239685827,
          0.0935244338805532,
          0.1117101719193047,
          0.09789951855738525,
          0.13281970179339153,
          0.10386481876276692,
          0.13399388101317825,
          0.13773640408826546,
          0.09013004430083973,
          0.16648814641381005,
          0.11329987103032607,
          0.13582244963809648,
          0.10162074876055659,
          0.09858024146440568,
          0.1508642589090648,
          0.07800072565153814,
          0.15950140782546307,
          0.08980655296579342,
          0.10948221525395001,
          0.13779540166641366,
          0.18197559691618231,
          0.12402234488324654,
          0.09724209505298018,
          0.10913282217851758,
          0.11090718186635509,
          0.10569591093329887,
          0.07594766361171902,
          0.11746643014303633,
          0.07223750529194359,
          0.08283503206869217,
          0.11627916475676711,
          0.10533276690319862,
          0.13712669048259715,
          0.10754941113354205,
          0.12294673526193585,
          0.08358828262205763,
          0.17268329736388266,
          0.12660385276646768,
          0.08308476947422341,
          0.10379376891855384,
          0.1656332057947276,
          0.11225182806273362,
          0.1595075750552156,
          0.11925554501673853,
          0.12972580936558414,
          0.11170950182387167,
          0.07531588643301101,
          0.2894895907435507,
          0.08080098720069367,
          0.13740777189313932,
          0.11993583159206092,
          0.0944167278638882,
          0.137396683895087,
          0.1413192537108409,
          0.10801825583914126,
          0.1261658790431835,
          0.1337602129095336,
          0.2112432906240063,
          0.09579972421227101,
          0.11718473763993757,
          0.09707725110790301,
          0.10208998232806524,
          0.12365138323982856,
          0.1086234753854497,
          0.11262172710545006,
          0.13879432071134032,
          0.11146472808189282,
          0.08273318813565632,
          0.16574852180112704,
          0.13640848901725428,
          0.0983048189665536,
          0.11333354177209298,
          0.0811235845576595,
          0.12411263155600866,
          0.16006596356147293,
          0.13240922027773971,
          0.17485414011142028,
          0.22260224298307316,
          0.08550521434464613,
          0.12236244061567741,
          0.09525815372079746,
          0.11485884127292752,
          0.10285375196412308,
          0.13261828916968982,
          0.14528630495955883,
          0.10386925887119877,
          0.12112126365518351,
          0.11431174323194884,
          0.11442341256646328,
          0.08208241170389201,
          0.11984953161585571,
          0.14608573998871105,
          0.11324665708832195,
          0.14498978678773736,
          0.08366438634525511,
          0.14396191284496937,
          0.16195501618525096,
          0.10636763220983601,
          0.10338414837183578,
          0.14860783760395035,
          0.161156626538361,
          0.09530053082027888,
          0.1462597903662825,
          0.15147804409531687,
          0.2895022721892096,
          0.08958811110281649,
          0.15950604942411092,
          0.15221351771002314,
          0.1351700374210396,
          0.11682558048610822,
          0.0919407638757732,
          0.09932468844456753,
          0.15016133256432718,
          0.11436531285426288,
          0.08173968882879364,
          0.09843424216376159,
          0.10753329606034479,
          0.0942129537683361,
          0.21197999166948445,
          0.10539613243674749,
          0.14567109232732772,
          0.11832716450655413,
          0.14842815690274141,
          0.14672476216933325,
          0.11821089620870304,
          0.09144257108716042,
          0.17855768445958267,
          0.16869158835482578,
          0.17424997732948597,
          0.11106737474101563,
          0.12137617102330306,
          0.099364970781477,
          0.14240314024357809,
          0.09819461740972656,
          0.1258102799088716,
          0.13817175809138313,
          0.1560340408343568,
          0.09926168192970006,
          0.1612425940138962,
          0.09711182132613166,
          0.08511910496749896,
          0.10355876938093633,
          0.1314556607273335,
          0.15286470578330663,
          0.16246800551644608,
          0.10482068640731576,
          0.1587101783671765,
          0.11267384753503694,
          0.1152972976464328,
          0.11456667798940066,
          0.14105858865191914,
          0.11346946610732127,
          0.13635291675369446,
          0.1589085399567007,
          0.11534200074064463,
          0.08529826450090133,
          0.1298105582226611,
          0.14404661644903505,
          0.11985379505658121,
          0.09051059525163398,
          0.11197608431143695,
          0.08611160924683987,
          0.19284316835034118,
          0.13146139902095735,
          0.12376716073885514,
          0.14055338455293345,
          0.14371572595219734,
          0.11721492085686615,
          0.14580268135889704,
          0.09226480850895402,
          0.11533116444771878,
          0.1300688979745119,
          0.12506893383370563,
          0.18426498090489313,
          0.14700456474214152,
          0.10120315391198223,
          0.08986201093597108,
          0.13370151293859026,
          0.22566066172893082,
          0.11034592066541879,
          0.08794782797074535,
          0.11941741036914319,
          0.11104087639495158,
          0.09349957847443727,
          0.12540264270970256,
          0.10027852145193683,
          0.13836130049885514,
          0.08366323001335989,
          0.09694139100796847,
          0.13379625536760806,
          0.12497102010626167,
          0.14000751161226807,
          0.09489520249505425,
          0.14119851255558358,
          0.09188682397698346,
          0.15632327646396924,
          0.14100978623912752,
          0.07606749143348147,
          0.13770275077713964,
          0.10025569429872652,
          0.09987829767036947,
          0.10070418395300917,
          0.09041939139804551,
          0.07574773846509925,
          0.18446075195516642,
          0.11099411553085571,
          0.1264519570976548,
          0.0813069010515027,
          0.0855795188731179,
          0.1536320666727044,
          0.15548439030921185,
          0.08095048700697645,
          0.14025336339642006,
          0.14195782976833113,
          0.11070496208470969,
          0.127483106170779,
          0.07934219285676693,
          0.12525108003312754,
          0.1844002228935958,
          0.11255380558327396,
          0.1103637814328904,
          0.1002046495413637,
          0.11945311541680886,
          0.11620118518693133,
          0.1358331181748724,
          0.14291437951985456,
          0.10081518283388295,
          0.09202490750969702,
          0.10723165302102064,
          0.07976052625873385,
          0.12502500339677386,
          0.12955550481539774,
          0.11541360355475679,
          0.1400922378946889,
          0.11404776316822458,
          0.09991216278013898,
          0.11646229248375452,
          0.09095164628933446,
          0.11739816487036021,
          0.10297366292017412,
          0.08093559278319148,
          0.16937292830357029,
          0.12880666466178944,
          0.22771576065800483,
          0.11769461627221878,
          0.11082079251908444,
          0.12540264270970258,
          0.11263564493614406,
          0.1572563913884621,
          0.14473342314459017,
          0.09741196978793137,
          0.1390684748798399,
          0.14613552398334195,
          0.0957793854834382,
          0.11443073536860314,
          0.09110730799771972,
          0.16476915587458904,
          0.11407486308108418,
          0.15645791853571486,
          0.1377173117838053,
          0.11558346159484777,
          0.11309113239227717,
          0.11383220353141223,
          0.13544926581138064,
          0.18500753354874996
         ],
         "y": [
          0.29569473719957834,
          0.2548420509045892,
          0.361458277711446,
          0.39795122231453767,
          0.28667425825506554,
          0.3121263618801817,
          0.38679513294341095,
          0.1611135392480023,
          0.329141451385935,
          0.6675406245929997,
          0.2610462354544917,
          0.3487014942852998,
          0.5004239924904633,
          0.12864087250744588,
          0.38320651375756165,
          0.3688274431246314,
          0.28029005640461646,
          0.4693612351709847,
          0.29835716949210955,
          0.4022375031567624,
          0.2055887628907797,
          0.07926855352375625,
          0.2586194236693312,
          0.2872247854256781,
          0.24321989145178305,
          0.30994798551890923,
          0.35761207739237977,
          0.23399302112644704,
          0.1050106097982445,
          0.22135146795916225,
          0.24377916298208807,
          0.36450876739310967,
          0.46441650854070304,
          0.3760329043640351,
          0.197162118688388,
          0.3521024713369076,
          0.5307350250199465,
          0.4553981034389827,
          0.1478944210424754,
          0.21669542125269528,
          0.19736439541425366,
          0.1908847040744157,
          0.4218743999331445,
          0.5177153863955032,
          0.3416627810588675,
          0.12688256758257974,
          0.20797144518814265,
          0.20356497801547008,
          0.28819196159474436,
          0.2179481980082689,
          0.1345732462015492,
          0.20789960947904007,
          0.14383524429595806,
          0.42355743110248667,
          0.5282201513164242,
          0.25883422263712186,
          0.3337568145603629,
          0.37217115798894485,
          0.31813324868615195,
          0.25285860080493316,
          0.3531013536908184,
          0.3717348706594398,
          0.09755612179394307,
          0.26655043039962556,
          0.30358965190523035,
          0.18149044088075433,
          0.4027639237265629,
          0.33867878733482204,
          0.2662996556710826,
          0.276875503877774,
          0.30803046569494796,
          0.4321117491730175,
          0.3301680655662287,
          0.21730983667372164,
          0.1641311980601814,
          0.23560155523379944,
          0.2683698474169395,
          0.5334786322220441,
          0.3033375803059184,
          0.13133521378337204,
          0.5073728380909075,
          0.2616695337623972,
          0.00416292180026777,
          0.14147467026906355,
          0.28055997959134604,
          0.35305399423477934,
          0.371421595764018,
          0.37934722387996195,
          0.18339220029856632,
          0.4658737812566122,
          0.381461380495263,
          0.16760936352242825,
          0.3702473576776111,
          0.26449654874210876,
          0.12367824659025917,
          0.22007056977193856,
          0.19920251470665934,
          0.31929396580883995,
          0.1907181522115945,
          0.34992012505507536,
          0.22602615022220768,
          0.5179854531921486,
          0.33920145171828564,
          0.2642807079903568,
          0.31125904492512374,
          0.36764323780916086,
          0.17810481796168823,
          0.09834828973889176,
          0.332604654752671,
          0.39357370582793116,
          -0.01012253026774615,
          0.1831938002417276,
          0.26700855104432,
          0.07606811142654288,
          0.39520698537002474,
          0.2604411426495293,
          0.34520559053492694,
          0.16599708031471044,
          0.25117708480846423,
          0.20821362811352356,
          0.5026187542509308,
          0.15165949454901134,
          0.23105725579112824,
          0.2865631187290984,
          0.1141061173172591,
          0.25746145864364434,
          0.4760011639977541,
          0.46220053404342365,
          0.2067556166657174,
          0.3045171000453094,
          0.2933825621886784,
          0.4617910891624858,
          0.1627819301274194,
          0.28351091738652345,
          0.25540824284880903,
          0.29960033027160465,
          0.2656666982926071,
          0.5252384105054915,
          0.22378640577387926,
          0.2900888957790854,
          0.4584152224130422,
          0.3807209975428421,
          0.2975504160276129,
          0.34336155441621347,
          0.4838059205545727,
          0.2896236688441774,
          0.2240927704584328,
          0.14601132418941942,
          0.35895938132828664,
          0.18754196845827098,
          0.24095346562052164,
          0.5410656092595606,
          0.4353494943802923,
          0.2347050760887851,
          0.32454217288497855,
          0.09217422118310835,
          0.5771848688615636,
          0.3457881874511074,
          0.32866689891302164,
          0.3706200975946999,
          0.3271324234258057,
          0.35596122419602516,
          0.5954072752312488,
          0.4511788138134431,
          0.2365183136736107,
          0.24181028184691028,
          0.27335139242037265,
          0.0921742211830838,
          0.397341095104825,
          0.31102602158038906,
          0.12547029828504505,
          0.4339672548838741,
          0.32454217288497555,
          0.3478329087830513,
          0.33908510253186686,
          0.3342312784575496,
          0.5342054989268499,
          0.2734627926341217,
          0.5873088575122101,
          0.23909755147615339,
          0.23844744684797375,
          0.27772267281946417,
          0.21299186167500098,
          0.2863488049256827,
          0.20814452477382167,
          0.12156405409687353,
          0.2528481461348609,
          0.3474065565037044,
          0.33856129342752395,
          0.30276298930564693,
          0.1918596431009158,
          0.4230829333615057,
          0.35329313752681896,
          0.19623693170302264,
          0.15111690443164497,
          0.26865249890178433,
          0.37225090435595054,
          0.30611475131991367,
          0.41735511243735485,
          0.30697001542919333,
          0.07256812393517789,
          0.34389934006519157,
          0.31185697414010716,
          0.26354829210249764,
          0.23132583967280484,
          0.20016410012159286,
          0.3078650342065822,
          0.32989506668951324,
          0.15711024361639156,
          0.17861572621722566,
          0.1616338299689693,
          0.2492445452687677,
          0.3511852360555533,
          0.43058417167014756,
          0.19631105672259833,
          0.21237030395796652,
          0.506588179652048,
          0.19674599304916135,
          0.3060042101180181,
          0.2632321212381456,
          0.3502827155714866,
          0.28885871198489416,
          0.33174977930536154,
          0.4259714360517866,
          0.1873057220606403,
          0.36127354745315826,
          0.3263619449812046,
          0.12407784394825622,
          0.22539354354707736,
          0.27486593107180746,
          0.42803869927225335,
          0.3506273627420813,
          0.19290619031768727,
          0.21286464315540954,
          0.1907276294663486,
          0.2818562112827987,
          0.29210684643697765,
          0.24223867933004295,
          0.18629109919851938,
          0.08015549367028625,
          0.2067148655205909,
          0.3855142335059393,
          0.12487379991849079,
          0.12440817919042012,
          0.2271128122242571,
          0.10561642838570745,
          0.26388726516350586,
          0.5197825824393918,
          0.5928138200720673,
          0.19701126890167042,
          0.16968368426131814,
          0.2505006290975423,
          0.4190111869915634,
          0.4888696213285906,
          0.22587979088374538,
          0.2748456846432857,
          0.16508742409089994,
          0.3410447267792648,
          0.3469653864389672,
          0.27559151806453414,
          0.3361407069976319,
          0.3368267458604031,
          0.32627624219376916,
          0.42502214872175503,
          0.16268384084898455,
          0.5095375916968716,
          0.31557804195482797,
          0.5461725901130521,
          0.2740011707142262,
          0.06966966469899366,
          0.1887229886099932,
          0.22371596867820212,
          0.22427114801477663,
          0.3243752981160088,
          0.21883596449072232,
          0.3114050571307323,
          0.2591144095647785,
          0.22117220825276326,
          0.5099690842824119,
          0.35716879541277546,
          0.5382495250999426,
          0.3671077977249191,
          0.3093822802207419,
          0.3586686460365965,
          0.32612982431410525,
          0.2299346481733393,
          0.2071545420540781,
          0.2874971952882306,
          0.48371035323047457,
          0.27423457402937523,
          0.1654231956391029,
          0.14961770058199894,
          0.24678963122085426,
          0.36067814689084987,
          0.2700951592431773,
          0.2115720686914491,
          0.4317511674972316,
          0.2595135107297008,
          0.28225564030717654,
          0.2952508368515319,
          0.4177460251270816,
          0.29539746541589634,
          0.4468044899352086,
          0.45414926665315536,
          0.34268509108605066,
          0.30608110343866346,
          0.42922341221216703,
          0.4264504327014268,
          0.2973324719434921,
          0.3902148975465217,
          0.2637892130414136,
          0.3671799368332997,
          0.29304879554061997,
          0.42012160294729006,
          0.28484940206439135,
          0.3434099197527427,
          0.4036449789425962,
          0.3806846371670291,
          0.36117246322259067,
          0.3587511963063006,
          0.21444349826764547,
          0.16582149475759062,
          0.17893627255670935,
          0.4755161379603031,
          0.16305827052089264,
          0.10713641417739879,
          0.4416583390912232,
          0.19996837005997642,
          0.21767192438685246,
          0.3215165700162723,
          0.356790199478031,
          0.3015382832145712,
          0.4564517784193378,
          0.2173204365442244,
          0.18723692666677005,
          0.27747124268645157,
          0.5477977386906947,
          0.34013823759541173,
          0.36429384074784626,
          0.11989762301579351,
          0.2217282434022061,
          0.4347717762976664,
          0.12423080867341542,
          0.3105119115591016,
          0.4542196791062565,
          0.40785594684154425,
          0.3268745019002254,
          0.44209744855457694,
          0.4457710786866877,
          0.4527394775759447,
          0.4262834925473798,
          0.2877874260250963,
          0.3564393447145375,
          0.4014640763903846,
          0.16746906956021082,
          0.1323353450097888,
          0.23758339967392395,
          0.4155801169968419,
          0.16987176619072764,
          0.25804814455279734,
          0.2679978226890296,
          0.19506689404557143,
          0.4205580321485608,
          0.26043327365949753,
          0.4287743770683746,
          0.3857173209382935,
          0.38348542978206257,
          0.3057723362774769,
          0.423887183234732,
          0.2762354833734727,
          0.2306362066840213,
          0.32075120632282206,
          0.4652848215037901,
          0.11207468445227312,
          0.1722397741977769,
          0.35465933474270867,
          0.3566291067204638,
          0.2994231393169241,
          0.3855991331046123,
          0.3310504275924057,
          0.282884504695008,
          0.262062025220627,
          0.2632541747422547,
          0.3118030765008891,
          0.44487770677309046,
          0.11867558968859068,
          0.2765167958788901,
          0.250123963214877,
          0.11547095787673398,
          0.3442649367682141,
          0.3232379669009119,
          0.5212830538852793,
          0.3188241682671451,
          0.27506763395468786,
          0.35011508161180466,
          0.12157427417045892,
          0.32590457085971813,
          0.311204171481008,
          0.3587253808113465,
          0.2815219412250772,
          0.14673570781191447,
          0.26611305052447876,
          0.25334835964388897,
          0.059902486547821536,
          0.23235368434666645,
          0.225445459301587,
          0.23138406807711007,
          0.20987333139184491,
          0.20882369461120248,
          0.2587245533795418,
          0.314011382419917,
          0.347352603996504,
          0.2770126027486328,
          0.3577673368975202,
          0.1166954480225778,
          0.388742302347691,
          0.47528448497577347,
          0.6516957987800329,
          0.34674660700650617,
          0.25491210953453664,
          0.26500339912094345,
          0.1515126175855392,
          0.14706103097121986,
          0.3353591754906781,
          0.16878680854469236,
          0.24093578934847848,
          0.2663849392080183,
          0.15788334711982843,
          0.25781772160636635,
          0.2722176712026628,
          0.34341902182857964,
          0.3439070823876134,
          0.33069074714712304,
          0.4318888276560148,
          0.1607342349511466,
          0.35450875622017497,
          0.2503569698241155,
          0.24304690252063724,
          0.17439374849321088,
          0.4375348232567694,
          0.17728963689796556,
          0.132497315675643,
          0.4280458996486262,
          0.20360110595043157,
          0.17598345511866798,
          0.36099950590948043,
          0.14039900704092553,
          0.37142159576401795,
          0.211193719866402,
          0.4569176611903384,
          0.38204076561226313,
          0.288491129332488,
          0.26489524242654655,
          0.19738158667304684,
          0.16124686903701477,
          0.1078848323220232,
          0.20765378501720924,
          0.5164857180357075,
          0.5092660106020366,
          0.28391548719506826,
          0.35845321722122814,
          0.24312175349690673,
          0.2419742408935652,
          0.168323977967637,
          0.4086699130517816,
          0.3875818518898866,
          0.22602615022220812,
          0.34346139207731036,
          0.29471204039078935,
          0.45339222113978467,
          0.2299028189291878,
          0.3769755460614823,
          0.22378640577199935,
          0.4255673048063062,
          0.13998330624561525,
          0.567099214466857,
          0.6081423933636521,
          0.3578259625642174,
          0.36798304987343583,
          0.2907249787183555,
          0.4081547297456525,
          0.35675418426879835,
          0.2947274828009342,
          0.460668391058792,
          0.25499804831642053,
          0.21911157944595389,
          0.3611652194502507,
          0.4593993901175569,
          0.35828973018428395,
          0.21145362467695739,
          0.1831755390359855,
          0.34519554192499924,
          0.3059569659689767,
          0.30153127157919696,
          0.36520543810724143,
          0.3235840638028602,
          0.23794708387240399,
          0.46111258863307925,
          0.352571528932035,
          0.4952382848387789,
          0.33953897843065883,
          0.38286259750468493,
          0.34438182389745403,
          0.25312205758676215,
          0.46253501069319175,
          0.14243718519788254,
          0.16276476959194133,
          0.5133314947527344,
          0.19034411450977723,
          0.3102020027586483,
          0.37178900760676825,
          0.29261211212773375,
          0.2419355656759958,
          0.36935270732005643,
          0.21824768426331162,
          0.38294969756587627,
          0.3080277775158065,
          0.32281853764776314,
          0.4588328286854205,
          0.5060328632482045,
          0.4348592682284561,
          0.5514159915830771,
          0.19763454726096433,
          0.2731379340857551,
          0.05320963349558903,
          0.2516784630045423,
          0.17578152478312165,
          0.36800496179141384,
          0.21023332705509165,
          0.19818832858910082,
          0.36865966820049517,
          0.5371532482420662,
          0.557804435020364,
          0.5898690295119661,
          0.44574323403467225,
          0.22019823066954738,
          0.25968583489088326,
          0.3457793030451233,
          0.264501201056081,
          0.036171413438370346,
          0.4951245555648706,
          0.35131191074319496,
          0.48530282424138116,
          0.21241142391271745,
          0.22421031408696707,
          0.17144474860117404,
          0.17862006343209616,
          0.32533778443093553,
          0.3704271702397355,
          0.2857435353638915,
          0.32668509952871827,
          0.35774052058723455,
          0.134804589867503,
          0.3093412041206733,
          0.31477373709354683,
          0.23272676226811484,
          0.28135144956043573,
          0.22988530821021466,
          0.27677677435062076,
          0.22497957747165281,
          0.4822848452237719,
          0.2500815842258461,
          0.3828089145719397,
          0.21828745712227857,
          0.26149291284825793,
          0.2537259491061626,
          0.20305384430213752,
          0.3813819137605228,
          0.2781684397603974,
          0.1544395620067671,
          0.292118349383279,
          0.3830683453981112,
          0.2899465749389204,
          0.289532591259803,
          0.42614901771411284,
          0.2940931978584805,
          0.3268684700146904,
          0.3067564498850054,
          0.3548690244746718,
          0.2789635942721724,
          0.5098556501526865,
          0.4373070605896943,
          0.40839938204744686,
          0.30352599772021244,
          0.29275306951931335,
          0.24798374238842003,
          0.21347126033017666,
          0.4806058934347646,
          0.2672862434547325,
          0.39466147076014885,
          0.3234849697217336,
          0.4423338532207397,
          0.12147943141675147,
          0.21883098824630648,
          0.21751481029134093,
          0.5415386383649862,
          0.2414529578930902,
          0.23929132092413424,
          0.32240634232625653,
          0.3383106621278146,
          0.24827667043610213,
          0.19124833092851215,
          0.058393176228003454,
          0.1315036634469409,
          0.35992583884885027,
          0.23752409988706583,
          0.3671799368333,
          0.36045798025157605,
          0.31841585325028554,
          0.3156279568154643,
          0.21283621201604597,
          0.24262552149433458,
          0.16397649834340286,
          0.35952386554751936,
          0.3062524264440958,
          0.2599036406915883,
          0.11812846727236385,
          0.5099500482652319,
          0.5529867203488991,
          0.33993150928817006,
          0.2054313275806078,
          0.10732526256003723,
          0.43181306334814834,
          0.4521764389682802,
          0.24450058750668696,
          0.4545888501369263,
          0.3457209515894966,
          0.3262994482416354,
          0.09242418273807088,
          0.27736509050274144,
          0.38935493520228115,
          0.4606500187448882,
          0.4960183183178158,
          0.3006913127684899,
          0.2954323890586412,
          0.46200073701196653,
          0.33656067203346013,
          0.16111353924800226,
          0.4333308692958223,
          0.3378400896324513,
          0.353060187951954,
          0.3153315034568519,
          0.3130426957436526,
          0.16313512926817478,
          0.31744919353008016,
          0.6410725417572912,
          0.43058417167014507,
          0.4223661054630563,
          0.26654710819032623,
          0.21074882393374036,
          0.5510390266576768,
          0.2958566101330635,
          0.16193962636168568,
          0.4716869680857977,
          0.2260261502222081,
          0.3378707185405828,
          0.3585750991200928,
          0.2946974996273065,
          0.3303238392875284,
          0.11351913641487527,
          0.31270871698937525,
          0.2272991398993654,
          0.1857695684198466,
          0.509573216690949,
          0.27579567374028074,
          0.321966880969461,
          0.1619389936914488,
          0.28653452086734604,
          0.14446120336691362,
          0.199379804221058,
          0.25320158952518396,
          0.3749696330975105,
          0.24842376998349347,
          0.15087806856011304,
          0.1499808667041979,
          0.029445432694984747,
          0.6159757525285257,
          0.24430598076818508,
          0.341165652338624,
          0.2622070918554671,
          0.11207468445227284,
          0.15598753750368163,
          0.25356203604685607,
          0.2199215831228719,
          0.190169153293972,
          0.3610583483776019,
          0.28385276331073983,
          0.47760295824854343,
          0.23251855388238915,
          0.1473980511491948,
          0.2176814118105022,
          0.22640942174777126,
          0.495470197218582,
          0.2772060655876011,
          0.3289315387178153,
          0.2456679946201164,
          0.35101857275413884,
          0.4625817265373656,
          0.17591742731055404,
          0.31896451878591303,
          0.09500510548664626,
          0.3736566076121626,
          0.3098220053320188,
          0.16538573363949738,
          0.15800238605123607,
          0.23863547593710618,
          0.36368228041306594,
          0.3442581298274938,
          0.24477986167011268,
          0.38755845532116157,
          0.20141802349692248,
          0.5273007509178738,
          0.4103317870395019,
          0.3142227108077083,
          0.11910459277010281,
          0.33992683047083727,
          0.2676259668083034,
          0.4872068039863451,
          0.31872364725743957,
          0.2610462354544919,
          0.16322236715802713,
          0.3347152054009237,
          0.2695422242978631,
          0.17561506986911912,
          0.3780572642303379,
          0.3080210109553214,
          0.47048414194407107,
          0.1555548090864376,
          0.3336660977875305,
          0.1376327575541681,
          0.39606601733501884,
          0.527862647140875,
          0.21213789633017655,
          0.24661162866716857,
          0.29916576975057074,
          0.34140091956663676,
          0.23912289013790894,
          0.23921329589667448,
          0.2926981970926328,
          0.37178891800817454,
          0.03879630789492459,
          0.1917070353386285,
          0.49982585586265504,
          0.2270323327352949,
          0.5710513923217947,
          0.24670265875395075,
          0.38359702324466033,
          0.25067313477577996,
          0.30126963781478033,
          0.46928260549921297,
          0.12386088581177365,
          0.2833782977542055,
          0.14673599440925825,
          0.32004536495735497,
          0.2060532309484539,
          0.2669201084219678,
          0.45272504707543304,
          0.2660471511124011,
          0.37744846965218287,
          0.27840867453276463,
          0.15195017604544356,
          0.1827626983048631,
          0.3266053609341183,
          0.18380920168210318,
          0.1562904760451023,
          0.2960445183576405,
          0.39276087616695965,
          0.33004685722954896,
          0.31652684541311243,
          0.194613854199237,
          0.2784070417110047,
          0.3058399384483787,
          0.28881445800890776,
          0.39422242602297136,
          0.34292570447132525,
          0.30935091077995264,
          0.3589580280437595,
          0.28338925403723003,
          0.12153814099425725,
          0.2646355855138071,
          0.15462561814706371,
          0.15435943451828565,
          0.6147525664826536,
          0.16247877833633662,
          0.3590717313778682,
          0.14320491510602051,
          0.2774734546472153,
          0.2112358297988007,
          0.15443956200675513,
          0.41903601352948333,
          0.5243931165565082,
          0.00416292180026778,
          0.5964507459107207,
          0.16625074495920494,
          0.32511571573139514,
          0.09407154138522682,
          0.34160015884508,
          0.30371554486451124,
          0.27515683306505595,
          0.3667566011762863,
          0.36049020951128086,
          0.30666826339770403,
          0.24860055105614862,
          0.3667714362048772,
          0.18354825986651913,
          0.2539566454298313,
          0.11174009180036709,
          0.2533587279061866,
          0.28274514163750797,
          0.29875966107954155,
          0.41336752304769225,
          0.41335909759890643,
          0.3063940175586645,
          0.2744386470016118,
          0.17830794778929585,
          0.29377599175429847,
          0.15892822294616166,
          0.2858351852998379,
          0.4998636383199932,
          0.09314827936041414,
          0.23062479084554532,
          0.5299578344531054,
          0.2815987606339628,
          0.3251517884419995,
          0.12465970515048158,
          0.4110172499780495,
          0.3753792140605035,
          0.2424766182917083,
          0.49885210689348763,
          0.24374026524999481,
          0.25428186767443983,
          0.3879198512804454,
          0.17243965218058097,
          0.29671644224470867,
          0.39429192644206906,
          0.16524214861309883,
          0.28528447309009386,
          0.2311051560452557,
          0.3680391693126592,
          0.614779495363459,
          0.25093075461438596,
          0.2771117081821074,
          0.5402591659594671,
          0.3244891238895395,
          0.18791257115728133,
          0.24282692814175905,
          0.2938463402017557,
          0.39048145720370114,
          0.2124005444549635,
          0.24354853789404032,
          0.3699675798512188,
          0.14447769472866545,
          0.24328123124199988,
          0.3844233140867903,
          0.22351671654437594,
          0.395609124441448,
          0.40590358984554953,
          0.30640921537230253,
          0.11741108420711305,
          0.2697219827327399,
          0.07926926652981459,
          0.4358729711249482,
          0.4529919243819776,
          0.3134297760838742,
          0.09569184733591002,
          0.3315450185904621,
          0.2930035819071833,
          0.4827389279323995,
          0.3018070404878549,
          0.30254014607535984,
          0.19511765080432336,
          0.3986337657615453,
          0.33201732322294697,
          0.3839883968293853,
          0.23267807381772407,
          0.27219918081254596,
          0.1422455765917363,
          0.1262603453724541,
          0.3703241639955865,
          0.34486938124722066,
          0.29841544331300157,
          0.41343652525425756,
          0.2707041560137632,
          0.32649451083479125,
          0.3328460093292577,
          0.3461718233042984,
          0.4425122048403491,
          0.48073359232400403,
          0.48514535681965887,
          0.2562158294395089,
          0.18232058251106115,
          0.33876698202220723,
          0.2462376362909048,
          0.35564767470044983,
          0.23750608073794027,
          0.4463430614374103,
          0.22891997299333133,
          0.08989139642549634,
          0.4292173684082118,
          0.1438272160704474,
          0.5189710969421898,
          0.23597580671339335,
          0.29057593648191793,
          0.35317530069019043,
          0.2454553032957781,
          0.4316635457296132,
          0.2692776936662882,
          0.1800197023809163,
          0.4914054053064289,
          0.45053195607126717,
          0.2319626596241132,
          0.1720635753448906,
          0.22234702675447343,
          0.10695158359239323,
          0.30968778330611185,
          0.20615043336133848,
          0.29909486518520767,
          0.2817311139412614,
          0.23540861153238693,
          0.30982200533201887,
          0.3519253263768848,
          0.17166055841781197,
          0.14319694615893627,
          0.2187542212752313,
          0.041319163624915264,
          0.46474018594083133,
          0.5178675409521771,
          0.1933252054858716,
          0.3679221117567412,
          0.20858259637155127,
          0.40598423204469414,
          0.3490411578117854,
          0.26606894529202213,
          0.34810203896570935,
          0.418562367499092,
          0.29627422247514934,
          0.18818035167149705,
          0.0862474473887602,
          0.17011201393920589,
          0.6098452956566887,
          0.2586343169309736,
          0.3372208076052957,
          0.13133881939522024,
          0.22873367622643997,
          0.47639135248687214,
          0.2173204365442244,
          0.18798364141939403,
          0.3361443425454707,
          0.13859267210730403,
          0.24127638985705574,
          0.3355823547866835,
          0.2492140550819273,
          0.25597948834027884,
          0.1582886614634511,
          0.23402993071589276,
          0.30162476852436637,
          0.343273937564654,
          0.20779788752152809,
          0.3822181096991652,
          0.3256069922406945,
          0.2626129902367204,
          0.248887581941136,
          0.13405203467965965,
          0.25728540360099067,
          0.18267285459209998,
          0.31741065680877106,
          0.2823625874271651,
          0.24967682411424322,
          0.4107490573613029,
          0.3319677896976464,
          0.2561014161581236,
          0.31791527305847167,
          0.34528357812046245,
          0.30994211596805565,
          0.37344473196912154,
          0.3162551437907768,
          0.558973777881108,
          0.480462473427571,
          0.09798963640024079,
          0.2954561747521707,
          0.3027815170122843,
          0.309822005332019,
          0.2845414839282091,
          0.25766204359193057,
          0.18593786564343306,
          0.14043156852630675,
          0.4805971476596039,
          0.26123486789506706,
          0.14009758623103727,
          0.36412536752392294,
          0.27470595026470984,
          0.40986833671433287,
          0.31462152514487945,
          0.5630271742338488,
          0.20234748264841815,
          0.29169091650996515,
          0.1385533833347674,
          0.17123488768937017,
          0.32933147288878906,
          0.1044934250681239
         ]
        }
       ],
       "layout": {
        "template": {
         "data": {
          "bar": [
           {
            "error_x": {
             "color": "#2a3f5f"
            },
            "error_y": {
             "color": "#2a3f5f"
            },
            "marker": {
             "line": {
              "color": "#E5ECF6",
              "width": 0.5
             },
             "pattern": {
              "fillmode": "overlay",
              "size": 10,
              "solidity": 0.2
             }
            },
            "type": "bar"
           }
          ],
          "barpolar": [
           {
            "marker": {
             "line": {
              "color": "#E5ECF6",
              "width": 0.5
             },
             "pattern": {
              "fillmode": "overlay",
              "size": 10,
              "solidity": 0.2
             }
            },
            "type": "barpolar"
           }
          ],
          "carpet": [
           {
            "aaxis": {
             "endlinecolor": "#2a3f5f",
             "gridcolor": "white",
             "linecolor": "white",
             "minorgridcolor": "white",
             "startlinecolor": "#2a3f5f"
            },
            "baxis": {
             "endlinecolor": "#2a3f5f",
             "gridcolor": "white",
             "linecolor": "white",
             "minorgridcolor": "white",
             "startlinecolor": "#2a3f5f"
            },
            "type": "carpet"
           }
          ],
          "choropleth": [
           {
            "colorbar": {
             "outlinewidth": 0,
             "ticks": ""
            },
            "type": "choropleth"
           }
          ],
          "contour": [
           {
            "colorbar": {
             "outlinewidth": 0,
             "ticks": ""
            },
            "colorscale": [
             [
              0,
              "#0d0887"
             ],
             [
              0.1111111111111111,
              "#46039f"
             ],
             [
              0.2222222222222222,
              "#7201a8"
             ],
             [
              0.3333333333333333,
              "#9c179e"
             ],
             [
              0.4444444444444444,
              "#bd3786"
             ],
             [
              0.5555555555555556,
              "#d8576b"
             ],
             [
              0.6666666666666666,
              "#ed7953"
             ],
             [
              0.7777777777777778,
              "#fb9f3a"
             ],
             [
              0.8888888888888888,
              "#fdca26"
             ],
             [
              1,
              "#f0f921"
             ]
            ],
            "type": "contour"
           }
          ],
          "contourcarpet": [
           {
            "colorbar": {
             "outlinewidth": 0,
             "ticks": ""
            },
            "type": "contourcarpet"
           }
          ],
          "heatmap": [
           {
            "colorbar": {
             "outlinewidth": 0,
             "ticks": ""
            },
            "colorscale": [
             [
              0,
              "#0d0887"
             ],
             [
              0.1111111111111111,
              "#46039f"
             ],
             [
              0.2222222222222222,
              "#7201a8"
             ],
             [
              0.3333333333333333,
              "#9c179e"
             ],
             [
              0.4444444444444444,
              "#bd3786"
             ],
             [
              0.5555555555555556,
              "#d8576b"
             ],
             [
              0.6666666666666666,
              "#ed7953"
             ],
             [
              0.7777777777777778,
              "#fb9f3a"
             ],
             [
              0.8888888888888888,
              "#fdca26"
             ],
             [
              1,
              "#f0f921"
             ]
            ],
            "type": "heatmap"
           }
          ],
          "histogram": [
           {
            "marker": {
             "pattern": {
              "fillmode": "overlay",
              "size": 10,
              "solidity": 0.2
             }
            },
            "type": "histogram"
           }
          ],
          "histogram2d": [
           {
            "colorbar": {
             "outlinewidth": 0,
             "ticks": ""
            },
            "colorscale": [
             [
              0,
              "#0d0887"
             ],
             [
              0.1111111111111111,
              "#46039f"
             ],
             [
              0.2222222222222222,
              "#7201a8"
             ],
             [
              0.3333333333333333,
              "#9c179e"
             ],
             [
              0.4444444444444444,
              "#bd3786"
             ],
             [
              0.5555555555555556,
              "#d8576b"
             ],
             [
              0.6666666666666666,
              "#ed7953"
             ],
             [
              0.7777777777777778,
              "#fb9f3a"
             ],
             [
              0.8888888888888888,
              "#fdca26"
             ],
             [
              1,
              "#f0f921"
             ]
            ],
            "type": "histogram2d"
           }
          ],
          "histogram2dcontour": [
           {
            "colorbar": {
             "outlinewidth": 0,
             "ticks": ""
            },
            "colorscale": [
             [
              0,
              "#0d0887"
             ],
             [
              0.1111111111111111,
              "#46039f"
             ],
             [
              0.2222222222222222,
              "#7201a8"
             ],
             [
              0.3333333333333333,
              "#9c179e"
             ],
             [
              0.4444444444444444,
              "#bd3786"
             ],
             [
              0.5555555555555556,
              "#d8576b"
             ],
             [
              0.6666666666666666,
              "#ed7953"
             ],
             [
              0.7777777777777778,
              "#fb9f3a"
             ],
             [
              0.8888888888888888,
              "#fdca26"
             ],
             [
              1,
              "#f0f921"
             ]
            ],
            "type": "histogram2dcontour"
           }
          ],
          "mesh3d": [
           {
            "colorbar": {
             "outlinewidth": 0,
             "ticks": ""
            },
            "type": "mesh3d"
           }
          ],
          "parcoords": [
           {
            "line": {
             "colorbar": {
              "outlinewidth": 0,
              "ticks": ""
             }
            },
            "type": "parcoords"
           }
          ],
          "pie": [
           {
            "automargin": true,
            "type": "pie"
           }
          ],
          "scatter": [
           {
            "fillpattern": {
             "fillmode": "overlay",
             "size": 10,
             "solidity": 0.2
            },
            "type": "scatter"
           }
          ],
          "scatter3d": [
           {
            "line": {
             "colorbar": {
              "outlinewidth": 0,
              "ticks": ""
             }
            },
            "marker": {
             "colorbar": {
              "outlinewidth": 0,
              "ticks": ""
             }
            },
            "type": "scatter3d"
           }
          ],
          "scattercarpet": [
           {
            "marker": {
             "colorbar": {
              "outlinewidth": 0,
              "ticks": ""
             }
            },
            "type": "scattercarpet"
           }
          ],
          "scattergeo": [
           {
            "marker": {
             "colorbar": {
              "outlinewidth": 0,
              "ticks": ""
             }
            },
            "type": "scattergeo"
           }
          ],
          "scattergl": [
           {
            "marker": {
             "colorbar": {
              "outlinewidth": 0,
              "ticks": ""
             }
            },
            "type": "scattergl"
           }
          ],
          "scattermap": [
           {
            "marker": {
             "colorbar": {
              "outlinewidth": 0,
              "ticks": ""
             }
            },
            "type": "scattermap"
           }
          ],
          "scattermapbox": [
           {
            "marker": {
             "colorbar": {
              "outlinewidth": 0,
              "ticks": ""
             }
            },
            "type": "scattermapbox"
           }
          ],
          "scatterpolar": [
           {
            "marker": {
             "colorbar": {
              "outlinewidth": 0,
              "ticks": ""
             }
            },
            "type": "scatterpolar"
           }
          ],
          "scatterpolargl": [
           {
            "marker": {
             "colorbar": {
              "outlinewidth": 0,
              "ticks": ""
             }
            },
            "type": "scatterpolargl"
           }
          ],
          "scatterternary": [
           {
            "marker": {
             "colorbar": {
              "outlinewidth": 0,
              "ticks": ""
             }
            },
            "type": "scatterternary"
           }
          ],
          "surface": [
           {
            "colorbar": {
             "outlinewidth": 0,
             "ticks": ""
            },
            "colorscale": [
             [
              0,
              "#0d0887"
             ],
             [
              0.1111111111111111,
              "#46039f"
             ],
             [
              0.2222222222222222,
              "#7201a8"
             ],
             [
              0.3333333333333333,
              "#9c179e"
             ],
             [
              0.4444444444444444,
              "#bd3786"
             ],
             [
              0.5555555555555556,
              "#d8576b"
             ],
             [
              0.6666666666666666,
              "#ed7953"
             ],
             [
              0.7777777777777778,
              "#fb9f3a"
             ],
             [
              0.8888888888888888,
              "#fdca26"
             ],
             [
              1,
              "#f0f921"
             ]
            ],
            "type": "surface"
           }
          ],
          "table": [
           {
            "cells": {
             "fill": {
              "color": "#EBF0F8"
             },
             "line": {
              "color": "white"
             }
            },
            "header": {
             "fill": {
              "color": "#C8D4E3"
             },
             "line": {
              "color": "white"
             }
            },
            "type": "table"
           }
          ]
         },
         "layout": {
          "annotationdefaults": {
           "arrowcolor": "#2a3f5f",
           "arrowhead": 0,
           "arrowwidth": 1
          },
          "autotypenumbers": "strict",
          "coloraxis": {
           "colorbar": {
            "outlinewidth": 0,
            "ticks": ""
           }
          },
          "colorscale": {
           "diverging": [
            [
             0,
             "#8e0152"
            ],
            [
             0.1,
             "#c51b7d"
            ],
            [
             0.2,
             "#de77ae"
            ],
            [
             0.3,
             "#f1b6da"
            ],
            [
             0.4,
             "#fde0ef"
            ],
            [
             0.5,
             "#f7f7f7"
            ],
            [
             0.6,
             "#e6f5d0"
            ],
            [
             0.7,
             "#b8e186"
            ],
            [
             0.8,
             "#7fbc41"
            ],
            [
             0.9,
             "#4d9221"
            ],
            [
             1,
             "#276419"
            ]
           ],
           "sequential": [
            [
             0,
             "#0d0887"
            ],
            [
             0.1111111111111111,
             "#46039f"
            ],
            [
             0.2222222222222222,
             "#7201a8"
            ],
            [
             0.3333333333333333,
             "#9c179e"
            ],
            [
             0.4444444444444444,
             "#bd3786"
            ],
            [
             0.5555555555555556,
             "#d8576b"
            ],
            [
             0.6666666666666666,
             "#ed7953"
            ],
            [
             0.7777777777777778,
             "#fb9f3a"
            ],
            [
             0.8888888888888888,
             "#fdca26"
            ],
            [
             1,
             "#f0f921"
            ]
           ],
           "sequentialminus": [
            [
             0,
             "#0d0887"
            ],
            [
             0.1111111111111111,
             "#46039f"
            ],
            [
             0.2222222222222222,
             "#7201a8"
            ],
            [
             0.3333333333333333,
             "#9c179e"
            ],
            [
             0.4444444444444444,
             "#bd3786"
            ],
            [
             0.5555555555555556,
             "#d8576b"
            ],
            [
             0.6666666666666666,
             "#ed7953"
            ],
            [
             0.7777777777777778,
             "#fb9f3a"
            ],
            [
             0.8888888888888888,
             "#fdca26"
            ],
            [
             1,
             "#f0f921"
            ]
           ]
          },
          "colorway": [
           "#636efa",
           "#EF553B",
           "#00cc96",
           "#ab63fa",
           "#FFA15A",
           "#19d3f3",
           "#FF6692",
           "#B6E880",
           "#FF97FF",
           "#FECB52"
          ],
          "font": {
           "color": "#2a3f5f"
          },
          "geo": {
           "bgcolor": "white",
           "lakecolor": "white",
           "landcolor": "#E5ECF6",
           "showlakes": true,
           "showland": true,
           "subunitcolor": "white"
          },
          "hoverlabel": {
           "align": "left"
          },
          "hovermode": "closest",
          "mapbox": {
           "style": "light"
          },
          "paper_bgcolor": "white",
          "plot_bgcolor": "#E5ECF6",
          "polar": {
           "angularaxis": {
            "gridcolor": "white",
            "linecolor": "white",
            "ticks": ""
           },
           "bgcolor": "#E5ECF6",
           "radialaxis": {
            "gridcolor": "white",
            "linecolor": "white",
            "ticks": ""
           }
          },
          "scene": {
           "xaxis": {
            "backgroundcolor": "#E5ECF6",
            "gridcolor": "white",
            "gridwidth": 2,
            "linecolor": "white",
            "showbackground": true,
            "ticks": "",
            "zerolinecolor": "white"
           },
           "yaxis": {
            "backgroundcolor": "#E5ECF6",
            "gridcolor": "white",
            "gridwidth": 2,
            "linecolor": "white",
            "showbackground": true,
            "ticks": "",
            "zerolinecolor": "white"
           },
           "zaxis": {
            "backgroundcolor": "#E5ECF6",
            "gridcolor": "white",
            "gridwidth": 2,
            "linecolor": "white",
            "showbackground": true,
            "ticks": "",
            "zerolinecolor": "white"
           }
          },
          "shapedefaults": {
           "line": {
            "color": "#2a3f5f"
           }
          },
          "ternary": {
           "aaxis": {
            "gridcolor": "white",
            "linecolor": "white",
            "ticks": ""
           },
           "baxis": {
            "gridcolor": "white",
            "linecolor": "white",
            "ticks": ""
           },
           "bgcolor": "#E5ECF6",
           "caxis": {
            "gridcolor": "white",
            "linecolor": "white",
            "ticks": ""
           }
          },
          "title": {
           "x": 0.05
          },
          "xaxis": {
           "automargin": true,
           "gridcolor": "white",
           "linecolor": "white",
           "ticks": "",
           "title": {
            "standoff": 15
           },
           "zerolinecolor": "white",
           "zerolinewidth": 2
          },
          "yaxis": {
           "automargin": true,
           "gridcolor": "white",
           "linecolor": "white",
           "ticks": "",
           "title": {
            "standoff": 15
           },
           "zerolinecolor": "white",
           "zerolinewidth": 2
          }
         }
        },
        "title": {
         "text": "Sample of Random Portfolios"
        },
        "xaxis": {
         "title": {
          "text": "Volatility (Standard Deviation)"
         }
        },
        "yaxis": {
         "title": {
          "text": "Annualised Returns"
         }
        }
       }
      }
     },
     "metadata": {},
     "output_type": "display_data"
    }
   ],
   "source": [
    "fig1 = go.Figure()\n",
    "\n",
    "fig1.add_trace(go.Scatter(\n",
    "    x=[p[\"variance\"]**0.5 for p in all_portfolios],\n",
    "    y=[p[\"return\"] for p in all_portfolios],\n",
    "    mode='markers',\n",
    "    marker=dict(\n",
    "        color=[p[\"return\"] / (p[\"variance\"]**0.5) for p in all_portfolios],\n",
    "        showscale=True,\n",
    "        size=7,\n",
    "        line=dict(width=1),\n",
    "        colorscale=\"RdBu\",\n",
    "        colorbar=dict(title=\"Sharpe<br>Ratio\")\n",
    "    ),\n",
    "    hoverinfo='text',\n",
    "    text=[\n",
    "        f\"Return: {p['return']:.2%}<br>Volatility: {p['variance']**0.5:.2f}<br>\" +\n",
    "        \"<br>\".join([f\"{p['tickers'][i]}: Weight={p['weights'][i]:.2f}\" for i in range(len(p['tickers']))])\n",
    "        for p in all_portfolios\n",
    "    ]\n",
    "))\n",
    "\n",
    "fig1.update_layout(\n",
    "    xaxis=dict(title='Volatility (Standard Deviation)'),\n",
    "    yaxis=dict(title='Annualised Returns'),\n",
    "    title='Sample of Random Portfolios'\n",
    ")\n",
    "\n",
    "fig1.show()"
   ]
  },
  {
   "cell_type": "code",
   "execution_count": 135,
   "metadata": {},
   "outputs": [
    {
     "data": {
      "application/vnd.plotly.v1+json": {
       "config": {
        "plotlyServerURL": "https://plot.ly"
       },
       "data": [
        {
         "hoverinfo": "text",
         "marker": {
          "color": [
           3.526964917667914,
           2.420819786421685,
           4.163781825058359,
           2.135620514520765,
           3.9027910285508294,
           3.519043241987225,
           1.5782447356235623,
           3.6983366969514755,
           0.9758873936614706,
           3.1590620167701764,
           3.8313048742970968,
           3.523870856594231,
           1.6578874504616086,
           4.638698927066364,
           3.475622009215815,
           3.20716824828809,
           4.574226052474459,
           2.0366231882588255,
           2.934481531569088,
           2.932549390944812,
           3.4159281709253566,
           4.11792622241963,
           3.5214595225443164,
           2.243748482576577,
           2.3893958889068068,
           3.8017355550907324,
           2.5975766841230996,
           4.493357193160605,
           3.0906064398023805,
           2.9965891617677483,
           4.059736585189429,
           3.0718434935141583,
           3.3085061564052523,
           3.128534334388934,
           3.1405852785122153,
           2.816667181627303,
           3.178543338587034,
           2.246405952123755,
           2.2826839763928297,
           3.193950732460852,
           4.369076714957867,
           3.4140775792014497,
           3.7433663308973038,
           4.122648938991397,
           4.017799996533199,
           4.089583736935434,
           3.250246984318226,
           4.043492678957835,
           4.296119205295016,
           3.3306946018955235,
           4.744821806905015,
           4.375431847886152,
           3.497800969612501,
           4.174948569523883,
           3.9074915363621816
          ],
          "colorbar": {
           "title": {
            "text": "Sharpe<br>Ratio"
           }
          },
          "colorscale": [
           [
            0,
            "rgb(103,0,31)"
           ],
           [
            0.1,
            "rgb(178,24,43)"
           ],
           [
            0.2,
            "rgb(214,96,77)"
           ],
           [
            0.3,
            "rgb(244,165,130)"
           ],
           [
            0.4,
            "rgb(253,219,199)"
           ],
           [
            0.5,
            "rgb(247,247,247)"
           ],
           [
            0.6,
            "rgb(209,229,240)"
           ],
           [
            0.7,
            "rgb(146,197,222)"
           ],
           [
            0.8,
            "rgb(67,147,195)"
           ],
           [
            0.9,
            "rgb(33,102,172)"
           ],
           [
            1,
            "rgb(5,48,97)"
           ]
          ],
          "line": {
           "width": 1
          },
          "showscale": true,
          "size": 7
         },
         "mode": "markers",
         "name": "Portfolios",
         "text": [
          "Return: 29.57%<br>Volatility: 0.08<br>LMT_Close: Weight=0.39<br>MCD_Close: Weight=0.43<br>WFC_Close: Weight=0.00<br>GOOG_Close: Weight=0.13<br>XOM_Close: Weight=0.05",
          "Return: 36.15%<br>Volatility: 0.15<br>KR_Close: Weight=0.00<br>MSFT_Close: Weight=0.96<br>SYK_Close: Weight=0.04",
          "Return: 39.80%<br>Volatility: 0.10<br>BA_Close: Weight=0.40<br>V_Close: Weight=0.25<br>NEE_Close: Weight=0.35<br>DIS_Close: Weight=0.00",
          "Return: 66.75%<br>Volatility: 0.31<br>NVDA_Close: Weight=0.67<br>NFLX_Close: Weight=0.33<br>GS_Close: Weight=0.00",
          "Return: 34.87%<br>Volatility: 0.09<br>BA_Close: Weight=0.39<br>SYY_Close: Weight=0.13<br>META_Close: Weight=0.10<br>KO_Close: Weight=0.30<br>GOOGL_Close: Weight=0.08",
          "Return: 50.04%<br>Volatility: 0.14<br>SAP_Close: Weight=0.26<br>BA_Close: Weight=0.74<br>SRE_Close: Weight=0.00",
          "Return: 12.86%<br>Volatility: 0.08<br>CSCO_Close: Weight=0.22<br>IBM_Close: Weight=0.00<br>DUK_Close: Weight=0.33<br>RTX_Close: Weight=0.38<br>BMY_Close: Weight=0.07",
          "Return: 40.22%<br>Volatility: 0.11<br>CPB_Close: Weight=0.00<br>CAT_Close: Weight=0.46<br>GS_Close: Weight=0.00<br>GOOG_Close: Weight=0.25<br>PEP_Close: Weight=0.29",
          "Return: 7.93%<br>Volatility: 0.08<br>CMCSA_Close: Weight=0.14<br>PG_Close: Weight=0.26<br>AMGN_Close: Weight=0.00<br>PFE_Close: Weight=0.60",
          "Return: 24.32%<br>Volatility: 0.08<br>XOM_Close: Weight=0.07<br>ISRG_Close: Weight=0.30<br>KO_Close: Weight=0.38<br>CRM_Close: Weight=0.06<br>SYY_Close: Weight=0.19",
          "Return: 53.07%<br>Volatility: 0.14<br>TXN_Close: Weight=0.30<br>VRTX_Close: Weight=0.10<br>BA_Close: Weight=0.61<br>PM_Close: Weight=0.00",
          "Return: 42.19%<br>Volatility: 0.12<br>ABBV_Close: Weight=0.51<br>MMM_Close: Weight=0.39<br>NFLX_Close: Weight=0.10",
          "Return: 12.69%<br>Volatility: 0.08<br>GE_Close: Weight=0.00<br>KO_Close: Weight=0.82<br>NKE_Close: Weight=0.10<br>CMCSA_Close: Weight=0.08",
          "Return: 52.82%<br>Volatility: 0.11<br>BA_Close: Weight=0.46<br>ABBV_Close: Weight=0.39<br>GOOGL_Close: Weight=0.00<br>AAPL_Close: Weight=0.06<br>INTC_Close: Weight=0.10",
          "Return: 53.35%<br>Volatility: 0.15<br>VZ_Close: Weight=0.00<br>BA_Close: Weight=0.87<br>AMGN_Close: Weight=0.00<br>NKE_Close: Weight=0.13",
          "Return: 26.45%<br>Volatility: 0.08<br>INTC_Close: Weight=0.23<br>F_Close: Weight=0.03<br>NEE_Close: Weight=0.46<br>ABT_Close: Weight=0.29<br>ZBH_Close: Weight=0.00",
          "Return: 51.80%<br>Volatility: 0.11<br>MSFT_Close: Weight=0.26<br>MRK_Close: Weight=0.00<br>BA_Close: Weight=0.39<br>PFE_Close: Weight=0.06<br>CAT_Close: Weight=0.29",
          "Return: 15.17%<br>Volatility: 0.07<br>JPM_Close: Weight=0.34<br>EXC_Close: Weight=0.24<br>BAC_Close: Weight=0.00<br>WFC_Close: Weight=0.00<br>PEP_Close: Weight=0.41",
          "Return: 54.11%<br>Volatility: 0.18<br>BAC_Close: Weight=0.25<br>PYPL_Close: Weight=0.75<br>PM_Close: Weight=0.00<br>CPB_Close: Weight=0.00",
          "Return: 57.72%<br>Volatility: 0.20<br>PYPL_Close: Weight=0.72<br>GS_Close: Weight=0.00<br>CPB_Close: Weight=0.00<br>AMZN_Close: Weight=0.28",
          "Return: 59.54%<br>Volatility: 0.17<br>BSX_Close: Weight=0.00<br>IBM_Close: Weight=0.00<br>BA_Close: Weight=1.00<br>GE_Close: Weight=0.00",
          "Return: 53.42%<br>Volatility: 0.13<br>VRTX_Close: Weight=0.12<br>COST_Close: Weight=0.00<br>RMD_Close: Weight=0.07<br>CAT_Close: Weight=0.46<br>WMT_Close: Weight=0.36",
          "Return: 30.79%<br>Volatility: 0.09<br>MCD_Close: Weight=0.46<br>IBM_Close: Weight=0.00<br>GOOG_Close: Weight=0.13<br>LMT_Close: Weight=0.41",
          "Return: 15.71%<br>Volatility: 0.07<br>KO_Close: Weight=0.58<br>CVX_Close: Weight=0.16<br>EW_Close: Weight=0.12<br>BAC_Close: Weight=0.14",
          "Return: 17.86%<br>Volatility: 0.07<br>DHR_Close: Weight=0.07<br>NEE_Close: Weight=0.49<br>BMY_Close: Weight=0.07<br>KO_Close: Weight=0.37",
          "Return: 42.60%<br>Volatility: 0.11<br>LMT_Close: Weight=0.23<br>ACN_Close: Weight=0.27<br>BA_Close: Weight=0.50<br>ZBH_Close: Weight=0.00",
          "Return: 19.29%<br>Volatility: 0.07<br>LMT_Close: Weight=0.54<br>ZBH_Close: Weight=0.00<br>BSX_Close: Weight=0.00<br>KO_Close: Weight=0.46",
          "Return: 59.28%<br>Volatility: 0.13<br>ABBV_Close: Weight=0.46<br>VRTX_Close: Weight=0.07<br>F_Close: Weight=0.00<br>CAT_Close: Weight=0.47",
          "Return: 22.43%<br>Volatility: 0.07<br>ABT_Close: Weight=0.22<br>BAC_Close: Weight=0.12<br>MMM_Close: Weight=0.21<br>SAP_Close: Weight=0.14<br>AEP_Close: Weight=0.31",
          "Return: 21.44%<br>Volatility: 0.07<br>GM_Close: Weight=0.05<br>HON_Close: Weight=0.45<br>KO_Close: Weight=0.34<br>META_Close: Weight=0.17",
          "Return: 42.63%<br>Volatility: 0.11<br>MMM_Close: Weight=0.23<br>ACN_Close: Weight=0.20<br>AMZN_Close: Weight=0.13<br>BA_Close: Weight=0.43<br>SYK_Close: Weight=0.01",
          "Return: 23.06%<br>Volatility: 0.08<br>AEP_Close: Weight=0.23<br>ABT_Close: Weight=0.23<br>SYY_Close: Weight=0.10<br>HON_Close: Weight=0.44",
          "Return: 25.01%<br>Volatility: 0.08<br>TXN_Close: Weight=0.19<br>JPM_Close: Weight=0.19<br>MSFT_Close: Weight=0.22<br>AEP_Close: Weight=0.40",
          "Return: 25.33%<br>Volatility: 0.08<br>TSLA_Close: Weight=0.02<br>ISRG_Close: Weight=0.32<br>CPB_Close: Weight=0.00<br>BAC_Close: Weight=0.15<br>KO_Close: Weight=0.51",
          "Return: 23.14%<br>Volatility: 0.07<br>LMT_Close: Weight=0.32<br>DUK_Close: Weight=0.02<br>SAP_Close: Weight=0.03<br>TXN_Close: Weight=0.26<br>KO_Close: Weight=0.37",
          "Return: 65.17%<br>Volatility: 0.23<br>PYPL_Close: Weight=1.00<br>UA_Close: Weight=0.00<br>GE_Close: Weight=0.00",
          "Return: 25.49%<br>Volatility: 0.08<br>AEP_Close: Weight=0.27<br>INTC_Close: Weight=0.15<br>DIS_Close: Weight=0.02<br>V_Close: Weight=0.35<br>ACN_Close: Weight=0.21",
          "Return: 15.15%<br>Volatility: 0.07<br>KO_Close: Weight=0.52<br>JPM_Close: Weight=0.30<br>ZBH_Close: Weight=0.00<br>MS_Close: Weight=0.00<br>EXC_Close: Weight=0.18",
          "Return: 15.79%<br>Volatility: 0.07<br>JPM_Close: Weight=0.24<br>GM_Close: Weight=0.05<br>RMD_Close: Weight=0.12<br>KO_Close: Weight=0.59",
          "Return: 25.04%<br>Volatility: 0.08<br>UA_Close: Weight=0.00<br>GOOGL_Close: Weight=0.09<br>LMT_Close: Weight=0.30<br>ISRG_Close: Weight=0.22<br>KO_Close: Weight=0.39",
          "Return: 40.87%<br>Volatility: 0.09<br>SO_Close: Weight=0.00<br>MCD_Close: Weight=0.39<br>BA_Close: Weight=0.39<br>KO_Close: Weight=0.22",
          "Return: 28.57%<br>Volatility: 0.08<br>HD_Close: Weight=0.35<br>AEP_Close: Weight=0.29<br>SRE_Close: Weight=0.00<br>ORCL_Close: Weight=0.08<br>WMT_Close: Weight=0.27",
          "Return: 32.67%<br>Volatility: 0.09<br>NEE_Close: Weight=0.35<br>MA_Close: Weight=0.31<br>CMCSA_Close: Weight=0.05<br>WMT_Close: Weight=0.28<br>CSCO_Close: Weight=0.00",
          "Return: 38.14%<br>Volatility: 0.09<br>XOM_Close: Weight=0.00<br>SAP_Close: Weight=0.08<br>CAT_Close: Weight=0.34<br>NEE_Close: Weight=0.38<br>ACN_Close: Weight=0.20",
          "Return: 44.23%<br>Volatility: 0.11<br>BABA_Close: Weight=0.21<br>WMT_Close: Weight=0.31<br>MCD_Close: Weight=0.48",
          "Return: 45.46%<br>Volatility: 0.11<br>NVDA_Close: Weight=0.10<br>AAPL_Close: Weight=0.06<br>CRM_Close: Weight=0.03<br>BA_Close: Weight=0.50<br>JNJ_Close: Weight=0.31",
          "Return: 64.11%<br>Volatility: 0.20<br>CAT_Close: Weight=1.00<br>F_Close: Weight=0.00<br>T_Close: Weight=0.00",
          "Return: 35.86%<br>Volatility: 0.09<br>MMM_Close: Weight=0.24<br>MA_Close: Weight=0.02<br>NEE_Close: Weight=0.26<br>MCD_Close: Weight=0.32<br>PYPL_Close: Weight=0.16",
          "Return: 61.60%<br>Volatility: 0.14<br>CAT_Close: Weight=0.45<br>BA_Close: Weight=0.55<br>WFC_Close: Weight=0.00<br>K_Close: Weight=0.00",
          "Return: 27.84%<br>Volatility: 0.08<br>SNAP_Close: Weight=0.00<br>SO_Close: Weight=0.00<br>NEE_Close: Weight=0.52<br>HD_Close: Weight=0.48<br>PM_Close: Weight=0.00",
          "Return: 39.42%<br>Volatility: 0.08<br>MMM_Close: Weight=0.17<br>BMY_Close: Weight=0.00<br>BA_Close: Weight=0.30<br>NEE_Close: Weight=0.22<br>MCD_Close: Weight=0.30",
          "Return: 53.00%<br>Volatility: 0.12<br>PFE_Close: Weight=0.09<br>BA_Close: Weight=0.43<br>META_Close: Weight=0.13<br>CAT_Close: Weight=0.35",
          "Return: 26.61%<br>Volatility: 0.08<br>KO_Close: Weight=0.27<br>HD_Close: Weight=0.34<br>V_Close: Weight=0.38<br>BSX_Close: Weight=0.00<br>CSCO_Close: Weight=0.00",
          "Return: 41.86%<br>Volatility: 0.10<br>UNH_Close: Weight=0.23<br>ABBV_Close: Weight=0.28<br>V_Close: Weight=0.24<br>DE_Close: Weight=0.24",
          "Return: 31.63%<br>Volatility: 0.08<br>HD_Close: Weight=0.31<br>DE_Close: Weight=0.25<br>CPB_Close: Weight=0.00<br>NEE_Close: Weight=0.44"
         ],
         "type": "scatter",
         "x": [
          0.0838382983959751,
          0.14931234441277128,
          0.09557446548222061,
          0.3125745515433,
          0.08934669874312445,
          0.14220455904596127,
          0.08150882407766756,
          0.10876173158823672,
          0.08122715186057013,
          0.07699117338014495,
          0.13852591804438869,
          0.11971902975493258,
          0.07653267870943326,
          0.11387248011167747,
          0.15349155656383065,
          0.0824704313168761,
          0.11324002077071396,
          0.07446615329891727,
          0.1843820120995101,
          0.19682016972802138,
          0.17430321875590146,
          0.12972682609475186,
          0.08742540762875056,
          0.07002132584663688,
          0.07475350863642177,
          0.11204657185621117,
          0.07426390585377822,
          0.1319311585053591,
          0.07256541794726765,
          0.07156252882565355,
          0.10500274675517875,
          0.07508071526787836,
          0.07560027135831021,
          0.08097988788522374,
          0.07367546095953277,
          0.2313712472069639,
          0.08019777689985923,
          0.06744667741033136,
          0.06916566145495127,
          0.07838473126078005,
          0.09353690486886371,
          0.08369567730523766,
          0.08727040600656634,
          0.09250894737930986,
          0.1100935471159371,
          0.1111577312945734,
          0.1972381006275322,
          0.08867954701293325,
          0.1433795765651308,
          0.08358828262205763,
          0.08308476947422341,
          0.12112126365518351,
          0.07606749143348147,
          0.10025569429872652,
          0.08093559278319148
         ],
         "y": [
          0.29569473719957834,
          0.361458277711446,
          0.39795122231453767,
          0.6675406245929997,
          0.3487014942852998,
          0.5004239924904633,
          0.12864087250744588,
          0.4022375031567624,
          0.07926855352375625,
          0.24321989145178305,
          0.5307350250199465,
          0.4218743999331445,
          0.12688256758257974,
          0.5282201513164242,
          0.5334786322220441,
          0.26449654874210876,
          0.5179854531921486,
          0.15165949454901134,
          0.5410656092595606,
          0.5771848688615636,
          0.5954072752312488,
          0.5342054989268499,
          0.3078650342065822,
          0.15711024361639156,
          0.17861572621722566,
          0.4259714360517866,
          0.19290619031768727,
          0.5928138200720673,
          0.22427114801477663,
          0.21444349826764547,
          0.4262834925473798,
          0.2306362066840213,
          0.250123963214877,
          0.25334835964388897,
          0.23138406807711007,
          0.6516957987800329,
          0.25491210953453664,
          0.1515126175855392,
          0.15788334711982843,
          0.2503569698241155,
          0.4086699130517816,
          0.2857435353638915,
          0.32668509952871827,
          0.3813819137605228,
          0.4423338532207397,
          0.4545888501369263,
          0.6410725417572912,
          0.3585750991200928,
          0.6159757525285257,
          0.2784070417110047,
          0.39422242602297136,
          0.5299578344531054,
          0.26606894529202213,
          0.418562367499092,
          0.3162551437907768
         ]
        },
        {
         "hoverinfo": "text",
         "hovertext": [
          "SO_Close <br>Volatility: 0.12 <br>Returns: -1.26% <br>Sharpe Ratio: -0.11",
          "MS_Close <br>Volatility: 0.20 <br>Returns: 16.83% <br>Sharpe Ratio: 0.86",
          "SYY_Close <br>Volatility: 0.16 <br>Returns: 19.12% <br>Sharpe Ratio: 1.19",
          "SYK_Close <br>Volatility: 0.16 <br>Returns: 21.73% <br>Sharpe Ratio: 1.40",
          "MDT_Close <br>Volatility: 0.15 <br>Returns: 0.82% <br>Sharpe Ratio: 0.05",
          "CPB_Close <br>Volatility: 0.24 <br>Returns: -23.67% <br>Sharpe Ratio: -0.98",
          "MMM_Close <br>Volatility: 0.13 <br>Returns: 27.77% <br>Sharpe Ratio: 2.12",
          "NFLX_Close <br>Volatility: 0.29 <br>Returns: 38.28% <br>Sharpe Ratio: 1.33",
          "AMD_Close <br>Volatility: 0.58 <br>Returns: -36.20% <br>Sharpe Ratio: -0.62",
          "INTC_Close <br>Volatility: 0.18 <br>Returns: 32.63% <br>Sharpe Ratio: 1.86",
          "T_Close <br>Volatility: 0.18 <br>Returns: -3.53% <br>Sharpe Ratio: -0.20",
          "PG_Close <br>Volatility: 0.10 <br>Returns: 4.02% <br>Sharpe Ratio: 0.41",
          "QCOM_Close <br>Volatility: 0.24 <br>Returns: 18.78% <br>Sharpe Ratio: 0.79",
          "KO_Close <br>Volatility: 0.09 <br>Returns: 13.24% <br>Sharpe Ratio: 1.53",
          "IBM_Close <br>Volatility: 0.16 <br>Returns: -15.90% <br>Sharpe Ratio: -1.01",
          "EXC_Close <br>Volatility: 0.13 <br>Returns: 12.63% <br>Sharpe Ratio: 0.96",
          "GS_Close <br>Volatility: 0.20 <br>Returns: 2.94% <br>Sharpe Ratio: 0.15",
          "MSFT_Close <br>Volatility: 0.15 <br>Returns: 36.72% <br>Sharpe Ratio: 2.42",
          "PFE_Close <br>Volatility: 0.11 <br>Returns: 9.22% <br>Sharpe Ratio: 0.85",
          "MRK_Close <br>Volatility: 0.15 <br>Returns: -15.66% <br>Sharpe Ratio: -1.04",
          "NKE_Close <br>Volatility: 0.23 <br>Returns: 10.70% <br>Sharpe Ratio: 0.47",
          "ZBH_Close <br>Volatility: 0.19 <br>Returns: 3.62% <br>Sharpe Ratio: 0.19",
          "VRTX_Close <br>Volatility: 0.38 <br>Returns: 61.33% <br>Sharpe Ratio: 1.59",
          "SRE_Close <br>Volatility: 0.13 <br>Returns: 0.42% <br>Sharpe Ratio: 0.03",
          "DUK_Close <br>Volatility: 0.09 <br>Returns: 6.18% <br>Sharpe Ratio: 0.66",
          "PM_Close <br>Volatility: 0.14 <br>Returns: -0.16% <br>Sharpe Ratio: -0.01",
          "AMZN_Close <br>Volatility: 0.21 <br>Returns: 38.44% <br>Sharpe Ratio: 1.81",
          "TSLA_Close <br>Volatility: 0.36 <br>Returns: 26.10% <br>Sharpe Ratio: 0.73",
          "EW_Close <br>Volatility: 0.23 <br>Returns: 22.60% <br>Sharpe Ratio: 0.97",
          "GE_Close <br>Volatility: 0.21 <br>Returns: -62.75% <br>Sharpe Ratio: -2.95",
          "K_Close <br>Volatility: 0.18 <br>Returns: -9.01% <br>Sharpe Ratio: -0.50",
          "KR_Close <br>Volatility: 0.36 <br>Returns: -11.51% <br>Sharpe Ratio: -0.32",
          "BABA_Close <br>Volatility: 0.27 <br>Returns: 61.61% <br>Sharpe Ratio: 2.30",
          "LMT_Close <br>Volatility: 0.11 <br>Returns: 24.36% <br>Sharpe Ratio: 2.21",
          "BIIB_Close <br>Volatility: 0.23 <br>Returns: 9.80% <br>Sharpe Ratio: 0.43",
          "RMD_Close <br>Volatility: 0.20 <br>Returns: 20.34% <br>Sharpe Ratio: 1.01",
          "MA_Close <br>Volatility: 0.14 <br>Returns: 37.50% <br>Sharpe Ratio: 2.60",
          "BTI_Close <br>Volatility: 0.19 <br>Returns: 11.15% <br>Sharpe Ratio: 0.58",
          "MO_Close <br>Volatility: 0.18 <br>Returns: -2.75% <br>Sharpe Ratio: -0.15",
          "TMO_Close <br>Volatility: 0.16 <br>Returns: 21.55% <br>Sharpe Ratio: 1.32",
          "HON_Close <br>Volatility: 0.10 <br>Returns: 25.07% <br>Sharpe Ratio: 2.47",
          "RDY_Close <br>Volatility: 0.30 <br>Returns: -15.56% <br>Sharpe Ratio: -0.52",
          "PEP_Close <br>Volatility: 0.10 <br>Returns: 12.73% <br>Sharpe Ratio: 1.30",
          "ABT_Close <br>Volatility: 0.14 <br>Returns: 28.67% <br>Sharpe Ratio: 2.05",
          "RTX_Close <br>Volatility: 0.14 <br>Returns: 16.98% <br>Sharpe Ratio: 1.24",
          "AAPL_Close <br>Volatility: 0.18 <br>Returns: 25.04% <br>Sharpe Ratio: 1.42",
          "JPM_Close <br>Volatility: 0.16 <br>Returns: 19.92% <br>Sharpe Ratio: 1.28",
          "ORCL_Close <br>Volatility: 0.19 <br>Returns: 13.13% <br>Sharpe Ratio: 0.70",
          "CVX_Close <br>Volatility: 0.14 <br>Returns: 15.44% <br>Sharpe Ratio: 1.09",
          "AEP_Close <br>Volatility: 0.11 <br>Returns: 15.15% <br>Sharpe Ratio: 1.42",
          "GIS_Close <br>Volatility: 0.17 <br>Returns: -0.03% <br>Sharpe Ratio: -0.00",
          "BA_Close <br>Volatility: 0.17 <br>Returns: 59.54% <br>Sharpe Ratio: 3.42",
          "ETN_Close <br>Volatility: 0.16 <br>Returns: 13.76% <br>Sharpe Ratio: 0.89",
          "JNJ_Close <br>Volatility: 0.11 <br>Returns: 16.97% <br>Sharpe Ratio: 1.49",
          "CMCSA_Close <br>Volatility: 0.21 <br>Returns: 9.55% <br>Sharpe Ratio: 0.46",
          "COST_Close <br>Volatility: 0.20 <br>Returns: 11.21% <br>Sharpe Ratio: 0.56",
          "BAC_Close <br>Volatility: 0.21 <br>Returns: 20.36% <br>Sharpe Ratio: 0.97",
          "WMT_Close <br>Volatility: 0.18 <br>Returns: 43.06% <br>Sharpe Ratio: 2.37",
          "SAP_Close <br>Volatility: 0.14 <br>Returns: 22.38% <br>Sharpe Ratio: 1.63",
          "CSCO_Close <br>Volatility: 0.16 <br>Returns: 16.11% <br>Sharpe Ratio: 0.98",
          "DHR_Close <br>Volatility: 0.13 <br>Returns: 9.07% <br>Sharpe Ratio: 0.71",
          "REGN_Close <br>Volatility: 0.28 <br>Returns: 0.03% <br>Sharpe Ratio: 0.00",
          "CAT_Close <br>Volatility: 0.20 <br>Returns: 64.11% <br>Sharpe Ratio: 3.25",
          "XOM_Close <br>Volatility: 0.10 <br>Returns: 3.88% <br>Sharpe Ratio: 0.37",
          "TXN_Close <br>Volatility: 0.16 <br>Returns: 37.14% <br>Sharpe Ratio: 2.30",
          "VZ_Close <br>Volatility: 0.17 <br>Returns: 11.30% <br>Sharpe Ratio: 0.67",
          "GOOG_Close <br>Volatility: 0.16 <br>Returns: 27.71% <br>Sharpe Ratio: 1.74",
          "AMGN_Close <br>Volatility: 0.17 <br>Returns: -0.36% <br>Sharpe Ratio: -0.02",
          "LLY_Close <br>Volatility: 0.15 <br>Returns: 4.51% <br>Sharpe Ratio: 0.31",
          "WFC_Close <br>Volatility: 0.17 <br>Returns: 6.48% <br>Sharpe Ratio: 0.38",
          "GOOGL_Close <br>Volatility: 0.16 <br>Returns: 25.77% <br>Sharpe Ratio: 1.64",
          "CRM_Close <br>Volatility: 0.16 <br>Returns: 25.48% <br>Sharpe Ratio: 1.63",
          "EMR_Close <br>Volatility: 0.16 <br>Returns: 20.27% <br>Sharpe Ratio: 1.25",
          "HD_Close <br>Volatility: 0.14 <br>Returns: 32.45% <br>Sharpe Ratio: 2.40",
          "MCD_Close <br>Volatility: 0.14 <br>Returns: 37.50% <br>Sharpe Ratio: 2.75",
          "ABBV_Close <br>Volatility: 0.18 <br>Returns: 54.05% <br>Sharpe Ratio: 3.03",
          "PYPL_Close <br>Volatility: 0.23 <br>Returns: 65.17% <br>Sharpe Ratio: 2.82",
          "DE_Close <br>Volatility: 0.18 <br>Returns: 45.12% <br>Sharpe Ratio: 2.53",
          "ACN_Close <br>Volatility: 0.13 <br>Returns: 27.35% <br>Sharpe Ratio: 2.06",
          "GM_Close <br>Volatility: 0.19 <br>Returns: 14.71% <br>Sharpe Ratio: 0.78",
          "META_Close <br>Volatility: 0.17 <br>Returns: 30.58% <br>Sharpe Ratio: 1.77",
          "ISRG_Close <br>Volatility: 0.19 <br>Returns: 46.59% <br>Sharpe Ratio: 2.44",
          "DIS_Close <br>Volatility: 0.16 <br>Returns: -1.54% <br>Sharpe Ratio: -0.10",
          "F_Close <br>Volatility: 0.17 <br>Returns: 3.00% <br>Sharpe Ratio: 0.18",
          "V_Close <br>Volatility: 0.13 <br>Returns: 30.98% <br>Sharpe Ratio: 2.47",
          "BMY_Close <br>Volatility: 0.18 <br>Returns: 11.41% <br>Sharpe Ratio: 0.63",
          "ADBE_Close <br>Volatility: 0.23 <br>Returns: 45.54% <br>Sharpe Ratio: 2.00",
          "GILD_Close <br>Volatility: 0.19 <br>Returns: 5.32% <br>Sharpe Ratio: 0.28",
          "UA_Close <br>Volatility: 0.46 <br>Returns: -42.37% <br>Sharpe Ratio: -0.91",
          "NEE_Close <br>Volatility: 0.11 <br>Returns: 23.55% <br>Sharpe Ratio: 2.10",
          "SNAP_Close <br>Volatility: 0.63 <br>Returns: -61.94% <br>Sharpe Ratio: -0.98",
          "NVDA_Close <br>Volatility: 0.39 <br>Returns: 80.73% <br>Sharpe Ratio: 2.05",
          "BSX_Close <br>Volatility: 0.17 <br>Returns: -1.01% <br>Sharpe Ratio: -0.06",
          "UNH_Close <br>Volatility: 0.14 <br>Returns: 34.90% <br>Sharpe Ratio: 2.48"
         ],
         "marker": {
          "color": "brown",
          "line": {
           "width": 1
          },
          "size": 5,
          "symbol": "triangle-up"
         },
         "mode": "markers",
         "name": "Individual Assets",
         "type": "scatter",
         "x": {
          "bdata": "EzAd3ttrvj/gXza3+hzJP+LynoUzp8Q/+lG1menmwz9z5EZhdmnDP271kyAGx84/scDps3bIwD8F2lAV6FvSP31m69Rzp+I/cZYEpOl5xj9G9x2I/2rGP9y/S0lwGLk/Vs0IQUiRzj/BQrZrqxu2P/pYtNBxK8Q/3I/ZAYrTwD+ycs+ADB/JPydJQxXcbMM/iwDmEMyfuz/BvT5IRFLDPwNLD9Vy4sw/Hx1g51jdyD8ORIWXdp3YP67p+f0NH8E/MB0vwmMruD+ivE1u4+HBP5g60A0pIss/ISwVRQb01j9+oQJPZ73NP/Bx3yQzQss/VkAc8bQ+xz/L6j9kqTXXPwScnuH2G9E/ALbch0dGvD+dqmdAyiXNP4OUHr3Yssk/b+nEnvVywj973BQLP23IPyYscrnLxcY/pj7CQaDbxD8WiYVA0QO6PxZR6dSWVtM/kcsh0R0IuT+AHdCwuuDBP/K9QxOWd8E/pEFy5ViIxj/4Np7z6vzDPzBsPdYm98c/MNl90r8Wwj/IBThvuDy7P1DiKbjRO8Y/QHQSYJFPxj+2BYwZ1eLDPyo/fUZHQL0/1LyIeWNQyj9554psm3HJP0FtdA6DzMo/c/WLZYo8xz/oqQ6+k5fBP2P3/vD7/cQ/dgyGXgpvwD8JcNgkhhLSP1M23BsZP8k/U4LKf+KWuj8Ddp05HqvEP708U46HqsU/LzbluLFqxD95aqof5nXFP0jr5gFUycI/Y50Ks5fVxT+Y2gw5+iDEP4aM0wH19cM/J2alZ4fSxD8gdbFydkjBP027Nzmhd8E/yc9uni3dxj/Mi/6xkp3NPwo2Hfj22sY/96uEWAkBwT9dEKfxtTvIPyYlX318GsY/XnJoD/d5yD9ySjMA8zzEP/TOm0YeR8U/IJSinDENwD9Q0ZQ99xbHP9L6PmrvKM0/kCHfH2VAyD+pl1q7obLdP5NHzsWHsrw/SmkgnNBC5D/pF2EyjzLZP9pf1IFY0sU/gBAo0psMwj8=",
          "dtype": "f8"
         },
         "y": {
          "bdata": "csbCk/PHib/wY5vXKYvFP2dTYEfTesg/lN3a8yfRyz+7kG9DGs6AP2CRH2UCS86//4FHUTXG0T8nCi328H/YP2kBp1VwK9e/5MZrv7Xh1D9bh8VNLg2iv9rCUxRymKQ/MMb9i9EIyD/8Tp3lY/HAPw2wWp2yW8S/0y8Vi0wpwD8VIMSJ8SaeP1qRHEfgf9c/RwaE0bqYtz89NsUR5wvEv6zkyNEtYbs/nSmJOw+Foj8J70KZdqDjP32qzs8jDXE/DhGzGMuprz9mbHaM9f1avyKndD5kmtg/YlcBRfu00D+iYZ/FbO7MPxyafgjJFOS/t0P1VfoOt7/k8pTqwni9vxL8MhQet+M/hOyyi1guzz9tm69L2RW5P3rNTiszCso/p4Y2+v//1z8BhtWosI28PyHylPzvHpy/oa8SfmWWyz/zQfZUBwvQPzJxKd1A68O/p8ss9B9LwD9I4PP83ljSP1nnPDsVvMU/a3FhVjIH0D+HGPnOd3/JP8NXwEG2z8A/V4kD8qzEwz/z4xhq82PDPzSBBX5isDO/xmjdjpMN4z9r10ZA853BP3+YSOkxuMU/eSbb6ityuD+ymW4w7bC8P8ZGvt2ZD8o/+eff6bCO2z8USgtvCKXMP2ipAVNen8Q/fRC5te01tz+ZSedeYOw0P9PBJpCqg+Q/rX46Exzdoz/qabUVX8XXP5i3Mo1L7bw/Msb+vjK80T9b1ZH4hBZtv1yBJTTTG6c/J2MFrS2ZsD+udqnwiH3QP0b4kQhVT9A/hAISjELxyT9Crq2ITMXUP0RnyaGA/9c/Gm8i5tNL4T9EbdYlsdrkPxOEfhod4Nw/F1TCFWqA0T+XykRX5dLCP4uSXK3hktM/juejQ+DQ3T+h8RGWwIKPv2iyZQ/Brp4/stserR/U0z/jsib6Dja9PySTOxY+Jd0/8DJkB0s+qz/MRfpaiR3bv69NAHzSI84/Vov0mfbR478mvcvFvtXpP5YunwMfu4S/LZ1wubBW1j8=",
          "dtype": "f8"
         }
        }
       ],
       "layout": {
        "legend": {
         "y": 5
        },
        "template": {
         "data": {
          "bar": [
           {
            "error_x": {
             "color": "#2a3f5f"
            },
            "error_y": {
             "color": "#2a3f5f"
            },
            "marker": {
             "line": {
              "color": "#E5ECF6",
              "width": 0.5
             },
             "pattern": {
              "fillmode": "overlay",
              "size": 10,
              "solidity": 0.2
             }
            },
            "type": "bar"
           }
          ],
          "barpolar": [
           {
            "marker": {
             "line": {
              "color": "#E5ECF6",
              "width": 0.5
             },
             "pattern": {
              "fillmode": "overlay",
              "size": 10,
              "solidity": 0.2
             }
            },
            "type": "barpolar"
           }
          ],
          "carpet": [
           {
            "aaxis": {
             "endlinecolor": "#2a3f5f",
             "gridcolor": "white",
             "linecolor": "white",
             "minorgridcolor": "white",
             "startlinecolor": "#2a3f5f"
            },
            "baxis": {
             "endlinecolor": "#2a3f5f",
             "gridcolor": "white",
             "linecolor": "white",
             "minorgridcolor": "white",
             "startlinecolor": "#2a3f5f"
            },
            "type": "carpet"
           }
          ],
          "choropleth": [
           {
            "colorbar": {
             "outlinewidth": 0,
             "ticks": ""
            },
            "type": "choropleth"
           }
          ],
          "contour": [
           {
            "colorbar": {
             "outlinewidth": 0,
             "ticks": ""
            },
            "colorscale": [
             [
              0,
              "#0d0887"
             ],
             [
              0.1111111111111111,
              "#46039f"
             ],
             [
              0.2222222222222222,
              "#7201a8"
             ],
             [
              0.3333333333333333,
              "#9c179e"
             ],
             [
              0.4444444444444444,
              "#bd3786"
             ],
             [
              0.5555555555555556,
              "#d8576b"
             ],
             [
              0.6666666666666666,
              "#ed7953"
             ],
             [
              0.7777777777777778,
              "#fb9f3a"
             ],
             [
              0.8888888888888888,
              "#fdca26"
             ],
             [
              1,
              "#f0f921"
             ]
            ],
            "type": "contour"
           }
          ],
          "contourcarpet": [
           {
            "colorbar": {
             "outlinewidth": 0,
             "ticks": ""
            },
            "type": "contourcarpet"
           }
          ],
          "heatmap": [
           {
            "colorbar": {
             "outlinewidth": 0,
             "ticks": ""
            },
            "colorscale": [
             [
              0,
              "#0d0887"
             ],
             [
              0.1111111111111111,
              "#46039f"
             ],
             [
              0.2222222222222222,
              "#7201a8"
             ],
             [
              0.3333333333333333,
              "#9c179e"
             ],
             [
              0.4444444444444444,
              "#bd3786"
             ],
             [
              0.5555555555555556,
              "#d8576b"
             ],
             [
              0.6666666666666666,
              "#ed7953"
             ],
             [
              0.7777777777777778,
              "#fb9f3a"
             ],
             [
              0.8888888888888888,
              "#fdca26"
             ],
             [
              1,
              "#f0f921"
             ]
            ],
            "type": "heatmap"
           }
          ],
          "histogram": [
           {
            "marker": {
             "pattern": {
              "fillmode": "overlay",
              "size": 10,
              "solidity": 0.2
             }
            },
            "type": "histogram"
           }
          ],
          "histogram2d": [
           {
            "colorbar": {
             "outlinewidth": 0,
             "ticks": ""
            },
            "colorscale": [
             [
              0,
              "#0d0887"
             ],
             [
              0.1111111111111111,
              "#46039f"
             ],
             [
              0.2222222222222222,
              "#7201a8"
             ],
             [
              0.3333333333333333,
              "#9c179e"
             ],
             [
              0.4444444444444444,
              "#bd3786"
             ],
             [
              0.5555555555555556,
              "#d8576b"
             ],
             [
              0.6666666666666666,
              "#ed7953"
             ],
             [
              0.7777777777777778,
              "#fb9f3a"
             ],
             [
              0.8888888888888888,
              "#fdca26"
             ],
             [
              1,
              "#f0f921"
             ]
            ],
            "type": "histogram2d"
           }
          ],
          "histogram2dcontour": [
           {
            "colorbar": {
             "outlinewidth": 0,
             "ticks": ""
            },
            "colorscale": [
             [
              0,
              "#0d0887"
             ],
             [
              0.1111111111111111,
              "#46039f"
             ],
             [
              0.2222222222222222,
              "#7201a8"
             ],
             [
              0.3333333333333333,
              "#9c179e"
             ],
             [
              0.4444444444444444,
              "#bd3786"
             ],
             [
              0.5555555555555556,
              "#d8576b"
             ],
             [
              0.6666666666666666,
              "#ed7953"
             ],
             [
              0.7777777777777778,
              "#fb9f3a"
             ],
             [
              0.8888888888888888,
              "#fdca26"
             ],
             [
              1,
              "#f0f921"
             ]
            ],
            "type": "histogram2dcontour"
           }
          ],
          "mesh3d": [
           {
            "colorbar": {
             "outlinewidth": 0,
             "ticks": ""
            },
            "type": "mesh3d"
           }
          ],
          "parcoords": [
           {
            "line": {
             "colorbar": {
              "outlinewidth": 0,
              "ticks": ""
             }
            },
            "type": "parcoords"
           }
          ],
          "pie": [
           {
            "automargin": true,
            "type": "pie"
           }
          ],
          "scatter": [
           {
            "fillpattern": {
             "fillmode": "overlay",
             "size": 10,
             "solidity": 0.2
            },
            "type": "scatter"
           }
          ],
          "scatter3d": [
           {
            "line": {
             "colorbar": {
              "outlinewidth": 0,
              "ticks": ""
             }
            },
            "marker": {
             "colorbar": {
              "outlinewidth": 0,
              "ticks": ""
             }
            },
            "type": "scatter3d"
           }
          ],
          "scattercarpet": [
           {
            "marker": {
             "colorbar": {
              "outlinewidth": 0,
              "ticks": ""
             }
            },
            "type": "scattercarpet"
           }
          ],
          "scattergeo": [
           {
            "marker": {
             "colorbar": {
              "outlinewidth": 0,
              "ticks": ""
             }
            },
            "type": "scattergeo"
           }
          ],
          "scattergl": [
           {
            "marker": {
             "colorbar": {
              "outlinewidth": 0,
              "ticks": ""
             }
            },
            "type": "scattergl"
           }
          ],
          "scattermap": [
           {
            "marker": {
             "colorbar": {
              "outlinewidth": 0,
              "ticks": ""
             }
            },
            "type": "scattermap"
           }
          ],
          "scattermapbox": [
           {
            "marker": {
             "colorbar": {
              "outlinewidth": 0,
              "ticks": ""
             }
            },
            "type": "scattermapbox"
           }
          ],
          "scatterpolar": [
           {
            "marker": {
             "colorbar": {
              "outlinewidth": 0,
              "ticks": ""
             }
            },
            "type": "scatterpolar"
           }
          ],
          "scatterpolargl": [
           {
            "marker": {
             "colorbar": {
              "outlinewidth": 0,
              "ticks": ""
             }
            },
            "type": "scatterpolargl"
           }
          ],
          "scatterternary": [
           {
            "marker": {
             "colorbar": {
              "outlinewidth": 0,
              "ticks": ""
             }
            },
            "type": "scatterternary"
           }
          ],
          "surface": [
           {
            "colorbar": {
             "outlinewidth": 0,
             "ticks": ""
            },
            "colorscale": [
             [
              0,
              "#0d0887"
             ],
             [
              0.1111111111111111,
              "#46039f"
             ],
             [
              0.2222222222222222,
              "#7201a8"
             ],
             [
              0.3333333333333333,
              "#9c179e"
             ],
             [
              0.4444444444444444,
              "#bd3786"
             ],
             [
              0.5555555555555556,
              "#d8576b"
             ],
             [
              0.6666666666666666,
              "#ed7953"
             ],
             [
              0.7777777777777778,
              "#fb9f3a"
             ],
             [
              0.8888888888888888,
              "#fdca26"
             ],
             [
              1,
              "#f0f921"
             ]
            ],
            "type": "surface"
           }
          ],
          "table": [
           {
            "cells": {
             "fill": {
              "color": "#EBF0F8"
             },
             "line": {
              "color": "white"
             }
            },
            "header": {
             "fill": {
              "color": "#C8D4E3"
             },
             "line": {
              "color": "white"
             }
            },
            "type": "table"
           }
          ]
         },
         "layout": {
          "annotationdefaults": {
           "arrowcolor": "#2a3f5f",
           "arrowhead": 0,
           "arrowwidth": 1
          },
          "autotypenumbers": "strict",
          "coloraxis": {
           "colorbar": {
            "outlinewidth": 0,
            "ticks": ""
           }
          },
          "colorscale": {
           "diverging": [
            [
             0,
             "#8e0152"
            ],
            [
             0.1,
             "#c51b7d"
            ],
            [
             0.2,
             "#de77ae"
            ],
            [
             0.3,
             "#f1b6da"
            ],
            [
             0.4,
             "#fde0ef"
            ],
            [
             0.5,
             "#f7f7f7"
            ],
            [
             0.6,
             "#e6f5d0"
            ],
            [
             0.7,
             "#b8e186"
            ],
            [
             0.8,
             "#7fbc41"
            ],
            [
             0.9,
             "#4d9221"
            ],
            [
             1,
             "#276419"
            ]
           ],
           "sequential": [
            [
             0,
             "#0d0887"
            ],
            [
             0.1111111111111111,
             "#46039f"
            ],
            [
             0.2222222222222222,
             "#7201a8"
            ],
            [
             0.3333333333333333,
             "#9c179e"
            ],
            [
             0.4444444444444444,
             "#bd3786"
            ],
            [
             0.5555555555555556,
             "#d8576b"
            ],
            [
             0.6666666666666666,
             "#ed7953"
            ],
            [
             0.7777777777777778,
             "#fb9f3a"
            ],
            [
             0.8888888888888888,
             "#fdca26"
            ],
            [
             1,
             "#f0f921"
            ]
           ],
           "sequentialminus": [
            [
             0,
             "#0d0887"
            ],
            [
             0.1111111111111111,
             "#46039f"
            ],
            [
             0.2222222222222222,
             "#7201a8"
            ],
            [
             0.3333333333333333,
             "#9c179e"
            ],
            [
             0.4444444444444444,
             "#bd3786"
            ],
            [
             0.5555555555555556,
             "#d8576b"
            ],
            [
             0.6666666666666666,
             "#ed7953"
            ],
            [
             0.7777777777777778,
             "#fb9f3a"
            ],
            [
             0.8888888888888888,
             "#fdca26"
            ],
            [
             1,
             "#f0f921"
            ]
           ]
          },
          "colorway": [
           "#636efa",
           "#EF553B",
           "#00cc96",
           "#ab63fa",
           "#FFA15A",
           "#19d3f3",
           "#FF6692",
           "#B6E880",
           "#FF97FF",
           "#FECB52"
          ],
          "font": {
           "color": "#2a3f5f"
          },
          "geo": {
           "bgcolor": "white",
           "lakecolor": "white",
           "landcolor": "#E5ECF6",
           "showlakes": true,
           "showland": true,
           "subunitcolor": "white"
          },
          "hoverlabel": {
           "align": "left"
          },
          "hovermode": "closest",
          "mapbox": {
           "style": "light"
          },
          "paper_bgcolor": "white",
          "plot_bgcolor": "#E5ECF6",
          "polar": {
           "angularaxis": {
            "gridcolor": "white",
            "linecolor": "white",
            "ticks": ""
           },
           "bgcolor": "#E5ECF6",
           "radialaxis": {
            "gridcolor": "white",
            "linecolor": "white",
            "ticks": ""
           }
          },
          "scene": {
           "xaxis": {
            "backgroundcolor": "#E5ECF6",
            "gridcolor": "white",
            "gridwidth": 2,
            "linecolor": "white",
            "showbackground": true,
            "ticks": "",
            "zerolinecolor": "white"
           },
           "yaxis": {
            "backgroundcolor": "#E5ECF6",
            "gridcolor": "white",
            "gridwidth": 2,
            "linecolor": "white",
            "showbackground": true,
            "ticks": "",
            "zerolinecolor": "white"
           },
           "zaxis": {
            "backgroundcolor": "#E5ECF6",
            "gridcolor": "white",
            "gridwidth": 2,
            "linecolor": "white",
            "showbackground": true,
            "ticks": "",
            "zerolinecolor": "white"
           }
          },
          "shapedefaults": {
           "line": {
            "color": "#2a3f5f"
           }
          },
          "ternary": {
           "aaxis": {
            "gridcolor": "white",
            "linecolor": "white",
            "ticks": ""
           },
           "baxis": {
            "gridcolor": "white",
            "linecolor": "white",
            "ticks": ""
           },
           "bgcolor": "#E5ECF6",
           "caxis": {
            "gridcolor": "white",
            "linecolor": "white",
            "ticks": ""
           }
          },
          "title": {
           "x": 0.05
          },
          "xaxis": {
           "automargin": true,
           "gridcolor": "white",
           "linecolor": "white",
           "ticks": "",
           "title": {
            "standoff": 15
           },
           "zerolinecolor": "white",
           "zerolinewidth": 2
          },
          "yaxis": {
           "automargin": true,
           "gridcolor": "white",
           "linecolor": "white",
           "ticks": "",
           "title": {
            "standoff": 15
           },
           "zerolinecolor": "white",
           "zerolinewidth": 2
          }
         }
        },
        "title": {
         "text": "Sample of Random Portfolios"
        },
        "xaxis": {
         "title": {
          "text": "Volatility (Standard Deviation)"
         }
        },
        "yaxis": {
         "title": {
          "text": "Annualized Return"
         }
        }
       }
      }
     },
     "metadata": {},
     "output_type": "display_data"
    }
   ],
   "source": [
    "fig2 = go.Figure()\n",
    "\n",
    "fig2.add_trace(go.Scatter(\n",
    "    x=[p[\"variance\"]**0.5 for p in dominant_portfolios],  # Convert variance to volatility\n",
    "    y=[p[\"return\"] for p in dominant_portfolios],\n",
    "    mode='markers',\n",
    "    marker=dict(\n",
    "        color=[p[\"return\"] / (p[\"variance\"]**0.5) for p in dominant_portfolios],  # Sharpe Ratio\n",
    "        showscale=True,\n",
    "        size=7,\n",
    "        line=dict(width=1),\n",
    "        colorscale=\"RdBu\",\n",
    "        colorbar=dict(title=\"Sharpe<br>Ratio\")\n",
    "    ),\n",
    "    hoverinfo='text',\n",
    "    text=[\n",
    "        f\"Return: {p['return']:.2%}<br>Volatility: {p['variance']**0.5:.2f}<br>\" +\n",
    "        \"<br>\".join([f\"{p['tickers'][i]}: Weight={p['weights'][i]:.2f}\" for i in range(len(p['tickers']))])\n",
    "        for p in dominant_portfolios\n",
    "    ],\n",
    "    name=\"Portfolios\"\n",
    "))\n",
    "\n",
    "\n",
    "fig2.add_trace(go.Scatter(\n",
    "    x=volatility, \n",
    "    y=annualized_returns,\n",
    "    mode='markers',\n",
    "    hoverinfo='text',\n",
    "    hovertext=[\n",
    "        f\"{name} <br>Volatility: {vol:.2f} <br>Returns: {ret:.2%} <br>Sharpe Ratio: {sr:.2f}\"\n",
    "        for name, vol, ret, sr in zip(names, volatility, annualized_returns, sharpe_ratios)\n",
    "    ],\n",
    "    marker=dict(\n",
    "        color='brown',\n",
    "        size=5,\n",
    "        symbol='triangle-up',  # Sets the marker shape to a triangle\n",
    "        line=dict(width=1)\n",
    "    ),\n",
    "    name=\"Individual Assets\"\n",
    "))\n",
    "\n",
    "fig2.update_layout(\n",
    "    title='Sample of Random Portfolios',\n",
    "    xaxis_title='Volatility (Standard Deviation)',\n",
    "    yaxis_title='Annualized Return',\n",
    "    legend=dict(y=5\n",
    "    )\n",
    ")\n",
    "\n",
    "\n",
    "fig2.show()"
   ]
  },
  {
   "cell_type": "markdown",
   "metadata": {},
   "source": [
    "## 5.0 ML Method"
   ]
  },
  {
   "cell_type": "code",
   "execution_count": 143,
   "metadata": {},
   "outputs": [
    {
     "name": "stdout",
     "output_type": "stream",
     "text": [
      "[np.float64(1.1691399666337663)]\n",
      "['SNAP_Close' 'DHR_Close' 'BAC_Close' 'LLY_Close' 'BSX_Close']\n"
     ]
    },
    {
     "name": "stderr",
     "output_type": "stream",
     "text": [
      "100%|██████████| 1000/1000 [00:04<00:00, 239.27it/s]\n"
     ]
    },
    {
     "data": {
      "text/plain": [
       "(['BA_Close', 'PYPL_Close', 'META_Close', 'V_Close', 'MA_Close'],\n",
       " np.float64(4.764533885870018),\n",
       " [np.float64(1.1691399666337663),\n",
       "  np.float64(3.1304220401255507),\n",
       "  np.float64(3.231212438335536),\n",
       "  np.float64(3.487978961991482),\n",
       "  np.float64(3.53723818299531),\n",
       "  np.float64(3.80496988182076),\n",
       "  np.float64(3.8049698818236215),\n",
       "  np.float64(3.8273143646862353),\n",
       "  np.float64(3.827314364686705),\n",
       "  np.float64(3.9098176259561455),\n",
       "  np.float64(3.9098176259584005),\n",
       "  np.float64(4.068926151957772),\n",
       "  np.float64(4.068926151972387),\n",
       "  np.float64(4.06892615197337),\n",
       "  np.float64(4.08690062624838),\n",
       "  np.float64(4.568512475185374),\n",
       "  np.float64(4.7119297920020164),\n",
       "  np.float64(4.764533695522531),\n",
       "  np.float64(4.764533885869194),\n",
       "  np.float64(4.764533885870018)])"
      ]
     },
     "execution_count": 143,
     "metadata": {},
     "output_type": "execute_result"
    }
   ],
   "source": [
    "def MLRBA(ticker, covariances, returns, num_iterations=10000, risk_free_rate = 0):\n",
    "    num_assets = 5\n",
    "    base_portfolio = np.random.choice(list(ticker), num_assets, replace=False)\n",
    "    highest_sharpe = -np.inf\n",
    "    sharpe_ratios = []\n",
    "    #base_portfolio = list(ticker)[:num_assets]\n",
    "\n",
    "    # Asset calculations\n",
    "    curr_ret = returns.loc[base_portfolio].values\n",
    "    curr_var = covariances.loc[base_portfolio, base_portfolio].values\n",
    "    asset_weights = maximize_sharpe(curr_ret, curr_var)\n",
    "    # Portfolio Calculations\n",
    "    curr_portfolio_returns = np.dot(asset_weights, curr_ret)\n",
    "    curr_portfolio_var = np.dot(asset_weights, curr_var @ asset_weights)\n",
    "\n",
    "    highest_sharpe = (curr_portfolio_returns - risk_free_rate) / np.sqrt(curr_portfolio_var)\n",
    "    sharpe_ratios.append(highest_sharpe)\n",
    "    print(sharpe_ratios)\n",
    "    print(base_portfolio)\n",
    "\n",
    "    tested_assets = set()\n",
    "\n",
    "    for _ in tqdm(range(num_iterations)):\n",
    "        asset_to_remove = find_best_asset_to_remove(base_portfolio, curr_var, curr_ret)\n",
    "        '''most_correlated_asset, _, _ = find_correlation_matrix(portfolio, curr_variances)'''\n",
    "\n",
    "        #print(base_portfolio)\n",
    "        #print(asset_to_remove)\n",
    "        portfolio = [str(asset) for asset in base_portfolio if asset != asset_to_remove]\n",
    "        #print(portfolio)\n",
    "\n",
    "        ranked_assets = find_asset_to_add(portfolio, ticker, covariances, returns)         # Find the next best asset to add to the portfolio\n",
    "        asset_to_add = ranked_assets.index[0]\n",
    "\n",
    "        #print(asset_to_add)\n",
    "        for asset in ranked_assets.index:\n",
    "            if asset not in tested_assets:\n",
    "                asset_to_add = asset\n",
    "                break\n",
    "        \n",
    "        portfolio.append(asset_to_add)\n",
    "        tested_assets.add(asset_to_add)\n",
    "        #print(portfolio)\n",
    "\n",
    "        # Substitute in and measure portfolio performance based on sharpe ratio\n",
    "        new_returns = returns.loc[portfolio].values\n",
    "        new_var = covariances.loc[portfolio, portfolio].values\n",
    "        asset_weights = maximize_sharpe(new_returns, new_var)\n",
    "\n",
    "        # Portfolio Calculations\n",
    "        new_portfolio_returns = np.dot(asset_weights, new_returns)\n",
    "        new_portfolio_var = np.dot(asset_weights, new_var @ asset_weights)\n",
    "        new_sharpe_ratio = (new_portfolio_returns - risk_free_rate) / np.sqrt(new_portfolio_var)\n",
    "\n",
    "        if new_sharpe_ratio > highest_sharpe:\n",
    "            sharpe_ratios.append(new_sharpe_ratio)\n",
    "            highest_sharpe = new_sharpe_ratio\n",
    "            base_portfolio = portfolio\n",
    "            tested_assets.clear()\n",
    "\n",
    "        # If Sharpe ratio was worse, then move on to the next least correlated asset\n",
    "        # If Sharpe ratio is better, set as new base portfolio, and repeat the process for num_iterations times\n",
    "\n",
    "    return portfolio, highest_sharpe, sharpe_ratios\n",
    "\n",
    "def find_asset_to_add(portfolio_assets, all_assets, all_covariance, all_returns, return_weight=0.2, corr_weight=0.8):\n",
    "    remaining_assets = [asset for asset in all_assets if asset not in portfolio_assets]\n",
    "    \n",
    "    corr_matrix = create_correlation_matrix(all_covariance)\n",
    "    avg_corrs = corr_matrix.loc[remaining_assets, portfolio_assets].mean(axis=1)\n",
    "    \n",
    "    norm_corr = (avg_corrs - avg_corrs.min()) / (avg_corrs.max() - avg_corrs.min())\n",
    "    norm_returns = (all_returns.loc[remaining_assets] - all_returns.min()) / (all_returns.max() - all_returns.min())\n",
    "\n",
    "    combined_score = corr_weight * norm_corr + return_weight * norm_returns\n",
    "    \n",
    "    ranked_assets = combined_score.sort_values(ascending=False)\n",
    "    \n",
    "    return ranked_assets\n",
    "\n",
    "portfolio, highest_sharpe, sharpe_ratios = MLRBA(names, cov, annualized_returns, 1000)\n",
    "portfolio, highest_sharpe, sharpe_ratios\n"
   ]
  }
 ],
 "metadata": {
  "kernelspec": {
   "display_name": "roboA",
   "language": "python",
   "name": "python3"
  },
  "language_info": {
   "codemirror_mode": {
    "name": "ipython",
    "version": 3
   },
   "file_extension": ".py",
   "mimetype": "text/x-python",
   "name": "python",
   "nbconvert_exporter": "python",
   "pygments_lexer": "ipython3",
   "version": "3.12.8"
  }
 },
 "nbformat": 4,
 "nbformat_minor": 2
}
