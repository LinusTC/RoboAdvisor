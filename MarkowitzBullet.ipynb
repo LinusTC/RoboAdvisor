{
 "cells": [
  {
   "cell_type": "markdown",
   "metadata": {},
   "source": [
    "# Markowitz Efficient Frontier"
   ]
  },
  {
   "cell_type": "markdown",
   "metadata": {},
   "source": [
    "## 1. Imports"
   ]
  },
  {
   "cell_type": "code",
   "execution_count": 1,
   "metadata": {},
   "outputs": [],
   "source": [
    "import pandas as pd\n",
    "import numpy as np\n",
    "import yfinance as yf\n",
    "import plotly.graph_objects as go\n",
    "from tqdm import tqdm\n",
    "import scipy.optimize\n",
    "\n",
    "from fetchData import fetch_raw_data_yf, get_matrices, getNasdaqStocks\n",
    "from MonteCarloRBA import MonteCarloRBA\n",
    "from LearningRBA import MLRBA, find_correlation_matrix, maximize_sharpe, find_best_asset_to_remove\n"
   ]
  },
  {
   "cell_type": "markdown",
   "metadata": {},
   "source": [
    "## 2. Fetch Data"
   ]
  },
  {
   "cell_type": "markdown",
   "metadata": {},
   "source": [
    "### Get all Nasdaq Stocks"
   ]
  },
  {
   "cell_type": "code",
   "execution_count": 2,
   "metadata": {},
   "outputs": [
    {
     "data": {
      "text/plain": [
       "100"
      ]
     },
     "execution_count": 2,
     "metadata": {},
     "output_type": "execute_result"
    }
   ],
   "source": [
    "assets= [\n",
    "    \"AAPL\",  # Apple Inc.\n",
    "    \"MSFT\",  # Microsoft Corporation\n",
    "    \"AMZN\",  # Amazon.com Inc.\n",
    "    \"GOOGL\", # Alphabet Inc. (Google) Class A\n",
    "    \"GOOG\",  # Alphabet Inc. (Google) Class C\n",
    "    \"META\",    # Meta Platforms Inc (formerly Facebook)\n",
    "    \"TSLA\",  # Tesla Inc\n",
    "    \"UA\", # Berkshire Hathaway Inc. Class B\n",
    "    \"JPM\",   # JPMorgan Chase & Co.\n",
    "    \"V\",     # Visa Inc.\n",
    "    \"JNJ\",   # Johnson & Johnson\n",
    "    \"WMT\",   # Walmart Inc.\n",
    "    \"PG\",    # Procter & Gamble Co.\n",
    "    \"UNH\",   # UnitedHealth Group Inc.\n",
    "    \"MA\",    # Mastercard Inc.\n",
    "    \"NVDA\",  # NVIDIA Corporation\n",
    "    \"HD\",    # Home Depot Inc.\n",
    "    \"BAC\",   # Bank of America Corp\n",
    "    \"DIS\",   # Walt Disney Co\n",
    "    \"PYPL\",  # PayPal Holdings\n",
    "    \"VZ\",    # Verizon Communications Inc.\n",
    "    \"ADBE\",  # Adobe Inc.\n",
    "    \"CMCSA\", # Comcast Corporation\n",
    "    \"NFLX\",  # Netflix Inc.\n",
    "    \"KO\",    # Coca-Cola Co\n",
    "    \"NKE\",   # NIKE Inc.\n",
    "    \"PFE\",   # Pfizer Inc.\n",
    "    \"MRK\",   # Merck & Co., Inc.\n",
    "    \"PEP\",   # PepsiCo, Inc.\n",
    "    \"T\",     # AT&T Inc.\n",
    "    \"ABT\",   # Abbott Laboratories\n",
    "    \"CRM\",   # Salesforce.com Inc.\n",
    "    \"ORCL\",  # Oracle Corporation\n",
    "    \"ABBV\",  # AbbVie Inc.\n",
    "    \"CSCO\",  # Cisco Systems, Inc.\n",
    "    \"INTC\",  # Intel Corporation\n",
    "    \"TMO\",   # Thermo Fisher Scientific Inc.\n",
    "    \"XOM\",   # Exxon Mobil Corporation\n",
    "    \"ACN\",   # Accenture plc\n",
    "    \"LLY\",   # Eli Lilly and Company\n",
    "    \"COST\",  # Costco Wholesale Corporation\n",
    "    \"MCD\",   # McDonald's Corp\n",
    "    \"DHR\",   # Danaher Corporation\n",
    "    \"MDT\",   # Medtronic plc\n",
    "    \"NEE\",   # NextEra Energy, Inc.\n",
    "    \"BMY\",   # Bristol-Myers Squibb Company\n",
    "    \"QCOM\",  # Qualcomm Inc\n",
    "    \"CVX\",   # Chevron Corporation\n",
    "    \"WFC\",   # Wells Fargo & Co\n",
    "    \"LMT\",    # Lockheed Martin Corporation\n",
    "    \"GS\",   # Goldman Sachs Group, Inc.\n",
    "    \"MS\",   # Morgan Stanley\n",
    "    \"IBM\",  # International Business Machines Corporation\n",
    "    \"GE\",   # General Electric Company\n",
    "    \"F\",    # Ford Motor Company\n",
    "    \"GM\",   # General Motors Company\n",
    "    \"UBER\", # Uber Technologies, Inc.\n",
    "    \"LYFT\", # Lyft, Inc.\n",
    "    \"SNAP\", # Snap Inc.\n",
    "    \"TWTR\", # Twitter, Inc.\n",
    "    \"SPOT\", # Spotify Technology S.A.\n",
    "    \"AMD\",  # Advanced Micro Devices, Inc.\n",
    "    \"TXN\",  # Texas Instruments Incorporated\n",
    "    \"BABA\", # Alibaba Group Holding Limited\n",
    "    \"SAP\",  # SAP SE\n",
    "    \"HON\",  # Honeywell International Inc.\n",
    "    \"BA\",   # Boeing Company\n",
    "    \"RTX\",  # Raytheon Technologies Corporation\n",
    "    \"CAT\",  # Caterpillar Inc.\n",
    "    \"DE\",   # Deere & Company\n",
    "    \"MMM\",  # 3M Company\n",
    "    \"DUK\",  # Duke Energy Corporation\n",
    "    \"SO\",   # Southern Company\n",
    "    \"EXC\",  # Exelon Corporation\n",
    "    \"NEE\",  # NextEra Energy, Inc.\n",
    "    \"AEP\",  # American Electric Power Company, Inc.\n",
    "    \"SRE\",  # Sempra Energy\n",
    "    \"ETN\",  # Eaton Corporation plc\n",
    "    \"EMR\",  # Emerson Electric Co.\n",
    "    \"SYY\",  # Sysco Corporation\n",
    "    \"KR\",   # Kroger Co.\n",
    "    \"GIS\",  # General Mills, Inc.\n",
    "    \"K\",    # Kellogg Company\n",
    "    \"CPB\",  # Campbell Soup Company\n",
    "    \"MO\",   # Altria Group, Inc.\n",
    "    \"PM\",   # Philip Morris International Inc.\n",
    "    \"BTI\",  # British American Tobacco plc\n",
    "    \"RDY\",  # Dr. Reddy's Laboratories Ltd.\n",
    "    \"GILD\", # Gilead Sciences, Inc.\n",
    "    \"BIIB\", # Biogen Inc.\n",
    "    \"CELG\", # Celgene Corporation\n",
    "    \"AMGN\", # Amgen Inc.\n",
    "    \"SYK\",  # Stryker Corporation\n",
    "    \"BSX\",  # Boston Scientific Corporation\n",
    "    \"ISRG\", # Intuitive Surgical, Inc.\n",
    "    \"ZBH\",  # Zimmer Biomet Holdings, Inc.\n",
    "    \"EW\",   # Edwards Lifesciences Corporation\n",
    "    \"RMD\",  # ResMed Inc.\n",
    "    \"VRTX\", # Vertex Pharmaceuticals Incorporated\n",
    "    \"REGN\",  # Regeneron Pharmaceuticals, Inc.\n",
    "]\n",
    "\n",
    "len(assets)"
   ]
  },
  {
   "cell_type": "code",
   "execution_count": 3,
   "metadata": {},
   "outputs": [
    {
     "name": "stdout",
     "output_type": "stream",
     "text": [
      "YF.download() has changed argument auto_adjust default to True\n"
     ]
    },
    {
     "name": "stderr",
     "output_type": "stream",
     "text": [
      "[*********************100%***********************]  99 of 99 completed\n",
      "\n",
      "5 Failed downloads:\n",
      "['SPOT', 'UBER', 'LYFT']: YFPricesMissingError('possibly delisted; no price data found  (1d 2015-01-01 -> 2018-01-01) (Yahoo error = \"Data doesn\\'t exist for startDate = 1420088400, endDate = 1514782800\")')\n",
      "['CELG', 'TWTR']: YFTzMissingError('possibly delisted; no timezone found')\n"
     ]
    },
    {
     "name": "stdout",
     "output_type": "stream",
     "text": [
      "Omitted assets ( 5 ):  ['SPOT', 'CELG', 'UBER', 'LYFT', 'TWTR']\n",
      "Time to fetch data: 3.65 seconds\n"
     ]
    }
   ],
   "source": [
    "raw_data, asset_errors, max_combination= fetch_raw_data_yf(assets)"
   ]
  },
  {
   "cell_type": "markdown",
   "metadata": {},
   "source": [
    "## 3. Mean, Volatility and Covariance"
   ]
  },
  {
   "cell_type": "code",
   "execution_count": 4,
   "metadata": {},
   "outputs": [],
   "source": [
    "names, cov, annualized_returns = get_matrices(raw_data, max_combination, None)[0]\n",
    "volatility = np.sqrt(np.diag(cov))\n",
    "\n",
    "risk_free_rate=0 \n",
    "sharpe_ratios = (annualized_returns - risk_free_rate) / volatility"
   ]
  },
  {
   "cell_type": "code",
   "execution_count": 5,
   "metadata": {},
   "outputs": [
    {
     "data": {
      "application/vnd.plotly.v1+json": {
       "config": {
        "plotlyServerURL": "https://plot.ly"
       },
       "data": [
        {
         "hoverinfo": "text",
         "hovertext": [
          "AAPL_Close <br>Volatility: 0.18 <br>Returns: 25.04% <br>Sharpe Ratio: 1.42",
          "V_Close <br>Volatility: 0.13 <br>Returns: 30.98% <br>Sharpe Ratio: 2.47",
          "CSCO_Close <br>Volatility: 0.16 <br>Returns: 16.11% <br>Sharpe Ratio: 0.98",
          "XOM_Close <br>Volatility: 0.10 <br>Returns: 3.88% <br>Sharpe Ratio: 0.37",
          "TXN_Close <br>Volatility: 0.16 <br>Returns: 37.14% <br>Sharpe Ratio: 2.30",
          "RMD_Close <br>Volatility: 0.20 <br>Returns: 20.34% <br>Sharpe Ratio: 1.01",
          "GOOG_Close <br>Volatility: 0.16 <br>Returns: 27.71% <br>Sharpe Ratio: 1.74",
          "EMR_Close <br>Volatility: 0.16 <br>Returns: 20.27% <br>Sharpe Ratio: 1.25",
          "BIIB_Close <br>Volatility: 0.23 <br>Returns: 9.80% <br>Sharpe Ratio: 0.43",
          "NFLX_Close <br>Volatility: 0.29 <br>Returns: 38.28% <br>Sharpe Ratio: 1.33",
          "SYY_Close <br>Volatility: 0.16 <br>Returns: 19.12% <br>Sharpe Ratio: 1.19",
          "IBM_Close <br>Volatility: 0.16 <br>Returns: -15.90% <br>Sharpe Ratio: -1.01",
          "CPB_Close <br>Volatility: 0.24 <br>Returns: -23.67% <br>Sharpe Ratio: -0.98",
          "ORCL_Close <br>Volatility: 0.19 <br>Returns: 13.13% <br>Sharpe Ratio: 0.70",
          "AMGN_Close <br>Volatility: 0.17 <br>Returns: -0.36% <br>Sharpe Ratio: -0.02",
          "BMY_Close <br>Volatility: 0.18 <br>Returns: 11.41% <br>Sharpe Ratio: 0.63",
          "GM_Close <br>Volatility: 0.19 <br>Returns: 14.71% <br>Sharpe Ratio: 0.78",
          "META_Close <br>Volatility: 0.17 <br>Returns: 30.58% <br>Sharpe Ratio: 1.77",
          "BABA_Close <br>Volatility: 0.27 <br>Returns: 61.61% <br>Sharpe Ratio: 2.30",
          "MS_Close <br>Volatility: 0.20 <br>Returns: 16.83% <br>Sharpe Ratio: 0.86",
          "WMT_Close <br>Volatility: 0.18 <br>Returns: 43.06% <br>Sharpe Ratio: 2.37",
          "BSX_Close <br>Volatility: 0.17 <br>Returns: -1.01% <br>Sharpe Ratio: -0.06",
          "ABBV_Close <br>Volatility: 0.18 <br>Returns: 54.05% <br>Sharpe Ratio: 3.03",
          "AMZN_Close <br>Volatility: 0.21 <br>Returns: 38.44% <br>Sharpe Ratio: 1.81",
          "CMCSA_Close <br>Volatility: 0.21 <br>Returns: 9.55% <br>Sharpe Ratio: 0.46",
          "WFC_Close <br>Volatility: 0.17 <br>Returns: 6.48% <br>Sharpe Ratio: 0.38",
          "NEE_Close <br>Volatility: 0.11 <br>Returns: 23.55% <br>Sharpe Ratio: 2.10",
          "PG_Close <br>Volatility: 0.10 <br>Returns: 4.02% <br>Sharpe Ratio: 0.41",
          "MA_Close <br>Volatility: 0.14 <br>Returns: 37.50% <br>Sharpe Ratio: 2.60",
          "GE_Close <br>Volatility: 0.21 <br>Returns: -62.75% <br>Sharpe Ratio: -2.95",
          "RTX_Close <br>Volatility: 0.14 <br>Returns: 16.98% <br>Sharpe Ratio: 1.24",
          "ACN_Close <br>Volatility: 0.13 <br>Returns: 27.35% <br>Sharpe Ratio: 2.06",
          "JNJ_Close <br>Volatility: 0.11 <br>Returns: 16.97% <br>Sharpe Ratio: 1.49",
          "PEP_Close <br>Volatility: 0.10 <br>Returns: 12.73% <br>Sharpe Ratio: 1.30",
          "F_Close <br>Volatility: 0.17 <br>Returns: 3.00% <br>Sharpe Ratio: 0.18",
          "ABT_Close <br>Volatility: 0.14 <br>Returns: 28.67% <br>Sharpe Ratio: 2.05",
          "KO_Close <br>Volatility: 0.09 <br>Returns: 13.24% <br>Sharpe Ratio: 1.53",
          "INTC_Close <br>Volatility: 0.18 <br>Returns: 32.63% <br>Sharpe Ratio: 1.86",
          "T_Close <br>Volatility: 0.18 <br>Returns: -3.53% <br>Sharpe Ratio: -0.20",
          "MRK_Close <br>Volatility: 0.15 <br>Returns: -15.66% <br>Sharpe Ratio: -1.04",
          "DHR_Close <br>Volatility: 0.13 <br>Returns: 9.07% <br>Sharpe Ratio: 0.71",
          "VZ_Close <br>Volatility: 0.17 <br>Returns: 11.30% <br>Sharpe Ratio: 0.67",
          "CRM_Close <br>Volatility: 0.16 <br>Returns: 25.48% <br>Sharpe Ratio: 1.63",
          "BA_Close <br>Volatility: 0.17 <br>Returns: 59.54% <br>Sharpe Ratio: 3.42",
          "ADBE_Close <br>Volatility: 0.23 <br>Returns: 45.54% <br>Sharpe Ratio: 2.00",
          "SAP_Close <br>Volatility: 0.14 <br>Returns: 22.38% <br>Sharpe Ratio: 1.63",
          "CAT_Close <br>Volatility: 0.20 <br>Returns: 64.11% <br>Sharpe Ratio: 3.25",
          "VRTX_Close <br>Volatility: 0.38 <br>Returns: 61.33% <br>Sharpe Ratio: 1.59",
          "REGN_Close <br>Volatility: 0.28 <br>Returns: 0.03% <br>Sharpe Ratio: 0.00",
          "PYPL_Close <br>Volatility: 0.23 <br>Returns: 65.17% <br>Sharpe Ratio: 2.82",
          "MO_Close <br>Volatility: 0.18 <br>Returns: -2.75% <br>Sharpe Ratio: -0.15",
          "ISRG_Close <br>Volatility: 0.19 <br>Returns: 46.59% <br>Sharpe Ratio: 2.44",
          "GOOGL_Close <br>Volatility: 0.16 <br>Returns: 25.77% <br>Sharpe Ratio: 1.64",
          "MSFT_Close <br>Volatility: 0.15 <br>Returns: 36.72% <br>Sharpe Ratio: 2.42",
          "UA_Close <br>Volatility: 0.46 <br>Returns: -42.37% <br>Sharpe Ratio: -0.91",
          "NVDA_Close <br>Volatility: 0.39 <br>Returns: 80.73% <br>Sharpe Ratio: 2.05",
          "KR_Close <br>Volatility: 0.36 <br>Returns: -11.51% <br>Sharpe Ratio: -0.32",
          "EW_Close <br>Volatility: 0.23 <br>Returns: 22.60% <br>Sharpe Ratio: 0.97",
          "GIS_Close <br>Volatility: 0.17 <br>Returns: -0.03% <br>Sharpe Ratio: -0.00",
          "AEP_Close <br>Volatility: 0.11 <br>Returns: 15.15% <br>Sharpe Ratio: 1.42",
          "CVX_Close <br>Volatility: 0.14 <br>Returns: 15.44% <br>Sharpe Ratio: 1.09",
          "SNAP_Close <br>Volatility: 0.63 <br>Returns: -61.94% <br>Sharpe Ratio: -0.98",
          "EXC_Close <br>Volatility: 0.13 <br>Returns: 12.63% <br>Sharpe Ratio: 0.96",
          "LLY_Close <br>Volatility: 0.15 <br>Returns: 4.51% <br>Sharpe Ratio: 0.31",
          "PM_Close <br>Volatility: 0.14 <br>Returns: -0.16% <br>Sharpe Ratio: -0.01",
          "MDT_Close <br>Volatility: 0.15 <br>Returns: 0.82% <br>Sharpe Ratio: 0.05",
          "SYK_Close <br>Volatility: 0.16 <br>Returns: 21.73% <br>Sharpe Ratio: 1.40",
          "UNH_Close <br>Volatility: 0.14 <br>Returns: 34.90% <br>Sharpe Ratio: 2.48",
          "GS_Close <br>Volatility: 0.20 <br>Returns: 2.94% <br>Sharpe Ratio: 0.15",
          "TSLA_Close <br>Volatility: 0.36 <br>Returns: 26.10% <br>Sharpe Ratio: 0.73",
          "MCD_Close <br>Volatility: 0.14 <br>Returns: 37.50% <br>Sharpe Ratio: 2.75",
          "COST_Close <br>Volatility: 0.20 <br>Returns: 11.21% <br>Sharpe Ratio: 0.56",
          "BAC_Close <br>Volatility: 0.21 <br>Returns: 20.36% <br>Sharpe Ratio: 0.97",
          "TMO_Close <br>Volatility: 0.16 <br>Returns: 21.55% <br>Sharpe Ratio: 1.32",
          "ZBH_Close <br>Volatility: 0.19 <br>Returns: 3.62% <br>Sharpe Ratio: 0.19",
          "DIS_Close <br>Volatility: 0.16 <br>Returns: -1.54% <br>Sharpe Ratio: -0.10",
          "ETN_Close <br>Volatility: 0.16 <br>Returns: 13.76% <br>Sharpe Ratio: 0.89",
          "HON_Close <br>Volatility: 0.10 <br>Returns: 25.07% <br>Sharpe Ratio: 2.47",
          "HD_Close <br>Volatility: 0.14 <br>Returns: 32.45% <br>Sharpe Ratio: 2.40",
          "GILD_Close <br>Volatility: 0.19 <br>Returns: 5.32% <br>Sharpe Ratio: 0.28",
          "MMM_Close <br>Volatility: 0.13 <br>Returns: 27.77% <br>Sharpe Ratio: 2.12",
          "JPM_Close <br>Volatility: 0.16 <br>Returns: 19.92% <br>Sharpe Ratio: 1.28",
          "K_Close <br>Volatility: 0.18 <br>Returns: -9.01% <br>Sharpe Ratio: -0.50",
          "SRE_Close <br>Volatility: 0.13 <br>Returns: 0.42% <br>Sharpe Ratio: 0.03",
          "LMT_Close <br>Volatility: 0.11 <br>Returns: 24.36% <br>Sharpe Ratio: 2.21",
          "DUK_Close <br>Volatility: 0.09 <br>Returns: 6.18% <br>Sharpe Ratio: 0.66",
          "DE_Close <br>Volatility: 0.18 <br>Returns: 45.12% <br>Sharpe Ratio: 2.53",
          "QCOM_Close <br>Volatility: 0.24 <br>Returns: 18.78% <br>Sharpe Ratio: 0.79",
          "AMD_Close <br>Volatility: 0.58 <br>Returns: -36.20% <br>Sharpe Ratio: -0.62",
          "BTI_Close <br>Volatility: 0.19 <br>Returns: 11.15% <br>Sharpe Ratio: 0.58",
          "PFE_Close <br>Volatility: 0.11 <br>Returns: 9.22% <br>Sharpe Ratio: 0.85",
          "RDY_Close <br>Volatility: 0.30 <br>Returns: -15.56% <br>Sharpe Ratio: -0.52",
          "SO_Close <br>Volatility: 0.12 <br>Returns: -1.26% <br>Sharpe Ratio: -0.11",
          "NKE_Close <br>Volatility: 0.23 <br>Returns: 10.70% <br>Sharpe Ratio: 0.47"
         ],
         "marker": {
          "color": {
           "bdata": "EmSLTjjD9j/dRtBC1MMDQLLO6pzGb+8/SyLv5+bn1z9/8F5W22YCQPymiwRkNvA/BLpb9QfM+z/jcslTL+/zP2jxkUxKits/M9J26gla9T8rrJyg7vbyP1NwHaFGJvC/fbaOYgl/779+TIv4lnLmPxTJr76/rpW/tA9O6ek95D+Xz5DNWdvoPwb7/jJxVvw/6adddOZvAkCZ+Bd5lHPrP/7zdmiq+QJAYRqwM4lmrr8+2F1YGzUIQHO8QbMMBP0/s/KBZXO63T+4haH6hFPYP4Q4de3nzQBAqudEXyVD2j9xLl2wZtAEQJEdznz+kgfAzrUM18Do8z9hKG1Q33cAQHVPqae3wvc/Q3I430XU9D8l801zYRLHP+eTjNSKawBA9sf8igaG+D/IqQei1Lr9P2upT1lpxMm/ddjVQbuZ8L+jQBtpFZnmP194KpiuXOU/WQaA/6ol+j9vA6xX1FMLQJzrcJny+/8/gVWuAGgN+j+vlhHHhgAKQJHzG1bhg/k/nzk9AimGUj8xcqbNiIgGQBRAeGfVwcO/EiMVS4l9A0DyvsgLOzf6PwXVB94YWwNA+exm1qc37b9HCerQnmcAQK8cjGQmUdS/GVMkpEoh7z9neDGNB2Bcv9f2TZn3x/Y/BwOE7Uh88T/Doudtw03vv4ZQATVAvO4/6mQbF2mu0z+oN/mEqySIv0ReCyLfs6s/iPHyGfVc9j9DgFHpZc0DQJkxH8lQNMM/ZVri37VK5z9U1zjPb/sFQDqGNSnACuI/O3PzU20e7z+2ichxiCn1Pxo7ZVeV1cc/W8Duro3puL8HiB8pRlnsP6u92XzruwNAdDO4x406A0Adyz1JQvnRP1gVZeft8QBAYp2gtyNp9D96gGFSSL7fvwIEygDm3Z8/MD+gPQ6lAUAkpAjV8fXkP8cleAThNgRAXddWLikp6T/hc6Uog9/jv3IF3QIEtOI/+8hKI6NV6z8OjBFx/3rgv5YGDsmlHru/0Nl6MyRV3j8=",
           "dtype": "f8"
          },
          "colorbar": {
           "title": {
            "text": "Sharpe<br>Ratio"
           }
          },
          "colorscale": [
           [
            0,
            "rgb(103,0,31)"
           ],
           [
            0.1,
            "rgb(178,24,43)"
           ],
           [
            0.2,
            "rgb(214,96,77)"
           ],
           [
            0.3,
            "rgb(244,165,130)"
           ],
           [
            0.4,
            "rgb(253,219,199)"
           ],
           [
            0.5,
            "rgb(247,247,247)"
           ],
           [
            0.6,
            "rgb(209,229,240)"
           ],
           [
            0.7,
            "rgb(146,197,222)"
           ],
           [
            0.8,
            "rgb(67,147,195)"
           ],
           [
            0.9,
            "rgb(33,102,172)"
           ],
           [
            1,
            "rgb(5,48,97)"
           ]
          ],
          "line": {
           "width": 1
          },
          "size": 6
         },
         "mode": "markers",
         "type": "scatter",
         "x": {
          "bdata": "88sMblmIxj+qIS20Lw3AP5EB+Mn6/cQ/JfpGh9uWuj+vLh0WH6vEP4q9QM3Vssk/ApfuubFqxD/+ASxFg9LEP52qZ0DKJc0/BdpQFehb0j8hg9TzMafEP+g6/+xzK8Q/634UOQjHzj9kuJAwIvfHP5QI7wjpdcU/PMmhnPYWxz9WS/RYszvIP3kXCmx8GsY/v8IczPYb0T9fZGj1+BzJP/Vo7zmLPMc/2l/UgVjSxT/ZEqF0LN3GP5g60A0pIss/VbWCrGNQyj9Ab2bqmtXFP5wtIdmEsrw/Gb1PDW8YuT/RzthY83LCP0gKfxExQss/4ZKnjpd3wT/p+OljBgHBPxljzoBIQL0/yP0ZJxsIuT+6DmE4H0fFP70Vn0u34ME/BjFU3bcbtj+sFBpw63nGP7Z3sOUBa8Y/SuXJk0RSwz/ZDJ1ODm/APzbjbRaFqsU/DTqqP/T1wz/kFWpfkE/GP9L6PmrvKM0/0ZXqnZGXwT8w7Gt7FT/JPw5EhZd2ndg/CXDYJIYS0j/Mi/6xkp3NP5gHW2/MxcY/XnJoD/d5yD/hrzGM+iDEP+xm0nrebMM/qZdau6Gy3T8z1ONwjzLZPw9V29unNdc/fqECT2e9zT9XUHKUzzvGP8daI82zPLs/te0Ao8AWwj9KaSCc0ELkP85JHLqG08A/vi7d4FnJwj+ZrHil5eHBP24rOaR3acM/n+Kawuzmwz/QqmIOoAzCP2q0cTQRH8k/ISwVRQb01j9qUw2joXfBP+9rZCqbcck/TWfqmIPMyj9tfS3fndvEP5EoFGhb3cg/4gt5gvM8xD/rNT2n0OLDP18k+WTSA7o/cdT3EnhIwT8yYhu5ZEDIPyMQ7KNyyMA/5HFXm+n8wz8peM4JtD7HP73lzl4MH8E/s4sfXURGvD9HeVu4Ziu4P1QzJZz42sY/QrCv10iRzj99ZuvUc6fiP9oVhK06bcg/xT8V9cefuz+pc/8Sl1bTP1qDlVXfa74/pMV6+3PizD8=",
          "dtype": "f8"
         },
         "y": {
          "bdata": "gGuKAjQH0D+l6BhNHtTTP+PGBDxen8Q/ZRz1ph7doz9WuNk0YcXXPyi+2gMyCso/6OfENTO80T/4UWkCQvHJP22br0vZFbk/Jwot9vB/2D/IMa3Y1nrIP8yghym0W8S/QYCz5v5Kzr+6YcT7uM/APwi0TFElFW2/MrsVXw02vT+Z7tYX49LCPzUPrD3iktM/G/wyFB634z8n0MmyJovFP0iF4FKyjts/li6fAx+7hL/dwtoy00vhPyKndD5kmtg/RvYPfCxyuD8/1L71MJmwPxy0gxrUI84/RqNLsoKYpD/wQb3y/P/XP1KvKAzKFOS/0BDblBy8xT96RzNXa4DRP5AZArUxuMU/6HtqVB1LwD8tEq98rq6ePwtKFDXhWNI/KpwmfWLxwD/Umplft+HUPzJcwLQyDaK/XxKRZOkLxL9TQp+i7zW3P+74JZdP7bw/WEwlgFVP0D9QtDU7lA3jPySTOxY+Jd0/1bLfIAqlzD+40n/Jq4PkPwnvQpl2oOM/mUnnXmDsND9EbdYlsdrkPzlYsXLEHpy/juejQ+DQ3T8j48BkiX3QP0YwEpThf9c/zEX6Wokd279t5JQIv9XpPxFz5CXJeL2/omGfxWzuzD+ar9BPDrczv4VxNNrvY8M/12UJda/Ewz9Wi/SZ9tHjv7Nn7MhKKcA/Anzz0OMbpz8z281v1Ptav22Rb0MazoA/MllEPSbRyz8/obPKslbWPzTATj0IJ54/YlcBRfu00D+rgtrtgv/XP0eweSXnsLw/jgdxxpoPyj/m+YnYY5bLPwxZ1SUPhaI/elg4FNiCj7/aUl0A8Z3BP27mArMKC9A/NYQpcE7F1D/4wtCcOT6rP8Q+i243xtE/pBXdXXx/yT8g1WY/9w63vwQz3HjNDHE/M75UblYuzz9JXuNKxqmvP+fv5zcb4Nw/Cbw+ZNIIyD9pAadVcCvXv01mAve0jbw/VshG9r2Ytz9/zqAPQOvDv5Dc8CwnyIm/H18R7SZhuz8=",
          "dtype": "f8"
         }
        }
       ],
       "layout": {
        "template": {
         "data": {
          "bar": [
           {
            "error_x": {
             "color": "#2a3f5f"
            },
            "error_y": {
             "color": "#2a3f5f"
            },
            "marker": {
             "line": {
              "color": "#E5ECF6",
              "width": 0.5
             },
             "pattern": {
              "fillmode": "overlay",
              "size": 10,
              "solidity": 0.2
             }
            },
            "type": "bar"
           }
          ],
          "barpolar": [
           {
            "marker": {
             "line": {
              "color": "#E5ECF6",
              "width": 0.5
             },
             "pattern": {
              "fillmode": "overlay",
              "size": 10,
              "solidity": 0.2
             }
            },
            "type": "barpolar"
           }
          ],
          "carpet": [
           {
            "aaxis": {
             "endlinecolor": "#2a3f5f",
             "gridcolor": "white",
             "linecolor": "white",
             "minorgridcolor": "white",
             "startlinecolor": "#2a3f5f"
            },
            "baxis": {
             "endlinecolor": "#2a3f5f",
             "gridcolor": "white",
             "linecolor": "white",
             "minorgridcolor": "white",
             "startlinecolor": "#2a3f5f"
            },
            "type": "carpet"
           }
          ],
          "choropleth": [
           {
            "colorbar": {
             "outlinewidth": 0,
             "ticks": ""
            },
            "type": "choropleth"
           }
          ],
          "contour": [
           {
            "colorbar": {
             "outlinewidth": 0,
             "ticks": ""
            },
            "colorscale": [
             [
              0,
              "#0d0887"
             ],
             [
              0.1111111111111111,
              "#46039f"
             ],
             [
              0.2222222222222222,
              "#7201a8"
             ],
             [
              0.3333333333333333,
              "#9c179e"
             ],
             [
              0.4444444444444444,
              "#bd3786"
             ],
             [
              0.5555555555555556,
              "#d8576b"
             ],
             [
              0.6666666666666666,
              "#ed7953"
             ],
             [
              0.7777777777777778,
              "#fb9f3a"
             ],
             [
              0.8888888888888888,
              "#fdca26"
             ],
             [
              1,
              "#f0f921"
             ]
            ],
            "type": "contour"
           }
          ],
          "contourcarpet": [
           {
            "colorbar": {
             "outlinewidth": 0,
             "ticks": ""
            },
            "type": "contourcarpet"
           }
          ],
          "heatmap": [
           {
            "colorbar": {
             "outlinewidth": 0,
             "ticks": ""
            },
            "colorscale": [
             [
              0,
              "#0d0887"
             ],
             [
              0.1111111111111111,
              "#46039f"
             ],
             [
              0.2222222222222222,
              "#7201a8"
             ],
             [
              0.3333333333333333,
              "#9c179e"
             ],
             [
              0.4444444444444444,
              "#bd3786"
             ],
             [
              0.5555555555555556,
              "#d8576b"
             ],
             [
              0.6666666666666666,
              "#ed7953"
             ],
             [
              0.7777777777777778,
              "#fb9f3a"
             ],
             [
              0.8888888888888888,
              "#fdca26"
             ],
             [
              1,
              "#f0f921"
             ]
            ],
            "type": "heatmap"
           }
          ],
          "histogram": [
           {
            "marker": {
             "pattern": {
              "fillmode": "overlay",
              "size": 10,
              "solidity": 0.2
             }
            },
            "type": "histogram"
           }
          ],
          "histogram2d": [
           {
            "colorbar": {
             "outlinewidth": 0,
             "ticks": ""
            },
            "colorscale": [
             [
              0,
              "#0d0887"
             ],
             [
              0.1111111111111111,
              "#46039f"
             ],
             [
              0.2222222222222222,
              "#7201a8"
             ],
             [
              0.3333333333333333,
              "#9c179e"
             ],
             [
              0.4444444444444444,
              "#bd3786"
             ],
             [
              0.5555555555555556,
              "#d8576b"
             ],
             [
              0.6666666666666666,
              "#ed7953"
             ],
             [
              0.7777777777777778,
              "#fb9f3a"
             ],
             [
              0.8888888888888888,
              "#fdca26"
             ],
             [
              1,
              "#f0f921"
             ]
            ],
            "type": "histogram2d"
           }
          ],
          "histogram2dcontour": [
           {
            "colorbar": {
             "outlinewidth": 0,
             "ticks": ""
            },
            "colorscale": [
             [
              0,
              "#0d0887"
             ],
             [
              0.1111111111111111,
              "#46039f"
             ],
             [
              0.2222222222222222,
              "#7201a8"
             ],
             [
              0.3333333333333333,
              "#9c179e"
             ],
             [
              0.4444444444444444,
              "#bd3786"
             ],
             [
              0.5555555555555556,
              "#d8576b"
             ],
             [
              0.6666666666666666,
              "#ed7953"
             ],
             [
              0.7777777777777778,
              "#fb9f3a"
             ],
             [
              0.8888888888888888,
              "#fdca26"
             ],
             [
              1,
              "#f0f921"
             ]
            ],
            "type": "histogram2dcontour"
           }
          ],
          "mesh3d": [
           {
            "colorbar": {
             "outlinewidth": 0,
             "ticks": ""
            },
            "type": "mesh3d"
           }
          ],
          "parcoords": [
           {
            "line": {
             "colorbar": {
              "outlinewidth": 0,
              "ticks": ""
             }
            },
            "type": "parcoords"
           }
          ],
          "pie": [
           {
            "automargin": true,
            "type": "pie"
           }
          ],
          "scatter": [
           {
            "fillpattern": {
             "fillmode": "overlay",
             "size": 10,
             "solidity": 0.2
            },
            "type": "scatter"
           }
          ],
          "scatter3d": [
           {
            "line": {
             "colorbar": {
              "outlinewidth": 0,
              "ticks": ""
             }
            },
            "marker": {
             "colorbar": {
              "outlinewidth": 0,
              "ticks": ""
             }
            },
            "type": "scatter3d"
           }
          ],
          "scattercarpet": [
           {
            "marker": {
             "colorbar": {
              "outlinewidth": 0,
              "ticks": ""
             }
            },
            "type": "scattercarpet"
           }
          ],
          "scattergeo": [
           {
            "marker": {
             "colorbar": {
              "outlinewidth": 0,
              "ticks": ""
             }
            },
            "type": "scattergeo"
           }
          ],
          "scattergl": [
           {
            "marker": {
             "colorbar": {
              "outlinewidth": 0,
              "ticks": ""
             }
            },
            "type": "scattergl"
           }
          ],
          "scattermap": [
           {
            "marker": {
             "colorbar": {
              "outlinewidth": 0,
              "ticks": ""
             }
            },
            "type": "scattermap"
           }
          ],
          "scattermapbox": [
           {
            "marker": {
             "colorbar": {
              "outlinewidth": 0,
              "ticks": ""
             }
            },
            "type": "scattermapbox"
           }
          ],
          "scatterpolar": [
           {
            "marker": {
             "colorbar": {
              "outlinewidth": 0,
              "ticks": ""
             }
            },
            "type": "scatterpolar"
           }
          ],
          "scatterpolargl": [
           {
            "marker": {
             "colorbar": {
              "outlinewidth": 0,
              "ticks": ""
             }
            },
            "type": "scatterpolargl"
           }
          ],
          "scatterternary": [
           {
            "marker": {
             "colorbar": {
              "outlinewidth": 0,
              "ticks": ""
             }
            },
            "type": "scatterternary"
           }
          ],
          "surface": [
           {
            "colorbar": {
             "outlinewidth": 0,
             "ticks": ""
            },
            "colorscale": [
             [
              0,
              "#0d0887"
             ],
             [
              0.1111111111111111,
              "#46039f"
             ],
             [
              0.2222222222222222,
              "#7201a8"
             ],
             [
              0.3333333333333333,
              "#9c179e"
             ],
             [
              0.4444444444444444,
              "#bd3786"
             ],
             [
              0.5555555555555556,
              "#d8576b"
             ],
             [
              0.6666666666666666,
              "#ed7953"
             ],
             [
              0.7777777777777778,
              "#fb9f3a"
             ],
             [
              0.8888888888888888,
              "#fdca26"
             ],
             [
              1,
              "#f0f921"
             ]
            ],
            "type": "surface"
           }
          ],
          "table": [
           {
            "cells": {
             "fill": {
              "color": "#EBF0F8"
             },
             "line": {
              "color": "white"
             }
            },
            "header": {
             "fill": {
              "color": "#C8D4E3"
             },
             "line": {
              "color": "white"
             }
            },
            "type": "table"
           }
          ]
         },
         "layout": {
          "annotationdefaults": {
           "arrowcolor": "#2a3f5f",
           "arrowhead": 0,
           "arrowwidth": 1
          },
          "autotypenumbers": "strict",
          "coloraxis": {
           "colorbar": {
            "outlinewidth": 0,
            "ticks": ""
           }
          },
          "colorscale": {
           "diverging": [
            [
             0,
             "#8e0152"
            ],
            [
             0.1,
             "#c51b7d"
            ],
            [
             0.2,
             "#de77ae"
            ],
            [
             0.3,
             "#f1b6da"
            ],
            [
             0.4,
             "#fde0ef"
            ],
            [
             0.5,
             "#f7f7f7"
            ],
            [
             0.6,
             "#e6f5d0"
            ],
            [
             0.7,
             "#b8e186"
            ],
            [
             0.8,
             "#7fbc41"
            ],
            [
             0.9,
             "#4d9221"
            ],
            [
             1,
             "#276419"
            ]
           ],
           "sequential": [
            [
             0,
             "#0d0887"
            ],
            [
             0.1111111111111111,
             "#46039f"
            ],
            [
             0.2222222222222222,
             "#7201a8"
            ],
            [
             0.3333333333333333,
             "#9c179e"
            ],
            [
             0.4444444444444444,
             "#bd3786"
            ],
            [
             0.5555555555555556,
             "#d8576b"
            ],
            [
             0.6666666666666666,
             "#ed7953"
            ],
            [
             0.7777777777777778,
             "#fb9f3a"
            ],
            [
             0.8888888888888888,
             "#fdca26"
            ],
            [
             1,
             "#f0f921"
            ]
           ],
           "sequentialminus": [
            [
             0,
             "#0d0887"
            ],
            [
             0.1111111111111111,
             "#46039f"
            ],
            [
             0.2222222222222222,
             "#7201a8"
            ],
            [
             0.3333333333333333,
             "#9c179e"
            ],
            [
             0.4444444444444444,
             "#bd3786"
            ],
            [
             0.5555555555555556,
             "#d8576b"
            ],
            [
             0.6666666666666666,
             "#ed7953"
            ],
            [
             0.7777777777777778,
             "#fb9f3a"
            ],
            [
             0.8888888888888888,
             "#fdca26"
            ],
            [
             1,
             "#f0f921"
            ]
           ]
          },
          "colorway": [
           "#636efa",
           "#EF553B",
           "#00cc96",
           "#ab63fa",
           "#FFA15A",
           "#19d3f3",
           "#FF6692",
           "#B6E880",
           "#FF97FF",
           "#FECB52"
          ],
          "font": {
           "color": "#2a3f5f"
          },
          "geo": {
           "bgcolor": "white",
           "lakecolor": "white",
           "landcolor": "#E5ECF6",
           "showlakes": true,
           "showland": true,
           "subunitcolor": "white"
          },
          "hoverlabel": {
           "align": "left"
          },
          "hovermode": "closest",
          "mapbox": {
           "style": "light"
          },
          "paper_bgcolor": "white",
          "plot_bgcolor": "#E5ECF6",
          "polar": {
           "angularaxis": {
            "gridcolor": "white",
            "linecolor": "white",
            "ticks": ""
           },
           "bgcolor": "#E5ECF6",
           "radialaxis": {
            "gridcolor": "white",
            "linecolor": "white",
            "ticks": ""
           }
          },
          "scene": {
           "xaxis": {
            "backgroundcolor": "#E5ECF6",
            "gridcolor": "white",
            "gridwidth": 2,
            "linecolor": "white",
            "showbackground": true,
            "ticks": "",
            "zerolinecolor": "white"
           },
           "yaxis": {
            "backgroundcolor": "#E5ECF6",
            "gridcolor": "white",
            "gridwidth": 2,
            "linecolor": "white",
            "showbackground": true,
            "ticks": "",
            "zerolinecolor": "white"
           },
           "zaxis": {
            "backgroundcolor": "#E5ECF6",
            "gridcolor": "white",
            "gridwidth": 2,
            "linecolor": "white",
            "showbackground": true,
            "ticks": "",
            "zerolinecolor": "white"
           }
          },
          "shapedefaults": {
           "line": {
            "color": "#2a3f5f"
           }
          },
          "ternary": {
           "aaxis": {
            "gridcolor": "white",
            "linecolor": "white",
            "ticks": ""
           },
           "baxis": {
            "gridcolor": "white",
            "linecolor": "white",
            "ticks": ""
           },
           "bgcolor": "#E5ECF6",
           "caxis": {
            "gridcolor": "white",
            "linecolor": "white",
            "ticks": ""
           }
          },
          "title": {
           "x": 0.05
          },
          "xaxis": {
           "automargin": true,
           "gridcolor": "white",
           "linecolor": "white",
           "ticks": "",
           "title": {
            "standoff": 15
           },
           "zerolinecolor": "white",
           "zerolinewidth": 2
          },
          "yaxis": {
           "automargin": true,
           "gridcolor": "white",
           "linecolor": "white",
           "ticks": "",
           "title": {
            "standoff": 15
           },
           "zerolinecolor": "white",
           "zerolinewidth": 2
          }
         }
        },
        "title": {
         "text": "Markowitz Mean Varience Model"
        },
        "xaxis": {
         "title": {
          "text": "Volatility (Standard Deviation)"
         }
        },
        "yaxis": {
         "title": {
          "text": "Annualized Returns"
         }
        }
       }
      }
     },
     "metadata": {},
     "output_type": "display_data"
    }
   ],
   "source": [
    "hover_texts = [\n",
    "    f\"{ticker} <br>Volatility: {vol:.2f} <br>Returns: {ret:.2%} <br>Sharpe Ratio: {sr:.2f}\"\n",
    "    for ticker, vol, ret, sr in zip(names, volatility, annualized_returns, sharpe_ratios)\n",
    "]\n",
    "\n",
    "fig = go.Figure(data=go.Scatter(\n",
    "    x=volatility, \n",
    "    y=annualized_returns, \n",
    "    mode='markers',\n",
    "    hoverinfo='text',\n",
    "    hovertext=hover_texts,\n",
    "    marker=dict(color=sharpe_ratios, colorscale = 'RdBu', size=6, line=dict(width=1), colorbar=dict(title=\"Sharpe<br>Ratio\")\n",
    "    )\n",
    "))\n",
    "\n",
    "fig.update_layout(\n",
    "    title='Markowitz Mean Varience Model',\n",
    "    xaxis_title='Volatility (Standard Deviation)',\n",
    "    yaxis_title='Annualized Returns',\n",
    ")\n",
    "\n",
    "fig.show()\n"
   ]
  },
  {
   "cell_type": "code",
   "execution_count": 6,
   "metadata": {},
   "outputs": [
    {
     "name": "stderr",
     "output_type": "stream",
     "text": [
      "100%|██████████| 1000/1000 [00:02<00:00, 369.39it/s]\n"
     ]
    }
   ],
   "source": [
    "all_portfolios, dominant_portfolios = MonteCarloRBA(names, cov, annualized_returns, 1000)"
   ]
  },
  {
   "cell_type": "code",
   "execution_count": 7,
   "metadata": {},
   "outputs": [
    {
     "name": "stdout",
     "output_type": "stream",
     "text": [
      "52 1000\n"
     ]
    }
   ],
   "source": [
    "print (len(dominant_portfolios) ,len(all_portfolios))"
   ]
  },
  {
   "cell_type": "code",
   "execution_count": 8,
   "metadata": {},
   "outputs": [
    {
     "data": {
      "application/vnd.plotly.v1+json": {
       "config": {
        "plotlyServerURL": "https://plot.ly"
       },
       "data": [
        {
         "hoverinfo": "text",
         "marker": {
          "color": [
           2.809638926792037,
           2.6213189895324334,
           2.3199573033340846,
           1.2626895493720223,
           1.8319987817018273,
           1.246413917755451,
           1.4672094850982007,
           1.6524191256758307,
           2.8645966169079706,
           1.3396739488885783,
           1.7373122772511327,
           2.6377054346861457,
           3.410965558278518,
           3.042191288223728,
           1.9781069268844773,
           0.6612802439951322,
           4.166267606608494,
           2.330198863857482,
           4.4862497108548824,
           2.0764810264753963,
           2.6195866856386316,
           3.424957785937898,
           3.723791614611177,
           3.5750678752174943,
           1.9008960310425105,
           0.6325578266840108,
           3.4159323548669165,
           2.817072563423864,
           2.503649939889305,
           3.354140811670634,
           2.307665660101477,
           3.0249333742040307,
           2.148888880452599,
           3.773840376352949,
           1.5336890425843794,
           2.3002230403636186,
           0.28083855774382177,
           2.341782932099706,
           0.30752017265838316,
           1.0202323410804246,
           2.4712167115011376,
           3.331378840423849,
           2.7905070712999795,
           2.735595404560444,
           2.578004812234569,
           3.0246539789100773,
           2.419982018220175,
           1.3893631189926927,
           2.705396723460267,
           1.6335532880884438,
           2.690959629340054,
           2.6837686602027118,
           3.4713417205094816,
           2.7137589282576187,
           1.835238448210089,
           3.028993224223194,
           3.0483810244163414,
           3.6841809555442406,
           2.750845735888507,
           1.4248965046541584,
           2.6762492164371623,
           2.988753571364945,
           2.8660706110259264,
           3.1933560765383318,
           2.9441639675803937,
           2.7452989702100687,
           4.651955871613941,
           3.0416311588134004,
           2.0987115832944188,
           2.809638999132325,
           2.700920595536841,
           2.453948591939797,
           1.8749507511043955,
           0.8071285255561855,
           1.7413877995451446,
           3.0187730299939144,
           3.9269903074150143,
           0.8785811618939162,
           1.5564000294718208,
           0.5678026532616239,
           3.661732448355268,
           3.4273375296368993,
           2.688242603174874,
           0.9821103741173834,
           0.30752017265838427,
           4.120688927654955,
           1.8980666317354435,
           2.20447082519786,
           1.8477835856602556,
           0.9857136073859698,
           1.5642330204644321,
           2.8454835208981653,
           2.920303506797148,
           2.604265094611963,
           3.0518970269432586,
           3.2308648681877283,
           3.77867193826237,
           3.9983535827159824,
           2.7289181862550587,
           2.0505958863660996,
           2.830852947142418,
           3.3158788047995578,
           3.716940316584726,
           2.1316759021845297,
           2.587289058633257,
           3.3208731610527904,
           2.3431492488538437,
           2.201733778727561,
           3.4663295649772152,
           2.736331559517833,
           1.5255389174052727,
           1.2885373039709358,
           2.53823210604177,
           3.0886378502993743,
           3.797341411559272,
           2.3002230403636186,
           2.7172970855778447,
           2.236836994779964,
           2.5974848359953913,
           3.7614264582402055,
           2.8771307617655677,
           2.888464921585871,
           2.599750405749811,
           2.919106250629042,
           2.148313058198657,
           0.929559497813179,
           2.420302204777878,
           2.6600091159618904,
           2.8762289360954423,
           3.0742846388833978,
           2.573211868733103,
           0.7131570267415271,
           1.9448313814482785,
           3.177597582163224,
           2.865593268108914,
           0.9538799668159468,
           1.7095964609748004,
           0.9823945107259161,
           2.1075808246090144,
           3.288227522558479,
           2.0706792667060205,
           2.448623256214136,
           2.116280209800009,
           2.1637722974779714,
           2.834867836363278,
           1.4307097969090556,
           2.8584771957849235,
           3.0318068561259945,
           0.8382919339982423,
           1.282777665066056,
           2.588073569971661,
           1.971954624541494,
           2.629649938001324,
           3.070221742880645,
           2.7197275797979334,
           3.1180875751709496,
           2.4104500371949786,
           2.9615626676233893,
           1.6079349550013196,
           3.212725352264039,
           2.9173030007574123,
           3.3660265677471553,
           0.46450505173542495,
           2.515989367179881,
           3.7663662447991673,
           3.0160047513322925,
           3.069893450932941,
           2.497321884444945,
           3.422110723443989,
           2.2760278660318023,
           3.193825188004131,
           3.834453570533829,
           3.954405788633803,
           3.1171756552836443,
           3.122190581475244,
           1.8719835142333243,
           3.5655822267311796,
           2.6162354693026555,
           1.169939737233188,
           2.281441396343032,
           3.2825755119168227,
           3.1977937030261474,
           2.091396865932938,
           2.0513572700866867,
           2.6161653991306406,
           2.8742133523512705,
           2.1490601083604868,
           3.117551722138338,
           2.290858282970914,
           2.506665388774036,
           1.4159248181640507,
           3.0248086807492855,
           2.9165310486737273,
           3.6481902566769318,
           2.9092869208495413,
           2.9344826922580958,
           3.751084827478135,
           2.88752895905899,
           0.9606630260181561,
           3.159190900099121,
           1.8201775451569255,
           3.0314959092689824,
           0.9579741155226476,
           3.2874018098255795,
           1.8661174246560366,
           2.119549438085826,
           0.410348265670287,
           1.8958131141868968,
           0.45434691645059105,
           3.230969444503096,
           3.939151238585235,
           1.8807594659931883,
           2.3803881936637983,
           2.385747757558195,
           1.8687346971557366,
           3.340160998319104,
           4.412608883821137,
           1.3078244350448645,
           1.5076975536262456,
           0.2808385577437485,
           2.1980349874335143,
           2.1445852783872406,
           2.4402668419193723,
           1.8584652486936237,
           2.9041745456746466,
           2.668934108508097,
           2.169333741215948,
           4.095204875120513,
           2.5472193680760977,
           3.5552517336397647,
           2.511321464023922,
           1.3493033045003706,
           3.118693902887031,
           1.477751010579991,
           2.2474849574028157,
           2.150162617761464,
           3.0278174742591237,
           2.694768875064272,
           2.457468410377773,
           2.538854329662047,
           0.9823945107259158,
           3.6354241775855014,
           2.6309965970577873,
           1.7103976985792497,
           2.1184561339112835,
           1.0857129285324878,
           2.3984752195372288,
           3.11484294002578,
           3.8130645902993803,
           1.2311355262002432,
           2.6257118354728393,
           2.7414464269923418,
           2.569402471857558,
           1.7080849625303693,
           2.2691607938231826,
           2.7122258754310216,
           3.308274799098748,
           1.222871760480691,
           3.3765619917555414,
           2.0585314067184393,
           2.557927870755322,
           2.741537466108087,
           2.357987900219818,
           2.992284893841851,
           2.3462596519401764,
           3.4460145855392534,
           1.831134035542501,
           3.186156670792496,
           2.5656465544928113,
           2.051830981619073,
           2.578240660826444,
           0.6675637218455029,
           2.3719084473268883,
           2.5904155716558637,
           3.775458849776643,
           2.688923121160864,
           2.3005012960456837,
           1.8955001668182245,
           1.1613110335507295,
           2.370354630547618,
           1.4569336927260899,
           3.638050333058157,
           2.8993410285398973,
           1.5239538349404584,
           2.7266037816468893,
           1.64900299056217,
           2.4706196994601286,
           3.761399056987236,
           3.250257067894231,
           2.6882426157941772,
           3.752626622706603,
           3.122705748068813,
           2.581570007271037,
           2.184205418299512,
           0.8367131441064648,
           3.217277262157543,
           3.263886903593904,
           1.7820178843631511,
           3.4617878953033276,
           1.7753749114975899,
           2.8323370354699664,
           3.072044276658506,
           3.225573592254609,
           1.8264258762579488,
           3.638976974621857,
           3.7707444816107984,
           3.267609579206117,
           2.7718281952533386,
           3.0107931214226586,
           2.767115975001765,
           1.5199445463723376,
           2.459336859158619,
           3.3855150859992444,
           2.881712201395299,
           0.9724642409961243,
           3.873560925118511,
           2.4465694825435786,
           3.9799595443276727,
           1.8755387179230387,
           3.2108720836847087,
           2.6206208903312485,
           3.089153287745002,
           2.419981641867362,
           2.1477697368190536,
           3.3289129756756006,
           2.4868311006631765,
           3.4863039807594776,
           2.309772687980828,
           2.5186463179487997,
           4.114644042870225,
           3.016129889095257,
           3.2302227858936625,
           2.4263317002286477,
           2.5103252482294414,
           2.551157343551003,
           3.0064087396994976,
           1.8830936755668035,
           2.1039519596632323,
           2.6083944375760044,
           1.2449215004257128,
           3.1957611066020677,
           2.947176263465064,
           2.1431335598146815,
           3.7068591630507797,
           2.8698090714126723,
           2.7530138811521296,
           1.9683027579680763,
           2.5328765732657126,
           3.4212629763872062,
           3.012793649219019,
           2.243967181037916,
           2.1842152060691684,
           2.919848045382649,
           2.466757750887799,
           2.8560650057624866,
           1.939292315448287,
           2.781453684065366,
           2.4633638220232514,
           1.8055620567688673,
           1.569248130268636,
           2.118238621156263,
           3.488700875968026,
           1.3178846656897623,
           0.38009762263944985,
           3.5957290273147575,
           3.6727315002223864,
           1.501148820502411,
           2.354789698231916,
           1.8066102652652605,
           2.0610417786753166,
           2.327100161013281,
           1.0003401789186293,
           1.9080188086105438,
           2.0650141807591207,
           2.3194392660019085,
           2.089575704016579,
           2.4667577508877936,
           1.6845642791150746,
           2.690361755882373,
           3.1111918686129885,
           2.2562537323733367,
           2.6937258747664803,
           4.750654206927781,
           2.466757750887799,
           2.470619699460128,
           2.5330676870148845,
           2.843239108539607,
           3.7621069522906447,
           2.9027518163851598,
           2.5178387586838156,
           2.705034342722777,
           2.5105209477928874,
           1.202334831055177,
           1.63863841774991,
           2.86630692522316,
           0.7803125268532565,
           2.3722407610237872,
           0.9504553610800028,
           1.9714624423261795,
           2.5010686774897564,
           2.7316480105944727,
           2.7192806945886248,
           3.0088292894159814,
           2.123560260212656,
           2.7890357875559215,
           2.959787939897424,
           2.4709981048979945,
           3.4930761227471727,
           2.100540022983354,
           2.5831684814097957,
           1.4589213722019345,
           2.714274019579056,
           2.5358364102549764,
           2.5347143500104097,
           3.07855193643464,
           2.3202742885303453,
           4.075215481649884,
           3.0295362886723054,
           2.947899341776902,
           1.0553789304838572,
           2.0204607158905556,
           3.2502570678942315,
           2.5769957945846653,
           2.0792356543718813,
           2.960833751011915,
           1.7911166638883083,
           3.3076440340037907,
           2.1780791634958154,
           3.0811590813906573,
           2.766509680144075,
           3.6492535649202984,
           2.5146609091957073,
           3.999038943745235,
           1.5078040586743375,
           3.7089988069112065,
           3.5960435684768997,
           1.2058922729913137,
           2.5046176349629863,
           1.7122899311407977,
           2.397619833371056,
           3.4558365136410445,
           3.709731551005135,
           1.0740677741825018,
           3.1645683795522865,
           2.283352843025634,
           2.963994844455364,
           3.1879200792290265,
           2.78331907566928,
           1.8599748795937765,
           2.588639375426835,
           2.8528424042586953,
           3.6167774168357254,
           2.705746570450269,
           3.81954932841492,
           2.7996628032066293,
           2.4776063819811216,
           2.7813905232282163,
           3.610028018061569,
           1.1912159734877708,
           2.4914245298989193,
           2.4035907366837197,
           2.4522945103897107,
           2.6035793949766366,
           3.7568452420999683,
           1.8127915782435362,
           2.645871935160717,
           2.9704725264545813,
           0.8576401637644023,
           2.6736055139108896,
           1.7823540554573998,
           2.1581635841189466,
           1.883400837899607,
           2.4490337994074896,
           1.2511746536038721,
           3.1438612424460533,
           1.2465034025815753,
           0.3075201726583843,
           2.9344191722958293,
           1.6716017382208666,
           2.5422343730243173,
           2.502213264386077,
           1.747399403684896,
           3.290602882404007,
           3.8385121089005367,
           4.066571870875386,
           3.4536704868666877,
           1.3018244466194921,
           3.2957214511340664,
           2.7852950824888256,
           0.9604798350527244,
           2.6507332093912033,
           2.9307137305915516,
           3.0126477712997928,
           3.0993131603701953,
           2.8293215836066987,
           2.5479145668036356,
           2.9175010991637946,
           0.8962918592937567,
           2.05362221392068,
           2.705034341454793,
           3.1009002398828622,
           1.7373122772511347,
           2.8367235130229456,
           2.2738523451472226,
           2.465225016227929,
           0.5844745689320645,
           4.841799035272103,
           2.027102889483139,
           2.351160099373169,
           1.0132789781150073,
           3.4133279805066445,
           1.7517324235328993,
           3.300437827301618,
           2.6017583635746577,
           1.8324370761232465,
           2.657162744609813,
           2.202977965210427,
           2.5076870727710956,
           2.9064175184279444,
           3.030267523662735,
           2.4394148433308773,
           0.7976790781596359,
           3.3605766026509283,
           2.129523524767994,
           1.4154831553313052,
           2.4709383317352116,
           1.9427073494964289,
           2.6454252754152012,
           2.9516662071835036,
           2.8572772621636973,
           2.829373990492317,
           2.857666785315724,
           2.526039552570657,
           3.0352200673312897,
           0.47394661929447734,
           3.5919392744561494,
           4.222499077104108,
           3.282575510087472,
           4.246521853079858,
           1.0200672793478942,
           1.8274975147828805,
           2.0110784888959206,
           2.872693813996421,
           1.4324592898959336,
           3.4492499519798203,
           2.5913775150186833,
           2.213919576987201,
           0.9836241881588743,
           1.7396442746481109,
           2.493206627666928,
           2.681711653078685,
           2.7223200112481143,
           2.5770958972977995,
           2.0181107833836593,
           1.7273111502678191,
           2.515652566210375,
           3.2115071560092003,
           2.914444100553523,
           3.2021333204233566,
           1.8091817297572852,
           3.762285097375498,
           2.473549994547927,
           2.2858516975939884,
           2.43347629058195,
           2.5310626928203104,
           2.372049555347555,
           2.9025473444683842,
           2.378930887024809,
           2.7142742391080232,
           2.464368802181253,
           2.113209372909879,
           1.9156617615986555,
           1.638484045059098,
           3.9442777923574925,
           1.4760378960067322,
           2.4207514007862763,
           2.6712094762959966,
           3.4693481228548295,
           2.4497097498300135,
           3.3246831437938886,
           2.4190557911269983,
           2.419593960505139,
           2.964465215304751,
           3.358869381807757,
           3.0194228285755758,
           2.4219741679770763,
           2.569941315287577,
           2.698940879501669,
           3.47971886417029,
           3.529817274528607,
           1.6982925525897483,
           2.4687845662430905,
           2.680240175036329,
           2.2068787421239593,
           1.1019782184864892,
           2.4616280076178043,
           2.919106373434709,
           2.7833948411574663,
           3.5163997779466887,
           2.902785049029499,
           2.853214180353222,
           1.832770740604919,
           3.310128691043357,
           1.3020448310133494,
           2.1709907797492236,
           2.915100594160875,
           2.4892265344131186,
           1.8134886743753464,
           3.40927585459548,
           3.2484410723956914,
           0.19030845563972223,
           3.6382431244918285,
           3.6940549539237737,
           1.8094010431316496,
           2.6688149102877743,
           2.713890106950817,
           3.670173395245243,
           3.2663452199755003,
           1.4929629036574963,
           3.428673690509022,
           2.9940428987606746,
           3.511192281471932,
           3.778360437008066,
           4.421167010481142,
           2.9253339100449063,
           2.1113637311826214,
           2.0498711245580514,
           2.4531571868659894,
           2.3122470388310044,
           2.6285234451117514,
           2.521536932491088,
           2.471058417861663,
           3.2662956459388317,
           1.3018244475889706,
           2.848706602853296,
           1.4226611202377666,
           2.1183394579066497,
           3.752809144939324,
           2.6110404867168002,
           2.344994903013304,
           1.4121328921740932,
           2.3718998197699555,
           3.327291095823698,
           3.1304236259149243,
           3.413255775579825,
           2.88784462575791,
           2.806775831927378,
           2.6611197806052846,
           2.5066427538447003,
           3.2018605324450373,
           4.0978634565322,
           3.4664179943379043,
           1.2180921256334998,
           4.191729739475004,
           2.919148579522619,
           3.1279655618485687,
           2.051098167357093,
           1.9743045997275146,
           1.7270943143695106,
           2.2601383890838473,
           3.8131388552859637,
           2.4303122831700286,
           2.641185020339441,
           2.616402959703575,
           3.034376768811222,
           1.0019065856596276,
           1.9682259807355458,
           2.5332560258881873,
           1.6524186818913968,
           3.3169200222189414,
           2.473870532492189,
           3.6275623190139825,
           0.8802886327822713,
           2.2055935682800722,
           2.526735835406903,
           0.8229609704243138,
           3.1521261233304716,
           1.1606965793316544,
           2.9418260862774774,
           2.5245520712393335,
           1.9548688817129647,
           2.877416759656452,
           1.9172520128033395,
           2.866215511703868,
           3.8662775142017525,
           1.8800542119696617,
           1.9982918150421995,
           1.9259868436269934,
           3.1057831562687155,
           2.763091226897963,
           1.8544811017763785,
           2.466757750887797,
           3.35872007866169,
           2.319705199205394,
           1.3456155367154694,
           1.7889821861759436,
           3.3115964903118376,
           1.62181440687968,
           2.3002230403636186,
           2.072987456326121,
           2.898765324864896,
           0.8071282460918835,
           3.194765151951526,
           1.7711040489227243,
           2.0525108914757655,
           2.4487455807316425,
           2.3954374872059288,
           3.4275773482273593,
           3.012707028386714,
           1.7003067485367822,
           1.2756688282914515,
           3.29689288131838,
           2.8026738463897183,
           3.2117943339199893,
           2.2693797585844857,
           1.8390638700613717,
           3.129088414398378,
           2.669053391924638,
           2.74777185337272,
           3.3208731610528526,
           2.6162664252574936,
           3.2172773740063803,
           3.607363496036852,
           1.5946973193779002,
           2.017649623714932,
           1.7286450236279178,
           3.005468491829846,
           2.5805270105256066,
           1.3797160340260881,
           0.9847913016090063,
           1.916018871668141,
           2.6113411297490154,
           3.518450662980913,
           2.70089194329071,
           1.9688207208330653,
           3.0750685183159483,
           1.8753531585664351,
           2.475292036819185,
           2.289123441819751,
           1.700141522532009,
           2.6719334623898714,
           3.3091295735636943,
           2.88985633276946,
           1.8584258667368436,
           1.76318343114419,
           2.7576053956714617,
           2.6725437377819086,
           2.4782046509318403,
           2.4385502704231694,
           2.5112935158549305,
           2.262630435300162,
           3.1550478415631065,
           2.388775824946845,
           1.696961153246657,
           2.280040205216063,
           1.462505362003023,
           0.054106686502274876,
           2.69790843485676,
           1.840057984898725,
           2.7145701471411035,
           1.9849677056697201,
           0.9789930594841075,
           3.909151790750788,
           2.5651535320124457,
           2.129349361931833,
           2.936455461151503,
           1.6444392043721696,
           3.528669848544871,
           1.8529514737632717,
           2.4755090874153036,
           1.489808175627441,
           2.8503027284727813,
           3.364310259586681,
           0.7444750150381395,
           3.3943643447140888,
           1.8858463343595515,
           2.126176912235225,
           1.3344821127658513,
           2.024730518021148,
           1.3850509434469387,
           1.4552984419424457,
           2.7977298648153703,
           1.4447068613942116,
           1.2375819507599475,
           3.4831998001114357,
           2.576131589896089,
           2.5878193155389226,
           2.1052067701604824,
           2.4018057940107385,
           2.526796374241459,
           2.453723222645527,
           2.873356131840681,
           3.4785016854807753,
           3.468192443927647,
           1.3005637999051565,
           2.6782353723851102,
           1.4972403283528615,
           2.591936339896424,
           1.7404860427124578,
           2.4591584762456686,
           1.3464979826376158,
           2.5380430200939,
           2.9288328068532317,
           2.0417515537762285,
           3.6808146318734845,
           2.4567774283864017,
           2.6586594802158348,
           2.971927430833835,
           2.8991777920338855,
           3.7496818922979043,
           3.4703969440894618,
           2.7115729619809112,
           2.1376656166589045,
           2.1270169842386744,
           2.468864379723796,
           2.1322079133851095,
           3.6355738564970372,
           2.113498336427575,
           1.9387019946866282,
           3.0163372899131735,
           3.219474718772543,
           2.8129114156945505,
           3.563234403567322,
           2.247758724683598,
           2.4051010869494287,
           2.532217418917172,
           3.479822546715709,
           2.5488209918231974,
           1.7371707767709954,
           4.7251162132966185,
           2.5766442887108307,
           2.057821898545265,
           1.2443245315911216,
           3.3786249845371055,
           3.733992152144064,
           1.8056662353424888,
           4.575126641739115,
           0.6909284094879431,
           2.827124990026402,
           2.755178977389981,
           3.037065434183798,
           3.769203221903679,
           2.4585529932208012,
           3.2557779647719216,
           1.8253832354426374,
           3.0920377932811003,
           2.792512539975975,
           2.813654873816722,
           2.2899499664328995,
           1.326545745067491,
           0.9461051122917368,
           1.514749810114637,
           2.638244515299814,
           2.165315578999809,
           2.5180344770822143,
           2.6988743435779683,
           2.9509664753639266,
           1.5327210835644087,
           2.758185083742424,
           2.1228656659887277,
           2.8418781814339846,
           2.228900982727468,
           3.250257067894194,
           2.234405517604093,
           0.7346122328541258,
           1.6261841853630037,
           2.270909515905823,
           2.1416248704847405,
           0.9746109114918907,
           4.386844556279092,
           3.311696894309483,
           1.6538107777808913,
           1.7619611493160272,
           2.3128969248077804,
           2.9544206066495127,
           3.2189683036954504,
           1.354436831821732,
           2.1473294546031862,
           3.9274786127336294,
           2.7700432019461347,
           2.5304154590633345,
           2.5388541237937536,
           0.7862745194495163,
           2.091519714898281,
           3.5835582663914565,
           2.7605794161168027,
           0.6873721166487278,
           3.6563304063526725,
           0.8412784539887517,
           2.6663426656245806,
           1.625655760588113,
           1.8780878283620501,
           1.6813253525618266,
           1.8134886743753469,
           3.553300043552395,
           2.572399875264124,
           3.292119973366221,
           2.1708932332648097,
           2.1756344153356912,
           1.8881832452374256,
           2.5541928489630474,
           1.8882506913935913,
           2.97422288968541,
           2.14301511010959,
           2.284688385582956,
           2.338387149872898,
           2.7015811544731925,
           1.848646023853906,
           2.7661786441721423,
           1.6758236071166188,
           1.3758468478175647,
           0.054106686502274993,
           1.4074597678726417,
           2.679574037558296,
           3.6826218769656447,
           0.9494690204200424,
           2.6137546087049635,
           2.4667577508877985,
           2.4753033446999932,
           3.362045803621964,
           2.7630911471077555,
           3.361216999746838,
           1.9429432346063982,
           1.8581129388136206,
           2.5316264139316345,
           3.2679959258350935,
           2.626935344210279,
           4.577687070427358,
           3.4782563870320553,
           2.007283928583825,
           2.468872687318369,
           3.0488182290633863,
           0.7796786591350461,
           4.420405985100558,
           3.0664643889494165,
           2.526823107606373,
           3.515618285192172,
           2.1581636124483943,
           2.016524240198395,
           2.998640795907829,
           2.292681984676956,
           2.3580067674760716,
           3.579943703686911,
           2.7580411155555793,
           2.608394427407783,
           2.645528319874917,
           2.214050316939958,
           1.5192040482084899,
           0.9724642409961243,
           2.818031076894808,
           1.6291070478914624,
           3.62627803025794,
           3.5399126438189734,
           1.9687428118418706,
           2.4720927158387775,
           2.6074777282006645,
           3.476900511030196,
           3.3868753066763593,
           2.7408131241567864,
           2.0644601870424215,
           3.28000275418785,
           1.8375793510528655,
           2.632371452221476,
           1.8915826890965484,
           3.2111300237847384,
           1.9075457812360026,
           2.533067533918101,
           1.3455826393137738,
           2.7818297165450274,
           3.2865196690670513,
           3.047616455229937,
           1.7441909244668745,
           3.7714008886645205,
           1.1126388691484141,
           2.6036475003905575,
           1.7866029414892795,
           1.6231413903619882,
           2.92541846125426,
           2.694118717966211,
           2.816667181627296,
           1.9209887188932784,
           3.4365961890170875,
           3.043808266471066,
           3.023524246349897,
           0.9728139120003071,
           3.1572940541526497,
           2.910787919015297,
           0.9877933324612904,
           2.390489046404873,
           2.4603887085662755,
           1.9856854975218392,
           2.323333826939013,
           3.246549580513401,
           2.1653155956709917,
           0.5945876144579764,
           2.860520814828619,
           2.2323044026681957,
           3.2451471677756123,
           2.5890185191717703,
           2.948860585162635
          ],
          "colorbar": {
           "title": {
            "text": "Sharpe<br>Ratio"
           }
          },
          "colorscale": [
           [
            0,
            "rgb(103,0,31)"
           ],
           [
            0.1,
            "rgb(178,24,43)"
           ],
           [
            0.2,
            "rgb(214,96,77)"
           ],
           [
            0.3,
            "rgb(244,165,130)"
           ],
           [
            0.4,
            "rgb(253,219,199)"
           ],
           [
            0.5,
            "rgb(247,247,247)"
           ],
           [
            0.6,
            "rgb(209,229,240)"
           ],
           [
            0.7,
            "rgb(146,197,222)"
           ],
           [
            0.8,
            "rgb(67,147,195)"
           ],
           [
            0.9,
            "rgb(33,102,172)"
           ],
           [
            1,
            "rgb(5,48,97)"
           ]
          ],
          "line": {
           "width": 1
          },
          "showscale": true,
          "size": 7
         },
         "mode": "markers",
         "text": [
          "Return: 29.84%<br>Volatility: 0.11<br>ADBE_Close: Weight=0.23<br>PM_Close: Weight=0.00<br>HON_Close: Weight=0.77",
          "Return: 34.66%<br>Volatility: 0.13<br>WMT_Close: Weight=0.63<br>TMO_Close: Weight=0.34<br>NKE_Close: Weight=0.03",
          "Return: 53.18%<br>Volatility: 0.23<br>ETN_Close: Weight=0.18<br>BABA_Close: Weight=0.82<br>MDT_Close: Weight=0.00",
          "Return: 15.54%<br>Volatility: 0.12<br>ORCL_Close: Weight=0.26<br>F_Close: Weight=0.00<br>MS_Close: Weight=0.31<br>CSCO_Close: Weight=0.43",
          "Return: 22.56%<br>Volatility: 0.12<br>SO_Close: Weight=0.00<br>GOOGL_Close: Weight=0.54<br>WFC_Close: Weight=0.09<br>SYK_Close: Weight=0.37<br>KR_Close: Weight=0.00",
          "Return: 17.10%<br>Volatility: 0.14<br>WFC_Close: Weight=0.05<br>TSLA_Close: Weight=0.18<br>CSCO_Close: Weight=0.52<br>GM_Close: Weight=0.25",
          "Return: 23.94%<br>Volatility: 0.16<br>CPB_Close: Weight=0.00<br>QCOM_Close: Weight=0.18<br>AAPL_Close: Weight=0.82",
          "Return: 16.08%<br>Volatility: 0.10<br>JNJ_Close: Weight=0.72<br>REGN_Close: Weight=0.00<br>ETN_Close: Weight=0.28",
          "Return: 25.51%<br>Volatility: 0.09<br>PFE_Close: Weight=0.00<br>SO_Close: Weight=0.00<br>MS_Close: Weight=0.03<br>JNJ_Close: Weight=0.41<br>HD_Close: Weight=0.55",
          "Return: 35.30%<br>Volatility: 0.26<br>MO_Close: Weight=0.00<br>NFLX_Close: Weight=0.90<br>BIIB_Close: Weight=0.10",
          "Return: 27.71%<br>Volatility: 0.16<br>KR_Close: Weight=0.00<br>GOOG_Close: Weight=1.00<br>SNAP_Close: Weight=0.00",
          "Return: 32.13%<br>Volatility: 0.12<br>ACN_Close: Weight=0.48<br>QCOM_Close: Weight=0.00<br>TXN_Close: Weight=0.49<br>TSLA_Close: Weight=0.03",
          "Return: 27.95%<br>Volatility: 0.08<br>LMT_Close: Weight=0.28<br>NEE_Close: Weight=0.38<br>ISRG_Close: Weight=0.24<br>VZ_Close: Weight=0.10",
          "Return: 26.65%<br>Volatility: 0.09<br>ETN_Close: Weight=0.01<br>EMR_Close: Weight=0.15<br>AEP_Close: Weight=0.29<br>MCD_Close: Weight=0.51<br>DIS_Close: Weight=0.04",
          "Return: 18.89%<br>Volatility: 0.10<br>PEP_Close: Weight=0.53<br>TSLA_Close: Weight=0.04<br>RDY_Close: Weight=0.00<br>ZBH_Close: Weight=0.00<br>GOOGL_Close: Weight=0.43",
          "Return: 5.92%<br>Volatility: 0.09<br>SRE_Close: Weight=0.00<br>DUK_Close: Weight=0.96<br>REGN_Close: Weight=0.04",
          "Return: 53.85%<br>Volatility: 0.13<br>TXN_Close: Weight=0.02<br>ABT_Close: Weight=0.28<br>CAT_Close: Weight=0.44<br>PYPL_Close: Weight=0.26<br>GILD_Close: Weight=0.00",
          "Return: 37.78%<br>Volatility: 0.16<br>COST_Close: Weight=0.21<br>ORCL_Close: Weight=0.13<br>META_Close: Weight=0.40<br>NVDA_Close: Weight=0.27<br>AMD_Close: Weight=0.00",
          "Return: 41.68%<br>Volatility: 0.09<br>BA_Close: Weight=0.35<br>NEE_Close: Weight=0.40<br>QCOM_Close: Weight=0.00<br>T_Close: Weight=0.00<br>DE_Close: Weight=0.25",
          "Return: 19.06%<br>Volatility: 0.09<br>GOOGL_Close: Weight=0.41<br>XOM_Close: Weight=0.12<br>AMGN_Close: Weight=0.00<br>MDT_Close: Weight=0.00<br>JNJ_Close: Weight=0.47",
          "Return: 34.13%<br>Volatility: 0.13<br>MA_Close: Weight=0.89<br>RMD_Close: Weight=0.03<br>QCOM_Close: Weight=0.00<br>F_Close: Weight=0.08<br>T_Close: Weight=0.00",
          "Return: 57.21%<br>Volatility: 0.17<br>BA_Close: Weight=0.94<br>RDY_Close: Weight=0.00<br>BAC_Close: Weight=0.06<br>GIS_Close: Weight=0.00",
          "Return: 45.37%<br>Volatility: 0.12<br>PEP_Close: Weight=0.29<br>GIS_Close: Weight=0.00<br>CAT_Close: Weight=0.50<br>ADBE_Close: Weight=0.21",
          "Return: 33.49%<br>Volatility: 0.09<br>EW_Close: Weight=0.03<br>AMZN_Close: Weight=0.11<br>MCD_Close: Weight=0.48<br>AMD_Close: Weight=0.00<br>MMM_Close: Weight=0.38",
          "Return: 22.61%<br>Volatility: 0.12<br>CSCO_Close: Weight=0.23<br>PG_Close: Weight=0.17<br>META_Close: Weight=0.59<br>GIS_Close: Weight=0.01",
          "Return: 11.41%<br>Volatility: 0.18<br>SNAP_Close: Weight=0.00<br>MDT_Close: Weight=0.00<br>SO_Close: Weight=0.00<br>BMY_Close: Weight=1.00",
          "Return: 59.54%<br>Volatility: 0.17<br>GILD_Close: Weight=0.00<br>BA_Close: Weight=1.00<br>REGN_Close: Weight=0.00<br>MDT_Close: Weight=0.00",
          "Return: 63.95%<br>Volatility: 0.23<br>BIIB_Close: Weight=0.00<br>CSCO_Close: Weight=0.02<br>PYPL_Close: Weight=0.98",
          "Return: 29.78%<br>Volatility: 0.12<br>KR_Close: Weight=0.00<br>V_Close: Weight=0.87<br>TMO_Close: Weight=0.13<br>AMD_Close: Weight=0.00",
          "Return: 35.86%<br>Volatility: 0.11<br>INTC_Close: Weight=0.19<br>ADBE_Close: Weight=0.26<br>HD_Close: Weight=0.55",
          "Return: 40.72%<br>Volatility: 0.18<br>NVDA_Close: Weight=0.37<br>XOM_Close: Weight=0.03<br>JPM_Close: Weight=0.45<br>NKE_Close: Weight=0.11<br>CMCSA_Close: Weight=0.04",
          "Return: 27.89%<br>Volatility: 0.09<br>RDY_Close: Weight=0.00<br>JPM_Close: Weight=0.18<br>MMM_Close: Weight=0.34<br>V_Close: Weight=0.48",
          "Return: 28.57%<br>Volatility: 0.13<br>F_Close: Weight=0.13<br>EXC_Close: Weight=0.35<br>ADBE_Close: Weight=0.52",
          "Return: 44.24%<br>Volatility: 0.12<br>NKE_Close: Weight=0.07<br>CSCO_Close: Weight=0.02<br>BA_Close: Weight=0.56<br>K_Close: Weight=0.00<br>MMM_Close: Weight=0.35",
          "Return: 14.77%<br>Volatility: 0.10<br>BMY_Close: Weight=0.15<br>ZBH_Close: Weight=0.04<br>SYY_Close: Weight=0.41<br>GE_Close: Weight=0.00<br>EXC_Close: Weight=0.40",
          "Return: 37.14%<br>Volatility: 0.16<br>T_Close: Weight=0.00<br>RDY_Close: Weight=0.00<br>TXN_Close: Weight=1.00<br>GS_Close: Weight=0.00",
          "Return: 5.32%<br>Volatility: 0.19<br>SO_Close: Weight=0.00<br>PM_Close: Weight=0.00<br>GILD_Close: Weight=1.00",
          "Return: 26.01%<br>Volatility: 0.11<br>ABT_Close: Weight=0.59<br>SAP_Close: Weight=0.40<br>ORCL_Close: Weight=0.01",
          "Return: 4.51%<br>Volatility: 0.15<br>LLY_Close: Weight=1.00<br>MRK_Close: Weight=0.00<br>KR_Close: Weight=0.00<br>BSX_Close: Weight=0.00",
          "Return: 10.89%<br>Volatility: 0.11<br>BTI_Close: Weight=0.37<br>GE_Close: Weight=0.00<br>CMCSA_Close: Weight=0.23<br>BMY_Close: Weight=0.41",
          "Return: 24.64%<br>Volatility: 0.10<br>DIS_Close: Weight=0.00<br>HON_Close: Weight=0.97<br>AMGN_Close: Weight=0.00<br>COST_Close: Weight=0.03<br>CPB_Close: Weight=0.00",
          "Return: 41.78%<br>Volatility: 0.13<br>ABBV_Close: Weight=0.51<br>ORCL_Close: Weight=0.00<br>GIS_Close: Weight=0.01<br>ABT_Close: Weight=0.24<br>META_Close: Weight=0.24",
          "Return: 27.03%<br>Volatility: 0.10<br>V_Close: Weight=0.58<br>DUK_Close: Weight=0.18<br>AAPL_Close: Weight=0.00<br>MRK_Close: Weight=0.00<br>INTC_Close: Weight=0.25",
          "Return: 20.91%<br>Volatility: 0.08<br>HON_Close: Weight=0.62<br>ZBH_Close: Weight=0.00<br>PEP_Close: Weight=0.15<br>AEP_Close: Weight=0.23",
          "Return: 22.80%<br>Volatility: 0.09<br>LMT_Close: Weight=0.60<br>PEP_Close: Weight=0.28<br>NFLX_Close: Weight=0.12<br>SRE_Close: Weight=0.00",
          "Return: 35.74%<br>Volatility: 0.12<br>COST_Close: Weight=0.05<br>BSX_Close: Weight=0.00<br>TXN_Close: Weight=0.39<br>VZ_Close: Weight=0.15<br>ISRG_Close: Weight=0.41",
          "Return: 32.88%<br>Volatility: 0.14<br>COST_Close: Weight=0.00<br>WMT_Close: Weight=0.74<br>XOM_Close: Weight=0.26",
          "Return: 23.01%<br>Volatility: 0.17<br>MO_Close: Weight=0.00<br>RDY_Close: Weight=0.00<br>XOM_Close: Weight=0.44<br>NFLX_Close: Weight=0.56",
          "Return: 23.03%<br>Volatility: 0.09<br>CSCO_Close: Weight=0.00<br>GOOGL_Close: Weight=0.19<br>EXC_Close: Weight=0.17<br>DIS_Close: Weight=0.00<br>HON_Close: Weight=0.64",
          "Return: 15.39%<br>Volatility: 0.09<br>JNJ_Close: Weight=0.72<br>COST_Close: Weight=0.14<br>VZ_Close: Weight=0.14",
          "Return: 26.30%<br>Volatility: 0.10<br>SYY_Close: Weight=0.17<br>EXC_Close: Weight=0.17<br>UNH_Close: Weight=0.59<br>MO_Close: Weight=0.00<br>PG_Close: Weight=0.07",
          "Return: 39.27%<br>Volatility: 0.15<br>AAPL_Close: Weight=0.29<br>EMR_Close: Weight=0.00<br>DE_Close: Weight=0.71",
          "Return: 46.16%<br>Volatility: 0.13<br>NFLX_Close: Weight=0.00<br>PYPL_Close: Weight=0.35<br>MCD_Close: Weight=0.58<br>IBM_Close: Weight=0.00<br>RMD_Close: Weight=0.06",
          "Return: 28.30%<br>Volatility: 0.10<br>HD_Close: Weight=0.61<br>SAP_Close: Weight=0.34<br>KR_Close: Weight=0.00<br>BTI_Close: Weight=0.00<br>MS_Close: Weight=0.04",
          "Return: 21.28%<br>Volatility: 0.12<br>PM_Close: Weight=0.00<br>VZ_Close: Weight=0.31<br>GILD_Close: Weight=0.00<br>GOOGL_Close: Weight=0.69<br>SO_Close: Weight=0.00",
          "Return: 23.61%<br>Volatility: 0.08<br>META_Close: Weight=0.21<br>GS_Close: Weight=0.01<br>TMO_Close: Weight=0.13<br>NEE_Close: Weight=0.44<br>SYY_Close: Weight=0.20",
          "Return: 27.28%<br>Volatility: 0.09<br>DUK_Close: Weight=0.29<br>CRM_Close: Weight=0.26<br>DIS_Close: Weight=0.00<br>DE_Close: Weight=0.39<br>BAC_Close: Weight=0.06",
          "Return: 49.32%<br>Volatility: 0.13<br>BMY_Close: Weight=0.00<br>BABA_Close: Weight=0.23<br>DE_Close: Weight=0.44<br>ISRG_Close: Weight=0.33",
          "Return: 28.46%<br>Volatility: 0.10<br>PG_Close: Weight=0.06<br>PEP_Close: Weight=0.46<br>REGN_Close: Weight=0.00<br>ZBH_Close: Weight=0.00<br>ISRG_Close: Weight=0.48",
          "Return: 14.78%<br>Volatility: 0.10<br>AMGN_Close: Weight=0.02<br>AEP_Close: Weight=0.98<br>RDY_Close: Weight=0.00",
          "Return: 30.66%<br>Volatility: 0.11<br>JPM_Close: Weight=0.26<br>ETN_Close: Weight=0.15<br>WMT_Close: Weight=0.54<br>PG_Close: Weight=0.05",
          "Return: 50.49%<br>Volatility: 0.17<br>BABA_Close: Weight=0.38<br>ISRG_Close: Weight=0.58<br>KR_Close: Weight=0.00<br>WFC_Close: Weight=0.04<br>GE_Close: Weight=0.00",
          "Return: 30.10%<br>Volatility: 0.11<br>K_Close: Weight=0.00<br>LMT_Close: Weight=0.54<br>MSFT_Close: Weight=0.46",
          "Return: 40.49%<br>Volatility: 0.13<br>BABA_Close: Weight=0.29<br>ADBE_Close: Weight=0.17<br>MMM_Close: Weight=0.54<br>F_Close: Weight=0.00<br>KR_Close: Weight=0.00",
          "Return: 25.12%<br>Volatility: 0.09<br>GOOGL_Close: Weight=0.18<br>NEE_Close: Weight=0.45<br>EW_Close: Weight=0.05<br>ACN_Close: Weight=0.32",
          "Return: 24.51%<br>Volatility: 0.09<br>UA_Close: Weight=0.00<br>GM_Close: Weight=0.06<br>AEP_Close: Weight=0.40<br>HD_Close: Weight=0.54",
          "Return: 44.24%<br>Volatility: 0.10<br>MCD_Close: Weight=0.35<br>BA_Close: Weight=0.37<br>HD_Close: Weight=0.28",
          "Return: 33.58%<br>Volatility: 0.11<br>INTC_Close: Weight=0.24<br>ISRG_Close: Weight=0.32<br>LMT_Close: Weight=0.43",
          "Return: 27.92%<br>Volatility: 0.13<br>EW_Close: Weight=0.12<br>IBM_Close: Weight=0.00<br>RDY_Close: Weight=0.00<br>ABT_Close: Weight=0.88",
          "Return: 29.84%<br>Volatility: 0.11<br>ADBE_Close: Weight=0.23<br>CPB_Close: Weight=0.00<br>GS_Close: Weight=0.00<br>HON_Close: Weight=0.77",
          "Return: 35.01%<br>Volatility: 0.13<br>MSFT_Close: Weight=0.49<br>TXN_Close: Weight=0.38<br>SAP_Close: Weight=0.13<br>CSCO_Close: Weight=0.00<br>MO_Close: Weight=0.00",
          "Return: 42.81%<br>Volatility: 0.17<br>BSX_Close: Weight=0.00<br>ORCL_Close: Weight=0.11<br>ISRG_Close: Weight=0.89<br>SRE_Close: Weight=0.00",
          "Return: 14.71%<br>Volatility: 0.08<br>GIS_Close: Weight=0.00<br>MRK_Close: Weight=0.00<br>KO_Close: Weight=0.66<br>EXC_Close: Weight=0.17<br>EW_Close: Weight=0.17",
          "Return: 10.80%<br>Volatility: 0.13<br>BIIB_Close: Weight=0.33<br>DIS_Close: Weight=0.00<br>VZ_Close: Weight=0.67",
          "Return: 21.15%<br>Volatility: 0.12<br>MS_Close: Weight=0.22<br>DIS_Close: Weight=0.00<br>SAP_Close: Weight=0.78",
          "Return: 36.01%<br>Volatility: 0.12<br>ACN_Close: Weight=0.50<br>GM_Close: Weight=0.01<br>DE_Close: Weight=0.49",
          "Return: 47.14%<br>Volatility: 0.12<br>BA_Close: Weight=0.53<br>XOM_Close: Weight=0.06<br>MA_Close: Weight=0.42",
          "Return: 8.09%<br>Volatility: 0.09<br>MDT_Close: Weight=0.00<br>XOM_Close: Weight=0.21<br>CPB_Close: Weight=0.00<br>GE_Close: Weight=0.00<br>PFE_Close: Weight=0.79",
          "Return: 15.87%<br>Volatility: 0.10<br>JNJ_Close: Weight=0.85<br>LLY_Close: Weight=0.00<br>CMCSA_Close: Weight=0.15<br>K_Close: Weight=0.00",
          "Return: 7.99%<br>Volatility: 0.14<br>BIIB_Close: Weight=0.46<br>F_Close: Weight=0.00<br>WFC_Close: Weight=0.54",
          "Return: 41.82%<br>Volatility: 0.11<br>MCD_Close: Weight=0.49<br>MA_Close: Weight=0.20<br>BABA_Close: Weight=0.18<br>MSFT_Close: Weight=0.13<br>SAP_Close: Weight=0.00",
          "Return: 27.82%<br>Volatility: 0.08<br>PFE_Close: Weight=0.11<br>GILD_Close: Weight=0.00<br>HD_Close: Weight=0.34<br>V_Close: Weight=0.44<br>SYY_Close: Weight=0.11",
          "Return: 26.77%<br>Volatility: 0.10<br>WMT_Close: Weight=0.45<br>AMGN_Close: Weight=0.00<br>SO_Close: Weight=0.00<br>KO_Close: Weight=0.55",
          "Return: 16.51%<br>Volatility: 0.17<br>MDT_Close: Weight=0.00<br>XOM_Close: Weight=0.23<br>BAC_Close: Weight=0.77",
          "Return: 4.51%<br>Volatility: 0.15<br>IBM_Close: Weight=0.00<br>LLY_Close: Weight=1.00<br>T_Close: Weight=0.00",
          "Return: 50.64%<br>Volatility: 0.12<br>DE_Close: Weight=0.19<br>F_Close: Weight=0.00<br>CAT_Close: Weight=0.36<br>ISRG_Close: Weight=0.25<br>MSFT_Close: Weight=0.20",
          "Return: 17.57%<br>Volatility: 0.09<br>BSX_Close: Weight=0.00<br>SAP_Close: Weight=0.50<br>PEP_Close: Weight=0.50",
          "Return: 25.14%<br>Volatility: 0.11<br>MRK_Close: Weight=0.00<br>MMM_Close: Weight=0.76<br>RTX_Close: Weight=0.24",
          "Return: 22.64%<br>Volatility: 0.12<br>AAPL_Close: Weight=0.34<br>CRM_Close: Weight=0.50<br>DHR_Close: Weight=0.16",
          "Return: 13.67%<br>Volatility: 0.14<br>TSLA_Close: Weight=0.27<br>DHR_Close: Weight=0.73<br>UA_Close: Weight=0.00<br>AMGN_Close: Weight=0.00",
          "Return: 17.62%<br>Volatility: 0.11<br>DUK_Close: Weight=0.30<br>TSLA_Close: Weight=0.12<br>SYK_Close: Weight=0.58<br>KR_Close: Weight=0.00",
          "Return: 33.00%<br>Volatility: 0.12<br>NKE_Close: Weight=0.06<br>ISRG_Close: Weight=0.49<br>JPM_Close: Weight=0.34<br>CRM_Close: Weight=0.11",
          "Return: 30.15%<br>Volatility: 0.10<br>CVX_Close: Weight=0.33<br>ORCL_Close: Weight=0.00<br>MA_Close: Weight=0.67<br>GILD_Close: Weight=0.00<br>AMD_Close: Weight=0.00",
          "Return: 24.21%<br>Volatility: 0.09<br>GILD_Close: Weight=0.02<br>KR_Close: Weight=0.00<br>NEE_Close: Weight=0.61<br>BTI_Close: Weight=0.03<br>GOOG_Close: Weight=0.33",
          "Return: 49.52%<br>Volatility: 0.16<br>WFC_Close: Weight=0.03<br>CPB_Close: Weight=0.00<br>ABBV_Close: Weight=0.88<br>QCOM_Close: Weight=0.08<br>SNAP_Close: Weight=0.00",
          "Return: 35.92%<br>Volatility: 0.11<br>MCD_Close: Weight=0.68<br>VRTX_Close: Weight=0.14<br>VZ_Close: Weight=0.18<br>SNAP_Close: Weight=0.00",
          "Return: 43.10%<br>Volatility: 0.11<br>SNAP_Close: Weight=0.00<br>EMR_Close: Weight=0.00<br>LMT_Close: Weight=0.53<br>CAT_Close: Weight=0.47",
          "Return: 45.28%<br>Volatility: 0.11<br>MSFT_Close: Weight=0.36<br>BA_Close: Weight=0.51<br>GS_Close: Weight=0.00<br>EXC_Close: Weight=0.12<br>ORCL_Close: Weight=0.01",
          "Return: 26.11%<br>Volatility: 0.10<br>WMT_Close: Weight=0.47<br>DUK_Close: Weight=0.24<br>CVX_Close: Weight=0.29",
          "Return: 80.73%<br>Volatility: 0.39<br>IBM_Close: Weight=0.00<br>NVDA_Close: Weight=1.00<br>BSX_Close: Weight=0.00",
          "Return: 37.38%<br>Volatility: 0.13<br>TMO_Close: Weight=0.19<br>NVDA_Close: Weight=0.20<br>MMM_Close: Weight=0.61",
          "Return: 51.24%<br>Volatility: 0.15<br>CAT_Close: Weight=0.74<br>DHR_Close: Weight=0.08<br>SNAP_Close: Weight=0.00<br>COST_Close: Weight=0.07<br>RMD_Close: Weight=0.12",
          "Return: 50.48%<br>Volatility: 0.14<br>AMZN_Close: Weight=0.25<br>BA_Close: Weight=0.68<br>IBM_Close: Weight=0.00<br>K_Close: Weight=0.00<br>XOM_Close: Weight=0.07",
          "Return: 24.61%<br>Volatility: 0.12<br>DUK_Close: Weight=0.00<br>MDT_Close: Weight=0.00<br>PG_Close: Weight=0.13<br>MMM_Close: Weight=0.87",
          "Return: 22.69%<br>Volatility: 0.09<br>CRM_Close: Weight=0.21<br>LMT_Close: Weight=0.53<br>JNJ_Close: Weight=0.26<br>IBM_Close: Weight=0.00",
          "Return: 45.81%<br>Volatility: 0.14<br>REGN_Close: Weight=0.00<br>ISRG_Close: Weight=0.47<br>DE_Close: Weight=0.53<br>GILD_Close: Weight=0.00",
          "Return: 37.01%<br>Volatility: 0.16<br>AMZN_Close: Weight=0.32<br>WFC_Close: Weight=0.10<br>META_Close: Weight=0.15<br>ADBE_Close: Weight=0.43",
          "Return: 23.64%<br>Volatility: 0.11<br>BIIB_Close: Weight=0.07<br>MMM_Close: Weight=0.74<br>EXC_Close: Weight=0.19<br>MDT_Close: Weight=0.00<br>KR_Close: Weight=0.00",
          "Return: 29.99%<br>Volatility: 0.09<br>MO_Close: Weight=0.00<br>MMM_Close: Weight=0.22<br>MSFT_Close: Weight=0.29<br>AEP_Close: Weight=0.19<br>UNH_Close: Weight=0.29",
          "Return: 26.99%<br>Volatility: 0.10<br>HON_Close: Weight=0.75<br>MO_Close: Weight=0.00<br>INTC_Close: Weight=0.25<br>GIS_Close: Weight=0.00",
          "Return: 15.57%<br>Volatility: 0.10<br>CVX_Close: Weight=0.31<br>PG_Close: Weight=0.20<br>EMR_Close: Weight=0.33<br>BAC_Close: Weight=0.16<br>AMD_Close: Weight=0.00",
          "Return: 16.02%<br>Volatility: 0.12<br>RTX_Close: Weight=0.83<br>F_Close: Weight=0.00<br>MDT_Close: Weight=0.00<br>COST_Close: Weight=0.16",
          "Return: 40.92%<br>Volatility: 0.16<br>DE_Close: Weight=0.88<br>EMR_Close: Weight=0.04<br>GE_Close: Weight=0.00<br>NKE_Close: Weight=0.02<br>GILD_Close: Weight=0.07",
          "Return: 38.35%<br>Volatility: 0.12<br>WMT_Close: Weight=0.46<br>TXN_Close: Weight=0.46<br>RMD_Close: Weight=0.09<br>ZBH_Close: Weight=0.00",
          "Return: 49.26%<br>Volatility: 0.13<br>BA_Close: Weight=0.63<br>ADBE_Close: Weight=0.24<br>PFE_Close: Weight=0.14",
          "Return: 37.14%<br>Volatility: 0.16<br>WFC_Close: Weight=0.00<br>GIS_Close: Weight=0.00<br>AMGN_Close: Weight=0.00<br>TXN_Close: Weight=1.00",
          "Return: 30.90%<br>Volatility: 0.11<br>MA_Close: Weight=0.72<br>QCOM_Close: Weight=0.00<br>CMCSA_Close: Weight=0.11<br>RTX_Close: Weight=0.17",
          "Return: 21.27%<br>Volatility: 0.10<br>SYY_Close: Weight=0.26<br>GOOGL_Close: Weight=0.43<br>SRE_Close: Weight=0.05<br>JPM_Close: Weight=0.26",
          "Return: 30.08%<br>Volatility: 0.12<br>SNAP_Close: Weight=0.00<br>UNH_Close: Weight=0.72<br>LLY_Close: Weight=0.00<br>EW_Close: Weight=0.03<br>RTX_Close: Weight=0.25",
          "Return: 41.08%<br>Volatility: 0.11<br>KR_Close: Weight=0.00<br>LMT_Close: Weight=0.19<br>BA_Close: Weight=0.47<br>HON_Close: Weight=0.34",
          "Return: 29.12%<br>Volatility: 0.10<br>MCD_Close: Weight=0.70<br>BIIB_Close: Weight=0.00<br>ORCL_Close: Weight=0.04<br>PFE_Close: Weight=0.26",
          "Return: 26.99%<br>Volatility: 0.09<br>XOM_Close: Weight=0.06<br>UNH_Close: Weight=0.45<br>CRM_Close: Weight=0.22<br>TMO_Close: Weight=0.09<br>SYY_Close: Weight=0.17",
          "Return: 31.97%<br>Volatility: 0.12<br>RTX_Close: Weight=0.14<br>JPM_Close: Weight=0.26<br>GOOGL_Close: Weight=0.19<br>NVDA_Close: Weight=0.18<br>TMO_Close: Weight=0.23",
          "Return: 37.63%<br>Volatility: 0.13<br>BIIB_Close: Weight=0.00<br>META_Close: Weight=0.44<br>WMT_Close: Weight=0.56<br>GE_Close: Weight=0.00",
          "Return: 23.17%<br>Volatility: 0.11<br>ORCL_Close: Weight=0.01<br>KR_Close: Weight=0.00<br>SAP_Close: Weight=0.39<br>AMZN_Close: Weight=0.33<br>DUK_Close: Weight=0.27",
          "Return: 13.32%<br>Volatility: 0.14<br>GS_Close: Weight=0.00<br>GM_Close: Weight=0.60<br>COST_Close: Weight=0.40",
          "Return: 36.20%<br>Volatility: 0.15<br>REGN_Close: Weight=0.00<br>SNAP_Close: Weight=0.00<br>MSFT_Close: Weight=0.98<br>ORCL_Close: Weight=0.02",
          "Return: 42.35%<br>Volatility: 0.16<br>BABA_Close: Weight=0.44<br>REGN_Close: Weight=0.00<br>COST_Close: Weight=0.23<br>SO_Close: Weight=0.00<br>AMZN_Close: Weight=0.34",
          "Return: 27.75%<br>Volatility: 0.10<br>DHR_Close: Weight=0.00<br>V_Close: Weight=0.51<br>CRM_Close: Weight=0.02<br>LMT_Close: Weight=0.47",
          "Return: 34.82%<br>Volatility: 0.11<br>RTX_Close: Weight=0.11<br>DE_Close: Weight=0.45<br>ABT_Close: Weight=0.44",
          "Return: 26.52%<br>Volatility: 0.10<br>NFLX_Close: Weight=0.05<br>DUK_Close: Weight=0.20<br>MSFT_Close: Weight=0.59<br>VZ_Close: Weight=0.16",
          "Return: 6.60%<br>Volatility: 0.09<br>K_Close: Weight=0.00<br>BTI_Close: Weight=0.35<br>LLY_Close: Weight=0.22<br>PG_Close: Weight=0.43<br>AMGN_Close: Weight=0.00",
          "Return: 22.80%<br>Volatility: 0.12<br>IBM_Close: Weight=0.00<br>VZ_Close: Weight=0.29<br>GOOG_Close: Weight=0.66<br>TSLA_Close: Weight=0.04<br>PM_Close: Weight=0.00",
          "Return: 25.40%<br>Volatility: 0.08<br>ABT_Close: Weight=0.28<br>AMGN_Close: Weight=0.00<br>DUK_Close: Weight=0.17<br>HD_Close: Weight=0.40<br>SAP_Close: Weight=0.15",
          "Return: 51.36%<br>Volatility: 0.18<br>GOOG_Close: Weight=0.21<br>PYPL_Close: Weight=0.70<br>DIS_Close: Weight=0.09<br>LLY_Close: Weight=0.00<br>BIIB_Close: Weight=0.00",
          "Return: 8.59%<br>Volatility: 0.09<br>ORCL_Close: Weight=0.35<br>DUK_Close: Weight=0.65<br>MDT_Close: Weight=0.00",
          "Return: 24.86%<br>Volatility: 0.15<br>EMR_Close: Weight=0.55<br>NFLX_Close: Weight=0.35<br>LLY_Close: Weight=0.10<br>KR_Close: Weight=0.00<br>BSX_Close: Weight=0.00",
          "Return: 16.11%<br>Volatility: 0.16<br>CSCO_Close: Weight=1.00<br>AMGN_Close: Weight=0.00<br>K_Close: Weight=0.00",
          "Return: 27.78%<br>Volatility: 0.13<br>VRTX_Close: Weight=0.24<br>JNJ_Close: Weight=0.76<br>CPB_Close: Weight=0.00",
          "Return: 51.88%<br>Volatility: 0.16<br>AMGN_Close: Weight=0.00<br>PFE_Close: Weight=0.22<br>AMD_Close: Weight=0.00<br>CAT_Close: Weight=0.78",
          "Return: 18.56%<br>Volatility: 0.09<br>RTX_Close: Weight=0.30<br>PG_Close: Weight=0.20<br>CRM_Close: Weight=0.32<br>AAPL_Close: Weight=0.18<br>K_Close: Weight=0.00",
          "Return: 30.30%<br>Volatility: 0.12<br>BAC_Close: Weight=0.11<br>HD_Close: Weight=0.85<br>UA_Close: Weight=0.00<br>DHR_Close: Weight=0.03<br>CPB_Close: Weight=0.00",
          "Return: 25.56%<br>Volatility: 0.12<br>META_Close: Weight=0.56<br>GIS_Close: Weight=0.02<br>JPM_Close: Weight=0.42",
          "Return: 50.20%<br>Volatility: 0.23<br>ORCL_Close: Weight=0.24<br>EW_Close: Weight=0.25<br>NVDA_Close: Weight=0.51",
          "Return: 23.96%<br>Volatility: 0.08<br>CMCSA_Close: Weight=0.03<br>JPM_Close: Weight=0.21<br>EXC_Close: Weight=0.21<br>V_Close: Weight=0.54",
          "Return: 19.17%<br>Volatility: 0.13<br>MDT_Close: Weight=0.00<br>SYK_Close: Weight=0.83<br>WFC_Close: Weight=0.17",
          "Return: 32.29%<br>Volatility: 0.11<br>REGN_Close: Weight=0.01<br>VZ_Close: Weight=0.18<br>MCD_Close: Weight=0.81<br>ZBH_Close: Weight=0.00",
          "Return: 29.75%<br>Volatility: 0.10<br>XOM_Close: Weight=0.00<br>MMM_Close: Weight=0.39<br>UNH_Close: Weight=0.46<br>DIS_Close: Weight=0.00<br>SYY_Close: Weight=0.15",
          "Return: 17.67%<br>Volatility: 0.21<br>PM_Close: Weight=0.00<br>TSLA_Close: Weight=0.49<br>CMCSA_Close: Weight=0.51",
          "Return: 15.88%<br>Volatility: 0.12<br>DHR_Close: Weight=0.36<br>EW_Close: Weight=0.31<br>MS_Close: Weight=0.33",
          "Return: 24.43%<br>Volatility: 0.09<br>HON_Close: Weight=0.81<br>SYK_Close: Weight=0.19<br>AMD_Close: Weight=0.00<br>ZBH_Close: Weight=0.00",
          "Return: 29.05%<br>Volatility: 0.15<br>NKE_Close: Weight=0.18<br>GOOGL_Close: Weight=0.34<br>AMZN_Close: Weight=0.48",
          "Return: 25.84%<br>Volatility: 0.10<br>GE_Close: Weight=0.00<br>SAP_Close: Weight=0.14<br>MSFT_Close: Weight=0.49<br>BMY_Close: Weight=0.06<br>PEP_Close: Weight=0.31",
          "Return: 50.09%<br>Volatility: 0.16<br>TSLA_Close: Weight=0.07<br>ABBV_Close: Weight=0.89<br>F_Close: Weight=0.04",
          "Return: 30.93%<br>Volatility: 0.11<br>CRM_Close: Weight=0.29<br>GS_Close: Weight=0.00<br>BTI_Close: Weight=0.05<br>UNH_Close: Weight=0.66<br>F_Close: Weight=0.00",
          "Return: 34.33%<br>Volatility: 0.11<br>MMM_Close: Weight=0.44<br>AAPL_Close: Weight=0.16<br>MRK_Close: Weight=0.00<br>DE_Close: Weight=0.40",
          "Return: 23.40%<br>Volatility: 0.10<br>JNJ_Close: Weight=0.43<br>AMD_Close: Weight=0.00<br>EMR_Close: Weight=0.20<br>INTC_Close: Weight=0.37",
          "Return: 31.00%<br>Volatility: 0.10<br>SYY_Close: Weight=0.18<br>VZ_Close: Weight=0.12<br>MCD_Close: Weight=0.70<br>DIS_Close: Weight=0.00",
          "Return: 20.19%<br>Volatility: 0.13<br>SYK_Close: Weight=0.62<br>RDY_Close: Weight=0.00<br>EW_Close: Weight=0.22<br>COST_Close: Weight=0.16",
          "Return: 35.51%<br>Volatility: 0.11<br>CPB_Close: Weight=0.00<br>TSLA_Close: Weight=0.02<br>UNH_Close: Weight=0.41<br>ISRG_Close: Weight=0.35<br>JPM_Close: Weight=0.22",
          "Return: 27.88%<br>Volatility: 0.10<br>NFLX_Close: Weight=0.00<br>V_Close: Weight=0.51<br>ACN_Close: Weight=0.31<br>JPM_Close: Weight=0.18<br>BTI_Close: Weight=0.00",
          "Return: 43.69%<br>Volatility: 0.13<br>TMO_Close: Weight=0.03<br>PYPL_Close: Weight=0.38<br>VRTX_Close: Weight=0.11<br>LMT_Close: Weight=0.48",
          "Return: 9.55%<br>Volatility: 0.21<br>CMCSA_Close: Weight=1.00<br>MDT_Close: Weight=0.00<br>IBM_Close: Weight=0.00",
          "Return: 26.43%<br>Volatility: 0.11<br>UA_Close: Weight=0.00<br>TXN_Close: Weight=0.56<br>PEP_Close: Weight=0.44",
          "Return: 55.29%<br>Volatility: 0.15<br>ABBV_Close: Weight=0.55<br>RMD_Close: Weight=0.00<br>PYPL_Close: Weight=0.38<br>COST_Close: Weight=0.07<br>GOOGL_Close: Weight=0.00",
          "Return: 60.88%<br>Volatility: 0.20<br>F_Close: Weight=0.12<br>PYPL_Close: Weight=0.70<br>NVDA_Close: Weight=0.19",
          "Return: 30.52%<br>Volatility: 0.10<br>AMGN_Close: Weight=0.00<br>UNH_Close: Weight=0.50<br>ACN_Close: Weight=0.41<br>TMO_Close: Weight=0.10<br>GIS_Close: Weight=0.00",
          "Return: 33.74%<br>Volatility: 0.14<br>DUK_Close: Weight=0.31<br>ISRG_Close: Weight=0.68<br>BMY_Close: Weight=0.00<br>EW_Close: Weight=0.01",
          "Return: 32.55%<br>Volatility: 0.10<br>HD_Close: Weight=0.49<br>NVDA_Close: Weight=0.13<br>COST_Close: Weight=0.00<br>DUK_Close: Weight=0.24<br>INTC_Close: Weight=0.15",
          "Return: 18.58%<br>Volatility: 0.08<br>GOOG_Close: Weight=0.37<br>PEP_Close: Weight=0.07<br>KO_Close: Weight=0.55",
          "Return: 24.32%<br>Volatility: 0.08<br>HON_Close: Weight=0.37<br>MRK_Close: Weight=0.00<br>LMT_Close: Weight=0.26<br>NEE_Close: Weight=0.37",
          "Return: 31.26%<br>Volatility: 0.08<br>DIS_Close: Weight=0.09<br>HON_Close: Weight=0.37<br>MCD_Close: Weight=0.35<br>ISRG_Close: Weight=0.19<br>SNAP_Close: Weight=0.00",
          "Return: 43.10%<br>Volatility: 0.11<br>TMO_Close: Weight=0.23<br>BA_Close: Weight=0.53<br>MMM_Close: Weight=0.24<br>ZBH_Close: Weight=0.00",
          "Return: 36.46%<br>Volatility: 0.12<br>BABA_Close: Weight=0.32<br>VZ_Close: Weight=0.13<br>AMD_Close: Weight=0.00<br>MMM_Close: Weight=0.55",
          "Return: 39.12%<br>Volatility: 0.13<br>VRTX_Close: Weight=0.15<br>CMCSA_Close: Weight=0.07<br>MCD_Close: Weight=0.79",
          "Return: 14.91%<br>Volatility: 0.08<br>KO_Close: Weight=0.72<br>GIS_Close: Weight=0.00<br>SYY_Close: Weight=0.28",
          "Return: 37.03%<br>Volatility: 0.10<br>NEE_Close: Weight=0.42<br>AMGN_Close: Weight=0.00<br>PYPL_Close: Weight=0.29<br>MMM_Close: Weight=0.29<br>AEP_Close: Weight=0.00",
          "Return: 42.49%<br>Volatility: 0.16<br>NFLX_Close: Weight=0.21<br>ISRG_Close: Weight=0.74<br>T_Close: Weight=0.05<br>AMGN_Close: Weight=0.00<br>GE_Close: Weight=0.00",
          "Return: 12.47%<br>Volatility: 0.11<br>PG_Close: Weight=0.43<br>EW_Close: Weight=0.38<br>COST_Close: Weight=0.19<br>CPB_Close: Weight=0.00",
          "Return: 23.07%<br>Volatility: 0.10<br>NEE_Close: Weight=0.74<br>SYK_Close: Weight=0.26<br>K_Close: Weight=0.00<br>AMGN_Close: Weight=0.00",
          "Return: 36.91%<br>Volatility: 0.11<br>RMD_Close: Weight=0.09<br>WMT_Close: Weight=0.40<br>MDT_Close: Weight=0.00<br>UNH_Close: Weight=0.51<br>NKE_Close: Weight=0.00",
          "Return: 35.90%<br>Volatility: 0.11<br>UNH_Close: Weight=0.56<br>TXN_Close: Weight=0.44<br>ZBH_Close: Weight=0.00",
          "Return: 33.42%<br>Volatility: 0.16<br>DIS_Close: Weight=0.11<br>ADBE_Close: Weight=0.54<br>MDT_Close: Weight=0.00<br>CRM_Close: Weight=0.35",
          "Return: 76.04%<br>Volatility: 0.37<br>IBM_Close: Weight=0.00<br>NVDA_Close: Weight=0.94<br>F_Close: Weight=0.06",
          "Return: 21.55%<br>Volatility: 0.08<br>HON_Close: Weight=0.71<br>PEP_Close: Weight=0.29<br>SNAP_Close: Weight=0.00<br>PG_Close: Weight=0.00",
          "Return: 39.82%<br>Volatility: 0.14<br>EW_Close: Weight=0.03<br>SRE_Close: Weight=0.00<br>NVDA_Close: Weight=0.17<br>ABT_Close: Weight=0.56<br>AMZN_Close: Weight=0.24",
          "Return: 22.97%<br>Volatility: 0.11<br>JPM_Close: Weight=0.24<br>MDT_Close: Weight=0.00<br>INTC_Close: Weight=0.48<br>PFE_Close: Weight=0.28",
          "Return: 34.07%<br>Volatility: 0.11<br>HD_Close: Weight=0.47<br>DE_Close: Weight=0.38<br>PFE_Close: Weight=0.11<br>VZ_Close: Weight=0.00<br>JPM_Close: Weight=0.04",
          "Return: 25.06%<br>Volatility: 0.11<br>REGN_Close: Weight=0.00<br>SYK_Close: Weight=0.26<br>MMM_Close: Weight=0.67<br>NKE_Close: Weight=0.07<br>MO_Close: Weight=0.00",
          "Return: 29.13%<br>Volatility: 0.12<br>ORCL_Close: Weight=0.01<br>V_Close: Weight=0.84<br>TMO_Close: Weight=0.12<br>ETN_Close: Weight=0.04",
          "Return: 21.32%<br>Volatility: 0.15<br>EW_Close: Weight=0.25<br>DIS_Close: Weight=0.02<br>TMO_Close: Weight=0.73",
          "Return: 41.11%<br>Volatility: 0.14<br>EXC_Close: Weight=0.33<br>GM_Close: Weight=0.14<br>PYPL_Close: Weight=0.54",
          "Return: 23.99%<br>Volatility: 0.08<br>ETN_Close: Weight=0.00<br>V_Close: Weight=0.53<br>CVX_Close: Weight=0.22<br>JNJ_Close: Weight=0.25<br>GIS_Close: Weight=0.00",
          "Return: 50.18%<br>Volatility: 0.14<br>BABA_Close: Weight=0.25<br>SYK_Close: Weight=0.08<br>ABBV_Close: Weight=0.56<br>CRM_Close: Weight=0.11<br>MDT_Close: Weight=0.00",
          "Return: 44.81%<br>Volatility: 0.15<br>PYPL_Close: Weight=0.62<br>RMD_Close: Weight=0.10<br>PG_Close: Weight=0.15<br>GM_Close: Weight=0.13",
          "Return: 54.09%<br>Volatility: 0.18<br>SNAP_Close: Weight=0.00<br>REGN_Close: Weight=0.00<br>PYPL_Close: Weight=0.75<br>BAC_Close: Weight=0.25",
          "Return: 28.66%<br>Volatility: 0.08<br>NEE_Close: Weight=0.34<br>SYY_Close: Weight=0.05<br>HD_Close: Weight=0.34<br>AMZN_Close: Weight=0.12<br>ACN_Close: Weight=0.15",
          "Return: 32.70%<br>Volatility: 0.11<br>GILD_Close: Weight=0.00<br>ZBH_Close: Weight=0.00<br>MCD_Close: Weight=0.75<br>CSCO_Close: Weight=0.13<br>RMD_Close: Weight=0.11",
          "Return: 12.38%<br>Volatility: 0.13<br>EXC_Close: Weight=0.96<br>DUK_Close: Weight=0.04<br>IBM_Close: Weight=0.00",
          "Return: 37.31%<br>Volatility: 0.12<br>PYPL_Close: Weight=0.37<br>DUK_Close: Weight=0.19<br>SAP_Close: Weight=0.10<br>MDT_Close: Weight=0.00<br>ABT_Close: Weight=0.34",
          "Return: 24.55%<br>Volatility: 0.13<br>TSLA_Close: Weight=0.05<br>BMY_Close: Weight=0.19<br>KR_Close: Weight=0.00<br>GOOG_Close: Weight=0.76",
          "Return: 38.05%<br>Volatility: 0.13<br>T_Close: Weight=0.03<br>TMO_Close: Weight=0.00<br>V_Close: Weight=0.53<br>ISRG_Close: Weight=0.34<br>VRTX_Close: Weight=0.10",
          "Return: 13.20%<br>Volatility: 0.14<br>IBM_Close: Weight=0.00<br>UA_Close: Weight=0.00<br>BTI_Close: Weight=0.42<br>GM_Close: Weight=0.58",
          "Return: 39.31%<br>Volatility: 0.12<br>PYPL_Close: Weight=0.36<br>REGN_Close: Weight=0.00<br>HON_Close: Weight=0.63<br>MS_Close: Weight=0.01<br>BSX_Close: Weight=0.00",
          "Return: 17.78%<br>Volatility: 0.10<br>DIS_Close: Weight=0.00<br>AEP_Close: Weight=0.60<br>SYK_Close: Weight=0.40",
          "Return: 27.06%<br>Volatility: 0.13<br>DHR_Close: Weight=0.04<br>MMM_Close: Weight=0.96<br>DIS_Close: Weight=0.00",
          "Return: 4.02%<br>Volatility: 0.10<br>T_Close: Weight=0.00<br>AMGN_Close: Weight=0.00<br>SNAP_Close: Weight=0.00<br>PG_Close: Weight=1.00<br>SRE_Close: Weight=0.00",
          "Return: 35.50%<br>Volatility: 0.19<br>BIIB_Close: Weight=0.00<br>VRTX_Close: Weight=0.37<br>UA_Close: Weight=0.00<br>EMR_Close: Weight=0.63",
          "Return: 7.60%<br>Volatility: 0.17<br>CPB_Close: Weight=0.00<br>BSX_Close: Weight=0.00<br>REGN_Close: Weight=0.00<br>F_Close: Weight=0.32<br>BIIB_Close: Weight=0.68",
          "Return: 30.69%<br>Volatility: 0.09<br>HON_Close: Weight=0.48<br>UNH_Close: Weight=0.36<br>AMZN_Close: Weight=0.16",
          "Return: 40.23%<br>Volatility: 0.10<br>TXN_Close: Weight=0.19<br>SYY_Close: Weight=0.12<br>BA_Close: Weight=0.39<br>HON_Close: Weight=0.29<br>PM_Close: Weight=0.00",
          "Return: 18.27%<br>Volatility: 0.10<br>RDY_Close: Weight=0.00<br>AAPL_Close: Weight=0.38<br>JPM_Close: Weight=0.28<br>PFE_Close: Weight=0.34",
          "Return: 20.57%<br>Volatility: 0.09<br>ORCL_Close: Weight=0.08<br>MDT_Close: Weight=0.00<br>NEE_Close: Weight=0.60<br>JNJ_Close: Weight=0.32<br>EXC_Close: Weight=0.00",
          "Return: 22.60%<br>Volatility: 0.09<br>AEP_Close: Weight=0.61<br>ZBH_Close: Weight=0.00<br>VRTX_Close: Weight=0.15<br>MS_Close: Weight=0.20<br>EW_Close: Weight=0.05",
          "Return: 20.23%<br>Volatility: 0.11<br>VZ_Close: Weight=0.26<br>CRM_Close: Weight=0.63<br>COST_Close: Weight=0.11<br>GS_Close: Weight=0.00",
          "Return: 36.21%<br>Volatility: 0.11<br>ACN_Close: Weight=0.30<br>BABA_Close: Weight=0.21<br>AMZN_Close: Weight=0.09<br>ADBE_Close: Weight=0.14<br>SYY_Close: Weight=0.25",
          "Return: 56.97%<br>Volatility: 0.13<br>TMO_Close: Weight=0.06<br>BMY_Close: Weight=0.00<br>GIS_Close: Weight=0.00<br>CAT_Close: Weight=0.47<br>ABBV_Close: Weight=0.48",
          "Return: 15.93%<br>Volatility: 0.12<br>NKE_Close: Weight=0.17<br>RTX_Close: Weight=0.83<br>GIS_Close: Weight=0.00",
          "Return: 22.45%<br>Volatility: 0.15<br>NFLX_Close: Weight=0.44<br>COST_Close: Weight=0.28<br>DHR_Close: Weight=0.29<br>K_Close: Weight=0.00",
          "Return: 5.32%<br>Volatility: 0.19<br>AMD_Close: Weight=0.00<br>GILD_Close: Weight=1.00<br>T_Close: Weight=0.00",
          "Return: 18.26%<br>Volatility: 0.08<br>JNJ_Close: Weight=0.31<br>CRM_Close: Weight=0.28<br>RMD_Close: Weight=0.08<br>PEP_Close: Weight=0.33",
          "Return: 23.88%<br>Volatility: 0.11<br>BIIB_Close: Weight=0.00<br>JPM_Close: Weight=0.35<br>GOOG_Close: Weight=0.50<br>RMD_Close: Weight=0.15",
          "Return: 29.63%<br>Volatility: 0.12<br>TXN_Close: Weight=0.59<br>SAP_Close: Weight=0.27<br>VZ_Close: Weight=0.13<br>ZBH_Close: Weight=0.00",
          "Return: 23.49%<br>Volatility: 0.13<br>GE_Close: Weight=0.00<br>MS_Close: Weight=0.20<br>BTI_Close: Weight=0.12<br>GOOG_Close: Weight=0.68",
          "Return: 32.35%<br>Volatility: 0.11<br>AMZN_Close: Weight=0.24<br>UNH_Close: Weight=0.57<br>RTX_Close: Weight=0.19",
          "Return: 22.55%<br>Volatility: 0.08<br>HON_Close: Weight=0.66<br>SAP_Close: Weight=0.17<br>T_Close: Weight=0.00<br>EXC_Close: Weight=0.13<br>ORCL_Close: Weight=0.04",
          "Return: 52.19%<br>Volatility: 0.24<br>BIIB_Close: Weight=0.03<br>PM_Close: Weight=0.00<br>AAPL_Close: Weight=0.47<br>NVDA_Close: Weight=0.50",
          "Return: 37.44%<br>Volatility: 0.09<br>NEE_Close: Weight=0.41<br>CPB_Close: Weight=0.00<br>BA_Close: Weight=0.42<br>EMR_Close: Weight=0.12<br>NKE_Close: Weight=0.05",
          "Return: 31.43%<br>Volatility: 0.12<br>TMO_Close: Weight=0.05<br>CSCO_Close: Weight=0.14<br>ISRG_Close: Weight=0.58<br>XOM_Close: Weight=0.21<br>WFC_Close: Weight=0.02",
          "Return: 44.83%<br>Volatility: 0.13<br>AEP_Close: Weight=0.33<br>GE_Close: Weight=0.00<br>BA_Close: Weight=0.67",
          "Return: 21.14%<br>Volatility: 0.08<br>MMM_Close: Weight=0.46<br>PEP_Close: Weight=0.37<br>TMO_Close: Weight=0.17",
          "Return: 15.52%<br>Volatility: 0.12<br>RTX_Close: Weight=0.66<br>LLY_Close: Weight=0.04<br>ETN_Close: Weight=0.30<br>PM_Close: Weight=0.00",
          "Return: 32.00%<br>Volatility: 0.10<br>NVDA_Close: Weight=0.08<br>DHR_Close: Weight=0.04<br>TXN_Close: Weight=0.32<br>NEE_Close: Weight=0.56",
          "Return: 19.26%<br>Volatility: 0.13<br>SRE_Close: Weight=0.00<br>NFLX_Close: Weight=0.41<br>DUK_Close: Weight=0.59",
          "Return: 27.89%<br>Volatility: 0.12<br>ADBE_Close: Weight=0.47<br>PFE_Close: Weight=0.24<br>MS_Close: Weight=0.19<br>COST_Close: Weight=0.10<br>T_Close: Weight=0.00",
          "Return: 26.29%<br>Volatility: 0.12<br>SNAP_Close: Weight=0.00<br>GM_Close: Weight=0.11<br>MMM_Close: Weight=0.89",
          "Return: 24.39%<br>Volatility: 0.08<br>ZBH_Close: Weight=0.00<br>NEE_Close: Weight=0.42<br>HON_Close: Weight=0.57<br>QCOM_Close: Weight=0.01",
          "Return: 26.16%<br>Volatility: 0.10<br>JNJ_Close: Weight=0.34<br>REGN_Close: Weight=0.00<br>V_Close: Weight=0.66<br>UA_Close: Weight=0.00",
          "Return: 27.66%<br>Volatility: 0.11<br>DIS_Close: Weight=0.00<br>MMM_Close: Weight=0.63<br>GOOG_Close: Weight=0.37<br>LLY_Close: Weight=0.00",
          "Return: 31.47%<br>Volatility: 0.12<br>SO_Close: Weight=0.01<br>TSLA_Close: Weight=0.11<br>XOM_Close: Weight=0.00<br>SRE_Close: Weight=0.00<br>HD_Close: Weight=0.88",
          "Return: 16.11%<br>Volatility: 0.16<br>CSCO_Close: Weight=1.00<br>SNAP_Close: Weight=0.00<br>UA_Close: Weight=0.00",
          "Return: 47.63%<br>Volatility: 0.13<br>BA_Close: Weight=0.69<br>CMCSA_Close: Weight=0.02<br>SYK_Close: Weight=0.28<br>BIIB_Close: Weight=0.00",
          "Return: 28.25%<br>Volatility: 0.11<br>TXN_Close: Weight=0.49<br>SAP_Close: Weight=0.21<br>VZ_Close: Weight=0.05<br>SYY_Close: Weight=0.26",
          "Return: 14.78%<br>Volatility: 0.09<br>MRK_Close: Weight=0.00<br>PEP_Close: Weight=0.73<br>BAC_Close: Weight=0.27",
          "Return: 27.23%<br>Volatility: 0.13<br>SRE_Close: Weight=0.00<br>MMM_Close: Weight=0.98<br>DUK_Close: Weight=0.02<br>GILD_Close: Weight=0.00",
          "Return: 17.65%<br>Volatility: 0.16<br>PM_Close: Weight=0.00<br>QCOM_Close: Weight=0.42<br>MS_Close: Weight=0.58",
          "Return: 20.06%<br>Volatility: 0.08<br>JNJ_Close: Weight=0.38<br>SYK_Close: Weight=0.14<br>SYY_Close: Weight=0.25<br>AAPL_Close: Weight=0.24",
          "Return: 32.97%<br>Volatility: 0.11<br>T_Close: Weight=0.00<br>NVDA_Close: Weight=0.09<br>TXN_Close: Weight=0.33<br>RMD_Close: Weight=0.00<br>NEE_Close: Weight=0.58",
          "Return: 52.01%<br>Volatility: 0.14<br>ADBE_Close: Weight=0.24<br>BA_Close: Weight=0.66<br>RMD_Close: Weight=0.10<br>SAP_Close: Weight=0.01",
          "Return: 17.96%<br>Volatility: 0.15<br>BAC_Close: Weight=0.44<br>DIS_Close: Weight=0.00<br>CSCO_Close: Weight=0.56",
          "Return: 22.43%<br>Volatility: 0.09<br>BAC_Close: Weight=0.25<br>AEP_Close: Weight=0.58<br>EXC_Close: Weight=0.04<br>VRTX_Close: Weight=0.13",
          "Return: 20.54%<br>Volatility: 0.07<br>KO_Close: Weight=0.38<br>K_Close: Weight=0.00<br>HON_Close: Weight=0.62",
          "Return: 43.25%<br>Volatility: 0.17<br>MDT_Close: Weight=0.00<br>BABA_Close: Weight=0.54<br>TMO_Close: Weight=0.46",
          "Return: 19.18%<br>Volatility: 0.11<br>GIS_Close: Weight=0.00<br>EXC_Close: Weight=0.47<br>IBM_Close: Weight=0.00<br>AAPL_Close: Weight=0.53",
          "Return: 25.82%<br>Volatility: 0.11<br>BMY_Close: Weight=0.12<br>NKE_Close: Weight=0.08<br>CRM_Close: Weight=0.36<br>INTC_Close: Weight=0.44",
          "Return: 19.69%<br>Volatility: 0.07<br>MMM_Close: Weight=0.38<br>EXC_Close: Weight=0.07<br>CVX_Close: Weight=0.16<br>BAC_Close: Weight=0.10<br>PEP_Close: Weight=0.29",
          "Return: 38.51%<br>Volatility: 0.12<br>BABA_Close: Weight=0.24<br>CVX_Close: Weight=0.36<br>LLY_Close: Weight=0.01<br>ISRG_Close: Weight=0.39",
          "Return: 14.17%<br>Volatility: 0.12<br>PG_Close: Weight=0.27<br>SYY_Close: Weight=0.67<br>ZBH_Close: Weight=0.05",
          "Return: 35.28%<br>Volatility: 0.10<br>MA_Close: Weight=0.33<br>MMM_Close: Weight=0.37<br>BABA_Close: Weight=0.19<br>SYK_Close: Weight=0.04<br>DIS_Close: Weight=0.07",
          "Return: 27.35%<br>Volatility: 0.13<br>MDT_Close: Weight=0.00<br>GE_Close: Weight=0.00<br>MRK_Close: Weight=0.00<br>ACN_Close: Weight=1.00",
          "Return: 28.98%<br>Volatility: 0.11<br>EW_Close: Weight=0.10<br>V_Close: Weight=0.82<br>MS_Close: Weight=0.08<br>SO_Close: Weight=0.00",
          "Return: 35.78%<br>Volatility: 0.13<br>EMR_Close: Weight=0.24<br>BABA_Close: Weight=0.33<br>SYK_Close: Weight=0.25<br>GOOG_Close: Weight=0.18",
          "Return: 34.05%<br>Volatility: 0.14<br>GM_Close: Weight=0.05<br>MO_Close: Weight=0.00<br>TXN_Close: Weight=0.82<br>EW_Close: Weight=0.13",
          "Return: 33.92%<br>Volatility: 0.11<br>RMD_Close: Weight=0.09<br>WMT_Close: Weight=0.45<br>ABT_Close: Weight=0.44<br>GM_Close: Weight=0.03",
          "Return: 25.28%<br>Volatility: 0.11<br>SYY_Close: Weight=0.29<br>CPB_Close: Weight=0.00<br>MMM_Close: Weight=0.71",
          "Return: 51.51%<br>Volatility: 0.15<br>BIIB_Close: Weight=0.00<br>BA_Close: Weight=0.84<br>QCOM_Close: Weight=0.07<br>XOM_Close: Weight=0.09",
          "Return: 14.80%<br>Volatility: 0.08<br>SNAP_Close: Weight=0.00<br>RMD_Close: Weight=0.22<br>KO_Close: Weight=0.78<br>RDY_Close: Weight=0.00",
          "Return: 33.02%<br>Volatility: 0.10<br>VZ_Close: Weight=0.12<br>INTC_Close: Weight=0.27<br>MCD_Close: Weight=0.61<br>PM_Close: Weight=0.00",
          "Return: 29.61%<br>Volatility: 0.12<br>GOOG_Close: Weight=0.21<br>JPM_Close: Weight=0.36<br>SYK_Close: Weight=0.13<br>ADBE_Close: Weight=0.30",
          "Return: 24.29%<br>Volatility: 0.12<br>CSCO_Close: Weight=0.12<br>AMD_Close: Weight=0.00<br>SYK_Close: Weight=0.23<br>CRM_Close: Weight=0.31<br>GOOG_Close: Weight=0.34",
          "Return: 36.52%<br>Volatility: 0.14<br>EMR_Close: Weight=0.27<br>BABA_Close: Weight=0.47<br>SO_Close: Weight=0.05<br>VZ_Close: Weight=0.22<br>F_Close: Weight=0.00",
          "Return: 11.30%<br>Volatility: 0.17<br>SNAP_Close: Weight=0.00<br>DIS_Close: Weight=0.00<br>UA_Close: Weight=0.00<br>VZ_Close: Weight=1.00<br>MO_Close: Weight=0.00",
          "Return: 43.03%<br>Volatility: 0.18<br>CPB_Close: Weight=0.00<br>GS_Close: Weight=0.00<br>WMT_Close: Weight=1.00",
          "Return: 28.93%<br>Volatility: 0.11<br>JNJ_Close: Weight=0.36<br>MSFT_Close: Weight=0.62<br>ORCL_Close: Weight=0.00<br>F_Close: Weight=0.02<br>GS_Close: Weight=0.00",
          "Return: 46.52%<br>Volatility: 0.12<br>BIIB_Close: Weight=0.00<br>CAT_Close: Weight=0.42<br>DE_Close: Weight=0.21<br>ACN_Close: Weight=0.37",
          "Return: 31.32%<br>Volatility: 0.12<br>EXC_Close: Weight=0.22<br>AAPL_Close: Weight=0.06<br>MA_Close: Weight=0.72",
          "Return: 18.68%<br>Volatility: 0.08<br>PEP_Close: Weight=0.43<br>GOOGL_Close: Weight=0.30<br>GE_Close: Weight=0.00<br>EMR_Close: Weight=0.26<br>K_Close: Weight=0.00",
          "Return: 25.87%<br>Volatility: 0.14<br>AMGN_Close: Weight=0.00<br>TSLA_Close: Weight=0.04<br>IBM_Close: Weight=0.00<br>META_Close: Weight=0.73<br>COST_Close: Weight=0.23",
          "Return: 19.74%<br>Volatility: 0.17<br>QCOM_Close: Weight=0.39<br>BAC_Close: Weight=0.61<br>MDT_Close: Weight=0.00",
          "Return: 27.13%<br>Volatility: 0.11<br>CRM_Close: Weight=0.38<br>ABT_Close: Weight=0.61<br>NKE_Close: Weight=0.02",
          "Return: 17.74%<br>Volatility: 0.12<br>SYY_Close: Weight=0.60<br>CPB_Close: Weight=0.00<br>COST_Close: Weight=0.02<br>CMCSA_Close: Weight=0.12<br>QCOM_Close: Weight=0.26",
          "Return: 29.93%<br>Volatility: 0.08<br>NEE_Close: Weight=0.45<br>VRTX_Close: Weight=0.09<br>XOM_Close: Weight=0.03<br>HD_Close: Weight=0.43",
          "Return: 32.59%<br>Volatility: 0.11<br>SYK_Close: Weight=0.21<br>ETN_Close: Weight=0.06<br>T_Close: Weight=0.00<br>MCD_Close: Weight=0.72<br>AMGN_Close: Weight=0.00",
          "Return: 16.23%<br>Volatility: 0.11<br>ZBH_Close: Weight=0.00<br>AMD_Close: Weight=0.00<br>BTI_Close: Weight=0.13<br>JNJ_Close: Weight=0.87",
          "Return: 30.25%<br>Volatility: 0.11<br>HD_Close: Weight=0.70<br>GIS_Close: Weight=0.00<br>AAPL_Close: Weight=0.30",
          "Return: 14.71%<br>Volatility: 0.09<br>SYY_Close: Weight=0.34<br>GM_Close: Weight=0.18<br>DHR_Close: Weight=0.14<br>SO_Close: Weight=0.00<br>EXC_Close: Weight=0.34",
          "Return: 30.98%<br>Volatility: 0.13<br>V_Close: Weight=1.00<br>AMD_Close: Weight=0.00<br>SRE_Close: Weight=0.00",
          "Return: 47.14%<br>Volatility: 0.13<br>V_Close: Weight=0.51<br>SNAP_Close: Weight=0.00<br>CAT_Close: Weight=0.49",
          "Return: 64.11%<br>Volatility: 0.20<br>CAT_Close: Weight=1.00<br>PM_Close: Weight=0.00<br>SNAP_Close: Weight=0.00",
          "Return: 26.77%<br>Volatility: 0.10<br>KO_Close: Weight=0.55<br>WMT_Close: Weight=0.45<br>MRK_Close: Weight=0.00",
          "Return: 32.63%<br>Volatility: 0.09<br>MCD_Close: Weight=0.40<br>KO_Close: Weight=0.40<br>REGN_Close: Weight=0.00<br>BABA_Close: Weight=0.20",
          "Return: 45.40%<br>Volatility: 0.15<br>BMY_Close: Weight=0.00<br>ABBV_Close: Weight=0.73<br>XOM_Close: Weight=0.00<br>CPB_Close: Weight=0.00<br>SAP_Close: Weight=0.27",
          "Return: 29.53%<br>Volatility: 0.11<br>JNJ_Close: Weight=0.30<br>XOM_Close: Weight=0.00<br>KR_Close: Weight=0.00<br>UNH_Close: Weight=0.70",
          "Return: 22.55%<br>Volatility: 0.10<br>TMO_Close: Weight=0.32<br>GM_Close: Weight=0.15<br>MDT_Close: Weight=0.00<br>DUK_Close: Weight=0.35<br>VRTX_Close: Weight=0.19",
          "Return: 16.69%<br>Volatility: 0.20<br>F_Close: Weight=0.13<br>TSLA_Close: Weight=0.45<br>K_Close: Weight=0.00<br>NKE_Close: Weight=0.42",
          "Return: 29.91%<br>Volatility: 0.09<br>ABT_Close: Weight=0.32<br>CPB_Close: Weight=0.00<br>PEP_Close: Weight=0.31<br>DE_Close: Weight=0.37",
          "Return: 60.27%<br>Volatility: 0.18<br>CAT_Close: Weight=0.94<br>REGN_Close: Weight=0.06<br>RDY_Close: Weight=0.00",
          "Return: 19.37%<br>Volatility: 0.11<br>BMY_Close: Weight=0.14<br>NFLX_Close: Weight=0.25<br>EXC_Close: Weight=0.41<br>REGN_Close: Weight=0.00<br>GM_Close: Weight=0.19",
          "Return: 45.53%<br>Volatility: 0.13<br>ABBV_Close: Weight=0.51<br>ORCL_Close: Weight=0.00<br>MA_Close: Weight=0.42<br>AMD_Close: Weight=0.00<br>META_Close: Weight=0.07",
          "Return: 23.67%<br>Volatility: 0.13<br>CMCSA_Close: Weight=0.12<br>DUK_Close: Weight=0.57<br>VRTX_Close: Weight=0.31",
          "Return: 21.75%<br>Volatility: 0.08<br>AEP_Close: Weight=0.47<br>AMZN_Close: Weight=0.22<br>KR_Close: Weight=0.00<br>JPM_Close: Weight=0.31<br>AMGN_Close: Weight=0.00",
          "Return: 45.27%<br>Volatility: 0.15<br>MO_Close: Weight=0.00<br>DE_Close: Weight=0.63<br>ADBE_Close: Weight=0.37",
          "Return: 31.32%<br>Volatility: 0.10<br>HON_Close: Weight=0.65<br>ZBH_Close: Weight=0.00<br>ETN_Close: Weight=0.00<br>MRK_Close: Weight=0.00<br>WMT_Close: Weight=0.35",
          "Return: 32.03%<br>Volatility: 0.18<br>SNAP_Close: Weight=0.00<br>ETN_Close: Weight=0.36<br>GM_Close: Weight=0.26<br>VRTX_Close: Weight=0.38<br>KR_Close: Weight=0.00",
          "Return: 49.26%<br>Volatility: 0.14<br>META_Close: Weight=0.10<br>GOOG_Close: Weight=0.21<br>AMGN_Close: Weight=0.00<br>BA_Close: Weight=0.68<br>LLY_Close: Weight=0.01",
          "Return: 49.32%<br>Volatility: 0.13<br>WMT_Close: Weight=0.43<br>ABBV_Close: Weight=0.57<br>BTI_Close: Weight=0.00",
          "Return: 41.03%<br>Volatility: 0.13<br>VZ_Close: Weight=0.07<br>ABBV_Close: Weight=0.65<br>ORCL_Close: Weight=0.01<br>SYY_Close: Weight=0.26",
          "Return: 28.49%<br>Volatility: 0.10<br>ADBE_Close: Weight=0.18<br>EXC_Close: Weight=0.19<br>GOOG_Close: Weight=0.22<br>ABT_Close: Weight=0.41",
          "Return: 34.10%<br>Volatility: 0.11<br>MDT_Close: Weight=0.00<br>GILD_Close: Weight=0.00<br>ISRG_Close: Weight=0.38<br>MMM_Close: Weight=0.46<br>SAP_Close: Weight=0.16",
          "Return: 22.74%<br>Volatility: 0.08<br>COST_Close: Weight=0.00<br>KO_Close: Weight=0.41<br>INTC_Close: Weight=0.23<br>ACN_Close: Weight=0.35",
          "Return: 16.33%<br>Volatility: 0.11<br>PM_Close: Weight=0.00<br>NKE_Close: Weight=0.10<br>AMGN_Close: Weight=0.00<br>JNJ_Close: Weight=0.90",
          "Return: 30.11%<br>Volatility: 0.12<br>RTX_Close: Weight=0.20<br>JPM_Close: Weight=0.38<br>ADBE_Close: Weight=0.42",
          "Return: 35.00%<br>Volatility: 0.10<br>MCD_Close: Weight=0.52<br>UNH_Close: Weight=0.43<br>CMCSA_Close: Weight=0.05",
          "Return: 38.89%<br>Volatility: 0.13<br>DE_Close: Weight=0.60<br>META_Close: Weight=0.33<br>CPB_Close: Weight=0.00<br>GOOGL_Close: Weight=0.07<br>WFC_Close: Weight=0.00",
          "Return: 20.36%<br>Volatility: 0.21<br>BAC_Close: Weight=1.00<br>MRK_Close: Weight=0.00<br>MDT_Close: Weight=0.00",
          "Return: 37.90%<br>Volatility: 0.10<br>BABA_Close: Weight=0.19<br>NKE_Close: Weight=0.04<br>JNJ_Close: Weight=0.05<br>PEP_Close: Weight=0.34<br>ABBV_Close: Weight=0.38",
          "Return: 24.20%<br>Volatility: 0.10<br>SAP_Close: Weight=0.31<br>ABT_Close: Weight=0.48<br>REGN_Close: Weight=0.00<br>RDY_Close: Weight=0.00<br>RTX_Close: Weight=0.22",
          "Return: 61.53%<br>Volatility: 0.15<br>GE_Close: Weight=0.00<br>DIS_Close: Weight=0.00<br>BA_Close: Weight=0.65<br>PYPL_Close: Weight=0.35<br>T_Close: Weight=0.00",
          "Return: 17.55%<br>Volatility: 0.09<br>TMO_Close: Weight=0.37<br>AEP_Close: Weight=0.63<br>PM_Close: Weight=0.00<br>DUK_Close: Weight=0.00<br>SO_Close: Weight=0.00",
          "Return: 40.69%<br>Volatility: 0.13<br>T_Close: Weight=0.00<br>XOM_Close: Weight=0.08<br>MMM_Close: Weight=0.45<br>COST_Close: Weight=0.05<br>PYPL_Close: Weight=0.42",
          "Return: 32.14%<br>Volatility: 0.12<br>XOM_Close: Weight=0.13<br>LLY_Close: Weight=0.03<br>MA_Close: Weight=0.84",
          "Return: 63.98%<br>Volatility: 0.21<br>VRTX_Close: Weight=0.22<br>QCOM_Close: Weight=0.01<br>PYPL_Close: Weight=0.77",
          "Return: 32.90%<br>Volatility: 0.14<br>WMT_Close: Weight=0.74<br>GS_Close: Weight=0.00<br>XOM_Close: Weight=0.26",
          "Return: 27.88%<br>Volatility: 0.13<br>AMZN_Close: Weight=0.33<br>K_Close: Weight=0.00<br>GOOGL_Close: Weight=0.29<br>EMR_Close: Weight=0.38",
          "Return: 45.28%<br>Volatility: 0.14<br>GIS_Close: Weight=0.00<br>SRE_Close: Weight=0.00<br>ISRG_Close: Weight=0.46<br>DE_Close: Weight=0.52<br>TSLA_Close: Weight=0.03",
          "Return: 23.70%<br>Volatility: 0.10<br>NFLX_Close: Weight=0.15<br>LMT_Close: Weight=0.70<br>DUK_Close: Weight=0.15",
          "Return: 30.58%<br>Volatility: 0.09<br>HD_Close: Weight=0.40<br>GOOGL_Close: Weight=0.06<br>MA_Close: Weight=0.37<br>PEP_Close: Weight=0.17",
          "Return: 23.59%<br>Volatility: 0.10<br>MRK_Close: Weight=0.00<br>TMO_Close: Weight=0.12<br>JNJ_Close: Weight=0.36<br>ABT_Close: Weight=0.52<br>GE_Close: Weight=0.00",
          "Return: 33.41%<br>Volatility: 0.13<br>DUK_Close: Weight=0.30<br>ISRG_Close: Weight=0.65<br>TSLA_Close: Weight=0.05",
          "Return: 41.31%<br>Volatility: 0.10<br>AEP_Close: Weight=0.30<br>CAT_Close: Weight=0.37<br>RDY_Close: Weight=0.00<br>RTX_Close: Weight=0.08<br>ISRG_Close: Weight=0.26",
          "Return: 52.99%<br>Volatility: 0.18<br>INTC_Close: Weight=0.37<br>PM_Close: Weight=0.00<br>PYPL_Close: Weight=0.63<br>BSX_Close: Weight=0.00",
          "Return: 28.48%<br>Volatility: 0.09<br>INTC_Close: Weight=0.23<br>EXC_Close: Weight=0.18<br>JNJ_Close: Weight=0.25<br>WMT_Close: Weight=0.33<br>VZ_Close: Weight=0.00",
          "Return: 30.20%<br>Volatility: 0.12<br>HD_Close: Weight=0.90<br>T_Close: Weight=0.00<br>VZ_Close: Weight=0.10<br>SO_Close: Weight=0.00",
          "Return: 23.11%<br>Volatility: 0.09<br>DUK_Close: Weight=0.00<br>SAP_Close: Weight=0.37<br>AMD_Close: Weight=0.00<br>NEE_Close: Weight=0.63",
          "Return: 24.52%<br>Volatility: 0.10<br>K_Close: Weight=0.00<br>HON_Close: Weight=0.84<br>TMO_Close: Weight=0.16",
          "Return: 28.72%<br>Volatility: 0.10<br>NKE_Close: Weight=0.01<br>BSX_Close: Weight=0.00<br>PFE_Close: Weight=0.06<br>MMM_Close: Weight=0.43<br>HD_Close: Weight=0.50",
          "Return: 17.26%<br>Volatility: 0.09<br>AEP_Close: Weight=0.60<br>BTI_Close: Weight=0.04<br>TMO_Close: Weight=0.36",
          "Return: 16.56%<br>Volatility: 0.08<br>BAC_Close: Weight=0.29<br>COST_Close: Weight=0.02<br>DIS_Close: Weight=0.00<br>AEP_Close: Weight=0.69<br>MS_Close: Weight=0.00",
          "Return: 25.22%<br>Volatility: 0.10<br>MO_Close: Weight=0.00<br>HON_Close: Weight=0.79<br>LLY_Close: Weight=0.00<br>GOOGL_Close: Weight=0.21",
          "Return: 10.17%<br>Volatility: 0.08<br>PFE_Close: Weight=0.47<br>EXC_Close: Weight=0.43<br>PG_Close: Weight=0.10",
          "Return: 40.06%<br>Volatility: 0.13<br>PYPL_Close: Weight=0.40<br>MRK_Close: Weight=0.00<br>ORCL_Close: Weight=0.05<br>LMT_Close: Weight=0.56",
          "Return: 27.69%<br>Volatility: 0.09<br>ADBE_Close: Weight=0.24<br>ABT_Close: Weight=0.35<br>SYK_Close: Weight=0.09<br>T_Close: Weight=0.00<br>CVX_Close: Weight=0.32",
          "Return: 23.21%<br>Volatility: 0.11<br>K_Close: Weight=0.00<br>PEP_Close: Weight=0.59<br>BTI_Close: Weight=0.00<br>AMZN_Close: Weight=0.41",
          "Return: 43.47%<br>Volatility: 0.12<br>SRE_Close: Weight=0.00<br>INTC_Close: Weight=0.14<br>HD_Close: Weight=0.51<br>BMY_Close: Weight=0.01<br>PYPL_Close: Weight=0.34",
          "Return: 42.85%<br>Volatility: 0.15<br>AMZN_Close: Weight=0.34<br>DE_Close: Weight=0.66<br>UA_Close: Weight=0.00",
          "Return: 31.44%<br>Volatility: 0.11<br>MA_Close: Weight=0.76<br>CRM_Close: Weight=0.02<br>VZ_Close: Weight=0.22",
          "Return: 26.73%<br>Volatility: 0.14<br>INTC_Close: Weight=0.68<br>ETN_Close: Weight=0.15<br>GM_Close: Weight=0.17<br>CPB_Close: Weight=0.00<br>WFC_Close: Weight=0.00",
          "Return: 31.26%<br>Volatility: 0.12<br>NVDA_Close: Weight=0.25<br>EXC_Close: Weight=0.06<br>PG_Close: Weight=0.00<br>COST_Close: Weight=0.09<br>AEP_Close: Weight=0.60",
          "Return: 28.07%<br>Volatility: 0.08<br>MCD_Close: Weight=0.44<br>CVX_Close: Weight=0.19<br>AMGN_Close: Weight=0.00<br>NEE_Close: Weight=0.37",
          "Return: 53.59%<br>Volatility: 0.18<br>UA_Close: Weight=0.00<br>MDT_Close: Weight=0.00<br>NVDA_Close: Weight=0.28<br>WMT_Close: Weight=0.72",
          "Return: 46.90%<br>Volatility: 0.21<br>CPB_Close: Weight=0.00<br>AMD_Close: Weight=0.00<br>META_Close: Weight=0.53<br>NVDA_Close: Weight=0.37<br>BTI_Close: Weight=0.10",
          "Return: 17.60%<br>Volatility: 0.08<br>CRM_Close: Weight=0.35<br>BTI_Close: Weight=0.00<br>AEP_Close: Weight=0.51<br>WFC_Close: Weight=0.13",
          "Return: 45.19%<br>Volatility: 0.15<br>PYPL_Close: Weight=0.61<br>CMCSA_Close: Weight=0.10<br>NKE_Close: Weight=0.08<br>RTX_Close: Weight=0.21",
          "Return: 25.07%<br>Volatility: 0.10<br>GS_Close: Weight=0.00<br>HON_Close: Weight=1.00<br>SRE_Close: Weight=0.00",
          "Return: 38.56%<br>Volatility: 0.14<br>WMT_Close: Weight=0.57<br>RDY_Close: Weight=0.00<br>GILD_Close: Weight=0.00<br>INTC_Close: Weight=0.43",
          "Return: 23.45%<br>Volatility: 0.12<br>CRM_Close: Weight=0.43<br>GOOGL_Close: Weight=0.42<br>COST_Close: Weight=0.15",
          "Return: 25.40%<br>Volatility: 0.09<br>PEP_Close: Weight=0.37<br>QCOM_Close: Weight=0.08<br>UNH_Close: Weight=0.55",
          "Return: 22.57%<br>Volatility: 0.09<br>ABT_Close: Weight=0.51<br>TSLA_Close: Weight=0.05<br>AEP_Close: Weight=0.44",
          "Return: 20.50%<br>Volatility: 0.11<br>BTI_Close: Weight=0.09<br>PG_Close: Weight=0.24<br>GOOG_Close: Weight=0.67<br>GOOGL_Close: Weight=0.00",
          "Return: 15.07%<br>Volatility: 0.10<br>XOM_Close: Weight=0.07<br>JNJ_Close: Weight=0.76<br>VZ_Close: Weight=0.17",
          "Return: 24.43%<br>Volatility: 0.12<br>ETN_Close: Weight=0.16<br>ACN_Close: Weight=0.79<br>BMY_Close: Weight=0.04",
          "Return: 30.61%<br>Volatility: 0.09<br>KR_Close: Weight=0.00<br>BIIB_Close: Weight=0.00<br>MCD_Close: Weight=0.46<br>LMT_Close: Weight=0.43<br>GOOGL_Close: Weight=0.11",
          "Return: 18.48%<br>Volatility: 0.14<br>BTI_Close: Weight=0.32<br>TSLA_Close: Weight=0.19<br>SNAP_Close: Weight=0.00<br>BAC_Close: Weight=0.49",
          "Return: 6.48%<br>Volatility: 0.17<br>GE_Close: Weight=0.00<br>GS_Close: Weight=0.00<br>WFC_Close: Weight=1.00",
          "Return: 27.18%<br>Volatility: 0.08<br>JNJ_Close: Weight=0.17<br>EMR_Close: Weight=0.00<br>MCD_Close: Weight=0.37<br>HON_Close: Weight=0.42<br>DIS_Close: Weight=0.04",
          "Return: 39.79%<br>Volatility: 0.11<br>CVX_Close: Weight=0.02<br>AAPL_Close: Weight=0.13<br>CAT_Close: Weight=0.46<br>TSLA_Close: Weight=0.00<br>JNJ_Close: Weight=0.39",
          "Return: 21.09%<br>Volatility: 0.14<br>PM_Close: Weight=0.00<br>SYK_Close: Weight=0.78<br>QCOM_Close: Weight=0.22",
          "Return: 23.12%<br>Volatility: 0.10<br>META_Close: Weight=0.22<br>CVX_Close: Weight=0.43<br>GOOG_Close: Weight=0.35<br>REGN_Close: Weight=0.00",
          "Return: 23.01%<br>Volatility: 0.13<br>DHR_Close: Weight=0.12<br>COST_Close: Weight=0.15<br>GOOG_Close: Weight=0.73",
          "Return: 71.73%<br>Volatility: 0.35<br>TSLA_Close: Weight=0.10<br>F_Close: Weight=0.05<br>NVDA_Close: Weight=0.86",
          "Return: 22.88%<br>Volatility: 0.10<br>JNJ_Close: Weight=0.39<br>QCOM_Close: Weight=0.05<br>ACN_Close: Weight=0.56",
          "Return: 12.24%<br>Volatility: 0.12<br>K_Close: Weight=0.00<br>CMCSA_Close: Weight=0.20<br>ETN_Close: Weight=0.63<br>SO_Close: Weight=0.00<br>BIIB_Close: Weight=0.17",
          "Return: 19.68%<br>Volatility: 0.10<br>RTX_Close: Weight=0.38<br>MS_Close: Weight=0.00<br>SYK_Close: Weight=0.44<br>GIS_Close: Weight=0.00<br>BAC_Close: Weight=0.18",
          "Return: 20.32%<br>Volatility: 0.10<br>JNJ_Close: Weight=0.52<br>GOOGL_Close: Weight=0.43<br>WFC_Close: Weight=0.04<br>KR_Close: Weight=0.00",
          "Return: 35.16%<br>Volatility: 0.15<br>PM_Close: Weight=0.00<br>TSLA_Close: Weight=0.04<br>MS_Close: Weight=0.08<br>TXN_Close: Weight=0.89",
          "Return: 27.93%<br>Volatility: 0.13<br>RTX_Close: Weight=0.49<br>AMZN_Close: Weight=0.51<br>AMD_Close: Weight=0.00",
          "Return: 25.07%<br>Volatility: 0.10<br>K_Close: Weight=0.00<br>MO_Close: Weight=0.00<br>GE_Close: Weight=0.00<br>MDT_Close: Weight=0.00<br>HON_Close: Weight=1.00",
          "Return: 16.59%<br>Volatility: 0.10<br>TSLA_Close: Weight=0.09<br>JNJ_Close: Weight=0.69<br>NKE_Close: Weight=0.05<br>SNAP_Close: Weight=0.00<br>VZ_Close: Weight=0.16",
          "Return: 32.62%<br>Volatility: 0.12<br>ACN_Close: Weight=0.44<br>PM_Close: Weight=0.00<br>MSFT_Close: Weight=0.56<br>ZBH_Close: Weight=0.00",
          "Return: 27.13%<br>Volatility: 0.09<br>BAC_Close: Weight=0.00<br>GOOG_Close: Weight=0.33<br>CVX_Close: Weight=0.22<br>HD_Close: Weight=0.45<br>KR_Close: Weight=0.00",
          "Return: 25.54%<br>Volatility: 0.11<br>ABT_Close: Weight=0.67<br>BMY_Close: Weight=0.04<br>EMR_Close: Weight=0.29",
          "Return: 30.94%<br>Volatility: 0.11<br>TXN_Close: Weight=0.44<br>CMCSA_Close: Weight=0.00<br>SYY_Close: Weight=0.29<br>INTC_Close: Weight=0.23<br>NFLX_Close: Weight=0.04",
          "Return: 47.02%<br>Volatility: 0.10<br>WMT_Close: Weight=0.22<br>MCD_Close: Weight=0.27<br>ISRG_Close: Weight=0.13<br>ABBV_Close: Weight=0.26<br>BABA_Close: Weight=0.12",
          "Return: 25.07%<br>Volatility: 0.10<br>GILD_Close: Weight=0.00<br>HON_Close: Weight=1.00<br>LLY_Close: Weight=0.00",
          "Return: 30.98%<br>Volatility: 0.13<br>V_Close: Weight=1.00<br>BSX_Close: Weight=0.00<br>BIIB_Close: Weight=0.00",
          "Return: 30.05%<br>Volatility: 0.12<br>AMD_Close: Weight=0.00<br>LMT_Close: Weight=0.85<br>VRTX_Close: Weight=0.15<br>K_Close: Weight=0.00",
          "Return: 28.15%<br>Volatility: 0.10<br>GM_Close: Weight=0.10<br>QCOM_Close: Weight=0.00<br>ACN_Close: Weight=0.35<br>V_Close: Weight=0.56",
          "Return: 46.64%<br>Volatility: 0.12<br>JPM_Close: Weight=0.02<br>V_Close: Weight=0.51<br>XOM_Close: Weight=0.00<br>CAT_Close: Weight=0.48",
          "Return: 31.28%<br>Volatility: 0.11<br>GM_Close: Weight=0.16<br>MCD_Close: Weight=0.75<br>CMCSA_Close: Weight=0.07<br>XOM_Close: Weight=0.02",
          "Return: 32.53%<br>Volatility: 0.13<br>GM_Close: Weight=0.18<br>TSLA_Close: Weight=0.02<br>MSFT_Close: Weight=0.80<br>BSX_Close: Weight=0.00",
          "Return: 28.82%<br>Volatility: 0.11<br>COST_Close: Weight=0.00<br>SAP_Close: Weight=0.36<br>HD_Close: Weight=0.64",
          "Return: 29.46%<br>Volatility: 0.12<br>V_Close: Weight=0.89<br>MS_Close: Weight=0.11<br>MDT_Close: Weight=0.00",
          "Return: 13.28%<br>Volatility: 0.11<br>ZBH_Close: Weight=0.09<br>CVX_Close: Weight=0.65<br>VZ_Close: Weight=0.25",
          "Return: 21.03%<br>Volatility: 0.13<br>SAP_Close: Weight=0.91<br>SNAP_Close: Weight=0.00<br>MRK_Close: Weight=0.00<br>WFC_Close: Weight=0.09",
          "Return: 36.10%<br>Volatility: 0.13<br>XOM_Close: Weight=0.03<br>GILD_Close: Weight=0.00<br>PG_Close: Weight=0.02<br>VRTX_Close: Weight=0.18<br>HD_Close: Weight=0.77",
          "Return: 13.74%<br>Volatility: 0.18<br>SO_Close: Weight=0.00<br>ZBH_Close: Weight=0.09<br>AMD_Close: Weight=0.00<br>GM_Close: Weight=0.91",
          "Return: 42.21%<br>Volatility: 0.18<br>MRK_Close: Weight=0.00<br>WMT_Close: Weight=0.98<br>ZBH_Close: Weight=0.00<br>LLY_Close: Weight=0.02",
          "Return: 11.55%<br>Volatility: 0.12<br>AMGN_Close: Weight=0.00<br>DHR_Close: Weight=0.56<br>BSX_Close: Weight=0.00<br>GM_Close: Weight=0.44<br>IBM_Close: Weight=0.00",
          "Return: 22.39%<br>Volatility: 0.11<br>SAP_Close: Weight=0.48<br>CMCSA_Close: Weight=0.11<br>GOOGL_Close: Weight=0.41",
          "Return: 41.91%<br>Volatility: 0.17<br>BABA_Close: Weight=0.48<br>BAC_Close: Weight=0.18<br>GOOGL_Close: Weight=0.35",
          "Return: 25.73%<br>Volatility: 0.09<br>HON_Close: Weight=0.71<br>TSLA_Close: Weight=0.01<br>META_Close: Weight=0.23<br>IBM_Close: Weight=0.00<br>COST_Close: Weight=0.05",
          "Return: 31.18%<br>Volatility: 0.11<br>MA_Close: Weight=0.65<br>DUK_Close: Weight=0.20<br>GIS_Close: Weight=0.01<br>AMZN_Close: Weight=0.15",
          "Return: 43.42%<br>Volatility: 0.14<br>AMGN_Close: Weight=0.00<br>K_Close: Weight=0.00<br>PYPL_Close: Weight=0.41<br>MA_Close: Weight=0.43<br>XOM_Close: Weight=0.16",
          "Return: 23.14%<br>Volatility: 0.11<br>GM_Close: Weight=0.18<br>SYK_Close: Weight=0.33<br>VRTX_Close: Weight=0.19<br>CPB_Close: Weight=0.00<br>DUK_Close: Weight=0.30",
          "Return: 36.12%<br>Volatility: 0.13<br>ORCL_Close: Weight=0.00<br>RDY_Close: Weight=0.00<br>INTC_Close: Weight=0.28<br>MA_Close: Weight=0.72",
          "Return: 26.95%<br>Volatility: 0.09<br>GOOGL_Close: Weight=0.28<br>RTX_Close: Weight=0.13<br>HD_Close: Weight=0.51<br>VZ_Close: Weight=0.08",
          "Return: 30.55%<br>Volatility: 0.12<br>IBM_Close: Weight=0.00<br>V_Close: Weight=0.99<br>T_Close: Weight=0.01",
          "Return: 24.63%<br>Volatility: 0.07<br>NEE_Close: Weight=0.37<br>SYY_Close: Weight=0.13<br>V_Close: Weight=0.31<br>JPM_Close: Weight=0.18<br>PM_Close: Weight=0.00",
          "Return: 23.55%<br>Volatility: 0.11<br>NEE_Close: Weight=1.00<br>GIS_Close: Weight=0.00<br>SO_Close: Weight=0.00",
          "Return: 26.30%<br>Volatility: 0.10<br>ETN_Close: Weight=0.01<br>ADBE_Close: Weight=0.33<br>GILD_Close: Weight=0.00<br>EXC_Close: Weight=0.29<br>JPM_Close: Weight=0.38",
          "Return: 19.39%<br>Volatility: 0.13<br>SYK_Close: Weight=0.78<br>SNAP_Close: Weight=0.00<br>BMY_Close: Weight=0.21<br>MDT_Close: Weight=0.00<br>BIIB_Close: Weight=0.02",
          "Return: 43.70%<br>Volatility: 0.16<br>NFLX_Close: Weight=0.21<br>ZBH_Close: Weight=0.00<br>GIS_Close: Weight=0.00<br>DE_Close: Weight=0.79",
          "Return: 34.29%<br>Volatility: 0.14<br>MMM_Close: Weight=0.81<br>DIS_Close: Weight=0.00<br>SO_Close: Weight=0.00<br>SNAP_Close: Weight=0.00<br>VRTX_Close: Weight=0.19",
          "Return: 26.86%<br>Volatility: 0.11<br>CVX_Close: Weight=0.22<br>RDY_Close: Weight=0.00<br>BTI_Close: Weight=0.08<br>HD_Close: Weight=0.69",
          "Return: 28.09%<br>Volatility: 0.09<br>BTI_Close: Weight=0.05<br>UNH_Close: Weight=0.44<br>QCOM_Close: Weight=0.04<br>LMT_Close: Weight=0.46",
          "Return: 25.55%<br>Volatility: 0.11<br>EW_Close: Weight=0.11<br>EMR_Close: Weight=0.22<br>MMM_Close: Weight=0.67",
          "Return: 35.62%<br>Volatility: 0.09<br>BABA_Close: Weight=0.14<br>MCD_Close: Weight=0.33<br>INTC_Close: Weight=0.09<br>TXN_Close: Weight=0.09<br>NEE_Close: Weight=0.35",
          "Return: 51.50%<br>Volatility: 0.17<br>ABBV_Close: Weight=0.95<br>XOM_Close: Weight=0.00<br>F_Close: Weight=0.05",
          "Return: 28.14%<br>Volatility: 0.10<br>GIS_Close: Weight=0.00<br>ZBH_Close: Weight=0.00<br>HD_Close: Weight=0.42<br>HON_Close: Weight=0.58",
          "Return: 18.93%<br>Volatility: 0.18<br>MDT_Close: Weight=0.00<br>CPB_Close: Weight=0.00<br>EW_Close: Weight=0.69<br>NKE_Close: Weight=0.31",
          "Return: 40.40%<br>Volatility: 0.20<br>ADBE_Close: Weight=0.84<br>MRK_Close: Weight=0.00<br>SRE_Close: Weight=0.00<br>ORCL_Close: Weight=0.16",
          "Return: 64.11%<br>Volatility: 0.20<br>CAT_Close: Weight=1.00<br>SNAP_Close: Weight=0.00<br>RDY_Close: Weight=0.00",
          "Return: 26.83%<br>Volatility: 0.10<br>GE_Close: Weight=0.00<br>EXC_Close: Weight=0.23<br>V_Close: Weight=0.77",
          "Return: 23.86%<br>Volatility: 0.11<br>ETN_Close: Weight=0.00<br>CSCO_Close: Weight=0.10<br>EMR_Close: Weight=0.35<br>GOOG_Close: Weight=0.54",
          "Return: 27.74%<br>Volatility: 0.09<br>PFE_Close: Weight=0.19<br>PG_Close: Weight=0.00<br>MCD_Close: Weight=0.64<br>NKE_Close: Weight=0.06<br>VZ_Close: Weight=0.10",
          "Return: 19.69%<br>Volatility: 0.11<br>VZ_Close: Weight=0.11<br>TMO_Close: Weight=0.46<br>GE_Close: Weight=0.00<br>JPM_Close: Weight=0.43",
          "Return: 23.71%<br>Volatility: 0.07<br>JPM_Close: Weight=0.15<br>KO_Close: Weight=0.33<br>CSCO_Close: Weight=0.00<br>MA_Close: Weight=0.28<br>LMT_Close: Weight=0.24",
          "Return: 54.79%<br>Volatility: 0.25<br>NVDA_Close: Weight=0.53<br>NKE_Close: Weight=0.22<br>NFLX_Close: Weight=0.25",
          "Return: 25.73%<br>Volatility: 0.08<br>AEP_Close: Weight=0.29<br>ABT_Close: Weight=0.28<br>V_Close: Weight=0.43",
          "Return: 27.77%<br>Volatility: 0.10<br>ETN_Close: Weight=0.19<br>WMT_Close: Weight=0.49<br>EXC_Close: Weight=0.32<br>GE_Close: Weight=0.00<br>CPB_Close: Weight=0.00",
          "Return: 36.31%<br>Volatility: 0.10<br>DHR_Close: Weight=0.00<br>MO_Close: Weight=0.00<br>BA_Close: Weight=0.51<br>PFE_Close: Weight=0.13<br>KO_Close: Weight=0.36",
          "Return: 32.61%<br>Volatility: 0.13<br>MSFT_Close: Weight=0.81<br>GM_Close: Weight=0.19<br>K_Close: Weight=0.00<br>REGN_Close: Weight=0.00",
          "Return: 41.05%<br>Volatility: 0.10<br>LMT_Close: Weight=0.15<br>BAC_Close: Weight=0.00<br>ABT_Close: Weight=0.24<br>BA_Close: Weight=0.43<br>ACN_Close: Weight=0.18",
          "Return: 20.51%<br>Volatility: 0.14<br>EW_Close: Weight=0.30<br>BSX_Close: Weight=0.00<br>PM_Close: Weight=0.00<br>EMR_Close: Weight=0.56<br>MS_Close: Weight=0.13",
          "Return: 37.65%<br>Volatility: 0.10<br>BA_Close: Weight=0.51<br>KO_Close: Weight=0.38<br>RMD_Close: Weight=0.11",
          "Return: 38.21%<br>Volatility: 0.11<br>CPB_Close: Weight=0.00<br>CAT_Close: Weight=0.48<br>AEP_Close: Weight=0.31<br>PEP_Close: Weight=0.21",
          "Return: 13.43%<br>Volatility: 0.11<br>ZBH_Close: Weight=0.09<br>NKE_Close: Weight=0.19<br>CVX_Close: Weight=0.72<br>DIS_Close: Weight=0.00",
          "Return: 29.91%<br>Volatility: 0.12<br>BIIB_Close: Weight=0.00<br>V_Close: Weight=0.90<br>GILD_Close: Weight=0.00<br>RMD_Close: Weight=0.10",
          "Return: 27.25%<br>Volatility: 0.16<br>SYK_Close: Weight=0.67<br>NFLX_Close: Weight=0.33<br>SRE_Close: Weight=0.00",
          "Return: 34.53%<br>Volatility: 0.14<br>TMO_Close: Weight=0.33<br>REGN_Close: Weight=0.00<br>NVDA_Close: Weight=0.30<br>PFE_Close: Weight=0.37",
          "Return: 48.07%<br>Volatility: 0.14<br>NFLX_Close: Weight=0.00<br>MCD_Close: Weight=0.62<br>PYPL_Close: Weight=0.38<br>REGN_Close: Weight=0.00",
          "Return: 43.25%<br>Volatility: 0.12<br>HON_Close: Weight=0.47<br>BA_Close: Weight=0.53<br>MRK_Close: Weight=0.00",
          "Return: 15.07%<br>Volatility: 0.14<br>MS_Close: Weight=0.43<br>ETN_Close: Weight=0.57<br>CPB_Close: Weight=0.00",
          "Return: 27.07%<br>Volatility: 0.09<br>EXC_Close: Weight=0.13<br>HON_Close: Weight=0.44<br>ORCL_Close: Weight=0.06<br>CVX_Close: Weight=0.11<br>DE_Close: Weight=0.27",
          "Return: 24.64%<br>Volatility: 0.11<br>BMY_Close: Weight=0.08<br>LLY_Close: Weight=0.00<br>EMR_Close: Weight=0.24<br>MMM_Close: Weight=0.68",
          "Return: 35.71%<br>Volatility: 0.12<br>RMD_Close: Weight=0.05<br>COST_Close: Weight=0.12<br>BABA_Close: Weight=0.25<br>RDY_Close: Weight=0.00<br>V_Close: Weight=0.58",
          "Return: 27.27%<br>Volatility: 0.09<br>NKE_Close: Weight=0.06<br>WFC_Close: Weight=0.07<br>AEP_Close: Weight=0.29<br>ISRG_Close: Weight=0.30<br>MMM_Close: Weight=0.28",
          "Return: 32.91%<br>Volatility: 0.12<br>TXN_Close: Weight=0.37<br>SAP_Close: Weight=0.04<br>V_Close: Weight=0.58",
          "Return: 15.66%<br>Volatility: 0.08<br>PEP_Close: Weight=0.45<br>JNJ_Close: Weight=0.48<br>MO_Close: Weight=0.00<br>TSLA_Close: Weight=0.07",
          "Return: 21.90%<br>Volatility: 0.08<br>IBM_Close: Weight=0.00<br>BSX_Close: Weight=0.00<br>NEE_Close: Weight=0.63<br>EMR_Close: Weight=0.26<br>CSCO_Close: Weight=0.11",
          "Return: 30.56%<br>Volatility: 0.11<br>BTI_Close: Weight=0.02<br>HD_Close: Weight=0.59<br>INTC_Close: Weight=0.32<br>VZ_Close: Weight=0.04<br>LLY_Close: Weight=0.02",
          "Return: 49.96%<br>Volatility: 0.14<br>META_Close: Weight=0.13<br>GOOGL_Close: Weight=0.17<br>BA_Close: Weight=0.70",
          "Return: 25.51%<br>Volatility: 0.09<br>ABT_Close: Weight=0.37<br>LMT_Close: Weight=0.54<br>TMO_Close: Weight=0.07<br>ETN_Close: Weight=0.02",
          "Return: 54.25%<br>Volatility: 0.14<br>ABBV_Close: Weight=0.51<br>PYPL_Close: Weight=0.33<br>INTC_Close: Weight=0.16",
          "Return: 35.77%<br>Volatility: 0.13<br>LMT_Close: Weight=0.80<br>NVDA_Close: Weight=0.20<br>BIIB_Close: Weight=0.00",
          "Return: 26.60%<br>Volatility: 0.11<br>UA_Close: Weight=0.00<br>COST_Close: Weight=0.07<br>GOOG_Close: Weight=0.35<br>K_Close: Weight=0.00<br>MMM_Close: Weight=0.58",
          "Return: 24.72%<br>Volatility: 0.09<br>MSFT_Close: Weight=0.48<br>TSLA_Close: Weight=0.02<br>MDT_Close: Weight=0.00<br>KO_Close: Weight=0.50",
          "Return: 42.23%<br>Volatility: 0.12<br>ABBV_Close: Weight=0.49<br>BAC_Close: Weight=0.06<br>HD_Close: Weight=0.45",
          "Return: 14.49%<br>Volatility: 0.12<br>QCOM_Close: Weight=0.30<br>EXC_Close: Weight=0.70<br>UA_Close: Weight=0.00",
          "Return: 34.05%<br>Volatility: 0.14<br>AMGN_Close: Weight=0.00<br>DIS_Close: Weight=0.00<br>UNH_Close: Weight=0.93<br>EW_Close: Weight=0.07<br>PM_Close: Weight=0.00",
          "Return: 32.45%<br>Volatility: 0.14<br>MO_Close: Weight=0.00<br>HD_Close: Weight=1.00<br>MRK_Close: Weight=0.00",
          "Return: 62.90%<br>Volatility: 0.26<br>NVDA_Close: Weight=0.50<br>MDT_Close: Weight=0.00<br>MO_Close: Weight=0.00<br>DIS_Close: Weight=0.13<br>VRTX_Close: Weight=0.36",
          "Return: 37.32%<br>Volatility: 0.14<br>PM_Close: Weight=0.00<br>MA_Close: Weight=0.98<br>TSLA_Close: Weight=0.02<br>CPB_Close: Weight=0.00",
          "Return: 33.29%<br>Volatility: 0.09<br>MCD_Close: Weight=0.36<br>MO_Close: Weight=0.00<br>META_Close: Weight=0.16<br>AEP_Close: Weight=0.21<br>WMT_Close: Weight=0.27",
          "Return: 18.85%<br>Volatility: 0.10<br>SRE_Close: Weight=0.00<br>PFE_Close: Weight=0.41<br>GOOGL_Close: Weight=0.58",
          "Return: 28.01%<br>Volatility: 0.11<br>INTC_Close: Weight=0.24<br>SAP_Close: Weight=0.14<br>ACN_Close: Weight=0.44<br>GOOG_Close: Weight=0.18",
          "Return: 45.66%<br>Volatility: 0.15<br>RDY_Close: Weight=0.00<br>PYPL_Close: Weight=0.63<br>EXC_Close: Weight=0.37",
          "Return: 7.06%<br>Volatility: 0.08<br>DUK_Close: Weight=0.67<br>MO_Close: Weight=0.00<br>GS_Close: Weight=0.09<br>COST_Close: Weight=0.23",
          "Return: 30.84%<br>Volatility: 0.12<br>COST_Close: Weight=0.09<br>MA_Close: Weight=0.80<br>DIS_Close: Weight=0.11",
          "Return: 30.33%<br>Volatility: 0.17<br>CPB_Close: Weight=0.00<br>TSLA_Close: Weight=0.06<br>META_Close: Weight=0.94",
          "Return: 17.81%<br>Volatility: 0.08<br>KO_Close: Weight=0.63<br>PG_Close: Weight=0.00<br>CRM_Close: Weight=0.37",
          "Return: 27.38%<br>Volatility: 0.15<br>MO_Close: Weight=0.00<br>CMCSA_Close: Weight=0.06<br>INTC_Close: Weight=0.80<br>LLY_Close: Weight=0.13",
          "Return: 28.56%<br>Volatility: 0.12<br>KR_Close: Weight=0.00<br>REGN_Close: Weight=0.00<br>META_Close: Weight=0.38<br>ACN_Close: Weight=0.62<br>ZBH_Close: Weight=0.00",
          "Return: 19.25%<br>Volatility: 0.15<br>GE_Close: Weight=0.00<br>SNAP_Close: Weight=0.00<br>EMR_Close: Weight=0.95<br>REGN_Close: Weight=0.05",
          "Return: 34.16%<br>Volatility: 0.11<br>ABT_Close: Weight=0.28<br>ISRG_Close: Weight=0.33<br>MMM_Close: Weight=0.39",
          "Return: 17.50%<br>Volatility: 0.14<br>NKE_Close: Weight=0.19<br>SYY_Close: Weight=0.81<br>KR_Close: Weight=0.00",
          "Return: 4.51%<br>Volatility: 0.15<br>MRK_Close: Weight=0.00<br>AMGN_Close: Weight=0.00<br>LLY_Close: Weight=1.00",
          "Return: 46.00%<br>Volatility: 0.16<br>BABA_Close: Weight=0.32<br>MSFT_Close: Weight=0.52<br>ADBE_Close: Weight=0.16<br>SNAP_Close: Weight=0.00",
          "Return: 15.04%<br>Volatility: 0.09<br>CPB_Close: Weight=0.00<br>AEP_Close: Weight=0.75<br>GM_Close: Weight=0.25<br>MO_Close: Weight=0.00",
          "Return: 32.15%<br>Volatility: 0.13<br>ABT_Close: Weight=0.64<br>AMZN_Close: Weight=0.36<br>GILD_Close: Weight=0.00<br>MRK_Close: Weight=0.00<br>CPB_Close: Weight=0.00",
          "Return: 39.65%<br>Volatility: 0.16<br>ISRG_Close: Weight=0.82<br>NKE_Close: Weight=0.16<br>GIS_Close: Weight=0.03",
          "Return: 13.86%<br>Volatility: 0.08<br>PFE_Close: Weight=0.29<br>EXC_Close: Weight=0.28<br>GM_Close: Weight=0.12<br>SYY_Close: Weight=0.30<br>SRE_Close: Weight=0.00",
          "Return: 37.21%<br>Volatility: 0.11<br>MCD_Close: Weight=0.53<br>META_Close: Weight=0.04<br>BMY_Close: Weight=0.00<br>MA_Close: Weight=0.43<br>GS_Close: Weight=0.00",
          "Return: 38.69%<br>Volatility: 0.10<br>SYY_Close: Weight=0.15<br>BA_Close: Weight=0.50<br>VZ_Close: Weight=0.00<br>JNJ_Close: Weight=0.35",
          "Return: 57.32%<br>Volatility: 0.14<br>AMZN_Close: Weight=0.03<br>PYPL_Close: Weight=0.28<br>MSFT_Close: Weight=0.19<br>CAT_Close: Weight=0.48<br>TMO_Close: Weight=0.03",
          "Return: 53.45%<br>Volatility: 0.15<br>T_Close: Weight=0.00<br>BA_Close: Weight=0.86<br>MS_Close: Weight=0.00<br>DIS_Close: Weight=0.00<br>CSCO_Close: Weight=0.14",
          "Return: 12.73%<br>Volatility: 0.10<br>GE_Close: Weight=0.00<br>GIS_Close: Weight=0.00<br>PEP_Close: Weight=1.00",
          "Return: 57.73%<br>Volatility: 0.18<br>CAT_Close: Weight=0.85<br>RMD_Close: Weight=0.15<br>EMR_Close: Weight=0.00",
          "Return: 24.21%<br>Volatility: 0.09<br>NKE_Close: Weight=0.05<br>NEE_Close: Weight=0.50<br>MMM_Close: Weight=0.42<br>BIIB_Close: Weight=0.03<br>EXC_Close: Weight=0.00",
          "Return: 12.63%<br>Volatility: 0.13<br>MRK_Close: Weight=0.00<br>RDY_Close: Weight=0.00<br>EXC_Close: Weight=1.00<br>AMD_Close: Weight=0.00",
          "Return: 23.55%<br>Volatility: 0.09<br>SYK_Close: Weight=0.11<br>ACN_Close: Weight=0.33<br>DUK_Close: Weight=0.08<br>PFE_Close: Weight=0.01<br>LMT_Close: Weight=0.47",
          "Return: 31.33%<br>Volatility: 0.11<br>SYY_Close: Weight=0.30<br>ZBH_Close: Weight=0.00<br>TMO_Close: Weight=0.04<br>DHR_Close: Weight=0.00<br>MA_Close: Weight=0.66",
          "Return: 39.90%<br>Volatility: 0.13<br>PEP_Close: Weight=0.48<br>MO_Close: Weight=0.00<br>PYPL_Close: Weight=0.52",
          "Return: 25.11%<br>Volatility: 0.08<br>NFLX_Close: Weight=0.00<br>RDY_Close: Weight=0.00<br>KO_Close: Weight=0.42<br>TXN_Close: Weight=0.25<br>V_Close: Weight=0.34",
          "Return: 32.68%<br>Volatility: 0.12<br>UA_Close: Weight=0.00<br>TMO_Close: Weight=0.18<br>NVDA_Close: Weight=0.13<br>MSFT_Close: Weight=0.46<br>DUK_Close: Weight=0.23",
          "Return: 26.17%<br>Volatility: 0.10<br>BMY_Close: Weight=0.09<br>VZ_Close: Weight=0.06<br>HD_Close: Weight=0.67<br>XOM_Close: Weight=0.00<br>CVX_Close: Weight=0.19",
          "Return: 33.16%<br>Volatility: 0.11<br>SAP_Close: Weight=0.29<br>REGN_Close: Weight=0.00<br>MCD_Close: Weight=0.71<br>SO_Close: Weight=0.00<br>GE_Close: Weight=0.00",
          "Return: 13.63%<br>Volatility: 0.15<br>BSX_Close: Weight=0.00<br>QCOM_Close: Weight=0.51<br>WFC_Close: Weight=0.21<br>CMCSA_Close: Weight=0.28",
          "Return: 18.30%<br>Volatility: 0.09<br>PEP_Close: Weight=0.42<br>DUK_Close: Weight=0.15<br>GOOG_Close: Weight=0.44",
          "Return: 28.82%<br>Volatility: 0.11<br>SAP_Close: Weight=0.36<br>HD_Close: Weight=0.64<br>MO_Close: Weight=0.00",
          "Return: 25.56%<br>Volatility: 0.08<br>BAC_Close: Weight=0.17<br>MA_Close: Weight=0.43<br>AEP_Close: Weight=0.41",
          "Return: 27.71%<br>Volatility: 0.16<br>IBM_Close: Weight=0.00<br>ZBH_Close: Weight=0.00<br>GOOG_Close: Weight=1.00<br>RDY_Close: Weight=0.00",
          "Return: 33.68%<br>Volatility: 0.12<br>DE_Close: Weight=0.49<br>GOOGL_Close: Weight=0.22<br>SAP_Close: Weight=0.19<br>RTX_Close: Weight=0.11<br>ZBH_Close: Weight=0.00",
          "Return: 20.08%<br>Volatility: 0.09<br>SO_Close: Weight=0.00<br>NEE_Close: Weight=0.80<br>WFC_Close: Weight=0.20",
          "Return: 28.32%<br>Volatility: 0.11<br>ABT_Close: Weight=0.57<br>MDT_Close: Weight=0.00<br>NFLX_Close: Weight=0.10<br>SYK_Close: Weight=0.09<br>GOOGL_Close: Weight=0.25",
          "Return: 11.15%<br>Volatility: 0.19<br>DIS_Close: Weight=0.00<br>BTI_Close: Weight=1.00<br>GIS_Close: Weight=0.00<br>MO_Close: Weight=0.00",
          "Return: 50.45%<br>Volatility: 0.10<br>HD_Close: Weight=0.27<br>UA_Close: Weight=0.00<br>EW_Close: Weight=0.00<br>ABBV_Close: Weight=0.33<br>BA_Close: Weight=0.40",
          "Return: 16.07%<br>Volatility: 0.08<br>GS_Close: Weight=0.02<br>DHR_Close: Weight=0.09<br>EMR_Close: Weight=0.33<br>SNAP_Close: Weight=0.00<br>AEP_Close: Weight=0.57",
          "Return: 33.00%<br>Volatility: 0.14<br>WFC_Close: Weight=0.00<br>QCOM_Close: Weight=0.00<br>BMY_Close: Weight=0.16<br>AMD_Close: Weight=0.00<br>TXN_Close: Weight=0.84",
          "Return: 20.34%<br>Volatility: 0.20<br>MDT_Close: Weight=0.00<br>CPB_Close: Weight=0.00<br>RMD_Close: Weight=1.00",
          "Return: 40.20%<br>Volatility: 0.12<br>HD_Close: Weight=0.63<br>WFC_Close: Weight=0.00<br>AMZN_Close: Weight=0.20<br>NVDA_Close: Weight=0.15<br>GILD_Close: Weight=0.02",
          "Return: 16.43%<br>Volatility: 0.09<br>SYK_Close: Weight=0.41<br>GE_Close: Weight=0.00<br>PEP_Close: Weight=0.59",
          "Return: 35.29%<br>Volatility: 0.11<br>ABBV_Close: Weight=0.54<br>UA_Close: Weight=0.00<br>QCOM_Close: Weight=0.04<br>SO_Close: Weight=0.00<br>PEP_Close: Weight=0.42",
          "Return: 37.50%<br>Volatility: 0.14<br>MA_Close: Weight=1.00<br>PM_Close: Weight=0.00<br>IBM_Close: Weight=0.00<br>SO_Close: Weight=0.00",
          "Return: 23.08%<br>Volatility: 0.13<br>COST_Close: Weight=0.14<br>EW_Close: Weight=0.20<br>GOOGL_Close: Weight=0.66<br>RDY_Close: Weight=0.00",
          "Return: 30.45%<br>Volatility: 0.11<br>AMZN_Close: Weight=0.20<br>META_Close: Weight=0.20<br>MMM_Close: Weight=0.60<br>ZBH_Close: Weight=0.00",
          "Return: 23.20%<br>Volatility: 0.11<br>EXC_Close: Weight=0.33<br>GILD_Close: Weight=0.04<br>INTC_Close: Weight=0.41<br>GS_Close: Weight=0.00<br>AAPL_Close: Weight=0.21",
          "Return: 34.67%<br>Volatility: 0.14<br>AAPL_Close: Weight=0.09<br>INTC_Close: Weight=0.38<br>ADBE_Close: Weight=0.34<br>GOOGL_Close: Weight=0.13<br>SYK_Close: Weight=0.07",
          "Return: 43.24%<br>Volatility: 0.15<br>PYPL_Close: Weight=0.60<br>PG_Close: Weight=0.21<br>NKE_Close: Weight=0.08<br>EW_Close: Weight=0.10",
          "Return: 29.97%<br>Volatility: 0.10<br>HON_Close: Weight=0.53<br>COST_Close: Weight=0.04<br>MRK_Close: Weight=0.00<br>MA_Close: Weight=0.44",
          "Return: 29.06%<br>Volatility: 0.12<br>DHR_Close: Weight=0.10<br>XOM_Close: Weight=0.11<br>TXN_Close: Weight=0.55<br>META_Close: Weight=0.23<br>AMGN_Close: Weight=0.00",
          "Return: 12.25%<br>Volatility: 0.15<br>T_Close: Weight=0.00<br>GM_Close: Weight=0.76<br>LLY_Close: Weight=0.24<br>KR_Close: Weight=0.00",
          "Return: 32.38%<br>Volatility: 0.10<br>PEP_Close: Weight=0.20<br>TSLA_Close: Weight=0.01<br>MCD_Close: Weight=0.44<br>MA_Close: Weight=0.35",
          "Return: 23.56%<br>Volatility: 0.11<br>TSLA_Close: Weight=0.02<br>CRM_Close: Weight=0.45<br>EMR_Close: Weight=0.36<br>AAPL_Close: Weight=0.18",
          "Return: 12.63%<br>Volatility: 0.09<br>CVX_Close: Weight=0.51<br>DHR_Close: Weight=0.36<br>BMY_Close: Weight=0.13",
          "Return: 19.58%<br>Volatility: 0.08<br>RTX_Close: Weight=0.27<br>GIS_Close: Weight=0.00<br>NEE_Close: Weight=0.53<br>PEP_Close: Weight=0.20<br>SO_Close: Weight=0.00",
          "Return: 22.45%<br>Volatility: 0.12<br>MS_Close: Weight=0.14<br>SAP_Close: Weight=0.55<br>AAPL_Close: Weight=0.31",
          "Return: 34.39%<br>Volatility: 0.13<br>COST_Close: Weight=0.12<br>BTI_Close: Weight=0.00<br>MA_Close: Weight=0.88",
          "Return: 34.25%<br>Volatility: 0.12<br>MMM_Close: Weight=0.46<br>PM_Close: Weight=0.00<br>TXN_Close: Weight=0.37<br>ADBE_Close: Weight=0.17",
          "Return: 25.83%<br>Volatility: 0.09<br>HD_Close: Weight=0.57<br>REGN_Close: Weight=0.00<br>JNJ_Close: Weight=0.43<br>CSCO_Close: Weight=0.00",
          "Return: 27.61%<br>Volatility: 0.10<br>BAC_Close: Weight=0.04<br>HON_Close: Weight=0.69<br>DIS_Close: Weight=0.00<br>AMZN_Close: Weight=0.17<br>META_Close: Weight=0.09",
          "Return: 49.27%<br>Volatility: 0.17<br>PG_Close: Weight=0.23<br>PYPL_Close: Weight=0.72<br>TSLA_Close: Weight=0.05<br>SO_Close: Weight=0.00<br>GILD_Close: Weight=0.00",
          "Return: 30.83%<br>Volatility: 0.12<br>RTX_Close: Weight=0.22<br>MSFT_Close: Weight=0.70<br>MS_Close: Weight=0.07",
          "Return: 42.70%<br>Volatility: 0.14<br>BIIB_Close: Weight=0.00<br>V_Close: Weight=0.46<br>PYPL_Close: Weight=0.41<br>GM_Close: Weight=0.14",
          "Return: 10.70%<br>Volatility: 0.23<br>IBM_Close: Weight=0.00<br>MRK_Close: Weight=0.00<br>NKE_Close: Weight=1.00",
          "Return: 42.62%<br>Volatility: 0.12<br>REGN_Close: Weight=0.01<br>JNJ_Close: Weight=0.44<br>CAT_Close: Weight=0.55<br>SRE_Close: Weight=0.00<br>EMR_Close: Weight=0.00",
          "Return: 48.59%<br>Volatility: 0.12<br>WMT_Close: Weight=0.36<br>EMR_Close: Weight=0.13<br>BA_Close: Weight=0.51<br>DHR_Close: Weight=0.00<br>MS_Close: Weight=0.00",
          "Return: 36.91%<br>Volatility: 0.11<br>RMD_Close: Weight=0.09<br>K_Close: Weight=0.00<br>UNH_Close: Weight=0.51<br>WMT_Close: Weight=0.40",
          "Return: 41.25%<br>Volatility: 0.10<br>UNH_Close: Weight=0.28<br>NEE_Close: Weight=0.36<br>AEP_Close: Weight=0.00<br>CAT_Close: Weight=0.36",
          "Return: 13.14%<br>Volatility: 0.13<br>LLY_Close: Weight=0.09<br>GM_Close: Weight=0.48<br>ORCL_Close: Weight=0.43",
          "Return: 27.34%<br>Volatility: 0.15<br>GS_Close: Weight=0.00<br>PM_Close: Weight=0.00<br>MDT_Close: Weight=0.00<br>NKE_Close: Weight=0.16<br>META_Close: Weight=0.84",
          "Return: 21.48%<br>Volatility: 0.11<br>XOM_Close: Weight=0.25<br>CRM_Close: Weight=0.33<br>K_Close: Weight=0.00<br>META_Close: Weight=0.35<br>QCOM_Close: Weight=0.06",
          "Return: 52.62%<br>Volatility: 0.18<br>SNAP_Close: Weight=0.00<br>PYPL_Close: Weight=0.77<br>CMCSA_Close: Weight=0.12<br>NKE_Close: Weight=0.11",
          "Return: 21.63%<br>Volatility: 0.15<br>NFLX_Close: Weight=0.45<br>ORCL_Close: Weight=0.25<br>CPB_Close: Weight=0.00<br>PG_Close: Weight=0.30",
          "Return: 37.54%<br>Volatility: 0.11<br>DE_Close: Weight=0.36<br>CVX_Close: Weight=0.21<br>EW_Close: Weight=0.00<br>ISRG_Close: Weight=0.38<br>PFE_Close: Weight=0.06",
          "Return: 29.11%<br>Volatility: 0.11<br>BMY_Close: Weight=0.03<br>IBM_Close: Weight=0.00<br>MSFT_Close: Weight=0.62<br>JNJ_Close: Weight=0.35",
          "Return: 30.31%<br>Volatility: 0.14<br>AMZN_Close: Weight=0.52<br>KR_Close: Weight=0.00<br>TMO_Close: Weight=0.48<br>AMD_Close: Weight=0.00<br>SO_Close: Weight=0.00",
          "Return: 15.64%<br>Volatility: 0.16<br>GILD_Close: Weight=0.04<br>CSCO_Close: Weight=0.96<br>REGN_Close: Weight=0.00",
          "Return: 26.12%<br>Volatility: 0.15<br>GOOG_Close: Weight=0.94<br>GOOGL_Close: Weight=0.00<br>SRE_Close: Weight=0.06<br>DIS_Close: Weight=0.00",
          "Return: 28.40%<br>Volatility: 0.11<br>GS_Close: Weight=0.00<br>F_Close: Weight=0.09<br>V_Close: Weight=0.91",
          "Return: 43.06%<br>Volatility: 0.16<br>BABA_Close: Weight=0.45<br>INTC_Close: Weight=0.44<br>GILD_Close: Weight=0.00<br>CMCSA_Close: Weight=0.11",
          "Return: 32.66%<br>Volatility: 0.12<br>GOOGL_Close: Weight=0.12<br>EMR_Close: Weight=0.20<br>MA_Close: Weight=0.68",
          "Return: 46.27%<br>Volatility: 0.18<br>AMGN_Close: Weight=0.00<br>ADBE_Close: Weight=0.30<br>ISRG_Close: Weight=0.70",
          "Return: 15.89%<br>Volatility: 0.08<br>PEP_Close: Weight=0.54<br>MS_Close: Weight=0.08<br>RMD_Close: Weight=0.12<br>EMR_Close: Weight=0.25",
          "Return: 15.21%<br>Volatility: 0.09<br>AEP_Close: Weight=0.68<br>CSCO_Close: Weight=0.30<br>ZBH_Close: Weight=0.02",
          "Return: 18.97%<br>Volatility: 0.08<br>EXC_Close: Weight=0.10<br>ACN_Close: Weight=0.40<br>KO_Close: Weight=0.41<br>GM_Close: Weight=0.09",
          "Return: 34.89%<br>Volatility: 0.11<br>EW_Close: Weight=0.05<br>CPB_Close: Weight=0.00<br>BABA_Close: Weight=0.30<br>NEE_Close: Weight=0.65",
          "Return: 33.59%<br>Volatility: 0.12<br>ACN_Close: Weight=0.46<br>EW_Close: Weight=0.11<br>WMT_Close: Weight=0.43",
          "Return: 36.19%<br>Volatility: 0.11<br>T_Close: Weight=0.02<br>MCD_Close: Weight=0.57<br>BIIB_Close: Weight=0.00<br>MSFT_Close: Weight=0.40",
          "Return: 21.76%<br>Volatility: 0.12<br>RTX_Close: Weight=0.38<br>GOOGL_Close: Weight=0.58<br>WFC_Close: Weight=0.03",
          "Return: 38.06%<br>Volatility: 0.10<br>LLY_Close: Weight=0.00<br>ABBV_Close: Weight=0.37<br>UNH_Close: Weight=0.30<br>NEE_Close: Weight=0.34<br>PM_Close: Weight=0.00",
          "Return: 31.17%<br>Volatility: 0.13<br>COST_Close: Weight=0.00<br>EW_Close: Weight=0.13<br>HD_Close: Weight=0.87",
          "Return: 43.36%<br>Volatility: 0.19<br>NVDA_Close: Weight=0.34<br>GOOG_Close: Weight=0.54<br>CMCSA_Close: Weight=0.13",
          "Return: 27.17%<br>Volatility: 0.11<br>ETN_Close: Weight=0.00<br>RTX_Close: Weight=0.23<br>CRM_Close: Weight=0.38<br>VRTX_Close: Weight=0.14<br>EMR_Close: Weight=0.25",
          "Return: 43.86%<br>Volatility: 0.17<br>MRK_Close: Weight=0.00<br>DE_Close: Weight=0.95<br>BAC_Close: Weight=0.05",
          "Return: 38.27%<br>Volatility: 0.16<br>INTC_Close: Weight=0.61<br>VRTX_Close: Weight=0.24<br>GILD_Close: Weight=0.00<br>AAPL_Close: Weight=0.15",
          "Return: 29.21%<br>Volatility: 0.10<br>MCD_Close: Weight=0.67<br>T_Close: Weight=0.00<br>PEP_Close: Weight=0.33<br>DUK_Close: Weight=0.00",
          "Return: 41.11%<br>Volatility: 0.17<br>WMT_Close: Weight=0.94<br>BIIB_Close: Weight=0.06<br>GIS_Close: Weight=0.00",
          "Return: 43.70%<br>Volatility: 0.16<br>DE_Close: Weight=0.79<br>NFLX_Close: Weight=0.21<br>AMGN_Close: Weight=0.00",
          "Return: 44.28%<br>Volatility: 0.18<br>NVDA_Close: Weight=0.20<br>CMCSA_Close: Weight=0.06<br>TXN_Close: Weight=0.74",
          "Return: 57.66%<br>Volatility: 0.27<br>SNAP_Close: Weight=0.00<br>COST_Close: Weight=0.33<br>NVDA_Close: Weight=0.67",
          "Return: 24.00%<br>Volatility: 0.13<br>IBM_Close: Weight=0.00<br>SAP_Close: Weight=0.62<br>NFLX_Close: Weight=0.19<br>GM_Close: Weight=0.19",
          "Return: 25.77%<br>Volatility: 0.16<br>REGN_Close: Weight=0.00<br>GOOGL_Close: Weight=1.00<br>ZBH_Close: Weight=0.00",
          "Return: 53.94%<br>Volatility: 0.14<br>ZBH_Close: Weight=0.00<br>BA_Close: Weight=0.61<br>SRE_Close: Weight=0.00<br>DE_Close: Weight=0.39",
          "Return: 17.11%<br>Volatility: 0.12<br>CSCO_Close: Weight=0.38<br>NKE_Close: Weight=0.10<br>F_Close: Weight=0.00<br>UA_Close: Weight=0.00<br>SYY_Close: Weight=0.51",
          "Return: 22.41%<br>Volatility: 0.09<br>AEP_Close: Weight=0.46<br>MDT_Close: Weight=0.00<br>ABT_Close: Weight=0.54",
          "Return: 37.69%<br>Volatility: 0.14<br>DE_Close: Weight=0.71<br>SYY_Close: Weight=0.29<br>MDT_Close: Weight=0.00",
          "Return: 43.73%<br>Volatility: 0.13<br>SYY_Close: Weight=0.21<br>META_Close: Weight=0.12<br>DHR_Close: Weight=0.00<br>WMT_Close: Weight=0.33<br>PYPL_Close: Weight=0.33",
          "Return: 33.07%<br>Volatility: 0.13<br>ETN_Close: Weight=0.01<br>MSFT_Close: Weight=0.82<br>AAPL_Close: Weight=0.06<br>BMY_Close: Weight=0.10",
          "Return: 28.80%<br>Volatility: 0.09<br>V_Close: Weight=0.32<br>BABA_Close: Weight=0.19<br>GOOG_Close: Weight=0.03<br>AEP_Close: Weight=0.38<br>CMCSA_Close: Weight=0.08",
          "Return: 36.20%<br>Volatility: 0.15<br>JNJ_Close: Weight=0.70<br>F_Close: Weight=0.00<br>NVDA_Close: Weight=0.30",
          "Return: 36.59%<br>Volatility: 0.15<br>RMD_Close: Weight=0.01<br>ZBH_Close: Weight=0.00<br>BIIB_Close: Weight=0.00<br>MSFT_Close: Weight=0.99",
          "Return: 27.89%<br>Volatility: 0.09<br>ISRG_Close: Weight=0.40<br>DIS_Close: Weight=0.08<br>JNJ_Close: Weight=0.26<br>SYY_Close: Weight=0.27",
          "Return: 33.41%<br>Volatility: 0.10<br>HON_Close: Weight=0.31<br>DE_Close: Weight=0.30<br>V_Close: Weight=0.39",
          "Return: 25.90%<br>Volatility: 0.09<br>JNJ_Close: Weight=0.18<br>DIS_Close: Weight=0.06<br>MA_Close: Weight=0.51<br>CVX_Close: Weight=0.25<br>GS_Close: Weight=0.00",
          "Return: 35.24%<br>Volatility: 0.15<br>DHR_Close: Weight=0.23<br>SNAP_Close: Weight=0.00<br>IBM_Close: Weight=0.00<br>WMT_Close: Weight=0.77",
          "Return: 40.99%<br>Volatility: 0.16<br>VRTX_Close: Weight=0.20<br>ZBH_Close: Weight=0.00<br>NVDA_Close: Weight=0.29<br>ORCL_Close: Weight=0.10<br>PFE_Close: Weight=0.41",
          "Return: 27.36%<br>Volatility: 0.10<br>CRM_Close: Weight=0.08<br>V_Close: Weight=0.63<br>RMD_Close: Weight=0.05<br>JPM_Close: Weight=0.24",
          "Return: 53.34%<br>Volatility: 0.15<br>CAT_Close: Weight=0.68<br>DIS_Close: Weight=0.00<br>META_Close: Weight=0.32<br>F_Close: Weight=0.00<br>GIS_Close: Weight=0.00",
          "Return: 31.65%<br>Volatility: 0.09<br>HON_Close: Weight=0.40<br>JNJ_Close: Weight=0.19<br>GE_Close: Weight=0.00<br>CVX_Close: Weight=0.17<br>PYPL_Close: Weight=0.24",
          "Return: 18.12%<br>Volatility: 0.11<br>CPB_Close: Weight=0.00<br>QCOM_Close: Weight=0.14<br>EW_Close: Weight=0.16<br>JNJ_Close: Weight=0.70<br>MRK_Close: Weight=0.00",
          "Return: 28.05%<br>Volatility: 0.11<br>GOOG_Close: Weight=0.38<br>TSLA_Close: Weight=0.03<br>QCOM_Close: Weight=0.02<br>ABT_Close: Weight=0.58",
          "Return: 31.53%<br>Volatility: 0.12<br>WFC_Close: Weight=0.02<br>GS_Close: Weight=0.00<br>MA_Close: Weight=0.76<br>EXC_Close: Weight=0.22",
          "Return: 18.66%<br>Volatility: 0.08<br>CRM_Close: Weight=0.40<br>VZ_Close: Weight=0.15<br>GILD_Close: Weight=0.00<br>AEP_Close: Weight=0.45<br>DUK_Close: Weight=0.00",
          "Return: 15.49%<br>Volatility: 0.14<br>UA_Close: Weight=0.00<br>EW_Close: Weight=0.47<br>DHR_Close: Weight=0.53",
          "Return: 25.20%<br>Volatility: 0.10<br>RDY_Close: Weight=0.00<br>MMM_Close: Weight=0.56<br>GOOGL_Close: Weight=0.29<br>MS_Close: Weight=0.10<br>BMY_Close: Weight=0.05",
          "Return: 37.63%<br>Volatility: 0.13<br>AMGN_Close: Weight=0.00<br>WMT_Close: Weight=0.56<br>META_Close: Weight=0.44",
          "Return: 30.84%<br>Volatility: 0.11<br>EXC_Close: Weight=0.20<br>NFLX_Close: Weight=0.15<br>UNH_Close: Weight=0.65",
          "Return: 43.45%<br>Volatility: 0.12<br>TXN_Close: Weight=0.27<br>DE_Close: Weight=0.39<br>SAP_Close: Weight=0.00<br>ISRG_Close: Weight=0.33",
          "Return: 23.78%<br>Volatility: 0.08<br>HON_Close: Weight=0.51<br>MO_Close: Weight=0.00<br>MMM_Close: Weight=0.23<br>RMD_Close: Weight=0.05<br>JNJ_Close: Weight=0.21",
          "Return: 22.21%<br>Volatility: 0.08<br>SRE_Close: Weight=0.00<br>IBM_Close: Weight=0.00<br>NEE_Close: Weight=0.63<br>JPM_Close: Weight=0.34<br>RMD_Close: Weight=0.04",
          "Return: 32.51%<br>Volatility: 0.18<br>LLY_Close: Weight=0.17<br>KR_Close: Weight=0.00<br>MO_Close: Weight=0.00<br>AMZN_Close: Weight=0.83",
          "Return: 30.18%<br>Volatility: 0.09<br>AEP_Close: Weight=0.40<br>LLY_Close: Weight=0.02<br>RDY_Close: Weight=0.00<br>ACN_Close: Weight=0.34<br>BABA_Close: Weight=0.24",
          "Return: 18.64%<br>Volatility: 0.14<br>BIIB_Close: Weight=0.13<br>RDY_Close: Weight=0.00<br>JPM_Close: Weight=0.87",
          "Return: 23.68%<br>Volatility: 0.11<br>GE_Close: Weight=0.00<br>GM_Close: Weight=0.12<br>VZ_Close: Weight=0.14<br>DIS_Close: Weight=0.00<br>ACN_Close: Weight=0.75",
          "Return: 37.10%<br>Volatility: 0.13<br>DE_Close: Weight=0.59<br>CRM_Close: Weight=0.41<br>KR_Close: Weight=0.00<br>BIIB_Close: Weight=0.00<br>ZBH_Close: Weight=0.00",
          "Return: 34.23%<br>Volatility: 0.14<br>REGN_Close: Weight=0.00<br>AAPL_Close: Weight=0.04<br>TSLA_Close: Weight=0.02<br>MSFT_Close: Weight=0.81<br>EW_Close: Weight=0.13",
          "Return: 38.44%<br>Volatility: 0.21<br>UA_Close: Weight=0.00<br>AMZN_Close: Weight=1.00<br>SRE_Close: Weight=0.00",
          "Return: 36.84%<br>Volatility: 0.11<br>EXC_Close: Weight=0.14<br>MCD_Close: Weight=0.54<br>ISRG_Close: Weight=0.32",
          "Return: 24.16%<br>Volatility: 0.07<br>LMT_Close: Weight=0.32<br>DUK_Close: Weight=0.09<br>HD_Close: Weight=0.37<br>IBM_Close: Weight=0.00<br>JNJ_Close: Weight=0.22",
          "Return: 2.87%<br>Volatility: 0.15<br>SRE_Close: Weight=0.23<br>ZBH_Close: Weight=0.77<br>RDY_Close: Weight=0.00<br>UA_Close: Weight=0.00",
          "Return: 38.32%<br>Volatility: 0.11<br>BAC_Close: Weight=0.11<br>AEP_Close: Weight=0.28<br>WFC_Close: Weight=0.00<br>BA_Close: Weight=0.52<br>EXC_Close: Weight=0.10",
          "Return: 46.39%<br>Volatility: 0.13<br>SYK_Close: Weight=0.20<br>MS_Close: Weight=0.00<br>BA_Close: Weight=0.64<br>GOOGL_Close: Weight=0.16<br>MO_Close: Weight=0.00",
          "Return: 25.94%<br>Volatility: 0.14<br>GIS_Close: Weight=0.07<br>META_Close: Weight=0.81<br>CMCSA_Close: Weight=0.12<br>K_Close: Weight=0.00",
          "Return: 38.71%<br>Volatility: 0.15<br>DE_Close: Weight=0.73<br>NKE_Close: Weight=0.01<br>RMD_Close: Weight=0.11<br>EW_Close: Weight=0.15",
          "Return: 36.30%<br>Volatility: 0.13<br>CMCSA_Close: Weight=0.05<br>SYK_Close: Weight=0.30<br>DE_Close: Weight=0.65",
          "Return: 38.87%<br>Volatility: 0.11<br>LMT_Close: Weight=0.35<br>ABBV_Close: Weight=0.38<br>MA_Close: Weight=0.26<br>DUK_Close: Weight=0.01",
          "Return: 38.57%<br>Volatility: 0.12<br>GM_Close: Weight=0.04<br>CPB_Close: Weight=0.00<br>UNH_Close: Weight=0.54<br>DE_Close: Weight=0.43<br>ZBH_Close: Weight=0.00",
          "Return: 19.61%<br>Volatility: 0.13<br>SYY_Close: Weight=0.60<br>GE_Close: Weight=0.00<br>RMD_Close: Weight=0.40<br>REGN_Close: Weight=0.00",
          "Return: 35.33%<br>Volatility: 0.10<br>NEE_Close: Weight=0.51<br>MRK_Close: Weight=0.00<br>BABA_Close: Weight=0.22<br>MSFT_Close: Weight=0.27<br>ORCL_Close: Weight=0.00",
          "Return: 33.27%<br>Volatility: 0.11<br>EXC_Close: Weight=0.26<br>DE_Close: Weight=0.46<br>INTC_Close: Weight=0.28<br>PM_Close: Weight=0.00",
          "Return: 43.99%<br>Volatility: 0.13<br>PFE_Close: Weight=0.16<br>BA_Close: Weight=0.69<br>XOM_Close: Weight=0.04<br>DHR_Close: Weight=0.00<br>ORCL_Close: Weight=0.11",
          "Return: 47.86%<br>Volatility: 0.13<br>WMT_Close: Weight=0.41<br>RDY_Close: Weight=0.00<br>LLY_Close: Weight=0.00<br>ABBV_Close: Weight=0.55<br>GM_Close: Weight=0.04",
          "Return: 42.57%<br>Volatility: 0.10<br>AMZN_Close: Weight=0.09<br>PEP_Close: Weight=0.15<br>BA_Close: Weight=0.39<br>MCD_Close: Weight=0.37",
          "Return: 29.79%<br>Volatility: 0.10<br>MA_Close: Weight=0.63<br>BSX_Close: Weight=0.00<br>CVX_Close: Weight=0.33<br>AAPL_Close: Weight=0.04",
          "Return: 33.50%<br>Volatility: 0.16<br>SNAP_Close: Weight=0.00<br>VRTX_Close: Weight=0.20<br>EW_Close: Weight=0.20<br>REGN_Close: Weight=0.00<br>GOOG_Close: Weight=0.60",
          "Return: 15.76%<br>Volatility: 0.08<br>EW_Close: Weight=0.10<br>BMY_Close: Weight=0.10<br>PEP_Close: Weight=0.51<br>EMR_Close: Weight=0.29<br>PM_Close: Weight=0.00",
          "Return: 34.34%<br>Volatility: 0.14<br>AMD_Close: Weight=0.00<br>MSFT_Close: Weight=0.88<br>BIIB_Close: Weight=0.00<br>MS_Close: Weight=0.12",
          "Return: 37.22%<br>Volatility: 0.16<br>TXN_Close: Weight=0.93<br>NFLX_Close: Weight=0.07<br>SNAP_Close: Weight=0.00",
          "Return: 23.00%<br>Volatility: 0.09<br>HON_Close: Weight=0.79<br>MS_Close: Weight=0.00<br>CVX_Close: Weight=0.21",
          "Return: 29.54%<br>Volatility: 0.12<br>JPM_Close: Weight=0.23<br>IBM_Close: Weight=0.00<br>HD_Close: Weight=0.77<br>GS_Close: Weight=0.00",
          "Return: 36.45%<br>Volatility: 0.15<br>ORCL_Close: Weight=0.22<br>MDT_Close: Weight=0.00<br>WMT_Close: Weight=0.78",
          "Return: 25.75%<br>Volatility: 0.08<br>CVX_Close: Weight=0.19<br>JNJ_Close: Weight=0.08<br>UNH_Close: Weight=0.35<br>LMT_Close: Weight=0.38",
          "Return: 12.73%<br>Volatility: 0.10<br>CPB_Close: Weight=0.00<br>T_Close: Weight=0.00<br>PM_Close: Weight=0.00<br>IBM_Close: Weight=0.00<br>PEP_Close: Weight=1.00",
          "Return: 33.71%<br>Volatility: 0.12<br>COST_Close: Weight=0.08<br>MCD_Close: Weight=0.81<br>K_Close: Weight=0.00<br>EW_Close: Weight=0.11",
          "Return: 25.04%<br>Volatility: 0.18<br>UA_Close: Weight=0.00<br>KR_Close: Weight=0.00<br>AAPL_Close: Weight=1.00",
          "Return: 21.67%<br>Volatility: 0.10<br>BMY_Close: Weight=0.05<br>DUK_Close: Weight=0.23<br>K_Close: Weight=0.00<br>ACN_Close: Weight=0.72<br>MO_Close: Weight=0.00",
          "Return: 29.10%<br>Volatility: 0.08<br>WMT_Close: Weight=0.24<br>MMM_Close: Weight=0.24<br>V_Close: Weight=0.29<br>SRE_Close: Weight=0.00<br>KO_Close: Weight=0.23",
          "Return: 35.31%<br>Volatility: 0.14<br>AAPL_Close: Weight=0.07<br>MA_Close: Weight=0.89<br>AMD_Close: Weight=0.00<br>LLY_Close: Weight=0.04",
          "Return: 24.03%<br>Volatility: 0.10<br>ABT_Close: Weight=0.65<br>SRE_Close: Weight=0.00<br>AMD_Close: Weight=0.00<br>CVX_Close: Weight=0.35",
          "Return: 19.52%<br>Volatility: 0.14<br>F_Close: Weight=0.12<br>SNAP_Close: Weight=0.00<br>SYK_Close: Weight=0.88<br>BSX_Close: Weight=0.00",
          "Return: 23.43%<br>Volatility: 0.10<br>EMR_Close: Weight=0.23<br>REGN_Close: Weight=0.00<br>IBM_Close: Weight=0.00<br>LMT_Close: Weight=0.77",
          "Return: 35.54%<br>Volatility: 0.11<br>NKE_Close: Weight=0.07<br>SAP_Close: Weight=0.00<br>MA_Close: Weight=0.42<br>MCD_Close: Weight=0.50",
          "Return: 47.76%<br>Volatility: 0.15<br>ABBV_Close: Weight=0.81<br>ORCL_Close: Weight=0.00<br>BAC_Close: Weight=0.19",
          "Return: 34.06%<br>Volatility: 0.10<br>UNH_Close: Weight=0.43<br>TXN_Close: Weight=0.35<br>EXC_Close: Weight=0.16<br>VRTX_Close: Weight=0.07<br>MRK_Close: Weight=0.00",
          "Return: 25.10%<br>Volatility: 0.09<br>HD_Close: Weight=0.50<br>AAPL_Close: Weight=0.21<br>PEP_Close: Weight=0.30<br>SO_Close: Weight=0.00",
          "Return: 31.46%<br>Volatility: 0.11<br>META_Close: Weight=0.19<br>NVDA_Close: Weight=0.13<br>EXC_Close: Weight=0.23<br>CRM_Close: Weight=0.01<br>ACN_Close: Weight=0.44",
          "Return: 33.47%<br>Volatility: 0.13<br>RTX_Close: Weight=0.20<br>CSCO_Close: Weight=0.00<br>MA_Close: Weight=0.78<br>WFC_Close: Weight=0.00<br>NFLX_Close: Weight=0.02",
          "Return: 32.78%<br>Volatility: 0.13<br>META_Close: Weight=0.08<br>DHR_Close: Weight=0.00<br>SAP_Close: Weight=0.24<br>MSFT_Close: Weight=0.68",
          "Return: 27.24%<br>Volatility: 0.09<br>ABT_Close: Weight=0.30<br>INTC_Close: Weight=0.24<br>NEE_Close: Weight=0.46<br>MO_Close: Weight=0.00",
          "Return: 43.18%<br>Volatility: 0.11<br>GM_Close: Weight=0.00<br>AEP_Close: Weight=0.27<br>DE_Close: Weight=0.30<br>BA_Close: Weight=0.43",
          "Return: 52.95%<br>Volatility: 0.15<br>BTI_Close: Weight=0.14<br>SRE_Close: Weight=0.00<br>BA_Close: Weight=0.86",
          "Return: 17.05%<br>Volatility: 0.14<br>GM_Close: Weight=0.37<br>AMD_Close: Weight=0.00<br>CMCSA_Close: Weight=0.20<br>EW_Close: Weight=0.43<br>GILD_Close: Weight=0.00",
          "Return: 49.05%<br>Volatility: 0.12<br>WMT_Close: Weight=0.29<br>SNAP_Close: Weight=0.00<br>MA_Close: Weight=0.34<br>CAT_Close: Weight=0.37",
          "Return: 29.49%<br>Volatility: 0.10<br>PFE_Close: Weight=0.23<br>MCD_Close: Weight=0.68<br>BAC_Close: Weight=0.09<br>BSX_Close: Weight=0.00",
          "Return: 50.62%<br>Volatility: 0.16<br>ISRG_Close: Weight=0.38<br>PYPL_Close: Weight=0.47<br>GM_Close: Weight=0.15",
          "Return: 19.44%<br>Volatility: 0.09<br>AMD_Close: Weight=0.00<br>PEP_Close: Weight=0.48<br>COST_Close: Weight=0.06<br>GOOG_Close: Weight=0.45",
          "Return: 31.83%<br>Volatility: 0.16<br>SO_Close: Weight=0.00<br>BTI_Close: Weight=0.12<br>SYK_Close: Weight=0.60<br>VRTX_Close: Weight=0.29",
          "Return: 17.20%<br>Volatility: 0.10<br>BMY_Close: Weight=0.03<br>JNJ_Close: Weight=0.61<br>RMD_Close: Weight=0.17<br>CSCO_Close: Weight=0.20",
          "Return: 22.99%<br>Volatility: 0.10<br>NEE_Close: Weight=0.79<br>EW_Close: Weight=0.12<br>QCOM_Close: Weight=0.09",
          "Return: 54.03%<br>Volatility: 0.14<br>MSFT_Close: Weight=0.20<br>MO_Close: Weight=0.00<br>ABBV_Close: Weight=0.49<br>PYPL_Close: Weight=0.31",
          "Return: 34.83%<br>Volatility: 0.14<br>GIS_Close: Weight=0.03<br>MSFT_Close: Weight=0.87<br>K_Close: Weight=0.00<br>GOOG_Close: Weight=0.11",
          "Return: 32.20%<br>Volatility: 0.12<br>MA_Close: Weight=0.86<br>K_Close: Weight=0.00<br>DIS_Close: Weight=0.14<br>BIIB_Close: Weight=0.00<br>IBM_Close: Weight=0.00",
          "Return: 28.64%<br>Volatility: 0.11<br>TMO_Close: Weight=0.25<br>HD_Close: Weight=0.68<br>MS_Close: Weight=0.07",
          "Return: 28.82%<br>Volatility: 0.09<br>LMT_Close: Weight=0.53<br>K_Close: Weight=0.00<br>XOM_Close: Weight=0.11<br>BMY_Close: Weight=0.00<br>WMT_Close: Weight=0.36",
          "Return: 18.41%<br>Volatility: 0.18<br>K_Close: Weight=0.00<br>EW_Close: Weight=0.74<br>WFC_Close: Weight=0.26",
          "Return: 28.88%<br>Volatility: 0.15<br>DHR_Close: Weight=0.22<br>VRTX_Close: Weight=0.28<br>SYY_Close: Weight=0.49",
          "Return: 29.01%<br>Volatility: 0.11<br>ABT_Close: Weight=0.59<br>META_Close: Weight=0.39<br>DIS_Close: Weight=0.01",
          "Return: 16.08%<br>Volatility: 0.10<br>K_Close: Weight=0.00<br>ETN_Close: Weight=0.28<br>JNJ_Close: Weight=0.72",
          "Return: 39.80%<br>Volatility: 0.12<br>MDT_Close: Weight=0.00<br>WMT_Close: Weight=0.41<br>MA_Close: Weight=0.59",
          "Return: 26.70%<br>Volatility: 0.11<br>NFLX_Close: Weight=0.04<br>SAP_Close: Weight=0.23<br>GOOG_Close: Weight=0.23<br>ACN_Close: Weight=0.50",
          "Return: 47.76%<br>Volatility: 0.13<br>CAT_Close: Weight=0.56<br>XOM_Close: Weight=0.00<br>UA_Close: Weight=0.00<br>MRK_Close: Weight=0.00<br>ACN_Close: Weight=0.44",
          "Return: 10.84%<br>Volatility: 0.12<br>QCOM_Close: Weight=0.44<br>XOM_Close: Weight=0.40<br>WFC_Close: Weight=0.16",
          "Return: 24.36%<br>Volatility: 0.11<br>LMT_Close: Weight=1.00<br>ZBH_Close: Weight=0.00<br>F_Close: Weight=0.00",
          "Return: 39.16%<br>Volatility: 0.15<br>IBM_Close: Weight=0.00<br>CPB_Close: Weight=0.00<br>CMCSA_Close: Weight=0.20<br>ISRG_Close: Weight=0.80",
          "Return: 15.80%<br>Volatility: 0.19<br>WFC_Close: Weight=0.53<br>TSLA_Close: Weight=0.47<br>T_Close: Weight=0.00",
          "Return: 30.99%<br>Volatility: 0.10<br>GE_Close: Weight=0.00<br>JNJ_Close: Weight=0.33<br>UA_Close: Weight=0.00<br>WMT_Close: Weight=0.39<br>META_Close: Weight=0.28",
          "Return: 21.00%<br>Volatility: 0.18<br>UA_Close: Weight=0.00<br>PM_Close: Weight=0.00<br>QCOM_Close: Weight=0.42<br>EW_Close: Weight=0.58",
          "Return: 29.35%<br>Volatility: 0.10<br>HON_Close: Weight=0.65<br>TXN_Close: Weight=0.35<br>MS_Close: Weight=0.00",
          "Return: 28.79%<br>Volatility: 0.11<br>TSLA_Close: Weight=0.03<br>COST_Close: Weight=0.10<br>V_Close: Weight=0.86",
          "Return: 21.92%<br>Volatility: 0.11<br>GILD_Close: Weight=0.00<br>RTX_Close: Weight=0.38<br>EW_Close: Weight=0.11<br>CRM_Close: Weight=0.51",
          "Return: 26.67%<br>Volatility: 0.09<br>V_Close: Weight=0.61<br>SYK_Close: Weight=0.13<br>SYY_Close: Weight=0.27",
          "Return: 22.09%<br>Volatility: 0.12<br>SAP_Close: Weight=0.58<br>IBM_Close: Weight=0.00<br>AAPL_Close: Weight=0.33<br>CMCSA_Close: Weight=0.09<br>BSX_Close: Weight=0.00",
          "Return: 35.15%<br>Volatility: 0.12<br>TXN_Close: Weight=0.31<br>EMR_Close: Weight=0.13<br>MA_Close: Weight=0.56",
          "Return: 52.72%<br>Volatility: 0.14<br>WMT_Close: Weight=0.39<br>EW_Close: Weight=0.08<br>CAT_Close: Weight=0.53<br>T_Close: Weight=0.00<br>QCOM_Close: Weight=0.00",
          "Return: 16.74%<br>Volatility: 0.09<br>TSLA_Close: Weight=0.07<br>TMO_Close: Weight=0.35<br>PEP_Close: Weight=0.58",
          "Return: 19.00%<br>Volatility: 0.10<br>TSLA_Close: Weight=0.03<br>AAPL_Close: Weight=0.35<br>GE_Close: Weight=0.00<br>AEP_Close: Weight=0.61",
          "Return: 32.50%<br>Volatility: 0.17<br>VRTX_Close: Weight=0.31<br>NFLX_Close: Weight=0.31<br>XOM_Close: Weight=0.38",
          "Return: 41.19%<br>Volatility: 0.13<br>JNJ_Close: Weight=0.18<br>ABBV_Close: Weight=0.67<br>EXC_Close: Weight=0.15<br>REGN_Close: Weight=0.00",
          "Return: 38.09%<br>Volatility: 0.14<br>DE_Close: Weight=0.64<br>GOOGL_Close: Weight=0.36<br>CPB_Close: Weight=0.00<br>GIS_Close: Weight=0.00<br>CSCO_Close: Weight=0.00",
          "Return: 32.39%<br>Volatility: 0.17<br>AMZN_Close: Weight=0.79<br>CMCSA_Close: Weight=0.17<br>BIIB_Close: Weight=0.04",
          "Return: 25.07%<br>Volatility: 0.10<br>SO_Close: Weight=0.00<br>HON_Close: Weight=1.00<br>AMGN_Close: Weight=0.00<br>BIIB_Close: Weight=0.00",
          "Return: 27.83%<br>Volatility: 0.08<br>AMZN_Close: Weight=0.12<br>CVX_Close: Weight=0.24<br>HON_Close: Weight=0.36<br>MA_Close: Weight=0.28",
          "Return: 34.18%<br>Volatility: 0.15<br>TXN_Close: Weight=0.88<br>GE_Close: Weight=0.00<br>CSCO_Close: Weight=0.05<br>NKE_Close: Weight=0.08",
          "Return: 14.12%<br>Volatility: 0.10<br>SRE_Close: Weight=0.00<br>GS_Close: Weight=0.00<br>MDT_Close: Weight=0.04<br>ORCL_Close: Weight=0.33<br>CVX_Close: Weight=0.64",
          "Return: 23.88%<br>Volatility: 0.13<br>ORCL_Close: Weight=0.12<br>BTI_Close: Weight=0.12<br>GOOG_Close: Weight=0.76<br>K_Close: Weight=0.00<br>GIS_Close: Weight=0.00",
          "Return: 33.70%<br>Volatility: 0.10<br>PYPL_Close: Weight=0.31<br>TSLA_Close: Weight=0.02<br>ABT_Close: Weight=0.26<br>KO_Close: Weight=0.41",
          "Return: 20.40%<br>Volatility: 0.13<br>GM_Close: Weight=0.12<br>TMO_Close: Weight=0.59<br>BAC_Close: Weight=0.30<br>K_Close: Weight=0.00",
          "Return: 37.14%<br>Volatility: 0.16<br>F_Close: Weight=0.00<br>CPB_Close: Weight=0.00<br>TXN_Close: Weight=1.00",
          "Return: 19.61%<br>Volatility: 0.09<br>PFE_Close: Weight=0.22<br>GOOG_Close: Weight=0.48<br>COST_Close: Weight=0.05<br>VZ_Close: Weight=0.15<br>BAC_Close: Weight=0.10",
          "Return: 33.11%<br>Volatility: 0.11<br>ISRG_Close: Weight=0.46<br>SYY_Close: Weight=0.34<br>GOOGL_Close: Weight=0.20<br>RDY_Close: Weight=0.00<br>SRE_Close: Weight=0.00",
          "Return: 10.80%<br>Volatility: 0.13<br>BIIB_Close: Weight=0.33<br>VZ_Close: Weight=0.67<br>GE_Close: Weight=0.00<br>IBM_Close: Weight=0.00",
          "Return: 44.57%<br>Volatility: 0.14<br>MMM_Close: Weight=0.52<br>T_Close: Weight=0.02<br>CRM_Close: Weight=0.00<br>PYPL_Close: Weight=0.47",
          "Return: 30.58%<br>Volatility: 0.17<br>MRK_Close: Weight=0.00<br>META_Close: Weight=1.00<br>BIIB_Close: Weight=0.00",
          "Return: 28.67%<br>Volatility: 0.14<br>MDT_Close: Weight=0.00<br>F_Close: Weight=0.00<br>ABT_Close: Weight=1.00",
          "Return: 43.51%<br>Volatility: 0.18<br>GILD_Close: Weight=0.00<br>TMO_Close: Weight=0.12<br>ISRG_Close: Weight=0.88",
          "Return: 39.22%<br>Volatility: 0.16<br>SRE_Close: Weight=0.00<br>WMT_Close: Weight=0.88<br>ZBH_Close: Weight=0.00<br>BTI_Close: Weight=0.12<br>REGN_Close: Weight=0.00",
          "Return: 35.44%<br>Volatility: 0.10<br>JNJ_Close: Weight=0.18<br>GOOG_Close: Weight=0.07<br>PYPL_Close: Weight=0.31<br>NEE_Close: Weight=0.44",
          "Return: 30.87%<br>Volatility: 0.10<br>MA_Close: Weight=0.53<br>NEE_Close: Weight=0.47<br>PG_Close: Weight=0.00",
          "Return: 27.18%<br>Volatility: 0.16<br>REGN_Close: Weight=0.00<br>NFLX_Close: Weight=0.38<br>EMR_Close: Weight=0.62<br>CPB_Close: Weight=0.00",
          "Return: 19.92%<br>Volatility: 0.16<br>JPM_Close: Weight=1.00<br>BSX_Close: Weight=0.00<br>F_Close: Weight=0.00",
          "Return: 51.82%<br>Volatility: 0.16<br>VRTX_Close: Weight=0.10<br>AMZN_Close: Weight=0.19<br>ABBV_Close: Weight=0.71",
          "Return: 32.60%<br>Volatility: 0.12<br>JPM_Close: Weight=0.28<br>MA_Close: Weight=0.72<br>F_Close: Weight=0.00<br>UA_Close: Weight=0.00",
          "Return: 35.35%<br>Volatility: 0.11<br>SAP_Close: Weight=0.09<br>HD_Close: Weight=0.62<br>PM_Close: Weight=0.00<br>ADBE_Close: Weight=0.29",
          "Return: 20.71%<br>Volatility: 0.09<br>EW_Close: Weight=0.10<br>F_Close: Weight=0.13<br>NEE_Close: Weight=0.77",
          "Return: 14.01%<br>Volatility: 0.08<br>K_Close: Weight=0.00<br>ZBH_Close: Weight=0.00<br>MS_Close: Weight=0.22<br>KO_Close: Weight=0.78",
          "Return: 56.50%<br>Volatility: 0.18<br>VRTX_Close: Weight=0.19<br>GOOG_Close: Weight=0.01<br>SO_Close: Weight=0.00<br>GM_Close: Weight=0.15<br>PYPL_Close: Weight=0.65",
          "Return: 25.37%<br>Volatility: 0.10<br>AAPL_Close: Weight=0.11<br>ETN_Close: Weight=0.04<br>NVDA_Close: Weight=0.14<br>KO_Close: Weight=0.58<br>CRM_Close: Weight=0.13",
          "Return: 37.50%<br>Volatility: 0.14<br>MCD_Close: Weight=1.00<br>MDT_Close: Weight=0.00<br>IBM_Close: Weight=0.00",
          "Return: 45.81%<br>Volatility: 0.14<br>DE_Close: Weight=0.53<br>GS_Close: Weight=0.00<br>KR_Close: Weight=0.00<br>AMGN_Close: Weight=0.00<br>ISRG_Close: Weight=0.47",
          "Return: 40.75%<br>Volatility: 0.16<br>GS_Close: Weight=0.00<br>ACN_Close: Weight=0.75<br>K_Close: Weight=0.00<br>NVDA_Close: Weight=0.25<br>SNAP_Close: Weight=0.00",
          "Return: 29.91%<br>Volatility: 0.09<br>ABT_Close: Weight=0.32<br>PEP_Close: Weight=0.31<br>DE_Close: Weight=0.37<br>GS_Close: Weight=0.00<br>GM_Close: Weight=0.00",
          "Return: 46.64%<br>Volatility: 0.13<br>BTI_Close: Weight=0.00<br>DHR_Close: Weight=0.00<br>TXN_Close: Weight=0.44<br>ABBV_Close: Weight=0.56",
          "Return: 61.33%<br>Volatility: 0.38<br>BSX_Close: Weight=0.00<br>ZBH_Close: Weight=0.00<br>AMGN_Close: Weight=0.00<br>AMD_Close: Weight=0.00<br>VRTX_Close: Weight=1.00",
          "Return: 25.90%<br>Volatility: 0.13<br>SAP_Close: Weight=0.44<br>RMD_Close: Weight=0.10<br>META_Close: Weight=0.45<br>SRE_Close: Weight=0.00",
          "Return: 20.18%<br>Volatility: 0.12<br>GIS_Close: Weight=0.00<br>SAP_Close: Weight=0.80<br>COST_Close: Weight=0.20",
          "Return: 23.08%<br>Volatility: 0.08<br>KO_Close: Weight=0.44<br>UNH_Close: Weight=0.40<br>EMR_Close: Weight=0.16<br>MDT_Close: Weight=0.00",
          "Return: 29.68%<br>Volatility: 0.12<br>VRTX_Close: Weight=0.14<br>TSLA_Close: Weight=0.06<br>LMT_Close: Weight=0.80",
          "Return: 16.75%<br>Volatility: 0.12<br>GM_Close: Weight=0.29<br>SYY_Close: Weight=0.57<br>VZ_Close: Weight=0.14<br>DIS_Close: Weight=0.00",
          "Return: 15.24%<br>Volatility: 0.15<br>CSCO_Close: Weight=0.93<br>LLY_Close: Weight=0.07<br>MRK_Close: Weight=0.00",
          "Return: 29.73%<br>Volatility: 0.16<br>ETN_Close: Weight=0.29<br>QCOM_Close: Weight=0.08<br>AMZN_Close: Weight=0.63<br>AMD_Close: Weight=0.00<br>MRK_Close: Weight=0.00",
          "Return: 24.43%<br>Volatility: 0.09<br>EMR_Close: Weight=0.16<br>TXN_Close: Weight=0.43<br>PEP_Close: Weight=0.41<br>K_Close: Weight=0.00",
          "Return: 51.77%<br>Volatility: 0.15<br>BAC_Close: Weight=0.03<br>RMD_Close: Weight=0.17<br>BA_Close: Weight=0.80",
          "Return: 35.53%<br>Volatility: 0.13<br>UNH_Close: Weight=0.82<br>NFLX_Close: Weight=0.18<br>WFC_Close: Weight=0.00",
          "Return: 15.17%<br>Volatility: 0.08<br>AEP_Close: Weight=0.56<br>CVX_Close: Weight=0.29<br>GM_Close: Weight=0.15",
          "Return: 48.18%<br>Volatility: 0.16<br>PYPL_Close: Weight=0.48<br>BSX_Close: Weight=0.00<br>GIS_Close: Weight=0.06<br>LLY_Close: Weight=0.00<br>MSFT_Close: Weight=0.47",
          "Return: 22.75%<br>Volatility: 0.12<br>RMD_Close: Weight=0.16<br>XOM_Close: Weight=0.23<br>META_Close: Weight=0.61",
          "Return: 34.90%<br>Volatility: 0.14<br>REGN_Close: Weight=0.00<br>UNH_Close: Weight=1.00<br>AMGN_Close: Weight=0.00",
          "Return: 23.47%<br>Volatility: 0.10<br>LMT_Close: Weight=0.83<br>SO_Close: Weight=0.00<br>EW_Close: Weight=0.07<br>MS_Close: Weight=0.10",
          "Return: 14.95%<br>Volatility: 0.09<br>AEP_Close: Weight=0.67<br>F_Close: Weight=0.11<br>RMD_Close: Weight=0.22",
          "Return: 28.60%<br>Volatility: 0.11<br>RTX_Close: Weight=0.32<br>PG_Close: Weight=0.24<br>BABA_Close: Weight=0.34<br>GM_Close: Weight=0.10",
          "Return: 28.39%<br>Volatility: 0.09<br>BIIB_Close: Weight=0.00<br>PEP_Close: Weight=0.28<br>BABA_Close: Weight=0.20<br>HON_Close: Weight=0.48<br>GM_Close: Weight=0.04",
          "Return: 31.57%<br>Volatility: 0.11<br>MA_Close: Weight=0.57<br>CMCSA_Close: Weight=0.09<br>ACN_Close: Weight=0.34<br>T_Close: Weight=0.00",
          "Return: 16.33%<br>Volatility: 0.09<br>PFE_Close: Weight=0.31<br>GOOGL_Close: Weight=0.48<br>PG_Close: Weight=0.15<br>CMCSA_Close: Weight=0.05",
          "Return: 25.52%<br>Volatility: 0.14<br>CMCSA_Close: Weight=0.12<br>MO_Close: Weight=0.00<br>GOOG_Close: Weight=0.88",
          "Return: 24.84%<br>Volatility: 0.09<br>PEP_Close: Weight=0.34<br>F_Close: Weight=0.00<br>SYK_Close: Weight=0.03<br>EXC_Close: Weight=0.10<br>UNH_Close: Weight=0.54",
          "Return: 41.12%<br>Volatility: 0.15<br>ISRG_Close: Weight=0.55<br>ADBE_Close: Weight=0.20<br>AAPL_Close: Weight=0.24",
          "Return: 24.39%<br>Volatility: 0.10<br>SO_Close: Weight=0.00<br>MDT_Close: Weight=0.00<br>HON_Close: Weight=0.94<br>QCOM_Close: Weight=0.03<br>BTI_Close: Weight=0.04",
          "Return: 45.12%<br>Volatility: 0.19<br>UA_Close: Weight=0.00<br>ISRG_Close: Weight=0.95<br>EW_Close: Weight=0.03<br>GS_Close: Weight=0.02",
          "Return: 32.59%<br>Volatility: 0.13<br>K_Close: Weight=0.00<br>QCOM_Close: Weight=0.06<br>DUK_Close: Weight=0.31<br>IBM_Close: Weight=0.00<br>ISRG_Close: Weight=0.64",
          "Return: 23.85%<br>Volatility: 0.11<br>ACN_Close: Weight=0.67<br>VZ_Close: Weight=0.11<br>EW_Close: Weight=0.13<br>GM_Close: Weight=0.09",
          "Return: 43.40%<br>Volatility: 0.14<br>ABBV_Close: Weight=0.71<br>K_Close: Weight=0.00<br>CPB_Close: Weight=0.00<br>RTX_Close: Weight=0.29<br>BIIB_Close: Weight=0.00",
          "Return: 23.89%<br>Volatility: 0.10<br>ABT_Close: Weight=0.60<br>GILD_Close: Weight=0.00<br>BAC_Close: Weight=0.09<br>CVX_Close: Weight=0.30",
          "Return: 19.29%<br>Volatility: 0.11<br>GOOGL_Close: Weight=0.70<br>WFC_Close: Weight=0.05<br>XOM_Close: Weight=0.25",
          "Return: 16.26%<br>Volatility: 0.07<br>PFE_Close: Weight=0.06<br>GS_Close: Weight=0.00<br>AEP_Close: Weight=0.55<br>BMY_Close: Weight=0.05<br>JPM_Close: Weight=0.34",
          "Return: 22.42%<br>Volatility: 0.15<br>BTI_Close: Weight=0.19<br>AAPL_Close: Weight=0.81<br>RDY_Close: Weight=0.00",
          "Return: 0.82%<br>Volatility: 0.15<br>RDY_Close: Weight=0.00<br>MDT_Close: Weight=1.00<br>GIS_Close: Weight=0.00<br>AMGN_Close: Weight=0.00",
          "Return: 36.85%<br>Volatility: 0.14<br>AMGN_Close: Weight=0.00<br>DE_Close: Weight=0.64<br>SAP_Close: Weight=0.36",
          "Return: 39.87%<br>Volatility: 0.22<br>BAC_Close: Weight=0.52<br>BIIB_Close: Weight=0.01<br>GILD_Close: Weight=0.00<br>IBM_Close: Weight=0.00<br>VRTX_Close: Weight=0.48",
          "Return: 24.67%<br>Volatility: 0.09<br>PEP_Close: Weight=0.32<br>INTC_Close: Weight=0.29<br>ABT_Close: Weight=0.39",
          "Return: 17.59%<br>Volatility: 0.09<br>WFC_Close: Weight=0.08<br>PEP_Close: Weight=0.51<br>CPB_Close: Weight=0.00<br>T_Close: Weight=0.00<br>GOOGL_Close: Weight=0.41",
          "Return: 14.44%<br>Volatility: 0.15<br>MS_Close: Weight=0.57<br>VZ_Close: Weight=0.43<br>SNAP_Close: Weight=0.00",
          "Return: 38.64%<br>Volatility: 0.10<br>BA_Close: Weight=0.42<br>AEP_Close: Weight=0.22<br>ACN_Close: Weight=0.24<br>META_Close: Weight=0.13",
          "Return: 31.53%<br>Volatility: 0.12<br>EW_Close: Weight=0.07<br>ABT_Close: Weight=0.59<br>AMZN_Close: Weight=0.34",
          "Return: 37.81%<br>Volatility: 0.18<br>MO_Close: Weight=0.00<br>DHR_Close: Weight=0.30<br>NVDA_Close: Weight=0.42<br>XOM_Close: Weight=0.28",
          "Return: 29.86%<br>Volatility: 0.10<br>WMT_Close: Weight=0.44<br>EXC_Close: Weight=0.27<br>CRM_Close: Weight=0.29",
          "Return: 23.91%<br>Volatility: 0.15<br>GOOGL_Close: Weight=0.92<br>GILD_Close: Weight=0.01<br>F_Close: Weight=0.07",
          "Return: 50.99%<br>Volatility: 0.14<br>TXN_Close: Weight=0.26<br>CAT_Close: Weight=0.58<br>CRM_Close: Weight=0.16",
          "Return: 22.71%<br>Volatility: 0.12<br>ORCL_Close: Weight=0.09<br>SYK_Close: Weight=0.35<br>QCOM_Close: Weight=0.08<br>GOOGL_Close: Weight=0.49<br>GS_Close: Weight=0.00",
          "Return: 29.69%<br>Volatility: 0.12<br>BAC_Close: Weight=0.10<br>HD_Close: Weight=0.78<br>CMCSA_Close: Weight=0.00<br>SYY_Close: Weight=0.12",
          "Return: 15.83%<br>Volatility: 0.11<br>AMD_Close: Weight=0.00<br>SRE_Close: Weight=0.00<br>JNJ_Close: Weight=0.91<br>GE_Close: Weight=0.00<br>PG_Close: Weight=0.09",
          "Return: 30.93%<br>Volatility: 0.11<br>MO_Close: Weight=0.00<br>SAP_Close: Weight=0.12<br>MMM_Close: Weight=0.47<br>TXN_Close: Weight=0.41",
          "Return: 37.07%<br>Volatility: 0.11<br>CMCSA_Close: Weight=0.09<br>MA_Close: Weight=0.54<br>RDY_Close: Weight=0.00<br>WMT_Close: Weight=0.37",
          "Return: 9.20%<br>Volatility: 0.12<br>BIIB_Close: Weight=0.18<br>GE_Close: Weight=0.00<br>DHR_Close: Weight=0.82",
          "Return: 34.24%<br>Volatility: 0.10<br>QCOM_Close: Weight=0.00<br>GS_Close: Weight=0.00<br>TXN_Close: Weight=0.33<br>MCD_Close: Weight=0.50<br>SYY_Close: Weight=0.17",
          "Return: 25.96%<br>Volatility: 0.14<br>SO_Close: Weight=0.00<br>AMD_Close: Weight=0.00<br>BIIB_Close: Weight=0.00<br>META_Close: Weight=0.76<br>COST_Close: Weight=0.24",
          "Return: 51.01%<br>Volatility: 0.24<br>SRE_Close: Weight=0.00<br>TSLA_Close: Weight=0.06<br>DIS_Close: Weight=0.08<br>COST_Close: Weight=0.28<br>NVDA_Close: Weight=0.57",
          "Return: 38.28%<br>Volatility: 0.29<br>CPB_Close: Weight=0.00<br>RDY_Close: Weight=0.00<br>NFLX_Close: Weight=1.00",
          "Return: 15.64%<br>Volatility: 0.08<br>F_Close: Weight=0.00<br>TMO_Close: Weight=0.30<br>SNAP_Close: Weight=0.00<br>KO_Close: Weight=0.65<br>COST_Close: Weight=0.05",
          "Return: 11.86%<br>Volatility: 0.09<br>PFE_Close: Weight=0.35<br>CPB_Close: Weight=0.00<br>GM_Close: Weight=0.21<br>AMD_Close: Weight=0.00<br>EXC_Close: Weight=0.44",
          "Return: 22.91%<br>Volatility: 0.16<br>PG_Close: Weight=0.31<br>DIS_Close: Weight=0.00<br>QCOM_Close: Weight=0.24<br>NFLX_Close: Weight=0.45<br>PM_Close: Weight=0.00",
          "Return: 36.37%<br>Volatility: 0.13<br>GOOGL_Close: Weight=0.32<br>RMD_Close: Weight=0.10<br>DE_Close: Weight=0.58<br>AMGN_Close: Weight=0.00",
          "Return: 20.09%<br>Volatility: 0.14<br>AAPL_Close: Weight=0.77<br>SO_Close: Weight=0.00<br>XOM_Close: Weight=0.23",
          "Return: 11.98%<br>Volatility: 0.10<br>NKE_Close: Weight=0.19<br>EXC_Close: Weight=0.58<br>BMY_Close: Weight=0.23<br>GE_Close: Weight=0.00",
          "Return: 34.63%<br>Volatility: 0.10<br>SO_Close: Weight=0.00<br>HD_Close: Weight=0.45<br>INTC_Close: Weight=0.13<br>MA_Close: Weight=0.43",
          "Return: 32.54%<br>Volatility: 0.13<br>CSCO_Close: Weight=0.15<br>PFE_Close: Weight=0.42<br>AMGN_Close: Weight=0.00<br>BABA_Close: Weight=0.43",
          "Return: 31.42%<br>Volatility: 0.12<br>BSX_Close: Weight=0.00<br>JPM_Close: Weight=0.23<br>UNH_Close: Weight=0.77",
          "Return: 19.42%<br>Volatility: 0.09<br>BIIB_Close: Weight=0.03<br>KR_Close: Weight=0.00<br>CRM_Close: Weight=0.43<br>AEP_Close: Weight=0.54",
          "Return: 24.35%<br>Volatility: 0.10<br>META_Close: Weight=0.18<br>JNJ_Close: Weight=0.48<br>MS_Close: Weight=0.10<br>AMZN_Close: Weight=0.24<br>GIS_Close: Weight=0.01",
          "Return: 45.12%<br>Volatility: 0.18<br>DIS_Close: Weight=0.00<br>IBM_Close: Weight=0.00<br>MDT_Close: Weight=0.00<br>ETN_Close: Weight=0.00<br>DE_Close: Weight=1.00",
          "Return: 37.77%<br>Volatility: 0.15<br>SNAP_Close: Weight=0.00<br>MS_Close: Weight=0.20<br>WMT_Close: Weight=0.80<br>WFC_Close: Weight=0.00",
          "Return: 26.47%<br>Volatility: 0.09<br>VZ_Close: Weight=0.11<br>DIS_Close: Weight=0.00<br>SAP_Close: Weight=0.19<br>VRTX_Close: Weight=0.10<br>HON_Close: Weight=0.60",
          "Return: 33.33%<br>Volatility: 0.10<br>BAC_Close: Weight=0.06<br>XOM_Close: Weight=0.07<br>MA_Close: Weight=0.45<br>SYY_Close: Weight=0.14<br>WMT_Close: Weight=0.29",
          "Return: 44.11%<br>Volatility: 0.13<br>GILD_Close: Weight=0.00<br>CRM_Close: Weight=0.26<br>CAT_Close: Weight=0.56<br>PFE_Close: Weight=0.18<br>GIS_Close: Weight=0.00",
          "Return: 18.42%<br>Volatility: 0.14<br>SRE_Close: Weight=0.05<br>MS_Close: Weight=0.23<br>AMGN_Close: Weight=0.00<br>F_Close: Weight=0.00<br>EMR_Close: Weight=0.72",
          "Return: 30.26%<br>Volatility: 0.11<br>TMO_Close: Weight=0.02<br>EXC_Close: Weight=0.26<br>ISRG_Close: Weight=0.50<br>GM_Close: Weight=0.12<br>CSCO_Close: Weight=0.10",
          "Return: 25.40%<br>Volatility: 0.17<br>NFLX_Close: Weight=0.49<br>GM_Close: Weight=0.36<br>CMCSA_Close: Weight=0.16",
          "Return: 30.56%<br>Volatility: 0.12<br>ADBE_Close: Weight=0.31<br>DUK_Close: Weight=0.15<br>ABT_Close: Weight=0.54<br>SNAP_Close: Weight=0.00<br>MDT_Close: Weight=0.00",
          "Return: 13.14%<br>Volatility: 0.08<br>KO_Close: Weight=0.74<br>BIIB_Close: Weight=0.05<br>GILD_Close: Weight=0.00<br>ETN_Close: Weight=0.21<br>XOM_Close: Weight=0.00",
          "Return: 42.39%<br>Volatility: 0.17<br>BSX_Close: Weight=0.00<br>SYK_Close: Weight=0.17<br>K_Close: Weight=0.00<br>ISRG_Close: Weight=0.83",
          "Return: 31.64%<br>Volatility: 0.24<br>SNAP_Close: Weight=0.00<br>NFLX_Close: Weight=0.81<br>MDT_Close: Weight=0.00<br>F_Close: Weight=0.19",
          "Return: 39.63%<br>Volatility: 0.16<br>JPM_Close: Weight=0.33<br>BABA_Close: Weight=0.49<br>CSCO_Close: Weight=0.18",
          "Return: 39.04%<br>Volatility: 0.13<br>AAPL_Close: Weight=0.05<br>GIS_Close: Weight=0.03<br>ISRG_Close: Weight=0.36<br>MA_Close: Weight=0.55",
          "Return: 19.61%<br>Volatility: 0.10<br>AAPL_Close: Weight=0.37<br>JNJ_Close: Weight=0.59<br>NKE_Close: Weight=0.05",
          "Return: 44.75%<br>Volatility: 0.12<br>JPM_Close: Weight=0.13<br>LLY_Close: Weight=0.00<br>SYK_Close: Weight=0.26<br>BA_Close: Weight=0.62",
          "Return: 34.82%<br>Volatility: 0.14<br>TXN_Close: Weight=0.64<br>MS_Close: Weight=0.04<br>KR_Close: Weight=0.00<br>INTC_Close: Weight=0.31",
          "Return: 21.19%<br>Volatility: 0.08<br>CSCO_Close: Weight=0.04<br>CRM_Close: Weight=0.09<br>KO_Close: Weight=0.47<br>TMO_Close: Weight=0.19<br>AMZN_Close: Weight=0.21",
          "Return: 34.75%<br>Volatility: 0.12<br>UA_Close: Weight=0.00<br>EW_Close: Weight=0.08<br>DE_Close: Weight=0.50<br>SAP_Close: Weight=0.12<br>CRM_Close: Weight=0.30",
          "Return: 24.11%<br>Volatility: 0.08<br>PG_Close: Weight=0.00<br>NEE_Close: Weight=0.48<br>ACN_Close: Weight=0.35<br>SYY_Close: Weight=0.17",
          "Return: 58.59%<br>Volatility: 0.16<br>ZBH_Close: Weight=0.00<br>ABBV_Close: Weight=0.59<br>MDT_Close: Weight=0.00<br>SNAP_Close: Weight=0.00<br>PYPL_Close: Weight=0.41",
          "Return: 42.56%<br>Volatility: 0.12<br>GS_Close: Weight=0.00<br>ABBV_Close: Weight=0.50<br>T_Close: Weight=0.00<br>BMY_Close: Weight=0.00<br>V_Close: Weight=0.50",
          "Return: 37.10%<br>Volatility: 0.14<br>XOM_Close: Weight=0.14<br>T_Close: Weight=0.00<br>ABT_Close: Weight=0.64<br>NVDA_Close: Weight=0.23",
          "Return: 15.97%<br>Volatility: 0.07<br>F_Close: Weight=0.00<br>EMR_Close: Weight=0.24<br>ETN_Close: Weight=0.02<br>PEP_Close: Weight=0.41<br>JNJ_Close: Weight=0.32",
          "Return: 16.39%<br>Volatility: 0.08<br>AEP_Close: Weight=0.53<br>EMR_Close: Weight=0.28<br>CMCSA_Close: Weight=0.05<br>CSCO_Close: Weight=0.14<br>BIIB_Close: Weight=0.00",
          "Return: 24.75%<br>Volatility: 0.10<br>BIIB_Close: Weight=0.00<br>HON_Close: Weight=0.98<br>BMY_Close: Weight=0.02",
          "Return: 31.10%<br>Volatility: 0.15<br>ADBE_Close: Weight=0.56<br>EXC_Close: Weight=0.36<br>ORCL_Close: Weight=0.08<br>MDT_Close: Weight=0.00",
          "Return: 43.38%<br>Volatility: 0.12<br>CMCSA_Close: Weight=0.04<br>GS_Close: Weight=0.00<br>ABBV_Close: Weight=0.52<br>COST_Close: Weight=0.05<br>TXN_Close: Weight=0.39",
          "Return: 43.51%<br>Volatility: 0.21<br>NVDA_Close: Weight=0.50<br>AMGN_Close: Weight=0.00<br>DIS_Close: Weight=0.14<br>DHR_Close: Weight=0.36<br>RDY_Close: Weight=0.00",
          "Return: 15.90%<br>Volatility: 0.08<br>JNJ_Close: Weight=0.49<br>AEP_Close: Weight=0.50<br>GILD_Close: Weight=0.01",
          "Return: 41.60%<br>Volatility: 0.14<br>UA_Close: Weight=0.00<br>NKE_Close: Weight=0.06<br>NVDA_Close: Weight=0.19<br>MMM_Close: Weight=0.61<br>VRTX_Close: Weight=0.14",
          "Return: 35.51%<br>Volatility: 0.11<br>META_Close: Weight=0.05<br>MCD_Close: Weight=0.55<br>MSFT_Close: Weight=0.35<br>CMCSA_Close: Weight=0.05",
          "Return: 34.08%<br>Volatility: 0.12<br>ETN_Close: Weight=0.08<br>SYY_Close: Weight=0.36<br>ISRG_Close: Weight=0.56<br>BSX_Close: Weight=0.00",
          "Return: 49.87%<br>Volatility: 0.14<br>DHR_Close: Weight=0.04<br>MDT_Close: Weight=0.00<br>BA_Close: Weight=0.74<br>AAPL_Close: Weight=0.22",
          "Return: 22.02%<br>Volatility: 0.10<br>RTX_Close: Weight=0.28<br>INTC_Close: Weight=0.41<br>EXC_Close: Weight=0.30<br>F_Close: Weight=0.00",
          "Return: 34.48%<br>Volatility: 0.14<br>AMGN_Close: Weight=0.00<br>ADBE_Close: Weight=0.38<br>VRTX_Close: Weight=0.18<br>SYK_Close: Weight=0.23<br>DUK_Close: Weight=0.22",
          "Return: 32.97%<br>Volatility: 0.13<br>BAC_Close: Weight=0.13<br>BIIB_Close: Weight=0.00<br>UNH_Close: Weight=0.87<br>REGN_Close: Weight=0.00<br>GE_Close: Weight=0.00",
          "Return: 53.28%<br>Volatility: 0.15<br>CAT_Close: Weight=0.68<br>META_Close: Weight=0.32<br>TSLA_Close: Weight=0.00",
          "Return: 24.49%<br>Volatility: 0.10<br>ETN_Close: Weight=0.00<br>HON_Close: Weight=0.88<br>RMD_Close: Weight=0.12",
          "Return: 15.34%<br>Volatility: 0.09<br>GIS_Close: Weight=0.00<br>DUK_Close: Weight=0.26<br>SAP_Close: Weight=0.59<br>AMD_Close: Weight=0.00<br>XOM_Close: Weight=0.15",
          "Return: 57.55%<br>Volatility: 0.12<br>BABA_Close: Weight=0.13<br>MS_Close: Weight=0.00<br>RDY_Close: Weight=0.00<br>ABBV_Close: Weight=0.41<br>BA_Close: Weight=0.46",
          "Return: 27.22%<br>Volatility: 0.11<br>MSFT_Close: Weight=0.60<br>GS_Close: Weight=0.00<br>PG_Close: Weight=0.19<br>TMO_Close: Weight=0.21<br>F_Close: Weight=0.00",
          "Return: 34.08%<br>Volatility: 0.17<br>SO_Close: Weight=0.00<br>NFLX_Close: Weight=0.26<br>INTC_Close: Weight=0.74",
          "Return: 16.98%<br>Volatility: 0.14<br>GE_Close: Weight=0.00<br>IBM_Close: Weight=0.00<br>RTX_Close: Weight=1.00",
          "Return: 37.03%<br>Volatility: 0.11<br>WFC_Close: Weight=0.00<br>LMT_Close: Weight=0.27<br>HON_Close: Weight=0.42<br>PYPL_Close: Weight=0.30<br>K_Close: Weight=0.00",
          "Return: 35.18%<br>Volatility: 0.09<br>LMT_Close: Weight=0.39<br>NVDA_Close: Weight=0.07<br>TXN_Close: Weight=0.11<br>MCD_Close: Weight=0.43<br>MS_Close: Weight=0.00",
          "Return: 16.29%<br>Volatility: 0.09<br>JNJ_Close: Weight=0.55<br>AMGN_Close: Weight=0.00<br>RTX_Close: Weight=0.36<br>DHR_Close: Weight=0.09",
          "Return: 54.36%<br>Volatility: 0.12<br>NKE_Close: Weight=0.06<br>ABBV_Close: Weight=0.43<br>BA_Close: Weight=0.51<br>GS_Close: Weight=0.00<br>BTI_Close: Weight=0.00",
          "Return: 10.10%<br>Volatility: 0.15<br>GILD_Close: Weight=0.20<br>VZ_Close: Weight=0.80<br>PM_Close: Weight=0.00",
          "Return: 48.55%<br>Volatility: 0.17<br>ISRG_Close: Weight=0.62<br>NVDA_Close: Weight=0.22<br>KR_Close: Weight=0.00<br>RMD_Close: Weight=0.02<br>COST_Close: Weight=0.14",
          "Return: 35.24%<br>Volatility: 0.13<br>EMR_Close: Weight=0.28<br>ISRG_Close: Weight=0.53<br>AAPL_Close: Weight=0.19<br>KR_Close: Weight=0.00",
          "Return: 29.44%<br>Volatility: 0.10<br>GILD_Close: Weight=0.00<br>UNH_Close: Weight=0.48<br>LMT_Close: Weight=0.52",
          "Return: 33.91%<br>Volatility: 0.09<br>KO_Close: Weight=0.32<br>HD_Close: Weight=0.32<br>ABBV_Close: Weight=0.35",
          "Return: 21.18%<br>Volatility: 0.09<br>AEP_Close: Weight=0.34<br>EW_Close: Weight=0.05<br>MDT_Close: Weight=0.00<br>LMT_Close: Weight=0.62",
          "Return: 60.53%<br>Volatility: 0.19<br>GILD_Close: Weight=0.01<br>IBM_Close: Weight=0.00<br>CMCSA_Close: Weight=0.05<br>T_Close: Weight=0.00<br>CAT_Close: Weight=0.94",
          "Return: 23.31%<br>Volatility: 0.13<br>AAPL_Close: Weight=0.50<br>MDT_Close: Weight=0.00<br>TMO_Close: Weight=0.50",
          "Return: 37.40%<br>Volatility: 0.12<br>DE_Close: Weight=0.44<br>BTI_Close: Weight=0.03<br>F_Close: Weight=0.00<br>HD_Close: Weight=0.53",
          "Return: 33.89%<br>Volatility: 0.12<br>JNJ_Close: Weight=0.44<br>BABA_Close: Weight=0.36<br>LLY_Close: Weight=0.00<br>SYK_Close: Weight=0.20",
          "Return: 27.58%<br>Volatility: 0.10<br>VZ_Close: Weight=0.18<br>AMZN_Close: Weight=0.17<br>TMO_Close: Weight=0.11<br>V_Close: Weight=0.53<br>CSCO_Close: Weight=0.00",
          "Return: 22.00%<br>Volatility: 0.10<br>JNJ_Close: Weight=0.36<br>XOM_Close: Weight=0.06<br>ABT_Close: Weight=0.53<br>VZ_Close: Weight=0.05",
          "Return: 19.33%<br>Volatility: 0.15<br>EW_Close: Weight=0.41<br>BAC_Close: Weight=0.46<br>LLY_Close: Weight=0.12<br>GIS_Close: Weight=0.00",
          "Return: 9.50%<br>Volatility: 0.10<br>PFE_Close: Weight=0.81<br>RDY_Close: Weight=0.00<br>NKE_Close: Weight=0.19<br>REGN_Close: Weight=0.00<br>SNAP_Close: Weight=0.00",
          "Return: 14.27%<br>Volatility: 0.09<br>CMCSA_Close: Weight=0.16<br>AEP_Close: Weight=0.84<br>T_Close: Weight=0.00",
          "Return: 34.90%<br>Volatility: 0.13<br>MA_Close: Weight=0.90<br>CPB_Close: Weight=0.00<br>NKE_Close: Weight=0.10",
          "Return: 32.99%<br>Volatility: 0.15<br>RTX_Close: Weight=0.44<br>UA_Close: Weight=0.00<br>PM_Close: Weight=0.00<br>ADBE_Close: Weight=0.56<br>RDY_Close: Weight=0.00",
          "Return: 30.82%<br>Volatility: 0.12<br>COST_Close: Weight=0.05<br>VZ_Close: Weight=0.18<br>MSFT_Close: Weight=0.77<br>MDT_Close: Weight=0.00<br>K_Close: Weight=0.00",
          "Return: 31.55%<br>Volatility: 0.12<br>SNAP_Close: Weight=0.00<br>SYK_Close: Weight=0.14<br>RTX_Close: Weight=0.18<br>ETN_Close: Weight=0.00<br>MA_Close: Weight=0.68",
          "Return: 23.08%<br>Volatility: 0.08<br>NEE_Close: Weight=0.44<br>ORCL_Close: Weight=0.08<br>PG_Close: Weight=0.00<br>LMT_Close: Weight=0.48",
          "Return: 13.24%<br>Volatility: 0.09<br>KO_Close: Weight=1.00<br>SO_Close: Weight=0.00<br>SNAP_Close: Weight=0.00",
          "Return: 23.91%<br>Volatility: 0.09<br>TXN_Close: Weight=0.45<br>F_Close: Weight=0.00<br>KO_Close: Weight=0.55<br>SO_Close: Weight=0.00",
          "Return: 34.08%<br>Volatility: 0.16<br>ADBE_Close: Weight=0.67<br>LLY_Close: Weight=0.01<br>IBM_Close: Weight=0.00<br>VZ_Close: Weight=0.32",
          "Return: 24.82%<br>Volatility: 0.09<br>SO_Close: Weight=0.00<br>PEP_Close: Weight=0.12<br>AEP_Close: Weight=0.43<br>TXN_Close: Weight=0.45",
          "Return: 42.91%<br>Volatility: 0.19<br>NVDA_Close: Weight=0.43<br>COST_Close: Weight=0.19<br>CSCO_Close: Weight=0.38",
          "Return: 64.11%<br>Volatility: 0.20<br>CAT_Close: Weight=1.00<br>AMD_Close: Weight=0.00<br>GS_Close: Weight=0.00",
          "Return: 50.76%<br>Volatility: 0.23<br>SNAP_Close: Weight=0.00<br>META_Close: Weight=0.60<br>NVDA_Close: Weight=0.40",
          "Return: 10.18%<br>Volatility: 0.14<br>LLY_Close: Weight=0.28<br>GIS_Close: Weight=0.04<br>ORCL_Close: Weight=0.68",
          "Return: 13.01%<br>Volatility: 0.08<br>ZBH_Close: Weight=0.01<br>EXC_Close: Weight=0.21<br>KO_Close: Weight=0.78",
          "Return: 18.78%<br>Volatility: 0.08<br>GOOGL_Close: Weight=0.00<br>KO_Close: Weight=0.62<br>GOOG_Close: Weight=0.38<br>RDY_Close: Weight=0.00",
          "Return: 21.87%<br>Volatility: 0.10<br>SAP_Close: Weight=0.34<br>VZ_Close: Weight=0.21<br>GOOG_Close: Weight=0.41<br>ORCL_Close: Weight=0.03",
          "Return: 19.90%<br>Volatility: 0.20<br>BAC_Close: Weight=0.87<br>WFC_Close: Weight=0.00<br>MS_Close: Weight=0.13",
          "Return: 43.80%<br>Volatility: 0.10<br>INTC_Close: Weight=0.13<br>BA_Close: Weight=0.41<br>MRK_Close: Weight=0.00<br>NEE_Close: Weight=0.39<br>NVDA_Close: Weight=0.08",
          "Return: 58.08%<br>Volatility: 0.18<br>CAT_Close: Weight=0.85<br>PM_Close: Weight=0.00<br>EW_Close: Weight=0.15",
          "Return: 18.61%<br>Volatility: 0.11<br>MDT_Close: Weight=0.00<br>RTX_Close: Weight=0.52<br>BAC_Close: Weight=0.20<br>RMD_Close: Weight=0.29",
          "Return: 14.80%<br>Volatility: 0.08<br>SYY_Close: Weight=0.27<br>PEP_Close: Weight=0.56<br>GM_Close: Weight=0.17",
          "Return: 17.77%<br>Volatility: 0.08<br>CPB_Close: Weight=0.00<br>WFC_Close: Weight=0.13<br>GOOGL_Close: Weight=0.35<br>AEP_Close: Weight=0.52",
          "Return: 39.16%<br>Volatility: 0.13<br>COST_Close: Weight=0.08<br>ISRG_Close: Weight=0.45<br>RMD_Close: Weight=0.00<br>TXN_Close: Weight=0.47<br>KR_Close: Weight=0.00",
          "Return: 33.67%<br>Volatility: 0.10<br>TXN_Close: Weight=0.29<br>NFLX_Close: Weight=0.00<br>PFE_Close: Weight=0.16<br>META_Close: Weight=0.19<br>WMT_Close: Weight=0.36",
          "Return: 12.34%<br>Volatility: 0.09<br>GE_Close: Weight=0.00<br>CMCSA_Close: Weight=0.12<br>PEP_Close: Weight=0.88",
          "Return: 25.83%<br>Volatility: 0.12<br>PM_Close: Weight=0.00<br>VZ_Close: Weight=0.12<br>MMM_Close: Weight=0.88<br>UA_Close: Weight=0.00",
          "Return: 48.58%<br>Volatility: 0.12<br>ABT_Close: Weight=0.35<br>BA_Close: Weight=0.57<br>VZ_Close: Weight=0.00<br>TSLA_Close: Weight=0.01<br>VRTX_Close: Weight=0.08",
          "Return: 28.44%<br>Volatility: 0.10<br>DUK_Close: Weight=0.28<br>TXN_Close: Weight=0.35<br>MSFT_Close: Weight=0.38",
          "Return: 20.81%<br>Volatility: 0.08<br>LMT_Close: Weight=0.64<br>CVX_Close: Weight=0.27<br>BTI_Close: Weight=0.09",
          "Return: 31.47%<br>Volatility: 0.12<br>HD_Close: Weight=0.88<br>CMCSA_Close: Weight=0.00<br>SO_Close: Weight=0.01<br>TSLA_Close: Weight=0.11",
          "Return: 18.78%<br>Volatility: 0.24<br>QCOM_Close: Weight=1.00<br>UA_Close: Weight=0.00<br>REGN_Close: Weight=0.00",
          "Return: 20.30%<br>Volatility: 0.10<br>JNJ_Close: Weight=0.46<br>KR_Close: Weight=0.00<br>CRM_Close: Weight=0.39<br>MS_Close: Weight=0.14<br>MO_Close: Weight=0.00",
          "Return: 30.76%<br>Volatility: 0.09<br>MCD_Close: Weight=0.43<br>ABT_Close: Weight=0.19<br>LMT_Close: Weight=0.39<br>GIS_Close: Weight=0.00<br>KR_Close: Weight=0.00",
          "Return: 25.87%<br>Volatility: 0.09<br>MMM_Close: Weight=0.44<br>WFC_Close: Weight=0.00<br>DUK_Close: Weight=0.00<br>LMT_Close: Weight=0.56<br>RTX_Close: Weight=0.00",
          "Return: 9.22%<br>Volatility: 0.13<br>BTI_Close: Weight=0.59<br>CPB_Close: Weight=0.00<br>WFC_Close: Weight=0.41",
          "Return: 31.22%<br>Volatility: 0.09<br>DE_Close: Weight=0.29<br>WMT_Close: Weight=0.27<br>AEP_Close: Weight=0.32<br>CVX_Close: Weight=0.13",
          "Return: 11.24%<br>Volatility: 0.13<br>SO_Close: Weight=0.00<br>BTI_Close: Weight=0.43<br>T_Close: Weight=0.00<br>VZ_Close: Weight=0.57",
          "Return: 31.12%<br>Volatility: 0.12<br>CVX_Close: Weight=0.35<br>WMT_Close: Weight=0.58<br>CMCSA_Close: Weight=0.06",
          "Return: 13.11%<br>Volatility: 0.08<br>EXC_Close: Weight=0.21<br>SNAP_Close: Weight=0.00<br>KO_Close: Weight=0.79",
          "Return: 26.21%<br>Volatility: 0.14<br>AMD_Close: Weight=0.00<br>INTC_Close: Weight=0.78<br>REGN_Close: Weight=0.03<br>PG_Close: Weight=0.19",
          "Return: 14.51%<br>Volatility: 0.09<br>RDY_Close: Weight=0.00<br>SNAP_Close: Weight=0.00<br>TSLA_Close: Weight=0.10<br>KO_Close: Weight=0.90",
          "Return: 38.44%<br>Volatility: 0.21<br>T_Close: Weight=0.00<br>RDY_Close: Weight=0.00<br>AMZN_Close: Weight=1.00",
          "Return: 52.60%<br>Volatility: 0.15<br>AMZN_Close: Weight=0.28<br>CPB_Close: Weight=0.00<br>CAT_Close: Weight=0.64<br>BMY_Close: Weight=0.08",
          "Return: 27.12%<br>Volatility: 0.11<br>GIS_Close: Weight=0.00<br>AAPL_Close: Weight=0.12<br>EXC_Close: Weight=0.00<br>AMZN_Close: Weight=0.23<br>NEE_Close: Weight=0.66",
          "Return: 29.96%<br>Volatility: 0.09<br>DUK_Close: Weight=0.11<br>NVDA_Close: Weight=0.06<br>BABA_Close: Weight=0.18<br>PEP_Close: Weight=0.24<br>LMT_Close: Weight=0.41",
          "Return: 19.19%<br>Volatility: 0.09<br>META_Close: Weight=0.42<br>EXC_Close: Weight=0.29<br>PFE_Close: Weight=0.29<br>DHR_Close: Weight=0.00",
          "Return: 26.82%<br>Volatility: 0.12<br>AMZN_Close: Weight=0.41<br>AAPL_Close: Weight=0.10<br>MRK_Close: Weight=0.00<br>COST_Close: Weight=0.16<br>EMR_Close: Weight=0.33",
          "Return: 15.45%<br>Volatility: 0.08<br>SRE_Close: Weight=0.00<br>REGN_Close: Weight=0.01<br>MS_Close: Weight=0.28<br>AEP_Close: Weight=0.71",
          "Return: 39.68%<br>Volatility: 0.16<br>DE_Close: Weight=0.84<br>BIIB_Close: Weight=0.06<br>BTI_Close: Weight=0.10",
          "Return: 30.71%<br>Volatility: 0.16<br>RMD_Close: Weight=0.16<br>PM_Close: Weight=0.00<br>INTC_Close: Weight=0.84",
          "Return: 27.15%<br>Volatility: 0.09<br>ISRG_Close: Weight=0.39<br>PEP_Close: Weight=0.43<br>BTI_Close: Weight=0.02<br>BAC_Close: Weight=0.17<br>SRE_Close: Weight=0.00",
          "Return: 26.19%<br>Volatility: 0.12<br>VRTX_Close: Weight=0.22<br>ORCL_Close: Weight=0.12<br>JNJ_Close: Weight=0.66",
          "Return: 23.55%<br>Volatility: 0.10<br>SYK_Close: Weight=0.15<br>SAP_Close: Weight=0.29<br>EXC_Close: Weight=0.22<br>IBM_Close: Weight=0.00<br>INTC_Close: Weight=0.34",
          "Return: 25.36%<br>Volatility: 0.11<br>ACN_Close: Weight=0.60<br>PG_Close: Weight=0.06<br>GOOGL_Close: Weight=0.34",
          "Return: 28.43%<br>Volatility: 0.11<br>CPB_Close: Weight=0.00<br>LMT_Close: Weight=0.71<br>AMZN_Close: Weight=0.29",
          "Return: 20.67%<br>Volatility: 0.11<br>F_Close: Weight=0.04<br>META_Close: Weight=0.59<br>DHR_Close: Weight=0.18<br>PG_Close: Weight=0.19",
          "Return: 25.05%<br>Volatility: 0.09<br>CVX_Close: Weight=0.24<br>INTC_Close: Weight=0.25<br>SAP_Close: Weight=0.16<br>ACN_Close: Weight=0.36<br>RDY_Close: Weight=0.00",
          "Return: 20.94%<br>Volatility: 0.12<br>GE_Close: Weight=0.00<br>EMR_Close: Weight=0.48<br>TMO_Close: Weight=0.52",
          "Return: 19.82%<br>Volatility: 0.14<br>RMD_Close: Weight=0.37<br>BSX_Close: Weight=0.00<br>MS_Close: Weight=0.34<br>PM_Close: Weight=0.00<br>EW_Close: Weight=0.29",
          "Return: 0.82%<br>Volatility: 0.15<br>T_Close: Weight=0.00<br>MDT_Close: Weight=1.00<br>MO_Close: Weight=0.00<br>CPB_Close: Weight=0.00",
          "Return: 14.58%<br>Volatility: 0.10<br>EMR_Close: Weight=0.54<br>PG_Close: Weight=0.22<br>BMY_Close: Weight=0.23",
          "Return: 32.05%<br>Volatility: 0.12<br>EXC_Close: Weight=0.22<br>SO_Close: Weight=0.00<br>MA_Close: Weight=0.78",
          "Return: 38.38%<br>Volatility: 0.10<br>UNH_Close: Weight=0.45<br>ACN_Close: Weight=0.33<br>BABA_Close: Weight=0.22",
          "Return: 12.87%<br>Volatility: 0.14<br>DHR_Close: Weight=0.61<br>MO_Close: Weight=0.00<br>MRK_Close: Weight=0.00<br>QCOM_Close: Weight=0.39",
          "Return: 38.11%<br>Volatility: 0.15<br>TMO_Close: Weight=0.08<br>GOOG_Close: Weight=0.34<br>ISRG_Close: Weight=0.58",
          "Return: 25.07%<br>Volatility: 0.10<br>IBM_Close: Weight=0.00<br>HON_Close: Weight=1.00<br>F_Close: Weight=0.00",
          "Return: 34.85%<br>Volatility: 0.14<br>BMY_Close: Weight=0.00<br>AMGN_Close: Weight=0.00<br>UNH_Close: Weight=1.00<br>AMD_Close: Weight=0.00",
          "Return: 26.45%<br>Volatility: 0.08<br>ORCL_Close: Weight=0.04<br>NEE_Close: Weight=0.48<br>BTI_Close: Weight=0.01<br>GILD_Close: Weight=0.03<br>HD_Close: Weight=0.45",
          "Return: 38.08%<br>Volatility: 0.14<br>ETN_Close: Weight=0.00<br>PM_Close: Weight=0.00<br>DE_Close: Weight=0.64<br>RDY_Close: Weight=0.00<br>GOOGL_Close: Weight=0.36",
          "Return: 52.88%<br>Volatility: 0.16<br>SRE_Close: Weight=0.00<br>CAT_Close: Weight=0.75<br>SYY_Close: Weight=0.25",
          "Return: 24.18%<br>Volatility: 0.12<br>META_Close: Weight=0.63<br>GM_Close: Weight=0.20<br>UA_Close: Weight=0.00<br>GILD_Close: Weight=0.00<br>BMY_Close: Weight=0.17",
          "Return: 32.63%<br>Volatility: 0.18<br>T_Close: Weight=0.00<br>PM_Close: Weight=0.00<br>INTC_Close: Weight=1.00<br>GS_Close: Weight=0.00",
          "Return: 30.04%<br>Volatility: 0.12<br>GIS_Close: Weight=0.00<br>V_Close: Weight=0.89<br>EW_Close: Weight=0.11",
          "Return: 33.61%<br>Volatility: 0.10<br>UNH_Close: Weight=0.49<br>TXN_Close: Weight=0.32<br>META_Close: Weight=0.06<br>NKE_Close: Weight=0.00<br>SAP_Close: Weight=0.14",
          "Return: 22.09%<br>Volatility: 0.08<br>GOOG_Close: Weight=0.23<br>LMT_Close: Weight=0.51<br>RDY_Close: Weight=0.00<br>PEP_Close: Weight=0.26",
          "Return: 52.26%<br>Volatility: 0.11<br>REGN_Close: Weight=0.00<br>BA_Close: Weight=0.39<br>CAT_Close: Weight=0.33<br>ABT_Close: Weight=0.28",
          "Return: 48.53%<br>Volatility: 0.14<br>BA_Close: Weight=0.78<br>ORCL_Close: Weight=0.13<br>PG_Close: Weight=0.09",
          "Return: 28.97%<br>Volatility: 0.14<br>INTC_Close: Weight=0.75<br>NKE_Close: Weight=0.13<br>TSLA_Close: Weight=0.12",
          "Return: 29.05%<br>Volatility: 0.12<br>F_Close: Weight=0.00<br>ORCL_Close: Weight=0.13<br>HD_Close: Weight=0.82<br>GM_Close: Weight=0.05<br>CPB_Close: Weight=0.00",
          "Return: 46.17%<br>Volatility: 0.15<br>PYPL_Close: Weight=0.52<br>GIS_Close: Weight=0.02<br>ACN_Close: Weight=0.46",
          "Return: 8.38%<br>Volatility: 0.11<br>WFC_Close: Weight=0.27<br>DHR_Close: Weight=0.73<br>GE_Close: Weight=0.00",
          "Return: 55.71%<br>Volatility: 0.13<br>CMCSA_Close: Weight=0.05<br>CAT_Close: Weight=0.46<br>VZ_Close: Weight=0.02<br>ABBV_Close: Weight=0.48",
          "Return: 27.72%<br>Volatility: 0.09<br>TMO_Close: Weight=0.15<br>DUK_Close: Weight=0.26<br>GOOG_Close: Weight=0.21<br>DE_Close: Weight=0.38",
          "Return: 44.79%<br>Volatility: 0.18<br>SO_Close: Weight=0.01<br>DE_Close: Weight=0.99<br>CPB_Close: Weight=0.00",
          "Return: 31.34%<br>Volatility: 0.09<br>MA_Close: Weight=0.40<br>GE_Close: Weight=0.00<br>UNH_Close: Weight=0.36<br>ORCL_Close: Weight=0.00<br>CVX_Close: Weight=0.24",
          "Return: 17.81%<br>Volatility: 0.08<br>KO_Close: Weight=0.63<br>CRM_Close: Weight=0.37<br>GE_Close: Weight=0.00",
          "Return: 22.14%<br>Volatility: 0.11<br>GOOGL_Close: Weight=0.53<br>COST_Close: Weight=0.11<br>EMR_Close: Weight=0.36",
          "Return: 33.96%<br>Volatility: 0.11<br>META_Close: Weight=0.23<br>VZ_Close: Weight=0.09<br>GOOG_Close: Weight=0.21<br>WMT_Close: Weight=0.47",
          "Return: 21.27%<br>Volatility: 0.09<br>KO_Close: Weight=0.68<br>VZ_Close: Weight=0.15<br>ZBH_Close: Weight=0.00<br>K_Close: Weight=0.00<br>VRTX_Close: Weight=0.17",
          "Return: 29.83%<br>Volatility: 0.13<br>NFLX_Close: Weight=0.20<br>AMGN_Close: Weight=0.00<br>MMM_Close: Weight=0.80<br>K_Close: Weight=0.00",
          "Return: 30.70%<br>Volatility: 0.09<br>LMT_Close: Weight=0.19<br>DIS_Close: Weight=0.03<br>MA_Close: Weight=0.32<br>HON_Close: Weight=0.12<br>HD_Close: Weight=0.34",
          "Return: 40.58%<br>Volatility: 0.15<br>MMM_Close: Weight=0.76<br>PM_Close: Weight=0.00<br>NVDA_Close: Weight=0.24",
          "Return: 25.22%<br>Volatility: 0.10<br>HON_Close: Weight=0.79<br>GOOGL_Close: Weight=0.21<br>GE_Close: Weight=0.00",
          "Return: 18.82%<br>Volatility: 0.07<br>CRM_Close: Weight=0.23<br>PFE_Close: Weight=0.20<br>NEE_Close: Weight=0.45<br>XOM_Close: Weight=0.12<br>MO_Close: Weight=0.00",
          "Return: 26.07%<br>Volatility: 0.12<br>BIIB_Close: Weight=0.06<br>MMM_Close: Weight=0.81<br>EW_Close: Weight=0.13<br>SRE_Close: Weight=0.00<br>SNAP_Close: Weight=0.00",
          "Return: 13.20%<br>Volatility: 0.09<br>DIS_Close: Weight=0.00<br>GS_Close: Weight=0.16<br>AEP_Close: Weight=0.84",
          "Return: 20.36%<br>Volatility: 0.21<br>WFC_Close: Weight=0.00<br>AMGN_Close: Weight=0.00<br>BAC_Close: Weight=1.00",
          "Return: 35.50%<br>Volatility: 0.13<br>DE_Close: Weight=0.54<br>K_Close: Weight=0.00<br>SAP_Close: Weight=0.20<br>GOOGL_Close: Weight=0.26<br>SO_Close: Weight=0.00",
          "Return: 21.97%<br>Volatility: 0.13<br>UA_Close: Weight=0.00<br>ZBH_Close: Weight=0.02<br>BSX_Close: Weight=0.00<br>SAP_Close: Weight=0.98<br>SO_Close: Weight=0.00",
          "Return: 58.26%<br>Volatility: 0.16<br>SO_Close: Weight=0.00<br>ADBE_Close: Weight=0.32<br>CAT_Close: Weight=0.68",
          "Return: 43.11%<br>Volatility: 0.12<br>CPB_Close: Weight=0.00<br>ZBH_Close: Weight=0.00<br>BAC_Close: Weight=0.08<br>UNH_Close: Weight=0.42<br>ABBV_Close: Weight=0.49",
          "Return: 21.82%<br>Volatility: 0.11<br>DUK_Close: Weight=0.36<br>GS_Close: Weight=0.00<br>INTC_Close: Weight=0.58<br>COST_Close: Weight=0.06<br>SRE_Close: Weight=0.00",
          "Return: 24.89%<br>Volatility: 0.10<br>QCOM_Close: Weight=0.03<br>PM_Close: Weight=0.00<br>HON_Close: Weight=0.97",
          "Return: 35.78%<br>Volatility: 0.14<br>BSX_Close: Weight=0.00<br>BMY_Close: Weight=0.03<br>LLY_Close: Weight=0.02<br>MA_Close: Weight=0.93<br>TSLA_Close: Weight=0.01",
          "Return: 35.48%<br>Volatility: 0.10<br>SO_Close: Weight=0.00<br>PFE_Close: Weight=0.00<br>JNJ_Close: Weight=0.12<br>HON_Close: Weight=0.49<br>ABBV_Close: Weight=0.39",
          "Return: 40.95%<br>Volatility: 0.12<br>SYK_Close: Weight=0.01<br>UNH_Close: Weight=0.60<br>BABA_Close: Weight=0.30<br>CSCO_Close: Weight=0.09",
          "Return: 26.86%<br>Volatility: 0.10<br>PM_Close: Weight=0.00<br>AAPL_Close: Weight=0.17<br>PG_Close: Weight=0.13<br>UNH_Close: Weight=0.55<br>JPM_Close: Weight=0.15",
          "Return: 17.41%<br>Volatility: 0.08<br>DHR_Close: Weight=0.08<br>JNJ_Close: Weight=0.52<br>SYY_Close: Weight=0.27<br>BAC_Close: Weight=0.14<br>SO_Close: Weight=0.00",
          "Return: 41.34%<br>Volatility: 0.13<br>ABBV_Close: Weight=0.57<br>T_Close: Weight=0.00<br>GOOG_Close: Weight=0.23<br>EMR_Close: Weight=0.20",
          "Return: 26.12%<br>Volatility: 0.14<br>NFLX_Close: Weight=0.24<br>SAP_Close: Weight=0.75<br>PG_Close: Weight=0.01",
          "Return: 22.90%<br>Volatility: 0.09<br>MMM_Close: Weight=0.44<br>PEP_Close: Weight=0.32<br>GOOG_Close: Weight=0.24<br>GE_Close: Weight=0.00",
          "Return: 18.24%<br>Volatility: 0.10<br>PFE_Close: Weight=0.25<br>ORCL_Close: Weight=0.06<br>BAC_Close: Weight=0.16<br>SAP_Close: Weight=0.53",
          "Return: 29.79%<br>Volatility: 0.09<br>GOOG_Close: Weight=0.16<br>NEE_Close: Weight=0.50<br>MO_Close: Weight=0.00<br>SYY_Close: Weight=0.23<br>NVDA_Close: Weight=0.12",
          "Return: 21.60%<br>Volatility: 0.11<br>SAP_Close: Weight=0.63<br>MO_Close: Weight=0.00<br>EMR_Close: Weight=0.37",
          "Return: 30.05%<br>Volatility: 0.12<br>UA_Close: Weight=0.00<br>LMT_Close: Weight=0.85<br>VRTX_Close: Weight=0.15<br>T_Close: Weight=0.00<br>IBM_Close: Weight=0.00",
          "Return: 18.35%<br>Volatility: 0.14<br>MS_Close: Weight=0.34<br>T_Close: Weight=0.00<br>SYY_Close: Weight=0.66",
          "Return: 20.90%<br>Volatility: 0.08<br>KR_Close: Weight=0.00<br>PFE_Close: Weight=0.14<br>BAC_Close: Weight=0.22<br>NEE_Close: Weight=0.64<br>GE_Close: Weight=0.00",
          "Return: 35.99%<br>Volatility: 0.11<br>ABBV_Close: Weight=0.56<br>PEP_Close: Weight=0.44<br>PM_Close: Weight=0.00",
          "Return: 29.31%<br>Volatility: 0.10<br>WMT_Close: Weight=0.36<br>ABT_Close: Weight=0.36<br>ORCL_Close: Weight=0.06<br>PEP_Close: Weight=0.22<br>MDT_Close: Weight=0.00",
          "Return: 21.19%<br>Volatility: 0.12<br>GOOGL_Close: Weight=0.70<br>SNAP_Close: Weight=0.00<br>GS_Close: Weight=0.00<br>CMCSA_Close: Weight=0.12<br>BMY_Close: Weight=0.19",
          "Return: 33.74%<br>Volatility: 0.09<br>KR_Close: Weight=0.00<br>MCD_Close: Weight=0.42<br>UNH_Close: Weight=0.27<br>PG_Close: Weight=0.00<br>MMM_Close: Weight=0.32",
          "Return: 14.00%<br>Volatility: 0.13<br>ZBH_Close: Weight=0.12<br>CVX_Close: Weight=0.88<br>T_Close: Weight=0.00",
          "Return: 36.25%<br>Volatility: 0.14<br>LLY_Close: Weight=0.04<br>CRM_Close: Weight=0.01<br>MA_Close: Weight=0.96",
          "Return: 38.89%<br>Volatility: 0.22<br>TSLA_Close: Weight=0.18<br>VRTX_Close: Weight=0.46<br>MDT_Close: Weight=0.00<br>GILD_Close: Weight=0.00<br>MS_Close: Weight=0.36",
          "Return: 15.41%<br>Volatility: 0.09<br>EW_Close: Weight=0.18<br>AMD_Close: Weight=0.00<br>T_Close: Weight=0.00<br>AEP_Close: Weight=0.74<br>F_Close: Weight=0.09",
          "Return: 24.64%<br>Volatility: 0.08<br>GM_Close: Weight=0.13<br>BIIB_Close: Weight=0.00<br>GILD_Close: Weight=0.02<br>NEE_Close: Weight=0.57<br>INTC_Close: Weight=0.28",
          "Return: 31.41%<br>Volatility: 0.12<br>PEP_Close: Weight=0.62<br>BABA_Close: Weight=0.38<br>SRE_Close: Weight=0.00",
          "Return: 65.17%<br>Volatility: 0.23<br>MDT_Close: Weight=0.00<br>PYPL_Close: Weight=1.00<br>RDY_Close: Weight=0.00",
          "Return: 30.58%<br>Volatility: 0.16<br>GS_Close: Weight=0.00<br>AMZN_Close: Weight=0.71<br>BMY_Close: Weight=0.29",
          "Return: 35.43%<br>Volatility: 0.10<br>LMT_Close: Weight=0.36<br>KR_Close: Weight=0.00<br>PYPL_Close: Weight=0.28<br>MMM_Close: Weight=0.30<br>PG_Close: Weight=0.07",
          "Return: 50.59%<br>Volatility: 0.17<br>ABBV_Close: Weight=0.92<br>LLY_Close: Weight=0.00<br>AMD_Close: Weight=0.00<br>NKE_Close: Weight=0.08",
          "Return: 28.84%<br>Volatility: 0.10<br>PEP_Close: Weight=0.26<br>NVDA_Close: Weight=0.12<br>HON_Close: Weight=0.62<br>F_Close: Weight=0.00",
          "Return: 22.60%<br>Volatility: 0.23<br>EW_Close: Weight=1.00<br>F_Close: Weight=0.00<br>RDY_Close: Weight=0.00",
          "Return: 36.68%<br>Volatility: 0.12<br>NFLX_Close: Weight=0.03<br>MCD_Close: Weight=0.65<br>ETN_Close: Weight=0.02<br>ADBE_Close: Weight=0.23<br>CMCSA_Close: Weight=0.08",
          "Return: 43.47%<br>Volatility: 0.15<br>VRTX_Close: Weight=0.18<br>ORCL_Close: Weight=0.14<br>ETN_Close: Weight=0.00<br>DE_Close: Weight=0.68",
          "Return: 12.97%<br>Volatility: 0.13<br>NKE_Close: Weight=0.26<br>ETN_Close: Weight=0.74<br>K_Close: Weight=0.00",
          "Return: 21.38%<br>Volatility: 0.09<br>NKE_Close: Weight=0.07<br>CVX_Close: Weight=0.34<br>EMR_Close: Weight=0.14<br>GOOG_Close: Weight=0.46",
          "Return: 19.51%<br>Volatility: 0.08<br>ABT_Close: Weight=0.40<br>KO_Close: Weight=0.46<br>ETN_Close: Weight=0.08<br>GILD_Close: Weight=0.00<br>GM_Close: Weight=0.06",
          "Return: 19.15%<br>Volatility: 0.10<br>JNJ_Close: Weight=0.48<br>BSX_Close: Weight=0.00<br>SAP_Close: Weight=0.47<br>NKE_Close: Weight=0.06<br>GIS_Close: Weight=0.00",
          "Return: 19.00%<br>Volatility: 0.08<br>KO_Close: Weight=0.60<br>DHR_Close: Weight=0.06<br>META_Close: Weight=0.35",
          "Return: 47.84%<br>Volatility: 0.15<br>ORCL_Close: Weight=0.07<br>WMT_Close: Weight=0.57<br>AMGN_Close: Weight=0.00<br>BABA_Close: Weight=0.36",
          "Return: 32.99%<br>Volatility: 0.15<br>UA_Close: Weight=0.00<br>RTX_Close: Weight=0.44<br>GE_Close: Weight=0.00<br>ADBE_Close: Weight=0.56",
          "Return: 5.99%<br>Volatility: 0.10<br>PM_Close: Weight=0.00<br>CMCSA_Close: Weight=0.36<br>PG_Close: Weight=0.64",
          "Return: 22.07%<br>Volatility: 0.08<br>KO_Close: Weight=0.27<br>BTI_Close: Weight=0.00<br>ACN_Close: Weight=0.34<br>UA_Close: Weight=0.00<br>NEE_Close: Weight=0.39",
          "Return: 48.13%<br>Volatility: 0.22<br>NVDA_Close: Weight=0.44<br>NFLX_Close: Weight=0.17<br>GIS_Close: Weight=0.00<br>CSCO_Close: Weight=0.39",
          "Return: 30.69%<br>Volatility: 0.09<br>KR_Close: Weight=0.00<br>CVX_Close: Weight=0.25<br>K_Close: Weight=0.00<br>BABA_Close: Weight=0.23<br>LMT_Close: Weight=0.52",
          "Return: 30.10%<br>Volatility: 0.12<br>BAC_Close: Weight=0.12<br>AMGN_Close: Weight=0.00<br>UNH_Close: Weight=0.75<br>IBM_Close: Weight=0.00<br>BTI_Close: Weight=0.13",
          "Return: 28.95%<br>Volatility: 0.10<br>MSFT_Close: Weight=0.40<br>META_Close: Weight=0.08<br>NEE_Close: Weight=0.50<br>CMCSA_Close: Weight=0.03"
         ],
         "type": "scatter",
         "x": [
          0.10619324686808046,
          0.13220844076082366,
          0.22922975781702365,
          0.12309899994960928,
          0.12312979910728583,
          0.13721874643909088,
          0.1631794468897756,
          0.09732695983782365,
          0.08906344562271365,
          0.2635298111409869,
          0.15950604990683104,
          0.12180486508288442,
          0.08192933975038422,
          0.0875993839978743,
          0.09548455868669027,
          0.08946135955242317,
          0.12924791358837798,
          0.16212875624059286,
          0.09290980660714634,
          0.09176927334064687,
          0.13028644497883976,
          0.16703436903881896,
          0.12183069240945368,
          0.0936818727074071,
          0.11895720182569033,
          0.1803882851407237,
          0.17430309924035992,
          0.22700794385387726,
          0.11894222678909658,
          0.10691165939596911,
          0.17644408160876496,
          0.09219254043806607,
          0.13292949799491593,
          0.11723835938125965,
          0.09629396335370127,
          0.1614722116449818,
          0.18946513212610366,
          0.1110813622449853,
          0.14676974754035238,
          0.10676182312895877,
          0.09971759941432114,
          0.12541904672809237,
          0.09686385116981364,
          0.07643091104188131,
          0.08843641094109304,
          0.11815700886876022,
          0.13588117327445132,
          0.1656490781714692,
          0.08514250034865539,
          0.09420471187239864,
          0.09773458708451033,
          0.14631026046143986,
          0.13297933385170174,
          0.10427970288653071,
          0.11597866472205934,
          0.07795961821039589,
          0.0894920818161844,
          0.13386162230416326,
          0.10346475211686502,
          0.10369891080775186,
          0.11455048427171227,
          0.16893965929183602,
          0.10502043446516808,
          0.1267878943292475,
          0.0853362774722322,
          0.08926272060957316,
          0.0951101863706198,
          0.11038991898716118,
          0.1330134914112839,
          0.10620276949026877,
          0.12961867601777005,
          0.17443356351621797,
          0.07843447778020483,
          0.1338513406826954,
          0.12143751677910024,
          0.11928187750631436,
          0.12004070931396159,
          0.09204716267975431,
          0.10194504460317938,
          0.1407419142784621,
          0.1142082276123618,
          0.08118490743947034,
          0.0995740556688946,
          0.1681438434395374,
          0.14676974754035213,
          0.12290398299583025,
          0.09257662777694994,
          0.11404231005769859,
          0.12252626610101627,
          0.1386951152248994,
          0.112620334547644,
          0.11596922468198491,
          0.10325336675540207,
          0.09296933454385412,
          0.16227203687369834,
          0.11116973122905216,
          0.11406656467203993,
          0.11325537110123608,
          0.09567056900342238,
          0.3937109568062766,
          0.1320402769273003,
          0.1545308365883275,
          0.13579781841331667,
          0.11545590599611426,
          0.08769941744228175,
          0.13794720866508348,
          0.15795677392247232,
          0.1073722833954271,
          0.08653126869091052,
          0.09863549309195416,
          0.10209292054203857,
          0.12431830239383912,
          0.1612210866456662,
          0.12415007787605466,
          0.12972777858798984,
          0.16147221164498177,
          0.11372551957892998,
          0.09508990886898121,
          0.11581334748470583,
          0.10922298097788372,
          0.10120247152899414,
          0.09345168039294487,
          0.12298564524667072,
          0.12890998965447745,
          0.1078725156544414,
          0.1432703007789914,
          0.14956270756780504,
          0.15921389559509955,
          0.09646327368249237,
          0.113268695881845,
          0.1030507053829969,
          0.09253133318736745,
          0.11725122408471349,
          0.07992216207891945,
          0.1792241226468202,
          0.09010103978977142,
          0.14543123694245452,
          0.16400084363705197,
          0.13183285953803367,
          0.15776114139675784,
          0.08963206346946813,
          0.12372836672768625,
          0.12076951240515779,
          0.23198887159918083,
          0.08451917700113107,
          0.13398884303334466,
          0.1129534210622398,
          0.09813861920090819,
          0.2107305818906363,
          0.12377351507543001,
          0.09440535950433812,
          0.14733379231525665,
          0.09825280512732824,
          0.16313548652261325,
          0.11373449746932947,
          0.11011533339427707,
          0.0970692046589999,
          0.10466953560732971,
          0.12555966093267049,
          0.11052684551677226,
          0.09557820100787275,
          0.1298109503407197,
          0.205578288301164,
          0.10505590061352035,
          0.1467874398782069,
          0.20184544275115138,
          0.09941666957495011,
          0.13510405326318506,
          0.09512624392510347,
          0.08161772797356899,
          0.07615976269719384,
          0.0815342401625618,
          0.10899422181475646,
          0.11697378092889447,
          0.125307311688693,
          0.07964820538940198,
          0.10384471471488373,
          0.16240827627036722,
          0.10661861718356766,
          0.10112169455901146,
          0.1124365739240491,
          0.11225235259628322,
          0.15978641479964842,
          0.37067420289230174,
          0.08236365135255912,
          0.13854603771349516,
          0.10687040558290989,
          0.10929863551155398,
          0.10937303415090406,
          0.11621394043764133,
          0.15060257328697163,
          0.135922921607696,
          0.08224925053613888,
          0.13754969915571733,
          0.15404032532302053,
          0.18432649085704322,
          0.07641016002023499,
          0.11325579785282675,
          0.1289197115191236,
          0.11809832961666458,
          0.13486653423421993,
          0.12550926085692685,
          0.1378312649893657,
          0.11956266469460487,
          0.09528964405908666,
          0.12766755175353683,
          0.0980290801483931,
          0.18723239158284916,
          0.1671699279248528,
          0.09499922640497095,
          0.10213721331090685,
          0.09714135773623438,
          0.08641756230658353,
          0.09471989078549041,
          0.10825470734190897,
          0.10839563215987645,
          0.12910297517620087,
          0.121841153321027,
          0.14888582290699456,
          0.18946513212610624,
          0.08306943292194152,
          0.11132724588054536,
          0.12142359812300588,
          0.12639976304424347,
          0.11138208018995129,
          0.08447511882999476,
          0.24059156539102117,
          0.09142521860535206,
          0.12337815937637203,
          0.12610881052800652,
          0.08418743748484171,
          0.1150420373331649,
          0.10260917316058207,
          0.1303102735810361,
          0.12410881265747606,
          0.12228091593700786,
          0.08055660440960936,
          0.09708147517182,
          0.11256727262186056,
          0.1239604597359781,
          0.16400084363705195,
          0.13100886340799622,
          0.1073895688521952,
          0.08643419826391818,
          0.12855363735666153,
          0.1625902762294362,
          0.08364938556722146,
          0.10586388626022157,
          0.13641163218001712,
          0.14587935183269132,
          0.08544248587981379,
          0.07493576633698304,
          0.16833721048413408,
          0.11226297994645562,
          0.11377496681763492,
          0.07260568151186367,
          0.11639620686724149,
          0.11583911191171647,
          0.10447783461534012,
          0.13284377935992253,
          0.11329801433394653,
          0.1305026626332723,
          0.1444099877311706,
          0.11336800996813379,
          0.10773642863101687,
          0.14948796073982246,
          0.0808398445701237,
          0.10364905680727965,
          0.11539110645423481,
          0.11836022796304894,
          0.14163423757874744,
          0.16926635356095246,
          0.18142790982641516,
          0.1116954687275512,
          0.12321532836638684,
          0.11647604208590613,
          0.08120460813537783,
          0.13649987682336434,
          0.16994375234828946,
          0.11444741434029228,
          0.12176065207704606,
          0.08226611687819187,
          0.11241150631098641,
          0.1064979321152585,
          0.1109282530833996,
          0.08918234713937108,
          0.12540241525335932,
          0.12533128881338962,
          0.197237668289604,
          0.0995684381730507,
          0.08695860620555178,
          0.14537199393475445,
          0.114371224469245,
          0.10321995447730176,
          0.1994940583594404,
          0.09297838919635353,
          0.18465773755423567,
          0.10871552550160818,
          0.13152711838048814,
          0.13330554478609277,
          0.07679018650300305,
          0.14737393963663853,
          0.09709369181567003,
          0.1753795690533011,
          0.13535743629808517,
          0.13079686804957327,
          0.12557750630157952,
          0.1027800378413652,
          0.11325476454357543,
          0.08219031604800592,
          0.10742905458051295,
          0.12241382131378811,
          0.10337582011666654,
          0.13496395762286506,
          0.20936627356132434,
          0.09784309428921369,
          0.09891182102819569,
          0.15460340972632966,
          0.09356886478075684,
          0.1267297836664061,
          0.12263158661272508,
          0.20710300360926445,
          0.13596795213053758,
          0.12982024904103984,
          0.13601941727888417,
          0.0953111114593954,
          0.08772870406194251,
          0.10212344088653817,
          0.1326461922150249,
          0.10038571274490482,
          0.17568803421881904,
          0.08815259322044872,
          0.12445471684787657,
          0.09207887472027626,
          0.09609796974514802,
          0.0955142270129128,
          0.09165404245627858,
          0.07872125768889358,
          0.096672387000713,
          0.08172160630885651,
          0.1253646425655218,
          0.09395848167364672,
          0.10829191433480963,
          0.11728016733486683,
          0.1493087163724998,
          0.1142189293523519,
          0.13578015807533622,
          0.12342643374503853,
          0.08205380544134235,
          0.17787204536048945,
          0.20898311189221117,
          0.08059005015349889,
          0.15475657661922462,
          0.1016208168522481,
          0.13501095428519394,
          0.12090164839327078,
          0.09131274033285706,
          0.09161862490333492,
          0.11352435355610863,
          0.09601066403739167,
          0.11534754333837768,
          0.08772691821528888,
          0.14023014632793143,
          0.1705812115222845,
          0.0755795808825501,
          0.10833487701618373,
          0.14047723589100744,
          0.09819176089458,
          0.12737191451714966,
          0.34805208843575053,
          0.0983323879353063,
          0.12231408862425201,
          0.10314883627140428,
          0.09838069814735338,
          0.15158751509000268,
          0.13366909565135088,
          0.10162081685224825,
          0.0984685025224552,
          0.12125945058815808,
          0.08719868478548776,
          0.11320041172041813,
          0.11486042731462268,
          0.09896801556179496,
          0.1016208168522481,
          0.12540241525335932,
          0.11862103586076471,
          0.09901846919530291,
          0.12396784215308752,
          0.10777016029665056,
          0.12920392298581068,
          0.10653962793113429,
          0.11734146770729273,
          0.11046022959012887,
          0.12830840762215187,
          0.1259294808435178,
          0.1761404772762331,
          0.1779525198287592,
          0.1215574030117416,
          0.11358763856028706,
          0.16756869645097075,
          0.09420813263230894,
          0.11465348869780252,
          0.14431521120264232,
          0.10897511773793957,
          0.1294965049173909,
          0.09105428036022797,
          0.12362716044889566,
          0.07051005497100184,
          0.1120989828206604,
          0.10179996684023392,
          0.13288663686337557,
          0.16101521217580586,
          0.13523008412957382,
          0.1059806766344059,
          0.0912398321172043,
          0.1101174944784334,
          0.08741427920629508,
          0.17000801030447488,
          0.09545273264642999,
          0.17934120342244222,
          0.1999370316190789,
          0.19723766828960398,
          0.10413026661714891,
          0.11477721392779246,
          0.09369588002805113,
          0.10991773690752651,
          0.07167255909715346,
          0.2515609910452215,
          0.08351422094700015,
          0.10036229224243591,
          0.09949490611905368,
          0.12966862047443137,
          0.10265831946319437,
          0.1360441181617277,
          0.10150663198251321,
          0.10625324823101231,
          0.11141084578472059,
          0.11941692509584693,
          0.15912691295404058,
          0.1440365701676092,
          0.13909299501716607,
          0.11659296745621436,
          0.14032965070881687,
          0.0855329822815924,
          0.10792879686915122,
          0.1204704828321602,
          0.08554314746851237,
          0.11822762597362241,
          0.08416883802585383,
          0.08460081260009383,
          0.1071363575115558,
          0.13812349504074656,
          0.09429684625457087,
          0.14204093844874985,
          0.12777260436516755,
          0.10737881037227245,
          0.08887797851088741,
          0.11697092003369237,
          0.12160432485715451,
          0.1366659786610918,
          0.13502407957244913,
          0.25650361018298073,
          0.14335744114157323,
          0.08860736084404254,
          0.10397619811308106,
          0.1058547714968351,
          0.15370345042552416,
          0.082308877309798,
          0.11534178166752361,
          0.17018839238127295,
          0.08254056103914768,
          0.14538242441028768,
          0.11663686021799653,
          0.15388739531461756,
          0.10864570934602351,
          0.14039221831898482,
          0.14676974754035219,
          0.1567519069336511,
          0.08996342462295427,
          0.12648005560159337,
          0.15845280081005797,
          0.07934552872946611,
          0.11308515068035875,
          0.10079081729284704,
          0.14095657574161688,
          0.1547643313718716,
          0.09777993872951231,
          0.17517354207979635,
          0.0869081838726713,
          0.13145526969318946,
          0.08884093746533149,
          0.1068864548723426,
          0.13243607991675257,
          0.08102580301611813,
          0.11548729342723082,
          0.10271498349751629,
          0.1136522170695847,
          0.15209637468282453,
          0.08912753605208602,
          0.10653999230696184,
          0.08242124222339398,
          0.159506049906831,
          0.1187264895993476,
          0.08829678481938255,
          0.11486446808556465,
          0.1908334109540835,
          0.10419223765985741,
          0.07927269094815721,
          0.14036161625423008,
          0.20077011606324988,
          0.11777505896290041,
          0.09379618061577777,
          0.10692083715006118,
          0.14413301313617397,
          0.12595113902937807,
          0.11458507731676157,
          0.10530119525082426,
          0.13824061609037555,
          0.14877766747676333,
          0.09891399293047753,
          0.11911471094845565,
          0.15357430579844453,
          0.09634126256993854,
          0.11064603051539501,
          0.08922315763941584,
          0.07924759763957052,
          0.11555703434861372,
          0.1300013535253445,
          0.11603445782618753,
          0.09039419967986212,
          0.09758585688080135,
          0.1724302533565448,
          0.12203130490038301,
          0.14069634291953323,
          0.22566079882885248,
          0.11864719265233457,
          0.1150736819042811,
          0.11243501712767988,
          0.09714534197211858,
          0.1287669617723132,
          0.14958070480041885,
          0.10680698906696219,
          0.1831901785945979,
          0.1509878057227123,
          0.10882124352737965,
          0.11234716758433744,
          0.1368874636179581,
          0.15904518837642673,
          0.15016387877696727,
          0.11391666314859268,
          0.16056711154873277,
          0.11996961403633086,
          0.1795454822272636,
          0.07871723452230098,
          0.08806182686526264,
          0.07541757071482545,
          0.10863335198719527,
          0.1152682674971605,
          0.1130074427226897,
          0.12027061233193496,
          0.10115458623692171,
          0.12603231000963783,
          0.18967911676046104,
          0.11164162491168296,
          0.17328054643901386,
          0.16134272373801878,
          0.10064811106722732,
          0.17282836681934607,
          0.16101084390991835,
          0.17968262897389406,
          0.27285536049638104,
          0.12527687696835565,
          0.157256430105348,
          0.13674539319471554,
          0.11592751174159537,
          0.0925733149147437,
          0.14110177150905204,
          0.12605977292532325,
          0.13499533144736953,
          0.08663570783024728,
          0.1496391595462067,
          0.15121508320719868,
          0.0940881178999033,
          0.09945999396144879,
          0.08578121650016485,
          0.1454954468928681,
          0.15948234725307112,
          0.10137979565510398,
          0.15328246653819413,
          0.08967074759584104,
          0.10668369808137856,
          0.11362986221661918,
          0.11762076073290345,
          0.08453841262936924,
          0.14059480654341275,
          0.10236792470699442,
          0.12890476719629443,
          0.11078776096242486,
          0.12355317682120463,
          0.08191155002476118,
          0.07782753781218839,
          0.17739780648951123,
          0.09116730997833099,
          0.14312231006403514,
          0.10906703917311004,
          0.1272842209990856,
          0.1375049107823071,
          0.2119799916694842,
          0.1080580629318792,
          0.07438148044574397,
          0.15082989023735616,
          0.10532638447721204,
          0.12558650445601433,
          0.1433762120159343,
          0.14504440342976105,
          0.1337390872933907,
          0.10591355299439029,
          0.11807943110000495,
          0.13135958749773302,
          0.10304163832070354,
          0.1111133234668893,
          0.1252933460318973,
          0.1266585554439174,
          0.09628687949409169,
          0.1018453345366615,
          0.15867746611285946,
          0.07686708805999345,
          0.13997841959038562,
          0.16095515996705617,
          0.08751047780358161,
          0.11715348636251283,
          0.1475001228073955,
          0.07882927444250376,
          0.09777993874194302,
          0.11835060807861064,
          0.1760360514977886,
          0.1022782763167135,
          0.07753743564584123,
          0.13524861535526336,
          0.10245585458072663,
          0.13820473930262506,
          0.09878735972444472,
          0.10681115346320526,
          0.1525682280179437,
          0.09978441934318273,
          0.08691840876087654,
          0.11209429159714787,
          0.12576286750285956,
          0.13078734539228112,
          0.08507643663069543,
          0.10537763825188125,
          0.15275974210259136,
          0.13997674048915995,
          0.11701069418868573,
          0.10100686822849178,
          0.16183313234778637,
          0.09476459407516777,
          0.16121508253266992,
          0.09960382068306338,
          0.10173376268628481,
          0.14170172906137704,
          0.1433070097612344,
          0.12192538822184758,
          0.10946146492762984,
          0.09499236205860871,
          0.1837177853546139,
          0.14675599574638848,
          0.11450410776979088,
          0.09731793341884644,
          0.11997876382372512,
          0.10793997018407553,
          0.13166056047955182,
          0.12315869728441083,
          0.11044719003216023,
          0.15498560955823826,
          0.1919926448366716,
          0.09832720625631758,
          0.18093449714058288,
          0.09977714730907952,
          0.11403985414495693,
          0.1121355538251962,
          0.09269583277067923,
          0.11519165747444811,
          0.12264670172180275,
          0.1363552949714042,
          0.08902859343419642,
          0.09509209030697642,
          0.1687585842821848,
          0.13263021808025074,
          0.13784585435033825,
          0.17466109591195786,
          0.101620816852248,
          0.08286965931387803,
          0.1473581735811409,
          0.1049693335770561,
          0.13346480429815383,
          0.10177375788054292,
          0.12579052227929,
          0.1614722116449818,
          0.09457844693456711,
          0.11423826858140938,
          0.1338584802498174,
          0.13950419897194258,
          0.17268328929293003,
          0.13967028801395812,
          0.1776648173484759,
          0.1637114802806061,
          0.10340975838407843,
          0.10247867446394365,
          0.1598693168676429,
          0.15615577778852618,
          0.15717128880253842,
          0.11633301809048427,
          0.1100692737033519,
          0.09124153544124866,
          0.07619004566327577,
          0.1805525814517525,
          0.09505334840776586,
          0.13646336041952206,
          0.13794720859284904,
          0.1557668466523213,
          0.09298206777468056,
          0.1292798676515954,
          0.3846107940381105,
          0.12837969314844166,
          0.11672887928443952,
          0.0767913501999114,
          0.1150210726415648,
          0.12141896842549035,
          0.15477807461976276,
          0.1551731955976737,
          0.0935678993482405,
          0.14715146057184095,
          0.1315384575408169,
          0.07704179594363376,
          0.15667266517497078,
          0.12133277049199495,
          0.1410102911225608,
          0.10253552260707233,
          0.08792721305802498,
          0.10702428280629743,
          0.08578276422049402,
          0.10926093862938488,
          0.08788425655442338,
          0.14473374608535475,
          0.09008073721545182,
          0.15386898416809736,
          0.09843237495629066,
          0.1850444325194018,
          0.12978367614413577,
          0.10542623549817472,
          0.13756184406030114,
          0.10000545212049873,
          0.11364659503028732,
          0.07129545091698088,
          0.1532948562848778,
          0.15165610808102367,
          0.13660524957892062,
          0.21670507294270533,
          0.0908851632706628,
          0.08861114131040969,
          0.14746519825662496,
          0.09884544698961525,
          0.12292985591508622,
          0.17756218037736274,
          0.101687094297594,
          0.1454247149494846,
          0.14450192081694935,
          0.12258326966588713,
          0.1199514417662431,
          0.10622248863710923,
          0.1085261089664935,
          0.11017580960618181,
          0.12354810513743131,
          0.10086732750913076,
          0.13767518669284012,
          0.2399350426628158,
          0.2868595321810121,
          0.07725780157135849,
          0.08560003926794324,
          0.1573927952551498,
          0.13000731564311738,
          0.13909027811682412,
          0.0967857864392439,
          0.09941640763778385,
          0.12632294382061243,
          0.12143299052077056,
          0.09223824549058998,
          0.10137010418820228,
          0.1785574686458868,
          0.15391822126776727,
          0.09212059543034258,
          0.0958223577872935,
          0.1271903871267636,
          0.14165355225369297,
          0.1129844764930035,
          0.16965728024519613,
          0.11791430792026548,
          0.07547362140747195,
          0.17238880300387532,
          0.23500700848285075,
          0.15616165357951114,
          0.13330360991696266,
          0.09604318989953971,
          0.12158509921646045,
          0.1417350458709417,
          0.07971612593559547,
          0.11692893893979826,
          0.08317664314048048,
          0.15625738435499856,
          0.1226289483023557,
          0.13682169786044907,
          0.07470260362787574,
          0.07707030749055133,
          0.10023296901086542,
          0.14587557450762278,
          0.11931670542663611,
          0.20584379440847927,
          0.08199457250856693,
          0.1379059126374032,
          0.11029200052596433,
          0.12115682779721584,
          0.1399557202854621,
          0.09795174723856616,
          0.1433716217613307,
          0.13018685079998737,
          0.15310017365816384,
          0.09609097913840627,
          0.08830853474926566,
          0.12180022374803436,
          0.10565602947989057,
          0.16560991989556503,
          0.13646215882831483,
          0.10958660050051632,
          0.09422513782265866,
          0.09020670300105316,
          0.11882507174232786,
          0.1461198248191451,
          0.17174324452257242,
          0.12792125558902642,
          0.0969342533397084,
          0.08997072121774302,
          0.08615189035518425,
          0.18591771899952822,
          0.12772294248024355,
          0.12094484994901213,
          0.12135439334425581,
          0.09802881846909271,
          0.09608527960256066,
          0.14571008576742486,
          0.10042807285130809,
          0.09422117267887987,
          0.13226692347179536,
          0.15237546712062416,
          0.12237909038360321,
          0.11691025244040788,
          0.078206337902206,
          0.08636044648682537,
          0.08667767784800066,
          0.16055066033296678,
          0.08733648370919463,
          0.19251314426848087,
          0.1972376682896033,
          0.22719224799031432,
          0.13860357741935184,
          0.07997645297776491,
          0.08268561923805891,
          0.10211117800112968,
          0.2042026242065895,
          0.09983361824923272,
          0.17537588128650294,
          0.11252958929763547,
          0.08399245410084259,
          0.07683993975311913,
          0.13254457709030407,
          0.1046000780407209,
          0.09110298509054177,
          0.12027112085987816,
          0.12369763091046963,
          0.10267816065939875,
          0.08225891535068357,
          0.12395990206235538,
          0.23880873233372502,
          0.09707633343212838,
          0.08582636370100957,
          0.09369695377058174,
          0.13416168922581387,
          0.08539495455574023,
          0.13357028383748462,
          0.1167259384067993,
          0.08062168625666631,
          0.13956331654589518,
          0.08629452807407306,
          0.21197999166948445,
          0.14802925539883827,
          0.1054084508323769,
          0.09100452596705157,
          0.08840963902710793,
          0.12325245328445852,
          0.0818088871306379,
          0.15534543420304098,
          0.1626631295376009,
          0.09128971791340183,
          0.12219307535191243,
          0.10306586122557958,
          0.10845498745740921,
          0.10521944335912324,
          0.11180692910992408,
          0.09055543450134776,
          0.12493603762550835,
          0.1440331711469607,
          0.15165610808102264,
          0.10361743539254872,
          0.11959304132933374,
          0.10421331390867132,
          0.13550663425880433,
          0.14581643622657792,
          0.10162081685224808,
          0.14077850245824242,
          0.07866607891076782,
          0.13783216370841248,
          0.157311841701585,
          0.1244561137437566,
          0.17559569333767402,
          0.11864369475126886,
          0.10284682337785477,
          0.08410902121178736,
          0.11417030076242216,
          0.13952246626712023,
          0.14432342308292892,
          0.11765495616792392,
          0.15143380797170125,
          0.10742898109338755,
          0.12603465312235607,
          0.09038793840367358,
          0.17727265060327774,
          0.08914652398359543,
          0.0825456900933747,
          0.10977038977580689,
          0.11323847951035432,
          0.09275857465317905,
          0.12650814381357955,
          0.08575496200935383,
          0.14715012975200292,
          0.09667245839680955,
          0.07115561809616591,
          0.11775231885879942,
          0.08688954113813771,
          0.20936627356132434,
          0.12596416107004452,
          0.13483552460835457,
          0.16064959222876327,
          0.12177193510258126,
          0.11085321873654706,
          0.10067274565655787,
          0.13723398076941665,
          0.10203972889279354,
          0.12089779880607969,
          0.0979876828000775,
          0.08435409122648212,
          0.12604919163622325,
          0.14216469143673702,
          0.08697898573169234,
          0.096433810264713,
          0.09278100024715731,
          0.11324630939171358,
          0.11863599505493524,
          0.13640838728461618,
          0.07511745376572192,
          0.10951092665856048,
          0.0961712718333493,
          0.12149514288791911,
          0.08946787429158823,
          0.12587083853241637,
          0.1392226611013874,
          0.21768424564162,
          0.09492354522723587,
          0.08423678301895036,
          0.11656957049677351,
          0.23137124720696228,
          0.15916330198917641,
          0.10310636671434532,
          0.16621446281781163,
          0.09537838389401411,
          0.2323426376144758,
          0.11618561874052204,
          0.1493497433716605,
          0.13133590004357212,
          0.08943579556583008,
          0.07929951318655554,
          0.09641697029444765,
          0.0817689952924261,
          0.147356393851031,
          0.15237172937025126,
          0.10075897908406278,
          0.07714670825659205,
          0.21560751351907845,
          0.09458521628082588,
          0.1162534930046543,
          0.09817780200466938
         ],
         "y": [
          0.29836468016299544,
          0.3465604963428209,
          0.5318032507891075,
          0.15543582077451873,
          0.2255736419557384,
          0.17103135533863909,
          0.23941843224975684,
          0.16082492987990324,
          0.25513084502099254,
          0.35304402274110713,
          0.27711181879896946,
          0.32128535460033697,
          0.2794581561010597,
          0.26649408285209825,
          0.1888786669486494,
          0.059159029672962646,
          0.5384813956049929,
          0.37779224359045616,
          0.41681659302689333,
          0.19055715490528766,
          0.34129663658575876,
          0.5720856627587272,
          0.4536721107965972,
          0.3349190536064657,
          0.22612527281437764,
          0.11410602160787182,
          0.5954075962487245,
          0.6394978503100226,
          0.2977896989508217,
          0.3585967600234502,
          0.4071739480566895,
          0.2788762924237608,
          0.2856507201254209,
          0.4424388542903752,
          0.14768499646259342,
          0.3714221016042577,
          0.05320911444903759,
          0.2601284381796913,
          0.04513465810463647,
          0.10892186474887183,
          0.24642379810344645,
          0.4178183584560969,
          0.27029926164271373,
          0.20908404901253858,
          0.22798949298289173,
          0.3573840670110089,
          0.32882999593883194,
          0.2301467199065768,
          0.23034424147046695,
          0.15388841683258125,
          0.26299982823463713,
          0.39266289169250823,
          0.4616167095649711,
          0.2829899747443745,
          0.21284850466999036,
          0.23613915532231627,
          0.2728059640439712,
          0.49317043957125445,
          0.28461557217543954,
          0.14776021554640895,
          0.30656564377466744,
          0.5049190100536519,
          0.30099598077779255,
          0.4048788927878024,
          0.2512439932611885,
          0.24505285496761026,
          0.442448389937101,
          0.33576541721023645,
          0.27915695515929423,
          0.2983914429757198,
          0.35008975162261236,
          0.4280509975776643,
          0.14706078302647607,
          0.10803523524894262,
          0.21146981012618393,
          0.36008491478309956,
          0.4713987019711504,
          0.08087090313621687,
          0.15866727042489448,
          0.07991363235243082,
          0.41819997291732924,
          0.2782480801073946,
          0.267679218620029,
          0.16513581298593882,
          0.04513465810463656,
          0.5064490818956106,
          0.17571660806202127,
          0.251402945360365,
          0.22640202331369846,
          0.13671366235514834,
          0.176164446075176,
          0.32998851776392485,
          0.30153116902441274,
          0.2421167928218615,
          0.4952375468908668,
          0.35917437903381677,
          0.43102012702022713,
          0.4528350188044554,
          0.26107715564280887,
          0.807342068444212,
          0.3737866070811491,
          0.5124055257311791,
          0.5047523861647084,
          0.2461145725767991,
          0.22690374319692622,
          0.45810518289802465,
          0.3701162961678174,
          0.2364051832508203,
          0.2999458949582904,
          0.26989941263611733,
          0.15574672347844404,
          0.160188770200801,
          0.409216538294972,
          0.38345462964559734,
          0.492620665861766,
          0.37142210160425765,
          0.3090260229076526,
          0.21270062598839257,
          0.30082341389738837,
          0.4108342104980785,
          0.2911727440027731,
          0.2699319006782754,
          0.3197319811314345,
          0.3763019565689103,
          0.2317439340011755,
          0.13317826884366235,
          0.3619869508789076,
          0.42351041367076947,
          0.2774504590360785,
          0.3482202118159113,
          0.2651712981728459,
          0.06598937045633256,
          0.228033860113175,
          0.2539604689832317,
          0.5135834393394543,
          0.08594557684474946,
          0.24862872799200791,
          0.16111352854345914,
          0.27784840681573336,
          0.518754527131059,
          0.18559925545830577,
          0.30296415622280387,
          0.25558212905023214,
          0.5019710936894816,
          0.23960069643640136,
          0.19169915040431587,
          0.32287477829230493,
          0.2975373385440516,
          0.17665374704567646,
          0.1587739006654784,
          0.24432801579685043,
          0.2905355531073064,
          0.25837048291153486,
          0.5008621177571396,
          0.3093268495417936,
          0.34334925289250207,
          0.2339804679807733,
          0.3099853890921447,
          0.20189176775175446,
          0.3550923986975052,
          0.2788305726072623,
          0.4369471076313692,
          0.09549215344301229,
          0.26431952890312355,
          0.5528552587177656,
          0.6087668143722428,
          0.30519858284170354,
          0.33739830889136757,
          0.3255325394170452,
          0.18576422323004635,
          0.2432409684147151,
          0.3126392583120978,
          0.43100738167190966,
          0.3646278222180321,
          0.39123330834442005,
          0.14910012742723033,
          0.37026686912735923,
          0.4248982928868395,
          0.12473735697190899,
          0.23070322003528468,
          0.36908154420690914,
          0.3589598662822653,
          0.3341768071306451,
          0.7603852209367108,
          0.21547693481462477,
          0.3982108715114905,
          0.2296709254025375,
          0.34074414936641567,
          0.2505581212182592,
          0.29130946218808285,
          0.21324192119639343,
          0.41114083319176353,
          0.23988249291879327,
          0.5018074722687311,
          0.448147503745672,
          0.5409028971446634,
          0.28662099191707985,
          0.3270293960813682,
          0.12384840018134902,
          0.3730951682418733,
          0.2454810372062649,
          0.38048081086314733,
          0.13203878416955528,
          0.39305052030461296,
          0.17782166516793319,
          0.2705976875810021,
          0.04022606302414666,
          0.3549576233633418,
          0.07595314127592442,
          0.30693959776589286,
          0.40233393031930303,
          0.18269952810185344,
          0.2057073450397971,
          0.22597776703764091,
          0.20229932774026516,
          0.36205886292856326,
          0.5696809351902437,
          0.15934683750728684,
          0.22447479096650613,
          0.053209114449024424,
          0.1825895199486889,
          0.23875077259881416,
          0.29630598032611455,
          0.23490956706083505,
          0.32347300213194885,
          0.22545852596564758,
          0.5219234006547053,
          0.3744050009415964,
          0.3142712371610744,
          0.4483485672569438,
          0.21142171875685511,
          0.1552266011300944,
          0.32000660271618686,
          0.1925661384733312,
          0.2789326895288016,
          0.2629238543133864,
          0.2439106944983948,
          0.26161213763834545,
          0.2766305165106051,
          0.3147175499075859,
          0.16111352854345906,
          0.476272789511426,
          0.2825415902096285,
          0.14783685378914824,
          0.27233524159482636,
          0.1765263649559673,
          0.20063097841249578,
          0.32974937872134336,
          0.5201463643705667,
          0.17959725258029086,
          0.224347346426848,
          0.20543238887845516,
          0.43252604472354017,
          0.19175470789538926,
          0.25817369402111073,
          0.1969230080997804,
          0.3850706378895796,
          0.1416563787160005,
          0.35277588534307885,
          0.2734630919995753,
          0.28980814856603776,
          0.3577779390359798,
          0.34051700374099264,
          0.3392293836725591,
          0.2527776355410873,
          0.5151376930719475,
          0.14802859082031916,
          0.33024213376786443,
          0.2960527946934207,
          0.24285518272607998,
          0.36516715029067937,
          0.11299607696636622,
          0.4303303918981351,
          0.2893376814752492,
          0.4651944019090102,
          0.3131951226260989,
          0.18681130626031858,
          0.2587355392893542,
          0.19735755468508123,
          0.27128095853571366,
          0.17739719645934737,
          0.2992882739081072,
          0.3259192923274145,
          0.1622979320602768,
          0.3024573943486806,
          0.1470619571381765,
          0.30982167748482886,
          0.47142099155367867,
          0.6410731254132633,
          0.2676641186848626,
          0.3263231807204132,
          0.45395396106828234,
          0.2952573227846662,
          0.22545358384595143,
          0.16691930080048595,
          0.29913725743346276,
          0.60270197125055,
          0.19373301075180402,
          0.45531898631370166,
          0.23666731977674746,
          0.2174956891931015,
          0.45273926778935153,
          0.3131828482951327,
          0.3203177830859169,
          0.4925625940325767,
          0.4932015684099042,
          0.41033826252385774,
          0.2848886067979012,
          0.3409866660561397,
          0.2274301365268811,
          0.16328620563158686,
          0.30105682282745605,
          0.3499803985325188,
          0.38892728343040833,
          0.2036012143090002,
          0.3790011868313843,
          0.24199464279039581,
          0.6153153161259075,
          0.17549202868841485,
          0.40691312454586576,
          0.3213708976917732,
          0.6397729245014243,
          0.3290399480382012,
          0.27882400211665814,
          0.4527968031235115,
          0.23702263621599898,
          0.30584893019802034,
          0.23588193456235046,
          0.33408884361230123,
          0.41305147493510425,
          0.5298979311637704,
          0.2847525152563086,
          0.3019684247309833,
          0.23114792403886514,
          0.24516104121567647,
          0.2871548068572629,
          0.17259314768954948,
          0.16562574438170197,
          0.25215971651985464,
          0.10173698474322104,
          0.4006354488539646,
          0.2769122069397888,
          0.2320840358675071,
          0.43474106292937986,
          0.42848750868678165,
          0.3144462979973592,
          0.26725645961702565,
          0.3126239225545407,
          0.28072764662814365,
          0.5358917686356799,
          0.4689512444772964,
          0.17602601300314918,
          0.4518656877517532,
          0.25067393762183243,
          0.38560006192854124,
          0.23446363765410075,
          0.25398215800092944,
          0.22569000601039374,
          0.20497526530012355,
          0.15066455502652706,
          0.24433362115484744,
          0.3060529764236537,
          0.18480715951301235,
          0.06483751296657747,
          0.2717636928516689,
          0.3978849153900562,
          0.21087723696522478,
          0.2312209470058085,
          0.23011140827317184,
          0.7173498954212779,
          0.22882931579707172,
          0.12235569729865334,
          0.19680991969212885,
          0.20315753678726728,
          0.351598034735409,
          0.279311694650931,
          0.25067393762183227,
          0.16587652196728064,
          0.3262317884016888,
          0.27129183905835663,
          0.2554088514503918,
          0.3094025050441337,
          0.4701628194799353,
          0.25067393762183243,
          0.3098216774848288,
          0.3004751129391369,
          0.2815331840838096,
          0.4663802808245998,
          0.31283002855322223,
          0.3253146450676729,
          0.28819335241462507,
          0.29458821272392105,
          0.13281018148256366,
          0.21025108604997345,
          0.36095254303153235,
          0.13744462090455606,
          0.4221462210646763,
          0.11553488537147229,
          0.22393376333412685,
          0.4191008180213118,
          0.2573434580868669,
          0.31177501838316946,
          0.4342198343747636,
          0.2314152293802838,
          0.3611703865780146,
          0.2695013608862416,
          0.3054824791831415,
          0.2462969894327971,
          0.2354683999505206,
          0.2629664657502546,
          0.19387115460001605,
          0.4370394071657991,
          0.34292137109761694,
          0.26863074188904157,
          0.28088656184439076,
          0.2555027911556913,
          0.3562320239387592,
          0.5150454365823819,
          0.2813850477392176,
          0.18927292745966495,
          0.4039649180381168,
          0.6410731254132633,
          0.2683432591613727,
          0.23864887550813496,
          0.277417923917817,
          0.19687549023196166,
          0.23706731249948376,
          0.5479197529439543,
          0.25732060029611536,
          0.27765325301014754,
          0.36308214084636703,
          0.3260726110563867,
          0.4105346174327537,
          0.2051278735230242,
          0.3764879769167164,
          0.38209130993091134,
          0.13434947805922143,
          0.2990937365081122,
          0.27247141082472187,
          0.3453449373646016,
          0.48068265097201435,
          0.4325286099976333,
          0.15072355558862688,
          0.2706749711371333,
          0.2464395251755126,
          0.35707389002357126,
          0.27270471745532027,
          0.32906520664347605,
          0.15655192437268556,
          0.21900099468970963,
          0.305643143746786,
          0.4995619375977935,
          0.2551433683575814,
          0.5425323710593475,
          0.3577202077099966,
          0.2660424258678829,
          0.2472043671538633,
          0.42226829862006876,
          0.14485701421503844,
          0.3404929716388864,
          0.3245426268895842,
          0.629022395146866,
          0.37324247987277603,
          0.33288414200197625,
          0.18848717627717482,
          0.2800781691063266,
          0.45657187671029326,
          0.07059139901523925,
          0.3083784234505971,
          0.3033359713525371,
          0.17813603304743567,
          0.2738133799502121,
          0.28564761293064034,
          0.19254000852676878,
          0.34156703477102224,
          0.17499937783058997,
          0.045134658104636585,
          0.4599758010000373,
          0.15038301697603226,
          0.3215419448523975,
          0.39648269996605195,
          0.13864832958693188,
          0.37211832278588,
          0.386886772644575,
          0.573210045925775,
          0.5345050036786891,
          0.12729231462703522,
          0.5773232003035209,
          0.24206493716858601,
          0.126260135751726,
          0.23549362329280135,
          0.31325360090862875,
          0.3989832610008859,
          0.251124337617418,
          0.3267506919259842,
          0.2617090026823168,
          0.33158046822291554,
          0.13632274245630865,
          0.18303428790858012,
          0.2881943379286612,
          0.25558004978196586,
          0.27711181879896973,
          0.3367942246651435,
          0.2007738512305127,
          0.28316676020024856,
          0.11153727560522347,
          0.5044778757843393,
          0.16069390087811336,
          0.3300126316204742,
          0.20343613804060123,
          0.40200490416388784,
          0.16430581078820594,
          0.35288557545681803,
          0.3749992723942566,
          0.23079753693738606,
          0.3044711985343338,
          0.2319762128478867,
          0.3466642059017467,
          0.43241001910531235,
          0.29973586041303146,
          0.29057019394672967,
          0.12250301067830925,
          0.3237621928623851,
          0.235623324904731,
          0.12629387670406278,
          0.19581592670554368,
          0.22449349991506315,
          0.34390886645413343,
          0.34249498803441714,
          0.258281291376755,
          0.276106885298445,
          0.4927482078005732,
          0.30825590283017695,
          0.42704436342949187,
          0.10695117271222579,
          0.4261735110918856,
          0.4858985156397987,
          0.3690764336995874,
          0.41252981760951746,
          0.1313509643649778,
          0.27335836628223714,
          0.2147972381763094,
          0.526249292833601,
          0.21628388496850165,
          0.3753516690111986,
          0.29113392395408794,
          0.3030578355479206,
          0.15644069429733798,
          0.26123173197330407,
          0.28401777956377217,
          0.4305946941414217,
          0.32659568103281617,
          0.462705925626236,
          0.15886009982759605,
          0.15211017545732233,
          0.18972440530610307,
          0.3488767872881439,
          0.3359429221881248,
          0.36186489779815867,
          0.217591394457658,
          0.3805723923303552,
          0.31174721973720226,
          0.4335783310450282,
          0.27167724726462367,
          0.4385839264833053,
          0.38271293610133084,
          0.29213590750393964,
          0.4111467399805961,
          0.43702758584173435,
          0.4428042651371738,
          0.5766005052496563,
          0.23998812282077822,
          0.25766215171056395,
          0.5393618175851099,
          0.17111340052036017,
          0.22409698175529488,
          0.37691238917713227,
          0.4373452365659763,
          0.3306993796281554,
          0.28803627747387534,
          0.3619854754796282,
          0.36587910206541996,
          0.27892095268775563,
          0.33407312843189474,
          0.2590097633635816,
          0.35238621393280717,
          0.4098602732647077,
          0.27361807484908585,
          0.5333798903595054,
          0.31652135388369423,
          0.18118012993433844,
          0.2805276501047183,
          0.31525188833466333,
          0.18656602572465864,
          0.15493241444316258,
          0.2519917505404481,
          0.37628672748882047,
          0.3083660823261999,
          0.43446236353869194,
          0.23777162275470864,
          0.2220586345077125,
          0.3251295091814696,
          0.3017755284445167,
          0.18635166402156683,
          0.23678353641936928,
          0.3710463082617385,
          0.34228087253142736,
          0.38442331408678987,
          0.36839974484801463,
          0.24162385610555168,
          0.02870420347538007,
          0.3832029941517996,
          0.4639234489317098,
          0.2594250675818961,
          0.3870966665271415,
          0.3629531859181647,
          0.38872110439590835,
          0.3856881853509276,
          0.19611499117386644,
          0.35329615433714245,
          0.33267805708373777,
          0.43992902950698964,
          0.47856167489789014,
          0.4257003751614513,
          0.29793161069996354,
          0.33502584690665094,
          0.15756762424304155,
          0.3433890660242975,
          0.37216809201839623,
          0.2300233425996458,
          0.29540684263316713,
          0.36448142009884366,
          0.25747971588406726,
          0.12729231473801336,
          0.3371461586852408,
          0.25043964622607706,
          0.2166601084083734,
          0.2909831975668573,
          0.35313961046498016,
          0.24025845677567623,
          0.1951634582235825,
          0.23431372072596018,
          0.3553917998527814,
          0.4776031855513463,
          0.3405897456359977,
          0.25100685961952657,
          0.31462354855189484,
          0.33467005437750114,
          0.32783715162214555,
          0.27240288468888496,
          0.43182317292805383,
          0.5295291188348402,
          0.17050456536168962,
          0.490477206667329,
          0.29485405591123015,
          0.5062084647499574,
          0.19437148523791548,
          0.3182876789897011,
          0.172025192391199,
          0.22993238251321815,
          0.540328368945141,
          0.3482807860870951,
          0.3220275089706147,
          0.2863953008101398,
          0.28824261664514683,
          0.18406805904958956,
          0.28884896365675705,
          0.29006822099677315,
          0.16080997126436494,
          0.39795996396799144,
          0.2670295115164699,
          0.4776068880958837,
          0.10841520124773964,
          0.24360161196953953,
          0.39160769364318326,
          0.15800245330911789,
          0.30993975547464203,
          0.21001005191416755,
          0.29352701476820076,
          0.2878995499854825,
          0.21921030470652525,
          0.26672454276466423,
          0.22085143715103847,
          0.35153187893434856,
          0.5271874108902873,
          0.16737858207169554,
          0.19002174573568467,
          0.325026813076605,
          0.4119206973258892,
          0.380880670819674,
          0.32390570158427734,
          0.25067393762183204,
          0.27833598864937587,
          0.34182752140158346,
          0.14124836613995548,
          0.23876615737085571,
          0.33703361940305265,
          0.20400888128147188,
          0.3714221016042577,
          0.19605993413416328,
          0.3311499317363924,
          0.10804096038856013,
          0.445683153426474,
          0.3058400728480025,
          0.2866747873642061,
          0.4350559363335748,
          0.392160616950138,
          0.3544449454229315,
          0.30873822281727714,
          0.2718268783540185,
          0.19920305808242944,
          0.5181769032007242,
          0.32604350727378223,
          0.3535198696191141,
          0.20706169367253868,
          0.14011836023765656,
          0.5649649908103982,
          0.25370246198154184,
          0.3749701807774196,
          0.4581051826581518,
          0.40752757106470083,
          0.29914910283980756,
          0.46635947533884076,
          0.6133378022563805,
          0.2590252395735918,
          0.20178279628871032,
          0.2307939834709053,
          0.29681498473118584,
          0.16752369757155636,
          0.15242410156533207,
          0.2973147711421945,
          0.24433770399227653,
          0.5177451540076035,
          0.3552711602048795,
          0.15168148422401895,
          0.48177918036020806,
          0.2275417943797791,
          0.3490416507252298,
          0.2347164684190883,
          0.14948870588046692,
          0.2859617625184231,
          0.2838662819840783,
          0.31574841542246324,
          0.1633263756596774,
          0.25519214302512777,
          0.24840712699139297,
          0.41122159007731224,
          0.2439355694189463,
          0.4512401509604892,
          0.3259249043645844,
          0.2385406091172924,
          0.4340141991838938,
          0.23889060638832654,
          0.19285385696515217,
          0.16255649453972482,
          0.22419454928411658,
          0.008205609496095063,
          0.3685484550846828,
          0.3987498998362856,
          0.24671415103258632,
          0.17589025386369928,
          0.14436740560868375,
          0.38640185610701655,
          0.31533395409036447,
          0.37809191548976234,
          0.29859962337879775,
          0.23914210254758003,
          0.5098995710435876,
          0.22714085018612612,
          0.2969408841409024,
          0.1582511320070583,
          0.3093322644977308,
          0.3706656066163463,
          0.09197847743012282,
          0.342380460043592,
          0.25963424615695946,
          0.5101443481458527,
          0.3828089145719408,
          0.15642622859675176,
          0.11856041514715979,
          0.22905348970778586,
          0.363725349619228,
          0.20094467914860495,
          0.11978034238731514,
          0.34628721121172573,
          0.32542452610494865,
          0.31424663841330497,
          0.19418057887451462,
          0.24347130357869645,
          0.45117836436815983,
          0.3776727139130132,
          0.2646952777485895,
          0.3333182330698424,
          0.4411207395732737,
          0.18422948218912658,
          0.30259902147397594,
          0.2540177219817709,
          0.30562637969227285,
          0.1313607846526691,
          0.4239313861168248,
          0.3164364628278596,
          0.3963449948737998,
          0.39042398599676603,
          0.1960963322070106,
          0.44753221221373696,
          0.34821146150704085,
          0.2119380339447503,
          0.347504321093481,
          0.24114387660880862,
          0.585915484653772,
          0.4255711274453998,
          0.3710020165307152,
          0.15968918725020873,
          0.1639298530128998,
          0.24746160686488472,
          0.3110370543347525,
          0.43378469489243643,
          0.43505051704626074,
          0.15896304127583608,
          0.4159707467877076,
          0.3550823073761902,
          0.3408034240001273,
          0.4986950374972035,
          0.22017189445348964,
          0.3448232433358788,
          0.32966141130969895,
          0.532761436201769,
          0.24491870475281483,
          0.15340700590589026,
          0.5755202120149929,
          0.2722380049272232,
          0.3407957197774209,
          0.16980321186395608,
          0.3702520264215309,
          0.3518359251645003,
          0.16288319781056965,
          0.5436397514348859,
          0.1009583381569488,
          0.4855396184579795,
          0.3524459541602162,
          0.29439567020644375,
          0.3391179322909147,
          0.21180898790436853,
          0.605306812779322,
          0.23314331798484084,
          0.37396604694505725,
          0.33888366519501134,
          0.2758192628600574,
          0.22003048280057955,
          0.1932910942881966,
          0.09501551314222956,
          0.14272150342411172,
          0.34895248540504437,
          0.3299409728136607,
          0.30815476885987336,
          0.3155260808126404,
          0.2307842813103931,
          0.1323664771163931,
          0.2390730781337866,
          0.3408274844726735,
          0.24819964749632487,
          0.42909273644797186,
          0.6410731254132537,
          0.5076396124664357,
          0.10181988348959975,
          0.1300564430338692,
          0.18777155955627356,
          0.21868383836171362,
          0.19901810570702022,
          0.43795456475029154,
          0.5807917613933004,
          0.18610264759968678,
          0.14799144096139427,
          0.17772286035740437,
          0.39159242985523923,
          0.3367043357771511,
          0.12339323849553586,
          0.25826172036055606,
          0.48581979984668777,
          0.28442294092290055,
          0.20814923104915195,
          0.3147161085360808,
          0.1877692212560478,
          0.20303706522333562,
          0.3075637751150725,
          0.2586578819319156,
          0.09221900429631649,
          0.31223216889125766,
          0.1123698018856378,
          0.31123134975911587,
          0.13106310869147708,
          0.26211216609068566,
          0.14508917783829733,
          0.3844233140867904,
          0.5259923596557207,
          0.2711526857729909,
          0.29959781760285537,
          0.19192788711933303,
          0.2681522791402225,
          0.15447016999159013,
          0.39678219716046687,
          0.3071487668136202,
          0.27151596861096394,
          0.26186160682990806,
          0.23547337609218638,
          0.253609749010032,
          0.28425886526316685,
          0.2066914349383767,
          0.2504925090313574,
          0.20937076123243703,
          0.19816758450371372,
          0.008205609496095025,
          0.14583737156515508,
          0.320458408618719,
          0.3837782296711611,
          0.1286593512901239,
          0.38112838221215145,
          0.2506739376218324,
          0.3484694979967437,
          0.2644789604893412,
          0.38084283132942137,
          0.528759236588851,
          0.24181116420383628,
          0.3262766297906808,
          0.3003615114787543,
          0.33610299978391084,
          0.22094896058817629,
          0.5226359096269426,
          0.4852949094280754,
          0.28969808767256705,
          0.29047510781062724,
          0.4616941542406071,
          0.08376008393113663,
          0.5571243349921355,
          0.27717139430541843,
          0.44793662989099303,
          0.3134051497780506,
          0.17814710472396317,
          0.22135465183894065,
          0.33956152432632125,
          0.21266591303165613,
          0.29830705925325673,
          0.3069979363052965,
          0.40584610801536236,
          0.25215990176604874,
          0.18824420279161103,
          0.26070955888973985,
          0.13200294264403692,
          0.2036012143090002,
          0.3549709204703686,
          0.21966150344561317,
          0.5825600868690609,
          0.4310620127319309,
          0.2182414775571116,
          0.24887236122106662,
          0.3578345484085722,
          0.35478198553273654,
          0.4094657694078379,
          0.2685659270241646,
          0.17414566295121675,
          0.41344169572996436,
          0.2612389014329501,
          0.22896099898328598,
          0.18241252614035214,
          0.29793185553042606,
          0.21602251972071035,
          0.3005129874277248,
          0.18354875778696927,
          0.2089639651166824,
          0.3599098144411183,
          0.29309315055970664,
          0.21191072559191465,
          0.33741922061022145,
          0.14004878744347038,
          0.362486733574349,
          0.3889153135791932,
          0.1540743351782247,
          0.24642784016030678,
          0.3140522618206393,
          0.6516957987800268,
          0.305750907583012,
          0.3543349469139174,
          0.5059249559319027,
          0.2883788562812202,
          0.2260261502222079,
          0.3668321632274969,
          0.43472542871426434,
          0.12973272637584304,
          0.2137952896566223,
          0.1951076268390037,
          0.19145377962867868,
          0.18997667275771046,
          0.47839983864303215,
          0.3299328819447648,
          0.05991004100881403,
          0.22067976476349244,
          0.4813016016769813,
          0.3069429467271658,
          0.30098244630745585,
          0.2895126506694707
         ]
        }
       ],
       "layout": {
        "template": {
         "data": {
          "bar": [
           {
            "error_x": {
             "color": "#2a3f5f"
            },
            "error_y": {
             "color": "#2a3f5f"
            },
            "marker": {
             "line": {
              "color": "#E5ECF6",
              "width": 0.5
             },
             "pattern": {
              "fillmode": "overlay",
              "size": 10,
              "solidity": 0.2
             }
            },
            "type": "bar"
           }
          ],
          "barpolar": [
           {
            "marker": {
             "line": {
              "color": "#E5ECF6",
              "width": 0.5
             },
             "pattern": {
              "fillmode": "overlay",
              "size": 10,
              "solidity": 0.2
             }
            },
            "type": "barpolar"
           }
          ],
          "carpet": [
           {
            "aaxis": {
             "endlinecolor": "#2a3f5f",
             "gridcolor": "white",
             "linecolor": "white",
             "minorgridcolor": "white",
             "startlinecolor": "#2a3f5f"
            },
            "baxis": {
             "endlinecolor": "#2a3f5f",
             "gridcolor": "white",
             "linecolor": "white",
             "minorgridcolor": "white",
             "startlinecolor": "#2a3f5f"
            },
            "type": "carpet"
           }
          ],
          "choropleth": [
           {
            "colorbar": {
             "outlinewidth": 0,
             "ticks": ""
            },
            "type": "choropleth"
           }
          ],
          "contour": [
           {
            "colorbar": {
             "outlinewidth": 0,
             "ticks": ""
            },
            "colorscale": [
             [
              0,
              "#0d0887"
             ],
             [
              0.1111111111111111,
              "#46039f"
             ],
             [
              0.2222222222222222,
              "#7201a8"
             ],
             [
              0.3333333333333333,
              "#9c179e"
             ],
             [
              0.4444444444444444,
              "#bd3786"
             ],
             [
              0.5555555555555556,
              "#d8576b"
             ],
             [
              0.6666666666666666,
              "#ed7953"
             ],
             [
              0.7777777777777778,
              "#fb9f3a"
             ],
             [
              0.8888888888888888,
              "#fdca26"
             ],
             [
              1,
              "#f0f921"
             ]
            ],
            "type": "contour"
           }
          ],
          "contourcarpet": [
           {
            "colorbar": {
             "outlinewidth": 0,
             "ticks": ""
            },
            "type": "contourcarpet"
           }
          ],
          "heatmap": [
           {
            "colorbar": {
             "outlinewidth": 0,
             "ticks": ""
            },
            "colorscale": [
             [
              0,
              "#0d0887"
             ],
             [
              0.1111111111111111,
              "#46039f"
             ],
             [
              0.2222222222222222,
              "#7201a8"
             ],
             [
              0.3333333333333333,
              "#9c179e"
             ],
             [
              0.4444444444444444,
              "#bd3786"
             ],
             [
              0.5555555555555556,
              "#d8576b"
             ],
             [
              0.6666666666666666,
              "#ed7953"
             ],
             [
              0.7777777777777778,
              "#fb9f3a"
             ],
             [
              0.8888888888888888,
              "#fdca26"
             ],
             [
              1,
              "#f0f921"
             ]
            ],
            "type": "heatmap"
           }
          ],
          "histogram": [
           {
            "marker": {
             "pattern": {
              "fillmode": "overlay",
              "size": 10,
              "solidity": 0.2
             }
            },
            "type": "histogram"
           }
          ],
          "histogram2d": [
           {
            "colorbar": {
             "outlinewidth": 0,
             "ticks": ""
            },
            "colorscale": [
             [
              0,
              "#0d0887"
             ],
             [
              0.1111111111111111,
              "#46039f"
             ],
             [
              0.2222222222222222,
              "#7201a8"
             ],
             [
              0.3333333333333333,
              "#9c179e"
             ],
             [
              0.4444444444444444,
              "#bd3786"
             ],
             [
              0.5555555555555556,
              "#d8576b"
             ],
             [
              0.6666666666666666,
              "#ed7953"
             ],
             [
              0.7777777777777778,
              "#fb9f3a"
             ],
             [
              0.8888888888888888,
              "#fdca26"
             ],
             [
              1,
              "#f0f921"
             ]
            ],
            "type": "histogram2d"
           }
          ],
          "histogram2dcontour": [
           {
            "colorbar": {
             "outlinewidth": 0,
             "ticks": ""
            },
            "colorscale": [
             [
              0,
              "#0d0887"
             ],
             [
              0.1111111111111111,
              "#46039f"
             ],
             [
              0.2222222222222222,
              "#7201a8"
             ],
             [
              0.3333333333333333,
              "#9c179e"
             ],
             [
              0.4444444444444444,
              "#bd3786"
             ],
             [
              0.5555555555555556,
              "#d8576b"
             ],
             [
              0.6666666666666666,
              "#ed7953"
             ],
             [
              0.7777777777777778,
              "#fb9f3a"
             ],
             [
              0.8888888888888888,
              "#fdca26"
             ],
             [
              1,
              "#f0f921"
             ]
            ],
            "type": "histogram2dcontour"
           }
          ],
          "mesh3d": [
           {
            "colorbar": {
             "outlinewidth": 0,
             "ticks": ""
            },
            "type": "mesh3d"
           }
          ],
          "parcoords": [
           {
            "line": {
             "colorbar": {
              "outlinewidth": 0,
              "ticks": ""
             }
            },
            "type": "parcoords"
           }
          ],
          "pie": [
           {
            "automargin": true,
            "type": "pie"
           }
          ],
          "scatter": [
           {
            "fillpattern": {
             "fillmode": "overlay",
             "size": 10,
             "solidity": 0.2
            },
            "type": "scatter"
           }
          ],
          "scatter3d": [
           {
            "line": {
             "colorbar": {
              "outlinewidth": 0,
              "ticks": ""
             }
            },
            "marker": {
             "colorbar": {
              "outlinewidth": 0,
              "ticks": ""
             }
            },
            "type": "scatter3d"
           }
          ],
          "scattercarpet": [
           {
            "marker": {
             "colorbar": {
              "outlinewidth": 0,
              "ticks": ""
             }
            },
            "type": "scattercarpet"
           }
          ],
          "scattergeo": [
           {
            "marker": {
             "colorbar": {
              "outlinewidth": 0,
              "ticks": ""
             }
            },
            "type": "scattergeo"
           }
          ],
          "scattergl": [
           {
            "marker": {
             "colorbar": {
              "outlinewidth": 0,
              "ticks": ""
             }
            },
            "type": "scattergl"
           }
          ],
          "scattermap": [
           {
            "marker": {
             "colorbar": {
              "outlinewidth": 0,
              "ticks": ""
             }
            },
            "type": "scattermap"
           }
          ],
          "scattermapbox": [
           {
            "marker": {
             "colorbar": {
              "outlinewidth": 0,
              "ticks": ""
             }
            },
            "type": "scattermapbox"
           }
          ],
          "scatterpolar": [
           {
            "marker": {
             "colorbar": {
              "outlinewidth": 0,
              "ticks": ""
             }
            },
            "type": "scatterpolar"
           }
          ],
          "scatterpolargl": [
           {
            "marker": {
             "colorbar": {
              "outlinewidth": 0,
              "ticks": ""
             }
            },
            "type": "scatterpolargl"
           }
          ],
          "scatterternary": [
           {
            "marker": {
             "colorbar": {
              "outlinewidth": 0,
              "ticks": ""
             }
            },
            "type": "scatterternary"
           }
          ],
          "surface": [
           {
            "colorbar": {
             "outlinewidth": 0,
             "ticks": ""
            },
            "colorscale": [
             [
              0,
              "#0d0887"
             ],
             [
              0.1111111111111111,
              "#46039f"
             ],
             [
              0.2222222222222222,
              "#7201a8"
             ],
             [
              0.3333333333333333,
              "#9c179e"
             ],
             [
              0.4444444444444444,
              "#bd3786"
             ],
             [
              0.5555555555555556,
              "#d8576b"
             ],
             [
              0.6666666666666666,
              "#ed7953"
             ],
             [
              0.7777777777777778,
              "#fb9f3a"
             ],
             [
              0.8888888888888888,
              "#fdca26"
             ],
             [
              1,
              "#f0f921"
             ]
            ],
            "type": "surface"
           }
          ],
          "table": [
           {
            "cells": {
             "fill": {
              "color": "#EBF0F8"
             },
             "line": {
              "color": "white"
             }
            },
            "header": {
             "fill": {
              "color": "#C8D4E3"
             },
             "line": {
              "color": "white"
             }
            },
            "type": "table"
           }
          ]
         },
         "layout": {
          "annotationdefaults": {
           "arrowcolor": "#2a3f5f",
           "arrowhead": 0,
           "arrowwidth": 1
          },
          "autotypenumbers": "strict",
          "coloraxis": {
           "colorbar": {
            "outlinewidth": 0,
            "ticks": ""
           }
          },
          "colorscale": {
           "diverging": [
            [
             0,
             "#8e0152"
            ],
            [
             0.1,
             "#c51b7d"
            ],
            [
             0.2,
             "#de77ae"
            ],
            [
             0.3,
             "#f1b6da"
            ],
            [
             0.4,
             "#fde0ef"
            ],
            [
             0.5,
             "#f7f7f7"
            ],
            [
             0.6,
             "#e6f5d0"
            ],
            [
             0.7,
             "#b8e186"
            ],
            [
             0.8,
             "#7fbc41"
            ],
            [
             0.9,
             "#4d9221"
            ],
            [
             1,
             "#276419"
            ]
           ],
           "sequential": [
            [
             0,
             "#0d0887"
            ],
            [
             0.1111111111111111,
             "#46039f"
            ],
            [
             0.2222222222222222,
             "#7201a8"
            ],
            [
             0.3333333333333333,
             "#9c179e"
            ],
            [
             0.4444444444444444,
             "#bd3786"
            ],
            [
             0.5555555555555556,
             "#d8576b"
            ],
            [
             0.6666666666666666,
             "#ed7953"
            ],
            [
             0.7777777777777778,
             "#fb9f3a"
            ],
            [
             0.8888888888888888,
             "#fdca26"
            ],
            [
             1,
             "#f0f921"
            ]
           ],
           "sequentialminus": [
            [
             0,
             "#0d0887"
            ],
            [
             0.1111111111111111,
             "#46039f"
            ],
            [
             0.2222222222222222,
             "#7201a8"
            ],
            [
             0.3333333333333333,
             "#9c179e"
            ],
            [
             0.4444444444444444,
             "#bd3786"
            ],
            [
             0.5555555555555556,
             "#d8576b"
            ],
            [
             0.6666666666666666,
             "#ed7953"
            ],
            [
             0.7777777777777778,
             "#fb9f3a"
            ],
            [
             0.8888888888888888,
             "#fdca26"
            ],
            [
             1,
             "#f0f921"
            ]
           ]
          },
          "colorway": [
           "#636efa",
           "#EF553B",
           "#00cc96",
           "#ab63fa",
           "#FFA15A",
           "#19d3f3",
           "#FF6692",
           "#B6E880",
           "#FF97FF",
           "#FECB52"
          ],
          "font": {
           "color": "#2a3f5f"
          },
          "geo": {
           "bgcolor": "white",
           "lakecolor": "white",
           "landcolor": "#E5ECF6",
           "showlakes": true,
           "showland": true,
           "subunitcolor": "white"
          },
          "hoverlabel": {
           "align": "left"
          },
          "hovermode": "closest",
          "mapbox": {
           "style": "light"
          },
          "paper_bgcolor": "white",
          "plot_bgcolor": "#E5ECF6",
          "polar": {
           "angularaxis": {
            "gridcolor": "white",
            "linecolor": "white",
            "ticks": ""
           },
           "bgcolor": "#E5ECF6",
           "radialaxis": {
            "gridcolor": "white",
            "linecolor": "white",
            "ticks": ""
           }
          },
          "scene": {
           "xaxis": {
            "backgroundcolor": "#E5ECF6",
            "gridcolor": "white",
            "gridwidth": 2,
            "linecolor": "white",
            "showbackground": true,
            "ticks": "",
            "zerolinecolor": "white"
           },
           "yaxis": {
            "backgroundcolor": "#E5ECF6",
            "gridcolor": "white",
            "gridwidth": 2,
            "linecolor": "white",
            "showbackground": true,
            "ticks": "",
            "zerolinecolor": "white"
           },
           "zaxis": {
            "backgroundcolor": "#E5ECF6",
            "gridcolor": "white",
            "gridwidth": 2,
            "linecolor": "white",
            "showbackground": true,
            "ticks": "",
            "zerolinecolor": "white"
           }
          },
          "shapedefaults": {
           "line": {
            "color": "#2a3f5f"
           }
          },
          "ternary": {
           "aaxis": {
            "gridcolor": "white",
            "linecolor": "white",
            "ticks": ""
           },
           "baxis": {
            "gridcolor": "white",
            "linecolor": "white",
            "ticks": ""
           },
           "bgcolor": "#E5ECF6",
           "caxis": {
            "gridcolor": "white",
            "linecolor": "white",
            "ticks": ""
           }
          },
          "title": {
           "x": 0.05
          },
          "xaxis": {
           "automargin": true,
           "gridcolor": "white",
           "linecolor": "white",
           "ticks": "",
           "title": {
            "standoff": 15
           },
           "zerolinecolor": "white",
           "zerolinewidth": 2
          },
          "yaxis": {
           "automargin": true,
           "gridcolor": "white",
           "linecolor": "white",
           "ticks": "",
           "title": {
            "standoff": 15
           },
           "zerolinecolor": "white",
           "zerolinewidth": 2
          }
         }
        },
        "title": {
         "text": "Sample of Random Portfolios"
        },
        "xaxis": {
         "title": {
          "text": "Volatility (Standard Deviation)"
         }
        },
        "yaxis": {
         "title": {
          "text": "Annualised Returns"
         }
        }
       }
      }
     },
     "metadata": {},
     "output_type": "display_data"
    }
   ],
   "source": [
    "fig1 = go.Figure()\n",
    "\n",
    "fig1.add_trace(go.Scatter(\n",
    "    x=[p[\"variance\"]**0.5 for p in all_portfolios],\n",
    "    y=[p[\"return\"] for p in all_portfolios],\n",
    "    mode='markers',\n",
    "    marker=dict(\n",
    "        color=[p[\"return\"] / (p[\"variance\"]**0.5) for p in all_portfolios],\n",
    "        showscale=True,\n",
    "        size=7,\n",
    "        line=dict(width=1),\n",
    "        colorscale=\"RdBu\",\n",
    "        colorbar=dict(title=\"Sharpe<br>Ratio\")\n",
    "    ),\n",
    "    hoverinfo='text',\n",
    "    text=[\n",
    "        f\"Return: {p['return']:.2%}<br>Volatility: {p['variance']**0.5:.2f}<br>\" +\n",
    "        \"<br>\".join([f\"{p['tickers'][i]}: Weight={p['weights'][i]:.2f}\" for i in range(len(p['tickers']))])\n",
    "        for p in all_portfolios\n",
    "    ]\n",
    "))\n",
    "\n",
    "fig1.update_layout(\n",
    "    xaxis=dict(title='Volatility (Standard Deviation)'),\n",
    "    yaxis=dict(title='Annualised Returns'),\n",
    "    title='Sample of Random Portfolios'\n",
    ")\n",
    "\n",
    "fig1.show()"
   ]
  },
  {
   "cell_type": "code",
   "execution_count": 9,
   "metadata": {},
   "outputs": [
    {
     "data": {
      "application/vnd.plotly.v1+json": {
       "config": {
        "plotlyServerURL": "https://plot.ly"
       },
       "data": [
        {
         "hoverinfo": "text",
         "marker": {
          "color": [
           2.809638926792037,
           2.6213189895324334,
           2.3199573033340846,
           1.6524191256758307,
           2.8645966169079706,
           2.6377054346861457,
           3.410965558278518,
           4.166267606608494,
           4.4862497108548824,
           3.424957785937898,
           3.723791614611177,
           3.4159323548669165,
           2.817072563423864,
           3.773840376352949,
           2.735595404560444,
           3.028993224223194,
           4.651955871613941,
           3.9269903074150143,
           3.4273375296368993,
           4.120688927654955,
           3.9983535827159824,
           2.0505958863660996,
           3.4663295649772152,
           3.177597582163224,
           3.7663662447991673,
           3.0160047513322925,
           3.193825188004131,
           3.834453570533829,
           2.0513572700866867,
           3.751084827478135,
           4.412608883821137,
           4.095204875120513,
           2.7414464269923418,
           2.7122258754310216,
           3.250257067894231,
           3.752626622706603,
           3.263886903593904,
           3.9799595443276727,
           3.5957290273147575,
           2.0610417786753166,
           4.750654206927781,
           3.4930761227471727,
           4.075215481649884,
           3.2502570678942315,
           4.066571870875386,
           4.841799035272103,
           3.752809144939324,
           4.7251162132966185,
           4.575126641739115,
           3.250257067894194,
           4.577687070427358,
           2.816667181627296
          ],
          "colorbar": {
           "title": {
            "text": "Sharpe<br>Ratio"
           }
          },
          "colorscale": [
           [
            0,
            "rgb(103,0,31)"
           ],
           [
            0.1,
            "rgb(178,24,43)"
           ],
           [
            0.2,
            "rgb(214,96,77)"
           ],
           [
            0.3,
            "rgb(244,165,130)"
           ],
           [
            0.4,
            "rgb(253,219,199)"
           ],
           [
            0.5,
            "rgb(247,247,247)"
           ],
           [
            0.6,
            "rgb(209,229,240)"
           ],
           [
            0.7,
            "rgb(146,197,222)"
           ],
           [
            0.8,
            "rgb(67,147,195)"
           ],
           [
            0.9,
            "rgb(33,102,172)"
           ],
           [
            1,
            "rgb(5,48,97)"
           ]
          ],
          "line": {
           "width": 1
          },
          "showscale": true,
          "size": 7
         },
         "mode": "markers",
         "name": "Portfolios",
         "text": [
          "Return: 29.84%<br>Volatility: 0.11<br>ADBE_Close: Weight=0.23<br>PM_Close: Weight=0.00<br>HON_Close: Weight=0.77",
          "Return: 34.66%<br>Volatility: 0.13<br>WMT_Close: Weight=0.63<br>TMO_Close: Weight=0.34<br>NKE_Close: Weight=0.03",
          "Return: 53.18%<br>Volatility: 0.23<br>ETN_Close: Weight=0.18<br>BABA_Close: Weight=0.82<br>MDT_Close: Weight=0.00",
          "Return: 16.08%<br>Volatility: 0.10<br>JNJ_Close: Weight=0.72<br>REGN_Close: Weight=0.00<br>ETN_Close: Weight=0.28",
          "Return: 25.51%<br>Volatility: 0.09<br>PFE_Close: Weight=0.00<br>SO_Close: Weight=0.00<br>MS_Close: Weight=0.03<br>JNJ_Close: Weight=0.41<br>HD_Close: Weight=0.55",
          "Return: 32.13%<br>Volatility: 0.12<br>ACN_Close: Weight=0.48<br>QCOM_Close: Weight=0.00<br>TXN_Close: Weight=0.49<br>TSLA_Close: Weight=0.03",
          "Return: 27.95%<br>Volatility: 0.08<br>LMT_Close: Weight=0.28<br>NEE_Close: Weight=0.38<br>ISRG_Close: Weight=0.24<br>VZ_Close: Weight=0.10",
          "Return: 53.85%<br>Volatility: 0.13<br>TXN_Close: Weight=0.02<br>ABT_Close: Weight=0.28<br>CAT_Close: Weight=0.44<br>PYPL_Close: Weight=0.26<br>GILD_Close: Weight=0.00",
          "Return: 41.68%<br>Volatility: 0.09<br>BA_Close: Weight=0.35<br>NEE_Close: Weight=0.40<br>QCOM_Close: Weight=0.00<br>T_Close: Weight=0.00<br>DE_Close: Weight=0.25",
          "Return: 57.21%<br>Volatility: 0.17<br>BA_Close: Weight=0.94<br>RDY_Close: Weight=0.00<br>BAC_Close: Weight=0.06<br>GIS_Close: Weight=0.00",
          "Return: 45.37%<br>Volatility: 0.12<br>PEP_Close: Weight=0.29<br>GIS_Close: Weight=0.00<br>CAT_Close: Weight=0.50<br>ADBE_Close: Weight=0.21",
          "Return: 59.54%<br>Volatility: 0.17<br>GILD_Close: Weight=0.00<br>BA_Close: Weight=1.00<br>REGN_Close: Weight=0.00<br>MDT_Close: Weight=0.00",
          "Return: 63.95%<br>Volatility: 0.23<br>BIIB_Close: Weight=0.00<br>CSCO_Close: Weight=0.02<br>PYPL_Close: Weight=0.98",
          "Return: 44.24%<br>Volatility: 0.12<br>NKE_Close: Weight=0.07<br>CSCO_Close: Weight=0.02<br>BA_Close: Weight=0.56<br>K_Close: Weight=0.00<br>MMM_Close: Weight=0.35",
          "Return: 20.91%<br>Volatility: 0.08<br>HON_Close: Weight=0.62<br>ZBH_Close: Weight=0.00<br>PEP_Close: Weight=0.15<br>AEP_Close: Weight=0.23",
          "Return: 23.61%<br>Volatility: 0.08<br>META_Close: Weight=0.21<br>GS_Close: Weight=0.01<br>TMO_Close: Weight=0.13<br>NEE_Close: Weight=0.44<br>SYY_Close: Weight=0.20",
          "Return: 44.24%<br>Volatility: 0.10<br>MCD_Close: Weight=0.35<br>BA_Close: Weight=0.37<br>HD_Close: Weight=0.28",
          "Return: 47.14%<br>Volatility: 0.12<br>BA_Close: Weight=0.53<br>XOM_Close: Weight=0.06<br>MA_Close: Weight=0.42",
          "Return: 27.82%<br>Volatility: 0.08<br>PFE_Close: Weight=0.11<br>GILD_Close: Weight=0.00<br>HD_Close: Weight=0.34<br>V_Close: Weight=0.44<br>SYY_Close: Weight=0.11",
          "Return: 50.64%<br>Volatility: 0.12<br>DE_Close: Weight=0.19<br>F_Close: Weight=0.00<br>CAT_Close: Weight=0.36<br>ISRG_Close: Weight=0.25<br>MSFT_Close: Weight=0.20",
          "Return: 45.28%<br>Volatility: 0.11<br>MSFT_Close: Weight=0.36<br>BA_Close: Weight=0.51<br>GS_Close: Weight=0.00<br>EXC_Close: Weight=0.12<br>ORCL_Close: Weight=0.01",
          "Return: 80.73%<br>Volatility: 0.39<br>IBM_Close: Weight=0.00<br>NVDA_Close: Weight=1.00<br>BSX_Close: Weight=0.00",
          "Return: 29.99%<br>Volatility: 0.09<br>MO_Close: Weight=0.00<br>MMM_Close: Weight=0.22<br>MSFT_Close: Weight=0.29<br>AEP_Close: Weight=0.19<br>UNH_Close: Weight=0.29",
          "Return: 25.40%<br>Volatility: 0.08<br>ABT_Close: Weight=0.28<br>AMGN_Close: Weight=0.00<br>DUK_Close: Weight=0.17<br>HD_Close: Weight=0.40<br>SAP_Close: Weight=0.15",
          "Return: 55.29%<br>Volatility: 0.15<br>ABBV_Close: Weight=0.55<br>RMD_Close: Weight=0.00<br>PYPL_Close: Weight=0.38<br>COST_Close: Weight=0.07<br>GOOGL_Close: Weight=0.00",
          "Return: 60.88%<br>Volatility: 0.20<br>F_Close: Weight=0.12<br>PYPL_Close: Weight=0.70<br>NVDA_Close: Weight=0.19",
          "Return: 24.32%<br>Volatility: 0.08<br>HON_Close: Weight=0.37<br>MRK_Close: Weight=0.00<br>LMT_Close: Weight=0.26<br>NEE_Close: Weight=0.37",
          "Return: 31.26%<br>Volatility: 0.08<br>DIS_Close: Weight=0.09<br>HON_Close: Weight=0.37<br>MCD_Close: Weight=0.35<br>ISRG_Close: Weight=0.19<br>SNAP_Close: Weight=0.00",
          "Return: 76.04%<br>Volatility: 0.37<br>IBM_Close: Weight=0.00<br>NVDA_Close: Weight=0.94<br>F_Close: Weight=0.06",
          "Return: 28.66%<br>Volatility: 0.08<br>NEE_Close: Weight=0.34<br>SYY_Close: Weight=0.05<br>HD_Close: Weight=0.34<br>AMZN_Close: Weight=0.12<br>ACN_Close: Weight=0.15",
          "Return: 56.97%<br>Volatility: 0.13<br>TMO_Close: Weight=0.06<br>BMY_Close: Weight=0.00<br>GIS_Close: Weight=0.00<br>CAT_Close: Weight=0.47<br>ABBV_Close: Weight=0.48",
          "Return: 37.44%<br>Volatility: 0.09<br>NEE_Close: Weight=0.41<br>CPB_Close: Weight=0.00<br>BA_Close: Weight=0.42<br>EMR_Close: Weight=0.12<br>NKE_Close: Weight=0.05",
          "Return: 20.54%<br>Volatility: 0.07<br>KO_Close: Weight=0.38<br>K_Close: Weight=0.00<br>HON_Close: Weight=0.62",
          "Return: 19.69%<br>Volatility: 0.07<br>MMM_Close: Weight=0.38<br>EXC_Close: Weight=0.07<br>CVX_Close: Weight=0.16<br>BAC_Close: Weight=0.10<br>PEP_Close: Weight=0.29",
          "Return: 64.11%<br>Volatility: 0.20<br>CAT_Close: Weight=1.00<br>PM_Close: Weight=0.00<br>SNAP_Close: Weight=0.00",
          "Return: 32.63%<br>Volatility: 0.09<br>MCD_Close: Weight=0.40<br>KO_Close: Weight=0.40<br>REGN_Close: Weight=0.00<br>BABA_Close: Weight=0.20",
          "Return: 60.27%<br>Volatility: 0.18<br>CAT_Close: Weight=0.94<br>REGN_Close: Weight=0.06<br>RDY_Close: Weight=0.00",
          "Return: 61.53%<br>Volatility: 0.15<br>GE_Close: Weight=0.00<br>DIS_Close: Weight=0.00<br>BA_Close: Weight=0.65<br>PYPL_Close: Weight=0.35<br>T_Close: Weight=0.00",
          "Return: 27.18%<br>Volatility: 0.08<br>JNJ_Close: Weight=0.17<br>EMR_Close: Weight=0.00<br>MCD_Close: Weight=0.37<br>HON_Close: Weight=0.42<br>DIS_Close: Weight=0.04",
          "Return: 71.73%<br>Volatility: 0.35<br>TSLA_Close: Weight=0.10<br>F_Close: Weight=0.05<br>NVDA_Close: Weight=0.86",
          "Return: 47.02%<br>Volatility: 0.10<br>WMT_Close: Weight=0.22<br>MCD_Close: Weight=0.27<br>ISRG_Close: Weight=0.13<br>ABBV_Close: Weight=0.26<br>BABA_Close: Weight=0.12",
          "Return: 24.63%<br>Volatility: 0.07<br>NEE_Close: Weight=0.37<br>SYY_Close: Weight=0.13<br>V_Close: Weight=0.31<br>JPM_Close: Weight=0.18<br>PM_Close: Weight=0.00",
          "Return: 35.62%<br>Volatility: 0.09<br>BABA_Close: Weight=0.14<br>MCD_Close: Weight=0.33<br>INTC_Close: Weight=0.09<br>TXN_Close: Weight=0.09<br>NEE_Close: Weight=0.35",
          "Return: 64.11%<br>Volatility: 0.20<br>CAT_Close: Weight=1.00<br>SNAP_Close: Weight=0.00<br>RDY_Close: Weight=0.00",
          "Return: 57.32%<br>Volatility: 0.14<br>AMZN_Close: Weight=0.03<br>PYPL_Close: Weight=0.28<br>MSFT_Close: Weight=0.19<br>CAT_Close: Weight=0.48<br>TMO_Close: Weight=0.03",
          "Return: 50.45%<br>Volatility: 0.10<br>HD_Close: Weight=0.27<br>UA_Close: Weight=0.00<br>EW_Close: Weight=0.00<br>ABBV_Close: Weight=0.33<br>BA_Close: Weight=0.40",
          "Return: 29.10%<br>Volatility: 0.08<br>WMT_Close: Weight=0.24<br>MMM_Close: Weight=0.24<br>V_Close: Weight=0.29<br>SRE_Close: Weight=0.00<br>KO_Close: Weight=0.23",
          "Return: 57.55%<br>Volatility: 0.12<br>BABA_Close: Weight=0.13<br>MS_Close: Weight=0.00<br>RDY_Close: Weight=0.00<br>ABBV_Close: Weight=0.41<br>BA_Close: Weight=0.46",
          "Return: 54.36%<br>Volatility: 0.12<br>NKE_Close: Weight=0.06<br>ABBV_Close: Weight=0.43<br>BA_Close: Weight=0.51<br>GS_Close: Weight=0.00<br>BTI_Close: Weight=0.00",
          "Return: 64.11%<br>Volatility: 0.20<br>CAT_Close: Weight=1.00<br>AMD_Close: Weight=0.00<br>GS_Close: Weight=0.00",
          "Return: 52.26%<br>Volatility: 0.11<br>REGN_Close: Weight=0.00<br>BA_Close: Weight=0.39<br>CAT_Close: Weight=0.33<br>ABT_Close: Weight=0.28",
          "Return: 65.17%<br>Volatility: 0.23<br>MDT_Close: Weight=0.00<br>PYPL_Close: Weight=1.00<br>RDY_Close: Weight=0.00"
         ],
         "type": "scatter",
         "x": [
          0.10619324686808046,
          0.13220844076082366,
          0.22922975781702365,
          0.09732695983782365,
          0.08906344562271365,
          0.12180486508288442,
          0.08192933975038422,
          0.12924791358837798,
          0.09290980660714634,
          0.16703436903881896,
          0.12183069240945368,
          0.17430309924035992,
          0.22700794385387726,
          0.11723835938125965,
          0.07643091104188131,
          0.07795961821039589,
          0.0951101863706198,
          0.12004070931396159,
          0.08118490743947034,
          0.12290398299583025,
          0.11325537110123608,
          0.3937109568062766,
          0.08653126869091052,
          0.07992216207891945,
          0.1467874398782069,
          0.20184544275115138,
          0.07615976269719384,
          0.0815342401625618,
          0.37067420289230174,
          0.07641016002023499,
          0.12910297517620087,
          0.09142521860535206,
          0.07493576633698304,
          0.07260568151186367,
          0.197237668289604,
          0.08695860620555178,
          0.18465773755423567,
          0.15460340972632966,
          0.0755795808825501,
          0.34805208843575053,
          0.09896801556179496,
          0.07051005497100184,
          0.08741427920629508,
          0.19723766828960398,
          0.14095657574161688,
          0.10419223765985741,
          0.07753743564584123,
          0.12180022374803436,
          0.11882507174232786,
          0.1972376682896033,
          0.11417030076242216,
          0.23137124720696228
         ],
         "y": [
          0.29836468016299544,
          0.3465604963428209,
          0.5318032507891075,
          0.16082492987990324,
          0.25513084502099254,
          0.32128535460033697,
          0.2794581561010597,
          0.5384813956049929,
          0.41681659302689333,
          0.5720856627587272,
          0.4536721107965972,
          0.5954075962487245,
          0.6394978503100226,
          0.4424388542903752,
          0.20908404901253858,
          0.23613915532231627,
          0.442448389937101,
          0.4713987019711504,
          0.2782480801073946,
          0.5064490818956106,
          0.4528350188044554,
          0.807342068444212,
          0.2999458949582904,
          0.2539604689832317,
          0.5528552587177656,
          0.6087668143722428,
          0.2432409684147151,
          0.3126392583120978,
          0.7603852209367108,
          0.28662099191707985,
          0.5696809351902437,
          0.3744050009415964,
          0.20543238887845516,
          0.1969230080997804,
          0.6410731254132633,
          0.3263231807204132,
          0.60270197125055,
          0.6153153161259075,
          0.2717636928516689,
          0.7173498954212779,
          0.4701628194799353,
          0.2462969894327971,
          0.3562320239387592,
          0.6410731254132633,
          0.573210045925775,
          0.5044778757843393,
          0.2909831975668573,
          0.5755202120149929,
          0.5436397514348859,
          0.6410731254132537,
          0.5226359096269426,
          0.6516957987800268
         ]
        },
        {
         "hoverinfo": "text",
         "hovertext": [
          "AAPL_Close <br>Volatility: 0.18 <br>Returns: 25.04% <br>Sharpe Ratio: 1.42",
          "V_Close <br>Volatility: 0.13 <br>Returns: 30.98% <br>Sharpe Ratio: 2.47",
          "CSCO_Close <br>Volatility: 0.16 <br>Returns: 16.11% <br>Sharpe Ratio: 0.98",
          "XOM_Close <br>Volatility: 0.10 <br>Returns: 3.88% <br>Sharpe Ratio: 0.37",
          "TXN_Close <br>Volatility: 0.16 <br>Returns: 37.14% <br>Sharpe Ratio: 2.30",
          "RMD_Close <br>Volatility: 0.20 <br>Returns: 20.34% <br>Sharpe Ratio: 1.01",
          "GOOG_Close <br>Volatility: 0.16 <br>Returns: 27.71% <br>Sharpe Ratio: 1.74",
          "EMR_Close <br>Volatility: 0.16 <br>Returns: 20.27% <br>Sharpe Ratio: 1.25",
          "BIIB_Close <br>Volatility: 0.23 <br>Returns: 9.80% <br>Sharpe Ratio: 0.43",
          "NFLX_Close <br>Volatility: 0.29 <br>Returns: 38.28% <br>Sharpe Ratio: 1.33",
          "SYY_Close <br>Volatility: 0.16 <br>Returns: 19.12% <br>Sharpe Ratio: 1.19",
          "IBM_Close <br>Volatility: 0.16 <br>Returns: -15.90% <br>Sharpe Ratio: -1.01",
          "CPB_Close <br>Volatility: 0.24 <br>Returns: -23.67% <br>Sharpe Ratio: -0.98",
          "ORCL_Close <br>Volatility: 0.19 <br>Returns: 13.13% <br>Sharpe Ratio: 0.70",
          "AMGN_Close <br>Volatility: 0.17 <br>Returns: -0.36% <br>Sharpe Ratio: -0.02",
          "BMY_Close <br>Volatility: 0.18 <br>Returns: 11.41% <br>Sharpe Ratio: 0.63",
          "GM_Close <br>Volatility: 0.19 <br>Returns: 14.71% <br>Sharpe Ratio: 0.78",
          "META_Close <br>Volatility: 0.17 <br>Returns: 30.58% <br>Sharpe Ratio: 1.77",
          "BABA_Close <br>Volatility: 0.27 <br>Returns: 61.61% <br>Sharpe Ratio: 2.30",
          "MS_Close <br>Volatility: 0.20 <br>Returns: 16.83% <br>Sharpe Ratio: 0.86",
          "WMT_Close <br>Volatility: 0.18 <br>Returns: 43.06% <br>Sharpe Ratio: 2.37",
          "BSX_Close <br>Volatility: 0.17 <br>Returns: -1.01% <br>Sharpe Ratio: -0.06",
          "ABBV_Close <br>Volatility: 0.18 <br>Returns: 54.05% <br>Sharpe Ratio: 3.03",
          "AMZN_Close <br>Volatility: 0.21 <br>Returns: 38.44% <br>Sharpe Ratio: 1.81",
          "CMCSA_Close <br>Volatility: 0.21 <br>Returns: 9.55% <br>Sharpe Ratio: 0.46",
          "WFC_Close <br>Volatility: 0.17 <br>Returns: 6.48% <br>Sharpe Ratio: 0.38",
          "NEE_Close <br>Volatility: 0.11 <br>Returns: 23.55% <br>Sharpe Ratio: 2.10",
          "PG_Close <br>Volatility: 0.10 <br>Returns: 4.02% <br>Sharpe Ratio: 0.41",
          "MA_Close <br>Volatility: 0.14 <br>Returns: 37.50% <br>Sharpe Ratio: 2.60",
          "GE_Close <br>Volatility: 0.21 <br>Returns: -62.75% <br>Sharpe Ratio: -2.95",
          "RTX_Close <br>Volatility: 0.14 <br>Returns: 16.98% <br>Sharpe Ratio: 1.24",
          "ACN_Close <br>Volatility: 0.13 <br>Returns: 27.35% <br>Sharpe Ratio: 2.06",
          "JNJ_Close <br>Volatility: 0.11 <br>Returns: 16.97% <br>Sharpe Ratio: 1.49",
          "PEP_Close <br>Volatility: 0.10 <br>Returns: 12.73% <br>Sharpe Ratio: 1.30",
          "F_Close <br>Volatility: 0.17 <br>Returns: 3.00% <br>Sharpe Ratio: 0.18",
          "ABT_Close <br>Volatility: 0.14 <br>Returns: 28.67% <br>Sharpe Ratio: 2.05",
          "KO_Close <br>Volatility: 0.09 <br>Returns: 13.24% <br>Sharpe Ratio: 1.53",
          "INTC_Close <br>Volatility: 0.18 <br>Returns: 32.63% <br>Sharpe Ratio: 1.86",
          "T_Close <br>Volatility: 0.18 <br>Returns: -3.53% <br>Sharpe Ratio: -0.20",
          "MRK_Close <br>Volatility: 0.15 <br>Returns: -15.66% <br>Sharpe Ratio: -1.04",
          "DHR_Close <br>Volatility: 0.13 <br>Returns: 9.07% <br>Sharpe Ratio: 0.71",
          "VZ_Close <br>Volatility: 0.17 <br>Returns: 11.30% <br>Sharpe Ratio: 0.67",
          "CRM_Close <br>Volatility: 0.16 <br>Returns: 25.48% <br>Sharpe Ratio: 1.63",
          "BA_Close <br>Volatility: 0.17 <br>Returns: 59.54% <br>Sharpe Ratio: 3.42",
          "ADBE_Close <br>Volatility: 0.23 <br>Returns: 45.54% <br>Sharpe Ratio: 2.00",
          "SAP_Close <br>Volatility: 0.14 <br>Returns: 22.38% <br>Sharpe Ratio: 1.63",
          "CAT_Close <br>Volatility: 0.20 <br>Returns: 64.11% <br>Sharpe Ratio: 3.25",
          "VRTX_Close <br>Volatility: 0.38 <br>Returns: 61.33% <br>Sharpe Ratio: 1.59",
          "REGN_Close <br>Volatility: 0.28 <br>Returns: 0.03% <br>Sharpe Ratio: 0.00",
          "PYPL_Close <br>Volatility: 0.23 <br>Returns: 65.17% <br>Sharpe Ratio: 2.82",
          "MO_Close <br>Volatility: 0.18 <br>Returns: -2.75% <br>Sharpe Ratio: -0.15",
          "ISRG_Close <br>Volatility: 0.19 <br>Returns: 46.59% <br>Sharpe Ratio: 2.44",
          "GOOGL_Close <br>Volatility: 0.16 <br>Returns: 25.77% <br>Sharpe Ratio: 1.64",
          "MSFT_Close <br>Volatility: 0.15 <br>Returns: 36.72% <br>Sharpe Ratio: 2.42",
          "UA_Close <br>Volatility: 0.46 <br>Returns: -42.37% <br>Sharpe Ratio: -0.91",
          "NVDA_Close <br>Volatility: 0.39 <br>Returns: 80.73% <br>Sharpe Ratio: 2.05",
          "KR_Close <br>Volatility: 0.36 <br>Returns: -11.51% <br>Sharpe Ratio: -0.32",
          "EW_Close <br>Volatility: 0.23 <br>Returns: 22.60% <br>Sharpe Ratio: 0.97",
          "GIS_Close <br>Volatility: 0.17 <br>Returns: -0.03% <br>Sharpe Ratio: -0.00",
          "AEP_Close <br>Volatility: 0.11 <br>Returns: 15.15% <br>Sharpe Ratio: 1.42",
          "CVX_Close <br>Volatility: 0.14 <br>Returns: 15.44% <br>Sharpe Ratio: 1.09",
          "SNAP_Close <br>Volatility: 0.63 <br>Returns: -61.94% <br>Sharpe Ratio: -0.98",
          "EXC_Close <br>Volatility: 0.13 <br>Returns: 12.63% <br>Sharpe Ratio: 0.96",
          "LLY_Close <br>Volatility: 0.15 <br>Returns: 4.51% <br>Sharpe Ratio: 0.31",
          "PM_Close <br>Volatility: 0.14 <br>Returns: -0.16% <br>Sharpe Ratio: -0.01",
          "MDT_Close <br>Volatility: 0.15 <br>Returns: 0.82% <br>Sharpe Ratio: 0.05",
          "SYK_Close <br>Volatility: 0.16 <br>Returns: 21.73% <br>Sharpe Ratio: 1.40",
          "UNH_Close <br>Volatility: 0.14 <br>Returns: 34.90% <br>Sharpe Ratio: 2.48",
          "GS_Close <br>Volatility: 0.20 <br>Returns: 2.94% <br>Sharpe Ratio: 0.15",
          "TSLA_Close <br>Volatility: 0.36 <br>Returns: 26.10% <br>Sharpe Ratio: 0.73",
          "MCD_Close <br>Volatility: 0.14 <br>Returns: 37.50% <br>Sharpe Ratio: 2.75",
          "COST_Close <br>Volatility: 0.20 <br>Returns: 11.21% <br>Sharpe Ratio: 0.56",
          "BAC_Close <br>Volatility: 0.21 <br>Returns: 20.36% <br>Sharpe Ratio: 0.97",
          "TMO_Close <br>Volatility: 0.16 <br>Returns: 21.55% <br>Sharpe Ratio: 1.32",
          "ZBH_Close <br>Volatility: 0.19 <br>Returns: 3.62% <br>Sharpe Ratio: 0.19",
          "DIS_Close <br>Volatility: 0.16 <br>Returns: -1.54% <br>Sharpe Ratio: -0.10",
          "ETN_Close <br>Volatility: 0.16 <br>Returns: 13.76% <br>Sharpe Ratio: 0.89",
          "HON_Close <br>Volatility: 0.10 <br>Returns: 25.07% <br>Sharpe Ratio: 2.47",
          "HD_Close <br>Volatility: 0.14 <br>Returns: 32.45% <br>Sharpe Ratio: 2.40",
          "GILD_Close <br>Volatility: 0.19 <br>Returns: 5.32% <br>Sharpe Ratio: 0.28",
          "MMM_Close <br>Volatility: 0.13 <br>Returns: 27.77% <br>Sharpe Ratio: 2.12",
          "JPM_Close <br>Volatility: 0.16 <br>Returns: 19.92% <br>Sharpe Ratio: 1.28",
          "K_Close <br>Volatility: 0.18 <br>Returns: -9.01% <br>Sharpe Ratio: -0.50",
          "SRE_Close <br>Volatility: 0.13 <br>Returns: 0.42% <br>Sharpe Ratio: 0.03",
          "LMT_Close <br>Volatility: 0.11 <br>Returns: 24.36% <br>Sharpe Ratio: 2.21",
          "DUK_Close <br>Volatility: 0.09 <br>Returns: 6.18% <br>Sharpe Ratio: 0.66",
          "DE_Close <br>Volatility: 0.18 <br>Returns: 45.12% <br>Sharpe Ratio: 2.53",
          "QCOM_Close <br>Volatility: 0.24 <br>Returns: 18.78% <br>Sharpe Ratio: 0.79",
          "AMD_Close <br>Volatility: 0.58 <br>Returns: -36.20% <br>Sharpe Ratio: -0.62",
          "BTI_Close <br>Volatility: 0.19 <br>Returns: 11.15% <br>Sharpe Ratio: 0.58",
          "PFE_Close <br>Volatility: 0.11 <br>Returns: 9.22% <br>Sharpe Ratio: 0.85",
          "RDY_Close <br>Volatility: 0.30 <br>Returns: -15.56% <br>Sharpe Ratio: -0.52",
          "SO_Close <br>Volatility: 0.12 <br>Returns: -1.26% <br>Sharpe Ratio: -0.11",
          "NKE_Close <br>Volatility: 0.23 <br>Returns: 10.70% <br>Sharpe Ratio: 0.47"
         ],
         "marker": {
          "color": "brown",
          "line": {
           "width": 1
          },
          "size": 5,
          "symbol": "triangle-up"
         },
         "mode": "markers",
         "name": "Individual Assets",
         "type": "scatter",
         "x": {
          "bdata": "88sMblmIxj+qIS20Lw3AP5EB+Mn6/cQ/JfpGh9uWuj+vLh0WH6vEP4q9QM3Vssk/ApfuubFqxD/+ASxFg9LEP52qZ0DKJc0/BdpQFehb0j8hg9TzMafEP+g6/+xzK8Q/634UOQjHzj9kuJAwIvfHP5QI7wjpdcU/PMmhnPYWxz9WS/RYszvIP3kXCmx8GsY/v8IczPYb0T9fZGj1+BzJP/Vo7zmLPMc/2l/UgVjSxT/ZEqF0LN3GP5g60A0pIss/VbWCrGNQyj9Ab2bqmtXFP5wtIdmEsrw/Gb1PDW8YuT/RzthY83LCP0gKfxExQss/4ZKnjpd3wT/p+OljBgHBPxljzoBIQL0/yP0ZJxsIuT+6DmE4H0fFP70Vn0u34ME/BjFU3bcbtj+sFBpw63nGP7Z3sOUBa8Y/SuXJk0RSwz/ZDJ1ODm/APzbjbRaFqsU/DTqqP/T1wz/kFWpfkE/GP9L6PmrvKM0/0ZXqnZGXwT8w7Gt7FT/JPw5EhZd2ndg/CXDYJIYS0j/Mi/6xkp3NP5gHW2/MxcY/XnJoD/d5yD/hrzGM+iDEP+xm0nrebMM/qZdau6Gy3T8z1ONwjzLZPw9V29unNdc/fqECT2e9zT9XUHKUzzvGP8daI82zPLs/te0Ao8AWwj9KaSCc0ELkP85JHLqG08A/vi7d4FnJwj+ZrHil5eHBP24rOaR3acM/n+Kawuzmwz/QqmIOoAzCP2q0cTQRH8k/ISwVRQb01j9qUw2joXfBP+9rZCqbcck/TWfqmIPMyj9tfS3fndvEP5EoFGhb3cg/4gt5gvM8xD/rNT2n0OLDP18k+WTSA7o/cdT3EnhIwT8yYhu5ZEDIPyMQ7KNyyMA/5HFXm+n8wz8peM4JtD7HP73lzl4MH8E/s4sfXURGvD9HeVu4Ziu4P1QzJZz42sY/QrCv10iRzj99ZuvUc6fiP9oVhK06bcg/xT8V9cefuz+pc/8Sl1bTP1qDlVXfa74/pMV6+3PizD8=",
          "dtype": "f8"
         },
         "y": {
          "bdata": "gGuKAjQH0D+l6BhNHtTTP+PGBDxen8Q/ZRz1ph7doz9WuNk0YcXXPyi+2gMyCso/6OfENTO80T/4UWkCQvHJP22br0vZFbk/Jwot9vB/2D/IMa3Y1nrIP8yghym0W8S/QYCz5v5Kzr+6YcT7uM/APwi0TFElFW2/MrsVXw02vT+Z7tYX49LCPzUPrD3iktM/G/wyFB634z8n0MmyJovFP0iF4FKyjts/li6fAx+7hL/dwtoy00vhPyKndD5kmtg/RvYPfCxyuD8/1L71MJmwPxy0gxrUI84/RqNLsoKYpD/wQb3y/P/XP1KvKAzKFOS/0BDblBy8xT96RzNXa4DRP5AZArUxuMU/6HtqVB1LwD8tEq98rq6ePwtKFDXhWNI/KpwmfWLxwD/Umplft+HUPzJcwLQyDaK/XxKRZOkLxL9TQp+i7zW3P+74JZdP7bw/WEwlgFVP0D9QtDU7lA3jPySTOxY+Jd0/1bLfIAqlzD+40n/Jq4PkPwnvQpl2oOM/mUnnXmDsND9EbdYlsdrkPzlYsXLEHpy/juejQ+DQ3T8j48BkiX3QP0YwEpThf9c/zEX6Wokd279t5JQIv9XpPxFz5CXJeL2/omGfxWzuzD+ar9BPDrczv4VxNNrvY8M/12UJda/Ewz9Wi/SZ9tHjv7Nn7MhKKcA/Anzz0OMbpz8z281v1Ptav22Rb0MazoA/MllEPSbRyz8/obPKslbWPzTATj0IJ54/YlcBRfu00D+rgtrtgv/XP0eweSXnsLw/jgdxxpoPyj/m+YnYY5bLPwxZ1SUPhaI/elg4FNiCj7/aUl0A8Z3BP27mArMKC9A/NYQpcE7F1D/4wtCcOT6rP8Q+i243xtE/pBXdXXx/yT8g1WY/9w63vwQz3HjNDHE/M75UblYuzz9JXuNKxqmvP+fv5zcb4Nw/Cbw+ZNIIyD9pAadVcCvXv01mAve0jbw/VshG9r2Ytz9/zqAPQOvDv5Dc8CwnyIm/H18R7SZhuz8=",
          "dtype": "f8"
         }
        }
       ],
       "layout": {
        "legend": {
         "y": 5
        },
        "template": {
         "data": {
          "bar": [
           {
            "error_x": {
             "color": "#2a3f5f"
            },
            "error_y": {
             "color": "#2a3f5f"
            },
            "marker": {
             "line": {
              "color": "#E5ECF6",
              "width": 0.5
             },
             "pattern": {
              "fillmode": "overlay",
              "size": 10,
              "solidity": 0.2
             }
            },
            "type": "bar"
           }
          ],
          "barpolar": [
           {
            "marker": {
             "line": {
              "color": "#E5ECF6",
              "width": 0.5
             },
             "pattern": {
              "fillmode": "overlay",
              "size": 10,
              "solidity": 0.2
             }
            },
            "type": "barpolar"
           }
          ],
          "carpet": [
           {
            "aaxis": {
             "endlinecolor": "#2a3f5f",
             "gridcolor": "white",
             "linecolor": "white",
             "minorgridcolor": "white",
             "startlinecolor": "#2a3f5f"
            },
            "baxis": {
             "endlinecolor": "#2a3f5f",
             "gridcolor": "white",
             "linecolor": "white",
             "minorgridcolor": "white",
             "startlinecolor": "#2a3f5f"
            },
            "type": "carpet"
           }
          ],
          "choropleth": [
           {
            "colorbar": {
             "outlinewidth": 0,
             "ticks": ""
            },
            "type": "choropleth"
           }
          ],
          "contour": [
           {
            "colorbar": {
             "outlinewidth": 0,
             "ticks": ""
            },
            "colorscale": [
             [
              0,
              "#0d0887"
             ],
             [
              0.1111111111111111,
              "#46039f"
             ],
             [
              0.2222222222222222,
              "#7201a8"
             ],
             [
              0.3333333333333333,
              "#9c179e"
             ],
             [
              0.4444444444444444,
              "#bd3786"
             ],
             [
              0.5555555555555556,
              "#d8576b"
             ],
             [
              0.6666666666666666,
              "#ed7953"
             ],
             [
              0.7777777777777778,
              "#fb9f3a"
             ],
             [
              0.8888888888888888,
              "#fdca26"
             ],
             [
              1,
              "#f0f921"
             ]
            ],
            "type": "contour"
           }
          ],
          "contourcarpet": [
           {
            "colorbar": {
             "outlinewidth": 0,
             "ticks": ""
            },
            "type": "contourcarpet"
           }
          ],
          "heatmap": [
           {
            "colorbar": {
             "outlinewidth": 0,
             "ticks": ""
            },
            "colorscale": [
             [
              0,
              "#0d0887"
             ],
             [
              0.1111111111111111,
              "#46039f"
             ],
             [
              0.2222222222222222,
              "#7201a8"
             ],
             [
              0.3333333333333333,
              "#9c179e"
             ],
             [
              0.4444444444444444,
              "#bd3786"
             ],
             [
              0.5555555555555556,
              "#d8576b"
             ],
             [
              0.6666666666666666,
              "#ed7953"
             ],
             [
              0.7777777777777778,
              "#fb9f3a"
             ],
             [
              0.8888888888888888,
              "#fdca26"
             ],
             [
              1,
              "#f0f921"
             ]
            ],
            "type": "heatmap"
           }
          ],
          "histogram": [
           {
            "marker": {
             "pattern": {
              "fillmode": "overlay",
              "size": 10,
              "solidity": 0.2
             }
            },
            "type": "histogram"
           }
          ],
          "histogram2d": [
           {
            "colorbar": {
             "outlinewidth": 0,
             "ticks": ""
            },
            "colorscale": [
             [
              0,
              "#0d0887"
             ],
             [
              0.1111111111111111,
              "#46039f"
             ],
             [
              0.2222222222222222,
              "#7201a8"
             ],
             [
              0.3333333333333333,
              "#9c179e"
             ],
             [
              0.4444444444444444,
              "#bd3786"
             ],
             [
              0.5555555555555556,
              "#d8576b"
             ],
             [
              0.6666666666666666,
              "#ed7953"
             ],
             [
              0.7777777777777778,
              "#fb9f3a"
             ],
             [
              0.8888888888888888,
              "#fdca26"
             ],
             [
              1,
              "#f0f921"
             ]
            ],
            "type": "histogram2d"
           }
          ],
          "histogram2dcontour": [
           {
            "colorbar": {
             "outlinewidth": 0,
             "ticks": ""
            },
            "colorscale": [
             [
              0,
              "#0d0887"
             ],
             [
              0.1111111111111111,
              "#46039f"
             ],
             [
              0.2222222222222222,
              "#7201a8"
             ],
             [
              0.3333333333333333,
              "#9c179e"
             ],
             [
              0.4444444444444444,
              "#bd3786"
             ],
             [
              0.5555555555555556,
              "#d8576b"
             ],
             [
              0.6666666666666666,
              "#ed7953"
             ],
             [
              0.7777777777777778,
              "#fb9f3a"
             ],
             [
              0.8888888888888888,
              "#fdca26"
             ],
             [
              1,
              "#f0f921"
             ]
            ],
            "type": "histogram2dcontour"
           }
          ],
          "mesh3d": [
           {
            "colorbar": {
             "outlinewidth": 0,
             "ticks": ""
            },
            "type": "mesh3d"
           }
          ],
          "parcoords": [
           {
            "line": {
             "colorbar": {
              "outlinewidth": 0,
              "ticks": ""
             }
            },
            "type": "parcoords"
           }
          ],
          "pie": [
           {
            "automargin": true,
            "type": "pie"
           }
          ],
          "scatter": [
           {
            "fillpattern": {
             "fillmode": "overlay",
             "size": 10,
             "solidity": 0.2
            },
            "type": "scatter"
           }
          ],
          "scatter3d": [
           {
            "line": {
             "colorbar": {
              "outlinewidth": 0,
              "ticks": ""
             }
            },
            "marker": {
             "colorbar": {
              "outlinewidth": 0,
              "ticks": ""
             }
            },
            "type": "scatter3d"
           }
          ],
          "scattercarpet": [
           {
            "marker": {
             "colorbar": {
              "outlinewidth": 0,
              "ticks": ""
             }
            },
            "type": "scattercarpet"
           }
          ],
          "scattergeo": [
           {
            "marker": {
             "colorbar": {
              "outlinewidth": 0,
              "ticks": ""
             }
            },
            "type": "scattergeo"
           }
          ],
          "scattergl": [
           {
            "marker": {
             "colorbar": {
              "outlinewidth": 0,
              "ticks": ""
             }
            },
            "type": "scattergl"
           }
          ],
          "scattermap": [
           {
            "marker": {
             "colorbar": {
              "outlinewidth": 0,
              "ticks": ""
             }
            },
            "type": "scattermap"
           }
          ],
          "scattermapbox": [
           {
            "marker": {
             "colorbar": {
              "outlinewidth": 0,
              "ticks": ""
             }
            },
            "type": "scattermapbox"
           }
          ],
          "scatterpolar": [
           {
            "marker": {
             "colorbar": {
              "outlinewidth": 0,
              "ticks": ""
             }
            },
            "type": "scatterpolar"
           }
          ],
          "scatterpolargl": [
           {
            "marker": {
             "colorbar": {
              "outlinewidth": 0,
              "ticks": ""
             }
            },
            "type": "scatterpolargl"
           }
          ],
          "scatterternary": [
           {
            "marker": {
             "colorbar": {
              "outlinewidth": 0,
              "ticks": ""
             }
            },
            "type": "scatterternary"
           }
          ],
          "surface": [
           {
            "colorbar": {
             "outlinewidth": 0,
             "ticks": ""
            },
            "colorscale": [
             [
              0,
              "#0d0887"
             ],
             [
              0.1111111111111111,
              "#46039f"
             ],
             [
              0.2222222222222222,
              "#7201a8"
             ],
             [
              0.3333333333333333,
              "#9c179e"
             ],
             [
              0.4444444444444444,
              "#bd3786"
             ],
             [
              0.5555555555555556,
              "#d8576b"
             ],
             [
              0.6666666666666666,
              "#ed7953"
             ],
             [
              0.7777777777777778,
              "#fb9f3a"
             ],
             [
              0.8888888888888888,
              "#fdca26"
             ],
             [
              1,
              "#f0f921"
             ]
            ],
            "type": "surface"
           }
          ],
          "table": [
           {
            "cells": {
             "fill": {
              "color": "#EBF0F8"
             },
             "line": {
              "color": "white"
             }
            },
            "header": {
             "fill": {
              "color": "#C8D4E3"
             },
             "line": {
              "color": "white"
             }
            },
            "type": "table"
           }
          ]
         },
         "layout": {
          "annotationdefaults": {
           "arrowcolor": "#2a3f5f",
           "arrowhead": 0,
           "arrowwidth": 1
          },
          "autotypenumbers": "strict",
          "coloraxis": {
           "colorbar": {
            "outlinewidth": 0,
            "ticks": ""
           }
          },
          "colorscale": {
           "diverging": [
            [
             0,
             "#8e0152"
            ],
            [
             0.1,
             "#c51b7d"
            ],
            [
             0.2,
             "#de77ae"
            ],
            [
             0.3,
             "#f1b6da"
            ],
            [
             0.4,
             "#fde0ef"
            ],
            [
             0.5,
             "#f7f7f7"
            ],
            [
             0.6,
             "#e6f5d0"
            ],
            [
             0.7,
             "#b8e186"
            ],
            [
             0.8,
             "#7fbc41"
            ],
            [
             0.9,
             "#4d9221"
            ],
            [
             1,
             "#276419"
            ]
           ],
           "sequential": [
            [
             0,
             "#0d0887"
            ],
            [
             0.1111111111111111,
             "#46039f"
            ],
            [
             0.2222222222222222,
             "#7201a8"
            ],
            [
             0.3333333333333333,
             "#9c179e"
            ],
            [
             0.4444444444444444,
             "#bd3786"
            ],
            [
             0.5555555555555556,
             "#d8576b"
            ],
            [
             0.6666666666666666,
             "#ed7953"
            ],
            [
             0.7777777777777778,
             "#fb9f3a"
            ],
            [
             0.8888888888888888,
             "#fdca26"
            ],
            [
             1,
             "#f0f921"
            ]
           ],
           "sequentialminus": [
            [
             0,
             "#0d0887"
            ],
            [
             0.1111111111111111,
             "#46039f"
            ],
            [
             0.2222222222222222,
             "#7201a8"
            ],
            [
             0.3333333333333333,
             "#9c179e"
            ],
            [
             0.4444444444444444,
             "#bd3786"
            ],
            [
             0.5555555555555556,
             "#d8576b"
            ],
            [
             0.6666666666666666,
             "#ed7953"
            ],
            [
             0.7777777777777778,
             "#fb9f3a"
            ],
            [
             0.8888888888888888,
             "#fdca26"
            ],
            [
             1,
             "#f0f921"
            ]
           ]
          },
          "colorway": [
           "#636efa",
           "#EF553B",
           "#00cc96",
           "#ab63fa",
           "#FFA15A",
           "#19d3f3",
           "#FF6692",
           "#B6E880",
           "#FF97FF",
           "#FECB52"
          ],
          "font": {
           "color": "#2a3f5f"
          },
          "geo": {
           "bgcolor": "white",
           "lakecolor": "white",
           "landcolor": "#E5ECF6",
           "showlakes": true,
           "showland": true,
           "subunitcolor": "white"
          },
          "hoverlabel": {
           "align": "left"
          },
          "hovermode": "closest",
          "mapbox": {
           "style": "light"
          },
          "paper_bgcolor": "white",
          "plot_bgcolor": "#E5ECF6",
          "polar": {
           "angularaxis": {
            "gridcolor": "white",
            "linecolor": "white",
            "ticks": ""
           },
           "bgcolor": "#E5ECF6",
           "radialaxis": {
            "gridcolor": "white",
            "linecolor": "white",
            "ticks": ""
           }
          },
          "scene": {
           "xaxis": {
            "backgroundcolor": "#E5ECF6",
            "gridcolor": "white",
            "gridwidth": 2,
            "linecolor": "white",
            "showbackground": true,
            "ticks": "",
            "zerolinecolor": "white"
           },
           "yaxis": {
            "backgroundcolor": "#E5ECF6",
            "gridcolor": "white",
            "gridwidth": 2,
            "linecolor": "white",
            "showbackground": true,
            "ticks": "",
            "zerolinecolor": "white"
           },
           "zaxis": {
            "backgroundcolor": "#E5ECF6",
            "gridcolor": "white",
            "gridwidth": 2,
            "linecolor": "white",
            "showbackground": true,
            "ticks": "",
            "zerolinecolor": "white"
           }
          },
          "shapedefaults": {
           "line": {
            "color": "#2a3f5f"
           }
          },
          "ternary": {
           "aaxis": {
            "gridcolor": "white",
            "linecolor": "white",
            "ticks": ""
           },
           "baxis": {
            "gridcolor": "white",
            "linecolor": "white",
            "ticks": ""
           },
           "bgcolor": "#E5ECF6",
           "caxis": {
            "gridcolor": "white",
            "linecolor": "white",
            "ticks": ""
           }
          },
          "title": {
           "x": 0.05
          },
          "xaxis": {
           "automargin": true,
           "gridcolor": "white",
           "linecolor": "white",
           "ticks": "",
           "title": {
            "standoff": 15
           },
           "zerolinecolor": "white",
           "zerolinewidth": 2
          },
          "yaxis": {
           "automargin": true,
           "gridcolor": "white",
           "linecolor": "white",
           "ticks": "",
           "title": {
            "standoff": 15
           },
           "zerolinecolor": "white",
           "zerolinewidth": 2
          }
         }
        },
        "title": {
         "text": "Sample of Random Portfolios"
        },
        "xaxis": {
         "title": {
          "text": "Volatility (Standard Deviation)"
         }
        },
        "yaxis": {
         "title": {
          "text": "Annualized Return"
         }
        }
       }
      }
     },
     "metadata": {},
     "output_type": "display_data"
    }
   ],
   "source": [
    "fig2 = go.Figure()\n",
    "\n",
    "fig2.add_trace(go.Scatter(\n",
    "    x=[p[\"variance\"]**0.5 for p in dominant_portfolios],  # Convert variance to volatility\n",
    "    y=[p[\"return\"] for p in dominant_portfolios],\n",
    "    mode='markers',\n",
    "    marker=dict(\n",
    "        color=[p[\"return\"] / (p[\"variance\"]**0.5) for p in dominant_portfolios],  # Sharpe Ratio\n",
    "        showscale=True,\n",
    "        size=7,\n",
    "        line=dict(width=1),\n",
    "        colorscale=\"RdBu\",\n",
    "        colorbar=dict(title=\"Sharpe<br>Ratio\")\n",
    "    ),\n",
    "    hoverinfo='text',\n",
    "    text=[\n",
    "        f\"Return: {p['return']:.2%}<br>Volatility: {p['variance']**0.5:.2f}<br>\" +\n",
    "        \"<br>\".join([f\"{p['tickers'][i]}: Weight={p['weights'][i]:.2f}\" for i in range(len(p['tickers']))])\n",
    "        for p in dominant_portfolios\n",
    "    ],\n",
    "    name=\"Portfolios\"\n",
    "))\n",
    "\n",
    "\n",
    "fig2.add_trace(go.Scatter(\n",
    "    x=volatility, \n",
    "    y=annualized_returns,\n",
    "    mode='markers',\n",
    "    hoverinfo='text',\n",
    "    hovertext=[\n",
    "        f\"{name} <br>Volatility: {vol:.2f} <br>Returns: {ret:.2%} <br>Sharpe Ratio: {sr:.2f}\"\n",
    "        for name, vol, ret, sr in zip(names, volatility, annualized_returns, sharpe_ratios)\n",
    "    ],\n",
    "    marker=dict(\n",
    "        color='brown',\n",
    "        size=5,\n",
    "        symbol='triangle-up',  # Sets the marker shape to a triangle\n",
    "        line=dict(width=1)\n",
    "    ),\n",
    "    name=\"Individual Assets\"\n",
    "))\n",
    "\n",
    "fig2.update_layout(\n",
    "    title='Sample of Random Portfolios',\n",
    "    xaxis_title='Volatility (Standard Deviation)',\n",
    "    yaxis_title='Annualized Return',\n",
    "    legend=dict(y=5\n",
    "    )\n",
    ")\n",
    "\n",
    "\n",
    "fig2.show()"
   ]
  },
  {
   "cell_type": "code",
   "execution_count": null,
   "metadata": {},
   "outputs": [
    {
     "name": "stdout",
     "output_type": "stream",
     "text": [
      "('AAPL_Close', 'V_Close', 'CSCO_Close', 'XOM_Close', 'TXN_Close', 'RMD_Close', 'GOOG_Close', 'EMR_Close', 'BIIB_Close', 'NFLX_Close', 'SYY_Close', 'IBM_Close', 'CPB_Close', 'ORCL_Close', 'AMGN_Close', 'BMY_Close', 'GM_Close', 'META_Close', 'BABA_Close', 'MS_Close', 'WMT_Close', 'BSX_Close', 'ABBV_Close', 'AMZN_Close', 'CMCSA_Close', 'WFC_Close', 'NEE_Close', 'PG_Close', 'MA_Close', 'GE_Close', 'RTX_Close', 'ACN_Close', 'JNJ_Close', 'PEP_Close', 'F_Close', 'ABT_Close', 'KO_Close', 'INTC_Close', 'T_Close', 'MRK_Close', 'DHR_Close', 'VZ_Close', 'CRM_Close', 'BA_Close', 'ADBE_Close', 'SAP_Close', 'CAT_Close', 'VRTX_Close', 'REGN_Close', 'PYPL_Close', 'MO_Close', 'ISRG_Close', 'GOOGL_Close', 'MSFT_Close', 'UA_Close', 'NVDA_Close', 'KR_Close', 'EW_Close', 'GIS_Close', 'AEP_Close', 'CVX_Close', 'SNAP_Close', 'EXC_Close', 'LLY_Close', 'PM_Close', 'MDT_Close', 'SYK_Close', 'UNH_Close', 'GS_Close', 'TSLA_Close', 'MCD_Close', 'COST_Close', 'BAC_Close', 'TMO_Close', 'ZBH_Close', 'DIS_Close', 'ETN_Close', 'HON_Close', 'HD_Close', 'GILD_Close', 'MMM_Close', 'JPM_Close', 'K_Close', 'SRE_Close', 'LMT_Close', 'DUK_Close', 'DE_Close', 'QCOM_Close', 'AMD_Close', 'BTI_Close', 'PFE_Close', 'RDY_Close', 'SO_Close', 'NKE_Close')\n"
     ]
    },
    {
     "name": "stderr",
     "output_type": "stream",
     "text": [
      "100%|██████████| 1/1 [00:00<00:00, 221.97it/s]"
     ]
    },
    {
     "name": "stdout",
     "output_type": "stream",
     "text": [
      "['VRTX_Close' 'AEP_Close' 'K_Close' 'SYK_Close' 'WFC_Close']\n",
      "K_Close\n",
      "['VRTX_Close', 'AEP_Close', 'SYK_Close', 'WFC_Close']\n"
     ]
    },
    {
     "name": "stderr",
     "output_type": "stream",
     "text": [
      "\n"
     ]
    }
   ],
   "source": [
    "import numpy as np\n",
    "\n",
    "def MLRBA(ticker, covariances, returns, num_iterations=10000):\n",
    "    num_assets = 5\n",
    "    portfolio = np.random.choice(list(ticker), num_assets, replace=False)\n",
    "    print(ticker)\n",
    "    curr_sharpe_ratio = -np.inf\n",
    "\n",
    "    for _ in tqdm(range(num_iterations)):\n",
    "        # Asset calculations\n",
    "        curr_returns = returns.loc[portfolio].values\n",
    "        curr_variances = covariances.loc[portfolio, portfolio].values\n",
    "        asset_weights = maximize_sharpe(curr_returns, curr_variances)\n",
    "\n",
    "        # Portfolio Calculations\n",
    "        curr_portfolio_returns = np.dot(asset_weights, curr_returns)\n",
    "        curr_portfolio_var = np.dot(asset_weights, curr_variances @ asset_weights)\n",
    "        most_correlated_asset, _, _ = find_best_asset_to_remove(portfolio, curr_variances, curr_returns)\n",
    "        #most_correlated_asset, _, _ = find_correlation_matrix(portfolio, curr_variances)\n",
    "\n",
    "        # Remove the worst asset from the portfolio\n",
    "        portfolio = [str(asset) for asset in portfolio if asset != most_correlated_asset]\n",
    "\n",
    "        # Find the least correlated asset within all remaining assets (optional)\n",
    "        # Substitute in and measure portfolio performance based on sharpe ratio\n",
    "        # If Sharpe ratio was worse, then move on to the next least correlated asset\n",
    "\n",
    "        # If Sharpe ratio is better, set as new base portfolio, and repeat the process for num_iterations times\n",
    "\n",
    "    return portfolio, most_correlated_asset\n",
    "\n",
    "portfolio = MLRBA(names, cov, annualized_returns, 1)"
   ]
  }
 ],
 "metadata": {
  "kernelspec": {
   "display_name": "roboA",
   "language": "python",
   "name": "python3"
  },
  "language_info": {
   "codemirror_mode": {
    "name": "ipython",
    "version": 3
   },
   "file_extension": ".py",
   "mimetype": "text/x-python",
   "name": "python",
   "nbconvert_exporter": "python",
   "pygments_lexer": "ipython3",
   "version": "3.12.8"
  }
 },
 "nbformat": 4,
 "nbformat_minor": 2
}
