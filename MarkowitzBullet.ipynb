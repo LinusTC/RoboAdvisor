{
 "cells": [
  {
   "cell_type": "markdown",
   "metadata": {},
   "source": [
    "# Markowitz Efficient Frontier"
   ]
  },
  {
   "cell_type": "markdown",
   "metadata": {},
   "source": [
    "## 1. Imports"
   ]
  },
  {
   "cell_type": "code",
   "execution_count": 1,
   "metadata": {},
   "outputs": [],
   "source": [
    "import pandas as pd\n",
    "import numpy as np\n",
    "import plotly.graph_objects as go\n",
    "from tqdm import tqdm\n",
    "\n",
    "from fetchData import fetch_raw_data_yf, get_matrices, getNasdaqStocks\n",
    "from MonteCarloRBA import MonteCarloRBA\n",
    "from portfolioFunction import maximize_sharpe, create_correlation_matrix, get_sharpe_ratio\n",
    "from LearningRBA import find_best_asset_to_remove\n"
   ]
  },
  {
   "cell_type": "markdown",
   "metadata": {},
   "source": [
    "## 2. Fetch Data"
   ]
  },
  {
   "cell_type": "markdown",
   "metadata": {},
   "source": [
    "### Get all Nasdaq Stocks"
   ]
  },
  {
   "cell_type": "code",
   "execution_count": 2,
   "metadata": {},
   "outputs": [
    {
     "data": {
      "text/plain": [
       "100"
      ]
     },
     "execution_count": 2,
     "metadata": {},
     "output_type": "execute_result"
    }
   ],
   "source": [
    "assets= [\n",
    "    \"AAPL\",  # Apple Inc.\n",
    "    \"MSFT\",  # Microsoft Corporation\n",
    "    \"AMZN\",  # Amazon.com Inc.\n",
    "    \"GOOGL\", # Alphabet Inc. (Google) Class A\n",
    "    \"GOOG\",  # Alphabet Inc. (Google) Class C\n",
    "    \"META\",    # Meta Platforms Inc (formerly Facebook)\n",
    "    \"TSLA\",  # Tesla Inc\n",
    "    \"UA\", # Berkshire Hathaway Inc. Class B\n",
    "    \"JPM\",   # JPMorgan Chase & Co.\n",
    "    \"V\",     # Visa Inc.\n",
    "    \"JNJ\",   # Johnson & Johnson\n",
    "    \"WMT\",   # Walmart Inc.\n",
    "    \"PG\",    # Procter & Gamble Co.\n",
    "    \"UNH\",   # UnitedHealth Group Inc.\n",
    "    \"MA\",    # Mastercard Inc.\n",
    "    \"NVDA\",  # NVIDIA Corporation\n",
    "    \"HD\",    # Home Depot Inc.\n",
    "    \"BAC\",   # Bank of America Corp\n",
    "    \"DIS\",   # Walt Disney Co\n",
    "    \"PYPL\",  # PayPal Holdings\n",
    "    \"VZ\",    # Verizon Communications Inc.\n",
    "    \"ADBE\",  # Adobe Inc.\n",
    "    \"CMCSA\", # Comcast Corporation\n",
    "    \"NFLX\",  # Netflix Inc.\n",
    "    \"KO\",    # Coca-Cola Co\n",
    "    \"NKE\",   # NIKE Inc.\n",
    "    \"PFE\",   # Pfizer Inc.\n",
    "    \"MRK\",   # Merck & Co., Inc.\n",
    "    \"PEP\",   # PepsiCo, Inc.\n",
    "    \"T\",     # AT&T Inc.\n",
    "    \"ABT\",   # Abbott Laboratories\n",
    "    \"CRM\",   # Salesforce.com Inc.\n",
    "    \"ORCL\",  # Oracle Corporation\n",
    "    \"ABBV\",  # AbbVie Inc.\n",
    "    \"CSCO\",  # Cisco Systems, Inc.\n",
    "    \"INTC\",  # Intel Corporation\n",
    "    \"TMO\",   # Thermo Fisher Scientific Inc.\n",
    "    \"XOM\",   # Exxon Mobil Corporation\n",
    "    \"ACN\",   # Accenture plc\n",
    "    \"LLY\",   # Eli Lilly and Company\n",
    "    \"COST\",  # Costco Wholesale Corporation\n",
    "    \"MCD\",   # McDonald's Corp\n",
    "    \"DHR\",   # Danaher Corporation\n",
    "    \"MDT\",   # Medtronic plc\n",
    "    \"NEE\",   # NextEra Energy, Inc.\n",
    "    \"BMY\",   # Bristol-Myers Squibb Company\n",
    "    \"QCOM\",  # Qualcomm Inc\n",
    "    \"CVX\",   # Chevron Corporation\n",
    "    \"WFC\",   # Wells Fargo & Co\n",
    "    \"LMT\",    # Lockheed Martin Corporation\n",
    "    \"GS\",   # Goldman Sachs Group, Inc.\n",
    "    \"MS\",   # Morgan Stanley\n",
    "    \"IBM\",  # International Business Machines Corporation\n",
    "    \"GE\",   # General Electric Company\n",
    "    \"F\",    # Ford Motor Company\n",
    "    \"GM\",   # General Motors Company\n",
    "    \"UBER\", # Uber Technologies, Inc.\n",
    "    \"LYFT\", # Lyft, Inc.\n",
    "    \"SNAP\", # Snap Inc.\n",
    "    \"TWTR\", # Twitter, Inc.\n",
    "    \"SPOT\", # Spotify Technology S.A.\n",
    "    \"AMD\",  # Advanced Micro Devices, Inc.\n",
    "    \"TXN\",  # Texas Instruments Incorporated\n",
    "    \"BABA\", # Alibaba Group Holding Limited\n",
    "    \"SAP\",  # SAP SE\n",
    "    \"HON\",  # Honeywell International Inc.\n",
    "    \"BA\",   # Boeing Company\n",
    "    \"RTX\",  # Raytheon Technologies Corporation\n",
    "    \"CAT\",  # Caterpillar Inc.\n",
    "    \"DE\",   # Deere & Company\n",
    "    \"MMM\",  # 3M Company\n",
    "    \"DUK\",  # Duke Energy Corporation\n",
    "    \"SO\",   # Southern Company\n",
    "    \"EXC\",  # Exelon Corporation\n",
    "    \"NEE\",  # NextEra Energy, Inc.\n",
    "    \"AEP\",  # American Electric Power Company, Inc.\n",
    "    \"SRE\",  # Sempra Energy\n",
    "    \"ETN\",  # Eaton Corporation plc\n",
    "    \"EMR\",  # Emerson Electric Co.\n",
    "    \"SYY\",  # Sysco Corporation\n",
    "    \"KR\",   # Kroger Co.\n",
    "    \"GIS\",  # General Mills, Inc.\n",
    "    \"K\",    # Kellogg Company\n",
    "    \"CPB\",  # Campbell Soup Company\n",
    "    \"MO\",   # Altria Group, Inc.\n",
    "    \"PM\",   # Philip Morris International Inc.\n",
    "    \"BTI\",  # British American Tobacco plc\n",
    "    \"RDY\",  # Dr. Reddy's Laboratories Ltd.\n",
    "    \"GILD\", # Gilead Sciences, Inc.\n",
    "    \"BIIB\", # Biogen Inc.\n",
    "    \"CELG\", # Celgene Corporation\n",
    "    \"AMGN\", # Amgen Inc.\n",
    "    \"SYK\",  # Stryker Corporation\n",
    "    \"BSX\",  # Boston Scientific Corporation\n",
    "    \"ISRG\", # Intuitive Surgical, Inc.\n",
    "    \"ZBH\",  # Zimmer Biomet Holdings, Inc.\n",
    "    \"EW\",   # Edwards Lifesciences Corporation\n",
    "    \"RMD\",  # ResMed Inc.\n",
    "    \"VRTX\", # Vertex Pharmaceuticals Incorporated\n",
    "    \"REGN\",  # Regeneron Pharmaceuticals, Inc.\n",
    "]\n",
    "\n",
    "len(assets)"
   ]
  },
  {
   "cell_type": "code",
   "execution_count": 3,
   "metadata": {},
   "outputs": [
    {
     "name": "stdout",
     "output_type": "stream",
     "text": [
      "YF.download() has changed argument auto_adjust default to True\n"
     ]
    },
    {
     "name": "stderr",
     "output_type": "stream",
     "text": [
      "[*********************100%***********************]  99 of 99 completed\n",
      "\n",
      "5 Failed downloads:\n",
      "['SPOT', 'LYFT', 'UBER']: YFPricesMissingError('possibly delisted; no price data found  (1d 2015-01-01 -> 2018-01-01) (Yahoo error = \"Data doesn\\'t exist for startDate = 1420088400, endDate = 1514782800\")')\n",
      "['TWTR', 'CELG']: YFTzMissingError('possibly delisted; no timezone found')\n"
     ]
    },
    {
     "name": "stdout",
     "output_type": "stream",
     "text": [
      "Omitted assets ( 5 ):  ['SPOT', 'TWTR', 'CELG', 'LYFT', 'UBER']\n",
      "Time to fetch data: 3.63 seconds\n"
     ]
    }
   ],
   "source": [
    "raw_data, asset_errors, max_combination= fetch_raw_data_yf(assets)"
   ]
  },
  {
   "cell_type": "markdown",
   "metadata": {},
   "source": [
    "## 3. Mean, Volatility and Covariance"
   ]
  },
  {
   "cell_type": "code",
   "execution_count": 4,
   "metadata": {},
   "outputs": [
    {
     "name": "stderr",
     "output_type": "stream",
     "text": [
      "1it [00:00, 221.74it/s]\n"
     ]
    }
   ],
   "source": [
    "names, cov, annualized_returns = get_matrices(raw_data, max_combination, None)[0]\n",
    "correlation_matrix = create_correlation_matrix(cov)\n",
    "volatility = np.sqrt(np.diag(cov))\n",
    "\n",
    "risk_free_rate=0 \n",
    "sharpe_ratios = (annualized_returns - risk_free_rate) / volatility"
   ]
  },
  {
   "cell_type": "code",
   "execution_count": 5,
   "metadata": {},
   "outputs": [
    {
     "data": {
      "application/vnd.plotly.v1+json": {
       "config": {
        "plotlyServerURL": "https://plot.ly"
       },
       "data": [
        {
         "hoverinfo": "text",
         "hovertext": [
          "ADBE_Close <br>Volatility: 0.228 <br>Returns: 45.540% <br>Sharpe Ratio: 1.999",
          "BTI_Close <br>Volatility: 0.191 <br>Returns: 11.154% <br>Sharpe Ratio: 0.584",
          "ORCL_Close <br>Volatility: 0.187 <br>Returns: 13.134% <br>Sharpe Ratio: 0.701",
          "XOM_Close <br>Volatility: 0.104 <br>Returns: 3.880% <br>Sharpe Ratio: 0.374",
          "HD_Close <br>Volatility: 0.135 <br>Returns: 32.454% <br>Sharpe Ratio: 2.404",
          "JPM_Close <br>Volatility: 0.156 <br>Returns: 19.920% <br>Sharpe Ratio: 1.276",
          "MSFT_Close <br>Volatility: 0.152 <br>Returns: 36.718% <br>Sharpe Ratio: 2.419",
          "AMZN_Close <br>Volatility: 0.212 <br>Returns: 38.442% <br>Sharpe Ratio: 1.813",
          "GIS_Close <br>Volatility: 0.174 <br>Returns: -0.030% <br>Sharpe Ratio: -0.002",
          "BAC_Close <br>Volatility: 0.209 <br>Returns: 20.360% <br>Sharpe Ratio: 0.972",
          "RTX_Close <br>Volatility: 0.136 <br>Returns: 16.980% <br>Sharpe Ratio: 1.244",
          "CSCO_Close <br>Volatility: 0.164 <br>Returns: 16.111% <br>Sharpe Ratio: 0.982",
          "CMCSA_Close <br>Volatility: 0.206 <br>Returns: 9.549% <br>Sharpe Ratio: 0.465",
          "AEP_Close <br>Volatility: 0.106 <br>Returns: 15.149% <br>Sharpe Ratio: 1.424",
          "MO_Close <br>Volatility: 0.178 <br>Returns: -2.746% <br>Sharpe Ratio: -0.154",
          "CPB_Close <br>Volatility: 0.240 <br>Returns: -23.666% <br>Sharpe Ratio: -0.984",
          "CRM_Close <br>Volatility: 0.156 <br>Returns: 25.484% <br>Sharpe Ratio: 1.634",
          "VZ_Close <br>Volatility: 0.169 <br>Returns: 11.300% <br>Sharpe Ratio: 0.668",
          "RMD_Close <br>Volatility: 0.201 <br>Returns: 20.344% <br>Sharpe Ratio: 1.013",
          "PM_Close <br>Volatility: 0.140 <br>Returns: -0.165% <br>Sharpe Ratio: -0.012",
          "BIIB_Close <br>Volatility: 0.228 <br>Returns: 9.799% <br>Sharpe Ratio: 0.430",
          "KR_Close <br>Volatility: 0.363 <br>Returns: -11.512% <br>Sharpe Ratio: -0.317",
          "MA_Close <br>Volatility: 0.144 <br>Returns: 37.500% <br>Sharpe Ratio: 2.602",
          "NVDA_Close <br>Volatility: 0.394 <br>Returns: 80.734% <br>Sharpe Ratio: 2.051",
          "GS_Close <br>Volatility: 0.196 <br>Returns: 2.945% <br>Sharpe Ratio: 0.150",
          "DUK_Close <br>Volatility: 0.094 <br>Returns: 6.184% <br>Sharpe Ratio: 0.655",
          "UA_Close <br>Volatility: 0.464 <br>Returns: -42.368% <br>Sharpe Ratio: -0.913",
          "VRTX_Close <br>Volatility: 0.385 <br>Returns: 61.334% <br>Sharpe Ratio: 1.595",
          "KO_Close <br>Volatility: 0.086 <br>Returns: 13.237% <br>Sharpe Ratio: 1.533",
          "ACN_Close <br>Volatility: 0.133 <br>Returns: 27.346% <br>Sharpe Ratio: 2.059",
          "DE_Close <br>Volatility: 0.179 <br>Returns: 45.118% <br>Sharpe Ratio: 2.527",
          "DHR_Close <br>Volatility: 0.128 <br>Returns: 9.067% <br>Sharpe Ratio: 0.706",
          "LMT_Close <br>Volatility: 0.110 <br>Returns: 24.360% <br>Sharpe Ratio: 2.206",
          "TXN_Close <br>Volatility: 0.161 <br>Returns: 37.142% <br>Sharpe Ratio: 2.300",
          "SAP_Close <br>Volatility: 0.137 <br>Returns: 22.379% <br>Sharpe Ratio: 1.628",
          "SO_Close <br>Volatility: 0.119 <br>Returns: -1.259% <br>Sharpe Ratio: -0.106",
          "MDT_Close <br>Volatility: 0.152 <br>Returns: 0.821% <br>Sharpe Ratio: 0.054",
          "ABBV_Close <br>Volatility: 0.179 <br>Returns: 54.051% <br>Sharpe Ratio: 3.026",
          "AMGN_Close <br>Volatility: 0.168 <br>Returns: -0.355% <br>Sharpe Ratio: -0.021",
          "NEE_Close <br>Volatility: 0.112 <br>Returns: 23.547% <br>Sharpe Ratio: 2.101",
          "CAT_Close <br>Volatility: 0.197 <br>Returns: 64.107% <br>Sharpe Ratio: 3.250",
          "T_Close <br>Volatility: 0.175 <br>Returns: -3.526% <br>Sharpe Ratio: -0.201",
          "QCOM_Close <br>Volatility: 0.239 <br>Returns: 18.777% <br>Sharpe Ratio: 0.786",
          "CVX_Close <br>Volatility: 0.141 <br>Returns: 15.444% <br>Sharpe Ratio: 1.093",
          "GOOGL_Close <br>Volatility: 0.157 <br>Returns: 25.766% <br>Sharpe Ratio: 1.638",
          "UNH_Close <br>Volatility: 0.141 <br>Returns: 34.904% <br>Sharpe Ratio: 2.475",
          "SYK_Close <br>Volatility: 0.155 <br>Returns: 21.732% <br>Sharpe Ratio: 1.398",
          "DIS_Close <br>Volatility: 0.158 <br>Returns: -1.539% <br>Sharpe Ratio: -0.097",
          "TSLA_Close <br>Volatility: 0.359 <br>Returns: 26.105% <br>Sharpe Ratio: 0.728",
          "MRK_Close <br>Volatility: 0.151 <br>Returns: -15.661% <br>Sharpe Ratio: -1.038",
          "WFC_Close <br>Volatility: 0.171 <br>Returns: 6.484% <br>Sharpe Ratio: 0.380",
          "MS_Close <br>Volatility: 0.196 <br>Returns: 16.831% <br>Sharpe Ratio: 0.858",
          "MCD_Close <br>Volatility: 0.136 <br>Returns: 37.497% <br>Sharpe Ratio: 2.748",
          "PFE_Close <br>Volatility: 0.108 <br>Returns: 9.217% <br>Sharpe Ratio: 0.854",
          "COST_Close <br>Volatility: 0.199 <br>Returns: 11.207% <br>Sharpe Ratio: 0.564",
          "RDY_Close <br>Volatility: 0.304 <br>Returns: -11.923% <br>Sharpe Ratio: -0.392",
          "EXC_Close <br>Volatility: 0.131 <br>Returns: 12.626% <br>Sharpe Ratio: 0.960",
          "AMD_Close <br>Volatility: 0.583 <br>Returns: -36.203% <br>Sharpe Ratio: -0.621",
          "GE_Close <br>Volatility: 0.213 <br>Returns: -62.754% <br>Sharpe Ratio: -2.947",
          "PEP_Close <br>Volatility: 0.098 <br>Returns: 12.729% <br>Sharpe Ratio: 1.302",
          "SRE_Close <br>Volatility: 0.134 <br>Returns: 0.416% <br>Sharpe Ratio: 0.031",
          "GILD_Close <br>Volatility: 0.189 <br>Returns: 5.321% <br>Sharpe Ratio: 0.281",
          "F_Close <br>Volatility: 0.166 <br>Returns: 2.996% <br>Sharpe Ratio: 0.180",
          "NFLX_Close <br>Volatility: 0.287 <br>Returns: 38.281% <br>Sharpe Ratio: 1.334",
          "IBM_Close <br>Volatility: 0.158 <br>Returns: -15.905% <br>Sharpe Ratio: -1.009",
          "WMT_Close <br>Volatility: 0.182 <br>Returns: 43.058% <br>Sharpe Ratio: 2.372",
          "EMR_Close <br>Volatility: 0.163 <br>Returns: 20.268% <br>Sharpe Ratio: 1.246",
          "AAPL_Close <br>Volatility: 0.176 <br>Returns: 25.044% <br>Sharpe Ratio: 1.423",
          "LLY_Close <br>Volatility: 0.147 <br>Returns: 4.513% <br>Sharpe Ratio: 0.308",
          "GOOG_Close <br>Volatility: 0.160 <br>Returns: 27.711% <br>Sharpe Ratio: 1.737",
          "BABA_Close <br>Volatility: 0.267 <br>Returns: 61.610% <br>Sharpe Ratio: 2.305",
          "SYY_Close <br>Volatility: 0.161 <br>Returns: 19.125% <br>Sharpe Ratio: 1.185",
          "JNJ_Close <br>Volatility: 0.114 <br>Returns: 16.968% <br>Sharpe Ratio: 1.485",
          "REGN_Close <br>Volatility: 0.282 <br>Returns: 0.032% <br>Sharpe Ratio: 0.001",
          "HON_Close <br>Volatility: 0.102 <br>Returns: 25.067% <br>Sharpe Ratio: 2.467",
          "INTC_Close <br>Volatility: 0.176 <br>Returns: 32.628% <br>Sharpe Ratio: 1.858",
          "META_Close <br>Volatility: 0.173 <br>Returns: 30.584% <br>Sharpe Ratio: 1.771",
          "ISRG_Close <br>Volatility: 0.191 <br>Returns: 46.587% <br>Sharpe Ratio: 2.436",
          "TMO_Close <br>Volatility: 0.163 <br>Returns: 21.553% <br>Sharpe Ratio: 1.323",
          "MMM_Close <br>Volatility: 0.131 <br>Returns: 27.772% <br>Sharpe Ratio: 2.118",
          "BSX_Close <br>Volatility: 0.170 <br>Returns: -1.012% <br>Sharpe Ratio: -0.059",
          "NKE_Close <br>Volatility: 0.226 <br>Returns: 10.695% <br>Sharpe Ratio: 0.474",
          "K_Close <br>Volatility: 0.182 <br>Returns: -9.007% <br>Sharpe Ratio: -0.496",
          "EW_Close <br>Volatility: 0.232 <br>Returns: 22.603% <br>Sharpe Ratio: 0.973",
          "PG_Close <br>Volatility: 0.098 <br>Returns: 4.023% <br>Sharpe Ratio: 0.410",
          "ABT_Close <br>Volatility: 0.140 <br>Returns: 28.667% <br>Sharpe Ratio: 2.053",
          "ZBH_Close <br>Volatility: 0.194 <br>Returns: 3.617% <br>Sharpe Ratio: 0.186",
          "ETN_Close <br>Volatility: 0.155 <br>Returns: 13.763% <br>Sharpe Ratio: 0.886",
          "GM_Close <br>Volatility: 0.189 <br>Returns: 14.706% <br>Sharpe Ratio: 0.777",
          "V_Close <br>Volatility: 0.125 <br>Returns: 30.982% <br>Sharpe Ratio: 2.471",
          "BMY_Close <br>Volatility: 0.180 <br>Returns: 11.411% <br>Sharpe Ratio: 0.633",
          "SNAP_Close <br>Volatility: 0.633 <br>Returns: -61.938% <br>Sharpe Ratio: -0.978",
          "PYPL_Close <br>Volatility: 0.231 <br>Returns: 65.170% <br>Sharpe Ratio: 2.817",
          "BA_Close <br>Volatility: 0.174 <br>Returns: 59.541% <br>Sharpe Ratio: 3.416"
         ],
         "marker": {
          "color": {
           "bdata": "nOtwmfL7/z9Ju52C/bPiP+uSSJObcuY/BIzWoPXn1z9sU5W7jzoDQNmqiDYiafQ/z+YQ1BdbA0BzvEGzDAT9P1TzdHM2W1y/c99OPW8e7z/r5ByFwejzPxjpt8nBb+8/137EeX+63T9vEtR/9Mf2PyO7bzH5wcO/1HkZvhB/77+svHrRqSX6P2KXGxqmXOU/LMO0LmA28D/ItecrqSSIv2jxkUxKits/gUENGiJR1L9JhJL4ZNAEQNIDpKWdZwBA2N+5nEY0wz8/LE2E6PXkP/nsZtanN+2/kfMbVuGD+T9qpTJyDYb4P7d6czLcdwBAcfaynOI2BEC3cBOSEZnmP2UVgSEMpQFAUUCJJtxmAkCw95zTZg36PyuBfyqWHru/4HOuwoOzqz/Q81ZaHzUIQChvm1vEr5W/gE+EOurNAEBq1PPxhwAKQBryZjBqxMm/f44UiCwp6T9qbi5QR3zxP6SLU1U5N/o/3RsgkWjNA0BrrzBA+1z2P9KtEo2X6bi/ZVri37VK5z8/eccAuJnwvxgEnJKHU9g/c0Ub9pRz6z80graabvsFQGQy7iWhVes/ZImn5L8K4j9eIRMDug/Zv5hKHadBvO4/4XOlKIPf47/460Hw+ZIHwKMQmWFB1PQ/uY6Jm6zdnz+KcXlGUPnRP3pSbup+Esc/M9J26gla9T8V8V/tSybwv84isq+o+QJAgcQQNC/v8z/PNREXN8P2Pz031y5krtM/BLpb9QfM+z9XfTBd5m8CQAm4PULu9vI/pwJPprfC9z+fOT0CKYZSP/4FRMbruwNA/MWzG9G6/T/QBNpLcFb8PxIjFUuJfQNAiIUXI4op9T8Uu9LQ6vEAQGEasDOJZq6/Qcl+1C9V3j8V7t4CSr7fvxlTJKRKIe8/xddNYy5D2j8wFqdeh2sAQJJhf7eG1cc/fWCW7UlZ7D9fh8V9XNvoP0Vpwx/SwwNAbzjHJOg95D/Doudtw03vvzFyps2IiAZAqrCWZtJTC0A=",
           "dtype": "f8"
          },
          "colorbar": {
           "title": {
            "text": "Sharpe<br>Ratio"
           }
          },
          "colorscale": [
           [
            0,
            "rgb(103,0,31)"
           ],
           [
            0.1,
            "rgb(178,24,43)"
           ],
           [
            0.2,
            "rgb(214,96,77)"
           ],
           [
            0.3,
            "rgb(244,165,130)"
           ],
           [
            0.4,
            "rgb(253,219,199)"
           ],
           [
            0.5,
            "rgb(247,247,247)"
           ],
           [
            0.6,
            "rgb(209,229,240)"
           ],
           [
            0.7,
            "rgb(146,197,222)"
           ],
           [
            0.8,
            "rgb(67,147,195)"
           ],
           [
            0.9,
            "rgb(33,102,172)"
           ],
           [
            1,
            "rgb(5,48,97)"
           ]
          ],
          "line": {
           "width": 1
          },
          "size": 6
         },
         "mode": "markers",
         "type": "scatter",
         "x": {
          "bdata": "0vo+au8ozT9veJXOPW3IP0LNUA4j98c/qxL0E+CWuj/S+pdFdUjBP/WGpdLn/MM/NHzCZN9swz+YOtANKSLLPwIxOtvSO8Y/H96yPIPMyj/nF6+KmHfBP7Dy1wL8/cQ/VmBXsV1Qyj+6ol4luDy7P7iyv87LxcY/wfigygXHzj+U4uKT9PXDP/xTuAWHqsU/QR2citayyT+w7qti5+HBP52qZ0DKJc0/Z2SpQak11z+YvJT/9HLCPyXjCzqRMtk/UTOHpw4fyT+2VquHaSu4P6mXWruhst0/DkSFl3ad2D/LOp8Asxu2P+IkHdkHAcE/VNuXavjaxj9M6SXnDG/AP5I8LE1KRrw/bNJOLB6rxD94e8dekZfBP7NrIWvca74/F0orZXhpwz/RADY9Kt3GP2DJ8JTqdcU/O3cDmoCyvD9Fu6omFD/JPyBC0wABa8Y/m87cw0aRzj8UV3iKwRbCP9J4JE/7IMQ/SelWg58Mwj/cxv707ObDP3CPhyLzPMQ/ISwVRQb01j+T6nYFRlLDPyFyjoqW1cU/DyILg/gcyT9PVTSwoXfBPywfuUnGn7s/0iYbPJpxyT9rg4nLuXzTP2FaMtGK08A/fWbr1HOn4j9HTlTUNELLP5np48kcCLk/LIWYPQ4fwT+CXG0zZEDIP8IEzKUdR8U/BdpQFehb0j9SKxNIcSvEP3vxEjKLPMc/uKFuFYXSxD/E4WJyV4jGP/oEQD5UycI/ApfuubFqxD8EnJ7h9hvRPzVuc3Qvp8Q/Vk1aSUZAvT8JcNgkhhLSP2jIoDjOA7o/rlkHlu15xj8mJV99fBrGP15yaA/3ecg/bYjO8pzbxD9ZRrw4c8jAP9pf1IFY0sU/1UewHXPizD93D+vpsj7HP36hAk9nvc0/VI3kTnAYuT8erSgeuuDBPwFdx3Fb3cg/UU2vOdXiwz8MWM6eszvIPwwHGGkwDcA/2wp9O/cWxz9KaSCc0ELkP8yL/rGSnc0/OjLkA5JPxj8=",
          "dtype": "f8"
         },
         "y": {
          "bdata": "JJM7Fj4l3T9VBqmyro28P3D9GQq9z8A/zLWvSC7doz9DBvktTcXUPx8wMjZ4f8k/hjssbOF/1z8ip3Q+ZJrYPwBqnnS4szO/OFGVBpwPyj9Sj3yMHrzFP6f9FkVcn8Q/0klj3DByuD8eDqNO8GPDP9YUgpz2Hpy/MzihlQNLzr8/+JEIVU/QP6EldqxG7bw/A6q7miwKyj+aAc5v1Ptav22br0vZFbk/P0DCssR4vb+xfY4d/f/XPzxf/gW/1ek/tcaDNPUmnj+ahdjmu6mvP8xF+lqJHdu/Ce9CmXag4z9hajCIY/HAP07JRYdpgNE/cQ5xQB3g3D9Kfj216TW3PzKoJ0BZLs8/Y7jZNGHF1z8gSgtvCKXMP4ygCNsVyIm/goywfOPNgD+89Kpi1EvhPwbUkfiEFm2/f/FFxdMjzj+iKWugq4PkP4oMJpMyDaK/TNFt9dMIyD+THbKersTDP8B2qfCIfdA/jXJ9HbVW1j+QkNwpLtHLPy6CGfrjgo+/YlcBRfu00D8/TCH25gvEv3tCfmcvmbA/NNDJsiaLxT+OMx+vgf/XPwsGhNG6mLc/N4zCq+WwvD/4O+TJCYa+v9+YPXlPKcA/aQGnVXAr17/NIHnxyBTkvxPFuuEaS8A/urcpoLAMcT/MUss6Tj6rPzYOfGfTrp4/Jwot9vB/2D+Iyv0ruFvEv8wKb8mvjts/VXaMG0TxyT+Nbxm+MQfQP5oHXx/XG6c/6OfENTO80T8S/DIUHrfjP6J9A2nTesg/PjRtDjC4xT+ZSedeYOw0P2Gr21sIC9A/bpW75Lbh1D+Lklyt4ZLTP47no0Pg0N0/mgPG1GSWyz8E3eLONMbRP5YunwMfu4S/JN8DmjBhuz+wMvxb9w63v6Jhn8Vs7sw/PvpAzIqYpD9ts7c84FjSP5Vr+M8DhaI/P62dZPedwT93ykRX5dLCP7VYxgcd1NM/OiQDmws2vT9Wi/SZ9tHjv0Rt1iWx2uQ/Yo23R5QN4z8=",
          "dtype": "f8"
         }
        }
       ],
       "layout": {
        "template": {
         "data": {
          "bar": [
           {
            "error_x": {
             "color": "#2a3f5f"
            },
            "error_y": {
             "color": "#2a3f5f"
            },
            "marker": {
             "line": {
              "color": "#E5ECF6",
              "width": 0.5
             },
             "pattern": {
              "fillmode": "overlay",
              "size": 10,
              "solidity": 0.2
             }
            },
            "type": "bar"
           }
          ],
          "barpolar": [
           {
            "marker": {
             "line": {
              "color": "#E5ECF6",
              "width": 0.5
             },
             "pattern": {
              "fillmode": "overlay",
              "size": 10,
              "solidity": 0.2
             }
            },
            "type": "barpolar"
           }
          ],
          "carpet": [
           {
            "aaxis": {
             "endlinecolor": "#2a3f5f",
             "gridcolor": "white",
             "linecolor": "white",
             "minorgridcolor": "white",
             "startlinecolor": "#2a3f5f"
            },
            "baxis": {
             "endlinecolor": "#2a3f5f",
             "gridcolor": "white",
             "linecolor": "white",
             "minorgridcolor": "white",
             "startlinecolor": "#2a3f5f"
            },
            "type": "carpet"
           }
          ],
          "choropleth": [
           {
            "colorbar": {
             "outlinewidth": 0,
             "ticks": ""
            },
            "type": "choropleth"
           }
          ],
          "contour": [
           {
            "colorbar": {
             "outlinewidth": 0,
             "ticks": ""
            },
            "colorscale": [
             [
              0,
              "#0d0887"
             ],
             [
              0.1111111111111111,
              "#46039f"
             ],
             [
              0.2222222222222222,
              "#7201a8"
             ],
             [
              0.3333333333333333,
              "#9c179e"
             ],
             [
              0.4444444444444444,
              "#bd3786"
             ],
             [
              0.5555555555555556,
              "#d8576b"
             ],
             [
              0.6666666666666666,
              "#ed7953"
             ],
             [
              0.7777777777777778,
              "#fb9f3a"
             ],
             [
              0.8888888888888888,
              "#fdca26"
             ],
             [
              1,
              "#f0f921"
             ]
            ],
            "type": "contour"
           }
          ],
          "contourcarpet": [
           {
            "colorbar": {
             "outlinewidth": 0,
             "ticks": ""
            },
            "type": "contourcarpet"
           }
          ],
          "heatmap": [
           {
            "colorbar": {
             "outlinewidth": 0,
             "ticks": ""
            },
            "colorscale": [
             [
              0,
              "#0d0887"
             ],
             [
              0.1111111111111111,
              "#46039f"
             ],
             [
              0.2222222222222222,
              "#7201a8"
             ],
             [
              0.3333333333333333,
              "#9c179e"
             ],
             [
              0.4444444444444444,
              "#bd3786"
             ],
             [
              0.5555555555555556,
              "#d8576b"
             ],
             [
              0.6666666666666666,
              "#ed7953"
             ],
             [
              0.7777777777777778,
              "#fb9f3a"
             ],
             [
              0.8888888888888888,
              "#fdca26"
             ],
             [
              1,
              "#f0f921"
             ]
            ],
            "type": "heatmap"
           }
          ],
          "histogram": [
           {
            "marker": {
             "pattern": {
              "fillmode": "overlay",
              "size": 10,
              "solidity": 0.2
             }
            },
            "type": "histogram"
           }
          ],
          "histogram2d": [
           {
            "colorbar": {
             "outlinewidth": 0,
             "ticks": ""
            },
            "colorscale": [
             [
              0,
              "#0d0887"
             ],
             [
              0.1111111111111111,
              "#46039f"
             ],
             [
              0.2222222222222222,
              "#7201a8"
             ],
             [
              0.3333333333333333,
              "#9c179e"
             ],
             [
              0.4444444444444444,
              "#bd3786"
             ],
             [
              0.5555555555555556,
              "#d8576b"
             ],
             [
              0.6666666666666666,
              "#ed7953"
             ],
             [
              0.7777777777777778,
              "#fb9f3a"
             ],
             [
              0.8888888888888888,
              "#fdca26"
             ],
             [
              1,
              "#f0f921"
             ]
            ],
            "type": "histogram2d"
           }
          ],
          "histogram2dcontour": [
           {
            "colorbar": {
             "outlinewidth": 0,
             "ticks": ""
            },
            "colorscale": [
             [
              0,
              "#0d0887"
             ],
             [
              0.1111111111111111,
              "#46039f"
             ],
             [
              0.2222222222222222,
              "#7201a8"
             ],
             [
              0.3333333333333333,
              "#9c179e"
             ],
             [
              0.4444444444444444,
              "#bd3786"
             ],
             [
              0.5555555555555556,
              "#d8576b"
             ],
             [
              0.6666666666666666,
              "#ed7953"
             ],
             [
              0.7777777777777778,
              "#fb9f3a"
             ],
             [
              0.8888888888888888,
              "#fdca26"
             ],
             [
              1,
              "#f0f921"
             ]
            ],
            "type": "histogram2dcontour"
           }
          ],
          "mesh3d": [
           {
            "colorbar": {
             "outlinewidth": 0,
             "ticks": ""
            },
            "type": "mesh3d"
           }
          ],
          "parcoords": [
           {
            "line": {
             "colorbar": {
              "outlinewidth": 0,
              "ticks": ""
             }
            },
            "type": "parcoords"
           }
          ],
          "pie": [
           {
            "automargin": true,
            "type": "pie"
           }
          ],
          "scatter": [
           {
            "fillpattern": {
             "fillmode": "overlay",
             "size": 10,
             "solidity": 0.2
            },
            "type": "scatter"
           }
          ],
          "scatter3d": [
           {
            "line": {
             "colorbar": {
              "outlinewidth": 0,
              "ticks": ""
             }
            },
            "marker": {
             "colorbar": {
              "outlinewidth": 0,
              "ticks": ""
             }
            },
            "type": "scatter3d"
           }
          ],
          "scattercarpet": [
           {
            "marker": {
             "colorbar": {
              "outlinewidth": 0,
              "ticks": ""
             }
            },
            "type": "scattercarpet"
           }
          ],
          "scattergeo": [
           {
            "marker": {
             "colorbar": {
              "outlinewidth": 0,
              "ticks": ""
             }
            },
            "type": "scattergeo"
           }
          ],
          "scattergl": [
           {
            "marker": {
             "colorbar": {
              "outlinewidth": 0,
              "ticks": ""
             }
            },
            "type": "scattergl"
           }
          ],
          "scattermap": [
           {
            "marker": {
             "colorbar": {
              "outlinewidth": 0,
              "ticks": ""
             }
            },
            "type": "scattermap"
           }
          ],
          "scattermapbox": [
           {
            "marker": {
             "colorbar": {
              "outlinewidth": 0,
              "ticks": ""
             }
            },
            "type": "scattermapbox"
           }
          ],
          "scatterpolar": [
           {
            "marker": {
             "colorbar": {
              "outlinewidth": 0,
              "ticks": ""
             }
            },
            "type": "scatterpolar"
           }
          ],
          "scatterpolargl": [
           {
            "marker": {
             "colorbar": {
              "outlinewidth": 0,
              "ticks": ""
             }
            },
            "type": "scatterpolargl"
           }
          ],
          "scatterternary": [
           {
            "marker": {
             "colorbar": {
              "outlinewidth": 0,
              "ticks": ""
             }
            },
            "type": "scatterternary"
           }
          ],
          "surface": [
           {
            "colorbar": {
             "outlinewidth": 0,
             "ticks": ""
            },
            "colorscale": [
             [
              0,
              "#0d0887"
             ],
             [
              0.1111111111111111,
              "#46039f"
             ],
             [
              0.2222222222222222,
              "#7201a8"
             ],
             [
              0.3333333333333333,
              "#9c179e"
             ],
             [
              0.4444444444444444,
              "#bd3786"
             ],
             [
              0.5555555555555556,
              "#d8576b"
             ],
             [
              0.6666666666666666,
              "#ed7953"
             ],
             [
              0.7777777777777778,
              "#fb9f3a"
             ],
             [
              0.8888888888888888,
              "#fdca26"
             ],
             [
              1,
              "#f0f921"
             ]
            ],
            "type": "surface"
           }
          ],
          "table": [
           {
            "cells": {
             "fill": {
              "color": "#EBF0F8"
             },
             "line": {
              "color": "white"
             }
            },
            "header": {
             "fill": {
              "color": "#C8D4E3"
             },
             "line": {
              "color": "white"
             }
            },
            "type": "table"
           }
          ]
         },
         "layout": {
          "annotationdefaults": {
           "arrowcolor": "#2a3f5f",
           "arrowhead": 0,
           "arrowwidth": 1
          },
          "autotypenumbers": "strict",
          "coloraxis": {
           "colorbar": {
            "outlinewidth": 0,
            "ticks": ""
           }
          },
          "colorscale": {
           "diverging": [
            [
             0,
             "#8e0152"
            ],
            [
             0.1,
             "#c51b7d"
            ],
            [
             0.2,
             "#de77ae"
            ],
            [
             0.3,
             "#f1b6da"
            ],
            [
             0.4,
             "#fde0ef"
            ],
            [
             0.5,
             "#f7f7f7"
            ],
            [
             0.6,
             "#e6f5d0"
            ],
            [
             0.7,
             "#b8e186"
            ],
            [
             0.8,
             "#7fbc41"
            ],
            [
             0.9,
             "#4d9221"
            ],
            [
             1,
             "#276419"
            ]
           ],
           "sequential": [
            [
             0,
             "#0d0887"
            ],
            [
             0.1111111111111111,
             "#46039f"
            ],
            [
             0.2222222222222222,
             "#7201a8"
            ],
            [
             0.3333333333333333,
             "#9c179e"
            ],
            [
             0.4444444444444444,
             "#bd3786"
            ],
            [
             0.5555555555555556,
             "#d8576b"
            ],
            [
             0.6666666666666666,
             "#ed7953"
            ],
            [
             0.7777777777777778,
             "#fb9f3a"
            ],
            [
             0.8888888888888888,
             "#fdca26"
            ],
            [
             1,
             "#f0f921"
            ]
           ],
           "sequentialminus": [
            [
             0,
             "#0d0887"
            ],
            [
             0.1111111111111111,
             "#46039f"
            ],
            [
             0.2222222222222222,
             "#7201a8"
            ],
            [
             0.3333333333333333,
             "#9c179e"
            ],
            [
             0.4444444444444444,
             "#bd3786"
            ],
            [
             0.5555555555555556,
             "#d8576b"
            ],
            [
             0.6666666666666666,
             "#ed7953"
            ],
            [
             0.7777777777777778,
             "#fb9f3a"
            ],
            [
             0.8888888888888888,
             "#fdca26"
            ],
            [
             1,
             "#f0f921"
            ]
           ]
          },
          "colorway": [
           "#636efa",
           "#EF553B",
           "#00cc96",
           "#ab63fa",
           "#FFA15A",
           "#19d3f3",
           "#FF6692",
           "#B6E880",
           "#FF97FF",
           "#FECB52"
          ],
          "font": {
           "color": "#2a3f5f"
          },
          "geo": {
           "bgcolor": "white",
           "lakecolor": "white",
           "landcolor": "#E5ECF6",
           "showlakes": true,
           "showland": true,
           "subunitcolor": "white"
          },
          "hoverlabel": {
           "align": "left"
          },
          "hovermode": "closest",
          "mapbox": {
           "style": "light"
          },
          "paper_bgcolor": "white",
          "plot_bgcolor": "#E5ECF6",
          "polar": {
           "angularaxis": {
            "gridcolor": "white",
            "linecolor": "white",
            "ticks": ""
           },
           "bgcolor": "#E5ECF6",
           "radialaxis": {
            "gridcolor": "white",
            "linecolor": "white",
            "ticks": ""
           }
          },
          "scene": {
           "xaxis": {
            "backgroundcolor": "#E5ECF6",
            "gridcolor": "white",
            "gridwidth": 2,
            "linecolor": "white",
            "showbackground": true,
            "ticks": "",
            "zerolinecolor": "white"
           },
           "yaxis": {
            "backgroundcolor": "#E5ECF6",
            "gridcolor": "white",
            "gridwidth": 2,
            "linecolor": "white",
            "showbackground": true,
            "ticks": "",
            "zerolinecolor": "white"
           },
           "zaxis": {
            "backgroundcolor": "#E5ECF6",
            "gridcolor": "white",
            "gridwidth": 2,
            "linecolor": "white",
            "showbackground": true,
            "ticks": "",
            "zerolinecolor": "white"
           }
          },
          "shapedefaults": {
           "line": {
            "color": "#2a3f5f"
           }
          },
          "ternary": {
           "aaxis": {
            "gridcolor": "white",
            "linecolor": "white",
            "ticks": ""
           },
           "baxis": {
            "gridcolor": "white",
            "linecolor": "white",
            "ticks": ""
           },
           "bgcolor": "#E5ECF6",
           "caxis": {
            "gridcolor": "white",
            "linecolor": "white",
            "ticks": ""
           }
          },
          "title": {
           "x": 0.05
          },
          "xaxis": {
           "automargin": true,
           "gridcolor": "white",
           "linecolor": "white",
           "ticks": "",
           "title": {
            "standoff": 15
           },
           "zerolinecolor": "white",
           "zerolinewidth": 2
          },
          "yaxis": {
           "automargin": true,
           "gridcolor": "white",
           "linecolor": "white",
           "ticks": "",
           "title": {
            "standoff": 15
           },
           "zerolinecolor": "white",
           "zerolinewidth": 2
          }
         }
        },
        "title": {
         "text": "Markowitz Mean Varience Model"
        },
        "xaxis": {
         "title": {
          "text": "Volatility (Standard Deviation)"
         }
        },
        "yaxis": {
         "title": {
          "text": "Annualized Returns"
         }
        }
       }
      }
     },
     "metadata": {},
     "output_type": "display_data"
    }
   ],
   "source": [
    "hover_texts = [\n",
    "    f\"{ticker} <br>Volatility: {vol:.3f} <br>Returns: {ret:.3%} <br>Sharpe Ratio: {sr:.3f}\"\n",
    "    for ticker, vol, ret, sr in zip(names, volatility, annualized_returns, sharpe_ratios)\n",
    "]\n",
    "\n",
    "fig = go.Figure(data=go.Scatter(\n",
    "    x=volatility, \n",
    "    y=annualized_returns, \n",
    "    mode='markers',\n",
    "    hoverinfo='text',\n",
    "    hovertext=hover_texts,\n",
    "    marker=dict(color=sharpe_ratios, colorscale = 'RdBu', size=6, line=dict(width=1), colorbar=dict(title=\"Sharpe<br>Ratio\")\n",
    "    )\n",
    "))\n",
    "\n",
    "fig.update_layout(\n",
    "    title='Markowitz Mean Varience Model',\n",
    "    xaxis_title='Volatility (Standard Deviation)',\n",
    "    yaxis_title='Annualized Returns',\n",
    ")\n",
    "\n",
    "fig.show()\n"
   ]
  },
  {
   "cell_type": "markdown",
   "metadata": {},
   "source": [
    "## 4.0 Monte Carlo Method"
   ]
  },
  {
   "cell_type": "code",
   "execution_count": 6,
   "metadata": {},
   "outputs": [
    {
     "name": "stderr",
     "output_type": "stream",
     "text": [
      "100%|██████████| 1000/1000 [00:02<00:00, 403.70it/s]\n"
     ]
    }
   ],
   "source": [
    "all_portfolios, dominant_portfolios = MonteCarloRBA(names, cov, annualized_returns, 1000)"
   ]
  },
  {
   "cell_type": "code",
   "execution_count": 7,
   "metadata": {},
   "outputs": [
    {
     "name": "stdout",
     "output_type": "stream",
     "text": [
      "65 1000\n"
     ]
    }
   ],
   "source": [
    "print (len(dominant_portfolios) ,len(all_portfolios))"
   ]
  },
  {
   "cell_type": "code",
   "execution_count": 8,
   "metadata": {},
   "outputs": [
    {
     "data": {
      "application/vnd.plotly.v1+json": {
       "config": {
        "plotlyServerURL": "https://plot.ly"
       },
       "data": [
        {
         "hoverinfo": "text",
         "marker": {
          "color": [
           2.5162701052349665,
           2.420746702493968,
           1.4188978706390014,
           1.6322671157024813,
           2.4113803614568,
           2.6937708631843615,
           2.8698101588677334,
           3.0688986745143287,
           1.3014246247489432,
           1.40032149517339,
           2.2520725080088204,
           3.5056257472703174,
           0.9431656647310628,
           2.495076650418411,
           1.1672867389446613,
           2.758944116614893,
           2.4206815083894937,
           2.5310325876065414,
           2.526799415790086,
           2.6017550868714676,
           1.73426333238455,
           2.5074866792566306,
           2.111517275983596,
           2.219673285535529,
           1.1366728772912682,
           2.5268261618600625,
           3.530828870394853,
           1.119776945078847,
           1.5327276669362058,
           3.9406739139762887,
           2.3149779465480265,
           1.3091270386420317,
           3.0259387071405177,
           3.285348345902727,
           1.3281958717372258,
           3.1403906135532336,
           3.1782987593561036,
           2.625486706655304,
           1.1300078259408681,
           2.915142933653875,
           1.7669721843339707,
           3.288229745179742,
           3.4964202834204396,
           2.433351018018145,
           0.8399795157872502,
           2.148719703367763,
           2.8027536680427367,
           2.0528169540289514,
           2.671208771613014,
           2.1207290934270606,
           0.9406369758558802,
           2.850613760863646,
           1.7950469323534493,
           1.485038423197844,
           1.2109538843153682,
           2.7364873519368076,
           2.823525088357841,
           1.5327276669362058,
           4.093051758513524,
           1.5580804245386846,
           1.9923396218303377,
           0.05410396338851744,
           1.667762106359294,
           2.8218101435846754,
           2.8987965798092783,
           3.7728058277652887,
           2.2892638994414045,
           3.622215082434274,
           2.354462788139807,
           3.4968624511541697,
           3.1115699077284744,
           1.7944132098994792,
           3.784729973261876,
           1.9786061357908558,
           2.5351828203776368,
           3.4996203671952015,
           1.9052687968108302,
           0.6002028237576614,
           2.146088167122601,
           2.317307462926944,
           0.9823922099888317,
           2.373891073063111,
           2.903199384881569,
           3.47101042624273,
           2.6409966761692414,
           1.8874777639422837,
           2.456949982010154,
           4.177288236000746,
           3.071637066956598,
           1.6384824116764527,
           2.499989949257931,
           3.00589654156789,
           2.036908880546411,
           0.7767775017239088,
           2.554883497078661,
           2.0657302245711215,
           2.306919710398713,
           2.799634826548899,
           2.1952698605507943,
           4.140211934562403,
           2.8698659491823078,
           2.5625203391001614,
           3.5348816330740966,
           1.0132753204781666,
           0.667559672347789,
           2.9452611071233092,
           2.2404090302705666,
           1.3989952036504418,
           2.2641517030514207,
           1.4600942162021058,
           0.4104345239152941,
           2.588049051055649,
           3.6194858699390067,
           1.050369683346691,
           3.607369695044681,
           2.2033638464010563,
           2.4099718220074395,
           4.487836147585603,
           2.09561084851655,
           2.974946471139637,
           2.5223028244133965,
           2.5267994157900877,
           2.066761650677339,
           3.2639809011623266,
           3.2074753071981252,
           2.5787881985325094,
           0.4103504152075142,
           3.546948249476767,
           0.7005217901659789,
           2.143132210599402,
           2.470615623618104,
           1.3564449752931385,
           3.2865577129825225,
           3.2746099720080233,
           2.208992977370925,
           3.3553038467531295,
           0.6083801476429629,
           1.3651414594574647,
           2.475297101776489,
           2.907360330601616,
           1.7501464002442573,
           2.0628290774695293,
           2.5510848740275867,
           2.514657523738884,
           2.432093282985539,
           2.883297081855119,
           2.6701858088043813,
           1.9864744681175528,
           1.962479699985906,
           2.590383409573743,
           2.89271543380268,
           1.7688551467542828,
           2.53784154745272,
           2.8133691839208317,
           1.3849561349172106,
           1.4266889832092502,
           2.071430341500833,
           1.1126372111174936,
           0.8874260621938976,
           2.850624337977954,
           2.6712087363298807,
           3.2085656682810333,
           3.461163378188935,
           1.8231785013368598,
           2.5974019994543993,
           3.4620296599576337,
           2.3283624313332005,
           1.4293717461427669,
           3.4291703729072527,
           2.739684328052066,
           2.1309489987036616,
           2.9254700086463243,
           3.245586082587394,
           0.9087526003240782,
           2.5025707910078068,
           1.5215462619429858,
           0.9775393592813579,
           2.124484464157301,
           3.3340830616135855,
           2.6969452501778575,
           2.863264845116974,
           2.5165382804098084,
           2.6239099025195753,
           3.305588344939851,
           2.4797104837884065,
           2.302077026598631,
           1.4342207875203594,
           2.967341516026182,
           2.3722044215739606,
           2.1348469832130994,
           3.2603981009796823,
           1.7556759203299865,
           4.077281668062944,
           0.960480524440146,
           3.317270504201532,
           2.416649440141107,
           3.0883450356535205,
           3.457684025854917,
           1.5648223255086586,
           1.341002363561814,
           3.6331865399303735,
           3.589908980693195,
           2.8615360949353383,
           3.0466946761814033,
           3.2600693460241272,
           2.538415906895821,
           1.5683012609089806,
           0.948372880839844,
           2.825105869632017,
           2.4130100800646024,
           2.7991928952380256,
           2.0697277675588506,
           2.1409293304550308,
           2.894582034499643,
           3.4734834939058654,
           2.736487351227295,
           2.7347589882088923,
           2.6712087363328303,
           3.0208321480063987,
           3.444691044095698,
           2.4121369173832328,
           4.039775725778089,
           1.3485700179170736,
           2.0219518009261814,
           2.358000133591957,
           3.259339917671948,
           3.5575436349723506,
           3.5123078128568457,
           3.281010394853701,
           2.6220101735061085,
           2.952327237602113,
           3.8005047216357557,
           1.637211989030681,
           3.4741916031699716,
           3.2887824462584665,
           1.3696515324655159,
           2.8704449052942316,
           2.6947667234065196,
           2.6827657015357422,
           3.3116996971212016,
           3.606943560500363,
           2.8057502512670576,
           0.9604805244400656,
           1.0896934203634623,
           2.3072420642898748,
           3.133295628047531,
           2.1902771315248577,
           2.8970127054742854,
           1.5142864773691112,
           0.7026924880098295,
           3.4217193165243325,
           1.4527096312582979,
           1.866581318814567,
           0.8542028179959437,
           1.5238625511550936,
           0.9782116039667768,
           2.003835462336108,
           2.4950767623878867,
           1.2879703317931834,
           0.7767775017239091,
           2.6938015069158685,
           1.1765082213035816,
           3.4159286513077594,
           2.601760364740758,
           2.2995239974773325,
           2.7071365062193125,
           1.755921508581762,
           2.697186459873667,
           1.583040419773528,
           1.3661934066455188,
           1.0346868007862091,
           2.785612394438515,
           2.930505382350172,
           2.747795106482735,
           2.1963614583324023,
           2.7565494116135634,
           1.60502715123408,
           3.552241586212331,
           2.958191629606239,
           2.6831020212147667,
           2.8648240886708893,
           3.4525596772620175,
           0.9731709656641353,
           2.4843552912495896,
           2.119085661059394,
           2.287716899243747,
           2.7688284402289014,
           3.283405982804355,
           3.2059200838157396,
           2.386064800388711,
           1.0132753204781677,
           1.8211420050044853,
           2.4127121967792826,
           2.3002245913158172,
           0.9821120000047358,
           3.0785751839215383,
           2.962660317743746,
           2.4866448857020913,
           2.768828439964577,
           2.2225441095526963,
           1.9344225381568012,
           1.3148998411124437,
           2.304638603250775,
           2.466758297873411,
           2.118123656683915,
           2.609983977888036,
           3.3249384398865636,
           2.6815842833317682,
           3.0259387071405186,
           3.039526707266584,
           2.1451080150933843,
           3.1425173813951313,
           1.0132753204781024,
           1.594697319377904,
           1.287970054433733,
           2.1501848561434906,
           2.5510028107437064,
           2.720639303728729,
           4.509613235716579,
           3.988784814859705,
           2.2590139203542208,
           3.4001089088123537,
           1.7285823952162669,
           2.707561596348964,
           3.0748745948706926,
           0.9657190585374359,
           1.42265995989452,
           3.286557716343596,
           3.6390444901810937,
           3.463835138105272,
           2.6026002819179066,
           2.305018202646706,
           1.0253535945788346,
           1.1899566226724425,
           3.2563636422328415,
           1.999390361982322,
           2.2701808616045147,
           1.3202105096817183,
           2.8924935115625896,
           3.0530161964943727,
           3.430410789717098,
           2.9869345283713287,
           3.1244252387466123,
           3.813256582535513,
           2.4720932009159906,
           0.8430716624179195,
           2.477010743454406,
           2.1111888783988264,
           3.3183875972374484,
           2.6909068135544336,
           2.0265865882897742,
           2.679662662142644,
           1.3923774298949938,
           2.4567029995461596,
           3.413237144814449,
           2.031358206663061,
           2.2740028228094835,
           2.714295141744394,
           2.0877457454828225,
           2.8256921163975615,
           3.1977926223610456,
           0.735726661598148,
           2.898541615781184,
           2.1812273517210405,
           3.2548367065166643,
           3.843352372130034,
           2.1589134573474316,
           0.9461051133825962,
           2.4843554210241447,
           2.4364707382496777,
           1.6360548083193662,
           2.4194790427835424,
           1.3435694228749173,
           3.2078806768427865,
           2.6004112127331127,
           2.121530515850522,
           2.8604618627911758,
           2.878937974640234,
           2.7276799216254015,
           1.776801584053164,
           0.18620380363243585,
           2.356019439215362,
           2.1726894694033363,
           2.4667582978734055,
           1.7635071555993096,
           3.730117777032355,
           3.8361827499625476,
           3.113898961243696,
           2.05990294767772,
           2.5319933556938574,
           2.9996115087331114,
           1.0758143213327034,
           1.472205357328594,
           2.172018257018574,
           2.4868640234064694,
           2.586780440038542,
           1.857395281806008,
           2.7484134061983596,
           1.4801022141202806,
           3.1504247149453857,
           1.5799010281766352,
           2.536319172381503,
           2.559049974653534,
           2.2055895440595776,
           2.471294792544354,
           2.371892634529989,
           2.8390830849646953,
           3.1125669978776838,
           1.0186285879530403,
           1.8187700401866673,
           2.620863115655164,
           1.7036516903497043,
           2.362502855497406,
           3.4531242727657605,
           0.7862761171167704,
           1.9585358158964512,
           3.3848658750530642,
           1.5286228870977967,
           1.6385714362404848,
           3.204829723242613,
           3.6155320177157724,
           2.536166313014344,
           1.8053452533652568,
           1.1201896407421703,
           1.0959892711922328,
           1.6339100098504578,
           2.796345286953263,
           3.084480539443576,
           2.47971055064573,
           3.3064950160710973,
           0.6900840828135139,
           3.2227188671933,
           2.193851633842223,
           2.270912848324817,
           2.3863247784748913,
           1.7376019846261117,
           2.294672530195026,
           1.4850445176730287,
           0.4436648384963276,
           1.8215441748790304,
           1.3226415034081085,
           2.796033754069085,
           1.7093114367399687,
           1.6384824116764571,
           2.5451563898020013,
           3.0720473667124546,
           0.3819488746351518,
           2.624640345055716,
           0.9313133451891457,
           2.621650079300861,
           2.4937001986633835,
           3.0413310637858055,
           2.988886761508722,
           1.3696513074847954,
           3.9369966218630323,
           3.5631298663858635,
           3.187382493592022,
           2.2933302679107257,
           2.747769554800721,
           2.875960646669721,
           1.2831351578780013,
           3.4322042117412486,
           0.47564315114822636,
           2.118123656683915,
           2.7838620593088983,
           2.1036237789362455,
           2.3972602775785115,
           1.6384824116764574,
           2.6017550868714676,
           2.8072261376415275,
           2.8230777819720223,
           2.1567363483247184,
           1.964954214514552,
           2.0318871942814822,
           2.926054162296146,
           0.883897913414548,
           2.054422812499253,
           2.300224591315818,
           2.4467291850817063,
           2.711325881181895,
           2.8428147260643635,
           2.706682045516085,
           1.3557008804274473,
           2.540657122919846,
           2.27967697849841,
           2.588274236280321,
           1.6158485715666449,
           1.6655934292066825,
           1.5253703077371934,
           4.100794828347244,
           2.480126186196222,
           1.5232040295647882,
           3.0887897806437974,
           2.300224591315818,
           3.3542503824306067,
           1.5287331782729674,
           2.2977411668414014,
           3.0413311457530354,
           1.7812821786635136,
           2.5635729303298698,
           2.9234512120659044,
           2.546272499945026,
           2.456778737045944,
           2.475589243008225,
           1.334482112765852,
           1.866478045528257,
           2.5030222055799447,
           2.89086646547822,
           2.113207032870175,
           1.1406640323664745,
           1.5964806151403883,
           3.344732545606531,
           2.4641505794538516,
           1.5709718658691105,
           0.7026925331441668,
           2.583749077339779,
           3.605506808324945,
           2.825425549522722,
           2.9696168630187385,
           1.0621631253572457,
           3.077341013423815,
           2.4797332035606483,
           2.76353255328915,
           2.7199116363864553,
           2.114479548132318,
           3.31116317947979,
           0.22476818657996878,
           3.6433174941435107,
           2.403594460959018,
           3.895672365114052,
           1.0553795501898249,
           3.627801870284208,
           3.112993143102547,
           1.9170615094989152,
           1.5718273653190629,
           3.0259387071405186,
           2.4752971017764893,
           2.2368679324231864,
           2.6992080807373644,
           2.825449670469166,
           2.578266200505004,
           2.059752298583792,
           0.6981611361694887,
           3.202141798465368,
           3.047591855658208,
           2.0558715311279894,
           2.8702337971955263,
           0.9724651524947902,
           0.41035041520751325,
           0.8916206059581492,
           0.41035041520722854,
           2.2087603576071957,
           1.6726201288835945,
           2.8718982375756608,
           2.4861961134896298,
           2.0262077040672115,
           2.4997274134578387,
           3.648740679592549,
           3.3463562642774654,
           3.065269367691583,
           2.3835897360288554,
           2.533100437540716,
           2.9254700097954696,
           2.4981610189635655,
           3.0693203507984994,
           1.981148605156562,
           3.5348811735405237,
           2.3518809716085722,
           2.883433403792655,
           1.868743117385009,
           2.822728807549109,
           2.710752264283148,
           0.4739493918558632,
           1.1849100293310644,
           3.3552272485532826,
           2.1991133331494517,
           2.3248797173707327,
           2.361288833693966,
           2.496935158622617,
           1.5613247165209203,
           3.10549882931587,
           2.9401518100346977,
           2.0783019329326446,
           1.9794141882088099,
           2.6752184637375365,
           4.107447995030387,
           3.4159286513077705,
           2.392445042075895,
           1.8588177214637378,
           2.22580037905567,
           2.9418295045234393,
           2.4190538892659754,
           0.6550180992137279,
           3.5477023149075717,
           2.93050538233383,
           1.4181932610853456,
           2.878746160867594,
           3.4249447348746185,
           2.180657588581738,
           2.4939205923045,
           2.0794341204163778,
           1.8725162691252937,
           2.474910570166469,
           2.558235663677704,
           1.4005503138403108,
           2.436297022421401,
           1.0039062910059187,
           1.9802403715859738,
           3.2502592947517326,
           3.13042969117869,
           2.3361806833280854,
           1.7479490058366847,
           1.8464937430210222,
           1.6384824116764563,
           1.2458946260269663,
           2.9191017367261582,
           3.0887899002106343,
           2.3783809967384615,
           1.6901241861475786,
           3.238314036534483,
           2.033851164371947,
           2.0231262790874567,
           1.634017414461465,
           1.6350788990401144,
           2.148599857685845,
           2.550285402886575,
           3.0526679160348857,
           3.748163636059089,
           2.9121673357840283,
           3.348496257417971,
           2.2645895709280093,
           3.432090501903946,
           0.373532683437759,
           0.7058296607313395,
           1.1899566247477331,
           3.355179973020173,
           3.2756077475322045,
           1.8004089432797747,
           3.029467138351023,
           2.1067391907656563,
           3.335352210070786,
           2.838906354731847,
           1.403143630166536,
           2.7076440671025184,
           3.4695753303885644,
           2.786160279704281,
           1.728557816733693,
           3.096988140893309,
           3.739797855682984,
           3.0240937158886396,
           0.8858995094660251,
           2.5044070516223296,
           2.7996436482162723,
           1.5231288583790077,
           3.003751623467915,
           2.4610719925313584,
           2.299722938558263,
           1.1751445097556812,
           2.8168245677043555,
           3.038896384853567,
           1.0789284304779372,
           3.234221498877741,
           2.6450652520905074,
           2.6703749100689165,
           1.3222301348971688,
           2.5916016282633905,
           2.593689341233875,
           1.7871340143332393,
           1.7951455503969314,
           0.7840054824879925,
           2.9651657892551464,
           3.7936572003741094,
           1.2443251800271424,
           2.8753998613299014,
           3.0617507405338604,
           3.4091729394166395,
           2.0585254613391344,
           3.4574906467618014,
           2.4295888170890625,
           2.96320794159145,
           2.5423603708171116,
           0.6325828126448554,
           2.4936999879453157,
           2.496915753738319,
           2.4335573246417614,
           2.7854072511310366,
           2.9801492587508225,
           3.9778876566623778,
           2.5710095615484203,
           2.1005444118144956,
           2.10433108136009,
           3.234221826191526,
           3.7026904890253793,
           3.1898761961774,
           2.2570217835792246,
           3.239564669426116,
           1.5494007162677872,
           3.6988532505503953,
           1.054824324373648,
           2.8072261105696494,
           1.9990154296153406,
           1.9864744684122193,
           2.754231150162364,
           2.7523455995886956,
           2.5322206920423103,
           3.9238247670660806,
           1.733440492405031,
           2.097003769857707,
           2.3404065695291143,
           2.3003475332452292,
           2.0842169450444645,
           2.9479044764287856,
           3.9599377999941954,
           3.5610753464036446,
           1.5529166239290004,
           1.636197480550651,
           2.121530289198792,
           4.255497292010252,
           2.268400204345119,
           0.36035788760576304,
           1.015356844912631,
           0.4739493918560989,
           3.0887896996080237,
           2.5267994157900855,
           1.5868390983397977,
           0.9212243012490193,
           2.058525461339091,
           2.420681510863854,
           2.8928809577122614,
           2.835732015944649,
           2.6089442929608047,
           3.5003962216591717,
           2.9842232515417306,
           3.448641308438395,
           2.4939205974248804,
           2.534246216742179,
           1.7559216217584739,
           3.6587471348609633,
           1.2756673936829885,
           3.5335439745255766,
           0.2808418930269646,
           1.6282718912257046,
           2.864862362590017,
           3.1395158409127166,
           3.0500226942430015,
           3.770776515811631,
           1.322641503408109,
           1.0963433328997398,
           3.4645249091516135,
           2.200587364973838,
           2.8470627096821914,
           3.0212385504880515,
           3.105660653287866,
           1.8452685632821078,
           1.3163807296790535,
           1.5709380469396608,
           1.4526598250069456,
           2.34771649667712,
           2.0705818947044645,
           2.8439187232319307,
           1.1045924479154061,
           3.0877306858396456,
           0.7675946655063135,
           2.4707790826304428,
           2.0633774725762026,
           1.75592162913842,
           0.44520245930754826,
           2.0416901057904924,
           2.3959535910770686,
           2.603391489776339,
           3.071998706649918,
           1.81340302329778,
           3.2100193164042126,
           2.835375430207825,
           4.1697162273443515,
           2.7503414698726947,
           2.9477810960239528,
           1.3143039376383776,
           3.5968157454361047,
           2.162310236284023,
           1.989951933719824,
           2.666514714215454,
           2.1694998856122716,
           3.2264050902369656,
           2.84812230806533,
           0.9916551581469424,
           1.6434266985397752,
           1.026484144093246,
           0.7278699276674386,
           2.4968276921923733,
           1.208128879972063,
           2.5718001938541626,
           2.052504291032867,
           2.4296486796677943,
           1.7833453573926459,
           2.126914795350993,
           1.8276561528767603,
           2.240412956694513,
           2.5820009299717497,
           3.257479953046778,
           0.41035041520745513,
           0.47128497518240814,
           1.0085053648354148,
           2.405417410328601,
           0.6325569837850448,
           3.53488161387489,
           2.395456822692384,
           2.4688139010907832,
           1.5991584439385138,
           2.2854589986483003,
           3.26649953383442,
           2.976844179682181,
           1.7923245808827069,
           1.9980248971765955,
           2.6226728453200687,
           2.4094865804004972,
           4.419427230481168,
           3.1878561619131207,
           2.591139590387426,
           3.0365223511196393,
           2.6004113989751425,
           3.772805815241786,
           2.9564548593375486,
           0.41035041520751064,
           1.236425514907034,
           2.1784267230030148,
           2.1336714059509023,
           2.491682298289909,
           2.5159893466002825,
           2.853678465379463,
           2.05852546133914,
           1.3095371137645913,
           1.962942643110513,
           1.8128365856092277,
           2.5106462578846656,
           2.86097119913937,
           3.4351306375664366,
           3.8568558478829043,
           0.9724651524947895,
           2.50391640739359,
           2.2055895440595785,
           1.7045511571990042,
           0.899667491125704,
           1.0763973844662522,
           4.402517915781668,
           3.0025562400903065,
           2.788704776565879,
           3.3939833861608437,
           2.5571058119023693,
           1.7788490767972458,
           4.032871145423171,
           2.895823157108652,
           1.0162200472180523,
           3.1977926223549864,
           2.260340162912533,
           2.524973082981474,
           2.4753083076035107,
           2.076639768054623,
           2.5579286540799453,
           2.9637556039473987,
           2.7996438001969772,
           1.599429436741696,
           2.6411198206986084,
           2.7421281993419706,
           3.2492862490626404,
           1.6608268494721825,
           3.6077290249542457,
           4.342283624232021,
           1.840136154065295,
           1.3555125089511069,
           1.81279997438206,
           1.5423278424665214,
           2.6237094763473126,
           1.8419761253291198,
           2.7730480566139617,
           2.422668609102986,
           2.8407466359760134,
           2.9316738763373564,
           0.6686982186717636,
           2.8425106348360067,
           1.0853388150074175,
           2.411949019212572,
           2.752345841919534,
           2.371903774856355,
           2.5036359838522184,
           2.807226097445657,
           3.35845958889223,
           2.896900004553704,
           2.7162090128413157,
           3.1225097459630318,
           2.864840878451348,
           1.4110178944773395,
           3.196618883479929,
           2.187246194653279,
           2.905406342437839,
           1.488073054260369,
           1.9286843192739302,
           3.4960712112543257,
           0.857859116246021,
           2.0612792559981647,
           3.103802681988506,
           0.6508774383505712,
           2.003835288788999,
           1.0358371726453766,
           2.37846755401262,
           2.4667582978734104,
           2.649381663661275,
           3.687595777432324,
           2.410283991423856,
           4.029424913139749,
           3.137730818661259,
           1.4872912613246334,
           3.3124225662292255,
           1.6826664780147473,
           1.0242916083664124,
           3.291638449312128,
           2.636336067229165,
           3.1550547161624705,
           1.771437701052076,
           3.524666337406464,
           0.8229608872214691,
           3.429832457850143,
           2.7414507736335074,
           3.322403264299227,
           2.6000140670464527,
           2.10678484027269,
           1.6830044650002753,
           3.0844805401616973,
           2.1232250816598817,
           3.4159286513077705,
           2.616548322707339,
           3.3639713331952175,
           3.902652610508933,
           2.4794538856985153,
           2.5259743714029916,
           3.0391710444219022,
           2.4753079299498197,
           1.58208655935587,
           1.9355696009697148,
           2.7315431876077727,
           3.2083253717062097,
           4.3029668537607435,
           1.8426621382246136,
           3.1955331000109903,
           2.6758257874333786,
           1.884201038077193,
           3.000098751673137,
           2.216981985382479,
           3.73584740718625,
           2.109344501705855,
           2.0814675671817318,
           2.0599503536199397,
           2.3789278113310695,
           2.2995239659566002,
           2.954435908188907,
           3.8781407001682617,
           0.5844714690300274,
           2.5387808660602125,
           2.7753792293965844,
           3.439765276847183,
           3.7807436042628826,
           3.1698307903497445,
           2.4844706102521066,
           0.28084189302576734,
           3.0259387071405186,
           0.3800982410176075,
           1.9776558822494437,
           1.0780030214363903,
           2.705032839323459,
           1.4373146252617754,
           1.4625257089674129,
           2.8649568786402955,
           2.684572231708972,
           2.4534084394262146,
           3.1086481255376603,
           2.4493664676151976,
           2.5126878686012937,
           3.0259387071404813,
           1.7781823771873184,
           2.896870545077814,
           1.3231633753646275,
           2.209206208557318,
           3.4713019964644634,
           1.7106791092784686,
           1.064869036651256,
           2.1346005275453233,
           1.1737908211726371,
           2.8349548819784354,
           1.2489058786711593,
           2.438191921167301,
           2.7297138201477353,
           3.638586081678904,
           2.9315552639656963,
           3.074874731272485,
           3.539105445630362,
           2.9039528315190513,
           3.637007707942686,
           2.5451560558463693,
           2.091730523593612,
           2.6825778530510114
          ],
          "colorbar": {
           "title": {
            "text": "Sharpe<br>Ratio"
           }
          },
          "colorscale": [
           [
            0,
            "rgb(103,0,31)"
           ],
           [
            0.1,
            "rgb(178,24,43)"
           ],
           [
            0.2,
            "rgb(214,96,77)"
           ],
           [
            0.3,
            "rgb(244,165,130)"
           ],
           [
            0.4,
            "rgb(253,219,199)"
           ],
           [
            0.5,
            "rgb(247,247,247)"
           ],
           [
            0.6,
            "rgb(209,229,240)"
           ],
           [
            0.7,
            "rgb(146,197,222)"
           ],
           [
            0.8,
            "rgb(67,147,195)"
           ],
           [
            0.9,
            "rgb(33,102,172)"
           ],
           [
            1,
            "rgb(5,48,97)"
           ]
          ],
          "line": {
           "width": 1
          },
          "showscale": true,
          "size": 7
         },
         "mode": "markers",
         "text": [
          "Return: 22.278%<br>Volatility: 0.089<br>Sharpe Ratio: 2.516<br>QCOM_Close: Weight=0.039<br>SAP_Close: Weight=0.271<br>LMT_Close: Weight=0.589<br>VZ_Close: Weight=0.102",
          "Return: 35.835%<br>Volatility: 0.148<br>Sharpe Ratio: 2.421<br>MSFT_Close: Weight=0.969<br>WFC_Close: Weight=0.027<br>RMD_Close: Weight=0.005",
          "Return: 15.171%<br>Volatility: 0.107<br>Sharpe Ratio: 1.419<br>RTX_Close: Weight=0.581<br>ETN_Close: Weight=0.242<br>BTI_Close: Weight=0.177",
          "Return: 21.803%<br>Volatility: 0.134<br>Sharpe Ratio: 1.632<br>PM_Close: Weight=0.000<br>SAP_Close: Weight=0.949<br>BTI_Close: Weight=0.051",
          "Return: 31.439%<br>Volatility: 0.130<br>Sharpe Ratio: 2.411<br>IBM_Close: Weight=0.000<br>NKE_Close: Weight=0.047<br>HD_Close: Weight=0.953",
          "Return: 21.978%<br>Volatility: 0.082<br>Sharpe Ratio: 2.694<br>AEP_Close: Weight=0.311<br>MDT_Close: Weight=0.000<br>HON_Close: Weight=0.689",
          "Return: 42.848%<br>Volatility: 0.149<br>Sharpe Ratio: 2.870<br>AMZN_Close: Weight=0.340<br>BSX_Close: Weight=0.000<br>DE_Close: Weight=0.660",
          "Return: 51.058%<br>Volatility: 0.166<br>Sharpe Ratio: 3.069<br>MRK_Close: Weight=0.000<br>MSFT_Close: Weight=0.496<br>PYPL_Close: Weight=0.504",
          "Return: 18.077%<br>Volatility: 0.139<br>Sharpe Ratio: 1.301<br>F_Close: Weight=0.000<br>EMR_Close: Weight=0.756<br>VZ_Close: Weight=0.244",
          "Return: 20.929%<br>Volatility: 0.149<br>Sharpe Ratio: 1.400<br>SYK_Close: Weight=0.951<br>GILD_Close: Weight=0.049<br>RDY_Close: Weight=0.000",
          "Return: 26.168%<br>Volatility: 0.116<br>Sharpe Ratio: 2.252<br>CSCO_Close: Weight=0.125<br>MMM_Close: Weight=0.785<br>TSLA_Close: Weight=0.090<br>DHR_Close: Weight=0.000",
          "Return: 51.115%<br>Volatility: 0.146<br>Sharpe Ratio: 3.506<br>MS_Close: Weight=0.000<br>BMY_Close: Weight=0.069<br>CAT_Close: Weight=0.584<br>TXN_Close: Weight=0.347",
          "Return: 9.995%<br>Volatility: 0.106<br>Sharpe Ratio: 0.943<br>VZ_Close: Weight=0.416<br>REGN_Close: Weight=0.000<br>DHR_Close: Weight=0.584",
          "Return: 30.313%<br>Volatility: 0.121<br>Sharpe Ratio: 2.495<br>PM_Close: Weight=0.000<br>V_Close: Weight=0.872<br>GOOGL_Close: Weight=0.128<br>CPB_Close: Weight=0.000",
          "Return: 18.065%<br>Volatility: 0.155<br>Sharpe Ratio: 1.167<br>EW_Close: Weight=0.495<br>GM_Close: Weight=0.438<br>WFC_Close: Weight=0.067<br>REGN_Close: Weight=0.000",
          "Return: 31.325%<br>Volatility: 0.114<br>Sharpe Ratio: 2.759<br>REGN_Close: Weight=0.000<br>EMR_Close: Weight=0.226<br>V_Close: Weight=0.584<br>ADBE_Close: Weight=0.190",
          "Return: 35.735%<br>Volatility: 0.148<br>Sharpe Ratio: 2.421<br>IBM_Close: Weight=0.000<br>T_Close: Weight=0.000<br>MSFT_Close: Weight=0.973<br>GIS_Close: Weight=0.027",
          "Return: 28.007%<br>Volatility: 0.111<br>Sharpe Ratio: 2.531<br>MO_Close: Weight=0.000<br>NKE_Close: Weight=0.063<br>V_Close: Weight=0.851<br>COST_Close: Weight=0.086",
          "Return: 45.118%<br>Volatility: 0.179<br>Sharpe Ratio: 2.527<br>DE_Close: Weight=1.000<br>AMD_Close: Weight=0.000<br>XOM_Close: Weight=0.000",
          "Return: 37.500%<br>Volatility: 0.144<br>Sharpe Ratio: 2.602<br>SRE_Close: Weight=0.000<br>MA_Close: Weight=1.000<br>QCOM_Close: Weight=0.000",
          "Return: 17.091%<br>Volatility: 0.099<br>Sharpe Ratio: 1.734<br>SRE_Close: Weight=0.000<br>AAPL_Close: Weight=0.449<br>MS_Close: Weight=0.101<br>PFE_Close: Weight=0.450",
          "Return: 28.649%<br>Volatility: 0.114<br>Sharpe Ratio: 2.507<br>SNAP_Close: Weight=0.000<br>TXN_Close: Weight=0.654<br>EXC_Close: Weight=0.346",
          "Return: 28.666%<br>Volatility: 0.136<br>Sharpe Ratio: 2.112<br>VRTX_Close: Weight=0.256<br>CVX_Close: Weight=0.537<br>SNAP_Close: Weight=0.000<br>EW_Close: Weight=0.207",
          "Return: 27.599%<br>Volatility: 0.124<br>Sharpe Ratio: 2.220<br>TSLA_Close: Weight=0.104<br>MRK_Close: Weight=0.000<br>GE_Close: Weight=0.000<br>MMM_Close: Weight=0.896",
          "Return: 16.649%<br>Volatility: 0.146<br>Sharpe Ratio: 1.137<br>QCOM_Close: Weight=0.316<br>GILD_Close: Weight=0.028<br>CSCO_Close: Weight=0.655",
          "Return: 44.794%<br>Volatility: 0.177<br>Sharpe Ratio: 2.527<br>MS_Close: Weight=0.000<br>REGN_Close: Weight=0.000<br>DE_Close: Weight=0.993<br>SO_Close: Weight=0.007",
          "Return: 67.331%<br>Volatility: 0.191<br>Sharpe Ratio: 3.531<br>WFC_Close: Weight=0.000<br>CAT_Close: Weight=0.806<br>NVDA_Close: Weight=0.194",
          "Return: 12.744%<br>Volatility: 0.114<br>Sharpe Ratio: 1.120<br>GIS_Close: Weight=0.000<br>DUK_Close: Weight=0.600<br>EW_Close: Weight=0.400<br>GE_Close: Weight=0.000",
          "Return: 13.237%<br>Volatility: 0.086<br>Sharpe Ratio: 1.533<br>KO_Close: Weight=1.000<br>MO_Close: Weight=0.000<br>KR_Close: Weight=0.000",
          "Return: 45.725%<br>Volatility: 0.116<br>Sharpe Ratio: 3.941<br>MMM_Close: Weight=0.304<br>BA_Close: Weight=0.509<br>BAC_Close: Weight=0.012<br>AMZN_Close: Weight=0.176",
          "Return: 35.679%<br>Volatility: 0.154<br>Sharpe Ratio: 2.315<br>TXN_Close: Weight=0.913<br>BAC_Close: Weight=0.087<br>CPB_Close: Weight=0.000",
          "Return: 12.408%<br>Volatility: 0.095<br>Sharpe Ratio: 1.309<br>CVX_Close: Weight=0.512<br>SO_Close: Weight=0.000<br>PFE_Close: Weight=0.488",
          "Return: 54.051%<br>Volatility: 0.179<br>Sharpe Ratio: 3.026<br>ABBV_Close: Weight=1.000<br>PG_Close: Weight=0.000<br>BMY_Close: Weight=0.000",
          "Return: 35.227%<br>Volatility: 0.107<br>Sharpe Ratio: 3.285<br>KR_Close: Weight=0.000<br>BABA_Close: Weight=0.282<br>MMM_Close: Weight=0.477<br>SYY_Close: Weight=0.241",
          "Return: 18.773%<br>Volatility: 0.141<br>Sharpe Ratio: 1.328<br>GM_Close: Weight=0.220<br>MRK_Close: Weight=0.000<br>JPM_Close: Weight=0.780",
          "Return: 33.524%<br>Volatility: 0.107<br>Sharpe Ratio: 3.140<br>DE_Close: Weight=0.356<br>GIS_Close: Weight=0.000<br>LMT_Close: Weight=0.430<br>INTC_Close: Weight=0.214",
          "Return: 35.073%<br>Volatility: 0.110<br>Sharpe Ratio: 3.178<br>ORCL_Close: Weight=0.014<br>META_Close: Weight=0.129<br>MCD_Close: Weight=0.610<br>INTC_Close: Weight=0.247",
          "Return: 24.405%<br>Volatility: 0.093<br>Sharpe Ratio: 2.625<br>CMCSA_Close: Weight=0.052<br>HON_Close: Weight=0.749<br>GOOGL_Close: Weight=0.199",
          "Return: 13.224%<br>Volatility: 0.117<br>Sharpe Ratio: 1.130<br>SNAP_Close: Weight=0.000<br>LLY_Close: Weight=0.203<br>CVX_Close: Weight=0.797",
          "Return: 27.974%<br>Volatility: 0.096<br>Sharpe Ratio: 2.915<br>V_Close: Weight=0.460<br>META_Close: Weight=0.090<br>MMM_Close: Weight=0.385<br>PG_Close: Weight=0.064",
          "Return: 24.457%<br>Volatility: 0.138<br>Sharpe Ratio: 1.767<br>GOOG_Close: Weight=0.818<br>F_Close: Weight=0.059<br>DIS_Close: Weight=0.000<br>ORCL_Close: Weight=0.123",
          "Return: 51.880%<br>Volatility: 0.158<br>Sharpe Ratio: 3.288<br>EMR_Close: Weight=0.000<br>CAT_Close: Weight=0.777<br>PFE_Close: Weight=0.223",
          "Return: 40.385%<br>Volatility: 0.116<br>Sharpe Ratio: 3.496<br>MO_Close: Weight=0.000<br>COST_Close: Weight=0.071<br>ABBV_Close: Weight=0.468<br>V_Close: Weight=0.461",
          "Return: 27.585%<br>Volatility: 0.113<br>Sharpe Ratio: 2.433<br>PFE_Close: Weight=0.342<br>TXN_Close: Weight=0.658<br>GE_Close: Weight=0.000",
          "Return: 11.320%<br>Volatility: 0.135<br>Sharpe Ratio: 0.840<br>COST_Close: Weight=0.446<br>BMY_Close: Weight=0.554<br>K_Close: Weight=0.000<br>SO_Close: Weight=0.000",
          "Return: 24.827%<br>Volatility: 0.116<br>Sharpe Ratio: 2.149<br>BTI_Close: Weight=0.077<br>INTC_Close: Weight=0.497<br>EMR_Close: Weight=0.303<br>ORCL_Close: Weight=0.124",
          "Return: 32.551%<br>Volatility: 0.116<br>Sharpe Ratio: 2.803<br>MA_Close: Weight=0.718<br>RMD_Close: Weight=0.005<br>JPM_Close: Weight=0.277<br>CPB_Close: Weight=0.000",
          "Return: 28.351%<br>Volatility: 0.138<br>Sharpe Ratio: 2.053<br>K_Close: Weight=0.000<br>WFC_Close: Weight=0.014<br>ABT_Close: Weight=0.986<br>GE_Close: Weight=0.000",
          "Return: 37.685%<br>Volatility: 0.141<br>Sharpe Ratio: 2.671<br>DE_Close: Weight=0.714<br>SYY_Close: Weight=0.286<br>KR_Close: Weight=0.000<br>ETN_Close: Weight=0.000",
          "Return: 15.270%<br>Volatility: 0.072<br>Sharpe Ratio: 2.121<br>CVX_Close: Weight=0.134<br>KO_Close: Weight=0.619<br>EMR_Close: Weight=0.247",
          "Return: 8.066%<br>Volatility: 0.086<br>Sharpe Ratio: 0.941<br>BTI_Close: Weight=0.246<br>DUK_Close: Weight=0.572<br>BIIB_Close: Weight=0.182",
          "Return: 28.654%<br>Volatility: 0.101<br>Sharpe Ratio: 2.851<br>QCOM_Close: Weight=0.008<br>AEP_Close: Weight=0.389<br>GIS_Close: Weight=0.000<br>MA_Close: Weight=0.603",
          "Return: 27.967%<br>Volatility: 0.156<br>Sharpe Ratio: 1.795<br>META_Close: Weight=0.865<br>MDT_Close: Weight=0.000<br>BTI_Close: Weight=0.135",
          "Return: 16.968%<br>Volatility: 0.114<br>Sharpe Ratio: 1.485<br>AMGN_Close: Weight=0.000<br>PM_Close: Weight=0.000<br>JNJ_Close: Weight=1.000",
          "Return: 13.559%<br>Volatility: 0.112<br>Sharpe Ratio: 1.211<br>MS_Close: Weight=0.291<br>CMCSA_Close: Weight=0.105<br>BTI_Close: Weight=0.251<br>ETN_Close: Weight=0.353",
          "Return: 29.033%<br>Volatility: 0.106<br>Sharpe Ratio: 2.736<br>REGN_Close: Weight=0.000<br>PEP_Close: Weight=0.342<br>K_Close: Weight=0.000<br>MA_Close: Weight=0.658",
          "Return: 59.656%<br>Volatility: 0.211<br>Sharpe Ratio: 2.824<br>PYPL_Close: Weight=0.915<br>LLY_Close: Weight=0.000<br>GIS_Close: Weight=0.085<br>RDY_Close: Weight=0.000",
          "Return: 13.237%<br>Volatility: 0.086<br>Sharpe Ratio: 1.533<br>T_Close: Weight=0.000<br>RDY_Close: Weight=0.000<br>KO_Close: Weight=1.000<br>K_Close: Weight=0.000",
          "Return: 43.498%<br>Volatility: 0.106<br>Sharpe Ratio: 4.093<br>ISRG_Close: Weight=0.280<br>TMO_Close: Weight=0.000<br>AEP_Close: Weight=0.321<br>CAT_Close: Weight=0.399",
          "Return: 20.980%<br>Volatility: 0.135<br>Sharpe Ratio: 1.558<br>BAC_Close: Weight=0.214<br>EW_Close: Weight=0.296<br>EMR_Close: Weight=0.489",
          "Return: 30.242%<br>Volatility: 0.152<br>Sharpe Ratio: 1.992<br>INTC_Close: Weight=0.762<br>EW_Close: Weight=0.238<br>SO_Close: Weight=0.000",
          "Return: 0.821%<br>Volatility: 0.152<br>Sharpe Ratio: 0.054<br>GIS_Close: Weight=0.000<br>MDT_Close: Weight=1.000<br>SNAP_Close: Weight=0.000",
          "Return: 23.093%<br>Volatility: 0.138<br>Sharpe Ratio: 1.668<br>BTI_Close: Weight=0.133<br>LLY_Close: Weight=0.035<br>GOOGL_Close: Weight=0.833",
          "Return: 60.729%<br>Volatility: 0.215<br>Sharpe Ratio: 2.822<br>ETN_Close: Weight=0.086<br>PYPL_Close: Weight=0.914<br>AMD_Close: Weight=0.000<br>MRK_Close: Weight=0.000",
          "Return: 52.726%<br>Volatility: 0.182<br>Sharpe Ratio: 2.899<br>SRE_Close: Weight=0.000<br>SYK_Close: Weight=0.286<br>PYPL_Close: Weight=0.714",
          "Return: 48.597%<br>Volatility: 0.129<br>Sharpe Ratio: 3.773<br>ABBV_Close: Weight=0.560<br>SRE_Close: Weight=0.000<br>NKE_Close: Weight=0.019<br>WMT_Close: Weight=0.421",
          "Return: 20.813%<br>Volatility: 0.091<br>Sharpe Ratio: 2.289<br>DIS_Close: Weight=0.012<br>PEP_Close: Weight=0.399<br>ABT_Close: Weight=0.516<br>ORCL_Close: Weight=0.073",
          "Return: 30.301%<br>Volatility: 0.084<br>Sharpe Ratio: 3.622<br>HD_Close: Weight=0.350<br>AMZN_Close: Weight=0.158<br>ABT_Close: Weight=0.205<br>LMT_Close: Weight=0.287",
          "Return: 27.992%<br>Volatility: 0.119<br>Sharpe Ratio: 2.354<br>META_Close: Weight=0.361<br>JPM_Close: Weight=0.307<br>INTC_Close: Weight=0.332",
          "Return: 42.015%<br>Volatility: 0.120<br>Sharpe Ratio: 3.497<br>ETN_Close: Weight=0.000<br>HD_Close: Weight=0.672<br>DHR_Close: Weight=0.000<br>BABA_Close: Weight=0.328",
          "Return: 34.778%<br>Volatility: 0.112<br>Sharpe Ratio: 3.112<br>UNH_Close: Weight=0.520<br>JPM_Close: Weight=0.204<br>T_Close: Weight=0.000<br>ADBE_Close: Weight=0.276",
          "Return: 24.255%<br>Volatility: 0.135<br>Sharpe Ratio: 1.794<br>GOOGL_Close: Weight=0.721<br>MDT_Close: Weight=0.000<br>RMD_Close: Weight=0.279",
          "Return: 38.174%<br>Volatility: 0.101<br>Sharpe Ratio: 3.785<br>KO_Close: Weight=0.309<br>HD_Close: Weight=0.322<br>CAT_Close: Weight=0.369",
          "Return: 27.313%<br>Volatility: 0.138<br>Sharpe Ratio: 1.979<br>AMZN_Close: Weight=0.572<br>KR_Close: Weight=0.000<br>DIS_Close: Weight=0.006<br>EXC_Close: Weight=0.422",
          "Return: 35.214%<br>Volatility: 0.139<br>Sharpe Ratio: 2.535<br>INTC_Close: Weight=0.269<br>GOOGL_Close: Weight=0.037<br>MSFT_Close: Weight=0.694",
          "Return: 50.173%<br>Volatility: 0.143<br>Sharpe Ratio: 3.500<br>BA_Close: Weight=0.766<br>GS_Close: Weight=0.000<br>EMR_Close: Weight=0.178<br>RTX_Close: Weight=0.056",
          "Return: 38.403%<br>Volatility: 0.202<br>Sharpe Ratio: 1.905<br>AMZN_Close: Weight=0.759<br>NFLX_Close: Weight=0.241<br>MO_Close: Weight=0.000",
          "Return: 4.215%<br>Volatility: 0.070<br>Sharpe Ratio: 0.600<br>RDY_Close: Weight=0.000<br>GILD_Close: Weight=0.191<br>XOM_Close: Weight=0.386<br>PG_Close: Weight=0.423",
          "Return: 28.273%<br>Volatility: 0.132<br>Sharpe Ratio: 2.146<br>COST_Close: Weight=0.130<br>GIS_Close: Weight=0.000<br>PFE_Close: Weight=0.353<br>ADBE_Close: Weight=0.518",
          "Return: 20.769%<br>Volatility: 0.090<br>Sharpe Ratio: 2.317<br>AEP_Close: Weight=0.519<br>META_Close: Weight=0.390<br>NKE_Close: Weight=0.091",
          "Return: 16.111%<br>Volatility: 0.164<br>Sharpe Ratio: 0.982<br>BSX_Close: Weight=0.000<br>MRK_Close: Weight=0.000<br>CSCO_Close: Weight=1.000",
          "Return: 38.603%<br>Volatility: 0.163<br>Sharpe Ratio: 2.374<br>PG_Close: Weight=0.400<br>BABA_Close: Weight=0.600<br>PM_Close: Weight=0.000<br>AMGN_Close: Weight=0.000",
          "Return: 31.174%<br>Volatility: 0.107<br>Sharpe Ratio: 2.903<br>MCD_Close: Weight=0.705<br>EW_Close: Weight=0.102<br>EXC_Close: Weight=0.193",
          "Return: 30.806%<br>Volatility: 0.089<br>Sharpe Ratio: 3.471<br>HON_Close: Weight=0.538<br>GIS_Close: Weight=0.000<br>MRK_Close: Weight=0.000<br>MCD_Close: Weight=0.462",
          "Return: 35.009%<br>Volatility: 0.133<br>Sharpe Ratio: 2.641<br>AMD_Close: Weight=0.000<br>SYK_Close: Weight=0.158<br>MA_Close: Weight=0.842",
          "Return: 29.715%<br>Volatility: 0.157<br>Sharpe Ratio: 1.887<br>AMZN_Close: Weight=0.658<br>TSLA_Close: Weight=0.078<br>BIIB_Close: Weight=0.000<br>DHR_Close: Weight=0.264",
          "Return: 23.724%<br>Volatility: 0.097<br>Sharpe Ratio: 2.457<br>SAP_Close: Weight=0.321<br>LMT_Close: Weight=0.679<br>F_Close: Weight=0.000",
          "Return: 58.856%<br>Volatility: 0.141<br>Sharpe Ratio: 4.177<br>BA_Close: Weight=0.554<br>NVDA_Close: Weight=0.086<br>PYPL_Close: Weight=0.221<br>INTC_Close: Weight=0.139",
          "Return: 45.358%<br>Volatility: 0.148<br>Sharpe Ratio: 3.072<br>CPB_Close: Weight=0.000<br>ABBV_Close: Weight=0.766<br>JNJ_Close: Weight=0.234",
          "Return: 25.766%<br>Volatility: 0.157<br>Sharpe Ratio: 1.638<br>UA_Close: Weight=0.000<br>AMGN_Close: Weight=0.000<br>GOOGL_Close: Weight=1.000<br>MRK_Close: Weight=0.000",
          "Return: 24.299%<br>Volatility: 0.097<br>Sharpe Ratio: 2.500<br>MDT_Close: Weight=0.000<br>GM_Close: Weight=0.053<br>BAC_Close: Weight=0.046<br>HON_Close: Weight=0.900",
          "Return: 42.662%<br>Volatility: 0.142<br>Sharpe Ratio: 3.006<br>BMY_Close: Weight=0.042<br>ADBE_Close: Weight=0.377<br>WMT_Close: Weight=0.581",
          "Return: 14.691%<br>Volatility: 0.072<br>Sharpe Ratio: 2.037<br>AEP_Close: Weight=0.479<br>GM_Close: Weight=0.140<br>XOM_Close: Weight=0.083<br>RTX_Close: Weight=0.298",
          "Return: 14.706%<br>Volatility: 0.189<br>Sharpe Ratio: 0.777<br>GM_Close: Weight=1.000<br>UA_Close: Weight=0.000<br>MO_Close: Weight=0.000",
          "Return: 38.346%<br>Volatility: 0.150<br>Sharpe Ratio: 2.555<br>DHR_Close: Weight=0.104<br>DE_Close: Weight=0.807<br>BTI_Close: Weight=0.089",
          "Return: 35.478%<br>Volatility: 0.172<br>Sharpe Ratio: 2.066<br>ADBE_Close: Weight=0.716<br>BTI_Close: Weight=0.090<br>CMCSA_Close: Weight=0.194",
          "Return: 25.453%<br>Volatility: 0.110<br>Sharpe Ratio: 2.307<br>SAP_Close: Weight=0.381<br>REGN_Close: Weight=0.000<br>ACN_Close: Weight=0.619<br>BSX_Close: Weight=0.000",
          "Return: 22.638%<br>Volatility: 0.081<br>Sharpe Ratio: 2.800<br>PFE_Close: Weight=0.159<br>ACN_Close: Weight=0.362<br>NEE_Close: Weight=0.478",
          "Return: 23.051%<br>Volatility: 0.105<br>Sharpe Ratio: 2.195<br>T_Close: Weight=0.000<br>NEE_Close: Weight=0.845<br>RMD_Close: Weight=0.155",
          "Return: 36.783%<br>Volatility: 0.089<br>Sharpe Ratio: 4.140<br>MSFT_Close: Weight=0.265<br>JPM_Close: Weight=0.085<br>BA_Close: Weight=0.362<br>KO_Close: Weight=0.288",
          "Return: 32.602%<br>Volatility: 0.114<br>Sharpe Ratio: 2.870<br>CSCO_Close: Weight=0.086<br>INTC_Close: Weight=0.303<br>MO_Close: Weight=0.000<br>UNH_Close: Weight=0.611",
          "Return: 31.508%<br>Volatility: 0.123<br>Sharpe Ratio: 2.563<br>UNH_Close: Weight=0.832<br>BMY_Close: Weight=0.000<br>DIS_Close: Weight=0.000<br>GM_Close: Weight=0.168",
          "Return: 56.439%<br>Volatility: 0.160<br>Sharpe Ratio: 3.535<br>AMZN_Close: Weight=0.299<br>CAT_Close: Weight=0.701<br>SNAP_Close: Weight=0.000<br>DIS_Close: Weight=0.000",
          "Return: 20.344%<br>Volatility: 0.201<br>Sharpe Ratio: 1.013<br>RMD_Close: Weight=1.000<br>GS_Close: Weight=0.000<br>AMD_Close: Weight=0.000<br>MRK_Close: Weight=0.000",
          "Return: 11.300%<br>Volatility: 0.169<br>Sharpe Ratio: 0.668<br>SRE_Close: Weight=0.000<br>UA_Close: Weight=0.000<br>VZ_Close: Weight=1.000<br>GE_Close: Weight=0.000",
          "Return: 27.526%<br>Volatility: 0.093<br>Sharpe Ratio: 2.945<br>V_Close: Weight=0.535<br>NEE_Close: Weight=0.465<br>ZBH_Close: Weight=0.000",
          "Return: 34.929%<br>Volatility: 0.156<br>Sharpe Ratio: 2.240<br>ADBE_Close: Weight=0.501<br>AAPL_Close: Weight=0.338<br>EW_Close: Weight=0.161",
          "Return: 13.253%<br>Volatility: 0.095<br>Sharpe Ratio: 1.399<br>PFE_Close: Weight=0.392<br>CVX_Close: Weight=0.430<br>MS_Close: Weight=0.178<br>BSX_Close: Weight=0.000",
          "Return: 21.906%<br>Volatility: 0.097<br>Sharpe Ratio: 2.264<br>ABT_Close: Weight=0.576<br>PEP_Close: Weight=0.424<br>KR_Close: Weight=0.000",
          "Return: 19.427%<br>Volatility: 0.133<br>Sharpe Ratio: 1.460<br>AAPL_Close: Weight=0.709<br>XOM_Close: Weight=0.195<br>CMCSA_Close: Weight=0.096",
          "Return: 3.995%<br>Volatility: 0.097<br>Sharpe Ratio: 0.410<br>PG_Close: Weight=0.993<br>REGN_Close: Weight=0.007<br>MRK_Close: Weight=0.000",
          "Return: 24.849%<br>Volatility: 0.096<br>Sharpe Ratio: 2.588<br>COST_Close: Weight=0.015<br>HON_Close: Weight=0.816<br>AAPL_Close: Weight=0.169<br>MS_Close: Weight=0.000",
          "Return: 33.316%<br>Volatility: 0.092<br>Sharpe Ratio: 3.619<br>MCD_Close: Weight=0.421<br>ORCL_Close: Weight=0.000<br>HD_Close: Weight=0.390<br>GOOGL_Close: Weight=0.189",
          "Return: 12.174%<br>Volatility: 0.116<br>Sharpe Ratio: 1.050<br>CSCO_Close: Weight=0.611<br>CMCSA_Close: Weight=0.144<br>XOM_Close: Weight=0.245",
          "Return: 46.033%<br>Volatility: 0.128<br>Sharpe Ratio: 3.607<br>BTI_Close: Weight=0.058<br>MRK_Close: Weight=0.000<br>CAT_Close: Weight=0.529<br>MMM_Close: Weight=0.413",
          "Return: 20.061%<br>Volatility: 0.091<br>Sharpe Ratio: 2.203<br>MDT_Close: Weight=0.000<br>NEE_Close: Weight=0.830<br>F_Close: Weight=0.170",
          "Return: 26.465%<br>Volatility: 0.110<br>Sharpe Ratio: 2.410<br>UA_Close: Weight=0.000<br>CSCO_Close: Weight=0.056<br>MMM_Close: Weight=0.617<br>GOOGL_Close: Weight=0.327",
          "Return: 56.659%<br>Volatility: 0.126<br>Sharpe Ratio: 4.488<br>ABBV_Close: Weight=0.450<br>DE_Close: Weight=0.154<br>CAT_Close: Weight=0.396<br>KR_Close: Weight=0.000",
          "Return: 26.734%<br>Volatility: 0.128<br>Sharpe Ratio: 2.096<br>GM_Close: Weight=0.138<br>ABT_Close: Weight=0.862<br>SNAP_Close: Weight=0.000<br>PM_Close: Weight=0.000",
          "Return: 31.089%<br>Volatility: 0.105<br>Sharpe Ratio: 2.975<br>XOM_Close: Weight=0.000<br>VZ_Close: Weight=0.114<br>JPM_Close: Weight=0.195<br>MCD_Close: Weight=0.691",
          "Return: 24.990%<br>Volatility: 0.099<br>Sharpe Ratio: 2.522<br>LLY_Close: Weight=0.043<br>DUK_Close: Weight=0.195<br>V_Close: Weight=0.761",
          "Return: 45.118%<br>Volatility: 0.179<br>Sharpe Ratio: 2.527<br>MS_Close: Weight=0.000<br>DE_Close: Weight=1.000<br>BSX_Close: Weight=0.000",
          "Return: 27.737%<br>Volatility: 0.134<br>Sharpe Ratio: 2.067<br>JPM_Close: Weight=0.385<br>UA_Close: Weight=0.000<br>INTC_Close: Weight=0.615",
          "Return: 59.642%<br>Volatility: 0.183<br>Sharpe Ratio: 3.264<br>COST_Close: Weight=0.084<br>CAT_Close: Weight=0.916<br>MDT_Close: Weight=0.000",
          "Return: 43.204%<br>Volatility: 0.135<br>Sharpe Ratio: 3.207<br>GM_Close: Weight=0.109<br>ABBV_Close: Weight=0.642<br>GOOG_Close: Weight=0.249",
          "Return: 29.072%<br>Volatility: 0.113<br>Sharpe Ratio: 2.579<br>ORCL_Close: Weight=0.029<br>UNH_Close: Weight=0.738<br>REGN_Close: Weight=0.000<br>EXC_Close: Weight=0.233",
          "Return: 4.023%<br>Volatility: 0.098<br>Sharpe Ratio: 0.410<br>SRE_Close: Weight=0.000<br>PG_Close: Weight=1.000<br>SO_Close: Weight=0.000",
          "Return: 50.722%<br>Volatility: 0.143<br>Sharpe Ratio: 3.547<br>SYK_Close: Weight=0.186<br>CAT_Close: Weight=0.524<br>DE_Close: Weight=0.290",
          "Return: 9.184%<br>Volatility: 0.131<br>Sharpe Ratio: 0.701<br>SRE_Close: Weight=0.050<br>RDY_Close: Weight=0.000<br>WFC_Close: Weight=0.340<br>BMY_Close: Weight=0.610",
          "Return: 23.208%<br>Volatility: 0.108<br>Sharpe Ratio: 2.143<br>PEP_Close: Weight=0.592<br>PG_Close: Weight=0.000<br>AMZN_Close: Weight=0.408",
          "Return: 30.982%<br>Volatility: 0.125<br>Sharpe Ratio: 2.471<br>AMD_Close: Weight=0.000<br>KR_Close: Weight=0.000<br>MRK_Close: Weight=0.000<br>V_Close: Weight=1.000",
          "Return: 11.145%<br>Volatility: 0.082<br>Sharpe Ratio: 1.356<br>XOM_Close: Weight=0.165<br>BTI_Close: Weight=0.079<br>PEP_Close: Weight=0.756",
          "Return: 39.518%<br>Volatility: 0.120<br>Sharpe Ratio: 3.287<br>HON_Close: Weight=0.640<br>PYPL_Close: Weight=0.360<br>SO_Close: Weight=0.000",
          "Return: 41.045%<br>Volatility: 0.125<br>Sharpe Ratio: 3.275<br>DIS_Close: Weight=0.082<br>ISRG_Close: Weight=0.465<br>WMT_Close: Weight=0.453",
          "Return: 25.687%<br>Volatility: 0.116<br>Sharpe Ratio: 2.209<br>ACN_Close: Weight=0.708<br>SYK_Close: Weight=0.277<br>RMD_Close: Weight=0.015<br>AMD_Close: Weight=0.000",
          "Return: 53.210%<br>Volatility: 0.159<br>Sharpe Ratio: 3.355<br>CSCO_Close: Weight=0.000<br>SO_Close: Weight=0.000<br>SYK_Close: Weight=0.257<br>CAT_Close: Weight=0.743",
          "Return: 6.283%<br>Volatility: 0.103<br>Sharpe Ratio: 0.608<br>UA_Close: Weight=0.000<br>PG_Close: Weight=0.661<br>NKE_Close: Weight=0.339",
          "Return: 13.488%<br>Volatility: 0.099<br>Sharpe Ratio: 1.365<br>BTI_Close: Weight=0.261<br>BIIB_Close: Weight=0.148<br>CVX_Close: Weight=0.591",
          "Return: 34.904%<br>Volatility: 0.141<br>Sharpe Ratio: 2.475<br>SRE_Close: Weight=0.000<br>UNH_Close: Weight=1.000<br>AMGN_Close: Weight=0.000",
          "Return: 27.885%<br>Volatility: 0.096<br>Sharpe Ratio: 2.907<br>KO_Close: Weight=0.488<br>ACN_Close: Weight=0.372<br>NVDA_Close: Weight=0.139",
          "Return: 22.879%<br>Volatility: 0.131<br>Sharpe Ratio: 1.750<br>CRM_Close: Weight=0.704<br>AMD_Close: Weight=0.000<br>F_Close: Weight=0.062<br>RMD_Close: Weight=0.233",
          "Return: 21.886%<br>Volatility: 0.106<br>Sharpe Ratio: 2.063<br>ORCL_Close: Weight=0.085<br>CRM_Close: Weight=0.514<br>SYY_Close: Weight=0.401<br>MO_Close: Weight=0.000",
          "Return: 21.790%<br>Volatility: 0.085<br>Sharpe Ratio: 2.551<br>JPM_Close: Weight=0.138<br>LMT_Close: Weight=0.643<br>SRE_Close: Weight=0.000<br>CVX_Close: Weight=0.220",
          "Return: 32.606%<br>Volatility: 0.130<br>Sharpe Ratio: 2.515<br>MSFT_Close: Weight=0.813<br>GM_Close: Weight=0.187<br>AMD_Close: Weight=0.000",
          "Return: 23.321%<br>Volatility: 0.096<br>Sharpe Ratio: 2.432<br>BAC_Close: Weight=0.121<br>TMO_Close: Weight=0.198<br>LMT_Close: Weight=0.681",
          "Return: 32.139%<br>Volatility: 0.111<br>Sharpe Ratio: 2.883<br>BABA_Close: Weight=0.366<br>AEP_Close: Weight=0.634<br>REGN_Close: Weight=0.000",
          "Return: 28.134%<br>Volatility: 0.105<br>Sharpe Ratio: 2.670<br>JPM_Close: Weight=0.257<br>BIIB_Close: Weight=0.000<br>V_Close: Weight=0.743<br>GILD_Close: Weight=0.000",
          "Return: 28.894%<br>Volatility: 0.145<br>Sharpe Ratio: 1.986<br>VZ_Close: Weight=0.352<br>AMZN_Close: Weight=0.648<br>CPB_Close: Weight=0.000",
          "Return: 15.942%<br>Volatility: 0.081<br>Sharpe Ratio: 1.962<br>LLY_Close: Weight=0.008<br>SYK_Close: Weight=0.327<br>KO_Close: Weight=0.665",
          "Return: 36.736%<br>Volatility: 0.142<br>Sharpe Ratio: 2.590<br>CSCO_Close: Weight=0.164<br>BABA_Close: Weight=0.446<br>RTX_Close: Weight=0.390",
          "Return: 45.790%<br>Volatility: 0.158<br>Sharpe Ratio: 2.893<br>GOOGL_Close: Weight=0.028<br>ADBE_Close: Weight=0.288<br>INTC_Close: Weight=0.352<br>BABA_Close: Weight=0.333",
          "Return: 23.764%<br>Volatility: 0.134<br>Sharpe Ratio: 1.769<br>TSLA_Close: Weight=0.068<br>MS_Close: Weight=0.227<br>GOOGL_Close: Weight=0.705",
          "Return: 26.982%<br>Volatility: 0.106<br>Sharpe Ratio: 2.538<br>CVX_Close: Weight=0.208<br>T_Close: Weight=0.000<br>HD_Close: Weight=0.700<br>BMY_Close: Weight=0.092",
          "Return: 26.286%<br>Volatility: 0.093<br>Sharpe Ratio: 2.813<br>GS_Close: Weight=0.000<br>ABT_Close: Weight=0.338<br>HON_Close: Weight=0.662<br>DHR_Close: Weight=0.000",
          "Return: 18.088%<br>Volatility: 0.131<br>Sharpe Ratio: 1.385<br>EMR_Close: Weight=0.694<br>ORCL_Close: Weight=0.306<br>XOM_Close: Weight=0.000",
          "Return: 18.511%<br>Volatility: 0.130<br>Sharpe Ratio: 1.427<br>KR_Close: Weight=0.000<br>CSCO_Close: Weight=0.370<br>JPM_Close: Weight=0.630",
          "Return: 24.629%<br>Volatility: 0.119<br>Sharpe Ratio: 2.071<br>EXC_Close: Weight=0.400<br>INTC_Close: Weight=0.600<br>PM_Close: Weight=0.000",
          "Return: 14.007%<br>Volatility: 0.126<br>Sharpe Ratio: 1.113<br>ZBH_Close: Weight=0.121<br>F_Close: Weight=0.000<br>CVX_Close: Weight=0.879<br>SRE_Close: Weight=0.000",
          "Return: 13.541%<br>Volatility: 0.153<br>Sharpe Ratio: 0.887<br>AMGN_Close: Weight=0.000<br>LLY_Close: Weight=0.267<br>IBM_Close: Weight=0.000<br>MS_Close: Weight=0.733",
          "Return: 58.020%<br>Volatility: 0.204<br>Sharpe Ratio: 2.851<br>RMD_Close: Weight=0.159<br>PYPL_Close: Weight=0.841<br>GE_Close: Weight=0.000",
          "Return: 37.687%<br>Volatility: 0.141<br>Sharpe Ratio: 2.671<br>SYY_Close: Weight=0.286<br>DE_Close: Weight=0.714<br>F_Close: Weight=0.000",
          "Return: 34.975%<br>Volatility: 0.109<br>Sharpe Ratio: 3.209<br>EMR_Close: Weight=0.058<br>TXN_Close: Weight=0.412<br>UNH_Close: Weight=0.530",
          "Return: 27.841%<br>Volatility: 0.080<br>Sharpe Ratio: 3.461<br>TXN_Close: Weight=0.276<br>AEP_Close: Weight=0.317<br>HD_Close: Weight=0.347<br>CRM_Close: Weight=0.060",
          "Return: 34.990%<br>Volatility: 0.192<br>Sharpe Ratio: 1.823<br>AMZN_Close: Weight=0.896<br>GE_Close: Weight=0.000<br>GILD_Close: Weight=0.104<br>KR_Close: Weight=0.000",
          "Return: 29.541%<br>Volatility: 0.114<br>Sharpe Ratio: 2.597<br>HD_Close: Weight=0.733<br>TMO_Close: Weight=0.267<br>F_Close: Weight=0.000",
          "Return: 30.194%<br>Volatility: 0.087<br>Sharpe Ratio: 3.462<br>MA_Close: Weight=0.414<br>HD_Close: Weight=0.420<br>BTI_Close: Weight=0.000<br>DUK_Close: Weight=0.166",
          "Return: 21.733%<br>Volatility: 0.093<br>Sharpe Ratio: 2.328<br>QCOM_Close: Weight=0.077<br>NKE_Close: Weight=0.054<br>VZ_Close: Weight=0.112<br>LMT_Close: Weight=0.757",
          "Return: 16.258%<br>Volatility: 0.114<br>Sharpe Ratio: 1.429<br>TMO_Close: Weight=0.578<br>GIS_Close: Weight=0.010<br>UA_Close: Weight=0.000<br>PFE_Close: Weight=0.412",
          "Return: 31.044%<br>Volatility: 0.091<br>Sharpe Ratio: 3.429<br>AMGN_Close: Weight=0.000<br>LMT_Close: Weight=0.491<br>MCD_Close: Weight=0.509",
          "Return: 24.793%<br>Volatility: 0.090<br>Sharpe Ratio: 2.740<br>NEE_Close: Weight=0.539<br>ACN_Close: Weight=0.439<br>LLY_Close: Weight=0.022",
          "Return: 34.264%<br>Volatility: 0.161<br>Sharpe Ratio: 2.131<br>ORCL_Close: Weight=0.086<br>SYK_Close: Weight=0.356<br>IBM_Close: Weight=0.000<br>ADBE_Close: Weight=0.558",
          "Return: 28.174%<br>Volatility: 0.096<br>Sharpe Ratio: 2.925<br>K_Close: Weight=0.000<br>KO_Close: Weight=0.691<br>BABA_Close: Weight=0.309",
          "Return: 38.361%<br>Volatility: 0.118<br>Sharpe Ratio: 3.246<br>WMT_Close: Weight=0.424<br>UNH_Close: Weight=0.576<br>F_Close: Weight=0.000",
          "Return: 9.703%<br>Volatility: 0.107<br>Sharpe Ratio: 0.909<br>BMY_Close: Weight=0.221<br>PFE_Close: Weight=0.779<br>RDY_Close: Weight=0.000",
          "Return: 33.981%<br>Volatility: 0.136<br>Sharpe Ratio: 2.503<br>MSFT_Close: Weight=0.833<br>BAC_Close: Weight=0.167<br>IBM_Close: Weight=0.000",
          "Return: 12.072%<br>Volatility: 0.079<br>Sharpe Ratio: 1.522<br>BAC_Close: Weight=0.295<br>QCOM_Close: Weight=0.136<br>RDY_Close: Weight=0.000<br>DUK_Close: Weight=0.570",
          "Return: 9.703%<br>Volatility: 0.099<br>Sharpe Ratio: 0.978<br>PFE_Close: Weight=0.756<br>COST_Close: Weight=0.244<br>K_Close: Weight=0.000<br>IBM_Close: Weight=0.000",
          "Return: 25.638%<br>Volatility: 0.121<br>Sharpe Ratio: 2.124<br>ETN_Close: Weight=0.203<br>ABT_Close: Weight=0.797<br>AMD_Close: Weight=0.000",
          "Return: 52.874%<br>Volatility: 0.159<br>Sharpe Ratio: 3.334<br>TSLA_Close: Weight=0.046<br>WMT_Close: Weight=0.474<br>PYPL_Close: Weight=0.479<br>MRK_Close: Weight=0.000",
          "Return: 34.145%<br>Volatility: 0.127<br>Sharpe Ratio: 2.697<br>SYK_Close: Weight=0.292<br>RMD_Close: Weight=0.118<br>WMT_Close: Weight=0.590",
          "Return: 52.528%<br>Volatility: 0.183<br>Sharpe Ratio: 2.863<br>GOOG_Close: Weight=0.216<br>GIS_Close: Weight=0.070<br>PYPL_Close: Weight=0.714",
          "Return: 40.824%<br>Volatility: 0.162<br>Sharpe Ratio: 2.517<br>PM_Close: Weight=0.000<br>SAP_Close: Weight=0.465<br>QCOM_Close: Weight=0.059<br>BABA_Close: Weight=0.476",
          "Return: 22.619%<br>Volatility: 0.086<br>Sharpe Ratio: 2.624<br>HD_Close: Weight=0.551<br>DUK_Close: Weight=0.310<br>GE_Close: Weight=0.000<br>EMR_Close: Weight=0.139",
          "Return: 38.385%<br>Volatility: 0.116<br>Sharpe Ratio: 3.306<br>DE_Close: Weight=0.371<br>MA_Close: Weight=0.518<br>JPM_Close: Weight=0.111",
          "Return: 26.931%<br>Volatility: 0.109<br>Sharpe Ratio: 2.480<br>CRM_Close: Weight=0.368<br>MMM_Close: Weight=0.632<br>SO_Close: Weight=0.000",
          "Return: 36.083%<br>Volatility: 0.157<br>Sharpe Ratio: 2.302<br>REGN_Close: Weight=0.000<br>GILD_Close: Weight=0.033<br>TXN_Close: Weight=0.967",
          "Return: 13.871%<br>Volatility: 0.097<br>Sharpe Ratio: 1.434<br>DHR_Close: Weight=0.239<br>VZ_Close: Weight=0.215<br>SO_Close: Weight=0.000<br>RTX_Close: Weight=0.546",
          "Return: 43.553%<br>Volatility: 0.147<br>Sharpe Ratio: 2.967<br>PYPL_Close: Weight=0.568<br>F_Close: Weight=0.067<br>SYK_Close: Weight=0.209<br>VZ_Close: Weight=0.156",
          "Return: 42.158%<br>Volatility: 0.178<br>Sharpe Ratio: 2.372<br>RDY_Close: Weight=0.000<br>SRE_Close: Weight=0.021<br>WMT_Close: Weight=0.979",
          "Return: 27.229%<br>Volatility: 0.128<br>Sharpe Ratio: 2.135<br>KR_Close: Weight=0.000<br>TSLA_Close: Weight=0.095<br>ACN_Close: Weight=0.905",
          "Return: 32.827%<br>Volatility: 0.101<br>Sharpe Ratio: 3.260<br>AMZN_Close: Weight=0.257<br>JNJ_Close: Weight=0.347<br>WMT_Close: Weight=0.396<br>GE_Close: Weight=0.000",
          "Return: 22.600%<br>Volatility: 0.129<br>Sharpe Ratio: 1.756<br>GOOGL_Close: Weight=0.713<br>MS_Close: Weight=0.204<br>PM_Close: Weight=0.000<br>CMCSA_Close: Weight=0.083",
          "Return: 49.367%<br>Volatility: 0.121<br>Sharpe Ratio: 4.077<br>META_Close: Weight=0.001<br>TMO_Close: Weight=0.276<br>BABA_Close: Weight=0.168<br>BA_Close: Weight=0.555",
          "Return: 12.626%<br>Volatility: 0.131<br>Sharpe Ratio: 0.960<br>KR_Close: Weight=0.000<br>EXC_Close: Weight=1.000<br>AMD_Close: Weight=0.000",
          "Return: 36.057%<br>Volatility: 0.109<br>Sharpe Ratio: 3.317<br>UNH_Close: Weight=0.486<br>TMO_Close: Weight=0.141<br>WMT_Close: Weight=0.372",
          "Return: 21.459%<br>Volatility: 0.089<br>Sharpe Ratio: 2.417<br>SYK_Close: Weight=0.217<br>CVX_Close: Weight=0.404<br>GOOG_Close: Weight=0.379",
          "Return: 46.454%<br>Volatility: 0.150<br>Sharpe Ratio: 3.088<br>VZ_Close: Weight=0.178<br>ABBV_Close: Weight=0.822<br>BTI_Close: Weight=0.000",
          "Return: 37.429%<br>Volatility: 0.108<br>Sharpe Ratio: 3.458<br>HON_Close: Weight=0.522<br>ORCL_Close: Weight=0.000<br>COST_Close: Weight=0.035<br>ABBV_Close: Weight=0.443",
          "Return: 15.889%<br>Volatility: 0.102<br>Sharpe Ratio: 1.565<br>VZ_Close: Weight=0.190<br>JNJ_Close: Weight=0.810<br>SO_Close: Weight=0.000<br>GIS_Close: Weight=0.000",
          "Return: 16.907%<br>Volatility: 0.126<br>Sharpe Ratio: 1.341<br>ETN_Close: Weight=0.223<br>VZ_Close: Weight=0.213<br>EMR_Close: Weight=0.564",
          "Return: 48.741%<br>Volatility: 0.134<br>Sharpe Ratio: 3.633<br>BA_Close: Weight=0.688<br>QCOM_Close: Weight=0.027<br>CRM_Close: Weight=0.285",
          "Return: 43.088%<br>Volatility: 0.120<br>Sharpe Ratio: 3.590<br>JNJ_Close: Weight=0.446<br>GM_Close: Weight=0.000<br>CAT_Close: Weight=0.554",
          "Return: 22.820%<br>Volatility: 0.080<br>Sharpe Ratio: 2.862<br>KO_Close: Weight=0.415<br>META_Close: Weight=0.064<br>V_Close: Weight=0.437<br>SYK_Close: Weight=0.084",
          "Return: 30.860%<br>Volatility: 0.101<br>Sharpe Ratio: 3.047<br>CRM_Close: Weight=0.159<br>META_Close: Weight=0.259<br>HD_Close: Weight=0.582",
          "Return: 59.047%<br>Volatility: 0.181<br>Sharpe Ratio: 3.260<br>QCOM_Close: Weight=0.043<br>CSCO_Close: Weight=0.016<br>JPM_Close: Weight=0.053<br>CAT_Close: Weight=0.888",
          "Return: 27.985%<br>Volatility: 0.110<br>Sharpe Ratio: 2.538<br>SO_Close: Weight=0.000<br>NEE_Close: Weight=0.702<br>AMZN_Close: Weight=0.298<br>AMGN_Close: Weight=0.000",
          "Return: 15.004%<br>Volatility: 0.096<br>Sharpe Ratio: 1.568<br>K_Close: Weight=0.000<br>PEP_Close: Weight=0.770<br>EW_Close: Weight=0.230",
          "Return: 10.713%<br>Volatility: 0.113<br>Sharpe Ratio: 0.948<br>MDT_Close: Weight=0.000<br>DHR_Close: Weight=0.595<br>ORCL_Close: Weight=0.405",
          "Return: 58.429%<br>Volatility: 0.207<br>Sharpe Ratio: 2.825<br>DIS_Close: Weight=0.101<br>PYPL_Close: Weight=0.899<br>BIIB_Close: Weight=0.000",
          "Return: 41.860%<br>Volatility: 0.173<br>Sharpe Ratio: 2.413<br>DHR_Close: Weight=0.181<br>K_Close: Weight=0.000<br>GM_Close: Weight=0.218<br>BABA_Close: Weight=0.601",
          "Return: 37.179%<br>Volatility: 0.133<br>Sharpe Ratio: 2.799<br>PM_Close: Weight=0.000<br>GE_Close: Weight=0.000<br>MSFT_Close: Weight=0.411<br>MA_Close: Weight=0.589",
          "Return: 67.147%<br>Volatility: 0.324<br>Sharpe Ratio: 2.070<br>GS_Close: Weight=0.000<br>NVDA_Close: Weight=0.787<br>F_Close: Weight=0.025<br>QCOM_Close: Weight=0.188",
          "Return: 19.946%<br>Volatility: 0.093<br>Sharpe Ratio: 2.141<br>GE_Close: Weight=0.000<br>CRM_Close: Weight=0.406<br>EW_Close: Weight=0.081<br>AEP_Close: Weight=0.513",
          "Return: 39.796%<br>Volatility: 0.137<br>Sharpe Ratio: 2.895<br>BABA_Close: Weight=0.288<br>BIIB_Close: Weight=0.000<br>V_Close: Weight=0.712",
          "Return: 39.645%<br>Volatility: 0.114<br>Sharpe Ratio: 3.473<br>BSX_Close: Weight=0.000<br>WMT_Close: Weight=0.386<br>MCD_Close: Weight=0.614",
          "Return: 29.033%<br>Volatility: 0.106<br>Sharpe Ratio: 2.736<br>GIS_Close: Weight=0.000<br>PEP_Close: Weight=0.342<br>MA_Close: Weight=0.658",
          "Return: 39.439%<br>Volatility: 0.144<br>Sharpe Ratio: 2.735<br>V_Close: Weight=0.827<br>MRK_Close: Weight=0.000<br>TSLA_Close: Weight=0.003<br>NVDA_Close: Weight=0.170",
          "Return: 37.687%<br>Volatility: 0.141<br>Sharpe Ratio: 2.671<br>SYY_Close: Weight=0.286<br>F_Close: Weight=0.000<br>DE_Close: Weight=0.714",
          "Return: 36.202%<br>Volatility: 0.120<br>Sharpe Ratio: 3.021<br>CSCO_Close: Weight=0.000<br>MMM_Close: Weight=0.510<br>DE_Close: Weight=0.488<br>NKE_Close: Weight=0.002",
          "Return: 33.477%<br>Volatility: 0.097<br>Sharpe Ratio: 3.445<br>V_Close: Weight=0.187<br>HD_Close: Weight=0.450<br>MA_Close: Weight=0.332<br>BAC_Close: Weight=0.031",
          "Return: 40.855%<br>Volatility: 0.169<br>Sharpe Ratio: 2.412<br>UA_Close: Weight=0.000<br>BABA_Close: Weight=0.600<br>NKE_Close: Weight=0.173<br>DHR_Close: Weight=0.227",
          "Return: 43.175%<br>Volatility: 0.107<br>Sharpe Ratio: 4.040<br>PEP_Close: Weight=0.308<br>CAT_Close: Weight=0.400<br>ISRG_Close: Weight=0.293<br>UA_Close: Weight=0.000",
          "Return: 12.311%<br>Volatility: 0.091<br>Sharpe Ratio: 1.349<br>PG_Close: Weight=0.360<br>RTX_Close: Weight=0.640<br>KR_Close: Weight=0.000",
          "Return: 14.018%<br>Volatility: 0.069<br>Sharpe Ratio: 2.022<br>KO_Close: Weight=0.555<br>CVX_Close: Weight=0.223<br>NKE_Close: Weight=0.064<br>CSCO_Close: Weight=0.157",
          "Return: 29.830%<br>Volatility: 0.127<br>Sharpe Ratio: 2.358<br>MMM_Close: Weight=0.804<br>NFLX_Close: Weight=0.196<br>SRE_Close: Weight=0.000",
          "Return: 38.184%<br>Volatility: 0.117<br>Sharpe Ratio: 3.259<br>LMT_Close: Weight=0.454<br>LLY_Close: Weight=0.000<br>V_Close: Weight=0.247<br>PYPL_Close: Weight=0.299",
          "Return: 56.330%<br>Volatility: 0.158<br>Sharpe Ratio: 3.558<br>GM_Close: Weight=0.080<br>ABBV_Close: Weight=0.716<br>NVDA_Close: Weight=0.204",
          "Return: 34.789%<br>Volatility: 0.099<br>Sharpe Ratio: 3.512<br>GOOG_Close: Weight=0.180<br>UNH_Close: Weight=0.364<br>MCD_Close: Weight=0.456",
          "Return: 55.725%<br>Volatility: 0.170<br>Sharpe Ratio: 3.281<br>MS_Close: Weight=0.000<br>CMCSA_Close: Weight=0.048<br>ORCL_Close: Weight=0.113<br>CAT_Close: Weight=0.839",
          "Return: 27.658%<br>Volatility: 0.105<br>Sharpe Ratio: 2.622<br>RTX_Close: Weight=0.310<br>PM_Close: Weight=0.000<br>HD_Close: Weight=0.690",
          "Return: 32.096%<br>Volatility: 0.109<br>Sharpe Ratio: 2.952<br>NVDA_Close: Weight=0.171<br>MMM_Close: Weight=0.455<br>AEP_Close: Weight=0.374",
          "Return: 35.170%<br>Volatility: 0.093<br>Sharpe Ratio: 3.801<br>KO_Close: Weight=0.320<br>BA_Close: Weight=0.408<br>LMT_Close: Weight=0.272<br>KR_Close: Weight=0.000",
          "Return: 33.913%<br>Volatility: 0.207<br>Sharpe Ratio: 1.637<br>PG_Close: Weight=0.478<br>VRTX_Close: Weight=0.522<br>UA_Close: Weight=0.000",
          "Return: 39.301%<br>Volatility: 0.113<br>Sharpe Ratio: 3.474<br>BTI_Close: Weight=0.012<br>MCD_Close: Weight=0.606<br>WMT_Close: Weight=0.382",
          "Return: 41.288%<br>Volatility: 0.126<br>Sharpe Ratio: 3.289<br>SYY_Close: Weight=0.262<br>ABT_Close: Weight=0.323<br>PYPL_Close: Weight=0.414",
          "Return: 12.585%<br>Volatility: 0.092<br>Sharpe Ratio: 1.370<br>REGN_Close: Weight=0.000<br>DUK_Close: Weight=0.407<br>RTX_Close: Weight=0.593<br>K_Close: Weight=0.000",
          "Return: 42.028%<br>Volatility: 0.146<br>Sharpe Ratio: 2.870<br>AMZN_Close: Weight=0.331<br>RDY_Close: Weight=0.000<br>DHR_Close: Weight=0.024<br>DE_Close: Weight=0.644",
          "Return: 26.152%<br>Volatility: 0.097<br>Sharpe Ratio: 2.695<br>V_Close: Weight=0.655<br>JNJ_Close: Weight=0.345<br>KR_Close: Weight=0.000",
          "Return: 22.844%<br>Volatility: 0.085<br>Sharpe Ratio: 2.683<br>UA_Close: Weight=0.000<br>KO_Close: Weight=0.558<br>ADBE_Close: Weight=0.257<br>BAC_Close: Weight=0.186",
          "Return: 58.072%<br>Volatility: 0.175<br>Sharpe Ratio: 3.312<br>CAT_Close: Weight=0.855<br>CSCO_Close: Weight=0.000<br>EW_Close: Weight=0.145<br>MS_Close: Weight=0.000",
          "Return: 41.612%<br>Volatility: 0.115<br>Sharpe Ratio: 3.607<br>MSFT_Close: Weight=0.365<br>WMT_Close: Weight=0.390<br>ISRG_Close: Weight=0.245<br>K_Close: Weight=0.000",
          "Return: 32.250%<br>Volatility: 0.115<br>Sharpe Ratio: 2.806<br>BSX_Close: Weight=0.000<br>LLY_Close: Weight=0.159<br>MCD_Close: Weight=0.841",
          "Return: 12.626%<br>Volatility: 0.131<br>Sharpe Ratio: 0.960<br>EXC_Close: Weight=1.000<br>SNAP_Close: Weight=0.000<br>BSX_Close: Weight=0.000<br>MRK_Close: Weight=0.000",
          "Return: 14.668%<br>Volatility: 0.135<br>Sharpe Ratio: 1.090<br>MO_Close: Weight=0.000<br>CPB_Close: Weight=0.000<br>COST_Close: Weight=0.294<br>CSCO_Close: Weight=0.706",
          "Return: 21.920%<br>Volatility: 0.095<br>Sharpe Ratio: 2.307<br>RMD_Close: Weight=0.130<br>XOM_Close: Weight=0.094<br>CPB_Close: Weight=0.000<br>LMT_Close: Weight=0.776",
          "Return: 57.931%<br>Volatility: 0.185<br>Sharpe Ratio: 3.133<br>BABA_Close: Weight=0.322<br>PYPL_Close: Weight=0.586<br>DIS_Close: Weight=0.091",
          "Return: 23.129%<br>Volatility: 0.106<br>Sharpe Ratio: 2.190<br>PM_Close: Weight=0.000<br>JNJ_Close: Weight=0.548<br>META_Close: Weight=0.452<br>MRK_Close: Weight=0.000",
          "Return: 26.169%<br>Volatility: 0.090<br>Sharpe Ratio: 2.897<br>HON_Close: Weight=0.565<br>ABT_Close: Weight=0.307<br>GILD_Close: Weight=0.000<br>AAPL_Close: Weight=0.128",
          "Return: 17.573%<br>Volatility: 0.116<br>Sharpe Ratio: 1.514<br>CSCO_Close: Weight=0.299<br>ORCL_Close: Weight=0.204<br>EMR_Close: Weight=0.497",
          "Return: 12.346%<br>Volatility: 0.176<br>Sharpe Ratio: 0.703<br>SNAP_Close: Weight=0.000<br>ORCL_Close: Weight=0.940<br>GIS_Close: Weight=0.060",
          "Return: 57.206%<br>Volatility: 0.167<br>Sharpe Ratio: 3.422<br>REGN_Close: Weight=0.000<br>GM_Close: Weight=0.052<br>BA_Close: Weight=0.948",
          "Return: 16.952%<br>Volatility: 0.117<br>Sharpe Ratio: 1.453<br>SYY_Close: Weight=0.637<br>GILD_Close: Weight=0.000<br>ORCL_Close: Weight=0.363",
          "Return: 26.392%<br>Volatility: 0.141<br>Sharpe Ratio: 1.867<br>GS_Close: Weight=0.000<br>META_Close: Weight=0.536<br>GOOGL_Close: Weight=0.343<br>CMCSA_Close: Weight=0.121",
          "Return: 9.217%<br>Volatility: 0.108<br>Sharpe Ratio: 0.854<br>PFE_Close: Weight=1.000<br>GILD_Close: Weight=0.000<br>KR_Close: Weight=0.000",
          "Return: 13.764%<br>Volatility: 0.090<br>Sharpe Ratio: 1.524<br>AEP_Close: Weight=0.758<br>VZ_Close: Weight=0.175<br>T_Close: Weight=0.000<br>LLY_Close: Weight=0.067",
          "Return: 20.565%<br>Volatility: 0.210<br>Sharpe Ratio: 0.978<br>UA_Close: Weight=0.000<br>T_Close: Weight=0.000<br>EW_Close: Weight=0.882<br>GILD_Close: Weight=0.118",
          "Return: 35.262%<br>Volatility: 0.176<br>Sharpe Ratio: 2.004<br>SNAP_Close: Weight=0.000<br>VRTX_Close: Weight=0.345<br>TMO_Close: Weight=0.655",
          "Return: 30.312%<br>Volatility: 0.121<br>Sharpe Ratio: 2.495<br>BIIB_Close: Weight=0.000<br>V_Close: Weight=0.872<br>GOOGL_Close: Weight=0.128",
          "Return: 15.274%<br>Volatility: 0.119<br>Sharpe Ratio: 1.288<br>PG_Close: Weight=0.307<br>F_Close: Weight=0.000<br>SNAP_Close: Weight=0.000<br>EMR_Close: Weight=0.693",
          "Return: 14.706%<br>Volatility: 0.189<br>Sharpe Ratio: 0.777<br>CPB_Close: Weight=0.000<br>IBM_Close: Weight=0.000<br>GM_Close: Weight=1.000",
          "Return: 30.564%<br>Volatility: 0.113<br>Sharpe Ratio: 2.694<br>CMCSA_Close: Weight=0.029<br>MSFT_Close: Weight=0.666<br>SYY_Close: Weight=0.305<br>MDT_Close: Weight=0.000",
          "Return: 13.523%<br>Volatility: 0.115<br>Sharpe Ratio: 1.177<br>KR_Close: Weight=0.000<br>BAC_Close: Weight=0.386<br>PFE_Close: Weight=0.614",
          "Return: 59.541%<br>Volatility: 0.174<br>Sharpe Ratio: 3.416<br>BA_Close: Weight=1.000<br>F_Close: Weight=0.000<br>RDY_Close: Weight=0.000",
          "Return: 25.672%<br>Volatility: 0.099<br>Sharpe Ratio: 2.602<br>LMT_Close: Weight=0.660<br>BTI_Close: Weight=0.041<br>META_Close: Weight=0.298<br>BIIB_Close: Weight=0.000",
          "Return: 23.795%<br>Volatility: 0.103<br>Sharpe Ratio: 2.300<br>IBM_Close: Weight=0.000<br>LMT_Close: Weight=0.859<br>BAC_Close: Weight=0.141",
          "Return: 32.084%<br>Volatility: 0.119<br>Sharpe Ratio: 2.707<br>ORCL_Close: Weight=0.072<br>HD_Close: Weight=0.753<br>NFLX_Close: Weight=0.175",
          "Return: 22.776%<br>Volatility: 0.130<br>Sharpe Ratio: 1.756<br>CRM_Close: Weight=0.749<br>GM_Close: Weight=0.251<br>K_Close: Weight=0.000",
          "Return: 32.380%<br>Volatility: 0.120<br>Sharpe Ratio: 2.697<br>CMCSA_Close: Weight=0.136<br>ISRG_Close: Weight=0.554<br>RTX_Close: Weight=0.310",
          "Return: 14.978%<br>Volatility: 0.095<br>Sharpe Ratio: 1.583<br>EXC_Close: Weight=0.426<br>VZ_Close: Weight=0.158<br>TSLA_Close: Weight=0.111<br>CSCO_Close: Weight=0.304",
          "Return: 19.798%<br>Volatility: 0.145<br>Sharpe Ratio: 1.366<br>F_Close: Weight=0.000<br>TMO_Close: Weight=0.838<br>NKE_Close: Weight=0.162",
          "Return: 14.185%<br>Volatility: 0.137<br>Sharpe Ratio: 1.035<br>EW_Close: Weight=0.550<br>XOM_Close: Weight=0.450<br>REGN_Close: Weight=0.000",
          "Return: 36.161%<br>Volatility: 0.130<br>Sharpe Ratio: 2.786<br>REGN_Close: Weight=0.000<br>ORCL_Close: Weight=0.091<br>GOOGL_Close: Weight=0.313<br>DE_Close: Weight=0.596",
          "Return: 38.679%<br>Volatility: 0.132<br>Sharpe Ratio: 2.931<br>MSFT_Close: Weight=0.380<br>NVDA_Close: Weight=0.111<br>V_Close: Weight=0.509",
          "Return: 37.419%<br>Volatility: 0.136<br>Sharpe Ratio: 2.748<br>REGN_Close: Weight=0.002<br>MCD_Close: Weight=0.998<br>PM_Close: Weight=0.000",
          "Return: 27.425%<br>Volatility: 0.125<br>Sharpe Ratio: 2.196<br>PEP_Close: Weight=0.536<br>ADBE_Close: Weight=0.451<br>DUK_Close: Weight=0.013",
          "Return: 28.043%<br>Volatility: 0.102<br>Sharpe Ratio: 2.757<br>MRK_Close: Weight=0.000<br>TMO_Close: Weight=0.082<br>MA_Close: Weight=0.589<br>PEP_Close: Weight=0.329",
          "Return: 12.960%<br>Volatility: 0.081<br>Sharpe Ratio: 1.605<br>VZ_Close: Weight=0.143<br>UA_Close: Weight=0.000<br>KO_Close: Weight=0.857<br>GE_Close: Weight=0.000",
          "Return: 35.782%<br>Volatility: 0.101<br>Sharpe Ratio: 3.552<br>CRM_Close: Weight=0.259<br>AMD_Close: Weight=0.000<br>ABBV_Close: Weight=0.460<br>CVX_Close: Weight=0.282",
          "Return: 39.308%<br>Volatility: 0.133<br>Sharpe Ratio: 2.958<br>TXN_Close: Weight=0.464<br>ISRG_Close: Weight=0.455<br>NKE_Close: Weight=0.081<br>BSX_Close: Weight=0.000",
          "Return: 20.046%<br>Volatility: 0.075<br>Sharpe Ratio: 2.683<br>SYY_Close: Weight=0.202<br>GILD_Close: Weight=0.046<br>CVX_Close: Weight=0.218<br>NEE_Close: Weight=0.534",
          "Return: 37.854%<br>Volatility: 0.132<br>Sharpe Ratio: 2.865<br>VRTX_Close: Weight=0.187<br>DIS_Close: Weight=0.000<br>RDY_Close: Weight=0.000<br>HD_Close: Weight=0.813",
          "Return: 40.455%<br>Volatility: 0.117<br>Sharpe Ratio: 3.453<br>ABBV_Close: Weight=0.504<br>CRM_Close: Weight=0.189<br>ACN_Close: Weight=0.307",
          "Return: 19.243%<br>Volatility: 0.198<br>Sharpe Ratio: 0.973<br>PM_Close: Weight=0.054<br>BAC_Close: Weight=0.946<br>T_Close: Weight=0.000",
          "Return: 37.383%<br>Volatility: 0.150<br>Sharpe Ratio: 2.484<br>DIS_Close: Weight=0.191<br>KR_Close: Weight=0.000<br>GILD_Close: Weight=0.000<br>ISRG_Close: Weight=0.809",
          "Return: 22.260%<br>Volatility: 0.105<br>Sharpe Ratio: 2.119<br>AAPL_Close: Weight=0.240<br>JPM_Close: Weight=0.309<br>SAP_Close: Weight=0.451",
          "Return: 24.499%<br>Volatility: 0.107<br>Sharpe Ratio: 2.288<br>LMT_Close: Weight=0.921<br>REGN_Close: Weight=0.000<br>TSLA_Close: Weight=0.079",
          "Return: 30.902%<br>Volatility: 0.112<br>Sharpe Ratio: 2.769<br>ISRG_Close: Weight=0.501<br>AEP_Close: Weight=0.499<br>GILD_Close: Weight=0.000<br>BIIB_Close: Weight=0.000",
          "Return: 57.245%<br>Volatility: 0.174<br>Sharpe Ratio: 3.283<br>CAT_Close: Weight=0.870<br>EMR_Close: Weight=0.000<br>BTI_Close: Weight=0.130",
          "Return: 28.337%<br>Volatility: 0.088<br>Sharpe Ratio: 3.206<br>LMT_Close: Weight=0.334<br>DE_Close: Weight=0.337<br>AEP_Close: Weight=0.328<br>AMD_Close: Weight=0.000",
          "Return: 21.646%<br>Volatility: 0.091<br>Sharpe Ratio: 2.386<br>AEP_Close: Weight=0.381<br>EXC_Close: Weight=0.000<br>GM_Close: Weight=0.100<br>MMM_Close: Weight=0.518",
          "Return: 20.344%<br>Volatility: 0.201<br>Sharpe Ratio: 1.013<br>DIS_Close: Weight=0.000<br>RMD_Close: Weight=1.000<br>ZBH_Close: Weight=0.000",
          "Return: 31.898%<br>Volatility: 0.175<br>Sharpe Ratio: 1.821<br>BSX_Close: Weight=0.000<br>AMGN_Close: Weight=0.000<br>META_Close: Weight=0.829<br>NFLX_Close: Weight=0.171",
          "Return: 38.631%<br>Volatility: 0.160<br>Sharpe Ratio: 2.413<br>WMT_Close: Weight=0.844<br>GM_Close: Weight=0.156<br>T_Close: Weight=0.000",
          "Return: 37.142%<br>Volatility: 0.161<br>Sharpe Ratio: 2.300<br>ZBH_Close: Weight=0.000<br>TXN_Close: Weight=1.000<br>REGN_Close: Weight=0.000",
          "Return: 16.521%<br>Volatility: 0.168<br>Sharpe Ratio: 0.982<br>BAC_Close: Weight=0.767<br>XOM_Close: Weight=0.233<br>F_Close: Weight=0.000",
          "Return: 39.294%<br>Volatility: 0.128<br>Sharpe Ratio: 3.079<br>BAC_Close: Weight=0.077<br>GILD_Close: Weight=0.000<br>ABT_Close: Weight=0.581<br>BABA_Close: Weight=0.342",
          "Return: 36.377%<br>Volatility: 0.123<br>Sharpe Ratio: 2.963<br>SNAP_Close: Weight=0.000<br>LLY_Close: Weight=0.000<br>ISRG_Close: Weight=0.457<br>MMM_Close: Weight=0.543",
          "Return: 46.207%<br>Volatility: 0.186<br>Sharpe Ratio: 2.487<br>NFLX_Close: Weight=0.059<br>BABA_Close: Weight=0.527<br>GOOG_Close: Weight=0.414",
          "Return: 30.902%<br>Volatility: 0.112<br>Sharpe Ratio: 2.769<br>ISRG_Close: Weight=0.501<br>AMGN_Close: Weight=0.000<br>SO_Close: Weight=0.000<br>AEP_Close: Weight=0.499",
          "Return: 20.970%<br>Volatility: 0.094<br>Sharpe Ratio: 2.223<br>VZ_Close: Weight=0.175<br>PEP_Close: Weight=0.516<br>ORCL_Close: Weight=0.136<br>VRTX_Close: Weight=0.174",
          "Return: 15.518%<br>Volatility: 0.080<br>Sharpe Ratio: 1.934<br>CSCO_Close: Weight=0.127<br>SRE_Close: Weight=0.000<br>PEP_Close: Weight=0.560<br>EMR_Close: Weight=0.313",
          "Return: 17.204%<br>Volatility: 0.131<br>Sharpe Ratio: 1.315<br>BAC_Close: Weight=0.358<br>CVX_Close: Weight=0.642<br>AMGN_Close: Weight=0.000",
          "Return: 61.610%<br>Volatility: 0.267<br>Sharpe Ratio: 2.305<br>BSX_Close: Weight=0.000<br>AMGN_Close: Weight=0.000<br>BABA_Close: Weight=1.000",
          "Return: 25.067%<br>Volatility: 0.102<br>Sharpe Ratio: 2.467<br>HON_Close: Weight=1.000<br>BIIB_Close: Weight=0.000<br>GIS_Close: Weight=0.000<br>GILD_Close: Weight=0.000",
          "Return: 27.772%<br>Volatility: 0.131<br>Sharpe Ratio: 2.118<br>KR_Close: Weight=0.000<br>MMM_Close: Weight=1.000<br>MRK_Close: Weight=0.000",
          "Return: 30.384%<br>Volatility: 0.116<br>Sharpe Ratio: 2.610<br>T_Close: Weight=0.000<br>SYY_Close: Weight=0.213<br>VZ_Close: Weight=0.049<br>UNH_Close: Weight=0.738",
          "Return: 43.552%<br>Volatility: 0.131<br>Sharpe Ratio: 3.325<br>ABBV_Close: Weight=0.524<br>ABT_Close: Weight=0.233<br>EW_Close: Weight=0.050<br>AMZN_Close: Weight=0.193",
          "Return: 36.905%<br>Volatility: 0.138<br>Sharpe Ratio: 2.682<br>NFLX_Close: Weight=0.000<br>MSFT_Close: Weight=0.559<br>TXN_Close: Weight=0.441",
          "Return: 54.051%<br>Volatility: 0.179<br>Sharpe Ratio: 3.026<br>XOM_Close: Weight=0.000<br>ABBV_Close: Weight=1.000<br>SRE_Close: Weight=0.000<br>ZBH_Close: Weight=0.000",
          "Return: 39.408%<br>Volatility: 0.130<br>Sharpe Ratio: 3.040<br>BABA_Close: Weight=0.217<br>V_Close: Weight=0.495<br>TXN_Close: Weight=0.288<br>BIIB_Close: Weight=0.000",
          "Return: 22.135%<br>Volatility: 0.103<br>Sharpe Ratio: 2.145<br>BMY_Close: Weight=0.116<br>PG_Close: Weight=0.000<br>NEE_Close: Weight=0.884",
          "Return: 34.095%<br>Volatility: 0.108<br>Sharpe Ratio: 3.143<br>ABT_Close: Weight=0.385<br>MCD_Close: Weight=0.615<br>BSX_Close: Weight=0.000<br>REGN_Close: Weight=0.000",
          "Return: 20.344%<br>Volatility: 0.201<br>Sharpe Ratio: 1.013<br>SNAP_Close: Weight=0.000<br>GIS_Close: Weight=0.000<br>RMD_Close: Weight=1.000",
          "Return: 61.334%<br>Volatility: 0.385<br>Sharpe Ratio: 1.595<br>ZBH_Close: Weight=0.000<br>VRTX_Close: Weight=1.000<br>SO_Close: Weight=0.000",
          "Return: 15.265%<br>Volatility: 0.119<br>Sharpe Ratio: 1.288<br>SRE_Close: Weight=0.000<br>PG_Close: Weight=0.308<br>EMR_Close: Weight=0.692",
          "Return: 33.235%<br>Volatility: 0.155<br>Sharpe Ratio: 2.150<br>TMO_Close: Weight=0.282<br>ADBE_Close: Weight=0.530<br>CSCO_Close: Weight=0.188",
          "Return: 30.284%<br>Volatility: 0.119<br>Sharpe Ratio: 2.551<br>INTC_Close: Weight=0.408<br>ABT_Close: Weight=0.592<br>F_Close: Weight=0.000",
          "Return: 39.223%<br>Volatility: 0.144<br>Sharpe Ratio: 2.721<br>GS_Close: Weight=0.000<br>ADBE_Close: Weight=0.214<br>MRK_Close: Weight=0.000<br>MA_Close: Weight=0.786",
          "Return: 53.600%<br>Volatility: 0.119<br>Sharpe Ratio: 4.510<br>CAT_Close: Weight=0.423<br>DUK_Close: Weight=0.108<br>VRTX_Close: Weight=0.064<br>ABBV_Close: Weight=0.405",
          "Return: 41.095%<br>Volatility: 0.103<br>Sharpe Ratio: 3.989<br>TMO_Close: Weight=0.040<br>TXN_Close: Weight=0.274<br>ABBV_Close: Weight=0.361<br>HD_Close: Weight=0.325",
          "Return: 23.485%<br>Volatility: 0.104<br>Sharpe Ratio: 2.259<br>MDT_Close: Weight=0.000<br>MS_Close: Weight=0.116<br>LLY_Close: Weight=0.000<br>LMT_Close: Weight=0.884",
          "Return: 32.185%<br>Volatility: 0.095<br>Sharpe Ratio: 3.400<br>V_Close: Weight=0.399<br>JPM_Close: Weight=0.154<br>MO_Close: Weight=0.000<br>MCD_Close: Weight=0.446",
          "Return: 13.517%<br>Volatility: 0.078<br>Sharpe Ratio: 1.729<br>CPB_Close: Weight=0.000<br>MO_Close: Weight=0.000<br>GM_Close: Weight=0.191<br>KO_Close: Weight=0.809",
          "Return: 39.887%<br>Volatility: 0.147<br>Sharpe Ratio: 2.708<br>ISRG_Close: Weight=0.610<br>IBM_Close: Weight=0.000<br>PFE_Close: Weight=0.239<br>VRTX_Close: Weight=0.151",
          "Return: 45.676%<br>Volatility: 0.149<br>Sharpe Ratio: 3.075<br>ABBV_Close: Weight=0.798<br>EXC_Close: Weight=0.202<br>SO_Close: Weight=0.000",
          "Return: 15.062%<br>Volatility: 0.156<br>Sharpe Ratio: 0.966<br>BMY_Close: Weight=0.504<br>MDT_Close: Weight=0.000<br>QCOM_Close: Weight=0.496",
          "Return: 25.044%<br>Volatility: 0.176<br>Sharpe Ratio: 1.423<br>AAPL_Close: Weight=1.000<br>RDY_Close: Weight=0.000<br>KR_Close: Weight=0.000",
          "Return: 39.517%<br>Volatility: 0.120<br>Sharpe Ratio: 3.287<br>SNAP_Close: Weight=0.000<br>PYPL_Close: Weight=0.360<br>HON_Close: Weight=0.640",
          "Return: 36.990%<br>Volatility: 0.102<br>Sharpe Ratio: 3.639<br>MCD_Close: Weight=0.481<br>WMT_Close: Weight=0.322<br>GOOGL_Close: Weight=0.196",
          "Return: 39.063%<br>Volatility: 0.113<br>Sharpe Ratio: 3.464<br>JPM_Close: Weight=0.182<br>ABBV_Close: Weight=0.489<br>ACN_Close: Weight=0.329",
          "Return: 24.442%<br>Volatility: 0.094<br>Sharpe Ratio: 2.603<br>HON_Close: Weight=0.768<br>SAP_Close: Weight=0.232<br>AMD_Close: Weight=0.000",
          "Return: 24.560%<br>Volatility: 0.107<br>Sharpe Ratio: 2.305<br>ETN_Close: Weight=0.078<br>CMCSA_Close: Weight=0.033<br>JPM_Close: Weight=0.265<br>ABT_Close: Weight=0.624",
          "Return: 16.523%<br>Volatility: 0.161<br>Sharpe Ratio: 1.025<br>GM_Close: Weight=0.554<br>UA_Close: Weight=0.000<br>BSX_Close: Weight=0.000<br>QCOM_Close: Weight=0.446",
          "Return: 14.434%<br>Volatility: 0.121<br>Sharpe Ratio: 1.190<br>NKE_Close: Weight=0.213<br>CVX_Close: Weight=0.787<br>UA_Close: Weight=0.000",
          "Return: 61.864%<br>Volatility: 0.190<br>Sharpe Ratio: 3.256<br>UA_Close: Weight=0.000<br>QCOM_Close: Weight=0.049<br>BSX_Close: Weight=0.000<br>CAT_Close: Weight=0.951",
          "Return: 29.310%<br>Volatility: 0.147<br>Sharpe Ratio: 1.999<br>AAPL_Close: Weight=0.329<br>INTC_Close: Weight=0.635<br>CMCSA_Close: Weight=0.036",
          "Return: 20.984%<br>Volatility: 0.092<br>Sharpe Ratio: 2.270<br>CMCSA_Close: Weight=0.015<br>CVX_Close: Weight=0.295<br>JPM_Close: Weight=0.233<br>CRM_Close: Weight=0.457",
          "Return: 11.974%<br>Volatility: 0.091<br>Sharpe Ratio: 1.320<br>GS_Close: Weight=0.077<br>DIS_Close: Weight=0.000<br>PEP_Close: Weight=0.923<br>RDY_Close: Weight=0.000",
          "Return: 52.144%<br>Volatility: 0.180<br>Sharpe Ratio: 2.892<br>PYPL_Close: Weight=0.758<br>VZ_Close: Weight=0.242<br>KR_Close: Weight=0.000",
          "Return: 31.302%<br>Volatility: 0.103<br>Sharpe Ratio: 3.053<br>SAP_Close: Weight=0.141<br>LLY_Close: Weight=0.000<br>DE_Close: Weight=0.330<br>HON_Close: Weight=0.530",
          "Return: 34.171%<br>Volatility: 0.100<br>Sharpe Ratio: 3.430<br>SYY_Close: Weight=0.180<br>ABBV_Close: Weight=0.491<br>RMD_Close: Weight=0.000<br>PEP_Close: Weight=0.329",
          "Return: 54.012%<br>Volatility: 0.181<br>Sharpe Ratio: 2.987<br>SRE_Close: Weight=0.000<br>DE_Close: Weight=0.750<br>NVDA_Close: Weight=0.250",
          "Return: 46.172%<br>Volatility: 0.148<br>Sharpe Ratio: 3.124<br>TMO_Close: Weight=0.180<br>K_Close: Weight=0.000<br>ABBV_Close: Weight=0.755<br>EW_Close: Weight=0.065",
          "Return: 46.461%<br>Volatility: 0.122<br>Sharpe Ratio: 3.813<br>TXN_Close: Weight=0.174<br>ABT_Close: Weight=0.366<br>CAT_Close: Weight=0.461<br>BAC_Close: Weight=0.000",
          "Return: 24.889%<br>Volatility: 0.101<br>Sharpe Ratio: 2.472<br>CPB_Close: Weight=0.000<br>T_Close: Weight=0.000<br>QCOM_Close: Weight=0.028<br>HON_Close: Weight=0.972",
          "Return: 11.783%<br>Volatility: 0.140<br>Sharpe Ratio: 0.843<br>CMCSA_Close: Weight=0.377<br>PM_Close: Weight=0.000<br>ORCL_Close: Weight=0.623",
          "Return: 22.426%<br>Volatility: 0.091<br>Sharpe Ratio: 2.477<br>TSLA_Close: Weight=0.048<br>RDY_Close: Weight=0.000<br>SYY_Close: Weight=0.281<br>NEE_Close: Weight=0.671",
          "Return: 59.774%<br>Volatility: 0.283<br>Sharpe Ratio: 2.111<br>RMD_Close: Weight=0.347<br>NVDA_Close: Weight=0.653<br>IBM_Close: Weight=0.000",
          "Return: 43.812%<br>Volatility: 0.132<br>Sharpe Ratio: 3.318<br>EW_Close: Weight=0.078<br>CMCSA_Close: Weight=0.109<br>BABA_Close: Weight=0.323<br>WMT_Close: Weight=0.490",
          "Return: 26.587%<br>Volatility: 0.099<br>Sharpe Ratio: 2.691<br>RTX_Close: Weight=0.214<br>UNH_Close: Weight=0.585<br>EXC_Close: Weight=0.202",
          "Return: 17.603%<br>Volatility: 0.087<br>Sharpe Ratio: 2.027<br>NKE_Close: Weight=0.105<br>GOOGL_Close: Weight=0.440<br>WFC_Close: Weight=0.098<br>EXC_Close: Weight=0.357",
          "Return: 27.470%<br>Volatility: 0.103<br>Sharpe Ratio: 2.680<br>V_Close: Weight=0.724<br>SO_Close: Weight=0.000<br>CMCSA_Close: Weight=0.044<br>JPM_Close: Weight=0.232",
          "Return: 18.504%<br>Volatility: 0.133<br>Sharpe Ratio: 1.392<br>TSLA_Close: Weight=0.167<br>RTX_Close: Weight=0.833<br>ZBH_Close: Weight=0.000",
          "Return: 24.868%<br>Volatility: 0.101<br>Sharpe Ratio: 2.457<br>ETN_Close: Weight=0.028<br>DUK_Close: Weight=0.375<br>TXN_Close: Weight=0.597",
          "Return: 33.597%<br>Volatility: 0.098<br>Sharpe Ratio: 3.413<br>ZBH_Close: Weight=0.000<br>HD_Close: Weight=0.466<br>DIS_Close: Weight=0.040<br>MA_Close: Weight=0.494",
          "Return: 33.910%<br>Volatility: 0.167<br>Sharpe Ratio: 2.031<br>JPM_Close: Weight=0.662<br>CMCSA_Close: Weight=0.000<br>VRTX_Close: Weight=0.338",
          "Return: 23.871%<br>Volatility: 0.105<br>Sharpe Ratio: 2.274<br>BSX_Close: Weight=0.000<br>JNJ_Close: Weight=0.410<br>ABT_Close: Weight=0.590",
          "Return: 43.570%<br>Volatility: 0.161<br>Sharpe Ratio: 2.714<br>F_Close: Weight=0.000<br>LLY_Close: Weight=0.003<br>NFLX_Close: Weight=0.206<br>DE_Close: Weight=0.790",
          "Return: 39.973%<br>Volatility: 0.191<br>Sharpe Ratio: 2.088<br>ADBE_Close: Weight=0.757<br>EW_Close: Weight=0.243<br>IBM_Close: Weight=0.000",
          "Return: 61.727%<br>Volatility: 0.218<br>Sharpe Ratio: 2.826<br>RDY_Close: Weight=0.000<br>LLY_Close: Weight=0.000<br>PYPL_Close: Weight=0.926<br>QCOM_Close: Weight=0.074",
          "Return: 35.896%<br>Volatility: 0.112<br>Sharpe Ratio: 3.198<br>CSCO_Close: Weight=0.000<br>UNH_Close: Weight=0.557<br>TXN_Close: Weight=0.443",
          "Return: 10.631%<br>Volatility: 0.145<br>Sharpe Ratio: 0.736<br>BIIB_Close: Weight=0.386<br>BTI_Close: Weight=0.614<br>GE_Close: Weight=0.000<br>ZBH_Close: Weight=0.000",
          "Return: 25.933%<br>Volatility: 0.089<br>Sharpe Ratio: 2.899<br>HON_Close: Weight=0.470<br>LMT_Close: Weight=0.331<br>F_Close: Weight=0.000<br>META_Close: Weight=0.199",
          "Return: 26.269%<br>Volatility: 0.120<br>Sharpe Ratio: 2.181<br>SYY_Close: Weight=0.367<br>INTC_Close: Weight=0.567<br>COST_Close: Weight=0.000<br>VZ_Close: Weight=0.066",
          "Return: 60.381%<br>Volatility: 0.186<br>Sharpe Ratio: 3.255<br>CAT_Close: Weight=0.921<br>GILD_Close: Weight=0.017<br>JPM_Close: Weight=0.061",
          "Return: 45.547%<br>Volatility: 0.119<br>Sharpe Ratio: 3.843<br>CAT_Close: Weight=0.432<br>ETN_Close: Weight=0.000<br>V_Close: Weight=0.421<br>INTC_Close: Weight=0.146",
          "Return: 31.320%<br>Volatility: 0.145<br>Sharpe Ratio: 2.159<br>XOM_Close: Weight=0.124<br>AMZN_Close: Weight=0.388<br>INTC_Close: Weight=0.488",
          "Return: 9.501%<br>Volatility: 0.100<br>Sharpe Ratio: 0.946<br>PFE_Close: Weight=0.808<br>NKE_Close: Weight=0.192<br>UA_Close: Weight=0.000",
          "Return: 37.375%<br>Volatility: 0.150<br>Sharpe Ratio: 2.484<br>DIS_Close: Weight=0.191<br>PM_Close: Weight=0.000<br>ISRG_Close: Weight=0.809",
          "Return: 32.197%<br>Volatility: 0.132<br>Sharpe Ratio: 2.436<br>VRTX_Close: Weight=0.185<br>VZ_Close: Weight=0.145<br>ABT_Close: Weight=0.671",
          "Return: 13.881%<br>Volatility: 0.085<br>Sharpe Ratio: 1.636<br>PEP_Close: Weight=0.428<br>BTI_Close: Weight=0.058<br>AEP_Close: Weight=0.514",
          "Return: 36.718%<br>Volatility: 0.152<br>Sharpe Ratio: 2.419<br>DHR_Close: Weight=0.000<br>MSFT_Close: Weight=1.000<br>PM_Close: Weight=0.000",
          "Return: 14.448%<br>Volatility: 0.108<br>Sharpe Ratio: 1.344<br>MO_Close: Weight=0.000<br>PG_Close: Weight=0.344<br>JPM_Close: Weight=0.656",
          "Return: 35.965%<br>Volatility: 0.112<br>Sharpe Ratio: 3.208<br>AAPL_Close: Weight=0.054<br>WMT_Close: Weight=0.359<br>TXN_Close: Weight=0.316<br>ACN_Close: Weight=0.270",
          "Return: 39.062%<br>Volatility: 0.150<br>Sharpe Ratio: 2.600<br>DE_Close: Weight=0.811<br>LLY_Close: Weight=0.000<br>ORCL_Close: Weight=0.189",
          "Return: 32.565%<br>Volatility: 0.153<br>Sharpe Ratio: 2.122<br>UA_Close: Weight=0.000<br>EXC_Close: Weight=0.394<br>SNAP_Close: Weight=0.000<br>ADBE_Close: Weight=0.606",
          "Return: 19.898%<br>Volatility: 0.070<br>Sharpe Ratio: 2.860<br>REGN_Close: Weight=0.000<br>KO_Close: Weight=0.379<br>HON_Close: Weight=0.487<br>JPM_Close: Weight=0.134",
          "Return: 51.759%<br>Volatility: 0.180<br>Sharpe Ratio: 2.879<br>MO_Close: Weight=0.000<br>SAP_Close: Weight=0.287<br>PYPL_Close: Weight=0.691<br>ETN_Close: Weight=0.022",
          "Return: 25.309%<br>Volatility: 0.093<br>Sharpe Ratio: 2.728<br>PG_Close: Weight=0.000<br>AEP_Close: Weight=0.413<br>HD_Close: Weight=0.587",
          "Return: 16.313%<br>Volatility: 0.092<br>Sharpe Ratio: 1.777<br>GM_Close: Weight=0.127<br>ETN_Close: Weight=0.169<br>JNJ_Close: Weight=0.607<br>QCOM_Close: Weight=0.096",
          "Return: 3.617%<br>Volatility: 0.194<br>Sharpe Ratio: 0.186<br>SNAP_Close: Weight=0.000<br>K_Close: Weight=0.000<br>ZBH_Close: Weight=1.000",
          "Return: 21.796%<br>Volatility: 0.093<br>Sharpe Ratio: 2.356<br>CSCO_Close: Weight=0.123<br>SRE_Close: Weight=0.000<br>INTC_Close: Weight=0.374<br>AEP_Close: Weight=0.504",
          "Return: 27.195%<br>Volatility: 0.125<br>Sharpe Ratio: 2.173<br>AMGN_Close: Weight=0.000<br>INTC_Close: Weight=0.598<br>SYY_Close: Weight=0.402",
          "Return: 25.067%<br>Volatility: 0.102<br>Sharpe Ratio: 2.467<br>HON_Close: Weight=1.000<br>ETN_Close: Weight=0.000<br>KR_Close: Weight=0.000<br>CPB_Close: Weight=0.000",
          "Return: 25.507%<br>Volatility: 0.145<br>Sharpe Ratio: 1.764<br>AAPL_Close: Weight=0.359<br>GOOGL_Close: Weight=0.641<br>MO_Close: Weight=0.000",
          "Return: 48.040%<br>Volatility: 0.129<br>Sharpe Ratio: 3.730<br>REGN_Close: Weight=0.000<br>ABT_Close: Weight=0.453<br>CAT_Close: Weight=0.547",
          "Return: 50.471%<br>Volatility: 0.132<br>Sharpe Ratio: 3.836<br>MRK_Close: Weight=0.000<br>BA_Close: Weight=0.634<br>SYK_Close: Weight=0.166<br>ADBE_Close: Weight=0.201",
          "Return: 39.065%<br>Volatility: 0.125<br>Sharpe Ratio: 3.114<br>MCD_Close: Weight=0.717<br>ADBE_Close: Weight=0.262<br>BMY_Close: Weight=0.021",
          "Return: 15.052%<br>Volatility: 0.073<br>Sharpe Ratio: 2.060<br>EMR_Close: Weight=0.297<br>KO_Close: Weight=0.671<br>LLY_Close: Weight=0.032",
          "Return: 29.830%<br>Volatility: 0.118<br>Sharpe Ratio: 2.532<br>EW_Close: Weight=0.112<br>V_Close: Weight=0.877<br>BTI_Close: Weight=0.011",
          "Return: 27.946%<br>Volatility: 0.093<br>Sharpe Ratio: 3.000<br>ACN_Close: Weight=0.275<br>AMZN_Close: Weight=0.168<br>F_Close: Weight=0.000<br>HON_Close: Weight=0.557",
          "Return: 15.564%<br>Volatility: 0.145<br>Sharpe Ratio: 1.076<br>AMD_Close: Weight=0.000<br>GM_Close: Weight=0.336<br>SO_Close: Weight=0.134<br>BAC_Close: Weight=0.530",
          "Return: 15.165%<br>Volatility: 0.103<br>Sharpe Ratio: 1.472<br>NKE_Close: Weight=0.111<br>CVX_Close: Weight=0.515<br>CSCO_Close: Weight=0.374",
          "Return: 25.301%<br>Volatility: 0.116<br>Sharpe Ratio: 2.172<br>ABT_Close: Weight=0.687<br>TMO_Close: Weight=0.167<br>ETN_Close: Weight=0.146",
          "Return: 26.526%<br>Volatility: 0.107<br>Sharpe Ratio: 2.487<br>TXN_Close: Weight=0.572<br>RTX_Close: Weight=0.173<br>CPB_Close: Weight=0.000<br>PFE_Close: Weight=0.255",
          "Return: 25.063%<br>Volatility: 0.097<br>Sharpe Ratio: 2.587<br>HON_Close: Weight=0.828<br>AAPL_Close: Weight=0.172<br>BSX_Close: Weight=0.000<br>RDY_Close: Weight=0.000",
          "Return: 22.480%<br>Volatility: 0.121<br>Sharpe Ratio: 1.857<br>COST_Close: Weight=0.146<br>BMY_Close: Weight=0.173<br>GOOG_Close: Weight=0.681<br>T_Close: Weight=0.000",
          "Return: 23.747%<br>Volatility: 0.086<br>Sharpe Ratio: 2.748<br>LMT_Close: Weight=0.595<br>CVX_Close: Weight=0.274<br>NFLX_Close: Weight=0.131",
          "Return: 30.515%<br>Volatility: 0.206<br>Sharpe Ratio: 1.480<br>QCOM_Close: Weight=0.300<br>TSLA_Close: Weight=0.157<br>NFLX_Close: Weight=0.543",
          "Return: 35.527%<br>Volatility: 0.113<br>Sharpe Ratio: 3.150<br>TMO_Close: Weight=0.000<br>MA_Close: Weight=0.416<br>JPM_Close: Weight=0.273<br>ISRG_Close: Weight=0.311",
          "Return: 23.560%<br>Volatility: 0.149<br>Sharpe Ratio: 1.580<br>AAPL_Close: Weight=0.683<br>BAC_Close: Weight=0.317<br>WFC_Close: Weight=0.000<br>AMGN_Close: Weight=0.000",
          "Return: 22.540%<br>Volatility: 0.089<br>Sharpe Ratio: 2.536<br>SNAP_Close: Weight=0.000<br>GE_Close: Weight=0.000<br>NEE_Close: Weight=0.693<br>EMR_Close: Weight=0.307",
          "Return: 27.989%<br>Volatility: 0.109<br>Sharpe Ratio: 2.559<br>ABT_Close: Weight=0.486<br>ACN_Close: Weight=0.514<br>ZBH_Close: Weight=0.000<br>GE_Close: Weight=0.000",
          "Return: 24.360%<br>Volatility: 0.110<br>Sharpe Ratio: 2.206<br>AMD_Close: Weight=0.000<br>LMT_Close: Weight=1.000<br>BSX_Close: Weight=0.000",
          "Return: 20.499%<br>Volatility: 0.083<br>Sharpe Ratio: 2.471<br>KO_Close: Weight=0.463<br>ABT_Close: Weight=0.389<br>SYK_Close: Weight=0.148",
          "Return: 23.432%<br>Volatility: 0.099<br>Sharpe Ratio: 2.372<br>MDT_Close: Weight=0.000<br>LMT_Close: Weight=0.773<br>EMR_Close: Weight=0.227",
          "Return: 29.942%<br>Volatility: 0.105<br>Sharpe Ratio: 2.839<br>GS_Close: Weight=0.000<br>BTI_Close: Weight=0.000<br>HD_Close: Weight=0.640<br>CRM_Close: Weight=0.360",
          "Return: 39.657%<br>Volatility: 0.127<br>Sharpe Ratio: 3.113<br>ADBE_Close: Weight=0.269<br>MCD_Close: Weight=0.731<br>PG_Close: Weight=0.000",
          "Return: 16.265%<br>Volatility: 0.160<br>Sharpe Ratio: 1.019<br>TSLA_Close: Weight=0.280<br>WFC_Close: Weight=0.199<br>DIS_Close: Weight=0.000<br>GM_Close: Weight=0.521",
          "Return: 19.873%<br>Volatility: 0.109<br>Sharpe Ratio: 1.819<br>SYY_Close: Weight=0.421<br>SYK_Close: Weight=0.516<br>CMCSA_Close: Weight=0.062",
          "Return: 19.910%<br>Volatility: 0.076<br>Sharpe Ratio: 2.621<br>META_Close: Weight=0.309<br>SYY_Close: Weight=0.223<br>COST_Close: Weight=0.000<br>KO_Close: Weight=0.468",
          "Return: 13.435%<br>Volatility: 0.079<br>Sharpe Ratio: 1.704<br>MS_Close: Weight=0.216<br>BMY_Close: Weight=0.138<br>PM_Close: Weight=0.000<br>PEP_Close: Weight=0.646",
          "Return: 37.909%<br>Volatility: 0.160<br>Sharpe Ratio: 2.363<br>GE_Close: Weight=0.000<br>VRTX_Close: Weight=0.255<br>COST_Close: Weight=0.095<br>INTC_Close: Weight=0.651",
          "Return: 46.174%<br>Volatility: 0.134<br>Sharpe Ratio: 3.453<br>ABBV_Close: Weight=0.524<br>BMY_Close: Weight=0.000<br>MA_Close: Weight=0.476",
          "Return: 18.777%<br>Volatility: 0.239<br>Sharpe Ratio: 0.786<br>MDT_Close: Weight=0.000<br>MO_Close: Weight=0.000<br>QCOM_Close: Weight=1.000",
          "Return: 16.351%<br>Volatility: 0.083<br>Sharpe Ratio: 1.959<br>RTX_Close: Weight=0.290<br>EXC_Close: Weight=0.373<br>SO_Close: Weight=0.000<br>JPM_Close: Weight=0.338",
          "Return: 26.478%<br>Volatility: 0.078<br>Sharpe Ratio: 3.385<br>PFE_Close: Weight=0.139<br>MCD_Close: Weight=0.410<br>NEE_Close: Weight=0.330<br>JNJ_Close: Weight=0.121",
          "Return: 13.710%<br>Volatility: 0.090<br>Sharpe Ratio: 1.529<br>PEP_Close: Weight=0.710<br>CSCO_Close: Weight=0.290<br>AMGN_Close: Weight=0.000",
          "Return: 15.877%<br>Volatility: 0.097<br>Sharpe Ratio: 1.639<br>AEP_Close: Weight=0.799<br>SO_Close: Weight=0.000<br>QCOM_Close: Weight=0.201<br>AMGN_Close: Weight=0.000",
          "Return: 55.143%<br>Volatility: 0.172<br>Sharpe Ratio: 3.205<br>RDY_Close: Weight=0.000<br>ABBV_Close: Weight=0.850<br>VRTX_Close: Weight=0.150<br>K_Close: Weight=0.000",
          "Return: 31.319%<br>Volatility: 0.087<br>Sharpe Ratio: 3.616<br>LMT_Close: Weight=0.372<br>LLY_Close: Weight=0.000<br>BABA_Close: Weight=0.196<br>NEE_Close: Weight=0.432",
          "Return: 27.095%<br>Volatility: 0.107<br>Sharpe Ratio: 2.536<br>CMCSA_Close: Weight=0.097<br>F_Close: Weight=0.065<br>BSX_Close: Weight=0.000<br>V_Close: Weight=0.838",
          "Return: 24.287%<br>Volatility: 0.135<br>Sharpe Ratio: 1.805<br>F_Close: Weight=0.000<br>GM_Close: Weight=0.227<br>NFLX_Close: Weight=0.251<br>SYK_Close: Weight=0.522",
          "Return: 14.303%<br>Volatility: 0.128<br>Sharpe Ratio: 1.120<br>ORCL_Close: Weight=0.382<br>NKE_Close: Weight=0.182<br>MS_Close: Weight=0.436",
          "Return: 18.041%<br>Volatility: 0.165<br>Sharpe Ratio: 1.096<br>SRE_Close: Weight=0.000<br>PM_Close: Weight=0.000<br>BTI_Close: Weight=0.398<br>EW_Close: Weight=0.602",
          "Return: 14.674%<br>Volatility: 0.090<br>Sharpe Ratio: 1.634<br>ORCL_Close: Weight=0.236<br>BSX_Close: Weight=0.000<br>AEP_Close: Weight=0.764<br>MO_Close: Weight=0.000",
          "Return: 37.124%<br>Volatility: 0.133<br>Sharpe Ratio: 2.796<br>VZ_Close: Weight=0.184<br>NVDA_Close: Weight=0.157<br>NKE_Close: Weight=0.070<br>MSFT_Close: Weight=0.589",
          "Return: 46.445%<br>Volatility: 0.151<br>Sharpe Ratio: 3.084<br>RMD_Close: Weight=0.000<br>ETN_Close: Weight=0.189<br>ABBV_Close: Weight=0.811",
          "Return: 26.931%<br>Volatility: 0.109<br>Sharpe Ratio: 2.480<br>MMM_Close: Weight=0.632<br>DHR_Close: Weight=0.000<br>CRM_Close: Weight=0.368",
          "Return: 39.564%<br>Volatility: 0.120<br>Sharpe Ratio: 3.306<br>JPM_Close: Weight=0.238<br>SAP_Close: Weight=0.164<br>ABBV_Close: Weight=0.556<br>TSLA_Close: Weight=0.042",
          "Return: 9.869%<br>Volatility: 0.143<br>Sharpe Ratio: 0.690<br>PM_Close: Weight=0.000<br>VZ_Close: Weight=0.814<br>ZBH_Close: Weight=0.186",
          "Return: 30.248%<br>Volatility: 0.094<br>Sharpe Ratio: 3.223<br>INTC_Close: Weight=0.246<br>MCD_Close: Weight=0.540<br>PFE_Close: Weight=0.214",
          "Return: 31.874%<br>Volatility: 0.145<br>Sharpe Ratio: 2.194<br>SAP_Close: Weight=0.405<br>ADBE_Close: Weight=0.449<br>CSCO_Close: Weight=0.146",
          "Return: 18.778%<br>Volatility: 0.083<br>Sharpe Ratio: 2.271<br>AMGN_Close: Weight=0.000<br>CPB_Close: Weight=0.000<br>GOOG_Close: Weight=0.383<br>KO_Close: Weight=0.617",
          "Return: 20.669%<br>Volatility: 0.087<br>Sharpe Ratio: 2.386<br>KO_Close: Weight=0.518<br>ABT_Close: Weight=0.482<br>PG_Close: Weight=0.000<br>BIIB_Close: Weight=0.000",
          "Return: 12.713%<br>Volatility: 0.073<br>Sharpe Ratio: 1.738<br>VZ_Close: Weight=0.124<br>KO_Close: Weight=0.721<br>GIS_Close: Weight=0.000<br>BMY_Close: Weight=0.155",
          "Return: 19.301%<br>Volatility: 0.084<br>Sharpe Ratio: 2.295<br>JNJ_Close: Weight=0.345<br>TSLA_Close: Weight=0.019<br>PEP_Close: Weight=0.312<br>GOOG_Close: Weight=0.324",
          "Return: 16.932%<br>Volatility: 0.114<br>Sharpe Ratio: 1.485<br>DIS_Close: Weight=0.002<br>REGN_Close: Weight=0.000<br>JNJ_Close: Weight=0.998",
          "Return: 7.823%<br>Volatility: 0.176<br>Sharpe Ratio: 0.444<br>ZBH_Close: Weight=0.160<br>GS_Close: Weight=0.144<br>BIIB_Close: Weight=0.696<br>CPB_Close: Weight=0.000",
          "Return: 31.035%<br>Volatility: 0.170<br>Sharpe Ratio: 1.822<br>META_Close: Weight=0.808<br>NFLX_Close: Weight=0.165<br>SRE_Close: Weight=0.027<br>AMGN_Close: Weight=0.000",
          "Return: 21.553%<br>Volatility: 0.163<br>Sharpe Ratio: 1.323<br>MO_Close: Weight=0.000<br>AMD_Close: Weight=0.000<br>CPB_Close: Weight=0.000<br>TMO_Close: Weight=1.000",
          "Return: 23.025%<br>Volatility: 0.082<br>Sharpe Ratio: 2.796<br>CPB_Close: Weight=0.000<br>KO_Close: Weight=0.448<br>V_Close: Weight=0.552<br>RDY_Close: Weight=0.000",
          "Return: 23.185%<br>Volatility: 0.136<br>Sharpe Ratio: 1.709<br>NKE_Close: Weight=0.171<br>UA_Close: Weight=0.000<br>GOOGL_Close: Weight=0.829",
          "Return: 25.766%<br>Volatility: 0.157<br>Sharpe Ratio: 1.638<br>REGN_Close: Weight=0.000<br>RDY_Close: Weight=0.000<br>GOOGL_Close: Weight=1.000",
          "Return: 41.618%<br>Volatility: 0.164<br>Sharpe Ratio: 2.545<br>UA_Close: Weight=0.000<br>BTI_Close: Weight=0.103<br>DE_Close: Weight=0.897",
          "Return: 45.274%<br>Volatility: 0.147<br>Sharpe Ratio: 3.072<br>BTI_Close: Weight=0.000<br>CSCO_Close: Weight=0.000<br>DE_Close: Weight=0.630<br>ADBE_Close: Weight=0.370",
          "Return: 3.765%<br>Volatility: 0.099<br>Sharpe Ratio: 0.382<br>XOM_Close: Weight=0.870<br>F_Close: Weight=0.130<br>CPB_Close: Weight=0.000",
          "Return: 35.930%<br>Volatility: 0.137<br>Sharpe Ratio: 2.625<br>GILD_Close: Weight=0.000<br>MA_Close: Weight=0.866<br>GOOGL_Close: Weight=0.134",
          "Return: 17.739%<br>Volatility: 0.190<br>Sharpe Ratio: 0.931<br>MDT_Close: Weight=0.000<br>TSLA_Close: Weight=0.355<br>ORCL_Close: Weight=0.645",
          "Return: 33.707%<br>Volatility: 0.129<br>Sharpe Ratio: 2.622<br>SAP_Close: Weight=0.072<br>F_Close: Weight=0.078<br>MA_Close: Weight=0.850",
          "Return: 22.258%<br>Volatility: 0.089<br>Sharpe Ratio: 2.494<br>SRE_Close: Weight=0.000<br>PG_Close: Weight=0.134<br>HON_Close: Weight=0.866",
          "Return: 29.201%<br>Volatility: 0.096<br>Sharpe Ratio: 3.041<br>GILD_Close: Weight=0.000<br>HON_Close: Weight=0.580<br>SRE_Close: Weight=0.000<br>UNH_Close: Weight=0.420",
          "Return: 33.621%<br>Volatility: 0.112<br>Sharpe Ratio: 2.989<br>NVDA_Close: Weight=0.147<br>LMT_Close: Weight=0.529<br>ACN_Close: Weight=0.324<br>GIS_Close: Weight=0.000",
          "Return: 12.587%<br>Volatility: 0.092<br>Sharpe Ratio: 1.370<br>DUK_Close: Weight=0.407<br>SO_Close: Weight=0.000<br>RTX_Close: Weight=0.593",
          "Return: 48.153%<br>Volatility: 0.122<br>Sharpe Ratio: 3.937<br>GOOG_Close: Weight=0.183<br>SYY_Close: Weight=0.197<br>BABA_Close: Weight=0.178<br>CAT_Close: Weight=0.442",
          "Return: 41.032%<br>Volatility: 0.115<br>Sharpe Ratio: 3.563<br>CAT_Close: Weight=0.522<br>RMD_Close: Weight=0.064<br>AEP_Close: Weight=0.414",
          "Return: 33.220%<br>Volatility: 0.104<br>Sharpe Ratio: 3.187<br>PFE_Close: Weight=0.209<br>ADBE_Close: Weight=0.204<br>MCD_Close: Weight=0.586<br>GILD_Close: Weight=0.000",
          "Return: 43.065%<br>Volatility: 0.188<br>Sharpe Ratio: 2.293<br>SAP_Close: Weight=0.646<br>IBM_Close: Weight=0.000<br>NVDA_Close: Weight=0.354",
          "Return: 37.497%<br>Volatility: 0.136<br>Sharpe Ratio: 2.748<br>AMGN_Close: Weight=0.000<br>MCD_Close: Weight=1.000<br>AMD_Close: Weight=0.000",
          "Return: 45.562%<br>Volatility: 0.158<br>Sharpe Ratio: 2.876<br>VRTX_Close: Weight=0.198<br>DE_Close: Weight=0.720<br>AMGN_Close: Weight=0.000<br>VZ_Close: Weight=0.082",
          "Return: 14.143%<br>Volatility: 0.110<br>Sharpe Ratio: 1.283<br>CVX_Close: Weight=0.697<br>F_Close: Weight=0.000<br>BTI_Close: Weight=0.303",
          "Return: 32.097%<br>Volatility: 0.094<br>Sharpe Ratio: 3.432<br>TXN_Close: Weight=0.283<br>UNH_Close: Weight=0.391<br>LMT_Close: Weight=0.326",
          "Return: 8.054%<br>Volatility: 0.169<br>Sharpe Ratio: 0.476<br>GS_Close: Weight=0.009<br>F_Close: Weight=0.219<br>CMCSA_Close: Weight=0.772",
          "Return: 27.772%<br>Volatility: 0.131<br>Sharpe Ratio: 2.118<br>MMM_Close: Weight=1.000<br>T_Close: Weight=0.000<br>LLY_Close: Weight=0.000<br>MRK_Close: Weight=0.000",
          "Return: 32.252%<br>Volatility: 0.116<br>Sharpe Ratio: 2.784<br>PEP_Close: Weight=0.330<br>NFLX_Close: Weight=0.165<br>RDY_Close: Weight=0.000<br>WMT_Close: Weight=0.504",
          "Return: 20.797%<br>Volatility: 0.099<br>Sharpe Ratio: 2.104<br>META_Close: Weight=0.452<br>MO_Close: Weight=0.000<br>PEP_Close: Weight=0.548",
          "Return: 21.595%<br>Volatility: 0.090<br>Sharpe Ratio: 2.397<br>REGN_Close: Weight=0.000<br>LMT_Close: Weight=0.699<br>RMD_Close: Weight=0.100<br>EXC_Close: Weight=0.201",
          "Return: 25.766%<br>Volatility: 0.157<br>Sharpe Ratio: 1.638<br>GOOGL_Close: Weight=1.000<br>MDT_Close: Weight=0.000<br>MO_Close: Weight=0.000",
          "Return: 37.500%<br>Volatility: 0.144<br>Sharpe Ratio: 2.602<br>MA_Close: Weight=1.000<br>K_Close: Weight=0.000<br>CPB_Close: Weight=0.000",
          "Return: 33.121%<br>Volatility: 0.118<br>Sharpe Ratio: 2.807<br>ETN_Close: Weight=0.000<br>UA_Close: Weight=0.000<br>MSFT_Close: Weight=0.553<br>ABT_Close: Weight=0.447",
          "Return: 33.848%<br>Volatility: 0.120<br>Sharpe Ratio: 2.823<br>MMM_Close: Weight=0.535<br>AMZN_Close: Weight=0.212<br>ADBE_Close: Weight=0.218<br>TSLA_Close: Weight=0.034",
          "Return: 25.694%<br>Volatility: 0.119<br>Sharpe Ratio: 2.157<br>UA_Close: Weight=0.000<br>MMM_Close: Weight=0.852<br>ETN_Close: Weight=0.148",
          "Return: 35.678%<br>Volatility: 0.182<br>Sharpe Ratio: 1.965<br>GOOGL_Close: Weight=0.721<br>VRTX_Close: Weight=0.279<br>KR_Close: Weight=0.000",
          "Return: 24.043%<br>Volatility: 0.118<br>Sharpe Ratio: 2.032<br>AAPL_Close: Weight=0.244<br>CRM_Close: Weight=0.327<br>REGN_Close: Weight=0.000<br>SAP_Close: Weight=0.430",
          "Return: 33.475%<br>Volatility: 0.114<br>Sharpe Ratio: 2.926<br>COST_Close: Weight=0.033<br>HON_Close: Weight=0.808<br>NVDA_Close: Weight=0.159",
          "Return: 10.563%<br>Volatility: 0.120<br>Sharpe Ratio: 0.884<br>QCOM_Close: Weight=0.443<br>BSX_Close: Weight=0.000<br>PG_Close: Weight=0.557",
          "Return: 23.630%<br>Volatility: 0.115<br>Sharpe Ratio: 2.054<br>NFLX_Close: Weight=0.173<br>AAPL_Close: Weight=0.307<br>SYY_Close: Weight=0.378<br>GM_Close: Weight=0.142",
          "Return: 37.142%<br>Volatility: 0.161<br>Sharpe Ratio: 2.300<br>K_Close: Weight=0.000<br>TXN_Close: Weight=1.000<br>ZBH_Close: Weight=0.000",
          "Return: 33.752%<br>Volatility: 0.138<br>Sharpe Ratio: 2.447<br>MSFT_Close: Weight=0.855<br>MRK_Close: Weight=0.000<br>COST_Close: Weight=0.092<br>AAPL_Close: Weight=0.053",
          "Return: 22.588%<br>Volatility: 0.083<br>Sharpe Ratio: 2.711<br>SRE_Close: Weight=0.000<br>JNJ_Close: Weight=0.306<br>HON_Close: Weight=0.694",
          "Return: 55.300%<br>Volatility: 0.195<br>Sharpe Ratio: 2.843<br>F_Close: Weight=0.159<br>K_Close: Weight=0.000<br>PYPL_Close: Weight=0.841<br>KR_Close: Weight=0.000",
          "Return: 37.524%<br>Volatility: 0.139<br>Sharpe Ratio: 2.707<br>XOM_Close: Weight=0.000<br>SYK_Close: Weight=0.325<br>DE_Close: Weight=0.675",
          "Return: 16.127%<br>Volatility: 0.119<br>Sharpe Ratio: 1.356<br>CVX_Close: Weight=0.534<br>VZ_Close: Weight=0.178<br>BAC_Close: Weight=0.289",
          "Return: 23.943%<br>Volatility: 0.094<br>Sharpe Ratio: 2.541<br>HD_Close: Weight=0.676<br>DUK_Close: Weight=0.324<br>AMGN_Close: Weight=0.000",
          "Return: 44.203%<br>Volatility: 0.194<br>Sharpe Ratio: 2.280<br>NVDA_Close: Weight=0.345<br>GILD_Close: Weight=0.000<br>GOOG_Close: Weight=0.533<br>ORCL_Close: Weight=0.123",
          "Return: 26.686%<br>Volatility: 0.103<br>Sharpe Ratio: 2.588<br>MO_Close: Weight=0.000<br>PM_Close: Weight=0.000<br>EXC_Close: Weight=0.291<br>HD_Close: Weight=0.709",
          "Return: 20.218%<br>Volatility: 0.125<br>Sharpe Ratio: 1.616<br>AAPL_Close: Weight=0.649<br>VZ_Close: Weight=0.351<br>F_Close: Weight=0.000",
          "Return: 14.108%<br>Volatility: 0.085<br>Sharpe Ratio: 1.666<br>SYY_Close: Weight=0.346<br>CVX_Close: Weight=0.373<br>DUK_Close: Weight=0.282",
          "Return: 20.003%<br>Volatility: 0.131<br>Sharpe Ratio: 1.525<br>WFC_Close: Weight=0.122<br>AAPL_Close: Weight=0.645<br>ORCL_Close: Weight=0.233",
          "Return: 53.321%<br>Volatility: 0.130<br>Sharpe Ratio: 4.101<br>PYPL_Close: Weight=0.297<br>BA_Close: Weight=0.508<br>SYY_Close: Weight=0.195",
          "Return: 33.980%<br>Volatility: 0.137<br>Sharpe Ratio: 2.480<br>UNH_Close: Weight=0.962<br>NKE_Close: Weight=0.038<br>SO_Close: Weight=0.000",
          "Return: 14.491%<br>Volatility: 0.095<br>Sharpe Ratio: 1.523<br>MDT_Close: Weight=0.000<br>JNJ_Close: Weight=0.770<br>DUK_Close: Weight=0.230",
          "Return: 38.179%<br>Volatility: 0.124<br>Sharpe Ratio: 3.089<br>CSCO_Close: Weight=0.000<br>DE_Close: Weight=0.452<br>HD_Close: Weight=0.548",
          "Return: 37.142%<br>Volatility: 0.161<br>Sharpe Ratio: 2.300<br>DIS_Close: Weight=0.000<br>TXN_Close: Weight=1.000<br>BIIB_Close: Weight=0.000<br>WFC_Close: Weight=0.000",
          "Return: 51.155%<br>Volatility: 0.153<br>Sharpe Ratio: 3.354<br>CAT_Close: Weight=0.713<br>EW_Close: Weight=0.102<br>RTX_Close: Weight=0.185",
          "Return: 20.074%<br>Volatility: 0.131<br>Sharpe Ratio: 1.529<br>RMD_Close: Weight=0.364<br>JPM_Close: Weight=0.636<br>UA_Close: Weight=0.000<br>MDT_Close: Weight=0.000",
          "Return: 38.504%<br>Volatility: 0.168<br>Sharpe Ratio: 2.298<br>DIS_Close: Weight=0.063<br>NVDA_Close: Weight=0.346<br>EW_Close: Weight=0.116<br>RTX_Close: Weight=0.476",
          "Return: 29.205%<br>Volatility: 0.096<br>Sharpe Ratio: 3.041<br>HON_Close: Weight=0.579<br>UNH_Close: Weight=0.421<br>MDT_Close: Weight=0.000<br>CPB_Close: Weight=0.000",
          "Return: 16.828%<br>Volatility: 0.094<br>Sharpe Ratio: 1.781<br>JNJ_Close: Weight=0.549<br>XOM_Close: Weight=0.125<br>TMO_Close: Weight=0.326<br>GILD_Close: Weight=0.000",
          "Return: 26.408%<br>Volatility: 0.103<br>Sharpe Ratio: 2.564<br>HON_Close: Weight=0.899<br>LLY_Close: Weight=0.000<br>NFLX_Close: Weight=0.101<br>GIS_Close: Weight=0.000",
          "Return: 31.981%<br>Volatility: 0.109<br>Sharpe Ratio: 2.923<br>CSCO_Close: Weight=0.000<br>MSFT_Close: Weight=0.483<br>MMM_Close: Weight=0.477<br>AAPL_Close: Weight=0.040",
          "Return: 39.814%<br>Volatility: 0.156<br>Sharpe Ratio: 2.546<br>RTX_Close: Weight=0.488<br>BABA_Close: Weight=0.512<br>BIIB_Close: Weight=0.000<br>RDY_Close: Weight=0.000",
          "Return: 43.472%<br>Volatility: 0.177<br>Sharpe Ratio: 2.457<br>ISRG_Close: Weight=0.881<br>AMGN_Close: Weight=0.000<br>RMD_Close: Weight=0.119",
          "Return: 26.833%<br>Volatility: 0.108<br>Sharpe Ratio: 2.476<br>MRK_Close: Weight=0.000<br>PFE_Close: Weight=0.242<br>HD_Close: Weight=0.758",
          "Return: 38.281%<br>Volatility: 0.287<br>Sharpe Ratio: 1.334<br>REGN_Close: Weight=0.000<br>NFLX_Close: Weight=1.000<br>T_Close: Weight=0.000",
          "Return: 28.864%<br>Volatility: 0.155<br>Sharpe Ratio: 1.866<br>EW_Close: Weight=0.216<br>META_Close: Weight=0.784<br>UA_Close: Weight=0.000<br>BSX_Close: Weight=0.000",
          "Return: 19.742%<br>Volatility: 0.079<br>Sharpe Ratio: 2.503<br>LMT_Close: Weight=0.621<br>DUK_Close: Weight=0.114<br>CVX_Close: Weight=0.254<br>REGN_Close: Weight=0.011",
          "Return: 44.695%<br>Volatility: 0.155<br>Sharpe Ratio: 2.891<br>VRTX_Close: Weight=0.189<br>COST_Close: Weight=0.103<br>DE_Close: Weight=0.708<br>GS_Close: Weight=0.000",
          "Return: 57.666%<br>Volatility: 0.273<br>Sharpe Ratio: 2.113<br>MO_Close: Weight=0.000<br>COST_Close: Weight=0.332<br>NVDA_Close: Weight=0.668",
          "Return: 14.400%<br>Volatility: 0.126<br>Sharpe Ratio: 1.141<br>F_Close: Weight=0.000<br>CMCSA_Close: Weight=0.177<br>CVX_Close: Weight=0.823",
          "Return: 55.556%<br>Volatility: 0.348<br>Sharpe Ratio: 1.596<br>VRTX_Close: Weight=0.901<br>F_Close: Weight=0.099<br>MRK_Close: Weight=0.000",
          "Return: 34.174%<br>Volatility: 0.102<br>Sharpe Ratio: 3.345<br>HD_Close: Weight=0.522<br>GIS_Close: Weight=0.000<br>GOOGL_Close: Weight=0.029<br>MSFT_Close: Weight=0.449",
          "Return: 42.818%<br>Volatility: 0.174<br>Sharpe Ratio: 2.464<br>BABA_Close: Weight=0.518<br>CMCSA_Close: Weight=0.182<br>META_Close: Weight=0.300",
          "Return: 20.340%<br>Volatility: 0.129<br>Sharpe Ratio: 1.571<br>MDT_Close: Weight=0.000<br>TMO_Close: Weight=0.558<br>EW_Close: Weight=0.152<br>MS_Close: Weight=0.291",
          "Return: 12.347%<br>Volatility: 0.176<br>Sharpe Ratio: 0.703<br>GIS_Close: Weight=0.060<br>SNAP_Close: Weight=0.000<br>UA_Close: Weight=0.000<br>ORCL_Close: Weight=0.940",
          "Return: 29.739%<br>Volatility: 0.115<br>Sharpe Ratio: 2.584<br>VZ_Close: Weight=0.124<br>AMZN_Close: Weight=0.331<br>ABT_Close: Weight=0.545",
          "Return: 45.765%<br>Volatility: 0.127<br>Sharpe Ratio: 3.606<br>BABA_Close: Weight=0.248<br>VRTX_Close: Weight=0.096<br>MCD_Close: Weight=0.656",
          "Return: 20.382%<br>Volatility: 0.072<br>Sharpe Ratio: 2.825<br>KO_Close: Weight=0.363<br>TMO_Close: Weight=0.112<br>WFC_Close: Weight=0.000<br>HON_Close: Weight=0.525",
          "Return: 34.830%<br>Volatility: 0.117<br>Sharpe Ratio: 2.970<br>CPB_Close: Weight=0.000<br>JPM_Close: Weight=0.211<br>INTC_Close: Weight=0.322<br>WMT_Close: Weight=0.468",
          "Return: 14.697%<br>Volatility: 0.138<br>Sharpe Ratio: 1.062<br>CSCO_Close: Weight=0.699<br>BMY_Close: Weight=0.301<br>PM_Close: Weight=0.000<br>IBM_Close: Weight=0.000",
          "Return: 47.487%<br>Volatility: 0.154<br>Sharpe Ratio: 3.077<br>ABBV_Close: Weight=0.827<br>CSCO_Close: Weight=0.173<br>RMD_Close: Weight=0.000",
          "Return: 24.560%<br>Volatility: 0.099<br>Sharpe Ratio: 2.480<br>MMM_Close: Weight=0.566<br>EXC_Close: Weight=0.163<br>AAPL_Close: Weight=0.271",
          "Return: 35.685%<br>Volatility: 0.129<br>Sharpe Ratio: 2.764<br>MCD_Close: Weight=0.926<br>BSX_Close: Weight=0.000<br>ORCL_Close: Weight=0.074",
          "Return: 36.567%<br>Volatility: 0.134<br>Sharpe Ratio: 2.720<br>JPM_Close: Weight=0.257<br>TXN_Close: Weight=0.579<br>SO_Close: Weight=0.002<br>VRTX_Close: Weight=0.162",
          "Return: 17.564%<br>Volatility: 0.083<br>Sharpe Ratio: 2.114<br>JNJ_Close: Weight=0.467<br>AMD_Close: Weight=0.000<br>RTX_Close: Weight=0.258<br>SYY_Close: Weight=0.275",
          "Return: 56.603%<br>Volatility: 0.171<br>Sharpe Ratio: 3.311<br>RMD_Close: Weight=0.131<br>CAT_Close: Weight=0.822<br>TSLA_Close: Weight=0.047<br>BSX_Close: Weight=0.000",
          "Return: 3.330%<br>Volatility: 0.148<br>Sharpe Ratio: 0.225<br>GS_Close: Weight=0.427<br>MDT_Close: Weight=0.000<br>ZBH_Close: Weight=0.573",
          "Return: 46.551%<br>Volatility: 0.128<br>Sharpe Ratio: 3.643<br>RTX_Close: Weight=0.040<br>CRM_Close: Weight=0.256<br>BA_Close: Weight=0.651<br>BTI_Close: Weight=0.053",
          "Return: 32.454%<br>Volatility: 0.135<br>Sharpe Ratio: 2.404<br>HD_Close: Weight=1.000<br>MO_Close: Weight=0.000<br>AMD_Close: Weight=0.000",
          "Return: 47.433%<br>Volatility: 0.122<br>Sharpe Ratio: 3.896<br>CAT_Close: Weight=0.470<br>UNH_Close: Weight=0.464<br>RTX_Close: Weight=0.065<br>VZ_Close: Weight=0.001",
          "Return: 18.923%<br>Volatility: 0.179<br>Sharpe Ratio: 1.055<br>CPB_Close: Weight=0.000<br>NKE_Close: Weight=0.309<br>EW_Close: Weight=0.691",
          "Return: 47.350%<br>Volatility: 0.131<br>Sharpe Ratio: 3.628<br>DHR_Close: Weight=0.012<br>CAT_Close: Weight=0.550<br>ACN_Close: Weight=0.439",
          "Return: 30.802%<br>Volatility: 0.099<br>Sharpe Ratio: 3.113<br>HON_Close: Weight=0.481<br>INTC_Close: Weight=0.147<br>MA_Close: Weight=0.372",
          "Return: 28.116%<br>Volatility: 0.147<br>Sharpe Ratio: 1.917<br>INTC_Close: Weight=0.761<br>GE_Close: Weight=0.000<br>PM_Close: Weight=0.000<br>ETN_Close: Weight=0.239",
          "Return: 21.749%<br>Volatility: 0.138<br>Sharpe Ratio: 1.572<br>CSCO_Close: Weight=0.369<br>MO_Close: Weight=0.000<br>AAPL_Close: Weight=0.631",
          "Return: 54.051%<br>Volatility: 0.179<br>Sharpe Ratio: 3.026<br>XOM_Close: Weight=0.000<br>UA_Close: Weight=0.000<br>AMGN_Close: Weight=0.000<br>ABBV_Close: Weight=1.000",
          "Return: 34.904%<br>Volatility: 0.141<br>Sharpe Ratio: 2.475<br>BSX_Close: Weight=0.000<br>AMGN_Close: Weight=0.000<br>UNH_Close: Weight=1.000",
          "Return: 36.969%<br>Volatility: 0.165<br>Sharpe Ratio: 2.237<br>F_Close: Weight=0.000<br>NVDA_Close: Weight=0.388<br>PFE_Close: Weight=0.612",
          "Return: 37.150%<br>Volatility: 0.138<br>Sharpe Ratio: 2.699<br>ACN_Close: Weight=0.604<br>META_Close: Weight=0.226<br>NVDA_Close: Weight=0.170",
          "Return: 37.715%<br>Volatility: 0.133<br>Sharpe Ratio: 2.825<br>INTC_Close: Weight=0.331<br>SAP_Close: Weight=0.176<br>ISRG_Close: Weight=0.493",
          "Return: 20.979%<br>Volatility: 0.081<br>Sharpe Ratio: 2.578<br>EMR_Close: Weight=0.257<br>NEE_Close: Weight=0.636<br>BMY_Close: Weight=0.058<br>GS_Close: Weight=0.050",
          "Return: 24.055%<br>Volatility: 0.117<br>Sharpe Ratio: 2.060<br>SRE_Close: Weight=0.029<br>EMR_Close: Weight=0.386<br>GOOG_Close: Weight=0.586",
          "Return: 10.650%<br>Volatility: 0.153<br>Sharpe Ratio: 0.698<br>COST_Close: Weight=0.605<br>AMD_Close: Weight=0.000<br>BIIB_Close: Weight=0.395",
          "Return: 41.849%<br>Volatility: 0.131<br>Sharpe Ratio: 3.202<br>PYPL_Close: Weight=0.435<br>MMM_Close: Weight=0.474<br>XOM_Close: Weight=0.091",
          "Return: 47.234%<br>Volatility: 0.155<br>Sharpe Ratio: 3.048<br>AMD_Close: Weight=0.000<br>PYPL_Close: Weight=0.526<br>BIIB_Close: Weight=0.000<br>ACN_Close: Weight=0.474",
          "Return: 15.400%<br>Volatility: 0.075<br>Sharpe Ratio: 2.056<br>EMR_Close: Weight=0.308<br>KO_Close: Weight=0.692<br>GS_Close: Weight=0.000<br>T_Close: Weight=0.000",
          "Return: 41.840%<br>Volatility: 0.146<br>Sharpe Ratio: 2.870<br>AMZN_Close: Weight=0.332<br>DE_Close: Weight=0.642<br>SO_Close: Weight=0.000<br>PG_Close: Weight=0.026",
          "Return: 20.360%<br>Volatility: 0.209<br>Sharpe Ratio: 0.972<br>REGN_Close: Weight=0.000<br>AMGN_Close: Weight=0.000<br>MO_Close: Weight=0.000<br>BAC_Close: Weight=1.000",
          "Return: 4.023%<br>Volatility: 0.098<br>Sharpe Ratio: 0.410<br>PG_Close: Weight=1.000<br>T_Close: Weight=0.000<br>AMGN_Close: Weight=0.000",
          "Return: 6.682%<br>Volatility: 0.075<br>Sharpe Ratio: 0.892<br>DUK_Close: Weight=0.582<br>F_Close: Weight=0.086<br>BTI_Close: Weight=0.225<br>GS_Close: Weight=0.107",
          "Return: 4.023%<br>Volatility: 0.098<br>Sharpe Ratio: 0.410<br>CPB_Close: Weight=0.000<br>PG_Close: Weight=1.000<br>GIS_Close: Weight=0.000",
          "Return: 23.982%<br>Volatility: 0.109<br>Sharpe Ratio: 2.209<br>BIIB_Close: Weight=0.026<br>LMT_Close: Weight=0.974<br>UA_Close: Weight=0.000<br>IBM_Close: Weight=0.000",
          "Return: 25.129%<br>Volatility: 0.150<br>Sharpe Ratio: 1.673<br>TSLA_Close: Weight=0.091<br>ZBH_Close: Weight=0.000<br>DIS_Close: Weight=0.015<br>CRM_Close: Weight=0.894",
          "Return: 39.066%<br>Volatility: 0.136<br>Sharpe Ratio: 2.872<br>BABA_Close: Weight=0.299<br>TXN_Close: Weight=0.433<br>UA_Close: Weight=0.000<br>RTX_Close: Weight=0.268",
          "Return: 28.530%<br>Volatility: 0.115<br>Sharpe Ratio: 2.486<br>SRE_Close: Weight=0.000<br>VZ_Close: Weight=0.078<br>WMT_Close: Weight=0.595<br>DUK_Close: Weight=0.327",
          "Return: 18.426%<br>Volatility: 0.091<br>Sharpe Ratio: 2.026<br>NFLX_Close: Weight=0.207<br>MO_Close: Weight=0.000<br>PM_Close: Weight=0.000<br>KO_Close: Weight=0.793",
          "Return: 30.957%<br>Volatility: 0.124<br>Sharpe Ratio: 2.500<br>SO_Close: Weight=0.000<br>EXC_Close: Weight=0.239<br>KR_Close: Weight=0.000<br>MSFT_Close: Weight=0.761",
          "Return: 42.862%<br>Volatility: 0.117<br>Sharpe Ratio: 3.649<br>PFE_Close: Weight=0.165<br>ORCL_Close: Weight=0.059<br>BA_Close: Weight=0.581<br>META_Close: Weight=0.195",
          "Return: 39.036%<br>Volatility: 0.117<br>Sharpe Ratio: 3.346<br>ADBE_Close: Weight=0.150<br>DE_Close: Weight=0.415<br>V_Close: Weight=0.435",
          "Return: 39.612%<br>Volatility: 0.129<br>Sharpe Ratio: 3.065<br>BABA_Close: Weight=0.350<br>MMM_Close: Weight=0.650<br>RDY_Close: Weight=0.000<br>BIIB_Close: Weight=0.000",
          "Return: 50.351%<br>Volatility: 0.211<br>Sharpe Ratio: 2.384<br>RMD_Close: Weight=0.273<br>IBM_Close: Weight=0.000<br>BABA_Close: Weight=0.727",
          "Return: 31.298%<br>Volatility: 0.124<br>Sharpe Ratio: 2.533<br>UNH_Close: Weight=0.829<br>F_Close: Weight=0.000<br>ETN_Close: Weight=0.171",
          "Return: 28.174%<br>Volatility: 0.096<br>Sharpe Ratio: 2.925<br>KO_Close: Weight=0.691<br>BABA_Close: Weight=0.309<br>GE_Close: Weight=0.000",
          "Return: 32.657%<br>Volatility: 0.131<br>Sharpe Ratio: 2.498<br>MSFT_Close: Weight=0.728<br>WFC_Close: Weight=0.010<br>SAP_Close: Weight=0.263",
          "Return: 50.228%<br>Volatility: 0.164<br>Sharpe Ratio: 3.069<br>PYPL_Close: Weight=0.497<br>T_Close: Weight=0.016<br>MSFT_Close: Weight=0.488",
          "Return: 18.133%<br>Volatility: 0.092<br>Sharpe Ratio: 1.981<br>PEP_Close: Weight=0.506<br>GOOGL_Close: Weight=0.430<br>CMCSA_Close: Weight=0.064",
          "Return: 56.446%<br>Volatility: 0.160<br>Sharpe Ratio: 3.535<br>AMZN_Close: Weight=0.298<br>F_Close: Weight=0.000<br>CAT_Close: Weight=0.702",
          "Return: 24.299%<br>Volatility: 0.103<br>Sharpe Ratio: 2.352<br>MO_Close: Weight=0.000<br>ACN_Close: Weight=0.552<br>GM_Close: Weight=0.107<br>SAP_Close: Weight=0.340",
          "Return: 29.632%<br>Volatility: 0.103<br>Sharpe Ratio: 2.883<br>GS_Close: Weight=0.000<br>V_Close: Weight=0.579<br>MMM_Close: Weight=0.421",
          "Return: 30.944%<br>Volatility: 0.166<br>Sharpe Ratio: 1.869<br>VRTX_Close: Weight=0.351<br>CSCO_Close: Weight=0.435<br>COST_Close: Weight=0.214",
          "Return: 20.137%<br>Volatility: 0.071<br>Sharpe Ratio: 2.823<br>KO_Close: Weight=0.395<br>LMT_Close: Weight=0.397<br>EW_Close: Weight=0.037<br>GOOGL_Close: Weight=0.171",
          "Return: 24.911%<br>Volatility: 0.092<br>Sharpe Ratio: 2.711<br>JPM_Close: Weight=0.140<br>HON_Close: Weight=0.646<br>GOOG_Close: Weight=0.214",
          "Return: 10.695%<br>Volatility: 0.226<br>Sharpe Ratio: 0.474<br>NKE_Close: Weight=1.000<br>BSX_Close: Weight=0.000<br>SNAP_Close: Weight=0.000<br>GIS_Close: Weight=0.000",
          "Return: 12.316%<br>Volatility: 0.104<br>Sharpe Ratio: 1.185<br>AMGN_Close: Weight=0.000<br>CSCO_Close: Weight=0.449<br>GIS_Close: Weight=0.000<br>PFE_Close: Weight=0.551",
          "Return: 44.633%<br>Volatility: 0.133<br>Sharpe Ratio: 3.355<br>CAT_Close: Weight=0.650<br>DUK_Close: Weight=0.310<br>TSLA_Close: Weight=0.041<br>WFC_Close: Weight=0.000",
          "Return: 17.648%<br>Volatility: 0.080<br>Sharpe Ratio: 2.199<br>DHR_Close: Weight=0.025<br>MDT_Close: Weight=0.000<br>KO_Close: Weight=0.615<br>GOOGL_Close: Weight=0.360",
          "Return: 23.656%<br>Volatility: 0.102<br>Sharpe Ratio: 2.325<br>UA_Close: Weight=0.000<br>JNJ_Close: Weight=0.381<br>MRK_Close: Weight=0.000<br>MMM_Close: Weight=0.619",
          "Return: 27.345%<br>Volatility: 0.116<br>Sharpe Ratio: 2.361<br>INTC_Close: Weight=0.352<br>EMR_Close: Weight=0.281<br>GOOG_Close: Weight=0.367",
          "Return: 33.865%<br>Volatility: 0.136<br>Sharpe Ratio: 2.497<br>DUK_Close: Weight=0.315<br>AMGN_Close: Weight=0.000<br>ISRG_Close: Weight=0.685",
          "Return: 15.051%<br>Volatility: 0.096<br>Sharpe Ratio: 1.561<br>PM_Close: Weight=0.000<br>EXC_Close: Weight=0.443<br>RTX_Close: Weight=0.557",
          "Return: 26.766%<br>Volatility: 0.086<br>Sharpe Ratio: 3.105<br>CMCSA_Close: Weight=0.004<br>INTC_Close: Weight=0.238<br>NEE_Close: Weight=0.462<br>ACN_Close: Weight=0.296",
          "Return: 30.170%<br>Volatility: 0.103<br>Sharpe Ratio: 2.940<br>GE_Close: Weight=0.000<br>PEP_Close: Weight=0.292<br>TXN_Close: Weight=0.273<br>MA_Close: Weight=0.435",
          "Return: 51.148%<br>Volatility: 0.246<br>Sharpe Ratio: 2.078<br>NVDA_Close: Weight=0.615<br>XOM_Close: Weight=0.385<br>MRK_Close: Weight=0.000",
          "Return: 26.916%<br>Volatility: 0.136<br>Sharpe Ratio: 1.979<br>GS_Close: Weight=0.020<br>EXC_Close: Weight=0.418<br>AMZN_Close: Weight=0.561",
          "Return: 25.055%<br>Volatility: 0.094<br>Sharpe Ratio: 2.675<br>CRM_Close: Weight=0.240<br>MS_Close: Weight=0.014<br>HON_Close: Weight=0.747<br>UA_Close: Weight=0.000",
          "Return: 50.212%<br>Volatility: 0.122<br>Sharpe Ratio: 4.107<br>PYPL_Close: Weight=0.231<br>MCD_Close: Weight=0.387<br>ABBV_Close: Weight=0.382",
          "Return: 59.541%<br>Volatility: 0.174<br>Sharpe Ratio: 3.416<br>ZBH_Close: Weight=0.000<br>T_Close: Weight=0.000<br>MRK_Close: Weight=0.000<br>BA_Close: Weight=1.000",
          "Return: 21.471%<br>Volatility: 0.090<br>Sharpe Ratio: 2.392<br>GM_Close: Weight=0.200<br>QCOM_Close: Weight=0.064<br>NEE_Close: Weight=0.736",
          "Return: 28.117%<br>Volatility: 0.151<br>Sharpe Ratio: 1.859<br>EXC_Close: Weight=0.478<br>VRTX_Close: Weight=0.316<br>ORCL_Close: Weight=0.207<br>K_Close: Weight=0.000",
          "Return: 27.975%<br>Volatility: 0.126<br>Sharpe Ratio: 2.226<br>AMZN_Close: Weight=0.461<br>JPM_Close: Weight=0.410<br>CMCSA_Close: Weight=0.000<br>CSCO_Close: Weight=0.129",
          "Return: 29.352%<br>Volatility: 0.100<br>Sharpe Ratio: 2.942<br>BAC_Close: Weight=0.000<br>HON_Close: Weight=0.645<br>TXN_Close: Weight=0.355",
          "Return: 36.206%<br>Volatility: 0.150<br>Sharpe Ratio: 2.419<br>NVDA_Close: Weight=0.302<br>CPB_Close: Weight=0.000<br>MO_Close: Weight=0.000<br>JNJ_Close: Weight=0.698",
          "Return: 6.184%<br>Volatility: 0.094<br>Sharpe Ratio: 0.655<br>DUK_Close: Weight=1.000<br>GE_Close: Weight=0.000<br>SNAP_Close: Weight=0.000",
          "Return: 39.655%<br>Volatility: 0.112<br>Sharpe Ratio: 3.548<br>MS_Close: Weight=0.000<br>SAP_Close: Weight=0.198<br>CAT_Close: Weight=0.487<br>PEP_Close: Weight=0.315",
          "Return: 38.679%<br>Volatility: 0.132<br>Sharpe Ratio: 2.931<br>MSFT_Close: Weight=0.380<br>V_Close: Weight=0.509<br>NVDA_Close: Weight=0.111",
          "Return: 12.066%<br>Volatility: 0.085<br>Sharpe Ratio: 1.418<br>GILD_Close: Weight=0.055<br>VZ_Close: Weight=0.181<br>PEP_Close: Weight=0.764",
          "Return: 45.162%<br>Volatility: 0.157<br>Sharpe Ratio: 2.879<br>BIIB_Close: Weight=0.000<br>MSFT_Close: Weight=0.661<br>T_Close: Weight=0.000<br>BABA_Close: Weight=0.339",
          "Return: 36.744%<br>Volatility: 0.107<br>Sharpe Ratio: 3.425<br>PYPL_Close: Weight=0.320<br>JNJ_Close: Weight=0.178<br>NEE_Close: Weight=0.455<br>ADBE_Close: Weight=0.048",
          "Return: 20.699%<br>Volatility: 0.095<br>Sharpe Ratio: 2.181<br>CMCSA_Close: Weight=0.031<br>CVX_Close: Weight=0.443<br>GOOGL_Close: Weight=0.527<br>T_Close: Weight=0.000",
          "Return: 27.110%<br>Volatility: 0.109<br>Sharpe Ratio: 2.494<br>XOM_Close: Weight=0.143<br>GE_Close: Weight=0.000<br>V_Close: Weight=0.857",
          "Return: 22.935%<br>Volatility: 0.110<br>Sharpe Ratio: 2.079<br>TSLA_Close: Weight=0.059<br>PM_Close: Weight=0.000<br>CRM_Close: Weight=0.534<br>SYY_Close: Weight=0.407",
          "Return: 29.793%<br>Volatility: 0.159<br>Sharpe Ratio: 1.873<br>GILD_Close: Weight=0.104<br>T_Close: Weight=0.000<br>SRE_Close: Weight=0.000<br>INTC_Close: Weight=0.896",
          "Return: 20.269%<br>Volatility: 0.082<br>Sharpe Ratio: 2.475<br>AEP_Close: Weight=0.339<br>LMT_Close: Weight=0.570<br>DHR_Close: Weight=0.000<br>ETN_Close: Weight=0.091",
          "Return: 30.745%<br>Volatility: 0.120<br>Sharpe Ratio: 2.558<br>UNH_Close: Weight=0.776<br>ETN_Close: Weight=0.136<br>RMD_Close: Weight=0.089",
          "Return: 24.577%<br>Volatility: 0.175<br>Sharpe Ratio: 1.401<br>NFLX_Close: Weight=0.558<br>LLY_Close: Weight=0.204<br>CMCSA_Close: Weight=0.204<br>BIIB_Close: Weight=0.034",
          "Return: 46.587%<br>Volatility: 0.191<br>Sharpe Ratio: 2.436<br>ISRG_Close: Weight=1.000<br>BSX_Close: Weight=0.000<br>IBM_Close: Weight=0.000",
          "Return: 9.869%<br>Volatility: 0.098<br>Sharpe Ratio: 1.004<br>ETN_Close: Weight=0.516<br>CMCSA_Close: Weight=0.148<br>PG_Close: Weight=0.336",
          "Return: 18.448%<br>Volatility: 0.093<br>Sharpe Ratio: 1.980<br>GOOGL_Close: Weight=0.421<br>DIS_Close: Weight=0.029<br>TMO_Close: Weight=0.310<br>PG_Close: Weight=0.240",
          "Return: 64.107%<br>Volatility: 0.197<br>Sharpe Ratio: 3.250<br>CAT_Close: Weight=1.000<br>PG_Close: Weight=0.000<br>DIS_Close: Weight=0.000",
          "Return: 47.751%<br>Volatility: 0.153<br>Sharpe Ratio: 3.130<br>ABBV_Close: Weight=0.813<br>BAC_Close: Weight=0.187<br>T_Close: Weight=0.000",
          "Return: 47.875%<br>Volatility: 0.205<br>Sharpe Ratio: 2.336<br>LLY_Close: Weight=0.227<br>MO_Close: Weight=0.012<br>BABA_Close: Weight=0.761",
          "Return: 24.842%<br>Volatility: 0.142<br>Sharpe Ratio: 1.748<br>CRM_Close: Weight=0.777<br>AMGN_Close: Weight=0.000<br>EW_Close: Weight=0.223",
          "Return: 20.874%<br>Volatility: 0.113<br>Sharpe Ratio: 1.846<br>SYK_Close: Weight=0.527<br>JPM_Close: Weight=0.473<br>REGN_Close: Weight=0.000",
          "Return: 25.766%<br>Volatility: 0.157<br>Sharpe Ratio: 1.638<br>ZBH_Close: Weight=0.000<br>GOOGL_Close: Weight=1.000<br>RDY_Close: Weight=0.000",
          "Return: 20.268%<br>Volatility: 0.163<br>Sharpe Ratio: 1.246<br>MRK_Close: Weight=0.000<br>EMR_Close: Weight=1.000<br>GE_Close: Weight=0.000<br>BSX_Close: Weight=0.000",
          "Return: 37.628%<br>Volatility: 0.129<br>Sharpe Ratio: 2.919<br>WMT_Close: Weight=0.565<br>META_Close: Weight=0.435<br>MO_Close: Weight=0.000",
          "Return: 38.182%<br>Volatility: 0.124<br>Sharpe Ratio: 3.089<br>HD_Close: Weight=0.548<br>GE_Close: Weight=0.000<br>DE_Close: Weight=0.452",
          "Return: 34.131%<br>Volatility: 0.144<br>Sharpe Ratio: 2.378<br>GOOGL_Close: Weight=0.265<br>MRK_Close: Weight=0.000<br>ZBH_Close: Weight=0.000<br>TXN_Close: Weight=0.735",
          "Return: 20.502%<br>Volatility: 0.121<br>Sharpe Ratio: 1.690<br>REGN_Close: Weight=0.000<br>SAP_Close: Weight=0.782<br>T_Close: Weight=0.000<br>ETN_Close: Weight=0.218",
          "Return: 36.928%<br>Volatility: 0.114<br>Sharpe Ratio: 3.238<br>T_Close: Weight=0.000<br>V_Close: Weight=0.579<br>DE_Close: Weight=0.421<br>LLY_Close: Weight=0.000",
          "Return: 17.693%<br>Volatility: 0.087<br>Sharpe Ratio: 2.034<br>CVX_Close: Weight=0.307<br>TMO_Close: Weight=0.260<br>JNJ_Close: Weight=0.433",
          "Return: 16.216%<br>Volatility: 0.080<br>Sharpe Ratio: 2.023<br>CPB_Close: Weight=0.000<br>TMO_Close: Weight=0.294<br>AEP_Close: Weight=0.367<br>PEP_Close: Weight=0.338",
          "Return: 17.753%<br>Volatility: 0.109<br>Sharpe Ratio: 1.634<br>T_Close: Weight=0.000<br>RMD_Close: Weight=0.232<br>JNJ_Close: Weight=0.768",
          "Return: 14.469%<br>Volatility: 0.088<br>Sharpe Ratio: 1.635<br>RTX_Close: Weight=0.471<br>KR_Close: Weight=0.000<br>VZ_Close: Weight=0.156<br>EXC_Close: Weight=0.373",
          "Return: 21.383%<br>Volatility: 0.100<br>Sharpe Ratio: 2.149<br>EXC_Close: Weight=0.334<br>META_Close: Weight=0.368<br>COST_Close: Weight=0.121<br>GOOGL_Close: Weight=0.177",
          "Return: 31.228%<br>Volatility: 0.122<br>Sharpe Ratio: 2.550<br>GS_Close: Weight=0.000<br>SYY_Close: Weight=0.328<br>TXN_Close: Weight=0.672",
          "Return: 30.835%<br>Volatility: 0.101<br>Sharpe Ratio: 3.053<br>BAC_Close: Weight=0.056<br>ACN_Close: Weight=0.431<br>UNH_Close: Weight=0.513",
          "Return: 37.713%<br>Volatility: 0.101<br>Sharpe Ratio: 3.748<br>ETN_Close: Weight=0.000<br>CAT_Close: Weight=0.396<br>ACN_Close: Weight=0.306<br>KO_Close: Weight=0.298",
          "Return: 21.093%<br>Volatility: 0.072<br>Sharpe Ratio: 2.912<br>CRM_Close: Weight=0.161<br>KO_Close: Weight=0.336<br>HON_Close: Weight=0.498<br>BMY_Close: Weight=0.005",
          "Return: 43.072%<br>Volatility: 0.129<br>Sharpe Ratio: 3.348<br>TMO_Close: Weight=0.155<br>ABBV_Close: Weight=0.568<br>INTC_Close: Weight=0.277",
          "Return: 47.851%<br>Volatility: 0.211<br>Sharpe Ratio: 2.265<br>MO_Close: Weight=0.000<br>NVDA_Close: Weight=0.380<br>GOOG_Close: Weight=0.620",
          "Return: 58.004%<br>Volatility: 0.169<br>Sharpe Ratio: 3.432<br>BA_Close: Weight=0.954<br>TSLA_Close: Weight=0.046<br>SO_Close: Weight=0.000",
          "Return: 3.880%<br>Volatility: 0.104<br>Sharpe Ratio: 0.374<br>SO_Close: Weight=0.000<br>XOM_Close: Weight=1.000<br>MRK_Close: Weight=0.000",
          "Return: 5.372%<br>Volatility: 0.076<br>Sharpe Ratio: 0.706<br>PG_Close: Weight=0.281<br>REGN_Close: Weight=0.033<br>DUK_Close: Weight=0.686",
          "Return: 14.434%<br>Volatility: 0.121<br>Sharpe Ratio: 1.190<br>NKE_Close: Weight=0.213<br>CVX_Close: Weight=0.787<br>AMGN_Close: Weight=0.000",
          "Return: 49.787%<br>Volatility: 0.148<br>Sharpe Ratio: 3.355<br>CPB_Close: Weight=0.000<br>LLY_Close: Weight=0.164<br>EW_Close: Weight=0.109<br>CAT_Close: Weight=0.727",
          "Return: 58.105%<br>Volatility: 0.177<br>Sharpe Ratio: 3.276<br>ORCL_Close: Weight=0.118<br>CAT_Close: Weight=0.882<br>AMGN_Close: Weight=0.000",
          "Return: 23.309%<br>Volatility: 0.129<br>Sharpe Ratio: 1.800<br>AAPL_Close: Weight=0.476<br>AMGN_Close: Weight=0.000<br>SYK_Close: Weight=0.524",
          "Return: 26.346%<br>Volatility: 0.087<br>Sharpe Ratio: 3.029<br>EXC_Close: Weight=0.211<br>HD_Close: Weight=0.501<br>GOOGL_Close: Weight=0.287",
          "Return: 29.357%<br>Volatility: 0.139<br>Sharpe Ratio: 2.107<br>PFE_Close: Weight=0.395<br>DIS_Close: Weight=0.039<br>ADBE_Close: Weight=0.566",
          "Return: 45.360%<br>Volatility: 0.136<br>Sharpe Ratio: 3.335<br>MO_Close: Weight=0.000<br>DUK_Close: Weight=0.324<br>CAT_Close: Weight=0.676",
          "Return: 33.388%<br>Volatility: 0.118<br>Sharpe Ratio: 2.839<br>GM_Close: Weight=0.104<br>GS_Close: Weight=0.000<br>LMT_Close: Weight=0.718<br>NVDA_Close: Weight=0.178",
          "Return: 19.526%<br>Volatility: 0.139<br>Sharpe Ratio: 1.403<br>BAC_Close: Weight=0.362<br>SYY_Close: Weight=0.635<br>ZBH_Close: Weight=0.003",
          "Return: 26.975%<br>Volatility: 0.100<br>Sharpe Ratio: 2.708<br>SYK_Close: Weight=0.101<br>MMM_Close: Weight=0.464<br>ACN_Close: Weight=0.434",
          "Return: 26.235%<br>Volatility: 0.076<br>Sharpe Ratio: 3.470<br>HD_Close: Weight=0.388<br>NEE_Close: Weight=0.499<br>MS_Close: Weight=0.114",
          "Return: 24.363%<br>Volatility: 0.087<br>Sharpe Ratio: 2.786<br>CRM_Close: Weight=0.064<br>DUK_Close: Weight=0.006<br>KO_Close: Weight=0.488<br>MSFT_Close: Weight=0.442",
          "Return: 21.402%<br>Volatility: 0.124<br>Sharpe Ratio: 1.729<br>BMY_Close: Weight=0.115<br>ETN_Close: Weight=0.210<br>CRM_Close: Weight=0.675",
          "Return: 30.570%<br>Volatility: 0.099<br>Sharpe Ratio: 3.097<br>XOM_Close: Weight=0.000<br>HON_Close: Weight=0.533<br>DE_Close: Weight=0.318<br>SYY_Close: Weight=0.149",
          "Return: 46.247%<br>Volatility: 0.124<br>Sharpe Ratio: 3.740<br>BAC_Close: Weight=0.026<br>MMM_Close: Weight=0.386<br>BA_Close: Weight=0.588<br>PM_Close: Weight=0.000",
          "Return: 42.213%<br>Volatility: 0.140<br>Sharpe Ratio: 3.024<br>PYPL_Close: Weight=0.513<br>MRK_Close: Weight=0.000<br>JNJ_Close: Weight=0.377<br>SYK_Close: Weight=0.110",
          "Return: 13.763%<br>Volatility: 0.155<br>Sharpe Ratio: 0.886<br>UA_Close: Weight=0.000<br>PM_Close: Weight=0.000<br>ETN_Close: Weight=1.000",
          "Return: 25.118%<br>Volatility: 0.100<br>Sharpe Ratio: 2.504<br>HON_Close: Weight=0.951<br>AMD_Close: Weight=0.000<br>TSLA_Close: Weight=0.049",
          "Return: 35.810%<br>Volatility: 0.128<br>Sharpe Ratio: 2.800<br>ISRG_Close: Weight=0.596<br>SO_Close: Weight=0.000<br>JPM_Close: Weight=0.404",
          "Return: 14.449%<br>Volatility: 0.095<br>Sharpe Ratio: 1.523<br>BMY_Close: Weight=0.187<br>AEP_Close: Weight=0.813<br>GIS_Close: Weight=0.000",
          "Return: 30.778%<br>Volatility: 0.102<br>Sharpe Ratio: 3.004<br>AMD_Close: Weight=0.000<br>ABT_Close: Weight=0.443<br>AMGN_Close: Weight=0.000<br>HD_Close: Weight=0.557",
          "Return: 23.277%<br>Volatility: 0.095<br>Sharpe Ratio: 2.461<br>VRTX_Close: Weight=0.144<br>AEP_Close: Weight=0.570<br>EMR_Close: Weight=0.285",
          "Return: 21.063%<br>Volatility: 0.092<br>Sharpe Ratio: 2.300<br>AMZN_Close: Weight=0.320<br>KO_Close: Weight=0.640<br>BIIB_Close: Weight=0.011<br>DUK_Close: Weight=0.029",
          "Return: 12.680%<br>Volatility: 0.108<br>Sharpe Ratio: 1.175<br>BTI_Close: Weight=0.211<br>PG_Close: Weight=0.404<br>EW_Close: Weight=0.385<br>MDT_Close: Weight=0.000",
          "Return: 32.719%<br>Volatility: 0.116<br>Sharpe Ratio: 2.817<br>MSFT_Close: Weight=0.536<br>EW_Close: Weight=0.043<br>ABT_Close: Weight=0.421",
          "Return: 29.286%<br>Volatility: 0.096<br>Sharpe Ratio: 3.039<br>GOOGL_Close: Weight=0.241<br>EXC_Close: Weight=0.210<br>SYY_Close: Weight=0.168<br>DE_Close: Weight=0.382",
          "Return: 15.430%<br>Volatility: 0.143<br>Sharpe Ratio: 1.079<br>XOM_Close: Weight=0.100<br>BAC_Close: Weight=0.538<br>VZ_Close: Weight=0.362",
          "Return: 40.708%<br>Volatility: 0.126<br>Sharpe Ratio: 3.234<br>MDT_Close: Weight=0.000<br>DE_Close: Weight=0.475<br>MSFT_Close: Weight=0.525<br>GOOGL_Close: Weight=0.000",
          "Return: 35.107%<br>Volatility: 0.133<br>Sharpe Ratio: 2.645<br>MDT_Close: Weight=0.000<br>V_Close: Weight=0.367<br>MA_Close: Weight=0.633",
          "Return: 34.197%<br>Volatility: 0.128<br>Sharpe Ratio: 2.670<br>RTX_Close: Weight=0.221<br>ORCL_Close: Weight=0.147<br>DE_Close: Weight=0.632",
          "Return: 11.813%<br>Volatility: 0.089<br>Sharpe Ratio: 1.322<br>F_Close: Weight=0.094<br>SO_Close: Weight=0.000<br>GIS_Close: Weight=0.000<br>PEP_Close: Weight=0.906",
          "Return: 29.531%<br>Volatility: 0.114<br>Sharpe Ratio: 2.592<br>BABA_Close: Weight=0.408<br>DUK_Close: Weight=0.446<br>COST_Close: Weight=0.146",
          "Return: 26.322%<br>Volatility: 0.101<br>Sharpe Ratio: 2.594<br>MRK_Close: Weight=0.000<br>LMT_Close: Weight=0.685<br>META_Close: Weight=0.315",
          "Return: 21.041%<br>Volatility: 0.118<br>Sharpe Ratio: 1.787<br>GOOG_Close: Weight=0.718<br>RDY_Close: Weight=0.000<br>PG_Close: Weight=0.282",
          "Return: 24.815%<br>Volatility: 0.138<br>Sharpe Ratio: 1.795<br>MRK_Close: Weight=0.000<br>COST_Close: Weight=0.176<br>CPB_Close: Weight=0.000<br>GOOG_Close: Weight=0.824",
          "Return: 7.605%<br>Volatility: 0.097<br>Sharpe Ratio: 0.784<br>BMY_Close: Weight=0.379<br>SRE_Close: Weight=0.000<br>XOM_Close: Weight=0.474<br>BIIB_Close: Weight=0.147",
          "Return: 26.282%<br>Volatility: 0.089<br>Sharpe Ratio: 2.965<br>META_Close: Weight=0.204<br>ACN_Close: Weight=0.342<br>NEE_Close: Weight=0.454",
          "Return: 43.078%<br>Volatility: 0.114<br>Sharpe Ratio: 3.794<br>XOM_Close: Weight=0.000<br>LLY_Close: Weight=0.101<br>V_Close: Weight=0.453<br>CAT_Close: Weight=0.446",
          "Return: 16.980%<br>Volatility: 0.136<br>Sharpe Ratio: 1.244<br>DIS_Close: Weight=0.000<br>RTX_Close: Weight=1.000<br>MDT_Close: Weight=0.000",
          "Return: 37.177%<br>Volatility: 0.129<br>Sharpe Ratio: 2.875<br>MA_Close: Weight=0.703<br>VRTX_Close: Weight=0.130<br>GE_Close: Weight=0.000<br>RTX_Close: Weight=0.167",
          "Return: 31.907%<br>Volatility: 0.104<br>Sharpe Ratio: 3.062<br>V_Close: Weight=0.393<br>ABT_Close: Weight=0.318<br>MSFT_Close: Weight=0.289",
          "Return: 44.424%<br>Volatility: 0.130<br>Sharpe Ratio: 3.409<br>ABBV_Close: Weight=0.585<br>TSLA_Close: Weight=0.046<br>VRTX_Close: Weight=0.103<br>JPM_Close: Weight=0.267",
          "Return: 27.346%<br>Volatility: 0.133<br>Sharpe Ratio: 2.059<br>GE_Close: Weight=0.000<br>MRK_Close: Weight=0.000<br>BSX_Close: Weight=0.000<br>ACN_Close: Weight=1.000",
          "Return: 43.462%<br>Volatility: 0.126<br>Sharpe Ratio: 3.457<br>BSX_Close: Weight=0.000<br>ABBV_Close: Weight=0.488<br>DUK_Close: Weight=0.067<br>MA_Close: Weight=0.445",
          "Return: 34.554%<br>Volatility: 0.142<br>Sharpe Ratio: 2.430<br>GS_Close: Weight=0.000<br>CMCSA_Close: Weight=0.061<br>MSFT_Close: Weight=0.925<br>GIS_Close: Weight=0.014",
          "Return: 44.178%<br>Volatility: 0.149<br>Sharpe Ratio: 2.963<br>PYPL_Close: Weight=0.547<br>MS_Close: Weight=0.089<br>VZ_Close: Weight=0.187<br>GOOG_Close: Weight=0.178",
          "Return: 32.737%<br>Volatility: 0.129<br>Sharpe Ratio: 2.542<br>SYK_Close: Weight=0.122<br>TSLA_Close: Weight=0.064<br>F_Close: Weight=0.000<br>UNH_Close: Weight=0.814",
          "Return: 11.272%<br>Volatility: 0.178<br>Sharpe Ratio: 0.633<br>PM_Close: Weight=0.012<br>BMY_Close: Weight=0.988<br>AMD_Close: Weight=0.000",
          "Return: 22.265%<br>Volatility: 0.089<br>Sharpe Ratio: 2.494<br>AMD_Close: Weight=0.000<br>T_Close: Weight=0.000<br>HON_Close: Weight=0.867<br>PG_Close: Weight=0.133",
          "Return: 23.350%<br>Volatility: 0.094<br>Sharpe Ratio: 2.497<br>HON_Close: Weight=0.871<br>PFE_Close: Weight=0.069<br>ZBH_Close: Weight=0.000<br>GM_Close: Weight=0.060",
          "Return: 19.923%<br>Volatility: 0.082<br>Sharpe Ratio: 2.434<br>ABT_Close: Weight=0.425<br>GM_Close: Weight=0.086<br>KO_Close: Weight=0.489<br>DHR_Close: Weight=0.000",
          "Return: 32.447%<br>Volatility: 0.116<br>Sharpe Ratio: 2.785<br>UNH_Close: Weight=0.658<br>GOOG_Close: Weight=0.342<br>DIS_Close: Weight=0.000",
          "Return: 29.880%<br>Volatility: 0.100<br>Sharpe Ratio: 2.980<br>SYY_Close: Weight=0.247<br>MA_Close: Weight=0.635<br>VZ_Close: Weight=0.117<br>GIS_Close: Weight=0.000",
          "Return: 64.543%<br>Volatility: 0.162<br>Sharpe Ratio: 3.978<br>GIS_Close: Weight=0.000<br>META_Close: Weight=0.000<br>PYPL_Close: Weight=0.410<br>CAT_Close: Weight=0.590",
          "Return: 47.319%<br>Volatility: 0.184<br>Sharpe Ratio: 2.571<br>AMZN_Close: Weight=0.388<br>CPB_Close: Weight=0.000<br>BABA_Close: Weight=0.494<br>MS_Close: Weight=0.118",
          "Return: 23.547%<br>Volatility: 0.112<br>Sharpe Ratio: 2.101<br>AMD_Close: Weight=0.000<br>NEE_Close: Weight=1.000<br>GIS_Close: Weight=0.000",
          "Return: 31.833%<br>Volatility: 0.151<br>Sharpe Ratio: 2.104<br>BAC_Close: Weight=0.255<br>GOOGL_Close: Weight=0.504<br>VRTX_Close: Weight=0.219<br>CMCSA_Close: Weight=0.022",
          "Return: 40.705%<br>Volatility: 0.126<br>Sharpe Ratio: 3.234<br>DE_Close: Weight=0.475<br>IBM_Close: Weight=0.000<br>MSFT_Close: Weight=0.525",
          "Return: 52.418%<br>Volatility: 0.142<br>Sharpe Ratio: 3.703<br>GOOGL_Close: Weight=0.203<br>CAT_Close: Weight=0.586<br>ADBE_Close: Weight=0.211",
          "Return: 34.606%<br>Volatility: 0.108<br>Sharpe Ratio: 3.190<br>WMT_Close: Weight=0.447<br>MRK_Close: Weight=0.000<br>ZBH_Close: Weight=0.000<br>MMM_Close: Weight=0.553",
          "Return: 21.921%<br>Volatility: 0.097<br>Sharpe Ratio: 2.257<br>LMT_Close: Weight=0.828<br>CPB_Close: Weight=0.000<br>DHR_Close: Weight=0.082<br>BTI_Close: Weight=0.089",
          "Return: 45.700%<br>Volatility: 0.141<br>Sharpe Ratio: 3.240<br>WFC_Close: Weight=0.000<br>AMZN_Close: Weight=0.213<br>ETN_Close: Weight=0.125<br>ABBV_Close: Weight=0.662",
          "Return: 18.153%<br>Volatility: 0.117<br>Sharpe Ratio: 1.549<br>RTX_Close: Weight=0.651<br>RMD_Close: Weight=0.349<br>MDT_Close: Weight=0.000",
          "Return: 51.795%<br>Volatility: 0.140<br>Sharpe Ratio: 3.699<br>TXN_Close: Weight=0.346<br>AMGN_Close: Weight=0.000<br>DIS_Close: Weight=0.000<br>BA_Close: Weight=0.654",
          "Return: 11.527%<br>Volatility: 0.109<br>Sharpe Ratio: 1.055<br>GM_Close: Weight=0.345<br>DHR_Close: Weight=0.415<br>COST_Close: Weight=0.240",
          "Return: 33.120%<br>Volatility: 0.118<br>Sharpe Ratio: 2.807<br>MSFT_Close: Weight=0.553<br>ABT_Close: Weight=0.447<br>CPB_Close: Weight=0.000",
          "Return: 45.399%<br>Volatility: 0.227<br>Sharpe Ratio: 1.999<br>UA_Close: Weight=0.000<br>ADBE_Close: Weight=0.997<br>T_Close: Weight=0.003",
          "Return: 28.894%<br>Volatility: 0.145<br>Sharpe Ratio: 1.986<br>MDT_Close: Weight=0.000<br>KR_Close: Weight=0.000<br>AMZN_Close: Weight=0.648<br>VZ_Close: Weight=0.352",
          "Return: 20.441%<br>Volatility: 0.074<br>Sharpe Ratio: 2.754<br>MMM_Close: Weight=0.339<br>JPM_Close: Weight=0.263<br>AEP_Close: Weight=0.382<br>REGN_Close: Weight=0.016",
          "Return: 31.661%<br>Volatility: 0.115<br>Sharpe Ratio: 2.752<br>IBM_Close: Weight=0.000<br>VZ_Close: Weight=0.223<br>MRK_Close: Weight=0.000<br>MA_Close: Weight=0.777",
          "Return: 32.965%<br>Volatility: 0.130<br>Sharpe Ratio: 2.532<br>UNH_Close: Weight=0.867<br>REGN_Close: Weight=0.000<br>BAC_Close: Weight=0.133",
          "Return: 49.069%<br>Volatility: 0.125<br>Sharpe Ratio: 3.924<br>MA_Close: Weight=0.435<br>GM_Close: Weight=0.020<br>BA_Close: Weight=0.545<br>EW_Close: Weight=0.000",
          "Return: 22.228%<br>Volatility: 0.128<br>Sharpe Ratio: 1.733<br>SAP_Close: Weight=0.781<br>QCOM_Close: Weight=0.132<br>PM_Close: Weight=0.000<br>TSLA_Close: Weight=0.087",
          "Return: 53.182%<br>Volatility: 0.254<br>Sharpe Ratio: 2.097<br>NVDA_Close: Weight=0.639<br>CPB_Close: Weight=0.000<br>LLY_Close: Weight=0.361",
          "Return: 30.050%<br>Volatility: 0.128<br>Sharpe Ratio: 2.340<br>MO_Close: Weight=0.000<br>ABT_Close: Weight=0.741<br>QCOM_Close: Weight=0.057<br>NFLX_Close: Weight=0.202",
          "Return: 38.164%<br>Volatility: 0.166<br>Sharpe Ratio: 2.300<br>RTX_Close: Weight=0.502<br>ORCL_Close: Weight=0.156<br>NVDA_Close: Weight=0.342<br>ZBH_Close: Weight=0.000",
          "Return: 25.202%<br>Volatility: 0.121<br>Sharpe Ratio: 2.084<br>RDY_Close: Weight=0.000<br>ACN_Close: Weight=0.886<br>GILD_Close: Weight=0.028<br>CMCSA_Close: Weight=0.085",
          "Return: 28.140%<br>Volatility: 0.095<br>Sharpe Ratio: 2.948<br>HD_Close: Weight=0.416<br>HON_Close: Weight=0.584<br>SNAP_Close: Weight=0.000",
          "Return: 51.208%<br>Volatility: 0.129<br>Sharpe Ratio: 3.960<br>SAP_Close: Weight=0.089<br>DE_Close: Weight=0.349<br>BA_Close: Weight=0.562",
          "Return: 51.470%<br>Volatility: 0.145<br>Sharpe Ratio: 3.561<br>BA_Close: Weight=0.766<br>AAPL_Close: Weight=0.234<br>T_Close: Weight=0.000",
          "Return: 21.969%<br>Volatility: 0.141<br>Sharpe Ratio: 1.553<br>EW_Close: Weight=0.272<br>SYK_Close: Weight=0.728<br>MO_Close: Weight=0.000",
          "Return: 14.814%<br>Volatility: 0.091<br>Sharpe Ratio: 1.636<br>EXC_Close: Weight=0.368<br>ORCL_Close: Weight=0.146<br>RTX_Close: Weight=0.485",
          "Return: 32.575%<br>Volatility: 0.154<br>Sharpe Ratio: 2.122<br>ADBE_Close: Weight=0.606<br>EXC_Close: Weight=0.394<br>MDT_Close: Weight=0.000",
          "Return: 49.326%<br>Volatility: 0.116<br>Sharpe Ratio: 4.255<br>JNJ_Close: Weight=0.271<br>VRTX_Close: Weight=0.068<br>BA_Close: Weight=0.447<br>PYPL_Close: Weight=0.214",
          "Return: 27.121%<br>Volatility: 0.120<br>Sharpe Ratio: 2.268<br>NFLX_Close: Weight=0.084<br>AMZN_Close: Weight=0.350<br>RTX_Close: Weight=0.312<br>EMR_Close: Weight=0.253",
          "Return: 4.829%<br>Volatility: 0.134<br>Sharpe Ratio: 0.360<br>LLY_Close: Weight=0.609<br>GILD_Close: Weight=0.391<br>SO_Close: Weight=0.000",
          "Return: 11.190%<br>Volatility: 0.110<br>Sharpe Ratio: 1.015<br>BMY_Close: Weight=0.294<br>ETN_Close: Weight=0.516<br>XOM_Close: Weight=0.190",
          "Return: 10.695%<br>Volatility: 0.226<br>Sharpe Ratio: 0.474<br>AMGN_Close: Weight=0.000<br>NKE_Close: Weight=1.000<br>DIS_Close: Weight=0.000",
          "Return: 38.179%<br>Volatility: 0.124<br>Sharpe Ratio: 3.089<br>DE_Close: Weight=0.452<br>HD_Close: Weight=0.548<br>KR_Close: Weight=0.000<br>MS_Close: Weight=0.000",
          "Return: 45.118%<br>Volatility: 0.179<br>Sharpe Ratio: 2.527<br>WFC_Close: Weight=0.000<br>UA_Close: Weight=0.000<br>DE_Close: Weight=1.000",
          "Return: 15.823%<br>Volatility: 0.100<br>Sharpe Ratio: 1.587<br>BIIB_Close: Weight=0.019<br>COST_Close: Weight=0.175<br>JNJ_Close: Weight=0.806",
          "Return: 17.423%<br>Volatility: 0.189<br>Sharpe Ratio: 0.921<br>DIS_Close: Weight=0.000<br>TSLA_Close: Weight=0.417<br>COST_Close: Weight=0.583",
          "Return: 27.346%<br>Volatility: 0.133<br>Sharpe Ratio: 2.059<br>IBM_Close: Weight=0.000<br>UA_Close: Weight=0.000<br>ACN_Close: Weight=1.000<br>GE_Close: Weight=0.000",
          "Return: 35.734%<br>Volatility: 0.148<br>Sharpe Ratio: 2.421<br>GIS_Close: Weight=0.027<br>MSFT_Close: Weight=0.973<br>RDY_Close: Weight=0.000<br>BSX_Close: Weight=0.000",
          "Return: 30.178%<br>Volatility: 0.104<br>Sharpe Ratio: 2.893<br>ACN_Close: Weight=0.446<br>LLY_Close: Weight=0.000<br>HD_Close: Weight=0.554",
          "Return: 58.390%<br>Volatility: 0.206<br>Sharpe Ratio: 2.836<br>UA_Close: Weight=0.000<br>GOOGL_Close: Weight=0.172<br>PYPL_Close: Weight=0.828",
          "Return: 31.776%<br>Volatility: 0.122<br>Sharpe Ratio: 2.609<br>BSX_Close: Weight=0.000<br>JPM_Close: Weight=0.294<br>BAC_Close: Weight=0.000<br>MSFT_Close: Weight=0.706",
          "Return: 42.047%<br>Volatility: 0.120<br>Sharpe Ratio: 3.500<br>MCD_Close: Weight=0.630<br>BABA_Close: Weight=0.241<br>PM_Close: Weight=0.000<br>GOOG_Close: Weight=0.129",
          "Return: 30.324%<br>Volatility: 0.102<br>Sharpe Ratio: 2.984<br>MCD_Close: Weight=0.651<br>UA_Close: Weight=0.000<br>JNJ_Close: Weight=0.349",
          "Return: 53.814%<br>Volatility: 0.156<br>Sharpe Ratio: 3.449<br>F_Close: Weight=0.000<br>QCOM_Close: Weight=0.070<br>CMCSA_Close: Weight=0.057<br>BA_Close: Weight=0.872",
          "Return: 27.111%<br>Volatility: 0.109<br>Sharpe Ratio: 2.494<br>XOM_Close: Weight=0.143<br>V_Close: Weight=0.857<br>GS_Close: Weight=0.000<br>ZBH_Close: Weight=0.000",
          "Return: 25.939%<br>Volatility: 0.102<br>Sharpe Ratio: 2.534<br>META_Close: Weight=0.245<br>SYK_Close: Weight=0.103<br>AEP_Close: Weight=0.444<br>ADBE_Close: Weight=0.208",
          "Return: 22.773%<br>Volatility: 0.130<br>Sharpe Ratio: 1.756<br>GM_Close: Weight=0.252<br>RDY_Close: Weight=0.000<br>CRM_Close: Weight=0.748",
          "Return: 46.096%<br>Volatility: 0.126<br>Sharpe Ratio: 3.659<br>ETN_Close: Weight=0.000<br>ACN_Close: Weight=0.409<br>EW_Close: Weight=0.071<br>CAT_Close: Weight=0.519",
          "Return: 19.920%<br>Volatility: 0.156<br>Sharpe Ratio: 1.276<br>PM_Close: Weight=0.000<br>JPM_Close: Weight=1.000<br>SNAP_Close: Weight=0.000",
          "Return: 37.493%<br>Volatility: 0.106<br>Sharpe Ratio: 3.534<br>ABBV_Close: Weight=0.424<br>LMT_Close: Weight=0.450<br>ABT_Close: Weight=0.126<br>GS_Close: Weight=0.000",
          "Return: 5.321%<br>Volatility: 0.189<br>Sharpe Ratio: 0.281<br>KR_Close: Weight=0.000<br>GILD_Close: Weight=1.000<br>RDY_Close: Weight=0.000",
          "Return: 22.379%<br>Volatility: 0.137<br>Sharpe Ratio: 1.628<br>IBM_Close: Weight=0.000<br>SAP_Close: Weight=1.000<br>MO_Close: Weight=0.000",
          "Return: 30.069%<br>Volatility: 0.105<br>Sharpe Ratio: 2.865<br>V_Close: Weight=0.606<br>ZBH_Close: Weight=0.000<br>ABT_Close: Weight=0.394",
          "Return: 34.014%<br>Volatility: 0.108<br>Sharpe Ratio: 3.140<br>BABA_Close: Weight=0.251<br>HON_Close: Weight=0.705<br>RTX_Close: Weight=0.024<br>EW_Close: Weight=0.020",
          "Return: 50.930%<br>Volatility: 0.167<br>Sharpe Ratio: 3.050<br>QCOM_Close: Weight=0.088<br>BIIB_Close: Weight=0.000<br>ABBV_Close: Weight=0.912",
          "Return: 49.115%<br>Volatility: 0.130<br>Sharpe Ratio: 3.771<br>WMT_Close: Weight=0.429<br>XOM_Close: Weight=0.004<br>ABBV_Close: Weight=0.567",
          "Return: 21.553%<br>Volatility: 0.163<br>Sharpe Ratio: 1.323<br>KR_Close: Weight=0.000<br>RDY_Close: Weight=0.000<br>TMO_Close: Weight=1.000",
          "Return: 14.430%<br>Volatility: 0.132<br>Sharpe Ratio: 1.096<br>CVX_Close: Weight=0.931<br>MDT_Close: Weight=0.069<br>MRK_Close: Weight=0.000",
          "Return: 48.594%<br>Volatility: 0.140<br>Sharpe Ratio: 3.465<br>PFE_Close: Weight=0.218<br>PM_Close: Weight=0.000<br>BSX_Close: Weight=0.000<br>BA_Close: Weight=0.782",
          "Return: 38.599%<br>Volatility: 0.175<br>Sharpe Ratio: 2.201<br>IBM_Close: Weight=0.000<br>NVDA_Close: Weight=0.359<br>PG_Close: Weight=0.307<br>AAPL_Close: Weight=0.334",
          "Return: 34.115%<br>Volatility: 0.120<br>Sharpe Ratio: 2.847<br>EMR_Close: Weight=0.196<br>MCD_Close: Weight=0.804<br>BSX_Close: Weight=0.000",
          "Return: 31.447%<br>Volatility: 0.104<br>Sharpe Ratio: 3.021<br>WMT_Close: Weight=0.390<br>LMT_Close: Weight=0.575<br>QCOM_Close: Weight=0.035<br>WFC_Close: Weight=0.000",
          "Return: 47.617%<br>Volatility: 0.153<br>Sharpe Ratio: 3.106<br>PYPL_Close: Weight=0.370<br>MA_Close: Weight=0.323<br>TXN_Close: Weight=0.307",
          "Return: 15.273%<br>Volatility: 0.083<br>Sharpe Ratio: 1.845<br>EXC_Close: Weight=0.281<br>AMD_Close: Weight=0.000<br>CVX_Close: Weight=0.314<br>RTX_Close: Weight=0.404",
          "Return: 21.424%<br>Volatility: 0.163<br>Sharpe Ratio: 1.316<br>EW_Close: Weight=0.474<br>DIS_Close: Weight=0.000<br>BAC_Close: Weight=0.526",
          "Return: 21.818%<br>Volatility: 0.139<br>Sharpe Ratio: 1.571<br>AAPL_Close: Weight=0.688<br>F_Close: Weight=0.000<br>GM_Close: Weight=0.312",
          "Return: 25.988%<br>Volatility: 0.179<br>Sharpe Ratio: 1.453<br>GILD_Close: Weight=0.028<br>AMGN_Close: Weight=0.000<br>NFLX_Close: Weight=0.508<br>ETN_Close: Weight=0.463",
          "Return: 34.386%<br>Volatility: 0.146<br>Sharpe Ratio: 2.348<br>GILD_Close: Weight=0.006<br>CRM_Close: Weight=0.221<br>MDT_Close: Weight=0.000<br>TXN_Close: Weight=0.773",
          "Return: 17.574%<br>Volatility: 0.085<br>Sharpe Ratio: 2.071<br>PM_Close: Weight=0.000<br>EMR_Close: Weight=0.336<br>AEP_Close: Weight=0.569<br>EW_Close: Weight=0.095",
          "Return: 54.210%<br>Volatility: 0.191<br>Sharpe Ratio: 2.844<br>F_Close: Weight=0.152<br>ORCL_Close: Weight=0.029<br>PYPL_Close: Weight=0.819",
          "Return: 14.398%<br>Volatility: 0.130<br>Sharpe Ratio: 1.105<br>IBM_Close: Weight=0.000<br>REGN_Close: Weight=0.068<br>CVX_Close: Weight=0.932",
          "Return: 28.576%<br>Volatility: 0.093<br>Sharpe Ratio: 3.088<br>META_Close: Weight=0.259<br>UNH_Close: Weight=0.473<br>CVX_Close: Weight=0.268",
          "Return: 10.769%<br>Volatility: 0.140<br>Sharpe Ratio: 0.768<br>VZ_Close: Weight=0.662<br>NKE_Close: Weight=0.307<br>REGN_Close: Weight=0.031<br>GE_Close: Weight=0.000",
          "Return: 40.049%<br>Volatility: 0.162<br>Sharpe Ratio: 2.471<br>ISRG_Close: Weight=0.805<br>ZBH_Close: Weight=0.000<br>RMD_Close: Weight=0.093<br>WFC_Close: Weight=0.102",
          "Return: 25.339%<br>Volatility: 0.123<br>Sharpe Ratio: 2.063<br>INTC_Close: Weight=0.558<br>CMCSA_Close: Weight=0.050<br>SO_Close: Weight=0.000<br>RTX_Close: Weight=0.392",
          "Return: 22.774%<br>Volatility: 0.130<br>Sharpe Ratio: 1.756<br>GM_Close: Weight=0.252<br>UA_Close: Weight=0.000<br>CRM_Close: Weight=0.748<br>DIS_Close: Weight=0.000",
          "Return: 3.839%<br>Volatility: 0.086<br>Sharpe Ratio: 0.445<br>PG_Close: Weight=0.829<br>GS_Close: Weight=0.171<br>AMD_Close: Weight=0.000",
          "Return: 31.831%<br>Volatility: 0.156<br>Sharpe Ratio: 2.042<br>AMZN_Close: Weight=0.490<br>IBM_Close: Weight=0.000<br>CRM_Close: Weight=0.510",
          "Return: 24.649%<br>Volatility: 0.103<br>Sharpe Ratio: 2.396<br>PM_Close: Weight=0.000<br>PFE_Close: Weight=0.150<br>CRM_Close: Weight=0.343<br>ABT_Close: Weight=0.507",
          "Return: 36.789%<br>Volatility: 0.141<br>Sharpe Ratio: 2.603<br>T_Close: Weight=0.001<br>AMD_Close: Weight=0.000<br>CSCO_Close: Weight=0.032<br>MA_Close: Weight=0.967",
          "Return: 48.830%<br>Volatility: 0.159<br>Sharpe Ratio: 3.072<br>ABBV_Close: Weight=0.860<br>MS_Close: Weight=0.140<br>SRE_Close: Weight=0.000",
          "Return: 18.730%<br>Volatility: 0.103<br>Sharpe Ratio: 1.813<br>PFE_Close: Weight=0.401<br>GOOGL_Close: Weight=0.575<br>DHR_Close: Weight=0.024<br>MRK_Close: Weight=0.000",
          "Return: 50.083%<br>Volatility: 0.156<br>Sharpe Ratio: 3.210<br>AMZN_Close: Weight=0.254<br>DHR_Close: Weight=0.000<br>BMY_Close: Weight=0.000<br>ABBV_Close: Weight=0.746",
          "Return: 34.583%<br>Volatility: 0.122<br>Sharpe Ratio: 2.835<br>MCD_Close: Weight=0.841<br>TSLA_Close: Weight=0.069<br>ETN_Close: Weight=0.090",
          "Return: 50.673%<br>Volatility: 0.122<br>Sharpe Ratio: 4.170<br>BA_Close: Weight=0.564<br>WFC_Close: Weight=0.000<br>WMT_Close: Weight=0.366<br>SYY_Close: Weight=0.070",
          "Return: 36.318%<br>Volatility: 0.132<br>Sharpe Ratio: 2.750<br>MCD_Close: Weight=0.966<br>F_Close: Weight=0.034<br>AMD_Close: Weight=0.000",
          "Return: 51.279%<br>Volatility: 0.174<br>Sharpe Ratio: 2.948<br>PYPL_Close: Weight=0.706<br>BAC_Close: Weight=0.220<br>NKE_Close: Weight=0.074",
          "Return: 16.856%<br>Volatility: 0.128<br>Sharpe Ratio: 1.314<br>CSCO_Close: Weight=0.420<br>BMY_Close: Weight=0.191<br>RMD_Close: Weight=0.388",
          "Return: 49.530%<br>Volatility: 0.138<br>Sharpe Ratio: 3.597<br>BA_Close: Weight=0.707<br>BAC_Close: Weight=0.020<br>GOOGL_Close: Weight=0.273",
          "Return: 27.622%<br>Volatility: 0.128<br>Sharpe Ratio: 2.162<br>VZ_Close: Weight=0.209<br>DUK_Close: Weight=0.192<br>CMCSA_Close: Weight=0.089<br>ADBE_Close: Weight=0.510",
          "Return: 26.053%<br>Volatility: 0.131<br>Sharpe Ratio: 1.990<br>BMY_Close: Weight=0.196<br>CSCO_Close: Weight=0.147<br>INTC_Close: Weight=0.658",
          "Return: 33.594%<br>Volatility: 0.126<br>Sharpe Ratio: 2.667<br>CMCSA_Close: Weight=0.148<br>ISRG_Close: Weight=0.542<br>SAP_Close: Weight=0.310",
          "Return: 23.845%<br>Volatility: 0.110<br>Sharpe Ratio: 2.169<br>BAC_Close: Weight=0.118<br>GOOG_Close: Weight=0.533<br>SYY_Close: Weight=0.349",
          "Return: 33.034%<br>Volatility: 0.102<br>Sharpe Ratio: 3.226<br>NVDA_Close: Weight=0.138<br>MMM_Close: Weight=0.380<br>NEE_Close: Weight=0.482",
          "Return: 21.420%<br>Volatility: 0.075<br>Sharpe Ratio: 2.848<br>JNJ_Close: Weight=0.255<br>BAC_Close: Weight=0.021<br>CVX_Close: Weight=0.154<br>HON_Close: Weight=0.570",
          "Return: 15.176%<br>Volatility: 0.153<br>Sharpe Ratio: 0.992<br>TSLA_Close: Weight=0.269<br>NKE_Close: Weight=0.266<br>BMY_Close: Weight=0.465<br>RDY_Close: Weight=0.000",
          "Return: 19.451%<br>Volatility: 0.118<br>Sharpe Ratio: 1.643<br>MS_Close: Weight=0.215<br>SYK_Close: Weight=0.610<br>GM_Close: Weight=0.175",
          "Return: 14.493%<br>Volatility: 0.141<br>Sharpe Ratio: 1.026<br>MS_Close: Weight=0.569<br>REGN_Close: Weight=0.000<br>BMY_Close: Weight=0.431<br>F_Close: Weight=0.000",
          "Return: 26.105%<br>Volatility: 0.359<br>Sharpe Ratio: 0.728<br>MO_Close: Weight=0.000<br>T_Close: Weight=0.000<br>GIS_Close: Weight=0.000<br>TSLA_Close: Weight=1.000",
          "Return: 29.961%<br>Volatility: 0.120<br>Sharpe Ratio: 2.497<br>GS_Close: Weight=0.000<br>TXN_Close: Weight=0.669<br>CVX_Close: Weight=0.331<br>AMD_Close: Weight=0.000",
          "Return: 12.946%<br>Volatility: 0.107<br>Sharpe Ratio: 1.208<br>VZ_Close: Weight=0.231<br>CVX_Close: Weight=0.628<br>LLY_Close: Weight=0.141",
          "Return: 64.288%<br>Volatility: 0.250<br>Sharpe Ratio: 2.572<br>RDY_Close: Weight=0.000<br>NFLX_Close: Weight=0.117<br>BABA_Close: Weight=0.601<br>NVDA_Close: Weight=0.282",
          "Return: 28.667%<br>Volatility: 0.140<br>Sharpe Ratio: 2.053<br>ABT_Close: Weight=1.000<br>SRE_Close: Weight=0.000<br>BSX_Close: Weight=0.000<br>F_Close: Weight=0.000",
          "Return: 36.804%<br>Volatility: 0.151<br>Sharpe Ratio: 2.430<br>SO_Close: Weight=0.000<br>NFLX_Close: Weight=0.055<br>BSX_Close: Weight=0.000<br>MSFT_Close: Weight=0.945",
          "Return: 14.024%<br>Volatility: 0.079<br>Sharpe Ratio: 1.783<br>WFC_Close: Weight=0.049<br>RTX_Close: Weight=0.376<br>PEP_Close: Weight=0.575",
          "Return: 19.964%<br>Volatility: 0.094<br>Sharpe Ratio: 2.127<br>PFE_Close: Weight=0.234<br>CRM_Close: Weight=0.457<br>JPM_Close: Weight=0.309",
          "Return: 35.103%<br>Volatility: 0.192<br>Sharpe Ratio: 1.828<br>ORCL_Close: Weight=0.132<br>AMZN_Close: Weight=0.868<br>AMGN_Close: Weight=0.000",
          "Return: 27.946%<br>Volatility: 0.125<br>Sharpe Ratio: 2.240<br>SYK_Close: Weight=0.172<br>INTC_Close: Weight=0.435<br>GE_Close: Weight=0.000<br>CRM_Close: Weight=0.392",
          "Return: 25.971%<br>Volatility: 0.101<br>Sharpe Ratio: 2.582<br>GS_Close: Weight=0.000<br>MSFT_Close: Weight=0.606<br>DUK_Close: Weight=0.243<br>GM_Close: Weight=0.151",
          "Return: 28.870%<br>Volatility: 0.089<br>Sharpe Ratio: 3.257<br>MMM_Close: Weight=0.312<br>CVX_Close: Weight=0.254<br>MA_Close: Weight=0.435",
          "Return: 4.023%<br>Volatility: 0.098<br>Sharpe Ratio: 0.410<br>RDY_Close: Weight=0.000<br>K_Close: Weight=0.000<br>PG_Close: Weight=1.000",
          "Return: 6.020%<br>Volatility: 0.128<br>Sharpe Ratio: 0.471<br>WFC_Close: Weight=0.602<br>GE_Close: Weight=0.000<br>GILD_Close: Weight=0.398",
          "Return: 10.947%<br>Volatility: 0.109<br>Sharpe Ratio: 1.009<br>QCOM_Close: Weight=0.341<br>COST_Close: Weight=0.264<br>PG_Close: Weight=0.395<br>CPB_Close: Weight=0.000",
          "Return: 48.796%<br>Volatility: 0.203<br>Sharpe Ratio: 2.405<br>AAPL_Close: Weight=0.350<br>SNAP_Close: Weight=0.000<br>K_Close: Weight=0.000<br>BABA_Close: Weight=0.650",
          "Return: 11.411%<br>Volatility: 0.180<br>Sharpe Ratio: 0.633<br>SNAP_Close: Weight=0.000<br>K_Close: Weight=0.000<br>BMY_Close: Weight=1.000",
          "Return: 56.440%<br>Volatility: 0.160<br>Sharpe Ratio: 3.535<br>CAT_Close: Weight=0.701<br>AMZN_Close: Weight=0.299<br>GS_Close: Weight=0.000",
          "Return: 34.171%<br>Volatility: 0.143<br>Sharpe Ratio: 2.395<br>VZ_Close: Weight=0.179<br>PG_Close: Weight=0.091<br>CVX_Close: Weight=0.416<br>NVDA_Close: Weight=0.314",
          "Return: 31.478%<br>Volatility: 0.128<br>Sharpe Ratio: 2.469<br>GOOGL_Close: Weight=0.051<br>MSFT_Close: Weight=0.765<br>BMY_Close: Weight=0.097<br>COST_Close: Weight=0.087",
          "Return: 51.954%<br>Volatility: 0.325<br>Sharpe Ratio: 1.599<br>VRTX_Close: Weight=0.835<br>LLY_Close: Weight=0.165<br>KR_Close: Weight=0.000",
          "Return: 21.975%<br>Volatility: 0.096<br>Sharpe Ratio: 2.285<br>RTX_Close: Weight=0.109<br>AMGN_Close: Weight=0.000<br>LMT_Close: Weight=0.770<br>VZ_Close: Weight=0.121",
          "Return: 31.056%<br>Volatility: 0.095<br>Sharpe Ratio: 3.266<br>MRK_Close: Weight=0.000<br>WMT_Close: Weight=0.388<br>NEE_Close: Weight=0.552<br>EW_Close: Weight=0.060",
          "Return: 30.707%<br>Volatility: 0.103<br>Sharpe Ratio: 2.977<br>LLY_Close: Weight=0.093<br>MCD_Close: Weight=0.650<br>SAP_Close: Weight=0.214<br>TSLA_Close: Weight=0.044",
          "Return: 24.329%<br>Volatility: 0.136<br>Sharpe Ratio: 1.792<br>GOOGL_Close: Weight=0.734<br>BAC_Close: Weight=0.266<br>GILD_Close: Weight=0.000<br>GIS_Close: Weight=0.000",
          "Return: 23.712%<br>Volatility: 0.119<br>Sharpe Ratio: 1.998<br>PG_Close: Weight=0.110<br>CSCO_Close: Weight=0.124<br>INTC_Close: Weight=0.591<br>BMY_Close: Weight=0.175",
          "Return: 32.402%<br>Volatility: 0.124<br>Sharpe Ratio: 2.623<br>CPB_Close: Weight=0.000<br>MA_Close: Weight=0.832<br>XOM_Close: Weight=0.135<br>RMD_Close: Weight=0.033",
          "Return: 34.284%<br>Volatility: 0.142<br>Sharpe Ratio: 2.409<br>AMGN_Close: Weight=0.000<br>TXN_Close: Weight=0.697<br>GOOG_Close: Weight=0.303",
          "Return: 56.274%<br>Volatility: 0.127<br>Sharpe Ratio: 4.419<br>BAC_Close: Weight=0.000<br>CMCSA_Close: Weight=0.054<br>CAT_Close: Weight=0.462<br>ABBV_Close: Weight=0.483",
          "Return: 32.831%<br>Volatility: 0.103<br>Sharpe Ratio: 3.188<br>V_Close: Weight=0.529<br>UNH_Close: Weight=0.471<br>WFC_Close: Weight=0.000<br>AMGN_Close: Weight=0.000",
          "Return: 20.268%<br>Volatility: 0.078<br>Sharpe Ratio: 2.591<br>RMD_Close: Weight=0.112<br>MMM_Close: Weight=0.429<br>XOM_Close: Weight=0.000<br>KO_Close: Weight=0.459",
          "Return: 37.690%<br>Volatility: 0.124<br>Sharpe Ratio: 3.037<br>WMT_Close: Weight=0.522<br>VZ_Close: Weight=0.117<br>AMZN_Close: Weight=0.361",
          "Return: 39.057%<br>Volatility: 0.150<br>Sharpe Ratio: 2.600<br>ORCL_Close: Weight=0.189<br>DE_Close: Weight=0.811<br>MS_Close: Weight=0.000<br>LLY_Close: Weight=0.000",
          "Return: 48.597%<br>Volatility: 0.129<br>Sharpe Ratio: 3.773<br>WMT_Close: Weight=0.421<br>MDT_Close: Weight=0.000<br>NKE_Close: Weight=0.019<br>ABBV_Close: Weight=0.560",
          "Return: 29.110%<br>Volatility: 0.098<br>Sharpe Ratio: 2.956<br>GOOG_Close: Weight=0.072<br>TXN_Close: Weight=0.319<br>HON_Close: Weight=0.609",
          "Return: 4.023%<br>Volatility: 0.098<br>Sharpe Ratio: 0.410<br>MO_Close: Weight=0.000<br>T_Close: Weight=0.000<br>PG_Close: Weight=1.000<br>K_Close: Weight=0.000",
          "Return: 10.872%<br>Volatility: 0.088<br>Sharpe Ratio: 1.236<br>EXC_Close: Weight=0.485<br>PFE_Close: Weight=0.515<br>SO_Close: Weight=0.000<br>MO_Close: Weight=0.000",
          "Return: 37.254%<br>Volatility: 0.171<br>Sharpe Ratio: 2.178<br>BSX_Close: Weight=0.000<br>RDY_Close: Weight=0.000<br>ADBE_Close: Weight=0.596<br>AAPL_Close: Weight=0.404",
          "Return: 29.462%<br>Volatility: 0.138<br>Sharpe Ratio: 2.134<br>INTC_Close: Weight=0.539<br>PM_Close: Weight=0.000<br>GOOGL_Close: Weight=0.461",
          "Return: 24.912%<br>Volatility: 0.100<br>Sharpe Ratio: 2.492<br>HON_Close: Weight=0.937<br>EW_Close: Weight=0.063<br>GIS_Close: Weight=0.000",
          "Return: 26.430%<br>Volatility: 0.105<br>Sharpe Ratio: 2.516<br>F_Close: Weight=0.000<br>PEP_Close: Weight=0.439<br>TXN_Close: Weight=0.561",
          "Return: 40.325%<br>Volatility: 0.141<br>Sharpe Ratio: 2.854<br>SO_Close: Weight=0.000<br>INTC_Close: Weight=0.384<br>DIS_Close: Weight=0.000<br>DE_Close: Weight=0.616",
          "Return: 27.346%<br>Volatility: 0.133<br>Sharpe Ratio: 2.059<br>SNAP_Close: Weight=0.000<br>SRE_Close: Weight=0.000<br>AMGN_Close: Weight=0.000<br>ACN_Close: Weight=1.000",
          "Return: 18.596%<br>Volatility: 0.142<br>Sharpe Ratio: 1.310<br>NKE_Close: Weight=0.144<br>RDY_Close: Weight=0.000<br>JPM_Close: Weight=0.856",
          "Return: 38.365%<br>Volatility: 0.195<br>Sharpe Ratio: 1.963<br>NFLX_Close: Weight=0.358<br>VRTX_Close: Weight=0.349<br>COST_Close: Weight=0.294",
          "Return: 15.432%<br>Volatility: 0.085<br>Sharpe Ratio: 1.813<br>SYK_Close: Weight=0.360<br>DUK_Close: Weight=0.382<br>BAC_Close: Weight=0.258",
          "Return: 36.958%<br>Volatility: 0.147<br>Sharpe Ratio: 2.511<br>F_Close: Weight=0.000<br>AMZN_Close: Weight=0.300<br>ETN_Close: Weight=0.025<br>TXN_Close: Weight=0.675",
          "Return: 27.876%<br>Volatility: 0.097<br>Sharpe Ratio: 2.861<br>MSFT_Close: Weight=0.593<br>CVX_Close: Weight=0.364<br>COST_Close: Weight=0.043<br>GIS_Close: Weight=0.000",
          "Return: 35.208%<br>Volatility: 0.102<br>Sharpe Ratio: 3.435<br>ABT_Close: Weight=0.185<br>SAP_Close: Weight=0.135<br>CVX_Close: Weight=0.255<br>ABBV_Close: Weight=0.424",
          "Return: 63.148%<br>Volatility: 0.164<br>Sharpe Ratio: 3.857<br>CAT_Close: Weight=0.629<br>VRTX_Close: Weight=0.122<br>TSLA_Close: Weight=0.000<br>BABA_Close: Weight=0.248",
          "Return: 20.360%<br>Volatility: 0.209<br>Sharpe Ratio: 0.972<br>BAC_Close: Weight=1.000<br>GIS_Close: Weight=0.000<br>SNAP_Close: Weight=0.000<br>RDY_Close: Weight=0.000",
          "Return: 33.506%<br>Volatility: 0.134<br>Sharpe Ratio: 2.504<br>BAC_Close: Weight=0.160<br>GE_Close: Weight=0.000<br>MSFT_Close: Weight=0.811<br>CSCO_Close: Weight=0.029",
          "Return: 24.360%<br>Volatility: 0.110<br>Sharpe Ratio: 2.206<br>LMT_Close: Weight=1.000<br>UA_Close: Weight=0.000<br>GS_Close: Weight=0.000",
          "Return: 23.650%<br>Volatility: 0.139<br>Sharpe Ratio: 1.705<br>CMCSA_Close: Weight=0.132<br>TSLA_Close: Weight=0.074<br>GOOGL_Close: Weight=0.794",
          "Return: 7.334%<br>Volatility: 0.082<br>Sharpe Ratio: 0.900<br>DHR_Close: Weight=0.426<br>ZBH_Close: Weight=0.030<br>DUK_Close: Weight=0.544",
          "Return: 13.522%<br>Volatility: 0.126<br>Sharpe Ratio: 1.076<br>ORCL_Close: Weight=0.383<br>F_Close: Weight=0.000<br>ETN_Close: Weight=0.617",
          "Return: 59.014%<br>Volatility: 0.134<br>Sharpe Ratio: 4.403<br>T_Close: Weight=0.000<br>ABBV_Close: Weight=0.506<br>CAT_Close: Weight=0.494<br>BIIB_Close: Weight=0.000",
          "Return: 68.124%<br>Volatility: 0.227<br>Sharpe Ratio: 3.003<br>NVDA_Close: Weight=0.216<br>PYPL_Close: Weight=0.776<br>BTI_Close: Weight=0.000<br>QCOM_Close: Weight=0.009",
          "Return: 44.534%<br>Volatility: 0.160<br>Sharpe Ratio: 2.789<br>NVDA_Close: Weight=0.163<br>AMGN_Close: Weight=0.000<br>MA_Close: Weight=0.837",
          "Return: 34.351%<br>Volatility: 0.101<br>Sharpe Ratio: 3.394<br>GOOGL_Close: Weight=0.153<br>WMT_Close: Weight=0.357<br>DUK_Close: Weight=0.193<br>ISRG_Close: Weight=0.298",
          "Return: 29.301%<br>Volatility: 0.115<br>Sharpe Ratio: 2.557<br>MSFT_Close: Weight=0.612<br>EXC_Close: Weight=0.190<br>SAP_Close: Weight=0.198",
          "Return: 28.139%<br>Volatility: 0.158<br>Sharpe Ratio: 1.779<br>F_Close: Weight=0.089<br>META_Close: Weight=0.911<br>T_Close: Weight=0.000<br>KR_Close: Weight=0.000",
          "Return: 55.805%<br>Volatility: 0.138<br>Sharpe Ratio: 4.033<br>RDY_Close: Weight=0.000<br>BA_Close: Weight=0.553<br>EMR_Close: Weight=0.139<br>PYPL_Close: Weight=0.308",
          "Return: 32.102%<br>Volatility: 0.111<br>Sharpe Ratio: 2.896<br>F_Close: Weight=0.000<br>UNH_Close: Weight=0.594<br>GM_Close: Weight=0.105<br>INTC_Close: Weight=0.301",
          "Return: 7.860%<br>Volatility: 0.077<br>Sharpe Ratio: 1.016<br>MO_Close: Weight=0.000<br>PFE_Close: Weight=0.553<br>DUK_Close: Weight=0.447",
          "Return: 35.896%<br>Volatility: 0.112<br>Sharpe Ratio: 3.198<br>MS_Close: Weight=0.000<br>DIS_Close: Weight=0.000<br>UNH_Close: Weight=0.557<br>TXN_Close: Weight=0.443",
          "Return: 19.333%<br>Volatility: 0.086<br>Sharpe Ratio: 2.260<br>F_Close: Weight=0.141<br>GILD_Close: Weight=0.017<br>ORCL_Close: Weight=0.097<br>NEE_Close: Weight=0.745",
          "Return: 39.639%<br>Volatility: 0.157<br>Sharpe Ratio: 2.525<br>MRK_Close: Weight=0.000<br>GM_Close: Weight=0.218<br>ISRG_Close: Weight=0.782",
          "Return: 34.852%<br>Volatility: 0.141<br>Sharpe Ratio: 2.475<br>BMY_Close: Weight=0.002<br>GIS_Close: Weight=0.000<br>UNH_Close: Weight=0.998",
          "Return: 25.183%<br>Volatility: 0.121<br>Sharpe Ratio: 2.077<br>ACN_Close: Weight=0.865<br>BTI_Close: Weight=0.054<br>BMY_Close: Weight=0.081<br>WFC_Close: Weight=0.000",
          "Return: 33.302%<br>Volatility: 0.130<br>Sharpe Ratio: 2.558<br>MRK_Close: Weight=0.000<br>GM_Close: Weight=0.109<br>PFE_Close: Weight=0.443<br>BABA_Close: Weight=0.448",
          "Return: 31.569%<br>Volatility: 0.107<br>Sharpe Ratio: 2.964<br>ACN_Close: Weight=0.290<br>V_Close: Weight=0.424<br>MSFT_Close: Weight=0.286",
          "Return: 35.815%<br>Volatility: 0.128<br>Sharpe Ratio: 2.800<br>K_Close: Weight=0.000<br>ISRG_Close: Weight=0.596<br>JPM_Close: Weight=0.404",
          "Return: 55.257%<br>Volatility: 0.345<br>Sharpe Ratio: 1.599<br>BIIB_Close: Weight=0.118<br>AMGN_Close: Weight=0.000<br>VRTX_Close: Weight=0.882",
          "Return: 31.047%<br>Volatility: 0.118<br>Sharpe Ratio: 2.641<br>MO_Close: Weight=0.000<br>WMT_Close: Weight=0.605<br>EXC_Close: Weight=0.395",
          "Return: 37.421%<br>Volatility: 0.136<br>Sharpe Ratio: 2.742<br>LLY_Close: Weight=0.000<br>DE_Close: Weight=0.673<br>TMO_Close: Weight=0.327<br>EMR_Close: Weight=0.000",
          "Return: 43.995%<br>Volatility: 0.135<br>Sharpe Ratio: 3.249<br>ETN_Close: Weight=0.099<br>ABBV_Close: Weight=0.642<br>META_Close: Weight=0.259",
          "Return: 14.425%<br>Volatility: 0.087<br>Sharpe Ratio: 1.661<br>PFE_Close: Weight=0.178<br>JNJ_Close: Weight=0.554<br>EXC_Close: Weight=0.268",
          "Return: 42.629%<br>Volatility: 0.118<br>Sharpe Ratio: 3.608<br>MA_Close: Weight=0.359<br>CMCSA_Close: Weight=0.082<br>DE_Close: Weight=0.366<br>BABA_Close: Weight=0.192",
          "Return: 39.470%<br>Volatility: 0.091<br>Sharpe Ratio: 4.342<br>CVX_Close: Weight=0.141<br>BA_Close: Weight=0.335<br>UNH_Close: Weight=0.281<br>V_Close: Weight=0.242",
          "Return: 22.953%<br>Volatility: 0.125<br>Sharpe Ratio: 1.840<br>QCOM_Close: Weight=0.105<br>MO_Close: Weight=0.000<br>META_Close: Weight=0.654<br>PG_Close: Weight=0.241",
          "Return: 17.296%<br>Volatility: 0.128<br>Sharpe Ratio: 1.356<br>SYY_Close: Weight=0.613<br>MS_Close: Weight=0.305<br>GILD_Close: Weight=0.082",
          "Return: 19.338%<br>Volatility: 0.107<br>Sharpe Ratio: 1.813<br>SYK_Close: Weight=0.336<br>JNJ_Close: Weight=0.528<br>SNAP_Close: Weight=0.000<br>EW_Close: Weight=0.137",
          "Return: 26.033%<br>Volatility: 0.169<br>Sharpe Ratio: 1.542<br>MS_Close: Weight=0.374<br>NKE_Close: Weight=0.153<br>NFLX_Close: Weight=0.473",
          "Return: 34.671%<br>Volatility: 0.132<br>Sharpe Ratio: 2.624<br>WMT_Close: Weight=0.637<br>JPM_Close: Weight=0.363<br>GILD_Close: Weight=0.000<br>SNAP_Close: Weight=0.000",
          "Return: 17.625%<br>Volatility: 0.096<br>Sharpe Ratio: 1.842<br>EMR_Close: Weight=0.334<br>JNJ_Close: Weight=0.589<br>BTI_Close: Weight=0.077<br>UA_Close: Weight=0.000",
          "Return: 33.298%<br>Volatility: 0.120<br>Sharpe Ratio: 2.773<br>GS_Close: Weight=0.000<br>ACN_Close: Weight=0.418<br>TXN_Close: Weight=0.386<br>AMZN_Close: Weight=0.196",
          "Return: 48.387%<br>Volatility: 0.200<br>Sharpe Ratio: 2.423<br>NVDA_Close: Weight=0.341<br>BIIB_Close: Weight=0.028<br>ZBH_Close: Weight=0.000<br>INTC_Close: Weight=0.632",
          "Return: 28.760%<br>Volatility: 0.101<br>Sharpe Ratio: 2.841<br>AEP_Close: Weight=0.452<br>ISRG_Close: Weight=0.447<br>NKE_Close: Weight=0.101<br>LLY_Close: Weight=0.000",
          "Return: 29.617%<br>Volatility: 0.101<br>Sharpe Ratio: 2.932<br>BTI_Close: Weight=0.000<br>HON_Close: Weight=0.609<br>MSFT_Close: Weight=0.391",
          "Return: 10.657%<br>Volatility: 0.159<br>Sharpe Ratio: 0.669<br>DIS_Close: Weight=0.000<br>MDT_Close: Weight=0.061<br>VZ_Close: Weight=0.939",
          "Return: 50.950%<br>Volatility: 0.179<br>Sharpe Ratio: 2.843<br>WFC_Close: Weight=0.000<br>XOM_Close: Weight=0.232<br>PYPL_Close: Weight=0.768",
          "Return: 19.716%<br>Volatility: 0.182<br>Sharpe Ratio: 1.085<br>TSLA_Close: Weight=0.311<br>MS_Close: Weight=0.689<br>MRK_Close: Weight=0.000",
          "Return: 25.059%<br>Volatility: 0.104<br>Sharpe Ratio: 2.412<br>SAP_Close: Weight=0.343<br>ORCL_Close: Weight=0.059<br>MMM_Close: Weight=0.598",
          "Return: 31.668%<br>Volatility: 0.115<br>Sharpe Ratio: 2.752<br>AMD_Close: Weight=0.000<br>MDT_Close: Weight=0.000<br>MA_Close: Weight=0.777<br>VZ_Close: Weight=0.223",
          "Return: 43.058%<br>Volatility: 0.182<br>Sharpe Ratio: 2.372<br>PM_Close: Weight=0.000<br>WMT_Close: Weight=1.000<br>MO_Close: Weight=0.000",
          "Return: 32.195%<br>Volatility: 0.129<br>Sharpe Ratio: 2.504<br>VZ_Close: Weight=0.115<br>GIS_Close: Weight=0.000<br>XOM_Close: Weight=0.000<br>UNH_Close: Weight=0.885",
          "Return: 33.120%<br>Volatility: 0.118<br>Sharpe Ratio: 2.807<br>BTI_Close: Weight=0.000<br>MSFT_Close: Weight=0.553<br>T_Close: Weight=0.000<br>ABT_Close: Weight=0.447",
          "Return: 51.519%<br>Volatility: 0.153<br>Sharpe Ratio: 3.358<br>BMY_Close: Weight=0.000<br>ADBE_Close: Weight=0.297<br>IBM_Close: Weight=0.000<br>ABBV_Close: Weight=0.703",
          "Return: 33.794%<br>Volatility: 0.117<br>Sharpe Ratio: 2.897<br>DUK_Close: Weight=0.210<br>MSFT_Close: Weight=0.436<br>ISRG_Close: Weight=0.354<br>PM_Close: Weight=0.000",
          "Return: 30.379%<br>Volatility: 0.112<br>Sharpe Ratio: 2.716<br>JPM_Close: Weight=0.171<br>MO_Close: Weight=0.000<br>UNH_Close: Weight=0.630<br>AAPL_Close: Weight=0.200",
          "Return: 33.332%<br>Volatility: 0.107<br>Sharpe Ratio: 3.123<br>HON_Close: Weight=0.550<br>NVDA_Close: Weight=0.133<br>MMM_Close: Weight=0.317<br>WFC_Close: Weight=0.000",
          "Return: 34.140%<br>Volatility: 0.119<br>Sharpe Ratio: 2.865<br>K_Close: Weight=0.000<br>MCD_Close: Weight=0.789<br>TMO_Close: Weight=0.211",
          "Return: 15.364%<br>Volatility: 0.109<br>Sharpe Ratio: 1.411<br>EMR_Close: Weight=0.548<br>NKE_Close: Weight=0.096<br>DHR_Close: Weight=0.356",
          "Return: 35.471%<br>Volatility: 0.111<br>Sharpe Ratio: 3.197<br>NEE_Close: Weight=0.687<br>MDT_Close: Weight=0.000<br>BABA_Close: Weight=0.313",
          "Return: 25.631%<br>Volatility: 0.117<br>Sharpe Ratio: 2.187<br>MS_Close: Weight=0.132<br>TMO_Close: Weight=0.207<br>GIS_Close: Weight=0.000<br>ABT_Close: Weight=0.661",
          "Return: 30.835%<br>Volatility: 0.106<br>Sharpe Ratio: 2.905<br>GOOGL_Close: Weight=0.300<br>NFLX_Close: Weight=0.067<br>HD_Close: Weight=0.633<br>WFC_Close: Weight=0.000",
          "Return: 12.944%<br>Volatility: 0.087<br>Sharpe Ratio: 1.488<br>F_Close: Weight=0.135<br>AEP_Close: Weight=0.828<br>AMGN_Close: Weight=0.000<br>REGN_Close: Weight=0.038",
          "Return: 29.506%<br>Volatility: 0.153<br>Sharpe Ratio: 1.929<br>CMCSA_Close: Weight=0.127<br>AMZN_Close: Weight=0.683<br>NKE_Close: Weight=0.190",
          "Return: 48.631%<br>Volatility: 0.139<br>Sharpe Ratio: 3.496<br>JPM_Close: Weight=0.145<br>COST_Close: Weight=0.063<br>RTX_Close: Weight=0.050<br>BA_Close: Weight=0.742",
          "Return: 16.831%<br>Volatility: 0.196<br>Sharpe Ratio: 0.858<br>GE_Close: Weight=0.000<br>GIS_Close: Weight=0.000<br>MS_Close: Weight=1.000",
          "Return: 64.109%<br>Volatility: 0.311<br>Sharpe Ratio: 2.061<br>NVDA_Close: Weight=0.798<br>DIS_Close: Weight=0.202<br>F_Close: Weight=0.000<br>ZBH_Close: Weight=0.000",
          "Return: 30.481%<br>Volatility: 0.098<br>Sharpe Ratio: 3.104<br>BAC_Close: Weight=0.078<br>SYY_Close: Weight=0.179<br>CRM_Close: Weight=0.199<br>MCD_Close: Weight=0.544",
          "Return: 6.515%<br>Volatility: 0.100<br>Sharpe Ratio: 0.651<br>PM_Close: Weight=0.009<br>NKE_Close: Weight=0.306<br>WFC_Close: Weight=0.227<br>XOM_Close: Weight=0.458",
          "Return: 35.267%<br>Volatility: 0.176<br>Sharpe Ratio: 2.004<br>VRTX_Close: Weight=0.345<br>TMO_Close: Weight=0.655<br>CPB_Close: Weight=0.000",
          "Return: 17.464%<br>Volatility: 0.169<br>Sharpe Ratio: 1.036<br>WFC_Close: Weight=0.208<br>RMD_Close: Weight=0.792<br>KR_Close: Weight=0.000",
          "Return: 33.955%<br>Volatility: 0.143<br>Sharpe Ratio: 2.378<br>GOOGL_Close: Weight=0.262<br>GILD_Close: Weight=0.006<br>TXN_Close: Weight=0.731",
          "Return: 25.067%<br>Volatility: 0.102<br>Sharpe Ratio: 2.467<br>ZBH_Close: Weight=0.000<br>DHR_Close: Weight=0.000<br>HON_Close: Weight=1.000",
          "Return: 31.433%<br>Volatility: 0.119<br>Sharpe Ratio: 2.649<br>BTI_Close: Weight=0.060<br>WMT_Close: Weight=0.568<br>RTX_Close: Weight=0.373<br>GILD_Close: Weight=0.000",
          "Return: 36.562%<br>Volatility: 0.099<br>Sharpe Ratio: 3.688<br>PEP_Close: Weight=0.228<br>CAT_Close: Weight=0.438<br>JNJ_Close: Weight=0.315<br>COST_Close: Weight=0.019",
          "Return: 25.308%<br>Volatility: 0.105<br>Sharpe Ratio: 2.410<br>GOOGL_Close: Weight=0.350<br>LLY_Close: Weight=0.000<br>PFE_Close: Weight=0.121<br>ABT_Close: Weight=0.530",
          "Return: 47.076%<br>Volatility: 0.117<br>Sharpe Ratio: 4.029<br>SO_Close: Weight=0.000<br>HD_Close: Weight=0.460<br>PM_Close: Weight=0.000<br>BA_Close: Weight=0.540",
          "Return: 29.198%<br>Volatility: 0.093<br>Sharpe Ratio: 3.138<br>UNH_Close: Weight=0.379<br>HON_Close: Weight=0.468<br>GOOG_Close: Weight=0.154",
          "Return: 17.145%<br>Volatility: 0.115<br>Sharpe Ratio: 1.487<br>RMD_Close: Weight=0.295<br>PG_Close: Weight=0.194<br>EMR_Close: Weight=0.511",
          "Return: 26.292%<br>Volatility: 0.079<br>Sharpe Ratio: 3.312<br>JPM_Close: Weight=0.229<br>K_Close: Weight=0.000<br>TXN_Close: Weight=0.263<br>NEE_Close: Weight=0.508",
          "Return: 17.340%<br>Volatility: 0.103<br>Sharpe Ratio: 1.683<br>EW_Close: Weight=0.168<br>ORCL_Close: Weight=0.149<br>JNJ_Close: Weight=0.683",
          "Return: 12.946%<br>Volatility: 0.126<br>Sharpe Ratio: 1.024<br>ETN_Close: Weight=0.680<br>IBM_Close: Weight=0.000<br>KR_Close: Weight=0.000<br>COST_Close: Weight=0.320",
          "Return: 32.450%<br>Volatility: 0.099<br>Sharpe Ratio: 3.292<br>UA_Close: Weight=0.000<br>ACN_Close: Weight=0.375<br>SYK_Close: Weight=0.079<br>MCD_Close: Weight=0.546",
          "Return: 27.065%<br>Volatility: 0.103<br>Sharpe Ratio: 2.636<br>VZ_Close: Weight=0.211<br>V_Close: Weight=0.757<br>NFLX_Close: Weight=0.032<br>IBM_Close: Weight=0.000",
          "Return: 43.398%<br>Volatility: 0.138<br>Sharpe Ratio: 3.155<br>RTX_Close: Weight=0.287<br>MO_Close: Weight=0.000<br>KR_Close: Weight=0.000<br>ABBV_Close: Weight=0.713",
          "Return: 18.542%<br>Volatility: 0.105<br>Sharpe Ratio: 1.771<br>AAPL_Close: Weight=0.421<br>EXC_Close: Weight=0.420<br>COST_Close: Weight=0.098<br>TSLA_Close: Weight=0.061",
          "Return: 46.265%<br>Volatility: 0.131<br>Sharpe Ratio: 3.525<br>BA_Close: Weight=0.715<br>EXC_Close: Weight=0.240<br>GM_Close: Weight=0.045",
          "Return: 15.799%<br>Volatility: 0.192<br>Sharpe Ratio: 0.823<br>TSLA_Close: Weight=0.475<br>WFC_Close: Weight=0.525<br>MO_Close: Weight=0.000<br>F_Close: Weight=0.000",
          "Return: 55.632%<br>Volatility: 0.162<br>Sharpe Ratio: 3.430<br>BMY_Close: Weight=0.081<br>IBM_Close: Weight=0.000<br>BA_Close: Weight=0.919",
          "Return: 20.544%<br>Volatility: 0.075<br>Sharpe Ratio: 2.741<br>KO_Close: Weight=0.382<br>DHR_Close: Weight=0.000<br>HON_Close: Weight=0.618",
          "Return: 39.142%<br>Volatility: 0.118<br>Sharpe Ratio: 3.322<br>RMD_Close: Weight=0.036<br>MA_Close: Weight=0.558<br>WMT_Close: Weight=0.406",
          "Return: 26.306%<br>Volatility: 0.101<br>Sharpe Ratio: 2.600<br>EXC_Close: Weight=0.201<br>V_Close: Weight=0.685<br>SAP_Close: Weight=0.114",
          "Return: 17.436%<br>Volatility: 0.083<br>Sharpe Ratio: 2.107<br>NFLX_Close: Weight=0.177<br>BMY_Close: Weight=0.126<br>KO_Close: Weight=0.697<br>DIS_Close: Weight=0.000",
          "Return: 21.870%<br>Volatility: 0.130<br>Sharpe Ratio: 1.683<br>T_Close: Weight=0.000<br>QCOM_Close: Weight=0.141<br>SAP_Close: Weight=0.859",
          "Return: 46.445%<br>Volatility: 0.151<br>Sharpe Ratio: 3.084<br>BIIB_Close: Weight=0.000<br>ABBV_Close: Weight=0.811<br>ETN_Close: Weight=0.189",
          "Return: 22.612%<br>Volatility: 0.106<br>Sharpe Ratio: 2.123<br>NEE_Close: Weight=0.932<br>MDT_Close: Weight=0.000<br>BIIB_Close: Weight=0.068",
          "Return: 59.541%<br>Volatility: 0.174<br>Sharpe Ratio: 3.416<br>CPB_Close: Weight=0.000<br>BA_Close: Weight=1.000<br>IBM_Close: Weight=0.000",
          "Return: 32.169%<br>Volatility: 0.123<br>Sharpe Ratio: 2.617<br>PFE_Close: Weight=0.248<br>GOOGL_Close: Weight=0.248<br>ISRG_Close: Weight=0.504",
          "Return: 32.658%<br>Volatility: 0.097<br>Sharpe Ratio: 3.364<br>HD_Close: Weight=0.482<br>GOOGL_Close: Weight=0.038<br>VZ_Close: Weight=0.062<br>MSFT_Close: Weight=0.417",
          "Return: 31.990%<br>Volatility: 0.082<br>Sharpe Ratio: 3.903<br>HD_Close: Weight=0.360<br>BABA_Close: Weight=0.188<br>PEP_Close: Weight=0.195<br>LMT_Close: Weight=0.258",
          "Return: 30.418%<br>Volatility: 0.123<br>Sharpe Ratio: 2.479<br>CRM_Close: Weight=0.206<br>SYY_Close: Weight=0.416<br>ADBE_Close: Weight=0.378<br>REGN_Close: Weight=0.000",
          "Return: 29.175%<br>Volatility: 0.116<br>Sharpe Ratio: 2.526<br>SAP_Close: Weight=0.155<br>GOOGL_Close: Weight=0.091<br>V_Close: Weight=0.754",
          "Return: 30.893%<br>Volatility: 0.102<br>Sharpe Ratio: 3.039<br>CSCO_Close: Weight=0.029<br>ACN_Close: Weight=0.432<br>UNH_Close: Weight=0.523<br>EW_Close: Weight=0.016",
          "Return: 34.817%<br>Volatility: 0.141<br>Sharpe Ratio: 2.475<br>WFC_Close: Weight=0.000<br>UNH_Close: Weight=0.997<br>F_Close: Weight=0.000<br>LLY_Close: Weight=0.003",
          "Return: 19.655%<br>Volatility: 0.124<br>Sharpe Ratio: 1.582<br>ETN_Close: Weight=0.298<br>COST_Close: Weight=0.146<br>SNAP_Close: Weight=0.000<br>AAPL_Close: Weight=0.555",
          "Return: 16.124%<br>Volatility: 0.083<br>Sharpe Ratio: 1.936<br>EMR_Close: Weight=0.346<br>PEP_Close: Weight=0.595<br>ZBH_Close: Weight=0.000<br>TSLA_Close: Weight=0.059",
          "Return: 22.974%<br>Volatility: 0.084<br>Sharpe Ratio: 2.732<br>IBM_Close: Weight=0.000<br>KO_Close: Weight=0.454<br>HD_Close: Weight=0.513<br>BIIB_Close: Weight=0.033",
          "Return: 36.920%<br>Volatility: 0.115<br>Sharpe Ratio: 3.208<br>PYPL_Close: Weight=0.431<br>SYY_Close: Weight=0.249<br>SO_Close: Weight=0.000<br>PEP_Close: Weight=0.320",
          "Return: 59.607%<br>Volatility: 0.139<br>Sharpe Ratio: 4.303<br>CAT_Close: Weight=0.431<br>COST_Close: Weight=0.039<br>BA_Close: Weight=0.529",
          "Return: 14.057%<br>Volatility: 0.076<br>Sharpe Ratio: 1.843<br>WFC_Close: Weight=0.097<br>EW_Close: Weight=0.158<br>PM_Close: Weight=0.000<br>KO_Close: Weight=0.745",
          "Return: 36.823%<br>Volatility: 0.115<br>Sharpe Ratio: 3.196<br>ADBE_Close: Weight=0.334<br>HD_Close: Weight=0.666<br>MDT_Close: Weight=0.000",
          "Return: 31.800%<br>Volatility: 0.119<br>Sharpe Ratio: 2.676<br>JPM_Close: Weight=0.250<br>INTC_Close: Weight=0.176<br>MSFT_Close: Weight=0.574<br>BAC_Close: Weight=0.000",
          "Return: 38.129%<br>Volatility: 0.202<br>Sharpe Ratio: 1.884<br>KR_Close: Weight=0.000<br>VRTX_Close: Weight=0.361<br>AAPL_Close: Weight=0.639",
          "Return: 29.410%<br>Volatility: 0.098<br>Sharpe Ratio: 3.000<br>AMZN_Close: Weight=0.215<br>AEP_Close: Weight=0.309<br>EW_Close: Weight=0.013<br>UNH_Close: Weight=0.464",
          "Return: 48.554%<br>Volatility: 0.219<br>Sharpe Ratio: 2.217<br>NVDA_Close: Weight=0.415<br>GIS_Close: Weight=0.000<br>GOOGL_Close: Weight=0.585",
          "Return: 49.193%<br>Volatility: 0.132<br>Sharpe Ratio: 3.736<br>GM_Close: Weight=0.000<br>TXN_Close: Weight=0.260<br>BA_Close: Weight=0.606<br>GOOGL_Close: Weight=0.134",
          "Return: 19.899%<br>Volatility: 0.094<br>Sharpe Ratio: 2.109<br>GOOG_Close: Weight=0.343<br>AAPL_Close: Weight=0.169<br>GILD_Close: Weight=0.006<br>PEP_Close: Weight=0.482",
          "Return: 27.916%<br>Volatility: 0.134<br>Sharpe Ratio: 2.081<br>INTC_Close: Weight=0.554<br>EW_Close: Weight=0.169<br>SYK_Close: Weight=0.276",
          "Return: 26.595%<br>Volatility: 0.129<br>Sharpe Ratio: 2.060<br>ACN_Close: Weight=0.967<br>K_Close: Weight=0.000<br>LLY_Close: Weight=0.033",
          "Return: 41.110%<br>Volatility: 0.173<br>Sharpe Ratio: 2.379<br>WMT_Close: Weight=0.941<br>BIIB_Close: Weight=0.059<br>REGN_Close: Weight=0.000",
          "Return: 23.795%<br>Volatility: 0.103<br>Sharpe Ratio: 2.300<br>LMT_Close: Weight=0.859<br>BAC_Close: Weight=0.141<br>PM_Close: Weight=0.000",
          "Return: 27.156%<br>Volatility: 0.092<br>Sharpe Ratio: 2.954<br>DUK_Close: Weight=0.133<br>LMT_Close: Weight=0.373<br>MA_Close: Weight=0.432<br>MS_Close: Weight=0.062",
          "Return: 40.499%<br>Volatility: 0.104<br>Sharpe Ratio: 3.878<br>SO_Close: Weight=0.067<br>BABA_Close: Weight=0.240<br>HD_Close: Weight=0.431<br>DE_Close: Weight=0.262",
          "Return: 11.154%<br>Volatility: 0.191<br>Sharpe Ratio: 0.584<br>IBM_Close: Weight=0.000<br>AMD_Close: Weight=0.000<br>BSX_Close: Weight=0.000<br>BTI_Close: Weight=1.000",
          "Return: 31.740%<br>Volatility: 0.125<br>Sharpe Ratio: 2.539<br>TSLA_Close: Weight=0.112<br>HD_Close: Weight=0.888<br>WFC_Close: Weight=0.000",
          "Return: 24.672%<br>Volatility: 0.089<br>Sharpe Ratio: 2.775<br>MMM_Close: Weight=0.433<br>NKE_Close: Weight=0.055<br>GILD_Close: Weight=0.000<br>NEE_Close: Weight=0.512",
          "Return: 39.344%<br>Volatility: 0.114<br>Sharpe Ratio: 3.440<br>WMT_Close: Weight=0.402<br>MSFT_Close: Weight=0.415<br>TXN_Close: Weight=0.183",
          "Return: 39.759%<br>Volatility: 0.105<br>Sharpe Ratio: 3.781<br>BSX_Close: Weight=0.000<br>AEP_Close: Weight=0.282<br>BA_Close: Weight=0.490<br>GOOG_Close: Weight=0.228",
          "Return: 42.649%<br>Volatility: 0.135<br>Sharpe Ratio: 3.170<br>WMT_Close: Weight=0.514<br>SAP_Close: Weight=0.321<br>NVDA_Close: Weight=0.165",
          "Return: 20.476%<br>Volatility: 0.082<br>Sharpe Ratio: 2.484<br>GILD_Close: Weight=0.000<br>KO_Close: Weight=0.502<br>RDY_Close: Weight=0.000<br>MMM_Close: Weight=0.498",
          "Return: 5.321%<br>Volatility: 0.189<br>Sharpe Ratio: 0.281<br>AMD_Close: Weight=0.000<br>IBM_Close: Weight=0.000<br>GILD_Close: Weight=1.000<br>MO_Close: Weight=0.000",
          "Return: 54.051%<br>Volatility: 0.179<br>Sharpe Ratio: 3.026<br>ABBV_Close: Weight=1.000<br>KR_Close: Weight=0.000<br>SRE_Close: Weight=0.000",
          "Return: 6.484%<br>Volatility: 0.171<br>Sharpe Ratio: 0.380<br>AMGN_Close: Weight=0.000<br>WFC_Close: Weight=1.000<br>IBM_Close: Weight=0.000",
          "Return: 23.412%<br>Volatility: 0.118<br>Sharpe Ratio: 1.978<br>NKE_Close: Weight=0.119<br>RMD_Close: Weight=0.138<br>GOOG_Close: Weight=0.533<br>SYK_Close: Weight=0.211",
          "Return: 12.257%<br>Volatility: 0.114<br>Sharpe Ratio: 1.078<br>PM_Close: Weight=0.000<br>EXC_Close: Weight=0.739<br>COST_Close: Weight=0.261",
          "Return: 28.818%<br>Volatility: 0.107<br>Sharpe Ratio: 2.705<br>SAP_Close: Weight=0.361<br>HD_Close: Weight=0.639<br>UA_Close: Weight=0.000<br>SO_Close: Weight=0.000",
          "Return: 14.822%<br>Volatility: 0.103<br>Sharpe Ratio: 1.437<br>AEP_Close: Weight=0.870<br>PG_Close: Weight=0.000<br>EXC_Close: Weight=0.130",
          "Return: 15.491%<br>Volatility: 0.106<br>Sharpe Ratio: 1.463<br>CMCSA_Close: Weight=0.124<br>RTX_Close: Weight=0.627<br>K_Close: Weight=0.000<br>GM_Close: Weight=0.248",
          "Return: 48.874%<br>Volatility: 0.171<br>Sharpe Ratio: 2.865<br>PYPL_Close: Weight=0.709<br>CPB_Close: Weight=0.000<br>LLY_Close: Weight=0.000<br>PFE_Close: Weight=0.291",
          "Return: 20.848%<br>Volatility: 0.078<br>Sharpe Ratio: 2.685<br>NEE_Close: Weight=0.634<br>CVX_Close: Weight=0.173<br>MS_Close: Weight=0.193",
          "Return: 36.702%<br>Volatility: 0.150<br>Sharpe Ratio: 2.453<br>WMT_Close: Weight=0.764<br>T_Close: Weight=0.000<br>CSCO_Close: Weight=0.236",
          "Return: 42.540%<br>Volatility: 0.137<br>Sharpe Ratio: 3.109<br>COST_Close: Weight=0.102<br>ABBV_Close: Weight=0.726<br>EXC_Close: Weight=0.173",
          "Return: 24.689%<br>Volatility: 0.101<br>Sharpe Ratio: 2.449<br>IBM_Close: Weight=0.000<br>LMT_Close: Weight=0.707<br>CRM_Close: Weight=0.293",
          "Return: 28.123%<br>Volatility: 0.112<br>Sharpe Ratio: 2.513<br>EXC_Close: Weight=0.196<br>PG_Close: Weight=0.119<br>MSFT_Close: Weight=0.686",
          "Return: 54.051%<br>Volatility: 0.179<br>Sharpe Ratio: 3.026<br>SRE_Close: Weight=0.000<br>LLY_Close: Weight=0.000<br>UA_Close: Weight=0.000<br>ABBV_Close: Weight=1.000",
          "Return: 29.081%<br>Volatility: 0.164<br>Sharpe Ratio: 1.778<br>ETN_Close: Weight=0.400<br>XOM_Close: Weight=0.230<br>VRTX_Close: Weight=0.370",
          "Return: 23.292%<br>Volatility: 0.080<br>Sharpe Ratio: 2.897<br>DIS_Close: Weight=0.027<br>LMT_Close: Weight=0.504<br>NEE_Close: Weight=0.470",
          "Return: 18.289%<br>Volatility: 0.138<br>Sharpe Ratio: 1.323<br>COST_Close: Weight=0.187<br>IBM_Close: Weight=0.000<br>JPM_Close: Weight=0.813",
          "Return: 22.802%<br>Volatility: 0.103<br>Sharpe Ratio: 2.209<br>GOOG_Close: Weight=0.219<br>AMGN_Close: Weight=0.000<br>AMZN_Close: Weight=0.264<br>PEP_Close: Weight=0.517",
          "Return: 31.218%<br>Volatility: 0.090<br>Sharpe Ratio: 3.471<br>DE_Close: Weight=0.292<br>BIIB_Close: Weight=0.000<br>MA_Close: Weight=0.358<br>KO_Close: Weight=0.351",
          "Return: 17.104%<br>Volatility: 0.100<br>Sharpe Ratio: 1.711<br>MO_Close: Weight=0.000<br>DUK_Close: Weight=0.326<br>KR_Close: Weight=0.000<br>SAP_Close: Weight=0.674",
          "Return: 16.819%<br>Volatility: 0.158<br>Sharpe Ratio: 1.065<br>RDY_Close: Weight=0.000<br>REGN_Close: Weight=0.000<br>ETN_Close: Weight=0.752<br>TSLA_Close: Weight=0.248",
          "Return: 24.537%<br>Volatility: 0.115<br>Sharpe Ratio: 2.135<br>ACN_Close: Weight=0.794<br>COST_Close: Weight=0.060<br>GM_Close: Weight=0.146",
          "Return: 14.338%<br>Volatility: 0.122<br>Sharpe Ratio: 1.174<br>SNAP_Close: Weight=0.000<br>PG_Close: Weight=0.187<br>RMD_Close: Weight=0.486<br>VZ_Close: Weight=0.327",
          "Return: 35.003%<br>Volatility: 0.123<br>Sharpe Ratio: 2.835<br>ZBH_Close: Weight=0.000<br>BAC_Close: Weight=0.146<br>MCD_Close: Weight=0.854",
          "Return: 16.277%<br>Volatility: 0.130<br>Sharpe Ratio: 1.249<br>WFC_Close: Weight=0.067<br>T_Close: Weight=0.000<br>RTX_Close: Weight=0.933",
          "Return: 23.350%<br>Volatility: 0.096<br>Sharpe Ratio: 2.438<br>LMT_Close: Weight=0.707<br>TSLA_Close: Weight=0.059<br>EMR_Close: Weight=0.198<br>CSCO_Close: Weight=0.037",
          "Return: 48.768%<br>Volatility: 0.179<br>Sharpe Ratio: 2.730<br>VRTX_Close: Weight=0.201<br>TXN_Close: Weight=0.599<br>NVDA_Close: Weight=0.165<br>GOOGL_Close: Weight=0.035",
          "Return: 41.654%<br>Volatility: 0.114<br>Sharpe Ratio: 3.639<br>UNH_Close: Weight=0.474<br>PYPL_Close: Weight=0.351<br>EXC_Close: Weight=0.175",
          "Return: 39.736%<br>Volatility: 0.136<br>Sharpe Ratio: 2.932<br>BABA_Close: Weight=0.363<br>ACN_Close: Weight=0.633<br>BTI_Close: Weight=0.003<br>AMD_Close: Weight=0.000",
          "Return: 45.672%<br>Volatility: 0.149<br>Sharpe Ratio: 3.075<br>ABBV_Close: Weight=0.798<br>LLY_Close: Weight=0.000<br>GE_Close: Weight=0.000<br>EXC_Close: Weight=0.202",
          "Return: 54.797%<br>Volatility: 0.155<br>Sharpe Ratio: 3.539<br>SYK_Close: Weight=0.057<br>CAT_Close: Weight=0.674<br>AMZN_Close: Weight=0.269",
          "Return: 25.820%<br>Volatility: 0.089<br>Sharpe Ratio: 2.904<br>HD_Close: Weight=0.510<br>XOM_Close: Weight=0.021<br>CRM_Close: Weight=0.300<br>PFE_Close: Weight=0.169",
          "Return: 44.653%<br>Volatility: 0.123<br>Sharpe Ratio: 3.637<br>LMT_Close: Weight=0.383<br>SO_Close: Weight=0.000<br>QCOM_Close: Weight=0.035<br>BA_Close: Weight=0.582",
          "Return: 41.625%<br>Volatility: 0.164<br>Sharpe Ratio: 2.545<br>BTI_Close: Weight=0.103<br>REGN_Close: Weight=0.000<br>DE_Close: Weight=0.897",
          "Return: 46.499%<br>Volatility: 0.222<br>Sharpe Ratio: 2.092<br>NVDA_Close: Weight=0.554<br>PG_Close: Weight=0.446<br>PM_Close: Weight=0.000<br>SNAP_Close: Weight=0.000",
          "Return: 27.055%<br>Volatility: 0.101<br>Sharpe Ratio: 2.683<br>ACN_Close: Weight=0.468<br>ETN_Close: Weight=0.037<br>MMM_Close: Weight=0.495"
         ],
         "type": "scatter",
         "x": [
          0.08853657058974435,
          0.1480336758403039,
          0.10692189913944534,
          0.1335729132870135,
          0.1303781137061775,
          0.08158956676881858,
          0.14930606482908024,
          0.1663714278220033,
          0.1388985602327423,
          0.14945992056573104,
          0.11619487804696782,
          0.14580879630686838,
          0.10597493799099358,
          0.12148980987246577,
          0.15475718792990453,
          0.11354014894434451,
          0.1476236666425054,
          0.11065629703661721,
          0.1785574455713808,
          0.14413320998707913,
          0.09855064378685946,
          0.11425295802665861,
          0.13576034370754242,
          0.12433801837701644,
          0.1464735281165543,
          0.17727429337002124,
          0.19069591774607755,
          0.11381147963316812,
          0.08636015668092083,
          0.11603438272283859,
          0.15412348439302082,
          0.09478442946697975,
          0.17862442005935564,
          0.10722411413450308,
          0.14133855257036296,
          0.1067504273596987,
          0.11035100536927694,
          0.09295368862035845,
          0.11702746579107995,
          0.09596054195887921,
          0.13840929532718677,
          0.157774766443911,
          0.11550446844355626,
          0.11336384125120898,
          0.1347646375713137,
          0.11554544923821831,
          0.11613790162380755,
          0.13810642836466977,
          0.14107746465162757,
          0.07200564027713656,
          0.08575206014511842,
          0.10051847520399161,
          0.15580010350335322,
          0.11426200190390053,
          0.11197236224476974,
          0.10609491218205155,
          0.211280521489631,
          0.08636015668092083,
          0.10627334970721106,
          0.13465027776300792,
          0.15178962539653262,
          0.1516561979284151,
          0.13846880229995392,
          0.21521262454810328,
          0.18189040632896206,
          0.12880809901508328,
          0.09091365700759889,
          0.08365213160978471,
          0.11888811340118534,
          0.12014913801372114,
          0.11177010658989767,
          0.13516885194052203,
          0.10086394262868681,
          0.13804097465962,
          0.13890038301512597,
          0.14336807120733686,
          0.20156435936113185,
          0.07022924210186733,
          0.13174300256087512,
          0.08962721953906234,
          0.1640009893307213,
          0.16261667302354404,
          0.10737924124713356,
          0.08875179206630555,
          0.13255831424042763,
          0.1574346426223219,
          0.09655688843704964,
          0.1408963445573629,
          0.14766747758128243,
          0.15725652088526076,
          0.09719546092375958,
          0.1419276431652517,
          0.07212610758150229,
          0.18932194952202547,
          0.15009097166335642,
          0.17174544535548847,
          0.11033261960712136,
          0.08086151665080872,
          0.10500231779431331,
          0.0888436916723406,
          0.11360146407609033,
          0.12295615560331763,
          0.15966164790731555,
          0.20077020423944178,
          0.1692665841989366,
          0.09345728020999627,
          0.1559030550938213,
          0.09472985414031966,
          0.09675175580654345,
          0.13305032431140673,
          0.09734577848392185,
          0.09601558112820223,
          0.09204606281110449,
          0.11590609230418228,
          0.12760919174825067,
          0.09104691250729698,
          0.10981479369059075,
          0.1262508627754021,
          0.12757289566209642,
          0.10450341494811406,
          0.0990761275299868,
          0.17855744557138079,
          0.13420553008997527,
          0.1827273483584238,
          0.13469919260265803,
          0.11273697255332937,
          0.09802915502637193,
          0.14300059738599102,
          0.1311089487409862,
          0.10828847458487548,
          0.12540249949966437,
          0.08216445405857999,
          0.12024078022806857,
          0.12534194272173407,
          0.11628286673251406,
          0.15858425683668642,
          0.10328137000109222,
          0.09880104318563505,
          0.14101022637425784,
          0.09591337891785547,
          0.13072453124446667,
          0.1060974843825855,
          0.08541387593442365,
          0.12966392134630045,
          0.09588754927490678,
          0.11146763456515031,
          0.10536338306874367,
          0.1454549318428267,
          0.08123419861451878,
          0.1418167337188857,
          0.15829294429110835,
          0.13434738410426597,
          0.10631772374659565,
          0.09343144530483652,
          0.13060344425059767,
          0.1297456067599505,
          0.11889951954153136,
          0.12589114349115943,
          0.15259071874061372,
          0.20353562292918964,
          0.1410872850250167,
          0.10900367902632602,
          0.08043817460532608,
          0.19191951402490406,
          0.11373108283107461,
          0.08721580203497031,
          0.09333951237737108,
          0.11373930017797047,
          0.09053003966446278,
          0.09049407952801183,
          0.16079353409977323,
          0.09630623310010372,
          0.11819305504451172,
          0.10677261182761175,
          0.1357844580029061,
          0.07933781513121453,
          0.09926384171299342,
          0.1206766741431402,
          0.15858778732915224,
          0.12660439586035271,
          0.18345595082364521,
          0.1622226680502025,
          0.08620261172763004,
          0.11612262914955394,
          0.10860468449102213,
          0.15674169544622915,
          0.09671437415908869,
          0.14677538768832135,
          0.17771802056744937,
          0.12754488000848535,
          0.10068523577954934,
          0.1287274584672389,
          0.12107732278167571,
          0.1314557572811337,
          0.1086957186353175,
          0.08879776567513357,
          0.15041703933109626,
          0.10824801784608351,
          0.10153571575469897,
          0.12607654560010553,
          0.13415531283324883,
          0.12002416179215934,
          0.07974910589026667,
          0.1012901640609008,
          0.18112228479877332,
          0.11024414760293155,
          0.09566930953812709,
          0.11296377494262197,
          0.2068191042401264,
          0.17347454297133133,
          0.13281997135226192,
          0.32442656506244655,
          0.09316625849189561,
          0.13748393740770307,
          0.11413716522098079,
          0.10609599848196821,
          0.14421548501487289,
          0.14108728456716324,
          0.11984264405210214,
          0.09718356452489191,
          0.1693729461443973,
          0.1068738921827089,
          0.09129222554905246,
          0.06932811114897752,
          0.12650493070426286,
          0.11715312955638282,
          0.15834040587224826,
          0.09904762379788737,
          0.16984062484533738,
          0.10548470123685946,
          0.10871491452121841,
          0.09253933472226243,
          0.20713962172543152,
          0.11312141754301064,
          0.1255418993443179,
          0.09188822264828987,
          0.14641517195701856,
          0.09704724933618149,
          0.08515109607751604,
          0.17535486171784823,
          0.11536633544160675,
          0.11494307932825511,
          0.13145575728111483,
          0.13460957566008588,
          0.09500331511698887,
          0.18488803501905307,
          0.10559948729907728,
          0.0903311571339303,
          0.11604541174711336,
          0.17569001781509339,
          0.16718441142029977,
          0.116693748609239,
          0.1413920199758283,
          0.10790671634560685,
          0.0903219989835019,
          0.21023040919796657,
          0.17597285403359558,
          0.12148701587209466,
          0.11859344035695157,
          0.18932194952202536,
          0.11346178228406209,
          0.11494096604554328,
          0.17430329504021794,
          0.09867316735843434,
          0.10347613780804539,
          0.1185153003251564,
          0.1297083835632986,
          0.12005214465084998,
          0.09461622388757421,
          0.1449106493063997,
          0.13709273365729308,
          0.12981304684103054,
          0.13198898790683689,
          0.13617905468432345,
          0.12486769660311703,
          0.10173161915080244,
          0.08074465255231457,
          0.10072969082267857,
          0.1328794211681362,
          0.07471220109840705,
          0.1321320921001068,
          0.11717376715025347,
          0.19773706785657974,
          0.15047222854529455,
          0.10504408188862846,
          0.10708808150905277,
          0.1116070979856718,
          0.17434653591249308,
          0.0883901936967062,
          0.09071970933489883,
          0.20077020423944172,
          0.17515598840712673,
          0.1601136391944413,
          0.16147210277053445,
          0.16821538835860592,
          0.1276385140986529,
          0.1227844103136021,
          0.18581876220732182,
          0.11160739915086922,
          0.09435124991373574,
          0.08022092237756451,
          0.1308406422449464,
          0.26733181031380543,
          0.10162056810875841,
          0.1311172511128003,
          0.11641479356872958,
          0.13098664126510018,
          0.13762396413650668,
          0.1786244200593559,
          0.12965173994826507,
          0.10318697826696722,
          0.1084955450297795,
          0.20077020423928785,
          0.38461079403811105,
          0.11851610731622796,
          0.15457021634153384,
          0.11871294120224384,
          0.1441672790272223,
          0.1188581050006059,
          0.10302662467038448,
          0.10396030195895063,
          0.09465869149306373,
          0.07819790567385088,
          0.14731527815310477,
          0.14854527753892854,
          0.1559702677922105,
          0.1760358150984428,
          0.12023826794640258,
          0.1016467556682322,
          0.11277404694696748,
          0.09391550147489842,
          0.10655217085973669,
          0.16114660978991377,
          0.12129925598518243,
          0.18997779384235866,
          0.14659275490357576,
          0.09243284552231251,
          0.09069470722033558,
          0.18027333964794884,
          0.10252848317271766,
          0.09961149124295322,
          0.1808272440469038,
          0.14777912054311176,
          0.12183988762575279,
          0.10067797581334302,
          0.139763625941229,
          0.09053756841597174,
          0.2831286390274947,
          0.1320284966485119,
          0.0988049284006824,
          0.08686206282258556,
          0.10251115358823032,
          0.13289294220221898,
          0.10122537032267392,
          0.0984324499963266,
          0.16693187919671698,
          0.10497330044529035,
          0.16052222459358656,
          0.19146421743294686,
          0.21844836621822186,
          0.1122525150953617,
          0.14450233390203893,
          0.08946969492308189,
          0.12043048587772019,
          0.18551264079978702,
          0.11850760716060765,
          0.14507399220967196,
          0.10042299962173024,
          0.15044149380310948,
          0.13214779660555365,
          0.08484237211193994,
          0.15176002902896502,
          0.10753234613606832,
          0.11211379261172977,
          0.15021561355560914,
          0.15349696935097448,
          0.06956291675533455,
          0.1797847002823007,
          0.09278556256108571,
          0.09181234387294208,
          0.19425528579328596,
          0.09251220111466599,
          0.12516555243987224,
          0.1016205681087582,
          0.14463905754240824,
          0.12879058822199624,
          0.13156672893127752,
          0.1254548670439768,
          0.0730697018152778,
          0.11781417718062434,
          0.09316659103872689,
          0.14466900225497784,
          0.10301114692547564,
          0.11648842922197707,
          0.10666346946459744,
          0.09688996011460324,
          0.12102901614774056,
          0.08640215016398121,
          0.20616947092644392,
          0.1127702798873736,
          0.149120708624743,
          0.08886730393814445,
          0.10937079806141832,
          0.11044754394628084,
          0.0829501442985546,
          0.09878833715275445,
          0.10546411126337221,
          0.1274085105936791,
          0.15967767108339043,
          0.10926630835759074,
          0.0759681271483309,
          0.07885981385252024,
          0.16046305249166726,
          0.13371656575620675,
          0.2388084846839902,
          0.08348592783437708,
          0.07822331437827128,
          0.0896869857933566,
          0.09689332183761484,
          0.1720611764282135,
          0.08662285066783804,
          0.10683452074761621,
          0.13452663460044223,
          0.1276804339635808,
          0.16460518584418396,
          0.08980635130935248,
          0.13275947652009573,
          0.15057651266357572,
          0.10860668012335123,
          0.11965679551610951,
          0.14301373522418986,
          0.09385913721325462,
          0.14528872053365302,
          0.08269069654358574,
          0.08661398003158524,
          0.07316675236851261,
          0.08411066701504602,
          0.11401456836874259,
          0.1763215611328886,
          0.17037997829141535,
          0.16295205932425763,
          0.08234917622644788,
          0.13564222933517886,
          0.15725652088526101,
          0.1635176843261823,
          0.1473738965884182,
          0.0985791636214514,
          0.13689616972487487,
          0.19046939601020582,
          0.12857083812112494,
          0.08925539567358352,
          0.09601396847948325,
          0.11248646627927154,
          0.09189953722935612,
          0.12230907719491824,
          0.11515770536319919,
          0.10422322325438077,
          0.1877849838217497,
          0.13646336654407284,
          0.15842205207814797,
          0.11022263932746337,
          0.0935167522446463,
          0.16933355938890995,
          0.1311172511128003,
          0.11585390461619449,
          0.09886415564947582,
          0.09008223618170935,
          0.157256520885261,
          0.14413320998707913,
          0.11798429861320683,
          0.11989843582045182,
          0.11913220903679336,
          0.18157069613692597,
          0.11832824533798666,
          0.11440314117288077,
          0.11950159837338657,
          0.11501858938064131,
          0.16147210277053448,
          0.13794711032470813,
          0.08330895748736074,
          0.19452506743933493,
          0.13863293991324122,
          0.11895986490003677,
          0.09424103181370601,
          0.19389903253341537,
          0.10310236429637912,
          0.1251246209887206,
          0.0847011718413549,
          0.1311370711347972,
          0.13002547824907112,
          0.13700818307966955,
          0.09513484077377407,
          0.1236066347576976,
          0.16147210277053448,
          0.15250855916478698,
          0.13131362588119797,
          0.16757517034354,
          0.09602751920099617,
          0.09447303523929042,
          0.10301224097424022,
          0.10939326571786463,
          0.15636017789064607,
          0.1769474002528013,
          0.10838866307152337,
          0.2868595321810122,
          0.15464266172115906,
          0.07887222960935733,
          0.15460858038704964,
          0.27288235930259236,
          0.12624442818661769,
          0.34799050780374935,
          0.10217358056741856,
          0.1737638469326275,
          0.12947101043524398,
          0.17571014218729689,
          0.11510099642198635,
          0.12693213593148017,
          0.07213803918451997,
          0.11728771611718958,
          0.13837014238640744,
          0.15431082605045926,
          0.09904205111708195,
          0.12912712638830035,
          0.13444263177251217,
          0.08306431308122193,
          0.17094616703699506,
          0.14815582487106255,
          0.12776993151353963,
          0.13502374551895585,
          0.121759017657332,
          0.17930471172064733,
          0.130519798602865,
          0.09894523532490465,
          0.1466597095748062,
          0.1383655621100527,
          0.17862442005935592,
          0.14101022637425784,
          0.1652725888695783,
          0.1376331161330194,
          0.13348269211386055,
          0.08137046453791251,
          0.11678433334758354,
          0.15255015994877907,
          0.13068997168663488,
          0.15498806639017235,
          0.07490713288702143,
          0.14577254142383517,
          0.20936623061946674,
          0.09802915502637179,
          0.0749420804420324,
          0.09802915502635995,
          0.1085772186835721,
          0.1502343586819999,
          0.13602919561255875,
          0.11475415181014899,
          0.09093699911744704,
          0.12384159169008604,
          0.11747107480490712,
          0.11665150286810226,
          0.12922824401806957,
          0.21123831813084237,
          0.12355798188242449,
          0.09630462610341887,
          0.13072429803617705,
          0.16364442416160793,
          0.09152569350781795,
          0.15968408873911513,
          0.10331644776765106,
          0.1027666637539863,
          0.16558463962817122,
          0.07134028420906378,
          0.09189656147823047,
          0.22566069554843113,
          0.10393749202697779,
          0.13302430994701414,
          0.0802501857362953,
          0.10175227434935549,
          0.11580750448151444,
          0.13562741684993762,
          0.09640133143862013,
          0.08618959241417246,
          0.10261230678143551,
          0.24610496073399463,
          0.13597767773949523,
          0.09365417389544219,
          0.12224507435143461,
          0.17430329504021974,
          0.08974447184079518,
          0.15126171390452625,
          0.1256853585782815,
          0.09977597899797543,
          0.14966837511464243,
          0.09441241800535535,
          0.11177783185379772,
          0.1319889876609847,
          0.08508045206154229,
          0.1568801049997407,
          0.10728254033980494,
          0.09492139915378224,
          0.1087062333983217,
          0.1102968231195068,
          0.15910895250205737,
          0.08189867876367773,
          0.12018038457434681,
          0.17547931434960629,
          0.19122207882254946,
          0.0983013599054415,
          0.09316243729442772,
          0.19723750961335357,
          0.1525391314909062,
          0.20493002872354052,
          0.14212265832682577,
          0.11304862856892589,
          0.1572565208852609,
          0.16267455622188529,
          0.12890337759830206,
          0.12361416436754134,
          0.14350722841130914,
          0.12130515892859016,
          0.11403455311531882,
          0.0869943636088118,
          0.08015330189027682,
          0.10864335841478992,
          0.08849413618848817,
          0.09951982367257255,
          0.12244817257218751,
          0.10100893676837001,
          0.10061819794775878,
          0.07243122169675337,
          0.1286319321625053,
          0.21130190020671202,
          0.16900381062060615,
          0.10386467444556989,
          0.07610807710137424,
          0.12129824331180758,
          0.14838896178900746,
          0.1773874083066114,
          0.12946262433520667,
          0.08696577569500293,
          0.13934818721496997,
          0.1359975725452389,
          0.11760882111495845,
          0.13915854881396372,
          0.09962469432275833,
          0.0756143584491974,
          0.08744300914151926,
          0.12381423558677482,
          0.09870832070301078,
          0.12366051153360205,
          0.13959032662355692,
          0.155359891096467,
          0.10029449351262922,
          0.12790908112873856,
          0.09486379849410728,
          0.10246450498949958,
          0.09458004722742892,
          0.091589438008936,
          0.10790159407023803,
          0.11615439927785988,
          0.09636930175770753,
          0.14300912394335996,
          0.12586497359276844,
          0.13272559643787624,
          0.1280606737819113,
          0.0893449980051155,
          0.11394788212415356,
          0.10148445512935488,
          0.11773623088918947,
          0.1382324551872674,
          0.09700066840905694,
          0.0886365316177298,
          0.11355241028744512,
          0.13646227618863732,
          0.12929327682745728,
          0.10421188905949294,
          0.1303060060958819,
          0.13284395314466424,
          0.1257025911847825,
          0.142221878752218,
          0.149087432447906,
          0.12876798109823923,
          0.1781934076255769,
          0.08928405292742461,
          0.09351454514001353,
          0.08186945501999593,
          0.11649089371291999,
          0.10026375853596864,
          0.16225505953160815,
          0.18404760077938553,
          0.11209872970672739,
          0.15127352252670268,
          0.12585625557682964,
          0.1415684923065164,
          0.10848667511378729,
          0.09712224962899672,
          0.14106785170715602,
          0.11716458685637893,
          0.1400286207611766,
          0.10927933377334594,
          0.11798197065021662,
          0.22710728125811666,
          0.14545414398325354,
          0.0742172183108942,
          0.11503458600592664,
          0.13018203204726267,
          0.1250535816379231,
          0.12823225047907671,
          0.2536112246770162,
          0.12839560033019698,
          0.16590520059434014,
          0.12091805181934612,
          0.09545752403146594,
          0.12931472082074588,
          0.14453498469844897,
          0.14147090944449936,
          0.09053650524345903,
          0.15354408293574714,
          0.1159110208203164,
          0.1195604199834556,
          0.13400691692159386,
          0.11020518799134388,
          0.2256606955493782,
          0.1236044175691207,
          0.1785574455713807,
          0.09971372681403701,
          0.1891321150877028,
          0.13284395314466346,
          0.147620808869783,
          0.10431675007351564,
          0.20590819551173156,
          0.12179805654870868,
          0.12012022045221865,
          0.10161533609712059,
          0.15604284585741707,
          0.10870890177797102,
          0.10235211918122483,
          0.12969214869131243,
          0.12598879299096494,
          0.1561555651235083,
          0.10610466519240229,
          0.18946506987660724,
          0.13743798377887706,
          0.10495794134696114,
          0.10834060561336695,
          0.16698094836511643,
          0.130252424766018,
          0.16295205932425763,
          0.13162261446724102,
          0.1402609034312002,
          0.17540526566690134,
          0.11982514897909505,
          0.10408780814031618,
          0.15332250856125326,
          0.08277049892354972,
          0.16274817401719724,
          0.13888529156463195,
          0.1788976708805617,
          0.1464648093734333,
          0.08487307178407223,
          0.19061844266011882,
          0.13034389646610886,
          0.09254697277154077,
          0.14029487651165426,
          0.16209202607372206,
          0.12280503508774117,
          0.1296954931307633,
          0.08622279714241667,
          0.15590509334708894,
          0.10287677000319288,
          0.1413131056883052,
          0.1589515963101745,
          0.103284554434629,
          0.15601933761881825,
          0.12196959134043221,
          0.1215272581249834,
          0.13204931491276667,
          0.17395954977638842,
          0.12825078141901786,
          0.13770547421776336,
          0.1277436084938917,
          0.13092388472513922,
          0.12598402608676862,
          0.1099119303078324,
          0.10238620598772724,
          0.07520857462507333,
          0.15303436245174365,
          0.11835814598771252,
          0.14119435604460567,
          0.3586440729747569,
          0.11999703031160389,
          0.10715664909660776,
          0.24997311080218204,
          0.13967062447168463,
          0.1514782685443756,
          0.07864077443218913,
          0.09386193176189014,
          0.19206605610527824,
          0.12473800969798787,
          0.10058459623929526,
          0.08862749600391623,
          0.09802915502636822,
          0.12774467434363007,
          0.10855102162614738,
          0.20285868438043358,
          0.1803883591145926,
          0.15966595466913688,
          0.14265106389002255,
          0.12750265486379903,
          0.32488096422113505,
          0.09615112747952072,
          0.09507506209328041,
          0.10315249762789828,
          0.13573982747927574,
          0.1186751921375629,
          0.12354482747710634,
          0.1422865867882504,
          0.127333744627534,
          0.10298798851415691,
          0.0782211177463762,
          0.12412221515123807,
          0.15019549133004698,
          0.1288085055876858,
          0.09846386954680054,
          0.09802915502637169,
          0.0879297894264819,
          0.17101227939504118,
          0.13807929641590824,
          0.09998246167426154,
          0.10504673216051567,
          0.14130774218811037,
          0.1328439531446639,
          0.14200289386642523,
          0.19544691486492338,
          0.08512514476568574,
          0.1472064559967011,
          0.09743630129129185,
          0.10249476663518939,
          0.16372969755427638,
          0.20936623061946666,
          0.13381282543297185,
          0.11044754394628088,
          0.138747804738278,
          0.08151356508257179,
          0.12562414490476673,
          0.1340462488667387,
          0.2268853617190171,
          0.1596928972741786,
          0.10121289196162211,
          0.11458845791279522,
          0.1581857955890367,
          0.13837596357860335,
          0.11085661304658716,
          0.07734792612315958,
          0.11225250321453997,
          0.0855315574672936,
          0.15698587056428007,
          0.1407992294271352,
          0.12126865607512033,
          0.13019108288448786,
          0.10651553970763643,
          0.12792842775693386,
          0.3454781894671179,
          0.11755336131519968,
          0.1364661264006231,
          0.1353989548085631,
          0.08685343071507003,
          0.1181596124204893,
          0.09089574034806576,
          0.12473777633010479,
          0.12760117365928522,
          0.10667374170740433,
          0.16878734833213435,
          0.132143549627276,
          0.09568337149545762,
          0.1200780682206593,
          0.1997250861803116,
          0.10124016885966045,
          0.10102547241736809,
          0.15936727711998583,
          0.17924334399457267,
          0.1816614991479878,
          0.10389375138531133,
          0.11505993706617919,
          0.1815351480962694,
          0.12859460731407812,
          0.11798138116603966,
          0.15340138453046917,
          0.11665545728553293,
          0.11184245317278704,
          0.10674878292839417,
          0.11916904989723615,
          0.10888648694956557,
          0.11096318682500314,
          0.11718495704980486,
          0.10613039619508643,
          0.08698817272284755,
          0.15298305693693645,
          0.1391025238959742,
          0.19619661711318775,
          0.3110172854356917,
          0.09820612951158673,
          0.10008936872939798,
          0.17599930302849687,
          0.16860273822291846,
          0.1427606946193827,
          0.10162056810875839,
          0.1186435307495098,
          0.09914866415513103,
          0.104999822003464,
          0.11683078840897937,
          0.09305526125822089,
          0.11527989791583275,
          0.0793732356404969,
          0.10305262341127981,
          0.12638757387146013,
          0.0985827469025746,
          0.10265974749695576,
          0.1375508752803493,
          0.10467196549057209,
          0.13126007767514544,
          0.1919824745197685,
          0.16219906837518677,
          0.07493719464916196,
          0.11781225824763392,
          0.10117604018901256,
          0.08276311502365528,
          0.1299450664808603,
          0.15057487792277482,
          0.10649882064493726,
          0.17430329504021974,
          0.1229456053972833,
          0.09708111726863812,
          0.08196988521805901,
          0.12268127541485493,
          0.1155015814897871,
          0.1016488762468115,
          0.14065796395720856,
          0.12423213750566556,
          0.08330185836801543,
          0.08410610145965516,
          0.11507524802721614,
          0.1385260015046831,
          0.07628800199561785,
          0.11523132507169058,
          0.11884336404023527,
          0.20236418057059283,
          0.09803029573621141,
          0.21900844834567024,
          0.13167730977360026,
          0.09433775264948262,
          0.13411824869247896,
          0.12910629468063584,
          0.17281000875475655,
          0.10347746432668843,
          0.09191741567714878,
          0.10442946965649963,
          0.19083378398039083,
          0.12502091023745965,
          0.08889715002225466,
          0.11438025368646029,
          0.10516198502179144,
          0.1345460973599392,
          0.08241566381442447,
          0.1894650698764426,
          0.1786244200593559,
          0.1705806900544227,
          0.11838151476139382,
          0.11369643218151458,
          0.10653585600411097,
          0.10311942316988786,
          0.10592120054151198,
          0.17059238331755056,
          0.07765708260099594,
          0.14959523422091286,
          0.136845065046463,
          0.10079757889670234,
          0.11192572973540127,
          0.17862442005935555,
          0.16354249272009036,
          0.08040237931945411,
          0.13822447523668333,
          0.10321179960273126,
          0.08993046202268462,
          0.09998135855570357,
          0.15794032180656226,
          0.11494786809807789,
          0.12215215233890125,
          0.1234681643669971,
          0.13032986018914597,
          0.09576891224635542,
          0.1786553634186411,
          0.11447810242448836,
          0.1355441420190592,
          0.14853330119384756,
          0.15483243458823678,
          0.08891330763833295,
          0.12277535676337277,
          0.16354527141480865,
          0.22229705234462552,
          0.1008555834941567
         ],
         "y": [
          0.22278192579499903,
          0.3583520326484767,
          0.15171125501363708,
          0.2180266739069712,
          0.31439122295485805,
          0.21978359770167852,
          0.4284800616270589,
          0.5105770543200022,
          0.18076600662906514,
          0.2092919394351006,
          0.26167929042101384,
          0.5111510705118509,
          0.09995192283510862,
          0.30312638787656154,
          0.18064601322694437,
          0.31325092592957793,
          0.3573498800421678,
          0.2800746938235473,
          0.4511788491547351,
          0.37499931227099653,
          0.17091276790244164,
          0.2864877703175134,
          0.2866603111319467,
          0.275989777767889,
          0.16649248665124727,
          0.44794132231262546,
          0.6733146518442928,
          0.12744347097853242,
          0.13236660146579296,
          0.45725366512023097,
          0.3567924674149821,
          0.12408485945748174,
          0.5405065466981314,
          0.3522685660126749,
          0.18772528204127092,
          0.3352380400731941,
          0.35072846345887165,
          0.24404867380732753,
          0.13224195219394758,
          0.2797386958010229,
          0.24456537489640484,
          0.5187996800596548,
          0.4038521662917462,
          0.27585401851507674,
          0.11319953501239635,
          0.2482747834126394,
          0.3255059297749131,
          0.28350721760737896,
          0.37684736105435246,
          0.15270445622656686,
          0.08066155852831575,
          0.28653934863752967,
          0.2796684978540441,
          0.16968346313879748,
          0.1355933669962714,
          0.2903273852910304,
          0.5965558531073011,
          0.13236660146579296,
          0.4349823209022229,
          0.20979596194123917,
          0.30241648486029643,
          0.008205201380360724,
          0.23093302138881983,
          0.6072891669773182,
          0.5272632877665151,
          0.48596794662747456,
          0.2081253529536942,
          0.30300601279473904,
          0.2799176389552364,
          0.4201450092587215,
          0.34778050024872964,
          0.24254877348901957,
          0.3817427868881572,
          0.2731287194520742,
          0.3521378647638211,
          0.501733822002688,
          0.3840342844399295,
          0.04215178941990121,
          0.2827320988970966,
          0.2076938247192608,
          0.1611132943489621,
          0.38603426842181404,
          0.3117433471377278,
          0.3080583956098734,
          0.3500860673075672,
          0.2971543872238327,
          0.23723544530836557,
          0.5885646426149798,
          0.45358089772264953,
          0.2576620435919305,
          0.24298767542289096,
          0.42661981174331165,
          0.1469143090520078,
          0.14706103097121892,
          0.3834649465632103,
          0.35477975740326045,
          0.25452849487159174,
          0.22638271814316777,
          0.23050842354183235,
          0.367831712572407,
          0.3260209735292288,
          0.3150776495510657,
          0.564385026693913,
          0.20343549304318734,
          0.11299554548727155,
          0.275256092580027,
          0.3492866124789669,
          0.13252661158481316,
          0.21906065268260053,
          0.19426600899089938,
          0.03995406824721215,
          0.24849303362540046,
          0.333159423728311,
          0.12174424547149626,
          0.46033353112178527,
          0.2006094753450183,
          0.2646505584338841,
          0.5665931856273192,
          0.2673431441261592,
          0.31089206552193316,
          0.2498999963008276,
          0.45117884915473533,
          0.2773708428987846,
          0.5964185751619305,
          0.43204433417255,
          0.2907247743588092,
          0.0402263044675135,
          0.5072157185723728,
          0.09184467547881521,
          0.23207651791952133,
          0.3098213745046322,
          0.11145156085546473,
          0.39517826367359515,
          0.4104459755474489,
          0.2568680360006827,
          0.5320983669986202,
          0.06283433513003196,
          0.13487740029035783,
          0.34904220466504704,
          0.27885475303973434,
          0.2287870677811213,
          0.21886097583076664,
          0.21789804692837705,
          0.3260603553709613,
          0.23320746451344568,
          0.3213943054629907,
          0.28133981023777915,
          0.2889425083675541,
          0.1594204657256163,
          0.36735971422533875,
          0.45789644301295696,
          0.23764106182580538,
          0.2698175365547111,
          0.2628571490298117,
          0.18088004135618313,
          0.18510662778422102,
          0.24629207236819922,
          0.14007117079839584,
          0.13541298065931942,
          0.5802036003674517,
          0.3768735883438885,
          0.349745462240195,
          0.2784096641523218,
          0.349903531957223,
          0.2954053419455471,
          0.30194369346206057,
          0.2173282139784311,
          0.16257574210044196,
          0.3104429298754942,
          0.2479252114643913,
          0.3426428204879348,
          0.28174099658005536,
          0.38360573451095303,
          0.0970298886417356,
          0.339810218470899,
          0.12071615604362312,
          0.09703431222792572,
          0.2563757194032744,
          0.5287448555129041,
          0.34144512406721544,
          0.5252829746208517,
          0.4082395540985478,
          0.22618788653517852,
          0.38385360950053815,
          0.2693081747209197,
          0.3608314561968834,
          0.13870976587098688,
          0.43553270141839406,
          0.42158347418347547,
          0.2722888023103917,
          0.32827395153233424,
          0.22600369911620977,
          0.4936663485958662,
          0.12626069469405984,
          0.36057310136192755,
          0.21459307070459277,
          0.4645397166958915,
          0.37428744213686094,
          0.15888535484945418,
          0.16906894563945035,
          0.4874112768459082,
          0.4308758163178459,
          0.22820494504381847,
          0.3086002035938874,
          0.5904712085543327,
          0.2798454979174523,
          0.1500382987789363,
          0.10713178067287818,
          0.5842858653408171,
          0.4185958208244225,
          0.37178872015496967,
          0.6714746702434837,
          0.1994623754140544,
          0.3979585352526107,
          0.39645355943628335,
          0.29033035786173633,
          0.3943945938833284,
          0.37687358712128255,
          0.362024511854678,
          0.3347673543521915,
          0.4085507362008628,
          0.43174655535913203,
          0.1231139582443752,
          0.14017809919248558,
          0.29829864350069313,
          0.38184187164331185,
          0.5633029030697554,
          0.34788574291022545,
          0.5572488555859997,
          0.2765819597922979,
          0.3209620032745786,
          0.35169617854899,
          0.3391314720921566,
          0.39300547896661187,
          0.41287999483354,
          0.12585484496576274,
          0.42027668440180277,
          0.26151969810927733,
          0.22844044000493471,
          0.5807226424397282,
          0.41611986071962825,
          0.3225015737066611,
          0.12626069469403114,
          0.14668316891471325,
          0.21919564488490287,
          0.5793088718034978,
          0.23129214213191865,
          0.26169050991719023,
          0.17572599776938436,
          0.12345605573697924,
          0.572058129978591,
          0.1695221325122761,
          0.26391970311633717,
          0.09217422118310632,
          0.137638311796427,
          0.20564982578413468,
          0.35262064532101445,
          0.30311943023431176,
          0.15274483272503803,
          0.1470610309712189,
          0.3056435200941667,
          0.1352289915171575,
          0.5954076195452301,
          0.256723935896606,
          0.2379458620558719,
          0.3208370960557765,
          0.22775774054216913,
          0.32380301903106745,
          0.14978130678037158,
          0.1979759736351243,
          0.14184804199890041,
          0.3616088322402022,
          0.38679443947193726,
          0.3741921400670288,
          0.27425459620983006,
          0.2804282349126396,
          0.12959735966342703,
          0.35781619670662945,
          0.3930827914465026,
          0.2004604577765401,
          0.37853520033486643,
          0.40454942369585395,
          0.19243197327358236,
          0.37382647717262,
          0.22259740770934136,
          0.24498721377585186,
          0.3090209070341418,
          0.5724504590962941,
          0.2833718971846338,
          0.21646310514549727,
          0.2034354930431875,
          0.31898392791629715,
          0.3863081301551459,
          0.37142210160425826,
          0.1652063514924438,
          0.39294476201673223,
          0.3637685000736749,
          0.4620652747103298,
          0.30902174087940504,
          0.20969981472470772,
          0.15518116027888806,
          0.17204233969893012,
          0.6161032099261097,
          0.2506733796168899,
          0.2777225513813877,
          0.3038407460035274,
          0.4355225186539632,
          0.3690502592382712,
          0.5405065466981323,
          0.39407992621633353,
          0.22134721413373826,
          0.3409491360600202,
          0.20343549304301847,
          0.6133378022563828,
          0.15264519719135625,
          0.33235453838838913,
          0.30283704667857636,
          0.39222716563308746,
          0.5360040834829232,
          0.41095103601147986,
          0.23484776928949763,
          0.32184986024208617,
          0.13517152309060085,
          0.39886518968281204,
          0.4567581000924675,
          0.15062346017212527,
          0.25043910564794974,
          0.3951700073190383,
          0.3698970661592642,
          0.39063070648123954,
          0.2444245106150322,
          0.245604693363215,
          0.1652322556022809,
          0.14434085298480775,
          0.6186367806998629,
          0.29309614129064615,
          0.20983927688840043,
          0.11973610564479345,
          0.521439465239411,
          0.31302111972830776,
          0.341708334339637,
          0.5401191389139258,
          0.46172481398467635,
          0.46460675350428904,
          0.24888533949014985,
          0.1178307524678282,
          0.2242625296526003,
          0.5977380338710427,
          0.43812172576032793,
          0.26587485504615427,
          0.1760334915474357,
          0.2746953107235507,
          0.1850371333147096,
          0.24868067090188384,
          0.3359732945825528,
          0.3390984427599377,
          0.23870958153221827,
          0.4357046943563745,
          0.3997286053578329,
          0.6172678262627569,
          0.35896026461341957,
          0.10631421971488798,
          0.2593316340857994,
          0.2626862697775378,
          0.6038133527979878,
          0.4554664930961756,
          0.3132021940925772,
          0.0950107134433375,
          0.3737501406767253,
          0.32197423955360155,
          0.13880677084296025,
          0.36718020976780286,
          0.14447717223842316,
          0.3596476689267275,
          0.3906223658175902,
          0.3256485045686647,
          0.19898207044315175,
          0.5175890009020283,
          0.25308931601459106,
          0.1631323180290773,
          0.03617107309041573,
          0.21796054419075417,
          0.2719458777181615,
          0.25067337961688885,
          0.25507201295517723,
          0.48040406264132196,
          0.5047140159951653,
          0.39065378017120533,
          0.15051649415522278,
          0.2983047138278797,
          0.27946357870919636,
          0.15563698447881832,
          0.15165356236824817,
          0.25301499500155017,
          0.2652575448232219,
          0.25063305366057015,
          0.22479872355443647,
          0.23746882783504977,
          0.30515189040223645,
          0.35527427686849034,
          0.23559596087865992,
          0.22539584677617,
          0.2798853380069093,
          0.2436019480949777,
          0.20499425964582071,
          0.23431532927008356,
          0.29942137435867466,
          0.39656752532263484,
          0.162652240623304,
          0.1987302880425841,
          0.19910206240846218,
          0.13434965517050912,
          0.379094419713394,
          0.4617399188836364,
          0.18776940807186754,
          0.16351017978697396,
          0.26477542747255817,
          0.13709757915853985,
          0.15876662952557208,
          0.5514267724332299,
          0.3131876900553805,
          0.27095011258713625,
          0.24286702122711068,
          0.143026299451468,
          0.18040551766782922,
          0.14673549635249777,
          0.37124133646535207,
          0.4644503230080785,
          0.26931313057247996,
          0.3956445980130545,
          0.09869150230191978,
          0.3024816123556404,
          0.3187418969216008,
          0.1877833652177574,
          0.20668908671170133,
          0.12713469412417477,
          0.19300643709580698,
          0.16931670969085788,
          0.07822767694344337,
          0.3103546569727433,
          0.2155271567280834,
          0.23025107634893172,
          0.2318548139075269,
          0.2576620435919316,
          0.4161780791084094,
          0.45273959093660376,
          0.03765220060768786,
          0.3593032101435014,
          0.1773866903544209,
          0.33706774795602534,
          0.22257619792299416,
          0.2920102648940036,
          0.33620930991101194,
          0.12587032132343523,
          0.48153042373957794,
          0.41032185932407855,
          0.3321992772267462,
          0.43065298725754453,
          0.37496988393541464,
          0.45561558734141466,
          0.14143054371517472,
          0.3209685909224379,
          0.08054234778288646,
          0.2777225513813877,
          0.32252128948381587,
          0.20797298870869146,
          0.21595056651385758,
          0.2576620435919316,
          0.37499931227099653,
          0.33120860689829723,
          0.338482610257916,
          0.25693676548587074,
          0.35677810460659376,
          0.24042964642405262,
          0.33474978740866135,
          0.10562721345193973,
          0.23629681388507384,
          0.3714221016042584,
          0.33751922082914937,
          0.22587773256976337,
          0.5529987263052047,
          0.3752352893802802,
          0.16127399358051003,
          0.23943414874880797,
          0.4420271606195413,
          0.2668571932079061,
          0.20218244009244202,
          0.1410777152650668,
          0.20003259455263983,
          0.5332078087571679,
          0.33979758257905457,
          0.14490977281861717,
          0.38179491025934675,
          0.3714221016042584,
          0.5115518929024275,
          0.20074349664391117,
          0.3850443674388122,
          0.2920514849953873,
          0.16828313403599812,
          0.26407939245417966,
          0.3198058752547389,
          0.39813562104946437,
          0.4347206105166404,
          0.26832580836390607,
          0.38280891457194105,
          0.28863713300459637,
          0.1974189421158214,
          0.4469527603161154,
          0.5766569208244442,
          0.14400247851914713,
          0.5555600999615459,
          0.3417433002249959,
          0.4281802841071644,
          0.2033953148394143,
          0.12347020491271338,
          0.2973920933061964,
          0.4576546802961791,
          0.20382065900441398,
          0.3482995796065608,
          0.14697166289327362,
          0.47486703382038636,
          0.2455978627037791,
          0.35684701728675045,
          0.3656720785844752,
          0.17563779118990352,
          0.5660306539660999,
          0.033300716087528166,
          0.46550642670879716,
          0.32454232682730233,
          0.4743332402911022,
          0.18923452600265298,
          0.4734999694805918,
          0.3080158391090961,
          0.28115568422015047,
          0.21748677694233526,
          0.5405065466981324,
          0.3490422046650471,
          0.36969295415092096,
          0.37150041924331006,
          0.3771486284464444,
          0.20979471843749084,
          0.24054679905126097,
          0.10650459299267682,
          0.41848782097802906,
          0.4723403688549029,
          0.1539994419808485,
          0.4184012750977766,
          0.20360136338661913,
          0.040226304467513345,
          0.06681990317548929,
          0.04022630446748058,
          0.2398210563675214,
          0.25128501238143086,
          0.39066200713854227,
          0.2853013262371914,
          0.18425724819652442,
          0.30957022167396053,
          0.428621489316124,
          0.3903574873600547,
          0.39611937782916173,
          0.5035054869526739,
          0.3129847779680173,
          0.28173629547011786,
          0.32657034558535286,
          0.5022771613739249,
          0.18132600002900054,
          0.5644642789978724,
          0.24298798755892947,
          0.29632083106457197,
          0.309435155649822,
          0.20137427537566516,
          0.24910881210694877,
          0.10695174942095004,
          0.12315657672628352,
          0.44632678945421933,
          0.17647925344040696,
          0.23656179883115885,
          0.273454967190164,
          0.3386528656057748,
          0.15051378148064287,
          0.26766167834142457,
          0.30169575951527333,
          0.5114804155977737,
          0.26915614459724213,
          0.2505453752111729,
          0.5021152855471407,
          0.5954076195452382,
          0.2147087167092302,
          0.28116795438471126,
          0.2797505187652868,
          0.2935239188589551,
          0.3620558649211947,
          0.061841842584039804,
          0.3965544728230675,
          0.3867944387493092,
          0.12066052376377408,
          0.4516179999845086,
          0.3674367716807888,
          0.2069910693834914,
          0.27110471398393365,
          0.2293549773682324,
          0.297934102123586,
          0.20269190575489415,
          0.3074497458925958,
          0.24576760878482362,
          0.46587378125660767,
          0.0986853536235097,
          0.18448401944577253,
          0.6410730488944867,
          0.4775130262857431,
          0.4787535745378051,
          0.24842315932924192,
          0.20874358530962922,
          0.2576620435919313,
          0.20267535538816847,
          0.3762820734170713,
          0.38181818242143895,
          0.3413148649480635,
          0.20502078300968613,
          0.369279694003274,
          0.17693358771957843,
          0.16216025140984935,
          0.17752513961534527,
          0.14469489477057917,
          0.21382827897980974,
          0.3122777871209861,
          0.3083467405055996,
          0.3771334706735847,
          0.21093183791621656,
          0.43072354343059127,
          0.47851207952539104,
          0.5800363732165557,
          0.03879685056004296,
          0.053719338239377606,
          0.14433964819914785,
          0.4978716728117335,
          0.5810515689637948,
          0.2330856666735759,
          0.2634599596292175,
          0.293570287167927,
          0.4535998041530246,
          0.3338804296357766,
          0.19525943135153218,
          0.26974821251991854,
          0.2623497126984934,
          0.24363023880791929,
          0.2140200647464266,
          0.3056984986247179,
          0.46246531586602585,
          0.42213422954114116,
          0.1376332513130552,
          0.2511782367919186,
          0.35809984653125276,
          0.14448978910182586,
          0.3077779232100456,
          0.2327683052837185,
          0.2106303315188102,
          0.1267999658655264,
          0.3271865655328168,
          0.2928563227223599,
          0.15429660964023414,
          0.40707520354941085,
          0.35106786320081407,
          0.34197001023373624,
          0.11813464876469114,
          0.29530751685012124,
          0.2632191495699352,
          0.2104104229414623,
          0.2481473768498663,
          0.07604905583770045,
          0.26282201123112453,
          0.43077891890680126,
          0.16980344638533976,
          0.37176987026055924,
          0.319070828500335,
          0.44423570982554017,
          0.2734626599332343,
          0.43461553329510794,
          0.3455406861617854,
          0.4417770638211139,
          0.3273746121742903,
          0.11272208699055866,
          0.22264764170882767,
          0.23349794096377294,
          0.19923401192834034,
          0.3244745800387022,
          0.2988009656805384,
          0.6454323985418033,
          0.47318814138384674,
          0.2354683602569698,
          0.3183295752397662,
          0.4070470487493214,
          0.5241843100090009,
          0.3460590625479012,
          0.21920703308286485,
          0.4569984283823453,
          0.18153489479649287,
          0.5179453190725666,
          0.11527049941547199,
          0.33120206858575013,
          0.4539909594129661,
          0.288940943347488,
          0.20441137455026542,
          0.31661493659391954,
          0.3296496352821937,
          0.4906883408412027,
          0.22228297541265601,
          0.5318236942259329,
          0.30049790651142755,
          0.3816396189397453,
          0.25201945256364583,
          0.2813996624011668,
          0.512078251073768,
          0.5146999707024746,
          0.21969252707871728,
          0.14813560177720847,
          0.32574842267543896,
          0.49325903521500036,
          0.2712108811220589,
          0.048290449506426546,
          0.11189759197189428,
          0.10695174942145208,
          0.3817880518135491,
          0.4511788491547347,
          0.1582296403496874,
          0.17423310056541813,
          0.27346265993322694,
          0.3573429626498505,
          0.3017759398581025,
          0.5839004623580074,
          0.31776434452647084,
          0.42046836581581293,
          0.303242848694255,
          0.5381358041101736,
          0.2711113692675201,
          0.2593854708105636,
          0.22772924805939046,
          0.460961135380284,
          0.19920256277020004,
          0.37492550035966676,
          0.05320972888663251,
          0.22378640577387987,
          0.30069005581983954,
          0.3401370475372427,
          0.5092956820198239,
          0.4911527844352219,
          0.21552715672808345,
          0.14430357582999254,
          0.4859373937175021,
          0.38599461137646246,
          0.3411497133404946,
          0.31447409858932723,
          0.4761676821020762,
          0.15273379963080183,
          0.21423856006669167,
          0.21818018867918826,
          0.2598774592755069,
          0.34385784914867906,
          0.1757366457840523,
          0.5421033580744241,
          0.14397688366833145,
          0.2857601277082526,
          0.10768959880821281,
          0.40049358748414077,
          0.25339314291897524,
          0.2277351215900807,
          0.03838660133617974,
          0.3183098865290946,
          0.24648796652755964,
          0.3678933367427981,
          0.48829909828479595,
          0.18729652327172036,
          0.500825087488997,
          0.3458295825191506,
          0.506734180268409,
          0.363180706872861,
          0.5127946723036756,
          0.16856050702421405,
          0.4953012178991968,
          0.2762213122662007,
          0.2605322375789021,
          0.33593825931647214,
          0.23845392023026635,
          0.33033937616885367,
          0.21420321914746748,
          0.15175731489900035,
          0.19451293710587514,
          0.14493376771524408,
          0.2610462354544919,
          0.2996119082628602,
          0.12945904245464412,
          0.6428808948193798,
          0.28667455605937286,
          0.36803897516720574,
          0.14024365998540678,
          0.19963633138458942,
          0.35103070919958484,
          0.27946465311965785,
          0.25970952103069334,
          0.2887022915214905,
          0.040226304467506184,
          0.06020414567772251,
          0.10947428766833475,
          0.4879598112450495,
          0.11410591635146018,
          0.5644002475217136,
          0.34171446425968166,
          0.3147803267537274,
          0.5195361372091143,
          0.21974945952825048,
          0.31056264600697897,
          0.30706891218328897,
          0.2432898293958838,
          0.23711598856806684,
          0.3240176642039595,
          0.34283762143728,
          0.5627422183660589,
          0.3283108937878928,
          0.20268183499699188,
          0.37689988057721513,
          0.39057006772932634,
          0.4859694789338251,
          0.29110398559081696,
          0.040226304467513053,
          0.10871863516730496,
          0.37253771939581554,
          0.29461584651644235,
          0.24912452989320677,
          0.2642964590110307,
          0.4032468608736036,
          0.2734626599332344,
          0.18595805978005808,
          0.38365108365274814,
          0.15431797678651696,
          0.3695833378845813,
          0.2787624517450522,
          0.35208291305876127,
          0.6314818414843101,
          0.2036013633866189,
          0.33505612912131244,
          0.24360194809497793,
          0.23650273112545322,
          0.07333510459054915,
          0.13522150100130037,
          0.5901410121791452,
          0.6812360586145811,
          0.44533634541214606,
          0.34351487378303786,
          0.2930148117057387,
          0.28138865644599576,
          0.5580524307362771,
          0.3210211471789402,
          0.07860251313709564,
          0.35896022662033533,
          0.1933304145397851,
          0.3963850975832208,
          0.34852150230516044,
          0.25183131382413376,
          0.3330195014159286,
          0.31568602771598914,
          0.3581540296386468,
          0.5525679859859333,
          0.3104725125593189,
          0.37420761345811443,
          0.43994996199691794,
          0.14424850970036024,
          0.4262878633067434,
          0.39469508482585175,
          0.229534492002736,
          0.1729649870520036,
          0.19337815623442106,
          0.260325426788746,
          0.34670628339525544,
          0.17624648588562977,
          0.332982253721258,
          0.48386769673942953,
          0.287597669113724,
          0.2961737383306382,
          0.10656861432470383,
          0.5095011115281415,
          0.19716427621774804,
          0.25058643175611645,
          0.3166847393556216,
          0.43058390303864885,
          0.3219540862008717,
          0.33120041222199004,
          0.5151923508256984,
          0.3379391947416748,
          0.303787479326207,
          0.3333241150636029,
          0.34140036559181053,
          0.15364078155261032,
          0.35470701837591634,
          0.2563123513777936,
          0.30835192623064483,
          0.12944475586821627,
          0.2950560230288602,
          0.4863123292055323,
          0.1683090565671782,
          0.6410934787254514,
          0.30481244816577346,
          0.06514591192471633,
          0.35267361421077054,
          0.1746449836610964,
          0.33955168014050574,
          0.2506733796168898,
          0.31433199487978386,
          0.3656201952765168,
          0.2530793900773036,
          0.4707608894369001,
          0.2919823610884948,
          0.17145478477661386,
          0.26291769689021177,
          0.1734031948856383,
          0.12945773131832666,
          0.32449876014332063,
          0.2706455949788635,
          0.4339805377655418,
          0.18541986591322127,
          0.46264797722694284,
          0.15799406756176176,
          0.5563156293462702,
          0.2054366302448698,
          0.39141983137640246,
          0.2630591277394899,
          0.17436407606558185,
          0.2186981270920455,
          0.4644452807900221,
          0.226120967160528,
          0.5954076195452382,
          0.3216931175865,
          0.3265780954862618,
          0.31989998652937557,
          0.3041825650298118,
          0.2917540346997164,
          0.3089283213873348,
          0.3481717735938743,
          0.19654599498776376,
          0.16123654476141533,
          0.22973944847836922,
          0.3691988379011025,
          0.5960727928586623,
          0.14057301287812876,
          0.36822551342471355,
          0.3180041381641942,
          0.38129479910075154,
          0.2941005678643563,
          0.48553778462892005,
          0.49192633630296523,
          0.19899081985447314,
          0.27916278482060863,
          0.26595255738193596,
          0.41110253590305595,
          0.23794890915563918,
          0.2715641134644943,
          0.4049921765718577,
          0.11153690206357794,
          0.3174006947682939,
          0.2467233037243177,
          0.3934412249876581,
          0.3975905022827271,
          0.42648836213292973,
          0.2047592945713556,
          0.05320972888635943,
          0.5405065466981323,
          0.06483742024125576,
          0.23411789901746982,
          0.12256509741821037,
          0.2881829890565555,
          0.1482150550706378,
          0.15491247891665433,
          0.4887398220292585,
          0.20847604754616364,
          0.3670182101355289,
          0.42540315494576636,
          0.24689020976638,
          0.28123442329048987,
          0.5405065466981246,
          0.29080837847615,
          0.23291528440470016,
          0.18289356321217426,
          0.22801614847872761,
          0.31217579236231674,
          0.17103602139852217,
          0.16818575833054333,
          0.24536777988236727,
          0.14338107520188398,
          0.35002667534113435,
          0.1627697285566147,
          0.233502988138044,
          0.4876780145673808,
          0.41653843013875536,
          0.3973551430356869,
          0.45672129459344707,
          0.5479683124114356,
          0.25820005147606145,
          0.4465349188937999,
          0.41624823794643834,
          0.46498552969414014,
          0.2705529546379619
         ]
        }
       ],
       "layout": {
        "template": {
         "data": {
          "bar": [
           {
            "error_x": {
             "color": "#2a3f5f"
            },
            "error_y": {
             "color": "#2a3f5f"
            },
            "marker": {
             "line": {
              "color": "#E5ECF6",
              "width": 0.5
             },
             "pattern": {
              "fillmode": "overlay",
              "size": 10,
              "solidity": 0.2
             }
            },
            "type": "bar"
           }
          ],
          "barpolar": [
           {
            "marker": {
             "line": {
              "color": "#E5ECF6",
              "width": 0.5
             },
             "pattern": {
              "fillmode": "overlay",
              "size": 10,
              "solidity": 0.2
             }
            },
            "type": "barpolar"
           }
          ],
          "carpet": [
           {
            "aaxis": {
             "endlinecolor": "#2a3f5f",
             "gridcolor": "white",
             "linecolor": "white",
             "minorgridcolor": "white",
             "startlinecolor": "#2a3f5f"
            },
            "baxis": {
             "endlinecolor": "#2a3f5f",
             "gridcolor": "white",
             "linecolor": "white",
             "minorgridcolor": "white",
             "startlinecolor": "#2a3f5f"
            },
            "type": "carpet"
           }
          ],
          "choropleth": [
           {
            "colorbar": {
             "outlinewidth": 0,
             "ticks": ""
            },
            "type": "choropleth"
           }
          ],
          "contour": [
           {
            "colorbar": {
             "outlinewidth": 0,
             "ticks": ""
            },
            "colorscale": [
             [
              0,
              "#0d0887"
             ],
             [
              0.1111111111111111,
              "#46039f"
             ],
             [
              0.2222222222222222,
              "#7201a8"
             ],
             [
              0.3333333333333333,
              "#9c179e"
             ],
             [
              0.4444444444444444,
              "#bd3786"
             ],
             [
              0.5555555555555556,
              "#d8576b"
             ],
             [
              0.6666666666666666,
              "#ed7953"
             ],
             [
              0.7777777777777778,
              "#fb9f3a"
             ],
             [
              0.8888888888888888,
              "#fdca26"
             ],
             [
              1,
              "#f0f921"
             ]
            ],
            "type": "contour"
           }
          ],
          "contourcarpet": [
           {
            "colorbar": {
             "outlinewidth": 0,
             "ticks": ""
            },
            "type": "contourcarpet"
           }
          ],
          "heatmap": [
           {
            "colorbar": {
             "outlinewidth": 0,
             "ticks": ""
            },
            "colorscale": [
             [
              0,
              "#0d0887"
             ],
             [
              0.1111111111111111,
              "#46039f"
             ],
             [
              0.2222222222222222,
              "#7201a8"
             ],
             [
              0.3333333333333333,
              "#9c179e"
             ],
             [
              0.4444444444444444,
              "#bd3786"
             ],
             [
              0.5555555555555556,
              "#d8576b"
             ],
             [
              0.6666666666666666,
              "#ed7953"
             ],
             [
              0.7777777777777778,
              "#fb9f3a"
             ],
             [
              0.8888888888888888,
              "#fdca26"
             ],
             [
              1,
              "#f0f921"
             ]
            ],
            "type": "heatmap"
           }
          ],
          "histogram": [
           {
            "marker": {
             "pattern": {
              "fillmode": "overlay",
              "size": 10,
              "solidity": 0.2
             }
            },
            "type": "histogram"
           }
          ],
          "histogram2d": [
           {
            "colorbar": {
             "outlinewidth": 0,
             "ticks": ""
            },
            "colorscale": [
             [
              0,
              "#0d0887"
             ],
             [
              0.1111111111111111,
              "#46039f"
             ],
             [
              0.2222222222222222,
              "#7201a8"
             ],
             [
              0.3333333333333333,
              "#9c179e"
             ],
             [
              0.4444444444444444,
              "#bd3786"
             ],
             [
              0.5555555555555556,
              "#d8576b"
             ],
             [
              0.6666666666666666,
              "#ed7953"
             ],
             [
              0.7777777777777778,
              "#fb9f3a"
             ],
             [
              0.8888888888888888,
              "#fdca26"
             ],
             [
              1,
              "#f0f921"
             ]
            ],
            "type": "histogram2d"
           }
          ],
          "histogram2dcontour": [
           {
            "colorbar": {
             "outlinewidth": 0,
             "ticks": ""
            },
            "colorscale": [
             [
              0,
              "#0d0887"
             ],
             [
              0.1111111111111111,
              "#46039f"
             ],
             [
              0.2222222222222222,
              "#7201a8"
             ],
             [
              0.3333333333333333,
              "#9c179e"
             ],
             [
              0.4444444444444444,
              "#bd3786"
             ],
             [
              0.5555555555555556,
              "#d8576b"
             ],
             [
              0.6666666666666666,
              "#ed7953"
             ],
             [
              0.7777777777777778,
              "#fb9f3a"
             ],
             [
              0.8888888888888888,
              "#fdca26"
             ],
             [
              1,
              "#f0f921"
             ]
            ],
            "type": "histogram2dcontour"
           }
          ],
          "mesh3d": [
           {
            "colorbar": {
             "outlinewidth": 0,
             "ticks": ""
            },
            "type": "mesh3d"
           }
          ],
          "parcoords": [
           {
            "line": {
             "colorbar": {
              "outlinewidth": 0,
              "ticks": ""
             }
            },
            "type": "parcoords"
           }
          ],
          "pie": [
           {
            "automargin": true,
            "type": "pie"
           }
          ],
          "scatter": [
           {
            "fillpattern": {
             "fillmode": "overlay",
             "size": 10,
             "solidity": 0.2
            },
            "type": "scatter"
           }
          ],
          "scatter3d": [
           {
            "line": {
             "colorbar": {
              "outlinewidth": 0,
              "ticks": ""
             }
            },
            "marker": {
             "colorbar": {
              "outlinewidth": 0,
              "ticks": ""
             }
            },
            "type": "scatter3d"
           }
          ],
          "scattercarpet": [
           {
            "marker": {
             "colorbar": {
              "outlinewidth": 0,
              "ticks": ""
             }
            },
            "type": "scattercarpet"
           }
          ],
          "scattergeo": [
           {
            "marker": {
             "colorbar": {
              "outlinewidth": 0,
              "ticks": ""
             }
            },
            "type": "scattergeo"
           }
          ],
          "scattergl": [
           {
            "marker": {
             "colorbar": {
              "outlinewidth": 0,
              "ticks": ""
             }
            },
            "type": "scattergl"
           }
          ],
          "scattermap": [
           {
            "marker": {
             "colorbar": {
              "outlinewidth": 0,
              "ticks": ""
             }
            },
            "type": "scattermap"
           }
          ],
          "scattermapbox": [
           {
            "marker": {
             "colorbar": {
              "outlinewidth": 0,
              "ticks": ""
             }
            },
            "type": "scattermapbox"
           }
          ],
          "scatterpolar": [
           {
            "marker": {
             "colorbar": {
              "outlinewidth": 0,
              "ticks": ""
             }
            },
            "type": "scatterpolar"
           }
          ],
          "scatterpolargl": [
           {
            "marker": {
             "colorbar": {
              "outlinewidth": 0,
              "ticks": ""
             }
            },
            "type": "scatterpolargl"
           }
          ],
          "scatterternary": [
           {
            "marker": {
             "colorbar": {
              "outlinewidth": 0,
              "ticks": ""
             }
            },
            "type": "scatterternary"
           }
          ],
          "surface": [
           {
            "colorbar": {
             "outlinewidth": 0,
             "ticks": ""
            },
            "colorscale": [
             [
              0,
              "#0d0887"
             ],
             [
              0.1111111111111111,
              "#46039f"
             ],
             [
              0.2222222222222222,
              "#7201a8"
             ],
             [
              0.3333333333333333,
              "#9c179e"
             ],
             [
              0.4444444444444444,
              "#bd3786"
             ],
             [
              0.5555555555555556,
              "#d8576b"
             ],
             [
              0.6666666666666666,
              "#ed7953"
             ],
             [
              0.7777777777777778,
              "#fb9f3a"
             ],
             [
              0.8888888888888888,
              "#fdca26"
             ],
             [
              1,
              "#f0f921"
             ]
            ],
            "type": "surface"
           }
          ],
          "table": [
           {
            "cells": {
             "fill": {
              "color": "#EBF0F8"
             },
             "line": {
              "color": "white"
             }
            },
            "header": {
             "fill": {
              "color": "#C8D4E3"
             },
             "line": {
              "color": "white"
             }
            },
            "type": "table"
           }
          ]
         },
         "layout": {
          "annotationdefaults": {
           "arrowcolor": "#2a3f5f",
           "arrowhead": 0,
           "arrowwidth": 1
          },
          "autotypenumbers": "strict",
          "coloraxis": {
           "colorbar": {
            "outlinewidth": 0,
            "ticks": ""
           }
          },
          "colorscale": {
           "diverging": [
            [
             0,
             "#8e0152"
            ],
            [
             0.1,
             "#c51b7d"
            ],
            [
             0.2,
             "#de77ae"
            ],
            [
             0.3,
             "#f1b6da"
            ],
            [
             0.4,
             "#fde0ef"
            ],
            [
             0.5,
             "#f7f7f7"
            ],
            [
             0.6,
             "#e6f5d0"
            ],
            [
             0.7,
             "#b8e186"
            ],
            [
             0.8,
             "#7fbc41"
            ],
            [
             0.9,
             "#4d9221"
            ],
            [
             1,
             "#276419"
            ]
           ],
           "sequential": [
            [
             0,
             "#0d0887"
            ],
            [
             0.1111111111111111,
             "#46039f"
            ],
            [
             0.2222222222222222,
             "#7201a8"
            ],
            [
             0.3333333333333333,
             "#9c179e"
            ],
            [
             0.4444444444444444,
             "#bd3786"
            ],
            [
             0.5555555555555556,
             "#d8576b"
            ],
            [
             0.6666666666666666,
             "#ed7953"
            ],
            [
             0.7777777777777778,
             "#fb9f3a"
            ],
            [
             0.8888888888888888,
             "#fdca26"
            ],
            [
             1,
             "#f0f921"
            ]
           ],
           "sequentialminus": [
            [
             0,
             "#0d0887"
            ],
            [
             0.1111111111111111,
             "#46039f"
            ],
            [
             0.2222222222222222,
             "#7201a8"
            ],
            [
             0.3333333333333333,
             "#9c179e"
            ],
            [
             0.4444444444444444,
             "#bd3786"
            ],
            [
             0.5555555555555556,
             "#d8576b"
            ],
            [
             0.6666666666666666,
             "#ed7953"
            ],
            [
             0.7777777777777778,
             "#fb9f3a"
            ],
            [
             0.8888888888888888,
             "#fdca26"
            ],
            [
             1,
             "#f0f921"
            ]
           ]
          },
          "colorway": [
           "#636efa",
           "#EF553B",
           "#00cc96",
           "#ab63fa",
           "#FFA15A",
           "#19d3f3",
           "#FF6692",
           "#B6E880",
           "#FF97FF",
           "#FECB52"
          ],
          "font": {
           "color": "#2a3f5f"
          },
          "geo": {
           "bgcolor": "white",
           "lakecolor": "white",
           "landcolor": "#E5ECF6",
           "showlakes": true,
           "showland": true,
           "subunitcolor": "white"
          },
          "hoverlabel": {
           "align": "left"
          },
          "hovermode": "closest",
          "mapbox": {
           "style": "light"
          },
          "paper_bgcolor": "white",
          "plot_bgcolor": "#E5ECF6",
          "polar": {
           "angularaxis": {
            "gridcolor": "white",
            "linecolor": "white",
            "ticks": ""
           },
           "bgcolor": "#E5ECF6",
           "radialaxis": {
            "gridcolor": "white",
            "linecolor": "white",
            "ticks": ""
           }
          },
          "scene": {
           "xaxis": {
            "backgroundcolor": "#E5ECF6",
            "gridcolor": "white",
            "gridwidth": 2,
            "linecolor": "white",
            "showbackground": true,
            "ticks": "",
            "zerolinecolor": "white"
           },
           "yaxis": {
            "backgroundcolor": "#E5ECF6",
            "gridcolor": "white",
            "gridwidth": 2,
            "linecolor": "white",
            "showbackground": true,
            "ticks": "",
            "zerolinecolor": "white"
           },
           "zaxis": {
            "backgroundcolor": "#E5ECF6",
            "gridcolor": "white",
            "gridwidth": 2,
            "linecolor": "white",
            "showbackground": true,
            "ticks": "",
            "zerolinecolor": "white"
           }
          },
          "shapedefaults": {
           "line": {
            "color": "#2a3f5f"
           }
          },
          "ternary": {
           "aaxis": {
            "gridcolor": "white",
            "linecolor": "white",
            "ticks": ""
           },
           "baxis": {
            "gridcolor": "white",
            "linecolor": "white",
            "ticks": ""
           },
           "bgcolor": "#E5ECF6",
           "caxis": {
            "gridcolor": "white",
            "linecolor": "white",
            "ticks": ""
           }
          },
          "title": {
           "x": 0.05
          },
          "xaxis": {
           "automargin": true,
           "gridcolor": "white",
           "linecolor": "white",
           "ticks": "",
           "title": {
            "standoff": 15
           },
           "zerolinecolor": "white",
           "zerolinewidth": 2
          },
          "yaxis": {
           "automargin": true,
           "gridcolor": "white",
           "linecolor": "white",
           "ticks": "",
           "title": {
            "standoff": 15
           },
           "zerolinecolor": "white",
           "zerolinewidth": 2
          }
         }
        },
        "title": {
         "text": "Sample of Random Portfolios"
        },
        "xaxis": {
         "title": {
          "text": "Volatility (Standard Deviation)"
         }
        },
        "yaxis": {
         "title": {
          "text": "Annualised Returns"
         }
        }
       }
      }
     },
     "metadata": {},
     "output_type": "display_data"
    }
   ],
   "source": [
    "fig1 = go.Figure()\n",
    "\n",
    "fig1.add_trace(go.Scatter(\n",
    "    x=[np.sqrt(p[\"variance\"]) for p in all_portfolios],\n",
    "    y=[p[\"return\"] for p in all_portfolios],\n",
    "    mode='markers',\n",
    "    marker=dict(\n",
    "        color=[p[\"sharpe\"] for p in all_portfolios],\n",
    "        showscale=True,\n",
    "        size=7,\n",
    "        line=dict(width=1),\n",
    "        colorscale=\"RdBu\",\n",
    "        colorbar=dict(title=\"Sharpe<br>Ratio\")\n",
    "    ),\n",
    "    hoverinfo='text',\n",
    "    text=[\n",
    "        f\"Return: {p['return']:.3%}<br>Volatility: {np.sqrt(p['variance']):.3f}<br>\" +\n",
    "        f\"Sharpe Ratio: {p['return'] / (np.sqrt(p['variance'])):.3f}<br>\" +\n",
    "        \"<br>\".join([f\"{p['tickers'][i]}: Weight={p['weights'][i]:.3f}\" for i in range(len(p['tickers']))])\n",
    "        for p in all_portfolios\n",
    "    ]\n",
    "))\n",
    "\n",
    "fig1.update_layout(\n",
    "    xaxis=dict(title='Volatility (Standard Deviation)'),\n",
    "    yaxis=dict(title='Annualised Returns'),\n",
    "    title='Sample of Random Portfolios'\n",
    ")\n",
    "\n",
    "fig1.show()"
   ]
  },
  {
   "cell_type": "code",
   "execution_count": 9,
   "metadata": {},
   "outputs": [
    {
     "data": {
      "application/vnd.plotly.v1+json": {
       "config": {
        "plotlyServerURL": "https://plot.ly"
       },
       "data": [
        {
         "hoverinfo": "text",
         "marker": {
          "color": [
           2.5162701052349665,
           2.420746702493968,
           2.4113803614568,
           2.6937708631843615,
           2.8698101588677334,
           3.0688986745143287,
           2.2520725080088204,
           3.5056257472703174,
           2.495076650418411,
           2.758944116614893,
           2.5310325876065414,
           2.6017550868714676,
           3.530828870394853,
           3.9406739139762887,
           3.0259387071405177,
           3.285348345902727,
           3.1403906135532336,
           2.625486706655304,
           2.915142933653875,
           3.288229745179742,
           3.4964202834204396,
           2.1207290934270606,
           2.850613760863646,
           2.7364873519368076,
           4.093051758513524,
           3.7728058277652887,
           3.622215082434274,
           3.784729973261876,
           3.4996203671952015,
           0.6002028237576614,
           3.47101042624273,
           4.177288236000746,
           2.799634826548899,
           4.140211934562403,
           3.607369695044681,
           4.487836147585603,
           3.2639809011623266,
           3.461163378188935,
           4.077281668062944,
           2.8615360949353383,
           3.2600693460241272,
           2.0219518009261814,
           3.4159286513077594,
           2.6831020212147667,
           4.509613235716579,
           3.988784814859705,
           3.2563636422328415,
           3.2548367065166643,
           2.8604618627911758,
           3.3848658750530642,
           3.6155320177157724,
           2.825425549522722,
           2.822728807549109,
           3.4159286513077705,
           3.748163636059089,
           2.9121673357840283,
           3.4695753303885644,
           3.9778876566623778,
           4.255497292010252,
           2.84812230806533,
           4.402517915781668,
           3.0025562400903065,
           4.342283624232021,
           3.902652610508933,
           4.3029668537607435
          ],
          "colorbar": {
           "title": {
            "text": "Sharpe<br>Ratio"
           }
          },
          "colorscale": [
           [
            0,
            "rgb(103,0,31)"
           ],
           [
            0.1,
            "rgb(178,24,43)"
           ],
           [
            0.2,
            "rgb(214,96,77)"
           ],
           [
            0.3,
            "rgb(244,165,130)"
           ],
           [
            0.4,
            "rgb(253,219,199)"
           ],
           [
            0.5,
            "rgb(247,247,247)"
           ],
           [
            0.6,
            "rgb(209,229,240)"
           ],
           [
            0.7,
            "rgb(146,197,222)"
           ],
           [
            0.8,
            "rgb(67,147,195)"
           ],
           [
            0.9,
            "rgb(33,102,172)"
           ],
           [
            1,
            "rgb(5,48,97)"
           ]
          ],
          "line": {
           "width": 1
          },
          "showscale": true,
          "size": 7
         },
         "mode": "markers",
         "name": "Portfolios",
         "text": [
          "Return: 22.278%<br>Volatility: 0.089<br>Sharpe Ratio: 2.516<br>QCOM_Close: Weight=0.039<br>SAP_Close: Weight=0.271<br>LMT_Close: Weight=0.589<br>VZ_Close: Weight=0.102",
          "Return: 35.835%<br>Volatility: 0.148<br>Sharpe Ratio: 2.421<br>MSFT_Close: Weight=0.969<br>WFC_Close: Weight=0.027<br>RMD_Close: Weight=0.005",
          "Return: 31.439%<br>Volatility: 0.130<br>Sharpe Ratio: 2.411<br>IBM_Close: Weight=0.000<br>NKE_Close: Weight=0.047<br>HD_Close: Weight=0.953",
          "Return: 21.978%<br>Volatility: 0.082<br>Sharpe Ratio: 2.694<br>AEP_Close: Weight=0.311<br>MDT_Close: Weight=0.000<br>HON_Close: Weight=0.689",
          "Return: 42.848%<br>Volatility: 0.149<br>Sharpe Ratio: 2.870<br>AMZN_Close: Weight=0.340<br>BSX_Close: Weight=0.000<br>DE_Close: Weight=0.660",
          "Return: 51.058%<br>Volatility: 0.166<br>Sharpe Ratio: 3.069<br>MRK_Close: Weight=0.000<br>MSFT_Close: Weight=0.496<br>PYPL_Close: Weight=0.504",
          "Return: 26.168%<br>Volatility: 0.116<br>Sharpe Ratio: 2.252<br>CSCO_Close: Weight=0.125<br>MMM_Close: Weight=0.785<br>TSLA_Close: Weight=0.090<br>DHR_Close: Weight=0.000",
          "Return: 51.115%<br>Volatility: 0.146<br>Sharpe Ratio: 3.506<br>MS_Close: Weight=0.000<br>BMY_Close: Weight=0.069<br>CAT_Close: Weight=0.584<br>TXN_Close: Weight=0.347",
          "Return: 30.313%<br>Volatility: 0.121<br>Sharpe Ratio: 2.495<br>PM_Close: Weight=0.000<br>V_Close: Weight=0.872<br>GOOGL_Close: Weight=0.128<br>CPB_Close: Weight=0.000",
          "Return: 31.325%<br>Volatility: 0.114<br>Sharpe Ratio: 2.759<br>REGN_Close: Weight=0.000<br>EMR_Close: Weight=0.226<br>V_Close: Weight=0.584<br>ADBE_Close: Weight=0.190",
          "Return: 28.007%<br>Volatility: 0.111<br>Sharpe Ratio: 2.531<br>MO_Close: Weight=0.000<br>NKE_Close: Weight=0.063<br>V_Close: Weight=0.851<br>COST_Close: Weight=0.086",
          "Return: 37.500%<br>Volatility: 0.144<br>Sharpe Ratio: 2.602<br>SRE_Close: Weight=0.000<br>MA_Close: Weight=1.000<br>QCOM_Close: Weight=0.000",
          "Return: 67.331%<br>Volatility: 0.191<br>Sharpe Ratio: 3.531<br>WFC_Close: Weight=0.000<br>CAT_Close: Weight=0.806<br>NVDA_Close: Weight=0.194",
          "Return: 45.725%<br>Volatility: 0.116<br>Sharpe Ratio: 3.941<br>MMM_Close: Weight=0.304<br>BA_Close: Weight=0.509<br>BAC_Close: Weight=0.012<br>AMZN_Close: Weight=0.176",
          "Return: 54.051%<br>Volatility: 0.179<br>Sharpe Ratio: 3.026<br>ABBV_Close: Weight=1.000<br>PG_Close: Weight=0.000<br>BMY_Close: Weight=0.000",
          "Return: 35.227%<br>Volatility: 0.107<br>Sharpe Ratio: 3.285<br>KR_Close: Weight=0.000<br>BABA_Close: Weight=0.282<br>MMM_Close: Weight=0.477<br>SYY_Close: Weight=0.241",
          "Return: 33.524%<br>Volatility: 0.107<br>Sharpe Ratio: 3.140<br>DE_Close: Weight=0.356<br>GIS_Close: Weight=0.000<br>LMT_Close: Weight=0.430<br>INTC_Close: Weight=0.214",
          "Return: 24.405%<br>Volatility: 0.093<br>Sharpe Ratio: 2.625<br>CMCSA_Close: Weight=0.052<br>HON_Close: Weight=0.749<br>GOOGL_Close: Weight=0.199",
          "Return: 27.974%<br>Volatility: 0.096<br>Sharpe Ratio: 2.915<br>V_Close: Weight=0.460<br>META_Close: Weight=0.090<br>MMM_Close: Weight=0.385<br>PG_Close: Weight=0.064",
          "Return: 51.880%<br>Volatility: 0.158<br>Sharpe Ratio: 3.288<br>EMR_Close: Weight=0.000<br>CAT_Close: Weight=0.777<br>PFE_Close: Weight=0.223",
          "Return: 40.385%<br>Volatility: 0.116<br>Sharpe Ratio: 3.496<br>MO_Close: Weight=0.000<br>COST_Close: Weight=0.071<br>ABBV_Close: Weight=0.468<br>V_Close: Weight=0.461",
          "Return: 15.270%<br>Volatility: 0.072<br>Sharpe Ratio: 2.121<br>CVX_Close: Weight=0.134<br>KO_Close: Weight=0.619<br>EMR_Close: Weight=0.247",
          "Return: 28.654%<br>Volatility: 0.101<br>Sharpe Ratio: 2.851<br>QCOM_Close: Weight=0.008<br>AEP_Close: Weight=0.389<br>GIS_Close: Weight=0.000<br>MA_Close: Weight=0.603",
          "Return: 29.033%<br>Volatility: 0.106<br>Sharpe Ratio: 2.736<br>REGN_Close: Weight=0.000<br>PEP_Close: Weight=0.342<br>K_Close: Weight=0.000<br>MA_Close: Weight=0.658",
          "Return: 43.498%<br>Volatility: 0.106<br>Sharpe Ratio: 4.093<br>ISRG_Close: Weight=0.280<br>TMO_Close: Weight=0.000<br>AEP_Close: Weight=0.321<br>CAT_Close: Weight=0.399",
          "Return: 48.597%<br>Volatility: 0.129<br>Sharpe Ratio: 3.773<br>ABBV_Close: Weight=0.560<br>SRE_Close: Weight=0.000<br>NKE_Close: Weight=0.019<br>WMT_Close: Weight=0.421",
          "Return: 30.301%<br>Volatility: 0.084<br>Sharpe Ratio: 3.622<br>HD_Close: Weight=0.350<br>AMZN_Close: Weight=0.158<br>ABT_Close: Weight=0.205<br>LMT_Close: Weight=0.287",
          "Return: 38.174%<br>Volatility: 0.101<br>Sharpe Ratio: 3.785<br>KO_Close: Weight=0.309<br>HD_Close: Weight=0.322<br>CAT_Close: Weight=0.369",
          "Return: 50.173%<br>Volatility: 0.143<br>Sharpe Ratio: 3.500<br>BA_Close: Weight=0.766<br>GS_Close: Weight=0.000<br>EMR_Close: Weight=0.178<br>RTX_Close: Weight=0.056",
          "Return: 4.215%<br>Volatility: 0.070<br>Sharpe Ratio: 0.600<br>RDY_Close: Weight=0.000<br>GILD_Close: Weight=0.191<br>XOM_Close: Weight=0.386<br>PG_Close: Weight=0.423",
          "Return: 30.806%<br>Volatility: 0.089<br>Sharpe Ratio: 3.471<br>HON_Close: Weight=0.538<br>GIS_Close: Weight=0.000<br>MRK_Close: Weight=0.000<br>MCD_Close: Weight=0.462",
          "Return: 58.856%<br>Volatility: 0.141<br>Sharpe Ratio: 4.177<br>BA_Close: Weight=0.554<br>NVDA_Close: Weight=0.086<br>PYPL_Close: Weight=0.221<br>INTC_Close: Weight=0.139",
          "Return: 22.638%<br>Volatility: 0.081<br>Sharpe Ratio: 2.800<br>PFE_Close: Weight=0.159<br>ACN_Close: Weight=0.362<br>NEE_Close: Weight=0.478",
          "Return: 36.783%<br>Volatility: 0.089<br>Sharpe Ratio: 4.140<br>MSFT_Close: Weight=0.265<br>JPM_Close: Weight=0.085<br>BA_Close: Weight=0.362<br>KO_Close: Weight=0.288",
          "Return: 46.033%<br>Volatility: 0.128<br>Sharpe Ratio: 3.607<br>BTI_Close: Weight=0.058<br>MRK_Close: Weight=0.000<br>CAT_Close: Weight=0.529<br>MMM_Close: Weight=0.413",
          "Return: 56.659%<br>Volatility: 0.126<br>Sharpe Ratio: 4.488<br>ABBV_Close: Weight=0.450<br>DE_Close: Weight=0.154<br>CAT_Close: Weight=0.396<br>KR_Close: Weight=0.000",
          "Return: 59.642%<br>Volatility: 0.183<br>Sharpe Ratio: 3.264<br>COST_Close: Weight=0.084<br>CAT_Close: Weight=0.916<br>MDT_Close: Weight=0.000",
          "Return: 27.841%<br>Volatility: 0.080<br>Sharpe Ratio: 3.461<br>TXN_Close: Weight=0.276<br>AEP_Close: Weight=0.317<br>HD_Close: Weight=0.347<br>CRM_Close: Weight=0.060",
          "Return: 49.367%<br>Volatility: 0.121<br>Sharpe Ratio: 4.077<br>META_Close: Weight=0.001<br>TMO_Close: Weight=0.276<br>BABA_Close: Weight=0.168<br>BA_Close: Weight=0.555",
          "Return: 22.820%<br>Volatility: 0.080<br>Sharpe Ratio: 2.862<br>KO_Close: Weight=0.415<br>META_Close: Weight=0.064<br>V_Close: Weight=0.437<br>SYK_Close: Weight=0.084",
          "Return: 59.047%<br>Volatility: 0.181<br>Sharpe Ratio: 3.260<br>QCOM_Close: Weight=0.043<br>CSCO_Close: Weight=0.016<br>JPM_Close: Weight=0.053<br>CAT_Close: Weight=0.888",
          "Return: 14.018%<br>Volatility: 0.069<br>Sharpe Ratio: 2.022<br>KO_Close: Weight=0.555<br>CVX_Close: Weight=0.223<br>NKE_Close: Weight=0.064<br>CSCO_Close: Weight=0.157",
          "Return: 59.541%<br>Volatility: 0.174<br>Sharpe Ratio: 3.416<br>BA_Close: Weight=1.000<br>F_Close: Weight=0.000<br>RDY_Close: Weight=0.000",
          "Return: 20.046%<br>Volatility: 0.075<br>Sharpe Ratio: 2.683<br>SYY_Close: Weight=0.202<br>GILD_Close: Weight=0.046<br>CVX_Close: Weight=0.218<br>NEE_Close: Weight=0.534",
          "Return: 53.600%<br>Volatility: 0.119<br>Sharpe Ratio: 4.510<br>CAT_Close: Weight=0.423<br>DUK_Close: Weight=0.108<br>VRTX_Close: Weight=0.064<br>ABBV_Close: Weight=0.405",
          "Return: 41.095%<br>Volatility: 0.103<br>Sharpe Ratio: 3.989<br>TMO_Close: Weight=0.040<br>TXN_Close: Weight=0.274<br>ABBV_Close: Weight=0.361<br>HD_Close: Weight=0.325",
          "Return: 61.864%<br>Volatility: 0.190<br>Sharpe Ratio: 3.256<br>UA_Close: Weight=0.000<br>QCOM_Close: Weight=0.049<br>BSX_Close: Weight=0.000<br>CAT_Close: Weight=0.951",
          "Return: 60.381%<br>Volatility: 0.186<br>Sharpe Ratio: 3.255<br>CAT_Close: Weight=0.921<br>GILD_Close: Weight=0.017<br>JPM_Close: Weight=0.061",
          "Return: 19.898%<br>Volatility: 0.070<br>Sharpe Ratio: 2.860<br>REGN_Close: Weight=0.000<br>KO_Close: Weight=0.379<br>HON_Close: Weight=0.487<br>JPM_Close: Weight=0.134",
          "Return: 26.478%<br>Volatility: 0.078<br>Sharpe Ratio: 3.385<br>PFE_Close: Weight=0.139<br>MCD_Close: Weight=0.410<br>NEE_Close: Weight=0.330<br>JNJ_Close: Weight=0.121",
          "Return: 31.319%<br>Volatility: 0.087<br>Sharpe Ratio: 3.616<br>LMT_Close: Weight=0.372<br>LLY_Close: Weight=0.000<br>BABA_Close: Weight=0.196<br>NEE_Close: Weight=0.432",
          "Return: 20.382%<br>Volatility: 0.072<br>Sharpe Ratio: 2.825<br>KO_Close: Weight=0.363<br>TMO_Close: Weight=0.112<br>WFC_Close: Weight=0.000<br>HON_Close: Weight=0.525",
          "Return: 20.137%<br>Volatility: 0.071<br>Sharpe Ratio: 2.823<br>KO_Close: Weight=0.395<br>LMT_Close: Weight=0.397<br>EW_Close: Weight=0.037<br>GOOGL_Close: Weight=0.171",
          "Return: 59.541%<br>Volatility: 0.174<br>Sharpe Ratio: 3.416<br>ZBH_Close: Weight=0.000<br>T_Close: Weight=0.000<br>MRK_Close: Weight=0.000<br>BA_Close: Weight=1.000",
          "Return: 37.713%<br>Volatility: 0.101<br>Sharpe Ratio: 3.748<br>ETN_Close: Weight=0.000<br>CAT_Close: Weight=0.396<br>ACN_Close: Weight=0.306<br>KO_Close: Weight=0.298",
          "Return: 21.093%<br>Volatility: 0.072<br>Sharpe Ratio: 2.912<br>CRM_Close: Weight=0.161<br>KO_Close: Weight=0.336<br>HON_Close: Weight=0.498<br>BMY_Close: Weight=0.005",
          "Return: 26.235%<br>Volatility: 0.076<br>Sharpe Ratio: 3.470<br>HD_Close: Weight=0.388<br>NEE_Close: Weight=0.499<br>MS_Close: Weight=0.114",
          "Return: 64.543%<br>Volatility: 0.162<br>Sharpe Ratio: 3.978<br>GIS_Close: Weight=0.000<br>META_Close: Weight=0.000<br>PYPL_Close: Weight=0.410<br>CAT_Close: Weight=0.590",
          "Return: 49.326%<br>Volatility: 0.116<br>Sharpe Ratio: 4.255<br>JNJ_Close: Weight=0.271<br>VRTX_Close: Weight=0.068<br>BA_Close: Weight=0.447<br>PYPL_Close: Weight=0.214",
          "Return: 21.420%<br>Volatility: 0.075<br>Sharpe Ratio: 2.848<br>JNJ_Close: Weight=0.255<br>BAC_Close: Weight=0.021<br>CVX_Close: Weight=0.154<br>HON_Close: Weight=0.570",
          "Return: 59.014%<br>Volatility: 0.134<br>Sharpe Ratio: 4.403<br>T_Close: Weight=0.000<br>ABBV_Close: Weight=0.506<br>CAT_Close: Weight=0.494<br>BIIB_Close: Weight=0.000",
          "Return: 68.124%<br>Volatility: 0.227<br>Sharpe Ratio: 3.003<br>NVDA_Close: Weight=0.216<br>PYPL_Close: Weight=0.776<br>BTI_Close: Weight=0.000<br>QCOM_Close: Weight=0.009",
          "Return: 39.470%<br>Volatility: 0.091<br>Sharpe Ratio: 4.342<br>CVX_Close: Weight=0.141<br>BA_Close: Weight=0.335<br>UNH_Close: Weight=0.281<br>V_Close: Weight=0.242",
          "Return: 31.990%<br>Volatility: 0.082<br>Sharpe Ratio: 3.903<br>HD_Close: Weight=0.360<br>BABA_Close: Weight=0.188<br>PEP_Close: Weight=0.195<br>LMT_Close: Weight=0.258",
          "Return: 59.607%<br>Volatility: 0.139<br>Sharpe Ratio: 4.303<br>CAT_Close: Weight=0.431<br>COST_Close: Weight=0.039<br>BA_Close: Weight=0.529"
         ],
         "type": "scatter",
         "x": [
          0.08853657058974435,
          0.1480336758403039,
          0.1303781137061775,
          0.08158956676881858,
          0.14930606482908024,
          0.1663714278220033,
          0.11619487804696782,
          0.14580879630686838,
          0.12148980987246577,
          0.11354014894434451,
          0.11065629703661721,
          0.14413320998707913,
          0.19069591774607755,
          0.11603438272283859,
          0.17862442005935564,
          0.10722411413450308,
          0.1067504273596987,
          0.09295368862035845,
          0.09596054195887921,
          0.157774766443911,
          0.11550446844355626,
          0.07200564027713656,
          0.10051847520399161,
          0.10609491218205155,
          0.10627334970721106,
          0.12880809901508328,
          0.08365213160978471,
          0.10086394262868681,
          0.14336807120733686,
          0.07022924210186733,
          0.08875179206630555,
          0.1408963445573629,
          0.08086151665080872,
          0.0888436916723406,
          0.12760919174825067,
          0.1262508627754021,
          0.1827273483584238,
          0.08043817460532608,
          0.12107732278167571,
          0.07974910589026667,
          0.18112228479877332,
          0.06932811114897752,
          0.17430329504021794,
          0.07471220109840705,
          0.1188581050006059,
          0.10302662467038448,
          0.18997779384235866,
          0.18551264079978702,
          0.06956291675533455,
          0.07822331437827128,
          0.08662285066783804,
          0.07213803918451997,
          0.07134028420906378,
          0.17430329504021974,
          0.10061819794775878,
          0.07243122169675337,
          0.0756143584491974,
          0.16225505953160815,
          0.1159110208203164,
          0.07520857462507333,
          0.1340462488667387,
          0.2268853617190171,
          0.09089574034806576,
          0.08196988521805901,
          0.1385260015046831
         ],
         "y": [
          0.22278192579499903,
          0.3583520326484767,
          0.31439122295485805,
          0.21978359770167852,
          0.4284800616270589,
          0.5105770543200022,
          0.26167929042101384,
          0.5111510705118509,
          0.30312638787656154,
          0.31325092592957793,
          0.2800746938235473,
          0.37499931227099653,
          0.6733146518442928,
          0.45725366512023097,
          0.5405065466981314,
          0.3522685660126749,
          0.3352380400731941,
          0.24404867380732753,
          0.2797386958010229,
          0.5187996800596548,
          0.4038521662917462,
          0.15270445622656686,
          0.28653934863752967,
          0.2903273852910304,
          0.4349823209022229,
          0.48596794662747456,
          0.30300601279473904,
          0.3817427868881572,
          0.501733822002688,
          0.04215178941990121,
          0.3080583956098734,
          0.5885646426149798,
          0.22638271814316777,
          0.367831712572407,
          0.46033353112178527,
          0.5665931856273192,
          0.5964185751619305,
          0.2784096641523218,
          0.4936663485958662,
          0.22820494504381847,
          0.5904712085543327,
          0.14017809919248558,
          0.5954076195452301,
          0.2004604577765401,
          0.5360040834829232,
          0.41095103601147986,
          0.6186367806998629,
          0.6038133527979878,
          0.19898207044315175,
          0.26477542747255817,
          0.3131876900553805,
          0.20382065900441398,
          0.20137427537566516,
          0.5954076195452382,
          0.3771334706735847,
          0.21093183791621656,
          0.2623497126984934,
          0.6454323985418033,
          0.49325903521500036,
          0.21420321914746748,
          0.5901410121791452,
          0.6812360586145811,
          0.39469508482585175,
          0.31989998652937557,
          0.5960727928586623
         ]
        },
        {
         "hoverinfo": "text",
         "hovertext": [
          "ADBE_Close <br>Volatility: 0.228 <br>Returns: 45.540% <br>Sharpe Ratio: 1.999",
          "BTI_Close <br>Volatility: 0.191 <br>Returns: 11.154% <br>Sharpe Ratio: 0.584",
          "ORCL_Close <br>Volatility: 0.187 <br>Returns: 13.134% <br>Sharpe Ratio: 0.701",
          "XOM_Close <br>Volatility: 0.104 <br>Returns: 3.880% <br>Sharpe Ratio: 0.374",
          "HD_Close <br>Volatility: 0.135 <br>Returns: 32.454% <br>Sharpe Ratio: 2.404",
          "JPM_Close <br>Volatility: 0.156 <br>Returns: 19.920% <br>Sharpe Ratio: 1.276",
          "MSFT_Close <br>Volatility: 0.152 <br>Returns: 36.718% <br>Sharpe Ratio: 2.419",
          "AMZN_Close <br>Volatility: 0.212 <br>Returns: 38.442% <br>Sharpe Ratio: 1.813",
          "GIS_Close <br>Volatility: 0.174 <br>Returns: -0.030% <br>Sharpe Ratio: -0.002",
          "BAC_Close <br>Volatility: 0.209 <br>Returns: 20.360% <br>Sharpe Ratio: 0.972",
          "RTX_Close <br>Volatility: 0.136 <br>Returns: 16.980% <br>Sharpe Ratio: 1.244",
          "CSCO_Close <br>Volatility: 0.164 <br>Returns: 16.111% <br>Sharpe Ratio: 0.982",
          "CMCSA_Close <br>Volatility: 0.206 <br>Returns: 9.549% <br>Sharpe Ratio: 0.465",
          "AEP_Close <br>Volatility: 0.106 <br>Returns: 15.149% <br>Sharpe Ratio: 1.424",
          "MO_Close <br>Volatility: 0.178 <br>Returns: -2.746% <br>Sharpe Ratio: -0.154",
          "CPB_Close <br>Volatility: 0.240 <br>Returns: -23.666% <br>Sharpe Ratio: -0.984",
          "CRM_Close <br>Volatility: 0.156 <br>Returns: 25.484% <br>Sharpe Ratio: 1.634",
          "VZ_Close <br>Volatility: 0.169 <br>Returns: 11.300% <br>Sharpe Ratio: 0.668",
          "RMD_Close <br>Volatility: 0.201 <br>Returns: 20.344% <br>Sharpe Ratio: 1.013",
          "PM_Close <br>Volatility: 0.140 <br>Returns: -0.165% <br>Sharpe Ratio: -0.012",
          "BIIB_Close <br>Volatility: 0.228 <br>Returns: 9.799% <br>Sharpe Ratio: 0.430",
          "KR_Close <br>Volatility: 0.363 <br>Returns: -11.512% <br>Sharpe Ratio: -0.317",
          "MA_Close <br>Volatility: 0.144 <br>Returns: 37.500% <br>Sharpe Ratio: 2.602",
          "NVDA_Close <br>Volatility: 0.394 <br>Returns: 80.734% <br>Sharpe Ratio: 2.051",
          "GS_Close <br>Volatility: 0.196 <br>Returns: 2.945% <br>Sharpe Ratio: 0.150",
          "DUK_Close <br>Volatility: 0.094 <br>Returns: 6.184% <br>Sharpe Ratio: 0.655",
          "UA_Close <br>Volatility: 0.464 <br>Returns: -42.368% <br>Sharpe Ratio: -0.913",
          "VRTX_Close <br>Volatility: 0.385 <br>Returns: 61.334% <br>Sharpe Ratio: 1.595",
          "KO_Close <br>Volatility: 0.086 <br>Returns: 13.237% <br>Sharpe Ratio: 1.533",
          "ACN_Close <br>Volatility: 0.133 <br>Returns: 27.346% <br>Sharpe Ratio: 2.059",
          "DE_Close <br>Volatility: 0.179 <br>Returns: 45.118% <br>Sharpe Ratio: 2.527",
          "DHR_Close <br>Volatility: 0.128 <br>Returns: 9.067% <br>Sharpe Ratio: 0.706",
          "LMT_Close <br>Volatility: 0.110 <br>Returns: 24.360% <br>Sharpe Ratio: 2.206",
          "TXN_Close <br>Volatility: 0.161 <br>Returns: 37.142% <br>Sharpe Ratio: 2.300",
          "SAP_Close <br>Volatility: 0.137 <br>Returns: 22.379% <br>Sharpe Ratio: 1.628",
          "SO_Close <br>Volatility: 0.119 <br>Returns: -1.259% <br>Sharpe Ratio: -0.106",
          "MDT_Close <br>Volatility: 0.152 <br>Returns: 0.821% <br>Sharpe Ratio: 0.054",
          "ABBV_Close <br>Volatility: 0.179 <br>Returns: 54.051% <br>Sharpe Ratio: 3.026",
          "AMGN_Close <br>Volatility: 0.168 <br>Returns: -0.355% <br>Sharpe Ratio: -0.021",
          "NEE_Close <br>Volatility: 0.112 <br>Returns: 23.547% <br>Sharpe Ratio: 2.101",
          "CAT_Close <br>Volatility: 0.197 <br>Returns: 64.107% <br>Sharpe Ratio: 3.250",
          "T_Close <br>Volatility: 0.175 <br>Returns: -3.526% <br>Sharpe Ratio: -0.201",
          "QCOM_Close <br>Volatility: 0.239 <br>Returns: 18.777% <br>Sharpe Ratio: 0.786",
          "CVX_Close <br>Volatility: 0.141 <br>Returns: 15.444% <br>Sharpe Ratio: 1.093",
          "GOOGL_Close <br>Volatility: 0.157 <br>Returns: 25.766% <br>Sharpe Ratio: 1.638",
          "UNH_Close <br>Volatility: 0.141 <br>Returns: 34.904% <br>Sharpe Ratio: 2.475",
          "SYK_Close <br>Volatility: 0.155 <br>Returns: 21.732% <br>Sharpe Ratio: 1.398",
          "DIS_Close <br>Volatility: 0.158 <br>Returns: -1.539% <br>Sharpe Ratio: -0.097",
          "TSLA_Close <br>Volatility: 0.359 <br>Returns: 26.105% <br>Sharpe Ratio: 0.728",
          "MRK_Close <br>Volatility: 0.151 <br>Returns: -15.661% <br>Sharpe Ratio: -1.038",
          "WFC_Close <br>Volatility: 0.171 <br>Returns: 6.484% <br>Sharpe Ratio: 0.380",
          "MS_Close <br>Volatility: 0.196 <br>Returns: 16.831% <br>Sharpe Ratio: 0.858",
          "MCD_Close <br>Volatility: 0.136 <br>Returns: 37.497% <br>Sharpe Ratio: 2.748",
          "PFE_Close <br>Volatility: 0.108 <br>Returns: 9.217% <br>Sharpe Ratio: 0.854",
          "COST_Close <br>Volatility: 0.199 <br>Returns: 11.207% <br>Sharpe Ratio: 0.564",
          "RDY_Close <br>Volatility: 0.304 <br>Returns: -11.923% <br>Sharpe Ratio: -0.392",
          "EXC_Close <br>Volatility: 0.131 <br>Returns: 12.626% <br>Sharpe Ratio: 0.960",
          "AMD_Close <br>Volatility: 0.583 <br>Returns: -36.203% <br>Sharpe Ratio: -0.621",
          "GE_Close <br>Volatility: 0.213 <br>Returns: -62.754% <br>Sharpe Ratio: -2.947",
          "PEP_Close <br>Volatility: 0.098 <br>Returns: 12.729% <br>Sharpe Ratio: 1.302",
          "SRE_Close <br>Volatility: 0.134 <br>Returns: 0.416% <br>Sharpe Ratio: 0.031",
          "GILD_Close <br>Volatility: 0.189 <br>Returns: 5.321% <br>Sharpe Ratio: 0.281",
          "F_Close <br>Volatility: 0.166 <br>Returns: 2.996% <br>Sharpe Ratio: 0.180",
          "NFLX_Close <br>Volatility: 0.287 <br>Returns: 38.281% <br>Sharpe Ratio: 1.334",
          "IBM_Close <br>Volatility: 0.158 <br>Returns: -15.905% <br>Sharpe Ratio: -1.009",
          "WMT_Close <br>Volatility: 0.182 <br>Returns: 43.058% <br>Sharpe Ratio: 2.372",
          "EMR_Close <br>Volatility: 0.163 <br>Returns: 20.268% <br>Sharpe Ratio: 1.246",
          "AAPL_Close <br>Volatility: 0.176 <br>Returns: 25.044% <br>Sharpe Ratio: 1.423",
          "LLY_Close <br>Volatility: 0.147 <br>Returns: 4.513% <br>Sharpe Ratio: 0.308",
          "GOOG_Close <br>Volatility: 0.160 <br>Returns: 27.711% <br>Sharpe Ratio: 1.737",
          "BABA_Close <br>Volatility: 0.267 <br>Returns: 61.610% <br>Sharpe Ratio: 2.305",
          "SYY_Close <br>Volatility: 0.161 <br>Returns: 19.125% <br>Sharpe Ratio: 1.185",
          "JNJ_Close <br>Volatility: 0.114 <br>Returns: 16.968% <br>Sharpe Ratio: 1.485",
          "REGN_Close <br>Volatility: 0.282 <br>Returns: 0.032% <br>Sharpe Ratio: 0.001",
          "HON_Close <br>Volatility: 0.102 <br>Returns: 25.067% <br>Sharpe Ratio: 2.467",
          "INTC_Close <br>Volatility: 0.176 <br>Returns: 32.628% <br>Sharpe Ratio: 1.858",
          "META_Close <br>Volatility: 0.173 <br>Returns: 30.584% <br>Sharpe Ratio: 1.771",
          "ISRG_Close <br>Volatility: 0.191 <br>Returns: 46.587% <br>Sharpe Ratio: 2.436",
          "TMO_Close <br>Volatility: 0.163 <br>Returns: 21.553% <br>Sharpe Ratio: 1.323",
          "MMM_Close <br>Volatility: 0.131 <br>Returns: 27.772% <br>Sharpe Ratio: 2.118",
          "BSX_Close <br>Volatility: 0.170 <br>Returns: -1.012% <br>Sharpe Ratio: -0.059",
          "NKE_Close <br>Volatility: 0.226 <br>Returns: 10.695% <br>Sharpe Ratio: 0.474",
          "K_Close <br>Volatility: 0.182 <br>Returns: -9.007% <br>Sharpe Ratio: -0.496",
          "EW_Close <br>Volatility: 0.232 <br>Returns: 22.603% <br>Sharpe Ratio: 0.973",
          "PG_Close <br>Volatility: 0.098 <br>Returns: 4.023% <br>Sharpe Ratio: 0.410",
          "ABT_Close <br>Volatility: 0.140 <br>Returns: 28.667% <br>Sharpe Ratio: 2.053",
          "ZBH_Close <br>Volatility: 0.194 <br>Returns: 3.617% <br>Sharpe Ratio: 0.186",
          "ETN_Close <br>Volatility: 0.155 <br>Returns: 13.763% <br>Sharpe Ratio: 0.886",
          "GM_Close <br>Volatility: 0.189 <br>Returns: 14.706% <br>Sharpe Ratio: 0.777",
          "V_Close <br>Volatility: 0.125 <br>Returns: 30.982% <br>Sharpe Ratio: 2.471",
          "BMY_Close <br>Volatility: 0.180 <br>Returns: 11.411% <br>Sharpe Ratio: 0.633",
          "SNAP_Close <br>Volatility: 0.633 <br>Returns: -61.938% <br>Sharpe Ratio: -0.978",
          "PYPL_Close <br>Volatility: 0.231 <br>Returns: 65.170% <br>Sharpe Ratio: 2.817",
          "BA_Close <br>Volatility: 0.174 <br>Returns: 59.541% <br>Sharpe Ratio: 3.416"
         ],
         "marker": {
          "color": "brown",
          "line": {
           "width": 1
          },
          "size": 5,
          "symbol": "triangle-up"
         },
         "mode": "markers",
         "name": "Individual Assets",
         "type": "scatter",
         "x": {
          "bdata": "0vo+au8ozT9veJXOPW3IP0LNUA4j98c/qxL0E+CWuj/S+pdFdUjBP/WGpdLn/MM/NHzCZN9swz+YOtANKSLLPwIxOtvSO8Y/H96yPIPMyj/nF6+KmHfBP7Dy1wL8/cQ/VmBXsV1Qyj+6ol4luDy7P7iyv87LxcY/wfigygXHzj+U4uKT9PXDP/xTuAWHqsU/QR2citayyT+w7qti5+HBP52qZ0DKJc0/Z2SpQak11z+YvJT/9HLCPyXjCzqRMtk/UTOHpw4fyT+2VquHaSu4P6mXWruhst0/DkSFl3ad2D/LOp8Asxu2P+IkHdkHAcE/VNuXavjaxj9M6SXnDG/AP5I8LE1KRrw/bNJOLB6rxD94e8dekZfBP7NrIWvca74/F0orZXhpwz/RADY9Kt3GP2DJ8JTqdcU/O3cDmoCyvD9Fu6omFD/JPyBC0wABa8Y/m87cw0aRzj8UV3iKwRbCP9J4JE/7IMQ/SelWg58Mwj/cxv707ObDP3CPhyLzPMQ/ISwVRQb01j+T6nYFRlLDPyFyjoqW1cU/DyILg/gcyT9PVTSwoXfBPywfuUnGn7s/0iYbPJpxyT9rg4nLuXzTP2FaMtGK08A/fWbr1HOn4j9HTlTUNELLP5np48kcCLk/LIWYPQ4fwT+CXG0zZEDIP8IEzKUdR8U/BdpQFehb0j9SKxNIcSvEP3vxEjKLPMc/uKFuFYXSxD/E4WJyV4jGP/oEQD5UycI/ApfuubFqxD8EnJ7h9hvRPzVuc3Qvp8Q/Vk1aSUZAvT8JcNgkhhLSP2jIoDjOA7o/rlkHlu15xj8mJV99fBrGP15yaA/3ecg/bYjO8pzbxD9ZRrw4c8jAP9pf1IFY0sU/1UewHXPizD93D+vpsj7HP36hAk9nvc0/VI3kTnAYuT8erSgeuuDBPwFdx3Fb3cg/UU2vOdXiwz8MWM6eszvIPwwHGGkwDcA/2wp9O/cWxz9KaSCc0ELkP8yL/rGSnc0/OjLkA5JPxj8=",
          "dtype": "f8"
         },
         "y": {
          "bdata": "JJM7Fj4l3T9VBqmyro28P3D9GQq9z8A/zLWvSC7doz9DBvktTcXUPx8wMjZ4f8k/hjssbOF/1z8ip3Q+ZJrYPwBqnnS4szO/OFGVBpwPyj9Sj3yMHrzFP6f9FkVcn8Q/0klj3DByuD8eDqNO8GPDP9YUgpz2Hpy/MzihlQNLzr8/+JEIVU/QP6EldqxG7bw/A6q7miwKyj+aAc5v1Ptav22br0vZFbk/P0DCssR4vb+xfY4d/f/XPzxf/gW/1ek/tcaDNPUmnj+ahdjmu6mvP8xF+lqJHdu/Ce9CmXag4z9hajCIY/HAP07JRYdpgNE/cQ5xQB3g3D9Kfj216TW3PzKoJ0BZLs8/Y7jZNGHF1z8gSgtvCKXMP4ygCNsVyIm/goywfOPNgD+89Kpi1EvhPwbUkfiEFm2/f/FFxdMjzj+iKWugq4PkP4oMJpMyDaK/TNFt9dMIyD+THbKersTDP8B2qfCIfdA/jXJ9HbVW1j+QkNwpLtHLPy6CGfrjgo+/YlcBRfu00D8/TCH25gvEv3tCfmcvmbA/NNDJsiaLxT+OMx+vgf/XPwsGhNG6mLc/N4zCq+WwvD/4O+TJCYa+v9+YPXlPKcA/aQGnVXAr17/NIHnxyBTkvxPFuuEaS8A/urcpoLAMcT/MUss6Tj6rPzYOfGfTrp4/Jwot9vB/2D+Iyv0ruFvEv8wKb8mvjts/VXaMG0TxyT+Nbxm+MQfQP5oHXx/XG6c/6OfENTO80T8S/DIUHrfjP6J9A2nTesg/PjRtDjC4xT+ZSedeYOw0P2Gr21sIC9A/bpW75Lbh1D+Lklyt4ZLTP47no0Pg0N0/mgPG1GSWyz8E3eLONMbRP5YunwMfu4S/JN8DmjBhuz+wMvxb9w63v6Jhn8Vs7sw/PvpAzIqYpD9ts7c84FjSP5Vr+M8DhaI/P62dZPedwT93ykRX5dLCP7VYxgcd1NM/OiQDmws2vT9Wi/SZ9tHjv0Rt1iWx2uQ/Yo23R5QN4z8=",
          "dtype": "f8"
         }
        }
       ],
       "layout": {
        "legend": {
         "y": 5
        },
        "template": {
         "data": {
          "bar": [
           {
            "error_x": {
             "color": "#2a3f5f"
            },
            "error_y": {
             "color": "#2a3f5f"
            },
            "marker": {
             "line": {
              "color": "#E5ECF6",
              "width": 0.5
             },
             "pattern": {
              "fillmode": "overlay",
              "size": 10,
              "solidity": 0.2
             }
            },
            "type": "bar"
           }
          ],
          "barpolar": [
           {
            "marker": {
             "line": {
              "color": "#E5ECF6",
              "width": 0.5
             },
             "pattern": {
              "fillmode": "overlay",
              "size": 10,
              "solidity": 0.2
             }
            },
            "type": "barpolar"
           }
          ],
          "carpet": [
           {
            "aaxis": {
             "endlinecolor": "#2a3f5f",
             "gridcolor": "white",
             "linecolor": "white",
             "minorgridcolor": "white",
             "startlinecolor": "#2a3f5f"
            },
            "baxis": {
             "endlinecolor": "#2a3f5f",
             "gridcolor": "white",
             "linecolor": "white",
             "minorgridcolor": "white",
             "startlinecolor": "#2a3f5f"
            },
            "type": "carpet"
           }
          ],
          "choropleth": [
           {
            "colorbar": {
             "outlinewidth": 0,
             "ticks": ""
            },
            "type": "choropleth"
           }
          ],
          "contour": [
           {
            "colorbar": {
             "outlinewidth": 0,
             "ticks": ""
            },
            "colorscale": [
             [
              0,
              "#0d0887"
             ],
             [
              0.1111111111111111,
              "#46039f"
             ],
             [
              0.2222222222222222,
              "#7201a8"
             ],
             [
              0.3333333333333333,
              "#9c179e"
             ],
             [
              0.4444444444444444,
              "#bd3786"
             ],
             [
              0.5555555555555556,
              "#d8576b"
             ],
             [
              0.6666666666666666,
              "#ed7953"
             ],
             [
              0.7777777777777778,
              "#fb9f3a"
             ],
             [
              0.8888888888888888,
              "#fdca26"
             ],
             [
              1,
              "#f0f921"
             ]
            ],
            "type": "contour"
           }
          ],
          "contourcarpet": [
           {
            "colorbar": {
             "outlinewidth": 0,
             "ticks": ""
            },
            "type": "contourcarpet"
           }
          ],
          "heatmap": [
           {
            "colorbar": {
             "outlinewidth": 0,
             "ticks": ""
            },
            "colorscale": [
             [
              0,
              "#0d0887"
             ],
             [
              0.1111111111111111,
              "#46039f"
             ],
             [
              0.2222222222222222,
              "#7201a8"
             ],
             [
              0.3333333333333333,
              "#9c179e"
             ],
             [
              0.4444444444444444,
              "#bd3786"
             ],
             [
              0.5555555555555556,
              "#d8576b"
             ],
             [
              0.6666666666666666,
              "#ed7953"
             ],
             [
              0.7777777777777778,
              "#fb9f3a"
             ],
             [
              0.8888888888888888,
              "#fdca26"
             ],
             [
              1,
              "#f0f921"
             ]
            ],
            "type": "heatmap"
           }
          ],
          "histogram": [
           {
            "marker": {
             "pattern": {
              "fillmode": "overlay",
              "size": 10,
              "solidity": 0.2
             }
            },
            "type": "histogram"
           }
          ],
          "histogram2d": [
           {
            "colorbar": {
             "outlinewidth": 0,
             "ticks": ""
            },
            "colorscale": [
             [
              0,
              "#0d0887"
             ],
             [
              0.1111111111111111,
              "#46039f"
             ],
             [
              0.2222222222222222,
              "#7201a8"
             ],
             [
              0.3333333333333333,
              "#9c179e"
             ],
             [
              0.4444444444444444,
              "#bd3786"
             ],
             [
              0.5555555555555556,
              "#d8576b"
             ],
             [
              0.6666666666666666,
              "#ed7953"
             ],
             [
              0.7777777777777778,
              "#fb9f3a"
             ],
             [
              0.8888888888888888,
              "#fdca26"
             ],
             [
              1,
              "#f0f921"
             ]
            ],
            "type": "histogram2d"
           }
          ],
          "histogram2dcontour": [
           {
            "colorbar": {
             "outlinewidth": 0,
             "ticks": ""
            },
            "colorscale": [
             [
              0,
              "#0d0887"
             ],
             [
              0.1111111111111111,
              "#46039f"
             ],
             [
              0.2222222222222222,
              "#7201a8"
             ],
             [
              0.3333333333333333,
              "#9c179e"
             ],
             [
              0.4444444444444444,
              "#bd3786"
             ],
             [
              0.5555555555555556,
              "#d8576b"
             ],
             [
              0.6666666666666666,
              "#ed7953"
             ],
             [
              0.7777777777777778,
              "#fb9f3a"
             ],
             [
              0.8888888888888888,
              "#fdca26"
             ],
             [
              1,
              "#f0f921"
             ]
            ],
            "type": "histogram2dcontour"
           }
          ],
          "mesh3d": [
           {
            "colorbar": {
             "outlinewidth": 0,
             "ticks": ""
            },
            "type": "mesh3d"
           }
          ],
          "parcoords": [
           {
            "line": {
             "colorbar": {
              "outlinewidth": 0,
              "ticks": ""
             }
            },
            "type": "parcoords"
           }
          ],
          "pie": [
           {
            "automargin": true,
            "type": "pie"
           }
          ],
          "scatter": [
           {
            "fillpattern": {
             "fillmode": "overlay",
             "size": 10,
             "solidity": 0.2
            },
            "type": "scatter"
           }
          ],
          "scatter3d": [
           {
            "line": {
             "colorbar": {
              "outlinewidth": 0,
              "ticks": ""
             }
            },
            "marker": {
             "colorbar": {
              "outlinewidth": 0,
              "ticks": ""
             }
            },
            "type": "scatter3d"
           }
          ],
          "scattercarpet": [
           {
            "marker": {
             "colorbar": {
              "outlinewidth": 0,
              "ticks": ""
             }
            },
            "type": "scattercarpet"
           }
          ],
          "scattergeo": [
           {
            "marker": {
             "colorbar": {
              "outlinewidth": 0,
              "ticks": ""
             }
            },
            "type": "scattergeo"
           }
          ],
          "scattergl": [
           {
            "marker": {
             "colorbar": {
              "outlinewidth": 0,
              "ticks": ""
             }
            },
            "type": "scattergl"
           }
          ],
          "scattermap": [
           {
            "marker": {
             "colorbar": {
              "outlinewidth": 0,
              "ticks": ""
             }
            },
            "type": "scattermap"
           }
          ],
          "scattermapbox": [
           {
            "marker": {
             "colorbar": {
              "outlinewidth": 0,
              "ticks": ""
             }
            },
            "type": "scattermapbox"
           }
          ],
          "scatterpolar": [
           {
            "marker": {
             "colorbar": {
              "outlinewidth": 0,
              "ticks": ""
             }
            },
            "type": "scatterpolar"
           }
          ],
          "scatterpolargl": [
           {
            "marker": {
             "colorbar": {
              "outlinewidth": 0,
              "ticks": ""
             }
            },
            "type": "scatterpolargl"
           }
          ],
          "scatterternary": [
           {
            "marker": {
             "colorbar": {
              "outlinewidth": 0,
              "ticks": ""
             }
            },
            "type": "scatterternary"
           }
          ],
          "surface": [
           {
            "colorbar": {
             "outlinewidth": 0,
             "ticks": ""
            },
            "colorscale": [
             [
              0,
              "#0d0887"
             ],
             [
              0.1111111111111111,
              "#46039f"
             ],
             [
              0.2222222222222222,
              "#7201a8"
             ],
             [
              0.3333333333333333,
              "#9c179e"
             ],
             [
              0.4444444444444444,
              "#bd3786"
             ],
             [
              0.5555555555555556,
              "#d8576b"
             ],
             [
              0.6666666666666666,
              "#ed7953"
             ],
             [
              0.7777777777777778,
              "#fb9f3a"
             ],
             [
              0.8888888888888888,
              "#fdca26"
             ],
             [
              1,
              "#f0f921"
             ]
            ],
            "type": "surface"
           }
          ],
          "table": [
           {
            "cells": {
             "fill": {
              "color": "#EBF0F8"
             },
             "line": {
              "color": "white"
             }
            },
            "header": {
             "fill": {
              "color": "#C8D4E3"
             },
             "line": {
              "color": "white"
             }
            },
            "type": "table"
           }
          ]
         },
         "layout": {
          "annotationdefaults": {
           "arrowcolor": "#2a3f5f",
           "arrowhead": 0,
           "arrowwidth": 1
          },
          "autotypenumbers": "strict",
          "coloraxis": {
           "colorbar": {
            "outlinewidth": 0,
            "ticks": ""
           }
          },
          "colorscale": {
           "diverging": [
            [
             0,
             "#8e0152"
            ],
            [
             0.1,
             "#c51b7d"
            ],
            [
             0.2,
             "#de77ae"
            ],
            [
             0.3,
             "#f1b6da"
            ],
            [
             0.4,
             "#fde0ef"
            ],
            [
             0.5,
             "#f7f7f7"
            ],
            [
             0.6,
             "#e6f5d0"
            ],
            [
             0.7,
             "#b8e186"
            ],
            [
             0.8,
             "#7fbc41"
            ],
            [
             0.9,
             "#4d9221"
            ],
            [
             1,
             "#276419"
            ]
           ],
           "sequential": [
            [
             0,
             "#0d0887"
            ],
            [
             0.1111111111111111,
             "#46039f"
            ],
            [
             0.2222222222222222,
             "#7201a8"
            ],
            [
             0.3333333333333333,
             "#9c179e"
            ],
            [
             0.4444444444444444,
             "#bd3786"
            ],
            [
             0.5555555555555556,
             "#d8576b"
            ],
            [
             0.6666666666666666,
             "#ed7953"
            ],
            [
             0.7777777777777778,
             "#fb9f3a"
            ],
            [
             0.8888888888888888,
             "#fdca26"
            ],
            [
             1,
             "#f0f921"
            ]
           ],
           "sequentialminus": [
            [
             0,
             "#0d0887"
            ],
            [
             0.1111111111111111,
             "#46039f"
            ],
            [
             0.2222222222222222,
             "#7201a8"
            ],
            [
             0.3333333333333333,
             "#9c179e"
            ],
            [
             0.4444444444444444,
             "#bd3786"
            ],
            [
             0.5555555555555556,
             "#d8576b"
            ],
            [
             0.6666666666666666,
             "#ed7953"
            ],
            [
             0.7777777777777778,
             "#fb9f3a"
            ],
            [
             0.8888888888888888,
             "#fdca26"
            ],
            [
             1,
             "#f0f921"
            ]
           ]
          },
          "colorway": [
           "#636efa",
           "#EF553B",
           "#00cc96",
           "#ab63fa",
           "#FFA15A",
           "#19d3f3",
           "#FF6692",
           "#B6E880",
           "#FF97FF",
           "#FECB52"
          ],
          "font": {
           "color": "#2a3f5f"
          },
          "geo": {
           "bgcolor": "white",
           "lakecolor": "white",
           "landcolor": "#E5ECF6",
           "showlakes": true,
           "showland": true,
           "subunitcolor": "white"
          },
          "hoverlabel": {
           "align": "left"
          },
          "hovermode": "closest",
          "mapbox": {
           "style": "light"
          },
          "paper_bgcolor": "white",
          "plot_bgcolor": "#E5ECF6",
          "polar": {
           "angularaxis": {
            "gridcolor": "white",
            "linecolor": "white",
            "ticks": ""
           },
           "bgcolor": "#E5ECF6",
           "radialaxis": {
            "gridcolor": "white",
            "linecolor": "white",
            "ticks": ""
           }
          },
          "scene": {
           "xaxis": {
            "backgroundcolor": "#E5ECF6",
            "gridcolor": "white",
            "gridwidth": 2,
            "linecolor": "white",
            "showbackground": true,
            "ticks": "",
            "zerolinecolor": "white"
           },
           "yaxis": {
            "backgroundcolor": "#E5ECF6",
            "gridcolor": "white",
            "gridwidth": 2,
            "linecolor": "white",
            "showbackground": true,
            "ticks": "",
            "zerolinecolor": "white"
           },
           "zaxis": {
            "backgroundcolor": "#E5ECF6",
            "gridcolor": "white",
            "gridwidth": 2,
            "linecolor": "white",
            "showbackground": true,
            "ticks": "",
            "zerolinecolor": "white"
           }
          },
          "shapedefaults": {
           "line": {
            "color": "#2a3f5f"
           }
          },
          "ternary": {
           "aaxis": {
            "gridcolor": "white",
            "linecolor": "white",
            "ticks": ""
           },
           "baxis": {
            "gridcolor": "white",
            "linecolor": "white",
            "ticks": ""
           },
           "bgcolor": "#E5ECF6",
           "caxis": {
            "gridcolor": "white",
            "linecolor": "white",
            "ticks": ""
           }
          },
          "title": {
           "x": 0.05
          },
          "xaxis": {
           "automargin": true,
           "gridcolor": "white",
           "linecolor": "white",
           "ticks": "",
           "title": {
            "standoff": 15
           },
           "zerolinecolor": "white",
           "zerolinewidth": 2
          },
          "yaxis": {
           "automargin": true,
           "gridcolor": "white",
           "linecolor": "white",
           "ticks": "",
           "title": {
            "standoff": 15
           },
           "zerolinecolor": "white",
           "zerolinewidth": 2
          }
         }
        },
        "title": {
         "text": "Sample of Random Portfolios"
        },
        "xaxis": {
         "title": {
          "text": "Volatility (Standard Deviation)"
         }
        },
        "yaxis": {
         "title": {
          "text": "Annualized Return"
         }
        }
       }
      }
     },
     "metadata": {},
     "output_type": "display_data"
    }
   ],
   "source": [
    "fig2 = go.Figure()\n",
    "\n",
    "fig2.add_trace(go.Scatter(\n",
    "    x=[np.sqrt(p[\"variance\"]) for p in dominant_portfolios],  # Convert variance to volatility\n",
    "    y=[p[\"return\"] for p in dominant_portfolios],\n",
    "    mode='markers',\n",
    "    marker=dict(\n",
    "        color=[p[\"return\"] / (np.sqrt(p[\"variance\"])) for p in dominant_portfolios],  # Sharpe Ratio\n",
    "        showscale=True,\n",
    "        size=7,\n",
    "        line=dict(width=1),\n",
    "        colorscale=\"RdBu\",\n",
    "        colorbar=dict(title=\"Sharpe<br>Ratio\")\n",
    "    ),\n",
    "    hoverinfo='text',\n",
    "    text=[\n",
    "        f\"Return: {p['return']:.3%}<br>Volatility: {np.sqrt(p['variance']):.3f}<br>\" +\n",
    "        f\"Sharpe Ratio: {p['sharpe']:.3f}<br>\" +\n",
    "        \"<br>\".join([f\"{p['tickers'][i]}: Weight={p['weights'][i]:.3f}\" for i in range(len(p['tickers']))])\n",
    "        for p in dominant_portfolios\n",
    "    ],\n",
    "    name=\"Portfolios\"\n",
    "))\n",
    "\n",
    "\n",
    "fig2.add_trace(go.Scatter(\n",
    "    x=volatility, \n",
    "    y=annualized_returns,\n",
    "    mode='markers',\n",
    "    hoverinfo='text',\n",
    "    hovertext=[\n",
    "        f\"{name} <br>Volatility: {vol:.3f} <br>Returns: {ret:.3%} <br>Sharpe Ratio: {sr:.3f}\"\n",
    "        for name, vol, ret, sr in zip(names, volatility, annualized_returns, sharpe_ratios)\n",
    "    ],\n",
    "    marker=dict(\n",
    "        color='brown',\n",
    "        size=5,\n",
    "        symbol='triangle-up',  # Sets the marker shape to a triangle\n",
    "        line=dict(width=1)\n",
    "    ),\n",
    "    name=\"Individual Assets\"\n",
    "))\n",
    "\n",
    "fig2.update_layout(\n",
    "    title='Sample of Random Portfolios',\n",
    "    xaxis_title='Volatility (Standard Deviation)',\n",
    "    yaxis_title='Annualized Return',\n",
    "    legend=dict(y=5\n",
    "    )\n",
    ")\n",
    "\n",
    "\n",
    "fig2.show()"
   ]
  },
  {
   "cell_type": "markdown",
   "metadata": {},
   "source": [
    "## 5.0 ML Method"
   ]
  },
  {
   "cell_type": "code",
   "execution_count": 10,
   "metadata": {},
   "outputs": [
    {
     "name": "stderr",
     "output_type": "stream",
     "text": [
      "100%|██████████| 300/300 [00:01<00:00, 179.01it/s]\n"
     ]
    },
    {
     "data": {
      "text/plain": [
       "({'tickers': array(['LLY_Close', 'REGN_Close', 'XOM_Close', 'TXN_Close', 'UNH_Close',\n",
       "         'GOOG_Close'], dtype='<U11'),\n",
       "  'weights': array([4.03769762e-17, 1.25109522e-16, 0.00000000e+00, 3.86644006e-01,\n",
       "         5.23395361e-01, 8.99606333e-02]),\n",
       "  'return': np.float64(0.35122435460237056),\n",
       "  'variance': np.float64(0.011907344234050167),\n",
       "  'sharpe': np.float64(3.2186753101435404)},\n",
       " {'tickers': ['XOM_Close',\n",
       "   'NVDA_Close',\n",
       "   'BABA_Close',\n",
       "   'BA_Close',\n",
       "   'ABBV_Close',\n",
       "   'CAT_Close'],\n",
       "  'weights': array([0.        , 0.04376788, 0.0477871 , 0.32644017, 0.33171779,\n",
       "         0.25028706]),\n",
       "  'return': np.float64(0.5988903272793998),\n",
       "  'variance': np.float64(0.01252911244760456),\n",
       "  'sharpe': np.float64(5.350411012553155)})"
      ]
     },
     "execution_count": 10,
     "metadata": {},
     "output_type": "execute_result"
    }
   ],
   "source": [
    "def MLRBA(ticker, covariances, returns, num_iterations=1000, risk_free_rate = 0, return_power = 1, std_power = 1):\n",
    "    num_assets = 6\n",
    "    base_portfolio = np.random.choice(list(ticker), num_assets, replace=False)\n",
    "    highest_sharpe = -np.inf\n",
    "\n",
    "    all_portfolios = []\n",
    "\n",
    "    tested_assets = set()\n",
    "\n",
    "    def _get_portfolio_stats (portfolio_assets, risk_free_rate = 0):\n",
    "        p_asset_ret = returns.loc[portfolio_assets].values\n",
    "        p_asset_var = covariances.loc[portfolio_assets, portfolio_assets].values\n",
    "        best_p_weights = maximize_sharpe(p_asset_ret, p_asset_var)\n",
    "        p_ret = np.dot(best_p_weights,p_asset_ret)\n",
    "        p_var = np.dot(best_p_weights, p_asset_var @ best_p_weights)\n",
    "        sharpe = get_sharpe_ratio(p_ret, p_var, risk_free_rate, return_power, std_power)\n",
    "\n",
    "        return p_asset_ret, p_asset_var, sharpe, p_ret, p_var, best_p_weights\n",
    "    \n",
    "    def _update_portfolios_array(portfolios, assets, weights, p_ret, p_var):\n",
    "        portfolios.append({\n",
    "            \"tickers\": assets,\n",
    "            \"weights\": weights,\n",
    "            \"return\": p_ret,\n",
    "            \"variance\": p_var,\n",
    "            \"sharpe\": (p_ret-risk_free_rate)/np.sqrt(p_var),\n",
    "        })\n",
    "    \n",
    "    curr_ret, curr_var, curr_sharpe, curr_p_return, curr_p_variance, curr_p_weights = _get_portfolio_stats(base_portfolio, risk_free_rate)\n",
    "    _update_portfolios_array(all_portfolios, base_portfolio, curr_p_weights, curr_p_return, curr_p_variance)\n",
    "\n",
    "    good_portfolios = all_portfolios.copy()\n",
    "    best_portfolio = base_portfolio.copy()\n",
    "\n",
    "    highest_sharpe = curr_sharpe\n",
    "    for _ in tqdm(range(num_iterations)):\n",
    "        asset_to_remove = find_best_asset_to_remove(best_portfolio, curr_var, curr_ret, return_weight=0.5, corr_weight=0.5)     #most_correlated_asset, _, _ = find_correlation_matrix(portfolio, curr_variances)\n",
    "        new_portfolio = [str(asset) for asset in best_portfolio if asset != asset_to_remove]\n",
    "\n",
    "        ranked_assets = find_asset_to_add(new_portfolio, ticker, covariances, returns)         # Find the next best asset to add to the portfolio\n",
    "        asset_to_add = ranked_assets.index[0]\n",
    "\n",
    "        for asset in ranked_assets.index:\n",
    "            if asset not in tested_assets:\n",
    "                asset_to_add = asset\n",
    "                break\n",
    "        \n",
    "        new_portfolio.append(asset_to_add)\n",
    "        tested_assets.add(asset_to_add)\n",
    "\n",
    "        # Substitute in and measure portfolio performance based on sharpe ratio\n",
    "        new_returns, new_var, new_sharpe_ratio, new_p_return, new_p_variance, new_p_weights = _get_portfolio_stats(new_portfolio, risk_free_rate)\n",
    "\n",
    "        _update_portfolios_array(all_portfolios, new_portfolio, new_p_weights, new_p_return, new_p_variance)\n",
    "        \n",
    "        if new_sharpe_ratio > highest_sharpe:\n",
    "            highest_sharpe = new_sharpe_ratio\n",
    "            best_portfolio = new_portfolio\n",
    "            curr_ret, curr_var = new_returns, new_var\n",
    "\n",
    "            _update_portfolios_array(good_portfolios, new_portfolio, new_p_weights, new_p_return, new_p_variance)\n",
    "\n",
    "            tested_assets.clear()\n",
    "\n",
    "        # If Sharpe ratio was worse, then move on to the next least correlated asset\n",
    "        # If Sharpe ratio is better, set as new base portfolio, and repeat the process for num_iterations times\n",
    "        # Adjust the sharpe ratio, maybe more emphasis on returns/volatility\n",
    "        # Update weights to value return or corr\n",
    "        # See how many iterations it takes to get here, whats a good threshold/stopping point\n",
    "        # Backtesting\n",
    "        # Train a model to maybe predict the sharpe ratio of a portfolio\n",
    "\n",
    "    base_details = good_portfolios[0]\n",
    "    best_details = good_portfolios[-1]\n",
    "\n",
    "    return base_details, best_details, good_portfolios, all_portfolios\n",
    "\n",
    "def find_asset_to_add(portfolio_assets, all_assets, all_covariance, all_returns, return_weight=0.5, corr_weight=0.5):\n",
    "    remaining_assets = [asset for asset in all_assets if asset not in portfolio_assets]\n",
    "    \n",
    "    corr_matrix = create_correlation_matrix(all_covariance)\n",
    "    avg_corrs = corr_matrix.loc[remaining_assets, portfolio_assets].mean(axis=1)\n",
    "    \n",
    "    norm_corr = (avg_corrs - avg_corrs.min()) / (avg_corrs.max() - avg_corrs.min())\n",
    "    norm_returns = (all_returns.loc[remaining_assets] - all_returns.min()) / (all_returns.max() - all_returns.min())\n",
    "\n",
    "    combined_score = corr_weight * norm_corr + return_weight * norm_returns\n",
    "    \n",
    "    ranked_assets = combined_score.sort_values(ascending=False)\n",
    "    \n",
    "    return ranked_assets\n",
    "\n",
    "base_portfolio, best_portfolio, good_portfolios, total_portfolios = MLRBA(names, cov, annualized_returns, 300)\n",
    "base_portfolio, best_portfolio\n"
   ]
  },
  {
   "cell_type": "code",
   "execution_count": 11,
   "metadata": {},
   "outputs": [
    {
     "data": {
      "application/vnd.plotly.v1+json": {
       "config": {
        "plotlyServerURL": "https://plot.ly"
       },
       "data": [
        {
         "hoverinfo": "text",
         "marker": {
          "color": [
           3.2186753101435404,
           3.2980639185076255,
           3.7240317114917296,
           3.696242990751071,
           3.7240317114805577,
           3.6776370081925513,
           3.7204150647106866,
           3.677637020907221,
           3.6776371557530183,
           3.720845642714447,
           3.702978261648359,
           3.6776370466431767,
           3.859161055552908,
           3.867041375014583,
           3.867041375014583,
           3.859161036360103,
           3.8893060550009344,
           3.867041375014583,
           3.859161036360103,
           3.8893060550009344,
           3.869512940789895,
           3.881673097325499,
           3.890800879374489,
           3.867041375014583,
           3.859161036360103,
           3.8893060550009344,
           3.869512940789895,
           3.881673097325499,
           3.890800879374489,
           3.859161030225556,
           4.558174596465054,
           4.3127534674583154,
           4.558174596468611,
           4.3127534674583154,
           4.558174596468611,
           4.381478299290305,
           4.299595096034512,
           4.299595276922742,
           4.360225316767917,
           4.299595197491809,
           4.38644873689797,
           4.387276612020548,
           4.299595256271706,
           4.299595275697371,
           4.299595208681555,
           4.316327425497604,
           4.319586764569677,
           4.432399221977868,
           4.299595027181708,
           4.35326051494809,
           4.299595131249806,
           4.303291261698996,
           4.369820255352673,
           4.312282250145987,
           4.299595177114297,
           4.916871088240206,
           4.453808178825206,
           4.602394064130164,
           4.916871088237607,
           4.4456039139979735,
           4.511340713839844,
           4.486162103973379,
           4.5246574016546655,
           4.445603989061148,
           4.445603592698459,
           4.462302916356592,
           4.445603825603625,
           4.47805291158486,
           4.567356165266104,
           4.445603992401079,
           4.445603990573343,
           4.473254903927945,
           4.4998382813435285,
           4.44560371172309,
           4.44560376175903,
           4.6698500289458185,
           4.446302260401921,
           4.445603954851625,
           4.486074423009587,
           4.445603637724927,
           5.034176053272572,
           4.9142617786583385,
           4.852507385271899,
           4.853870676279367,
           4.850506572679921,
           5.350411012553155,
           4.9142617786583385,
           4.852507385271899,
           4.853870676279367,
           4.850506572679921,
           5.350411012553155,
           4.855134568718792,
           4.876231991545153,
           4.850506353812713,
           4.850506332620507,
           4.851192435892247,
           4.871838342399491,
           4.850506525185425,
           4.859165749841102,
           4.8505065523033615,
           4.86209090926078,
           4.850506580315862,
           4.865987644495223,
           4.997398732288321,
           4.8505877963381385,
           5.04841442472508,
           4.850506576701892,
           4.851120277708904,
           4.850506586089762,
           4.850506570862843,
           4.8824612408392625,
           4.850506409390362,
           4.850506562943351,
           4.88191256685162,
           4.856034740356761,
           4.866910033002631,
           5.034176053272686,
           4.850506585375181,
           4.850506585471606,
           4.924615303323498,
           5.195142314527711,
           4.852849246134222,
           4.850506558085436,
           4.850506575663587,
           4.8505065751039895,
           4.850506571105369,
           4.850506587247975,
           4.850506585589924,
           4.850506388791153,
           4.956950249644301,
           4.850506505149268,
           4.850506577322076,
           4.872209765465543,
           4.850506551359272,
           4.850506512360736,
           4.850506560147856,
           4.850506455608125,
           5.186181437426034,
           4.850506577424782,
           5.29273991700458,
           4.850506581801579,
           4.850506484825334,
           4.850506585555561,
           4.926171751857996,
           4.8505065626927095,
           4.8505064241351015,
           4.850506432126667,
           4.850506572162926,
           4.850506554999976,
           4.850506523861219,
           5.097775419831064,
           4.851279326160707,
           4.97316506001984,
           4.874789495752508,
           4.8505064714991395,
           4.947136773753083,
           4.850506560808321,
           4.927330680049204,
           4.850506586701323,
           4.949782415658561,
           4.850506422329944,
           4.850506537017767,
           4.867367840480313,
           4.857268998647445,
           4.876740324441791,
           4.850506343888429,
           4.878193315966084,
           4.850506586878275,
           4.8505064591575096,
           4.850506552730132,
           4.850506541097234,
           4.850506575768321,
           4.850506584912218,
           4.8505065860807255,
           4.850506578466031,
           4.9142617786583385,
           4.9142617786583385,
           4.9142617786583385,
           4.9142617786583385,
           4.9142617786583385,
           4.9142617786583385,
           4.9142617786583385,
           4.9142617786583385,
           4.9142617786583385,
           4.9142617786583385,
           4.9142617786583385,
           4.9142617786583385,
           4.9142617786583385,
           4.9142617786583385,
           4.9142617786583385,
           4.9142617786583385,
           4.9142617786583385,
           4.9142617786583385,
           4.9142617786583385,
           4.9142617786583385,
           4.9142617786583385,
           4.9142617786583385,
           4.9142617786583385,
           4.9142617786583385,
           4.9142617786583385,
           4.9142617786583385,
           4.9142617786583385,
           4.9142617786583385,
           4.9142617786583385,
           4.9142617786583385,
           4.9142617786583385,
           4.9142617786583385,
           4.9142617786583385,
           4.9142617786583385,
           4.9142617786583385,
           4.9142617786583385,
           4.9142617786583385,
           4.9142617786583385,
           4.9142617786583385,
           4.9142617786583385,
           4.9142617786583385,
           4.9142617786583385,
           4.9142617786583385,
           4.9142617786583385,
           4.9142617786583385,
           4.9142617786583385,
           4.9142617786583385,
           4.9142617786583385,
           4.9142617786583385,
           4.9142617786583385,
           4.9142617786583385,
           4.9142617786583385,
           4.9142617786583385,
           4.9142617786583385,
           4.9142617786583385,
           4.9142617786583385,
           4.9142617786583385,
           4.9142617786583385,
           4.9142617786583385,
           4.9142617786583385,
           4.9142617786583385,
           4.9142617786583385,
           4.9142617786583385,
           4.9142617786583385,
           4.9142617786583385,
           4.9142617786583385,
           4.9142617786583385,
           4.9142617786583385,
           4.9142617786583385,
           4.9142617786583385,
           4.9142617786583385,
           4.9142617786583385,
           4.9142617786583385,
           4.9142617786583385,
           4.9142617786583385,
           4.9142617786583385,
           4.9142617786583385,
           4.9142617786583385,
           4.9142617786583385,
           4.9142617786583385,
           4.9142617786583385,
           4.9142617786583385,
           4.9142617786583385,
           4.9142617786583385,
           4.9142617786583385,
           4.9142617786583385,
           4.9142617786583385,
           4.9142617786583385,
           4.9142617786583385,
           4.9142617786583385,
           4.9142617786583385,
           4.9142617786583385,
           4.9142617786583385,
           4.9142617786583385,
           4.9142617786583385,
           4.9142617786583385,
           4.9142617786583385,
           4.9142617786583385,
           4.9142617786583385,
           4.9142617786583385,
           4.9142617786583385,
           4.9142617786583385,
           4.9142617786583385,
           4.9142617786583385,
           4.9142617786583385,
           4.9142617786583385,
           4.9142617786583385,
           4.9142617786583385,
           4.9142617786583385,
           4.9142617786583385,
           4.9142617786583385,
           4.9142617786583385,
           4.9142617786583385,
           4.9142617786583385,
           4.9142617786583385,
           4.9142617786583385,
           4.9142617786583385,
           4.9142617786583385,
           4.9142617786583385,
           4.9142617786583385,
           4.9142617786583385,
           4.9142617786583385,
           4.9142617786583385,
           4.9142617786583385,
           4.9142617786583385,
           4.9142617786583385
          ],
          "colorbar": {
           "title": {
            "text": "Sharpe<br>Ratio"
           }
          },
          "colorscale": [
           [
            0,
            "rgb(103,0,31)"
           ],
           [
            0.1,
            "rgb(178,24,43)"
           ],
           [
            0.2,
            "rgb(214,96,77)"
           ],
           [
            0.3,
            "rgb(244,165,130)"
           ],
           [
            0.4,
            "rgb(253,219,199)"
           ],
           [
            0.5,
            "rgb(247,247,247)"
           ],
           [
            0.6,
            "rgb(209,229,240)"
           ],
           [
            0.7,
            "rgb(146,197,222)"
           ],
           [
            0.8,
            "rgb(67,147,195)"
           ],
           [
            0.9,
            "rgb(33,102,172)"
           ],
           [
            1,
            "rgb(5,48,97)"
           ]
          ],
          "line": {
           "width": 1
          },
          "showscale": true,
          "size": 7
         },
         "mode": "markers",
         "name": "Portfolios",
         "text": [
          "Return: 35.122%<br>Volatility: 0.109<br>Sharpe Ratio: 3.219<br>LLY_Close: Weight=0.000<br>REGN_Close: Weight=0.000<br>XOM_Close: Weight=0.000<br>TXN_Close: Weight=0.387<br>UNH_Close: Weight=0.523<br>GOOG_Close: Weight=0.090",
          "Return: 38.951%<br>Volatility: 0.118<br>Sharpe Ratio: 3.298<br>REGN_Close: Weight=0.000<br>XOM_Close: Weight=0.000<br>TXN_Close: Weight=0.309<br>UNH_Close: Weight=0.551<br>GOOG_Close: Weight=0.058<br>NVDA_Close: Weight=0.082",
          "Return: 45.959%<br>Volatility: 0.123<br>Sharpe Ratio: 3.724<br>REGN_Close: Weight=0.000<br>XOM_Close: Weight=0.010<br>TXN_Close: Weight=0.157<br>UNH_Close: Weight=0.495<br>NVDA_Close: Weight=0.051<br>PYPL_Close: Weight=0.286",
          "Return: 46.317%<br>Volatility: 0.125<br>Sharpe Ratio: 3.696<br>REGN_Close: Weight=0.000<br>XOM_Close: Weight=0.027<br>UNH_Close: Weight=0.495<br>NVDA_Close: Weight=0.074<br>PYPL_Close: Weight=0.282<br>MA_Close: Weight=0.122",
          "Return: 45.959%<br>Volatility: 0.123<br>Sharpe Ratio: 3.724<br>REGN_Close: Weight=0.000<br>XOM_Close: Weight=0.010<br>UNH_Close: Weight=0.495<br>NVDA_Close: Weight=0.051<br>PYPL_Close: Weight=0.286<br>TXN_Close: Weight=0.157",
          "Return: 48.366%<br>Volatility: 0.132<br>Sharpe Ratio: 3.678<br>REGN_Close: Weight=0.000<br>XOM_Close: Weight=0.030<br>UNH_Close: Weight=0.540<br>NVDA_Close: Weight=0.088<br>PYPL_Close: Weight=0.342<br>META_Close: Weight=0.000",
          "Return: 46.861%<br>Volatility: 0.126<br>Sharpe Ratio: 3.720<br>REGN_Close: Weight=0.000<br>XOM_Close: Weight=0.049<br>UNH_Close: Weight=0.470<br>NVDA_Close: Weight=0.076<br>PYPL_Close: Weight=0.284<br>ISRG_Close: Weight=0.120",
          "Return: 48.390%<br>Volatility: 0.132<br>Sharpe Ratio: 3.678<br>REGN_Close: Weight=0.000<br>XOM_Close: Weight=0.030<br>UNH_Close: Weight=0.540<br>NVDA_Close: Weight=0.088<br>PYPL_Close: Weight=0.342<br>GOOGL_Close: Weight=0.000",
          "Return: 48.381%<br>Volatility: 0.132<br>Sharpe Ratio: 3.678<br>REGN_Close: Weight=0.000<br>XOM_Close: Weight=0.030<br>UNH_Close: Weight=0.540<br>NVDA_Close: Weight=0.089<br>PYPL_Close: Weight=0.342<br>GOOG_Close: Weight=0.000",
          "Return: 45.776%<br>Volatility: 0.123<br>Sharpe Ratio: 3.721<br>REGN_Close: Weight=0.000<br>XOM_Close: Weight=0.031<br>UNH_Close: Weight=0.472<br>NVDA_Close: Weight=0.067<br>PYPL_Close: Weight=0.280<br>MSFT_Close: Weight=0.149",
          "Return: 45.059%<br>Volatility: 0.122<br>Sharpe Ratio: 3.703<br>REGN_Close: Weight=0.000<br>XOM_Close: Weight=0.028<br>UNH_Close: Weight=0.479<br>NVDA_Close: Weight=0.073<br>PYPL_Close: Weight=0.273<br>V_Close: Weight=0.147",
          "Return: 48.366%<br>Volatility: 0.132<br>Sharpe Ratio: 3.678<br>REGN_Close: Weight=0.000<br>XOM_Close: Weight=0.030<br>UNH_Close: Weight=0.540<br>NVDA_Close: Weight=0.088<br>PYPL_Close: Weight=0.342<br>CRM_Close: Weight=0.000",
          "Return: 46.944%<br>Volatility: 0.122<br>Sharpe Ratio: 3.859<br>REGN_Close: Weight=0.000<br>XOM_Close: Weight=0.056<br>UNH_Close: Weight=0.488<br>NVDA_Close: Weight=0.036<br>PYPL_Close: Weight=0.259<br>BABA_Close: Weight=0.161",
          "Return: 45.770%<br>Volatility: 0.118<br>Sharpe Ratio: 3.867<br>XOM_Close: Weight=0.053<br>UNH_Close: Weight=0.464<br>NVDA_Close: Weight=0.030<br>PYPL_Close: Weight=0.226<br>BABA_Close: Weight=0.153<br>MA_Close: Weight=0.074",
          "Return: 45.770%<br>Volatility: 0.118<br>Sharpe Ratio: 3.867<br>XOM_Close: Weight=0.053<br>UNH_Close: Weight=0.464<br>NVDA_Close: Weight=0.030<br>PYPL_Close: Weight=0.226<br>BABA_Close: Weight=0.153<br>MA_Close: Weight=0.074",
          "Return: 46.937%<br>Volatility: 0.122<br>Sharpe Ratio: 3.859<br>XOM_Close: Weight=0.056<br>UNH_Close: Weight=0.488<br>NVDA_Close: Weight=0.036<br>PYPL_Close: Weight=0.259<br>BABA_Close: Weight=0.161<br>META_Close: Weight=0.000",
          "Return: 45.260%<br>Volatility: 0.116<br>Sharpe Ratio: 3.889<br>XOM_Close: Weight=0.039<br>UNH_Close: Weight=0.459<br>NVDA_Close: Weight=0.013<br>PYPL_Close: Weight=0.224<br>BABA_Close: Weight=0.148<br>TXN_Close: Weight=0.118",
          "Return: 45.770%<br>Volatility: 0.118<br>Sharpe Ratio: 3.867<br>XOM_Close: Weight=0.053<br>UNH_Close: Weight=0.464<br>NVDA_Close: Weight=0.030<br>PYPL_Close: Weight=0.226<br>BABA_Close: Weight=0.153<br>MA_Close: Weight=0.074",
          "Return: 46.937%<br>Volatility: 0.122<br>Sharpe Ratio: 3.859<br>XOM_Close: Weight=0.056<br>UNH_Close: Weight=0.488<br>NVDA_Close: Weight=0.036<br>PYPL_Close: Weight=0.259<br>BABA_Close: Weight=0.161<br>META_Close: Weight=0.000",
          "Return: 45.260%<br>Volatility: 0.116<br>Sharpe Ratio: 3.889<br>XOM_Close: Weight=0.039<br>UNH_Close: Weight=0.459<br>NVDA_Close: Weight=0.013<br>PYPL_Close: Weight=0.224<br>BABA_Close: Weight=0.148<br>TXN_Close: Weight=0.118",
          "Return: 45.054%<br>Volatility: 0.116<br>Sharpe Ratio: 3.870<br>XOM_Close: Weight=0.053<br>UNH_Close: Weight=0.455<br>NVDA_Close: Weight=0.030<br>PYPL_Close: Weight=0.224<br>BABA_Close: Weight=0.149<br>V_Close: Weight=0.089",
          "Return: 45.334%<br>Volatility: 0.117<br>Sharpe Ratio: 3.882<br>XOM_Close: Weight=0.054<br>UNH_Close: Weight=0.447<br>NVDA_Close: Weight=0.026<br>PYPL_Close: Weight=0.225<br>BABA_Close: Weight=0.147<br>MSFT_Close: Weight=0.101",
          "Return: 45.842%<br>Volatility: 0.118<br>Sharpe Ratio: 3.891<br>XOM_Close: Weight=0.070<br>UNH_Close: Weight=0.437<br>NVDA_Close: Weight=0.029<br>PYPL_Close: Weight=0.219<br>BABA_Close: Weight=0.151<br>ISRG_Close: Weight=0.094",
          "Return: 45.770%<br>Volatility: 0.118<br>Sharpe Ratio: 3.867<br>XOM_Close: Weight=0.053<br>UNH_Close: Weight=0.464<br>NVDA_Close: Weight=0.030<br>PYPL_Close: Weight=0.226<br>BABA_Close: Weight=0.153<br>MA_Close: Weight=0.074",
          "Return: 46.937%<br>Volatility: 0.122<br>Sharpe Ratio: 3.859<br>XOM_Close: Weight=0.056<br>UNH_Close: Weight=0.488<br>NVDA_Close: Weight=0.036<br>PYPL_Close: Weight=0.259<br>BABA_Close: Weight=0.161<br>META_Close: Weight=0.000",
          "Return: 45.260%<br>Volatility: 0.116<br>Sharpe Ratio: 3.889<br>XOM_Close: Weight=0.039<br>UNH_Close: Weight=0.459<br>NVDA_Close: Weight=0.013<br>PYPL_Close: Weight=0.224<br>BABA_Close: Weight=0.148<br>TXN_Close: Weight=0.118",
          "Return: 45.054%<br>Volatility: 0.116<br>Sharpe Ratio: 3.870<br>XOM_Close: Weight=0.053<br>UNH_Close: Weight=0.455<br>NVDA_Close: Weight=0.030<br>PYPL_Close: Weight=0.224<br>BABA_Close: Weight=0.149<br>V_Close: Weight=0.089",
          "Return: 45.334%<br>Volatility: 0.117<br>Sharpe Ratio: 3.882<br>XOM_Close: Weight=0.054<br>UNH_Close: Weight=0.447<br>NVDA_Close: Weight=0.026<br>PYPL_Close: Weight=0.225<br>BABA_Close: Weight=0.147<br>MSFT_Close: Weight=0.101",
          "Return: 45.842%<br>Volatility: 0.118<br>Sharpe Ratio: 3.891<br>XOM_Close: Weight=0.070<br>UNH_Close: Weight=0.437<br>NVDA_Close: Weight=0.029<br>PYPL_Close: Weight=0.219<br>BABA_Close: Weight=0.151<br>ISRG_Close: Weight=0.094",
          "Return: 46.937%<br>Volatility: 0.122<br>Sharpe Ratio: 3.859<br>XOM_Close: Weight=0.056<br>UNH_Close: Weight=0.488<br>NVDA_Close: Weight=0.036<br>PYPL_Close: Weight=0.259<br>BABA_Close: Weight=0.161<br>CRM_Close: Weight=0.000",
          "Return: 53.515%<br>Volatility: 0.117<br>Sharpe Ratio: 4.558<br>XOM_Close: Weight=0.000<br>UNH_Close: Weight=0.364<br>NVDA_Close: Weight=0.006<br>PYPL_Close: Weight=0.189<br>BABA_Close: Weight=0.112<br>CAT_Close: Weight=0.329",
          "Return: 50.389%<br>Volatility: 0.117<br>Sharpe Ratio: 4.313<br>XOM_Close: Weight=0.000<br>UNH_Close: Weight=0.402<br>NVDA_Close: Weight=0.022<br>BABA_Close: Weight=0.154<br>CAT_Close: Weight=0.349<br>TXN_Close: Weight=0.073",
          "Return: 53.515%<br>Volatility: 0.117<br>Sharpe Ratio: 4.558<br>XOM_Close: Weight=0.000<br>UNH_Close: Weight=0.364<br>NVDA_Close: Weight=0.006<br>BABA_Close: Weight=0.112<br>CAT_Close: Weight=0.329<br>PYPL_Close: Weight=0.189",
          "Return: 50.389%<br>Volatility: 0.117<br>Sharpe Ratio: 4.313<br>XOM_Close: Weight=0.000<br>UNH_Close: Weight=0.402<br>NVDA_Close: Weight=0.022<br>BABA_Close: Weight=0.154<br>CAT_Close: Weight=0.349<br>TXN_Close: Weight=0.073",
          "Return: 53.515%<br>Volatility: 0.117<br>Sharpe Ratio: 4.558<br>XOM_Close: Weight=0.000<br>UNH_Close: Weight=0.364<br>NVDA_Close: Weight=0.006<br>BABA_Close: Weight=0.112<br>CAT_Close: Weight=0.329<br>PYPL_Close: Weight=0.189",
          "Return: 49.068%<br>Volatility: 0.112<br>Sharpe Ratio: 4.381<br>XOM_Close: Weight=0.000<br>UNH_Close: Weight=0.352<br>NVDA_Close: Weight=0.015<br>BABA_Close: Weight=0.131<br>CAT_Close: Weight=0.327<br>MA_Close: Weight=0.176",
          "Return: 52.028%<br>Volatility: 0.121<br>Sharpe Ratio: 4.300<br>XOM_Close: Weight=0.000<br>UNH_Close: Weight=0.421<br>NVDA_Close: Weight=0.038<br>BABA_Close: Weight=0.166<br>CAT_Close: Weight=0.376<br>EMR_Close: Weight=0.000",
          "Return: 52.025%<br>Volatility: 0.121<br>Sharpe Ratio: 4.300<br>XOM_Close: Weight=0.000<br>UNH_Close: Weight=0.421<br>NVDA_Close: Weight=0.038<br>BABA_Close: Weight=0.166<br>CAT_Close: Weight=0.376<br>META_Close: Weight=0.000",
          "Return: 49.621%<br>Volatility: 0.114<br>Sharpe Ratio: 4.360<br>XOM_Close: Weight=0.000<br>UNH_Close: Weight=0.361<br>NVDA_Close: Weight=0.020<br>BABA_Close: Weight=0.137<br>CAT_Close: Weight=0.339<br>MSFT_Close: Weight=0.143",
          "Return: 52.027%<br>Volatility: 0.121<br>Sharpe Ratio: 4.300<br>XOM_Close: Weight=0.000<br>UNH_Close: Weight=0.421<br>NVDA_Close: Weight=0.038<br>BABA_Close: Weight=0.166<br>CAT_Close: Weight=0.376<br>ETN_Close: Weight=0.000",
          "Return: 50.593%<br>Volatility: 0.115<br>Sharpe Ratio: 4.386<br>XOM_Close: Weight=0.000<br>UNH_Close: Weight=0.371<br>NVDA_Close: Weight=0.028<br>BABA_Close: Weight=0.158<br>CAT_Close: Weight=0.298<br>DE_Close: Weight=0.144",
          "Return: 47.618%<br>Volatility: 0.109<br>Sharpe Ratio: 4.387<br>XOM_Close: Weight=0.000<br>UNH_Close: Weight=0.341<br>NVDA_Close: Weight=0.017<br>BABA_Close: Weight=0.125<br>CAT_Close: Weight=0.321<br>V_Close: Weight=0.196",
          "Return: 52.026%<br>Volatility: 0.121<br>Sharpe Ratio: 4.300<br>XOM_Close: Weight=0.000<br>UNH_Close: Weight=0.421<br>NVDA_Close: Weight=0.038<br>BABA_Close: Weight=0.166<br>CAT_Close: Weight=0.376<br>MS_Close: Weight=0.000",
          "Return: 52.024%<br>Volatility: 0.121<br>Sharpe Ratio: 4.300<br>XOM_Close: Weight=0.000<br>UNH_Close: Weight=0.421<br>NVDA_Close: Weight=0.038<br>BABA_Close: Weight=0.166<br>CAT_Close: Weight=0.376<br>AAPL_Close: Weight=0.000",
          "Return: 52.024%<br>Volatility: 0.121<br>Sharpe Ratio: 4.300<br>XOM_Close: Weight=0.000<br>UNH_Close: Weight=0.421<br>NVDA_Close: Weight=0.038<br>BABA_Close: Weight=0.166<br>CAT_Close: Weight=0.376<br>NFLX_Close: Weight=0.000",
          "Return: 51.213%<br>Volatility: 0.119<br>Sharpe Ratio: 4.316<br>XOM_Close: Weight=0.000<br>UNH_Close: Weight=0.398<br>NVDA_Close: Weight=0.031<br>BABA_Close: Weight=0.152<br>CAT_Close: Weight=0.365<br>AMZN_Close: Weight=0.054",
          "Return: 50.582%<br>Volatility: 0.117<br>Sharpe Ratio: 4.320<br>XOM_Close: Weight=0.000<br>UNH_Close: Weight=0.392<br>NVDA_Close: Weight=0.030<br>BABA_Close: Weight=0.154<br>CAT_Close: Weight=0.355<br>INTC_Close: Weight=0.069",
          "Return: 51.496%<br>Volatility: 0.116<br>Sharpe Ratio: 4.432<br>XOM_Close: Weight=0.000<br>UNH_Close: Weight=0.333<br>NVDA_Close: Weight=0.018<br>BABA_Close: Weight=0.136<br>CAT_Close: Weight=0.350<br>ISRG_Close: Weight=0.164",
          "Return: 52.026%<br>Volatility: 0.121<br>Sharpe Ratio: 4.300<br>XOM_Close: Weight=0.000<br>UNH_Close: Weight=0.421<br>NVDA_Close: Weight=0.038<br>BABA_Close: Weight=0.166<br>CAT_Close: Weight=0.376<br>CRM_Close: Weight=0.000",
          "Return: 47.180%<br>Volatility: 0.108<br>Sharpe Ratio: 4.353<br>XOM_Close: Weight=0.000<br>UNH_Close: Weight=0.334<br>NVDA_Close: Weight=0.029<br>BABA_Close: Weight=0.142<br>CAT_Close: Weight=0.308<br>HON_Close: Weight=0.186",
          "Return: 52.029%<br>Volatility: 0.121<br>Sharpe Ratio: 4.300<br>XOM_Close: Weight=0.000<br>UNH_Close: Weight=0.421<br>NVDA_Close: Weight=0.038<br>BABA_Close: Weight=0.166<br>CAT_Close: Weight=0.376<br>JPM_Close: Weight=0.000",
          "Return: 51.034%<br>Volatility: 0.119<br>Sharpe Ratio: 4.303<br>XOM_Close: Weight=0.000<br>UNH_Close: Weight=0.405<br>NVDA_Close: Weight=0.032<br>BABA_Close: Weight=0.157<br>CAT_Close: Weight=0.369<br>GOOGL_Close: Weight=0.036",
          "Return: 51.034%<br>Volatility: 0.117<br>Sharpe Ratio: 4.370<br>XOM_Close: Weight=0.000<br>UNH_Close: Weight=0.383<br>NVDA_Close: Weight=0.020<br>BABA_Close: Weight=0.143<br>CAT_Close: Weight=0.354<br>ADBE_Close: Weight=0.100",
          "Return: 50.369%<br>Volatility: 0.117<br>Sharpe Ratio: 4.312<br>XOM_Close: Weight=0.000<br>UNH_Close: Weight=0.393<br>NVDA_Close: Weight=0.028<br>BABA_Close: Weight=0.150<br>CAT_Close: Weight=0.364<br>GOOG_Close: Weight=0.065",
          "Return: 52.028%<br>Volatility: 0.121<br>Sharpe Ratio: 4.300<br>XOM_Close: Weight=0.000<br>UNH_Close: Weight=0.421<br>NVDA_Close: Weight=0.038<br>BABA_Close: Weight=0.166<br>CAT_Close: Weight=0.376<br>BAC_Close: Weight=0.000",
          "Return: 54.291%<br>Volatility: 0.110<br>Sharpe Ratio: 4.917<br>XOM_Close: Weight=0.000<br>UNH_Close: Weight=0.300<br>NVDA_Close: Weight=0.038<br>BABA_Close: Weight=0.091<br>CAT_Close: Weight=0.251<br>BA_Close: Weight=0.321",
          "Return: 50.267%<br>Volatility: 0.113<br>Sharpe Ratio: 4.454<br>XOM_Close: Weight=0.008<br>UNH_Close: Weight=0.365<br>NVDA_Close: Weight=0.055<br>BABA_Close: Weight=0.112<br>BA_Close: Weight=0.406<br>TXN_Close: Weight=0.055",
          "Return: 52.100%<br>Volatility: 0.113<br>Sharpe Ratio: 4.602<br>XOM_Close: Weight=0.016<br>UNH_Close: Weight=0.342<br>NVDA_Close: Weight=0.042<br>BABA_Close: Weight=0.085<br>BA_Close: Weight=0.371<br>PYPL_Close: Weight=0.144",
          "Return: 54.291%<br>Volatility: 0.110<br>Sharpe Ratio: 4.917<br>XOM_Close: Weight=0.000<br>UNH_Close: Weight=0.300<br>NVDA_Close: Weight=0.038<br>BABA_Close: Weight=0.091<br>BA_Close: Weight=0.321<br>CAT_Close: Weight=0.251",
          "Return: 51.204%<br>Volatility: 0.115<br>Sharpe Ratio: 4.446<br>XOM_Close: Weight=0.014<br>UNH_Close: Weight=0.375<br>NVDA_Close: Weight=0.068<br>BABA_Close: Weight=0.118<br>BA_Close: Weight=0.425<br>META_Close: Weight=0.000",
          "Return: 48.815%<br>Volatility: 0.108<br>Sharpe Ratio: 4.511<br>XOM_Close: Weight=0.011<br>UNH_Close: Weight=0.322<br>NVDA_Close: Weight=0.045<br>BABA_Close: Weight=0.093<br>BA_Close: Weight=0.378<br>MA_Close: Weight=0.150",
          "Return: 48.190%<br>Volatility: 0.107<br>Sharpe Ratio: 4.486<br>XOM_Close: Weight=0.014<br>UNH_Close: Weight=0.328<br>NVDA_Close: Weight=0.051<br>BABA_Close: Weight=0.096<br>BA_Close: Weight=0.378<br>V_Close: Weight=0.133",
          "Return: 48.719%<br>Volatility: 0.108<br>Sharpe Ratio: 4.525<br>XOM_Close: Weight=0.015<br>UNH_Close: Weight=0.312<br>NVDA_Close: Weight=0.045<br>BABA_Close: Weight=0.091<br>BA_Close: Weight=0.385<br>MSFT_Close: Weight=0.152",
          "Return: 51.196%<br>Volatility: 0.115<br>Sharpe Ratio: 4.446<br>XOM_Close: Weight=0.014<br>UNH_Close: Weight=0.375<br>NVDA_Close: Weight=0.068<br>BABA_Close: Weight=0.118<br>BA_Close: Weight=0.425<br>GOOG_Close: Weight=0.000",
          "Return: 51.212%<br>Volatility: 0.115<br>Sharpe Ratio: 4.446<br>XOM_Close: Weight=0.014<br>UNH_Close: Weight=0.375<br>NVDA_Close: Weight=0.068<br>BABA_Close: Weight=0.118<br>BA_Close: Weight=0.426<br>GOOGL_Close: Weight=0.000",
          "Return: 50.566%<br>Volatility: 0.113<br>Sharpe Ratio: 4.462<br>XOM_Close: Weight=0.012<br>UNH_Close: Weight=0.355<br>NVDA_Close: Weight=0.061<br>BABA_Close: Weight=0.106<br>BA_Close: Weight=0.415<br>AMZN_Close: Weight=0.051",
          "Return: 51.208%<br>Volatility: 0.115<br>Sharpe Ratio: 4.446<br>XOM_Close: Weight=0.014<br>UNH_Close: Weight=0.375<br>NVDA_Close: Weight=0.068<br>BABA_Close: Weight=0.118<br>BA_Close: Weight=0.425<br>AAPL_Close: Weight=0.000",
          "Return: 48.002%<br>Volatility: 0.107<br>Sharpe Ratio: 4.478<br>XOM_Close: Weight=0.003<br>UNH_Close: Weight=0.319<br>NVDA_Close: Weight=0.058<br>BABA_Close: Weight=0.107<br>BA_Close: Weight=0.371<br>HON_Close: Weight=0.143",
          "Return: 49.618%<br>Volatility: 0.109<br>Sharpe Ratio: 4.567<br>XOM_Close: Weight=0.038<br>UNH_Close: Weight=0.289<br>NVDA_Close: Weight=0.047<br>BABA_Close: Weight=0.093<br>BA_Close: Weight=0.388<br>ISRG_Close: Weight=0.145",
          "Return: 51.196%<br>Volatility: 0.115<br>Sharpe Ratio: 4.446<br>XOM_Close: Weight=0.014<br>UNH_Close: Weight=0.375<br>NVDA_Close: Weight=0.068<br>BABA_Close: Weight=0.118<br>BA_Close: Weight=0.425<br>NFLX_Close: Weight=0.000",
          "Return: 51.196%<br>Volatility: 0.115<br>Sharpe Ratio: 4.446<br>XOM_Close: Weight=0.014<br>UNH_Close: Weight=0.375<br>NVDA_Close: Weight=0.068<br>BABA_Close: Weight=0.118<br>BA_Close: Weight=0.425<br>CRM_Close: Weight=0.000",
          "Return: 50.253%<br>Volatility: 0.112<br>Sharpe Ratio: 4.473<br>XOM_Close: Weight=0.001<br>UNH_Close: Weight=0.349<br>NVDA_Close: Weight=0.058<br>BABA_Close: Weight=0.107<br>BA_Close: Weight=0.407<br>INTC_Close: Weight=0.077",
          "Return: 49.718%<br>Volatility: 0.110<br>Sharpe Ratio: 4.500<br>XOM_Close: Weight=0.028<br>UNH_Close: Weight=0.340<br>NVDA_Close: Weight=0.051<br>BABA_Close: Weight=0.101<br>BA_Close: Weight=0.397<br>ADBE_Close: Weight=0.083",
          "Return: 51.195%<br>Volatility: 0.115<br>Sharpe Ratio: 4.446<br>XOM_Close: Weight=0.014<br>UNH_Close: Weight=0.375<br>NVDA_Close: Weight=0.068<br>BABA_Close: Weight=0.118<br>BA_Close: Weight=0.425<br>MS_Close: Weight=0.000",
          "Return: 51.186%<br>Volatility: 0.115<br>Sharpe Ratio: 4.446<br>XOM_Close: Weight=0.014<br>UNH_Close: Weight=0.375<br>NVDA_Close: Weight=0.068<br>BABA_Close: Weight=0.118<br>BA_Close: Weight=0.425<br>ETN_Close: Weight=0.000",
          "Return: 50.506%<br>Volatility: 0.108<br>Sharpe Ratio: 4.670<br>XOM_Close: Weight=0.000<br>UNH_Close: Weight=0.301<br>NVDA_Close: Weight=0.045<br>BABA_Close: Weight=0.108<br>BA_Close: Weight=0.352<br>DE_Close: Weight=0.194",
          "Return: 51.140%<br>Volatility: 0.115<br>Sharpe Ratio: 4.446<br>XOM_Close: Weight=0.006<br>UNH_Close: Weight=0.373<br>NVDA_Close: Weight=0.067<br>BABA_Close: Weight=0.117<br>BA_Close: Weight=0.424<br>EMR_Close: Weight=0.014",
          "Return: 51.190%<br>Volatility: 0.115<br>Sharpe Ratio: 4.446<br>XOM_Close: Weight=0.014<br>UNH_Close: Weight=0.375<br>NVDA_Close: Weight=0.068<br>BABA_Close: Weight=0.118<br>BA_Close: Weight=0.425<br>JPM_Close: Weight=0.000",
          "Return: 51.257%<br>Volatility: 0.114<br>Sharpe Ratio: 4.486<br>XOM_Close: Weight=0.022<br>UNH_Close: Weight=0.354<br>NVDA_Close: Weight=0.065<br>BABA_Close: Weight=0.105<br>BA_Close: Weight=0.412<br>VRTX_Close: Weight=0.041",
          "Return: 51.188%<br>Volatility: 0.115<br>Sharpe Ratio: 4.446<br>XOM_Close: Weight=0.014<br>UNH_Close: Weight=0.375<br>NVDA_Close: Weight=0.068<br>BABA_Close: Weight=0.118<br>BA_Close: Weight=0.425<br>BAC_Close: Weight=0.000",
          "Return: 54.044%<br>Volatility: 0.107<br>Sharpe Ratio: 5.034<br>XOM_Close: Weight=0.000<br>UNH_Close: Weight=0.213<br>NVDA_Close: Weight=0.058<br>BABA_Close: Weight=0.070<br>BA_Close: Weight=0.365<br>ABBV_Close: Weight=0.294",
          "Return: 59.492%<br>Volatility: 0.121<br>Sharpe Ratio: 4.914<br>XOM_Close: Weight=0.000<br>NVDA_Close: Weight=0.062<br>BABA_Close: Weight=0.052<br>BA_Close: Weight=0.421<br>ABBV_Close: Weight=0.368<br>PYPL_Close: Weight=0.098",
          "Return: 58.444%<br>Volatility: 0.120<br>Sharpe Ratio: 4.853<br>XOM_Close: Weight=0.000<br>NVDA_Close: Weight=0.072<br>BABA_Close: Weight=0.067<br>BA_Close: Weight=0.442<br>ABBV_Close: Weight=0.391<br>TXN_Close: Weight=0.028",
          "Return: 58.289%<br>Volatility: 0.120<br>Sharpe Ratio: 4.854<br>XOM_Close: Weight=0.000<br>NVDA_Close: Weight=0.073<br>BABA_Close: Weight=0.065<br>BA_Close: Weight=0.441<br>ABBV_Close: Weight=0.382<br>MA_Close: Weight=0.038",
          "Return: 59.180%<br>Volatility: 0.122<br>Sharpe Ratio: 4.851<br>XOM_Close: Weight=0.000<br>NVDA_Close: Weight=0.079<br>BABA_Close: Weight=0.069<br>BA_Close: Weight=0.454<br>ABBV_Close: Weight=0.398<br>META_Close: Weight=0.000",
          "Return: 59.889%<br>Volatility: 0.112<br>Sharpe Ratio: 5.350<br>XOM_Close: Weight=0.000<br>NVDA_Close: Weight=0.044<br>BABA_Close: Weight=0.048<br>BA_Close: Weight=0.326<br>ABBV_Close: Weight=0.332<br>CAT_Close: Weight=0.250",
          "Return: 59.492%<br>Volatility: 0.121<br>Sharpe Ratio: 4.914<br>XOM_Close: Weight=0.000<br>NVDA_Close: Weight=0.062<br>BABA_Close: Weight=0.052<br>BA_Close: Weight=0.421<br>ABBV_Close: Weight=0.368<br>PYPL_Close: Weight=0.098",
          "Return: 58.444%<br>Volatility: 0.120<br>Sharpe Ratio: 4.853<br>XOM_Close: Weight=0.000<br>NVDA_Close: Weight=0.072<br>BABA_Close: Weight=0.067<br>BA_Close: Weight=0.442<br>ABBV_Close: Weight=0.391<br>TXN_Close: Weight=0.028",
          "Return: 58.289%<br>Volatility: 0.120<br>Sharpe Ratio: 4.854<br>XOM_Close: Weight=0.000<br>NVDA_Close: Weight=0.073<br>BABA_Close: Weight=0.065<br>BA_Close: Weight=0.441<br>ABBV_Close: Weight=0.382<br>MA_Close: Weight=0.038",
          "Return: 59.180%<br>Volatility: 0.122<br>Sharpe Ratio: 4.851<br>XOM_Close: Weight=0.000<br>NVDA_Close: Weight=0.079<br>BABA_Close: Weight=0.069<br>BA_Close: Weight=0.454<br>ABBV_Close: Weight=0.398<br>META_Close: Weight=0.000",
          "Return: 59.889%<br>Volatility: 0.112<br>Sharpe Ratio: 5.350<br>XOM_Close: Weight=0.000<br>NVDA_Close: Weight=0.044<br>BABA_Close: Weight=0.048<br>BA_Close: Weight=0.326<br>ABBV_Close: Weight=0.332<br>CAT_Close: Weight=0.250",
          "Return: 57.738%<br>Volatility: 0.119<br>Sharpe Ratio: 4.855<br>XOM_Close: Weight=0.000<br>NVDA_Close: Weight=0.073<br>BABA_Close: Weight=0.064<br>BA_Close: Weight=0.435<br>ABBV_Close: Weight=0.379<br>V_Close: Weight=0.049",
          "Return: 56.954%<br>Volatility: 0.117<br>Sharpe Ratio: 4.876<br>XOM_Close: Weight=0.000<br>NVDA_Close: Weight=0.064<br>BABA_Close: Weight=0.058<br>BA_Close: Weight=0.426<br>ABBV_Close: Weight=0.359<br>MSFT_Close: Weight=0.092",
          "Return: 59.178%<br>Volatility: 0.122<br>Sharpe Ratio: 4.851<br>XOM_Close: Weight=0.000<br>NVDA_Close: Weight=0.079<br>BABA_Close: Weight=0.069<br>BA_Close: Weight=0.454<br>ABBV_Close: Weight=0.398<br>GOOG_Close: Weight=0.000",
          "Return: 59.178%<br>Volatility: 0.122<br>Sharpe Ratio: 4.851<br>XOM_Close: Weight=0.000<br>NVDA_Close: Weight=0.079<br>BABA_Close: Weight=0.069<br>BA_Close: Weight=0.454<br>ABBV_Close: Weight=0.398<br>GOOGL_Close: Weight=0.000",
          "Return: 58.935%<br>Volatility: 0.121<br>Sharpe Ratio: 4.851<br>XOM_Close: Weight=0.000<br>NVDA_Close: Weight=0.078<br>BABA_Close: Weight=0.067<br>BA_Close: Weight=0.451<br>ABBV_Close: Weight=0.393<br>AMZN_Close: Weight=0.011",
          "Return: 58.280%<br>Volatility: 0.120<br>Sharpe Ratio: 4.872<br>XOM_Close: Weight=0.000<br>NVDA_Close: Weight=0.068<br>BABA_Close: Weight=0.061<br>BA_Close: Weight=0.438<br>ABBV_Close: Weight=0.378<br>ADBE_Close: Weight=0.054",
          "Return: 59.179%<br>Volatility: 0.122<br>Sharpe Ratio: 4.851<br>XOM_Close: Weight=0.000<br>NVDA_Close: Weight=0.079<br>BABA_Close: Weight=0.069<br>BA_Close: Weight=0.454<br>ABBV_Close: Weight=0.398<br>SAP_Close: Weight=0.000",
          "Return: 56.536%<br>Volatility: 0.116<br>Sharpe Ratio: 4.859<br>XOM_Close: Weight=0.000<br>NVDA_Close: Weight=0.072<br>BABA_Close: Weight=0.066<br>BA_Close: Weight=0.418<br>ABBV_Close: Weight=0.367<br>HON_Close: Weight=0.077",
          "Return: 59.180%<br>Volatility: 0.122<br>Sharpe Ratio: 4.851<br>XOM_Close: Weight=0.000<br>NVDA_Close: Weight=0.079<br>BABA_Close: Weight=0.069<br>BA_Close: Weight=0.454<br>ABBV_Close: Weight=0.398<br>NFLX_Close: Weight=0.000",
          "Return: 57.755%<br>Volatility: 0.119<br>Sharpe Ratio: 4.862<br>XOM_Close: Weight=0.000<br>NVDA_Close: Weight=0.072<br>BABA_Close: Weight=0.064<br>BA_Close: Weight=0.436<br>ABBV_Close: Weight=0.378<br>INTC_Close: Weight=0.050",
          "Return: 59.180%<br>Volatility: 0.122<br>Sharpe Ratio: 4.851<br>XOM_Close: Weight=0.000<br>NVDA_Close: Weight=0.079<br>BABA_Close: Weight=0.069<br>BA_Close: Weight=0.454<br>ABBV_Close: Weight=0.398<br>AAPL_Close: Weight=0.000",
          "Return: 59.243%<br>Volatility: 0.122<br>Sharpe Ratio: 4.866<br>XOM_Close: Weight=0.000<br>NVDA_Close: Weight=0.078<br>BABA_Close: Weight=0.063<br>BA_Close: Weight=0.446<br>ABBV_Close: Weight=0.387<br>VRTX_Close: Weight=0.026",
          "Return: 56.926%<br>Volatility: 0.114<br>Sharpe Ratio: 4.997<br>XOM_Close: Weight=0.000<br>NVDA_Close: Weight=0.054<br>BABA_Close: Weight=0.049<br>BA_Close: Weight=0.403<br>ABBV_Close: Weight=0.340<br>ISRG_Close: Weight=0.154",
          "Return: 58.994%<br>Volatility: 0.122<br>Sharpe Ratio: 4.851<br>XOM_Close: Weight=0.000<br>NVDA_Close: Weight=0.078<br>BABA_Close: Weight=0.068<br>BA_Close: Weight=0.452<br>ABBV_Close: Weight=0.396<br>CRM_Close: Weight=0.005",
          "Return: 56.408%<br>Volatility: 0.112<br>Sharpe Ratio: 5.048<br>XOM_Close: Weight=0.000<br>NVDA_Close: Weight=0.054<br>BABA_Close: Weight=0.067<br>BA_Close: Weight=0.369<br>ABBV_Close: Weight=0.330<br>DE_Close: Weight=0.180",
          "Return: 59.180%<br>Volatility: 0.122<br>Sharpe Ratio: 4.851<br>XOM_Close: Weight=0.000<br>NVDA_Close: Weight=0.079<br>BABA_Close: Weight=0.069<br>BA_Close: Weight=0.454<br>ABBV_Close: Weight=0.398<br>ETN_Close: Weight=0.000",
          "Return: 58.686%<br>Volatility: 0.121<br>Sharpe Ratio: 4.851<br>XOM_Close: Weight=0.000<br>NVDA_Close: Weight=0.078<br>BABA_Close: Weight=0.069<br>BA_Close: Weight=0.448<br>ABBV_Close: Weight=0.393<br>EMR_Close: Weight=0.012",
          "Return: 59.180%<br>Volatility: 0.122<br>Sharpe Ratio: 4.851<br>XOM_Close: Weight=0.000<br>NVDA_Close: Weight=0.079<br>BABA_Close: Weight=0.069<br>BA_Close: Weight=0.454<br>ABBV_Close: Weight=0.398<br>MS_Close: Weight=0.000",
          "Return: 59.180%<br>Volatility: 0.122<br>Sharpe Ratio: 4.851<br>XOM_Close: Weight=0.000<br>NVDA_Close: Weight=0.079<br>BABA_Close: Weight=0.069<br>BA_Close: Weight=0.454<br>ABBV_Close: Weight=0.398<br>GS_Close: Weight=0.000",
          "Return: 55.750%<br>Volatility: 0.114<br>Sharpe Ratio: 4.882<br>XOM_Close: Weight=0.000<br>NVDA_Close: Weight=0.066<br>BABA_Close: Weight=0.067<br>BA_Close: Weight=0.408<br>ABBV_Close: Weight=0.354<br>ACN_Close: Weight=0.105",
          "Return: 59.182%<br>Volatility: 0.122<br>Sharpe Ratio: 4.851<br>XOM_Close: Weight=0.000<br>NVDA_Close: Weight=0.079<br>BABA_Close: Weight=0.069<br>BA_Close: Weight=0.454<br>ABBV_Close: Weight=0.398<br>RMD_Close: Weight=0.000",
          "Return: 59.180%<br>Volatility: 0.122<br>Sharpe Ratio: 4.851<br>XOM_Close: Weight=0.000<br>NVDA_Close: Weight=0.079<br>BABA_Close: Weight=0.069<br>BA_Close: Weight=0.454<br>ABBV_Close: Weight=0.398<br>BAC_Close: Weight=0.000",
          "Return: 54.829%<br>Volatility: 0.112<br>Sharpe Ratio: 4.882<br>XOM_Close: Weight=0.000<br>NVDA_Close: Weight=0.068<br>BABA_Close: Weight=0.064<br>BA_Close: Weight=0.392<br>ABBV_Close: Weight=0.353<br>LMT_Close: Weight=0.124",
          "Return: 57.685%<br>Volatility: 0.119<br>Sharpe Ratio: 4.856<br>XOM_Close: Weight=0.000<br>NVDA_Close: Weight=0.076<br>BABA_Close: Weight=0.066<br>BA_Close: Weight=0.435<br>ABBV_Close: Weight=0.385<br>JPM_Close: Weight=0.037",
          "Return: 56.857%<br>Volatility: 0.117<br>Sharpe Ratio: 4.867<br>XOM_Close: Weight=0.000<br>NVDA_Close: Weight=0.071<br>BABA_Close: Weight=0.072<br>BA_Close: Weight=0.426<br>ABBV_Close: Weight=0.355<br>ABT_Close: Weight=0.077",
          "Return: 54.044%<br>Volatility: 0.107<br>Sharpe Ratio: 5.034<br>XOM_Close: Weight=0.000<br>NVDA_Close: Weight=0.058<br>BABA_Close: Weight=0.070<br>BA_Close: Weight=0.365<br>ABBV_Close: Weight=0.294<br>UNH_Close: Weight=0.213",
          "Return: 59.180%<br>Volatility: 0.122<br>Sharpe Ratio: 4.851<br>XOM_Close: Weight=0.000<br>NVDA_Close: Weight=0.079<br>BABA_Close: Weight=0.069<br>BA_Close: Weight=0.454<br>ABBV_Close: Weight=0.398<br>TSLA_Close: Weight=0.000",
          "Return: 59.180%<br>Volatility: 0.122<br>Sharpe Ratio: 4.851<br>XOM_Close: Weight=0.000<br>NVDA_Close: Weight=0.079<br>BABA_Close: Weight=0.069<br>BA_Close: Weight=0.454<br>ABBV_Close: Weight=0.398<br>EW_Close: Weight=0.000",
          "Return: 54.341%<br>Volatility: 0.110<br>Sharpe Ratio: 4.925<br>XOM_Close: Weight=0.000<br>NVDA_Close: Weight=0.063<br>BABA_Close: Weight=0.068<br>BA_Close: Weight=0.382<br>ABBV_Close: Weight=0.334<br>MMM_Close: Weight=0.152",
          "Return: 53.102%<br>Volatility: 0.102<br>Sharpe Ratio: 5.195<br>XOM_Close: Weight=0.000<br>NVDA_Close: Weight=0.049<br>BABA_Close: Weight=0.057<br>BA_Close: Weight=0.346<br>ABBV_Close: Weight=0.272<br>MCD_Close: Weight=0.276",
          "Return: 58.217%<br>Volatility: 0.120<br>Sharpe Ratio: 4.853<br>XOM_Close: Weight=0.000<br>NVDA_Close: Weight=0.076<br>BABA_Close: Weight=0.068<br>BA_Close: Weight=0.445<br>ABBV_Close: Weight=0.385<br>SYK_Close: Weight=0.025",
          "Return: 59.179%<br>Volatility: 0.122<br>Sharpe Ratio: 4.851<br>XOM_Close: Weight=0.000<br>NVDA_Close: Weight=0.079<br>BABA_Close: Weight=0.069<br>BA_Close: Weight=0.454<br>ABBV_Close: Weight=0.398<br>QCOM_Close: Weight=0.000",
          "Return: 59.180%<br>Volatility: 0.122<br>Sharpe Ratio: 4.851<br>XOM_Close: Weight=0.000<br>NVDA_Close: Weight=0.079<br>BABA_Close: Weight=0.069<br>BA_Close: Weight=0.454<br>ABBV_Close: Weight=0.398<br>BIIB_Close: Weight=0.000",
          "Return: 59.180%<br>Volatility: 0.122<br>Sharpe Ratio: 4.851<br>XOM_Close: Weight=0.000<br>NVDA_Close: Weight=0.079<br>BABA_Close: Weight=0.069<br>BA_Close: Weight=0.454<br>ABBV_Close: Weight=0.398<br>BSX_Close: Weight=0.000",
          "Return: 59.180%<br>Volatility: 0.122<br>Sharpe Ratio: 4.851<br>XOM_Close: Weight=0.000<br>NVDA_Close: Weight=0.079<br>BABA_Close: Weight=0.069<br>BA_Close: Weight=0.454<br>ABBV_Close: Weight=0.398<br>CSCO_Close: Weight=0.000",
          "Return: 59.180%<br>Volatility: 0.122<br>Sharpe Ratio: 4.851<br>XOM_Close: Weight=0.000<br>NVDA_Close: Weight=0.079<br>BABA_Close: Weight=0.069<br>BA_Close: Weight=0.454<br>ABBV_Close: Weight=0.398<br>WFC_Close: Weight=0.000",
          "Return: 59.180%<br>Volatility: 0.122<br>Sharpe Ratio: 4.851<br>XOM_Close: Weight=0.000<br>NVDA_Close: Weight=0.079<br>BABA_Close: Weight=0.069<br>BA_Close: Weight=0.454<br>ABBV_Close: Weight=0.398<br>RTX_Close: Weight=0.000",
          "Return: 59.179%<br>Volatility: 0.122<br>Sharpe Ratio: 4.851<br>XOM_Close: Weight=0.000<br>NVDA_Close: Weight=0.079<br>BABA_Close: Weight=0.069<br>BA_Close: Weight=0.454<br>ABBV_Close: Weight=0.398<br>DHR_Close: Weight=0.000",
          "Return: 52.368%<br>Volatility: 0.106<br>Sharpe Ratio: 4.957<br>XOM_Close: Weight=0.000<br>NVDA_Close: Weight=0.066<br>BABA_Close: Weight=0.064<br>BA_Close: Weight=0.373<br>ABBV_Close: Weight=0.342<br>CVX_Close: Weight=0.155",
          "Return: 59.181%<br>Volatility: 0.122<br>Sharpe Ratio: 4.851<br>XOM_Close: Weight=0.000<br>NVDA_Close: Weight=0.079<br>BABA_Close: Weight=0.069<br>BA_Close: Weight=0.454<br>ABBV_Close: Weight=0.398<br>ORCL_Close: Weight=0.000",
          "Return: 59.180%<br>Volatility: 0.122<br>Sharpe Ratio: 4.851<br>XOM_Close: Weight=0.000<br>NVDA_Close: Weight=0.079<br>BABA_Close: Weight=0.069<br>BA_Close: Weight=0.454<br>ABBV_Close: Weight=0.398<br>GM_Close: Weight=0.000",
          "Return: 55.041%<br>Volatility: 0.113<br>Sharpe Ratio: 4.872<br>XOM_Close: Weight=0.000<br>NVDA_Close: Weight=0.070<br>BABA_Close: Weight=0.067<br>BA_Close: Weight=0.418<br>ABBV_Close: Weight=0.346<br>JNJ_Close: Weight=0.099",
          "Return: 59.180%<br>Volatility: 0.122<br>Sharpe Ratio: 4.851<br>XOM_Close: Weight=0.000<br>NVDA_Close: Weight=0.079<br>BABA_Close: Weight=0.069<br>BA_Close: Weight=0.454<br>ABBV_Close: Weight=0.398<br>AMD_Close: Weight=0.000",
          "Return: 59.181%<br>Volatility: 0.122<br>Sharpe Ratio: 4.851<br>XOM_Close: Weight=0.000<br>NVDA_Close: Weight=0.079<br>BABA_Close: Weight=0.069<br>BA_Close: Weight=0.454<br>ABBV_Close: Weight=0.398<br>BMY_Close: Weight=0.000",
          "Return: 59.181%<br>Volatility: 0.122<br>Sharpe Ratio: 4.851<br>XOM_Close: Weight=0.000<br>NVDA_Close: Weight=0.079<br>BABA_Close: Weight=0.069<br>BA_Close: Weight=0.454<br>ABBV_Close: Weight=0.398<br>MDT_Close: Weight=0.000",
          "Return: 59.182%<br>Volatility: 0.122<br>Sharpe Ratio: 4.851<br>XOM_Close: Weight=0.000<br>NVDA_Close: Weight=0.079<br>BABA_Close: Weight=0.069<br>BA_Close: Weight=0.454<br>ABBV_Close: Weight=0.398<br>AMGN_Close: Weight=0.000",
          "Return: 52.143%<br>Volatility: 0.101<br>Sharpe Ratio: 5.186<br>XOM_Close: Weight=0.000<br>NVDA_Close: Weight=0.060<br>BABA_Close: Weight=0.073<br>BA_Close: Weight=0.327<br>ABBV_Close: Weight=0.269<br>HD_Close: Weight=0.271",
          "Return: 59.179%<br>Volatility: 0.122<br>Sharpe Ratio: 4.851<br>XOM_Close: Weight=0.000<br>NVDA_Close: Weight=0.079<br>BABA_Close: Weight=0.069<br>BA_Close: Weight=0.454<br>ABBV_Close: Weight=0.398<br>T_Close: Weight=0.000",
          "Return: 55.308%<br>Volatility: 0.104<br>Sharpe Ratio: 5.293<br>XOM_Close: Weight=0.000<br>NVDA_Close: Weight=0.054<br>BABA_Close: Weight=0.054<br>BA_Close: Weight=0.357<br>ABBV_Close: Weight=0.304<br>WMT_Close: Weight=0.231",
          "Return: 59.180%<br>Volatility: 0.122<br>Sharpe Ratio: 4.851<br>XOM_Close: Weight=0.000<br>NVDA_Close: Weight=0.079<br>BABA_Close: Weight=0.069<br>BA_Close: Weight=0.454<br>ABBV_Close: Weight=0.398<br>BTI_Close: Weight=0.000",
          "Return: 59.178%<br>Volatility: 0.122<br>Sharpe Ratio: 4.851<br>XOM_Close: Weight=0.000<br>NVDA_Close: Weight=0.079<br>BABA_Close: Weight=0.069<br>BA_Close: Weight=0.454<br>ABBV_Close: Weight=0.398<br>PFE_Close: Weight=0.000",
          "Return: 59.180%<br>Volatility: 0.122<br>Sharpe Ratio: 4.851<br>XOM_Close: Weight=0.000<br>NVDA_Close: Weight=0.079<br>BABA_Close: Weight=0.069<br>BA_Close: Weight=0.454<br>ABBV_Close: Weight=0.398<br>GILD_Close: Weight=0.000",
          "Return: 54.536%<br>Volatility: 0.111<br>Sharpe Ratio: 4.926<br>XOM_Close: Weight=0.000<br>NVDA_Close: Weight=0.065<br>BABA_Close: Weight=0.060<br>BA_Close: Weight=0.418<br>ABBV_Close: Weight=0.334<br>TMO_Close: Weight=0.123",
          "Return: 59.180%<br>Volatility: 0.122<br>Sharpe Ratio: 4.851<br>XOM_Close: Weight=0.000<br>NVDA_Close: Weight=0.079<br>BABA_Close: Weight=0.069<br>BA_Close: Weight=0.454<br>ABBV_Close: Weight=0.398<br>RDY_Close: Weight=0.000",
          "Return: 59.179%<br>Volatility: 0.122<br>Sharpe Ratio: 4.851<br>XOM_Close: Weight=0.000<br>NVDA_Close: Weight=0.079<br>BABA_Close: Weight=0.069<br>BA_Close: Weight=0.454<br>ABBV_Close: Weight=0.398<br>ZBH_Close: Weight=0.000",
          "Return: 59.182%<br>Volatility: 0.122<br>Sharpe Ratio: 4.851<br>XOM_Close: Weight=0.000<br>NVDA_Close: Weight=0.079<br>BABA_Close: Weight=0.069<br>BA_Close: Weight=0.454<br>ABBV_Close: Weight=0.398<br>F_Close: Weight=0.000",
          "Return: 59.180%<br>Volatility: 0.122<br>Sharpe Ratio: 4.851<br>XOM_Close: Weight=0.000<br>NVDA_Close: Weight=0.079<br>BABA_Close: Weight=0.069<br>BA_Close: Weight=0.454<br>ABBV_Close: Weight=0.398<br>IBM_Close: Weight=0.000",
          "Return: 59.181%<br>Volatility: 0.122<br>Sharpe Ratio: 4.851<br>XOM_Close: Weight=0.000<br>NVDA_Close: Weight=0.079<br>BABA_Close: Weight=0.069<br>BA_Close: Weight=0.454<br>ABBV_Close: Weight=0.398<br>LLY_Close: Weight=0.000",
          "Return: 59.181%<br>Volatility: 0.122<br>Sharpe Ratio: 4.851<br>XOM_Close: Weight=0.000<br>NVDA_Close: Weight=0.079<br>BABA_Close: Weight=0.069<br>BA_Close: Weight=0.454<br>ABBV_Close: Weight=0.398<br>PM_Close: Weight=0.000",
          "Return: 49.476%<br>Volatility: 0.097<br>Sharpe Ratio: 5.098<br>XOM_Close: Weight=0.000<br>NVDA_Close: Weight=0.051<br>BABA_Close: Weight=0.067<br>BA_Close: Weight=0.335<br>ABBV_Close: Weight=0.275<br>NEE_Close: Weight=0.272",
          "Return: 58.553%<br>Volatility: 0.121<br>Sharpe Ratio: 4.851<br>XOM_Close: Weight=0.000<br>NVDA_Close: Weight=0.078<br>BABA_Close: Weight=0.070<br>BA_Close: Weight=0.446<br>ABBV_Close: Weight=0.393<br>VZ_Close: Weight=0.013",
          "Return: 47.627%<br>Volatility: 0.096<br>Sharpe Ratio: 4.973<br>XOM_Close: Weight=0.000<br>NVDA_Close: Weight=0.055<br>BABA_Close: Weight=0.069<br>BA_Close: Weight=0.330<br>ABBV_Close: Weight=0.295<br>KO_Close: Weight=0.250",
          "Return: 55.142%<br>Volatility: 0.113<br>Sharpe Ratio: 4.875<br>XOM_Close: Weight=0.000<br>NVDA_Close: Weight=0.071<br>BABA_Close: Weight=0.069<br>BA_Close: Weight=0.415<br>ABBV_Close: Weight=0.357<br>EXC_Close: Weight=0.087",
          "Return: 59.179%<br>Volatility: 0.122<br>Sharpe Ratio: 4.851<br>XOM_Close: Weight=0.000<br>NVDA_Close: Weight=0.079<br>BABA_Close: Weight=0.069<br>BA_Close: Weight=0.454<br>ABBV_Close: Weight=0.398<br>PG_Close: Weight=0.000",
          "Return: 49.567%<br>Volatility: 0.100<br>Sharpe Ratio: 4.947<br>XOM_Close: Weight=0.000<br>NVDA_Close: Weight=0.056<br>BABA_Close: Weight=0.065<br>BA_Close: Weight=0.355<br>ABBV_Close: Weight=0.319<br>PEP_Close: Weight=0.204",
          "Return: 59.180%<br>Volatility: 0.122<br>Sharpe Ratio: 4.851<br>XOM_Close: Weight=0.000<br>NVDA_Close: Weight=0.079<br>BABA_Close: Weight=0.069<br>BA_Close: Weight=0.454<br>ABBV_Close: Weight=0.398<br>SO_Close: Weight=0.000",
          "Return: 51.367%<br>Volatility: 0.104<br>Sharpe Ratio: 4.927<br>XOM_Close: Weight=0.000<br>NVDA_Close: Weight=0.063<br>BABA_Close: Weight=0.073<br>BA_Close: Weight=0.363<br>ABBV_Close: Weight=0.322<br>AEP_Close: Weight=0.178",
          "Return: 59.180%<br>Volatility: 0.122<br>Sharpe Ratio: 4.851<br>XOM_Close: Weight=0.000<br>NVDA_Close: Weight=0.079<br>BABA_Close: Weight=0.069<br>BA_Close: Weight=0.454<br>ABBV_Close: Weight=0.398<br>MO_Close: Weight=0.000",
          "Return: 53.754%<br>Volatility: 0.109<br>Sharpe Ratio: 4.950<br>XOM_Close: Weight=0.000<br>NVDA_Close: Weight=0.068<br>BABA_Close: Weight=0.069<br>BA_Close: Weight=0.381<br>ABBV_Close: Weight=0.346<br>SYY_Close: Weight=0.135",
          "Return: 59.179%<br>Volatility: 0.122<br>Sharpe Ratio: 4.851<br>XOM_Close: Weight=0.000<br>NVDA_Close: Weight=0.079<br>BABA_Close: Weight=0.069<br>BA_Close: Weight=0.454<br>ABBV_Close: Weight=0.398<br>REGN_Close: Weight=0.000",
          "Return: 59.179%<br>Volatility: 0.122<br>Sharpe Ratio: 4.851<br>XOM_Close: Weight=0.000<br>NVDA_Close: Weight=0.079<br>BABA_Close: Weight=0.069<br>BA_Close: Weight=0.454<br>ABBV_Close: Weight=0.398<br>SRE_Close: Weight=0.000",
          "Return: 56.801%<br>Volatility: 0.117<br>Sharpe Ratio: 4.867<br>XOM_Close: Weight=0.000<br>NVDA_Close: Weight=0.074<br>BABA_Close: Weight=0.070<br>BA_Close: Weight=0.429<br>ABBV_Close: Weight=0.378<br>COST_Close: Weight=0.049",
          "Return: 55.701%<br>Volatility: 0.115<br>Sharpe Ratio: 4.857<br>XOM_Close: Weight=0.000<br>NVDA_Close: Weight=0.073<br>BABA_Close: Weight=0.070<br>BA_Close: Weight=0.423<br>ABBV_Close: Weight=0.368<br>DUK_Close: Weight=0.066",
          "Return: 56.206%<br>Volatility: 0.115<br>Sharpe Ratio: 4.877<br>XOM_Close: Weight=0.000<br>NVDA_Close: Weight=0.072<br>BABA_Close: Weight=0.070<br>BA_Close: Weight=0.422<br>ABBV_Close: Weight=0.378<br>CMCSA_Close: Weight=0.059",
          "Return: 59.182%<br>Volatility: 0.122<br>Sharpe Ratio: 4.851<br>XOM_Close: Weight=0.000<br>NVDA_Close: Weight=0.079<br>BABA_Close: Weight=0.069<br>BA_Close: Weight=0.454<br>ABBV_Close: Weight=0.398<br>GIS_Close: Weight=0.000",
          "Return: 56.524%<br>Volatility: 0.116<br>Sharpe Ratio: 4.878<br>XOM_Close: Weight=0.000<br>NVDA_Close: Weight=0.074<br>BABA_Close: Weight=0.068<br>BA_Close: Weight=0.431<br>ABBV_Close: Weight=0.372<br>NKE_Close: Weight=0.055",
          "Return: 59.180%<br>Volatility: 0.122<br>Sharpe Ratio: 4.851<br>XOM_Close: Weight=0.000<br>NVDA_Close: Weight=0.079<br>BABA_Close: Weight=0.069<br>BA_Close: Weight=0.454<br>ABBV_Close: Weight=0.398<br>KR_Close: Weight=0.000",
          "Return: 59.180%<br>Volatility: 0.122<br>Sharpe Ratio: 4.851<br>XOM_Close: Weight=0.000<br>NVDA_Close: Weight=0.079<br>BABA_Close: Weight=0.069<br>BA_Close: Weight=0.453<br>ABBV_Close: Weight=0.398<br>DIS_Close: Weight=0.000",
          "Return: 59.180%<br>Volatility: 0.122<br>Sharpe Ratio: 4.851<br>XOM_Close: Weight=0.000<br>NVDA_Close: Weight=0.079<br>BABA_Close: Weight=0.069<br>BA_Close: Weight=0.454<br>ABBV_Close: Weight=0.398<br>MRK_Close: Weight=0.000",
          "Return: 59.179%<br>Volatility: 0.122<br>Sharpe Ratio: 4.851<br>XOM_Close: Weight=0.000<br>NVDA_Close: Weight=0.079<br>BABA_Close: Weight=0.069<br>BA_Close: Weight=0.454<br>ABBV_Close: Weight=0.398<br>K_Close: Weight=0.000",
          "Return: 59.180%<br>Volatility: 0.122<br>Sharpe Ratio: 4.851<br>XOM_Close: Weight=0.000<br>NVDA_Close: Weight=0.079<br>BABA_Close: Weight=0.069<br>BA_Close: Weight=0.454<br>ABBV_Close: Weight=0.398<br>UA_Close: Weight=0.000",
          "Return: 59.180%<br>Volatility: 0.122<br>Sharpe Ratio: 4.851<br>XOM_Close: Weight=0.000<br>NVDA_Close: Weight=0.079<br>BABA_Close: Weight=0.069<br>BA_Close: Weight=0.454<br>ABBV_Close: Weight=0.398<br>GE_Close: Weight=0.000",
          "Return: 59.180%<br>Volatility: 0.122<br>Sharpe Ratio: 4.851<br>XOM_Close: Weight=0.000<br>NVDA_Close: Weight=0.079<br>BABA_Close: Weight=0.069<br>BA_Close: Weight=0.454<br>ABBV_Close: Weight=0.398<br>CPB_Close: Weight=0.000",
          "Return: 59.180%<br>Volatility: 0.122<br>Sharpe Ratio: 4.851<br>XOM_Close: Weight=0.000<br>NVDA_Close: Weight=0.079<br>BABA_Close: Weight=0.069<br>BA_Close: Weight=0.454<br>ABBV_Close: Weight=0.398<br>SNAP_Close: Weight=0.000",
          "Return: 59.492%<br>Volatility: 0.121<br>Sharpe Ratio: 4.914<br>XOM_Close: Weight=0.000<br>NVDA_Close: Weight=0.062<br>BABA_Close: Weight=0.052<br>BA_Close: Weight=0.421<br>ABBV_Close: Weight=0.368<br>PYPL_Close: Weight=0.098",
          "Return: 59.492%<br>Volatility: 0.121<br>Sharpe Ratio: 4.914<br>XOM_Close: Weight=0.000<br>NVDA_Close: Weight=0.062<br>BABA_Close: Weight=0.052<br>BA_Close: Weight=0.421<br>ABBV_Close: Weight=0.368<br>PYPL_Close: Weight=0.098",
          "Return: 59.492%<br>Volatility: 0.121<br>Sharpe Ratio: 4.914<br>XOM_Close: Weight=0.000<br>NVDA_Close: Weight=0.062<br>BABA_Close: Weight=0.052<br>BA_Close: Weight=0.421<br>ABBV_Close: Weight=0.368<br>PYPL_Close: Weight=0.098",
          "Return: 59.492%<br>Volatility: 0.121<br>Sharpe Ratio: 4.914<br>XOM_Close: Weight=0.000<br>NVDA_Close: Weight=0.062<br>BABA_Close: Weight=0.052<br>BA_Close: Weight=0.421<br>ABBV_Close: Weight=0.368<br>PYPL_Close: Weight=0.098",
          "Return: 59.492%<br>Volatility: 0.121<br>Sharpe Ratio: 4.914<br>XOM_Close: Weight=0.000<br>NVDA_Close: Weight=0.062<br>BABA_Close: Weight=0.052<br>BA_Close: Weight=0.421<br>ABBV_Close: Weight=0.368<br>PYPL_Close: Weight=0.098",
          "Return: 59.492%<br>Volatility: 0.121<br>Sharpe Ratio: 4.914<br>XOM_Close: Weight=0.000<br>NVDA_Close: Weight=0.062<br>BABA_Close: Weight=0.052<br>BA_Close: Weight=0.421<br>ABBV_Close: Weight=0.368<br>PYPL_Close: Weight=0.098",
          "Return: 59.492%<br>Volatility: 0.121<br>Sharpe Ratio: 4.914<br>XOM_Close: Weight=0.000<br>NVDA_Close: Weight=0.062<br>BABA_Close: Weight=0.052<br>BA_Close: Weight=0.421<br>ABBV_Close: Weight=0.368<br>PYPL_Close: Weight=0.098",
          "Return: 59.492%<br>Volatility: 0.121<br>Sharpe Ratio: 4.914<br>XOM_Close: Weight=0.000<br>NVDA_Close: Weight=0.062<br>BABA_Close: Weight=0.052<br>BA_Close: Weight=0.421<br>ABBV_Close: Weight=0.368<br>PYPL_Close: Weight=0.098",
          "Return: 59.492%<br>Volatility: 0.121<br>Sharpe Ratio: 4.914<br>XOM_Close: Weight=0.000<br>NVDA_Close: Weight=0.062<br>BABA_Close: Weight=0.052<br>BA_Close: Weight=0.421<br>ABBV_Close: Weight=0.368<br>PYPL_Close: Weight=0.098",
          "Return: 59.492%<br>Volatility: 0.121<br>Sharpe Ratio: 4.914<br>XOM_Close: Weight=0.000<br>NVDA_Close: Weight=0.062<br>BABA_Close: Weight=0.052<br>BA_Close: Weight=0.421<br>ABBV_Close: Weight=0.368<br>PYPL_Close: Weight=0.098",
          "Return: 59.492%<br>Volatility: 0.121<br>Sharpe Ratio: 4.914<br>XOM_Close: Weight=0.000<br>NVDA_Close: Weight=0.062<br>BABA_Close: Weight=0.052<br>BA_Close: Weight=0.421<br>ABBV_Close: Weight=0.368<br>PYPL_Close: Weight=0.098",
          "Return: 59.492%<br>Volatility: 0.121<br>Sharpe Ratio: 4.914<br>XOM_Close: Weight=0.000<br>NVDA_Close: Weight=0.062<br>BABA_Close: Weight=0.052<br>BA_Close: Weight=0.421<br>ABBV_Close: Weight=0.368<br>PYPL_Close: Weight=0.098",
          "Return: 59.492%<br>Volatility: 0.121<br>Sharpe Ratio: 4.914<br>XOM_Close: Weight=0.000<br>NVDA_Close: Weight=0.062<br>BABA_Close: Weight=0.052<br>BA_Close: Weight=0.421<br>ABBV_Close: Weight=0.368<br>PYPL_Close: Weight=0.098",
          "Return: 59.492%<br>Volatility: 0.121<br>Sharpe Ratio: 4.914<br>XOM_Close: Weight=0.000<br>NVDA_Close: Weight=0.062<br>BABA_Close: Weight=0.052<br>BA_Close: Weight=0.421<br>ABBV_Close: Weight=0.368<br>PYPL_Close: Weight=0.098",
          "Return: 59.492%<br>Volatility: 0.121<br>Sharpe Ratio: 4.914<br>XOM_Close: Weight=0.000<br>NVDA_Close: Weight=0.062<br>BABA_Close: Weight=0.052<br>BA_Close: Weight=0.421<br>ABBV_Close: Weight=0.368<br>PYPL_Close: Weight=0.098",
          "Return: 59.492%<br>Volatility: 0.121<br>Sharpe Ratio: 4.914<br>XOM_Close: Weight=0.000<br>NVDA_Close: Weight=0.062<br>BABA_Close: Weight=0.052<br>BA_Close: Weight=0.421<br>ABBV_Close: Weight=0.368<br>PYPL_Close: Weight=0.098",
          "Return: 59.492%<br>Volatility: 0.121<br>Sharpe Ratio: 4.914<br>XOM_Close: Weight=0.000<br>NVDA_Close: Weight=0.062<br>BABA_Close: Weight=0.052<br>BA_Close: Weight=0.421<br>ABBV_Close: Weight=0.368<br>PYPL_Close: Weight=0.098",
          "Return: 59.492%<br>Volatility: 0.121<br>Sharpe Ratio: 4.914<br>XOM_Close: Weight=0.000<br>NVDA_Close: Weight=0.062<br>BABA_Close: Weight=0.052<br>BA_Close: Weight=0.421<br>ABBV_Close: Weight=0.368<br>PYPL_Close: Weight=0.098",
          "Return: 59.492%<br>Volatility: 0.121<br>Sharpe Ratio: 4.914<br>XOM_Close: Weight=0.000<br>NVDA_Close: Weight=0.062<br>BABA_Close: Weight=0.052<br>BA_Close: Weight=0.421<br>ABBV_Close: Weight=0.368<br>PYPL_Close: Weight=0.098",
          "Return: 59.492%<br>Volatility: 0.121<br>Sharpe Ratio: 4.914<br>XOM_Close: Weight=0.000<br>NVDA_Close: Weight=0.062<br>BABA_Close: Weight=0.052<br>BA_Close: Weight=0.421<br>ABBV_Close: Weight=0.368<br>PYPL_Close: Weight=0.098",
          "Return: 59.492%<br>Volatility: 0.121<br>Sharpe Ratio: 4.914<br>XOM_Close: Weight=0.000<br>NVDA_Close: Weight=0.062<br>BABA_Close: Weight=0.052<br>BA_Close: Weight=0.421<br>ABBV_Close: Weight=0.368<br>PYPL_Close: Weight=0.098",
          "Return: 59.492%<br>Volatility: 0.121<br>Sharpe Ratio: 4.914<br>XOM_Close: Weight=0.000<br>NVDA_Close: Weight=0.062<br>BABA_Close: Weight=0.052<br>BA_Close: Weight=0.421<br>ABBV_Close: Weight=0.368<br>PYPL_Close: Weight=0.098",
          "Return: 59.492%<br>Volatility: 0.121<br>Sharpe Ratio: 4.914<br>XOM_Close: Weight=0.000<br>NVDA_Close: Weight=0.062<br>BABA_Close: Weight=0.052<br>BA_Close: Weight=0.421<br>ABBV_Close: Weight=0.368<br>PYPL_Close: Weight=0.098",
          "Return: 59.492%<br>Volatility: 0.121<br>Sharpe Ratio: 4.914<br>XOM_Close: Weight=0.000<br>NVDA_Close: Weight=0.062<br>BABA_Close: Weight=0.052<br>BA_Close: Weight=0.421<br>ABBV_Close: Weight=0.368<br>PYPL_Close: Weight=0.098",
          "Return: 59.492%<br>Volatility: 0.121<br>Sharpe Ratio: 4.914<br>XOM_Close: Weight=0.000<br>NVDA_Close: Weight=0.062<br>BABA_Close: Weight=0.052<br>BA_Close: Weight=0.421<br>ABBV_Close: Weight=0.368<br>PYPL_Close: Weight=0.098",
          "Return: 59.492%<br>Volatility: 0.121<br>Sharpe Ratio: 4.914<br>XOM_Close: Weight=0.000<br>NVDA_Close: Weight=0.062<br>BABA_Close: Weight=0.052<br>BA_Close: Weight=0.421<br>ABBV_Close: Weight=0.368<br>PYPL_Close: Weight=0.098",
          "Return: 59.492%<br>Volatility: 0.121<br>Sharpe Ratio: 4.914<br>XOM_Close: Weight=0.000<br>NVDA_Close: Weight=0.062<br>BABA_Close: Weight=0.052<br>BA_Close: Weight=0.421<br>ABBV_Close: Weight=0.368<br>PYPL_Close: Weight=0.098",
          "Return: 59.492%<br>Volatility: 0.121<br>Sharpe Ratio: 4.914<br>XOM_Close: Weight=0.000<br>NVDA_Close: Weight=0.062<br>BABA_Close: Weight=0.052<br>BA_Close: Weight=0.421<br>ABBV_Close: Weight=0.368<br>PYPL_Close: Weight=0.098",
          "Return: 59.492%<br>Volatility: 0.121<br>Sharpe Ratio: 4.914<br>XOM_Close: Weight=0.000<br>NVDA_Close: Weight=0.062<br>BABA_Close: Weight=0.052<br>BA_Close: Weight=0.421<br>ABBV_Close: Weight=0.368<br>PYPL_Close: Weight=0.098",
          "Return: 59.492%<br>Volatility: 0.121<br>Sharpe Ratio: 4.914<br>XOM_Close: Weight=0.000<br>NVDA_Close: Weight=0.062<br>BABA_Close: Weight=0.052<br>BA_Close: Weight=0.421<br>ABBV_Close: Weight=0.368<br>PYPL_Close: Weight=0.098",
          "Return: 59.492%<br>Volatility: 0.121<br>Sharpe Ratio: 4.914<br>XOM_Close: Weight=0.000<br>NVDA_Close: Weight=0.062<br>BABA_Close: Weight=0.052<br>BA_Close: Weight=0.421<br>ABBV_Close: Weight=0.368<br>PYPL_Close: Weight=0.098",
          "Return: 59.492%<br>Volatility: 0.121<br>Sharpe Ratio: 4.914<br>XOM_Close: Weight=0.000<br>NVDA_Close: Weight=0.062<br>BABA_Close: Weight=0.052<br>BA_Close: Weight=0.421<br>ABBV_Close: Weight=0.368<br>PYPL_Close: Weight=0.098",
          "Return: 59.492%<br>Volatility: 0.121<br>Sharpe Ratio: 4.914<br>XOM_Close: Weight=0.000<br>NVDA_Close: Weight=0.062<br>BABA_Close: Weight=0.052<br>BA_Close: Weight=0.421<br>ABBV_Close: Weight=0.368<br>PYPL_Close: Weight=0.098",
          "Return: 59.492%<br>Volatility: 0.121<br>Sharpe Ratio: 4.914<br>XOM_Close: Weight=0.000<br>NVDA_Close: Weight=0.062<br>BABA_Close: Weight=0.052<br>BA_Close: Weight=0.421<br>ABBV_Close: Weight=0.368<br>PYPL_Close: Weight=0.098",
          "Return: 59.492%<br>Volatility: 0.121<br>Sharpe Ratio: 4.914<br>XOM_Close: Weight=0.000<br>NVDA_Close: Weight=0.062<br>BABA_Close: Weight=0.052<br>BA_Close: Weight=0.421<br>ABBV_Close: Weight=0.368<br>PYPL_Close: Weight=0.098",
          "Return: 59.492%<br>Volatility: 0.121<br>Sharpe Ratio: 4.914<br>XOM_Close: Weight=0.000<br>NVDA_Close: Weight=0.062<br>BABA_Close: Weight=0.052<br>BA_Close: Weight=0.421<br>ABBV_Close: Weight=0.368<br>PYPL_Close: Weight=0.098",
          "Return: 59.492%<br>Volatility: 0.121<br>Sharpe Ratio: 4.914<br>XOM_Close: Weight=0.000<br>NVDA_Close: Weight=0.062<br>BABA_Close: Weight=0.052<br>BA_Close: Weight=0.421<br>ABBV_Close: Weight=0.368<br>PYPL_Close: Weight=0.098",
          "Return: 59.492%<br>Volatility: 0.121<br>Sharpe Ratio: 4.914<br>XOM_Close: Weight=0.000<br>NVDA_Close: Weight=0.062<br>BABA_Close: Weight=0.052<br>BA_Close: Weight=0.421<br>ABBV_Close: Weight=0.368<br>PYPL_Close: Weight=0.098",
          "Return: 59.492%<br>Volatility: 0.121<br>Sharpe Ratio: 4.914<br>XOM_Close: Weight=0.000<br>NVDA_Close: Weight=0.062<br>BABA_Close: Weight=0.052<br>BA_Close: Weight=0.421<br>ABBV_Close: Weight=0.368<br>PYPL_Close: Weight=0.098",
          "Return: 59.492%<br>Volatility: 0.121<br>Sharpe Ratio: 4.914<br>XOM_Close: Weight=0.000<br>NVDA_Close: Weight=0.062<br>BABA_Close: Weight=0.052<br>BA_Close: Weight=0.421<br>ABBV_Close: Weight=0.368<br>PYPL_Close: Weight=0.098",
          "Return: 59.492%<br>Volatility: 0.121<br>Sharpe Ratio: 4.914<br>XOM_Close: Weight=0.000<br>NVDA_Close: Weight=0.062<br>BABA_Close: Weight=0.052<br>BA_Close: Weight=0.421<br>ABBV_Close: Weight=0.368<br>PYPL_Close: Weight=0.098",
          "Return: 59.492%<br>Volatility: 0.121<br>Sharpe Ratio: 4.914<br>XOM_Close: Weight=0.000<br>NVDA_Close: Weight=0.062<br>BABA_Close: Weight=0.052<br>BA_Close: Weight=0.421<br>ABBV_Close: Weight=0.368<br>PYPL_Close: Weight=0.098",
          "Return: 59.492%<br>Volatility: 0.121<br>Sharpe Ratio: 4.914<br>XOM_Close: Weight=0.000<br>NVDA_Close: Weight=0.062<br>BABA_Close: Weight=0.052<br>BA_Close: Weight=0.421<br>ABBV_Close: Weight=0.368<br>PYPL_Close: Weight=0.098",
          "Return: 59.492%<br>Volatility: 0.121<br>Sharpe Ratio: 4.914<br>XOM_Close: Weight=0.000<br>NVDA_Close: Weight=0.062<br>BABA_Close: Weight=0.052<br>BA_Close: Weight=0.421<br>ABBV_Close: Weight=0.368<br>PYPL_Close: Weight=0.098",
          "Return: 59.492%<br>Volatility: 0.121<br>Sharpe Ratio: 4.914<br>XOM_Close: Weight=0.000<br>NVDA_Close: Weight=0.062<br>BABA_Close: Weight=0.052<br>BA_Close: Weight=0.421<br>ABBV_Close: Weight=0.368<br>PYPL_Close: Weight=0.098",
          "Return: 59.492%<br>Volatility: 0.121<br>Sharpe Ratio: 4.914<br>XOM_Close: Weight=0.000<br>NVDA_Close: Weight=0.062<br>BABA_Close: Weight=0.052<br>BA_Close: Weight=0.421<br>ABBV_Close: Weight=0.368<br>PYPL_Close: Weight=0.098",
          "Return: 59.492%<br>Volatility: 0.121<br>Sharpe Ratio: 4.914<br>XOM_Close: Weight=0.000<br>NVDA_Close: Weight=0.062<br>BABA_Close: Weight=0.052<br>BA_Close: Weight=0.421<br>ABBV_Close: Weight=0.368<br>PYPL_Close: Weight=0.098",
          "Return: 59.492%<br>Volatility: 0.121<br>Sharpe Ratio: 4.914<br>XOM_Close: Weight=0.000<br>NVDA_Close: Weight=0.062<br>BABA_Close: Weight=0.052<br>BA_Close: Weight=0.421<br>ABBV_Close: Weight=0.368<br>PYPL_Close: Weight=0.098",
          "Return: 59.492%<br>Volatility: 0.121<br>Sharpe Ratio: 4.914<br>XOM_Close: Weight=0.000<br>NVDA_Close: Weight=0.062<br>BABA_Close: Weight=0.052<br>BA_Close: Weight=0.421<br>ABBV_Close: Weight=0.368<br>PYPL_Close: Weight=0.098",
          "Return: 59.492%<br>Volatility: 0.121<br>Sharpe Ratio: 4.914<br>XOM_Close: Weight=0.000<br>NVDA_Close: Weight=0.062<br>BABA_Close: Weight=0.052<br>BA_Close: Weight=0.421<br>ABBV_Close: Weight=0.368<br>PYPL_Close: Weight=0.098",
          "Return: 59.492%<br>Volatility: 0.121<br>Sharpe Ratio: 4.914<br>XOM_Close: Weight=0.000<br>NVDA_Close: Weight=0.062<br>BABA_Close: Weight=0.052<br>BA_Close: Weight=0.421<br>ABBV_Close: Weight=0.368<br>PYPL_Close: Weight=0.098",
          "Return: 59.492%<br>Volatility: 0.121<br>Sharpe Ratio: 4.914<br>XOM_Close: Weight=0.000<br>NVDA_Close: Weight=0.062<br>BABA_Close: Weight=0.052<br>BA_Close: Weight=0.421<br>ABBV_Close: Weight=0.368<br>PYPL_Close: Weight=0.098",
          "Return: 59.492%<br>Volatility: 0.121<br>Sharpe Ratio: 4.914<br>XOM_Close: Weight=0.000<br>NVDA_Close: Weight=0.062<br>BABA_Close: Weight=0.052<br>BA_Close: Weight=0.421<br>ABBV_Close: Weight=0.368<br>PYPL_Close: Weight=0.098",
          "Return: 59.492%<br>Volatility: 0.121<br>Sharpe Ratio: 4.914<br>XOM_Close: Weight=0.000<br>NVDA_Close: Weight=0.062<br>BABA_Close: Weight=0.052<br>BA_Close: Weight=0.421<br>ABBV_Close: Weight=0.368<br>PYPL_Close: Weight=0.098",
          "Return: 59.492%<br>Volatility: 0.121<br>Sharpe Ratio: 4.914<br>XOM_Close: Weight=0.000<br>NVDA_Close: Weight=0.062<br>BABA_Close: Weight=0.052<br>BA_Close: Weight=0.421<br>ABBV_Close: Weight=0.368<br>PYPL_Close: Weight=0.098",
          "Return: 59.492%<br>Volatility: 0.121<br>Sharpe Ratio: 4.914<br>XOM_Close: Weight=0.000<br>NVDA_Close: Weight=0.062<br>BABA_Close: Weight=0.052<br>BA_Close: Weight=0.421<br>ABBV_Close: Weight=0.368<br>PYPL_Close: Weight=0.098",
          "Return: 59.492%<br>Volatility: 0.121<br>Sharpe Ratio: 4.914<br>XOM_Close: Weight=0.000<br>NVDA_Close: Weight=0.062<br>BABA_Close: Weight=0.052<br>BA_Close: Weight=0.421<br>ABBV_Close: Weight=0.368<br>PYPL_Close: Weight=0.098",
          "Return: 59.492%<br>Volatility: 0.121<br>Sharpe Ratio: 4.914<br>XOM_Close: Weight=0.000<br>NVDA_Close: Weight=0.062<br>BABA_Close: Weight=0.052<br>BA_Close: Weight=0.421<br>ABBV_Close: Weight=0.368<br>PYPL_Close: Weight=0.098",
          "Return: 59.492%<br>Volatility: 0.121<br>Sharpe Ratio: 4.914<br>XOM_Close: Weight=0.000<br>NVDA_Close: Weight=0.062<br>BABA_Close: Weight=0.052<br>BA_Close: Weight=0.421<br>ABBV_Close: Weight=0.368<br>PYPL_Close: Weight=0.098",
          "Return: 59.492%<br>Volatility: 0.121<br>Sharpe Ratio: 4.914<br>XOM_Close: Weight=0.000<br>NVDA_Close: Weight=0.062<br>BABA_Close: Weight=0.052<br>BA_Close: Weight=0.421<br>ABBV_Close: Weight=0.368<br>PYPL_Close: Weight=0.098",
          "Return: 59.492%<br>Volatility: 0.121<br>Sharpe Ratio: 4.914<br>XOM_Close: Weight=0.000<br>NVDA_Close: Weight=0.062<br>BABA_Close: Weight=0.052<br>BA_Close: Weight=0.421<br>ABBV_Close: Weight=0.368<br>PYPL_Close: Weight=0.098",
          "Return: 59.492%<br>Volatility: 0.121<br>Sharpe Ratio: 4.914<br>XOM_Close: Weight=0.000<br>NVDA_Close: Weight=0.062<br>BABA_Close: Weight=0.052<br>BA_Close: Weight=0.421<br>ABBV_Close: Weight=0.368<br>PYPL_Close: Weight=0.098",
          "Return: 59.492%<br>Volatility: 0.121<br>Sharpe Ratio: 4.914<br>XOM_Close: Weight=0.000<br>NVDA_Close: Weight=0.062<br>BABA_Close: Weight=0.052<br>BA_Close: Weight=0.421<br>ABBV_Close: Weight=0.368<br>PYPL_Close: Weight=0.098",
          "Return: 59.492%<br>Volatility: 0.121<br>Sharpe Ratio: 4.914<br>XOM_Close: Weight=0.000<br>NVDA_Close: Weight=0.062<br>BABA_Close: Weight=0.052<br>BA_Close: Weight=0.421<br>ABBV_Close: Weight=0.368<br>PYPL_Close: Weight=0.098",
          "Return: 59.492%<br>Volatility: 0.121<br>Sharpe Ratio: 4.914<br>XOM_Close: Weight=0.000<br>NVDA_Close: Weight=0.062<br>BABA_Close: Weight=0.052<br>BA_Close: Weight=0.421<br>ABBV_Close: Weight=0.368<br>PYPL_Close: Weight=0.098",
          "Return: 59.492%<br>Volatility: 0.121<br>Sharpe Ratio: 4.914<br>XOM_Close: Weight=0.000<br>NVDA_Close: Weight=0.062<br>BABA_Close: Weight=0.052<br>BA_Close: Weight=0.421<br>ABBV_Close: Weight=0.368<br>PYPL_Close: Weight=0.098",
          "Return: 59.492%<br>Volatility: 0.121<br>Sharpe Ratio: 4.914<br>XOM_Close: Weight=0.000<br>NVDA_Close: Weight=0.062<br>BABA_Close: Weight=0.052<br>BA_Close: Weight=0.421<br>ABBV_Close: Weight=0.368<br>PYPL_Close: Weight=0.098",
          "Return: 59.492%<br>Volatility: 0.121<br>Sharpe Ratio: 4.914<br>XOM_Close: Weight=0.000<br>NVDA_Close: Weight=0.062<br>BABA_Close: Weight=0.052<br>BA_Close: Weight=0.421<br>ABBV_Close: Weight=0.368<br>PYPL_Close: Weight=0.098",
          "Return: 59.492%<br>Volatility: 0.121<br>Sharpe Ratio: 4.914<br>XOM_Close: Weight=0.000<br>NVDA_Close: Weight=0.062<br>BABA_Close: Weight=0.052<br>BA_Close: Weight=0.421<br>ABBV_Close: Weight=0.368<br>PYPL_Close: Weight=0.098",
          "Return: 59.492%<br>Volatility: 0.121<br>Sharpe Ratio: 4.914<br>XOM_Close: Weight=0.000<br>NVDA_Close: Weight=0.062<br>BABA_Close: Weight=0.052<br>BA_Close: Weight=0.421<br>ABBV_Close: Weight=0.368<br>PYPL_Close: Weight=0.098",
          "Return: 59.492%<br>Volatility: 0.121<br>Sharpe Ratio: 4.914<br>XOM_Close: Weight=0.000<br>NVDA_Close: Weight=0.062<br>BABA_Close: Weight=0.052<br>BA_Close: Weight=0.421<br>ABBV_Close: Weight=0.368<br>PYPL_Close: Weight=0.098",
          "Return: 59.492%<br>Volatility: 0.121<br>Sharpe Ratio: 4.914<br>XOM_Close: Weight=0.000<br>NVDA_Close: Weight=0.062<br>BABA_Close: Weight=0.052<br>BA_Close: Weight=0.421<br>ABBV_Close: Weight=0.368<br>PYPL_Close: Weight=0.098",
          "Return: 59.492%<br>Volatility: 0.121<br>Sharpe Ratio: 4.914<br>XOM_Close: Weight=0.000<br>NVDA_Close: Weight=0.062<br>BABA_Close: Weight=0.052<br>BA_Close: Weight=0.421<br>ABBV_Close: Weight=0.368<br>PYPL_Close: Weight=0.098",
          "Return: 59.492%<br>Volatility: 0.121<br>Sharpe Ratio: 4.914<br>XOM_Close: Weight=0.000<br>NVDA_Close: Weight=0.062<br>BABA_Close: Weight=0.052<br>BA_Close: Weight=0.421<br>ABBV_Close: Weight=0.368<br>PYPL_Close: Weight=0.098",
          "Return: 59.492%<br>Volatility: 0.121<br>Sharpe Ratio: 4.914<br>XOM_Close: Weight=0.000<br>NVDA_Close: Weight=0.062<br>BABA_Close: Weight=0.052<br>BA_Close: Weight=0.421<br>ABBV_Close: Weight=0.368<br>PYPL_Close: Weight=0.098",
          "Return: 59.492%<br>Volatility: 0.121<br>Sharpe Ratio: 4.914<br>XOM_Close: Weight=0.000<br>NVDA_Close: Weight=0.062<br>BABA_Close: Weight=0.052<br>BA_Close: Weight=0.421<br>ABBV_Close: Weight=0.368<br>PYPL_Close: Weight=0.098",
          "Return: 59.492%<br>Volatility: 0.121<br>Sharpe Ratio: 4.914<br>XOM_Close: Weight=0.000<br>NVDA_Close: Weight=0.062<br>BABA_Close: Weight=0.052<br>BA_Close: Weight=0.421<br>ABBV_Close: Weight=0.368<br>PYPL_Close: Weight=0.098",
          "Return: 59.492%<br>Volatility: 0.121<br>Sharpe Ratio: 4.914<br>XOM_Close: Weight=0.000<br>NVDA_Close: Weight=0.062<br>BABA_Close: Weight=0.052<br>BA_Close: Weight=0.421<br>ABBV_Close: Weight=0.368<br>PYPL_Close: Weight=0.098",
          "Return: 59.492%<br>Volatility: 0.121<br>Sharpe Ratio: 4.914<br>XOM_Close: Weight=0.000<br>NVDA_Close: Weight=0.062<br>BABA_Close: Weight=0.052<br>BA_Close: Weight=0.421<br>ABBV_Close: Weight=0.368<br>PYPL_Close: Weight=0.098",
          "Return: 59.492%<br>Volatility: 0.121<br>Sharpe Ratio: 4.914<br>XOM_Close: Weight=0.000<br>NVDA_Close: Weight=0.062<br>BABA_Close: Weight=0.052<br>BA_Close: Weight=0.421<br>ABBV_Close: Weight=0.368<br>PYPL_Close: Weight=0.098",
          "Return: 59.492%<br>Volatility: 0.121<br>Sharpe Ratio: 4.914<br>XOM_Close: Weight=0.000<br>NVDA_Close: Weight=0.062<br>BABA_Close: Weight=0.052<br>BA_Close: Weight=0.421<br>ABBV_Close: Weight=0.368<br>PYPL_Close: Weight=0.098",
          "Return: 59.492%<br>Volatility: 0.121<br>Sharpe Ratio: 4.914<br>XOM_Close: Weight=0.000<br>NVDA_Close: Weight=0.062<br>BABA_Close: Weight=0.052<br>BA_Close: Weight=0.421<br>ABBV_Close: Weight=0.368<br>PYPL_Close: Weight=0.098",
          "Return: 59.492%<br>Volatility: 0.121<br>Sharpe Ratio: 4.914<br>XOM_Close: Weight=0.000<br>NVDA_Close: Weight=0.062<br>BABA_Close: Weight=0.052<br>BA_Close: Weight=0.421<br>ABBV_Close: Weight=0.368<br>PYPL_Close: Weight=0.098",
          "Return: 59.492%<br>Volatility: 0.121<br>Sharpe Ratio: 4.914<br>XOM_Close: Weight=0.000<br>NVDA_Close: Weight=0.062<br>BABA_Close: Weight=0.052<br>BA_Close: Weight=0.421<br>ABBV_Close: Weight=0.368<br>PYPL_Close: Weight=0.098",
          "Return: 59.492%<br>Volatility: 0.121<br>Sharpe Ratio: 4.914<br>XOM_Close: Weight=0.000<br>NVDA_Close: Weight=0.062<br>BABA_Close: Weight=0.052<br>BA_Close: Weight=0.421<br>ABBV_Close: Weight=0.368<br>PYPL_Close: Weight=0.098",
          "Return: 59.492%<br>Volatility: 0.121<br>Sharpe Ratio: 4.914<br>XOM_Close: Weight=0.000<br>NVDA_Close: Weight=0.062<br>BABA_Close: Weight=0.052<br>BA_Close: Weight=0.421<br>ABBV_Close: Weight=0.368<br>PYPL_Close: Weight=0.098",
          "Return: 59.492%<br>Volatility: 0.121<br>Sharpe Ratio: 4.914<br>XOM_Close: Weight=0.000<br>NVDA_Close: Weight=0.062<br>BABA_Close: Weight=0.052<br>BA_Close: Weight=0.421<br>ABBV_Close: Weight=0.368<br>PYPL_Close: Weight=0.098",
          "Return: 59.492%<br>Volatility: 0.121<br>Sharpe Ratio: 4.914<br>XOM_Close: Weight=0.000<br>NVDA_Close: Weight=0.062<br>BABA_Close: Weight=0.052<br>BA_Close: Weight=0.421<br>ABBV_Close: Weight=0.368<br>PYPL_Close: Weight=0.098",
          "Return: 59.492%<br>Volatility: 0.121<br>Sharpe Ratio: 4.914<br>XOM_Close: Weight=0.000<br>NVDA_Close: Weight=0.062<br>BABA_Close: Weight=0.052<br>BA_Close: Weight=0.421<br>ABBV_Close: Weight=0.368<br>PYPL_Close: Weight=0.098",
          "Return: 59.492%<br>Volatility: 0.121<br>Sharpe Ratio: 4.914<br>XOM_Close: Weight=0.000<br>NVDA_Close: Weight=0.062<br>BABA_Close: Weight=0.052<br>BA_Close: Weight=0.421<br>ABBV_Close: Weight=0.368<br>PYPL_Close: Weight=0.098",
          "Return: 59.492%<br>Volatility: 0.121<br>Sharpe Ratio: 4.914<br>XOM_Close: Weight=0.000<br>NVDA_Close: Weight=0.062<br>BABA_Close: Weight=0.052<br>BA_Close: Weight=0.421<br>ABBV_Close: Weight=0.368<br>PYPL_Close: Weight=0.098",
          "Return: 59.492%<br>Volatility: 0.121<br>Sharpe Ratio: 4.914<br>XOM_Close: Weight=0.000<br>NVDA_Close: Weight=0.062<br>BABA_Close: Weight=0.052<br>BA_Close: Weight=0.421<br>ABBV_Close: Weight=0.368<br>PYPL_Close: Weight=0.098",
          "Return: 59.492%<br>Volatility: 0.121<br>Sharpe Ratio: 4.914<br>XOM_Close: Weight=0.000<br>NVDA_Close: Weight=0.062<br>BABA_Close: Weight=0.052<br>BA_Close: Weight=0.421<br>ABBV_Close: Weight=0.368<br>PYPL_Close: Weight=0.098",
          "Return: 59.492%<br>Volatility: 0.121<br>Sharpe Ratio: 4.914<br>XOM_Close: Weight=0.000<br>NVDA_Close: Weight=0.062<br>BABA_Close: Weight=0.052<br>BA_Close: Weight=0.421<br>ABBV_Close: Weight=0.368<br>PYPL_Close: Weight=0.098",
          "Return: 59.492%<br>Volatility: 0.121<br>Sharpe Ratio: 4.914<br>XOM_Close: Weight=0.000<br>NVDA_Close: Weight=0.062<br>BABA_Close: Weight=0.052<br>BA_Close: Weight=0.421<br>ABBV_Close: Weight=0.368<br>PYPL_Close: Weight=0.098",
          "Return: 59.492%<br>Volatility: 0.121<br>Sharpe Ratio: 4.914<br>XOM_Close: Weight=0.000<br>NVDA_Close: Weight=0.062<br>BABA_Close: Weight=0.052<br>BA_Close: Weight=0.421<br>ABBV_Close: Weight=0.368<br>PYPL_Close: Weight=0.098",
          "Return: 59.492%<br>Volatility: 0.121<br>Sharpe Ratio: 4.914<br>XOM_Close: Weight=0.000<br>NVDA_Close: Weight=0.062<br>BABA_Close: Weight=0.052<br>BA_Close: Weight=0.421<br>ABBV_Close: Weight=0.368<br>PYPL_Close: Weight=0.098",
          "Return: 59.492%<br>Volatility: 0.121<br>Sharpe Ratio: 4.914<br>XOM_Close: Weight=0.000<br>NVDA_Close: Weight=0.062<br>BABA_Close: Weight=0.052<br>BA_Close: Weight=0.421<br>ABBV_Close: Weight=0.368<br>PYPL_Close: Weight=0.098",
          "Return: 59.492%<br>Volatility: 0.121<br>Sharpe Ratio: 4.914<br>XOM_Close: Weight=0.000<br>NVDA_Close: Weight=0.062<br>BABA_Close: Weight=0.052<br>BA_Close: Weight=0.421<br>ABBV_Close: Weight=0.368<br>PYPL_Close: Weight=0.098",
          "Return: 59.492%<br>Volatility: 0.121<br>Sharpe Ratio: 4.914<br>XOM_Close: Weight=0.000<br>NVDA_Close: Weight=0.062<br>BABA_Close: Weight=0.052<br>BA_Close: Weight=0.421<br>ABBV_Close: Weight=0.368<br>PYPL_Close: Weight=0.098",
          "Return: 59.492%<br>Volatility: 0.121<br>Sharpe Ratio: 4.914<br>XOM_Close: Weight=0.000<br>NVDA_Close: Weight=0.062<br>BABA_Close: Weight=0.052<br>BA_Close: Weight=0.421<br>ABBV_Close: Weight=0.368<br>PYPL_Close: Weight=0.098",
          "Return: 59.492%<br>Volatility: 0.121<br>Sharpe Ratio: 4.914<br>XOM_Close: Weight=0.000<br>NVDA_Close: Weight=0.062<br>BABA_Close: Weight=0.052<br>BA_Close: Weight=0.421<br>ABBV_Close: Weight=0.368<br>PYPL_Close: Weight=0.098",
          "Return: 59.492%<br>Volatility: 0.121<br>Sharpe Ratio: 4.914<br>XOM_Close: Weight=0.000<br>NVDA_Close: Weight=0.062<br>BABA_Close: Weight=0.052<br>BA_Close: Weight=0.421<br>ABBV_Close: Weight=0.368<br>PYPL_Close: Weight=0.098",
          "Return: 59.492%<br>Volatility: 0.121<br>Sharpe Ratio: 4.914<br>XOM_Close: Weight=0.000<br>NVDA_Close: Weight=0.062<br>BABA_Close: Weight=0.052<br>BA_Close: Weight=0.421<br>ABBV_Close: Weight=0.368<br>PYPL_Close: Weight=0.098",
          "Return: 59.492%<br>Volatility: 0.121<br>Sharpe Ratio: 4.914<br>XOM_Close: Weight=0.000<br>NVDA_Close: Weight=0.062<br>BABA_Close: Weight=0.052<br>BA_Close: Weight=0.421<br>ABBV_Close: Weight=0.368<br>PYPL_Close: Weight=0.098",
          "Return: 59.492%<br>Volatility: 0.121<br>Sharpe Ratio: 4.914<br>XOM_Close: Weight=0.000<br>NVDA_Close: Weight=0.062<br>BABA_Close: Weight=0.052<br>BA_Close: Weight=0.421<br>ABBV_Close: Weight=0.368<br>PYPL_Close: Weight=0.098",
          "Return: 59.492%<br>Volatility: 0.121<br>Sharpe Ratio: 4.914<br>XOM_Close: Weight=0.000<br>NVDA_Close: Weight=0.062<br>BABA_Close: Weight=0.052<br>BA_Close: Weight=0.421<br>ABBV_Close: Weight=0.368<br>PYPL_Close: Weight=0.098",
          "Return: 59.492%<br>Volatility: 0.121<br>Sharpe Ratio: 4.914<br>XOM_Close: Weight=0.000<br>NVDA_Close: Weight=0.062<br>BABA_Close: Weight=0.052<br>BA_Close: Weight=0.421<br>ABBV_Close: Weight=0.368<br>PYPL_Close: Weight=0.098",
          "Return: 59.492%<br>Volatility: 0.121<br>Sharpe Ratio: 4.914<br>XOM_Close: Weight=0.000<br>NVDA_Close: Weight=0.062<br>BABA_Close: Weight=0.052<br>BA_Close: Weight=0.421<br>ABBV_Close: Weight=0.368<br>PYPL_Close: Weight=0.098",
          "Return: 59.492%<br>Volatility: 0.121<br>Sharpe Ratio: 4.914<br>XOM_Close: Weight=0.000<br>NVDA_Close: Weight=0.062<br>BABA_Close: Weight=0.052<br>BA_Close: Weight=0.421<br>ABBV_Close: Weight=0.368<br>PYPL_Close: Weight=0.098",
          "Return: 59.492%<br>Volatility: 0.121<br>Sharpe Ratio: 4.914<br>XOM_Close: Weight=0.000<br>NVDA_Close: Weight=0.062<br>BABA_Close: Weight=0.052<br>BA_Close: Weight=0.421<br>ABBV_Close: Weight=0.368<br>PYPL_Close: Weight=0.098",
          "Return: 59.492%<br>Volatility: 0.121<br>Sharpe Ratio: 4.914<br>XOM_Close: Weight=0.000<br>NVDA_Close: Weight=0.062<br>BABA_Close: Weight=0.052<br>BA_Close: Weight=0.421<br>ABBV_Close: Weight=0.368<br>PYPL_Close: Weight=0.098",
          "Return: 59.492%<br>Volatility: 0.121<br>Sharpe Ratio: 4.914<br>XOM_Close: Weight=0.000<br>NVDA_Close: Weight=0.062<br>BABA_Close: Weight=0.052<br>BA_Close: Weight=0.421<br>ABBV_Close: Weight=0.368<br>PYPL_Close: Weight=0.098",
          "Return: 59.492%<br>Volatility: 0.121<br>Sharpe Ratio: 4.914<br>XOM_Close: Weight=0.000<br>NVDA_Close: Weight=0.062<br>BABA_Close: Weight=0.052<br>BA_Close: Weight=0.421<br>ABBV_Close: Weight=0.368<br>PYPL_Close: Weight=0.098",
          "Return: 59.492%<br>Volatility: 0.121<br>Sharpe Ratio: 4.914<br>XOM_Close: Weight=0.000<br>NVDA_Close: Weight=0.062<br>BABA_Close: Weight=0.052<br>BA_Close: Weight=0.421<br>ABBV_Close: Weight=0.368<br>PYPL_Close: Weight=0.098",
          "Return: 59.492%<br>Volatility: 0.121<br>Sharpe Ratio: 4.914<br>XOM_Close: Weight=0.000<br>NVDA_Close: Weight=0.062<br>BABA_Close: Weight=0.052<br>BA_Close: Weight=0.421<br>ABBV_Close: Weight=0.368<br>PYPL_Close: Weight=0.098",
          "Return: 59.492%<br>Volatility: 0.121<br>Sharpe Ratio: 4.914<br>XOM_Close: Weight=0.000<br>NVDA_Close: Weight=0.062<br>BABA_Close: Weight=0.052<br>BA_Close: Weight=0.421<br>ABBV_Close: Weight=0.368<br>PYPL_Close: Weight=0.098",
          "Return: 59.492%<br>Volatility: 0.121<br>Sharpe Ratio: 4.914<br>XOM_Close: Weight=0.000<br>NVDA_Close: Weight=0.062<br>BABA_Close: Weight=0.052<br>BA_Close: Weight=0.421<br>ABBV_Close: Weight=0.368<br>PYPL_Close: Weight=0.098",
          "Return: 59.492%<br>Volatility: 0.121<br>Sharpe Ratio: 4.914<br>XOM_Close: Weight=0.000<br>NVDA_Close: Weight=0.062<br>BABA_Close: Weight=0.052<br>BA_Close: Weight=0.421<br>ABBV_Close: Weight=0.368<br>PYPL_Close: Weight=0.098",
          "Return: 59.492%<br>Volatility: 0.121<br>Sharpe Ratio: 4.914<br>XOM_Close: Weight=0.000<br>NVDA_Close: Weight=0.062<br>BABA_Close: Weight=0.052<br>BA_Close: Weight=0.421<br>ABBV_Close: Weight=0.368<br>PYPL_Close: Weight=0.098",
          "Return: 59.492%<br>Volatility: 0.121<br>Sharpe Ratio: 4.914<br>XOM_Close: Weight=0.000<br>NVDA_Close: Weight=0.062<br>BABA_Close: Weight=0.052<br>BA_Close: Weight=0.421<br>ABBV_Close: Weight=0.368<br>PYPL_Close: Weight=0.098",
          "Return: 59.492%<br>Volatility: 0.121<br>Sharpe Ratio: 4.914<br>XOM_Close: Weight=0.000<br>NVDA_Close: Weight=0.062<br>BABA_Close: Weight=0.052<br>BA_Close: Weight=0.421<br>ABBV_Close: Weight=0.368<br>PYPL_Close: Weight=0.098",
          "Return: 59.492%<br>Volatility: 0.121<br>Sharpe Ratio: 4.914<br>XOM_Close: Weight=0.000<br>NVDA_Close: Weight=0.062<br>BABA_Close: Weight=0.052<br>BA_Close: Weight=0.421<br>ABBV_Close: Weight=0.368<br>PYPL_Close: Weight=0.098",
          "Return: 59.492%<br>Volatility: 0.121<br>Sharpe Ratio: 4.914<br>XOM_Close: Weight=0.000<br>NVDA_Close: Weight=0.062<br>BABA_Close: Weight=0.052<br>BA_Close: Weight=0.421<br>ABBV_Close: Weight=0.368<br>PYPL_Close: Weight=0.098",
          "Return: 59.492%<br>Volatility: 0.121<br>Sharpe Ratio: 4.914<br>XOM_Close: Weight=0.000<br>NVDA_Close: Weight=0.062<br>BABA_Close: Weight=0.052<br>BA_Close: Weight=0.421<br>ABBV_Close: Weight=0.368<br>PYPL_Close: Weight=0.098",
          "Return: 59.492%<br>Volatility: 0.121<br>Sharpe Ratio: 4.914<br>XOM_Close: Weight=0.000<br>NVDA_Close: Weight=0.062<br>BABA_Close: Weight=0.052<br>BA_Close: Weight=0.421<br>ABBV_Close: Weight=0.368<br>PYPL_Close: Weight=0.098"
         ],
         "type": "scatter",
         "x": [
          0.10912077819576878,
          0.11810215655942355,
          0.12341162882083766,
          0.12530782582131084,
          0.12341162505888163,
          0.13151345389728364,
          0.12595536398388582,
          0.13157813970811907,
          0.13155452232766596,
          0.12302681718339105,
          0.12168313942581788,
          0.13151332803858193,
          0.12164324926290472,
          0.11835816193574795,
          0.11835816193574795,
          0.1216238873754503,
          0.11637044815097106,
          0.11835816193574795,
          0.1216238873754503,
          0.11637044815097106,
          0.11643291725040544,
          0.11679074508883419,
          0.11782135994511042,
          0.11835816193574795,
          0.1216238873754503,
          0.11637044815097106,
          0.11643291725040544,
          0.11679074508883419,
          0.11782135994511042,
          0.12162438187506507,
          0.11740493373056539,
          0.11683744605016468,
          0.11740493376930278,
          0.11683744605016468,
          0.11740493376930278,
          0.11199003142255753,
          0.12100671466166565,
          0.12100051174668483,
          0.11380392590194761,
          0.12100432090323454,
          0.11533895724516735,
          0.10853726985897573,
          0.1210024936710541,
          0.12099781494854228,
          0.12099818850085124,
          0.11864851973041306,
          0.11709891767668751,
          0.11618008239640383,
          0.12100238095158827,
          0.10837760089972444,
          0.12100981796565717,
          0.11859294164073084,
          0.11678639450178067,
          0.1168026161688926,
          0.12100608747358806,
          0.11041698238290068,
          0.1128621177656491,
          0.11320192289036043,
          0.11041698194658148,
          0.11517929063827712,
          0.10820489849077944,
          0.10741986156820582,
          0.10767370086449596,
          0.11516034297574755,
          0.11519656602557551,
          0.11331844650678115,
          0.11518834691143041,
          0.10719306710722516,
          0.10863644955242634,
          0.1151607176404985,
          0.11516072172597726,
          0.1123418325535351,
          0.11048925505580968,
          0.11515907107202594,
          0.1151382380604759,
          0.10815424458769261,
          0.1150170281043989,
          0.11514829404787784,
          0.11425749427194275,
          0.11514294345576798,
          0.1073544645093588,
          0.12106068182464161,
          0.12044000901984918,
          0.120087809066343,
          0.12200702608850111,
          0.11193351798100763,
          0.12106068182464161,
          0.12044000901984918,
          0.120087809066343,
          0.12200702608850111,
          0.11193351798100763,
          0.11892203870411126,
          0.11679845435909215,
          0.12200478309615435,
          0.12200454144702665,
          0.12148611813127168,
          0.11962581018194948,
          0.12200654010312874,
          0.11634947050873776,
          0.1220071369779851,
          0.11878598419323448,
          0.12200715185279742,
          0.12174884050495698,
          0.1139110568003035,
          0.12162275830510554,
          0.11173345722692264,
          0.12200847899090907,
          0.12097348518611212,
          0.12200752284906317,
          0.12200732282086743,
          0.11418465468536212,
          0.12201112319227278,
          0.12200727405511684,
          0.112310949729505,
          0.1187895365290589,
          0.1168227900533868,
          0.10735446445732004,
          0.1220070685230983,
          0.12200800125192757,
          0.1103465322943352,
          0.10221382914140162,
          0.11996363125564811,
          0.12200673498739258,
          0.12200791491650255,
          0.12200801732512287,
          0.12200707735626837,
          0.1220077613343702,
          0.12200805461294767,
          0.12200619832483665,
          0.10564575314193383,
          0.12201035131541602,
          0.12200858649911625,
          0.11296863030077237,
          0.12200852391492928,
          0.1220100937204431,
          0.12200916016139911,
          0.12201099279669171,
          0.10054254917959554,
          0.12200645230262847,
          0.10449838876424246,
          0.12200776606577159,
          0.12200432287732992,
          0.12200779458198607,
          0.11070758221890194,
          0.1220078070014805,
          0.12200505767551502,
          0.12201111057934134,
          0.12200801464933236,
          0.12200944418920186,
          0.12200958079252497,
          0.09705334357972453,
          0.12069601830244067,
          0.09576708494188234,
          0.11311591541977663,
          0.12200656048121362,
          0.1001937047025667,
          0.12200718221683186,
          0.10424850836915295,
          0.12200789836623797,
          0.10859821819361812,
          0.1220058290094832,
          0.12200683661496312,
          0.11669720473672167,
          0.11467512453541748,
          0.11525416727263316,
          0.12201247802019692,
          0.11587078223589692,
          0.12200719294766071,
          0.12200885655219056,
          0.12200690929766667,
          0.12200676410281218,
          0.12200861738237948,
          0.1220069759986283,
          0.12200716001595698,
          0.12200744115036936,
          0.12106068182464161,
          0.12106068182464161,
          0.12106068182464161,
          0.12106068182464161,
          0.12106068182464161,
          0.12106068182464161,
          0.12106068182464161,
          0.12106068182464161,
          0.12106068182464161,
          0.12106068182464161,
          0.12106068182464161,
          0.12106068182464161,
          0.12106068182464161,
          0.12106068182464161,
          0.12106068182464161,
          0.12106068182464161,
          0.12106068182464161,
          0.12106068182464161,
          0.12106068182464161,
          0.12106068182464161,
          0.12106068182464161,
          0.12106068182464161,
          0.12106068182464161,
          0.12106068182464161,
          0.12106068182464161,
          0.12106068182464161,
          0.12106068182464161,
          0.12106068182464161,
          0.12106068182464161,
          0.12106068182464161,
          0.12106068182464161,
          0.12106068182464161,
          0.12106068182464161,
          0.12106068182464161,
          0.12106068182464161,
          0.12106068182464161,
          0.12106068182464161,
          0.12106068182464161,
          0.12106068182464161,
          0.12106068182464161,
          0.12106068182464161,
          0.12106068182464161,
          0.12106068182464161,
          0.12106068182464161,
          0.12106068182464161,
          0.12106068182464161,
          0.12106068182464161,
          0.12106068182464161,
          0.12106068182464161,
          0.12106068182464161,
          0.12106068182464161,
          0.12106068182464161,
          0.12106068182464161,
          0.12106068182464161,
          0.12106068182464161,
          0.12106068182464161,
          0.12106068182464161,
          0.12106068182464161,
          0.12106068182464161,
          0.12106068182464161,
          0.12106068182464161,
          0.12106068182464161,
          0.12106068182464161,
          0.12106068182464161,
          0.12106068182464161,
          0.12106068182464161,
          0.12106068182464161,
          0.12106068182464161,
          0.12106068182464161,
          0.12106068182464161,
          0.12106068182464161,
          0.12106068182464161,
          0.12106068182464161,
          0.12106068182464161,
          0.12106068182464161,
          0.12106068182464161,
          0.12106068182464161,
          0.12106068182464161,
          0.12106068182464161,
          0.12106068182464161,
          0.12106068182464161,
          0.12106068182464161,
          0.12106068182464161,
          0.12106068182464161,
          0.12106068182464161,
          0.12106068182464161,
          0.12106068182464161,
          0.12106068182464161,
          0.12106068182464161,
          0.12106068182464161,
          0.12106068182464161,
          0.12106068182464161,
          0.12106068182464161,
          0.12106068182464161,
          0.12106068182464161,
          0.12106068182464161,
          0.12106068182464161,
          0.12106068182464161,
          0.12106068182464161,
          0.12106068182464161,
          0.12106068182464161,
          0.12106068182464161,
          0.12106068182464161,
          0.12106068182464161,
          0.12106068182464161,
          0.12106068182464161,
          0.12106068182464161,
          0.12106068182464161,
          0.12106068182464161,
          0.12106068182464161,
          0.12106068182464161,
          0.12106068182464161,
          0.12106068182464161,
          0.12106068182464161,
          0.12106068182464161,
          0.12106068182464161,
          0.12106068182464161,
          0.12106068182464161,
          0.12106068182464161,
          0.12106068182464161,
          0.12106068182464161,
          0.12106068182464161,
          0.12106068182464161,
          0.12106068182464161,
          0.12106068182464161,
          0.12106068182464161
         ],
         "y": [
          0.35122435460237056,
          0.3895084612465735,
          0.4595888192956461,
          0.4631681728782763,
          0.45958880528462387,
          0.4836587451278752,
          0.4686062336467667,
          0.48389663773268116,
          0.48380979931956436,
          0.4577637966538475,
          0.45059002010293,
          0.4836582873220257,
          0.46944089022631685,
          0.45769590927621345,
          0.45769590927621345,
          0.46936616724998725,
          0.452600288616744,
          0.45769590927621345,
          0.46936616724998725,
          0.452600288616744,
          0.45053868003436287,
          0.45334349322792783,
          0.4584194508835338,
          0.45769590927621345,
          0.46936616724998725,
          0.452600288616744,
          0.45053868003436287,
          0.45334349322792783,
          0.4584194508835338,
          0.4693680748575226,
          0.5351521864303264,
          0.5038911005818215,
          0.5351521866073157,
          0.5038911005818215,
          0.5351521866073157,
          0.4906818924147752,
          0.5202798769465451,
          0.5202532288112808,
          0.49621075886525207,
          0.5202695970313049,
          0.5059284233231933,
          0.476183025584847,
          0.5202617477851114,
          0.5202416335224571,
          0.5202432315374076,
          0.5121258597070755,
          0.5058189349416535,
          0.514956506823145,
          0.5202612354165955,
          0.471795930701573,
          0.5202932241585648,
          0.510339969461736,
          0.5103355522434893,
          0.5036858484757303,
          0.52027719010291,
          0.5429060683292125,
          0.5026662231841815,
          0.5209998579587154,
          0.5429060661836003,
          0.5120415052730349,
          0.4881491639983607,
          0.4819029121813513,
          0.487186607580092,
          0.5119572801146333,
          0.5121182677898238,
          0.505661234324208,
          0.5120817556944125,
          0.4800162262612209,
          0.4961813576358945,
          0.5119589461103735,
          0.5119589640623108,
          0.5025336533863529,
          0.49718377957726145,
          0.5119515937963817,
          0.5118589842439585,
          0.5050641022184494,
          0.5114004720453,
          0.5119037114136635,
          0.5125676226905267,
          0.5118798882853177,
          0.5404412744449143,
          0.5949238815891544,
          0.5844360332510322,
          0.5828906950057579,
          0.5917958819554052,
          0.5988903272793998,
          0.5949238815891544,
          0.5844360332510322,
          0.5828906950057579,
          0.5917958819554052,
          0.5988903272793998,
          0.5773825010948447,
          0.5695363597088317,
          0.5917849756034386,
          0.5917838008972639,
          0.5893525373443371,
          0.582797608785025,
          0.5917935188855232,
          0.5653613621082059,
          0.5917964173394905,
          0.57754825389352,
          0.5917964929075905,
          0.5924283536287402,
          0.5692589708474597,
          0.5899418671917279,
          0.564076797188799,
          0.591802929758799,
          0.5868569270514662,
          0.591798293131878,
          0.5917973210360016,
          0.5575021507998958,
          0.5918157350610361,
          0.5917970835311722,
          0.548292236879511,
          0.5768461161759885,
          0.5685660089941882,
          0.5404412741829543,
          0.5917960893336093,
          0.5918006135527025,
          0.5434142216053638,
          0.5310153889024012,
          0.5821654175024957,
          0.5917944681869395,
          0.5918001935854991,
          0.59180069025091,
          0.5917961304379409,
          0.5917994500477415,
          0.5918008723951178,
          0.5917918444467407,
          0.5236807424107691,
          0.591812002750973,
          0.5918034513037328,
          0.5504068637426898,
          0.5918031445710389,
          0.591810754164753,
          0.5918062317609969,
          0.5918151082155095,
          0.5214319022267125,
          0.5917930993821623,
          0.553082793475169,
          0.5917994723329324,
          0.5917827592932126,
          0.5917996111090335,
          0.5453645642432513,
          0.5917996685604268,
          0.5917863160320592,
          0.5918156766560132,
          0.5918006769131372,
          0.5918076088116273,
          0.5918082676077148,
          0.4947561493131387,
          0.5855300983405448,
          0.47626552073292133,
          0.5514162762907563,
          0.5917936111794778,
          0.4956719610326249,
          0.5917966378084792,
          0.5136668736366935,
          0.5918001146550229,
          0.5375375507866226,
          0.5917900571721872,
          0.5917949585617372,
          0.5680082214094658,
          0.5570079273219183,
          0.5620646450984095,
          0.5918222986705127,
          0.565240075418914,
          0.5917966930391569,
          0.5918047467808223,
          0.5917953130266831,
          0.5917946073387976,
          0.5918036009136327,
          0.5917956404865735,
          0.5917965332064042,
          0.5917978959216738,
          0.5949238815891544,
          0.5949238815891544,
          0.5949238815891544,
          0.5949238815891544,
          0.5949238815891544,
          0.5949238815891544,
          0.5949238815891544,
          0.5949238815891544,
          0.5949238815891544,
          0.5949238815891544,
          0.5949238815891544,
          0.5949238815891544,
          0.5949238815891544,
          0.5949238815891544,
          0.5949238815891544,
          0.5949238815891544,
          0.5949238815891544,
          0.5949238815891544,
          0.5949238815891544,
          0.5949238815891544,
          0.5949238815891544,
          0.5949238815891544,
          0.5949238815891544,
          0.5949238815891544,
          0.5949238815891544,
          0.5949238815891544,
          0.5949238815891544,
          0.5949238815891544,
          0.5949238815891544,
          0.5949238815891544,
          0.5949238815891544,
          0.5949238815891544,
          0.5949238815891544,
          0.5949238815891544,
          0.5949238815891544,
          0.5949238815891544,
          0.5949238815891544,
          0.5949238815891544,
          0.5949238815891544,
          0.5949238815891544,
          0.5949238815891544,
          0.5949238815891544,
          0.5949238815891544,
          0.5949238815891544,
          0.5949238815891544,
          0.5949238815891544,
          0.5949238815891544,
          0.5949238815891544,
          0.5949238815891544,
          0.5949238815891544,
          0.5949238815891544,
          0.5949238815891544,
          0.5949238815891544,
          0.5949238815891544,
          0.5949238815891544,
          0.5949238815891544,
          0.5949238815891544,
          0.5949238815891544,
          0.5949238815891544,
          0.5949238815891544,
          0.5949238815891544,
          0.5949238815891544,
          0.5949238815891544,
          0.5949238815891544,
          0.5949238815891544,
          0.5949238815891544,
          0.5949238815891544,
          0.5949238815891544,
          0.5949238815891544,
          0.5949238815891544,
          0.5949238815891544,
          0.5949238815891544,
          0.5949238815891544,
          0.5949238815891544,
          0.5949238815891544,
          0.5949238815891544,
          0.5949238815891544,
          0.5949238815891544,
          0.5949238815891544,
          0.5949238815891544,
          0.5949238815891544,
          0.5949238815891544,
          0.5949238815891544,
          0.5949238815891544,
          0.5949238815891544,
          0.5949238815891544,
          0.5949238815891544,
          0.5949238815891544,
          0.5949238815891544,
          0.5949238815891544,
          0.5949238815891544,
          0.5949238815891544,
          0.5949238815891544,
          0.5949238815891544,
          0.5949238815891544,
          0.5949238815891544,
          0.5949238815891544,
          0.5949238815891544,
          0.5949238815891544,
          0.5949238815891544,
          0.5949238815891544,
          0.5949238815891544,
          0.5949238815891544,
          0.5949238815891544,
          0.5949238815891544,
          0.5949238815891544,
          0.5949238815891544,
          0.5949238815891544,
          0.5949238815891544,
          0.5949238815891544,
          0.5949238815891544,
          0.5949238815891544,
          0.5949238815891544,
          0.5949238815891544,
          0.5949238815891544,
          0.5949238815891544,
          0.5949238815891544,
          0.5949238815891544,
          0.5949238815891544,
          0.5949238815891544,
          0.5949238815891544,
          0.5949238815891544,
          0.5949238815891544,
          0.5949238815891544,
          0.5949238815891544,
          0.5949238815891544
         ]
        }
       ],
       "layout": {
        "legend": {
         "y": 5
        },
        "template": {
         "data": {
          "bar": [
           {
            "error_x": {
             "color": "#2a3f5f"
            },
            "error_y": {
             "color": "#2a3f5f"
            },
            "marker": {
             "line": {
              "color": "#E5ECF6",
              "width": 0.5
             },
             "pattern": {
              "fillmode": "overlay",
              "size": 10,
              "solidity": 0.2
             }
            },
            "type": "bar"
           }
          ],
          "barpolar": [
           {
            "marker": {
             "line": {
              "color": "#E5ECF6",
              "width": 0.5
             },
             "pattern": {
              "fillmode": "overlay",
              "size": 10,
              "solidity": 0.2
             }
            },
            "type": "barpolar"
           }
          ],
          "carpet": [
           {
            "aaxis": {
             "endlinecolor": "#2a3f5f",
             "gridcolor": "white",
             "linecolor": "white",
             "minorgridcolor": "white",
             "startlinecolor": "#2a3f5f"
            },
            "baxis": {
             "endlinecolor": "#2a3f5f",
             "gridcolor": "white",
             "linecolor": "white",
             "minorgridcolor": "white",
             "startlinecolor": "#2a3f5f"
            },
            "type": "carpet"
           }
          ],
          "choropleth": [
           {
            "colorbar": {
             "outlinewidth": 0,
             "ticks": ""
            },
            "type": "choropleth"
           }
          ],
          "contour": [
           {
            "colorbar": {
             "outlinewidth": 0,
             "ticks": ""
            },
            "colorscale": [
             [
              0,
              "#0d0887"
             ],
             [
              0.1111111111111111,
              "#46039f"
             ],
             [
              0.2222222222222222,
              "#7201a8"
             ],
             [
              0.3333333333333333,
              "#9c179e"
             ],
             [
              0.4444444444444444,
              "#bd3786"
             ],
             [
              0.5555555555555556,
              "#d8576b"
             ],
             [
              0.6666666666666666,
              "#ed7953"
             ],
             [
              0.7777777777777778,
              "#fb9f3a"
             ],
             [
              0.8888888888888888,
              "#fdca26"
             ],
             [
              1,
              "#f0f921"
             ]
            ],
            "type": "contour"
           }
          ],
          "contourcarpet": [
           {
            "colorbar": {
             "outlinewidth": 0,
             "ticks": ""
            },
            "type": "contourcarpet"
           }
          ],
          "heatmap": [
           {
            "colorbar": {
             "outlinewidth": 0,
             "ticks": ""
            },
            "colorscale": [
             [
              0,
              "#0d0887"
             ],
             [
              0.1111111111111111,
              "#46039f"
             ],
             [
              0.2222222222222222,
              "#7201a8"
             ],
             [
              0.3333333333333333,
              "#9c179e"
             ],
             [
              0.4444444444444444,
              "#bd3786"
             ],
             [
              0.5555555555555556,
              "#d8576b"
             ],
             [
              0.6666666666666666,
              "#ed7953"
             ],
             [
              0.7777777777777778,
              "#fb9f3a"
             ],
             [
              0.8888888888888888,
              "#fdca26"
             ],
             [
              1,
              "#f0f921"
             ]
            ],
            "type": "heatmap"
           }
          ],
          "histogram": [
           {
            "marker": {
             "pattern": {
              "fillmode": "overlay",
              "size": 10,
              "solidity": 0.2
             }
            },
            "type": "histogram"
           }
          ],
          "histogram2d": [
           {
            "colorbar": {
             "outlinewidth": 0,
             "ticks": ""
            },
            "colorscale": [
             [
              0,
              "#0d0887"
             ],
             [
              0.1111111111111111,
              "#46039f"
             ],
             [
              0.2222222222222222,
              "#7201a8"
             ],
             [
              0.3333333333333333,
              "#9c179e"
             ],
             [
              0.4444444444444444,
              "#bd3786"
             ],
             [
              0.5555555555555556,
              "#d8576b"
             ],
             [
              0.6666666666666666,
              "#ed7953"
             ],
             [
              0.7777777777777778,
              "#fb9f3a"
             ],
             [
              0.8888888888888888,
              "#fdca26"
             ],
             [
              1,
              "#f0f921"
             ]
            ],
            "type": "histogram2d"
           }
          ],
          "histogram2dcontour": [
           {
            "colorbar": {
             "outlinewidth": 0,
             "ticks": ""
            },
            "colorscale": [
             [
              0,
              "#0d0887"
             ],
             [
              0.1111111111111111,
              "#46039f"
             ],
             [
              0.2222222222222222,
              "#7201a8"
             ],
             [
              0.3333333333333333,
              "#9c179e"
             ],
             [
              0.4444444444444444,
              "#bd3786"
             ],
             [
              0.5555555555555556,
              "#d8576b"
             ],
             [
              0.6666666666666666,
              "#ed7953"
             ],
             [
              0.7777777777777778,
              "#fb9f3a"
             ],
             [
              0.8888888888888888,
              "#fdca26"
             ],
             [
              1,
              "#f0f921"
             ]
            ],
            "type": "histogram2dcontour"
           }
          ],
          "mesh3d": [
           {
            "colorbar": {
             "outlinewidth": 0,
             "ticks": ""
            },
            "type": "mesh3d"
           }
          ],
          "parcoords": [
           {
            "line": {
             "colorbar": {
              "outlinewidth": 0,
              "ticks": ""
             }
            },
            "type": "parcoords"
           }
          ],
          "pie": [
           {
            "automargin": true,
            "type": "pie"
           }
          ],
          "scatter": [
           {
            "fillpattern": {
             "fillmode": "overlay",
             "size": 10,
             "solidity": 0.2
            },
            "type": "scatter"
           }
          ],
          "scatter3d": [
           {
            "line": {
             "colorbar": {
              "outlinewidth": 0,
              "ticks": ""
             }
            },
            "marker": {
             "colorbar": {
              "outlinewidth": 0,
              "ticks": ""
             }
            },
            "type": "scatter3d"
           }
          ],
          "scattercarpet": [
           {
            "marker": {
             "colorbar": {
              "outlinewidth": 0,
              "ticks": ""
             }
            },
            "type": "scattercarpet"
           }
          ],
          "scattergeo": [
           {
            "marker": {
             "colorbar": {
              "outlinewidth": 0,
              "ticks": ""
             }
            },
            "type": "scattergeo"
           }
          ],
          "scattergl": [
           {
            "marker": {
             "colorbar": {
              "outlinewidth": 0,
              "ticks": ""
             }
            },
            "type": "scattergl"
           }
          ],
          "scattermap": [
           {
            "marker": {
             "colorbar": {
              "outlinewidth": 0,
              "ticks": ""
             }
            },
            "type": "scattermap"
           }
          ],
          "scattermapbox": [
           {
            "marker": {
             "colorbar": {
              "outlinewidth": 0,
              "ticks": ""
             }
            },
            "type": "scattermapbox"
           }
          ],
          "scatterpolar": [
           {
            "marker": {
             "colorbar": {
              "outlinewidth": 0,
              "ticks": ""
             }
            },
            "type": "scatterpolar"
           }
          ],
          "scatterpolargl": [
           {
            "marker": {
             "colorbar": {
              "outlinewidth": 0,
              "ticks": ""
             }
            },
            "type": "scatterpolargl"
           }
          ],
          "scatterternary": [
           {
            "marker": {
             "colorbar": {
              "outlinewidth": 0,
              "ticks": ""
             }
            },
            "type": "scatterternary"
           }
          ],
          "surface": [
           {
            "colorbar": {
             "outlinewidth": 0,
             "ticks": ""
            },
            "colorscale": [
             [
              0,
              "#0d0887"
             ],
             [
              0.1111111111111111,
              "#46039f"
             ],
             [
              0.2222222222222222,
              "#7201a8"
             ],
             [
              0.3333333333333333,
              "#9c179e"
             ],
             [
              0.4444444444444444,
              "#bd3786"
             ],
             [
              0.5555555555555556,
              "#d8576b"
             ],
             [
              0.6666666666666666,
              "#ed7953"
             ],
             [
              0.7777777777777778,
              "#fb9f3a"
             ],
             [
              0.8888888888888888,
              "#fdca26"
             ],
             [
              1,
              "#f0f921"
             ]
            ],
            "type": "surface"
           }
          ],
          "table": [
           {
            "cells": {
             "fill": {
              "color": "#EBF0F8"
             },
             "line": {
              "color": "white"
             }
            },
            "header": {
             "fill": {
              "color": "#C8D4E3"
             },
             "line": {
              "color": "white"
             }
            },
            "type": "table"
           }
          ]
         },
         "layout": {
          "annotationdefaults": {
           "arrowcolor": "#2a3f5f",
           "arrowhead": 0,
           "arrowwidth": 1
          },
          "autotypenumbers": "strict",
          "coloraxis": {
           "colorbar": {
            "outlinewidth": 0,
            "ticks": ""
           }
          },
          "colorscale": {
           "diverging": [
            [
             0,
             "#8e0152"
            ],
            [
             0.1,
             "#c51b7d"
            ],
            [
             0.2,
             "#de77ae"
            ],
            [
             0.3,
             "#f1b6da"
            ],
            [
             0.4,
             "#fde0ef"
            ],
            [
             0.5,
             "#f7f7f7"
            ],
            [
             0.6,
             "#e6f5d0"
            ],
            [
             0.7,
             "#b8e186"
            ],
            [
             0.8,
             "#7fbc41"
            ],
            [
             0.9,
             "#4d9221"
            ],
            [
             1,
             "#276419"
            ]
           ],
           "sequential": [
            [
             0,
             "#0d0887"
            ],
            [
             0.1111111111111111,
             "#46039f"
            ],
            [
             0.2222222222222222,
             "#7201a8"
            ],
            [
             0.3333333333333333,
             "#9c179e"
            ],
            [
             0.4444444444444444,
             "#bd3786"
            ],
            [
             0.5555555555555556,
             "#d8576b"
            ],
            [
             0.6666666666666666,
             "#ed7953"
            ],
            [
             0.7777777777777778,
             "#fb9f3a"
            ],
            [
             0.8888888888888888,
             "#fdca26"
            ],
            [
             1,
             "#f0f921"
            ]
           ],
           "sequentialminus": [
            [
             0,
             "#0d0887"
            ],
            [
             0.1111111111111111,
             "#46039f"
            ],
            [
             0.2222222222222222,
             "#7201a8"
            ],
            [
             0.3333333333333333,
             "#9c179e"
            ],
            [
             0.4444444444444444,
             "#bd3786"
            ],
            [
             0.5555555555555556,
             "#d8576b"
            ],
            [
             0.6666666666666666,
             "#ed7953"
            ],
            [
             0.7777777777777778,
             "#fb9f3a"
            ],
            [
             0.8888888888888888,
             "#fdca26"
            ],
            [
             1,
             "#f0f921"
            ]
           ]
          },
          "colorway": [
           "#636efa",
           "#EF553B",
           "#00cc96",
           "#ab63fa",
           "#FFA15A",
           "#19d3f3",
           "#FF6692",
           "#B6E880",
           "#FF97FF",
           "#FECB52"
          ],
          "font": {
           "color": "#2a3f5f"
          },
          "geo": {
           "bgcolor": "white",
           "lakecolor": "white",
           "landcolor": "#E5ECF6",
           "showlakes": true,
           "showland": true,
           "subunitcolor": "white"
          },
          "hoverlabel": {
           "align": "left"
          },
          "hovermode": "closest",
          "mapbox": {
           "style": "light"
          },
          "paper_bgcolor": "white",
          "plot_bgcolor": "#E5ECF6",
          "polar": {
           "angularaxis": {
            "gridcolor": "white",
            "linecolor": "white",
            "ticks": ""
           },
           "bgcolor": "#E5ECF6",
           "radialaxis": {
            "gridcolor": "white",
            "linecolor": "white",
            "ticks": ""
           }
          },
          "scene": {
           "xaxis": {
            "backgroundcolor": "#E5ECF6",
            "gridcolor": "white",
            "gridwidth": 2,
            "linecolor": "white",
            "showbackground": true,
            "ticks": "",
            "zerolinecolor": "white"
           },
           "yaxis": {
            "backgroundcolor": "#E5ECF6",
            "gridcolor": "white",
            "gridwidth": 2,
            "linecolor": "white",
            "showbackground": true,
            "ticks": "",
            "zerolinecolor": "white"
           },
           "zaxis": {
            "backgroundcolor": "#E5ECF6",
            "gridcolor": "white",
            "gridwidth": 2,
            "linecolor": "white",
            "showbackground": true,
            "ticks": "",
            "zerolinecolor": "white"
           }
          },
          "shapedefaults": {
           "line": {
            "color": "#2a3f5f"
           }
          },
          "ternary": {
           "aaxis": {
            "gridcolor": "white",
            "linecolor": "white",
            "ticks": ""
           },
           "baxis": {
            "gridcolor": "white",
            "linecolor": "white",
            "ticks": ""
           },
           "bgcolor": "#E5ECF6",
           "caxis": {
            "gridcolor": "white",
            "linecolor": "white",
            "ticks": ""
           }
          },
          "title": {
           "x": 0.05
          },
          "xaxis": {
           "automargin": true,
           "gridcolor": "white",
           "linecolor": "white",
           "ticks": "",
           "title": {
            "standoff": 15
           },
           "zerolinecolor": "white",
           "zerolinewidth": 2
          },
          "yaxis": {
           "automargin": true,
           "gridcolor": "white",
           "linecolor": "white",
           "ticks": "",
           "title": {
            "standoff": 15
           },
           "zerolinecolor": "white",
           "zerolinewidth": 2
          }
         }
        },
        "title": {
         "text": "Sample of Random Portfolios"
        },
        "xaxis": {
         "title": {
          "text": "Volatility (Standard Deviation)"
         }
        },
        "yaxis": {
         "title": {
          "text": "Annualized Return"
         }
        }
       }
      }
     },
     "metadata": {},
     "output_type": "display_data"
    }
   ],
   "source": [
    "fig = go.Figure()\n",
    "\n",
    "fig.add_trace(go.Scatter(\n",
    "    x=[p[\"variance\"]**0.5 for p in total_portfolios],  # Convert variance to volatility\n",
    "    y=[p[\"return\"] for p in total_portfolios],\n",
    "    mode='markers',\n",
    "    marker=dict(\n",
    "        color=[p[\"sharpe\"] for p in total_portfolios],  # Sharpe Ratio\n",
    "        showscale=True,\n",
    "        size=7,\n",
    "        line=dict(width=1),\n",
    "        colorscale=\"RdBu\",\n",
    "        colorbar=dict(title=\"Sharpe<br>Ratio\")\n",
    "    ),\n",
    "    hoverinfo='text',\n",
    "    text=[\n",
    "        f\"Return: {p['return']:.3%}<br>Volatility: {p['variance']**0.5:.3f}<br>\" +\n",
    "        f\"Sharpe Ratio: {p['return'] / (p['variance']**0.5):.3f}<br>\" +\n",
    "        \"<br>\".join([f\"{p['tickers'][i]}: Weight={p['weights'][i]:.3f}\" for i in range(len(p['tickers']))])\n",
    "        for p in total_portfolios\n",
    "    ],\n",
    "    name=\"Portfolios\"\n",
    "))\n",
    "\n",
    "fig.update_layout(\n",
    "    title='Sample of Random Portfolios',\n",
    "    xaxis_title='Volatility (Standard Deviation)',\n",
    "    yaxis_title='Annualized Return',\n",
    "    legend=dict(y=5\n",
    "    )\n",
    ")\n",
    "\n",
    "\n",
    "fig.show()"
   ]
  },
  {
   "cell_type": "code",
   "execution_count": 12,
   "metadata": {},
   "outputs": [
    {
     "data": {
      "application/vnd.plotly.v1+json": {
       "config": {
        "plotlyServerURL": "https://plot.ly"
       },
       "data": [
        {
         "mode": "lines+markers",
         "type": "scatter",
         "x": [
          0,
          1,
          2,
          3,
          4,
          5,
          6,
          7,
          8,
          9,
          10,
          11,
          12,
          13,
          14,
          15,
          16,
          17,
          18,
          19,
          20,
          21,
          22,
          23,
          24,
          25,
          26,
          27,
          28,
          29,
          30,
          31,
          32,
          33,
          34,
          35,
          36,
          37,
          38,
          39,
          40,
          41,
          42,
          43,
          44,
          45,
          46,
          47,
          48,
          49,
          50,
          51,
          52,
          53,
          54,
          55,
          56,
          57,
          58,
          59,
          60,
          61,
          62,
          63,
          64,
          65,
          66,
          67,
          68,
          69,
          70,
          71,
          72,
          73,
          74,
          75,
          76,
          77,
          78,
          79,
          80,
          81,
          82,
          83,
          84,
          85,
          86,
          87,
          88,
          89,
          90,
          91,
          92,
          93,
          94,
          95,
          96,
          97,
          98,
          99,
          100,
          101,
          102,
          103,
          104,
          105,
          106,
          107,
          108,
          109,
          110,
          111,
          112,
          113,
          114,
          115,
          116,
          117,
          118,
          119,
          120,
          121,
          122,
          123,
          124,
          125,
          126,
          127,
          128,
          129,
          130,
          131,
          132,
          133,
          134,
          135,
          136,
          137,
          138,
          139,
          140,
          141,
          142,
          143,
          144,
          145,
          146,
          147,
          148,
          149,
          150,
          151,
          152,
          153,
          154,
          155,
          156,
          157,
          158,
          159,
          160,
          161,
          162,
          163,
          164,
          165,
          166,
          167,
          168,
          169,
          170,
          171,
          172,
          173,
          174,
          175,
          176,
          177,
          178,
          179,
          180,
          181,
          182,
          183,
          184,
          185,
          186,
          187,
          188,
          189,
          190,
          191,
          192,
          193,
          194,
          195,
          196,
          197,
          198,
          199,
          200,
          201,
          202,
          203,
          204,
          205,
          206,
          207,
          208,
          209,
          210,
          211,
          212,
          213,
          214,
          215,
          216,
          217,
          218,
          219,
          220,
          221,
          222,
          223,
          224,
          225,
          226,
          227,
          228,
          229,
          230,
          231,
          232,
          233,
          234,
          235,
          236,
          237,
          238,
          239,
          240,
          241,
          242,
          243,
          244,
          245,
          246,
          247,
          248,
          249,
          250,
          251,
          252,
          253,
          254,
          255,
          256,
          257,
          258,
          259,
          260,
          261,
          262,
          263,
          264,
          265,
          266,
          267,
          268,
          269,
          270,
          271,
          272,
          273,
          274,
          275,
          276,
          277,
          278,
          279,
          280,
          281,
          282,
          283,
          284,
          285,
          286,
          287,
          288,
          289,
          290,
          291,
          292,
          293,
          294,
          295,
          296,
          297,
          298,
          299,
          300
         ],
         "y": [
          3.2186753101435404,
          3.2980639185076255,
          3.7240317114917296,
          3.696242990751071,
          3.7240317114805577,
          3.6776370081925513,
          3.7204150647106866,
          3.677637020907221,
          3.6776371557530183,
          3.720845642714447,
          3.702978261648359,
          3.6776370466431767,
          3.859161055552908,
          3.867041375014583,
          3.867041375014583,
          3.859161036360103,
          3.8893060550009344,
          3.867041375014583,
          3.859161036360103,
          3.8893060550009344,
          3.869512940789895,
          3.881673097325499,
          3.890800879374489,
          3.867041375014583,
          3.859161036360103,
          3.8893060550009344,
          3.869512940789895,
          3.881673097325499,
          3.890800879374489,
          3.859161030225556,
          4.558174596465054,
          4.3127534674583154,
          4.558174596468611,
          4.3127534674583154,
          4.558174596468611,
          4.381478299290305,
          4.299595096034512,
          4.299595276922742,
          4.360225316767917,
          4.299595197491809,
          4.38644873689797,
          4.387276612020548,
          4.299595256271706,
          4.299595275697371,
          4.299595208681555,
          4.316327425497604,
          4.319586764569677,
          4.432399221977868,
          4.299595027181708,
          4.35326051494809,
          4.299595131249806,
          4.303291261698996,
          4.369820255352673,
          4.312282250145987,
          4.299595177114297,
          4.916871088240206,
          4.453808178825206,
          4.602394064130164,
          4.916871088237607,
          4.4456039139979735,
          4.511340713839844,
          4.486162103973379,
          4.5246574016546655,
          4.445603989061148,
          4.445603592698459,
          4.462302916356592,
          4.445603825603625,
          4.47805291158486,
          4.567356165266104,
          4.445603992401079,
          4.445603990573343,
          4.473254903927945,
          4.4998382813435285,
          4.44560371172309,
          4.44560376175903,
          4.6698500289458185,
          4.446302260401921,
          4.445603954851625,
          4.486074423009587,
          4.445603637724927,
          5.034176053272572,
          4.9142617786583385,
          4.852507385271899,
          4.853870676279367,
          4.850506572679921,
          5.350411012553155,
          4.9142617786583385,
          4.852507385271899,
          4.853870676279367,
          4.850506572679921,
          5.350411012553155,
          4.855134568718792,
          4.876231991545153,
          4.850506353812713,
          4.850506332620507,
          4.851192435892247,
          4.871838342399491,
          4.850506525185425,
          4.859165749841102,
          4.8505065523033615,
          4.86209090926078,
          4.850506580315862,
          4.865987644495223,
          4.997398732288321,
          4.8505877963381385,
          5.04841442472508,
          4.850506576701892,
          4.851120277708904,
          4.850506586089762,
          4.850506570862843,
          4.8824612408392625,
          4.850506409390362,
          4.850506562943351,
          4.88191256685162,
          4.856034740356761,
          4.866910033002631,
          5.034176053272686,
          4.850506585375181,
          4.850506585471606,
          4.924615303323498,
          5.195142314527711,
          4.852849246134222,
          4.850506558085436,
          4.850506575663587,
          4.8505065751039895,
          4.850506571105369,
          4.850506587247975,
          4.850506585589924,
          4.850506388791153,
          4.956950249644301,
          4.850506505149268,
          4.850506577322076,
          4.872209765465543,
          4.850506551359272,
          4.850506512360736,
          4.850506560147856,
          4.850506455608125,
          5.186181437426034,
          4.850506577424782,
          5.29273991700458,
          4.850506581801579,
          4.850506484825334,
          4.850506585555561,
          4.926171751857996,
          4.8505065626927095,
          4.8505064241351015,
          4.850506432126667,
          4.850506572162926,
          4.850506554999976,
          4.850506523861219,
          5.097775419831064,
          4.851279326160707,
          4.97316506001984,
          4.874789495752508,
          4.8505064714991395,
          4.947136773753083,
          4.850506560808321,
          4.927330680049204,
          4.850506586701323,
          4.949782415658561,
          4.850506422329944,
          4.850506537017767,
          4.867367840480313,
          4.857268998647445,
          4.876740324441791,
          4.850506343888429,
          4.878193315966084,
          4.850506586878275,
          4.8505064591575096,
          4.850506552730132,
          4.850506541097234,
          4.850506575768321,
          4.850506584912218,
          4.8505065860807255,
          4.850506578466031,
          4.9142617786583385,
          4.9142617786583385,
          4.9142617786583385,
          4.9142617786583385,
          4.9142617786583385,
          4.9142617786583385,
          4.9142617786583385,
          4.9142617786583385,
          4.9142617786583385,
          4.9142617786583385,
          4.9142617786583385,
          4.9142617786583385,
          4.9142617786583385,
          4.9142617786583385,
          4.9142617786583385,
          4.9142617786583385,
          4.9142617786583385,
          4.9142617786583385,
          4.9142617786583385,
          4.9142617786583385,
          4.9142617786583385,
          4.9142617786583385,
          4.9142617786583385,
          4.9142617786583385,
          4.9142617786583385,
          4.9142617786583385,
          4.9142617786583385,
          4.9142617786583385,
          4.9142617786583385,
          4.9142617786583385,
          4.9142617786583385,
          4.9142617786583385,
          4.9142617786583385,
          4.9142617786583385,
          4.9142617786583385,
          4.9142617786583385,
          4.9142617786583385,
          4.9142617786583385,
          4.9142617786583385,
          4.9142617786583385,
          4.9142617786583385,
          4.9142617786583385,
          4.9142617786583385,
          4.9142617786583385,
          4.9142617786583385,
          4.9142617786583385,
          4.9142617786583385,
          4.9142617786583385,
          4.9142617786583385,
          4.9142617786583385,
          4.9142617786583385,
          4.9142617786583385,
          4.9142617786583385,
          4.9142617786583385,
          4.9142617786583385,
          4.9142617786583385,
          4.9142617786583385,
          4.9142617786583385,
          4.9142617786583385,
          4.9142617786583385,
          4.9142617786583385,
          4.9142617786583385,
          4.9142617786583385,
          4.9142617786583385,
          4.9142617786583385,
          4.9142617786583385,
          4.9142617786583385,
          4.9142617786583385,
          4.9142617786583385,
          4.9142617786583385,
          4.9142617786583385,
          4.9142617786583385,
          4.9142617786583385,
          4.9142617786583385,
          4.9142617786583385,
          4.9142617786583385,
          4.9142617786583385,
          4.9142617786583385,
          4.9142617786583385,
          4.9142617786583385,
          4.9142617786583385,
          4.9142617786583385,
          4.9142617786583385,
          4.9142617786583385,
          4.9142617786583385,
          4.9142617786583385,
          4.9142617786583385,
          4.9142617786583385,
          4.9142617786583385,
          4.9142617786583385,
          4.9142617786583385,
          4.9142617786583385,
          4.9142617786583385,
          4.9142617786583385,
          4.9142617786583385,
          4.9142617786583385,
          4.9142617786583385,
          4.9142617786583385,
          4.9142617786583385,
          4.9142617786583385,
          4.9142617786583385,
          4.9142617786583385,
          4.9142617786583385,
          4.9142617786583385,
          4.9142617786583385,
          4.9142617786583385,
          4.9142617786583385,
          4.9142617786583385,
          4.9142617786583385,
          4.9142617786583385,
          4.9142617786583385,
          4.9142617786583385,
          4.9142617786583385,
          4.9142617786583385,
          4.9142617786583385,
          4.9142617786583385,
          4.9142617786583385,
          4.9142617786583385,
          4.9142617786583385,
          4.9142617786583385,
          4.9142617786583385,
          4.9142617786583385,
          4.9142617786583385,
          4.9142617786583385,
          4.9142617786583385,
          4.9142617786583385
         ]
        }
       ],
       "layout": {
        "template": {
         "data": {
          "bar": [
           {
            "error_x": {
             "color": "#2a3f5f"
            },
            "error_y": {
             "color": "#2a3f5f"
            },
            "marker": {
             "line": {
              "color": "#E5ECF6",
              "width": 0.5
             },
             "pattern": {
              "fillmode": "overlay",
              "size": 10,
              "solidity": 0.2
             }
            },
            "type": "bar"
           }
          ],
          "barpolar": [
           {
            "marker": {
             "line": {
              "color": "#E5ECF6",
              "width": 0.5
             },
             "pattern": {
              "fillmode": "overlay",
              "size": 10,
              "solidity": 0.2
             }
            },
            "type": "barpolar"
           }
          ],
          "carpet": [
           {
            "aaxis": {
             "endlinecolor": "#2a3f5f",
             "gridcolor": "white",
             "linecolor": "white",
             "minorgridcolor": "white",
             "startlinecolor": "#2a3f5f"
            },
            "baxis": {
             "endlinecolor": "#2a3f5f",
             "gridcolor": "white",
             "linecolor": "white",
             "minorgridcolor": "white",
             "startlinecolor": "#2a3f5f"
            },
            "type": "carpet"
           }
          ],
          "choropleth": [
           {
            "colorbar": {
             "outlinewidth": 0,
             "ticks": ""
            },
            "type": "choropleth"
           }
          ],
          "contour": [
           {
            "colorbar": {
             "outlinewidth": 0,
             "ticks": ""
            },
            "colorscale": [
             [
              0,
              "#0d0887"
             ],
             [
              0.1111111111111111,
              "#46039f"
             ],
             [
              0.2222222222222222,
              "#7201a8"
             ],
             [
              0.3333333333333333,
              "#9c179e"
             ],
             [
              0.4444444444444444,
              "#bd3786"
             ],
             [
              0.5555555555555556,
              "#d8576b"
             ],
             [
              0.6666666666666666,
              "#ed7953"
             ],
             [
              0.7777777777777778,
              "#fb9f3a"
             ],
             [
              0.8888888888888888,
              "#fdca26"
             ],
             [
              1,
              "#f0f921"
             ]
            ],
            "type": "contour"
           }
          ],
          "contourcarpet": [
           {
            "colorbar": {
             "outlinewidth": 0,
             "ticks": ""
            },
            "type": "contourcarpet"
           }
          ],
          "heatmap": [
           {
            "colorbar": {
             "outlinewidth": 0,
             "ticks": ""
            },
            "colorscale": [
             [
              0,
              "#0d0887"
             ],
             [
              0.1111111111111111,
              "#46039f"
             ],
             [
              0.2222222222222222,
              "#7201a8"
             ],
             [
              0.3333333333333333,
              "#9c179e"
             ],
             [
              0.4444444444444444,
              "#bd3786"
             ],
             [
              0.5555555555555556,
              "#d8576b"
             ],
             [
              0.6666666666666666,
              "#ed7953"
             ],
             [
              0.7777777777777778,
              "#fb9f3a"
             ],
             [
              0.8888888888888888,
              "#fdca26"
             ],
             [
              1,
              "#f0f921"
             ]
            ],
            "type": "heatmap"
           }
          ],
          "histogram": [
           {
            "marker": {
             "pattern": {
              "fillmode": "overlay",
              "size": 10,
              "solidity": 0.2
             }
            },
            "type": "histogram"
           }
          ],
          "histogram2d": [
           {
            "colorbar": {
             "outlinewidth": 0,
             "ticks": ""
            },
            "colorscale": [
             [
              0,
              "#0d0887"
             ],
             [
              0.1111111111111111,
              "#46039f"
             ],
             [
              0.2222222222222222,
              "#7201a8"
             ],
             [
              0.3333333333333333,
              "#9c179e"
             ],
             [
              0.4444444444444444,
              "#bd3786"
             ],
             [
              0.5555555555555556,
              "#d8576b"
             ],
             [
              0.6666666666666666,
              "#ed7953"
             ],
             [
              0.7777777777777778,
              "#fb9f3a"
             ],
             [
              0.8888888888888888,
              "#fdca26"
             ],
             [
              1,
              "#f0f921"
             ]
            ],
            "type": "histogram2d"
           }
          ],
          "histogram2dcontour": [
           {
            "colorbar": {
             "outlinewidth": 0,
             "ticks": ""
            },
            "colorscale": [
             [
              0,
              "#0d0887"
             ],
             [
              0.1111111111111111,
              "#46039f"
             ],
             [
              0.2222222222222222,
              "#7201a8"
             ],
             [
              0.3333333333333333,
              "#9c179e"
             ],
             [
              0.4444444444444444,
              "#bd3786"
             ],
             [
              0.5555555555555556,
              "#d8576b"
             ],
             [
              0.6666666666666666,
              "#ed7953"
             ],
             [
              0.7777777777777778,
              "#fb9f3a"
             ],
             [
              0.8888888888888888,
              "#fdca26"
             ],
             [
              1,
              "#f0f921"
             ]
            ],
            "type": "histogram2dcontour"
           }
          ],
          "mesh3d": [
           {
            "colorbar": {
             "outlinewidth": 0,
             "ticks": ""
            },
            "type": "mesh3d"
           }
          ],
          "parcoords": [
           {
            "line": {
             "colorbar": {
              "outlinewidth": 0,
              "ticks": ""
             }
            },
            "type": "parcoords"
           }
          ],
          "pie": [
           {
            "automargin": true,
            "type": "pie"
           }
          ],
          "scatter": [
           {
            "fillpattern": {
             "fillmode": "overlay",
             "size": 10,
             "solidity": 0.2
            },
            "type": "scatter"
           }
          ],
          "scatter3d": [
           {
            "line": {
             "colorbar": {
              "outlinewidth": 0,
              "ticks": ""
             }
            },
            "marker": {
             "colorbar": {
              "outlinewidth": 0,
              "ticks": ""
             }
            },
            "type": "scatter3d"
           }
          ],
          "scattercarpet": [
           {
            "marker": {
             "colorbar": {
              "outlinewidth": 0,
              "ticks": ""
             }
            },
            "type": "scattercarpet"
           }
          ],
          "scattergeo": [
           {
            "marker": {
             "colorbar": {
              "outlinewidth": 0,
              "ticks": ""
             }
            },
            "type": "scattergeo"
           }
          ],
          "scattergl": [
           {
            "marker": {
             "colorbar": {
              "outlinewidth": 0,
              "ticks": ""
             }
            },
            "type": "scattergl"
           }
          ],
          "scattermap": [
           {
            "marker": {
             "colorbar": {
              "outlinewidth": 0,
              "ticks": ""
             }
            },
            "type": "scattermap"
           }
          ],
          "scattermapbox": [
           {
            "marker": {
             "colorbar": {
              "outlinewidth": 0,
              "ticks": ""
             }
            },
            "type": "scattermapbox"
           }
          ],
          "scatterpolar": [
           {
            "marker": {
             "colorbar": {
              "outlinewidth": 0,
              "ticks": ""
             }
            },
            "type": "scatterpolar"
           }
          ],
          "scatterpolargl": [
           {
            "marker": {
             "colorbar": {
              "outlinewidth": 0,
              "ticks": ""
             }
            },
            "type": "scatterpolargl"
           }
          ],
          "scatterternary": [
           {
            "marker": {
             "colorbar": {
              "outlinewidth": 0,
              "ticks": ""
             }
            },
            "type": "scatterternary"
           }
          ],
          "surface": [
           {
            "colorbar": {
             "outlinewidth": 0,
             "ticks": ""
            },
            "colorscale": [
             [
              0,
              "#0d0887"
             ],
             [
              0.1111111111111111,
              "#46039f"
             ],
             [
              0.2222222222222222,
              "#7201a8"
             ],
             [
              0.3333333333333333,
              "#9c179e"
             ],
             [
              0.4444444444444444,
              "#bd3786"
             ],
             [
              0.5555555555555556,
              "#d8576b"
             ],
             [
              0.6666666666666666,
              "#ed7953"
             ],
             [
              0.7777777777777778,
              "#fb9f3a"
             ],
             [
              0.8888888888888888,
              "#fdca26"
             ],
             [
              1,
              "#f0f921"
             ]
            ],
            "type": "surface"
           }
          ],
          "table": [
           {
            "cells": {
             "fill": {
              "color": "#EBF0F8"
             },
             "line": {
              "color": "white"
             }
            },
            "header": {
             "fill": {
              "color": "#C8D4E3"
             },
             "line": {
              "color": "white"
             }
            },
            "type": "table"
           }
          ]
         },
         "layout": {
          "annotationdefaults": {
           "arrowcolor": "#2a3f5f",
           "arrowhead": 0,
           "arrowwidth": 1
          },
          "autotypenumbers": "strict",
          "coloraxis": {
           "colorbar": {
            "outlinewidth": 0,
            "ticks": ""
           }
          },
          "colorscale": {
           "diverging": [
            [
             0,
             "#8e0152"
            ],
            [
             0.1,
             "#c51b7d"
            ],
            [
             0.2,
             "#de77ae"
            ],
            [
             0.3,
             "#f1b6da"
            ],
            [
             0.4,
             "#fde0ef"
            ],
            [
             0.5,
             "#f7f7f7"
            ],
            [
             0.6,
             "#e6f5d0"
            ],
            [
             0.7,
             "#b8e186"
            ],
            [
             0.8,
             "#7fbc41"
            ],
            [
             0.9,
             "#4d9221"
            ],
            [
             1,
             "#276419"
            ]
           ],
           "sequential": [
            [
             0,
             "#0d0887"
            ],
            [
             0.1111111111111111,
             "#46039f"
            ],
            [
             0.2222222222222222,
             "#7201a8"
            ],
            [
             0.3333333333333333,
             "#9c179e"
            ],
            [
             0.4444444444444444,
             "#bd3786"
            ],
            [
             0.5555555555555556,
             "#d8576b"
            ],
            [
             0.6666666666666666,
             "#ed7953"
            ],
            [
             0.7777777777777778,
             "#fb9f3a"
            ],
            [
             0.8888888888888888,
             "#fdca26"
            ],
            [
             1,
             "#f0f921"
            ]
           ],
           "sequentialminus": [
            [
             0,
             "#0d0887"
            ],
            [
             0.1111111111111111,
             "#46039f"
            ],
            [
             0.2222222222222222,
             "#7201a8"
            ],
            [
             0.3333333333333333,
             "#9c179e"
            ],
            [
             0.4444444444444444,
             "#bd3786"
            ],
            [
             0.5555555555555556,
             "#d8576b"
            ],
            [
             0.6666666666666666,
             "#ed7953"
            ],
            [
             0.7777777777777778,
             "#fb9f3a"
            ],
            [
             0.8888888888888888,
             "#fdca26"
            ],
            [
             1,
             "#f0f921"
            ]
           ]
          },
          "colorway": [
           "#636efa",
           "#EF553B",
           "#00cc96",
           "#ab63fa",
           "#FFA15A",
           "#19d3f3",
           "#FF6692",
           "#B6E880",
           "#FF97FF",
           "#FECB52"
          ],
          "font": {
           "color": "#2a3f5f"
          },
          "geo": {
           "bgcolor": "white",
           "lakecolor": "white",
           "landcolor": "#E5ECF6",
           "showlakes": true,
           "showland": true,
           "subunitcolor": "white"
          },
          "hoverlabel": {
           "align": "left"
          },
          "hovermode": "closest",
          "mapbox": {
           "style": "light"
          },
          "paper_bgcolor": "white",
          "plot_bgcolor": "#E5ECF6",
          "polar": {
           "angularaxis": {
            "gridcolor": "white",
            "linecolor": "white",
            "ticks": ""
           },
           "bgcolor": "#E5ECF6",
           "radialaxis": {
            "gridcolor": "white",
            "linecolor": "white",
            "ticks": ""
           }
          },
          "scene": {
           "xaxis": {
            "backgroundcolor": "#E5ECF6",
            "gridcolor": "white",
            "gridwidth": 2,
            "linecolor": "white",
            "showbackground": true,
            "ticks": "",
            "zerolinecolor": "white"
           },
           "yaxis": {
            "backgroundcolor": "#E5ECF6",
            "gridcolor": "white",
            "gridwidth": 2,
            "linecolor": "white",
            "showbackground": true,
            "ticks": "",
            "zerolinecolor": "white"
           },
           "zaxis": {
            "backgroundcolor": "#E5ECF6",
            "gridcolor": "white",
            "gridwidth": 2,
            "linecolor": "white",
            "showbackground": true,
            "ticks": "",
            "zerolinecolor": "white"
           }
          },
          "shapedefaults": {
           "line": {
            "color": "#2a3f5f"
           }
          },
          "ternary": {
           "aaxis": {
            "gridcolor": "white",
            "linecolor": "white",
            "ticks": ""
           },
           "baxis": {
            "gridcolor": "white",
            "linecolor": "white",
            "ticks": ""
           },
           "bgcolor": "#E5ECF6",
           "caxis": {
            "gridcolor": "white",
            "linecolor": "white",
            "ticks": ""
           }
          },
          "title": {
           "x": 0.05
          },
          "xaxis": {
           "automargin": true,
           "gridcolor": "white",
           "linecolor": "white",
           "ticks": "",
           "title": {
            "standoff": 15
           },
           "zerolinecolor": "white",
           "zerolinewidth": 2
          },
          "yaxis": {
           "automargin": true,
           "gridcolor": "white",
           "linecolor": "white",
           "ticks": "",
           "title": {
            "standoff": 15
           },
           "zerolinecolor": "white",
           "zerolinewidth": 2
          }
         }
        },
        "title": {
         "text": "Sharpe Ratio Over Iterations"
        },
        "xaxis": {
         "title": {
          "text": "Iteration"
         }
        },
        "yaxis": {
         "title": {
          "text": "Sharpe Ratio"
         }
        }
       }
      }
     },
     "metadata": {},
     "output_type": "display_data"
    }
   ],
   "source": [
    "sharpe_ratios = [portfolio['sharpe'] for portfolio in total_portfolios]\n",
    "\n",
    "fig = go.Figure(data=go.Scatter(x=list(range(len(sharpe_ratios))), y=sharpe_ratios, mode='lines+markers'))\n",
    "fig.update_layout(title='Sharpe Ratio Over Iterations',\n",
    "                  xaxis_title='Iteration',\n",
    "                  yaxis_title='Sharpe Ratio',\n",
    "                  )\n",
    "fig.show()"
   ]
  },
  {
   "cell_type": "markdown",
   "metadata": {},
   "source": [
    "## Find Optimal Portfolio Size"
   ]
  },
  {
   "cell_type": "code",
   "execution_count": null,
   "metadata": {},
   "outputs": [
    {
     "name": "stderr",
     "output_type": "stream",
     "text": [
      "100%|██████████| 30000/30000 [00:18<00:00, 1599.93it/s]\n"
     ]
    }
   ],
   "source": [
    "all_portfolios, dominant_portfolios = MonteCarloRBA(names, cov, annualized_returns, 3000, \"random\", 3, max_combination)"
   ]
  },
  {
   "cell_type": "code",
   "execution_count": 32,
   "metadata": {},
   "outputs": [
    {
     "data": {
      "application/vnd.plotly.v1+json": {
       "config": {
        "plotlyServerURL": "https://plot.ly"
       },
       "data": [
        {
         "mode": "lines",
         "name": "Average Volatility",
         "type": "scatter",
         "x": [
          3,
          4,
          5,
          6,
          7,
          8,
          9,
          10,
          11,
          12,
          13,
          14,
          15,
          16,
          17,
          18,
          19,
          20,
          21,
          22,
          23,
          24,
          25,
          26,
          27,
          28,
          29,
          30,
          31,
          32,
          33,
          34,
          35,
          36,
          37,
          38,
          39,
          40,
          41,
          42,
          43,
          44,
          45,
          46,
          47,
          48,
          49,
          50,
          51,
          52,
          53,
          54,
          55,
          56,
          57,
          58,
          59,
          60,
          61,
          62,
          63,
          64,
          65,
          66,
          67,
          68,
          69,
          70,
          71,
          72,
          73,
          74,
          75,
          76,
          77,
          78,
          79,
          80,
          81,
          82,
          83,
          84,
          85,
          86,
          87,
          88,
          89,
          90,
          91,
          92,
          93
         ],
         "y": [
          0.13668593615468227,
          0.12565116231709522,
          0.118384982566819,
          0.10938464292323136,
          0.10731077128514757,
          0.1016034837556812,
          0.0990365280356234,
          0.09719247532242696,
          0.09465896617164221,
          0.09175686202093976,
          0.09037471369391106,
          0.08835298654538626,
          0.08665586467396422,
          0.08574052137580239,
          0.08523882861936688,
          0.08401564867665841,
          0.08373125222034988,
          0.08277845761755113,
          0.0827368898212283,
          0.08194225739930945,
          0.08035094534113016,
          0.08067020623327864,
          0.0809569626391526,
          0.07945003902165315,
          0.07855538767670929,
          0.07861512454280818,
          0.07743083678705874,
          0.07781714943695812,
          0.07707292606575768,
          0.07735170918215258,
          0.07633811108716888,
          0.0761202666348728,
          0.07703522426936754,
          0.07543052129093693,
          0.07567300894023521,
          0.07607208949571907,
          0.07493856413228749,
          0.07459071091533681,
          0.07419692524334227,
          0.07478495936686858,
          0.07559810711118048,
          0.07421525469268203,
          0.07418684325409568,
          0.07403021196684618,
          0.07338714943600101,
          0.07359737889403282,
          0.07327220527277185,
          0.07333162858432131,
          0.072683865681038,
          0.07326393313914985,
          0.07254368610155666,
          0.07281140269809172,
          0.07231678834429658,
          0.07206428973567088,
          0.07249152080974958,
          0.07213852963948081,
          0.07212659097974287,
          0.07176151927899682,
          0.07190280594774026,
          0.07163542692531956,
          0.07184250542725772,
          0.07164082966186652,
          0.07133904616110673,
          0.07144966817086935,
          0.07123952990306269,
          0.0712704388586567,
          0.0711458171746346,
          0.07111510823358687,
          0.07125422334828524,
          0.07121522057420894,
          0.070775491896466,
          0.07113896583253264,
          0.07075785284652324,
          0.0709039781378642,
          0.07057446086818107,
          0.0708815955805064,
          0.07095533982507221,
          0.07068240711047101,
          0.07043637852178049,
          0.0705057594215661,
          0.07028921867908387,
          0.07038245653857317,
          0.0702498308156383,
          0.07043752921755006,
          0.07004437781643912,
          0.07007464602993542,
          0.06976541051683881,
          0.07014159186758687,
          0.06988970977532004,
          0.06985656390921999,
          0.06999338134330021
         ]
        },
        {
         "mode": "lines",
         "name": "Average Returns",
         "type": "scatter",
         "x": [
          3,
          4,
          5,
          6,
          7,
          8,
          9,
          10,
          11,
          12,
          13,
          14,
          15,
          16,
          17,
          18,
          19,
          20,
          21,
          22,
          23,
          24,
          25,
          26,
          27,
          28,
          29,
          30,
          31,
          32,
          33,
          34,
          35,
          36,
          37,
          38,
          39,
          40,
          41,
          42,
          43,
          44,
          45,
          46,
          47,
          48,
          49,
          50,
          51,
          52,
          53,
          54,
          55,
          56,
          57,
          58,
          59,
          60,
          61,
          62,
          63,
          64,
          65,
          66,
          67,
          68,
          69,
          70,
          71,
          72,
          73,
          74,
          75,
          76,
          77,
          78,
          79,
          80,
          81,
          82,
          83,
          84,
          85,
          86,
          87,
          88,
          89,
          90,
          91,
          92,
          93
         ],
         "y": [
          0.16466627272220088,
          0.15812356936552216,
          0.1520273993001689,
          0.15957989806278725,
          0.16590967995059683,
          0.15959772238130693,
          0.16130652720560734,
          0.16179925074261792,
          0.1582277188530522,
          0.15985511883964582,
          0.1591241483077552,
          0.1629508765251741,
          0.1688615912722519,
          0.1629156730344467,
          0.1616039731624057,
          0.16100090185142474,
          0.1619269972054606,
          0.1675078294410616,
          0.16133256090778506,
          0.15890707681357816,
          0.16345754552956407,
          0.16125491586323845,
          0.16869652483900205,
          0.16231894099541302,
          0.15693383335079236,
          0.16296669747639347,
          0.15852687684309033,
          0.1602151319356988,
          0.1650239739158352,
          0.1643239992565912,
          0.15994107971423552,
          0.1577996532844436,
          0.1647806756414573,
          0.16294286041658976,
          0.16142143647805962,
          0.16037537281264802,
          0.16252446231478343,
          0.16107620330084957,
          0.16262173749953107,
          0.16402466660887619,
          0.16232554136984506,
          0.16581915155254434,
          0.1616896315560626,
          0.1641494708039086,
          0.16106810686619544,
          0.15925284808489104,
          0.15934095784170174,
          0.16117200463856635,
          0.16238164326318047,
          0.16381523234747447,
          0.16434153038680493,
          0.15933853928024497,
          0.16108932495486494,
          0.16029926204406844,
          0.1619840401561202,
          0.16179494606072878,
          0.16027869728018315,
          0.16178418694881397,
          0.16151190957711278,
          0.16245413807032527,
          0.16132775480388012,
          0.16393154469961665,
          0.1614389698867048,
          0.1634551081188142,
          0.16452077980245006,
          0.16282618668228835,
          0.16203169097052267,
          0.16191392208330685,
          0.16171733319924064,
          0.16256055691781426,
          0.16023422322905276,
          0.16078264998523095,
          0.16204735170181492,
          0.16164857396570806,
          0.16375987552879176,
          0.1632967034277104,
          0.1618651225956703,
          0.1617297327924047,
          0.16299586065608276,
          0.1615645724746738,
          0.16144576876410008,
          0.161534894597041,
          0.1601200197236202,
          0.16022892100383052,
          0.16189695676112276,
          0.1611333048367994,
          0.16215932919819057,
          0.16096773349457533,
          0.1596230225979465,
          0.162224883983668,
          0.16197277341097752
         ]
        }
       ],
       "layout": {
        "template": {
         "data": {
          "bar": [
           {
            "error_x": {
             "color": "#2a3f5f"
            },
            "error_y": {
             "color": "#2a3f5f"
            },
            "marker": {
             "line": {
              "color": "#E5ECF6",
              "width": 0.5
             },
             "pattern": {
              "fillmode": "overlay",
              "size": 10,
              "solidity": 0.2
             }
            },
            "type": "bar"
           }
          ],
          "barpolar": [
           {
            "marker": {
             "line": {
              "color": "#E5ECF6",
              "width": 0.5
             },
             "pattern": {
              "fillmode": "overlay",
              "size": 10,
              "solidity": 0.2
             }
            },
            "type": "barpolar"
           }
          ],
          "carpet": [
           {
            "aaxis": {
             "endlinecolor": "#2a3f5f",
             "gridcolor": "white",
             "linecolor": "white",
             "minorgridcolor": "white",
             "startlinecolor": "#2a3f5f"
            },
            "baxis": {
             "endlinecolor": "#2a3f5f",
             "gridcolor": "white",
             "linecolor": "white",
             "minorgridcolor": "white",
             "startlinecolor": "#2a3f5f"
            },
            "type": "carpet"
           }
          ],
          "choropleth": [
           {
            "colorbar": {
             "outlinewidth": 0,
             "ticks": ""
            },
            "type": "choropleth"
           }
          ],
          "contour": [
           {
            "colorbar": {
             "outlinewidth": 0,
             "ticks": ""
            },
            "colorscale": [
             [
              0,
              "#0d0887"
             ],
             [
              0.1111111111111111,
              "#46039f"
             ],
             [
              0.2222222222222222,
              "#7201a8"
             ],
             [
              0.3333333333333333,
              "#9c179e"
             ],
             [
              0.4444444444444444,
              "#bd3786"
             ],
             [
              0.5555555555555556,
              "#d8576b"
             ],
             [
              0.6666666666666666,
              "#ed7953"
             ],
             [
              0.7777777777777778,
              "#fb9f3a"
             ],
             [
              0.8888888888888888,
              "#fdca26"
             ],
             [
              1,
              "#f0f921"
             ]
            ],
            "type": "contour"
           }
          ],
          "contourcarpet": [
           {
            "colorbar": {
             "outlinewidth": 0,
             "ticks": ""
            },
            "type": "contourcarpet"
           }
          ],
          "heatmap": [
           {
            "colorbar": {
             "outlinewidth": 0,
             "ticks": ""
            },
            "colorscale": [
             [
              0,
              "#0d0887"
             ],
             [
              0.1111111111111111,
              "#46039f"
             ],
             [
              0.2222222222222222,
              "#7201a8"
             ],
             [
              0.3333333333333333,
              "#9c179e"
             ],
             [
              0.4444444444444444,
              "#bd3786"
             ],
             [
              0.5555555555555556,
              "#d8576b"
             ],
             [
              0.6666666666666666,
              "#ed7953"
             ],
             [
              0.7777777777777778,
              "#fb9f3a"
             ],
             [
              0.8888888888888888,
              "#fdca26"
             ],
             [
              1,
              "#f0f921"
             ]
            ],
            "type": "heatmap"
           }
          ],
          "histogram": [
           {
            "marker": {
             "pattern": {
              "fillmode": "overlay",
              "size": 10,
              "solidity": 0.2
             }
            },
            "type": "histogram"
           }
          ],
          "histogram2d": [
           {
            "colorbar": {
             "outlinewidth": 0,
             "ticks": ""
            },
            "colorscale": [
             [
              0,
              "#0d0887"
             ],
             [
              0.1111111111111111,
              "#46039f"
             ],
             [
              0.2222222222222222,
              "#7201a8"
             ],
             [
              0.3333333333333333,
              "#9c179e"
             ],
             [
              0.4444444444444444,
              "#bd3786"
             ],
             [
              0.5555555555555556,
              "#d8576b"
             ],
             [
              0.6666666666666666,
              "#ed7953"
             ],
             [
              0.7777777777777778,
              "#fb9f3a"
             ],
             [
              0.8888888888888888,
              "#fdca26"
             ],
             [
              1,
              "#f0f921"
             ]
            ],
            "type": "histogram2d"
           }
          ],
          "histogram2dcontour": [
           {
            "colorbar": {
             "outlinewidth": 0,
             "ticks": ""
            },
            "colorscale": [
             [
              0,
              "#0d0887"
             ],
             [
              0.1111111111111111,
              "#46039f"
             ],
             [
              0.2222222222222222,
              "#7201a8"
             ],
             [
              0.3333333333333333,
              "#9c179e"
             ],
             [
              0.4444444444444444,
              "#bd3786"
             ],
             [
              0.5555555555555556,
              "#d8576b"
             ],
             [
              0.6666666666666666,
              "#ed7953"
             ],
             [
              0.7777777777777778,
              "#fb9f3a"
             ],
             [
              0.8888888888888888,
              "#fdca26"
             ],
             [
              1,
              "#f0f921"
             ]
            ],
            "type": "histogram2dcontour"
           }
          ],
          "mesh3d": [
           {
            "colorbar": {
             "outlinewidth": 0,
             "ticks": ""
            },
            "type": "mesh3d"
           }
          ],
          "parcoords": [
           {
            "line": {
             "colorbar": {
              "outlinewidth": 0,
              "ticks": ""
             }
            },
            "type": "parcoords"
           }
          ],
          "pie": [
           {
            "automargin": true,
            "type": "pie"
           }
          ],
          "scatter": [
           {
            "fillpattern": {
             "fillmode": "overlay",
             "size": 10,
             "solidity": 0.2
            },
            "type": "scatter"
           }
          ],
          "scatter3d": [
           {
            "line": {
             "colorbar": {
              "outlinewidth": 0,
              "ticks": ""
             }
            },
            "marker": {
             "colorbar": {
              "outlinewidth": 0,
              "ticks": ""
             }
            },
            "type": "scatter3d"
           }
          ],
          "scattercarpet": [
           {
            "marker": {
             "colorbar": {
              "outlinewidth": 0,
              "ticks": ""
             }
            },
            "type": "scattercarpet"
           }
          ],
          "scattergeo": [
           {
            "marker": {
             "colorbar": {
              "outlinewidth": 0,
              "ticks": ""
             }
            },
            "type": "scattergeo"
           }
          ],
          "scattergl": [
           {
            "marker": {
             "colorbar": {
              "outlinewidth": 0,
              "ticks": ""
             }
            },
            "type": "scattergl"
           }
          ],
          "scattermap": [
           {
            "marker": {
             "colorbar": {
              "outlinewidth": 0,
              "ticks": ""
             }
            },
            "type": "scattermap"
           }
          ],
          "scattermapbox": [
           {
            "marker": {
             "colorbar": {
              "outlinewidth": 0,
              "ticks": ""
             }
            },
            "type": "scattermapbox"
           }
          ],
          "scatterpolar": [
           {
            "marker": {
             "colorbar": {
              "outlinewidth": 0,
              "ticks": ""
             }
            },
            "type": "scatterpolar"
           }
          ],
          "scatterpolargl": [
           {
            "marker": {
             "colorbar": {
              "outlinewidth": 0,
              "ticks": ""
             }
            },
            "type": "scatterpolargl"
           }
          ],
          "scatterternary": [
           {
            "marker": {
             "colorbar": {
              "outlinewidth": 0,
              "ticks": ""
             }
            },
            "type": "scatterternary"
           }
          ],
          "surface": [
           {
            "colorbar": {
             "outlinewidth": 0,
             "ticks": ""
            },
            "colorscale": [
             [
              0,
              "#0d0887"
             ],
             [
              0.1111111111111111,
              "#46039f"
             ],
             [
              0.2222222222222222,
              "#7201a8"
             ],
             [
              0.3333333333333333,
              "#9c179e"
             ],
             [
              0.4444444444444444,
              "#bd3786"
             ],
             [
              0.5555555555555556,
              "#d8576b"
             ],
             [
              0.6666666666666666,
              "#ed7953"
             ],
             [
              0.7777777777777778,
              "#fb9f3a"
             ],
             [
              0.8888888888888888,
              "#fdca26"
             ],
             [
              1,
              "#f0f921"
             ]
            ],
            "type": "surface"
           }
          ],
          "table": [
           {
            "cells": {
             "fill": {
              "color": "#EBF0F8"
             },
             "line": {
              "color": "white"
             }
            },
            "header": {
             "fill": {
              "color": "#C8D4E3"
             },
             "line": {
              "color": "white"
             }
            },
            "type": "table"
           }
          ]
         },
         "layout": {
          "annotationdefaults": {
           "arrowcolor": "#2a3f5f",
           "arrowhead": 0,
           "arrowwidth": 1
          },
          "autotypenumbers": "strict",
          "coloraxis": {
           "colorbar": {
            "outlinewidth": 0,
            "ticks": ""
           }
          },
          "colorscale": {
           "diverging": [
            [
             0,
             "#8e0152"
            ],
            [
             0.1,
             "#c51b7d"
            ],
            [
             0.2,
             "#de77ae"
            ],
            [
             0.3,
             "#f1b6da"
            ],
            [
             0.4,
             "#fde0ef"
            ],
            [
             0.5,
             "#f7f7f7"
            ],
            [
             0.6,
             "#e6f5d0"
            ],
            [
             0.7,
             "#b8e186"
            ],
            [
             0.8,
             "#7fbc41"
            ],
            [
             0.9,
             "#4d9221"
            ],
            [
             1,
             "#276419"
            ]
           ],
           "sequential": [
            [
             0,
             "#0d0887"
            ],
            [
             0.1111111111111111,
             "#46039f"
            ],
            [
             0.2222222222222222,
             "#7201a8"
            ],
            [
             0.3333333333333333,
             "#9c179e"
            ],
            [
             0.4444444444444444,
             "#bd3786"
            ],
            [
             0.5555555555555556,
             "#d8576b"
            ],
            [
             0.6666666666666666,
             "#ed7953"
            ],
            [
             0.7777777777777778,
             "#fb9f3a"
            ],
            [
             0.8888888888888888,
             "#fdca26"
            ],
            [
             1,
             "#f0f921"
            ]
           ],
           "sequentialminus": [
            [
             0,
             "#0d0887"
            ],
            [
             0.1111111111111111,
             "#46039f"
            ],
            [
             0.2222222222222222,
             "#7201a8"
            ],
            [
             0.3333333333333333,
             "#9c179e"
            ],
            [
             0.4444444444444444,
             "#bd3786"
            ],
            [
             0.5555555555555556,
             "#d8576b"
            ],
            [
             0.6666666666666666,
             "#ed7953"
            ],
            [
             0.7777777777777778,
             "#fb9f3a"
            ],
            [
             0.8888888888888888,
             "#fdca26"
            ],
            [
             1,
             "#f0f921"
            ]
           ]
          },
          "colorway": [
           "#636efa",
           "#EF553B",
           "#00cc96",
           "#ab63fa",
           "#FFA15A",
           "#19d3f3",
           "#FF6692",
           "#B6E880",
           "#FF97FF",
           "#FECB52"
          ],
          "font": {
           "color": "#2a3f5f"
          },
          "geo": {
           "bgcolor": "white",
           "lakecolor": "white",
           "landcolor": "#E5ECF6",
           "showlakes": true,
           "showland": true,
           "subunitcolor": "white"
          },
          "hoverlabel": {
           "align": "left"
          },
          "hovermode": "closest",
          "mapbox": {
           "style": "light"
          },
          "paper_bgcolor": "white",
          "plot_bgcolor": "#E5ECF6",
          "polar": {
           "angularaxis": {
            "gridcolor": "white",
            "linecolor": "white",
            "ticks": ""
           },
           "bgcolor": "#E5ECF6",
           "radialaxis": {
            "gridcolor": "white",
            "linecolor": "white",
            "ticks": ""
           }
          },
          "scene": {
           "xaxis": {
            "backgroundcolor": "#E5ECF6",
            "gridcolor": "white",
            "gridwidth": 2,
            "linecolor": "white",
            "showbackground": true,
            "ticks": "",
            "zerolinecolor": "white"
           },
           "yaxis": {
            "backgroundcolor": "#E5ECF6",
            "gridcolor": "white",
            "gridwidth": 2,
            "linecolor": "white",
            "showbackground": true,
            "ticks": "",
            "zerolinecolor": "white"
           },
           "zaxis": {
            "backgroundcolor": "#E5ECF6",
            "gridcolor": "white",
            "gridwidth": 2,
            "linecolor": "white",
            "showbackground": true,
            "ticks": "",
            "zerolinecolor": "white"
           }
          },
          "shapedefaults": {
           "line": {
            "color": "#2a3f5f"
           }
          },
          "ternary": {
           "aaxis": {
            "gridcolor": "white",
            "linecolor": "white",
            "ticks": ""
           },
           "baxis": {
            "gridcolor": "white",
            "linecolor": "white",
            "ticks": ""
           },
           "bgcolor": "#E5ECF6",
           "caxis": {
            "gridcolor": "white",
            "linecolor": "white",
            "ticks": ""
           }
          },
          "title": {
           "x": 0.05
          },
          "xaxis": {
           "automargin": true,
           "gridcolor": "white",
           "linecolor": "white",
           "ticks": "",
           "title": {
            "standoff": 15
           },
           "zerolinecolor": "white",
           "zerolinewidth": 2
          },
          "yaxis": {
           "automargin": true,
           "gridcolor": "white",
           "linecolor": "white",
           "ticks": "",
           "title": {
            "standoff": 15
           },
           "zerolinecolor": "white",
           "zerolinewidth": 2
          }
         }
        },
        "title": {
         "text": "Average Volatility and Returns by Portfolio Size"
        },
        "xaxis": {
         "title": {
          "text": "Number of Assets in Portfolio"
         },
         "type": "category"
        },
        "yaxis": {
         "title": {
          "text": "Average Value"
         }
        }
       }
      }
     },
     "metadata": {},
     "output_type": "display_data"
    }
   ],
   "source": [
    "import numpy as np\n",
    "from collections import defaultdict\n",
    "import plotly.graph_objects as go\n",
    "\n",
    "portfolio_sizes = [len(portfolio['tickers']) for portfolio in all_portfolios]\n",
    "volatility = [np.sqrt(portfolio['variance']) for portfolio in all_portfolios]\n",
    "returns = [portfolio['return'] for portfolio in all_portfolios]\n",
    "\n",
    "volatility_by_size = defaultdict(list)\n",
    "for size, vol, ret in zip(portfolio_sizes, volatility, returns):\n",
    "    volatility_by_size[size].append((vol, ret))\n",
    "\n",
    "average_volatility = {size: np.mean([v[0] for v in vols]) for size, vols in volatility_by_size.items()}\n",
    "average_returns = {size: np.mean([v[1] for v in vols]) for size, vols in volatility_by_size.items()}\n",
    "\n",
    "sorted_sizes = sorted(average_volatility.keys())\n",
    "sorted_average_vols = [average_volatility[size] for size in sorted_sizes]\n",
    "sorted_average_rets = [average_returns[size] for size in sorted_sizes]\n",
    "\n",
    "fig = go.Figure()\n",
    "fig.add_trace(go.Scatter(\n",
    "    x=sorted_sizes,\n",
    "    y=sorted_average_vols,\n",
    "    mode='lines',\n",
    "    name='Average Volatility'\n",
    "))\n",
    "fig.add_trace(go.Scatter(\n",
    "    x=sorted_sizes,\n",
    "    y=sorted_average_rets,\n",
    "    mode='lines',\n",
    "    name='Average Returns'\n",
    "))\n",
    "\n",
    "fig.update_layout(\n",
    "    title='Average Volatility and Returns by Portfolio Size',\n",
    "    xaxis_title='Number of Assets in Portfolio',\n",
    "    yaxis_title='Average Value',\n",
    "    xaxis=dict(type='category'),\n",
    ")\n",
    "\n",
    "fig.show()\n"
   ]
  }
 ],
 "metadata": {
  "kernelspec": {
   "display_name": "roboA",
   "language": "python",
   "name": "python3"
  },
  "language_info": {
   "codemirror_mode": {
    "name": "ipython",
    "version": 3
   },
   "file_extension": ".py",
   "mimetype": "text/x-python",
   "name": "python",
   "nbconvert_exporter": "python",
   "pygments_lexer": "ipython3",
   "version": "3.12.8"
  }
 },
 "nbformat": 4,
 "nbformat_minor": 2
}
