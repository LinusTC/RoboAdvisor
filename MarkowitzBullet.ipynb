{
 "cells": [
  {
   "cell_type": "markdown",
   "metadata": {},
   "source": [
    "# Markowitz Efficient Frontier"
   ]
  },
  {
   "cell_type": "markdown",
   "metadata": {},
   "source": [
    "## 1. Imports"
   ]
  },
  {
   "cell_type": "code",
   "execution_count": 1,
   "metadata": {},
   "outputs": [],
   "source": [
    "import pandas as pd\n",
    "import numpy as np\n",
    "import yfinance as yf\n",
    "import plotly.graph_objects as go\n",
    "from tqdm import tqdm\n",
    "from fetchData import fetch_raw_data_yf, get_matrices, getNasdaqStocks"
   ]
  },
  {
   "cell_type": "markdown",
   "metadata": {},
   "source": [
    "## 2. Fetch Data"
   ]
  },
  {
   "cell_type": "markdown",
   "metadata": {},
   "source": [
    "### Get all Nasdaq Stocks"
   ]
  },
  {
   "cell_type": "code",
   "execution_count": 2,
   "metadata": {},
   "outputs": [
    {
     "data": {
      "text/plain": [
       "100"
      ]
     },
     "execution_count": 2,
     "metadata": {},
     "output_type": "execute_result"
    }
   ],
   "source": [
    "assets= [\n",
    "    \"AAPL\",  # Apple Inc.\n",
    "    \"MSFT\",  # Microsoft Corporation\n",
    "    \"AMZN\",  # Amazon.com Inc.\n",
    "    \"GOOGL\", # Alphabet Inc. (Google) Class A\n",
    "    \"GOOG\",  # Alphabet Inc. (Google) Class C\n",
    "    \"META\",    # Meta Platforms Inc (formerly Facebook)\n",
    "    \"TSLA\",  # Tesla Inc\n",
    "    \"UA\", # Berkshire Hathaway Inc. Class B\n",
    "    \"JPM\",   # JPMorgan Chase & Co.\n",
    "    \"V\",     # Visa Inc.\n",
    "    \"JNJ\",   # Johnson & Johnson\n",
    "    \"WMT\",   # Walmart Inc.\n",
    "    \"PG\",    # Procter & Gamble Co.\n",
    "    \"UNH\",   # UnitedHealth Group Inc.\n",
    "    \"MA\",    # Mastercard Inc.\n",
    "    \"NVDA\",  # NVIDIA Corporation\n",
    "    \"HD\",    # Home Depot Inc.\n",
    "    \"BAC\",   # Bank of America Corp\n",
    "    \"DIS\",   # Walt Disney Co\n",
    "    \"PYPL\",  # PayPal Holdings\n",
    "    \"VZ\",    # Verizon Communications Inc.\n",
    "    \"ADBE\",  # Adobe Inc.\n",
    "    \"CMCSA\", # Comcast Corporation\n",
    "    \"NFLX\",  # Netflix Inc.\n",
    "    \"KO\",    # Coca-Cola Co\n",
    "    \"NKE\",   # NIKE Inc.\n",
    "    \"PFE\",   # Pfizer Inc.\n",
    "    \"MRK\",   # Merck & Co., Inc.\n",
    "    \"PEP\",   # PepsiCo, Inc.\n",
    "    \"T\",     # AT&T Inc.\n",
    "    \"ABT\",   # Abbott Laboratories\n",
    "    \"CRM\",   # Salesforce.com Inc.\n",
    "    \"ORCL\",  # Oracle Corporation\n",
    "    \"ABBV\",  # AbbVie Inc.\n",
    "    \"CSCO\",  # Cisco Systems, Inc.\n",
    "    \"INTC\",  # Intel Corporation\n",
    "    \"TMO\",   # Thermo Fisher Scientific Inc.\n",
    "    \"XOM\",   # Exxon Mobil Corporation\n",
    "    \"ACN\",   # Accenture plc\n",
    "    \"LLY\",   # Eli Lilly and Company\n",
    "    \"COST\",  # Costco Wholesale Corporation\n",
    "    \"MCD\",   # McDonald's Corp\n",
    "    \"DHR\",   # Danaher Corporation\n",
    "    \"MDT\",   # Medtronic plc\n",
    "    \"NEE\",   # NextEra Energy, Inc.\n",
    "    \"BMY\",   # Bristol-Myers Squibb Company\n",
    "    \"QCOM\",  # Qualcomm Inc\n",
    "    \"CVX\",   # Chevron Corporation\n",
    "    \"WFC\",   # Wells Fargo & Co\n",
    "    \"LMT\",    # Lockheed Martin Corporation\n",
    "    \"GS\",   # Goldman Sachs Group, Inc.\n",
    "    \"MS\",   # Morgan Stanley\n",
    "    \"IBM\",  # International Business Machines Corporation\n",
    "    \"GE\",   # General Electric Company\n",
    "    \"F\",    # Ford Motor Company\n",
    "    \"GM\",   # General Motors Company\n",
    "    \"UBER\", # Uber Technologies, Inc.\n",
    "    \"LYFT\", # Lyft, Inc.\n",
    "    \"SNAP\", # Snap Inc.\n",
    "    \"TWTR\", # Twitter, Inc.\n",
    "    \"SPOT\", # Spotify Technology S.A.\n",
    "    \"AMD\",  # Advanced Micro Devices, Inc.\n",
    "    \"TXN\",  # Texas Instruments Incorporated\n",
    "    \"BABA\", # Alibaba Group Holding Limited\n",
    "    \"SAP\",  # SAP SE\n",
    "    \"HON\",  # Honeywell International Inc.\n",
    "    \"BA\",   # Boeing Company\n",
    "    \"RTX\",  # Raytheon Technologies Corporation\n",
    "    \"CAT\",  # Caterpillar Inc.\n",
    "    \"DE\",   # Deere & Company\n",
    "    \"MMM\",  # 3M Company\n",
    "    \"DUK\",  # Duke Energy Corporation\n",
    "    \"SO\",   # Southern Company\n",
    "    \"EXC\",  # Exelon Corporation\n",
    "    \"NEE\",  # NextEra Energy, Inc.\n",
    "    \"AEP\",  # American Electric Power Company, Inc.\n",
    "    \"SRE\",  # Sempra Energy\n",
    "    \"ETN\",  # Eaton Corporation plc\n",
    "    \"EMR\",  # Emerson Electric Co.\n",
    "    \"SYY\",  # Sysco Corporation\n",
    "    \"KR\",   # Kroger Co.\n",
    "    \"GIS\",  # General Mills, Inc.\n",
    "    \"K\",    # Kellogg Company\n",
    "    \"CPB\",  # Campbell Soup Company\n",
    "    \"MO\",   # Altria Group, Inc.\n",
    "    \"PM\",   # Philip Morris International Inc.\n",
    "    \"BTI\",  # British American Tobacco plc\n",
    "    \"RDY\",  # Dr. Reddy's Laboratories Ltd.\n",
    "    \"GILD\", # Gilead Sciences, Inc.\n",
    "    \"BIIB\", # Biogen Inc.\n",
    "    \"CELG\", # Celgene Corporation\n",
    "    \"AMGN\", # Amgen Inc.\n",
    "    \"SYK\",  # Stryker Corporation\n",
    "    \"BSX\",  # Boston Scientific Corporation\n",
    "    \"ISRG\", # Intuitive Surgical, Inc.\n",
    "    \"ZBH\",  # Zimmer Biomet Holdings, Inc.\n",
    "    \"EW\",   # Edwards Lifesciences Corporation\n",
    "    \"RMD\",  # ResMed Inc.\n",
    "    \"VRTX\", # Vertex Pharmaceuticals Incorporated\n",
    "    \"REGN\",  # Regeneron Pharmaceuticals, Inc.\n",
    "]\n",
    "\n",
    "len(assets)"
   ]
  },
  {
   "cell_type": "code",
   "execution_count": 3,
   "metadata": {},
   "outputs": [
    {
     "name": "stderr",
     "output_type": "stream",
     "text": [
      "[*********************100%***********************]  99 of 99 completed\n",
      "\n",
      "5 Failed downloads:\n",
      "['SPOT', 'LYFT', 'UBER']: YFPricesMissingError('$%ticker%: possibly delisted; no price data found  (1d 2015-01-01 -> 2018-01-01) (Yahoo error = \"Data doesn\\'t exist for startDate = 1420088400, endDate = 1514782800\")')\n",
      "['TWTR', 'CELG']: YFTzMissingError('$%ticker%: possibly delisted; no timezone found')\n"
     ]
    },
    {
     "name": "stdout",
     "output_type": "stream",
     "text": [
      "Omitted assets ( 5 ):  ['SPOT', 'TWTR', 'LYFT', 'UBER', 'CELG']\n",
      "Time to fetch data: 12.17 seconds\n"
     ]
    },
    {
     "data": {
      "text/plain": [
       "94"
      ]
     },
     "execution_count": 3,
     "metadata": {},
     "output_type": "execute_result"
    }
   ],
   "source": [
    "raw_data, asset_errors, max_combination= fetch_raw_data_yf(assets)\n",
    "\n",
    "max_combination"
   ]
  },
  {
   "cell_type": "markdown",
   "metadata": {},
   "source": [
    "## 3. Mean, Volatility and Covariance"
   ]
  },
  {
   "cell_type": "code",
   "execution_count": 4,
   "metadata": {},
   "outputs": [
    {
     "data": {
      "text/html": [
       "<div>\n",
       "<style scoped>\n",
       "    .dataframe tbody tr th:only-of-type {\n",
       "        vertical-align: middle;\n",
       "    }\n",
       "\n",
       "    .dataframe tbody tr th {\n",
       "        vertical-align: top;\n",
       "    }\n",
       "\n",
       "    .dataframe thead th {\n",
       "        text-align: right;\n",
       "    }\n",
       "</style>\n",
       "<table border=\"1\" class=\"dataframe\">\n",
       "  <thead>\n",
       "    <tr style=\"text-align: right;\">\n",
       "      <th>Ticker</th>\n",
       "      <th>PM_adj_close</th>\n",
       "      <th>LMT_adj_close</th>\n",
       "      <th>TSLA_adj_close</th>\n",
       "      <th>WMT_adj_close</th>\n",
       "      <th>DUK_adj_close</th>\n",
       "      <th>BSX_adj_close</th>\n",
       "      <th>ORCL_adj_close</th>\n",
       "      <th>SNAP_adj_close</th>\n",
       "      <th>CAT_adj_close</th>\n",
       "      <th>JNJ_adj_close</th>\n",
       "      <th>...</th>\n",
       "      <th>KO_adj_close</th>\n",
       "      <th>BABA_adj_close</th>\n",
       "      <th>RTX_adj_close</th>\n",
       "      <th>ACN_adj_close</th>\n",
       "      <th>PG_adj_close</th>\n",
       "      <th>EXC_adj_close</th>\n",
       "      <th>EW_adj_close</th>\n",
       "      <th>CMCSA_adj_close</th>\n",
       "      <th>CSCO_adj_close</th>\n",
       "      <th>AMGN_adj_close</th>\n",
       "    </tr>\n",
       "    <tr>\n",
       "      <th>Ticker</th>\n",
       "      <th></th>\n",
       "      <th></th>\n",
       "      <th></th>\n",
       "      <th></th>\n",
       "      <th></th>\n",
       "      <th></th>\n",
       "      <th></th>\n",
       "      <th></th>\n",
       "      <th></th>\n",
       "      <th></th>\n",
       "      <th></th>\n",
       "      <th></th>\n",
       "      <th></th>\n",
       "      <th></th>\n",
       "      <th></th>\n",
       "      <th></th>\n",
       "      <th></th>\n",
       "      <th></th>\n",
       "      <th></th>\n",
       "      <th></th>\n",
       "      <th></th>\n",
       "    </tr>\n",
       "  </thead>\n",
       "  <tbody>\n",
       "    <tr>\n",
       "      <th>PM_adj_close</th>\n",
       "      <td>0.019518</td>\n",
       "      <td>0.003203</td>\n",
       "      <td>0.005512</td>\n",
       "      <td>0.001471</td>\n",
       "      <td>0.002658</td>\n",
       "      <td>0.003633</td>\n",
       "      <td>0.002672</td>\n",
       "      <td>0.002233</td>\n",
       "      <td>0.002917</td>\n",
       "      <td>0.003488</td>\n",
       "      <td>...</td>\n",
       "      <td>0.004143</td>\n",
       "      <td>0.003154</td>\n",
       "      <td>0.002020</td>\n",
       "      <td>0.002601</td>\n",
       "      <td>0.003949</td>\n",
       "      <td>0.003614</td>\n",
       "      <td>0.002264</td>\n",
       "      <td>0.001340</td>\n",
       "      <td>0.003849</td>\n",
       "      <td>0.004281</td>\n",
       "    </tr>\n",
       "    <tr>\n",
       "      <th>LMT_adj_close</th>\n",
       "      <td>0.003203</td>\n",
       "      <td>0.012199</td>\n",
       "      <td>0.002179</td>\n",
       "      <td>0.003152</td>\n",
       "      <td>0.001400</td>\n",
       "      <td>0.003443</td>\n",
       "      <td>-0.000053</td>\n",
       "      <td>0.000685</td>\n",
       "      <td>0.001916</td>\n",
       "      <td>0.002952</td>\n",
       "      <td>...</td>\n",
       "      <td>0.000711</td>\n",
       "      <td>0.003669</td>\n",
       "      <td>0.006309</td>\n",
       "      <td>0.005261</td>\n",
       "      <td>0.000591</td>\n",
       "      <td>0.001182</td>\n",
       "      <td>0.006415</td>\n",
       "      <td>0.002323</td>\n",
       "      <td>0.005319</td>\n",
       "      <td>0.001416</td>\n",
       "    </tr>\n",
       "    <tr>\n",
       "      <th>TSLA_adj_close</th>\n",
       "      <td>0.005512</td>\n",
       "      <td>0.002179</td>\n",
       "      <td>0.128626</td>\n",
       "      <td>0.001002</td>\n",
       "      <td>0.000949</td>\n",
       "      <td>0.013189</td>\n",
       "      <td>0.011976</td>\n",
       "      <td>0.007984</td>\n",
       "      <td>0.007447</td>\n",
       "      <td>0.003712</td>\n",
       "      <td>...</td>\n",
       "      <td>0.000747</td>\n",
       "      <td>0.023544</td>\n",
       "      <td>0.004142</td>\n",
       "      <td>0.003794</td>\n",
       "      <td>0.002206</td>\n",
       "      <td>-0.001673</td>\n",
       "      <td>0.012830</td>\n",
       "      <td>0.005026</td>\n",
       "      <td>0.005765</td>\n",
       "      <td>0.012714</td>\n",
       "    </tr>\n",
       "    <tr>\n",
       "      <th>WMT_adj_close</th>\n",
       "      <td>0.001471</td>\n",
       "      <td>0.003152</td>\n",
       "      <td>0.001002</td>\n",
       "      <td>0.032955</td>\n",
       "      <td>-0.000248</td>\n",
       "      <td>0.001746</td>\n",
       "      <td>0.000122</td>\n",
       "      <td>0.003390</td>\n",
       "      <td>0.003857</td>\n",
       "      <td>0.000961</td>\n",
       "      <td>...</td>\n",
       "      <td>0.001825</td>\n",
       "      <td>0.002175</td>\n",
       "      <td>0.000964</td>\n",
       "      <td>0.005382</td>\n",
       "      <td>0.002094</td>\n",
       "      <td>-0.001984</td>\n",
       "      <td>0.003306</td>\n",
       "      <td>0.000188</td>\n",
       "      <td>0.004552</td>\n",
       "      <td>0.005077</td>\n",
       "    </tr>\n",
       "    <tr>\n",
       "      <th>DUK_adj_close</th>\n",
       "      <td>0.002658</td>\n",
       "      <td>0.001400</td>\n",
       "      <td>0.000949</td>\n",
       "      <td>-0.000248</td>\n",
       "      <td>0.008914</td>\n",
       "      <td>0.000813</td>\n",
       "      <td>0.000220</td>\n",
       "      <td>-0.000193</td>\n",
       "      <td>-0.000534</td>\n",
       "      <td>0.002356</td>\n",
       "      <td>...</td>\n",
       "      <td>0.003074</td>\n",
       "      <td>-0.003517</td>\n",
       "      <td>0.000869</td>\n",
       "      <td>0.001151</td>\n",
       "      <td>0.002409</td>\n",
       "      <td>0.008283</td>\n",
       "      <td>0.002336</td>\n",
       "      <td>-0.000545</td>\n",
       "      <td>-0.000764</td>\n",
       "      <td>-0.000727</td>\n",
       "    </tr>\n",
       "    <tr>\n",
       "      <th>...</th>\n",
       "      <td>...</td>\n",
       "      <td>...</td>\n",
       "      <td>...</td>\n",
       "      <td>...</td>\n",
       "      <td>...</td>\n",
       "      <td>...</td>\n",
       "      <td>...</td>\n",
       "      <td>...</td>\n",
       "      <td>...</td>\n",
       "      <td>...</td>\n",
       "      <td>...</td>\n",
       "      <td>...</td>\n",
       "      <td>...</td>\n",
       "      <td>...</td>\n",
       "      <td>...</td>\n",
       "      <td>...</td>\n",
       "      <td>...</td>\n",
       "      <td>...</td>\n",
       "      <td>...</td>\n",
       "      <td>...</td>\n",
       "      <td>...</td>\n",
       "    </tr>\n",
       "    <tr>\n",
       "      <th>EXC_adj_close</th>\n",
       "      <td>0.003614</td>\n",
       "      <td>0.001182</td>\n",
       "      <td>-0.001673</td>\n",
       "      <td>-0.001984</td>\n",
       "      <td>0.008283</td>\n",
       "      <td>0.001077</td>\n",
       "      <td>0.003406</td>\n",
       "      <td>0.005519</td>\n",
       "      <td>-0.000021</td>\n",
       "      <td>0.003196</td>\n",
       "      <td>...</td>\n",
       "      <td>0.003271</td>\n",
       "      <td>-0.002326</td>\n",
       "      <td>0.000252</td>\n",
       "      <td>0.002039</td>\n",
       "      <td>0.002759</td>\n",
       "      <td>0.017281</td>\n",
       "      <td>0.000702</td>\n",
       "      <td>-0.001534</td>\n",
       "      <td>0.000289</td>\n",
       "      <td>-0.000726</td>\n",
       "    </tr>\n",
       "    <tr>\n",
       "      <th>EW_adj_close</th>\n",
       "      <td>0.002264</td>\n",
       "      <td>0.006415</td>\n",
       "      <td>0.012830</td>\n",
       "      <td>0.003306</td>\n",
       "      <td>0.002336</td>\n",
       "      <td>0.010817</td>\n",
       "      <td>0.004253</td>\n",
       "      <td>0.017884</td>\n",
       "      <td>0.004813</td>\n",
       "      <td>0.006081</td>\n",
       "      <td>...</td>\n",
       "      <td>0.000380</td>\n",
       "      <td>0.009129</td>\n",
       "      <td>0.007190</td>\n",
       "      <td>0.003493</td>\n",
       "      <td>-0.002036</td>\n",
       "      <td>0.000702</td>\n",
       "      <td>0.053983</td>\n",
       "      <td>0.002179</td>\n",
       "      <td>0.010712</td>\n",
       "      <td>0.006929</td>\n",
       "    </tr>\n",
       "    <tr>\n",
       "      <th>CMCSA_adj_close</th>\n",
       "      <td>0.001340</td>\n",
       "      <td>0.002323</td>\n",
       "      <td>0.005026</td>\n",
       "      <td>0.000188</td>\n",
       "      <td>-0.000545</td>\n",
       "      <td>-0.001434</td>\n",
       "      <td>-0.000171</td>\n",
       "      <td>-0.006151</td>\n",
       "      <td>0.003519</td>\n",
       "      <td>-0.000022</td>\n",
       "      <td>...</td>\n",
       "      <td>0.000842</td>\n",
       "      <td>-0.003314</td>\n",
       "      <td>0.001010</td>\n",
       "      <td>0.002020</td>\n",
       "      <td>0.001761</td>\n",
       "      <td>-0.001534</td>\n",
       "      <td>0.002179</td>\n",
       "      <td>0.042263</td>\n",
       "      <td>0.005995</td>\n",
       "      <td>0.005409</td>\n",
       "    </tr>\n",
       "    <tr>\n",
       "      <th>CSCO_adj_close</th>\n",
       "      <td>0.003849</td>\n",
       "      <td>0.005319</td>\n",
       "      <td>0.005765</td>\n",
       "      <td>0.004552</td>\n",
       "      <td>-0.000764</td>\n",
       "      <td>0.003084</td>\n",
       "      <td>0.005811</td>\n",
       "      <td>-0.000609</td>\n",
       "      <td>0.008700</td>\n",
       "      <td>0.004082</td>\n",
       "      <td>...</td>\n",
       "      <td>0.001227</td>\n",
       "      <td>0.005192</td>\n",
       "      <td>0.005338</td>\n",
       "      <td>0.006981</td>\n",
       "      <td>0.002324</td>\n",
       "      <td>0.000289</td>\n",
       "      <td>0.010712</td>\n",
       "      <td>0.005995</td>\n",
       "      <td>0.026896</td>\n",
       "      <td>0.008357</td>\n",
       "    </tr>\n",
       "    <tr>\n",
       "      <th>AMGN_adj_close</th>\n",
       "      <td>0.004281</td>\n",
       "      <td>0.001416</td>\n",
       "      <td>0.012714</td>\n",
       "      <td>0.005077</td>\n",
       "      <td>-0.000727</td>\n",
       "      <td>0.006010</td>\n",
       "      <td>0.006757</td>\n",
       "      <td>0.007093</td>\n",
       "      <td>0.005478</td>\n",
       "      <td>0.005562</td>\n",
       "      <td>...</td>\n",
       "      <td>0.001930</td>\n",
       "      <td>0.006332</td>\n",
       "      <td>0.003797</td>\n",
       "      <td>0.002703</td>\n",
       "      <td>0.003577</td>\n",
       "      <td>-0.000726</td>\n",
       "      <td>0.006929</td>\n",
       "      <td>0.005409</td>\n",
       "      <td>0.008357</td>\n",
       "      <td>0.028110</td>\n",
       "    </tr>\n",
       "  </tbody>\n",
       "</table>\n",
       "<p>94 rows × 94 columns</p>\n",
       "</div>"
      ],
      "text/plain": [
       "Ticker           PM_adj_close  LMT_adj_close  TSLA_adj_close  WMT_adj_close  \\\n",
       "Ticker                                                                        \n",
       "PM_adj_close         0.019518       0.003203        0.005512       0.001471   \n",
       "LMT_adj_close        0.003203       0.012199        0.002179       0.003152   \n",
       "TSLA_adj_close       0.005512       0.002179        0.128626       0.001002   \n",
       "WMT_adj_close        0.001471       0.003152        0.001002       0.032955   \n",
       "DUK_adj_close        0.002658       0.001400        0.000949      -0.000248   \n",
       "...                       ...            ...             ...            ...   \n",
       "EXC_adj_close        0.003614       0.001182       -0.001673      -0.001984   \n",
       "EW_adj_close         0.002264       0.006415        0.012830       0.003306   \n",
       "CMCSA_adj_close      0.001340       0.002323        0.005026       0.000188   \n",
       "CSCO_adj_close       0.003849       0.005319        0.005765       0.004552   \n",
       "AMGN_adj_close       0.004281       0.001416        0.012714       0.005077   \n",
       "\n",
       "Ticker           DUK_adj_close  BSX_adj_close  ORCL_adj_close  SNAP_adj_close  \\\n",
       "Ticker                                                                          \n",
       "PM_adj_close          0.002658       0.003633        0.002672        0.002233   \n",
       "LMT_adj_close         0.001400       0.003443       -0.000053        0.000685   \n",
       "TSLA_adj_close        0.000949       0.013189        0.011976        0.007984   \n",
       "WMT_adj_close        -0.000248       0.001746        0.000122        0.003390   \n",
       "DUK_adj_close         0.008914       0.000813        0.000220       -0.000193   \n",
       "...                        ...            ...             ...             ...   \n",
       "EXC_adj_close         0.008283       0.001077        0.003406        0.005519   \n",
       "EW_adj_close          0.002336       0.010817        0.004253        0.017884   \n",
       "CMCSA_adj_close      -0.000545      -0.001434       -0.000171       -0.006151   \n",
       "CSCO_adj_close       -0.000764       0.003084        0.005811       -0.000609   \n",
       "AMGN_adj_close       -0.000727       0.006010        0.006757        0.007093   \n",
       "\n",
       "Ticker           CAT_adj_close  JNJ_adj_close  ...  KO_adj_close  \\\n",
       "Ticker                                         ...                 \n",
       "PM_adj_close          0.002917       0.003488  ...      0.004143   \n",
       "LMT_adj_close         0.001916       0.002952  ...      0.000711   \n",
       "TSLA_adj_close        0.007447       0.003712  ...      0.000747   \n",
       "WMT_adj_close         0.003857       0.000961  ...      0.001825   \n",
       "DUK_adj_close        -0.000534       0.002356  ...      0.003074   \n",
       "...                        ...            ...  ...           ...   \n",
       "EXC_adj_close        -0.000021       0.003196  ...      0.003271   \n",
       "EW_adj_close          0.004813       0.006081  ...      0.000380   \n",
       "CMCSA_adj_close       0.003519      -0.000022  ...      0.000842   \n",
       "CSCO_adj_close        0.008700       0.004082  ...      0.001227   \n",
       "AMGN_adj_close        0.005478       0.005562  ...      0.001930   \n",
       "\n",
       "Ticker           BABA_adj_close  RTX_adj_close  ACN_adj_close  PG_adj_close  \\\n",
       "Ticker                                                                        \n",
       "PM_adj_close           0.003154       0.002020       0.002601      0.003949   \n",
       "LMT_adj_close          0.003669       0.006309       0.005261      0.000591   \n",
       "TSLA_adj_close         0.023544       0.004142       0.003794      0.002206   \n",
       "WMT_adj_close          0.002175       0.000964       0.005382      0.002094   \n",
       "DUK_adj_close         -0.003517       0.000869       0.001151      0.002409   \n",
       "...                         ...            ...            ...           ...   \n",
       "EXC_adj_close         -0.002326       0.000252       0.002039      0.002759   \n",
       "EW_adj_close           0.009129       0.007190       0.003493     -0.002036   \n",
       "CMCSA_adj_close       -0.003314       0.001010       0.002020      0.001761   \n",
       "CSCO_adj_close         0.005192       0.005338       0.006981      0.002324   \n",
       "AMGN_adj_close         0.006332       0.003797       0.002703      0.003577   \n",
       "\n",
       "Ticker           EXC_adj_close  EW_adj_close  CMCSA_adj_close  CSCO_adj_close  \\\n",
       "Ticker                                                                          \n",
       "PM_adj_close          0.003614      0.002264         0.001340        0.003849   \n",
       "LMT_adj_close         0.001182      0.006415         0.002323        0.005319   \n",
       "TSLA_adj_close       -0.001673      0.012830         0.005026        0.005765   \n",
       "WMT_adj_close        -0.001984      0.003306         0.000188        0.004552   \n",
       "DUK_adj_close         0.008283      0.002336        -0.000545       -0.000764   \n",
       "...                        ...           ...              ...             ...   \n",
       "EXC_adj_close         0.017281      0.000702        -0.001534        0.000289   \n",
       "EW_adj_close          0.000702      0.053983         0.002179        0.010712   \n",
       "CMCSA_adj_close      -0.001534      0.002179         0.042263        0.005995   \n",
       "CSCO_adj_close        0.000289      0.010712         0.005995        0.026896   \n",
       "AMGN_adj_close       -0.000726      0.006929         0.005409        0.008357   \n",
       "\n",
       "Ticker           AMGN_adj_close  \n",
       "Ticker                           \n",
       "PM_adj_close           0.004281  \n",
       "LMT_adj_close          0.001416  \n",
       "TSLA_adj_close         0.012714  \n",
       "WMT_adj_close          0.005077  \n",
       "DUK_adj_close         -0.000727  \n",
       "...                         ...  \n",
       "EXC_adj_close         -0.000726  \n",
       "EW_adj_close           0.006929  \n",
       "CMCSA_adj_close        0.005409  \n",
       "CSCO_adj_close         0.008357  \n",
       "AMGN_adj_close         0.028110  \n",
       "\n",
       "[94 rows x 94 columns]"
      ]
     },
     "execution_count": 4,
     "metadata": {},
     "output_type": "execute_result"
    }
   ],
   "source": [
    "annualized_returns = get_matrices(raw_data, max_combination ,None)[0][2]\n",
    "cov = get_matrices(raw_data, max_combination ,None)[0][1]\n",
    "names = get_matrices(raw_data, max_combination ,None)[0][0]\n",
    "volatility = np.sqrt(np.diag(cov)) #standard deviation\n",
    "\n",
    "risk_free_rate=0 \n",
    "sharpe_ratios = (annualized_returns - risk_free_rate) / volatility\n",
    "\n",
    "cov"
   ]
  },
  {
   "cell_type": "code",
   "execution_count": 5,
   "metadata": {},
   "outputs": [
    {
     "data": {
      "application/vnd.plotly.v1+json": {
       "config": {
        "plotlyServerURL": "https://plot.ly"
       },
       "data": [
        {
         "hoverinfo": "text",
         "hovertext": [
          "PM_adj_close <br>Volatility: 0.14 <br>Returns: -0.16% <br>Sharpe Ratio: -0.01",
          "LMT_adj_close <br>Volatility: 0.11 <br>Returns: 24.36% <br>Sharpe Ratio: 2.21",
          "TSLA_adj_close <br>Volatility: 0.36 <br>Returns: 26.10% <br>Sharpe Ratio: 0.73",
          "WMT_adj_close <br>Volatility: 0.18 <br>Returns: 43.06% <br>Sharpe Ratio: 2.37",
          "DUK_adj_close <br>Volatility: 0.09 <br>Returns: 6.18% <br>Sharpe Ratio: 0.66",
          "BSX_adj_close <br>Volatility: 0.17 <br>Returns: -1.01% <br>Sharpe Ratio: -0.06",
          "ORCL_adj_close <br>Volatility: 0.19 <br>Returns: 13.13% <br>Sharpe Ratio: 0.70",
          "SNAP_adj_close <br>Volatility: 0.63 <br>Returns: -61.94% <br>Sharpe Ratio: -0.98",
          "CAT_adj_close <br>Volatility: 0.20 <br>Returns: 64.11% <br>Sharpe Ratio: 3.25",
          "JNJ_adj_close <br>Volatility: 0.11 <br>Returns: 16.97% <br>Sharpe Ratio: 1.49",
          "XOM_adj_close <br>Volatility: 0.10 <br>Returns: 3.88% <br>Sharpe Ratio: 0.37",
          "WFC_adj_close <br>Volatility: 0.17 <br>Returns: 6.48% <br>Sharpe Ratio: 0.38",
          "SYY_adj_close <br>Volatility: 0.16 <br>Returns: 19.12% <br>Sharpe Ratio: 1.19",
          "META_adj_close <br>Volatility: 0.17 <br>Returns: 30.58% <br>Sharpe Ratio: 1.77",
          "AAPL_adj_close <br>Volatility: 0.18 <br>Returns: 25.04% <br>Sharpe Ratio: 1.42",
          "MSFT_adj_close <br>Volatility: 0.15 <br>Returns: 36.72% <br>Sharpe Ratio: 2.42",
          "MRK_adj_close <br>Volatility: 0.15 <br>Returns: -15.66% <br>Sharpe Ratio: -1.04",
          "ABT_adj_close <br>Volatility: 0.14 <br>Returns: 28.67% <br>Sharpe Ratio: 2.05",
          "ABBV_adj_close <br>Volatility: 0.18 <br>Returns: 54.05% <br>Sharpe Ratio: 3.03",
          "SYK_adj_close <br>Volatility: 0.16 <br>Returns: 21.73% <br>Sharpe Ratio: 1.40",
          "PEP_adj_close <br>Volatility: 0.10 <br>Returns: 12.73% <br>Sharpe Ratio: 1.30",
          "RDY_adj_close <br>Volatility: 0.30 <br>Returns: -11.92% <br>Sharpe Ratio: -0.39",
          "BTI_adj_close <br>Volatility: 0.19 <br>Returns: 11.15% <br>Sharpe Ratio: 0.58",
          "MDT_adj_close <br>Volatility: 0.15 <br>Returns: 0.82% <br>Sharpe Ratio: 0.05",
          "VZ_adj_close <br>Volatility: 0.17 <br>Returns: 11.30% <br>Sharpe Ratio: 0.67",
          "VRTX_adj_close <br>Volatility: 0.38 <br>Returns: 61.33% <br>Sharpe Ratio: 1.59",
          "MCD_adj_close <br>Volatility: 0.14 <br>Returns: 37.50% <br>Sharpe Ratio: 2.75",
          "HON_adj_close <br>Volatility: 0.10 <br>Returns: 25.07% <br>Sharpe Ratio: 2.47",
          "GOOG_adj_close <br>Volatility: 0.16 <br>Returns: 27.71% <br>Sharpe Ratio: 1.74",
          "TMO_adj_close <br>Volatility: 0.16 <br>Returns: 21.55% <br>Sharpe Ratio: 1.32",
          "PFE_adj_close <br>Volatility: 0.11 <br>Returns: 9.22% <br>Sharpe Ratio: 0.85",
          "MO_adj_close <br>Volatility: 0.18 <br>Returns: -2.75% <br>Sharpe Ratio: -0.15",
          "DHR_adj_close <br>Volatility: 0.13 <br>Returns: 9.07% <br>Sharpe Ratio: 0.71",
          "PYPL_adj_close <br>Volatility: 0.23 <br>Returns: 65.17% <br>Sharpe Ratio: 2.82",
          "EMR_adj_close <br>Volatility: 0.16 <br>Returns: 20.27% <br>Sharpe Ratio: 1.25",
          "GILD_adj_close <br>Volatility: 0.19 <br>Returns: 5.32% <br>Sharpe Ratio: 0.28",
          "GS_adj_close <br>Volatility: 0.20 <br>Returns: 2.94% <br>Sharpe Ratio: 0.15",
          "SAP_adj_close <br>Volatility: 0.14 <br>Returns: 22.38% <br>Sharpe Ratio: 1.63",
          "AMZN_adj_close <br>Volatility: 0.21 <br>Returns: 38.44% <br>Sharpe Ratio: 1.81",
          "UNH_adj_close <br>Volatility: 0.14 <br>Returns: 34.90% <br>Sharpe Ratio: 2.48",
          "INTC_adj_close <br>Volatility: 0.18 <br>Returns: 32.63% <br>Sharpe Ratio: 1.86",
          "GM_adj_close <br>Volatility: 0.19 <br>Returns: 14.71% <br>Sharpe Ratio: 0.78",
          "GIS_adj_close <br>Volatility: 0.17 <br>Returns: -0.03% <br>Sharpe Ratio: -0.00",
          "SO_adj_close <br>Volatility: 0.12 <br>Returns: -1.26% <br>Sharpe Ratio: -0.11",
          "GE_adj_close <br>Volatility: 0.21 <br>Returns: -62.75% <br>Sharpe Ratio: -2.95",
          "DIS_adj_close <br>Volatility: 0.16 <br>Returns: -1.54% <br>Sharpe Ratio: -0.10",
          "ETN_adj_close <br>Volatility: 0.16 <br>Returns: 13.76% <br>Sharpe Ratio: 0.89",
          "DE_adj_close <br>Volatility: 0.18 <br>Returns: 45.12% <br>Sharpe Ratio: 2.53",
          "NKE_adj_close <br>Volatility: 0.23 <br>Returns: 10.70% <br>Sharpe Ratio: 0.47",
          "NFLX_adj_close <br>Volatility: 0.29 <br>Returns: 38.28% <br>Sharpe Ratio: 1.33",
          "CVX_adj_close <br>Volatility: 0.14 <br>Returns: 15.44% <br>Sharpe Ratio: 1.09",
          "K_adj_close <br>Volatility: 0.18 <br>Returns: -9.01% <br>Sharpe Ratio: -0.50",
          "KR_adj_close <br>Volatility: 0.36 <br>Returns: -11.51% <br>Sharpe Ratio: -0.32",
          "AMD_adj_close <br>Volatility: 0.58 <br>Returns: -36.20% <br>Sharpe Ratio: -0.62",
          "NVDA_adj_close <br>Volatility: 0.39 <br>Returns: 80.73% <br>Sharpe Ratio: 2.05",
          "UA_adj_close <br>Volatility: 0.46 <br>Returns: -42.37% <br>Sharpe Ratio: -0.91",
          "T_adj_close <br>Volatility: 0.18 <br>Returns: -3.53% <br>Sharpe Ratio: -0.20",
          "AEP_adj_close <br>Volatility: 0.11 <br>Returns: 15.15% <br>Sharpe Ratio: 1.42",
          "SRE_adj_close <br>Volatility: 0.13 <br>Returns: 0.42% <br>Sharpe Ratio: 0.03",
          "RMD_adj_close <br>Volatility: 0.20 <br>Returns: 20.34% <br>Sharpe Ratio: 1.01",
          "BMY_adj_close <br>Volatility: 0.18 <br>Returns: 11.41% <br>Sharpe Ratio: 0.63",
          "IBM_adj_close <br>Volatility: 0.16 <br>Returns: -15.90% <br>Sharpe Ratio: -1.01",
          "COST_adj_close <br>Volatility: 0.20 <br>Returns: 11.21% <br>Sharpe Ratio: 0.56",
          "HD_adj_close <br>Volatility: 0.14 <br>Returns: 32.45% <br>Sharpe Ratio: 2.40",
          "TXN_adj_close <br>Volatility: 0.16 <br>Returns: 37.14% <br>Sharpe Ratio: 2.30",
          "BIIB_adj_close <br>Volatility: 0.23 <br>Returns: 9.80% <br>Sharpe Ratio: 0.43",
          "ISRG_adj_close <br>Volatility: 0.19 <br>Returns: 46.59% <br>Sharpe Ratio: 2.44",
          "MMM_adj_close <br>Volatility: 0.13 <br>Returns: 27.77% <br>Sharpe Ratio: 2.12",
          "REGN_adj_close <br>Volatility: 0.28 <br>Returns: 0.03% <br>Sharpe Ratio: 0.00",
          "V_adj_close <br>Volatility: 0.13 <br>Returns: 30.98% <br>Sharpe Ratio: 2.47",
          "GOOGL_adj_close <br>Volatility: 0.16 <br>Returns: 25.77% <br>Sharpe Ratio: 1.64",
          "BA_adj_close <br>Volatility: 0.17 <br>Returns: 59.54% <br>Sharpe Ratio: 3.42",
          "NEE_adj_close <br>Volatility: 0.11 <br>Returns: 23.55% <br>Sharpe Ratio: 2.10",
          "CPB_adj_close <br>Volatility: 0.24 <br>Returns: -23.67% <br>Sharpe Ratio: -0.98",
          "F_adj_close <br>Volatility: 0.17 <br>Returns: 3.00% <br>Sharpe Ratio: 0.18",
          "CRM_adj_close <br>Volatility: 0.16 <br>Returns: 25.48% <br>Sharpe Ratio: 1.63",
          "BAC_adj_close <br>Volatility: 0.21 <br>Returns: 20.36% <br>Sharpe Ratio: 0.97",
          "QCOM_adj_close <br>Volatility: 0.24 <br>Returns: 18.78% <br>Sharpe Ratio: 0.79",
          "MS_adj_close <br>Volatility: 0.20 <br>Returns: 16.83% <br>Sharpe Ratio: 0.86",
          "ADBE_adj_close <br>Volatility: 0.23 <br>Returns: 45.54% <br>Sharpe Ratio: 2.00",
          "ZBH_adj_close <br>Volatility: 0.19 <br>Returns: 3.62% <br>Sharpe Ratio: 0.19",
          "MA_adj_close <br>Volatility: 0.14 <br>Returns: 37.50% <br>Sharpe Ratio: 2.60",
          "LLY_adj_close <br>Volatility: 0.15 <br>Returns: 4.51% <br>Sharpe Ratio: 0.31",
          "JPM_adj_close <br>Volatility: 0.16 <br>Returns: 19.92% <br>Sharpe Ratio: 1.28",
          "KO_adj_close <br>Volatility: 0.09 <br>Returns: 13.24% <br>Sharpe Ratio: 1.53",
          "BABA_adj_close <br>Volatility: 0.27 <br>Returns: 61.61% <br>Sharpe Ratio: 2.30",
          "RTX_adj_close <br>Volatility: 0.14 <br>Returns: 16.98% <br>Sharpe Ratio: 1.24",
          "ACN_adj_close <br>Volatility: 0.13 <br>Returns: 27.35% <br>Sharpe Ratio: 2.06",
          "PG_adj_close <br>Volatility: 0.10 <br>Returns: 4.02% <br>Sharpe Ratio: 0.41",
          "EXC_adj_close <br>Volatility: 0.13 <br>Returns: 12.63% <br>Sharpe Ratio: 0.96",
          "EW_adj_close <br>Volatility: 0.23 <br>Returns: 22.60% <br>Sharpe Ratio: 0.97",
          "CMCSA_adj_close <br>Volatility: 0.21 <br>Returns: 9.55% <br>Sharpe Ratio: 0.46",
          "CSCO_adj_close <br>Volatility: 0.16 <br>Returns: 16.11% <br>Sharpe Ratio: 0.98",
          "AMGN_adj_close <br>Volatility: 0.17 <br>Returns: -0.36% <br>Sharpe Ratio: -0.02"
         ],
         "marker": {
          "color": [
           -0.011788674898980597,
           2.205580774396281,
           0.7278699276674386,
           2.3719071655970265,
           0.6550190205820153,
           -0.05937603717761842,
           0.7014851828314191,
           -0.978242602022043,
           3.2502460749495357,
           1.4850362542960374,
           0.3735331913830467,
           0.3800975015959299,
           1.1852775324849367,
           1.7711034695571557,
           1.4226587501960375,
           2.419475843596394,
           -1.0375301747252643,
           2.052499814422984,
           3.025929441834318,
           1.397700029835137,
           1.3018167428624308,
           -0.39158472407620637,
           0.5844746393601606,
           0.05410390130011961,
           0.6675666724792505,
           1.594697319377904,
           2.747754490489252,
           2.466755945355407,
           1.737311860617911,
           1.3226369763720334,
           0.8542055480577724,
           -0.15435473922777837,
           0.7061864139717722,
           2.816667181627303,
           1.2458945518862226,
           0.280840393510475,
           0.1500343560500706,
           1.6282706866246417,
           1.8134886743753469,
           2.4752966090054644,
           1.8581121278891906,
           0.7767752064188763,
           -0.0017324505314336841,
           -0.10593656584698474,
           -2.946768143959776,
           -0.09731166805030478,
           0.8858959588248353,
           2.5267977924609126,
           0.4739486484464596,
           1.334482112765852,
           1.0928465479447576,
           -0.49598947102585395,
           -0.31745281093674727,
           -0.6210342210648571,
           2.0505940577483677,
           -0.9130438983478647,
           -0.2013050384940241,
           1.4238172110149128,
           0.03112236655043702,
           1.0132783319885459,
           0.6325576624509038,
           -1.0093419372984502,
           0.5638141072575479,
           2.4036021844187445,
           2.300229323210225,
           0.4303155658488067,
           2.436297022421408,
           2.1181307639802025,
           0.0011305479815366636,
           2.4706146213035254,
           1.6384833292029406,
           3.4159286367752695,
           2.1005360393774315,
           -0.9842626344100358,
           0.18024878308995965,
           1.6341958668546421,
           0.9724651347770721,
           0.786273165841288,
           0.8578571995801388,
           1.9990106576721933,
           0.1862063202998929,
           2.601755813842419,
           0.30751728603455053,
           1.2756630757863694,
           1.5327191398737352,
           2.3046386032507757,
           1.2443249533320417,
           2.058528960497452,
           0.4103522260369363,
           0.9604788561489827,
           0.9728139120003079,
           0.46450740236734467,
           0.9823953784899149,
           -0.02117831080038453
          ],
          "colorbar": {
           "title": {
            "text": "Sharpe<br>Ratio"
           }
          },
          "colorscale": [
           [
            0,
            "rgb(103,0,31)"
           ],
           [
            0.1,
            "rgb(178,24,43)"
           ],
           [
            0.2,
            "rgb(214,96,77)"
           ],
           [
            0.3,
            "rgb(244,165,130)"
           ],
           [
            0.4,
            "rgb(253,219,199)"
           ],
           [
            0.5,
            "rgb(247,247,247)"
           ],
           [
            0.6,
            "rgb(209,229,240)"
           ],
           [
            0.7,
            "rgb(146,197,222)"
           ],
           [
            0.8,
            "rgb(67,147,195)"
           ],
           [
            0.9,
            "rgb(33,102,172)"
           ],
           [
            1,
            "rgb(5,48,97)"
           ]
          ],
          "line": {
           "width": 1
          },
          "size": 6
         },
         "mode": "markers",
         "type": "scatter",
         "x": [
          0.13970650973023047,
          0.11044788280063941,
          0.3586440729747569,
          0.18153509633735865,
          0.09441261177091674,
          0.17048174228034335,
          0.1872300160966017,
          0.6331561135623727,
          0.19723819791234576,
          0.11426216135193792,
          0.103864277825366,
          0.1705808660892527,
          0.1613527715999286,
          0.17268340459343298,
          0.17603614614136698,
          0.15176032655494093,
          0.15094823070304345,
          0.13967096149991276,
          0.178624813686276,
          0.15548453746992763,
          0.09778014114904272,
          0.30448745580205633,
          0.19083358800438,
          0.15165632033113638,
          0.16926600347915208,
          0.38461079403811105,
          0.13646408349863906,
          0.10162060847478219,
          0.15950603761663112,
          0.16295252826169784,
          0.1079063714731016,
          0.1779112291540835,
          0.12838874424676477,
          0.2313712472069639,
          0.16267452242841424,
          0.189464518752075,
          0.19626017439315238,
          0.13743808545603908,
          0.21197999166948445,
          0.14101006787738962,
          0.17559549580852046,
          0.18932214288303384,
          0.1737004006441584,
          0.11883322717982814,
          0.21295779452044533,
          0.1581098453603388,
          0.15536025914000878,
          0.17855744337581933,
          0.2256605013032082,
          0.2868595321810122,
          0.14131909559670924,
          0.18160067912717354,
          0.3626501936088515,
          0.5829409750542279,
          0.3937110746433895,
          0.4640278176906301,
          0.1751405590427117,
          0.10639551977899837,
          0.13375980883469232,
          0.2007700244710628,
          0.18038833197643828,
          0.15757642508444578,
          0.198779484086533,
          0.1350235925359777,
          0.16147177059976742,
          0.22771576065800483,
          0.19122207882255088,
          0.13111716966198206,
          0.28238062196890434,
          0.12540245109097223,
          0.1572564988109506,
          0.17430329578176426,
          0.11209914369569256,
          0.24044834641257887,
          0.16623253899597124,
          0.1559435178442191,
          0.20936584089330484,
          0.23880877778441678,
          0.19619707452225615,
          0.22781174361985862,
          0.19425537490371717,
          0.14413316971402373,
          0.14676928643315504,
          0.1561556677299809,
          0.08636056546459427,
          0.26733181031380604,
          0.13646208269533738,
          0.1328438562598178,
          0.09802841822108117,
          0.1314554975944478,
          0.23234263761447585,
          0.20557852966836693,
          0.16400089357848807,
          0.16766071932349125
         ],
         "y": [
          -0.0016469546244809565,
          0.243601726877864,
          0.2610462354544919,
          0.43058439580992747,
          0.06184205649277593,
          -0.010122530267742829,
          0.1313390820730542,
          -0.6193802840174196,
          0.6410726785947215,
          0.16968345210185135,
          0.03879675516680437,
          0.06483736102059483,
          0.19124781498156895,
          0.30584017701037125,
          0.25043936365880415,
          0.3671804441159799,
          -0.15661334417579817,
          0.2866746225588507,
          0.5405060827754722,
          0.21732074266062032,
          0.12729182486727553,
          -0.11923263636491431,
          0.11153739252666547,
          0.008205198586735126,
          0.1129963427064388,
          0.6133378022563828,
          0.3749697982238857,
          0.250673240125803,
          0.2771117309915399,
          0.21552703927223035,
          0.09217422118310632,
          -0.02746144138177208,
          0.09066638689396181,
          0.6516957987800329,
          0.20267530122425442,
          0.05320929000260552,
          0.029445768883351174,
          0.22378640577388095,
          0.3844233140867904,
          0.3490417428525329,
          0.3262761203645274,
          0.1470607466176326,
          -0.00030092735140621607,
          -0.012588783995945561,
          -0.6275372449007801,
          -0.015385932787190311,
          0.13763302573411296,
          0.4511785537494847,
          0.10695148960040607,
          0.38280891457194105,
          0.1544400857815389,
          -0.09007202477822264,
          -0.11512432334788551,
          -0.3620262943695907,
          0.8073415901334586,
          -0.4236777676061052,
          -0.03525667697995798,
          0.15148777223621546,
          0.004162921800269679,
          0.20343591550933807,
          0.11410602160843342,
          -0.1590484941672986,
          0.11207467736136456,
          0.3245430019675425,
          0.37142210160425976,
          0.09798963640024079,
          0.4658737812566125,
          0.27772331074705586,
          0.00031924484219201247,
          0.3098211292126562,
          0.2576621517105646,
          0.5954076195452386,
          0.23546829131615163,
          -0.23666432287958175,
          0.029963212863978076,
          0.254842252323796,
          0.20360098068202273,
          0.18776893373924203,
          0.16830907291547847,
          0.4553981034389827,
          0.036171578559297334,
          0.3749993122709973,
          0.045134092637151416,
          0.19920201939790175,
          0.13236649161790232,
          0.6161032099261112,
          0.1698031746814689,
          0.27346292533499567,
          0.04022617963190042,
          0.12626022596401057,
          0.22602615022220812,
          0.09549274879875122,
          0.16111371991972304,
          -0.003550770822848934
         ]
        }
       ],
       "layout": {
        "template": {
         "data": {
          "bar": [
           {
            "error_x": {
             "color": "#2a3f5f"
            },
            "error_y": {
             "color": "#2a3f5f"
            },
            "marker": {
             "line": {
              "color": "#E5ECF6",
              "width": 0.5
             },
             "pattern": {
              "fillmode": "overlay",
              "size": 10,
              "solidity": 0.2
             }
            },
            "type": "bar"
           }
          ],
          "barpolar": [
           {
            "marker": {
             "line": {
              "color": "#E5ECF6",
              "width": 0.5
             },
             "pattern": {
              "fillmode": "overlay",
              "size": 10,
              "solidity": 0.2
             }
            },
            "type": "barpolar"
           }
          ],
          "carpet": [
           {
            "aaxis": {
             "endlinecolor": "#2a3f5f",
             "gridcolor": "white",
             "linecolor": "white",
             "minorgridcolor": "white",
             "startlinecolor": "#2a3f5f"
            },
            "baxis": {
             "endlinecolor": "#2a3f5f",
             "gridcolor": "white",
             "linecolor": "white",
             "minorgridcolor": "white",
             "startlinecolor": "#2a3f5f"
            },
            "type": "carpet"
           }
          ],
          "choropleth": [
           {
            "colorbar": {
             "outlinewidth": 0,
             "ticks": ""
            },
            "type": "choropleth"
           }
          ],
          "contour": [
           {
            "colorbar": {
             "outlinewidth": 0,
             "ticks": ""
            },
            "colorscale": [
             [
              0,
              "#0d0887"
             ],
             [
              0.1111111111111111,
              "#46039f"
             ],
             [
              0.2222222222222222,
              "#7201a8"
             ],
             [
              0.3333333333333333,
              "#9c179e"
             ],
             [
              0.4444444444444444,
              "#bd3786"
             ],
             [
              0.5555555555555556,
              "#d8576b"
             ],
             [
              0.6666666666666666,
              "#ed7953"
             ],
             [
              0.7777777777777778,
              "#fb9f3a"
             ],
             [
              0.8888888888888888,
              "#fdca26"
             ],
             [
              1,
              "#f0f921"
             ]
            ],
            "type": "contour"
           }
          ],
          "contourcarpet": [
           {
            "colorbar": {
             "outlinewidth": 0,
             "ticks": ""
            },
            "type": "contourcarpet"
           }
          ],
          "heatmap": [
           {
            "colorbar": {
             "outlinewidth": 0,
             "ticks": ""
            },
            "colorscale": [
             [
              0,
              "#0d0887"
             ],
             [
              0.1111111111111111,
              "#46039f"
             ],
             [
              0.2222222222222222,
              "#7201a8"
             ],
             [
              0.3333333333333333,
              "#9c179e"
             ],
             [
              0.4444444444444444,
              "#bd3786"
             ],
             [
              0.5555555555555556,
              "#d8576b"
             ],
             [
              0.6666666666666666,
              "#ed7953"
             ],
             [
              0.7777777777777778,
              "#fb9f3a"
             ],
             [
              0.8888888888888888,
              "#fdca26"
             ],
             [
              1,
              "#f0f921"
             ]
            ],
            "type": "heatmap"
           }
          ],
          "heatmapgl": [
           {
            "colorbar": {
             "outlinewidth": 0,
             "ticks": ""
            },
            "colorscale": [
             [
              0,
              "#0d0887"
             ],
             [
              0.1111111111111111,
              "#46039f"
             ],
             [
              0.2222222222222222,
              "#7201a8"
             ],
             [
              0.3333333333333333,
              "#9c179e"
             ],
             [
              0.4444444444444444,
              "#bd3786"
             ],
             [
              0.5555555555555556,
              "#d8576b"
             ],
             [
              0.6666666666666666,
              "#ed7953"
             ],
             [
              0.7777777777777778,
              "#fb9f3a"
             ],
             [
              0.8888888888888888,
              "#fdca26"
             ],
             [
              1,
              "#f0f921"
             ]
            ],
            "type": "heatmapgl"
           }
          ],
          "histogram": [
           {
            "marker": {
             "pattern": {
              "fillmode": "overlay",
              "size": 10,
              "solidity": 0.2
             }
            },
            "type": "histogram"
           }
          ],
          "histogram2d": [
           {
            "colorbar": {
             "outlinewidth": 0,
             "ticks": ""
            },
            "colorscale": [
             [
              0,
              "#0d0887"
             ],
             [
              0.1111111111111111,
              "#46039f"
             ],
             [
              0.2222222222222222,
              "#7201a8"
             ],
             [
              0.3333333333333333,
              "#9c179e"
             ],
             [
              0.4444444444444444,
              "#bd3786"
             ],
             [
              0.5555555555555556,
              "#d8576b"
             ],
             [
              0.6666666666666666,
              "#ed7953"
             ],
             [
              0.7777777777777778,
              "#fb9f3a"
             ],
             [
              0.8888888888888888,
              "#fdca26"
             ],
             [
              1,
              "#f0f921"
             ]
            ],
            "type": "histogram2d"
           }
          ],
          "histogram2dcontour": [
           {
            "colorbar": {
             "outlinewidth": 0,
             "ticks": ""
            },
            "colorscale": [
             [
              0,
              "#0d0887"
             ],
             [
              0.1111111111111111,
              "#46039f"
             ],
             [
              0.2222222222222222,
              "#7201a8"
             ],
             [
              0.3333333333333333,
              "#9c179e"
             ],
             [
              0.4444444444444444,
              "#bd3786"
             ],
             [
              0.5555555555555556,
              "#d8576b"
             ],
             [
              0.6666666666666666,
              "#ed7953"
             ],
             [
              0.7777777777777778,
              "#fb9f3a"
             ],
             [
              0.8888888888888888,
              "#fdca26"
             ],
             [
              1,
              "#f0f921"
             ]
            ],
            "type": "histogram2dcontour"
           }
          ],
          "mesh3d": [
           {
            "colorbar": {
             "outlinewidth": 0,
             "ticks": ""
            },
            "type": "mesh3d"
           }
          ],
          "parcoords": [
           {
            "line": {
             "colorbar": {
              "outlinewidth": 0,
              "ticks": ""
             }
            },
            "type": "parcoords"
           }
          ],
          "pie": [
           {
            "automargin": true,
            "type": "pie"
           }
          ],
          "scatter": [
           {
            "fillpattern": {
             "fillmode": "overlay",
             "size": 10,
             "solidity": 0.2
            },
            "type": "scatter"
           }
          ],
          "scatter3d": [
           {
            "line": {
             "colorbar": {
              "outlinewidth": 0,
              "ticks": ""
             }
            },
            "marker": {
             "colorbar": {
              "outlinewidth": 0,
              "ticks": ""
             }
            },
            "type": "scatter3d"
           }
          ],
          "scattercarpet": [
           {
            "marker": {
             "colorbar": {
              "outlinewidth": 0,
              "ticks": ""
             }
            },
            "type": "scattercarpet"
           }
          ],
          "scattergeo": [
           {
            "marker": {
             "colorbar": {
              "outlinewidth": 0,
              "ticks": ""
             }
            },
            "type": "scattergeo"
           }
          ],
          "scattergl": [
           {
            "marker": {
             "colorbar": {
              "outlinewidth": 0,
              "ticks": ""
             }
            },
            "type": "scattergl"
           }
          ],
          "scattermapbox": [
           {
            "marker": {
             "colorbar": {
              "outlinewidth": 0,
              "ticks": ""
             }
            },
            "type": "scattermapbox"
           }
          ],
          "scatterpolar": [
           {
            "marker": {
             "colorbar": {
              "outlinewidth": 0,
              "ticks": ""
             }
            },
            "type": "scatterpolar"
           }
          ],
          "scatterpolargl": [
           {
            "marker": {
             "colorbar": {
              "outlinewidth": 0,
              "ticks": ""
             }
            },
            "type": "scatterpolargl"
           }
          ],
          "scatterternary": [
           {
            "marker": {
             "colorbar": {
              "outlinewidth": 0,
              "ticks": ""
             }
            },
            "type": "scatterternary"
           }
          ],
          "surface": [
           {
            "colorbar": {
             "outlinewidth": 0,
             "ticks": ""
            },
            "colorscale": [
             [
              0,
              "#0d0887"
             ],
             [
              0.1111111111111111,
              "#46039f"
             ],
             [
              0.2222222222222222,
              "#7201a8"
             ],
             [
              0.3333333333333333,
              "#9c179e"
             ],
             [
              0.4444444444444444,
              "#bd3786"
             ],
             [
              0.5555555555555556,
              "#d8576b"
             ],
             [
              0.6666666666666666,
              "#ed7953"
             ],
             [
              0.7777777777777778,
              "#fb9f3a"
             ],
             [
              0.8888888888888888,
              "#fdca26"
             ],
             [
              1,
              "#f0f921"
             ]
            ],
            "type": "surface"
           }
          ],
          "table": [
           {
            "cells": {
             "fill": {
              "color": "#EBF0F8"
             },
             "line": {
              "color": "white"
             }
            },
            "header": {
             "fill": {
              "color": "#C8D4E3"
             },
             "line": {
              "color": "white"
             }
            },
            "type": "table"
           }
          ]
         },
         "layout": {
          "annotationdefaults": {
           "arrowcolor": "#2a3f5f",
           "arrowhead": 0,
           "arrowwidth": 1
          },
          "autotypenumbers": "strict",
          "coloraxis": {
           "colorbar": {
            "outlinewidth": 0,
            "ticks": ""
           }
          },
          "colorscale": {
           "diverging": [
            [
             0,
             "#8e0152"
            ],
            [
             0.1,
             "#c51b7d"
            ],
            [
             0.2,
             "#de77ae"
            ],
            [
             0.3,
             "#f1b6da"
            ],
            [
             0.4,
             "#fde0ef"
            ],
            [
             0.5,
             "#f7f7f7"
            ],
            [
             0.6,
             "#e6f5d0"
            ],
            [
             0.7,
             "#b8e186"
            ],
            [
             0.8,
             "#7fbc41"
            ],
            [
             0.9,
             "#4d9221"
            ],
            [
             1,
             "#276419"
            ]
           ],
           "sequential": [
            [
             0,
             "#0d0887"
            ],
            [
             0.1111111111111111,
             "#46039f"
            ],
            [
             0.2222222222222222,
             "#7201a8"
            ],
            [
             0.3333333333333333,
             "#9c179e"
            ],
            [
             0.4444444444444444,
             "#bd3786"
            ],
            [
             0.5555555555555556,
             "#d8576b"
            ],
            [
             0.6666666666666666,
             "#ed7953"
            ],
            [
             0.7777777777777778,
             "#fb9f3a"
            ],
            [
             0.8888888888888888,
             "#fdca26"
            ],
            [
             1,
             "#f0f921"
            ]
           ],
           "sequentialminus": [
            [
             0,
             "#0d0887"
            ],
            [
             0.1111111111111111,
             "#46039f"
            ],
            [
             0.2222222222222222,
             "#7201a8"
            ],
            [
             0.3333333333333333,
             "#9c179e"
            ],
            [
             0.4444444444444444,
             "#bd3786"
            ],
            [
             0.5555555555555556,
             "#d8576b"
            ],
            [
             0.6666666666666666,
             "#ed7953"
            ],
            [
             0.7777777777777778,
             "#fb9f3a"
            ],
            [
             0.8888888888888888,
             "#fdca26"
            ],
            [
             1,
             "#f0f921"
            ]
           ]
          },
          "colorway": [
           "#636efa",
           "#EF553B",
           "#00cc96",
           "#ab63fa",
           "#FFA15A",
           "#19d3f3",
           "#FF6692",
           "#B6E880",
           "#FF97FF",
           "#FECB52"
          ],
          "font": {
           "color": "#2a3f5f"
          },
          "geo": {
           "bgcolor": "white",
           "lakecolor": "white",
           "landcolor": "#E5ECF6",
           "showlakes": true,
           "showland": true,
           "subunitcolor": "white"
          },
          "hoverlabel": {
           "align": "left"
          },
          "hovermode": "closest",
          "mapbox": {
           "style": "light"
          },
          "paper_bgcolor": "white",
          "plot_bgcolor": "#E5ECF6",
          "polar": {
           "angularaxis": {
            "gridcolor": "white",
            "linecolor": "white",
            "ticks": ""
           },
           "bgcolor": "#E5ECF6",
           "radialaxis": {
            "gridcolor": "white",
            "linecolor": "white",
            "ticks": ""
           }
          },
          "scene": {
           "xaxis": {
            "backgroundcolor": "#E5ECF6",
            "gridcolor": "white",
            "gridwidth": 2,
            "linecolor": "white",
            "showbackground": true,
            "ticks": "",
            "zerolinecolor": "white"
           },
           "yaxis": {
            "backgroundcolor": "#E5ECF6",
            "gridcolor": "white",
            "gridwidth": 2,
            "linecolor": "white",
            "showbackground": true,
            "ticks": "",
            "zerolinecolor": "white"
           },
           "zaxis": {
            "backgroundcolor": "#E5ECF6",
            "gridcolor": "white",
            "gridwidth": 2,
            "linecolor": "white",
            "showbackground": true,
            "ticks": "",
            "zerolinecolor": "white"
           }
          },
          "shapedefaults": {
           "line": {
            "color": "#2a3f5f"
           }
          },
          "ternary": {
           "aaxis": {
            "gridcolor": "white",
            "linecolor": "white",
            "ticks": ""
           },
           "baxis": {
            "gridcolor": "white",
            "linecolor": "white",
            "ticks": ""
           },
           "bgcolor": "#E5ECF6",
           "caxis": {
            "gridcolor": "white",
            "linecolor": "white",
            "ticks": ""
           }
          },
          "title": {
           "x": 0.05
          },
          "xaxis": {
           "automargin": true,
           "gridcolor": "white",
           "linecolor": "white",
           "ticks": "",
           "title": {
            "standoff": 15
           },
           "zerolinecolor": "white",
           "zerolinewidth": 2
          },
          "yaxis": {
           "automargin": true,
           "gridcolor": "white",
           "linecolor": "white",
           "ticks": "",
           "title": {
            "standoff": 15
           },
           "zerolinecolor": "white",
           "zerolinewidth": 2
          }
         }
        },
        "title": {
         "text": "Markowitz Mean Varience Model"
        },
        "xaxis": {
         "title": {
          "text": "Volatility (Standard Deviation)"
         }
        },
        "yaxis": {
         "title": {
          "text": "Annualized Returns"
         }
        }
       }
      }
     },
     "metadata": {},
     "output_type": "display_data"
    }
   ],
   "source": [
    "hover_texts = [\n",
    "    f\"{ticker} <br>Volatility: {vol:.2f} <br>Returns: {ret:.2%} <br>Sharpe Ratio: {sr:.2f}\"\n",
    "    for ticker, vol, ret, sr in zip(names, volatility, annualized_returns, sharpe_ratios)\n",
    "]\n",
    "\n",
    "fig = go.Figure(data=go.Scatter(\n",
    "    x=volatility, \n",
    "    y=annualized_returns, \n",
    "    mode='markers',\n",
    "    hoverinfo='text',\n",
    "    hovertext=hover_texts,\n",
    "    marker=dict(color=sharpe_ratios, colorscale = 'RdBu', size=6, line=dict(width=1), colorbar=dict(title=\"Sharpe<br>Ratio\")\n",
    "    )\n",
    "))\n",
    "\n",
    "fig.update_layout(\n",
    "    title='Markowitz Mean Varience Model',\n",
    "    xaxis_title='Volatility (Standard Deviation)',\n",
    "    yaxis_title='Annualized Returns',\n",
    ")\n",
    "\n",
    "fig.show()\n"
   ]
  },
  {
   "cell_type": "code",
   "execution_count": 6,
   "metadata": {},
   "outputs": [],
   "source": [
    "portfolio_size = 5\n",
    "number_of_portfolios = 1000\n",
    "\n",
    "mean_variance_pairs = []\n",
    "hover_texts = []\n",
    "\n",
    "tickers_list = []\n",
    "weights_list = []\n",
    "\n",
    "for _ in range(number_of_portfolios):\n",
    "    assets = np.random.choice(list(raw_data.columns), portfolio_size, replace=False)\n",
    "    weights = np.random.rand(portfolio_size)\n",
    "    weights /= weights.sum()\n",
    "\n",
    "    portfolio_E_Return = 0\n",
    "    portfolio_E_Variance = 0\n",
    "\n",
    "    for i in range(len(assets)):\n",
    "        portfolio_E_Return += weights[i] * annualized_returns.loc[assets[i]]\n",
    "        for j in range(len(assets)):\n",
    "            portfolio_E_Variance += weights[i] * weights[j] * cov.loc[assets[i], assets[j]]\n",
    "    \n",
    "    mean_variance_pairs.append([portfolio_E_Return, portfolio_E_Variance])\n",
    "    tickers_list.append(assets)\n",
    "    weights_list.append(weights)\n",
    "\n",
    "    hover_text = f\"Return: {portfolio_E_Return:.2%}<br>Volatility: {portfolio_E_Variance**0.5:.2f}<br>\" + \"<br>\".join([f\"{assets[i]}: {weights[i]:.2f}\" for i in range(portfolio_size)])\n",
    "    hover_texts.append(hover_text)\n",
    "\n",
    "mean_variance_pairs = np.array(mean_variance_pairs)"
   ]
  },
  {
   "cell_type": "code",
   "execution_count": 7,
   "metadata": {},
   "outputs": [
    {
     "data": {
      "application/vnd.plotly.v1+json": {
       "config": {
        "plotlyServerURL": "https://plot.ly"
       },
       "data": [
        {
         "marker": {
          "color": [
           2.2100875798208195,
           0.1898181752888939,
           0.8613026039929436,
           1.6644027898830789,
           1.0020980655683305,
           2.07606842377902,
           2.396989694749681,
           1.780277925637502,
           1.4817564302848132,
           0.865923725794456,
           1.3998536271354187,
           3.0903640267028645,
           2.389263751838338,
           3.319267590036492,
           0.0914470124270304,
           0.5954460099216966,
           0.7254068011882335,
           0.7849800620654532,
           3.2091253492841063,
           2.1175451911763226,
           1.7798067364977457,
           0.9355443351576461,
           2.0958615167806025,
           1.850756896186033,
           1.081797749390264,
           2.44241920137753,
           2.03877400797443,
           2.8382756172235912,
           0.01904169266297538,
           2.467559051356786,
           1.7815228392738947,
           3.1269918847131737,
           1.5991744006175894,
           2.981626084448674,
           -0.13052726763742287,
           2.117751632222836,
           1.9397812564845718,
           1.9395437614602526,
           1.0129131784647698,
           -0.03386648783459472,
           3.930319949837391,
           2.006165914793894,
           0.7261440135693644,
           0.5349815365714059,
           -0.2445332138585873,
           1.9228465777066304,
           0.2558819634045815,
           2.2923850881823293,
           1.0569755552601254,
           2.982683375411347,
           3.0441695469955907,
           4.251986691844695,
           1.386405124482969,
           2.4205719988816874,
           2.17341476755402,
           0.9791963269380599,
           0.7306878523953169,
           -0.610192480990806,
           1.4482780781982014,
           2.247786185541892,
           1.4750018723300995,
           2.9091968621130824,
           2.1702157058827196,
           1.454587035148573,
           3.554681214137101,
           0.12325711956116929,
           2.5985374104178596,
           2.0542758112113964,
           1.280371688627638,
           1.809779846158109,
           0.2466825474379072,
           1.7971513395629244,
           1.330166233284908,
           -0.250079509578527,
           2.2314540444101527,
           1.4655676420963313,
           -0.41545183272958025,
           1.6515236543213478,
           2.5471734050503914,
           1.8254750933554598,
           1.7054247970283123,
           1.5046349487147122,
           0.7054425538679292,
           1.6060658967620285,
           1.9288094790759291,
           -0.28758266212059724,
           3.1665124480543883,
           2.127052006917695,
           0.518356235140821,
           1.3145861788801465,
           1.3950028709304085,
           1.1398292476015603,
           3.4829936943481252,
           2.8947114328908383,
           1.8348778370414989,
           1.5497823564839095,
           1.1391300627107592,
           3.4907837052673076,
           0.9438958037501627,
           2.2128585645655674,
           2.148608529870997,
           0.9576119067050035,
           -0.31771578172788567,
           2.1969899761212783,
           1.754862366012648,
           0.5769026121589973,
           2.7740767970493967,
           2.801222293453304,
           2.057584908591958,
           1.6099883428801283,
           0.6297315064857963,
           0.5609318142950158,
           2.6921928363139296,
           0.39702151421310417,
           3.1127652151999614,
           0.8476521609831796,
           2.496874004649556,
           1.9751201472623612,
           1.1861581943366,
           1.0576162051625866,
           0.5995069935205599,
           0.4152917468085349,
           2.370572798784326,
           1.1574037208451187,
           1.4827696154428422,
           0.6857864879550515,
           1.1979873757480126,
           1.8556706721863008,
           0.02330151451610506,
           2.5616574112612582,
           0.2692951646777048,
           2.960756886302113,
           2.5628457145954724,
           -0.15604604313297507,
           2.1401795473197036,
           1.6369826012697895,
           2.0485195959788634,
           -2.0656464087134085,
           1.6792008288604858,
           2.9122458261825526,
           -0.6550256774268187,
           2.883976934514458,
           1.1613604316339254,
           0.6032043079805456,
           1.3448763944408269,
           0.09539320619790105,
           1.0696485833490974,
           1.7411198551442075,
           2.5589549058451913,
           1.7749701032925689,
           2.3593668033168953,
           1.868331404491579,
           2.429912192913901,
           1.292422022693322,
           1.3347078519926385,
           1.9352781424975172,
           2.3672426208128132,
           -0.0953442146777717,
           -0.15072339366670476,
           2.780793245916263,
           0.06878949525067062,
           0.30809873158157874,
           -0.409262161521126,
           0.2111982666416719,
           1.9778115104409195,
           0.7478623242265746,
           -0.020152849645949173,
           2.2036093794798584,
           1.687735722684547,
           1.5386829782582254,
           -0.7354206421910421,
           2.161801781321582,
           1.167659030757472,
           2.831052567790714,
           2.969122433691623,
           2.7294241152139596,
           0.6815288883542339,
           2.0768237119823536,
           1.8625339421541183,
           -0.281526784259173,
           2.528556374625947,
           1.8988565653767484,
           3.130833093635243,
           1.1085072487837546,
           2.1600352484349976,
           2.0469266837952698,
           0.03718485835090002,
           2.5013600238801077,
           -0.023977512867959426,
           1.2352526217521034,
           0.3759396051471253,
           1.6441228786122901,
           2.5759502309502715,
           1.3481186851748215,
           0.06496550413605716,
           -0.19275123515265602,
           -0.1800336270016014,
           0.9462720600946533,
           1.961771478440853,
           2.9988547948905326,
           1.7721763230235499,
           3.623864869525086,
           0.471933530078146,
           1.2378968884683428,
           0.49062884591434275,
           -0.1490306385116841,
           -0.503014752114366,
           1.9843308891926899,
           2.052567535278291,
           3.9752464562728824,
           2.0301675161572024,
           1.9821441348059743,
           1.0900277542748145,
           2.5716347123760506,
           2.2307525774060664,
           -0.03098826880263212,
           2.1493782034163713,
           0.861623491304455,
           2.582620984798395,
           0.17354182278168084,
           0.30101928945922224,
           1.5807016149352546,
           2.5870318193213895,
           1.921337038538824,
           -0.054457477433285946,
           -1.1331898445438626,
           1.9401295990822685,
           -0.7513698497580236,
           1.9407645369020416,
           2.6117103634199275,
           1.494397130013615,
           2.3278886341050575,
           0.31686587461663956,
           2.159922530688769,
           1.1836190770213635,
           1.6541546403753788,
           -0.07799368771184878,
           1.0440462271400626,
           2.646233964850005,
           1.213837419339526,
           1.4257964348749244,
           2.207058966476047,
           -0.015731608363513536,
           0.1441128363607989,
           -0.38744183586182357,
           1.9545925831278692,
           -0.20188564928754213,
           -0.19891370032969638,
           2.28128298307925,
           1.9431005462838784,
           1.1917767283893925,
           2.323365910301975,
           2.7187854509760396,
           0.580282990156563,
           2.3029712516068703,
           0.9979704108217364,
           1.8470227165457866,
           0.9499606874071788,
           2.823372870684925,
           1.5512874096215679,
           1.8009287973290617,
           -0.6072542277274432,
           -0.36476429555369777,
           1.39246630118975,
           1.9571767982186201,
           0.42528644732683357,
           0.534289486237002,
           -0.8808322994811557,
           0.3440291065195681,
           0.8387401973963022,
           -0.40559885142239227,
           0.6883184354190298,
           2.817063934029328,
           2.394510612347498,
           -0.05857554521879217,
           0.0614841184636459,
           1.4588567344554064,
           2.7653867353178385,
           2.571357035254176,
           2.3527525249198438,
           1.579461731056364,
           1.4181785661851767,
           0.11217345710668215,
           2.158042203618848,
           2.166499077506506,
           2.080958342886872,
           2.801418161760494,
           1.8810904161044415,
           0.49594459395205254,
           1.7447378052066265,
           0.4679218316700663,
           1.7811668756021264,
           0.3826611988337562,
           1.339586380714811,
           1.5423338660924772,
           2.2728160399649244,
           2.5099228495667587,
           2.0491813929087286,
           1.438670113223453,
           0.9116614428976912,
           2.148526864463309,
           -0.45363568908917906,
           0.8151098662963382,
           3.034321639263837,
           3.0335895535445068,
           2.988783337576506,
           0.5225051831334193,
           0.4172228658418024,
           1.6182671142249923,
           0.10905843336560811,
           3.1994310267807164,
           1.748851151609216,
           0.312177695550925,
           3.324799333253972,
           0.6901389264043414,
           0.3476334077151011,
           -0.05374334941329774,
           3.221301489583938,
           2.6932977245776657,
           -0.901186528142339,
           0.14647160810012383,
           3.3475856246622158,
           2.247481157254386,
           2.057636739817228,
           1.2591336011673497,
           0.7317240254643277,
           1.924415846600721,
           -0.6538119565084908,
           2.17309008989519,
           0.3089291728140685,
           1.3745490434616565,
           -0.3716151521614439,
           2.4110250303173855,
           2.3438148582216654,
           2.497554539673927,
           1.3088563568995968,
           0.7931619093704021,
           0.30660383828047966,
           0.6782576552567978,
           0.5174198757881789,
           0.2953393071795464,
           2.274460223756937,
           1.3094788407049598,
           0.9704187539721416,
           2.950444145983855,
           3.7256878003862486,
           2.097572381161528,
           1.494255091385592,
           1.0025784017801607,
           2.6911271800314744,
           1.7162554316128729,
           0.40427123703404577,
           1.8353750242969618,
           0.15440599115618622,
           1.3854749714513852,
           0.7461633640356136,
           2.7127151056860277,
           1.8549202045210318,
           0.03852074845052009,
           1.0064411635930932,
           -0.35308795540686877,
           -0.12843188054660482,
           1.308773737408783,
           -0.9896121511445901,
           0.9303008565720795,
           -0.7796277007740939,
           1.1985482244557233,
           4.062196359320329,
           0.7909330179815451,
           -0.3294530784479382,
           0.7797661471479229,
           2.075981855370782,
           -0.339892305889576,
           1.0925724145055031,
           1.345448230648412,
           3.2320590382238525,
           0.625995684951623,
           0.3795596532616031,
           1.4109302350577873,
           0.9571941126793567,
           1.8580482274638845,
           0.3083118128754982,
           -0.3122066764483973,
           1.4886466759283885,
           1.4670038973272017,
           -2.6254599772406646,
           2.8304315323812137,
           -0.5175265577985928,
           0.3138368503173911,
           2.5131323753485315,
           1.3131904010023923,
           2.1858445086900566,
           2.4894875731908477,
           -0.4585907203851894,
           1.6515617620914076,
           2.2779497806500806,
           1.4869209092872226,
           0.6302859064312036,
           0.7940608243353796,
           -0.0928554399035346,
           2.159297289157211,
           2.121439178195942,
           0.7024643482136382,
           2.176793841197646,
           0.4594511013923753,
           0.4951944315275089,
           2.033844410838716,
           2.09699132994243,
           3.7983768504426014,
           0.2663581555394029,
           1.718142370731971,
           -0.0225036068468592,
           1.5138191977070963,
           1.302114951459644,
           1.5737901913047325,
           0.7267475631010376,
           -0.4186370088643167,
           2.4518191823528297,
           1.3588264754810928,
           1.3450269466993516,
           2.30466795145979,
           1.1971232795017948,
           1.5344137021772803,
           0.9868583474304522,
           2.3846220996601133,
           2.6247185732019505,
           1.3545860012721755,
           -0.30327470194722844,
           0.14525217964748643,
           2.6375102952545357,
           3.1109455506553747,
           1.1785217534421855,
           2.960600910365194,
           0.8543336078725262,
           -0.024898801167403544,
           1.767785612953678,
           3.4609240896266202,
           0.9878490687137821,
           1.652228304198613,
           -1.5163720290404004,
           1.9630183687100267,
           1.1847750959784054,
           1.0404667095279898,
           1.2205215692362337,
           1.8089134581707718,
           0.6773370615251767,
           1.3862948660277865,
           2.2176563121672492,
           1.1155282677067324,
           2.5105740860022525,
           2.9404102515240997,
           2.0267318223202544,
           2.3272588950074296,
           0.8864817584341144,
           1.5341599005075313,
           3.026988061576931,
           1.933914768325497,
           0.9131796962075768,
           1.2713430731166866,
           -0.22470909166815645,
           -0.1319105494707614,
           2.8769197410274923,
           0.07676258686361062,
           1.905850293759498,
           0.4483413607733596,
           1.4425576888846239,
           2.1560843973711425,
           2.3493635339354273,
           2.0257014187727687,
           3.389080164655103,
           3.5277469705346207,
           0.6207330519772506,
           0.5219815430696246,
           0.557697505692027,
           2.691371952392389,
           1.6891949131598873,
           0.7216265258147183,
           1.3318383139366394,
           1.0968364813569145,
           -0.41872414780128286,
           1.8904673067247306,
           1.2764645852825132,
           1.0512643071175098,
           2.9325650479526524,
           0.5645566009314555,
           1.1709636205506369,
           1.9808947047824448,
           0.974917447677237,
           1.9002236125003318,
           1.4053560396039015,
           1.2765685732937924,
           0.499729815081256,
           -0.32660912799555814,
           0.9802598887984827,
           -0.7560828574907624,
           -0.08046539688146871,
           1.1416395116284435,
           1.065177112381994,
           0.7347239909155221,
           -0.2039476621224767,
           2.746291891435118,
           0.5887285289220635,
           2.5253619344140144,
           1.3426784596072083,
           1.1993748360688385,
           1.6316260456260858,
           1.5327501023278396,
           3.0407163031324362,
           2.1277948264597457,
           3.4433435453462096,
           1.5992069736660555,
           0.9511924871305437,
           2.266186700452627,
           1.179178042082842,
           3.3059270531786673,
           0.9244897904696187,
           1.6507174740810011,
           2.3714641841772712,
           1.6908720359248384,
           1.6129148095606207,
           1.6503335024970085,
           3.0612788547325094,
           1.7130950931421498,
           0.8970619032565335,
           1.3358397413844383,
           2.716310341042099,
           1.4550318583761597,
           1.8346310293352537,
           1.2675675127175166,
           0.6846344120264054,
           0.7221703812409911,
           1.9135901506618762,
           2.8263419666293124,
           0.6355801155938055,
           2.4666632705147276,
           -0.1607728046576356,
           2.253234509306833,
           2.0702287752180366,
           1.7745802101653991,
           1.931041749129812,
           1.1929143950827865,
           -0.29098895717391093,
           0.36096512085495,
           -0.3091690388331132,
           1.542842730957596,
           2.389078379186907,
           0.32287268846629724,
           2.0276202623080577,
           0.3323489996422123,
           0.8414305850141288,
           1.8070173418916398,
           2.8696601958148014,
           1.4034190958486499,
           0.019526786144027048,
           2.1193399863130535,
           3.7287241388814243,
           1.9996232931500808,
           1.1584913929168226,
           -1.1798560745872888,
           -0.5584925984101706,
           1.340320063442548,
           1.3027362727161165,
           3.156553959933433,
           0.7236989237780339,
           1.503530357867604,
           1.6151158351610007,
           0.42501517733724525,
           0.11257688296898047,
           1.1836894767265795,
           0.8923660444598855,
           1.4729064508141632,
           3.272140541677801,
           1.8764394859586058,
           1.2733338693393808,
           1.0270584695720215,
           2.191604438625219,
           1.62358668045355,
           0.10610972077176256,
           1.4280752981131561,
           0.3061953790810431,
           2.080139067281379,
           0.16519089866220177,
           2.0305315140796854,
           2.210439054794676,
           0.3226188844852629,
           1.3521836325051153,
           -0.6164134927228445,
           2.26254034001937,
           2.4287158475005377,
           2.545306509958983,
           -0.3728023610880725,
           0.45833120861658966,
           1.1931588138255587,
           1.5603233493133202,
           -0.026162022458631615,
           0.48727276875489495,
           0.24841960498039775,
           1.4054558079281687,
           2.483316184092146,
           1.1576255092383712,
           2.6003400551552276,
           1.8926101638920105,
           0.7786237843526682,
           1.2401813795450212,
           1.0180528301663407,
           0.9878426801304616,
           2.7037666883605413,
           1.4355178775995991,
           0.7194760750389436,
           2.579380188657479,
           0.7743478665046415,
           2.339427881374134,
           2.3106571999855183,
           1.9478777317952976,
           2.2635794924900137,
           1.182567299225425,
           0.6797985159842392,
           1.7894026347791858,
           1.3759361675721755,
           1.5722995155750565,
           2.967959298285097,
           1.8588037213519504,
           1.5958521908651069,
           2.599519818022701,
           0.7003297360359707,
           0.8287527141614371,
           2.0928653438819906,
           1.8616981963227557,
           0.8931443141044514,
           1.2205059799058016,
           2.6219141435878783,
           1.8648497422983683,
           2.4527377750981465,
           1.8975775617283466,
           2.56914532435263,
           1.3926830232061513,
           1.0062442263968077,
           1.0894282777348192,
           2.7607312268529385,
           3.3101995474570947,
           2.216064142900698,
           2.340736857555825,
           -0.8521381111225208,
           -0.1644416905938455,
           2.1205336363119525,
           2.4157439253545183,
           2.1005667503652297,
           0.47719608455480117,
           -0.46604683256793245,
           2.170763890082703,
           1.9134394783315496,
           1.894198423043075,
           0.9116777964490608,
           0.8956834905417345,
           1.341799224448202,
           2.669351108560139,
           1.1077604837257005,
           0.09985588328268587,
           0.8683503457468774,
           0.6813206071717173,
           4.155860930612158,
           2.20732968948794,
           0.7371010659423507,
           1.9242501546821753,
           1.5069210111250981,
           2.672832197944682,
           2.898931139501117,
           0.9208336369265363,
           2.085160718645287,
           2.97814142638064,
           1.8350406398752281,
           0.5993489163301531,
           2.439211241258487,
           1.3327164531791933,
           1.4415161350334804,
           1.7818773506879861,
           2.1719387353554915,
           1.9485636121352066,
           2.1628372124167736,
           1.5989513456984423,
           1.7124747374997118,
           2.327884607469707,
           0.5355426303445678,
           1.9618790796971124,
           3.133626528764933,
           1.2728941141046386,
           1.2058948123785205,
           2.507134964012623,
           2.629695277337497,
           0.45770392890374595,
           2.3621534514587395,
           2.8117150281548637,
           1.83095224874607,
           2.165394049903169,
           1.5310909337082532,
           1.3689180439932267,
           2.5828124559981105,
           0.84438562806218,
           0.037823667788359196,
           1.733251144284449,
           -0.27865834673010265,
           1.3646538009345612,
           1.9879960363156939,
           2.516629580255538,
           1.8157661646366243,
           0.7223045244812741,
           1.7000855655818246,
           1.8971649094739238,
           0.6411036793910515,
           2.618401483239423,
           1.617301740395971,
           0.8902241344570786,
           3.0797818564265067,
           1.807748007996356,
           3.0660006766202064,
           0.18684206511426643,
           1.5171865120665704,
           1.5128480539443374,
           1.547835537503147,
           2.2799394339607884,
           2.6740511199102257,
           2.893493052103796,
           0.8415126125120045,
           0.9903863025307217,
           1.329657996167057,
           2.1738313622300773,
           2.573220527148945,
           1.369234701087447,
           1.4002750648377948,
           1.9089384028853722,
           1.2113643344105887,
           1.796068564920963,
           3.126402622133507,
           1.3028806734850777,
           -0.18191798614670363,
           2.7997252189297352,
           2.629416208966945,
           2.340144205191786,
           1.5892808683757609,
           1.9437513572100737,
           -0.40082322943121373,
           0.637468567987021,
           1.1306377615618577,
           2.668860067631678,
           -0.3750849121513292,
           2.310974147483598,
           2.069162403989544,
           2.5672000956463004,
           1.2353029018788462,
           -0.3406413986810361,
           -0.5459943984857305,
           -0.7868759305976744,
           2.676542078406575,
           2.2411478931569198,
           2.889827550616837,
           0.6905039178016733,
           0.7472103018549388,
           1.8067953735891744,
           1.8475286497046493,
           2.4816109758702503,
           -0.25621212431904966,
           2.54974520354129,
           2.939610981436133,
           0.6084871523811477,
           2.726806832696672,
           2.2025575362685745,
           1.6823704592591888,
           1.3762518742532244,
           1.8581868266959671,
           3.8448447536112056,
           1.15523316881058,
           1.6311710557838797,
           1.4870658242185177,
           1.8168594200380146,
           0.7403504109635317,
           0.2488164720836488,
           -0.4121613701512846,
           1.373504763703161,
           2.9655167158239606,
           0.509160904014239,
           1.0526877635962748,
           -0.05226244698677531,
           2.308194050621113,
           0.7392835659207772,
           2.9023077711878074,
           1.0613537534662822,
           0.932935282517029,
           0.5319648613618175,
           0.2169148770768024,
           2.2978150069218284,
           3.7204615663513745,
           1.989949850129289,
           1.8396840431865313,
           1.3308360675926734,
           0.11711436850866623,
           1.7845575753766854,
           1.6385598938223558,
           2.126436022079602,
           0.3017480065357679,
           1.251198046700938,
           -0.4748846335647086,
           0.4785913353495048,
           3.0123191841534567,
           1.9285461291576318,
           0.15644013472613277,
           2.5043483049547346,
           1.261817252032753,
           2.361635761643484,
           -0.31252762443060284,
           3.1936793813619833,
           0.4991650300058855,
           1.2910108031000918,
           2.3119748971108,
           1.3629746276222814,
           1.0636392435488338,
           2.754260433608684,
           2.692471556601365,
           1.3295831843486272,
           -0.3511418766633,
           1.3782855298796661,
           1.7971466594868912,
           -0.19958233330535846,
           1.9606586499570704,
           0.49652200175115363,
           0.9463217705176518,
           1.3114700671420545,
           -0.14249850811987413,
           0.8228349496123495,
           0.5973329836042576,
           2.995288888795763,
           0.7875357637588314,
           2.5234393246469433,
           3.0109496654745547,
           0.7713474650367464,
           3.3533208369653393,
           -1.0477138379111308,
           2.353382531626412,
           0.8390749878106062,
           1.510145411962865,
           1.5371727756135594,
           1.6528617661417044,
           1.267029077455622,
           2.286223258414647,
           2.5954434732054645,
           3.556039909173247,
           0.6273138553928583,
           1.248824234800275,
           2.687871926176554,
           1.390876727774321,
           2.011452945607812,
           2.9647959705983067,
           2.794101228234655,
           2.7226930966395555,
           3.2057366687872864,
           1.2191411543993358,
           0.9394575766466087,
           2.3440677544701494,
           1.1942622952851503,
           1.9786904169932549,
           -0.34235127137119387,
           1.348790397710125,
           0.49752117293076265,
           -0.8699209005912582,
           2.3716679128037943,
           1.754344864702639,
           -2.2846590170716943,
           1.4016529384294214,
           2.0038895819497213,
           0.4605372228458282,
           2.3650791863910823,
           -0.4415154944321703,
           4.341689823872578,
           2.57648611688882,
           2.8835495550030563,
           2.9337540449888984,
           1.9254486094960346,
           1.7624715268383964,
           2.171226424769972,
           2.440749413676403,
           1.6418493722802816,
           1.9825509239204533,
           2.445703351970457,
           -0.9817096962009655,
           2.2158704113408145,
           3.0840848836320554,
           1.6445015140770523,
           3.889272416798666,
           0.36842807372568503,
           3.038406383408144,
           2.3043344875537324,
           3.5411208518726642,
           2.1133177136590398,
           2.5202375173959766,
           0.2948082227827746,
           0.7536579112505457,
           2.195761483364653,
           0.8332084949502234,
           1.7392166775596476,
           1.1564537212584358,
           1.7511102911198209,
           2.3449607107372543,
           2.2624301258337662,
           1.9573103859176195,
           2.7742101366992875,
           2.9673060528507755,
           0.7059095911508737,
           -0.2232329876717131,
           1.786099244178761,
           1.7824966446006183,
           1.2047440383931216,
           1.2276432791107506,
           0.9594470339061675,
           0.032152389894795734,
           -0.08579194027065862,
           1.2484151015002134,
           2.468341364692135,
           2.08680545385991,
           0.3815649845442301,
           1.2552902242077144,
           1.5380415295387568,
           2.4483162263144016,
           1.6743042232423964,
           0.058901659904739646,
           1.8398057534824774,
           1.424462255617092,
           2.785941423357892,
           3.161116584610863,
           0.6590015915670526,
           1.1964712079965274,
           0.2546747965595589,
           2.0725506229586834,
           1.8905658050585548,
           1.2433839903158586,
           1.895024568405274,
           0.9141087669658141,
           2.0864259892655603,
           2.294323120855429,
           1.360335699856493,
           -0.4517840584719886,
           2.4115864661846174,
           1.273873921097085,
           1.6661220683402769,
           0.011252339222547458,
           1.8846664635288546,
           2.5690484907216047,
           2.3933311417700005,
           2.0285232660479235,
           2.8088163659264596,
           0.784457469499345,
           2.249299824777251,
           2.657463564670006,
           1.9238199616314842,
           1.5179559232375857,
           1.33418305000547,
           2.3178424692761483,
           1.1857378611689666,
           1.6482182445368583,
           2.253600094761704,
           0.7464320397295303,
           0.3579701238025707,
           2.174434729111793,
           1.9538127005836043,
           1.8862320638176162,
           1.9110665226003345,
           0.8166721203303373,
           1.6520358133282735,
           0.8787131298048492,
           1.5120263741742952,
           0.3555737262601769,
           0.9957998178127283,
           1.5535343057483084,
           1.1199051101048745,
           1.593377083442767,
           3.9642764157537664,
           2.2602448431745468,
           0.4485440182470561,
           2.6596171679851976,
           0.6844787724795522,
           3.1033689516905887,
           3.1772310367948413,
           2.927997900437865,
           -0.2401325606205965,
           2.940844165024972,
           0.8636616104890215,
           2.4842936733721626,
           1.8883235401500913,
           -0.27358528397224596,
           2.410934977354238,
           2.191665803576101,
           2.959064251414003,
           3.308461951556977,
           1.7433483678375052,
           1.4326443609520947,
           0.7445286901742058,
           1.8849110379970218,
           0.3368820501730011,
           2.762126434935015,
           3.8757877109323777,
           1.080606292782842,
           -0.5391681460155917
          ],
          "colorbar": {
           "title": {
            "text": "Sharpe<br>Ratio"
           }
          },
          "colorscale": [
           [
            0,
            "rgb(103,0,31)"
           ],
           [
            0.1,
            "rgb(178,24,43)"
           ],
           [
            0.2,
            "rgb(214,96,77)"
           ],
           [
            0.3,
            "rgb(244,165,130)"
           ],
           [
            0.4,
            "rgb(253,219,199)"
           ],
           [
            0.5,
            "rgb(247,247,247)"
           ],
           [
            0.6,
            "rgb(209,229,240)"
           ],
           [
            0.7,
            "rgb(146,197,222)"
           ],
           [
            0.8,
            "rgb(67,147,195)"
           ],
           [
            0.9,
            "rgb(33,102,172)"
           ],
           [
            1,
            "rgb(5,48,97)"
           ]
          ],
          "line": {
           "width": 1
          },
          "showscale": true,
          "size": 7
         },
         "mode": "markers",
         "text": [
          "Return: 32.21%<br>Volatility: 0.15<br>CRM_adj_close: 0.22<br>PYPL_adj_close: 0.28<br>REGN_adj_close: 0.26<br>MSFT_adj_close: 0.21<br>AAPL_adj_close: 0.03",
          "Return: 2.08%<br>Volatility: 0.11<br>EW_adj_close: 0.25<br>GILD_adj_close: 0.15<br>CPB_adj_close: 0.24<br>AMGN_adj_close: 0.27<br>EXC_adj_close: 0.09",
          "Return: 16.81%<br>Volatility: 0.20<br>T_adj_close: 0.11<br>BABA_adj_close: 0.20<br>AMD_adj_close: 0.27<br>WMT_adj_close: 0.30<br>AEP_adj_close: 0.12",
          "Return: 27.77%<br>Volatility: 0.17<br>COST_adj_close: 0.51<br>VRTX_adj_close: 0.32<br>BIIB_adj_close: 0.04<br>SYK_adj_close: 0.06<br>NKE_adj_close: 0.06",
          "Return: 11.48%<br>Volatility: 0.11<br>RTX_adj_close: 0.16<br>COST_adj_close: 0.02<br>SYY_adj_close: 0.30<br>AAPL_adj_close: 0.04<br>ZBH_adj_close: 0.48",
          "Return: 23.68%<br>Volatility: 0.11<br>NKE_adj_close: 0.19<br>ORCL_adj_close: 0.19<br>GM_adj_close: 0.26<br>META_adj_close: 0.27<br>NVDA_adj_close: 0.09",
          "Return: 26.11%<br>Volatility: 0.11<br>PYPL_adj_close: 0.28<br>COST_adj_close: 0.15<br>NEE_adj_close: 0.17<br>GS_adj_close: 0.20<br>WFC_adj_close: 0.19",
          "Return: 18.12%<br>Volatility: 0.10<br>DE_adj_close: 0.12<br>META_adj_close: 0.22<br>NKE_adj_close: 0.11<br>COST_adj_close: 0.28<br>WFC_adj_close: 0.27",
          "Return: 13.74%<br>Volatility: 0.09<br>MMM_adj_close: 0.28<br>SYY_adj_close: 0.10<br>LLY_adj_close: 0.19<br>REGN_adj_close: 0.15<br>VZ_adj_close: 0.28",
          "Return: 8.43%<br>Volatility: 0.10<br>GILD_adj_close: 0.06<br>GM_adj_close: 0.18<br>K_adj_close: 0.24<br>HON_adj_close: 0.28<br>GS_adj_close: 0.24",
          "Return: 11.50%<br>Volatility: 0.08<br>PEP_adj_close: 0.01<br>COST_adj_close: 0.15<br>MDT_adj_close: 0.24<br>SYY_adj_close: 0.26<br>KO_adj_close: 0.33",
          "Return: 31.46%<br>Volatility: 0.10<br>ADBE_adj_close: 0.17<br>MSFT_adj_close: 0.23<br>ABBV_adj_close: 0.15<br>EMR_adj_close: 0.29<br>PFE_adj_close: 0.16",
          "Return: 24.12%<br>Volatility: 0.10<br>AEP_adj_close: 0.21<br>GOOG_adj_close: 0.56<br>HON_adj_close: 0.05<br>RMD_adj_close: 0.02<br>NEE_adj_close: 0.15",
          "Return: 39.16%<br>Volatility: 0.12<br>ACN_adj_close: 0.12<br>PYPL_adj_close: 0.25<br>CRM_adj_close: 0.28<br>MCD_adj_close: 0.27<br>MMM_adj_close: 0.08",
          "Return: 0.79%<br>Volatility: 0.09<br>ACN_adj_close: 0.05<br>SO_adj_close: 0.30<br>MSFT_adj_close: 0.10<br>MRK_adj_close: 0.22<br>BSX_adj_close: 0.33",
          "Return: 6.29%<br>Volatility: 0.11<br>HON_adj_close: 0.36<br>UA_adj_close: 0.09<br>AMD_adj_close: 0.05<br>REGN_adj_close: 0.17<br>DHR_adj_close: 0.32",
          "Return: 8.60%<br>Volatility: 0.12<br>CMCSA_adj_close: 0.32<br>LMT_adj_close: 0.14<br>BTI_adj_close: 0.19<br>GOOG_adj_close: 0.22<br>UA_adj_close: 0.14",
          "Return: 8.12%<br>Volatility: 0.10<br>LLY_adj_close: 0.30<br>WMT_adj_close: 0.06<br>SNAP_adj_close: 0.08<br>EXC_adj_close: 0.27<br>BAC_adj_close: 0.29",
          "Return: 29.69%<br>Volatility: 0.09<br>MSFT_adj_close: 0.04<br>ACN_adj_close: 0.15<br>LMT_adj_close: 0.12<br>HON_adj_close: 0.38<br>MA_adj_close: 0.31",
          "Return: 26.68%<br>Volatility: 0.13<br>NFLX_adj_close: 0.26<br>BABA_adj_close: 0.07<br>KR_adj_close: 0.05<br>JPM_adj_close: 0.32<br>SAP_adj_close: 0.30",
          "Return: 14.87%<br>Volatility: 0.08<br>SO_adj_close: 0.17<br>WFC_adj_close: 0.05<br>BAC_adj_close: 0.30<br>EXC_adj_close: 0.31<br>GOOG_adj_close: 0.17",
          "Return: 9.81%<br>Volatility: 0.10<br>IBM_adj_close: 0.24<br>TXN_adj_close: 0.14<br>CSCO_adj_close: 0.28<br>ETN_adj_close: 0.06<br>BTI_adj_close: 0.27",
          "Return: 19.90%<br>Volatility: 0.09<br>AMZN_adj_close: 0.30<br>MDT_adj_close: 0.18<br>SAP_adj_close: 0.13<br>JNJ_adj_close: 0.22<br>PFE_adj_close: 0.17",
          "Return: 22.53%<br>Volatility: 0.12<br>F_adj_close: 0.23<br>SYK_adj_close: 0.20<br>INTC_adj_close: 0.31<br>TSLA_adj_close: 0.19<br>NFLX_adj_close: 0.06",
          "Return: 11.82%<br>Volatility: 0.11<br>GE_adj_close: 0.18<br>PM_adj_close: 0.03<br>MMM_adj_close: 0.24<br>ADBE_adj_close: 0.29<br>BMY_adj_close: 0.27",
          "Return: 25.43%<br>Volatility: 0.10<br>AAPL_adj_close: 0.27<br>GOOG_adj_close: 0.35<br>JPM_adj_close: 0.05<br>NEE_adj_close: 0.31<br>MA_adj_close: 0.01",
          "Return: 17.68%<br>Volatility: 0.09<br>XOM_adj_close: 0.14<br>AMZN_adj_close: 0.34<br>AEP_adj_close: 0.33<br>PEP_adj_close: 0.14<br>GE_adj_close: 0.04",
          "Return: 26.17%<br>Volatility: 0.09<br>AEP_adj_close: 0.08<br>MMM_adj_close: 0.04<br>HON_adj_close: 0.34<br>NFLX_adj_close: 0.05<br>ACN_adj_close: 0.48",
          "Return: 0.45%<br>Volatility: 0.23<br>SAP_adj_close: 0.17<br>CAT_adj_close: 0.17<br>SNAP_adj_close: 0.35<br>LMT_adj_close: 0.30<br>BTI_adj_close: 0.00",
          "Return: 21.93%<br>Volatility: 0.09<br>KO_adj_close: 0.16<br>PM_adj_close: 0.29<br>LLY_adj_close: 0.19<br>ABBV_adj_close: 0.28<br>ADBE_adj_close: 0.09",
          "Return: 25.09%<br>Volatility: 0.14<br>GOOGL_adj_close: 0.32<br>ZBH_adj_close: 0.01<br>RDY_adj_close: 0.33<br>MCD_adj_close: 0.06<br>CAT_adj_close: 0.29",
          "Return: 22.29%<br>Volatility: 0.07<br>XOM_adj_close: 0.13<br>LMT_adj_close: 0.37<br>UNH_adj_close: 0.02<br>PEP_adj_close: 0.36<br>BABA_adj_close: 0.12",
          "Return: 18.94%<br>Volatility: 0.12<br>WFC_adj_close: 0.03<br>AMZN_adj_close: 0.01<br>CAT_adj_close: 0.25<br>XOM_adj_close: 0.21<br>F_adj_close: 0.50",
          "Return: 30.97%<br>Volatility: 0.10<br>ABBV_adj_close: 0.13<br>REGN_adj_close: 0.24<br>CAT_adj_close: 0.19<br>SO_adj_close: 0.17<br>DE_adj_close: 0.27",
          "Return: -1.43%<br>Volatility: 0.11<br>SNAP_adj_close: 0.12<br>CAT_adj_close: 0.11<br>IBM_adj_close: 0.16<br>LLY_adj_close: 0.38<br>DIS_adj_close: 0.24",
          "Return: 16.70%<br>Volatility: 0.08<br>BMY_adj_close: 0.15<br>GOOG_adj_close: 0.10<br>DIS_adj_close: 0.37<br>NKE_adj_close: 0.05<br>MCD_adj_close: 0.33",
          "Return: 19.12%<br>Volatility: 0.10<br>MRK_adj_close: 0.16<br>NFLX_adj_close: 0.18<br>SAP_adj_close: 0.23<br>MCD_adj_close: 0.22<br>WFC_adj_close: 0.21",
          "Return: 29.79%<br>Volatility: 0.15<br>MDT_adj_close: 0.22<br>NVDA_adj_close: 0.30<br>SO_adj_close: 0.11<br>QCOM_adj_close: 0.16<br>ETN_adj_close: 0.21",
          "Return: 11.75%<br>Volatility: 0.12<br>HON_adj_close: 0.27<br>MRK_adj_close: 0.06<br>RMD_adj_close: 0.27<br>UA_adj_close: 0.10<br>MS_adj_close: 0.30",
          "Return: -0.65%<br>Volatility: 0.19<br>WMT_adj_close: 0.09<br>DUK_adj_close: 0.09<br>UA_adj_close: 0.39<br>MMM_adj_close: 0.26<br>GOOG_adj_close: 0.16",
          "Return: 39.55%<br>Volatility: 0.10<br>NFLX_adj_close: 0.02<br>TXN_adj_close: 0.33<br>ABBV_adj_close: 0.36<br>VRTX_adj_close: 0.01<br>NEE_adj_close: 0.29",
          "Return: 16.38%<br>Volatility: 0.08<br>EMR_adj_close: 0.21<br>V_adj_close: 0.03<br>BTI_adj_close: 0.18<br>PEP_adj_close: 0.33<br>JPM_adj_close: 0.26",
          "Return: 7.14%<br>Volatility: 0.10<br>CPB_adj_close: 0.30<br>PYPL_adj_close: 0.06<br>MRK_adj_close: 0.07<br>MMM_adj_close: 0.37<br>DUK_adj_close: 0.19",
          "Return: 9.83%<br>Volatility: 0.18<br>BA_adj_close: 0.20<br>SNAP_adj_close: 0.26<br>ISRG_adj_close: 0.25<br>V_adj_close: 0.08<br>DIS_adj_close: 0.20",
          "Return: -2.16%<br>Volatility: 0.09<br>MRK_adj_close: 0.21<br>XOM_adj_close: 0.25<br>WFC_adj_close: 0.14<br>ETN_adj_close: 0.12<br>K_adj_close: 0.27",
          "Return: 21.36%<br>Volatility: 0.11<br>JPM_adj_close: 0.13<br>RMD_adj_close: 0.22<br>RDY_adj_close: 0.19<br>MA_adj_close: 0.18<br>UNH_adj_close: 0.28",
          "Return: 4.58%<br>Volatility: 0.18<br>SYK_adj_close: 0.22<br>KR_adj_close: 0.11<br>VRTX_adj_close: 0.10<br>UA_adj_close: 0.31<br>HD_adj_close: 0.26",
          "Return: 23.19%<br>Volatility: 0.10<br>DE_adj_close: 0.01<br>CSCO_adj_close: 0.31<br>LMT_adj_close: 0.58<br>BTI_adj_close: 0.00<br>TXN_adj_close: 0.09",
          "Return: 10.45%<br>Volatility: 0.10<br>LLY_adj_close: 0.02<br>CPB_adj_close: 0.18<br>ISRG_adj_close: 0.27<br>MRK_adj_close: 0.24<br>SYY_adj_close: 0.29",
          "Return: 32.45%<br>Volatility: 0.11<br>MCD_adj_close: 0.15<br>META_adj_close: 0.39<br>CPB_adj_close: 0.05<br>F_adj_close: 0.06<br>DE_adj_close: 0.35",
          "Return: 33.24%<br>Volatility: 0.11<br>DE_adj_close: 0.12<br>META_adj_close: 0.28<br>V_adj_close: 0.19<br>EMR_adj_close: 0.22<br>ISRG_adj_close: 0.20",
          "Return: 37.76%<br>Volatility: 0.09<br>GM_adj_close: 0.04<br>KO_adj_close: 0.26<br>ABBV_adj_close: 0.38<br>BA_adj_close: 0.10<br>HD_adj_close: 0.23",
          "Return: 15.70%<br>Volatility: 0.11<br>VZ_adj_close: 0.30<br>CMCSA_adj_close: 0.27<br>ACN_adj_close: 0.06<br>UNH_adj_close: 0.04<br>EMR_adj_close: 0.33",
          "Return: 22.44%<br>Volatility: 0.09<br>CMCSA_adj_close: 0.25<br>ORCL_adj_close: 0.24<br>MCD_adj_close: 0.28<br>V_adj_close: 0.20<br>BIIB_adj_close: 0.03",
          "Return: 21.06%<br>Volatility: 0.10<br>VZ_adj_close: 0.11<br>KO_adj_close: 0.31<br>HD_adj_close: 0.08<br>RMD_adj_close: 0.39<br>DE_adj_close: 0.12",
          "Return: 7.97%<br>Volatility: 0.08<br>LMT_adj_close: 0.20<br>AAPL_adj_close: 0.15<br>MRK_adj_close: 0.40<br>NEE_adj_close: 0.07<br>SYK_adj_close: 0.18",
          "Return: 5.88%<br>Volatility: 0.08<br>PG_adj_close: 0.24<br>SRE_adj_close: 0.11<br>RTX_adj_close: 0.10<br>ORCL_adj_close: 0.31<br>T_adj_close: 0.24",
          "Return: -12.74%<br>Volatility: 0.21<br>HON_adj_close: 0.21<br>CVX_adj_close: 0.11<br>SNAP_adj_close: 0.31<br>T_adj_close: 0.11<br>AMGN_adj_close: 0.27",
          "Return: 12.09%<br>Volatility: 0.08<br>GOOGL_adj_close: 0.19<br>CPB_adj_close: 0.15<br>V_adj_close: 0.37<br>MRK_adj_close: 0.08<br>F_adj_close: 0.22",
          "Return: 24.31%<br>Volatility: 0.11<br>PG_adj_close: 0.23<br>VRTX_adj_close: 0.13<br>GILD_adj_close: 0.16<br>NFLX_adj_close: 0.17<br>HON_adj_close: 0.32",
          "Return: 11.90%<br>Volatility: 0.08<br>AAPL_adj_close: 0.17<br>MRK_adj_close: 0.33<br>CVX_adj_close: 0.21<br>JNJ_adj_close: 0.05<br>MCD_adj_close: 0.23",
          "Return: 24.36%<br>Volatility: 0.08<br>V_adj_close: 0.13<br>AMZN_adj_close: 0.24<br>AEP_adj_close: 0.22<br>NKE_adj_close: 0.16<br>LMT_adj_close: 0.25",
          "Return: 29.16%<br>Volatility: 0.13<br>DE_adj_close: 0.12<br>RMD_adj_close: 0.38<br>INTC_adj_close: 0.43<br>HD_adj_close: 0.07<br>ZBH_adj_close: 0.01",
          "Return: 14.19%<br>Volatility: 0.10<br>V_adj_close: 0.12<br>CVX_adj_close: 0.14<br>EMR_adj_close: 0.29<br>BSX_adj_close: 0.37<br>INTC_adj_close: 0.08",
          "Return: 35.31%<br>Volatility: 0.10<br>BSX_adj_close: 0.10<br>GIS_adj_close: 0.04<br>ABT_adj_close: 0.36<br>CAT_adj_close: 0.33<br>LMT_adj_close: 0.17",
          "Return: 1.79%<br>Volatility: 0.15<br>MO_adj_close: 0.27<br>VZ_adj_close: 0.29<br>AMD_adj_close: 0.19<br>QCOM_adj_close: 0.07<br>MMM_adj_close: 0.17",
          "Return: 19.57%<br>Volatility: 0.08<br>BTI_adj_close: 0.13<br>HON_adj_close: 0.43<br>MMM_adj_close: 0.06<br>EXC_adj_close: 0.07<br>CVX_adj_close: 0.32",
          "Return: 23.14%<br>Volatility: 0.11<br>TSLA_adj_close: 0.05<br>SYK_adj_close: 0.18<br>GM_adj_close: 0.32<br>INTC_adj_close: 0.25<br>AAPL_adj_close: 0.20",
          "Return: 13.11%<br>Volatility: 0.10<br>MMM_adj_close: 0.17<br>CPB_adj_close: 0.18<br>BIIB_adj_close: 0.05<br>PYPL_adj_close: 0.21<br>T_adj_close: 0.39",
          "Return: 26.98%<br>Volatility: 0.15<br>VRTX_adj_close: 0.31<br>AAPL_adj_close: 0.07<br>MO_adj_close: 0.40<br>ISRG_adj_close: 0.16<br>SO_adj_close: 0.06",
          "Return: 4.03%<br>Volatility: 0.16<br>JPM_adj_close: 0.11<br>QCOM_adj_close: 0.24<br>DIS_adj_close: 0.11<br>UA_adj_close: 0.27<br>HD_adj_close: 0.27",
          "Return: 23.06%<br>Volatility: 0.13<br>UNH_adj_close: 0.25<br>ADBE_adj_close: 0.23<br>MS_adj_close: 0.10<br>UA_adj_close: 0.17<br>TXN_adj_close: 0.25",
          "Return: 15.44%<br>Volatility: 0.12<br>V_adj_close: 0.12<br>COST_adj_close: 0.17<br>BAC_adj_close: 0.01<br>CMCSA_adj_close: 0.40<br>SYY_adj_close: 0.30",
          "Return: -6.14%<br>Volatility: 0.25<br>ABBV_adj_close: 0.03<br>PFE_adj_close: 0.09<br>SAP_adj_close: 0.26<br>SNAP_adj_close: 0.36<br>HD_adj_close: 0.26",
          "Return: 25.16%<br>Volatility: 0.11<br>RMD_adj_close: 0.22<br>GOOGL_adj_close: 0.33<br>MSFT_adj_close: 0.05<br>DE_adj_close: 0.22<br>GS_adj_close: 0.18",
          "Return: 21.25%<br>Volatility: 0.14<br>REGN_adj_close: 0.14<br>ABBV_adj_close: 0.12<br>KO_adj_close: 0.35<br>TSLA_adj_close: 0.35<br>EW_adj_close: 0.03",
          "Return: -5.58%<br>Volatility: 0.13<br>UA_adj_close: 0.21<br>VZ_adj_close: 0.06<br>KO_adj_close: 0.32<br>T_adj_close: 0.39<br>K_adj_close: 0.02",
          "Return: 16.07%<br>Volatility: 0.10<br>BSX_adj_close: 0.25<br>DIS_adj_close: 0.06<br>DUK_adj_close: 0.19<br>AMZN_adj_close: 0.33<br>AEP_adj_close: 0.17",
          "Return: 33.60%<br>Volatility: 0.13<br>RMD_adj_close: 0.15<br>GILD_adj_close: 0.13<br>WMT_adj_close: 0.66<br>QCOM_adj_close: 0.06<br>DE_adj_close: 0.01",
          "Return: 15.34%<br>Volatility: 0.08<br>INTC_adj_close: 0.25<br>VZ_adj_close: 0.14<br>NEE_adj_close: 0.20<br>F_adj_close: 0.29<br>REGN_adj_close: 0.12",
          "Return: 29.90%<br>Volatility: 0.18<br>DHR_adj_close: 0.25<br>F_adj_close: 0.16<br>NVDA_adj_close: 0.36<br>RDY_adj_close: 0.20<br>EW_adj_close: 0.04",
          "Return: 14.04%<br>Volatility: 0.09<br>INTC_adj_close: 0.22<br>HON_adj_close: 0.17<br>PM_adj_close: 0.40<br>BIIB_adj_close: 0.18<br>ABT_adj_close: 0.03",
          "Return: 8.87%<br>Volatility: 0.13<br>MSFT_adj_close: 0.04<br>ZBH_adj_close: 0.08<br>IBM_adj_close: 0.26<br>EW_adj_close: 0.46<br>LLY_adj_close: 0.17",
          "Return: 15.91%<br>Volatility: 0.10<br>MDT_adj_close: 0.24<br>NEE_adj_close: 0.09<br>COST_adj_close: 0.29<br>WFC_adj_close: 0.25<br>PYPL_adj_close: 0.13",
          "Return: 14.97%<br>Volatility: 0.08<br>DUK_adj_close: 0.23<br>AEP_adj_close: 0.42<br>GM_adj_close: 0.20<br>ZBH_adj_close: 0.00<br>ABT_adj_close: 0.15",
          "Return: -9.72%<br>Volatility: 0.34<br>JNJ_adj_close: 0.05<br>AMD_adj_close: 0.54<br>DHR_adj_close: 0.06<br>AAPL_adj_close: 0.31<br>EW_adj_close: 0.04",
          "Return: 35.90%<br>Volatility: 0.11<br>BA_adj_close: 0.29<br>QCOM_adj_close: 0.19<br>MA_adj_close: 0.25<br>LMT_adj_close: 0.05<br>BAC_adj_close: 0.22",
          "Return: 27.37%<br>Volatility: 0.13<br>PYPL_adj_close: 0.27<br>BMY_adj_close: 0.02<br>SNAP_adj_close: 0.09<br>ACN_adj_close: 0.35<br>EMR_adj_close: 0.27",
          "Return: 5.55%<br>Volatility: 0.11<br>DHR_adj_close: 0.42<br>SRE_adj_close: 0.17<br>CSCO_adj_close: 0.20<br>ISRG_adj_close: 0.02<br>KR_adj_close: 0.20",
          "Return: 16.03%<br>Volatility: 0.12<br>XOM_adj_close: 0.18<br>ZBH_adj_close: 0.06<br>MCD_adj_close: 0.06<br>AMZN_adj_close: 0.10<br>GM_adj_close: 0.59",
          "Return: 14.66%<br>Volatility: 0.11<br>NVDA_adj_close: 0.09<br>MS_adj_close: 0.14<br>PM_adj_close: 0.27<br>F_adj_close: 0.35<br>GOOG_adj_close: 0.15",
          "Return: 14.11%<br>Volatility: 0.12<br>VRTX_adj_close: 0.17<br>SYK_adj_close: 0.08<br>MDT_adj_close: 0.21<br>AMGN_adj_close: 0.38<br>BTI_adj_close: 0.16",
          "Return: 34.95%<br>Volatility: 0.10<br>MMM_adj_close: 0.12<br>BABA_adj_close: 0.15<br>MCD_adj_close: 0.21<br>ORCL_adj_close: 0.28<br>DE_adj_close: 0.25",
          "Return: 28.84%<br>Volatility: 0.10<br>WMT_adj_close: 0.05<br>TXN_adj_close: 0.40<br>F_adj_close: 0.10<br>GOOG_adj_close: 0.13<br>HON_adj_close: 0.32",
          "Return: 20.95%<br>Volatility: 0.11<br>NKE_adj_close: 0.43<br>NEE_adj_close: 0.09<br>GILD_adj_close: 0.06<br>MSFT_adj_close: 0.25<br>MMM_adj_close: 0.17",
          "Return: 21.33%<br>Volatility: 0.14<br>MO_adj_close: 0.22<br>AMZN_adj_close: 0.17<br>ZBH_adj_close: 0.02<br>NKE_adj_close: 0.26<br>NFLX_adj_close: 0.33",
          "Return: 8.92%<br>Volatility: 0.08<br>KR_adj_close: 0.08<br>AMGN_adj_close: 0.24<br>AEP_adj_close: 0.40<br>HD_adj_close: 0.12<br>PM_adj_close: 0.17",
          "Return: 33.93%<br>Volatility: 0.10<br>LLY_adj_close: 0.23<br>HD_adj_close: 0.16<br>AMZN_adj_close: 0.27<br>CAT_adj_close: 0.26<br>BTI_adj_close: 0.09",
          "Return: 10.68%<br>Volatility: 0.11<br>BSX_adj_close: 0.16<br>AMZN_adj_close: 0.06<br>UNH_adj_close: 0.30<br>KR_adj_close: 0.19<br>MDT_adj_close: 0.29",
          "Return: 23.87%<br>Volatility: 0.11<br>LMT_adj_close: 0.07<br>MRK_adj_close: 0.26<br>GM_adj_close: 0.24<br>MA_adj_close: 0.21<br>PYPL_adj_close: 0.23",
          "Return: 30.51%<br>Volatility: 0.14<br>GIS_adj_close: 0.16<br>NFLX_adj_close: 0.33<br>PFE_adj_close: 0.13<br>VRTX_adj_close: 0.10<br>TXN_adj_close: 0.28",
          "Return: 8.23%<br>Volatility: 0.09<br>MCD_adj_close: 0.07<br>EXC_adj_close: 0.44<br>BMY_adj_close: 0.22<br>GE_adj_close: 0.08<br>ETN_adj_close: 0.19",
          "Return: -4.13%<br>Volatility: 0.13<br>BMY_adj_close: 0.27<br>UA_adj_close: 0.18<br>SYK_adj_close: 0.18<br>CPB_adj_close: 0.13<br>BSX_adj_close: 0.24",
          "Return: 21.12%<br>Volatility: 0.10<br>ORCL_adj_close: 0.15<br>RTX_adj_close: 0.45<br>CSCO_adj_close: 0.02<br>ABT_adj_close: 0.33<br>INTC_adj_close: 0.05",
          "Return: 17.55%<br>Volatility: 0.10<br>CAT_adj_close: 0.15<br>CVX_adj_close: 0.43<br>DIS_adj_close: 0.10<br>VZ_adj_close: 0.04<br>ZBH_adj_close: 0.28",
          "Return: 8.94%<br>Volatility: 0.16<br>PEP_adj_close: 0.17<br>AEP_adj_close: 0.19<br>SNAP_adj_close: 0.21<br>NEE_adj_close: 0.26<br>BABA_adj_close: 0.17",
          "Return: 31.06%<br>Volatility: 0.11<br>ETN_adj_close: 0.27<br>PYPL_adj_close: 0.12<br>K_adj_close: 0.20<br>CAT_adj_close: 0.28<br>GOOGL_adj_close: 0.13",
          "Return: 29.39%<br>Volatility: 0.10<br>BIIB_adj_close: 0.09<br>CMCSA_adj_close: 0.15<br>RMD_adj_close: 0.27<br>ABBV_adj_close: 0.19<br>MCD_adj_close: 0.30",
          "Return: 17.05%<br>Volatility: 0.08<br>K_adj_close: 0.17<br>PFE_adj_close: 0.20<br>ISRG_adj_close: 0.18<br>AEP_adj_close: 0.20<br>SYK_adj_close: 0.24",
          "Return: 17.25%<br>Volatility: 0.11<br>AEP_adj_close: 0.17<br>SYK_adj_close: 0.09<br>BA_adj_close: 0.32<br>CPB_adj_close: 0.32<br>GM_adj_close: 0.10",
          "Return: 6.40%<br>Volatility: 0.10<br>RTX_adj_close: 0.23<br>AMGN_adj_close: 0.07<br>BABA_adj_close: 0.14<br>KO_adj_close: 0.20<br>CPB_adj_close: 0.37",
          "Return: 6.87%<br>Volatility: 0.12<br>CVX_adj_close: 0.32<br>RDY_adj_close: 0.34<br>KO_adj_close: 0.05<br>RTX_adj_close: 0.25<br>GOOGL_adj_close: 0.04",
          "Return: 24.18%<br>Volatility: 0.09<br>BA_adj_close: 0.25<br>BAC_adj_close: 0.25<br>ABT_adj_close: 0.12<br>EXC_adj_close: 0.26<br>CPB_adj_close: 0.11",
          "Return: 9.45%<br>Volatility: 0.24<br>SNAP_adj_close: 0.31<br>NVDA_adj_close: 0.22<br>JPM_adj_close: 0.00<br>ACN_adj_close: 0.20<br>EMR_adj_close: 0.27",
          "Return: 32.82%<br>Volatility: 0.11<br>K_adj_close: 0.02<br>LMT_adj_close: 0.24<br>AAPL_adj_close: 0.33<br>CAT_adj_close: 0.28<br>WFC_adj_close: 0.12",
          "Return: 14.47%<br>Volatility: 0.17<br>TSLA_adj_close: 0.37<br>CPB_adj_close: 0.11<br>ACN_adj_close: 0.25<br>SAP_adj_close: 0.18<br>AMD_adj_close: 0.09",
          "Return: 28.48%<br>Volatility: 0.11<br>VRTX_adj_close: 0.09<br>PYPL_adj_close: 0.32<br>WFC_adj_close: 0.24<br>GIS_adj_close: 0.30<br>COST_adj_close: 0.06",
          "Return: 23.90%<br>Volatility: 0.12<br>DIS_adj_close: 0.22<br>T_adj_close: 0.29<br>VRTX_adj_close: 0.20<br>BA_adj_close: 0.16<br>ACN_adj_close: 0.13",
          "Return: 9.32%<br>Volatility: 0.08<br>SYY_adj_close: 0.17<br>NEE_adj_close: 0.20<br>DHR_adj_close: 0.31<br>SO_adj_close: 0.24<br>RDY_adj_close: 0.09",
          "Return: 12.86%<br>Volatility: 0.12<br>T_adj_close: 0.19<br>BAC_adj_close: 0.22<br>BIIB_adj_close: 0.21<br>META_adj_close: 0.21<br>GS_adj_close: 0.17",
          "Return: 4.60%<br>Volatility: 0.08<br>SO_adj_close: 0.04<br>GILD_adj_close: 0.25<br>F_adj_close: 0.05<br>DUK_adj_close: 0.49<br>MDT_adj_close: 0.17",
          "Return: 4.16%<br>Volatility: 0.10<br>GE_adj_close: 0.08<br>GILD_adj_close: 0.32<br>PFE_adj_close: 0.37<br>LMT_adj_close: 0.21<br>UA_adj_close: 0.03",
          "Return: 17.52%<br>Volatility: 0.07<br>MA_adj_close: 0.19<br>ACN_adj_close: 0.06<br>RMD_adj_close: 0.01<br>LMT_adj_close: 0.28<br>XOM_adj_close: 0.46",
          "Return: 12.11%<br>Volatility: 0.10<br>BMY_adj_close: 0.35<br>MO_adj_close: 0.15<br>GILD_adj_close: 0.11<br>GS_adj_close: 0.24<br>ADBE_adj_close: 0.16",
          "Return: 14.73%<br>Volatility: 0.10<br>EMR_adj_close: 0.30<br>COST_adj_close: 0.18<br>SYK_adj_close: 0.10<br>GILD_adj_close: 0.14<br>ORCL_adj_close: 0.27",
          "Return: 6.78%<br>Volatility: 0.10<br>KO_adj_close: 0.05<br>INTC_adj_close: 0.34<br>MRK_adj_close: 0.25<br>MO_adj_close: 0.34<br>ZBH_adj_close: 0.02",
          "Return: 10.38%<br>Volatility: 0.09<br>WFC_adj_close: 0.24<br>EXC_adj_close: 0.19<br>MMM_adj_close: 0.17<br>COST_adj_close: 0.21<br>T_adj_close: 0.19",
          "Return: 14.76%<br>Volatility: 0.08<br>JNJ_adj_close: 0.34<br>EXC_adj_close: 0.15<br>SNAP_adj_close: 0.05<br>T_adj_close: 0.13<br>V_adj_close: 0.34",
          "Return: 0.29%<br>Volatility: 0.12<br>LLY_adj_close: 0.13<br>K_adj_close: 0.26<br>RDY_adj_close: 0.33<br>REGN_adj_close: 0.05<br>GOOGL_adj_close: 0.23",
          "Return: 24.36%<br>Volatility: 0.10<br>NFLX_adj_close: 0.04<br>SYY_adj_close: 0.27<br>EXC_adj_close: 0.24<br>BABA_adj_close: 0.24<br>PM_adj_close: 0.21",
          "Return: 3.01%<br>Volatility: 0.11<br>PG_adj_close: 0.03<br>MRK_adj_close: 0.56<br>JPM_adj_close: 0.09<br>NFLX_adj_close: 0.21<br>JNJ_adj_close: 0.11",
          "Return: 39.96%<br>Volatility: 0.13<br>AAPL_adj_close: 0.17<br>NVDA_adj_close: 0.22<br>WMT_adj_close: 0.32<br>SAP_adj_close: 0.17<br>SRE_adj_close: 0.12",
          "Return: 34.80%<br>Volatility: 0.14<br>RTX_adj_close: 0.33<br>RDY_adj_close: 0.03<br>BABA_adj_close: 0.38<br>ORCL_adj_close: 0.20<br>PYPL_adj_close: 0.05",
          "Return: -2.31%<br>Volatility: 0.15<br>PFE_adj_close: 0.32<br>REGN_adj_close: 0.27<br>PG_adj_close: 0.12<br>DUK_adj_close: 0.11<br>AMD_adj_close: 0.18",
          "Return: 21.05%<br>Volatility: 0.10<br>T_adj_close: 0.07<br>PG_adj_close: 0.14<br>JPM_adj_close: 0.18<br>MS_adj_close: 0.04<br>ABT_adj_close: 0.58",
          "Return: 29.11%<br>Volatility: 0.18<br>AMZN_adj_close: 0.34<br>ABT_adj_close: 0.01<br>AMD_adj_close: 0.20<br>CAT_adj_close: 0.33<br>CVX_adj_close: 0.13",
          "Return: 14.08%<br>Volatility: 0.07<br>GS_adj_close: 0.18<br>NEE_adj_close: 0.08<br>TMO_adj_close: 0.17<br>AEP_adj_close: 0.33<br>PEP_adj_close: 0.24",
          "Return: -22.90%<br>Volatility: 0.11<br>PM_adj_close: 0.18<br>UNH_adj_close: 0.01<br>GE_adj_close: 0.36<br>CVX_adj_close: 0.25<br>CPB_adj_close: 0.20",
          "Return: 22.32%<br>Volatility: 0.13<br>DHR_adj_close: 0.00<br>COST_adj_close: 0.30<br>SRE_adj_close: 0.28<br>PEP_adj_close: 0.14<br>VRTX_adj_close: 0.28",
          "Return: 35.69%<br>Volatility: 0.12<br>GOOG_adj_close: 0.22<br>PYPL_adj_close: 0.28<br>TSLA_adj_close: 0.01<br>LMT_adj_close: 0.16<br>SAP_adj_close: 0.34",
          "Return: -9.48%<br>Volatility: 0.14<br>KR_adj_close: 0.31<br>GOOGL_adj_close: 0.06<br>MRK_adj_close: 0.51<br>AEP_adj_close: 0.04<br>SRE_adj_close: 0.07",
          "Return: 28.61%<br>Volatility: 0.10<br>CMCSA_adj_close: 0.26<br>HD_adj_close: 0.29<br>ADBE_adj_close: 0.24<br>ABT_adj_close: 0.20<br>NKE_adj_close: 0.02",
          "Return: 8.44%<br>Volatility: 0.07<br>SO_adj_close: 0.12<br>UNH_adj_close: 0.10<br>DUK_adj_close: 0.15<br>DIS_adj_close: 0.36<br>JNJ_adj_close: 0.27",
          "Return: 8.34%<br>Volatility: 0.14<br>LMT_adj_close: 0.15<br>KR_adj_close: 0.31<br>ETN_adj_close: 0.04<br>ACN_adj_close: 0.21<br>WFC_adj_close: 0.29",
          "Return: 12.25%<br>Volatility: 0.09<br>XOM_adj_close: 0.37<br>WFC_adj_close: 0.09<br>GE_adj_close: 0.01<br>ACN_adj_close: 0.18<br>CSCO_adj_close: 0.36",
          "Return: 1.48%<br>Volatility: 0.16<br>JNJ_adj_close: 0.39<br>RTX_adj_close: 0.10<br>TMO_adj_close: 0.15<br>UA_adj_close: 0.30<br>WMT_adj_close: 0.06",
          "Return: 15.13%<br>Volatility: 0.14<br>CVX_adj_close: 0.01<br>GILD_adj_close: 0.28<br>BAC_adj_close: 0.05<br>QCOM_adj_close: 0.51<br>SYY_adj_close: 0.15",
          "Return: 19.00%<br>Volatility: 0.11<br>BTI_adj_close: 0.22<br>ADBE_adj_close: 0.00<br>CRM_adj_close: 0.26<br>CSCO_adj_close: 0.25<br>SYK_adj_close: 0.27",
          "Return: 24.92%<br>Volatility: 0.10<br>ISRG_adj_close: 0.36<br>GIS_adj_close: 0.06<br>DUK_adj_close: 0.23<br>GM_adj_close: 0.27<br>META_adj_close: 0.09",
          "Return: 24.03%<br>Volatility: 0.14<br>PYPL_adj_close: 0.22<br>LMT_adj_close: 0.18<br>KR_adj_close: 0.27<br>SYK_adj_close: 0.22<br>INTC_adj_close: 0.11",
          "Return: 30.46%<br>Volatility: 0.13<br>DHR_adj_close: 0.25<br>ABBV_adj_close: 0.24<br>AMGN_adj_close: 0.09<br>NVDA_adj_close: 0.19<br>BSX_adj_close: 0.22",
          "Return: 28.99%<br>Volatility: 0.16<br>REGN_adj_close: 0.29<br>NKE_adj_close: 0.02<br>TSLA_adj_close: 0.27<br>ABBV_adj_close: 0.29<br>ADBE_adj_close: 0.14",
          "Return: 22.72%<br>Volatility: 0.09<br>RMD_adj_close: 0.27<br>MA_adj_close: 0.22<br>HON_adj_close: 0.27<br>PFE_adj_close: 0.24<br>REGN_adj_close: 0.00",
          "Return: 11.78%<br>Volatility: 0.09<br>MSFT_adj_close: 0.04<br>CMCSA_adj_close: 0.14<br>ABT_adj_close: 0.31<br>PM_adj_close: 0.45<br>XOM_adj_close: 0.06",
          "Return: 12.00%<br>Volatility: 0.09<br>DHR_adj_close: 0.12<br>MDT_adj_close: 0.10<br>ACN_adj_close: 0.29<br>VZ_adj_close: 0.30<br>MO_adj_close: 0.19",
          "Return: 15.60%<br>Volatility: 0.08<br>GOOGL_adj_close: 0.13<br>UNH_adj_close: 0.12<br>IBM_adj_close: 0.31<br>HD_adj_close: 0.15<br>MMM_adj_close: 0.29",
          "Return: 21.10%<br>Volatility: 0.09<br>PFE_adj_close: 0.14<br>SYK_adj_close: 0.21<br>BAC_adj_close: 0.15<br>MMM_adj_close: 0.34<br>RTX_adj_close: 0.15",
          "Return: -1.28%<br>Volatility: 0.13<br>GS_adj_close: 0.18<br>GOOGL_adj_close: 0.14<br>BSX_adj_close: 0.46<br>TXN_adj_close: 0.06<br>UA_adj_close: 0.17",
          "Return: -3.21%<br>Volatility: 0.21<br>UA_adj_close: 0.37<br>MCD_adj_close: 0.07<br>GILD_adj_close: 0.20<br>TSLA_adj_close: 0.26<br>QCOM_adj_close: 0.10",
          "Return: 41.17%<br>Volatility: 0.15<br>ISRG_adj_close: 0.17<br>NVDA_adj_close: 0.19<br>SRE_adj_close: 0.05<br>META_adj_close: 0.25<br>V_adj_close: 0.33",
          "Return: 0.65%<br>Volatility: 0.09<br>SO_adj_close: 0.31<br>VZ_adj_close: 0.04<br>LLY_adj_close: 0.31<br>MO_adj_close: 0.34<br>V_adj_close: 0.01",
          "Return: 6.49%<br>Volatility: 0.21<br>WFC_adj_close: 0.12<br>TXN_adj_close: 0.32<br>IBM_adj_close: 0.05<br>HON_adj_close: 0.21<br>AMD_adj_close: 0.30",
          "Return: -7.30%<br>Volatility: 0.18<br>UA_adj_close: 0.31<br>CVX_adj_close: 0.17<br>VZ_adj_close: 0.21<br>GS_adj_close: 0.31<br>MDT_adj_close: 0.00",
          "Return: 4.22%<br>Volatility: 0.20<br>PYPL_adj_close: 0.08<br>GIS_adj_close: 0.00<br>ETN_adj_close: 0.44<br>AMD_adj_close: 0.28<br>CSCO_adj_close: 0.19",
          "Return: 14.17%<br>Volatility: 0.07<br>PEP_adj_close: 0.17<br>PG_adj_close: 0.37<br>MCD_adj_close: 0.12<br>MO_adj_close: 0.13<br>V_adj_close: 0.21",
          "Return: 7.03%<br>Volatility: 0.09<br>MS_adj_close: 0.16<br>T_adj_close: 0.33<br>COST_adj_close: 0.09<br>SRE_adj_close: 0.30<br>TXN_adj_close: 0.11",
          "Return: -0.21%<br>Volatility: 0.11<br>F_adj_close: 0.32<br>MS_adj_close: 0.10<br>UA_adj_close: 0.06<br>IBM_adj_close: 0.33<br>GOOGL_adj_close: 0.19",
          "Return: 22.25%<br>Volatility: 0.10<br>ABT_adj_close: 0.28<br>SO_adj_close: 0.12<br>EW_adj_close: 0.23<br>UA_adj_close: 0.01<br>ACN_adj_close: 0.35",
          "Return: 15.79%<br>Volatility: 0.09<br>QCOM_adj_close: 0.29<br>KO_adj_close: 0.23<br>EXC_adj_close: 0.27<br>BIIB_adj_close: 0.01<br>SYY_adj_close: 0.19",
          "Return: 14.02%<br>Volatility: 0.09<br>ADBE_adj_close: 0.06<br>IBM_adj_close: 0.28<br>V_adj_close: 0.19<br>AMZN_adj_close: 0.17<br>VZ_adj_close: 0.30",
          "Return: -11.09%<br>Volatility: 0.15<br>GIS_adj_close: 0.08<br>UA_adj_close: 0.19<br>DIS_adj_close: 0.27<br>DHR_adj_close: 0.13<br>RDY_adj_close: 0.33",
          "Return: 22.84%<br>Volatility: 0.11<br>TXN_adj_close: 0.05<br>EMR_adj_close: 0.26<br>TSLA_adj_close: 0.16<br>HON_adj_close: 0.24<br>SYY_adj_close: 0.29",
          "Return: 15.12%<br>Volatility: 0.13<br>CPB_adj_close: 0.07<br>ACN_adj_close: 0.28<br>BIIB_adj_close: 0.38<br>TSLA_adj_close: 0.19<br>WFC_adj_close: 0.08",
          "Return: 22.97%<br>Volatility: 0.08<br>BTI_adj_close: 0.18<br>ETN_adj_close: 0.15<br>AEP_adj_close: 0.27<br>BA_adj_close: 0.12<br>MMM_adj_close: 0.28",
          "Return: 22.99%<br>Volatility: 0.08<br>NEE_adj_close: 0.38<br>MO_adj_close: 0.01<br>AAPL_adj_close: 0.13<br>NKE_adj_close: 0.07<br>LMT_adj_close: 0.41",
          "Return: 28.81%<br>Volatility: 0.11<br>GOOG_adj_close: 0.05<br>EXC_adj_close: 0.34<br>DUK_adj_close: 0.04<br>GIS_adj_close: 0.22<br>PYPL_adj_close: 0.35",
          "Return: 8.47%<br>Volatility: 0.12<br>IBM_adj_close: 0.30<br>UA_adj_close: 0.18<br>ABT_adj_close: 0.21<br>DIS_adj_close: 0.08<br>CAT_adj_close: 0.23",
          "Return: 23.31%<br>Volatility: 0.11<br>NFLX_adj_close: 0.22<br>BABA_adj_close: 0.20<br>MRK_adj_close: 0.29<br>HON_adj_close: 0.26<br>RTX_adj_close: 0.02",
          "Return: 24.84%<br>Volatility: 0.13<br>GIS_adj_close: 0.29<br>NVDA_adj_close: 0.26<br>MO_adj_close: 0.17<br>KO_adj_close: 0.16<br>BAC_adj_close: 0.11",
          "Return: -4.53%<br>Volatility: 0.16<br>GIS_adj_close: 0.23<br>IBM_adj_close: 0.14<br>WFC_adj_close: 0.15<br>AMD_adj_close: 0.23<br>JPM_adj_close: 0.25",
          "Return: 20.65%<br>Volatility: 0.08<br>CVX_adj_close: 0.29<br>GE_adj_close: 0.02<br>AMGN_adj_close: 0.09<br>JNJ_adj_close: 0.24<br>MA_adj_close: 0.36",
          "Return: 18.22%<br>Volatility: 0.10<br>UNH_adj_close: 0.34<br>REGN_adj_close: 0.16<br>MRK_adj_close: 0.18<br>WMT_adj_close: 0.19<br>DHR_adj_close: 0.14",
          "Return: 34.92%<br>Volatility: 0.11<br>V_adj_close: 0.29<br>ABT_adj_close: 0.23<br>BABA_adj_close: 0.29<br>DIS_adj_close: 0.06<br>BMY_adj_close: 0.12",
          "Return: 10.28%<br>Volatility: 0.09<br>MDT_adj_close: 0.34<br>XOM_adj_close: 0.09<br>MMM_adj_close: 0.15<br>DUK_adj_close: 0.08<br>GM_adj_close: 0.34",
          "Return: 18.07%<br>Volatility: 0.08<br>V_adj_close: 0.19<br>SRE_adj_close: 0.31<br>RTX_adj_close: 0.14<br>MMM_adj_close: 0.19<br>GOOGL_adj_close: 0.16",
          "Return: 26.30%<br>Volatility: 0.13<br>INTC_adj_close: 0.09<br>ADBE_adj_close: 0.31<br>GILD_adj_close: 0.22<br>SYK_adj_close: 0.36<br>PG_adj_close: 0.02",
          "Return: 0.51%<br>Volatility: 0.14<br>RTX_adj_close: 0.38<br>AMD_adj_close: 0.18<br>MO_adj_close: 0.10<br>CPB_adj_close: 0.14<br>TMO_adj_close: 0.19",
          "Return: 27.31%<br>Volatility: 0.11<br>VZ_adj_close: 0.28<br>GILD_adj_close: 0.04<br>BAC_adj_close: 0.20<br>TXN_adj_close: 0.14<br>WMT_adj_close: 0.34",
          "Return: -0.37%<br>Volatility: 0.16<br>DUK_adj_close: 0.17<br>EW_adj_close: 0.02<br>MDT_adj_close: 0.15<br>AMD_adj_close: 0.22<br>ETN_adj_close: 0.44",
          "Return: 14.50%<br>Volatility: 0.12<br>AAPL_adj_close: 0.46<br>BMY_adj_close: 0.09<br>GILD_adj_close: 0.23<br>DHR_adj_close: 0.02<br>GS_adj_close: 0.21",
          "Return: 4.77%<br>Volatility: 0.13<br>TSLA_adj_close: 0.21<br>CMCSA_adj_close: 0.10<br>T_adj_close: 0.39<br>LLY_adj_close: 0.26<br>AMD_adj_close: 0.04",
          "Return: 19.49%<br>Volatility: 0.12<br>CAT_adj_close: 0.23<br>ORCL_adj_close: 0.29<br>RTX_adj_close: 0.13<br>KR_adj_close: 0.19<br>GILD_adj_close: 0.17",
          "Return: 27.08%<br>Volatility: 0.11<br>CSCO_adj_close: 0.00<br>JNJ_adj_close: 0.24<br>TMO_adj_close: 0.20<br>SAP_adj_close: 0.29<br>ISRG_adj_close: 0.26",
          "Return: 19.61%<br>Volatility: 0.15<br>GOOGL_adj_close: 0.04<br>ISRG_adj_close: 0.16<br>BA_adj_close: 0.23<br>RDY_adj_close: 0.25<br>REGN_adj_close: 0.31",
          "Return: 0.67%<br>Volatility: 0.10<br>AEP_adj_close: 0.26<br>RTX_adj_close: 0.13<br>SNAP_adj_close: 0.08<br>TMO_adj_close: 0.26<br>CPB_adj_close: 0.26",
          "Return: -3.83%<br>Volatility: 0.20<br>SNAP_adj_close: 0.25<br>CAT_adj_close: 0.09<br>F_adj_close: 0.23<br>BIIB_adj_close: 0.37<br>GOOG_adj_close: 0.05",
          "Return: -2.03%<br>Volatility: 0.11<br>DIS_adj_close: 0.24<br>RDY_adj_close: 0.25<br>WFC_adj_close: 0.21<br>BSX_adj_close: 0.27<br>BMY_adj_close: 0.03",
          "Return: 11.50%<br>Volatility: 0.12<br>RDY_adj_close: 0.30<br>MMM_adj_close: 0.31<br>EMR_adj_close: 0.09<br>AAPL_adj_close: 0.23<br>IBM_adj_close: 0.07",
          "Return: 18.83%<br>Volatility: 0.10<br>WFC_adj_close: 0.10<br>HON_adj_close: 0.23<br>TXN_adj_close: 0.31<br>KR_adj_close: 0.12<br>DHR_adj_close: 0.24",
          "Return: 31.43%<br>Volatility: 0.10<br>CVX_adj_close: 0.20<br>BTI_adj_close: 0.16<br>BSX_adj_close: 0.15<br>CAT_adj_close: 0.24<br>ADBE_adj_close: 0.25",
          "Return: 28.66%<br>Volatility: 0.16<br>TSLA_adj_close: 0.33<br>CAT_adj_close: 0.15<br>QCOM_adj_close: 0.33<br>MCD_adj_close: 0.09<br>NKE_adj_close: 0.10",
          "Return: 38.01%<br>Volatility: 0.10<br>MMM_adj_close: 0.23<br>NFLX_adj_close: 0.22<br>CAT_adj_close: 0.04<br>WMT_adj_close: 0.28<br>MCD_adj_close: 0.23",
          "Return: 4.95%<br>Volatility: 0.10<br>IBM_adj_close: 0.26<br>RTX_adj_close: 0.08<br>COST_adj_close: 0.35<br>WFC_adj_close: 0.23<br>ABT_adj_close: 0.08",
          "Return: 13.70%<br>Volatility: 0.11<br>AMZN_adj_close: 0.16<br>WFC_adj_close: 0.11<br>TMO_adj_close: 0.23<br>ZBH_adj_close: 0.30<br>GS_adj_close: 0.19",
          "Return: 7.77%<br>Volatility: 0.16<br>MDT_adj_close: 0.14<br>F_adj_close: 0.01<br>BTI_adj_close: 0.28<br>RDY_adj_close: 0.35<br>NFLX_adj_close: 0.23",
          "Return: -2.30%<br>Volatility: 0.15<br>DUK_adj_close: 0.32<br>V_adj_close: 0.15<br>CRM_adj_close: 0.14<br>UA_adj_close: 0.32<br>JNJ_adj_close: 0.07",
          "Return: -8.51%<br>Volatility: 0.17<br>PEP_adj_close: 0.09<br>HD_adj_close: 0.12<br>MDT_adj_close: 0.38<br>UA_adj_close: 0.33<br>SRE_adj_close: 0.09",
          "Return: 22.67%<br>Volatility: 0.11<br>VRTX_adj_close: 0.22<br>CVX_adj_close: 0.29<br>PFE_adj_close: 0.32<br>CMCSA_adj_close: 0.16<br>QCOM_adj_close: 0.02",
          "Return: 18.39%<br>Volatility: 0.09<br>PFE_adj_close: 0.20<br>LMT_adj_close: 0.17<br>JPM_adj_close: 0.32<br>ABT_adj_close: 0.24<br>KR_adj_close: 0.07",
          "Return: 44.07%<br>Volatility: 0.11<br>ABBV_adj_close: 0.29<br>CRM_adj_close: 0.01<br>WFC_adj_close: 0.18<br>CAT_adj_close: 0.29<br>TXN_adj_close: 0.22",
          "Return: 18.32%<br>Volatility: 0.09<br>DE_adj_close: 0.19<br>GS_adj_close: 0.20<br>SYY_adj_close: 0.24<br>GILD_adj_close: 0.15<br>JNJ_adj_close: 0.22",
          "Return: 23.54%<br>Volatility: 0.12<br>MA_adj_close: 0.04<br>WFC_adj_close: 0.24<br>AMZN_adj_close: 0.39<br>SYK_adj_close: 0.17<br>BMY_adj_close: 0.16",
          "Return: 15.66%<br>Volatility: 0.14<br>VZ_adj_close: 0.00<br>NKE_adj_close: 0.09<br>BAC_adj_close: 0.49<br>NEE_adj_close: 0.17<br>GS_adj_close: 0.25",
          "Return: 16.99%<br>Volatility: 0.07<br>CVX_adj_close: 0.01<br>AEP_adj_close: 0.37<br>KO_adj_close: 0.24<br>TMO_adj_close: 0.23<br>BAC_adj_close: 0.16",
          "Return: 27.30%<br>Volatility: 0.12<br>ADBE_adj_close: 0.34<br>SRE_adj_close: 0.08<br>QCOM_adj_close: 0.26<br>CVX_adj_close: 0.23<br>AMZN_adj_close: 0.09",
          "Return: -0.42%<br>Volatility: 0.14<br>F_adj_close: 0.38<br>DIS_adj_close: 0.11<br>IBM_adj_close: 0.04<br>AEP_adj_close: 0.17<br>KR_adj_close: 0.30",
          "Return: 29.92%<br>Volatility: 0.14<br>XOM_adj_close: 0.06<br>F_adj_close: 0.04<br>NVDA_adj_close: 0.31<br>BMY_adj_close: 0.26<br>PG_adj_close: 0.33",
          "Return: 8.28%<br>Volatility: 0.10<br>F_adj_close: 0.10<br>PFE_adj_close: 0.35<br>ETN_adj_close: 0.28<br>ZBH_adj_close: 0.12<br>GS_adj_close: 0.14",
          "Return: 27.23%<br>Volatility: 0.11<br>DIS_adj_close: 0.10<br>ABBV_adj_close: 0.22<br>MA_adj_close: 0.24<br>JPM_adj_close: 0.19<br>BIIB_adj_close: 0.24",
          "Return: 2.02%<br>Volatility: 0.12<br>NKE_adj_close: 0.35<br>MSFT_adj_close: 0.07<br>RMD_adj_close: 0.16<br>GM_adj_close: 0.24<br>GE_adj_close: 0.18",
          "Return: 2.74%<br>Volatility: 0.09<br>BMY_adj_close: 0.26<br>MDT_adj_close: 0.20<br>CPB_adj_close: 0.24<br>EXC_adj_close: 0.10<br>JPM_adj_close: 0.20",
          "Return: 14.02%<br>Volatility: 0.09<br>RTX_adj_close: 0.43<br>INTC_adj_close: 0.02<br>MA_adj_close: 0.10<br>PM_adj_close: 0.31<br>JNJ_adj_close: 0.14",
          "Return: 28.74%<br>Volatility: 0.11<br>CRM_adj_close: 0.28<br>GE_adj_close: 0.04<br>PYPL_adj_close: 0.09<br>DE_adj_close: 0.24<br>TMO_adj_close: 0.36",
          "Return: 19.25%<br>Volatility: 0.10<br>NKE_adj_close: 0.10<br>QCOM_adj_close: 0.17<br>CMCSA_adj_close: 0.26<br>SYY_adj_close: 0.28<br>MSFT_adj_close: 0.20",
          "Return: -1.59%<br>Volatility: 0.29<br>ADBE_adj_close: 0.13<br>K_adj_close: 0.15<br>WMT_adj_close: 0.08<br>TXN_adj_close: 0.18<br>AMD_adj_close: 0.46",
          "Return: -19.55%<br>Volatility: 0.17<br>SNAP_adj_close: 0.22<br>META_adj_close: 0.30<br>GE_adj_close: 0.26<br>SAP_adj_close: 0.03<br>LLY_adj_close: 0.17",
          "Return: 21.29%<br>Volatility: 0.11<br>K_adj_close: 0.27<br>TXN_adj_close: 0.10<br>MRK_adj_close: 0.09<br>PYPL_adj_close: 0.27<br>ETN_adj_close: 0.26",
          "Return: -14.76%<br>Volatility: 0.20<br>SNAP_adj_close: 0.28<br>RDY_adj_close: 0.08<br>GILD_adj_close: 0.23<br>JPM_adj_close: 0.13<br>PM_adj_close: 0.28",
          "Return: 20.12%<br>Volatility: 0.10<br>EMR_adj_close: 0.30<br>REGN_adj_close: 0.07<br>CSCO_adj_close: 0.26<br>SYK_adj_close: 0.29<br>DE_adj_close: 0.08",
          "Return: 21.69%<br>Volatility: 0.08<br>SRE_adj_close: 0.28<br>AMZN_adj_close: 0.25<br>BAC_adj_close: 0.14<br>HD_adj_close: 0.16<br>NEE_adj_close: 0.17",
          "Return: 14.71%<br>Volatility: 0.10<br>GM_adj_close: 0.29<br>ACN_adj_close: 0.16<br>BAC_adj_close: 0.15<br>V_adj_close: 0.20<br>IBM_adj_close: 0.20",
          "Return: 21.24%<br>Volatility: 0.09<br>AMZN_adj_close: 0.23<br>CMCSA_adj_close: 0.22<br>SO_adj_close: 0.16<br>F_adj_close: 0.18<br>ISRG_adj_close: 0.22",
          "Return: 2.71%<br>Volatility: 0.09<br>SAP_adj_close: 0.15<br>DIS_adj_close: 0.30<br>BSX_adj_close: 0.19<br>REGN_adj_close: 0.16<br>SRE_adj_close: 0.20",
          "Return: 21.99%<br>Volatility: 0.10<br>AMGN_adj_close: 0.18<br>PEP_adj_close: 0.28<br>BABA_adj_close: 0.20<br>SRE_adj_close: 0.04<br>BAC_adj_close: 0.29",
          "Return: 14.41%<br>Volatility: 0.12<br>LLY_adj_close: 0.02<br>QCOM_adj_close: 0.39<br>UA_adj_close: 0.03<br>CVX_adj_close: 0.45<br>BMY_adj_close: 0.11",
          "Return: 14.95%<br>Volatility: 0.09<br>K_adj_close: 0.22<br>NEE_adj_close: 0.26<br>RDY_adj_close: 0.19<br>MSFT_adj_close: 0.21<br>DE_adj_close: 0.12",
          "Return: -1.42%<br>Volatility: 0.18<br>ORCL_adj_close: 0.21<br>AMZN_adj_close: 0.19<br>WFC_adj_close: 0.21<br>SNAP_adj_close: 0.24<br>VZ_adj_close: 0.15",
          "Return: 11.56%<br>Volatility: 0.11<br>LLY_adj_close: 0.15<br>SYY_adj_close: 0.13<br>BMY_adj_close: 0.29<br>RMD_adj_close: 0.32<br>RDY_adj_close: 0.12",
          "Return: 26.86%<br>Volatility: 0.10<br>GS_adj_close: 0.10<br>BMY_adj_close: 0.29<br>BA_adj_close: 0.32<br>EMR_adj_close: 0.12<br>COST_adj_close: 0.17",
          "Return: 11.79%<br>Volatility: 0.10<br>DHR_adj_close: 0.28<br>TXN_adj_close: 0.19<br>VZ_adj_close: 0.02<br>F_adj_close: 0.27<br>GILD_adj_close: 0.24",
          "Return: 17.80%<br>Volatility: 0.12<br>WMT_adj_close: 0.29<br>GS_adj_close: 0.14<br>RDY_adj_close: 0.28<br>MO_adj_close: 0.03<br>INTC_adj_close: 0.25",
          "Return: 23.07%<br>Volatility: 0.10<br>GOOGL_adj_close: 0.03<br>INTC_adj_close: 0.23<br>LMT_adj_close: 0.31<br>JPM_adj_close: 0.04<br>CSCO_adj_close: 0.37",
          "Return: -0.16%<br>Volatility: 0.10<br>SYY_adj_close: 0.14<br>WFC_adj_close: 0.35<br>K_adj_close: 0.23<br>IBM_adj_close: 0.22<br>BIIB_adj_close: 0.06",
          "Return: 2.29%<br>Volatility: 0.16<br>EMR_adj_close: 0.15<br>ISRG_adj_close: 0.08<br>DHR_adj_close: 0.08<br>KR_adj_close: 0.41<br>SO_adj_close: 0.28",
          "Return: -7.82%<br>Volatility: 0.20<br>SNAP_adj_close: 0.28<br>INTC_adj_close: 0.16<br>F_adj_close: 0.00<br>CPB_adj_close: 0.22<br>ABT_adj_close: 0.34",
          "Return: 25.75%<br>Volatility: 0.13<br>TXN_adj_close: 0.07<br>KR_adj_close: 0.28<br>HON_adj_close: 0.32<br>VZ_adj_close: 0.02<br>BA_adj_close: 0.30",
          "Return: -3.61%<br>Volatility: 0.18<br>NEE_adj_close: 0.23<br>RDY_adj_close: 0.31<br>AMD_adj_close: 0.23<br>TXN_adj_close: 0.02<br>PFE_adj_close: 0.20",
          "Return: -3.15%<br>Volatility: 0.16<br>DHR_adj_close: 0.31<br>KO_adj_close: 0.04<br>V_adj_close: 0.28<br>SNAP_adj_close: 0.21<br>RDY_adj_close: 0.16",
          "Return: 28.15%<br>Volatility: 0.12<br>BABA_adj_close: 0.31<br>GIS_adj_close: 0.26<br>SYK_adj_close: 0.13<br>COST_adj_close: 0.06<br>EW_adj_close: 0.24",
          "Return: 18.57%<br>Volatility: 0.10<br>NKE_adj_close: 0.15<br>JNJ_adj_close: 0.27<br>AMZN_adj_close: 0.21<br>GM_adj_close: 0.29<br>REGN_adj_close: 0.08",
          "Return: 12.14%<br>Volatility: 0.10<br>GM_adj_close: 0.22<br>F_adj_close: 0.34<br>SO_adj_close: 0.23<br>VRTX_adj_close: 0.04<br>HD_adj_close: 0.17",
          "Return: 23.30%<br>Volatility: 0.10<br>NEE_adj_close: 0.28<br>GS_adj_close: 0.22<br>VRTX_adj_close: 0.18<br>BAC_adj_close: 0.14<br>PEP_adj_close: 0.18",
          "Return: 25.36%<br>Volatility: 0.09<br>KO_adj_close: 0.08<br>TMO_adj_close: 0.35<br>SYY_adj_close: 0.31<br>PYPL_adj_close: 0.03<br>MCD_adj_close: 0.23",
          "Return: 4.85%<br>Volatility: 0.08<br>GOOGL_adj_close: 0.15<br>BSX_adj_close: 0.26<br>CRM_adj_close: 0.12<br>AEP_adj_close: 0.18<br>IBM_adj_close: 0.29",
          "Return: 28.93%<br>Volatility: 0.13<br>BSX_adj_close: 0.29<br>SNAP_adj_close: 0.01<br>PYPL_adj_close: 0.29<br>SYK_adj_close: 0.25<br>MCD_adj_close: 0.15",
          "Return: 11.25%<br>Volatility: 0.11<br>K_adj_close: 0.20<br>CRM_adj_close: 0.19<br>MDT_adj_close: 0.19<br>EW_adj_close: 0.33<br>DUK_adj_close: 0.10",
          "Return: 21.21%<br>Volatility: 0.11<br>PM_adj_close: 0.19<br>HD_adj_close: 0.35<br>CPB_adj_close: 0.16<br>BMY_adj_close: 0.09<br>VRTX_adj_close: 0.21",
          "Return: 10.88%<br>Volatility: 0.11<br>ABT_adj_close: 0.20<br>RDY_adj_close: 0.18<br>VZ_adj_close: 0.07<br>CSCO_adj_close: 0.30<br>WFC_adj_close: 0.26",
          "Return: 44.98%<br>Volatility: 0.16<br>CAT_adj_close: 0.24<br>NVDA_adj_close: 0.26<br>BABA_adj_close: 0.15<br>NFLX_adj_close: 0.08<br>MRK_adj_close: 0.26",
          "Return: 19.30%<br>Volatility: 0.12<br>BAC_adj_close: 0.29<br>ISRG_adj_close: 0.09<br>TXN_adj_close: 0.10<br>CMCSA_adj_close: 0.31<br>COST_adj_close: 0.20",
          "Return: 21.47%<br>Volatility: 0.12<br>NFLX_adj_close: 0.12<br>MS_adj_close: 0.32<br>GOOG_adj_close: 0.31<br>BTI_adj_close: 0.19<br>BIIB_adj_close: 0.05",
          "Return: -15.03%<br>Volatility: 0.25<br>NFLX_adj_close: 0.11<br>UA_adj_close: 0.47<br>AMD_adj_close: 0.16<br>ETN_adj_close: 0.01<br>AAPL_adj_close: 0.25",
          "Return: -3.72%<br>Volatility: 0.10<br>GE_adj_close: 0.17<br>EW_adj_close: 0.25<br>F_adj_close: 0.29<br>DUK_adj_close: 0.22<br>MRK_adj_close: 0.06",
          "Return: 12.70%<br>Volatility: 0.09<br>GM_adj_close: 0.30<br>AMGN_adj_close: 0.03<br>PG_adj_close: 0.42<br>AAPL_adj_close: 0.25<br>BA_adj_close: 0.01",
          "Return: 19.65%<br>Volatility: 0.10<br>SAP_adj_close: 0.34<br>PG_adj_close: 0.33<br>ADBE_adj_close: 0.23<br>REGN_adj_close: 0.10<br>NVDA_adj_close: 0.00",
          "Return: 4.09%<br>Volatility: 0.10<br>GOOGL_adj_close: 0.19<br>CVX_adj_close: 0.11<br>SRE_adj_close: 0.30<br>BSX_adj_close: 0.19<br>RDY_adj_close: 0.21",
          "Return: 5.02%<br>Volatility: 0.09<br>AEP_adj_close: 0.20<br>MSFT_adj_close: 0.15<br>CPB_adj_close: 0.29<br>GILD_adj_close: 0.19<br>EXC_adj_close: 0.16",
          "Return: -17.70%<br>Volatility: 0.20<br>SYY_adj_close: 0.24<br>GE_adj_close: 0.22<br>UA_adj_close: 0.35<br>CAT_adj_close: 0.12<br>KR_adj_close: 0.06",
          "Return: 4.42%<br>Volatility: 0.13<br>SYY_adj_close: 0.28<br>CPB_adj_close: 0.43<br>BABA_adj_close: 0.11<br>KO_adj_close: 0.09<br>GM_adj_close: 0.08",
          "Return: 9.73%<br>Volatility: 0.12<br>F_adj_close: 0.37<br>BABA_adj_close: 0.15<br>ZBH_adj_close: 0.14<br>RDY_adj_close: 0.09<br>AMGN_adj_close: 0.25",
          "Return: -4.58%<br>Volatility: 0.11<br>GE_adj_close: 0.29<br>XOM_adj_close: 0.22<br>BAC_adj_close: 0.21<br>NFLX_adj_close: 0.19<br>RTX_adj_close: 0.09",
          "Return: 14.35%<br>Volatility: 0.21<br>PM_adj_close: 0.11<br>SO_adj_close: 0.08<br>UA_adj_close: 0.29<br>META_adj_close: 0.18<br>VRTX_adj_close: 0.35",
          "Return: 29.57%<br>Volatility: 0.10<br>ORCL_adj_close: 0.02<br>DHR_adj_close: 0.25<br>GOOG_adj_close: 0.36<br>AAPL_adj_close: 0.16<br>CAT_adj_close: 0.20",
          "Return: 26.43%<br>Volatility: 0.11<br>PYPL_adj_close: 0.19<br>F_adj_close: 0.30<br>CAT_adj_close: 0.15<br>ADBE_adj_close: 0.09<br>BSX_adj_close: 0.28",
          "Return: -0.58%<br>Volatility: 0.10<br>PFE_adj_close: 0.40<br>BTI_adj_close: 0.12<br>EMR_adj_close: 0.01<br>GE_adj_close: 0.25<br>ADBE_adj_close: 0.22",
          "Return: 0.85%<br>Volatility: 0.14<br>DE_adj_close: 0.05<br>SRE_adj_close: 0.25<br>KR_adj_close: 0.30<br>F_adj_close: 0.36<br>NEE_adj_close: 0.04",
          "Return: 16.14%<br>Volatility: 0.11<br>GM_adj_close: 0.01<br>DE_adj_close: 0.25<br>CPB_adj_close: 0.24<br>CSCO_adj_close: 0.33<br>V_adj_close: 0.17",
          "Return: 25.36%<br>Volatility: 0.09<br>BA_adj_close: 0.22<br>AEP_adj_close: 0.11<br>RMD_adj_close: 0.12<br>AMZN_adj_close: 0.16<br>LLY_adj_close: 0.39",
          "Return: 27.02%<br>Volatility: 0.11<br>BTI_adj_close: 0.03<br>LLY_adj_close: 0.20<br>CAT_adj_close: 0.31<br>CMCSA_adj_close: 0.10<br>ORCL_adj_close: 0.36",
          "Return: 28.57%<br>Volatility: 0.12<br>ISRG_adj_close: 0.39<br>MSFT_adj_close: 0.13<br>PM_adj_close: 0.24<br>EW_adj_close: 0.20<br>NEE_adj_close: 0.04",
          "Return: 19.63%<br>Volatility: 0.12<br>GOOG_adj_close: 0.38<br>MCD_adj_close: 0.02<br>BAC_adj_close: 0.38<br>REGN_adj_close: 0.09<br>ZBH_adj_close: 0.12",
          "Return: 12.83%<br>Volatility: 0.09<br>BA_adj_close: 0.01<br>GOOGL_adj_close: 0.34<br>K_adj_close: 0.15<br>PFE_adj_close: 0.24<br>CMCSA_adj_close: 0.27",
          "Return: 1.50%<br>Volatility: 0.13<br>ZBH_adj_close: 0.38<br>AMGN_adj_close: 0.55<br>MDT_adj_close: 0.03<br>SO_adj_close: 0.01<br>DHR_adj_close: 0.03",
          "Return: 37.17%<br>Volatility: 0.17<br>PFE_adj_close: 0.24<br>BTI_adj_close: 0.16<br>BABA_adj_close: 0.17<br>T_adj_close: 0.05<br>VRTX_adj_close: 0.37",
          "Return: 20.74%<br>Volatility: 0.10<br>ORCL_adj_close: 0.01<br>K_adj_close: 0.25<br>KO_adj_close: 0.07<br>ISRG_adj_close: 0.31<br>EMR_adj_close: 0.36",
          "Return: 19.39%<br>Volatility: 0.09<br>TXN_adj_close: 0.21<br>AMZN_adj_close: 0.17<br>SAP_adj_close: 0.25<br>SO_adj_close: 0.20<br>AMGN_adj_close: 0.18",
          "Return: 24.00%<br>Volatility: 0.09<br>MMM_adj_close: 0.19<br>RTX_adj_close: 0.10<br>IBM_adj_close: 0.13<br>MSFT_adj_close: 0.09<br>HD_adj_close: 0.49",
          "Return: 20.74%<br>Volatility: 0.11<br>ABBV_adj_close: 0.26<br>ETN_adj_close: 0.08<br>COST_adj_close: 0.23<br>BIIB_adj_close: 0.28<br>SRE_adj_close: 0.15",
          "Return: 4.86%<br>Volatility: 0.10<br>ACN_adj_close: 0.13<br>GILD_adj_close: 0.20<br>PM_adj_close: 0.02<br>MRK_adj_close: 0.36<br>JPM_adj_close: 0.30",
          "Return: 23.44%<br>Volatility: 0.13<br>NVDA_adj_close: 0.16<br>GM_adj_close: 0.05<br>WFC_adj_close: 0.20<br>EW_adj_close: 0.37<br>SO_adj_close: 0.21",
          "Return: 6.79%<br>Volatility: 0.15<br>AMD_adj_close: 0.00<br>RDY_adj_close: 0.36<br>TMO_adj_close: 0.40<br>BMY_adj_close: 0.22<br>DUK_adj_close: 0.02",
          "Return: 21.37%<br>Volatility: 0.12<br>PG_adj_close: 0.02<br>AMZN_adj_close: 0.40<br>WFC_adj_close: 0.29<br>GM_adj_close: 0.05<br>ETN_adj_close: 0.24",
          "Return: 4.24%<br>Volatility: 0.11<br>KR_adj_close: 0.01<br>MS_adj_close: 0.18<br>INTC_adj_close: 0.10<br>ORCL_adj_close: 0.33<br>IBM_adj_close: 0.39",
          "Return: 17.06%<br>Volatility: 0.13<br>KO_adj_close: 0.12<br>GE_adj_close: 0.06<br>MSFT_adj_close: 0.25<br>QCOM_adj_close: 0.43<br>BMY_adj_close: 0.14",
          "Return: 16.27%<br>Volatility: 0.11<br>CRM_adj_close: 0.14<br>TXN_adj_close: 0.18<br>ETN_adj_close: 0.19<br>AMGN_adj_close: 0.35<br>GOOGL_adj_close: 0.13",
          "Return: 20.73%<br>Volatility: 0.09<br>AEP_adj_close: 0.19<br>BTI_adj_close: 0.24<br>K_adj_close: 0.07<br>SAP_adj_close: 0.28<br>WMT_adj_close: 0.22",
          "Return: 27.74%<br>Volatility: 0.11<br>NKE_adj_close: 0.28<br>ADBE_adj_close: 0.09<br>LMT_adj_close: 0.20<br>WFC_adj_close: 0.00<br>MSFT_adj_close: 0.43",
          "Return: 26.10%<br>Volatility: 0.13<br>GILD_adj_close: 0.21<br>CMCSA_adj_close: 0.38<br>PYPL_adj_close: 0.33<br>GIS_adj_close: 0.05<br>T_adj_close: 0.03",
          "Return: 15.98%<br>Volatility: 0.11<br>BTI_adj_close: 0.29<br>NKE_adj_close: 0.28<br>EMR_adj_close: 0.28<br>V_adj_close: 0.10<br>QCOM_adj_close: 0.06",
          "Return: 9.92%<br>Volatility: 0.11<br>GM_adj_close: 0.10<br>SYK_adj_close: 0.27<br>BMY_adj_close: 0.05<br>MS_adj_close: 0.10<br>MDT_adj_close: 0.48",
          "Return: 42.73%<br>Volatility: 0.20<br>NVDA_adj_close: 0.44<br>PM_adj_close: 0.05<br>ETN_adj_close: 0.13<br>ADBE_adj_close: 0.05<br>NKE_adj_close: 0.34",
          "Return: -4.19%<br>Volatility: 0.09<br>GE_adj_close: 0.20<br>TSLA_adj_close: 0.11<br>CRM_adj_close: 0.27<br>PEP_adj_close: 0.18<br>IBM_adj_close: 0.24",
          "Return: 7.93%<br>Volatility: 0.10<br>SO_adj_close: 0.40<br>T_adj_close: 0.18<br>MMM_adj_close: 0.03<br>NVDA_adj_close: 0.05<br>BTI_adj_close: 0.34",
          "Return: 29.46%<br>Volatility: 0.10<br>COST_adj_close: 0.24<br>BA_adj_close: 0.33<br>PM_adj_close: 0.22<br>MA_adj_close: 0.19<br>BIIB_adj_close: 0.03",
          "Return: 39.87%<br>Volatility: 0.13<br>CAT_adj_close: 0.38<br>KR_adj_close: 0.19<br>TXN_adj_close: 0.17<br>ISRG_adj_close: 0.23<br>SAP_adj_close: 0.03",
          "Return: 25.85%<br>Volatility: 0.09<br>COST_adj_close: 0.08<br>DHR_adj_close: 0.13<br>NEE_adj_close: 0.17<br>BA_adj_close: 0.33<br>SRE_adj_close: 0.29",
          "Return: 6.84%<br>Volatility: 0.13<br>ZBH_adj_close: 0.03<br>ETN_adj_close: 0.31<br>BIIB_adj_close: 0.39<br>BABA_adj_close: 0.12<br>GE_adj_close: 0.14",
          "Return: 5.89%<br>Volatility: 0.14<br>DIS_adj_close: 0.18<br>GOOGL_adj_close: 0.24<br>RDY_adj_close: 0.35<br>MS_adj_close: 0.22<br>AAPL_adj_close: 0.02",
          "Return: 11.22%<br>Volatility: 0.07<br>DHR_adj_close: 0.26<br>KO_adj_close: 0.20<br>LMT_adj_close: 0.33<br>MRK_adj_close: 0.16<br>BTI_adj_close: 0.06",
          "Return: 1.52%<br>Volatility: 0.14<br>COST_adj_close: 0.05<br>BSX_adj_close: 0.26<br>ZBH_adj_close: 0.44<br>AMD_adj_close: 0.01<br>REGN_adj_close: 0.25",
          "Return: 26.17%<br>Volatility: 0.08<br>BABA_adj_close: 0.12<br>ABT_adj_close: 0.16<br>VZ_adj_close: 0.21<br>XOM_adj_close: 0.14<br>V_adj_close: 0.37",
          "Return: 15.57%<br>Volatility: 0.09<br>META_adj_close: 0.18<br>HD_adj_close: 0.04<br>BTI_adj_close: 0.28<br>MDT_adj_close: 0.14<br>AEP_adj_close: 0.35",
          "Return: 4.70%<br>Volatility: 0.15<br>TSLA_adj_close: 0.06<br>KR_adj_close: 0.19<br>VRTX_adj_close: 0.21<br>GM_adj_close: 0.34<br>GE_adj_close: 0.20",
          "Return: 29.39%<br>Volatility: 0.09<br>AEP_adj_close: 0.29<br>MMM_adj_close: 0.08<br>MA_adj_close: 0.49<br>HD_adj_close: 0.12<br>TMO_adj_close: 0.02",
          "Return: 5.83%<br>Volatility: 0.08<br>BTI_adj_close: 0.24<br>NKE_adj_close: 0.13<br>BSX_adj_close: 0.20<br>DHR_adj_close: 0.06<br>PG_adj_close: 0.37",
          "Return: 5.47%<br>Volatility: 0.16<br>VZ_adj_close: 0.13<br>BAC_adj_close: 0.05<br>BTI_adj_close: 0.29<br>KR_adj_close: 0.38<br>ACN_adj_close: 0.15",
          "Return: -1.13%<br>Volatility: 0.21<br>SNAP_adj_close: 0.31<br>PM_adj_close: 0.05<br>MA_adj_close: 0.23<br>ABT_adj_close: 0.27<br>CMCSA_adj_close: 0.14",
          "Return: 23.46%<br>Volatility: 0.07<br>GOOGL_adj_close: 0.18<br>WMT_adj_close: 0.20<br>DUK_adj_close: 0.28<br>KO_adj_close: 0.26<br>PYPL_adj_close: 0.07",
          "Return: 26.29%<br>Volatility: 0.10<br>WMT_adj_close: 0.40<br>HON_adj_close: 0.06<br>SRE_adj_close: 0.40<br>ACN_adj_close: 0.00<br>ABBV_adj_close: 0.14",
          "Return: -8.94%<br>Volatility: 0.10<br>LLY_adj_close: 0.22<br>MRK_adj_close: 0.34<br>GE_adj_close: 0.21<br>UNH_adj_close: 0.24<br>ADBE_adj_close: 0.00",
          "Return: 1.94%<br>Volatility: 0.13<br>AMD_adj_close: 0.18<br>F_adj_close: 0.29<br>GOOGL_adj_close: 0.07<br>CVX_adj_close: 0.28<br>DUK_adj_close: 0.18",
          "Return: 36.25%<br>Volatility: 0.11<br>QCOM_adj_close: 0.03<br>CVX_adj_close: 0.07<br>HD_adj_close: 0.52<br>VRTX_adj_close: 0.17<br>UNH_adj_close: 0.21",
          "Return: 24.09%<br>Volatility: 0.11<br>NEE_adj_close: 0.18<br>RDY_adj_close: 0.17<br>GOOG_adj_close: 0.16<br>CAT_adj_close: 0.23<br>NKE_adj_close: 0.26",
          "Return: 13.51%<br>Volatility: 0.07<br>XOM_adj_close: 0.35<br>ISRG_adj_close: 0.08<br>PM_adj_close: 0.00<br>PEP_adj_close: 0.31<br>JNJ_adj_close: 0.26",
          "Return: 11.87%<br>Volatility: 0.09<br>AEP_adj_close: 0.23<br>SYK_adj_close: 0.35<br>MO_adj_close: 0.37<br>QCOM_adj_close: 0.00<br>NFLX_adj_close: 0.05",
          "Return: 10.85%<br>Volatility: 0.15<br>RDY_adj_close: 0.19<br>GE_adj_close: 0.01<br>ETN_adj_close: 0.26<br>TSLA_adj_close: 0.27<br>BMY_adj_close: 0.27",
          "Return: 16.09%<br>Volatility: 0.08<br>CRM_adj_close: 0.35<br>QCOM_adj_close: 0.05<br>PG_adj_close: 0.21<br>AEP_adj_close: 0.25<br>BTI_adj_close: 0.14",
          "Return: -17.18%<br>Volatility: 0.26<br>SNAP_adj_close: 0.39<br>SYK_adj_close: 0.29<br>GIS_adj_close: 0.21<br>UA_adj_close: 0.04<br>MSFT_adj_close: 0.07",
          "Return: 22.82%<br>Volatility: 0.10<br>DHR_adj_close: 0.14<br>AMD_adj_close: 0.04<br>EMR_adj_close: 0.23<br>BAC_adj_close: 0.18<br>UNH_adj_close: 0.41",
          "Return: 3.07%<br>Volatility: 0.10<br>MO_adj_close: 0.30<br>GS_adj_close: 0.24<br>BSX_adj_close: 0.11<br>VZ_adj_close: 0.25<br>LLY_adj_close: 0.11",
          "Return: 14.51%<br>Volatility: 0.11<br>GM_adj_close: 0.17<br>CPB_adj_close: 0.28<br>TXN_adj_close: 0.09<br>SYY_adj_close: 0.24<br>ISRG_adj_close: 0.23",
          "Return: -7.35%<br>Volatility: 0.20<br>SNAP_adj_close: 0.29<br>GM_adj_close: 0.17<br>SYY_adj_close: 0.08<br>MS_adj_close: 0.17<br>PEP_adj_close: 0.28",
          "Return: 29.31%<br>Volatility: 0.12<br>SYK_adj_close: 0.05<br>ACN_adj_close: 0.27<br>NFLX_adj_close: 0.10<br>RMD_adj_close: 0.37<br>DE_adj_close: 0.21",
          "Return: 17.08%<br>Volatility: 0.07<br>RTX_adj_close: 0.10<br>CVX_adj_close: 0.18<br>AEP_adj_close: 0.34<br>ETN_adj_close: 0.19<br>AAPL_adj_close: 0.20",
          "Return: 28.35%<br>Volatility: 0.11<br>META_adj_close: 0.05<br>BMY_adj_close: 0.32<br>GOOG_adj_close: 0.10<br>CRM_adj_close: 0.29<br>ABBV_adj_close: 0.24",
          "Return: 16.62%<br>Volatility: 0.13<br>BMY_adj_close: 0.41<br>EW_adj_close: 0.05<br>VRTX_adj_close: 0.10<br>CMCSA_adj_close: 0.39<br>BAC_adj_close: 0.05",
          "Return: 12.78%<br>Volatility: 0.16<br>EMR_adj_close: 0.14<br>AMD_adj_close: 0.17<br>INTC_adj_close: 0.30<br>MS_adj_close: 0.30<br>GM_adj_close: 0.09",
          "Return: 4.60%<br>Volatility: 0.15<br>F_adj_close: 0.32<br>AMD_adj_close: 0.19<br>PFE_adj_close: 0.25<br>MSFT_adj_close: 0.22<br>PEP_adj_close: 0.02",
          "Return: 10.41%<br>Volatility: 0.15<br>QCOM_adj_close: 0.35<br>KR_adj_close: 0.26<br>HON_adj_close: 0.11<br>GM_adj_close: 0.27<br>BTI_adj_close: 0.00",
          "Return: 9.79%<br>Volatility: 0.19<br>KR_adj_close: 0.31<br>NFLX_adj_close: 0.35<br>RDY_adj_close: 0.16<br>SNAP_adj_close: 0.09<br>NVDA_adj_close: 0.09",
          "Return: 5.37%<br>Volatility: 0.18<br>AMD_adj_close: 0.28<br>HON_adj_close: 0.23<br>JNJ_adj_close: 0.30<br>ACN_adj_close: 0.09<br>SAP_adj_close: 0.10",
          "Return: 16.85%<br>Volatility: 0.07<br>LLY_adj_close: 0.17<br>BA_adj_close: 0.15<br>VZ_adj_close: 0.22<br>AEP_adj_close: 0.25<br>XOM_adj_close: 0.20",
          "Return: 19.28%<br>Volatility: 0.15<br>ABBV_adj_close: 0.36<br>WFC_adj_close: 0.08<br>DUK_adj_close: 0.17<br>AAPL_adj_close: 0.20<br>AMD_adj_close: 0.19",
          "Return: 7.26%<br>Volatility: 0.07<br>PM_adj_close: 0.12<br>SRE_adj_close: 0.27<br>DHR_adj_close: 0.24<br>JNJ_adj_close: 0.09<br>PEP_adj_close: 0.27",
          "Return: 30.94%<br>Volatility: 0.10<br>TXN_adj_close: 0.23<br>AMZN_adj_close: 0.27<br>GOOG_adj_close: 0.14<br>KO_adj_close: 0.30<br>CAT_adj_close: 0.07",
          "Return: 30.15%<br>Volatility: 0.08<br>NEE_adj_close: 0.36<br>T_adj_close: 0.02<br>DE_adj_close: 0.13<br>GOOG_adj_close: 0.25<br>MCD_adj_close: 0.24",
          "Return: 22.64%<br>Volatility: 0.11<br>ADBE_adj_close: 0.24<br>RTX_adj_close: 0.31<br>TXN_adj_close: 0.16<br>ABT_adj_close: 0.01<br>MDT_adj_close: 0.28",
          "Return: 14.40%<br>Volatility: 0.10<br>SYY_adj_close: 0.15<br>TSLA_adj_close: 0.17<br>RTX_adj_close: 0.31<br>SRE_adj_close: 0.27<br>MS_adj_close: 0.10",
          "Return: 14.47%<br>Volatility: 0.14<br>MA_adj_close: 0.28<br>CRM_adj_close: 0.24<br>UA_adj_close: 0.26<br>WMT_adj_close: 0.21<br>RDY_adj_close: 0.02",
          "Return: 27.77%<br>Volatility: 0.10<br>INTC_adj_close: 0.05<br>TMO_adj_close: 0.29<br>NKE_adj_close: 0.16<br>GOOGL_adj_close: 0.32<br>ABBV_adj_close: 0.19",
          "Return: 17.52%<br>Volatility: 0.10<br>IBM_adj_close: 0.16<br>UNH_adj_close: 0.59<br>AMD_adj_close: 0.06<br>XOM_adj_close: 0.13<br>LMT_adj_close: 0.06",
          "Return: 5.32%<br>Volatility: 0.13<br>GIS_adj_close: 0.59<br>NVDA_adj_close: 0.08<br>KR_adj_close: 0.09<br>LLY_adj_close: 0.09<br>MO_adj_close: 0.15",
          "Return: 17.06%<br>Volatility: 0.09<br>PM_adj_close: 0.13<br>MA_adj_close: 0.06<br>GM_adj_close: 0.32<br>RTX_adj_close: 0.37<br>V_adj_close: 0.13",
          "Return: 1.76%<br>Volatility: 0.11<br>KR_adj_close: 0.06<br>JPM_adj_close: 0.27<br>AMGN_adj_close: 0.18<br>ABT_adj_close: 0.17<br>CPB_adj_close: 0.32",
          "Return: 13.51%<br>Volatility: 0.10<br>T_adj_close: 0.25<br>AMGN_adj_close: 0.22<br>GILD_adj_close: 0.11<br>WMT_adj_close: 0.22<br>SYK_adj_close: 0.20",
          "Return: 14.58%<br>Volatility: 0.20<br>PYPL_adj_close: 0.24<br>BIIB_adj_close: 0.31<br>EMR_adj_close: 0.20<br>AMD_adj_close: 0.23<br>CSCO_adj_close: 0.02",
          "Return: 39.35%<br>Volatility: 0.15<br>MA_adj_close: 0.16<br>TSLA_adj_close: 0.24<br>META_adj_close: 0.23<br>EW_adj_close: 0.00<br>ABBV_adj_close: 0.37",
          "Return: 27.98%<br>Volatility: 0.15<br>V_adj_close: 0.17<br>TSLA_adj_close: 0.20<br>AAPL_adj_close: 0.49<br>UNH_adj_close: 0.04<br>AMZN_adj_close: 0.09",
          "Return: 0.31%<br>Volatility: 0.08<br>DIS_adj_close: 0.14<br>BSX_adj_close: 0.26<br>GIS_adj_close: 0.09<br>SRE_adj_close: 0.39<br>GILD_adj_close: 0.12",
          "Return: 15.55%<br>Volatility: 0.15<br>ACN_adj_close: 0.08<br>HD_adj_close: 0.11<br>AMD_adj_close: 0.19<br>MO_adj_close: 0.34<br>CAT_adj_close: 0.27",
          "Return: -5.31%<br>Volatility: 0.15<br>DHR_adj_close: 0.22<br>SNAP_adj_close: 0.18<br>ZBH_adj_close: 0.35<br>BTI_adj_close: 0.13<br>VZ_adj_close: 0.12",
          "Return: -2.73%<br>Volatility: 0.21<br>CPB_adj_close: 0.13<br>CVX_adj_close: 0.03<br>EXC_adj_close: 0.04<br>KR_adj_close: 0.43<br>COST_adj_close: 0.38",
          "Return: 15.39%<br>Volatility: 0.12<br>TMO_adj_close: 0.03<br>NEE_adj_close: 0.31<br>VRTX_adj_close: 0.02<br>BSX_adj_close: 0.28<br>QCOM_adj_close: 0.36",
          "Return: -20.31%<br>Volatility: 0.21<br>BTI_adj_close: 0.33<br>SNAP_adj_close: 0.24<br>AMD_adj_close: 0.20<br>MRK_adj_close: 0.13<br>DIS_adj_close: 0.11",
          "Return: 10.83%<br>Volatility: 0.12<br>TXN_adj_close: 0.04<br>BTI_adj_close: 0.49<br>F_adj_close: 0.22<br>ORCL_adj_close: 0.24<br>XOM_adj_close: 0.01",
          "Return: -13.53%<br>Volatility: 0.17<br>MSFT_adj_close: 0.15<br>UA_adj_close: 0.34<br>MRK_adj_close: 0.36<br>QCOM_adj_close: 0.06<br>SRE_adj_close: 0.09",
          "Return: 12.16%<br>Volatility: 0.10<br>GM_adj_close: 0.10<br>PEP_adj_close: 0.18<br>BSX_adj_close: 0.39<br>RMD_adj_close: 0.23<br>WMT_adj_close: 0.09",
          "Return: 40.07%<br>Volatility: 0.10<br>HON_adj_close: 0.13<br>KO_adj_close: 0.31<br>CAT_adj_close: 0.08<br>DIS_adj_close: 0.01<br>BA_adj_close: 0.46",
          "Return: 7.11%<br>Volatility: 0.09<br>PEP_adj_close: 0.22<br>SYY_adj_close: 0.38<br>CVX_adj_close: 0.06<br>VZ_adj_close: 0.05<br>IBM_adj_close: 0.29",
          "Return: -9.16%<br>Volatility: 0.28<br>DE_adj_close: 0.03<br>SNAP_adj_close: 0.39<br>EW_adj_close: 0.41<br>DHR_adj_close: 0.04<br>V_adj_close: 0.13",
          "Return: 11.96%<br>Volatility: 0.15<br>AMD_adj_close: 0.20<br>F_adj_close: 0.09<br>RTX_adj_close: 0.46<br>GOOG_adj_close: 0.10<br>ABBV_adj_close: 0.15",
          "Return: 30.90%<br>Volatility: 0.15<br>MSFT_adj_close: 0.20<br>NFLX_adj_close: 0.21<br>GIS_adj_close: 0.25<br>VRTX_adj_close: 0.25<br>SRE_adj_close: 0.09",
          "Return: -6.01%<br>Volatility: 0.18<br>GOOGL_adj_close: 0.08<br>AMD_adj_close: 0.27<br>UA_adj_close: 0.07<br>GIS_adj_close: 0.20<br>PEP_adj_close: 0.37",
          "Return: 11.48%<br>Volatility: 0.11<br>CPB_adj_close: 0.19<br>RMD_adj_close: 0.17<br>DE_adj_close: 0.12<br>GM_adj_close: 0.37<br>EXC_adj_close: 0.16",
          "Return: 12.04%<br>Volatility: 0.09<br>BAC_adj_close: 0.30<br>SRE_adj_close: 0.33<br>BMY_adj_close: 0.12<br>AAPL_adj_close: 0.09<br>ORCL_adj_close: 0.16",
          "Return: 31.81%<br>Volatility: 0.10<br>ABT_adj_close: 0.21<br>PEP_adj_close: 0.30<br>BABA_adj_close: 0.23<br>BIIB_adj_close: 0.06<br>MSFT_adj_close: 0.20",
          "Return: 13.21%<br>Volatility: 0.21<br>ISRG_adj_close: 0.07<br>RMD_adj_close: 0.38<br>AMD_adj_close: 0.27<br>RDY_adj_close: 0.08<br>PYPL_adj_close: 0.20",
          "Return: 5.43%<br>Volatility: 0.14<br>TXN_adj_close: 0.03<br>UA_adj_close: 0.22<br>SNAP_adj_close: 0.08<br>AEP_adj_close: 0.05<br>MMM_adj_close: 0.63",
          "Return: 15.04%<br>Volatility: 0.11<br>GOOGL_adj_close: 0.22<br>CSCO_adj_close: 0.14<br>REGN_adj_close: 0.20<br>CVX_adj_close: 0.21<br>MS_adj_close: 0.23",
          "Return: 7.32%<br>Volatility: 0.08<br>MS_adj_close: 0.11<br>DUK_adj_close: 0.08<br>T_adj_close: 0.14<br>XOM_adj_close: 0.34<br>EXC_adj_close: 0.33",
          "Return: 14.21%<br>Volatility: 0.08<br>RDY_adj_close: 0.03<br>INTC_adj_close: 0.22<br>DUK_adj_close: 0.52<br>SYY_adj_close: 0.19<br>EXC_adj_close: 0.04",
          "Return: 6.26%<br>Volatility: 0.20<br>TSLA_adj_close: 0.22<br>AMD_adj_close: 0.23<br>REGN_adj_close: 0.12<br>DIS_adj_close: 0.18<br>TXN_adj_close: 0.25",
          "Return: -6.01%<br>Volatility: 0.19<br>CMCSA_adj_close: 0.12<br>WMT_adj_close: 0.28<br>UA_adj_close: 0.34<br>CPB_adj_close: 0.24<br>AAPL_adj_close: 0.03",
          "Return: 12.80%<br>Volatility: 0.09<br>XOM_adj_close: 0.17<br>T_adj_close: 0.32<br>CPB_adj_close: 0.02<br>ACN_adj_close: 0.08<br>MMM_adj_close: 0.41",
          "Return: 12.45%<br>Volatility: 0.08<br>K_adj_close: 0.04<br>REGN_adj_close: 0.16<br>JNJ_adj_close: 0.26<br>EXC_adj_close: 0.28<br>SYY_adj_close: 0.25",
          "Return: -39.32%<br>Volatility: 0.15<br>KR_adj_close: 0.18<br>GE_adj_close: 0.54<br>AMGN_adj_close: 0.01<br>AMD_adj_close: 0.12<br>DUK_adj_close: 0.14",
          "Return: 37.47%<br>Volatility: 0.13<br>DHR_adj_close: 0.02<br>BA_adj_close: 0.22<br>V_adj_close: 0.01<br>ADBE_adj_close: 0.45<br>COST_adj_close: 0.30",
          "Return: -5.43%<br>Volatility: 0.10<br>GS_adj_close: 0.16<br>AMGN_adj_close: 0.24<br>WFC_adj_close: 0.24<br>GE_adj_close: 0.15<br>BTI_adj_close: 0.21",
          "Return: 6.20%<br>Volatility: 0.20<br>DE_adj_close: 0.16<br>RDY_adj_close: 0.23<br>UNH_adj_close: 0.26<br>CRM_adj_close: 0.09<br>AMD_adj_close: 0.26",
          "Return: 23.32%<br>Volatility: 0.09<br>SYK_adj_close: 0.23<br>ISRG_adj_close: 0.19<br>ACN_adj_close: 0.19<br>EXC_adj_close: 0.31<br>DUK_adj_close: 0.08",
          "Return: 11.96%<br>Volatility: 0.09<br>MDT_adj_close: 0.27<br>UNH_adj_close: 0.18<br>ABT_adj_close: 0.15<br>PM_adj_close: 0.37<br>DE_adj_close: 0.03",
          "Return: 22.37%<br>Volatility: 0.10<br>GOOG_adj_close: 0.22<br>LLY_adj_close: 0.23<br>NVDA_adj_close: 0.18<br>SRE_adj_close: 0.14<br>XOM_adj_close: 0.23",
          "Return: 24.59%<br>Volatility: 0.10<br>SAP_adj_close: 0.25<br>F_adj_close: 0.13<br>NKE_adj_close: 0.06<br>JPM_adj_close: 0.40<br>BA_adj_close: 0.17",
          "Return: -4.05%<br>Volatility: 0.09<br>V_adj_close: 0.04<br>SRE_adj_close: 0.22<br>ABT_adj_close: 0.18<br>RTX_adj_close: 0.31<br>GE_adj_close: 0.25",
          "Return: 16.02%<br>Volatility: 0.10<br>CRM_adj_close: 0.22<br>CSCO_adj_close: 0.22<br>MMM_adj_close: 0.11<br>PM_adj_close: 0.17<br>ETN_adj_close: 0.28",
          "Return: 25.26%<br>Volatility: 0.11<br>ORCL_adj_close: 0.18<br>RMD_adj_close: 0.04<br>GOOGL_adj_close: 0.46<br>ABT_adj_close: 0.25<br>ISRG_adj_close: 0.06",
          "Return: 12.00%<br>Volatility: 0.08<br>CPB_adj_close: 0.11<br>KO_adj_close: 0.21<br>SRE_adj_close: 0.33<br>MSFT_adj_close: 0.27<br>RMD_adj_close: 0.08",
          "Return: 6.56%<br>Volatility: 0.10<br>VZ_adj_close: 0.14<br>BA_adj_close: 0.10<br>TMO_adj_close: 0.28<br>MRK_adj_close: 0.44<br>MO_adj_close: 0.05",
          "Return: 18.06%<br>Volatility: 0.23<br>AMD_adj_close: 0.29<br>ISRG_adj_close: 0.05<br>PYPL_adj_close: 0.28<br>EW_adj_close: 0.27<br>GM_adj_close: 0.11",
          "Return: -2.15%<br>Volatility: 0.23<br>SNAP_adj_close: 0.30<br>TSLA_adj_close: 0.17<br>KO_adj_close: 0.05<br>ZBH_adj_close: 0.31<br>VRTX_adj_close: 0.17",
          "Return: 27.74%<br>Volatility: 0.13<br>MO_adj_close: 0.08<br>CVX_adj_close: 0.18<br>VZ_adj_close: 0.20<br>NVDA_adj_close: 0.23<br>GM_adj_close: 0.31",
          "Return: 21.39%<br>Volatility: 0.10<br>GILD_adj_close: 0.19<br>EXC_adj_close: 0.23<br>ORCL_adj_close: 0.14<br>DIS_adj_close: 0.18<br>BABA_adj_close: 0.26",
          "Return: 6.43%<br>Volatility: 0.09<br>GIS_adj_close: 0.21<br>XOM_adj_close: 0.06<br>JPM_adj_close: 0.30<br>VZ_adj_close: 0.05<br>BSX_adj_close: 0.38",
          "Return: 22.23%<br>Volatility: 0.10<br>LMT_adj_close: 0.14<br>V_adj_close: 0.08<br>GOOGL_adj_close: 0.44<br>RTX_adj_close: 0.27<br>XOM_adj_close: 0.06",
          "Return: 5.07%<br>Volatility: 0.11<br>SO_adj_close: 0.19<br>XOM_adj_close: 0.00<br>EW_adj_close: 0.29<br>CPB_adj_close: 0.28<br>NEE_adj_close: 0.23",
          "Return: 4.75%<br>Volatility: 0.10<br>MRK_adj_close: 0.29<br>SYY_adj_close: 0.27<br>PFE_adj_close: 0.04<br>K_adj_close: 0.15<br>EMR_adj_close: 0.25",
          "Return: 27.79%<br>Volatility: 0.14<br>GS_adj_close: 0.45<br>MCD_adj_close: 0.21<br>CAT_adj_close: 0.27<br>MS_adj_close: 0.07<br>AAPL_adj_close: 0.01",
          "Return: 29.06%<br>Volatility: 0.14<br>TMO_adj_close: 0.32<br>BIIB_adj_close: 0.33<br>BABA_adj_close: 0.30<br>BTI_adj_close: 0.03<br>VZ_adj_close: 0.02",
          "Return: 41.10%<br>Volatility: 0.11<br>BA_adj_close: 0.46<br>ABBV_adj_close: 0.06<br>RMD_adj_close: 0.12<br>GIS_adj_close: 0.05<br>CRM_adj_close: 0.31",
          "Return: 3.07%<br>Volatility: 0.12<br>BMY_adj_close: 0.52<br>T_adj_close: 0.35<br>HD_adj_close: 0.02<br>MRK_adj_close: 0.04<br>CPB_adj_close: 0.07",
          "Return: 15.20%<br>Volatility: 0.09<br>GOOGL_adj_close: 0.24<br>BSX_adj_close: 0.31<br>BTI_adj_close: 0.03<br>HD_adj_close: 0.20<br>VZ_adj_close: 0.22",
          "Return: -0.36%<br>Volatility: 0.16<br>SNAP_adj_close: 0.15<br>TSLA_adj_close: 0.18<br>GS_adj_close: 0.35<br>WFC_adj_close: 0.25<br>SYK_adj_close: 0.08",
          "Return: 25.56%<br>Volatility: 0.17<br>COST_adj_close: 0.30<br>GIS_adj_close: 0.00<br>GOOG_adj_close: 0.19<br>VRTX_adj_close: 0.28<br>REGN_adj_close: 0.23",
          "Return: 12.39%<br>Volatility: 0.10<br>BSX_adj_close: 0.18<br>PEP_adj_close: 0.13<br>DUK_adj_close: 0.25<br>TMO_adj_close: 0.43<br>PFE_adj_close: 0.01",
          "Return: 18.95%<br>Volatility: 0.12<br>BIIB_adj_close: 0.25<br>GM_adj_close: 0.30<br>AMZN_adj_close: 0.31<br>F_adj_close: 0.12<br>DIS_adj_close: 0.03",
          "Return: 8.17%<br>Volatility: 0.11<br>EXC_adj_close: 0.25<br>GS_adj_close: 0.26<br>V_adj_close: 0.28<br>SNAP_adj_close: 0.11<br>GOOGL_adj_close: 0.11",
          "Return: -6.13%<br>Volatility: 0.15<br>REGN_adj_close: 0.29<br>GILD_adj_close: 0.03<br>GIS_adj_close: 0.32<br>INTC_adj_close: 0.04<br>CPB_adj_close: 0.32",
          "Return: 25.37%<br>Volatility: 0.10<br>BSX_adj_close: 0.33<br>HON_adj_close: 0.27<br>DUK_adj_close: 0.00<br>ABBV_adj_close: 0.25<br>UNH_adj_close: 0.15",
          "Return: 15.86%<br>Volatility: 0.12<br>RMD_adj_close: 0.40<br>AAPL_adj_close: 0.07<br>RTX_adj_close: 0.15<br>REGN_adj_close: 0.07<br>NKE_adj_close: 0.31",
          "Return: 16.53%<br>Volatility: 0.12<br>GILD_adj_close: 0.02<br>CVX_adj_close: 0.13<br>GOOGL_adj_close: 0.02<br>BMY_adj_close: 0.62<br>HD_adj_close: 0.21",
          "Return: 25.00%<br>Volatility: 0.11<br>RMD_adj_close: 0.03<br>JPM_adj_close: 0.24<br>BMY_adj_close: 0.39<br>PYPL_adj_close: 0.15<br>ABT_adj_close: 0.19",
          "Return: 12.96%<br>Volatility: 0.11<br>HON_adj_close: 0.35<br>DIS_adj_close: 0.03<br>VZ_adj_close: 0.43<br>T_adj_close: 0.19<br>NEE_adj_close: 0.00",
          "Return: 17.30%<br>Volatility: 0.11<br>META_adj_close: 0.09<br>AMGN_adj_close: 0.46<br>HD_adj_close: 0.12<br>JPM_adj_close: 0.26<br>NVDA_adj_close: 0.07",
          "Return: 8.71%<br>Volatility: 0.09<br>GILD_adj_close: 0.37<br>HD_adj_close: 0.11<br>AAPL_adj_close: 0.08<br>SO_adj_close: 0.33<br>AEP_adj_close: 0.11",
          "Return: 19.24%<br>Volatility: 0.08<br>ACN_adj_close: 0.31<br>ORCL_adj_close: 0.21<br>DIS_adj_close: 0.22<br>UNH_adj_close: 0.18<br>CRM_adj_close: 0.08",
          "Return: 27.43%<br>Volatility: 0.10<br>V_adj_close: 0.11<br>PEP_adj_close: 0.15<br>UNH_adj_close: 0.41<br>ACN_adj_close: 0.07<br>EW_adj_close: 0.26",
          "Return: 14.51%<br>Volatility: 0.11<br>EMR_adj_close: 0.43<br>LLY_adj_close: 0.10<br>WFC_adj_close: 0.34<br>AMZN_adj_close: 0.05<br>AEP_adj_close: 0.08",
          "Return: -6.32%<br>Volatility: 0.21<br>GE_adj_close: 0.00<br>COST_adj_close: 0.29<br>ZBH_adj_close: 0.36<br>AMD_adj_close: 0.31<br>NEE_adj_close: 0.03",
          "Return: 2.35%<br>Volatility: 0.16<br>RTX_adj_close: 0.22<br>LLY_adj_close: 0.25<br>AAPL_adj_close: 0.03<br>UNH_adj_close: 0.29<br>SNAP_adj_close: 0.21",
          "Return: 26.02%<br>Volatility: 0.10<br>GOOGL_adj_close: 0.23<br>LMT_adj_close: 0.27<br>ISRG_adj_close: 0.12<br>META_adj_close: 0.23<br>XOM_adj_close: 0.14",
          "Return: 35.25%<br>Volatility: 0.11<br>QCOM_adj_close: 0.13<br>BMY_adj_close: 0.29<br>VRTX_adj_close: 0.04<br>CAT_adj_close: 0.35<br>HON_adj_close: 0.20",
          "Return: 9.69%<br>Volatility: 0.08<br>DUK_adj_close: 0.13<br>T_adj_close: 0.25<br>ETN_adj_close: 0.09<br>RTX_adj_close: 0.23<br>CVX_adj_close: 0.30",
          "Return: 29.24%<br>Volatility: 0.10<br>ABBV_adj_close: 0.23<br>AEP_adj_close: 0.24<br>AMZN_adj_close: 0.28<br>MS_adj_close: 0.04<br>DHR_adj_close: 0.21",
          "Return: 8.44%<br>Volatility: 0.10<br>SYY_adj_close: 0.20<br>CVX_adj_close: 0.13<br>SRE_adj_close: 0.29<br>MMM_adj_close: 0.25<br>AMD_adj_close: 0.12",
          "Return: -0.73%<br>Volatility: 0.29<br>AMD_adj_close: 0.46<br>JPM_adj_close: 0.01<br>MSFT_adj_close: 0.33<br>QCOM_adj_close: 0.09<br>GM_adj_close: 0.11",
          "Return: 15.59%<br>Volatility: 0.09<br>DE_adj_close: 0.18<br>GIS_adj_close: 0.32<br>XOM_adj_close: 0.26<br>GOOGL_adj_close: 0.21<br>TXN_adj_close: 0.03",
          "Return: 35.76%<br>Volatility: 0.10<br>BA_adj_close: 0.18<br>EXC_adj_close: 0.08<br>HON_adj_close: 0.24<br>NVDA_adj_close: 0.19<br>PFE_adj_close: 0.32",
          "Return: 11.52%<br>Volatility: 0.12<br>UA_adj_close: 0.16<br>ZBH_adj_close: 0.05<br>MCD_adj_close: 0.20<br>GOOGL_adj_close: 0.36<br>WFC_adj_close: 0.23",
          "Return: 16.36%<br>Volatility: 0.10<br>KO_adj_close: 0.14<br>VRTX_adj_close: 0.14<br>SRE_adj_close: 0.19<br>RMD_adj_close: 0.30<br>SO_adj_close: 0.23",
          "Return: -22.75%<br>Volatility: 0.15<br>ORCL_adj_close: 0.25<br>DHR_adj_close: 0.18<br>GE_adj_close: 0.30<br>UA_adj_close: 0.23<br>CRM_adj_close: 0.03",
          "Return: 33.10%<br>Volatility: 0.17<br>RMD_adj_close: 0.23<br>INTC_adj_close: 0.00<br>MS_adj_close: 0.16<br>EXC_adj_close: 0.24<br>VRTX_adj_close: 0.37",
          "Return: 10.68%<br>Volatility: 0.09<br>CSCO_adj_close: 0.13<br>RTX_adj_close: 0.28<br>BIIB_adj_close: 0.12<br>AEP_adj_close: 0.30<br>RDY_adj_close: 0.16",
          "Return: 11.26%<br>Volatility: 0.11<br>BABA_adj_close: 0.16<br>T_adj_close: 0.08<br>CPB_adj_close: 0.06<br>CSCO_adj_close: 0.45<br>IBM_adj_close: 0.24",
          "Return: 12.09%<br>Volatility: 0.10<br>GOOG_adj_close: 0.02<br>GIS_adj_close: 0.24<br>CRM_adj_close: 0.27<br>MS_adj_close: 0.20<br>GILD_adj_close: 0.28",
          "Return: 23.24%<br>Volatility: 0.13<br>NFLX_adj_close: 0.30<br>SRE_adj_close: 0.34<br>DIS_adj_close: 0.00<br>SAP_adj_close: 0.12<br>TXN_adj_close: 0.24",
          "Return: 8.36%<br>Volatility: 0.12<br>BIIB_adj_close: 0.25<br>JPM_adj_close: 0.37<br>V_adj_close: 0.10<br>KR_adj_close: 0.18<br>CPB_adj_close: 0.10",
          "Return: 17.16%<br>Volatility: 0.12<br>TMO_adj_close: 0.27<br>UNH_adj_close: 0.06<br>LLY_adj_close: 0.24<br>ADBE_adj_close: 0.17<br>REGN_adj_close: 0.24",
          "Return: 25.66%<br>Volatility: 0.12<br>F_adj_close: 0.22<br>AAPL_adj_close: 0.29<br>EMR_adj_close: 0.01<br>VRTX_adj_close: 0.16<br>LMT_adj_close: 0.31",
          "Return: 25.20%<br>Volatility: 0.23<br>NVDA_adj_close: 0.31<br>SNAP_adj_close: 0.25<br>MO_adj_close: 0.01<br>WMT_adj_close: 0.33<br>GM_adj_close: 0.09",
          "Return: 22.46%<br>Volatility: 0.09<br>TMO_adj_close: 0.31<br>PG_adj_close: 0.10<br>LMT_adj_close: 0.34<br>XOM_adj_close: 0.02<br>META_adj_close: 0.23",
          "Return: 28.94%<br>Volatility: 0.10<br>JPM_adj_close: 0.13<br>LLY_adj_close: 0.21<br>CRM_adj_close: 0.17<br>META_adj_close: 0.31<br>CAT_adj_close: 0.18",
          "Return: 26.83%<br>Volatility: 0.13<br>T_adj_close: 0.07<br>ACN_adj_close: 0.23<br>RMD_adj_close: 0.24<br>META_adj_close: 0.22<br>NFLX_adj_close: 0.24",
          "Return: 24.80%<br>Volatility: 0.11<br>LMT_adj_close: 0.19<br>WMT_adj_close: 0.08<br>ABBV_adj_close: 0.29<br>K_adj_close: 0.17<br>BIIB_adj_close: 0.27",
          "Return: 10.99%<br>Volatility: 0.12<br>RTX_adj_close: 0.19<br>SRE_adj_close: 0.27<br>SNAP_adj_close: 0.03<br>TSLA_adj_close: 0.25<br>BMY_adj_close: 0.26",
          "Return: 16.51%<br>Volatility: 0.11<br>QCOM_adj_close: 0.15<br>AMZN_adj_close: 0.20<br>NKE_adj_close: 0.17<br>ORCL_adj_close: 0.31<br>PM_adj_close: 0.17",
          "Return: 26.70%<br>Volatility: 0.09<br>PEP_adj_close: 0.39<br>GE_adj_close: 0.05<br>SNAP_adj_close: 0.03<br>CAT_adj_close: 0.34<br>NEE_adj_close: 0.20",
          "Return: 22.34%<br>Volatility: 0.12<br>EMR_adj_close: 0.00<br>GE_adj_close: 0.02<br>UNH_adj_close: 0.41<br>CSCO_adj_close: 0.22<br>MS_adj_close: 0.35",
          "Return: 13.27%<br>Volatility: 0.15<br>NVDA_adj_close: 0.17<br>IBM_adj_close: 0.34<br>TXN_adj_close: 0.24<br>SAP_adj_close: 0.12<br>SNAP_adj_close: 0.11",
          "Return: 24.63%<br>Volatility: 0.19<br>REGN_adj_close: 0.27<br>LLY_adj_close: 0.28<br>CSCO_adj_close: 0.09<br>VRTX_adj_close: 0.36<br>UNH_adj_close: 0.00",
          "Return: -5.71%<br>Volatility: 0.25<br>BIIB_adj_close: 0.38<br>CVX_adj_close: 0.01<br>SYY_adj_close: 0.15<br>JNJ_adj_close: 0.08<br>AMD_adj_close: 0.38",
          "Return: -2.22%<br>Volatility: 0.17<br>MRK_adj_close: 0.18<br>CVX_adj_close: 0.23<br>AMD_adj_close: 0.24<br>ISRG_adj_close: 0.05<br>NKE_adj_close: 0.31",
          "Return: 23.49%<br>Volatility: 0.08<br>XOM_adj_close: 0.01<br>LMT_adj_close: 0.36<br>AAPL_adj_close: 0.25<br>NEE_adj_close: 0.33<br>KO_adj_close: 0.05",
          "Return: 0.94%<br>Volatility: 0.12<br>GS_adj_close: 0.16<br>MRK_adj_close: 0.16<br>V_adj_close: 0.17<br>RDY_adj_close: 0.26<br>ZBH_adj_close: 0.24",
          "Return: 21.56%<br>Volatility: 0.11<br>GM_adj_close: 0.22<br>VRTX_adj_close: 0.13<br>MSFT_adj_close: 0.24<br>MDT_adj_close: 0.37<br>META_adj_close: 0.04",
          "Return: 8.42%<br>Volatility: 0.19<br>SNAP_adj_close: 0.24<br>GIS_adj_close: 0.13<br>KO_adj_close: 0.29<br>CMCSA_adj_close: 0.12<br>NVDA_adj_close: 0.23",
          "Return: 16.78%<br>Volatility: 0.12<br>JPM_adj_close: 0.23<br>KR_adj_close: 0.15<br>GS_adj_close: 0.20<br>ACN_adj_close: 0.16<br>UNH_adj_close: 0.25",
          "Return: 36.60%<br>Volatility: 0.17<br>NVDA_adj_close: 0.26<br>GOOGL_adj_close: 0.15<br>BIIB_adj_close: 0.23<br>META_adj_close: 0.29<br>PG_adj_close: 0.06",
          "Return: 23.98%<br>Volatility: 0.10<br>BA_adj_close: 0.34<br>PG_adj_close: 0.10<br>WFC_adj_close: 0.41<br>BIIB_adj_close: 0.04<br>SRE_adj_close: 0.11",
          "Return: 24.94%<br>Volatility: 0.12<br>BTI_adj_close: 0.25<br>AEP_adj_close: 0.22<br>META_adj_close: 0.19<br>GILD_adj_close: 0.14<br>VRTX_adj_close: 0.20",
          "Return: 34.19%<br>Volatility: 0.10<br>PYPL_adj_close: 0.21<br>T_adj_close: 0.30<br>SAP_adj_close: 0.04<br>CAT_adj_close: 0.22<br>MMM_adj_close: 0.23",
          "Return: 37.62%<br>Volatility: 0.11<br>RMD_adj_close: 0.11<br>BMY_adj_close: 0.13<br>V_adj_close: 0.42<br>NFLX_adj_close: 0.04<br>CAT_adj_close: 0.30",
          "Return: 7.88%<br>Volatility: 0.13<br>BSX_adj_close: 0.24<br>AMD_adj_close: 0.13<br>MO_adj_close: 0.22<br>ISRG_adj_close: 0.24<br>KO_adj_close: 0.17",
          "Return: 7.86%<br>Volatility: 0.15<br>PYPL_adj_close: 0.09<br>PG_adj_close: 0.07<br>KR_adj_close: 0.35<br>MRK_adj_close: 0.04<br>ETN_adj_close: 0.46",
          "Return: 5.32%<br>Volatility: 0.10<br>T_adj_close: 0.16<br>QCOM_adj_close: 0.09<br>MDT_adj_close: 0.47<br>CVX_adj_close: 0.27<br>SNAP_adj_close: 0.01",
          "Return: 27.31%<br>Volatility: 0.10<br>CAT_adj_close: 0.26<br>BAC_adj_close: 0.11<br>DE_adj_close: 0.10<br>TMO_adj_close: 0.21<br>DIS_adj_close: 0.32",
          "Return: 13.66%<br>Volatility: 0.08<br>WFC_adj_close: 0.28<br>META_adj_close: 0.26<br>ACN_adj_close: 0.12<br>NEE_adj_close: 0.15<br>MRK_adj_close: 0.19",
          "Return: 7.93%<br>Volatility: 0.11<br>NKE_adj_close: 0.31<br>CVX_adj_close: 0.15<br>WFC_adj_close: 0.33<br>MRK_adj_close: 0.03<br>ZBH_adj_close: 0.17",
          "Return: 12.52%<br>Volatility: 0.09<br>T_adj_close: 0.14<br>LLY_adj_close: 0.30<br>CAT_adj_close: 0.07<br>HON_adj_close: 0.25<br>GS_adj_close: 0.23",
          "Return: 17.26%<br>Volatility: 0.16<br>UA_adj_close: 0.24<br>CRM_adj_close: 0.23<br>NFLX_adj_close: 0.14<br>ADBE_adj_close: 0.25<br>INTC_adj_close: 0.13",
          "Return: -13.82%<br>Volatility: 0.33<br>NFLX_adj_close: 0.24<br>PFE_adj_close: 0.02<br>DHR_adj_close: 0.10<br>ISRG_adj_close: 0.15<br>SNAP_adj_close: 0.50",
          "Return: 23.44%<br>Volatility: 0.12<br>TSLA_adj_close: 0.04<br>WFC_adj_close: 0.21<br>UA_adj_close: 0.06<br>SAP_adj_close: 0.35<br>ADBE_adj_close: 0.35",
          "Return: 15.49%<br>Volatility: 0.12<br>DIS_adj_close: 0.03<br>BTI_adj_close: 0.58<br>MMM_adj_close: 0.27<br>RTX_adj_close: 0.06<br>BIIB_adj_close: 0.07",
          "Return: 12.90%<br>Volatility: 0.12<br>VRTX_adj_close: 0.12<br>MCD_adj_close: 0.03<br>LLY_adj_close: 0.39<br>AAPL_adj_close: 0.04<br>ZBH_adj_close: 0.42",
          "Return: 32.87%<br>Volatility: 0.11<br>CMCSA_adj_close: 0.23<br>ABBV_adj_close: 0.43<br>QCOM_adj_close: 0.16<br>AAPL_adj_close: 0.16<br>LMT_adj_close: 0.04",
          "Return: 7.64%<br>Volatility: 0.14<br>UNH_adj_close: 0.33<br>CPB_adj_close: 0.03<br>K_adj_close: 0.25<br>KR_adj_close: 0.26<br>RTX_adj_close: 0.12",
          "Return: 13.53%<br>Volatility: 0.12<br>EW_adj_close: 0.08<br>WMT_adj_close: 0.14<br>GS_adj_close: 0.33<br>AMGN_adj_close: 0.15<br>CSCO_adj_close: 0.30",
          "Return: 17.88%<br>Volatility: 0.09<br>NEE_adj_close: 0.21<br>WFC_adj_close: 0.11<br>K_adj_close: 0.17<br>JNJ_adj_close: 0.04<br>GOOG_adj_close: 0.47",
          "Return: 11.40%<br>Volatility: 0.12<br>COST_adj_close: 0.33<br>GS_adj_close: 0.31<br>AAPL_adj_close: 0.08<br>SO_adj_close: 0.04<br>EMR_adj_close: 0.24",
          "Return: 18.84%<br>Volatility: 0.10<br>BSX_adj_close: 0.20<br>WMT_adj_close: 0.21<br>DIS_adj_close: 0.14<br>ISRG_adj_close: 0.20<br>ZBH_adj_close: 0.26",
          "Return: 13.10%<br>Volatility: 0.09<br>PFE_adj_close: 0.16<br>NFLX_adj_close: 0.18<br>T_adj_close: 0.23<br>HON_adj_close: 0.17<br>LLY_adj_close: 0.26",
          "Return: 17.63%<br>Volatility: 0.14<br>AEP_adj_close: 0.06<br>MDT_adj_close: 0.13<br>KR_adj_close: 0.33<br>ABBV_adj_close: 0.33<br>JNJ_adj_close: 0.16",
          "Return: 5.88%<br>Volatility: 0.12<br>KR_adj_close: 0.14<br>CPB_adj_close: 0.26<br>ETN_adj_close: 0.26<br>TMO_adj_close: 0.09<br>INTC_adj_close: 0.25",
          "Return: -3.51%<br>Volatility: 0.11<br>REGN_adj_close: 0.15<br>GOOG_adj_close: 0.31<br>COST_adj_close: 0.14<br>GE_adj_close: 0.21<br>T_adj_close: 0.19",
          "Return: 11.53%<br>Volatility: 0.12<br>T_adj_close: 0.38<br>BTI_adj_close: 0.31<br>ZBH_adj_close: 0.14<br>VRTX_adj_close: 0.13<br>HON_adj_close: 0.04",
          "Return: -12.21%<br>Volatility: 0.16<br>WFC_adj_close: 0.39<br>MRK_adj_close: 0.09<br>PEP_adj_close: 0.03<br>K_adj_close: 0.21<br>UA_adj_close: 0.28",
          "Return: -1.45%<br>Volatility: 0.18<br>MMM_adj_close: 0.12<br>GIS_adj_close: 0.16<br>AMD_adj_close: 0.22<br>SAP_adj_close: 0.27<br>KR_adj_close: 0.23",
          "Return: 13.29%<br>Volatility: 0.12<br>UNH_adj_close: 0.48<br>SNAP_adj_close: 0.11<br>BSX_adj_close: 0.01<br>EXC_adj_close: 0.28<br>SO_adj_close: 0.11",
          "Return: 15.10%<br>Volatility: 0.14<br>WMT_adj_close: 0.19<br>TSLA_adj_close: 0.32<br>MRK_adj_close: 0.27<br>COST_adj_close: 0.20<br>JNJ_adj_close: 0.02",
          "Return: 6.20%<br>Volatility: 0.08<br>BMY_adj_close: 0.17<br>SRE_adj_close: 0.26<br>BSX_adj_close: 0.16<br>TMO_adj_close: 0.04<br>PFE_adj_close: 0.38",
          "Return: -4.85%<br>Volatility: 0.24<br>GILD_adj_close: 0.21<br>NVDA_adj_close: 0.07<br>SNAP_adj_close: 0.34<br>WMT_adj_close: 0.14<br>CSCO_adj_close: 0.24",
          "Return: 36.98%<br>Volatility: 0.13<br>CSCO_adj_close: 0.24<br>NVDA_adj_close: 0.23<br>HON_adj_close: 0.38<br>AMZN_adj_close: 0.11<br>BAC_adj_close: 0.04",
          "Return: 4.56%<br>Volatility: 0.08<br>DIS_adj_close: 0.15<br>SO_adj_close: 0.14<br>K_adj_close: 0.21<br>SRE_adj_close: 0.19<br>SAP_adj_close: 0.30",
          "Return: 25.51%<br>Volatility: 0.10<br>GIS_adj_close: 0.15<br>PM_adj_close: 0.12<br>ISRG_adj_close: 0.16<br>CSCO_adj_close: 0.24<br>WMT_adj_close: 0.33",
          "Return: 14.24%<br>Volatility: 0.11<br>QCOM_adj_close: 0.17<br>BTI_adj_close: 0.24<br>GOOGL_adj_close: 0.24<br>AMGN_adj_close: 0.18<br>ORCL_adj_close: 0.16",
          "Return: 13.03%<br>Volatility: 0.11<br>PYPL_adj_close: 0.01<br>MSFT_adj_close: 0.24<br>GILD_adj_close: 0.33<br>MDT_adj_close: 0.26<br>COST_adj_close: 0.17",
          "Return: 16.93%<br>Volatility: 0.10<br>GIS_adj_close: 0.03<br>ABT_adj_close: 0.09<br>AEP_adj_close: 0.10<br>INTC_adj_close: 0.38<br>MDT_adj_close: 0.40",
          "Return: 17.10%<br>Volatility: 0.11<br>SYK_adj_close: 0.10<br>ORCL_adj_close: 0.38<br>GM_adj_close: 0.21<br>SRE_adj_close: 0.04<br>CRM_adj_close: 0.27",
          "Return: 41.27%<br>Volatility: 0.14<br>VZ_adj_close: 0.31<br>NEE_adj_close: 0.00<br>BABA_adj_close: 0.27<br>PYPL_adj_close: 0.33<br>REGN_adj_close: 0.09",
          "Return: 35.71%<br>Volatility: 0.17<br>NVDA_adj_close: 0.16<br>NFLX_adj_close: 0.44<br>PFE_adj_close: 0.21<br>CVX_adj_close: 0.11<br>ACN_adj_close: 0.07",
          "Return: 35.53%<br>Volatility: 0.10<br>ISRG_adj_close: 0.08<br>INTC_adj_close: 0.06<br>MMM_adj_close: 0.13<br>EW_adj_close: 0.08<br>MCD_adj_close: 0.65",
          "Return: 15.78%<br>Volatility: 0.10<br>SYY_adj_close: 0.23<br>EXC_adj_close: 0.16<br>BTI_adj_close: 0.22<br>NKE_adj_close: 0.16<br>EW_adj_close: 0.23",
          "Return: 8.86%<br>Volatility: 0.09<br>MCD_adj_close: 0.06<br>EW_adj_close: 0.22<br>DIS_adj_close: 0.33<br>PFE_adj_close: 0.22<br>MDT_adj_close: 0.17",
          "Return: 21.54%<br>Volatility: 0.10<br>GOOG_adj_close: 0.25<br>HON_adj_close: 0.20<br>EW_adj_close: 0.16<br>NEE_adj_close: 0.12<br>BMY_adj_close: 0.26",
          "Return: 11.97%<br>Volatility: 0.10<br>BA_adj_close: 0.07<br>MDT_adj_close: 0.48<br>EW_adj_close: 0.15<br>PFE_adj_close: 0.24<br>MMM_adj_close: 0.06",
          "Return: 24.63%<br>Volatility: 0.07<br>CVX_adj_close: 0.28<br>PFE_adj_close: 0.22<br>MMM_adj_close: 0.25<br>BABA_adj_close: 0.08<br>MA_adj_close: 0.18",
          "Return: 8.22%<br>Volatility: 0.09<br>RTX_adj_close: 0.26<br>BMY_adj_close: 0.26<br>XOM_adj_close: 0.18<br>VZ_adj_close: 0.23<br>UA_adj_close: 0.06",
          "Return: 23.60%<br>Volatility: 0.14<br>BAC_adj_close: 0.29<br>SYY_adj_close: 0.26<br>UNH_adj_close: 0.03<br>TSLA_adj_close: 0.31<br>INTC_adj_close: 0.11",
          "Return: 30.52%<br>Volatility: 0.13<br>AAPL_adj_close: 0.29<br>NFLX_adj_close: 0.19<br>NVDA_adj_close: 0.13<br>VZ_adj_close: 0.25<br>SYY_adj_close: 0.13",
          "Return: 26.75%<br>Volatility: 0.16<br>AMZN_adj_close: 0.45<br>ETN_adj_close: 0.02<br>REGN_adj_close: 0.20<br>GOOG_adj_close: 0.32<br>ACN_adj_close: 0.00",
          "Return: 22.31%<br>Volatility: 0.14<br>REGN_adj_close: 0.19<br>ZBH_adj_close: 0.43<br>BABA_adj_close: 0.26<br>DE_adj_close: 0.09<br>TMO_adj_close: 0.04",
          "Return: 18.14%<br>Volatility: 0.11<br>ORCL_adj_close: 0.29<br>DE_adj_close: 0.12<br>GIS_adj_close: 0.19<br>NVDA_adj_close: 0.11<br>AMGN_adj_close: 0.29",
          "Return: 28.47%<br>Volatility: 0.09<br>GM_adj_close: 0.06<br>HD_adj_close: 0.24<br>BSX_adj_close: 0.19<br>BA_adj_close: 0.20<br>GOOGL_adj_close: 0.32",
          "Return: 19.56%<br>Volatility: 0.11<br>RMD_adj_close: 0.21<br>GILD_adj_close: 0.30<br>F_adj_close: 0.01<br>ABT_adj_close: 0.46<br>AAPL_adj_close: 0.02",
          "Return: 9.72%<br>Volatility: 0.11<br>WFC_adj_close: 0.20<br>CVX_adj_close: 0.23<br>GM_adj_close: 0.35<br>EMR_adj_close: 0.00<br>DIS_adj_close: 0.22",
          "Return: 15.34%<br>Volatility: 0.11<br>CMCSA_adj_close: 0.16<br>BA_adj_close: 0.03<br>RMD_adj_close: 0.34<br>VZ_adj_close: 0.30<br>COST_adj_close: 0.17",
          "Return: 25.68%<br>Volatility: 0.09<br>AMZN_adj_close: 0.11<br>WMT_adj_close: 0.21<br>EMR_adj_close: 0.22<br>MSFT_adj_close: 0.23<br>MO_adj_close: 0.23",
          "Return: 20.88%<br>Volatility: 0.14<br>NKE_adj_close: 0.09<br>AMGN_adj_close: 0.28<br>RMD_adj_close: 0.25<br>TSLA_adj_close: 0.23<br>BABA_adj_close: 0.14",
          "Return: 21.57%<br>Volatility: 0.12<br>BAC_adj_close: 0.13<br>MDT_adj_close: 0.09<br>VRTX_adj_close: 0.21<br>JNJ_adj_close: 0.35<br>BSX_adj_close: 0.21",
          "Return: 11.26%<br>Volatility: 0.09<br>DUK_adj_close: 0.36<br>BAC_adj_close: 0.10<br>ORCL_adj_close: 0.39<br>CSCO_adj_close: 0.11<br>REGN_adj_close: 0.04",
          "Return: 6.84%<br>Volatility: 0.10<br>BSX_adj_close: 0.26<br>K_adj_close: 0.21<br>REGN_adj_close: 0.16<br>MS_adj_close: 0.21<br>HD_adj_close: 0.17",
          "Return: 7.20%<br>Volatility: 0.10<br>DHR_adj_close: 0.05<br>GE_adj_close: 0.24<br>KO_adj_close: 0.13<br>META_adj_close: 0.27<br>MSFT_adj_close: 0.31",
          "Return: 34.23%<br>Volatility: 0.18<br>VRTX_adj_close: 0.32<br>BTI_adj_close: 0.19<br>ETN_adj_close: 0.23<br>NFLX_adj_close: 0.24<br>AMD_adj_close: 0.01",
          "Return: 28.19%<br>Volatility: 0.10<br>WFC_adj_close: 0.24<br>DE_adj_close: 0.26<br>ISRG_adj_close: 0.25<br>CVX_adj_close: 0.21<br>T_adj_close: 0.04",
          "Return: 5.76%<br>Volatility: 0.09<br>AMZN_adj_close: 0.19<br>GE_adj_close: 0.11<br>F_adj_close: 0.20<br>TXN_adj_close: 0.13<br>PM_adj_close: 0.37",
          "Return: 23.00%<br>Volatility: 0.09<br>ZBH_adj_close: 0.09<br>PG_adj_close: 0.24<br>RTX_adj_close: 0.16<br>HON_adj_close: 0.22<br>ADBE_adj_close: 0.30",
          "Return: -4.13%<br>Volatility: 0.26<br>AMD_adj_close: 0.34<br>DE_adj_close: 0.03<br>REGN_adj_close: 0.35<br>QCOM_adj_close: 0.12<br>META_adj_close: 0.16",
          "Return: 35.34%<br>Volatility: 0.16<br>ORCL_adj_close: 0.15<br>META_adj_close: 0.37<br>XOM_adj_close: 0.18<br>NVDA_adj_close: 0.26<br>REGN_adj_close: 0.03",
          "Return: 17.44%<br>Volatility: 0.08<br>PEP_adj_close: 0.22<br>ORCL_adj_close: 0.18<br>LLY_adj_close: 0.22<br>META_adj_close: 0.24<br>ABT_adj_close: 0.14",
          "Return: 11.90%<br>Volatility: 0.07<br>PG_adj_close: 0.25<br>SO_adj_close: 0.23<br>JNJ_adj_close: 0.27<br>HON_adj_close: 0.07<br>GOOG_adj_close: 0.17",
          "Return: 18.10%<br>Volatility: 0.09<br>MDT_adj_close: 0.25<br>SRE_adj_close: 0.23<br>T_adj_close: 0.07<br>INTC_adj_close: 0.21<br>ISRG_adj_close: 0.24",
          "Return: 11.80%<br>Volatility: 0.10<br>SYK_adj_close: 0.30<br>EMR_adj_close: 0.08<br>JNJ_adj_close: 0.03<br>SRE_adj_close: 0.44<br>RMD_adj_close: 0.15",
          "Return: -6.32%<br>Volatility: 0.22<br>SNAP_adj_close: 0.30<br>SAP_adj_close: 0.02<br>UA_adj_close: 0.09<br>WMT_adj_close: 0.29<br>VZ_adj_close: 0.31",
          "Return: 5.23%<br>Volatility: 0.14<br>SNAP_adj_close: 0.19<br>COST_adj_close: 0.07<br>SYK_adj_close: 0.31<br>SRE_adj_close: 0.14<br>V_adj_close: 0.30",
          "Return: -3.90%<br>Volatility: 0.13<br>V_adj_close: 0.17<br>SNAP_adj_close: 0.13<br>IBM_adj_close: 0.22<br>RDY_adj_close: 0.20<br>CSCO_adj_close: 0.28",
          "Return: 13.44%<br>Volatility: 0.09<br>MRK_adj_close: 0.18<br>DIS_adj_close: 0.31<br>CRM_adj_close: 0.26<br>T_adj_close: 0.08<br>CAT_adj_close: 0.16",
          "Return: 30.20%<br>Volatility: 0.13<br>CVX_adj_close: 0.26<br>NVDA_adj_close: 0.27<br>JNJ_adj_close: 0.32<br>CPB_adj_close: 0.11<br>ABT_adj_close: 0.04",
          "Return: 2.99%<br>Volatility: 0.09<br>ZBH_adj_close: 0.22<br>MRK_adj_close: 0.28<br>AMZN_adj_close: 0.08<br>MO_adj_close: 0.26<br>CRM_adj_close: 0.16",
          "Return: 25.43%<br>Volatility: 0.13<br>INTC_adj_close: 0.14<br>NFLX_adj_close: 0.34<br>PEP_adj_close: 0.27<br>RMD_adj_close: 0.15<br>AEP_adj_close: 0.11",
          "Return: 2.88%<br>Volatility: 0.09<br>CPB_adj_close: 0.08<br>IBM_adj_close: 0.25<br>MS_adj_close: 0.12<br>MRK_adj_close: 0.17<br>CRM_adj_close: 0.38",
          "Return: 6.29%<br>Volatility: 0.07<br>AEP_adj_close: 0.29<br>GE_adj_close: 0.11<br>SYK_adj_close: 0.29<br>MS_adj_close: 0.09<br>DUK_adj_close: 0.22",
          "Return: 28.11%<br>Volatility: 0.16<br>VRTX_adj_close: 0.26<br>IBM_adj_close: 0.02<br>JPM_adj_close: 0.14<br>WFC_adj_close: 0.22<br>EW_adj_close: 0.36",
          "Return: 41.48%<br>Volatility: 0.14<br>NVDA_adj_close: 0.17<br>CRM_adj_close: 0.37<br>HD_adj_close: 0.07<br>ABT_adj_close: 0.12<br>ISRG_adj_close: 0.28",
          "Return: 12.70%<br>Volatility: 0.09<br>EMR_adj_close: 0.26<br>CVX_adj_close: 0.23<br>PG_adj_close: 0.17<br>CMCSA_adj_close: 0.24<br>PFE_adj_close: 0.11",
          "Return: 0.16%<br>Volatility: 0.08<br>SRE_adj_close: 0.29<br>MDT_adj_close: 0.34<br>MRK_adj_close: 0.16<br>ABT_adj_close: 0.13<br>IBM_adj_close: 0.08",
          "Return: 27.97%<br>Volatility: 0.13<br>EMR_adj_close: 0.02<br>BIIB_adj_close: 0.31<br>AMZN_adj_close: 0.40<br>AEP_adj_close: 0.15<br>ABBV_adj_close: 0.13",
          "Return: 32.67%<br>Volatility: 0.09<br>ABT_adj_close: 0.25<br>MSFT_adj_close: 0.35<br>HD_adj_close: 0.22<br>NEE_adj_close: 0.07<br>UNH_adj_close: 0.12",
          "Return: 23.29%<br>Volatility: 0.12<br>XOM_adj_close: 0.14<br>SYK_adj_close: 0.31<br>TSLA_adj_close: 0.19<br>NKE_adj_close: 0.09<br>TXN_adj_close: 0.27",
          "Return: 12.33%<br>Volatility: 0.11<br>AAPL_adj_close: 0.23<br>ZBH_adj_close: 0.20<br>ORCL_adj_close: 0.25<br>GM_adj_close: 0.10<br>GILD_adj_close: 0.23",
          "Return: -32.55%<br>Volatility: 0.28<br>NEE_adj_close: 0.12<br>TMO_adj_close: 0.11<br>SNAP_adj_close: 0.42<br>GE_adj_close: 0.21<br>BIIB_adj_close: 0.14",
          "Return: -7.03%<br>Volatility: 0.13<br>NEE_adj_close: 0.13<br>ADBE_adj_close: 0.32<br>LMT_adj_close: 0.12<br>GE_adj_close: 0.43<br>UA_adj_close: 0.01",
          "Return: 28.40%<br>Volatility: 0.21<br>UNH_adj_close: 0.02<br>BABA_adj_close: 0.32<br>AMD_adj_close: 0.21<br>TXN_adj_close: 0.35<br>EW_adj_close: 0.10",
          "Return: 12.86%<br>Volatility: 0.10<br>XOM_adj_close: 0.10<br>GILD_adj_close: 0.27<br>MDT_adj_close: 0.34<br>MSFT_adj_close: 0.11<br>TXN_adj_close: 0.19",
          "Return: 39.50%<br>Volatility: 0.13<br>V_adj_close: 0.32<br>UNH_adj_close: 0.09<br>AMZN_adj_close: 0.14<br>BABA_adj_close: 0.29<br>EMR_adj_close: 0.16",
          "Return: 7.34%<br>Volatility: 0.10<br>HON_adj_close: 0.27<br>SYY_adj_close: 0.08<br>PFE_adj_close: 0.18<br>REGN_adj_close: 0.30<br>IBM_adj_close: 0.17",
          "Return: 16.32%<br>Volatility: 0.11<br>SYY_adj_close: 0.33<br>NEE_adj_close: 0.10<br>BMY_adj_close: 0.16<br>EW_adj_close: 0.29<br>T_adj_close: 0.13",
          "Return: 15.16%<br>Volatility: 0.09<br>AEP_adj_close: 0.27<br>NKE_adj_close: 0.29<br>BMY_adj_close: 0.07<br>EMR_adj_close: 0.31<br>CVX_adj_close: 0.06",
          "Return: 3.66%<br>Volatility: 0.09<br>PM_adj_close: 0.22<br>IBM_adj_close: 0.29<br>ADBE_adj_close: 0.09<br>VZ_adj_close: 0.27<br>PFE_adj_close: 0.14",
          "Return: 1.28%<br>Volatility: 0.11<br>NKE_adj_close: 0.20<br>T_adj_close: 0.33<br>DIS_adj_close: 0.06<br>MRK_adj_close: 0.15<br>BIIB_adj_close: 0.27",
          "Return: 18.67%<br>Volatility: 0.16<br>JPM_adj_close: 0.20<br>KR_adj_close: 0.24<br>VRTX_adj_close: 0.22<br>RDY_adj_close: 0.15<br>META_adj_close: 0.19",
          "Return: 9.95%<br>Volatility: 0.11<br>AMGN_adj_close: 0.24<br>COST_adj_close: 0.35<br>SYK_adj_close: 0.11<br>BMY_adj_close: 0.24<br>MS_adj_close: 0.05",
          "Return: 13.39%<br>Volatility: 0.09<br>F_adj_close: 0.31<br>RMD_adj_close: 0.23<br>GOOG_adj_close: 0.11<br>ABT_adj_close: 0.13<br>XOM_adj_close: 0.21",
          "Return: 34.34%<br>Volatility: 0.10<br>BMY_adj_close: 0.23<br>HD_adj_close: 0.24<br>HON_adj_close: 0.22<br>BA_adj_close: 0.15<br>VRTX_adj_close: 0.16",
          "Return: 15.58%<br>Volatility: 0.08<br>TMO_adj_close: 0.26<br>KO_adj_close: 0.32<br>MSFT_adj_close: 0.06<br>BTI_adj_close: 0.09<br>CMCSA_adj_close: 0.27",
          "Return: 17.26%<br>Volatility: 0.14<br>VRTX_adj_close: 0.08<br>GILD_adj_close: 0.08<br>GS_adj_close: 0.50<br>CRM_adj_close: 0.22<br>NFLX_adj_close: 0.12",
          "Return: 14.37%<br>Volatility: 0.14<br>GIS_adj_close: 0.14<br>GM_adj_close: 0.38<br>QCOM_adj_close: 0.43<br>CSCO_adj_close: 0.03<br>BMY_adj_close: 0.03",
          "Return: 21.60%<br>Volatility: 0.10<br>DE_adj_close: 0.18<br>ZBH_adj_close: 0.28<br>XOM_adj_close: 0.24<br>ADBE_adj_close: 0.16<br>META_adj_close: 0.15",
          "Return: 14.38%<br>Volatility: 0.09<br>DIS_adj_close: 0.21<br>ADBE_adj_close: 0.18<br>ABT_adj_close: 0.24<br>MDT_adj_close: 0.18<br>MO_adj_close: 0.19",
          "Return: 1.50%<br>Volatility: 0.14<br>GM_adj_close: 0.36<br>REGN_adj_close: 0.31<br>BABA_adj_close: 0.08<br>CAT_adj_close: 0.05<br>GE_adj_close: 0.19",
          "Return: 14.60%<br>Volatility: 0.10<br>HD_adj_close: 0.18<br>DUK_adj_close: 0.33<br>GIS_adj_close: 0.18<br>TSLA_adj_close: 0.22<br>BIIB_adj_close: 0.08",
          "Return: 2.51%<br>Volatility: 0.08<br>PG_adj_close: 0.29<br>SAP_adj_close: 0.21<br>GM_adj_close: 0.04<br>MRK_adj_close: 0.25<br>GIS_adj_close: 0.21",
          "Return: 31.93%<br>Volatility: 0.15<br>RMD_adj_close: 0.18<br>GM_adj_close: 0.16<br>VRTX_adj_close: 0.35<br>PEP_adj_close: 0.24<br>EMR_adj_close: 0.07",
          "Return: 2.90%<br>Volatility: 0.18<br>DHR_adj_close: 0.02<br>SNAP_adj_close: 0.23<br>EMR_adj_close: 0.51<br>BA_adj_close: 0.10<br>PG_adj_close: 0.15",
          "Return: 21.00%<br>Volatility: 0.10<br>TXN_adj_close: 0.27<br>EMR_adj_close: 0.01<br>SRE_adj_close: 0.32<br>GOOG_adj_close: 0.18<br>AAPL_adj_close: 0.22",
          "Return: 23.59%<br>Volatility: 0.11<br>NFLX_adj_close: 0.15<br>RDY_adj_close: 0.12<br>AAPL_adj_close: 0.12<br>JNJ_adj_close: 0.28<br>UNH_adj_close: 0.33",
          "Return: 4.36%<br>Volatility: 0.14<br>BIIB_adj_close: 0.21<br>GE_adj_close: 0.18<br>BAC_adj_close: 0.28<br>DE_adj_close: 0.25<br>UA_adj_close: 0.08",
          "Return: 13.70%<br>Volatility: 0.10<br>WMT_adj_close: 0.11<br>AMGN_adj_close: 0.30<br>MS_adj_close: 0.24<br>CSCO_adj_close: 0.19<br>EXC_adj_close: 0.16",
          "Return: -17.66%<br>Volatility: 0.29<br>VZ_adj_close: 0.10<br>MCD_adj_close: 0.05<br>SNAP_adj_close: 0.44<br>DUK_adj_close: 0.18<br>NEE_adj_close: 0.23",
          "Return: 21.45%<br>Volatility: 0.09<br>GILD_adj_close: 0.32<br>MCD_adj_close: 0.28<br>KR_adj_close: 0.06<br>HON_adj_close: 0.28<br>ADBE_adj_close: 0.06",
          "Return: 22.89%<br>Volatility: 0.09<br>PG_adj_close: 0.40<br>KR_adj_close: 0.07<br>DE_adj_close: 0.16<br>MS_adj_close: 0.07<br>ADBE_adj_close: 0.29",
          "Return: 27.49%<br>Volatility: 0.11<br>MDT_adj_close: 0.08<br>BABA_adj_close: 0.28<br>SYY_adj_close: 0.24<br>CSCO_adj_close: 0.27<br>DHR_adj_close: 0.14",
          "Return: -5.19%<br>Volatility: 0.14<br>UA_adj_close: 0.12<br>MO_adj_close: 0.39<br>TXN_adj_close: 0.11<br>SRE_adj_close: 0.13<br>KR_adj_close: 0.25",
          "Return: 6.57%<br>Volatility: 0.14<br>REGN_adj_close: 0.32<br>F_adj_close: 0.10<br>PEP_adj_close: 0.03<br>INTC_adj_close: 0.28<br>RDY_adj_close: 0.27",
          "Return: 10.21%<br>Volatility: 0.09<br>ACN_adj_close: 0.19<br>DIS_adj_close: 0.29<br>SRE_adj_close: 0.28<br>NFLX_adj_close: 0.13<br>ZBH_adj_close: 0.11",
          "Return: 19.27%<br>Volatility: 0.12<br>DUK_adj_close: 0.22<br>RMD_adj_close: 0.18<br>CAT_adj_close: 0.20<br>KR_adj_close: 0.28<br>TXN_adj_close: 0.13",
          "Return: -0.30%<br>Volatility: 0.12<br>VZ_adj_close: 0.24<br>T_adj_close: 0.34<br>DIS_adj_close: 0.12<br>AMGN_adj_close: 0.21<br>MRK_adj_close: 0.10",
          "Return: 3.73%<br>Volatility: 0.08<br>DUK_adj_close: 0.30<br>JPM_adj_close: 0.09<br>MRK_adj_close: 0.31<br>JNJ_adj_close: 0.29<br>WFC_adj_close: 0.00",
          "Return: 3.75%<br>Volatility: 0.15<br>MA_adj_close: 0.24<br>K_adj_close: 0.22<br>ORCL_adj_close: 0.31<br>RDY_adj_close: 0.05<br>AMD_adj_close: 0.18",
          "Return: 12.50%<br>Volatility: 0.09<br>PG_adj_close: 0.21<br>K_adj_close: 0.02<br>MA_adj_close: 0.17<br>MRK_adj_close: 0.23<br>AAPL_adj_close: 0.36",
          "Return: 24.19%<br>Volatility: 0.10<br>DE_adj_close: 0.01<br>ETN_adj_close: 0.26<br>ABT_adj_close: 0.28<br>COST_adj_close: 0.18<br>MSFT_adj_close: 0.27",
          "Return: 18.76%<br>Volatility: 0.16<br>AAPL_adj_close: 0.07<br>MO_adj_close: 0.07<br>WFC_adj_close: 0.18<br>JPM_adj_close: 0.30<br>TSLA_adj_close: 0.39",
          "Return: 28.72%<br>Volatility: 0.11<br>AMGN_adj_close: 0.11<br>PYPL_adj_close: 0.24<br>F_adj_close: 0.10<br>NFLX_adj_close: 0.12<br>SYY_adj_close: 0.42",
          "Return: 26.82%<br>Volatility: 0.14<br>TSLA_adj_close: 0.25<br>BIIB_adj_close: 0.07<br>BTI_adj_close: 0.28<br>ISRG_adj_close: 0.29<br>GOOG_adj_close: 0.11",
          "Return: 9.68%<br>Volatility: 0.12<br>PEP_adj_close: 0.11<br>CMCSA_adj_close: 0.44<br>LLY_adj_close: 0.10<br>COST_adj_close: 0.29<br>WFC_adj_close: 0.06",
          "Return: 13.34%<br>Volatility: 0.11<br>ETN_adj_close: 0.21<br>GILD_adj_close: 0.25<br>INTC_adj_close: 0.09<br>NKE_adj_close: 0.22<br>MS_adj_close: 0.23",
          "Return: 14.32%<br>Volatility: 0.14<br>AMD_adj_close: 0.15<br>MS_adj_close: 0.22<br>EXC_adj_close: 0.21<br>TXN_adj_close: 0.27<br>SAP_adj_close: 0.15",
          "Return: 8.81%<br>Volatility: 0.09<br>LLY_adj_close: 0.39<br>NFLX_adj_close: 0.10<br>XOM_adj_close: 0.22<br>ORCL_adj_close: 0.13<br>ZBH_adj_close: 0.16",
          "Return: 19.84%<br>Volatility: 0.07<br>NKE_adj_close: 0.03<br>PM_adj_close: 0.16<br>BAC_adj_close: 0.22<br>MA_adj_close: 0.27<br>AEP_adj_close: 0.33",
          "Return: 13.09%<br>Volatility: 0.09<br>MDT_adj_close: 0.22<br>SAP_adj_close: 0.14<br>SYK_adj_close: 0.25<br>CSCO_adj_close: 0.24<br>XOM_adj_close: 0.15",
          "Return: 9.29%<br>Volatility: 0.13<br>ISRG_adj_close: 0.15<br>F_adj_close: 0.25<br>RDY_adj_close: 0.34<br>MMM_adj_close: 0.21<br>DIS_adj_close: 0.05",
          "Return: 26.95%<br>Volatility: 0.10<br>V_adj_close: 0.11<br>MMM_adj_close: 0.32<br>GM_adj_close: 0.40<br>BABA_adj_close: 0.10<br>MCD_adj_close: 0.07",
          "Return: 8.54%<br>Volatility: 0.11<br>TXN_adj_close: 0.03<br>GM_adj_close: 0.35<br>SYK_adj_close: 0.19<br>GE_adj_close: 0.22<br>ABBV_adj_close: 0.22",
          "Return: 19.87%<br>Volatility: 0.08<br>QCOM_adj_close: 0.09<br>PEP_adj_close: 0.24<br>RMD_adj_close: 0.20<br>V_adj_close: 0.17<br>SYY_adj_close: 0.30",
          "Return: 19.72%<br>Volatility: 0.09<br>GIS_adj_close: 0.09<br>LMT_adj_close: 0.27<br>LLY_adj_close: 0.19<br>ADBE_adj_close: 0.13<br>JPM_adj_close: 0.32",
          "Return: 17.69%<br>Volatility: 0.09<br>MS_adj_close: 0.27<br>BMY_adj_close: 0.07<br>MSFT_adj_close: 0.29<br>DHR_adj_close: 0.17<br>SRE_adj_close: 0.19",
          "Return: 43.23%<br>Volatility: 0.19<br>MSFT_adj_close: 0.15<br>META_adj_close: 0.06<br>INTC_adj_close: 0.06<br>NVDA_adj_close: 0.42<br>SRE_adj_close: 0.31",
          "Return: 10.20%<br>Volatility: 0.09<br>GOOGL_adj_close: 0.14<br>GS_adj_close: 0.30<br>K_adj_close: 0.15<br>NEE_adj_close: 0.20<br>BTI_adj_close: 0.21",
          "Return: 7.04%<br>Volatility: 0.10<br>DHR_adj_close: 0.34<br>AAPL_adj_close: 0.14<br>REGN_adj_close: 0.21<br>GIS_adj_close: 0.23<br>LLY_adj_close: 0.07",
          "Return: 15.09%<br>Volatility: 0.08<br>BTI_adj_close: 0.02<br>MMM_adj_close: 0.21<br>LLY_adj_close: 0.16<br>GM_adj_close: 0.30<br>PEP_adj_close: 0.31",
          "Return: 15.70%<br>Volatility: 0.11<br>CPB_adj_close: 0.27<br>BTI_adj_close: 0.12<br>JPM_adj_close: 0.19<br>AMZN_adj_close: 0.37<br>ABBV_adj_close: 0.05",
          "Return: 19.95%<br>Volatility: 0.13<br>MO_adj_close: 0.17<br>AAPL_adj_close: 0.05<br>HD_adj_close: 0.03<br>WMT_adj_close: 0.22<br>MS_adj_close: 0.54",
          "Return: 34.58%<br>Volatility: 0.12<br>NKE_adj_close: 0.22<br>SYK_adj_close: 0.21<br>PYPL_adj_close: 0.26<br>TXN_adj_close: 0.21<br>MMM_adj_close: 0.10",
          "Return: 23.51%<br>Volatility: 0.13<br>DE_adj_close: 0.19<br>GIS_adj_close: 0.12<br>EXC_adj_close: 0.07<br>TSLA_adj_close: 0.27<br>JPM_adj_close: 0.36",
          "Return: 13.56%<br>Volatility: 0.08<br>SRE_adj_close: 0.24<br>MCD_adj_close: 0.25<br>RDY_adj_close: 0.13<br>MMM_adj_close: 0.21<br>AMGN_adj_close: 0.18",
          "Return: 24.70%<br>Volatility: 0.10<br>ZBH_adj_close: 0.12<br>GOOG_adj_close: 0.08<br>HON_adj_close: 0.45<br>JNJ_adj_close: 0.04<br>INTC_adj_close: 0.30",
          "Return: 6.68%<br>Volatility: 0.10<br>KR_adj_close: 0.18<br>BMY_adj_close: 0.04<br>SRE_adj_close: 0.37<br>GOOGL_adj_close: 0.19<br>CVX_adj_close: 0.22",
          "Return: 11.62%<br>Volatility: 0.14<br>EXC_adj_close: 0.18<br>REGN_adj_close: 0.11<br>TSLA_adj_close: 0.34<br>SO_adj_close: 0.14<br>GS_adj_close: 0.23",
          "Return: 23.57%<br>Volatility: 0.11<br>K_adj_close: 0.01<br>IBM_adj_close: 0.10<br>LMT_adj_close: 0.18<br>CRM_adj_close: 0.49<br>AMZN_adj_close: 0.22",
          "Return: 15.62%<br>Volatility: 0.08<br>BTI_adj_close: 0.23<br>DHR_adj_close: 0.16<br>PFE_adj_close: 0.12<br>MMM_adj_close: 0.34<br>DUK_adj_close: 0.14",
          "Return: 9.83%<br>Volatility: 0.11<br>REGN_adj_close: 0.15<br>ABT_adj_close: 0.02<br>RMD_adj_close: 0.19<br>F_adj_close: 0.32<br>ETN_adj_close: 0.32",
          "Return: 14.35%<br>Volatility: 0.12<br>TMO_adj_close: 0.27<br>RDY_adj_close: 0.12<br>SYK_adj_close: 0.25<br>REGN_adj_close: 0.20<br>GOOG_adj_close: 0.17",
          "Return: 23.46%<br>Volatility: 0.09<br>JNJ_adj_close: 0.20<br>DHR_adj_close: 0.23<br>ABT_adj_close: 0.33<br>TXN_adj_close: 0.17<br>INTC_adj_close: 0.07",
          "Return: 17.78%<br>Volatility: 0.10<br>ABT_adj_close: 0.09<br>NFLX_adj_close: 0.24<br>SYY_adj_close: 0.23<br>LLY_adj_close: 0.06<br>PG_adj_close: 0.39",
          "Return: 34.53%<br>Volatility: 0.14<br>NVDA_adj_close: 0.27<br>EXC_adj_close: 0.51<br>KO_adj_close: 0.01<br>MA_adj_close: 0.14<br>BTI_adj_close: 0.07",
          "Return: 22.30%<br>Volatility: 0.12<br>ZBH_adj_close: 0.15<br>LLY_adj_close: 0.06<br>PYPL_adj_close: 0.30<br>GM_adj_close: 0.09<br>MDT_adj_close: 0.39",
          "Return: 22.18%<br>Volatility: 0.09<br>GOOG_adj_close: 0.07<br>MA_adj_close: 0.32<br>PM_adj_close: 0.31<br>MCD_adj_close: 0.15<br>SYY_adj_close: 0.16",
          "Return: 14.92%<br>Volatility: 0.11<br>CRM_adj_close: 0.33<br>IBM_adj_close: 0.17<br>BIIB_adj_close: 0.27<br>ADBE_adj_close: 0.07<br>JPM_adj_close: 0.16",
          "Return: 9.99%<br>Volatility: 0.10<br>MS_adj_close: 0.08<br>CPB_adj_close: 0.23<br>LMT_adj_close: 0.48<br>VZ_adj_close: 0.21<br>REGN_adj_close: 0.00",
          "Return: 11.08%<br>Volatility: 0.10<br>QCOM_adj_close: 0.20<br>ETN_adj_close: 0.09<br>BTI_adj_close: 0.27<br>ORCL_adj_close: 0.24<br>SRE_adj_close: 0.21",
          "Return: 23.87%<br>Volatility: 0.09<br>ZBH_adj_close: 0.08<br>DHR_adj_close: 0.31<br>UNH_adj_close: 0.22<br>CAT_adj_close: 0.07<br>ACN_adj_close: 0.32",
          "Return: 32.95%<br>Volatility: 0.10<br>DHR_adj_close: 0.22<br>CRM_adj_close: 0.14<br>AMGN_adj_close: 0.08<br>TXN_adj_close: 0.27<br>BA_adj_close: 0.30",
          "Return: 30.19%<br>Volatility: 0.14<br>DUK_adj_close: 0.01<br>ETN_adj_close: 0.04<br>MCD_adj_close: 0.22<br>SAP_adj_close: 0.40<br>NFLX_adj_close: 0.32",
          "Return: 21.47%<br>Volatility: 0.09<br>PEP_adj_close: 0.20<br>ABT_adj_close: 0.02<br>AMZN_adj_close: 0.03<br>ETN_adj_close: 0.38<br>HD_adj_close: 0.38",
          "Return: -14.57%<br>Volatility: 0.17<br>SYY_adj_close: 0.01<br>K_adj_close: 0.20<br>PG_adj_close: 0.19<br>UA_adj_close: 0.36<br>DUK_adj_close: 0.24",
          "Return: -5.86%<br>Volatility: 0.36<br>GOOG_adj_close: 0.02<br>MSFT_adj_close: 0.37<br>AMD_adj_close: 0.57<br>BAC_adj_close: 0.03<br>HON_adj_close: 0.01",
          "Return: 20.32%<br>Volatility: 0.10<br>MA_adj_close: 0.11<br>QCOM_adj_close: 0.07<br>MS_adj_close: 0.06<br>SO_adj_close: 0.37<br>TXN_adj_close: 0.39",
          "Return: 31.81%<br>Volatility: 0.13<br>SO_adj_close: 0.30<br>DE_adj_close: 0.06<br>NVDA_adj_close: 0.14<br>ADBE_adj_close: 0.31<br>TMO_adj_close: 0.20",
          "Return: 43.37%<br>Volatility: 0.21<br>VRTX_adj_close: 0.46<br>MDT_adj_close: 0.18<br>ISRG_adj_close: 0.24<br>MSFT_adj_close: 0.08<br>CRM_adj_close: 0.04",
          "Return: 4.71%<br>Volatility: 0.10<br>MO_adj_close: 0.30<br>DE_adj_close: 0.06<br>PEP_adj_close: 0.22<br>REGN_adj_close: 0.25<br>SO_adj_close: 0.16",
          "Return: -10.82%<br>Volatility: 0.23<br>WFC_adj_close: 0.33<br>SNAP_adj_close: 0.33<br>ORCL_adj_close: 0.21<br>DIS_adj_close: 0.05<br>VRTX_adj_close: 0.08",
          "Return: 35.56%<br>Volatility: 0.16<br>LMT_adj_close: 0.11<br>ISRG_adj_close: 0.21<br>MDT_adj_close: 0.25<br>GOOG_adj_close: 0.11<br>VRTX_adj_close: 0.33",
          "Return: 24.32%<br>Volatility: 0.13<br>PM_adj_close: 0.08<br>ORCL_adj_close: 0.08<br>TSLA_adj_close: 0.20<br>CRM_adj_close: 0.31<br>V_adj_close: 0.33",
          "Return: 18.53%<br>Volatility: 0.10<br>JNJ_adj_close: 0.05<br>JPM_adj_close: 0.04<br>MA_adj_close: 0.30<br>GIS_adj_close: 0.44<br>HD_adj_close: 0.18",
          "Return: 7.42%<br>Volatility: 0.08<br>EMR_adj_close: 0.05<br>DUK_adj_close: 0.35<br>SYY_adj_close: 0.13<br>MDT_adj_close: 0.15<br>GILD_adj_close: 0.32",
          "Return: 7.27%<br>Volatility: 0.08<br>GOOG_adj_close: 0.03<br>DIS_adj_close: 0.34<br>NEE_adj_close: 0.36<br>PM_adj_close: 0.13<br>RDY_adj_close: 0.14",
          "Return: 14.27%<br>Volatility: 0.11<br>INTC_adj_close: 0.15<br>UA_adj_close: 0.14<br>TXN_adj_close: 0.30<br>XOM_adj_close: 0.28<br>SYK_adj_close: 0.13",
          "Return: 25.99%<br>Volatility: 0.10<br>K_adj_close: 0.02<br>GILD_adj_close: 0.19<br>TXN_adj_close: 0.23<br>UNH_adj_close: 0.45<br>WFC_adj_close: 0.11",
          "Return: 15.71%<br>Volatility: 0.14<br>NEE_adj_close: 0.19<br>CSCO_adj_close: 0.20<br>AMD_adj_close: 0.20<br>WMT_adj_close: 0.25<br>MMM_adj_close: 0.16",
          "Return: 1.99%<br>Volatility: 0.20<br>UA_adj_close: 0.41<br>DUK_adj_close: 0.18<br>ABBV_adj_close: 0.21<br>MCD_adj_close: 0.18<br>WFC_adj_close: 0.03",
          "Return: 7.93%<br>Volatility: 0.09<br>DHR_adj_close: 0.34<br>WFC_adj_close: 0.19<br>GIS_adj_close: 0.31<br>GOOGL_adj_close: 0.13<br>BIIB_adj_close: 0.04",
          "Return: 7.01%<br>Volatility: 0.10<br>EXC_adj_close: 0.32<br>COST_adj_close: 0.04<br>CRM_adj_close: 0.35<br>CPB_adj_close: 0.28<br>AEP_adj_close: 0.01",
          "Return: 52.23%<br>Volatility: 0.13<br>PYPL_adj_close: 0.27<br>BA_adj_close: 0.44<br>PM_adj_close: 0.00<br>VZ_adj_close: 0.19<br>CAT_adj_close: 0.10",
          "Return: 21.12%<br>Volatility: 0.10<br>SYK_adj_close: 0.22<br>TMO_adj_close: 0.20<br>SAP_adj_close: 0.20<br>COST_adj_close: 0.21<br>META_adj_close: 0.17",
          "Return: 10.59%<br>Volatility: 0.14<br>QCOM_adj_close: 0.04<br>NKE_adj_close: 0.16<br>REGN_adj_close: 0.28<br>F_adj_close: 0.04<br>MS_adj_close: 0.47",
          "Return: 31.94%<br>Volatility: 0.17<br>GS_adj_close: 0.04<br>NFLX_adj_close: 0.33<br>JPM_adj_close: 0.34<br>VRTX_adj_close: 0.22<br>RDY_adj_close: 0.08",
          "Return: 27.41%<br>Volatility: 0.18<br>RTX_adj_close: 0.13<br>INTC_adj_close: 0.23<br>TSLA_adj_close: 0.16<br>UA_adj_close: 0.21<br>NVDA_adj_close: 0.27",
          "Return: 28.28%<br>Volatility: 0.11<br>HON_adj_close: 0.28<br>LLY_adj_close: 0.30<br>PM_adj_close: 0.03<br>ABBV_adj_close: 0.36<br>RMD_adj_close: 0.02",
          "Return: 27.14%<br>Volatility: 0.09<br>GIS_adj_close: 0.24<br>ISRG_adj_close: 0.24<br>TXN_adj_close: 0.17<br>BABA_adj_close: 0.14<br>PG_adj_close: 0.20",
          "Return: 8.25%<br>Volatility: 0.09<br>MRK_adj_close: 0.30<br>ACN_adj_close: 0.33<br>KO_adj_close: 0.07<br>BABA_adj_close: 0.05<br>AMGN_adj_close: 0.25",
          "Return: 16.33%<br>Volatility: 0.08<br>ETN_adj_close: 0.34<br>JNJ_adj_close: 0.29<br>PYPL_adj_close: 0.04<br>PEP_adj_close: 0.14<br>KO_adj_close: 0.19",
          "Return: 45.72%<br>Volatility: 0.15<br>CRM_adj_close: 0.11<br>CSCO_adj_close: 0.24<br>MCD_adj_close: 0.02<br>PYPL_adj_close: 0.50<br>WMT_adj_close: 0.13",
          "Return: 21.35%<br>Volatility: 0.12<br>MSFT_adj_close: 0.23<br>DE_adj_close: 0.29<br>ZBH_adj_close: 0.30<br>BIIB_adj_close: 0.12<br>UA_adj_close: 0.06",
          "Return: 5.72%<br>Volatility: 0.10<br>SRE_adj_close: 0.35<br>COST_adj_close: 0.32<br>K_adj_close: 0.10<br>DUK_adj_close: 0.16<br>GOOG_adj_close: 0.07",
          "Return: 28.04%<br>Volatility: 0.11<br>CAT_adj_close: 0.27<br>DE_adj_close: 0.29<br>QCOM_adj_close: 0.12<br>UNH_adj_close: 0.01<br>MRK_adj_close: 0.31",
          "Return: 14.34%<br>Volatility: 0.11<br>CRM_adj_close: 0.26<br>BIIB_adj_close: 0.28<br>XOM_adj_close: 0.00<br>MA_adj_close: 0.20<br>K_adj_close: 0.26",
          "Return: 14.62%<br>Volatility: 0.10<br>SYY_adj_close: 0.56<br>QCOM_adj_close: 0.02<br>ORCL_adj_close: 0.25<br>SO_adj_close: 0.16<br>ABT_adj_close: 0.02",
          "Return: 14.57%<br>Volatility: 0.08<br>PEP_adj_close: 0.19<br>PFE_adj_close: 0.34<br>ADBE_adj_close: 0.20<br>T_adj_close: 0.23<br>SYY_adj_close: 0.04",
          "Return: 22.03%<br>Volatility: 0.10<br>T_adj_close: 0.03<br>GOOGL_adj_close: 0.04<br>GIS_adj_close: 0.30<br>BABA_adj_close: 0.31<br>DUK_adj_close: 0.31",
          "Return: 22.31%<br>Volatility: 0.11<br>MA_adj_close: 0.38<br>MDT_adj_close: 0.45<br>ACN_adj_close: 0.06<br>AMZN_adj_close: 0.05<br>BABA_adj_close: 0.07",
          "Return: 16.93%<br>Volatility: 0.08<br>PM_adj_close: 0.21<br>V_adj_close: 0.26<br>CRM_adj_close: 0.21<br>EMR_adj_close: 0.07<br>PFE_adj_close: 0.25",
          "Return: 14.87%<br>Volatility: 0.09<br>ISRG_adj_close: 0.09<br>GOOGL_adj_close: 0.32<br>PM_adj_close: 0.20<br>MO_adj_close: 0.23<br>JPM_adj_close: 0.16",
          "Return: 18.56%<br>Volatility: 0.11<br>EW_adj_close: 0.24<br>COST_adj_close: 0.26<br>PG_adj_close: 0.15<br>QCOM_adj_close: 0.18<br>MSFT_adj_close: 0.17",
          "Return: 18.40%<br>Volatility: 0.08<br>SRE_adj_close: 0.36<br>VZ_adj_close: 0.05<br>META_adj_close: 0.17<br>PFE_adj_close: 0.05<br>HD_adj_close: 0.37",
          "Return: 9.01%<br>Volatility: 0.17<br>RDY_adj_close: 0.44<br>ACN_adj_close: 0.28<br>KO_adj_close: 0.06<br>TSLA_adj_close: 0.21<br>LMT_adj_close: 0.01",
          "Return: 21.37%<br>Volatility: 0.11<br>ACN_adj_close: 0.20<br>AMD_adj_close: 0.07<br>MDT_adj_close: 0.31<br>DE_adj_close: 0.35<br>META_adj_close: 0.08",
          "Return: 29.38%<br>Volatility: 0.09<br>NVDA_adj_close: 0.04<br>KO_adj_close: 0.13<br>MCD_adj_close: 0.29<br>NKE_adj_close: 0.25<br>MA_adj_close: 0.30",
          "Return: 16.20%<br>Volatility: 0.13<br>GILD_adj_close: 0.02<br>COST_adj_close: 0.16<br>RMD_adj_close: 0.23<br>EW_adj_close: 0.31<br>CMCSA_adj_close: 0.28",
          "Return: 12.29%<br>Volatility: 0.10<br>NKE_adj_close: 0.12<br>GM_adj_close: 0.31<br>REGN_adj_close: 0.08<br>BSX_adj_close: 0.20<br>SAP_adj_close: 0.30",
          "Return: 40.38%<br>Volatility: 0.16<br>SYY_adj_close: 0.09<br>VRTX_adj_close: 0.29<br>DHR_adj_close: 0.04<br>MSFT_adj_close: 0.54<br>EMR_adj_close: 0.04",
          "Return: 22.51%<br>Volatility: 0.09<br>ABT_adj_close: 0.21<br>JNJ_adj_close: 0.29<br>K_adj_close: 0.21<br>HD_adj_close: 0.21<br>NVDA_adj_close: 0.08",
          "Return: 4.79%<br>Volatility: 0.10<br>ABT_adj_close: 0.28<br>MRK_adj_close: 0.29<br>ZBH_adj_close: 0.36<br>DUK_adj_close: 0.05<br>IBM_adj_close: 0.02",
          "Return: 25.88%<br>Volatility: 0.11<br>TSLA_adj_close: 0.19<br>V_adj_close: 0.39<br>ABBV_adj_close: 0.01<br>T_adj_close: 0.05<br>NEE_adj_close: 0.36",
          "Return: 39.17%<br>Volatility: 0.14<br>META_adj_close: 0.31<br>VRTX_adj_close: 0.25<br>HON_adj_close: 0.14<br>RDY_adj_close: 0.04<br>WMT_adj_close: 0.26",
          "Return: 21.32%<br>Volatility: 0.12<br>AAPL_adj_close: 0.15<br>REGN_adj_close: 0.28<br>EW_adj_close: 0.02<br>KO_adj_close: 0.34<br>BABA_adj_close: 0.20",
          "Return: 24.27%<br>Volatility: 0.11<br>VRTX_adj_close: 0.19<br>MCD_adj_close: 0.23<br>DIS_adj_close: 0.09<br>F_adj_close: 0.20<br>ORCL_adj_close: 0.30",
          "Return: 15.59%<br>Volatility: 0.10<br>UNH_adj_close: 0.42<br>RDY_adj_close: 0.00<br>GS_adj_close: 0.28<br>CRM_adj_close: 0.12<br>MRK_adj_close: 0.18",
          "Return: 15.54%<br>Volatility: 0.11<br>TXN_adj_close: 0.21<br>SYY_adj_close: 0.31<br>IBM_adj_close: 0.26<br>TSLA_adj_close: 0.21<br>WMT_adj_close: 0.01",
          "Return: 24.30%<br>Volatility: 0.09<br>ABT_adj_close: 0.23<br>COST_adj_close: 0.21<br>CVX_adj_close: 0.18<br>VZ_adj_close: 0.14<br>ADBE_adj_close: 0.24",
          "Return: 12.07%<br>Volatility: 0.14<br>F_adj_close: 0.04<br>BSX_adj_close: 0.24<br>MSFT_adj_close: 0.18<br>NEE_adj_close: 0.02<br>BIIB_adj_close: 0.51",
          "Return: 0.74%<br>Volatility: 0.19<br>MS_adj_close: 0.34<br>KR_adj_close: 0.48<br>MDT_adj_close: 0.02<br>SO_adj_close: 0.11<br>AEP_adj_close: 0.05",
          "Return: 23.77%<br>Volatility: 0.14<br>GS_adj_close: 0.02<br>GOOGL_adj_close: 0.37<br>AMZN_adj_close: 0.39<br>IBM_adj_close: 0.15<br>SAP_adj_close: 0.07",
          "Return: -7.12%<br>Volatility: 0.26<br>ACN_adj_close: 0.32<br>ZBH_adj_close: 0.05<br>JPM_adj_close: 0.06<br>MRK_adj_close: 0.16<br>AMD_adj_close: 0.41",
          "Return: 14.77%<br>Volatility: 0.11<br>F_adj_close: 0.28<br>MS_adj_close: 0.17<br>SYK_adj_close: 0.23<br>EMR_adj_close: 0.27<br>COST_adj_close: 0.05",
          "Return: 17.16%<br>Volatility: 0.09<br>V_adj_close: 0.05<br>JNJ_adj_close: 0.32<br>SO_adj_close: 0.12<br>EW_adj_close: 0.08<br>JPM_adj_close: 0.43",
          "Return: 28.60%<br>Volatility: 0.11<br>BABA_adj_close: 0.21<br>MO_adj_close: 0.07<br>DUK_adj_close: 0.14<br>META_adj_close: 0.23<br>SAP_adj_close: 0.35",
          "Return: 18.09%<br>Volatility: 0.10<br>DHR_adj_close: 0.27<br>RTX_adj_close: 0.34<br>WFC_adj_close: 0.03<br>GOOG_adj_close: 0.35<br>SO_adj_close: 0.01",
          "Return: 8.08%<br>Volatility: 0.11<br>ACN_adj_close: 0.17<br>PG_adj_close: 0.36<br>REGN_adj_close: 0.34<br>CMCSA_adj_close: 0.02<br>CSCO_adj_close: 0.12",
          "Return: 19.19%<br>Volatility: 0.11<br>EMR_adj_close: 0.60<br>REGN_adj_close: 0.10<br>GIS_adj_close: 0.05<br>SYY_adj_close: 0.05<br>META_adj_close: 0.20",
          "Return: 18.39%<br>Volatility: 0.10<br>ADBE_adj_close: 0.26<br>BAC_adj_close: 0.17<br>DUK_adj_close: 0.12<br>ORCL_adj_close: 0.23<br>T_adj_close: 0.22",
          "Return: 9.26%<br>Volatility: 0.14<br>INTC_adj_close: 0.03<br>KR_adj_close: 0.29<br>VZ_adj_close: 0.02<br>JPM_adj_close: 0.37<br>ETN_adj_close: 0.29",
          "Return: 26.50%<br>Volatility: 0.10<br>ABBV_adj_close: 0.32<br>GOOG_adj_close: 0.21<br>CMCSA_adj_close: 0.28<br>F_adj_close: 0.12<br>LLY_adj_close: 0.07",
          "Return: 18.23%<br>Volatility: 0.11<br>BAC_adj_close: 0.14<br>MRK_adj_close: 0.18<br>EW_adj_close: 0.34<br>LMT_adj_close: 0.02<br>V_adj_close: 0.32",
          "Return: 10.89%<br>Volatility: 0.12<br>ADBE_adj_close: 0.19<br>GIS_adj_close: 0.43<br>SYK_adj_close: 0.07<br>REGN_adj_close: 0.27<br>MS_adj_close: 0.05",
          "Return: 37.65%<br>Volatility: 0.12<br>RMD_adj_close: 0.24<br>WMT_adj_close: 0.27<br>EMR_adj_close: 0.05<br>BABA_adj_close: 0.27<br>BAC_adj_close: 0.17",
          "Return: 24.74%<br>Volatility: 0.14<br>NFLX_adj_close: 0.32<br>INTC_adj_close: 0.31<br>AMZN_adj_close: 0.04<br>ETN_adj_close: 0.06<br>PM_adj_close: 0.27",
          "Return: 32.58%<br>Volatility: 0.11<br>TXN_adj_close: 0.28<br>CAT_adj_close: 0.14<br>ABT_adj_close: 0.13<br>TSLA_adj_close: 0.13<br>SYY_adj_close: 0.32",
          "Return: 2.61%<br>Volatility: 0.14<br>EMR_adj_close: 0.24<br>JPM_adj_close: 0.34<br>REGN_adj_close: 0.18<br>SNAP_adj_close: 0.13<br>KR_adj_close: 0.10",
          "Return: 16.57%<br>Volatility: 0.11<br>CRM_adj_close: 0.19<br>NVDA_adj_close: 0.13<br>IBM_adj_close: 0.26<br>GOOGL_adj_close: 0.17<br>F_adj_close: 0.25",
          "Return: 13.62%<br>Volatility: 0.09<br>XOM_adj_close: 0.19<br>GIS_adj_close: 0.16<br>MCD_adj_close: 0.39<br>K_adj_close: 0.24<br>GOOGL_adj_close: 0.02",
          "Return: 17.10%<br>Volatility: 0.11<br>EW_adj_close: 0.28<br>INTC_adj_close: 0.14<br>RTX_adj_close: 0.19<br>GILD_adj_close: 0.24<br>BTI_adj_close: 0.15",
          "Return: 23.16%<br>Volatility: 0.10<br>SRE_adj_close: 0.18<br>UNH_adj_close: 0.02<br>CAT_adj_close: 0.11<br>ORCL_adj_close: 0.27<br>GOOG_adj_close: 0.41",
          "Return: 22.70%<br>Volatility: 0.08<br>VZ_adj_close: 0.27<br>CMCSA_adj_close: 0.18<br>EW_adj_close: 0.04<br>MCD_adj_close: 0.17<br>V_adj_close: 0.34",
          "Return: 35.87%<br>Volatility: 0.12<br>RMD_adj_close: 0.22<br>MS_adj_close: 0.19<br>ORCL_adj_close: 0.14<br>BABA_adj_close: 0.21<br>ABBV_adj_close: 0.25",
          "Return: 8.33%<br>Volatility: 0.10<br>BSX_adj_close: 0.53<br>KO_adj_close: 0.13<br>VZ_adj_close: 0.15<br>LMT_adj_close: 0.15<br>BA_adj_close: 0.03",
          "Return: 9.04%<br>Volatility: 0.09<br>RTX_adj_close: 0.37<br>PM_adj_close: 0.20<br>EMR_adj_close: 0.03<br>TXN_adj_close: 0.01<br>LLY_adj_close: 0.39",
          "Return: 12.51%<br>Volatility: 0.09<br>BABA_adj_close: 0.02<br>T_adj_close: 0.33<br>AAPL_adj_close: 0.29<br>RTX_adj_close: 0.24<br>PFE_adj_close: 0.12",
          "Return: 25.65%<br>Volatility: 0.12<br>DE_adj_close: 0.22<br>GILD_adj_close: 0.26<br>BAC_adj_close: 0.13<br>UA_adj_close: 0.07<br>ISRG_adj_close: 0.32",
          "Return: 24.23%<br>Volatility: 0.09<br>PG_adj_close: 0.08<br>TMO_adj_close: 0.24<br>WMT_adj_close: 0.29<br>ACN_adj_close: 0.17<br>WFC_adj_close: 0.22",
          "Return: 14.28%<br>Volatility: 0.10<br>MDT_adj_close: 0.18<br>GILD_adj_close: 0.02<br>COST_adj_close: 0.38<br>CSCO_adj_close: 0.28<br>MCD_adj_close: 0.14",
          "Return: 20.70%<br>Volatility: 0.15<br>TXN_adj_close: 0.33<br>SYK_adj_close: 0.10<br>AMD_adj_close: 0.17<br>ABT_adj_close: 0.23<br>HD_adj_close: 0.17",
          "Return: 21.97%<br>Volatility: 0.12<br>ETN_adj_close: 0.04<br>NFLX_adj_close: 0.19<br>BSX_adj_close: 0.33<br>DE_adj_close: 0.31<br>LLY_adj_close: 0.13",
          "Return: 11.56%<br>Volatility: 0.10<br>ZBH_adj_close: 0.15<br>WFC_adj_close: 0.31<br>RTX_adj_close: 0.28<br>UNH_adj_close: 0.12<br>MDT_adj_close: 0.15",
          "Return: 22.83%<br>Volatility: 0.13<br>GS_adj_close: 0.10<br>GOOG_adj_close: 0.09<br>ADBE_adj_close: 0.30<br>LMT_adj_close: 0.26<br>REGN_adj_close: 0.25",
          "Return: 28.37%<br>Volatility: 0.09<br>AAPL_adj_close: 0.10<br>HD_adj_close: 0.32<br>GE_adj_close: 0.09<br>ABBV_adj_close: 0.32<br>LMT_adj_close: 0.17",
          "Return: 14.34%<br>Volatility: 0.11<br>RMD_adj_close: 0.37<br>AMZN_adj_close: 0.14<br>F_adj_close: 0.31<br>RDY_adj_close: 0.01<br>LLY_adj_close: 0.17",
          "Return: -2.28%<br>Volatility: 0.13<br>RMD_adj_close: 0.16<br>MO_adj_close: 0.31<br>MRK_adj_close: 0.23<br>KR_adj_close: 0.24<br>TSLA_adj_close: 0.06",
          "Return: 38.48%<br>Volatility: 0.14<br>COST_adj_close: 0.05<br>BA_adj_close: 0.41<br>SYY_adj_close: 0.06<br>NVDA_adj_close: 0.23<br>CPB_adj_close: 0.25",
          "Return: 33.13%<br>Volatility: 0.13<br>BABA_adj_close: 0.12<br>CAT_adj_close: 0.27<br>GS_adj_close: 0.27<br>JPM_adj_close: 0.15<br>GOOGL_adj_close: 0.21",
          "Return: 21.38%<br>Volatility: 0.09<br>BTI_adj_close: 0.16<br>RTX_adj_close: 0.32<br>MMM_adj_close: 0.27<br>SYK_adj_close: 0.22<br>PYPL_adj_close: 0.03",
          "Return: 19.11%<br>Volatility: 0.12<br>LLY_adj_close: 0.13<br>MMM_adj_close: 0.26<br>ABBV_adj_close: 0.26<br>PG_adj_close: 0.08<br>KR_adj_close: 0.27",
          "Return: 16.12%<br>Volatility: 0.08<br>GOOGL_adj_close: 0.27<br>MO_adj_close: 0.18<br>PG_adj_close: 0.12<br>V_adj_close: 0.22<br>VZ_adj_close: 0.22",
          "Return: -7.89%<br>Volatility: 0.20<br>UA_adj_close: 0.33<br>RDY_adj_close: 0.30<br>GILD_adj_close: 0.03<br>ZBH_adj_close: 0.21<br>BABA_adj_close: 0.14",
          "Return: 4.97%<br>Volatility: 0.08<br>EMR_adj_close: 0.07<br>XOM_adj_close: 0.35<br>REGN_adj_close: 0.21<br>EW_adj_close: 0.04<br>PG_adj_close: 0.34",
          "Return: 9.52%<br>Volatility: 0.08<br>PM_adj_close: 0.19<br>NKE_adj_close: 0.28<br>BSX_adj_close: 0.11<br>MS_adj_close: 0.15<br>AEP_adj_close: 0.27",
          "Return: 21.07%<br>Volatility: 0.08<br>MS_adj_close: 0.15<br>CVX_adj_close: 0.22<br>PG_adj_close: 0.22<br>ABBV_adj_close: 0.16<br>TMO_adj_close: 0.25",
          "Return: -5.84%<br>Volatility: 0.16<br>AMD_adj_close: 0.17<br>GE_adj_close: 0.29<br>HD_adj_close: 0.08<br>DE_adj_close: 0.27<br>EW_adj_close: 0.19",
          "Return: 44.39%<br>Volatility: 0.19<br>VRTX_adj_close: 0.39<br>NVDA_adj_close: 0.15<br>PFE_adj_close: 0.04<br>EMR_adj_close: 0.29<br>ETN_adj_close: 0.13",
          "Return: 21.24%<br>Volatility: 0.10<br>SAP_adj_close: 0.02<br>SYY_adj_close: 0.38<br>GILD_adj_close: 0.27<br>META_adj_close: 0.26<br>BABA_adj_close: 0.07",
          "Return: 22.60%<br>Volatility: 0.09<br>SAP_adj_close: 0.35<br>NFLX_adj_close: 0.05<br>JPM_adj_close: 0.26<br>ABT_adj_close: 0.21<br>EXC_adj_close: 0.13",
          "Return: 16.00%<br>Volatility: 0.13<br>VZ_adj_close: 0.11<br>BAC_adj_close: 0.31<br>ORCL_adj_close: 0.01<br>CMCSA_adj_close: 0.30<br>RMD_adj_close: 0.27",
          "Return: -9.89%<br>Volatility: 0.29<br>QCOM_adj_close: 0.09<br>EW_adj_close: 0.20<br>SNAP_adj_close: 0.42<br>SRE_adj_close: 0.01<br>TXN_adj_close: 0.27",
          "Return: -7.72%<br>Volatility: 0.14<br>SAP_adj_close: 0.07<br>QCOM_adj_close: 0.24<br>WFC_adj_close: 0.20<br>SNAP_adj_close: 0.16<br>MRK_adj_close: 0.33",
          "Return: -9.86%<br>Volatility: 0.13<br>MO_adj_close: 0.30<br>RDY_adj_close: 0.34<br>MRK_adj_close: 0.07<br>SRE_adj_close: 0.12<br>CPB_adj_close: 0.17",
          "Return: 29.19%<br>Volatility: 0.11<br>ACN_adj_close: 0.03<br>ABBV_adj_close: 0.39<br>MDT_adj_close: 0.25<br>UNH_adj_close: 0.16<br>DHR_adj_close: 0.17",
          "Return: 26.20%<br>Volatility: 0.12<br>EW_adj_close: 0.34<br>BSX_adj_close: 0.04<br>UNH_adj_close: 0.31<br>LMT_adj_close: 0.14<br>HON_adj_close: 0.17",
          "Return: 20.23%<br>Volatility: 0.07<br>AEP_adj_close: 0.18<br>JPM_adj_close: 0.22<br>KO_adj_close: 0.24<br>DUK_adj_close: 0.01<br>MMM_adj_close: 0.36",
          "Return: 6.35%<br>Volatility: 0.09<br>RDY_adj_close: 0.12<br>AAPL_adj_close: 0.19<br>F_adj_close: 0.13<br>WFC_adj_close: 0.14<br>XOM_adj_close: 0.41",
          "Return: 8.34%<br>Volatility: 0.11<br>DHR_adj_close: 0.20<br>HON_adj_close: 0.15<br>REGN_adj_close: 0.29<br>F_adj_close: 0.27<br>SYK_adj_close: 0.09",
          "Return: 18.80%<br>Volatility: 0.10<br>BSX_adj_close: 0.06<br>JPM_adj_close: 0.21<br>ABT_adj_close: 0.29<br>GILD_adj_close: 0.17<br>RMD_adj_close: 0.27",
          "Return: 20.33%<br>Volatility: 0.11<br>MMM_adj_close: 0.50<br>SO_adj_close: 0.08<br>GIS_adj_close: 0.08<br>QCOM_adj_close: 0.29<br>NEE_adj_close: 0.04",
          "Return: 31.67%<br>Volatility: 0.13<br>PEP_adj_close: 0.19<br>BMY_adj_close: 0.07<br>ISRG_adj_close: 0.27<br>MDT_adj_close: 0.28<br>NVDA_adj_close: 0.19",
          "Return: -4.41%<br>Volatility: 0.17<br>AMD_adj_close: 0.26<br>SYK_adj_close: 0.10<br>GS_adj_close: 0.21<br>PG_adj_close: 0.30<br>WFC_adj_close: 0.14",
          "Return: 30.41%<br>Volatility: 0.12<br>VRTX_adj_close: 0.20<br>CAT_adj_close: 0.22<br>BMY_adj_close: 0.24<br>MO_adj_close: 0.19<br>BTI_adj_close: 0.14",
          "Return: 40.46%<br>Volatility: 0.14<br>GOOGL_adj_close: 0.35<br>BA_adj_close: 0.21<br>JNJ_adj_close: 0.18<br>VRTX_adj_close: 0.23<br>PYPL_adj_close: 0.02",
          "Return: 6.31%<br>Volatility: 0.10<br>EXC_adj_close: 0.17<br>META_adj_close: 0.10<br>GIS_adj_close: 0.39<br>GS_adj_close: 0.32<br>BMY_adj_close: 0.03",
          "Return: 27.99%<br>Volatility: 0.10<br>ABT_adj_close: 0.02<br>BAC_adj_close: 0.22<br>ISRG_adj_close: 0.28<br>ETN_adj_close: 0.19<br>HON_adj_close: 0.29",
          "Return: 23.23%<br>Volatility: 0.11<br>VRTX_adj_close: 0.17<br>LLY_adj_close: 0.25<br>GM_adj_close: 0.21<br>V_adj_close: 0.21<br>EXC_adj_close: 0.16",
          "Return: 13.16%<br>Volatility: 0.08<br>SRE_adj_close: 0.11<br>VZ_adj_close: 0.04<br>LLY_adj_close: 0.27<br>JNJ_adj_close: 0.32<br>NEE_adj_close: 0.25",
          "Return: 17.46%<br>Volatility: 0.13<br>SYK_adj_close: 0.00<br>AEP_adj_close: 0.44<br>MDT_adj_close: 0.07<br>EW_adj_close: 0.46<br>NKE_adj_close: 0.03",
          "Return: 21.44%<br>Volatility: 0.12<br>MA_adj_close: 0.12<br>ISRG_adj_close: 0.26<br>K_adj_close: 0.18<br>RMD_adj_close: 0.20<br>BIIB_adj_close: 0.23",
          "Return: 38.35%<br>Volatility: 0.10<br>UNH_adj_close: 0.09<br>WMT_adj_close: 0.30<br>NVDA_adj_close: 0.07<br>SO_adj_close: 0.28<br>CAT_adj_close: 0.27",
          "Return: 18.93%<br>Volatility: 0.16<br>ACN_adj_close: 0.06<br>GIS_adj_close: 0.30<br>VRTX_adj_close: 0.34<br>K_adj_close: 0.27<br>AMD_adj_close: 0.03",
          "Return: 17.19%<br>Volatility: 0.11<br>KO_adj_close: 0.05<br>CSCO_adj_close: 0.15<br>EMR_adj_close: 0.40<br>MRK_adj_close: 0.07<br>TMO_adj_close: 0.34",
          "Return: 23.71%<br>Volatility: 0.16<br>NVDA_adj_close: 0.05<br>MCD_adj_close: 0.45<br>AMD_adj_close: 0.17<br>GOOG_adj_close: 0.10<br>AAPL_adj_close: 0.23",
          "Return: 14.77%<br>Volatility: 0.08<br>XOM_adj_close: 0.09<br>GOOG_adj_close: 0.42<br>MRK_adj_close: 0.09<br>F_adj_close: 0.11<br>PEP_adj_close: 0.30",
          "Return: 9.64%<br>Volatility: 0.13<br>GOOG_adj_close: 0.19<br>REGN_adj_close: 0.33<br>WFC_adj_close: 0.13<br>AMD_adj_close: 0.03<br>ETN_adj_close: 0.33",
          "Return: 2.82%<br>Volatility: 0.11<br>AMGN_adj_close: 0.40<br>ABT_adj_close: 0.05<br>ZBH_adj_close: 0.36<br>XOM_adj_close: 0.18<br>UA_adj_close: 0.01",
          "Return: -8.17%<br>Volatility: 0.20<br>WMT_adj_close: 0.20<br>AEP_adj_close: 0.21<br>SNAP_adj_close: 0.29<br>RDY_adj_close: 0.19<br>ZBH_adj_close: 0.10",
          "Return: 19.90%<br>Volatility: 0.14<br>EW_adj_close: 0.21<br>KR_adj_close: 0.28<br>ORCL_adj_close: 0.01<br>MMM_adj_close: 0.00<br>MSFT_adj_close: 0.49",
          "Return: 28.41%<br>Volatility: 0.10<br>MCD_adj_close: 0.27<br>ISRG_adj_close: 0.25<br>SO_adj_close: 0.21<br>GOOG_adj_close: 0.24<br>MDT_adj_close: 0.03",
          "Return: 6.76%<br>Volatility: 0.13<br>NKE_adj_close: 0.15<br>CSCO_adj_close: 0.03<br>ORCL_adj_close: 0.28<br>AMD_adj_close: 0.17<br>SYY_adj_close: 0.37",
          "Return: 16.65%<br>Volatility: 0.16<br>REGN_adj_close: 0.23<br>TXN_adj_close: 0.24<br>NFLX_adj_close: 0.24<br>CVX_adj_close: 0.18<br>AMD_adj_close: 0.11",
          "Return: -0.94%<br>Volatility: 0.18<br>DE_adj_close: 0.17<br>JPM_adj_close: 0.28<br>CMCSA_adj_close: 0.17<br>SRE_adj_close: 0.13<br>SNAP_adj_close: 0.25",
          "Return: 23.30%<br>Volatility: 0.10<br>SAP_adj_close: 0.19<br>CSCO_adj_close: 0.27<br>MA_adj_close: 0.25<br>VZ_adj_close: 0.15<br>CRM_adj_close: 0.15",
          "Return: 7.62%<br>Volatility: 0.10<br>DIS_adj_close: 0.22<br>T_adj_close: 0.09<br>F_adj_close: 0.30<br>AAPL_adj_close: 0.29<br>REGN_adj_close: 0.10",
          "Return: 38.03%<br>Volatility: 0.13<br>EW_adj_close: 0.03<br>MSFT_adj_close: 0.38<br>AMZN_adj_close: 0.29<br>ORCL_adj_close: 0.14<br>CAT_adj_close: 0.16",
          "Return: 10.20%<br>Volatility: 0.10<br>PYPL_adj_close: 0.00<br>SAP_adj_close: 0.14<br>GS_adj_close: 0.40<br>BTI_adj_close: 0.13<br>PEP_adj_close: 0.32",
          "Return: 12.23%<br>Volatility: 0.13<br>UA_adj_close: 0.23<br>AMGN_adj_close: 0.20<br>NEE_adj_close: 0.24<br>PFE_adj_close: 0.09<br>CAT_adj_close: 0.24",
          "Return: 7.00%<br>Volatility: 0.13<br>MCD_adj_close: 0.13<br>GE_adj_close: 0.17<br>TSLA_adj_close: 0.27<br>T_adj_close: 0.26<br>TXN_adj_close: 0.18",
          "Return: 3.84%<br>Volatility: 0.18<br>MCD_adj_close: 0.02<br>SYY_adj_close: 0.03<br>CPB_adj_close: 0.15<br>KR_adj_close: 0.38<br>AAPL_adj_close: 0.42",
          "Return: 24.24%<br>Volatility: 0.11<br>SYY_adj_close: 0.47<br>GS_adj_close: 0.09<br>WMT_adj_close: 0.24<br>GOOGL_adj_close: 0.18<br>AMGN_adj_close: 0.02",
          "Return: 36.03%<br>Volatility: 0.10<br>WMT_adj_close: 0.24<br>MCD_adj_close: 0.27<br>T_adj_close: 0.20<br>ISRG_adj_close: 0.13<br>PYPL_adj_close: 0.16",
          "Return: 18.38%<br>Volatility: 0.09<br>F_adj_close: 0.18<br>EMR_adj_close: 0.22<br>HON_adj_close: 0.28<br>BTI_adj_close: 0.24<br>ABBV_adj_close: 0.06",
          "Return: 18.44%<br>Volatility: 0.10<br>PEP_adj_close: 0.21<br>ADBE_adj_close: 0.20<br>GIS_adj_close: 0.29<br>SYK_adj_close: 0.25<br>HON_adj_close: 0.05",
          "Return: 10.43%<br>Volatility: 0.08<br>DE_adj_close: 0.11<br>ORCL_adj_close: 0.22<br>AEP_adj_close: 0.19<br>IBM_adj_close: 0.25<br>JNJ_adj_close: 0.23",
          "Return: 1.18%<br>Volatility: 0.10<br>CPB_adj_close: 0.06<br>HD_adj_close: 0.04<br>MO_adj_close: 0.32<br>PG_adj_close: 0.26<br>ZBH_adj_close: 0.31",
          "Return: 17.50%<br>Volatility: 0.10<br>MO_adj_close: 0.28<br>ISRG_adj_close: 0.28<br>GIS_adj_close: 0.15<br>RDY_adj_close: 0.11<br>MSFT_adj_close: 0.18",
          "Return: 18.35%<br>Volatility: 0.11<br>INTC_adj_close: 0.08<br>ABBV_adj_close: 0.02<br>BTI_adj_close: 0.45<br>MMM_adj_close: 0.28<br>NKE_adj_close: 0.17",
          "Return: 25.09%<br>Volatility: 0.12<br>MS_adj_close: 0.16<br>COST_adj_close: 0.24<br>BABA_adj_close: 0.20<br>AAPL_adj_close: 0.28<br>F_adj_close: 0.12",
          "Return: 3.16%<br>Volatility: 0.10<br>ZBH_adj_close: 0.05<br>ORCL_adj_close: 0.29<br>ACN_adj_close: 0.12<br>RMD_adj_close: 0.12<br>IBM_adj_close: 0.42",
          "Return: 14.92%<br>Volatility: 0.12<br>PFE_adj_close: 0.18<br>QCOM_adj_close: 0.25<br>MS_adj_close: 0.07<br>PYPL_adj_close: 0.07<br>WFC_adj_close: 0.44",
          "Return: -10.41%<br>Volatility: 0.22<br>ABT_adj_close: 0.11<br>SNAP_adj_close: 0.30<br>AAPL_adj_close: 0.05<br>T_adj_close: 0.34<br>TSLA_adj_close: 0.20",
          "Return: 5.54%<br>Volatility: 0.12<br>ISRG_adj_close: 0.18<br>K_adj_close: 0.26<br>VZ_adj_close: 0.08<br>SYK_adj_close: 0.21<br>CPB_adj_close: 0.26",
          "Return: 26.88%<br>Volatility: 0.09<br>MO_adj_close: 0.24<br>CAT_adj_close: 0.16<br>EXC_adj_close: 0.15<br>META_adj_close: 0.21<br>MCD_adj_close: 0.23",
          "Return: 22.95%<br>Volatility: 0.12<br>META_adj_close: 0.29<br>WFC_adj_close: 0.07<br>SYK_adj_close: 0.30<br>IBM_adj_close: 0.05<br>GOOG_adj_close: 0.29",
          "Return: 1.66%<br>Volatility: 0.11<br>GILD_adj_close: 0.32<br>GM_adj_close: 0.08<br>LLY_adj_close: 0.30<br>F_adj_close: 0.01<br>K_adj_close: 0.29",
          "Return: 28.04%<br>Volatility: 0.11<br>BSX_adj_close: 0.16<br>SYK_adj_close: 0.33<br>ABBV_adj_close: 0.37<br>GM_adj_close: 0.08<br>T_adj_close: 0.06",
          "Return: 13.35%<br>Volatility: 0.11<br>BIIB_adj_close: 0.28<br>MA_adj_close: 0.24<br>GS_adj_close: 0.20<br>DUK_adj_close: 0.11<br>F_adj_close: 0.18",
          "Return: 22.91%<br>Volatility: 0.10<br>GOOG_adj_close: 0.21<br>VZ_adj_close: 0.26<br>EW_adj_close: 0.07<br>CAT_adj_close: 0.20<br>AMGN_adj_close: 0.26",
          "Return: -2.80%<br>Volatility: 0.09<br>BMY_adj_close: 0.06<br>DHR_adj_close: 0.42<br>K_adj_close: 0.12<br>MRK_adj_close: 0.27<br>IBM_adj_close: 0.13",
          "Return: 42.73%<br>Volatility: 0.13<br>V_adj_close: 0.22<br>TMO_adj_close: 0.15<br>TXN_adj_close: 0.16<br>ISRG_adj_close: 0.22<br>PYPL_adj_close: 0.26",
          "Return: 7.90%<br>Volatility: 0.16<br>NFLX_adj_close: 0.17<br>BIIB_adj_close: 0.40<br>QCOM_adj_close: 0.17<br>CVX_adj_close: 0.14<br>SNAP_adj_close: 0.13",
          "Return: 17.03%<br>Volatility: 0.13<br>GILD_adj_close: 0.17<br>KR_adj_close: 0.22<br>META_adj_close: 0.19<br>TXN_adj_close: 0.20<br>AAPL_adj_close: 0.22",
          "Return: 27.34%<br>Volatility: 0.12<br>K_adj_close: 0.12<br>V_adj_close: 0.00<br>AMZN_adj_close: 0.40<br>DE_adj_close: 0.24<br>CMCSA_adj_close: 0.25",
          "Return: 13.01%<br>Volatility: 0.10<br>PM_adj_close: 0.09<br>BMY_adj_close: 0.40<br>NFLX_adj_close: 0.11<br>PG_adj_close: 0.21<br>SYY_adj_close: 0.19",
          "Return: 16.64%<br>Volatility: 0.16<br>RTX_adj_close: 0.04<br>TXN_adj_close: 0.25<br>AAPL_adj_close: 0.30<br>SNAP_adj_close: 0.15<br>META_adj_close: 0.27",
          "Return: 21.71%<br>Volatility: 0.08<br>AEP_adj_close: 0.48<br>RTX_adj_close: 0.03<br>ABT_adj_close: 0.12<br>ACN_adj_close: 0.33<br>UNH_adj_close: 0.04",
          "Return: 29.58%<br>Volatility: 0.11<br>MRK_adj_close: 0.32<br>BABA_adj_close: 0.24<br>ABBV_adj_close: 0.31<br>CPB_adj_close: 0.07<br>NVDA_adj_close: 0.06",
          "Return: 20.41%<br>Volatility: 0.15<br>NFLX_adj_close: 0.28<br>SNAP_adj_close: 0.14<br>V_adj_close: 0.36<br>UNH_adj_close: 0.06<br>INTC_adj_close: 0.15",
          "Return: -3.67%<br>Volatility: 0.10<br>CPB_adj_close: 0.15<br>MDT_adj_close: 0.14<br>MO_adj_close: 0.44<br>AEP_adj_close: 0.07<br>AMGN_adj_close: 0.21",
          "Return: 17.24%<br>Volatility: 0.13<br>V_adj_close: 0.17<br>SRE_adj_close: 0.01<br>BIIB_adj_close: 0.30<br>EMR_adj_close: 0.50<br>UA_adj_close: 0.03",
          "Return: 14.04%<br>Volatility: 0.08<br>PM_adj_close: 0.25<br>EXC_adj_close: 0.15<br>DUK_adj_close: 0.31<br>ADBE_adj_close: 0.18<br>JPM_adj_close: 0.11",
          "Return: -2.54%<br>Volatility: 0.13<br>ABBV_adj_close: 0.10<br>UA_adj_close: 0.20<br>K_adj_close: 0.33<br>ORCL_adj_close: 0.21<br>ZBH_adj_close: 0.16",
          "Return: 19.67%<br>Volatility: 0.10<br>CMCSA_adj_close: 0.18<br>AAPL_adj_close: 0.30<br>GOOGL_adj_close: 0.28<br>CVX_adj_close: 0.23<br>CPB_adj_close: 0.01",
          "Return: 8.74%<br>Volatility: 0.18<br>SYY_adj_close: 0.03<br>KR_adj_close: 0.39<br>COST_adj_close: 0.21<br>EMR_adj_close: 0.04<br>ABT_adj_close: 0.33",
          "Return: 11.00%<br>Volatility: 0.12<br>MCD_adj_close: 0.20<br>CMCSA_adj_close: 0.18<br>XOM_adj_close: 0.23<br>UA_adj_close: 0.11<br>BAC_adj_close: 0.27",
          "Return: 18.98%<br>Volatility: 0.14<br>NFLX_adj_close: 0.30<br>IBM_adj_close: 0.09<br>BABA_adj_close: 0.02<br>WFC_adj_close: 0.28<br>QCOM_adj_close: 0.32",
          "Return: -1.84%<br>Volatility: 0.13<br>RMD_adj_close: 0.16<br>MO_adj_close: 0.25<br>NEE_adj_close: 0.16<br>SNAP_adj_close: 0.15<br>GS_adj_close: 0.29",
          "Return: 7.75%<br>Volatility: 0.09<br>AMD_adj_close: 0.05<br>NKE_adj_close: 0.01<br>SO_adj_close: 0.44<br>CMCSA_adj_close: 0.31<br>AMZN_adj_close: 0.19",
          "Return: 5.59%<br>Volatility: 0.09<br>ETN_adj_close: 0.43<br>MRK_adj_close: 0.31<br>KO_adj_close: 0.18<br>ABBV_adj_close: 0.04<br>GS_adj_close: 0.05",
          "Return: 40.02%<br>Volatility: 0.13<br>CAT_adj_close: 0.19<br>MSFT_adj_close: 0.51<br>MDT_adj_close: 0.02<br>AMGN_adj_close: 0.04<br>AMZN_adj_close: 0.24",
          "Return: 14.34%<br>Volatility: 0.18<br>SYY_adj_close: 0.22<br>GE_adj_close: 0.05<br>CAT_adj_close: 0.28<br>KR_adj_close: 0.43<br>EXC_adj_close: 0.02",
          "Return: 23.79%<br>Volatility: 0.09<br>SAP_adj_close: 0.37<br>TMO_adj_close: 0.10<br>ABT_adj_close: 0.41<br>CVX_adj_close: 0.09<br>CMCSA_adj_close: 0.04",
          "Return: 22.81%<br>Volatility: 0.08<br>LMT_adj_close: 0.27<br>ISRG_adj_close: 0.15<br>AMZN_adj_close: 0.05<br>DUK_adj_close: 0.40<br>TXN_adj_close: 0.13",
          "Return: 7.18%<br>Volatility: 0.09<br>GM_adj_close: 0.11<br>BSX_adj_close: 0.25<br>QCOM_adj_close: 0.23<br>AMGN_adj_close: 0.16<br>DUK_adj_close: 0.25",
          "Return: 35.61%<br>Volatility: 0.11<br>MDT_adj_close: 0.15<br>NVDA_adj_close: 0.07<br>MA_adj_close: 0.26<br>BA_adj_close: 0.27<br>GM_adj_close: 0.25",
          "Return: -11.24%<br>Volatility: 0.11<br>CRM_adj_close: 0.24<br>DHR_adj_close: 0.08<br>GE_adj_close: 0.39<br>BABA_adj_close: 0.10<br>GIS_adj_close: 0.19",
          "Return: 21.77%<br>Volatility: 0.09<br>INTC_adj_close: 0.02<br>MSFT_adj_close: 0.34<br>META_adj_close: 0.22<br>F_adj_close: 0.23<br>DUK_adj_close: 0.19",
          "Return: 11.96%<br>Volatility: 0.14<br>MS_adj_close: 0.29<br>GOOG_adj_close: 0.18<br>BMY_adj_close: 0.00<br>CRM_adj_close: 0.23<br>RDY_adj_close: 0.30",
          "Return: 18.23%<br>Volatility: 0.12<br>SO_adj_close: 0.11<br>SYY_adj_close: 0.08<br>LLY_adj_close: 0.29<br>VRTX_adj_close: 0.20<br>CMCSA_adj_close: 0.32",
          "Return: 14.49%<br>Volatility: 0.09<br>EXC_adj_close: 0.14<br>SYK_adj_close: 0.29<br>EMR_adj_close: 0.23<br>TSLA_adj_close: 0.04<br>F_adj_close: 0.31",
          "Return: 22.18%<br>Volatility: 0.13<br>ISRG_adj_close: 0.01<br>TSLA_adj_close: 0.30<br>PYPL_adj_close: 0.14<br>CSCO_adj_close: 0.22<br>XOM_adj_close: 0.33",
          "Return: 11.19%<br>Volatility: 0.09<br>JPM_adj_close: 0.32<br>XOM_adj_close: 0.16<br>BTI_adj_close: 0.27<br>DIS_adj_close: 0.17<br>RTX_adj_close: 0.08",
          "Return: 34.56%<br>Volatility: 0.15<br>CSCO_adj_close: 0.10<br>MO_adj_close: 0.25<br>AMZN_adj_close: 0.28<br>NVDA_adj_close: 0.25<br>SYK_adj_close: 0.13",
          "Return: 26.24%<br>Volatility: 0.10<br>ABBV_adj_close: 0.22<br>ACN_adj_close: 0.28<br>GOOG_adj_close: 0.02<br>VZ_adj_close: 0.45<br>TXN_adj_close: 0.03",
          "Return: 31.88%<br>Volatility: 0.09<br>NEE_adj_close: 0.19<br>HON_adj_close: 0.02<br>GOOG_adj_close: 0.16<br>XOM_adj_close: 0.30<br>CAT_adj_close: 0.33",
          "Return: 9.38%<br>Volatility: 0.15<br>MSFT_adj_close: 0.18<br>KR_adj_close: 0.33<br>NKE_adj_close: 0.11<br>SAP_adj_close: 0.13<br>CMCSA_adj_close: 0.23",
          "Return: 16.87%<br>Volatility: 0.14<br>AMGN_adj_close: 0.17<br>REGN_adj_close: 0.29<br>NVDA_adj_close: 0.01<br>META_adj_close: 0.45<br>HD_adj_close: 0.09",
          "Return: 26.36%<br>Volatility: 0.10<br>AMGN_adj_close: 0.10<br>HON_adj_close: 0.14<br>CAT_adj_close: 0.08<br>MCD_adj_close: 0.38<br>BMY_adj_close: 0.31",
          "Return: 14.37%<br>Volatility: 0.10<br>XOM_adj_close: 0.07<br>CAT_adj_close: 0.05<br>SRE_adj_close: 0.28<br>INTC_adj_close: 0.15<br>ORCL_adj_close: 0.44",
          "Return: 28.72%<br>Volatility: 0.14<br>V_adj_close: 0.05<br>NVDA_adj_close: 0.23<br>LMT_adj_close: 0.11<br>K_adj_close: 0.36<br>TXN_adj_close: 0.23",
          "Return: 23.82%<br>Volatility: 0.08<br>PEP_adj_close: 0.28<br>VZ_adj_close: 0.29<br>PYPL_adj_close: 0.12<br>LMT_adj_close: 0.08<br>HD_adj_close: 0.23",
          "Return: 24.79%<br>Volatility: 0.09<br>ABBV_adj_close: 0.01<br>DHR_adj_close: 0.07<br>ACN_adj_close: 0.37<br>V_adj_close: 0.25<br>SYY_adj_close: 0.29",
          "Return: 23.42%<br>Volatility: 0.09<br>MMM_adj_close: 0.21<br>ISRG_adj_close: 0.13<br>BABA_adj_close: 0.11<br>PFE_adj_close: 0.29<br>DHR_adj_close: 0.27",
          "Return: 37.10%<br>Volatility: 0.12<br>SYY_adj_close: 0.22<br>REGN_adj_close: 0.07<br>PYPL_adj_close: 0.26<br>BA_adj_close: 0.12<br>GOOGL_adj_close: 0.33",
          "Return: 11.40%<br>Volatility: 0.09<br>HD_adj_close: 0.10<br>CRM_adj_close: 0.34<br>CPB_adj_close: 0.21<br>AMGN_adj_close: 0.20<br>V_adj_close: 0.15",
          "Return: 11.25%<br>Volatility: 0.12<br>CVX_adj_close: 0.29<br>AMD_adj_close: 0.01<br>RDY_adj_close: 0.30<br>ACN_adj_close: 0.31<br>EW_adj_close: 0.09",
          "Return: 21.73%<br>Volatility: 0.09<br>RDY_adj_close: 0.14<br>CMCSA_adj_close: 0.10<br>HD_adj_close: 0.33<br>BA_adj_close: 0.11<br>CVX_adj_close: 0.32",
          "Return: 16.18%<br>Volatility: 0.14<br>RDY_adj_close: 0.16<br>SO_adj_close: 0.22<br>RTX_adj_close: 0.33<br>GE_adj_close: 0.04<br>VRTX_adj_close: 0.25",
          "Return: 22.91%<br>Volatility: 0.12<br>UNH_adj_close: 0.02<br>RMD_adj_close: 0.22<br>EMR_adj_close: 0.16<br>SYK_adj_close: 0.35<br>GOOG_adj_close: 0.25",
          "Return: -9.07%<br>Volatility: 0.27<br>PM_adj_close: 0.24<br>VRTX_adj_close: 0.22<br>KO_adj_close: 0.01<br>SNAP_adj_close: 0.38<br>PG_adj_close: 0.14",
          "Return: 11.15%<br>Volatility: 0.08<br>V_adj_close: 0.23<br>LLY_adj_close: 0.27<br>GS_adj_close: 0.20<br>XOM_adj_close: 0.24<br>HON_adj_close: 0.05",
          "Return: 3.74%<br>Volatility: 0.08<br>PM_adj_close: 0.21<br>DUK_adj_close: 0.18<br>GS_adj_close: 0.21<br>SO_adj_close: 0.20<br>BMY_adj_close: 0.20",
          "Return: -20.52%<br>Volatility: 0.24<br>MCD_adj_close: 0.06<br>SO_adj_close: 0.04<br>BTI_adj_close: 0.25<br>AMD_adj_close: 0.23<br>UA_adj_close: 0.41",
          "Return: 25.90%<br>Volatility: 0.11<br>ADBE_adj_close: 0.24<br>TSLA_adj_close: 0.16<br>INTC_adj_close: 0.27<br>MRK_adj_close: 0.08<br>KO_adj_close: 0.26",
          "Return: 17.38%<br>Volatility: 0.10<br>ADBE_adj_close: 0.20<br>CSCO_adj_close: 0.17<br>CVX_adj_close: 0.21<br>BMY_adj_close: 0.21<br>BSX_adj_close: 0.21",
          "Return: -26.81%<br>Volatility: 0.12<br>GE_adj_close: 0.49<br>AMGN_adj_close: 0.09<br>ABT_adj_close: 0.12<br>NFLX_adj_close: 0.01<br>SRE_adj_close: 0.29",
          "Return: 14.47%<br>Volatility: 0.10<br>ZBH_adj_close: 0.16<br>BSX_adj_close: 0.08<br>QCOM_adj_close: 0.29<br>ABT_adj_close: 0.29<br>SRE_adj_close: 0.17",
          "Return: 16.38%<br>Volatility: 0.08<br>EXC_adj_close: 0.14<br>PEP_adj_close: 0.17<br>IBM_adj_close: 0.30<br>WMT_adj_close: 0.21<br>DE_adj_close: 0.18",
          "Return: 10.98%<br>Volatility: 0.24<br>GE_adj_close: 0.03<br>AMD_adj_close: 0.33<br>META_adj_close: 0.11<br>VRTX_adj_close: 0.16<br>V_adj_close: 0.37",
          "Return: 23.09%<br>Volatility: 0.10<br>SYY_adj_close: 0.07<br>BMY_adj_close: 0.22<br>V_adj_close: 0.25<br>GILD_adj_close: 0.22<br>WMT_adj_close: 0.24",
          "Return: -13.73%<br>Volatility: 0.31<br>SRE_adj_close: 0.26<br>WFC_adj_close: 0.15<br>TXN_adj_close: 0.01<br>AMD_adj_close: 0.53<br>PYPL_adj_close: 0.06",
          "Return: 37.53%<br>Volatility: 0.09<br>BA_adj_close: 0.28<br>SYY_adj_close: 0.16<br>XOM_adj_close: 0.02<br>ACN_adj_close: 0.23<br>MCD_adj_close: 0.30",
          "Return: 25.06%<br>Volatility: 0.10<br>EMR_adj_close: 0.07<br>WMT_adj_close: 0.42<br>CVX_adj_close: 0.18<br>LLY_adj_close: 0.26<br>EW_adj_close: 0.07",
          "Return: 25.17%<br>Volatility: 0.09<br>HD_adj_close: 0.49<br>F_adj_close: 0.14<br>DUK_adj_close: 0.07<br>ABT_adj_close: 0.12<br>GOOG_adj_close: 0.18",
          "Return: 29.31%<br>Volatility: 0.10<br>PM_adj_close: 0.31<br>AMD_adj_close: 0.02<br>PYPL_adj_close: 0.12<br>BA_adj_close: 0.29<br>SYY_adj_close: 0.25",
          "Return: 23.30%<br>Volatility: 0.12<br>GM_adj_close: 0.19<br>SYY_adj_close: 0.09<br>ISRG_adj_close: 0.11<br>COST_adj_close: 0.48<br>CAT_adj_close: 0.13",
          "Return: 15.97%<br>Volatility: 0.09<br>BMY_adj_close: 0.11<br>ACN_adj_close: 0.07<br>ETN_adj_close: 0.23<br>BSX_adj_close: 0.02<br>JNJ_adj_close: 0.57",
          "Return: 20.12%<br>Volatility: 0.09<br>JPM_adj_close: 0.37<br>CVX_adj_close: 0.23<br>INTC_adj_close: 0.08<br>ORCL_adj_close: 0.06<br>SAP_adj_close: 0.25",
          "Return: 22.35%<br>Volatility: 0.09<br>SYK_adj_close: 0.20<br>SYY_adj_close: 0.23<br>PM_adj_close: 0.25<br>META_adj_close: 0.05<br>DE_adj_close: 0.27",
          "Return: 15.38%<br>Volatility: 0.09<br>ACN_adj_close: 0.18<br>DHR_adj_close: 0.27<br>HD_adj_close: 0.20<br>RMD_adj_close: 0.10<br>BSX_adj_close: 0.26",
          "Return: 25.08%<br>Volatility: 0.13<br>WFC_adj_close: 0.37<br>MA_adj_close: 0.07<br>VZ_adj_close: 0.07<br>AAPL_adj_close: 0.36<br>NVDA_adj_close: 0.13",
          "Return: 36.31%<br>Volatility: 0.15<br>EW_adj_close: 0.08<br>DE_adj_close: 0.35<br>GE_adj_close: 0.01<br>UA_adj_close: 0.16<br>PYPL_adj_close: 0.41",
          "Return: -20.76%<br>Volatility: 0.21<br>NVDA_adj_close: 0.13<br>GE_adj_close: 0.26<br>KR_adj_close: 0.33<br>UA_adj_close: 0.27<br>T_adj_close: 0.02",
          "Return: 19.75%<br>Volatility: 0.09<br>MS_adj_close: 0.16<br>XOM_adj_close: 0.25<br>ISRG_adj_close: 0.20<br>VRTX_adj_close: 0.12<br>SO_adj_close: 0.27",
          "Return: 31.75%<br>Volatility: 0.10<br>TMO_adj_close: 0.16<br>BA_adj_close: 0.05<br>MCD_adj_close: 0.63<br>GILD_adj_close: 0.10<br>QCOM_adj_close: 0.06",
          "Return: 20.38%<br>Volatility: 0.12<br>GOOGL_adj_close: 0.05<br>MA_adj_close: 0.22<br>MS_adj_close: 0.11<br>MO_adj_close: 0.36<br>NFLX_adj_close: 0.26",
          "Return: 34.97%<br>Volatility: 0.09<br>GOOG_adj_close: 0.03<br>HD_adj_close: 0.28<br>JNJ_adj_close: 0.12<br>ACN_adj_close: 0.36<br>CAT_adj_close: 0.20",
          "Return: 3.43%<br>Volatility: 0.09<br>MMM_adj_close: 0.32<br>T_adj_close: 0.36<br>CAT_adj_close: 0.01<br>IBM_adj_close: 0.31<br>NEE_adj_close: 0.01",
          "Return: 27.95%<br>Volatility: 0.09<br>RTX_adj_close: 0.13<br>IBM_adj_close: 0.21<br>CAT_adj_close: 0.27<br>ACN_adj_close: 0.17<br>HD_adj_close: 0.22",
          "Return: 25.10%<br>Volatility: 0.11<br>ETN_adj_close: 0.19<br>F_adj_close: 0.18<br>CRM_adj_close: 0.11<br>TXN_adj_close: 0.31<br>MSFT_adj_close: 0.22",
          "Return: 33.97%<br>Volatility: 0.10<br>DIS_adj_close: 0.16<br>MSFT_adj_close: 0.29<br>ABBV_adj_close: 0.29<br>V_adj_close: 0.26<br>GOOGL_adj_close: 0.00",
          "Return: 22.83%<br>Volatility: 0.11<br>ISRG_adj_close: 0.09<br>CPB_adj_close: 0.08<br>SRE_adj_close: 0.10<br>GM_adj_close: 0.30<br>TXN_adj_close: 0.43",
          "Return: 30.40%<br>Volatility: 0.12<br>INTC_adj_close: 0.19<br>BABA_adj_close: 0.31<br>GILD_adj_close: 0.00<br>PM_adj_close: 0.33<br>V_adj_close: 0.17",
          "Return: 3.74%<br>Volatility: 0.13<br>ABBV_adj_close: 0.01<br>ACN_adj_close: 0.43<br>CPB_adj_close: 0.42<br>COST_adj_close: 0.11<br>XOM_adj_close: 0.02",
          "Return: 7.30%<br>Volatility: 0.10<br>COST_adj_close: 0.01<br>CSCO_adj_close: 0.28<br>MO_adj_close: 0.34<br>NVDA_adj_close: 0.05<br>SO_adj_close: 0.32",
          "Return: 27.15%<br>Volatility: 0.12<br>MA_adj_close: 0.16<br>F_adj_close: 0.12<br>VRTX_adj_close: 0.25<br>WFC_adj_close: 0.21<br>CVX_adj_close: 0.26",
          "Return: 9.46%<br>Volatility: 0.11<br>REGN_adj_close: 0.16<br>GIS_adj_close: 0.27<br>TSLA_adj_close: 0.16<br>ACN_adj_close: 0.25<br>RDY_adj_close: 0.15",
          "Return: 19.83%<br>Volatility: 0.11<br>MDT_adj_close: 0.27<br>AMZN_adj_close: 0.29<br>CSCO_adj_close: 0.34<br>BABA_adj_close: 0.04<br>BTI_adj_close: 0.07",
          "Return: 13.95%<br>Volatility: 0.12<br>ISRG_adj_close: 0.29<br>PYPL_adj_close: 0.08<br>PG_adj_close: 0.14<br>UA_adj_close: 0.21<br>EXC_adj_close: 0.29",
          "Return: 21.91%<br>Volatility: 0.13<br>BAC_adj_close: 0.03<br>CPB_adj_close: 0.31<br>BABA_adj_close: 0.36<br>ABT_adj_close: 0.22<br>REGN_adj_close: 0.08",
          "Return: 25.40%<br>Volatility: 0.11<br>BSX_adj_close: 0.08<br>PFE_adj_close: 0.26<br>PYPL_adj_close: 0.17<br>ACN_adj_close: 0.22<br>EW_adj_close: 0.27",
          "Return: 23.68%<br>Volatility: 0.10<br>HON_adj_close: 0.08<br>AMGN_adj_close: 0.20<br>UNH_adj_close: 0.45<br>TMO_adj_close: 0.24<br>ABT_adj_close: 0.04",
          "Return: 18.41%<br>Volatility: 0.09<br>AAPL_adj_close: 0.09<br>SAP_adj_close: 0.17<br>EW_adj_close: 0.22<br>PG_adj_close: 0.20<br>EMR_adj_close: 0.32",
          "Return: 25.30%<br>Volatility: 0.09<br>ACN_adj_close: 0.37<br>V_adj_close: 0.26<br>INTC_adj_close: 0.19<br>LLY_adj_close: 0.06<br>GILD_adj_close: 0.12",
          "Return: 26.20%<br>Volatility: 0.09<br>JPM_adj_close: 0.22<br>ABBV_adj_close: 0.30<br>ORCL_adj_close: 0.14<br>KO_adj_close: 0.26<br>GS_adj_close: 0.09",
          "Return: 8.11%<br>Volatility: 0.11<br>F_adj_close: 0.42<br>T_adj_close: 0.09<br>JPM_adj_close: 0.34<br>MDT_adj_close: 0.11<br>PFE_adj_close: 0.04",
          "Return: -1.96%<br>Volatility: 0.09<br>LLY_adj_close: 0.17<br>MRK_adj_close: 0.11<br>PM_adj_close: 0.39<br>MDT_adj_close: 0.24<br>RDY_adj_close: 0.10",
          "Return: 14.01%<br>Volatility: 0.08<br>XOM_adj_close: 0.29<br>TMO_adj_close: 0.06<br>DHR_adj_close: 0.10<br>MA_adj_close: 0.29<br>GIS_adj_close: 0.27",
          "Return: 13.51%<br>Volatility: 0.08<br>KO_adj_close: 0.19<br>DE_adj_close: 0.05<br>MRK_adj_close: 0.23<br>LMT_adj_close: 0.35<br>TMO_adj_close: 0.18",
          "Return: 13.17%<br>Volatility: 0.11<br>WFC_adj_close: 0.07<br>NKE_adj_close: 0.13<br>GS_adj_close: 0.32<br>SYY_adj_close: 0.32<br>GOOG_adj_close: 0.15",
          "Return: 11.49%<br>Volatility: 0.09<br>IBM_adj_close: 0.26<br>T_adj_close: 0.06<br>BMY_adj_close: 0.34<br>NVDA_adj_close: 0.05<br>MMM_adj_close: 0.30",
          "Return: 9.95%<br>Volatility: 0.10<br>ADBE_adj_close: 0.00<br>ZBH_adj_close: 0.13<br>WFC_adj_close: 0.22<br>RMD_adj_close: 0.33<br>XOM_adj_close: 0.31",
          "Return: 0.27%<br>Volatility: 0.08<br>XOM_adj_close: 0.19<br>V_adj_close: 0.03<br>BTI_adj_close: 0.27<br>MRK_adj_close: 0.27<br>SO_adj_close: 0.24",
          "Return: -0.85%<br>Volatility: 0.10<br>XOM_adj_close: 0.13<br>MDT_adj_close: 0.23<br>RMD_adj_close: 0.12<br>CPB_adj_close: 0.25<br>WFC_adj_close: 0.27",
          "Return: 12.74%<br>Volatility: 0.10<br>GIS_adj_close: 0.20<br>META_adj_close: 0.01<br>CRM_adj_close: 0.48<br>EMR_adj_close: 0.02<br>AMGN_adj_close: 0.29",
          "Return: 27.02%<br>Volatility: 0.11<br>ZBH_adj_close: 0.14<br>GS_adj_close: 0.13<br>ETN_adj_close: 0.04<br>WMT_adj_close: 0.30<br>INTC_adj_close: 0.39",
          "Return: 20.92%<br>Volatility: 0.10<br>V_adj_close: 0.28<br>LMT_adj_close: 0.32<br>HD_adj_close: 0.28<br>ISRG_adj_close: 0.03<br>SNAP_adj_close: 0.10",
          "Return: 3.99%<br>Volatility: 0.10<br>NEE_adj_close: 0.32<br>PFE_adj_close: 0.28<br>HON_adj_close: 0.05<br>UA_adj_close: 0.17<br>AMGN_adj_close: 0.19",
          "Return: 10.59%<br>Volatility: 0.08<br>WFC_adj_close: 0.31<br>UNH_adj_close: 0.12<br>EW_adj_close: 0.09<br>DUK_adj_close: 0.29<br>ZBH_adj_close: 0.20",
          "Return: 13.20%<br>Volatility: 0.09<br>RTX_adj_close: 0.34<br>IBM_adj_close: 0.28<br>MSFT_adj_close: 0.15<br>HD_adj_close: 0.14<br>RMD_adj_close: 0.08",
          "Return: 22.43%<br>Volatility: 0.09<br>DHR_adj_close: 0.41<br>MA_adj_close: 0.36<br>BABA_adj_close: 0.04<br>IBM_adj_close: 0.00<br>KO_adj_close: 0.19",
          "Return: 20.35%<br>Volatility: 0.12<br>ORCL_adj_close: 0.52<br>MCD_adj_close: 0.18<br>PYPL_adj_close: 0.04<br>MS_adj_close: 0.23<br>RTX_adj_close: 0.03",
          "Return: 1.16%<br>Volatility: 0.20<br>SO_adj_close: 0.39<br>AMD_adj_close: 0.30<br>CMCSA_adj_close: 0.06<br>AMZN_adj_close: 0.16<br>BABA_adj_close: 0.09",
          "Return: 12.84%<br>Volatility: 0.07<br>UNH_adj_close: 0.03<br>JNJ_adj_close: 0.30<br>GOOG_adj_close: 0.08<br>PFE_adj_close: 0.26<br>DUK_adj_close: 0.32",
          "Return: 13.56%<br>Volatility: 0.10<br>MO_adj_close: 0.26<br>PG_adj_close: 0.23<br>CAT_adj_close: 0.10<br>NKE_adj_close: 0.14<br>EMR_adj_close: 0.27",
          "Return: 31.16%<br>Volatility: 0.11<br>GS_adj_close: 0.03<br>V_adj_close: 0.19<br>LMT_adj_close: 0.30<br>SYK_adj_close: 0.36<br>NVDA_adj_close: 0.13",
          "Return: 24.26%<br>Volatility: 0.08<br>PEP_adj_close: 0.35<br>CPB_adj_close: 0.01<br>CAT_adj_close: 0.18<br>CRM_adj_close: 0.15<br>AEP_adj_close: 0.31",
          "Return: 6.38%<br>Volatility: 0.10<br>LLY_adj_close: 0.27<br>MS_adj_close: 0.03<br>F_adj_close: 0.41<br>LMT_adj_close: 0.05<br>DHR_adj_close: 0.24",
          "Return: 10.26%<br>Volatility: 0.09<br>DHR_adj_close: 0.26<br>PM_adj_close: 0.30<br>CAT_adj_close: 0.04<br>KO_adj_close: 0.17<br>ETN_adj_close: 0.24",
          "Return: 5.95%<br>Volatility: 0.23<br>SYY_adj_close: 0.07<br>MMM_adj_close: 0.12<br>NVDA_adj_close: 0.22<br>VZ_adj_close: 0.28<br>SNAP_adj_close: 0.32",
          "Return: 18.76%<br>Volatility: 0.09<br>GILD_adj_close: 0.17<br>JNJ_adj_close: 0.39<br>LMT_adj_close: 0.14<br>ABT_adj_close: 0.19<br>EW_adj_close: 0.10",
          "Return: 13.78%<br>Volatility: 0.07<br>GOOG_adj_close: 0.17<br>SRE_adj_close: 0.19<br>RTX_adj_close: 0.24<br>BMY_adj_close: 0.09<br>PEP_adj_close: 0.30",
          "Return: 13.06%<br>Volatility: 0.11<br>EMR_adj_close: 0.33<br>HD_adj_close: 0.32<br>EW_adj_close: 0.03<br>RDY_adj_close: 0.17<br>MRK_adj_close: 0.15",
          "Return: 24.66%<br>Volatility: 0.13<br>T_adj_close: 0.17<br>IBM_adj_close: 0.00<br>PM_adj_close: 0.27<br>INTC_adj_close: 0.31<br>VRTX_adj_close: 0.25",
          "Return: 9.24%<br>Volatility: 0.10<br>BABA_adj_close: 0.16<br>CSCO_adj_close: 0.09<br>LLY_adj_close: 0.27<br>K_adj_close: 0.42<br>DUK_adj_close: 0.05",
          "Return: 16.88%<br>Volatility: 0.08<br>PM_adj_close: 0.28<br>MDT_adj_close: 0.06<br>V_adj_close: 0.21<br>JNJ_adj_close: 0.03<br>NEE_adj_close: 0.41",
          "Return: 27.58%<br>Volatility: 0.12<br>BABA_adj_close: 0.32<br>MCD_adj_close: 0.20<br>GS_adj_close: 0.22<br>SYY_adj_close: 0.04<br>T_adj_close: 0.23",
          "Return: 11.49%<br>Volatility: 0.08<br>GIS_adj_close: 0.22<br>CVX_adj_close: 0.22<br>KR_adj_close: 0.05<br>F_adj_close: 0.19<br>LMT_adj_close: 0.33",
          "Return: -5.65%<br>Volatility: 0.13<br>CPB_adj_close: 0.34<br>ETN_adj_close: 0.18<br>KR_adj_close: 0.13<br>CAT_adj_close: 0.02<br>PM_adj_close: 0.33",
          "Return: 34.14%<br>Volatility: 0.14<br>IBM_adj_close: 0.01<br>DE_adj_close: 0.60<br>BAC_adj_close: 0.27<br>XOM_adj_close: 0.06<br>TSLA_adj_close: 0.06",
          "Return: 9.82%<br>Volatility: 0.08<br>PG_adj_close: 0.32<br>UNH_adj_close: 0.17<br>PM_adj_close: 0.14<br>ETN_adj_close: 0.18<br>GIS_adj_close: 0.18",
          "Return: 17.61%<br>Volatility: 0.11<br>COST_adj_close: 0.19<br>AMGN_adj_close: 0.12<br>MS_adj_close: 0.24<br>DE_adj_close: 0.25<br>MDT_adj_close: 0.20",
          "Return: 0.21%<br>Volatility: 0.19<br>NKE_adj_close: 0.27<br>AMD_adj_close: 0.26<br>GOOG_adj_close: 0.16<br>ABT_adj_close: 0.03<br>GILD_adj_close: 0.28",
          "Return: 26.21%<br>Volatility: 0.14<br>V_adj_close: 0.25<br>SNAP_adj_close: 0.06<br>DIS_adj_close: 0.19<br>NVDA_adj_close: 0.27<br>F_adj_close: 0.23",
          "Return: 24.95%<br>Volatility: 0.10<br>CPB_adj_close: 0.14<br>DE_adj_close: 0.31<br>ACN_adj_close: 0.22<br>NKE_adj_close: 0.14<br>UNH_adj_close: 0.19",
          "Return: 22.56%<br>Volatility: 0.09<br>PFE_adj_close: 0.05<br>SO_adj_close: 0.05<br>BA_adj_close: 0.32<br>WFC_adj_close: 0.15<br>LLY_adj_close: 0.42",
          "Return: 20.28%<br>Volatility: 0.10<br>REGN_adj_close: 0.14<br>GOOG_adj_close: 0.28<br>BA_adj_close: 0.05<br>MMM_adj_close: 0.25<br>DHR_adj_close: 0.28",
          "Return: 29.92%<br>Volatility: 0.11<br>INTC_adj_close: 0.43<br>SRE_adj_close: 0.10<br>MCD_adj_close: 0.34<br>BSX_adj_close: 0.02<br>META_adj_close: 0.10",
          "Return: 8.88%<br>Volatility: 0.11<br>BTI_adj_close: 0.01<br>SYY_adj_close: 0.38<br>KR_adj_close: 0.17<br>CSCO_adj_close: 0.23<br>SO_adj_close: 0.21",
          "Return: 26.10%<br>Volatility: 0.12<br>ADBE_adj_close: 0.32<br>UNH_adj_close: 0.21<br>NKE_adj_close: 0.11<br>RTX_adj_close: 0.18<br>REGN_adj_close: 0.18",
          "Return: 33.55%<br>Volatility: 0.13<br>PEP_adj_close: 0.23<br>NVDA_adj_close: 0.27<br>SYY_adj_close: 0.33<br>AEP_adj_close: 0.14<br>SYK_adj_close: 0.04",
          "Return: 21.98%<br>Volatility: 0.11<br>BAC_adj_close: 0.24<br>META_adj_close: 0.29<br>KR_adj_close: 0.12<br>VZ_adj_close: 0.17<br>WMT_adj_close: 0.18",
          "Return: 15.76%<br>Volatility: 0.10<br>CPB_adj_close: 0.21<br>CSCO_adj_close: 0.34<br>ABBV_adj_close: 0.17<br>TMO_adj_close: 0.27<br>BAC_adj_close: 0.02",
          "Return: 13.29%<br>Volatility: 0.10<br>QCOM_adj_close: 0.06<br>GIS_adj_close: 0.15<br>ZBH_adj_close: 0.22<br>MSFT_adj_close: 0.25<br>WFC_adj_close: 0.32",
          "Return: 21.69%<br>Volatility: 0.09<br>NEE_adj_close: 0.18<br>LMT_adj_close: 0.26<br>EW_adj_close: 0.19<br>MSFT_adj_close: 0.11<br>BTI_adj_close: 0.26",
          "Return: 13.26%<br>Volatility: 0.11<br>BIIB_adj_close: 0.02<br>BABA_adj_close: 0.20<br>DIS_adj_close: 0.61<br>GIS_adj_close: 0.06<br>CVX_adj_close: 0.11",
          "Return: 18.49%<br>Volatility: 0.11<br>SAP_adj_close: 0.06<br>ABT_adj_close: 0.34<br>ZBH_adj_close: 0.13<br>NKE_adj_close: 0.27<br>RMD_adj_close: 0.20",
          "Return: 27.32%<br>Volatility: 0.12<br>PYPL_adj_close: 0.32<br>GOOGL_adj_close: 0.06<br>CSCO_adj_close: 0.34<br>DIS_adj_close: 0.13<br>MO_adj_close: 0.14",
          "Return: 10.21%<br>Volatility: 0.14<br>TSLA_adj_close: 0.00<br>F_adj_close: 0.33<br>RDY_adj_close: 0.32<br>CAT_adj_close: 0.08<br>ABT_adj_close: 0.26",
          "Return: 3.73%<br>Volatility: 0.10<br>MO_adj_close: 0.43<br>META_adj_close: 0.02<br>GOOGL_adj_close: 0.29<br>WFC_adj_close: 0.19<br>GE_adj_close: 0.07",
          "Return: 23.24%<br>Volatility: 0.11<br>DE_adj_close: 0.30<br>RDY_adj_close: 0.04<br>RTX_adj_close: 0.42<br>GIS_adj_close: 0.04<br>CSCO_adj_close: 0.19",
          "Return: 16.59%<br>Volatility: 0.08<br>EXC_adj_close: 0.17<br>GILD_adj_close: 0.14<br>LLY_adj_close: 0.10<br>TMO_adj_close: 0.29<br>NEE_adj_close: 0.29",
          "Return: 16.50%<br>Volatility: 0.09<br>MA_adj_close: 0.35<br>GILD_adj_close: 0.04<br>HD_adj_close: 0.22<br>MRK_adj_close: 0.28<br>GS_adj_close: 0.12",
          "Return: 19.70%<br>Volatility: 0.10<br>F_adj_close: 0.19<br>MS_adj_close: 0.25<br>SYK_adj_close: 0.05<br>ABBV_adj_close: 0.25<br>GIS_adj_close: 0.25",
          "Return: 9.48%<br>Volatility: 0.12<br>MO_adj_close: 0.14<br>RMD_adj_close: 0.12<br>JPM_adj_close: 0.27<br>AAPL_adj_close: 0.32<br>UA_adj_close: 0.14",
          "Return: 20.44%<br>Volatility: 0.12<br>DE_adj_close: 0.20<br>PYPL_adj_close: 0.06<br>SYK_adj_close: 0.06<br>GS_adj_close: 0.39<br>CSCO_adj_close: 0.28",
          "Return: 9.15%<br>Volatility: 0.10<br>INTC_adj_close: 0.07<br>VZ_adj_close: 0.31<br>GILD_adj_close: 0.05<br>LLY_adj_close: 0.52<br>CVX_adj_close: 0.05",
          "Return: 15.75%<br>Volatility: 0.10<br>BIIB_adj_close: 0.07<br>REGN_adj_close: 0.20<br>GOOG_adj_close: 0.37<br>RDY_adj_close: 0.02<br>AEP_adj_close: 0.33",
          "Return: 6.18%<br>Volatility: 0.17<br>AAPL_adj_close: 0.31<br>CMCSA_adj_close: 0.03<br>KR_adj_close: 0.41<br>SYY_adj_close: 0.14<br>SRE_adj_close: 0.11",
          "Return: 8.61%<br>Volatility: 0.09<br>PFE_adj_close: 0.04<br>BAC_adj_close: 0.18<br>WFC_adj_close: 0.23<br>SRE_adj_close: 0.42<br>TMO_adj_close: 0.13",
          "Return: 13.54%<br>Volatility: 0.09<br>MRK_adj_close: 0.26<br>AAPL_adj_close: 0.28<br>ABT_adj_close: 0.25<br>SYY_adj_close: 0.12<br>ORCL_adj_close: 0.09",
          "Return: 12.94%<br>Volatility: 0.12<br>EW_adj_close: 0.08<br>UNH_adj_close: 0.12<br>MS_adj_close: 0.35<br>ABBV_adj_close: 0.04<br>MO_adj_close: 0.41",
          "Return: 17.42%<br>Volatility: 0.11<br>ABT_adj_close: 0.26<br>TXN_adj_close: 0.14<br>MRK_adj_close: 0.37<br>NVDA_adj_close: 0.12<br>GILD_adj_close: 0.11",
          "Return: 34.08%<br>Volatility: 0.09<br>PYPL_adj_close: 0.09<br>HD_adj_close: 0.28<br>PG_adj_close: 0.12<br>BA_adj_close: 0.20<br>TMO_adj_close: 0.31",
          "Return: 27.14%<br>Volatility: 0.12<br>MRK_adj_close: 0.11<br>V_adj_close: 0.45<br>QCOM_adj_close: 0.11<br>AMZN_adj_close: 0.20<br>NFLX_adj_close: 0.13",
          "Return: 4.64%<br>Volatility: 0.10<br>INTC_adj_close: 0.11<br>AMGN_adj_close: 0.23<br>CSCO_adj_close: 0.13<br>KR_adj_close: 0.18<br>XOM_adj_close: 0.35",
          "Return: 38.45%<br>Volatility: 0.14<br>MRK_adj_close: 0.09<br>BABA_adj_close: 0.40<br>META_adj_close: 0.28<br>EMR_adj_close: 0.16<br>WMT_adj_close: 0.08",
          "Return: 6.46%<br>Volatility: 0.09<br>LLY_adj_close: 0.34<br>KO_adj_close: 0.05<br>BTI_adj_close: 0.34<br>XOM_adj_close: 0.23<br>MRK_adj_close: 0.03",
          "Return: 43.58%<br>Volatility: 0.14<br>ETN_adj_close: 0.12<br>BABA_adj_close: 0.34<br>ORCL_adj_close: 0.27<br>ABBV_adj_close: 0.03<br>CAT_adj_close: 0.25",
          "Return: 38.74%<br>Volatility: 0.12<br>ABT_adj_close: 0.39<br>ABBV_adj_close: 0.44<br>MS_adj_close: 0.13<br>PYPL_adj_close: 0.03<br>LLY_adj_close: 0.02",
          "Return: 32.10%<br>Volatility: 0.11<br>TSLA_adj_close: 0.11<br>INTC_adj_close: 0.37<br>WMT_adj_close: 0.29<br>EMR_adj_close: 0.23<br>MS_adj_close: 0.01",
          "Return: -2.88%<br>Volatility: 0.12<br>JNJ_adj_close: 0.35<br>CPB_adj_close: 0.43<br>SRE_adj_close: 0.02<br>T_adj_close: 0.06<br>BTI_adj_close: 0.14",
          "Return: 25.47%<br>Volatility: 0.09<br>WMT_adj_close: 0.29<br>AEP_adj_close: 0.22<br>AAPL_adj_close: 0.17<br>VZ_adj_close: 0.21<br>ACN_adj_close: 0.10",
          "Return: 10.17%<br>Volatility: 0.12<br>WFC_adj_close: 0.37<br>COST_adj_close: 0.35<br>JPM_adj_close: 0.16<br>MDT_adj_close: 0.06<br>BTI_adj_close: 0.06",
          "Return: 26.70%<br>Volatility: 0.11<br>HON_adj_close: 0.12<br>RTX_adj_close: 0.27<br>MA_adj_close: 0.18<br>GOOG_adj_close: 0.27<br>META_adj_close: 0.16",
          "Return: 20.04%<br>Volatility: 0.11<br>PYPL_adj_close: 0.24<br>V_adj_close: 0.15<br>K_adj_close: 0.24<br>TXN_adj_close: 0.05<br>AMGN_adj_close: 0.32",
          "Return: -5.12%<br>Volatility: 0.19<br>BIIB_adj_close: 0.34<br>T_adj_close: 0.11<br>MSFT_adj_close: 0.15<br>ZBH_adj_close: 0.07<br>UA_adj_close: 0.33",
          "Return: 29.05%<br>Volatility: 0.12<br>BAC_adj_close: 0.22<br>NFLX_adj_close: 0.28<br>MCD_adj_close: 0.32<br>DUK_adj_close: 0.09<br>GM_adj_close: 0.10",
          "Return: 19.64%<br>Volatility: 0.09<br>XOM_adj_close: 0.22<br>ETN_adj_close: 0.30<br>V_adj_close: 0.35<br>TXN_adj_close: 0.09<br>BMY_adj_close: 0.03",
          "Return: 28.18%<br>Volatility: 0.10<br>GM_adj_close: 0.07<br>DE_adj_close: 0.15<br>NKE_adj_close: 0.17<br>MMM_adj_close: 0.44<br>MSFT_adj_close: 0.18",
          "Return: 32.88%<br>Volatility: 0.10<br>DUK_adj_close: 0.28<br>CAT_adj_close: 0.28<br>EW_adj_close: 0.23<br>ABBV_adj_close: 0.11<br>EMR_adj_close: 0.09",
          "Return: 15.68%<br>Volatility: 0.09<br>NFLX_adj_close: 0.09<br>XOM_adj_close: 0.13<br>V_adj_close: 0.27<br>GIS_adj_close: 0.37<br>HON_adj_close: 0.13",
          "Return: 14.33%<br>Volatility: 0.10<br>IBM_adj_close: 0.26<br>VRTX_adj_close: 0.18<br>ETN_adj_close: 0.29<br>GOOGL_adj_close: 0.03<br>EXC_adj_close: 0.25",
          "Return: 7.71%<br>Volatility: 0.10<br>AAPL_adj_close: 0.01<br>PM_adj_close: 0.38<br>ZBH_adj_close: 0.36<br>GOOGL_adj_close: 0.12<br>NEE_adj_close: 0.13",
          "Return: 20.04%<br>Volatility: 0.11<br>ETN_adj_close: 0.13<br>UNH_adj_close: 0.23<br>SYK_adj_close: 0.22<br>MO_adj_close: 0.08<br>MS_adj_close: 0.35",
          "Return: 5.08%<br>Volatility: 0.15<br>LLY_adj_close: 0.39<br>SYY_adj_close: 0.04<br>REGN_adj_close: 0.41<br>AMGN_adj_close: 0.07<br>V_adj_close: 0.08",
          "Return: 27.67%<br>Volatility: 0.10<br>CSCO_adj_close: 0.20<br>NFLX_adj_close: 0.23<br>WMT_adj_close: 0.12<br>KO_adj_close: 0.31<br>ISRG_adj_close: 0.13",
          "Return: 38.94%<br>Volatility: 0.10<br>PYPL_adj_close: 0.17<br>ABT_adj_close: 0.30<br>JPM_adj_close: 0.09<br>DE_adj_close: 0.22<br>UNH_adj_close: 0.23",
          "Return: 10.10%<br>Volatility: 0.09<br>AEP_adj_close: 0.32<br>DUK_adj_close: 0.07<br>KR_adj_close: 0.16<br>EXC_adj_close: 0.18<br>MS_adj_close: 0.26",
          "Return: -11.43%<br>Volatility: 0.21<br>PG_adj_close: 0.17<br>SNAP_adj_close: 0.31<br>AMGN_adj_close: 0.26<br>DE_adj_close: 0.03<br>ACN_adj_close: 0.23"
         ],
         "type": "scatter",
         "x": [
          0.14575157575444286,
          0.10931547787906971,
          0.19512473355169377,
          0.16681750303882376,
          0.11457074181340166,
          0.1140425085184845,
          0.10893042326432398,
          0.10177213229109065,
          0.09272371775291391,
          0.09730885813132145,
          0.08212235915411038,
          0.10178668906901803,
          0.10093877065011053,
          0.11796584139737606,
          0.0862036242320186,
          0.10566285737939571,
          0.11853500946459461,
          0.10344237067699964,
          0.09251782418413265,
          0.1260026274381565,
          0.08354543012270843,
          0.10490074630476315,
          0.09495581809034492,
          0.12174324049092167,
          0.10930407103063651,
          0.10412692844369519,
          0.08670653617563694,
          0.0921960856911583,
          0.2343829206270819,
          0.08885804923168122,
          0.1408354635553599,
          0.07128245931580456,
          0.11841014102742736,
          0.10385475856084571,
          0.10978273767553859,
          0.0788789352944999,
          0.09859158099978874,
          0.15357557439374953,
          0.115986753584674,
          0.1905490377323948,
          0.10063701178287406,
          0.08165963855245828,
          0.09830157245891531,
          0.18382386854282193,
          0.08820688801201941,
          0.1110909415238489,
          0.1789291359825024,
          0.10115863303166608,
          0.09886592165747758,
          0.10879302854934644,
          0.10920691820588442,
          0.0887971071167023,
          0.11321517197569633,
          0.09268819320525817,
          0.09688922764559432,
          0.08138934404402957,
          0.08042648430545178,
          0.20871487456213283,
          0.08344583253733052,
          0.10814340724034033,
          0.08065199721339429,
          0.08374712196536147,
          0.13434752633833713,
          0.09753282245189379,
          0.09932415121445176,
          0.14517994495890446,
          0.07530087317427268,
          0.11266184428305524,
          0.10237462471282728,
          0.1490642993004631,
          0.16349947374475768,
          0.12833722571362927,
          0.11603924725171895,
          0.24538885090742335,
          0.1127695615520721,
          0.1449647150843812,
          0.13420017072210313,
          0.09732672286317409,
          0.13190705655922455,
          0.084044650739127,
          0.17529965387737692,
          0.0933279895824962,
          0.1257340810250405,
          0.09905375048592646,
          0.07763751583356787,
          0.3380851048867689,
          0.11336887136409211,
          0.1286571483458774,
          0.10715432355460118,
          0.12191443215409163,
          0.10512499686259091,
          0.1237987900804502,
          0.10034292913712395,
          0.09964172716049231,
          0.11419759510555373,
          0.13761077345514727,
          0.07832179198523652,
          0.09720582632812257,
          0.1131175545213352,
          0.10785645364183225,
          0.14199221433078527,
          0.08592105087647134,
          0.12983592501195215,
          0.09613937099141394,
          0.10001079489399009,
          0.15505056276306634,
          0.11197069032582042,
          0.10491269632720841,
          0.08286607488517486,
          0.10716489929069953,
          0.10163074540941806,
          0.12246449364145512,
          0.0898299440270942,
          0.23807405037095675,
          0.10542986638330773,
          0.17070107073126822,
          0.1140601203184508,
          0.12101518014527074,
          0.07858860042920839,
          0.12162268363185613,
          0.07674377991222969,
          0.10010526855119546,
          0.07389722695091039,
          0.10467146121500041,
          0.0993481559805627,
          0.09888016684080553,
          0.0866508495532263,
          0.07951527902633367,
          0.1239391964338872,
          0.09510229257955591,
          0.1117915930504743,
          0.13496576542819486,
          0.13576925577187368,
          0.14825169607554883,
          0.09835692389331062,
          0.17785682381990228,
          0.0687144211739773,
          0.1108600317573359,
          0.13291543673141695,
          0.12255845716659564,
          0.14468812088971186,
          0.09921917625204636,
          0.07263098457927993,
          0.1383005150107434,
          0.09109548964002054,
          0.15527847019807878,
          0.141482617305849,
          0.10915295412235537,
          0.09738847124806836,
          0.13535499082919125,
          0.12911290269123926,
          0.1551907187733667,
          0.0935129121494345,
          0.09114751819916027,
          0.0899212103212135,
          0.08059098423424318,
          0.08914584479818861,
          0.13382270055513804,
          0.21279849944842072,
          0.14806076051414052,
          0.09386536264274595,
          0.21074420710941666,
          0.17837909193255574,
          0.19973327816350228,
          0.07166070414126761,
          0.0939556448575731,
          0.10583801017097556,
          0.10096700678277036,
          0.09355775170769769,
          0.09110282336990794,
          0.15077167092876198,
          0.10566852353318827,
          0.1294843995630457,
          0.08114036295624966,
          0.07743020759863715,
          0.10554690828907311,
          0.1242122521381531,
          0.11222235833547725,
          0.13334398640604342,
          0.1608444228544248,
          0.0816584097011192,
          0.09595499714612853,
          0.11154194334824584,
          0.09274264829675592,
          0.08363425136817476,
          0.12847339069606512,
          0.13605337273117069,
          0.10916163842512103,
          0.15627558185771923,
          0.11741553243377234,
          0.12695726013785094,
          0.11854609269855343,
          0.10512781719500429,
          0.14549748266079782,
          0.10385224264175827,
          0.19876585416223946,
          0.11266518158839815,
          0.12155796058242375,
          0.09596101096274458,
          0.10480941096879932,
          0.16172443396340094,
          0.1048772449719776,
          0.10497886591542989,
          0.11068314892272173,
          0.15841132499055394,
          0.15445975184117794,
          0.16913613700059396,
          0.11423880639947899,
          0.08960924855176391,
          0.11085566555993208,
          0.09024929562921935,
          0.11873620731323963,
          0.14365762968495915,
          0.06606823510672763,
          0.12239855204058643,
          0.13712174606539496,
          0.1391973430196537,
          0.09605150146097023,
          0.10545037179724372,
          0.11650619468054665,
          0.09086819923523921,
          0.08871634807798402,
          0.11107496443606701,
          0.10018095528904516,
          0.29155816402518486,
          0.17255914563561606,
          0.10973918136100479,
          0.19637630456761812,
          0.10369539493771314,
          0.08305266461015179,
          0.0984105284393398,
          0.09124819994835329,
          0.08549750929256972,
          0.10182246052224157,
          0.12172861078154577,
          0.0904025086394884,
          0.18243705967730606,
          0.11075437489019992,
          0.10151150096704872,
          0.09710579755750284,
          0.124820701642182,
          0.10451542045880234,
          0.10074598563116534,
          0.1588647069828038,
          0.20176394135696007,
          0.13173410671066094,
          0.17859487787042477,
          0.15852403258005351,
          0.12340451911794036,
          0.095591914758729,
          0.10188390927286253,
          0.10030668845585312,
          0.09328814400488221,
          0.0835587369586497,
          0.1256398927261169,
          0.11270439755947374,
          0.11481351250242884,
          0.11457088177931765,
          0.1593250630658975,
          0.124391940883733,
          0.11920735153372684,
          0.24757793556440882,
          0.10208667592890269,
          0.09121357265748523,
          0.10038646665948713,
          0.09623941510725185,
          0.09402018012819237,
          0.20098993037737647,
          0.12859750010639479,
          0.11603830328117097,
          0.1130422066913497,
          0.20845703791529066,
          0.10497501147236546,
          0.11037575063654714,
          0.0994148397467941,
          0.13836360751054003,
          0.1106431224413655,
          0.0916922178118752,
          0.1050742900721296,
          0.12143375419647899,
          0.1242763986862011,
          0.09043895109141463,
          0.13334551559919539,
          0.1722375128132878,
          0.09574503009801259,
          0.09315659787676756,
          0.08566065260105721,
          0.11024997510075936,
          0.0979572404608168,
          0.13437527664928162,
          0.1450108581604049,
          0.11997035455500145,
          0.11079216847401105,
          0.12735283221713492,
          0.10549176373520626,
          0.09118876687569627,
          0.11052923818736576,
          0.1273900373308714,
          0.11107952625140811,
          0.10884771505237843,
          0.19886976259748396,
          0.09237368310045455,
          0.0973286575842516,
          0.09708784980899236,
          0.13142385159675776,
          0.08649474334567868,
          0.13099467751375643,
          0.14111176747651705,
          0.06935319609942703,
          0.1391657644564464,
          0.08179461762159568,
          0.08905648757180222,
          0.15040295552645896,
          0.0884102452806438,
          0.08451826313665362,
          0.15730656543959715,
          0.21076501316820623,
          0.0728277507357714,
          0.09760843119597515,
          0.09918591717215931,
          0.13251596803970744,
          0.10828095754677086,
          0.10718223887233955,
          0.06565312682725252,
          0.09427319966159109,
          0.1482482668653628,
          0.08362780696267254,
          0.2628338087593572,
          0.10499372609050456,
          0.09939342007072224,
          0.10556496207844669,
          0.19769895840740404,
          0.121567431971332,
          0.07285798736298978,
          0.11352565022086201,
          0.1269580837771842,
          0.16114402781186743,
          0.1499051550105812,
          0.15355316339376324,
          0.18923433913272908,
          0.18195722945417842,
          0.07408422016901375,
          0.14721127627904348,
          0.07477524598569789,
          0.10485234642690687,
          0.08093539503602155,
          0.10793302028770195,
          0.09636467866663843,
          0.14427948802744253,
          0.10320563220175416,
          0.10210036879884508,
          0.1316224664190813,
          0.09296739461588006,
          0.11371943262737655,
          0.09750903972573342,
          0.19537817841541494,
          0.14504244515933373,
          0.15084116986084123,
          0.08052025251079141,
          0.15451490315916458,
          0.15027483776735168,
          0.21236131820405676,
          0.11758496534266484,
          0.20524667273310965,
          0.1163816400959145,
          0.17349678295711282,
          0.10147896558986336,
          0.09864224737641374,
          0.08986900384667233,
          0.2780088096172047,
          0.15334909559503088,
          0.14882412685712423,
          0.17691513520999227,
          0.10505731358393171,
          0.08951639076781705,
          0.09842937644415675,
          0.2110674869896935,
          0.14302131114788538,
          0.10657224178495879,
          0.07645854026880737,
          0.07646357163094146,
          0.20288260588060117,
          0.19248734623827898,
          0.08598835977299393,
          0.0848693560139196,
          0.1497600474782047,
          0.13238294239715975,
          0.1049616241626722,
          0.1976142284829422,
          0.0928039512948575,
          0.09104942451149461,
          0.10233928250233958,
          0.09879035072102521,
          0.08828797030340615,
          0.09700689004129402,
          0.11089819976667284,
          0.08070264342688403,
          0.10414785310032061,
          0.22747948944088367,
          0.23137408773114446,
          0.12847977733247798,
          0.10081543333818296,
          0.09154634997039604,
          0.10211168950301082,
          0.11024226766268806,
          0.09588325133066802,
          0.13661876601307635,
          0.1385829568390594,
          0.10821401669013461,
          0.11531481969406711,
          0.08844313524378923,
          0.15906494729585713,
          0.1688159428597501,
          0.09512246206842616,
          0.12044036121632432,
          0.1123925432298342,
          0.1464008030256774,
          0.10348511966291005,
          0.1166834441391902,
          0.12292829606009448,
          0.10846021661771975,
          0.10826356184035371,
          0.11273006208829074,
          0.08822334705802058,
          0.08066675106824145,
          0.10449288250742686,
          0.10715364333811125,
          0.20830284343655905,
          0.16146750145706515,
          0.09863618536507844,
          0.11331100279465665,
          0.08224610732308742,
          0.0987715075230455,
          0.09882826200798822,
          0.294462884152608,
          0.08817987825945868,
          0.10332539687926103,
          0.11662562607843183,
          0.09900086420907715,
          0.15001939424893662,
          0.1686227032858968,
          0.09012057401994644,
          0.10824280974019906,
          0.09906835520071262,
          0.12847313623164194,
          0.12341649039232995,
          0.12380664493273785,
          0.11572155971321509,
          0.2258682668200498,
          0.08945539631012285,
          0.09842705174727467,
          0.13240020610402334,
          0.10655510017148673,
          0.12396383664549107,
          0.10764422476375572,
          0.08819136973601195,
          0.1154992483136293,
          0.1453273227411692,
          0.19371509802673095,
          0.2540603404570126,
          0.16845622336013458,
          0.0816633796846476,
          0.12183600701158376,
          0.11312991177274176,
          0.187740801078355,
          0.11629947641704817,
          0.16976716057492863,
          0.10205646510681443,
          0.12312074478130842,
          0.10088577999428361,
          0.10663884044966053,
          0.12688310285679716,
          0.15065384389951475,
          0.09531348806171101,
          0.10149018600169908,
          0.08087004453603971,
          0.10986638268274125,
          0.09396993381005993,
          0.15738174857414494,
          0.3299722753522031,
          0.12400927612647634,
          0.12138232714892844,
          0.12271154524099238,
          0.11209397766768031,
          0.13526235148585206,
          0.11552928896808706,
          0.09025590625284982,
          0.11697736451718886,
          0.0991713050189424,
          0.0931929971965714,
          0.13809523137622445,
          0.11762286722266388,
          0.10750645991922961,
          0.11759840273356857,
          0.1615043225088497,
          0.1807539184313571,
          0.11641845196404556,
          0.14174074031985356,
          0.084352999370987,
          0.23792385706986321,
          0.13464904489139906,
          0.07741215984271597,
          0.1010022888765743,
          0.1060900272415818,
          0.10862600071451717,
          0.10376943174640146,
          0.11158322862152044,
          0.13573089341547553,
          0.16782996329140723,
          0.10318677679985487,
          0.09869423752971995,
          0.09311339306996715,
          0.0950629330687285,
          0.1014920966613484,
          0.07451366948193566,
          0.08892297941625078,
          0.1429773915003783,
          0.12868782758950736,
          0.15822512050567297,
          0.13835008108258603,
          0.10990959320136881,
          0.09300469412701176,
          0.11415201879433856,
          0.10840804489272897,
          0.11486897142489304,
          0.0945309330834659,
          0.1435280292993258,
          0.11758397851209255,
          0.0888397383905356,
          0.09989837842348623,
          0.09975791188804681,
          0.17886997931141607,
          0.09973197808644012,
          0.09055482712530791,
          0.0932506273057383,
          0.256647034201021,
          0.15684602085377713,
          0.0842428377676654,
          0.06707381507074842,
          0.09371288716610016,
          0.09888851303147524,
          0.2171453855530878,
          0.14497799015469615,
          0.12621384998646154,
          0.08708089341042086,
          0.1264204201451453,
          0.09251256050676113,
          0.125412980004567,
          0.08661916907079545,
          0.07473017998785203,
          0.15557918275307417,
          0.144553660773352,
          0.09049879971596021,
          0.08066824771260046,
          0.13197851650110104,
          0.08761806736191477,
          0.11645784835158303,
          0.1064390703838707,
          0.2758393312449153,
          0.1258764802559092,
          0.2119050023442193,
          0.0987035807007795,
          0.125142521925977,
          0.1014696857813279,
          0.1085565197411503,
          0.09383363822770605,
          0.0860688810728123,
          0.11374222975213882,
          0.15773019890008552,
          0.11146876535008744,
          0.09087838776040807,
          0.10496076115142745,
          0.08301654303853638,
          0.1355369089958135,
          0.13994516491762354,
          0.09855066404746947,
          0.08854748517519667,
          0.14137329329444975,
          0.10223228819015737,
          0.08211112705199522,
          0.15352035374317552,
          0.17564356339828097,
          0.10340834034470074,
          0.10671007562410305,
          0.1352272946222215,
          0.10133955015893051,
          0.2865258665952967,
          0.09479148826557401,
          0.09423244433497244,
          0.10801345976553203,
          0.13931124595705888,
          0.14341118415541235,
          0.08554406577240345,
          0.12352332166973991,
          0.11545826225038427,
          0.07656339481437402,
          0.1508738301772823,
          0.08892363644277494,
          0.09742787233882176,
          0.16206768281865933,
          0.11044494594559448,
          0.1417093242488555,
          0.12430967386429091,
          0.10755575547188007,
          0.14063621385404582,
          0.08918540546114789,
          0.07337230128873802,
          0.09122107569606312,
          0.12916981093153704,
          0.10446777061950267,
          0.11024938871779015,
          0.08492077180894238,
          0.0853266924847422,
          0.09081347917471386,
          0.19097700415973148,
          0.08625848613963073,
          0.10349214589412413,
          0.08432802653090196,
          0.11413627818657007,
          0.12688032431184662,
          0.11651028897557116,
          0.12650193426351147,
          0.08497573335504105,
          0.09501851759351301,
          0.09537050987300055,
          0.14024710805223062,
          0.11261419983966062,
          0.08392002135332415,
          0.11011552355809015,
          0.11761064168625314,
          0.08946397949358399,
          0.0953392278743577,
          0.14079654458943763,
          0.11753388221968288,
          0.08632062011479912,
          0.10713702774820148,
          0.09926011056880399,
          0.10171293827477187,
          0.08645970258760043,
          0.09955280176432345,
          0.13621566153883474,
          0.09174080181300083,
          0.17100654232516524,
          0.35661591370902507,
          0.09582168474100057,
          0.13167137840589355,
          0.20646974789342065,
          0.09874396114936626,
          0.23216202484537266,
          0.163826126433648,
          0.12711188622781905,
          0.09782424106472211,
          0.08142623081453781,
          0.08119650833985195,
          0.10632493115778045,
          0.09737020272498084,
          0.141850782670826,
          0.19949265839288308,
          0.09129947277469687,
          0.1028814588849985,
          0.1256884894462683,
          0.09569233732774264,
          0.1436978245922485,
          0.16596305772138645,
          0.18192163963656693,
          0.10578960902529899,
          0.09361774916299313,
          0.08955144380781369,
          0.07832968848069188,
          0.15352496862039036,
          0.11634093629312865,
          0.09539544251164998,
          0.11495352893747691,
          0.10757674880961544,
          0.10144820844960624,
          0.0817549862976809,
          0.10144265745588409,
          0.11447847714317172,
          0.07825673153953318,
          0.09299953678751408,
          0.10835682789441181,
          0.07904020801344734,
          0.1683013771992215,
          0.10891540500234892,
          0.09377313532433904,
          0.1272727360309083,
          0.10187690784923532,
          0.16104585932641136,
          0.08561734241828889,
          0.10464638025081979,
          0.10958034410793158,
          0.13930212334009187,
          0.1164184941957148,
          0.11209130149263531,
          0.10182051225638426,
          0.11349325081549955,
          0.09410180546039365,
          0.1428938305278563,
          0.19471984050953517,
          0.13713704706740612,
          0.2555684146427194,
          0.10826577252338718,
          0.08632272465558612,
          0.11363956022638597,
          0.09962997741126582,
          0.11192106110677925,
          0.11287081713002023,
          0.09694019738787613,
          0.14446569636699777,
          0.10119469641427233,
          0.11269816105554602,
          0.12233243078780134,
          0.12225371568867233,
          0.13683973284556789,
          0.10625675831807145,
          0.13952975100540108,
          0.10921586927190403,
          0.0899975746478686,
          0.11050012068807166,
          0.1015865927038358,
          0.08489658694406073,
          0.1239716385354892,
          0.09901643014678345,
          0.09129668617075043,
          0.09404841877909358,
          0.11798676802354027,
          0.09417974300541582,
          0.10430993702928548,
          0.14783099886147805,
          0.11506497712713741,
          0.09544162642126305,
          0.12713636215174592,
          0.09074960826455365,
          0.1100694097322703,
          0.12527013532485268,
          0.13743023522665626,
          0.12598716425116904,
          0.091365045881182,
          0.12026203367918056,
          0.08294648276789908,
          0.19691050062965842,
          0.07790485288345539,
          0.08415623730064697,
          0.07893425384842166,
          0.1557784683933815,
          0.19206652478195407,
          0.10264480765004712,
          0.08803618004219806,
          0.12952391268041988,
          0.2902981533258877,
          0.14144517638486137,
          0.125343079989503,
          0.10905766503981176,
          0.11689453568212785,
          0.07001955131948016,
          0.0920115797618436,
          0.11162787359516568,
          0.10405933347354654,
          0.1100306512055907,
          0.12762043502567885,
          0.17223469149126638,
          0.11925895176781377,
          0.13763445634506824,
          0.10376615624569514,
          0.10264675384990589,
          0.10546501501201382,
          0.07824322131698914,
          0.12688634424271703,
          0.1153834575852064,
          0.0997333020967019,
          0.16387853750036127,
          0.1053566769513867,
          0.1594126735936266,
          0.08131629964976698,
          0.13018531733114433,
          0.11338589599640907,
          0.19812589243044776,
          0.14491731256119642,
          0.09579435872938596,
          0.13275166724036824,
          0.15816277941776735,
          0.17981406972832095,
          0.10096065310249983,
          0.1030337843406133,
          0.13104543667247598,
          0.09612104455570822,
          0.1310789905102292,
          0.13162544085952788,
          0.17714430384854538,
          0.10550058124420615,
          0.09684842768948052,
          0.09234187856638763,
          0.10025301527610735,
          0.0783830376761378,
          0.10074133007221465,
          0.09807752020625334,
          0.11198684625610128,
          0.1180063158412599,
          0.10483488342649323,
          0.11920727795586152,
          0.219216603417382,
          0.11573926175776862,
          0.08922724617729792,
          0.11901747837242414,
          0.10615518732859154,
          0.11196949963383407,
          0.10576672380410261,
          0.09702500526845162,
          0.08974621254617192,
          0.13378225780532974,
          0.15818946156172475,
          0.1319156807289069,
          0.11823396678096905,
          0.09546037833588263,
          0.15646639477961194,
          0.0788089514543539,
          0.1098618726439549,
          0.15353522469346295,
          0.10440530703940798,
          0.1250864304266752,
          0.078137620602218,
          0.12748157435340385,
          0.10034321875817649,
          0.17608541292836613,
          0.1161970974574396,
          0.14474249412134613,
          0.1291150135703667,
          0.09420158499132743,
          0.09363442166815002,
          0.13361870686774674,
          0.18212471393885946,
          0.0942593463451688,
          0.07576847490810559,
          0.09311572738529651,
          0.10619968682005933,
          0.1073176030853999,
          0.09250170815206107,
          0.14248419690567016,
          0.12069204375687934,
          0.09423820499130327,
          0.1341664541045848,
          0.0883029986591466,
          0.1511867628008168,
          0.10111340341995305,
          0.0896518954808495,
          0.14948824618931536,
          0.1350916494498333,
          0.09807448508454077,
          0.10334296835247307,
          0.14280297088937838,
          0.08035332777834933,
          0.08872033277521674,
          0.08600330907554365,
          0.11572341252393062,
          0.09351015550395395,
          0.11972917112113947,
          0.09272206538592631,
          0.1354504586381854,
          0.11579932859201435,
          0.26505047563793416,
          0.08265796257279166,
          0.07510497949445967,
          0.2358742890058491,
          0.10919981072475658,
          0.09906130782092028,
          0.11734875295968136,
          0.1032501621980903,
          0.08174845869440295,
          0.23832121339104778,
          0.09764854923423112,
          0.310886733850567,
          0.08643522785890959,
          0.09725650533942688,
          0.08729742729992211,
          0.09990432354952619,
          0.12102097855635598,
          0.09060312361463925,
          0.09267568172962248,
          0.09156061089224937,
          0.09369344374578305,
          0.12648305452224604,
          0.14847059015264416,
          0.21142473880762705,
          0.08913430084013259,
          0.10295073159470963,
          0.12395050161052441,
          0.08992257444305014,
          0.09317479360137812,
          0.0919988139328821,
          0.10891966729206494,
          0.09593135602402438,
          0.10804993555140614,
          0.12060976074440677,
          0.12699419413461394,
          0.09690483709747316,
          0.12364083408499003,
          0.11351399304758678,
          0.11402971414363376,
          0.12063221622978552,
          0.12514464096107292,
          0.10832234309487926,
          0.10466449948226893,
          0.09405675187594079,
          0.09121166812065949,
          0.08828955737170133,
          0.1149310210692922,
          0.08793426835214871,
          0.07846087600721942,
          0.07579313998850161,
          0.10931061967588204,
          0.09362985597933575,
          0.10370979291544809,
          0.08342970662228415,
          0.09911210528321127,
          0.1020555793892517,
          0.10946100525826642,
          0.1002540683061312,
          0.10456605297498323,
          0.0843295551390836,
          0.08579144139524912,
          0.09162887631847427,
          0.12152197994856226,
          0.1973219796443378,
          0.0698038622224945,
          0.09522044003355244,
          0.11186068828455376,
          0.07676049295854033,
          0.0967465099215074,
          0.08575173298713011,
          0.23365695634556424,
          0.09050674909829942,
          0.07291073501925241,
          0.1050521234250524,
          0.13014980653100963,
          0.10106657798460275,
          0.08090552829184337,
          0.12022038138967923,
          0.08448586652105387,
          0.12502912933380003,
          0.14156707897487247,
          0.0770718757460843,
          0.10568776882349953,
          0.1883726352093162,
          0.1390810634079314,
          0.09711042183023773,
          0.09425462986179285,
          0.09995920314205793,
          0.10652452398979942,
          0.11324808730784265,
          0.11603837494784772,
          0.1262656256759822,
          0.11424208624284475,
          0.10383243486360126,
          0.09958979341500176,
          0.09357025636415385,
          0.1117881859507218,
          0.11215278896878206,
          0.12121894860922233,
          0.136822891569079,
          0.1040746721271347,
          0.10686448777477223,
          0.08489486455737377,
          0.08745604739961359,
          0.10306282746562842,
          0.11608835975429456,
          0.1237158535215393,
          0.10414863248984543,
          0.1041949229772321,
          0.17381216192896762,
          0.08651223002836983,
          0.08716552673116885,
          0.11554510933985106,
          0.10931993868073321,
          0.08597360525036685,
          0.12008483175480071,
          0.1034007799416084,
          0.14458177450517445,
          0.09437100328117932,
          0.14041196849416487,
          0.1219222023741197,
          0.10964463668785412,
          0.11989250122004326,
          0.0865956143722359,
          0.11774521853253453,
          0.10748474343219494,
          0.10614417911826095,
          0.18724038854783126,
          0.120495455914858,
          0.08959267652685411,
          0.095241830979264,
          0.09936797272475661,
          0.08992462692039911,
          0.10000712483955757,
          0.1035350752104008,
          0.10634420384835733,
          0.15068503838042166,
          0.1001709879151686,
          0.10045803761055751,
          0.09343142270201335,
          0.21198443875932177
         ],
         "y": [
          0.32212374731420745,
          0.020750064541838458,
          0.16806144111150312,
          0.27765151745914723,
          0.11481111874193843,
          0.2367600509037756,
          0.2611051020093055,
          0.1811826805628883,
          0.13739396502029427,
          0.08426204898587801,
          0.11495928233079898,
          0.314557922296083,
          0.2411693458694326,
          0.3915601940816955,
          0.007883063896400465,
          0.06291652682348647,
          0.08598610204452856,
          0.0812001985542288,
          0.29690129484991024,
          0.26681625780725005,
          0.14869471933599815,
          0.09813929895923054,
          0.1990142449299733,
          0.22531714190260796,
          0.11824489804013612,
          0.2543216094113452,
          0.17677503227638325,
          0.2616779020206714,
          0.004463047540031446,
          0.21926248366754192,
          0.25090159490359987,
          0.2228996718029178,
          0.1893584663045804,
          0.3096560571191368,
          -0.014329640782544012,
          0.1670459939679266,
          0.19124610087057062,
          0.2978665472280718,
          0.11748451123326217,
          -0.006453226668257879,
          0.39553565510225047,
          0.1638227834783312,
          0.07138109836549646,
          0.098342375651539,
          -0.021569513810043604,
          0.21361083672334025,
          0.04578473862548807,
          0.23189454190269973,
          0.10449886244021642,
          0.3244951576147877,
          0.33244437472359173,
          0.37756411773452603,
          0.156962094596326,
          0.2243584450995838,
          0.21058047818183792,
          0.07969614673981182,
          0.05876665509285622,
          -0.1273562471287527,
          0.120852769980814,
          0.243083256852268,
          0.11896184689691855,
          0.24363686443263116,
          0.29156311170595156,
          0.14186997903997237,
          0.3530656944321244,
          0.017894461833683664,
          0.19567213598047822,
          0.23143850155714535,
          0.13107757111618337,
          0.26977356465565844,
          0.04033246668811405,
          0.23064141710703823,
          0.1543514884300351,
          -0.06136672349096671,
          0.25164009421173095,
          0.212455595673383,
          -0.055753706879120304,
          0.16073738500611034,
          0.33599014640613456,
          0.15342141665403486,
          0.29896037663295894,
          0.14042455481910637,
          0.08869817122654171,
          0.1590868506018217,
          0.14974797647169324,
          -0.09722741448665835,
          0.35898394239627435,
          0.27366044559340613,
          0.055544111736824456,
          0.1602670275157902,
          0.1466496724298645,
          0.14110948175138305,
          0.3494937894570235,
          0.28843404680446666,
          0.2095386363026193,
          0.21326674876289156,
          0.08921870781576152,
          0.3393245146032541,
          0.10677118504316854,
          0.23867107718499755,
          0.30508568288639604,
          0.08227902135591533,
          -0.04125092241153552,
          0.21121723437874124,
          0.17550518015447308,
          0.08944907467473553,
          0.3106152939824618,
          0.2938837838180728,
          0.17050398511798687,
          0.17253423862394918,
          0.06400008241194727,
          0.06869423060502185,
          0.24183953179622425,
          0.09452051997312408,
          0.32817842072114006,
          0.1446951314875021,
          0.2847937493903404,
          0.2390195204295083,
          0.09321851238055036,
          0.12863012112441352,
          0.04600843276658436,
          0.04157289184136346,
          0.17517875611542016,
          0.12114713867653701,
          0.14731042703825445,
          0.06781068234616557,
          0.10380662386260542,
          0.14755417127987785,
          0.002887970984818619,
          0.24361949261435598,
          0.030104935460110435,
          0.39960081940656356,
          0.34795565532876305,
          -0.023134090560341804,
          0.21050147685374404,
          0.2911485261102863,
          0.14076283830123743,
          -0.22899762646939534,
          0.2231917115277488,
          0.3569203553467913,
          -0.09477443440139695,
          0.28614581577242637,
          0.08435075160098951,
          0.08342346645040852,
          0.12251217365689251,
          0.014812511125699961,
          0.15133668116972387,
          0.1900483756700777,
          0.2492127062730079,
          0.2402510620532543,
          0.30462469648959456,
          0.2899476935699019,
          0.22722816542679738,
          0.1178010598344351,
          0.12001854547640514,
          0.15596597027089285,
          0.2110298432746363,
          -0.01275922029048824,
          -0.03207371200404837,
          0.4117263628229473,
          0.006456950917715648,
          0.0649300228985768,
          -0.07300381273449341,
          0.04218332213879058,
          0.14173136549690035,
          0.07026588693739123,
          -0.00213293750580211,
          0.22249184316451925,
          0.15790075969113257,
          0.140178363590543,
          -0.11088059905864661,
          0.22843440240366794,
          0.15119362849199916,
          0.22971263289876112,
          0.22989976642651316,
          0.2880822767704723,
          0.08465423811969129,
          0.23306605480569967,
          0.24835770066339322,
          -0.04528201313222884,
          0.20647789239158226,
          0.18220477631163332,
          0.34921920756307556,
          0.10280589790835627,
          0.1806529309317304,
          0.26297561157343063,
          0.005059125393170785,
          0.2730525584978524,
          -0.0037470997749413093,
          0.1450378442732364,
          0.04772826224678456,
          0.19490434317578506,
          0.27080402498276923,
          0.19614787502092113,
          0.006746813298881958,
          -0.03831236389594435,
          -0.02028352127815336,
          0.11502690178123479,
          0.18825357434906234,
          0.31430820463343623,
          0.2866042127243248,
          0.3800609636665261,
          0.04954304677506918,
          0.13701432565731544,
          0.07772116555987736,
          -0.023019235441247024,
          -0.08507797202693522,
          0.22668759228298968,
          0.1839290344380338,
          0.4406785916748918,
          0.1832211883425093,
          0.23535227691504415,
          0.15659080346993895,
          0.1699033667858828,
          0.27304088543530874,
          -0.004249165525760722,
          0.29918773505991564,
          0.08276023003383613,
          0.27233834305835447,
          0.020218697390219434,
          0.02735308076823075,
          0.1402340746780275,
          0.2873544673260971,
          0.19248137995304437,
          -0.015877522137891786,
          -0.1955422714174455,
          0.21290823393754257,
          -0.1475512344590071,
          0.20124834513516515,
          0.21690950487197286,
          0.14706441126287262,
          0.21241564754231732,
          0.02709124305953437,
          0.21992862661215729,
          0.14408030594034602,
          0.149539729167585,
          -0.014228939059539727,
          0.1156326872433693,
          0.26862318168190846,
          0.1178706507101057,
          0.1779689114000097,
          0.2306716958586138,
          -0.001584896390145655,
          0.022894443520919072,
          -0.07817179185005792,
          0.25748650792163313,
          -0.0360557428783,
          -0.03153260191168379,
          0.28152062949883533,
          0.18574470178800825,
          0.12142287206873381,
          0.2330491405336098,
          0.2536304486690314,
          0.04848771373607096,
          0.28934506100321833,
          0.11247565393384432,
          0.21206316575839976,
          0.10883783361192721,
          0.44983406068041976,
          0.19296765175132535,
          0.21468395223041736,
          -0.15034274806351977,
          -0.03723757443062482,
          0.12701182613667097,
          0.19647406340109527,
          0.040929318943775536,
          0.050233993736602284,
          -0.17703842254686192,
          0.044241283062253056,
          0.09732598939958133,
          -0.045849789196264104,
          0.14348482218993824,
          0.2957213187931157,
          0.26429590624503324,
          -0.005823278441007315,
          0.008507164435235448,
          0.16141246429476017,
          0.25356444286883373,
          0.27018351500130844,
          0.2857035717962616,
          0.19628981579835802,
          0.12825858198611373,
          0.014957827474434759,
          0.3716958216974172,
          0.20743151938317694,
          0.19385499954661692,
          0.23997130794485796,
          0.20739017153779174,
          0.04858136384500336,
          0.23444962525510085,
          0.06785374636246484,
          0.21368722158761128,
          0.04239586400965656,
          0.17060011958353233,
          0.16270351980263487,
          0.20725529201970466,
          0.2774198604716761,
          0.26104529414037,
          0.15980679460892083,
          0.09923226496076806,
          0.42727702747013485,
          -0.041903999386980154,
          0.0793335490703014,
          0.2945957635850229,
          0.3986860232905079,
          0.2585140476995208,
          0.06844539796382851,
          0.058875056030554485,
          0.11223199651409976,
          0.015177200249747273,
          0.26169623744219794,
          0.15574654084821815,
          0.04695244806029822,
          0.2939463245619046,
          0.05832934338268975,
          0.054685017399725706,
          -0.011327217746797206,
          0.23460014192818812,
          0.2628885656397155,
          -0.08938501233699185,
          0.019409826937720562,
          0.3624797769082298,
          0.2408900622579217,
          0.13509028584363486,
          0.11870255338346777,
          0.10847681859883318,
          0.16093467693543315,
          -0.17184388674153384,
          0.22816082566844553,
          0.030705527045609457,
          0.14510421764799494,
          -0.07346792851072642,
          0.2931021213542874,
          0.17076563332150177,
          0.2835365030785483,
          0.16616989501155913,
          0.12781330478289796,
          0.04596149590427447,
          0.10414860856071781,
          0.0979136082489148,
          0.053739122083306806,
          0.1685016119824732,
          0.1927700514005794,
          0.07256330103740133,
          0.3093609917079385,
          0.30154001390514723,
          0.22639732237083052,
          0.14399341172736102,
          0.14465149851621315,
          0.2777394819504722,
          0.17523031252069537,
          0.05321117732071414,
          0.1706300341519461,
          0.017558961708549217,
          0.1350963340302625,
          0.14578403886559632,
          0.3934588319493619,
          0.2797983336484633,
          0.003101700392140554,
          0.1555101589279837,
          -0.05306023521637311,
          -0.02727396345230295,
          0.15389211455460167,
          -0.20311460131868234,
          0.10826993947049272,
          -0.13526289798855587,
          0.12162743402733417,
          0.40070417816764314,
          0.07108036243544363,
          -0.09159085816403485,
          0.11957643344075575,
          0.30895618699678934,
          -0.060132093253290386,
          0.11478272276385805,
          0.12043966957259128,
          0.3181295557630748,
          0.13212733608913096,
          0.05428511926831123,
          0.15036599815228724,
          0.07318566460935994,
          0.14207300373442855,
          0.06255110401995335,
          -0.06009583462742499,
          0.12800628594460178,
          0.12450367603606982,
          -0.3931890108436882,
          0.3747008545103268,
          -0.05432042805385735,
          0.062018627044987854,
          0.23322861455937466,
          0.11956523028528666,
          0.22369775868101938,
          0.24593735047115778,
          -0.04048804390278524,
          0.16021287025160696,
          0.2526205298329812,
          0.11999844794618492,
          0.06564292399419942,
          0.18063255090481936,
          -0.021484342698554426,
          0.2774260349055418,
          0.21387381005042266,
          0.06430804706329188,
          0.2222760968244403,
          0.050650931297615075,
          0.047480852135699414,
          0.2778613136713777,
          0.29060725896929357,
          0.4110376158892166,
          0.030715042680070526,
          0.15195789806273236,
          -0.003579535037062348,
          0.2555568151801139,
          0.12386038007895056,
          0.18954785911945013,
          0.08168100690301003,
          -0.06128879427400359,
          0.25372680147760085,
          0.1585525531466508,
          0.16534187071266282,
          0.24996478524724525,
          0.1296048302008696,
          0.17297455191556887,
          0.08706394648246144,
          0.19235971730510962,
          0.27426440948465247,
          0.14514882525111703,
          -0.06317298275798264,
          0.023453506528872403,
          0.26015395438502914,
          0.3525043599843358,
          0.09692882661619916,
          0.2924230150908711,
          0.08443230564105589,
          -0.007331772803695971,
          0.15588312013907787,
          0.3576013551296657,
          0.11520851610974066,
          0.1635720299863607,
          -0.2274852132526718,
          0.33100946393175595,
          0.10677261173411104,
          0.11262304008044917,
          0.12091506435122636,
          0.2323967851428241,
          0.08359456294609097,
          0.17163251625037956,
          0.2566306473518507,
          0.25196243641569216,
          0.22458439982925593,
          0.2894159119849795,
          0.2683397109927845,
          0.24798130468250015,
          0.10989167989173423,
          0.16514345315377382,
          0.2669542233250252,
          0.22336570204422146,
          0.13270996043144134,
          0.24627834803440432,
          -0.057089668332997875,
          -0.022221152985204662,
          0.23493898913378614,
          0.009352447071342172,
          0.215608675585066,
          0.0841719662281503,
          0.16776870391866883,
          0.36603232610160497,
          0.23976773752430316,
          0.24940586738385645,
          0.3419099958743852,
          0.3761948463376147,
          0.0787605356806431,
          0.07863852590803906,
          0.05315609455082303,
          0.2731478400480596,
          0.13660526785729182,
          0.0792824960391769,
          0.12515275820632782,
          0.17262204333586373,
          -0.1381673597949015,
          0.23443548224770316,
          0.15494024188478328,
          0.12900226758309083,
          0.3287228809942245,
          0.07636325338884845,
          0.13528059448971197,
          0.17878744677161096,
          0.11404327365110754,
          0.188447655479467,
          0.13096934145899108,
          0.176288032496623,
          0.05877965368650895,
          -0.035112591128109,
          0.11527699718648711,
          -0.12211064965960074,
          -0.014544435784459773,
          0.13290790464477237,
          0.1509789924807877,
          0.0619761723435461,
          -0.0485240144125609,
          0.36978558017473245,
          0.045574746984881814,
          0.25506733561758876,
          0.14244479435641383,
          0.13028329179978757,
          0.16931290757724704,
          0.17102920508770617,
          0.4127191404471675,
          0.3571077276163854,
          0.3553075218588603,
          0.1578325129181823,
          0.08856875993938598,
          0.21543035462637075,
          0.11967725182801134,
          0.24633675577194475,
          0.0822083866084639,
          0.23601527854819487,
          0.3051785740680964,
          0.26753843164388014,
          0.22314689468201568,
          0.18138748390603637,
          0.2847133035218859,
          0.19555326326885186,
          0.09724872707979117,
          0.15344653708132555,
          0.2567753510829771,
          0.20883785520046588,
          0.2157232155309747,
          0.11261036622216608,
          0.06839386757435484,
          0.07204220925999597,
          0.34228383065941936,
          0.28187667508066067,
          0.057554847491880265,
          0.2300178973275224,
          -0.04126186349556227,
          0.35341086683518985,
          0.1744019468526457,
          0.11902786484484384,
          0.18096349754923075,
          0.11796553070357853,
          -0.06318690929721985,
          0.05233199773749764,
          -0.03902141468774105,
          0.13435212340356104,
          0.3020282924564915,
          0.02986977912771896,
          0.25428989941369534,
          0.028787794190518523,
          0.06288025906538948,
          0.28113428127213375,
          0.41481988648060364,
          0.12700774367276094,
          0.0015751916216973482,
          0.2797073473550606,
          0.32670360277451027,
          0.23287182623396516,
          0.12330874690978208,
          -0.3254507105794086,
          -0.07030108253684926,
          0.2840205261857973,
          0.1285847348258679,
          0.3950191231414991,
          0.07343350239604227,
          0.16321802297527332,
          0.15155219497233666,
          0.03658058075237959,
          0.01280474568743742,
          0.18670357660002154,
          0.09947094121628468,
          0.13385536357189595,
          0.3434463618489461,
          0.15577551934529169,
          0.1725837367699387,
          0.1437318669042986,
          0.2159840727558969,
          0.14376451751810748,
          0.015001080676058556,
          0.14599540543394907,
          0.02514204767445737,
          0.3193436854440365,
          0.029014718081993445,
          0.2099738938885926,
          0.23587611869961073,
          0.04362687894298108,
          0.137029681050337,
          -0.17661841018344665,
          0.21446956609133397,
          0.22886383090505982,
          0.2749273623044014,
          -0.05193556141891274,
          0.06572982136308646,
          0.10206765604681647,
          0.19273632298603519,
          -0.0030206216500291323,
          0.037307257376474195,
          0.03748001729452008,
          0.124978241300591,
          0.2419442121606596,
          0.18761368385403332,
          0.28719441683178326,
          0.26820050739165247,
          0.09679046869586017,
          0.1333886451991232,
          0.14317509553799007,
          0.08810114995926224,
          0.19838158407284306,
          0.1309494849755649,
          0.0929345885825447,
          0.26946209788915904,
          0.08537137893706169,
          0.19866602127765032,
          0.19716073634081976,
          0.1768935538312811,
          0.43229163015314825,
          0.10200646498941687,
          0.07035380719484996,
          0.15089679286012506,
          0.15704423318898092,
          0.1994938724515225,
          0.34579779551093004,
          0.23514226616723494,
          0.1356087102450114,
          0.24700251956347577,
          0.06679080400497442,
          0.11623017145157848,
          0.23568635607342653,
          0.1562337523888507,
          0.09834905376054298,
          0.1435444914786305,
          0.2345668731758838,
          0.17779333453242135,
          0.3453370035178042,
          0.2230296576428925,
          0.22177021756315574,
          0.14920791970168656,
          0.09987991317136775,
          0.11080895116803269,
          0.23869200079800632,
          0.32953963934834934,
          0.3018626432377094,
          0.2147410761454153,
          -0.14572119196655972,
          -0.058642523742981005,
          0.20319310558137146,
          0.31808433252709345,
          0.43370348738121084,
          0.047120231633908986,
          -0.10819837632174356,
          0.3556278395142865,
          0.24322090127349735,
          0.18529852316018225,
          0.07423448668215045,
          0.07272637200963965,
          0.1426667101670183,
          0.2599152585846531,
          0.1571366916283034,
          0.019920515612232455,
          0.07927992875041565,
          0.07009525803423924,
          0.5223438827174048,
          0.21122453724002138,
          0.10591981968054331,
          0.3193544394919047,
          0.27414154114667116,
          0.2827578732107985,
          0.2713914082586054,
          0.08246198169357143,
          0.16332998952366093,
          0.45721906903217235,
          0.21349034617902596,
          0.057175155092192835,
          0.2803959400066265,
          0.1433693031180997,
          0.14623922935034725,
          0.14567735838964424,
          0.2203272371458332,
          0.22306859493383638,
          0.16925657109581174,
          0.14870173449572743,
          0.1855583304047843,
          0.18399648360570786,
          0.09013256223588437,
          0.21367885453084656,
          0.29384998453781286,
          0.16200471657973653,
          0.12285283467655744,
          0.40376370472670425,
          0.22514752101556162,
          0.047897059386355585,
          0.2588455880465869,
          0.39167787364921874,
          0.21315670374327533,
          0.24272183729805474,
          0.15589646318128003,
          0.15536295891278631,
          0.24304731527501572,
          0.12065749683647466,
          0.007365018559234945,
          0.237692943753372,
          -0.07121627190077355,
          0.1477452979851569,
          0.17160923445927623,
          0.28598867875295364,
          0.18090474196688766,
          0.08084108882217181,
          0.19189004697817313,
          0.18391154080175431,
          0.09261748948667273,
          0.2649683431870938,
          0.18226693201456,
          0.10890328231410093,
          0.3765147754586976,
          0.24737175446632886,
          0.3257832928986768,
          0.02607002682272853,
          0.1657008437629586,
          0.13615265566573825,
          0.171036013699384,
          0.23161127866718856,
          0.22701781339432145,
          0.3587110747603612,
          0.08332357481443214,
          0.09041898744995719,
          0.12505223205648977,
          0.2564833366577367,
          0.24234524794314824,
          0.14282478544874413,
          0.20700406151579215,
          0.21965195366511958,
          0.11561458226485737,
          0.22834562351915813,
          0.28371981323588913,
          0.14340730668208532,
          -0.022788890742622237,
          0.38476689540751524,
          0.33127269180380475,
          0.21380738267592966,
          0.1911301493182831,
          0.16122733845590584,
          -0.07892630277129674,
          0.04966189500685585,
          0.095150219763072,
          0.21066447806435468,
          -0.05843015313240012,
          0.4438607733681137,
          0.21238877695421585,
          0.22600648982466578,
          0.16000126519682495,
          -0.09888756898345226,
          -0.07722827399896044,
          -0.0986294527107189,
          0.29189742945182584,
          0.2619779423655572,
          0.20234442848486328,
          0.06353435630867416,
          0.0834094971244687,
          0.188013922298777,
          0.20328478044798823,
          0.31670427230506076,
          -0.04412861618841351,
          0.30407994024934526,
          0.40459175929595464,
          0.06314037292748029,
          0.27989786975205677,
          0.23229276362738938,
          0.13163408418098138,
          0.17462756908117913,
          0.21440402090346342,
          0.3834590633268258,
          0.1893179221765858,
          0.1718547619766746,
          0.23705713884838386,
          0.14774028502131306,
          0.09638275318753049,
          0.028212278625870023,
          -0.08165983928657938,
          0.19904461914586322,
          0.284079772093631,
          0.06759195890150332,
          0.16649602254946044,
          -0.009397523286652693,
          0.2330367788380121,
          0.07617118349764093,
          0.3803341892332267,
          0.10201843142630068,
          0.12228821504370764,
          0.07002010939852686,
          0.038425234894162955,
          0.24242081882191246,
          0.3603208529802725,
          0.18375570741384006,
          0.18443387248479026,
          0.10431497362687958,
          0.011798257254130527,
          0.17502498165822933,
          0.1834971549108978,
          0.25093288083775783,
          0.03163371708935395,
          0.1491519133309097,
          -0.1041025963851635,
          0.05539180783701636,
          0.2687809454090577,
          0.22953069721724073,
          0.016606931807562723,
          0.2804106266146221,
          0.13345827678699992,
          0.22913772221562279,
          -0.028048170608699075,
          0.4272576383449348,
          0.07896264732707321,
          0.1703045689193214,
          0.2733539631834327,
          0.1301100736150317,
          0.16642379778419963,
          0.2170603768049145,
          0.29579996724881014,
          0.20413785295761647,
          -0.036661075447425764,
          0.17240481704138602,
          0.14042476384553018,
          -0.025443070062892884,
          0.1967387998227533,
          0.08743028170637082,
          0.10995984299493637,
          0.18982544848363023,
          -0.018398696809654558,
          0.07751235643974236,
          0.05593092846309519,
          0.40022662801621994,
          0.14342972569119836,
          0.2378577412829151,
          0.22813506417807772,
          0.07182458027370121,
          0.35612162269289827,
          -0.11243813780402774,
          0.217691904110665,
          0.1195549257818292,
          0.18226253613987267,
          0.14486040313532123,
          0.22175860228827396,
          0.11188246692766356,
          0.3456466934796458,
          0.26243412295990826,
          0.31880571826292947,
          0.09377604805293618,
          0.16870572575209505,
          0.2636116551329583,
          0.14373732966057295,
          0.28724145643698673,
          0.2382312224214151,
          0.24789359077662043,
          0.23416061590814075,
          0.3709787869651623,
          0.11400207892915182,
          0.1124804769553728,
          0.21734680359902264,
          0.1617633756306656,
          0.2291310217792718,
          -0.0907403673121864,
          0.1114882662124643,
          0.03736631749102445,
          -0.20519197391829097,
          0.25898568718015286,
          0.17378769666635885,
          -0.2681018865914547,
          0.14472089323826764,
          0.1638148847181612,
          0.10975578976036116,
          0.2309465513751649,
          -0.1372613100084356,
          0.3752749492191353,
          0.2505800357841568,
          0.2517264576436021,
          0.2930947133253021,
          0.23301967488118502,
          0.1596854256134212,
          0.20121988910492805,
          0.22347650735111096,
          0.15383052180079176,
          0.25075909660335993,
          0.3631150200053538,
          -0.20755771610420404,
          0.19751005986720052,
          0.31750879507010504,
          0.2038367875691175,
          0.3497333884288796,
          0.034328209726344025,
          0.2795297835196471,
          0.2509873457139835,
          0.33970452516509303,
          0.2283438427605042,
          0.3039652439922064,
          0.03743893267655619,
          0.07303309711695602,
          0.27148578125490064,
          0.09458082330296991,
          0.19832238057596707,
          0.13950557536258776,
          0.21914206866542985,
          0.25401163865249277,
          0.23679611673399786,
          0.18409825731245544,
          0.2530403342855848,
          0.26198213799256515,
          0.08113091009357651,
          -0.019629829442976324,
          0.1401389113340981,
          0.13510101771324906,
          0.13169131738757675,
          0.11494406341713906,
          0.09950405319974953,
          0.0026824644561281017,
          -0.00850301981655649,
          0.12740772650189575,
          0.2701871270997623,
          0.20921073651287858,
          0.03989874438725062,
          0.10585806617787707,
          0.13195079974488358,
          0.22433646468947596,
          0.2034647642446556,
          0.011622592136740745,
          0.12842554733224354,
          0.13563792279104617,
          0.31163732513726317,
          0.2426488673341472,
          0.06375610401683103,
          0.10259947955490724,
          0.0595065378220323,
          0.18757981922564573,
          0.1378425424490839,
          0.13062012841539572,
          0.24663708094945644,
          0.09238584498295951,
          0.1688033969033621,
          0.2758244006203988,
          0.11492914036190008,
          -0.05648616747764334,
          0.3414012517130913,
          0.09817985256297174,
          0.17608872399047806,
          0.002119632791620413,
          0.26212141591685845,
          0.2494813826363106,
          0.22558254090423346,
          0.20276956922927522,
          0.29920782635507437,
          0.08883830799515113,
          0.2610050964376308,
          0.3355462997041843,
          0.2197812059724103,
          0.15761305952538432,
          0.13287101432784174,
          0.2168811140618926,
          0.1325514845131676,
          0.1848522729540387,
          0.27317903407265753,
          0.1021289900356,
          0.03725562326606236,
          0.23236985352620737,
          0.16586866458652177,
          0.1649624007799044,
          0.19695991929409676,
          0.09480612690621074,
          0.20438302069405773,
          0.09151677082004708,
          0.1575454715966342,
          0.06180303808642027,
          0.08614886290082352,
          0.13541463605549203,
          0.12939955839732567,
          0.1741878850572488,
          0.34082313567135347,
          0.27142112171727134,
          0.04637980132488863,
          0.38453216965172654,
          0.06459494848356542,
          0.4357501434705484,
          0.3873750054574348,
          0.3210392660163094,
          -0.02879009331717698,
          0.25466420724334254,
          0.10169202506519055,
          0.267023668092632,
          0.20043455207891991,
          -0.05122621487193209,
          0.29050670927737676,
          0.19635720539476142,
          0.28182669728995485,
          0.32875515696320873,
          0.15676995157007437,
          0.1432746434564243,
          0.07708483393348758,
          0.2004493636607741,
          0.05076308465999381,
          0.2766849337340431,
          0.3893540276353814,
          0.1009625833154493,
          -0.11429525683001926
         ]
        }
       ],
       "layout": {
        "template": {
         "data": {
          "bar": [
           {
            "error_x": {
             "color": "#2a3f5f"
            },
            "error_y": {
             "color": "#2a3f5f"
            },
            "marker": {
             "line": {
              "color": "#E5ECF6",
              "width": 0.5
             },
             "pattern": {
              "fillmode": "overlay",
              "size": 10,
              "solidity": 0.2
             }
            },
            "type": "bar"
           }
          ],
          "barpolar": [
           {
            "marker": {
             "line": {
              "color": "#E5ECF6",
              "width": 0.5
             },
             "pattern": {
              "fillmode": "overlay",
              "size": 10,
              "solidity": 0.2
             }
            },
            "type": "barpolar"
           }
          ],
          "carpet": [
           {
            "aaxis": {
             "endlinecolor": "#2a3f5f",
             "gridcolor": "white",
             "linecolor": "white",
             "minorgridcolor": "white",
             "startlinecolor": "#2a3f5f"
            },
            "baxis": {
             "endlinecolor": "#2a3f5f",
             "gridcolor": "white",
             "linecolor": "white",
             "minorgridcolor": "white",
             "startlinecolor": "#2a3f5f"
            },
            "type": "carpet"
           }
          ],
          "choropleth": [
           {
            "colorbar": {
             "outlinewidth": 0,
             "ticks": ""
            },
            "type": "choropleth"
           }
          ],
          "contour": [
           {
            "colorbar": {
             "outlinewidth": 0,
             "ticks": ""
            },
            "colorscale": [
             [
              0,
              "#0d0887"
             ],
             [
              0.1111111111111111,
              "#46039f"
             ],
             [
              0.2222222222222222,
              "#7201a8"
             ],
             [
              0.3333333333333333,
              "#9c179e"
             ],
             [
              0.4444444444444444,
              "#bd3786"
             ],
             [
              0.5555555555555556,
              "#d8576b"
             ],
             [
              0.6666666666666666,
              "#ed7953"
             ],
             [
              0.7777777777777778,
              "#fb9f3a"
             ],
             [
              0.8888888888888888,
              "#fdca26"
             ],
             [
              1,
              "#f0f921"
             ]
            ],
            "type": "contour"
           }
          ],
          "contourcarpet": [
           {
            "colorbar": {
             "outlinewidth": 0,
             "ticks": ""
            },
            "type": "contourcarpet"
           }
          ],
          "heatmap": [
           {
            "colorbar": {
             "outlinewidth": 0,
             "ticks": ""
            },
            "colorscale": [
             [
              0,
              "#0d0887"
             ],
             [
              0.1111111111111111,
              "#46039f"
             ],
             [
              0.2222222222222222,
              "#7201a8"
             ],
             [
              0.3333333333333333,
              "#9c179e"
             ],
             [
              0.4444444444444444,
              "#bd3786"
             ],
             [
              0.5555555555555556,
              "#d8576b"
             ],
             [
              0.6666666666666666,
              "#ed7953"
             ],
             [
              0.7777777777777778,
              "#fb9f3a"
             ],
             [
              0.8888888888888888,
              "#fdca26"
             ],
             [
              1,
              "#f0f921"
             ]
            ],
            "type": "heatmap"
           }
          ],
          "heatmapgl": [
           {
            "colorbar": {
             "outlinewidth": 0,
             "ticks": ""
            },
            "colorscale": [
             [
              0,
              "#0d0887"
             ],
             [
              0.1111111111111111,
              "#46039f"
             ],
             [
              0.2222222222222222,
              "#7201a8"
             ],
             [
              0.3333333333333333,
              "#9c179e"
             ],
             [
              0.4444444444444444,
              "#bd3786"
             ],
             [
              0.5555555555555556,
              "#d8576b"
             ],
             [
              0.6666666666666666,
              "#ed7953"
             ],
             [
              0.7777777777777778,
              "#fb9f3a"
             ],
             [
              0.8888888888888888,
              "#fdca26"
             ],
             [
              1,
              "#f0f921"
             ]
            ],
            "type": "heatmapgl"
           }
          ],
          "histogram": [
           {
            "marker": {
             "pattern": {
              "fillmode": "overlay",
              "size": 10,
              "solidity": 0.2
             }
            },
            "type": "histogram"
           }
          ],
          "histogram2d": [
           {
            "colorbar": {
             "outlinewidth": 0,
             "ticks": ""
            },
            "colorscale": [
             [
              0,
              "#0d0887"
             ],
             [
              0.1111111111111111,
              "#46039f"
             ],
             [
              0.2222222222222222,
              "#7201a8"
             ],
             [
              0.3333333333333333,
              "#9c179e"
             ],
             [
              0.4444444444444444,
              "#bd3786"
             ],
             [
              0.5555555555555556,
              "#d8576b"
             ],
             [
              0.6666666666666666,
              "#ed7953"
             ],
             [
              0.7777777777777778,
              "#fb9f3a"
             ],
             [
              0.8888888888888888,
              "#fdca26"
             ],
             [
              1,
              "#f0f921"
             ]
            ],
            "type": "histogram2d"
           }
          ],
          "histogram2dcontour": [
           {
            "colorbar": {
             "outlinewidth": 0,
             "ticks": ""
            },
            "colorscale": [
             [
              0,
              "#0d0887"
             ],
             [
              0.1111111111111111,
              "#46039f"
             ],
             [
              0.2222222222222222,
              "#7201a8"
             ],
             [
              0.3333333333333333,
              "#9c179e"
             ],
             [
              0.4444444444444444,
              "#bd3786"
             ],
             [
              0.5555555555555556,
              "#d8576b"
             ],
             [
              0.6666666666666666,
              "#ed7953"
             ],
             [
              0.7777777777777778,
              "#fb9f3a"
             ],
             [
              0.8888888888888888,
              "#fdca26"
             ],
             [
              1,
              "#f0f921"
             ]
            ],
            "type": "histogram2dcontour"
           }
          ],
          "mesh3d": [
           {
            "colorbar": {
             "outlinewidth": 0,
             "ticks": ""
            },
            "type": "mesh3d"
           }
          ],
          "parcoords": [
           {
            "line": {
             "colorbar": {
              "outlinewidth": 0,
              "ticks": ""
             }
            },
            "type": "parcoords"
           }
          ],
          "pie": [
           {
            "automargin": true,
            "type": "pie"
           }
          ],
          "scatter": [
           {
            "fillpattern": {
             "fillmode": "overlay",
             "size": 10,
             "solidity": 0.2
            },
            "type": "scatter"
           }
          ],
          "scatter3d": [
           {
            "line": {
             "colorbar": {
              "outlinewidth": 0,
              "ticks": ""
             }
            },
            "marker": {
             "colorbar": {
              "outlinewidth": 0,
              "ticks": ""
             }
            },
            "type": "scatter3d"
           }
          ],
          "scattercarpet": [
           {
            "marker": {
             "colorbar": {
              "outlinewidth": 0,
              "ticks": ""
             }
            },
            "type": "scattercarpet"
           }
          ],
          "scattergeo": [
           {
            "marker": {
             "colorbar": {
              "outlinewidth": 0,
              "ticks": ""
             }
            },
            "type": "scattergeo"
           }
          ],
          "scattergl": [
           {
            "marker": {
             "colorbar": {
              "outlinewidth": 0,
              "ticks": ""
             }
            },
            "type": "scattergl"
           }
          ],
          "scattermapbox": [
           {
            "marker": {
             "colorbar": {
              "outlinewidth": 0,
              "ticks": ""
             }
            },
            "type": "scattermapbox"
           }
          ],
          "scatterpolar": [
           {
            "marker": {
             "colorbar": {
              "outlinewidth": 0,
              "ticks": ""
             }
            },
            "type": "scatterpolar"
           }
          ],
          "scatterpolargl": [
           {
            "marker": {
             "colorbar": {
              "outlinewidth": 0,
              "ticks": ""
             }
            },
            "type": "scatterpolargl"
           }
          ],
          "scatterternary": [
           {
            "marker": {
             "colorbar": {
              "outlinewidth": 0,
              "ticks": ""
             }
            },
            "type": "scatterternary"
           }
          ],
          "surface": [
           {
            "colorbar": {
             "outlinewidth": 0,
             "ticks": ""
            },
            "colorscale": [
             [
              0,
              "#0d0887"
             ],
             [
              0.1111111111111111,
              "#46039f"
             ],
             [
              0.2222222222222222,
              "#7201a8"
             ],
             [
              0.3333333333333333,
              "#9c179e"
             ],
             [
              0.4444444444444444,
              "#bd3786"
             ],
             [
              0.5555555555555556,
              "#d8576b"
             ],
             [
              0.6666666666666666,
              "#ed7953"
             ],
             [
              0.7777777777777778,
              "#fb9f3a"
             ],
             [
              0.8888888888888888,
              "#fdca26"
             ],
             [
              1,
              "#f0f921"
             ]
            ],
            "type": "surface"
           }
          ],
          "table": [
           {
            "cells": {
             "fill": {
              "color": "#EBF0F8"
             },
             "line": {
              "color": "white"
             }
            },
            "header": {
             "fill": {
              "color": "#C8D4E3"
             },
             "line": {
              "color": "white"
             }
            },
            "type": "table"
           }
          ]
         },
         "layout": {
          "annotationdefaults": {
           "arrowcolor": "#2a3f5f",
           "arrowhead": 0,
           "arrowwidth": 1
          },
          "autotypenumbers": "strict",
          "coloraxis": {
           "colorbar": {
            "outlinewidth": 0,
            "ticks": ""
           }
          },
          "colorscale": {
           "diverging": [
            [
             0,
             "#8e0152"
            ],
            [
             0.1,
             "#c51b7d"
            ],
            [
             0.2,
             "#de77ae"
            ],
            [
             0.3,
             "#f1b6da"
            ],
            [
             0.4,
             "#fde0ef"
            ],
            [
             0.5,
             "#f7f7f7"
            ],
            [
             0.6,
             "#e6f5d0"
            ],
            [
             0.7,
             "#b8e186"
            ],
            [
             0.8,
             "#7fbc41"
            ],
            [
             0.9,
             "#4d9221"
            ],
            [
             1,
             "#276419"
            ]
           ],
           "sequential": [
            [
             0,
             "#0d0887"
            ],
            [
             0.1111111111111111,
             "#46039f"
            ],
            [
             0.2222222222222222,
             "#7201a8"
            ],
            [
             0.3333333333333333,
             "#9c179e"
            ],
            [
             0.4444444444444444,
             "#bd3786"
            ],
            [
             0.5555555555555556,
             "#d8576b"
            ],
            [
             0.6666666666666666,
             "#ed7953"
            ],
            [
             0.7777777777777778,
             "#fb9f3a"
            ],
            [
             0.8888888888888888,
             "#fdca26"
            ],
            [
             1,
             "#f0f921"
            ]
           ],
           "sequentialminus": [
            [
             0,
             "#0d0887"
            ],
            [
             0.1111111111111111,
             "#46039f"
            ],
            [
             0.2222222222222222,
             "#7201a8"
            ],
            [
             0.3333333333333333,
             "#9c179e"
            ],
            [
             0.4444444444444444,
             "#bd3786"
            ],
            [
             0.5555555555555556,
             "#d8576b"
            ],
            [
             0.6666666666666666,
             "#ed7953"
            ],
            [
             0.7777777777777778,
             "#fb9f3a"
            ],
            [
             0.8888888888888888,
             "#fdca26"
            ],
            [
             1,
             "#f0f921"
            ]
           ]
          },
          "colorway": [
           "#636efa",
           "#EF553B",
           "#00cc96",
           "#ab63fa",
           "#FFA15A",
           "#19d3f3",
           "#FF6692",
           "#B6E880",
           "#FF97FF",
           "#FECB52"
          ],
          "font": {
           "color": "#2a3f5f"
          },
          "geo": {
           "bgcolor": "white",
           "lakecolor": "white",
           "landcolor": "#E5ECF6",
           "showlakes": true,
           "showland": true,
           "subunitcolor": "white"
          },
          "hoverlabel": {
           "align": "left"
          },
          "hovermode": "closest",
          "mapbox": {
           "style": "light"
          },
          "paper_bgcolor": "white",
          "plot_bgcolor": "#E5ECF6",
          "polar": {
           "angularaxis": {
            "gridcolor": "white",
            "linecolor": "white",
            "ticks": ""
           },
           "bgcolor": "#E5ECF6",
           "radialaxis": {
            "gridcolor": "white",
            "linecolor": "white",
            "ticks": ""
           }
          },
          "scene": {
           "xaxis": {
            "backgroundcolor": "#E5ECF6",
            "gridcolor": "white",
            "gridwidth": 2,
            "linecolor": "white",
            "showbackground": true,
            "ticks": "",
            "zerolinecolor": "white"
           },
           "yaxis": {
            "backgroundcolor": "#E5ECF6",
            "gridcolor": "white",
            "gridwidth": 2,
            "linecolor": "white",
            "showbackground": true,
            "ticks": "",
            "zerolinecolor": "white"
           },
           "zaxis": {
            "backgroundcolor": "#E5ECF6",
            "gridcolor": "white",
            "gridwidth": 2,
            "linecolor": "white",
            "showbackground": true,
            "ticks": "",
            "zerolinecolor": "white"
           }
          },
          "shapedefaults": {
           "line": {
            "color": "#2a3f5f"
           }
          },
          "ternary": {
           "aaxis": {
            "gridcolor": "white",
            "linecolor": "white",
            "ticks": ""
           },
           "baxis": {
            "gridcolor": "white",
            "linecolor": "white",
            "ticks": ""
           },
           "bgcolor": "#E5ECF6",
           "caxis": {
            "gridcolor": "white",
            "linecolor": "white",
            "ticks": ""
           }
          },
          "title": {
           "x": 0.05
          },
          "xaxis": {
           "automargin": true,
           "gridcolor": "white",
           "linecolor": "white",
           "ticks": "",
           "title": {
            "standoff": 15
           },
           "zerolinecolor": "white",
           "zerolinewidth": 2
          },
          "yaxis": {
           "automargin": true,
           "gridcolor": "white",
           "linecolor": "white",
           "ticks": "",
           "title": {
            "standoff": 15
           },
           "zerolinecolor": "white",
           "zerolinewidth": 2
          }
         }
        },
        "title": {
         "text": "Sample of Random Portfolios"
        },
        "xaxis": {
         "title": {
          "text": "Volatility (Standard Deviation)"
         }
        },
        "yaxis": {
         "title": {
          "text": "Annualised Returns"
         }
        }
       }
      }
     },
     "metadata": {},
     "output_type": "display_data"
    }
   ],
   "source": [
    "fig = go.Figure()\n",
    "fig.add_trace(go.Scatter(\n",
    "    x=mean_variance_pairs[:, 1]**0.5,  # Volatility\n",
    "    y=mean_variance_pairs[:, 0],  # Returns\n",
    "    mode='markers',\n",
    "    marker=dict(\n",
    "        color=(mean_variance_pairs[:, 0]-risk_free_rate)/(mean_variance_pairs[:, 1]**0.5),  # Sharpe ratio\n",
    "        showscale=True,\n",
    "        size=7,\n",
    "        line=dict(width=1),\n",
    "        colorscale=\"RdBu\",\n",
    "        colorbar=dict(title=\"Sharpe<br>Ratio\")\n",
    "    ),\n",
    "    text=hover_texts  # Use the prepared hover texts\n",
    "))\n",
    "\n",
    "fig.update_layout(\n",
    "    xaxis=dict(title='Volatility (Standard Deviation)'),\n",
    "    yaxis=dict(title='Annualised Returns'),\n",
    "    title='Sample of Random Portfolios'\n",
    ")\n",
    "\n",
    "fig.show()"
   ]
  },
  {
   "cell_type": "code",
   "execution_count": 8,
   "metadata": {},
   "outputs": [
    {
     "name": "stderr",
     "output_type": "stream",
     "text": [
      "100%|██████████| 10000/10000 [00:01<00:00, 6945.12it/s]\n"
     ]
    }
   ],
   "source": [
    "n_assets = 5\n",
    "mean_variance_pairs = []\n",
    "weights_list = []\n",
    "tickers_list = []\n",
    "hover_texts = [] \n",
    "\n",
    "for _ in tqdm(range(10000)):\n",
    "    next_i = False\n",
    "    while True:\n",
    "        assets = np.random.choice(list(raw_data.columns), n_assets, replace=False)\n",
    "        weights = np.random.rand(n_assets)\n",
    "        weights /= weights.sum()\n",
    "\n",
    "        portfolio_E_Variance = 0\n",
    "        portfolio_E_Return = 0\n",
    "        for i in range(len(assets)):\n",
    "            portfolio_E_Return += weights[i] * annualized_returns.loc[assets[i]]\n",
    "            for j in range(len(assets)):\n",
    "                portfolio_E_Variance += weights[i] * weights[j] * cov.loc[assets[i], assets[j]]\n",
    "\n",
    "        # Check for dominated portfolios\n",
    "        for R, V in mean_variance_pairs:\n",
    "            if (R > portfolio_E_Return) & (V < portfolio_E_Variance):\n",
    "                next_i = True\n",
    "                break\n",
    "\n",
    "        if next_i:\n",
    "            break\n",
    "\n",
    "        mean_variance_pairs.append([portfolio_E_Return, portfolio_E_Variance])\n",
    "        weights_list.append(weights)\n",
    "        tickers_list.append(assets)\n",
    "        \n",
    "        # Generate hover text for the current portfolio\n",
    "        hover_text = \"<br>\".join([f\"{assets[i]}: Weight={weights[i]:.2f}\" for i in range(n_assets)])\n",
    "        hover_texts.append(f\"Return: {portfolio_E_Return:.2%}<br>Volatility: {portfolio_E_Variance**0.5:.2f}<br>{hover_text}\")\n",
    "        \n",
    "        break\n",
    "\n",
    "mean_variance_pairs = np.array(mean_variance_pairs)\n"
   ]
  },
  {
   "cell_type": "code",
   "execution_count": 9,
   "metadata": {},
   "outputs": [
    {
     "data": {
      "text/plain": [
       "90"
      ]
     },
     "execution_count": 9,
     "metadata": {},
     "output_type": "execute_result"
    }
   ],
   "source": [
    "len(mean_variance_pairs)"
   ]
  },
  {
   "cell_type": "code",
   "execution_count": 10,
   "metadata": {},
   "outputs": [
    {
     "data": {
      "application/vnd.plotly.v1+json": {
       "config": {
        "plotlyServerURL": "https://plot.ly"
       },
       "data": [
        {
         "hoverinfo": "text",
         "marker": {
          "color": [
           1.609801516361811,
           1.8192585929296308,
           3.1635756222712383,
           1.3882896931261284,
           1.0208371759665604,
           2.911549254456517,
           1.4304098903453142,
           2.4601240788312952,
           2.1090418075571256,
           3.3943851808434853,
           1.9158030829517099,
           3.476487466876981,
           2.9000219264895417,
           3.148118653867992,
           2.343696661121736,
           3.0151614244933898,
           2.292507581720797,
           3.48651799731107,
           2.8179656594792983,
           3.5562468201025133,
           3.550094847692911,
           3.445628967406688,
           3.5660182845044446,
           3.404629302788915,
           2.473842336484267,
           3.6247824923753047,
           3.0493722833598196,
           2.66072898273194,
           3.504763519149891,
           2.405924928330336,
           2.318185386961905,
           3.667952446907635,
           3.8365214423769274,
           2.8059620001493375,
           3.5010543534427527,
           3.280515303403072,
           3.7660191975267883,
           2.676215222214628,
           3.6000617106413735,
           3.666745439560933,
           3.87336050312534,
           3.7309060146388373,
           1.7377252494697528,
           3.7894549674595335,
           3.9836624381229075,
           3.592825130908337,
           3.127420502906005,
           3.1828368243581617,
           3.6745310754622897,
           3.884536800578252,
           3.6900493512970693,
           3.568850437444484,
           3.179332873185629,
           3.400073912530213,
           3.9318740971148953,
           3.1688735540810664,
           3.826303427373925,
           4.291702008331099,
           3.9985686120108492,
           3.787866199536649,
           4.954047502052804,
           3.6087536182670186,
           3.7806632867119316,
           2.997398923243321,
           4.6721408543912615,
           3.9943957101632988,
           3.8754343710881383,
           3.2806020972639227,
           2.9166127014277077,
           3.40444552814206,
           3.127240523814815,
           3.86741125584314,
           3.2991060754560855,
           3.9579609086671983,
           4.055414274944879,
           4.051860413093463,
           3.864820742097023,
           3.4040924843608344,
           3.8609777278437623,
           4.165919143255818,
           4.250773860951112,
           3.3146003684361998,
           3.980366920471628,
           4.310997662360187,
           3.71491966229808,
           2.2690686180604427,
           3.855516072064556,
           4.109852058264027,
           4.61679207124325,
           3.1226148751384835
          ],
          "colorbar": {
           "title": {
            "text": "Sharpe<br>Ratio"
           }
          },
          "colorscale": [
           [
            0,
            "rgb(103,0,31)"
           ],
           [
            0.1,
            "rgb(178,24,43)"
           ],
           [
            0.2,
            "rgb(214,96,77)"
           ],
           [
            0.3,
            "rgb(244,165,130)"
           ],
           [
            0.4,
            "rgb(253,219,199)"
           ],
           [
            0.5,
            "rgb(247,247,247)"
           ],
           [
            0.6,
            "rgb(209,229,240)"
           ],
           [
            0.7,
            "rgb(146,197,222)"
           ],
           [
            0.8,
            "rgb(67,147,195)"
           ],
           [
            0.9,
            "rgb(33,102,172)"
           ],
           [
            1,
            "rgb(5,48,97)"
           ]
          ],
          "line": {
           "width": 1
          },
          "showscale": true,
          "size": 7
         },
         "mode": "markers",
         "text": [
          "Return: 20.26%<br>Volatility: 0.13<br>REGN_adj_close: Weight=0.20<br>INTC_adj_close: Weight=0.24<br>EXC_adj_close: Weight=0.23<br>UA_adj_close: Weight=0.04<br>NFLX_adj_close: Weight=0.29",
          "Return: 15.36%<br>Volatility: 0.08<br>HON_adj_close: Weight=0.25<br>AMGN_adj_close: Weight=0.36<br>AEP_adj_close: Weight=0.24<br>GOOGL_adj_close: Weight=0.07<br>DE_adj_close: Weight=0.09",
          "Return: 39.35%<br>Volatility: 0.12<br>PFE_adj_close: Weight=0.03<br>V_adj_close: Weight=0.19<br>WMT_adj_close: Weight=0.05<br>RDY_adj_close: Weight=0.17<br>BA_adj_close: Weight=0.55",
          "Return: 15.92%<br>Volatility: 0.11<br>BSX_adj_close: Weight=0.25<br>GM_adj_close: Weight=0.06<br>QCOM_adj_close: Weight=0.33<br>ABT_adj_close: Weight=0.23<br>SYY_adj_close: Weight=0.13",
          "Return: 8.06%<br>Volatility: 0.08<br>DHR_adj_close: Weight=0.27<br>TMO_adj_close: Weight=0.22<br>AEP_adj_close: Weight=0.29<br>IBM_adj_close: Weight=0.22<br>VZ_adj_close: Weight=0.00",
          "Return: 42.30%<br>Volatility: 0.15<br>DE_adj_close: Weight=0.23<br>PM_adj_close: Weight=0.16<br>RTX_adj_close: Weight=0.24<br>BA_adj_close: Weight=0.08<br>NVDA_adj_close: Weight=0.28",
          "Return: 16.51%<br>Volatility: 0.12<br>SYK_adj_close: Weight=0.26<br>HON_adj_close: Weight=0.21<br>RDY_adj_close: Weight=0.27<br>ABBV_adj_close: Weight=0.06<br>MMM_adj_close: Weight=0.19",
          "Return: 19.86%<br>Volatility: 0.08<br>NEE_adj_close: Weight=0.27<br>MMM_adj_close: Weight=0.06<br>MS_adj_close: Weight=0.31<br>T_adj_close: Weight=0.08<br>LMT_adj_close: Weight=0.28",
          "Return: 20.37%<br>Volatility: 0.10<br>MDT_adj_close: Weight=0.22<br>V_adj_close: Weight=0.42<br>RMD_adj_close: Weight=0.16<br>JPM_adj_close: Weight=0.20<br>GILD_adj_close: Weight=0.01",
          "Return: 30.49%<br>Volatility: 0.09<br>ABBV_adj_close: Weight=0.24<br>NVDA_adj_close: Weight=0.12<br>VZ_adj_close: Weight=0.10<br>PEP_adj_close: Weight=0.55<br>RTX_adj_close: Weight=0.00",
          "Return: 15.19%<br>Volatility: 0.08<br>LMT_adj_close: Weight=0.16<br>BSX_adj_close: Weight=0.27<br>DE_adj_close: Weight=0.15<br>EXC_adj_close: Weight=0.29<br>CMCSA_adj_close: Weight=0.13",
          "Return: 31.11%<br>Volatility: 0.09<br>HD_adj_close: Weight=0.31<br>LMT_adj_close: Weight=0.25<br>ETN_adj_close: Weight=0.03<br>CRM_adj_close: Weight=0.08<br>MA_adj_close: Weight=0.34",
          "Return: 33.77%<br>Volatility: 0.12<br>TSLA_adj_close: Weight=0.01<br>BA_adj_close: Weight=0.34<br>ORCL_adj_close: Weight=0.17<br>RMD_adj_close: Weight=0.40<br>UNH_adj_close: Weight=0.08",
          "Return: 49.35%<br>Volatility: 0.16<br>PYPL_adj_close: Weight=0.44<br>WMT_adj_close: Weight=0.11<br>MS_adj_close: Weight=0.16<br>MA_adj_close: Weight=0.01<br>ADBE_adj_close: Weight=0.28",
          "Return: 16.83%<br>Volatility: 0.07<br>MSFT_adj_close: Weight=0.14<br>BTI_adj_close: Weight=0.09<br>PEP_adj_close: Weight=0.32<br>BMY_adj_close: Weight=0.07<br>CVX_adj_close: Weight=0.37",
          "Return: 31.52%<br>Volatility: 0.10<br>WMT_adj_close: Weight=0.26<br>SAP_adj_close: Weight=0.24<br>BA_adj_close: Weight=0.10<br>TXN_adj_close: Weight=0.20<br>BIIB_adj_close: Weight=0.21",
          "Return: 17.97%<br>Volatility: 0.08<br>RTX_adj_close: Weight=0.19<br>GIS_adj_close: Weight=0.22<br>META_adj_close: Weight=0.24<br>EXC_adj_close: Weight=0.25<br>WMT_adj_close: Weight=0.10",
          "Return: 36.71%<br>Volatility: 0.11<br>BABA_adj_close: Weight=0.27<br>EXC_adj_close: Weight=0.06<br>AEP_adj_close: Weight=0.26<br>ISRG_adj_close: Weight=0.25<br>NEE_adj_close: Weight=0.16",
          "Return: 42.83%<br>Volatility: 0.15<br>VRTX_adj_close: Weight=0.31<br>SRE_adj_close: Weight=0.05<br>MO_adj_close: Weight=0.18<br>CAT_adj_close: Weight=0.35<br>GM_adj_close: Weight=0.10",
          "Return: 34.35%<br>Volatility: 0.10<br>UNH_adj_close: Weight=0.33<br>SYK_adj_close: Weight=0.16<br>PYPL_adj_close: Weight=0.21<br>HON_adj_close: Weight=0.12<br>AEP_adj_close: Weight=0.18",
          "Return: 35.14%<br>Volatility: 0.10<br>MMM_adj_close: Weight=0.16<br>REGN_adj_close: Weight=0.12<br>BA_adj_close: Weight=0.40<br>SO_adj_close: Weight=0.16<br>ISRG_adj_close: Weight=0.15",
          "Return: 35.46%<br>Volatility: 0.10<br>WMT_adj_close: Weight=0.35<br>CVX_adj_close: Weight=0.16<br>ABBV_adj_close: Weight=0.38<br>BIIB_adj_close: Weight=0.05<br>GE_adj_close: Weight=0.05",
          "Return: 34.18%<br>Volatility: 0.10<br>MCD_adj_close: Weight=0.42<br>DE_adj_close: Weight=0.30<br>UNH_adj_close: Weight=0.07<br>PG_adj_close: Weight=0.13<br>CRM_adj_close: Weight=0.09",
          "Return: 35.80%<br>Volatility: 0.11<br>PYPL_adj_close: Weight=0.35<br>KO_adj_close: Weight=0.22<br>BAC_adj_close: Weight=0.15<br>MSFT_adj_close: Weight=0.00<br>HON_adj_close: Weight=0.28",
          "Return: 20.15%<br>Volatility: 0.08<br>SO_adj_close: Weight=0.38<br>PG_adj_close: Weight=0.13<br>NEE_adj_close: Weight=0.10<br>CAT_adj_close: Weight=0.12<br>MCD_adj_close: Weight=0.27",
          "Return: 28.63%<br>Volatility: 0.08<br>HD_adj_close: Weight=0.20<br>ABBV_adj_close: Weight=0.24<br>PFE_adj_close: Weight=0.23<br>ACN_adj_close: Weight=0.16<br>AEP_adj_close: Weight=0.17",
          "Return: 23.14%<br>Volatility: 0.08<br>KO_adj_close: Weight=0.44<br>REGN_adj_close: Weight=0.05<br>MMM_adj_close: Weight=0.16<br>MA_adj_close: Weight=0.31<br>V_adj_close: Weight=0.05",
          "Return: 17.02%<br>Volatility: 0.06<br>PG_adj_close: Weight=0.30<br>HD_adj_close: Weight=0.14<br>RTX_adj_close: Weight=0.23<br>NEE_adj_close: Weight=0.18<br>BAC_adj_close: Weight=0.15",
          "Return: 34.43%<br>Volatility: 0.10<br>PEP_adj_close: Weight=0.16<br>ISRG_adj_close: Weight=0.24<br>ADBE_adj_close: Weight=0.16<br>HON_adj_close: Weight=0.34<br>ABBV_adj_close: Weight=0.10",
          "Return: 18.19%<br>Volatility: 0.08<br>AEP_adj_close: Weight=0.07<br>MSFT_adj_close: Weight=0.28<br>CVX_adj_close: Weight=0.24<br>MMM_adj_close: Weight=0.06<br>XOM_adj_close: Weight=0.35",
          "Return: 17.07%<br>Volatility: 0.07<br>SO_adj_close: Weight=0.05<br>DHR_adj_close: Weight=0.06<br>JPM_adj_close: Weight=0.04<br>KO_adj_close: Weight=0.53<br>GOOG_adj_close: Weight=0.31",
          "Return: 46.22%<br>Volatility: 0.13<br>BA_adj_close: Weight=0.31<br>SYK_adj_close: Weight=0.14<br>VRTX_adj_close: Weight=0.20<br>DE_adj_close: Weight=0.24<br>VZ_adj_close: Weight=0.10",
          "Return: 33.91%<br>Volatility: 0.09<br>LMT_adj_close: Weight=0.32<br>CAT_adj_close: Weight=0.21<br>PG_adj_close: Weight=0.17<br>T_adj_close: Weight=0.11<br>PYPL_adj_close: Weight=0.19",
          "Return: 21.10%<br>Volatility: 0.08<br>GIS_adj_close: Weight=0.11<br>MCD_adj_close: Weight=0.24<br>NEE_adj_close: Weight=0.29<br>WMT_adj_close: Weight=0.08<br>DUK_adj_close: Weight=0.27",
          "Return: 27.59%<br>Volatility: 0.08<br>NEE_adj_close: Weight=0.29<br>ABBV_adj_close: Weight=0.18<br>BSX_adj_close: Weight=0.06<br>JPM_adj_close: Weight=0.30<br>META_adj_close: Weight=0.17",
          "Return: 53.17%<br>Volatility: 0.16<br>VRTX_adj_close: Weight=0.07<br>NVDA_adj_close: Weight=0.30<br>PYPL_adj_close: Weight=0.25<br>MO_adj_close: Weight=0.11<br>HD_adj_close: Weight=0.27",
          "Return: 37.58%<br>Volatility: 0.10<br>HD_adj_close: Weight=0.48<br>ACN_adj_close: Weight=0.13<br>CAT_adj_close: Weight=0.23<br>GOOGL_adj_close: Weight=0.09<br>JPM_adj_close: Weight=0.07",
          "Return: 19.61%<br>Volatility: 0.07<br>BMY_adj_close: Weight=0.11<br>XOM_adj_close: Weight=0.11<br>V_adj_close: Weight=0.14<br>ACN_adj_close: Weight=0.33<br>AEP_adj_close: Weight=0.31",
          "Return: 28.67%<br>Volatility: 0.08<br>VRTX_adj_close: Weight=0.06<br>V_adj_close: Weight=0.10<br>KO_adj_close: Weight=0.38<br>DE_adj_close: Weight=0.07<br>UNH_adj_close: Weight=0.38",
          "Return: 34.90%<br>Volatility: 0.10<br>CAT_adj_close: Weight=0.16<br>MA_adj_close: Weight=0.29<br>SO_adj_close: Weight=0.16<br>HD_adj_close: Weight=0.16<br>TXN_adj_close: Weight=0.23",
          "Return: 39.54%<br>Volatility: 0.10<br>NVDA_adj_close: Weight=0.13<br>AEP_adj_close: Weight=0.22<br>CAT_adj_close: Weight=0.26<br>ABT_adj_close: Weight=0.27<br>VZ_adj_close: Weight=0.13",
          "Return: 41.19%<br>Volatility: 0.11<br>ADBE_adj_close: Weight=0.25<br>PFE_adj_close: Weight=0.08<br>BA_adj_close: Weight=0.21<br>WMT_adj_close: Weight=0.20<br>META_adj_close: Weight=0.26",
          "Return: 10.86%<br>Volatility: 0.06<br>SO_adj_close: Weight=0.27<br>LMT_adj_close: Weight=0.25<br>JPM_adj_close: Weight=0.19<br>NEE_adj_close: Weight=0.01<br>PG_adj_close: Weight=0.29",
          "Return: 37.81%<br>Volatility: 0.10<br>DIS_adj_close: Weight=0.16<br>DUK_adj_close: Weight=0.07<br>ISRG_adj_close: Weight=0.29<br>JPM_adj_close: Weight=0.15<br>CAT_adj_close: Weight=0.33",
          "Return: 34.94%<br>Volatility: 0.09<br>NEE_adj_close: Weight=0.22<br>HD_adj_close: Weight=0.44<br>NFLX_adj_close: Weight=0.07<br>BAC_adj_close: Weight=0.09<br>BABA_adj_close: Weight=0.18",
          "Return: 46.84%<br>Volatility: 0.13<br>PYPL_adj_close: Weight=0.06<br>NKE_adj_close: Weight=0.00<br>BA_adj_close: Weight=0.62<br>CMCSA_adj_close: Weight=0.01<br>JPM_adj_close: Weight=0.31",
          "Return: 21.80%<br>Volatility: 0.07<br>ISRG_adj_close: Weight=0.17<br>HD_adj_close: Weight=0.36<br>K_adj_close: Weight=0.04<br>DUK_adj_close: Weight=0.39<br>PG_adj_close: Weight=0.05",
          "Return: 47.91%<br>Volatility: 0.15<br>VRTX_adj_close: Weight=0.27<br>CAT_adj_close: Weight=0.22<br>BAC_adj_close: Weight=0.17<br>PYPL_adj_close: Weight=0.22<br>AMGN_adj_close: Weight=0.12",
          "Return: 32.05%<br>Volatility: 0.09<br>AMGN_adj_close: Weight=0.25<br>KO_adj_close: Weight=0.14<br>BA_adj_close: Weight=0.28<br>ADBE_adj_close: Weight=0.17<br>MCD_adj_close: Weight=0.15",
          "Return: 37.85%<br>Volatility: 0.10<br>BA_adj_close: Weight=0.34<br>JPM_adj_close: Weight=0.20<br>HON_adj_close: Weight=0.15<br>V_adj_close: Weight=0.30<br>ABBV_adj_close: Weight=0.01",
          "Return: 35.03%<br>Volatility: 0.09<br>COST_adj_close: Weight=0.22<br>ABT_adj_close: Weight=0.04<br>NEE_adj_close: Weight=0.37<br>MMM_adj_close: Weight=0.03<br>CAT_adj_close: Weight=0.34",
          "Return: 29.32%<br>Volatility: 0.08<br>MRK_adj_close: Weight=0.15<br>BA_adj_close: Weight=0.17<br>CAT_adj_close: Weight=0.18<br>MSFT_adj_close: Weight=0.09<br>JNJ_adj_close: Weight=0.41",
          "Return: 47.76%<br>Volatility: 0.15<br>ABBV_adj_close: Weight=0.24<br>VRTX_adj_close: Weight=0.24<br>PM_adj_close: Weight=0.19<br>NFLX_adj_close: Weight=0.06<br>PYPL_adj_close: Weight=0.27",
          "Return: 46.91%<br>Volatility: 0.14<br>LMT_adj_close: Weight=0.05<br>GM_adj_close: Weight=0.02<br>CAT_adj_close: Weight=0.25<br>ISRG_adj_close: Weight=0.61<br>BMY_adj_close: Weight=0.07",
          "Return: 37.28%<br>Volatility: 0.09<br>KO_adj_close: Weight=0.12<br>SAP_adj_close: Weight=0.27<br>ABBV_adj_close: Weight=0.07<br>CAT_adj_close: Weight=0.30<br>ABT_adj_close: Weight=0.25",
          "Return: 20.16%<br>Volatility: 0.06<br>NEE_adj_close: Weight=0.40<br>HD_adj_close: Weight=0.21<br>ISRG_adj_close: Weight=0.08<br>RDY_adj_close: Weight=0.07<br>XOM_adj_close: Weight=0.24",
          "Return: 46.89%<br>Volatility: 0.12<br>MMM_adj_close: Weight=0.02<br>TXN_adj_close: Weight=0.22<br>CAT_adj_close: Weight=0.38<br>MCD_adj_close: Weight=0.36<br>BMY_adj_close: Weight=0.02",
          "Return: 42.76%<br>Volatility: 0.10<br>MRK_adj_close: Weight=0.00<br>BA_adj_close: Weight=0.33<br>HD_adj_close: Weight=0.20<br>INTC_adj_close: Weight=0.20<br>MA_adj_close: Weight=0.26",
          "Return: 52.09%<br>Volatility: 0.13<br>UA_adj_close: Weight=0.05<br>CSCO_adj_close: Weight=0.02<br>K_adj_close: Weight=0.00<br>CAT_adj_close: Weight=0.40<br>ABBV_adj_close: Weight=0.53",
          "Return: 30.94%<br>Volatility: 0.08<br>PFE_adj_close: Weight=0.19<br>HD_adj_close: Weight=0.19<br>CAT_adj_close: Weight=0.28<br>VZ_adj_close: Weight=0.01<br>AEP_adj_close: Weight=0.33",
          "Return: 54.26%<br>Volatility: 0.11<br>ABBV_adj_close: Weight=0.33<br>ETN_adj_close: Weight=0.11<br>BABA_adj_close: Weight=0.04<br>CAT_adj_close: Weight=0.29<br>BA_adj_close: Weight=0.23",
          "Return: 27.36%<br>Volatility: 0.08<br>CPB_adj_close: Weight=0.11<br>PG_adj_close: Weight=0.23<br>NEE_adj_close: Weight=0.25<br>BA_adj_close: Weight=0.20<br>ABBV_adj_close: Weight=0.21",
          "Return: 35.41%<br>Volatility: 0.09<br>V_adj_close: Weight=0.13<br>JNJ_adj_close: Weight=0.31<br>CAT_adj_close: Weight=0.32<br>WFC_adj_close: Weight=0.04<br>GOOGL_adj_close: Weight=0.21",
          "Return: 20.68%<br>Volatility: 0.07<br>XOM_adj_close: Weight=0.23<br>CRM_adj_close: Weight=0.22<br>HON_adj_close: Weight=0.22<br>KO_adj_close: Weight=0.13<br>UNH_adj_close: Weight=0.20",
          "Return: 47.49%<br>Volatility: 0.10<br>ABBV_adj_close: Weight=0.36<br>AMGN_adj_close: Weight=0.05<br>DE_adj_close: Weight=0.20<br>CRM_adj_close: Weight=0.13<br>BA_adj_close: Weight=0.27",
          "Return: 34.95%<br>Volatility: 0.09<br>IBM_adj_close: Weight=0.12<br>MSFT_adj_close: Weight=0.21<br>BA_adj_close: Weight=0.30<br>HD_adj_close: Weight=0.31<br>JPM_adj_close: Weight=0.06",
          "Return: 32.22%<br>Volatility: 0.08<br>ABT_adj_close: Weight=0.21<br>CAT_adj_close: Weight=0.19<br>KO_adj_close: Weight=0.28<br>MA_adj_close: Weight=0.26<br>COST_adj_close: Weight=0.06",
          "Return: 24.82%<br>Volatility: 0.08<br>RTX_adj_close: Weight=0.27<br>META_adj_close: Weight=0.23<br>HD_adj_close: Weight=0.21<br>ZBH_adj_close: Weight=0.02<br>NEE_adj_close: Weight=0.27",
          "Return: 22.06%<br>Volatility: 0.08<br>ABT_adj_close: Weight=0.14<br>SYY_adj_close: Weight=0.18<br>NEE_adj_close: Weight=0.29<br>CMCSA_adj_close: Weight=0.14<br>GOOGL_adj_close: Weight=0.24",
          "Return: 24.11%<br>Volatility: 0.07<br>PG_adj_close: Weight=0.16<br>MA_adj_close: Weight=0.22<br>MMM_adj_close: Weight=0.28<br>DIS_adj_close: Weight=0.14<br>MCD_adj_close: Weight=0.21",
          "Return: 56.66%<br>Volatility: 0.18<br>INTC_adj_close: Weight=0.15<br>BMY_adj_close: Weight=0.03<br>CAT_adj_close: Weight=0.26<br>NVDA_adj_close: Weight=0.31<br>AMZN_adj_close: Weight=0.25",
          "Return: 37.35%<br>Volatility: 0.10<br>CRM_adj_close: Weight=0.18<br>UNH_adj_close: Weight=0.30<br>WMT_adj_close: Weight=0.09<br>MO_adj_close: Weight=0.14<br>CAT_adj_close: Weight=0.29",
          "Return: 54.84%<br>Volatility: 0.17<br>TMO_adj_close: Weight=0.27<br>VRTX_adj_close: Weight=0.13<br>NVDA_adj_close: Weight=0.30<br>EXC_adj_close: Weight=0.05<br>CAT_adj_close: Weight=0.25",
          "Return: 59.93%<br>Volatility: 0.15<br>SYY_adj_close: Weight=0.00<br>MCD_adj_close: Weight=0.12<br>DUK_adj_close: Weight=0.02<br>PYPL_adj_close: Weight=0.48<br>CAT_adj_close: Weight=0.37",
          "Return: 34.46%<br>Volatility: 0.08<br>NEE_adj_close: Weight=0.28<br>BA_adj_close: Weight=0.25<br>ABBV_adj_close: Weight=0.23<br>MO_adj_close: Weight=0.17<br>ORCL_adj_close: Weight=0.07",
          "Return: 39.19%<br>Volatility: 0.10<br>BAC_adj_close: Weight=0.23<br>MCD_adj_close: Weight=0.24<br>BTI_adj_close: Weight=0.09<br>ISRG_adj_close: Weight=0.15<br>BA_adj_close: Weight=0.30",
          "Return: 35.27%<br>Volatility: 0.09<br>NEE_adj_close: Weight=0.24<br>LMT_adj_close: Weight=0.12<br>CAT_adj_close: Weight=0.31<br>CRM_adj_close: Weight=0.25<br>REGN_adj_close: Weight=0.07",
          "Return: 25.12%<br>Volatility: 0.07<br>SYY_adj_close: Weight=0.13<br>JNJ_adj_close: Weight=0.38<br>BSX_adj_close: Weight=0.15<br>HD_adj_close: Weight=0.15<br>BA_adj_close: Weight=0.19",
          "Return: 32.71%<br>Volatility: 0.08<br>PEP_adj_close: Weight=0.19<br>TXN_adj_close: Weight=0.26<br>MCD_adj_close: Weight=0.26<br>ABBV_adj_close: Weight=0.14<br>TMO_adj_close: Weight=0.15",
          "Return: 38.72%<br>Volatility: 0.09<br>AMZN_adj_close: Weight=0.11<br>LMT_adj_close: Weight=0.30<br>CMCSA_adj_close: Weight=0.05<br>UNH_adj_close: Weight=0.22<br>BA_adj_close: Weight=0.32",
          "Return: 39.91%<br>Volatility: 0.09<br>MCD_adj_close: Weight=0.23<br>HON_adj_close: Weight=0.27<br>BABA_adj_close: Weight=0.08<br>ABBV_adj_close: Weight=0.27<br>INTC_adj_close: Weight=0.14",
          "Return: 23.42%<br>Volatility: 0.07<br>AEP_adj_close: Weight=0.31<br>BA_adj_close: Weight=0.14<br>UNH_adj_close: Weight=0.25<br>CSCO_adj_close: Weight=0.03<br>XOM_adj_close: Weight=0.27",
          "Return: 32.66%<br>Volatility: 0.08<br>PM_adj_close: Weight=0.20<br>V_adj_close: Weight=0.19<br>UNH_adj_close: Weight=0.18<br>BA_adj_close: Weight=0.20<br>MCD_adj_close: Weight=0.22",
          "Return: 42.94%<br>Volatility: 0.10<br>ABBV_adj_close: Weight=0.08<br>ISRG_adj_close: Weight=0.12<br>ABT_adj_close: Weight=0.19<br>CAT_adj_close: Weight=0.26<br>V_adj_close: Weight=0.35",
          "Return: 29.08%<br>Volatility: 0.08<br>AEP_adj_close: Weight=0.28<br>NEE_adj_close: Weight=0.22<br>KO_adj_close: Weight=0.09<br>GOOG_adj_close: Weight=0.20<br>BA_adj_close: Weight=0.22",
          "Return: 13.99%<br>Volatility: 0.06<br>DIS_adj_close: Weight=0.11<br>XOM_adj_close: Weight=0.36<br>AEP_adj_close: Weight=0.21<br>JNJ_adj_close: Weight=0.11<br>MSFT_adj_close: Weight=0.21",
          "Return: 57.58%<br>Volatility: 0.15<br>CAT_adj_close: Weight=0.34<br>ISRG_adj_close: Weight=0.09<br>KR_adj_close: Weight=0.02<br>PYPL_adj_close: Weight=0.48<br>PFE_adj_close: Weight=0.07",
          "Return: 34.90%<br>Volatility: 0.08<br>BA_adj_close: Weight=0.23<br>NEE_adj_close: Weight=0.31<br>PYPL_adj_close: Weight=0.13<br>PEP_adj_close: Weight=0.16<br>SYK_adj_close: Weight=0.17",
          "Return: 42.24%<br>Volatility: 0.09<br>UNH_adj_close: Weight=0.28<br>CAT_adj_close: Weight=0.23<br>SYK_adj_close: Weight=0.02<br>BA_adj_close: Weight=0.27<br>DUK_adj_close: Weight=0.20",
          "Return: 21.57%<br>Volatility: 0.07<br>COST_adj_close: Weight=0.13<br>HON_adj_close: Weight=0.18<br>MCD_adj_close: Weight=0.30<br>JNJ_adj_close: Weight=0.21<br>XOM_adj_close: Weight=0.18"
         ],
         "type": "scatter",
         "x": [
          0.1258369154241999,
          0.08443618894582104,
          0.12438827973662313,
          0.11465079243804713,
          0.07898734138845503,
          0.14527748307005006,
          0.11539391547042713,
          0.08073969171638441,
          0.0965638356953125,
          0.08982655217451836,
          0.07931167729816233,
          0.08948356630541716,
          0.11643849662165848,
          0.15677429284637046,
          0.07182360385323308,
          0.10454330317105451,
          0.07838092803339586,
          0.10529938220596562,
          0.15199745623048463,
          0.09660287716555929,
          0.09897156169242875,
          0.10292373598663535,
          0.09585172493223494,
          0.10514963541115567,
          0.08145517718117817,
          0.07898641774190339,
          0.07587545148956139,
          0.06395541850226383,
          0.09822398091502509,
          0.07559149214065093,
          0.07361874790940974,
          0.12600683715441166,
          0.08839301776215518,
          0.0752119691998468,
          0.07879774555926157,
          0.16207883599798567,
          0.09979919707263858,
          0.07328383964921648,
          0.07963101933339668,
          0.09518942828810573,
          0.10209223217543954,
          0.11041027654011831,
          0.06248110226926644,
          0.09976630281037056,
          0.08770144572014475,
          0.13038198893098535,
          0.0696921971384392,
          0.15052738992749004,
          0.08722314331450623,
          0.09743084270716035,
          0.09493150221221353,
          0.08214857734652363,
          0.15022887115061498,
          0.1379677124424585,
          0.09481597860660959,
          0.06360631052587444,
          0.12253692696452684,
          0.09962702764936716,
          0.13027730455953684,
          0.08167672340395216,
          0.10951821371173555,
          0.07581494547099962,
          0.09366395116311478,
          0.0690079105866113,
          0.10163673365312548,
          0.08750495135165669,
          0.08315020821717983,
          0.07564956934738853,
          0.07564417125964745,
          0.07083052347256423,
          0.18116772168971973,
          0.09658240876898948,
          0.16621487421458245,
          0.15142192251301403,
          0.08497374913809096,
          0.0967152414627722,
          0.0912604786336962,
          0.07380134951803922,
          0.0847184288692692,
          0.09293975644766073,
          0.09389741687041255,
          0.07066886958594713,
          0.08205290836752556,
          0.09961418764682274,
          0.07828207391172823,
          0.06165076503727925,
          0.14935611703022975,
          0.08491373537554162,
          0.09149812619153515,
          0.06906611151948065
         ],
         "y": [
          0.20257245726416995,
          0.15361126229391484,
          0.39351172947103635,
          0.15916851345048388,
          0.08063321452009706,
          0.42298254752192355,
          0.16506059797457012,
          0.19862965970889296,
          0.20365716657949118,
          0.3049059175474493,
          0.15194555588189051,
          0.3110884967522381,
          0.337674193290288,
          0.4935440757566221,
          0.1683327405405526,
          0.315214934910481,
          0.17968887177887216,
          0.36712819116683615,
          0.42832361198571345,
          0.3435436747327739,
          0.3513584312324124,
          0.3546370061492689,
          0.34180900370964035,
          0.35799552989839156,
          0.20150726583662576,
          0.28630858416629357,
          0.23137249875968105,
          0.17016803561172392,
          0.3442518250166551,
          0.18186745531087875,
          0.17066190561002595,
          0.46218708666761615,
          0.33912170800091296,
          0.21104192753117249,
          0.27587519013172707,
          0.5317021018491487,
          0.37584569207331614,
          0.19612332721156905,
          0.28667658368150434,
          0.34903540206982414,
          0.39544001978424953,
          0.4119303648214647,
          0.10857498902800616,
          0.3780599117698307,
          0.3493729550844157,
          0.46843968644905676,
          0.21795680622332197,
          0.47910411973573513,
          0.320504150608654,
          0.37847369400731556,
          0.35030192815583483,
          0.29317598619858287,
          0.4776275885507184,
          0.46910041984707324,
          0.3728044902759283,
          0.20156035529811167,
          0.46886346362423736,
          0.427569514646847,
          0.5209227408691419,
          0.30938049987073435,
          0.5425584330679086,
          0.2735974587871866,
          0.3541118614507674,
          0.2068442368875801,
          0.47486113560765075,
          0.3495294022971056,
          0.3222431748879941,
          0.24817613585815537,
          0.22062475068486054,
          0.24113865889213248,
          0.5665550408752957,
          0.3735238947896331,
          0.548360501352498,
          0.5993220500217431,
          0.3446037552501992,
          0.3918766582257822,
          0.35270539075721125,
          0.2512266192300444,
          0.32709596700216437,
          0.3871795105548431,
          0.3991366852435796,
          0.23423906116655013,
          0.3266006821945884,
          0.42943653008336186,
          0.2908116155801508,
          0.13988981622550828,
          0.5758449096712055,
          0.34898289010805666,
          0.42242782353469377,
          0.21566686719870365
         ]
        }
       ],
       "layout": {
        "template": {
         "data": {
          "bar": [
           {
            "error_x": {
             "color": "#2a3f5f"
            },
            "error_y": {
             "color": "#2a3f5f"
            },
            "marker": {
             "line": {
              "color": "#E5ECF6",
              "width": 0.5
             },
             "pattern": {
              "fillmode": "overlay",
              "size": 10,
              "solidity": 0.2
             }
            },
            "type": "bar"
           }
          ],
          "barpolar": [
           {
            "marker": {
             "line": {
              "color": "#E5ECF6",
              "width": 0.5
             },
             "pattern": {
              "fillmode": "overlay",
              "size": 10,
              "solidity": 0.2
             }
            },
            "type": "barpolar"
           }
          ],
          "carpet": [
           {
            "aaxis": {
             "endlinecolor": "#2a3f5f",
             "gridcolor": "white",
             "linecolor": "white",
             "minorgridcolor": "white",
             "startlinecolor": "#2a3f5f"
            },
            "baxis": {
             "endlinecolor": "#2a3f5f",
             "gridcolor": "white",
             "linecolor": "white",
             "minorgridcolor": "white",
             "startlinecolor": "#2a3f5f"
            },
            "type": "carpet"
           }
          ],
          "choropleth": [
           {
            "colorbar": {
             "outlinewidth": 0,
             "ticks": ""
            },
            "type": "choropleth"
           }
          ],
          "contour": [
           {
            "colorbar": {
             "outlinewidth": 0,
             "ticks": ""
            },
            "colorscale": [
             [
              0,
              "#0d0887"
             ],
             [
              0.1111111111111111,
              "#46039f"
             ],
             [
              0.2222222222222222,
              "#7201a8"
             ],
             [
              0.3333333333333333,
              "#9c179e"
             ],
             [
              0.4444444444444444,
              "#bd3786"
             ],
             [
              0.5555555555555556,
              "#d8576b"
             ],
             [
              0.6666666666666666,
              "#ed7953"
             ],
             [
              0.7777777777777778,
              "#fb9f3a"
             ],
             [
              0.8888888888888888,
              "#fdca26"
             ],
             [
              1,
              "#f0f921"
             ]
            ],
            "type": "contour"
           }
          ],
          "contourcarpet": [
           {
            "colorbar": {
             "outlinewidth": 0,
             "ticks": ""
            },
            "type": "contourcarpet"
           }
          ],
          "heatmap": [
           {
            "colorbar": {
             "outlinewidth": 0,
             "ticks": ""
            },
            "colorscale": [
             [
              0,
              "#0d0887"
             ],
             [
              0.1111111111111111,
              "#46039f"
             ],
             [
              0.2222222222222222,
              "#7201a8"
             ],
             [
              0.3333333333333333,
              "#9c179e"
             ],
             [
              0.4444444444444444,
              "#bd3786"
             ],
             [
              0.5555555555555556,
              "#d8576b"
             ],
             [
              0.6666666666666666,
              "#ed7953"
             ],
             [
              0.7777777777777778,
              "#fb9f3a"
             ],
             [
              0.8888888888888888,
              "#fdca26"
             ],
             [
              1,
              "#f0f921"
             ]
            ],
            "type": "heatmap"
           }
          ],
          "heatmapgl": [
           {
            "colorbar": {
             "outlinewidth": 0,
             "ticks": ""
            },
            "colorscale": [
             [
              0,
              "#0d0887"
             ],
             [
              0.1111111111111111,
              "#46039f"
             ],
             [
              0.2222222222222222,
              "#7201a8"
             ],
             [
              0.3333333333333333,
              "#9c179e"
             ],
             [
              0.4444444444444444,
              "#bd3786"
             ],
             [
              0.5555555555555556,
              "#d8576b"
             ],
             [
              0.6666666666666666,
              "#ed7953"
             ],
             [
              0.7777777777777778,
              "#fb9f3a"
             ],
             [
              0.8888888888888888,
              "#fdca26"
             ],
             [
              1,
              "#f0f921"
             ]
            ],
            "type": "heatmapgl"
           }
          ],
          "histogram": [
           {
            "marker": {
             "pattern": {
              "fillmode": "overlay",
              "size": 10,
              "solidity": 0.2
             }
            },
            "type": "histogram"
           }
          ],
          "histogram2d": [
           {
            "colorbar": {
             "outlinewidth": 0,
             "ticks": ""
            },
            "colorscale": [
             [
              0,
              "#0d0887"
             ],
             [
              0.1111111111111111,
              "#46039f"
             ],
             [
              0.2222222222222222,
              "#7201a8"
             ],
             [
              0.3333333333333333,
              "#9c179e"
             ],
             [
              0.4444444444444444,
              "#bd3786"
             ],
             [
              0.5555555555555556,
              "#d8576b"
             ],
             [
              0.6666666666666666,
              "#ed7953"
             ],
             [
              0.7777777777777778,
              "#fb9f3a"
             ],
             [
              0.8888888888888888,
              "#fdca26"
             ],
             [
              1,
              "#f0f921"
             ]
            ],
            "type": "histogram2d"
           }
          ],
          "histogram2dcontour": [
           {
            "colorbar": {
             "outlinewidth": 0,
             "ticks": ""
            },
            "colorscale": [
             [
              0,
              "#0d0887"
             ],
             [
              0.1111111111111111,
              "#46039f"
             ],
             [
              0.2222222222222222,
              "#7201a8"
             ],
             [
              0.3333333333333333,
              "#9c179e"
             ],
             [
              0.4444444444444444,
              "#bd3786"
             ],
             [
              0.5555555555555556,
              "#d8576b"
             ],
             [
              0.6666666666666666,
              "#ed7953"
             ],
             [
              0.7777777777777778,
              "#fb9f3a"
             ],
             [
              0.8888888888888888,
              "#fdca26"
             ],
             [
              1,
              "#f0f921"
             ]
            ],
            "type": "histogram2dcontour"
           }
          ],
          "mesh3d": [
           {
            "colorbar": {
             "outlinewidth": 0,
             "ticks": ""
            },
            "type": "mesh3d"
           }
          ],
          "parcoords": [
           {
            "line": {
             "colorbar": {
              "outlinewidth": 0,
              "ticks": ""
             }
            },
            "type": "parcoords"
           }
          ],
          "pie": [
           {
            "automargin": true,
            "type": "pie"
           }
          ],
          "scatter": [
           {
            "fillpattern": {
             "fillmode": "overlay",
             "size": 10,
             "solidity": 0.2
            },
            "type": "scatter"
           }
          ],
          "scatter3d": [
           {
            "line": {
             "colorbar": {
              "outlinewidth": 0,
              "ticks": ""
             }
            },
            "marker": {
             "colorbar": {
              "outlinewidth": 0,
              "ticks": ""
             }
            },
            "type": "scatter3d"
           }
          ],
          "scattercarpet": [
           {
            "marker": {
             "colorbar": {
              "outlinewidth": 0,
              "ticks": ""
             }
            },
            "type": "scattercarpet"
           }
          ],
          "scattergeo": [
           {
            "marker": {
             "colorbar": {
              "outlinewidth": 0,
              "ticks": ""
             }
            },
            "type": "scattergeo"
           }
          ],
          "scattergl": [
           {
            "marker": {
             "colorbar": {
              "outlinewidth": 0,
              "ticks": ""
             }
            },
            "type": "scattergl"
           }
          ],
          "scattermapbox": [
           {
            "marker": {
             "colorbar": {
              "outlinewidth": 0,
              "ticks": ""
             }
            },
            "type": "scattermapbox"
           }
          ],
          "scatterpolar": [
           {
            "marker": {
             "colorbar": {
              "outlinewidth": 0,
              "ticks": ""
             }
            },
            "type": "scatterpolar"
           }
          ],
          "scatterpolargl": [
           {
            "marker": {
             "colorbar": {
              "outlinewidth": 0,
              "ticks": ""
             }
            },
            "type": "scatterpolargl"
           }
          ],
          "scatterternary": [
           {
            "marker": {
             "colorbar": {
              "outlinewidth": 0,
              "ticks": ""
             }
            },
            "type": "scatterternary"
           }
          ],
          "surface": [
           {
            "colorbar": {
             "outlinewidth": 0,
             "ticks": ""
            },
            "colorscale": [
             [
              0,
              "#0d0887"
             ],
             [
              0.1111111111111111,
              "#46039f"
             ],
             [
              0.2222222222222222,
              "#7201a8"
             ],
             [
              0.3333333333333333,
              "#9c179e"
             ],
             [
              0.4444444444444444,
              "#bd3786"
             ],
             [
              0.5555555555555556,
              "#d8576b"
             ],
             [
              0.6666666666666666,
              "#ed7953"
             ],
             [
              0.7777777777777778,
              "#fb9f3a"
             ],
             [
              0.8888888888888888,
              "#fdca26"
             ],
             [
              1,
              "#f0f921"
             ]
            ],
            "type": "surface"
           }
          ],
          "table": [
           {
            "cells": {
             "fill": {
              "color": "#EBF0F8"
             },
             "line": {
              "color": "white"
             }
            },
            "header": {
             "fill": {
              "color": "#C8D4E3"
             },
             "line": {
              "color": "white"
             }
            },
            "type": "table"
           }
          ]
         },
         "layout": {
          "annotationdefaults": {
           "arrowcolor": "#2a3f5f",
           "arrowhead": 0,
           "arrowwidth": 1
          },
          "autotypenumbers": "strict",
          "coloraxis": {
           "colorbar": {
            "outlinewidth": 0,
            "ticks": ""
           }
          },
          "colorscale": {
           "diverging": [
            [
             0,
             "#8e0152"
            ],
            [
             0.1,
             "#c51b7d"
            ],
            [
             0.2,
             "#de77ae"
            ],
            [
             0.3,
             "#f1b6da"
            ],
            [
             0.4,
             "#fde0ef"
            ],
            [
             0.5,
             "#f7f7f7"
            ],
            [
             0.6,
             "#e6f5d0"
            ],
            [
             0.7,
             "#b8e186"
            ],
            [
             0.8,
             "#7fbc41"
            ],
            [
             0.9,
             "#4d9221"
            ],
            [
             1,
             "#276419"
            ]
           ],
           "sequential": [
            [
             0,
             "#0d0887"
            ],
            [
             0.1111111111111111,
             "#46039f"
            ],
            [
             0.2222222222222222,
             "#7201a8"
            ],
            [
             0.3333333333333333,
             "#9c179e"
            ],
            [
             0.4444444444444444,
             "#bd3786"
            ],
            [
             0.5555555555555556,
             "#d8576b"
            ],
            [
             0.6666666666666666,
             "#ed7953"
            ],
            [
             0.7777777777777778,
             "#fb9f3a"
            ],
            [
             0.8888888888888888,
             "#fdca26"
            ],
            [
             1,
             "#f0f921"
            ]
           ],
           "sequentialminus": [
            [
             0,
             "#0d0887"
            ],
            [
             0.1111111111111111,
             "#46039f"
            ],
            [
             0.2222222222222222,
             "#7201a8"
            ],
            [
             0.3333333333333333,
             "#9c179e"
            ],
            [
             0.4444444444444444,
             "#bd3786"
            ],
            [
             0.5555555555555556,
             "#d8576b"
            ],
            [
             0.6666666666666666,
             "#ed7953"
            ],
            [
             0.7777777777777778,
             "#fb9f3a"
            ],
            [
             0.8888888888888888,
             "#fdca26"
            ],
            [
             1,
             "#f0f921"
            ]
           ]
          },
          "colorway": [
           "#636efa",
           "#EF553B",
           "#00cc96",
           "#ab63fa",
           "#FFA15A",
           "#19d3f3",
           "#FF6692",
           "#B6E880",
           "#FF97FF",
           "#FECB52"
          ],
          "font": {
           "color": "#2a3f5f"
          },
          "geo": {
           "bgcolor": "white",
           "lakecolor": "white",
           "landcolor": "#E5ECF6",
           "showlakes": true,
           "showland": true,
           "subunitcolor": "white"
          },
          "hoverlabel": {
           "align": "left"
          },
          "hovermode": "closest",
          "mapbox": {
           "style": "light"
          },
          "paper_bgcolor": "white",
          "plot_bgcolor": "#E5ECF6",
          "polar": {
           "angularaxis": {
            "gridcolor": "white",
            "linecolor": "white",
            "ticks": ""
           },
           "bgcolor": "#E5ECF6",
           "radialaxis": {
            "gridcolor": "white",
            "linecolor": "white",
            "ticks": ""
           }
          },
          "scene": {
           "xaxis": {
            "backgroundcolor": "#E5ECF6",
            "gridcolor": "white",
            "gridwidth": 2,
            "linecolor": "white",
            "showbackground": true,
            "ticks": "",
            "zerolinecolor": "white"
           },
           "yaxis": {
            "backgroundcolor": "#E5ECF6",
            "gridcolor": "white",
            "gridwidth": 2,
            "linecolor": "white",
            "showbackground": true,
            "ticks": "",
            "zerolinecolor": "white"
           },
           "zaxis": {
            "backgroundcolor": "#E5ECF6",
            "gridcolor": "white",
            "gridwidth": 2,
            "linecolor": "white",
            "showbackground": true,
            "ticks": "",
            "zerolinecolor": "white"
           }
          },
          "shapedefaults": {
           "line": {
            "color": "#2a3f5f"
           }
          },
          "ternary": {
           "aaxis": {
            "gridcolor": "white",
            "linecolor": "white",
            "ticks": ""
           },
           "baxis": {
            "gridcolor": "white",
            "linecolor": "white",
            "ticks": ""
           },
           "bgcolor": "#E5ECF6",
           "caxis": {
            "gridcolor": "white",
            "linecolor": "white",
            "ticks": ""
           }
          },
          "title": {
           "x": 0.05
          },
          "xaxis": {
           "automargin": true,
           "gridcolor": "white",
           "linecolor": "white",
           "ticks": "",
           "title": {
            "standoff": 15
           },
           "zerolinecolor": "white",
           "zerolinewidth": 2
          },
          "yaxis": {
           "automargin": true,
           "gridcolor": "white",
           "linecolor": "white",
           "ticks": "",
           "title": {
            "standoff": 15
           },
           "zerolinecolor": "white",
           "zerolinewidth": 2
          }
         }
        },
        "title": {
         "text": "Sample of Random Portfolios"
        },
        "xaxis": {
         "title": {
          "text": "Volatility (Standard Deviation)"
         }
        },
        "yaxis": {
         "title": {
          "text": "Annualized Return"
         }
        }
       }
      }
     },
     "metadata": {},
     "output_type": "display_data"
    }
   ],
   "source": [
    "fig = go.Figure()\n",
    "fig.add_trace(go.Scatter(\n",
    "    x=mean_variance_pairs[:, 1]**0.5,\n",
    "    y=mean_variance_pairs[:, 0],\n",
    "    mode='markers',\n",
    "    marker=dict(\n",
    "        color=(mean_variance_pairs[:, 0])/(mean_variance_pairs[:, 1]**0.5),\n",
    "        showscale=True, \n",
    "        size=7,\n",
    "        line=dict(width=1),\n",
    "        colorscale=\"RdBu\",\n",
    "        colorbar=dict(title=\"Sharpe<br>Ratio\")\n",
    "    ),\n",
    "    hoverinfo='text',\n",
    "    text=hover_texts\n",
    "))\n",
    "\n",
    "fig.update_layout(\n",
    "    title='Sample of Random Portfolios',\n",
    "    xaxis_title='Volatility (Standard Deviation)',\n",
    "    yaxis_title='Annualized Return',\n",
    ")\n",
    "\n",
    "fig.show()"
   ]
  }
 ],
 "metadata": {
  "kernelspec": {
   "display_name": "roboABasic",
   "language": "python",
   "name": "python3"
  },
  "language_info": {
   "codemirror_mode": {
    "name": "ipython",
    "version": 3
   },
   "file_extension": ".py",
   "mimetype": "text/x-python",
   "name": "python",
   "nbconvert_exporter": "python",
   "pygments_lexer": "ipython3",
   "version": "3.10.15"
  }
 },
 "nbformat": 4,
 "nbformat_minor": 2
}
