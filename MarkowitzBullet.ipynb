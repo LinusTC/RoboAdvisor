{
  "cells": [
    {
      "cell_type": "markdown",
      "metadata": {
        "colab_type": "text",
        "id": "view-in-github"
      },
      "source": [
        "<a href=\"https://colab.research.google.com/github/LinusTC/RoboAdvisor/blob/main/MarkowitzBullet.ipynb\" target=\"_parent\"><img src=\"https://colab.research.google.com/assets/colab-badge.svg\" alt=\"Open In Colab\"/></a>"
      ]
    },
    {
      "cell_type": "markdown",
      "metadata": {
        "id": "bj91ThpmabDR"
      },
      "source": [
        "# Markowitz Efficient Frontier"
      ]
    },
    {
      "cell_type": "markdown",
      "metadata": {
        "id": "w31yow0TabDS"
      },
      "source": [
        "## 1. Imports"
      ]
    },
    {
      "cell_type": "code",
      "execution_count": 1,
      "metadata": {
        "colab": {
          "base_uri": "https://localhost:8080/",
          "height": 383
        },
        "id": "EvpNgOhEabDS",
        "outputId": "1237e7b8-5891-491f-82f1-201f9f82154b"
      },
      "outputs": [],
      "source": [
        "import pandas as pd\n",
        "import numpy as np\n",
        "import plotly.graph_objects as go\n",
        "from tqdm import tqdm\n",
        "from collections import defaultdict\n",
        "\n",
        "from fetchData import fetch_raw_data_yf, get_matrices, getNasdaqStocks\n",
        "from MonteCarloRBA import MonteCarloRBA\n",
        "from portfolioFunction import maximize_sharpe, create_correlation_matrix, get_sharpe_ratio\n",
        "from LearningRBA import find_best_asset_to_remove, find_asset_to_add\n"
      ]
    },
    {
      "cell_type": "markdown",
      "metadata": {
        "id": "fnySmmT6abDT"
      },
      "source": [
        "## 2. Fetch Data"
      ]
    },
    {
      "cell_type": "markdown",
      "metadata": {
        "id": "8bz1yuGUabDT"
      },
      "source": [
        "### Get all Nasdaq Stocks"
      ]
    },
    {
      "cell_type": "code",
      "execution_count": 2,
      "metadata": {
        "id": "H4G7yoJuabDT",
        "outputId": "e001fe58-7383-4067-f734-0041fd0352c3"
      },
      "outputs": [
        {
          "data": {
            "text/plain": [
              "100"
            ]
          },
          "execution_count": 2,
          "metadata": {},
          "output_type": "execute_result"
        }
      ],
      "source": [
        "assets= [\n",
        "    \"AAPL\",  # Apple Inc.\n",
        "    \"MSFT\",  # Microsoft Corporation\n",
        "    \"AMZN\",  # Amazon.com Inc.\n",
        "    \"GOOGL\", # Alphabet Inc. (Google) Class A\n",
        "    \"GOOG\",  # Alphabet Inc. (Google) Class C\n",
        "    \"META\",    # Meta Platforms Inc (formerly Facebook)\n",
        "    \"TSLA\",  # Tesla Inc\n",
        "    \"UA\", # Berkshire Hathaway Inc. Class B\n",
        "    \"JPM\",   # JPMorgan Chase & Co.\n",
        "    \"V\",     # Visa Inc.\n",
        "    \"JNJ\",   # Johnson & Johnson\n",
        "    \"WMT\",   # Walmart Inc.\n",
        "    \"PG\",    # Procter & Gamble Co.\n",
        "    \"UNH\",   # UnitedHealth Group Inc.\n",
        "    \"MA\",    # Mastercard Inc.\n",
        "    \"NVDA\",  # NVIDIA Corporation\n",
        "    \"HD\",    # Home Depot Inc.\n",
        "    \"BAC\",   # Bank of America Corp\n",
        "    \"DIS\",   # Walt Disney Co\n",
        "    \"PYPL\",  # PayPal Holdings\n",
        "    \"VZ\",    # Verizon Communications Inc.\n",
        "    \"ADBE\",  # Adobe Inc.\n",
        "    \"CMCSA\", # Comcast Corporation\n",
        "    \"NFLX\",  # Netflix Inc.\n",
        "    \"KO\",    # Coca-Cola Co\n",
        "    \"NKE\",   # NIKE Inc.\n",
        "    \"PFE\",   # Pfizer Inc.\n",
        "    \"MRK\",   # Merck & Co., Inc.\n",
        "    \"PEP\",   # PepsiCo, Inc.\n",
        "    \"T\",     # AT&T Inc.\n",
        "    \"ABT\",   # Abbott Laboratories\n",
        "    \"CRM\",   # Salesforce.com Inc.\n",
        "    \"ORCL\",  # Oracle Corporation\n",
        "    \"ABBV\",  # AbbVie Inc.\n",
        "    \"CSCO\",  # Cisco Systems, Inc.\n",
        "    \"INTC\",  # Intel Corporation\n",
        "    \"TMO\",   # Thermo Fisher Scientific Inc.\n",
        "    \"XOM\",   # Exxon Mobil Corporation\n",
        "    \"ACN\",   # Accenture plc\n",
        "    \"LLY\",   # Eli Lilly and Company\n",
        "    \"COST\",  # Costco Wholesale Corporation\n",
        "    \"MCD\",   # McDonald's Corp\n",
        "    \"DHR\",   # Danaher Corporation\n",
        "    \"MDT\",   # Medtronic plc\n",
        "    \"NEE\",   # NextEra Energy, Inc.\n",
        "    \"BMY\",   # Bristol-Myers Squibb Company\n",
        "    \"QCOM\",  # Qualcomm Inc\n",
        "    \"CVX\",   # Chevron Corporation\n",
        "    \"WFC\",   # Wells Fargo & Co\n",
        "    \"LMT\",    # Lockheed Martin Corporation\n",
        "    \"GS\",   # Goldman Sachs Group, Inc.\n",
        "    \"MS\",   # Morgan Stanley\n",
        "    \"IBM\",  # International Business Machines Corporation\n",
        "    \"GE\",   # General Electric Company\n",
        "    \"F\",    # Ford Motor Company\n",
        "    \"GM\",   # General Motors Company\n",
        "    \"UBER\", # Uber Technologies, Inc.\n",
        "    \"LYFT\", # Lyft, Inc.\n",
        "    \"SNAP\", # Snap Inc.\n",
        "    \"TWTR\", # Twitter, Inc.\n",
        "    \"SPOT\", # Spotify Technology S.A.\n",
        "    \"AMD\",  # Advanced Micro Devices, Inc.\n",
        "    \"TXN\",  # Texas Instruments Incorporated\n",
        "    \"BABA\", # Alibaba Group Holding Limited\n",
        "    \"SAP\",  # SAP SE\n",
        "    \"HON\",  # Honeywell International Inc.\n",
        "    \"BA\",   # Boeing Company\n",
        "    \"RTX\",  # Raytheon Technologies Corporation\n",
        "    \"CAT\",  # Caterpillar Inc.\n",
        "    \"DE\",   # Deere & Company\n",
        "    \"MMM\",  # 3M Company\n",
        "    \"DUK\",  # Duke Energy Corporation\n",
        "    \"SO\",   # Southern Company\n",
        "    \"EXC\",  # Exelon Corporation\n",
        "    \"NEE\",  # NextEra Energy, Inc.\n",
        "    \"AEP\",  # American Electric Power Company, Inc.\n",
        "    \"SRE\",  # Sempra Energy\n",
        "    \"ETN\",  # Eaton Corporation plc\n",
        "    \"EMR\",  # Emerson Electric Co.\n",
        "    \"SYY\",  # Sysco Corporation\n",
        "    \"KR\",   # Kroger Co.\n",
        "    \"GIS\",  # General Mills, Inc.\n",
        "    \"K\",    # Kellogg Company\n",
        "    \"CPB\",  # Campbell Soup Company\n",
        "    \"MO\",   # Altria Group, Inc.\n",
        "    \"PM\",   # Philip Morris International Inc.\n",
        "    \"BTI\",  # British American Tobacco plc\n",
        "    \"RDY\",  # Dr. Reddy's Laboratories Ltd.\n",
        "    \"GILD\", # Gilead Sciences, Inc.\n",
        "    \"BIIB\", # Biogen Inc.\n",
        "    \"CELG\", # Celgene Corporation\n",
        "    \"AMGN\", # Amgen Inc.\n",
        "    \"SYK\",  # Stryker Corporation\n",
        "    \"BSX\",  # Boston Scientific Corporation\n",
        "    \"ISRG\", # Intuitive Surgical, Inc.\n",
        "    \"ZBH\",  # Zimmer Biomet Holdings, Inc.\n",
        "    \"EW\",   # Edwards Lifesciences Corporation\n",
        "    \"RMD\",  # ResMed Inc.\n",
        "    \"VRTX\", # Vertex Pharmaceuticals Incorporated\n",
        "    \"REGN\",  # Regeneron Pharmaceuticals, Inc.\n",
        "]\n",
        "\n",
        "len(assets)"
      ]
    },
    {
      "cell_type": "code",
      "execution_count": 3,
      "metadata": {
        "id": "AvJfF_5YabDU",
        "outputId": "bc33cbb4-c69c-402c-ef5e-aa6a74be18bf"
      },
      "outputs": [
        {
          "name": "stdout",
          "output_type": "stream",
          "text": [
            "YF.download() has changed argument auto_adjust default to True\n"
          ]
        },
        {
          "name": "stderr",
          "output_type": "stream",
          "text": [
            "[*********************100%***********************]  99 of 99 completed\n",
            "\n",
            "5 Failed downloads:\n",
            "['LYFT', 'UBER', 'SPOT']: YFPricesMissingError('possibly delisted; no price data found  (1d 2015-01-01 -> 2018-01-01) (Yahoo error = \"Data doesn\\'t exist for startDate = 1420088400, endDate = 1514782800\")')\n",
            "['TWTR', 'CELG']: YFTzMissingError('possibly delisted; no timezone found')\n"
          ]
        },
        {
          "name": "stdout",
          "output_type": "stream",
          "text": [
            "Omitted assets ( 5 ):  ['LYFT', 'TWTR', 'UBER', 'CELG', 'SPOT']\n",
            "Time to fetch data: 3.81 seconds\n"
          ]
        }
      ],
      "source": [
        "raw_data, asset_errors, max_combination= fetch_raw_data_yf(assets)"
      ]
    },
    {
      "cell_type": "markdown",
      "metadata": {
        "id": "FyXEENSbabDU"
      },
      "source": [
        "## 3. Mean, Volatility and Covariance"
      ]
    },
    {
      "cell_type": "code",
      "execution_count": 4,
      "metadata": {
        "id": "V8UnmVllabDU",
        "outputId": "19b78ca1-1975-4b21-a0ec-9ac14f9e4aa7"
      },
      "outputs": [
        {
          "name": "stderr",
          "output_type": "stream",
          "text": [
            "1it [00:00, 285.35it/s]\n"
          ]
        }
      ],
      "source": [
        "names, cov, annualized_returns = get_matrices(raw_data, max_combination, None)[0]\n",
        "correlation_matrix = create_correlation_matrix(cov)\n",
        "volatility = np.sqrt(np.diag(cov))\n",
        "\n",
        "risk_free_rate=0\n",
        "sharpe_ratios = (annualized_returns - risk_free_rate) / volatility"
      ]
    },
    {
      "cell_type": "code",
      "execution_count": 5,
      "metadata": {
        "id": "70g4vm3qabDU",
        "outputId": "4a5fac4a-b6d5-4ef4-b1a6-95d9e1ba9882"
      },
      "outputs": [
        {
          "data": {
            "application/vnd.plotly.v1+json": {
              "config": {
                "plotlyServerURL": "https://plot.ly"
              },
              "data": [
                {
                  "hoverinfo": "text",
                  "hovertext": [
                    "CRM_Close <br>Volatility: 0.156 <br>Returns: 25.484% <br>Sharpe Ratio: 1.634",
                    "BIIB_Close <br>Volatility: 0.228 <br>Returns: 9.799% <br>Sharpe Ratio: 0.430",
                    "XOM_Close <br>Volatility: 0.104 <br>Returns: 3.880% <br>Sharpe Ratio: 0.374",
                    "KR_Close <br>Volatility: 0.363 <br>Returns: -11.512% <br>Sharpe Ratio: -0.317",
                    "MDT_Close <br>Volatility: 0.152 <br>Returns: 0.821% <br>Sharpe Ratio: 0.054",
                    "EXC_Close <br>Volatility: 0.131 <br>Returns: 12.626% <br>Sharpe Ratio: 0.960",
                    "DUK_Close <br>Volatility: 0.094 <br>Returns: 6.184% <br>Sharpe Ratio: 0.655",
                    "SAP_Close <br>Volatility: 0.137 <br>Returns: 22.379% <br>Sharpe Ratio: 1.628",
                    "T_Close <br>Volatility: 0.175 <br>Returns: -3.526% <br>Sharpe Ratio: -0.201",
                    "DE_Close <br>Volatility: 0.179 <br>Returns: 45.118% <br>Sharpe Ratio: 2.527",
                    "META_Close <br>Volatility: 0.173 <br>Returns: 30.584% <br>Sharpe Ratio: 1.771",
                    "NEE_Close <br>Volatility: 0.112 <br>Returns: 23.547% <br>Sharpe Ratio: 2.101",
                    "CMCSA_Close <br>Volatility: 0.206 <br>Returns: 9.549% <br>Sharpe Ratio: 0.465",
                    "MSFT_Close <br>Volatility: 0.152 <br>Returns: 36.718% <br>Sharpe Ratio: 2.419",
                    "RMD_Close <br>Volatility: 0.201 <br>Returns: 20.344% <br>Sharpe Ratio: 1.013",
                    "CPB_Close <br>Volatility: 0.240 <br>Returns: -23.666% <br>Sharpe Ratio: -0.984",
                    "AAPL_Close <br>Volatility: 0.176 <br>Returns: 25.044% <br>Sharpe Ratio: 1.423",
                    "V_Close <br>Volatility: 0.125 <br>Returns: 30.982% <br>Sharpe Ratio: 2.471",
                    "BTI_Close <br>Volatility: 0.191 <br>Returns: 11.154% <br>Sharpe Ratio: 0.584",
                    "GIS_Close <br>Volatility: 0.174 <br>Returns: -0.030% <br>Sharpe Ratio: -0.002",
                    "VRTX_Close <br>Volatility: 0.385 <br>Returns: 61.334% <br>Sharpe Ratio: 1.595",
                    "HD_Close <br>Volatility: 0.135 <br>Returns: 32.454% <br>Sharpe Ratio: 2.404",
                    "ADBE_Close <br>Volatility: 0.228 <br>Returns: 45.540% <br>Sharpe Ratio: 1.999",
                    "ORCL_Close <br>Volatility: 0.187 <br>Returns: 13.134% <br>Sharpe Ratio: 0.701",
                    "BA_Close <br>Volatility: 0.174 <br>Returns: 59.541% <br>Sharpe Ratio: 3.416",
                    "AMD_Close <br>Volatility: 0.583 <br>Returns: -36.203% <br>Sharpe Ratio: -0.621",
                    "RTX_Close <br>Volatility: 0.136 <br>Returns: 16.980% <br>Sharpe Ratio: 1.244",
                    "BMY_Close <br>Volatility: 0.180 <br>Returns: 11.411% <br>Sharpe Ratio: 0.633",
                    "DIS_Close <br>Volatility: 0.158 <br>Returns: -1.539% <br>Sharpe Ratio: -0.097",
                    "BSX_Close <br>Volatility: 0.170 <br>Returns: -1.012% <br>Sharpe Ratio: -0.059",
                    "F_Close <br>Volatility: 0.166 <br>Returns: 2.996% <br>Sharpe Ratio: 0.180",
                    "SYY_Close <br>Volatility: 0.161 <br>Returns: 19.125% <br>Sharpe Ratio: 1.185",
                    "SRE_Close <br>Volatility: 0.134 <br>Returns: 0.416% <br>Sharpe Ratio: 0.031",
                    "JNJ_Close <br>Volatility: 0.114 <br>Returns: 16.968% <br>Sharpe Ratio: 1.485",
                    "UA_Close <br>Volatility: 0.464 <br>Returns: -42.368% <br>Sharpe Ratio: -0.913",
                    "PM_Close <br>Volatility: 0.140 <br>Returns: -0.165% <br>Sharpe Ratio: -0.012",
                    "RDY_Close <br>Volatility: 0.304 <br>Returns: -11.923% <br>Sharpe Ratio: -0.392",
                    "AMZN_Close <br>Volatility: 0.212 <br>Returns: 38.442% <br>Sharpe Ratio: 1.813",
                    "SYK_Close <br>Volatility: 0.155 <br>Returns: 21.732% <br>Sharpe Ratio: 1.398",
                    "WFC_Close <br>Volatility: 0.171 <br>Returns: 6.484% <br>Sharpe Ratio: 0.380",
                    "BABA_Close <br>Volatility: 0.267 <br>Returns: 61.610% <br>Sharpe Ratio: 2.305",
                    "ABT_Close <br>Volatility: 0.140 <br>Returns: 28.667% <br>Sharpe Ratio: 2.053",
                    "EMR_Close <br>Volatility: 0.163 <br>Returns: 20.267% <br>Sharpe Ratio: 1.246",
                    "WMT_Close <br>Volatility: 0.182 <br>Returns: 43.058% <br>Sharpe Ratio: 2.372",
                    "ABBV_Close <br>Volatility: 0.179 <br>Returns: 54.051% <br>Sharpe Ratio: 3.026",
                    "JPM_Close <br>Volatility: 0.156 <br>Returns: 19.920% <br>Sharpe Ratio: 1.276",
                    "GILD_Close <br>Volatility: 0.189 <br>Returns: 5.321% <br>Sharpe Ratio: 0.281",
                    "HON_Close <br>Volatility: 0.102 <br>Returns: 25.067% <br>Sharpe Ratio: 2.467",
                    "ISRG_Close <br>Volatility: 0.191 <br>Returns: 46.587% <br>Sharpe Ratio: 2.436",
                    "SNAP_Close <br>Volatility: 0.633 <br>Returns: -61.938% <br>Sharpe Ratio: -0.978",
                    "INTC_Close <br>Volatility: 0.176 <br>Returns: 32.628% <br>Sharpe Ratio: 1.858",
                    "KO_Close <br>Volatility: 0.086 <br>Returns: 13.237% <br>Sharpe Ratio: 1.533",
                    "MCD_Close <br>Volatility: 0.136 <br>Returns: 37.497% <br>Sharpe Ratio: 2.748",
                    "MA_Close <br>Volatility: 0.144 <br>Returns: 37.500% <br>Sharpe Ratio: 2.602",
                    "MS_Close <br>Volatility: 0.196 <br>Returns: 16.831% <br>Sharpe Ratio: 0.858",
                    "PYPL_Close <br>Volatility: 0.231 <br>Returns: 65.170% <br>Sharpe Ratio: 2.817",
                    "GOOGL_Close <br>Volatility: 0.157 <br>Returns: 25.766% <br>Sharpe Ratio: 1.638",
                    "K_Close <br>Volatility: 0.182 <br>Returns: -9.007% <br>Sharpe Ratio: -0.496",
                    "PEP_Close <br>Volatility: 0.098 <br>Returns: 12.729% <br>Sharpe Ratio: 1.302",
                    "SO_Close <br>Volatility: 0.119 <br>Returns: -1.259% <br>Sharpe Ratio: -0.106",
                    "CSCO_Close <br>Volatility: 0.164 <br>Returns: 16.111% <br>Sharpe Ratio: 0.982",
                    "ETN_Close <br>Volatility: 0.155 <br>Returns: 13.763% <br>Sharpe Ratio: 0.886",
                    "LMT_Close <br>Volatility: 0.110 <br>Returns: 24.360% <br>Sharpe Ratio: 2.206",
                    "CVX_Close <br>Volatility: 0.141 <br>Returns: 15.444% <br>Sharpe Ratio: 1.093",
                    "AEP_Close <br>Volatility: 0.106 <br>Returns: 15.149% <br>Sharpe Ratio: 1.424",
                    "PFE_Close <br>Volatility: 0.108 <br>Returns: 9.217% <br>Sharpe Ratio: 0.854",
                    "TXN_Close <br>Volatility: 0.161 <br>Returns: 37.142% <br>Sharpe Ratio: 2.300",
                    "VZ_Close <br>Volatility: 0.169 <br>Returns: 11.300% <br>Sharpe Ratio: 0.668",
                    "QCOM_Close <br>Volatility: 0.239 <br>Returns: 18.777% <br>Sharpe Ratio: 0.786",
                    "MO_Close <br>Volatility: 0.178 <br>Returns: -2.746% <br>Sharpe Ratio: -0.154",
                    "ACN_Close <br>Volatility: 0.133 <br>Returns: 27.346% <br>Sharpe Ratio: 2.059",
                    "LLY_Close <br>Volatility: 0.147 <br>Returns: 4.513% <br>Sharpe Ratio: 0.308",
                    "GS_Close <br>Volatility: 0.196 <br>Returns: 2.945% <br>Sharpe Ratio: 0.150",
                    "GM_Close <br>Volatility: 0.189 <br>Returns: 14.706% <br>Sharpe Ratio: 0.777",
                    "UNH_Close <br>Volatility: 0.141 <br>Returns: 34.904% <br>Sharpe Ratio: 2.475",
                    "DHR_Close <br>Volatility: 0.128 <br>Returns: 9.067% <br>Sharpe Ratio: 0.706",
                    "NVDA_Close <br>Volatility: 0.394 <br>Returns: 80.734% <br>Sharpe Ratio: 2.051",
                    "BAC_Close <br>Volatility: 0.209 <br>Returns: 20.360% <br>Sharpe Ratio: 0.972",
                    "GE_Close <br>Volatility: 0.213 <br>Returns: -62.754% <br>Sharpe Ratio: -2.947",
                    "TSLA_Close <br>Volatility: 0.359 <br>Returns: 26.105% <br>Sharpe Ratio: 0.728",
                    "TMO_Close <br>Volatility: 0.163 <br>Returns: 21.553% <br>Sharpe Ratio: 1.323",
                    "IBM_Close <br>Volatility: 0.158 <br>Returns: -15.905% <br>Sharpe Ratio: -1.009",
                    "AMGN_Close <br>Volatility: 0.168 <br>Returns: -0.355% <br>Sharpe Ratio: -0.021",
                    "GOOG_Close <br>Volatility: 0.160 <br>Returns: 27.711% <br>Sharpe Ratio: 1.737",
                    "EW_Close <br>Volatility: 0.232 <br>Returns: 22.603% <br>Sharpe Ratio: 0.973",
                    "NKE_Close <br>Volatility: 0.226 <br>Returns: 10.695% <br>Sharpe Ratio: 0.474",
                    "MMM_Close <br>Volatility: 0.131 <br>Returns: 27.772% <br>Sharpe Ratio: 2.118",
                    "PG_Close <br>Volatility: 0.098 <br>Returns: 4.023% <br>Sharpe Ratio: 0.410",
                    "MRK_Close <br>Volatility: 0.151 <br>Returns: -15.661% <br>Sharpe Ratio: -1.038",
                    "ZBH_Close <br>Volatility: 0.194 <br>Returns: 3.617% <br>Sharpe Ratio: 0.186",
                    "REGN_Close <br>Volatility: 0.282 <br>Returns: 0.032% <br>Sharpe Ratio: 0.001",
                    "NFLX_Close <br>Volatility: 0.287 <br>Returns: 38.281% <br>Sharpe Ratio: 1.334",
                    "COST_Close <br>Volatility: 0.199 <br>Returns: 11.208% <br>Sharpe Ratio: 0.564",
                    "CAT_Close <br>Volatility: 0.197 <br>Returns: 64.107% <br>Sharpe Ratio: 3.250"
                  ],
                  "marker": {
                    "color": {
                      "bdata": "RjdzrKsl+j9o8ZFMSorbPy39lfbo59c/2rt9byBR1L+QrocVgbOrP9td4XpGvO4/0OflQ+P15D/319LmaQ36P0xgqDBaxMm/V8QkZ+Q2BEDvUOoaclb8P9JusXrlzQBAYRg+g3O63T+6UkS3GlsDQMk5O9tlNvA/us2ozhB/77+ftvgwNsP2P7AkSx3VwwNATCPeSf6z4j+bkfnVbGJcv5HzG1bhg/k/sJGN1JE6A0Cc63CZ8vv/P9B7v9qXcuY/LtYscdJTC0Dhc6Uog9/jvyVa6EjA6PM/dR2O5+s95D/yARere+m4v2EasDOJZq6//1KohGISxz/7AixJ7/byPx8hi54Z3p8/IFas3rXC9z/57GbWpzftv8r08yujJYi/g4YsiLgP2b9zvEGzDAT9P/ZCVlH6XPY/fU0wEn9T2D/pp1105m8CQKiAKz2IawBAxXRGhyvv8z93YIOHrfkCQAi76W0bNQhA/x+sqyFp9D9vIv2ISfnRP9Hg3SrquwNAEiMVS4l9A0DDoudtw03vv+/Jd7/Puv0/YK3vzReG+D+EQleabfsFQJtLdWlo0ARAqN1+Jplz6z8xcqbNiIgGQCtRg786N/o/qzRGF0K+378HW/I8P9T0P12VPCBvHru/17m7ZLtv7z9PfjCDRlnsPwH0rfMGpQFArwmAMk588T8iuXfR+Mf2P2MuexOhVes/JF7Q89tmAkC0bkiTslzlPxWV7vImKek/rSeHIvrBw78H9MGa33cAQEfujldertM/9EFz0UI0wz91Aj+qXNvoPwg1KGJszQNA36fZ9xCZ5j8gRgbSnmcAQMbG135rHu8/TILZxfuSB8BlWuLftUrnPz+CPvuGKfU/mLw5Ekgm8L/XlVAU9a6VvwS6W/UHzPs/GVMkpEoh7z+zOaRVKlXeP8h3UFXn8QBAvndbPTZD2j/PQXEsuJnwv80DR9mb1cc/nzk9AimGUj8z0nbqCVr1P8JgxrnICuI/BaYweoQACkA=",
                      "dtype": "f8"
                    },
                    "colorbar": {
                      "title": {
                        "text": "Sharpe<br>Ratio"
                      }
                    },
                    "colorscale": [
                      [
                        0,
                        "rgb(103,0,31)"
                      ],
                      [
                        0.1,
                        "rgb(178,24,43)"
                      ],
                      [
                        0.2,
                        "rgb(214,96,77)"
                      ],
                      [
                        0.3,
                        "rgb(244,165,130)"
                      ],
                      [
                        0.4,
                        "rgb(253,219,199)"
                      ],
                      [
                        0.5,
                        "rgb(247,247,247)"
                      ],
                      [
                        0.6,
                        "rgb(209,229,240)"
                      ],
                      [
                        0.7,
                        "rgb(146,197,222)"
                      ],
                      [
                        0.8,
                        "rgb(67,147,195)"
                      ],
                      [
                        0.9,
                        "rgb(33,102,172)"
                      ],
                      [
                        1,
                        "rgb(5,48,97)"
                      ]
                    ],
                    "line": {
                      "width": 1
                    },
                    "size": 6
                  },
                  "mode": "markers",
                  "type": "scatter",
                  "x": {
                    "bdata": "1oGiu/P1wz+dqmdAyiXNP0jiqQfdlro/O9nQ36k11z8Jcl/7eWnDP8fC/D2G08A//f6B72kruD/9DXrOkJfBP7IsUNMDa8Y/ZDhBZPbaxj/FTCS3exrGPwnvXpiHsrw/sBhu1WFQyj80NqrE3GzDP5VbHZLRssk/Yp7S7wbHzj+XStUtWIjGP4RLZPstDcA/WtTzdz5tyD96aiu+0DvGPw5EhZd2ndg/YMp8onNIwT/S+j5q7yjNP1dTbmUh98c/vCJqV5FPxj99ZuvUc6fiPy87rG6Yd8E/rU2YVvQWxz/FdmcO8zzEP9pf1IFY0sU/XhWYjR5HxT8HKvzdLqfEP7RwkWcNH8E/w8y3tUdAvT+pl1q7obLdP2gqGQfj4cE/fmkTvLh80z+YOtANKSLLP2KJg/Lr5sM/huEZ2pnVxT+/whzM9hvRPzNILgS64ME/KT3SooTSxD9Ys8kTiDzHPwAiI90s3cY/BrfU6ef8wz8Mbh8mY0DIPxQs/L/OA7o/XnJoD/d5yD9KaSCc0ELkP08ifFDvecY/2ku30qkbtj8rzeYZonfBP5AK6i/zcsI/169fSPccyT/Mi/6xkp3NP5jaDDn6IMQ/Gyw607I+xz9ILgTIIQi5P4GBiFbfa74/xYCsMPz9xD+oq8jo1uLDPyb6MAtQRrw/R5Phb78Wwj8ygz6atzy7P6rLOXPEn7s/mZIW3R2rxD9v5rzih6rFP83npY9Jkc4/ZoEy/crFxj9MZIj4BgHBP8mG/OJWycI/hrP5QxMfyT8CpRxGszvIP5UE/TKbDMI/jiomqAtvwD/X0v11jjLZP2Y74LyEzMo/RHAEfTNCyz8hLBVFBvTWP+4qcgyh28Q/yS2SkXMrxD/mkIMN6HXFPwKX7rmxasQ/fqECT2e9zT+k3AkDdOLMPxK9EgN2yMA/yhcqzmgYuT9s96jhRlLDP6Rwoitc3cg/CXDYJIYS0j8F2lAV6FvSP0q/SqWZcck/sHJmdRY/yT8=",
                    "dtype": "f8"
                  },
                  "y": {
                    "bdata": "f0wlgFVP0D9tm69L2RW5P4tIuHsh3aM/to7QEMN4vb9j6rE8482AP5q7G55NKcA/dQIGgLSprz9A+Z7lCqXMP1YrlqMpDaK/gw5xQB3g3D9BD6w94pLTP9hr85jSI84/ng3g3ipyuD8qeI/A4X/XP7gdVK4wCso/p+QixgRLzr/mYWqhMQfQP5pYxgcd1NM/pIXVqLCNvD8AcDh0ubgzvwnvQpl2oOM/PQ1Sek3F1D8kkzsWPiXdP0HErRa5z8A/OlLOu5MN4z9pAadVcCvXvzJObhAdvMU/ersVXw02vT9S8xGWwIKPv5YunwMfu4S/Q6Lv8a6unj+jXRAK1HrIP+ChaR7qDHE/Bdt6fC+4xT/MRfpaiR3bv4C8/kXl/Fq/9nY1UwaGvr8ip3Q+ZJrYP35Vepcr0cs/rdHEHiyZsD8b/DIUHrfjPyXCsBrhWNI/wDJqxD7xyT+IukMfs47bPyjXTpHTS+E/SLBMpnd/yT8RBerUQj6rPx7g4GAHC9A/juejQ+DQ3T9Wi/SZ9tHjv/JQNIu34dQ/N7ZUp2PxwD/ITXQogf/XP9nCGbr+/9c/7htx7iiLxT9EbdYlsdrkP652qfCIfdA/uWefhPEOt79zDn90HEvAPwB5ODfzx4m/yYk+QFifxD8R5CPD9p3BPyu+VG5WLs8/SNl/GrTEwz/dkKuY82PDP+JrsC+5mLc/pZY3mGDF1z/TPIi3WO28P4inD9PQCMg/yovi8PYenL92BSo/bIDRP/BqHYTTG6c/rMtfyPQmnj8nmQ005dLCP1fp2xS0VtY/DuJJVOc1tz8xoRUJvtXpP4sigFmaD8o/cEaShMkU5L9iVwFF+7TQP3Fw8SNmlss/laKNnrVbxL94bACGaxVtv+jnxDUzvNE/omGfxWzuzD/YVYd9LGG7P5MuRhw0xtE/ePpAzIqYpD+7AVEP6AvEv6/s6cUUhaI/mUnnXmDsND8nCi328H/YP0TwaA3zsLw/ssgGxKqD5D8=",
                    "dtype": "f8"
                  }
                }
              ],
              "layout": {
                "template": {
                  "data": {
                    "bar": [
                      {
                        "error_x": {
                          "color": "#2a3f5f"
                        },
                        "error_y": {
                          "color": "#2a3f5f"
                        },
                        "marker": {
                          "line": {
                            "color": "#E5ECF6",
                            "width": 0.5
                          },
                          "pattern": {
                            "fillmode": "overlay",
                            "size": 10,
                            "solidity": 0.2
                          }
                        },
                        "type": "bar"
                      }
                    ],
                    "barpolar": [
                      {
                        "marker": {
                          "line": {
                            "color": "#E5ECF6",
                            "width": 0.5
                          },
                          "pattern": {
                            "fillmode": "overlay",
                            "size": 10,
                            "solidity": 0.2
                          }
                        },
                        "type": "barpolar"
                      }
                    ],
                    "carpet": [
                      {
                        "aaxis": {
                          "endlinecolor": "#2a3f5f",
                          "gridcolor": "white",
                          "linecolor": "white",
                          "minorgridcolor": "white",
                          "startlinecolor": "#2a3f5f"
                        },
                        "baxis": {
                          "endlinecolor": "#2a3f5f",
                          "gridcolor": "white",
                          "linecolor": "white",
                          "minorgridcolor": "white",
                          "startlinecolor": "#2a3f5f"
                        },
                        "type": "carpet"
                      }
                    ],
                    "choropleth": [
                      {
                        "colorbar": {
                          "outlinewidth": 0,
                          "ticks": ""
                        },
                        "type": "choropleth"
                      }
                    ],
                    "contour": [
                      {
                        "colorbar": {
                          "outlinewidth": 0,
                          "ticks": ""
                        },
                        "colorscale": [
                          [
                            0,
                            "#0d0887"
                          ],
                          [
                            0.1111111111111111,
                            "#46039f"
                          ],
                          [
                            0.2222222222222222,
                            "#7201a8"
                          ],
                          [
                            0.3333333333333333,
                            "#9c179e"
                          ],
                          [
                            0.4444444444444444,
                            "#bd3786"
                          ],
                          [
                            0.5555555555555556,
                            "#d8576b"
                          ],
                          [
                            0.6666666666666666,
                            "#ed7953"
                          ],
                          [
                            0.7777777777777778,
                            "#fb9f3a"
                          ],
                          [
                            0.8888888888888888,
                            "#fdca26"
                          ],
                          [
                            1,
                            "#f0f921"
                          ]
                        ],
                        "type": "contour"
                      }
                    ],
                    "contourcarpet": [
                      {
                        "colorbar": {
                          "outlinewidth": 0,
                          "ticks": ""
                        },
                        "type": "contourcarpet"
                      }
                    ],
                    "heatmap": [
                      {
                        "colorbar": {
                          "outlinewidth": 0,
                          "ticks": ""
                        },
                        "colorscale": [
                          [
                            0,
                            "#0d0887"
                          ],
                          [
                            0.1111111111111111,
                            "#46039f"
                          ],
                          [
                            0.2222222222222222,
                            "#7201a8"
                          ],
                          [
                            0.3333333333333333,
                            "#9c179e"
                          ],
                          [
                            0.4444444444444444,
                            "#bd3786"
                          ],
                          [
                            0.5555555555555556,
                            "#d8576b"
                          ],
                          [
                            0.6666666666666666,
                            "#ed7953"
                          ],
                          [
                            0.7777777777777778,
                            "#fb9f3a"
                          ],
                          [
                            0.8888888888888888,
                            "#fdca26"
                          ],
                          [
                            1,
                            "#f0f921"
                          ]
                        ],
                        "type": "heatmap"
                      }
                    ],
                    "histogram": [
                      {
                        "marker": {
                          "pattern": {
                            "fillmode": "overlay",
                            "size": 10,
                            "solidity": 0.2
                          }
                        },
                        "type": "histogram"
                      }
                    ],
                    "histogram2d": [
                      {
                        "colorbar": {
                          "outlinewidth": 0,
                          "ticks": ""
                        },
                        "colorscale": [
                          [
                            0,
                            "#0d0887"
                          ],
                          [
                            0.1111111111111111,
                            "#46039f"
                          ],
                          [
                            0.2222222222222222,
                            "#7201a8"
                          ],
                          [
                            0.3333333333333333,
                            "#9c179e"
                          ],
                          [
                            0.4444444444444444,
                            "#bd3786"
                          ],
                          [
                            0.5555555555555556,
                            "#d8576b"
                          ],
                          [
                            0.6666666666666666,
                            "#ed7953"
                          ],
                          [
                            0.7777777777777778,
                            "#fb9f3a"
                          ],
                          [
                            0.8888888888888888,
                            "#fdca26"
                          ],
                          [
                            1,
                            "#f0f921"
                          ]
                        ],
                        "type": "histogram2d"
                      }
                    ],
                    "histogram2dcontour": [
                      {
                        "colorbar": {
                          "outlinewidth": 0,
                          "ticks": ""
                        },
                        "colorscale": [
                          [
                            0,
                            "#0d0887"
                          ],
                          [
                            0.1111111111111111,
                            "#46039f"
                          ],
                          [
                            0.2222222222222222,
                            "#7201a8"
                          ],
                          [
                            0.3333333333333333,
                            "#9c179e"
                          ],
                          [
                            0.4444444444444444,
                            "#bd3786"
                          ],
                          [
                            0.5555555555555556,
                            "#d8576b"
                          ],
                          [
                            0.6666666666666666,
                            "#ed7953"
                          ],
                          [
                            0.7777777777777778,
                            "#fb9f3a"
                          ],
                          [
                            0.8888888888888888,
                            "#fdca26"
                          ],
                          [
                            1,
                            "#f0f921"
                          ]
                        ],
                        "type": "histogram2dcontour"
                      }
                    ],
                    "mesh3d": [
                      {
                        "colorbar": {
                          "outlinewidth": 0,
                          "ticks": ""
                        },
                        "type": "mesh3d"
                      }
                    ],
                    "parcoords": [
                      {
                        "line": {
                          "colorbar": {
                            "outlinewidth": 0,
                            "ticks": ""
                          }
                        },
                        "type": "parcoords"
                      }
                    ],
                    "pie": [
                      {
                        "automargin": true,
                        "type": "pie"
                      }
                    ],
                    "scatter": [
                      {
                        "fillpattern": {
                          "fillmode": "overlay",
                          "size": 10,
                          "solidity": 0.2
                        },
                        "type": "scatter"
                      }
                    ],
                    "scatter3d": [
                      {
                        "line": {
                          "colorbar": {
                            "outlinewidth": 0,
                            "ticks": ""
                          }
                        },
                        "marker": {
                          "colorbar": {
                            "outlinewidth": 0,
                            "ticks": ""
                          }
                        },
                        "type": "scatter3d"
                      }
                    ],
                    "scattercarpet": [
                      {
                        "marker": {
                          "colorbar": {
                            "outlinewidth": 0,
                            "ticks": ""
                          }
                        },
                        "type": "scattercarpet"
                      }
                    ],
                    "scattergeo": [
                      {
                        "marker": {
                          "colorbar": {
                            "outlinewidth": 0,
                            "ticks": ""
                          }
                        },
                        "type": "scattergeo"
                      }
                    ],
                    "scattergl": [
                      {
                        "marker": {
                          "colorbar": {
                            "outlinewidth": 0,
                            "ticks": ""
                          }
                        },
                        "type": "scattergl"
                      }
                    ],
                    "scattermap": [
                      {
                        "marker": {
                          "colorbar": {
                            "outlinewidth": 0,
                            "ticks": ""
                          }
                        },
                        "type": "scattermap"
                      }
                    ],
                    "scattermapbox": [
                      {
                        "marker": {
                          "colorbar": {
                            "outlinewidth": 0,
                            "ticks": ""
                          }
                        },
                        "type": "scattermapbox"
                      }
                    ],
                    "scatterpolar": [
                      {
                        "marker": {
                          "colorbar": {
                            "outlinewidth": 0,
                            "ticks": ""
                          }
                        },
                        "type": "scatterpolar"
                      }
                    ],
                    "scatterpolargl": [
                      {
                        "marker": {
                          "colorbar": {
                            "outlinewidth": 0,
                            "ticks": ""
                          }
                        },
                        "type": "scatterpolargl"
                      }
                    ],
                    "scatterternary": [
                      {
                        "marker": {
                          "colorbar": {
                            "outlinewidth": 0,
                            "ticks": ""
                          }
                        },
                        "type": "scatterternary"
                      }
                    ],
                    "surface": [
                      {
                        "colorbar": {
                          "outlinewidth": 0,
                          "ticks": ""
                        },
                        "colorscale": [
                          [
                            0,
                            "#0d0887"
                          ],
                          [
                            0.1111111111111111,
                            "#46039f"
                          ],
                          [
                            0.2222222222222222,
                            "#7201a8"
                          ],
                          [
                            0.3333333333333333,
                            "#9c179e"
                          ],
                          [
                            0.4444444444444444,
                            "#bd3786"
                          ],
                          [
                            0.5555555555555556,
                            "#d8576b"
                          ],
                          [
                            0.6666666666666666,
                            "#ed7953"
                          ],
                          [
                            0.7777777777777778,
                            "#fb9f3a"
                          ],
                          [
                            0.8888888888888888,
                            "#fdca26"
                          ],
                          [
                            1,
                            "#f0f921"
                          ]
                        ],
                        "type": "surface"
                      }
                    ],
                    "table": [
                      {
                        "cells": {
                          "fill": {
                            "color": "#EBF0F8"
                          },
                          "line": {
                            "color": "white"
                          }
                        },
                        "header": {
                          "fill": {
                            "color": "#C8D4E3"
                          },
                          "line": {
                            "color": "white"
                          }
                        },
                        "type": "table"
                      }
                    ]
                  },
                  "layout": {
                    "annotationdefaults": {
                      "arrowcolor": "#2a3f5f",
                      "arrowhead": 0,
                      "arrowwidth": 1
                    },
                    "autotypenumbers": "strict",
                    "coloraxis": {
                      "colorbar": {
                        "outlinewidth": 0,
                        "ticks": ""
                      }
                    },
                    "colorscale": {
                      "diverging": [
                        [
                          0,
                          "#8e0152"
                        ],
                        [
                          0.1,
                          "#c51b7d"
                        ],
                        [
                          0.2,
                          "#de77ae"
                        ],
                        [
                          0.3,
                          "#f1b6da"
                        ],
                        [
                          0.4,
                          "#fde0ef"
                        ],
                        [
                          0.5,
                          "#f7f7f7"
                        ],
                        [
                          0.6,
                          "#e6f5d0"
                        ],
                        [
                          0.7,
                          "#b8e186"
                        ],
                        [
                          0.8,
                          "#7fbc41"
                        ],
                        [
                          0.9,
                          "#4d9221"
                        ],
                        [
                          1,
                          "#276419"
                        ]
                      ],
                      "sequential": [
                        [
                          0,
                          "#0d0887"
                        ],
                        [
                          0.1111111111111111,
                          "#46039f"
                        ],
                        [
                          0.2222222222222222,
                          "#7201a8"
                        ],
                        [
                          0.3333333333333333,
                          "#9c179e"
                        ],
                        [
                          0.4444444444444444,
                          "#bd3786"
                        ],
                        [
                          0.5555555555555556,
                          "#d8576b"
                        ],
                        [
                          0.6666666666666666,
                          "#ed7953"
                        ],
                        [
                          0.7777777777777778,
                          "#fb9f3a"
                        ],
                        [
                          0.8888888888888888,
                          "#fdca26"
                        ],
                        [
                          1,
                          "#f0f921"
                        ]
                      ],
                      "sequentialminus": [
                        [
                          0,
                          "#0d0887"
                        ],
                        [
                          0.1111111111111111,
                          "#46039f"
                        ],
                        [
                          0.2222222222222222,
                          "#7201a8"
                        ],
                        [
                          0.3333333333333333,
                          "#9c179e"
                        ],
                        [
                          0.4444444444444444,
                          "#bd3786"
                        ],
                        [
                          0.5555555555555556,
                          "#d8576b"
                        ],
                        [
                          0.6666666666666666,
                          "#ed7953"
                        ],
                        [
                          0.7777777777777778,
                          "#fb9f3a"
                        ],
                        [
                          0.8888888888888888,
                          "#fdca26"
                        ],
                        [
                          1,
                          "#f0f921"
                        ]
                      ]
                    },
                    "colorway": [
                      "#636efa",
                      "#EF553B",
                      "#00cc96",
                      "#ab63fa",
                      "#FFA15A",
                      "#19d3f3",
                      "#FF6692",
                      "#B6E880",
                      "#FF97FF",
                      "#FECB52"
                    ],
                    "font": {
                      "color": "#2a3f5f"
                    },
                    "geo": {
                      "bgcolor": "white",
                      "lakecolor": "white",
                      "landcolor": "#E5ECF6",
                      "showlakes": true,
                      "showland": true,
                      "subunitcolor": "white"
                    },
                    "hoverlabel": {
                      "align": "left"
                    },
                    "hovermode": "closest",
                    "mapbox": {
                      "style": "light"
                    },
                    "paper_bgcolor": "white",
                    "plot_bgcolor": "#E5ECF6",
                    "polar": {
                      "angularaxis": {
                        "gridcolor": "white",
                        "linecolor": "white",
                        "ticks": ""
                      },
                      "bgcolor": "#E5ECF6",
                      "radialaxis": {
                        "gridcolor": "white",
                        "linecolor": "white",
                        "ticks": ""
                      }
                    },
                    "scene": {
                      "xaxis": {
                        "backgroundcolor": "#E5ECF6",
                        "gridcolor": "white",
                        "gridwidth": 2,
                        "linecolor": "white",
                        "showbackground": true,
                        "ticks": "",
                        "zerolinecolor": "white"
                      },
                      "yaxis": {
                        "backgroundcolor": "#E5ECF6",
                        "gridcolor": "white",
                        "gridwidth": 2,
                        "linecolor": "white",
                        "showbackground": true,
                        "ticks": "",
                        "zerolinecolor": "white"
                      },
                      "zaxis": {
                        "backgroundcolor": "#E5ECF6",
                        "gridcolor": "white",
                        "gridwidth": 2,
                        "linecolor": "white",
                        "showbackground": true,
                        "ticks": "",
                        "zerolinecolor": "white"
                      }
                    },
                    "shapedefaults": {
                      "line": {
                        "color": "#2a3f5f"
                      }
                    },
                    "ternary": {
                      "aaxis": {
                        "gridcolor": "white",
                        "linecolor": "white",
                        "ticks": ""
                      },
                      "baxis": {
                        "gridcolor": "white",
                        "linecolor": "white",
                        "ticks": ""
                      },
                      "bgcolor": "#E5ECF6",
                      "caxis": {
                        "gridcolor": "white",
                        "linecolor": "white",
                        "ticks": ""
                      }
                    },
                    "title": {
                      "x": 0.05
                    },
                    "xaxis": {
                      "automargin": true,
                      "gridcolor": "white",
                      "linecolor": "white",
                      "ticks": "",
                      "title": {
                        "standoff": 15
                      },
                      "zerolinecolor": "white",
                      "zerolinewidth": 2
                    },
                    "yaxis": {
                      "automargin": true,
                      "gridcolor": "white",
                      "linecolor": "white",
                      "ticks": "",
                      "title": {
                        "standoff": 15
                      },
                      "zerolinecolor": "white",
                      "zerolinewidth": 2
                    }
                  }
                },
                "title": {
                  "text": "Markowitz Mean Varience Model"
                },
                "xaxis": {
                  "title": {
                    "text": "Volatility (Standard Deviation)"
                  }
                },
                "yaxis": {
                  "title": {
                    "text": "Annualized Returns"
                  }
                }
              }
            }
          },
          "metadata": {},
          "output_type": "display_data"
        }
      ],
      "source": [
        "hover_texts = [\n",
        "    f\"{ticker} <br>Volatility: {vol:.3f} <br>Returns: {ret:.3%} <br>Sharpe Ratio: {sr:.3f}\"\n",
        "    for ticker, vol, ret, sr in zip(names, volatility, annualized_returns, sharpe_ratios)\n",
        "]\n",
        "\n",
        "fig = go.Figure(data=go.Scatter(\n",
        "    x=volatility,\n",
        "    y=annualized_returns,\n",
        "    mode='markers',\n",
        "    hoverinfo='text',\n",
        "    hovertext=hover_texts,\n",
        "    marker=dict(color=sharpe_ratios, colorscale = 'RdBu', size=6, line=dict(width=1), colorbar=dict(title=\"Sharpe<br>Ratio\")\n",
        "    )\n",
        "))\n",
        "\n",
        "fig.update_layout(\n",
        "    title='Markowitz Mean Varience Model',\n",
        "    xaxis_title='Volatility (Standard Deviation)',\n",
        "    yaxis_title='Annualized Returns',\n",
        ")\n",
        "\n",
        "fig.show()\n"
      ]
    },
    {
      "cell_type": "markdown",
      "metadata": {
        "id": "E3i7iFfDabDV"
      },
      "source": [
        "## 4.0 Monte Carlo Method"
      ]
    },
    {
      "cell_type": "code",
      "execution_count": 6,
      "metadata": {
        "id": "fsgRqCSWabDV",
        "outputId": "fbaa41fb-9c70-48ed-a734-216727080f91"
      },
      "outputs": [
        {
          "name": "stderr",
          "output_type": "stream",
          "text": [
            "100%|██████████| 1000/1000 [00:02<00:00, 406.69it/s]\n"
          ]
        }
      ],
      "source": [
        "all_portfolios, dominant_portfolios = MonteCarloRBA(names, cov, annualized_returns, 1000)"
      ]
    },
    {
      "cell_type": "code",
      "execution_count": 7,
      "metadata": {
        "id": "09tYBpwxabDV",
        "outputId": "14b280fa-725b-45a4-de2b-4d74a617924e"
      },
      "outputs": [
        {
          "name": "stdout",
          "output_type": "stream",
          "text": [
            "65 1000\n"
          ]
        }
      ],
      "source": [
        "print (len(dominant_portfolios) ,len(all_portfolios))"
      ]
    },
    {
      "cell_type": "code",
      "execution_count": 8,
      "metadata": {
        "id": "uuj_oTIZabDV",
        "outputId": "d9689c48-1eb6-4d40-8c4e-30e71495cd1d"
      },
      "outputs": [
        {
          "data": {
            "application/vnd.plotly.v1+json": {
              "config": {
                "plotlyServerURL": "https://plot.ly"
              },
              "data": [
                {
                  "hoverinfo": "text",
                  "marker": {
                    "color": [
                      3.071371046030044,
                      1.659293069706873,
                      2.127435079974549,
                      1.9209272180952495,
                      3.4170313983399843,
                      2.475847405328111,
                      3.4276653530871575,
                      2.0104069218871823,
                      2.1137798424022054,
                      2.0744706691339836,
                      2.9248430674274717,
                      2.86981489991059,
                      2.963063309423278,
                      1.8884678928085563,
                      2.8242575945124755,
                      1.9463039073014325,
                      0.6123223867144331,
                      4.223238545068006,
                      0.8974943915016234,
                      1.7396442057480868,
                      1.5218097514806128,
                      1.0202905309192596,
                      3.2865135723044636,
                      2.371926682393296,
                      3.378495339338571,
                      1.7285908434355113,
                      2.403598461695047,
                      2.10270848913513,
                      2.6246456678443932,
                      2.52687727186666,
                      3.9427826338543945,
                      3.709254399458589,
                      1.8645309217662374,
                      2.5223161800465452,
                      2.6882561087188717,
                      2.5431495161625914,
                      2.5878287465177148,
                      1.5349960307663133,
                      0.40688364740767863,
                      2.1701053026028174,
                      1.8882468066944438,
                      0.9734774849762271,
                      2.756864613953019,
                      2.2023463684897004,
                      2.2337288957690467,
                      3.110664988520246,
                      2.160281458600886,
                      0.9143341589942539,
                      0.8542027836314872,
                      2.4755937755279995,
                      2.8297301743369716,
                      3.6238771696461263,
                      2.9447738267063017,
                      3.8076966754711763,
                      2.2821884354621047,
                      3.0954945059845724,
                      2.4917782016991126,
                      2.9205694317249344,
                      2.518896028569645,
                      3.8101470155951036,
                      1.4720775886938378,
                      2.2287607023541813,
                      2.5992342072890744,
                      3.786079270035681,
                      2.531004791573937,
                      3.083202145921093,
                      2.7542217054644764,
                      4.02179602522464,
                      2.2186102871874476,
                      0.744473356269373,
                      3.453665364960363,
                      2.6239104328065834,
                      2.120728938713768,
                      2.1997020546435118,
                      2.468538854903661,
                      1.363597542489,
                      3.0102640367200975,
                      2.0857064522367343,
                      2.8518492954632695,
                      2.4516959745349616,
                      1.7467544765827991,
                      1.0605445150712154,
                      4.568527265284067,
                      2.45414848500427,
                      3.383355184502268,
                      2.0505958946384957,
                      2.2368197476177283,
                      1.6565142402153588,
                      1.3976996590828863,
                      0.7767775845641851,
                      1.4612200064940728,
                      2.513223098344927,
                      1.8116291302130734,
                      3.43060610719369,
                      1.4591685841381963,
                      2.6312777425821325,
                      2.1994925728918666,
                      2.876873500172036,
                      1.7554115631424256,
                      1.6354665449585886,
                      2.475304381229425,
                      3.265791095054396,
                      1.0538598338871972,
                      2.6017616499825116,
                      3.4645268274919148,
                      2.931386850655274,
                      2.6902084216691105,
                      2.573729766329637,
                      2.7628453099518384,
                      2.826250490222411,
                      2.1238602454423203,
                      2.1506506355887494,
                      3.195284774194123,
                      2.477273970251123,
                      1.784912199179632,
                      2.8381246389725114,
                      2.834953879114392,
                      2.603582509506746,
                      2.6459108341810067,
                      1.2756668764068306,
                      0.973154356024395,
                      1.7883530841210598,
                      2.6017616499825187,
                      2.1229192817008338,
                      2.981933415915227,
                      3.0621653891592593,
                      0.85474508751645,
                      1.5231318605407893,
                      2.1197620390011185,
                      0.7409280913723298,
                      1.4540301094609467,
                      3.2521924447759654,
                      3.6154320829380984,
                      2.160215926479189,
                      1.8581082801070994,
                      3.1125672858537294,
                      1.5563993104320506,
                      1.8997697149007486,
                      3.0483686661390053,
                      2.537159761545339,
                      0.9940858525856838,
                      2.0793126865911913,
                      2.2752131755280693,
                      1.8597048482877325,
                      0.2247697811996675,
                      3.1109635621583323,
                      2.843236768304187,
                      1.7302817861224717,
                      1.8069054439400598,
                      2.520538232364556,
                      3.050483425076788,
                      2.948244238516434,
                      1.599012101697524,
                      3.50365506169842,
                      2.9990429913762666,
                      2.820523593385711,
                      1.641505015862674,
                      1.7762464249045344,
                      1.9240899237838067,
                      3.649709645183075,
                      2.04565491645156,
                      1.890783715611396,
                      0.05410388362708892,
                      3.1074386678982457,
                      2.6787411410388793,
                      0.5989675264115215,
                      3.2383176855192413,
                      3.4227757533729943,
                      3.0071747651189287,
                      2.9059441884267585,
                      3.0665665602051053,
                      3.4376641647927753,
                      3.6525851772963778,
                      2.927188446202378,
                      3.1031199984426103,
                      3.4968645570868975,
                      3.2603798479947703,
                      2.939062950784412,
                      3.712173324086168,
                      1.8226270054373173,
                      2.1458722982794782,
                      3.044599918675317,
                      2.878320252549031,
                      1.9167141713898836,
                      3.4105040686367647,
                      2.757914392510505,
                      2.0262243523329793,
                      2.6667614333086744,
                      1.8619102308840012,
                      2.828823853454569,
                      1.3513769968475926,
                      2.3131139257424747,
                      2.292263421721705,
                      2.830919292474852,
                      1.0396974031965631,
                      1.6312793523223916,
                      2.9878516566852125,
                      3.66846569254069,
                      2.8164554939569597,
                      0.8175033062858609,
                      2.286879518753418,
                      4.0968237397145035,
                      1.578332697375297,
                      1.8300190584316955,
                      1.6620527193560837,
                      2.403598461694765,
                      1.5513824690234697,
                      1.0999543947721966,
                      2.1569985761985744,
                      0.9823891607344842,
                      1.7719538609253074,
                      2.475502385619972,
                      1.7844058449050655,
                      2.4753043812294244,
                      2.8340939868101946,
                      2.30426578776515,
                      2.5134716298888016,
                      1.3380801219597518,
                      2.4591596689130406,
                      2.1593198871085533,
                      2.5192140158729353,
                      2.440740491929173,
                      0.929562848030176,
                      2.7903696642466325,
                      2.1174873105773933,
                      3.350333336171694,
                      2.420724977775879,
                      2.8635757895301914,
                      1.968706521881715,
                      2.5178227500492443,
                      3.062901784299431,
                      3.7944310963172776,
                      2.0622182646525182,
                      2.612919331660238,
                      2.2161440807317425,
                      0.9971302698367611,
                      3.729055561122693,
                      2.5567785949582524,
                      2.6496748971536848,
                      2.1890704938830674,
                      2.762112971971885,
                      2.694769380008717,
                      2.0816169398736606,
                      2.0909832734121423,
                      2.822840924778696,
                      1.9068250959363657,
                      2.5272488874103716,
                      2.4477406284042758,
                      2.7415126818513467,
                      3.8340451522752304,
                      2.5936807994089546,
                      2.5348833133269912,
                      2.501586576781338,
                      1.9864769564550722,
                      1.4238212759333426,
                      2.797149015530287,
                      1.691905604557296,
                      3.3264409926045273,
                      1.1974685678692027,
                      2.144494927793703,
                      1.4534969868268992,
                      2.4147041913897844,
                      2.7649212966780636,
                      3.1335556096944375,
                      1.1974685674965608,
                      2.799639595910101,
                      2.788711162804007,
                      2.2044562931593545,
                      2.7495035184612746,
                      0.850443656761742,
                      3.8362136114043164,
                      3.291192280458298,
                      3.1409268208273815,
                      1.8779391201276632,
                      2.888642710680739,
                      1.0264855377059718,
                      2.403598461694824,
                      1.6603368785628594,
                      2.7066874366210993,
                      3.778658949343408,
                      3.4925694711039084,
                      2.0394470099899236,
                      2.559365667934348,
                      3.522355611971863,
                      1.9328879353218607,
                      3.091856469391952,
                      2.9805713992458913,
                      1.7614409844167669,
                      0.38010862430162334,
                      1.9848182220836823,
                      0.929562830508347,
                      2.728526574760341,
                      3.047592297657676,
                      1.9695158285762777,
                      2.2601866472129446,
                      2.55304560688042,
                      3.252518209643455,
                      2.8028851547023756,
                      1.1613095907646493,
                      2.8178018356699326,
                      2.642952729869876,
                      0.7144705186527591,
                      2.860233385562628,
                      2.6144451712086165,
                      3.3925679674472247,
                      3.1539149221707814,
                      1.8411441298718296,
                      2.7111500916263327,
                      2.516806680787808,
                      3.0631666234868353,
                      3.4240883480305833,
                      2.086716695964971,
                      1.7413906189057713,
                      2.6080035281854967,
                      2.5987570690122053,
                      1.533358958718407,
                      2.1005353532217206,
                      0.0011306190944711737,
                      1.9058938122027425,
                      1.4773478829101048,
                      3.6167751426239967,
                      1.1635766144757966,
                      1.2562802880388155,
                      2.260969759830703,
                      3.3552823589352934,
                      2.569402762313556,
                      1.416185784034945,
                      3.251976924339066,
                      3.4270379414279666,
                      1.909899298196123,
                      2.0795748188608125,
                      3.445928286262334,
                      3.4821255601437637,
                      1.56938907767939,
                      2.4194845502591673,
                      2.5816571785563514,
                      3.3069427205468607,
                      2.4195330071645467,
                      2.930699211593443,
                      2.302865875476506,
                      2.17886725457352,
                      2.748557144579066,
                      1.9749717984895236,
                      0.9823891608664845,
                      1.3747658936493012,
                      2.7879209978361934,
                      1.4305941858160116,
                      0.6224726585890581,
                      2.8173777122261328,
                      2.058531960529311,
                      3.5905340457190316,
                      2.403598461695047,
                      2.79920030462289,
                      2.4794857736527027,
                      3.2657968494029563,
                      2.779688684439519,
                      3.4291544127049134,
                      0.6942862136075593,
                      2.5160884807626602,
                      0.4645050794282551,
                      4.487449963169108,
                      1.5348362139912288,
                      2.6386718590901994,
                      3.595663710279459,
                      1.8725151390589112,
                      3.2957176514522213,
                      1.8738997802608472,
                      3.91839448750791,
                      4.407157206082057,
                      2.6460296078438597,
                      1.1974685676059782,
                      1.629113372008973,
                      0.7018444040664695,
                      2.6220162544861085,
                      1.9614422218058043,
                      1.2174166404060838,
                      3.4878694479129004,
                      2.510994888764864,
                      1.0132807315563799,
                      3.8226676303092977,
                      3.32256325763281,
                      2.5146654859226683,
                      0.32081293206663963,
                      2.7242440499015625,
                      1.0928480122243263,
                      2.438212800058915,
                      3.831066165547436,
                      1.2263057479121147,
                      2.3772427762086092,
                      2.3719130122154244,
                      3.290372557924771,
                      2.2518468034816586,
                      1.9841565243286003,
                      3.025059983609012,
                      2.1274858078179975,
                      3.9442651547964984,
                      1.2389116032517682,
                      2.0992438757981935,
                      2.4194845502591678,
                      2.1522637599216172,
                      1.2924350882897897,
                      3.2123682555608815,
                      1.3095371328225023,
                      2.7479978547732524,
                      1.6481910999436256,
                      1.5490120818746214,
                      2.694396446507932,
                      2.7550393559372197,
                      2.738235876295674,
                      2.891682160369442,
                      2.702089127746602,
                      2.091606711569229,
                      1.2491786335449653,
                      2.601379852459934,
                      3.002443980377787,
                      3.569741365004148,
                      1.8504377827117382,
                      2.678775344893327,
                      0.307517610043478,
                      2.0525059489155697,
                      1.0147896908011065,
                      3.241533008958108,
                      2.232858660045086,
                      1.2088180770361883,
                      2.21483140166434,
                      1.6384837609267133,
                      3.3307036567258512,
                      2.4897126164643986,
                      2.516806888498215,
                      2.7477676446799837,
                      0.9728139120003065,
                      1.7033434605152433,
                      0.28090632227070694,
                      2.721140170869399,
                      2.32343466194852,
                      2.356901557138777,
                      3.0498177048637323,
                      0.6695617550986598,
                      2.482423810347811,
                      1.460456501874771,
                      1.701327150130087,
                      1.6813382800280459,
                      1.09590485124668,
                      3.0017248267415813,
                      1.921353183057006,
                      2.2202777242590575,
                      2.3700707829507732,
                      -0.9130438983478649,
                      3.033511436388898,
                      0.7014884254857581,
                      2.789038717812822,
                      2.986075927525073,
                      2.5625630725803235,
                      2.8504041006595715,
                      3.062442606700572,
                      2.8334372545243713,
                      1.8581082801070976,
                      2.2939363981411445,
                      2.380245333701276,
                      2.6742170122041986,
                      2.4116957148310356,
                      2.250157808154078,
                      1.449548716633846,
                      1.782546246454808,
                      1.8030145646725668,
                      2.5674684108123733,
                      2.780921893701733,
                      1.2421760006396807,
                      3.022336342261208,
                      1.8616227332678452,
                      3.189865162193392,
                      1.3434992197276994,
                      2.2993804352159746,
                      2.864160195823598,
                      1.8653729895862723,
                      1.0238223227090755,
                      1.4258515426537794,
                      3.7119138338598514,
                      3.366274304681741,
                      1.6156374156010187,
                      2.119537182855311,
                      0.5844718401650447,
                      2.364096555893876,
                      2.67019205793827,
                      2.3989457617412198,
                      2.3794940992724314,
                      3.215804471902458,
                      2.2213617431130133,
                      2.235708710097164,
                      2.466755232711724,
                      2.4575264406435346,
                      2.603397044821316,
                      0.9561509277093329,
                      2.4374806091938126,
                      2.6022349881396574,
                      3.899038429239871,
                      2.834953896552053,
                      1.8665822469468447,
                      1.0191394347400249,
                      3.250252680406219,
                      0.9724633672141969,
                      2.7451713805262377,
                      2.900203237753759,
                      2.4214764221037197,
                      2.1962849397330793,
                      3.109703579610662,
                      1.9349556835724913,
                      2.5235808768189147,
                      3.9705447505808356,
                      3.786651502519118,
                      1.394621356505932,
                      1.8352131994937038,
                      3.5308229756430993,
                      2.8282782876484958,
                      3.0768185722265575,
                      0.430315565848748,
                      3.2622531038364264,
                      2.6111396673246867,
                      2.55663203081053,
                      2.5248171212341792,
                      2.1534915739445393,
                      1.5562371718059582,
                      2.4194845502591678,
                      2.1707654434015753,
                      1.4258515340224032,
                      1.557168549059972,
                      2.9026037712801083,
                      3.188688044136495,
                      3.1373267681550203,
                      3.4531206721153973,
                      3.1662100744009773,
                      2.205579665895584,
                      2.4976449088873713,
                      4.327822962885466,
                      2.517582477423942,
                      3.1131841802537212,
                      2.50759061150632,
                      2.4942133259330888,
                      1.0514821524560078,
                      2.869487252309519,
                      3.3718010430279985,
                      2.0427204208949883,
                      3.2320126725801197,
                      2.2632556112644027,
                      1.6804613133902726,
                      3.0795602929712,
                      1.6267511630138702,
                      2.2207236435392104,
                      1.748377427185221,
                      2.4643616018068952,
                      2.697033917400411,
                      2.5465788703526653,
                      2.826468031851875,
                      2.14500186473742,
                      2.1451012095054773,
                      0.9823891608664838,
                      1.1910935405458605,
                      1.7369765408751172,
                      2.6787755033550074,
                      3.6295951736971395,
                      0.8578611137262911,
                      2.114058568529411,
                      2.7726498528185872,
                      2.175657825766791,
                      2.8441903655126968,
                      2.107580607293687,
                      2.7046055593508425,
                      2.5968931055320907,
                      1.0983109280063927,
                      2.5272395090548887,
                      1.0999543541459158,
                      2.73444832375496,
                      2.2246103348327098,
                      1.4772803459033277,
                      2.4936948413113913,
                      2.153967137122834,
                      2.5368034374244988,
                      2.5184343454330014,
                      2.6998996713946086,
                      2.551122056363598,
                      1.5291660691062272,
                      1.1858783233935801,
                      2.5737964069822907,
                      2.3020764802274014,
                      2.302383273195918,
                      2.181450056065107,
                      1.9515228288377422,
                      2.4054167367191313,
                      2.837627854190938,
                      4.043328632881572,
                      1.0147896710139404,
                      2.0217654385947195,
                      2.234642554786246,
                      1.325353884300555,
                      0.7085366022510787,
                      2.3921303875239484,
                      3.5175181969148688,
                      2.788557994927818,
                      0.5844718401650453,
                      1.9477789041103637,
                      1.4227461312260303,
                      0.916720496636301,
                      2.535753123350357,
                      0.3819451276677493,
                      2.9979125263861035,
                      0.15338250799719122,
                      2.674385052304292,
                      2.0313602119118377,
                      4.33469335839454,
                      3.561798113414999,
                      2.284879214463844,
                      1.057089645231726,
                      2.875386339358731,
                      2.3722110743908127,
                      3.2393410688997273,
                      3.3552823680623054,
                      0.47789584487554465,
                      2.370070785588432,
                      1.7507609207070494,
                      3.148656579130339,
                      2.9989272448742827,
                      1.4979298455115548,
                      2.1976518087681756,
                      0.7903216256363487,
                      1.8044188960964722,
                      3.4850768409061144,
                      1.4741505624063265,
                      2.393343888217177,
                      1.8087228255822296,
                      1.4392784761665087,
                      1.2756668764068306,
                      2.0483681915175045,
                      2.9655935617983333,
                      2.8205046712727593,
                      3.174126572076927,
                      2.559276547238156,
                      1.2756668764068304,
                      3.4899338365984,
                      3.42434388030511,
                      2.4194845502591678,
                      2.578803309855112,
                      3.69828846988588,
                      3.744366070980908,
                      3.023284144122041,
                      2.1505065456206127,
                      2.3823407933266303,
                      0.7757572024731726,
                      2.011486447070423,
                      2.4140897124151786,
                      2.296235737351132,
                      2.808336714405305,
                      1.370823704555059,
                      3.288223619562446,
                      2.0442853303091475,
                      3.052044034938349,
                      2.4113848687590895,
                      3.46155424916314,
                      2.3719130122154257,
                      1.8845637198842249,
                      2.3820300034267414,
                      3.049818133201168,
                      1.8581807747728285,
                      2.2852984893468617,
                      2.587760684686529,
                      2.5566320197844425,
                      3.269744700083651,
                      1.915665214714273,
                      0.8964003213337756,
                      2.685058087571677,
                      0.7254121033529908,
                      1.9032545528932434,
                      2.259519787687408,
                      2.920682690656983,
                      1.0780078259224553,
                      0.9823891608664849,
                      2.4368983800936537,
                      0.1802485606900958,
                      2.8944040807889326,
                      2.4997278681333586,
                      3.46964229961678,
                      3.565539720446841,
                      1.784768678918197,
                      2.2093543500683643,
                      0.7880679247950803,
                      2.3122471440507564,
                      2.690376822578935,
                      4.088620004397556,
                      2.27396869547052,
                      1.3226384939337412,
                      2.0563727700697636,
                      2.42500443377607,
                      1.3930133805196023,
                      3.399477445961046,
                      2.623557896732351,
                      1.999010657672193,
                      2.7134135963417694,
                      2.4341139236478697,
                      0.8334781393290336,
                      2.193542339901912,
                      1.22149451484347,
                      1.8383056408187706,
                      3.281794866107976,
                      3.496983502837767,
                      2.588960962992718,
                      2.9172718455411046,
                      2.6563918271830915,
                      0.9318614036563985,
                      2.5524679960984247,
                      2.5625301545302435,
                      2.8322729935724347,
                      1.354932345878054,
                      2.5711251839749774,
                      1.0261852969681657,
                      2.9569797113207206,
                      2.175266616225323,
                      2.599730728091848,
                      2.5233098823812186,
                      0.9301421972782032,
                      2.9559729335703575,
                      2.287517245970731,
                      2.697616955027311,
                      3.6262761136894732,
                      4.310092940603363,
                      2.9316699007714515,
                      2.123573813954629,
                      2.5268770685924418,
                      1.8702762622773617,
                      1.3825950831162355,
                      3.274709953325359,
                      3.571260443229344,
                      1.4237550212043215,
                      4.029428484111465,
                      2.261146155865712,
                      2.2761161258774556,
                      0.6679103998292443,
                      3.2817082340472266,
                      0.9427481012411455,
                      3.664201645258278,
                      2.5081030852534565,
                      1.5885147691016395,
                      0.8547450882725555,
                      3.2519769274071866,
                      1.7923238477771404,
                      0.6325587770997304,
                      2.423649126681029,
                      2.420821053662107,
                      2.8616069665099437,
                      2.723091799872154,
                      3.0541989393399644,
                      2.4219776769811565,
                      2.060576041860524,
                      3.1130058400025056,
                      1.2690324201592045,
                      3.193859677951193,
                      2.3700977483550747,
                      2.497039117343491,
                      2.9990429618850607,
                      2.421273367116839,
                      3.272358622349361,
                      2.484905737610131,
                      1.7521022524990728,
                      3.598337089901226,
                      1.737312277251136,
                      2.8166671816273023,
                      2.639757304717682,
                      3.1883273421033427,
                      2.5016074541623237,
                      2.3049470136021935,
                      2.1294084466400514,
                      3.5034850591700075,
                      1.2458911213100674,
                      2.234642554790727,
                      0.9724633672141969,
                      2.2601864144660357,
                      0.7973736505835562,
                      2.5278612135607137,
                      2.8216445876295104,
                      1.9858295002431057,
                      2.329614057281302,
                      2.4712235317789184,
                      3.527718911339764,
                      2.4797169468837854,
                      2.4709997196912457,
                      2.436407421786572,
                      2.4531598201398603,
                      3.4825790695574574,
                      1.2509796144523582,
                      2.122659599133892,
                      2.053741830561298,
                      2.747907339046319,
                      2.2675431512142485,
                      3.251001242604024,
                      1.3942558785824388,
                      2.536311738833189,
                      3.407367547119881,
                      3.5474889625686257,
                      1.0928480122243902,
                      2.3002242134059703,
                      3.529740755281881,
                      2.5980241858451327,
                      2.8078770654110587,
                      0.978211412019973,
                      2.346248093522618,
                      1.3893621184203602,
                      3.4835417545717293,
                      1.2872910567837006,
                      3.330254721371601,
                      3.0857042102250776,
                      2.067166181527497,
                      3.596809130003955,
                      3.2434242344785877,
                      3.0445646412655067,
                      1.335153660473402,
                      1.8467404812180683,
                      2.555880843173711,
                      2.5078723057942947,
                      2.112488097303998,
                      3.564473449434504,
                      2.30022421340597,
                      3.4733132559506905,
                      2.588960515353212,
                      3.142894481200945,
                      3.0283998798109577,
                      2.4916801449872574,
                      1.8794769246987126,
                      2.0436792084252775,
                      1.5123496746601937,
                      2.105458701337796,
                      2.9840191282653095,
                      3.749680901367724,
                      3.0238715811330255,
                      3.8221397343242596,
                      1.7923237931890477,
                      2.470621327262584,
                      2.4914360682402314,
                      0.7864006204878824,
                      3.071990854624371,
                      0.4382381922805747,
                      2.342961047365671,
                      2.2189149542952578,
                      1.0928480122243496,
                      2.566599313744024,
                      2.618008924581917,
                      3.125439251655721,
                      3.3331768790510687,
                      3.5190217500961785,
                      2.8685312224859385,
                      3.189921531158507,
                      0.8399842485280682,
                      2.2203971179708106,
                      2.4722554300503683,
                      2.3959921213201323,
                      2.5617722946357433,
                      2.7656232964017877,
                      1.0934732405012075,
                      1.7256158057936448,
                      3.38573503034721,
                      3.957291300203059,
                      2.3238848267003474,
                      2.602904395151465,
                      1.5655107962332773,
                      3.4159287301833583,
                      3.5012677457677572,
                      2.827628558611487,
                      1.1478686789603365,
                      2.8968731915479924,
                      3.023284149834568,
                      0.8731490804327146,
                      2.6621342625815823,
                      1.006834479852255,
                      2.8134087753579227,
                      1.8319038824796217,
                      1.5693368646352128,
                      2.148215684874288,
                      2.4424482252641453,
                      1.0191275106111597,
                      2.8142725889215447,
                      2.892495579061529,
                      3.2597095574639945,
                      0.9971301930728028,
                      2.757577241428054,
                      1.3841796398559152,
                      0.9504559887038522,
                      1.8352427542103447,
                      0.9558898005113529,
                      2.0872210157844955,
                      3.249819460035397,
                      1.6019659080877153,
                      2.241598252513919,
                      2.475304381229423,
                      2.1797846865528094,
                      1.701327147020424,
                      1.7019240349194429,
                      3.0037566800834954,
                      1.4842050042445953,
                      2.299513236288485,
                      1.5856177243259122,
                      1.4226591027212756,
                      1.5417046149096465,
                      1.9427010557499425,
                      2.4114256042554394,
                      0.7588211566102984,
                      2.4046777556586703,
                      2.550391779874303,
                      2.8162090903518995,
                      3.6990271039194322,
                      0.6996552417509272,
                      2.471063494587452,
                      2.73791994129821,
                      2.878829512245836,
                      2.8316779332171045,
                      1.366190070855756,
                      2.633674923050557,
                      2.4797169511438533,
                      1.0016157137658543,
                      2.137587075160502,
                      2.2241507459607504,
                      2.8106964660946137,
                      3.0101085454915375,
                      2.3732273218440265,
                      1.6262233987976578,
                      3.4159287301831815,
                      2.7344485687461266,
                      1.5833173340540558,
                      4.296126071459626,
                      2.0827171582063357,
                      2.8143460970786314,
                      2.0989285598492695,
                      2.8709348139072994,
                      2.3874374531794373,
                      2.4914356031462046,
                      3.901198399867894,
                      3.7449040186363214,
                      0.7404013517898691,
                      2.6459752722829717,
                      2.921445782189477,
                      2.4667552327119666,
                      2.694769387501046,
                      2.9926589960516328,
                      2.377782682301821,
                      2.198394639407626,
                      2.412337536563435,
                      3.3891068273519536,
                      1.3130606216849812,
                      2.350512071511042,
                      2.924494818033192,
                      3.0734904790639868,
                      2.568746394802261,
                      2.0822103350700605,
                      2.718897141596209,
                      2.7897938826431146,
                      1.9011251873550872,
                      0.38169143458744165,
                      2.304947061886442,
                      2.0593319214295964,
                      1.4530504559307087,
                      2.304946925512043,
                      2.6435580002442745,
                      3.056672985866963,
                      0.46450507942825503,
                      3.461554595513279,
                      1.2882203342086544,
                      2.3731260464522546,
                      2.7739637719068972,
                      2.551749373524377,
                      3.1039336625854026,
                      1.8496731152775272,
                      2.7591338480945353,
                      1.347599571227646,
                      2.248054869849203,
                      1.9633997377040477,
                      0.6755042419350664,
                      2.0317721738259107,
                      0.8026928757682797,
                      3.1586376266312604,
                      2.208123392672333,
                      2.6285205139654124,
                      0.7444732231952487,
                      2.551352351302079,
                      2.0528185880070753,
                      2.506428810283487,
                      0.6351127224719795,
                      2.548455292104091,
                      2.7363302929290825,
                      3.2355049092962953,
                      3.0942525932046365,
                      0.6675656201000124,
                      2.3719130122154257,
                      1.7749751411196772,
                      0.5878068575427529,
                      1.3979029925657152,
                      3.098427799952593,
                      3.073043402907692,
                      2.8251062971001617,
                      3.8879137240598944,
                      3.1898651344738718,
                      2.5217979952309344,
                      2.785410416256589,
                      1.9328180942235091,
                      2.491164858040901
                    ],
                    "colorbar": {
                      "title": {
                        "text": "Sharpe<br>Ratio"
                      }
                    },
                    "colorscale": [
                      [
                        0,
                        "rgb(103,0,31)"
                      ],
                      [
                        0.1,
                        "rgb(178,24,43)"
                      ],
                      [
                        0.2,
                        "rgb(214,96,77)"
                      ],
                      [
                        0.3,
                        "rgb(244,165,130)"
                      ],
                      [
                        0.4,
                        "rgb(253,219,199)"
                      ],
                      [
                        0.5,
                        "rgb(247,247,247)"
                      ],
                      [
                        0.6,
                        "rgb(209,229,240)"
                      ],
                      [
                        0.7,
                        "rgb(146,197,222)"
                      ],
                      [
                        0.8,
                        "rgb(67,147,195)"
                      ],
                      [
                        0.9,
                        "rgb(33,102,172)"
                      ],
                      [
                        1,
                        "rgb(5,48,97)"
                      ]
                    ],
                    "line": {
                      "width": 1
                    },
                    "showscale": true,
                    "size": 7
                  },
                  "mode": "markers",
                  "text": [
                    "Return: 30.383%<br>Volatility: 0.099<br>Sharpe Ratio: 3.071<br>CVX_Close: Weight=0.217<br>HON_Close: Weight=0.650<br>NVDA_Close: Weight=0.133",
                    "Return: 14.305%<br>Volatility: 0.086<br>Sharpe Ratio: 1.659<br>EXC_Close: Weight=0.111<br>XOM_Close: Weight=0.163<br>AEP_Close: Weight=0.554<br>EW_Close: Weight=0.172",
                    "Return: 28.889%<br>Volatility: 0.136<br>Sharpe Ratio: 2.127<br>CRM_Close: Weight=0.410<br>MS_Close: Weight=0.196<br>AMZN_Close: Weight=0.394<br>DIS_Close: Weight=0.000",
                    "Return: 28.662%<br>Volatility: 0.149<br>Sharpe Ratio: 1.921<br>INTC_Close: Weight=0.760<br>AMD_Close: Weight=0.000<br>GS_Close: Weight=0.000<br>CSCO_Close: Weight=0.240",
                    "Return: 58.003%<br>Volatility: 0.170<br>Sharpe Ratio: 3.417<br>GE_Close: Weight=0.000<br>AMGN_Close: Weight=0.026<br>BA_Close: Weight=0.974<br>GS_Close: Weight=0.000",
                    "Return: 34.040%<br>Volatility: 0.137<br>Sharpe Ratio: 2.476<br>MRK_Close: Weight=0.000<br>UNH_Close: Weight=0.972<br>XOM_Close: Weight=0.028",
                    "Return: 45.697%<br>Volatility: 0.133<br>Sharpe Ratio: 3.428<br>MSFT_Close: Weight=0.422<br>GOOG_Close: Weight=0.000<br>ABBV_Close: Weight=0.552<br>ETN_Close: Weight=0.026",
                    "Return: 24.168%<br>Volatility: 0.120<br>Sharpe Ratio: 2.010<br>WFC_Close: Weight=0.060<br>GOOGL_Close: Weight=0.000<br>TMO_Close: Weight=0.370<br>GOOG_Close: Weight=0.570",
                    "Return: 24.955%<br>Volatility: 0.118<br>Sharpe Ratio: 2.114<br>ETN_Close: Weight=0.176<br>T_Close: Weight=0.000<br>ACN_Close: Weight=0.824",
                    "Return: 24.572%<br>Volatility: 0.118<br>Sharpe Ratio: 2.074<br>PM_Close: Weight=0.000<br>ABT_Close: Weight=0.835<br>XOM_Close: Weight=0.165<br>DIS_Close: Weight=0.000",
                    "Return: 55.375%<br>Volatility: 0.189<br>Sharpe Ratio: 2.925<br>PYPL_Close: Weight=0.660<br>RMD_Close: Weight=0.124<br>ADBE_Close: Weight=0.215",
                    "Return: 42.848%<br>Volatility: 0.149<br>Sharpe Ratio: 2.870<br>F_Close: Weight=0.000<br>DE_Close: Weight=0.660<br>AMZN_Close: Weight=0.340",
                    "Return: 35.599%<br>Volatility: 0.120<br>Sharpe Ratio: 2.963<br>V_Close: Weight=0.570<br>GM_Close: Weight=0.126<br>SAP_Close: Weight=0.068<br>BABA_Close: Weight=0.237",
                    "Return: 25.476%<br>Volatility: 0.135<br>Sharpe Ratio: 1.888<br>META_Close: Weight=0.718<br>GM_Close: Weight=0.239<br>GIS_Close: Weight=0.043",
                    "Return: 38.362%<br>Volatility: 0.136<br>Sharpe Ratio: 2.824<br>SNAP_Close: Weight=0.000<br>GOOG_Close: Weight=0.388<br>DE_Close: Weight=0.612",
                    "Return: 21.356%<br>Volatility: 0.110<br>Sharpe Ratio: 1.946<br>SAP_Close: Weight=0.517<br>SYK_Close: Weight=0.357<br>CSCO_Close: Weight=0.126",
                    "Return: 9.002%<br>Volatility: 0.147<br>Sharpe Ratio: 0.612<br>F_Close: Weight=0.264<br>BTI_Close: Weight=0.736<br>SNAP_Close: Weight=0.000<br>T_Close: Weight=0.000",
                    "Return: 39.120%<br>Volatility: 0.093<br>Sharpe Ratio: 4.223<br>NEE_Close: Weight=0.389<br>CAT_Close: Weight=0.351<br>ABT_Close: Weight=0.260",
                    "Return: 7.477%<br>Volatility: 0.083<br>Sharpe Ratio: 0.897<br>DHR_Close: Weight=0.449<br>DUK_Close: Weight=0.551<br>IBM_Close: Weight=0.000",
                    "Return: 26.144%<br>Volatility: 0.150<br>Sharpe Ratio: 1.740<br>GOOG_Close: Weight=0.943<br>KR_Close: Weight=0.000<br>SRE_Close: Weight=0.057",
                    "Return: 19.985%<br>Volatility: 0.131<br>Sharpe Ratio: 1.522<br>MDT_Close: Weight=0.000<br>MS_Close: Weight=0.332<br>TMO_Close: Weight=0.668",
                    "Return: 12.174%<br>Volatility: 0.119<br>Sharpe Ratio: 1.020<br>XOM_Close: Weight=0.277<br>WFC_Close: Weight=0.057<br>CSCO_Close: Weight=0.666<br>KR_Close: Weight=0.000",
                    "Return: 35.991%<br>Volatility: 0.110<br>Sharpe Ratio: 3.287<br>SRE_Close: Weight=0.000<br>BTI_Close: Weight=0.000<br>ABBV_Close: Weight=0.563<br>PEP_Close: Weight=0.437",
                    "Return: 42.933%<br>Volatility: 0.181<br>Sharpe Ratio: 2.372<br>WMT_Close: Weight=0.997<br>T_Close: Weight=0.000<br>ZBH_Close: Weight=0.003",
                    "Return: 28.295%<br>Volatility: 0.084<br>Sharpe Ratio: 3.378<br>UNH_Close: Weight=0.323<br>KO_Close: Weight=0.323<br>ISRG_Close: Weight=0.243<br>PEP_Close: Weight=0.110",
                    "Return: 13.518%<br>Volatility: 0.078<br>Sharpe Ratio: 1.729<br>DIS_Close: Weight=0.000<br>KO_Close: Weight=0.809<br>GM_Close: Weight=0.191<br>T_Close: Weight=0.000",
                    "Return: 32.454%<br>Volatility: 0.135<br>Sharpe Ratio: 2.404<br>HD_Close: Weight=1.000<br>SRE_Close: Weight=0.000<br>K_Close: Weight=0.000",
                    "Return: 22.764%<br>Volatility: 0.108<br>Sharpe Ratio: 2.103<br>MDT_Close: Weight=0.000<br>DIS_Close: Weight=0.031<br>NEE_Close: Weight=0.969",
                    "Return: 35.932%<br>Volatility: 0.137<br>Sharpe Ratio: 2.625<br>MA_Close: Weight=0.866<br>GOOGL_Close: Weight=0.134<br>BIIB_Close: Weight=0.000",
                    "Return: 44.525%<br>Volatility: 0.176<br>Sharpe Ratio: 2.527<br>F_Close: Weight=0.000<br>ETN_Close: Weight=0.000<br>DE_Close: Weight=0.986<br>PG_Close: Weight=0.014",
                    "Return: 40.421%<br>Volatility: 0.103<br>Sharpe Ratio: 3.943<br>ABBV_Close: Weight=0.333<br>DHR_Close: Weight=0.000<br>UNH_Close: Weight=0.313<br>HD_Close: Weight=0.354",
                    "Return: 45.845%<br>Volatility: 0.124<br>Sharpe Ratio: 3.709<br>BA_Close: Weight=0.625<br>AAPL_Close: Weight=0.147<br>SYK_Close: Weight=0.228<br>MRK_Close: Weight=0.000",
                    "Return: 15.887%<br>Volatility: 0.085<br>Sharpe Ratio: 1.865<br>AEP_Close: Weight=0.597<br>RTX_Close: Weight=0.403<br>DUK_Close: Weight=0.000<br>GE_Close: Weight=0.000",
                    "Return: 24.951%<br>Volatility: 0.099<br>Sharpe Ratio: 2.522<br>DUK_Close: Weight=0.195<br>V_Close: Weight=0.760<br>T_Close: Weight=0.002<br>LLY_Close: Weight=0.043",
                    "Return: 26.772%<br>Volatility: 0.100<br>Sharpe Ratio: 2.688<br>GIS_Close: Weight=0.000<br>WMT_Close: Weight=0.454<br>KO_Close: Weight=0.546",
                    "Return: 38.918%<br>Volatility: 0.153<br>Sharpe Ratio: 2.543<br>ADBE_Close: Weight=0.249<br>AMD_Close: Weight=0.000<br>MSFT_Close: Weight=0.751",
                    "Return: 31.423%<br>Volatility: 0.121<br>Sharpe Ratio: 2.588<br>XOM_Close: Weight=0.000<br>JPM_Close: Weight=0.232<br>GIS_Close: Weight=0.000<br>UNH_Close: Weight=0.768",
                    "Return: 12.870%<br>Volatility: 0.084<br>Sharpe Ratio: 1.535<br>IBM_Close: Weight=0.000<br>KO_Close: Weight=0.948<br>RDY_Close: Weight=0.000<br>DUK_Close: Weight=0.052",
                    "Return: 3.829%<br>Volatility: 0.094<br>Sharpe Ratio: 0.407<br>BSX_Close: Weight=0.000<br>ZBH_Close: Weight=0.193<br>UA_Close: Weight=0.000<br>XOM_Close: Weight=0.807",
                    "Return: 20.748%<br>Volatility: 0.096<br>Sharpe Ratio: 2.170<br>DHR_Close: Weight=0.161<br>NEE_Close: Weight=0.805<br>KR_Close: Weight=0.000<br>BIIB_Close: Weight=0.034",
                    "Return: 30.716%<br>Volatility: 0.163<br>Sharpe Ratio: 1.888<br>RMD_Close: Weight=0.156<br>INTC_Close: Weight=0.844<br>MRK_Close: Weight=0.000",
                    "Return: 19.566%<br>Volatility: 0.201<br>Sharpe Ratio: 0.973<br>REGN_Close: Weight=0.000<br>BAC_Close: Weight=0.953<br>ZBH_Close: Weight=0.047",
                    "Return: 32.264%<br>Volatility: 0.117<br>Sharpe Ratio: 2.757<br>MSFT_Close: Weight=0.430<br>RTX_Close: Weight=0.147<br>TXN_Close: Weight=0.320<br>EMR_Close: Weight=0.103",
                    "Return: 21.153%<br>Volatility: 0.096<br>Sharpe Ratio: 2.202<br>GOOGL_Close: Weight=0.303<br>JNJ_Close: Weight=0.416<br>SAP_Close: Weight=0.281",
                    "Return: 23.374%<br>Volatility: 0.105<br>Sharpe Ratio: 2.234<br>LMT_Close: Weight=0.866<br>RTX_Close: Weight=0.134<br>K_Close: Weight=0.000",
                    "Return: 24.800%<br>Volatility: 0.080<br>Sharpe Ratio: 3.111<br>CVX_Close: Weight=0.221<br>KO_Close: Weight=0.323<br>MA_Close: Weight=0.456",
                    "Return: 27.397%<br>Volatility: 0.127<br>Sharpe Ratio: 2.160<br>ABT_Close: Weight=0.811<br>QCOM_Close: Weight=0.107<br>TSLA_Close: Weight=0.082",
                    "Return: 15.057%<br>Volatility: 0.165<br>Sharpe Ratio: 0.914<br>AMD_Close: Weight=0.000<br>MDT_Close: Weight=0.000<br>BIIB_Close: Weight=0.252<br>MS_Close: Weight=0.748",
                    "Return: 9.217%<br>Volatility: 0.108<br>Sharpe Ratio: 0.854<br>AMD_Close: Weight=0.000<br>REGN_Close: Weight=0.000<br>PFE_Close: Weight=1.000",
                    "Return: 26.838%<br>Volatility: 0.108<br>Sharpe Ratio: 2.476<br>SRE_Close: Weight=0.000<br>PFE_Close: Weight=0.242<br>COST_Close: Weight=0.000<br>HD_Close: Weight=0.758",
                    "Return: 26.160%<br>Volatility: 0.092<br>Sharpe Ratio: 2.830<br>SYY_Close: Weight=0.271<br>DIS_Close: Weight=0.049<br>V_Close: Weight=0.679",
                    "Return: 37.162%<br>Volatility: 0.103<br>Sharpe Ratio: 3.624<br>JNJ_Close: Weight=0.063<br>LMT_Close: Weight=0.421<br>AMZN_Close: Weight=0.130<br>ABBV_Close: Weight=0.385",
                    "Return: 30.038%<br>Volatility: 0.102<br>Sharpe Ratio: 2.945<br>EW_Close: Weight=0.077<br>MCD_Close: Weight=0.641<br>AEP_Close: Weight=0.282",
                    "Return: 47.991%<br>Volatility: 0.126<br>Sharpe Ratio: 3.808<br>PYPL_Close: Weight=0.319<br>HD_Close: Weight=0.575<br>NVDA_Close: Weight=0.106<br>CMCSA_Close: Weight=0.000",
                    "Return: 19.960%<br>Volatility: 0.087<br>Sharpe Ratio: 2.282<br>ABT_Close: Weight=0.508<br>NKE_Close: Weight=0.024<br>PEP_Close: Weight=0.375<br>XOM_Close: Weight=0.093",
                    "Return: 53.458%<br>Volatility: 0.173<br>Sharpe Ratio: 3.095<br>TSLA_Close: Weight=0.021<br>ISRG_Close: Weight=0.396<br>PYPL_Close: Weight=0.489<br>GOOG_Close: Weight=0.094",
                    "Return: 31.904%<br>Volatility: 0.128<br>Sharpe Ratio: 2.492<br>UNH_Close: Weight=0.884<br>GE_Close: Weight=0.000<br>K_Close: Weight=0.000<br>DHR_Close: Weight=0.116",
                    "Return: 40.923%<br>Volatility: 0.140<br>Sharpe Ratio: 2.921<br>MA_Close: Weight=0.616<br>ISRG_Close: Weight=0.381<br>EW_Close: Weight=0.003",
                    "Return: 29.588%<br>Volatility: 0.117<br>Sharpe Ratio: 2.519<br>ADBE_Close: Weight=0.364<br>SYY_Close: Weight=0.375<br>SAP_Close: Weight=0.261",
                    "Return: 38.231%<br>Volatility: 0.100<br>Sharpe Ratio: 3.810<br>CAT_Close: Weight=0.413<br>LMT_Close: Weight=0.445<br>JPM_Close: Weight=0.003<br>DUK_Close: Weight=0.139",
                    "Return: 22.541%<br>Volatility: 0.153<br>Sharpe Ratio: 1.472<br>NKE_Close: Weight=0.174<br>AAPL_Close: Weight=0.826<br>PM_Close: Weight=0.000",
                    "Return: 19.540%<br>Volatility: 0.088<br>Sharpe Ratio: 2.229<br>NEE_Close: Weight=0.642<br>PEP_Close: Weight=0.260<br>K_Close: Weight=0.000<br>BMY_Close: Weight=0.098",
                    "Return: 25.792%<br>Volatility: 0.099<br>Sharpe Ratio: 2.599<br>CMCSA_Close: Weight=0.032<br>LMT_Close: Weight=0.663<br>T_Close: Weight=0.000<br>META_Close: Weight=0.306",
                    "Return: 39.701%<br>Volatility: 0.105<br>Sharpe Ratio: 3.786<br>BA_Close: Weight=0.493<br>AEP_Close: Weight=0.245<br>AAPL_Close: Weight=0.097<br>CRM_Close: Weight=0.166",
                    "Return: 30.737%<br>Volatility: 0.121<br>Sharpe Ratio: 2.531<br>UNH_Close: Weight=0.789<br>PFE_Close: Weight=0.099<br>BMY_Close: Weight=0.000<br>RMD_Close: Weight=0.112",
                    "Return: 43.162%<br>Volatility: 0.140<br>Sharpe Ratio: 3.083<br>ORCL_Close: Weight=0.065<br>DE_Close: Weight=0.595<br>MS_Close: Weight=0.001<br>ADBE_Close: Weight=0.339",
                    "Return: 28.770%<br>Volatility: 0.104<br>Sharpe Ratio: 2.754<br>ISRG_Close: Weight=0.461<br>PEP_Close: Weight=0.489<br>TMO_Close: Weight=0.050",
                    "Return: 48.385%<br>Volatility: 0.120<br>Sharpe Ratio: 4.022<br>AMGN_Close: Weight=0.000<br>UNH_Close: Weight=0.453<br>BA_Close: Weight=0.547",
                    "Return: 23.532%<br>Volatility: 0.106<br>Sharpe Ratio: 2.219<br>CMCSA_Close: Weight=0.056<br>GIS_Close: Weight=0.000<br>LMT_Close: Weight=0.944",
                    "Return: 9.198%<br>Volatility: 0.124<br>Sharpe Ratio: 0.744<br>DHR_Close: Weight=0.820<br>BIIB_Close: Weight=0.180<br>SNAP_Close: Weight=0.000",
                    "Return: 53.445%<br>Volatility: 0.155<br>Sharpe Ratio: 3.454<br>REGN_Close: Weight=0.000<br>GILD_Close: Weight=0.000<br>CSCO_Close: Weight=0.140<br>BA_Close: Weight=0.860",
                    "Return: 22.616%<br>Volatility: 0.086<br>Sharpe Ratio: 2.624<br>DUK_Close: Weight=0.310<br>EMR_Close: Weight=0.139<br>ZBH_Close: Weight=0.000<br>HD_Close: Weight=0.551",
                    "Return: 22.344%<br>Volatility: 0.105<br>Sharpe Ratio: 2.121<br>GILD_Close: Weight=0.000<br>MO_Close: Weight=0.000<br>DUK_Close: Weight=0.281<br>ABT_Close: Weight=0.719",
                    "Return: 25.519%<br>Volatility: 0.116<br>Sharpe Ratio: 2.200<br>JNJ_Close: Weight=0.622<br>GM_Close: Weight=0.176<br>VRTX_Close: Weight=0.202",
                    "Return: 34.216%<br>Volatility: 0.139<br>Sharpe Ratio: 2.469<br>NVDA_Close: Weight=0.270<br>K_Close: Weight=0.000<br>TMO_Close: Weight=0.357<br>EXC_Close: Weight=0.373",
                    "Return: 15.422%<br>Volatility: 0.113<br>Sharpe Ratio: 1.364<br>VZ_Close: Weight=0.274<br>RTX_Close: Weight=0.726<br>MRK_Close: Weight=0.000",
                    "Return: 35.782%<br>Volatility: 0.119<br>Sharpe Ratio: 3.010<br>GM_Close: Weight=0.056<br>ISRG_Close: Weight=0.390<br>RTX_Close: Weight=0.188<br>TXN_Close: Weight=0.366",
                    "Return: 29.618%<br>Volatility: 0.142<br>Sharpe Ratio: 2.086<br>SAP_Close: Weight=0.549<br>RDY_Close: Weight=0.000<br>AMZN_Close: Weight=0.451",
                    "Return: 25.253%<br>Volatility: 0.089<br>Sharpe Ratio: 2.852<br>AEP_Close: Weight=0.395<br>RTX_Close: Weight=0.149<br>MSFT_Close: Weight=0.456",
                    "Return: 29.959%<br>Volatility: 0.122<br>Sharpe Ratio: 2.452<br>PG_Close: Weight=0.195<br>QCOM_Close: Weight=0.021<br>DHR_Close: Weight=0.000<br>MSFT_Close: Weight=0.784",
                    "Return: 16.510%<br>Volatility: 0.095<br>Sharpe Ratio: 1.747<br>SYY_Close: Weight=0.342<br>GE_Close: Weight=0.000<br>AEP_Close: Weight=0.658",
                    "Return: 10.832%<br>Volatility: 0.102<br>Sharpe Ratio: 1.061<br>AMGN_Close: Weight=0.000<br>ORCL_Close: Weight=0.310<br>DHR_Close: Weight=0.448<br>BTI_Close: Weight=0.241",
                    "Return: 54.387%<br>Volatility: 0.119<br>Sharpe Ratio: 4.569<br>BA_Close: Weight=0.505<br>ABBV_Close: Weight=0.420<br>SYK_Close: Weight=0.075",
                    "Return: 21.560%<br>Volatility: 0.088<br>Sharpe Ratio: 2.454<br>NEE_Close: Weight=0.676<br>SYY_Close: Weight=0.253<br>VZ_Close: Weight=0.071",
                    "Return: 37.311%<br>Volatility: 0.110<br>Sharpe Ratio: 3.383<br>GOOGL_Close: Weight=0.061<br>PYPL_Close: Weight=0.348<br>NKE_Close: Weight=0.065<br>NEE_Close: Weight=0.527",
                    "Return: 80.734%<br>Volatility: 0.394<br>Sharpe Ratio: 2.051<br>MO_Close: Weight=0.000<br>SNAP_Close: Weight=0.000<br>NVDA_Close: Weight=1.000",
                    "Return: 24.407%<br>Volatility: 0.109<br>Sharpe Ratio: 2.237<br>SYK_Close: Weight=0.244<br>AMD_Close: Weight=0.000<br>ACN_Close: Weight=0.640<br>ETN_Close: Weight=0.115",
                    "Return: 32.212%<br>Volatility: 0.194<br>Sharpe Ratio: 1.657<br>XOM_Close: Weight=0.507<br>VRTX_Close: Weight=0.493<br>ZBH_Close: Weight=0.000",
                    "Return: 21.732%<br>Volatility: 0.155<br>Sharpe Ratio: 1.398<br>KR_Close: Weight=0.000<br>AMGN_Close: Weight=0.000<br>SYK_Close: Weight=1.000",
                    "Return: 14.706%<br>Volatility: 0.189<br>Sharpe Ratio: 0.777<br>GM_Close: Weight=1.000<br>GIS_Close: Weight=0.000<br>GE_Close: Weight=0.000",
                    "Return: 14.216%<br>Volatility: 0.097<br>Sharpe Ratio: 1.461<br>XOM_Close: Weight=0.192<br>RTX_Close: Weight=0.528<br>CSCO_Close: Weight=0.280",
                    "Return: 30.440%<br>Volatility: 0.121<br>Sharpe Ratio: 2.513<br>META_Close: Weight=0.093<br>PM_Close: Weight=0.000<br>V_Close: Weight=0.822<br>AAPL_Close: Weight=0.085",
                    "Return: 13.609%<br>Volatility: 0.075<br>Sharpe Ratio: 1.812<br>CVX_Close: Weight=0.288<br>REGN_Close: Weight=0.020<br>SRE_Close: Weight=0.000<br>KO_Close: Weight=0.692",
                    "Return: 34.512%<br>Volatility: 0.101<br>Sharpe Ratio: 3.431<br>DE_Close: Weight=0.289<br>HD_Close: Weight=0.369<br>MMM_Close: Weight=0.342",
                    "Return: 19.822%<br>Volatility: 0.136<br>Sharpe Ratio: 1.459<br>SYK_Close: Weight=0.827<br>NKE_Close: Weight=0.173<br>MDT_Close: Weight=0.000<br>RDY_Close: Weight=0.000",
                    "Return: 29.235%<br>Volatility: 0.111<br>Sharpe Ratio: 2.631<br>INTC_Close: Weight=0.191<br>PG_Close: Weight=0.119<br>MSFT_Close: Weight=0.520<br>EMR_Close: Weight=0.170",
                    "Return: 28.121%<br>Volatility: 0.128<br>Sharpe Ratio: 2.199<br>GOOG_Close: Weight=0.426<br>ETN_Close: Weight=0.128<br>INTC_Close: Weight=0.446",
                    "Return: 39.519%<br>Volatility: 0.137<br>Sharpe Ratio: 2.877<br>SNAP_Close: Weight=0.000<br>META_Close: Weight=0.385<br>T_Close: Weight=0.000<br>DE_Close: Weight=0.615",
                    "Return: 33.917%<br>Volatility: 0.193<br>Sharpe Ratio: 1.755<br>MS_Close: Weight=0.328<br>F_Close: Weight=0.000<br>BMY_Close: Weight=0.257<br>VRTX_Close: Weight=0.415",
                    "Return: 24.480%<br>Volatility: 0.150<br>Sharpe Ratio: 1.635<br>DIS_Close: Weight=0.037<br>CRM_Close: Weight=0.963<br>SO_Close: Weight=0.000<br>GILD_Close: Weight=0.000",
                    "Return: 34.904%<br>Volatility: 0.141<br>Sharpe Ratio: 2.475<br>T_Close: Weight=0.000<br>UNH_Close: Weight=1.000<br>GILD_Close: Weight=0.000",
                    "Return: 41.111%<br>Volatility: 0.126<br>Sharpe Ratio: 3.266<br>ABBV_Close: Weight=0.665<br>RDY_Close: Weight=0.000<br>CVX_Close: Weight=0.335",
                    "Return: 10.047%<br>Volatility: 0.095<br>Sharpe Ratio: 1.054<br>PM_Close: Weight=0.000<br>PFE_Close: Weight=0.593<br>VZ_Close: Weight=0.221<br>COST_Close: Weight=0.186",
                    "Return: 37.500%<br>Volatility: 0.144<br>Sharpe Ratio: 2.602<br>UA_Close: Weight=0.000<br>MO_Close: Weight=0.000<br>MA_Close: Weight=1.000<br>DHR_Close: Weight=0.000",
                    "Return: 48.590%<br>Volatility: 0.140<br>Sharpe Ratio: 3.465<br>GE_Close: Weight=0.000<br>PFE_Close: Weight=0.218<br>BA_Close: Weight=0.782",
                    "Return: 25.514%<br>Volatility: 0.087<br>Sharpe Ratio: 2.931<br>MMM_Close: Weight=0.374<br>CRM_Close: Weight=0.200<br>NEE_Close: Weight=0.426<br>BSX_Close: Weight=0.000",
                    "Return: 34.565%<br>Volatility: 0.128<br>Sharpe Ratio: 2.690<br>EMR_Close: Weight=0.373<br>SNAP_Close: Weight=0.000<br>WMT_Close: Weight=0.627",
                    "Return: 26.718%<br>Volatility: 0.104<br>Sharpe Ratio: 2.574<br>CMCSA_Close: Weight=0.097<br>DHR_Close: Weight=0.000<br>RTX_Close: Weight=0.157<br>V_Close: Weight=0.747",
                    "Return: 34.256%<br>Volatility: 0.124<br>Sharpe Ratio: 2.763<br>DIS_Close: Weight=0.083<br>MCD_Close: Weight=0.917<br>REGN_Close: Weight=0.000",
                    "Return: 49.283%<br>Volatility: 0.174<br>Sharpe Ratio: 2.826<br>COST_Close: Weight=0.139<br>ISRG_Close: Weight=0.637<br>EW_Close: Weight=0.000<br>NVDA_Close: Weight=0.223",
                    "Return: 23.070%<br>Volatility: 0.109<br>Sharpe Ratio: 2.124<br>MS_Close: Weight=0.097<br>AMZN_Close: Weight=0.415<br>PFE_Close: Weight=0.347<br>CSCO_Close: Weight=0.141",
                    "Return: 34.830%<br>Volatility: 0.162<br>Sharpe Ratio: 2.151<br>VRTX_Close: Weight=0.219<br>META_Close: Weight=0.574<br>TSLA_Close: Weight=0.038<br>MS_Close: Weight=0.169",
                    "Return: 45.238%<br>Volatility: 0.142<br>Sharpe Ratio: 3.195<br>PYPL_Close: Weight=0.462<br>NFLX_Close: Weight=0.016<br>BTI_Close: Weight=0.000<br>MMM_Close: Weight=0.521",
                    "Return: 41.781%<br>Volatility: 0.169<br>Sharpe Ratio: 2.477<br>GE_Close: Weight=0.000<br>CRM_Close: Weight=0.228<br>ISRG_Close: Weight=0.772<br>AMGN_Close: Weight=0.000",
                    "Return: 19.302%<br>Volatility: 0.108<br>Sharpe Ratio: 1.785<br>GOOGL_Close: Weight=0.611<br>AMD_Close: Weight=0.000<br>PG_Close: Weight=0.202<br>GM_Close: Weight=0.187",
                    "Return: 27.190%<br>Volatility: 0.096<br>Sharpe Ratio: 2.838<br>SYY_Close: Weight=0.284<br>GOOGL_Close: Weight=0.082<br>V_Close: Weight=0.634",
                    "Return: 34.996%<br>Volatility: 0.123<br>Sharpe Ratio: 2.835<br>MCD_Close: Weight=0.854<br>BAC_Close: Weight=0.146<br>CPB_Close: Weight=0.000",
                    "Return: 37.326%<br>Volatility: 0.143<br>Sharpe Ratio: 2.604<br>BIIB_Close: Weight=0.000<br>MA_Close: Weight=0.985<br>TSLA_Close: Weight=0.015",
                    "Return: 24.681%<br>Volatility: 0.093<br>Sharpe Ratio: 2.646<br>V_Close: Weight=0.655<br>REGN_Close: Weight=0.000<br>PEP_Close: Weight=0.345",
                    "Return: 19.920%<br>Volatility: 0.156<br>Sharpe Ratio: 1.276<br>JPM_Close: Weight=1.000<br>GIS_Close: Weight=0.000<br>AMGN_Close: Weight=0.000",
                    "Return: 9.162%<br>Volatility: 0.094<br>Sharpe Ratio: 0.973<br>PFE_Close: Weight=0.631<br>DHR_Close: Weight=0.369<br>GIS_Close: Weight=0.000",
                    "Return: 22.158%<br>Volatility: 0.124<br>Sharpe Ratio: 1.788<br>NKE_Close: Weight=0.127<br>MS_Close: Weight=0.190<br>GOOGL_Close: Weight=0.683",
                    "Return: 37.500%<br>Volatility: 0.144<br>Sharpe Ratio: 2.602<br>ORCL_Close: Weight=0.000<br>MA_Close: Weight=1.000<br>DHR_Close: Weight=0.000",
                    "Return: 39.519%<br>Volatility: 0.186<br>Sharpe Ratio: 2.123<br>META_Close: Weight=0.622<br>NFLX_Close: Weight=0.117<br>VRTX_Close: Weight=0.261",
                    "Return: 35.467%<br>Volatility: 0.119<br>Sharpe Ratio: 2.982<br>EXC_Close: Weight=0.247<br>WFC_Close: Weight=0.000<br>DE_Close: Weight=0.508<br>AMZN_Close: Weight=0.246",
                    "Return: 35.230%<br>Volatility: 0.115<br>Sharpe Ratio: 3.062<br>WMT_Close: Weight=0.470<br>XOM_Close: Weight=0.219<br>ADBE_Close: Weight=0.311",
                    "Return: 9.017%<br>Volatility: 0.105<br>Sharpe Ratio: 0.855<br>PFE_Close: Weight=0.978<br>GIS_Close: Weight=0.022<br>SNAP_Close: Weight=0.000<br>DIS_Close: Weight=0.000",
                    "Return: 14.448%<br>Volatility: 0.095<br>Sharpe Ratio: 1.523<br>AEP_Close: Weight=0.813<br>BMY_Close: Weight=0.187<br>GIS_Close: Weight=0.000<br>GE_Close: Weight=0.000",
                    "Return: 27.273%<br>Volatility: 0.129<br>Sharpe Ratio: 2.120<br>AMD_Close: Weight=0.000<br>MMM_Close: Weight=0.982<br>MO_Close: Weight=0.000<br>REGN_Close: Weight=0.018",
                    "Return: 18.118%<br>Volatility: 0.245<br>Sharpe Ratio: 0.741<br>F_Close: Weight=0.267<br>SRE_Close: Weight=0.070<br>TSLA_Close: Weight=0.662",
                    "Return: 25.614%<br>Volatility: 0.176<br>Sharpe Ratio: 1.454<br>NFLX_Close: Weight=0.500<br>WFC_Close: Weight=0.057<br>ETN_Close: Weight=0.443<br>F_Close: Weight=0.000",
                    "Return: 62.110%<br>Volatility: 0.191<br>Sharpe Ratio: 3.252<br>CSCO_Close: Weight=0.042<br>MO_Close: Weight=0.000<br>CPB_Close: Weight=0.000<br>CAT_Close: Weight=0.958",
                    "Return: 29.392%<br>Volatility: 0.081<br>Sharpe Ratio: 3.615<br>NEE_Close: Weight=0.405<br>AMZN_Close: Weight=0.134<br>HD_Close: Weight=0.426<br>AAPL_Close: Weight=0.035",
                    "Return: 27.386%<br>Volatility: 0.127<br>Sharpe Ratio: 2.160<br>ETN_Close: Weight=0.132<br>GOOGL_Close: Weight=0.401<br>INTC_Close: Weight=0.467",
                    "Return: 32.628%<br>Volatility: 0.176<br>Sharpe Ratio: 1.858<br>INTC_Close: Weight=1.000<br>MO_Close: Weight=0.000<br>BSX_Close: Weight=0.000",
                    "Return: 39.657%<br>Volatility: 0.127<br>Sharpe Ratio: 3.113<br>MCD_Close: Weight=0.731<br>ADBE_Close: Weight=0.269<br>MO_Close: Weight=0.000<br>MDT_Close: Weight=0.000",
                    "Return: 15.867%<br>Volatility: 0.102<br>Sharpe Ratio: 1.556<br>LLY_Close: Weight=0.000<br>JNJ_Close: Weight=0.851<br>IBM_Close: Weight=0.000<br>CMCSA_Close: Weight=0.149",
                    "Return: 19.212%<br>Volatility: 0.101<br>Sharpe Ratio: 1.900<br>GE_Close: Weight=0.000<br>SYY_Close: Weight=0.401<br>ORCL_Close: Weight=0.171<br>SYK_Close: Weight=0.427",
                    "Return: 24.236%<br>Volatility: 0.080<br>Sharpe Ratio: 3.048<br>RMD_Close: Weight=0.048<br>HON_Close: Weight=0.554<br>NEE_Close: Weight=0.399",
                    "Return: 31.317%<br>Volatility: 0.123<br>Sharpe Ratio: 2.537<br>MSFT_Close: Weight=0.713<br>COST_Close: Weight=0.076<br>EMR_Close: Weight=0.211",
                    "Return: 17.861%<br>Volatility: 0.180<br>Sharpe Ratio: 0.994<br>GS_Close: Weight=0.010<br>LLY_Close: Weight=0.251<br>EW_Close: Weight=0.739",
                    "Return: 64.778%<br>Volatility: 0.312<br>Sharpe Ratio: 2.079<br>AMD_Close: Weight=0.000<br>NVDA_Close: Weight=0.732<br>QCOM_Close: Weight=0.181<br>TSLA_Close: Weight=0.087",
                    "Return: 18.301%<br>Volatility: 0.080<br>Sharpe Ratio: 2.275<br>F_Close: Weight=0.140<br>KR_Close: Weight=0.000<br>NEE_Close: Weight=0.641<br>PEP_Close: Weight=0.220",
                    "Return: 26.298%<br>Volatility: 0.141<br>Sharpe Ratio: 1.860<br>NKE_Close: Weight=0.148<br>QCOM_Close: Weight=0.113<br>META_Close: Weight=0.738<br>MDT_Close: Weight=0.000",
                    "Return: 3.330%<br>Volatility: 0.148<br>Sharpe Ratio: 0.225<br>ZBH_Close: Weight=0.573<br>DIS_Close: Weight=0.000<br>GS_Close: Weight=0.427",
                    "Return: 45.901%<br>Volatility: 0.148<br>Sharpe Ratio: 3.111<br>TMO_Close: Weight=0.216<br>PG_Close: Weight=0.023<br>ABBV_Close: Weight=0.761",
                    "Return: 25.175%<br>Volatility: 0.089<br>Sharpe Ratio: 2.843<br>AEP_Close: Weight=0.485<br>GS_Close: Weight=0.000<br>NKE_Close: Weight=0.049<br>TXN_Close: Weight=0.466",
                    "Return: 18.356%<br>Volatility: 0.106<br>Sharpe Ratio: 1.730<br>DUK_Close: Weight=0.369<br>T_Close: Weight=0.000<br>CRM_Close: Weight=0.631",
                    "Return: 35.667%<br>Volatility: 0.197<br>Sharpe Ratio: 1.807<br>CPB_Close: Weight=0.000<br>VRTX_Close: Weight=0.432<br>CSCO_Close: Weight=0.568",
                    "Return: 24.441%<br>Volatility: 0.097<br>Sharpe Ratio: 2.521<br>VRTX_Close: Weight=0.111<br>DIS_Close: Weight=0.006<br>GOOG_Close: Weight=0.339<br>AEP_Close: Weight=0.544",
                    "Return: 33.132%<br>Volatility: 0.109<br>Sharpe Ratio: 3.050<br>V_Close: Weight=0.587<br>SYY_Close: Weight=0.299<br>NVDA_Close: Weight=0.114",
                    "Return: 30.908%<br>Volatility: 0.105<br>Sharpe Ratio: 2.948<br>MMM_Close: Weight=0.437<br>DHR_Close: Weight=0.000<br>UNH_Close: Weight=0.525<br>VZ_Close: Weight=0.037",
                    "Return: 17.274%<br>Volatility: 0.108<br>Sharpe Ratio: 1.599<br>JNJ_Close: Weight=0.831<br>QCOM_Close: Weight=0.169<br>F_Close: Weight=0.000",
                    "Return: 44.973%<br>Volatility: 0.128<br>Sharpe Ratio: 3.504<br>GILD_Close: Weight=0.000<br>ABBV_Close: Weight=0.526<br>UNH_Close: Weight=0.474<br>PM_Close: Weight=0.000",
                    "Return: 29.862%<br>Volatility: 0.100<br>Sharpe Ratio: 2.999<br>EXC_Close: Weight=0.244<br>ACN_Close: Weight=0.368<br>WMT_Close: Weight=0.389",
                    "Return: 33.458%<br>Volatility: 0.119<br>Sharpe Ratio: 2.821<br>UNH_Close: Weight=0.665<br>REGN_Close: Weight=0.000<br>META_Close: Weight=0.335",
                    "Return: 41.863%<br>Volatility: 0.255<br>Sharpe Ratio: 1.642<br>WFC_Close: Weight=0.355<br>VRTX_Close: Weight=0.645<br>SO_Close: Weight=0.000",
                    "Return: 19.892%<br>Volatility: 0.112<br>Sharpe Ratio: 1.776<br>PG_Close: Weight=0.216<br>RMD_Close: Weight=0.185<br>REGN_Close: Weight=0.000<br>CRM_Close: Weight=0.599",
                    "Return: 22.018%<br>Volatility: 0.114<br>Sharpe Ratio: 1.924<br>AAPL_Close: Weight=0.344<br>SAP_Close: Weight=0.540<br>BMY_Close: Weight=0.116",
                    "Return: 42.710%<br>Volatility: 0.117<br>Sharpe Ratio: 3.650<br>DE_Close: Weight=0.353<br>MCD_Close: Weight=0.541<br>RDY_Close: Weight=0.000<br>VRTX_Close: Weight=0.106",
                    "Return: 19.835%<br>Volatility: 0.097<br>Sharpe Ratio: 2.046<br>JNJ_Close: Weight=0.481<br>CRM_Close: Weight=0.386<br>ETN_Close: Weight=0.132",
                    "Return: 23.943%<br>Volatility: 0.127<br>Sharpe Ratio: 1.891<br>T_Close: Weight=0.000<br>WFC_Close: Weight=0.081<br>GOOG_Close: Weight=0.577<br>SYK_Close: Weight=0.341",
                    "Return: 0.821%<br>Volatility: 0.152<br>Sharpe Ratio: 0.054<br>AMD_Close: Weight=0.000<br>PM_Close: Weight=0.000<br>MDT_Close: Weight=1.000<br>DIS_Close: Weight=0.000",
                    "Return: 44.999%<br>Volatility: 0.145<br>Sharpe Ratio: 3.107<br>NKE_Close: Weight=0.064<br>MO_Close: Weight=0.000<br>PYPL_Close: Weight=0.574<br>SYY_Close: Weight=0.362",
                    "Return: 27.472%<br>Volatility: 0.103<br>Sharpe Ratio: 2.679<br>BMY_Close: Weight=0.006<br>ACN_Close: Weight=0.483<br>MMM_Close: Weight=0.512",
                    "Return: 5.763%<br>Volatility: 0.096<br>Sharpe Ratio: 0.599<br>PG_Close: Weight=0.601<br>CMCSA_Close: Weight=0.328<br>F_Close: Weight=0.071",
                    "Return: 36.928%<br>Volatility: 0.114<br>Sharpe Ratio: 3.238<br>T_Close: Weight=0.000<br>SAP_Close: Weight=0.000<br>V_Close: Weight=0.579<br>DE_Close: Weight=0.421",
                    "Return: 55.138%<br>Volatility: 0.161<br>Sharpe Ratio: 3.423<br>MS_Close: Weight=0.013<br>BA_Close: Weight=0.911<br>MDT_Close: Weight=0.000<br>DHR_Close: Weight=0.076",
                    "Return: 47.298%<br>Volatility: 0.157<br>Sharpe Ratio: 3.007<br>CPB_Close: Weight=0.000<br>EMR_Close: Weight=0.319<br>PYPL_Close: Weight=0.600<br>TMO_Close: Weight=0.081",
                    "Return: 31.293%<br>Volatility: 0.108<br>Sharpe Ratio: 2.906<br>COST_Close: Weight=0.056<br>RTX_Close: Weight=0.231<br>MCD_Close: Weight=0.713",
                    "Return: 48.529%<br>Volatility: 0.158<br>Sharpe Ratio: 3.067<br>COST_Close: Weight=0.129<br>K_Close: Weight=0.000<br>ABBV_Close: Weight=0.871",
                    "Return: 54.558%<br>Volatility: 0.159<br>Sharpe Ratio: 3.438<br>TSLA_Close: Weight=0.042<br>UA_Close: Weight=0.000<br>DHR_Close: Weight=0.071<br>BA_Close: Weight=0.887",
                    "Return: 49.251%<br>Volatility: 0.135<br>Sharpe Ratio: 3.653<br>HD_Close: Weight=0.469<br>CAT_Close: Weight=0.531<br>DHR_Close: Weight=0.000<br>MRK_Close: Weight=0.000",
                    "Return: 23.273%<br>Volatility: 0.080<br>Sharpe Ratio: 2.927<br>V_Close: Weight=0.465<br>EMR_Close: Weight=0.169<br>BMY_Close: Weight=0.028<br>AEP_Close: Weight=0.338",
                    "Return: 41.340%<br>Volatility: 0.133<br>Sharpe Ratio: 3.103<br>GILD_Close: Weight=0.000<br>VRTX_Close: Weight=0.161<br>MCD_Close: Weight=0.839",
                    "Return: 31.864%<br>Volatility: 0.091<br>Sharpe Ratio: 3.497<br>MMM_Close: Weight=0.383<br>TMO_Close: Weight=0.039<br>SAP_Close: Weight=0.085<br>MCD_Close: Weight=0.493",
                    "Return: 36.238%<br>Volatility: 0.111<br>Sharpe Ratio: 3.260<br>UNH_Close: Weight=0.486<br>ETN_Close: Weight=0.000<br>MA_Close: Weight=0.514",
                    "Return: 31.877%<br>Volatility: 0.108<br>Sharpe Ratio: 2.939<br>AMZN_Close: Weight=0.116<br>MA_Close: Weight=0.442<br>RTX_Close: Weight=0.120<br>ACN_Close: Weight=0.322",
                    "Return: 51.703%<br>Volatility: 0.139<br>Sharpe Ratio: 3.712<br>GS_Close: Weight=0.000<br>K_Close: Weight=0.000<br>MSFT_Close: Weight=0.453<br>CAT_Close: Weight=0.547",
                    "Return: 20.310%<br>Volatility: 0.111<br>Sharpe Ratio: 1.823<br>CVX_Close: Weight=0.493<br>PM_Close: Weight=0.000<br>AAPL_Close: Weight=0.507",
                    "Return: 18.937%<br>Volatility: 0.088<br>Sharpe Ratio: 2.146<br>EXC_Close: Weight=0.225<br>GOOG_Close: Weight=0.416<br>SO_Close: Weight=0.000<br>PEP_Close: Weight=0.359",
                    "Return: 27.057%<br>Volatility: 0.089<br>Sharpe Ratio: 3.045<br>CSCO_Close: Weight=0.019<br>DE_Close: Weight=0.416<br>PEP_Close: Weight=0.239<br>AEP_Close: Weight=0.326",
                    "Return: 38.936%<br>Volatility: 0.135<br>Sharpe Ratio: 2.878<br>NKE_Close: Weight=0.019<br>DE_Close: Weight=0.601<br>MDT_Close: Weight=0.000<br>META_Close: Weight=0.380",
                    "Return: 28.590%<br>Volatility: 0.149<br>Sharpe Ratio: 1.917<br>AMZN_Close: Weight=0.674<br>CPB_Close: Weight=0.000<br>LLY_Close: Weight=0.132<br>NKE_Close: Weight=0.194",
                    "Return: 36.818%<br>Volatility: 0.108<br>Sharpe Ratio: 3.411<br>MA_Close: Weight=0.475<br>WMT_Close: Weight=0.367<br>EMR_Close: Weight=0.158",
                    "Return: 28.382%<br>Volatility: 0.103<br>Sharpe Ratio: 2.758<br>PEP_Close: Weight=0.311<br>SYK_Close: Weight=0.090<br>MA_Close: Weight=0.599",
                    "Return: 23.961%<br>Volatility: 0.118<br>Sharpe Ratio: 2.026<br>COST_Close: Weight=0.178<br>META_Close: Weight=0.433<br>CRM_Close: Weight=0.332<br>LLY_Close: Weight=0.057",
                    "Return: 49.558%<br>Volatility: 0.186<br>Sharpe Ratio: 2.667<br>ISRG_Close: Weight=0.799<br>VRTX_Close: Weight=0.201<br>SO_Close: Weight=0.000",
                    "Return: 23.763%<br>Volatility: 0.128<br>Sharpe Ratio: 1.862<br>BIIB_Close: Weight=0.010<br>IBM_Close: Weight=0.000<br>SYK_Close: Weight=0.416<br>CRM_Close: Weight=0.574",
                    "Return: 33.172%<br>Volatility: 0.117<br>Sharpe Ratio: 2.829<br>ISRG_Close: Weight=0.400<br>TMO_Close: Weight=0.028<br>LMT_Close: Weight=0.572",
                    "Return: 13.964%<br>Volatility: 0.103<br>Sharpe Ratio: 1.351<br>ZBH_Close: Weight=0.000<br>RTX_Close: Weight=0.611<br>PFE_Close: Weight=0.389",
                    "Return: 42.237%<br>Volatility: 0.183<br>Sharpe Ratio: 2.313<br>GS_Close: Weight=0.000<br>ADBE_Close: Weight=0.535<br>AMZN_Close: Weight=0.465",
                    "Return: 17.968%<br>Volatility: 0.078<br>Sharpe Ratio: 2.292<br>BMY_Close: Weight=0.104<br>NFLX_Close: Weight=0.106<br>AAPL_Close: Weight=0.192<br>KO_Close: Weight=0.597",
                    "Return: 49.255%<br>Volatility: 0.174<br>Sharpe Ratio: 2.831<br>GOOG_Close: Weight=0.210<br>ISRG_Close: Weight=0.596<br>NVDA_Close: Weight=0.194<br>QCOM_Close: Weight=0.000",
                    "Return: 14.490%<br>Volatility: 0.139<br>Sharpe Ratio: 1.040<br>REGN_Close: Weight=0.000<br>MS_Close: Weight=0.588<br>BTI_Close: Weight=0.412",
                    "Return: 16.741%<br>Volatility: 0.103<br>Sharpe Ratio: 1.631<br>CSCO_Close: Weight=0.265<br>SRE_Close: Weight=0.000<br>JNJ_Close: Weight=0.735<br>SNAP_Close: Weight=0.000",
                    "Return: 28.115%<br>Volatility: 0.094<br>Sharpe Ratio: 2.988<br>INTC_Close: Weight=0.271<br>HD_Close: Weight=0.508<br>EXC_Close: Weight=0.221<br>BSX_Close: Weight=0.000",
                    "Return: 47.967%<br>Volatility: 0.131<br>Sharpe Ratio: 3.668<br>BABA_Close: Weight=0.270<br>ABBV_Close: Weight=0.534<br>EXC_Close: Weight=0.196",
                    "Return: 39.548%<br>Volatility: 0.140<br>Sharpe Ratio: 2.816<br>META_Close: Weight=0.134<br>INTC_Close: Weight=0.351<br>ISRG_Close: Weight=0.515",
                    "Return: 11.911%<br>Volatility: 0.146<br>Sharpe Ratio: 0.818<br>XOM_Close: Weight=0.639<br>DIS_Close: Weight=0.000<br>TSLA_Close: Weight=0.361",
                    "Return: 34.223%<br>Volatility: 0.150<br>Sharpe Ratio: 2.287<br>XOM_Close: Weight=0.222<br>NVDA_Close: Weight=0.256<br>GOOGL_Close: Weight=0.379<br>RMD_Close: Weight=0.142",
                    "Return: 55.257%<br>Volatility: 0.135<br>Sharpe Ratio: 4.097<br>ISRG_Close: Weight=0.340<br>BA_Close: Weight=0.593<br>VRTX_Close: Weight=0.067",
                    "Return: 15.342%<br>Volatility: 0.097<br>Sharpe Ratio: 1.578<br>TMO_Close: Weight=0.439<br>PFE_Close: Weight=0.258<br>CMCSA_Close: Weight=0.134<br>ORCL_Close: Weight=0.169",
                    "Return: 14.608%<br>Volatility: 0.080<br>Sharpe Ratio: 1.830<br>BIIB_Close: Weight=0.027<br>CVX_Close: Weight=0.312<br>JNJ_Close: Weight=0.504<br>DUK_Close: Weight=0.157",
                    "Return: 22.258%<br>Volatility: 0.134<br>Sharpe Ratio: 1.662<br>CRM_Close: Weight=0.803<br>DHR_Close: Weight=0.197<br>SNAP_Close: Weight=0.000",
                    "Return: 32.454%<br>Volatility: 0.135<br>Sharpe Ratio: 2.404<br>COST_Close: Weight=0.000<br>HD_Close: Weight=1.000<br>AMGN_Close: Weight=0.000<br>GE_Close: Weight=0.000",
                    "Return: 19.685%<br>Volatility: 0.127<br>Sharpe Ratio: 1.551<br>LLY_Close: Weight=0.000<br>GM_Close: Weight=0.291<br>ZBH_Close: Weight=0.000<br>SYK_Close: Weight=0.709",
                    "Return: 14.627%<br>Volatility: 0.133<br>Sharpe Ratio: 1.100<br>AMD_Close: Weight=0.000<br>CVX_Close: Weight=0.909<br>WFC_Close: Weight=0.091",
                    "Return: 17.979%<br>Volatility: 0.083<br>Sharpe Ratio: 2.157<br>AMD_Close: Weight=0.000<br>ORCL_Close: Weight=0.079<br>AEP_Close: Weight=0.507<br>SAP_Close: Weight=0.413",
                    "Return: 16.111%<br>Volatility: 0.164<br>Sharpe Ratio: 0.982<br>UA_Close: Weight=0.000<br>CSCO_Close: Weight=1.000<br>GE_Close: Weight=0.000",
                    "Return: 34.337%<br>Volatility: 0.194<br>Sharpe Ratio: 1.772<br>COST_Close: Weight=0.268<br>MS_Close: Weight=0.305<br>VRTX_Close: Weight=0.427",
                    "Return: 29.849%<br>Volatility: 0.121<br>Sharpe Ratio: 2.476<br>EMR_Close: Weight=0.158<br>MS_Close: Weight=0.044<br>DIS_Close: Weight=0.000<br>HD_Close: Weight=0.799",
                    "Return: 20.195%<br>Volatility: 0.113<br>Sharpe Ratio: 1.784<br>VZ_Close: Weight=0.222<br>SAP_Close: Weight=0.703<br>TSLA_Close: Weight=0.075",
                    "Return: 34.904%<br>Volatility: 0.141<br>Sharpe Ratio: 2.475<br>GIS_Close: Weight=0.000<br>GILD_Close: Weight=0.000<br>DIS_Close: Weight=0.000<br>UNH_Close: Weight=1.000",
                    "Return: 36.422%<br>Volatility: 0.129<br>Sharpe Ratio: 2.834<br>GILD_Close: Weight=0.000<br>TXN_Close: Weight=0.350<br>MA_Close: Weight=0.604<br>MS_Close: Weight=0.046",
                    "Return: 35.870%<br>Volatility: 0.156<br>Sharpe Ratio: 2.304<br>CSCO_Close: Weight=0.060<br>QCOM_Close: Weight=0.000<br>ZBH_Close: Weight=0.000<br>TXN_Close: Weight=0.940",
                    "Return: 32.759%<br>Volatility: 0.130<br>Sharpe Ratio: 2.513<br>EMR_Close: Weight=0.184<br>INTC_Close: Weight=0.283<br>TXN_Close: Weight=0.533",
                    "Return: 18.024%<br>Volatility: 0.135<br>Sharpe Ratio: 1.338<br>AMD_Close: Weight=0.000<br>EMR_Close: Weight=0.752<br>COST_Close: Weight=0.248<br>KR_Close: Weight=0.000",
                    "Return: 42.390%<br>Volatility: 0.172<br>Sharpe Ratio: 2.459<br>ISRG_Close: Weight=0.831<br>UA_Close: Weight=0.000<br>K_Close: Weight=0.000<br>SYK_Close: Weight=0.169",
                    "Return: 17.183%<br>Volatility: 0.080<br>Sharpe Ratio: 2.159<br>BAC_Close: Weight=0.274<br>EW_Close: Weight=0.082<br>AEP_Close: Weight=0.645<br>PG_Close: Weight=0.000",
                    "Return: 31.196%<br>Volatility: 0.124<br>Sharpe Ratio: 2.519<br>TXN_Close: Weight=0.573<br>PM_Close: Weight=0.000<br>GOOGL_Close: Weight=0.169<br>TMO_Close: Weight=0.258",
                    "Return: 43.754%<br>Volatility: 0.179<br>Sharpe Ratio: 2.441<br>IBM_Close: Weight=0.000<br>GILD_Close: Weight=0.000<br>F_Close: Weight=0.065<br>ISRG_Close: Weight=0.935",
                    "Return: 13.318%<br>Volatility: 0.143<br>Sharpe Ratio: 0.930<br>GM_Close: Weight=0.603<br>DIS_Close: Weight=0.000<br>COST_Close: Weight=0.397",
                    "Return: 55.425%<br>Volatility: 0.199<br>Sharpe Ratio: 2.790<br>QCOM_Close: Weight=0.000<br>ISRG_Close: Weight=0.741<br>NVDA_Close: Weight=0.259",
                    "Return: 23.003%<br>Volatility: 0.109<br>Sharpe Ratio: 2.117<br>ACN_Close: Weight=0.760<br>PFE_Close: Weight=0.240<br>GILD_Close: Weight=0.000",
                    "Return: 28.169%<br>Volatility: 0.084<br>Sharpe Ratio: 3.350<br>WFC_Close: Weight=0.000<br>KO_Close: Weight=0.302<br>MMM_Close: Weight=0.385<br>WMT_Close: Weight=0.313",
                    "Return: 32.870%<br>Volatility: 0.136<br>Sharpe Ratio: 2.421<br>TXN_Close: Weight=0.655<br>GOOGL_Close: Weight=0.233<br>EW_Close: Weight=0.112<br>IBM_Close: Weight=0.000",
                    "Return: 29.952%<br>Volatility: 0.105<br>Sharpe Ratio: 2.864<br>EXC_Close: Weight=0.167<br>V_Close: Weight=0.478<br>PM_Close: Weight=0.000<br>MSFT_Close: Weight=0.355",
                    "Return: 19.635%<br>Volatility: 0.100<br>Sharpe Ratio: 1.969<br>SRE_Close: Weight=0.000<br>JNJ_Close: Weight=0.507<br>SAP_Close: Weight=0.493",
                    "Return: 26.987%<br>Volatility: 0.107<br>Sharpe Ratio: 2.518<br>V_Close: Weight=0.772<br>PG_Close: Weight=0.126<br>AAPL_Close: Weight=0.102",
                    "Return: 32.788%<br>Volatility: 0.107<br>Sharpe Ratio: 3.063<br>MCD_Close: Weight=0.650<br>F_Close: Weight=0.009<br>GOOG_Close: Weight=0.283<br>CMCSA_Close: Weight=0.059",
                    "Return: 42.455%<br>Volatility: 0.112<br>Sharpe Ratio: 3.794<br>ISRG_Close: Weight=0.245<br>LMT_Close: Weight=0.329<br>K_Close: Weight=0.000<br>ABBV_Close: Weight=0.426",
                    "Return: 24.504%<br>Volatility: 0.119<br>Sharpe Ratio: 2.062<br>GOOG_Close: Weight=0.587<br>EMR_Close: Weight=0.373<br>MS_Close: Weight=0.040",
                    "Return: 44.770%<br>Volatility: 0.171<br>Sharpe Ratio: 2.613<br>SNAP_Close: Weight=0.000<br>IBM_Close: Weight=0.000<br>NFLX_Close: Weight=0.219<br>ISRG_Close: Weight=0.781",
                    "Return: 22.884%<br>Volatility: 0.103<br>Sharpe Ratio: 2.216<br>PFE_Close: Weight=0.097<br>ZBH_Close: Weight=0.000<br>PM_Close: Weight=0.000<br>LMT_Close: Weight=0.903",
                    "Return: 18.423%<br>Volatility: 0.185<br>Sharpe Ratio: 0.997<br>GM_Close: Weight=0.674<br>PM_Close: Weight=0.000<br>TSLA_Close: Weight=0.326",
                    "Return: 50.094%<br>Volatility: 0.134<br>Sharpe Ratio: 3.729<br>PG_Close: Weight=0.000<br>DE_Close: Weight=0.443<br>BIIB_Close: Weight=0.000<br>ABBV_Close: Weight=0.557",
                    "Return: 61.022%<br>Volatility: 0.239<br>Sharpe Ratio: 2.557<br>NVDA_Close: Weight=0.292<br>BABA_Close: Weight=0.608<br>UA_Close: Weight=0.000<br>SRE_Close: Weight=0.101",
                    "Return: 25.186%<br>Volatility: 0.095<br>Sharpe Ratio: 2.650<br>LMT_Close: Weight=0.576<br>SYK_Close: Weight=0.090<br>VZ_Close: Weight=0.080<br>INTC_Close: Weight=0.254",
                    "Return: 26.500%<br>Volatility: 0.121<br>Sharpe Ratio: 2.189<br>KR_Close: Weight=0.000<br>ACN_Close: Weight=0.822<br>EW_Close: Weight=0.178<br>AMGN_Close: Weight=0.000",
                    "Return: 23.415%<br>Volatility: 0.085<br>Sharpe Ratio: 2.762<br>META_Close: Weight=0.224<br>JNJ_Close: Weight=0.237<br>ORCL_Close: Weight=0.052<br>LMT_Close: Weight=0.487",
                    "Return: 26.156%<br>Volatility: 0.097<br>Sharpe Ratio: 2.695<br>V_Close: Weight=0.656<br>JNJ_Close: Weight=0.344<br>GIS_Close: Weight=0.000",
                    "Return: 25.082%<br>Volatility: 0.120<br>Sharpe Ratio: 2.082<br>INTC_Close: Weight=0.525<br>CSCO_Close: Weight=0.121<br>RTX_Close: Weight=0.354",
                    "Return: 23.646%<br>Volatility: 0.113<br>Sharpe Ratio: 2.091<br>NFLX_Close: Weight=0.124<br>AMZN_Close: Weight=0.391<br>COST_Close: Weight=0.172<br>DUK_Close: Weight=0.313",
                    "Return: 32.277%<br>Volatility: 0.114<br>Sharpe Ratio: 2.823<br>AMD_Close: Weight=0.000<br>MMM_Close: Weight=0.519<br>TXN_Close: Weight=0.481<br>MRK_Close: Weight=0.000",
                    "Return: 15.464%<br>Volatility: 0.081<br>Sharpe Ratio: 1.907<br>JPM_Close: Weight=0.326<br>ZBH_Close: Weight=0.000<br>PEP_Close: Weight=0.558<br>CSCO_Close: Weight=0.116",
                    "Return: 30.580%<br>Volatility: 0.121<br>Sharpe Ratio: 2.527<br>GOOG_Close: Weight=0.121<br>VZ_Close: Weight=0.199<br>MSFT_Close: Weight=0.681",
                    "Return: 33.636%<br>Volatility: 0.137<br>Sharpe Ratio: 2.448<br>EXC_Close: Weight=0.397<br>GOOG_Close: Weight=0.378<br>NVDA_Close: Weight=0.225",
                    "Return: 26.007%<br>Volatility: 0.095<br>Sharpe Ratio: 2.742<br>MMM_Close: Weight=0.347<br>HON_Close: Weight=0.653<br>AMGN_Close: Weight=0.000",
                    "Return: 55.199%<br>Volatility: 0.144<br>Sharpe Ratio: 3.834<br>SNAP_Close: Weight=0.000<br>CAT_Close: Weight=0.577<br>UA_Close: Weight=0.000<br>WMT_Close: Weight=0.423",
                    "Return: 26.322%<br>Volatility: 0.101<br>Sharpe Ratio: 2.594<br>META_Close: Weight=0.315<br>LMT_Close: Weight=0.685<br>SRE_Close: Weight=0.000<br>GILD_Close: Weight=0.000",
                    "Return: 32.995%<br>Volatility: 0.130<br>Sharpe Ratio: 2.535<br>TMO_Close: Weight=0.245<br>REGN_Close: Weight=0.000<br>MDT_Close: Weight=0.000<br>MSFT_Close: Weight=0.755",
                    "Return: 35.389%<br>Volatility: 0.141<br>Sharpe Ratio: 2.502<br>ISRG_Close: Weight=0.700<br>SRE_Close: Weight=0.000<br>PFE_Close: Weight=0.300",
                    "Return: 28.898%<br>Volatility: 0.145<br>Sharpe Ratio: 1.986<br>SO_Close: Weight=0.000<br>GS_Close: Weight=0.000<br>AMZN_Close: Weight=0.648<br>VZ_Close: Weight=0.352",
                    "Return: 15.149%<br>Volatility: 0.106<br>Sharpe Ratio: 1.424<br>AEP_Close: Weight=1.000<br>T_Close: Weight=0.000<br>RDY_Close: Weight=0.000",
                    "Return: 23.802%<br>Volatility: 0.085<br>Sharpe Ratio: 2.797<br>AEP_Close: Weight=0.345<br>BIIB_Close: Weight=0.000<br>RTX_Close: Weight=0.123<br>V_Close: Weight=0.532",
                    "Return: 19.568%<br>Volatility: 0.116<br>Sharpe Ratio: 1.692<br>GOOGL_Close: Weight=0.717<br>F_Close: Weight=0.009<br>XOM_Close: Weight=0.274<br>MO_Close: Weight=0.000",
                    "Return: 35.116%<br>Volatility: 0.106<br>Sharpe Ratio: 3.326<br>LMT_Close: Weight=0.415<br>WMT_Close: Weight=0.357<br>TSLA_Close: Weight=0.039<br>ADBE_Close: Weight=0.189",
                    "Return: 17.089%<br>Volatility: 0.143<br>Sharpe Ratio: 1.197<br>SYY_Close: Weight=0.861<br>MO_Close: Weight=0.000<br>LLY_Close: Weight=0.139<br>UA_Close: Weight=0.000",
                    "Return: 26.260%<br>Volatility: 0.122<br>Sharpe Ratio: 2.144<br>F_Close: Weight=0.000<br>BIIB_Close: Weight=0.084<br>MMM_Close: Weight=0.916",
                    "Return: 19.445%<br>Volatility: 0.134<br>Sharpe Ratio: 1.453<br>GILD_Close: Weight=0.066<br>NKE_Close: Weight=0.162<br>NFLX_Close: Weight=0.418<br>XOM_Close: Weight=0.354",
                    "Return: 38.222%<br>Volatility: 0.158<br>Sharpe Ratio: 2.415<br>WMT_Close: Weight=0.856<br>CMCSA_Close: Weight=0.144<br>IBM_Close: Weight=0.000",
                    "Return: 27.481%<br>Volatility: 0.099<br>Sharpe Ratio: 2.765<br>BABA_Close: Weight=0.335<br>DUK_Close: Weight=0.368<br>CVX_Close: Weight=0.297",
                    "Return: 38.500%<br>Volatility: 0.123<br>Sharpe Ratio: 3.134<br>WMT_Close: Weight=0.441<br>ADBE_Close: Weight=0.334<br>SYY_Close: Weight=0.225",
                    "Return: 17.089%<br>Volatility: 0.143<br>Sharpe Ratio: 1.197<br>LLY_Close: Weight=0.139<br>SYY_Close: Weight=0.861<br>SO_Close: Weight=0.000",
                    "Return: 22.642%<br>Volatility: 0.081<br>Sharpe Ratio: 2.800<br>ACN_Close: Weight=0.363<br>NEE_Close: Weight=0.478<br>PFE_Close: Weight=0.159<br>GILD_Close: Weight=0.000",
                    "Return: 44.538%<br>Volatility: 0.160<br>Sharpe Ratio: 2.789<br>MA_Close: Weight=0.837<br>GIS_Close: Weight=0.000<br>ORCL_Close: Weight=0.000<br>NVDA_Close: Weight=0.163",
                    "Return: 25.140%<br>Volatility: 0.114<br>Sharpe Ratio: 2.204<br>RTX_Close: Weight=0.244<br>PM_Close: Weight=0.000<br>MMM_Close: Weight=0.756<br>RDY_Close: Weight=0.000",
                    "Return: 32.925%<br>Volatility: 0.120<br>Sharpe Ratio: 2.750<br>RMD_Close: Weight=0.074<br>VRTX_Close: Weight=0.125<br>TMO_Close: Weight=0.112<br>V_Close: Weight=0.689",
                    "Return: 11.180%<br>Volatility: 0.131<br>Sharpe Ratio: 0.850<br>SRE_Close: Weight=0.000<br>BTI_Close: Weight=0.518<br>COST_Close: Weight=0.482",
                    "Return: 54.311%<br>Volatility: 0.142<br>Sharpe Ratio: 3.836<br>REGN_Close: Weight=0.017<br>CAT_Close: Weight=0.569<br>WMT_Close: Weight=0.414",
                    "Return: 30.439%<br>Volatility: 0.092<br>Sharpe Ratio: 3.291<br>ACN_Close: Weight=0.320<br>UNH_Close: Weight=0.393<br>MMM_Close: Weight=0.287",
                    "Return: 39.245%<br>Volatility: 0.125<br>Sharpe Ratio: 3.141<br>AAPL_Close: Weight=0.117<br>MCD_Close: Weight=0.748<br>VRTX_Close: Weight=0.134",
                    "Return: 28.572%<br>Volatility: 0.152<br>Sharpe Ratio: 1.878<br>DHR_Close: Weight=0.124<br>CSCO_Close: Weight=0.373<br>COST_Close: Weight=0.188<br>VRTX_Close: Weight=0.315",
                    "Return: 33.773%<br>Volatility: 0.117<br>Sharpe Ratio: 2.889<br>MCD_Close: Weight=0.764<br>AMD_Close: Weight=0.000<br>SYK_Close: Weight=0.236",
                    "Return: 14.493%<br>Volatility: 0.141<br>Sharpe Ratio: 1.026<br>MS_Close: Weight=0.569<br>ZBH_Close: Weight=0.000<br>MRK_Close: Weight=0.000<br>BMY_Close: Weight=0.431",
                    "Return: 32.454%<br>Volatility: 0.135<br>Sharpe Ratio: 2.404<br>GE_Close: Weight=0.000<br>DIS_Close: Weight=0.000<br>GS_Close: Weight=0.000<br>HD_Close: Weight=1.000",
                    "Return: 22.281%<br>Volatility: 0.134<br>Sharpe Ratio: 1.660<br>BTI_Close: Weight=0.075<br>WFC_Close: Weight=0.112<br>CRM_Close: Weight=0.813<br>MRK_Close: Weight=0.000",
                    "Return: 37.529%<br>Volatility: 0.139<br>Sharpe Ratio: 2.707<br>BSX_Close: Weight=0.000<br>AMGN_Close: Weight=0.000<br>DE_Close: Weight=0.675<br>SYK_Close: Weight=0.325",
                    "Return: 43.095%<br>Volatility: 0.114<br>Sharpe Ratio: 3.779<br>IBM_Close: Weight=0.000<br>CAT_Close: Weight=0.471<br>K_Close: Weight=0.000<br>LMT_Close: Weight=0.529",
                    "Return: 49.555%<br>Volatility: 0.142<br>Sharpe Ratio: 3.493<br>XOM_Close: Weight=0.009<br>JPM_Close: Weight=0.154<br>COST_Close: Weight=0.070<br>BA_Close: Weight=0.767",
                    "Return: 23.723%<br>Volatility: 0.116<br>Sharpe Ratio: 2.039<br>DIS_Close: Weight=0.000<br>QCOM_Close: Weight=0.047<br>PFE_Close: Weight=0.472<br>AMZN_Close: Weight=0.481",
                    "Return: 27.856%<br>Volatility: 0.109<br>Sharpe Ratio: 2.559<br>CSCO_Close: Weight=0.011<br>ABT_Close: Weight=0.481<br>ACN_Close: Weight=0.508",
                    "Return: 40.213%<br>Volatility: 0.114<br>Sharpe Ratio: 3.522<br>ABT_Close: Weight=0.155<br>V_Close: Weight=0.429<br>TMO_Close: Weight=0.000<br>ABBV_Close: Weight=0.416",
                    "Return: 14.388%<br>Volatility: 0.074<br>Sharpe Ratio: 1.933<br>WFC_Close: Weight=0.120<br>AEP_Close: Weight=0.555<br>RTX_Close: Weight=0.298<br>GILD_Close: Weight=0.027",
                    "Return: 47.196%<br>Volatility: 0.153<br>Sharpe Ratio: 3.092<br>SYY_Close: Weight=0.390<br>COST_Close: Weight=0.000<br>PYPL_Close: Weight=0.610",
                    "Return: 41.039%<br>Volatility: 0.138<br>Sharpe Ratio: 2.981<br>SAP_Close: Weight=0.289<br>DE_Close: Weight=0.557<br>VRTX_Close: Weight=0.154",
                    "Return: 25.916%<br>Volatility: 0.147<br>Sharpe Ratio: 1.761<br>GOOG_Close: Weight=0.860<br>GS_Close: Weight=0.000<br>LLY_Close: Weight=0.038<br>QCOM_Close: Weight=0.102",
                    "Return: 6.452%<br>Volatility: 0.170<br>Sharpe Ratio: 0.380<br>WFC_Close: Weight=0.995<br>REGN_Close: Weight=0.005<br>MO_Close: Weight=0.000",
                    "Return: 18.874%<br>Volatility: 0.095<br>Sharpe Ratio: 1.985<br>AEP_Close: Weight=0.623<br>AMGN_Close: Weight=0.000<br>AAPL_Close: Weight=0.377",
                    "Return: 13.318%<br>Volatility: 0.143<br>Sharpe Ratio: 0.930<br>SNAP_Close: Weight=0.000<br>COST_Close: Weight=0.397<br>GM_Close: Weight=0.603",
                    "Return: 31.478%<br>Volatility: 0.115<br>Sharpe Ratio: 2.729<br>BABA_Close: Weight=0.362<br>JNJ_Close: Weight=0.506<br>PG_Close: Weight=0.127<br>BMY_Close: Weight=0.004",
                    "Return: 47.234%<br>Volatility: 0.155<br>Sharpe Ratio: 3.048<br>WFC_Close: Weight=0.000<br>ACN_Close: Weight=0.474<br>PYPL_Close: Weight=0.526",
                    "Return: 23.545%<br>Volatility: 0.120<br>Sharpe Ratio: 1.970<br>CRM_Close: Weight=0.406<br>GM_Close: Weight=0.191<br>GOOGL_Close: Weight=0.403",
                    "Return: 18.963%<br>Volatility: 0.084<br>Sharpe Ratio: 2.260<br>AEP_Close: Weight=0.530<br>GOOGL_Close: Weight=0.397<br>T_Close: Weight=0.000<br>CMCSA_Close: Weight=0.072",
                    "Return: 22.150%<br>Volatility: 0.087<br>Sharpe Ratio: 2.553<br>NEE_Close: Weight=0.585<br>SAP_Close: Weight=0.309<br>ETN_Close: Weight=0.106",
                    "Return: 61.463%<br>Volatility: 0.189<br>Sharpe Ratio: 3.253<br>CAT_Close: Weight=0.948<br>CSCO_Close: Weight=0.037<br>GILD_Close: Weight=0.015",
                    "Return: 29.788%<br>Volatility: 0.106<br>Sharpe Ratio: 2.803<br>TXN_Close: Weight=0.425<br>CSCO_Close: Weight=0.000<br>ZBH_Close: Weight=0.000<br>LMT_Close: Weight=0.575",
                    "Return: 19.736%<br>Volatility: 0.170<br>Sharpe Ratio: 1.161<br>QCOM_Close: Weight=0.394<br>BSX_Close: Weight=0.000<br>BAC_Close: Weight=0.606<br>UA_Close: Weight=0.000",
                    "Return: 35.493%<br>Volatility: 0.126<br>Sharpe Ratio: 2.818<br>MA_Close: Weight=0.548<br>MSFT_Close: Weight=0.373<br>MS_Close: Weight=0.075<br>LLY_Close: Weight=0.005",
                    "Return: 38.778%<br>Volatility: 0.147<br>Sharpe Ratio: 2.643<br>ADBE_Close: Weight=0.287<br>NVDA_Close: Weight=0.213<br>JNJ_Close: Weight=0.499",
                    "Return: 8.411%<br>Volatility: 0.118<br>Sharpe Ratio: 0.714<br>UA_Close: Weight=0.000<br>DHR_Close: Weight=0.892<br>AMD_Close: Weight=0.000<br>F_Close: Weight=0.108",
                    "Return: 27.146%<br>Volatility: 0.095<br>Sharpe Ratio: 2.860<br>EW_Close: Weight=0.011<br>KO_Close: Weight=0.575<br>ISRG_Close: Weight=0.414",
                    "Return: 30.616%<br>Volatility: 0.117<br>Sharpe Ratio: 2.614<br>ABT_Close: Weight=0.556<br>BAC_Close: Weight=0.132<br>AMZN_Close: Weight=0.312",
                    "Return: 38.735%<br>Volatility: 0.114<br>Sharpe Ratio: 3.393<br>WMT_Close: Weight=0.429<br>EW_Close: Weight=0.057<br>AMZN_Close: Weight=0.056<br>MSFT_Close: Weight=0.459",
                    "Return: 44.818%<br>Volatility: 0.142<br>Sharpe Ratio: 3.154<br>GS_Close: Weight=0.000<br>GOOGL_Close: Weight=0.212<br>ABBV_Close: Weight=0.688<br>SYK_Close: Weight=0.100",
                    "Return: 29.286%<br>Volatility: 0.159<br>Sharpe Ratio: 1.841<br>K_Close: Weight=0.000<br>XOM_Close: Weight=0.265<br>MDT_Close: Weight=0.000<br>AMZN_Close: Weight=0.735",
                    "Return: 41.846%<br>Volatility: 0.154<br>Sharpe Ratio: 2.711<br>AMD_Close: Weight=0.000<br>CRM_Close: Weight=0.221<br>BABA_Close: Weight=0.373<br>INTC_Close: Weight=0.406",
                    "Return: 31.537%<br>Volatility: 0.125<br>Sharpe Ratio: 2.517<br>BIIB_Close: Weight=0.000<br>TSLA_Close: Weight=0.028<br>MSFT_Close: Weight=0.725<br>RTX_Close: Weight=0.248",
                    "Return: 41.240%<br>Volatility: 0.135<br>Sharpe Ratio: 3.063<br>DE_Close: Weight=0.514<br>ETN_Close: Weight=0.000<br>ZBH_Close: Weight=0.000<br>TXN_Close: Weight=0.486",
                    "Return: 40.570%<br>Volatility: 0.118<br>Sharpe Ratio: 3.424<br>DE_Close: Weight=0.403<br>QCOM_Close: Weight=0.000<br>MRK_Close: Weight=0.000<br>MCD_Close: Weight=0.597",
                    "Return: 25.786%<br>Volatility: 0.124<br>Sharpe Ratio: 2.087<br>T_Close: Weight=0.000<br>ACN_Close: Weight=0.865<br>CSCO_Close: Weight=0.128<br>BIIB_Close: Weight=0.007",
                    "Return: 21.147%<br>Volatility: 0.121<br>Sharpe Ratio: 1.741<br>MS_Close: Weight=0.222<br>MDT_Close: Weight=0.000<br>PM_Close: Weight=0.000<br>SAP_Close: Weight=0.778",
                    "Return: 37.554%<br>Volatility: 0.144<br>Sharpe Ratio: 2.608<br>DE_Close: Weight=0.731<br>EMR_Close: Weight=0.000<br>MDT_Close: Weight=0.000<br>RTX_Close: Weight=0.269",
                    "Return: 33.715%<br>Volatility: 0.130<br>Sharpe Ratio: 2.599<br>JNJ_Close: Weight=0.390<br>SYK_Close: Weight=0.024<br>TMO_Close: Weight=0.029<br>ISRG_Close: Weight=0.557",
                    "Return: 15.636%<br>Volatility: 0.102<br>Sharpe Ratio: 1.533<br>SYY_Close: Weight=0.436<br>DUK_Close: Weight=0.332<br>CPB_Close: Weight=0.000<br>EW_Close: Weight=0.232",
                    "Return: 23.547%<br>Volatility: 0.112<br>Sharpe Ratio: 2.101<br>MRK_Close: Weight=0.000<br>NEE_Close: Weight=1.000<br>UA_Close: Weight=0.000<br>PG_Close: Weight=0.000",
                    "Return: 0.032%<br>Volatility: 0.282<br>Sharpe Ratio: 0.001<br>REGN_Close: Weight=1.000<br>PM_Close: Weight=0.000<br>K_Close: Weight=0.000",
                    "Return: 29.642%<br>Volatility: 0.156<br>Sharpe Ratio: 1.906<br>GILD_Close: Weight=0.042<br>ETN_Close: Weight=0.300<br>AMZN_Close: Weight=0.658",
                    "Return: 19.468%<br>Volatility: 0.132<br>Sharpe Ratio: 1.477<br>PM_Close: Weight=0.000<br>SYK_Close: Weight=0.785<br>COST_Close: Weight=0.215<br>MDT_Close: Weight=0.000",
                    "Return: 41.601%<br>Volatility: 0.115<br>Sharpe Ratio: 3.617<br>UNH_Close: Weight=0.369<br>DUK_Close: Weight=0.000<br>CRM_Close: Weight=0.189<br>ABBV_Close: Weight=0.443",
                    "Return: 14.112%<br>Volatility: 0.121<br>Sharpe Ratio: 1.164<br>SO_Close: Weight=0.047<br>GM_Close: Weight=0.280<br>MS_Close: Weight=0.329<br>ORCL_Close: Weight=0.343",
                    "Return: 15.451%<br>Volatility: 0.123<br>Sharpe Ratio: 1.256<br>COST_Close: Weight=0.269<br>BMY_Close: Weight=0.269<br>RMD_Close: Weight=0.459<br>BIIB_Close: Weight=0.003",
                    "Return: 25.919%<br>Volatility: 0.115<br>Sharpe Ratio: 2.261<br>GIS_Close: Weight=0.000<br>QCOM_Close: Weight=0.046<br>EMR_Close: Weight=0.274<br>ABT_Close: Weight=0.681",
                    "Return: 42.733%<br>Volatility: 0.127<br>Sharpe Ratio: 3.355<br>ACN_Close: Weight=0.424<br>ABBV_Close: Weight=0.576<br>RDY_Close: Weight=0.000",
                    "Return: 43.254%<br>Volatility: 0.168<br>Sharpe Ratio: 2.569<br>GILD_Close: Weight=0.000<br>BIIB_Close: Weight=0.000<br>TMO_Close: Weight=0.458<br>BABA_Close: Weight=0.542",
                    "Return: 18.779%<br>Volatility: 0.133<br>Sharpe Ratio: 1.416<br>TMO_Close: Weight=0.769<br>CMCSA_Close: Weight=0.231<br>MO_Close: Weight=0.000",
                    "Return: 61.881%<br>Volatility: 0.190<br>Sharpe Ratio: 3.252<br>CVX_Close: Weight=0.046<br>CAT_Close: Weight=0.954<br>DIS_Close: Weight=0.000",
                    "Return: 56.206%<br>Volatility: 0.164<br>Sharpe Ratio: 3.427<br>BAC_Close: Weight=0.048<br>GM_Close: Weight=0.033<br>BA_Close: Weight=0.920",
                    "Return: 15.410%<br>Volatility: 0.081<br>Sharpe Ratio: 1.910<br>AEP_Close: Weight=0.534<br>AMGN_Close: Weight=0.000<br>VZ_Close: Weight=0.104<br>RTX_Close: Weight=0.362",
                    "Return: 31.086%<br>Volatility: 0.149<br>Sharpe Ratio: 2.080<br>KR_Close: Weight=0.000<br>NFLX_Close: Weight=0.213<br>INTC_Close: Weight=0.641<br>ETN_Close: Weight=0.146",
                    "Return: 37.840%<br>Volatility: 0.110<br>Sharpe Ratio: 3.446<br>ABT_Close: Weight=0.264<br>IBM_Close: Weight=0.000<br>MA_Close: Weight=0.386<br>DE_Close: Weight=0.350",
                    "Return: 41.353%<br>Volatility: 0.119<br>Sharpe Ratio: 3.482<br>ABBV_Close: Weight=0.481<br>MS_Close: Weight=0.050<br>V_Close: Weight=0.469",
                    "Return: 18.405%<br>Volatility: 0.117<br>Sharpe Ratio: 1.569<br>DUK_Close: Weight=0.516<br>QCOM_Close: Weight=0.170<br>NFLX_Close: Weight=0.314<br>PM_Close: Weight=0.000",
                    "Return: 36.718%<br>Volatility: 0.152<br>Sharpe Ratio: 2.419<br>GILD_Close: Weight=0.000<br>PM_Close: Weight=0.000<br>MSFT_Close: Weight=1.000",
                    "Return: 41.234%<br>Volatility: 0.160<br>Sharpe Ratio: 2.582<br>AMD_Close: Weight=0.000<br>ISRG_Close: Weight=0.665<br>CPB_Close: Weight=0.000<br>META_Close: Weight=0.335",
                    "Return: 52.241%<br>Volatility: 0.158<br>Sharpe Ratio: 3.307<br>CAT_Close: Weight=0.801<br>LLY_Close: Weight=0.199<br>RDY_Close: Weight=0.000<br>ETN_Close: Weight=0.000",
                    "Return: 36.586%<br>Volatility: 0.151<br>Sharpe Ratio: 2.420<br>MSFT_Close: Weight=0.995<br>BTI_Close: Weight=0.005<br>ZBH_Close: Weight=0.000",
                    "Return: 41.721%<br>Volatility: 0.142<br>Sharpe Ratio: 2.931<br>ISRG_Close: Weight=0.485<br>GE_Close: Weight=0.000<br>QCOM_Close: Weight=0.000<br>TXN_Close: Weight=0.515",
                    "Return: 35.949%<br>Volatility: 0.156<br>Sharpe Ratio: 2.303<br>SRE_Close: Weight=0.000<br>ETN_Close: Weight=0.051<br>TXN_Close: Weight=0.949<br>ZBH_Close: Weight=0.000",
                    "Return: 25.654%<br>Volatility: 0.118<br>Sharpe Ratio: 2.179<br>BAC_Close: Weight=0.185<br>ACN_Close: Weight=0.798<br>LLY_Close: Weight=0.018",
                    "Return: 25.506%<br>Volatility: 0.093<br>Sharpe Ratio: 2.749<br>SO_Close: Weight=0.000<br>NEE_Close: Weight=0.536<br>MMM_Close: Weight=0.464",
                    "Return: 30.723%<br>Volatility: 0.156<br>Sharpe Ratio: 1.975<br>AMZN_Close: Weight=0.675<br>GM_Close: Weight=0.325<br>KR_Close: Weight=0.000",
                    "Return: 16.111%<br>Volatility: 0.164<br>Sharpe Ratio: 0.982<br>UA_Close: Weight=0.000<br>CSCO_Close: Weight=1.000<br>IBM_Close: Weight=0.000",
                    "Return: 17.393%<br>Volatility: 0.127<br>Sharpe Ratio: 1.375<br>SYY_Close: Weight=0.598<br>MS_Close: Weight=0.287<br>BIIB_Close: Weight=0.115",
                    "Return: 41.022%<br>Volatility: 0.147<br>Sharpe Ratio: 2.788<br>NKE_Close: Weight=0.139<br>AMZN_Close: Weight=0.185<br>INTC_Close: Weight=0.319<br>BABA_Close: Weight=0.358",
                    "Return: 11.525%<br>Volatility: 0.081<br>Sharpe Ratio: 1.431<br>CVX_Close: Weight=0.388<br>GM_Close: Weight=0.206<br>DUK_Close: Weight=0.407",
                    "Return: 6.083%<br>Volatility: 0.098<br>Sharpe Ratio: 0.622<br>XOM_Close: Weight=0.553<br>ZBH_Close: Weight=0.119<br>NKE_Close: Weight=0.328<br>GS_Close: Weight=0.000",
                    "Return: 63.189%<br>Volatility: 0.224<br>Sharpe Ratio: 2.817<br>AMGN_Close: Weight=0.000<br>PYPL_Close: Weight=0.971<br>T_Close: Weight=0.029",
                    "Return: 27.346%<br>Volatility: 0.133<br>Sharpe Ratio: 2.059<br>BSX_Close: Weight=0.000<br>GIS_Close: Weight=0.000<br>ACN_Close: Weight=1.000",
                    "Return: 32.249%<br>Volatility: 0.090<br>Sharpe Ratio: 3.591<br>MCD_Close: Weight=0.418<br>MSFT_Close: Weight=0.194<br>LMT_Close: Weight=0.388",
                    "Return: 32.454%<br>Volatility: 0.135<br>Sharpe Ratio: 2.404<br>DIS_Close: Weight=0.000<br>HD_Close: Weight=1.000<br>COST_Close: Weight=0.000",
                    "Return: 37.179%<br>Volatility: 0.133<br>Sharpe Ratio: 2.799<br>MA_Close: Weight=0.589<br>MSFT_Close: Weight=0.411<br>BIIB_Close: Weight=0.000",
                    "Return: 30.599%<br>Volatility: 0.123<br>Sharpe Ratio: 2.479<br>RMD_Close: Weight=0.153<br>RDY_Close: Weight=0.000<br>HD_Close: Weight=0.847<br>F_Close: Weight=0.000",
                    "Return: 37.358%<br>Volatility: 0.114<br>Sharpe Ratio: 3.266<br>MCD_Close: Weight=0.608<br>TXN_Close: Weight=0.392<br>SO_Close: Weight=0.000<br>IBM_Close: Weight=0.000",
                    "Return: 20.817%<br>Volatility: 0.075<br>Sharpe Ratio: 2.780<br>AMZN_Close: Weight=0.197<br>TMO_Close: Weight=0.180<br>KO_Close: Weight=0.464<br>EMR_Close: Weight=0.160",
                    "Return: 31.047%<br>Volatility: 0.091<br>Sharpe Ratio: 3.429<br>MCD_Close: Weight=0.509<br>F_Close: Weight=0.000<br>LMT_Close: Weight=0.491",
                    "Return: 5.817%<br>Volatility: 0.084<br>Sharpe Ratio: 0.694<br>SO_Close: Weight=0.000<br>DUK_Close: Weight=0.857<br>GE_Close: Weight=0.000<br>ZBH_Close: Weight=0.143",
                    "Return: 26.355%<br>Volatility: 0.105<br>Sharpe Ratio: 2.516<br>CRM_Close: Weight=0.321<br>RMD_Close: Weight=0.092<br>MMM_Close: Weight=0.587",
                    "Return: 9.549%<br>Volatility: 0.206<br>Sharpe Ratio: 0.465<br>PM_Close: Weight=0.000<br>CMCSA_Close: Weight=1.000<br>SO_Close: Weight=0.000",
                    "Return: 51.479%<br>Volatility: 0.115<br>Sharpe Ratio: 4.487<br>BA_Close: Weight=0.433<br>PYPL_Close: Weight=0.160<br>MCD_Close: Weight=0.407",
                    "Return: 13.294%<br>Volatility: 0.087<br>Sharpe Ratio: 1.535<br>RTX_Close: Weight=0.476<br>PG_Close: Weight=0.259<br>GM_Close: Weight=0.137<br>MS_Close: Weight=0.128",
                    "Return: 35.133%<br>Volatility: 0.133<br>Sharpe Ratio: 2.639<br>MS_Close: Weight=0.115<br>DHR_Close: Weight=0.000<br>SRE_Close: Weight=0.000<br>MA_Close: Weight=0.885",
                    "Return: 31.086%<br>Volatility: 0.086<br>Sharpe Ratio: 3.596<br>NEE_Close: Weight=0.314<br>KO_Close: Weight=0.265<br>DIS_Close: Weight=0.047<br>ABBV_Close: Weight=0.375",
                    "Return: 29.794%<br>Volatility: 0.159<br>Sharpe Ratio: 1.873<br>INTC_Close: Weight=0.896<br>GILD_Close: Weight=0.104<br>MDT_Close: Weight=0.000<br>PM_Close: Weight=0.000",
                    "Return: 57.732%<br>Volatility: 0.175<br>Sharpe Ratio: 3.296<br>RMD_Close: Weight=0.146<br>CAT_Close: Weight=0.854<br>IBM_Close: Weight=0.000",
                    "Return: 15.493%<br>Volatility: 0.083<br>Sharpe Ratio: 1.874<br>EMR_Close: Weight=0.367<br>PEP_Close: Weight=0.633<br>GS_Close: Weight=0.000",
                    "Return: 45.477%<br>Volatility: 0.116<br>Sharpe Ratio: 3.918<br>BA_Close: Weight=0.490<br>HON_Close: Weight=0.338<br>ADBE_Close: Weight=0.171",
                    "Return: 57.301%<br>Volatility: 0.130<br>Sharpe Ratio: 4.407<br>PM_Close: Weight=0.000<br>ABBV_Close: Weight=0.490<br>CAT_Close: Weight=0.474<br>VZ_Close: Weight=0.036",
                    "Return: 25.119%<br>Volatility: 0.095<br>Sharpe Ratio: 2.646<br>ACN_Close: Weight=0.380<br>GIS_Close: Weight=0.000<br>BAC_Close: Weight=0.094<br>LMT_Close: Weight=0.526",
                    "Return: 17.089%<br>Volatility: 0.143<br>Sharpe Ratio: 1.197<br>SYY_Close: Weight=0.861<br>LLY_Close: Weight=0.139<br>SRE_Close: Weight=0.000",
                    "Return: 21.839%<br>Volatility: 0.134<br>Sharpe Ratio: 1.629<br>SAP_Close: Weight=0.970<br>REGN_Close: Weight=0.000<br>LLY_Close: Weight=0.030",
                    "Return: 5.843%<br>Volatility: 0.083<br>Sharpe Ratio: 0.702<br>LLY_Close: Weight=0.204<br>DUK_Close: Weight=0.796<br>DIS_Close: Weight=0.000",
                    "Return: 27.658%<br>Volatility: 0.105<br>Sharpe Ratio: 2.622<br>UA_Close: Weight=0.000<br>HD_Close: Weight=0.690<br>RTX_Close: Weight=0.310",
                    "Return: 21.331%<br>Volatility: 0.109<br>Sharpe Ratio: 1.961<br>AMD_Close: Weight=0.000<br>PFE_Close: Weight=0.433<br>META_Close: Weight=0.567",
                    "Return: 11.759%<br>Volatility: 0.097<br>Sharpe Ratio: 1.217<br>CSCO_Close: Weight=0.373<br>PFE_Close: Weight=0.441<br>DHR_Close: Weight=0.187",
                    "Return: 35.181%<br>Volatility: 0.101<br>Sharpe Ratio: 3.488<br>CRM_Close: Weight=0.000<br>WMT_Close: Weight=0.310<br>MA_Close: Weight=0.383<br>LMT_Close: Weight=0.307",
                    "Return: 28.933%<br>Volatility: 0.115<br>Sharpe Ratio: 2.511<br>COST_Close: Weight=0.104<br>UA_Close: Weight=0.000<br>WFC_Close: Weight=0.000<br>V_Close: Weight=0.896",
                    "Return: 20.344%<br>Volatility: 0.201<br>Sharpe Ratio: 1.013<br>GS_Close: Weight=0.000<br>KR_Close: Weight=0.000<br>RMD_Close: Weight=1.000",
                    "Return: 55.533%<br>Volatility: 0.145<br>Sharpe Ratio: 3.823<br>AMZN_Close: Weight=0.168<br>CAT_Close: Weight=0.547<br>BABA_Close: Weight=0.215<br>NKE_Close: Weight=0.070",
                    "Return: 49.758%<br>Volatility: 0.150<br>Sharpe Ratio: 3.323<br>CSCO_Close: Weight=0.000<br>CAT_Close: Weight=0.748<br>ORCL_Close: Weight=0.079<br>LLY_Close: Weight=0.174",
                    "Return: 32.608%<br>Volatility: 0.130<br>Sharpe Ratio: 2.515<br>MSFT_Close: Weight=0.813<br>GM_Close: Weight=0.187<br>K_Close: Weight=0.000",
                    "Return: 4.696%<br>Volatility: 0.146<br>Sharpe Ratio: 0.321<br>SO_Close: Weight=0.000<br>ZBH_Close: Weight=0.367<br>GILD_Close: Weight=0.633",
                    "Return: 45.807%<br>Volatility: 0.168<br>Sharpe Ratio: 2.724<br>AMZN_Close: Weight=0.206<br>IBM_Close: Weight=0.000<br>INTC_Close: Weight=0.380<br>BABA_Close: Weight=0.413",
                    "Return: 15.444%<br>Volatility: 0.141<br>Sharpe Ratio: 1.093<br>CVX_Close: Weight=1.000<br>F_Close: Weight=0.000<br>SNAP_Close: Weight=0.000",
                    "Return: 45.776%<br>Volatility: 0.188<br>Sharpe Ratio: 2.438<br>EW_Close: Weight=0.034<br>ISRG_Close: Weight=0.966<br>RDY_Close: Weight=0.000",
                    "Return: 55.110%<br>Volatility: 0.144<br>Sharpe Ratio: 3.831<br>BABA_Close: Weight=0.205<br>BA_Close: Weight=0.652<br>GOOGL_Close: Weight=0.144<br>DIS_Close: Weight=0.000",
                    "Return: 15.598%<br>Volatility: 0.127<br>Sharpe Ratio: 1.226<br>DUK_Close: Weight=0.000<br>PM_Close: Weight=0.000<br>TSLA_Close: Weight=0.220<br>EXC_Close: Weight=0.780",
                    "Return: 48.752%<br>Volatility: 0.205<br>Sharpe Ratio: 2.377<br>WFC_Close: Weight=0.031<br>NKE_Close: Weight=0.219<br>BABA_Close: Weight=0.750",
                    "Return: 43.058%<br>Volatility: 0.182<br>Sharpe Ratio: 2.372<br>IBM_Close: Weight=0.000<br>WMT_Close: Weight=1.000<br>AMGN_Close: Weight=0.000",
                    "Return: 35.441%<br>Volatility: 0.108<br>Sharpe Ratio: 3.290<br>WMT_Close: Weight=0.389<br>V_Close: Weight=0.572<br>AAPL_Close: Weight=0.040",
                    "Return: 26.164%<br>Volatility: 0.116<br>Sharpe Ratio: 2.252<br>CPB_Close: Weight=0.000<br>EMR_Close: Weight=0.298<br>ABT_Close: Weight=0.702<br>IBM_Close: Weight=0.000",
                    "Return: 27.123%<br>Volatility: 0.137<br>Sharpe Ratio: 1.984<br>AMZN_Close: Weight=0.359<br>CPB_Close: Weight=0.000<br>XOM_Close: Weight=0.235<br>META_Close: Weight=0.406",
                    "Return: 29.555%<br>Volatility: 0.098<br>Sharpe Ratio: 3.025<br>XOM_Close: Weight=0.040<br>HON_Close: Weight=0.530<br>MA_Close: Weight=0.429",
                    "Return: 24.812%<br>Volatility: 0.117<br>Sharpe Ratio: 2.127<br>GM_Close: Weight=0.152<br>SNAP_Close: Weight=0.000<br>BTI_Close: Weight=0.038<br>ACN_Close: Weight=0.810",
                    "Return: 38.520%<br>Volatility: 0.098<br>Sharpe Ratio: 3.944<br>CAT_Close: Weight=0.392<br>ABT_Close: Weight=0.309<br>AEP_Close: Weight=0.299",
                    "Return: 17.444%<br>Volatility: 0.141<br>Sharpe Ratio: 1.239<br>SYY_Close: Weight=0.820<br>BIIB_Close: Weight=0.180<br>AMGN_Close: Weight=0.000",
                    "Return: 22.026%<br>Volatility: 0.105<br>Sharpe Ratio: 2.099<br>JNJ_Close: Weight=0.462<br>SAP_Close: Weight=0.403<br>NFLX_Close: Weight=0.135",
                    "Return: 36.718%<br>Volatility: 0.152<br>Sharpe Ratio: 2.419<br>REGN_Close: Weight=0.000<br>IBM_Close: Weight=0.000<br>MSFT_Close: Weight=1.000",
                    "Return: 21.273%<br>Volatility: 0.099<br>Sharpe Ratio: 2.152<br>NEE_Close: Weight=0.835<br>BMY_Close: Weight=0.109<br>AEP_Close: Weight=0.015<br>ZBH_Close: Weight=0.041",
                    "Return: 12.092%<br>Volatility: 0.094<br>Sharpe Ratio: 1.292<br>ORCL_Close: Weight=0.205<br>NKE_Close: Weight=0.175<br>BIIB_Close: Weight=0.106<br>EXC_Close: Weight=0.513",
                    "Return: 25.212%<br>Volatility: 0.078<br>Sharpe Ratio: 3.212<br>HD_Close: Weight=0.332<br>JNJ_Close: Weight=0.276<br>BAC_Close: Weight=0.015<br>HON_Close: Weight=0.377",
                    "Return: 18.597%<br>Volatility: 0.142<br>Sharpe Ratio: 1.310<br>JPM_Close: Weight=0.857<br>BSX_Close: Weight=0.000<br>NKE_Close: Weight=0.143",
                    "Return: 37.173%<br>Volatility: 0.135<br>Sharpe Ratio: 2.748<br>MCD_Close: Weight=0.990<br>MDT_Close: Weight=0.000<br>WFC_Close: Weight=0.010",
                    "Return: 21.107%<br>Volatility: 0.128<br>Sharpe Ratio: 1.648<br>ORCL_Close: Weight=0.109<br>SAP_Close: Weight=0.876<br>LLY_Close: Weight=0.015<br>KR_Close: Weight=0.000",
                    "Return: 12.518%<br>Volatility: 0.081<br>Sharpe Ratio: 1.549<br>KO_Close: Weight=0.930<br>SNAP_Close: Weight=0.000<br>F_Close: Weight=0.070",
                    "Return: 31.292%<br>Volatility: 0.116<br>Sharpe Ratio: 2.694<br>GIS_Close: Weight=0.000<br>BTI_Close: Weight=0.009<br>BABA_Close: Weight=0.380<br>PEP_Close: Weight=0.611",
                    "Return: 31.280%<br>Volatility: 0.114<br>Sharpe Ratio: 2.755<br>KR_Close: Weight=0.000<br>ABT_Close: Weight=0.424<br>SAP_Close: Weight=0.154<br>TXN_Close: Weight=0.422",
                    "Return: 27.683%<br>Volatility: 0.101<br>Sharpe Ratio: 2.738<br>HD_Close: Weight=0.560<br>SYY_Close: Weight=0.103<br>SAP_Close: Weight=0.337",
                    "Return: 25.658%<br>Volatility: 0.089<br>Sharpe Ratio: 2.892<br>PM_Close: Weight=0.000<br>V_Close: Weight=0.476<br>LMT_Close: Weight=0.422<br>DUK_Close: Weight=0.102",
                    "Return: 28.508%<br>Volatility: 0.106<br>Sharpe Ratio: 2.702<br>RMD_Close: Weight=0.000<br>PG_Close: Weight=0.102<br>MSFT_Close: Weight=0.621<br>SYY_Close: Weight=0.278",
                    "Return: 24.316%<br>Volatility: 0.116<br>Sharpe Ratio: 2.092<br>GILD_Close: Weight=0.016<br>XOM_Close: Weight=0.246<br>CRM_Close: Weight=0.392<br>AMZN_Close: Weight=0.345",
                    "Return: 11.908%<br>Volatility: 0.095<br>Sharpe Ratio: 1.249<br>PFE_Close: Weight=0.422<br>TSLA_Close: Weight=0.115<br>DHR_Close: Weight=0.262<br>ORCL_Close: Weight=0.201",
                    "Return: 36.333%<br>Volatility: 0.140<br>Sharpe Ratio: 2.601<br>ISRG_Close: Weight=0.709<br>KR_Close: Weight=0.000<br>VZ_Close: Weight=0.291",
                    "Return: 68.561%<br>Volatility: 0.228<br>Sharpe Ratio: 3.002<br>NVDA_Close: Weight=0.218<br>AMD_Close: Weight=0.000<br>PYPL_Close: Weight=0.782",
                    "Return: 46.047%<br>Volatility: 0.129<br>Sharpe Ratio: 3.570<br>ZBH_Close: Weight=0.000<br>RTX_Close: Weight=0.048<br>PYPL_Close: Weight=0.397<br>UNH_Close: Weight=0.556",
                    "Return: 15.109%<br>Volatility: 0.082<br>Sharpe Ratio: 1.850<br>ZBH_Close: Weight=0.000<br>TMO_Close: Weight=0.336<br>WFC_Close: Weight=0.094<br>PEP_Close: Weight=0.570",
                    "Return: 41.849%<br>Volatility: 0.156<br>Sharpe Ratio: 2.679<br>NFLX_Close: Weight=0.253<br>WMT_Close: Weight=0.747<br>WFC_Close: Weight=0.000<br>COST_Close: Weight=0.000",
                    "Return: 4.513%<br>Volatility: 0.147<br>Sharpe Ratio: 0.308<br>AMD_Close: Weight=0.000<br>UA_Close: Weight=0.000<br>LLY_Close: Weight=1.000<br>SNAP_Close: Weight=0.000",
                    "Return: 28.667%<br>Volatility: 0.140<br>Sharpe Ratio: 2.053<br>MDT_Close: Weight=0.000<br>RDY_Close: Weight=0.000<br>ABT_Close: Weight=1.000",
                    "Return: 19.587%<br>Volatility: 0.193<br>Sharpe Ratio: 1.015<br>MRK_Close: Weight=0.000<br>RMD_Close: Weight=0.963<br>REGN_Close: Weight=0.037",
                    "Return: 29.763%<br>Volatility: 0.092<br>Sharpe Ratio: 3.242<br>GOOGL_Close: Weight=0.225<br>HD_Close: Weight=0.461<br>KR_Close: Weight=0.000<br>ABT_Close: Weight=0.314",
                    "Return: 27.849%<br>Volatility: 0.125<br>Sharpe Ratio: 2.233<br>NKE_Close: Weight=0.099<br>AMZN_Close: Weight=0.477<br>JPM_Close: Weight=0.424",
                    "Return: 10.688%<br>Volatility: 0.088<br>Sharpe Ratio: 1.209<br>DUK_Close: Weight=0.546<br>CSCO_Close: Weight=0.454<br>RDY_Close: Weight=0.000<br>BSX_Close: Weight=0.000",
                    "Return: 25.872%<br>Volatility: 0.117<br>Sharpe Ratio: 2.215<br>MMM_Close: Weight=0.794<br>EW_Close: Weight=0.131<br>GIS_Close: Weight=0.000<br>BMY_Close: Weight=0.075",
                    "Return: 25.766%<br>Volatility: 0.157<br>Sharpe Ratio: 1.638<br>MO_Close: Weight=0.000<br>GOOGL_Close: Weight=1.000<br>UA_Close: Weight=0.000",
                    "Return: 27.841%<br>Volatility: 0.084<br>Sharpe Ratio: 3.331<br>NEE_Close: Weight=0.518<br>HD_Close: Weight=0.482<br>PG_Close: Weight=0.000",
                    "Return: 24.328%<br>Volatility: 0.098<br>Sharpe Ratio: 2.490<br>GM_Close: Weight=0.071<br>LLY_Close: Weight=0.000<br>HON_Close: Weight=0.929<br>T_Close: Weight=0.000",
                    "Return: 31.531%<br>Volatility: 0.125<br>Sharpe Ratio: 2.517<br>TSLA_Close: Weight=0.028<br>MSFT_Close: Weight=0.724<br>RTX_Close: Weight=0.248",
                    "Return: 37.497%<br>Volatility: 0.136<br>Sharpe Ratio: 2.748<br>ZBH_Close: Weight=0.000<br>MCD_Close: Weight=1.000<br>SO_Close: Weight=0.000",
                    "Return: 22.603%<br>Volatility: 0.232<br>Sharpe Ratio: 0.973<br>MRK_Close: Weight=0.000<br>EW_Close: Weight=1.000<br>SRE_Close: Weight=0.000",
                    "Return: 14.375%<br>Volatility: 0.084<br>Sharpe Ratio: 1.703<br>SYY_Close: Weight=0.286<br>BMY_Close: Weight=0.140<br>ZBH_Close: Weight=0.000<br>PEP_Close: Weight=0.574",
                    "Return: 5.192%<br>Volatility: 0.185<br>Sharpe Ratio: 0.281<br>GILD_Close: Weight=0.971<br>MDT_Close: Weight=0.029<br>AMD_Close: Weight=0.000",
                    "Return: 32.677%<br>Volatility: 0.120<br>Sharpe Ratio: 2.721<br>WMT_Close: Weight=0.540<br>EW_Close: Weight=0.121<br>QCOM_Close: Weight=0.051<br>JPM_Close: Weight=0.288",
                    "Return: 26.891%<br>Volatility: 0.116<br>Sharpe Ratio: 2.323<br>AEP_Close: Weight=0.544<br>SO_Close: Weight=0.000<br>QCOM_Close: Weight=0.080<br>ADBE_Close: Weight=0.377",
                    "Return: 22.250%<br>Volatility: 0.094<br>Sharpe Ratio: 2.357<br>AMZN_Close: Weight=0.315<br>AEP_Close: Weight=0.524<br>ETN_Close: Weight=0.162",
                    "Return: 37.032%<br>Volatility: 0.121<br>Sharpe Ratio: 3.050<br>ABT_Close: Weight=0.492<br>BTI_Close: Weight=0.000<br>WFC_Close: Weight=0.000<br>DE_Close: Weight=0.508",
                    "Return: 10.803%<br>Volatility: 0.161<br>Sharpe Ratio: 0.670<br>GIS_Close: Weight=0.000<br>DIS_Close: Weight=0.000<br>REGN_Close: Weight=0.044<br>VZ_Close: Weight=0.956",
                    "Return: 34.783%<br>Volatility: 0.140<br>Sharpe Ratio: 2.482<br>RDY_Close: Weight=0.000<br>BIIB_Close: Weight=0.000<br>MSFT_Close: Weight=0.863<br>EW_Close: Weight=0.137",
                    "Return: 20.351%<br>Volatility: 0.139<br>Sharpe Ratio: 1.460<br>SYY_Close: Weight=0.648<br>EW_Close: Weight=0.352<br>BSX_Close: Weight=0.000",
                    "Return: 14.070%<br>Volatility: 0.083<br>Sharpe Ratio: 1.701<br>AMD_Close: Weight=0.000<br>KO_Close: Weight=0.850<br>QCOM_Close: Weight=0.150",
                    "Return: 14.509%<br>Volatility: 0.086<br>Sharpe Ratio: 1.681<br>TSLA_Close: Weight=0.099<br>GIS_Close: Weight=0.000<br>KO_Close: Weight=0.901",
                    "Return: 15.544%<br>Volatility: 0.142<br>Sharpe Ratio: 1.096<br>QCOM_Close: Weight=0.355<br>MDT_Close: Weight=0.000<br>ETN_Close: Weight=0.645",
                    "Return: 44.040%<br>Volatility: 0.147<br>Sharpe Ratio: 3.002<br>ADBE_Close: Weight=0.395<br>T_Close: Weight=0.000<br>WMT_Close: Weight=0.605",
                    "Return: 23.369%<br>Volatility: 0.122<br>Sharpe Ratio: 1.921<br>MDT_Close: Weight=0.000<br>NFLX_Close: Weight=0.287<br>EMR_Close: Weight=0.284<br>CVX_Close: Weight=0.429",
                    "Return: 29.297%<br>Volatility: 0.132<br>Sharpe Ratio: 2.220<br>NFLX_Close: Weight=0.178<br>ACN_Close: Weight=0.822<br>GIS_Close: Weight=0.000",
                    "Return: 33.437%<br>Volatility: 0.141<br>Sharpe Ratio: 2.370<br>REGN_Close: Weight=0.000<br>TXN_Close: Weight=0.780<br>EMR_Close: Weight=0.220",
                    "Return: -42.368%<br>Volatility: 0.464<br>Sharpe Ratio: -0.913<br>SO_Close: Weight=0.000<br>UA_Close: Weight=1.000<br>CPB_Close: Weight=0.000",
                    "Return: 51.607%<br>Volatility: 0.170<br>Sharpe Ratio: 3.034<br>PYPL_Close: Weight=0.531<br>GOOG_Close: Weight=0.044<br>TXN_Close: Weight=0.425",
                    "Return: 13.134%<br>Volatility: 0.187<br>Sharpe Ratio: 0.701<br>ORCL_Close: Weight=1.000<br>AMGN_Close: Weight=0.000<br>SO_Close: Weight=0.000",
                    "Return: 36.116%<br>Volatility: 0.129<br>Sharpe Ratio: 2.789<br>ZBH_Close: Weight=0.000<br>QCOM_Close: Weight=0.000<br>MA_Close: Weight=0.716<br>INTC_Close: Weight=0.284",
                    "Return: 52.258%<br>Volatility: 0.175<br>Sharpe Ratio: 2.986<br>ISRG_Close: Weight=0.602<br>BABA_Close: Weight=0.392<br>ORCL_Close: Weight=0.006",
                    "Return: 32.229%<br>Volatility: 0.126<br>Sharpe Ratio: 2.563<br>ADBE_Close: Weight=0.307<br>ACN_Close: Weight=0.569<br>SYK_Close: Weight=0.124",
                    "Return: 37.370%<br>Volatility: 0.131<br>Sharpe Ratio: 2.850<br>NVDA_Close: Weight=0.091<br>TXN_Close: Weight=0.299<br>V_Close: Weight=0.609",
                    "Return: 40.619%<br>Volatility: 0.133<br>Sharpe Ratio: 3.062<br>AEP_Close: Weight=0.491<br>PYPL_Close: Weight=0.509<br>REGN_Close: Weight=0.000",
                    "Return: 62.529%<br>Volatility: 0.221<br>Sharpe Ratio: 2.833<br>PYPL_Close: Weight=0.932<br>TSLA_Close: Weight=0.068<br>ZBH_Close: Weight=0.000<br>GS_Close: Weight=0.000",
                    "Return: 32.628%<br>Volatility: 0.176<br>Sharpe Ratio: 1.858<br>CPB_Close: Weight=0.000<br>IBM_Close: Weight=0.000<br>INTC_Close: Weight=1.000",
                    "Return: 24.066%<br>Volatility: 0.105<br>Sharpe Ratio: 2.294<br>EMR_Close: Weight=0.220<br>MMM_Close: Weight=0.656<br>NKE_Close: Weight=0.045<br>BMY_Close: Weight=0.079",
                    "Return: 28.249%<br>Volatility: 0.119<br>Sharpe Ratio: 2.380<br>VRTX_Close: Weight=0.177<br>SYY_Close: Weight=0.314<br>SRE_Close: Weight=0.000<br>SAP_Close: Weight=0.509",
                    "Return: 25.168%<br>Volatility: 0.094<br>Sharpe Ratio: 2.674<br>SNAP_Close: Weight=0.000<br>CRM_Close: Weight=0.241<br>HON_Close: Weight=0.759",
                    "Return: 24.750%<br>Volatility: 0.103<br>Sharpe Ratio: 2.412<br>JNJ_Close: Weight=0.363<br>UA_Close: Weight=0.000<br>ACN_Close: Weight=0.529<br>NFLX_Close: Weight=0.108",
                    "Return: 25.856%<br>Volatility: 0.115<br>Sharpe Ratio: 2.250<br>SYY_Close: Weight=0.295<br>ABT_Close: Weight=0.705<br>RDY_Close: Weight=0.000<br>T_Close: Weight=0.000",
                    "Return: 11.804%<br>Volatility: 0.081<br>Sharpe Ratio: 1.450<br>BTI_Close: Weight=0.122<br>RTX_Close: Weight=0.462<br>WFC_Close: Weight=0.077<br>DUK_Close: Weight=0.339",
                    "Return: 23.978%<br>Volatility: 0.135<br>Sharpe Ratio: 1.783<br>GOOGL_Close: Weight=0.593<br>CMCSA_Close: Weight=0.096<br>AAPL_Close: Weight=0.311",
                    "Return: 24.424%<br>Volatility: 0.135<br>Sharpe Ratio: 1.803<br>BMY_Close: Weight=0.202<br>GOOG_Close: Weight=0.798<br>UA_Close: Weight=0.000",
                    "Return: 23.165%<br>Volatility: 0.090<br>Sharpe Ratio: 2.567<br>LMT_Close: Weight=0.573<br>SAP_Close: Weight=0.263<br>EMR_Close: Weight=0.165<br>BMY_Close: Weight=0.000",
                    "Return: 33.375%<br>Volatility: 0.120<br>Sharpe Ratio: 2.781<br>TXN_Close: Weight=0.389<br>BTI_Close: Weight=0.000<br>AMD_Close: Weight=0.000<br>V_Close: Weight=0.611",
                    "Return: 18.993%<br>Volatility: 0.153<br>Sharpe Ratio: 1.242<br>BTI_Close: Weight=0.269<br>RMD_Close: Weight=0.536<br>TSLA_Close: Weight=0.195",
                    "Return: 30.596%<br>Volatility: 0.101<br>Sharpe Ratio: 3.022<br>ORCL_Close: Weight=0.000<br>MA_Close: Weight=0.445<br>HON_Close: Weight=0.555",
                    "Return: 23.905%<br>Volatility: 0.128<br>Sharpe Ratio: 1.862<br>CRM_Close: Weight=0.579<br>MDT_Close: Weight=0.000<br>SYK_Close: Weight=0.421",
                    "Return: 34.603%<br>Volatility: 0.108<br>Sharpe Ratio: 3.190<br>BSX_Close: Weight=0.000<br>WMT_Close: Weight=0.447<br>MMM_Close: Weight=0.553",
                    "Return: 14.659%<br>Volatility: 0.109<br>Sharpe Ratio: 1.343<br>SO_Close: Weight=0.000<br>ORCL_Close: Weight=0.340<br>CVX_Close: Weight=0.660",
                    "Return: 29.263%<br>Volatility: 0.127<br>Sharpe Ratio: 2.299<br>SNAP_Close: Weight=0.000<br>AAPL_Close: Weight=0.293<br>EXC_Close: Weight=0.312<br>ADBE_Close: Weight=0.395",
                    "Return: 37.218%<br>Volatility: 0.130<br>Sharpe Ratio: 2.864<br>INTC_Close: Weight=0.399<br>CSCO_Close: Weight=0.062<br>WMT_Close: Weight=0.539",
                    "Return: 28.833%<br>Volatility: 0.155<br>Sharpe Ratio: 1.865<br>MO_Close: Weight=0.000<br>XOM_Close: Weight=0.132<br>INTC_Close: Weight=0.868<br>T_Close: Weight=0.000",
                    "Return: 15.288%<br>Volatility: 0.149<br>Sharpe Ratio: 1.024<br>VZ_Close: Weight=0.520<br>TSLA_Close: Weight=0.278<br>NKE_Close: Weight=0.202",
                    "Return: 20.068%<br>Volatility: 0.141<br>Sharpe Ratio: 1.426<br>IBM_Close: Weight=0.000<br>MO_Close: Weight=0.000<br>SYK_Close: Weight=0.863<br>CMCSA_Close: Weight=0.137",
                    "Return: 53.859%<br>Volatility: 0.145<br>Sharpe Ratio: 3.712<br>ZBH_Close: Weight=0.000<br>BA_Close: Weight=0.731<br>AMZN_Close: Weight=0.269",
                    "Return: 32.657%<br>Volatility: 0.097<br>Sharpe Ratio: 3.366<br>ACN_Close: Weight=0.267<br>JPM_Close: Weight=0.062<br>HON_Close: Weight=0.471<br>BABA_Close: Weight=0.200",
                    "Return: 18.253%<br>Volatility: 0.113<br>Sharpe Ratio: 1.616<br>BTI_Close: Weight=0.166<br>SYK_Close: Weight=0.589<br>GM_Close: Weight=0.245",
                    "Return: 27.060%<br>Volatility: 0.128<br>Sharpe Ratio: 2.120<br>DHR_Close: Weight=0.038<br>AMGN_Close: Weight=0.000<br>MMM_Close: Weight=0.962",
                    "Return: 11.154%<br>Volatility: 0.191<br>Sharpe Ratio: 0.584<br>CPB_Close: Weight=0.000<br>K_Close: Weight=0.000<br>KR_Close: Weight=0.000<br>BTI_Close: Weight=1.000",
                    "Return: 20.346%<br>Volatility: 0.086<br>Sharpe Ratio: 2.364<br>QCOM_Close: Weight=0.075<br>AMD_Close: Weight=0.000<br>INTC_Close: Weight=0.345<br>KO_Close: Weight=0.580",
                    "Return: 28.133%<br>Volatility: 0.105<br>Sharpe Ratio: 2.670<br>JPM_Close: Weight=0.258<br>RDY_Close: Weight=0.000<br>V_Close: Weight=0.742<br>MS_Close: Weight=0.000",
                    "Return: 33.145%<br>Volatility: 0.138<br>Sharpe Ratio: 2.399<br>ABT_Close: Weight=0.743<br>MO_Close: Weight=0.000<br>VRTX_Close: Weight=0.189<br>PG_Close: Weight=0.068",
                    "Return: 26.221%<br>Volatility: 0.110<br>Sharpe Ratio: 2.379<br>UA_Close: Weight=0.000<br>K_Close: Weight=0.000<br>NEE_Close: Weight=0.818<br>NFLX_Close: Weight=0.182",
                    "Return: 35.917%<br>Volatility: 0.112<br>Sharpe Ratio: 3.216<br>MCD_Close: Weight=0.627<br>ADBE_Close: Weight=0.224<br>CPB_Close: Weight=0.000<br>GM_Close: Weight=0.149",
                    "Return: 25.623%<br>Volatility: 0.115<br>Sharpe Ratio: 2.221<br>SRE_Close: Weight=0.000<br>META_Close: Weight=0.567<br>GS_Close: Weight=0.000<br>SYY_Close: Weight=0.433",
                    "Return: 22.106%<br>Volatility: 0.099<br>Sharpe Ratio: 2.236<br>DHR_Close: Weight=0.097<br>LMT_Close: Weight=0.851<br>BMY_Close: Weight=0.000<br>CMCSA_Close: Weight=0.052",
                    "Return: 25.067%<br>Volatility: 0.102<br>Sharpe Ratio: 2.467<br>MDT_Close: Weight=0.000<br>HON_Close: Weight=1.000<br>DHR_Close: Weight=0.000<br>GE_Close: Weight=0.000",
                    "Return: 23.220%<br>Volatility: 0.094<br>Sharpe Ratio: 2.458<br>AMGN_Close: Weight=0.000<br>ADBE_Close: Weight=0.245<br>KO_Close: Weight=0.587<br>CRM_Close: Weight=0.168",
                    "Return: 36.799%<br>Volatility: 0.141<br>Sharpe Ratio: 2.603<br>MA_Close: Weight=0.967<br>K_Close: Weight=0.000<br>CSCO_Close: Weight=0.033",
                    "Return: 10.497%<br>Volatility: 0.110<br>Sharpe Ratio: 0.956<br>BSX_Close: Weight=0.000<br>PG_Close: Weight=0.495<br>MS_Close: Weight=0.505",
                    "Return: 43.143%<br>Volatility: 0.177<br>Sharpe Ratio: 2.437<br>DHR_Close: Weight=0.160<br>NVDA_Close: Weight=0.297<br>INTC_Close: Weight=0.542",
                    "Return: 31.348%<br>Volatility: 0.120<br>Sharpe Ratio: 2.602<br>RTX_Close: Weight=0.368<br>KR_Close: Weight=0.000<br>BABA_Close: Weight=0.392<br>XOM_Close: Weight=0.240",
                    "Return: 44.524%<br>Volatility: 0.114<br>Sharpe Ratio: 3.899<br>DE_Close: Weight=0.182<br>CVX_Close: Weight=0.042<br>CAT_Close: Weight=0.351<br>V_Close: Weight=0.425",
                    "Return: 34.996%<br>Volatility: 0.123<br>Sharpe Ratio: 2.835<br>MCD_Close: Weight=0.854<br>GS_Close: Weight=0.000<br>BAC_Close: Weight=0.146<br>RDY_Close: Weight=0.000",
                    "Return: 26.391%<br>Volatility: 0.141<br>Sharpe Ratio: 1.867<br>CMCSA_Close: Weight=0.121<br>GOOGL_Close: Weight=0.343<br>META_Close: Weight=0.536",
                    "Return: 12.157%<br>Volatility: 0.119<br>Sharpe Ratio: 1.019<br>CSCO_Close: Weight=0.673<br>AMD_Close: Weight=0.000<br>PG_Close: Weight=0.327",
                    "Return: 64.107%<br>Volatility: 0.197<br>Sharpe Ratio: 3.250<br>CAT_Close: Weight=1.000<br>MS_Close: Weight=0.000<br>AMD_Close: Weight=0.000",
                    "Return: 20.360%<br>Volatility: 0.209<br>Sharpe Ratio: 0.972<br>BAC_Close: Weight=1.000<br>DIS_Close: Weight=0.000<br>K_Close: Weight=0.000",
                    "Return: 36.613%<br>Volatility: 0.133<br>Sharpe Ratio: 2.745<br>DE_Close: Weight=0.654<br>T_Close: Weight=0.000<br>TMO_Close: Weight=0.313<br>BTI_Close: Weight=0.033",
                    "Return: 25.229%<br>Volatility: 0.087<br>Sharpe Ratio: 2.900<br>SRE_Close: Weight=0.000<br>KO_Close: Weight=0.506<br>TXN_Close: Weight=0.356<br>AMZN_Close: Weight=0.138",
                    "Return: 20.487%<br>Volatility: 0.085<br>Sharpe Ratio: 2.421<br>AEP_Close: Weight=0.000<br>RTX_Close: Weight=0.284<br>DHR_Close: Weight=0.082<br>NEE_Close: Weight=0.633",
                    "Return: 27.656%<br>Volatility: 0.126<br>Sharpe Ratio: 2.196<br>ADBE_Close: Weight=0.455<br>GE_Close: Weight=0.000<br>REGN_Close: Weight=0.000<br>PEP_Close: Weight=0.545",
                    "Return: 35.781%<br>Volatility: 0.115<br>Sharpe Ratio: 3.110<br>PYPL_Close: Weight=0.434<br>CRM_Close: Weight=0.000<br>KO_Close: Weight=0.566",
                    "Return: 20.539%<br>Volatility: 0.106<br>Sharpe Ratio: 1.935<br>SYK_Close: Weight=0.470<br>BAC_Close: Weight=0.184<br>SYY_Close: Weight=0.342<br>CMCSA_Close: Weight=0.004",
                    "Return: 28.765%<br>Volatility: 0.114<br>Sharpe Ratio: 2.524<br>JPM_Close: Weight=0.225<br>BSX_Close: Weight=0.000<br>HD_Close: Weight=0.744<br>LLY_Close: Weight=0.031",
                    "Return: 34.300%<br>Volatility: 0.086<br>Sharpe Ratio: 3.971<br>MSFT_Close: Weight=0.199<br>NEE_Close: Weight=0.320<br>UNH_Close: Weight=0.219<br>DE_Close: Weight=0.262",
                    "Return: 35.599%<br>Volatility: 0.094<br>Sharpe Ratio: 3.787<br>NEE_Close: Weight=0.307<br>ABBV_Close: Weight=0.317<br>MA_Close: Weight=0.267<br>VZ_Close: Weight=0.109",
                    "Return: 29.831%<br>Volatility: 0.214<br>Sharpe Ratio: 1.395<br>NFLX_Close: Weight=0.700<br>NKE_Close: Weight=0.274<br>ZBH_Close: Weight=0.025",
                    "Return: 26.387%<br>Volatility: 0.144<br>Sharpe Ratio: 1.835<br>ETN_Close: Weight=0.250<br>SO_Close: Weight=0.000<br>META_Close: Weight=0.750",
                    "Return: 67.332%<br>Volatility: 0.191<br>Sharpe Ratio: 3.531<br>T_Close: Weight=0.000<br>NVDA_Close: Weight=0.194<br>CAT_Close: Weight=0.806",
                    "Return: 57.503%<br>Volatility: 0.203<br>Sharpe Ratio: 2.828<br>BTI_Close: Weight=0.007<br>BMY_Close: Weight=0.072<br>PYPL_Close: Weight=0.822<br>META_Close: Weight=0.099",
                    "Return: 39.412%<br>Volatility: 0.128<br>Sharpe Ratio: 3.077<br>DE_Close: Weight=0.482<br>COST_Close: Weight=0.061<br>VZ_Close: Weight=0.000<br>TXN_Close: Weight=0.457",
                    "Return: 9.799%<br>Volatility: 0.228<br>Sharpe Ratio: 0.430<br>BIIB_Close: Weight=1.000<br>AMD_Close: Weight=0.000<br>REGN_Close: Weight=0.000",
                    "Return: 24.311%<br>Volatility: 0.075<br>Sharpe Ratio: 3.262<br>HON_Close: Weight=0.382<br>KO_Close: Weight=0.315<br>UNH_Close: Weight=0.302",
                    "Return: 33.984%<br>Volatility: 0.130<br>Sharpe Ratio: 2.611<br>RTX_Close: Weight=0.224<br>MDT_Close: Weight=0.000<br>ADBE_Close: Weight=0.191<br>MSFT_Close: Weight=0.585",
                    "Return: 28.443%<br>Volatility: 0.111<br>Sharpe Ratio: 2.557<br>V_Close: Weight=0.768<br>CMCSA_Close: Weight=0.098<br>GOOG_Close: Weight=0.134<br>GIS_Close: Weight=0.000",
                    "Return: 32.048%<br>Volatility: 0.127<br>Sharpe Ratio: 2.525<br>PG_Close: Weight=0.342<br>MRK_Close: Weight=0.000<br>GE_Close: Weight=0.000<br>ISRG_Close: Weight=0.658",
                    "Return: 27.191%<br>Volatility: 0.126<br>Sharpe Ratio: 2.153<br>AMZN_Close: Weight=0.482<br>VZ_Close: Weight=0.205<br>EMR_Close: Weight=0.313",
                    "Return: 16.286%<br>Volatility: 0.105<br>Sharpe Ratio: 1.556<br>ORCL_Close: Weight=0.149<br>CPB_Close: Weight=0.000<br>SYK_Close: Weight=0.518<br>PFE_Close: Weight=0.333",
                    "Return: 36.718%<br>Volatility: 0.152<br>Sharpe Ratio: 2.419<br>MSFT_Close: Weight=1.000<br>SO_Close: Weight=0.000<br>K_Close: Weight=0.000",
                    "Return: 36.392%<br>Volatility: 0.168<br>Sharpe Ratio: 2.171<br>K_Close: Weight=0.000<br>GOOGL_Close: Weight=0.463<br>ADBE_Close: Weight=0.537<br>GILD_Close: Weight=0.000",
                    "Return: 20.069%<br>Volatility: 0.141<br>Sharpe Ratio: 1.426<br>CMCSA_Close: Weight=0.137<br>K_Close: Weight=0.000<br>SYK_Close: Weight=0.863<br>DIS_Close: Weight=0.000",
                    "Return: 16.158%<br>Volatility: 0.104<br>Sharpe Ratio: 1.557<br>DUK_Close: Weight=0.439<br>BIIB_Close: Weight=0.039<br>AAPL_Close: Weight=0.521",
                    "Return: 30.526%<br>Volatility: 0.105<br>Sharpe Ratio: 2.903<br>ORCL_Close: Weight=0.066<br>AEP_Close: Weight=0.600<br>BABA_Close: Weight=0.334",
                    "Return: 41.654%<br>Volatility: 0.131<br>Sharpe Ratio: 3.189<br>LMT_Close: Weight=0.576<br>PYPL_Close: Weight=0.424<br>MO_Close: Weight=0.000<br>RTX_Close: Weight=0.000",
                    "Return: 43.972%<br>Volatility: 0.140<br>Sharpe Ratio: 3.137<br>ABBV_Close: Weight=0.709<br>TMO_Close: Weight=0.175<br>CSCO_Close: Weight=0.115",
                    "Return: 46.177%<br>Volatility: 0.134<br>Sharpe Ratio: 3.453<br>ABBV_Close: Weight=0.524<br>WFC_Close: Weight=0.000<br>MA_Close: Weight=0.476<br>REGN_Close: Weight=0.000",
                    "Return: 25.364%<br>Volatility: 0.080<br>Sharpe Ratio: 3.166<br>ABT_Close: Weight=0.270<br>RTX_Close: Weight=0.094<br>NEE_Close: Weight=0.388<br>MMM_Close: Weight=0.248",
                    "Return: 24.360%<br>Volatility: 0.110<br>Sharpe Ratio: 2.206<br>RDY_Close: Weight=0.000<br>SNAP_Close: Weight=0.000<br>LMT_Close: Weight=1.000",
                    "Return: 29.408%<br>Volatility: 0.118<br>Sharpe Ratio: 2.498<br>ACN_Close: Weight=0.610<br>BIIB_Close: Weight=0.000<br>INTC_Close: Weight=0.390<br>WFC_Close: Weight=0.000",
                    "Return: 44.070%<br>Volatility: 0.102<br>Sharpe Ratio: 4.328<br>NEE_Close: Weight=0.439<br>BABA_Close: Weight=0.158<br>BMY_Close: Weight=0.000<br>BA_Close: Weight=0.403",
                    "Return: 23.604%<br>Volatility: 0.094<br>Sharpe Ratio: 2.518<br>JPM_Close: Weight=0.197<br>UA_Close: Weight=0.000<br>AAPL_Close: Weight=0.171<br>LMT_Close: Weight=0.633",
                    "Return: 45.710%<br>Volatility: 0.147<br>Sharpe Ratio: 3.113<br>TSLA_Close: Weight=0.024<br>ABT_Close: Weight=0.455<br>META_Close: Weight=0.055<br>PYPL_Close: Weight=0.466",
                    "Return: 41.914%<br>Volatility: 0.167<br>Sharpe Ratio: 2.508<br>GILD_Close: Weight=0.000<br>SAP_Close: Weight=0.502<br>BABA_Close: Weight=0.498<br>REGN_Close: Weight=0.000",
                    "Return: 24.898%<br>Volatility: 0.100<br>Sharpe Ratio: 2.494<br>JNJ_Close: Weight=0.361<br>VRTX_Close: Weight=0.141<br>CRM_Close: Weight=0.316<br>VZ_Close: Weight=0.182",
                    "Return: 10.936%<br>Volatility: 0.104<br>Sharpe Ratio: 1.051<br>MS_Close: Weight=0.338<br>GM_Close: Weight=0.243<br>XOM_Close: Weight=0.076<br>PG_Close: Weight=0.343",
                    "Return: 26.814%<br>Volatility: 0.093<br>Sharpe Ratio: 2.869<br>COST_Close: Weight=0.040<br>BIIB_Close: Weight=0.000<br>KO_Close: Weight=0.550<br>ISRG_Close: Weight=0.410",
                    "Return: 40.674%<br>Volatility: 0.121<br>Sharpe Ratio: 3.372<br>ETN_Close: Weight=0.079<br>ABBV_Close: Weight=0.539<br>ACN_Close: Weight=0.382",
                    "Return: 19.117%<br>Volatility: 0.094<br>Sharpe Ratio: 2.043<br>DHR_Close: Weight=0.089<br>AAPL_Close: Weight=0.353<br>JNJ_Close: Weight=0.557",
                    "Return: 31.520%<br>Volatility: 0.098<br>Sharpe Ratio: 3.232<br>PM_Close: Weight=0.000<br>WMT_Close: Weight=0.409<br>AEP_Close: Weight=0.000<br>NEE_Close: Weight=0.591",
                    "Return: 23.376%<br>Volatility: 0.103<br>Sharpe Ratio: 2.263<br>EXC_Close: Weight=0.263<br>GIS_Close: Weight=0.000<br>TSLA_Close: Weight=0.077<br>ACN_Close: Weight=0.660",
                    "Return: 15.397%<br>Volatility: 0.092<br>Sharpe Ratio: 1.680<br>AEP_Close: Weight=0.717<br>QCOM_Close: Weight=0.180<br>COST_Close: Weight=0.103",
                    "Return: 24.425%<br>Volatility: 0.079<br>Sharpe Ratio: 3.080<br>NEE_Close: Weight=0.413<br>LMT_Close: Weight=0.399<br>CMCSA_Close: Weight=0.013<br>GOOG_Close: Weight=0.175",
                    "Return: 46.907%<br>Volatility: 0.288<br>Sharpe Ratio: 1.627<br>CMCSA_Close: Weight=0.279<br>SO_Close: Weight=0.000<br>VRTX_Close: Weight=0.721",
                    "Return: 25.891%<br>Volatility: 0.117<br>Sharpe Ratio: 2.221<br>EW_Close: Weight=0.133<br>LLY_Close: Weight=0.000<br>NKE_Close: Weight=0.070<br>MMM_Close: Weight=0.797",
                    "Return: 17.220%<br>Volatility: 0.098<br>Sharpe Ratio: 1.748<br>XOM_Close: Weight=0.109<br>JNJ_Close: Weight=0.538<br>SYK_Close: Weight=0.353",
                    "Return: 33.751%<br>Volatility: 0.137<br>Sharpe Ratio: 2.464<br>TSLA_Close: Weight=0.028<br>MSFT_Close: Weight=0.869<br>GS_Close: Weight=0.000<br>NKE_Close: Weight=0.103",
                    "Return: 42.291%<br>Volatility: 0.157<br>Sharpe Ratio: 2.697<br>ABT_Close: Weight=0.738<br>AMD_Close: Weight=0.000<br>MRK_Close: Weight=0.000<br>NVDA_Close: Weight=0.262",
                    "Return: 41.600%<br>Volatility: 0.163<br>Sharpe Ratio: 2.547<br>PM_Close: Weight=0.000<br>MDT_Close: Weight=0.000<br>CMCSA_Close: Weight=0.099<br>DE_Close: Weight=0.901",
                    "Return: 32.896%<br>Volatility: 0.116<br>Sharpe Ratio: 2.826<br>DE_Close: Weight=0.494<br>SYY_Close: Weight=0.217<br>KR_Close: Weight=0.000<br>SAP_Close: Weight=0.289",
                    "Return: 40.574%<br>Volatility: 0.189<br>Sharpe Ratio: 2.145<br>PG_Close: Weight=0.332<br>COST_Close: Weight=0.212<br>SNAP_Close: Weight=0.000<br>NVDA_Close: Weight=0.457",
                    "Return: 22.133%<br>Volatility: 0.103<br>Sharpe Ratio: 2.145<br>PM_Close: Weight=0.000<br>GIS_Close: Weight=0.000<br>BMY_Close: Weight=0.117<br>NEE_Close: Weight=0.883",
                    "Return: 16.111%<br>Volatility: 0.164<br>Sharpe Ratio: 0.982<br>MDT_Close: Weight=0.000<br>SRE_Close: Weight=0.000<br>CSCO_Close: Weight=1.000<br>GE_Close: Weight=0.000",
                    "Return: 17.220%<br>Volatility: 0.145<br>Sharpe Ratio: 1.191<br>EW_Close: Weight=0.423<br>DIS_Close: Weight=0.000<br>WFC_Close: Weight=0.039<br>ETN_Close: Weight=0.537",
                    "Return: 18.831%<br>Volatility: 0.108<br>Sharpe Ratio: 1.737<br>CPB_Close: Weight=0.000<br>JNJ_Close: Weight=0.609<br>SNAP_Close: Weight=0.000<br>SYK_Close: Weight=0.391",
                    "Return: 41.848%<br>Volatility: 0.156<br>Sharpe Ratio: 2.679<br>WMT_Close: Weight=0.747<br>GE_Close: Weight=0.000<br>NFLX_Close: Weight=0.253",
                    "Return: 44.499%<br>Volatility: 0.123<br>Sharpe Ratio: 3.630<br>ABBV_Close: Weight=0.514<br>TXN_Close: Weight=0.399<br>TMO_Close: Weight=0.086",
                    "Return: 16.831%<br>Volatility: 0.196<br>Sharpe Ratio: 0.858<br>MS_Close: Weight=1.000<br>K_Close: Weight=0.000<br>GIS_Close: Weight=0.000",
                    "Return: 24.185%<br>Volatility: 0.114<br>Sharpe Ratio: 2.114<br>IBM_Close: Weight=0.000<br>VZ_Close: Weight=0.240<br>AMZN_Close: Weight=0.460<br>EXC_Close: Weight=0.300",
                    "Return: 46.071%<br>Volatility: 0.166<br>Sharpe Ratio: 2.773<br>BABA_Close: Weight=0.374<br>TXN_Close: Weight=0.615<br>MS_Close: Weight=0.011",
                    "Return: 24.842%<br>Volatility: 0.114<br>Sharpe Ratio: 2.176<br>EMR_Close: Weight=0.275<br>AMZN_Close: Weight=0.419<br>VZ_Close: Weight=0.178<br>DHR_Close: Weight=0.129",
                    "Return: 21.971%<br>Volatility: 0.077<br>Sharpe Ratio: 2.844<br>GILD_Close: Weight=0.018<br>JPM_Close: Weight=0.343<br>NEE_Close: Weight=0.638",
                    "Return: 27.786%<br>Volatility: 0.132<br>Sharpe Ratio: 2.108<br>VRTX_Close: Weight=0.244<br>GIS_Close: Weight=0.000<br>JNJ_Close: Weight=0.756<br>KR_Close: Weight=0.000",
                    "Return: 34.036%<br>Volatility: 0.126<br>Sharpe Ratio: 2.705<br>MA_Close: Weight=0.816<br>BAC_Close: Weight=0.164<br>LLY_Close: Weight=0.020",
                    "Return: 28.624%<br>Volatility: 0.110<br>Sharpe Ratio: 2.597<br>PEP_Close: Weight=0.252<br>ACN_Close: Weight=0.475<br>ADBE_Close: Weight=0.273<br>SNAP_Close: Weight=0.000",
                    "Return: 17.686%<br>Volatility: 0.161<br>Sharpe Ratio: 1.098<br>NKE_Close: Weight=0.275<br>RMD_Close: Weight=0.725<br>KR_Close: Weight=0.000",
                    "Return: 20.550%<br>Volatility: 0.081<br>Sharpe Ratio: 2.527<br>KO_Close: Weight=0.592<br>F_Close: Weight=0.000<br>AMZN_Close: Weight=0.244<br>BAC_Close: Weight=0.164",
                    "Return: 14.630%<br>Volatility: 0.133<br>Sharpe Ratio: 1.100<br>GS_Close: Weight=0.000<br>WFC_Close: Weight=0.091<br>CVX_Close: Weight=0.909<br>DIS_Close: Weight=0.000",
                    "Return: 31.955%<br>Volatility: 0.117<br>Sharpe Ratio: 2.734<br>MO_Close: Weight=0.000<br>GOOGL_Close: Weight=0.323<br>SRE_Close: Weight=0.000<br>UNH_Close: Weight=0.677",
                    "Return: 21.718%<br>Volatility: 0.098<br>Sharpe Ratio: 2.225<br>PG_Close: Weight=0.130<br>GILD_Close: Weight=0.000<br>LMT_Close: Weight=0.870",
                    "Return: 16.207%<br>Volatility: 0.110<br>Sharpe Ratio: 1.477<br>UA_Close: Weight=0.000<br>TSLA_Close: Weight=0.129<br>ORCL_Close: Weight=0.267<br>CVX_Close: Weight=0.604",
                    "Return: 22.263%<br>Volatility: 0.089<br>Sharpe Ratio: 2.494<br>SRE_Close: Weight=0.000<br>HON_Close: Weight=0.867<br>PG_Close: Weight=0.133<br>BIIB_Close: Weight=0.000",
                    "Return: 38.077%<br>Volatility: 0.177<br>Sharpe Ratio: 2.154<br>DUK_Close: Weight=0.572<br>NVDA_Close: Weight=0.428<br>UA_Close: Weight=0.000",
                    "Return: 19.657%<br>Volatility: 0.077<br>Sharpe Ratio: 2.537<br>EXC_Close: Weight=0.187<br>JPM_Close: Weight=0.219<br>PEP_Close: Weight=0.324<br>INTC_Close: Weight=0.270",
                    "Return: 42.466%<br>Volatility: 0.169<br>Sharpe Ratio: 2.518<br>CRM_Close: Weight=0.228<br>GOOG_Close: Weight=0.322<br>BABA_Close: Weight=0.450",
                    "Return: 21.183%<br>Volatility: 0.078<br>Sharpe Ratio: 2.700<br>KO_Close: Weight=0.416<br>GOOGL_Close: Weight=0.223<br>ABT_Close: Weight=0.311<br>RMD_Close: Weight=0.050",
                    "Return: 29.505%<br>Volatility: 0.116<br>Sharpe Ratio: 2.551<br>BAC_Close: Weight=0.139<br>MO_Close: Weight=0.000<br>V_Close: Weight=0.861",
                    "Return: 17.486%<br>Volatility: 0.114<br>Sharpe Ratio: 1.529<br>XOM_Close: Weight=0.115<br>GS_Close: Weight=0.000<br>ETN_Close: Weight=0.275<br>SYK_Close: Weight=0.610",
                    "Return: 18.532%<br>Volatility: 0.156<br>Sharpe Ratio: 1.186<br>MDT_Close: Weight=0.032<br>UA_Close: Weight=0.000<br>SYY_Close: Weight=0.968<br>IBM_Close: Weight=0.000",
                    "Return: 34.887%<br>Volatility: 0.136<br>Sharpe Ratio: 2.574<br>CSCO_Close: Weight=0.125<br>ISRG_Close: Weight=0.653<br>CMCSA_Close: Weight=0.143<br>ETN_Close: Weight=0.079",
                    "Return: 36.084%<br>Volatility: 0.157<br>Sharpe Ratio: 2.302<br>TXN_Close: Weight=0.967<br>MDT_Close: Weight=0.000<br>QCOM_Close: Weight=0.000<br>GILD_Close: Weight=0.033",
                    "Return: 36.217%<br>Volatility: 0.157<br>Sharpe Ratio: 2.302<br>CMCSA_Close: Weight=0.034<br>WFC_Close: Weight=0.000<br>TXN_Close: Weight=0.966",
                    "Return: 22.551%<br>Volatility: 0.103<br>Sharpe Ratio: 2.181<br>QCOM_Close: Weight=0.118<br>NEE_Close: Weight=0.830<br>AEP_Close: Weight=0.052",
                    "Return: 25.471%<br>Volatility: 0.131<br>Sharpe Ratio: 1.952<br>BAC_Close: Weight=0.243<br>ORCL_Close: Weight=0.122<br>SO_Close: Weight=0.016<br>META_Close: Weight=0.619",
                    "Return: 48.796%<br>Volatility: 0.203<br>Sharpe Ratio: 2.405<br>KR_Close: Weight=0.000<br>BABA_Close: Weight=0.650<br>AAPL_Close: Weight=0.350<br>GS_Close: Weight=0.000",
                    "Return: 35.958%<br>Volatility: 0.127<br>Sharpe Ratio: 2.838<br>RTX_Close: Weight=0.278<br>CVX_Close: Weight=0.369<br>NVDA_Close: Weight=0.200<br>VRTX_Close: Weight=0.153",
                    "Return: 49.091%<br>Volatility: 0.121<br>Sharpe Ratio: 4.043<br>ISRG_Close: Weight=0.340<br>BA_Close: Weight=0.551<br>UA_Close: Weight=0.000<br>XOM_Close: Weight=0.109",
                    "Return: 19.589%<br>Volatility: 0.193<br>Sharpe Ratio: 1.015<br>REGN_Close: Weight=0.037<br>RMD_Close: Weight=0.963<br>MDT_Close: Weight=0.000",
                    "Return: 27.507%<br>Volatility: 0.136<br>Sharpe Ratio: 2.022<br>CVX_Close: Weight=0.572<br>VRTX_Close: Weight=0.277<br>BTI_Close: Weight=0.151",
                    "Return: 24.837%<br>Volatility: 0.111<br>Sharpe Ratio: 2.235<br>REGN_Close: Weight=0.000<br>RTX_Close: Weight=0.328<br>ABT_Close: Weight=0.672",
                    "Return: 15.709%<br>Volatility: 0.119<br>Sharpe Ratio: 1.325<br>GILD_Close: Weight=0.000<br>RTX_Close: Weight=0.772<br>BMY_Close: Weight=0.228<br>MO_Close: Weight=0.000",
                    "Return: 5.480%<br>Volatility: 0.077<br>Sharpe Ratio: 0.709<br>DUK_Close: Weight=0.804<br>F_Close: Weight=0.169<br>REGN_Close: Weight=0.027",
                    "Return: 51.771%<br>Volatility: 0.216<br>Sharpe Ratio: 2.392<br>BABA_Close: Weight=0.748<br>EW_Close: Weight=0.252<br>AMD_Close: Weight=0.000",
                    "Return: 47.930%<br>Volatility: 0.136<br>Sharpe Ratio: 3.518<br>EXC_Close: Weight=0.247<br>BA_Close: Weight=0.753<br>GE_Close: Weight=0.000",
                    "Return: 40.785%<br>Volatility: 0.146<br>Sharpe Ratio: 2.789<br>INTC_Close: Weight=0.416<br>UA_Close: Weight=0.000<br>ISRG_Close: Weight=0.584",
                    "Return: 11.154%<br>Volatility: 0.191<br>Sharpe Ratio: 0.584<br>SRE_Close: Weight=0.000<br>BTI_Close: Weight=1.000<br>SO_Close: Weight=0.000",
                    "Return: 18.171%<br>Volatility: 0.093<br>Sharpe Ratio: 1.948<br>TMO_Close: Weight=0.326<br>NKE_Close: Weight=0.067<br>RMD_Close: Weight=0.215<br>CVX_Close: Weight=0.393",
                    "Return: 15.484%<br>Volatility: 0.109<br>Sharpe Ratio: 1.423<br>CMCSA_Close: Weight=0.039<br>JPM_Close: Weight=0.590<br>DHR_Close: Weight=0.372",
                    "Return: 11.229%<br>Volatility: 0.122<br>Sharpe Ratio: 0.917<br>DIS_Close: Weight=0.005<br>BTI_Close: Weight=0.468<br>BMY_Close: Weight=0.527",
                    "Return: 34.574%<br>Volatility: 0.136<br>Sharpe Ratio: 2.536<br>F_Close: Weight=0.032<br>INTC_Close: Weight=0.262<br>MSFT_Close: Weight=0.706",
                    "Return: 3.765%<br>Volatility: 0.099<br>Sharpe Ratio: 0.382<br>F_Close: Weight=0.130<br>XOM_Close: Weight=0.870<br>T_Close: Weight=0.000",
                    "Return: 49.515%<br>Volatility: 0.165<br>Sharpe Ratio: 2.998<br>PYPL_Close: Weight=0.651<br>EMR_Close: Weight=0.349<br>T_Close: Weight=0.000",
                    "Return: 2.469%<br>Volatility: 0.161<br>Sharpe Ratio: 0.153<br>MDT_Close: Weight=0.224<br>DIS_Close: Weight=0.000<br>GS_Close: Weight=0.776",
                    "Return: 25.097%<br>Volatility: 0.094<br>Sharpe Ratio: 2.674<br>CRM_Close: Weight=0.240<br>RTX_Close: Weight=0.009<br>HON_Close: Weight=0.751",
                    "Return: 33.909%<br>Volatility: 0.167<br>Sharpe Ratio: 2.031<br>VRTX_Close: Weight=0.338<br>SNAP_Close: Weight=0.000<br>JPM_Close: Weight=0.662<br>BAC_Close: Weight=0.000",
                    "Return: 46.115%<br>Volatility: 0.106<br>Sharpe Ratio: 4.335<br>MCD_Close: Weight=0.443<br>DHR_Close: Weight=0.000<br>GOOGL_Close: Weight=0.108<br>BA_Close: Weight=0.449",
                    "Return: 50.526%<br>Volatility: 0.142<br>Sharpe Ratio: 3.562<br>PYPL_Close: Weight=0.289<br>ISRG_Close: Weight=0.307<br>WMT_Close: Weight=0.404",
                    "Return: 25.611%<br>Volatility: 0.112<br>Sharpe Ratio: 2.285<br>UA_Close: Weight=0.000<br>JNJ_Close: Weight=0.598<br>AMZN_Close: Weight=0.402",
                    "Return: 9.371%<br>Volatility: 0.089<br>Sharpe Ratio: 1.057<br>DUK_Close: Weight=0.638<br>DIS_Close: Weight=0.000<br>GS_Close: Weight=0.087<br>QCOM_Close: Weight=0.275",
                    "Return: 26.528%<br>Volatility: 0.092<br>Sharpe Ratio: 2.875<br>VRTX_Close: Weight=0.100<br>HON_Close: Weight=0.677<br>CVX_Close: Weight=0.224",
                    "Return: 42.434%<br>Volatility: 0.179<br>Sharpe Ratio: 2.372<br>UA_Close: Weight=0.000<br>WMT_Close: Weight=0.983<br>WFC_Close: Weight=0.017",
                    "Return: 30.813%<br>Volatility: 0.095<br>Sharpe Ratio: 3.239<br>WMT_Close: Weight=0.395<br>BMY_Close: Weight=0.036<br>NEE_Close: Weight=0.570",
                    "Return: 42.732%<br>Volatility: 0.127<br>Sharpe Ratio: 3.355<br>ACN_Close: Weight=0.424<br>ABBV_Close: Weight=0.576<br>T_Close: Weight=0.000",
                    "Return: 8.866%<br>Volatility: 0.186<br>Sharpe Ratio: 0.478<br>RDY_Close: Weight=0.000<br>SRE_Close: Weight=0.178<br>NKE_Close: Weight=0.822<br>GE_Close: Weight=0.000",
                    "Return: 33.440%<br>Volatility: 0.141<br>Sharpe Ratio: 2.370<br>TXN_Close: Weight=0.781<br>EMR_Close: Weight=0.219<br>UA_Close: Weight=0.000",
                    "Return: 25.463%<br>Volatility: 0.145<br>Sharpe Ratio: 1.751<br>MDT_Close: Weight=0.000<br>GOOG_Close: Weight=0.894<br>WFC_Close: Weight=0.106<br>RDY_Close: Weight=0.000",
                    "Return: 32.195%<br>Volatility: 0.102<br>Sharpe Ratio: 3.149<br>BTI_Close: Weight=0.000<br>KO_Close: Weight=0.549<br>NVDA_Close: Weight=0.115<br>ISRG_Close: Weight=0.337",
                    "Return: 41.227%<br>Volatility: 0.137<br>Sharpe Ratio: 2.999<br>GIS_Close: Weight=0.000<br>WMT_Close: Weight=0.603<br>AMZN_Close: Weight=0.397<br>SRE_Close: Weight=0.000",
                    "Return: 20.085%<br>Volatility: 0.134<br>Sharpe Ratio: 1.498<br>EMR_Close: Weight=0.475<br>IBM_Close: Weight=0.000<br>JPM_Close: Weight=0.525",
                    "Return: 29.461%<br>Volatility: 0.134<br>Sharpe Ratio: 2.198<br>JPM_Close: Weight=0.485<br>AMZN_Close: Weight=0.515<br>BIIB_Close: Weight=0.000",
                    "Return: 13.160%<br>Volatility: 0.167<br>Sharpe Ratio: 0.790<br>GM_Close: Weight=0.835<br>GILD_Close: Weight=0.165<br>SNAP_Close: Weight=0.000",
                    "Return: 20.550%<br>Volatility: 0.114<br>Sharpe Ratio: 1.804<br>GM_Close: Weight=0.197<br>RMD_Close: Weight=0.156<br>SAP_Close: Weight=0.647",
                    "Return: 50.284%<br>Volatility: 0.144<br>Sharpe Ratio: 3.485<br>CSCO_Close: Weight=0.096<br>BTI_Close: Weight=0.105<br>BA_Close: Weight=0.799",
                    "Return: 21.863%<br>Volatility: 0.148<br>Sharpe Ratio: 1.474<br>QCOM_Close: Weight=0.213<br>XOM_Close: Weight=0.357<br>NFLX_Close: Weight=0.431",
                    "Return: 27.550%<br>Volatility: 0.115<br>Sharpe Ratio: 2.393<br>LLY_Close: Weight=0.000<br>ABT_Close: Weight=0.615<br>F_Close: Weight=0.000<br>GOOGL_Close: Weight=0.385",
                    "Return: 20.416%<br>Volatility: 0.113<br>Sharpe Ratio: 1.809<br>TMO_Close: Weight=0.371<br>GM_Close: Weight=0.178<br>SYK_Close: Weight=0.452<br>RDY_Close: Weight=0.000",
                    "Return: 14.360%<br>Volatility: 0.100<br>Sharpe Ratio: 1.439<br>AEP_Close: Weight=0.948<br>GIS_Close: Weight=0.000<br>REGN_Close: Weight=0.052",
                    "Return: 19.920%<br>Volatility: 0.156<br>Sharpe Ratio: 1.276<br>AMGN_Close: Weight=0.000<br>REGN_Close: Weight=0.000<br>JPM_Close: Weight=1.000",
                    "Return: 17.810%<br>Volatility: 0.087<br>Sharpe Ratio: 2.048<br>AEP_Close: Weight=0.492<br>BMY_Close: Weight=0.109<br>EXC_Close: Weight=0.071<br>AAPL_Close: Weight=0.328",
                    "Return: 31.226%<br>Volatility: 0.105<br>Sharpe Ratio: 2.966<br>CSCO_Close: Weight=0.125<br>MCD_Close: Weight=0.679<br>SYY_Close: Weight=0.196",
                    "Return: 27.357%<br>Volatility: 0.097<br>Sharpe Ratio: 2.821<br>BTI_Close: Weight=0.000<br>V_Close: Weight=0.699<br>ETN_Close: Weight=0.011<br>SYY_Close: Weight=0.289",
                    "Return: 43.721%<br>Volatility: 0.138<br>Sharpe Ratio: 3.174<br>ABBV_Close: Weight=0.623<br>SYK_Close: Weight=0.110<br>ABT_Close: Weight=0.267",
                    "Return: 63.998%<br>Volatility: 0.250<br>Sharpe Ratio: 2.559<br>QCOM_Close: Weight=0.077<br>NVDA_Close: Weight=0.298<br>RDY_Close: Weight=0.000<br>BABA_Close: Weight=0.624",
                    "Return: 19.920%<br>Volatility: 0.156<br>Sharpe Ratio: 1.276<br>MDT_Close: Weight=0.000<br>JPM_Close: Weight=1.000<br>K_Close: Weight=0.000",
                    "Return: 51.171%<br>Volatility: 0.147<br>Sharpe Ratio: 3.490<br>GM_Close: Weight=0.000<br>NKE_Close: Weight=0.050<br>META_Close: Weight=0.307<br>CAT_Close: Weight=0.644",
                    "Return: 52.744%<br>Volatility: 0.154<br>Sharpe Ratio: 3.424<br>ETN_Close: Weight=0.027<br>PG_Close: Weight=0.100<br>BA_Close: Weight=0.873<br>SO_Close: Weight=0.000",
                    "Return: 36.718%<br>Volatility: 0.152<br>Sharpe Ratio: 2.419<br>MSFT_Close: Weight=1.000<br>K_Close: Weight=0.000<br>RDY_Close: Weight=0.000<br>ZBH_Close: Weight=0.000",
                    "Return: 27.937%<br>Volatility: 0.108<br>Sharpe Ratio: 2.579<br>AMGN_Close: Weight=0.000<br>RTX_Close: Weight=0.134<br>INTC_Close: Weight=0.332<br>MMM_Close: Weight=0.533",
                    "Return: 51.318%<br>Volatility: 0.139<br>Sharpe Ratio: 3.698<br>GIS_Close: Weight=0.000<br>BA_Close: Weight=0.694<br>K_Close: Weight=0.000<br>INTC_Close: Weight=0.306",
                    "Return: 45.251%<br>Volatility: 0.121<br>Sharpe Ratio: 3.744<br>AMD_Close: Weight=0.000<br>ABBV_Close: Weight=0.468<br>MCD_Close: Weight=0.532",
                    "Return: 28.244%<br>Volatility: 0.093<br>Sharpe Ratio: 3.023<br>HD_Close: Weight=0.480<br>LMT_Close: Weight=0.520<br>MRK_Close: Weight=0.000",
                    "Return: 35.169%<br>Volatility: 0.164<br>Sharpe Ratio: 2.151<br>AMZN_Close: Weight=0.437<br>INTC_Close: Weight=0.563<br>KR_Close: Weight=0.000",
                    "Return: 29.214%<br>Volatility: 0.123<br>Sharpe Ratio: 2.382<br>RMD_Close: Weight=0.080<br>XOM_Close: Weight=0.132<br>TXN_Close: Weight=0.600<br>CRM_Close: Weight=0.188",
                    "Return: 10.688%<br>Volatility: 0.138<br>Sharpe Ratio: 0.776<br>CMCSA_Close: Weight=0.388<br>PM_Close: Weight=0.000<br>BMY_Close: Weight=0.612",
                    "Return: 22.490%<br>Volatility: 0.112<br>Sharpe Ratio: 2.011<br>GOOGL_Close: Weight=0.531<br>ETN_Close: Weight=0.087<br>T_Close: Weight=0.000<br>JPM_Close: Weight=0.383",
                    "Return: 35.211%<br>Volatility: 0.146<br>Sharpe Ratio: 2.414<br>META_Close: Weight=0.295<br>NFLX_Close: Weight=0.000<br>AMGN_Close: Weight=0.000<br>TXN_Close: Weight=0.705",
                    "Return: 42.143%<br>Volatility: 0.184<br>Sharpe Ratio: 2.296<br>QCOM_Close: Weight=0.040<br>SAP_Close: Weight=0.618<br>NVDA_Close: Weight=0.341",
                    "Return: 29.602%<br>Volatility: 0.105<br>Sharpe Ratio: 2.808<br>EW_Close: Weight=0.030<br>LMT_Close: Weight=0.556<br>TXN_Close: Weight=0.414",
                    "Return: 17.387%<br>Volatility: 0.127<br>Sharpe Ratio: 1.371<br>QCOM_Close: Weight=0.226<br>PM_Close: Weight=0.000<br>GE_Close: Weight=0.000<br>RTX_Close: Weight=0.774",
                    "Return: 51.874%<br>Volatility: 0.158<br>Sharpe Ratio: 3.288<br>PFE_Close: Weight=0.223<br>AMGN_Close: Weight=0.000<br>CAT_Close: Weight=0.777",
                    "Return: 31.268%<br>Volatility: 0.153<br>Sharpe Ratio: 2.044<br>VRTX_Close: Weight=0.227<br>GOOGL_Close: Weight=0.505<br>CSCO_Close: Weight=0.268",
                    "Return: 24.503%<br>Volatility: 0.080<br>Sharpe Ratio: 3.052<br>CVX_Close: Weight=0.152<br>INTC_Close: Weight=0.236<br>DUK_Close: Weight=0.206<br>HD_Close: Weight=0.407",
                    "Return: 31.439%<br>Volatility: 0.130<br>Sharpe Ratio: 2.411<br>MRK_Close: Weight=0.000<br>HD_Close: Weight=0.953<br>NKE_Close: Weight=0.047",
                    "Return: 37.287%<br>Volatility: 0.108<br>Sharpe Ratio: 3.462<br>HON_Close: Weight=0.513<br>ABBV_Close: Weight=0.428<br>REGN_Close: Weight=0.000<br>SYK_Close: Weight=0.058",
                    "Return: 43.058%<br>Volatility: 0.182<br>Sharpe Ratio: 2.372<br>K_Close: Weight=0.000<br>WMT_Close: Weight=1.000<br>COST_Close: Weight=0.000",
                    "Return: 25.521%<br>Volatility: 0.135<br>Sharpe Ratio: 1.885<br>CSCO_Close: Weight=0.279<br>META_Close: Weight=0.688<br>GIS_Close: Weight=0.034<br>BSX_Close: Weight=0.000",
                    "Return: 20.420%<br>Volatility: 0.086<br>Sharpe Ratio: 2.382<br>MO_Close: Weight=0.000<br>PEP_Close: Weight=0.337<br>F_Close: Weight=0.001<br>LMT_Close: Weight=0.662",
                    "Return: 37.028%<br>Volatility: 0.121<br>Sharpe Ratio: 3.050<br>ABT_Close: Weight=0.492<br>GS_Close: Weight=0.000<br>DE_Close: Weight=0.508",
                    "Return: 32.348%<br>Volatility: 0.174<br>Sharpe Ratio: 1.858<br>F_Close: Weight=0.009<br>MRK_Close: Weight=0.000<br>INTC_Close: Weight=0.991",
                    "Return: 24.228%<br>Volatility: 0.106<br>Sharpe Ratio: 2.285<br>VZ_Close: Weight=0.042<br>EMR_Close: Weight=0.167<br>INTC_Close: Weight=0.474<br>CVX_Close: Weight=0.317",
                    "Return: 28.448%<br>Volatility: 0.110<br>Sharpe Ratio: 2.588<br>MSFT_Close: Weight=0.591<br>GOOG_Close: Weight=0.066<br>VZ_Close: Weight=0.159<br>RTX_Close: Weight=0.183",
                    "Return: 28.443%<br>Volatility: 0.111<br>Sharpe Ratio: 2.557<br>SNAP_Close: Weight=0.000<br>CMCSA_Close: Weight=0.098<br>GOOG_Close: Weight=0.134<br>V_Close: Weight=0.768",
                    "Return: 56.038%<br>Volatility: 0.171<br>Sharpe Ratio: 3.270<br>AMD_Close: Weight=0.000<br>DHR_Close: Weight=0.147<br>CAT_Close: Weight=0.853",
                    "Return: 23.995%<br>Volatility: 0.125<br>Sharpe Ratio: 1.916<br>SAP_Close: Weight=0.619<br>NFLX_Close: Weight=0.193<br>GM_Close: Weight=0.189",
                    "Return: 11.778%<br>Volatility: 0.131<br>Sharpe Ratio: 0.896<br>XOM_Close: Weight=0.201<br>ETN_Close: Weight=0.799<br>MDT_Close: Weight=0.000",
                    "Return: 30.462%<br>Volatility: 0.113<br>Sharpe Ratio: 2.685<br>MA_Close: Weight=0.558<br>V_Close: Weight=0.313<br>DIS_Close: Weight=0.126<br>ETN_Close: Weight=0.004",
                    "Return: 8.240%<br>Volatility: 0.114<br>Sharpe Ratio: 0.725<br>UA_Close: Weight=0.000<br>LLY_Close: Weight=0.181<br>DHR_Close: Weight=0.819",
                    "Return: 15.588%<br>Volatility: 0.082<br>Sharpe Ratio: 1.903<br>RMD_Close: Weight=0.145<br>SO_Close: Weight=0.000<br>JNJ_Close: Weight=0.414<br>PEP_Close: Weight=0.441",
                    "Return: 22.475%<br>Volatility: 0.099<br>Sharpe Ratio: 2.260<br>BIIB_Close: Weight=0.015<br>RMD_Close: Weight=0.128<br>QCOM_Close: Weight=0.096<br>NEE_Close: Weight=0.761",
                    "Return: 25.854%<br>Volatility: 0.089<br>Sharpe Ratio: 2.921<br>MMM_Close: Weight=0.334<br>LMT_Close: Weight=0.424<br>GOOG_Close: Weight=0.168<br>TMO_Close: Weight=0.074",
                    "Return: 12.257%<br>Volatility: 0.114<br>Sharpe Ratio: 1.078<br>GE_Close: Weight=0.000<br>COST_Close: Weight=0.261<br>EXC_Close: Weight=0.739<br>K_Close: Weight=0.000",
                    "Return: 16.111%<br>Volatility: 0.164<br>Sharpe Ratio: 0.982<br>RDY_Close: Weight=0.000<br>CSCO_Close: Weight=1.000<br>SNAP_Close: Weight=0.000",
                    "Return: 45.477%<br>Volatility: 0.187<br>Sharpe Ratio: 2.437<br>ISRG_Close: Weight=0.973<br>BMY_Close: Weight=0.007<br>GS_Close: Weight=0.019",
                    "Return: 2.996%<br>Volatility: 0.166<br>Sharpe Ratio: 0.180<br>K_Close: Weight=0.000<br>F_Close: Weight=1.000<br>BSX_Close: Weight=0.000",
                    "Return: 29.250%<br>Volatility: 0.101<br>Sharpe Ratio: 2.894<br>DUK_Close: Weight=0.200<br>WMT_Close: Weight=0.391<br>ACN_Close: Weight=0.409",
                    "Return: 30.957%<br>Volatility: 0.124<br>Sharpe Ratio: 2.500<br>UA_Close: Weight=0.000<br>EXC_Close: Weight=0.239<br>MSFT_Close: Weight=0.761<br>MO_Close: Weight=0.000",
                    "Return: 50.985%<br>Volatility: 0.147<br>Sharpe Ratio: 3.470<br>BA_Close: Weight=0.829<br>BTI_Close: Weight=0.127<br>LLY_Close: Weight=0.043",
                    "Return: 47.526%<br>Volatility: 0.133<br>Sharpe Ratio: 3.566<br>PYPL_Close: Weight=0.417<br>BIIB_Close: Weight=0.000<br>UNH_Close: Weight=0.583<br>MO_Close: Weight=0.000",
                    "Return: 28.653%<br>Volatility: 0.161<br>Sharpe Ratio: 1.785<br>NFLX_Close: Weight=0.248<br>IBM_Close: Weight=0.000<br>CRM_Close: Weight=0.752",
                    "Return: 22.478%<br>Volatility: 0.102<br>Sharpe Ratio: 2.209<br>PEP_Close: Weight=0.524<br>NFLX_Close: Weight=0.077<br>WFC_Close: Weight=0.077<br>AMZN_Close: Weight=0.321",
                    "Return: 7.023%<br>Volatility: 0.089<br>Sharpe Ratio: 0.788<br>PG_Close: Weight=0.405<br>K_Close: Weight=0.000<br>DHR_Close: Weight=0.595",
                    "Return: 37.217%<br>Volatility: 0.161<br>Sharpe Ratio: 2.312<br>REGN_Close: Weight=0.000<br>TXN_Close: Weight=0.934<br>NFLX_Close: Weight=0.066",
                    "Return: 33.595%<br>Volatility: 0.125<br>Sharpe Ratio: 2.690<br>HD_Close: Weight=0.804<br>NFLX_Close: Weight=0.196<br>MO_Close: Weight=0.000",
                    "Return: 40.668%<br>Volatility: 0.099<br>Sharpe Ratio: 4.089<br>MCD_Close: Weight=0.247<br>NEE_Close: Weight=0.416<br>CAT_Close: Weight=0.337",
                    "Return: 19.994%<br>Volatility: 0.088<br>Sharpe Ratio: 2.274<br>EXC_Close: Weight=0.008<br>IBM_Close: Weight=0.000<br>WFC_Close: Weight=0.203<br>NEE_Close: Weight=0.789",
                    "Return: 21.553%<br>Volatility: 0.163<br>Sharpe Ratio: 1.323<br>SRE_Close: Weight=0.000<br>SNAP_Close: Weight=0.000<br>GE_Close: Weight=0.000<br>TMO_Close: Weight=1.000",
                    "Return: 26.227%<br>Volatility: 0.128<br>Sharpe Ratio: 2.056<br>RTX_Close: Weight=0.409<br>INTC_Close: Weight=0.591<br>AMGN_Close: Weight=0.000",
                    "Return: 26.666%<br>Volatility: 0.110<br>Sharpe Ratio: 2.425<br>MO_Close: Weight=0.000<br>BIIB_Close: Weight=0.016<br>MMM_Close: Weight=0.683<br>AAPL_Close: Weight=0.301",
                    "Return: 14.854%<br>Volatility: 0.107<br>Sharpe Ratio: 1.393<br>SO_Close: Weight=0.000<br>XOM_Close: Weight=0.285<br>TMO_Close: Weight=0.582<br>DHR_Close: Weight=0.133",
                    "Return: 34.369%<br>Volatility: 0.101<br>Sharpe Ratio: 3.399<br>HON_Close: Weight=0.491<br>MO_Close: Weight=0.000<br>PYPL_Close: Weight=0.278<br>JNJ_Close: Weight=0.230",
                    "Return: 35.594%<br>Volatility: 0.136<br>Sharpe Ratio: 2.624<br>ZBH_Close: Weight=0.000<br>ISRG_Close: Weight=0.629<br>K_Close: Weight=0.000<br>RTX_Close: Weight=0.371",
                    "Return: 45.540%<br>Volatility: 0.228<br>Sharpe Ratio: 1.999<br>K_Close: Weight=0.000<br>SO_Close: Weight=0.000<br>ADBE_Close: Weight=1.000<br>MDT_Close: Weight=0.000",
                    "Return: 35.531%<br>Volatility: 0.131<br>Sharpe Ratio: 2.713<br>AMZN_Close: Weight=0.164<br>MA_Close: Weight=0.733<br>MS_Close: Weight=0.103",
                    "Return: 34.497%<br>Volatility: 0.142<br>Sharpe Ratio: 2.434<br>F_Close: Weight=0.070<br>MSFT_Close: Weight=0.852<br>AMZN_Close: Weight=0.078",
                    "Return: 9.944%<br>Volatility: 0.119<br>Sharpe Ratio: 0.833<br>GM_Close: Weight=0.554<br>AMD_Close: Weight=0.000<br>PG_Close: Weight=0.446<br>PM_Close: Weight=0.000",
                    "Return: 24.680%<br>Volatility: 0.113<br>Sharpe Ratio: 2.194<br>COST_Close: Weight=0.106<br>AEP_Close: Weight=0.678<br>IBM_Close: Weight=0.000<br>VRTX_Close: Weight=0.215",
                    "Return: 18.770%<br>Volatility: 0.154<br>Sharpe Ratio: 1.221<br>F_Close: Weight=0.000<br>CSCO_Close: Weight=0.590<br>EW_Close: Weight=0.410",
                    "Return: 30.142%<br>Volatility: 0.164<br>Sharpe Ratio: 1.838<br>GIS_Close: Weight=0.073<br>T_Close: Weight=0.000<br>LLY_Close: Weight=0.162<br>AMZN_Close: Weight=0.765",
                    "Return: 34.663%<br>Volatility: 0.106<br>Sharpe Ratio: 3.282<br>ADBE_Close: Weight=0.128<br>V_Close: Weight=0.409<br>UNH_Close: Weight=0.463",
                    "Return: 38.347%<br>Volatility: 0.110<br>Sharpe Ratio: 3.497<br>REGN_Close: Weight=0.000<br>ISRG_Close: Weight=0.417<br>HD_Close: Weight=0.583",
                    "Return: 29.489%<br>Volatility: 0.114<br>Sharpe Ratio: 2.589<br>JNJ_Close: Weight=0.366<br>MSFT_Close: Weight=0.634<br>SNAP_Close: Weight=0.000<br>AMGN_Close: Weight=0.000",
                    "Return: 26.310%<br>Volatility: 0.090<br>Sharpe Ratio: 2.917<br>GE_Close: Weight=0.000<br>TXN_Close: Weight=0.353<br>ADBE_Close: Weight=0.144<br>KO_Close: Weight=0.504",
                    "Return: 30.449%<br>Volatility: 0.115<br>Sharpe Ratio: 2.656<br>NEE_Close: Weight=0.686<br>DUK_Close: Weight=0.000<br>ADBE_Close: Weight=0.314<br>GIS_Close: Weight=0.000",
                    "Return: 11.352%<br>Volatility: 0.122<br>Sharpe Ratio: 0.932<br>GIS_Close: Weight=0.000<br>BMY_Close: Weight=0.472<br>VZ_Close: Weight=0.528",
                    "Return: 28.828%<br>Volatility: 0.113<br>Sharpe Ratio: 2.552<br>COST_Close: Weight=0.071<br>VRTX_Close: Weight=0.146<br>LMT_Close: Weight=0.784",
                    "Return: 31.508%<br>Volatility: 0.123<br>Sharpe Ratio: 2.563<br>MDT_Close: Weight=0.000<br>GM_Close: Weight=0.168<br>UNH_Close: Weight=0.832",
                    "Return: 22.233%<br>Volatility: 0.078<br>Sharpe Ratio: 2.832<br>VZ_Close: Weight=0.083<br>NFLX_Close: Weight=0.079<br>HON_Close: Weight=0.563<br>AEP_Close: Weight=0.276",
                    "Return: 30.870%<br>Volatility: 0.228<br>Sharpe Ratio: 1.355<br>WFC_Close: Weight=0.233<br>NFLX_Close: Weight=0.767<br>CPB_Close: Weight=0.000",
                    "Return: 27.219%<br>Volatility: 0.106<br>Sharpe Ratio: 2.571<br>MSFT_Close: Weight=0.598<br>PEP_Close: Weight=0.362<br>CSCO_Close: Weight=0.039",
                    "Return: 13.973%<br>Volatility: 0.136<br>Sharpe Ratio: 1.026<br>WFC_Close: Weight=0.020<br>ETN_Close: Weight=0.600<br>GM_Close: Weight=0.380",
                    "Return: 31.585%<br>Volatility: 0.107<br>Sharpe Ratio: 2.957<br>GM_Close: Weight=0.161<br>NEE_Close: Weight=0.674<br>NVDA_Close: Weight=0.165",
                    "Return: 33.294%<br>Volatility: 0.153<br>Sharpe Ratio: 2.175<br>SAP_Close: Weight=0.462<br>SRE_Close: Weight=0.000<br>QCOM_Close: Weight=0.058<br>ADBE_Close: Weight=0.480",
                    "Return: 29.149%<br>Volatility: 0.112<br>Sharpe Ratio: 2.600<br>HD_Close: Weight=0.718<br>SO_Close: Weight=0.000<br>TMO_Close: Weight=0.261<br>NKE_Close: Weight=0.021",
                    "Return: 22.632%<br>Volatility: 0.090<br>Sharpe Ratio: 2.523<br>LMT_Close: Weight=0.643<br>BIIB_Close: Weight=0.000<br>JPM_Close: Weight=0.178<br>SYY_Close: Weight=0.179",
                    "Return: 15.109%<br>Volatility: 0.162<br>Sharpe Ratio: 0.930<br>KR_Close: Weight=0.000<br>MS_Close: Weight=0.719<br>NKE_Close: Weight=0.281",
                    "Return: 33.545%<br>Volatility: 0.113<br>Sharpe Ratio: 2.956<br>LMT_Close: Weight=0.557<br>DE_Close: Weight=0.443<br>XOM_Close: Weight=0.000",
                    "Return: 26.701%<br>Volatility: 0.117<br>Sharpe Ratio: 2.288<br>MO_Close: Weight=0.000<br>ACN_Close: Weight=0.653<br>CRM_Close: Weight=0.347",
                    "Return: 23.560%<br>Volatility: 0.087<br>Sharpe Ratio: 2.698<br>BAC_Close: Weight=0.131<br>ACN_Close: Weight=0.371<br>EXC_Close: Weight=0.250<br>META_Close: Weight=0.249",
                    "Return: 58.256%<br>Volatility: 0.161<br>Sharpe Ratio: 3.626<br>KR_Close: Weight=0.000<br>ADBE_Close: Weight=0.315<br>CAT_Close: Weight=0.685",
                    "Return: 41.901%<br>Volatility: 0.097<br>Sharpe Ratio: 4.310<br>AEP_Close: Weight=0.197<br>HD_Close: Weight=0.318<br>PYPL_Close: Weight=0.214<br>ABBV_Close: Weight=0.271",
                    "Return: 29.617%<br>Volatility: 0.101<br>Sharpe Ratio: 2.932<br>BSX_Close: Weight=0.000<br>HON_Close: Weight=0.610<br>MSFT_Close: Weight=0.390",
                    "Return: 61.478%<br>Volatility: 0.290<br>Sharpe Ratio: 2.124<br>BSX_Close: Weight=0.000<br>NVDA_Close: Weight=0.669<br>EW_Close: Weight=0.331",
                    "Return: 44.578%<br>Volatility: 0.176<br>Sharpe Ratio: 2.527<br>PG_Close: Weight=0.013<br>DE_Close: Weight=0.987<br>GIS_Close: Weight=0.000",
                    "Return: 20.534%<br>Volatility: 0.110<br>Sharpe Ratio: 1.870<br>SO_Close: Weight=0.000<br>VZ_Close: Weight=0.175<br>AAPL_Close: Weight=0.469<br>SYY_Close: Weight=0.356",
                    "Return: 16.939%<br>Volatility: 0.123<br>Sharpe Ratio: 1.383<br>MS_Close: Weight=0.279<br>MRK_Close: Weight=0.000<br>RTX_Close: Weight=0.721",
                    "Return: 38.590%<br>Volatility: 0.118<br>Sharpe Ratio: 3.275<br>PEP_Close: Weight=0.410<br>ISRG_Close: Weight=0.275<br>PYPL_Close: Weight=0.316<br>CPB_Close: Weight=0.000",
                    "Return: 26.849%<br>Volatility: 0.075<br>Sharpe Ratio: 3.571<br>SO_Close: Weight=0.000<br>HD_Close: Weight=0.321<br>NEE_Close: Weight=0.387<br>HON_Close: Weight=0.292",
                    "Return: 18.003%<br>Volatility: 0.126<br>Sharpe Ratio: 1.424<br>GE_Close: Weight=0.000<br>RTX_Close: Weight=0.697<br>BAC_Close: Weight=0.303",
                    "Return: 47.074%<br>Volatility: 0.117<br>Sharpe Ratio: 4.029<br>HD_Close: Weight=0.460<br>AMD_Close: Weight=0.000<br>BA_Close: Weight=0.540",
                    "Return: 21.265%<br>Volatility: 0.094<br>Sharpe Ratio: 2.261<br>EMR_Close: Weight=0.229<br>CRM_Close: Weight=0.470<br>CVX_Close: Weight=0.301",
                    "Return: 22.216%<br>Volatility: 0.098<br>Sharpe Ratio: 2.276<br>SYY_Close: Weight=0.267<br>JPM_Close: Weight=0.282<br>CRM_Close: Weight=0.451<br>IBM_Close: Weight=0.000",
                    "Return: 11.066%<br>Volatility: 0.166<br>Sharpe Ratio: 0.668<br>MRK_Close: Weight=0.000<br>GS_Close: Weight=0.028<br>VZ_Close: Weight=0.972",
                    "Return: 58.920%<br>Volatility: 0.180<br>Sharpe Ratio: 3.282<br>TSLA_Close: Weight=0.056<br>XOM_Close: Weight=0.000<br>NKE_Close: Weight=0.057<br>CAT_Close: Weight=0.887",
                    "Return: 15.352%<br>Volatility: 0.163<br>Sharpe Ratio: 0.943<br>AMGN_Close: Weight=0.000<br>REGN_Close: Weight=0.000<br>QCOM_Close: Weight=0.548<br>COST_Close: Weight=0.452",
                    "Return: 34.429%<br>Volatility: 0.094<br>Sharpe Ratio: 3.664<br>ISRG_Close: Weight=0.189<br>MCD_Close: Weight=0.447<br>LMT_Close: Weight=0.364<br>DHR_Close: Weight=0.000",
                    "Return: 29.430%<br>Volatility: 0.117<br>Sharpe Ratio: 2.508<br>ACN_Close: Weight=0.595<br>AMZN_Close: Weight=0.318<br>NKE_Close: Weight=0.087",
                    "Return: 13.090%<br>Volatility: 0.082<br>Sharpe Ratio: 1.589<br>PEP_Close: Weight=0.288<br>KO_Close: Weight=0.712<br>RDY_Close: Weight=0.000",
                    "Return: 9.017%<br>Volatility: 0.105<br>Sharpe Ratio: 0.855<br>GILD_Close: Weight=0.000<br>GIS_Close: Weight=0.022<br>PFE_Close: Weight=0.978",
                    "Return: 61.880%<br>Volatility: 0.190<br>Sharpe Ratio: 3.252<br>BAC_Close: Weight=0.000<br>SRE_Close: Weight=0.000<br>CVX_Close: Weight=0.046<br>CAT_Close: Weight=0.954",
                    "Return: 24.328%<br>Volatility: 0.136<br>Sharpe Ratio: 1.792<br>F_Close: Weight=0.000<br>BAC_Close: Weight=0.266<br>GOOGL_Close: Weight=0.734<br>CPB_Close: Weight=0.000",
                    "Return: 11.411%<br>Volatility: 0.180<br>Sharpe Ratio: 0.633<br>BMY_Close: Weight=1.000<br>MO_Close: Weight=0.000<br>BSX_Close: Weight=0.000",
                    "Return: 35.127%<br>Volatility: 0.145<br>Sharpe Ratio: 2.424<br>MSFT_Close: Weight=0.913<br>LLY_Close: Weight=0.030<br>GOOGL_Close: Weight=0.057",
                    "Return: 36.137%<br>Volatility: 0.149<br>Sharpe Ratio: 2.421<br>SYK_Close: Weight=0.039<br>MSFT_Close: Weight=0.961<br>SO_Close: Weight=0.000",
                    "Return: 34.169%<br>Volatility: 0.119<br>Sharpe Ratio: 2.862<br>ABT_Close: Weight=0.385<br>VZ_Close: Weight=0.157<br>ISRG_Close: Weight=0.459",
                    "Return: 24.727%<br>Volatility: 0.091<br>Sharpe Ratio: 2.723<br>HON_Close: Weight=0.679<br>EW_Close: Weight=0.018<br>SYK_Close: Weight=0.113<br>CRM_Close: Weight=0.191",
                    "Return: 25.601%<br>Volatility: 0.084<br>Sharpe Ratio: 3.054<br>PEP_Close: Weight=0.255<br>RTX_Close: Weight=0.166<br>MCD_Close: Weight=0.513<br>LLY_Close: Weight=0.066",
                    "Return: 35.238%<br>Volatility: 0.145<br>Sharpe Ratio: 2.422<br>SO_Close: Weight=0.000<br>DHR_Close: Weight=0.230<br>WMT_Close: Weight=0.770<br>KR_Close: Weight=0.000",
                    "Return: 26.075%<br>Volatility: 0.127<br>Sharpe Ratio: 2.061<br>XOM_Close: Weight=0.054<br>MDT_Close: Weight=0.000<br>AMGN_Close: Weight=0.000<br>ACN_Close: Weight=0.946",
                    "Return: 32.535%<br>Volatility: 0.105<br>Sharpe Ratio: 3.113<br>UNH_Close: Weight=0.454<br>ISRG_Close: Weight=0.341<br>PG_Close: Weight=0.206<br>MRK_Close: Weight=0.000",
                    "Return: 13.786%<br>Volatility: 0.109<br>Sharpe Ratio: 1.269<br>BTI_Close: Weight=0.198<br>QCOM_Close: Weight=0.236<br>EXC_Close: Weight=0.566<br>IBM_Close: Weight=0.000",
                    "Return: 45.417%<br>Volatility: 0.142<br>Sharpe Ratio: 3.194<br>MMM_Close: Weight=0.524<br>PYPL_Close: Weight=0.473<br>QCOM_Close: Weight=0.003",
                    "Return: 23.032%<br>Volatility: 0.097<br>Sharpe Ratio: 2.370<br>SYK_Close: Weight=0.224<br>COST_Close: Weight=0.056<br>LMT_Close: Weight=0.720",
                    "Return: 26.569%<br>Volatility: 0.106<br>Sharpe Ratio: 2.497<br>V_Close: Weight=0.816<br>PG_Close: Weight=0.127<br>ETN_Close: Weight=0.057",
                    "Return: 29.865%<br>Volatility: 0.100<br>Sharpe Ratio: 2.999<br>BTI_Close: Weight=0.000<br>WMT_Close: Weight=0.388<br>ACN_Close: Weight=0.368<br>EXC_Close: Weight=0.244",
                    "Return: 30.915%<br>Volatility: 0.128<br>Sharpe Ratio: 2.421<br>BIIB_Close: Weight=0.068<br>PM_Close: Weight=0.000<br>HD_Close: Weight=0.932",
                    "Return: 40.815%<br>Volatility: 0.125<br>Sharpe Ratio: 3.272<br>MA_Close: Weight=0.565<br>DE_Close: Weight=0.435<br>BSX_Close: Weight=0.000",
                    "Return: 29.382%<br>Volatility: 0.118<br>Sharpe Ratio: 2.485<br>V_Close: Weight=0.922<br>GIS_Close: Weight=0.007<br>BMY_Close: Weight=0.071",
                    "Return: 43.843%<br>Volatility: 0.250<br>Sharpe Ratio: 1.752<br>VRTX_Close: Weight=0.548<br>EW_Close: Weight=0.452<br>KR_Close: Weight=0.000",
                    "Return: 56.471%<br>Volatility: 0.157<br>Sharpe Ratio: 3.598<br>ABBV_Close: Weight=0.680<br>BABA_Close: Weight=0.320<br>MDT_Close: Weight=0.000",
                    "Return: 27.711%<br>Volatility: 0.160<br>Sharpe Ratio: 1.737<br>MDT_Close: Weight=0.000<br>GOOG_Close: Weight=1.000<br>GOOGL_Close: Weight=0.000",
                    "Return: 65.170%<br>Volatility: 0.231<br>Sharpe Ratio: 2.817<br>SRE_Close: Weight=0.000<br>K_Close: Weight=0.000<br>PYPL_Close: Weight=1.000<br>CRM_Close: Weight=0.000",
                    "Return: 40.772%<br>Volatility: 0.154<br>Sharpe Ratio: 2.640<br>EW_Close: Weight=0.193<br>MRK_Close: Weight=0.000<br>DE_Close: Weight=0.807",
                    "Return: 32.718%<br>Volatility: 0.103<br>Sharpe Ratio: 3.188<br>RMD_Close: Weight=0.009<br>UNH_Close: Weight=0.467<br>V_Close: Weight=0.523",
                    "Return: 29.328%<br>Volatility: 0.117<br>Sharpe Ratio: 2.502<br>NKE_Close: Weight=0.082<br>V_Close: Weight=0.918<br>UA_Close: Weight=0.000",
                    "Return: 59.881%<br>Volatility: 0.260<br>Sharpe Ratio: 2.305<br>DIS_Close: Weight=0.027<br>BABA_Close: Weight=0.973<br>GS_Close: Weight=0.000<br>BSX_Close: Weight=0.000",
                    "Return: 22.109%<br>Volatility: 0.104<br>Sharpe Ratio: 2.129<br>REGN_Close: Weight=0.061<br>AMGN_Close: Weight=0.000<br>NEE_Close: Weight=0.939",
                    "Return: 38.422%<br>Volatility: 0.110<br>Sharpe Ratio: 3.503<br>ZBH_Close: Weight=0.000<br>KO_Close: Weight=0.338<br>CAT_Close: Weight=0.497<br>EXC_Close: Weight=0.165",
                    "Return: 20.267%<br>Volatility: 0.163<br>Sharpe Ratio: 1.246<br>F_Close: Weight=0.000<br>XOM_Close: Weight=0.000<br>EMR_Close: Weight=1.000",
                    "Return: 24.837%<br>Volatility: 0.111<br>Sharpe Ratio: 2.235<br>ABT_Close: Weight=0.672<br>REGN_Close: Weight=0.000<br>RTX_Close: Weight=0.328",
                    "Return: 20.360%<br>Volatility: 0.209<br>Sharpe Ratio: 0.972<br>AMD_Close: Weight=0.000<br>BAC_Close: Weight=1.000<br>MO_Close: Weight=0.000",
                    "Return: 18.960%<br>Volatility: 0.084<br>Sharpe Ratio: 2.260<br>BSX_Close: Weight=0.000<br>GOOGL_Close: Weight=0.397<br>CMCSA_Close: Weight=0.072<br>AEP_Close: Weight=0.530",
                    "Return: 12.854%<br>Volatility: 0.161<br>Sharpe Ratio: 0.797<br>MDT_Close: Weight=0.003<br>GM_Close: Weight=0.777<br>WFC_Close: Weight=0.221",
                    "Return: 44.321%<br>Volatility: 0.175<br>Sharpe Ratio: 2.528<br>DE_Close: Weight=0.977<br>T_Close: Weight=0.000<br>NKE_Close: Weight=0.023",
                    "Return: 30.915%<br>Volatility: 0.110<br>Sharpe Ratio: 2.822<br>ABT_Close: Weight=0.354<br>UNH_Close: Weight=0.551<br>SNAP_Close: Weight=0.000<br>CSCO_Close: Weight=0.095",
                    "Return: 24.145%<br>Volatility: 0.122<br>Sharpe Ratio: 1.986<br>CMCSA_Close: Weight=0.066<br>GOOG_Close: Weight=0.515<br>SYK_Close: Weight=0.256<br>EW_Close: Weight=0.162",
                    "Return: 35.061%<br>Volatility: 0.150<br>Sharpe Ratio: 2.330<br>REGN_Close: Weight=0.000<br>RMD_Close: Weight=0.124<br>TXN_Close: Weight=0.876",
                    "Return: 34.151%<br>Volatility: 0.138<br>Sharpe Ratio: 2.471<br>VRTX_Close: Weight=0.200<br>ACN_Close: Weight=0.800<br>MDT_Close: Weight=0.000",
                    "Return: 48.307%<br>Volatility: 0.137<br>Sharpe Ratio: 3.528<br>SYY_Close: Weight=0.207<br>BA_Close: Weight=0.741<br>PG_Close: Weight=0.052",
                    "Return: 32.480%<br>Volatility: 0.131<br>Sharpe Ratio: 2.480<br>PM_Close: Weight=0.000<br>UNH_Close: Weight=0.916<br>DUK_Close: Weight=0.084<br>CPB_Close: Weight=0.000",
                    "Return: 30.550%<br>Volatility: 0.124<br>Sharpe Ratio: 2.471<br>CPB_Close: Weight=0.000<br>T_Close: Weight=0.013<br>V_Close: Weight=0.987<br>MDT_Close: Weight=0.000",
                    "Return: 46.220%<br>Volatility: 0.190<br>Sharpe Ratio: 2.436<br>BMY_Close: Weight=0.010<br>ISRG_Close: Weight=0.990<br>AMGN_Close: Weight=0.000<br>KR_Close: Weight=0.000",
                    "Return: 34.334%<br>Volatility: 0.140<br>Sharpe Ratio: 2.453<br>MSFT_Close: Weight=0.880<br>AMGN_Close: Weight=0.000<br>MS_Close: Weight=0.120",
                    "Return: 41.947%<br>Volatility: 0.120<br>Sharpe Ratio: 3.483<br>ABBV_Close: Weight=0.489<br>VZ_Close: Weight=0.128<br>MSFT_Close: Weight=0.383",
                    "Return: 11.579%<br>Volatility: 0.093<br>Sharpe Ratio: 1.251<br>DHR_Close: Weight=0.244<br>PFE_Close: Weight=0.446<br>TSLA_Close: Weight=0.120<br>BTI_Close: Weight=0.190",
                    "Return: 55.665%<br>Volatility: 0.262<br>Sharpe Ratio: 2.123<br>GM_Close: Weight=0.337<br>TSLA_Close: Weight=0.051<br>NVDA_Close: Weight=0.611",
                    "Return: 21.074%<br>Volatility: 0.103<br>Sharpe Ratio: 2.054<br>AMZN_Close: Weight=0.434<br>PG_Close: Weight=0.157<br>PFE_Close: Weight=0.409<br>SNAP_Close: Weight=0.000",
                    "Return: 41.268%<br>Volatility: 0.150<br>Sharpe Ratio: 2.748<br>SYK_Close: Weight=0.270<br>BABA_Close: Weight=0.400<br>INTC_Close: Weight=0.331",
                    "Return: 28.513%<br>Volatility: 0.126<br>Sharpe Ratio: 2.268<br>VZ_Close: Weight=0.195<br>AMZN_Close: Weight=0.358<br>COST_Close: Weight=0.095<br>INTC_Close: Weight=0.352",
                    "Return: 28.902%<br>Volatility: 0.089<br>Sharpe Ratio: 3.251<br>HON_Close: Weight=0.350<br>UNH_Close: Weight=0.326<br>MMM_Close: Weight=0.233<br>AAPL_Close: Weight=0.091",
                    "Return: 30.519%<br>Volatility: 0.219<br>Sharpe Ratio: 1.394<br>NFLX_Close: Weight=0.719<br>NKE_Close: Weight=0.281<br>KR_Close: Weight=0.000",
                    "Return: 22.539%<br>Volatility: 0.089<br>Sharpe Ratio: 2.536<br>AMD_Close: Weight=0.000<br>RDY_Close: Weight=0.000<br>NEE_Close: Weight=0.693<br>EMR_Close: Weight=0.307",
                    "Return: 28.356%<br>Volatility: 0.083<br>Sharpe Ratio: 3.407<br>SNAP_Close: Weight=0.000<br>MS_Close: Weight=0.143<br>NEE_Close: Weight=0.444<br>MCD_Close: Weight=0.413",
                    "Return: 43.839%<br>Volatility: 0.124<br>Sharpe Ratio: 3.547<br>BA_Close: Weight=0.670<br>RMD_Close: Weight=0.136<br>LLY_Close: Weight=0.026<br>DUK_Close: Weight=0.168",
                    "Return: 15.444%<br>Volatility: 0.141<br>Sharpe Ratio: 1.093<br>CVX_Close: Weight=1.000<br>K_Close: Weight=0.000<br>MRK_Close: Weight=0.000",
                    "Return: 37.142%<br>Volatility: 0.161<br>Sharpe Ratio: 2.300<br>PM_Close: Weight=0.000<br>GIS_Close: Weight=0.000<br>TXN_Close: Weight=1.000",
                    "Return: 40.107%<br>Volatility: 0.114<br>Sharpe Ratio: 3.530<br>BAC_Close: Weight=0.089<br>V_Close: Weight=0.424<br>ABBV_Close: Weight=0.450<br>EW_Close: Weight=0.037",
                    "Return: 33.956%<br>Volatility: 0.131<br>Sharpe Ratio: 2.598<br>ISRG_Close: Weight=0.569<br>JNJ_Close: Weight=0.402<br>TMO_Close: Weight=0.029",
                    "Return: 32.660%<br>Volatility: 0.116<br>Sharpe Ratio: 2.808<br>XOM_Close: Weight=0.087<br>INTC_Close: Weight=0.231<br>GOOG_Close: Weight=0.082<br>MA_Close: Weight=0.601",
                    "Return: 20.554%<br>Volatility: 0.210<br>Sharpe Ratio: 0.978<br>EW_Close: Weight=0.881<br>AMD_Close: Weight=0.000<br>GILD_Close: Weight=0.119",
                    "Return: 25.278%<br>Volatility: 0.108<br>Sharpe Ratio: 2.346<br>SO_Close: Weight=0.000<br>IBM_Close: Weight=0.000<br>SYY_Close: Weight=0.288<br>MMM_Close: Weight=0.712",
                    "Return: 23.023%<br>Volatility: 0.166<br>Sharpe Ratio: 1.389<br>UA_Close: Weight=0.000<br>XOM_Close: Weight=0.444<br>NFLX_Close: Weight=0.556",
                    "Return: 36.324%<br>Volatility: 0.104<br>Sharpe Ratio: 3.484<br>NFLX_Close: Weight=0.000<br>BABA_Close: Weight=0.192<br>PYPL_Close: Weight=0.266<br>KO_Close: Weight=0.542",
                    "Return: 16.873%<br>Volatility: 0.131<br>Sharpe Ratio: 1.287<br>SYY_Close: Weight=0.712<br>LLY_Close: Weight=0.004<br>BMY_Close: Weight=0.284",
                    "Return: 38.952%<br>Volatility: 0.117<br>Sharpe Ratio: 3.330<br>ADBE_Close: Weight=0.223<br>DE_Close: Weight=0.416<br>MMM_Close: Weight=0.361",
                    "Return: 38.781%<br>Volatility: 0.126<br>Sharpe Ratio: 3.086<br>TXN_Close: Weight=0.473<br>WMT_Close: Weight=0.455<br>RDY_Close: Weight=0.000<br>EW_Close: Weight=0.072",
                    "Return: 37.103%<br>Volatility: 0.179<br>Sharpe Ratio: 2.067<br>ADBE_Close: Weight=0.713<br>SO_Close: Weight=0.000<br>CSCO_Close: Weight=0.287",
                    "Return: 35.352%<br>Volatility: 0.098<br>Sharpe Ratio: 3.597<br>ISRG_Close: Weight=0.217<br>V_Close: Weight=0.276<br>CMCSA_Close: Weight=0.083<br>MCD_Close: Weight=0.423",
                    "Return: 55.255%<br>Volatility: 0.170<br>Sharpe Ratio: 3.243<br>PYPL_Close: Weight=0.467<br>INTC_Close: Weight=0.277<br>WFC_Close: Weight=0.000<br>BABA_Close: Weight=0.256",
                    "Return: 48.324%<br>Volatility: 0.159<br>Sharpe Ratio: 3.045<br>WMT_Close: Weight=0.618<br>CSCO_Close: Weight=0.141<br>NVDA_Close: Weight=0.241",
                    "Return: 15.046%<br>Volatility: 0.113<br>Sharpe Ratio: 1.335<br>DHR_Close: Weight=0.406<br>MRK_Close: Weight=0.000<br>GE_Close: Weight=0.000<br>SYY_Close: Weight=0.594",
                    "Return: 31.547%<br>Volatility: 0.171<br>Sharpe Ratio: 1.847<br>IBM_Close: Weight=0.000<br>SNAP_Close: Weight=0.000<br>AMZN_Close: Weight=0.805<br>F_Close: Weight=0.195",
                    "Return: 31.520%<br>Volatility: 0.123<br>Sharpe Ratio: 2.556<br>DHR_Close: Weight=0.057<br>UNH_Close: Weight=0.824<br>QCOM_Close: Weight=0.119",
                    "Return: 26.506%<br>Volatility: 0.106<br>Sharpe Ratio: 2.508<br>ZBH_Close: Weight=0.000<br>CSCO_Close: Weight=0.071<br>V_Close: Weight=0.803<br>XOM_Close: Weight=0.126",
                    "Return: 25.570%<br>Volatility: 0.121<br>Sharpe Ratio: 2.112<br>TMO_Close: Weight=0.309<br>MDT_Close: Weight=0.000<br>SYK_Close: Weight=0.252<br>META_Close: Weight=0.440",
                    "Return: 43.276%<br>Volatility: 0.121<br>Sharpe Ratio: 3.564<br>BMY_Close: Weight=0.049<br>AEP_Close: Weight=0.314<br>BA_Close: Weight=0.638<br>DHR_Close: Weight=0.000",
                    "Return: 37.142%<br>Volatility: 0.161<br>Sharpe Ratio: 2.300<br>CPB_Close: Weight=0.000<br>TXN_Close: Weight=1.000<br>BSX_Close: Weight=0.000",
                    "Return: 30.719%<br>Volatility: 0.088<br>Sharpe Ratio: 3.473<br>MCD_Close: Weight=0.458<br>BMY_Close: Weight=0.000<br>HON_Close: Weight=0.528<br>EW_Close: Weight=0.014",
                    "Return: 29.501%<br>Volatility: 0.114<br>Sharpe Ratio: 2.589<br>JNJ_Close: Weight=0.365<br>MSFT_Close: Weight=0.635<br>DHR_Close: Weight=0.000",
                    "Return: 34.829%<br>Volatility: 0.111<br>Sharpe Ratio: 3.143<br>VRTX_Close: Weight=0.087<br>ISRG_Close: Weight=0.352<br>ACN_Close: Weight=0.408<br>EXC_Close: Weight=0.153",
                    "Return: 30.507%<br>Volatility: 0.101<br>Sharpe Ratio: 3.028<br>MA_Close: Weight=0.462<br>META_Close: Weight=0.074<br>NEE_Close: Weight=0.465",
                    "Return: 24.912%<br>Volatility: 0.100<br>Sharpe Ratio: 2.492<br>SRE_Close: Weight=0.000<br>EW_Close: Weight=0.063<br>WFC_Close: Weight=0.000<br>HON_Close: Weight=0.937",
                    "Return: 25.504%<br>Volatility: 0.136<br>Sharpe Ratio: 1.879<br>DIS_Close: Weight=0.000<br>SYK_Close: Weight=0.369<br>GOOG_Close: Weight=0.631",
                    "Return: 24.944%<br>Volatility: 0.122<br>Sharpe Ratio: 2.044<br>GIS_Close: Weight=0.035<br>LLY_Close: Weight=0.029<br>EMR_Close: Weight=0.370<br>META_Close: Weight=0.566",
                    "Return: 18.716%<br>Volatility: 0.124<br>Sharpe Ratio: 1.512<br>EW_Close: Weight=0.284<br>SYY_Close: Weight=0.536<br>BMY_Close: Weight=0.181",
                    "Return: 47.456%<br>Volatility: 0.225<br>Sharpe Ratio: 2.105<br>AMGN_Close: Weight=0.000<br>NVDA_Close: Weight=0.560<br>LLY_Close: Weight=0.320<br>WFC_Close: Weight=0.120",
                    "Return: 47.369%<br>Volatility: 0.159<br>Sharpe Ratio: 2.984<br>PYPL_Close: Weight=0.479<br>MO_Close: Weight=0.000<br>V_Close: Weight=0.521",
                    "Return: 58.591%<br>Volatility: 0.156<br>Sharpe Ratio: 3.750<br>BIIB_Close: Weight=0.000<br>ABBV_Close: Weight=0.592<br>PYPL_Close: Weight=0.408",
                    "Return: 35.391%<br>Volatility: 0.117<br>Sharpe Ratio: 3.024<br>UNH_Close: Weight=0.594<br>SYK_Close: Weight=0.000<br>RTX_Close: Weight=0.134<br>ADBE_Close: Weight=0.272",
                    "Return: 40.848%<br>Volatility: 0.107<br>Sharpe Ratio: 3.822<br>MMM_Close: Weight=0.266<br>HD_Close: Weight=0.439<br>PYPL_Close: Weight=0.295",
                    "Return: 24.329%<br>Volatility: 0.136<br>Sharpe Ratio: 1.792<br>GOOGL_Close: Weight=0.734<br>BAC_Close: Weight=0.266<br>SNAP_Close: Weight=0.000",
                    "Return: 30.982%<br>Volatility: 0.125<br>Sharpe Ratio: 2.471<br>V_Close: Weight=1.000<br>MDT_Close: Weight=0.000<br>MO_Close: Weight=0.000",
                    "Return: 34.048%<br>Volatility: 0.137<br>Sharpe Ratio: 2.491<br>F_Close: Weight=0.000<br>UNH_Close: Weight=0.930<br>EW_Close: Weight=0.070",
                    "Return: 18.325%<br>Volatility: 0.233<br>Sharpe Ratio: 0.786<br>QCOM_Close: Weight=0.976<br>GIS_Close: Weight=0.024<br>KR_Close: Weight=0.000",
                    "Return: 48.821%<br>Volatility: 0.159<br>Sharpe Ratio: 3.072<br>MS_Close: Weight=0.141<br>IBM_Close: Weight=0.000<br>ORCL_Close: Weight=0.000<br>ABBV_Close: Weight=0.859",
                    "Return: 8.580%<br>Volatility: 0.196<br>Sharpe Ratio: 0.438<br>CPB_Close: Weight=0.000<br>ZBH_Close: Weight=0.197<br>BIIB_Close: Weight=0.803",
                    "Return: 20.036%<br>Volatility: 0.086<br>Sharpe Ratio: 2.343<br>GM_Close: Weight=0.136<br>LMT_Close: Weight=0.698<br>SNAP_Close: Weight=0.000<br>DUK_Close: Weight=0.166",
                    "Return: 20.909%<br>Volatility: 0.094<br>Sharpe Ratio: 2.219<br>GOOG_Close: Weight=0.367<br>UA_Close: Weight=0.000<br>JNJ_Close: Weight=0.437<br>RTX_Close: Weight=0.196",
                    "Return: 15.444%<br>Volatility: 0.141<br>Sharpe Ratio: 1.093<br>GE_Close: Weight=0.000<br>CVX_Close: Weight=1.000<br>SRE_Close: Weight=0.000",
                    "Return: 38.647%<br>Volatility: 0.151<br>Sharpe Ratio: 2.567<br>BABA_Close: Weight=0.423<br>BAC_Close: Weight=0.156<br>SAP_Close: Weight=0.422",
                    "Return: 40.546%<br>Volatility: 0.155<br>Sharpe Ratio: 2.618<br>COST_Close: Weight=0.134<br>CRM_Close: Weight=0.049<br>ISRG_Close: Weight=0.577<br>ADBE_Close: Weight=0.239",
                    "Return: 47.666%<br>Volatility: 0.153<br>Sharpe Ratio: 3.125<br>DE_Close: Weight=0.559<br>NVDA_Close: Weight=0.167<br>DHR_Close: Weight=0.000<br>INTC_Close: Weight=0.273",
                    "Return: 33.936%<br>Volatility: 0.102<br>Sharpe Ratio: 3.333<br>ABBV_Close: Weight=0.509<br>IBM_Close: Weight=0.000<br>GM_Close: Weight=0.090<br>PEP_Close: Weight=0.401",
                    "Return: 42.639%<br>Volatility: 0.121<br>Sharpe Ratio: 3.519<br>BMY_Close: Weight=0.000<br>MCD_Close: Weight=0.591<br>VRTX_Close: Weight=0.097<br>ISRG_Close: Weight=0.312",
                    "Return: 26.629%<br>Volatility: 0.093<br>Sharpe Ratio: 2.869<br>CRM_Close: Weight=0.241<br>EMR_Close: Weight=0.173<br>PG_Close: Weight=0.113<br>UNH_Close: Weight=0.474",
                    "Return: 34.534%<br>Volatility: 0.108<br>Sharpe Ratio: 3.190<br>GM_Close: Weight=0.004<br>MMM_Close: Weight=0.551<br>WMT_Close: Weight=0.445",
                    "Return: 11.320%<br>Volatility: 0.135<br>Sharpe Ratio: 0.840<br>BMY_Close: Weight=0.554<br>REGN_Close: Weight=0.000<br>COST_Close: Weight=0.446",
                    "Return: 28.948%<br>Volatility: 0.130<br>Sharpe Ratio: 2.220<br>NFLX_Close: Weight=0.176<br>ACN_Close: Weight=0.810<br>PG_Close: Weight=0.014",
                    "Return: 20.135%<br>Volatility: 0.081<br>Sharpe Ratio: 2.472<br>NEE_Close: Weight=0.611<br>CVX_Close: Weight=0.275<br>ORCL_Close: Weight=0.114",
                    "Return: 23.241%<br>Volatility: 0.097<br>Sharpe Ratio: 2.396<br>ZBH_Close: Weight=0.000<br>BIIB_Close: Weight=0.002<br>JPM_Close: Weight=0.246<br>LMT_Close: Weight=0.752",
                    "Return: 25.429%<br>Volatility: 0.099<br>Sharpe Ratio: 2.562<br>MSFT_Close: Weight=0.570<br>RTX_Close: Weight=0.181<br>DUK_Close: Weight=0.210<br>F_Close: Weight=0.038",
                    "Return: 27.691%<br>Volatility: 0.100<br>Sharpe Ratio: 2.766<br>CVX_Close: Weight=0.269<br>GM_Close: Weight=0.098<br>UNH_Close: Weight=0.633",
                    "Return: 12.595%<br>Volatility: 0.115<br>Sharpe Ratio: 1.093<br>T_Close: Weight=0.000<br>EW_Close: Weight=0.461<br>PG_Close: Weight=0.539",
                    "Return: 20.353%<br>Volatility: 0.118<br>Sharpe Ratio: 1.726<br>SNAP_Close: Weight=0.000<br>CRM_Close: Weight=0.683<br>CMCSA_Close: Weight=0.154<br>DHR_Close: Weight=0.163",
                    "Return: 41.575%<br>Volatility: 0.123<br>Sharpe Ratio: 3.386<br>TMO_Close: Weight=0.088<br>NVDA_Close: Weight=0.148<br>WMT_Close: Weight=0.403<br>ABT_Close: Weight=0.360",
                    "Return: 43.473%<br>Volatility: 0.110<br>Sharpe Ratio: 3.957<br>ACN_Close: Weight=0.229<br>BA_Close: Weight=0.489<br>ABT_Close: Weight=0.281",
                    "Return: 19.166%<br>Volatility: 0.082<br>Sharpe Ratio: 2.324<br>NEE_Close: Weight=0.575<br>UA_Close: Weight=0.000<br>SO_Close: Weight=0.000<br>KO_Close: Weight=0.425",
                    "Return: 35.671%<br>Volatility: 0.137<br>Sharpe Ratio: 2.603<br>GILD_Close: Weight=0.071<br>CVX_Close: Weight=0.224<br>DE_Close: Weight=0.706<br>SRE_Close: Weight=0.000",
                    "Return: 19.112%<br>Volatility: 0.122<br>Sharpe Ratio: 1.566<br>COST_Close: Weight=0.073<br>SYY_Close: Weight=0.430<br>EMR_Close: Weight=0.497<br>BSX_Close: Weight=0.000",
                    "Return: 59.541%<br>Volatility: 0.174<br>Sharpe Ratio: 3.416<br>GE_Close: Weight=0.000<br>BA_Close: Weight=1.000<br>CPB_Close: Weight=0.000",
                    "Return: 51.833%<br>Volatility: 0.148<br>Sharpe Ratio: 3.501<br>CAT_Close: Weight=0.634<br>SNAP_Close: Weight=0.000<br>AAPL_Close: Weight=0.097<br>INTC_Close: Weight=0.269",
                    "Return: 31.528%<br>Volatility: 0.111<br>Sharpe Ratio: 2.828<br>AAPL_Close: Weight=0.214<br>XOM_Close: Weight=0.000<br>NFLX_Close: Weight=0.113<br>HD_Close: Weight=0.673",
                    "Return: 18.302%<br>Volatility: 0.159<br>Sharpe Ratio: 1.148<br>SNAP_Close: Weight=0.000<br>ORCL_Close: Weight=0.454<br>EW_Close: Weight=0.546",
                    "Return: 29.333%<br>Volatility: 0.101<br>Sharpe Ratio: 2.897<br>ABT_Close: Weight=0.336<br>CRM_Close: Weight=0.104<br>SYY_Close: Weight=0.208<br>TXN_Close: Weight=0.352",
                    "Return: 28.244%<br>Volatility: 0.093<br>Sharpe Ratio: 3.023<br>MDT_Close: Weight=0.000<br>HD_Close: Weight=0.480<br>LMT_Close: Weight=0.520",
                    "Return: 15.331%<br>Volatility: 0.176<br>Sharpe Ratio: 0.873<br>RDY_Close: Weight=0.000<br>QCOM_Close: Weight=0.627<br>CMCSA_Close: Weight=0.373<br>AMGN_Close: Weight=0.000",
                    "Return: 22.682%<br>Volatility: 0.085<br>Sharpe Ratio: 2.662<br>SAP_Close: Weight=0.183<br>HON_Close: Weight=0.658<br>EXC_Close: Weight=0.139<br>RTX_Close: Weight=0.021",
                    "Return: 9.846%<br>Volatility: 0.098<br>Sharpe Ratio: 1.007<br>MDT_Close: Weight=0.032<br>XOM_Close: Weight=0.274<br>K_Close: Weight=0.000<br>EXC_Close: Weight=0.693",
                    "Return: 34.616%<br>Volatility: 0.123<br>Sharpe Ratio: 2.813<br>AAPL_Close: Weight=0.224<br>DE_Close: Weight=0.545<br>BAC_Close: Weight=0.000<br>SYY_Close: Weight=0.231",
                    "Return: 13.290%<br>Volatility: 0.073<br>Sharpe Ratio: 1.832<br>WFC_Close: Weight=0.073<br>KO_Close: Weight=0.680<br>CVX_Close: Weight=0.247",
                    "Return: 15.649%<br>Volatility: 0.100<br>Sharpe Ratio: 1.569<br>BIIB_Close: Weight=0.034<br>JNJ_Close: Weight=0.776<br>SRE_Close: Weight=0.000<br>VZ_Close: Weight=0.189",
                    "Return: 21.746%<br>Volatility: 0.101<br>Sharpe Ratio: 2.148<br>EXC_Close: Weight=0.285<br>SAP_Close: Weight=0.314<br>GOOG_Close: Weight=0.402",
                    "Return: 30.517%<br>Volatility: 0.125<br>Sharpe Ratio: 2.442<br>SYY_Close: Weight=0.145<br>AMGN_Close: Weight=0.000<br>CMCSA_Close: Weight=0.000<br>HD_Close: Weight=0.855",
                    "Return: 13.581%<br>Volatility: 0.133<br>Sharpe Ratio: 1.019<br>SRE_Close: Weight=0.239<br>GILD_Close: Weight=0.134<br>BAC_Close: Weight=0.627",
                    "Return: 29.324%<br>Volatility: 0.104<br>Sharpe Ratio: 2.814<br>HON_Close: Weight=0.741<br>COST_Close: Weight=0.031<br>GILD_Close: Weight=0.000<br>ADBE_Close: Weight=0.229",
                    "Return: 52.123%<br>Volatility: 0.180<br>Sharpe Ratio: 2.892<br>GS_Close: Weight=0.000<br>VZ_Close: Weight=0.242<br>PYPL_Close: Weight=0.758",
                    "Return: 28.619%<br>Volatility: 0.088<br>Sharpe Ratio: 3.260<br>KR_Close: Weight=0.000<br>DE_Close: Weight=0.339<br>ABT_Close: Weight=0.297<br>KO_Close: Weight=0.364",
                    "Return: 18.428%<br>Volatility: 0.185<br>Sharpe Ratio: 0.997<br>REGN_Close: Weight=0.000<br>TSLA_Close: Weight=0.327<br>GM_Close: Weight=0.673<br>GIS_Close: Weight=0.000",
                    "Return: 22.599%<br>Volatility: 0.082<br>Sharpe Ratio: 2.758<br>RTX_Close: Weight=0.058<br>LMT_Close: Weight=0.428<br>INTC_Close: Weight=0.233<br>PEP_Close: Weight=0.281",
                    "Return: 15.463%<br>Volatility: 0.112<br>Sharpe Ratio: 1.384<br>GIS_Close: Weight=0.000<br>PFE_Close: Weight=0.416<br>GILD_Close: Weight=0.000<br>JPM_Close: Weight=0.584",
                    "Return: 11.553%<br>Volatility: 0.122<br>Sharpe Ratio: 0.950<br>GM_Close: Weight=0.441<br>DHR_Close: Weight=0.559<br>K_Close: Weight=0.000",
                    "Return: 21.281%<br>Volatility: 0.116<br>Sharpe Ratio: 1.835<br>AMD_Close: Weight=0.000<br>GOOGL_Close: Weight=0.690<br>VZ_Close: Weight=0.310",
                    "Return: 9.840%<br>Volatility: 0.103<br>Sharpe Ratio: 0.956<br>IBM_Close: Weight=0.000<br>BMY_Close: Weight=0.282<br>CMCSA_Close: Weight=0.233<br>DHR_Close: Weight=0.485",
                    "Return: 25.579%<br>Volatility: 0.123<br>Sharpe Ratio: 2.087<br>CSCO_Close: Weight=0.124<br>GS_Close: Weight=0.000<br>ACN_Close: Weight=0.859<br>GILD_Close: Weight=0.017",
                    "Return: 41.380%<br>Volatility: 0.127<br>Sharpe Ratio: 3.250<br>EMR_Close: Weight=0.193<br>ABBV_Close: Weight=0.565<br>LLY_Close: Weight=0.000<br>ABT_Close: Weight=0.243",
                    "Return: 17.390%<br>Volatility: 0.109<br>Sharpe Ratio: 1.602<br>EXC_Close: Weight=0.466<br>TMO_Close: Weight=0.534<br>AMGN_Close: Weight=0.000<br>GILD_Close: Weight=0.000",
                    "Return: 22.958%<br>Volatility: 0.102<br>Sharpe Ratio: 2.242<br>RTX_Close: Weight=0.271<br>ACN_Close: Weight=0.624<br>CMCSA_Close: Weight=0.061<br>CSCO_Close: Weight=0.045",
                    "Return: 34.904%<br>Volatility: 0.141<br>Sharpe Ratio: 2.475<br>UNH_Close: Weight=1.000<br>KR_Close: Weight=0.000<br>UA_Close: Weight=0.000",
                    "Return: 22.981%<br>Volatility: 0.105<br>Sharpe Ratio: 2.180<br>SO_Close: Weight=0.000<br>NEE_Close: Weight=0.881<br>QCOM_Close: Weight=0.119<br>K_Close: Weight=0.000",
                    "Return: 14.070%<br>Volatility: 0.083<br>Sharpe Ratio: 1.701<br>QCOM_Close: Weight=0.150<br>CPB_Close: Weight=0.000<br>KO_Close: Weight=0.850",
                    "Return: 12.009%<br>Volatility: 0.071<br>Sharpe Ratio: 1.702<br>KO_Close: Weight=0.707<br>PFE_Close: Weight=0.283<br>SRE_Close: Weight=0.000<br>XOM_Close: Weight=0.010",
                    "Return: 30.778%<br>Volatility: 0.102<br>Sharpe Ratio: 3.004<br>BTI_Close: Weight=0.000<br>HD_Close: Weight=0.557<br>ABT_Close: Weight=0.443",
                    "Return: 17.207%<br>Volatility: 0.116<br>Sharpe Ratio: 1.484<br>RTX_Close: Weight=0.665<br>ORCL_Close: Weight=0.218<br>GS_Close: Weight=0.000<br>TSLA_Close: Weight=0.117",
                    "Return: 23.794%<br>Volatility: 0.103<br>Sharpe Ratio: 2.300<br>LMT_Close: Weight=0.859<br>SNAP_Close: Weight=0.000<br>PM_Close: Weight=0.000<br>BAC_Close: Weight=0.141",
                    "Return: 15.568%<br>Volatility: 0.098<br>Sharpe Ratio: 1.586<br>JNJ_Close: Weight=0.761<br>ZBH_Close: Weight=0.000<br>NKE_Close: Weight=0.071<br>VZ_Close: Weight=0.168",
                    "Return: 25.044%<br>Volatility: 0.176<br>Sharpe Ratio: 1.423<br>IBM_Close: Weight=0.000<br>MRK_Close: Weight=0.000<br>AMD_Close: Weight=0.000<br>AAPL_Close: Weight=1.000",
                    "Return: 12.446%<br>Volatility: 0.081<br>Sharpe Ratio: 1.542<br>DIS_Close: Weight=0.000<br>XOM_Close: Weight=0.084<br>KO_Close: Weight=0.916",
                    "Return: 20.564%<br>Volatility: 0.106<br>Sharpe Ratio: 1.943<br>VZ_Close: Weight=0.211<br>NFLX_Close: Weight=0.225<br>AMGN_Close: Weight=0.000<br>JNJ_Close: Weight=0.564",
                    "Return: 45.771%<br>Volatility: 0.190<br>Sharpe Ratio: 2.411<br>AAPL_Close: Weight=0.316<br>BSX_Close: Weight=0.000<br>BABA_Close: Weight=0.595<br>ETN_Close: Weight=0.090",
                    "Return: 7.230%<br>Volatility: 0.095<br>Sharpe Ratio: 0.759<br>GILD_Close: Weight=0.114<br>PG_Close: Weight=0.359<br>ZBH_Close: Weight=0.101<br>VZ_Close: Weight=0.426",
                    "Return: 23.498%<br>Volatility: 0.098<br>Sharpe Ratio: 2.405<br>MMM_Close: Weight=0.535<br>TMO_Close: Weight=0.162<br>JNJ_Close: Weight=0.302",
                    "Return: 31.135%<br>Volatility: 0.122<br>Sharpe Ratio: 2.550<br>COST_Close: Weight=0.006<br>BIIB_Close: Weight=0.000<br>TXN_Close: Weight=0.669<br>SYY_Close: Weight=0.324",
                    "Return: 33.190%<br>Volatility: 0.118<br>Sharpe Ratio: 2.816<br>MCD_Close: Weight=0.838<br>GIS_Close: Weight=0.000<br>BMY_Close: Weight=0.061<br>NKE_Close: Weight=0.102",
                    "Return: 51.629%<br>Volatility: 0.140<br>Sharpe Ratio: 3.699<br>TSLA_Close: Weight=0.004<br>CSCO_Close: Weight=0.003<br>TXN_Close: Weight=0.342<br>BA_Close: Weight=0.651",
                    "Return: 9.683%<br>Volatility: 0.138<br>Sharpe Ratio: 0.700<br>AMGN_Close: Weight=0.000<br>WFC_Close: Weight=0.351<br>BMY_Close: Weight=0.649",
                    "Return: 36.448%<br>Volatility: 0.147<br>Sharpe Ratio: 2.471<br>ORCL_Close: Weight=0.221<br>PM_Close: Weight=0.000<br>CPB_Close: Weight=0.000<br>WMT_Close: Weight=0.779",
                    "Return: 25.260%<br>Volatility: 0.092<br>Sharpe Ratio: 2.738<br>NEE_Close: Weight=0.549<br>ACN_Close: Weight=0.451<br>AMD_Close: Weight=0.000",
                    "Return: 30.472%<br>Volatility: 0.106<br>Sharpe Ratio: 2.879<br>NVDA_Close: Weight=0.115<br>PEP_Close: Weight=0.342<br>V_Close: Weight=0.542",
                    "Return: 33.722%<br>Volatility: 0.119<br>Sharpe Ratio: 2.832<br>MO_Close: Weight=0.000<br>CSCO_Close: Weight=0.177<br>MCD_Close: Weight=0.823",
                    "Return: 19.798%<br>Volatility: 0.145<br>Sharpe Ratio: 1.366<br>NKE_Close: Weight=0.162<br>MDT_Close: Weight=0.000<br>MRK_Close: Weight=0.000<br>TMO_Close: Weight=0.838",
                    "Return: 36.796%<br>Volatility: 0.140<br>Sharpe Ratio: 2.634<br>AAPL_Close: Weight=0.348<br>WMT_Close: Weight=0.652<br>SNAP_Close: Weight=0.000",
                    "Return: 32.479%<br>Volatility: 0.131<br>Sharpe Ratio: 2.480<br>DUK_Close: Weight=0.084<br>BMY_Close: Weight=0.000<br>UNH_Close: Weight=0.916<br>PM_Close: Weight=0.000",
                    "Return: 15.262%<br>Volatility: 0.152<br>Sharpe Ratio: 1.002<br>BIIB_Close: Weight=0.135<br>CSCO_Close: Weight=0.865<br>SNAP_Close: Weight=0.000",
                    "Return: 22.662%<br>Volatility: 0.106<br>Sharpe Ratio: 2.138<br>VZ_Close: Weight=0.175<br>EMR_Close: Weight=0.292<br>GOOG_Close: Weight=0.533",
                    "Return: 27.524%<br>Volatility: 0.124<br>Sharpe Ratio: 2.224<br>XOM_Close: Weight=0.071<br>ACN_Close: Weight=0.761<br>NFLX_Close: Weight=0.168",
                    "Return: 31.260%<br>Volatility: 0.111<br>Sharpe Ratio: 2.811<br>DHR_Close: Weight=0.053<br>LLY_Close: Weight=0.143<br>MCD_Close: Weight=0.804",
                    "Return: 28.765%<br>Volatility: 0.096<br>Sharpe Ratio: 3.010<br>MA_Close: Weight=0.477<br>AMGN_Close: Weight=0.000<br>VZ_Close: Weight=0.142<br>LMT_Close: Weight=0.381",
                    "Return: 25.627%<br>Volatility: 0.108<br>Sharpe Ratio: 2.373<br>CVX_Close: Weight=0.438<br>AMGN_Close: Weight=0.000<br>SYK_Close: Weight=0.395<br>VRTX_Close: Weight=0.168",
                    "Return: 19.851%<br>Volatility: 0.122<br>Sharpe Ratio: 1.626<br>TMO_Close: Weight=0.488<br>RMD_Close: Weight=0.257<br>CSCO_Close: Weight=0.256",
                    "Return: 59.541%<br>Volatility: 0.174<br>Sharpe Ratio: 3.416<br>BA_Close: Weight=1.000<br>GE_Close: Weight=0.000<br>PM_Close: Weight=0.000",
                    "Return: 31.958%<br>Volatility: 0.117<br>Sharpe Ratio: 2.734<br>GE_Close: Weight=0.000<br>GOOGL_Close: Weight=0.322<br>UNH_Close: Weight=0.678",
                    "Return: 16.515%<br>Volatility: 0.104<br>Sharpe Ratio: 1.583<br>DUK_Close: Weight=0.448<br>ORCL_Close: Weight=0.159<br>CMCSA_Close: Weight=0.118<br>NFLX_Close: Weight=0.275",
                    "Return: 61.598%<br>Volatility: 0.143<br>Sharpe Ratio: 4.296<br>CAT_Close: Weight=0.450<br>RDY_Close: Weight=0.000<br>BA_Close: Weight=0.550<br>XOM_Close: Weight=0.000",
                    "Return: 25.951%<br>Volatility: 0.125<br>Sharpe Ratio: 2.083<br>MRK_Close: Weight=0.000<br>ACN_Close: Weight=0.916<br>NKE_Close: Weight=0.084",
                    "Return: 25.868%<br>Volatility: 0.092<br>Sharpe Ratio: 2.814<br>HON_Close: Weight=0.630<br>TSLA_Close: Weight=0.035<br>ACN_Close: Weight=0.336",
                    "Return: 26.561%<br>Volatility: 0.127<br>Sharpe Ratio: 2.099<br>REGN_Close: Weight=0.000<br>CSCO_Close: Weight=0.168<br>ABT_Close: Weight=0.832",
                    "Return: 36.134%<br>Volatility: 0.126<br>Sharpe Ratio: 2.871<br>VRTX_Close: Weight=0.134<br>MO_Close: Weight=0.000<br>TXN_Close: Weight=0.434<br>ACN_Close: Weight=0.433",
                    "Return: 35.409%<br>Volatility: 0.148<br>Sharpe Ratio: 2.387<br>CRM_Close: Weight=0.224<br>NVDA_Close: Weight=0.231<br>SAP_Close: Weight=0.392<br>GM_Close: Weight=0.153",
                    "Return: 34.043%<br>Volatility: 0.137<br>Sharpe Ratio: 2.491<br>KR_Close: Weight=0.000<br>F_Close: Weight=0.000<br>UNH_Close: Weight=0.930<br>EW_Close: Weight=0.070",
                    "Return: 36.987%<br>Volatility: 0.095<br>Sharpe Ratio: 3.901<br>CVX_Close: Weight=0.201<br>MMM_Close: Weight=0.210<br>UNH_Close: Weight=0.341<br>PYPL_Close: Weight=0.248",
                    "Return: 50.737%<br>Volatility: 0.135<br>Sharpe Ratio: 3.745<br>K_Close: Weight=0.000<br>MA_Close: Weight=0.297<br>BABA_Close: Weight=0.211<br>ABBV_Close: Weight=0.492",
                    "Return: 19.413%<br>Volatility: 0.262<br>Sharpe Ratio: 0.740<br>TSLA_Close: Weight=0.710<br>BSX_Close: Weight=0.000<br>F_Close: Weight=0.290<br>UA_Close: Weight=0.000",
                    "Return: 34.597%<br>Volatility: 0.131<br>Sharpe Ratio: 2.646<br>GILD_Close: Weight=0.000<br>MA_Close: Weight=0.616<br>V_Close: Weight=0.361<br>ETN_Close: Weight=0.023",
                    "Return: 34.124%<br>Volatility: 0.117<br>Sharpe Ratio: 2.921<br>NVDA_Close: Weight=0.163<br>HON_Close: Weight=0.837<br>ETN_Close: Weight=0.000",
                    "Return: 25.067%<br>Volatility: 0.102<br>Sharpe Ratio: 2.467<br>HON_Close: Weight=1.000<br>MRK_Close: Weight=0.000<br>SNAP_Close: Weight=0.000",
                    "Return: 26.157%<br>Volatility: 0.097<br>Sharpe Ratio: 2.695<br>WFC_Close: Weight=0.000<br>JNJ_Close: Weight=0.344<br>V_Close: Weight=0.656",
                    "Return: 26.741%<br>Volatility: 0.089<br>Sharpe Ratio: 2.993<br>EW_Close: Weight=0.031<br>NEE_Close: Weight=0.435<br>V_Close: Weight=0.455<br>TMO_Close: Weight=0.079",
                    "Return: 22.662%<br>Volatility: 0.095<br>Sharpe Ratio: 2.378<br>AAPL_Close: Weight=0.253<br>PFE_Close: Weight=0.226<br>ACN_Close: Weight=0.521",
                    "Return: 30.450%<br>Volatility: 0.139<br>Sharpe Ratio: 2.198<br>INTC_Close: Weight=0.476<br>GOOGL_Close: Weight=0.230<br>META_Close: Weight=0.295<br>ZBH_Close: Weight=0.000",
                    "Return: 19.525%<br>Volatility: 0.081<br>Sharpe Ratio: 2.412<br>NEE_Close: Weight=0.611<br>PM_Close: Weight=0.000<br>GS_Close: Weight=0.104<br>JNJ_Close: Weight=0.285",
                    "Return: 30.523%<br>Volatility: 0.090<br>Sharpe Ratio: 3.389<br>RTX_Close: Weight=0.174<br>BABA_Close: Weight=0.237<br>NEE_Close: Weight=0.517<br>COST_Close: Weight=0.072",
                    "Return: 12.215%<br>Volatility: 0.093<br>Sharpe Ratio: 1.313<br>CVX_Close: Weight=0.507<br>PFE_Close: Weight=0.453<br>GILD_Close: Weight=0.040",
                    "Return: 23.544%<br>Volatility: 0.100<br>Sharpe Ratio: 2.351<br>T_Close: Weight=0.000<br>ACN_Close: Weight=0.570<br>RTX_Close: Weight=0.208<br>JPM_Close: Weight=0.221",
                    "Return: 25.489%<br>Volatility: 0.087<br>Sharpe Ratio: 2.924<br>SAP_Close: Weight=0.189<br>HD_Close: Weight=0.471<br>PFE_Close: Weight=0.160<br>AAPL_Close: Weight=0.180",
                    "Return: 27.499%<br>Volatility: 0.089<br>Sharpe Ratio: 3.073<br>SYY_Close: Weight=0.124<br>WMT_Close: Weight=0.340<br>SAP_Close: Weight=0.257<br>JNJ_Close: Weight=0.279",
                    "Return: 30.383%<br>Volatility: 0.118<br>Sharpe Ratio: 2.569<br>EMR_Close: Weight=0.165<br>VZ_Close: Weight=0.142<br>MSFT_Close: Weight=0.692<br>GILD_Close: Weight=0.000",
                    "Return: 25.728%<br>Volatility: 0.124<br>Sharpe Ratio: 2.082<br>ACN_Close: Weight=0.909<br>CMCSA_Close: Weight=0.091<br>WFC_Close: Weight=0.000",
                    "Return: 30.642%<br>Volatility: 0.113<br>Sharpe Ratio: 2.719<br>EXC_Close: Weight=0.210<br>ADBE_Close: Weight=0.169<br>XOM_Close: Weight=0.202<br>ISRG_Close: Weight=0.418",
                    "Return: 25.103%<br>Volatility: 0.090<br>Sharpe Ratio: 2.790<br>PG_Close: Weight=0.069<br>AEP_Close: Weight=0.276<br>TMO_Close: Weight=0.166<br>UNH_Close: Weight=0.489",
                    "Return: 27.422%<br>Volatility: 0.144<br>Sharpe Ratio: 1.901<br>WFC_Close: Weight=0.025<br>CMCSA_Close: Weight=0.064<br>INTC_Close: Weight=0.768<br>BTI_Close: Weight=0.144",
                    "Return: 6.147%<br>Volatility: 0.161<br>Sharpe Ratio: 0.382<br>WFC_Close: Weight=0.903<br>F_Close: Weight=0.097<br>CPB_Close: Weight=0.000",
                    "Return: 59.890%<br>Volatility: 0.260<br>Sharpe Ratio: 2.305<br>BABA_Close: Weight=0.973<br>DIS_Close: Weight=0.027<br>GS_Close: Weight=0.000",
                    "Return: 67.570%<br>Volatility: 0.328<br>Sharpe Ratio: 2.059<br>WFC_Close: Weight=0.177<br>NVDA_Close: Weight=0.823<br>F_Close: Weight=0.000",
                    "Return: 21.416%<br>Volatility: 0.147<br>Sharpe Ratio: 1.453<br>AMGN_Close: Weight=0.000<br>SYK_Close: Weight=0.772<br>RMD_Close: Weight=0.228",
                    "Return: 59.870%<br>Volatility: 0.260<br>Sharpe Ratio: 2.305<br>GE_Close: Weight=0.000<br>BABA_Close: Weight=0.972<br>DIS_Close: Weight=0.028",
                    "Return: 32.436%<br>Volatility: 0.123<br>Sharpe Ratio: 2.644<br>K_Close: Weight=0.000<br>AAPL_Close: Weight=0.250<br>F_Close: Weight=0.000<br>UNH_Close: Weight=0.750",
                    "Return: 31.195%<br>Volatility: 0.102<br>Sharpe Ratio: 3.057<br>SRE_Close: Weight=0.000<br>MCD_Close: Weight=0.581<br>EXC_Close: Weight=0.190<br>META_Close: Weight=0.229",
                    "Return: 9.549%<br>Volatility: 0.206<br>Sharpe Ratio: 0.465<br>K_Close: Weight=0.000<br>CMCSA_Close: Weight=1.000<br>KR_Close: Weight=0.000",
                    "Return: 37.296%<br>Volatility: 0.108<br>Sharpe Ratio: 3.462<br>AMGN_Close: Weight=0.000<br>SYK_Close: Weight=0.058<br>ABBV_Close: Weight=0.429<br>HON_Close: Weight=0.514",
                    "Return: 18.520%<br>Volatility: 0.144<br>Sharpe Ratio: 1.288<br>T_Close: Weight=0.000<br>EMR_Close: Weight=0.731<br>XOM_Close: Weight=0.000<br>ETN_Close: Weight=0.269",
                    "Return: 23.195%<br>Volatility: 0.098<br>Sharpe Ratio: 2.373<br>CSCO_Close: Weight=0.095<br>CVX_Close: Weight=0.323<br>MDT_Close: Weight=0.000<br>ABT_Close: Weight=0.581",
                    "Return: 24.636%<br>Volatility: 0.089<br>Sharpe Ratio: 2.774<br>LLY_Close: Weight=0.008<br>IBM_Close: Weight=0.000<br>KO_Close: Weight=0.504<br>MSFT_Close: Weight=0.488",
                    "Return: 32.795%<br>Volatility: 0.129<br>Sharpe Ratio: 2.552<br>UNH_Close: Weight=0.869<br>GILD_Close: Weight=0.000<br>QCOM_Close: Weight=0.131",
                    "Return: 28.198%<br>Volatility: 0.091<br>Sharpe Ratio: 3.104<br>ABT_Close: Weight=0.386<br>AMGN_Close: Weight=0.000<br>CVX_Close: Weight=0.164<br>HD_Close: Weight=0.450",
                    "Return: 16.877%<br>Volatility: 0.091<br>Sharpe Ratio: 1.850<br>EXC_Close: Weight=0.404<br>JPM_Close: Weight=0.424<br>RMD_Close: Weight=0.156<br>CMCSA_Close: Weight=0.016",
                    "Return: 31.163%<br>Volatility: 0.113<br>Sharpe Ratio: 2.759<br>XOM_Close: Weight=0.012<br>UNH_Close: Weight=0.632<br>JNJ_Close: Weight=0.215<br>NFLX_Close: Weight=0.142",
                    "Return: 15.987%<br>Volatility: 0.119<br>Sharpe Ratio: 1.348<br>REGN_Close: Weight=0.000<br>MRK_Close: Weight=0.000<br>ETN_Close: Weight=0.309<br>RTX_Close: Weight=0.691",
                    "Return: 36.673%<br>Volatility: 0.163<br>Sharpe Ratio: 2.248<br>NVDA_Close: Weight=0.302<br>MRK_Close: Weight=0.000<br>XOM_Close: Weight=0.260<br>GOOGL_Close: Weight=0.438",
                    "Return: 31.948%<br>Volatility: 0.163<br>Sharpe Ratio: 1.963<br>ETN_Close: Weight=0.262<br>AMZN_Close: Weight=0.579<br>MO_Close: Weight=0.000<br>NFLX_Close: Weight=0.158",
                    "Return: 10.984%<br>Volatility: 0.163<br>Sharpe Ratio: 0.676<br>BMY_Close: Weight=0.735<br>BIIB_Close: Weight=0.265<br>MRK_Close: Weight=0.000<br>BSX_Close: Weight=0.000",
                    "Return: 28.330%<br>Volatility: 0.139<br>Sharpe Ratio: 2.032<br>AMZN_Close: Weight=0.561<br>SO_Close: Weight=0.000<br>CSCO_Close: Weight=0.213<br>GM_Close: Weight=0.226",
                    "Return: 11.004%<br>Volatility: 0.137<br>Sharpe Ratio: 0.803<br>VZ_Close: Weight=0.589<br>GIS_Close: Weight=0.000<br>REGN_Close: Weight=0.023<br>COST_Close: Weight=0.388",
                    "Return: 27.959%<br>Volatility: 0.089<br>Sharpe Ratio: 3.159<br>UNH_Close: Weight=0.420<br>CVX_Close: Weight=0.228<br>MMM_Close: Weight=0.353",
                    "Return: 38.293%<br>Volatility: 0.173<br>Sharpe Ratio: 2.208<br>META_Close: Weight=0.485<br>UA_Close: Weight=0.000<br>K_Close: Weight=0.000<br>ADBE_Close: Weight=0.515",
                    "Return: 23.001%<br>Volatility: 0.088<br>Sharpe Ratio: 2.629<br>HON_Close: Weight=0.785<br>ZBH_Close: Weight=0.000<br>CVX_Close: Weight=0.215",
                    "Return: 9.198%<br>Volatility: 0.124<br>Sharpe Ratio: 0.744<br>RDY_Close: Weight=0.000<br>DHR_Close: Weight=0.821<br>BIIB_Close: Weight=0.179",
                    "Return: 29.359%<br>Volatility: 0.115<br>Sharpe Ratio: 2.551<br>V_Close: Weight=0.853<br>BAC_Close: Weight=0.138<br>ORCL_Close: Weight=0.009<br>GILD_Close: Weight=0.000",
                    "Return: 28.349%<br>Volatility: 0.138<br>Sharpe Ratio: 2.053<br>WFC_Close: Weight=0.014<br>SO_Close: Weight=0.000<br>ABT_Close: Weight=0.986<br>AMD_Close: Weight=0.000",
                    "Return: 38.484%<br>Volatility: 0.154<br>Sharpe Ratio: 2.506<br>REGN_Close: Weight=0.000<br>JPM_Close: Weight=0.346<br>BABA_Close: Weight=0.503<br>XOM_Close: Weight=0.151",
                    "Return: 8.714%<br>Volatility: 0.137<br>Sharpe Ratio: 0.635<br>UA_Close: Weight=0.000<br>LLY_Close: Weight=0.367<br>RDY_Close: Weight=0.000<br>BTI_Close: Weight=0.633",
                    "Return: 34.627%<br>Volatility: 0.136<br>Sharpe Ratio: 2.548<br>ADBE_Close: Weight=0.313<br>GOOG_Close: Weight=0.206<br>EW_Close: Weight=0.103<br>INTC_Close: Weight=0.377",
                    "Return: 26.992%<br>Volatility: 0.099<br>Sharpe Ratio: 2.736<br>BSX_Close: Weight=0.000<br>AMD_Close: Weight=0.000<br>INTC_Close: Weight=0.255<br>HON_Close: Weight=0.745",
                    "Return: 50.422%<br>Volatility: 0.156<br>Sharpe Ratio: 3.236<br>BABA_Close: Weight=0.397<br>K_Close: Weight=0.000<br>WMT_Close: Weight=0.603",
                    "Return: 37.099%<br>Volatility: 0.120<br>Sharpe Ratio: 3.094<br>CMCSA_Close: Weight=0.093<br>ISRG_Close: Weight=0.391<br>UNH_Close: Weight=0.516",
                    "Return: 11.300%<br>Volatility: 0.169<br>Sharpe Ratio: 0.668<br>K_Close: Weight=0.000<br>AMGN_Close: Weight=0.000<br>VZ_Close: Weight=1.000",
                    "Return: 43.058%<br>Volatility: 0.182<br>Sharpe Ratio: 2.372<br>COST_Close: Weight=0.000<br>MO_Close: Weight=0.000<br>WMT_Close: Weight=1.000<br>T_Close: Weight=0.000",
                    "Return: 23.220%<br>Volatility: 0.131<br>Sharpe Ratio: 1.775<br>K_Close: Weight=0.000<br>MS_Close: Weight=0.262<br>CPB_Close: Weight=0.000<br>CRM_Close: Weight=0.738",
                    "Return: 9.716%<br>Volatility: 0.165<br>Sharpe Ratio: 0.588<br>GILD_Close: Weight=0.253<br>K_Close: Weight=0.000<br>COST_Close: Weight=0.747",
                    "Return: 12.227%<br>Volatility: 0.087<br>Sharpe Ratio: 1.398<br>RTX_Close: Weight=0.581<br>PG_Close: Weight=0.317<br>NKE_Close: Weight=0.102<br>AMGN_Close: Weight=0.000",
                    "Return: 29.830%<br>Volatility: 0.096<br>Sharpe Ratio: 3.098<br>EXC_Close: Weight=0.275<br>WMT_Close: Weight=0.409<br>GOOG_Close: Weight=0.316",
                    "Return: 50.155%<br>Volatility: 0.163<br>Sharpe Ratio: 3.073<br>ABBV_Close: Weight=0.876<br>GE_Close: Weight=0.000<br>EW_Close: Weight=0.124<br>XOM_Close: Weight=0.000",
                    "Return: 58.414%<br>Volatility: 0.207<br>Sharpe Ratio: 2.825<br>K_Close: Weight=0.000<br>PYPL_Close: Weight=0.899<br>DIS_Close: Weight=0.101",
                    "Return: 33.032%<br>Volatility: 0.085<br>Sharpe Ratio: 3.888<br>MCD_Close: Weight=0.400<br>MMM_Close: Weight=0.307<br>HD_Close: Weight=0.292",
                    "Return: 34.603%<br>Volatility: 0.108<br>Sharpe Ratio: 3.190<br>MMM_Close: Weight=0.553<br>WMT_Close: Weight=0.447<br>MDT_Close: Weight=0.000",
                    "Return: 28.566%<br>Volatility: 0.113<br>Sharpe Ratio: 2.522<br>ETN_Close: Weight=0.000<br>XOM_Close: Weight=0.150<br>SAP_Close: Weight=0.226<br>MSFT_Close: Weight=0.624",
                    "Return: 32.448%<br>Volatility: 0.116<br>Sharpe Ratio: 2.785<br>BMY_Close: Weight=0.000<br>UNH_Close: Weight=0.658<br>GOOG_Close: Weight=0.342",
                    "Return: 32.950%<br>Volatility: 0.170<br>Sharpe Ratio: 1.933<br>ZBH_Close: Weight=0.000<br>AMZN_Close: Weight=0.488<br>GOOG_Close: Weight=0.512",
                    "Return: 30.961%<br>Volatility: 0.124<br>Sharpe Ratio: 2.491<br>ADBE_Close: Weight=0.461<br>MS_Close: Weight=0.150<br>AMD_Close: Weight=0.000<br>SYY_Close: Weight=0.389"
                  ],
                  "type": "scatter",
                  "x": [
                    0.09892397560326292,
                    0.08621143200774338,
                    0.13579110705359287,
                    0.14920941226055223,
                    0.16974739572014674,
                    0.13748642076734202,
                    0.13331944672429286,
                    0.1202136375103075,
                    0.11805986895972351,
                    0.11844951877815482,
                    0.18932731877473963,
                    0.14930467916980178,
                    0.12014231287939794,
                    0.13490411922913106,
                    0.13583186760887503,
                    0.10972451040078253,
                    0.14701079046603127,
                    0.09262998182178966,
                    0.08331520997806251,
                    0.15028451353688496,
                    0.13132480143128902,
                    0.11931444785398693,
                    0.10951169076212475,
                    0.18100370608701333,
                    0.08374949019828497,
                    0.07820023244190455,
                    0.13502355035741953,
                    0.10825986608777137,
                    0.1369009489049191,
                    0.17620704053749356,
                    0.1025195643360913,
                    0.12359685092703551,
                    0.08520890671249862,
                    0.09892115735527209,
                    0.0995885747255361,
                    0.1530298245380353,
                    0.12142545108837198,
                    0.083841396995465,
                    0.09410582678404893,
                    0.09560768740211784,
                    0.162667260902688,
                    0.20098607937662968,
                    0.11703110902535248,
                    0.09604794610498155,
                    0.10464099900068304,
                    0.07972711659669039,
                    0.1268209960210685,
                    0.16467631010168896,
                    0.10790660679940257,
                    0.10841109121065269,
                    0.09244617503548277,
                    0.10254749742843013,
                    0.10200329607008636,
                    0.12603652934245746,
                    0.08746056389968447,
                    0.17269590185354933,
                    0.12803770625052016,
                    0.14012026904089767,
                    0.11746323034782848,
                    0.10033963700445542,
                    0.15312640270280706,
                    0.0876704929565498,
                    0.09923057739939048,
                    0.10485961772706794,
                    0.1214425133832242,
                    0.13998946478391366,
                    0.10445660029043823,
                    0.12030771484134356,
                    0.10606658815534108,
                    0.12355152864223472,
                    0.1547492287728344,
                    0.08619326652171824,
                    0.10535892567640368,
                    0.11600949100039414,
                    0.13860911349238125,
                    0.11309459381642775,
                    0.11886534511921372,
                    0.14200349993291128,
                    0.08854893459038818,
                    0.12219749351649536,
                    0.09451846369035036,
                    0.10213920292014013,
                    0.11904691784428383,
                    0.08785216883642767,
                    0.1102788378826853,
                    0.3937107231388769,
                    0.1091167879818831,
                    0.1944564745745095,
                    0.15548467008108963,
                    0.18932190822059883,
                    0.09728830198341024,
                    0.12112079676572803,
                    0.07512086679728429,
                    0.10060172466123647,
                    0.1358456734761595,
                    0.11110730236291426,
                    0.1278512799249834,
                    0.13736824803713507,
                    0.19321498301846785,
                    0.1496805831788135,
                    0.14100971212068145,
                    0.12588495597801577,
                    0.09533861212717663,
                    0.1441329940754095,
                    0.140251396349684,
                    0.0870372085568371,
                    0.12848405687413675,
                    0.10381145794115726,
                    0.12398843708020812,
                    0.17437730492060297,
                    0.10862378987169535,
                    0.16194973887659944,
                    0.14157840060619997,
                    0.16865668335513445,
                    0.10813771727715457,
                    0.09580305701223497,
                    0.12344448121207652,
                    0.14336546655826687,
                    0.09327851153284239,
                    0.1561555759193924,
                    0.09414484000238206,
                    0.1239023875582014,
                    0.14413299407540991,
                    0.18615232263381326,
                    0.11893957898660355,
                    0.11505044936047205,
                    0.10549081382258035,
                    0.09485880081579552,
                    0.1286625514095276,
                    0.24453094946293905,
                    0.1761575955005375,
                    0.19097790096420436,
                    0.08129690908500316,
                    0.12677308994447867,
                    0.1755961554520289,
                    0.12740874269872776,
                    0.10194400285892206,
                    0.10112593068498645,
                    0.0795050044008738,
                    0.12343383124195831,
                    0.1796749084171164,
                    0.3115374305923418,
                    0.0804367345143944,
                    0.14140822185218385,
                    0.14815357784689345,
                    0.14754555410891088,
                    0.08854238071746612,
                    0.10608931500759847,
                    0.19739074141787896,
                    0.0969666224501275,
                    0.1086138581878053,
                    0.1048336313082699,
                    0.10803200351588997,
                    0.12836062267640527,
                    0.09957015578703722,
                    0.11862488758218295,
                    0.25502612380963907,
                    0.11198968050558648,
                    0.11443178039538786,
                    0.11702311882636561,
                    0.09696231340991605,
                    0.12662996220775866,
                    0.15165638708171975,
                    0.1448104105302896,
                    0.10255606030236664,
                    0.09621436049108373,
                    0.114033799528857,
                    0.16109203203302516,
                    0.15728532932429543,
                    0.1076847851661674,
                    0.15825255281433304,
                    0.15870703906581904,
                    0.1348388524059187,
                    0.07950600866654467,
                    0.1332210304738322,
                    0.09112151351923015,
                    0.11114543581271266,
                    0.10846143538712685,
                    0.13927841580634318,
                    0.11143204545955995,
                    0.08824801665032798,
                    0.08886918960361519,
                    0.13527232420337665,
                    0.14916148375443536,
                    0.10795337847859568,
                    0.10291091815227155,
                    0.11825662112917638,
                    0.18583673086290123,
                    0.1276280963156594,
                    0.11726495070450374,
                    0.10333358102908709,
                    0.18259630406498825,
                    0.0783873536539605,
                    0.17398873117363314,
                    0.13936425726393414,
                    0.1026260452630172,
                    0.09409621580883111,
                    0.13075585132027032,
                    0.14041839525368047,
                    0.14570165945362087,
                    0.1496509197271749,
                    0.1348784070259082,
                    0.09720641143071664,
                    0.07982235314592667,
                    0.13391661431148122,
                    0.1350235503574144,
                    0.1268892258400835,
                    0.13298106010219224,
                    0.08335039459703202,
                    0.16400101066722553,
                    0.19378024624698792,
                    0.12057607797070988,
                    0.11317618414114021,
                    0.1410097121206816,
                    0.12851453257057102,
                    0.15566746705606488,
                    0.13033422060739508,
                    0.13469772216536055,
                    0.17237418277772526,
                    0.0795769755759512,
                    0.12383037644523658,
                    0.17926510126346468,
                    0.14326804729814202,
                    0.1986311026793938,
                    0.10863296266673377,
                    0.08407955012101691,
                    0.13578626407231986,
                    0.10459539678694436,
                    0.09973706123734821,
                    0.10718240149756555,
                    0.10704758379460966,
                    0.11188725346081935,
                    0.11882390235004496,
                    0.1713414047875687,
                    0.10326202811323208,
                    0.18476049373113043,
                    0.13433497624933916,
                    0.2386669094996029,
                    0.09505192261314245,
                    0.1210556183213888,
                    0.0847727135795912,
                    0.09706210000474078,
                    0.12049290213828635,
                    0.11308512840775349,
                    0.11434345766672113,
                    0.08109669349461054,
                    0.12100292973221465,
                    0.13741778858666132,
                    0.09486422442540783,
                    0.14397173657349369,
                    0.10148697754172896,
                    0.13016573114368554,
                    0.14146472268983426,
                    0.14547158570737934,
                    0.10639522090651775,
                    0.08509444244962541,
                    0.11565671340273735,
                    0.105564857430692,
                    0.1427112879847362,
                    0.12245392443030216,
                    0.1337790959426382,
                    0.15828983827740326,
                    0.0993923780305792,
                    0.12286276387684328,
                    0.14271016129887998,
                    0.08087646726089125,
                    0.15970981018354574,
                    0.11404070901704547,
                    0.11974957061975786,
                    0.131456667934634,
                    0.14157578798763695,
                    0.09248510356152352,
                    0.12494719802615864,
                    0.1521453827087908,
                    0.11691483072646146,
                    0.14119517151315175,
                    0.13502355035741667,
                    0.13419323558216564,
                    0.1386527132013997,
                    0.11404915876166428,
                    0.1418868169476455,
                    0.11631963645295874,
                    0.10884107287012865,
                    0.11416524497487499,
                    0.07443879607164067,
                    0.1526464869095231,
                    0.1376875258577335,
                    0.14713136790820852,
                    0.1697465643623987,
                    0.09509346562192517,
                    0.1432716876737598,
                    0.11536539159645735,
                    0.1549876063686509,
                    0.11954461255383207,
                    0.08389978004399945,
                    0.08676079466409406,
                    0.1889707013631835,
                    0.10627665477718909,
                    0.16994929495608632,
                    0.12596141847684655,
                    0.14672240198629402,
                    0.11771711606112241,
                    0.0949066819482548,
                    0.11710507663803156,
                    0.11417708706788073,
                    0.14210215833511203,
                    0.15906465966303535,
                    0.15434914308925354,
                    0.12530406869097152,
                    0.13463046325549918,
                    0.11848545613049204,
                    0.1235744914355514,
                    0.12143680067736774,
                    0.14399564059446532,
                    0.12973617577861085,
                    0.10197503450377526,
                    0.11209914655676916,
                    0.28238061521710767,
                    0.15552857352201427,
                    0.13177688600722015,
                    0.11502125586539208,
                    0.12127943014818227,
                    0.12298997137390218,
                    0.11463488640262635,
                    0.12736076241429503,
                    0.16834261345417717,
                    0.1325994450394768,
                    0.19028658983891206,
                    0.16400760243791926,
                    0.08068258291662911,
                    0.149483920414811,
                    0.1098100714414451,
                    0.11875768326137558,
                    0.11727535519293482,
                    0.15175971606042665,
                    0.15971807912853211,
                    0.15797505971099177,
                    0.15121085242863566,
                    0.14235815022983242,
                    0.1561039789609011,
                    0.11774058368076709,
                    0.092796666686207,
                    0.15556411754135632,
                    0.1640010106721147,
                    0.12651412564011483,
                    0.14714260179816524,
                    0.0805595279669578,
                    0.0977183729819199,
                    0.22428383728734852,
                    0.13284384856595677,
                    0.08981605723503144,
                    0.13502355035741953,
                    0.13281967740169653,
                    0.12340973673933534,
                    0.114391911269805,
                    0.07489032372988547,
                    0.09053811650301094,
                    0.08377767848567878,
                    0.1047456764715866,
                    0.20557806893720487,
                    0.11471766800616981,
                    0.08661569825184288,
                    0.13314633106710436,
                    0.08645493780814739,
                    0.15911409037342022,
                    0.17517406788366366,
                    0.08267674642667541,
                    0.1160609130296139,
                    0.13001701386397777,
                    0.09492964934205964,
                    0.14271045265096832,
                    0.13405710348122907,
                    0.0832462817502765,
                    0.10548473854980012,
                    0.10875369807464988,
                    0.09659296236384149,
                    0.10086773109617617,
                    0.11522628948005602,
                    0.20076961168771545,
                    0.14527238167810083,
                    0.14975668719864302,
                    0.12967151544215644,
                    0.14637680015088575,
                    0.1681467686754273,
                    0.14131920779177942,
                    0.18774552712901002,
                    0.14385118552737036,
                    0.1271916139747887,
                    0.2050764542147493,
                    0.18153477636533405,
                    0.10771038803862865,
                    0.11619098111157547,
                    0.13669941388059342,
                    0.09770188244814779,
                    0.11662515582556167,
                    0.09765978907946195,
                    0.14080096663132466,
                    0.10492387328175216,
                    0.15175971606042682,
                    0.09883995406050788,
                    0.09355818487399319,
                    0.07848330182385574,
                    0.14200949880713903,
                    0.1352745442555108,
                    0.12806105070399498,
                    0.08081388013695671,
                    0.11613613289131591,
                    0.11353808474445945,
                    0.10109888954090063,
                    0.08872993823692733,
                    0.10550365742714395,
                    0.1162536274274796,
                    0.09532784814151905,
                    0.13966728786673727,
                    0.22835082818033678,
                    0.12899116503052335,
                    0.08164956118539853,
                    0.15622503587341943,
                    0.14676939089944951,
                    0.13967061237468814,
                    0.19301256608949086,
                    0.09181763711298886,
                    0.1247243150465704,
                    0.08841558757248161,
                    0.11681340015940617,
                    0.15725639138846215,
                    0.0835887290739029,
                    0.09771300504546998,
                    0.12528369673293244,
                    0.1364634157631394,
                    0.23234263761447557,
                    0.0843914499364788,
                    0.18481788775488991,
                    0.12008687742061137,
                    0.11573708758981245,
                    0.0944055581271682,
                    0.12142461214229386,
                    0.16134020100951854,
                    0.14011801747606178,
                    0.13934473945692682,
                    0.08269906595941263,
                    0.08629510942305814,
                    0.14183611745918548,
                    0.1467143281986115,
                    0.12162989328329125,
                    0.13195366952327495,
                    0.1410810019622195,
                    0.4640278176906301,
                    0.1701222148142865,
                    0.1872293229359012,
                    0.1294925852760226,
                    0.1750061312358257,
                    0.1257685562454788,
                    0.13110443073554223,
                    0.13263517734441935,
                    0.22068214255641175,
                    0.17559615545202892,
                    0.10490941333925789,
                    0.1186830534549229,
                    0.0941134916156177,
                    0.10262530922777027,
                    0.11490779855149723,
                    0.08143522161161097,
                    0.134513416146459,
                    0.13546343120452842,
                    0.09022691802324202,
                    0.12001550540340987,
                    0.15289767072354188,
                    0.10123348192530446,
                    0.128406849921436,
                    0.1084763902107042,
                    0.10911044502716963,
                    0.127262682158797,
                    0.12994374813704304,
                    0.15456849248351578,
                    0.14932565515069615,
                    0.14074746324390938,
                    0.14509783708938775,
                    0.09701249040376965,
                    0.1129795817712662,
                    0.1276675589112911,
                    0.19083386284879353,
                    0.08606176978040919,
                    0.1053609116433751,
                    0.13816489682834257,
                    0.11019659876189226,
                    0.11168750526672362,
                    0.1153495887652037,
                    0.09887745954224729,
                    0.10162059962401143,
                    0.09448638801545724,
                    0.14134940449634198,
                    0.1097830531607877,
                    0.1769983318262923,
                    0.12046562789856206,
                    0.11419268367209866,
                    0.12344586742485658,
                    0.14138493325115295,
                    0.11928912958375613,
                    0.1972377846949676,
                    0.20936640951591834,
                    0.13337177059972966,
                    0.0869907319666792,
                    0.08460559681747062,
                    0.1259231928265779,
                    0.11506324252163887,
                    0.10614521677004776,
                    0.11398497833488921,
                    0.08638498397158376,
                    0.09401218553868818,
                    0.21390283387885653,
                    0.14378259614451874,
                    0.19069660981330055,
                    0.20331434153032218,
                    0.12809177018257029,
                    0.2277157606580074,
                    0.07452303172123494,
                    0.1301514494296325,
                    0.1112513021475464,
                    0.12693134191832042,
                    0.12626377180608087,
                    0.1046489230033278,
                    0.15175971606042682,
                    0.16764465675119394,
                    0.14075159548662147,
                    0.10376398605041992,
                    0.10516719763060942,
                    0.13063001015200287,
                    0.1401572585259112,
                    0.13372412083437213,
                    0.08010710760828194,
                    0.11044788621163856,
                    0.11774270563407335,
                    0.10182840897006,
                    0.09375659935348553,
                    0.14682669182886912,
                    0.16715004607165598,
                    0.09982393221969277,
                    0.10400654899608684,
                    0.09344359366036618,
                    0.1206284752009107,
                    0.09358810703068295,
                    0.09752304819164108,
                    0.10328487141041393,
                    0.09162139330263538,
                    0.07931362510968398,
                    0.2883460561226456,
                    0.1165889266750257,
                    0.09849243315165666,
                    0.13695740933923614,
                    0.15680523165993046,
                    0.16335452455189325,
                    0.11638413427543172,
                    0.18915556998122782,
                    0.10317698057162289,
                    0.164001010672115,
                    0.14456892720789807,
                    0.10841229180322352,
                    0.1562221728873816,
                    0.1225998492285902,
                    0.19619647058368508,
                    0.11440222396828391,
                    0.1661639817748851,
                    0.11418361668982106,
                    0.07724973013011208,
                    0.13183646192649393,
                    0.1258451363200245,
                    0.11022586344369163,
                    0.1610292371623516,
                    0.08131488057311753,
                    0.1330057641087685,
                    0.11686126288663533,
                    0.09762728018759294,
                    0.10970713578141711,
                    0.08927825949273359,
                    0.1767753102734496,
                    0.07748895743395791,
                    0.16861962704403213,
                    0.07845946055014572,
                    0.1156564602351724,
                    0.1143488869298341,
                    0.15627366690135552,
                    0.135547298441305,
                    0.15674473085935386,
                    0.15730111602341765,
                    0.10337610040099861,
                    0.13052099968542724,
                    0.2028603537110576,
                    0.1267197483034069,
                    0.12141240099815674,
                    0.19303055786116227,
                    0.1360559057431984,
                    0.11114398873491428,
                    0.1185274269948303,
                    0.07734450871287077,
                    0.21642314178001004,
                    0.13626100878305525,
                    0.14625891328347684,
                    0.1908338628487936,
                    0.09329192706982095,
                    0.10882844210661932,
                    0.12248993888986731,
                    0.13634666048198443,
                    0.09857844780055622,
                    0.1651653736269546,
                    0.16099915054101044,
                    0.09384088613850736,
                    0.16692715736576275,
                    0.10638641623674697,
                    0.14185400794818215,
                    0.11208834108528752,
                    0.08864531755121761,
                    0.09225754112566663,
                    0.17887811006224488,
                    0.09512080042771473,
                    0.1273580636948948,
                    0.1855224286798713,
                    0.14109267042715606,
                    0.14543842417960934,
                    0.10224965958163656,
                    0.13747102682089116,
                    0.1340873844820092,
                    0.13405522523929017,
                    0.16651802897224885,
                    0.1138856838999122,
                    0.1442850945679465,
                    0.1483101635054541,
                    0.11511212557979847,
                    0.1128762415581269,
                    0.09977060171724475,
                    0.1561555759193924,
                    0.08694920937860764,
                    0.10529502617051938,
                    0.09699311930466148,
                    0.13774115761095357,
                    0.2500631889470154,
                    0.15615557591939236,
                    0.146625583017284,
                    0.1540262401770806,
                    0.15175971606042682,
                    0.1083322170274033,
                    0.13876249738455543,
                    0.12085012414435906,
                    0.09342166891753699,
                    0.16353810251952589,
                    0.1226291933816637,
                    0.13777609405570246,
                    0.11180718385011687,
                    0.14585458626711062,
                    0.1835297276192114,
                    0.10540900767428671,
                    0.1268369686742593,
                    0.1577562861303098,
                    0.15295268219840905,
                    0.08028546002810517,
                    0.13037775318163167,
                    0.1077183965775129,
                    0.18153477636533455,
                    0.1354201363800774,
                    0.08572486546829229,
                    0.12141049156186114,
                    0.17408368362706705,
                    0.10601794724304259,
                    0.10993239387358071,
                    0.11125066617445556,
                    0.17138391701117262,
                    0.12525900949640403,
                    0.13138965181179801,
                    0.11345179786162779,
                    0.11359634803955536,
                    0.08190141042212404,
                    0.09946740546595625,
                    0.08852197327399645,
                    0.11369586872208863,
                    0.16400101067211473,
                    0.18661954819739773,
                    0.16623289026044125,
                    0.10105732943472773,
                    0.12384261852791426,
                    0.14694541016686388,
                    0.13329251773230327,
                    0.1605426170463911,
                    0.10173980681356212,
                    0.08912052153405611,
                    0.16095545727630017,
                    0.12487223527397512,
                    0.09946588447437532,
                    0.08792399850134207,
                    0.16295254810028378,
                    0.1275383071114522,
                    0.1099608769688084,
                    0.10663428696184389,
                    0.10110113853278768,
                    0.1356697941743469,
                    0.2278117436198583,
                    0.1309470685655902,
                    0.14172313062766348,
                    0.11930457315654006,
                    0.11251195314451533,
                    0.1536646481979819,
                    0.16396477129980158,
                    0.10562233012122811,
                    0.10965625272126268,
                    0.11390391379522516,
                    0.09018703557560306,
                    0.11462614340091724,
                    0.1218205631622745,
                    0.11294206498375968,
                    0.12295484746692883,
                    0.07849769319964181,
                    0.2278353580558285,
                    0.10586498931957324,
                    0.13616402609651326,
                    0.1068137786032668,
                    0.15305676689191403,
                    0.11212217096361088,
                    0.08969341049742562,
                    0.16243288039015966,
                    0.11348366033528894,
                    0.11672507861160121,
                    0.0873359530261414,
                    0.16064950869563163,
                    0.09721594835378729,
                    0.1010236768419636,
                    0.2895041376425193,
                    0.17641606282841552,
                    0.10979081677480727,
                    0.12251372219480461,
                    0.11784347707933708,
                    0.07518019295327724,
                    0.12644698899121085,
                    0.116826256356164,
                    0.09404487051139719,
                    0.09760423944840586,
                    0.16568124461905503,
                    0.17953941492768527,
                    0.16284693985271814,
                    0.09395991887102735,
                    0.11734113531881353,
                    0.08240676214392702,
                    0.10549154495507473,
                    0.1902856277978396,
                    0.13573437206458594,
                    0.1803880141093094,
                    0.14493441594584242,
                    0.1492747631822951,
                    0.11940321146048177,
                    0.09080442060529115,
                    0.0838236828123554,
                    0.14549457231638327,
                    0.12654064947090174,
                    0.10451260029354074,
                    0.10863057296399321,
                    0.14220108277508856,
                    0.09717657390577276,
                    0.10640051791943916,
                    0.0995817457003106,
                    0.12768012184981337,
                    0.12472652020265775,
                    0.11824112120369999,
                    0.2502321101775966,
                    0.15693712831309936,
                    0.1595060499068311,
                    0.23137124720696414,
                    0.15445245661474769,
                    0.10261892197054115,
                    0.11723649711290086,
                    0.2597943267662389,
                    0.10382566643945683,
                    0.10966931572714665,
                    0.1626745028520216,
                    0.11114398903387156,
                    0.2093664095159184,
                    0.08388755043031106,
                    0.16120826589982024,
                    0.17533014629624377,
                    0.10956369547857339,
                    0.1215867556456574,
                    0.15049939896146017,
                    0.13819545485402382,
                    0.1369356910771081,
                    0.13098100615762864,
                    0.12363436739477525,
                    0.1897059881136083,
                    0.1399578526210378,
                    0.12044889573264018,
                    0.09256312872777114,
                    0.2622411884751173,
                    0.10261332315292493,
                    0.15018028844076325,
                    0.12574288758244745,
                    0.08890228934850172,
                    0.21888909545740753,
                    0.08886712221594474,
                    0.08321983866957695,
                    0.12357755448157336,
                    0.14131920779177617,
                    0.16147206588097587,
                    0.11362464318952077,
                    0.1307006468392027,
                    0.11631562640738739,
                    0.21011756750191987,
                    0.10773985032391566,
                    0.16571152282551763,
                    0.10427399652635674,
                    0.13107318460722892,
                    0.11696395187312536,
                    0.12567957434775612,
                    0.1794870084852274,
                    0.09828793559823072,
                    0.17036127678268945,
                    0.15872178627098754,
                    0.1126928845450501,
                    0.17082486994656396,
                    0.12332420056484801,
                    0.1056930125738317,
                    0.1210401227823757,
                    0.12140796011864254,
                    0.1614720658809759,
                    0.08844169512986301,
                    0.11395000668275697,
                    0.1108176257682657,
                    0.10073732379990893,
                    0.09998241765710737,
                    0.13569643074474003,
                    0.12205291772433043,
                    0.12375278382986997,
                    0.22539523537052739,
                    0.15874263209011774,
                    0.15625669483659496,
                    0.11703821478374075,
                    0.10687319646039188,
                    0.13573902329865964,
                    0.12540220999707324,
                    0.13665919745544208,
                    0.2330211800224599,
                    0.15892364353346985,
                    0.19578867380823675,
                    0.08551712133059186,
                    0.09423257935717444,
                    0.14131920779177562,
                    0.1505753776166411,
                    0.15487320408970198,
                    0.15251132516724814,
                    0.1018134644224821,
                    0.12116678141309643,
                    0.09283264235419685,
                    0.10825959325584687,
                    0.13476414610815993,
                    0.13037420514035788,
                    0.08144187013819491,
                    0.09699764822114668,
                    0.09926254128958559,
                    0.10012653903877008,
                    0.11518186957667192,
                    0.11794371169946766,
                    0.12279388095431516,
                    0.10985554030310249,
                    0.08247606394297036,
                    0.1370435285862486,
                    0.12208019507898045,
                    0.17430321472444926,
                    0.14804105238395054,
                    0.11149831804810817,
                    0.15943933993767911,
                    0.1012563094561387,
                    0.09342106502088683,
                    0.17558409654718168,
                    0.08520123455845881,
                    0.09778904713654396,
                    0.12304042851010746,
                    0.07254712223802309,
                    0.09971676710968924,
                    0.101227489004871,
                    0.12494478370353017,
                    0.13325954889294309,
                    0.10419771842334438,
                    0.18020196198942803,
                    0.08779478394588297,
                    0.18481110586529412,
                    0.08195343571912994,
                    0.11171152824835008,
                    0.12154793110472724,
                    0.11595894203562765,
                    0.1029447848033763,
                    0.12255091096415469,
                    0.12733008915973487,
                    0.10855303139762583,
                    0.10241627279091593,
                    0.14100971212068164,
                    0.1054298097166794,
                    0.08269946214832732,
                    0.07056367642270286,
                    0.10246571496719002,
                    0.11593199686743462,
                    0.10347493820486908,
                    0.09818230700616241,
                    0.17603590238521305,
                    0.08072970242774537,
                    0.10585509461197787,
                    0.18980910225704262,
                    0.09528169849094771,
                    0.09771824945750376,
                    0.12207997617698764,
                    0.11785302931995009,
                    0.13957551033750076,
                    0.138400122889458,
                    0.14749836968983562,
                    0.09225926510910848,
                    0.10584734984308379,
                    0.1190882480270781,
                    0.14491437943365762,
                    0.139712688945411,
                    0.13097744161248678,
                    0.15237241975103843,
                    0.10601824265720584,
                    0.12375239598301568,
                    0.11121938026490732,
                    0.09556120056091295,
                    0.10798558879033594,
                    0.12207014504615198,
                    0.1743032147244444,
                    0.11687199881627615,
                    0.10430587001700457,
                    0.1433793714329639,
                    0.12460187701450111,
                    0.0919154422169984,
                    0.12654440549890228,
                    0.1258623782259035,
                    0.14831537262078198,
                    0.13663814198049495,
                    0.09480891795437614,
                    0.13548144392269634,
                    0.26219452135564436,
                    0.13075293504126448,
                    0.11680350745473826,
                    0.10162059962401344,
                    0.09706470295721807,
                    0.08935478028746466,
                    0.09530765208120975,
                    0.13851127406703131,
                    0.08093654767305015,
                    0.09006152599331071,
                    0.09302866763064659,
                    0.10016510157069357,
                    0.08715854769818852,
                    0.08947060344544108,
                    0.11827958277950738,
                    0.12356155807039333,
                    0.11270002825853533,
                    0.08998226036306134,
                    0.14424022642436998,
                    0.1610390066877332,
                    0.25983336454598,
                    0.3281142631580309,
                    0.14738305112014635,
                    0.25974457308978555,
                    0.12269893280542446,
                    0.1020568841500549,
                    0.20557806893720487,
                    0.1077434235043356,
                    0.14376526432766695,
                    0.09774025254227023,
                    0.08880978189859624,
                    0.1285198405570903,
                    0.09084568549257324,
                    0.0912434378982263,
                    0.11294592043543396,
                    0.11863255693914079,
                    0.16313046849409307,
                    0.16271729707214155,
                    0.1625971598565116,
                    0.13943523098266122,
                    0.13708476078649118,
                    0.08851734227873492,
                    0.17341788974690925,
                    0.08750560170571416,
                    0.1235480029632148,
                    0.11507270168671437,
                    0.1380972410875521,
                    0.1535405818573405,
                    0.13720668256469962,
                    0.13587597406442528,
                    0.09864389089554904,
                    0.1558411490872306,
                    0.1198978251068495,
                    0.16926668711839762,
                    0.18153477636533455,
                    0.13082052258345578,
                    0.16530030610664515,
                    0.08746752512004474,
                    0.09627324671695972,
                    0.16320986642544077,
                    0.2067665388935619,
                    0.08496133180623261,
                    0.10847873850435132,
                    0.1132767546424864,
                    0.11649115387437563,
                    0.17047516790733946,
                    0.12428444348672789
                  ],
                  "y": [
                    0.3038322344260442,
                    0.1430500316599539,
                    0.2888867646943929,
                    0.2866204212072898,
                    0.5800321809621837,
                    0.3403953981246727,
                    0.45697444842960777,
                    0.2416783289559588,
                    0.24955257120370938,
                    0.2457200524783172,
                    0.5537526957929282,
                    0.42847679290786744,
                    0.3559892792021958,
                    0.2547620977718314,
                    0.38362418367117845,
                    0.2135572433197797,
                    0.09001799809093569,
                    0.3911985096587308,
                    0.07477493368209119,
                    0.26144158318811184,
                    0.19985136342939078,
                    0.12173540134728264,
                    0.3599116580157323,
                    0.4293275200798607,
                    0.2829472623068871,
                    0.1351762057536048,
                    0.3245423979316973,
                    0.22763893945538924,
                    0.3593164824670826,
                    0.4452535658770797,
                    0.4042123578946591,
                    0.4584521630603339,
                    0.15887464137534837,
                    0.2495104357461331,
                    0.26771959436452825,
                    0.3891777242323507,
                    0.31422827288536975,
                    0.12869621160194147,
                    0.03829012204420904,
                    0.2074787494009285,
                    0.30715593595323254,
                    0.19565542306679382,
                    0.32263892320367205,
                    0.21153084530520058,
                    0.23373962314996563,
                    0.24800435023299622,
                    0.273969046265611,
                    0.15056917550310472,
                    0.09217412390027804,
                    0.26838182259929,
                    0.2615977309999429,
                    0.3716195347352328,
                    0.3003766365049641,
                    0.47990887376520064,
                    0.19960148749085432,
                    0.5345792153937129,
                    0.31904156543060036,
                    0.40923097452591944,
                    0.2958776644261066,
                    0.3823087684784218,
                    0.22541394565610978,
                    0.19539654945757726,
                    0.25792351118554185,
                    0.3970068249403179,
                    0.30737158327372244,
                    0.4316158182281079,
                    0.2876966357989519,
                    0.48385308935277505,
                    0.235320423608314,
                    0.09198082120049605,
                    0.5344520516670658,
                    0.22616341126401493,
                    0.22343772263374234,
                    0.25518631571171496,
                    0.3421619822996944,
                    0.15421551019687252,
                    0.3578160736246918,
                    0.2961776160502717,
                    0.25252821672562165,
                    0.29959110295265373,
                    0.16510054957084824,
                    0.10832317143070047,
                    0.543869090019643,
                    0.21560226705425833,
                    0.37311247789126845,
                    0.8073415925437343,
                    0.2440745861544929,
                    0.32211991923475086,
                    0.217320870364954,
                    0.1470610145726791,
                    0.14215961325599602,
                    0.3044035841215692,
                    0.13609115057681628,
                    0.3451248910170559,
                    0.1982217390275074,
                    0.29235417174587947,
                    0.28120794062972,
                    0.3951910725430932,
                    0.33917181536298585,
                    0.24479758621884073,
                    0.3490419582082227,
                    0.41111396823431856,
                    0.10047353393938228,
                    0.374999696482557,
                    0.4859047252466818,
                    0.25513972868125295,
                    0.3456488918530156,
                    0.2671826393892336,
                    0.34256087187531165,
                    0.492833943515517,
                    0.2307017490177739,
                    0.3482973088483906,
                    0.4523833078117468,
                    0.4178088115845604,
                    0.19301633075943125,
                    0.2719010165953123,
                    0.34995941086744004,
                    0.3732638211983779,
                    0.24680662426102568,
                    0.19920249576660098,
                    0.09161746114553782,
                    0.2215812169196723,
                    0.3749996964825591,
                    0.3951863550527167,
                    0.35466990505504165,
                    0.3523035040388576,
                    0.09016775489296297,
                    0.14448246177523077,
                    0.27273399231894646,
                    0.18117984966703907,
                    0.2561384478680237,
                    0.621096886634958,
                    0.29392345334962217,
                    0.2738572479470415,
                    0.32627667040038827,
                    0.3965682844558152,
                    0.1586655757523093,
                    0.19211598050648956,
                    0.2423605642168674,
                    0.31317134984047457,
                    0.1786122845220838,
                    0.647783731778679,
                    0.18301071816360354,
                    0.2629775557662536,
                    0.03330044727659415,
                    0.45900884259128233,
                    0.25174695240908734,
                    0.18356440945985703,
                    0.35666640525133014,
                    0.24440807914880563,
                    0.33132477413554084,
                    0.3090751495073628,
                    0.17274448099253753,
                    0.4497313453629483,
                    0.298615177863357,
                    0.3345842941882747,
                    0.41862666140953786,
                    0.19892126962424903,
                    0.22017703561940713,
                    0.4271004054899917,
                    0.19835143313751177,
                    0.23942987045091657,
                    0.008205199517974117,
                    0.4499894691960412,
                    0.27472113799481374,
                    0.05762927750861084,
                    0.36927766976125337,
                    0.5513819013042243,
                    0.4729844732674414,
                    0.3129259756356082,
                    0.48529198652752603,
                    0.5455815008969331,
                    0.49251039362151267,
                    0.2327290699723757,
                    0.4134008438764812,
                    0.31863959101351047,
                    0.3623763391203646,
                    0.3187749863352019,
                    0.5170256197772884,
                    0.20309905532571276,
                    0.18936897430804497,
                    0.27057112743990813,
                    0.38935707036395745,
                    0.28589992973766815,
                    0.3681754365243351,
                    0.2838195023186203,
                    0.23961444555655192,
                    0.49558222675734886,
                    0.23763205827837497,
                    0.33172188972707434,
                    0.13964262440459507,
                    0.42236605372183156,
                    0.17968446350653688,
                    0.4925480557526588,
                    0.1448966563757301,
                    0.16741174864806316,
                    0.28114553429222533,
                    0.47967335466736294,
                    0.3954821607648482,
                    0.11911158833467163,
                    0.3422336232866881,
                    0.5525730598786162,
                    0.1534240575556159,
                    0.14607642754591102,
                    0.2225764729833572,
                    0.3245423979316469,
                    0.19685372047626537,
                    0.14627310148087197,
                    0.1797866824713874,
                    0.16111281522898288,
                    0.34336965550840703,
                    0.29848636866519207,
                    0.20195224448550256,
                    0.3490419582082231,
                    0.36422226397597823,
                    0.35869921860534887,
                    0.3275913659003559,
                    0.1802363445027264,
                    0.4238956382488268,
                    0.17183214591710302,
                    0.31195521993166175,
                    0.4375395914435217,
                    0.13317665407818285,
                    0.5542542032924385,
                    0.23002891995723643,
                    0.28169451966076176,
                    0.3287012010787361,
                    0.29951684593539785,
                    0.1963530029312834,
                    0.26986628889548275,
                    0.32787623540945277,
                    0.4245484738132659,
                    0.24504082170355,
                    0.4477012688832604,
                    0.22884353236749408,
                    0.1842302809692953,
                    0.5009425902358831,
                    0.6102184455334231,
                    0.2518566932742382,
                    0.2649992821861227,
                    0.234151811847446,
                    0.26155997505211936,
                    0.2508200662255961,
                    0.23645911197227684,
                    0.3227733917823208,
                    0.1546372103529828,
                    0.30580451953913484,
                    0.33636310418904025,
                    0.26007147431624783,
                    0.55199413867425,
                    0.2632248250400302,
                    0.32995493984313595,
                    0.3538862513689838,
                    0.2889759528266881,
                    0.15148777918432796,
                    0.23802183592506837,
                    0.19568024161076825,
                    0.3511552691359065,
                    0.1708922816418514,
                    0.26260181982921643,
                    0.19444751285305129,
                    0.3822231359428568,
                    0.2748121027442253,
                    0.3849973029688453,
                    0.17089093241777295,
                    0.22642496012091806,
                    0.44538453046816306,
                    0.2513977586689806,
                    0.3292518657532511,
                    0.11179648938404418,
                    0.5431149649234646,
                    0.30438625889907245,
                    0.39245000546759173,
                    0.28571976613563316,
                    0.3377251735484654,
                    0.14493480155216448,
                    0.3245423979316603,
                    0.22280597789074333,
                    0.37528955687565707,
                    0.4309528744198499,
                    0.4955495652234553,
                    0.23722773476710163,
                    0.27856410516494784,
                    0.40213059132939344,
                    0.14388185084675856,
                    0.47196102808116286,
                    0.41038750160448956,
                    0.2591632215268203,
                    0.06452213305971834,
                    0.18874324336748527,
                    0.13318003552572802,
                    0.31477753677856724,
                    0.47233903540150024,
                    0.23544500664579066,
                    0.18962916255955062,
                    0.22150426566661954,
                    0.6146306472728496,
                    0.2978812579664126,
                    0.1973637461761933,
                    0.35493431620764676,
                    0.3877803728627411,
                    0.08410540896649717,
                    0.2714552602213724,
                    0.3061648021403166,
                    0.3873535282029249,
                    0.4481781176457849,
                    0.29286096440865794,
                    0.4184636934288757,
                    0.3153661172113315,
                    0.4123955415488159,
                    0.40570466974750663,
                    0.2578649544739454,
                    0.2114689054894982,
                    0.37554113871369627,
                    0.337152803911275,
                    0.15636433272198247,
                    0.23546822040847654,
                    0.0003192649154729792,
                    0.2964209458963263,
                    0.1946803035592529,
                    0.41600601908734464,
                    0.14111790873737579,
                    0.1545098766634915,
                    0.25918601157796606,
                    0.4273313193492333,
                    0.43253997602424604,
                    0.18778544903583005,
                    0.6188075991673146,
                    0.5620602762373832,
                    0.15409560848912043,
                    0.31086299671923473,
                    0.3783976312965634,
                    0.4135291643478931,
                    0.18405066152076283,
                    0.3671802883599203,
                    0.4123373255274063,
                    0.5224144737392199,
                    0.36585964849257135,
                    0.4172089186424708,
                    0.35948652617516164,
                    0.25654110231639676,
                    0.2550569412134964,
                    0.30723474500108816,
                    0.16111281525543414,
                    0.17392730499489242,
                    0.4102219492293545,
                    0.1152479923216122,
                    0.06082701542305286,
                    0.6318922843859281,
                    0.2734633080327379,
                    0.32248761135462956,
                    0.3245423979316973,
                    0.3717888814427429,
                    0.30599268657540724,
                    0.37358074342211167,
                    0.20817178544597503,
                    0.3104691817242915,
                    0.0581656871806534,
                    0.26354938997985144,
                    0.09549205724038365,
                    0.5147897950691327,
                    0.13294091037706524,
                    0.3513294769278754,
                    0.3108628824512231,
                    0.29794354306181714,
                    0.57732426760088,
                    0.15492793696162885,
                    0.4547724418303741,
                    0.5730054195639003,
                    0.2511866628213252,
                    0.17089128131835582,
                    0.2183942198940609,
                    0.05842593700577223,
                    0.2765826990777933,
                    0.2133140951811389,
                    0.1175938797278592,
                    0.35181347757064685,
                    0.2893326239357613,
                    0.20343597900521862,
                    0.5553280310188136,
                    0.4975760664710211,
                    0.3260804843896791,
                    0.04695957044293819,
                    0.4580728340742073,
                    0.15444041532436267,
                    0.45776354739976055,
                    0.5511034097477956,
                    0.15597580730350225,
                    0.48751651935248835,
                    0.4305846982305529,
                    0.3544073050057322,
                    0.26164428940949896,
                    0.2712330339230751,
                    0.2955540549171636,
                    0.24811836385344488,
                    0.38519610309089736,
                    0.17443995130861314,
                    0.22026079841174392,
                    0.3671802883599208,
                    0.2127296511567486,
                    0.12091788092785184,
                    0.2521172673705576,
                    0.1859667119014614,
                    0.3717341574195731,
                    0.21106908401975388,
                    0.12518167671531344,
                    0.3129167837735346,
                    0.31280189186872104,
                    0.2768326063945476,
                    0.2565787794904052,
                    0.2850802856713877,
                    0.24315686737158493,
                    0.11908151108020473,
                    0.3633276687042521,
                    0.6856105694843345,
                    0.46046509752953574,
                    0.15108743295929525,
                    0.41849177435279156,
                    0.04513417231693571,
                    0.286674762787728,
                    0.19586716226268255,
                    0.29762990150629043,
                    0.27849176696992634,
                    0.10687836054939191,
                    0.258721986808235,
                    0.2576620435919307,
                    0.2784092855875149,
                    0.24327730145435605,
                    0.31531487095396565,
                    0.37496975851646686,
                    0.22602615022220754,
                    0.14374762437270072,
                    0.05191651313906645,
                    0.326773226143495,
                    0.26890756097914215,
                    0.22250460695247803,
                    0.37032293191777954,
                    0.10802722815590379,
                    0.34783230284130645,
                    0.20350693074191473,
                    0.1406981662071476,
                    0.14509127085219659,
                    0.1554388892055153,
                    0.44039604139248456,
                    0.23369398261473562,
                    0.29297379307676863,
                    0.33437196078007714,
                    -0.42367776760610526,
                    0.5160676842229469,
                    0.13133920295106985,
                    0.3611598340045056,
                    0.5225815956525929,
                    0.3222898579264054,
                    0.3737006069832283,
                    0.40618761824683625,
                    0.6252890041275952,
                    0.326276670400388,
                    0.2406555217665578,
                    0.28249478417549934,
                    0.25167990035642207,
                    0.24750101849782352,
                    0.25856068012844735,
                    0.11804432097590353,
                    0.23977638504968407,
                    0.24424253944228502,
                    0.2316547618296315,
                    0.3337537465600211,
                    0.18992581712649204,
                    0.3059616314764908,
                    0.23904511092105768,
                    0.3460250580536216,
                    0.14658979775814443,
                    0.29262532148904685,
                    0.37217971111024545,
                    0.2883278909198191,
                    0.15288293909644016,
                    0.2006849875909343,
                    0.5385906687552414,
                    0.32657065367939375,
                    0.1825340395086125,
                    0.27059613815685246,
                    0.11153701898503812,
                    0.203458333531997,
                    0.281333869487276,
                    0.3314500936677653,
                    0.26221215651381435,
                    0.35916517889235916,
                    0.2562331635668421,
                    0.22106119753088221,
                    0.25067314587383327,
                    0.23220279682889056,
                    0.36798862195302956,
                    0.10496916812645016,
                    0.4314300016862395,
                    0.313479871785851,
                    0.44524166197554504,
                    0.34996334286934533,
                    0.26390660639236674,
                    0.12157225609461882,
                    0.6410726383822032,
                    0.20360116357939642,
                    0.36612836762048856,
                    0.25229080250433245,
                    0.20487045787151864,
                    0.27656321196811756,
                    0.3578125771511501,
                    0.20538629047323803,
                    0.2876503115705447,
                    0.3429954446373815,
                    0.3559913836251797,
                    0.29831346034459394,
                    0.2638717183018933,
                    0.6733159713060489,
                    0.5750295377177611,
                    0.39411513744710824,
                    0.09798963640022852,
                    0.24311299153989913,
                    0.3398436123655164,
                    0.28442864253979744,
                    0.3204784252966051,
                    0.27190796867885125,
                    0.16285854396723834,
                    0.3671802883599208,
                    0.36391722764641043,
                    0.20069087834069999,
                    0.16157801560281157,
                    0.30525870445756736,
                    0.4165383515771205,
                    0.43971911892456467,
                    0.4617655260136277,
                    0.25363593114046545,
                    0.24360161196953928,
                    0.2940794692855677,
                    0.440695326614718,
                    0.23603997167519208,
                    0.4570985342406237,
                    0.4191438862421334,
                    0.24898218198939912,
                    0.10936103000792663,
                    0.26813520081841136,
                    0.4067352185013078,
                    0.19117433738448186,
                    0.3151957276240257,
                    0.23376006477834158,
                    0.15396620692399338,
                    0.24425109057938632,
                    0.4690672821479764,
                    0.2589117860420889,
                    0.17220194687090584,
                    0.3375125806585626,
                    0.4229090282126612,
                    0.41599518060035706,
                    0.32895603494426384,
                    0.4057390503352032,
                    0.2213250658173114,
                    0.1611128152554343,
                    0.1721951153609721,
                    0.18830960760470702,
                    0.41848412981160865,
                    0.444987821056088,
                    0.1683093227640876,
                    0.24185300183897135,
                    0.4607145396118856,
                    0.24842447922556476,
                    0.21971293817452064,
                    0.2778559704904911,
                    0.3403614553084029,
                    0.2862447848282445,
                    0.1768601709039439,
                    0.20550217885846248,
                    0.1463002693579445,
                    0.3195510844122477,
                    0.21718265646692791,
                    0.1620681954952352,
                    0.22263273513828952,
                    0.38076820898370295,
                    0.19657425358090508,
                    0.4246574600617939,
                    0.21183267175713666,
                    0.2950537466668877,
                    0.17485843793316685,
                    0.1853215540955463,
                    0.3488711497043871,
                    0.36083835831089267,
                    0.3621674583873672,
                    0.22550980001555057,
                    0.25471471052883504,
                    0.48796369003334084,
                    0.3595834874618123,
                    0.4909102373427463,
                    0.19588541630756623,
                    0.2750731279482993,
                    0.24836708693572257,
                    0.1570907857637488,
                    0.05480141540619641,
                    0.5177123740153659,
                    0.4793005779243736,
                    0.4078514619660938,
                    0.11153701898503826,
                    0.18171204747039982,
                    0.15483524497454865,
                    0.11228903761206932,
                    0.34574147017558277,
                    0.037651557830472006,
                    0.4951513425214882,
                    0.024694453495397527,
                    0.2509666631838131,
                    0.3390891857603565,
                    0.4611524918848242,
                    0.5052553378901915,
                    0.2561083207295072,
                    0.09370604728167031,
                    0.26527607345556814,
                    0.42433663365575597,
                    0.30812871533211106,
                    0.42732226554603653,
                    0.08866039779733006,
                    0.33439961624005954,
                    0.2546279094228752,
                    0.3219490633555575,
                    0.41226560771401377,
                    0.20085349512218448,
                    0.29460670822195123,
                    0.13160279935510832,
                    0.20549748002387136,
                    0.502844641566699,
                    0.21863151094213937,
                    0.2755029022160988,
                    0.20416183457211756,
                    0.14359767960581168,
                    0.19920249576660098,
                    0.1781039947687354,
                    0.3122622517006793,
                    0.27356954608011375,
                    0.4372078684415638,
                    0.6399808547996801,
                    0.1992024957666009,
                    0.5117135834829872,
                    0.5274388129567911,
                    0.3671802883599208,
                    0.27936747983420995,
                    0.5131837441298709,
                    0.4525071045199687,
                    0.2824402503558085,
                    0.3516897599266152,
                    0.29214452984587747,
                    0.10688079729233245,
                    0.22489863499962118,
                    0.35210605621600394,
                    0.42142751942555234,
                    0.2960239862807299,
                    0.17387112327258214,
                    0.5187379461881362,
                    0.3126789244496447,
                    0.24503475937105967,
                    0.31439094124499384,
                    0.37287307338593,
                    0.43058469823055434,
                    0.25520787596366773,
                    0.20419920158519325,
                    0.3702799187262315,
                    0.3234789541174514,
                    0.2422826546781805,
                    0.2844787268395264,
                    0.2844270153639631,
                    0.5603816543268579,
                    0.23995432732182598,
                    0.11777772610402863,
                    0.30462466739791083,
                    0.08240416576459224,
                    0.1558792322742857,
                    0.2247485708802548,
                    0.2585445950841615,
                    0.12256503625746364,
                    0.16111281525543422,
                    0.4547728746960481,
                    0.02996323920879918,
                    0.29250074670950743,
                    0.3095728447968359,
                    0.5098480108494886,
                    0.47525976641289225,
                    0.2865314345359575,
                    0.2247792847586585,
                    0.07023302446199886,
                    0.37216879640650863,
                    0.3359533675647264,
                    0.40667820501702723,
                    0.19993642017264876,
                    0.21552731280202486,
                    0.26226630188478517,
                    0.2666556141912653,
                    0.14854298856001552,
                    0.34369104020319496,
                    0.35593755985416053,
                    0.45539810343898196,
                    0.3553135562469704,
                    0.34497024556376155,
                    0.09943775364795757,
                    0.24679973296755442,
                    0.18770052489918637,
                    0.3014173639759849,
                    0.3466308207382083,
                    0.3834661067492646,
                    0.2948927863479257,
                    0.2631000997175208,
                    0.3044919505117136,
                    0.11351988098261007,
                    0.28828100628431513,
                    0.3150755042796717,
                    0.22232689650708007,
                    0.3087014961645501,
                    0.27219214014079673,
                    0.13972952155623153,
                    0.31584617621936323,
                    0.33293927540736185,
                    0.2914874531544667,
                    0.2263242690926294,
                    0.15108567627633068,
                    0.33545462835360607,
                    0.2670106303613271,
                    0.23559894766678785,
                    0.5825594760589183,
                    0.4190097727137197,
                    0.2961680726628466,
                    0.6147834057291706,
                    0.4457817036924866,
                    0.2053391584299652,
                    0.16938686992080526,
                    0.38590320732617395,
                    0.2684880492083885,
                    0.180029535492404,
                    0.47074304505363535,
                    0.2126491974357344,
                    0.2221585833625211,
                    0.11066022633771988,
                    0.5891959763042063,
                    0.15352364333908106,
                    0.34428808931555277,
                    0.29430366352025955,
                    0.13090435873947395,
                    0.09016837990463361,
                    0.618804471215766,
                    0.24327995201441266,
                    0.11410602160843367,
                    0.35127017063316596,
                    0.3613674894921251,
                    0.3416850617389746,
                    0.24726877314241036,
                    0.25601420313706547,
                    0.3523846062722008,
                    0.26074663062121073,
                    0.32534833506763994,
                    0.13785571891177736,
                    0.4541703044363553,
                    0.23031797900693252,
                    0.26568625535044665,
                    0.2986499335747444,
                    0.3091484785451859,
                    0.40814990382079885,
                    0.29381804050052907,
                    0.4384322438897632,
                    0.5647126895916132,
                    0.27711181879897007,
                    0.6516957987800336,
                    0.4077170005803711,
                    0.32718271473584576,
                    0.29327969507751256,
                    0.5988121576306348,
                    0.2210872510942119,
                    0.3842248090994566,
                    0.20267471876686294,
                    0.24836708760428328,
                    0.20360116357939648,
                    0.18960150182542349,
                    0.12854322348478428,
                    0.4432102763902002,
                    0.3091498083478045,
                    0.24145056619999644,
                    0.3506055154330046,
                    0.3415118600201548,
                    0.48307062705009396,
                    0.3247958206889612,
                    0.30550048717669415,
                    0.46220107739735045,
                    0.3433389805629862,
                    0.41947280322980124,
                    0.11579458708837115,
                    0.5566487760049879,
                    0.21074127413206606,
                    0.4126815167864664,
                    0.2851274235514819,
                    0.2890214531423216,
                    0.30518740809908307,
                    0.2253947252726243,
                    0.28356057755926867,
                    0.43839001054460447,
                    0.15444041532436814,
                    0.3714219557281047,
                    0.40106553387041327,
                    0.3395634415938518,
                    0.32659997973822397,
                    0.205539402396255,
                    0.25278441841889937,
                    0.23023331239952502,
                    0.3632428208156312,
                    0.1687293383290448,
                    0.38951975295575647,
                    0.3878099917041667,
                    0.37102947396420094,
                    0.353522944128957,
                    0.5525538937336893,
                    0.48323873827914965,
                    0.1504623173096301,
                    0.31546920252913146,
                    0.3152019617234076,
                    0.2650645791498807,
                    0.25569581867398317,
                    0.4327554503929044,
                    0.3714219557281047,
                    0.3071857120733028,
                    0.2950120680258924,
                    0.3482881044468739,
                    0.30507289928812176,
                    0.24912420492403783,
                    0.2550383103487158,
                    0.24943701028085513,
                    0.18715748236339713,
                    0.47456035955095743,
                    0.4736910506280939,
                    0.5859127443396248,
                    0.3539085315910968,
                    0.4084842907255066,
                    0.24328828112243017,
                    0.3098213745046304,
                    0.3404776535972521,
                    0.183248000556481,
                    0.48821197951840295,
                    0.08580207447873278,
                    0.20036328416042065,
                    0.209094079517449,
                    0.15444041532436178,
                    0.3864666608576184,
                    0.4054594304854364,
                    0.4766648819997463,
                    0.3393622855891059,
                    0.4263885391818357,
                    0.2662933330588842,
                    0.3453396074812882,
                    0.1131997599971895,
                    0.2894825093513859,
                    0.20134510568260933,
                    0.23240560092444917,
                    0.2542880281707969,
                    0.2769122889537056,
                    0.1259482921729909,
                    0.2035255331025702,
                    0.41574754425930993,
                    0.434730373920574,
                    0.19166487356303644,
                    0.35671120288421193,
                    0.1911178634024085,
                    0.5954073589405652,
                    0.518331361761441,
                    0.31527582834997725,
                    0.18301542450857175,
                    0.29332668833857567,
                    0.28243842513831174,
                    0.15331109243878066,
                    0.22681712573232315,
                    0.09845738440896988,
                    0.34616302129413545,
                    0.1328993548905582,
                    0.15648919864747943,
                    0.2174584796207034,
                    0.30517116521269977,
                    0.1358084723284312,
                    0.2932407827869835,
                    0.5212333783926343,
                    0.2861854963238812,
                    0.18428073367345893,
                    0.2259929291959097,
                    0.15462882293855512,
                    0.11552595903305124,
                    0.212812808156783,
                    0.09840386980938351,
                    0.2557908368679182,
                    0.41379980159934854,
                    0.17389825551857194,
                    0.22957613811710598,
                    0.349041958208223,
                    0.22981428472659435,
                    0.14069883999693727,
                    0.12009401689607642,
                    0.30778207581222844,
                    0.1720668499027152,
                    0.23794199002622948,
                    0.1556796062041793,
                    0.25043907893407724,
                    0.12446135479313752,
                    0.20564480405919944,
                    0.45771052910337146,
                    0.07230176865269466,
                    0.23498090079236422,
                    0.31135176772904005,
                    0.3318987724963524,
                    0.5162935957818022,
                    0.09683237143858177,
                    0.3644778368517171,
                    0.25259848171174626,
                    0.30471647452127926,
                    0.3372195640437624,
                    0.1979805863064866,
                    0.3679578053074917,
                    0.32478698218393776,
                    0.15261860996716672,
                    0.226623225235273,
                    0.2752439838400545,
                    0.312603919071808,
                    0.28764958642583477,
                    0.2562743496826393,
                    0.19851332616867634,
                    0.5954073589405178,
                    0.3195804698896653,
                    0.16514929204151255,
                    0.6159758557226497,
                    0.2595104672028171,
                    0.2586818660646659,
                    0.26560766679079295,
                    0.3613426834099144,
                    0.354093675477119,
                    0.3404251316779512,
                    0.3698683990168186,
                    0.507365003796757,
                    0.1941291780436168,
                    0.3459690328976075,
                    0.3412351141985822,
                    0.25067314587386286,
                    0.2615669901359935,
                    0.2674083870674982,
                    0.22662088460954768,
                    0.30450244240648217,
                    0.19524627203155484,
                    0.3052281326256648,
                    0.1221522801536223,
                    0.2354392803860449,
                    0.25489472109065114,
                    0.2749870478456727,
                    0.3038302518435752,
                    0.25728115323153244,
                    0.3064197846899437,
                    0.25103195950726853,
                    0.27421872748517057,
                    0.06146720948717749,
                    0.5989021501903254,
                    0.675696175997684,
                    0.2141550096265876,
                    0.5986974551617393,
                    0.3243617454392145,
                    0.31195452080322705,
                    0.09549205724038363,
                    0.3729597427677664,
                    0.18520133685978266,
                    0.23194993909488265,
                    0.24635511757765893,
                    0.3279504226270079,
                    0.28197898130104443,
                    0.16877053402584383,
                    0.31163291207759813,
                    0.15986918286482543,
                    0.36672624411892796,
                    0.31947909839135435,
                    0.10983507120966768,
                    0.28330062236155956,
                    0.11003696085971532,
                    0.2795942079310102,
                    0.38292809905802183,
                    0.23001026917035644,
                    0.09197817998536066,
                    0.2935910080190814,
                    0.2834885834570213,
                    0.38483853791492834,
                    0.08714170970501506,
                    0.3462738451742828,
                    0.26992226686988213,
                    0.5042248029421105,
                    0.37099415625646504,
                    0.1129966209484679,
                    0.43058469823055434,
                    0.23220317553391934,
                    0.0971646534834022,
                    0.12227111511762741,
                    0.2982957040195227,
                    0.5015510033081464,
                    0.5841374510578072,
                    0.3303223279438582,
                    0.3460325457867386,
                    0.2856610927636887,
                    0.32447567340343497,
                    0.3294974891470966,
                    0.3096130380153069
                  ]
                }
              ],
              "layout": {
                "template": {
                  "data": {
                    "bar": [
                      {
                        "error_x": {
                          "color": "#2a3f5f"
                        },
                        "error_y": {
                          "color": "#2a3f5f"
                        },
                        "marker": {
                          "line": {
                            "color": "#E5ECF6",
                            "width": 0.5
                          },
                          "pattern": {
                            "fillmode": "overlay",
                            "size": 10,
                            "solidity": 0.2
                          }
                        },
                        "type": "bar"
                      }
                    ],
                    "barpolar": [
                      {
                        "marker": {
                          "line": {
                            "color": "#E5ECF6",
                            "width": 0.5
                          },
                          "pattern": {
                            "fillmode": "overlay",
                            "size": 10,
                            "solidity": 0.2
                          }
                        },
                        "type": "barpolar"
                      }
                    ],
                    "carpet": [
                      {
                        "aaxis": {
                          "endlinecolor": "#2a3f5f",
                          "gridcolor": "white",
                          "linecolor": "white",
                          "minorgridcolor": "white",
                          "startlinecolor": "#2a3f5f"
                        },
                        "baxis": {
                          "endlinecolor": "#2a3f5f",
                          "gridcolor": "white",
                          "linecolor": "white",
                          "minorgridcolor": "white",
                          "startlinecolor": "#2a3f5f"
                        },
                        "type": "carpet"
                      }
                    ],
                    "choropleth": [
                      {
                        "colorbar": {
                          "outlinewidth": 0,
                          "ticks": ""
                        },
                        "type": "choropleth"
                      }
                    ],
                    "contour": [
                      {
                        "colorbar": {
                          "outlinewidth": 0,
                          "ticks": ""
                        },
                        "colorscale": [
                          [
                            0,
                            "#0d0887"
                          ],
                          [
                            0.1111111111111111,
                            "#46039f"
                          ],
                          [
                            0.2222222222222222,
                            "#7201a8"
                          ],
                          [
                            0.3333333333333333,
                            "#9c179e"
                          ],
                          [
                            0.4444444444444444,
                            "#bd3786"
                          ],
                          [
                            0.5555555555555556,
                            "#d8576b"
                          ],
                          [
                            0.6666666666666666,
                            "#ed7953"
                          ],
                          [
                            0.7777777777777778,
                            "#fb9f3a"
                          ],
                          [
                            0.8888888888888888,
                            "#fdca26"
                          ],
                          [
                            1,
                            "#f0f921"
                          ]
                        ],
                        "type": "contour"
                      }
                    ],
                    "contourcarpet": [
                      {
                        "colorbar": {
                          "outlinewidth": 0,
                          "ticks": ""
                        },
                        "type": "contourcarpet"
                      }
                    ],
                    "heatmap": [
                      {
                        "colorbar": {
                          "outlinewidth": 0,
                          "ticks": ""
                        },
                        "colorscale": [
                          [
                            0,
                            "#0d0887"
                          ],
                          [
                            0.1111111111111111,
                            "#46039f"
                          ],
                          [
                            0.2222222222222222,
                            "#7201a8"
                          ],
                          [
                            0.3333333333333333,
                            "#9c179e"
                          ],
                          [
                            0.4444444444444444,
                            "#bd3786"
                          ],
                          [
                            0.5555555555555556,
                            "#d8576b"
                          ],
                          [
                            0.6666666666666666,
                            "#ed7953"
                          ],
                          [
                            0.7777777777777778,
                            "#fb9f3a"
                          ],
                          [
                            0.8888888888888888,
                            "#fdca26"
                          ],
                          [
                            1,
                            "#f0f921"
                          ]
                        ],
                        "type": "heatmap"
                      }
                    ],
                    "histogram": [
                      {
                        "marker": {
                          "pattern": {
                            "fillmode": "overlay",
                            "size": 10,
                            "solidity": 0.2
                          }
                        },
                        "type": "histogram"
                      }
                    ],
                    "histogram2d": [
                      {
                        "colorbar": {
                          "outlinewidth": 0,
                          "ticks": ""
                        },
                        "colorscale": [
                          [
                            0,
                            "#0d0887"
                          ],
                          [
                            0.1111111111111111,
                            "#46039f"
                          ],
                          [
                            0.2222222222222222,
                            "#7201a8"
                          ],
                          [
                            0.3333333333333333,
                            "#9c179e"
                          ],
                          [
                            0.4444444444444444,
                            "#bd3786"
                          ],
                          [
                            0.5555555555555556,
                            "#d8576b"
                          ],
                          [
                            0.6666666666666666,
                            "#ed7953"
                          ],
                          [
                            0.7777777777777778,
                            "#fb9f3a"
                          ],
                          [
                            0.8888888888888888,
                            "#fdca26"
                          ],
                          [
                            1,
                            "#f0f921"
                          ]
                        ],
                        "type": "histogram2d"
                      }
                    ],
                    "histogram2dcontour": [
                      {
                        "colorbar": {
                          "outlinewidth": 0,
                          "ticks": ""
                        },
                        "colorscale": [
                          [
                            0,
                            "#0d0887"
                          ],
                          [
                            0.1111111111111111,
                            "#46039f"
                          ],
                          [
                            0.2222222222222222,
                            "#7201a8"
                          ],
                          [
                            0.3333333333333333,
                            "#9c179e"
                          ],
                          [
                            0.4444444444444444,
                            "#bd3786"
                          ],
                          [
                            0.5555555555555556,
                            "#d8576b"
                          ],
                          [
                            0.6666666666666666,
                            "#ed7953"
                          ],
                          [
                            0.7777777777777778,
                            "#fb9f3a"
                          ],
                          [
                            0.8888888888888888,
                            "#fdca26"
                          ],
                          [
                            1,
                            "#f0f921"
                          ]
                        ],
                        "type": "histogram2dcontour"
                      }
                    ],
                    "mesh3d": [
                      {
                        "colorbar": {
                          "outlinewidth": 0,
                          "ticks": ""
                        },
                        "type": "mesh3d"
                      }
                    ],
                    "parcoords": [
                      {
                        "line": {
                          "colorbar": {
                            "outlinewidth": 0,
                            "ticks": ""
                          }
                        },
                        "type": "parcoords"
                      }
                    ],
                    "pie": [
                      {
                        "automargin": true,
                        "type": "pie"
                      }
                    ],
                    "scatter": [
                      {
                        "fillpattern": {
                          "fillmode": "overlay",
                          "size": 10,
                          "solidity": 0.2
                        },
                        "type": "scatter"
                      }
                    ],
                    "scatter3d": [
                      {
                        "line": {
                          "colorbar": {
                            "outlinewidth": 0,
                            "ticks": ""
                          }
                        },
                        "marker": {
                          "colorbar": {
                            "outlinewidth": 0,
                            "ticks": ""
                          }
                        },
                        "type": "scatter3d"
                      }
                    ],
                    "scattercarpet": [
                      {
                        "marker": {
                          "colorbar": {
                            "outlinewidth": 0,
                            "ticks": ""
                          }
                        },
                        "type": "scattercarpet"
                      }
                    ],
                    "scattergeo": [
                      {
                        "marker": {
                          "colorbar": {
                            "outlinewidth": 0,
                            "ticks": ""
                          }
                        },
                        "type": "scattergeo"
                      }
                    ],
                    "scattergl": [
                      {
                        "marker": {
                          "colorbar": {
                            "outlinewidth": 0,
                            "ticks": ""
                          }
                        },
                        "type": "scattergl"
                      }
                    ],
                    "scattermap": [
                      {
                        "marker": {
                          "colorbar": {
                            "outlinewidth": 0,
                            "ticks": ""
                          }
                        },
                        "type": "scattermap"
                      }
                    ],
                    "scattermapbox": [
                      {
                        "marker": {
                          "colorbar": {
                            "outlinewidth": 0,
                            "ticks": ""
                          }
                        },
                        "type": "scattermapbox"
                      }
                    ],
                    "scatterpolar": [
                      {
                        "marker": {
                          "colorbar": {
                            "outlinewidth": 0,
                            "ticks": ""
                          }
                        },
                        "type": "scatterpolar"
                      }
                    ],
                    "scatterpolargl": [
                      {
                        "marker": {
                          "colorbar": {
                            "outlinewidth": 0,
                            "ticks": ""
                          }
                        },
                        "type": "scatterpolargl"
                      }
                    ],
                    "scatterternary": [
                      {
                        "marker": {
                          "colorbar": {
                            "outlinewidth": 0,
                            "ticks": ""
                          }
                        },
                        "type": "scatterternary"
                      }
                    ],
                    "surface": [
                      {
                        "colorbar": {
                          "outlinewidth": 0,
                          "ticks": ""
                        },
                        "colorscale": [
                          [
                            0,
                            "#0d0887"
                          ],
                          [
                            0.1111111111111111,
                            "#46039f"
                          ],
                          [
                            0.2222222222222222,
                            "#7201a8"
                          ],
                          [
                            0.3333333333333333,
                            "#9c179e"
                          ],
                          [
                            0.4444444444444444,
                            "#bd3786"
                          ],
                          [
                            0.5555555555555556,
                            "#d8576b"
                          ],
                          [
                            0.6666666666666666,
                            "#ed7953"
                          ],
                          [
                            0.7777777777777778,
                            "#fb9f3a"
                          ],
                          [
                            0.8888888888888888,
                            "#fdca26"
                          ],
                          [
                            1,
                            "#f0f921"
                          ]
                        ],
                        "type": "surface"
                      }
                    ],
                    "table": [
                      {
                        "cells": {
                          "fill": {
                            "color": "#EBF0F8"
                          },
                          "line": {
                            "color": "white"
                          }
                        },
                        "header": {
                          "fill": {
                            "color": "#C8D4E3"
                          },
                          "line": {
                            "color": "white"
                          }
                        },
                        "type": "table"
                      }
                    ]
                  },
                  "layout": {
                    "annotationdefaults": {
                      "arrowcolor": "#2a3f5f",
                      "arrowhead": 0,
                      "arrowwidth": 1
                    },
                    "autotypenumbers": "strict",
                    "coloraxis": {
                      "colorbar": {
                        "outlinewidth": 0,
                        "ticks": ""
                      }
                    },
                    "colorscale": {
                      "diverging": [
                        [
                          0,
                          "#8e0152"
                        ],
                        [
                          0.1,
                          "#c51b7d"
                        ],
                        [
                          0.2,
                          "#de77ae"
                        ],
                        [
                          0.3,
                          "#f1b6da"
                        ],
                        [
                          0.4,
                          "#fde0ef"
                        ],
                        [
                          0.5,
                          "#f7f7f7"
                        ],
                        [
                          0.6,
                          "#e6f5d0"
                        ],
                        [
                          0.7,
                          "#b8e186"
                        ],
                        [
                          0.8,
                          "#7fbc41"
                        ],
                        [
                          0.9,
                          "#4d9221"
                        ],
                        [
                          1,
                          "#276419"
                        ]
                      ],
                      "sequential": [
                        [
                          0,
                          "#0d0887"
                        ],
                        [
                          0.1111111111111111,
                          "#46039f"
                        ],
                        [
                          0.2222222222222222,
                          "#7201a8"
                        ],
                        [
                          0.3333333333333333,
                          "#9c179e"
                        ],
                        [
                          0.4444444444444444,
                          "#bd3786"
                        ],
                        [
                          0.5555555555555556,
                          "#d8576b"
                        ],
                        [
                          0.6666666666666666,
                          "#ed7953"
                        ],
                        [
                          0.7777777777777778,
                          "#fb9f3a"
                        ],
                        [
                          0.8888888888888888,
                          "#fdca26"
                        ],
                        [
                          1,
                          "#f0f921"
                        ]
                      ],
                      "sequentialminus": [
                        [
                          0,
                          "#0d0887"
                        ],
                        [
                          0.1111111111111111,
                          "#46039f"
                        ],
                        [
                          0.2222222222222222,
                          "#7201a8"
                        ],
                        [
                          0.3333333333333333,
                          "#9c179e"
                        ],
                        [
                          0.4444444444444444,
                          "#bd3786"
                        ],
                        [
                          0.5555555555555556,
                          "#d8576b"
                        ],
                        [
                          0.6666666666666666,
                          "#ed7953"
                        ],
                        [
                          0.7777777777777778,
                          "#fb9f3a"
                        ],
                        [
                          0.8888888888888888,
                          "#fdca26"
                        ],
                        [
                          1,
                          "#f0f921"
                        ]
                      ]
                    },
                    "colorway": [
                      "#636efa",
                      "#EF553B",
                      "#00cc96",
                      "#ab63fa",
                      "#FFA15A",
                      "#19d3f3",
                      "#FF6692",
                      "#B6E880",
                      "#FF97FF",
                      "#FECB52"
                    ],
                    "font": {
                      "color": "#2a3f5f"
                    },
                    "geo": {
                      "bgcolor": "white",
                      "lakecolor": "white",
                      "landcolor": "#E5ECF6",
                      "showlakes": true,
                      "showland": true,
                      "subunitcolor": "white"
                    },
                    "hoverlabel": {
                      "align": "left"
                    },
                    "hovermode": "closest",
                    "mapbox": {
                      "style": "light"
                    },
                    "paper_bgcolor": "white",
                    "plot_bgcolor": "#E5ECF6",
                    "polar": {
                      "angularaxis": {
                        "gridcolor": "white",
                        "linecolor": "white",
                        "ticks": ""
                      },
                      "bgcolor": "#E5ECF6",
                      "radialaxis": {
                        "gridcolor": "white",
                        "linecolor": "white",
                        "ticks": ""
                      }
                    },
                    "scene": {
                      "xaxis": {
                        "backgroundcolor": "#E5ECF6",
                        "gridcolor": "white",
                        "gridwidth": 2,
                        "linecolor": "white",
                        "showbackground": true,
                        "ticks": "",
                        "zerolinecolor": "white"
                      },
                      "yaxis": {
                        "backgroundcolor": "#E5ECF6",
                        "gridcolor": "white",
                        "gridwidth": 2,
                        "linecolor": "white",
                        "showbackground": true,
                        "ticks": "",
                        "zerolinecolor": "white"
                      },
                      "zaxis": {
                        "backgroundcolor": "#E5ECF6",
                        "gridcolor": "white",
                        "gridwidth": 2,
                        "linecolor": "white",
                        "showbackground": true,
                        "ticks": "",
                        "zerolinecolor": "white"
                      }
                    },
                    "shapedefaults": {
                      "line": {
                        "color": "#2a3f5f"
                      }
                    },
                    "ternary": {
                      "aaxis": {
                        "gridcolor": "white",
                        "linecolor": "white",
                        "ticks": ""
                      },
                      "baxis": {
                        "gridcolor": "white",
                        "linecolor": "white",
                        "ticks": ""
                      },
                      "bgcolor": "#E5ECF6",
                      "caxis": {
                        "gridcolor": "white",
                        "linecolor": "white",
                        "ticks": ""
                      }
                    },
                    "title": {
                      "x": 0.05
                    },
                    "xaxis": {
                      "automargin": true,
                      "gridcolor": "white",
                      "linecolor": "white",
                      "ticks": "",
                      "title": {
                        "standoff": 15
                      },
                      "zerolinecolor": "white",
                      "zerolinewidth": 2
                    },
                    "yaxis": {
                      "automargin": true,
                      "gridcolor": "white",
                      "linecolor": "white",
                      "ticks": "",
                      "title": {
                        "standoff": 15
                      },
                      "zerolinecolor": "white",
                      "zerolinewidth": 2
                    }
                  }
                },
                "title": {
                  "text": "Sample of Random Portfolios"
                },
                "xaxis": {
                  "title": {
                    "text": "Volatility (Standard Deviation)"
                  }
                },
                "yaxis": {
                  "title": {
                    "text": "Annualised Returns"
                  }
                }
              }
            }
          },
          "metadata": {},
          "output_type": "display_data"
        }
      ],
      "source": [
        "fig1 = go.Figure()\n",
        "\n",
        "fig1.add_trace(go.Scatter(\n",
        "    x=[np.sqrt(p[\"variance\"]) for p in all_portfolios],\n",
        "    y=[p[\"return\"] for p in all_portfolios],\n",
        "    mode='markers',\n",
        "    marker=dict(\n",
        "        color=[p[\"sharpe\"] for p in all_portfolios],\n",
        "        showscale=True,\n",
        "        size=7,\n",
        "        line=dict(width=1),\n",
        "        colorscale=\"RdBu\",\n",
        "        colorbar=dict(title=\"Sharpe<br>Ratio\")\n",
        "    ),\n",
        "    hoverinfo='text',\n",
        "    text=[\n",
        "        f\"Return: {p['return']:.3%}<br>Volatility: {np.sqrt(p['variance']):.3f}<br>\" +\n",
        "        f\"Sharpe Ratio: {p['return'] / (np.sqrt(p['variance'])):.3f}<br>\" +\n",
        "        \"<br>\".join([f\"{p['tickers'][i]}: Weight={p['weights'][i]:.3f}\" for i in range(len(p['tickers']))])\n",
        "        for p in all_portfolios\n",
        "    ]\n",
        "))\n",
        "\n",
        "fig1.update_layout(\n",
        "    xaxis=dict(title='Volatility (Standard Deviation)'),\n",
        "    yaxis=dict(title='Annualised Returns'),\n",
        "    title='Sample of Random Portfolios'\n",
        ")\n",
        "\n",
        "fig1.show()"
      ]
    },
    {
      "cell_type": "code",
      "execution_count": 9,
      "metadata": {
        "id": "uHkH6APvabDV",
        "outputId": "162334c7-50bd-4a43-f2e3-a19de077fdb7"
      },
      "outputs": [
        {
          "data": {
            "application/vnd.plotly.v1+json": {
              "config": {
                "plotlyServerURL": "https://plot.ly"
              },
              "data": [
                {
                  "hoverinfo": "text",
                  "marker": {
                    "color": [
                      3.071371046030044,
                      1.659293069706873,
                      3.4170313983399843,
                      2.475847405328111,
                      3.4276653530871575,
                      2.963063309423278,
                      4.223238545068006,
                      0.8974943915016234,
                      3.378495339338571,
                      1.7285908434355113,
                      3.9427826338543945,
                      3.709254399458589,
                      3.110664988520246,
                      3.8076966754711763,
                      4.02179602522464,
                      3.453665364960363,
                      4.568527265284067,
                      2.0505958946384957,
                      1.8116291302130734,
                      3.2521924447759654,
                      3.6154320829380984,
                      3.0483686661390053,
                      2.0793126865911913,
                      3.649709645183075,
                      3.4227757533729943,
                      3.4376641647927753,
                      3.4968645570868975,
                      2.292263421721705,
                      4.0968237397145035,
                      3.7944310963172776,
                      3.778658949343408,
                      1.9328879353218607,
                      3.252518209643455,
                      3.251976924339066,
                      3.4270379414279666,
                      2.8173777122261328,
                      3.5905340457190316,
                      2.779688684439519,
                      4.487449963169108,
                      3.595663710279459,
                      4.407157206082057,
                      3.2123682555608815,
                      3.002443980377787,
                      2.8334372545243713,
                      3.899038429239871,
                      3.250252680406219,
                      3.9705447505808356,
                      3.5308229756430993,
                      3.2622531038364264,
                      3.1662100744009773,
                      4.327822962885466,
                      4.33469335839454,
                      4.088620004397556,
                      3.6262761136894732,
                      4.310092940603363,
                      3.571260443229344,
                      3.2817082340472266,
                      3.2519769274071866,
                      3.749680901367724,
                      3.4159287301833583,
                      1.8319038824796217,
                      1.7019240349194429,
                      3.4159287301831815,
                      4.296126071459626,
                      3.8879137240598944
                    ],
                    "colorbar": {
                      "title": {
                        "text": "Sharpe<br>Ratio"
                      }
                    },
                    "colorscale": [
                      [
                        0,
                        "rgb(103,0,31)"
                      ],
                      [
                        0.1,
                        "rgb(178,24,43)"
                      ],
                      [
                        0.2,
                        "rgb(214,96,77)"
                      ],
                      [
                        0.3,
                        "rgb(244,165,130)"
                      ],
                      [
                        0.4,
                        "rgb(253,219,199)"
                      ],
                      [
                        0.5,
                        "rgb(247,247,247)"
                      ],
                      [
                        0.6,
                        "rgb(209,229,240)"
                      ],
                      [
                        0.7,
                        "rgb(146,197,222)"
                      ],
                      [
                        0.8,
                        "rgb(67,147,195)"
                      ],
                      [
                        0.9,
                        "rgb(33,102,172)"
                      ],
                      [
                        1,
                        "rgb(5,48,97)"
                      ]
                    ],
                    "line": {
                      "width": 1
                    },
                    "showscale": true,
                    "size": 7
                  },
                  "mode": "markers",
                  "name": "Portfolios",
                  "text": [
                    "Return: 30.383%<br>Volatility: 0.099<br>Sharpe Ratio: 3.071<br>CVX_Close: Weight=0.217<br>HON_Close: Weight=0.650<br>NVDA_Close: Weight=0.133",
                    "Return: 14.305%<br>Volatility: 0.086<br>Sharpe Ratio: 1.659<br>EXC_Close: Weight=0.111<br>XOM_Close: Weight=0.163<br>AEP_Close: Weight=0.554<br>EW_Close: Weight=0.172",
                    "Return: 58.003%<br>Volatility: 0.170<br>Sharpe Ratio: 3.417<br>GE_Close: Weight=0.000<br>AMGN_Close: Weight=0.026<br>BA_Close: Weight=0.974<br>GS_Close: Weight=0.000",
                    "Return: 34.040%<br>Volatility: 0.137<br>Sharpe Ratio: 2.476<br>MRK_Close: Weight=0.000<br>UNH_Close: Weight=0.972<br>XOM_Close: Weight=0.028",
                    "Return: 45.697%<br>Volatility: 0.133<br>Sharpe Ratio: 3.428<br>MSFT_Close: Weight=0.422<br>GOOG_Close: Weight=0.000<br>ABBV_Close: Weight=0.552<br>ETN_Close: Weight=0.026",
                    "Return: 35.599%<br>Volatility: 0.120<br>Sharpe Ratio: 2.963<br>V_Close: Weight=0.570<br>GM_Close: Weight=0.126<br>SAP_Close: Weight=0.068<br>BABA_Close: Weight=0.237",
                    "Return: 39.120%<br>Volatility: 0.093<br>Sharpe Ratio: 4.223<br>NEE_Close: Weight=0.389<br>CAT_Close: Weight=0.351<br>ABT_Close: Weight=0.260",
                    "Return: 7.477%<br>Volatility: 0.083<br>Sharpe Ratio: 0.897<br>DHR_Close: Weight=0.449<br>DUK_Close: Weight=0.551<br>IBM_Close: Weight=0.000",
                    "Return: 28.295%<br>Volatility: 0.084<br>Sharpe Ratio: 3.378<br>UNH_Close: Weight=0.323<br>KO_Close: Weight=0.323<br>ISRG_Close: Weight=0.243<br>PEP_Close: Weight=0.110",
                    "Return: 13.518%<br>Volatility: 0.078<br>Sharpe Ratio: 1.729<br>DIS_Close: Weight=0.000<br>KO_Close: Weight=0.809<br>GM_Close: Weight=0.191<br>T_Close: Weight=0.000",
                    "Return: 40.421%<br>Volatility: 0.103<br>Sharpe Ratio: 3.943<br>ABBV_Close: Weight=0.333<br>DHR_Close: Weight=0.000<br>UNH_Close: Weight=0.313<br>HD_Close: Weight=0.354",
                    "Return: 45.845%<br>Volatility: 0.124<br>Sharpe Ratio: 3.709<br>BA_Close: Weight=0.625<br>AAPL_Close: Weight=0.147<br>SYK_Close: Weight=0.228<br>MRK_Close: Weight=0.000",
                    "Return: 24.800%<br>Volatility: 0.080<br>Sharpe Ratio: 3.111<br>CVX_Close: Weight=0.221<br>KO_Close: Weight=0.323<br>MA_Close: Weight=0.456",
                    "Return: 47.991%<br>Volatility: 0.126<br>Sharpe Ratio: 3.808<br>PYPL_Close: Weight=0.319<br>HD_Close: Weight=0.575<br>NVDA_Close: Weight=0.106<br>CMCSA_Close: Weight=0.000",
                    "Return: 48.385%<br>Volatility: 0.120<br>Sharpe Ratio: 4.022<br>AMGN_Close: Weight=0.000<br>UNH_Close: Weight=0.453<br>BA_Close: Weight=0.547",
                    "Return: 53.445%<br>Volatility: 0.155<br>Sharpe Ratio: 3.454<br>REGN_Close: Weight=0.000<br>GILD_Close: Weight=0.000<br>CSCO_Close: Weight=0.140<br>BA_Close: Weight=0.860",
                    "Return: 54.387%<br>Volatility: 0.119<br>Sharpe Ratio: 4.569<br>BA_Close: Weight=0.505<br>ABBV_Close: Weight=0.420<br>SYK_Close: Weight=0.075",
                    "Return: 80.734%<br>Volatility: 0.394<br>Sharpe Ratio: 2.051<br>MO_Close: Weight=0.000<br>SNAP_Close: Weight=0.000<br>NVDA_Close: Weight=1.000",
                    "Return: 13.609%<br>Volatility: 0.075<br>Sharpe Ratio: 1.812<br>CVX_Close: Weight=0.288<br>REGN_Close: Weight=0.020<br>SRE_Close: Weight=0.000<br>KO_Close: Weight=0.692",
                    "Return: 62.110%<br>Volatility: 0.191<br>Sharpe Ratio: 3.252<br>CSCO_Close: Weight=0.042<br>MO_Close: Weight=0.000<br>CPB_Close: Weight=0.000<br>CAT_Close: Weight=0.958",
                    "Return: 29.392%<br>Volatility: 0.081<br>Sharpe Ratio: 3.615<br>NEE_Close: Weight=0.405<br>AMZN_Close: Weight=0.134<br>HD_Close: Weight=0.426<br>AAPL_Close: Weight=0.035",
                    "Return: 24.236%<br>Volatility: 0.080<br>Sharpe Ratio: 3.048<br>RMD_Close: Weight=0.048<br>HON_Close: Weight=0.554<br>NEE_Close: Weight=0.399",
                    "Return: 64.778%<br>Volatility: 0.312<br>Sharpe Ratio: 2.079<br>AMD_Close: Weight=0.000<br>NVDA_Close: Weight=0.732<br>QCOM_Close: Weight=0.181<br>TSLA_Close: Weight=0.087",
                    "Return: 42.710%<br>Volatility: 0.117<br>Sharpe Ratio: 3.650<br>DE_Close: Weight=0.353<br>MCD_Close: Weight=0.541<br>RDY_Close: Weight=0.000<br>VRTX_Close: Weight=0.106",
                    "Return: 55.138%<br>Volatility: 0.161<br>Sharpe Ratio: 3.423<br>MS_Close: Weight=0.013<br>BA_Close: Weight=0.911<br>MDT_Close: Weight=0.000<br>DHR_Close: Weight=0.076",
                    "Return: 54.558%<br>Volatility: 0.159<br>Sharpe Ratio: 3.438<br>TSLA_Close: Weight=0.042<br>UA_Close: Weight=0.000<br>DHR_Close: Weight=0.071<br>BA_Close: Weight=0.887",
                    "Return: 31.864%<br>Volatility: 0.091<br>Sharpe Ratio: 3.497<br>MMM_Close: Weight=0.383<br>TMO_Close: Weight=0.039<br>SAP_Close: Weight=0.085<br>MCD_Close: Weight=0.493",
                    "Return: 17.968%<br>Volatility: 0.078<br>Sharpe Ratio: 2.292<br>BMY_Close: Weight=0.104<br>NFLX_Close: Weight=0.106<br>AAPL_Close: Weight=0.192<br>KO_Close: Weight=0.597",
                    "Return: 55.257%<br>Volatility: 0.135<br>Sharpe Ratio: 4.097<br>ISRG_Close: Weight=0.340<br>BA_Close: Weight=0.593<br>VRTX_Close: Weight=0.067",
                    "Return: 42.455%<br>Volatility: 0.112<br>Sharpe Ratio: 3.794<br>ISRG_Close: Weight=0.245<br>LMT_Close: Weight=0.329<br>K_Close: Weight=0.000<br>ABBV_Close: Weight=0.426",
                    "Return: 43.095%<br>Volatility: 0.114<br>Sharpe Ratio: 3.779<br>IBM_Close: Weight=0.000<br>CAT_Close: Weight=0.471<br>K_Close: Weight=0.000<br>LMT_Close: Weight=0.529",
                    "Return: 14.388%<br>Volatility: 0.074<br>Sharpe Ratio: 1.933<br>WFC_Close: Weight=0.120<br>AEP_Close: Weight=0.555<br>RTX_Close: Weight=0.298<br>GILD_Close: Weight=0.027",
                    "Return: 61.463%<br>Volatility: 0.189<br>Sharpe Ratio: 3.253<br>CAT_Close: Weight=0.948<br>CSCO_Close: Weight=0.037<br>GILD_Close: Weight=0.015",
                    "Return: 61.881%<br>Volatility: 0.190<br>Sharpe Ratio: 3.252<br>CVX_Close: Weight=0.046<br>CAT_Close: Weight=0.954<br>DIS_Close: Weight=0.000",
                    "Return: 56.206%<br>Volatility: 0.164<br>Sharpe Ratio: 3.427<br>BAC_Close: Weight=0.048<br>GM_Close: Weight=0.033<br>BA_Close: Weight=0.920",
                    "Return: 63.189%<br>Volatility: 0.224<br>Sharpe Ratio: 2.817<br>AMGN_Close: Weight=0.000<br>PYPL_Close: Weight=0.971<br>T_Close: Weight=0.029",
                    "Return: 32.249%<br>Volatility: 0.090<br>Sharpe Ratio: 3.591<br>MCD_Close: Weight=0.418<br>MSFT_Close: Weight=0.194<br>LMT_Close: Weight=0.388",
                    "Return: 20.817%<br>Volatility: 0.075<br>Sharpe Ratio: 2.780<br>AMZN_Close: Weight=0.197<br>TMO_Close: Weight=0.180<br>KO_Close: Weight=0.464<br>EMR_Close: Weight=0.160",
                    "Return: 51.479%<br>Volatility: 0.115<br>Sharpe Ratio: 4.487<br>BA_Close: Weight=0.433<br>PYPL_Close: Weight=0.160<br>MCD_Close: Weight=0.407",
                    "Return: 31.086%<br>Volatility: 0.086<br>Sharpe Ratio: 3.596<br>NEE_Close: Weight=0.314<br>KO_Close: Weight=0.265<br>DIS_Close: Weight=0.047<br>ABBV_Close: Weight=0.375",
                    "Return: 57.301%<br>Volatility: 0.130<br>Sharpe Ratio: 4.407<br>PM_Close: Weight=0.000<br>ABBV_Close: Weight=0.490<br>CAT_Close: Weight=0.474<br>VZ_Close: Weight=0.036",
                    "Return: 25.212%<br>Volatility: 0.078<br>Sharpe Ratio: 3.212<br>HD_Close: Weight=0.332<br>JNJ_Close: Weight=0.276<br>BAC_Close: Weight=0.015<br>HON_Close: Weight=0.377",
                    "Return: 68.561%<br>Volatility: 0.228<br>Sharpe Ratio: 3.002<br>NVDA_Close: Weight=0.218<br>AMD_Close: Weight=0.000<br>PYPL_Close: Weight=0.782",
                    "Return: 62.529%<br>Volatility: 0.221<br>Sharpe Ratio: 2.833<br>PYPL_Close: Weight=0.932<br>TSLA_Close: Weight=0.068<br>ZBH_Close: Weight=0.000<br>GS_Close: Weight=0.000",
                    "Return: 44.524%<br>Volatility: 0.114<br>Sharpe Ratio: 3.899<br>DE_Close: Weight=0.182<br>CVX_Close: Weight=0.042<br>CAT_Close: Weight=0.351<br>V_Close: Weight=0.425",
                    "Return: 64.107%<br>Volatility: 0.197<br>Sharpe Ratio: 3.250<br>CAT_Close: Weight=1.000<br>MS_Close: Weight=0.000<br>AMD_Close: Weight=0.000",
                    "Return: 34.300%<br>Volatility: 0.086<br>Sharpe Ratio: 3.971<br>MSFT_Close: Weight=0.199<br>NEE_Close: Weight=0.320<br>UNH_Close: Weight=0.219<br>DE_Close: Weight=0.262",
                    "Return: 67.332%<br>Volatility: 0.191<br>Sharpe Ratio: 3.531<br>T_Close: Weight=0.000<br>NVDA_Close: Weight=0.194<br>CAT_Close: Weight=0.806",
                    "Return: 24.311%<br>Volatility: 0.075<br>Sharpe Ratio: 3.262<br>HON_Close: Weight=0.382<br>KO_Close: Weight=0.315<br>UNH_Close: Weight=0.302",
                    "Return: 25.364%<br>Volatility: 0.080<br>Sharpe Ratio: 3.166<br>ABT_Close: Weight=0.270<br>RTX_Close: Weight=0.094<br>NEE_Close: Weight=0.388<br>MMM_Close: Weight=0.248",
                    "Return: 44.070%<br>Volatility: 0.102<br>Sharpe Ratio: 4.328<br>NEE_Close: Weight=0.439<br>BABA_Close: Weight=0.158<br>BMY_Close: Weight=0.000<br>BA_Close: Weight=0.403",
                    "Return: 46.115%<br>Volatility: 0.106<br>Sharpe Ratio: 4.335<br>MCD_Close: Weight=0.443<br>DHR_Close: Weight=0.000<br>GOOGL_Close: Weight=0.108<br>BA_Close: Weight=0.449",
                    "Return: 40.668%<br>Volatility: 0.099<br>Sharpe Ratio: 4.089<br>MCD_Close: Weight=0.247<br>NEE_Close: Weight=0.416<br>CAT_Close: Weight=0.337",
                    "Return: 58.256%<br>Volatility: 0.161<br>Sharpe Ratio: 3.626<br>KR_Close: Weight=0.000<br>ADBE_Close: Weight=0.315<br>CAT_Close: Weight=0.685",
                    "Return: 41.901%<br>Volatility: 0.097<br>Sharpe Ratio: 4.310<br>AEP_Close: Weight=0.197<br>HD_Close: Weight=0.318<br>PYPL_Close: Weight=0.214<br>ABBV_Close: Weight=0.271",
                    "Return: 26.849%<br>Volatility: 0.075<br>Sharpe Ratio: 3.571<br>SO_Close: Weight=0.000<br>HD_Close: Weight=0.321<br>NEE_Close: Weight=0.387<br>HON_Close: Weight=0.292",
                    "Return: 58.920%<br>Volatility: 0.180<br>Sharpe Ratio: 3.282<br>TSLA_Close: Weight=0.056<br>XOM_Close: Weight=0.000<br>NKE_Close: Weight=0.057<br>CAT_Close: Weight=0.887",
                    "Return: 61.880%<br>Volatility: 0.190<br>Sharpe Ratio: 3.252<br>BAC_Close: Weight=0.000<br>SRE_Close: Weight=0.000<br>CVX_Close: Weight=0.046<br>CAT_Close: Weight=0.954",
                    "Return: 58.591%<br>Volatility: 0.156<br>Sharpe Ratio: 3.750<br>BIIB_Close: Weight=0.000<br>ABBV_Close: Weight=0.592<br>PYPL_Close: Weight=0.408",
                    "Return: 59.541%<br>Volatility: 0.174<br>Sharpe Ratio: 3.416<br>GE_Close: Weight=0.000<br>BA_Close: Weight=1.000<br>CPB_Close: Weight=0.000",
                    "Return: 13.290%<br>Volatility: 0.073<br>Sharpe Ratio: 1.832<br>WFC_Close: Weight=0.073<br>KO_Close: Weight=0.680<br>CVX_Close: Weight=0.247",
                    "Return: 12.009%<br>Volatility: 0.071<br>Sharpe Ratio: 1.702<br>KO_Close: Weight=0.707<br>PFE_Close: Weight=0.283<br>SRE_Close: Weight=0.000<br>XOM_Close: Weight=0.010",
                    "Return: 59.541%<br>Volatility: 0.174<br>Sharpe Ratio: 3.416<br>BA_Close: Weight=1.000<br>GE_Close: Weight=0.000<br>PM_Close: Weight=0.000",
                    "Return: 61.598%<br>Volatility: 0.143<br>Sharpe Ratio: 4.296<br>CAT_Close: Weight=0.450<br>RDY_Close: Weight=0.000<br>BA_Close: Weight=0.550<br>XOM_Close: Weight=0.000",
                    "Return: 33.032%<br>Volatility: 0.085<br>Sharpe Ratio: 3.888<br>MCD_Close: Weight=0.400<br>MMM_Close: Weight=0.307<br>HD_Close: Weight=0.292"
                  ],
                  "type": "scatter",
                  "x": [
                    0.09892397560326292,
                    0.08621143200774338,
                    0.16974739572014674,
                    0.13748642076734202,
                    0.13331944672429286,
                    0.12014231287939794,
                    0.09262998182178966,
                    0.08331520997806251,
                    0.08374949019828497,
                    0.07820023244190455,
                    0.1025195643360913,
                    0.12359685092703551,
                    0.07972711659669039,
                    0.12603652934245746,
                    0.12030771484134356,
                    0.1547492287728344,
                    0.11904691784428383,
                    0.3937107231388769,
                    0.07512086679728429,
                    0.19097790096420436,
                    0.08129690908500316,
                    0.0795050044008738,
                    0.3115374305923418,
                    0.11702311882636561,
                    0.16109203203302516,
                    0.15870703906581904,
                    0.09112151351923015,
                    0.0783873536539605,
                    0.1348784070259082,
                    0.11188725346081935,
                    0.11404915876166428,
                    0.07443879607164067,
                    0.1889707013631835,
                    0.19028658983891206,
                    0.16400760243791926,
                    0.22428383728734852,
                    0.08981605723503144,
                    0.07489032372988547,
                    0.11471766800616981,
                    0.08645493780814739,
                    0.13001701386397777,
                    0.07848330182385574,
                    0.22835082818033678,
                    0.22068214255641175,
                    0.11419268367209866,
                    0.1972377846949676,
                    0.08638498397158376,
                    0.19069660981330055,
                    0.07452303172123494,
                    0.08010710760828194,
                    0.10182840897006,
                    0.10638641623674697,
                    0.09946588447437532,
                    0.16064950869563163,
                    0.09721594835378729,
                    0.07518019295327724,
                    0.17953941492768527,
                    0.1902856277978396,
                    0.15625669483659496,
                    0.17430321472444926,
                    0.07254712223802309,
                    0.07056367642270286,
                    0.1743032147244444,
                    0.1433793714329639,
                    0.08496133180623261
                  ],
                  "y": [
                    0.3038322344260442,
                    0.1430500316599539,
                    0.5800321809621837,
                    0.3403953981246727,
                    0.45697444842960777,
                    0.3559892792021958,
                    0.3911985096587308,
                    0.07477493368209119,
                    0.2829472623068871,
                    0.1351762057536048,
                    0.4042123578946591,
                    0.4584521630603339,
                    0.24800435023299622,
                    0.47990887376520064,
                    0.48385308935277505,
                    0.5344520516670658,
                    0.543869090019643,
                    0.8073415925437343,
                    0.13609115057681628,
                    0.621096886634958,
                    0.29392345334962217,
                    0.2423605642168674,
                    0.647783731778679,
                    0.4271004054899917,
                    0.5513819013042243,
                    0.5455815008969331,
                    0.31863959101351047,
                    0.17968446350653688,
                    0.5525730598786162,
                    0.4245484738132659,
                    0.4309528744198499,
                    0.14388185084675856,
                    0.6146306472728496,
                    0.6188075991673146,
                    0.5620602762373832,
                    0.6318922843859281,
                    0.32248761135462956,
                    0.20817178544597503,
                    0.5147897950691327,
                    0.3108628824512231,
                    0.5730054195639003,
                    0.2521172673705576,
                    0.6856105694843345,
                    0.6252890041275952,
                    0.44524166197554504,
                    0.6410726383822032,
                    0.3429954446373815,
                    0.6733159713060489,
                    0.24311299153989913,
                    0.25363593114046545,
                    0.440695326614718,
                    0.4611524918848242,
                    0.40667820501702723,
                    0.5825594760589183,
                    0.4190097727137197,
                    0.2684880492083885,
                    0.5891959763042063,
                    0.618804471215766,
                    0.5859127443396248,
                    0.5954073589405652,
                    0.1328993548905582,
                    0.12009401689607642,
                    0.5954073589405178,
                    0.6159758557226497,
                    0.3303223279438582
                  ]
                },
                {
                  "hoverinfo": "text",
                  "hovertext": [
                    "CRM_Close <br>Volatility: 0.156 <br>Returns: 25.484% <br>Sharpe Ratio: 1.634",
                    "BIIB_Close <br>Volatility: 0.228 <br>Returns: 9.799% <br>Sharpe Ratio: 0.430",
                    "XOM_Close <br>Volatility: 0.104 <br>Returns: 3.880% <br>Sharpe Ratio: 0.374",
                    "KR_Close <br>Volatility: 0.363 <br>Returns: -11.512% <br>Sharpe Ratio: -0.317",
                    "MDT_Close <br>Volatility: 0.152 <br>Returns: 0.821% <br>Sharpe Ratio: 0.054",
                    "EXC_Close <br>Volatility: 0.131 <br>Returns: 12.626% <br>Sharpe Ratio: 0.960",
                    "DUK_Close <br>Volatility: 0.094 <br>Returns: 6.184% <br>Sharpe Ratio: 0.655",
                    "SAP_Close <br>Volatility: 0.137 <br>Returns: 22.379% <br>Sharpe Ratio: 1.628",
                    "T_Close <br>Volatility: 0.175 <br>Returns: -3.526% <br>Sharpe Ratio: -0.201",
                    "DE_Close <br>Volatility: 0.179 <br>Returns: 45.118% <br>Sharpe Ratio: 2.527",
                    "META_Close <br>Volatility: 0.173 <br>Returns: 30.584% <br>Sharpe Ratio: 1.771",
                    "NEE_Close <br>Volatility: 0.112 <br>Returns: 23.547% <br>Sharpe Ratio: 2.101",
                    "CMCSA_Close <br>Volatility: 0.206 <br>Returns: 9.549% <br>Sharpe Ratio: 0.465",
                    "MSFT_Close <br>Volatility: 0.152 <br>Returns: 36.718% <br>Sharpe Ratio: 2.419",
                    "RMD_Close <br>Volatility: 0.201 <br>Returns: 20.344% <br>Sharpe Ratio: 1.013",
                    "CPB_Close <br>Volatility: 0.240 <br>Returns: -23.666% <br>Sharpe Ratio: -0.984",
                    "AAPL_Close <br>Volatility: 0.176 <br>Returns: 25.044% <br>Sharpe Ratio: 1.423",
                    "V_Close <br>Volatility: 0.125 <br>Returns: 30.982% <br>Sharpe Ratio: 2.471",
                    "BTI_Close <br>Volatility: 0.191 <br>Returns: 11.154% <br>Sharpe Ratio: 0.584",
                    "GIS_Close <br>Volatility: 0.174 <br>Returns: -0.030% <br>Sharpe Ratio: -0.002",
                    "VRTX_Close <br>Volatility: 0.385 <br>Returns: 61.334% <br>Sharpe Ratio: 1.595",
                    "HD_Close <br>Volatility: 0.135 <br>Returns: 32.454% <br>Sharpe Ratio: 2.404",
                    "ADBE_Close <br>Volatility: 0.228 <br>Returns: 45.540% <br>Sharpe Ratio: 1.999",
                    "ORCL_Close <br>Volatility: 0.187 <br>Returns: 13.134% <br>Sharpe Ratio: 0.701",
                    "BA_Close <br>Volatility: 0.174 <br>Returns: 59.541% <br>Sharpe Ratio: 3.416",
                    "AMD_Close <br>Volatility: 0.583 <br>Returns: -36.203% <br>Sharpe Ratio: -0.621",
                    "RTX_Close <br>Volatility: 0.136 <br>Returns: 16.980% <br>Sharpe Ratio: 1.244",
                    "BMY_Close <br>Volatility: 0.180 <br>Returns: 11.411% <br>Sharpe Ratio: 0.633",
                    "DIS_Close <br>Volatility: 0.158 <br>Returns: -1.539% <br>Sharpe Ratio: -0.097",
                    "BSX_Close <br>Volatility: 0.170 <br>Returns: -1.012% <br>Sharpe Ratio: -0.059",
                    "F_Close <br>Volatility: 0.166 <br>Returns: 2.996% <br>Sharpe Ratio: 0.180",
                    "SYY_Close <br>Volatility: 0.161 <br>Returns: 19.125% <br>Sharpe Ratio: 1.185",
                    "SRE_Close <br>Volatility: 0.134 <br>Returns: 0.416% <br>Sharpe Ratio: 0.031",
                    "JNJ_Close <br>Volatility: 0.114 <br>Returns: 16.968% <br>Sharpe Ratio: 1.485",
                    "UA_Close <br>Volatility: 0.464 <br>Returns: -42.368% <br>Sharpe Ratio: -0.913",
                    "PM_Close <br>Volatility: 0.140 <br>Returns: -0.165% <br>Sharpe Ratio: -0.012",
                    "RDY_Close <br>Volatility: 0.304 <br>Returns: -11.923% <br>Sharpe Ratio: -0.392",
                    "AMZN_Close <br>Volatility: 0.212 <br>Returns: 38.442% <br>Sharpe Ratio: 1.813",
                    "SYK_Close <br>Volatility: 0.155 <br>Returns: 21.732% <br>Sharpe Ratio: 1.398",
                    "WFC_Close <br>Volatility: 0.171 <br>Returns: 6.484% <br>Sharpe Ratio: 0.380",
                    "BABA_Close <br>Volatility: 0.267 <br>Returns: 61.610% <br>Sharpe Ratio: 2.305",
                    "ABT_Close <br>Volatility: 0.140 <br>Returns: 28.667% <br>Sharpe Ratio: 2.053",
                    "EMR_Close <br>Volatility: 0.163 <br>Returns: 20.267% <br>Sharpe Ratio: 1.246",
                    "WMT_Close <br>Volatility: 0.182 <br>Returns: 43.058% <br>Sharpe Ratio: 2.372",
                    "ABBV_Close <br>Volatility: 0.179 <br>Returns: 54.051% <br>Sharpe Ratio: 3.026",
                    "JPM_Close <br>Volatility: 0.156 <br>Returns: 19.920% <br>Sharpe Ratio: 1.276",
                    "GILD_Close <br>Volatility: 0.189 <br>Returns: 5.321% <br>Sharpe Ratio: 0.281",
                    "HON_Close <br>Volatility: 0.102 <br>Returns: 25.067% <br>Sharpe Ratio: 2.467",
                    "ISRG_Close <br>Volatility: 0.191 <br>Returns: 46.587% <br>Sharpe Ratio: 2.436",
                    "SNAP_Close <br>Volatility: 0.633 <br>Returns: -61.938% <br>Sharpe Ratio: -0.978",
                    "INTC_Close <br>Volatility: 0.176 <br>Returns: 32.628% <br>Sharpe Ratio: 1.858",
                    "KO_Close <br>Volatility: 0.086 <br>Returns: 13.237% <br>Sharpe Ratio: 1.533",
                    "MCD_Close <br>Volatility: 0.136 <br>Returns: 37.497% <br>Sharpe Ratio: 2.748",
                    "MA_Close <br>Volatility: 0.144 <br>Returns: 37.500% <br>Sharpe Ratio: 2.602",
                    "MS_Close <br>Volatility: 0.196 <br>Returns: 16.831% <br>Sharpe Ratio: 0.858",
                    "PYPL_Close <br>Volatility: 0.231 <br>Returns: 65.170% <br>Sharpe Ratio: 2.817",
                    "GOOGL_Close <br>Volatility: 0.157 <br>Returns: 25.766% <br>Sharpe Ratio: 1.638",
                    "K_Close <br>Volatility: 0.182 <br>Returns: -9.007% <br>Sharpe Ratio: -0.496",
                    "PEP_Close <br>Volatility: 0.098 <br>Returns: 12.729% <br>Sharpe Ratio: 1.302",
                    "SO_Close <br>Volatility: 0.119 <br>Returns: -1.259% <br>Sharpe Ratio: -0.106",
                    "CSCO_Close <br>Volatility: 0.164 <br>Returns: 16.111% <br>Sharpe Ratio: 0.982",
                    "ETN_Close <br>Volatility: 0.155 <br>Returns: 13.763% <br>Sharpe Ratio: 0.886",
                    "LMT_Close <br>Volatility: 0.110 <br>Returns: 24.360% <br>Sharpe Ratio: 2.206",
                    "CVX_Close <br>Volatility: 0.141 <br>Returns: 15.444% <br>Sharpe Ratio: 1.093",
                    "AEP_Close <br>Volatility: 0.106 <br>Returns: 15.149% <br>Sharpe Ratio: 1.424",
                    "PFE_Close <br>Volatility: 0.108 <br>Returns: 9.217% <br>Sharpe Ratio: 0.854",
                    "TXN_Close <br>Volatility: 0.161 <br>Returns: 37.142% <br>Sharpe Ratio: 2.300",
                    "VZ_Close <br>Volatility: 0.169 <br>Returns: 11.300% <br>Sharpe Ratio: 0.668",
                    "QCOM_Close <br>Volatility: 0.239 <br>Returns: 18.777% <br>Sharpe Ratio: 0.786",
                    "MO_Close <br>Volatility: 0.178 <br>Returns: -2.746% <br>Sharpe Ratio: -0.154",
                    "ACN_Close <br>Volatility: 0.133 <br>Returns: 27.346% <br>Sharpe Ratio: 2.059",
                    "LLY_Close <br>Volatility: 0.147 <br>Returns: 4.513% <br>Sharpe Ratio: 0.308",
                    "GS_Close <br>Volatility: 0.196 <br>Returns: 2.945% <br>Sharpe Ratio: 0.150",
                    "GM_Close <br>Volatility: 0.189 <br>Returns: 14.706% <br>Sharpe Ratio: 0.777",
                    "UNH_Close <br>Volatility: 0.141 <br>Returns: 34.904% <br>Sharpe Ratio: 2.475",
                    "DHR_Close <br>Volatility: 0.128 <br>Returns: 9.067% <br>Sharpe Ratio: 0.706",
                    "NVDA_Close <br>Volatility: 0.394 <br>Returns: 80.734% <br>Sharpe Ratio: 2.051",
                    "BAC_Close <br>Volatility: 0.209 <br>Returns: 20.360% <br>Sharpe Ratio: 0.972",
                    "GE_Close <br>Volatility: 0.213 <br>Returns: -62.754% <br>Sharpe Ratio: -2.947",
                    "TSLA_Close <br>Volatility: 0.359 <br>Returns: 26.105% <br>Sharpe Ratio: 0.728",
                    "TMO_Close <br>Volatility: 0.163 <br>Returns: 21.553% <br>Sharpe Ratio: 1.323",
                    "IBM_Close <br>Volatility: 0.158 <br>Returns: -15.905% <br>Sharpe Ratio: -1.009",
                    "AMGN_Close <br>Volatility: 0.168 <br>Returns: -0.355% <br>Sharpe Ratio: -0.021",
                    "GOOG_Close <br>Volatility: 0.160 <br>Returns: 27.711% <br>Sharpe Ratio: 1.737",
                    "EW_Close <br>Volatility: 0.232 <br>Returns: 22.603% <br>Sharpe Ratio: 0.973",
                    "NKE_Close <br>Volatility: 0.226 <br>Returns: 10.695% <br>Sharpe Ratio: 0.474",
                    "MMM_Close <br>Volatility: 0.131 <br>Returns: 27.772% <br>Sharpe Ratio: 2.118",
                    "PG_Close <br>Volatility: 0.098 <br>Returns: 4.023% <br>Sharpe Ratio: 0.410",
                    "MRK_Close <br>Volatility: 0.151 <br>Returns: -15.661% <br>Sharpe Ratio: -1.038",
                    "ZBH_Close <br>Volatility: 0.194 <br>Returns: 3.617% <br>Sharpe Ratio: 0.186",
                    "REGN_Close <br>Volatility: 0.282 <br>Returns: 0.032% <br>Sharpe Ratio: 0.001",
                    "NFLX_Close <br>Volatility: 0.287 <br>Returns: 38.281% <br>Sharpe Ratio: 1.334",
                    "COST_Close <br>Volatility: 0.199 <br>Returns: 11.208% <br>Sharpe Ratio: 0.564",
                    "CAT_Close <br>Volatility: 0.197 <br>Returns: 64.107% <br>Sharpe Ratio: 3.250"
                  ],
                  "marker": {
                    "color": "brown",
                    "line": {
                      "width": 1
                    },
                    "size": 5,
                    "symbol": "triangle-up"
                  },
                  "mode": "markers",
                  "name": "Individual Assets",
                  "type": "scatter",
                  "x": {
                    "bdata": "1oGiu/P1wz+dqmdAyiXNP0jiqQfdlro/O9nQ36k11z8Jcl/7eWnDP8fC/D2G08A//f6B72kruD/9DXrOkJfBP7IsUNMDa8Y/ZDhBZPbaxj/FTCS3exrGPwnvXpiHsrw/sBhu1WFQyj80NqrE3GzDP5VbHZLRssk/Yp7S7wbHzj+XStUtWIjGP4RLZPstDcA/WtTzdz5tyD96aiu+0DvGPw5EhZd2ndg/YMp8onNIwT/S+j5q7yjNP1dTbmUh98c/vCJqV5FPxj99ZuvUc6fiPy87rG6Yd8E/rU2YVvQWxz/FdmcO8zzEP9pf1IFY0sU/XhWYjR5HxT8HKvzdLqfEP7RwkWcNH8E/w8y3tUdAvT+pl1q7obLdP2gqGQfj4cE/fmkTvLh80z+YOtANKSLLP2KJg/Lr5sM/huEZ2pnVxT+/whzM9hvRPzNILgS64ME/KT3SooTSxD9Ys8kTiDzHPwAiI90s3cY/BrfU6ef8wz8Mbh8mY0DIPxQs/L/OA7o/XnJoD/d5yD9KaSCc0ELkP08ifFDvecY/2ku30qkbtj8rzeYZonfBP5AK6i/zcsI/169fSPccyT/Mi/6xkp3NP5jaDDn6IMQ/Gyw607I+xz9ILgTIIQi5P4GBiFbfa74/xYCsMPz9xD+oq8jo1uLDPyb6MAtQRrw/R5Phb78Wwj8ygz6atzy7P6rLOXPEn7s/mZIW3R2rxD9v5rzih6rFP83npY9Jkc4/ZoEy/crFxj9MZIj4BgHBP8mG/OJWycI/hrP5QxMfyT8CpRxGszvIP5UE/TKbDMI/jiomqAtvwD/X0v11jjLZP2Y74LyEzMo/RHAEfTNCyz8hLBVFBvTWP+4qcgyh28Q/yS2SkXMrxD/mkIMN6HXFPwKX7rmxasQ/fqECT2e9zT+k3AkDdOLMPxK9EgN2yMA/yhcqzmgYuT9s96jhRlLDP6Rwoitc3cg/CXDYJIYS0j8F2lAV6FvSP0q/SqWZcck/sHJmdRY/yT8=",
                    "dtype": "f8"
                  },
                  "y": {
                    "bdata": "f0wlgFVP0D9tm69L2RW5P4tIuHsh3aM/to7QEMN4vb9j6rE8482AP5q7G55NKcA/dQIGgLSprz9A+Z7lCqXMP1YrlqMpDaK/gw5xQB3g3D9BD6w94pLTP9hr85jSI84/ng3g3ipyuD8qeI/A4X/XP7gdVK4wCso/p+QixgRLzr/mYWqhMQfQP5pYxgcd1NM/pIXVqLCNvD8AcDh0ubgzvwnvQpl2oOM/PQ1Sek3F1D8kkzsWPiXdP0HErRa5z8A/OlLOu5MN4z9pAadVcCvXvzJObhAdvMU/ersVXw02vT9S8xGWwIKPv5YunwMfu4S/Q6Lv8a6unj+jXRAK1HrIP+ChaR7qDHE/Bdt6fC+4xT/MRfpaiR3bv4C8/kXl/Fq/9nY1UwaGvr8ip3Q+ZJrYP35Vepcr0cs/rdHEHiyZsD8b/DIUHrfjPyXCsBrhWNI/wDJqxD7xyT+IukMfs47bPyjXTpHTS+E/SLBMpnd/yT8RBerUQj6rPx7g4GAHC9A/juejQ+DQ3T9Wi/SZ9tHjv/JQNIu34dQ/N7ZUp2PxwD/ITXQogf/XP9nCGbr+/9c/7htx7iiLxT9EbdYlsdrkP652qfCIfdA/uWefhPEOt79zDn90HEvAPwB5ODfzx4m/yYk+QFifxD8R5CPD9p3BPyu+VG5WLs8/SNl/GrTEwz/dkKuY82PDP+JrsC+5mLc/pZY3mGDF1z/TPIi3WO28P4inD9PQCMg/yovi8PYenL92BSo/bIDRP/BqHYTTG6c/rMtfyPQmnj8nmQ005dLCP1fp2xS0VtY/DuJJVOc1tz8xoRUJvtXpP4sigFmaD8o/cEaShMkU5L9iVwFF+7TQP3Fw8SNmlss/laKNnrVbxL94bACGaxVtv+jnxDUzvNE/omGfxWzuzD/YVYd9LGG7P5MuRhw0xtE/ePpAzIqYpD+7AVEP6AvEv6/s6cUUhaI/mUnnXmDsND8nCi328H/YP0TwaA3zsLw/ssgGxKqD5D8=",
                    "dtype": "f8"
                  }
                }
              ],
              "layout": {
                "legend": {
                  "y": 5
                },
                "template": {
                  "data": {
                    "bar": [
                      {
                        "error_x": {
                          "color": "#2a3f5f"
                        },
                        "error_y": {
                          "color": "#2a3f5f"
                        },
                        "marker": {
                          "line": {
                            "color": "#E5ECF6",
                            "width": 0.5
                          },
                          "pattern": {
                            "fillmode": "overlay",
                            "size": 10,
                            "solidity": 0.2
                          }
                        },
                        "type": "bar"
                      }
                    ],
                    "barpolar": [
                      {
                        "marker": {
                          "line": {
                            "color": "#E5ECF6",
                            "width": 0.5
                          },
                          "pattern": {
                            "fillmode": "overlay",
                            "size": 10,
                            "solidity": 0.2
                          }
                        },
                        "type": "barpolar"
                      }
                    ],
                    "carpet": [
                      {
                        "aaxis": {
                          "endlinecolor": "#2a3f5f",
                          "gridcolor": "white",
                          "linecolor": "white",
                          "minorgridcolor": "white",
                          "startlinecolor": "#2a3f5f"
                        },
                        "baxis": {
                          "endlinecolor": "#2a3f5f",
                          "gridcolor": "white",
                          "linecolor": "white",
                          "minorgridcolor": "white",
                          "startlinecolor": "#2a3f5f"
                        },
                        "type": "carpet"
                      }
                    ],
                    "choropleth": [
                      {
                        "colorbar": {
                          "outlinewidth": 0,
                          "ticks": ""
                        },
                        "type": "choropleth"
                      }
                    ],
                    "contour": [
                      {
                        "colorbar": {
                          "outlinewidth": 0,
                          "ticks": ""
                        },
                        "colorscale": [
                          [
                            0,
                            "#0d0887"
                          ],
                          [
                            0.1111111111111111,
                            "#46039f"
                          ],
                          [
                            0.2222222222222222,
                            "#7201a8"
                          ],
                          [
                            0.3333333333333333,
                            "#9c179e"
                          ],
                          [
                            0.4444444444444444,
                            "#bd3786"
                          ],
                          [
                            0.5555555555555556,
                            "#d8576b"
                          ],
                          [
                            0.6666666666666666,
                            "#ed7953"
                          ],
                          [
                            0.7777777777777778,
                            "#fb9f3a"
                          ],
                          [
                            0.8888888888888888,
                            "#fdca26"
                          ],
                          [
                            1,
                            "#f0f921"
                          ]
                        ],
                        "type": "contour"
                      }
                    ],
                    "contourcarpet": [
                      {
                        "colorbar": {
                          "outlinewidth": 0,
                          "ticks": ""
                        },
                        "type": "contourcarpet"
                      }
                    ],
                    "heatmap": [
                      {
                        "colorbar": {
                          "outlinewidth": 0,
                          "ticks": ""
                        },
                        "colorscale": [
                          [
                            0,
                            "#0d0887"
                          ],
                          [
                            0.1111111111111111,
                            "#46039f"
                          ],
                          [
                            0.2222222222222222,
                            "#7201a8"
                          ],
                          [
                            0.3333333333333333,
                            "#9c179e"
                          ],
                          [
                            0.4444444444444444,
                            "#bd3786"
                          ],
                          [
                            0.5555555555555556,
                            "#d8576b"
                          ],
                          [
                            0.6666666666666666,
                            "#ed7953"
                          ],
                          [
                            0.7777777777777778,
                            "#fb9f3a"
                          ],
                          [
                            0.8888888888888888,
                            "#fdca26"
                          ],
                          [
                            1,
                            "#f0f921"
                          ]
                        ],
                        "type": "heatmap"
                      }
                    ],
                    "histogram": [
                      {
                        "marker": {
                          "pattern": {
                            "fillmode": "overlay",
                            "size": 10,
                            "solidity": 0.2
                          }
                        },
                        "type": "histogram"
                      }
                    ],
                    "histogram2d": [
                      {
                        "colorbar": {
                          "outlinewidth": 0,
                          "ticks": ""
                        },
                        "colorscale": [
                          [
                            0,
                            "#0d0887"
                          ],
                          [
                            0.1111111111111111,
                            "#46039f"
                          ],
                          [
                            0.2222222222222222,
                            "#7201a8"
                          ],
                          [
                            0.3333333333333333,
                            "#9c179e"
                          ],
                          [
                            0.4444444444444444,
                            "#bd3786"
                          ],
                          [
                            0.5555555555555556,
                            "#d8576b"
                          ],
                          [
                            0.6666666666666666,
                            "#ed7953"
                          ],
                          [
                            0.7777777777777778,
                            "#fb9f3a"
                          ],
                          [
                            0.8888888888888888,
                            "#fdca26"
                          ],
                          [
                            1,
                            "#f0f921"
                          ]
                        ],
                        "type": "histogram2d"
                      }
                    ],
                    "histogram2dcontour": [
                      {
                        "colorbar": {
                          "outlinewidth": 0,
                          "ticks": ""
                        },
                        "colorscale": [
                          [
                            0,
                            "#0d0887"
                          ],
                          [
                            0.1111111111111111,
                            "#46039f"
                          ],
                          [
                            0.2222222222222222,
                            "#7201a8"
                          ],
                          [
                            0.3333333333333333,
                            "#9c179e"
                          ],
                          [
                            0.4444444444444444,
                            "#bd3786"
                          ],
                          [
                            0.5555555555555556,
                            "#d8576b"
                          ],
                          [
                            0.6666666666666666,
                            "#ed7953"
                          ],
                          [
                            0.7777777777777778,
                            "#fb9f3a"
                          ],
                          [
                            0.8888888888888888,
                            "#fdca26"
                          ],
                          [
                            1,
                            "#f0f921"
                          ]
                        ],
                        "type": "histogram2dcontour"
                      }
                    ],
                    "mesh3d": [
                      {
                        "colorbar": {
                          "outlinewidth": 0,
                          "ticks": ""
                        },
                        "type": "mesh3d"
                      }
                    ],
                    "parcoords": [
                      {
                        "line": {
                          "colorbar": {
                            "outlinewidth": 0,
                            "ticks": ""
                          }
                        },
                        "type": "parcoords"
                      }
                    ],
                    "pie": [
                      {
                        "automargin": true,
                        "type": "pie"
                      }
                    ],
                    "scatter": [
                      {
                        "fillpattern": {
                          "fillmode": "overlay",
                          "size": 10,
                          "solidity": 0.2
                        },
                        "type": "scatter"
                      }
                    ],
                    "scatter3d": [
                      {
                        "line": {
                          "colorbar": {
                            "outlinewidth": 0,
                            "ticks": ""
                          }
                        },
                        "marker": {
                          "colorbar": {
                            "outlinewidth": 0,
                            "ticks": ""
                          }
                        },
                        "type": "scatter3d"
                      }
                    ],
                    "scattercarpet": [
                      {
                        "marker": {
                          "colorbar": {
                            "outlinewidth": 0,
                            "ticks": ""
                          }
                        },
                        "type": "scattercarpet"
                      }
                    ],
                    "scattergeo": [
                      {
                        "marker": {
                          "colorbar": {
                            "outlinewidth": 0,
                            "ticks": ""
                          }
                        },
                        "type": "scattergeo"
                      }
                    ],
                    "scattergl": [
                      {
                        "marker": {
                          "colorbar": {
                            "outlinewidth": 0,
                            "ticks": ""
                          }
                        },
                        "type": "scattergl"
                      }
                    ],
                    "scattermap": [
                      {
                        "marker": {
                          "colorbar": {
                            "outlinewidth": 0,
                            "ticks": ""
                          }
                        },
                        "type": "scattermap"
                      }
                    ],
                    "scattermapbox": [
                      {
                        "marker": {
                          "colorbar": {
                            "outlinewidth": 0,
                            "ticks": ""
                          }
                        },
                        "type": "scattermapbox"
                      }
                    ],
                    "scatterpolar": [
                      {
                        "marker": {
                          "colorbar": {
                            "outlinewidth": 0,
                            "ticks": ""
                          }
                        },
                        "type": "scatterpolar"
                      }
                    ],
                    "scatterpolargl": [
                      {
                        "marker": {
                          "colorbar": {
                            "outlinewidth": 0,
                            "ticks": ""
                          }
                        },
                        "type": "scatterpolargl"
                      }
                    ],
                    "scatterternary": [
                      {
                        "marker": {
                          "colorbar": {
                            "outlinewidth": 0,
                            "ticks": ""
                          }
                        },
                        "type": "scatterternary"
                      }
                    ],
                    "surface": [
                      {
                        "colorbar": {
                          "outlinewidth": 0,
                          "ticks": ""
                        },
                        "colorscale": [
                          [
                            0,
                            "#0d0887"
                          ],
                          [
                            0.1111111111111111,
                            "#46039f"
                          ],
                          [
                            0.2222222222222222,
                            "#7201a8"
                          ],
                          [
                            0.3333333333333333,
                            "#9c179e"
                          ],
                          [
                            0.4444444444444444,
                            "#bd3786"
                          ],
                          [
                            0.5555555555555556,
                            "#d8576b"
                          ],
                          [
                            0.6666666666666666,
                            "#ed7953"
                          ],
                          [
                            0.7777777777777778,
                            "#fb9f3a"
                          ],
                          [
                            0.8888888888888888,
                            "#fdca26"
                          ],
                          [
                            1,
                            "#f0f921"
                          ]
                        ],
                        "type": "surface"
                      }
                    ],
                    "table": [
                      {
                        "cells": {
                          "fill": {
                            "color": "#EBF0F8"
                          },
                          "line": {
                            "color": "white"
                          }
                        },
                        "header": {
                          "fill": {
                            "color": "#C8D4E3"
                          },
                          "line": {
                            "color": "white"
                          }
                        },
                        "type": "table"
                      }
                    ]
                  },
                  "layout": {
                    "annotationdefaults": {
                      "arrowcolor": "#2a3f5f",
                      "arrowhead": 0,
                      "arrowwidth": 1
                    },
                    "autotypenumbers": "strict",
                    "coloraxis": {
                      "colorbar": {
                        "outlinewidth": 0,
                        "ticks": ""
                      }
                    },
                    "colorscale": {
                      "diverging": [
                        [
                          0,
                          "#8e0152"
                        ],
                        [
                          0.1,
                          "#c51b7d"
                        ],
                        [
                          0.2,
                          "#de77ae"
                        ],
                        [
                          0.3,
                          "#f1b6da"
                        ],
                        [
                          0.4,
                          "#fde0ef"
                        ],
                        [
                          0.5,
                          "#f7f7f7"
                        ],
                        [
                          0.6,
                          "#e6f5d0"
                        ],
                        [
                          0.7,
                          "#b8e186"
                        ],
                        [
                          0.8,
                          "#7fbc41"
                        ],
                        [
                          0.9,
                          "#4d9221"
                        ],
                        [
                          1,
                          "#276419"
                        ]
                      ],
                      "sequential": [
                        [
                          0,
                          "#0d0887"
                        ],
                        [
                          0.1111111111111111,
                          "#46039f"
                        ],
                        [
                          0.2222222222222222,
                          "#7201a8"
                        ],
                        [
                          0.3333333333333333,
                          "#9c179e"
                        ],
                        [
                          0.4444444444444444,
                          "#bd3786"
                        ],
                        [
                          0.5555555555555556,
                          "#d8576b"
                        ],
                        [
                          0.6666666666666666,
                          "#ed7953"
                        ],
                        [
                          0.7777777777777778,
                          "#fb9f3a"
                        ],
                        [
                          0.8888888888888888,
                          "#fdca26"
                        ],
                        [
                          1,
                          "#f0f921"
                        ]
                      ],
                      "sequentialminus": [
                        [
                          0,
                          "#0d0887"
                        ],
                        [
                          0.1111111111111111,
                          "#46039f"
                        ],
                        [
                          0.2222222222222222,
                          "#7201a8"
                        ],
                        [
                          0.3333333333333333,
                          "#9c179e"
                        ],
                        [
                          0.4444444444444444,
                          "#bd3786"
                        ],
                        [
                          0.5555555555555556,
                          "#d8576b"
                        ],
                        [
                          0.6666666666666666,
                          "#ed7953"
                        ],
                        [
                          0.7777777777777778,
                          "#fb9f3a"
                        ],
                        [
                          0.8888888888888888,
                          "#fdca26"
                        ],
                        [
                          1,
                          "#f0f921"
                        ]
                      ]
                    },
                    "colorway": [
                      "#636efa",
                      "#EF553B",
                      "#00cc96",
                      "#ab63fa",
                      "#FFA15A",
                      "#19d3f3",
                      "#FF6692",
                      "#B6E880",
                      "#FF97FF",
                      "#FECB52"
                    ],
                    "font": {
                      "color": "#2a3f5f"
                    },
                    "geo": {
                      "bgcolor": "white",
                      "lakecolor": "white",
                      "landcolor": "#E5ECF6",
                      "showlakes": true,
                      "showland": true,
                      "subunitcolor": "white"
                    },
                    "hoverlabel": {
                      "align": "left"
                    },
                    "hovermode": "closest",
                    "mapbox": {
                      "style": "light"
                    },
                    "paper_bgcolor": "white",
                    "plot_bgcolor": "#E5ECF6",
                    "polar": {
                      "angularaxis": {
                        "gridcolor": "white",
                        "linecolor": "white",
                        "ticks": ""
                      },
                      "bgcolor": "#E5ECF6",
                      "radialaxis": {
                        "gridcolor": "white",
                        "linecolor": "white",
                        "ticks": ""
                      }
                    },
                    "scene": {
                      "xaxis": {
                        "backgroundcolor": "#E5ECF6",
                        "gridcolor": "white",
                        "gridwidth": 2,
                        "linecolor": "white",
                        "showbackground": true,
                        "ticks": "",
                        "zerolinecolor": "white"
                      },
                      "yaxis": {
                        "backgroundcolor": "#E5ECF6",
                        "gridcolor": "white",
                        "gridwidth": 2,
                        "linecolor": "white",
                        "showbackground": true,
                        "ticks": "",
                        "zerolinecolor": "white"
                      },
                      "zaxis": {
                        "backgroundcolor": "#E5ECF6",
                        "gridcolor": "white",
                        "gridwidth": 2,
                        "linecolor": "white",
                        "showbackground": true,
                        "ticks": "",
                        "zerolinecolor": "white"
                      }
                    },
                    "shapedefaults": {
                      "line": {
                        "color": "#2a3f5f"
                      }
                    },
                    "ternary": {
                      "aaxis": {
                        "gridcolor": "white",
                        "linecolor": "white",
                        "ticks": ""
                      },
                      "baxis": {
                        "gridcolor": "white",
                        "linecolor": "white",
                        "ticks": ""
                      },
                      "bgcolor": "#E5ECF6",
                      "caxis": {
                        "gridcolor": "white",
                        "linecolor": "white",
                        "ticks": ""
                      }
                    },
                    "title": {
                      "x": 0.05
                    },
                    "xaxis": {
                      "automargin": true,
                      "gridcolor": "white",
                      "linecolor": "white",
                      "ticks": "",
                      "title": {
                        "standoff": 15
                      },
                      "zerolinecolor": "white",
                      "zerolinewidth": 2
                    },
                    "yaxis": {
                      "automargin": true,
                      "gridcolor": "white",
                      "linecolor": "white",
                      "ticks": "",
                      "title": {
                        "standoff": 15
                      },
                      "zerolinecolor": "white",
                      "zerolinewidth": 2
                    }
                  }
                },
                "title": {
                  "text": "Sample of Random Portfolios"
                },
                "xaxis": {
                  "title": {
                    "text": "Volatility (Standard Deviation)"
                  }
                },
                "yaxis": {
                  "title": {
                    "text": "Annualized Return"
                  }
                }
              }
            }
          },
          "metadata": {},
          "output_type": "display_data"
        }
      ],
      "source": [
        "fig2 = go.Figure()\n",
        "\n",
        "fig2.add_trace(go.Scatter(\n",
        "    x=[np.sqrt(p[\"variance\"]) for p in dominant_portfolios],  # Convert variance to volatility\n",
        "    y=[p[\"return\"] for p in dominant_portfolios],\n",
        "    mode='markers',\n",
        "    marker=dict(\n",
        "        color=[p[\"return\"] / (np.sqrt(p[\"variance\"])) for p in dominant_portfolios],  # Sharpe Ratio\n",
        "        showscale=True,\n",
        "        size=7,\n",
        "        line=dict(width=1),\n",
        "        colorscale=\"RdBu\",\n",
        "        colorbar=dict(title=\"Sharpe<br>Ratio\")\n",
        "    ),\n",
        "    hoverinfo='text',\n",
        "    text=[\n",
        "        f\"Return: {p['return']:.3%}<br>Volatility: {np.sqrt(p['variance']):.3f}<br>\" +\n",
        "        f\"Sharpe Ratio: {p['sharpe']:.3f}<br>\" +\n",
        "        \"<br>\".join([f\"{p['tickers'][i]}: Weight={p['weights'][i]:.3f}\" for i in range(len(p['tickers']))])\n",
        "        for p in dominant_portfolios\n",
        "    ],\n",
        "    name=\"Portfolios\"\n",
        "))\n",
        "\n",
        "fig2.add_trace(go.Scatter(\n",
        "    x=volatility,\n",
        "    y=annualized_returns,\n",
        "    mode='markers',\n",
        "    hoverinfo='text',\n",
        "    hovertext=[\n",
        "        f\"{name} <br>Volatility: {vol:.3f} <br>Returns: {ret:.3%} <br>Sharpe Ratio: {sr:.3f}\"\n",
        "        for name, vol, ret, sr in zip(names, volatility, annualized_returns, sharpe_ratios)\n",
        "    ],\n",
        "    marker=dict(\n",
        "        color='brown',\n",
        "        size=5,\n",
        "        symbol='triangle-up',  # Sets the marker shape to a triangle\n",
        "        line=dict(width=1)\n",
        "    ),\n",
        "    name=\"Individual Assets\"\n",
        "))\n",
        "\n",
        "fig2.update_layout(\n",
        "    title='Sample of Random Portfolios',\n",
        "    xaxis_title='Volatility (Standard Deviation)',\n",
        "    yaxis_title='Annualized Return',\n",
        "    legend=dict(y=5\n",
        "    )\n",
        ")\n",
        "\n",
        "\n",
        "fig2.show()"
      ]
    },
    {
      "cell_type": "markdown",
      "metadata": {
        "id": "6-WDtJTgabDV"
      },
      "source": [
        "## 5.0 ML Method"
      ]
    },
    {
      "cell_type": "code",
      "execution_count": 10,
      "metadata": {
        "id": "7xbdm-4NabDV",
        "outputId": "419aa594-3dc4-4678-a08a-865db3f896d0"
      },
      "outputs": [
        {
          "name": "stderr",
          "output_type": "stream",
          "text": [
            "100%|██████████| 300/300 [00:02<00:00, 136.14it/s]\n"
          ]
        }
      ],
      "source": [
        "def MLRBA(ticker, covariances, returns, num_iterations=1000, risk_free_rate = 0, return_power = 1, std_power = 1, return_weight=2/5, corr_weight=1/5, vol_weight= 2/5):\n",
        "    num_assets =  8\n",
        "    base_portfolio = np.random.choice(list(ticker), num_assets, replace=False)\n",
        "    base_portfolio = list(ticker)[:num_assets]\n",
        "    highest_weighted_sharpe = -np.inf\n",
        "\n",
        "    all_portfolios = []\n",
        "\n",
        "    tested_assets = set()\n",
        "\n",
        "    def _get_portfolio_stats (portfolio_assets, risk_free_rate = 0):\n",
        "        p_asset_ret = returns.loc[portfolio_assets].values\n",
        "        p_asset_var = covariances.loc[portfolio_assets, portfolio_assets].values\n",
        "        best_p_weights = maximize_sharpe(p_asset_ret, p_asset_var)\n",
        "        p_ret = np.dot(best_p_weights,p_asset_ret)\n",
        "        p_var = np.dot(best_p_weights, p_asset_var @ best_p_weights)\n",
        "        sharpe = get_sharpe_ratio(p_ret, p_var, risk_free_rate, return_power, std_power)\n",
        "\n",
        "        return p_asset_ret, p_asset_var, sharpe, p_ret, p_var, best_p_weights\n",
        "\n",
        "    def _update_portfolios_array(portfolios, assets, weights, p_ret, p_var):\n",
        "        portfolios.append({\n",
        "            \"tickers\": assets,\n",
        "            \"weights\": weights,\n",
        "            \"return\": p_ret,\n",
        "            \"variance\": p_var,\n",
        "            \"sharpe\": (p_ret-risk_free_rate)/np.sqrt(p_var),\n",
        "        })\n",
        "\n",
        "    curr_ret, curr_var, curr_weighted_sharpe, curr_p_return, curr_p_variance, curr_p_weights = _get_portfolio_stats(base_portfolio, risk_free_rate)\n",
        "    _update_portfolios_array(all_portfolios, base_portfolio, curr_p_weights, curr_p_return, curr_p_variance)\n",
        "\n",
        "    good_portfolios = all_portfolios.copy()\n",
        "    best_portfolio = base_portfolio.copy()\n",
        "\n",
        "    highest_weighted_sharpe = curr_weighted_sharpe\n",
        "    for _ in tqdm(range(num_iterations)):\n",
        "        asset_to_remove = find_best_asset_to_remove(best_portfolio, curr_var, curr_ret, return_weight, corr_weight, vol_weight)     #most_correlated_asset, _, _ = find_correlation_matrix(portfolio, curr_variances)\n",
        "        new_portfolio = [str(asset) for asset in best_portfolio if asset != asset_to_remove]\n",
        "\n",
        "        ranked_assets = find_asset_to_add(new_portfolio, ticker, covariances, returns, return_weight, corr_weight, vol_weight)         # Find the next best asset to add to the portfolio\n",
        "        asset_to_add = ranked_assets.index[0]\n",
        "\n",
        "        for asset in ranked_assets.index:\n",
        "            if asset not in tested_assets:\n",
        "                asset_to_add = asset\n",
        "                break\n",
        "\n",
        "        new_portfolio.append(asset_to_add)\n",
        "        tested_assets.add(asset_to_add)\n",
        "\n",
        "        # Substitute in and measure portfolio performance based on sharpe ratio\n",
        "        new_returns, new_var, new_weighted_sharpe, new_p_return, new_p_variance, new_p_weights = _get_portfolio_stats(new_portfolio, risk_free_rate)\n",
        "\n",
        "        _update_portfolios_array(all_portfolios, new_portfolio, new_p_weights, new_p_return, new_p_variance)\n",
        "\n",
        "        if new_weighted_sharpe > highest_weighted_sharpe:\n",
        "            highest_weighted_sharpe = new_weighted_sharpe\n",
        "            best_portfolio = new_portfolio\n",
        "            curr_ret, curr_var = new_returns, new_var\n",
        "\n",
        "            _update_portfolios_array(good_portfolios, new_portfolio, new_p_weights, new_p_return, new_p_variance)\n",
        "\n",
        "            tested_assets.clear()\n",
        "\n",
        "        # If Sharpe ratio was worse, then move on to the next least correlated asset\n",
        "        # If Sharpe ratio is better, set as new base portfolio, and repeat the process for num_iterations times\n",
        "        # Adjust the sharpe ratio, maybe more emphasis on returns/volatility\n",
        "        # Update weights to value return or corr\n",
        "        # See how many iterations it takes to get here, whats a good threshold/stopping point\n",
        "        # Backtesting\n",
        "        # Train a model to maybe predict the sharpe ratio of a portfolio\n",
        "\n",
        "    base_details = good_portfolios[0]\n",
        "    best_details = good_portfolios[-1]\n",
        "\n",
        "    return base_details, best_details, good_portfolios, all_portfolios\n",
        "\n",
        "base_portfolio, best_portfolio, good_portfolios, total_portfolios = MLRBA(names, cov, annualized_returns, 300)"
      ]
    },
    {
      "cell_type": "code",
      "execution_count": 11,
      "metadata": {
        "id": "Znh8vrYQabDW",
        "outputId": "5bbb5e46-8027-4b21-e833-e8ce13010964"
      },
      "outputs": [
        {
          "data": {
            "application/vnd.plotly.v1+json": {
              "config": {
                "plotlyServerURL": "https://plot.ly"
              },
              "data": [
                {
                  "hoverinfo": "text",
                  "marker": {
                    "color": [
                      2.077247941461272,
                      2.475234275156206,
                      2.7461835717764473,
                      3.3517241629666428,
                      3.4917261307643837,
                      3.491726130766374,
                      3.491726130766374,
                      3.4656780850492694,
                      3.461903334211168,
                      3.462583697314705,
                      4.341856808429788,
                      4.34407521765699,
                      4.34407521765699,
                      4.3418567680258295,
                      4.342364244679316,
                      4.3418568127294215,
                      4.3418567830040296,
                      4.341856810441004,
                      4.34336009056857,
                      4.4254564260446525,
                      4.401941754531225,
                      4.401734453141471,
                      4.4017342255144305,
                      4.4017343678540115,
                      4.401734068950534,
                      4.401734320381106,
                      4.401734164093885,
                      4.401734300946892,
                      4.929162925932563,
                      4.890923685975494,
                      4.929162925931331,
                      4.884768058730376,
                      4.884768020835692,
                      4.884768070474838,
                      4.884768065237614,
                      4.8847678210370065,
                      4.891405489442142,
                      4.884768075222943,
                      4.884768002909494,
                      4.8986785982222765,
                      5.474469070426402,
                      5.473471860559949,
                      5.45617446413921,
                      5.474469070424536,
                      5.445044376120408,
                      5.445044698450202,
                      5.445044425585624,
                      5.445044494546766,
                      5.445044642150165,
                      5.445044484195897,
                      5.445044700792324,
                      5.445044691249255,
                      5.473406746322793,
                      5.445044685483598,
                      5.44504463415317,
                      5.445044546583486,
                      5.445462088043187,
                      5.5070846403092615,
                      5.535810349413823,
                      5.535810349413823,
                      5.507627441583239,
                      5.507084640313165,
                      5.539700628966153,
                      5.535810349413823,
                      5.507627441583239,
                      5.507084640313165,
                      5.539700628966153,
                      5.4970921043086305,
                      5.497092198571841,
                      5.497092351687254,
                      5.497091905031506,
                      5.497092133185567,
                      5.4970923528157245,
                      5.524059797062471,
                      5.497092309915812,
                      5.497092347047069,
                      5.497092348309543,
                      5.4970921988938235,
                      5.547511549537006,
                      5.535810349413823,
                      5.507627441583239,
                      5.507084640313165,
                      5.539700628966153,
                      5.4970921043086305,
                      5.497092198571841,
                      5.497092351687254,
                      5.497091905031506,
                      5.497092133185567,
                      5.4970923528157245,
                      5.524059797062471,
                      5.497092309915812,
                      5.497092347047069,
                      5.497092348309543,
                      5.4970921988938235,
                      5.547511549537006,
                      5.497092329220142,
                      5.498797646825781,
                      5.497092351289347,
                      5.497092310622829,
                      5.4970923519097,
                      5.497092221698135,
                      5.497091955545432,
                      5.497092352284876,
                      5.49709183070145,
                      5.497092011181675,
                      5.497092282926315,
                      5.497092171560983,
                      5.497091859530049,
                      5.497092218610208,
                      5.4970922399483895,
                      5.520784623969248,
                      5.497092313741468,
                      5.49709230620713,
                      5.510061399256184,
                      5.795728750542605,
                      5.596863812651042,
                      5.5311733227658415,
                      5.5471933049515805,
                      5.7957287505523745,
                      5.596863812651042,
                      5.5311733227658415,
                      5.5471933049515805,
                      5.7957287505523745,
                      5.531218997684421,
                      5.598179133011015,
                      5.531173323498472,
                      5.531173192843097,
                      5.5311733330972634,
                      5.531173281845854,
                      5.532563195786361,
                      5.5358098290055375,
                      5.531173009979563,
                      5.5670815053761205,
                      5.628090096744985,
                      5.531847070920943,
                      5.53117329479114,
                      5.531173333533187,
                      5.535636759919981,
                      5.531173333015137,
                      5.531173333005341,
                      5.531173222468205,
                      5.531173331913493,
                      5.531173331848964,
                      5.531173316332198,
                      5.5311733335333875,
                      5.53117328641622,
                      5.531173333036214,
                      5.531173331897219,
                      5.532729265579632,
                      5.531173333281492,
                      5.531173208306521,
                      5.5311731051558155,
                      5.603912435986734,
                      5.531766222946755,
                      5.531173333720739,
                      5.5409788284408155,
                      5.531173303886984,
                      5.532144317888872,
                      5.531173333661267,
                      5.6997213498397326,
                      5.53117331874103,
                      5.67950286656809,
                      5.531173326306856,
                      5.531173333615446,
                      5.532315034301642,
                      5.531173332469912,
                      5.531173328706186,
                      5.531173333716465,
                      5.53117333206609,
                      5.531173333622446,
                      5.548029885335768,
                      5.531173333537794,
                      5.531173329990501,
                      5.531173309549445,
                      5.531173310943854,
                      5.531173118677225,
                      5.531173332386208,
                      5.5311732225751635,
                      5.548741733862386,
                      5.538350887834984,
                      5.531173331714013,
                      5.531173332757275,
                      5.531172953348069,
                      5.531173265972902,
                      5.5311733329651025,
                      5.531173332382157,
                      5.531173185815647,
                      5.563003121586592,
                      5.659872571937904,
                      5.531173325270508,
                      5.552282837522621,
                      5.531173305864624,
                      5.531173248379118,
                      5.531173331976532,
                      5.531173329295263,
                      5.548046171895525,
                      5.531173016279988,
                      5.531173130145981,
                      5.56065745946814,
                      5.531172835696489,
                      5.531173287452477,
                      5.531173332028083,
                      5.531172977119209,
                      5.531173332161529,
                      5.531173312927534,
                      5.531173273672601,
                      5.596863812651042,
                      5.596863812651042,
                      5.596863812651042,
                      5.596863812651042,
                      5.596863812651042,
                      5.596863812651042,
                      5.596863812651042,
                      5.596863812651042,
                      5.596863812651042,
                      5.596863812651042,
                      5.596863812651042,
                      5.596863812651042,
                      5.596863812651042,
                      5.596863812651042,
                      5.596863812651042,
                      5.596863812651042,
                      5.596863812651042,
                      5.596863812651042,
                      5.596863812651042,
                      5.596863812651042,
                      5.596863812651042,
                      5.596863812651042,
                      5.596863812651042,
                      5.596863812651042,
                      5.596863812651042,
                      5.596863812651042,
                      5.596863812651042,
                      5.596863812651042,
                      5.596863812651042,
                      5.596863812651042,
                      5.596863812651042,
                      5.596863812651042,
                      5.596863812651042,
                      5.596863812651042,
                      5.596863812651042,
                      5.596863812651042,
                      5.596863812651042,
                      5.596863812651042,
                      5.596863812651042,
                      5.596863812651042,
                      5.596863812651042,
                      5.596863812651042,
                      5.596863812651042,
                      5.596863812651042,
                      5.596863812651042,
                      5.596863812651042,
                      5.596863812651042,
                      5.596863812651042,
                      5.596863812651042,
                      5.596863812651042,
                      5.596863812651042,
                      5.596863812651042,
                      5.596863812651042,
                      5.596863812651042,
                      5.596863812651042,
                      5.596863812651042,
                      5.596863812651042,
                      5.596863812651042,
                      5.596863812651042,
                      5.596863812651042,
                      5.596863812651042,
                      5.596863812651042,
                      5.596863812651042,
                      5.596863812651042,
                      5.596863812651042,
                      5.596863812651042,
                      5.596863812651042,
                      5.596863812651042,
                      5.596863812651042,
                      5.596863812651042,
                      5.596863812651042,
                      5.596863812651042,
                      5.596863812651042,
                      5.596863812651042,
                      5.596863812651042,
                      5.596863812651042,
                      5.596863812651042,
                      5.596863812651042,
                      5.596863812651042,
                      5.596863812651042,
                      5.596863812651042,
                      5.596863812651042,
                      5.596863812651042,
                      5.596863812651042,
                      5.596863812651042,
                      5.596863812651042,
                      5.596863812651042,
                      5.596863812651042,
                      5.596863812651042,
                      5.596863812651042,
                      5.596863812651042,
                      5.596863812651042,
                      5.596863812651042,
                      5.596863812651042,
                      5.596863812651042
                    ],
                    "colorbar": {
                      "title": {
                        "text": "Sharpe<br>Ratio"
                      }
                    },
                    "colorscale": [
                      [
                        0,
                        "rgb(103,0,31)"
                      ],
                      [
                        0.1,
                        "rgb(178,24,43)"
                      ],
                      [
                        0.2,
                        "rgb(214,96,77)"
                      ],
                      [
                        0.3,
                        "rgb(244,165,130)"
                      ],
                      [
                        0.4,
                        "rgb(253,219,199)"
                      ],
                      [
                        0.5,
                        "rgb(247,247,247)"
                      ],
                      [
                        0.6,
                        "rgb(209,229,240)"
                      ],
                      [
                        0.7,
                        "rgb(146,197,222)"
                      ],
                      [
                        0.8,
                        "rgb(67,147,195)"
                      ],
                      [
                        0.9,
                        "rgb(33,102,172)"
                      ],
                      [
                        1,
                        "rgb(5,48,97)"
                      ]
                    ],
                    "line": {
                      "width": 1
                    },
                    "showscale": true,
                    "size": 7
                  },
                  "mode": "markers",
                  "name": "Portfolios",
                  "text": [
                    "Return: 17.514%<br>Volatility: 0.084<br>Sharpe Ratio: 2.077<br>CRM_Close: Weight=0.303<br>BIIB_Close: Weight=0.020<br>XOM_Close: Weight=0.174<br>KR_Close: Weight=0.000<br>MDT_Close: Weight=0.000<br>EXC_Close: Weight=0.168<br>DUK_Close: Weight=0.043<br>SAP_Close: Weight=0.291",
                    "Return: 27.115%<br>Volatility: 0.110<br>Sharpe Ratio: 2.475<br>CRM_Close: Weight=0.165<br>BIIB_Close: Weight=0.013<br>XOM_Close: Weight=0.147<br>MDT_Close: Weight=0.000<br>EXC_Close: Weight=0.208<br>DUK_Close: Weight=0.054<br>SAP_Close: Weight=0.241<br>NVDA_Close: Weight=0.172",
                    "Return: 30.418%<br>Volatility: 0.111<br>Sharpe Ratio: 2.746<br>CRM_Close: Weight=0.110<br>XOM_Close: Weight=0.148<br>MDT_Close: Weight=0.000<br>EXC_Close: Weight=0.131<br>DUK_Close: Weight=0.122<br>SAP_Close: Weight=0.213<br>NVDA_Close: Weight=0.148<br>VRTX_Close: Weight=0.128",
                    "Return: 42.997%<br>Volatility: 0.128<br>Sharpe Ratio: 3.352<br>CRM_Close: Weight=0.000<br>XOM_Close: Weight=0.129<br>EXC_Close: Weight=0.206<br>DUK_Close: Weight=0.037<br>SAP_Close: Weight=0.053<br>NVDA_Close: Weight=0.092<br>VRTX_Close: Weight=0.113<br>PYPL_Close: Weight=0.369",
                    "Return: 41.154%<br>Volatility: 0.118<br>Sharpe Ratio: 3.492<br>XOM_Close: Weight=0.134<br>EXC_Close: Weight=0.185<br>DUK_Close: Weight=0.090<br>SAP_Close: Weight=0.013<br>NVDA_Close: Weight=0.046<br>VRTX_Close: Weight=0.087<br>PYPL_Close: Weight=0.294<br>BABA_Close: Weight=0.149",
                    "Return: 41.154%<br>Volatility: 0.118<br>Sharpe Ratio: 3.492<br>XOM_Close: Weight=0.134<br>EXC_Close: Weight=0.185<br>DUK_Close: Weight=0.090<br>SAP_Close: Weight=0.013<br>VRTX_Close: Weight=0.087<br>PYPL_Close: Weight=0.294<br>BABA_Close: Weight=0.149<br>NVDA_Close: Weight=0.046",
                    "Return: 41.154%<br>Volatility: 0.118<br>Sharpe Ratio: 3.492<br>XOM_Close: Weight=0.134<br>EXC_Close: Weight=0.185<br>DUK_Close: Weight=0.090<br>SAP_Close: Weight=0.013<br>VRTX_Close: Weight=0.087<br>PYPL_Close: Weight=0.294<br>BABA_Close: Weight=0.149<br>NVDA_Close: Weight=0.046",
                    "Return: 39.706%<br>Volatility: 0.115<br>Sharpe Ratio: 3.466<br>XOM_Close: Weight=0.144<br>EXC_Close: Weight=0.183<br>DUK_Close: Weight=0.081<br>SAP_Close: Weight=0.018<br>VRTX_Close: Weight=0.083<br>PYPL_Close: Weight=0.293<br>BABA_Close: Weight=0.168<br>ADBE_Close: Weight=0.030",
                    "Return: 39.498%<br>Volatility: 0.114<br>Sharpe Ratio: 3.462<br>XOM_Close: Weight=0.138<br>EXC_Close: Weight=0.180<br>DUK_Close: Weight=0.094<br>SAP_Close: Weight=0.030<br>VRTX_Close: Weight=0.086<br>PYPL_Close: Weight=0.303<br>BABA_Close: Weight=0.170<br>NFLX_Close: Weight=0.000",
                    "Return: 39.518%<br>Volatility: 0.114<br>Sharpe Ratio: 3.463<br>XOM_Close: Weight=0.136<br>EXC_Close: Weight=0.180<br>DUK_Close: Weight=0.093<br>SAP_Close: Weight=0.026<br>VRTX_Close: Weight=0.084<br>PYPL_Close: Weight=0.300<br>BABA_Close: Weight=0.168<br>AMZN_Close: Weight=0.013",
                    "Return: 50.294%<br>Volatility: 0.116<br>Sharpe Ratio: 4.342<br>XOM_Close: Weight=0.000<br>EXC_Close: Weight=0.137<br>DUK_Close: Weight=0.113<br>SAP_Close: Weight=0.000<br>VRTX_Close: Weight=0.067<br>PYPL_Close: Weight=0.211<br>BABA_Close: Weight=0.105<br>CAT_Close: Weight=0.368",
                    "Return: 50.555%<br>Volatility: 0.116<br>Sharpe Ratio: 4.344<br>XOM_Close: Weight=0.000<br>EXC_Close: Weight=0.137<br>DUK_Close: Weight=0.112<br>VRTX_Close: Weight=0.067<br>PYPL_Close: Weight=0.207<br>BABA_Close: Weight=0.099<br>CAT_Close: Weight=0.367<br>NVDA_Close: Weight=0.011",
                    "Return: 50.555%<br>Volatility: 0.116<br>Sharpe Ratio: 4.344<br>XOM_Close: Weight=0.000<br>EXC_Close: Weight=0.137<br>DUK_Close: Weight=0.112<br>VRTX_Close: Weight=0.067<br>PYPL_Close: Weight=0.207<br>BABA_Close: Weight=0.099<br>CAT_Close: Weight=0.367<br>NVDA_Close: Weight=0.011",
                    "Return: 50.289%<br>Volatility: 0.116<br>Sharpe Ratio: 4.342<br>XOM_Close: Weight=0.000<br>EXC_Close: Weight=0.137<br>DUK_Close: Weight=0.113<br>VRTX_Close: Weight=0.067<br>PYPL_Close: Weight=0.211<br>BABA_Close: Weight=0.105<br>CAT_Close: Weight=0.368<br>NFLX_Close: Weight=0.000",
                    "Return: 50.336%<br>Volatility: 0.116<br>Sharpe Ratio: 4.342<br>XOM_Close: Weight=0.000<br>EXC_Close: Weight=0.137<br>DUK_Close: Weight=0.109<br>VRTX_Close: Weight=0.066<br>PYPL_Close: Weight=0.207<br>BABA_Close: Weight=0.104<br>CAT_Close: Weight=0.368<br>ADBE_Close: Weight=0.009",
                    "Return: 50.294%<br>Volatility: 0.116<br>Sharpe Ratio: 4.342<br>XOM_Close: Weight=0.000<br>EXC_Close: Weight=0.137<br>DUK_Close: Weight=0.113<br>VRTX_Close: Weight=0.067<br>PYPL_Close: Weight=0.211<br>BABA_Close: Weight=0.105<br>CAT_Close: Weight=0.368<br>AMZN_Close: Weight=0.000",
                    "Return: 50.296%<br>Volatility: 0.116<br>Sharpe Ratio: 4.342<br>XOM_Close: Weight=0.000<br>EXC_Close: Weight=0.137<br>DUK_Close: Weight=0.113<br>VRTX_Close: Weight=0.067<br>PYPL_Close: Weight=0.211<br>BABA_Close: Weight=0.105<br>CAT_Close: Weight=0.368<br>AMD_Close: Weight=0.000",
                    "Return: 50.292%<br>Volatility: 0.116<br>Sharpe Ratio: 4.342<br>XOM_Close: Weight=0.000<br>EXC_Close: Weight=0.137<br>DUK_Close: Weight=0.113<br>VRTX_Close: Weight=0.067<br>PYPL_Close: Weight=0.211<br>BABA_Close: Weight=0.105<br>CAT_Close: Weight=0.368<br>TSLA_Close: Weight=0.000",
                    "Return: 49.862%<br>Volatility: 0.115<br>Sharpe Ratio: 4.343<br>XOM_Close: Weight=0.000<br>EXC_Close: Weight=0.132<br>DUK_Close: Weight=0.111<br>VRTX_Close: Weight=0.066<br>PYPL_Close: Weight=0.198<br>BABA_Close: Weight=0.101<br>CAT_Close: Weight=0.362<br>MA_Close: Weight=0.029",
                    "Return: 49.434%<br>Volatility: 0.112<br>Sharpe Ratio: 4.425<br>XOM_Close: Weight=0.000<br>EXC_Close: Weight=0.120<br>DUK_Close: Weight=0.104<br>VRTX_Close: Weight=0.054<br>PYPL_Close: Weight=0.153<br>BABA_Close: Weight=0.092<br>CAT_Close: Weight=0.347<br>ISRG_Close: Weight=0.131",
                    "Return: 49.073%<br>Volatility: 0.111<br>Sharpe Ratio: 4.402<br>XOM_Close: Weight=0.000<br>DUK_Close: Weight=0.216<br>VRTX_Close: Weight=0.058<br>PYPL_Close: Weight=0.149<br>BABA_Close: Weight=0.091<br>CAT_Close: Weight=0.348<br>ISRG_Close: Weight=0.134<br>NVDA_Close: Weight=0.003",
                    "Return: 48.992%<br>Volatility: 0.111<br>Sharpe Ratio: 4.402<br>XOM_Close: Weight=0.000<br>DUK_Close: Weight=0.216<br>VRTX_Close: Weight=0.058<br>PYPL_Close: Weight=0.150<br>BABA_Close: Weight=0.093<br>CAT_Close: Weight=0.349<br>ISRG_Close: Weight=0.135<br>ADBE_Close: Weight=0.000",
                    "Return: 49.006%<br>Volatility: 0.111<br>Sharpe Ratio: 4.402<br>XOM_Close: Weight=0.000<br>DUK_Close: Weight=0.216<br>VRTX_Close: Weight=0.058<br>PYPL_Close: Weight=0.150<br>BABA_Close: Weight=0.093<br>CAT_Close: Weight=0.349<br>ISRG_Close: Weight=0.135<br>NFLX_Close: Weight=0.000",
                    "Return: 48.993%<br>Volatility: 0.111<br>Sharpe Ratio: 4.402<br>XOM_Close: Weight=0.000<br>DUK_Close: Weight=0.216<br>VRTX_Close: Weight=0.058<br>PYPL_Close: Weight=0.150<br>BABA_Close: Weight=0.093<br>CAT_Close: Weight=0.349<br>ISRG_Close: Weight=0.135<br>AMD_Close: Weight=0.000",
                    "Return: 48.979%<br>Volatility: 0.111<br>Sharpe Ratio: 4.402<br>XOM_Close: Weight=0.000<br>DUK_Close: Weight=0.216<br>VRTX_Close: Weight=0.058<br>PYPL_Close: Weight=0.150<br>BABA_Close: Weight=0.093<br>CAT_Close: Weight=0.348<br>ISRG_Close: Weight=0.135<br>TSLA_Close: Weight=0.000",
                    "Return: 48.993%<br>Volatility: 0.111<br>Sharpe Ratio: 4.402<br>XOM_Close: Weight=0.000<br>DUK_Close: Weight=0.216<br>VRTX_Close: Weight=0.058<br>PYPL_Close: Weight=0.150<br>BABA_Close: Weight=0.093<br>CAT_Close: Weight=0.349<br>ISRG_Close: Weight=0.135<br>AMZN_Close: Weight=0.000",
                    "Return: 48.987%<br>Volatility: 0.111<br>Sharpe Ratio: 4.402<br>XOM_Close: Weight=0.000<br>DUK_Close: Weight=0.216<br>VRTX_Close: Weight=0.058<br>PYPL_Close: Weight=0.150<br>BABA_Close: Weight=0.093<br>CAT_Close: Weight=0.349<br>ISRG_Close: Weight=0.135<br>MA_Close: Weight=0.000",
                    "Return: 48.992%<br>Volatility: 0.111<br>Sharpe Ratio: 4.402<br>XOM_Close: Weight=0.000<br>DUK_Close: Weight=0.216<br>VRTX_Close: Weight=0.058<br>PYPL_Close: Weight=0.150<br>BABA_Close: Weight=0.093<br>CAT_Close: Weight=0.349<br>ISRG_Close: Weight=0.135<br>META_Close: Weight=0.000",
                    "Return: 51.530%<br>Volatility: 0.105<br>Sharpe Ratio: 4.929<br>XOM_Close: Weight=0.000<br>DUK_Close: Weight=0.152<br>VRTX_Close: Weight=0.038<br>PYPL_Close: Weight=0.083<br>BABA_Close: Weight=0.057<br>CAT_Close: Weight=0.253<br>ISRG_Close: Weight=0.130<br>BA_Close: Weight=0.286",
                    "Return: 51.731%<br>Volatility: 0.106<br>Sharpe Ratio: 4.891<br>XOM_Close: Weight=0.000<br>DUK_Close: Weight=0.150<br>PYPL_Close: Weight=0.076<br>BABA_Close: Weight=0.059<br>CAT_Close: Weight=0.253<br>ISRG_Close: Weight=0.144<br>BA_Close: Weight=0.301<br>NVDA_Close: Weight=0.016",
                    "Return: 51.530%<br>Volatility: 0.105<br>Sharpe Ratio: 4.929<br>XOM_Close: Weight=0.000<br>DUK_Close: Weight=0.152<br>PYPL_Close: Weight=0.083<br>BABA_Close: Weight=0.057<br>CAT_Close: Weight=0.253<br>ISRG_Close: Weight=0.130<br>BA_Close: Weight=0.286<br>VRTX_Close: Weight=0.038",
                    "Return: 51.299%<br>Volatility: 0.105<br>Sharpe Ratio: 4.885<br>XOM_Close: Weight=0.000<br>DUK_Close: Weight=0.152<br>PYPL_Close: Weight=0.081<br>BABA_Close: Weight=0.067<br>CAT_Close: Weight=0.256<br>ISRG_Close: Weight=0.147<br>BA_Close: Weight=0.297<br>ADBE_Close: Weight=0.000",
                    "Return: 51.301%<br>Volatility: 0.105<br>Sharpe Ratio: 4.885<br>XOM_Close: Weight=0.000<br>DUK_Close: Weight=0.152<br>PYPL_Close: Weight=0.081<br>BABA_Close: Weight=0.067<br>CAT_Close: Weight=0.256<br>ISRG_Close: Weight=0.148<br>BA_Close: Weight=0.297<br>NFLX_Close: Weight=0.000",
                    "Return: 51.297%<br>Volatility: 0.105<br>Sharpe Ratio: 4.885<br>XOM_Close: Weight=0.000<br>DUK_Close: Weight=0.152<br>PYPL_Close: Weight=0.081<br>BABA_Close: Weight=0.067<br>CAT_Close: Weight=0.256<br>ISRG_Close: Weight=0.147<br>BA_Close: Weight=0.297<br>AMD_Close: Weight=0.000",
                    "Return: 51.296%<br>Volatility: 0.105<br>Sharpe Ratio: 4.885<br>XOM_Close: Weight=0.000<br>DUK_Close: Weight=0.152<br>PYPL_Close: Weight=0.081<br>BABA_Close: Weight=0.067<br>CAT_Close: Weight=0.256<br>ISRG_Close: Weight=0.147<br>BA_Close: Weight=0.297<br>TSLA_Close: Weight=0.000",
                    "Return: 51.284%<br>Volatility: 0.105<br>Sharpe Ratio: 4.885<br>XOM_Close: Weight=0.000<br>DUK_Close: Weight=0.152<br>PYPL_Close: Weight=0.081<br>BABA_Close: Weight=0.067<br>CAT_Close: Weight=0.256<br>ISRG_Close: Weight=0.147<br>BA_Close: Weight=0.297<br>MA_Close: Weight=0.000",
                    "Return: 50.950%<br>Volatility: 0.104<br>Sharpe Ratio: 4.891<br>XOM_Close: Weight=0.000<br>DUK_Close: Weight=0.147<br>PYPL_Close: Weight=0.074<br>BABA_Close: Weight=0.061<br>CAT_Close: Weight=0.252<br>ISRG_Close: Weight=0.143<br>BA_Close: Weight=0.295<br>AMZN_Close: Weight=0.029",
                    "Return: 51.297%<br>Volatility: 0.105<br>Sharpe Ratio: 4.885<br>XOM_Close: Weight=0.000<br>DUK_Close: Weight=0.152<br>PYPL_Close: Weight=0.081<br>BABA_Close: Weight=0.067<br>CAT_Close: Weight=0.256<br>ISRG_Close: Weight=0.147<br>BA_Close: Weight=0.297<br>TXN_Close: Weight=0.000",
                    "Return: 51.297%<br>Volatility: 0.105<br>Sharpe Ratio: 4.885<br>XOM_Close: Weight=0.000<br>DUK_Close: Weight=0.152<br>PYPL_Close: Weight=0.081<br>BABA_Close: Weight=0.067<br>CAT_Close: Weight=0.256<br>ISRG_Close: Weight=0.147<br>BA_Close: Weight=0.297<br>META_Close: Weight=0.000",
                    "Return: 50.447%<br>Volatility: 0.103<br>Sharpe Ratio: 4.899<br>XOM_Close: Weight=0.000<br>DUK_Close: Weight=0.142<br>PYPL_Close: Weight=0.068<br>BABA_Close: Weight=0.060<br>CAT_Close: Weight=0.245<br>ISRG_Close: Weight=0.131<br>BA_Close: Weight=0.292<br>MSFT_Close: Weight=0.062",
                    "Return: 54.913%<br>Volatility: 0.100<br>Sharpe Ratio: 5.474<br>XOM_Close: Weight=0.000<br>DUK_Close: Weight=0.057<br>PYPL_Close: Weight=0.034<br>BABA_Close: Weight=0.043<br>CAT_Close: Weight=0.222<br>ISRG_Close: Weight=0.112<br>BA_Close: Weight=0.269<br>ABBV_Close: Weight=0.264",
                    "Return: 56.334%<br>Volatility: 0.103<br>Sharpe Ratio: 5.473<br>XOM_Close: Weight=0.000<br>DUK_Close: Weight=0.039<br>PYPL_Close: Weight=0.033<br>CAT_Close: Weight=0.223<br>ISRG_Close: Weight=0.112<br>BA_Close: Weight=0.286<br>ABBV_Close: Weight=0.276<br>NVDA_Close: Weight=0.030",
                    "Return: 55.721%<br>Volatility: 0.102<br>Sharpe Ratio: 5.456<br>XOM_Close: Weight=0.000<br>DUK_Close: Weight=0.042<br>PYPL_Close: Weight=0.049<br>CAT_Close: Weight=0.231<br>ISRG_Close: Weight=0.114<br>BA_Close: Weight=0.278<br>ABBV_Close: Weight=0.267<br>VRTX_Close: Weight=0.018",
                    "Return: 54.913%<br>Volatility: 0.100<br>Sharpe Ratio: 5.474<br>XOM_Close: Weight=0.000<br>DUK_Close: Weight=0.057<br>PYPL_Close: Weight=0.034<br>CAT_Close: Weight=0.222<br>ISRG_Close: Weight=0.112<br>BA_Close: Weight=0.269<br>ABBV_Close: Weight=0.264<br>BABA_Close: Weight=0.043",
                    "Return: 55.782%<br>Volatility: 0.102<br>Sharpe Ratio: 5.445<br>XOM_Close: Weight=0.000<br>DUK_Close: Weight=0.038<br>PYPL_Close: Weight=0.048<br>CAT_Close: Weight=0.233<br>ISRG_Close: Weight=0.122<br>BA_Close: Weight=0.284<br>ABBV_Close: Weight=0.275<br>ADBE_Close: Weight=0.000",
                    "Return: 55.785%<br>Volatility: 0.102<br>Sharpe Ratio: 5.445<br>XOM_Close: Weight=0.000<br>DUK_Close: Weight=0.038<br>PYPL_Close: Weight=0.048<br>CAT_Close: Weight=0.233<br>ISRG_Close: Weight=0.122<br>BA_Close: Weight=0.284<br>ABBV_Close: Weight=0.275<br>NFLX_Close: Weight=0.000",
                    "Return: 55.785%<br>Volatility: 0.102<br>Sharpe Ratio: 5.445<br>XOM_Close: Weight=0.000<br>DUK_Close: Weight=0.038<br>PYPL_Close: Weight=0.048<br>CAT_Close: Weight=0.233<br>ISRG_Close: Weight=0.122<br>BA_Close: Weight=0.284<br>ABBV_Close: Weight=0.275<br>MA_Close: Weight=0.000",
                    "Return: 55.788%<br>Volatility: 0.102<br>Sharpe Ratio: 5.445<br>XOM_Close: Weight=0.000<br>DUK_Close: Weight=0.037<br>PYPL_Close: Weight=0.048<br>CAT_Close: Weight=0.233<br>ISRG_Close: Weight=0.122<br>BA_Close: Weight=0.284<br>ABBV_Close: Weight=0.276<br>AMD_Close: Weight=0.000",
                    "Return: 55.789%<br>Volatility: 0.102<br>Sharpe Ratio: 5.445<br>XOM_Close: Weight=0.000<br>DUK_Close: Weight=0.037<br>PYPL_Close: Weight=0.048<br>CAT_Close: Weight=0.233<br>ISRG_Close: Weight=0.122<br>BA_Close: Weight=0.284<br>ABBV_Close: Weight=0.275<br>TSLA_Close: Weight=0.000",
                    "Return: 55.785%<br>Volatility: 0.102<br>Sharpe Ratio: 5.445<br>XOM_Close: Weight=0.000<br>DUK_Close: Weight=0.037<br>PYPL_Close: Weight=0.048<br>CAT_Close: Weight=0.233<br>ISRG_Close: Weight=0.122<br>BA_Close: Weight=0.284<br>ABBV_Close: Weight=0.275<br>AMZN_Close: Weight=0.000",
                    "Return: 55.787%<br>Volatility: 0.102<br>Sharpe Ratio: 5.445<br>XOM_Close: Weight=0.000<br>DUK_Close: Weight=0.037<br>PYPL_Close: Weight=0.048<br>CAT_Close: Weight=0.233<br>ISRG_Close: Weight=0.122<br>BA_Close: Weight=0.284<br>ABBV_Close: Weight=0.275<br>MSFT_Close: Weight=0.000",
                    "Return: 55.782%<br>Volatility: 0.102<br>Sharpe Ratio: 5.445<br>XOM_Close: Weight=0.000<br>DUK_Close: Weight=0.038<br>PYPL_Close: Weight=0.048<br>CAT_Close: Weight=0.233<br>ISRG_Close: Weight=0.122<br>BA_Close: Weight=0.284<br>ABBV_Close: Weight=0.275<br>TXN_Close: Weight=0.000",
                    "Return: 54.305%<br>Volatility: 0.099<br>Sharpe Ratio: 5.473<br>XOM_Close: Weight=0.000<br>DUK_Close: Weight=0.049<br>PYPL_Close: Weight=0.047<br>CAT_Close: Weight=0.201<br>ISRG_Close: Weight=0.114<br>BA_Close: Weight=0.268<br>ABBV_Close: Weight=0.258<br>DE_Close: Weight=0.064",
                    "Return: 55.781%<br>Volatility: 0.102<br>Sharpe Ratio: 5.445<br>XOM_Close: Weight=0.000<br>DUK_Close: Weight=0.038<br>PYPL_Close: Weight=0.048<br>CAT_Close: Weight=0.233<br>ISRG_Close: Weight=0.122<br>BA_Close: Weight=0.284<br>ABBV_Close: Weight=0.275<br>META_Close: Weight=0.000",
                    "Return: 55.785%<br>Volatility: 0.102<br>Sharpe Ratio: 5.445<br>XOM_Close: Weight=0.000<br>DUK_Close: Weight=0.037<br>PYPL_Close: Weight=0.048<br>CAT_Close: Weight=0.233<br>ISRG_Close: Weight=0.122<br>BA_Close: Weight=0.284<br>ABBV_Close: Weight=0.275<br>V_Close: Weight=0.000",
                    "Return: 55.798%<br>Volatility: 0.102<br>Sharpe Ratio: 5.445<br>XOM_Close: Weight=0.000<br>DUK_Close: Weight=0.037<br>PYPL_Close: Weight=0.048<br>CAT_Close: Weight=0.233<br>ISRG_Close: Weight=0.122<br>BA_Close: Weight=0.284<br>ABBV_Close: Weight=0.275<br>EW_Close: Weight=0.000",
                    "Return: 55.601%<br>Volatility: 0.102<br>Sharpe Ratio: 5.445<br>XOM_Close: Weight=0.000<br>DUK_Close: Weight=0.037<br>PYPL_Close: Weight=0.047<br>CAT_Close: Weight=0.231<br>ISRG_Close: Weight=0.121<br>BA_Close: Weight=0.283<br>ABBV_Close: Weight=0.273<br>INTC_Close: Weight=0.008",
                    "Return: 54.474%<br>Volatility: 0.099<br>Sharpe Ratio: 5.507<br>XOM_Close: Weight=0.000<br>DUK_Close: Weight=0.010<br>PYPL_Close: Weight=0.031<br>CAT_Close: Weight=0.190<br>ISRG_Close: Weight=0.112<br>BA_Close: Weight=0.280<br>ABBV_Close: Weight=0.252<br>MCD_Close: Weight=0.126",
                    "Return: 54.833%<br>Volatility: 0.099<br>Sharpe Ratio: 5.536<br>XOM_Close: Weight=0.000<br>DUK_Close: Weight=0.009<br>CAT_Close: Weight=0.179<br>ISRG_Close: Weight=0.108<br>BA_Close: Weight=0.285<br>ABBV_Close: Weight=0.254<br>MCD_Close: Weight=0.133<br>NVDA_Close: Weight=0.032",
                    "Return: 54.833%<br>Volatility: 0.099<br>Sharpe Ratio: 5.536<br>XOM_Close: Weight=0.000<br>DUK_Close: Weight=0.009<br>CAT_Close: Weight=0.179<br>ISRG_Close: Weight=0.108<br>BA_Close: Weight=0.285<br>ABBV_Close: Weight=0.254<br>MCD_Close: Weight=0.133<br>NVDA_Close: Weight=0.032",
                    "Return: 53.967%<br>Volatility: 0.098<br>Sharpe Ratio: 5.508<br>XOM_Close: Weight=0.000<br>DUK_Close: Weight=0.011<br>CAT_Close: Weight=0.189<br>ISRG_Close: Weight=0.120<br>BA_Close: Weight=0.281<br>ABBV_Close: Weight=0.248<br>MCD_Close: Weight=0.135<br>VRTX_Close: Weight=0.016",
                    "Return: 54.474%<br>Volatility: 0.099<br>Sharpe Ratio: 5.507<br>XOM_Close: Weight=0.000<br>DUK_Close: Weight=0.010<br>CAT_Close: Weight=0.190<br>ISRG_Close: Weight=0.112<br>BA_Close: Weight=0.280<br>ABBV_Close: Weight=0.252<br>MCD_Close: Weight=0.126<br>PYPL_Close: Weight=0.031",
                    "Return: 53.266%<br>Volatility: 0.096<br>Sharpe Ratio: 5.540<br>XOM_Close: Weight=0.000<br>DUK_Close: Weight=0.029<br>CAT_Close: Weight=0.177<br>ISRG_Close: Weight=0.107<br>BA_Close: Weight=0.266<br>ABBV_Close: Weight=0.240<br>MCD_Close: Weight=0.132<br>BABA_Close: Weight=0.048",
                    "Return: 54.833%<br>Volatility: 0.099<br>Sharpe Ratio: 5.536<br>XOM_Close: Weight=0.000<br>DUK_Close: Weight=0.009<br>CAT_Close: Weight=0.179<br>ISRG_Close: Weight=0.108<br>BA_Close: Weight=0.285<br>ABBV_Close: Weight=0.254<br>MCD_Close: Weight=0.133<br>NVDA_Close: Weight=0.032",
                    "Return: 53.967%<br>Volatility: 0.098<br>Sharpe Ratio: 5.508<br>XOM_Close: Weight=0.000<br>DUK_Close: Weight=0.011<br>CAT_Close: Weight=0.189<br>ISRG_Close: Weight=0.120<br>BA_Close: Weight=0.281<br>ABBV_Close: Weight=0.248<br>MCD_Close: Weight=0.135<br>VRTX_Close: Weight=0.016",
                    "Return: 54.474%<br>Volatility: 0.099<br>Sharpe Ratio: 5.507<br>XOM_Close: Weight=0.000<br>DUK_Close: Weight=0.010<br>CAT_Close: Weight=0.190<br>ISRG_Close: Weight=0.112<br>BA_Close: Weight=0.280<br>ABBV_Close: Weight=0.252<br>MCD_Close: Weight=0.126<br>PYPL_Close: Weight=0.031",
                    "Return: 53.266%<br>Volatility: 0.096<br>Sharpe Ratio: 5.540<br>XOM_Close: Weight=0.000<br>DUK_Close: Weight=0.029<br>CAT_Close: Weight=0.177<br>ISRG_Close: Weight=0.107<br>BA_Close: Weight=0.266<br>ABBV_Close: Weight=0.240<br>MCD_Close: Weight=0.132<br>BABA_Close: Weight=0.048",
                    "Return: 54.033%<br>Volatility: 0.098<br>Sharpe Ratio: 5.497<br>XOM_Close: Weight=0.000<br>DUK_Close: Weight=0.007<br>CAT_Close: Weight=0.190<br>ISRG_Close: Weight=0.127<br>BA_Close: Weight=0.286<br>ABBV_Close: Weight=0.256<br>MCD_Close: Weight=0.135<br>ADBE_Close: Weight=0.000",
                    "Return: 54.026%<br>Volatility: 0.098<br>Sharpe Ratio: 5.497<br>XOM_Close: Weight=0.000<br>DUK_Close: Weight=0.007<br>CAT_Close: Weight=0.190<br>ISRG_Close: Weight=0.127<br>BA_Close: Weight=0.286<br>ABBV_Close: Weight=0.255<br>MCD_Close: Weight=0.135<br>NFLX_Close: Weight=0.000",
                    "Return: 54.036%<br>Volatility: 0.098<br>Sharpe Ratio: 5.497<br>XOM_Close: Weight=0.000<br>DUK_Close: Weight=0.007<br>CAT_Close: Weight=0.190<br>ISRG_Close: Weight=0.127<br>BA_Close: Weight=0.286<br>ABBV_Close: Weight=0.256<br>MCD_Close: Weight=0.135<br>AMD_Close: Weight=0.000",
                    "Return: 54.037%<br>Volatility: 0.098<br>Sharpe Ratio: 5.497<br>XOM_Close: Weight=0.000<br>DUK_Close: Weight=0.007<br>CAT_Close: Weight=0.190<br>ISRG_Close: Weight=0.127<br>BA_Close: Weight=0.286<br>ABBV_Close: Weight=0.256<br>MCD_Close: Weight=0.135<br>MA_Close: Weight=0.000",
                    "Return: 54.025%<br>Volatility: 0.098<br>Sharpe Ratio: 5.497<br>XOM_Close: Weight=0.000<br>DUK_Close: Weight=0.007<br>CAT_Close: Weight=0.190<br>ISRG_Close: Weight=0.127<br>BA_Close: Weight=0.286<br>ABBV_Close: Weight=0.255<br>MCD_Close: Weight=0.135<br>TSLA_Close: Weight=0.000",
                    "Return: 54.036%<br>Volatility: 0.098<br>Sharpe Ratio: 5.497<br>XOM_Close: Weight=0.000<br>DUK_Close: Weight=0.007<br>CAT_Close: Weight=0.190<br>ISRG_Close: Weight=0.127<br>BA_Close: Weight=0.286<br>ABBV_Close: Weight=0.256<br>MCD_Close: Weight=0.135<br>AMZN_Close: Weight=0.000",
                    "Return: 52.722%<br>Volatility: 0.095<br>Sharpe Ratio: 5.524<br>XOM_Close: Weight=0.000<br>DUK_Close: Weight=0.018<br>CAT_Close: Weight=0.162<br>ISRG_Close: Weight=0.119<br>BA_Close: Weight=0.271<br>ABBV_Close: Weight=0.240<br>MCD_Close: Weight=0.129<br>DE_Close: Weight=0.060",
                    "Return: 54.031%<br>Volatility: 0.098<br>Sharpe Ratio: 5.497<br>XOM_Close: Weight=0.000<br>DUK_Close: Weight=0.007<br>CAT_Close: Weight=0.190<br>ISRG_Close: Weight=0.127<br>BA_Close: Weight=0.286<br>ABBV_Close: Weight=0.255<br>MCD_Close: Weight=0.135<br>MSFT_Close: Weight=0.000",
                    "Return: 54.034%<br>Volatility: 0.098<br>Sharpe Ratio: 5.497<br>XOM_Close: Weight=0.000<br>DUK_Close: Weight=0.007<br>CAT_Close: Weight=0.190<br>ISRG_Close: Weight=0.127<br>BA_Close: Weight=0.286<br>ABBV_Close: Weight=0.256<br>MCD_Close: Weight=0.135<br>TXN_Close: Weight=0.000",
                    "Return: 54.038%<br>Volatility: 0.098<br>Sharpe Ratio: 5.497<br>XOM_Close: Weight=0.000<br>DUK_Close: Weight=0.007<br>CAT_Close: Weight=0.190<br>ISRG_Close: Weight=0.127<br>BA_Close: Weight=0.286<br>ABBV_Close: Weight=0.256<br>MCD_Close: Weight=0.135<br>EW_Close: Weight=0.000",
                    "Return: 54.029%<br>Volatility: 0.098<br>Sharpe Ratio: 5.497<br>XOM_Close: Weight=0.000<br>DUK_Close: Weight=0.007<br>CAT_Close: Weight=0.190<br>ISRG_Close: Weight=0.127<br>BA_Close: Weight=0.286<br>ABBV_Close: Weight=0.255<br>MCD_Close: Weight=0.135<br>META_Close: Weight=0.000",
                    "Return: 52.706%<br>Volatility: 0.095<br>Sharpe Ratio: 5.548<br>XOM_Close: Weight=0.000<br>DUK_Close: Weight=0.000<br>CAT_Close: Weight=0.180<br>ISRG_Close: Weight=0.105<br>BA_Close: Weight=0.269<br>ABBV_Close: Weight=0.230<br>MCD_Close: Weight=0.119<br>UNH_Close: Weight=0.098",
                    "Return: 54.833%<br>Volatility: 0.099<br>Sharpe Ratio: 5.536<br>XOM_Close: Weight=0.000<br>DUK_Close: Weight=0.009<br>CAT_Close: Weight=0.179<br>ISRG_Close: Weight=0.108<br>BA_Close: Weight=0.285<br>ABBV_Close: Weight=0.254<br>MCD_Close: Weight=0.133<br>NVDA_Close: Weight=0.032",
                    "Return: 53.967%<br>Volatility: 0.098<br>Sharpe Ratio: 5.508<br>XOM_Close: Weight=0.000<br>DUK_Close: Weight=0.011<br>CAT_Close: Weight=0.189<br>ISRG_Close: Weight=0.120<br>BA_Close: Weight=0.281<br>ABBV_Close: Weight=0.248<br>MCD_Close: Weight=0.135<br>VRTX_Close: Weight=0.016",
                    "Return: 54.474%<br>Volatility: 0.099<br>Sharpe Ratio: 5.507<br>XOM_Close: Weight=0.000<br>DUK_Close: Weight=0.010<br>CAT_Close: Weight=0.190<br>ISRG_Close: Weight=0.112<br>BA_Close: Weight=0.280<br>ABBV_Close: Weight=0.252<br>MCD_Close: Weight=0.126<br>PYPL_Close: Weight=0.031",
                    "Return: 53.266%<br>Volatility: 0.096<br>Sharpe Ratio: 5.540<br>XOM_Close: Weight=0.000<br>DUK_Close: Weight=0.029<br>CAT_Close: Weight=0.177<br>ISRG_Close: Weight=0.107<br>BA_Close: Weight=0.266<br>ABBV_Close: Weight=0.240<br>MCD_Close: Weight=0.132<br>BABA_Close: Weight=0.048",
                    "Return: 54.033%<br>Volatility: 0.098<br>Sharpe Ratio: 5.497<br>XOM_Close: Weight=0.000<br>DUK_Close: Weight=0.007<br>CAT_Close: Weight=0.190<br>ISRG_Close: Weight=0.127<br>BA_Close: Weight=0.286<br>ABBV_Close: Weight=0.256<br>MCD_Close: Weight=0.135<br>ADBE_Close: Weight=0.000",
                    "Return: 54.026%<br>Volatility: 0.098<br>Sharpe Ratio: 5.497<br>XOM_Close: Weight=0.000<br>DUK_Close: Weight=0.007<br>CAT_Close: Weight=0.190<br>ISRG_Close: Weight=0.127<br>BA_Close: Weight=0.286<br>ABBV_Close: Weight=0.255<br>MCD_Close: Weight=0.135<br>NFLX_Close: Weight=0.000",
                    "Return: 54.036%<br>Volatility: 0.098<br>Sharpe Ratio: 5.497<br>XOM_Close: Weight=0.000<br>DUK_Close: Weight=0.007<br>CAT_Close: Weight=0.190<br>ISRG_Close: Weight=0.127<br>BA_Close: Weight=0.286<br>ABBV_Close: Weight=0.256<br>MCD_Close: Weight=0.135<br>AMD_Close: Weight=0.000",
                    "Return: 54.037%<br>Volatility: 0.098<br>Sharpe Ratio: 5.497<br>XOM_Close: Weight=0.000<br>DUK_Close: Weight=0.007<br>CAT_Close: Weight=0.190<br>ISRG_Close: Weight=0.127<br>BA_Close: Weight=0.286<br>ABBV_Close: Weight=0.256<br>MCD_Close: Weight=0.135<br>MA_Close: Weight=0.000",
                    "Return: 54.025%<br>Volatility: 0.098<br>Sharpe Ratio: 5.497<br>XOM_Close: Weight=0.000<br>DUK_Close: Weight=0.007<br>CAT_Close: Weight=0.190<br>ISRG_Close: Weight=0.127<br>BA_Close: Weight=0.286<br>ABBV_Close: Weight=0.255<br>MCD_Close: Weight=0.135<br>TSLA_Close: Weight=0.000",
                    "Return: 54.036%<br>Volatility: 0.098<br>Sharpe Ratio: 5.497<br>XOM_Close: Weight=0.000<br>DUK_Close: Weight=0.007<br>CAT_Close: Weight=0.190<br>ISRG_Close: Weight=0.127<br>BA_Close: Weight=0.286<br>ABBV_Close: Weight=0.256<br>MCD_Close: Weight=0.135<br>AMZN_Close: Weight=0.000",
                    "Return: 52.722%<br>Volatility: 0.095<br>Sharpe Ratio: 5.524<br>XOM_Close: Weight=0.000<br>DUK_Close: Weight=0.018<br>CAT_Close: Weight=0.162<br>ISRG_Close: Weight=0.119<br>BA_Close: Weight=0.271<br>ABBV_Close: Weight=0.240<br>MCD_Close: Weight=0.129<br>DE_Close: Weight=0.060",
                    "Return: 54.031%<br>Volatility: 0.098<br>Sharpe Ratio: 5.497<br>XOM_Close: Weight=0.000<br>DUK_Close: Weight=0.007<br>CAT_Close: Weight=0.190<br>ISRG_Close: Weight=0.127<br>BA_Close: Weight=0.286<br>ABBV_Close: Weight=0.255<br>MCD_Close: Weight=0.135<br>MSFT_Close: Weight=0.000",
                    "Return: 54.034%<br>Volatility: 0.098<br>Sharpe Ratio: 5.497<br>XOM_Close: Weight=0.000<br>DUK_Close: Weight=0.007<br>CAT_Close: Weight=0.190<br>ISRG_Close: Weight=0.127<br>BA_Close: Weight=0.286<br>ABBV_Close: Weight=0.256<br>MCD_Close: Weight=0.135<br>TXN_Close: Weight=0.000",
                    "Return: 54.038%<br>Volatility: 0.098<br>Sharpe Ratio: 5.497<br>XOM_Close: Weight=0.000<br>DUK_Close: Weight=0.007<br>CAT_Close: Weight=0.190<br>ISRG_Close: Weight=0.127<br>BA_Close: Weight=0.286<br>ABBV_Close: Weight=0.256<br>MCD_Close: Weight=0.135<br>EW_Close: Weight=0.000",
                    "Return: 54.029%<br>Volatility: 0.098<br>Sharpe Ratio: 5.497<br>XOM_Close: Weight=0.000<br>DUK_Close: Weight=0.007<br>CAT_Close: Weight=0.190<br>ISRG_Close: Weight=0.127<br>BA_Close: Weight=0.286<br>ABBV_Close: Weight=0.255<br>MCD_Close: Weight=0.135<br>META_Close: Weight=0.000",
                    "Return: 52.706%<br>Volatility: 0.095<br>Sharpe Ratio: 5.548<br>XOM_Close: Weight=0.000<br>DUK_Close: Weight=0.000<br>CAT_Close: Weight=0.180<br>ISRG_Close: Weight=0.105<br>BA_Close: Weight=0.269<br>ABBV_Close: Weight=0.230<br>MCD_Close: Weight=0.119<br>UNH_Close: Weight=0.098",
                    "Return: 54.032%<br>Volatility: 0.098<br>Sharpe Ratio: 5.497<br>XOM_Close: Weight=0.000<br>DUK_Close: Weight=0.007<br>CAT_Close: Weight=0.190<br>ISRG_Close: Weight=0.127<br>BA_Close: Weight=0.286<br>ABBV_Close: Weight=0.256<br>MCD_Close: Weight=0.135<br>V_Close: Weight=0.000",
                    "Return: 53.704%<br>Volatility: 0.098<br>Sharpe Ratio: 5.499<br>XOM_Close: Weight=0.000<br>DUK_Close: Weight=0.007<br>CAT_Close: Weight=0.187<br>ISRG_Close: Weight=0.123<br>BA_Close: Weight=0.283<br>ABBV_Close: Weight=0.251<br>MCD_Close: Weight=0.134<br>INTC_Close: Weight=0.015",
                    "Return: 54.035%<br>Volatility: 0.098<br>Sharpe Ratio: 5.497<br>XOM_Close: Weight=0.000<br>DUK_Close: Weight=0.007<br>CAT_Close: Weight=0.190<br>ISRG_Close: Weight=0.127<br>BA_Close: Weight=0.286<br>ABBV_Close: Weight=0.256<br>MCD_Close: Weight=0.135<br>SYK_Close: Weight=0.000",
                    "Return: 54.036%<br>Volatility: 0.098<br>Sharpe Ratio: 5.497<br>XOM_Close: Weight=0.000<br>DUK_Close: Weight=0.007<br>CAT_Close: Weight=0.190<br>ISRG_Close: Weight=0.127<br>BA_Close: Weight=0.286<br>ABBV_Close: Weight=0.256<br>MCD_Close: Weight=0.135<br>EMR_Close: Weight=0.000",
                    "Return: 54.036%<br>Volatility: 0.098<br>Sharpe Ratio: 5.497<br>XOM_Close: Weight=0.000<br>DUK_Close: Weight=0.007<br>CAT_Close: Weight=0.190<br>ISRG_Close: Weight=0.127<br>BA_Close: Weight=0.286<br>ABBV_Close: Weight=0.256<br>MCD_Close: Weight=0.135<br>RMD_Close: Weight=0.000",
                    "Return: 54.030%<br>Volatility: 0.098<br>Sharpe Ratio: 5.497<br>XOM_Close: Weight=0.000<br>DUK_Close: Weight=0.007<br>CAT_Close: Weight=0.190<br>ISRG_Close: Weight=0.127<br>BA_Close: Weight=0.286<br>ABBV_Close: Weight=0.256<br>MCD_Close: Weight=0.135<br>SNAP_Close: Weight=0.000",
                    "Return: 54.022%<br>Volatility: 0.098<br>Sharpe Ratio: 5.497<br>XOM_Close: Weight=0.000<br>DUK_Close: Weight=0.007<br>CAT_Close: Weight=0.190<br>ISRG_Close: Weight=0.127<br>BA_Close: Weight=0.286<br>ABBV_Close: Weight=0.255<br>MCD_Close: Weight=0.135<br>SAP_Close: Weight=0.000",
                    "Return: 54.036%<br>Volatility: 0.098<br>Sharpe Ratio: 5.497<br>XOM_Close: Weight=0.000<br>DUK_Close: Weight=0.007<br>CAT_Close: Weight=0.190<br>ISRG_Close: Weight=0.127<br>BA_Close: Weight=0.286<br>ABBV_Close: Weight=0.256<br>MCD_Close: Weight=0.135<br>QCOM_Close: Weight=0.000",
                    "Return: 54.026%<br>Volatility: 0.098<br>Sharpe Ratio: 5.497<br>XOM_Close: Weight=0.000<br>DUK_Close: Weight=0.007<br>CAT_Close: Weight=0.190<br>ISRG_Close: Weight=0.127<br>BA_Close: Weight=0.286<br>ABBV_Close: Weight=0.256<br>MCD_Close: Weight=0.135<br>CRM_Close: Weight=0.000",
                    "Return: 54.045%<br>Volatility: 0.098<br>Sharpe Ratio: 5.497<br>XOM_Close: Weight=0.000<br>DUK_Close: Weight=0.007<br>CAT_Close: Weight=0.190<br>ISRG_Close: Weight=0.127<br>BA_Close: Weight=0.286<br>ABBV_Close: Weight=0.256<br>MCD_Close: Weight=0.135<br>ABT_Close: Weight=0.000",
                    "Return: 54.040%<br>Volatility: 0.098<br>Sharpe Ratio: 5.497<br>XOM_Close: Weight=0.000<br>DUK_Close: Weight=0.007<br>CAT_Close: Weight=0.190<br>ISRG_Close: Weight=0.127<br>BA_Close: Weight=0.286<br>ABBV_Close: Weight=0.256<br>MCD_Close: Weight=0.135<br>ETN_Close: Weight=0.000",
                    "Return: 54.043%<br>Volatility: 0.098<br>Sharpe Ratio: 5.497<br>XOM_Close: Weight=0.000<br>DUK_Close: Weight=0.007<br>CAT_Close: Weight=0.190<br>ISRG_Close: Weight=0.127<br>BA_Close: Weight=0.286<br>ABBV_Close: Weight=0.256<br>MCD_Close: Weight=0.135<br>HON_Close: Weight=0.000",
                    "Return: 54.035%<br>Volatility: 0.098<br>Sharpe Ratio: 5.497<br>XOM_Close: Weight=0.000<br>DUK_Close: Weight=0.007<br>CAT_Close: Weight=0.190<br>ISRG_Close: Weight=0.127<br>BA_Close: Weight=0.286<br>ABBV_Close: Weight=0.256<br>MCD_Close: Weight=0.135<br>AAPL_Close: Weight=0.000",
                    "Return: 54.044%<br>Volatility: 0.098<br>Sharpe Ratio: 5.497<br>XOM_Close: Weight=0.000<br>DUK_Close: Weight=0.007<br>CAT_Close: Weight=0.190<br>ISRG_Close: Weight=0.127<br>BA_Close: Weight=0.286<br>ABBV_Close: Weight=0.256<br>MCD_Close: Weight=0.135<br>GOOG_Close: Weight=0.000",
                    "Return: 54.028%<br>Volatility: 0.098<br>Sharpe Ratio: 5.497<br>XOM_Close: Weight=0.000<br>DUK_Close: Weight=0.007<br>CAT_Close: Weight=0.190<br>ISRG_Close: Weight=0.127<br>BA_Close: Weight=0.286<br>ABBV_Close: Weight=0.255<br>MCD_Close: Weight=0.135<br>GOOGL_Close: Weight=0.000",
                    "Return: 52.211%<br>Volatility: 0.095<br>Sharpe Ratio: 5.521<br>XOM_Close: Weight=0.000<br>DUK_Close: Weight=0.000<br>CAT_Close: Weight=0.172<br>ISRG_Close: Weight=0.114<br>BA_Close: Weight=0.267<br>ABBV_Close: Weight=0.236<br>MCD_Close: Weight=0.140<br>MMM_Close: Weight=0.071",
                    "Return: 54.034%<br>Volatility: 0.098<br>Sharpe Ratio: 5.497<br>XOM_Close: Weight=0.000<br>DUK_Close: Weight=0.007<br>CAT_Close: Weight=0.190<br>ISRG_Close: Weight=0.127<br>BA_Close: Weight=0.286<br>ABBV_Close: Weight=0.256<br>MCD_Close: Weight=0.135<br>BIIB_Close: Weight=0.000",
                    "Return: 54.040%<br>Volatility: 0.098<br>Sharpe Ratio: 5.497<br>XOM_Close: Weight=0.000<br>DUK_Close: Weight=0.007<br>CAT_Close: Weight=0.190<br>ISRG_Close: Weight=0.127<br>BA_Close: Weight=0.286<br>ABBV_Close: Weight=0.256<br>MCD_Close: Weight=0.135<br>MS_Close: Weight=0.000",
                    "Return: 52.805%<br>Volatility: 0.096<br>Sharpe Ratio: 5.510<br>XOM_Close: Weight=0.000<br>DUK_Close: Weight=0.002<br>CAT_Close: Weight=0.181<br>ISRG_Close: Weight=0.119<br>BA_Close: Weight=0.273<br>ABBV_Close: Weight=0.241<br>MCD_Close: Weight=0.131<br>ACN_Close: Weight=0.052",
                    "Return: 52.072%<br>Volatility: 0.090<br>Sharpe Ratio: 5.796<br>XOM_Close: Weight=0.000<br>DUK_Close: Weight=0.013<br>CAT_Close: Weight=0.152<br>ISRG_Close: Weight=0.099<br>BA_Close: Weight=0.252<br>ABBV_Close: Weight=0.218<br>MCD_Close: Weight=0.107<br>WMT_Close: Weight=0.159",
                    "Return: 50.921%<br>Volatility: 0.091<br>Sharpe Ratio: 5.597<br>XOM_Close: Weight=0.000<br>DUK_Close: Weight=0.000<br>ISRG_Close: Weight=0.084<br>BA_Close: Weight=0.293<br>ABBV_Close: Weight=0.218<br>MCD_Close: Weight=0.193<br>WMT_Close: Weight=0.174<br>NVDA_Close: Weight=0.037",
                    "Return: 49.604%<br>Volatility: 0.090<br>Sharpe Ratio: 5.531<br>XOM_Close: Weight=0.000<br>DUK_Close: Weight=0.000<br>ISRG_Close: Weight=0.106<br>BA_Close: Weight=0.297<br>ABBV_Close: Weight=0.218<br>MCD_Close: Weight=0.201<br>WMT_Close: Weight=0.178<br>PYPL_Close: Weight=0.000",
                    "Return: 49.756%<br>Volatility: 0.090<br>Sharpe Ratio: 5.547<br>XOM_Close: Weight=0.000<br>DUK_Close: Weight=0.000<br>ISRG_Close: Weight=0.098<br>BA_Close: Weight=0.292<br>ABBV_Close: Weight=0.211<br>MCD_Close: Weight=0.201<br>WMT_Close: Weight=0.179<br>VRTX_Close: Weight=0.018",
                    "Return: 52.072%<br>Volatility: 0.090<br>Sharpe Ratio: 5.796<br>XOM_Close: Weight=0.000<br>DUK_Close: Weight=0.013<br>ISRG_Close: Weight=0.099<br>BA_Close: Weight=0.252<br>ABBV_Close: Weight=0.218<br>MCD_Close: Weight=0.107<br>WMT_Close: Weight=0.159<br>CAT_Close: Weight=0.152",
                    "Return: 50.921%<br>Volatility: 0.091<br>Sharpe Ratio: 5.597<br>XOM_Close: Weight=0.000<br>DUK_Close: Weight=0.000<br>ISRG_Close: Weight=0.084<br>BA_Close: Weight=0.293<br>ABBV_Close: Weight=0.218<br>MCD_Close: Weight=0.193<br>WMT_Close: Weight=0.174<br>NVDA_Close: Weight=0.037",
                    "Return: 49.604%<br>Volatility: 0.090<br>Sharpe Ratio: 5.531<br>XOM_Close: Weight=0.000<br>DUK_Close: Weight=0.000<br>ISRG_Close: Weight=0.106<br>BA_Close: Weight=0.297<br>ABBV_Close: Weight=0.218<br>MCD_Close: Weight=0.201<br>WMT_Close: Weight=0.178<br>PYPL_Close: Weight=0.000",
                    "Return: 49.756%<br>Volatility: 0.090<br>Sharpe Ratio: 5.547<br>XOM_Close: Weight=0.000<br>DUK_Close: Weight=0.000<br>ISRG_Close: Weight=0.098<br>BA_Close: Weight=0.292<br>ABBV_Close: Weight=0.211<br>MCD_Close: Weight=0.201<br>WMT_Close: Weight=0.179<br>VRTX_Close: Weight=0.018",
                    "Return: 52.072%<br>Volatility: 0.090<br>Sharpe Ratio: 5.796<br>XOM_Close: Weight=0.000<br>DUK_Close: Weight=0.013<br>ISRG_Close: Weight=0.099<br>BA_Close: Weight=0.252<br>ABBV_Close: Weight=0.218<br>MCD_Close: Weight=0.107<br>WMT_Close: Weight=0.159<br>CAT_Close: Weight=0.152",
                    "Return: 49.601%<br>Volatility: 0.090<br>Sharpe Ratio: 5.531<br>XOM_Close: Weight=0.000<br>DUK_Close: Weight=0.000<br>ISRG_Close: Weight=0.105<br>BA_Close: Weight=0.297<br>ABBV_Close: Weight=0.217<br>MCD_Close: Weight=0.201<br>WMT_Close: Weight=0.178<br>ADBE_Close: Weight=0.002",
                    "Return: 49.494%<br>Volatility: 0.088<br>Sharpe Ratio: 5.598<br>XOM_Close: Weight=0.003<br>DUK_Close: Weight=0.012<br>ISRG_Close: Weight=0.086<br>BA_Close: Weight=0.274<br>ABBV_Close: Weight=0.204<br>MCD_Close: Weight=0.194<br>WMT_Close: Weight=0.172<br>BABA_Close: Weight=0.055",
                    "Return: 49.604%<br>Volatility: 0.090<br>Sharpe Ratio: 5.531<br>XOM_Close: Weight=0.000<br>DUK_Close: Weight=0.000<br>ISRG_Close: Weight=0.106<br>BA_Close: Weight=0.297<br>ABBV_Close: Weight=0.218<br>MCD_Close: Weight=0.201<br>WMT_Close: Weight=0.178<br>MA_Close: Weight=0.000",
                    "Return: 49.603%<br>Volatility: 0.090<br>Sharpe Ratio: 5.531<br>XOM_Close: Weight=0.000<br>DUK_Close: Weight=0.000<br>ISRG_Close: Weight=0.106<br>BA_Close: Weight=0.297<br>ABBV_Close: Weight=0.218<br>MCD_Close: Weight=0.201<br>WMT_Close: Weight=0.178<br>AMD_Close: Weight=0.000",
                    "Return: 49.604%<br>Volatility: 0.090<br>Sharpe Ratio: 5.531<br>XOM_Close: Weight=0.000<br>DUK_Close: Weight=0.000<br>ISRG_Close: Weight=0.106<br>BA_Close: Weight=0.297<br>ABBV_Close: Weight=0.218<br>MCD_Close: Weight=0.201<br>WMT_Close: Weight=0.178<br>NFLX_Close: Weight=0.000",
                    "Return: 49.604%<br>Volatility: 0.090<br>Sharpe Ratio: 5.531<br>XOM_Close: Weight=0.000<br>DUK_Close: Weight=0.000<br>ISRG_Close: Weight=0.106<br>BA_Close: Weight=0.297<br>ABBV_Close: Weight=0.218<br>MCD_Close: Weight=0.201<br>WMT_Close: Weight=0.178<br>TSLA_Close: Weight=0.000",
                    "Return: 49.505%<br>Volatility: 0.089<br>Sharpe Ratio: 5.533<br>XOM_Close: Weight=0.000<br>DUK_Close: Weight=0.000<br>ISRG_Close: Weight=0.103<br>BA_Close: Weight=0.296<br>ABBV_Close: Weight=0.215<br>MCD_Close: Weight=0.198<br>WMT_Close: Weight=0.178<br>AMZN_Close: Weight=0.010",
                    "Return: 49.289%<br>Volatility: 0.089<br>Sharpe Ratio: 5.536<br>XOM_Close: Weight=0.000<br>DUK_Close: Weight=0.000<br>ISRG_Close: Weight=0.097<br>BA_Close: Weight=0.293<br>ABBV_Close: Weight=0.211<br>MCD_Close: Weight=0.193<br>WMT_Close: Weight=0.178<br>MSFT_Close: Weight=0.029",
                    "Return: 49.606%<br>Volatility: 0.090<br>Sharpe Ratio: 5.531<br>XOM_Close: Weight=0.000<br>DUK_Close: Weight=0.000<br>ISRG_Close: Weight=0.106<br>BA_Close: Weight=0.297<br>ABBV_Close: Weight=0.218<br>MCD_Close: Weight=0.201<br>WMT_Close: Weight=0.178<br>EW_Close: Weight=0.000",
                    "Return: 48.559%<br>Volatility: 0.087<br>Sharpe Ratio: 5.567<br>XOM_Close: Weight=0.000<br>DUK_Close: Weight=0.000<br>ISRG_Close: Weight=0.090<br>BA_Close: Weight=0.282<br>ABBV_Close: Weight=0.199<br>MCD_Close: Weight=0.185<br>WMT_Close: Weight=0.168<br>UNH_Close: Weight=0.076",
                    "Return: 48.853%<br>Volatility: 0.087<br>Sharpe Ratio: 5.628<br>XOM_Close: Weight=0.000<br>DUK_Close: Weight=0.010<br>ISRG_Close: Weight=0.096<br>BA_Close: Weight=0.267<br>ABBV_Close: Weight=0.199<br>MCD_Close: Weight=0.172<br>WMT_Close: Weight=0.161<br>DE_Close: Weight=0.094",
                    "Return: 49.492%<br>Volatility: 0.089<br>Sharpe Ratio: 5.532<br>XOM_Close: Weight=0.000<br>DUK_Close: Weight=0.000<br>ISRG_Close: Weight=0.104<br>BA_Close: Weight=0.294<br>ABBV_Close: Weight=0.217<br>MCD_Close: Weight=0.199<br>WMT_Close: Weight=0.177<br>TXN_Close: Weight=0.010",
                    "Return: 49.605%<br>Volatility: 0.090<br>Sharpe Ratio: 5.531<br>XOM_Close: Weight=0.000<br>DUK_Close: Weight=0.000<br>ISRG_Close: Weight=0.106<br>BA_Close: Weight=0.297<br>ABBV_Close: Weight=0.218<br>MCD_Close: Weight=0.201<br>WMT_Close: Weight=0.178<br>V_Close: Weight=0.000",
                    "Return: 49.604%<br>Volatility: 0.090<br>Sharpe Ratio: 5.531<br>XOM_Close: Weight=0.000<br>DUK_Close: Weight=0.000<br>ISRG_Close: Weight=0.106<br>BA_Close: Weight=0.297<br>ABBV_Close: Weight=0.218<br>MCD_Close: Weight=0.201<br>WMT_Close: Weight=0.178<br>META_Close: Weight=0.000",
                    "Return: 49.247%<br>Volatility: 0.089<br>Sharpe Ratio: 5.536<br>XOM_Close: Weight=0.000<br>DUK_Close: Weight=0.000<br>ISRG_Close: Weight=0.102<br>BA_Close: Weight=0.292<br>ABBV_Close: Weight=0.212<br>MCD_Close: Weight=0.198<br>WMT_Close: Weight=0.175<br>INTC_Close: Weight=0.021",
                    "Return: 49.604%<br>Volatility: 0.090<br>Sharpe Ratio: 5.531<br>XOM_Close: Weight=0.000<br>DUK_Close: Weight=0.000<br>ISRG_Close: Weight=0.106<br>BA_Close: Weight=0.297<br>ABBV_Close: Weight=0.218<br>MCD_Close: Weight=0.201<br>WMT_Close: Weight=0.178<br>ABT_Close: Weight=0.000",
                    "Return: 49.604%<br>Volatility: 0.090<br>Sharpe Ratio: 5.531<br>XOM_Close: Weight=0.000<br>DUK_Close: Weight=0.000<br>ISRG_Close: Weight=0.106<br>BA_Close: Weight=0.297<br>ABBV_Close: Weight=0.218<br>MCD_Close: Weight=0.201<br>WMT_Close: Weight=0.178<br>SYK_Close: Weight=0.000",
                    "Return: 49.602%<br>Volatility: 0.090<br>Sharpe Ratio: 5.531<br>XOM_Close: Weight=0.000<br>DUK_Close: Weight=0.000<br>ISRG_Close: Weight=0.106<br>BA_Close: Weight=0.297<br>ABBV_Close: Weight=0.218<br>MCD_Close: Weight=0.201<br>WMT_Close: Weight=0.178<br>SNAP_Close: Weight=0.000",
                    "Return: 49.604%<br>Volatility: 0.090<br>Sharpe Ratio: 5.531<br>XOM_Close: Weight=0.000<br>DUK_Close: Weight=0.000<br>ISRG_Close: Weight=0.106<br>BA_Close: Weight=0.297<br>ABBV_Close: Weight=0.218<br>MCD_Close: Weight=0.201<br>WMT_Close: Weight=0.178<br>RMD_Close: Weight=0.000",
                    "Return: 49.604%<br>Volatility: 0.090<br>Sharpe Ratio: 5.531<br>XOM_Close: Weight=0.000<br>DUK_Close: Weight=0.000<br>ISRG_Close: Weight=0.106<br>BA_Close: Weight=0.297<br>ABBV_Close: Weight=0.218<br>MCD_Close: Weight=0.201<br>WMT_Close: Weight=0.178<br>CRM_Close: Weight=0.000",
                    "Return: 49.604%<br>Volatility: 0.090<br>Sharpe Ratio: 5.531<br>XOM_Close: Weight=0.000<br>DUK_Close: Weight=0.000<br>ISRG_Close: Weight=0.106<br>BA_Close: Weight=0.297<br>ABBV_Close: Weight=0.218<br>MCD_Close: Weight=0.201<br>WMT_Close: Weight=0.178<br>QCOM_Close: Weight=0.000",
                    "Return: 49.604%<br>Volatility: 0.090<br>Sharpe Ratio: 5.531<br>XOM_Close: Weight=0.000<br>DUK_Close: Weight=0.000<br>ISRG_Close: Weight=0.106<br>BA_Close: Weight=0.297<br>ABBV_Close: Weight=0.218<br>MCD_Close: Weight=0.201<br>WMT_Close: Weight=0.178<br>SAP_Close: Weight=0.000",
                    "Return: 49.605%<br>Volatility: 0.090<br>Sharpe Ratio: 5.531<br>XOM_Close: Weight=0.000<br>DUK_Close: Weight=0.000<br>ISRG_Close: Weight=0.106<br>BA_Close: Weight=0.297<br>ABBV_Close: Weight=0.218<br>MCD_Close: Weight=0.201<br>WMT_Close: Weight=0.178<br>BIIB_Close: Weight=0.000",
                    "Return: 49.604%<br>Volatility: 0.090<br>Sharpe Ratio: 5.531<br>XOM_Close: Weight=0.000<br>DUK_Close: Weight=0.000<br>ISRG_Close: Weight=0.106<br>BA_Close: Weight=0.297<br>ABBV_Close: Weight=0.218<br>MCD_Close: Weight=0.201<br>WMT_Close: Weight=0.178<br>GOOG_Close: Weight=0.000",
                    "Return: 49.604%<br>Volatility: 0.090<br>Sharpe Ratio: 5.531<br>XOM_Close: Weight=0.000<br>DUK_Close: Weight=0.000<br>ISRG_Close: Weight=0.106<br>BA_Close: Weight=0.297<br>ABBV_Close: Weight=0.218<br>MCD_Close: Weight=0.201<br>WMT_Close: Weight=0.178<br>AAPL_Close: Weight=0.000",
                    "Return: 49.218%<br>Volatility: 0.089<br>Sharpe Ratio: 5.533<br>XOM_Close: Weight=0.000<br>DUK_Close: Weight=0.000<br>ISRG_Close: Weight=0.104<br>BA_Close: Weight=0.292<br>ABBV_Close: Weight=0.214<br>MCD_Close: Weight=0.199<br>WMT_Close: Weight=0.174<br>ACN_Close: Weight=0.017",
                    "Return: 49.604%<br>Volatility: 0.090<br>Sharpe Ratio: 5.531<br>XOM_Close: Weight=0.000<br>DUK_Close: Weight=0.000<br>ISRG_Close: Weight=0.106<br>BA_Close: Weight=0.297<br>ABBV_Close: Weight=0.218<br>MCD_Close: Weight=0.201<br>WMT_Close: Weight=0.178<br>GOOGL_Close: Weight=0.000",
                    "Return: 49.602%<br>Volatility: 0.090<br>Sharpe Ratio: 5.531<br>XOM_Close: Weight=0.000<br>DUK_Close: Weight=0.000<br>ISRG_Close: Weight=0.106<br>BA_Close: Weight=0.297<br>ABBV_Close: Weight=0.218<br>MCD_Close: Weight=0.201<br>WMT_Close: Weight=0.178<br>HON_Close: Weight=0.000",
                    "Return: 49.600%<br>Volatility: 0.090<br>Sharpe Ratio: 5.531<br>XOM_Close: Weight=0.000<br>DUK_Close: Weight=0.000<br>ISRG_Close: Weight=0.106<br>BA_Close: Weight=0.297<br>ABBV_Close: Weight=0.218<br>MCD_Close: Weight=0.201<br>WMT_Close: Weight=0.178<br>LMT_Close: Weight=0.000",
                    "Return: 46.994%<br>Volatility: 0.084<br>Sharpe Ratio: 5.604<br>XOM_Close: Weight=0.000<br>DUK_Close: Weight=0.000<br>ISRG_Close: Weight=0.086<br>BA_Close: Weight=0.260<br>ABBV_Close: Weight=0.188<br>MCD_Close: Weight=0.192<br>WMT_Close: Weight=0.166<br>MMM_Close: Weight=0.108",
                    "Return: 49.373%<br>Volatility: 0.089<br>Sharpe Ratio: 5.532<br>XOM_Close: Weight=0.000<br>DUK_Close: Weight=0.000<br>ISRG_Close: Weight=0.102<br>BA_Close: Weight=0.297<br>ABBV_Close: Weight=0.216<br>MCD_Close: Weight=0.199<br>WMT_Close: Weight=0.177<br>TMO_Close: Weight=0.009",
                    "Return: 49.604%<br>Volatility: 0.090<br>Sharpe Ratio: 5.531<br>XOM_Close: Weight=0.000<br>DUK_Close: Weight=0.000<br>ISRG_Close: Weight=0.106<br>BA_Close: Weight=0.297<br>ABBV_Close: Weight=0.218<br>MCD_Close: Weight=0.201<br>WMT_Close: Weight=0.178<br>BMY_Close: Weight=0.000",
                    "Return: 47.927%<br>Volatility: 0.086<br>Sharpe Ratio: 5.541<br>XOM_Close: Weight=0.000<br>DUK_Close: Weight=0.000<br>ISRG_Close: Weight=0.102<br>BA_Close: Weight=0.282<br>ABBV_Close: Weight=0.208<br>MCD_Close: Weight=0.187<br>WMT_Close: Weight=0.171<br>AEP_Close: Weight=0.050",
                    "Return: 49.604%<br>Volatility: 0.090<br>Sharpe Ratio: 5.531<br>XOM_Close: Weight=0.000<br>DUK_Close: Weight=0.000<br>ISRG_Close: Weight=0.106<br>BA_Close: Weight=0.297<br>ABBV_Close: Weight=0.218<br>MCD_Close: Weight=0.201<br>WMT_Close: Weight=0.178<br>KR_Close: Weight=0.000",
                    "Return: 49.299%<br>Volatility: 0.089<br>Sharpe Ratio: 5.532<br>XOM_Close: Weight=0.000<br>DUK_Close: Weight=0.000<br>ISRG_Close: Weight=0.105<br>BA_Close: Weight=0.294<br>ABBV_Close: Weight=0.215<br>MCD_Close: Weight=0.198<br>WMT_Close: Weight=0.177<br>EMR_Close: Weight=0.011",
                    "Return: 49.604%<br>Volatility: 0.090<br>Sharpe Ratio: 5.531<br>XOM_Close: Weight=0.000<br>DUK_Close: Weight=0.000<br>ISRG_Close: Weight=0.106<br>BA_Close: Weight=0.297<br>ABBV_Close: Weight=0.218<br>MCD_Close: Weight=0.201<br>WMT_Close: Weight=0.178<br>MS_Close: Weight=0.000",
                    "Return: 44.826%<br>Volatility: 0.079<br>Sharpe Ratio: 5.700<br>XOM_Close: Weight=0.008<br>DUK_Close: Weight=0.000<br>ISRG_Close: Weight=0.085<br>BA_Close: Weight=0.250<br>ABBV_Close: Weight=0.172<br>MCD_Close: Weight=0.153<br>WMT_Close: Weight=0.158<br>NEE_Close: Weight=0.174",
                    "Return: 49.604%<br>Volatility: 0.090<br>Sharpe Ratio: 5.531<br>XOM_Close: Weight=0.000<br>DUK_Close: Weight=0.000<br>ISRG_Close: Weight=0.106<br>BA_Close: Weight=0.297<br>ABBV_Close: Weight=0.218<br>MCD_Close: Weight=0.201<br>WMT_Close: Weight=0.178<br>ETN_Close: Weight=0.000",
                    "Return: 46.852%<br>Volatility: 0.082<br>Sharpe Ratio: 5.680<br>XOM_Close: Weight=0.000<br>DUK_Close: Weight=0.008<br>ISRG_Close: Weight=0.106<br>BA_Close: Weight=0.257<br>ABBV_Close: Weight=0.177<br>MCD_Close: Weight=0.164<br>WMT_Close: Weight=0.142<br>HD_Close: Weight=0.145",
                    "Return: 49.604%<br>Volatility: 0.090<br>Sharpe Ratio: 5.531<br>XOM_Close: Weight=0.000<br>DUK_Close: Weight=0.000<br>ISRG_Close: Weight=0.106<br>BA_Close: Weight=0.297<br>ABBV_Close: Weight=0.218<br>MCD_Close: Weight=0.201<br>WMT_Close: Weight=0.178<br>COST_Close: Weight=0.000",
                    "Return: 49.604%<br>Volatility: 0.090<br>Sharpe Ratio: 5.531<br>XOM_Close: Weight=0.000<br>DUK_Close: Weight=0.000<br>ISRG_Close: Weight=0.106<br>BA_Close: Weight=0.297<br>ABBV_Close: Weight=0.218<br>MCD_Close: Weight=0.201<br>WMT_Close: Weight=0.178<br>CSCO_Close: Weight=0.000",
                    "Return: 49.047%<br>Volatility: 0.089<br>Sharpe Ratio: 5.532<br>XOM_Close: Weight=0.000<br>DUK_Close: Weight=0.000<br>ISRG_Close: Weight=0.103<br>BA_Close: Weight=0.294<br>ABBV_Close: Weight=0.212<br>MCD_Close: Weight=0.198<br>WMT_Close: Weight=0.176<br>JNJ_Close: Weight=0.017",
                    "Return: 49.604%<br>Volatility: 0.090<br>Sharpe Ratio: 5.531<br>XOM_Close: Weight=0.000<br>DUK_Close: Weight=0.000<br>ISRG_Close: Weight=0.106<br>BA_Close: Weight=0.297<br>ABBV_Close: Weight=0.218<br>MCD_Close: Weight=0.201<br>WMT_Close: Weight=0.178<br>DHR_Close: Weight=0.000",
                    "Return: 49.604%<br>Volatility: 0.090<br>Sharpe Ratio: 5.531<br>XOM_Close: Weight=0.000<br>DUK_Close: Weight=0.000<br>ISRG_Close: Weight=0.106<br>BA_Close: Weight=0.297<br>ABBV_Close: Weight=0.218<br>MCD_Close: Weight=0.201<br>WMT_Close: Weight=0.178<br>BAC_Close: Weight=0.000",
                    "Return: 49.604%<br>Volatility: 0.090<br>Sharpe Ratio: 5.531<br>XOM_Close: Weight=0.000<br>DUK_Close: Weight=0.000<br>ISRG_Close: Weight=0.106<br>BA_Close: Weight=0.297<br>ABBV_Close: Weight=0.218<br>MCD_Close: Weight=0.201<br>WMT_Close: Weight=0.178<br>UA_Close: Weight=0.000",
                    "Return: 49.604%<br>Volatility: 0.090<br>Sharpe Ratio: 5.531<br>XOM_Close: Weight=0.000<br>DUK_Close: Weight=0.000<br>ISRG_Close: Weight=0.106<br>BA_Close: Weight=0.297<br>ABBV_Close: Weight=0.218<br>MCD_Close: Weight=0.201<br>WMT_Close: Weight=0.178<br>BTI_Close: Weight=0.000",
                    "Return: 49.604%<br>Volatility: 0.090<br>Sharpe Ratio: 5.531<br>XOM_Close: Weight=0.000<br>DUK_Close: Weight=0.000<br>ISRG_Close: Weight=0.106<br>BA_Close: Weight=0.297<br>ABBV_Close: Weight=0.218<br>MCD_Close: Weight=0.201<br>WMT_Close: Weight=0.178<br>BSX_Close: Weight=0.000",
                    "Return: 47.680%<br>Volatility: 0.086<br>Sharpe Ratio: 5.548<br>XOM_Close: Weight=0.000<br>DUK_Close: Weight=0.000<br>ISRG_Close: Weight=0.100<br>BA_Close: Weight=0.283<br>ABBV_Close: Weight=0.203<br>MCD_Close: Weight=0.188<br>WMT_Close: Weight=0.174<br>EXC_Close: Weight=0.052",
                    "Return: 49.604%<br>Volatility: 0.090<br>Sharpe Ratio: 5.531<br>XOM_Close: Weight=0.000<br>DUK_Close: Weight=0.000<br>ISRG_Close: Weight=0.106<br>BA_Close: Weight=0.297<br>ABBV_Close: Weight=0.218<br>MCD_Close: Weight=0.201<br>WMT_Close: Weight=0.178<br>ORCL_Close: Weight=0.000",
                    "Return: 49.604%<br>Volatility: 0.090<br>Sharpe Ratio: 5.531<br>XOM_Close: Weight=0.000<br>DUK_Close: Weight=0.000<br>ISRG_Close: Weight=0.106<br>BA_Close: Weight=0.297<br>ABBV_Close: Weight=0.218<br>MCD_Close: Weight=0.201<br>WMT_Close: Weight=0.178<br>SO_Close: Weight=0.000",
                    "Return: 49.603%<br>Volatility: 0.090<br>Sharpe Ratio: 5.531<br>XOM_Close: Weight=0.000<br>DUK_Close: Weight=0.000<br>ISRG_Close: Weight=0.106<br>BA_Close: Weight=0.297<br>ABBV_Close: Weight=0.218<br>MCD_Close: Weight=0.201<br>WMT_Close: Weight=0.178<br>RDY_Close: Weight=0.000",
                    "Return: 49.604%<br>Volatility: 0.090<br>Sharpe Ratio: 5.531<br>XOM_Close: Weight=0.000<br>DUK_Close: Weight=0.000<br>ISRG_Close: Weight=0.106<br>BA_Close: Weight=0.297<br>ABBV_Close: Weight=0.218<br>MCD_Close: Weight=0.201<br>WMT_Close: Weight=0.178<br>GM_Close: Weight=0.000",
                    "Return: 49.607%<br>Volatility: 0.090<br>Sharpe Ratio: 5.531<br>XOM_Close: Weight=0.000<br>DUK_Close: Weight=0.000<br>ISRG_Close: Weight=0.106<br>BA_Close: Weight=0.297<br>ABBV_Close: Weight=0.218<br>MCD_Close: Weight=0.201<br>WMT_Close: Weight=0.178<br>GS_Close: Weight=0.000",
                    "Return: 49.604%<br>Volatility: 0.090<br>Sharpe Ratio: 5.531<br>XOM_Close: Weight=0.000<br>DUK_Close: Weight=0.000<br>ISRG_Close: Weight=0.106<br>BA_Close: Weight=0.297<br>ABBV_Close: Weight=0.218<br>MCD_Close: Weight=0.201<br>WMT_Close: Weight=0.178<br>RTX_Close: Weight=0.000",
                    "Return: 49.602%<br>Volatility: 0.090<br>Sharpe Ratio: 5.531<br>XOM_Close: Weight=0.000<br>DUK_Close: Weight=0.000<br>ISRG_Close: Weight=0.106<br>BA_Close: Weight=0.297<br>ABBV_Close: Weight=0.218<br>MCD_Close: Weight=0.201<br>WMT_Close: Weight=0.178<br>GILD_Close: Weight=0.000",
                    "Return: 48.306%<br>Volatility: 0.087<br>Sharpe Ratio: 5.549<br>XOM_Close: Weight=0.000<br>DUK_Close: Weight=0.000<br>ISRG_Close: Weight=0.107<br>BA_Close: Weight=0.283<br>ABBV_Close: Weight=0.211<br>MCD_Close: Weight=0.190<br>WMT_Close: Weight=0.164<br>SYY_Close: Weight=0.045",
                    "Return: 48.711%<br>Volatility: 0.088<br>Sharpe Ratio: 5.538<br>XOM_Close: Weight=0.000<br>DUK_Close: Weight=0.000<br>ISRG_Close: Weight=0.106<br>BA_Close: Weight=0.286<br>ABBV_Close: Weight=0.212<br>MCD_Close: Weight=0.194<br>WMT_Close: Weight=0.173<br>JPM_Close: Weight=0.030",
                    "Return: 49.604%<br>Volatility: 0.090<br>Sharpe Ratio: 5.531<br>XOM_Close: Weight=0.000<br>DUK_Close: Weight=0.000<br>ISRG_Close: Weight=0.106<br>BA_Close: Weight=0.297<br>ABBV_Close: Weight=0.218<br>MCD_Close: Weight=0.201<br>WMT_Close: Weight=0.178<br>SRE_Close: Weight=0.000",
                    "Return: 49.604%<br>Volatility: 0.090<br>Sharpe Ratio: 5.531<br>XOM_Close: Weight=0.000<br>DUK_Close: Weight=0.000<br>ISRG_Close: Weight=0.106<br>BA_Close: Weight=0.297<br>ABBV_Close: Weight=0.218<br>MCD_Close: Weight=0.201<br>WMT_Close: Weight=0.178<br>MDT_Close: Weight=0.000",
                    "Return: 49.608%<br>Volatility: 0.090<br>Sharpe Ratio: 5.531<br>XOM_Close: Weight=0.000<br>DUK_Close: Weight=0.000<br>ISRG_Close: Weight=0.106<br>BA_Close: Weight=0.297<br>ABBV_Close: Weight=0.218<br>MCD_Close: Weight=0.201<br>WMT_Close: Weight=0.178<br>REGN_Close: Weight=0.000",
                    "Return: 49.605%<br>Volatility: 0.090<br>Sharpe Ratio: 5.531<br>XOM_Close: Weight=0.000<br>DUK_Close: Weight=0.000<br>ISRG_Close: Weight=0.106<br>BA_Close: Weight=0.297<br>ABBV_Close: Weight=0.218<br>MCD_Close: Weight=0.201<br>WMT_Close: Weight=0.178<br>PFE_Close: Weight=0.000",
                    "Return: 49.604%<br>Volatility: 0.090<br>Sharpe Ratio: 5.531<br>XOM_Close: Weight=0.000<br>DUK_Close: Weight=0.000<br>ISRG_Close: Weight=0.106<br>BA_Close: Weight=0.297<br>ABBV_Close: Weight=0.218<br>MCD_Close: Weight=0.201<br>WMT_Close: Weight=0.178<br>WFC_Close: Weight=0.000",
                    "Return: 49.604%<br>Volatility: 0.090<br>Sharpe Ratio: 5.531<br>XOM_Close: Weight=0.000<br>DUK_Close: Weight=0.000<br>ISRG_Close: Weight=0.106<br>BA_Close: Weight=0.297<br>ABBV_Close: Weight=0.218<br>MCD_Close: Weight=0.201<br>WMT_Close: Weight=0.178<br>VZ_Close: Weight=0.000",
                    "Return: 49.606%<br>Volatility: 0.090<br>Sharpe Ratio: 5.531<br>XOM_Close: Weight=0.000<br>DUK_Close: Weight=0.000<br>ISRG_Close: Weight=0.106<br>BA_Close: Weight=0.297<br>ABBV_Close: Weight=0.218<br>MCD_Close: Weight=0.201<br>WMT_Close: Weight=0.178<br>ZBH_Close: Weight=0.000",
                    "Return: 45.887%<br>Volatility: 0.082<br>Sharpe Ratio: 5.563<br>XOM_Close: Weight=0.000<br>DUK_Close: Weight=0.000<br>ISRG_Close: Weight=0.098<br>BA_Close: Weight=0.267<br>ABBV_Close: Weight=0.197<br>MCD_Close: Weight=0.177<br>WMT_Close: Weight=0.158<br>KO_Close: Weight=0.104",
                    "Return: 45.353%<br>Volatility: 0.080<br>Sharpe Ratio: 5.660<br>XOM_Close: Weight=0.000<br>DUK_Close: Weight=0.000<br>ISRG_Close: Weight=0.104<br>BA_Close: Weight=0.251<br>ABBV_Close: Weight=0.193<br>MCD_Close: Weight=0.172<br>WMT_Close: Weight=0.158<br>CVX_Close: Weight=0.122",
                    "Return: 49.604%<br>Volatility: 0.090<br>Sharpe Ratio: 5.531<br>XOM_Close: Weight=0.000<br>DUK_Close: Weight=0.000<br>ISRG_Close: Weight=0.106<br>BA_Close: Weight=0.297<br>ABBV_Close: Weight=0.218<br>MCD_Close: Weight=0.201<br>WMT_Close: Weight=0.178<br>AMGN_Close: Weight=0.000",
                    "Return: 46.866%<br>Volatility: 0.084<br>Sharpe Ratio: 5.552<br>XOM_Close: Weight=0.000<br>DUK_Close: Weight=0.000<br>ISRG_Close: Weight=0.100<br>BA_Close: Weight=0.276<br>ABBV_Close: Weight=0.205<br>MCD_Close: Weight=0.181<br>WMT_Close: Weight=0.161<br>PEP_Close: Weight=0.077",
                    "Return: 49.605%<br>Volatility: 0.090<br>Sharpe Ratio: 5.531<br>XOM_Close: Weight=0.000<br>DUK_Close: Weight=0.000<br>ISRG_Close: Weight=0.106<br>BA_Close: Weight=0.297<br>ABBV_Close: Weight=0.218<br>MCD_Close: Weight=0.201<br>WMT_Close: Weight=0.178<br>LLY_Close: Weight=0.000",
                    "Return: 49.604%<br>Volatility: 0.090<br>Sharpe Ratio: 5.531<br>XOM_Close: Weight=0.000<br>DUK_Close: Weight=0.000<br>ISRG_Close: Weight=0.106<br>BA_Close: Weight=0.297<br>ABBV_Close: Weight=0.218<br>MCD_Close: Weight=0.201<br>WMT_Close: Weight=0.178<br>MO_Close: Weight=0.000",
                    "Return: 49.604%<br>Volatility: 0.090<br>Sharpe Ratio: 5.531<br>XOM_Close: Weight=0.000<br>DUK_Close: Weight=0.000<br>ISRG_Close: Weight=0.106<br>BA_Close: Weight=0.297<br>ABBV_Close: Weight=0.218<br>MCD_Close: Weight=0.201<br>WMT_Close: Weight=0.178<br>PM_Close: Weight=0.000",
                    "Return: 49.604%<br>Volatility: 0.090<br>Sharpe Ratio: 5.531<br>XOM_Close: Weight=0.000<br>DUK_Close: Weight=0.000<br>ISRG_Close: Weight=0.106<br>BA_Close: Weight=0.297<br>ABBV_Close: Weight=0.218<br>MCD_Close: Weight=0.201<br>WMT_Close: Weight=0.178<br>GIS_Close: Weight=0.000",
                    "Return: 48.424%<br>Volatility: 0.087<br>Sharpe Ratio: 5.548<br>XOM_Close: Weight=0.000<br>DUK_Close: Weight=0.000<br>ISRG_Close: Weight=0.104<br>BA_Close: Weight=0.290<br>ABBV_Close: Weight=0.209<br>MCD_Close: Weight=0.197<br>WMT_Close: Weight=0.169<br>NKE_Close: Weight=0.030",
                    "Return: 49.607%<br>Volatility: 0.090<br>Sharpe Ratio: 5.531<br>XOM_Close: Weight=0.000<br>DUK_Close: Weight=0.000<br>ISRG_Close: Weight=0.106<br>BA_Close: Weight=0.297<br>ABBV_Close: Weight=0.218<br>MCD_Close: Weight=0.201<br>WMT_Close: Weight=0.178<br>PG_Close: Weight=0.000",
                    "Return: 49.606%<br>Volatility: 0.090<br>Sharpe Ratio: 5.531<br>XOM_Close: Weight=0.000<br>DUK_Close: Weight=0.000<br>ISRG_Close: Weight=0.106<br>BA_Close: Weight=0.297<br>ABBV_Close: Weight=0.218<br>MCD_Close: Weight=0.201<br>WMT_Close: Weight=0.178<br>T_Close: Weight=0.000",
                    "Return: 47.861%<br>Volatility: 0.086<br>Sharpe Ratio: 5.561<br>XOM_Close: Weight=0.000<br>DUK_Close: Weight=0.000<br>ISRG_Close: Weight=0.105<br>BA_Close: Weight=0.281<br>ABBV_Close: Weight=0.211<br>MCD_Close: Weight=0.191<br>WMT_Close: Weight=0.169<br>CMCSA_Close: Weight=0.043",
                    "Return: 49.605%<br>Volatility: 0.090<br>Sharpe Ratio: 5.531<br>XOM_Close: Weight=0.000<br>DUK_Close: Weight=0.000<br>ISRG_Close: Weight=0.106<br>BA_Close: Weight=0.297<br>ABBV_Close: Weight=0.218<br>MCD_Close: Weight=0.201<br>WMT_Close: Weight=0.178<br>F_Close: Weight=0.000",
                    "Return: 49.604%<br>Volatility: 0.090<br>Sharpe Ratio: 5.531<br>XOM_Close: Weight=0.000<br>DUK_Close: Weight=0.000<br>ISRG_Close: Weight=0.106<br>BA_Close: Weight=0.297<br>ABBV_Close: Weight=0.218<br>MCD_Close: Weight=0.201<br>WMT_Close: Weight=0.178<br>K_Close: Weight=0.000",
                    "Return: 49.604%<br>Volatility: 0.090<br>Sharpe Ratio: 5.531<br>XOM_Close: Weight=0.000<br>DUK_Close: Weight=0.000<br>ISRG_Close: Weight=0.106<br>BA_Close: Weight=0.297<br>ABBV_Close: Weight=0.218<br>MCD_Close: Weight=0.201<br>WMT_Close: Weight=0.178<br>CPB_Close: Weight=0.000",
                    "Return: 49.607%<br>Volatility: 0.090<br>Sharpe Ratio: 5.531<br>XOM_Close: Weight=0.000<br>DUK_Close: Weight=0.000<br>ISRG_Close: Weight=0.106<br>BA_Close: Weight=0.297<br>ABBV_Close: Weight=0.218<br>MCD_Close: Weight=0.201<br>WMT_Close: Weight=0.178<br>MRK_Close: Weight=0.000",
                    "Return: 49.604%<br>Volatility: 0.090<br>Sharpe Ratio: 5.531<br>XOM_Close: Weight=0.000<br>DUK_Close: Weight=0.000<br>ISRG_Close: Weight=0.106<br>BA_Close: Weight=0.297<br>ABBV_Close: Weight=0.218<br>MCD_Close: Weight=0.201<br>WMT_Close: Weight=0.178<br>IBM_Close: Weight=0.000",
                    "Return: 49.604%<br>Volatility: 0.090<br>Sharpe Ratio: 5.531<br>XOM_Close: Weight=0.000<br>DUK_Close: Weight=0.000<br>ISRG_Close: Weight=0.106<br>BA_Close: Weight=0.297<br>ABBV_Close: Weight=0.218<br>MCD_Close: Weight=0.201<br>WMT_Close: Weight=0.178<br>DIS_Close: Weight=0.000",
                    "Return: 49.605%<br>Volatility: 0.090<br>Sharpe Ratio: 5.531<br>XOM_Close: Weight=0.000<br>DUK_Close: Weight=0.000<br>ISRG_Close: Weight=0.106<br>BA_Close: Weight=0.297<br>ABBV_Close: Weight=0.218<br>MCD_Close: Weight=0.201<br>WMT_Close: Weight=0.178<br>GE_Close: Weight=0.000",
                    "Return: 50.921%<br>Volatility: 0.091<br>Sharpe Ratio: 5.597<br>XOM_Close: Weight=0.000<br>DUK_Close: Weight=0.000<br>ISRG_Close: Weight=0.084<br>BA_Close: Weight=0.293<br>ABBV_Close: Weight=0.218<br>MCD_Close: Weight=0.193<br>WMT_Close: Weight=0.174<br>NVDA_Close: Weight=0.037",
                    "Return: 50.921%<br>Volatility: 0.091<br>Sharpe Ratio: 5.597<br>XOM_Close: Weight=0.000<br>DUK_Close: Weight=0.000<br>ISRG_Close: Weight=0.084<br>BA_Close: Weight=0.293<br>ABBV_Close: Weight=0.218<br>MCD_Close: Weight=0.193<br>WMT_Close: Weight=0.174<br>NVDA_Close: Weight=0.037",
                    "Return: 50.921%<br>Volatility: 0.091<br>Sharpe Ratio: 5.597<br>XOM_Close: Weight=0.000<br>DUK_Close: Weight=0.000<br>ISRG_Close: Weight=0.084<br>BA_Close: Weight=0.293<br>ABBV_Close: Weight=0.218<br>MCD_Close: Weight=0.193<br>WMT_Close: Weight=0.174<br>NVDA_Close: Weight=0.037",
                    "Return: 50.921%<br>Volatility: 0.091<br>Sharpe Ratio: 5.597<br>XOM_Close: Weight=0.000<br>DUK_Close: Weight=0.000<br>ISRG_Close: Weight=0.084<br>BA_Close: Weight=0.293<br>ABBV_Close: Weight=0.218<br>MCD_Close: Weight=0.193<br>WMT_Close: Weight=0.174<br>NVDA_Close: Weight=0.037",
                    "Return: 50.921%<br>Volatility: 0.091<br>Sharpe Ratio: 5.597<br>XOM_Close: Weight=0.000<br>DUK_Close: Weight=0.000<br>ISRG_Close: Weight=0.084<br>BA_Close: Weight=0.293<br>ABBV_Close: Weight=0.218<br>MCD_Close: Weight=0.193<br>WMT_Close: Weight=0.174<br>NVDA_Close: Weight=0.037",
                    "Return: 50.921%<br>Volatility: 0.091<br>Sharpe Ratio: 5.597<br>XOM_Close: Weight=0.000<br>DUK_Close: Weight=0.000<br>ISRG_Close: Weight=0.084<br>BA_Close: Weight=0.293<br>ABBV_Close: Weight=0.218<br>MCD_Close: Weight=0.193<br>WMT_Close: Weight=0.174<br>NVDA_Close: Weight=0.037",
                    "Return: 50.921%<br>Volatility: 0.091<br>Sharpe Ratio: 5.597<br>XOM_Close: Weight=0.000<br>DUK_Close: Weight=0.000<br>ISRG_Close: Weight=0.084<br>BA_Close: Weight=0.293<br>ABBV_Close: Weight=0.218<br>MCD_Close: Weight=0.193<br>WMT_Close: Weight=0.174<br>NVDA_Close: Weight=0.037",
                    "Return: 50.921%<br>Volatility: 0.091<br>Sharpe Ratio: 5.597<br>XOM_Close: Weight=0.000<br>DUK_Close: Weight=0.000<br>ISRG_Close: Weight=0.084<br>BA_Close: Weight=0.293<br>ABBV_Close: Weight=0.218<br>MCD_Close: Weight=0.193<br>WMT_Close: Weight=0.174<br>NVDA_Close: Weight=0.037",
                    "Return: 50.921%<br>Volatility: 0.091<br>Sharpe Ratio: 5.597<br>XOM_Close: Weight=0.000<br>DUK_Close: Weight=0.000<br>ISRG_Close: Weight=0.084<br>BA_Close: Weight=0.293<br>ABBV_Close: Weight=0.218<br>MCD_Close: Weight=0.193<br>WMT_Close: Weight=0.174<br>NVDA_Close: Weight=0.037",
                    "Return: 50.921%<br>Volatility: 0.091<br>Sharpe Ratio: 5.597<br>XOM_Close: Weight=0.000<br>DUK_Close: Weight=0.000<br>ISRG_Close: Weight=0.084<br>BA_Close: Weight=0.293<br>ABBV_Close: Weight=0.218<br>MCD_Close: Weight=0.193<br>WMT_Close: Weight=0.174<br>NVDA_Close: Weight=0.037",
                    "Return: 50.921%<br>Volatility: 0.091<br>Sharpe Ratio: 5.597<br>XOM_Close: Weight=0.000<br>DUK_Close: Weight=0.000<br>ISRG_Close: Weight=0.084<br>BA_Close: Weight=0.293<br>ABBV_Close: Weight=0.218<br>MCD_Close: Weight=0.193<br>WMT_Close: Weight=0.174<br>NVDA_Close: Weight=0.037",
                    "Return: 50.921%<br>Volatility: 0.091<br>Sharpe Ratio: 5.597<br>XOM_Close: Weight=0.000<br>DUK_Close: Weight=0.000<br>ISRG_Close: Weight=0.084<br>BA_Close: Weight=0.293<br>ABBV_Close: Weight=0.218<br>MCD_Close: Weight=0.193<br>WMT_Close: Weight=0.174<br>NVDA_Close: Weight=0.037",
                    "Return: 50.921%<br>Volatility: 0.091<br>Sharpe Ratio: 5.597<br>XOM_Close: Weight=0.000<br>DUK_Close: Weight=0.000<br>ISRG_Close: Weight=0.084<br>BA_Close: Weight=0.293<br>ABBV_Close: Weight=0.218<br>MCD_Close: Weight=0.193<br>WMT_Close: Weight=0.174<br>NVDA_Close: Weight=0.037",
                    "Return: 50.921%<br>Volatility: 0.091<br>Sharpe Ratio: 5.597<br>XOM_Close: Weight=0.000<br>DUK_Close: Weight=0.000<br>ISRG_Close: Weight=0.084<br>BA_Close: Weight=0.293<br>ABBV_Close: Weight=0.218<br>MCD_Close: Weight=0.193<br>WMT_Close: Weight=0.174<br>NVDA_Close: Weight=0.037",
                    "Return: 50.921%<br>Volatility: 0.091<br>Sharpe Ratio: 5.597<br>XOM_Close: Weight=0.000<br>DUK_Close: Weight=0.000<br>ISRG_Close: Weight=0.084<br>BA_Close: Weight=0.293<br>ABBV_Close: Weight=0.218<br>MCD_Close: Weight=0.193<br>WMT_Close: Weight=0.174<br>NVDA_Close: Weight=0.037",
                    "Return: 50.921%<br>Volatility: 0.091<br>Sharpe Ratio: 5.597<br>XOM_Close: Weight=0.000<br>DUK_Close: Weight=0.000<br>ISRG_Close: Weight=0.084<br>BA_Close: Weight=0.293<br>ABBV_Close: Weight=0.218<br>MCD_Close: Weight=0.193<br>WMT_Close: Weight=0.174<br>NVDA_Close: Weight=0.037",
                    "Return: 50.921%<br>Volatility: 0.091<br>Sharpe Ratio: 5.597<br>XOM_Close: Weight=0.000<br>DUK_Close: Weight=0.000<br>ISRG_Close: Weight=0.084<br>BA_Close: Weight=0.293<br>ABBV_Close: Weight=0.218<br>MCD_Close: Weight=0.193<br>WMT_Close: Weight=0.174<br>NVDA_Close: Weight=0.037",
                    "Return: 50.921%<br>Volatility: 0.091<br>Sharpe Ratio: 5.597<br>XOM_Close: Weight=0.000<br>DUK_Close: Weight=0.000<br>ISRG_Close: Weight=0.084<br>BA_Close: Weight=0.293<br>ABBV_Close: Weight=0.218<br>MCD_Close: Weight=0.193<br>WMT_Close: Weight=0.174<br>NVDA_Close: Weight=0.037",
                    "Return: 50.921%<br>Volatility: 0.091<br>Sharpe Ratio: 5.597<br>XOM_Close: Weight=0.000<br>DUK_Close: Weight=0.000<br>ISRG_Close: Weight=0.084<br>BA_Close: Weight=0.293<br>ABBV_Close: Weight=0.218<br>MCD_Close: Weight=0.193<br>WMT_Close: Weight=0.174<br>NVDA_Close: Weight=0.037",
                    "Return: 50.921%<br>Volatility: 0.091<br>Sharpe Ratio: 5.597<br>XOM_Close: Weight=0.000<br>DUK_Close: Weight=0.000<br>ISRG_Close: Weight=0.084<br>BA_Close: Weight=0.293<br>ABBV_Close: Weight=0.218<br>MCD_Close: Weight=0.193<br>WMT_Close: Weight=0.174<br>NVDA_Close: Weight=0.037",
                    "Return: 50.921%<br>Volatility: 0.091<br>Sharpe Ratio: 5.597<br>XOM_Close: Weight=0.000<br>DUK_Close: Weight=0.000<br>ISRG_Close: Weight=0.084<br>BA_Close: Weight=0.293<br>ABBV_Close: Weight=0.218<br>MCD_Close: Weight=0.193<br>WMT_Close: Weight=0.174<br>NVDA_Close: Weight=0.037",
                    "Return: 50.921%<br>Volatility: 0.091<br>Sharpe Ratio: 5.597<br>XOM_Close: Weight=0.000<br>DUK_Close: Weight=0.000<br>ISRG_Close: Weight=0.084<br>BA_Close: Weight=0.293<br>ABBV_Close: Weight=0.218<br>MCD_Close: Weight=0.193<br>WMT_Close: Weight=0.174<br>NVDA_Close: Weight=0.037",
                    "Return: 50.921%<br>Volatility: 0.091<br>Sharpe Ratio: 5.597<br>XOM_Close: Weight=0.000<br>DUK_Close: Weight=0.000<br>ISRG_Close: Weight=0.084<br>BA_Close: Weight=0.293<br>ABBV_Close: Weight=0.218<br>MCD_Close: Weight=0.193<br>WMT_Close: Weight=0.174<br>NVDA_Close: Weight=0.037",
                    "Return: 50.921%<br>Volatility: 0.091<br>Sharpe Ratio: 5.597<br>XOM_Close: Weight=0.000<br>DUK_Close: Weight=0.000<br>ISRG_Close: Weight=0.084<br>BA_Close: Weight=0.293<br>ABBV_Close: Weight=0.218<br>MCD_Close: Weight=0.193<br>WMT_Close: Weight=0.174<br>NVDA_Close: Weight=0.037",
                    "Return: 50.921%<br>Volatility: 0.091<br>Sharpe Ratio: 5.597<br>XOM_Close: Weight=0.000<br>DUK_Close: Weight=0.000<br>ISRG_Close: Weight=0.084<br>BA_Close: Weight=0.293<br>ABBV_Close: Weight=0.218<br>MCD_Close: Weight=0.193<br>WMT_Close: Weight=0.174<br>NVDA_Close: Weight=0.037",
                    "Return: 50.921%<br>Volatility: 0.091<br>Sharpe Ratio: 5.597<br>XOM_Close: Weight=0.000<br>DUK_Close: Weight=0.000<br>ISRG_Close: Weight=0.084<br>BA_Close: Weight=0.293<br>ABBV_Close: Weight=0.218<br>MCD_Close: Weight=0.193<br>WMT_Close: Weight=0.174<br>NVDA_Close: Weight=0.037",
                    "Return: 50.921%<br>Volatility: 0.091<br>Sharpe Ratio: 5.597<br>XOM_Close: Weight=0.000<br>DUK_Close: Weight=0.000<br>ISRG_Close: Weight=0.084<br>BA_Close: Weight=0.293<br>ABBV_Close: Weight=0.218<br>MCD_Close: Weight=0.193<br>WMT_Close: Weight=0.174<br>NVDA_Close: Weight=0.037",
                    "Return: 50.921%<br>Volatility: 0.091<br>Sharpe Ratio: 5.597<br>XOM_Close: Weight=0.000<br>DUK_Close: Weight=0.000<br>ISRG_Close: Weight=0.084<br>BA_Close: Weight=0.293<br>ABBV_Close: Weight=0.218<br>MCD_Close: Weight=0.193<br>WMT_Close: Weight=0.174<br>NVDA_Close: Weight=0.037",
                    "Return: 50.921%<br>Volatility: 0.091<br>Sharpe Ratio: 5.597<br>XOM_Close: Weight=0.000<br>DUK_Close: Weight=0.000<br>ISRG_Close: Weight=0.084<br>BA_Close: Weight=0.293<br>ABBV_Close: Weight=0.218<br>MCD_Close: Weight=0.193<br>WMT_Close: Weight=0.174<br>NVDA_Close: Weight=0.037",
                    "Return: 50.921%<br>Volatility: 0.091<br>Sharpe Ratio: 5.597<br>XOM_Close: Weight=0.000<br>DUK_Close: Weight=0.000<br>ISRG_Close: Weight=0.084<br>BA_Close: Weight=0.293<br>ABBV_Close: Weight=0.218<br>MCD_Close: Weight=0.193<br>WMT_Close: Weight=0.174<br>NVDA_Close: Weight=0.037",
                    "Return: 50.921%<br>Volatility: 0.091<br>Sharpe Ratio: 5.597<br>XOM_Close: Weight=0.000<br>DUK_Close: Weight=0.000<br>ISRG_Close: Weight=0.084<br>BA_Close: Weight=0.293<br>ABBV_Close: Weight=0.218<br>MCD_Close: Weight=0.193<br>WMT_Close: Weight=0.174<br>NVDA_Close: Weight=0.037",
                    "Return: 50.921%<br>Volatility: 0.091<br>Sharpe Ratio: 5.597<br>XOM_Close: Weight=0.000<br>DUK_Close: Weight=0.000<br>ISRG_Close: Weight=0.084<br>BA_Close: Weight=0.293<br>ABBV_Close: Weight=0.218<br>MCD_Close: Weight=0.193<br>WMT_Close: Weight=0.174<br>NVDA_Close: Weight=0.037",
                    "Return: 50.921%<br>Volatility: 0.091<br>Sharpe Ratio: 5.597<br>XOM_Close: Weight=0.000<br>DUK_Close: Weight=0.000<br>ISRG_Close: Weight=0.084<br>BA_Close: Weight=0.293<br>ABBV_Close: Weight=0.218<br>MCD_Close: Weight=0.193<br>WMT_Close: Weight=0.174<br>NVDA_Close: Weight=0.037",
                    "Return: 50.921%<br>Volatility: 0.091<br>Sharpe Ratio: 5.597<br>XOM_Close: Weight=0.000<br>DUK_Close: Weight=0.000<br>ISRG_Close: Weight=0.084<br>BA_Close: Weight=0.293<br>ABBV_Close: Weight=0.218<br>MCD_Close: Weight=0.193<br>WMT_Close: Weight=0.174<br>NVDA_Close: Weight=0.037",
                    "Return: 50.921%<br>Volatility: 0.091<br>Sharpe Ratio: 5.597<br>XOM_Close: Weight=0.000<br>DUK_Close: Weight=0.000<br>ISRG_Close: Weight=0.084<br>BA_Close: Weight=0.293<br>ABBV_Close: Weight=0.218<br>MCD_Close: Weight=0.193<br>WMT_Close: Weight=0.174<br>NVDA_Close: Weight=0.037",
                    "Return: 50.921%<br>Volatility: 0.091<br>Sharpe Ratio: 5.597<br>XOM_Close: Weight=0.000<br>DUK_Close: Weight=0.000<br>ISRG_Close: Weight=0.084<br>BA_Close: Weight=0.293<br>ABBV_Close: Weight=0.218<br>MCD_Close: Weight=0.193<br>WMT_Close: Weight=0.174<br>NVDA_Close: Weight=0.037",
                    "Return: 50.921%<br>Volatility: 0.091<br>Sharpe Ratio: 5.597<br>XOM_Close: Weight=0.000<br>DUK_Close: Weight=0.000<br>ISRG_Close: Weight=0.084<br>BA_Close: Weight=0.293<br>ABBV_Close: Weight=0.218<br>MCD_Close: Weight=0.193<br>WMT_Close: Weight=0.174<br>NVDA_Close: Weight=0.037",
                    "Return: 50.921%<br>Volatility: 0.091<br>Sharpe Ratio: 5.597<br>XOM_Close: Weight=0.000<br>DUK_Close: Weight=0.000<br>ISRG_Close: Weight=0.084<br>BA_Close: Weight=0.293<br>ABBV_Close: Weight=0.218<br>MCD_Close: Weight=0.193<br>WMT_Close: Weight=0.174<br>NVDA_Close: Weight=0.037",
                    "Return: 50.921%<br>Volatility: 0.091<br>Sharpe Ratio: 5.597<br>XOM_Close: Weight=0.000<br>DUK_Close: Weight=0.000<br>ISRG_Close: Weight=0.084<br>BA_Close: Weight=0.293<br>ABBV_Close: Weight=0.218<br>MCD_Close: Weight=0.193<br>WMT_Close: Weight=0.174<br>NVDA_Close: Weight=0.037",
                    "Return: 50.921%<br>Volatility: 0.091<br>Sharpe Ratio: 5.597<br>XOM_Close: Weight=0.000<br>DUK_Close: Weight=0.000<br>ISRG_Close: Weight=0.084<br>BA_Close: Weight=0.293<br>ABBV_Close: Weight=0.218<br>MCD_Close: Weight=0.193<br>WMT_Close: Weight=0.174<br>NVDA_Close: Weight=0.037",
                    "Return: 50.921%<br>Volatility: 0.091<br>Sharpe Ratio: 5.597<br>XOM_Close: Weight=0.000<br>DUK_Close: Weight=0.000<br>ISRG_Close: Weight=0.084<br>BA_Close: Weight=0.293<br>ABBV_Close: Weight=0.218<br>MCD_Close: Weight=0.193<br>WMT_Close: Weight=0.174<br>NVDA_Close: Weight=0.037",
                    "Return: 50.921%<br>Volatility: 0.091<br>Sharpe Ratio: 5.597<br>XOM_Close: Weight=0.000<br>DUK_Close: Weight=0.000<br>ISRG_Close: Weight=0.084<br>BA_Close: Weight=0.293<br>ABBV_Close: Weight=0.218<br>MCD_Close: Weight=0.193<br>WMT_Close: Weight=0.174<br>NVDA_Close: Weight=0.037",
                    "Return: 50.921%<br>Volatility: 0.091<br>Sharpe Ratio: 5.597<br>XOM_Close: Weight=0.000<br>DUK_Close: Weight=0.000<br>ISRG_Close: Weight=0.084<br>BA_Close: Weight=0.293<br>ABBV_Close: Weight=0.218<br>MCD_Close: Weight=0.193<br>WMT_Close: Weight=0.174<br>NVDA_Close: Weight=0.037",
                    "Return: 50.921%<br>Volatility: 0.091<br>Sharpe Ratio: 5.597<br>XOM_Close: Weight=0.000<br>DUK_Close: Weight=0.000<br>ISRG_Close: Weight=0.084<br>BA_Close: Weight=0.293<br>ABBV_Close: Weight=0.218<br>MCD_Close: Weight=0.193<br>WMT_Close: Weight=0.174<br>NVDA_Close: Weight=0.037",
                    "Return: 50.921%<br>Volatility: 0.091<br>Sharpe Ratio: 5.597<br>XOM_Close: Weight=0.000<br>DUK_Close: Weight=0.000<br>ISRG_Close: Weight=0.084<br>BA_Close: Weight=0.293<br>ABBV_Close: Weight=0.218<br>MCD_Close: Weight=0.193<br>WMT_Close: Weight=0.174<br>NVDA_Close: Weight=0.037",
                    "Return: 50.921%<br>Volatility: 0.091<br>Sharpe Ratio: 5.597<br>XOM_Close: Weight=0.000<br>DUK_Close: Weight=0.000<br>ISRG_Close: Weight=0.084<br>BA_Close: Weight=0.293<br>ABBV_Close: Weight=0.218<br>MCD_Close: Weight=0.193<br>WMT_Close: Weight=0.174<br>NVDA_Close: Weight=0.037",
                    "Return: 50.921%<br>Volatility: 0.091<br>Sharpe Ratio: 5.597<br>XOM_Close: Weight=0.000<br>DUK_Close: Weight=0.000<br>ISRG_Close: Weight=0.084<br>BA_Close: Weight=0.293<br>ABBV_Close: Weight=0.218<br>MCD_Close: Weight=0.193<br>WMT_Close: Weight=0.174<br>NVDA_Close: Weight=0.037",
                    "Return: 50.921%<br>Volatility: 0.091<br>Sharpe Ratio: 5.597<br>XOM_Close: Weight=0.000<br>DUK_Close: Weight=0.000<br>ISRG_Close: Weight=0.084<br>BA_Close: Weight=0.293<br>ABBV_Close: Weight=0.218<br>MCD_Close: Weight=0.193<br>WMT_Close: Weight=0.174<br>NVDA_Close: Weight=0.037",
                    "Return: 50.921%<br>Volatility: 0.091<br>Sharpe Ratio: 5.597<br>XOM_Close: Weight=0.000<br>DUK_Close: Weight=0.000<br>ISRG_Close: Weight=0.084<br>BA_Close: Weight=0.293<br>ABBV_Close: Weight=0.218<br>MCD_Close: Weight=0.193<br>WMT_Close: Weight=0.174<br>NVDA_Close: Weight=0.037",
                    "Return: 50.921%<br>Volatility: 0.091<br>Sharpe Ratio: 5.597<br>XOM_Close: Weight=0.000<br>DUK_Close: Weight=0.000<br>ISRG_Close: Weight=0.084<br>BA_Close: Weight=0.293<br>ABBV_Close: Weight=0.218<br>MCD_Close: Weight=0.193<br>WMT_Close: Weight=0.174<br>NVDA_Close: Weight=0.037",
                    "Return: 50.921%<br>Volatility: 0.091<br>Sharpe Ratio: 5.597<br>XOM_Close: Weight=0.000<br>DUK_Close: Weight=0.000<br>ISRG_Close: Weight=0.084<br>BA_Close: Weight=0.293<br>ABBV_Close: Weight=0.218<br>MCD_Close: Weight=0.193<br>WMT_Close: Weight=0.174<br>NVDA_Close: Weight=0.037",
                    "Return: 50.921%<br>Volatility: 0.091<br>Sharpe Ratio: 5.597<br>XOM_Close: Weight=0.000<br>DUK_Close: Weight=0.000<br>ISRG_Close: Weight=0.084<br>BA_Close: Weight=0.293<br>ABBV_Close: Weight=0.218<br>MCD_Close: Weight=0.193<br>WMT_Close: Weight=0.174<br>NVDA_Close: Weight=0.037",
                    "Return: 50.921%<br>Volatility: 0.091<br>Sharpe Ratio: 5.597<br>XOM_Close: Weight=0.000<br>DUK_Close: Weight=0.000<br>ISRG_Close: Weight=0.084<br>BA_Close: Weight=0.293<br>ABBV_Close: Weight=0.218<br>MCD_Close: Weight=0.193<br>WMT_Close: Weight=0.174<br>NVDA_Close: Weight=0.037",
                    "Return: 50.921%<br>Volatility: 0.091<br>Sharpe Ratio: 5.597<br>XOM_Close: Weight=0.000<br>DUK_Close: Weight=0.000<br>ISRG_Close: Weight=0.084<br>BA_Close: Weight=0.293<br>ABBV_Close: Weight=0.218<br>MCD_Close: Weight=0.193<br>WMT_Close: Weight=0.174<br>NVDA_Close: Weight=0.037",
                    "Return: 50.921%<br>Volatility: 0.091<br>Sharpe Ratio: 5.597<br>XOM_Close: Weight=0.000<br>DUK_Close: Weight=0.000<br>ISRG_Close: Weight=0.084<br>BA_Close: Weight=0.293<br>ABBV_Close: Weight=0.218<br>MCD_Close: Weight=0.193<br>WMT_Close: Weight=0.174<br>NVDA_Close: Weight=0.037",
                    "Return: 50.921%<br>Volatility: 0.091<br>Sharpe Ratio: 5.597<br>XOM_Close: Weight=0.000<br>DUK_Close: Weight=0.000<br>ISRG_Close: Weight=0.084<br>BA_Close: Weight=0.293<br>ABBV_Close: Weight=0.218<br>MCD_Close: Weight=0.193<br>WMT_Close: Weight=0.174<br>NVDA_Close: Weight=0.037",
                    "Return: 50.921%<br>Volatility: 0.091<br>Sharpe Ratio: 5.597<br>XOM_Close: Weight=0.000<br>DUK_Close: Weight=0.000<br>ISRG_Close: Weight=0.084<br>BA_Close: Weight=0.293<br>ABBV_Close: Weight=0.218<br>MCD_Close: Weight=0.193<br>WMT_Close: Weight=0.174<br>NVDA_Close: Weight=0.037",
                    "Return: 50.921%<br>Volatility: 0.091<br>Sharpe Ratio: 5.597<br>XOM_Close: Weight=0.000<br>DUK_Close: Weight=0.000<br>ISRG_Close: Weight=0.084<br>BA_Close: Weight=0.293<br>ABBV_Close: Weight=0.218<br>MCD_Close: Weight=0.193<br>WMT_Close: Weight=0.174<br>NVDA_Close: Weight=0.037",
                    "Return: 50.921%<br>Volatility: 0.091<br>Sharpe Ratio: 5.597<br>XOM_Close: Weight=0.000<br>DUK_Close: Weight=0.000<br>ISRG_Close: Weight=0.084<br>BA_Close: Weight=0.293<br>ABBV_Close: Weight=0.218<br>MCD_Close: Weight=0.193<br>WMT_Close: Weight=0.174<br>NVDA_Close: Weight=0.037",
                    "Return: 50.921%<br>Volatility: 0.091<br>Sharpe Ratio: 5.597<br>XOM_Close: Weight=0.000<br>DUK_Close: Weight=0.000<br>ISRG_Close: Weight=0.084<br>BA_Close: Weight=0.293<br>ABBV_Close: Weight=0.218<br>MCD_Close: Weight=0.193<br>WMT_Close: Weight=0.174<br>NVDA_Close: Weight=0.037",
                    "Return: 50.921%<br>Volatility: 0.091<br>Sharpe Ratio: 5.597<br>XOM_Close: Weight=0.000<br>DUK_Close: Weight=0.000<br>ISRG_Close: Weight=0.084<br>BA_Close: Weight=0.293<br>ABBV_Close: Weight=0.218<br>MCD_Close: Weight=0.193<br>WMT_Close: Weight=0.174<br>NVDA_Close: Weight=0.037",
                    "Return: 50.921%<br>Volatility: 0.091<br>Sharpe Ratio: 5.597<br>XOM_Close: Weight=0.000<br>DUK_Close: Weight=0.000<br>ISRG_Close: Weight=0.084<br>BA_Close: Weight=0.293<br>ABBV_Close: Weight=0.218<br>MCD_Close: Weight=0.193<br>WMT_Close: Weight=0.174<br>NVDA_Close: Weight=0.037",
                    "Return: 50.921%<br>Volatility: 0.091<br>Sharpe Ratio: 5.597<br>XOM_Close: Weight=0.000<br>DUK_Close: Weight=0.000<br>ISRG_Close: Weight=0.084<br>BA_Close: Weight=0.293<br>ABBV_Close: Weight=0.218<br>MCD_Close: Weight=0.193<br>WMT_Close: Weight=0.174<br>NVDA_Close: Weight=0.037",
                    "Return: 50.921%<br>Volatility: 0.091<br>Sharpe Ratio: 5.597<br>XOM_Close: Weight=0.000<br>DUK_Close: Weight=0.000<br>ISRG_Close: Weight=0.084<br>BA_Close: Weight=0.293<br>ABBV_Close: Weight=0.218<br>MCD_Close: Weight=0.193<br>WMT_Close: Weight=0.174<br>NVDA_Close: Weight=0.037",
                    "Return: 50.921%<br>Volatility: 0.091<br>Sharpe Ratio: 5.597<br>XOM_Close: Weight=0.000<br>DUK_Close: Weight=0.000<br>ISRG_Close: Weight=0.084<br>BA_Close: Weight=0.293<br>ABBV_Close: Weight=0.218<br>MCD_Close: Weight=0.193<br>WMT_Close: Weight=0.174<br>NVDA_Close: Weight=0.037",
                    "Return: 50.921%<br>Volatility: 0.091<br>Sharpe Ratio: 5.597<br>XOM_Close: Weight=0.000<br>DUK_Close: Weight=0.000<br>ISRG_Close: Weight=0.084<br>BA_Close: Weight=0.293<br>ABBV_Close: Weight=0.218<br>MCD_Close: Weight=0.193<br>WMT_Close: Weight=0.174<br>NVDA_Close: Weight=0.037",
                    "Return: 50.921%<br>Volatility: 0.091<br>Sharpe Ratio: 5.597<br>XOM_Close: Weight=0.000<br>DUK_Close: Weight=0.000<br>ISRG_Close: Weight=0.084<br>BA_Close: Weight=0.293<br>ABBV_Close: Weight=0.218<br>MCD_Close: Weight=0.193<br>WMT_Close: Weight=0.174<br>NVDA_Close: Weight=0.037",
                    "Return: 50.921%<br>Volatility: 0.091<br>Sharpe Ratio: 5.597<br>XOM_Close: Weight=0.000<br>DUK_Close: Weight=0.000<br>ISRG_Close: Weight=0.084<br>BA_Close: Weight=0.293<br>ABBV_Close: Weight=0.218<br>MCD_Close: Weight=0.193<br>WMT_Close: Weight=0.174<br>NVDA_Close: Weight=0.037",
                    "Return: 50.921%<br>Volatility: 0.091<br>Sharpe Ratio: 5.597<br>XOM_Close: Weight=0.000<br>DUK_Close: Weight=0.000<br>ISRG_Close: Weight=0.084<br>BA_Close: Weight=0.293<br>ABBV_Close: Weight=0.218<br>MCD_Close: Weight=0.193<br>WMT_Close: Weight=0.174<br>NVDA_Close: Weight=0.037",
                    "Return: 50.921%<br>Volatility: 0.091<br>Sharpe Ratio: 5.597<br>XOM_Close: Weight=0.000<br>DUK_Close: Weight=0.000<br>ISRG_Close: Weight=0.084<br>BA_Close: Weight=0.293<br>ABBV_Close: Weight=0.218<br>MCD_Close: Weight=0.193<br>WMT_Close: Weight=0.174<br>NVDA_Close: Weight=0.037",
                    "Return: 50.921%<br>Volatility: 0.091<br>Sharpe Ratio: 5.597<br>XOM_Close: Weight=0.000<br>DUK_Close: Weight=0.000<br>ISRG_Close: Weight=0.084<br>BA_Close: Weight=0.293<br>ABBV_Close: Weight=0.218<br>MCD_Close: Weight=0.193<br>WMT_Close: Weight=0.174<br>NVDA_Close: Weight=0.037",
                    "Return: 50.921%<br>Volatility: 0.091<br>Sharpe Ratio: 5.597<br>XOM_Close: Weight=0.000<br>DUK_Close: Weight=0.000<br>ISRG_Close: Weight=0.084<br>BA_Close: Weight=0.293<br>ABBV_Close: Weight=0.218<br>MCD_Close: Weight=0.193<br>WMT_Close: Weight=0.174<br>NVDA_Close: Weight=0.037",
                    "Return: 50.921%<br>Volatility: 0.091<br>Sharpe Ratio: 5.597<br>XOM_Close: Weight=0.000<br>DUK_Close: Weight=0.000<br>ISRG_Close: Weight=0.084<br>BA_Close: Weight=0.293<br>ABBV_Close: Weight=0.218<br>MCD_Close: Weight=0.193<br>WMT_Close: Weight=0.174<br>NVDA_Close: Weight=0.037",
                    "Return: 50.921%<br>Volatility: 0.091<br>Sharpe Ratio: 5.597<br>XOM_Close: Weight=0.000<br>DUK_Close: Weight=0.000<br>ISRG_Close: Weight=0.084<br>BA_Close: Weight=0.293<br>ABBV_Close: Weight=0.218<br>MCD_Close: Weight=0.193<br>WMT_Close: Weight=0.174<br>NVDA_Close: Weight=0.037",
                    "Return: 50.921%<br>Volatility: 0.091<br>Sharpe Ratio: 5.597<br>XOM_Close: Weight=0.000<br>DUK_Close: Weight=0.000<br>ISRG_Close: Weight=0.084<br>BA_Close: Weight=0.293<br>ABBV_Close: Weight=0.218<br>MCD_Close: Weight=0.193<br>WMT_Close: Weight=0.174<br>NVDA_Close: Weight=0.037",
                    "Return: 50.921%<br>Volatility: 0.091<br>Sharpe Ratio: 5.597<br>XOM_Close: Weight=0.000<br>DUK_Close: Weight=0.000<br>ISRG_Close: Weight=0.084<br>BA_Close: Weight=0.293<br>ABBV_Close: Weight=0.218<br>MCD_Close: Weight=0.193<br>WMT_Close: Weight=0.174<br>NVDA_Close: Weight=0.037",
                    "Return: 50.921%<br>Volatility: 0.091<br>Sharpe Ratio: 5.597<br>XOM_Close: Weight=0.000<br>DUK_Close: Weight=0.000<br>ISRG_Close: Weight=0.084<br>BA_Close: Weight=0.293<br>ABBV_Close: Weight=0.218<br>MCD_Close: Weight=0.193<br>WMT_Close: Weight=0.174<br>NVDA_Close: Weight=0.037",
                    "Return: 50.921%<br>Volatility: 0.091<br>Sharpe Ratio: 5.597<br>XOM_Close: Weight=0.000<br>DUK_Close: Weight=0.000<br>ISRG_Close: Weight=0.084<br>BA_Close: Weight=0.293<br>ABBV_Close: Weight=0.218<br>MCD_Close: Weight=0.193<br>WMT_Close: Weight=0.174<br>NVDA_Close: Weight=0.037",
                    "Return: 50.921%<br>Volatility: 0.091<br>Sharpe Ratio: 5.597<br>XOM_Close: Weight=0.000<br>DUK_Close: Weight=0.000<br>ISRG_Close: Weight=0.084<br>BA_Close: Weight=0.293<br>ABBV_Close: Weight=0.218<br>MCD_Close: Weight=0.193<br>WMT_Close: Weight=0.174<br>NVDA_Close: Weight=0.037",
                    "Return: 50.921%<br>Volatility: 0.091<br>Sharpe Ratio: 5.597<br>XOM_Close: Weight=0.000<br>DUK_Close: Weight=0.000<br>ISRG_Close: Weight=0.084<br>BA_Close: Weight=0.293<br>ABBV_Close: Weight=0.218<br>MCD_Close: Weight=0.193<br>WMT_Close: Weight=0.174<br>NVDA_Close: Weight=0.037",
                    "Return: 50.921%<br>Volatility: 0.091<br>Sharpe Ratio: 5.597<br>XOM_Close: Weight=0.000<br>DUK_Close: Weight=0.000<br>ISRG_Close: Weight=0.084<br>BA_Close: Weight=0.293<br>ABBV_Close: Weight=0.218<br>MCD_Close: Weight=0.193<br>WMT_Close: Weight=0.174<br>NVDA_Close: Weight=0.037",
                    "Return: 50.921%<br>Volatility: 0.091<br>Sharpe Ratio: 5.597<br>XOM_Close: Weight=0.000<br>DUK_Close: Weight=0.000<br>ISRG_Close: Weight=0.084<br>BA_Close: Weight=0.293<br>ABBV_Close: Weight=0.218<br>MCD_Close: Weight=0.193<br>WMT_Close: Weight=0.174<br>NVDA_Close: Weight=0.037",
                    "Return: 50.921%<br>Volatility: 0.091<br>Sharpe Ratio: 5.597<br>XOM_Close: Weight=0.000<br>DUK_Close: Weight=0.000<br>ISRG_Close: Weight=0.084<br>BA_Close: Weight=0.293<br>ABBV_Close: Weight=0.218<br>MCD_Close: Weight=0.193<br>WMT_Close: Weight=0.174<br>NVDA_Close: Weight=0.037",
                    "Return: 50.921%<br>Volatility: 0.091<br>Sharpe Ratio: 5.597<br>XOM_Close: Weight=0.000<br>DUK_Close: Weight=0.000<br>ISRG_Close: Weight=0.084<br>BA_Close: Weight=0.293<br>ABBV_Close: Weight=0.218<br>MCD_Close: Weight=0.193<br>WMT_Close: Weight=0.174<br>NVDA_Close: Weight=0.037",
                    "Return: 50.921%<br>Volatility: 0.091<br>Sharpe Ratio: 5.597<br>XOM_Close: Weight=0.000<br>DUK_Close: Weight=0.000<br>ISRG_Close: Weight=0.084<br>BA_Close: Weight=0.293<br>ABBV_Close: Weight=0.218<br>MCD_Close: Weight=0.193<br>WMT_Close: Weight=0.174<br>NVDA_Close: Weight=0.037",
                    "Return: 50.921%<br>Volatility: 0.091<br>Sharpe Ratio: 5.597<br>XOM_Close: Weight=0.000<br>DUK_Close: Weight=0.000<br>ISRG_Close: Weight=0.084<br>BA_Close: Weight=0.293<br>ABBV_Close: Weight=0.218<br>MCD_Close: Weight=0.193<br>WMT_Close: Weight=0.174<br>NVDA_Close: Weight=0.037",
                    "Return: 50.921%<br>Volatility: 0.091<br>Sharpe Ratio: 5.597<br>XOM_Close: Weight=0.000<br>DUK_Close: Weight=0.000<br>ISRG_Close: Weight=0.084<br>BA_Close: Weight=0.293<br>ABBV_Close: Weight=0.218<br>MCD_Close: Weight=0.193<br>WMT_Close: Weight=0.174<br>NVDA_Close: Weight=0.037",
                    "Return: 50.921%<br>Volatility: 0.091<br>Sharpe Ratio: 5.597<br>XOM_Close: Weight=0.000<br>DUK_Close: Weight=0.000<br>ISRG_Close: Weight=0.084<br>BA_Close: Weight=0.293<br>ABBV_Close: Weight=0.218<br>MCD_Close: Weight=0.193<br>WMT_Close: Weight=0.174<br>NVDA_Close: Weight=0.037",
                    "Return: 50.921%<br>Volatility: 0.091<br>Sharpe Ratio: 5.597<br>XOM_Close: Weight=0.000<br>DUK_Close: Weight=0.000<br>ISRG_Close: Weight=0.084<br>BA_Close: Weight=0.293<br>ABBV_Close: Weight=0.218<br>MCD_Close: Weight=0.193<br>WMT_Close: Weight=0.174<br>NVDA_Close: Weight=0.037",
                    "Return: 50.921%<br>Volatility: 0.091<br>Sharpe Ratio: 5.597<br>XOM_Close: Weight=0.000<br>DUK_Close: Weight=0.000<br>ISRG_Close: Weight=0.084<br>BA_Close: Weight=0.293<br>ABBV_Close: Weight=0.218<br>MCD_Close: Weight=0.193<br>WMT_Close: Weight=0.174<br>NVDA_Close: Weight=0.037",
                    "Return: 50.921%<br>Volatility: 0.091<br>Sharpe Ratio: 5.597<br>XOM_Close: Weight=0.000<br>DUK_Close: Weight=0.000<br>ISRG_Close: Weight=0.084<br>BA_Close: Weight=0.293<br>ABBV_Close: Weight=0.218<br>MCD_Close: Weight=0.193<br>WMT_Close: Weight=0.174<br>NVDA_Close: Weight=0.037",
                    "Return: 50.921%<br>Volatility: 0.091<br>Sharpe Ratio: 5.597<br>XOM_Close: Weight=0.000<br>DUK_Close: Weight=0.000<br>ISRG_Close: Weight=0.084<br>BA_Close: Weight=0.293<br>ABBV_Close: Weight=0.218<br>MCD_Close: Weight=0.193<br>WMT_Close: Weight=0.174<br>NVDA_Close: Weight=0.037",
                    "Return: 50.921%<br>Volatility: 0.091<br>Sharpe Ratio: 5.597<br>XOM_Close: Weight=0.000<br>DUK_Close: Weight=0.000<br>ISRG_Close: Weight=0.084<br>BA_Close: Weight=0.293<br>ABBV_Close: Weight=0.218<br>MCD_Close: Weight=0.193<br>WMT_Close: Weight=0.174<br>NVDA_Close: Weight=0.037",
                    "Return: 50.921%<br>Volatility: 0.091<br>Sharpe Ratio: 5.597<br>XOM_Close: Weight=0.000<br>DUK_Close: Weight=0.000<br>ISRG_Close: Weight=0.084<br>BA_Close: Weight=0.293<br>ABBV_Close: Weight=0.218<br>MCD_Close: Weight=0.193<br>WMT_Close: Weight=0.174<br>NVDA_Close: Weight=0.037",
                    "Return: 50.921%<br>Volatility: 0.091<br>Sharpe Ratio: 5.597<br>XOM_Close: Weight=0.000<br>DUK_Close: Weight=0.000<br>ISRG_Close: Weight=0.084<br>BA_Close: Weight=0.293<br>ABBV_Close: Weight=0.218<br>MCD_Close: Weight=0.193<br>WMT_Close: Weight=0.174<br>NVDA_Close: Weight=0.037"
                  ],
                  "type": "scatter",
                  "x": [
                    0.08431254376865567,
                    0.10954464386708812,
                    0.11076375817047916,
                    0.12828378925375705,
                    0.11786274651190769,
                    0.11786274611679037,
                    0.11786274611679037,
                    0.1145692486848843,
                    0.11409442068714526,
                    0.11412973553317764,
                    0.11583500488918279,
                    0.11637581307660969,
                    0.11637581307660969,
                    0.11582295983025909,
                    0.11591746462228825,
                    0.1158346377792815,
                    0.11583919060194912,
                    0.11583155987576646,
                    0.1147997170195575,
                    0.11170382268971536,
                    0.1114804378919654,
                    0.11130067271616821,
                    0.1113339902333825,
                    0.11130362076422977,
                    0.11127145110818919,
                    0.1113049704406533,
                    0.11129080113426473,
                    0.11130208254813823,
                    0.10454166978129127,
                    0.10576901558331256,
                    0.10454167077373355,
                    0.10501739052691052,
                    0.10502188359005772,
                    0.1050138957793721,
                    0.10501130156086869,
                    0.10498696831871661,
                    0.10416316057861412,
                    0.10501497182169563,
                    0.1050136671607918,
                    0.10298027149864379,
                    0.10030672064004958,
                    0.10292185017400589,
                    0.10212397386371946,
                    0.10030672201414689,
                    0.10244541698506279,
                    0.10245133421431064,
                    0.1024502528431718,
                    0.10245698050950702,
                    0.10245825694864207,
                    0.10245073585970513,
                    0.10245391445367413,
                    0.10244530568790688,
                    0.09921611865380557,
                    0.10244432377297802,
                    0.10245047864155335,
                    0.10247478112528664,
                    0.1021047503251857,
                    0.0989157024154531,
                    0.09905143874681055,
                    0.09905143874681055,
                    0.09798677015444508,
                    0.09891570267326781,
                    0.09615349706817956,
                    0.09905143874681055,
                    0.09798677015444508,
                    0.09891570267326781,
                    0.09615349706817956,
                    0.09829360391364603,
                    0.09828129808055595,
                    0.0982998721757912,
                    0.0983003433771644,
                    0.09827912560794523,
                    0.09829965629163204,
                    0.09544042495889103,
                    0.09829007926520729,
                    0.09829617717722076,
                    0.09830222182134454,
                    0.09828693893167575,
                    0.0950075587923855,
                    0.09905143874681055,
                    0.09798677015444508,
                    0.09891570267326781,
                    0.09615349706817956,
                    0.09829360391364603,
                    0.09828129808055595,
                    0.0982998721757912,
                    0.0983003433771644,
                    0.09827912560794523,
                    0.09829965629163204,
                    0.09544042495889103,
                    0.09829007926520729,
                    0.09829617717722076,
                    0.09830222182134454,
                    0.09828693893167575,
                    0.0950075587923855,
                    0.09829218965184298,
                    0.09766425937879099,
                    0.09829741171074033,
                    0.09829865608717668,
                    0.09829900398095559,
                    0.09828876030644847,
                    0.09827417851108156,
                    0.09829912331515349,
                    0.09828147188590455,
                    0.09831548392412551,
                    0.09830713989201377,
                    0.09831254374102032,
                    0.09829710670199895,
                    0.09831350075775426,
                    0.09828403599115122,
                    0.0945708472453123,
                    0.09829646972911525,
                    0.09830575652246908,
                    0.09583463182723925,
                    0.08984612806477825,
                    0.0909810475018942,
                    0.08968145070757018,
                    0.0896966671976333,
                    0.08984612784379695,
                    0.0909810475018942,
                    0.08968145070757018,
                    0.0896966671976333,
                    0.08984612784379695,
                    0.08967446165228146,
                    0.08841057108983243,
                    0.08968031575540694,
                    0.08967811709751174,
                    0.08968072930092709,
                    0.08968111178268005,
                    0.08947883675260587,
                    0.08903583868556009,
                    0.08968508387339082,
                    0.08722570943948287,
                    0.08680165095057901,
                    0.0894665488699904,
                    0.08968216633134367,
                    0.0896810265942712,
                    0.08896317576241629,
                    0.08968084456884823,
                    0.08968126783535467,
                    0.08967769624261882,
                    0.0896812977976726,
                    0.08968056449753328,
                    0.08968006854776459,
                    0.08968087523347205,
                    0.08968207704508678,
                    0.08968075216136215,
                    0.08968055326596425,
                    0.08895758792379925,
                    0.08968083991897921,
                    0.08967766083837589,
                    0.08967354703138855,
                    0.08385932674026002,
                    0.08925394389538849,
                    0.08968099043370939,
                    0.08649560129687386,
                    0.08968080924185874,
                    0.08911385195679328,
                    0.08968095708347662,
                    0.07864576700608228,
                    0.08968168672433757,
                    0.08249263840336271,
                    0.08968028556189199,
                    0.08968106569477427,
                    0.08865470480122159,
                    0.08968093521305917,
                    0.0896813153938192,
                    0.08968098862948215,
                    0.08968125036000585,
                    0.08968109965266627,
                    0.0859406956457614,
                    0.089681045068105,
                    0.08968042892121318,
                    0.08967969314186643,
                    0.08968116991114795,
                    0.08968592921450631,
                    0.08968069257686606,
                    0.0896780444815872,
                    0.08705704444339347,
                    0.0879529652131928,
                    0.08968129188445356,
                    0.0896812755188247,
                    0.08968742128037915,
                    0.08968230869307482,
                    0.08968106930468235,
                    0.0896807465302674,
                    0.08968487529756977,
                    0.08248627269836581,
                    0.08012996998596472,
                    0.08968107286948862,
                    0.08440768915246508,
                    0.08968218719427773,
                    0.08968061779817173,
                    0.08968134899593337,
                    0.0896809991122834,
                    0.08728172522974233,
                    0.08968617602996337,
                    0.08968470496744242,
                    0.08607026007538136,
                    0.08968218467018353,
                    0.08968018067999743,
                    0.08968126359379196,
                    0.08968557388453356,
                    0.08968100178615034,
                    0.0896806386261315,
                    0.08968243316066392,
                    0.0909810475018942,
                    0.0909810475018942,
                    0.0909810475018942,
                    0.0909810475018942,
                    0.0909810475018942,
                    0.0909810475018942,
                    0.0909810475018942,
                    0.0909810475018942,
                    0.0909810475018942,
                    0.0909810475018942,
                    0.0909810475018942,
                    0.0909810475018942,
                    0.0909810475018942,
                    0.0909810475018942,
                    0.0909810475018942,
                    0.0909810475018942,
                    0.0909810475018942,
                    0.0909810475018942,
                    0.0909810475018942,
                    0.0909810475018942,
                    0.0909810475018942,
                    0.0909810475018942,
                    0.0909810475018942,
                    0.0909810475018942,
                    0.0909810475018942,
                    0.0909810475018942,
                    0.0909810475018942,
                    0.0909810475018942,
                    0.0909810475018942,
                    0.0909810475018942,
                    0.0909810475018942,
                    0.0909810475018942,
                    0.0909810475018942,
                    0.0909810475018942,
                    0.0909810475018942,
                    0.0909810475018942,
                    0.0909810475018942,
                    0.0909810475018942,
                    0.0909810475018942,
                    0.0909810475018942,
                    0.0909810475018942,
                    0.0909810475018942,
                    0.0909810475018942,
                    0.0909810475018942,
                    0.0909810475018942,
                    0.0909810475018942,
                    0.0909810475018942,
                    0.0909810475018942,
                    0.0909810475018942,
                    0.0909810475018942,
                    0.0909810475018942,
                    0.0909810475018942,
                    0.0909810475018942,
                    0.0909810475018942,
                    0.0909810475018942,
                    0.0909810475018942,
                    0.0909810475018942,
                    0.0909810475018942,
                    0.0909810475018942,
                    0.0909810475018942,
                    0.0909810475018942,
                    0.0909810475018942,
                    0.0909810475018942,
                    0.0909810475018942,
                    0.0909810475018942,
                    0.0909810475018942,
                    0.0909810475018942,
                    0.0909810475018942,
                    0.0909810475018942,
                    0.0909810475018942,
                    0.0909810475018942,
                    0.0909810475018942,
                    0.0909810475018942,
                    0.0909810475018942,
                    0.0909810475018942,
                    0.0909810475018942,
                    0.0909810475018942,
                    0.0909810475018942,
                    0.0909810475018942,
                    0.0909810475018942,
                    0.0909810475018942,
                    0.0909810475018942,
                    0.0909810475018942,
                    0.0909810475018942,
                    0.0909810475018942,
                    0.0909810475018942,
                    0.0909810475018942,
                    0.0909810475018942,
                    0.0909810475018942,
                    0.0909810475018942,
                    0.0909810475018942,
                    0.0909810475018942,
                    0.0909810475018942,
                    0.0909810475018942,
                    0.0909810475018942
                  ],
                  "y": [
                    0.17513805798280338,
                    0.27114865715959663,
                    0.3041776130359891,
                    0.42997187615873805,
                    0.4115444318392868,
                    0.41154443045987993,
                    0.41154443045987993,
                    0.39706013438776333,
                    0.3949838553917198,
                    0.3951837616360197,
                    0.5029390046325961,
                    0.5055452855207825,
                    0.5055452855207825,
                    0.5028867020317942,
                    0.503355853709704,
                    0.5029374111920182,
                    0.5029571754527694,
                    0.5029240471106016,
                    0.4986165093113115,
                    0.4943403999359533,
                    0.49073039437006744,
                    0.4899160057525806,
                    0.4900626352733691,
                    0.4899289727844996,
                    0.48978733724448004,
                    0.48993490841762816,
                    0.4898725215020716,
                    0.48992219451896246,
                    0.5153029229010255,
                    0.5173081835587345,
                    0.5153029277928064,
                    0.5129855948570665,
                    0.5130075384486427,
                    0.5129685250592492,
                    0.5129558523535681,
                    0.5128369644714985,
                    0.5095042554518764,
                    0.5129737817750557,
                    0.5129674012152233,
                    0.5044672520295258,
                    0.549126039699853,
                    0.5633398507641882,
                    0.5572062183716462,
                    0.549126047222119,
                    0.5578198416138263,
                    0.5578520942127819,
                    0.5578461781435503,
                    0.5578828176511765,
                    0.5578897830422485,
                    0.5578488141946982,
                    0.5578661439714084,
                    0.5578192678793445,
                    0.5430501731837021,
                    0.5578139207180149,
                    0.5578474289936141,
                    0.5579797481285784,
                    0.556007546904914,
                    0.5447371454575435,
                    0.5483299797389232,
                    0.5483299797389232,
                    0.5396746242147312,
                    0.544737146877737,
                    0.5326615881858895,
                    0.5483299797389232,
                    0.5396746242147312,
                    0.544737146877737,
                    0.5326615881858895,
                    0.5403289939777435,
                    0.5402613569441378,
                    0.5403634755093765,
                    0.5403660218404278,
                    0.5402494082357919,
                    0.5403622888851446,
                    0.5272186145299677,
                    0.5403096388697867,
                    0.540343163304883,
                    0.5403763913959405,
                    0.5402923652544684,
                    0.5270555296940747,
                    0.5483299797389232,
                    0.5396746242147312,
                    0.544737146877737,
                    0.5326615881858895,
                    0.5403289939777435,
                    0.5402613569441378,
                    0.5403634755093765,
                    0.5403660218404278,
                    0.5402494082357919,
                    0.5403622888851446,
                    0.5272186145299677,
                    0.5403096388697867,
                    0.540343163304883,
                    0.5403763913959405,
                    0.5402923652544684,
                    0.5270555296940747,
                    0.5403212417573975,
                    0.5370359996510786,
                    0.5403499500666505,
                    0.5403567865213769,
                    0.5403587029840521,
                    0.5403023797609302,
                    0.5402221961311022,
                    0.5403593590120382,
                    0.5402622762133201,
                    0.5404492612547707,
                    0.5404034200569465,
                    0.5404331145650094,
                    0.540348225066915,
                    0.5404383799997797,
                    0.5402764115577656,
                    0.5221052793476646,
                    0.5403447682158403,
                    0.5403958178355361,
                    0.5280547055431991,
                    0.5207237875499682,
                    0.5092085324004372,
                    0.496043647700652,
                    0.49756475175518156,
                    0.5207237862700982,
                    0.5092085324004372,
                    0.496043647700652,
                    0.49756475175518156,
                    0.5207237862700982,
                    0.49600908589822235,
                    0.4949382142126868,
                    0.4960373701492266,
                    0.4960251972744011,
                    0.4960396584020023,
                    0.4960417693785913,
                    0.49504731901924326,
                    0.49288547092927504,
                    0.49606371531825266,
                    0.48559263381385637,
                    0.4885275120960686,
                    0.49491526631186183,
                    0.4960476034309452,
                    0.4960413028221134,
                    0.49246782602965394,
                    0.4960402959614887,
                    0.4960426371210234,
                    0.4960228721098107,
                    0.49604280274987894,
                    0.49603874673391707,
                    0.49603600215823784,
                    0.4960404656193154,
                    0.49604710882210534,
                    0.4960397848415561,
                    0.49603868461448947,
                    0.49217825010137733,
                    0.4960402702661441,
                    0.49602267501282366,
                    0.49599991158394147,
                    0.469940323993218,
                    0.4937319521052947,
                    0.49604110282859804,
                    0.47927029553923606,
                    0.4960400979495502,
                    0.4929906897479641,
                    0.4960409183573464,
                    0.4482589572790884,
                    0.4960449527893476,
                    0.4685171762826634,
                    0.4960372033955189,
                    0.4960415191011504,
                    0.4904657562333722,
                    0.4960407972814348,
                    0.4960428997895802,
                    0.49604109284872117,
                    0.49604254037760676,
                    0.49604170692876487,
                    0.47680154780922973,
                    0.4960414050045034,
                    0.4960379966711231,
                    0.496033925114876,
                    0.49604209350676254,
                    0.49606840079486575,
                    0.49603945521108733,
                    0.49602479828945956,
                    0.48305705572976987,
                    0.4871143829762058,
                    0.49604277002494984,
                    0.496042679597381,
                    0.4960766388415672,
                    0.49604838827386466,
                    0.49604153900985426,
                    0.49603975363633873,
                    0.49606257741913806,
                    0.45887139250905185,
                    0.4535254193137692,
                    0.49604155803735617,
                    0.4686553638361761,
                    0.49604771982054324,
                    0.49603903406335964,
                    0.49604308594198704,
                    0.4960411504344141,
                    0.48424304153730896,
                    0.4960697567902705,
                    0.4960616303009873,
                    0.47860723372653224,
                    0.4960476636936352,
                    0.49603661979111346,
                    0.4960426135725631,
                    0.4960664227075603,
                    0.4960411654810852,
                    0.4960391550551567,
                    0.4960490774161937,
                    0.5092085324004372,
                    0.5092085324004372,
                    0.5092085324004372,
                    0.5092085324004372,
                    0.5092085324004372,
                    0.5092085324004372,
                    0.5092085324004372,
                    0.5092085324004372,
                    0.5092085324004372,
                    0.5092085324004372,
                    0.5092085324004372,
                    0.5092085324004372,
                    0.5092085324004372,
                    0.5092085324004372,
                    0.5092085324004372,
                    0.5092085324004372,
                    0.5092085324004372,
                    0.5092085324004372,
                    0.5092085324004372,
                    0.5092085324004372,
                    0.5092085324004372,
                    0.5092085324004372,
                    0.5092085324004372,
                    0.5092085324004372,
                    0.5092085324004372,
                    0.5092085324004372,
                    0.5092085324004372,
                    0.5092085324004372,
                    0.5092085324004372,
                    0.5092085324004372,
                    0.5092085324004372,
                    0.5092085324004372,
                    0.5092085324004372,
                    0.5092085324004372,
                    0.5092085324004372,
                    0.5092085324004372,
                    0.5092085324004372,
                    0.5092085324004372,
                    0.5092085324004372,
                    0.5092085324004372,
                    0.5092085324004372,
                    0.5092085324004372,
                    0.5092085324004372,
                    0.5092085324004372,
                    0.5092085324004372,
                    0.5092085324004372,
                    0.5092085324004372,
                    0.5092085324004372,
                    0.5092085324004372,
                    0.5092085324004372,
                    0.5092085324004372,
                    0.5092085324004372,
                    0.5092085324004372,
                    0.5092085324004372,
                    0.5092085324004372,
                    0.5092085324004372,
                    0.5092085324004372,
                    0.5092085324004372,
                    0.5092085324004372,
                    0.5092085324004372,
                    0.5092085324004372,
                    0.5092085324004372,
                    0.5092085324004372,
                    0.5092085324004372,
                    0.5092085324004372,
                    0.5092085324004372,
                    0.5092085324004372,
                    0.5092085324004372,
                    0.5092085324004372,
                    0.5092085324004372,
                    0.5092085324004372,
                    0.5092085324004372,
                    0.5092085324004372,
                    0.5092085324004372,
                    0.5092085324004372,
                    0.5092085324004372,
                    0.5092085324004372,
                    0.5092085324004372,
                    0.5092085324004372,
                    0.5092085324004372,
                    0.5092085324004372,
                    0.5092085324004372,
                    0.5092085324004372,
                    0.5092085324004372,
                    0.5092085324004372,
                    0.5092085324004372,
                    0.5092085324004372,
                    0.5092085324004372,
                    0.5092085324004372,
                    0.5092085324004372,
                    0.5092085324004372,
                    0.5092085324004372,
                    0.5092085324004372,
                    0.5092085324004372,
                    0.5092085324004372
                  ]
                },
                {
                  "hoverinfo": "text",
                  "hovertext": [
                    "CRM_Close <br>Volatility: 0.156 <br>Returns: 25.484% <br>Sharpe Ratio: 1.634",
                    "BIIB_Close <br>Volatility: 0.228 <br>Returns: 9.799% <br>Sharpe Ratio: 0.430",
                    "XOM_Close <br>Volatility: 0.104 <br>Returns: 3.880% <br>Sharpe Ratio: 0.374",
                    "KR_Close <br>Volatility: 0.363 <br>Returns: -11.512% <br>Sharpe Ratio: -0.317",
                    "MDT_Close <br>Volatility: 0.152 <br>Returns: 0.821% <br>Sharpe Ratio: 0.054",
                    "EXC_Close <br>Volatility: 0.131 <br>Returns: 12.626% <br>Sharpe Ratio: 0.960",
                    "DUK_Close <br>Volatility: 0.094 <br>Returns: 6.184% <br>Sharpe Ratio: 0.655",
                    "SAP_Close <br>Volatility: 0.137 <br>Returns: 22.379% <br>Sharpe Ratio: 1.628",
                    "T_Close <br>Volatility: 0.175 <br>Returns: -3.526% <br>Sharpe Ratio: -0.201",
                    "DE_Close <br>Volatility: 0.179 <br>Returns: 45.118% <br>Sharpe Ratio: 2.527",
                    "META_Close <br>Volatility: 0.173 <br>Returns: 30.584% <br>Sharpe Ratio: 1.771",
                    "NEE_Close <br>Volatility: 0.112 <br>Returns: 23.547% <br>Sharpe Ratio: 2.101",
                    "CMCSA_Close <br>Volatility: 0.206 <br>Returns: 9.549% <br>Sharpe Ratio: 0.465",
                    "MSFT_Close <br>Volatility: 0.152 <br>Returns: 36.718% <br>Sharpe Ratio: 2.419",
                    "RMD_Close <br>Volatility: 0.201 <br>Returns: 20.344% <br>Sharpe Ratio: 1.013",
                    "CPB_Close <br>Volatility: 0.240 <br>Returns: -23.666% <br>Sharpe Ratio: -0.984",
                    "AAPL_Close <br>Volatility: 0.176 <br>Returns: 25.044% <br>Sharpe Ratio: 1.423",
                    "V_Close <br>Volatility: 0.125 <br>Returns: 30.982% <br>Sharpe Ratio: 2.471",
                    "BTI_Close <br>Volatility: 0.191 <br>Returns: 11.154% <br>Sharpe Ratio: 0.584",
                    "GIS_Close <br>Volatility: 0.174 <br>Returns: -0.030% <br>Sharpe Ratio: -0.002",
                    "VRTX_Close <br>Volatility: 0.385 <br>Returns: 61.334% <br>Sharpe Ratio: 1.595",
                    "HD_Close <br>Volatility: 0.135 <br>Returns: 32.454% <br>Sharpe Ratio: 2.404",
                    "ADBE_Close <br>Volatility: 0.228 <br>Returns: 45.540% <br>Sharpe Ratio: 1.999",
                    "ORCL_Close <br>Volatility: 0.187 <br>Returns: 13.134% <br>Sharpe Ratio: 0.701",
                    "BA_Close <br>Volatility: 0.174 <br>Returns: 59.541% <br>Sharpe Ratio: 3.416",
                    "AMD_Close <br>Volatility: 0.583 <br>Returns: -36.203% <br>Sharpe Ratio: -0.621",
                    "RTX_Close <br>Volatility: 0.136 <br>Returns: 16.980% <br>Sharpe Ratio: 1.244",
                    "BMY_Close <br>Volatility: 0.180 <br>Returns: 11.411% <br>Sharpe Ratio: 0.633",
                    "DIS_Close <br>Volatility: 0.158 <br>Returns: -1.539% <br>Sharpe Ratio: -0.097",
                    "BSX_Close <br>Volatility: 0.170 <br>Returns: -1.012% <br>Sharpe Ratio: -0.059",
                    "F_Close <br>Volatility: 0.166 <br>Returns: 2.996% <br>Sharpe Ratio: 0.180",
                    "SYY_Close <br>Volatility: 0.161 <br>Returns: 19.125% <br>Sharpe Ratio: 1.185",
                    "SRE_Close <br>Volatility: 0.134 <br>Returns: 0.416% <br>Sharpe Ratio: 0.031",
                    "JNJ_Close <br>Volatility: 0.114 <br>Returns: 16.968% <br>Sharpe Ratio: 1.485",
                    "UA_Close <br>Volatility: 0.464 <br>Returns: -42.368% <br>Sharpe Ratio: -0.913",
                    "PM_Close <br>Volatility: 0.140 <br>Returns: -0.165% <br>Sharpe Ratio: -0.012",
                    "RDY_Close <br>Volatility: 0.304 <br>Returns: -11.923% <br>Sharpe Ratio: -0.392",
                    "AMZN_Close <br>Volatility: 0.212 <br>Returns: 38.442% <br>Sharpe Ratio: 1.813",
                    "SYK_Close <br>Volatility: 0.155 <br>Returns: 21.732% <br>Sharpe Ratio: 1.398",
                    "WFC_Close <br>Volatility: 0.171 <br>Returns: 6.484% <br>Sharpe Ratio: 0.380",
                    "BABA_Close <br>Volatility: 0.267 <br>Returns: 61.610% <br>Sharpe Ratio: 2.305",
                    "ABT_Close <br>Volatility: 0.140 <br>Returns: 28.667% <br>Sharpe Ratio: 2.053",
                    "EMR_Close <br>Volatility: 0.163 <br>Returns: 20.267% <br>Sharpe Ratio: 1.246",
                    "WMT_Close <br>Volatility: 0.182 <br>Returns: 43.058% <br>Sharpe Ratio: 2.372",
                    "ABBV_Close <br>Volatility: 0.179 <br>Returns: 54.051% <br>Sharpe Ratio: 3.026",
                    "JPM_Close <br>Volatility: 0.156 <br>Returns: 19.920% <br>Sharpe Ratio: 1.276",
                    "GILD_Close <br>Volatility: 0.189 <br>Returns: 5.321% <br>Sharpe Ratio: 0.281",
                    "HON_Close <br>Volatility: 0.102 <br>Returns: 25.067% <br>Sharpe Ratio: 2.467",
                    "ISRG_Close <br>Volatility: 0.191 <br>Returns: 46.587% <br>Sharpe Ratio: 2.436",
                    "SNAP_Close <br>Volatility: 0.633 <br>Returns: -61.938% <br>Sharpe Ratio: -0.978",
                    "INTC_Close <br>Volatility: 0.176 <br>Returns: 32.628% <br>Sharpe Ratio: 1.858",
                    "KO_Close <br>Volatility: 0.086 <br>Returns: 13.237% <br>Sharpe Ratio: 1.533",
                    "MCD_Close <br>Volatility: 0.136 <br>Returns: 37.497% <br>Sharpe Ratio: 2.748",
                    "MA_Close <br>Volatility: 0.144 <br>Returns: 37.500% <br>Sharpe Ratio: 2.602",
                    "MS_Close <br>Volatility: 0.196 <br>Returns: 16.831% <br>Sharpe Ratio: 0.858",
                    "PYPL_Close <br>Volatility: 0.231 <br>Returns: 65.170% <br>Sharpe Ratio: 2.817",
                    "GOOGL_Close <br>Volatility: 0.157 <br>Returns: 25.766% <br>Sharpe Ratio: 1.638",
                    "K_Close <br>Volatility: 0.182 <br>Returns: -9.007% <br>Sharpe Ratio: -0.496",
                    "PEP_Close <br>Volatility: 0.098 <br>Returns: 12.729% <br>Sharpe Ratio: 1.302",
                    "SO_Close <br>Volatility: 0.119 <br>Returns: -1.259% <br>Sharpe Ratio: -0.106",
                    "CSCO_Close <br>Volatility: 0.164 <br>Returns: 16.111% <br>Sharpe Ratio: 0.982",
                    "ETN_Close <br>Volatility: 0.155 <br>Returns: 13.763% <br>Sharpe Ratio: 0.886",
                    "LMT_Close <br>Volatility: 0.110 <br>Returns: 24.360% <br>Sharpe Ratio: 2.206",
                    "CVX_Close <br>Volatility: 0.141 <br>Returns: 15.444% <br>Sharpe Ratio: 1.093",
                    "AEP_Close <br>Volatility: 0.106 <br>Returns: 15.149% <br>Sharpe Ratio: 1.424",
                    "PFE_Close <br>Volatility: 0.108 <br>Returns: 9.217% <br>Sharpe Ratio: 0.854",
                    "TXN_Close <br>Volatility: 0.161 <br>Returns: 37.142% <br>Sharpe Ratio: 2.300",
                    "VZ_Close <br>Volatility: 0.169 <br>Returns: 11.300% <br>Sharpe Ratio: 0.668",
                    "QCOM_Close <br>Volatility: 0.239 <br>Returns: 18.777% <br>Sharpe Ratio: 0.786",
                    "MO_Close <br>Volatility: 0.178 <br>Returns: -2.746% <br>Sharpe Ratio: -0.154",
                    "ACN_Close <br>Volatility: 0.133 <br>Returns: 27.346% <br>Sharpe Ratio: 2.059",
                    "LLY_Close <br>Volatility: 0.147 <br>Returns: 4.513% <br>Sharpe Ratio: 0.308",
                    "GS_Close <br>Volatility: 0.196 <br>Returns: 2.945% <br>Sharpe Ratio: 0.150",
                    "GM_Close <br>Volatility: 0.189 <br>Returns: 14.706% <br>Sharpe Ratio: 0.777",
                    "UNH_Close <br>Volatility: 0.141 <br>Returns: 34.904% <br>Sharpe Ratio: 2.475",
                    "DHR_Close <br>Volatility: 0.128 <br>Returns: 9.067% <br>Sharpe Ratio: 0.706",
                    "NVDA_Close <br>Volatility: 0.394 <br>Returns: 80.734% <br>Sharpe Ratio: 2.051",
                    "BAC_Close <br>Volatility: 0.209 <br>Returns: 20.360% <br>Sharpe Ratio: 0.972",
                    "GE_Close <br>Volatility: 0.213 <br>Returns: -62.754% <br>Sharpe Ratio: -2.947",
                    "TSLA_Close <br>Volatility: 0.359 <br>Returns: 26.105% <br>Sharpe Ratio: 0.728",
                    "TMO_Close <br>Volatility: 0.163 <br>Returns: 21.553% <br>Sharpe Ratio: 1.323",
                    "IBM_Close <br>Volatility: 0.158 <br>Returns: -15.905% <br>Sharpe Ratio: -1.009",
                    "AMGN_Close <br>Volatility: 0.168 <br>Returns: -0.355% <br>Sharpe Ratio: -0.021",
                    "GOOG_Close <br>Volatility: 0.160 <br>Returns: 27.711% <br>Sharpe Ratio: 1.737",
                    "EW_Close <br>Volatility: 0.232 <br>Returns: 22.603% <br>Sharpe Ratio: 0.973",
                    "NKE_Close <br>Volatility: 0.226 <br>Returns: 10.695% <br>Sharpe Ratio: 0.474",
                    "MMM_Close <br>Volatility: 0.131 <br>Returns: 27.772% <br>Sharpe Ratio: 2.118",
                    "PG_Close <br>Volatility: 0.098 <br>Returns: 4.023% <br>Sharpe Ratio: 0.410",
                    "MRK_Close <br>Volatility: 0.151 <br>Returns: -15.661% <br>Sharpe Ratio: -1.038",
                    "ZBH_Close <br>Volatility: 0.194 <br>Returns: 3.617% <br>Sharpe Ratio: 0.186",
                    "REGN_Close <br>Volatility: 0.282 <br>Returns: 0.032% <br>Sharpe Ratio: 0.001",
                    "NFLX_Close <br>Volatility: 0.287 <br>Returns: 38.281% <br>Sharpe Ratio: 1.334",
                    "COST_Close <br>Volatility: 0.199 <br>Returns: 11.208% <br>Sharpe Ratio: 0.564",
                    "CAT_Close <br>Volatility: 0.197 <br>Returns: 64.107% <br>Sharpe Ratio: 3.250"
                  ],
                  "marker": {
                    "color": "brown",
                    "line": {
                      "width": 1
                    },
                    "size": 5,
                    "symbol": "triangle-up"
                  },
                  "mode": "markers",
                  "name": "Individual Assets",
                  "type": "scatter",
                  "x": {
                    "bdata": "1oGiu/P1wz+dqmdAyiXNP0jiqQfdlro/O9nQ36k11z8Jcl/7eWnDP8fC/D2G08A//f6B72kruD/9DXrOkJfBP7IsUNMDa8Y/ZDhBZPbaxj/FTCS3exrGPwnvXpiHsrw/sBhu1WFQyj80NqrE3GzDP5VbHZLRssk/Yp7S7wbHzj+XStUtWIjGP4RLZPstDcA/WtTzdz5tyD96aiu+0DvGPw5EhZd2ndg/YMp8onNIwT/S+j5q7yjNP1dTbmUh98c/vCJqV5FPxj99ZuvUc6fiPy87rG6Yd8E/rU2YVvQWxz/FdmcO8zzEP9pf1IFY0sU/XhWYjR5HxT8HKvzdLqfEP7RwkWcNH8E/w8y3tUdAvT+pl1q7obLdP2gqGQfj4cE/fmkTvLh80z+YOtANKSLLP2KJg/Lr5sM/huEZ2pnVxT+/whzM9hvRPzNILgS64ME/KT3SooTSxD9Ys8kTiDzHPwAiI90s3cY/BrfU6ef8wz8Mbh8mY0DIPxQs/L/OA7o/XnJoD/d5yD9KaSCc0ELkP08ifFDvecY/2ku30qkbtj8rzeYZonfBP5AK6i/zcsI/169fSPccyT/Mi/6xkp3NP5jaDDn6IMQ/Gyw607I+xz9ILgTIIQi5P4GBiFbfa74/xYCsMPz9xD+oq8jo1uLDPyb6MAtQRrw/R5Phb78Wwj8ygz6atzy7P6rLOXPEn7s/mZIW3R2rxD9v5rzih6rFP83npY9Jkc4/ZoEy/crFxj9MZIj4BgHBP8mG/OJWycI/hrP5QxMfyT8CpRxGszvIP5UE/TKbDMI/jiomqAtvwD/X0v11jjLZP2Y74LyEzMo/RHAEfTNCyz8hLBVFBvTWP+4qcgyh28Q/yS2SkXMrxD/mkIMN6HXFPwKX7rmxasQ/fqECT2e9zT+k3AkDdOLMPxK9EgN2yMA/yhcqzmgYuT9s96jhRlLDP6Rwoitc3cg/CXDYJIYS0j8F2lAV6FvSP0q/SqWZcck/sHJmdRY/yT8=",
                    "dtype": "f8"
                  },
                  "y": {
                    "bdata": "f0wlgFVP0D9tm69L2RW5P4tIuHsh3aM/to7QEMN4vb9j6rE8482AP5q7G55NKcA/dQIGgLSprz9A+Z7lCqXMP1YrlqMpDaK/gw5xQB3g3D9BD6w94pLTP9hr85jSI84/ng3g3ipyuD8qeI/A4X/XP7gdVK4wCso/p+QixgRLzr/mYWqhMQfQP5pYxgcd1NM/pIXVqLCNvD8AcDh0ubgzvwnvQpl2oOM/PQ1Sek3F1D8kkzsWPiXdP0HErRa5z8A/OlLOu5MN4z9pAadVcCvXvzJObhAdvMU/ersVXw02vT9S8xGWwIKPv5YunwMfu4S/Q6Lv8a6unj+jXRAK1HrIP+ChaR7qDHE/Bdt6fC+4xT/MRfpaiR3bv4C8/kXl/Fq/9nY1UwaGvr8ip3Q+ZJrYP35Vepcr0cs/rdHEHiyZsD8b/DIUHrfjPyXCsBrhWNI/wDJqxD7xyT+IukMfs47bPyjXTpHTS+E/SLBMpnd/yT8RBerUQj6rPx7g4GAHC9A/juejQ+DQ3T9Wi/SZ9tHjv/JQNIu34dQ/N7ZUp2PxwD/ITXQogf/XP9nCGbr+/9c/7htx7iiLxT9EbdYlsdrkP652qfCIfdA/uWefhPEOt79zDn90HEvAPwB5ODfzx4m/yYk+QFifxD8R5CPD9p3BPyu+VG5WLs8/SNl/GrTEwz/dkKuY82PDP+JrsC+5mLc/pZY3mGDF1z/TPIi3WO28P4inD9PQCMg/yovi8PYenL92BSo/bIDRP/BqHYTTG6c/rMtfyPQmnj8nmQ005dLCP1fp2xS0VtY/DuJJVOc1tz8xoRUJvtXpP4sigFmaD8o/cEaShMkU5L9iVwFF+7TQP3Fw8SNmlss/laKNnrVbxL94bACGaxVtv+jnxDUzvNE/omGfxWzuzD/YVYd9LGG7P5MuRhw0xtE/ePpAzIqYpD+7AVEP6AvEv6/s6cUUhaI/mUnnXmDsND8nCi328H/YP0TwaA3zsLw/ssgGxKqD5D8=",
                    "dtype": "f8"
                  }
                }
              ],
              "layout": {
                "legend": {
                  "y": 5
                },
                "template": {
                  "data": {
                    "bar": [
                      {
                        "error_x": {
                          "color": "#2a3f5f"
                        },
                        "error_y": {
                          "color": "#2a3f5f"
                        },
                        "marker": {
                          "line": {
                            "color": "#E5ECF6",
                            "width": 0.5
                          },
                          "pattern": {
                            "fillmode": "overlay",
                            "size": 10,
                            "solidity": 0.2
                          }
                        },
                        "type": "bar"
                      }
                    ],
                    "barpolar": [
                      {
                        "marker": {
                          "line": {
                            "color": "#E5ECF6",
                            "width": 0.5
                          },
                          "pattern": {
                            "fillmode": "overlay",
                            "size": 10,
                            "solidity": 0.2
                          }
                        },
                        "type": "barpolar"
                      }
                    ],
                    "carpet": [
                      {
                        "aaxis": {
                          "endlinecolor": "#2a3f5f",
                          "gridcolor": "white",
                          "linecolor": "white",
                          "minorgridcolor": "white",
                          "startlinecolor": "#2a3f5f"
                        },
                        "baxis": {
                          "endlinecolor": "#2a3f5f",
                          "gridcolor": "white",
                          "linecolor": "white",
                          "minorgridcolor": "white",
                          "startlinecolor": "#2a3f5f"
                        },
                        "type": "carpet"
                      }
                    ],
                    "choropleth": [
                      {
                        "colorbar": {
                          "outlinewidth": 0,
                          "ticks": ""
                        },
                        "type": "choropleth"
                      }
                    ],
                    "contour": [
                      {
                        "colorbar": {
                          "outlinewidth": 0,
                          "ticks": ""
                        },
                        "colorscale": [
                          [
                            0,
                            "#0d0887"
                          ],
                          [
                            0.1111111111111111,
                            "#46039f"
                          ],
                          [
                            0.2222222222222222,
                            "#7201a8"
                          ],
                          [
                            0.3333333333333333,
                            "#9c179e"
                          ],
                          [
                            0.4444444444444444,
                            "#bd3786"
                          ],
                          [
                            0.5555555555555556,
                            "#d8576b"
                          ],
                          [
                            0.6666666666666666,
                            "#ed7953"
                          ],
                          [
                            0.7777777777777778,
                            "#fb9f3a"
                          ],
                          [
                            0.8888888888888888,
                            "#fdca26"
                          ],
                          [
                            1,
                            "#f0f921"
                          ]
                        ],
                        "type": "contour"
                      }
                    ],
                    "contourcarpet": [
                      {
                        "colorbar": {
                          "outlinewidth": 0,
                          "ticks": ""
                        },
                        "type": "contourcarpet"
                      }
                    ],
                    "heatmap": [
                      {
                        "colorbar": {
                          "outlinewidth": 0,
                          "ticks": ""
                        },
                        "colorscale": [
                          [
                            0,
                            "#0d0887"
                          ],
                          [
                            0.1111111111111111,
                            "#46039f"
                          ],
                          [
                            0.2222222222222222,
                            "#7201a8"
                          ],
                          [
                            0.3333333333333333,
                            "#9c179e"
                          ],
                          [
                            0.4444444444444444,
                            "#bd3786"
                          ],
                          [
                            0.5555555555555556,
                            "#d8576b"
                          ],
                          [
                            0.6666666666666666,
                            "#ed7953"
                          ],
                          [
                            0.7777777777777778,
                            "#fb9f3a"
                          ],
                          [
                            0.8888888888888888,
                            "#fdca26"
                          ],
                          [
                            1,
                            "#f0f921"
                          ]
                        ],
                        "type": "heatmap"
                      }
                    ],
                    "histogram": [
                      {
                        "marker": {
                          "pattern": {
                            "fillmode": "overlay",
                            "size": 10,
                            "solidity": 0.2
                          }
                        },
                        "type": "histogram"
                      }
                    ],
                    "histogram2d": [
                      {
                        "colorbar": {
                          "outlinewidth": 0,
                          "ticks": ""
                        },
                        "colorscale": [
                          [
                            0,
                            "#0d0887"
                          ],
                          [
                            0.1111111111111111,
                            "#46039f"
                          ],
                          [
                            0.2222222222222222,
                            "#7201a8"
                          ],
                          [
                            0.3333333333333333,
                            "#9c179e"
                          ],
                          [
                            0.4444444444444444,
                            "#bd3786"
                          ],
                          [
                            0.5555555555555556,
                            "#d8576b"
                          ],
                          [
                            0.6666666666666666,
                            "#ed7953"
                          ],
                          [
                            0.7777777777777778,
                            "#fb9f3a"
                          ],
                          [
                            0.8888888888888888,
                            "#fdca26"
                          ],
                          [
                            1,
                            "#f0f921"
                          ]
                        ],
                        "type": "histogram2d"
                      }
                    ],
                    "histogram2dcontour": [
                      {
                        "colorbar": {
                          "outlinewidth": 0,
                          "ticks": ""
                        },
                        "colorscale": [
                          [
                            0,
                            "#0d0887"
                          ],
                          [
                            0.1111111111111111,
                            "#46039f"
                          ],
                          [
                            0.2222222222222222,
                            "#7201a8"
                          ],
                          [
                            0.3333333333333333,
                            "#9c179e"
                          ],
                          [
                            0.4444444444444444,
                            "#bd3786"
                          ],
                          [
                            0.5555555555555556,
                            "#d8576b"
                          ],
                          [
                            0.6666666666666666,
                            "#ed7953"
                          ],
                          [
                            0.7777777777777778,
                            "#fb9f3a"
                          ],
                          [
                            0.8888888888888888,
                            "#fdca26"
                          ],
                          [
                            1,
                            "#f0f921"
                          ]
                        ],
                        "type": "histogram2dcontour"
                      }
                    ],
                    "mesh3d": [
                      {
                        "colorbar": {
                          "outlinewidth": 0,
                          "ticks": ""
                        },
                        "type": "mesh3d"
                      }
                    ],
                    "parcoords": [
                      {
                        "line": {
                          "colorbar": {
                            "outlinewidth": 0,
                            "ticks": ""
                          }
                        },
                        "type": "parcoords"
                      }
                    ],
                    "pie": [
                      {
                        "automargin": true,
                        "type": "pie"
                      }
                    ],
                    "scatter": [
                      {
                        "fillpattern": {
                          "fillmode": "overlay",
                          "size": 10,
                          "solidity": 0.2
                        },
                        "type": "scatter"
                      }
                    ],
                    "scatter3d": [
                      {
                        "line": {
                          "colorbar": {
                            "outlinewidth": 0,
                            "ticks": ""
                          }
                        },
                        "marker": {
                          "colorbar": {
                            "outlinewidth": 0,
                            "ticks": ""
                          }
                        },
                        "type": "scatter3d"
                      }
                    ],
                    "scattercarpet": [
                      {
                        "marker": {
                          "colorbar": {
                            "outlinewidth": 0,
                            "ticks": ""
                          }
                        },
                        "type": "scattercarpet"
                      }
                    ],
                    "scattergeo": [
                      {
                        "marker": {
                          "colorbar": {
                            "outlinewidth": 0,
                            "ticks": ""
                          }
                        },
                        "type": "scattergeo"
                      }
                    ],
                    "scattergl": [
                      {
                        "marker": {
                          "colorbar": {
                            "outlinewidth": 0,
                            "ticks": ""
                          }
                        },
                        "type": "scattergl"
                      }
                    ],
                    "scattermap": [
                      {
                        "marker": {
                          "colorbar": {
                            "outlinewidth": 0,
                            "ticks": ""
                          }
                        },
                        "type": "scattermap"
                      }
                    ],
                    "scattermapbox": [
                      {
                        "marker": {
                          "colorbar": {
                            "outlinewidth": 0,
                            "ticks": ""
                          }
                        },
                        "type": "scattermapbox"
                      }
                    ],
                    "scatterpolar": [
                      {
                        "marker": {
                          "colorbar": {
                            "outlinewidth": 0,
                            "ticks": ""
                          }
                        },
                        "type": "scatterpolar"
                      }
                    ],
                    "scatterpolargl": [
                      {
                        "marker": {
                          "colorbar": {
                            "outlinewidth": 0,
                            "ticks": ""
                          }
                        },
                        "type": "scatterpolargl"
                      }
                    ],
                    "scatterternary": [
                      {
                        "marker": {
                          "colorbar": {
                            "outlinewidth": 0,
                            "ticks": ""
                          }
                        },
                        "type": "scatterternary"
                      }
                    ],
                    "surface": [
                      {
                        "colorbar": {
                          "outlinewidth": 0,
                          "ticks": ""
                        },
                        "colorscale": [
                          [
                            0,
                            "#0d0887"
                          ],
                          [
                            0.1111111111111111,
                            "#46039f"
                          ],
                          [
                            0.2222222222222222,
                            "#7201a8"
                          ],
                          [
                            0.3333333333333333,
                            "#9c179e"
                          ],
                          [
                            0.4444444444444444,
                            "#bd3786"
                          ],
                          [
                            0.5555555555555556,
                            "#d8576b"
                          ],
                          [
                            0.6666666666666666,
                            "#ed7953"
                          ],
                          [
                            0.7777777777777778,
                            "#fb9f3a"
                          ],
                          [
                            0.8888888888888888,
                            "#fdca26"
                          ],
                          [
                            1,
                            "#f0f921"
                          ]
                        ],
                        "type": "surface"
                      }
                    ],
                    "table": [
                      {
                        "cells": {
                          "fill": {
                            "color": "#EBF0F8"
                          },
                          "line": {
                            "color": "white"
                          }
                        },
                        "header": {
                          "fill": {
                            "color": "#C8D4E3"
                          },
                          "line": {
                            "color": "white"
                          }
                        },
                        "type": "table"
                      }
                    ]
                  },
                  "layout": {
                    "annotationdefaults": {
                      "arrowcolor": "#2a3f5f",
                      "arrowhead": 0,
                      "arrowwidth": 1
                    },
                    "autotypenumbers": "strict",
                    "coloraxis": {
                      "colorbar": {
                        "outlinewidth": 0,
                        "ticks": ""
                      }
                    },
                    "colorscale": {
                      "diverging": [
                        [
                          0,
                          "#8e0152"
                        ],
                        [
                          0.1,
                          "#c51b7d"
                        ],
                        [
                          0.2,
                          "#de77ae"
                        ],
                        [
                          0.3,
                          "#f1b6da"
                        ],
                        [
                          0.4,
                          "#fde0ef"
                        ],
                        [
                          0.5,
                          "#f7f7f7"
                        ],
                        [
                          0.6,
                          "#e6f5d0"
                        ],
                        [
                          0.7,
                          "#b8e186"
                        ],
                        [
                          0.8,
                          "#7fbc41"
                        ],
                        [
                          0.9,
                          "#4d9221"
                        ],
                        [
                          1,
                          "#276419"
                        ]
                      ],
                      "sequential": [
                        [
                          0,
                          "#0d0887"
                        ],
                        [
                          0.1111111111111111,
                          "#46039f"
                        ],
                        [
                          0.2222222222222222,
                          "#7201a8"
                        ],
                        [
                          0.3333333333333333,
                          "#9c179e"
                        ],
                        [
                          0.4444444444444444,
                          "#bd3786"
                        ],
                        [
                          0.5555555555555556,
                          "#d8576b"
                        ],
                        [
                          0.6666666666666666,
                          "#ed7953"
                        ],
                        [
                          0.7777777777777778,
                          "#fb9f3a"
                        ],
                        [
                          0.8888888888888888,
                          "#fdca26"
                        ],
                        [
                          1,
                          "#f0f921"
                        ]
                      ],
                      "sequentialminus": [
                        [
                          0,
                          "#0d0887"
                        ],
                        [
                          0.1111111111111111,
                          "#46039f"
                        ],
                        [
                          0.2222222222222222,
                          "#7201a8"
                        ],
                        [
                          0.3333333333333333,
                          "#9c179e"
                        ],
                        [
                          0.4444444444444444,
                          "#bd3786"
                        ],
                        [
                          0.5555555555555556,
                          "#d8576b"
                        ],
                        [
                          0.6666666666666666,
                          "#ed7953"
                        ],
                        [
                          0.7777777777777778,
                          "#fb9f3a"
                        ],
                        [
                          0.8888888888888888,
                          "#fdca26"
                        ],
                        [
                          1,
                          "#f0f921"
                        ]
                      ]
                    },
                    "colorway": [
                      "#636efa",
                      "#EF553B",
                      "#00cc96",
                      "#ab63fa",
                      "#FFA15A",
                      "#19d3f3",
                      "#FF6692",
                      "#B6E880",
                      "#FF97FF",
                      "#FECB52"
                    ],
                    "font": {
                      "color": "#2a3f5f"
                    },
                    "geo": {
                      "bgcolor": "white",
                      "lakecolor": "white",
                      "landcolor": "#E5ECF6",
                      "showlakes": true,
                      "showland": true,
                      "subunitcolor": "white"
                    },
                    "hoverlabel": {
                      "align": "left"
                    },
                    "hovermode": "closest",
                    "mapbox": {
                      "style": "light"
                    },
                    "paper_bgcolor": "white",
                    "plot_bgcolor": "#E5ECF6",
                    "polar": {
                      "angularaxis": {
                        "gridcolor": "white",
                        "linecolor": "white",
                        "ticks": ""
                      },
                      "bgcolor": "#E5ECF6",
                      "radialaxis": {
                        "gridcolor": "white",
                        "linecolor": "white",
                        "ticks": ""
                      }
                    },
                    "scene": {
                      "xaxis": {
                        "backgroundcolor": "#E5ECF6",
                        "gridcolor": "white",
                        "gridwidth": 2,
                        "linecolor": "white",
                        "showbackground": true,
                        "ticks": "",
                        "zerolinecolor": "white"
                      },
                      "yaxis": {
                        "backgroundcolor": "#E5ECF6",
                        "gridcolor": "white",
                        "gridwidth": 2,
                        "linecolor": "white",
                        "showbackground": true,
                        "ticks": "",
                        "zerolinecolor": "white"
                      },
                      "zaxis": {
                        "backgroundcolor": "#E5ECF6",
                        "gridcolor": "white",
                        "gridwidth": 2,
                        "linecolor": "white",
                        "showbackground": true,
                        "ticks": "",
                        "zerolinecolor": "white"
                      }
                    },
                    "shapedefaults": {
                      "line": {
                        "color": "#2a3f5f"
                      }
                    },
                    "ternary": {
                      "aaxis": {
                        "gridcolor": "white",
                        "linecolor": "white",
                        "ticks": ""
                      },
                      "baxis": {
                        "gridcolor": "white",
                        "linecolor": "white",
                        "ticks": ""
                      },
                      "bgcolor": "#E5ECF6",
                      "caxis": {
                        "gridcolor": "white",
                        "linecolor": "white",
                        "ticks": ""
                      }
                    },
                    "title": {
                      "x": 0.05
                    },
                    "xaxis": {
                      "automargin": true,
                      "gridcolor": "white",
                      "linecolor": "white",
                      "ticks": "",
                      "title": {
                        "standoff": 15
                      },
                      "zerolinecolor": "white",
                      "zerolinewidth": 2
                    },
                    "yaxis": {
                      "automargin": true,
                      "gridcolor": "white",
                      "linecolor": "white",
                      "ticks": "",
                      "title": {
                        "standoff": 15
                      },
                      "zerolinecolor": "white",
                      "zerolinewidth": 2
                    }
                  }
                },
                "title": {
                  "text": "Sample of Random Portfolios"
                },
                "xaxis": {
                  "title": {
                    "text": "Volatility (Standard Deviation)"
                  }
                },
                "yaxis": {
                  "title": {
                    "text": "Annualized Return"
                  }
                }
              }
            }
          },
          "metadata": {},
          "output_type": "display_data"
        }
      ],
      "source": [
        "fig = go.Figure()\n",
        "\n",
        "fig.add_trace(go.Scatter(\n",
        "    x=[p[\"variance\"]**0.5 for p in total_portfolios],  # Convert variance to volatility\n",
        "    y=[p[\"return\"] for p in total_portfolios],\n",
        "    mode='markers',\n",
        "    marker=dict(\n",
        "        color=[p[\"sharpe\"] for p in total_portfolios],  # Sharpe Ratio\n",
        "        showscale=True,\n",
        "        size=7,\n",
        "        line=dict(width=1),\n",
        "        colorscale=\"RdBu\",\n",
        "        colorbar=dict(title=\"Sharpe<br>Ratio\")\n",
        "    ),\n",
        "    hoverinfo='text',\n",
        "    text=[\n",
        "        f\"Return: {p['return']:.3%}<br>Volatility: {p['variance']**0.5:.3f}<br>\" +\n",
        "        f\"Sharpe Ratio: {p['return'] / (p['variance']**0.5):.3f}<br>\" +\n",
        "        \"<br>\".join([f\"{p['tickers'][i]}: Weight={p['weights'][i]:.3f}\" for i in range(len(p['tickers']))])\n",
        "        for p in total_portfolios\n",
        "    ],\n",
        "    name=\"Portfolios\"\n",
        "))\n",
        "\n",
        "fig.add_trace(go.Scatter(\n",
        "    x=volatility,\n",
        "    y=annualized_returns,\n",
        "    mode='markers',\n",
        "    hoverinfo='text',\n",
        "    hovertext=[\n",
        "        f\"{name} <br>Volatility: {vol:.3f} <br>Returns: {ret:.3%} <br>Sharpe Ratio: {sr:.3f}\"\n",
        "        for name, vol, ret, sr in zip(names, volatility, annualized_returns, sharpe_ratios)\n",
        "    ],\n",
        "    marker=dict(\n",
        "        color='brown',\n",
        "        size=5,\n",
        "        symbol='triangle-up',  # Sets the marker shape to a triangle\n",
        "        line=dict(width=1)\n",
        "    ),\n",
        "    name=\"Individual Assets\"\n",
        "))\n",
        "\n",
        "fig.update_layout(\n",
        "    title='Sample of Random Portfolios',\n",
        "    xaxis_title='Volatility (Standard Deviation)',\n",
        "    yaxis_title='Annualized Return',\n",
        "    legend=dict(y=5\n",
        "    )\n",
        ")\n",
        "\n",
        "\n",
        "fig.show()"
      ]
    },
    {
      "cell_type": "code",
      "execution_count": 12,
      "metadata": {
        "id": "fcrLEvL3abDW",
        "outputId": "34ac5990-952c-469b-db42-e170795a403f"
      },
      "outputs": [
        {
          "data": {
            "application/vnd.plotly.v1+json": {
              "config": {
                "plotlyServerURL": "https://plot.ly"
              },
              "data": [
                {
                  "mode": "lines+markers",
                  "type": "scatter",
                  "x": [
                    0,
                    1,
                    2,
                    3,
                    4,
                    5,
                    6,
                    7,
                    8,
                    9,
                    10,
                    11,
                    12,
                    13,
                    14,
                    15,
                    16,
                    17,
                    18,
                    19,
                    20,
                    21,
                    22,
                    23,
                    24,
                    25,
                    26,
                    27,
                    28,
                    29,
                    30,
                    31,
                    32,
                    33,
                    34,
                    35,
                    36,
                    37,
                    38,
                    39,
                    40,
                    41,
                    42,
                    43,
                    44,
                    45,
                    46,
                    47,
                    48,
                    49,
                    50,
                    51,
                    52,
                    53,
                    54,
                    55,
                    56,
                    57,
                    58,
                    59,
                    60,
                    61,
                    62,
                    63,
                    64,
                    65,
                    66,
                    67,
                    68,
                    69,
                    70,
                    71,
                    72,
                    73,
                    74,
                    75,
                    76,
                    77,
                    78,
                    79,
                    80,
                    81,
                    82,
                    83,
                    84,
                    85,
                    86,
                    87,
                    88,
                    89,
                    90,
                    91,
                    92,
                    93,
                    94,
                    95,
                    96,
                    97,
                    98,
                    99,
                    100,
                    101,
                    102,
                    103,
                    104,
                    105,
                    106,
                    107,
                    108,
                    109,
                    110,
                    111,
                    112,
                    113,
                    114,
                    115,
                    116,
                    117,
                    118,
                    119,
                    120,
                    121,
                    122,
                    123,
                    124,
                    125,
                    126,
                    127,
                    128,
                    129,
                    130,
                    131,
                    132,
                    133,
                    134,
                    135,
                    136,
                    137,
                    138,
                    139,
                    140,
                    141,
                    142,
                    143,
                    144,
                    145,
                    146,
                    147,
                    148,
                    149,
                    150,
                    151,
                    152,
                    153,
                    154,
                    155,
                    156,
                    157,
                    158,
                    159,
                    160,
                    161,
                    162,
                    163,
                    164,
                    165,
                    166,
                    167,
                    168,
                    169,
                    170,
                    171,
                    172,
                    173,
                    174,
                    175,
                    176,
                    177,
                    178,
                    179,
                    180,
                    181,
                    182,
                    183,
                    184,
                    185,
                    186,
                    187,
                    188,
                    189,
                    190,
                    191,
                    192,
                    193,
                    194,
                    195,
                    196,
                    197,
                    198,
                    199,
                    200,
                    201,
                    202,
                    203,
                    204,
                    205,
                    206,
                    207,
                    208,
                    209,
                    210,
                    211,
                    212,
                    213,
                    214,
                    215,
                    216,
                    217,
                    218,
                    219,
                    220,
                    221,
                    222,
                    223,
                    224,
                    225,
                    226,
                    227,
                    228,
                    229,
                    230,
                    231,
                    232,
                    233,
                    234,
                    235,
                    236,
                    237,
                    238,
                    239,
                    240,
                    241,
                    242,
                    243,
                    244,
                    245,
                    246,
                    247,
                    248,
                    249,
                    250,
                    251,
                    252,
                    253,
                    254,
                    255,
                    256,
                    257,
                    258,
                    259,
                    260,
                    261,
                    262,
                    263,
                    264,
                    265,
                    266,
                    267,
                    268,
                    269,
                    270,
                    271,
                    272,
                    273,
                    274,
                    275,
                    276,
                    277,
                    278,
                    279,
                    280,
                    281,
                    282,
                    283,
                    284,
                    285,
                    286,
                    287,
                    288,
                    289,
                    290,
                    291,
                    292,
                    293,
                    294,
                    295,
                    296,
                    297,
                    298,
                    299,
                    300
                  ],
                  "y": [
                    2.077247941461272,
                    2.475234275156206,
                    2.7461835717764473,
                    3.3517241629666428,
                    3.4917261307643837,
                    3.491726130766374,
                    3.491726130766374,
                    3.4656780850492694,
                    3.461903334211168,
                    3.462583697314705,
                    4.341856808429788,
                    4.34407521765699,
                    4.34407521765699,
                    4.3418567680258295,
                    4.342364244679316,
                    4.3418568127294215,
                    4.3418567830040296,
                    4.341856810441004,
                    4.34336009056857,
                    4.4254564260446525,
                    4.401941754531225,
                    4.401734453141471,
                    4.4017342255144305,
                    4.4017343678540115,
                    4.401734068950534,
                    4.401734320381106,
                    4.401734164093885,
                    4.401734300946892,
                    4.929162925932563,
                    4.890923685975494,
                    4.929162925931331,
                    4.884768058730376,
                    4.884768020835692,
                    4.884768070474838,
                    4.884768065237614,
                    4.8847678210370065,
                    4.891405489442142,
                    4.884768075222943,
                    4.884768002909494,
                    4.8986785982222765,
                    5.474469070426402,
                    5.473471860559949,
                    5.45617446413921,
                    5.474469070424536,
                    5.445044376120408,
                    5.445044698450202,
                    5.445044425585624,
                    5.445044494546766,
                    5.445044642150165,
                    5.445044484195897,
                    5.445044700792324,
                    5.445044691249255,
                    5.473406746322793,
                    5.445044685483598,
                    5.44504463415317,
                    5.445044546583486,
                    5.445462088043187,
                    5.5070846403092615,
                    5.535810349413823,
                    5.535810349413823,
                    5.507627441583239,
                    5.507084640313165,
                    5.539700628966153,
                    5.535810349413823,
                    5.507627441583239,
                    5.507084640313165,
                    5.539700628966153,
                    5.4970921043086305,
                    5.497092198571841,
                    5.497092351687254,
                    5.497091905031506,
                    5.497092133185567,
                    5.4970923528157245,
                    5.524059797062471,
                    5.497092309915812,
                    5.497092347047069,
                    5.497092348309543,
                    5.4970921988938235,
                    5.547511549537006,
                    5.535810349413823,
                    5.507627441583239,
                    5.507084640313165,
                    5.539700628966153,
                    5.4970921043086305,
                    5.497092198571841,
                    5.497092351687254,
                    5.497091905031506,
                    5.497092133185567,
                    5.4970923528157245,
                    5.524059797062471,
                    5.497092309915812,
                    5.497092347047069,
                    5.497092348309543,
                    5.4970921988938235,
                    5.547511549537006,
                    5.497092329220142,
                    5.498797646825781,
                    5.497092351289347,
                    5.497092310622829,
                    5.4970923519097,
                    5.497092221698135,
                    5.497091955545432,
                    5.497092352284876,
                    5.49709183070145,
                    5.497092011181675,
                    5.497092282926315,
                    5.497092171560983,
                    5.497091859530049,
                    5.497092218610208,
                    5.4970922399483895,
                    5.520784623969248,
                    5.497092313741468,
                    5.49709230620713,
                    5.510061399256184,
                    5.795728750542605,
                    5.596863812651042,
                    5.5311733227658415,
                    5.5471933049515805,
                    5.7957287505523745,
                    5.596863812651042,
                    5.5311733227658415,
                    5.5471933049515805,
                    5.7957287505523745,
                    5.531218997684421,
                    5.598179133011015,
                    5.531173323498472,
                    5.531173192843097,
                    5.5311733330972634,
                    5.531173281845854,
                    5.532563195786361,
                    5.5358098290055375,
                    5.531173009979563,
                    5.5670815053761205,
                    5.628090096744985,
                    5.531847070920943,
                    5.53117329479114,
                    5.531173333533187,
                    5.535636759919981,
                    5.531173333015137,
                    5.531173333005341,
                    5.531173222468205,
                    5.531173331913493,
                    5.531173331848964,
                    5.531173316332198,
                    5.5311733335333875,
                    5.53117328641622,
                    5.531173333036214,
                    5.531173331897219,
                    5.532729265579632,
                    5.531173333281492,
                    5.531173208306521,
                    5.5311731051558155,
                    5.603912435986734,
                    5.531766222946755,
                    5.531173333720739,
                    5.5409788284408155,
                    5.531173303886984,
                    5.532144317888872,
                    5.531173333661267,
                    5.6997213498397326,
                    5.53117331874103,
                    5.67950286656809,
                    5.531173326306856,
                    5.531173333615446,
                    5.532315034301642,
                    5.531173332469912,
                    5.531173328706186,
                    5.531173333716465,
                    5.53117333206609,
                    5.531173333622446,
                    5.548029885335768,
                    5.531173333537794,
                    5.531173329990501,
                    5.531173309549445,
                    5.531173310943854,
                    5.531173118677225,
                    5.531173332386208,
                    5.5311732225751635,
                    5.548741733862386,
                    5.538350887834984,
                    5.531173331714013,
                    5.531173332757275,
                    5.531172953348069,
                    5.531173265972902,
                    5.5311733329651025,
                    5.531173332382157,
                    5.531173185815647,
                    5.563003121586592,
                    5.659872571937904,
                    5.531173325270508,
                    5.552282837522621,
                    5.531173305864624,
                    5.531173248379118,
                    5.531173331976532,
                    5.531173329295263,
                    5.548046171895525,
                    5.531173016279988,
                    5.531173130145981,
                    5.56065745946814,
                    5.531172835696489,
                    5.531173287452477,
                    5.531173332028083,
                    5.531172977119209,
                    5.531173332161529,
                    5.531173312927534,
                    5.531173273672601,
                    5.596863812651042,
                    5.596863812651042,
                    5.596863812651042,
                    5.596863812651042,
                    5.596863812651042,
                    5.596863812651042,
                    5.596863812651042,
                    5.596863812651042,
                    5.596863812651042,
                    5.596863812651042,
                    5.596863812651042,
                    5.596863812651042,
                    5.596863812651042,
                    5.596863812651042,
                    5.596863812651042,
                    5.596863812651042,
                    5.596863812651042,
                    5.596863812651042,
                    5.596863812651042,
                    5.596863812651042,
                    5.596863812651042,
                    5.596863812651042,
                    5.596863812651042,
                    5.596863812651042,
                    5.596863812651042,
                    5.596863812651042,
                    5.596863812651042,
                    5.596863812651042,
                    5.596863812651042,
                    5.596863812651042,
                    5.596863812651042,
                    5.596863812651042,
                    5.596863812651042,
                    5.596863812651042,
                    5.596863812651042,
                    5.596863812651042,
                    5.596863812651042,
                    5.596863812651042,
                    5.596863812651042,
                    5.596863812651042,
                    5.596863812651042,
                    5.596863812651042,
                    5.596863812651042,
                    5.596863812651042,
                    5.596863812651042,
                    5.596863812651042,
                    5.596863812651042,
                    5.596863812651042,
                    5.596863812651042,
                    5.596863812651042,
                    5.596863812651042,
                    5.596863812651042,
                    5.596863812651042,
                    5.596863812651042,
                    5.596863812651042,
                    5.596863812651042,
                    5.596863812651042,
                    5.596863812651042,
                    5.596863812651042,
                    5.596863812651042,
                    5.596863812651042,
                    5.596863812651042,
                    5.596863812651042,
                    5.596863812651042,
                    5.596863812651042,
                    5.596863812651042,
                    5.596863812651042,
                    5.596863812651042,
                    5.596863812651042,
                    5.596863812651042,
                    5.596863812651042,
                    5.596863812651042,
                    5.596863812651042,
                    5.596863812651042,
                    5.596863812651042,
                    5.596863812651042,
                    5.596863812651042,
                    5.596863812651042,
                    5.596863812651042,
                    5.596863812651042,
                    5.596863812651042,
                    5.596863812651042,
                    5.596863812651042,
                    5.596863812651042,
                    5.596863812651042,
                    5.596863812651042,
                    5.596863812651042,
                    5.596863812651042,
                    5.596863812651042,
                    5.596863812651042,
                    5.596863812651042,
                    5.596863812651042,
                    5.596863812651042,
                    5.596863812651042,
                    5.596863812651042
                  ]
                }
              ],
              "layout": {
                "template": {
                  "data": {
                    "bar": [
                      {
                        "error_x": {
                          "color": "#2a3f5f"
                        },
                        "error_y": {
                          "color": "#2a3f5f"
                        },
                        "marker": {
                          "line": {
                            "color": "#E5ECF6",
                            "width": 0.5
                          },
                          "pattern": {
                            "fillmode": "overlay",
                            "size": 10,
                            "solidity": 0.2
                          }
                        },
                        "type": "bar"
                      }
                    ],
                    "barpolar": [
                      {
                        "marker": {
                          "line": {
                            "color": "#E5ECF6",
                            "width": 0.5
                          },
                          "pattern": {
                            "fillmode": "overlay",
                            "size": 10,
                            "solidity": 0.2
                          }
                        },
                        "type": "barpolar"
                      }
                    ],
                    "carpet": [
                      {
                        "aaxis": {
                          "endlinecolor": "#2a3f5f",
                          "gridcolor": "white",
                          "linecolor": "white",
                          "minorgridcolor": "white",
                          "startlinecolor": "#2a3f5f"
                        },
                        "baxis": {
                          "endlinecolor": "#2a3f5f",
                          "gridcolor": "white",
                          "linecolor": "white",
                          "minorgridcolor": "white",
                          "startlinecolor": "#2a3f5f"
                        },
                        "type": "carpet"
                      }
                    ],
                    "choropleth": [
                      {
                        "colorbar": {
                          "outlinewidth": 0,
                          "ticks": ""
                        },
                        "type": "choropleth"
                      }
                    ],
                    "contour": [
                      {
                        "colorbar": {
                          "outlinewidth": 0,
                          "ticks": ""
                        },
                        "colorscale": [
                          [
                            0,
                            "#0d0887"
                          ],
                          [
                            0.1111111111111111,
                            "#46039f"
                          ],
                          [
                            0.2222222222222222,
                            "#7201a8"
                          ],
                          [
                            0.3333333333333333,
                            "#9c179e"
                          ],
                          [
                            0.4444444444444444,
                            "#bd3786"
                          ],
                          [
                            0.5555555555555556,
                            "#d8576b"
                          ],
                          [
                            0.6666666666666666,
                            "#ed7953"
                          ],
                          [
                            0.7777777777777778,
                            "#fb9f3a"
                          ],
                          [
                            0.8888888888888888,
                            "#fdca26"
                          ],
                          [
                            1,
                            "#f0f921"
                          ]
                        ],
                        "type": "contour"
                      }
                    ],
                    "contourcarpet": [
                      {
                        "colorbar": {
                          "outlinewidth": 0,
                          "ticks": ""
                        },
                        "type": "contourcarpet"
                      }
                    ],
                    "heatmap": [
                      {
                        "colorbar": {
                          "outlinewidth": 0,
                          "ticks": ""
                        },
                        "colorscale": [
                          [
                            0,
                            "#0d0887"
                          ],
                          [
                            0.1111111111111111,
                            "#46039f"
                          ],
                          [
                            0.2222222222222222,
                            "#7201a8"
                          ],
                          [
                            0.3333333333333333,
                            "#9c179e"
                          ],
                          [
                            0.4444444444444444,
                            "#bd3786"
                          ],
                          [
                            0.5555555555555556,
                            "#d8576b"
                          ],
                          [
                            0.6666666666666666,
                            "#ed7953"
                          ],
                          [
                            0.7777777777777778,
                            "#fb9f3a"
                          ],
                          [
                            0.8888888888888888,
                            "#fdca26"
                          ],
                          [
                            1,
                            "#f0f921"
                          ]
                        ],
                        "type": "heatmap"
                      }
                    ],
                    "histogram": [
                      {
                        "marker": {
                          "pattern": {
                            "fillmode": "overlay",
                            "size": 10,
                            "solidity": 0.2
                          }
                        },
                        "type": "histogram"
                      }
                    ],
                    "histogram2d": [
                      {
                        "colorbar": {
                          "outlinewidth": 0,
                          "ticks": ""
                        },
                        "colorscale": [
                          [
                            0,
                            "#0d0887"
                          ],
                          [
                            0.1111111111111111,
                            "#46039f"
                          ],
                          [
                            0.2222222222222222,
                            "#7201a8"
                          ],
                          [
                            0.3333333333333333,
                            "#9c179e"
                          ],
                          [
                            0.4444444444444444,
                            "#bd3786"
                          ],
                          [
                            0.5555555555555556,
                            "#d8576b"
                          ],
                          [
                            0.6666666666666666,
                            "#ed7953"
                          ],
                          [
                            0.7777777777777778,
                            "#fb9f3a"
                          ],
                          [
                            0.8888888888888888,
                            "#fdca26"
                          ],
                          [
                            1,
                            "#f0f921"
                          ]
                        ],
                        "type": "histogram2d"
                      }
                    ],
                    "histogram2dcontour": [
                      {
                        "colorbar": {
                          "outlinewidth": 0,
                          "ticks": ""
                        },
                        "colorscale": [
                          [
                            0,
                            "#0d0887"
                          ],
                          [
                            0.1111111111111111,
                            "#46039f"
                          ],
                          [
                            0.2222222222222222,
                            "#7201a8"
                          ],
                          [
                            0.3333333333333333,
                            "#9c179e"
                          ],
                          [
                            0.4444444444444444,
                            "#bd3786"
                          ],
                          [
                            0.5555555555555556,
                            "#d8576b"
                          ],
                          [
                            0.6666666666666666,
                            "#ed7953"
                          ],
                          [
                            0.7777777777777778,
                            "#fb9f3a"
                          ],
                          [
                            0.8888888888888888,
                            "#fdca26"
                          ],
                          [
                            1,
                            "#f0f921"
                          ]
                        ],
                        "type": "histogram2dcontour"
                      }
                    ],
                    "mesh3d": [
                      {
                        "colorbar": {
                          "outlinewidth": 0,
                          "ticks": ""
                        },
                        "type": "mesh3d"
                      }
                    ],
                    "parcoords": [
                      {
                        "line": {
                          "colorbar": {
                            "outlinewidth": 0,
                            "ticks": ""
                          }
                        },
                        "type": "parcoords"
                      }
                    ],
                    "pie": [
                      {
                        "automargin": true,
                        "type": "pie"
                      }
                    ],
                    "scatter": [
                      {
                        "fillpattern": {
                          "fillmode": "overlay",
                          "size": 10,
                          "solidity": 0.2
                        },
                        "type": "scatter"
                      }
                    ],
                    "scatter3d": [
                      {
                        "line": {
                          "colorbar": {
                            "outlinewidth": 0,
                            "ticks": ""
                          }
                        },
                        "marker": {
                          "colorbar": {
                            "outlinewidth": 0,
                            "ticks": ""
                          }
                        },
                        "type": "scatter3d"
                      }
                    ],
                    "scattercarpet": [
                      {
                        "marker": {
                          "colorbar": {
                            "outlinewidth": 0,
                            "ticks": ""
                          }
                        },
                        "type": "scattercarpet"
                      }
                    ],
                    "scattergeo": [
                      {
                        "marker": {
                          "colorbar": {
                            "outlinewidth": 0,
                            "ticks": ""
                          }
                        },
                        "type": "scattergeo"
                      }
                    ],
                    "scattergl": [
                      {
                        "marker": {
                          "colorbar": {
                            "outlinewidth": 0,
                            "ticks": ""
                          }
                        },
                        "type": "scattergl"
                      }
                    ],
                    "scattermap": [
                      {
                        "marker": {
                          "colorbar": {
                            "outlinewidth": 0,
                            "ticks": ""
                          }
                        },
                        "type": "scattermap"
                      }
                    ],
                    "scattermapbox": [
                      {
                        "marker": {
                          "colorbar": {
                            "outlinewidth": 0,
                            "ticks": ""
                          }
                        },
                        "type": "scattermapbox"
                      }
                    ],
                    "scatterpolar": [
                      {
                        "marker": {
                          "colorbar": {
                            "outlinewidth": 0,
                            "ticks": ""
                          }
                        },
                        "type": "scatterpolar"
                      }
                    ],
                    "scatterpolargl": [
                      {
                        "marker": {
                          "colorbar": {
                            "outlinewidth": 0,
                            "ticks": ""
                          }
                        },
                        "type": "scatterpolargl"
                      }
                    ],
                    "scatterternary": [
                      {
                        "marker": {
                          "colorbar": {
                            "outlinewidth": 0,
                            "ticks": ""
                          }
                        },
                        "type": "scatterternary"
                      }
                    ],
                    "surface": [
                      {
                        "colorbar": {
                          "outlinewidth": 0,
                          "ticks": ""
                        },
                        "colorscale": [
                          [
                            0,
                            "#0d0887"
                          ],
                          [
                            0.1111111111111111,
                            "#46039f"
                          ],
                          [
                            0.2222222222222222,
                            "#7201a8"
                          ],
                          [
                            0.3333333333333333,
                            "#9c179e"
                          ],
                          [
                            0.4444444444444444,
                            "#bd3786"
                          ],
                          [
                            0.5555555555555556,
                            "#d8576b"
                          ],
                          [
                            0.6666666666666666,
                            "#ed7953"
                          ],
                          [
                            0.7777777777777778,
                            "#fb9f3a"
                          ],
                          [
                            0.8888888888888888,
                            "#fdca26"
                          ],
                          [
                            1,
                            "#f0f921"
                          ]
                        ],
                        "type": "surface"
                      }
                    ],
                    "table": [
                      {
                        "cells": {
                          "fill": {
                            "color": "#EBF0F8"
                          },
                          "line": {
                            "color": "white"
                          }
                        },
                        "header": {
                          "fill": {
                            "color": "#C8D4E3"
                          },
                          "line": {
                            "color": "white"
                          }
                        },
                        "type": "table"
                      }
                    ]
                  },
                  "layout": {
                    "annotationdefaults": {
                      "arrowcolor": "#2a3f5f",
                      "arrowhead": 0,
                      "arrowwidth": 1
                    },
                    "autotypenumbers": "strict",
                    "coloraxis": {
                      "colorbar": {
                        "outlinewidth": 0,
                        "ticks": ""
                      }
                    },
                    "colorscale": {
                      "diverging": [
                        [
                          0,
                          "#8e0152"
                        ],
                        [
                          0.1,
                          "#c51b7d"
                        ],
                        [
                          0.2,
                          "#de77ae"
                        ],
                        [
                          0.3,
                          "#f1b6da"
                        ],
                        [
                          0.4,
                          "#fde0ef"
                        ],
                        [
                          0.5,
                          "#f7f7f7"
                        ],
                        [
                          0.6,
                          "#e6f5d0"
                        ],
                        [
                          0.7,
                          "#b8e186"
                        ],
                        [
                          0.8,
                          "#7fbc41"
                        ],
                        [
                          0.9,
                          "#4d9221"
                        ],
                        [
                          1,
                          "#276419"
                        ]
                      ],
                      "sequential": [
                        [
                          0,
                          "#0d0887"
                        ],
                        [
                          0.1111111111111111,
                          "#46039f"
                        ],
                        [
                          0.2222222222222222,
                          "#7201a8"
                        ],
                        [
                          0.3333333333333333,
                          "#9c179e"
                        ],
                        [
                          0.4444444444444444,
                          "#bd3786"
                        ],
                        [
                          0.5555555555555556,
                          "#d8576b"
                        ],
                        [
                          0.6666666666666666,
                          "#ed7953"
                        ],
                        [
                          0.7777777777777778,
                          "#fb9f3a"
                        ],
                        [
                          0.8888888888888888,
                          "#fdca26"
                        ],
                        [
                          1,
                          "#f0f921"
                        ]
                      ],
                      "sequentialminus": [
                        [
                          0,
                          "#0d0887"
                        ],
                        [
                          0.1111111111111111,
                          "#46039f"
                        ],
                        [
                          0.2222222222222222,
                          "#7201a8"
                        ],
                        [
                          0.3333333333333333,
                          "#9c179e"
                        ],
                        [
                          0.4444444444444444,
                          "#bd3786"
                        ],
                        [
                          0.5555555555555556,
                          "#d8576b"
                        ],
                        [
                          0.6666666666666666,
                          "#ed7953"
                        ],
                        [
                          0.7777777777777778,
                          "#fb9f3a"
                        ],
                        [
                          0.8888888888888888,
                          "#fdca26"
                        ],
                        [
                          1,
                          "#f0f921"
                        ]
                      ]
                    },
                    "colorway": [
                      "#636efa",
                      "#EF553B",
                      "#00cc96",
                      "#ab63fa",
                      "#FFA15A",
                      "#19d3f3",
                      "#FF6692",
                      "#B6E880",
                      "#FF97FF",
                      "#FECB52"
                    ],
                    "font": {
                      "color": "#2a3f5f"
                    },
                    "geo": {
                      "bgcolor": "white",
                      "lakecolor": "white",
                      "landcolor": "#E5ECF6",
                      "showlakes": true,
                      "showland": true,
                      "subunitcolor": "white"
                    },
                    "hoverlabel": {
                      "align": "left"
                    },
                    "hovermode": "closest",
                    "mapbox": {
                      "style": "light"
                    },
                    "paper_bgcolor": "white",
                    "plot_bgcolor": "#E5ECF6",
                    "polar": {
                      "angularaxis": {
                        "gridcolor": "white",
                        "linecolor": "white",
                        "ticks": ""
                      },
                      "bgcolor": "#E5ECF6",
                      "radialaxis": {
                        "gridcolor": "white",
                        "linecolor": "white",
                        "ticks": ""
                      }
                    },
                    "scene": {
                      "xaxis": {
                        "backgroundcolor": "#E5ECF6",
                        "gridcolor": "white",
                        "gridwidth": 2,
                        "linecolor": "white",
                        "showbackground": true,
                        "ticks": "",
                        "zerolinecolor": "white"
                      },
                      "yaxis": {
                        "backgroundcolor": "#E5ECF6",
                        "gridcolor": "white",
                        "gridwidth": 2,
                        "linecolor": "white",
                        "showbackground": true,
                        "ticks": "",
                        "zerolinecolor": "white"
                      },
                      "zaxis": {
                        "backgroundcolor": "#E5ECF6",
                        "gridcolor": "white",
                        "gridwidth": 2,
                        "linecolor": "white",
                        "showbackground": true,
                        "ticks": "",
                        "zerolinecolor": "white"
                      }
                    },
                    "shapedefaults": {
                      "line": {
                        "color": "#2a3f5f"
                      }
                    },
                    "ternary": {
                      "aaxis": {
                        "gridcolor": "white",
                        "linecolor": "white",
                        "ticks": ""
                      },
                      "baxis": {
                        "gridcolor": "white",
                        "linecolor": "white",
                        "ticks": ""
                      },
                      "bgcolor": "#E5ECF6",
                      "caxis": {
                        "gridcolor": "white",
                        "linecolor": "white",
                        "ticks": ""
                      }
                    },
                    "title": {
                      "x": 0.05
                    },
                    "xaxis": {
                      "automargin": true,
                      "gridcolor": "white",
                      "linecolor": "white",
                      "ticks": "",
                      "title": {
                        "standoff": 15
                      },
                      "zerolinecolor": "white",
                      "zerolinewidth": 2
                    },
                    "yaxis": {
                      "automargin": true,
                      "gridcolor": "white",
                      "linecolor": "white",
                      "ticks": "",
                      "title": {
                        "standoff": 15
                      },
                      "zerolinecolor": "white",
                      "zerolinewidth": 2
                    }
                  }
                },
                "title": {
                  "text": "Sharpe Ratio Over Iterations"
                },
                "xaxis": {
                  "title": {
                    "text": "Iteration"
                  }
                },
                "yaxis": {
                  "title": {
                    "text": "Sharpe Ratio"
                  }
                }
              }
            }
          },
          "metadata": {},
          "output_type": "display_data"
        }
      ],
      "source": [
        "sharpe_ratios = [portfolio['sharpe'] for portfolio in total_portfolios]\n",
        "\n",
        "fig = go.Figure(data=go.Scatter(x=list(range(len(sharpe_ratios))), y=sharpe_ratios, mode='lines+markers'))\n",
        "fig.update_layout(title='Sharpe Ratio Over Iterations',\n",
        "                  xaxis_title='Iteration',\n",
        "                  yaxis_title='Sharpe Ratio',\n",
        "                  )\n",
        "fig.show()"
      ]
    },
    {
      "cell_type": "markdown",
      "metadata": {
        "id": "KFtx1nkbabDW"
      },
      "source": [
        "## 6.0 Find Optimal Portfolio Size"
      ]
    },
    {
      "cell_type": "code",
      "execution_count": 13,
      "metadata": {
        "id": "TSnuoMXUabDW",
        "outputId": "cae0f228-2076-478e-c55d-64b3ce16ec55"
      },
      "outputs": [
        {
          "name": "stderr",
          "output_type": "stream",
          "text": [
            "100%|██████████| 50000/50000 [00:28<00:00, 1742.67it/s]\n"
          ]
        }
      ],
      "source": [
        "all_portfolios, dominant_portfolios = MonteCarloRBA(names, cov, annualized_returns, 50000, \"random\", 3, 50)"
      ]
    },
    {
      "cell_type": "code",
      "execution_count": 14,
      "metadata": {
        "id": "pXRrClKnabDW",
        "outputId": "389ed85c-e2b7-499d-d207-67051ca55dfe"
      },
      "outputs": [
        {
          "data": {
            "application/vnd.plotly.v1+json": {
              "config": {
                "plotlyServerURL": "https://plot.ly"
              },
              "data": [
                {
                  "mode": "lines",
                  "name": "Average Volatility",
                  "type": "scatter",
                  "x": [
                    3,
                    4,
                    5,
                    6,
                    7,
                    8,
                    9,
                    10,
                    11,
                    12,
                    13,
                    14,
                    15,
                    16,
                    17,
                    18,
                    19,
                    20,
                    21,
                    22,
                    23,
                    24,
                    25,
                    26,
                    27,
                    28,
                    29,
                    30,
                    31,
                    32,
                    33,
                    34,
                    35,
                    36,
                    37,
                    38,
                    39,
                    40,
                    41,
                    42,
                    43,
                    44,
                    45,
                    46,
                    47,
                    48,
                    49
                  ],
                  "y": [
                    0.13544156057882187,
                    0.12402926836887845,
                    0.11588255123144485,
                    0.11036706501014856,
                    0.1050770433145466,
                    0.10163479885348001,
                    0.09825124993923834,
                    0.09591092158324062,
                    0.09378596188160208,
                    0.09169346659132063,
                    0.08999517688068483,
                    0.08938674032252492,
                    0.08728459749463373,
                    0.086744405705671,
                    0.08567919479695396,
                    0.08447347711914303,
                    0.08362508492563675,
                    0.08301994743386888,
                    0.0823134213511449,
                    0.08151777444299986,
                    0.08068600091366009,
                    0.08067526148205197,
                    0.07962473345243865,
                    0.07918225983928494,
                    0.07945384817545822,
                    0.07864613876751862,
                    0.07816157058337414,
                    0.07753844029866326,
                    0.077032288198597,
                    0.07695815153887597,
                    0.07692996169934112,
                    0.07637075628310329,
                    0.07595758471385451,
                    0.07558268943214605,
                    0.07592283930118586,
                    0.07503487303469078,
                    0.07498292063435207,
                    0.07493669683125598,
                    0.0748089963173055,
                    0.07437076978711334,
                    0.07432356323313405,
                    0.07414677122613363,
                    0.07424178696643463,
                    0.07375777409870511,
                    0.07357375029780047,
                    0.07347659445361142,
                    0.07360966546723449
                  ]
                },
                {
                  "mode": "lines",
                  "name": "Average Returns",
                  "type": "scatter",
                  "x": [
                    3,
                    4,
                    5,
                    6,
                    7,
                    8,
                    9,
                    10,
                    11,
                    12,
                    13,
                    14,
                    15,
                    16,
                    17,
                    18,
                    19,
                    20,
                    21,
                    22,
                    23,
                    24,
                    25,
                    26,
                    27,
                    28,
                    29,
                    30,
                    31,
                    32,
                    33,
                    34,
                    35,
                    36,
                    37,
                    38,
                    39,
                    40,
                    41,
                    42,
                    43,
                    44,
                    45,
                    46,
                    47,
                    48,
                    49
                  ],
                  "y": [
                    0.16760550272815739,
                    0.1676951370123651,
                    0.16398709076341617,
                    0.1632258830193591,
                    0.16563400758796187,
                    0.16056611669137782,
                    0.1663622221277199,
                    0.16428366339808373,
                    0.1608391490347192,
                    0.16286410493497053,
                    0.16205337606663786,
                    0.1597684567098434,
                    0.16270164229089712,
                    0.16205481782436137,
                    0.16212738786411127,
                    0.16240907331901755,
                    0.16421538910255737,
                    0.16300591402640033,
                    0.16154542320566417,
                    0.16007969180442438,
                    0.16144936358383039,
                    0.16109892430754688,
                    0.1633529605126771,
                    0.1601905317277244,
                    0.16191186048858724,
                    0.1613787742861659,
                    0.16268864738225494,
                    0.16106226206575977,
                    0.1604124544845079,
                    0.16197184730620864,
                    0.15932021601413804,
                    0.16203161875437133,
                    0.16223061508820838,
                    0.16133632347262317,
                    0.16221673383343357,
                    0.1597265555338868,
                    0.1575192657930149,
                    0.1599134669628396,
                    0.1614227289888346,
                    0.16103126215283992,
                    0.16259250148475615,
                    0.16189512178838225,
                    0.16077111661359647,
                    0.16131362353008627,
                    0.16175159545294748,
                    0.16182256737851192,
                    0.16256548147141042
                  ]
                }
              ],
              "layout": {
                "template": {
                  "data": {
                    "bar": [
                      {
                        "error_x": {
                          "color": "#2a3f5f"
                        },
                        "error_y": {
                          "color": "#2a3f5f"
                        },
                        "marker": {
                          "line": {
                            "color": "#E5ECF6",
                            "width": 0.5
                          },
                          "pattern": {
                            "fillmode": "overlay",
                            "size": 10,
                            "solidity": 0.2
                          }
                        },
                        "type": "bar"
                      }
                    ],
                    "barpolar": [
                      {
                        "marker": {
                          "line": {
                            "color": "#E5ECF6",
                            "width": 0.5
                          },
                          "pattern": {
                            "fillmode": "overlay",
                            "size": 10,
                            "solidity": 0.2
                          }
                        },
                        "type": "barpolar"
                      }
                    ],
                    "carpet": [
                      {
                        "aaxis": {
                          "endlinecolor": "#2a3f5f",
                          "gridcolor": "white",
                          "linecolor": "white",
                          "minorgridcolor": "white",
                          "startlinecolor": "#2a3f5f"
                        },
                        "baxis": {
                          "endlinecolor": "#2a3f5f",
                          "gridcolor": "white",
                          "linecolor": "white",
                          "minorgridcolor": "white",
                          "startlinecolor": "#2a3f5f"
                        },
                        "type": "carpet"
                      }
                    ],
                    "choropleth": [
                      {
                        "colorbar": {
                          "outlinewidth": 0,
                          "ticks": ""
                        },
                        "type": "choropleth"
                      }
                    ],
                    "contour": [
                      {
                        "colorbar": {
                          "outlinewidth": 0,
                          "ticks": ""
                        },
                        "colorscale": [
                          [
                            0,
                            "#0d0887"
                          ],
                          [
                            0.1111111111111111,
                            "#46039f"
                          ],
                          [
                            0.2222222222222222,
                            "#7201a8"
                          ],
                          [
                            0.3333333333333333,
                            "#9c179e"
                          ],
                          [
                            0.4444444444444444,
                            "#bd3786"
                          ],
                          [
                            0.5555555555555556,
                            "#d8576b"
                          ],
                          [
                            0.6666666666666666,
                            "#ed7953"
                          ],
                          [
                            0.7777777777777778,
                            "#fb9f3a"
                          ],
                          [
                            0.8888888888888888,
                            "#fdca26"
                          ],
                          [
                            1,
                            "#f0f921"
                          ]
                        ],
                        "type": "contour"
                      }
                    ],
                    "contourcarpet": [
                      {
                        "colorbar": {
                          "outlinewidth": 0,
                          "ticks": ""
                        },
                        "type": "contourcarpet"
                      }
                    ],
                    "heatmap": [
                      {
                        "colorbar": {
                          "outlinewidth": 0,
                          "ticks": ""
                        },
                        "colorscale": [
                          [
                            0,
                            "#0d0887"
                          ],
                          [
                            0.1111111111111111,
                            "#46039f"
                          ],
                          [
                            0.2222222222222222,
                            "#7201a8"
                          ],
                          [
                            0.3333333333333333,
                            "#9c179e"
                          ],
                          [
                            0.4444444444444444,
                            "#bd3786"
                          ],
                          [
                            0.5555555555555556,
                            "#d8576b"
                          ],
                          [
                            0.6666666666666666,
                            "#ed7953"
                          ],
                          [
                            0.7777777777777778,
                            "#fb9f3a"
                          ],
                          [
                            0.8888888888888888,
                            "#fdca26"
                          ],
                          [
                            1,
                            "#f0f921"
                          ]
                        ],
                        "type": "heatmap"
                      }
                    ],
                    "histogram": [
                      {
                        "marker": {
                          "pattern": {
                            "fillmode": "overlay",
                            "size": 10,
                            "solidity": 0.2
                          }
                        },
                        "type": "histogram"
                      }
                    ],
                    "histogram2d": [
                      {
                        "colorbar": {
                          "outlinewidth": 0,
                          "ticks": ""
                        },
                        "colorscale": [
                          [
                            0,
                            "#0d0887"
                          ],
                          [
                            0.1111111111111111,
                            "#46039f"
                          ],
                          [
                            0.2222222222222222,
                            "#7201a8"
                          ],
                          [
                            0.3333333333333333,
                            "#9c179e"
                          ],
                          [
                            0.4444444444444444,
                            "#bd3786"
                          ],
                          [
                            0.5555555555555556,
                            "#d8576b"
                          ],
                          [
                            0.6666666666666666,
                            "#ed7953"
                          ],
                          [
                            0.7777777777777778,
                            "#fb9f3a"
                          ],
                          [
                            0.8888888888888888,
                            "#fdca26"
                          ],
                          [
                            1,
                            "#f0f921"
                          ]
                        ],
                        "type": "histogram2d"
                      }
                    ],
                    "histogram2dcontour": [
                      {
                        "colorbar": {
                          "outlinewidth": 0,
                          "ticks": ""
                        },
                        "colorscale": [
                          [
                            0,
                            "#0d0887"
                          ],
                          [
                            0.1111111111111111,
                            "#46039f"
                          ],
                          [
                            0.2222222222222222,
                            "#7201a8"
                          ],
                          [
                            0.3333333333333333,
                            "#9c179e"
                          ],
                          [
                            0.4444444444444444,
                            "#bd3786"
                          ],
                          [
                            0.5555555555555556,
                            "#d8576b"
                          ],
                          [
                            0.6666666666666666,
                            "#ed7953"
                          ],
                          [
                            0.7777777777777778,
                            "#fb9f3a"
                          ],
                          [
                            0.8888888888888888,
                            "#fdca26"
                          ],
                          [
                            1,
                            "#f0f921"
                          ]
                        ],
                        "type": "histogram2dcontour"
                      }
                    ],
                    "mesh3d": [
                      {
                        "colorbar": {
                          "outlinewidth": 0,
                          "ticks": ""
                        },
                        "type": "mesh3d"
                      }
                    ],
                    "parcoords": [
                      {
                        "line": {
                          "colorbar": {
                            "outlinewidth": 0,
                            "ticks": ""
                          }
                        },
                        "type": "parcoords"
                      }
                    ],
                    "pie": [
                      {
                        "automargin": true,
                        "type": "pie"
                      }
                    ],
                    "scatter": [
                      {
                        "fillpattern": {
                          "fillmode": "overlay",
                          "size": 10,
                          "solidity": 0.2
                        },
                        "type": "scatter"
                      }
                    ],
                    "scatter3d": [
                      {
                        "line": {
                          "colorbar": {
                            "outlinewidth": 0,
                            "ticks": ""
                          }
                        },
                        "marker": {
                          "colorbar": {
                            "outlinewidth": 0,
                            "ticks": ""
                          }
                        },
                        "type": "scatter3d"
                      }
                    ],
                    "scattercarpet": [
                      {
                        "marker": {
                          "colorbar": {
                            "outlinewidth": 0,
                            "ticks": ""
                          }
                        },
                        "type": "scattercarpet"
                      }
                    ],
                    "scattergeo": [
                      {
                        "marker": {
                          "colorbar": {
                            "outlinewidth": 0,
                            "ticks": ""
                          }
                        },
                        "type": "scattergeo"
                      }
                    ],
                    "scattergl": [
                      {
                        "marker": {
                          "colorbar": {
                            "outlinewidth": 0,
                            "ticks": ""
                          }
                        },
                        "type": "scattergl"
                      }
                    ],
                    "scattermap": [
                      {
                        "marker": {
                          "colorbar": {
                            "outlinewidth": 0,
                            "ticks": ""
                          }
                        },
                        "type": "scattermap"
                      }
                    ],
                    "scattermapbox": [
                      {
                        "marker": {
                          "colorbar": {
                            "outlinewidth": 0,
                            "ticks": ""
                          }
                        },
                        "type": "scattermapbox"
                      }
                    ],
                    "scatterpolar": [
                      {
                        "marker": {
                          "colorbar": {
                            "outlinewidth": 0,
                            "ticks": ""
                          }
                        },
                        "type": "scatterpolar"
                      }
                    ],
                    "scatterpolargl": [
                      {
                        "marker": {
                          "colorbar": {
                            "outlinewidth": 0,
                            "ticks": ""
                          }
                        },
                        "type": "scatterpolargl"
                      }
                    ],
                    "scatterternary": [
                      {
                        "marker": {
                          "colorbar": {
                            "outlinewidth": 0,
                            "ticks": ""
                          }
                        },
                        "type": "scatterternary"
                      }
                    ],
                    "surface": [
                      {
                        "colorbar": {
                          "outlinewidth": 0,
                          "ticks": ""
                        },
                        "colorscale": [
                          [
                            0,
                            "#0d0887"
                          ],
                          [
                            0.1111111111111111,
                            "#46039f"
                          ],
                          [
                            0.2222222222222222,
                            "#7201a8"
                          ],
                          [
                            0.3333333333333333,
                            "#9c179e"
                          ],
                          [
                            0.4444444444444444,
                            "#bd3786"
                          ],
                          [
                            0.5555555555555556,
                            "#d8576b"
                          ],
                          [
                            0.6666666666666666,
                            "#ed7953"
                          ],
                          [
                            0.7777777777777778,
                            "#fb9f3a"
                          ],
                          [
                            0.8888888888888888,
                            "#fdca26"
                          ],
                          [
                            1,
                            "#f0f921"
                          ]
                        ],
                        "type": "surface"
                      }
                    ],
                    "table": [
                      {
                        "cells": {
                          "fill": {
                            "color": "#EBF0F8"
                          },
                          "line": {
                            "color": "white"
                          }
                        },
                        "header": {
                          "fill": {
                            "color": "#C8D4E3"
                          },
                          "line": {
                            "color": "white"
                          }
                        },
                        "type": "table"
                      }
                    ]
                  },
                  "layout": {
                    "annotationdefaults": {
                      "arrowcolor": "#2a3f5f",
                      "arrowhead": 0,
                      "arrowwidth": 1
                    },
                    "autotypenumbers": "strict",
                    "coloraxis": {
                      "colorbar": {
                        "outlinewidth": 0,
                        "ticks": ""
                      }
                    },
                    "colorscale": {
                      "diverging": [
                        [
                          0,
                          "#8e0152"
                        ],
                        [
                          0.1,
                          "#c51b7d"
                        ],
                        [
                          0.2,
                          "#de77ae"
                        ],
                        [
                          0.3,
                          "#f1b6da"
                        ],
                        [
                          0.4,
                          "#fde0ef"
                        ],
                        [
                          0.5,
                          "#f7f7f7"
                        ],
                        [
                          0.6,
                          "#e6f5d0"
                        ],
                        [
                          0.7,
                          "#b8e186"
                        ],
                        [
                          0.8,
                          "#7fbc41"
                        ],
                        [
                          0.9,
                          "#4d9221"
                        ],
                        [
                          1,
                          "#276419"
                        ]
                      ],
                      "sequential": [
                        [
                          0,
                          "#0d0887"
                        ],
                        [
                          0.1111111111111111,
                          "#46039f"
                        ],
                        [
                          0.2222222222222222,
                          "#7201a8"
                        ],
                        [
                          0.3333333333333333,
                          "#9c179e"
                        ],
                        [
                          0.4444444444444444,
                          "#bd3786"
                        ],
                        [
                          0.5555555555555556,
                          "#d8576b"
                        ],
                        [
                          0.6666666666666666,
                          "#ed7953"
                        ],
                        [
                          0.7777777777777778,
                          "#fb9f3a"
                        ],
                        [
                          0.8888888888888888,
                          "#fdca26"
                        ],
                        [
                          1,
                          "#f0f921"
                        ]
                      ],
                      "sequentialminus": [
                        [
                          0,
                          "#0d0887"
                        ],
                        [
                          0.1111111111111111,
                          "#46039f"
                        ],
                        [
                          0.2222222222222222,
                          "#7201a8"
                        ],
                        [
                          0.3333333333333333,
                          "#9c179e"
                        ],
                        [
                          0.4444444444444444,
                          "#bd3786"
                        ],
                        [
                          0.5555555555555556,
                          "#d8576b"
                        ],
                        [
                          0.6666666666666666,
                          "#ed7953"
                        ],
                        [
                          0.7777777777777778,
                          "#fb9f3a"
                        ],
                        [
                          0.8888888888888888,
                          "#fdca26"
                        ],
                        [
                          1,
                          "#f0f921"
                        ]
                      ]
                    },
                    "colorway": [
                      "#636efa",
                      "#EF553B",
                      "#00cc96",
                      "#ab63fa",
                      "#FFA15A",
                      "#19d3f3",
                      "#FF6692",
                      "#B6E880",
                      "#FF97FF",
                      "#FECB52"
                    ],
                    "font": {
                      "color": "#2a3f5f"
                    },
                    "geo": {
                      "bgcolor": "white",
                      "lakecolor": "white",
                      "landcolor": "#E5ECF6",
                      "showlakes": true,
                      "showland": true,
                      "subunitcolor": "white"
                    },
                    "hoverlabel": {
                      "align": "left"
                    },
                    "hovermode": "closest",
                    "mapbox": {
                      "style": "light"
                    },
                    "paper_bgcolor": "white",
                    "plot_bgcolor": "#E5ECF6",
                    "polar": {
                      "angularaxis": {
                        "gridcolor": "white",
                        "linecolor": "white",
                        "ticks": ""
                      },
                      "bgcolor": "#E5ECF6",
                      "radialaxis": {
                        "gridcolor": "white",
                        "linecolor": "white",
                        "ticks": ""
                      }
                    },
                    "scene": {
                      "xaxis": {
                        "backgroundcolor": "#E5ECF6",
                        "gridcolor": "white",
                        "gridwidth": 2,
                        "linecolor": "white",
                        "showbackground": true,
                        "ticks": "",
                        "zerolinecolor": "white"
                      },
                      "yaxis": {
                        "backgroundcolor": "#E5ECF6",
                        "gridcolor": "white",
                        "gridwidth": 2,
                        "linecolor": "white",
                        "showbackground": true,
                        "ticks": "",
                        "zerolinecolor": "white"
                      },
                      "zaxis": {
                        "backgroundcolor": "#E5ECF6",
                        "gridcolor": "white",
                        "gridwidth": 2,
                        "linecolor": "white",
                        "showbackground": true,
                        "ticks": "",
                        "zerolinecolor": "white"
                      }
                    },
                    "shapedefaults": {
                      "line": {
                        "color": "#2a3f5f"
                      }
                    },
                    "ternary": {
                      "aaxis": {
                        "gridcolor": "white",
                        "linecolor": "white",
                        "ticks": ""
                      },
                      "baxis": {
                        "gridcolor": "white",
                        "linecolor": "white",
                        "ticks": ""
                      },
                      "bgcolor": "#E5ECF6",
                      "caxis": {
                        "gridcolor": "white",
                        "linecolor": "white",
                        "ticks": ""
                      }
                    },
                    "title": {
                      "x": 0.05
                    },
                    "xaxis": {
                      "automargin": true,
                      "gridcolor": "white",
                      "linecolor": "white",
                      "ticks": "",
                      "title": {
                        "standoff": 15
                      },
                      "zerolinecolor": "white",
                      "zerolinewidth": 2
                    },
                    "yaxis": {
                      "automargin": true,
                      "gridcolor": "white",
                      "linecolor": "white",
                      "ticks": "",
                      "title": {
                        "standoff": 15
                      },
                      "zerolinecolor": "white",
                      "zerolinewidth": 2
                    }
                  }
                },
                "title": {
                  "text": "Average Volatility and Returns by Portfolio Size"
                },
                "xaxis": {
                  "title": {
                    "text": "Number of Assets in Portfolio"
                  },
                  "type": "category"
                },
                "yaxis": {
                  "title": {
                    "text": "Average Value"
                  }
                }
              }
            }
          },
          "metadata": {},
          "output_type": "display_data"
        }
      ],
      "source": [
        "portfolio_sizes = [len(portfolio['tickers']) for portfolio in all_portfolios]\n",
        "volatility = [np.sqrt(portfolio['variance']) for portfolio in all_portfolios]\n",
        "returns = [portfolio['return'] for portfolio in all_portfolios]\n",
        "\n",
        "volatility_by_size = defaultdict(list)\n",
        "for size, vol, ret in zip(portfolio_sizes, volatility, returns):\n",
        "    volatility_by_size[size].append((vol, ret))\n",
        "\n",
        "average_volatility = {size: np.mean([v[0] for v in vols]) for size, vols in volatility_by_size.items()}\n",
        "average_returns = {size: np.mean([v[1] for v in vols]) for size, vols in volatility_by_size.items()}\n",
        "\n",
        "sorted_sizes = sorted(average_volatility.keys())\n",
        "sorted_average_vols = [average_volatility[size] for size in sorted_sizes]\n",
        "sorted_average_rets = [average_returns[size] for size in sorted_sizes]\n",
        "\n",
        "fig = go.Figure()\n",
        "fig.add_trace(go.Scatter(\n",
        "    x=sorted_sizes,\n",
        "    y=sorted_average_vols,\n",
        "    mode='lines',\n",
        "    name='Average Volatility'\n",
        "))\n",
        "fig.add_trace(go.Scatter(\n",
        "    x=sorted_sizes,\n",
        "    y=sorted_average_rets,\n",
        "    mode='lines',\n",
        "    name='Average Returns'\n",
        "))\n",
        "\n",
        "fig.update_layout(\n",
        "    title='Average Volatility and Returns by Portfolio Size',\n",
        "    xaxis_title='Number of Assets in Portfolio',\n",
        "    yaxis_title='Average Value',\n",
        "    xaxis=dict(type='category'),\n",
        ")\n",
        "\n",
        "fig.show()\n"
      ]
    }
  ],
  "metadata": {
    "colab": {
      "include_colab_link": true,
      "provenance": []
    },
    "kernelspec": {
      "display_name": "roboA",
      "language": "python",
      "name": "python3"
    },
    "language_info": {
      "codemirror_mode": {
        "name": "ipython",
        "version": 3
      },
      "file_extension": ".py",
      "mimetype": "text/x-python",
      "name": "python",
      "nbconvert_exporter": "python",
      "pygments_lexer": "ipython3",
      "version": "3.12.8"
    }
  },
  "nbformat": 4,
  "nbformat_minor": 0
}
