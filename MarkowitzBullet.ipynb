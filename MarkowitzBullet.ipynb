{
 "cells": [
  {
   "cell_type": "code",
   "execution_count": 86,
   "metadata": {
    "colab": {
     "base_uri": "https://localhost:8080/"
    },
    "id": "NVQVoEjG1FQq",
    "outputId": "ca1ebd6b-484d-486e-dced-3736403f1e3f"
   },
   "outputs": [
    {
     "data": {
      "text/plain": [
       "\"from google.colab import drive\\ndrive.mount('/content/drive')\""
      ]
     },
     "execution_count": 86,
     "metadata": {},
     "output_type": "execute_result"
    }
   ],
   "source": [
    "'''from google.colab import drive\n",
    "drive.mount('/content/drive')'''"
   ]
  },
  {
   "cell_type": "code",
   "execution_count": 87,
   "metadata": {
    "colab": {
     "base_uri": "https://localhost:8080/"
    },
    "id": "6OxPgoZ41Q9G",
    "outputId": "a9cbe06e-4000-4d98-b7a2-6c2c9e1a3e4a"
   },
   "outputs": [
    {
     "data": {
      "text/plain": [
       "'cd drive/MyDrive/RoboA/'"
      ]
     },
     "execution_count": 87,
     "metadata": {},
     "output_type": "execute_result"
    }
   ],
   "source": [
    "'''cd drive/MyDrive/RoboA/'''"
   ]
  },
  {
   "cell_type": "markdown",
   "metadata": {
    "id": "bj91ThpmabDR"
   },
   "source": [
    "# Markowitz Efficient Frontier"
   ]
  },
  {
   "cell_type": "markdown",
   "metadata": {
    "id": "w31yow0TabDS"
   },
   "source": [
    "## 1. Imports"
   ]
  },
  {
   "cell_type": "code",
   "execution_count": 88,
   "metadata": {
    "id": "EvpNgOhEabDS"
   },
   "outputs": [],
   "source": [
    "import pandas as pd\n",
    "import numpy as np\n",
    "import plotly.graph_objects as go\n",
    "import statistics\n",
    "from tqdm import tqdm\n",
    "from collections import defaultdict\n",
    "import math\n",
    "from itertools import combinations\n",
    "from sklearn.preprocessing import MinMaxScaler\n",
    "import tensorflow as tf\n",
    "from tensorflow.keras.models import Sequential # type: ignore\n",
    "from tensorflow.keras.layers import LSTM, Dense, Dropout # type: ignore\n",
    "\n",
    "from fetchData import fetch_raw_data_yf, getSNP500, fetch_raw_data_yf_all, getNasdaq_comp\n",
    "from MonteCarloRBA import MonteCarloRBA\n",
    "from PortfolioFunction import maximize_sharpe, create_correlation_matrix, get_sharpe_ratio, get_matrices\n",
    "from LearningRBA import find_best_asset_to_remove, find_asset_to_add\n"
   ]
  },
  {
   "cell_type": "markdown",
   "metadata": {
    "id": "fnySmmT6abDT"
   },
   "source": [
    "## 2. Fetch Data"
   ]
  },
  {
   "cell_type": "markdown",
   "metadata": {
    "id": "8bz1yuGUabDT"
   },
   "source": [
    "### Get all Nasdaq Stocks"
   ]
  },
  {
   "cell_type": "code",
   "execution_count": 89,
   "metadata": {
    "colab": {
     "base_uri": "https://localhost:8080/"
    },
    "id": "H4G7yoJuabDT",
    "outputId": "e6e2de66-44f1-4d77-8bc1-bfe43fe6e4cd"
   },
   "outputs": [],
   "source": [
    "assets= [\n",
    "    \"AAPL\",  # Apple Inc.\n",
    "    \"MSFT\",  # Microsoft Corporation\n",
    "    \"AMZN\",  # Amazon.com Inc.\n",
    "    \"GOOGL\", # Alphabet Inc. (Google) Class A\n",
    "    \"GOOG\",  # Alphabet Inc. (Google) Class C\n",
    "    \"META\",    # Meta Platforms Inc (formerly Facebook)\n",
    "    \"TSLA\",  # Tesla Inc\n",
    "    \"UA\", # Berkshire Hathaway Inc. Class B\n",
    "    \"JPM\",   # JPMorgan Chase & Co.\n",
    "    \"V\",     # Visa Inc.\n",
    "    \"JNJ\",   # Johnson & Johnson\n",
    "    \"WMT\",   # Walmart Inc.\n",
    "    \"PG\",    # Procter & Gamble Co.\n",
    "    \"UNH\",   # UnitedHealth Group Inc.\n",
    "    \"MA\",    # Mastercard Inc.\n",
    "    \"NVDA\",  # NVIDIA Corporation\n",
    "    \"HD\",    # Home Depot Inc.\n",
    "    \"BAC\",   # Bank of America Corp\n",
    "    \"DIS\",   # Walt Disney Co\n",
    "    \"PYPL\",  # PayPal Holdings\n",
    "    \"VZ\",    # Verizon Communications Inc.\n",
    "    \"ADBE\",  # Adobe Inc.\n",
    "    \"CMCSA\", # Comcast Corporation\n",
    "    \"NFLX\",  # Netflix Inc.\n",
    "    \"KO\",    # Coca-Cola Co\n",
    "    \"NKE\",   # NIKE Inc.\n",
    "    \"PFE\",   # Pfizer Inc.\n",
    "    \"MRK\",   # Merck & Co., Inc.\n",
    "    \"PEP\",   # PepsiCo, Inc.\n",
    "    \"T\",     # AT&T Inc.\n",
    "    \"ABT\",   # Abbott Laboratories\n",
    "    \"CRM\",   # Salesforce.com Inc.\n",
    "    \"ORCL\",  # Oracle Corporation\n",
    "    \"ABBV\",  # AbbVie Inc.\n",
    "    \"CSCO\",  # Cisco Systems, Inc.\n",
    "    \"INTC\",  # Intel Corporation\n",
    "    \"TMO\",   # Thermo Fisher Scientific Inc.\n",
    "    \"XOM\",   # Exxon Mobil Corporation\n",
    "    \"ACN\",   # Accenture plc\n",
    "    \"LLY\",   # Eli Lilly and Company\n",
    "    \"COST\",  # Costco Wholesale Corporation\n",
    "    \"MCD\",   # McDonald's Corp\n",
    "    \"DHR\",   # Danaher Corporation\n",
    "    \"MDT\",   # Medtronic plc\n",
    "    \"NEE\",   # NextEra Energy, Inc.\n",
    "    \"BMY\",   # Bristol-Myers Squibb Company\n",
    "    \"QCOM\",  # Qualcomm Inc\n",
    "    \"CVX\",   # Chevron Corporation\n",
    "    \"WFC\",   # Wells Fargo & Co\n",
    "    \"LMT\",    # Lockheed Martin Corporation\n",
    "    \"GS\",   # Goldman Sachs Group, Inc.\n",
    "    \"MS\",   # Morgan Stanley\n",
    "    \"IBM\",  # International Business Machines Corporation\n",
    "    \"GE\",   # General Electric Company\n",
    "    \"F\",    # Ford Motor Company\n",
    "    \"GM\",   # General Motors Company\n",
    "    \"UBER\", # Uber Technologies, Inc.\n",
    "    \"LYFT\", # Lyft, Inc.\n",
    "    \"SNAP\", # Snap Inc.\n",
    "    \"TWTR\", # Twitter, Inc.\n",
    "    \"SPOT\", # Spotify Technology S.A.\n",
    "    \"AMD\",  # Advanced Micro Devices, Inc.\n",
    "    \"TXN\",  # Texas Instruments Incorporated\n",
    "    \"BABA\", # Alibaba Group Holding Limited\n",
    "    \"SAP\",  # SAP SE\n",
    "    \"HON\",  # Honeywell International Inc.\n",
    "    \"BA\",   # Boeing Company\n",
    "    \"RTX\",  # Raytheon Technologies Corporation\n",
    "    \"CAT\",  # Caterpillar Inc.\n",
    "    \"DE\",   # Deere & Company\n",
    "    \"MMM\",  # 3M Company\n",
    "    \"DUK\",  # Duke Energy Corporation\n",
    "    \"SO\",   # Southern Company\n",
    "    \"EXC\",  # Exelon Corporation\n",
    "    \"NEE\",  # NextEra Energy, Inc.\n",
    "    \"AEP\",  # American Electric Power Company, Inc.\n",
    "    \"SRE\",  # Sempra Energy\n",
    "    \"ETN\",  # Eaton Corporation plc\n",
    "    \"EMR\",  # Emerson Electric Co.\n",
    "    \"SYY\",  # Sysco Corporation\n",
    "    \"KR\",   # Kroger Co.\n",
    "    \"GIS\",  # General Mills, Inc.\n",
    "    \"K\",    # Kellogg Company\n",
    "    \"CPB\",  # Campbell Soup Company\n",
    "    \"MO\",   # Altria Group, Inc.\n",
    "    \"PM\",   # Philip Morris International Inc.\n",
    "    \"BTI\",  # British American Tobacco plc\n",
    "    \"RDY\",  # Dr. Reddy's Laboratories Ltd.\n",
    "    \"GILD\", # Gilead Sciences, Inc.\n",
    "    \"BIIB\", # Biogen Inc.\n",
    "    \"CELG\", # Celgene Corporation\n",
    "    \"AMGN\", # Amgen Inc.\n",
    "    \"SYK\",  # Stryker Corporation\n",
    "    \"BSX\",  # Boston Scientific Corporation\n",
    "    \"ISRG\", # Intuitive Surgical, Inc.\n",
    "    \"ZBH\",  # Zimmer Biomet Holdings, Inc.\n",
    "    \"EW\",   # Edwards Lifesciences Corporation\n",
    "    \"RMD\",  # ResMed Inc.\n",
    "    \"VRTX\", # Vertex Pharmaceuticals Incorporated\n",
    "    \"REGN\",  # Regeneron Pharmaceuticals, Inc.\n",
    "]\n",
    "\n",
    "#assets = getSNP500()"
   ]
  },
  {
   "cell_type": "code",
   "execution_count": 90,
   "metadata": {
    "colab": {
     "base_uri": "https://localhost:8080/"
    },
    "id": "AvJfF_5YabDU",
    "outputId": "e2769ab4-6379-4ccc-e628-557b92733cd1"
   },
   "outputs": [
    {
     "name": "stderr",
     "output_type": "stream",
     "text": [
      "[*********************100%***********************]  99 of 99 completed\n",
      "\n",
      "5 Failed downloads:\n",
      "['UBER', 'LYFT', 'SPOT']: YFPricesMissingError('possibly delisted; no price data found  (1d 2015-01-01 -> 2018-01-01) (Yahoo error = \"Data doesn\\'t exist for startDate = 1420088400, endDate = 1514782800\")')\n",
      "['CELG', 'TWTR']: YFTzMissingError('possibly delisted; no timezone found')\n"
     ]
    },
    {
     "name": "stdout",
     "output_type": "stream",
     "text": [
      "Omitted assets ( 5 ):  ['UBER', 'LYFT', 'SPOT', 'CELG', 'TWTR']\n",
      "Time to fetch data: 4.22 seconds\n"
     ]
    }
   ],
   "source": [
    "start_date = \"2015-01-01\"\n",
    "end_date = \"2018-01-01\"\n",
    "raw_data, asset_errors, max_combination= fetch_raw_data_yf_all(assets, start_date, end_date)"
   ]
  },
  {
   "cell_type": "markdown",
   "metadata": {
    "id": "MtnI4d7k1CRp"
   },
   "source": [
    "### Split into test and train"
   ]
  },
  {
   "cell_type": "code",
   "execution_count": 91,
   "metadata": {
    "id": "GUQlY2uT1CRp"
   },
   "outputs": [],
   "source": [
    "split = len(raw_data.index) // 2\n",
    "\n",
    "raw_data_train = raw_data.iloc[:split]\n",
    "raw_data_test = raw_data.iloc[split:]"
   ]
  },
  {
   "cell_type": "markdown",
   "metadata": {
    "id": "FyXEENSbabDU"
   },
   "source": [
    "## 3. Mean, Volatility and Covariance"
   ]
  },
  {
   "cell_type": "code",
   "execution_count": 92,
   "metadata": {
    "colab": {
     "base_uri": "https://localhost:8080/"
    },
    "id": "V8UnmVllabDU",
    "outputId": "5db2e605-2732-40fd-8052-5cddc38fded9"
   },
   "outputs": [],
   "source": [
    "names, annualized_returns, cov, correlation_matrix = get_matrices(raw_data_train)"
   ]
  },
  {
   "cell_type": "code",
   "execution_count": 93,
   "metadata": {},
   "outputs": [],
   "source": [
    "volatility = np.sqrt(np.diag(cov))\n",
    "\n",
    "risk_free_rate=0\n",
    "sharpe_ratios = (annualized_returns - risk_free_rate) / volatility"
   ]
  },
  {
   "cell_type": "code",
   "execution_count": 94,
   "metadata": {
    "colab": {
     "base_uri": "https://localhost:8080/",
     "height": 542
    },
    "id": "70g4vm3qabDU",
    "outputId": "3974e87c-1b85-4392-e8b8-594c2626466e"
   },
   "outputs": [
    {
     "data": {
      "application/vnd.plotly.v1+json": {
       "config": {
        "plotlyServerURL": "https://plot.ly"
       },
       "data": [
        {
         "hoverinfo": "text",
         "hovertext": [
          "NVDA_Close <br>Volatility: 0.443 <br>Returns: 108.207% <br>Sharpe Ratio: 2.442",
          "BMY_Close <br>Volatility: 0.182 <br>Returns: -8.623% <br>Sharpe Ratio: -0.474",
          "SYK_Close <br>Volatility: 0.116 <br>Returns: 19.679% <br>Sharpe Ratio: 1.703",
          "MMM_Close <br>Volatility: 0.118 <br>Returns: 21.627% <br>Sharpe Ratio: 1.830",
          "UA_Close <br>Volatility: 0.335 <br>Returns: -33.044% <br>Sharpe Ratio: -0.987",
          "F_Close <br>Volatility: 0.186 <br>Returns: -46.688% <br>Sharpe Ratio: -2.504",
          "SRE_Close <br>Volatility: 0.107 <br>Returns: 12.842% <br>Sharpe Ratio: 1.199",
          "MA_Close <br>Volatility: 0.124 <br>Returns: 28.689% <br>Sharpe Ratio: 2.305",
          "SNAP_Close <br>Volatility: 0.669 <br>Returns: -122.379% <br>Sharpe Ratio: -1.830",
          "SYY_Close <br>Volatility: 0.155 <br>Returns: -6.895% <br>Sharpe Ratio: -0.444",
          "WFC_Close <br>Volatility: 0.176 <br>Returns: -30.961% <br>Sharpe Ratio: -1.756",
          "CMCSA_Close <br>Volatility: 0.154 <br>Returns: 14.957% <br>Sharpe Ratio: 0.971",
          "PYPL_Close <br>Volatility: 0.210 <br>Returns: 61.041% <br>Sharpe Ratio: 2.909",
          "ORCL_Close <br>Volatility: 0.187 <br>Returns: 34.500% <br>Sharpe Ratio: 1.843",
          "BABA_Close <br>Volatility: 0.270 <br>Returns: 82.040% <br>Sharpe Ratio: 3.034",
          "PG_Close <br>Volatility: 0.087 <br>Returns: -9.655% <br>Sharpe Ratio: -1.112",
          "AMD_Close <br>Volatility: 0.694 <br>Returns: -58.090% <br>Sharpe Ratio: -0.837",
          "GS_Close <br>Volatility: 0.209 <br>Returns: -46.653% <br>Sharpe Ratio: -2.236",
          "WMT_Close <br>Volatility: 0.148 <br>Returns: 23.079% <br>Sharpe Ratio: 1.562",
          "LMT_Close <br>Volatility: 0.107 <br>Returns: 18.608% <br>Sharpe Ratio: 1.746",
          "VRTX_Close <br>Volatility: 0.486 <br>Returns: 129.746% <br>Sharpe Ratio: 2.668",
          "GM_Close <br>Volatility: 0.170 <br>Returns: -30.932% <br>Sharpe Ratio: -1.819",
          "BIIB_Close <br>Volatility: 0.229 <br>Returns: -33.166% <br>Sharpe Ratio: -1.448",
          "EMR_Close <br>Volatility: 0.165 <br>Returns: -6.262% <br>Sharpe Ratio: -0.378",
          "DE_Close <br>Volatility: 0.179 <br>Returns: 36.750% <br>Sharpe Ratio: 2.053",
          "IBM_Close <br>Volatility: 0.141 <br>Returns: -54.590% <br>Sharpe Ratio: -3.879",
          "HD_Close <br>Volatility: 0.134 <br>Returns: 11.373% <br>Sharpe Ratio: 0.846",
          "RDY_Close <br>Volatility: 0.283 <br>Returns: -34.437% <br>Sharpe Ratio: -1.217",
          "JPM_Close <br>Volatility: 0.162 <br>Returns: -18.067% <br>Sharpe Ratio: -1.119",
          "MSFT_Close <br>Volatility: 0.137 <br>Returns: 34.582% <br>Sharpe Ratio: 2.530",
          "MS_Close <br>Volatility: 0.219 <br>Returns: -19.860% <br>Sharpe Ratio: -0.907",
          "GILD_Close <br>Volatility: 0.153 <br>Returns: -16.977% <br>Sharpe Ratio: -1.111",
          "T_Close <br>Volatility: 0.145 <br>Returns: -23.798% <br>Sharpe Ratio: -1.644",
          "RMD_Close <br>Volatility: 0.177 <br>Returns: -3.112% <br>Sharpe Ratio: -0.176",
          "CAT_Close <br>Volatility: 0.233 <br>Returns: 32.197% <br>Sharpe Ratio: 1.380",
          "MDT_Close <br>Volatility: 0.114 <br>Returns: 12.664% <br>Sharpe Ratio: 1.110",
          "XOM_Close <br>Volatility: 0.120 <br>Returns: -15.220% <br>Sharpe Ratio: -1.266",
          "CRM_Close <br>Volatility: 0.148 <br>Returns: 19.290% <br>Sharpe Ratio: 1.306",
          "AEP_Close <br>Volatility: 0.101 <br>Returns: 13.214% <br>Sharpe Ratio: 1.306",
          "RTX_Close <br>Volatility: 0.093 <br>Returns: 17.474% <br>Sharpe Ratio: 1.875",
          "NKE_Close <br>Volatility: 0.259 <br>Returns: -27.547% <br>Sharpe Ratio: -1.064",
          "NFLX_Close <br>Volatility: 0.320 <br>Returns: 50.627% <br>Sharpe Ratio: 1.582",
          "ZBH_Close <br>Volatility: 0.176 <br>Returns: 20.942% <br>Sharpe Ratio: 1.190",
          "ISRG_Close <br>Volatility: 0.180 <br>Returns: 55.877% <br>Sharpe Ratio: 3.112",
          "COST_Close <br>Volatility: 0.194 <br>Returns: -56.160% <br>Sharpe Ratio: -2.894",
          "KO_Close <br>Volatility: 0.076 <br>Returns: 16.554% <br>Sharpe Ratio: 2.186",
          "META_Close <br>Volatility: 0.158 <br>Returns: 42.367% <br>Sharpe Ratio: 2.676",
          "INTC_Close <br>Volatility: 0.144 <br>Returns: -8.425% <br>Sharpe Ratio: -0.584",
          "GE_Close <br>Volatility: 0.166 <br>Returns: -31.167% <br>Sharpe Ratio: -1.881",
          "GOOG_Close <br>Volatility: 0.169 <br>Returns: 35.438% <br>Sharpe Ratio: 2.092",
          "VZ_Close <br>Volatility: 0.175 <br>Returns: -25.448% <br>Sharpe Ratio: -1.458",
          "MRK_Close <br>Volatility: 0.119 <br>Returns: -13.218% <br>Sharpe Ratio: -1.109",
          "ETN_Close <br>Volatility: 0.141 <br>Returns: 24.706% <br>Sharpe Ratio: 1.755",
          "JNJ_Close <br>Volatility: 0.111 <br>Returns: 22.520% <br>Sharpe Ratio: 2.029",
          "BAC_Close <br>Volatility: 0.223 <br>Returns: -26.944% <br>Sharpe Ratio: -1.207",
          "SAP_Close <br>Volatility: 0.147 <br>Returns: 37.100% <br>Sharpe Ratio: 2.516",
          "K_Close <br>Volatility: 0.135 <br>Returns: -29.169% <br>Sharpe Ratio: -2.163",
          "LLY_Close <br>Volatility: 0.158 <br>Returns: 7.554% <br>Sharpe Ratio: 0.477",
          "DIS_Close <br>Volatility: 0.123 <br>Returns: -0.543% <br>Sharpe Ratio: -0.044",
          "GOOGL_Close <br>Volatility: 0.165 <br>Returns: 35.196% <br>Sharpe Ratio: 2.129",
          "MCD_Close <br>Volatility: 0.145 <br>Returns: 45.502% <br>Sharpe Ratio: 3.146",
          "TMO_Close <br>Volatility: 0.142 <br>Returns: 18.499% <br>Sharpe Ratio: 1.306",
          "EXC_Close <br>Volatility: 0.136 <br>Returns: -8.000% <br>Sharpe Ratio: -0.589",
          "SO_Close <br>Volatility: 0.102 <br>Returns: -6.231% <br>Sharpe Ratio: -0.610",
          "BTI_Close <br>Volatility: 0.204 <br>Returns: 32.001% <br>Sharpe Ratio: 1.565",
          "AAPL_Close <br>Volatility: 0.162 <br>Returns: 25.462% <br>Sharpe Ratio: 1.576",
          "PEP_Close <br>Volatility: 0.087 <br>Returns: 16.167% <br>Sharpe Ratio: 1.850",
          "ABT_Close <br>Volatility: 0.133 <br>Returns: -0.556% <br>Sharpe Ratio: -0.042",
          "V_Close <br>Volatility: 0.110 <br>Returns: 24.671% <br>Sharpe Ratio: 2.234",
          "BA_Close <br>Volatility: 0.198 <br>Returns: 11.691% <br>Sharpe Ratio: 0.591",
          "PM_Close <br>Volatility: 0.135 <br>Returns: 30.790% <br>Sharpe Ratio: 2.281",
          "ADBE_Close <br>Volatility: 0.155 <br>Returns: 58.725% <br>Sharpe Ratio: 3.798",
          "KR_Close <br>Volatility: 0.405 <br>Returns: -80.708% <br>Sharpe Ratio: -1.993",
          "NEE_Close <br>Volatility: 0.105 <br>Returns: 16.637% <br>Sharpe Ratio: 1.584",
          "HON_Close <br>Volatility: 0.099 <br>Returns: 14.235% <br>Sharpe Ratio: 1.445",
          "GIS_Close <br>Volatility: 0.124 <br>Returns: -29.181% <br>Sharpe Ratio: -2.352",
          "TSLA_Close <br>Volatility: 0.381 <br>Returns: 96.040% <br>Sharpe Ratio: 2.522",
          "PFE_Close <br>Volatility: 0.098 <br>Returns: -13.932% <br>Sharpe Ratio: -1.429",
          "CVX_Close <br>Volatility: 0.149 <br>Returns: -34.967% <br>Sharpe Ratio: -2.344",
          "EW_Close <br>Volatility: 0.230 <br>Returns: 47.299% <br>Sharpe Ratio: 2.055",
          "AMZN_Close <br>Volatility: 0.171 <br>Returns: 45.113% <br>Sharpe Ratio: 2.632",
          "DUK_Close <br>Volatility: 0.089 <br>Returns: 2.265% <br>Sharpe Ratio: 0.255",
          "UNH_Close <br>Volatility: 0.118 <br>Returns: 29.482% <br>Sharpe Ratio: 2.496",
          "REGN_Close <br>Volatility: 0.300 <br>Returns: 71.439% <br>Sharpe Ratio: 2.378",
          "MO_Close <br>Volatility: 0.200 <br>Returns: -9.445% <br>Sharpe Ratio: -0.472",
          "ABBV_Close <br>Volatility: 0.124 <br>Returns: 42.583% <br>Sharpe Ratio: 3.422",
          "AMGN_Close <br>Volatility: 0.183 <br>Returns: -22.800% <br>Sharpe Ratio: -1.243",
          "BSX_Close <br>Volatility: 0.134 <br>Returns: 13.570% <br>Sharpe Ratio: 1.015",
          "DHR_Close <br>Volatility: 0.126 <br>Returns: -8.871% <br>Sharpe Ratio: -0.706",
          "QCOM_Close <br>Volatility: 0.182 <br>Returns: 5.055% <br>Sharpe Ratio: 0.278",
          "TXN_Close <br>Volatility: 0.179 <br>Returns: 20.737% <br>Sharpe Ratio: 1.156",
          "CPB_Close <br>Volatility: 0.149 <br>Returns: -34.720% <br>Sharpe Ratio: -2.323",
          "CSCO_Close <br>Volatility: 0.159 <br>Returns: -22.251% <br>Sharpe Ratio: -1.395",
          "ACN_Close <br>Volatility: 0.147 <br>Returns: -5.090% <br>Sharpe Ratio: -0.347"
         ],
         "marker": {
          "color": {
           "bdata": "YamT2kqIA0BJmJNmRlzev/MjULm+Pvs/JE8LQf9I/T+sDnIql5XvvxXOBtbGBwTA22RC3Jku8z+pKjlhcXECQNovlFFpSf2/hGu6ULZw3L9JJDfBdRj8vy9Bvq2fEe8/BktSPatEB0BZNYeW9339PwASfHL5RAhAwEv3mdHJ8b8nf7c8wsTqv1ZjQUxz4wHAZ/TEG539+D/S26BdVfD7P+ESXjRfVwVA5Uxgv68b/b9sfh5+iyr3v9v9KhHoONi//uFkCwRsAECw7zb/yAcPwHD51kHjFOs/3I6Gzu9387+zkDTqpOXxv7zPENzFPARAM7HRmosJ7b9QSLQ1oMTxv2pnCwMWT/q/xN0A2GqPxr9YapT5ZRT2P674NwSjwPE/Sv84DKc/9L9bKrYxm+T0P+qUSssf5/Q/zlzWeBD+/T/zhgA+mgTxv88Tt0XCUfk/TSmfq5cJ8z+5EKMQ5OUIQAY7DWj6JgfAkXUyE798AUBSzvBrrGgFQIVJVwTrrOK/w+m/ecUZ/r8OI5GNorsAQDFnEdbOUve//XEX5PS/8b8tnymOgRb8Pz61lsgJOwBAknDDWNhQ87+dmmjcKiEEQGcaagKsTgHA/LwvHpaD3j9A6DQzloymvwOE+ju6BwFAOJhm5qorCUAelI6PpOT0P175Qumt1eK/EHnC98mD47+JcVxPnAn5P/LZ5cGqNvk/kcMPYwGb/T9Nide0h3ilv8mzgmwS4AFA1xlF2MLs4j+4psHSaD8CQGTvxa7dYQ5AkTspEWfi/79QppLDl1n5P2F2gtrsHvc/OcZ3VafQAsCevErzyS0EQIH6HrOc3Pa/Kw3TQRfBAsBCtU819G8AQOnp117TDQVA52PXIv5M0D+X6eItl/gDQB8ZSN3rBgNAioM2cDs33r+7FC4+nF8LQFft9UlA5PO/f22XS90+8D9hRgZjqpnmv61twjHwz9E/Wh4kXCF+8j8ZEQqn15UCwH0qGlXiU/a/XeZtAKoz1r8=",
           "dtype": "f8"
          },
          "colorbar": {
           "title": {
            "text": "Sharpe<br>Ratio"
           }
          },
          "colorscale": [
           [
            0,
            "rgb(103,0,31)"
           ],
           [
            0.1,
            "rgb(178,24,43)"
           ],
           [
            0.2,
            "rgb(214,96,77)"
           ],
           [
            0.3,
            "rgb(244,165,130)"
           ],
           [
            0.4,
            "rgb(253,219,199)"
           ],
           [
            0.5,
            "rgb(247,247,247)"
           ],
           [
            0.6,
            "rgb(209,229,240)"
           ],
           [
            0.7,
            "rgb(146,197,222)"
           ],
           [
            0.8,
            "rgb(67,147,195)"
           ],
           [
            0.9,
            "rgb(33,102,172)"
           ],
           [
            1,
            "rgb(5,48,97)"
           ]
          ],
          "line": {
           "width": 1
          },
          "size": 6
         },
         "mode": "markers",
         "type": "scatter",
         "x": {
          "bdata": "V1h62j5d3D84uMN8ZkTHP8Ie6taxlb0/YcP5d6U/vj+HdEuGHW3VPxfpZoco3sc/rsmRbyVsuz/HlMW5aNu/P9apQSYJZeU/XTosaYrcwz8plQjGrpHGP6r8aKL0t8M/YXYADu/cyj82FdO6L/XHP13LnZu8TtE/PGj0UqM7tj/X31O3uTjmP7PB0SSotMo/KInZhuHpwj+NXP8U3ke7P2wrXjyaIN8/X1amr23DxT8S6s4x51HNP0vrimcBLsU/rf9y4HPqxj9vHZvdtgPCP35TMLN/M8E/PCm7f/0c0j/9yBo2nqzEP9ovZV2ef8E/XgcYWY0DzD/9pl05ZpHDP4YrFfVzhsI/A21ti2Gaxj/aVujUQt3NP5QHeNYTOL0/n9/CfZjJvj/oM6Ooi+jCP9cLqivJ5Lk/iNf9Jzndtz8RyQMjQ5PQP0IZeKKredQ/ik2Af1CHxj/MyV82FfvGPxzSeYzG1sg/iGXzSvJisz8UpyQxqUPEP7jFLiVUesI/XOqbPZE0xT+ADPuZ5q/FP4jkCkaDWMY/O3MXI4GAvj+kcleErAPCP4tFW7OEarw/cA5VJWaRzD8qfog1at/CP/uZ1OkbQsE/PeulP2xHxD8idPWyGJO/P1x1tH7BKcU/kRSIyeaCwj+6FJB7ECLCPyEYGKCfZcE/sQvo2zYouj+SPowXAy3KP1rYGUiDrsQ/hkgzBgJetj+47YiobvvAP5KNluQORLw/ijdmZK5NyT/KOOSKUUfBP65aDWPlysM/gNNejJbr2T+na7x1qOG6P4A8cUnvN7k/Qp2r4lvDvz/4x0RfQV7YP8wSCYkr9rg/jBZEJq8Xwz/5Y8rYVHfNP6L+o68A8cU/ES/x993Ctj+SdNWSsju+P7RqjnY1OdM/NIXS4zybyT+BfwDZ4tu/P+yAenJ4ecc/ee00hGUbwT8i+MmSzBPAPybF9ahPP8c/PRhcTUH3xj+MtZDZOiHDP1OdBMjVaMQ/vL3vUE7Iwj8=",
          "dtype": "f8"
         },
         "y": {
          "bdata": "UqQ49itQ8T/xt9PrNxO2vzlfCWpQMMk/4teyca6uyz86T+Hi3SXVv8rwdndM4d2/nFXiiSVwwD8l9OKRWlzSP66fmzGllPO/sBLlKO6msb8Zl0g9udDTv3pCYxwRJcM/tsUlDnGI4z/fB/xgghTWP/d6MGC3QOo/aiTd/M23uL/wt4Y4uZbiv8UIaSqW292/QhczQJ6KzT8+2Qwqh9HHP4FMrHZiwvQ/esCi0u/L078dx5B62TnVv2l3BCkrCLC/s6yMOSiF1z/lLZId+3fhv0ibbS9cHb0/SHnsHzQK1r9O9djJIyDHv4W5l+r8IdY/AHt1T5Nryb8fmd6w9brFvyhaMscNds6/uzFw1+Den7+G72tnJ5vUP5a+ddqvNcA/VKOn6jx7w78qe3fA17DIP/YSoAED6sA/K4GlCvRdxj+OJ57vO6HRv0QbnV9eM+A/tA5eQzHOyj/RvX6BaOHhP3/TcR+g+OG/TnzWyUcwxT+E0U88YB3bP3aaGxxRkbW/qWKGF1zy0796YwTGOq7WPwt4BJpxSdC/4IWwCj3rwL+WY33SxJ/PP0Bu2txe08w/oaQ3SoE+0b+xKmscZL7XP6eXzHkZq9K/RLy8AFlWsz8hHCK72D92vybhBTCWhtY/TMOGIA4f3T8U2y+FtK3HP8wFjYmperS/vPCHlDTnr78JAZ7vBnvUPy9hSGqrS9A/WW2aJ4qxxD89yooE78l2v28+oy8plM8/rl0kIdLtvT/g137AtbTTPwKmijG/yuI/flxuK53T6b+L35+1jkvFP/PZ1hWTOMI/NDofnf+s0r9CfJBhjrvuPxHFUZVU1cG/RwVifA5h1r8uXmZzgkXeP/z6XpNG39w/GSlfHWUwlz/KrS2ET97SP36j81JA3OY/GCdAdrstuL8wb2a+t0DbP3WatU4gL82/KcDRSJxewT8XyO/TobW2v3tWFrhk4ak/cg+BezSLyj/Wigp/iTjWv8jpXX0me8y/BcCsuREQqr8=",
          "dtype": "f8"
         }
        }
       ],
       "layout": {
        "template": {
         "data": {
          "bar": [
           {
            "error_x": {
             "color": "#2a3f5f"
            },
            "error_y": {
             "color": "#2a3f5f"
            },
            "marker": {
             "line": {
              "color": "#E5ECF6",
              "width": 0.5
             },
             "pattern": {
              "fillmode": "overlay",
              "size": 10,
              "solidity": 0.2
             }
            },
            "type": "bar"
           }
          ],
          "barpolar": [
           {
            "marker": {
             "line": {
              "color": "#E5ECF6",
              "width": 0.5
             },
             "pattern": {
              "fillmode": "overlay",
              "size": 10,
              "solidity": 0.2
             }
            },
            "type": "barpolar"
           }
          ],
          "carpet": [
           {
            "aaxis": {
             "endlinecolor": "#2a3f5f",
             "gridcolor": "white",
             "linecolor": "white",
             "minorgridcolor": "white",
             "startlinecolor": "#2a3f5f"
            },
            "baxis": {
             "endlinecolor": "#2a3f5f",
             "gridcolor": "white",
             "linecolor": "white",
             "minorgridcolor": "white",
             "startlinecolor": "#2a3f5f"
            },
            "type": "carpet"
           }
          ],
          "choropleth": [
           {
            "colorbar": {
             "outlinewidth": 0,
             "ticks": ""
            },
            "type": "choropleth"
           }
          ],
          "contour": [
           {
            "colorbar": {
             "outlinewidth": 0,
             "ticks": ""
            },
            "colorscale": [
             [
              0,
              "#0d0887"
             ],
             [
              0.1111111111111111,
              "#46039f"
             ],
             [
              0.2222222222222222,
              "#7201a8"
             ],
             [
              0.3333333333333333,
              "#9c179e"
             ],
             [
              0.4444444444444444,
              "#bd3786"
             ],
             [
              0.5555555555555556,
              "#d8576b"
             ],
             [
              0.6666666666666666,
              "#ed7953"
             ],
             [
              0.7777777777777778,
              "#fb9f3a"
             ],
             [
              0.8888888888888888,
              "#fdca26"
             ],
             [
              1,
              "#f0f921"
             ]
            ],
            "type": "contour"
           }
          ],
          "contourcarpet": [
           {
            "colorbar": {
             "outlinewidth": 0,
             "ticks": ""
            },
            "type": "contourcarpet"
           }
          ],
          "heatmap": [
           {
            "colorbar": {
             "outlinewidth": 0,
             "ticks": ""
            },
            "colorscale": [
             [
              0,
              "#0d0887"
             ],
             [
              0.1111111111111111,
              "#46039f"
             ],
             [
              0.2222222222222222,
              "#7201a8"
             ],
             [
              0.3333333333333333,
              "#9c179e"
             ],
             [
              0.4444444444444444,
              "#bd3786"
             ],
             [
              0.5555555555555556,
              "#d8576b"
             ],
             [
              0.6666666666666666,
              "#ed7953"
             ],
             [
              0.7777777777777778,
              "#fb9f3a"
             ],
             [
              0.8888888888888888,
              "#fdca26"
             ],
             [
              1,
              "#f0f921"
             ]
            ],
            "type": "heatmap"
           }
          ],
          "histogram": [
           {
            "marker": {
             "pattern": {
              "fillmode": "overlay",
              "size": 10,
              "solidity": 0.2
             }
            },
            "type": "histogram"
           }
          ],
          "histogram2d": [
           {
            "colorbar": {
             "outlinewidth": 0,
             "ticks": ""
            },
            "colorscale": [
             [
              0,
              "#0d0887"
             ],
             [
              0.1111111111111111,
              "#46039f"
             ],
             [
              0.2222222222222222,
              "#7201a8"
             ],
             [
              0.3333333333333333,
              "#9c179e"
             ],
             [
              0.4444444444444444,
              "#bd3786"
             ],
             [
              0.5555555555555556,
              "#d8576b"
             ],
             [
              0.6666666666666666,
              "#ed7953"
             ],
             [
              0.7777777777777778,
              "#fb9f3a"
             ],
             [
              0.8888888888888888,
              "#fdca26"
             ],
             [
              1,
              "#f0f921"
             ]
            ],
            "type": "histogram2d"
           }
          ],
          "histogram2dcontour": [
           {
            "colorbar": {
             "outlinewidth": 0,
             "ticks": ""
            },
            "colorscale": [
             [
              0,
              "#0d0887"
             ],
             [
              0.1111111111111111,
              "#46039f"
             ],
             [
              0.2222222222222222,
              "#7201a8"
             ],
             [
              0.3333333333333333,
              "#9c179e"
             ],
             [
              0.4444444444444444,
              "#bd3786"
             ],
             [
              0.5555555555555556,
              "#d8576b"
             ],
             [
              0.6666666666666666,
              "#ed7953"
             ],
             [
              0.7777777777777778,
              "#fb9f3a"
             ],
             [
              0.8888888888888888,
              "#fdca26"
             ],
             [
              1,
              "#f0f921"
             ]
            ],
            "type": "histogram2dcontour"
           }
          ],
          "mesh3d": [
           {
            "colorbar": {
             "outlinewidth": 0,
             "ticks": ""
            },
            "type": "mesh3d"
           }
          ],
          "parcoords": [
           {
            "line": {
             "colorbar": {
              "outlinewidth": 0,
              "ticks": ""
             }
            },
            "type": "parcoords"
           }
          ],
          "pie": [
           {
            "automargin": true,
            "type": "pie"
           }
          ],
          "scatter": [
           {
            "fillpattern": {
             "fillmode": "overlay",
             "size": 10,
             "solidity": 0.2
            },
            "type": "scatter"
           }
          ],
          "scatter3d": [
           {
            "line": {
             "colorbar": {
              "outlinewidth": 0,
              "ticks": ""
             }
            },
            "marker": {
             "colorbar": {
              "outlinewidth": 0,
              "ticks": ""
             }
            },
            "type": "scatter3d"
           }
          ],
          "scattercarpet": [
           {
            "marker": {
             "colorbar": {
              "outlinewidth": 0,
              "ticks": ""
             }
            },
            "type": "scattercarpet"
           }
          ],
          "scattergeo": [
           {
            "marker": {
             "colorbar": {
              "outlinewidth": 0,
              "ticks": ""
             }
            },
            "type": "scattergeo"
           }
          ],
          "scattergl": [
           {
            "marker": {
             "colorbar": {
              "outlinewidth": 0,
              "ticks": ""
             }
            },
            "type": "scattergl"
           }
          ],
          "scattermap": [
           {
            "marker": {
             "colorbar": {
              "outlinewidth": 0,
              "ticks": ""
             }
            },
            "type": "scattermap"
           }
          ],
          "scattermapbox": [
           {
            "marker": {
             "colorbar": {
              "outlinewidth": 0,
              "ticks": ""
             }
            },
            "type": "scattermapbox"
           }
          ],
          "scatterpolar": [
           {
            "marker": {
             "colorbar": {
              "outlinewidth": 0,
              "ticks": ""
             }
            },
            "type": "scatterpolar"
           }
          ],
          "scatterpolargl": [
           {
            "marker": {
             "colorbar": {
              "outlinewidth": 0,
              "ticks": ""
             }
            },
            "type": "scatterpolargl"
           }
          ],
          "scatterternary": [
           {
            "marker": {
             "colorbar": {
              "outlinewidth": 0,
              "ticks": ""
             }
            },
            "type": "scatterternary"
           }
          ],
          "surface": [
           {
            "colorbar": {
             "outlinewidth": 0,
             "ticks": ""
            },
            "colorscale": [
             [
              0,
              "#0d0887"
             ],
             [
              0.1111111111111111,
              "#46039f"
             ],
             [
              0.2222222222222222,
              "#7201a8"
             ],
             [
              0.3333333333333333,
              "#9c179e"
             ],
             [
              0.4444444444444444,
              "#bd3786"
             ],
             [
              0.5555555555555556,
              "#d8576b"
             ],
             [
              0.6666666666666666,
              "#ed7953"
             ],
             [
              0.7777777777777778,
              "#fb9f3a"
             ],
             [
              0.8888888888888888,
              "#fdca26"
             ],
             [
              1,
              "#f0f921"
             ]
            ],
            "type": "surface"
           }
          ],
          "table": [
           {
            "cells": {
             "fill": {
              "color": "#EBF0F8"
             },
             "line": {
              "color": "white"
             }
            },
            "header": {
             "fill": {
              "color": "#C8D4E3"
             },
             "line": {
              "color": "white"
             }
            },
            "type": "table"
           }
          ]
         },
         "layout": {
          "annotationdefaults": {
           "arrowcolor": "#2a3f5f",
           "arrowhead": 0,
           "arrowwidth": 1
          },
          "autotypenumbers": "strict",
          "coloraxis": {
           "colorbar": {
            "outlinewidth": 0,
            "ticks": ""
           }
          },
          "colorscale": {
           "diverging": [
            [
             0,
             "#8e0152"
            ],
            [
             0.1,
             "#c51b7d"
            ],
            [
             0.2,
             "#de77ae"
            ],
            [
             0.3,
             "#f1b6da"
            ],
            [
             0.4,
             "#fde0ef"
            ],
            [
             0.5,
             "#f7f7f7"
            ],
            [
             0.6,
             "#e6f5d0"
            ],
            [
             0.7,
             "#b8e186"
            ],
            [
             0.8,
             "#7fbc41"
            ],
            [
             0.9,
             "#4d9221"
            ],
            [
             1,
             "#276419"
            ]
           ],
           "sequential": [
            [
             0,
             "#0d0887"
            ],
            [
             0.1111111111111111,
             "#46039f"
            ],
            [
             0.2222222222222222,
             "#7201a8"
            ],
            [
             0.3333333333333333,
             "#9c179e"
            ],
            [
             0.4444444444444444,
             "#bd3786"
            ],
            [
             0.5555555555555556,
             "#d8576b"
            ],
            [
             0.6666666666666666,
             "#ed7953"
            ],
            [
             0.7777777777777778,
             "#fb9f3a"
            ],
            [
             0.8888888888888888,
             "#fdca26"
            ],
            [
             1,
             "#f0f921"
            ]
           ],
           "sequentialminus": [
            [
             0,
             "#0d0887"
            ],
            [
             0.1111111111111111,
             "#46039f"
            ],
            [
             0.2222222222222222,
             "#7201a8"
            ],
            [
             0.3333333333333333,
             "#9c179e"
            ],
            [
             0.4444444444444444,
             "#bd3786"
            ],
            [
             0.5555555555555556,
             "#d8576b"
            ],
            [
             0.6666666666666666,
             "#ed7953"
            ],
            [
             0.7777777777777778,
             "#fb9f3a"
            ],
            [
             0.8888888888888888,
             "#fdca26"
            ],
            [
             1,
             "#f0f921"
            ]
           ]
          },
          "colorway": [
           "#636efa",
           "#EF553B",
           "#00cc96",
           "#ab63fa",
           "#FFA15A",
           "#19d3f3",
           "#FF6692",
           "#B6E880",
           "#FF97FF",
           "#FECB52"
          ],
          "font": {
           "color": "#2a3f5f"
          },
          "geo": {
           "bgcolor": "white",
           "lakecolor": "white",
           "landcolor": "#E5ECF6",
           "showlakes": true,
           "showland": true,
           "subunitcolor": "white"
          },
          "hoverlabel": {
           "align": "left"
          },
          "hovermode": "closest",
          "mapbox": {
           "style": "light"
          },
          "paper_bgcolor": "white",
          "plot_bgcolor": "#E5ECF6",
          "polar": {
           "angularaxis": {
            "gridcolor": "white",
            "linecolor": "white",
            "ticks": ""
           },
           "bgcolor": "#E5ECF6",
           "radialaxis": {
            "gridcolor": "white",
            "linecolor": "white",
            "ticks": ""
           }
          },
          "scene": {
           "xaxis": {
            "backgroundcolor": "#E5ECF6",
            "gridcolor": "white",
            "gridwidth": 2,
            "linecolor": "white",
            "showbackground": true,
            "ticks": "",
            "zerolinecolor": "white"
           },
           "yaxis": {
            "backgroundcolor": "#E5ECF6",
            "gridcolor": "white",
            "gridwidth": 2,
            "linecolor": "white",
            "showbackground": true,
            "ticks": "",
            "zerolinecolor": "white"
           },
           "zaxis": {
            "backgroundcolor": "#E5ECF6",
            "gridcolor": "white",
            "gridwidth": 2,
            "linecolor": "white",
            "showbackground": true,
            "ticks": "",
            "zerolinecolor": "white"
           }
          },
          "shapedefaults": {
           "line": {
            "color": "#2a3f5f"
           }
          },
          "ternary": {
           "aaxis": {
            "gridcolor": "white",
            "linecolor": "white",
            "ticks": ""
           },
           "baxis": {
            "gridcolor": "white",
            "linecolor": "white",
            "ticks": ""
           },
           "bgcolor": "#E5ECF6",
           "caxis": {
            "gridcolor": "white",
            "linecolor": "white",
            "ticks": ""
           }
          },
          "title": {
           "x": 0.05
          },
          "xaxis": {
           "automargin": true,
           "gridcolor": "white",
           "linecolor": "white",
           "ticks": "",
           "title": {
            "standoff": 15
           },
           "zerolinecolor": "white",
           "zerolinewidth": 2
          },
          "yaxis": {
           "automargin": true,
           "gridcolor": "white",
           "linecolor": "white",
           "ticks": "",
           "title": {
            "standoff": 15
           },
           "zerolinecolor": "white",
           "zerolinewidth": 2
          }
         }
        },
        "title": {
         "text": "Markowitz Mean Varience Model"
        },
        "xaxis": {
         "title": {
          "text": "Volatility (Standard Deviation)"
         }
        },
        "yaxis": {
         "title": {
          "text": "Annualized Returns"
         }
        }
       }
      }
     },
     "metadata": {},
     "output_type": "display_data"
    }
   ],
   "source": [
    "hover_texts = [\n",
    "    f\"{ticker} <br>Volatility: {vol:.3f} <br>Returns: {ret:.3%} <br>Sharpe Ratio: {sr:.3f}\"\n",
    "    for ticker, vol, ret, sr in zip(names, volatility, annualized_returns, sharpe_ratios)\n",
    "]\n",
    "\n",
    "fig = go.Figure(data=go.Scatter(\n",
    "    x=volatility,\n",
    "    y=annualized_returns,\n",
    "    mode='markers',\n",
    "    hoverinfo='text',\n",
    "    hovertext=hover_texts,\n",
    "    marker=dict(color=sharpe_ratios, colorscale = 'RdBu', size=6, line=dict(width=1), colorbar=dict(title=\"Sharpe<br>Ratio\")\n",
    "    )\n",
    "))\n",
    "\n",
    "fig.update_layout(\n",
    "    title='Markowitz Mean Varience Model',\n",
    "    xaxis_title='Volatility (Standard Deviation)',\n",
    "    yaxis_title='Annualized Returns',\n",
    ")\n",
    "\n",
    "fig.show()"
   ]
  },
  {
   "cell_type": "markdown",
   "metadata": {
    "id": "E3i7iFfDabDV"
   },
   "source": [
    "## 4.0 Monte Carlo Method"
   ]
  },
  {
   "cell_type": "code",
   "execution_count": 95,
   "metadata": {
    "colab": {
     "base_uri": "https://localhost:8080/"
    },
    "id": "fsgRqCSWabDV",
    "outputId": "55346305-b21e-48aa-bd8b-0daed1a50060"
   },
   "outputs": [
    {
     "name": "stderr",
     "output_type": "stream",
     "text": [
      "100%|██████████| 1000/1000 [00:02<00:00, 423.18it/s]\n"
     ]
    }
   ],
   "source": [
    "all_portfolios, dominant_portfolios = MonteCarloRBA(names, cov, annualized_returns, 1000)"
   ]
  },
  {
   "cell_type": "code",
   "execution_count": 96,
   "metadata": {
    "colab": {
     "base_uri": "https://localhost:8080/"
    },
    "id": "09tYBpwxabDV",
    "outputId": "055bc292-d45d-4b5b-baaf-482d1c4ede81"
   },
   "outputs": [
    {
     "name": "stdout",
     "output_type": "stream",
     "text": [
      "63 1000\n"
     ]
    }
   ],
   "source": [
    "print (len(dominant_portfolios) ,len(all_portfolios))"
   ]
  },
  {
   "cell_type": "code",
   "execution_count": 97,
   "metadata": {
    "colab": {
     "base_uri": "https://localhost:8080/",
     "height": 542
    },
    "id": "uuj_oTIZabDV",
    "outputId": "c0fec4f3-4492-4608-a54f-48d800b04ba7"
   },
   "outputs": [
    {
     "data": {
      "application/vnd.plotly.v1+json": {
       "config": {
        "plotlyServerURL": "https://plot.ly"
       },
       "data": [
        {
         "hoverinfo": "text",
         "marker": {
          "color": [
           3.6325597510006036,
           2.319807195688563,
           2.286897677547254,
           3.3446512806857225,
           1.7167629837517953,
           2.377017924890981,
           1.575846440709594,
           2.332615071704872,
           3.112251405693317,
           3.1668732251274148,
           -0.378473297930162,
           2.4206203398801316,
           2.962550905486669,
           1.1988772014503783,
           4.210511704622221,
           2.5603647391021567,
           2.97254847363009,
           2.0487580811205106,
           1.3799800633629697,
           3.920917113688435,
           0.5914015029928137,
           2.6792788138118557,
           2.0977772270911434,
           2.2809616532657264,
           2.5161950320646853,
           2.8924168706846363,
           3.867316365447221,
           3.8596265604474658,
           3.2414431366401715,
           1.584373249012419,
           1.8745274276932835,
           1.7461751611096317,
           2.726161961917207,
           1.7461751611096925,
           2.512689776918816,
           2.234410140742032,
           2.5161950320646156,
           2.15319466681703,
           4.388358323336806,
           3.49356879725546,
           2.1287731824709226,
           2.676110118185341,
           2.4898452791150065,
           3.4747972869222927,
           1.7028186072150187,
           2.234410140742031,
           2.650340920014328,
           2.5296742622976733,
           0.9709013360425476,
           2.5511108724080973,
           2.5296742622976724,
           1.7461751611096938,
           2.862080673556644,
           3.0096265835709977,
           3.1629398656269747,
           3.181952126853948,
           2.109023567899078,
           1.2385066990258942,
           -1.2655401685187422,
           1.8144551090797447,
           2.2344101407420274,
           3.927872035582111,
           3.1692753606366386,
           2.305392036015594,
           3.8136906014958236,
           2.401374789179041,
           2.6568072872978905,
           1.3064268055980424,
           4.207880593094553,
           -0.4443794048654235,
           2.529674262297672,
           1.77850260273101,
           2.4963821015237033,
           1.1988772014504352,
           0.2546992626426443,
           3.6789538752808872,
           1.899718577653973,
           3.4562496795042805,
           1.8779019828204238,
           3.275918252933083,
           2.789082936982216,
           2.3035051446914907,
           2.099733960678575,
           2.6803988145311233,
           3.849358819268856,
           2.9387390779751867,
           1.1095304646292243,
           2.5223578459912894,
           2.2349788232497483,
           1.7554946473337154,
           3.729890577453743,
           1.5648463344615229,
           1.0153477623742615,
           0.2546992626426445,
           2.1420140593065073,
           2.8630367738397666,
           2.803259392368883,
           3.5880737920687955,
           2.054665009016987,
           2.0527420892869577,
           4.168058910110446,
           2.5595038868383027,
           1.3058120672091238,
           1.8918614413892216,
           2.631750813450015,
           2.644491863701745,
           2.502520985627889,
           2.072939510637666,
           2.504715661901058,
           -0.5836081585678562,
           -0.47212110479636943,
           3.629698068045191,
           3.1099456100372973,
           3.3520895360219147,
           2.896968781807103,
           1.779162727439167,
           3.112251405693372,
           3.523300322027382,
           3.5744827553113576,
           2.4357068378086217,
           1.7461751611096885,
           3.589334487602885,
           -0.9870105580343733,
           3.421684728413846,
           1.9024341706261654,
           -0.04193519671004555,
           2.052742089286993,
           1.480372804928953,
           1.306426805598044,
           1.7028186072150187,
           3.473869601231721,
           -0.47212110479636576,
           2.5423539890130185,
           1.6261615036936279,
           2.2809616532657238,
           3.6991924307447523,
           2.2939831934794763,
           3.1819521222639997,
           1.8116474837367147,
           -1.11856547819575,
           0.9709013360425488,
           1.7554946473337143,
           1.7785025930917524,
           2.79464125009596,
           1.8240080423287572,
           0.27831654414486423,
           3.185143032983735,
           2.209517217972529,
           2.4415490223229117,
           2.0288272543899906,
           2.638833753972269,
           0.846299770920991,
           3.0764236060441963,
           1.109530464629226,
           -1.7559716746784664,
           0.27831654414486645,
           3.299457445513698,
           2.3387057274714897,
           3.442373672529373,
           2.091618638984419,
           2.187363517191214,
           2.8868527201973295,
           1.9881187124752142,
           3.4216847284138487,
           2.573285655461265,
           2.7314831821112446,
           1.3058209998791948,
           2.0190217500066625,
           4.623367469656213,
           2.705432893176231,
           1.7028186072150162,
           1.7461751611096836,
           2.6483300874338225,
           2.590132619355893,
           1.3493327415570489,
           3.6677098392387464,
           2.415959006508291,
           0.25469926220950606,
           2.0906639623122967,
           2.5296742622976716,
           1.793649814500628,
           3.447641676729954,
           2.234410140742029,
           3.146322059637008,
           3.2313231736970005,
           2.670566508688,
           3.235546490057843,
           3.1201629895352294,
           3.0046018166517356,
           2.8861435912411895,
           3.7831103008793687,
           2.455173902108594,
           4.4208007525972235,
           0.278316544144865,
           2.8885627539795093,
           1.7028186072150189,
           2.5161950320646853,
           2.0288272543899932,
           2.2344101407420327,
           2.6978269322454786,
           3.2230007093193347,
           2.754449553694412,
           3.3324649932317345,
           1.8617933149988133,
           1.3058209998791928,
           3.8958699248958513,
           2.3848788480738343,
           2.6676620570382137,
           3.0011734289207688,
           3.932774333638044,
           2.0323358060021306,
           2.2157303030366124,
           3.441273819568787,
           2.565616423950259,
           3.3887682841298368,
           3.387991505994796,
           3.507323292304714,
           1.0153477623742548,
           2.712916950171721,
           2.5161950320646853,
           2.770817199743731,
           2.503553270798936,
           2.5126899434773837,
           3.7977861074595194,
           2.290272328010703,
           2.676110118185343,
           2.1671484121839386,
           2.9389963981825535,
           2.373012400791012,
           1.6419328005576397,
           3.7378454178031197,
           -1.0636236593203967,
           3.573906856281242,
           2.5223578459914027,
           2.0527420892869697,
           2.529674262297664,
           -0.8365184007525145,
           1.6197765770233143,
           1.1988772014504339,
           3.4216847284137435,
           2.336125627245202,
           2.114535386611983,
           2.069173035070438,
           2.7847428067787896,
           2.8322205850781046,
           1.1095304643396817,
           3.4478257151676917,
           1.445050099900434,
           1.434363071442572,
           1.5026053484566628,
           2.890735543449231,
           3.3482126205899445,
           2.507143607735706,
           -0.7062580045772646,
           1.5843732490124176,
           -1.7559716746784655,
           1.8503431195824505,
           1.3237092122884229,
           1.7749438904581676,
           2.3928651656155475,
           1.3799800633629695,
           2.5296742622976716,
           2.097722878850084,
           2.6317508134500023,
           0.2783165441448629,
           1.911590558728819,
           1.6486543584810813,
           2.9830538797864534,
           3.0654737833130414,
           -1.9927740736345452,
           2.522357845991333,
           2.2344101407420234,
           3.4216847284138403,
           2.7585158411056594,
           3.7977861074595456,
           2.819343455049946,
           2.003548369704034,
           4.160474377832152,
           2.1014420562297733,
           3.7100381752209053,
           3.9806069978547303,
           2.5000867624159144,
           3.156584786511124,
           2.708581655494809,
           2.582771041769985,
           2.003548399835476,
           1.7601844686074617,
           2.5296742622976733,
           2.6317508134500134,
           1.8762957957443258,
           3.49734844814126,
           2.3154433765614737,
           2.6317508134500143,
           1.980398244986847,
           1.8457931816497288,
           2.305392036015594,
           1.746175161109689,
           3.0510152188235824,
           0.4767813963689631,
           -0.9870105580343611,
           2.5161950320646853,
           -0.37847329784923833,
           2.8645979525831304,
           2.377488464421616,
           1.8432536964422372,
           3.238444952685892,
           2.9085297384965685,
           1.702818607215011,
           0.591401502992819,
           2.620190974581585,
           1.7573301595533402,
           3.79343739349935,
           1.7028186072150149,
           3.8338917916464053,
           3.166873459544035,
           1.8303215542591147,
           3.835488211897882,
           1.0099003920621163,
           1.8303215542591227,
           1.3237088980687866,
           3.001695629502284,
           2.6702157259614228,
           0.9709013360425497,
           1.3064268055980437,
           2.0546272285391636,
           0.5914015029928187,
           2.5301251776523945,
           3.388768645692609,
           0.5416115126682657,
           3.3146551489392966,
           1.8632635689523855,
           3.2746650768582457,
           2.9063344465825254,
           1.4450500998805573,
           1.5843732490124123,
           1.5532416757387548,
           1.9468807269011268,
           3.5818977340228897,
           2.5190518566960325,
           1.702818607215019,
           2.908529738496668,
           -0.37847329784923794,
           2.5161950320646778,
           2.955220296220552,
           1.5648463344615229,
           4.124434129545662,
           1.8781893702523542,
           2.626413707604206,
           3.5779124049917432,
           3.484199232798337,
           1.4450500999004336,
           2.697272959843136,
           2.766766984422871,
           1.0153477623742604,
           1.5619174075805742,
           2.0615018035931576,
           3.0088195979686816,
           2.1287731824709177,
           0.4767813963689631,
           2.990305304533168,
           1.4450500998995315,
           1.807865996832289,
           1.8831772188743592,
           2.234410140742032,
           1.743879712351404,
           0.39837438618746535,
           4.331051281641934,
           3.2205864709217424,
           1.1898419097875206,
           1.7028186072150153,
           3.051884860602736,
           1.4450500999004348,
           3.1393312374268225,
           2.6317508134500156,
           4.630830806819559,
           3.338472863442385,
           3.4703407951478806,
           3.1861138983220965,
           2.659555173184541,
           3.0507850710639093,
           2.729829691085806,
           1.575846440709594,
           2.090663977798809,
           3.1668831576429257,
           3.2573762477945003,
           2.6761101181853415,
           2.557063509546831,
           3.115224044139131,
           2.8990189105496675,
           2.515880113774231,
           2.2944334797748147,
           4.209672684862515,
           1.1095304646292228,
           1.0412254854036176,
           2.1486562181520585,
           2.3783795631053546,
           3.6107986489703205,
           3.455089203127392,
           2.631750813449998,
           2.815420559733975,
           2.4308140506007914,
           3.043230318153149,
           2.4413940849390157,
           -2.1634140194540126,
           -0.04193519673103865,
           2.1594541174851356,
           2.6761101181853055,
           3.852763665941629,
           2.529674262297673,
           3.084857972008344,
           1.155793533254743,
           -0.8365184007525145,
           2.0546650090169867,
           2.4415490223228513,
           1.7302408538124083,
           2.522357845991407,
           2.631750813449996,
           2.5161950320646804,
           1.487728130387275,
           2.2809616532657224,
           3.9084551877568408,
           3.626536754127963,
           3.2295478593482634,
           2.729829691137409,
           3.8711353563518363,
           2.9709325603009034,
           2.6761101181853246,
           2.848150649154863,
           1.561917408441564,
           2.204806139807705,
           1.8745274276932782,
           2.05274208928684,
           1.561917408441568,
           2.889150996524685,
           2.054665009016985,
           2.5647296957062324,
           2.619200021816056,
           3.315528665219192,
           3.07582518900024,
           1.306426805459794,
           4.1313604543908315,
           2.1002460260164666,
           2.688504720583771,
           2.7863178972113483,
           1.5843732490124187,
           2.647113264918332,
           2.091618638984419,
           2.185911321618452,
           3.067437956295453,
           2.1987137086055046,
           2.3783795631053537,
           1.7554946473337127,
           3.2682556698593084,
           2.651288510101739,
           1.1460976607423907,
           2.638833728082986,
           2.280961653265731,
           2.530196244946615,
           3.3883135952687455,
           1.7554946473337119,
           2.631750813444555,
           2.65375738083307,
           4.1167452714971,
           2.5161950320646604,
           3.599066801055095,
           -0.044041341543996686,
           1.8500007647693824,
           4.4842974891030485,
           4.7093015601069474,
           4.883747926136474,
           -0.1762517504409867,
           2.8669174460524616,
           2.5199420269325614,
           1.306426805598045,
           2.4912155255395625,
           1.9990251104108203,
           1.4450500999004336,
           2.5394369041484603,
           3.4528931843302515,
           4.057041163074375,
           4.883747923983333,
           2.5161950320646826,
           -0.9074152015505558,
           -0.9870105580343623,
           3.1907397946309017,
           3.266610514545736,
           2.5249889692312815,
           2.540729282924403,
           2.046536688762217,
           2.374014540152113,
           1.4471568586805852,
           2.5227604835598725,
           1.3064268055980452,
           2.870117772941794,
           0.5112474475275217,
           2.0531057901421876,
           2.305392036015594,
           3.7977861074593067,
           3.3329531383127513,
           1.3058209998791912,
           0.2546992626426445,
           1.7167628218853168,
           2.5789666419172934,
           3.72955942480687,
           2.5991688931941814,
           2.8885626931795705,
           2.651867440125939,
           2.052742089286987,
           1.4974375831598026,
           3.031318506307608,
           2.990305284339687,
           2.630740239822085,
           1.3058120672091236,
           1.888086555348088,
           2.530125015213036,
           2.9749604186357943,
           2.490303745252141,
           2.6138086823080453,
           1.7461751611096936,
           4.123446046254904,
           3.1463220596369514,
           1.155793533254742,
           2.6863707228534155,
           1.7573298646363715,
           1.3064268055980452,
           1.3058120672091227,
           2.382037827290857,
           2.5879311586175215,
           1.5824606631515192,
           1.0099002812390254,
           3.9055257363345723,
           1.1988772014502402,
           2.4963821015236993,
           3.4216847284138483,
           2.280961653265731,
           -1.2432253731811544,
           0.47678139636896144,
           2.7231237765715055,
           3.1152889808107638,
           2.196447220375864,
           2.9623468595123854,
           3.3967876769033967,
           2.8263784521688304,
           2.587931140122684,
           2.6880459414527818,
           2.5296742622976733,
           -0.7062580045769206,
           2.062909686792519,
           1.7601844658768457,
           2.8499027272758712,
           2.5223578459914022,
           2.0557881863569083,
           2.320321159150023,
           -1.7559716746784664,
           2.552227797343487,
           1.6260956720550281,
           3.512534972681526,
           2.4903036469153284,
           2.8893517275801863,
           3.1122514056933963,
           3.8354882012460876,
           -1.4478869368103076,
           -0.5836081585678562,
           3.565282384942463,
           3.0432917909329253,
           3.5497227153508586,
           1.1095304646292248,
           2.41140167688336,
           2.4826506432036903,
           2.644143949727254,
           3.4216847284138487,
           2.975264716833309,
           2.0288272543899892,
           3.211479611469022,
           3.416865621383592,
           3.7078915214208,
           2.5991686970365615,
           3.0507850686790734,
           3.0626711736571446,
           2.627529090219775,
           1.734408541213398,
           2.185911321618456,
           2.667662057038214,
           2.288378781067543,
           2.8131048638468714,
           2.6676620570382092,
           3.3469678279112753,
           2.51619503206467,
           2.5464686315940064,
           2.516195032064684,
           2.5990255067968744,
           2.9085297384966706,
           2.2565588577816476,
           4.2278549212446865,
           1.3799800633629695,
           -0.4743820192082236,
           2.5161950320646853,
           2.441549022322894,
           1.937625125632586,
           3.9572967274036586,
           -1.8304227053331403,
           2.644143949970936,
           1.988523600013714,
           2.054665009016987,
           3.2746651225886128,
           1.7444323718640262,
           1.3058120672091216,
           1.8694553017097648,
           3.7977861074595456,
           2.280961653265731,
           3.060180261011387,
           3.263269786128922,
           2.6676620570382146,
           2.8551160589540205,
           1.3058120672090863,
           1.3058209998791948,
           2.408709011010169,
           2.6721424657957047,
           3.403812034798691,
           1.2188731691274137,
           2.824424927628808,
           2.9768052897005215,
           2.7559397834632735,
           1.1557935332547429,
           1.5843732490124187,
           2.128773182470923,
           -0.9074152015505548,
           2.1816527947162077,
           3.284976261621258,
           3.0267967311953674,
           1.8503431195823719,
           3.450645898270057,
           1.3058209998791885,
           2.2344101407420314,
           2.2111404640471894,
           2.7623458835800085,
           2.0527420892869563,
           2.6367547846144563,
           2.686019297942619,
           3.1152239484518662,
           0.8462997709209908,
           1.1988772014504172,
           1.8432536964422381,
           3.677068177390336,
           2.0916186389844205,
           2.9489313714724137,
           1.659336389460698,
           2.6915938413064997,
           2.4963821015236594,
           2.6595551492944294,
           3.797786107459539,
           2.161201453135033,
           2.8808969686026047,
           -1.0636236593203963,
           1.7028186058676447,
           2.3350469025893257,
           3.421747156896278,
           1.5843732490123932,
           3.7977861074595456,
           2.9155182939421853,
           2.746024842129646,
           2.5187296052704142,
           0.8462997709209905,
           3.185142727263467,
           3.797786107459539,
           1.1988772012487918,
           1.4450500999004348,
           1.1988772014496718,
           0.2546992454321024,
           1.1119635444178906,
           2.7847428158445355,
           2.9085297384966706,
           2.441549022322902,
           2.973379802711821,
           2.0546650090169774,
           3.386234688184569,
           1.3058120672090732,
           2.6709003969971845,
           2.6676620570382057,
           1.9762101685244002,
           1.379980063362962,
           1.575846440709594,
           3.539919040712048,
           2.1597083687443708,
           1.1898419097875204,
           2.4507137385376,
           1.8303215542591185,
           2.250947244068143,
           1.0153477623742613,
           2.601187716060098,
           1.5824606631515399,
           2.725446657648451,
           2.0819888208789545,
           2.61907033256932,
           1.8392650121632665,
           1.1557935332547422,
           3.4391297543203865,
           -0.8365184007525144,
           2.0916186389844187,
           -0.8365184007525149,
           2.6018116946764938,
           3.358818580027904,
           2.1961984302826973,
           3.060107092320455,
           2.999967532958444,
           1.3058209998791903,
           2.3361258717795628,
           2.487006029730073,
           3.747077324345949,
           3.7025355013581187,
           1.1988772014504352,
           3.275918358702184,
           2.3783795631053546,
           0.2546992626425594,
           4.057041206435502,
           3.6681541596844314,
           2.1859113216184496,
           -1.2432253731811596,
           3.1882696579233674,
           1.778675329534018,
           2.3937751491514088,
           2.0527420892869697,
           2.4415490223229033,
           0.5914015029928176,
           2.24139178074415,
           3.8712391102484633,
           1.3064268055980457,
           1.3064268055980457,
           2.3053920360155904,
           4.065348299654581,
           2.173210960094243,
           3.748712339469207,
           3.119979338660637,
           2.5734254884912033,
           1.799484913966355,
           1.9329945867156952,
           2.6336711452431185,
           1.860563817038473,
           1.1557935332547429,
           2.370841645661962,
           3.043542222738662,
           3.415203892705421,
           1.7554946473337154,
           3.5889604937759794,
           2.636593627966456,
           3.4746323930310448,
           -1.8304227053331403,
           2.052742089286891,
           3.3967876772133807,
           3.311123016419002,
           1.0866685136310221,
           3.051884880551922,
           0.5914015029928188,
           -0.44437940486539473,
           1.6600411356560074,
           2.6740110102174586,
           0.2546992626423497,
           0.5914015029928124,
           -1.9927740736345394,
           3.9475600627990266,
           1.8432536964422381,
           1.7625420068439661,
           -1.063623659320397,
           1.3064268055980377,
           2.8311951388032397,
           3.450645897325531,
           2.606592374104542,
           2.7835811845417258,
           3.033678907786676,
           3.537803638727149,
           1.5843732490124187,
           2.3783795631053546,
           2.6518678205450503,
           2.6763212456491874,
           2.9654343656231923,
           2.519645285277974,
           2.7457958282547037,
           3.1463220596370105,
           2.3910083366808497,
           1.306426805597952,
           -1.2432253731811729,
           2.9860790125759413,
           1.553241675130413,
           2.7052534995513273,
           1.5758464407095933,
           2.870129345767252,
           1.6509300132850355,
           3.072828203531494,
           4.27407117307956,
           2.986078890466986,
           4.0610315701443245,
           2.522357845991403,
           3.3329533653671586,
           2.4240157570715746,
           3.421684728413847,
           1.4648304926133267,
           2.9085297384966706,
           1.1988772014504352,
           3.409770867342217,
           2.8630367774469656,
           1.8745274276932804,
           -1.8304227053331403,
           -1.1185654781957455,
           2.10024600648301,
           1.8745274276932826,
           2.5926202916210346,
           2.4137990040010795,
           0.2546992624181134,
           2.7667669842525267,
           2.594096668909598,
           2.0527420892869856,
           2.0081085489169994,
           3.722789424450101,
           3.5663145407567662,
           3.1542946641667124,
           1.8303215542591216,
           2.1168381071096394,
           2.354898396617146,
           3.386234715261338,
           -0.37847329784923794,
           1.8503431195824513,
           3.42171772661182,
           2.5296742622973767,
           1.3064268055980441,
           -0.47438201920741235,
           3.12962479538073,
           3.2544276106553367,
           1.891861551902753,
           1.5648463344615229,
           2.367107355354154,
           1.155793533254743,
           -0.1762517570192923,
           3.8949161588922636,
           2.647113265842502,
           2.1351334311616244,
           1.2847893582930514,
           2.4963821015237033,
           1.3058120672090938,
           2.2218467917154197,
           2.6761101181853353,
           2.7209897815455997,
           2.091618638984415,
           2.305392036015585,
           2.3783795631053493,
           2.3783795631053546,
           3.6152793243249146,
           3.1469902640281147,
           1.7839623074359807,
           1.702818607215019,
           2.733254638960624,
           1.5619174084415812,
           1.7028186072150093,
           1.820800572415594,
           1.8503431195824513,
           1.0923183958284186,
           3.1068400083867465,
           3.138856950275502,
           1.266831709713654,
           3.137728792276116,
           2.42945635737958,
           3.1738935739619,
           2.441549022322914,
           2.052742089286993,
           4.0419561265932336,
           2.3053920360155153,
           3.6107986125345803,
           3.5287944017086192,
           3.4909619826776717,
           2.8877431871007757,
           2.0646285346127873,
           0.8462997709209904,
           3.3738661862252513,
           -0.041935196710046176,
           2.5047748175977587,
           1.1095304646292266,
           1.6524464639527918,
           2.4988882028606207,
           2.75363483877228,
           2.8286513540534077,
           2.4963821015237,
           2.6316777937275475,
           1.306426805598037,
           3.1232798419901124,
           2.23441014074203,
           2.9749604182308866,
           2.441549022322905,
           3.3936111016460973,
           3.7227894278452554,
           2.5296742622976733,
           3.7072294115300988,
           3.4987982286535,
           2.3996934166198707,
           3.1463220596370074,
           3.493568803337332,
           3.629331082435466,
           3.1805174986678573,
           2.028827254389994,
           3.9382101504069422,
           1.746175161109694,
           2.9159055131046125,
           2.682500312337191,
           3.20564227028244,
           2.4185890325334305,
           2.2809616532657198,
           1.4450500999004334,
           1.146097182976687,
           1.3064268055980333,
           2.5198783936358327,
           -0.04404134154397399,
           3.0432514531046633,
           1.8503431195824513,
           2.9139737704443975,
           1.8674549406751235,
           -0.37847329784923867,
           3.1565847734764656,
           1.0153477623742615,
           2.0527420892869777,
           3.7446498962352033,
           1.9050971535141503,
           3.339436165948581,
           3.2459084532205167,
           1.5558951746508898,
           3.023623962453134,
           1.0153477623742555,
           2.9173148242397007,
           -1.2167814319045003,
           1.9885236167096163,
           2.631750813450013,
           2.63883359722044,
           1.4086013726059727,
           2.890735545074964,
           2.5161950320646853,
           3.2947701984203377,
           2.1307462910243262,
           1.155793533254743,
           0.25469926264200105,
           2.6523439978674963,
           2.415416573630124,
           3.554752132378649,
           1.3058209998791943,
           2.756271862052699,
           3.0198974121622295,
           3.912627905967363,
           3.93627451680944,
           0.4767813963689625,
           2.3356573252267228,
           3.1480856270525988,
           2.4415490223229144,
           3.79938657572162,
           2.37837956310532,
           2.04653668875137,
           2.915905938479263,
           2.4312198805330527,
           2.4963821015237033,
           3.8034415968101296,
           2.676110118185341,
           2.0546650090169614,
           3.470710877464151,
           1.1988772014504352,
           2.435706841779041,
           3.437894871160647,
           2.054665009016987,
           2.66766462566254,
           1.5824606631515399,
           2.1455961919148607,
           1.0153477623742613,
           1.015347762374259,
           2.888562788781588,
           2.223416645658514,
           -0.47212110479636565,
           2.6142733195082224,
           1.8303215542588842,
           3.942456646299764,
           2.903296775534545,
           1.8432536964422381,
           1.996730219708938,
           1.0153477623742602,
           3.677068112558584,
           2.4898452964976925,
           2.0527420892869923,
           1.3064268055978203,
           2.963297392609644,
           3.1629398628238716,
           1.977523279765235,
           -0.37847329784923806,
           2.7356566709935555,
           2.008108641830963,
           3.5399190927088675,
           2.5453941667799196,
           2.9067984864000143,
           3.06953503004141,
           4.054940736914322,
           4.039111509847132,
           3.4098807482063767,
           3.078857736302842,
           3.63862199076507,
           1.109530464629197,
           -1.243225373181173,
           1.5648463344615229,
           3.1898662102617767
          ],
          "colorbar": {
           "title": {
            "text": "Sharpe<br>Ratio"
           }
          },
          "colorscale": [
           [
            0,
            "rgb(103,0,31)"
           ],
           [
            0.1,
            "rgb(178,24,43)"
           ],
           [
            0.2,
            "rgb(214,96,77)"
           ],
           [
            0.3,
            "rgb(244,165,130)"
           ],
           [
            0.4,
            "rgb(253,219,199)"
           ],
           [
            0.5,
            "rgb(247,247,247)"
           ],
           [
            0.6,
            "rgb(209,229,240)"
           ],
           [
            0.7,
            "rgb(146,197,222)"
           ],
           [
            0.8,
            "rgb(67,147,195)"
           ],
           [
            0.9,
            "rgb(33,102,172)"
           ],
           [
            1,
            "rgb(5,48,97)"
           ]
          ],
          "line": {
           "width": 1
          },
          "showscale": true,
          "size": 7
         },
         "mode": "markers",
         "text": [
          "Return: 40.927%<br>Volatility: 0.113<br>Sharpe Ratio: 3.633<br>UA_Close: Weight=0.000<br>TXN_Close: Weight=0.000<br>ABBV_Close: Weight=0.768<br>GOOG_Close: Weight=0.232",
          "Return: 26.956%<br>Volatility: 0.116<br>Sharpe Ratio: 2.320<br>LLY_Close: Weight=0.082<br>MA_Close: Weight=0.918<br>BMY_Close: Weight=0.000",
          "Return: 16.334%<br>Volatility: 0.071<br>Sharpe Ratio: 2.287<br>CMCSA_Close: Weight=0.138<br>KO_Close: Weight=0.862<br>PG_Close: Weight=0.000<br>F_Close: Weight=0.000",
          "Return: 52.986%<br>Volatility: 0.158<br>Sharpe Ratio: 3.345<br>LMT_Close: Weight=0.326<br>DE_Close: Weight=0.436<br>NKE_Close: Weight=0.000<br>VRTX_Close: Weight=0.238",
          "Return: 33.010%<br>Volatility: 0.192<br>Sharpe Ratio: 1.717<br>NFLX_Close: Weight=0.506<br>CMCSA_Close: Weight=0.494<br>K_Close: Weight=0.000<br>DIS_Close: Weight=0.000",
          "Return: 25.236%<br>Volatility: 0.106<br>Sharpe Ratio: 2.377<br>GOOGL_Close: Weight=0.438<br>RTX_Close: Weight=0.562<br>BAC_Close: Weight=0.000<br>MS_Close: Weight=0.000",
          "Return: 25.462%<br>Volatility: 0.162<br>Sharpe Ratio: 1.576<br>DHR_Close: Weight=0.000<br>SNAP_Close: Weight=0.000<br>AAPL_Close: Weight=1.000",
          "Return: 21.470%<br>Volatility: 0.092<br>Sharpe Ratio: 2.333<br>LLY_Close: Weight=0.076<br>NFLX_Close: Weight=0.173<br>PFE_Close: Weight=0.000<br>PEP_Close: Weight=0.751",
          "Return: 55.877%<br>Volatility: 0.180<br>Sharpe Ratio: 3.112<br>ISRG_Close: Weight=1.000<br>IBM_Close: Weight=0.000<br>PFE_Close: Weight=0.000",
          "Return: 58.812%<br>Volatility: 0.186<br>Sharpe Ratio: 3.167<br>MRK_Close: Weight=0.000<br>VZ_Close: Weight=0.000<br>TSLA_Close: Weight=0.372<br>DE_Close: Weight=0.628",
          "Return: -6.262%<br>Volatility: 0.165<br>Sharpe Ratio: -0.378<br>BIIB_Close: Weight=0.000<br>SNAP_Close: Weight=0.000<br>EMR_Close: Weight=1.000",
          "Return: 24.727%<br>Volatility: 0.102<br>Sharpe Ratio: 2.421<br>RTX_Close: Weight=0.604<br>AMD_Close: Weight=0.000<br>BSX_Close: Weight=0.016<br>DE_Close: Weight=0.380",
          "Return: 50.849%<br>Volatility: 0.172<br>Sharpe Ratio: 2.963<br>NVDA_Close: Weight=0.221<br>MSFT_Close: Weight=0.779<br>UA_Close: Weight=0.000",
          "Return: 12.842%<br>Volatility: 0.107<br>Sharpe Ratio: 1.199<br>INTC_Close: Weight=0.000<br>COST_Close: Weight=0.000<br>SRE_Close: Weight=1.000<br>SYY_Close: Weight=0.000",
          "Return: 44.473%<br>Volatility: 0.106<br>Sharpe Ratio: 4.211<br>DE_Close: Weight=0.232<br>AEP_Close: Weight=0.201<br>BA_Close: Weight=0.000<br>ADBE_Close: Weight=0.567",
          "Return: 27.738%<br>Volatility: 0.108<br>Sharpe Ratio: 2.560<br>UNH_Close: Weight=0.829<br>CRM_Close: Weight=0.171<br>RDY_Close: Weight=0.000",
          "Return: 53.160%<br>Volatility: 0.179<br>Sharpe Ratio: 2.973<br>CAT_Close: Weight=0.466<br>NKE_Close: Weight=0.000<br>RMD_Close: Weight=0.000<br>REGN_Close: Weight=0.534",
          "Return: 27.155%<br>Volatility: 0.133<br>Sharpe Ratio: 2.049<br>CMCSA_Close: Weight=0.376<br>ORCL_Close: Weight=0.624<br>VZ_Close: Weight=0.000",
          "Return: 32.197%<br>Volatility: 0.233<br>Sharpe Ratio: 1.380<br>T_Close: Weight=0.000<br>CAT_Close: Weight=1.000<br>KR_Close: Weight=0.000",
          "Return: 40.921%<br>Volatility: 0.104<br>Sharpe Ratio: 3.921<br>ABBV_Close: Weight=0.715<br>KR_Close: Weight=0.000<br>DE_Close: Weight=0.285",
          "Return: 11.691%<br>Volatility: 0.198<br>Sharpe Ratio: 0.591<br>PG_Close: Weight=0.000<br>BA_Close: Weight=1.000<br>IBM_Close: Weight=0.000",
          "Return: 29.977%<br>Volatility: 0.112<br>Sharpe Ratio: 2.679<br>GS_Close: Weight=0.000<br>SAP_Close: Weight=0.615<br>LMT_Close: Weight=0.385",
          "Return: 38.109%<br>Volatility: 0.182<br>Sharpe Ratio: 2.098<br>GE_Close: Weight=0.000<br>EW_Close: Weight=0.769<br>T_Close: Weight=0.000<br>LLY_Close: Weight=0.231",
          "Return: 30.790%<br>Volatility: 0.135<br>Sharpe Ratio: 2.281<br>PFE_Close: Weight=0.000<br>GS_Close: Weight=0.000<br>PM_Close: Weight=1.000<br>MRK_Close: Weight=0.000",
          "Return: 37.100%<br>Volatility: 0.147<br>Sharpe Ratio: 2.516<br>SAP_Close: Weight=1.000<br>K_Close: Weight=0.000<br>GS_Close: Weight=0.000<br>GILD_Close: Weight=0.000",
          "Return: 78.123%<br>Volatility: 0.270<br>Sharpe Ratio: 2.892<br>VRTX_Close: Weight=0.459<br>NFLX_Close: Weight=0.260<br>DIS_Close: Weight=0.000<br>CRM_Close: Weight=0.281",
          "Return: 44.173%<br>Volatility: 0.114<br>Sharpe Ratio: 3.867<br>WFC_Close: Weight=0.000<br>NFLX_Close: Weight=0.000<br>MCD_Close: Weight=0.576<br>META_Close: Weight=0.424",
          "Return: 29.011%<br>Volatility: 0.075<br>Sharpe Ratio: 3.860<br>MCD_Close: Weight=0.372<br>RTX_Close: Weight=0.278<br>NEE_Close: Weight=0.233<br>MA_Close: Weight=0.117",
          "Return: 25.505%<br>Volatility: 0.079<br>Sharpe Ratio: 3.241<br>RDY_Close: Weight=0.000<br>EW_Close: Weight=0.164<br>KO_Close: Weight=0.629<br>GOOG_Close: Weight=0.207",
          "Return: 16.637%<br>Volatility: 0.105<br>Sharpe Ratio: 1.584<br>RDY_Close: Weight=0.000<br>DUK_Close: Weight=0.000<br>BIIB_Close: Weight=0.000<br>NEE_Close: Weight=1.000",
          "Return: 17.474%<br>Volatility: 0.093<br>Sharpe Ratio: 1.875<br>PFE_Close: Weight=0.000<br>VZ_Close: Weight=0.000<br>GILD_Close: Weight=0.000<br>RTX_Close: Weight=1.000",
          "Return: 18.608%<br>Volatility: 0.107<br>Sharpe Ratio: 1.746<br>LMT_Close: Weight=1.000<br>F_Close: Weight=0.000<br>DIS_Close: Weight=0.000",
          "Return: 35.382%<br>Volatility: 0.130<br>Sharpe Ratio: 2.726<br>MDT_Close: Weight=0.300<br>BA_Close: Weight=0.000<br>AMZN_Close: Weight=0.700",
          "Return: 18.608%<br>Volatility: 0.107<br>Sharpe Ratio: 1.746<br>ACN_Close: Weight=0.000<br>LMT_Close: Weight=1.000<br>PG_Close: Weight=0.000<br>GS_Close: Weight=0.000",
          "Return: 23.423%<br>Volatility: 0.093<br>Sharpe Ratio: 2.513<br>MMM_Close: Weight=0.478<br>AAPL_Close: Weight=0.249<br>EMR_Close: Weight=0.000<br>ETN_Close: Weight=0.273",
          "Return: 24.671%<br>Volatility: 0.110<br>Sharpe Ratio: 2.234<br>SNAP_Close: Weight=0.000<br>V_Close: Weight=1.000<br>GILD_Close: Weight=0.000",
          "Return: 37.100%<br>Volatility: 0.147<br>Sharpe Ratio: 2.516<br>CVX_Close: Weight=0.000<br>EXC_Close: Weight=0.000<br>SAP_Close: Weight=1.000<br>GIS_Close: Weight=0.000",
          "Return: 21.254%<br>Volatility: 0.099<br>Sharpe Ratio: 2.153<br>ETN_Close: Weight=0.434<br>LMT_Close: Weight=0.566<br>DHR_Close: Weight=0.000<br>MS_Close: Weight=0.000",
          "Return: 45.197%<br>Volatility: 0.103<br>Sharpe Ratio: 4.388<br>WMT_Close: Weight=0.243<br>ABBV_Close: Weight=0.619<br>TSLA_Close: Weight=0.138",
          "Return: 56.546%<br>Volatility: 0.162<br>Sharpe Ratio: 3.494<br>BABA_Close: Weight=0.433<br>IBM_Close: Weight=0.000<br>SAP_Close: Weight=0.567",
          "Return: 35.196%<br>Volatility: 0.165<br>Sharpe Ratio: 2.129<br>KR_Close: Weight=0.000<br>GOOGL_Close: Weight=1.000<br>ACN_Close: Weight=0.000",
          "Return: 42.367%<br>Volatility: 0.158<br>Sharpe Ratio: 2.676<br>KR_Close: Weight=0.000<br>META_Close: Weight=1.000<br>NKE_Close: Weight=0.000",
          "Return: 35.042%<br>Volatility: 0.141<br>Sharpe Ratio: 2.490<br>ABT_Close: Weight=0.000<br>GOOG_Close: Weight=0.578<br>ORCL_Close: Weight=0.422",
          "Return: 119.043%<br>Volatility: 0.343<br>Sharpe Ratio: 3.475<br>NVDA_Close: Weight=0.497<br>VRTX_Close: Weight=0.503<br>INTC_Close: Weight=0.000",
          "Return: 19.679%<br>Volatility: 0.116<br>Sharpe Ratio: 1.703<br>NKE_Close: Weight=0.000<br>INTC_Close: Weight=0.000<br>SYK_Close: Weight=1.000<br>JPM_Close: Weight=0.000",
          "Return: 24.671%<br>Volatility: 0.110<br>Sharpe Ratio: 2.234<br>V_Close: Weight=1.000<br>GM_Close: Weight=0.000<br>JPM_Close: Weight=0.000<br>GE_Close: Weight=0.000",
          "Return: 30.189%<br>Volatility: 0.114<br>Sharpe Ratio: 2.650<br>ZBH_Close: Weight=0.113<br>TMO_Close: Weight=0.177<br>MSFT_Close: Weight=0.710",
          "Return: 34.582%<br>Volatility: 0.137<br>Sharpe Ratio: 2.530<br>MSFT_Close: Weight=1.000<br>AMGN_Close: Weight=0.000<br>GILD_Close: Weight=0.000",
          "Return: 14.957%<br>Volatility: 0.154<br>Sharpe Ratio: 0.971<br>F_Close: Weight=0.000<br>GILD_Close: Weight=0.000<br>CMCSA_Close: Weight=1.000",
          "Return: 30.385%<br>Volatility: 0.119<br>Sharpe Ratio: 2.551<br>ORCL_Close: Weight=0.292<br>MA_Close: Weight=0.708<br>F_Close: Weight=0.000",
          "Return: 34.582%<br>Volatility: 0.137<br>Sharpe Ratio: 2.530<br>CRM_Close: Weight=0.000<br>MSFT_Close: Weight=1.000<br>GIS_Close: Weight=0.000<br>MS_Close: Weight=0.000",
          "Return: 18.608%<br>Volatility: 0.107<br>Sharpe Ratio: 1.746<br>LMT_Close: Weight=1.000<br>XOM_Close: Weight=0.000<br>GM_Close: Weight=0.000<br>SO_Close: Weight=0.000",
          "Return: 23.218%<br>Volatility: 0.081<br>Sharpe Ratio: 2.862<br>MO_Close: Weight=0.000<br>SYK_Close: Weight=0.114<br>JNJ_Close: Weight=0.411<br>V_Close: Weight=0.475",
          "Return: 32.593%<br>Volatility: 0.108<br>Sharpe Ratio: 3.010<br>META_Close: Weight=0.447<br>ETN_Close: Weight=0.260<br>CMCSA_Close: Weight=0.000<br>V_Close: Weight=0.292",
          "Return: 45.382%<br>Volatility: 0.143<br>Sharpe Ratio: 3.163<br>REGN_Close: Weight=0.293<br>SO_Close: Weight=0.000<br>MSFT_Close: Weight=0.707",
          "Return: 68.104%<br>Volatility: 0.214<br>Sharpe Ratio: 3.182<br>CAT_Close: Weight=0.280<br>BABA_Close: Weight=0.720<br>EMR_Close: Weight=0.000<br>BSX_Close: Weight=0.000",
          "Return: 32.009%<br>Volatility: 0.152<br>Sharpe Ratio: 2.109<br>GOOG_Close: Weight=0.877<br>DHR_Close: Weight=0.000<br>LLY_Close: Weight=0.123",
          "Return: 11.816%<br>Volatility: 0.095<br>Sharpe Ratio: 1.239<br>SRE_Close: Weight=0.868<br>DUK_Close: Weight=0.000<br>QCOM_Close: Weight=0.132",
          "Return: -15.220%<br>Volatility: 0.120<br>Sharpe Ratio: -1.266<br>CPB_Close: Weight=0.000<br>GM_Close: Weight=0.000<br>XOM_Close: Weight=1.000",
          "Return: 19.235%<br>Volatility: 0.106<br>Sharpe Ratio: 1.814<br>BSX_Close: Weight=0.404<br>WMT_Close: Weight=0.596<br>EMR_Close: Weight=0.000",
          "Return: 24.671%<br>Volatility: 0.110<br>Sharpe Ratio: 2.234<br>GS_Close: Weight=0.000<br>DHR_Close: Weight=0.000<br>V_Close: Weight=1.000<br>GILD_Close: Weight=0.000",
          "Return: 43.893%<br>Volatility: 0.112<br>Sharpe Ratio: 3.928<br>MCD_Close: Weight=0.496<br>DE_Close: Weight=0.169<br>GILD_Close: Weight=0.000<br>AMZN_Close: Weight=0.335",
          "Return: 50.758%<br>Volatility: 0.160<br>Sharpe Ratio: 3.169<br>CMCSA_Close: Weight=0.000<br>MSFT_Close: Weight=0.737<br>TSLA_Close: Weight=0.263",
          "Return: 28.689%<br>Volatility: 0.124<br>Sharpe Ratio: 2.305<br>MA_Close: Weight=1.000<br>GS_Close: Weight=0.000<br>K_Close: Weight=0.000",
          "Return: 42.468%<br>Volatility: 0.111<br>Sharpe Ratio: 3.814<br>ORCL_Close: Weight=0.125<br>TMO_Close: Weight=0.000<br>EW_Close: Weight=0.190<br>ABBV_Close: Weight=0.685",
          "Return: 22.011%<br>Volatility: 0.092<br>Sharpe Ratio: 2.401<br>MO_Close: Weight=0.000<br>MMM_Close: Weight=0.315<br>BTI_Close: Weight=0.222<br>RTX_Close: Weight=0.463",
          "Return: 25.205%<br>Volatility: 0.095<br>Sharpe Ratio: 2.657<br>DE_Close: Weight=0.426<br>ACN_Close: Weight=0.000<br>NEE_Close: Weight=0.574",
          "Return: 13.214%<br>Volatility: 0.101<br>Sharpe Ratio: 1.306<br>AEP_Close: Weight=1.000<br>SYY_Close: Weight=0.000<br>GIS_Close: Weight=0.000",
          "Return: 47.079%<br>Volatility: 0.112<br>Sharpe Ratio: 4.208<br>WMT_Close: Weight=0.327<br>ADBE_Close: Weight=0.673<br>INTC_Close: Weight=0.000",
          "Return: -6.895%<br>Volatility: 0.155<br>Sharpe Ratio: -0.444<br>SYY_Close: Weight=1.000<br>NKE_Close: Weight=0.000<br>DHR_Close: Weight=0.000",
          "Return: 34.582%<br>Volatility: 0.137<br>Sharpe Ratio: 2.530<br>MSFT_Close: Weight=1.000<br>INTC_Close: Weight=0.000<br>XOM_Close: Weight=0.000",
          "Return: 20.990%<br>Volatility: 0.118<br>Sharpe Ratio: 1.779<br>BTI_Close: Weight=0.414<br>AEP_Close: Weight=0.586<br>WFC_Close: Weight=0.000",
          "Return: 29.482%<br>Volatility: 0.118<br>Sharpe Ratio: 2.496<br>CSCO_Close: Weight=0.000<br>INTC_Close: Weight=0.000<br>DHR_Close: Weight=0.000<br>UNH_Close: Weight=1.000",
          "Return: 12.842%<br>Volatility: 0.107<br>Sharpe Ratio: 1.199<br>XOM_Close: Weight=0.000<br>SRE_Close: Weight=1.000<br>T_Close: Weight=0.000<br>EXC_Close: Weight=0.000",
          "Return: 2.265%<br>Volatility: 0.089<br>Sharpe Ratio: 0.255<br>XOM_Close: Weight=0.000<br>AMGN_Close: Weight=0.000<br>DUK_Close: Weight=1.000",
          "Return: 70.654%<br>Volatility: 0.192<br>Sharpe Ratio: 3.679<br>BABA_Close: Weight=0.465<br>VZ_Close: Weight=0.000<br>ORCL_Close: Weight=0.307<br>TSLA_Close: Weight=0.229",
          "Return: 17.567%<br>Volatility: 0.092<br>Sharpe Ratio: 1.900<br>KR_Close: Weight=0.000<br>CRM_Close: Weight=0.351<br>NEE_Close: Weight=0.649",
          "Return: 36.071%<br>Volatility: 0.104<br>Sharpe Ratio: 3.456<br>ISRG_Close: Weight=0.506<br>DUK_Close: Weight=0.000<br>SRE_Close: Weight=0.379<br>AAPL_Close: Weight=0.115",
          "Return: 16.627%<br>Volatility: 0.089<br>Sharpe Ratio: 1.878<br>RDY_Close: Weight=0.000<br>RTX_Close: Weight=0.937<br>LLY_Close: Weight=0.022<br>DUK_Close: Weight=0.042",
          "Return: 67.522%<br>Volatility: 0.206<br>Sharpe Ratio: 3.276<br>GE_Close: Weight=0.000<br>AMGN_Close: Weight=0.000<br>DE_Close: Weight=0.669<br>VRTX_Close: Weight=0.331",
          "Return: 36.737%<br>Volatility: 0.132<br>Sharpe Ratio: 2.789<br>REGN_Close: Weight=0.304<br>ACN_Close: Weight=0.000<br>BSX_Close: Weight=0.073<br>JNJ_Close: Weight=0.623",
          "Return: 28.246%<br>Volatility: 0.123<br>Sharpe Ratio: 2.304<br>SYK_Close: Weight=0.448<br>GOOGL_Close: Weight=0.552<br>GIS_Close: Weight=0.000<br>MO_Close: Weight=0.000",
          "Return: 19.220%<br>Volatility: 0.092<br>Sharpe Ratio: 2.100<br>MMM_Close: Weight=0.420<br>T_Close: Weight=0.000<br>RTX_Close: Weight=0.580",
          "Return: 30.891%<br>Volatility: 0.115<br>Sharpe Ratio: 2.680<br>MSFT_Close: Weight=0.679<br>MDT_Close: Weight=0.148<br>GS_Close: Weight=0.000<br>BTI_Close: Weight=0.173",
          "Return: 39.676%<br>Volatility: 0.103<br>Sharpe Ratio: 3.849<br>CAT_Close: Weight=0.146<br>EXC_Close: Weight=0.000<br>GOOG_Close: Weight=0.194<br>ABBV_Close: Weight=0.659",
          "Return: 26.291%<br>Volatility: 0.089<br>Sharpe Ratio: 2.939<br>COST_Close: Weight=0.000<br>NEE_Close: Weight=0.450<br>GOOGL_Close: Weight=0.366<br>CAT_Close: Weight=0.184",
          "Return: 12.664%<br>Volatility: 0.114<br>Sharpe Ratio: 1.110<br>MDT_Close: Weight=1.000<br>COST_Close: Weight=0.000<br>CPB_Close: Weight=0.000",
          "Return: 96.040%<br>Volatility: 0.381<br>Sharpe Ratio: 2.522<br>NKE_Close: Weight=0.000<br>SNAP_Close: Weight=0.000<br>SYY_Close: Weight=0.000<br>TSLA_Close: Weight=1.000",
          "Return: 21.617%<br>Volatility: 0.097<br>Sharpe Ratio: 2.235<br>JNJ_Close: Weight=0.720<br>MRK_Close: Weight=0.000<br>EXC_Close: Weight=0.000<br>CRM_Close: Weight=0.280",
          "Return: 24.706%<br>Volatility: 0.141<br>Sharpe Ratio: 1.755<br>ETN_Close: Weight=1.000<br>CSCO_Close: Weight=0.000<br>QCOM_Close: Weight=0.000",
          "Return: 41.120%<br>Volatility: 0.110<br>Sharpe Ratio: 3.730<br>GOOGL_Close: Weight=0.330<br>BTI_Close: Weight=0.072<br>MCD_Close: Weight=0.597<br>KR_Close: Weight=0.000",
          "Return: 32.001%<br>Volatility: 0.204<br>Sharpe Ratio: 1.565<br>AMGN_Close: Weight=0.000<br>XOM_Close: Weight=0.000<br>BTI_Close: Weight=1.000",
          "Return: 13.570%<br>Volatility: 0.134<br>Sharpe Ratio: 1.015<br>WFC_Close: Weight=0.000<br>BSX_Close: Weight=1.000<br>GM_Close: Weight=0.000",
          "Return: 2.265%<br>Volatility: 0.089<br>Sharpe Ratio: 0.255<br>DUK_Close: Weight=1.000<br>GIS_Close: Weight=0.000<br>GILD_Close: Weight=0.000",
          "Return: 32.942%<br>Volatility: 0.154<br>Sharpe Ratio: 2.142<br>GOOG_Close: Weight=0.750<br>AAPL_Close: Weight=0.250<br>BSX_Close: Weight=0.000<br>UA_Close: Weight=0.000",
          "Return: 37.405%<br>Volatility: 0.131<br>Sharpe Ratio: 2.863<br>ETN_Close: Weight=0.378<br>INTC_Close: Weight=0.000<br>K_Close: Weight=0.000<br>AMZN_Close: Weight=0.622",
          "Return: 27.927%<br>Volatility: 0.100<br>Sharpe Ratio: 2.803<br>ETN_Close: Weight=0.177<br>LMT_Close: Weight=0.307<br>MSFT_Close: Weight=0.516<br>AMD_Close: Weight=0.000",
          "Return: 55.886%<br>Volatility: 0.156<br>Sharpe Ratio: 3.588<br>VRTX_Close: Weight=0.154<br>REGN_Close: Weight=0.241<br>PM_Close: Weight=0.604<br>CSCO_Close: Weight=0.000",
          "Return: 47.299%<br>Volatility: 0.230<br>Sharpe Ratio: 2.055<br>GM_Close: Weight=0.000<br>BIIB_Close: Weight=0.000<br>EW_Close: Weight=1.000",
          "Return: 36.750%<br>Volatility: 0.179<br>Sharpe Ratio: 2.053<br>KR_Close: Weight=0.000<br>QCOM_Close: Weight=0.000<br>DE_Close: Weight=1.000",
          "Return: 49.663%<br>Volatility: 0.119<br>Sharpe Ratio: 4.168<br>EXC_Close: Weight=0.000<br>ISRG_Close: Weight=0.388<br>MCD_Close: Weight=0.538<br>EW_Close: Weight=0.074",
          "Return: 26.625%<br>Volatility: 0.104<br>Sharpe Ratio: 2.560<br>JNJ_Close: Weight=0.657<br>ORCL_Close: Weight=0.343<br>VZ_Close: Weight=0.000",
          "Return: 19.290%<br>Volatility: 0.148<br>Sharpe Ratio: 1.306<br>CRM_Close: Weight=1.000<br>GIS_Close: Weight=0.000<br>WFC_Close: Weight=0.000<br>COST_Close: Weight=0.000",
          "Return: 15.578%<br>Volatility: 0.082<br>Sharpe Ratio: 1.892<br>PEP_Close: Weight=0.800<br>MO_Close: Weight=0.000<br>AEP_Close: Weight=0.200",
          "Return: 45.113%<br>Volatility: 0.171<br>Sharpe Ratio: 2.632<br>CSCO_Close: Weight=0.000<br>AMZN_Close: Weight=1.000<br>BA_Close: Weight=0.000",
          "Return: 31.197%<br>Volatility: 0.118<br>Sharpe Ratio: 2.644<br>SYK_Close: Weight=0.339<br>DUK_Close: Weight=0.000<br>SAP_Close: Weight=0.661",
          "Return: 23.762%<br>Volatility: 0.095<br>Sharpe Ratio: 2.503<br>ACN_Close: Weight=0.000<br>MA_Close: Weight=0.561<br>RTX_Close: Weight=0.439",
          "Return: 17.123%<br>Volatility: 0.083<br>Sharpe Ratio: 2.073<br>TXN_Close: Weight=0.209<br>PEP_Close: Weight=0.791<br>NKE_Close: Weight=0.000",
          "Return: 30.271%<br>Volatility: 0.121<br>Sharpe Ratio: 2.505<br>SYY_Close: Weight=0.000<br>HON_Close: Weight=0.000<br>ETN_Close: Weight=0.482<br>GOOG_Close: Weight=0.518",
          "Return: -8.425%<br>Volatility: 0.144<br>Sharpe Ratio: -0.584<br>SO_Close: Weight=0.000<br>WFC_Close: Weight=0.000<br>INTC_Close: Weight=1.000",
          "Return: -9.445%<br>Volatility: 0.200<br>Sharpe Ratio: -0.472<br>ACN_Close: Weight=0.000<br>GM_Close: Weight=0.000<br>MO_Close: Weight=1.000",
          "Return: 33.248%<br>Volatility: 0.092<br>Sharpe Ratio: 3.630<br>BA_Close: Weight=0.024<br>ABBV_Close: Weight=0.650<br>HON_Close: Weight=0.057<br>NEE_Close: Weight=0.270",
          "Return: 43.964%<br>Volatility: 0.141<br>Sharpe Ratio: 3.110<br>IBM_Close: Weight=0.000<br>MMM_Close: Weight=0.700<br>TSLA_Close: Weight=0.300",
          "Return: 42.094%<br>Volatility: 0.126<br>Sharpe Ratio: 3.352<br>MMM_Close: Weight=0.402<br>ISRG_Close: Weight=0.598<br>LLY_Close: Weight=0.000<br>ABT_Close: Weight=0.000",
          "Return: 25.509%<br>Volatility: 0.088<br>Sharpe Ratio: 2.897<br>AEP_Close: Weight=0.425<br>MSFT_Close: Weight=0.575<br>CSCO_Close: Weight=0.000<br>DHR_Close: Weight=0.000",
          "Return: 26.204%<br>Volatility: 0.147<br>Sharpe Ratio: 1.779<br>TXN_Close: Weight=0.362<br>BTI_Close: Weight=0.553<br>WFC_Close: Weight=0.000<br>BA_Close: Weight=0.085",
          "Return: 55.877%<br>Volatility: 0.180<br>Sharpe Ratio: 3.112<br>UA_Close: Weight=0.000<br>GIS_Close: Weight=0.000<br>ISRG_Close: Weight=1.000",
          "Return: 77.980%<br>Volatility: 0.221<br>Sharpe Ratio: 3.523<br>REGN_Close: Weight=0.383<br>CRM_Close: Weight=0.000<br>BABA_Close: Weight=0.617",
          "Return: 73.572%<br>Volatility: 0.206<br>Sharpe Ratio: 3.574<br>HD_Close: Weight=0.330<br>VRTX_Close: Weight=0.281<br>CMCSA_Close: Weight=0.050<br>TSLA_Close: Weight=0.340",
          "Return: 24.606%<br>Volatility: 0.101<br>Sharpe Ratio: 2.436<br>HON_Close: Weight=0.374<br>PM_Close: Weight=0.626<br>IBM_Close: Weight=0.000",
          "Return: 18.608%<br>Volatility: 0.107<br>Sharpe Ratio: 1.746<br>IBM_Close: Weight=0.000<br>INTC_Close: Weight=0.000<br>LMT_Close: Weight=1.000",
          "Return: 38.656%<br>Volatility: 0.108<br>Sharpe Ratio: 3.589<br>DUK_Close: Weight=0.000<br>MA_Close: Weight=0.283<br>ABBV_Close: Weight=0.717",
          "Return: -33.044%<br>Volatility: 0.335<br>Sharpe Ratio: -0.987<br>WFC_Close: Weight=0.000<br>IBM_Close: Weight=0.000<br>INTC_Close: Weight=0.000<br>UA_Close: Weight=1.000",
          "Return: 42.583%<br>Volatility: 0.124<br>Sharpe Ratio: 3.422<br>CVX_Close: Weight=0.000<br>MO_Close: Weight=0.000<br>RMD_Close: Weight=0.000<br>ABBV_Close: Weight=1.000",
          "Return: 15.514%<br>Volatility: 0.082<br>Sharpe Ratio: 1.902<br>PEP_Close: Weight=0.804<br>SNAP_Close: Weight=0.000<br>SRE_Close: Weight=0.196",
          "Return: -0.556%<br>Volatility: 0.133<br>Sharpe Ratio: -0.042<br>COST_Close: Weight=0.000<br>IBM_Close: Weight=0.000<br>ABT_Close: Weight=1.000",
          "Return: 36.750%<br>Volatility: 0.179<br>Sharpe Ratio: 2.053<br>DE_Close: Weight=1.000<br>SYY_Close: Weight=0.000<br>ABT_Close: Weight=0.000",
          "Return: 17.208%<br>Volatility: 0.116<br>Sharpe Ratio: 1.480<br>CMCSA_Close: Weight=0.364<br>TMO_Close: Weight=0.636<br>XOM_Close: Weight=0.000",
          "Return: 13.214%<br>Volatility: 0.101<br>Sharpe Ratio: 1.306<br>XOM_Close: Weight=0.000<br>AEP_Close: Weight=1.000<br>SYY_Close: Weight=0.000",
          "Return: 19.679%<br>Volatility: 0.116<br>Sharpe Ratio: 1.703<br>SYK_Close: Weight=1.000<br>EMR_Close: Weight=0.000<br>ACN_Close: Weight=0.000",
          "Return: 35.359%<br>Volatility: 0.102<br>Sharpe Ratio: 3.474<br>BTI_Close: Weight=0.114<br>LLY_Close: Weight=0.227<br>GM_Close: Weight=0.000<br>MCD_Close: Weight=0.659",
          "Return: -9.445%<br>Volatility: 0.200<br>Sharpe Ratio: -0.472<br>MO_Close: Weight=1.000<br>SYY_Close: Weight=0.000<br>EXC_Close: Weight=0.000",
          "Return: 27.457%<br>Volatility: 0.108<br>Sharpe Ratio: 2.542<br>PFE_Close: Weight=0.000<br>BAC_Close: Weight=0.000<br>SYK_Close: Weight=0.207<br>UNH_Close: Weight=0.793",
          "Return: 13.683%<br>Volatility: 0.084<br>Sharpe Ratio: 1.626<br>MS_Close: Weight=0.000<br>HON_Close: Weight=0.649<br>MDT_Close: Weight=0.351<br>VZ_Close: Weight=0.000",
          "Return: 30.790%<br>Volatility: 0.135<br>Sharpe Ratio: 2.281<br>GIS_Close: Weight=0.000<br>SNAP_Close: Weight=0.000<br>PM_Close: Weight=1.000<br>AMGN_Close: Weight=0.000",
          "Return: 41.791%<br>Volatility: 0.113<br>Sharpe Ratio: 3.699<br>SNAP_Close: Weight=0.000<br>MCD_Close: Weight=0.640<br>GOOGL_Close: Weight=0.360",
          "Return: 22.456%<br>Volatility: 0.098<br>Sharpe Ratio: 2.294<br>HD_Close: Weight=0.167<br>V_Close: Weight=0.833<br>BA_Close: Weight=0.000<br>CPB_Close: Weight=0.000",
          "Return: 68.106%<br>Volatility: 0.214<br>Sharpe Ratio: 3.182<br>CAT_Close: Weight=0.280<br>UA_Close: Weight=0.000<br>BABA_Close: Weight=0.720",
          "Return: 21.520%<br>Volatility: 0.119<br>Sharpe Ratio: 1.812<br>DHR_Close: Weight=0.000<br>ETN_Close: Weight=0.814<br>LLY_Close: Weight=0.186",
          "Return: -18.067%<br>Volatility: 0.162<br>Sharpe Ratio: -1.119<br>JPM_Close: Weight=1.000<br>GIS_Close: Weight=0.000<br>SO_Close: Weight=0.000",
          "Return: 14.957%<br>Volatility: 0.154<br>Sharpe Ratio: 0.971<br>SYY_Close: Weight=0.000<br>GS_Close: Weight=0.000<br>CMCSA_Close: Weight=1.000",
          "Return: 24.706%<br>Volatility: 0.141<br>Sharpe Ratio: 1.755<br>ABT_Close: Weight=0.000<br>ETN_Close: Weight=1.000<br>JPM_Close: Weight=0.000<br>GS_Close: Weight=0.000",
          "Return: 20.992%<br>Volatility: 0.118<br>Sharpe Ratio: 1.779<br>SYY_Close: Weight=0.000<br>AEP_Close: Weight=0.586<br>BTI_Close: Weight=0.414<br>KR_Close: Weight=0.000",
          "Return: 43.383%<br>Volatility: 0.155<br>Sharpe Ratio: 2.795<br>SYK_Close: Weight=0.444<br>NVDA_Close: Weight=0.272<br>PG_Close: Weight=0.000<br>TMO_Close: Weight=0.284",
          "Return: 17.361%<br>Volatility: 0.095<br>Sharpe Ratio: 1.824<br>VZ_Close: Weight=0.000<br>SYK_Close: Weight=0.661<br>SRE_Close: Weight=0.339",
          "Return: 5.055%<br>Volatility: 0.182<br>Sharpe Ratio: 0.278<br>GIS_Close: Weight=0.000<br>QCOM_Close: Weight=1.000<br>EXC_Close: Weight=0.000",
          "Return: 47.798%<br>Volatility: 0.150<br>Sharpe Ratio: 3.185<br>REGN_Close: Weight=0.312<br>ABT_Close: Weight=0.000<br>SAP_Close: Weight=0.688",
          "Return: 28.095%<br>Volatility: 0.127<br>Sharpe Ratio: 2.210<br>HD_Close: Weight=0.305<br>GS_Close: Weight=0.000<br>GOOG_Close: Weight=0.695<br>VZ_Close: Weight=0.000",
          "Return: 108.207%<br>Volatility: 0.443<br>Sharpe Ratio: 2.442<br>GM_Close: Weight=0.000<br>VZ_Close: Weight=0.000<br>NVDA_Close: Weight=1.000",
          "Return: 22.520%<br>Volatility: 0.111<br>Sharpe Ratio: 2.029<br>GS_Close: Weight=0.000<br>JNJ_Close: Weight=1.000<br>KR_Close: Weight=0.000",
          "Return: 50.740%<br>Volatility: 0.192<br>Sharpe Ratio: 2.639<br>GOOGL_Close: Weight=0.571<br>REGN_Close: Weight=0.429<br>GILD_Close: Weight=0.000",
          "Return: 11.373%<br>Volatility: 0.134<br>Sharpe Ratio: 0.846<br>HD_Close: Weight=1.000<br>ACN_Close: Weight=0.000<br>MS_Close: Weight=0.000",
          "Return: 97.110%<br>Volatility: 0.316<br>Sharpe Ratio: 3.076<br>RDY_Close: Weight=0.000<br>MRK_Close: Weight=0.000<br>REGN_Close: Weight=0.560<br>VRTX_Close: Weight=0.440",
          "Return: 12.664%<br>Volatility: 0.114<br>Sharpe Ratio: 1.110<br>MDT_Close: Weight=1.000<br>BMY_Close: Weight=0.000<br>AMGN_Close: Weight=0.000",
          "Return: -30.961%<br>Volatility: 0.176<br>Sharpe Ratio: -1.756<br>WFC_Close: Weight=1.000<br>GS_Close: Weight=0.000<br>T_Close: Weight=0.000",
          "Return: 5.055%<br>Volatility: 0.182<br>Sharpe Ratio: 0.278<br>K_Close: Weight=0.000<br>KR_Close: Weight=0.000<br>QCOM_Close: Weight=1.000",
          "Return: 45.959%<br>Volatility: 0.139<br>Sharpe Ratio: 3.299<br>NVDA_Close: Weight=0.204<br>CAT_Close: Weight=0.012<br>DE_Close: Weight=0.397<br>WMT_Close: Weight=0.387",
          "Return: 28.207%<br>Volatility: 0.121<br>Sharpe Ratio: 2.339<br>MA_Close: Weight=0.851<br>ACN_Close: Weight=0.000<br>AAPL_Close: Weight=0.149",
          "Return: 50.388%<br>Volatility: 0.146<br>Sharpe Ratio: 3.442<br>MS_Close: Weight=0.000<br>T_Close: Weight=0.000<br>PYPL_Close: Weight=0.561<br>DE_Close: Weight=0.439",
          "Return: 35.438%<br>Volatility: 0.169<br>Sharpe Ratio: 2.092<br>GM_Close: Weight=0.000<br>GOOG_Close: Weight=1.000<br>AMGN_Close: Weight=0.000<br>GS_Close: Weight=0.000",
          "Return: 20.351%<br>Volatility: 0.093<br>Sharpe Ratio: 2.187<br>DHR_Close: Weight=0.000<br>LMT_Close: Weight=0.612<br>MDT_Close: Weight=0.181<br>CAT_Close: Weight=0.207",
          "Return: 32.752%<br>Volatility: 0.113<br>Sharpe Ratio: 2.887<br>REGN_Close: Weight=0.337<br>AEP_Close: Weight=0.614<br>BA_Close: Weight=0.049",
          "Return: 26.041%<br>Volatility: 0.131<br>Sharpe Ratio: 1.988<br>SNAP_Close: Weight=0.000<br>ORCL_Close: Weight=0.634<br>HD_Close: Weight=0.366",
          "Return: 42.583%<br>Volatility: 0.124<br>Sharpe Ratio: 3.422<br>XOM_Close: Weight=0.000<br>GIS_Close: Weight=0.000<br>ABBV_Close: Weight=1.000<br>NKE_Close: Weight=0.000",
          "Return: 58.981%<br>Volatility: 0.229<br>Sharpe Ratio: 2.573<br>ZBH_Close: Weight=0.356<br>NVDA_Close: Weight=0.456<br>BA_Close: Weight=0.188<br>AMGN_Close: Weight=0.000",
          "Return: 28.413%<br>Volatility: 0.104<br>Sharpe Ratio: 2.731<br>RMD_Close: Weight=0.000<br>MSFT_Close: Weight=0.614<br>LMT_Close: Weight=0.386",
          "Return: 18.499%<br>Volatility: 0.142<br>Sharpe Ratio: 1.306<br>SNAP_Close: Weight=0.000<br>TMO_Close: Weight=1.000<br>UA_Close: Weight=0.000",
          "Return: 15.326%<br>Volatility: 0.076<br>Sharpe Ratio: 2.019<br>CMCSA_Close: Weight=0.186<br>LLY_Close: Weight=0.071<br>PEP_Close: Weight=0.742<br>COST_Close: Weight=0.000",
          "Return: 35.117%<br>Volatility: 0.076<br>Sharpe Ratio: 4.623<br>MCD_Close: Weight=0.281<br>KO_Close: Weight=0.454<br>XOM_Close: Weight=0.000<br>ISRG_Close: Weight=0.265",
          "Return: 39.617%<br>Volatility: 0.146<br>Sharpe Ratio: 2.705<br>REGN_Close: Weight=0.385<br>SNAP_Close: Weight=0.000<br>F_Close: Weight=0.000<br>SYK_Close: Weight=0.615",
          "Return: 19.679%<br>Volatility: 0.116<br>Sharpe Ratio: 1.703<br>XOM_Close: Weight=0.000<br>SYK_Close: Weight=1.000<br>AMGN_Close: Weight=0.000<br>BAC_Close: Weight=0.000",
          "Return: 18.608%<br>Volatility: 0.107<br>Sharpe Ratio: 1.746<br>WFC_Close: Weight=0.000<br>LMT_Close: Weight=1.000<br>MO_Close: Weight=0.000",
          "Return: 36.181%<br>Volatility: 0.137<br>Sharpe Ratio: 2.648<br>SAP_Close: Weight=0.813<br>BIIB_Close: Weight=0.000<br>CAT_Close: Weight=0.187<br>INTC_Close: Weight=0.000",
          "Return: 22.994%<br>Volatility: 0.089<br>Sharpe Ratio: 2.590<br>JPM_Close: Weight=0.000<br>SYK_Close: Weight=0.205<br>GOOGL_Close: Weight=0.385<br>AEP_Close: Weight=0.411",
          "Return: 13.024%<br>Volatility: 0.097<br>Sharpe Ratio: 1.349<br>AEP_Close: Weight=0.875<br>DHR_Close: Weight=0.000<br>BA_Close: Weight=0.125",
          "Return: 38.462%<br>Volatility: 0.105<br>Sharpe Ratio: 3.668<br>ISRG_Close: Weight=0.369<br>MSFT_Close: Weight=0.301<br>JNJ_Close: Weight=0.330",
          "Return: 53.896%<br>Volatility: 0.223<br>Sharpe Ratio: 2.416<br>UA_Close: Weight=0.000<br>BSX_Close: Weight=0.303<br>REGN_Close: Weight=0.697",
          "Return: 2.265%<br>Volatility: 0.089<br>Sharpe Ratio: 0.255<br>UA_Close: Weight=0.000<br>DUK_Close: Weight=1.000<br>JPM_Close: Weight=0.000",
          "Return: 24.224%<br>Volatility: 0.116<br>Sharpe Ratio: 2.091<br>PFE_Close: Weight=0.000<br>AAPL_Close: Weight=0.480<br>WMT_Close: Weight=0.520",
          "Return: 34.582%<br>Volatility: 0.137<br>Sharpe Ratio: 2.530<br>MSFT_Close: Weight=1.000<br>BSX_Close: Weight=0.000<br>GILD_Close: Weight=0.000<br>BMY_Close: Weight=0.000",
          "Return: 19.548%<br>Volatility: 0.109<br>Sharpe Ratio: 1.794<br>MDT_Close: Weight=0.462<br>AAPL_Close: Weight=0.538<br>PFE_Close: Weight=0.000",
          "Return: 38.457%<br>Volatility: 0.112<br>Sharpe Ratio: 3.448<br>HON_Close: Weight=0.146<br>ABBV_Close: Weight=0.854<br>AMD_Close: Weight=0.000<br>SO_Close: Weight=0.000",
          "Return: 24.671%<br>Volatility: 0.110<br>Sharpe Ratio: 2.234<br>CSCO_Close: Weight=0.000<br>V_Close: Weight=1.000<br>QCOM_Close: Weight=0.000<br>KR_Close: Weight=0.000",
          "Return: 45.502%<br>Volatility: 0.145<br>Sharpe Ratio: 3.146<br>AMD_Close: Weight=0.000<br>MCD_Close: Weight=1.000<br>QCOM_Close: Weight=0.000<br>GIS_Close: Weight=0.000",
          "Return: 58.826%<br>Volatility: 0.182<br>Sharpe Ratio: 3.231<br>ABT_Close: Weight=0.000<br>ETN_Close: Weight=0.290<br>BABA_Close: Weight=0.578<br>CAT_Close: Weight=0.132",
          "Return: 23.213%<br>Volatility: 0.087<br>Sharpe Ratio: 2.671<br>WMT_Close: Weight=0.297<br>NFLX_Close: Weight=0.145<br>PEP_Close: Weight=0.558<br>ABT_Close: Weight=0.000",
          "Return: 45.273%<br>Volatility: 0.140<br>Sharpe Ratio: 3.236<br>PYPL_Close: Weight=0.585<br>TXN_Close: Weight=0.000<br>WMT_Close: Weight=0.415<br>CMCSA_Close: Weight=0.000",
          "Return: 29.442%<br>Volatility: 0.094<br>Sharpe Ratio: 3.120<br>LLY_Close: Weight=0.000<br>REGN_Close: Weight=0.190<br>JNJ_Close: Weight=0.343<br>RTX_Close: Weight=0.467",
          "Return: 46.925%<br>Volatility: 0.156<br>Sharpe Ratio: 3.005<br>PFE_Close: Weight=0.000<br>AEP_Close: Weight=0.711<br>VRTX_Close: Weight=0.289",
          "Return: 58.089%<br>Volatility: 0.201<br>Sharpe Ratio: 2.886<br>TSLA_Close: Weight=0.376<br>T_Close: Weight=0.000<br>GOOGL_Close: Weight=0.624",
          "Return: 39.833%<br>Volatility: 0.105<br>Sharpe Ratio: 3.783<br>ABBV_Close: Weight=0.656<br>HON_Close: Weight=0.000<br>CMCSA_Close: Weight=0.039<br>SAP_Close: Weight=0.305",
          "Return: 28.882%<br>Volatility: 0.118<br>Sharpe Ratio: 2.455<br>AAPL_Close: Weight=0.114<br>CAT_Close: Weight=0.160<br>MA_Close: Weight=0.726<br>GIS_Close: Weight=0.000",
          "Return: 34.798%<br>Volatility: 0.079<br>Sharpe Ratio: 4.421<br>CAT_Close: Weight=0.072<br>ADBE_Close: Weight=0.421<br>LLY_Close: Weight=0.071<br>KO_Close: Weight=0.436",
          "Return: 5.055%<br>Volatility: 0.182<br>Sharpe Ratio: 0.278<br>GS_Close: Weight=0.000<br>F_Close: Weight=0.000<br>EXC_Close: Weight=0.000<br>QCOM_Close: Weight=1.000",
          "Return: 72.028%<br>Volatility: 0.249<br>Sharpe Ratio: 2.889<br>UA_Close: Weight=0.000<br>EW_Close: Weight=0.594<br>NVDA_Close: Weight=0.406",
          "Return: 19.679%<br>Volatility: 0.116<br>Sharpe Ratio: 1.703<br>SYK_Close: Weight=1.000<br>EXC_Close: Weight=0.000<br>QCOM_Close: Weight=0.000<br>INTC_Close: Weight=0.000",
          "Return: 37.100%<br>Volatility: 0.147<br>Sharpe Ratio: 2.516<br>EMR_Close: Weight=0.000<br>SAP_Close: Weight=1.000<br>ACN_Close: Weight=0.000<br>XOM_Close: Weight=0.000",
          "Return: 22.520%<br>Volatility: 0.111<br>Sharpe Ratio: 2.029<br>JPM_Close: Weight=0.000<br>CSCO_Close: Weight=0.000<br>JNJ_Close: Weight=1.000",
          "Return: 24.671%<br>Volatility: 0.110<br>Sharpe Ratio: 2.234<br>INTC_Close: Weight=0.000<br>BA_Close: Weight=0.000<br>V_Close: Weight=1.000",
          "Return: 42.430%<br>Volatility: 0.157<br>Sharpe Ratio: 2.698<br>AMZN_Close: Weight=0.729<br>GOOGL_Close: Weight=0.271<br>SO_Close: Weight=0.000",
          "Return: 62.185%<br>Volatility: 0.193<br>Sharpe Ratio: 3.223<br>GOOGL_Close: Weight=0.424<br>BABA_Close: Weight=0.576<br>XOM_Close: Weight=0.000",
          "Return: 36.514%<br>Volatility: 0.133<br>Sharpe Ratio: 2.754<br>AMGN_Close: Weight=0.000<br>GOOG_Close: Weight=0.352<br>SAP_Close: Weight=0.648<br>MO_Close: Weight=0.000",
          "Return: 34.640%<br>Volatility: 0.104<br>Sharpe Ratio: 3.332<br>MCD_Close: Weight=0.666<br>CAT_Close: Weight=0.000<br>SRE_Close: Weight=0.305<br>CMCSA_Close: Weight=0.030",
          "Return: 19.051%<br>Volatility: 0.102<br>Sharpe Ratio: 1.862<br>SO_Close: Weight=0.000<br>TXN_Close: Weight=0.208<br>LMT_Close: Weight=0.792",
          "Return: 18.499%<br>Volatility: 0.142<br>Sharpe Ratio: 1.306<br>TMO_Close: Weight=1.000<br>MS_Close: Weight=0.000<br>BIIB_Close: Weight=0.000",
          "Return: 49.273%<br>Volatility: 0.126<br>Sharpe Ratio: 3.896<br>ADBE_Close: Weight=0.672<br>AMZN_Close: Weight=0.116<br>MMM_Close: Weight=0.212",
          "Return: 26.091%<br>Volatility: 0.109<br>Sharpe Ratio: 2.385<br>EW_Close: Weight=0.316<br>LLY_Close: Weight=0.053<br>RTX_Close: Weight=0.584<br>BA_Close: Weight=0.047",
          "Return: 129.746%<br>Volatility: 0.486<br>Sharpe Ratio: 2.668<br>VRTX_Close: Weight=1.000<br>MS_Close: Weight=0.000<br>SYY_Close: Weight=0.000",
          "Return: 19.995%<br>Volatility: 0.067<br>Sharpe Ratio: 3.001<br>PEP_Close: Weight=0.419<br>CMCSA_Close: Weight=0.056<br>RTX_Close: Weight=0.336<br>ORCL_Close: Weight=0.189",
          "Return: 39.928%<br>Volatility: 0.102<br>Sharpe Ratio: 3.933<br>DE_Close: Weight=0.247<br>ABBV_Close: Weight=0.685<br>ETN_Close: Weight=0.068",
          "Return: 21.909%<br>Volatility: 0.108<br>Sharpe Ratio: 2.032<br>JNJ_Close: Weight=0.965<br>IBM_Close: Weight=0.000<br>GE_Close: Weight=0.000<br>QCOM_Close: Weight=0.035",
          "Return: 22.118%<br>Volatility: 0.100<br>Sharpe Ratio: 2.216<br>AMD_Close: Weight=0.000<br>JNJ_Close: Weight=0.774<br>EMR_Close: Weight=0.000<br>TXN_Close: Weight=0.226",
          "Return: 40.992%<br>Volatility: 0.119<br>Sharpe Ratio: 3.441<br>UA_Close: Weight=0.000<br>K_Close: Weight=0.000<br>ISRG_Close: Weight=0.523<br>V_Close: Weight=0.477",
          "Return: 49.872%<br>Volatility: 0.194<br>Sharpe Ratio: 2.566<br>AAPL_Close: Weight=0.469<br>REGN_Close: Weight=0.531<br>INTC_Close: Weight=0.000",
          "Return: 48.958%<br>Volatility: 0.144<br>Sharpe Ratio: 3.389<br>SNAP_Close: Weight=0.000<br>MMM_Close: Weight=0.548<br>BABA_Close: Weight=0.452",
          "Return: 28.777%<br>Volatility: 0.085<br>Sharpe Ratio: 3.388<br>XOM_Close: Weight=0.000<br>EW_Close: Weight=0.223<br>PEP_Close: Weight=0.501<br>DE_Close: Weight=0.276",
          "Return: 41.025%<br>Volatility: 0.117<br>Sharpe Ratio: 3.507<br>MSFT_Close: Weight=0.492<br>WMT_Close: Weight=0.339<br>TSLA_Close: Weight=0.168",
          "Return: 13.570%<br>Volatility: 0.134<br>Sharpe Ratio: 1.015<br>WFC_Close: Weight=0.000<br>BSX_Close: Weight=1.000<br>COST_Close: Weight=0.000",
          "Return: 60.523%<br>Volatility: 0.223<br>Sharpe Ratio: 2.713<br>GOOGL_Close: Weight=0.653<br>GM_Close: Weight=0.000<br>NVDA_Close: Weight=0.347",
          "Return: 37.100%<br>Volatility: 0.147<br>Sharpe Ratio: 2.516<br>UA_Close: Weight=0.000<br>RDY_Close: Weight=0.000<br>GE_Close: Weight=0.000<br>SAP_Close: Weight=1.000",
          "Return: 28.558%<br>Volatility: 0.103<br>Sharpe Ratio: 2.771<br>KR_Close: Weight=0.000<br>SAP_Close: Weight=0.583<br>BIIB_Close: Weight=0.000<br>NEE_Close: Weight=0.417",
          "Return: 31.383%<br>Volatility: 0.125<br>Sharpe Ratio: 2.504<br>EW_Close: Weight=0.380<br>MMM_Close: Weight=0.620<br>NKE_Close: Weight=0.000",
          "Return: 23.423%<br>Volatility: 0.093<br>Sharpe Ratio: 2.513<br>AAPL_Close: Weight=0.249<br>BMY_Close: Weight=0.000<br>MMM_Close: Weight=0.478<br>ETN_Close: Weight=0.274",
          "Return: 58.725%<br>Volatility: 0.155<br>Sharpe Ratio: 3.798<br>SNAP_Close: Weight=0.000<br>ADBE_Close: Weight=1.000<br>BIIB_Close: Weight=0.000<br>CPB_Close: Weight=0.000",
          "Return: 17.048%<br>Volatility: 0.074<br>Sharpe Ratio: 2.290<br>ZBH_Close: Weight=0.133<br>TXN_Close: Weight=0.103<br>RTX_Close: Weight=0.501<br>SRE_Close: Weight=0.264",
          "Return: 42.367%<br>Volatility: 0.158<br>Sharpe Ratio: 2.676<br>VZ_Close: Weight=0.000<br>GM_Close: Weight=0.000<br>META_Close: Weight=1.000",
          "Return: 19.528%<br>Volatility: 0.090<br>Sharpe Ratio: 2.167<br>CMCSA_Close: Weight=0.088<br>NEE_Close: Weight=0.567<br>AAPL_Close: Weight=0.344",
          "Return: 51.616%<br>Volatility: 0.176<br>Sharpe Ratio: 2.939<br>HD_Close: Weight=0.190<br>XOM_Close: Weight=0.000<br>PYPL_Close: Weight=0.810",
          "Return: 30.136%<br>Volatility: 0.127<br>Sharpe Ratio: 2.373<br>MA_Close: Weight=0.814<br>AAPL_Close: Weight=0.105<br>NFLX_Close: Weight=0.081",
          "Return: 26.454%<br>Volatility: 0.161<br>Sharpe Ratio: 1.642<br>CAT_Close: Weight=0.490<br>ZBH_Close: Weight=0.510<br>KR_Close: Weight=0.000",
          "Return: 57.343%<br>Volatility: 0.153<br>Sharpe Ratio: 3.738<br>WFC_Close: Weight=0.000<br>MCD_Close: Weight=0.811<br>KR_Close: Weight=0.000<br>NVDA_Close: Weight=0.189",
          "Return: -27.547%<br>Volatility: 0.259<br>Sharpe Ratio: -1.064<br>NKE_Close: Weight=1.000<br>EXC_Close: Weight=0.000<br>GILD_Close: Weight=0.000",
          "Return: 45.982%<br>Volatility: 0.129<br>Sharpe Ratio: 3.574<br>GM_Close: Weight=0.000<br>MCD_Close: Weight=0.733<br>EW_Close: Weight=0.267",
          "Return: 96.040%<br>Volatility: 0.381<br>Sharpe Ratio: 2.522<br>JPM_Close: Weight=0.000<br>IBM_Close: Weight=0.000<br>TSLA_Close: Weight=1.000",
          "Return: 36.750%<br>Volatility: 0.179<br>Sharpe Ratio: 2.053<br>IBM_Close: Weight=0.000<br>DE_Close: Weight=1.000<br>PG_Close: Weight=0.000",
          "Return: 34.582%<br>Volatility: 0.137<br>Sharpe Ratio: 2.530<br>DIS_Close: Weight=0.000<br>VZ_Close: Weight=0.000<br>MSFT_Close: Weight=1.000",
          "Return: -58.090%<br>Volatility: 0.694<br>Sharpe Ratio: -0.837<br>UA_Close: Weight=0.000<br>RDY_Close: Weight=0.000<br>KR_Close: Weight=0.000<br>AMD_Close: Weight=1.000",
          "Return: 19.887%<br>Volatility: 0.123<br>Sharpe Ratio: 1.620<br>WMT_Close: Weight=0.794<br>BAC_Close: Weight=0.000<br>LLY_Close: Weight=0.206",
          "Return: 12.842%<br>Volatility: 0.107<br>Sharpe Ratio: 1.199<br>PFE_Close: Weight=0.000<br>DIS_Close: Weight=0.000<br>GE_Close: Weight=0.000<br>SRE_Close: Weight=1.000",
          "Return: 42.583%<br>Volatility: 0.124<br>Sharpe Ratio: 3.422<br>ABBV_Close: Weight=1.000<br>LLY_Close: Weight=0.000<br>GM_Close: Weight=0.000<br>XOM_Close: Weight=0.000",
          "Return: 25.714%<br>Volatility: 0.110<br>Sharpe Ratio: 2.336<br>MA_Close: Weight=0.794<br>HON_Close: Weight=0.206<br>GIS_Close: Weight=0.000",
          "Return: 30.534%<br>Volatility: 0.144<br>Sharpe Ratio: 2.115<br>BSX_Close: Weight=0.268<br>PG_Close: Weight=0.000<br>DE_Close: Weight=0.732",
          "Return: 18.781%<br>Volatility: 0.091<br>Sharpe Ratio: 2.069<br>PEP_Close: Weight=0.665<br>SRE_Close: Weight=0.140<br>BTI_Close: Weight=0.195",
          "Return: 31.017%<br>Volatility: 0.111<br>Sharpe Ratio: 2.785<br>SAP_Close: Weight=0.511<br>QCOM_Close: Weight=0.000<br>V_Close: Weight=0.489",
          "Return: 42.979%<br>Volatility: 0.152<br>Sharpe Ratio: 2.832<br>WFC_Close: Weight=0.000<br>NVDA_Close: Weight=0.272<br>LMT_Close: Weight=0.728",
          "Return: 12.664%<br>Volatility: 0.114<br>Sharpe Ratio: 1.110<br>MS_Close: Weight=0.000<br>SNAP_Close: Weight=0.000<br>MDT_Close: Weight=1.000",
          "Return: 40.337%<br>Volatility: 0.117<br>Sharpe Ratio: 3.448<br>BA_Close: Weight=0.073<br>RMD_Close: Weight=0.000<br>ABBV_Close: Weight=0.927<br>XOM_Close: Weight=0.000",
          "Return: 14.235%<br>Volatility: 0.099<br>Sharpe Ratio: 1.445<br>HON_Close: Weight=1.000<br>GS_Close: Weight=0.000<br>PG_Close: Weight=0.000",
          "Return: 16.438%<br>Volatility: 0.115<br>Sharpe Ratio: 1.434<br>CRM_Close: Weight=0.640<br>COST_Close: Weight=0.000<br>HD_Close: Weight=0.360",
          "Return: 16.062%<br>Volatility: 0.107<br>Sharpe Ratio: 1.503<br>MO_Close: Weight=0.000<br>EXC_Close: Weight=0.000<br>MDT_Close: Weight=0.487<br>CRM_Close: Weight=0.513",
          "Return: 59.051%<br>Volatility: 0.204<br>Sharpe Ratio: 2.891<br>EMR_Close: Weight=0.000<br>SNAP_Close: Weight=0.000<br>EW_Close: Weight=0.513<br>REGN_Close: Weight=0.487",
          "Return: 38.202%<br>Volatility: 0.114<br>Sharpe Ratio: 3.348<br>MCD_Close: Weight=0.681<br>TXN_Close: Weight=0.067<br>COST_Close: Weight=0.000<br>WMT_Close: Weight=0.251",
          "Return: 26.370%<br>Volatility: 0.105<br>Sharpe Ratio: 2.507<br>SYK_Close: Weight=0.398<br>F_Close: Weight=0.000<br>PM_Close: Weight=0.602<br>DUK_Close: Weight=0.000",
          "Return: -8.871%<br>Volatility: 0.126<br>Sharpe Ratio: -0.706<br>VZ_Close: Weight=0.000<br>DHR_Close: Weight=1.000<br>COST_Close: Weight=0.000",
          "Return: 16.637%<br>Volatility: 0.105<br>Sharpe Ratio: 1.584<br>ACN_Close: Weight=0.000<br>NEE_Close: Weight=1.000<br>DHR_Close: Weight=0.000<br>PFE_Close: Weight=0.000",
          "Return: -30.961%<br>Volatility: 0.176<br>Sharpe Ratio: -1.756<br>T_Close: Weight=0.000<br>WFC_Close: Weight=1.000<br>GIS_Close: Weight=0.000",
          "Return: 16.167%<br>Volatility: 0.087<br>Sharpe Ratio: 1.850<br>CSCO_Close: Weight=0.000<br>PEP_Close: Weight=1.000<br>GS_Close: Weight=0.000",
          "Return: 13.519%<br>Volatility: 0.102<br>Sharpe Ratio: 1.324<br>BMY_Close: Weight=0.000<br>MDT_Close: Weight=0.627<br>XOM_Close: Weight=0.000<br>CMCSA_Close: Weight=0.373",
          "Return: 20.421%<br>Volatility: 0.115<br>Sharpe Ratio: 1.775<br>DUK_Close: Weight=0.191<br>PG_Close: Weight=0.000<br>PFE_Close: Weight=0.000<br>ETN_Close: Weight=0.809",
          "Return: 16.647%<br>Volatility: 0.070<br>Sharpe Ratio: 2.393<br>PEP_Close: Weight=0.504<br>COST_Close: Weight=0.000<br>MDT_Close: Weight=0.123<br>LMT_Close: Weight=0.373",
          "Return: 32.197%<br>Volatility: 0.233<br>Sharpe Ratio: 1.380<br>VZ_Close: Weight=0.000<br>RMD_Close: Weight=0.000<br>CAT_Close: Weight=1.000",
          "Return: 34.582%<br>Volatility: 0.137<br>Sharpe Ratio: 2.530<br>KR_Close: Weight=0.000<br>BSX_Close: Weight=0.000<br>MRK_Close: Weight=0.000<br>MSFT_Close: Weight=1.000",
          "Return: 33.824%<br>Volatility: 0.161<br>Sharpe Ratio: 2.098<br>CRM_Close: Weight=0.100<br>GOOG_Close: Weight=0.900<br>RMD_Close: Weight=0.000<br>SO_Close: Weight=0.000",
          "Return: 45.113%<br>Volatility: 0.171<br>Sharpe Ratio: 2.632<br>AMZN_Close: Weight=1.000<br>RDY_Close: Weight=0.000<br>XOM_Close: Weight=0.000<br>INTC_Close: Weight=0.000",
          "Return: 5.055%<br>Volatility: 0.182<br>Sharpe Ratio: 0.278<br>GILD_Close: Weight=0.000<br>IBM_Close: Weight=0.000<br>QCOM_Close: Weight=1.000",
          "Return: 17.832%<br>Volatility: 0.093<br>Sharpe Ratio: 1.912<br>COST_Close: Weight=0.000<br>NEE_Close: Weight=0.709<br>TXN_Close: Weight=0.291",
          "Return: 21.194%<br>Volatility: 0.129<br>Sharpe Ratio: 1.649<br>LLY_Close: Weight=0.238<br>BIIB_Close: Weight=0.000<br>AAPL_Close: Weight=0.762",
          "Return: 26.928%<br>Volatility: 0.090<br>Sharpe Ratio: 2.983<br>NEE_Close: Weight=0.295<br>SAP_Close: Weight=0.331<br>PM_Close: Weight=0.267<br>HON_Close: Weight=0.107",
          "Return: 28.911%<br>Volatility: 0.094<br>Sharpe Ratio: 3.065<br>UNH_Close: Weight=0.504<br>V_Close: Weight=0.323<br>GOOGL_Close: Weight=0.172",
          "Return: -80.708%<br>Volatility: 0.405<br>Sharpe Ratio: -1.993<br>IBM_Close: Weight=0.000<br>KR_Close: Weight=1.000<br>GE_Close: Weight=0.000<br>SO_Close: Weight=0.000",
          "Return: 96.040%<br>Volatility: 0.381<br>Sharpe Ratio: 2.522<br>GM_Close: Weight=0.000<br>MS_Close: Weight=0.000<br>TSLA_Close: Weight=1.000<br>CVX_Close: Weight=0.000",
          "Return: 24.671%<br>Volatility: 0.110<br>Sharpe Ratio: 2.234<br>F_Close: Weight=0.000<br>BIIB_Close: Weight=0.000<br>ABT_Close: Weight=0.000<br>V_Close: Weight=1.000",
          "Return: 42.583%<br>Volatility: 0.124<br>Sharpe Ratio: 3.422<br>ACN_Close: Weight=0.000<br>UA_Close: Weight=0.000<br>QCOM_Close: Weight=0.000<br>ABBV_Close: Weight=1.000",
          "Return: 26.221%<br>Volatility: 0.095<br>Sharpe Ratio: 2.759<br>NFLX_Close: Weight=0.020<br>MA_Close: Weight=0.509<br>MDT_Close: Weight=0.000<br>JNJ_Close: Weight=0.471",
          "Return: 58.725%<br>Volatility: 0.155<br>Sharpe Ratio: 3.798<br>ACN_Close: Weight=0.000<br>VZ_Close: Weight=0.000<br>RMD_Close: Weight=0.000<br>ADBE_Close: Weight=1.000",
          "Return: 29.086%<br>Volatility: 0.103<br>Sharpe Ratio: 2.819<br>UNH_Close: Weight=0.734<br>TXN_Close: Weight=0.098<br>CAT_Close: Weight=0.169",
          "Return: 18.073%<br>Volatility: 0.090<br>Sharpe Ratio: 2.004<br>RTX_Close: Weight=0.817<br>TXN_Close: Weight=0.183<br>SNAP_Close: Weight=0.000",
          "Return: 44.224%<br>Volatility: 0.106<br>Sharpe Ratio: 4.160<br>SRE_Close: Weight=0.184<br>RTX_Close: Weight=0.130<br>ADBE_Close: Weight=0.431<br>ISRG_Close: Weight=0.256",
          "Return: 21.795%<br>Volatility: 0.104<br>Sharpe Ratio: 2.101<br>KR_Close: Weight=0.000<br>NEE_Close: Weight=0.664<br>BTI_Close: Weight=0.336<br>NKE_Close: Weight=0.000",
          "Return: 37.377%<br>Volatility: 0.101<br>Sharpe Ratio: 3.710<br>MMM_Close: Weight=0.246<br>UNH_Close: Weight=0.382<br>EXC_Close: Weight=0.000<br>ISRG_Close: Weight=0.372",
          "Return: 35.251%<br>Volatility: 0.089<br>Sharpe Ratio: 3.981<br>WMT_Close: Weight=0.208<br>ABBV_Close: Weight=0.542<br>UNH_Close: Weight=0.250",
          "Return: 28.529%<br>Volatility: 0.114<br>Sharpe Ratio: 2.500<br>MS_Close: Weight=0.000<br>ORCL_Close: Weight=0.477<br>WMT_Close: Weight=0.523",
          "Return: 42.810%<br>Volatility: 0.136<br>Sharpe Ratio: 3.157<br>BSX_Close: Weight=0.084<br>K_Close: Weight=0.000<br>MCD_Close: Weight=0.916",
          "Return: 33.697%<br>Volatility: 0.124<br>Sharpe Ratio: 2.709<br>BTI_Close: Weight=0.241<br>CAT_Close: Weight=0.243<br>GOOGL_Close: Weight=0.516",
          "Return: 28.213%<br>Volatility: 0.109<br>Sharpe Ratio: 2.583<br>GM_Close: Weight=0.000<br>CAT_Close: Weight=0.236<br>MMM_Close: Weight=0.623<br>NFLX_Close: Weight=0.141",
          "Return: 18.073%<br>Volatility: 0.090<br>Sharpe Ratio: 2.004<br>RTX_Close: Weight=0.817<br>SYY_Close: Weight=0.000<br>TXN_Close: Weight=0.183<br>DIS_Close: Weight=0.000",
          "Return: 24.532%<br>Volatility: 0.139<br>Sharpe Ratio: 1.760<br>BAC_Close: Weight=0.000<br>AMD_Close: Weight=0.000<br>CAT_Close: Weight=0.406<br>CRM_Close: Weight=0.594",
          "Return: 34.582%<br>Volatility: 0.137<br>Sharpe Ratio: 2.530<br>XOM_Close: Weight=0.000<br>MSFT_Close: Weight=1.000<br>CVX_Close: Weight=0.000",
          "Return: 45.113%<br>Volatility: 0.171<br>Sharpe Ratio: 2.632<br>GE_Close: Weight=0.000<br>GILD_Close: Weight=0.000<br>AMZN_Close: Weight=1.000",
          "Return: 17.218%<br>Volatility: 0.092<br>Sharpe Ratio: 1.876<br>RTX_Close: Weight=0.974<br>LLY_Close: Weight=0.026<br>K_Close: Weight=0.000",
          "Return: 43.332%<br>Volatility: 0.124<br>Sharpe Ratio: 3.497<br>WMT_Close: Weight=0.382<br>GM_Close: Weight=0.000<br>ISRG_Close: Weight=0.618<br>EMR_Close: Weight=0.000",
          "Return: 21.604%<br>Volatility: 0.093<br>Sharpe Ratio: 2.315<br>RTX_Close: Weight=0.607<br>CAT_Close: Weight=0.147<br>AAPL_Close: Weight=0.246<br>EXC_Close: Weight=0.000",
          "Return: 45.113%<br>Volatility: 0.171<br>Sharpe Ratio: 2.632<br>AMZN_Close: Weight=1.000<br>ABT_Close: Weight=0.000<br>MRK_Close: Weight=0.000",
          "Return: 16.847%<br>Volatility: 0.085<br>Sharpe Ratio: 1.980<br>SYK_Close: Weight=0.562<br>AEP_Close: Weight=0.435<br>SRE_Close: Weight=0.003",
          "Return: 25.525%<br>Volatility: 0.138<br>Sharpe Ratio: 1.846<br>RMD_Close: Weight=0.000<br>BTI_Close: Weight=0.491<br>CRM_Close: Weight=0.509",
          "Return: 28.689%<br>Volatility: 0.124<br>Sharpe Ratio: 2.305<br>ACN_Close: Weight=0.000<br>BMY_Close: Weight=0.000<br>MA_Close: Weight=1.000",
          "Return: 18.608%<br>Volatility: 0.107<br>Sharpe Ratio: 1.746<br>BIIB_Close: Weight=0.000<br>KR_Close: Weight=0.000<br>GILD_Close: Weight=0.000<br>LMT_Close: Weight=1.000",
          "Return: 60.013%<br>Volatility: 0.197<br>Sharpe Ratio: 3.051<br>CAT_Close: Weight=0.276<br>NVDA_Close: Weight=0.277<br>EW_Close: Weight=0.447<br>MO_Close: Weight=0.000",
          "Return: 7.554%<br>Volatility: 0.158<br>Sharpe Ratio: 0.477<br>LLY_Close: Weight=1.000<br>MRK_Close: Weight=0.000<br>CSCO_Close: Weight=0.000",
          "Return: -33.044%<br>Volatility: 0.335<br>Sharpe Ratio: -0.987<br>AMGN_Close: Weight=0.000<br>UA_Close: Weight=1.000<br>GILD_Close: Weight=0.000",
          "Return: 37.100%<br>Volatility: 0.147<br>Sharpe Ratio: 2.516<br>SAP_Close: Weight=1.000<br>SO_Close: Weight=0.000<br>INTC_Close: Weight=0.000",
          "Return: -6.262%<br>Volatility: 0.165<br>Sharpe Ratio: -0.378<br>GM_Close: Weight=0.000<br>PFE_Close: Weight=0.000<br>EMR_Close: Weight=1.000",
          "Return: 98.160%<br>Volatility: 0.343<br>Sharpe Ratio: 2.865<br>T_Close: Weight=0.000<br>VRTX_Close: Weight=0.601<br>NFLX_Close: Weight=0.399",
          "Return: 40.733%<br>Volatility: 0.171<br>Sharpe Ratio: 2.377<br>MS_Close: Weight=0.000<br>BTI_Close: Weight=0.429<br>RDY_Close: Weight=0.000<br>EW_Close: Weight=0.571",
          "Return: 34.500%<br>Volatility: 0.187<br>Sharpe Ratio: 1.843<br>ABT_Close: Weight=0.000<br>ORCL_Close: Weight=1.000<br>VZ_Close: Weight=0.000",
          "Return: 44.780%<br>Volatility: 0.138<br>Sharpe Ratio: 3.238<br>VRTX_Close: Weight=0.212<br>SYK_Close: Weight=0.430<br>ETN_Close: Weight=0.359<br>DHR_Close: Weight=0.000",
          "Return: 61.041%<br>Volatility: 0.210<br>Sharpe Ratio: 2.909<br>KR_Close: Weight=0.000<br>EMR_Close: Weight=0.000<br>PYPL_Close: Weight=1.000",
          "Return: 19.679%<br>Volatility: 0.116<br>Sharpe Ratio: 1.703<br>DUK_Close: Weight=0.000<br>MRK_Close: Weight=0.000<br>SYK_Close: Weight=1.000",
          "Return: 11.691%<br>Volatility: 0.198<br>Sharpe Ratio: 0.591<br>BMY_Close: Weight=0.000<br>RMD_Close: Weight=0.000<br>BIIB_Close: Weight=0.000<br>BA_Close: Weight=1.000",
          "Return: 22.841%<br>Volatility: 0.087<br>Sharpe Ratio: 2.620<br>TMO_Close: Weight=0.110<br>ETN_Close: Weight=0.349<br>JNJ_Close: Weight=0.541<br>ABT_Close: Weight=0.000",
          "Return: 16.648%<br>Volatility: 0.095<br>Sharpe Ratio: 1.757<br>ABT_Close: Weight=0.000<br>DUK_Close: Weight=0.120<br>LMT_Close: Weight=0.880",
          "Return: 45.348%<br>Volatility: 0.120<br>Sharpe Ratio: 3.793<br>AMZN_Close: Weight=0.396<br>JPM_Close: Weight=0.000<br>MCD_Close: Weight=0.604",
          "Return: 19.679%<br>Volatility: 0.116<br>Sharpe Ratio: 1.703<br>SYK_Close: Weight=1.000<br>BIIB_Close: Weight=0.000<br>AMGN_Close: Weight=0.000",
          "Return: 56.151%<br>Volatility: 0.146<br>Sharpe Ratio: 3.834<br>ADBE_Close: Weight=0.843<br>GS_Close: Weight=0.000<br>META_Close: Weight=0.157<br>BMY_Close: Weight=0.000",
          "Return: 58.801%<br>Volatility: 0.186<br>Sharpe Ratio: 3.167<br>TSLA_Close: Weight=0.372<br>DE_Close: Weight=0.628<br>PFE_Close: Weight=0.000<br>GE_Close: Weight=0.000",
          "Return: 21.627%<br>Volatility: 0.118<br>Sharpe Ratio: 1.830<br>MMM_Close: Weight=1.000<br>GE_Close: Weight=0.000<br>ACN_Close: Weight=0.000",
          "Return: 50.682%<br>Volatility: 0.132<br>Sharpe Ratio: 3.835<br>SRE_Close: Weight=0.175<br>ADBE_Close: Weight=0.825<br>GOOG_Close: Weight=0.000",
          "Return: 10.058%<br>Volatility: 0.100<br>Sharpe Ratio: 1.010<br>HD_Close: Weight=0.656<br>LLY_Close: Weight=0.344<br>VZ_Close: Weight=0.000",
          "Return: 21.627%<br>Volatility: 0.118<br>Sharpe Ratio: 1.830<br>DHR_Close: Weight=0.000<br>MMM_Close: Weight=1.000<br>MO_Close: Weight=0.000",
          "Return: 13.520%<br>Volatility: 0.102<br>Sharpe Ratio: 1.324<br>MDT_Close: Weight=0.627<br>IBM_Close: Weight=0.000<br>CVX_Close: Weight=0.000<br>CMCSA_Close: Weight=0.373",
          "Return: 43.465%<br>Volatility: 0.145<br>Sharpe Ratio: 3.002<br>PYPL_Close: Weight=0.624<br>HON_Close: Weight=0.376<br>GIS_Close: Weight=0.000",
          "Return: 31.695%<br>Volatility: 0.119<br>Sharpe Ratio: 2.670<br>ETN_Close: Weight=0.292<br>MSFT_Close: Weight=0.708<br>IBM_Close: Weight=0.000",
          "Return: 14.957%<br>Volatility: 0.154<br>Sharpe Ratio: 0.971<br>SYY_Close: Weight=0.000<br>CMCSA_Close: Weight=1.000<br>AMGN_Close: Weight=0.000",
          "Return: 13.214%<br>Volatility: 0.101<br>Sharpe Ratio: 1.306<br>AEP_Close: Weight=1.000<br>DIS_Close: Weight=0.000<br>JPM_Close: Weight=0.000<br>BAC_Close: Weight=0.000",
          "Return: 17.963%<br>Volatility: 0.087<br>Sharpe Ratio: 2.055<br>HON_Close: Weight=0.578<br>MRK_Close: Weight=0.000<br>WMT_Close: Weight=0.422",
          "Return: 11.691%<br>Volatility: 0.198<br>Sharpe Ratio: 0.591<br>ACN_Close: Weight=0.000<br>INTC_Close: Weight=0.000<br>BA_Close: Weight=1.000<br>BAC_Close: Weight=0.000",
          "Return: 30.281%<br>Volatility: 0.120<br>Sharpe Ratio: 2.530<br>F_Close: Weight=0.000<br>GOOGL_Close: Weight=0.531<br>ETN_Close: Weight=0.469",
          "Return: 48.941%<br>Volatility: 0.144<br>Sharpe Ratio: 3.389<br>SNAP_Close: Weight=0.000<br>BABA_Close: Weight=0.452<br>BSX_Close: Weight=0.000<br>MMM_Close: Weight=0.548",
          "Return: 6.741%<br>Volatility: 0.124<br>Sharpe Ratio: 0.542<br>QCOM_Close: Weight=0.325<br>LLY_Close: Weight=0.675<br>KR_Close: Weight=0.000",
          "Return: 53.095%<br>Volatility: 0.160<br>Sharpe Ratio: 3.315<br>BSX_Close: Weight=0.000<br>BABA_Close: Weight=0.544<br>TMO_Close: Weight=0.456<br>CPB_Close: Weight=0.000",
          "Return: 18.597%<br>Volatility: 0.100<br>Sharpe Ratio: 1.863<br>SYK_Close: Weight=0.668<br>TXN_Close: Weight=0.224<br>LLY_Close: Weight=0.109",
          "Return: 56.985%<br>Volatility: 0.174<br>Sharpe Ratio: 3.275<br>AAPL_Close: Weight=0.000<br>VRTX_Close: Weight=0.235<br>MSFT_Close: Weight=0.765",
          "Return: 42.813%<br>Volatility: 0.147<br>Sharpe Ratio: 2.906<br>HD_Close: Weight=0.248<br>TSLA_Close: Weight=0.336<br>TMO_Close: Weight=0.415<br>KR_Close: Weight=0.000",
          "Return: 14.235%<br>Volatility: 0.099<br>Sharpe Ratio: 1.445<br>HON_Close: Weight=1.000<br>AMGN_Close: Weight=0.000<br>AMD_Close: Weight=0.000",
          "Return: 16.637%<br>Volatility: 0.105<br>Sharpe Ratio: 1.584<br>NEE_Close: Weight=1.000<br>AMGN_Close: Weight=0.000<br>ABT_Close: Weight=0.000",
          "Return: 21.963%<br>Volatility: 0.141<br>Sharpe Ratio: 1.553<br>AMD_Close: Weight=0.000<br>MO_Close: Weight=0.000<br>LLY_Close: Weight=0.415<br>CAT_Close: Weight=0.585",
          "Return: 22.429%<br>Volatility: 0.115<br>Sharpe Ratio: 1.947<br>PG_Close: Weight=0.000<br>TMO_Close: Weight=0.367<br>ETN_Close: Weight=0.633",
          "Return: 44.325%<br>Volatility: 0.124<br>Sharpe Ratio: 3.582<br>PM_Close: Weight=0.460<br>GILD_Close: Weight=0.000<br>ISRG_Close: Weight=0.540",
          "Return: 26.921%<br>Volatility: 0.107<br>Sharpe Ratio: 2.519<br>LMT_Close: Weight=0.407<br>MA_Close: Weight=0.487<br>DIS_Close: Weight=0.000<br>NFLX_Close: Weight=0.106",
          "Return: 19.679%<br>Volatility: 0.116<br>Sharpe Ratio: 1.703<br>RMD_Close: Weight=0.000<br>AMD_Close: Weight=0.000<br>SYK_Close: Weight=1.000",
          "Return: 61.041%<br>Volatility: 0.210<br>Sharpe Ratio: 2.909<br>PYPL_Close: Weight=1.000<br>PFE_Close: Weight=0.000<br>SNAP_Close: Weight=0.000",
          "Return: -6.262%<br>Volatility: 0.165<br>Sharpe Ratio: -0.378<br>DHR_Close: Weight=0.000<br>EMR_Close: Weight=1.000<br>PG_Close: Weight=0.000",
          "Return: 37.100%<br>Volatility: 0.147<br>Sharpe Ratio: 2.516<br>DUK_Close: Weight=0.000<br>ACN_Close: Weight=0.000<br>SAP_Close: Weight=1.000<br>IBM_Close: Weight=0.000",
          "Return: 38.151%<br>Volatility: 0.129<br>Sharpe Ratio: 2.955<br>EW_Close: Weight=0.297<br>MSFT_Close: Weight=0.694<br>BA_Close: Weight=0.009<br>BMY_Close: Weight=0.000",
          "Return: 32.001%<br>Volatility: 0.204<br>Sharpe Ratio: 1.565<br>BTI_Close: Weight=1.000<br>INTC_Close: Weight=0.000<br>CSCO_Close: Weight=0.000<br>F_Close: Weight=0.000",
          "Return: 30.616%<br>Volatility: 0.074<br>Sharpe Ratio: 4.124<br>KO_Close: Weight=0.508<br>TMO_Close: Weight=0.000<br>UNH_Close: Weight=0.201<br>ISRG_Close: Weight=0.292",
          "Return: 25.164%<br>Volatility: 0.134<br>Sharpe Ratio: 1.878<br>RMD_Close: Weight=0.000<br>ORCL_Close: Weight=0.710<br>DUK_Close: Weight=0.290<br>ACN_Close: Weight=0.000",
          "Return: 17.563%<br>Volatility: 0.067<br>Sharpe Ratio: 2.626<br>SYY_Close: Weight=0.000<br>SYK_Close: Weight=0.323<br>KO_Close: Weight=0.677",
          "Return: 34.892%<br>Volatility: 0.098<br>Sharpe Ratio: 3.578<br>AEP_Close: Weight=0.247<br>T_Close: Weight=0.000<br>ABBV_Close: Weight=0.711<br>BTI_Close: Weight=0.042",
          "Return: 59.012%<br>Volatility: 0.169<br>Sharpe Ratio: 3.484<br>BABA_Close: Weight=0.451<br>TMO_Close: Weight=0.417<br>NVDA_Close: Weight=0.132<br>KR_Close: Weight=0.000",
          "Return: 14.235%<br>Volatility: 0.099<br>Sharpe Ratio: 1.445<br>HON_Close: Weight=1.000<br>COST_Close: Weight=0.000<br>CSCO_Close: Weight=0.000",
          "Return: 61.799%<br>Volatility: 0.229<br>Sharpe Ratio: 2.697<br>CVX_Close: Weight=0.000<br>NVDA_Close: Weight=0.362<br>GOOG_Close: Weight=0.638",
          "Return: 36.556%<br>Volatility: 0.132<br>Sharpe Ratio: 2.767<br>AMGN_Close: Weight=0.000<br>META_Close: Weight=0.757<br>TMO_Close: Weight=0.243",
          "Return: 13.570%<br>Volatility: 0.134<br>Sharpe Ratio: 1.015<br>AMGN_Close: Weight=0.000<br>ABT_Close: Weight=0.000<br>BIIB_Close: Weight=0.000<br>BSX_Close: Weight=1.000",
          "Return: 23.079%<br>Volatility: 0.148<br>Sharpe Ratio: 1.562<br>WMT_Close: Weight=1.000<br>COST_Close: Weight=0.000<br>AMD_Close: Weight=0.000",
          "Return: 17.935%<br>Volatility: 0.087<br>Sharpe Ratio: 2.062<br>LMT_Close: Weight=0.407<br>RTX_Close: Weight=0.593<br>AMGN_Close: Weight=0.000",
          "Return: 60.741%<br>Volatility: 0.202<br>Sharpe Ratio: 3.009<br>NVDA_Close: Weight=0.336<br>DE_Close: Weight=0.664<br>EMR_Close: Weight=0.000",
          "Return: 35.196%<br>Volatility: 0.165<br>Sharpe Ratio: 2.129<br>IBM_Close: Weight=0.000<br>BMY_Close: Weight=0.000<br>AMGN_Close: Weight=0.000<br>GOOGL_Close: Weight=1.000",
          "Return: 7.554%<br>Volatility: 0.158<br>Sharpe Ratio: 0.477<br>DIS_Close: Weight=0.000<br>LLY_Close: Weight=1.000<br>GILD_Close: Weight=0.000<br>MRK_Close: Weight=0.000",
          "Return: 24.637%<br>Volatility: 0.082<br>Sharpe Ratio: 2.990<br>KO_Close: Weight=0.607<br>MS_Close: Weight=0.000<br>SAP_Close: Weight=0.393",
          "Return: 14.235%<br>Volatility: 0.099<br>Sharpe Ratio: 1.445<br>UA_Close: Weight=0.000<br>RMD_Close: Weight=0.000<br>HON_Close: Weight=1.000<br>GE_Close: Weight=0.000",
          "Return: 15.681%<br>Volatility: 0.087<br>Sharpe Ratio: 1.808<br>F_Close: Weight=0.000<br>CRM_Close: Weight=0.406<br>AEP_Close: Weight=0.594<br>KR_Close: Weight=0.000",
          "Return: 22.230%<br>Volatility: 0.118<br>Sharpe Ratio: 1.883<br>WFC_Close: Weight=0.000<br>TMO_Close: Weight=0.464<br>COST_Close: Weight=0.000<br>AAPL_Close: Weight=0.536",
          "Return: 24.671%<br>Volatility: 0.110<br>Sharpe Ratio: 2.234<br>AMGN_Close: Weight=0.000<br>V_Close: Weight=1.000<br>GE_Close: Weight=0.000",
          "Return: 12.976%<br>Volatility: 0.074<br>Sharpe Ratio: 1.744<br>AMD_Close: Weight=0.000<br>AEP_Close: Weight=0.568<br>GILD_Close: Weight=0.000<br>MDT_Close: Weight=0.432",
          "Return: 3.227%<br>Volatility: 0.081<br>Sharpe Ratio: 0.398<br>QCOM_Close: Weight=0.345<br>DUK_Close: Weight=0.655<br>MO_Close: Weight=0.000<br>BAC_Close: Weight=0.000",
          "Return: 44.974%<br>Volatility: 0.104<br>Sharpe Ratio: 4.331<br>EW_Close: Weight=0.086<br>BABA_Close: Weight=0.258<br>UNH_Close: Weight=0.496<br>BTI_Close: Weight=0.161",
          "Return: 56.423%<br>Volatility: 0.175<br>Sharpe Ratio: 3.221<br>KR_Close: Weight=0.000<br>BABA_Close: Weight=0.618<br>ABT_Close: Weight=0.000<br>CMCSA_Close: Weight=0.382",
          "Return: 20.942%<br>Volatility: 0.176<br>Sharpe Ratio: 1.190<br>MRK_Close: Weight=0.000<br>ZBH_Close: Weight=1.000<br>CPB_Close: Weight=0.000<br>GILD_Close: Weight=0.000",
          "Return: 19.679%<br>Volatility: 0.116<br>Sharpe Ratio: 1.703<br>GM_Close: Weight=0.000<br>EXC_Close: Weight=0.000<br>SYK_Close: Weight=1.000<br>CPB_Close: Weight=0.000",
          "Return: 38.068%<br>Volatility: 0.125<br>Sharpe Ratio: 3.052<br>AMZN_Close: Weight=0.508<br>QCOM_Close: Weight=0.000<br>PM_Close: Weight=0.492",
          "Return: 14.235%<br>Volatility: 0.099<br>Sharpe Ratio: 1.445<br>HON_Close: Weight=1.000<br>BAC_Close: Weight=0.000<br>GIS_Close: Weight=0.000",
          "Return: 46.157%<br>Volatility: 0.147<br>Sharpe Ratio: 3.139<br>NEE_Close: Weight=0.739<br>VRTX_Close: Weight=0.261<br>MRK_Close: Weight=0.000",
          "Return: 45.113%<br>Volatility: 0.171<br>Sharpe Ratio: 2.632<br>GIS_Close: Weight=0.000<br>AMZN_Close: Weight=1.000<br>DHR_Close: Weight=0.000",
          "Return: 51.132%<br>Volatility: 0.110<br>Sharpe Ratio: 4.631<br>MCD_Close: Weight=0.430<br>COST_Close: Weight=0.000<br>ADBE_Close: Weight=0.522<br>TMO_Close: Weight=0.047",
          "Return: 31.101%<br>Volatility: 0.093<br>Sharpe Ratio: 3.338<br>GILD_Close: Weight=0.000<br>SRE_Close: Weight=0.319<br>TSLA_Close: Weight=0.192<br>RTX_Close: Weight=0.488",
          "Return: 39.183%<br>Volatility: 0.113<br>Sharpe Ratio: 3.470<br>CMCSA_Close: Weight=0.123<br>QCOM_Close: Weight=0.000<br>ABBV_Close: Weight=0.877",
          "Return: 49.354%<br>Volatility: 0.155<br>Sharpe Ratio: 3.186<br>AAPL_Close: Weight=0.214<br>EMR_Close: Weight=0.000<br>BMY_Close: Weight=0.000<br>ISRG_Close: Weight=0.786",
          "Return: 81.534%<br>Volatility: 0.307<br>Sharpe Ratio: 2.660<br>IBM_Close: Weight=0.000<br>NFLX_Close: Weight=0.319<br>TSLA_Close: Weight=0.681",
          "Return: 46.895%<br>Volatility: 0.154<br>Sharpe Ratio: 3.051<br>BAC_Close: Weight=0.000<br>PYPL_Close: Weight=0.563<br>MA_Close: Weight=0.437<br>CMCSA_Close: Weight=0.000",
          "Return: 36.247%<br>Volatility: 0.133<br>Sharpe Ratio: 2.730<br>ABT_Close: Weight=0.000<br>HD_Close: Weight=0.263<br>GM_Close: Weight=0.000<br>AMZN_Close: Weight=0.737",
          "Return: 25.462%<br>Volatility: 0.162<br>Sharpe Ratio: 1.576<br>CVX_Close: Weight=0.000<br>AAPL_Close: Weight=1.000<br>COST_Close: Weight=0.000",
          "Return: 24.224%<br>Volatility: 0.116<br>Sharpe Ratio: 2.091<br>JPM_Close: Weight=0.000<br>WMT_Close: Weight=0.519<br>CPB_Close: Weight=0.000<br>AAPL_Close: Weight=0.481",
          "Return: 36.870%<br>Volatility: 0.116<br>Sharpe Ratio: 3.167<br>META_Close: Weight=0.525<br>MO_Close: Weight=0.000<br>PM_Close: Weight=0.475<br>PG_Close: Weight=0.000",
          "Return: 40.914%<br>Volatility: 0.126<br>Sharpe Ratio: 3.257<br>LMT_Close: Weight=0.429<br>PG_Close: Weight=0.000<br>META_Close: Weight=0.438<br>NVDA_Close: Weight=0.133",
          "Return: 42.367%<br>Volatility: 0.158<br>Sharpe Ratio: 2.676<br>MRK_Close: Weight=0.000<br>META_Close: Weight=1.000<br>UA_Close: Weight=0.000<br>EXC_Close: Weight=0.000",
          "Return: 35.766%<br>Volatility: 0.140<br>Sharpe Ratio: 2.557<br>MSFT_Close: Weight=0.926<br>NFLX_Close: Weight=0.074<br>T_Close: Weight=0.000",
          "Return: 50.934%<br>Volatility: 0.164<br>Sharpe Ratio: 3.115<br>REGN_Close: Weight=0.295<br>META_Close: Weight=0.705<br>UA_Close: Weight=0.000",
          "Return: 31.421%<br>Volatility: 0.108<br>Sharpe Ratio: 2.899<br>GILD_Close: Weight=0.000<br>AMZN_Close: Weight=0.576<br>SRE_Close: Weight=0.424",
          "Return: 23.166%<br>Volatility: 0.092<br>Sharpe Ratio: 2.516<br>LMT_Close: Weight=0.487<br>ORCL_Close: Weight=0.336<br>DIS_Close: Weight=0.000<br>HON_Close: Weight=0.177",
          "Return: 24.810%<br>Volatility: 0.108<br>Sharpe Ratio: 2.294<br>V_Close: Weight=0.824<br>EMR_Close: Weight=0.000<br>SNAP_Close: Weight=0.000<br>AAPL_Close: Weight=0.176",
          "Return: 62.944%<br>Volatility: 0.150<br>Sharpe Ratio: 4.210<br>ADBE_Close: Weight=0.614<br>REGN_Close: Weight=0.143<br>NVDA_Close: Weight=0.039<br>PYPL_Close: Weight=0.205",
          "Return: 12.664%<br>Volatility: 0.114<br>Sharpe Ratio: 1.110<br>MRK_Close: Weight=0.000<br>F_Close: Weight=0.000<br>MDT_Close: Weight=1.000",
          "Return: 10.681%<br>Volatility: 0.103<br>Sharpe Ratio: 1.041<br>BSX_Close: Weight=0.744<br>DUK_Close: Weight=0.256<br>SO_Close: Weight=0.000",
          "Return: 16.116%<br>Volatility: 0.075<br>Sharpe Ratio: 2.149<br>SRE_Close: Weight=0.297<br>MDT_Close: Weight=0.164<br>LMT_Close: Weight=0.444<br>TXN_Close: Weight=0.094",
          "Return: 71.439%<br>Volatility: 0.300<br>Sharpe Ratio: 2.378<br>REGN_Close: Weight=1.000<br>ACN_Close: Weight=0.000<br>MRK_Close: Weight=0.000",
          "Return: 41.074%<br>Volatility: 0.114<br>Sharpe Ratio: 3.611<br>GIS_Close: Weight=0.000<br>BA_Close: Weight=0.000<br>BABA_Close: Weight=0.408<br>SRE_Close: Weight=0.592",
          "Return: 40.535%<br>Volatility: 0.117<br>Sharpe Ratio: 3.455<br>ABBV_Close: Weight=0.905<br>GS_Close: Weight=0.000<br>ZBH_Close: Weight=0.095",
          "Return: 45.113%<br>Volatility: 0.171<br>Sharpe Ratio: 2.632<br>WFC_Close: Weight=0.000<br>MS_Close: Weight=0.000<br>AMZN_Close: Weight=1.000<br>SNAP_Close: Weight=0.000",
          "Return: 21.325%<br>Volatility: 0.076<br>Sharpe Ratio: 2.815<br>NEE_Close: Weight=0.505<br>AMGN_Close: Weight=0.000<br>CAT_Close: Weight=0.164<br>WMT_Close: Weight=0.331",
          "Return: 17.117%<br>Volatility: 0.070<br>Sharpe Ratio: 2.431<br>MRK_Close: Weight=0.000<br>DUK_Close: Weight=0.000<br>RTX_Close: Weight=0.573<br>NEE_Close: Weight=0.427",
          "Return: 56.967%<br>Volatility: 0.187<br>Sharpe Ratio: 3.043<br>NVDA_Close: Weight=0.222<br>META_Close: Weight=0.778<br>GILD_Close: Weight=0.000<br>TXN_Close: Weight=0.000",
          "Return: 25.199%<br>Volatility: 0.103<br>Sharpe Ratio: 2.441<br>IBM_Close: Weight=0.000<br>BTI_Close: Weight=0.283<br>JNJ_Close: Weight=0.717",
          "Return: -29.169%<br>Volatility: 0.135<br>Sharpe Ratio: -2.163<br>K_Close: Weight=1.000<br>PFE_Close: Weight=0.000<br>COST_Close: Weight=0.000",
          "Return: -0.556%<br>Volatility: 0.133<br>Sharpe Ratio: -0.042<br>UA_Close: Weight=0.000<br>ABT_Close: Weight=1.000<br>BMY_Close: Weight=0.000<br>GM_Close: Weight=0.000",
          "Return: 30.486%<br>Volatility: 0.141<br>Sharpe Ratio: 2.159<br>CMCSA_Close: Weight=0.287<br>DHR_Close: Weight=0.000<br>DE_Close: Weight=0.713",
          "Return: 42.367%<br>Volatility: 0.158<br>Sharpe Ratio: 2.676<br>JPM_Close: Weight=0.000<br>COST_Close: Weight=0.000<br>META_Close: Weight=1.000",
          "Return: 36.491%<br>Volatility: 0.095<br>Sharpe Ratio: 3.853<br>AEP_Close: Weight=0.411<br>BABA_Close: Weight=0.296<br>LMT_Close: Weight=0.193<br>BTI_Close: Weight=0.100",
          "Return: 34.582%<br>Volatility: 0.137<br>Sharpe Ratio: 2.530<br>MSFT_Close: Weight=1.000<br>SNAP_Close: Weight=0.000<br>GIS_Close: Weight=0.000<br>GILD_Close: Weight=0.000",
          "Return: 38.164%<br>Volatility: 0.124<br>Sharpe Ratio: 3.085<br>CRM_Close: Weight=0.003<br>AEP_Close: Weight=0.376<br>HD_Close: Weight=0.096<br>PYPL_Close: Weight=0.525",
          "Return: 20.737%<br>Volatility: 0.179<br>Sharpe Ratio: 1.156<br>TXN_Close: Weight=1.000<br>NKE_Close: Weight=0.000<br>MRK_Close: Weight=0.000",
          "Return: -58.090%<br>Volatility: 0.694<br>Sharpe Ratio: -0.837<br>PG_Close: Weight=0.000<br>AMD_Close: Weight=1.000<br>PFE_Close: Weight=0.000",
          "Return: 47.299%<br>Volatility: 0.230<br>Sharpe Ratio: 2.055<br>QCOM_Close: Weight=0.000<br>F_Close: Weight=0.000<br>EW_Close: Weight=1.000<br>DHR_Close: Weight=0.000",
          "Return: 108.207%<br>Volatility: 0.443<br>Sharpe Ratio: 2.442<br>NKE_Close: Weight=0.000<br>NVDA_Close: Weight=1.000<br>COST_Close: Weight=0.000<br>ABT_Close: Weight=0.000",
          "Return: 32.721%<br>Volatility: 0.189<br>Sharpe Ratio: 1.730<br>CRM_Close: Weight=0.571<br>ACN_Close: Weight=0.000<br>NFLX_Close: Weight=0.429",
          "Return: 96.040%<br>Volatility: 0.381<br>Sharpe Ratio: 2.522<br>TSLA_Close: Weight=1.000<br>K_Close: Weight=0.000<br>CSCO_Close: Weight=0.000",
          "Return: 45.113%<br>Volatility: 0.171<br>Sharpe Ratio: 2.632<br>EMR_Close: Weight=0.000<br>XOM_Close: Weight=0.000<br>PFE_Close: Weight=0.000<br>AMZN_Close: Weight=1.000",
          "Return: 37.100%<br>Volatility: 0.147<br>Sharpe Ratio: 2.516<br>SO_Close: Weight=0.000<br>SAP_Close: Weight=1.000<br>MS_Close: Weight=0.000<br>IBM_Close: Weight=0.000",
          "Return: 11.554%<br>Volatility: 0.078<br>Sharpe Ratio: 1.488<br>GILD_Close: Weight=0.000<br>HD_Close: Weight=0.306<br>SRE_Close: Weight=0.536<br>LLY_Close: Weight=0.159",
          "Return: 30.790%<br>Volatility: 0.135<br>Sharpe Ratio: 2.281<br>DIS_Close: Weight=0.000<br>MS_Close: Weight=0.000<br>PM_Close: Weight=1.000",
          "Return: 34.732%<br>Volatility: 0.089<br>Sharpe Ratio: 3.908<br>MCD_Close: Weight=0.549<br>MMM_Close: Weight=0.451<br>CVX_Close: Weight=0.000",
          "Return: 39.570%<br>Volatility: 0.109<br>Sharpe Ratio: 3.627<br>BA_Close: Weight=0.000<br>SAP_Close: Weight=0.369<br>UNH_Close: Weight=0.457<br>REGN_Close: Weight=0.173",
          "Return: 37.521%<br>Volatility: 0.116<br>Sharpe Ratio: 3.230<br>V_Close: Weight=0.327<br>PYPL_Close: Weight=0.399<br>LMT_Close: Weight=0.274<br>RDY_Close: Weight=0.000",
          "Return: 36.247%<br>Volatility: 0.133<br>Sharpe Ratio: 2.730<br>AMZN_Close: Weight=0.737<br>HD_Close: Weight=0.263<br>T_Close: Weight=0.000",
          "Return: 62.690%<br>Volatility: 0.162<br>Sharpe Ratio: 3.871<br>ADBE_Close: Weight=0.920<br>NVDA_Close: Weight=0.080<br>SNAP_Close: Weight=0.000",
          "Return: 50.447%<br>Volatility: 0.170<br>Sharpe Ratio: 2.971<br>GILD_Close: Weight=0.000<br>TSLA_Close: Weight=0.361<br>ETN_Close: Weight=0.639",
          "Return: 42.367%<br>Volatility: 0.158<br>Sharpe Ratio: 2.676<br>SYY_Close: Weight=0.000<br>BIIB_Close: Weight=0.000<br>META_Close: Weight=1.000",
          "Return: 29.263%<br>Volatility: 0.103<br>Sharpe Ratio: 2.848<br>SAP_Close: Weight=0.501<br>ZBH_Close: Weight=0.166<br>MMM_Close: Weight=0.333",
          "Return: 23.079%<br>Volatility: 0.148<br>Sharpe Ratio: 1.562<br>WMT_Close: Weight=1.000<br>RMD_Close: Weight=0.000<br>COST_Close: Weight=0.000",
          "Return: 30.197%<br>Volatility: 0.137<br>Sharpe Ratio: 2.205<br>AAPL_Close: Weight=0.476<br>ORCL_Close: Weight=0.524<br>GS_Close: Weight=0.000",
          "Return: 17.474%<br>Volatility: 0.093<br>Sharpe Ratio: 1.875<br>RTX_Close: Weight=1.000<br>SO_Close: Weight=0.000<br>BIIB_Close: Weight=0.000",
          "Return: 36.750%<br>Volatility: 0.179<br>Sharpe Ratio: 2.053<br>DE_Close: Weight=1.000<br>IBM_Close: Weight=0.000<br>VZ_Close: Weight=0.000",
          "Return: 23.079%<br>Volatility: 0.148<br>Sharpe Ratio: 1.562<br>PFE_Close: Weight=0.000<br>WMT_Close: Weight=1.000<br>KR_Close: Weight=0.000",
          "Return: 33.403%<br>Volatility: 0.116<br>Sharpe Ratio: 2.889<br>REGN_Close: Weight=0.358<br>SRE_Close: Weight=0.619<br>LLY_Close: Weight=0.000<br>EMR_Close: Weight=0.022",
          "Return: 47.299%<br>Volatility: 0.230<br>Sharpe Ratio: 2.055<br>IBM_Close: Weight=0.000<br>AMD_Close: Weight=0.000<br>EW_Close: Weight=1.000",
          "Return: 20.081%<br>Volatility: 0.078<br>Sharpe Ratio: 2.565<br>NEE_Close: Weight=0.444<br>TMO_Close: Weight=0.192<br>CAT_Close: Weight=0.158<br>SYK_Close: Weight=0.206",
          "Return: 22.053%<br>Volatility: 0.084<br>Sharpe Ratio: 2.619<br>CSCO_Close: Weight=0.000<br>KO_Close: Weight=0.614<br>MRK_Close: Weight=0.000<br>PM_Close: Weight=0.386",
          "Return: 25.702%<br>Volatility: 0.078<br>Sharpe Ratio: 3.316<br>JNJ_Close: Weight=0.307<br>AAPL_Close: Weight=0.084<br>V_Close: Weight=0.271<br>UNH_Close: Weight=0.338",
          "Return: 39.208%<br>Volatility: 0.127<br>Sharpe Ratio: 3.076<br>MA_Close: Weight=0.422<br>MMM_Close: Weight=0.410<br>EMR_Close: Weight=0.000<br>NVDA_Close: Weight=0.169",
          "Return: 13.214%<br>Volatility: 0.101<br>Sharpe Ratio: 1.306<br>RDY_Close: Weight=0.000<br>RMD_Close: Weight=0.000<br>AEP_Close: Weight=1.000<br>IBM_Close: Weight=0.000",
          "Return: 44.141%<br>Volatility: 0.107<br>Sharpe Ratio: 4.131<br>VRTX_Close: Weight=0.113<br>AEP_Close: Weight=0.283<br>ABBV_Close: Weight=0.604",
          "Return: 33.663%<br>Volatility: 0.160<br>Sharpe Ratio: 2.100<br>GIS_Close: Weight=0.000<br>GOOG_Close: Weight=0.925<br>GS_Close: Weight=0.000<br>BA_Close: Weight=0.075",
          "Return: 41.433%<br>Volatility: 0.154<br>Sharpe Ratio: 2.689<br>PFE_Close: Weight=0.000<br>META_Close: Weight=0.870<br>PG_Close: Weight=0.000<br>GOOGL_Close: Weight=0.130",
          "Return: 22.891%<br>Volatility: 0.082<br>Sharpe Ratio: 2.786<br>NEE_Close: Weight=0.328<br>GS_Close: Weight=0.000<br>UNH_Close: Weight=0.541<br>HD_Close: Weight=0.131",
          "Return: 16.637%<br>Volatility: 0.105<br>Sharpe Ratio: 1.584<br>NEE_Close: Weight=1.000<br>MRK_Close: Weight=0.000<br>ABT_Close: Weight=0.000",
          "Return: 45.483%<br>Volatility: 0.172<br>Sharpe Ratio: 2.647<br>BIIB_Close: Weight=0.000<br>AMZN_Close: Weight=0.933<br>NFLX_Close: Weight=0.067",
          "Return: 35.438%<br>Volatility: 0.169<br>Sharpe Ratio: 2.092<br>GOOG_Close: Weight=1.000<br>F_Close: Weight=0.000<br>MO_Close: Weight=0.000",
          "Return: 16.554%<br>Volatility: 0.076<br>Sharpe Ratio: 2.186<br>MRK_Close: Weight=0.000<br>KO_Close: Weight=1.000<br>CPB_Close: Weight=0.000",
          "Return: 35.074%<br>Volatility: 0.114<br>Sharpe Ratio: 3.067<br>META_Close: Weight=0.622<br>WMT_Close: Weight=0.378<br>PG_Close: Weight=0.000",
          "Return: 16.850%<br>Volatility: 0.077<br>Sharpe Ratio: 2.199<br>TMO_Close: Weight=0.293<br>PEP_Close: Weight=0.707<br>SNAP_Close: Weight=0.000",
          "Return: 71.439%<br>Volatility: 0.300<br>Sharpe Ratio: 2.378<br>MRK_Close: Weight=0.000<br>QCOM_Close: Weight=0.000<br>REGN_Close: Weight=1.000",
          "Return: 24.706%<br>Volatility: 0.141<br>Sharpe Ratio: 1.755<br>COST_Close: Weight=0.000<br>ETN_Close: Weight=1.000<br>T_Close: Weight=0.000",
          "Return: 88.701%<br>Volatility: 0.271<br>Sharpe Ratio: 3.268<br>PFE_Close: Weight=0.000<br>BABA_Close: Weight=0.745<br>NVDA_Close: Weight=0.255<br>GE_Close: Weight=0.000",
          "Return: 22.072%<br>Volatility: 0.083<br>Sharpe Ratio: 2.651<br>WMT_Close: Weight=0.331<br>MS_Close: Weight=0.000<br>LMT_Close: Weight=0.344<br>ETN_Close: Weight=0.326",
          "Return: 13.256%<br>Volatility: 0.116<br>Sharpe Ratio: 1.146<br>MS_Close: Weight=0.000<br>PG_Close: Weight=0.000<br>CMCSA_Close: Weight=0.525<br>HD_Close: Weight=0.475",
          "Return: 50.744%<br>Volatility: 0.192<br>Sharpe Ratio: 2.639<br>GOOGL_Close: Weight=0.571<br>REGN_Close: Weight=0.429<br>PG_Close: Weight=0.000",
          "Return: 30.790%<br>Volatility: 0.135<br>Sharpe Ratio: 2.281<br>K_Close: Weight=0.000<br>PM_Close: Weight=1.000<br>INTC_Close: Weight=0.000",
          "Return: 21.415%<br>Volatility: 0.085<br>Sharpe Ratio: 2.530<br>CVX_Close: Weight=0.000<br>V_Close: Weight=0.548<br>RTX_Close: Weight=0.452",
          "Return: 63.753%<br>Volatility: 0.188<br>Sharpe Ratio: 3.388<br>CPB_Close: Weight=0.000<br>META_Close: Weight=0.755<br>VRTX_Close: Weight=0.245<br>CVX_Close: Weight=0.000",
          "Return: 24.706%<br>Volatility: 0.141<br>Sharpe Ratio: 1.755<br>AMGN_Close: Weight=0.000<br>ACN_Close: Weight=0.000<br>MS_Close: Weight=0.000<br>ETN_Close: Weight=1.000",
          "Return: 45.113%<br>Volatility: 0.171<br>Sharpe Ratio: 2.632<br>AAPL_Close: Weight=0.000<br>AMZN_Close: Weight=1.000<br>SNAP_Close: Weight=0.000",
          "Return: 34.066%<br>Volatility: 0.128<br>Sharpe Ratio: 2.654<br>BTI_Close: Weight=0.200<br>PG_Close: Weight=0.000<br>MO_Close: Weight=0.000<br>MSFT_Close: Weight=0.800",
          "Return: 39.918%<br>Volatility: 0.097<br>Sharpe Ratio: 4.117<br>BAC_Close: Weight=0.000<br>PYPL_Close: Weight=0.232<br>NEE_Close: Weight=0.268<br>ABBV_Close: Weight=0.500",
          "Return: 37.100%<br>Volatility: 0.147<br>Sharpe Ratio: 2.516<br>SAP_Close: Weight=1.000<br>GS_Close: Weight=0.000<br>COST_Close: Weight=0.000",
          "Return: 42.046%<br>Volatility: 0.117<br>Sharpe Ratio: 3.599<br>PM_Close: Weight=0.429<br>BAC_Close: Weight=0.000<br>CMCSA_Close: Weight=0.075<br>ISRG_Close: Weight=0.496",
          "Return: -0.543%<br>Volatility: 0.123<br>Sharpe Ratio: -0.044<br>BAC_Close: Weight=0.000<br>COST_Close: Weight=0.000<br>DIS_Close: Weight=1.000",
          "Return: 15.895%<br>Volatility: 0.086<br>Sharpe Ratio: 1.850<br>AEP_Close: Weight=0.653<br>BIIB_Close: Weight=0.000<br>ZBH_Close: Weight=0.347",
          "Return: 58.247%<br>Volatility: 0.130<br>Sharpe Ratio: 4.484<br>ADBE_Close: Weight=0.571<br>ZBH_Close: Weight=0.000<br>BABA_Close: Weight=0.198<br>DE_Close: Weight=0.232",
          "Return: 43.085%<br>Volatility: 0.091<br>Sharpe Ratio: 4.709<br>JNJ_Close: Weight=0.026<br>PEP_Close: Weight=0.192<br>ABBV_Close: Weight=0.404<br>ADBE_Close: Weight=0.378",
          "Return: 54.379%<br>Volatility: 0.111<br>Sharpe Ratio: 4.884<br>K_Close: Weight=0.000<br>TSLA_Close: Weight=0.097<br>ABBV_Close: Weight=0.493<br>ADBE_Close: Weight=0.411",
          "Return: -3.112%<br>Volatility: 0.177<br>Sharpe Ratio: -0.176<br>BMY_Close: Weight=0.000<br>RMD_Close: Weight=1.000<br>RDY_Close: Weight=0.000",
          "Return: 25.544%<br>Volatility: 0.089<br>Sharpe Ratio: 2.867<br>GM_Close: Weight=0.000<br>PEP_Close: Weight=0.491<br>MSFT_Close: Weight=0.509",
          "Return: 22.266%<br>Volatility: 0.088<br>Sharpe Ratio: 2.520<br>MA_Close: Weight=0.494<br>CPB_Close: Weight=0.000<br>SRE_Close: Weight=0.229<br>LMT_Close: Weight=0.277",
          "Return: 13.214%<br>Volatility: 0.101<br>Sharpe Ratio: 1.306<br>CVX_Close: Weight=0.000<br>AEP_Close: Weight=1.000<br>RMD_Close: Weight=0.000",
          "Return: 72.457%<br>Volatility: 0.291<br>Sharpe Ratio: 2.491<br>NVDA_Close: Weight=0.617<br>MS_Close: Weight=0.000<br>CMCSA_Close: Weight=0.383",
          "Return: 15.263%<br>Volatility: 0.076<br>Sharpe Ratio: 1.999<br>AMGN_Close: Weight=0.000<br>PEP_Close: Weight=0.742<br>PG_Close: Weight=0.000<br>MDT_Close: Weight=0.258",
          "Return: 14.235%<br>Volatility: 0.099<br>Sharpe Ratio: 1.445<br>PFE_Close: Weight=0.000<br>HON_Close: Weight=1.000<br>GE_Close: Weight=0.000<br>BAC_Close: Weight=0.000",
          "Return: 31.066%<br>Volatility: 0.122<br>Sharpe Ratio: 2.539<br>ACN_Close: Weight=0.000<br>GOOG_Close: Weight=0.352<br>MA_Close: Weight=0.648",
          "Return: 47.924%<br>Volatility: 0.139<br>Sharpe Ratio: 3.453<br>VRTX_Close: Weight=0.186<br>SYK_Close: Weight=0.278<br>EW_Close: Weight=0.223<br>ETN_Close: Weight=0.313",
          "Return: 42.505%<br>Volatility: 0.105<br>Sharpe Ratio: 4.057<br>SO_Close: Weight=0.000<br>META_Close: Weight=0.360<br>ABBV_Close: Weight=0.640",
          "Return: 54.379%<br>Volatility: 0.111<br>Sharpe Ratio: 4.884<br>TSLA_Close: Weight=0.097<br>ADBE_Close: Weight=0.411<br>ABBV_Close: Weight=0.493",
          "Return: 37.100%<br>Volatility: 0.147<br>Sharpe Ratio: 2.516<br>SAP_Close: Weight=1.000<br>EXC_Close: Weight=0.000<br>SYY_Close: Weight=0.000<br>MS_Close: Weight=0.000",
          "Return: -19.860%<br>Volatility: 0.219<br>Sharpe Ratio: -0.907<br>MS_Close: Weight=1.000<br>CPB_Close: Weight=0.000<br>GE_Close: Weight=0.000",
          "Return: -33.044%<br>Volatility: 0.335<br>Sharpe Ratio: -0.987<br>F_Close: Weight=0.000<br>GS_Close: Weight=0.000<br>UA_Close: Weight=1.000<br>VZ_Close: Weight=0.000",
          "Return: 32.313%<br>Volatility: 0.101<br>Sharpe Ratio: 3.191<br>EW_Close: Weight=0.140<br>LMT_Close: Weight=0.227<br>RTX_Close: Weight=0.215<br>META_Close: Weight=0.418",
          "Return: 49.610%<br>Volatility: 0.152<br>Sharpe Ratio: 3.267<br>ISRG_Close: Weight=0.697<br>PG_Close: Weight=0.000<br>AMGN_Close: Weight=0.000<br>GOOGL_Close: Weight=0.303",
          "Return: 16.804%<br>Volatility: 0.067<br>Sharpe Ratio: 2.525<br>ACN_Close: Weight=0.000<br>RTX_Close: Weight=0.488<br>SYY_Close: Weight=0.000<br>PEP_Close: Weight=0.512",
          "Return: 60.614%<br>Volatility: 0.239<br>Sharpe Ratio: 2.541<br>MS_Close: Weight=0.000<br>HD_Close: Weight=0.491<br>NVDA_Close: Weight=0.509",
          "Return: 19.663%<br>Volatility: 0.096<br>Sharpe Ratio: 2.047<br>BMY_Close: Weight=0.000<br>BTI_Close: Weight=0.221<br>PEP_Close: Weight=0.779<br>RMD_Close: Weight=0.000",
          "Return: 23.191%<br>Volatility: 0.098<br>Sharpe Ratio: 2.374<br>ACN_Close: Weight=0.000<br>TMO_Close: Weight=0.240<br>V_Close: Weight=0.760",
          "Return: 14.162%<br>Volatility: 0.098<br>Sharpe Ratio: 1.447<br>DHR_Close: Weight=0.000<br>SNAP_Close: Weight=0.000<br>HON_Close: Weight=0.971<br>BA_Close: Weight=0.029",
          "Return: 66.183%<br>Volatility: 0.262<br>Sharpe Ratio: 2.523<br>LLY_Close: Weight=0.418<br>SO_Close: Weight=0.000<br>ABT_Close: Weight=0.000<br>NVDA_Close: Weight=0.582",
          "Return: 13.214%<br>Volatility: 0.101<br>Sharpe Ratio: 1.306<br>AEP_Close: Weight=1.000<br>EXC_Close: Weight=0.000<br>BMY_Close: Weight=0.000",
          "Return: 59.347%<br>Volatility: 0.207<br>Sharpe Ratio: 2.870<br>ORCL_Close: Weight=0.531<br>TSLA_Close: Weight=0.423<br>LLY_Close: Weight=0.045<br>AMGN_Close: Weight=0.000",
          "Return: 5.304%<br>Volatility: 0.104<br>Sharpe Ratio: 0.511<br>XOM_Close: Weight=0.000<br>LLY_Close: Weight=0.575<br>DUK_Close: Weight=0.425<br>INTC_Close: Weight=0.000",
          "Return: 25.039%<br>Volatility: 0.122<br>Sharpe Ratio: 2.053<br>K_Close: Weight=0.000<br>LLY_Close: Weight=0.117<br>SYK_Close: Weight=0.664<br>NFLX_Close: Weight=0.219",
          "Return: 28.689%<br>Volatility: 0.124<br>Sharpe Ratio: 2.305<br>MA_Close: Weight=1.000<br>MS_Close: Weight=0.000<br>BMY_Close: Weight=0.000<br>WFC_Close: Weight=0.000",
          "Return: 58.725%<br>Volatility: 0.155<br>Sharpe Ratio: 3.798<br>ADBE_Close: Weight=1.000<br>COST_Close: Weight=0.000<br>RMD_Close: Weight=0.000<br>BA_Close: Weight=0.000",
          "Return: 54.900%<br>Volatility: 0.165<br>Sharpe Ratio: 3.333<br>GE_Close: Weight=0.000<br>NKE_Close: Weight=0.000<br>NFLX_Close: Weight=0.186<br>ISRG_Close: Weight=0.814",
          "Return: 18.499%<br>Volatility: 0.142<br>Sharpe Ratio: 1.306<br>JPM_Close: Weight=0.000<br>TMO_Close: Weight=1.000<br>EMR_Close: Weight=0.000<br>SO_Close: Weight=0.000",
          "Return: 2.265%<br>Volatility: 0.089<br>Sharpe Ratio: 0.255<br>DUK_Close: Weight=1.000<br>EMR_Close: Weight=0.000<br>GILD_Close: Weight=0.000<br>F_Close: Weight=0.000",
          "Return: 33.018%<br>Volatility: 0.192<br>Sharpe Ratio: 1.717<br>NFLX_Close: Weight=0.506<br>BAC_Close: Weight=0.000<br>RMD_Close: Weight=0.000<br>CMCSA_Close: Weight=0.494",
          "Return: 40.186%<br>Volatility: 0.156<br>Sharpe Ratio: 2.579<br>REGN_Close: Weight=0.434<br>MDT_Close: Weight=0.221<br>TMO_Close: Weight=0.345",
          "Return: 34.380%<br>Volatility: 0.092<br>Sharpe Ratio: 3.730<br>PM_Close: Weight=0.273<br>MRK_Close: Weight=0.000<br>PEP_Close: Weight=0.242<br>MCD_Close: Weight=0.485",
          "Return: 22.633%<br>Volatility: 0.087<br>Sharpe Ratio: 2.599<br>PEP_Close: Weight=0.484<br>MA_Close: Weight=0.516<br>CVX_Close: Weight=0.000",
          "Return: 72.012%<br>Volatility: 0.249<br>Sharpe Ratio: 2.889<br>NVDA_Close: Weight=0.406<br>CSCO_Close: Weight=0.000<br>EW_Close: Weight=0.594",
          "Return: 34.174%<br>Volatility: 0.129<br>Sharpe Ratio: 2.652<br>CAT_Close: Weight=0.171<br>QCOM_Close: Weight=0.000<br>PG_Close: Weight=0.000<br>MSFT_Close: Weight=0.829",
          "Return: 36.750%<br>Volatility: 0.179<br>Sharpe Ratio: 2.053<br>MRK_Close: Weight=0.000<br>DE_Close: Weight=1.000<br>PG_Close: Weight=0.000<br>MO_Close: Weight=0.000",
          "Return: 15.725%<br>Volatility: 0.105<br>Sharpe Ratio: 1.497<br>DIS_Close: Weight=0.000<br>TMO_Close: Weight=0.525<br>MDT_Close: Weight=0.475",
          "Return: 51.904%<br>Volatility: 0.171<br>Sharpe Ratio: 3.031<br>F_Close: Weight=0.000<br>VRTX_Close: Weight=0.293<br>COST_Close: Weight=0.000<br>SYK_Close: Weight=0.707",
          "Return: 24.639%<br>Volatility: 0.082<br>Sharpe Ratio: 2.990<br>SAP_Close: Weight=0.394<br>KO_Close: Weight=0.606<br>NKE_Close: Weight=0.000",
          "Return: 31.437%<br>Volatility: 0.119<br>Sharpe Ratio: 2.631<br>PM_Close: Weight=0.582<br>CRM_Close: Weight=0.080<br>GOOG_Close: Weight=0.338",
          "Return: 19.290%<br>Volatility: 0.148<br>Sharpe Ratio: 1.306<br>INTC_Close: Weight=0.000<br>MO_Close: Weight=0.000<br>CRM_Close: Weight=1.000",
          "Return: 23.946%<br>Volatility: 0.127<br>Sharpe Ratio: 1.888<br>COST_Close: Weight=0.000<br>SYY_Close: Weight=0.000<br>HON_Close: Weight=0.733<br>NFLX_Close: Weight=0.267",
          "Return: 30.284%<br>Volatility: 0.120<br>Sharpe Ratio: 2.530<br>CRM_Close: Weight=0.000<br>GOOGL_Close: Weight=0.532<br>ETN_Close: Weight=0.468",
          "Return: 27.228%<br>Volatility: 0.092<br>Sharpe Ratio: 2.975<br>UNH_Close: Weight=0.532<br>V_Close: Weight=0.468<br>GE_Close: Weight=0.000",
          "Return: 23.963%<br>Volatility: 0.096<br>Sharpe Ratio: 2.490<br>GOOG_Close: Weight=0.484<br>AEP_Close: Weight=0.516<br>QCOM_Close: Weight=0.000",
          "Return: 31.061%<br>Volatility: 0.119<br>Sharpe Ratio: 2.614<br>EMR_Close: Weight=0.000<br>TMO_Close: Weight=0.219<br>MSFT_Close: Weight=0.781<br>MS_Close: Weight=0.000",
          "Return: 18.608%<br>Volatility: 0.107<br>Sharpe Ratio: 1.746<br>LMT_Close: Weight=1.000<br>QCOM_Close: Weight=0.000<br>EXC_Close: Weight=0.000",
          "Return: 41.923%<br>Volatility: 0.102<br>Sharpe Ratio: 4.123<br>BSX_Close: Weight=0.000<br>BABA_Close: Weight=0.271<br>MMM_Close: Weight=0.231<br>UNH_Close: Weight=0.498",
          "Return: 45.502%<br>Volatility: 0.145<br>Sharpe Ratio: 3.146<br>MCD_Close: Weight=1.000<br>VZ_Close: Weight=0.000<br>KR_Close: Weight=0.000<br>SO_Close: Weight=0.000",
          "Return: 20.737%<br>Volatility: 0.179<br>Sharpe Ratio: 1.156<br>TXN_Close: Weight=1.000<br>CPB_Close: Weight=0.000<br>SNAP_Close: Weight=0.000",
          "Return: 29.514%<br>Volatility: 0.110<br>Sharpe Ratio: 2.686<br>AMGN_Close: Weight=0.000<br>MSFT_Close: Weight=0.660<br>VZ_Close: Weight=0.000<br>SYK_Close: Weight=0.340",
          "Return: 16.657%<br>Volatility: 0.095<br>Sharpe Ratio: 1.757<br>DUK_Close: Weight=0.119<br>DIS_Close: Weight=0.000<br>QCOM_Close: Weight=0.000<br>LMT_Close: Weight=0.881",
          "Return: 13.214%<br>Volatility: 0.101<br>Sharpe Ratio: 1.306<br>EXC_Close: Weight=0.000<br>XOM_Close: Weight=0.000<br>AEP_Close: Weight=1.000",
          "Return: 19.290%<br>Volatility: 0.148<br>Sharpe Ratio: 1.306<br>GIS_Close: Weight=0.000<br>XOM_Close: Weight=0.000<br>CRM_Close: Weight=1.000",
          "Return: 21.212%<br>Volatility: 0.089<br>Sharpe Ratio: 2.382<br>SRE_Close: Weight=0.292<br>KR_Close: Weight=0.000<br>V_Close: Weight=0.708<br>RDY_Close: Weight=0.000",
          "Return: 21.985%<br>Volatility: 0.085<br>Sharpe Ratio: 2.588<br>ORCL_Close: Weight=0.317<br>PEP_Close: Weight=0.683<br>INTC_Close: Weight=0.000",
          "Return: 50.627%<br>Volatility: 0.320<br>Sharpe Ratio: 1.582<br>NFLX_Close: Weight=1.000<br>CPB_Close: Weight=0.000<br>MS_Close: Weight=0.000<br>BIIB_Close: Weight=0.000",
          "Return: 10.059%<br>Volatility: 0.100<br>Sharpe Ratio: 1.010<br>SNAP_Close: Weight=0.000<br>HD_Close: Weight=0.656<br>LLY_Close: Weight=0.344",
          "Return: 47.229%<br>Volatility: 0.121<br>Sharpe Ratio: 3.906<br>NEE_Close: Weight=0.273<br>MA_Close: Weight=0.000<br>ADBE_Close: Weight=0.727",
          "Return: 12.842%<br>Volatility: 0.107<br>Sharpe Ratio: 1.199<br>F_Close: Weight=0.000<br>SRE_Close: Weight=1.000<br>ABT_Close: Weight=0.000",
          "Return: 29.482%<br>Volatility: 0.118<br>Sharpe Ratio: 2.496<br>INTC_Close: Weight=0.000<br>SNAP_Close: Weight=0.000<br>UNH_Close: Weight=1.000",
          "Return: 42.583%<br>Volatility: 0.124<br>Sharpe Ratio: 3.422<br>F_Close: Weight=0.000<br>MRK_Close: Weight=0.000<br>ABBV_Close: Weight=1.000",
          "Return: 30.790%<br>Volatility: 0.135<br>Sharpe Ratio: 2.281<br>GILD_Close: Weight=0.000<br>PM_Close: Weight=1.000<br>AMGN_Close: Weight=0.000",
          "Return: -22.800%<br>Volatility: 0.183<br>Sharpe Ratio: -1.243<br>PFE_Close: Weight=0.000<br>XOM_Close: Weight=0.000<br>AMGN_Close: Weight=1.000<br>K_Close: Weight=0.000",
          "Return: 7.554%<br>Volatility: 0.158<br>Sharpe Ratio: 0.477<br>LLY_Close: Weight=1.000<br>VZ_Close: Weight=0.000<br>EXC_Close: Weight=0.000",
          "Return: 24.913%<br>Volatility: 0.091<br>Sharpe Ratio: 2.723<br>SO_Close: Weight=0.000<br>UNH_Close: Weight=0.644<br>SRE_Close: Weight=0.000<br>NEE_Close: Weight=0.356",
          "Return: 53.137%<br>Volatility: 0.171<br>Sharpe Ratio: 3.115<br>ISRG_Close: Weight=0.924<br>SYK_Close: Weight=0.076<br>T_Close: Weight=0.000",
          "Return: 19.409%<br>Volatility: 0.088<br>Sharpe Ratio: 2.196<br>WFC_Close: Weight=0.000<br>JNJ_Close: Weight=0.679<br>SRE_Close: Weight=0.321",
          "Return: 32.454%<br>Volatility: 0.110<br>Sharpe Ratio: 2.962<br>LMT_Close: Weight=0.478<br>PG_Close: Weight=0.000<br>AMD_Close: Weight=0.000<br>AMZN_Close: Weight=0.522",
          "Return: 60.018%<br>Volatility: 0.177<br>Sharpe Ratio: 3.397<br>BABA_Close: Weight=0.445<br>META_Close: Weight=0.555<br>CRM_Close: Weight=0.000",
          "Return: 25.135%<br>Volatility: 0.089<br>Sharpe Ratio: 2.826<br>UNH_Close: Weight=0.582<br>TXN_Close: Weight=0.091<br>LMT_Close: Weight=0.326",
          "Return: 21.986%<br>Volatility: 0.085<br>Sharpe Ratio: 2.588<br>F_Close: Weight=0.000<br>ORCL_Close: Weight=0.317<br>PEP_Close: Weight=0.683",
          "Return: 101.812%<br>Volatility: 0.379<br>Sharpe Ratio: 2.688<br>BA_Close: Weight=0.237<br>VRTX_Close: Weight=0.763<br>F_Close: Weight=0.000",
          "Return: 34.582%<br>Volatility: 0.137<br>Sharpe Ratio: 2.530<br>ABT_Close: Weight=0.000<br>MRK_Close: Weight=0.000<br>MSFT_Close: Weight=1.000",
          "Return: -8.871%<br>Volatility: 0.126<br>Sharpe Ratio: -0.706<br>CPB_Close: Weight=0.000<br>PG_Close: Weight=0.000<br>DHR_Close: Weight=1.000",
          "Return: 25.035%<br>Volatility: 0.121<br>Sharpe Ratio: 2.063<br>NEE_Close: Weight=0.753<br>UA_Close: Weight=0.000<br>NFLX_Close: Weight=0.247",
          "Return: 24.531%<br>Volatility: 0.139<br>Sharpe Ratio: 1.760<br>CRM_Close: Weight=0.594<br>CAT_Close: Weight=0.406<br>BMY_Close: Weight=0.000",
          "Return: 27.063%<br>Volatility: 0.095<br>Sharpe Ratio: 2.850<br>MSFT_Close: Weight=0.581<br>NEE_Close: Weight=0.419<br>CPB_Close: Weight=0.000",
          "Return: 96.040%<br>Volatility: 0.381<br>Sharpe Ratio: 2.522<br>K_Close: Weight=0.000<br>TSLA_Close: Weight=1.000<br>PFE_Close: Weight=0.000",
          "Return: 16.350%<br>Volatility: 0.080<br>Sharpe Ratio: 2.056<br>AEP_Close: Weight=0.419<br>K_Close: Weight=0.000<br>LMT_Close: Weight=0.581",
          "Return: 26.895%<br>Volatility: 0.116<br>Sharpe Ratio: 2.320<br>DE_Close: Weight=0.457<br>AMGN_Close: Weight=0.000<br>LMT_Close: Weight=0.543",
          "Return: -30.961%<br>Volatility: 0.176<br>Sharpe Ratio: -1.756<br>MRK_Close: Weight=0.000<br>WFC_Close: Weight=1.000<br>GS_Close: Weight=0.000",
          "Return: 57.498%<br>Volatility: 0.225<br>Sharpe Ratio: 2.552<br>ZBH_Close: Weight=0.349<br>DIS_Close: Weight=0.186<br>NVDA_Close: Weight=0.465",
          "Return: 39.508%<br>Volatility: 0.243<br>Sharpe Ratio: 1.626<br>NFLX_Close: Weight=0.714<br>CVX_Close: Weight=0.000<br>BA_Close: Weight=0.286<br>NKE_Close: Weight=0.000",
          "Return: 57.797%<br>Volatility: 0.165<br>Sharpe Ratio: 3.513<br>SAP_Close: Weight=0.574<br>NVDA_Close: Weight=0.165<br>REGN_Close: Weight=0.260",
          "Return: 23.965%<br>Volatility: 0.096<br>Sharpe Ratio: 2.490<br>DHR_Close: Weight=0.000<br>GOOG_Close: Weight=0.484<br>BAC_Close: Weight=0.000<br>AEP_Close: Weight=0.516",
          "Return: 23.395%<br>Volatility: 0.081<br>Sharpe Ratio: 2.889<br>GOOG_Close: Weight=0.298<br>MS_Close: Weight=0.000<br>JNJ_Close: Weight=0.381<br>AEP_Close: Weight=0.320",
          "Return: 55.877%<br>Volatility: 0.180<br>Sharpe Ratio: 3.112<br>ACN_Close: Weight=0.000<br>ISRG_Close: Weight=1.000<br>GM_Close: Weight=0.000",
          "Return: 50.686%<br>Volatility: 0.132<br>Sharpe Ratio: 3.835<br>SRE_Close: Weight=0.175<br>INTC_Close: Weight=0.000<br>ADBE_Close: Weight=0.825<br>CVX_Close: Weight=0.000",
          "Return: -33.166%<br>Volatility: 0.229<br>Sharpe Ratio: -1.448<br>GIS_Close: Weight=0.000<br>GILD_Close: Weight=0.000<br>BIIB_Close: Weight=1.000",
          "Return: -8.425%<br>Volatility: 0.144<br>Sharpe Ratio: -0.584<br>CVX_Close: Weight=0.000<br>IBM_Close: Weight=0.000<br>INTC_Close: Weight=1.000",
          "Return: 41.477%<br>Volatility: 0.116<br>Sharpe Ratio: 3.565<br>CMCSA_Close: Weight=0.037<br>ISRG_Close: Weight=0.475<br>UNH_Close: Weight=0.488",
          "Return: 19.646%<br>Volatility: 0.065<br>Sharpe Ratio: 3.043<br>SYY_Close: Weight=0.000<br>NFLX_Close: Weight=0.082<br>KO_Close: Weight=0.584<br>RTX_Close: Weight=0.335",
          "Return: 37.086%<br>Volatility: 0.104<br>Sharpe Ratio: 3.550<br>ISRG_Close: Weight=0.521<br>NEE_Close: Weight=0.479<br>NKE_Close: Weight=0.000",
          "Return: 12.664%<br>Volatility: 0.114<br>Sharpe Ratio: 1.110<br>WFC_Close: Weight=0.000<br>GM_Close: Weight=0.000<br>MDT_Close: Weight=1.000",
          "Return: 34.132%<br>Volatility: 0.142<br>Sharpe Ratio: 2.411<br>CPB_Close: Weight=0.000<br>BTI_Close: Weight=0.333<br>GOOGL_Close: Weight=0.667<br>RDY_Close: Weight=0.000",
          "Return: 23.867%<br>Volatility: 0.096<br>Sharpe Ratio: 2.483<br>CMCSA_Close: Weight=0.183<br>PM_Close: Weight=0.588<br>AEP_Close: Weight=0.229<br>RDY_Close: Weight=0.000",
          "Return: 39.132%<br>Volatility: 0.148<br>Sharpe Ratio: 2.644<br>IBM_Close: Weight=0.000<br>SAP_Close: Weight=0.850<br>SYY_Close: Weight=0.000<br>NFLX_Close: Weight=0.150",
          "Return: 42.583%<br>Volatility: 0.124<br>Sharpe Ratio: 3.422<br>K_Close: Weight=0.000<br>ABBV_Close: Weight=1.000<br>INTC_Close: Weight=0.000",
          "Return: 27.133%<br>Volatility: 0.091<br>Sharpe Ratio: 2.975<br>UNH_Close: Weight=0.530<br>BA_Close: Weight=0.007<br>DHR_Close: Weight=0.000<br>V_Close: Weight=0.463",
          "Return: 22.520%<br>Volatility: 0.111<br>Sharpe Ratio: 2.029<br>JNJ_Close: Weight=1.000<br>K_Close: Weight=0.000<br>COST_Close: Weight=0.000",
          "Return: 50.005%<br>Volatility: 0.156<br>Sharpe Ratio: 3.211<br>NVDA_Close: Weight=0.248<br>ACN_Close: Weight=0.000<br>PM_Close: Weight=0.752",
          "Return: 38.291%<br>Volatility: 0.112<br>Sharpe Ratio: 3.417<br>VRTX_Close: Weight=0.167<br>CAT_Close: Weight=0.177<br>CRM_Close: Weight=0.087<br>PEP_Close: Weight=0.569",
          "Return: 33.440%<br>Volatility: 0.090<br>Sharpe Ratio: 3.708<br>CSCO_Close: Weight=0.000<br>MCD_Close: Weight=0.552<br>LMT_Close: Weight=0.448",
          "Return: 22.636%<br>Volatility: 0.087<br>Sharpe Ratio: 2.599<br>MO_Close: Weight=0.000<br>UA_Close: Weight=0.000<br>MA_Close: Weight=0.517<br>PEP_Close: Weight=0.483",
          "Return: 46.891%<br>Volatility: 0.154<br>Sharpe Ratio: 3.051<br>MRK_Close: Weight=0.000<br>BA_Close: Weight=0.000<br>MA_Close: Weight=0.437<br>PYPL_Close: Weight=0.563",
          "Return: 28.978%<br>Volatility: 0.095<br>Sharpe Ratio: 3.063<br>AMZN_Close: Weight=0.443<br>PEP_Close: Weight=0.557<br>AMGN_Close: Weight=0.000",
          "Return: 24.048%<br>Volatility: 0.092<br>Sharpe Ratio: 2.628<br>PG_Close: Weight=0.000<br>PM_Close: Weight=0.494<br>RTX_Close: Weight=0.506",
          "Return: 21.797%<br>Volatility: 0.126<br>Sharpe Ratio: 1.734<br>SRE_Close: Weight=0.533<br>CSCO_Close: Weight=0.000<br>BTI_Close: Weight=0.467",
          "Return: 16.554%<br>Volatility: 0.076<br>Sharpe Ratio: 2.186<br>KO_Close: Weight=1.000<br>AMD_Close: Weight=0.000<br>INTC_Close: Weight=0.000",
          "Return: 129.746%<br>Volatility: 0.486<br>Sharpe Ratio: 2.668<br>EXC_Close: Weight=0.000<br>VRTX_Close: Weight=1.000<br>SYY_Close: Weight=0.000",
          "Return: 22.019%<br>Volatility: 0.096<br>Sharpe Ratio: 2.288<br>V_Close: Weight=0.722<br>HON_Close: Weight=0.228<br>TXN_Close: Weight=0.000<br>CRM_Close: Weight=0.050",
          "Return: 25.449%<br>Volatility: 0.090<br>Sharpe Ratio: 2.813<br>JNJ_Close: Weight=0.400<br>SYK_Close: Weight=0.183<br>PG_Close: Weight=0.000<br>PM_Close: Weight=0.417",
          "Return: 129.746%<br>Volatility: 0.486<br>Sharpe Ratio: 2.668<br>VRTX_Close: Weight=1.000<br>AMD_Close: Weight=0.000<br>GILD_Close: Weight=0.000<br>CVX_Close: Weight=0.000",
          "Return: 33.654%<br>Volatility: 0.101<br>Sharpe Ratio: 3.347<br>CRM_Close: Weight=0.073<br>MCD_Close: Weight=0.623<br>SRE_Close: Weight=0.304",
          "Return: 37.100%<br>Volatility: 0.147<br>Sharpe Ratio: 2.516<br>RMD_Close: Weight=0.000<br>SAP_Close: Weight=1.000<br>GIS_Close: Weight=0.000",
          "Return: 31.301%<br>Volatility: 0.123<br>Sharpe Ratio: 2.546<br>MSFT_Close: Weight=0.839<br>VZ_Close: Weight=0.000<br>HON_Close: Weight=0.161<br>GIS_Close: Weight=0.000",
          "Return: 37.100%<br>Volatility: 0.147<br>Sharpe Ratio: 2.516<br>SAP_Close: Weight=1.000<br>AMD_Close: Weight=0.000<br>COST_Close: Weight=0.000<br>BMY_Close: Weight=0.000",
          "Return: 28.023%<br>Volatility: 0.108<br>Sharpe Ratio: 2.599<br>NEE_Close: Weight=0.629<br>GS_Close: Weight=0.000<br>NKE_Close: Weight=0.000<br>EW_Close: Weight=0.371",
          "Return: 61.041%<br>Volatility: 0.210<br>Sharpe Ratio: 2.909<br>NKE_Close: Weight=0.000<br>PYPL_Close: Weight=1.000<br>CPB_Close: Weight=0.000",
          "Return: 27.459%<br>Volatility: 0.122<br>Sharpe Ratio: 2.257<br>JNJ_Close: Weight=0.824<br>NFLX_Close: Weight=0.176<br>QCOM_Close: Weight=0.000<br>IBM_Close: Weight=0.000",
          "Return: 44.136%<br>Volatility: 0.104<br>Sharpe Ratio: 4.228<br>DUK_Close: Weight=0.052<br>BABA_Close: Weight=0.241<br>UNH_Close: Weight=0.489<br>AMZN_Close: Weight=0.218",
          "Return: 32.197%<br>Volatility: 0.233<br>Sharpe Ratio: 1.380<br>SYY_Close: Weight=0.000<br>CAT_Close: Weight=1.000<br>JPM_Close: Weight=0.000",
          "Return: -8.623%<br>Volatility: 0.182<br>Sharpe Ratio: -0.474<br>GE_Close: Weight=0.000<br>BMY_Close: Weight=1.000<br>MS_Close: Weight=0.000<br>ACN_Close: Weight=0.000",
          "Return: 37.100%<br>Volatility: 0.147<br>Sharpe Ratio: 2.516<br>SAP_Close: Weight=1.000<br>KR_Close: Weight=0.000<br>CPB_Close: Weight=0.000",
          "Return: 108.207%<br>Volatility: 0.443<br>Sharpe Ratio: 2.442<br>GE_Close: Weight=0.000<br>CPB_Close: Weight=0.000<br>RMD_Close: Weight=0.000<br>NVDA_Close: Weight=1.000",
          "Return: 40.861%<br>Volatility: 0.211<br>Sharpe Ratio: 1.938<br>CAT_Close: Weight=0.530<br>MRK_Close: Weight=0.000<br>NFLX_Close: Weight=0.470",
          "Return: 26.323%<br>Volatility: 0.067<br>Sharpe Ratio: 3.957<br>KO_Close: Weight=0.389<br>RTX_Close: Weight=0.282<br>GM_Close: Weight=0.000<br>MCD_Close: Weight=0.329",
          "Return: -122.379%<br>Volatility: 0.669<br>Sharpe Ratio: -1.830<br>GM_Close: Weight=0.000<br>SNAP_Close: Weight=1.000<br>MO_Close: Weight=0.000",
          "Return: 39.132%<br>Volatility: 0.148<br>Sharpe Ratio: 2.644<br>NFLX_Close: Weight=0.150<br>SAP_Close: Weight=0.850<br>VZ_Close: Weight=0.000",
          "Return: 19.531%<br>Volatility: 0.098<br>Sharpe Ratio: 1.989<br>DUK_Close: Weight=0.000<br>SRE_Close: Weight=0.436<br>ETN_Close: Weight=0.564",
          "Return: 47.299%<br>Volatility: 0.230<br>Sharpe Ratio: 2.055<br>EW_Close: Weight=1.000<br>JPM_Close: Weight=0.000<br>SNAP_Close: Weight=0.000",
          "Return: 56.979%<br>Volatility: 0.174<br>Sharpe Ratio: 3.275<br>SO_Close: Weight=0.000<br>MSFT_Close: Weight=0.765<br>VRTX_Close: Weight=0.235",
          "Return: 18.821%<br>Volatility: 0.108<br>Sharpe Ratio: 1.744<br>CAT_Close: Weight=0.315<br>CVX_Close: Weight=0.000<br>SRE_Close: Weight=0.578<br>BA_Close: Weight=0.107",
          "Return: 19.290%<br>Volatility: 0.148<br>Sharpe Ratio: 1.306<br>DHR_Close: Weight=0.000<br>CRM_Close: Weight=1.000<br>F_Close: Weight=0.000",
          "Return: 16.693%<br>Volatility: 0.089<br>Sharpe Ratio: 1.869<br>MDT_Close: Weight=0.156<br>AMGN_Close: Weight=0.000<br>HD_Close: Weight=0.228<br>SYK_Close: Weight=0.616",
          "Return: 58.725%<br>Volatility: 0.155<br>Sharpe Ratio: 3.798<br>MO_Close: Weight=0.000<br>MSFT_Close: Weight=0.000<br>ADBE_Close: Weight=1.000",
          "Return: 30.790%<br>Volatility: 0.135<br>Sharpe Ratio: 2.281<br>BMY_Close: Weight=0.000<br>PM_Close: Weight=1.000<br>AMGN_Close: Weight=0.000",
          "Return: 44.175%<br>Volatility: 0.144<br>Sharpe Ratio: 3.060<br>MA_Close: Weight=0.388<br>PYPL_Close: Weight=0.525<br>HD_Close: Weight=0.087",
          "Return: 45.886%<br>Volatility: 0.141<br>Sharpe Ratio: 3.263<br>TSLA_Close: Weight=0.254<br>DE_Close: Weight=0.446<br>CRM_Close: Weight=0.201<br>MDT_Close: Weight=0.100",
          "Return: 129.746%<br>Volatility: 0.486<br>Sharpe Ratio: 2.668<br>INTC_Close: Weight=0.000<br>EXC_Close: Weight=0.000<br>VRTX_Close: Weight=1.000",
          "Return: 28.418%<br>Volatility: 0.100<br>Sharpe Ratio: 2.855<br>GOOGL_Close: Weight=0.278<br>ETN_Close: Weight=0.266<br>RTX_Close: Weight=0.216<br>ORCL_Close: Weight=0.240",
          "Return: 19.290%<br>Volatility: 0.148<br>Sharpe Ratio: 1.306<br>COST_Close: Weight=0.000<br>CRM_Close: Weight=1.000<br>AMGN_Close: Weight=0.000",
          "Return: 18.499%<br>Volatility: 0.142<br>Sharpe Ratio: 1.306<br>TMO_Close: Weight=1.000<br>EXC_Close: Weight=0.000<br>BMY_Close: Weight=0.000",
          "Return: 24.259%<br>Volatility: 0.101<br>Sharpe Ratio: 2.409<br>MA_Close: Weight=0.720<br>SRE_Close: Weight=0.280<br>ACN_Close: Weight=0.000",
          "Return: 22.234%<br>Volatility: 0.083<br>Sharpe Ratio: 2.672<br>WMT_Close: Weight=0.418<br>MMM_Close: Weight=0.582<br>GM_Close: Weight=0.000",
          "Return: 25.238%<br>Volatility: 0.074<br>Sharpe Ratio: 3.404<br>META_Close: Weight=0.336<br>KO_Close: Weight=0.454<br>NEE_Close: Weight=0.210",
          "Return: 12.455%<br>Volatility: 0.102<br>Sharpe Ratio: 1.219<br>AMD_Close: Weight=0.000<br>MDT_Close: Weight=0.785<br>DHR_Close: Weight=0.000<br>BA_Close: Weight=0.215",
          "Return: 23.110%<br>Volatility: 0.082<br>Sharpe Ratio: 2.824<br>V_Close: Weight=0.495<br>QCOM_Close: Weight=0.000<br>SYK_Close: Weight=0.223<br>WMT_Close: Weight=0.282",
          "Return: 31.892%<br>Volatility: 0.107<br>Sharpe Ratio: 2.977<br>DE_Close: Weight=0.332<br>UNH_Close: Weight=0.668<br>NKE_Close: Weight=0.000<br>GM_Close: Weight=0.000",
          "Return: 18.240%<br>Volatility: 0.066<br>Sharpe Ratio: 2.756<br>PEP_Close: Weight=0.043<br>MMM_Close: Weight=0.336<br>KO_Close: Weight=0.621<br>KR_Close: Weight=0.000",
          "Return: 20.737%<br>Volatility: 0.179<br>Sharpe Ratio: 1.156<br>TXN_Close: Weight=1.000<br>QCOM_Close: Weight=0.000<br>PFE_Close: Weight=0.000",
          "Return: 16.637%<br>Volatility: 0.105<br>Sharpe Ratio: 1.584<br>NEE_Close: Weight=1.000<br>SYY_Close: Weight=0.000<br>PG_Close: Weight=0.000",
          "Return: 35.196%<br>Volatility: 0.165<br>Sharpe Ratio: 2.129<br>GOOGL_Close: Weight=1.000<br>CSCO_Close: Weight=0.000<br>BAC_Close: Weight=0.000<br>KR_Close: Weight=0.000",
          "Return: -19.860%<br>Volatility: 0.219<br>Sharpe Ratio: -0.907<br>MS_Close: Weight=1.000<br>T_Close: Weight=0.000<br>F_Close: Weight=0.000",
          "Return: 15.896%<br>Volatility: 0.073<br>Sharpe Ratio: 2.182<br>ACN_Close: Weight=0.000<br>AEP_Close: Weight=0.371<br>RTX_Close: Weight=0.629",
          "Return: 46.163%<br>Volatility: 0.141<br>Sharpe Ratio: 3.285<br>NFLX_Close: Weight=0.129<br>MCD_Close: Weight=0.871<br>JPM_Close: Weight=0.000",
          "Return: 26.629%<br>Volatility: 0.088<br>Sharpe Ratio: 3.027<br>MA_Close: Weight=0.323<br>T_Close: Weight=0.000<br>PEP_Close: Weight=0.471<br>EW_Close: Weight=0.206",
          "Return: 16.167%<br>Volatility: 0.087<br>Sharpe Ratio: 1.850<br>PEP_Close: Weight=1.000<br>DUK_Close: Weight=0.000<br>CPB_Close: Weight=0.000<br>AMGN_Close: Weight=0.000",
          "Return: 46.194%<br>Volatility: 0.134<br>Sharpe Ratio: 3.451<br>BMY_Close: Weight=0.000<br>MSFT_Close: Weight=0.455<br>F_Close: Weight=0.000<br>ISRG_Close: Weight=0.545",
          "Return: 18.499%<br>Volatility: 0.142<br>Sharpe Ratio: 1.306<br>TMO_Close: Weight=1.000<br>CVX_Close: Weight=0.000<br>F_Close: Weight=0.000<br>CSCO_Close: Weight=0.000",
          "Return: 24.671%<br>Volatility: 0.110<br>Sharpe Ratio: 2.234<br>V_Close: Weight=1.000<br>QCOM_Close: Weight=0.000<br>PG_Close: Weight=0.000",
          "Return: 30.255%<br>Volatility: 0.137<br>Sharpe Ratio: 2.211<br>GOOGL_Close: Weight=0.756<br>CVX_Close: Weight=0.000<br>CMCSA_Close: Weight=0.244",
          "Return: 41.759%<br>Volatility: 0.151<br>Sharpe Ratio: 2.762<br>HD_Close: Weight=0.307<br>SNAP_Close: Weight=0.000<br>MDT_Close: Weight=0.339<br>TSLA_Close: Weight=0.354",
          "Return: 36.750%<br>Volatility: 0.179<br>Sharpe Ratio: 2.053<br>ABT_Close: Weight=0.000<br>DE_Close: Weight=1.000<br>KR_Close: Weight=0.000",
          "Return: 18.574%<br>Volatility: 0.070<br>Sharpe Ratio: 2.637<br>AAPL_Close: Weight=0.232<br>KO_Close: Weight=0.737<br>DHR_Close: Weight=0.000<br>CMCSA_Close: Weight=0.031",
          "Return: 37.031%<br>Volatility: 0.138<br>Sharpe Ratio: 2.686<br>META_Close: Weight=0.867<br>JPM_Close: Weight=0.000<br>UA_Close: Weight=0.000<br>DUK_Close: Weight=0.133",
          "Return: 50.938%<br>Volatility: 0.164<br>Sharpe Ratio: 3.115<br>META_Close: Weight=0.705<br>SO_Close: Weight=0.000<br>REGN_Close: Weight=0.295",
          "Return: 11.373%<br>Volatility: 0.134<br>Sharpe Ratio: 0.846<br>SO_Close: Weight=0.000<br>VZ_Close: Weight=0.000<br>BAC_Close: Weight=0.000<br>HD_Close: Weight=1.000",
          "Return: 12.842%<br>Volatility: 0.107<br>Sharpe Ratio: 1.199<br>SRE_Close: Weight=1.000<br>CSCO_Close: Weight=0.000<br>IBM_Close: Weight=0.000",
          "Return: 34.500%<br>Volatility: 0.187<br>Sharpe Ratio: 1.843<br>ABT_Close: Weight=0.000<br>ORCL_Close: Weight=1.000<br>PFE_Close: Weight=0.000",
          "Return: 39.520%<br>Volatility: 0.107<br>Sharpe Ratio: 3.677<br>BABA_Close: Weight=0.382<br>RMD_Close: Weight=0.000<br>AEP_Close: Weight=0.618",
          "Return: 35.438%<br>Volatility: 0.169<br>Sharpe Ratio: 2.092<br>CVX_Close: Weight=0.000<br>GOOG_Close: Weight=1.000<br>MS_Close: Weight=0.000<br>PFE_Close: Weight=0.000",
          "Return: 27.068%<br>Volatility: 0.092<br>Sharpe Ratio: 2.949<br>MMM_Close: Weight=0.456<br>ORCL_Close: Weight=0.278<br>ETN_Close: Weight=0.127<br>CAT_Close: Weight=0.139",
          "Return: 13.346%<br>Volatility: 0.080<br>Sharpe Ratio: 1.659<br>AEP_Close: Weight=0.629<br>BSX_Close: Weight=0.371<br>PFE_Close: Weight=0.000",
          "Return: 39.079%<br>Volatility: 0.145<br>Sharpe Ratio: 2.692<br>AMZN_Close: Weight=0.800<br>CMCSA_Close: Weight=0.200<br>VZ_Close: Weight=0.000",
          "Return: 29.482%<br>Volatility: 0.118<br>Sharpe Ratio: 2.496<br>GILD_Close: Weight=0.000<br>UNH_Close: Weight=1.000<br>CVX_Close: Weight=0.000<br>GS_Close: Weight=0.000",
          "Return: 81.537%<br>Volatility: 0.307<br>Sharpe Ratio: 2.660<br>WFC_Close: Weight=0.000<br>TSLA_Close: Weight=0.681<br>NFLX_Close: Weight=0.319",
          "Return: 58.725%<br>Volatility: 0.155<br>Sharpe Ratio: 3.798<br>MO_Close: Weight=0.000<br>GE_Close: Weight=0.000<br>ADBE_Close: Weight=1.000<br>GOOG_Close: Weight=0.000",
          "Return: 19.822%<br>Volatility: 0.092<br>Sharpe Ratio: 2.161<br>NEE_Close: Weight=0.575<br>JPM_Close: Weight=0.000<br>CRM_Close: Weight=0.092<br>AAPL_Close: Weight=0.333",
          "Return: 33.383%<br>Volatility: 0.116<br>Sharpe Ratio: 2.881<br>COST_Close: Weight=0.000<br>RTX_Close: Weight=0.705<br>REGN_Close: Weight=0.295",
          "Return: -27.547%<br>Volatility: 0.259<br>Sharpe Ratio: -1.064<br>ACN_Close: Weight=0.000<br>AMGN_Close: Weight=0.000<br>NKE_Close: Weight=1.000<br>K_Close: Weight=0.000",
          "Return: 19.679%<br>Volatility: 0.116<br>Sharpe Ratio: 1.703<br>SYK_Close: Weight=1.000<br>SNAP_Close: Weight=0.000<br>AMD_Close: Weight=0.000",
          "Return: 22.587%<br>Volatility: 0.097<br>Sharpe Ratio: 2.335<br>AAPL_Close: Weight=0.350<br>MO_Close: Weight=0.000<br>MMM_Close: Weight=0.592<br>CMCSA_Close: Weight=0.058",
          "Return: 36.308%<br>Volatility: 0.106<br>Sharpe Ratio: 3.422<br>VRTX_Close: Weight=0.148<br>JNJ_Close: Weight=0.436<br>RTX_Close: Weight=0.416",
          "Return: 16.637%<br>Volatility: 0.105<br>Sharpe Ratio: 1.584<br>NEE_Close: Weight=1.000<br>PG_Close: Weight=0.000<br>COST_Close: Weight=0.000",
          "Return: 58.725%<br>Volatility: 0.155<br>Sharpe Ratio: 3.798<br>BA_Close: Weight=0.000<br>ADBE_Close: Weight=1.000<br>CPB_Close: Weight=0.000<br>DUK_Close: Weight=0.000",
          "Return: 36.034%<br>Volatility: 0.124<br>Sharpe Ratio: 2.916<br>META_Close: Weight=0.641<br>QCOM_Close: Weight=0.000<br>ETN_Close: Weight=0.359",
          "Return: 68.782%<br>Volatility: 0.250<br>Sharpe Ratio: 2.746<br>TSLA_Close: Weight=0.573<br>MRK_Close: Weight=0.000<br>CAT_Close: Weight=0.427<br>GIS_Close: Weight=0.000",
          "Return: 16.826%<br>Volatility: 0.067<br>Sharpe Ratio: 2.519<br>CPB_Close: Weight=0.000<br>KO_Close: Weight=0.721<br>TMO_Close: Weight=0.203<br>CMCSA_Close: Weight=0.076",
          "Return: 11.373%<br>Volatility: 0.134<br>Sharpe Ratio: 0.846<br>HD_Close: Weight=1.000<br>MS_Close: Weight=0.000<br>SNAP_Close: Weight=0.000",
          "Return: 47.805%<br>Volatility: 0.150<br>Sharpe Ratio: 3.185<br>KR_Close: Weight=0.000<br>REGN_Close: Weight=0.312<br>SAP_Close: Weight=0.688",
          "Return: 58.725%<br>Volatility: 0.155<br>Sharpe Ratio: 3.798<br>ADBE_Close: Weight=1.000<br>TXN_Close: Weight=0.000<br>T_Close: Weight=0.000<br>XOM_Close: Weight=0.000",
          "Return: 12.842%<br>Volatility: 0.107<br>Sharpe Ratio: 1.199<br>SNAP_Close: Weight=0.000<br>SRE_Close: Weight=1.000<br>DUK_Close: Weight=0.000",
          "Return: 14.235%<br>Volatility: 0.099<br>Sharpe Ratio: 1.445<br>HON_Close: Weight=1.000<br>T_Close: Weight=0.000<br>BAC_Close: Weight=0.000",
          "Return: 12.842%<br>Volatility: 0.107<br>Sharpe Ratio: 1.199<br>SRE_Close: Weight=1.000<br>ACN_Close: Weight=0.000<br>IBM_Close: Weight=0.000<br>GIS_Close: Weight=0.000",
          "Return: 2.265%<br>Volatility: 0.089<br>Sharpe Ratio: 0.255<br>GM_Close: Weight=0.000<br>IBM_Close: Weight=0.000<br>DUK_Close: Weight=1.000<br>VZ_Close: Weight=0.000",
          "Return: 13.109%<br>Volatility: 0.118<br>Sharpe Ratio: 1.112<br>BA_Close: Weight=0.246<br>BSX_Close: Weight=0.754<br>AMD_Close: Weight=0.000",
          "Return: 31.017%<br>Volatility: 0.111<br>Sharpe Ratio: 2.785<br>SAP_Close: Weight=0.511<br>BSX_Close: Weight=0.000<br>V_Close: Weight=0.489<br>BMY_Close: Weight=0.000",
          "Return: 61.041%<br>Volatility: 0.210<br>Sharpe Ratio: 2.909<br>DHR_Close: Weight=0.000<br>JPM_Close: Weight=0.000<br>PYPL_Close: Weight=1.000",
          "Return: 108.207%<br>Volatility: 0.443<br>Sharpe Ratio: 2.442<br>WFC_Close: Weight=0.000<br>BIIB_Close: Weight=0.000<br>GILD_Close: Weight=0.000<br>NVDA_Close: Weight=1.000",
          "Return: 35.687%<br>Volatility: 0.120<br>Sharpe Ratio: 2.973<br>LMT_Close: Weight=0.548<br>BIIB_Close: Weight=0.000<br>GOOG_Close: Weight=0.188<br>REGN_Close: Weight=0.263",
          "Return: 47.299%<br>Volatility: 0.230<br>Sharpe Ratio: 2.055<br>CSCO_Close: Weight=0.000<br>EW_Close: Weight=1.000<br>SO_Close: Weight=0.000",
          "Return: 35.857%<br>Volatility: 0.106<br>Sharpe Ratio: 3.386<br>JPM_Close: Weight=0.000<br>INTC_Close: Weight=0.000<br>LLY_Close: Weight=0.254<br>MCD_Close: Weight=0.746",
          "Return: 19.290%<br>Volatility: 0.148<br>Sharpe Ratio: 1.306<br>BIIB_Close: Weight=0.000<br>CRM_Close: Weight=1.000<br>IBM_Close: Weight=0.000<br>GILD_Close: Weight=0.000",
          "Return: 49.159%<br>Volatility: 0.184<br>Sharpe Ratio: 2.671<br>TSLA_Close: Weight=0.429<br>MDT_Close: Weight=0.478<br>TXN_Close: Weight=0.094<br>XOM_Close: Weight=0.000",
          "Return: 129.746%<br>Volatility: 0.486<br>Sharpe Ratio: 2.668<br>CSCO_Close: Weight=0.000<br>XOM_Close: Weight=0.000<br>SYY_Close: Weight=0.000<br>VRTX_Close: Weight=1.000",
          "Return: 21.984%<br>Volatility: 0.111<br>Sharpe Ratio: 1.976<br>CRM_Close: Weight=0.247<br>NFLX_Close: Weight=0.179<br>HON_Close: Weight=0.574<br>AMGN_Close: Weight=0.000",
          "Return: 32.197%<br>Volatility: 0.233<br>Sharpe Ratio: 1.380<br>MS_Close: Weight=0.000<br>K_Close: Weight=0.000<br>CAT_Close: Weight=1.000",
          "Return: 25.462%<br>Volatility: 0.162<br>Sharpe Ratio: 1.576<br>AAPL_Close: Weight=1.000<br>CSCO_Close: Weight=0.000<br>ABT_Close: Weight=0.000",
          "Return: 46.207%<br>Volatility: 0.131<br>Sharpe Ratio: 3.540<br>SAP_Close: Weight=0.272<br>ISRG_Close: Weight=0.515<br>ORCL_Close: Weight=0.213<br>T_Close: Weight=0.000",
          "Return: 32.405%<br>Volatility: 0.150<br>Sharpe Ratio: 2.160<br>ZBH_Close: Weight=0.275<br>DE_Close: Weight=0.725<br>XOM_Close: Weight=0.000",
          "Return: 20.942%<br>Volatility: 0.176<br>Sharpe Ratio: 1.190<br>AMD_Close: Weight=0.000<br>SO_Close: Weight=0.000<br>AMGN_Close: Weight=0.000<br>ZBH_Close: Weight=1.000",
          "Return: 76.213%<br>Volatility: 0.311<br>Sharpe Ratio: 2.451<br>GILD_Close: Weight=0.000<br>DUK_Close: Weight=0.302<br>NVDA_Close: Weight=0.698",
          "Return: 21.627%<br>Volatility: 0.118<br>Sharpe Ratio: 1.830<br>BIIB_Close: Weight=0.000<br>MMM_Close: Weight=1.000<br>AMGN_Close: Weight=0.000",
          "Return: 28.023%<br>Volatility: 0.124<br>Sharpe Ratio: 2.251<br>GE_Close: Weight=0.000<br>GOOGL_Close: Weight=0.699<br>HD_Close: Weight=0.301",
          "Return: 13.570%<br>Volatility: 0.134<br>Sharpe Ratio: 1.015<br>EMR_Close: Weight=0.000<br>F_Close: Weight=0.000<br>BSX_Close: Weight=1.000",
          "Return: 21.959%<br>Volatility: 0.084<br>Sharpe Ratio: 2.601<br>ORCL_Close: Weight=0.359<br>AEP_Close: Weight=0.318<br>NEE_Close: Weight=0.323<br>SNAP_Close: Weight=0.000",
          "Return: 50.627%<br>Volatility: 0.320<br>Sharpe Ratio: 1.582<br>JPM_Close: Weight=0.000<br>NFLX_Close: Weight=1.000<br>MS_Close: Weight=0.000",
          "Return: 26.581%<br>Volatility: 0.098<br>Sharpe Ratio: 2.725<br>VZ_Close: Weight=0.000<br>WMT_Close: Weight=0.340<br>EW_Close: Weight=0.282<br>HON_Close: Weight=0.378",
          "Return: 17.204%<br>Volatility: 0.083<br>Sharpe Ratio: 2.082<br>CPB_Close: Weight=0.000<br>ZBH_Close: Weight=0.217<br>PEP_Close: Weight=0.783",
          "Return: 20.673%<br>Volatility: 0.079<br>Sharpe Ratio: 2.619<br>NEE_Close: Weight=0.347<br>MMM_Close: Weight=0.384<br>AAPL_Close: Weight=0.245<br>CMCSA_Close: Weight=0.024",
          "Return: 17.452%<br>Volatility: 0.095<br>Sharpe Ratio: 1.839<br>HD_Close: Weight=0.268<br>MS_Close: Weight=0.000<br>SYK_Close: Weight=0.732",
          "Return: 20.737%<br>Volatility: 0.179<br>Sharpe Ratio: 1.156<br>TXN_Close: Weight=1.000<br>JPM_Close: Weight=0.000<br>RDY_Close: Weight=0.000",
          "Return: 34.027%<br>Volatility: 0.099<br>Sharpe Ratio: 3.439<br>AEP_Close: Weight=0.034<br>NEE_Close: Weight=0.359<br>GS_Close: Weight=0.000<br>MCD_Close: Weight=0.607",
          "Return: -58.090%<br>Volatility: 0.694<br>Sharpe Ratio: -0.837<br>VZ_Close: Weight=0.000<br>AMD_Close: Weight=1.000<br>CVX_Close: Weight=0.000<br>EMR_Close: Weight=0.000",
          "Return: 35.438%<br>Volatility: 0.169<br>Sharpe Ratio: 2.092<br>GOOG_Close: Weight=1.000<br>RDY_Close: Weight=0.000<br>COST_Close: Weight=0.000",
          "Return: -58.090%<br>Volatility: 0.694<br>Sharpe Ratio: -0.837<br>AMD_Close: Weight=1.000<br>INTC_Close: Weight=0.000<br>GS_Close: Weight=0.000",
          "Return: 35.493%<br>Volatility: 0.136<br>Sharpe Ratio: 2.602<br>AAPL_Close: Weight=0.353<br>BTI_Close: Weight=0.268<br>BMY_Close: Weight=0.000<br>EW_Close: Weight=0.379",
          "Return: 54.341%<br>Volatility: 0.162<br>Sharpe Ratio: 3.359<br>KR_Close: Weight=0.000<br>WMT_Close: Weight=0.470<br>BABA_Close: Weight=0.530",
          "Return: 29.804%<br>Volatility: 0.136<br>Sharpe Ratio: 2.196<br>GOOGL_Close: Weight=0.663<br>AAPL_Close: Weight=0.219<br>LLY_Close: Weight=0.118",
          "Return: 45.854%<br>Volatility: 0.150<br>Sharpe Ratio: 3.060<br>AMZN_Close: Weight=0.661<br>EW_Close: Weight=0.339<br>F_Close: Weight=0.000",
          "Return: 30.447%<br>Volatility: 0.101<br>Sharpe Ratio: 3.000<br>AMZN_Close: Weight=0.469<br>CVX_Close: Weight=0.000<br>RTX_Close: Weight=0.531<br>F_Close: Weight=0.000",
          "Return: 18.499%<br>Volatility: 0.142<br>Sharpe Ratio: 1.306<br>CPB_Close: Weight=0.000<br>TMO_Close: Weight=1.000<br>BIIB_Close: Weight=0.000<br>KR_Close: Weight=0.000",
          "Return: 25.707%<br>Volatility: 0.110<br>Sharpe Ratio: 2.336<br>HON_Close: Weight=0.206<br>AMD_Close: Weight=0.000<br>MA_Close: Weight=0.794",
          "Return: 23.649%<br>Volatility: 0.095<br>Sharpe Ratio: 2.487<br>CAT_Close: Weight=0.205<br>JNJ_Close: Weight=0.682<br>CMCSA_Close: Weight=0.113<br>AMGN_Close: Weight=0.000",
          "Return: 39.466%<br>Volatility: 0.105<br>Sharpe Ratio: 3.747<br>HON_Close: Weight=0.000<br>RTX_Close: Weight=0.350<br>ISRG_Close: Weight=0.373<br>AMZN_Close: Weight=0.278",
          "Return: 45.395%<br>Volatility: 0.123<br>Sharpe Ratio: 3.703<br>CSCO_Close: Weight=0.000<br>VRTX_Close: Weight=0.154<br>UNH_Close: Weight=0.660<br>BTI_Close: Weight=0.186",
          "Return: 12.842%<br>Volatility: 0.107<br>Sharpe Ratio: 1.199<br>SRE_Close: Weight=1.000<br>INTC_Close: Weight=0.000<br>RDY_Close: Weight=0.000",
          "Return: 67.511%<br>Volatility: 0.206<br>Sharpe Ratio: 3.276<br>PG_Close: Weight=0.000<br>DE_Close: Weight=0.669<br>VRTX_Close: Weight=0.331<br>EMR_Close: Weight=0.000",
          "Return: 71.439%<br>Volatility: 0.300<br>Sharpe Ratio: 2.378<br>AMD_Close: Weight=0.000<br>REGN_Close: Weight=1.000<br>GILD_Close: Weight=0.000",
          "Return: 2.265%<br>Volatility: 0.089<br>Sharpe Ratio: 0.255<br>F_Close: Weight=0.000<br>DUK_Close: Weight=1.000<br>XOM_Close: Weight=0.000<br>GE_Close: Weight=0.000",
          "Return: 42.505%<br>Volatility: 0.105<br>Sharpe Ratio: 4.057<br>IBM_Close: Weight=0.000<br>META_Close: Weight=0.360<br>ABBV_Close: Weight=0.640<br>RDY_Close: Weight=0.000",
          "Return: 37.827%<br>Volatility: 0.103<br>Sharpe Ratio: 3.668<br>SNAP_Close: Weight=0.000<br>ABBV_Close: Weight=0.734<br>ETN_Close: Weight=0.266",
          "Return: 16.554%<br>Volatility: 0.076<br>Sharpe Ratio: 2.186<br>CVX_Close: Weight=0.000<br>KR_Close: Weight=0.000<br>KO_Close: Weight=1.000<br>EXC_Close: Weight=0.000",
          "Return: -22.800%<br>Volatility: 0.183<br>Sharpe Ratio: -1.243<br>AMGN_Close: Weight=1.000<br>GM_Close: Weight=0.000<br>WFC_Close: Weight=0.000",
          "Return: 41.082%<br>Volatility: 0.129<br>Sharpe Ratio: 3.188<br>IBM_Close: Weight=0.000<br>MCD_Close: Weight=0.844<br>TXN_Close: Weight=0.061<br>CMCSA_Close: Weight=0.095",
          "Return: 27.286%<br>Volatility: 0.153<br>Sharpe Ratio: 1.779<br>SNAP_Close: Weight=0.000<br>BTI_Close: Weight=0.574<br>ZBH_Close: Weight=0.426",
          "Return: 17.291%<br>Volatility: 0.072<br>Sharpe Ratio: 2.394<br>PG_Close: Weight=0.000<br>ZBH_Close: Weight=0.168<br>AMD_Close: Weight=0.000<br>KO_Close: Weight=0.832",
          "Return: 36.750%<br>Volatility: 0.179<br>Sharpe Ratio: 2.053<br>DE_Close: Weight=1.000<br>DIS_Close: Weight=0.000<br>COST_Close: Weight=0.000",
          "Return: 108.207%<br>Volatility: 0.443<br>Sharpe Ratio: 2.442<br>SNAP_Close: Weight=0.000<br>CPB_Close: Weight=0.000<br>NVDA_Close: Weight=1.000",
          "Return: 11.691%<br>Volatility: 0.198<br>Sharpe Ratio: 0.591<br>GS_Close: Weight=0.000<br>BA_Close: Weight=1.000<br>GILD_Close: Weight=0.000",
          "Return: 15.989%<br>Volatility: 0.071<br>Sharpe Ratio: 2.241<br>EXC_Close: Weight=0.000<br>KO_Close: Weight=0.831<br>WFC_Close: Weight=0.000<br>AEP_Close: Weight=0.169",
          "Return: 51.341%<br>Volatility: 0.133<br>Sharpe Ratio: 3.871<br>GS_Close: Weight=0.000<br>ADBE_Close: Weight=0.816<br>V_Close: Weight=0.000<br>TMO_Close: Weight=0.184",
          "Return: 13.214%<br>Volatility: 0.101<br>Sharpe Ratio: 1.306<br>T_Close: Weight=0.000<br>AEP_Close: Weight=1.000<br>JPM_Close: Weight=0.000",
          "Return: 13.214%<br>Volatility: 0.101<br>Sharpe Ratio: 1.306<br>PFE_Close: Weight=0.000<br>AEP_Close: Weight=1.000<br>MS_Close: Weight=0.000",
          "Return: 28.689%<br>Volatility: 0.124<br>Sharpe Ratio: 2.305<br>MS_Close: Weight=0.000<br>MA_Close: Weight=1.000<br>BMY_Close: Weight=0.000",
          "Return: 54.603%<br>Volatility: 0.134<br>Sharpe Ratio: 4.065<br>NVDA_Close: Weight=0.132<br>ABBV_Close: Weight=0.752<br>VZ_Close: Weight=0.000<br>REGN_Close: Weight=0.116",
          "Return: 30.315%<br>Volatility: 0.139<br>Sharpe Ratio: 2.173<br>GOOG_Close: Weight=0.750<br>CMCSA_Close: Weight=0.250<br>TXN_Close: Weight=0.000<br>SO_Close: Weight=0.000",
          "Return: 37.172%<br>Volatility: 0.099<br>Sharpe Ratio: 3.749<br>UNH_Close: Weight=0.353<br>TXN_Close: Weight=0.036<br>K_Close: Weight=0.000<br>ABBV_Close: Weight=0.611",
          "Return: 28.584%<br>Volatility: 0.092<br>Sharpe Ratio: 3.120<br>JNJ_Close: Weight=0.329<br>PEP_Close: Weight=0.484<br>REGN_Close: Weight=0.187<br>GE_Close: Weight=0.000",
          "Return: 30.812%<br>Volatility: 0.120<br>Sharpe Ratio: 2.573<br>PFE_Close: Weight=0.000<br>HON_Close: Weight=0.275<br>SAP_Close: Weight=0.725",
          "Return: 15.415%<br>Volatility: 0.086<br>Sharpe Ratio: 1.799<br>ACN_Close: Weight=0.000<br>TMO_Close: Weight=0.416<br>AEP_Close: Weight=0.584",
          "Return: 19.162%<br>Volatility: 0.099<br>Sharpe Ratio: 1.933<br>AEP_Close: Weight=0.687<br>EMR_Close: Weight=0.000<br>CAT_Close: Weight=0.313",
          "Return: 27.661%<br>Volatility: 0.105<br>Sharpe Ratio: 2.634<br>SNAP_Close: Weight=0.000<br>CSCO_Close: Weight=0.000<br>V_Close: Weight=0.696<br>ORCL_Close: Weight=0.304",
          "Return: 13.763%<br>Volatility: 0.074<br>Sharpe Ratio: 1.861<br>GE_Close: Weight=0.000<br>AEP_Close: Weight=0.463<br>HON_Close: Weight=0.537",
          "Return: 20.737%<br>Volatility: 0.179<br>Sharpe Ratio: 1.156<br>JPM_Close: Weight=0.000<br>TXN_Close: Weight=1.000<br>DHR_Close: Weight=0.000",
          "Return: 27.378%<br>Volatility: 0.115<br>Sharpe Ratio: 2.371<br>EMR_Close: Weight=0.000<br>MO_Close: Weight=0.000<br>EW_Close: Weight=0.332<br>RTX_Close: Weight=0.668",
          "Return: 27.129%<br>Volatility: 0.089<br>Sharpe Ratio: 3.044<br>DE_Close: Weight=0.284<br>AEP_Close: Weight=0.387<br>WFC_Close: Weight=0.000<br>GOOGL_Close: Weight=0.329",
          "Return: 47.525%<br>Volatility: 0.139<br>Sharpe Ratio: 3.415<br>SYK_Close: Weight=0.553<br>GS_Close: Weight=0.000<br>BABA_Close: Weight=0.447<br>CRM_Close: Weight=0.000",
          "Return: 24.706%<br>Volatility: 0.141<br>Sharpe Ratio: 1.755<br>ETN_Close: Weight=1.000<br>SYY_Close: Weight=0.000<br>INTC_Close: Weight=0.000",
          "Return: 52.773%<br>Volatility: 0.147<br>Sharpe Ratio: 3.589<br>NVDA_Close: Weight=0.080<br>MSFT_Close: Weight=0.458<br>BABA_Close: Weight=0.332<br>LLY_Close: Weight=0.130",
          "Return: 42.868%<br>Volatility: 0.163<br>Sharpe Ratio: 2.637<br>MDT_Close: Weight=0.383<br>CRM_Close: Weight=0.079<br>NVDA_Close: Weight=0.322<br>LLY_Close: Weight=0.216",
          "Return: 39.402%<br>Volatility: 0.113<br>Sharpe Ratio: 3.475<br>XOM_Close: Weight=0.000<br>BIIB_Close: Weight=0.000<br>CRM_Close: Weight=0.137<br>ABBV_Close: Weight=0.863",
          "Return: -122.379%<br>Volatility: 0.669<br>Sharpe Ratio: -1.830<br>CSCO_Close: Weight=0.000<br>SNAP_Close: Weight=1.000<br>ACN_Close: Weight=0.000<br>AMGN_Close: Weight=0.000",
          "Return: 36.750%<br>Volatility: 0.179<br>Sharpe Ratio: 2.053<br>EMR_Close: Weight=0.000<br>IBM_Close: Weight=0.000<br>DE_Close: Weight=1.000<br>DHR_Close: Weight=0.000",
          "Return: 60.018%<br>Volatility: 0.177<br>Sharpe Ratio: 3.397<br>META_Close: Weight=0.555<br>T_Close: Weight=0.000<br>UA_Close: Weight=0.000<br>BABA_Close: Weight=0.445",
          "Return: 41.296%<br>Volatility: 0.125<br>Sharpe Ratio: 3.311<br>DE_Close: Weight=0.409<br>REGN_Close: Weight=0.283<br>ABT_Close: Weight=0.000<br>SYK_Close: Weight=0.308",
          "Return: 12.534%<br>Volatility: 0.115<br>Sharpe Ratio: 1.087<br>IBM_Close: Weight=0.000<br>LLY_Close: Weight=0.327<br>CMCSA_Close: Weight=0.673",
          "Return: 38.069%<br>Volatility: 0.125<br>Sharpe Ratio: 3.052<br>CPB_Close: Weight=0.000<br>PM_Close: Weight=0.492<br>AMZN_Close: Weight=0.508<br>MS_Close: Weight=0.000",
          "Return: 11.691%<br>Volatility: 0.198<br>Sharpe Ratio: 0.591<br>BA_Close: Weight=1.000<br>DHR_Close: Weight=0.000<br>COST_Close: Weight=0.000",
          "Return: -6.895%<br>Volatility: 0.155<br>Sharpe Ratio: -0.444<br>GIS_Close: Weight=0.000<br>SYY_Close: Weight=1.000<br>K_Close: Weight=0.000",
          "Return: 19.994%<br>Volatility: 0.120<br>Sharpe Ratio: 1.660<br>NKE_Close: Weight=0.000<br>K_Close: Weight=0.000<br>ZBH_Close: Weight=0.426<br>CRM_Close: Weight=0.574",
          "Return: 30.199%<br>Volatility: 0.113<br>Sharpe Ratio: 2.674<br>SYK_Close: Weight=0.317<br>DHR_Close: Weight=0.000<br>AAPL_Close: Weight=0.118<br>SAP_Close: Weight=0.565",
          "Return: 2.265%<br>Volatility: 0.089<br>Sharpe Ratio: 0.255<br>DUK_Close: Weight=1.000<br>BAC_Close: Weight=0.000<br>GM_Close: Weight=0.000<br>UA_Close: Weight=0.000",
          "Return: 11.691%<br>Volatility: 0.198<br>Sharpe Ratio: 0.591<br>MRK_Close: Weight=0.000<br>BA_Close: Weight=1.000<br>F_Close: Weight=0.000<br>CVX_Close: Weight=0.000",
          "Return: -80.708%<br>Volatility: 0.405<br>Sharpe Ratio: -1.993<br>K_Close: Weight=0.000<br>VZ_Close: Weight=0.000<br>KR_Close: Weight=1.000",
          "Return: 34.045%<br>Volatility: 0.086<br>Sharpe Ratio: 3.948<br>BABA_Close: Weight=0.267<br>MRK_Close: Weight=0.000<br>KO_Close: Weight=0.733",
          "Return: 34.500%<br>Volatility: 0.187<br>Sharpe Ratio: 1.843<br>WFC_Close: Weight=0.000<br>SO_Close: Weight=0.000<br>ORCL_Close: Weight=1.000",
          "Return: 18.576%<br>Volatility: 0.105<br>Sharpe Ratio: 1.763<br>QCOM_Close: Weight=0.000<br>SYK_Close: Weight=0.862<br>BA_Close: Weight=0.138",
          "Return: -27.547%<br>Volatility: 0.259<br>Sharpe Ratio: -1.064<br>AMGN_Close: Weight=0.000<br>NKE_Close: Weight=1.000<br>PG_Close: Weight=0.000",
          "Return: 13.214%<br>Volatility: 0.101<br>Sharpe Ratio: 1.306<br>K_Close: Weight=0.000<br>MRK_Close: Weight=0.000<br>AEP_Close: Weight=1.000",
          "Return: 55.574%<br>Volatility: 0.196<br>Sharpe Ratio: 2.831<br>MDT_Close: Weight=0.319<br>CRM_Close: Weight=0.292<br>VRTX_Close: Weight=0.350<br>BSX_Close: Weight=0.040",
          "Return: 46.194%<br>Volatility: 0.134<br>Sharpe Ratio: 3.451<br>MSFT_Close: Weight=0.455<br>ISRG_Close: Weight=0.545<br>F_Close: Weight=0.000<br>DHR_Close: Weight=0.000",
          "Return: 31.823%<br>Volatility: 0.122<br>Sharpe Ratio: 2.607<br>EW_Close: Weight=0.378<br>TXN_Close: Weight=0.171<br>WMT_Close: Weight=0.451",
          "Return: 30.038%<br>Volatility: 0.108<br>Sharpe Ratio: 2.784<br>CAT_Close: Weight=0.205<br>CVX_Close: Weight=0.000<br>UNH_Close: Weight=0.795<br>XOM_Close: Weight=0.000",
          "Return: 82.040%<br>Volatility: 0.270<br>Sharpe Ratio: 3.034<br>BABA_Close: Weight=1.000<br>EXC_Close: Weight=0.000<br>XOM_Close: Weight=0.000",
          "Return: 35.778%<br>Volatility: 0.101<br>Sharpe Ratio: 3.538<br>AMGN_Close: Weight=0.000<br>NEE_Close: Weight=0.460<br>META_Close: Weight=0.360<br>REGN_Close: Weight=0.180",
          "Return: 16.637%<br>Volatility: 0.105<br>Sharpe Ratio: 1.584<br>PG_Close: Weight=0.000<br>BMY_Close: Weight=0.000<br>NEE_Close: Weight=1.000<br>EXC_Close: Weight=0.000",
          "Return: 71.439%<br>Volatility: 0.300<br>Sharpe Ratio: 2.378<br>XOM_Close: Weight=0.000<br>RDY_Close: Weight=0.000<br>REGN_Close: Weight=1.000",
          "Return: 34.175%<br>Volatility: 0.129<br>Sharpe Ratio: 2.652<br>CAT_Close: Weight=0.171<br>PFE_Close: Weight=0.000<br>JPM_Close: Weight=0.000<br>MSFT_Close: Weight=0.829",
          "Return: 35.732%<br>Volatility: 0.134<br>Sharpe Ratio: 2.676<br>HON_Close: Weight=0.624<br>REGN_Close: Weight=0.376<br>VZ_Close: Weight=0.000",
          "Return: 27.651%<br>Volatility: 0.093<br>Sharpe Ratio: 2.965<br>MRK_Close: Weight=0.000<br>PM_Close: Weight=0.593<br>WFC_Close: Weight=0.000<br>WMT_Close: Weight=0.407",
          "Return: 28.465%<br>Volatility: 0.113<br>Sharpe Ratio: 2.520<br>CVX_Close: Weight=0.000<br>GOOG_Close: Weight=0.475<br>ETN_Close: Weight=0.448<br>LLY_Close: Weight=0.078",
          "Return: 37.931%<br>Volatility: 0.138<br>Sharpe Ratio: 2.746<br>SAP_Close: Weight=0.714<br>NFLX_Close: Weight=0.121<br>DIS_Close: Weight=0.000<br>CAT_Close: Weight=0.165",
          "Return: 45.502%<br>Volatility: 0.145<br>Sharpe Ratio: 3.146<br>BMY_Close: Weight=0.000<br>RDY_Close: Weight=0.000<br>RMD_Close: Weight=0.000<br>MCD_Close: Weight=1.000",
          "Return: 28.021%<br>Volatility: 0.117<br>Sharpe Ratio: 2.391<br>UA_Close: Weight=0.000<br>ACN_Close: Weight=0.000<br>EW_Close: Weight=0.441<br>SRE_Close: Weight=0.559",
          "Return: 13.214%<br>Volatility: 0.101<br>Sharpe Ratio: 1.306<br>AEP_Close: Weight=1.000<br>SYY_Close: Weight=0.000<br>COST_Close: Weight=0.000",
          "Return: -22.800%<br>Volatility: 0.183<br>Sharpe Ratio: -1.243<br>AMGN_Close: Weight=1.000<br>BIIB_Close: Weight=0.000<br>CVX_Close: Weight=0.000",
          "Return: 28.897%<br>Volatility: 0.097<br>Sharpe Ratio: 2.986<br>MSFT_Close: Weight=0.529<br>AMD_Close: Weight=0.000<br>DIS_Close: Weight=0.000<br>JNJ_Close: Weight=0.471",
          "Return: 21.963%<br>Volatility: 0.141<br>Sharpe Ratio: 1.553<br>LLY_Close: Weight=0.415<br>CAT_Close: Weight=0.585<br>JPM_Close: Weight=0.000",
          "Return: 28.039%<br>Volatility: 0.104<br>Sharpe Ratio: 2.705<br>SAP_Close: Weight=0.621<br>GE_Close: Weight=0.000<br>AEP_Close: Weight=0.379<br>MRK_Close: Weight=0.000",
          "Return: 25.462%<br>Volatility: 0.162<br>Sharpe Ratio: 1.576<br>WFC_Close: Weight=0.000<br>AAPL_Close: Weight=1.000<br>BMY_Close: Weight=0.000<br>VZ_Close: Weight=0.000",
          "Return: 47.883%<br>Volatility: 0.167<br>Sharpe Ratio: 2.870<br>NVDA_Close: Weight=0.241<br>MA_Close: Weight=0.759<br>RDY_Close: Weight=0.000<br>PG_Close: Weight=0.000",
          "Return: 15.378%<br>Volatility: 0.093<br>Sharpe Ratio: 1.651<br>BA_Close: Weight=0.105<br>RDY_Close: Weight=0.000<br>NEE_Close: Weight=0.700<br>SRE_Close: Weight=0.196",
          "Return: 39.874%<br>Volatility: 0.130<br>Sharpe Ratio: 3.073<br>ACN_Close: Weight=0.000<br>NEE_Close: Weight=0.707<br>TSLA_Close: Weight=0.293<br>WFC_Close: Weight=0.000",
          "Return: 62.225%<br>Volatility: 0.146<br>Sharpe Ratio: 4.274<br>SO_Close: Weight=0.000<br>SAP_Close: Weight=0.105<br>ADBE_Close: Weight=0.647<br>BABA_Close: Weight=0.248",
          "Return: 28.893%<br>Volatility: 0.097<br>Sharpe Ratio: 2.986<br>F_Close: Weight=0.000<br>MSFT_Close: Weight=0.528<br>JNJ_Close: Weight=0.472",
          "Return: 57.807%<br>Volatility: 0.142<br>Sharpe Ratio: 4.061<br>ADBE_Close: Weight=0.678<br>RMD_Close: Weight=0.000<br>ISRG_Close: Weight=0.322",
          "Return: 96.040%<br>Volatility: 0.381<br>Sharpe Ratio: 2.522<br>K_Close: Weight=0.000<br>SO_Close: Weight=0.000<br>TSLA_Close: Weight=1.000",
          "Return: 54.901%<br>Volatility: 0.165<br>Sharpe Ratio: 3.333<br>GILD_Close: Weight=0.000<br>ISRG_Close: Weight=0.814<br>GE_Close: Weight=0.000<br>NFLX_Close: Weight=0.186",
          "Return: 28.260%<br>Volatility: 0.117<br>Sharpe Ratio: 2.424<br>ABT_Close: Weight=0.000<br>GOOG_Close: Weight=0.333<br>V_Close: Weight=0.667<br>DIS_Close: Weight=0.000",
          "Return: 42.583%<br>Volatility: 0.124<br>Sharpe Ratio: 3.422<br>ABBV_Close: Weight=1.000<br>DIS_Close: Weight=0.000<br>KR_Close: Weight=0.000<br>PFE_Close: Weight=0.000",
          "Return: 15.881%<br>Volatility: 0.108<br>Sharpe Ratio: 1.465<br>BA_Close: Weight=0.167<br>IBM_Close: Weight=0.000<br>HD_Close: Weight=0.368<br>ZBH_Close: Weight=0.466",
          "Return: 61.041%<br>Volatility: 0.210<br>Sharpe Ratio: 2.909<br>PYPL_Close: Weight=1.000<br>INTC_Close: Weight=0.000<br>JPM_Close: Weight=0.000<br>QCOM_Close: Weight=0.000",
          "Return: 12.842%<br>Volatility: 0.107<br>Sharpe Ratio: 1.199<br>KR_Close: Weight=0.000<br>SRE_Close: Weight=1.000<br>GE_Close: Weight=0.000",
          "Return: 42.625%<br>Volatility: 0.125<br>Sharpe Ratio: 3.410<br>RDY_Close: Weight=0.000<br>ORCL_Close: Weight=0.262<br>MCD_Close: Weight=0.738",
          "Return: 37.405%<br>Volatility: 0.131<br>Sharpe Ratio: 2.863<br>AMZN_Close: Weight=0.622<br>MS_Close: Weight=0.000<br>ETN_Close: Weight=0.378<br>MO_Close: Weight=0.000",
          "Return: 17.474%<br>Volatility: 0.093<br>Sharpe Ratio: 1.875<br>EMR_Close: Weight=0.000<br>RTX_Close: Weight=1.000<br>PFE_Close: Weight=0.000<br>JPM_Close: Weight=0.000",
          "Return: -122.379%<br>Volatility: 0.669<br>Sharpe Ratio: -1.830<br>INTC_Close: Weight=0.000<br>PFE_Close: Weight=0.000<br>SNAP_Close: Weight=1.000",
          "Return: -18.067%<br>Volatility: 0.162<br>Sharpe Ratio: -1.119<br>GILD_Close: Weight=0.000<br>JPM_Close: Weight=1.000<br>GS_Close: Weight=0.000",
          "Return: 33.664%<br>Volatility: 0.160<br>Sharpe Ratio: 2.100<br>T_Close: Weight=0.000<br>BA_Close: Weight=0.075<br>GOOG_Close: Weight=0.925",
          "Return: 17.474%<br>Volatility: 0.093<br>Sharpe Ratio: 1.875<br>RTX_Close: Weight=1.000<br>GILD_Close: Weight=0.000<br>QCOM_Close: Weight=0.000",
          "Return: 32.390%<br>Volatility: 0.125<br>Sharpe Ratio: 2.593<br>MSFT_Close: Weight=0.839<br>JPM_Close: Weight=0.000<br>ZBH_Close: Weight=0.161<br>AMGN_Close: Weight=0.000",
          "Return: 32.749%<br>Volatility: 0.136<br>Sharpe Ratio: 2.414<br>MDT_Close: Weight=0.153<br>EW_Close: Weight=0.423<br>AAPL_Close: Weight=0.424",
          "Return: 2.265%<br>Volatility: 0.089<br>Sharpe Ratio: 0.255<br>MO_Close: Weight=0.000<br>DHR_Close: Weight=0.000<br>KR_Close: Weight=0.000<br>DUK_Close: Weight=1.000",
          "Return: 36.556%<br>Volatility: 0.132<br>Sharpe Ratio: 2.767<br>EXC_Close: Weight=0.000<br>TMO_Close: Weight=0.243<br>META_Close: Weight=0.757",
          "Return: 28.389%<br>Volatility: 0.109<br>Sharpe Ratio: 2.594<br>DIS_Close: Weight=0.000<br>BTI_Close: Weight=0.253<br>SYK_Close: Weight=0.387<br>GOOGL_Close: Weight=0.361",
          "Return: 36.750%<br>Volatility: 0.179<br>Sharpe Ratio: 2.053<br>DE_Close: Weight=1.000<br>AMGN_Close: Weight=0.000<br>F_Close: Weight=0.000<br>MS_Close: Weight=0.000",
          "Return: 16.419%<br>Volatility: 0.082<br>Sharpe Ratio: 2.008<br>KR_Close: Weight=0.000<br>SYY_Close: Weight=0.000<br>SRE_Close: Weight=0.380<br>LMT_Close: Weight=0.620",
          "Return: 32.209%<br>Volatility: 0.087<br>Sharpe Ratio: 3.723<br>AMD_Close: Weight=0.000<br>ABBV_Close: Weight=0.607<br>PEP_Close: Weight=0.393",
          "Return: 44.698%<br>Volatility: 0.125<br>Sharpe Ratio: 3.566<br>MSFT_Close: Weight=0.516<br>WMT_Close: Weight=0.337<br>AMGN_Close: Weight=0.000<br>VRTX_Close: Weight=0.147",
          "Return: 101.502%<br>Volatility: 0.322<br>Sharpe Ratio: 3.154<br>TSLA_Close: Weight=0.551<br>NVDA_Close: Weight=0.449<br>EXC_Close: Weight=0.000<br>MS_Close: Weight=0.000",
          "Return: 21.627%<br>Volatility: 0.118<br>Sharpe Ratio: 1.830<br>CSCO_Close: Weight=0.000<br>MMM_Close: Weight=1.000<br>EXC_Close: Weight=0.000",
          "Return: 21.928%<br>Volatility: 0.104<br>Sharpe Ratio: 2.117<br>SYK_Close: Weight=0.611<br>AAPL_Close: Weight=0.389<br>BIIB_Close: Weight=0.000",
          "Return: 25.024%<br>Volatility: 0.106<br>Sharpe Ratio: 2.355<br>AMGN_Close: Weight=0.000<br>RTX_Close: Weight=0.580<br>GOOG_Close: Weight=0.420<br>EXC_Close: Weight=0.000",
          "Return: 35.855%<br>Volatility: 0.106<br>Sharpe Ratio: 3.386<br>MCD_Close: Weight=0.746<br>IBM_Close: Weight=0.000<br>BIIB_Close: Weight=0.000<br>LLY_Close: Weight=0.254",
          "Return: -6.262%<br>Volatility: 0.165<br>Sharpe Ratio: -0.378<br>WFC_Close: Weight=0.000<br>RDY_Close: Weight=0.000<br>EMR_Close: Weight=1.000",
          "Return: 16.167%<br>Volatility: 0.087<br>Sharpe Ratio: 1.850<br>COST_Close: Weight=0.000<br>PEP_Close: Weight=1.000<br>SNAP_Close: Weight=0.000<br>MO_Close: Weight=0.000",
          "Return: 55.530%<br>Volatility: 0.162<br>Sharpe Ratio: 3.422<br>META_Close: Weight=0.492<br>ZBH_Close: Weight=0.114<br>BABA_Close: Weight=0.394",
          "Return: 34.582%<br>Volatility: 0.137<br>Sharpe Ratio: 2.530<br>COST_Close: Weight=0.000<br>GILD_Close: Weight=0.000<br>IBM_Close: Weight=0.000<br>MSFT_Close: Weight=1.000",
          "Return: 13.214%<br>Volatility: 0.101<br>Sharpe Ratio: 1.306<br>AEP_Close: Weight=1.000<br>SO_Close: Weight=0.000<br>AMGN_Close: Weight=0.000",
          "Return: -8.623%<br>Volatility: 0.182<br>Sharpe Ratio: -0.474<br>NKE_Close: Weight=0.000<br>GS_Close: Weight=0.000<br>BMY_Close: Weight=1.000",
          "Return: 48.289%<br>Volatility: 0.154<br>Sharpe Ratio: 3.130<br>DE_Close: Weight=0.457<br>NVDA_Close: Weight=0.239<br>TMO_Close: Weight=0.304",
          "Return: 58.951%<br>Volatility: 0.181<br>Sharpe Ratio: 3.254<br>ORCL_Close: Weight=0.411<br>VRTX_Close: Weight=0.253<br>GOOG_Close: Weight=0.336",
          "Return: 15.579%<br>Volatility: 0.082<br>Sharpe Ratio: 1.892<br>DUK_Close: Weight=0.000<br>AEP_Close: Weight=0.199<br>XOM_Close: Weight=0.000<br>PEP_Close: Weight=0.801",
          "Return: 32.001%<br>Volatility: 0.204<br>Sharpe Ratio: 1.565<br>JPM_Close: Weight=0.000<br>BTI_Close: Weight=1.000<br>INTC_Close: Weight=0.000<br>SO_Close: Weight=0.000",
          "Return: 23.182%<br>Volatility: 0.098<br>Sharpe Ratio: 2.367<br>MDT_Close: Weight=0.256<br>BTI_Close: Weight=0.310<br>WMT_Close: Weight=0.434",
          "Return: 20.737%<br>Volatility: 0.179<br>Sharpe Ratio: 1.156<br>KR_Close: Weight=0.000<br>TXN_Close: Weight=1.000<br>DHR_Close: Weight=0.000<br>MO_Close: Weight=0.000",
          "Return: -3.112%<br>Volatility: 0.177<br>Sharpe Ratio: -0.176<br>UA_Close: Weight=0.000<br>RMD_Close: Weight=1.000<br>KR_Close: Weight=0.000<br>BMY_Close: Weight=0.000",
          "Return: 46.277%<br>Volatility: 0.119<br>Sharpe Ratio: 3.895<br>AEP_Close: Weight=0.207<br>MDT_Close: Weight=0.033<br>BTI_Close: Weight=0.055<br>ADBE_Close: Weight=0.704",
          "Return: 45.483%<br>Volatility: 0.172<br>Sharpe Ratio: 2.647<br>VZ_Close: Weight=0.000<br>DIS_Close: Weight=0.000<br>AMZN_Close: Weight=0.933<br>NFLX_Close: Weight=0.067",
          "Return: 17.015%<br>Volatility: 0.080<br>Sharpe Ratio: 2.135<br>GILD_Close: Weight=0.000<br>PEP_Close: Weight=0.728<br>CRM_Close: Weight=0.272<br>INTC_Close: Weight=0.000",
          "Return: 12.195%<br>Volatility: 0.095<br>Sharpe Ratio: 1.285<br>HD_Close: Weight=0.363<br>RDY_Close: Weight=0.000<br>WFC_Close: Weight=0.000<br>MDT_Close: Weight=0.637",
          "Return: 29.482%<br>Volatility: 0.118<br>Sharpe Ratio: 2.496<br>PG_Close: Weight=0.000<br>MO_Close: Weight=0.000<br>UNH_Close: Weight=1.000",
          "Return: 19.290%<br>Volatility: 0.148<br>Sharpe Ratio: 1.306<br>CPB_Close: Weight=0.000<br>GM_Close: Weight=0.000<br>CRM_Close: Weight=1.000",
          "Return: 18.808%<br>Volatility: 0.085<br>Sharpe Ratio: 2.222<br>ABT_Close: Weight=0.000<br>ETN_Close: Weight=0.487<br>AEP_Close: Weight=0.513",
          "Return: 42.367%<br>Volatility: 0.158<br>Sharpe Ratio: 2.676<br>ACN_Close: Weight=0.000<br>META_Close: Weight=1.000<br>RDY_Close: Weight=0.000<br>WFC_Close: Weight=0.000",
          "Return: 36.068%<br>Volatility: 0.133<br>Sharpe Ratio: 2.721<br>GOOG_Close: Weight=0.520<br>DE_Close: Weight=0.480<br>EMR_Close: Weight=0.000",
          "Return: 35.438%<br>Volatility: 0.169<br>Sharpe Ratio: 2.092<br>GOOG_Close: Weight=1.000<br>MO_Close: Weight=0.000<br>MS_Close: Weight=0.000",
          "Return: 28.689%<br>Volatility: 0.124<br>Sharpe Ratio: 2.305<br>GS_Close: Weight=0.000<br>K_Close: Weight=0.000<br>MA_Close: Weight=1.000<br>SNAP_Close: Weight=0.000",
          "Return: 71.439%<br>Volatility: 0.300<br>Sharpe Ratio: 2.378<br>REGN_Close: Weight=1.000<br>BMY_Close: Weight=0.000<br>SO_Close: Weight=0.000<br>GILD_Close: Weight=0.000",
          "Return: 71.439%<br>Volatility: 0.300<br>Sharpe Ratio: 2.378<br>REGN_Close: Weight=1.000<br>SO_Close: Weight=0.000<br>KR_Close: Weight=0.000",
          "Return: 34.837%<br>Volatility: 0.096<br>Sharpe Ratio: 3.615<br>DHR_Close: Weight=0.000<br>SYY_Close: Weight=0.000<br>ABBV_Close: Weight=0.701<br>NEE_Close: Weight=0.299",
          "Return: 27.337%<br>Volatility: 0.087<br>Sharpe Ratio: 3.147<br>MA_Close: Weight=0.132<br>MSFT_Close: Weight=0.330<br>NEE_Close: Weight=0.360<br>ORCL_Close: Weight=0.179",
          "Return: 23.907%<br>Volatility: 0.134<br>Sharpe Ratio: 1.784<br>TMO_Close: Weight=0.605<br>CAT_Close: Weight=0.395<br>MO_Close: Weight=0.000",
          "Return: 19.679%<br>Volatility: 0.116<br>Sharpe Ratio: 1.703<br>UA_Close: Weight=0.000<br>PFE_Close: Weight=0.000<br>SYK_Close: Weight=1.000",
          "Return: 30.969%<br>Volatility: 0.113<br>Sharpe Ratio: 2.733<br>SAP_Close: Weight=0.604<br>BIIB_Close: Weight=0.000<br>MMM_Close: Weight=0.396",
          "Return: 23.079%<br>Volatility: 0.148<br>Sharpe Ratio: 1.562<br>WMT_Close: Weight=1.000<br>DIS_Close: Weight=0.000<br>MRK_Close: Weight=0.000<br>SNAP_Close: Weight=0.000",
          "Return: 19.679%<br>Volatility: 0.116<br>Sharpe Ratio: 1.703<br>SYK_Close: Weight=1.000<br>T_Close: Weight=0.000<br>INTC_Close: Weight=0.000",
          "Return: 21.527%<br>Volatility: 0.118<br>Sharpe Ratio: 1.821<br>BTI_Close: Weight=0.467<br>LLY_Close: Weight=0.187<br>CMCSA_Close: Weight=0.347",
          "Return: 16.167%<br>Volatility: 0.087<br>Sharpe Ratio: 1.850<br>BIIB_Close: Weight=0.000<br>CSCO_Close: Weight=0.000<br>PEP_Close: Weight=1.000",
          "Return: 12.025%<br>Volatility: 0.110<br>Sharpe Ratio: 1.092<br>LLY_Close: Weight=0.257<br>MO_Close: Weight=0.000<br>BSX_Close: Weight=0.743",
          "Return: 30.050%<br>Volatility: 0.097<br>Sharpe Ratio: 3.107<br>PM_Close: Weight=0.434<br>GILD_Close: Weight=0.000<br>BMY_Close: Weight=0.000<br>UNH_Close: Weight=0.566",
          "Return: 27.725%<br>Volatility: 0.088<br>Sharpe Ratio: 3.139<br>UNH_Close: Weight=0.486<br>PM_Close: Weight=0.348<br>PEP_Close: Weight=0.166",
          "Return: 11.833%<br>Volatility: 0.093<br>Sharpe Ratio: 1.267<br>GIS_Close: Weight=0.000<br>SRE_Close: Weight=0.809<br>LLY_Close: Weight=0.191",
          "Return: 26.298%<br>Volatility: 0.084<br>Sharpe Ratio: 3.138<br>AEP_Close: Weight=0.201<br>CAT_Close: Weight=0.108<br>UNH_Close: Weight=0.419<br>MA_Close: Weight=0.273",
          "Return: 24.754%<br>Volatility: 0.102<br>Sharpe Ratio: 2.429<br>GIS_Close: Weight=0.000<br>CRM_Close: Weight=0.349<br>DUK_Close: Weight=0.171<br>DE_Close: Weight=0.480",
          "Return: 26.966%<br>Volatility: 0.085<br>Sharpe Ratio: 3.174<br>KO_Close: Weight=0.635<br>AMZN_Close: Weight=0.365<br>K_Close: Weight=0.000",
          "Return: 108.207%<br>Volatility: 0.443<br>Sharpe Ratio: 2.442<br>CSCO_Close: Weight=0.000<br>NVDA_Close: Weight=1.000<br>MS_Close: Weight=0.000",
          "Return: 36.750%<br>Volatility: 0.179<br>Sharpe Ratio: 2.053<br>WFC_Close: Weight=0.000<br>DE_Close: Weight=1.000<br>AMGN_Close: Weight=0.000",
          "Return: 87.360%<br>Volatility: 0.216<br>Sharpe Ratio: 4.042<br>VRTX_Close: Weight=0.259<br>PYPL_Close: Weight=0.560<br>NVDA_Close: Weight=0.181",
          "Return: 28.689%<br>Volatility: 0.124<br>Sharpe Ratio: 2.305<br>F_Close: Weight=0.000<br>MA_Close: Weight=1.000<br>IBM_Close: Weight=0.000",
          "Return: 41.076%<br>Volatility: 0.114<br>Sharpe Ratio: 3.611<br>GIS_Close: Weight=0.000<br>BABA_Close: Weight=0.408<br>KR_Close: Weight=0.000<br>SRE_Close: Weight=0.592",
          "Return: 41.453%<br>Volatility: 0.117<br>Sharpe Ratio: 3.529<br>ISRG_Close: Weight=0.553<br>TXN_Close: Weight=0.000<br>WMT_Close: Weight=0.345<br>AAPL_Close: Weight=0.102",
          "Return: 61.993%<br>Volatility: 0.178<br>Sharpe Ratio: 3.491<br>BABA_Close: Weight=0.457<br>AMZN_Close: Weight=0.543<br>JPM_Close: Weight=0.000<br>GILD_Close: Weight=0.000",
          "Return: 34.168%<br>Volatility: 0.118<br>Sharpe Ratio: 2.888<br>REGN_Close: Weight=0.364<br>SRE_Close: Weight=0.636<br>GM_Close: Weight=0.000",
          "Return: 16.601%<br>Volatility: 0.080<br>Sharpe Ratio: 2.065<br>WMT_Close: Weight=0.387<br>HON_Close: Weight=0.524<br>DUK_Close: Weight=0.089",
          "Return: 11.373%<br>Volatility: 0.134<br>Sharpe Ratio: 0.846<br>MS_Close: Weight=0.000<br>WFC_Close: Weight=0.000<br>HD_Close: Weight=1.000<br>BMY_Close: Weight=0.000",
          "Return: 62.271%<br>Volatility: 0.185<br>Sharpe Ratio: 3.374<br>BIIB_Close: Weight=0.000<br>BTI_Close: Weight=0.395<br>BABA_Close: Weight=0.605",
          "Return: -0.556%<br>Volatility: 0.133<br>Sharpe Ratio: -0.042<br>ABT_Close: Weight=1.000<br>DHR_Close: Weight=0.000<br>K_Close: Weight=0.000",
          "Return: 30.186%<br>Volatility: 0.121<br>Sharpe Ratio: 2.505<br>ETN_Close: Weight=0.479<br>GOOG_Close: Weight=0.514<br>CRM_Close: Weight=0.007",
          "Return: 12.664%<br>Volatility: 0.114<br>Sharpe Ratio: 1.110<br>MDT_Close: Weight=1.000<br>DHR_Close: Weight=0.000<br>BMY_Close: Weight=0.000",
          "Return: 23.200%<br>Volatility: 0.140<br>Sharpe Ratio: 1.652<br>TXN_Close: Weight=0.087<br>CRM_Close: Weight=0.300<br>GE_Close: Weight=0.000<br>AAPL_Close: Weight=0.613",
          "Return: 34.257%<br>Volatility: 0.137<br>Sharpe Ratio: 2.499<br>GOOGL_Close: Weight=0.691<br>CAT_Close: Weight=0.308<br>BA_Close: Weight=0.001",
          "Return: 18.294%<br>Volatility: 0.066<br>Sharpe Ratio: 2.754<br>ABT_Close: Weight=0.000<br>KO_Close: Weight=0.657<br>MMM_Close: Weight=0.343",
          "Return: 39.399%<br>Volatility: 0.139<br>Sharpe Ratio: 2.829<br>WFC_Close: Weight=0.000<br>MMM_Close: Weight=0.643<br>AMD_Close: Weight=0.000<br>REGN_Close: Weight=0.357",
          "Return: 29.482%<br>Volatility: 0.118<br>Sharpe Ratio: 2.496<br>GE_Close: Weight=0.000<br>BAC_Close: Weight=0.000<br>UNH_Close: Weight=1.000",
          "Return: 18.743%<br>Volatility: 0.071<br>Sharpe Ratio: 2.632<br>INTC_Close: Weight=0.000<br>KO_Close: Weight=0.754<br>AAPL_Close: Weight=0.246",
          "Return: 13.214%<br>Volatility: 0.101<br>Sharpe Ratio: 1.306<br>AEP_Close: Weight=1.000<br>F_Close: Weight=0.000<br>GIS_Close: Weight=0.000",
          "Return: 52.977%<br>Volatility: 0.170<br>Sharpe Ratio: 3.123<br>TXN_Close: Weight=0.083<br>QCOM_Close: Weight=0.000<br>ISRG_Close: Weight=0.917",
          "Return: 24.671%<br>Volatility: 0.110<br>Sharpe Ratio: 2.234<br>V_Close: Weight=1.000<br>ACN_Close: Weight=0.000<br>MO_Close: Weight=0.000<br>PFE_Close: Weight=0.000",
          "Return: 27.228%<br>Volatility: 0.092<br>Sharpe Ratio: 2.975<br>CPB_Close: Weight=0.000<br>UNH_Close: Weight=0.532<br>RMD_Close: Weight=0.000<br>V_Close: Weight=0.468",
          "Return: 108.207%<br>Volatility: 0.443<br>Sharpe Ratio: 2.442<br>EXC_Close: Weight=0.000<br>RDY_Close: Weight=0.000<br>NVDA_Close: Weight=1.000",
          "Return: 47.995%<br>Volatility: 0.141<br>Sharpe Ratio: 3.394<br>ISRG_Close: Weight=0.580<br>SAP_Close: Weight=0.420<br>RDY_Close: Weight=0.000",
          "Return: 32.208%<br>Volatility: 0.087<br>Sharpe Ratio: 3.723<br>ABBV_Close: Weight=0.607<br>PEP_Close: Weight=0.393<br>AMGN_Close: Weight=0.000",
          "Return: 34.582%<br>Volatility: 0.137<br>Sharpe Ratio: 2.530<br>SO_Close: Weight=0.000<br>DHR_Close: Weight=0.000<br>K_Close: Weight=0.000<br>MSFT_Close: Weight=1.000",
          "Return: 34.964%<br>Volatility: 0.094<br>Sharpe Ratio: 3.707<br>VRTX_Close: Weight=0.133<br>KO_Close: Weight=0.679<br>ORCL_Close: Weight=0.188",
          "Return: 35.978%<br>Volatility: 0.103<br>Sharpe Ratio: 3.499<br>K_Close: Weight=0.000<br>ISRG_Close: Weight=0.534<br>AEP_Close: Weight=0.466",
          "Return: 26.449%<br>Volatility: 0.110<br>Sharpe Ratio: 2.400<br>EW_Close: Weight=0.342<br>CRM_Close: Weight=0.178<br>HON_Close: Weight=0.480",
          "Return: 45.502%<br>Volatility: 0.145<br>Sharpe Ratio: 3.146<br>ABT_Close: Weight=0.000<br>MCD_Close: Weight=1.000<br>EMR_Close: Weight=0.000",
          "Return: 56.545%<br>Volatility: 0.162<br>Sharpe Ratio: 3.494<br>QCOM_Close: Weight=0.000<br>BABA_Close: Weight=0.433<br>GS_Close: Weight=0.000<br>SAP_Close: Weight=0.567",
          "Return: 39.638%<br>Volatility: 0.109<br>Sharpe Ratio: 3.629<br>DE_Close: Weight=0.309<br>VRTX_Close: Weight=0.151<br>PEP_Close: Weight=0.540",
          "Return: 39.267%<br>Volatility: 0.123<br>Sharpe Ratio: 3.181<br>SYK_Close: Weight=0.373<br>LMT_Close: Weight=0.294<br>HD_Close: Weight=0.142<br>VRTX_Close: Weight=0.192",
          "Return: 22.520%<br>Volatility: 0.111<br>Sharpe Ratio: 2.029<br>JNJ_Close: Weight=1.000<br>WFC_Close: Weight=0.000<br>MRK_Close: Weight=0.000",
          "Return: 43.983%<br>Volatility: 0.112<br>Sharpe Ratio: 3.938<br>PEP_Close: Weight=0.346<br>RDY_Close: Weight=0.000<br>V_Close: Weight=0.000<br>ADBE_Close: Weight=0.654",
          "Return: 18.608%<br>Volatility: 0.107<br>Sharpe Ratio: 1.746<br>RMD_Close: Weight=0.000<br>LMT_Close: Weight=1.000<br>EMR_Close: Weight=0.000",
          "Return: 62.159%<br>Volatility: 0.213<br>Sharpe Ratio: 2.916<br>TMO_Close: Weight=0.608<br>VRTX_Close: Weight=0.392<br>CPB_Close: Weight=0.000",
          "Return: 18.760%<br>Volatility: 0.070<br>Sharpe Ratio: 2.683<br>PFE_Close: Weight=0.000<br>KO_Close: Weight=0.711<br>ZBH_Close: Weight=0.082<br>AAPL_Close: Weight=0.207",
          "Return: 23.396%<br>Volatility: 0.073<br>Sharpe Ratio: 3.206<br>UNH_Close: Weight=0.409<br>CAT_Close: Weight=0.099<br>KO_Close: Weight=0.492",
          "Return: 23.537%<br>Volatility: 0.097<br>Sharpe Ratio: 2.419<br>AEP_Close: Weight=0.262<br>WFC_Close: Weight=0.000<br>HD_Close: Weight=0.137<br>PM_Close: Weight=0.602",
          "Return: 30.790%<br>Volatility: 0.135<br>Sharpe Ratio: 2.281<br>DIS_Close: Weight=0.000<br>PM_Close: Weight=1.000<br>VZ_Close: Weight=0.000",
          "Return: 14.235%<br>Volatility: 0.099<br>Sharpe Ratio: 1.445<br>XOM_Close: Weight=0.000<br>HON_Close: Weight=1.000<br>JPM_Close: Weight=0.000<br>BAC_Close: Weight=0.000",
          "Return: 13.258%<br>Volatility: 0.116<br>Sharpe Ratio: 1.146<br>CVX_Close: Weight=0.000<br>CMCSA_Close: Weight=0.526<br>MRK_Close: Weight=0.000<br>HD_Close: Weight=0.474",
          "Return: 13.214%<br>Volatility: 0.101<br>Sharpe Ratio: 1.306<br>INTC_Close: Weight=0.000<br>BIIB_Close: Weight=0.000<br>GIS_Close: Weight=0.000<br>AEP_Close: Weight=1.000",
          "Return: 19.177%<br>Volatility: 0.076<br>Sharpe Ratio: 2.520<br>JNJ_Close: Weight=0.474<br>CSCO_Close: Weight=0.000<br>PEP_Close: Weight=0.526<br>MO_Close: Weight=0.000",
          "Return: -0.543%<br>Volatility: 0.123<br>Sharpe Ratio: -0.044<br>GM_Close: Weight=0.000<br>T_Close: Weight=0.000<br>DIS_Close: Weight=1.000",
          "Return: 52.499%<br>Volatility: 0.173<br>Sharpe Ratio: 3.043<br>GOOG_Close: Weight=0.334<br>PYPL_Close: Weight=0.666<br>MO_Close: Weight=0.000",
          "Return: 16.167%<br>Volatility: 0.087<br>Sharpe Ratio: 1.850<br>PEP_Close: Weight=1.000<br>XOM_Close: Weight=0.000<br>AMD_Close: Weight=0.000",
          "Return: 23.208%<br>Volatility: 0.080<br>Sharpe Ratio: 2.914<br>ABT_Close: Weight=0.000<br>JNJ_Close: Weight=0.364<br>PEP_Close: Weight=0.391<br>GOOG_Close: Weight=0.245",
          "Return: 16.381%<br>Volatility: 0.088<br>Sharpe Ratio: 1.867<br>HD_Close: Weight=0.255<br>LLY_Close: Weight=0.097<br>COST_Close: Weight=0.000<br>SYK_Close: Weight=0.648",
          "Return: -6.262%<br>Volatility: 0.165<br>Sharpe Ratio: -0.378<br>EMR_Close: Weight=1.000<br>GS_Close: Weight=0.000<br>CVX_Close: Weight=0.000",
          "Return: 42.812%<br>Volatility: 0.136<br>Sharpe Ratio: 3.157<br>MCD_Close: Weight=0.916<br>SNAP_Close: Weight=0.000<br>T_Close: Weight=0.000<br>BSX_Close: Weight=0.084",
          "Return: 13.570%<br>Volatility: 0.134<br>Sharpe Ratio: 1.015<br>SNAP_Close: Weight=0.000<br>BSX_Close: Weight=1.000<br>SYY_Close: Weight=0.000",
          "Return: 36.750%<br>Volatility: 0.179<br>Sharpe Ratio: 2.053<br>ABT_Close: Weight=0.000<br>DE_Close: Weight=1.000<br>GS_Close: Weight=0.000<br>F_Close: Weight=0.000",
          "Return: 41.356%<br>Volatility: 0.110<br>Sharpe Ratio: 3.745<br>GILD_Close: Weight=0.000<br>EW_Close: Weight=0.191<br>ABBV_Close: Weight=0.733<br>HON_Close: Weight=0.075",
          "Return: 20.303%<br>Volatility: 0.107<br>Sharpe Ratio: 1.905<br>CRM_Close: Weight=0.424<br>INTC_Close: Weight=0.000<br>LLY_Close: Weight=0.261<br>CAT_Close: Weight=0.316",
          "Return: 40.276%<br>Volatility: 0.121<br>Sharpe Ratio: 3.339<br>PYPL_Close: Weight=0.461<br>CVX_Close: Weight=0.000<br>JNJ_Close: Weight=0.539<br>RDY_Close: Weight=0.000",
          "Return: 32.520%<br>Volatility: 0.100<br>Sharpe Ratio: 3.246<br>AMZN_Close: Weight=0.343<br>KR_Close: Weight=0.000<br>SAP_Close: Weight=0.300<br>NEE_Close: Weight=0.358",
          "Return: 16.480%<br>Volatility: 0.106<br>Sharpe Ratio: 1.556<br>BA_Close: Weight=0.297<br>JPM_Close: Weight=0.000<br>TMO_Close: Weight=0.703",
          "Return: 22.914%<br>Volatility: 0.076<br>Sharpe Ratio: 3.024<br>MMM_Close: Weight=0.403<br>ETN_Close: Weight=0.258<br>WMT_Close: Weight=0.339<br>HD_Close: Weight=0.000",
          "Return: 13.570%<br>Volatility: 0.134<br>Sharpe Ratio: 1.015<br>BSX_Close: Weight=1.000<br>QCOM_Close: Weight=0.000<br>MS_Close: Weight=0.000",
          "Return: 45.660%<br>Volatility: 0.157<br>Sharpe Ratio: 2.917<br>EW_Close: Weight=0.384<br>K_Close: Weight=0.000<br>DUK_Close: Weight=0.239<br>REGN_Close: Weight=0.377",
          "Return: -34.437%<br>Volatility: 0.283<br>Sharpe Ratio: -1.217<br>INTC_Close: Weight=0.000<br>GILD_Close: Weight=0.000<br>RDY_Close: Weight=1.000<br>GM_Close: Weight=0.000",
          "Return: 19.532%<br>Volatility: 0.098<br>Sharpe Ratio: 1.989<br>BMY_Close: Weight=0.000<br>ETN_Close: Weight=0.564<br>SRE_Close: Weight=0.436<br>NKE_Close: Weight=0.000",
          "Return: 45.113%<br>Volatility: 0.171<br>Sharpe Ratio: 2.632<br>CRM_Close: Weight=0.000<br>AMZN_Close: Weight=1.000<br>SYY_Close: Weight=0.000<br>EMR_Close: Weight=0.000",
          "Return: 50.750%<br>Volatility: 0.192<br>Sharpe Ratio: 2.639<br>MO_Close: Weight=0.000<br>GOOGL_Close: Weight=0.571<br>REGN_Close: Weight=0.429",
          "Return: 12.337%<br>Volatility: 0.088<br>Sharpe Ratio: 1.409<br>HD_Close: Weight=0.344<br>SRE_Close: Weight=0.656<br>AMGN_Close: Weight=0.000<br>XOM_Close: Weight=0.000",
          "Return: 59.051%<br>Volatility: 0.204<br>Sharpe Ratio: 2.891<br>REGN_Close: Weight=0.487<br>EW_Close: Weight=0.513<br>LLY_Close: Weight=0.000",
          "Return: 37.100%<br>Volatility: 0.147<br>Sharpe Ratio: 2.516<br>UA_Close: Weight=0.000<br>SAP_Close: Weight=1.000<br>DIS_Close: Weight=0.000",
          "Return: 72.780%<br>Volatility: 0.221<br>Sharpe Ratio: 3.295<br>NVDA_Close: Weight=0.249<br>PYPL_Close: Weight=0.751<br>COST_Close: Weight=0.000",
          "Return: 34.536%<br>Volatility: 0.162<br>Sharpe Ratio: 2.131<br>TXN_Close: Weight=0.046<br>MS_Close: Weight=0.000<br>AMD_Close: Weight=0.000<br>GOOGL_Close: Weight=0.954",
          "Return: 20.737%<br>Volatility: 0.179<br>Sharpe Ratio: 1.156<br>GIS_Close: Weight=0.000<br>AMGN_Close: Weight=0.000<br>F_Close: Weight=0.000<br>TXN_Close: Weight=1.000",
          "Return: 2.265%<br>Volatility: 0.089<br>Sharpe Ratio: 0.255<br>SYY_Close: Weight=0.000<br>PG_Close: Weight=0.000<br>GIS_Close: Weight=0.000<br>DUK_Close: Weight=1.000",
          "Return: 34.755%<br>Volatility: 0.131<br>Sharpe Ratio: 2.652<br>EW_Close: Weight=0.312<br>GOOG_Close: Weight=0.410<br>SYK_Close: Weight=0.278",
          "Return: 22.024%<br>Volatility: 0.091<br>Sharpe Ratio: 2.415<br>WMT_Close: Weight=0.418<br>AEP_Close: Weight=0.332<br>BTI_Close: Weight=0.249<br>GE_Close: Weight=0.000",
          "Return: 32.626%<br>Volatility: 0.092<br>Sharpe Ratio: 3.555<br>RTX_Close: Weight=0.459<br>DIS_Close: Weight=0.000<br>MCD_Close: Weight=0.541",
          "Return: 18.499%<br>Volatility: 0.142<br>Sharpe Ratio: 1.306<br>EMR_Close: Weight=0.000<br>EXC_Close: Weight=0.000<br>TMO_Close: Weight=1.000",
          "Return: 25.411%<br>Volatility: 0.092<br>Sharpe Ratio: 2.756<br>EW_Close: Weight=0.297<br>PEP_Close: Weight=0.703<br>DUK_Close: Weight=0.000",
          "Return: 35.443%<br>Volatility: 0.117<br>Sharpe Ratio: 3.020<br>INTC_Close: Weight=0.000<br>PEP_Close: Weight=0.791<br>NVDA_Close: Weight=0.209",
          "Return: 50.537%<br>Volatility: 0.129<br>Sharpe Ratio: 3.913<br>ADBE_Close: Weight=0.767<br>NKE_Close: Weight=0.000<br>LLY_Close: Weight=0.094<br>ORCL_Close: Weight=0.139",
          "Return: 53.852%<br>Volatility: 0.137<br>Sharpe Ratio: 3.936<br>ADBE_Close: Weight=0.714<br>GS_Close: Weight=0.000<br>MMM_Close: Weight=0.220<br>NVDA_Close: Weight=0.066",
          "Return: 7.554%<br>Volatility: 0.158<br>Sharpe Ratio: 0.477<br>ABT_Close: Weight=0.000<br>BMY_Close: Weight=0.000<br>WFC_Close: Weight=0.000<br>LLY_Close: Weight=1.000",
          "Return: 27.138%<br>Volatility: 0.116<br>Sharpe Ratio: 2.336<br>HD_Close: Weight=0.188<br>AMD_Close: Weight=0.000<br>PM_Close: Weight=0.812",
          "Return: 45.151%<br>Volatility: 0.143<br>Sharpe Ratio: 3.148<br>WMT_Close: Weight=0.462<br>NVDA_Close: Weight=0.227<br>BTI_Close: Weight=0.311<br>DUK_Close: Weight=0.000",
          "Return: 108.207%<br>Volatility: 0.443<br>Sharpe Ratio: 2.442<br>NVDA_Close: Weight=1.000<br>T_Close: Weight=0.000<br>EMR_Close: Weight=0.000",
          "Return: 58.111%<br>Volatility: 0.153<br>Sharpe Ratio: 3.799<br>PYPL_Close: Weight=0.433<br>ISRG_Close: Weight=0.567<br>COST_Close: Weight=0.000",
          "Return: 71.439%<br>Volatility: 0.300<br>Sharpe Ratio: 2.378<br>LLY_Close: Weight=0.000<br>KR_Close: Weight=0.000<br>K_Close: Weight=0.000<br>REGN_Close: Weight=1.000",
          "Return: 19.663%<br>Volatility: 0.096<br>Sharpe Ratio: 2.047<br>SO_Close: Weight=0.000<br>DHR_Close: Weight=0.000<br>BTI_Close: Weight=0.221<br>PEP_Close: Weight=0.779",
          "Return: 62.116%<br>Volatility: 0.213<br>Sharpe Ratio: 2.916<br>TMO_Close: Weight=0.608<br>BAC_Close: Weight=0.000<br>VRTX_Close: Weight=0.392",
          "Return: 24.292%<br>Volatility: 0.100<br>Sharpe Ratio: 2.431<br>DE_Close: Weight=0.471<br>AMGN_Close: Weight=0.000<br>T_Close: Weight=0.000<br>AEP_Close: Weight=0.529",
          "Return: 29.482%<br>Volatility: 0.118<br>Sharpe Ratio: 2.496<br>GM_Close: Weight=0.000<br>UNH_Close: Weight=1.000<br>F_Close: Weight=0.000",
          "Return: 57.015%<br>Volatility: 0.150<br>Sharpe Ratio: 3.803<br>ISRG_Close: Weight=0.543<br>GOOG_Close: Weight=0.048<br>PYPL_Close: Weight=0.409<br>XOM_Close: Weight=0.000",
          "Return: 42.367%<br>Volatility: 0.158<br>Sharpe Ratio: 2.676<br>GILD_Close: Weight=0.000<br>NKE_Close: Weight=0.000<br>COST_Close: Weight=0.000<br>META_Close: Weight=1.000",
          "Return: 47.299%<br>Volatility: 0.230<br>Sharpe Ratio: 2.055<br>CSCO_Close: Weight=0.000<br>EW_Close: Weight=1.000<br>F_Close: Weight=0.000",
          "Return: 31.261%<br>Volatility: 0.090<br>Sharpe Ratio: 3.471<br>PYPL_Close: Weight=0.325<br>LMT_Close: Weight=0.211<br>GIS_Close: Weight=0.000<br>PEP_Close: Weight=0.464",
          "Return: 12.842%<br>Volatility: 0.107<br>Sharpe Ratio: 1.199<br>SRE_Close: Weight=1.000<br>T_Close: Weight=0.000<br>DHR_Close: Weight=0.000",
          "Return: 24.606%<br>Volatility: 0.101<br>Sharpe Ratio: 2.436<br>PM_Close: Weight=0.626<br>EXC_Close: Weight=0.000<br>HON_Close: Weight=0.374",
          "Return: 34.395%<br>Volatility: 0.100<br>Sharpe Ratio: 3.438<br>GM_Close: Weight=0.000<br>SO_Close: Weight=0.000<br>MCD_Close: Weight=0.615<br>NEE_Close: Weight=0.385",
          "Return: 47.299%<br>Volatility: 0.230<br>Sharpe Ratio: 2.055<br>VZ_Close: Weight=0.000<br>EW_Close: Weight=1.000<br>GE_Close: Weight=0.000<br>EXC_Close: Weight=0.000",
          "Return: 31.452%<br>Volatility: 0.118<br>Sharpe Ratio: 2.668<br>HD_Close: Weight=0.088<br>ZBH_Close: Weight=0.210<br>SNAP_Close: Weight=0.000<br>SAP_Close: Weight=0.702",
          "Return: 50.627%<br>Volatility: 0.320<br>Sharpe Ratio: 1.582<br>UA_Close: Weight=0.000<br>GE_Close: Weight=0.000<br>NFLX_Close: Weight=1.000<br>IBM_Close: Weight=0.000",
          "Return: 28.955%<br>Volatility: 0.135<br>Sharpe Ratio: 2.146<br>DUK_Close: Weight=0.190<br>MO_Close: Weight=0.000<br>GOOGL_Close: Weight=0.810",
          "Return: 13.570%<br>Volatility: 0.134<br>Sharpe Ratio: 1.015<br>BSX_Close: Weight=1.000<br>RDY_Close: Weight=0.000<br>SO_Close: Weight=0.000",
          "Return: 13.570%<br>Volatility: 0.134<br>Sharpe Ratio: 1.015<br>GM_Close: Weight=0.000<br>BSX_Close: Weight=1.000<br>BIIB_Close: Weight=0.000",
          "Return: 72.024%<br>Volatility: 0.249<br>Sharpe Ratio: 2.889<br>NVDA_Close: Weight=0.406<br>QCOM_Close: Weight=0.000<br>SYY_Close: Weight=0.000<br>EW_Close: Weight=0.594",
          "Return: 18.656%<br>Volatility: 0.084<br>Sharpe Ratio: 2.223<br>RTX_Close: Weight=0.573<br>AAPL_Close: Weight=0.253<br>BIIB_Close: Weight=0.000<br>MDT_Close: Weight=0.174",
          "Return: -9.445%<br>Volatility: 0.200<br>Sharpe Ratio: -0.472<br>CPB_Close: Weight=0.000<br>MO_Close: Weight=1.000<br>F_Close: Weight=0.000",
          "Return: 29.608%<br>Volatility: 0.113<br>Sharpe Ratio: 2.614<br>SAP_Close: Weight=0.694<br>DIS_Close: Weight=0.000<br>LLY_Close: Weight=0.014<br>SRE_Close: Weight=0.292",
          "Return: 21.627%<br>Volatility: 0.118<br>Sharpe Ratio: 1.830<br>MMM_Close: Weight=1.000<br>NKE_Close: Weight=0.000<br>IBM_Close: Weight=0.000",
          "Return: 48.189%<br>Volatility: 0.122<br>Sharpe Ratio: 3.942<br>QCOM_Close: Weight=0.000<br>ABBV_Close: Weight=0.696<br>PYPL_Close: Weight=0.304",
          "Return: 21.267%<br>Volatility: 0.073<br>Sharpe Ratio: 2.903<br>MDT_Close: Weight=0.087<br>KO_Close: Weight=0.645<br>GOOG_Close: Weight=0.268<br>VZ_Close: Weight=0.000",
          "Return: 34.500%<br>Volatility: 0.187<br>Sharpe Ratio: 1.843<br>AMGN_Close: Weight=0.000<br>ORCL_Close: Weight=1.000<br>GE_Close: Weight=0.000<br>VZ_Close: Weight=0.000",
          "Return: 15.930%<br>Volatility: 0.080<br>Sharpe Ratio: 1.997<br>PEP_Close: Weight=0.804<br>NKE_Close: Weight=0.000<br>F_Close: Weight=0.000<br>CMCSA_Close: Weight=0.196",
          "Return: 13.570%<br>Volatility: 0.134<br>Sharpe Ratio: 1.015<br>BSX_Close: Weight=1.000<br>DIS_Close: Weight=0.000<br>JPM_Close: Weight=0.000",
          "Return: 39.526%<br>Volatility: 0.107<br>Sharpe Ratio: 3.677<br>SO_Close: Weight=0.000<br>BABA_Close: Weight=0.382<br>AEP_Close: Weight=0.618",
          "Return: 35.042%<br>Volatility: 0.141<br>Sharpe Ratio: 2.490<br>GOOG_Close: Weight=0.578<br>ORCL_Close: Weight=0.422<br>JPM_Close: Weight=0.000<br>TXN_Close: Weight=0.000",
          "Return: 36.750%<br>Volatility: 0.179<br>Sharpe Ratio: 2.053<br>DIS_Close: Weight=0.000<br>AMD_Close: Weight=0.000<br>T_Close: Weight=0.000<br>DE_Close: Weight=1.000",
          "Return: 13.214%<br>Volatility: 0.101<br>Sharpe Ratio: 1.306<br>AEP_Close: Weight=1.000<br>IBM_Close: Weight=0.000<br>JPM_Close: Weight=0.000",
          "Return: 28.268%<br>Volatility: 0.095<br>Sharpe Ratio: 2.963<br>GOOG_Close: Weight=0.255<br>SAP_Close: Weight=0.393<br>AEP_Close: Weight=0.352",
          "Return: 45.383%<br>Volatility: 0.143<br>Sharpe Ratio: 3.163<br>NKE_Close: Weight=0.000<br>RDY_Close: Weight=0.000<br>REGN_Close: Weight=0.293<br>MSFT_Close: Weight=0.707",
          "Return: 19.220%<br>Volatility: 0.097<br>Sharpe Ratio: 1.978<br>MRK_Close: Weight=0.000<br>ZBH_Close: Weight=0.262<br>LMT_Close: Weight=0.738",
          "Return: -6.262%<br>Volatility: 0.165<br>Sharpe Ratio: -0.378<br>EMR_Close: Weight=1.000<br>EXC_Close: Weight=0.000<br>MRK_Close: Weight=0.000",
          "Return: 43.859%<br>Volatility: 0.160<br>Sharpe Ratio: 2.736<br>TSLA_Close: Weight=0.362<br>SO_Close: Weight=0.000<br>HON_Close: Weight=0.638",
          "Return: 16.418%<br>Volatility: 0.082<br>Sharpe Ratio: 2.008<br>EMR_Close: Weight=0.000<br>LMT_Close: Weight=0.620<br>SRE_Close: Weight=0.380",
          "Return: 46.204%<br>Volatility: 0.131<br>Sharpe Ratio: 3.540<br>ISRG_Close: Weight=0.514<br>K_Close: Weight=0.000<br>SAP_Close: Weight=0.272<br>ORCL_Close: Weight=0.213",
          "Return: 20.720%<br>Volatility: 0.081<br>Sharpe Ratio: 2.545<br>RTX_Close: Weight=0.411<br>MDT_Close: Weight=0.083<br>V_Close: Weight=0.506",
          "Return: 41.558%<br>Volatility: 0.143<br>Sharpe Ratio: 2.907<br>MS_Close: Weight=0.000<br>ORCL_Close: Weight=0.335<br>AMZN_Close: Weight=0.665<br>GM_Close: Weight=0.000",
          "Return: 35.841%<br>Volatility: 0.117<br>Sharpe Ratio: 3.070<br>LMT_Close: Weight=0.339<br>MMM_Close: Weight=0.325<br>NVDA_Close: Weight=0.182<br>TMO_Close: Weight=0.154",
          "Return: 45.726%<br>Volatility: 0.113<br>Sharpe Ratio: 4.055<br>LLY_Close: Weight=0.102<br>PM_Close: Weight=0.279<br>AAPL_Close: Weight=0.000<br>ADBE_Close: Weight=0.619",
          "Return: 45.900%<br>Volatility: 0.114<br>Sharpe Ratio: 4.039<br>GOOGL_Close: Weight=0.000<br>ADBE_Close: Weight=0.646<br>JNJ_Close: Weight=0.354",
          "Return: 37.422%<br>Volatility: 0.110<br>Sharpe Ratio: 3.410<br>TMO_Close: Weight=0.161<br>PYPL_Close: Weight=0.404<br>JNJ_Close: Weight=0.435<br>ACN_Close: Weight=0.000",
          "Return: 28.519%<br>Volatility: 0.093<br>Sharpe Ratio: 3.079<br>CPB_Close: Weight=0.000<br>META_Close: Weight=0.471<br>PEP_Close: Weight=0.529",
          "Return: 47.478%<br>Volatility: 0.130<br>Sharpe Ratio: 3.639<br>NVDA_Close: Weight=0.124<br>JNJ_Close: Weight=0.504<br>PYPL_Close: Weight=0.371",
          "Return: 12.664%<br>Volatility: 0.114<br>Sharpe Ratio: 1.110<br>CSCO_Close: Weight=0.000<br>F_Close: Weight=0.000<br>MDT_Close: Weight=1.000<br>MO_Close: Weight=0.000",
          "Return: -22.800%<br>Volatility: 0.183<br>Sharpe Ratio: -1.243<br>CSCO_Close: Weight=0.000<br>AMGN_Close: Weight=1.000<br>WFC_Close: Weight=0.000<br>GE_Close: Weight=0.000",
          "Return: 32.001%<br>Volatility: 0.204<br>Sharpe Ratio: 1.565<br>AMD_Close: Weight=0.000<br>BTI_Close: Weight=1.000<br>GILD_Close: Weight=0.000",
          "Return: 38.994%<br>Volatility: 0.122<br>Sharpe Ratio: 3.190<br>UNH_Close: Weight=0.644<br>REGN_Close: Weight=0.251<br>SNAP_Close: Weight=0.000<br>SYK_Close: Weight=0.105"
         ],
         "type": "scatter",
         "x": [
          0.11266701198239129,
          0.11619938157883136,
          0.0714237393528332,
          0.15841873787860308,
          0.19227875257331342,
          0.1061682584643733,
          0.16157570858530584,
          0.09204232466329057,
          0.17953744082439416,
          0.1857112269028147,
          0.1654664760173538,
          0.10214985743286169,
          0.17164014690213655,
          0.10711893056739742,
          0.10562385771206154,
          0.10833449868657821,
          0.1788347684302222,
          0.13254418108114147,
          0.23331485172155092,
          0.10436652871453006,
          0.19768314268406673,
          0.11188460852308445,
          0.1816636606839044,
          0.1349889686757194,
          0.14744308103489462,
          0.2700949124336812,
          0.11422155166065502,
          0.07516410398045428,
          0.07868484936480097,
          0.10500576853193751,
          0.09321934915882768,
          0.10656536114343994,
          0.12978593033768995,
          0.10656536114344052,
          0.09321819929572393,
          0.11041348534359077,
          0.1474430810348919,
          0.09871001498735724,
          0.10299189457014399,
          0.16185801067386,
          0.16533678709758257,
          0.15831484698838297,
          0.14074082683192365,
          0.3425909163875697,
          0.11556540963112652,
          0.11041348534359079,
          0.11390572719541046,
          0.13670711098018168,
          0.15405137949162406,
          0.11910563428367314,
          0.13670711098018198,
          0.10656536114344047,
          0.08112230185530983,
          0.10829592514861686,
          0.1434804401382069,
          0.214032353917079,
          0.15177177374391995,
          0.0954014058826014,
          0.12026360578863525,
          0.10600813569938865,
          0.11041348534359081,
          0.1117469235044273,
          0.1601571762773014,
          0.12444166694111224,
          0.11135648268133004,
          0.09165799572736108,
          0.09487109753926551,
          0.10114724460622365,
          0.11188209225190825,
          0.1551678670443409,
          0.13670711098018168,
          0.11802296962795746,
          0.118098412368868,
          0.10711893056740138,
          0.08891093543314475,
          0.1920484439684333,
          0.09247258610783829,
          0.1043634758742976,
          0.08853807746196507,
          0.2061159455533478,
          0.1317166872550563,
          0.12262165810564964,
          0.09153617210186635,
          0.11524819285557442,
          0.10307136812595191,
          0.08946463336009737,
          0.11413692461067473,
          0.3807528906209914,
          0.09672189363996807,
          0.14073711835853434,
          0.11024445513909972,
          0.20449865960880637,
          0.13364857631118435,
          0.08891093543314478,
          0.15378763345389393,
          0.1306476512403193,
          0.0996243471282815,
          0.15575392432257798,
          0.23020420632818153,
          0.1790299268668573,
          0.11915127335762508,
          0.10402224301017639,
          0.14772172674420792,
          0.08233981916554582,
          0.17141731811715485,
          0.11796829338839801,
          0.09495218058233293,
          0.0826016669181247,
          0.12085535915999572,
          0.14435817542611826,
          0.20004998325479129,
          0.0916010857913727,
          0.1413646040759029,
          0.1255740615478603,
          0.08805485392283412,
          0.14728261335971707,
          0.17953744082440048,
          0.221326200419824,
          0.20582677930547544,
          0.10102289986995713,
          0.1065653611434403,
          0.10769614105393319,
          0.33478487124177175,
          0.12444894597910948,
          0.08154836070917033,
          0.13267310361139348,
          0.17902992686685817,
          0.11624235892544818,
          0.10114724460622355,
          0.1155654096311265,
          0.10178608803176868,
          0.2000499832547944,
          0.10799983192257587,
          0.08414405492770552,
          0.13498896867571922,
          0.11297379583659405,
          0.09789178974625376,
          0.21403983431165352,
          0.11878737819602539,
          0.16151788369968015,
          0.15405137949162417,
          0.1407371183585344,
          0.11802963080765072,
          0.15523658494456813,
          0.09517887697141633,
          0.1816196036338988,
          0.1500639443283921,
          0.12715249377822424,
          0.44319125495655937,
          0.11100034121343158,
          0.1922809016801977,
          0.1343841195054231,
          0.31565780062413035,
          0.11413692461067476,
          0.1763208834610534,
          0.181619603633899,
          0.13929206433118171,
          0.120611203681386,
          0.14637652791369732,
          0.16943056601130382,
          0.0930406404276688,
          0.11345056218258653,
          0.1309855130452441,
          0.1244489459791094,
          0.22920643287493103,
          0.10402118078782246,
          0.1416645625433029,
          0.0759086590810899,
          0.0759550388416023,
          0.14643455962114782,
          0.1155654096311264,
          0.10656536114344019,
          0.13661849448937527,
          0.08877620089579887,
          0.09652386777732609,
          0.1048677073340053,
          0.22308166678273786,
          0.08891093541868643,
          0.11586754429908616,
          0.1367071109801817,
          0.10898254478373227,
          0.11154698685224813,
          0.11041348534359102,
          0.1446197971382941,
          0.1820490646416927,
          0.08692206752029555,
          0.13992283993890076,
          0.09435989223347682,
          0.15617849925554259,
          0.20126700607000336,
          0.10529080595771256,
          0.11763543288020409,
          0.07871425269589098,
          0.18161960363389906,
          0.24935551228347372,
          0.1155654096311265,
          0.14744308103489462,
          0.11100034121343166,
          0.11041348534359079,
          0.15727501861020352,
          0.1929403019349982,
          0.1325648461444321,
          0.1039468056228503,
          0.10232624799996204,
          0.14166456254330287,
          0.1264757643239226,
          0.10940339879588547,
          0.4863648976831224,
          0.0666254777340744,
          0.10152591481450579,
          0.10780429200456061,
          0.09982122810289942,
          0.1191185385131526,
          0.19438470159639362,
          0.1444715371051209,
          0.08493690285306915,
          0.11696821562048249,
          0.13364857631118413,
          0.22309278515348577,
          0.14744308103489462,
          0.10306829964755441,
          0.12535272798471417,
          0.09322049157669814,
          0.15462939583331514,
          0.07443581158022494,
          0.15831484698838294,
          0.0901107323525639,
          0.17562547207622153,
          0.1269936740052351,
          0.16111615891333791,
          0.1534123589374857,
          0.25898817462361096,
          0.12865981475378227,
          0.38075289062100853,
          0.17902992686685837,
          0.1367071109801806,
          0.6944244938485963,
          0.12277886136156033,
          0.10711893056740132,
          0.12444894597910616,
          0.11007251572595686,
          0.1443991841777432,
          0.09076769011330774,
          0.11138325758076643,
          0.15175062538013004,
          0.11413692461007392,
          0.11699349253417855,
          0.09850974600816365,
          0.11460485467640588,
          0.10689390875823408,
          0.20427661694278829,
          0.11409727331111683,
          0.10517823629294618,
          0.12560422103336488,
          0.10500576853193748,
          0.17632088346105348,
          0.08737194682479031,
          0.10212896192154626,
          0.11505345900795533,
          0.06957036284762937,
          0.23331485172155095,
          0.1367071109801821,
          0.16124378908503412,
          0.1714173181171538,
          0.1816196036338984,
          0.0932822660220472,
          0.12855371453389233,
          0.09026937607776062,
          0.0943130045223554,
          0.40500415523575123,
          0.38075289062097395,
          0.11041348534359102,
          0.1244489459791094,
          0.09505455407806497,
          0.15462939583331575,
          0.10316653390944792,
          0.09020446740877702,
          0.10629647278986101,
          0.10371557173859451,
          0.10074688772965668,
          0.08855617307634024,
          0.11411187750799275,
          0.13562135123081456,
          0.12440844278282685,
          0.10923566904757304,
          0.09020307226693845,
          0.139369301218282,
          0.13670711098018168,
          0.17141731811715485,
          0.09176841890060085,
          0.12389914037356564,
          0.09330478314447273,
          0.17141731811715474,
          0.08506909195119108,
          0.13828866591627018,
          0.12444166694111224,
          0.10656536114344045,
          0.1966991573307775,
          0.1584296522886123,
          0.3347848712417733,
          0.14744308103489462,
          0.16546647601884457,
          0.3426646368189671,
          0.1713287460897358,
          0.1871699964741909,
          0.13827619707307612,
          0.20986736472779807,
          0.1155654096311262,
          0.19768314268406706,
          0.08717196310116125,
          0.09473368855921664,
          0.11954346435971441,
          0.11556540963112648,
          0.14645853208935466,
          0.18567501256022972,
          0.11815866641133024,
          0.1321384920388622,
          0.09959472004749717,
          0.11815866641133034,
          0.10213514726654488,
          0.14480068706428553,
          0.11869993992867353,
          0.15405137949162412,
          0.1011472446062235,
          0.08742930946151532,
          0.19768314268406714,
          0.11968325266955998,
          0.1444224216793773,
          0.12446562081658559,
          0.16018202758442712,
          0.09980965616692729,
          0.17401766998088253,
          0.14730767758113175,
          0.0985097460079611,
          0.10500576853193713,
          0.1414039252022325,
          0.1152058598790668,
          0.12374779471303751,
          0.10686896666781476,
          0.11556540963112652,
          0.20986736472780185,
          0.16546647601884454,
          0.14744308103489462,
          0.12909666166656528,
          0.20449865960880637,
          0.07423121588246227,
          0.13398086545472787,
          0.06687126367277756,
          0.09751986469791435,
          0.16937005350993625,
          0.09850974600816366,
          0.2291152978251556,
          0.13212427038416413,
          0.13364857631118435,
          0.14776248056562796,
          0.08700155273236387,
          0.2018774237857146,
          0.16533678709758257,
          0.1584296522886123,
          0.08239107819181461,
          0.09850974600813661,
          0.08673824457323233,
          0.11804448537801868,
          0.11041348534359077,
          0.07441014657394387,
          0.08100561810623629,
          0.10384094099300611,
          0.1751938528879089,
          0.17600446916240414,
          0.11556540963112655,
          0.12473498648045496,
          0.09850974600816365,
          0.14702921658093657,
          0.17141731811715483,
          0.11041559988279494,
          0.09315823085028131,
          0.11290768115673964,
          0.1549022395309792,
          0.3065702649838931,
          0.15371456652617682,
          0.13278132103964285,
          0.16157570858530584,
          0.11586833391611162,
          0.11642447425926716,
          0.12560353055449563,
          0.1583148469883829,
          0.13987070441374994,
          0.16350168943947185,
          0.10838366213179804,
          0.09207887858900615,
          0.10813288874469969,
          0.14952250120415458,
          0.11413692461067483,
          0.10258168321958577,
          0.07500493344688329,
          0.30036675050511535,
          0.1137526092138686,
          0.11732043220415113,
          0.17141731811715463,
          0.0757437449360302,
          0.07041478039977074,
          0.18719335953005112,
          0.10321638303190821,
          0.13482998769286766,
          0.13267310361069806,
          0.14117510161350294,
          0.15831484698838094,
          0.09471374339847334,
          0.13670711098018168,
          0.1237128401033428,
          0.17942062642413417,
          0.6944244938485963,
          0.23020420632818164,
          0.44319125495653333,
          0.18911414971256063,
          0.3807528906210105,
          0.1714173181171502,
          0.1474430810348947,
          0.07766350676612697,
          0.13498896867571875,
          0.0888640428790565,
          0.1091116307280068,
          0.11618155478717934,
          0.13278150099038838,
          0.16194229289565898,
          0.16980094137929524,
          0.158314846988382,
          0.10274254328610614,
          0.14776248058758173,
          0.13695808914350088,
          0.09321934915882768,
          0.17902992686685043,
          0.1477624805875815,
          0.1156163439511019,
          0.2302042063281816,
          0.07829571744046199,
          0.08419765066226366,
          0.07751932715726846,
          0.12747011738919628,
          0.10114724460491221,
          0.10684394746512564,
          0.16027952471601603,
          0.15411301040722467,
          0.08215324237559603,
          0.10500576853193748,
          0.1718193090224352,
          0.16943056601130382,
          0.07572855310299619,
          0.11434201391539862,
          0.07663419446345962,
          0.30036675050511524,
          0.14073711835853434,
          0.2714009443959881,
          0.08324964649273885,
          0.11566207757753166,
          0.19229608841759704,
          0.13498896867571936,
          0.08463676954089147,
          0.18815676929457795,
          0.14073711835853409,
          0.17141731811720717,
          0.12836858407804352,
          0.09696523394404036,
          0.14744308103489367,
          0.1168247343061094,
          0.12333826417075584,
          0.08592085402885,
          0.12989024681311898,
          0.09148876618279747,
          0.11134706142976535,
          0.1765863352582999,
          0.08909890984479478,
          0.08835822836899085,
          0.10114724460622364,
          0.29085019063965223,
          0.0763524630416392,
          0.0985097460081636,
          0.12233237866097899,
          0.13879316959410407,
          0.1047681786262002,
          0.11134637931044018,
          0.14744308103489415,
          0.21885840273176418,
          0.3347848712417733,
          0.10127086132514432,
          0.15187007458565446,
          0.06655212209309025,
          0.23856913492017653,
          0.09607807671000583,
          0.09768761249872396,
          0.09786322087477964,
          0.2623417096846006,
          0.10114724460622365,
          0.20677717056417436,
          0.10373737975838637,
          0.12195832784641956,
          0.12444166694111224,
          0.15462939583330831,
          0.16471990339399287,
          0.1416645625433025,
          0.08891093543314478,
          0.19232641562412017,
          0.1558220230023457,
          0.09218169771005995,
          0.08707815505750359,
          0.24929944091850822,
          0.12886949364265207,
          0.17902992686685687,
          0.10501209592824329,
          0.17122509436305147,
          0.08239511691637322,
          0.11949777317795858,
          0.1477217267442079,
          0.12682554318299236,
          0.11969196232764469,
          0.09152501352033496,
          0.09622355857767248,
          0.11883464003163889,
          0.10656536114344047,
          0.10166913572021884,
          0.14461979713829215,
          0.17942062642413417,
          0.10986478344801166,
          0.09478640571445247,
          0.1011472446062237,
          0.14772172674420792,
          0.08904809929955654,
          0.08495380043190467,
          0.31992617479444385,
          0.09960244332354962,
          0.1209280457754941,
          0.10711893056739732,
          0.11809841236886796,
          0.1244489459791094,
          0.13498896867571936,
          0.18339448537609018,
          0.15842965228861214,
          0.09148536842471758,
          0.170567993723573,
          0.08836401495007455,
          0.10955652447323423,
          0.17669087723685278,
          0.08893129074049579,
          0.08495770569256178,
          0.37875810731978216,
          0.13670711098018168,
          0.12560422103337124,
          0.12135833749501586,
          0.1393683326815437,
          0.09495981388225343,
          0.3807528906210069,
          0.07953068195442191,
          0.11590962714200508,
          0.17632088346105335,
          0.22528728155021036,
          0.2429621465925247,
          0.16454474714756,
          0.0962336181376643,
          0.08096856703055626,
          0.17953744082440293,
          0.13214914651255083,
          0.22906198436778707,
          0.14435817542611828,
          0.11633670393231933,
          0.06455616497350168,
          0.10447480836619477,
          0.11413692461067469,
          0.14154609406947066,
          0.09613588050104355,
          0.14799330957714785,
          0.1244489459791094,
          0.09119522580377912,
          0.11100034121343166,
          0.15570618131443284,
          0.11206593424286472,
          0.09018665817427818,
          0.08709048674546682,
          0.15370169355885852,
          0.09461680823350017,
          0.09152222626286828,
          0.1256742578368258,
          0.0757285531029962,
          0.486364897683122,
          0.09622052098747416,
          0.09046729324860368,
          0.4863648976831228,
          0.10054940765797304,
          0.14744308103489384,
          0.12291937238371506,
          0.14744308103489462,
          0.1078213528618232,
          0.2098673647278018,
          0.12168312003081602,
          0.10439369993119052,
          0.2333148517215508,
          0.18177491275805738,
          0.14744308103489462,
          0.44319125495654976,
          0.21088022053231986,
          0.06651823352551207,
          0.6685834643552038,
          0.14799341114928347,
          0.09821671915938418,
          0.23020420632818153,
          0.1739980068458107,
          0.10788955009573081,
          0.1477217267442077,
          0.08929537592220077,
          0.15462939583331628,
          0.13498896867571936,
          0.14435513167370467,
          0.1406143803609165,
          0.48636489768312297,
          0.09953341267314846,
          0.14772172674420664,
          0.1416645625433029,
          0.10071223616874717,
          0.08320687231883526,
          0.07414593635892353,
          0.10218539634094073,
          0.08182213756189935,
          0.10713591199742428,
          0.06618529785716327,
          0.17942062642413417,
          0.10500576853193748,
          0.16533678709758248,
          0.21885840273176432,
          0.07286004697611267,
          0.1405279973434759,
          0.08797832277513715,
          0.08737194682479042,
          0.13386963242405736,
          0.1416645625433027,
          0.11041348534359063,
          0.13683022218387433,
          0.15117269027954192,
          0.1790299268668567,
          0.07044320878132959,
          0.13786642944349667,
          0.16351206824735912,
          0.1343841195054231,
          0.10711893056740152,
          0.18716999647419072,
          0.10747593136744259,
          0.1694305660113038,
          0.09178808482682606,
          0.08043108927296387,
          0.14518724362587607,
          0.11809841236886683,
          0.3065810582368219,
          0.15462939583331725,
          0.09171525293049122,
          0.1158756083426922,
          0.2589881746236112,
          0.1155654096214037,
          0.09672942780716388,
          0.10610817512096585,
          0.10500576853193723,
          0.15462939583331575,
          0.12359232437066206,
          0.2504775723917567,
          0.06680481040431954,
          0.13438411950542312,
          0.15008713970433374,
          0.15462939583331503,
          0.10711893056731983,
          0.09850974600816365,
          0.10711893056739559,
          0.08891093512734892,
          0.1178867139354065,
          0.11138130874411523,
          0.2098673647278018,
          0.44319125495655587,
          0.12002303874108054,
          0.23020420632817937,
          0.10589161685467247,
          0.14772172674420667,
          0.1840534795053896,
          0.4863648976831108,
          0.1112422006662015,
          0.23331485172154973,
          0.16157570858530584,
          0.13053043735720005,
          0.150044426379318,
          0.17600446916240414,
          0.3109815876475588,
          0.11815866641133016,
          0.12449262444490475,
          0.13364857631118432,
          0.08441761128443406,
          0.31992617479444985,
          0.09752966129821165,
          0.08263091540850834,
          0.07893262627850184,
          0.09488811538742427,
          0.1794206264241342,
          0.09894192237132425,
          0.6944244938485962,
          0.16943056601130382,
          0.6944244938485963,
          0.13641762869234084,
          0.16178555365004174,
          0.13570931614595613,
          0.14984394661198547,
          0.10149086968971577,
          0.1416645625433027,
          0.11004002840028958,
          0.09509084707792492,
          0.10532571382889405,
          0.12260584419113324,
          0.10711893056740138,
          0.20608410075121328,
          0.3003667505051155,
          0.08891093543314557,
          0.10476822141159386,
          0.10312356315507237,
          0.07572855310299621,
          0.18339448537608988,
          0.12885499458741015,
          0.15340612015431254,
          0.07223475381145932,
          0.17902992686685767,
          0.4431912549565612,
          0.19768314268406698,
          0.0713351778221007,
          0.13262274987800088,
          0.1011472446062237,
          0.1011472446062237,
          0.12444166694111203,
          0.13431367555952597,
          0.13949553487868052,
          0.09915858337967516,
          0.09161703807502483,
          0.11973217336332254,
          0.08566308576731572,
          0.09913157164687335,
          0.1050275225460602,
          0.0739710991513321,
          0.17942062642413417,
          0.11547971416770382,
          0.08913759646937627,
          0.13915736856780164,
          0.1407371183585343,
          0.14704306075171952,
          0.16258725931722753,
          0.11340033116350848,
          0.6685834643552038,
          0.17902992686685487,
          0.1766904049688053,
          0.1247182987058012,
          0.11534337157088793,
          0.12473816442384696,
          0.19768314268406703,
          0.15516786704434335,
          0.12044159385408429,
          0.11293366220971247,
          0.08891093543313668,
          0.19768314268406684,
          0.4050041552357513,
          0.0862423281691506,
          0.1871699964741908,
          0.10539225859565372,
          0.25898817462361096,
          0.10114724460622346,
          0.1962899623007427,
          0.13387044817530683,
          0.12208744839473452,
          0.10791310045751148,
          0.270430709809418,
          0.10113107630191194,
          0.10500576853193754,
          0.3003667505051155,
          0.1288720612148084,
          0.133511297953599,
          0.09324508331972342,
          0.1129720507675197,
          0.13814121212342143,
          0.14461979713829415,
          0.11719203065736965,
          0.10114724460622337,
          0.18339448537608896,
          0.09677296976462421,
          0.14140011600531763,
          0.1036474065512226,
          0.16157570858530584,
          0.16683129434029553,
          0.09314807701034829,
          0.129761610774153,
          0.14558773161387326,
          0.09676064525102537,
          0.14234610105665352,
          0.3807528906210076,
          0.16472268163873158,
          0.11658389053530813,
          0.12444894597910945,
          0.10841399823528744,
          0.2098673647278018,
          0.10711893056740138,
          0.1250076306884253,
          0.1306463512182214,
          0.09321934915882761,
          0.6685834643552035,
          0.16151788369968037,
          0.16028722895651323,
          0.0932193491588277,
          0.12492980624143349,
          0.1356746318261204,
          0.08891093542862777,
          0.13212481794228664,
          0.10943804886240067,
          0.1790299268668578,
          0.08176518805476425,
          0.08651887813935222,
          0.12533446047719496,
          0.3217913512122925,
          0.11815866641133034,
          0.10358831631657038,
          0.10626270359172386,
          0.10588552078278636,
          0.16546647601884454,
          0.0873719468247903,
          0.1622869253662436,
          0.13670711098017424,
          0.10114724460622362,
          0.18177491275804442,
          0.15429573605864436,
          0.18114115689959837,
          0.08234588623610216,
          0.20449865960880637,
          0.09793499752958591,
          0.17942062642413417,
          0.17658633472059498,
          0.11881413184935266,
          0.17182034076879044,
          0.0796924068786047,
          0.094922046397076,
          0.118098412368868,
          0.14772172674420614,
          0.08465073431626025,
          0.15831484698838227,
          0.13255383470652918,
          0.16943056601130324,
          0.12444166694111228,
          0.300366750505113,
          0.3003667505051155,
          0.09636075100446158,
          0.08686692488574642,
          0.1340125286358776,
          0.11556540963112652,
          0.11330572763467084,
          0.14776248058758168,
          0.1155654096311261,
          0.11822863360144101,
          0.0873719468247903,
          0.11008669718764862,
          0.0967218693577423,
          0.08832901209919687,
          0.09340628865533114,
          0.0838126097496218,
          0.10189295428229879,
          0.08496165522398941,
          0.4431912549565617,
          0.17902992686685817,
          0.21613259378228955,
          0.12444166694111036,
          0.11375763847923495,
          0.11747003470217607,
          0.17758108165707037,
          0.11832247541604886,
          0.08040543588162499,
          0.13438411950542312,
          0.1845674407347673,
          0.1326731036113935,
          0.12051281998160523,
          0.11413692461067473,
          0.1403990405929566,
          0.13708932919836814,
          0.06643605414707957,
          0.1392839744933334,
          0.11809841236886791,
          0.07122107720435718,
          0.10114724460622349,
          0.16961836867670577,
          0.1104134853435906,
          0.09152468787430869,
          0.4431912549565602,
          0.14142632828670593,
          0.08651583017014923,
          0.13670711098018168,
          0.09431170666824855,
          0.10282984075525065,
          0.11022002615567435,
          0.14461979713829376,
          0.1618542324697918,
          0.10921570145372285,
          0.12346225789454787,
          0.11100034121343165,
          0.1116826626892093,
          0.10656536114344047,
          0.21317238690127377,
          0.06993464439716629,
          0.07298490850763144,
          0.09731753731220914,
          0.13498896867571888,
          0.09850974600816363,
          0.11568062796283267,
          0.10114724460622358,
          0.07610454717069236,
          0.12333826417075547,
          0.17251100858994595,
          0.0873719468247903,
          0.07964237900200531,
          0.08771696670620652,
          0.16546647601884454,
          0.1356274710316376,
          0.13364857631118435,
          0.1790299268668581,
          0.11043947944976867,
          0.1065736903004697,
          0.12060726856531746,
          0.10018820304326113,
          0.1059203248199206,
          0.07578374563056767,
          0.13364857631118413,
          0.15651283561646476,
          0.2830194232343677,
          0.09822487843795756,
          0.1714173181171539,
          0.1923197995063847,
          0.087584304151901,
          0.2042762299835429,
          0.14744308103489445,
          0.22089564294297015,
          0.1620829170595117,
          0.17942062642413417,
          0.0889109354331259,
          0.13103379775194232,
          0.09118203266517792,
          0.09178259926936269,
          0.14166456254330276,
          0.09219374311215663,
          0.11736568612370618,
          0.12916388934823286,
          0.13681062481868236,
          0.1584296522886123,
          0.11618816405258678,
          0.14342399955813603,
          0.4431912549565617,
          0.1529480448460177,
          0.3003667505051134,
          0.09607807894491963,
          0.213025099784353,
          0.09991841173962478,
          0.118098412368868,
          0.14990353091715294,
          0.158314846988383,
          0.23020420632817898,
          0.09007075391364913,
          0.10711893056740138,
          0.10102266560130164,
          0.10004802900285796,
          0.23020420632818153,
          0.1179026085129412,
          0.31992617479444985,
          0.13495274212247885,
          0.1336485763111843,
          0.1336485763111843,
          0.2493405997381784,
          0.08390837027652176,
          0.2000499832547945,
          0.11325658359884823,
          0.11815866641132869,
          0.12223172930985071,
          0.07325006851304462,
          0.1871699964741908,
          0.07977805085621402,
          0.1336485763111844,
          0.10749411315282324,
          0.14074109345667518,
          0.17902992686685817,
          0.10114724460621353,
          0.09539358856151485,
          0.14348209183518004,
          0.09719441946917301,
          0.16546647601884454,
          0.16032414443403475,
          0.08175864036541092,
          0.1305228740123035,
          0.08140087594702987,
          0.1429689782613168,
          0.11676331226132701,
          0.11276613905170042,
          0.11364006757390187,
          0.10974656197268778,
          0.09262862248716444,
          0.13048297431882108,
          0.11413692461067443,
          0.18339448537608918,
          0.20449865960880637,
          0.12224241097558104
         ],
         "y": [
          0.4092696529927373,
          0.26956016152113405,
          0.16333878364773463,
          0.5298554345302856,
          0.3300970449798347,
          0.252363853424274,
          0.2546185052792848,
          0.21469931374434462,
          0.5587656525803014,
          0.5881239120840859,
          -0.06262464287516994,
          0.24726602261784064,
          0.5084926726227895,
          0.1284224437009988,
          0.44473048918398717,
          0.27737583046542374,
          0.5315950179292476,
          0.27155096209548885,
          0.3219698438622277,
          0.40921250853305635,
          0.11691010769969991,
          0.2997700612075335,
          0.38108989037270735,
          0.3079046611632043,
          0.37099554801231266,
          0.7812270814092691,
          0.4417308760240264,
          0.29010537211519644,
          0.25505246493109984,
          0.16636833065399184,
          0.1747422267899393,
          0.18608178666335232,
          0.3538174664786468,
          0.1860817866633598,
          0.2342284163931463,
          0.24670901132639092,
          0.3709955480122955,
          0.2125418778322067,
          0.4519653377731182,
          0.5654620956760384,
          0.3519645184492382,
          0.4236679638845757,
          0.35042288326620774,
          1.1904339867877494,
          0.19678692987030796,
          0.24670901132639086,
          0.30188900980998523,
          0.34582446011963724,
          0.14956869016761531,
          0.30385167858614115,
          0.3458244601196379,
          0.18608178666335987,
          0.23217857233451056,
          0.32593029521969225,
          0.45382000405083933,
          0.6810407037620065,
          0.3200902477677737,
          0.11815528028209019,
          -0.15219842393642102,
          0.19234700342377462,
          0.24670901132639053,
          0.4389276158953733,
          0.5075821926047901,
          0.2868868279145452,
          0.42467917141742084,
          0.22010520016636514,
          0.2520542232962696,
          0.13214147166595258,
          0.47078648470161916,
          -0.06895340441140137,
          0.3458244601196371,
          0.20990415866536527,
          0.2948187628560076,
          0.12842244370100964,
          0.022645549695689726,
          0.706537367179332,
          0.1756718897527671,
          0.3607062300424938,
          0.16626583122093247,
          0.6752189882587736,
          0.36736876493890047,
          0.282459620296965,
          0.1922016091928075,
          0.30891111950693595,
          0.39675867990973984,
          0.26291321415204066,
          0.1266383949946327,
          0.9603950410417209,
          0.21617138402994313,
          0.2470632579595786,
          0.41119975443984996,
          0.3200089778911353,
          0.13569978290206677,
          0.022645549695689746,
          0.32941527300571655,
          0.37404902991682676,
          0.27927288679597306,
          0.5588565738737086,
          0.4729925276710415,
          0.3675022661215639,
          0.49662952656925463,
          0.2662453353021849,
          0.19289681337155545,
          0.15577552897025737,
          0.45112766639424234,
          0.31196619204039894,
          0.23761982453841712,
          0.1712282589991129,
          0.30270831091271877,
          -0.08424860893465243,
          -0.09444781910874726,
          0.3324842841277873,
          0.43963622986051487,
          0.4209354977103544,
          0.25509216290103515,
          0.26203973608944253,
          0.558765652580331,
          0.7797986732122628,
          0.7357242732086986,
          0.2460621679885103,
          0.186081786663359,
          0.3865574732666273,
          -0.33043620258580697,
          0.4258250579239186,
          0.15514038797167384,
          -0.00556367269807604,
          0.36750226612157205,
          0.17208202693402386,
          0.1321414716659526,
          0.19678692987030794,
          0.3535915970418571,
          -0.094447819108748,
          0.2745738035010963,
          0.13683182288811682,
          0.30790466116320353,
          0.4179118104312317,
          0.22456212045753265,
          0.6810645050370008,
          0.2152008548085109,
          -0.18066832881769826,
          0.14956869016761562,
          0.24706325795957854,
          0.209916004453069,
          0.43383056381011553,
          0.17360703705568273,
          0.05054774043234674,
          0.47797512677963716,
          0.2809456243111313,
          1.0820731752412518,
          0.22520051750039852,
          0.5073973335979289,
          0.11372924955285864,
          0.971097109272067,
          0.12663839499463292,
          -0.30961447701189265,
          0.0505477404323472,
          0.4595882387584905,
          0.2820741128468879,
          0.5038827059663725,
          0.35438412988292306,
          0.20351370248758865,
          0.3275150640447162,
          0.2604147495484161,
          0.42582505792391867,
          0.5898136258565053,
          0.28413210590529037,
          0.1849885607077445,
          0.15326123369856126,
          0.3511680557367382,
          0.39616887429682923,
          0.19678692987030746,
          0.18608178666335828,
          0.3618108694561244,
          0.22994213376270048,
          0.1302428151336695,
          0.3846243220073405,
          0.538956162050637,
          0.022645549653496477,
          0.24224009926772305,
          0.3458244601196371,
          0.19547652123514778,
          0.38457404078545887,
          0.2467090113263912,
          0.4550204579964437,
          0.5882593613265649,
          0.23213116238561832,
          0.4527268536432357,
          0.2944182434434271,
          0.469254202585145,
          0.5808854796972418,
          0.3983267326065132,
          0.28881544477072424,
          0.3479800275581229,
          0.05054774043234696,
          0.7202790452815222,
          0.19678692987030796,
          0.37099554801231266,
          0.22520051750039896,
          0.24670901132639103,
          0.4243007809760159,
          0.6218467299927858,
          0.36514318129809936,
          0.34639909089641224,
          0.19051032447524002,
          0.1849885607077442,
          0.4927331264577857,
          0.26091385169569364,
          1.2974571834245388,
          0.1999546134646564,
          0.39927851198161085,
          0.21909452268157772,
          0.22117691999392416,
          0.4099195080106083,
          0.4987165829803776,
          0.48958056290132057,
          0.2877655054117034,
          0.41024534710503835,
          0.13569978290206564,
          0.6052321983039096,
          0.37099554801231266,
          0.2855834174117845,
          0.31382723214970043,
          0.23423419171078758,
          0.5872493713006232,
          0.17047827947520783,
          0.42366796388457595,
          0.1952833305385907,
          0.5161626298611257,
          0.3013575632364341,
          0.26454190601966665,
          0.5734316828888484,
          -0.27546595001387497,
          0.45981819407641694,
          0.9603950410418072,
          0.3675022661215682,
          0.34582446011963325,
          -0.5808988670376021,
          0.19887432378704825,
          0.12842244370100944,
          0.4258250579238945,
          0.2571432248427583,
          0.30533718474173915,
          0.18781405683808594,
          0.3101737253436284,
          0.42979124500008015,
          0.12663839496091855,
          0.40337317206662016,
          0.14235151831026327,
          0.16438497135587915,
          0.16061935901756105,
          0.5905096772920815,
          0.3820219304751816,
          0.2636969427947756,
          -0.08870898651350598,
          0.16636833065399168,
          -0.30961447701189265,
          0.1616680806517745,
          0.13518904773700433,
          0.20421343414224954,
          0.16647249781732637,
          0.3219698438622277,
          0.3458244601196381,
          0.3382447854361535,
          0.4511276663942373,
          0.05054774043234639,
          0.17831749902457553,
          0.21194064176523433,
          0.2692784125346663,
          0.2891140427887648,
          -0.8070817802680657,
          0.9603950410416935,
          0.24670901132639053,
          0.4258250579239176,
          0.2622094931935768,
          0.5872493713006295,
          0.29086189215779035,
          0.18072901361687585,
          0.4422437514961493,
          0.21795226433739862,
          0.3737747995117209,
          0.35250732225091463,
          0.285289594392159,
          0.4281002940212709,
          0.33697042591024035,
          0.2821307227444415,
          0.18072622110066835,
          0.24531567940509497,
          0.34582446011963724,
          0.451127666394242,
          0.1721846985653015,
          0.43331846631152593,
          0.21604194213337402,
          0.45112766639424184,
          0.16847068040276353,
          0.25525227664768874,
          0.2868868279145452,
          0.1860817866633593,
          0.6001321225459764,
          0.07553631084441387,
          -0.3304362025858044,
          0.37099554801231266,
          -0.06262464286234401,
          0.981596417054255,
          0.4073321174521669,
          0.3450017878641329,
          0.44779985248790305,
          0.6104054714507064,
          0.19678692987030655,
          0.11691010769970114,
          0.22840719095422163,
          0.16647836803084462,
          0.4534806478505975,
          0.19678692987030746,
          0.5615061639939585,
          0.5880092693774969,
          0.21626835395517022,
          0.5068156285530181,
          0.10058074682328412,
          0.21626835395517136,
          0.13519720324229137,
          0.43464758950979376,
          0.3169544462682203,
          0.1495686901676157,
          0.13214147166595253,
          0.1796346397920061,
          0.11691010769970113,
          0.30281361092258685,
          0.4894141743220703,
          0.0674120131656657,
          0.5309481825002578,
          0.1859716961654994,
          0.5698495866426395,
          0.42812537760011565,
          0.14235151830801251,
          0.16636833065399056,
          0.21963446973715314,
          0.22429206822462694,
          0.4432519454729588,
          0.2692084689077452,
          0.19678692987030802,
          0.6104054714507383,
          -0.06262464286234394,
          0.37099554801231155,
          0.38150907473135137,
          0.3200089778911353,
          0.30616176026329944,
          0.25164143731428074,
          0.17563160355499813,
          0.34891753363578415,
          0.5901190104983332,
          0.14235151831026324,
          0.6179864975101991,
          0.3655570691398658,
          0.1356997829020666,
          0.2307927905827406,
          0.17935385787317332,
          0.607412749073887,
          0.3519645184492374,
          0.07553631084441387,
          0.24637447816319022,
          0.1423515183101353,
          0.15681112298886954,
          0.22229868567763217,
          0.24670901132639095,
          0.12976234500339506,
          0.03227056339080811,
          0.44974044057466356,
          0.5642269523994534,
          0.2094174937193337,
          0.19678692987030763,
          0.38067681682718746,
          0.14235151831026333,
          0.4615734124269279,
          0.4511276663942423,
          0.5113159614907089,
          0.3110062256999654,
          0.39182813200378325,
          0.4935361782508713,
          0.8153405341824685,
          0.4689501047631204,
          0.3624703925956135,
          0.2546185052792848,
          0.24224175188597857,
          0.36870270666910554,
          0.40913795706734485,
          0.42366796388457567,
          0.3576582743110108,
          0.5093443941992117,
          0.3142062861147084,
          0.2316594195407124,
          0.2481037202006042,
          0.629440789091452,
          0.1266383949946326,
          0.10681066290383333,
          0.1611598166427271,
          0.7143861408377313,
          0.41073776766628556,
          0.40535255861480174,
          0.45112766639423874,
          0.2132504967641456,
          0.17116523756573193,
          0.5696725070787942,
          0.2519918670029005,
          -0.29169308561756185,
          -0.005563672700832097,
          0.3048611544656613,
          0.4236679638845647,
          0.3649096692309569,
          0.3458244601196372,
          0.3816365410325906,
          0.20737319975352936,
          -0.5808988670376021,
          0.4729925276710416,
          1.0820731752411614,
          0.3272130278666685,
          0.9603950410418138,
          0.4511276663942268,
          0.37099554801231216,
          0.11554218372048956,
          0.30790466116320225,
          0.3473211293956947,
          0.3956973391379547,
          0.375213891558688,
          0.3624708838373535,
          0.6269005357170703,
          0.5044671455134933,
          0.4236679638845705,
          0.29262624135614484,
          0.23079279074425255,
          0.3019660358399217,
          0.1747422267899388,
          0.3675022661215287,
          0.2307927907442528,
          0.3340330753408668,
          0.4729925276710411,
          0.2008073515661772,
          0.22053048845146161,
          0.2570175512984282,
          0.3920757979105074,
          0.13214147165025586,
          0.4414108593484316,
          0.3366264348366207,
          0.4143335559831993,
          0.22890504954506494,
          0.16636833065399179,
          0.4548251720823903,
          0.35438412988292306,
          0.1655359015976235,
          0.3507370334833566,
          0.16849665391474872,
          0.7143861408377308,
          0.24706325795957823,
          0.887007675327359,
          0.22071883121623007,
          0.13256003654821397,
          0.5074374038947831,
          0.3079046611632048,
          0.21414763647677565,
          0.6375341394426634,
          0.24706325795957765,
          0.45112766639344404,
          0.34065907746419855,
          0.39918116833873823,
          0.3709955480123066,
          0.42046002278320055,
          -0.005431982617787948,
          0.15895364566301096,
          0.5824665076430446,
          0.4308481893169079,
          0.5437909803390071,
          -0.03112365069323428,
          0.2554392190582976,
          0.22265761309232496,
          0.13214147166595283,
          0.7245705105276432,
          0.15263049086195088,
          0.14235151831026316,
          0.31065535694395363,
          0.47923798932307465,
          0.4250488132668232,
          0.543787648800423,
          0.37099554801231105,
          -0.1985954416258765,
          -0.3304362025858048,
          0.3231289672666855,
          0.496100382486344,
          0.16804337416398635,
          0.6061395870936352,
          0.19662730897273764,
          0.23191181246471596,
          0.14162343130151037,
          0.6618252983818467,
          0.1321414716659529,
          0.5934748322748536,
          0.05303547061466823,
          0.2503933490575432,
          0.2868868279145452,
          0.5872493713005643,
          0.5490037189595818,
          0.1849885607077435,
          0.022645549695689746,
          0.33017884000995285,
          0.40185979939911876,
          0.34379711948925196,
          0.2263308319022029,
          0.7201170644677274,
          0.34174481421646574,
          0.3675022661215683,
          0.15724905912933398,
          0.5190377972869844,
          0.2463865535188172,
          0.3143676004683879,
          0.19289681337155537,
          0.2394576029585262,
          0.30283562800511016,
          0.2722832925381024,
          0.23962588830746653,
          0.3106110138736489,
          0.18608178666335984,
          0.4192271957116896,
          0.45502045799642943,
          0.20737319975352916,
          0.29513753772736906,
          0.16657098152354696,
          0.13214147166595294,
          0.1928968133715553,
          0.21211594097989617,
          0.21985458718070075,
          0.5062705867247445,
          0.10058853552454684,
          0.47228759502083745,
          0.1284224437009839,
          0.29481876285600706,
          0.4258250579239186,
          0.3079046611632048,
          -0.2280006775210555,
          0.07553631084441352,
          0.24912598196575247,
          0.5313685913260465,
          0.19408689501834253,
          0.3245444262123772,
          0.6001813944193924,
          0.25135348387249873,
          0.21986469215515883,
          1.0181191931732776,
          0.34582446011963724,
          -0.08870898651346724,
          0.250351289991504,
          0.24531397422120954,
          0.2706262325646432,
          0.9603950410418031,
          0.1634982364148091,
          0.26894756040678414,
          -0.30961447701189254,
          0.5749844623603954,
          0.3950796950473037,
          0.5779691789268433,
          0.2396509302040825,
          0.23394666902942984,
          0.5587656525803429,
          0.5068564922536293,
          -0.3316558548859658,
          -0.08424860893465244,
          0.4147732012521647,
          0.19646324691796932,
          0.3708566004394095,
          0.1266383949946327,
          0.3413244885954114,
          0.23867180556086887,
          0.39131561411852794,
          0.42582505792391867,
          0.27132993767763053,
          0.22520051750039854,
          0.5000472266709999,
          0.38291423804267877,
          0.3344023451896819,
          0.22636286695849495,
          0.4689108317400521,
          0.28978017112018695,
          0.2404773119073627,
          0.21797050620284547,
          0.16553590159762382,
          1.2974571834245379,
          0.22018899853100005,
          0.25449398265670825,
          1.2974571834245376,
          0.3365356325467714,
          0.3709955480123085,
          0.313010325990353,
          0.37099554801231244,
          0.2802304462652247,
          0.6104054714507388,
          0.27458512234804533,
          0.4413614180010249,
          0.32196984386222754,
          -0.08623075015556594,
          0.37099554801231266,
          1.0820731752412205,
          0.40860681380236374,
          0.26323238784318126,
          -1.2237903535660553,
          0.39131588272593915,
          0.19530626396435455,
          0.4729925276710415,
          0.569785204417911,
          0.18820602377283838,
          0.19289681337155484,
          0.1669337139359247,
          0.5872493713006315,
          0.3079046611632048,
          0.44175272452357073,
          0.4588626589270189,
          1.2974571834245405,
          0.28417944492560376,
          0.19289681337154824,
          0.1849885607077445,
          0.2425864707786456,
          0.22234061696920082,
          0.2523788305099217,
          0.12455103787662325,
          0.23110048496170194,
          0.31892274955082217,
          0.18240269544492282,
          0.20737319975352933,
          0.16636833065399179,
          0.3519645184492381,
          -0.19859544162587642,
          0.1589553251085904,
          0.46163113536649353,
          0.26629249979183606,
          0.16166808065176783,
          0.4619366980269938,
          0.18498856070774336,
          0.2467090113263906,
          0.3025508409753319,
          0.4175912587034082,
          0.36750226612156245,
          0.18574146779776587,
          0.37031189002367654,
          0.5093767108650691,
          0.11372924955285862,
          0.1284224437010079,
          0.3450017878641327,
          0.39519632706661095,
          0.3543841298829232,
          0.2706767628731984,
          0.13346223327459095,
          0.3907850907796744,
          0.2948187628559995,
          0.8153692321098751,
          0.5872493713006341,
          0.19821513790802475,
          0.33382568880944463,
          -0.27546595001387514,
          0.19678692969804193,
          0.22586775079035581,
          0.3630753465436173,
          0.1663683306539887,
          0.5872493713006295,
          0.3603356826935018,
          0.6878176361840906,
          0.1682632537398366,
          0.1137292495528586,
          0.47804896148503456,
          0.5872493713006257,
          0.12842244367931205,
          0.14235151831026333,
          0.12842244370092093,
          0.022645548087598374,
          0.13108572826739257,
          0.31016829934453705,
          0.6104054714507388,
          1.082073175241239,
          0.3568740792528273,
          0.4729925276710347,
          0.35857386618124165,
          0.19289681337154635,
          0.49158851147965826,
          1.297457183424504,
          0.2198379681255792,
          0.32196984386222427,
          0.2546185052792848,
          0.4620671805932237,
          0.32405220333486173,
          0.20941749371933369,
          0.7621268492801071,
          0.21626835395517052,
          0.28022632990106866,
          0.1356997829020667,
          0.21958605349220617,
          0.5062705867247606,
          0.26581188940679645,
          0.17203664213950892,
          0.20673009975780565,
          0.17452439070220033,
          0.20737319975352925,
          0.3402741091768791,
          -0.580898867037602,
          0.354384129882923,
          -0.5808988670376024,
          0.354932981691768,
          0.5434083235798615,
          0.29804458709448717,
          0.45853852376862436,
          0.3044693139608635,
          0.18498856070774364,
          0.2570673572772743,
          0.2364915100549396,
          0.39466359395879946,
          0.4539524907916529,
          0.12842244370100964,
          0.6751146890875301,
          0.7143861408377317,
          0.02264554969568238,
          0.42504899139179464,
          0.3782731271487589,
          0.1655359015976234,
          -0.22800067752105604,
          0.4108244695149195,
          0.27285968131800703,
          0.1729137585789413,
          0.36750226612156683,
          1.0820731752412525,
          0.11691010769970082,
          0.1598900812483789,
          0.5134143762364166,
          0.13214147166595297,
          0.13214147166595297,
          0.28688682791454423,
          0.546031872556276,
          0.3031532252825572,
          0.3717170050796745,
          0.2858432658633624,
          0.3081218267256217,
          0.15414943052209062,
          0.19162079136602528,
          0.2766079555859298,
          0.1376279505875338,
          0.20737319975352933,
          0.2737841155779319,
          0.2712940384879874,
          0.4752507868313992,
          0.24706325795957856,
          0.5277317359218227,
          0.42867653190433197,
          0.3940244640411744,
          -1.2237903535660553,
          0.367502266121547,
          0.6001797902798798,
          0.4129576294133986,
          0.12534001014212748,
          0.3806865180329382,
          0.11691010769970109,
          -0.068953404411398,
          0.19993800024175368,
          0.3019858561729505,
          0.022645549695661474,
          0.1169101076996997,
          -0.8070817802680634,
          0.3404467704033464,
          0.3450017878641329,
          0.18575828297100175,
          -0.275465950013875,
          0.13214147166595186,
          0.5557351870617339,
          0.4619395127692526,
          0.31823221195959683,
          0.3003848759990901,
          0.8203999403666108,
          0.35778188972929703,
          0.16636833065399187,
          0.7143861408377317,
          0.3417516721028623,
          0.3573191232474159,
          0.27651217450170573,
          0.28464949508456494,
          0.37930756395853865,
          0.4550204579964443,
          0.28020712229432854,
          0.1321414716659431,
          -0.22800067752105735,
          0.2889717339987905,
          0.21962855304773427,
          0.2803925092921141,
          0.2546185052792847,
          0.4788273936784163,
          0.1537809560161698,
          0.39873513732249355,
          0.6222523268448994,
          0.28893492021205147,
          0.5780720102780244,
          0.960395041041805,
          0.5490130161201134,
          0.2826011876782945,
          0.4258250579239186,
          0.15880813044117642,
          0.6104054714507388,
          0.12842244370100964,
          0.42624737731686746,
          0.37404530837702105,
          0.1747422267899389,
          -1.2237903535660548,
          -0.1806683288176978,
          0.3366426125061448,
          0.17474222678993925,
          0.3238955506898246,
          0.3274912911701026,
          0.022645549674576004,
          0.36555858408309455,
          0.2838928780059194,
          0.36750226612156994,
          0.1641933731365782,
          0.32209156455246746,
          0.4469821088577246,
          1.015024742103931,
          0.21626835395517122,
          0.21927969543024342,
          0.2502378703083536,
          0.3585532263181971,
          -0.06262464286234394,
          0.16166808065177454,
          0.5553000493230051,
          0.3458244601195779,
          0.13214147166595272,
          -0.08623075015541233,
          0.482887761390654,
          0.5895107824401034,
          0.15578701612743978,
          0.3200089778911353,
          0.23182265299887372,
          0.20737319975352936,
          -0.031123651760101727,
          0.4627710820447996,
          0.45482790339064444,
          0.17015392213624347,
          0.12195483507836251,
          0.2948187628560076,
          0.1928968133715487,
          0.1880809624569372,
          0.42366796388457295,
          0.36067762974115036,
          0.3543841298829212,
          0.2868868279145442,
          0.7143861408377241,
          0.7143861408377317,
          0.3483710307828512,
          0.27336936688150554,
          0.23907329981059064,
          0.19678692987030802,
          0.309693405678273,
          0.23079279074425504,
          0.1967869298703062,
          0.21527076373741733,
          0.16166808065177454,
          0.12024972447406122,
          0.3004993734065899,
          0.277252133538533,
          0.11833004835524023,
          0.26298123876719026,
          0.24754448555331773,
          0.26965925154858644,
          1.0820731752412585,
          0.36750226612157205,
          0.8735984615948118,
          0.2868868279145311,
          0.41075592318603193,
          0.4145276008255561,
          0.6199288049076119,
          0.3416849222635941,
          0.16600735725918184,
          0.11372924955285858,
          0.6227058473731645,
          -0.005563672698076124,
          0.30185747668761675,
          0.12663839499463295,
          0.23200189817019562,
          0.3425709074718782,
          0.1829406332499599,
          0.39398580304850783,
          0.294818762856007,
          0.18743092732406202,
          0.13214147166595183,
          0.5297656317192022,
          0.24670901132639034,
          0.2722823237170047,
          1.082073175241251,
          0.4799459577388107,
          0.3220802178986871,
          0.34582446011963724,
          0.3496351328121304,
          0.35978086468719245,
          0.26449427114544166,
          0.4550204579964426,
          0.5654488972445729,
          0.39637993997598864,
          0.3926738716586533,
          0.22520051750039904,
          0.4398297958271188,
          0.1860817866633599,
          0.6215905382070936,
          0.18759970543858895,
          0.23396350780475983,
          0.23537112841647193,
          0.3079046611632022,
          0.1423515183102632,
          0.13258124183317668,
          0.13214147166595158,
          0.19177420407286672,
          -0.005431982617785131,
          0.524994377567904,
          0.16166808065177454,
          0.23207580342763512,
          0.16380748285654068,
          -0.06262464286234405,
          0.4281196099235877,
          0.13569978290206677,
          0.36750226612156905,
          0.41355718526184615,
          0.20303323403092344,
          0.4027602745232946,
          0.3252017351710948,
          0.16480092228476934,
          0.22914154925303737,
          0.13569978290206572,
          0.45659721552770405,
          -0.3443727790598997,
          0.19532249052230977,
          0.45112766639423946,
          0.5074999483481469,
          0.12337137104710674,
          0.5905085590273356,
          0.3709955480123122,
          0.7278003813293978,
          0.34535757436295805,
          0.20737319975352936,
          0.02264554969562773,
          0.34754670698514767,
          0.22024259291675408,
          0.3262643904680221,
          0.18498856070774428,
          0.25411101999735214,
          0.3544323318016248,
          0.5053702379071765,
          0.5385241761025565,
          0.07553631084441377,
          0.2713757364740685,
          0.4515110315833663,
          1.0820731752412587,
          0.5811087483708279,
          0.7143861408377162,
          0.19662731354552854,
          0.6211611535063325,
          0.2429236290526629,
          0.2948187628560076,
          0.5701493249990128,
          0.4236679638845758,
          0.4729925276710303,
          0.3126095453494988,
          0.12842244370100964,
          0.24606159777984657,
          0.34395460577865705,
          0.47299252767104144,
          0.3145246180033123,
          0.5062705867247606,
          0.28955408958645884,
          0.13569978290206666,
          0.13569978290206638,
          0.7202359781361862,
          0.18656326718289656,
          -0.09444781910874803,
          0.29608366476112147,
          0.21626835395514013,
          0.4818932936063346,
          0.21266668772160696,
          0.3450017878641329,
          0.15929524501407905,
          0.13569978290206663,
          0.39526317576201064,
          0.35042354956704486,
          0.3675022661215719,
          0.13214147166591692,
          0.28267957225601414,
          0.45382522786684654,
          0.192204227163557,
          -0.06262464286234395,
          0.43859181524230145,
          0.16418023226213146,
          0.4620404137513872,
          0.20719731480634568,
          0.4155820096121522,
          0.3584090772098069,
          0.45726001098528496,
          0.4590049049175528,
          0.3742226888525061,
          0.28519035094768164,
          0.47477821977689627,
          0.12663839499462923,
          -0.22800067752105765,
          0.3200089778911353,
          0.3899369362319393
         ]
        }
       ],
       "layout": {
        "template": {
         "data": {
          "bar": [
           {
            "error_x": {
             "color": "#2a3f5f"
            },
            "error_y": {
             "color": "#2a3f5f"
            },
            "marker": {
             "line": {
              "color": "#E5ECF6",
              "width": 0.5
             },
             "pattern": {
              "fillmode": "overlay",
              "size": 10,
              "solidity": 0.2
             }
            },
            "type": "bar"
           }
          ],
          "barpolar": [
           {
            "marker": {
             "line": {
              "color": "#E5ECF6",
              "width": 0.5
             },
             "pattern": {
              "fillmode": "overlay",
              "size": 10,
              "solidity": 0.2
             }
            },
            "type": "barpolar"
           }
          ],
          "carpet": [
           {
            "aaxis": {
             "endlinecolor": "#2a3f5f",
             "gridcolor": "white",
             "linecolor": "white",
             "minorgridcolor": "white",
             "startlinecolor": "#2a3f5f"
            },
            "baxis": {
             "endlinecolor": "#2a3f5f",
             "gridcolor": "white",
             "linecolor": "white",
             "minorgridcolor": "white",
             "startlinecolor": "#2a3f5f"
            },
            "type": "carpet"
           }
          ],
          "choropleth": [
           {
            "colorbar": {
             "outlinewidth": 0,
             "ticks": ""
            },
            "type": "choropleth"
           }
          ],
          "contour": [
           {
            "colorbar": {
             "outlinewidth": 0,
             "ticks": ""
            },
            "colorscale": [
             [
              0,
              "#0d0887"
             ],
             [
              0.1111111111111111,
              "#46039f"
             ],
             [
              0.2222222222222222,
              "#7201a8"
             ],
             [
              0.3333333333333333,
              "#9c179e"
             ],
             [
              0.4444444444444444,
              "#bd3786"
             ],
             [
              0.5555555555555556,
              "#d8576b"
             ],
             [
              0.6666666666666666,
              "#ed7953"
             ],
             [
              0.7777777777777778,
              "#fb9f3a"
             ],
             [
              0.8888888888888888,
              "#fdca26"
             ],
             [
              1,
              "#f0f921"
             ]
            ],
            "type": "contour"
           }
          ],
          "contourcarpet": [
           {
            "colorbar": {
             "outlinewidth": 0,
             "ticks": ""
            },
            "type": "contourcarpet"
           }
          ],
          "heatmap": [
           {
            "colorbar": {
             "outlinewidth": 0,
             "ticks": ""
            },
            "colorscale": [
             [
              0,
              "#0d0887"
             ],
             [
              0.1111111111111111,
              "#46039f"
             ],
             [
              0.2222222222222222,
              "#7201a8"
             ],
             [
              0.3333333333333333,
              "#9c179e"
             ],
             [
              0.4444444444444444,
              "#bd3786"
             ],
             [
              0.5555555555555556,
              "#d8576b"
             ],
             [
              0.6666666666666666,
              "#ed7953"
             ],
             [
              0.7777777777777778,
              "#fb9f3a"
             ],
             [
              0.8888888888888888,
              "#fdca26"
             ],
             [
              1,
              "#f0f921"
             ]
            ],
            "type": "heatmap"
           }
          ],
          "histogram": [
           {
            "marker": {
             "pattern": {
              "fillmode": "overlay",
              "size": 10,
              "solidity": 0.2
             }
            },
            "type": "histogram"
           }
          ],
          "histogram2d": [
           {
            "colorbar": {
             "outlinewidth": 0,
             "ticks": ""
            },
            "colorscale": [
             [
              0,
              "#0d0887"
             ],
             [
              0.1111111111111111,
              "#46039f"
             ],
             [
              0.2222222222222222,
              "#7201a8"
             ],
             [
              0.3333333333333333,
              "#9c179e"
             ],
             [
              0.4444444444444444,
              "#bd3786"
             ],
             [
              0.5555555555555556,
              "#d8576b"
             ],
             [
              0.6666666666666666,
              "#ed7953"
             ],
             [
              0.7777777777777778,
              "#fb9f3a"
             ],
             [
              0.8888888888888888,
              "#fdca26"
             ],
             [
              1,
              "#f0f921"
             ]
            ],
            "type": "histogram2d"
           }
          ],
          "histogram2dcontour": [
           {
            "colorbar": {
             "outlinewidth": 0,
             "ticks": ""
            },
            "colorscale": [
             [
              0,
              "#0d0887"
             ],
             [
              0.1111111111111111,
              "#46039f"
             ],
             [
              0.2222222222222222,
              "#7201a8"
             ],
             [
              0.3333333333333333,
              "#9c179e"
             ],
             [
              0.4444444444444444,
              "#bd3786"
             ],
             [
              0.5555555555555556,
              "#d8576b"
             ],
             [
              0.6666666666666666,
              "#ed7953"
             ],
             [
              0.7777777777777778,
              "#fb9f3a"
             ],
             [
              0.8888888888888888,
              "#fdca26"
             ],
             [
              1,
              "#f0f921"
             ]
            ],
            "type": "histogram2dcontour"
           }
          ],
          "mesh3d": [
           {
            "colorbar": {
             "outlinewidth": 0,
             "ticks": ""
            },
            "type": "mesh3d"
           }
          ],
          "parcoords": [
           {
            "line": {
             "colorbar": {
              "outlinewidth": 0,
              "ticks": ""
             }
            },
            "type": "parcoords"
           }
          ],
          "pie": [
           {
            "automargin": true,
            "type": "pie"
           }
          ],
          "scatter": [
           {
            "fillpattern": {
             "fillmode": "overlay",
             "size": 10,
             "solidity": 0.2
            },
            "type": "scatter"
           }
          ],
          "scatter3d": [
           {
            "line": {
             "colorbar": {
              "outlinewidth": 0,
              "ticks": ""
             }
            },
            "marker": {
             "colorbar": {
              "outlinewidth": 0,
              "ticks": ""
             }
            },
            "type": "scatter3d"
           }
          ],
          "scattercarpet": [
           {
            "marker": {
             "colorbar": {
              "outlinewidth": 0,
              "ticks": ""
             }
            },
            "type": "scattercarpet"
           }
          ],
          "scattergeo": [
           {
            "marker": {
             "colorbar": {
              "outlinewidth": 0,
              "ticks": ""
             }
            },
            "type": "scattergeo"
           }
          ],
          "scattergl": [
           {
            "marker": {
             "colorbar": {
              "outlinewidth": 0,
              "ticks": ""
             }
            },
            "type": "scattergl"
           }
          ],
          "scattermap": [
           {
            "marker": {
             "colorbar": {
              "outlinewidth": 0,
              "ticks": ""
             }
            },
            "type": "scattermap"
           }
          ],
          "scattermapbox": [
           {
            "marker": {
             "colorbar": {
              "outlinewidth": 0,
              "ticks": ""
             }
            },
            "type": "scattermapbox"
           }
          ],
          "scatterpolar": [
           {
            "marker": {
             "colorbar": {
              "outlinewidth": 0,
              "ticks": ""
             }
            },
            "type": "scatterpolar"
           }
          ],
          "scatterpolargl": [
           {
            "marker": {
             "colorbar": {
              "outlinewidth": 0,
              "ticks": ""
             }
            },
            "type": "scatterpolargl"
           }
          ],
          "scatterternary": [
           {
            "marker": {
             "colorbar": {
              "outlinewidth": 0,
              "ticks": ""
             }
            },
            "type": "scatterternary"
           }
          ],
          "surface": [
           {
            "colorbar": {
             "outlinewidth": 0,
             "ticks": ""
            },
            "colorscale": [
             [
              0,
              "#0d0887"
             ],
             [
              0.1111111111111111,
              "#46039f"
             ],
             [
              0.2222222222222222,
              "#7201a8"
             ],
             [
              0.3333333333333333,
              "#9c179e"
             ],
             [
              0.4444444444444444,
              "#bd3786"
             ],
             [
              0.5555555555555556,
              "#d8576b"
             ],
             [
              0.6666666666666666,
              "#ed7953"
             ],
             [
              0.7777777777777778,
              "#fb9f3a"
             ],
             [
              0.8888888888888888,
              "#fdca26"
             ],
             [
              1,
              "#f0f921"
             ]
            ],
            "type": "surface"
           }
          ],
          "table": [
           {
            "cells": {
             "fill": {
              "color": "#EBF0F8"
             },
             "line": {
              "color": "white"
             }
            },
            "header": {
             "fill": {
              "color": "#C8D4E3"
             },
             "line": {
              "color": "white"
             }
            },
            "type": "table"
           }
          ]
         },
         "layout": {
          "annotationdefaults": {
           "arrowcolor": "#2a3f5f",
           "arrowhead": 0,
           "arrowwidth": 1
          },
          "autotypenumbers": "strict",
          "coloraxis": {
           "colorbar": {
            "outlinewidth": 0,
            "ticks": ""
           }
          },
          "colorscale": {
           "diverging": [
            [
             0,
             "#8e0152"
            ],
            [
             0.1,
             "#c51b7d"
            ],
            [
             0.2,
             "#de77ae"
            ],
            [
             0.3,
             "#f1b6da"
            ],
            [
             0.4,
             "#fde0ef"
            ],
            [
             0.5,
             "#f7f7f7"
            ],
            [
             0.6,
             "#e6f5d0"
            ],
            [
             0.7,
             "#b8e186"
            ],
            [
             0.8,
             "#7fbc41"
            ],
            [
             0.9,
             "#4d9221"
            ],
            [
             1,
             "#276419"
            ]
           ],
           "sequential": [
            [
             0,
             "#0d0887"
            ],
            [
             0.1111111111111111,
             "#46039f"
            ],
            [
             0.2222222222222222,
             "#7201a8"
            ],
            [
             0.3333333333333333,
             "#9c179e"
            ],
            [
             0.4444444444444444,
             "#bd3786"
            ],
            [
             0.5555555555555556,
             "#d8576b"
            ],
            [
             0.6666666666666666,
             "#ed7953"
            ],
            [
             0.7777777777777778,
             "#fb9f3a"
            ],
            [
             0.8888888888888888,
             "#fdca26"
            ],
            [
             1,
             "#f0f921"
            ]
           ],
           "sequentialminus": [
            [
             0,
             "#0d0887"
            ],
            [
             0.1111111111111111,
             "#46039f"
            ],
            [
             0.2222222222222222,
             "#7201a8"
            ],
            [
             0.3333333333333333,
             "#9c179e"
            ],
            [
             0.4444444444444444,
             "#bd3786"
            ],
            [
             0.5555555555555556,
             "#d8576b"
            ],
            [
             0.6666666666666666,
             "#ed7953"
            ],
            [
             0.7777777777777778,
             "#fb9f3a"
            ],
            [
             0.8888888888888888,
             "#fdca26"
            ],
            [
             1,
             "#f0f921"
            ]
           ]
          },
          "colorway": [
           "#636efa",
           "#EF553B",
           "#00cc96",
           "#ab63fa",
           "#FFA15A",
           "#19d3f3",
           "#FF6692",
           "#B6E880",
           "#FF97FF",
           "#FECB52"
          ],
          "font": {
           "color": "#2a3f5f"
          },
          "geo": {
           "bgcolor": "white",
           "lakecolor": "white",
           "landcolor": "#E5ECF6",
           "showlakes": true,
           "showland": true,
           "subunitcolor": "white"
          },
          "hoverlabel": {
           "align": "left"
          },
          "hovermode": "closest",
          "mapbox": {
           "style": "light"
          },
          "paper_bgcolor": "white",
          "plot_bgcolor": "#E5ECF6",
          "polar": {
           "angularaxis": {
            "gridcolor": "white",
            "linecolor": "white",
            "ticks": ""
           },
           "bgcolor": "#E5ECF6",
           "radialaxis": {
            "gridcolor": "white",
            "linecolor": "white",
            "ticks": ""
           }
          },
          "scene": {
           "xaxis": {
            "backgroundcolor": "#E5ECF6",
            "gridcolor": "white",
            "gridwidth": 2,
            "linecolor": "white",
            "showbackground": true,
            "ticks": "",
            "zerolinecolor": "white"
           },
           "yaxis": {
            "backgroundcolor": "#E5ECF6",
            "gridcolor": "white",
            "gridwidth": 2,
            "linecolor": "white",
            "showbackground": true,
            "ticks": "",
            "zerolinecolor": "white"
           },
           "zaxis": {
            "backgroundcolor": "#E5ECF6",
            "gridcolor": "white",
            "gridwidth": 2,
            "linecolor": "white",
            "showbackground": true,
            "ticks": "",
            "zerolinecolor": "white"
           }
          },
          "shapedefaults": {
           "line": {
            "color": "#2a3f5f"
           }
          },
          "ternary": {
           "aaxis": {
            "gridcolor": "white",
            "linecolor": "white",
            "ticks": ""
           },
           "baxis": {
            "gridcolor": "white",
            "linecolor": "white",
            "ticks": ""
           },
           "bgcolor": "#E5ECF6",
           "caxis": {
            "gridcolor": "white",
            "linecolor": "white",
            "ticks": ""
           }
          },
          "title": {
           "x": 0.05
          },
          "xaxis": {
           "automargin": true,
           "gridcolor": "white",
           "linecolor": "white",
           "ticks": "",
           "title": {
            "standoff": 15
           },
           "zerolinecolor": "white",
           "zerolinewidth": 2
          },
          "yaxis": {
           "automargin": true,
           "gridcolor": "white",
           "linecolor": "white",
           "ticks": "",
           "title": {
            "standoff": 15
           },
           "zerolinecolor": "white",
           "zerolinewidth": 2
          }
         }
        },
        "title": {
         "text": "Sample of Random Portfolios"
        },
        "xaxis": {
         "title": {
          "text": "Volatility (Standard Deviation)"
         }
        },
        "yaxis": {
         "title": {
          "text": "Annualised Returns"
         }
        }
       }
      }
     },
     "metadata": {},
     "output_type": "display_data"
    }
   ],
   "source": [
    "fig1 = go.Figure()\n",
    "\n",
    "fig1.add_trace(go.Scatter(\n",
    "    x=[np.sqrt(p[\"variance\"]) for p in all_portfolios],\n",
    "    y=[p[\"return\"] for p in all_portfolios],\n",
    "    mode='markers',\n",
    "    marker=dict(\n",
    "        color=[p[\"sharpe\"] for p in all_portfolios],\n",
    "        showscale=True,\n",
    "        size=7,\n",
    "        line=dict(width=1),\n",
    "        colorscale=\"RdBu\",\n",
    "        colorbar=dict(title=\"Sharpe<br>Ratio\")\n",
    "    ),\n",
    "    hoverinfo='text',\n",
    "    text=[\n",
    "        f\"Return: {p['return']:.3%}<br>Volatility: {np.sqrt(p['variance']):.3f}<br>\" +\n",
    "        f\"Sharpe Ratio: {p['return'] / (np.sqrt(p['variance'])):.3f}<br>\" +\n",
    "        \"<br>\".join([f\"{p['tickers'][i]}: Weight={p['weights'][i]:.3f}\" for i in range(len(p['tickers']))])\n",
    "        for p in all_portfolios\n",
    "    ]\n",
    "))\n",
    "\n",
    "fig1.update_layout(\n",
    "    xaxis=dict(title='Volatility (Standard Deviation)'),\n",
    "    yaxis=dict(title='Annualised Returns'),\n",
    "    title='Sample of Random Portfolios'\n",
    ")\n",
    "\n",
    "fig1.show()"
   ]
  },
  {
   "cell_type": "code",
   "execution_count": 98,
   "metadata": {
    "colab": {
     "base_uri": "https://localhost:8080/",
     "height": 542
    },
    "id": "uHkH6APvabDV",
    "outputId": "8dbda4b6-b409-48de-98ea-c89f8e6f5f85"
   },
   "outputs": [
    {
     "data": {
      "application/vnd.plotly.v1+json": {
       "config": {
        "plotlyServerURL": "https://plot.ly"
       },
       "data": [
        {
         "hoverinfo": "text",
         "marker": {
          "color": [
           3.6325597510006036,
           2.286897677547254,
           3.3446512806857225,
           2.377017924890981,
           2.332615071704872,
           3.112251405693317,
           3.1668732251274148,
           2.4206203398801316,
           4.210511704622221,
           2.97254847363009,
           3.920917113688435,
           2.8924168706846363,
           3.8596265604474658,
           4.388358323336806,
           3.49356879725546,
           3.4747972869222927,
           3.1629398656269747,
           3.181952126853948,
           4.207880593094553,
           3.6789538752808872,
           3.5880737920687955,
           4.168058910110446,
           3.629698068045191,
           3.523300322027382,
           3.5744827553113576,
           3.473869601231721,
           3.0764236060441963,
           3.442373672529373,
           4.623367469656213,
           3.2313231736970005,
           2.6676620570382137,
           3.0011734289207688,
           3.932774333638044,
           3.7977861074595194,
           3.7378454178031197,
           3.7977861074595456,
           3.7100381752209053,
           3.9806069978547303,
           3.8338917916464053,
           3.835488211897882,
           4.124434129545662,
           3.484199232798337,
           4.630830806819559,
           2.659555173184541,
           4.209672684862515,
           3.852763665941629,
           3.2682556698593084,
           3.3883135952687455,
           4.1167452714971,
           4.4842974891030485,
           4.7093015601069474,
           4.883747926136474,
           4.883747923983333,
           2.5249889692312815,
           3.0432917909329253,
           2.667662057038214,
           3.9572967274036586,
           2.6676620570382146,
           2.6676620570382057,
           3.033678907786676,
           4.27407117307956,
           3.1542946641667124,
           4.0419561265932336
          ],
          "colorbar": {
           "title": {
            "text": "Sharpe<br>Ratio"
           }
          },
          "colorscale": [
           [
            0,
            "rgb(103,0,31)"
           ],
           [
            0.1,
            "rgb(178,24,43)"
           ],
           [
            0.2,
            "rgb(214,96,77)"
           ],
           [
            0.3,
            "rgb(244,165,130)"
           ],
           [
            0.4,
            "rgb(253,219,199)"
           ],
           [
            0.5,
            "rgb(247,247,247)"
           ],
           [
            0.6,
            "rgb(209,229,240)"
           ],
           [
            0.7,
            "rgb(146,197,222)"
           ],
           [
            0.8,
            "rgb(67,147,195)"
           ],
           [
            0.9,
            "rgb(33,102,172)"
           ],
           [
            1,
            "rgb(5,48,97)"
           ]
          ],
          "line": {
           "width": 1
          },
          "showscale": true,
          "size": 7
         },
         "mode": "markers",
         "name": "Portfolios",
         "text": [
          "Return: 40.927%<br>Volatility: 0.113<br>Sharpe Ratio: 3.633<br>UA_Close: Weight=0.000<br>TXN_Close: Weight=0.000<br>ABBV_Close: Weight=0.768<br>GOOG_Close: Weight=0.232",
          "Return: 16.334%<br>Volatility: 0.071<br>Sharpe Ratio: 2.287<br>CMCSA_Close: Weight=0.138<br>KO_Close: Weight=0.862<br>PG_Close: Weight=0.000<br>F_Close: Weight=0.000",
          "Return: 52.986%<br>Volatility: 0.158<br>Sharpe Ratio: 3.345<br>LMT_Close: Weight=0.326<br>DE_Close: Weight=0.436<br>NKE_Close: Weight=0.000<br>VRTX_Close: Weight=0.238",
          "Return: 25.236%<br>Volatility: 0.106<br>Sharpe Ratio: 2.377<br>GOOGL_Close: Weight=0.438<br>RTX_Close: Weight=0.562<br>BAC_Close: Weight=0.000<br>MS_Close: Weight=0.000",
          "Return: 21.470%<br>Volatility: 0.092<br>Sharpe Ratio: 2.333<br>LLY_Close: Weight=0.076<br>NFLX_Close: Weight=0.173<br>PFE_Close: Weight=0.000<br>PEP_Close: Weight=0.751",
          "Return: 55.877%<br>Volatility: 0.180<br>Sharpe Ratio: 3.112<br>ISRG_Close: Weight=1.000<br>IBM_Close: Weight=0.000<br>PFE_Close: Weight=0.000",
          "Return: 58.812%<br>Volatility: 0.186<br>Sharpe Ratio: 3.167<br>MRK_Close: Weight=0.000<br>VZ_Close: Weight=0.000<br>TSLA_Close: Weight=0.372<br>DE_Close: Weight=0.628",
          "Return: 24.727%<br>Volatility: 0.102<br>Sharpe Ratio: 2.421<br>RTX_Close: Weight=0.604<br>AMD_Close: Weight=0.000<br>BSX_Close: Weight=0.016<br>DE_Close: Weight=0.380",
          "Return: 44.473%<br>Volatility: 0.106<br>Sharpe Ratio: 4.211<br>DE_Close: Weight=0.232<br>AEP_Close: Weight=0.201<br>BA_Close: Weight=0.000<br>ADBE_Close: Weight=0.567",
          "Return: 53.160%<br>Volatility: 0.179<br>Sharpe Ratio: 2.973<br>CAT_Close: Weight=0.466<br>NKE_Close: Weight=0.000<br>RMD_Close: Weight=0.000<br>REGN_Close: Weight=0.534",
          "Return: 40.921%<br>Volatility: 0.104<br>Sharpe Ratio: 3.921<br>ABBV_Close: Weight=0.715<br>KR_Close: Weight=0.000<br>DE_Close: Weight=0.285",
          "Return: 78.123%<br>Volatility: 0.270<br>Sharpe Ratio: 2.892<br>VRTX_Close: Weight=0.459<br>NFLX_Close: Weight=0.260<br>DIS_Close: Weight=0.000<br>CRM_Close: Weight=0.281",
          "Return: 29.011%<br>Volatility: 0.075<br>Sharpe Ratio: 3.860<br>MCD_Close: Weight=0.372<br>RTX_Close: Weight=0.278<br>NEE_Close: Weight=0.233<br>MA_Close: Weight=0.117",
          "Return: 45.197%<br>Volatility: 0.103<br>Sharpe Ratio: 4.388<br>WMT_Close: Weight=0.243<br>ABBV_Close: Weight=0.619<br>TSLA_Close: Weight=0.138",
          "Return: 56.546%<br>Volatility: 0.162<br>Sharpe Ratio: 3.494<br>BABA_Close: Weight=0.433<br>IBM_Close: Weight=0.000<br>SAP_Close: Weight=0.567",
          "Return: 119.043%<br>Volatility: 0.343<br>Sharpe Ratio: 3.475<br>NVDA_Close: Weight=0.497<br>VRTX_Close: Weight=0.503<br>INTC_Close: Weight=0.000",
          "Return: 45.382%<br>Volatility: 0.143<br>Sharpe Ratio: 3.163<br>REGN_Close: Weight=0.293<br>SO_Close: Weight=0.000<br>MSFT_Close: Weight=0.707",
          "Return: 68.104%<br>Volatility: 0.214<br>Sharpe Ratio: 3.182<br>CAT_Close: Weight=0.280<br>BABA_Close: Weight=0.720<br>EMR_Close: Weight=0.000<br>BSX_Close: Weight=0.000",
          "Return: 47.079%<br>Volatility: 0.112<br>Sharpe Ratio: 4.208<br>WMT_Close: Weight=0.327<br>ADBE_Close: Weight=0.673<br>INTC_Close: Weight=0.000",
          "Return: 70.654%<br>Volatility: 0.192<br>Sharpe Ratio: 3.679<br>BABA_Close: Weight=0.465<br>VZ_Close: Weight=0.000<br>ORCL_Close: Weight=0.307<br>TSLA_Close: Weight=0.229",
          "Return: 55.886%<br>Volatility: 0.156<br>Sharpe Ratio: 3.588<br>VRTX_Close: Weight=0.154<br>REGN_Close: Weight=0.241<br>PM_Close: Weight=0.604<br>CSCO_Close: Weight=0.000",
          "Return: 49.663%<br>Volatility: 0.119<br>Sharpe Ratio: 4.168<br>EXC_Close: Weight=0.000<br>ISRG_Close: Weight=0.388<br>MCD_Close: Weight=0.538<br>EW_Close: Weight=0.074",
          "Return: 33.248%<br>Volatility: 0.092<br>Sharpe Ratio: 3.630<br>BA_Close: Weight=0.024<br>ABBV_Close: Weight=0.650<br>HON_Close: Weight=0.057<br>NEE_Close: Weight=0.270",
          "Return: 77.980%<br>Volatility: 0.221<br>Sharpe Ratio: 3.523<br>REGN_Close: Weight=0.383<br>CRM_Close: Weight=0.000<br>BABA_Close: Weight=0.617",
          "Return: 73.572%<br>Volatility: 0.206<br>Sharpe Ratio: 3.574<br>HD_Close: Weight=0.330<br>VRTX_Close: Weight=0.281<br>CMCSA_Close: Weight=0.050<br>TSLA_Close: Weight=0.340",
          "Return: 35.359%<br>Volatility: 0.102<br>Sharpe Ratio: 3.474<br>BTI_Close: Weight=0.114<br>LLY_Close: Weight=0.227<br>GM_Close: Weight=0.000<br>MCD_Close: Weight=0.659",
          "Return: 97.110%<br>Volatility: 0.316<br>Sharpe Ratio: 3.076<br>RDY_Close: Weight=0.000<br>MRK_Close: Weight=0.000<br>REGN_Close: Weight=0.560<br>VRTX_Close: Weight=0.440",
          "Return: 50.388%<br>Volatility: 0.146<br>Sharpe Ratio: 3.442<br>MS_Close: Weight=0.000<br>T_Close: Weight=0.000<br>PYPL_Close: Weight=0.561<br>DE_Close: Weight=0.439",
          "Return: 35.117%<br>Volatility: 0.076<br>Sharpe Ratio: 4.623<br>MCD_Close: Weight=0.281<br>KO_Close: Weight=0.454<br>XOM_Close: Weight=0.000<br>ISRG_Close: Weight=0.265",
          "Return: 58.826%<br>Volatility: 0.182<br>Sharpe Ratio: 3.231<br>ABT_Close: Weight=0.000<br>ETN_Close: Weight=0.290<br>BABA_Close: Weight=0.578<br>CAT_Close: Weight=0.132",
          "Return: 129.746%<br>Volatility: 0.486<br>Sharpe Ratio: 2.668<br>VRTX_Close: Weight=1.000<br>MS_Close: Weight=0.000<br>SYY_Close: Weight=0.000",
          "Return: 19.995%<br>Volatility: 0.067<br>Sharpe Ratio: 3.001<br>PEP_Close: Weight=0.419<br>CMCSA_Close: Weight=0.056<br>RTX_Close: Weight=0.336<br>ORCL_Close: Weight=0.189",
          "Return: 39.928%<br>Volatility: 0.102<br>Sharpe Ratio: 3.933<br>DE_Close: Weight=0.247<br>ABBV_Close: Weight=0.685<br>ETN_Close: Weight=0.068",
          "Return: 58.725%<br>Volatility: 0.155<br>Sharpe Ratio: 3.798<br>SNAP_Close: Weight=0.000<br>ADBE_Close: Weight=1.000<br>BIIB_Close: Weight=0.000<br>CPB_Close: Weight=0.000",
          "Return: 57.343%<br>Volatility: 0.153<br>Sharpe Ratio: 3.738<br>WFC_Close: Weight=0.000<br>MCD_Close: Weight=0.811<br>KR_Close: Weight=0.000<br>NVDA_Close: Weight=0.189",
          "Return: 58.725%<br>Volatility: 0.155<br>Sharpe Ratio: 3.798<br>ACN_Close: Weight=0.000<br>VZ_Close: Weight=0.000<br>RMD_Close: Weight=0.000<br>ADBE_Close: Weight=1.000",
          "Return: 37.377%<br>Volatility: 0.101<br>Sharpe Ratio: 3.710<br>MMM_Close: Weight=0.246<br>UNH_Close: Weight=0.382<br>EXC_Close: Weight=0.000<br>ISRG_Close: Weight=0.372",
          "Return: 35.251%<br>Volatility: 0.089<br>Sharpe Ratio: 3.981<br>WMT_Close: Weight=0.208<br>ABBV_Close: Weight=0.542<br>UNH_Close: Weight=0.250",
          "Return: 56.151%<br>Volatility: 0.146<br>Sharpe Ratio: 3.834<br>ADBE_Close: Weight=0.843<br>GS_Close: Weight=0.000<br>META_Close: Weight=0.157<br>BMY_Close: Weight=0.000",
          "Return: 50.682%<br>Volatility: 0.132<br>Sharpe Ratio: 3.835<br>SRE_Close: Weight=0.175<br>ADBE_Close: Weight=0.825<br>GOOG_Close: Weight=0.000",
          "Return: 30.616%<br>Volatility: 0.074<br>Sharpe Ratio: 4.124<br>KO_Close: Weight=0.508<br>TMO_Close: Weight=0.000<br>UNH_Close: Weight=0.201<br>ISRG_Close: Weight=0.292",
          "Return: 59.012%<br>Volatility: 0.169<br>Sharpe Ratio: 3.484<br>BABA_Close: Weight=0.451<br>TMO_Close: Weight=0.417<br>NVDA_Close: Weight=0.132<br>KR_Close: Weight=0.000",
          "Return: 51.132%<br>Volatility: 0.110<br>Sharpe Ratio: 4.631<br>MCD_Close: Weight=0.430<br>COST_Close: Weight=0.000<br>ADBE_Close: Weight=0.522<br>TMO_Close: Weight=0.047",
          "Return: 81.534%<br>Volatility: 0.307<br>Sharpe Ratio: 2.660<br>IBM_Close: Weight=0.000<br>NFLX_Close: Weight=0.319<br>TSLA_Close: Weight=0.681",
          "Return: 62.944%<br>Volatility: 0.150<br>Sharpe Ratio: 4.210<br>ADBE_Close: Weight=0.614<br>REGN_Close: Weight=0.143<br>NVDA_Close: Weight=0.039<br>PYPL_Close: Weight=0.205",
          "Return: 36.491%<br>Volatility: 0.095<br>Sharpe Ratio: 3.853<br>AEP_Close: Weight=0.411<br>BABA_Close: Weight=0.296<br>LMT_Close: Weight=0.193<br>BTI_Close: Weight=0.100",
          "Return: 88.701%<br>Volatility: 0.271<br>Sharpe Ratio: 3.268<br>PFE_Close: Weight=0.000<br>BABA_Close: Weight=0.745<br>NVDA_Close: Weight=0.255<br>GE_Close: Weight=0.000",
          "Return: 63.753%<br>Volatility: 0.188<br>Sharpe Ratio: 3.388<br>CPB_Close: Weight=0.000<br>META_Close: Weight=0.755<br>VRTX_Close: Weight=0.245<br>CVX_Close: Weight=0.000",
          "Return: 39.918%<br>Volatility: 0.097<br>Sharpe Ratio: 4.117<br>BAC_Close: Weight=0.000<br>PYPL_Close: Weight=0.232<br>NEE_Close: Weight=0.268<br>ABBV_Close: Weight=0.500",
          "Return: 58.247%<br>Volatility: 0.130<br>Sharpe Ratio: 4.484<br>ADBE_Close: Weight=0.571<br>ZBH_Close: Weight=0.000<br>BABA_Close: Weight=0.198<br>DE_Close: Weight=0.232",
          "Return: 43.085%<br>Volatility: 0.091<br>Sharpe Ratio: 4.709<br>JNJ_Close: Weight=0.026<br>PEP_Close: Weight=0.192<br>ABBV_Close: Weight=0.404<br>ADBE_Close: Weight=0.378",
          "Return: 54.379%<br>Volatility: 0.111<br>Sharpe Ratio: 4.884<br>K_Close: Weight=0.000<br>TSLA_Close: Weight=0.097<br>ABBV_Close: Weight=0.493<br>ADBE_Close: Weight=0.411",
          "Return: 54.379%<br>Volatility: 0.111<br>Sharpe Ratio: 4.884<br>TSLA_Close: Weight=0.097<br>ADBE_Close: Weight=0.411<br>ABBV_Close: Weight=0.493",
          "Return: 16.804%<br>Volatility: 0.067<br>Sharpe Ratio: 2.525<br>ACN_Close: Weight=0.000<br>RTX_Close: Weight=0.488<br>SYY_Close: Weight=0.000<br>PEP_Close: Weight=0.512",
          "Return: 19.646%<br>Volatility: 0.065<br>Sharpe Ratio: 3.043<br>SYY_Close: Weight=0.000<br>NFLX_Close: Weight=0.082<br>KO_Close: Weight=0.584<br>RTX_Close: Weight=0.335",
          "Return: 129.746%<br>Volatility: 0.486<br>Sharpe Ratio: 2.668<br>EXC_Close: Weight=0.000<br>VRTX_Close: Weight=1.000<br>SYY_Close: Weight=0.000",
          "Return: 26.323%<br>Volatility: 0.067<br>Sharpe Ratio: 3.957<br>KO_Close: Weight=0.389<br>RTX_Close: Weight=0.282<br>GM_Close: Weight=0.000<br>MCD_Close: Weight=0.329",
          "Return: 129.746%<br>Volatility: 0.486<br>Sharpe Ratio: 2.668<br>INTC_Close: Weight=0.000<br>EXC_Close: Weight=0.000<br>VRTX_Close: Weight=1.000",
          "Return: 129.746%<br>Volatility: 0.486<br>Sharpe Ratio: 2.668<br>CSCO_Close: Weight=0.000<br>XOM_Close: Weight=0.000<br>SYY_Close: Weight=0.000<br>VRTX_Close: Weight=1.000",
          "Return: 82.040%<br>Volatility: 0.270<br>Sharpe Ratio: 3.034<br>BABA_Close: Weight=1.000<br>EXC_Close: Weight=0.000<br>XOM_Close: Weight=0.000",
          "Return: 62.225%<br>Volatility: 0.146<br>Sharpe Ratio: 4.274<br>SO_Close: Weight=0.000<br>SAP_Close: Weight=0.105<br>ADBE_Close: Weight=0.647<br>BABA_Close: Weight=0.248",
          "Return: 101.502%<br>Volatility: 0.322<br>Sharpe Ratio: 3.154<br>TSLA_Close: Weight=0.551<br>NVDA_Close: Weight=0.449<br>EXC_Close: Weight=0.000<br>MS_Close: Weight=0.000",
          "Return: 87.360%<br>Volatility: 0.216<br>Sharpe Ratio: 4.042<br>VRTX_Close: Weight=0.259<br>PYPL_Close: Weight=0.560<br>NVDA_Close: Weight=0.181"
         ],
         "type": "scatter",
         "x": [
          0.11266701198239129,
          0.0714237393528332,
          0.15841873787860308,
          0.1061682584643733,
          0.09204232466329057,
          0.17953744082439416,
          0.1857112269028147,
          0.10214985743286169,
          0.10562385771206154,
          0.1788347684302222,
          0.10436652871453006,
          0.2700949124336812,
          0.07516410398045428,
          0.10299189457014399,
          0.16185801067386,
          0.3425909163875697,
          0.1434804401382069,
          0.214032353917079,
          0.11188209225190825,
          0.1920484439684333,
          0.15575392432257798,
          0.11915127335762508,
          0.0916010857913727,
          0.221326200419824,
          0.20582677930547544,
          0.10178608803176868,
          0.31565780062413035,
          0.14637652791369732,
          0.0759550388416023,
          0.1820490646416927,
          0.4863648976831224,
          0.0666254777340744,
          0.10152591481450579,
          0.15462939583331514,
          0.1534123589374857,
          0.15462939583331575,
          0.10074688772965668,
          0.08855617307634024,
          0.14645853208935466,
          0.1321384920388622,
          0.07423121588246227,
          0.16937005350993625,
          0.11041559988279494,
          0.3065702649838931,
          0.14952250120415458,
          0.09471374339847334,
          0.2714009443959881,
          0.18815676929457795,
          0.09696523394404036,
          0.12989024681311898,
          0.09148876618279747,
          0.11134706142976535,
          0.11134637931044018,
          0.06655212209309025,
          0.06455616497350168,
          0.486364897683122,
          0.06651823352551207,
          0.48636489768312297,
          0.4863648976831108,
          0.270430709809418,
          0.14558773161387326,
          0.3217913512122925,
          0.21613259378228955
         ],
         "y": [
          0.4092696529927373,
          0.16333878364773463,
          0.5298554345302856,
          0.252363853424274,
          0.21469931374434462,
          0.5587656525803014,
          0.5881239120840859,
          0.24726602261784064,
          0.44473048918398717,
          0.5315950179292476,
          0.40921250853305635,
          0.7812270814092691,
          0.29010537211519644,
          0.4519653377731182,
          0.5654620956760384,
          1.1904339867877494,
          0.45382000405083933,
          0.6810407037620065,
          0.47078648470161916,
          0.706537367179332,
          0.5588565738737086,
          0.49662952656925463,
          0.3324842841277873,
          0.7797986732122628,
          0.7357242732086986,
          0.3535915970418571,
          0.971097109272067,
          0.5038827059663725,
          0.3511680557367382,
          0.5882593613265649,
          1.2974571834245388,
          0.1999546134646564,
          0.39927851198161085,
          0.5872493713006232,
          0.5734316828888484,
          0.5872493713006295,
          0.3737747995117209,
          0.35250732225091463,
          0.5615061639939585,
          0.5068156285530181,
          0.30616176026329944,
          0.5901190104983332,
          0.5113159614907089,
          0.8153405341824685,
          0.629440789091452,
          0.3649096692309569,
          0.887007675327359,
          0.6375341394426634,
          0.39918116833873823,
          0.5824665076430446,
          0.4308481893169079,
          0.5437909803390071,
          0.543787648800423,
          0.16804337416398635,
          0.19646324691796932,
          1.2974571834245379,
          0.26323238784318126,
          1.2974571834245405,
          1.297457183424504,
          0.8203999403666108,
          0.6222523268448994,
          1.015024742103931,
          0.8735984615948118
         ]
        },
        {
         "hoverinfo": "text",
         "hovertext": [
          "NVDA_Close <br>Volatility: 0.443 <br>Returns: 108.207% <br>Sharpe Ratio: 2.442",
          "BMY_Close <br>Volatility: 0.182 <br>Returns: -8.623% <br>Sharpe Ratio: -0.474",
          "SYK_Close <br>Volatility: 0.116 <br>Returns: 19.679% <br>Sharpe Ratio: 1.703",
          "MMM_Close <br>Volatility: 0.118 <br>Returns: 21.627% <br>Sharpe Ratio: 1.830",
          "UA_Close <br>Volatility: 0.335 <br>Returns: -33.044% <br>Sharpe Ratio: -0.987",
          "F_Close <br>Volatility: 0.186 <br>Returns: -46.688% <br>Sharpe Ratio: -2.504",
          "SRE_Close <br>Volatility: 0.107 <br>Returns: 12.842% <br>Sharpe Ratio: 1.199",
          "MA_Close <br>Volatility: 0.124 <br>Returns: 28.689% <br>Sharpe Ratio: 2.305",
          "SNAP_Close <br>Volatility: 0.669 <br>Returns: -122.379% <br>Sharpe Ratio: -1.830",
          "SYY_Close <br>Volatility: 0.155 <br>Returns: -6.895% <br>Sharpe Ratio: -0.444",
          "WFC_Close <br>Volatility: 0.176 <br>Returns: -30.961% <br>Sharpe Ratio: -1.756",
          "CMCSA_Close <br>Volatility: 0.154 <br>Returns: 14.957% <br>Sharpe Ratio: 0.971",
          "PYPL_Close <br>Volatility: 0.210 <br>Returns: 61.041% <br>Sharpe Ratio: 2.909",
          "ORCL_Close <br>Volatility: 0.187 <br>Returns: 34.500% <br>Sharpe Ratio: 1.843",
          "BABA_Close <br>Volatility: 0.270 <br>Returns: 82.040% <br>Sharpe Ratio: 3.034",
          "PG_Close <br>Volatility: 0.087 <br>Returns: -9.655% <br>Sharpe Ratio: -1.112",
          "AMD_Close <br>Volatility: 0.694 <br>Returns: -58.090% <br>Sharpe Ratio: -0.837",
          "GS_Close <br>Volatility: 0.209 <br>Returns: -46.653% <br>Sharpe Ratio: -2.236",
          "WMT_Close <br>Volatility: 0.148 <br>Returns: 23.079% <br>Sharpe Ratio: 1.562",
          "LMT_Close <br>Volatility: 0.107 <br>Returns: 18.608% <br>Sharpe Ratio: 1.746",
          "VRTX_Close <br>Volatility: 0.486 <br>Returns: 129.746% <br>Sharpe Ratio: 2.668",
          "GM_Close <br>Volatility: 0.170 <br>Returns: -30.932% <br>Sharpe Ratio: -1.819",
          "BIIB_Close <br>Volatility: 0.229 <br>Returns: -33.166% <br>Sharpe Ratio: -1.448",
          "EMR_Close <br>Volatility: 0.165 <br>Returns: -6.262% <br>Sharpe Ratio: -0.378",
          "DE_Close <br>Volatility: 0.179 <br>Returns: 36.750% <br>Sharpe Ratio: 2.053",
          "IBM_Close <br>Volatility: 0.141 <br>Returns: -54.590% <br>Sharpe Ratio: -3.879",
          "HD_Close <br>Volatility: 0.134 <br>Returns: 11.373% <br>Sharpe Ratio: 0.846",
          "RDY_Close <br>Volatility: 0.283 <br>Returns: -34.437% <br>Sharpe Ratio: -1.217",
          "JPM_Close <br>Volatility: 0.162 <br>Returns: -18.067% <br>Sharpe Ratio: -1.119",
          "MSFT_Close <br>Volatility: 0.137 <br>Returns: 34.582% <br>Sharpe Ratio: 2.530",
          "MS_Close <br>Volatility: 0.219 <br>Returns: -19.860% <br>Sharpe Ratio: -0.907",
          "GILD_Close <br>Volatility: 0.153 <br>Returns: -16.977% <br>Sharpe Ratio: -1.111",
          "T_Close <br>Volatility: 0.145 <br>Returns: -23.798% <br>Sharpe Ratio: -1.644",
          "RMD_Close <br>Volatility: 0.177 <br>Returns: -3.112% <br>Sharpe Ratio: -0.176",
          "CAT_Close <br>Volatility: 0.233 <br>Returns: 32.197% <br>Sharpe Ratio: 1.380",
          "MDT_Close <br>Volatility: 0.114 <br>Returns: 12.664% <br>Sharpe Ratio: 1.110",
          "XOM_Close <br>Volatility: 0.120 <br>Returns: -15.220% <br>Sharpe Ratio: -1.266",
          "CRM_Close <br>Volatility: 0.148 <br>Returns: 19.290% <br>Sharpe Ratio: 1.306",
          "AEP_Close <br>Volatility: 0.101 <br>Returns: 13.214% <br>Sharpe Ratio: 1.306",
          "RTX_Close <br>Volatility: 0.093 <br>Returns: 17.474% <br>Sharpe Ratio: 1.875",
          "NKE_Close <br>Volatility: 0.259 <br>Returns: -27.547% <br>Sharpe Ratio: -1.064",
          "NFLX_Close <br>Volatility: 0.320 <br>Returns: 50.627% <br>Sharpe Ratio: 1.582",
          "ZBH_Close <br>Volatility: 0.176 <br>Returns: 20.942% <br>Sharpe Ratio: 1.190",
          "ISRG_Close <br>Volatility: 0.180 <br>Returns: 55.877% <br>Sharpe Ratio: 3.112",
          "COST_Close <br>Volatility: 0.194 <br>Returns: -56.160% <br>Sharpe Ratio: -2.894",
          "KO_Close <br>Volatility: 0.076 <br>Returns: 16.554% <br>Sharpe Ratio: 2.186",
          "META_Close <br>Volatility: 0.158 <br>Returns: 42.367% <br>Sharpe Ratio: 2.676",
          "INTC_Close <br>Volatility: 0.144 <br>Returns: -8.425% <br>Sharpe Ratio: -0.584",
          "GE_Close <br>Volatility: 0.166 <br>Returns: -31.167% <br>Sharpe Ratio: -1.881",
          "GOOG_Close <br>Volatility: 0.169 <br>Returns: 35.438% <br>Sharpe Ratio: 2.092",
          "VZ_Close <br>Volatility: 0.175 <br>Returns: -25.448% <br>Sharpe Ratio: -1.458",
          "MRK_Close <br>Volatility: 0.119 <br>Returns: -13.218% <br>Sharpe Ratio: -1.109",
          "ETN_Close <br>Volatility: 0.141 <br>Returns: 24.706% <br>Sharpe Ratio: 1.755",
          "JNJ_Close <br>Volatility: 0.111 <br>Returns: 22.520% <br>Sharpe Ratio: 2.029",
          "BAC_Close <br>Volatility: 0.223 <br>Returns: -26.944% <br>Sharpe Ratio: -1.207",
          "SAP_Close <br>Volatility: 0.147 <br>Returns: 37.100% <br>Sharpe Ratio: 2.516",
          "K_Close <br>Volatility: 0.135 <br>Returns: -29.169% <br>Sharpe Ratio: -2.163",
          "LLY_Close <br>Volatility: 0.158 <br>Returns: 7.554% <br>Sharpe Ratio: 0.477",
          "DIS_Close <br>Volatility: 0.123 <br>Returns: -0.543% <br>Sharpe Ratio: -0.044",
          "GOOGL_Close <br>Volatility: 0.165 <br>Returns: 35.196% <br>Sharpe Ratio: 2.129",
          "MCD_Close <br>Volatility: 0.145 <br>Returns: 45.502% <br>Sharpe Ratio: 3.146",
          "TMO_Close <br>Volatility: 0.142 <br>Returns: 18.499% <br>Sharpe Ratio: 1.306",
          "EXC_Close <br>Volatility: 0.136 <br>Returns: -8.000% <br>Sharpe Ratio: -0.589",
          "SO_Close <br>Volatility: 0.102 <br>Returns: -6.231% <br>Sharpe Ratio: -0.610",
          "BTI_Close <br>Volatility: 0.204 <br>Returns: 32.001% <br>Sharpe Ratio: 1.565",
          "AAPL_Close <br>Volatility: 0.162 <br>Returns: 25.462% <br>Sharpe Ratio: 1.576",
          "PEP_Close <br>Volatility: 0.087 <br>Returns: 16.167% <br>Sharpe Ratio: 1.850",
          "ABT_Close <br>Volatility: 0.133 <br>Returns: -0.556% <br>Sharpe Ratio: -0.042",
          "V_Close <br>Volatility: 0.110 <br>Returns: 24.671% <br>Sharpe Ratio: 2.234",
          "BA_Close <br>Volatility: 0.198 <br>Returns: 11.691% <br>Sharpe Ratio: 0.591",
          "PM_Close <br>Volatility: 0.135 <br>Returns: 30.790% <br>Sharpe Ratio: 2.281",
          "ADBE_Close <br>Volatility: 0.155 <br>Returns: 58.725% <br>Sharpe Ratio: 3.798",
          "KR_Close <br>Volatility: 0.405 <br>Returns: -80.708% <br>Sharpe Ratio: -1.993",
          "NEE_Close <br>Volatility: 0.105 <br>Returns: 16.637% <br>Sharpe Ratio: 1.584",
          "HON_Close <br>Volatility: 0.099 <br>Returns: 14.235% <br>Sharpe Ratio: 1.445",
          "GIS_Close <br>Volatility: 0.124 <br>Returns: -29.181% <br>Sharpe Ratio: -2.352",
          "TSLA_Close <br>Volatility: 0.381 <br>Returns: 96.040% <br>Sharpe Ratio: 2.522",
          "PFE_Close <br>Volatility: 0.098 <br>Returns: -13.932% <br>Sharpe Ratio: -1.429",
          "CVX_Close <br>Volatility: 0.149 <br>Returns: -34.967% <br>Sharpe Ratio: -2.344",
          "EW_Close <br>Volatility: 0.230 <br>Returns: 47.299% <br>Sharpe Ratio: 2.055",
          "AMZN_Close <br>Volatility: 0.171 <br>Returns: 45.113% <br>Sharpe Ratio: 2.632",
          "DUK_Close <br>Volatility: 0.089 <br>Returns: 2.265% <br>Sharpe Ratio: 0.255",
          "UNH_Close <br>Volatility: 0.118 <br>Returns: 29.482% <br>Sharpe Ratio: 2.496",
          "REGN_Close <br>Volatility: 0.300 <br>Returns: 71.439% <br>Sharpe Ratio: 2.378",
          "MO_Close <br>Volatility: 0.200 <br>Returns: -9.445% <br>Sharpe Ratio: -0.472",
          "ABBV_Close <br>Volatility: 0.124 <br>Returns: 42.583% <br>Sharpe Ratio: 3.422",
          "AMGN_Close <br>Volatility: 0.183 <br>Returns: -22.800% <br>Sharpe Ratio: -1.243",
          "BSX_Close <br>Volatility: 0.134 <br>Returns: 13.570% <br>Sharpe Ratio: 1.015",
          "DHR_Close <br>Volatility: 0.126 <br>Returns: -8.871% <br>Sharpe Ratio: -0.706",
          "QCOM_Close <br>Volatility: 0.182 <br>Returns: 5.055% <br>Sharpe Ratio: 0.278",
          "TXN_Close <br>Volatility: 0.179 <br>Returns: 20.737% <br>Sharpe Ratio: 1.156",
          "CPB_Close <br>Volatility: 0.149 <br>Returns: -34.720% <br>Sharpe Ratio: -2.323",
          "CSCO_Close <br>Volatility: 0.159 <br>Returns: -22.251% <br>Sharpe Ratio: -1.395",
          "ACN_Close <br>Volatility: 0.147 <br>Returns: -5.090% <br>Sharpe Ratio: -0.347"
         ],
         "marker": {
          "color": "brown",
          "line": {
           "width": 1
          },
          "size": 5,
          "symbol": "triangle-up"
         },
         "mode": "markers",
         "name": "Individual Assets",
         "type": "scatter",
         "x": {
          "bdata": "V1h62j5d3D84uMN8ZkTHP8Ie6taxlb0/YcP5d6U/vj+HdEuGHW3VPxfpZoco3sc/rsmRbyVsuz/HlMW5aNu/P9apQSYJZeU/XTosaYrcwz8plQjGrpHGP6r8aKL0t8M/YXYADu/cyj82FdO6L/XHP13LnZu8TtE/PGj0UqM7tj/X31O3uTjmP7PB0SSotMo/KInZhuHpwj+NXP8U3ke7P2wrXjyaIN8/X1amr23DxT8S6s4x51HNP0vrimcBLsU/rf9y4HPqxj9vHZvdtgPCP35TMLN/M8E/PCm7f/0c0j/9yBo2nqzEP9ovZV2ef8E/XgcYWY0DzD/9pl05ZpHDP4YrFfVzhsI/A21ti2Gaxj/aVujUQt3NP5QHeNYTOL0/n9/CfZjJvj/oM6Ooi+jCP9cLqivJ5Lk/iNf9Jzndtz8RyQMjQ5PQP0IZeKKredQ/ik2Af1CHxj/MyV82FfvGPxzSeYzG1sg/iGXzSvJisz8UpyQxqUPEP7jFLiVUesI/XOqbPZE0xT+ADPuZ5q/FP4jkCkaDWMY/O3MXI4GAvj+kcleErAPCP4tFW7OEarw/cA5VJWaRzD8qfog1at/CP/uZ1OkbQsE/PeulP2xHxD8idPWyGJO/P1x1tH7BKcU/kRSIyeaCwj+6FJB7ECLCPyEYGKCfZcE/sQvo2zYouj+SPowXAy3KP1rYGUiDrsQ/hkgzBgJetj+47YiobvvAP5KNluQORLw/ijdmZK5NyT/KOOSKUUfBP65aDWPlysM/gNNejJbr2T+na7x1qOG6P4A8cUnvN7k/Qp2r4lvDvz/4x0RfQV7YP8wSCYkr9rg/jBZEJq8Xwz/5Y8rYVHfNP6L+o68A8cU/ES/x993Ctj+SdNWSsju+P7RqjnY1OdM/NIXS4zybyT+BfwDZ4tu/P+yAenJ4ecc/ee00hGUbwT8i+MmSzBPAPybF9ahPP8c/PRhcTUH3xj+MtZDZOiHDP1OdBMjVaMQ/vL3vUE7Iwj8=",
          "dtype": "f8"
         },
         "y": {
          "bdata": "UqQ49itQ8T/xt9PrNxO2vzlfCWpQMMk/4teyca6uyz86T+Hi3SXVv8rwdndM4d2/nFXiiSVwwD8l9OKRWlzSP66fmzGllPO/sBLlKO6msb8Zl0g9udDTv3pCYxwRJcM/tsUlDnGI4z/fB/xgghTWP/d6MGC3QOo/aiTd/M23uL/wt4Y4uZbiv8UIaSqW292/QhczQJ6KzT8+2Qwqh9HHP4FMrHZiwvQ/esCi0u/L078dx5B62TnVv2l3BCkrCLC/s6yMOSiF1z/lLZId+3fhv0ibbS9cHb0/SHnsHzQK1r9O9djJIyDHv4W5l+r8IdY/AHt1T5Nryb8fmd6w9brFvyhaMscNds6/uzFw1+Den7+G72tnJ5vUP5a+ddqvNcA/VKOn6jx7w78qe3fA17DIP/YSoAED6sA/K4GlCvRdxj+OJ57vO6HRv0QbnV9eM+A/tA5eQzHOyj/RvX6BaOHhP3/TcR+g+OG/TnzWyUcwxT+E0U88YB3bP3aaGxxRkbW/qWKGF1zy0796YwTGOq7WPwt4BJpxSdC/4IWwCj3rwL+WY33SxJ/PP0Bu2txe08w/oaQ3SoE+0b+xKmscZL7XP6eXzHkZq9K/RLy8AFlWsz8hHCK72D92vybhBTCWhtY/TMOGIA4f3T8U2y+FtK3HP8wFjYmperS/vPCHlDTnr78JAZ7vBnvUPy9hSGqrS9A/WW2aJ4qxxD89yooE78l2v28+oy8plM8/rl0kIdLtvT/g137AtbTTPwKmijG/yuI/flxuK53T6b+L35+1jkvFP/PZ1hWTOMI/NDofnf+s0r9CfJBhjrvuPxHFUZVU1cG/RwVifA5h1r8uXmZzgkXeP/z6XpNG39w/GSlfHWUwlz/KrS2ET97SP36j81JA3OY/GCdAdrstuL8wb2a+t0DbP3WatU4gL82/KcDRSJxewT8XyO/TobW2v3tWFrhk4ak/cg+BezSLyj/Wigp/iTjWv8jpXX0me8y/BcCsuREQqr8=",
          "dtype": "f8"
         }
        }
       ],
       "layout": {
        "legend": {
         "y": 5
        },
        "template": {
         "data": {
          "bar": [
           {
            "error_x": {
             "color": "#2a3f5f"
            },
            "error_y": {
             "color": "#2a3f5f"
            },
            "marker": {
             "line": {
              "color": "#E5ECF6",
              "width": 0.5
             },
             "pattern": {
              "fillmode": "overlay",
              "size": 10,
              "solidity": 0.2
             }
            },
            "type": "bar"
           }
          ],
          "barpolar": [
           {
            "marker": {
             "line": {
              "color": "#E5ECF6",
              "width": 0.5
             },
             "pattern": {
              "fillmode": "overlay",
              "size": 10,
              "solidity": 0.2
             }
            },
            "type": "barpolar"
           }
          ],
          "carpet": [
           {
            "aaxis": {
             "endlinecolor": "#2a3f5f",
             "gridcolor": "white",
             "linecolor": "white",
             "minorgridcolor": "white",
             "startlinecolor": "#2a3f5f"
            },
            "baxis": {
             "endlinecolor": "#2a3f5f",
             "gridcolor": "white",
             "linecolor": "white",
             "minorgridcolor": "white",
             "startlinecolor": "#2a3f5f"
            },
            "type": "carpet"
           }
          ],
          "choropleth": [
           {
            "colorbar": {
             "outlinewidth": 0,
             "ticks": ""
            },
            "type": "choropleth"
           }
          ],
          "contour": [
           {
            "colorbar": {
             "outlinewidth": 0,
             "ticks": ""
            },
            "colorscale": [
             [
              0,
              "#0d0887"
             ],
             [
              0.1111111111111111,
              "#46039f"
             ],
             [
              0.2222222222222222,
              "#7201a8"
             ],
             [
              0.3333333333333333,
              "#9c179e"
             ],
             [
              0.4444444444444444,
              "#bd3786"
             ],
             [
              0.5555555555555556,
              "#d8576b"
             ],
             [
              0.6666666666666666,
              "#ed7953"
             ],
             [
              0.7777777777777778,
              "#fb9f3a"
             ],
             [
              0.8888888888888888,
              "#fdca26"
             ],
             [
              1,
              "#f0f921"
             ]
            ],
            "type": "contour"
           }
          ],
          "contourcarpet": [
           {
            "colorbar": {
             "outlinewidth": 0,
             "ticks": ""
            },
            "type": "contourcarpet"
           }
          ],
          "heatmap": [
           {
            "colorbar": {
             "outlinewidth": 0,
             "ticks": ""
            },
            "colorscale": [
             [
              0,
              "#0d0887"
             ],
             [
              0.1111111111111111,
              "#46039f"
             ],
             [
              0.2222222222222222,
              "#7201a8"
             ],
             [
              0.3333333333333333,
              "#9c179e"
             ],
             [
              0.4444444444444444,
              "#bd3786"
             ],
             [
              0.5555555555555556,
              "#d8576b"
             ],
             [
              0.6666666666666666,
              "#ed7953"
             ],
             [
              0.7777777777777778,
              "#fb9f3a"
             ],
             [
              0.8888888888888888,
              "#fdca26"
             ],
             [
              1,
              "#f0f921"
             ]
            ],
            "type": "heatmap"
           }
          ],
          "histogram": [
           {
            "marker": {
             "pattern": {
              "fillmode": "overlay",
              "size": 10,
              "solidity": 0.2
             }
            },
            "type": "histogram"
           }
          ],
          "histogram2d": [
           {
            "colorbar": {
             "outlinewidth": 0,
             "ticks": ""
            },
            "colorscale": [
             [
              0,
              "#0d0887"
             ],
             [
              0.1111111111111111,
              "#46039f"
             ],
             [
              0.2222222222222222,
              "#7201a8"
             ],
             [
              0.3333333333333333,
              "#9c179e"
             ],
             [
              0.4444444444444444,
              "#bd3786"
             ],
             [
              0.5555555555555556,
              "#d8576b"
             ],
             [
              0.6666666666666666,
              "#ed7953"
             ],
             [
              0.7777777777777778,
              "#fb9f3a"
             ],
             [
              0.8888888888888888,
              "#fdca26"
             ],
             [
              1,
              "#f0f921"
             ]
            ],
            "type": "histogram2d"
           }
          ],
          "histogram2dcontour": [
           {
            "colorbar": {
             "outlinewidth": 0,
             "ticks": ""
            },
            "colorscale": [
             [
              0,
              "#0d0887"
             ],
             [
              0.1111111111111111,
              "#46039f"
             ],
             [
              0.2222222222222222,
              "#7201a8"
             ],
             [
              0.3333333333333333,
              "#9c179e"
             ],
             [
              0.4444444444444444,
              "#bd3786"
             ],
             [
              0.5555555555555556,
              "#d8576b"
             ],
             [
              0.6666666666666666,
              "#ed7953"
             ],
             [
              0.7777777777777778,
              "#fb9f3a"
             ],
             [
              0.8888888888888888,
              "#fdca26"
             ],
             [
              1,
              "#f0f921"
             ]
            ],
            "type": "histogram2dcontour"
           }
          ],
          "mesh3d": [
           {
            "colorbar": {
             "outlinewidth": 0,
             "ticks": ""
            },
            "type": "mesh3d"
           }
          ],
          "parcoords": [
           {
            "line": {
             "colorbar": {
              "outlinewidth": 0,
              "ticks": ""
             }
            },
            "type": "parcoords"
           }
          ],
          "pie": [
           {
            "automargin": true,
            "type": "pie"
           }
          ],
          "scatter": [
           {
            "fillpattern": {
             "fillmode": "overlay",
             "size": 10,
             "solidity": 0.2
            },
            "type": "scatter"
           }
          ],
          "scatter3d": [
           {
            "line": {
             "colorbar": {
              "outlinewidth": 0,
              "ticks": ""
             }
            },
            "marker": {
             "colorbar": {
              "outlinewidth": 0,
              "ticks": ""
             }
            },
            "type": "scatter3d"
           }
          ],
          "scattercarpet": [
           {
            "marker": {
             "colorbar": {
              "outlinewidth": 0,
              "ticks": ""
             }
            },
            "type": "scattercarpet"
           }
          ],
          "scattergeo": [
           {
            "marker": {
             "colorbar": {
              "outlinewidth": 0,
              "ticks": ""
             }
            },
            "type": "scattergeo"
           }
          ],
          "scattergl": [
           {
            "marker": {
             "colorbar": {
              "outlinewidth": 0,
              "ticks": ""
             }
            },
            "type": "scattergl"
           }
          ],
          "scattermap": [
           {
            "marker": {
             "colorbar": {
              "outlinewidth": 0,
              "ticks": ""
             }
            },
            "type": "scattermap"
           }
          ],
          "scattermapbox": [
           {
            "marker": {
             "colorbar": {
              "outlinewidth": 0,
              "ticks": ""
             }
            },
            "type": "scattermapbox"
           }
          ],
          "scatterpolar": [
           {
            "marker": {
             "colorbar": {
              "outlinewidth": 0,
              "ticks": ""
             }
            },
            "type": "scatterpolar"
           }
          ],
          "scatterpolargl": [
           {
            "marker": {
             "colorbar": {
              "outlinewidth": 0,
              "ticks": ""
             }
            },
            "type": "scatterpolargl"
           }
          ],
          "scatterternary": [
           {
            "marker": {
             "colorbar": {
              "outlinewidth": 0,
              "ticks": ""
             }
            },
            "type": "scatterternary"
           }
          ],
          "surface": [
           {
            "colorbar": {
             "outlinewidth": 0,
             "ticks": ""
            },
            "colorscale": [
             [
              0,
              "#0d0887"
             ],
             [
              0.1111111111111111,
              "#46039f"
             ],
             [
              0.2222222222222222,
              "#7201a8"
             ],
             [
              0.3333333333333333,
              "#9c179e"
             ],
             [
              0.4444444444444444,
              "#bd3786"
             ],
             [
              0.5555555555555556,
              "#d8576b"
             ],
             [
              0.6666666666666666,
              "#ed7953"
             ],
             [
              0.7777777777777778,
              "#fb9f3a"
             ],
             [
              0.8888888888888888,
              "#fdca26"
             ],
             [
              1,
              "#f0f921"
             ]
            ],
            "type": "surface"
           }
          ],
          "table": [
           {
            "cells": {
             "fill": {
              "color": "#EBF0F8"
             },
             "line": {
              "color": "white"
             }
            },
            "header": {
             "fill": {
              "color": "#C8D4E3"
             },
             "line": {
              "color": "white"
             }
            },
            "type": "table"
           }
          ]
         },
         "layout": {
          "annotationdefaults": {
           "arrowcolor": "#2a3f5f",
           "arrowhead": 0,
           "arrowwidth": 1
          },
          "autotypenumbers": "strict",
          "coloraxis": {
           "colorbar": {
            "outlinewidth": 0,
            "ticks": ""
           }
          },
          "colorscale": {
           "diverging": [
            [
             0,
             "#8e0152"
            ],
            [
             0.1,
             "#c51b7d"
            ],
            [
             0.2,
             "#de77ae"
            ],
            [
             0.3,
             "#f1b6da"
            ],
            [
             0.4,
             "#fde0ef"
            ],
            [
             0.5,
             "#f7f7f7"
            ],
            [
             0.6,
             "#e6f5d0"
            ],
            [
             0.7,
             "#b8e186"
            ],
            [
             0.8,
             "#7fbc41"
            ],
            [
             0.9,
             "#4d9221"
            ],
            [
             1,
             "#276419"
            ]
           ],
           "sequential": [
            [
             0,
             "#0d0887"
            ],
            [
             0.1111111111111111,
             "#46039f"
            ],
            [
             0.2222222222222222,
             "#7201a8"
            ],
            [
             0.3333333333333333,
             "#9c179e"
            ],
            [
             0.4444444444444444,
             "#bd3786"
            ],
            [
             0.5555555555555556,
             "#d8576b"
            ],
            [
             0.6666666666666666,
             "#ed7953"
            ],
            [
             0.7777777777777778,
             "#fb9f3a"
            ],
            [
             0.8888888888888888,
             "#fdca26"
            ],
            [
             1,
             "#f0f921"
            ]
           ],
           "sequentialminus": [
            [
             0,
             "#0d0887"
            ],
            [
             0.1111111111111111,
             "#46039f"
            ],
            [
             0.2222222222222222,
             "#7201a8"
            ],
            [
             0.3333333333333333,
             "#9c179e"
            ],
            [
             0.4444444444444444,
             "#bd3786"
            ],
            [
             0.5555555555555556,
             "#d8576b"
            ],
            [
             0.6666666666666666,
             "#ed7953"
            ],
            [
             0.7777777777777778,
             "#fb9f3a"
            ],
            [
             0.8888888888888888,
             "#fdca26"
            ],
            [
             1,
             "#f0f921"
            ]
           ]
          },
          "colorway": [
           "#636efa",
           "#EF553B",
           "#00cc96",
           "#ab63fa",
           "#FFA15A",
           "#19d3f3",
           "#FF6692",
           "#B6E880",
           "#FF97FF",
           "#FECB52"
          ],
          "font": {
           "color": "#2a3f5f"
          },
          "geo": {
           "bgcolor": "white",
           "lakecolor": "white",
           "landcolor": "#E5ECF6",
           "showlakes": true,
           "showland": true,
           "subunitcolor": "white"
          },
          "hoverlabel": {
           "align": "left"
          },
          "hovermode": "closest",
          "mapbox": {
           "style": "light"
          },
          "paper_bgcolor": "white",
          "plot_bgcolor": "#E5ECF6",
          "polar": {
           "angularaxis": {
            "gridcolor": "white",
            "linecolor": "white",
            "ticks": ""
           },
           "bgcolor": "#E5ECF6",
           "radialaxis": {
            "gridcolor": "white",
            "linecolor": "white",
            "ticks": ""
           }
          },
          "scene": {
           "xaxis": {
            "backgroundcolor": "#E5ECF6",
            "gridcolor": "white",
            "gridwidth": 2,
            "linecolor": "white",
            "showbackground": true,
            "ticks": "",
            "zerolinecolor": "white"
           },
           "yaxis": {
            "backgroundcolor": "#E5ECF6",
            "gridcolor": "white",
            "gridwidth": 2,
            "linecolor": "white",
            "showbackground": true,
            "ticks": "",
            "zerolinecolor": "white"
           },
           "zaxis": {
            "backgroundcolor": "#E5ECF6",
            "gridcolor": "white",
            "gridwidth": 2,
            "linecolor": "white",
            "showbackground": true,
            "ticks": "",
            "zerolinecolor": "white"
           }
          },
          "shapedefaults": {
           "line": {
            "color": "#2a3f5f"
           }
          },
          "ternary": {
           "aaxis": {
            "gridcolor": "white",
            "linecolor": "white",
            "ticks": ""
           },
           "baxis": {
            "gridcolor": "white",
            "linecolor": "white",
            "ticks": ""
           },
           "bgcolor": "#E5ECF6",
           "caxis": {
            "gridcolor": "white",
            "linecolor": "white",
            "ticks": ""
           }
          },
          "title": {
           "x": 0.05
          },
          "xaxis": {
           "automargin": true,
           "gridcolor": "white",
           "linecolor": "white",
           "ticks": "",
           "title": {
            "standoff": 15
           },
           "zerolinecolor": "white",
           "zerolinewidth": 2
          },
          "yaxis": {
           "automargin": true,
           "gridcolor": "white",
           "linecolor": "white",
           "ticks": "",
           "title": {
            "standoff": 15
           },
           "zerolinecolor": "white",
           "zerolinewidth": 2
          }
         }
        },
        "title": {
         "text": "Sample of Random Portfolios"
        },
        "xaxis": {
         "title": {
          "text": "Volatility (Standard Deviation)"
         }
        },
        "yaxis": {
         "title": {
          "text": "Annualized Return"
         }
        }
       }
      }
     },
     "metadata": {},
     "output_type": "display_data"
    }
   ],
   "source": [
    "fig2 = go.Figure()\n",
    "\n",
    "fig2.add_trace(go.Scatter(\n",
    "    x=[np.sqrt(p[\"variance\"]) for p in dominant_portfolios],  # Convert variance to volatility\n",
    "    y=[p[\"return\"] for p in dominant_portfolios],\n",
    "    mode='markers',\n",
    "    marker=dict(\n",
    "        color=[p[\"return\"] / (np.sqrt(p[\"variance\"])) for p in dominant_portfolios],  # Sharpe Ratio\n",
    "        showscale=True,\n",
    "        size=7,\n",
    "        line=dict(width=1),\n",
    "        colorscale=\"RdBu\",\n",
    "        colorbar=dict(title=\"Sharpe<br>Ratio\")\n",
    "    ),\n",
    "    hoverinfo='text',\n",
    "    text=[\n",
    "        f\"Return: {p['return']:.3%}<br>Volatility: {np.sqrt(p['variance']):.3f}<br>\" +\n",
    "        f\"Sharpe Ratio: {p['sharpe']:.3f}<br>\" +\n",
    "        \"<br>\".join([f\"{p['tickers'][i]}: Weight={p['weights'][i]:.3f}\" for i in range(len(p['tickers']))])\n",
    "        for p in dominant_portfolios\n",
    "    ],\n",
    "    name=\"Portfolios\"\n",
    "))\n",
    "\n",
    "fig2.add_trace(go.Scatter(\n",
    "    x=volatility,\n",
    "    y=annualized_returns,\n",
    "    mode='markers',\n",
    "    hoverinfo='text',\n",
    "    hovertext=[\n",
    "        f\"{name} <br>Volatility: {vol:.3f} <br>Returns: {ret:.3%} <br>Sharpe Ratio: {sr:.3f}\"\n",
    "        for name, vol, ret, sr in zip(names, volatility, annualized_returns, sharpe_ratios)\n",
    "    ],\n",
    "    marker=dict(\n",
    "        color='brown',\n",
    "        size=5,\n",
    "        symbol='triangle-up',  # Sets the marker shape to a triangle\n",
    "        line=dict(width=1)\n",
    "    ),\n",
    "    name=\"Individual Assets\"\n",
    "))\n",
    "\n",
    "fig2.update_layout(\n",
    "    title='Sample of Random Portfolios',\n",
    "    xaxis_title='Volatility (Standard Deviation)',\n",
    "    yaxis_title='Annualized Return',\n",
    "    legend=dict(y=5\n",
    "    )\n",
    ")\n",
    "\n",
    "fig2.show()"
   ]
  },
  {
   "cell_type": "markdown",
   "metadata": {
    "id": "6-WDtJTgabDV"
   },
   "source": [
    "## 5.0 Machine Learning Method"
   ]
  },
  {
   "cell_type": "markdown",
   "metadata": {},
   "source": [
    "### 5.1 Optimization Function Only"
   ]
  },
  {
   "cell_type": "code",
   "execution_count": 99,
   "metadata": {
    "colab": {
     "base_uri": "https://localhost:8080/"
    },
    "id": "7xbdm-4NabDV",
    "outputId": "53c0d514-7544-4e8f-9ed5-4af9aa786a56"
   },
   "outputs": [
    {
     "name": "stderr",
     "output_type": "stream",
     "text": [
      "  0%|          | 209/100000 [00:01<13:58, 119.08it/s]"
     ]
    },
    {
     "name": "stdout",
     "output_type": "stream",
     "text": [
      "All assets have been tested\n"
     ]
    },
    {
     "name": "stderr",
     "output_type": "stream",
     "text": [
      "\n"
     ]
    },
    {
     "data": {
      "text/plain": [
       "({'tickers': array(['IBM_Close', 'GOOG_Close', 'DE_Close', 'HON_Close', 'UNH_Close',\n",
       "         'RDY_Close', 'F_Close', 'EW_Close'], dtype='<U11'),\n",
       "  'weights': array([7.70779829e-16, 1.66366328e-01, 2.51306763e-01, 0.00000000e+00,\n",
       "         4.02519908e-01, 0.00000000e+00, 4.60495356e-17, 1.79807000e-01]),\n",
       "  'return': np.float64(0.35503118032715075),\n",
       "  'variance': np.float64(0.010073570401333325),\n",
       "  'sharpe': np.float64(3.537323532704279)},\n",
       " {'tickers': ['IBM_Close',\n",
       "   'UNH_Close',\n",
       "   'EW_Close',\n",
       "   'TSLA_Close',\n",
       "   'ABBV_Close',\n",
       "   'MCD_Close',\n",
       "   'BABA_Close',\n",
       "   'VRTX_Close'],\n",
       "  'weights': array([0.        , 0.1568941 , 0.02781204, 0.06430183, 0.26645676,\n",
       "         0.30099843, 0.1292486 , 0.05428826]),\n",
       "  'return': np.float64(0.5480620015631981),\n",
       "  'variance': np.float64(0.00865048341031025),\n",
       "  'sharpe': np.float64(5.892634493627358)},\n",
       " 210,\n",
       " 123)"
      ]
     },
     "execution_count": 99,
     "metadata": {},
     "output_type": "execute_result"
    }
   ],
   "source": [
    "def MLRBA_V1(ticker, covariances, returns, num_iterations=None, risk_free_rate = 0, \n",
    "             return_power = 1, std_power = 1, return_weight=1/3, corr_weight=1/3, vol_weight= 1/3, num_assets = 8, base_portfolio = None):\n",
    "    \n",
    "    if num_iterations is None:\n",
    "        num_iterations = min(math.comb(len(ticker), num_assets), 100000)\n",
    "    \n",
    "    if base_portfolio is None:\n",
    "        base_portfolio = np.random.choice(list(ticker), num_assets, replace=False)\n",
    "        #base_portfolio = list(ticker)[:num_assets]\n",
    "    \n",
    "    highest_weighted_sharpe = -np.inf\n",
    "\n",
    "    all_portfolios = []\n",
    "\n",
    "    tested_assets = set()\n",
    "    best_iteration = 0\n",
    "\n",
    "    def _get_portfolio_stats (portfolio_assets, risk_free_rate = 0):\n",
    "        p_asset_ret = returns.loc[portfolio_assets].values\n",
    "        p_asset_var = covariances.loc[portfolio_assets, portfolio_assets].values\n",
    "        best_p_weights = maximize_sharpe(p_asset_ret, p_asset_var)\n",
    "        p_ret = np.dot(best_p_weights,p_asset_ret)\n",
    "        p_var = np.dot(best_p_weights, p_asset_var @ best_p_weights)\n",
    "        sharpe = get_sharpe_ratio(p_ret, p_var, risk_free_rate, return_power, std_power)\n",
    "\n",
    "        return p_asset_ret, p_asset_var, sharpe, p_ret, p_var, best_p_weights\n",
    "\n",
    "    def _update_portfolios_array(portfolios, assets, weights, p_ret, p_var):\n",
    "        portfolios.append({\n",
    "            \"tickers\": assets,\n",
    "            \"weights\": weights,\n",
    "            \"return\": p_ret,\n",
    "            \"variance\": p_var,\n",
    "            \"sharpe\": (p_ret-risk_free_rate)/np.sqrt(p_var),\n",
    "        })\n",
    "\n",
    "    curr_ret, curr_var, curr_weighted_sharpe, curr_p_return, curr_p_variance, curr_p_weights = _get_portfolio_stats(base_portfolio, risk_free_rate)\n",
    "    _update_portfolios_array(all_portfolios, base_portfolio, curr_p_weights, curr_p_return, curr_p_variance)\n",
    "\n",
    "    good_portfolios = all_portfolios.copy()\n",
    "    best_portfolio = base_portfolio.copy()\n",
    "\n",
    "    highest_weighted_sharpe = curr_weighted_sharpe\n",
    "    for i in tqdm(range(num_iterations)):\n",
    "        asset_to_remove = find_best_asset_to_remove(best_portfolio, curr_var, curr_ret)     #most_correlated_asset, _, _ = find_correlation_matrix(portfolio, curr_variances)\n",
    "        new_portfolio = [str(asset) for asset in best_portfolio if asset != asset_to_remove]\n",
    "\n",
    "        ranked_assets = find_asset_to_add(new_portfolio, ticker, covariances, returns, return_weight, corr_weight, vol_weight)         # Find the next best asset to add to the portfolio\n",
    "        asset_to_add = ranked_assets.index[0]\n",
    "\n",
    "        for asset in ranked_assets.index:\n",
    "            if asset not in tested_assets:\n",
    "                asset_to_add = asset\n",
    "                break\n",
    "\n",
    "        new_portfolio.append(asset_to_add)\n",
    "        tested_assets.add(asset_to_add)\n",
    "\n",
    "        if len(tested_assets) >= len(ticker) - num_assets:\n",
    "            print(\"All assets have been tested\")\n",
    "            break\n",
    "\n",
    "        # Substitute in and measure portfolio performance based on sharpe ratio\n",
    "        new_returns, new_var, new_weighted_sharpe, new_p_return, new_p_variance, new_p_weights = _get_portfolio_stats(new_portfolio, risk_free_rate)\n",
    "\n",
    "        _update_portfolios_array(all_portfolios, new_portfolio, new_p_weights, new_p_return, new_p_variance)\n",
    "\n",
    "        if new_weighted_sharpe > highest_weighted_sharpe:\n",
    "            highest_weighted_sharpe = new_weighted_sharpe\n",
    "            best_portfolio = new_portfolio\n",
    "            curr_ret, curr_var = new_returns, new_var\n",
    "            best_iteration = i  # Update the best iteration\n",
    "\n",
    "            _update_portfolios_array(good_portfolios, new_portfolio, new_p_weights, new_p_return, new_p_variance)\n",
    "\n",
    "            tested_assets.clear()\n",
    "\n",
    "        # If Sharpe ratio was worse, then move on to the next least correlated asset\n",
    "        # If Sharpe ratio is better, set as new base portfolio, and repeat the process for num_iterations times\n",
    "        # Adjust the sharpe ratio, maybe more emphasis on returns/volatility\n",
    "        # Update weights to value return or corr\n",
    "        # See how many iterations it takes to get here, whats a good threshold/stopping point\n",
    "        # Backtesting\n",
    "        # Train a model to maybe predict the sharpe ratio of a portfolio\n",
    "\n",
    "    base_details = good_portfolios[0]\n",
    "    best_details = good_portfolios[-1]\n",
    "\n",
    "    return base_details, best_details, good_portfolios, all_portfolios, best_iteration  \n",
    "\n",
    "base_portfolio, best_portfolio, good_portfolios, total_portfolios, best_iteration = MLRBA_V1(names, cov, annualized_returns)\n",
    "base_portfolio, best_portfolio, len(total_portfolios), best_iteration"
   ]
  },
  {
   "cell_type": "code",
   "execution_count": 100,
   "metadata": {
    "colab": {
     "base_uri": "https://localhost:8080/",
     "height": 542
    },
    "id": "Znh8vrYQabDW",
    "outputId": "f770bd56-eace-405c-a8c0-a1d835201f64"
   },
   "outputs": [
    {
     "data": {
      "application/vnd.plotly.v1+json": {
       "config": {
        "plotlyServerURL": "https://plot.ly"
       },
       "data": [
        {
         "hoverinfo": "text",
         "marker": {
          "color": [
           3.537323532704279,
           3.835810883646643,
           4.375675548853683,
           4.375675461009785,
           4.375675583275253,
           4.375675461009785,
           4.375675583275253,
           4.734220496954511,
           4.734220496954868,
           4.734220496954868,
           4.676722835298685,
           4.676722834116339,
           4.676722754231073,
           4.940589065747001,
           4.967570421458347,
           4.967570421458347,
           4.940589262898067,
           4.940589454196844,
           4.940589207455154,
           4.940589301557346,
           4.992773558575624,
           4.967570421458347,
           4.940589262898067,
           4.940589454196844,
           4.940589207455154,
           4.940589301557346,
           4.992773558575624,
           4.940589429086735,
           4.945095564587363,
           4.940589233054059,
           5.193920572293805,
           4.999311759909019,
           4.978786605812321,
           4.978786496161518,
           4.978786719116944,
           4.978786727174555,
           5.193920572293814,
           4.999311759909019,
           4.978786605812321,
           4.978786496161518,
           4.978786719116944,
           4.978786727174555,
           5.193920572293814,
           4.978786806166154,
           4.9787867822505625,
           4.978786822701831,
           5.031687922980224,
           4.978786796523747,
           4.9787868091937675,
           4.978786685339132,
           4.978786842430897,
           4.978786794676923,
           5.011508757910335,
           5.157086524439133,
           4.978786834143527,
           4.978786769377259,
           4.978786829781608,
           4.978786723655703,
           4.978786797133022,
           4.978786479973723,
           4.978786823164946,
           4.9863007454353925,
           4.978786843365193,
           4.97878674797715,
           5.367664750807915,
           5.2525916283777985,
           5.367664750803879,
           5.247175844544854,
           5.2471758514937505,
           5.247175753021702,
           5.247175748639901,
           5.247175729996175,
           5.464406774093926,
           5.2525916283777985,
           5.367664750803879,
           5.247175844544854,
           5.2471758514937505,
           5.247175753021702,
           5.247175748639901,
           5.247175729996175,
           5.464406774093926,
           5.247175754869072,
           5.247175786229238,
           5.282454623968345,
           5.247175806638047,
           5.247175691893129,
           5.247175840762122,
           5.297290388072603,
           5.247175783276011,
           5.247175751411635,
           5.247175850765165,
           5.247175779225005,
           5.314211831317173,
           5.2471757452725205,
           5.247175851680653,
           5.247175736417583,
           5.247175479302278,
           5.247175846996189,
           5.24717585303538,
           5.24717562991641,
           5.249924564971031,
           5.247175852410399,
           5.247175837433934,
           5.247175837467085,
           5.247175619773744,
           5.2471758424397725,
           5.2471758020738495,
           5.253165819246001,
           5.247175800753892,
           5.247175728522198,
           5.247175757436221,
           5.247175843717963,
           5.247175846543491,
           5.629871015355964,
           5.352196601923324,
           5.582929385220722,
           5.288596930401566,
           5.288596924638844,
           5.288596799084408,
           5.288596793886189,
           5.288596937618156,
           5.288596941883389,
           5.705762345343901,
           5.67036189756665,
           5.892634493627358,
           5.564146965821598,
           5.56060346923998,
           5.560603453392391,
           5.5965622055188735,
           5.560603262728889,
           5.5606035201994795,
           5.560603305471421,
           5.560603299723634,
           5.560603373227322,
           5.714216345347336,
           5.560603538168365,
           5.560603540684767,
           5.560603533753376,
           5.674824987506133,
           5.560603318577229,
           5.560603508836253,
           5.638093796244933,
           5.5606031571108145,
           5.560603168954818,
           5.560603471902063,
           5.560603268884675,
           5.560789859962942,
           5.56060335118125,
           5.892634493626226,
           5.560603249555618,
           5.560603416472,
           5.560603357246402,
           5.560603498683324,
           5.580117844411078,
           5.56060338033012,
           5.560603505594754,
           5.560603518655133,
           5.569528734688369,
           5.560603373512505,
           5.560603317761508,
           5.571601808539091,
           5.560603485771997,
           5.560603481142887,
           5.560603391800754,
           5.560603540560823,
           5.560603516980269,
           5.560603412296532,
           5.560603334787215,
           5.666129826850044,
           5.560603326869882,
           5.560603265672302,
           5.5606035138598795,
           5.5606033786293105,
           5.560603486338354,
           5.67149410375974,
           5.560603457647574,
           5.560603519212782,
           5.599818908344486,
           5.560603418580455,
           5.741034318502987,
           5.560603460326032,
           5.560603521137418,
           5.584045456101784,
           5.560603428632676,
           5.560603376691733,
           5.560603446208298,
           5.560603230598321,
           5.560603511405227,
           5.56060348715302,
           5.560603207749123,
           5.560603525508523,
           5.69727289804719,
           5.560603435804726,
           5.560603510612562,
           5.873660546547376,
           5.593438039589565,
           5.560603520796473,
           5.5606034598603475,
           5.560603435539181,
           5.560603505917066,
           5.560603302705861,
           5.560603531426832,
           5.751078605657539,
           5.815667320217051,
           5.560603403828088,
           5.560603324424195,
           5.56060351923028,
           5.75342774858917,
           5.57940925482357,
           5.560603540310297
          ],
          "colorbar": {
           "title": {
            "text": "Sharpe<br>Ratio"
           }
          },
          "colorscale": [
           [
            0,
            "rgb(103,0,31)"
           ],
           [
            0.1,
            "rgb(178,24,43)"
           ],
           [
            0.2,
            "rgb(214,96,77)"
           ],
           [
            0.3,
            "rgb(244,165,130)"
           ],
           [
            0.4,
            "rgb(253,219,199)"
           ],
           [
            0.5,
            "rgb(247,247,247)"
           ],
           [
            0.6,
            "rgb(209,229,240)"
           ],
           [
            0.7,
            "rgb(146,197,222)"
           ],
           [
            0.8,
            "rgb(67,147,195)"
           ],
           [
            0.9,
            "rgb(33,102,172)"
           ],
           [
            1,
            "rgb(5,48,97)"
           ]
          ],
          "line": {
           "width": 1
          },
          "showscale": true,
          "size": 7
         },
         "mode": "markers",
         "name": "Portfolios",
         "text": [
          "Return: 35.503%<br>Volatility: 0.100<br>Sharpe Ratio: 3.537<br>IBM_Close: Weight=0.000<br>GOOG_Close: Weight=0.166<br>DE_Close: Weight=0.251<br>HON_Close: Weight=0.000<br>UNH_Close: Weight=0.403<br>RDY_Close: Weight=0.000<br>F_Close: Weight=0.000<br>EW_Close: Weight=0.180",
          "Return: 43.065%<br>Volatility: 0.112<br>Sharpe Ratio: 3.836<br>IBM_Close: Weight=0.000<br>GOOG_Close: Weight=0.057<br>DE_Close: Weight=0.240<br>HON_Close: Weight=0.000<br>UNH_Close: Weight=0.433<br>F_Close: Weight=0.000<br>EW_Close: Weight=0.160<br>NVDA_Close: Weight=0.110",
          "Return: 54.575%<br>Volatility: 0.125<br>Sharpe Ratio: 4.376<br>IBM_Close: Weight=0.000<br>GOOG_Close: Weight=0.000<br>DE_Close: Weight=0.222<br>HON_Close: Weight=0.000<br>UNH_Close: Weight=0.418<br>EW_Close: Weight=0.124<br>NVDA_Close: Weight=0.109<br>VRTX_Close: Weight=0.127",
          "Return: 54.563%<br>Volatility: 0.125<br>Sharpe Ratio: 4.376<br>IBM_Close: Weight=0.000<br>DE_Close: Weight=0.222<br>HON_Close: Weight=0.000<br>UNH_Close: Weight=0.418<br>EW_Close: Weight=0.124<br>NVDA_Close: Weight=0.109<br>VRTX_Close: Weight=0.126<br>AMD_Close: Weight=0.000",
          "Return: 54.569%<br>Volatility: 0.125<br>Sharpe Ratio: 4.376<br>IBM_Close: Weight=0.000<br>DE_Close: Weight=0.222<br>HON_Close: Weight=0.000<br>UNH_Close: Weight=0.418<br>EW_Close: Weight=0.124<br>NVDA_Close: Weight=0.109<br>VRTX_Close: Weight=0.126<br>NFLX_Close: Weight=0.000",
          "Return: 54.563%<br>Volatility: 0.125<br>Sharpe Ratio: 4.376<br>IBM_Close: Weight=0.000<br>DE_Close: Weight=0.222<br>HON_Close: Weight=0.000<br>UNH_Close: Weight=0.418<br>EW_Close: Weight=0.124<br>NVDA_Close: Weight=0.109<br>VRTX_Close: Weight=0.126<br>AMD_Close: Weight=0.000",
          "Return: 54.569%<br>Volatility: 0.125<br>Sharpe Ratio: 4.376<br>IBM_Close: Weight=0.000<br>DE_Close: Weight=0.222<br>HON_Close: Weight=0.000<br>UNH_Close: Weight=0.418<br>EW_Close: Weight=0.124<br>NVDA_Close: Weight=0.109<br>VRTX_Close: Weight=0.126<br>NFLX_Close: Weight=0.000",
          "Return: 55.774%<br>Volatility: 0.118<br>Sharpe Ratio: 4.734<br>IBM_Close: Weight=0.000<br>DE_Close: Weight=0.162<br>HON_Close: Weight=0.000<br>UNH_Close: Weight=0.413<br>EW_Close: Weight=0.089<br>NVDA_Close: Weight=0.047<br>VRTX_Close: Weight=0.098<br>BABA_Close: Weight=0.191",
          "Return: 55.774%<br>Volatility: 0.118<br>Sharpe Ratio: 4.734<br>IBM_Close: Weight=0.000<br>DE_Close: Weight=0.162<br>HON_Close: Weight=0.000<br>UNH_Close: Weight=0.413<br>EW_Close: Weight=0.089<br>VRTX_Close: Weight=0.098<br>BABA_Close: Weight=0.191<br>NVDA_Close: Weight=0.047",
          "Return: 55.774%<br>Volatility: 0.118<br>Sharpe Ratio: 4.734<br>IBM_Close: Weight=0.000<br>DE_Close: Weight=0.162<br>HON_Close: Weight=0.000<br>UNH_Close: Weight=0.413<br>EW_Close: Weight=0.089<br>VRTX_Close: Weight=0.098<br>BABA_Close: Weight=0.191<br>NVDA_Close: Weight=0.047",
          "Return: 53.584%<br>Volatility: 0.115<br>Sharpe Ratio: 4.677<br>IBM_Close: Weight=0.000<br>DE_Close: Weight=0.166<br>HON_Close: Weight=0.000<br>UNH_Close: Weight=0.419<br>EW_Close: Weight=0.101<br>VRTX_Close: Weight=0.096<br>BABA_Close: Weight=0.219<br>NFLX_Close: Weight=0.000",
          "Return: 53.586%<br>Volatility: 0.115<br>Sharpe Ratio: 4.677<br>IBM_Close: Weight=0.000<br>DE_Close: Weight=0.166<br>HON_Close: Weight=0.000<br>UNH_Close: Weight=0.419<br>EW_Close: Weight=0.101<br>VRTX_Close: Weight=0.096<br>BABA_Close: Weight=0.219<br>AMD_Close: Weight=0.000",
          "Return: 53.580%<br>Volatility: 0.115<br>Sharpe Ratio: 4.677<br>IBM_Close: Weight=0.000<br>DE_Close: Weight=0.166<br>HON_Close: Weight=0.000<br>UNH_Close: Weight=0.419<br>EW_Close: Weight=0.101<br>VRTX_Close: Weight=0.095<br>BABA_Close: Weight=0.219<br>MA_Close: Weight=0.000",
          "Return: 56.513%<br>Volatility: 0.114<br>Sharpe Ratio: 4.941<br>IBM_Close: Weight=0.000<br>DE_Close: Weight=0.154<br>HON_Close: Weight=0.000<br>UNH_Close: Weight=0.395<br>EW_Close: Weight=0.094<br>VRTX_Close: Weight=0.085<br>BABA_Close: Weight=0.172<br>TSLA_Close: Weight=0.101",
          "Return: 57.890%<br>Volatility: 0.117<br>Sharpe Ratio: 4.968<br>IBM_Close: Weight=0.000<br>DE_Close: Weight=0.152<br>UNH_Close: Weight=0.391<br>EW_Close: Weight=0.087<br>VRTX_Close: Weight=0.087<br>BABA_Close: Weight=0.154<br>TSLA_Close: Weight=0.097<br>NVDA_Close: Weight=0.032",
          "Return: 57.890%<br>Volatility: 0.117<br>Sharpe Ratio: 4.968<br>IBM_Close: Weight=0.000<br>DE_Close: Weight=0.152<br>UNH_Close: Weight=0.391<br>EW_Close: Weight=0.087<br>VRTX_Close: Weight=0.087<br>BABA_Close: Weight=0.154<br>TSLA_Close: Weight=0.097<br>NVDA_Close: Weight=0.032",
          "Return: 56.517%<br>Volatility: 0.114<br>Sharpe Ratio: 4.941<br>IBM_Close: Weight=0.000<br>DE_Close: Weight=0.154<br>UNH_Close: Weight=0.395<br>EW_Close: Weight=0.094<br>VRTX_Close: Weight=0.085<br>BABA_Close: Weight=0.172<br>TSLA_Close: Weight=0.101<br>NFLX_Close: Weight=0.000",
          "Return: 56.522%<br>Volatility: 0.114<br>Sharpe Ratio: 4.941<br>IBM_Close: Weight=0.000<br>DE_Close: Weight=0.154<br>UNH_Close: Weight=0.395<br>EW_Close: Weight=0.094<br>VRTX_Close: Weight=0.085<br>BABA_Close: Weight=0.172<br>TSLA_Close: Weight=0.101<br>AMD_Close: Weight=0.000",
          "Return: 56.519%<br>Volatility: 0.114<br>Sharpe Ratio: 4.941<br>IBM_Close: Weight=0.000<br>DE_Close: Weight=0.153<br>UNH_Close: Weight=0.395<br>EW_Close: Weight=0.094<br>VRTX_Close: Weight=0.085<br>BABA_Close: Weight=0.172<br>TSLA_Close: Weight=0.101<br>GOOGL_Close: Weight=0.000",
          "Return: 56.521%<br>Volatility: 0.114<br>Sharpe Ratio: 4.941<br>IBM_Close: Weight=0.000<br>DE_Close: Weight=0.153<br>UNH_Close: Weight=0.395<br>EW_Close: Weight=0.094<br>VRTX_Close: Weight=0.085<br>BABA_Close: Weight=0.172<br>TSLA_Close: Weight=0.101<br>GOOG_Close: Weight=0.000",
          "Return: 56.789%<br>Volatility: 0.114<br>Sharpe Ratio: 4.993<br>IBM_Close: Weight=0.000<br>DE_Close: Weight=0.161<br>UNH_Close: Weight=0.363<br>EW_Close: Weight=0.087<br>VRTX_Close: Weight=0.072<br>BABA_Close: Weight=0.159<br>TSLA_Close: Weight=0.097<br>REGN_Close: Weight=0.061",
          "Return: 57.890%<br>Volatility: 0.117<br>Sharpe Ratio: 4.968<br>IBM_Close: Weight=0.000<br>DE_Close: Weight=0.152<br>UNH_Close: Weight=0.391<br>EW_Close: Weight=0.087<br>VRTX_Close: Weight=0.087<br>BABA_Close: Weight=0.154<br>TSLA_Close: Weight=0.097<br>NVDA_Close: Weight=0.032",
          "Return: 56.517%<br>Volatility: 0.114<br>Sharpe Ratio: 4.941<br>IBM_Close: Weight=0.000<br>DE_Close: Weight=0.154<br>UNH_Close: Weight=0.395<br>EW_Close: Weight=0.094<br>VRTX_Close: Weight=0.085<br>BABA_Close: Weight=0.172<br>TSLA_Close: Weight=0.101<br>NFLX_Close: Weight=0.000",
          "Return: 56.522%<br>Volatility: 0.114<br>Sharpe Ratio: 4.941<br>IBM_Close: Weight=0.000<br>DE_Close: Weight=0.154<br>UNH_Close: Weight=0.395<br>EW_Close: Weight=0.094<br>VRTX_Close: Weight=0.085<br>BABA_Close: Weight=0.172<br>TSLA_Close: Weight=0.101<br>AMD_Close: Weight=0.000",
          "Return: 56.519%<br>Volatility: 0.114<br>Sharpe Ratio: 4.941<br>IBM_Close: Weight=0.000<br>DE_Close: Weight=0.153<br>UNH_Close: Weight=0.395<br>EW_Close: Weight=0.094<br>VRTX_Close: Weight=0.085<br>BABA_Close: Weight=0.172<br>TSLA_Close: Weight=0.101<br>GOOGL_Close: Weight=0.000",
          "Return: 56.521%<br>Volatility: 0.114<br>Sharpe Ratio: 4.941<br>IBM_Close: Weight=0.000<br>DE_Close: Weight=0.153<br>UNH_Close: Weight=0.395<br>EW_Close: Weight=0.094<br>VRTX_Close: Weight=0.085<br>BABA_Close: Weight=0.172<br>TSLA_Close: Weight=0.101<br>GOOG_Close: Weight=0.000",
          "Return: 56.789%<br>Volatility: 0.114<br>Sharpe Ratio: 4.993<br>IBM_Close: Weight=0.000<br>DE_Close: Weight=0.161<br>UNH_Close: Weight=0.363<br>EW_Close: Weight=0.087<br>VRTX_Close: Weight=0.072<br>BABA_Close: Weight=0.159<br>TSLA_Close: Weight=0.097<br>REGN_Close: Weight=0.061",
          "Return: 56.520%<br>Volatility: 0.114<br>Sharpe Ratio: 4.941<br>IBM_Close: Weight=0.000<br>DE_Close: Weight=0.153<br>UNH_Close: Weight=0.395<br>EW_Close: Weight=0.094<br>VRTX_Close: Weight=0.085<br>BABA_Close: Weight=0.172<br>TSLA_Close: Weight=0.101<br>META_Close: Weight=0.000",
          "Return: 55.822%<br>Volatility: 0.113<br>Sharpe Ratio: 4.945<br>IBM_Close: Weight=0.000<br>DE_Close: Weight=0.148<br>UNH_Close: Weight=0.386<br>EW_Close: Weight=0.091<br>VRTX_Close: Weight=0.081<br>BABA_Close: Weight=0.166<br>TSLA_Close: Weight=0.095<br>AMZN_Close: Weight=0.033",
          "Return: 56.514%<br>Volatility: 0.114<br>Sharpe Ratio: 4.941<br>IBM_Close: Weight=0.000<br>DE_Close: Weight=0.153<br>UNH_Close: Weight=0.395<br>EW_Close: Weight=0.094<br>VRTX_Close: Weight=0.085<br>BABA_Close: Weight=0.172<br>TSLA_Close: Weight=0.101<br>MA_Close: Weight=0.000",
          "Return: 56.161%<br>Volatility: 0.108<br>Sharpe Ratio: 5.194<br>IBM_Close: Weight=0.000<br>DE_Close: Weight=0.130<br>UNH_Close: Weight=0.309<br>EW_Close: Weight=0.051<br>VRTX_Close: Weight=0.060<br>BABA_Close: Weight=0.125<br>TSLA_Close: Weight=0.074<br>ADBE_Close: Weight=0.251",
          "Return: 55.555%<br>Volatility: 0.111<br>Sharpe Ratio: 4.999<br>IBM_Close: Weight=0.000<br>DE_Close: Weight=0.160<br>UNH_Close: Weight=0.294<br>EW_Close: Weight=0.067<br>VRTX_Close: Weight=0.070<br>TSLA_Close: Weight=0.092<br>ADBE_Close: Weight=0.290<br>NVDA_Close: Weight=0.026",
          "Return: 54.220%<br>Volatility: 0.109<br>Sharpe Ratio: 4.979<br>IBM_Close: Weight=0.000<br>DE_Close: Weight=0.163<br>UNH_Close: Weight=0.288<br>EW_Close: Weight=0.071<br>VRTX_Close: Weight=0.067<br>TSLA_Close: Weight=0.095<br>ADBE_Close: Weight=0.317<br>NFLX_Close: Weight=0.000",
          "Return: 54.205%<br>Volatility: 0.109<br>Sharpe Ratio: 4.979<br>IBM_Close: Weight=0.000<br>DE_Close: Weight=0.163<br>UNH_Close: Weight=0.288<br>EW_Close: Weight=0.071<br>VRTX_Close: Weight=0.067<br>TSLA_Close: Weight=0.095<br>ADBE_Close: Weight=0.317<br>AMD_Close: Weight=0.000",
          "Return: 54.216%<br>Volatility: 0.109<br>Sharpe Ratio: 4.979<br>IBM_Close: Weight=0.000<br>DE_Close: Weight=0.163<br>UNH_Close: Weight=0.288<br>EW_Close: Weight=0.071<br>VRTX_Close: Weight=0.067<br>TSLA_Close: Weight=0.095<br>ADBE_Close: Weight=0.317<br>GOOGL_Close: Weight=0.000",
          "Return: 54.216%<br>Volatility: 0.109<br>Sharpe Ratio: 4.979<br>IBM_Close: Weight=0.000<br>DE_Close: Weight=0.163<br>UNH_Close: Weight=0.288<br>EW_Close: Weight=0.071<br>VRTX_Close: Weight=0.067<br>TSLA_Close: Weight=0.095<br>ADBE_Close: Weight=0.317<br>GOOG_Close: Weight=0.000",
          "Return: 56.161%<br>Volatility: 0.108<br>Sharpe Ratio: 5.194<br>IBM_Close: Weight=0.000<br>DE_Close: Weight=0.130<br>UNH_Close: Weight=0.309<br>EW_Close: Weight=0.051<br>VRTX_Close: Weight=0.060<br>TSLA_Close: Weight=0.074<br>ADBE_Close: Weight=0.251<br>BABA_Close: Weight=0.125",
          "Return: 55.555%<br>Volatility: 0.111<br>Sharpe Ratio: 4.999<br>IBM_Close: Weight=0.000<br>DE_Close: Weight=0.160<br>UNH_Close: Weight=0.294<br>EW_Close: Weight=0.067<br>VRTX_Close: Weight=0.070<br>TSLA_Close: Weight=0.092<br>ADBE_Close: Weight=0.290<br>NVDA_Close: Weight=0.026",
          "Return: 54.220%<br>Volatility: 0.109<br>Sharpe Ratio: 4.979<br>IBM_Close: Weight=0.000<br>DE_Close: Weight=0.163<br>UNH_Close: Weight=0.288<br>EW_Close: Weight=0.071<br>VRTX_Close: Weight=0.067<br>TSLA_Close: Weight=0.095<br>ADBE_Close: Weight=0.317<br>NFLX_Close: Weight=0.000",
          "Return: 54.205%<br>Volatility: 0.109<br>Sharpe Ratio: 4.979<br>IBM_Close: Weight=0.000<br>DE_Close: Weight=0.163<br>UNH_Close: Weight=0.288<br>EW_Close: Weight=0.071<br>VRTX_Close: Weight=0.067<br>TSLA_Close: Weight=0.095<br>ADBE_Close: Weight=0.317<br>AMD_Close: Weight=0.000",
          "Return: 54.216%<br>Volatility: 0.109<br>Sharpe Ratio: 4.979<br>IBM_Close: Weight=0.000<br>DE_Close: Weight=0.163<br>UNH_Close: Weight=0.288<br>EW_Close: Weight=0.071<br>VRTX_Close: Weight=0.067<br>TSLA_Close: Weight=0.095<br>ADBE_Close: Weight=0.317<br>GOOGL_Close: Weight=0.000",
          "Return: 54.216%<br>Volatility: 0.109<br>Sharpe Ratio: 4.979<br>IBM_Close: Weight=0.000<br>DE_Close: Weight=0.163<br>UNH_Close: Weight=0.288<br>EW_Close: Weight=0.071<br>VRTX_Close: Weight=0.067<br>TSLA_Close: Weight=0.095<br>ADBE_Close: Weight=0.317<br>GOOG_Close: Weight=0.000",
          "Return: 56.161%<br>Volatility: 0.108<br>Sharpe Ratio: 5.194<br>IBM_Close: Weight=0.000<br>DE_Close: Weight=0.130<br>UNH_Close: Weight=0.309<br>EW_Close: Weight=0.051<br>VRTX_Close: Weight=0.060<br>TSLA_Close: Weight=0.074<br>ADBE_Close: Weight=0.251<br>BABA_Close: Weight=0.125",
          "Return: 54.212%<br>Volatility: 0.109<br>Sharpe Ratio: 4.979<br>IBM_Close: Weight=0.000<br>DE_Close: Weight=0.163<br>UNH_Close: Weight=0.288<br>EW_Close: Weight=0.071<br>VRTX_Close: Weight=0.067<br>TSLA_Close: Weight=0.095<br>ADBE_Close: Weight=0.317<br>MA_Close: Weight=0.000",
          "Return: 54.214%<br>Volatility: 0.109<br>Sharpe Ratio: 4.979<br>IBM_Close: Weight=0.000<br>DE_Close: Weight=0.163<br>UNH_Close: Weight=0.288<br>EW_Close: Weight=0.071<br>VRTX_Close: Weight=0.067<br>TSLA_Close: Weight=0.095<br>ADBE_Close: Weight=0.317<br>AMZN_Close: Weight=0.000",
          "Return: 54.213%<br>Volatility: 0.109<br>Sharpe Ratio: 4.979<br>IBM_Close: Weight=0.000<br>DE_Close: Weight=0.163<br>UNH_Close: Weight=0.288<br>EW_Close: Weight=0.071<br>VRTX_Close: Weight=0.067<br>TSLA_Close: Weight=0.095<br>ADBE_Close: Weight=0.317<br>META_Close: Weight=0.000",
          "Return: 54.639%<br>Volatility: 0.109<br>Sharpe Ratio: 5.032<br>IBM_Close: Weight=0.000<br>DE_Close: Weight=0.169<br>UNH_Close: Weight=0.265<br>EW_Close: Weight=0.065<br>VRTX_Close: Weight=0.056<br>TSLA_Close: Weight=0.092<br>ADBE_Close: Weight=0.296<br>REGN_Close: Weight=0.058",
          "Return: 54.213%<br>Volatility: 0.109<br>Sharpe Ratio: 4.979<br>IBM_Close: Weight=0.000<br>DE_Close: Weight=0.163<br>UNH_Close: Weight=0.288<br>EW_Close: Weight=0.071<br>VRTX_Close: Weight=0.067<br>TSLA_Close: Weight=0.095<br>ADBE_Close: Weight=0.317<br>MSFT_Close: Weight=0.000",
          "Return: 54.213%<br>Volatility: 0.109<br>Sharpe Ratio: 4.979<br>IBM_Close: Weight=0.000<br>DE_Close: Weight=0.163<br>UNH_Close: Weight=0.288<br>EW_Close: Weight=0.071<br>VRTX_Close: Weight=0.067<br>TSLA_Close: Weight=0.095<br>ADBE_Close: Weight=0.317<br>TXN_Close: Weight=0.000",
          "Return: 54.219%<br>Volatility: 0.109<br>Sharpe Ratio: 4.979<br>IBM_Close: Weight=0.000<br>DE_Close: Weight=0.163<br>UNH_Close: Weight=0.288<br>EW_Close: Weight=0.071<br>VRTX_Close: Weight=0.067<br>TSLA_Close: Weight=0.095<br>ADBE_Close: Weight=0.317<br>BSX_Close: Weight=0.000",
          "Return: 54.212%<br>Volatility: 0.109<br>Sharpe Ratio: 4.979<br>IBM_Close: Weight=0.000<br>DE_Close: Weight=0.163<br>UNH_Close: Weight=0.288<br>EW_Close: Weight=0.071<br>VRTX_Close: Weight=0.067<br>TSLA_Close: Weight=0.095<br>ADBE_Close: Weight=0.317<br>V_Close: Weight=0.000",
          "Return: 54.213%<br>Volatility: 0.109<br>Sharpe Ratio: 4.979<br>IBM_Close: Weight=0.000<br>DE_Close: Weight=0.163<br>UNH_Close: Weight=0.288<br>EW_Close: Weight=0.071<br>VRTX_Close: Weight=0.067<br>TSLA_Close: Weight=0.095<br>ADBE_Close: Weight=0.317<br>AAPL_Close: Weight=0.000",
          "Return: 54.584%<br>Volatility: 0.109<br>Sharpe Ratio: 5.012<br>IBM_Close: Weight=0.000<br>DE_Close: Weight=0.158<br>UNH_Close: Weight=0.269<br>EW_Close: Weight=0.048<br>VRTX_Close: Weight=0.065<br>TSLA_Close: Weight=0.090<br>ADBE_Close: Weight=0.282<br>ISRG_Close: Weight=0.088",
          "Return: 55.229%<br>Volatility: 0.107<br>Sharpe Ratio: 5.157<br>IBM_Close: Weight=0.000<br>DE_Close: Weight=0.149<br>UNH_Close: Weight=0.283<br>EW_Close: Weight=0.050<br>VRTX_Close: Weight=0.068<br>TSLA_Close: Weight=0.091<br>ADBE_Close: Weight=0.207<br>PYPL_Close: Weight=0.152",
          "Return: 54.212%<br>Volatility: 0.109<br>Sharpe Ratio: 4.979<br>IBM_Close: Weight=0.000<br>DE_Close: Weight=0.163<br>UNH_Close: Weight=0.288<br>EW_Close: Weight=0.071<br>VRTX_Close: Weight=0.067<br>TSLA_Close: Weight=0.095<br>ADBE_Close: Weight=0.317<br>SAP_Close: Weight=0.000",
          "Return: 54.215%<br>Volatility: 0.109<br>Sharpe Ratio: 4.979<br>IBM_Close: Weight=0.000<br>DE_Close: Weight=0.163<br>UNH_Close: Weight=0.288<br>EW_Close: Weight=0.071<br>VRTX_Close: Weight=0.067<br>TSLA_Close: Weight=0.095<br>ADBE_Close: Weight=0.317<br>CRM_Close: Weight=0.000",
          "Return: 54.213%<br>Volatility: 0.109<br>Sharpe Ratio: 4.979<br>IBM_Close: Weight=0.000<br>DE_Close: Weight=0.163<br>UNH_Close: Weight=0.288<br>EW_Close: Weight=0.071<br>VRTX_Close: Weight=0.067<br>TSLA_Close: Weight=0.095<br>ADBE_Close: Weight=0.317<br>SYK_Close: Weight=0.000",
          "Return: 54.213%<br>Volatility: 0.109<br>Sharpe Ratio: 4.979<br>IBM_Close: Weight=0.000<br>DE_Close: Weight=0.163<br>UNH_Close: Weight=0.288<br>EW_Close: Weight=0.071<br>VRTX_Close: Weight=0.067<br>TSLA_Close: Weight=0.095<br>ADBE_Close: Weight=0.316<br>ETN_Close: Weight=0.000",
          "Return: 54.209%<br>Volatility: 0.109<br>Sharpe Ratio: 4.979<br>IBM_Close: Weight=0.000<br>DE_Close: Weight=0.163<br>UNH_Close: Weight=0.288<br>EW_Close: Weight=0.071<br>VRTX_Close: Weight=0.067<br>TSLA_Close: Weight=0.095<br>ADBE_Close: Weight=0.316<br>ZBH_Close: Weight=0.000",
          "Return: 54.219%<br>Volatility: 0.109<br>Sharpe Ratio: 4.979<br>IBM_Close: Weight=0.000<br>DE_Close: Weight=0.163<br>UNH_Close: Weight=0.288<br>EW_Close: Weight=0.071<br>VRTX_Close: Weight=0.067<br>TSLA_Close: Weight=0.095<br>ADBE_Close: Weight=0.317<br>MDT_Close: Weight=0.000",
          "Return: 54.214%<br>Volatility: 0.109<br>Sharpe Ratio: 4.979<br>IBM_Close: Weight=0.000<br>DE_Close: Weight=0.163<br>UNH_Close: Weight=0.288<br>EW_Close: Weight=0.071<br>VRTX_Close: Weight=0.067<br>TSLA_Close: Weight=0.095<br>ADBE_Close: Weight=0.317<br>RTX_Close: Weight=0.000",
          "Return: 53.857%<br>Volatility: 0.108<br>Sharpe Ratio: 4.986<br>IBM_Close: Weight=0.000<br>DE_Close: Weight=0.141<br>UNH_Close: Weight=0.287<br>EW_Close: Weight=0.069<br>VRTX_Close: Weight=0.067<br>TSLA_Close: Weight=0.092<br>ADBE_Close: Weight=0.313<br>CAT_Close: Weight=0.030",
          "Return: 54.211%<br>Volatility: 0.109<br>Sharpe Ratio: 4.979<br>IBM_Close: Weight=0.000<br>DE_Close: Weight=0.163<br>UNH_Close: Weight=0.288<br>EW_Close: Weight=0.071<br>VRTX_Close: Weight=0.067<br>TSLA_Close: Weight=0.095<br>ADBE_Close: Weight=0.317<br>QCOM_Close: Weight=0.000",
          "Return: 54.216%<br>Volatility: 0.109<br>Sharpe Ratio: 4.979<br>IBM_Close: Weight=0.000<br>DE_Close: Weight=0.163<br>UNH_Close: Weight=0.288<br>EW_Close: Weight=0.071<br>VRTX_Close: Weight=0.067<br>TSLA_Close: Weight=0.095<br>ADBE_Close: Weight=0.316<br>HON_Close: Weight=0.000",
          "Return: 51.718%<br>Volatility: 0.096<br>Sharpe Ratio: 5.368<br>IBM_Close: Weight=0.000<br>DE_Close: Weight=0.140<br>UNH_Close: Weight=0.147<br>EW_Close: Weight=0.048<br>VRTX_Close: Weight=0.044<br>TSLA_Close: Weight=0.075<br>ADBE_Close: Weight=0.233<br>ABBV_Close: Weight=0.313",
          "Return: 48.964%<br>Volatility: 0.093<br>Sharpe Ratio: 5.253<br>IBM_Close: Weight=0.000<br>DE_Close: Weight=0.140<br>UNH_Close: Weight=0.140<br>EW_Close: Weight=0.051<br>TSLA_Close: Weight=0.075<br>ADBE_Close: Weight=0.252<br>ABBV_Close: Weight=0.331<br>NVDA_Close: Weight=0.011",
          "Return: 51.718%<br>Volatility: 0.096<br>Sharpe Ratio: 5.368<br>IBM_Close: Weight=0.000<br>DE_Close: Weight=0.140<br>UNH_Close: Weight=0.147<br>EW_Close: Weight=0.048<br>TSLA_Close: Weight=0.075<br>ADBE_Close: Weight=0.233<br>ABBV_Close: Weight=0.313<br>VRTX_Close: Weight=0.044",
          "Return: 48.492%<br>Volatility: 0.092<br>Sharpe Ratio: 5.247<br>IBM_Close: Weight=0.000<br>DE_Close: Weight=0.141<br>UNH_Close: Weight=0.137<br>EW_Close: Weight=0.053<br>TSLA_Close: Weight=0.076<br>ADBE_Close: Weight=0.263<br>ABBV_Close: Weight=0.330<br>NFLX_Close: Weight=0.000",
          "Return: 48.493%<br>Volatility: 0.092<br>Sharpe Ratio: 5.247<br>IBM_Close: Weight=0.000<br>DE_Close: Weight=0.141<br>UNH_Close: Weight=0.137<br>EW_Close: Weight=0.053<br>TSLA_Close: Weight=0.076<br>ADBE_Close: Weight=0.263<br>ABBV_Close: Weight=0.330<br>AMD_Close: Weight=0.000",
          "Return: 48.492%<br>Volatility: 0.092<br>Sharpe Ratio: 5.247<br>IBM_Close: Weight=0.000<br>DE_Close: Weight=0.141<br>UNH_Close: Weight=0.137<br>EW_Close: Weight=0.053<br>TSLA_Close: Weight=0.076<br>ADBE_Close: Weight=0.263<br>ABBV_Close: Weight=0.330<br>MA_Close: Weight=0.000",
          "Return: 48.492%<br>Volatility: 0.092<br>Sharpe Ratio: 5.247<br>IBM_Close: Weight=0.000<br>DE_Close: Weight=0.141<br>UNH_Close: Weight=0.137<br>EW_Close: Weight=0.053<br>TSLA_Close: Weight=0.076<br>ADBE_Close: Weight=0.263<br>ABBV_Close: Weight=0.330<br>GOOGL_Close: Weight=0.000",
          "Return: 48.491%<br>Volatility: 0.092<br>Sharpe Ratio: 5.247<br>IBM_Close: Weight=0.000<br>DE_Close: Weight=0.141<br>UNH_Close: Weight=0.137<br>EW_Close: Weight=0.053<br>TSLA_Close: Weight=0.076<br>ADBE_Close: Weight=0.263<br>ABBV_Close: Weight=0.330<br>GOOG_Close: Weight=0.000",
          "Return: 50.617%<br>Volatility: 0.093<br>Sharpe Ratio: 5.464<br>IBM_Close: Weight=0.000<br>DE_Close: Weight=0.115<br>UNH_Close: Weight=0.162<br>EW_Close: Weight=0.037<br>TSLA_Close: Weight=0.059<br>ADBE_Close: Weight=0.208<br>ABBV_Close: Weight=0.314<br>BABA_Close: Weight=0.105",
          "Return: 48.964%<br>Volatility: 0.093<br>Sharpe Ratio: 5.253<br>IBM_Close: Weight=0.000<br>DE_Close: Weight=0.140<br>UNH_Close: Weight=0.140<br>EW_Close: Weight=0.051<br>TSLA_Close: Weight=0.075<br>ADBE_Close: Weight=0.252<br>ABBV_Close: Weight=0.331<br>NVDA_Close: Weight=0.011",
          "Return: 51.718%<br>Volatility: 0.096<br>Sharpe Ratio: 5.368<br>IBM_Close: Weight=0.000<br>DE_Close: Weight=0.140<br>UNH_Close: Weight=0.147<br>EW_Close: Weight=0.048<br>TSLA_Close: Weight=0.075<br>ADBE_Close: Weight=0.233<br>ABBV_Close: Weight=0.313<br>VRTX_Close: Weight=0.044",
          "Return: 48.492%<br>Volatility: 0.092<br>Sharpe Ratio: 5.247<br>IBM_Close: Weight=0.000<br>DE_Close: Weight=0.141<br>UNH_Close: Weight=0.137<br>EW_Close: Weight=0.053<br>TSLA_Close: Weight=0.076<br>ADBE_Close: Weight=0.263<br>ABBV_Close: Weight=0.330<br>NFLX_Close: Weight=0.000",
          "Return: 48.493%<br>Volatility: 0.092<br>Sharpe Ratio: 5.247<br>IBM_Close: Weight=0.000<br>DE_Close: Weight=0.141<br>UNH_Close: Weight=0.137<br>EW_Close: Weight=0.053<br>TSLA_Close: Weight=0.076<br>ADBE_Close: Weight=0.263<br>ABBV_Close: Weight=0.330<br>AMD_Close: Weight=0.000",
          "Return: 48.492%<br>Volatility: 0.092<br>Sharpe Ratio: 5.247<br>IBM_Close: Weight=0.000<br>DE_Close: Weight=0.141<br>UNH_Close: Weight=0.137<br>EW_Close: Weight=0.053<br>TSLA_Close: Weight=0.076<br>ADBE_Close: Weight=0.263<br>ABBV_Close: Weight=0.330<br>MA_Close: Weight=0.000",
          "Return: 48.492%<br>Volatility: 0.092<br>Sharpe Ratio: 5.247<br>IBM_Close: Weight=0.000<br>DE_Close: Weight=0.141<br>UNH_Close: Weight=0.137<br>EW_Close: Weight=0.053<br>TSLA_Close: Weight=0.076<br>ADBE_Close: Weight=0.263<br>ABBV_Close: Weight=0.330<br>GOOGL_Close: Weight=0.000",
          "Return: 48.491%<br>Volatility: 0.092<br>Sharpe Ratio: 5.247<br>IBM_Close: Weight=0.000<br>DE_Close: Weight=0.141<br>UNH_Close: Weight=0.137<br>EW_Close: Weight=0.053<br>TSLA_Close: Weight=0.076<br>ADBE_Close: Weight=0.263<br>ABBV_Close: Weight=0.330<br>GOOG_Close: Weight=0.000",
          "Return: 50.617%<br>Volatility: 0.093<br>Sharpe Ratio: 5.464<br>IBM_Close: Weight=0.000<br>DE_Close: Weight=0.115<br>UNH_Close: Weight=0.162<br>EW_Close: Weight=0.037<br>TSLA_Close: Weight=0.059<br>ADBE_Close: Weight=0.208<br>ABBV_Close: Weight=0.314<br>BABA_Close: Weight=0.105",
          "Return: 48.491%<br>Volatility: 0.092<br>Sharpe Ratio: 5.247<br>IBM_Close: Weight=0.000<br>DE_Close: Weight=0.141<br>UNH_Close: Weight=0.137<br>EW_Close: Weight=0.053<br>TSLA_Close: Weight=0.076<br>ADBE_Close: Weight=0.263<br>ABBV_Close: Weight=0.330<br>MSFT_Close: Weight=0.000",
          "Return: 48.493%<br>Volatility: 0.092<br>Sharpe Ratio: 5.247<br>IBM_Close: Weight=0.000<br>DE_Close: Weight=0.141<br>UNH_Close: Weight=0.137<br>EW_Close: Weight=0.053<br>TSLA_Close: Weight=0.076<br>ADBE_Close: Weight=0.263<br>ABBV_Close: Weight=0.330<br>TXN_Close: Weight=0.000",
          "Return: 49.385%<br>Volatility: 0.093<br>Sharpe Ratio: 5.282<br>IBM_Close: Weight=0.000<br>DE_Close: Weight=0.146<br>UNH_Close: Weight=0.132<br>EW_Close: Weight=0.049<br>TSLA_Close: Weight=0.075<br>ADBE_Close: Weight=0.250<br>ABBV_Close: Weight=0.309<br>REGN_Close: Weight=0.039",
          "Return: 48.491%<br>Volatility: 0.092<br>Sharpe Ratio: 5.247<br>IBM_Close: Weight=0.000<br>DE_Close: Weight=0.141<br>UNH_Close: Weight=0.137<br>EW_Close: Weight=0.053<br>TSLA_Close: Weight=0.076<br>ADBE_Close: Weight=0.263<br>ABBV_Close: Weight=0.330<br>BSX_Close: Weight=0.000",
          "Return: 48.491%<br>Volatility: 0.092<br>Sharpe Ratio: 5.247<br>IBM_Close: Weight=0.000<br>DE_Close: Weight=0.141<br>UNH_Close: Weight=0.137<br>EW_Close: Weight=0.053<br>TSLA_Close: Weight=0.076<br>ADBE_Close: Weight=0.263<br>ABBV_Close: Weight=0.330<br>AMZN_Close: Weight=0.000",
          "Return: 48.493%<br>Volatility: 0.092<br>Sharpe Ratio: 5.247<br>IBM_Close: Weight=0.000<br>DE_Close: Weight=0.141<br>UNH_Close: Weight=0.137<br>EW_Close: Weight=0.053<br>TSLA_Close: Weight=0.076<br>ADBE_Close: Weight=0.263<br>ABBV_Close: Weight=0.330<br>META_Close: Weight=0.000",
          "Return: 49.013%<br>Volatility: 0.093<br>Sharpe Ratio: 5.297<br>IBM_Close: Weight=0.000<br>DE_Close: Weight=0.137<br>UNH_Close: Weight=0.148<br>EW_Close: Weight=0.046<br>TSLA_Close: Weight=0.076<br>ADBE_Close: Weight=0.222<br>ABBV_Close: Weight=0.300<br>PYPL_Close: Weight=0.071",
          "Return: 48.492%<br>Volatility: 0.092<br>Sharpe Ratio: 5.247<br>IBM_Close: Weight=0.000<br>DE_Close: Weight=0.141<br>UNH_Close: Weight=0.137<br>EW_Close: Weight=0.053<br>TSLA_Close: Weight=0.076<br>ADBE_Close: Weight=0.263<br>ABBV_Close: Weight=0.330<br>V_Close: Weight=0.000",
          "Return: 48.491%<br>Volatility: 0.092<br>Sharpe Ratio: 5.247<br>IBM_Close: Weight=0.000<br>DE_Close: Weight=0.141<br>UNH_Close: Weight=0.137<br>EW_Close: Weight=0.053<br>TSLA_Close: Weight=0.076<br>ADBE_Close: Weight=0.263<br>ABBV_Close: Weight=0.330<br>SAP_Close: Weight=0.000",
          "Return: 48.493%<br>Volatility: 0.092<br>Sharpe Ratio: 5.247<br>IBM_Close: Weight=0.000<br>DE_Close: Weight=0.141<br>UNH_Close: Weight=0.137<br>EW_Close: Weight=0.053<br>TSLA_Close: Weight=0.076<br>ADBE_Close: Weight=0.263<br>ABBV_Close: Weight=0.330<br>MDT_Close: Weight=0.000",
          "Return: 48.493%<br>Volatility: 0.092<br>Sharpe Ratio: 5.247<br>IBM_Close: Weight=0.000<br>DE_Close: Weight=0.141<br>UNH_Close: Weight=0.137<br>EW_Close: Weight=0.053<br>TSLA_Close: Weight=0.076<br>ADBE_Close: Weight=0.263<br>ABBV_Close: Weight=0.330<br>AAPL_Close: Weight=0.000",
          "Return: 49.084%<br>Volatility: 0.092<br>Sharpe Ratio: 5.314<br>IBM_Close: Weight=0.000<br>DE_Close: Weight=0.135<br>UNH_Close: Weight=0.112<br>EW_Close: Weight=0.025<br>TSLA_Close: Weight=0.070<br>ADBE_Close: Weight=0.218<br>ABBV_Close: Weight=0.337<br>ISRG_Close: Weight=0.104",
          "Return: 48.491%<br>Volatility: 0.092<br>Sharpe Ratio: 5.247<br>IBM_Close: Weight=0.000<br>DE_Close: Weight=0.141<br>UNH_Close: Weight=0.137<br>EW_Close: Weight=0.053<br>TSLA_Close: Weight=0.076<br>ADBE_Close: Weight=0.263<br>ABBV_Close: Weight=0.330<br>CRM_Close: Weight=0.000",
          "Return: 48.492%<br>Volatility: 0.092<br>Sharpe Ratio: 5.247<br>IBM_Close: Weight=0.000<br>DE_Close: Weight=0.141<br>UNH_Close: Weight=0.137<br>EW_Close: Weight=0.053<br>TSLA_Close: Weight=0.076<br>ADBE_Close: Weight=0.263<br>ABBV_Close: Weight=0.330<br>RTX_Close: Weight=0.000",
          "Return: 48.495%<br>Volatility: 0.092<br>Sharpe Ratio: 5.247<br>IBM_Close: Weight=0.000<br>DE_Close: Weight=0.141<br>UNH_Close: Weight=0.137<br>EW_Close: Weight=0.053<br>TSLA_Close: Weight=0.076<br>ADBE_Close: Weight=0.263<br>ABBV_Close: Weight=0.330<br>SYK_Close: Weight=0.000",
          "Return: 48.497%<br>Volatility: 0.092<br>Sharpe Ratio: 5.247<br>IBM_Close: Weight=0.000<br>DE_Close: Weight=0.141<br>UNH_Close: Weight=0.137<br>EW_Close: Weight=0.053<br>TSLA_Close: Weight=0.076<br>ADBE_Close: Weight=0.263<br>ABBV_Close: Weight=0.330<br>ORCL_Close: Weight=0.000",
          "Return: 48.492%<br>Volatility: 0.092<br>Sharpe Ratio: 5.247<br>IBM_Close: Weight=0.000<br>DE_Close: Weight=0.141<br>UNH_Close: Weight=0.137<br>EW_Close: Weight=0.053<br>TSLA_Close: Weight=0.076<br>ADBE_Close: Weight=0.263<br>ABBV_Close: Weight=0.330<br>ZBH_Close: Weight=0.000",
          "Return: 48.493%<br>Volatility: 0.092<br>Sharpe Ratio: 5.247<br>IBM_Close: Weight=0.000<br>DE_Close: Weight=0.141<br>UNH_Close: Weight=0.137<br>EW_Close: Weight=0.053<br>TSLA_Close: Weight=0.076<br>ADBE_Close: Weight=0.263<br>ABBV_Close: Weight=0.330<br>ETN_Close: Weight=0.000",
          "Return: 48.497%<br>Volatility: 0.092<br>Sharpe Ratio: 5.247<br>IBM_Close: Weight=0.000<br>DE_Close: Weight=0.141<br>UNH_Close: Weight=0.137<br>EW_Close: Weight=0.053<br>TSLA_Close: Weight=0.076<br>ADBE_Close: Weight=0.263<br>ABBV_Close: Weight=0.330<br>TMO_Close: Weight=0.000",
          "Return: 48.311%<br>Volatility: 0.092<br>Sharpe Ratio: 5.250<br>IBM_Close: Weight=0.000<br>DE_Close: Weight=0.130<br>UNH_Close: Weight=0.138<br>EW_Close: Weight=0.052<br>TSLA_Close: Weight=0.074<br>ADBE_Close: Weight=0.262<br>ABBV_Close: Weight=0.329<br>CAT_Close: Weight=0.015",
          "Return: 48.493%<br>Volatility: 0.092<br>Sharpe Ratio: 5.247<br>IBM_Close: Weight=0.000<br>DE_Close: Weight=0.141<br>UNH_Close: Weight=0.137<br>EW_Close: Weight=0.053<br>TSLA_Close: Weight=0.076<br>ADBE_Close: Weight=0.263<br>ABBV_Close: Weight=0.330<br>HON_Close: Weight=0.000",
          "Return: 48.492%<br>Volatility: 0.092<br>Sharpe Ratio: 5.247<br>IBM_Close: Weight=0.000<br>DE_Close: Weight=0.141<br>UNH_Close: Weight=0.137<br>EW_Close: Weight=0.053<br>TSLA_Close: Weight=0.076<br>ADBE_Close: Weight=0.263<br>ABBV_Close: Weight=0.330<br>QCOM_Close: Weight=0.000",
          "Return: 48.493%<br>Volatility: 0.092<br>Sharpe Ratio: 5.247<br>IBM_Close: Weight=0.000<br>DE_Close: Weight=0.141<br>UNH_Close: Weight=0.137<br>EW_Close: Weight=0.053<br>TSLA_Close: Weight=0.076<br>ADBE_Close: Weight=0.263<br>ABBV_Close: Weight=0.330<br>ABT_Close: Weight=0.000",
          "Return: 48.493%<br>Volatility: 0.092<br>Sharpe Ratio: 5.247<br>IBM_Close: Weight=0.000<br>DE_Close: Weight=0.141<br>UNH_Close: Weight=0.137<br>EW_Close: Weight=0.053<br>TSLA_Close: Weight=0.076<br>ADBE_Close: Weight=0.263<br>ABBV_Close: Weight=0.330<br>MMM_Close: Weight=0.000",
          "Return: 48.493%<br>Volatility: 0.092<br>Sharpe Ratio: 5.247<br>IBM_Close: Weight=0.000<br>DE_Close: Weight=0.141<br>UNH_Close: Weight=0.137<br>EW_Close: Weight=0.053<br>TSLA_Close: Weight=0.076<br>ADBE_Close: Weight=0.263<br>ABBV_Close: Weight=0.330<br>RMD_Close: Weight=0.000",
          "Return: 48.491%<br>Volatility: 0.092<br>Sharpe Ratio: 5.247<br>IBM_Close: Weight=0.000<br>DE_Close: Weight=0.141<br>UNH_Close: Weight=0.137<br>EW_Close: Weight=0.053<br>TSLA_Close: Weight=0.076<br>ADBE_Close: Weight=0.263<br>ABBV_Close: Weight=0.330<br>BTI_Close: Weight=0.000",
          "Return: 47.528%<br>Volatility: 0.090<br>Sharpe Ratio: 5.253<br>IBM_Close: Weight=0.000<br>DE_Close: Weight=0.138<br>UNH_Close: Weight=0.132<br>EW_Close: Weight=0.048<br>TSLA_Close: Weight=0.076<br>ADBE_Close: Weight=0.255<br>ABBV_Close: Weight=0.307<br>JNJ_Close: Weight=0.045",
          "Return: 48.491%<br>Volatility: 0.092<br>Sharpe Ratio: 5.247<br>IBM_Close: Weight=0.000<br>DE_Close: Weight=0.141<br>UNH_Close: Weight=0.137<br>EW_Close: Weight=0.053<br>TSLA_Close: Weight=0.076<br>ADBE_Close: Weight=0.263<br>ABBV_Close: Weight=0.330<br>INTC_Close: Weight=0.000",
          "Return: 48.493%<br>Volatility: 0.092<br>Sharpe Ratio: 5.247<br>IBM_Close: Weight=0.000<br>DE_Close: Weight=0.141<br>UNH_Close: Weight=0.137<br>EW_Close: Weight=0.053<br>TSLA_Close: Weight=0.076<br>ADBE_Close: Weight=0.263<br>ABBV_Close: Weight=0.330<br>SNAP_Close: Weight=0.000",
          "Return: 48.491%<br>Volatility: 0.092<br>Sharpe Ratio: 5.247<br>IBM_Close: Weight=0.000<br>DE_Close: Weight=0.141<br>UNH_Close: Weight=0.137<br>EW_Close: Weight=0.053<br>TSLA_Close: Weight=0.076<br>ADBE_Close: Weight=0.263<br>ABBV_Close: Weight=0.330<br>LMT_Close: Weight=0.000",
          "Return: 48.493%<br>Volatility: 0.092<br>Sharpe Ratio: 5.247<br>IBM_Close: Weight=0.000<br>DE_Close: Weight=0.141<br>UNH_Close: Weight=0.137<br>EW_Close: Weight=0.053<br>TSLA_Close: Weight=0.076<br>ADBE_Close: Weight=0.263<br>ABBV_Close: Weight=0.330<br>CMCSA_Close: Weight=0.000",
          "Return: 48.493%<br>Volatility: 0.092<br>Sharpe Ratio: 5.247<br>IBM_Close: Weight=0.000<br>DE_Close: Weight=0.141<br>UNH_Close: Weight=0.137<br>EW_Close: Weight=0.053<br>TSLA_Close: Weight=0.076<br>ADBE_Close: Weight=0.263<br>ABBV_Close: Weight=0.330<br>UA_Close: Weight=0.000",
          "Return: 48.940%<br>Volatility: 0.087<br>Sharpe Ratio: 5.630<br>IBM_Close: Weight=0.000<br>DE_Close: Weight=0.080<br>UNH_Close: Weight=0.090<br>EW_Close: Weight=0.036<br>TSLA_Close: Weight=0.069<br>ADBE_Close: Weight=0.215<br>ABBV_Close: Weight=0.279<br>MCD_Close: Weight=0.230",
          "Return: 48.445%<br>Volatility: 0.091<br>Sharpe Ratio: 5.352<br>IBM_Close: Weight=0.000<br>DE_Close: Weight=0.094<br>UNH_Close: Weight=0.125<br>EW_Close: Weight=0.066<br>TSLA_Close: Weight=0.089<br>ABBV_Close: Weight=0.333<br>MCD_Close: Weight=0.260<br>NVDA_Close: Weight=0.034",
          "Return: 51.856%<br>Volatility: 0.093<br>Sharpe Ratio: 5.583<br>IBM_Close: Weight=0.000<br>DE_Close: Weight=0.087<br>UNH_Close: Weight=0.123<br>EW_Close: Weight=0.059<br>TSLA_Close: Weight=0.089<br>ABBV_Close: Weight=0.295<br>MCD_Close: Weight=0.284<br>VRTX_Close: Weight=0.064",
          "Return: 46.675%<br>Volatility: 0.088<br>Sharpe Ratio: 5.289<br>IBM_Close: Weight=0.000<br>DE_Close: Weight=0.100<br>UNH_Close: Weight=0.123<br>EW_Close: Weight=0.077<br>TSLA_Close: Weight=0.096<br>ABBV_Close: Weight=0.339<br>MCD_Close: Weight=0.265<br>NFLX_Close: Weight=0.000",
          "Return: 46.676%<br>Volatility: 0.088<br>Sharpe Ratio: 5.289<br>IBM_Close: Weight=0.000<br>DE_Close: Weight=0.100<br>UNH_Close: Weight=0.123<br>EW_Close: Weight=0.077<br>TSLA_Close: Weight=0.096<br>ABBV_Close: Weight=0.339<br>MCD_Close: Weight=0.265<br>AMD_Close: Weight=0.000",
          "Return: 46.679%<br>Volatility: 0.088<br>Sharpe Ratio: 5.289<br>IBM_Close: Weight=0.000<br>DE_Close: Weight=0.099<br>UNH_Close: Weight=0.123<br>EW_Close: Weight=0.077<br>TSLA_Close: Weight=0.096<br>ABBV_Close: Weight=0.339<br>MCD_Close: Weight=0.265<br>MA_Close: Weight=0.000",
          "Return: 46.675%<br>Volatility: 0.088<br>Sharpe Ratio: 5.289<br>IBM_Close: Weight=0.000<br>DE_Close: Weight=0.100<br>UNH_Close: Weight=0.123<br>EW_Close: Weight=0.077<br>TSLA_Close: Weight=0.096<br>ABBV_Close: Weight=0.339<br>MCD_Close: Weight=0.265<br>CAT_Close: Weight=0.000",
          "Return: 46.676%<br>Volatility: 0.088<br>Sharpe Ratio: 5.289<br>IBM_Close: Weight=0.000<br>DE_Close: Weight=0.100<br>UNH_Close: Weight=0.123<br>EW_Close: Weight=0.077<br>TSLA_Close: Weight=0.096<br>ABBV_Close: Weight=0.339<br>MCD_Close: Weight=0.265<br>BSX_Close: Weight=0.000",
          "Return: 46.676%<br>Volatility: 0.088<br>Sharpe Ratio: 5.289<br>IBM_Close: Weight=0.000<br>DE_Close: Weight=0.100<br>UNH_Close: Weight=0.123<br>EW_Close: Weight=0.077<br>TSLA_Close: Weight=0.096<br>ABBV_Close: Weight=0.339<br>MCD_Close: Weight=0.265<br>MDT_Close: Weight=0.000",
          "Return: 50.064%<br>Volatility: 0.088<br>Sharpe Ratio: 5.706<br>IBM_Close: Weight=0.000<br>DE_Close: Weight=0.058<br>UNH_Close: Weight=0.142<br>EW_Close: Weight=0.043<br>TSLA_Close: Weight=0.067<br>ABBV_Close: Weight=0.297<br>MCD_Close: Weight=0.263<br>BABA_Close: Weight=0.130",
          "Return: 50.737%<br>Volatility: 0.089<br>Sharpe Ratio: 5.670<br>IBM_Close: Weight=0.000<br>UNH_Close: Weight=0.161<br>EW_Close: Weight=0.041<br>TSLA_Close: Weight=0.069<br>ABBV_Close: Weight=0.302<br>MCD_Close: Weight=0.288<br>BABA_Close: Weight=0.141<br>NVDA_Close: Weight=0.000",
          "Return: 54.806%<br>Volatility: 0.093<br>Sharpe Ratio: 5.893<br>IBM_Close: Weight=0.000<br>UNH_Close: Weight=0.157<br>EW_Close: Weight=0.028<br>TSLA_Close: Weight=0.064<br>ABBV_Close: Weight=0.266<br>MCD_Close: Weight=0.301<br>BABA_Close: Weight=0.129<br>VRTX_Close: Weight=0.054",
          "Return: 57.759%<br>Volatility: 0.104<br>Sharpe Ratio: 5.564<br>IBM_Close: Weight=0.000<br>UNH_Close: Weight=0.274<br>EW_Close: Weight=0.044<br>TSLA_Close: Weight=0.079<br>MCD_Close: Weight=0.366<br>BABA_Close: Weight=0.151<br>VRTX_Close: Weight=0.077<br>NVDA_Close: Weight=0.010",
          "Return: 57.341%<br>Volatility: 0.103<br>Sharpe Ratio: 5.561<br>IBM_Close: Weight=0.000<br>UNH_Close: Weight=0.274<br>EW_Close: Weight=0.046<br>TSLA_Close: Weight=0.080<br>MCD_Close: Weight=0.368<br>BABA_Close: Weight=0.156<br>VRTX_Close: Weight=0.076<br>NFLX_Close: Weight=0.000",
          "Return: 57.338%<br>Volatility: 0.103<br>Sharpe Ratio: 5.561<br>IBM_Close: Weight=0.000<br>UNH_Close: Weight=0.275<br>EW_Close: Weight=0.046<br>TSLA_Close: Weight=0.080<br>MCD_Close: Weight=0.368<br>BABA_Close: Weight=0.156<br>VRTX_Close: Weight=0.076<br>AMD_Close: Weight=0.000",
          "Return: 57.629%<br>Volatility: 0.103<br>Sharpe Ratio: 5.597<br>IBM_Close: Weight=0.000<br>UNH_Close: Weight=0.257<br>EW_Close: Weight=0.041<br>TSLA_Close: Weight=0.078<br>MCD_Close: Weight=0.366<br>BABA_Close: Weight=0.148<br>VRTX_Close: Weight=0.068<br>REGN_Close: Weight=0.043",
          "Return: 57.344%<br>Volatility: 0.103<br>Sharpe Ratio: 5.561<br>IBM_Close: Weight=0.000<br>UNH_Close: Weight=0.274<br>EW_Close: Weight=0.046<br>TSLA_Close: Weight=0.080<br>MCD_Close: Weight=0.368<br>BABA_Close: Weight=0.156<br>VRTX_Close: Weight=0.076<br>META_Close: Weight=0.000",
          "Return: 57.339%<br>Volatility: 0.103<br>Sharpe Ratio: 5.561<br>IBM_Close: Weight=0.000<br>UNH_Close: Weight=0.274<br>EW_Close: Weight=0.046<br>TSLA_Close: Weight=0.080<br>MCD_Close: Weight=0.368<br>BABA_Close: Weight=0.156<br>VRTX_Close: Weight=0.076<br>AMZN_Close: Weight=0.000",
          "Return: 57.338%<br>Volatility: 0.103<br>Sharpe Ratio: 5.561<br>IBM_Close: Weight=0.000<br>UNH_Close: Weight=0.274<br>EW_Close: Weight=0.046<br>TSLA_Close: Weight=0.080<br>MCD_Close: Weight=0.368<br>BABA_Close: Weight=0.156<br>VRTX_Close: Weight=0.076<br>GOOGL_Close: Weight=0.000",
          "Return: 57.338%<br>Volatility: 0.103<br>Sharpe Ratio: 5.561<br>IBM_Close: Weight=0.000<br>UNH_Close: Weight=0.274<br>EW_Close: Weight=0.046<br>TSLA_Close: Weight=0.080<br>MCD_Close: Weight=0.368<br>BABA_Close: Weight=0.156<br>VRTX_Close: Weight=0.076<br>GOOG_Close: Weight=0.000",
          "Return: 57.337%<br>Volatility: 0.103<br>Sharpe Ratio: 5.561<br>IBM_Close: Weight=0.000<br>UNH_Close: Weight=0.274<br>EW_Close: Weight=0.046<br>TSLA_Close: Weight=0.080<br>MCD_Close: Weight=0.368<br>BABA_Close: Weight=0.156<br>VRTX_Close: Weight=0.076<br>MA_Close: Weight=0.000",
          "Return: 57.015%<br>Volatility: 0.100<br>Sharpe Ratio: 5.714<br>IBM_Close: Weight=0.000<br>UNH_Close: Weight=0.229<br>EW_Close: Weight=0.022<br>TSLA_Close: Weight=0.063<br>MCD_Close: Weight=0.326<br>BABA_Close: Weight=0.126<br>VRTX_Close: Weight=0.060<br>ADBE_Close: Weight=0.174",
          "Return: 57.338%<br>Volatility: 0.103<br>Sharpe Ratio: 5.561<br>IBM_Close: Weight=0.000<br>UNH_Close: Weight=0.274<br>EW_Close: Weight=0.046<br>TSLA_Close: Weight=0.080<br>MCD_Close: Weight=0.368<br>BABA_Close: Weight=0.156<br>VRTX_Close: Weight=0.076<br>TXN_Close: Weight=0.000",
          "Return: 57.336%<br>Volatility: 0.103<br>Sharpe Ratio: 5.561<br>IBM_Close: Weight=0.000<br>UNH_Close: Weight=0.275<br>EW_Close: Weight=0.046<br>TSLA_Close: Weight=0.080<br>MCD_Close: Weight=0.368<br>BABA_Close: Weight=0.156<br>VRTX_Close: Weight=0.076<br>BSX_Close: Weight=0.000",
          "Return: 57.336%<br>Volatility: 0.103<br>Sharpe Ratio: 5.561<br>IBM_Close: Weight=0.000<br>UNH_Close: Weight=0.274<br>EW_Close: Weight=0.046<br>TSLA_Close: Weight=0.080<br>MCD_Close: Weight=0.368<br>BABA_Close: Weight=0.156<br>VRTX_Close: Weight=0.076<br>CRM_Close: Weight=0.000",
          "Return: 57.614%<br>Volatility: 0.102<br>Sharpe Ratio: 5.675<br>IBM_Close: Weight=0.000<br>UNH_Close: Weight=0.260<br>EW_Close: Weight=0.028<br>TSLA_Close: Weight=0.076<br>MCD_Close: Weight=0.331<br>BABA_Close: Weight=0.125<br>VRTX_Close: Weight=0.073<br>PYPL_Close: Weight=0.106",
          "Return: 57.343%<br>Volatility: 0.103<br>Sharpe Ratio: 5.561<br>IBM_Close: Weight=0.000<br>UNH_Close: Weight=0.274<br>EW_Close: Weight=0.046<br>TSLA_Close: Weight=0.080<br>MCD_Close: Weight=0.368<br>BABA_Close: Weight=0.156<br>VRTX_Close: Weight=0.076<br>MSFT_Close: Weight=0.000",
          "Return: 57.338%<br>Volatility: 0.103<br>Sharpe Ratio: 5.561<br>IBM_Close: Weight=0.000<br>UNH_Close: Weight=0.275<br>EW_Close: Weight=0.046<br>TSLA_Close: Weight=0.080<br>MCD_Close: Weight=0.368<br>BABA_Close: Weight=0.156<br>VRTX_Close: Weight=0.076<br>AAPL_Close: Weight=0.000",
          "Return: 57.669%<br>Volatility: 0.102<br>Sharpe Ratio: 5.638<br>IBM_Close: Weight=0.000<br>UNH_Close: Weight=0.239<br>EW_Close: Weight=0.011<br>TSLA_Close: Weight=0.070<br>MCD_Close: Weight=0.350<br>BABA_Close: Weight=0.148<br>VRTX_Close: Weight=0.070<br>ISRG_Close: Weight=0.113",
          "Return: 57.348%<br>Volatility: 0.103<br>Sharpe Ratio: 5.561<br>IBM_Close: Weight=0.000<br>UNH_Close: Weight=0.274<br>EW_Close: Weight=0.046<br>TSLA_Close: Weight=0.080<br>MCD_Close: Weight=0.368<br>BABA_Close: Weight=0.156<br>VRTX_Close: Weight=0.076<br>MDT_Close: Weight=0.000",
          "Return: 57.338%<br>Volatility: 0.103<br>Sharpe Ratio: 5.561<br>IBM_Close: Weight=0.000<br>UNH_Close: Weight=0.275<br>EW_Close: Weight=0.046<br>TSLA_Close: Weight=0.080<br>MCD_Close: Weight=0.368<br>BABA_Close: Weight=0.156<br>VRTX_Close: Weight=0.076<br>CAT_Close: Weight=0.000",
          "Return: 57.338%<br>Volatility: 0.103<br>Sharpe Ratio: 5.561<br>IBM_Close: Weight=0.000<br>UNH_Close: Weight=0.274<br>EW_Close: Weight=0.046<br>TSLA_Close: Weight=0.080<br>MCD_Close: Weight=0.368<br>BABA_Close: Weight=0.156<br>VRTX_Close: Weight=0.076<br>V_Close: Weight=0.000",
          "Return: 57.341%<br>Volatility: 0.103<br>Sharpe Ratio: 5.561<br>IBM_Close: Weight=0.000<br>UNH_Close: Weight=0.274<br>EW_Close: Weight=0.046<br>TSLA_Close: Weight=0.080<br>MCD_Close: Weight=0.368<br>BABA_Close: Weight=0.156<br>VRTX_Close: Weight=0.076<br>SAP_Close: Weight=0.000",
          "Return: 57.245%<br>Volatility: 0.103<br>Sharpe Ratio: 5.561<br>IBM_Close: Weight=0.000<br>UNH_Close: Weight=0.273<br>EW_Close: Weight=0.046<br>TSLA_Close: Weight=0.079<br>MCD_Close: Weight=0.366<br>BABA_Close: Weight=0.155<br>VRTX_Close: Weight=0.076<br>ORCL_Close: Weight=0.005",
          "Return: 57.344%<br>Volatility: 0.103<br>Sharpe Ratio: 5.561<br>IBM_Close: Weight=0.000<br>UNH_Close: Weight=0.274<br>EW_Close: Weight=0.046<br>TSLA_Close: Weight=0.080<br>MCD_Close: Weight=0.368<br>BABA_Close: Weight=0.156<br>VRTX_Close: Weight=0.076<br>ZBH_Close: Weight=0.000",
          "Return: 54.806%<br>Volatility: 0.093<br>Sharpe Ratio: 5.893<br>IBM_Close: Weight=0.000<br>UNH_Close: Weight=0.157<br>EW_Close: Weight=0.028<br>TSLA_Close: Weight=0.064<br>MCD_Close: Weight=0.301<br>BABA_Close: Weight=0.129<br>VRTX_Close: Weight=0.054<br>ABBV_Close: Weight=0.266",
          "Return: 57.331%<br>Volatility: 0.103<br>Sharpe Ratio: 5.561<br>IBM_Close: Weight=0.000<br>UNH_Close: Weight=0.275<br>EW_Close: Weight=0.046<br>TSLA_Close: Weight=0.080<br>MCD_Close: Weight=0.368<br>BABA_Close: Weight=0.156<br>VRTX_Close: Weight=0.076<br>ETN_Close: Weight=0.000",
          "Return: 57.343%<br>Volatility: 0.103<br>Sharpe Ratio: 5.561<br>IBM_Close: Weight=0.000<br>UNH_Close: Weight=0.274<br>EW_Close: Weight=0.046<br>TSLA_Close: Weight=0.080<br>MCD_Close: Weight=0.368<br>BABA_Close: Weight=0.156<br>VRTX_Close: Weight=0.076<br>TMO_Close: Weight=0.000",
          "Return: 57.332%<br>Volatility: 0.103<br>Sharpe Ratio: 5.561<br>IBM_Close: Weight=0.000<br>UNH_Close: Weight=0.275<br>EW_Close: Weight=0.046<br>TSLA_Close: Weight=0.080<br>MCD_Close: Weight=0.368<br>BABA_Close: Weight=0.156<br>VRTX_Close: Weight=0.076<br>QCOM_Close: Weight=0.000",
          "Return: 57.337%<br>Volatility: 0.103<br>Sharpe Ratio: 5.561<br>IBM_Close: Weight=0.000<br>UNH_Close: Weight=0.274<br>EW_Close: Weight=0.046<br>TSLA_Close: Weight=0.080<br>MCD_Close: Weight=0.368<br>BABA_Close: Weight=0.156<br>VRTX_Close: Weight=0.076<br>SYK_Close: Weight=0.000",
          "Return: 56.574%<br>Volatility: 0.101<br>Sharpe Ratio: 5.580<br>IBM_Close: Weight=0.000<br>UNH_Close: Weight=0.257<br>EW_Close: Weight=0.049<br>TSLA_Close: Weight=0.078<br>MCD_Close: Weight=0.345<br>BABA_Close: Weight=0.147<br>VRTX_Close: Weight=0.074<br>DE_Close: Weight=0.051",
          "Return: 57.341%<br>Volatility: 0.103<br>Sharpe Ratio: 5.561<br>IBM_Close: Weight=0.000<br>UNH_Close: Weight=0.275<br>EW_Close: Weight=0.046<br>TSLA_Close: Weight=0.080<br>MCD_Close: Weight=0.368<br>BABA_Close: Weight=0.156<br>VRTX_Close: Weight=0.076<br>INTC_Close: Weight=0.000",
          "Return: 57.338%<br>Volatility: 0.103<br>Sharpe Ratio: 5.561<br>IBM_Close: Weight=0.000<br>UNH_Close: Weight=0.274<br>EW_Close: Weight=0.046<br>TSLA_Close: Weight=0.080<br>MCD_Close: Weight=0.368<br>BABA_Close: Weight=0.156<br>VRTX_Close: Weight=0.076<br>RDY_Close: Weight=0.000",
          "Return: 57.334%<br>Volatility: 0.103<br>Sharpe Ratio: 5.561<br>IBM_Close: Weight=0.000<br>UNH_Close: Weight=0.275<br>EW_Close: Weight=0.046<br>TSLA_Close: Weight=0.080<br>MCD_Close: Weight=0.368<br>BABA_Close: Weight=0.156<br>VRTX_Close: Weight=0.076<br>RMD_Close: Weight=0.000",
          "Return: 54.925%<br>Volatility: 0.099<br>Sharpe Ratio: 5.570<br>IBM_Close: Weight=0.000<br>UNH_Close: Weight=0.252<br>EW_Close: Weight=0.035<br>TSLA_Close: Weight=0.077<br>MCD_Close: Weight=0.351<br>BABA_Close: Weight=0.146<br>VRTX_Close: Weight=0.072<br>RTX_Close: Weight=0.067",
          "Return: 57.337%<br>Volatility: 0.103<br>Sharpe Ratio: 5.561<br>IBM_Close: Weight=0.000<br>UNH_Close: Weight=0.275<br>EW_Close: Weight=0.046<br>TSLA_Close: Weight=0.080<br>MCD_Close: Weight=0.368<br>BABA_Close: Weight=0.156<br>VRTX_Close: Weight=0.076<br>EMR_Close: Weight=0.000",
          "Return: 57.331%<br>Volatility: 0.103<br>Sharpe Ratio: 5.561<br>IBM_Close: Weight=0.000<br>UNH_Close: Weight=0.275<br>EW_Close: Weight=0.046<br>TSLA_Close: Weight=0.080<br>MCD_Close: Weight=0.368<br>BABA_Close: Weight=0.156<br>VRTX_Close: Weight=0.076<br>ABT_Close: Weight=0.000",
          "Return: 56.320%<br>Volatility: 0.101<br>Sharpe Ratio: 5.572<br>IBM_Close: Weight=0.000<br>UNH_Close: Weight=0.275<br>EW_Close: Weight=0.040<br>TSLA_Close: Weight=0.078<br>MCD_Close: Weight=0.349<br>BABA_Close: Weight=0.153<br>VRTX_Close: Weight=0.072<br>BTI_Close: Weight=0.033",
          "Return: 57.340%<br>Volatility: 0.103<br>Sharpe Ratio: 5.561<br>IBM_Close: Weight=0.000<br>UNH_Close: Weight=0.274<br>EW_Close: Weight=0.046<br>TSLA_Close: Weight=0.080<br>MCD_Close: Weight=0.368<br>BABA_Close: Weight=0.156<br>VRTX_Close: Weight=0.076<br>MS_Close: Weight=0.000",
          "Return: 57.337%<br>Volatility: 0.103<br>Sharpe Ratio: 5.561<br>IBM_Close: Weight=0.000<br>UNH_Close: Weight=0.274<br>EW_Close: Weight=0.046<br>TSLA_Close: Weight=0.080<br>MCD_Close: Weight=0.368<br>BABA_Close: Weight=0.156<br>VRTX_Close: Weight=0.076<br>HON_Close: Weight=0.000",
          "Return: 57.342%<br>Volatility: 0.103<br>Sharpe Ratio: 5.561<br>IBM_Close: Weight=0.000<br>UNH_Close: Weight=0.274<br>EW_Close: Weight=0.046<br>TSLA_Close: Weight=0.080<br>MCD_Close: Weight=0.368<br>BABA_Close: Weight=0.156<br>VRTX_Close: Weight=0.076<br>UA_Close: Weight=0.000",
          "Return: 57.338%<br>Volatility: 0.103<br>Sharpe Ratio: 5.561<br>IBM_Close: Weight=0.000<br>UNH_Close: Weight=0.274<br>EW_Close: Weight=0.046<br>TSLA_Close: Weight=0.080<br>MCD_Close: Weight=0.368<br>BABA_Close: Weight=0.156<br>VRTX_Close: Weight=0.076<br>SNAP_Close: Weight=0.000",
          "Return: 57.338%<br>Volatility: 0.103<br>Sharpe Ratio: 5.561<br>IBM_Close: Weight=0.000<br>UNH_Close: Weight=0.275<br>EW_Close: Weight=0.046<br>TSLA_Close: Weight=0.080<br>MCD_Close: Weight=0.368<br>BABA_Close: Weight=0.156<br>VRTX_Close: Weight=0.076<br>AMGN_Close: Weight=0.000",
          "Return: 57.336%<br>Volatility: 0.103<br>Sharpe Ratio: 5.561<br>IBM_Close: Weight=0.000<br>UNH_Close: Weight=0.275<br>EW_Close: Weight=0.046<br>TSLA_Close: Weight=0.080<br>MCD_Close: Weight=0.368<br>BABA_Close: Weight=0.156<br>VRTX_Close: Weight=0.076<br>BAC_Close: Weight=0.000",
          "Return: 57.332%<br>Volatility: 0.103<br>Sharpe Ratio: 5.561<br>IBM_Close: Weight=0.000<br>UNH_Close: Weight=0.275<br>EW_Close: Weight=0.046<br>TSLA_Close: Weight=0.080<br>MCD_Close: Weight=0.368<br>BABA_Close: Weight=0.156<br>VRTX_Close: Weight=0.076<br>CMCSA_Close: Weight=0.000",
          "Return: 52.362%<br>Volatility: 0.092<br>Sharpe Ratio: 5.666<br>IBM_Close: Weight=0.000<br>UNH_Close: Weight=0.212<br>EW_Close: Weight=0.022<br>TSLA_Close: Weight=0.075<br>MCD_Close: Weight=0.322<br>BABA_Close: Weight=0.133<br>VRTX_Close: Weight=0.065<br>JNJ_Close: Weight=0.170",
          "Return: 57.336%<br>Volatility: 0.103<br>Sharpe Ratio: 5.561<br>IBM_Close: Weight=0.000<br>UNH_Close: Weight=0.274<br>EW_Close: Weight=0.046<br>TSLA_Close: Weight=0.080<br>MCD_Close: Weight=0.368<br>BABA_Close: Weight=0.156<br>VRTX_Close: Weight=0.076<br>BIIB_Close: Weight=0.000",
          "Return: 57.342%<br>Volatility: 0.103<br>Sharpe Ratio: 5.561<br>IBM_Close: Weight=0.000<br>UNH_Close: Weight=0.274<br>EW_Close: Weight=0.046<br>TSLA_Close: Weight=0.080<br>MCD_Close: Weight=0.368<br>BABA_Close: Weight=0.156<br>VRTX_Close: Weight=0.076<br>JPM_Close: Weight=0.000",
          "Return: 57.335%<br>Volatility: 0.103<br>Sharpe Ratio: 5.561<br>IBM_Close: Weight=0.000<br>UNH_Close: Weight=0.275<br>EW_Close: Weight=0.046<br>TSLA_Close: Weight=0.080<br>MCD_Close: Weight=0.368<br>BABA_Close: Weight=0.156<br>VRTX_Close: Weight=0.076<br>BMY_Close: Weight=0.000",
          "Return: 57.339%<br>Volatility: 0.103<br>Sharpe Ratio: 5.561<br>IBM_Close: Weight=0.000<br>UNH_Close: Weight=0.274<br>EW_Close: Weight=0.046<br>TSLA_Close: Weight=0.080<br>MCD_Close: Weight=0.368<br>BABA_Close: Weight=0.156<br>VRTX_Close: Weight=0.076<br>HD_Close: Weight=0.000",
          "Return: 57.336%<br>Volatility: 0.103<br>Sharpe Ratio: 5.561<br>IBM_Close: Weight=0.000<br>UNH_Close: Weight=0.274<br>EW_Close: Weight=0.046<br>TSLA_Close: Weight=0.080<br>MCD_Close: Weight=0.368<br>BABA_Close: Weight=0.156<br>VRTX_Close: Weight=0.076<br>GS_Close: Weight=0.000",
          "Return: 53.849%<br>Volatility: 0.095<br>Sharpe Ratio: 5.671<br>IBM_Close: Weight=0.000<br>UNH_Close: Weight=0.220<br>EW_Close: Weight=0.048<br>TSLA_Close: Weight=0.075<br>MCD_Close: Weight=0.314<br>BABA_Close: Weight=0.135<br>VRTX_Close: Weight=0.062<br>PM_Close: Weight=0.145",
          "Return: 57.334%<br>Volatility: 0.103<br>Sharpe Ratio: 5.561<br>IBM_Close: Weight=0.000<br>UNH_Close: Weight=0.275<br>EW_Close: Weight=0.046<br>TSLA_Close: Weight=0.080<br>MCD_Close: Weight=0.368<br>BABA_Close: Weight=0.156<br>VRTX_Close: Weight=0.076<br>ACN_Close: Weight=0.000",
          "Return: 57.340%<br>Volatility: 0.103<br>Sharpe Ratio: 5.561<br>IBM_Close: Weight=0.000<br>UNH_Close: Weight=0.274<br>EW_Close: Weight=0.046<br>TSLA_Close: Weight=0.080<br>MCD_Close: Weight=0.368<br>BABA_Close: Weight=0.156<br>VRTX_Close: Weight=0.076<br>BA_Close: Weight=0.000",
          "Return: 53.197%<br>Volatility: 0.095<br>Sharpe Ratio: 5.600<br>IBM_Close: Weight=0.000<br>UNH_Close: Weight=0.230<br>EW_Close: Weight=0.034<br>TSLA_Close: Weight=0.074<br>MCD_Close: Weight=0.346<br>BABA_Close: Weight=0.136<br>VRTX_Close: Weight=0.067<br>LMT_Close: Weight=0.113",
          "Return: 57.341%<br>Volatility: 0.103<br>Sharpe Ratio: 5.561<br>IBM_Close: Weight=0.000<br>UNH_Close: Weight=0.274<br>EW_Close: Weight=0.046<br>TSLA_Close: Weight=0.080<br>MCD_Close: Weight=0.368<br>BABA_Close: Weight=0.156<br>VRTX_Close: Weight=0.076<br>GILD_Close: Weight=0.000",
          "Return: 50.740%<br>Volatility: 0.088<br>Sharpe Ratio: 5.741<br>IBM_Close: Weight=0.000<br>UNH_Close: Weight=0.194<br>EW_Close: Weight=0.020<br>TSLA_Close: Weight=0.068<br>MCD_Close: Weight=0.337<br>BABA_Close: Weight=0.123<br>VRTX_Close: Weight=0.060<br>MMM_Close: Weight=0.197",
          "Return: 57.338%<br>Volatility: 0.103<br>Sharpe Ratio: 5.561<br>IBM_Close: Weight=0.000<br>UNH_Close: Weight=0.275<br>EW_Close: Weight=0.046<br>TSLA_Close: Weight=0.080<br>MCD_Close: Weight=0.368<br>BABA_Close: Weight=0.156<br>VRTX_Close: Weight=0.076<br>F_Close: Weight=0.000",
          "Return: 57.334%<br>Volatility: 0.103<br>Sharpe Ratio: 5.561<br>IBM_Close: Weight=0.000<br>UNH_Close: Weight=0.275<br>EW_Close: Weight=0.046<br>TSLA_Close: Weight=0.080<br>MCD_Close: Weight=0.368<br>BABA_Close: Weight=0.156<br>VRTX_Close: Weight=0.076<br>WFC_Close: Weight=0.000",
          "Return: 55.441%<br>Volatility: 0.099<br>Sharpe Ratio: 5.584<br>IBM_Close: Weight=0.000<br>UNH_Close: Weight=0.252<br>EW_Close: Weight=0.045<br>TSLA_Close: Weight=0.076<br>MCD_Close: Weight=0.344<br>BABA_Close: Weight=0.148<br>VRTX_Close: Weight=0.072<br>WMT_Close: Weight=0.063",
          "Return: 57.337%<br>Volatility: 0.103<br>Sharpe Ratio: 5.561<br>IBM_Close: Weight=0.000<br>UNH_Close: Weight=0.274<br>EW_Close: Weight=0.046<br>TSLA_Close: Weight=0.080<br>MCD_Close: Weight=0.368<br>BABA_Close: Weight=0.156<br>VRTX_Close: Weight=0.076<br>KR_Close: Weight=0.000",
          "Return: 57.341%<br>Volatility: 0.103<br>Sharpe Ratio: 5.561<br>IBM_Close: Weight=0.000<br>UNH_Close: Weight=0.274<br>EW_Close: Weight=0.046<br>TSLA_Close: Weight=0.080<br>MCD_Close: Weight=0.368<br>BABA_Close: Weight=0.156<br>VRTX_Close: Weight=0.076<br>CSCO_Close: Weight=0.000",
          "Return: 57.334%<br>Volatility: 0.103<br>Sharpe Ratio: 5.561<br>IBM_Close: Weight=0.000<br>UNH_Close: Weight=0.274<br>EW_Close: Weight=0.046<br>TSLA_Close: Weight=0.080<br>MCD_Close: Weight=0.368<br>BABA_Close: Weight=0.156<br>VRTX_Close: Weight=0.076<br>NKE_Close: Weight=0.000",
          "Return: 57.332%<br>Volatility: 0.103<br>Sharpe Ratio: 5.561<br>IBM_Close: Weight=0.000<br>UNH_Close: Weight=0.275<br>EW_Close: Weight=0.046<br>TSLA_Close: Weight=0.080<br>MCD_Close: Weight=0.368<br>BABA_Close: Weight=0.156<br>VRTX_Close: Weight=0.076<br>DIS_Close: Weight=0.000",
          "Return: 57.336%<br>Volatility: 0.103<br>Sharpe Ratio: 5.561<br>IBM_Close: Weight=0.000<br>UNH_Close: Weight=0.275<br>EW_Close: Weight=0.046<br>TSLA_Close: Weight=0.080<br>MCD_Close: Weight=0.368<br>BABA_Close: Weight=0.156<br>VRTX_Close: Weight=0.076<br>SYY_Close: Weight=0.000",
          "Return: 57.334%<br>Volatility: 0.103<br>Sharpe Ratio: 5.561<br>IBM_Close: Weight=0.000<br>UNH_Close: Weight=0.275<br>EW_Close: Weight=0.046<br>TSLA_Close: Weight=0.080<br>MCD_Close: Weight=0.368<br>BABA_Close: Weight=0.156<br>VRTX_Close: Weight=0.076<br>DHR_Close: Weight=0.000",
          "Return: 57.333%<br>Volatility: 0.103<br>Sharpe Ratio: 5.561<br>IBM_Close: Weight=0.000<br>UNH_Close: Weight=0.274<br>EW_Close: Weight=0.046<br>TSLA_Close: Weight=0.080<br>MCD_Close: Weight=0.368<br>BABA_Close: Weight=0.156<br>VRTX_Close: Weight=0.076<br>MO_Close: Weight=0.000",
          "Return: 57.336%<br>Volatility: 0.103<br>Sharpe Ratio: 5.561<br>IBM_Close: Weight=0.000<br>UNH_Close: Weight=0.275<br>EW_Close: Weight=0.046<br>TSLA_Close: Weight=0.080<br>MCD_Close: Weight=0.368<br>BABA_Close: Weight=0.156<br>VRTX_Close: Weight=0.076<br>PFE_Close: Weight=0.000",
          "Return: 49.289%<br>Volatility: 0.087<br>Sharpe Ratio: 5.697<br>IBM_Close: Weight=0.000<br>UNH_Close: Weight=0.179<br>EW_Close: Weight=0.042<br>TSLA_Close: Weight=0.069<br>MCD_Close: Weight=0.292<br>BABA_Close: Weight=0.132<br>VRTX_Close: Weight=0.059<br>PEP_Close: Weight=0.228",
          "Return: 57.337%<br>Volatility: 0.103<br>Sharpe Ratio: 5.561<br>IBM_Close: Weight=0.000<br>UNH_Close: Weight=0.275<br>EW_Close: Weight=0.046<br>TSLA_Close: Weight=0.080<br>MCD_Close: Weight=0.368<br>BABA_Close: Weight=0.156<br>VRTX_Close: Weight=0.076<br>GM_Close: Weight=0.000",
          "Return: 57.336%<br>Volatility: 0.103<br>Sharpe Ratio: 5.561<br>IBM_Close: Weight=0.000<br>UNH_Close: Weight=0.275<br>EW_Close: Weight=0.046<br>TSLA_Close: Weight=0.080<br>MCD_Close: Weight=0.368<br>BABA_Close: Weight=0.156<br>VRTX_Close: Weight=0.076<br>GIS_Close: Weight=0.000",
          "Return: 45.124%<br>Volatility: 0.077<br>Sharpe Ratio: 5.874<br>IBM_Close: Weight=0.000<br>UNH_Close: Weight=0.157<br>EW_Close: Weight=0.030<br>TSLA_Close: Weight=0.059<br>MCD_Close: Weight=0.245<br>BABA_Close: Weight=0.119<br>VRTX_Close: Weight=0.053<br>KO_Close: Weight=0.336",
          "Return: 53.903%<br>Volatility: 0.096<br>Sharpe Ratio: 5.593<br>IBM_Close: Weight=0.000<br>UNH_Close: Weight=0.240<br>EW_Close: Weight=0.042<br>TSLA_Close: Weight=0.072<br>MCD_Close: Weight=0.362<br>BABA_Close: Weight=0.146<br>VRTX_Close: Weight=0.069<br>LLY_Close: Weight=0.069",
          "Return: 57.335%<br>Volatility: 0.103<br>Sharpe Ratio: 5.561<br>IBM_Close: Weight=0.000<br>UNH_Close: Weight=0.275<br>EW_Close: Weight=0.046<br>TSLA_Close: Weight=0.080<br>MCD_Close: Weight=0.368<br>BABA_Close: Weight=0.156<br>VRTX_Close: Weight=0.076<br>MRK_Close: Weight=0.000",
          "Return: 57.336%<br>Volatility: 0.103<br>Sharpe Ratio: 5.561<br>IBM_Close: Weight=0.000<br>UNH_Close: Weight=0.275<br>EW_Close: Weight=0.046<br>TSLA_Close: Weight=0.080<br>MCD_Close: Weight=0.368<br>BABA_Close: Weight=0.156<br>VRTX_Close: Weight=0.076<br>GE_Close: Weight=0.000",
          "Return: 57.341%<br>Volatility: 0.103<br>Sharpe Ratio: 5.561<br>IBM_Close: Weight=0.000<br>UNH_Close: Weight=0.274<br>EW_Close: Weight=0.046<br>TSLA_Close: Weight=0.080<br>MCD_Close: Weight=0.368<br>BABA_Close: Weight=0.156<br>VRTX_Close: Weight=0.076<br>K_Close: Weight=0.000",
          "Return: 57.336%<br>Volatility: 0.103<br>Sharpe Ratio: 5.561<br>IBM_Close: Weight=0.000<br>UNH_Close: Weight=0.275<br>EW_Close: Weight=0.046<br>TSLA_Close: Weight=0.080<br>MCD_Close: Weight=0.368<br>BABA_Close: Weight=0.156<br>VRTX_Close: Weight=0.076<br>T_Close: Weight=0.000",
          "Return: 57.336%<br>Volatility: 0.103<br>Sharpe Ratio: 5.561<br>IBM_Close: Weight=0.000<br>UNH_Close: Weight=0.275<br>EW_Close: Weight=0.046<br>TSLA_Close: Weight=0.080<br>MCD_Close: Weight=0.368<br>BABA_Close: Weight=0.156<br>VRTX_Close: Weight=0.076<br>CPB_Close: Weight=0.000",
          "Return: 57.336%<br>Volatility: 0.103<br>Sharpe Ratio: 5.561<br>IBM_Close: Weight=0.000<br>UNH_Close: Weight=0.275<br>EW_Close: Weight=0.046<br>TSLA_Close: Weight=0.080<br>MCD_Close: Weight=0.368<br>BABA_Close: Weight=0.156<br>VRTX_Close: Weight=0.076<br>XOM_Close: Weight=0.000",
          "Return: 49.618%<br>Volatility: 0.086<br>Sharpe Ratio: 5.751<br>IBM_Close: Weight=0.000<br>UNH_Close: Weight=0.165<br>EW_Close: Weight=0.039<br>TSLA_Close: Weight=0.068<br>MCD_Close: Weight=0.301<br>BABA_Close: Weight=0.144<br>VRTX_Close: Weight=0.062<br>SRE_Close: Weight=0.221",
          "Return: 49.108%<br>Volatility: 0.084<br>Sharpe Ratio: 5.816<br>IBM_Close: Weight=0.000<br>UNH_Close: Weight=0.171<br>EW_Close: Weight=0.037<br>TSLA_Close: Weight=0.064<br>MCD_Close: Weight=0.284<br>BABA_Close: Weight=0.139<br>VRTX_Close: Weight=0.060<br>NEE_Close: Weight=0.245",
          "Return: 57.336%<br>Volatility: 0.103<br>Sharpe Ratio: 5.561<br>IBM_Close: Weight=0.000<br>UNH_Close: Weight=0.275<br>EW_Close: Weight=0.046<br>TSLA_Close: Weight=0.080<br>MCD_Close: Weight=0.368<br>BABA_Close: Weight=0.156<br>VRTX_Close: Weight=0.076<br>COST_Close: Weight=0.000",
          "Return: 57.334%<br>Volatility: 0.103<br>Sharpe Ratio: 5.561<br>IBM_Close: Weight=0.000<br>UNH_Close: Weight=0.275<br>EW_Close: Weight=0.046<br>TSLA_Close: Weight=0.080<br>MCD_Close: Weight=0.368<br>BABA_Close: Weight=0.156<br>VRTX_Close: Weight=0.076<br>CVX_Close: Weight=0.000",
          "Return: 57.335%<br>Volatility: 0.103<br>Sharpe Ratio: 5.561<br>IBM_Close: Weight=0.000<br>UNH_Close: Weight=0.275<br>EW_Close: Weight=0.046<br>TSLA_Close: Weight=0.080<br>MCD_Close: Weight=0.368<br>BABA_Close: Weight=0.156<br>VRTX_Close: Weight=0.076<br>PG_Close: Weight=0.000",
          "Return: 48.973%<br>Volatility: 0.085<br>Sharpe Ratio: 5.753<br>IBM_Close: Weight=0.000<br>UNH_Close: Weight=0.187<br>EW_Close: Weight=0.032<br>TSLA_Close: Weight=0.067<br>MCD_Close: Weight=0.283<br>BABA_Close: Weight=0.143<br>VRTX_Close: Weight=0.061<br>AEP_Close: Weight=0.228",
          "Return: 52.997%<br>Volatility: 0.095<br>Sharpe Ratio: 5.579<br>IBM_Close: Weight=0.000<br>UNH_Close: Weight=0.230<br>EW_Close: Weight=0.041<br>TSLA_Close: Weight=0.075<br>MCD_Close: Weight=0.339<br>BABA_Close: Weight=0.149<br>VRTX_Close: Weight=0.071<br>DUK_Close: Weight=0.096",
          "Return: 57.337%<br>Volatility: 0.103<br>Sharpe Ratio: 5.561<br>IBM_Close: Weight=0.000<br>UNH_Close: Weight=0.275<br>EW_Close: Weight=0.046<br>TSLA_Close: Weight=0.080<br>MCD_Close: Weight=0.368<br>BABA_Close: Weight=0.156<br>VRTX_Close: Weight=0.076<br>VZ_Close: Weight=0.000"
         ],
         "type": "scatter",
         "x": [
          0.10036717790858386,
          0.11227042040255429,
          0.12472261139642592,
          0.12469574514057546,
          0.12470987245301478,
          0.12469574514057546,
          0.12470987245301478,
          0.11780940900016822,
          0.11780940839521661,
          0.11780940839521661,
          0.11457500811655488,
          0.11458013000050588,
          0.11456726045999352,
          0.11438599759024648,
          0.11653668594085734,
          0.11653668594085734,
          0.11439367829161386,
          0.11440250125830892,
          0.11439760755886966,
          0.1144014630147074,
          0.1137415878072195,
          0.11653668594085734,
          0.11439367829161386,
          0.11440250125830892,
          0.11439760755886966,
          0.1144014630147074,
          0.1137415878072195,
          0.11439950468577376,
          0.11288420701050254,
          0.11438799276668088,
          0.10812854375884019,
          0.1111245841594578,
          0.10890251867130234,
          0.10887221709338851,
          0.10889364213485365,
          0.10889319394362036,
          0.10812854338495342,
          0.1111245841594578,
          0.10890251867130234,
          0.10887221709338851,
          0.10889364213485365,
          0.10889319394362036,
          0.10812854338495342,
          0.10888694536732144,
          0.10889017081760537,
          0.10888830569044865,
          0.1085899969447783,
          0.10888716278526271,
          0.10888879198090144,
          0.10889909764238383,
          0.10888595061672728,
          0.10888757457842599,
          0.10891723622769375,
          0.10709380921466484,
          0.10888564790905826,
          0.10889184044968195,
          0.10888708083911496,
          0.10888727049615901,
          0.10888040666117306,
          0.10890058877929445,
          0.10889019813963784,
          0.10800896957009926,
          0.10888465048729387,
          0.10889384734536371,
          0.09635073083229072,
          0.09321873428276833,
          0.09635073079879368,
          0.09241614029796126,
          0.09241647368543866,
          0.09241603044259629,
          0.09241507443385327,
          0.09241384818228024,
          0.0926301098781048,
          0.09321873428276833,
          0.09635073079879368,
          0.09241614029796126,
          0.09241647368543866,
          0.09241603044259629,
          0.09241507443385327,
          0.09241384818228024,
          0.0926301098781048,
          0.09241408446471784,
          0.09241656356579882,
          0.09348790792575222,
          0.09241335637734345,
          0.09241277466189994,
          0.09241647027099709,
          0.09252419079148504,
          0.09241636056369196,
          0.09241435244265034,
          0.09241814153395551,
          0.09241639466616607,
          0.09236330966981782,
          0.09241444049887101,
          0.09241600013850731,
          0.09242169160548362,
          0.0924256847090521,
          0.09241537941096832,
          0.09241643855319337,
          0.0924247768003136,
          0.09202210802154354,
          0.09241723250381358,
          0.09241477092485051,
          0.09241797052512953,
          0.09241759332125386,
          0.09241669899552848,
          0.09241305574726724,
          0.09047516201379355,
          0.09241352643365101,
          0.0924182750704622,
          0.09241439045723754,
          0.09241752742144461,
          0.09241791196470124,
          0.08692987243143682,
          0.09051352161495763,
          0.09288390743608343,
          0.08825645228264127,
          0.08825716006862983,
          0.08826352705954095,
          0.08825604049757002,
          0.08825699625123748,
          0.08825733444021171,
          0.08774325150002071,
          0.08947671122917067,
          0.09300797498231132,
          0.10380535923456789,
          0.1031204095041547,
          0.10311522695516981,
          0.10297163039064693,
          0.10312531060636561,
          0.10311571379789043,
          0.10311417543409176,
          0.10311460046039904,
          0.10311266609067804,
          0.09977685866829501,
          0.10311424493774816,
          0.10311117680241147,
          0.10311192753378551,
          0.10152541564888354,
          0.10312289256994508,
          0.10311443340644047,
          0.10228512325782764,
          0.10313200901552097,
          0.10311409877773586,
          0.1031139385221288,
          0.10312032452486751,
          0.10294486025630509,
          0.10312639385540912,
          0.09300797506096165,
          0.10310262510569676,
          0.10312424048573424,
          0.10310406009546227,
          0.10311275673063786,
          0.10138524082696895,
          0.10312044969567716,
          0.10311553851737665,
          0.10310815565081759,
          0.0986172514195322,
          0.10311263676467253,
          0.10310283920854663,
          0.10108461262608488,
          0.10311826339441532,
          0.10311307445101933,
          0.1031214764873465,
          0.10311423934490235,
          0.10311389677634848,
          0.10311172819921578,
          0.103104293188885,
          0.09241254951658225,
          0.10311101608145637,
          0.10312179083425803,
          0.103108956576901,
          0.10311721033226065,
          0.10311135889535027,
          0.09494638373195091,
          0.10310669855646988,
          0.10311774734301317,
          0.0949976557894337,
          0.10312073309703736,
          0.0883809314593008,
          0.10311518544666788,
          0.10310779570676133,
          0.0992842907696469,
          0.1031131208940432,
          0.10312033701580814,
          0.10310777428573227,
          0.10310316767573326,
          0.10311037291885027,
          0.10310790267701697,
          0.1031059905540649,
          0.1031108334850759,
          0.08651293060467836,
          0.10311257475421515,
          0.10311115739374607,
          0.07682479391919628,
          0.09636763336557962,
          0.10310961088439796,
          0.10311116234054292,
          0.10312002420747457,
          0.1031114827444161,
          0.1031109915222325,
          0.10311076821327346,
          0.08627652360566677,
          0.0844402659402448,
          0.10311081372769303,
          0.10310747799404446,
          0.10310955971532658,
          0.08511924407775671,
          0.09498760353229284,
          0.10311212651140063
         ],
         "y": [
          0.35503118032715075,
          0.4306481004917019,
          0.5457456810765206,
          0.5456281121039462,
          0.5456899438860279,
          0.5456281121039462,
          0.5456899438860279,
          0.5577357188226936,
          0.5577357159587614,
          0.5577357159587614,
          0.5358355568132244,
          0.5358595103093844,
          0.5357993138831696,
          0.5651342089689345,
          0.5789041940945837,
          0.5789041940945837,
          0.5651721787109631,
          0.5652157912505422,
          0.5651915852640416,
          0.5652106442529718,
          0.5678859921142931,
          0.5789041940945837,
          0.5651721787109631,
          0.5652157912505422,
          0.5651915852640416,
          0.5652106442529718,
          0.5678859921142931,
          0.5652009835432923,
          0.5582231913995979,
          0.5651440854537291,
          0.561611067881211,
          0.5555464404033769,
          0.5422024012999063,
          0.5420515242717279,
          0.5421582192572827,
          0.5421559886861417,
          0.5616110659392738,
          0.5555464404033769,
          0.5422024012999063,
          0.5420515242717279,
          0.5421582192572827,
          0.5421559886861417,
          0.5616110659392738,
          0.5421248869585548,
          0.5421409431836995,
          0.5421316615179345,
          0.5463909761835004,
          0.5421259683861979,
          0.5421340811835562,
          0.5421853773873466,
          0.5421199382561421,
          0.5421280184154659,
          0.545839683242476,
          0.5522920403518035,
          0.542118430236807,
          0.542149254524016,
          0.5421255640151509,
          0.5421264967213838,
          0.5420923311511228,
          0.5421927790755294,
          0.542141083669449,
          0.5385652054810945,
          0.5421134652905562,
          0.5421592440993436,
          0.5171784216030683,
          0.4896399433016434,
          0.5171784214228785,
          0.4849237390175306,
          0.4849254890024414,
          0.48492315412890674,
          0.4849181373780662,
          0.48491170129761196,
          0.5061685999029806,
          0.4896399433016434,
          0.5171784214228785,
          0.4849237390175306,
          0.4849254890024414,
          0.48492315412890674,
          0.4849181373780662,
          0.48491170129761196,
          0.5061685999029806,
          0.48491294341168995,
          0.4849259545889747,
          0.4938456315075167,
          0.48490912779341644,
          0.48490606482631865,
          0.4849254700944867,
          0.49012750654392934,
          0.48492488912830856,
          0.4849143492194834,
          0.48493424042956845,
          0.4849250676956055,
          0.49083819302695764,
          0.48491481069860654,
          0.48492300423569146,
          0.4849528577109623,
          0.4849737864630617,
          0.48491974673622185,
          0.48492530479984414,
          0.4849690364270691,
          0.48310912542271917,
          0.484929470740608,
          0.48491655301886766,
          0.48493334188720494,
          0.48493134251344805,
          0.48492667040736503,
          0.48490754991276236,
          0.4752810285816044,
          0.4849100195649837,
          0.48493492982161734,
          0.484914549245462,
          0.48493101742194666,
          0.48493303544916305,
          0.4894039691703376,
          0.48444616281568953,
          0.5185642962390318,
          0.4667528026301089,
          0.4667565453163139,
          0.46679020668298826,
          0.46675061281653846,
          0.4667556800976716,
          0.46675746901928317,
          0.500642140466858,
          0.5073653340734634,
          0.5480620015631981,
          0.5775882746210419,
          0.57341170683825,
          0.5733828871042573,
          0.5762871348849532,
          0.5734389386276867,
          0.5733856011324315,
          0.5733770247597707,
          0.573379387569779,
          0.5733686388862869,
          0.5701465566897824,
          0.5733774352364019,
          0.5733603748116622,
          0.5733645486164898,
          0.5761389655912305,
          0.5734254986457197,
          0.5733784802115149,
          0.5766931188881063,
          0.5734761749308869,
          0.5733765844273981,
          0.5733757245476453,
          0.5734112136414268,
          0.5724547350485635,
          0.5734449712676254,
          0.5480620020265504,
          0.5733127922004521,
          0.573433003966054,
          0.5733207827125623,
          0.5733691558352674,
          0.565741591498484,
          0.5734119211589445,
          0.5733846249610155,
          0.5733435731139773,
          0.5492516155170719,
          0.5733684758454076,
          0.5733139897736756,
          0.563203210522968,
          0.5733997748777407,
          0.5733709207436838,
          0.5734176319230406,
          0.5733774043835002,
          0.5733754970641037,
          0.5733634276723518,
          0.5733220765369927,
          0.5236215031911633,
          0.5733594590594802,
          0.5734193668749513,
          0.5733480262519415,
          0.5733939081683979,
          0.57336138175457,
          0.5384878555090693,
          0.5733354644997325,
          0.5733969087688535,
          0.5319696691380719,
          0.5734135009859086,
          0.5073979606091061,
          0.5733826570069019,
          0.5733415718637346,
          0.554407992734535,
          0.5733711735804323,
          0.5734112942156923,
          0.5733414450241102,
          0.5733158072626028,
          0.5733559017148612,
          0.5733421631788548,
          0.5733315018130841,
          0.5733584641952353,
          0.49288777486467134,
          0.5733681374529604,
          0.5733602637869889,
          0.451242761039816,
          0.5390263862522536,
          0.5733516653117376,
          0.5733602860610449,
          0.5734095608809666,
          0.5733620724489072,
          0.5733593200038021,
          0.5733581018548619,
          0.49618306907905785,
          0.49107649513911855,
          0.5733583417856938,
          0.5733397849066781,
          0.5733513806193297,
          0.4897274208158998,
          0.5299747142415867,
          0.5733656557282176
         ]
        },
        {
         "hoverinfo": "text",
         "hovertext": [
          "NVDA_Close <br>Volatility: 0.443 <br>Returns: 108.207% <br>Sharpe Ratio: 2.442",
          "BMY_Close <br>Volatility: 0.182 <br>Returns: -8.623% <br>Sharpe Ratio: -0.474",
          "SYK_Close <br>Volatility: 0.116 <br>Returns: 19.679% <br>Sharpe Ratio: 1.703",
          "MMM_Close <br>Volatility: 0.118 <br>Returns: 21.627% <br>Sharpe Ratio: 1.830",
          "UA_Close <br>Volatility: 0.335 <br>Returns: -33.044% <br>Sharpe Ratio: -0.987",
          "F_Close <br>Volatility: 0.186 <br>Returns: -46.688% <br>Sharpe Ratio: -2.504",
          "SRE_Close <br>Volatility: 0.107 <br>Returns: 12.842% <br>Sharpe Ratio: 1.199",
          "MA_Close <br>Volatility: 0.124 <br>Returns: 28.689% <br>Sharpe Ratio: 2.305",
          "SNAP_Close <br>Volatility: 0.669 <br>Returns: -122.379% <br>Sharpe Ratio: -1.830",
          "SYY_Close <br>Volatility: 0.155 <br>Returns: -6.895% <br>Sharpe Ratio: -0.444",
          "WFC_Close <br>Volatility: 0.176 <br>Returns: -30.961% <br>Sharpe Ratio: -1.756",
          "CMCSA_Close <br>Volatility: 0.154 <br>Returns: 14.957% <br>Sharpe Ratio: 0.971",
          "PYPL_Close <br>Volatility: 0.210 <br>Returns: 61.041% <br>Sharpe Ratio: 2.909",
          "ORCL_Close <br>Volatility: 0.187 <br>Returns: 34.500% <br>Sharpe Ratio: 1.843",
          "BABA_Close <br>Volatility: 0.270 <br>Returns: 82.040% <br>Sharpe Ratio: 3.034",
          "PG_Close <br>Volatility: 0.087 <br>Returns: -9.655% <br>Sharpe Ratio: -1.112",
          "AMD_Close <br>Volatility: 0.694 <br>Returns: -58.090% <br>Sharpe Ratio: -0.837",
          "GS_Close <br>Volatility: 0.209 <br>Returns: -46.653% <br>Sharpe Ratio: -2.236",
          "WMT_Close <br>Volatility: 0.148 <br>Returns: 23.079% <br>Sharpe Ratio: 1.562",
          "LMT_Close <br>Volatility: 0.107 <br>Returns: 18.608% <br>Sharpe Ratio: 1.746",
          "VRTX_Close <br>Volatility: 0.486 <br>Returns: 129.746% <br>Sharpe Ratio: 2.668",
          "GM_Close <br>Volatility: 0.170 <br>Returns: -30.932% <br>Sharpe Ratio: -1.819",
          "BIIB_Close <br>Volatility: 0.229 <br>Returns: -33.166% <br>Sharpe Ratio: -1.448",
          "EMR_Close <br>Volatility: 0.165 <br>Returns: -6.262% <br>Sharpe Ratio: -0.378",
          "DE_Close <br>Volatility: 0.179 <br>Returns: 36.750% <br>Sharpe Ratio: 2.053",
          "IBM_Close <br>Volatility: 0.141 <br>Returns: -54.590% <br>Sharpe Ratio: -3.879",
          "HD_Close <br>Volatility: 0.134 <br>Returns: 11.373% <br>Sharpe Ratio: 0.846",
          "RDY_Close <br>Volatility: 0.283 <br>Returns: -34.437% <br>Sharpe Ratio: -1.217",
          "JPM_Close <br>Volatility: 0.162 <br>Returns: -18.067% <br>Sharpe Ratio: -1.119",
          "MSFT_Close <br>Volatility: 0.137 <br>Returns: 34.582% <br>Sharpe Ratio: 2.530",
          "MS_Close <br>Volatility: 0.219 <br>Returns: -19.860% <br>Sharpe Ratio: -0.907",
          "GILD_Close <br>Volatility: 0.153 <br>Returns: -16.977% <br>Sharpe Ratio: -1.111",
          "T_Close <br>Volatility: 0.145 <br>Returns: -23.798% <br>Sharpe Ratio: -1.644",
          "RMD_Close <br>Volatility: 0.177 <br>Returns: -3.112% <br>Sharpe Ratio: -0.176",
          "CAT_Close <br>Volatility: 0.233 <br>Returns: 32.197% <br>Sharpe Ratio: 1.380",
          "MDT_Close <br>Volatility: 0.114 <br>Returns: 12.664% <br>Sharpe Ratio: 1.110",
          "XOM_Close <br>Volatility: 0.120 <br>Returns: -15.220% <br>Sharpe Ratio: -1.266",
          "CRM_Close <br>Volatility: 0.148 <br>Returns: 19.290% <br>Sharpe Ratio: 1.306",
          "AEP_Close <br>Volatility: 0.101 <br>Returns: 13.214% <br>Sharpe Ratio: 1.306",
          "RTX_Close <br>Volatility: 0.093 <br>Returns: 17.474% <br>Sharpe Ratio: 1.875",
          "NKE_Close <br>Volatility: 0.259 <br>Returns: -27.547% <br>Sharpe Ratio: -1.064",
          "NFLX_Close <br>Volatility: 0.320 <br>Returns: 50.627% <br>Sharpe Ratio: 1.582",
          "ZBH_Close <br>Volatility: 0.176 <br>Returns: 20.942% <br>Sharpe Ratio: 1.190",
          "ISRG_Close <br>Volatility: 0.180 <br>Returns: 55.877% <br>Sharpe Ratio: 3.112",
          "COST_Close <br>Volatility: 0.194 <br>Returns: -56.160% <br>Sharpe Ratio: -2.894",
          "KO_Close <br>Volatility: 0.076 <br>Returns: 16.554% <br>Sharpe Ratio: 2.186",
          "META_Close <br>Volatility: 0.158 <br>Returns: 42.367% <br>Sharpe Ratio: 2.676",
          "INTC_Close <br>Volatility: 0.144 <br>Returns: -8.425% <br>Sharpe Ratio: -0.584",
          "GE_Close <br>Volatility: 0.166 <br>Returns: -31.167% <br>Sharpe Ratio: -1.881",
          "GOOG_Close <br>Volatility: 0.169 <br>Returns: 35.438% <br>Sharpe Ratio: 2.092",
          "VZ_Close <br>Volatility: 0.175 <br>Returns: -25.448% <br>Sharpe Ratio: -1.458",
          "MRK_Close <br>Volatility: 0.119 <br>Returns: -13.218% <br>Sharpe Ratio: -1.109",
          "ETN_Close <br>Volatility: 0.141 <br>Returns: 24.706% <br>Sharpe Ratio: 1.755",
          "JNJ_Close <br>Volatility: 0.111 <br>Returns: 22.520% <br>Sharpe Ratio: 2.029",
          "BAC_Close <br>Volatility: 0.223 <br>Returns: -26.944% <br>Sharpe Ratio: -1.207",
          "SAP_Close <br>Volatility: 0.147 <br>Returns: 37.100% <br>Sharpe Ratio: 2.516",
          "K_Close <br>Volatility: 0.135 <br>Returns: -29.169% <br>Sharpe Ratio: -2.163",
          "LLY_Close <br>Volatility: 0.158 <br>Returns: 7.554% <br>Sharpe Ratio: 0.477",
          "DIS_Close <br>Volatility: 0.123 <br>Returns: -0.543% <br>Sharpe Ratio: -0.044",
          "GOOGL_Close <br>Volatility: 0.165 <br>Returns: 35.196% <br>Sharpe Ratio: 2.129",
          "MCD_Close <br>Volatility: 0.145 <br>Returns: 45.502% <br>Sharpe Ratio: 3.146",
          "TMO_Close <br>Volatility: 0.142 <br>Returns: 18.499% <br>Sharpe Ratio: 1.306",
          "EXC_Close <br>Volatility: 0.136 <br>Returns: -8.000% <br>Sharpe Ratio: -0.589",
          "SO_Close <br>Volatility: 0.102 <br>Returns: -6.231% <br>Sharpe Ratio: -0.610",
          "BTI_Close <br>Volatility: 0.204 <br>Returns: 32.001% <br>Sharpe Ratio: 1.565",
          "AAPL_Close <br>Volatility: 0.162 <br>Returns: 25.462% <br>Sharpe Ratio: 1.576",
          "PEP_Close <br>Volatility: 0.087 <br>Returns: 16.167% <br>Sharpe Ratio: 1.850",
          "ABT_Close <br>Volatility: 0.133 <br>Returns: -0.556% <br>Sharpe Ratio: -0.042",
          "V_Close <br>Volatility: 0.110 <br>Returns: 24.671% <br>Sharpe Ratio: 2.234",
          "BA_Close <br>Volatility: 0.198 <br>Returns: 11.691% <br>Sharpe Ratio: 0.591",
          "PM_Close <br>Volatility: 0.135 <br>Returns: 30.790% <br>Sharpe Ratio: 2.281",
          "ADBE_Close <br>Volatility: 0.155 <br>Returns: 58.725% <br>Sharpe Ratio: 3.798",
          "KR_Close <br>Volatility: 0.405 <br>Returns: -80.708% <br>Sharpe Ratio: -1.993",
          "NEE_Close <br>Volatility: 0.105 <br>Returns: 16.637% <br>Sharpe Ratio: 1.584",
          "HON_Close <br>Volatility: 0.099 <br>Returns: 14.235% <br>Sharpe Ratio: 1.445",
          "GIS_Close <br>Volatility: 0.124 <br>Returns: -29.181% <br>Sharpe Ratio: -2.352",
          "TSLA_Close <br>Volatility: 0.381 <br>Returns: 96.040% <br>Sharpe Ratio: 2.522",
          "PFE_Close <br>Volatility: 0.098 <br>Returns: -13.932% <br>Sharpe Ratio: -1.429",
          "CVX_Close <br>Volatility: 0.149 <br>Returns: -34.967% <br>Sharpe Ratio: -2.344",
          "EW_Close <br>Volatility: 0.230 <br>Returns: 47.299% <br>Sharpe Ratio: 2.055",
          "AMZN_Close <br>Volatility: 0.171 <br>Returns: 45.113% <br>Sharpe Ratio: 2.632",
          "DUK_Close <br>Volatility: 0.089 <br>Returns: 2.265% <br>Sharpe Ratio: 0.255",
          "UNH_Close <br>Volatility: 0.118 <br>Returns: 29.482% <br>Sharpe Ratio: 2.496",
          "REGN_Close <br>Volatility: 0.300 <br>Returns: 71.439% <br>Sharpe Ratio: 2.378",
          "MO_Close <br>Volatility: 0.200 <br>Returns: -9.445% <br>Sharpe Ratio: -0.472",
          "ABBV_Close <br>Volatility: 0.124 <br>Returns: 42.583% <br>Sharpe Ratio: 3.422",
          "AMGN_Close <br>Volatility: 0.183 <br>Returns: -22.800% <br>Sharpe Ratio: -1.243",
          "BSX_Close <br>Volatility: 0.134 <br>Returns: 13.570% <br>Sharpe Ratio: 1.015",
          "DHR_Close <br>Volatility: 0.126 <br>Returns: -8.871% <br>Sharpe Ratio: -0.706",
          "QCOM_Close <br>Volatility: 0.182 <br>Returns: 5.055% <br>Sharpe Ratio: 0.278",
          "TXN_Close <br>Volatility: 0.179 <br>Returns: 20.737% <br>Sharpe Ratio: 1.156",
          "CPB_Close <br>Volatility: 0.149 <br>Returns: -34.720% <br>Sharpe Ratio: -2.323",
          "CSCO_Close <br>Volatility: 0.159 <br>Returns: -22.251% <br>Sharpe Ratio: -1.395",
          "ACN_Close <br>Volatility: 0.147 <br>Returns: -5.090% <br>Sharpe Ratio: -0.347"
         ],
         "marker": {
          "color": "brown",
          "line": {
           "width": 1
          },
          "size": 5,
          "symbol": "triangle-up"
         },
         "mode": "markers",
         "name": "Individual Assets",
         "type": "scatter",
         "x": {
          "bdata": "V1h62j5d3D84uMN8ZkTHP8Ie6taxlb0/YcP5d6U/vj+HdEuGHW3VPxfpZoco3sc/rsmRbyVsuz/HlMW5aNu/P9apQSYJZeU/XTosaYrcwz8plQjGrpHGP6r8aKL0t8M/YXYADu/cyj82FdO6L/XHP13LnZu8TtE/PGj0UqM7tj/X31O3uTjmP7PB0SSotMo/KInZhuHpwj+NXP8U3ke7P2wrXjyaIN8/X1amr23DxT8S6s4x51HNP0vrimcBLsU/rf9y4HPqxj9vHZvdtgPCP35TMLN/M8E/PCm7f/0c0j/9yBo2nqzEP9ovZV2ef8E/XgcYWY0DzD/9pl05ZpHDP4YrFfVzhsI/A21ti2Gaxj/aVujUQt3NP5QHeNYTOL0/n9/CfZjJvj/oM6Ooi+jCP9cLqivJ5Lk/iNf9Jzndtz8RyQMjQ5PQP0IZeKKredQ/ik2Af1CHxj/MyV82FfvGPxzSeYzG1sg/iGXzSvJisz8UpyQxqUPEP7jFLiVUesI/XOqbPZE0xT+ADPuZ5q/FP4jkCkaDWMY/O3MXI4GAvj+kcleErAPCP4tFW7OEarw/cA5VJWaRzD8qfog1at/CP/uZ1OkbQsE/PeulP2xHxD8idPWyGJO/P1x1tH7BKcU/kRSIyeaCwj+6FJB7ECLCPyEYGKCfZcE/sQvo2zYouj+SPowXAy3KP1rYGUiDrsQ/hkgzBgJetj+47YiobvvAP5KNluQORLw/ijdmZK5NyT/KOOSKUUfBP65aDWPlysM/gNNejJbr2T+na7x1qOG6P4A8cUnvN7k/Qp2r4lvDvz/4x0RfQV7YP8wSCYkr9rg/jBZEJq8Xwz/5Y8rYVHfNP6L+o68A8cU/ES/x993Ctj+SdNWSsju+P7RqjnY1OdM/NIXS4zybyT+BfwDZ4tu/P+yAenJ4ecc/ee00hGUbwT8i+MmSzBPAPybF9ahPP8c/PRhcTUH3xj+MtZDZOiHDP1OdBMjVaMQ/vL3vUE7Iwj8=",
          "dtype": "f8"
         },
         "y": {
          "bdata": "UqQ49itQ8T/xt9PrNxO2vzlfCWpQMMk/4teyca6uyz86T+Hi3SXVv8rwdndM4d2/nFXiiSVwwD8l9OKRWlzSP66fmzGllPO/sBLlKO6msb8Zl0g9udDTv3pCYxwRJcM/tsUlDnGI4z/fB/xgghTWP/d6MGC3QOo/aiTd/M23uL/wt4Y4uZbiv8UIaSqW292/QhczQJ6KzT8+2Qwqh9HHP4FMrHZiwvQ/esCi0u/L078dx5B62TnVv2l3BCkrCLC/s6yMOSiF1z/lLZId+3fhv0ibbS9cHb0/SHnsHzQK1r9O9djJIyDHv4W5l+r8IdY/AHt1T5Nryb8fmd6w9brFvyhaMscNds6/uzFw1+Den7+G72tnJ5vUP5a+ddqvNcA/VKOn6jx7w78qe3fA17DIP/YSoAED6sA/K4GlCvRdxj+OJ57vO6HRv0QbnV9eM+A/tA5eQzHOyj/RvX6BaOHhP3/TcR+g+OG/TnzWyUcwxT+E0U88YB3bP3aaGxxRkbW/qWKGF1zy0796YwTGOq7WPwt4BJpxSdC/4IWwCj3rwL+WY33SxJ/PP0Bu2txe08w/oaQ3SoE+0b+xKmscZL7XP6eXzHkZq9K/RLy8AFlWsz8hHCK72D92vybhBTCWhtY/TMOGIA4f3T8U2y+FtK3HP8wFjYmperS/vPCHlDTnr78JAZ7vBnvUPy9hSGqrS9A/WW2aJ4qxxD89yooE78l2v28+oy8plM8/rl0kIdLtvT/g137AtbTTPwKmijG/yuI/flxuK53T6b+L35+1jkvFP/PZ1hWTOMI/NDofnf+s0r9CfJBhjrvuPxHFUZVU1cG/RwVifA5h1r8uXmZzgkXeP/z6XpNG39w/GSlfHWUwlz/KrS2ET97SP36j81JA3OY/GCdAdrstuL8wb2a+t0DbP3WatU4gL82/KcDRSJxewT8XyO/TobW2v3tWFrhk4ak/cg+BezSLyj/Wigp/iTjWv8jpXX0me8y/BcCsuREQqr8=",
          "dtype": "f8"
         }
        }
       ],
       "layout": {
        "legend": {
         "y": 5
        },
        "template": {
         "data": {
          "bar": [
           {
            "error_x": {
             "color": "#2a3f5f"
            },
            "error_y": {
             "color": "#2a3f5f"
            },
            "marker": {
             "line": {
              "color": "#E5ECF6",
              "width": 0.5
             },
             "pattern": {
              "fillmode": "overlay",
              "size": 10,
              "solidity": 0.2
             }
            },
            "type": "bar"
           }
          ],
          "barpolar": [
           {
            "marker": {
             "line": {
              "color": "#E5ECF6",
              "width": 0.5
             },
             "pattern": {
              "fillmode": "overlay",
              "size": 10,
              "solidity": 0.2
             }
            },
            "type": "barpolar"
           }
          ],
          "carpet": [
           {
            "aaxis": {
             "endlinecolor": "#2a3f5f",
             "gridcolor": "white",
             "linecolor": "white",
             "minorgridcolor": "white",
             "startlinecolor": "#2a3f5f"
            },
            "baxis": {
             "endlinecolor": "#2a3f5f",
             "gridcolor": "white",
             "linecolor": "white",
             "minorgridcolor": "white",
             "startlinecolor": "#2a3f5f"
            },
            "type": "carpet"
           }
          ],
          "choropleth": [
           {
            "colorbar": {
             "outlinewidth": 0,
             "ticks": ""
            },
            "type": "choropleth"
           }
          ],
          "contour": [
           {
            "colorbar": {
             "outlinewidth": 0,
             "ticks": ""
            },
            "colorscale": [
             [
              0,
              "#0d0887"
             ],
             [
              0.1111111111111111,
              "#46039f"
             ],
             [
              0.2222222222222222,
              "#7201a8"
             ],
             [
              0.3333333333333333,
              "#9c179e"
             ],
             [
              0.4444444444444444,
              "#bd3786"
             ],
             [
              0.5555555555555556,
              "#d8576b"
             ],
             [
              0.6666666666666666,
              "#ed7953"
             ],
             [
              0.7777777777777778,
              "#fb9f3a"
             ],
             [
              0.8888888888888888,
              "#fdca26"
             ],
             [
              1,
              "#f0f921"
             ]
            ],
            "type": "contour"
           }
          ],
          "contourcarpet": [
           {
            "colorbar": {
             "outlinewidth": 0,
             "ticks": ""
            },
            "type": "contourcarpet"
           }
          ],
          "heatmap": [
           {
            "colorbar": {
             "outlinewidth": 0,
             "ticks": ""
            },
            "colorscale": [
             [
              0,
              "#0d0887"
             ],
             [
              0.1111111111111111,
              "#46039f"
             ],
             [
              0.2222222222222222,
              "#7201a8"
             ],
             [
              0.3333333333333333,
              "#9c179e"
             ],
             [
              0.4444444444444444,
              "#bd3786"
             ],
             [
              0.5555555555555556,
              "#d8576b"
             ],
             [
              0.6666666666666666,
              "#ed7953"
             ],
             [
              0.7777777777777778,
              "#fb9f3a"
             ],
             [
              0.8888888888888888,
              "#fdca26"
             ],
             [
              1,
              "#f0f921"
             ]
            ],
            "type": "heatmap"
           }
          ],
          "histogram": [
           {
            "marker": {
             "pattern": {
              "fillmode": "overlay",
              "size": 10,
              "solidity": 0.2
             }
            },
            "type": "histogram"
           }
          ],
          "histogram2d": [
           {
            "colorbar": {
             "outlinewidth": 0,
             "ticks": ""
            },
            "colorscale": [
             [
              0,
              "#0d0887"
             ],
             [
              0.1111111111111111,
              "#46039f"
             ],
             [
              0.2222222222222222,
              "#7201a8"
             ],
             [
              0.3333333333333333,
              "#9c179e"
             ],
             [
              0.4444444444444444,
              "#bd3786"
             ],
             [
              0.5555555555555556,
              "#d8576b"
             ],
             [
              0.6666666666666666,
              "#ed7953"
             ],
             [
              0.7777777777777778,
              "#fb9f3a"
             ],
             [
              0.8888888888888888,
              "#fdca26"
             ],
             [
              1,
              "#f0f921"
             ]
            ],
            "type": "histogram2d"
           }
          ],
          "histogram2dcontour": [
           {
            "colorbar": {
             "outlinewidth": 0,
             "ticks": ""
            },
            "colorscale": [
             [
              0,
              "#0d0887"
             ],
             [
              0.1111111111111111,
              "#46039f"
             ],
             [
              0.2222222222222222,
              "#7201a8"
             ],
             [
              0.3333333333333333,
              "#9c179e"
             ],
             [
              0.4444444444444444,
              "#bd3786"
             ],
             [
              0.5555555555555556,
              "#d8576b"
             ],
             [
              0.6666666666666666,
              "#ed7953"
             ],
             [
              0.7777777777777778,
              "#fb9f3a"
             ],
             [
              0.8888888888888888,
              "#fdca26"
             ],
             [
              1,
              "#f0f921"
             ]
            ],
            "type": "histogram2dcontour"
           }
          ],
          "mesh3d": [
           {
            "colorbar": {
             "outlinewidth": 0,
             "ticks": ""
            },
            "type": "mesh3d"
           }
          ],
          "parcoords": [
           {
            "line": {
             "colorbar": {
              "outlinewidth": 0,
              "ticks": ""
             }
            },
            "type": "parcoords"
           }
          ],
          "pie": [
           {
            "automargin": true,
            "type": "pie"
           }
          ],
          "scatter": [
           {
            "fillpattern": {
             "fillmode": "overlay",
             "size": 10,
             "solidity": 0.2
            },
            "type": "scatter"
           }
          ],
          "scatter3d": [
           {
            "line": {
             "colorbar": {
              "outlinewidth": 0,
              "ticks": ""
             }
            },
            "marker": {
             "colorbar": {
              "outlinewidth": 0,
              "ticks": ""
             }
            },
            "type": "scatter3d"
           }
          ],
          "scattercarpet": [
           {
            "marker": {
             "colorbar": {
              "outlinewidth": 0,
              "ticks": ""
             }
            },
            "type": "scattercarpet"
           }
          ],
          "scattergeo": [
           {
            "marker": {
             "colorbar": {
              "outlinewidth": 0,
              "ticks": ""
             }
            },
            "type": "scattergeo"
           }
          ],
          "scattergl": [
           {
            "marker": {
             "colorbar": {
              "outlinewidth": 0,
              "ticks": ""
             }
            },
            "type": "scattergl"
           }
          ],
          "scattermap": [
           {
            "marker": {
             "colorbar": {
              "outlinewidth": 0,
              "ticks": ""
             }
            },
            "type": "scattermap"
           }
          ],
          "scattermapbox": [
           {
            "marker": {
             "colorbar": {
              "outlinewidth": 0,
              "ticks": ""
             }
            },
            "type": "scattermapbox"
           }
          ],
          "scatterpolar": [
           {
            "marker": {
             "colorbar": {
              "outlinewidth": 0,
              "ticks": ""
             }
            },
            "type": "scatterpolar"
           }
          ],
          "scatterpolargl": [
           {
            "marker": {
             "colorbar": {
              "outlinewidth": 0,
              "ticks": ""
             }
            },
            "type": "scatterpolargl"
           }
          ],
          "scatterternary": [
           {
            "marker": {
             "colorbar": {
              "outlinewidth": 0,
              "ticks": ""
             }
            },
            "type": "scatterternary"
           }
          ],
          "surface": [
           {
            "colorbar": {
             "outlinewidth": 0,
             "ticks": ""
            },
            "colorscale": [
             [
              0,
              "#0d0887"
             ],
             [
              0.1111111111111111,
              "#46039f"
             ],
             [
              0.2222222222222222,
              "#7201a8"
             ],
             [
              0.3333333333333333,
              "#9c179e"
             ],
             [
              0.4444444444444444,
              "#bd3786"
             ],
             [
              0.5555555555555556,
              "#d8576b"
             ],
             [
              0.6666666666666666,
              "#ed7953"
             ],
             [
              0.7777777777777778,
              "#fb9f3a"
             ],
             [
              0.8888888888888888,
              "#fdca26"
             ],
             [
              1,
              "#f0f921"
             ]
            ],
            "type": "surface"
           }
          ],
          "table": [
           {
            "cells": {
             "fill": {
              "color": "#EBF0F8"
             },
             "line": {
              "color": "white"
             }
            },
            "header": {
             "fill": {
              "color": "#C8D4E3"
             },
             "line": {
              "color": "white"
             }
            },
            "type": "table"
           }
          ]
         },
         "layout": {
          "annotationdefaults": {
           "arrowcolor": "#2a3f5f",
           "arrowhead": 0,
           "arrowwidth": 1
          },
          "autotypenumbers": "strict",
          "coloraxis": {
           "colorbar": {
            "outlinewidth": 0,
            "ticks": ""
           }
          },
          "colorscale": {
           "diverging": [
            [
             0,
             "#8e0152"
            ],
            [
             0.1,
             "#c51b7d"
            ],
            [
             0.2,
             "#de77ae"
            ],
            [
             0.3,
             "#f1b6da"
            ],
            [
             0.4,
             "#fde0ef"
            ],
            [
             0.5,
             "#f7f7f7"
            ],
            [
             0.6,
             "#e6f5d0"
            ],
            [
             0.7,
             "#b8e186"
            ],
            [
             0.8,
             "#7fbc41"
            ],
            [
             0.9,
             "#4d9221"
            ],
            [
             1,
             "#276419"
            ]
           ],
           "sequential": [
            [
             0,
             "#0d0887"
            ],
            [
             0.1111111111111111,
             "#46039f"
            ],
            [
             0.2222222222222222,
             "#7201a8"
            ],
            [
             0.3333333333333333,
             "#9c179e"
            ],
            [
             0.4444444444444444,
             "#bd3786"
            ],
            [
             0.5555555555555556,
             "#d8576b"
            ],
            [
             0.6666666666666666,
             "#ed7953"
            ],
            [
             0.7777777777777778,
             "#fb9f3a"
            ],
            [
             0.8888888888888888,
             "#fdca26"
            ],
            [
             1,
             "#f0f921"
            ]
           ],
           "sequentialminus": [
            [
             0,
             "#0d0887"
            ],
            [
             0.1111111111111111,
             "#46039f"
            ],
            [
             0.2222222222222222,
             "#7201a8"
            ],
            [
             0.3333333333333333,
             "#9c179e"
            ],
            [
             0.4444444444444444,
             "#bd3786"
            ],
            [
             0.5555555555555556,
             "#d8576b"
            ],
            [
             0.6666666666666666,
             "#ed7953"
            ],
            [
             0.7777777777777778,
             "#fb9f3a"
            ],
            [
             0.8888888888888888,
             "#fdca26"
            ],
            [
             1,
             "#f0f921"
            ]
           ]
          },
          "colorway": [
           "#636efa",
           "#EF553B",
           "#00cc96",
           "#ab63fa",
           "#FFA15A",
           "#19d3f3",
           "#FF6692",
           "#B6E880",
           "#FF97FF",
           "#FECB52"
          ],
          "font": {
           "color": "#2a3f5f"
          },
          "geo": {
           "bgcolor": "white",
           "lakecolor": "white",
           "landcolor": "#E5ECF6",
           "showlakes": true,
           "showland": true,
           "subunitcolor": "white"
          },
          "hoverlabel": {
           "align": "left"
          },
          "hovermode": "closest",
          "mapbox": {
           "style": "light"
          },
          "paper_bgcolor": "white",
          "plot_bgcolor": "#E5ECF6",
          "polar": {
           "angularaxis": {
            "gridcolor": "white",
            "linecolor": "white",
            "ticks": ""
           },
           "bgcolor": "#E5ECF6",
           "radialaxis": {
            "gridcolor": "white",
            "linecolor": "white",
            "ticks": ""
           }
          },
          "scene": {
           "xaxis": {
            "backgroundcolor": "#E5ECF6",
            "gridcolor": "white",
            "gridwidth": 2,
            "linecolor": "white",
            "showbackground": true,
            "ticks": "",
            "zerolinecolor": "white"
           },
           "yaxis": {
            "backgroundcolor": "#E5ECF6",
            "gridcolor": "white",
            "gridwidth": 2,
            "linecolor": "white",
            "showbackground": true,
            "ticks": "",
            "zerolinecolor": "white"
           },
           "zaxis": {
            "backgroundcolor": "#E5ECF6",
            "gridcolor": "white",
            "gridwidth": 2,
            "linecolor": "white",
            "showbackground": true,
            "ticks": "",
            "zerolinecolor": "white"
           }
          },
          "shapedefaults": {
           "line": {
            "color": "#2a3f5f"
           }
          },
          "ternary": {
           "aaxis": {
            "gridcolor": "white",
            "linecolor": "white",
            "ticks": ""
           },
           "baxis": {
            "gridcolor": "white",
            "linecolor": "white",
            "ticks": ""
           },
           "bgcolor": "#E5ECF6",
           "caxis": {
            "gridcolor": "white",
            "linecolor": "white",
            "ticks": ""
           }
          },
          "title": {
           "x": 0.05
          },
          "xaxis": {
           "automargin": true,
           "gridcolor": "white",
           "linecolor": "white",
           "ticks": "",
           "title": {
            "standoff": 15
           },
           "zerolinecolor": "white",
           "zerolinewidth": 2
          },
          "yaxis": {
           "automargin": true,
           "gridcolor": "white",
           "linecolor": "white",
           "ticks": "",
           "title": {
            "standoff": 15
           },
           "zerolinecolor": "white",
           "zerolinewidth": 2
          }
         }
        },
        "title": {
         "text": "Sample of Random Portfolios"
        },
        "xaxis": {
         "title": {
          "text": "Volatility (Standard Deviation)"
         }
        },
        "yaxis": {
         "title": {
          "text": "Annualized Return"
         }
        }
       }
      }
     },
     "metadata": {},
     "output_type": "display_data"
    }
   ],
   "source": [
    "fig = go.Figure()\n",
    "\n",
    "fig.add_trace(go.Scatter(\n",
    "    x=[p[\"variance\"]**0.5 for p in total_portfolios],  # Convert variance to volatility\n",
    "    y=[p[\"return\"] for p in total_portfolios],\n",
    "    mode='markers',\n",
    "    marker=dict(\n",
    "        color=[p[\"sharpe\"] for p in total_portfolios],  # Sharpe Ratio\n",
    "        showscale=True,\n",
    "        size=7,\n",
    "        line=dict(width=1),\n",
    "        colorscale=\"RdBu\",\n",
    "        colorbar=dict(title=\"Sharpe<br>Ratio\")\n",
    "    ),\n",
    "    hoverinfo='text',\n",
    "    text=[\n",
    "        f\"Return: {p['return']:.3%}<br>Volatility: {p['variance']**0.5:.3f}<br>\" +\n",
    "        f\"Sharpe Ratio: {p['return'] / (p['variance']**0.5):.3f}<br>\" +\n",
    "        \"<br>\".join([f\"{p['tickers'][i]}: Weight={p['weights'][i]:.3f}\" for i in range(len(p['tickers']))])\n",
    "        for p in total_portfolios\n",
    "    ],\n",
    "    name=\"Portfolios\"\n",
    "))\n",
    "\n",
    "fig.add_trace(go.Scatter(\n",
    "    x=volatility,\n",
    "    y=annualized_returns,\n",
    "    mode='markers',\n",
    "    hoverinfo='text',\n",
    "    hovertext=[\n",
    "        f\"{name} <br>Volatility: {vol:.3f} <br>Returns: {ret:.3%} <br>Sharpe Ratio: {sr:.3f}\"\n",
    "        for name, vol, ret, sr in zip(names, volatility, annualized_returns, sharpe_ratios)\n",
    "    ],\n",
    "    marker=dict(\n",
    "        color='brown',\n",
    "        size=5,\n",
    "        symbol='triangle-up',  # Sets the marker shape to a triangle\n",
    "        line=dict(width=1)\n",
    "    ),\n",
    "    name=\"Individual Assets\"\n",
    "))\n",
    "\n",
    "fig.update_layout(\n",
    "    title='Sample of Random Portfolios',\n",
    "    xaxis_title='Volatility (Standard Deviation)',\n",
    "    yaxis_title='Annualized Return',\n",
    "    legend=dict(y=5\n",
    "    )\n",
    ")\n",
    "\n",
    "\n",
    "fig.show()"
   ]
  },
  {
   "cell_type": "code",
   "execution_count": 101,
   "metadata": {
    "colab": {
     "base_uri": "https://localhost:8080/",
     "height": 542
    },
    "id": "fcrLEvL3abDW",
    "outputId": "7123cd39-a752-4640-be20-6fe3fcbc6c17"
   },
   "outputs": [
    {
     "data": {
      "application/vnd.plotly.v1+json": {
       "config": {
        "plotlyServerURL": "https://plot.ly"
       },
       "data": [
        {
         "mode": "lines+markers",
         "type": "scatter",
         "x": [
          0,
          1,
          2,
          3,
          4,
          5,
          6,
          7,
          8,
          9,
          10,
          11,
          12,
          13,
          14,
          15,
          16,
          17,
          18,
          19,
          20,
          21,
          22,
          23,
          24,
          25,
          26,
          27,
          28,
          29,
          30,
          31,
          32,
          33,
          34,
          35,
          36,
          37,
          38,
          39,
          40,
          41,
          42,
          43,
          44,
          45,
          46,
          47,
          48,
          49,
          50,
          51,
          52,
          53,
          54,
          55,
          56,
          57,
          58,
          59,
          60,
          61,
          62,
          63,
          64,
          65,
          66,
          67,
          68,
          69,
          70,
          71,
          72,
          73,
          74,
          75,
          76,
          77,
          78,
          79,
          80,
          81,
          82,
          83,
          84,
          85,
          86,
          87,
          88,
          89,
          90,
          91,
          92,
          93,
          94,
          95,
          96,
          97,
          98,
          99,
          100,
          101,
          102,
          103,
          104,
          105,
          106,
          107,
          108,
          109,
          110,
          111,
          112,
          113,
          114,
          115,
          116,
          117,
          118,
          119,
          120,
          121,
          122,
          123,
          124,
          125,
          126,
          127,
          128,
          129,
          130,
          131,
          132,
          133,
          134,
          135,
          136,
          137,
          138,
          139,
          140,
          141,
          142,
          143,
          144,
          145,
          146,
          147,
          148,
          149,
          150,
          151,
          152,
          153,
          154,
          155,
          156,
          157,
          158,
          159,
          160,
          161,
          162,
          163,
          164,
          165,
          166,
          167,
          168,
          169,
          170,
          171,
          172,
          173,
          174,
          175,
          176,
          177,
          178,
          179,
          180,
          181,
          182,
          183,
          184,
          185,
          186,
          187,
          188,
          189,
          190,
          191,
          192,
          193,
          194,
          195,
          196,
          197,
          198,
          199,
          200,
          201,
          202,
          203,
          204,
          205,
          206,
          207,
          208,
          209
         ],
         "y": [
          3.537323532704279,
          3.835810883646643,
          4.375675548853683,
          4.375675461009785,
          4.375675583275253,
          4.375675461009785,
          4.375675583275253,
          4.734220496954511,
          4.734220496954868,
          4.734220496954868,
          4.676722835298685,
          4.676722834116339,
          4.676722754231073,
          4.940589065747001,
          4.967570421458347,
          4.967570421458347,
          4.940589262898067,
          4.940589454196844,
          4.940589207455154,
          4.940589301557346,
          4.992773558575624,
          4.967570421458347,
          4.940589262898067,
          4.940589454196844,
          4.940589207455154,
          4.940589301557346,
          4.992773558575624,
          4.940589429086735,
          4.945095564587363,
          4.940589233054059,
          5.193920572293805,
          4.999311759909019,
          4.978786605812321,
          4.978786496161518,
          4.978786719116944,
          4.978786727174555,
          5.193920572293814,
          4.999311759909019,
          4.978786605812321,
          4.978786496161518,
          4.978786719116944,
          4.978786727174555,
          5.193920572293814,
          4.978786806166154,
          4.9787867822505625,
          4.978786822701831,
          5.031687922980224,
          4.978786796523747,
          4.9787868091937675,
          4.978786685339132,
          4.978786842430897,
          4.978786794676923,
          5.011508757910335,
          5.157086524439133,
          4.978786834143527,
          4.978786769377259,
          4.978786829781608,
          4.978786723655703,
          4.978786797133022,
          4.978786479973723,
          4.978786823164946,
          4.9863007454353925,
          4.978786843365193,
          4.97878674797715,
          5.367664750807915,
          5.2525916283777985,
          5.367664750803879,
          5.247175844544854,
          5.2471758514937505,
          5.247175753021702,
          5.247175748639901,
          5.247175729996175,
          5.464406774093926,
          5.2525916283777985,
          5.367664750803879,
          5.247175844544854,
          5.2471758514937505,
          5.247175753021702,
          5.247175748639901,
          5.247175729996175,
          5.464406774093926,
          5.247175754869072,
          5.247175786229238,
          5.282454623968345,
          5.247175806638047,
          5.247175691893129,
          5.247175840762122,
          5.297290388072603,
          5.247175783276011,
          5.247175751411635,
          5.247175850765165,
          5.247175779225005,
          5.314211831317173,
          5.2471757452725205,
          5.247175851680653,
          5.247175736417583,
          5.247175479302278,
          5.247175846996189,
          5.24717585303538,
          5.24717562991641,
          5.249924564971031,
          5.247175852410399,
          5.247175837433934,
          5.247175837467085,
          5.247175619773744,
          5.2471758424397725,
          5.2471758020738495,
          5.253165819246001,
          5.247175800753892,
          5.247175728522198,
          5.247175757436221,
          5.247175843717963,
          5.247175846543491,
          5.629871015355964,
          5.352196601923324,
          5.582929385220722,
          5.288596930401566,
          5.288596924638844,
          5.288596799084408,
          5.288596793886189,
          5.288596937618156,
          5.288596941883389,
          5.705762345343901,
          5.67036189756665,
          5.892634493627358,
          5.564146965821598,
          5.56060346923998,
          5.560603453392391,
          5.5965622055188735,
          5.560603262728889,
          5.5606035201994795,
          5.560603305471421,
          5.560603299723634,
          5.560603373227322,
          5.714216345347336,
          5.560603538168365,
          5.560603540684767,
          5.560603533753376,
          5.674824987506133,
          5.560603318577229,
          5.560603508836253,
          5.638093796244933,
          5.5606031571108145,
          5.560603168954818,
          5.560603471902063,
          5.560603268884675,
          5.560789859962942,
          5.56060335118125,
          5.892634493626226,
          5.560603249555618,
          5.560603416472,
          5.560603357246402,
          5.560603498683324,
          5.580117844411078,
          5.56060338033012,
          5.560603505594754,
          5.560603518655133,
          5.569528734688369,
          5.560603373512505,
          5.560603317761508,
          5.571601808539091,
          5.560603485771997,
          5.560603481142887,
          5.560603391800754,
          5.560603540560823,
          5.560603516980269,
          5.560603412296532,
          5.560603334787215,
          5.666129826850044,
          5.560603326869882,
          5.560603265672302,
          5.5606035138598795,
          5.5606033786293105,
          5.560603486338354,
          5.67149410375974,
          5.560603457647574,
          5.560603519212782,
          5.599818908344486,
          5.560603418580455,
          5.741034318502987,
          5.560603460326032,
          5.560603521137418,
          5.584045456101784,
          5.560603428632676,
          5.560603376691733,
          5.560603446208298,
          5.560603230598321,
          5.560603511405227,
          5.56060348715302,
          5.560603207749123,
          5.560603525508523,
          5.69727289804719,
          5.560603435804726,
          5.560603510612562,
          5.873660546547376,
          5.593438039589565,
          5.560603520796473,
          5.5606034598603475,
          5.560603435539181,
          5.560603505917066,
          5.560603302705861,
          5.560603531426832,
          5.751078605657539,
          5.815667320217051,
          5.560603403828088,
          5.560603324424195,
          5.56060351923028,
          5.75342774858917,
          5.57940925482357,
          5.560603540310297
         ]
        }
       ],
       "layout": {
        "template": {
         "data": {
          "bar": [
           {
            "error_x": {
             "color": "#2a3f5f"
            },
            "error_y": {
             "color": "#2a3f5f"
            },
            "marker": {
             "line": {
              "color": "#E5ECF6",
              "width": 0.5
             },
             "pattern": {
              "fillmode": "overlay",
              "size": 10,
              "solidity": 0.2
             }
            },
            "type": "bar"
           }
          ],
          "barpolar": [
           {
            "marker": {
             "line": {
              "color": "#E5ECF6",
              "width": 0.5
             },
             "pattern": {
              "fillmode": "overlay",
              "size": 10,
              "solidity": 0.2
             }
            },
            "type": "barpolar"
           }
          ],
          "carpet": [
           {
            "aaxis": {
             "endlinecolor": "#2a3f5f",
             "gridcolor": "white",
             "linecolor": "white",
             "minorgridcolor": "white",
             "startlinecolor": "#2a3f5f"
            },
            "baxis": {
             "endlinecolor": "#2a3f5f",
             "gridcolor": "white",
             "linecolor": "white",
             "minorgridcolor": "white",
             "startlinecolor": "#2a3f5f"
            },
            "type": "carpet"
           }
          ],
          "choropleth": [
           {
            "colorbar": {
             "outlinewidth": 0,
             "ticks": ""
            },
            "type": "choropleth"
           }
          ],
          "contour": [
           {
            "colorbar": {
             "outlinewidth": 0,
             "ticks": ""
            },
            "colorscale": [
             [
              0,
              "#0d0887"
             ],
             [
              0.1111111111111111,
              "#46039f"
             ],
             [
              0.2222222222222222,
              "#7201a8"
             ],
             [
              0.3333333333333333,
              "#9c179e"
             ],
             [
              0.4444444444444444,
              "#bd3786"
             ],
             [
              0.5555555555555556,
              "#d8576b"
             ],
             [
              0.6666666666666666,
              "#ed7953"
             ],
             [
              0.7777777777777778,
              "#fb9f3a"
             ],
             [
              0.8888888888888888,
              "#fdca26"
             ],
             [
              1,
              "#f0f921"
             ]
            ],
            "type": "contour"
           }
          ],
          "contourcarpet": [
           {
            "colorbar": {
             "outlinewidth": 0,
             "ticks": ""
            },
            "type": "contourcarpet"
           }
          ],
          "heatmap": [
           {
            "colorbar": {
             "outlinewidth": 0,
             "ticks": ""
            },
            "colorscale": [
             [
              0,
              "#0d0887"
             ],
             [
              0.1111111111111111,
              "#46039f"
             ],
             [
              0.2222222222222222,
              "#7201a8"
             ],
             [
              0.3333333333333333,
              "#9c179e"
             ],
             [
              0.4444444444444444,
              "#bd3786"
             ],
             [
              0.5555555555555556,
              "#d8576b"
             ],
             [
              0.6666666666666666,
              "#ed7953"
             ],
             [
              0.7777777777777778,
              "#fb9f3a"
             ],
             [
              0.8888888888888888,
              "#fdca26"
             ],
             [
              1,
              "#f0f921"
             ]
            ],
            "type": "heatmap"
           }
          ],
          "histogram": [
           {
            "marker": {
             "pattern": {
              "fillmode": "overlay",
              "size": 10,
              "solidity": 0.2
             }
            },
            "type": "histogram"
           }
          ],
          "histogram2d": [
           {
            "colorbar": {
             "outlinewidth": 0,
             "ticks": ""
            },
            "colorscale": [
             [
              0,
              "#0d0887"
             ],
             [
              0.1111111111111111,
              "#46039f"
             ],
             [
              0.2222222222222222,
              "#7201a8"
             ],
             [
              0.3333333333333333,
              "#9c179e"
             ],
             [
              0.4444444444444444,
              "#bd3786"
             ],
             [
              0.5555555555555556,
              "#d8576b"
             ],
             [
              0.6666666666666666,
              "#ed7953"
             ],
             [
              0.7777777777777778,
              "#fb9f3a"
             ],
             [
              0.8888888888888888,
              "#fdca26"
             ],
             [
              1,
              "#f0f921"
             ]
            ],
            "type": "histogram2d"
           }
          ],
          "histogram2dcontour": [
           {
            "colorbar": {
             "outlinewidth": 0,
             "ticks": ""
            },
            "colorscale": [
             [
              0,
              "#0d0887"
             ],
             [
              0.1111111111111111,
              "#46039f"
             ],
             [
              0.2222222222222222,
              "#7201a8"
             ],
             [
              0.3333333333333333,
              "#9c179e"
             ],
             [
              0.4444444444444444,
              "#bd3786"
             ],
             [
              0.5555555555555556,
              "#d8576b"
             ],
             [
              0.6666666666666666,
              "#ed7953"
             ],
             [
              0.7777777777777778,
              "#fb9f3a"
             ],
             [
              0.8888888888888888,
              "#fdca26"
             ],
             [
              1,
              "#f0f921"
             ]
            ],
            "type": "histogram2dcontour"
           }
          ],
          "mesh3d": [
           {
            "colorbar": {
             "outlinewidth": 0,
             "ticks": ""
            },
            "type": "mesh3d"
           }
          ],
          "parcoords": [
           {
            "line": {
             "colorbar": {
              "outlinewidth": 0,
              "ticks": ""
             }
            },
            "type": "parcoords"
           }
          ],
          "pie": [
           {
            "automargin": true,
            "type": "pie"
           }
          ],
          "scatter": [
           {
            "fillpattern": {
             "fillmode": "overlay",
             "size": 10,
             "solidity": 0.2
            },
            "type": "scatter"
           }
          ],
          "scatter3d": [
           {
            "line": {
             "colorbar": {
              "outlinewidth": 0,
              "ticks": ""
             }
            },
            "marker": {
             "colorbar": {
              "outlinewidth": 0,
              "ticks": ""
             }
            },
            "type": "scatter3d"
           }
          ],
          "scattercarpet": [
           {
            "marker": {
             "colorbar": {
              "outlinewidth": 0,
              "ticks": ""
             }
            },
            "type": "scattercarpet"
           }
          ],
          "scattergeo": [
           {
            "marker": {
             "colorbar": {
              "outlinewidth": 0,
              "ticks": ""
             }
            },
            "type": "scattergeo"
           }
          ],
          "scattergl": [
           {
            "marker": {
             "colorbar": {
              "outlinewidth": 0,
              "ticks": ""
             }
            },
            "type": "scattergl"
           }
          ],
          "scattermap": [
           {
            "marker": {
             "colorbar": {
              "outlinewidth": 0,
              "ticks": ""
             }
            },
            "type": "scattermap"
           }
          ],
          "scattermapbox": [
           {
            "marker": {
             "colorbar": {
              "outlinewidth": 0,
              "ticks": ""
             }
            },
            "type": "scattermapbox"
           }
          ],
          "scatterpolar": [
           {
            "marker": {
             "colorbar": {
              "outlinewidth": 0,
              "ticks": ""
             }
            },
            "type": "scatterpolar"
           }
          ],
          "scatterpolargl": [
           {
            "marker": {
             "colorbar": {
              "outlinewidth": 0,
              "ticks": ""
             }
            },
            "type": "scatterpolargl"
           }
          ],
          "scatterternary": [
           {
            "marker": {
             "colorbar": {
              "outlinewidth": 0,
              "ticks": ""
             }
            },
            "type": "scatterternary"
           }
          ],
          "surface": [
           {
            "colorbar": {
             "outlinewidth": 0,
             "ticks": ""
            },
            "colorscale": [
             [
              0,
              "#0d0887"
             ],
             [
              0.1111111111111111,
              "#46039f"
             ],
             [
              0.2222222222222222,
              "#7201a8"
             ],
             [
              0.3333333333333333,
              "#9c179e"
             ],
             [
              0.4444444444444444,
              "#bd3786"
             ],
             [
              0.5555555555555556,
              "#d8576b"
             ],
             [
              0.6666666666666666,
              "#ed7953"
             ],
             [
              0.7777777777777778,
              "#fb9f3a"
             ],
             [
              0.8888888888888888,
              "#fdca26"
             ],
             [
              1,
              "#f0f921"
             ]
            ],
            "type": "surface"
           }
          ],
          "table": [
           {
            "cells": {
             "fill": {
              "color": "#EBF0F8"
             },
             "line": {
              "color": "white"
             }
            },
            "header": {
             "fill": {
              "color": "#C8D4E3"
             },
             "line": {
              "color": "white"
             }
            },
            "type": "table"
           }
          ]
         },
         "layout": {
          "annotationdefaults": {
           "arrowcolor": "#2a3f5f",
           "arrowhead": 0,
           "arrowwidth": 1
          },
          "autotypenumbers": "strict",
          "coloraxis": {
           "colorbar": {
            "outlinewidth": 0,
            "ticks": ""
           }
          },
          "colorscale": {
           "diverging": [
            [
             0,
             "#8e0152"
            ],
            [
             0.1,
             "#c51b7d"
            ],
            [
             0.2,
             "#de77ae"
            ],
            [
             0.3,
             "#f1b6da"
            ],
            [
             0.4,
             "#fde0ef"
            ],
            [
             0.5,
             "#f7f7f7"
            ],
            [
             0.6,
             "#e6f5d0"
            ],
            [
             0.7,
             "#b8e186"
            ],
            [
             0.8,
             "#7fbc41"
            ],
            [
             0.9,
             "#4d9221"
            ],
            [
             1,
             "#276419"
            ]
           ],
           "sequential": [
            [
             0,
             "#0d0887"
            ],
            [
             0.1111111111111111,
             "#46039f"
            ],
            [
             0.2222222222222222,
             "#7201a8"
            ],
            [
             0.3333333333333333,
             "#9c179e"
            ],
            [
             0.4444444444444444,
             "#bd3786"
            ],
            [
             0.5555555555555556,
             "#d8576b"
            ],
            [
             0.6666666666666666,
             "#ed7953"
            ],
            [
             0.7777777777777778,
             "#fb9f3a"
            ],
            [
             0.8888888888888888,
             "#fdca26"
            ],
            [
             1,
             "#f0f921"
            ]
           ],
           "sequentialminus": [
            [
             0,
             "#0d0887"
            ],
            [
             0.1111111111111111,
             "#46039f"
            ],
            [
             0.2222222222222222,
             "#7201a8"
            ],
            [
             0.3333333333333333,
             "#9c179e"
            ],
            [
             0.4444444444444444,
             "#bd3786"
            ],
            [
             0.5555555555555556,
             "#d8576b"
            ],
            [
             0.6666666666666666,
             "#ed7953"
            ],
            [
             0.7777777777777778,
             "#fb9f3a"
            ],
            [
             0.8888888888888888,
             "#fdca26"
            ],
            [
             1,
             "#f0f921"
            ]
           ]
          },
          "colorway": [
           "#636efa",
           "#EF553B",
           "#00cc96",
           "#ab63fa",
           "#FFA15A",
           "#19d3f3",
           "#FF6692",
           "#B6E880",
           "#FF97FF",
           "#FECB52"
          ],
          "font": {
           "color": "#2a3f5f"
          },
          "geo": {
           "bgcolor": "white",
           "lakecolor": "white",
           "landcolor": "#E5ECF6",
           "showlakes": true,
           "showland": true,
           "subunitcolor": "white"
          },
          "hoverlabel": {
           "align": "left"
          },
          "hovermode": "closest",
          "mapbox": {
           "style": "light"
          },
          "paper_bgcolor": "white",
          "plot_bgcolor": "#E5ECF6",
          "polar": {
           "angularaxis": {
            "gridcolor": "white",
            "linecolor": "white",
            "ticks": ""
           },
           "bgcolor": "#E5ECF6",
           "radialaxis": {
            "gridcolor": "white",
            "linecolor": "white",
            "ticks": ""
           }
          },
          "scene": {
           "xaxis": {
            "backgroundcolor": "#E5ECF6",
            "gridcolor": "white",
            "gridwidth": 2,
            "linecolor": "white",
            "showbackground": true,
            "ticks": "",
            "zerolinecolor": "white"
           },
           "yaxis": {
            "backgroundcolor": "#E5ECF6",
            "gridcolor": "white",
            "gridwidth": 2,
            "linecolor": "white",
            "showbackground": true,
            "ticks": "",
            "zerolinecolor": "white"
           },
           "zaxis": {
            "backgroundcolor": "#E5ECF6",
            "gridcolor": "white",
            "gridwidth": 2,
            "linecolor": "white",
            "showbackground": true,
            "ticks": "",
            "zerolinecolor": "white"
           }
          },
          "shapedefaults": {
           "line": {
            "color": "#2a3f5f"
           }
          },
          "ternary": {
           "aaxis": {
            "gridcolor": "white",
            "linecolor": "white",
            "ticks": ""
           },
           "baxis": {
            "gridcolor": "white",
            "linecolor": "white",
            "ticks": ""
           },
           "bgcolor": "#E5ECF6",
           "caxis": {
            "gridcolor": "white",
            "linecolor": "white",
            "ticks": ""
           }
          },
          "title": {
           "x": 0.05
          },
          "xaxis": {
           "automargin": true,
           "gridcolor": "white",
           "linecolor": "white",
           "ticks": "",
           "title": {
            "standoff": 15
           },
           "zerolinecolor": "white",
           "zerolinewidth": 2
          },
          "yaxis": {
           "automargin": true,
           "gridcolor": "white",
           "linecolor": "white",
           "ticks": "",
           "title": {
            "standoff": 15
           },
           "zerolinecolor": "white",
           "zerolinewidth": 2
          }
         }
        },
        "title": {
         "text": "Sharpe Ratio Over Iterations"
        },
        "xaxis": {
         "title": {
          "text": "Iteration"
         }
        },
        "yaxis": {
         "title": {
          "text": "Sharpe Ratio"
         }
        }
       }
      }
     },
     "metadata": {},
     "output_type": "display_data"
    }
   ],
   "source": [
    "sharpe_ratios = [portfolio['sharpe'] for portfolio in total_portfolios]\n",
    "\n",
    "fig = go.Figure(data=go.Scatter(x=list(range(len(sharpe_ratios))), y=sharpe_ratios, mode='lines+markers'))\n",
    "fig.update_layout(title='Sharpe Ratio Over Iterations',\n",
    "                  xaxis_title='Iteration',\n",
    "                  yaxis_title='Sharpe Ratio',\n",
    "                  )\n",
    "fig.show()"
   ]
  },
  {
   "cell_type": "markdown",
   "metadata": {},
   "source": [
    "### 5.2 Reinforcement Weight Training"
   ]
  },
  {
   "cell_type": "code",
   "execution_count": 102,
   "metadata": {},
   "outputs": [
    {
     "name": "stderr",
     "output_type": "stream",
     "text": [
      "  0%|          | 161/100000 [00:01<15:07, 110.03it/s]"
     ]
    },
    {
     "name": "stdout",
     "output_type": "stream",
     "text": [
      "All assets have been tested\n"
     ]
    },
    {
     "name": "stderr",
     "output_type": "stream",
     "text": [
      "\n"
     ]
    },
    {
     "data": {
      "text/plain": [
       "({'tickers': ['CVX_Close',\n",
       "   'AEP_Close',\n",
       "   'TSLA_Close',\n",
       "   'BABA_Close',\n",
       "   'ISRG_Close',\n",
       "   'MCD_Close',\n",
       "   'ABBV_Close',\n",
       "   'KO_Close'],\n",
       "  'weights': array([0.        , 0.10637604, 0.04096956, 0.1002552 , 0.11219429,\n",
       "         0.16544921, 0.2089125 , 0.26584319]),\n",
       "  'return': np.float64(0.4065928711996196),\n",
       "  'variance': np.float64(0.004229759124638966),\n",
       "  'sharpe': np.float64(6.251754881550488)},\n",
       " np.float64(6.251754881550488),\n",
       " 75)"
      ]
     },
     "execution_count": 102,
     "metadata": {},
     "output_type": "execute_result"
    }
   ],
   "source": [
    "def MLRBA_V2(ticker, covariances, returns, num_iterations=None, risk_free_rate = 0, \n",
    "             return_power = 1, std_power = 1, return_weight=1/3, corr_weight=1/3, vol_weight= 1/3, num_assets = 8, base_portfolio = None):\n",
    "    \n",
    "    if num_iterations is None:\n",
    "        num_iterations = min(math.comb(len(ticker), num_assets), 100000)\n",
    "\n",
    "    if base_portfolio is None:\n",
    "        base_portfolio = np.random.choice(list(ticker), num_assets, replace=False)\n",
    "        #base_portfolio = list(ticker)[:num_assets]\n",
    "\n",
    "    highest_weighted_sharpe = -np.inf\n",
    "    all_portfolios = []\n",
    "    tested_assets = set()\n",
    "    best_iteration = 0\n",
    "\n",
    "    learning_rate = 0.05\n",
    "\n",
    "    def _get_portfolio_stats(portfolio_assets, risk_free_rate=0):\n",
    "        p_asset_ret = returns.loc[portfolio_assets].values\n",
    "        p_asset_var = covariances.loc[portfolio_assets, portfolio_assets].values\n",
    "        best_p_weights = maximize_sharpe(p_asset_ret, p_asset_var)\n",
    "        p_ret = np.dot(best_p_weights, p_asset_ret)\n",
    "        p_var = np.dot(best_p_weights, p_asset_var @ best_p_weights)\n",
    "        sharpe = get_sharpe_ratio(p_ret, p_var, risk_free_rate, return_power, std_power)\n",
    "        return p_asset_ret, p_asset_var, sharpe, p_ret, p_var, best_p_weights\n",
    "\n",
    "    def _update_portfolios_array(portfolios, assets, weights, p_ret, p_var):\n",
    "        portfolios.append({\n",
    "            \"tickers\": assets,\n",
    "            \"weights\": weights,\n",
    "            \"return\": p_ret,\n",
    "            \"variance\": p_var,\n",
    "            \"sharpe\": (p_ret - risk_free_rate) / np.sqrt(p_var),\n",
    "        })\n",
    "\n",
    "    curr_ret, curr_var, curr_weighted_sharpe, curr_p_return, curr_p_variance, curr_p_weights = _get_portfolio_stats(base_portfolio, risk_free_rate)\n",
    "    _update_portfolios_array(all_portfolios, base_portfolio, curr_p_weights, curr_p_return, curr_p_variance)\n",
    "\n",
    "    good_portfolios = all_portfolios.copy()\n",
    "    best_portfolio = base_portfolio.copy()\n",
    "    highest_weighted_sharpe = curr_weighted_sharpe\n",
    "\n",
    "    improvement_threshold = 0.001\n",
    "\n",
    "    for i in tqdm(range(num_iterations)):\n",
    "        asset_to_remove = find_best_asset_to_remove(best_portfolio, curr_var, curr_ret)\n",
    "        new_portfolio = [str(asset) for asset in best_portfolio if asset != asset_to_remove]\n",
    "\n",
    "        ranked_assets = find_asset_to_add(new_portfolio, ticker, covariances, returns, return_weight, corr_weight, vol_weight)\n",
    "        asset_to_add = ranked_assets.index[0]\n",
    "\n",
    "        for asset in ranked_assets.index:\n",
    "            if asset not in tested_assets:\n",
    "                asset_to_add = asset\n",
    "                break\n",
    "\n",
    "        new_portfolio.append(asset_to_add)\n",
    "        tested_assets.add(asset_to_add)\n",
    "\n",
    "        if len(tested_assets) >= len(ticker) - num_assets:\n",
    "            print(\"All assets have been tested\")\n",
    "            break\n",
    "\n",
    "        new_returns, new_var, new_weighted_sharpe, new_p_return, new_p_variance, new_p_weights = _get_portfolio_stats(new_portfolio, risk_free_rate)\n",
    "        _update_portfolios_array(all_portfolios, new_portfolio, new_p_weights, new_p_return, new_p_variance)\n",
    "\n",
    "        if new_weighted_sharpe > highest_weighted_sharpe:\n",
    "            improvement = new_weighted_sharpe - highest_weighted_sharpe\n",
    "            highest_weighted_sharpe = new_weighted_sharpe\n",
    "            best_portfolio = new_portfolio\n",
    "            curr_ret, curr_var = new_returns, new_var\n",
    "            best_iteration = i\n",
    "\n",
    "            asset_return = returns.loc[asset_to_add]\n",
    "            asset_vol = np.sqrt(covariances.loc[asset_to_add, asset_to_add])\n",
    "            avg_return = returns.mean()\n",
    "            avg_vol = np.sqrt(np.diag(covariances)).mean()\n",
    "\n",
    "            corr_with_portfolio = correlation_matrix.loc[new_portfolio, asset_to_add].drop(asset_to_add).mean()\n",
    "            avg_corr_in_portfolio = correlation_matrix.loc[new_portfolio].drop(asset_to_add, axis=1).mean().mean()\n",
    "            \n",
    "            # Update weights using the current learning rate\n",
    "            if asset_return > avg_return:\n",
    "                return_weight += learning_rate * (asset_return - avg_return) / avg_return\n",
    "            else:\n",
    "                return_weight -= learning_rate * (avg_return - asset_return) / avg_return\n",
    "\n",
    "            if asset_vol < avg_vol:\n",
    "                vol_weight -= learning_rate * (avg_vol - asset_vol) / avg_vol\n",
    "            else:\n",
    "                vol_weight += learning_rate * (asset_vol - avg_vol) / avg_vol\n",
    "\n",
    "            if corr_with_portfolio < avg_corr_in_portfolio:\n",
    "                corr_weight += learning_rate * (avg_corr_in_portfolio - corr_with_portfolio) / avg_corr_in_portfolio\n",
    "            else:\n",
    "                corr_weight -= learning_rate * (corr_with_portfolio - avg_corr_in_portfolio) / avg_corr_in_portfolio\n",
    "\n",
    "            total = return_weight + corr_weight + vol_weight\n",
    "            return_weight /= total\n",
    "            corr_weight /= total\n",
    "            vol_weight /= total\n",
    "\n",
    "            if improvement < improvement_threshold:\n",
    "                learning_rate *= 0.95\n",
    "            else:\n",
    "                learning_rate *= 1.01\n",
    "\n",
    "            _update_portfolios_array(good_portfolios, new_portfolio, new_p_weights, new_p_return, new_p_variance)\n",
    "            tested_assets.clear()\n",
    "\n",
    "    base_details = good_portfolios[0]\n",
    "    best_details = good_portfolios[-1]\n",
    "\n",
    "    return base_details, best_details, good_portfolios, all_portfolios, best_iteration\n",
    "\n",
    "\n",
    "base_portfolio, best_portfolio, good_portfolios, total_portfolios, best_iteration = MLRBA_V2(names, cov, annualized_returns)\n",
    "best_portfolio, best_portfolio['sharpe'], best_iteration"
   ]
  },
  {
   "cell_type": "code",
   "execution_count": 103,
   "metadata": {},
   "outputs": [
    {
     "data": {
      "application/vnd.plotly.v1+json": {
       "config": {
        "plotlyServerURL": "https://plot.ly"
       },
       "data": [
        {
         "hoverinfo": "text",
         "marker": {
          "color": [
           2.9890539933087026,
           3.7495431726051445,
           4.237685193843584,
           4.655245842692792,
           4.6552458426892125,
           5.06593454351593,
           5.0659345435152705,
           4.789487013358503,
           4.953125011834133,
           5.061714763001971,
           4.932640790270924,
           4.7684593804315005,
           4.768459373782116,
           5.119803646308931,
           5.3107110404082984,
           5.3107110404082984,
           5.121623195280709,
           5.191165193400812,
           5.193545899420741,
           5.208784313482557,
           5.119803661666217,
           5.119803672970849,
           5.119803535391303,
           5.11980353996779,
           5.610247010599044,
           5.868982119900649,
           5.868982119900649,
           5.598006383816444,
           5.700429690466962,
           5.64006522033412,
           5.685843618167687,
           5.598006347365756,
           5.59819971250306,
           5.59800639746924,
           5.598006334302643,
           6.019123616173261,
           6.154615981126601,
           6.154615981126601,
           5.9949075911732566,
           6.01545410153217,
           5.99491384448486,
           6.033663030678138,
           5.994907272134302,
           5.994907748893596,
           5.994907540434599,
           5.994907419921772,
           5.994907709941402,
           6.031891299517596,
           5.9949074977246495,
           5.994907478286511,
           5.994907655070333,
           5.994907616387374,
           5.994907284597646,
           5.994907620618651,
           5.994907739939786,
           6.027574920593297,
           6.019123616168684,
           5.994907733926029,
           5.994907437308824,
           5.994907740011493,
           5.994907725266285,
           5.9949077256696155,
           5.994975935631839,
           5.995832764867319,
           5.994907616468379,
           5.9949073998468485,
           6.099586536788548,
           5.994907551370511,
           6.003623566973967,
           5.994907651885894,
           5.994907631915655,
           5.9949075644331735,
           6.054886066199772,
           6.0556147053869065,
           5.9949077416105725,
           5.994907677310183,
           6.251754881550488,
           5.944799556176579,
           5.836811304600445,
           5.837119978196492,
           5.839221018107765,
           5.8891783314330395,
           5.83632807010206,
           5.836328098716801,
           5.836327917597045,
           5.836328203306349,
           5.836328201668722,
           6.251754881550454,
           5.836328168720026,
           5.836328152343367,
           5.836327730489264,
           5.912597058934577,
           5.836328119771766,
           5.836328149010013,
           5.849158044739544,
           5.836328204292795,
           5.836332166706273,
           5.860050457237116,
           5.836328204372831,
           5.836328204521339,
           5.8368781582575995,
           5.836328162810586,
           5.836328124081508,
           5.836328199434869,
           5.836328194742195,
           5.836327945010239,
           5.836327808106261,
           5.836328108948922,
           5.836328183139537,
           5.836328085222862,
           5.836328173869364,
           5.836328095623713,
           5.8363278961327625,
           5.984031443899328,
           5.8736770871768345,
           5.836328090932475,
           5.836328109174626,
           5.836327740948991,
           5.838321316914607,
           5.8366280180954195,
           5.836327882010499,
           5.836327948988086,
           5.836328150111196,
           5.836327901235088,
           5.836327939159973,
           5.836327987385169,
           5.836328048317853,
           5.836327994494076,
           5.836328192331602,
           5.836328186053246,
           5.83632819812183,
           5.8363281228294435,
           5.836328202913446,
           5.836328157813778,
           5.836328184018879,
           5.836328128050187,
           5.836328198307191,
           5.836327710313698,
           5.836328203533477,
           5.83632817287344,
           5.836327614913526,
           5.836327952866203,
           5.836328191266858,
           5.836328186932296,
           5.8363281432756295,
           5.836327926908754,
           5.836328198582114,
           5.836327980690688,
           5.836327997276365,
           5.8363281753113885,
           5.8363282041883995,
           5.8363281779232095,
           5.8363281951828565,
           5.836327859016512,
           5.83632817828405,
           5.836328141298683,
           5.83632802614277,
           5.836328104179966,
           5.836328192206148,
           5.836328169233805,
           5.836328202319739,
           5.836327728313723
          ],
          "colorbar": {
           "title": {
            "text": "Sharpe<br>Ratio"
           }
          },
          "colorscale": [
           [
            0,
            "rgb(103,0,31)"
           ],
           [
            0.1,
            "rgb(178,24,43)"
           ],
           [
            0.2,
            "rgb(214,96,77)"
           ],
           [
            0.3,
            "rgb(244,165,130)"
           ],
           [
            0.4,
            "rgb(253,219,199)"
           ],
           [
            0.5,
            "rgb(247,247,247)"
           ],
           [
            0.6,
            "rgb(209,229,240)"
           ],
           [
            0.7,
            "rgb(146,197,222)"
           ],
           [
            0.8,
            "rgb(67,147,195)"
           ],
           [
            0.9,
            "rgb(33,102,172)"
           ],
           [
            1,
            "rgb(5,48,97)"
           ]
          ],
          "line": {
           "width": 1
          },
          "showscale": true,
          "size": 7
         },
         "mode": "markers",
         "name": "Portfolios",
         "text": [
          "Return: 28.299%<br>Volatility: 0.095<br>Sharpe Ratio: 2.989<br>BTI_Close: Weight=0.232<br>CVX_Close: Weight=0.000<br>GM_Close: Weight=0.000<br>NKE_Close: Weight=0.000<br>T_Close: Weight=0.000<br>AEP_Close: Weight=0.109<br>UNH_Close: Weight=0.659<br>MO_Close: Weight=0.000",
          "Return: 40.770%<br>Volatility: 0.109<br>Sharpe Ratio: 3.750<br>BTI_Close: Weight=0.131<br>CVX_Close: Weight=0.000<br>GM_Close: Weight=0.000<br>NKE_Close: Weight=0.000<br>AEP_Close: Weight=0.185<br>UNH_Close: Weight=0.545<br>MO_Close: Weight=0.000<br>VRTX_Close: Weight=0.139",
          "Return: 48.248%<br>Volatility: 0.114<br>Sharpe Ratio: 4.238<br>BTI_Close: Weight=0.089<br>CVX_Close: Weight=0.000<br>GM_Close: Weight=0.000<br>NKE_Close: Weight=0.000<br>AEP_Close: Weight=0.210<br>UNH_Close: Weight=0.456<br>VRTX_Close: Weight=0.124<br>NVDA_Close: Weight=0.121",
          "Return: 50.251%<br>Volatility: 0.108<br>Sharpe Ratio: 4.655<br>BTI_Close: Weight=0.073<br>CVX_Close: Weight=0.000<br>NKE_Close: Weight=0.000<br>AEP_Close: Weight=0.232<br>UNH_Close: Weight=0.393<br>VRTX_Close: Weight=0.098<br>NVDA_Close: Weight=0.081<br>TSLA_Close: Weight=0.122",
          "Return: 50.251%<br>Volatility: 0.108<br>Sharpe Ratio: 4.655<br>BTI_Close: Weight=0.073<br>CVX_Close: Weight=0.000<br>NKE_Close: Weight=0.000<br>AEP_Close: Weight=0.232<br>UNH_Close: Weight=0.393<br>VRTX_Close: Weight=0.098<br>TSLA_Close: Weight=0.122<br>NVDA_Close: Weight=0.081",
          "Return: 46.850%<br>Volatility: 0.092<br>Sharpe Ratio: 5.066<br>BTI_Close: Weight=0.055<br>CVX_Close: Weight=0.000<br>NKE_Close: Weight=0.000<br>AEP_Close: Weight=0.283<br>UNH_Close: Weight=0.329<br>VRTX_Close: Weight=0.067<br>TSLA_Close: Weight=0.084<br>BABA_Close: Weight=0.181",
          "Return: 46.850%<br>Volatility: 0.092<br>Sharpe Ratio: 5.066<br>BTI_Close: Weight=0.055<br>CVX_Close: Weight=0.000<br>NKE_Close: Weight=0.000<br>AEP_Close: Weight=0.283<br>UNH_Close: Weight=0.329<br>TSLA_Close: Weight=0.084<br>BABA_Close: Weight=0.181<br>VRTX_Close: Weight=0.067",
          "Return: 42.889%<br>Volatility: 0.090<br>Sharpe Ratio: 4.789<br>BTI_Close: Weight=0.090<br>CVX_Close: Weight=0.000<br>NKE_Close: Weight=0.000<br>AEP_Close: Weight=0.257<br>UNH_Close: Weight=0.357<br>TSLA_Close: Weight=0.089<br>BABA_Close: Weight=0.185<br>NVDA_Close: Weight=0.022",
          "Return: 43.191%<br>Volatility: 0.087<br>Sharpe Ratio: 4.953<br>BTI_Close: Weight=0.073<br>CVX_Close: Weight=0.000<br>NKE_Close: Weight=0.000<br>AEP_Close: Weight=0.288<br>UNH_Close: Weight=0.298<br>TSLA_Close: Weight=0.084<br>BABA_Close: Weight=0.174<br>REGN_Close: Weight=0.083",
          "Return: 45.564%<br>Volatility: 0.090<br>Sharpe Ratio: 5.062<br>BTI_Close: Weight=0.052<br>CVX_Close: Weight=0.000<br>NKE_Close: Weight=0.000<br>AEP_Close: Weight=0.206<br>UNH_Close: Weight=0.293<br>TSLA_Close: Weight=0.071<br>BABA_Close: Weight=0.152<br>ADBE_Close: Weight=0.226",
          "Return: 44.188%<br>Volatility: 0.090<br>Sharpe Ratio: 4.933<br>BTI_Close: Weight=0.067<br>CVX_Close: Weight=0.000<br>NKE_Close: Weight=0.000<br>AEP_Close: Weight=0.223<br>UNH_Close: Weight=0.340<br>TSLA_Close: Weight=0.089<br>BABA_Close: Weight=0.160<br>PYPL_Close: Weight=0.122",
          "Return: 41.952%<br>Volatility: 0.088<br>Sharpe Ratio: 4.768<br>BTI_Close: Weight=0.092<br>CVX_Close: Weight=0.000<br>NKE_Close: Weight=0.000<br>AEP_Close: Weight=0.259<br>UNH_Close: Weight=0.360<br>TSLA_Close: Weight=0.091<br>BABA_Close: Weight=0.198<br>NFLX_Close: Weight=0.000",
          "Return: 41.954%<br>Volatility: 0.088<br>Sharpe Ratio: 4.768<br>BTI_Close: Weight=0.092<br>CVX_Close: Weight=0.000<br>NKE_Close: Weight=0.000<br>AEP_Close: Weight=0.259<br>UNH_Close: Weight=0.360<br>TSLA_Close: Weight=0.091<br>BABA_Close: Weight=0.198<br>META_Close: Weight=0.000",
          "Return: 43.211%<br>Volatility: 0.084<br>Sharpe Ratio: 5.120<br>BTI_Close: Weight=0.078<br>CVX_Close: Weight=0.000<br>NKE_Close: Weight=0.000<br>AEP_Close: Weight=0.268<br>UNH_Close: Weight=0.240<br>TSLA_Close: Weight=0.068<br>BABA_Close: Weight=0.162<br>ISRG_Close: Weight=0.185",
          "Return: 46.779%<br>Volatility: 0.088<br>Sharpe Ratio: 5.311<br>BTI_Close: Weight=0.052<br>CVX_Close: Weight=0.000<br>AEP_Close: Weight=0.285<br>UNH_Close: Weight=0.232<br>TSLA_Close: Weight=0.066<br>BABA_Close: Weight=0.153<br>ISRG_Close: Weight=0.161<br>VRTX_Close: Weight=0.051",
          "Return: 46.779%<br>Volatility: 0.088<br>Sharpe Ratio: 5.311<br>BTI_Close: Weight=0.052<br>CVX_Close: Weight=0.000<br>AEP_Close: Weight=0.285<br>UNH_Close: Weight=0.232<br>TSLA_Close: Weight=0.066<br>BABA_Close: Weight=0.153<br>ISRG_Close: Weight=0.161<br>VRTX_Close: Weight=0.051",
          "Return: 43.461%<br>Volatility: 0.085<br>Sharpe Ratio: 5.122<br>BTI_Close: Weight=0.078<br>CVX_Close: Weight=0.000<br>AEP_Close: Weight=0.267<br>UNH_Close: Weight=0.240<br>TSLA_Close: Weight=0.067<br>BABA_Close: Weight=0.159<br>ISRG_Close: Weight=0.183<br>NVDA_Close: Weight=0.006",
          "Return: 43.799%<br>Volatility: 0.084<br>Sharpe Ratio: 5.191<br>BTI_Close: Weight=0.068<br>CVX_Close: Weight=0.000<br>AEP_Close: Weight=0.284<br>UNH_Close: Weight=0.219<br>TSLA_Close: Weight=0.067<br>BABA_Close: Weight=0.153<br>ISRG_Close: Weight=0.158<br>REGN_Close: Weight=0.051",
          "Return: 44.517%<br>Volatility: 0.086<br>Sharpe Ratio: 5.194<br>BTI_Close: Weight=0.063<br>CVX_Close: Weight=0.000<br>AEP_Close: Weight=0.243<br>UNH_Close: Weight=0.240<br>TSLA_Close: Weight=0.069<br>BABA_Close: Weight=0.141<br>ISRG_Close: Weight=0.165<br>PYPL_Close: Weight=0.078",
          "Return: 45.026%<br>Volatility: 0.086<br>Sharpe Ratio: 5.209<br>BTI_Close: Weight=0.058<br>CVX_Close: Weight=0.000<br>AEP_Close: Weight=0.234<br>UNH_Close: Weight=0.231<br>TSLA_Close: Weight=0.062<br>BABA_Close: Weight=0.144<br>ISRG_Close: Weight=0.137<br>ADBE_Close: Weight=0.134",
          "Return: 43.210%<br>Volatility: 0.084<br>Sharpe Ratio: 5.120<br>BTI_Close: Weight=0.078<br>CVX_Close: Weight=0.000<br>AEP_Close: Weight=0.268<br>UNH_Close: Weight=0.240<br>TSLA_Close: Weight=0.068<br>BABA_Close: Weight=0.162<br>ISRG_Close: Weight=0.185<br>NFLX_Close: Weight=0.000",
          "Return: 43.211%<br>Volatility: 0.084<br>Sharpe Ratio: 5.120<br>BTI_Close: Weight=0.078<br>CVX_Close: Weight=0.000<br>AEP_Close: Weight=0.268<br>UNH_Close: Weight=0.240<br>TSLA_Close: Weight=0.068<br>BABA_Close: Weight=0.162<br>ISRG_Close: Weight=0.185<br>EW_Close: Weight=0.000",
          "Return: 43.210%<br>Volatility: 0.084<br>Sharpe Ratio: 5.120<br>BTI_Close: Weight=0.078<br>CVX_Close: Weight=0.000<br>AEP_Close: Weight=0.268<br>UNH_Close: Weight=0.240<br>TSLA_Close: Weight=0.068<br>BABA_Close: Weight=0.162<br>ISRG_Close: Weight=0.185<br>AMZN_Close: Weight=0.000",
          "Return: 43.217%<br>Volatility: 0.084<br>Sharpe Ratio: 5.120<br>BTI_Close: Weight=0.078<br>CVX_Close: Weight=0.000<br>AEP_Close: Weight=0.268<br>UNH_Close: Weight=0.240<br>TSLA_Close: Weight=0.068<br>BABA_Close: Weight=0.162<br>ISRG_Close: Weight=0.185<br>META_Close: Weight=0.000",
          "Return: 44.856%<br>Volatility: 0.080<br>Sharpe Ratio: 5.610<br>BTI_Close: Weight=0.028<br>CVX_Close: Weight=0.000<br>AEP_Close: Weight=0.230<br>UNH_Close: Weight=0.160<br>TSLA_Close: Weight=0.060<br>BABA_Close: Weight=0.145<br>ISRG_Close: Weight=0.138<br>MCD_Close: Weight=0.238",
          "Return: 48.736%<br>Volatility: 0.083<br>Sharpe Ratio: 5.869<br>CVX_Close: Weight=0.000<br>AEP_Close: Weight=0.242<br>UNH_Close: Weight=0.146<br>TSLA_Close: Weight=0.057<br>BABA_Close: Weight=0.134<br>ISRG_Close: Weight=0.109<br>MCD_Close: Weight=0.259<br>VRTX_Close: Weight=0.053",
          "Return: 48.736%<br>Volatility: 0.083<br>Sharpe Ratio: 5.869<br>CVX_Close: Weight=0.000<br>AEP_Close: Weight=0.242<br>UNH_Close: Weight=0.146<br>TSLA_Close: Weight=0.057<br>BABA_Close: Weight=0.134<br>ISRG_Close: Weight=0.109<br>MCD_Close: Weight=0.259<br>VRTX_Close: Weight=0.053",
          "Return: 44.791%<br>Volatility: 0.080<br>Sharpe Ratio: 5.598<br>CVX_Close: Weight=0.000<br>AEP_Close: Weight=0.251<br>UNH_Close: Weight=0.155<br>TSLA_Close: Weight=0.060<br>BABA_Close: Weight=0.148<br>ISRG_Close: Weight=0.138<br>MCD_Close: Weight=0.248<br>NVDA_Close: Weight=0.000",
          "Return: 45.467%<br>Volatility: 0.080<br>Sharpe Ratio: 5.700<br>CVX_Close: Weight=0.000<br>AEP_Close: Weight=0.260<br>UNH_Close: Weight=0.134<br>TSLA_Close: Weight=0.059<br>BABA_Close: Weight=0.137<br>ISRG_Close: Weight=0.108<br>MCD_Close: Weight=0.248<br>REGN_Close: Weight=0.055",
          "Return: 45.657%<br>Volatility: 0.081<br>Sharpe Ratio: 5.640<br>CVX_Close: Weight=0.000<br>AEP_Close: Weight=0.229<br>UNH_Close: Weight=0.158<br>TSLA_Close: Weight=0.061<br>BABA_Close: Weight=0.133<br>ISRG_Close: Weight=0.126<br>MCD_Close: Weight=0.239<br>PYPL_Close: Weight=0.053",
          "Return: 46.419%<br>Volatility: 0.082<br>Sharpe Ratio: 5.686<br>CVX_Close: Weight=0.000<br>AEP_Close: Weight=0.209<br>UNH_Close: Weight=0.151<br>TSLA_Close: Weight=0.055<br>BABA_Close: Weight=0.131<br>ISRG_Close: Weight=0.096<br>MCD_Close: Weight=0.242<br>ADBE_Close: Weight=0.117",
          "Return: 44.789%<br>Volatility: 0.080<br>Sharpe Ratio: 5.598<br>CVX_Close: Weight=0.000<br>AEP_Close: Weight=0.251<br>UNH_Close: Weight=0.155<br>TSLA_Close: Weight=0.060<br>BABA_Close: Weight=0.148<br>ISRG_Close: Weight=0.138<br>MCD_Close: Weight=0.248<br>NFLX_Close: Weight=0.000",
          "Return: 44.806%<br>Volatility: 0.080<br>Sharpe Ratio: 5.598<br>CVX_Close: Weight=0.000<br>AEP_Close: Weight=0.250<br>UNH_Close: Weight=0.155<br>TSLA_Close: Weight=0.061<br>BABA_Close: Weight=0.147<br>ISRG_Close: Weight=0.136<br>MCD_Close: Weight=0.248<br>EW_Close: Weight=0.003",
          "Return: 44.791%<br>Volatility: 0.080<br>Sharpe Ratio: 5.598<br>CVX_Close: Weight=0.000<br>AEP_Close: Weight=0.251<br>UNH_Close: Weight=0.155<br>TSLA_Close: Weight=0.060<br>BABA_Close: Weight=0.148<br>ISRG_Close: Weight=0.138<br>MCD_Close: Weight=0.248<br>AMZN_Close: Weight=0.000",
          "Return: 44.787%<br>Volatility: 0.080<br>Sharpe Ratio: 5.598<br>CVX_Close: Weight=0.000<br>AEP_Close: Weight=0.251<br>UNH_Close: Weight=0.155<br>TSLA_Close: Weight=0.060<br>BABA_Close: Weight=0.148<br>ISRG_Close: Weight=0.138<br>MCD_Close: Weight=0.248<br>META_Close: Weight=0.000",
          "Return: 45.312%<br>Volatility: 0.075<br>Sharpe Ratio: 6.019<br>CVX_Close: Weight=0.000<br>AEP_Close: Weight=0.204<br>UNH_Close: Weight=0.064<br>TSLA_Close: Weight=0.049<br>BABA_Close: Weight=0.121<br>ISRG_Close: Weight=0.119<br>MCD_Close: Weight=0.208<br>ABBV_Close: Weight=0.236",
          "Return: 48.779%<br>Volatility: 0.079<br>Sharpe Ratio: 6.155<br>CVX_Close: Weight=0.000<br>AEP_Close: Weight=0.221<br>TSLA_Close: Weight=0.048<br>BABA_Close: Weight=0.116<br>ISRG_Close: Weight=0.113<br>MCD_Close: Weight=0.231<br>ABBV_Close: Weight=0.233<br>VRTX_Close: Weight=0.039",
          "Return: 48.779%<br>Volatility: 0.079<br>Sharpe Ratio: 6.155<br>CVX_Close: Weight=0.000<br>AEP_Close: Weight=0.221<br>TSLA_Close: Weight=0.048<br>BABA_Close: Weight=0.116<br>ISRG_Close: Weight=0.113<br>MCD_Close: Weight=0.231<br>ABBV_Close: Weight=0.233<br>VRTX_Close: Weight=0.039",
          "Return: 45.927%<br>Volatility: 0.077<br>Sharpe Ratio: 5.995<br>CVX_Close: Weight=0.000<br>AEP_Close: Weight=0.222<br>TSLA_Close: Weight=0.049<br>BABA_Close: Weight=0.123<br>ISRG_Close: Weight=0.132<br>MCD_Close: Weight=0.218<br>ABBV_Close: Weight=0.257<br>NVDA_Close: Weight=0.000",
          "Return: 46.158%<br>Volatility: 0.077<br>Sharpe Ratio: 6.015<br>CVX_Close: Weight=0.000<br>AEP_Close: Weight=0.228<br>TSLA_Close: Weight=0.049<br>BABA_Close: Weight=0.120<br>ISRG_Close: Weight=0.120<br>MCD_Close: Weight=0.220<br>ABBV_Close: Weight=0.240<br>REGN_Close: Weight=0.024",
          "Return: 45.938%<br>Volatility: 0.077<br>Sharpe Ratio: 5.995<br>CVX_Close: Weight=0.000<br>AEP_Close: Weight=0.222<br>TSLA_Close: Weight=0.049<br>BABA_Close: Weight=0.123<br>ISRG_Close: Weight=0.132<br>MCD_Close: Weight=0.218<br>ABBV_Close: Weight=0.257<br>PYPL_Close: Weight=0.001",
          "Return: 46.933%<br>Volatility: 0.078<br>Sharpe Ratio: 6.034<br>CVX_Close: Weight=0.000<br>AEP_Close: Weight=0.197<br>TSLA_Close: Weight=0.046<br>BABA_Close: Weight=0.113<br>ISRG_Close: Weight=0.107<br>MCD_Close: Weight=0.216<br>ABBV_Close: Weight=0.248<br>ADBE_Close: Weight=0.073",
          "Return: 45.924%<br>Volatility: 0.077<br>Sharpe Ratio: 5.995<br>CVX_Close: Weight=0.000<br>AEP_Close: Weight=0.222<br>TSLA_Close: Weight=0.049<br>BABA_Close: Weight=0.123<br>ISRG_Close: Weight=0.132<br>MCD_Close: Weight=0.218<br>ABBV_Close: Weight=0.257<br>NFLX_Close: Weight=0.000",
          "Return: 45.928%<br>Volatility: 0.077<br>Sharpe Ratio: 5.995<br>CVX_Close: Weight=0.000<br>AEP_Close: Weight=0.222<br>TSLA_Close: Weight=0.049<br>BABA_Close: Weight=0.123<br>ISRG_Close: Weight=0.132<br>MCD_Close: Weight=0.218<br>ABBV_Close: Weight=0.257<br>EW_Close: Weight=0.000",
          "Return: 45.924%<br>Volatility: 0.077<br>Sharpe Ratio: 5.995<br>CVX_Close: Weight=0.000<br>AEP_Close: Weight=0.222<br>TSLA_Close: Weight=0.049<br>BABA_Close: Weight=0.123<br>ISRG_Close: Weight=0.132<br>MCD_Close: Weight=0.218<br>ABBV_Close: Weight=0.257<br>AMZN_Close: Weight=0.000",
          "Return: 45.922%<br>Volatility: 0.077<br>Sharpe Ratio: 5.995<br>CVX_Close: Weight=0.000<br>AEP_Close: Weight=0.222<br>TSLA_Close: Weight=0.049<br>BABA_Close: Weight=0.123<br>ISRG_Close: Weight=0.132<br>MCD_Close: Weight=0.218<br>ABBV_Close: Weight=0.257<br>META_Close: Weight=0.000",
          "Return: 45.928%<br>Volatility: 0.077<br>Sharpe Ratio: 5.995<br>CVX_Close: Weight=0.000<br>AEP_Close: Weight=0.222<br>TSLA_Close: Weight=0.049<br>BABA_Close: Weight=0.123<br>ISRG_Close: Weight=0.132<br>MCD_Close: Weight=0.218<br>ABBV_Close: Weight=0.257<br>SAP_Close: Weight=0.000",
          "Return: 45.323%<br>Volatility: 0.075<br>Sharpe Ratio: 6.032<br>CVX_Close: Weight=0.000<br>AEP_Close: Weight=0.215<br>TSLA_Close: Weight=0.048<br>BABA_Close: Weight=0.115<br>ISRG_Close: Weight=0.127<br>MCD_Close: Weight=0.197<br>ABBV_Close: Weight=0.250<br>DE_Close: Weight=0.049",
          "Return: 45.932%<br>Volatility: 0.077<br>Sharpe Ratio: 5.995<br>CVX_Close: Weight=0.000<br>AEP_Close: Weight=0.222<br>TSLA_Close: Weight=0.049<br>BABA_Close: Weight=0.123<br>ISRG_Close: Weight=0.132<br>MCD_Close: Weight=0.218<br>ABBV_Close: Weight=0.257<br>GOOG_Close: Weight=0.000",
          "Return: 45.929%<br>Volatility: 0.077<br>Sharpe Ratio: 5.995<br>CVX_Close: Weight=0.000<br>AEP_Close: Weight=0.222<br>TSLA_Close: Weight=0.049<br>BABA_Close: Weight=0.123<br>ISRG_Close: Weight=0.132<br>MCD_Close: Weight=0.218<br>ABBV_Close: Weight=0.257<br>GOOGL_Close: Weight=0.000",
          "Return: 45.925%<br>Volatility: 0.077<br>Sharpe Ratio: 5.995<br>CVX_Close: Weight=0.000<br>AEP_Close: Weight=0.222<br>TSLA_Close: Weight=0.049<br>BABA_Close: Weight=0.123<br>ISRG_Close: Weight=0.132<br>MCD_Close: Weight=0.218<br>ABBV_Close: Weight=0.257<br>MSFT_Close: Weight=0.000",
          "Return: 45.930%<br>Volatility: 0.077<br>Sharpe Ratio: 5.995<br>CVX_Close: Weight=0.000<br>AEP_Close: Weight=0.222<br>TSLA_Close: Weight=0.049<br>BABA_Close: Weight=0.123<br>ISRG_Close: Weight=0.132<br>MCD_Close: Weight=0.218<br>ABBV_Close: Weight=0.257<br>CAT_Close: Weight=0.000",
          "Return: 45.922%<br>Volatility: 0.077<br>Sharpe Ratio: 5.995<br>CVX_Close: Weight=0.000<br>AEP_Close: Weight=0.222<br>TSLA_Close: Weight=0.049<br>BABA_Close: Weight=0.123<br>ISRG_Close: Weight=0.132<br>MCD_Close: Weight=0.217<br>ABBV_Close: Weight=0.257<br>ORCL_Close: Weight=0.000",
          "Return: 45.926%<br>Volatility: 0.077<br>Sharpe Ratio: 5.995<br>CVX_Close: Weight=0.000<br>AEP_Close: Weight=0.222<br>TSLA_Close: Weight=0.049<br>BABA_Close: Weight=0.123<br>ISRG_Close: Weight=0.132<br>MCD_Close: Weight=0.218<br>ABBV_Close: Weight=0.257<br>BTI_Close: Weight=0.000",
          "Return: 45.927%<br>Volatility: 0.077<br>Sharpe Ratio: 5.995<br>CVX_Close: Weight=0.000<br>AEP_Close: Weight=0.222<br>TSLA_Close: Weight=0.049<br>BABA_Close: Weight=0.123<br>ISRG_Close: Weight=0.132<br>MCD_Close: Weight=0.218<br>ABBV_Close: Weight=0.257<br>MA_Close: Weight=0.000",
          "Return: 45.712%<br>Volatility: 0.076<br>Sharpe Ratio: 6.028<br>CVX_Close: Weight=0.000<br>AEP_Close: Weight=0.192<br>TSLA_Close: Weight=0.050<br>BABA_Close: Weight=0.117<br>ISRG_Close: Weight=0.122<br>MCD_Close: Weight=0.210<br>ABBV_Close: Weight=0.246<br>PM_Close: Weight=0.064",
          "Return: 45.312%<br>Volatility: 0.075<br>Sharpe Ratio: 6.019<br>CVX_Close: Weight=0.000<br>AEP_Close: Weight=0.204<br>TSLA_Close: Weight=0.049<br>BABA_Close: Weight=0.121<br>ISRG_Close: Weight=0.119<br>MCD_Close: Weight=0.208<br>ABBV_Close: Weight=0.236<br>UNH_Close: Weight=0.064",
          "Return: 45.928%<br>Volatility: 0.077<br>Sharpe Ratio: 5.995<br>CVX_Close: Weight=0.000<br>AEP_Close: Weight=0.222<br>TSLA_Close: Weight=0.049<br>BABA_Close: Weight=0.123<br>ISRG_Close: Weight=0.132<br>MCD_Close: Weight=0.218<br>ABBV_Close: Weight=0.257<br>AAPL_Close: Weight=0.000",
          "Return: 45.929%<br>Volatility: 0.077<br>Sharpe Ratio: 5.995<br>CVX_Close: Weight=0.000<br>AEP_Close: Weight=0.222<br>TSLA_Close: Weight=0.049<br>BABA_Close: Weight=0.123<br>ISRG_Close: Weight=0.132<br>MCD_Close: Weight=0.218<br>ABBV_Close: Weight=0.257<br>ETN_Close: Weight=0.000",
          "Return: 45.928%<br>Volatility: 0.077<br>Sharpe Ratio: 5.995<br>CVX_Close: Weight=0.000<br>AEP_Close: Weight=0.222<br>TSLA_Close: Weight=0.049<br>BABA_Close: Weight=0.123<br>ISRG_Close: Weight=0.132<br>MCD_Close: Weight=0.218<br>ABBV_Close: Weight=0.257<br>V_Close: Weight=0.000",
          "Return: 45.928%<br>Volatility: 0.077<br>Sharpe Ratio: 5.995<br>CVX_Close: Weight=0.000<br>AEP_Close: Weight=0.222<br>TSLA_Close: Weight=0.049<br>BABA_Close: Weight=0.123<br>ISRG_Close: Weight=0.132<br>MCD_Close: Weight=0.218<br>ABBV_Close: Weight=0.257<br>TXN_Close: Weight=0.000",
          "Return: 45.929%<br>Volatility: 0.077<br>Sharpe Ratio: 5.995<br>CVX_Close: Weight=0.000<br>AEP_Close: Weight=0.222<br>TSLA_Close: Weight=0.049<br>BABA_Close: Weight=0.123<br>ISRG_Close: Weight=0.132<br>MCD_Close: Weight=0.218<br>ABBV_Close: Weight=0.257<br>ZBH_Close: Weight=0.000",
          "Return: 45.856%<br>Volatility: 0.076<br>Sharpe Ratio: 5.995<br>CVX_Close: Weight=0.000<br>AEP_Close: Weight=0.221<br>TSLA_Close: Weight=0.049<br>BABA_Close: Weight=0.122<br>ISRG_Close: Weight=0.131<br>MCD_Close: Weight=0.217<br>ABBV_Close: Weight=0.255<br>JNJ_Close: Weight=0.004",
          "Return: 45.736%<br>Volatility: 0.076<br>Sharpe Ratio: 5.996<br>CVX_Close: Weight=0.000<br>AEP_Close: Weight=0.216<br>TSLA_Close: Weight=0.049<br>BABA_Close: Weight=0.121<br>ISRG_Close: Weight=0.130<br>MCD_Close: Weight=0.219<br>ABBV_Close: Weight=0.251<br>MMM_Close: Weight=0.014",
          "Return: 45.927%<br>Volatility: 0.077<br>Sharpe Ratio: 5.995<br>CVX_Close: Weight=0.000<br>AEP_Close: Weight=0.222<br>TSLA_Close: Weight=0.049<br>BABA_Close: Weight=0.123<br>ISRG_Close: Weight=0.132<br>MCD_Close: Weight=0.218<br>ABBV_Close: Weight=0.257<br>CRM_Close: Weight=0.000",
          "Return: 45.932%<br>Volatility: 0.077<br>Sharpe Ratio: 5.995<br>CVX_Close: Weight=0.000<br>AEP_Close: Weight=0.222<br>TSLA_Close: Weight=0.049<br>BABA_Close: Weight=0.123<br>ISRG_Close: Weight=0.132<br>MCD_Close: Weight=0.218<br>ABBV_Close: Weight=0.257<br>SYK_Close: Weight=0.000",
          "Return: 43.670%<br>Volatility: 0.072<br>Sharpe Ratio: 6.100<br>CVX_Close: Weight=0.000<br>AEP_Close: Weight=0.206<br>TSLA_Close: Weight=0.044<br>BABA_Close: Weight=0.111<br>ISRG_Close: Weight=0.125<br>MCD_Close: Weight=0.185<br>ABBV_Close: Weight=0.239<br>WMT_Close: Weight=0.091",
          "Return: 45.931%<br>Volatility: 0.077<br>Sharpe Ratio: 5.995<br>CVX_Close: Weight=0.000<br>AEP_Close: Weight=0.222<br>TSLA_Close: Weight=0.049<br>BABA_Close: Weight=0.123<br>ISRG_Close: Weight=0.132<br>MCD_Close: Weight=0.218<br>ABBV_Close: Weight=0.257<br>TMO_Close: Weight=0.000",
          "Return: 44.935%<br>Volatility: 0.075<br>Sharpe Ratio: 6.004<br>CVX_Close: Weight=0.000<br>AEP_Close: Weight=0.207<br>TSLA_Close: Weight=0.049<br>BABA_Close: Weight=0.117<br>ISRG_Close: Weight=0.120<br>MCD_Close: Weight=0.217<br>ABBV_Close: Weight=0.249<br>LMT_Close: Weight=0.042",
          "Return: 45.931%<br>Volatility: 0.077<br>Sharpe Ratio: 5.995<br>CVX_Close: Weight=0.000<br>AEP_Close: Weight=0.222<br>TSLA_Close: Weight=0.049<br>BABA_Close: Weight=0.123<br>ISRG_Close: Weight=0.132<br>MCD_Close: Weight=0.218<br>ABBV_Close: Weight=0.257<br>RTX_Close: Weight=0.000",
          "Return: 45.927%<br>Volatility: 0.077<br>Sharpe Ratio: 5.995<br>CVX_Close: Weight=0.000<br>AEP_Close: Weight=0.222<br>TSLA_Close: Weight=0.049<br>BABA_Close: Weight=0.123<br>ISRG_Close: Weight=0.132<br>MCD_Close: Weight=0.218<br>ABBV_Close: Weight=0.257<br>BSX_Close: Weight=0.000",
          "Return: 45.924%<br>Volatility: 0.077<br>Sharpe Ratio: 5.995<br>CVX_Close: Weight=0.000<br>AEP_Close: Weight=0.222<br>TSLA_Close: Weight=0.049<br>BABA_Close: Weight=0.123<br>ISRG_Close: Weight=0.132<br>MCD_Close: Weight=0.218<br>ABBV_Close: Weight=0.257<br>CMCSA_Close: Weight=0.000",
          "Return: 45.005%<br>Volatility: 0.074<br>Sharpe Ratio: 6.055<br>CVX_Close: Weight=0.000<br>AEP_Close: Weight=0.126<br>TSLA_Close: Weight=0.047<br>BABA_Close: Weight=0.121<br>ISRG_Close: Weight=0.125<br>MCD_Close: Weight=0.211<br>ABBV_Close: Weight=0.239<br>NEE_Close: Weight=0.131",
          "Return: 43.847%<br>Volatility: 0.072<br>Sharpe Ratio: 6.056<br>CVX_Close: Weight=0.000<br>AEP_Close: Weight=0.145<br>TSLA_Close: Weight=0.047<br>BABA_Close: Weight=0.113<br>ISRG_Close: Weight=0.122<br>MCD_Close: Weight=0.200<br>ABBV_Close: Weight=0.234<br>PEP_Close: Weight=0.138",
          "Return: 45.928%<br>Volatility: 0.077<br>Sharpe Ratio: 5.995<br>CVX_Close: Weight=0.000<br>AEP_Close: Weight=0.222<br>TSLA_Close: Weight=0.049<br>BABA_Close: Weight=0.123<br>ISRG_Close: Weight=0.132<br>MCD_Close: Weight=0.218<br>ABBV_Close: Weight=0.257<br>HON_Close: Weight=0.000",
          "Return: 45.930%<br>Volatility: 0.077<br>Sharpe Ratio: 5.995<br>CVX_Close: Weight=0.000<br>AEP_Close: Weight=0.222<br>TSLA_Close: Weight=0.049<br>BABA_Close: Weight=0.123<br>ISRG_Close: Weight=0.132<br>MCD_Close: Weight=0.218<br>ABBV_Close: Weight=0.257<br>MDT_Close: Weight=0.000",
          "Return: 40.659%<br>Volatility: 0.065<br>Sharpe Ratio: 6.252<br>CVX_Close: Weight=0.000<br>AEP_Close: Weight=0.106<br>TSLA_Close: Weight=0.041<br>BABA_Close: Weight=0.100<br>ISRG_Close: Weight=0.112<br>MCD_Close: Weight=0.165<br>ABBV_Close: Weight=0.209<br>KO_Close: Weight=0.266",
          "Return: 40.729%<br>Volatility: 0.069<br>Sharpe Ratio: 5.945<br>CVX_Close: Weight=0.000<br>AEP_Close: Weight=0.138<br>TSLA_Close: Weight=0.043<br>BABA_Close: Weight=0.103<br>ISRG_Close: Weight=0.134<br>ABBV_Close: Weight=0.231<br>KO_Close: Weight=0.323<br>VRTX_Close: Weight=0.028",
          "Return: 38.794%<br>Volatility: 0.066<br>Sharpe Ratio: 5.837<br>CVX_Close: Weight=0.000<br>AEP_Close: Weight=0.134<br>TSLA_Close: Weight=0.044<br>BABA_Close: Weight=0.106<br>ISRG_Close: Weight=0.145<br>ABBV_Close: Weight=0.245<br>KO_Close: Weight=0.324<br>NVDA_Close: Weight=0.002",
          "Return: 38.780%<br>Volatility: 0.066<br>Sharpe Ratio: 5.837<br>CVX_Close: Weight=0.000<br>AEP_Close: Weight=0.137<br>TSLA_Close: Weight=0.044<br>BABA_Close: Weight=0.107<br>ISRG_Close: Weight=0.144<br>ABBV_Close: Weight=0.243<br>KO_Close: Weight=0.322<br>REGN_Close: Weight=0.004",
          "Return: 38.932%<br>Volatility: 0.067<br>Sharpe Ratio: 5.839<br>CVX_Close: Weight=0.000<br>AEP_Close: Weight=0.132<br>TSLA_Close: Weight=0.044<br>BABA_Close: Weight=0.104<br>ISRG_Close: Weight=0.143<br>ABBV_Close: Weight=0.242<br>KO_Close: Weight=0.323<br>PYPL_Close: Weight=0.012",
          "Return: 39.740%<br>Volatility: 0.067<br>Sharpe Ratio: 5.889<br>CVX_Close: Weight=0.000<br>AEP_Close: Weight=0.109<br>TSLA_Close: Weight=0.041<br>BABA_Close: Weight=0.097<br>ISRG_Close: Weight=0.119<br>ABBV_Close: Weight=0.236<br>KO_Close: Weight=0.324<br>ADBE_Close: Weight=0.074",
          "Return: 38.718%<br>Volatility: 0.066<br>Sharpe Ratio: 5.836<br>CVX_Close: Weight=0.000<br>AEP_Close: Weight=0.135<br>TSLA_Close: Weight=0.044<br>BABA_Close: Weight=0.107<br>ISRG_Close: Weight=0.145<br>ABBV_Close: Weight=0.245<br>KO_Close: Weight=0.323<br>NFLX_Close: Weight=0.000",
          "Return: 38.715%<br>Volatility: 0.066<br>Sharpe Ratio: 5.836<br>CVX_Close: Weight=0.000<br>AEP_Close: Weight=0.135<br>TSLA_Close: Weight=0.044<br>BABA_Close: Weight=0.107<br>ISRG_Close: Weight=0.145<br>ABBV_Close: Weight=0.245<br>KO_Close: Weight=0.323<br>AMZN_Close: Weight=0.000",
          "Return: 38.709%<br>Volatility: 0.066<br>Sharpe Ratio: 5.836<br>CVX_Close: Weight=0.000<br>AEP_Close: Weight=0.135<br>TSLA_Close: Weight=0.044<br>BABA_Close: Weight=0.107<br>ISRG_Close: Weight=0.145<br>ABBV_Close: Weight=0.245<br>KO_Close: Weight=0.323<br>EW_Close: Weight=0.000",
          "Return: 38.714%<br>Volatility: 0.066<br>Sharpe Ratio: 5.836<br>CVX_Close: Weight=0.000<br>AEP_Close: Weight=0.135<br>TSLA_Close: Weight=0.044<br>BABA_Close: Weight=0.107<br>ISRG_Close: Weight=0.145<br>ABBV_Close: Weight=0.245<br>KO_Close: Weight=0.323<br>META_Close: Weight=0.000",
          "Return: 38.715%<br>Volatility: 0.066<br>Sharpe Ratio: 5.836<br>CVX_Close: Weight=0.000<br>AEP_Close: Weight=0.135<br>TSLA_Close: Weight=0.044<br>BABA_Close: Weight=0.107<br>ISRG_Close: Weight=0.145<br>ABBV_Close: Weight=0.245<br>KO_Close: Weight=0.323<br>SAP_Close: Weight=0.000",
          "Return: 40.659%<br>Volatility: 0.065<br>Sharpe Ratio: 6.252<br>CVX_Close: Weight=0.000<br>AEP_Close: Weight=0.106<br>TSLA_Close: Weight=0.041<br>BABA_Close: Weight=0.100<br>ISRG_Close: Weight=0.112<br>ABBV_Close: Weight=0.209<br>KO_Close: Weight=0.266<br>MCD_Close: Weight=0.165",
          "Return: 38.714%<br>Volatility: 0.066<br>Sharpe Ratio: 5.836<br>CVX_Close: Weight=0.000<br>AEP_Close: Weight=0.135<br>TSLA_Close: Weight=0.044<br>BABA_Close: Weight=0.107<br>ISRG_Close: Weight=0.145<br>ABBV_Close: Weight=0.245<br>KO_Close: Weight=0.323<br>GOOG_Close: Weight=0.000",
          "Return: 38.714%<br>Volatility: 0.066<br>Sharpe Ratio: 5.836<br>CVX_Close: Weight=0.000<br>AEP_Close: Weight=0.135<br>TSLA_Close: Weight=0.044<br>BABA_Close: Weight=0.107<br>ISRG_Close: Weight=0.145<br>ABBV_Close: Weight=0.245<br>KO_Close: Weight=0.323<br>GOOGL_Close: Weight=0.000",
          "Return: 38.713%<br>Volatility: 0.066<br>Sharpe Ratio: 5.836<br>CVX_Close: Weight=0.000<br>AEP_Close: Weight=0.135<br>TSLA_Close: Weight=0.044<br>BABA_Close: Weight=0.107<br>ISRG_Close: Weight=0.145<br>ABBV_Close: Weight=0.245<br>KO_Close: Weight=0.323<br>MSFT_Close: Weight=0.000",
          "Return: 38.724%<br>Volatility: 0.065<br>Sharpe Ratio: 5.913<br>CVX_Close: Weight=0.000<br>AEP_Close: Weight=0.134<br>TSLA_Close: Weight=0.043<br>BABA_Close: Weight=0.099<br>ISRG_Close: Weight=0.136<br>ABBV_Close: Weight=0.238<br>KO_Close: Weight=0.290<br>DE_Close: Weight=0.060",
          "Return: 38.717%<br>Volatility: 0.066<br>Sharpe Ratio: 5.836<br>CVX_Close: Weight=0.000<br>AEP_Close: Weight=0.135<br>TSLA_Close: Weight=0.044<br>BABA_Close: Weight=0.107<br>ISRG_Close: Weight=0.145<br>ABBV_Close: Weight=0.245<br>KO_Close: Weight=0.323<br>MA_Close: Weight=0.000",
          "Return: 38.717%<br>Volatility: 0.066<br>Sharpe Ratio: 5.836<br>CVX_Close: Weight=0.000<br>AEP_Close: Weight=0.135<br>TSLA_Close: Weight=0.044<br>BABA_Close: Weight=0.107<br>ISRG_Close: Weight=0.145<br>ABBV_Close: Weight=0.245<br>KO_Close: Weight=0.323<br>ORCL_Close: Weight=0.000",
          "Return: 38.608%<br>Volatility: 0.066<br>Sharpe Ratio: 5.849<br>CVX_Close: Weight=0.000<br>AEP_Close: Weight=0.137<br>TSLA_Close: Weight=0.043<br>BABA_Close: Weight=0.104<br>ISRG_Close: Weight=0.144<br>ABBV_Close: Weight=0.243<br>KO_Close: Weight=0.309<br>CAT_Close: Weight=0.019",
          "Return: 38.714%<br>Volatility: 0.066<br>Sharpe Ratio: 5.836<br>CVX_Close: Weight=0.000<br>AEP_Close: Weight=0.135<br>TSLA_Close: Weight=0.044<br>BABA_Close: Weight=0.107<br>ISRG_Close: Weight=0.145<br>ABBV_Close: Weight=0.245<br>KO_Close: Weight=0.323<br>BTI_Close: Weight=0.000",
          "Return: 38.719%<br>Volatility: 0.066<br>Sharpe Ratio: 5.836<br>CVX_Close: Weight=0.000<br>AEP_Close: Weight=0.135<br>TSLA_Close: Weight=0.044<br>BABA_Close: Weight=0.107<br>ISRG_Close: Weight=0.145<br>ABBV_Close: Weight=0.245<br>KO_Close: Weight=0.323<br>PM_Close: Weight=0.001",
          "Return: 38.536%<br>Volatility: 0.066<br>Sharpe Ratio: 5.860<br>CVX_Close: Weight=0.000<br>AEP_Close: Weight=0.125<br>TSLA_Close: Weight=0.044<br>BABA_Close: Weight=0.107<br>ISRG_Close: Weight=0.133<br>ABBV_Close: Weight=0.228<br>KO_Close: Weight=0.306<br>UNH_Close: Weight=0.056",
          "Return: 38.714%<br>Volatility: 0.066<br>Sharpe Ratio: 5.836<br>CVX_Close: Weight=0.000<br>AEP_Close: Weight=0.135<br>TSLA_Close: Weight=0.044<br>BABA_Close: Weight=0.107<br>ISRG_Close: Weight=0.145<br>ABBV_Close: Weight=0.245<br>KO_Close: Weight=0.323<br>AAPL_Close: Weight=0.000",
          "Return: 38.715%<br>Volatility: 0.066<br>Sharpe Ratio: 5.836<br>CVX_Close: Weight=0.000<br>AEP_Close: Weight=0.135<br>TSLA_Close: Weight=0.044<br>BABA_Close: Weight=0.107<br>ISRG_Close: Weight=0.145<br>ABBV_Close: Weight=0.245<br>KO_Close: Weight=0.323<br>V_Close: Weight=0.000",
          "Return: 38.618%<br>Volatility: 0.066<br>Sharpe Ratio: 5.837<br>CVX_Close: Weight=0.000<br>AEP_Close: Weight=0.135<br>TSLA_Close: Weight=0.044<br>BABA_Close: Weight=0.106<br>ISRG_Close: Weight=0.145<br>ABBV_Close: Weight=0.244<br>KO_Close: Weight=0.320<br>ETN_Close: Weight=0.007",
          "Return: 38.712%<br>Volatility: 0.066<br>Sharpe Ratio: 5.836<br>CVX_Close: Weight=0.000<br>AEP_Close: Weight=0.135<br>TSLA_Close: Weight=0.044<br>BABA_Close: Weight=0.107<br>ISRG_Close: Weight=0.145<br>ABBV_Close: Weight=0.245<br>KO_Close: Weight=0.323<br>TXN_Close: Weight=0.000",
          "Return: 38.718%<br>Volatility: 0.066<br>Sharpe Ratio: 5.836<br>CVX_Close: Weight=0.000<br>AEP_Close: Weight=0.135<br>TSLA_Close: Weight=0.044<br>BABA_Close: Weight=0.107<br>ISRG_Close: Weight=0.145<br>ABBV_Close: Weight=0.245<br>KO_Close: Weight=0.323<br>SYK_Close: Weight=0.000",
          "Return: 38.715%<br>Volatility: 0.066<br>Sharpe Ratio: 5.836<br>CVX_Close: Weight=0.000<br>AEP_Close: Weight=0.135<br>TSLA_Close: Weight=0.044<br>BABA_Close: Weight=0.107<br>ISRG_Close: Weight=0.145<br>ABBV_Close: Weight=0.245<br>KO_Close: Weight=0.323<br>JNJ_Close: Weight=0.000",
          "Return: 38.714%<br>Volatility: 0.066<br>Sharpe Ratio: 5.836<br>CVX_Close: Weight=0.000<br>AEP_Close: Weight=0.135<br>TSLA_Close: Weight=0.044<br>BABA_Close: Weight=0.107<br>ISRG_Close: Weight=0.145<br>ABBV_Close: Weight=0.245<br>KO_Close: Weight=0.323<br>MMM_Close: Weight=0.000",
          "Return: 38.717%<br>Volatility: 0.066<br>Sharpe Ratio: 5.836<br>CVX_Close: Weight=0.000<br>AEP_Close: Weight=0.135<br>TSLA_Close: Weight=0.044<br>BABA_Close: Weight=0.107<br>ISRG_Close: Weight=0.145<br>ABBV_Close: Weight=0.245<br>KO_Close: Weight=0.323<br>ZBH_Close: Weight=0.000",
          "Return: 38.714%<br>Volatility: 0.066<br>Sharpe Ratio: 5.836<br>CVX_Close: Weight=0.000<br>AEP_Close: Weight=0.135<br>TSLA_Close: Weight=0.044<br>BABA_Close: Weight=0.107<br>ISRG_Close: Weight=0.145<br>ABBV_Close: Weight=0.245<br>KO_Close: Weight=0.323<br>CRM_Close: Weight=0.000",
          "Return: 38.712%<br>Volatility: 0.066<br>Sharpe Ratio: 5.836<br>CVX_Close: Weight=0.000<br>AEP_Close: Weight=0.135<br>TSLA_Close: Weight=0.044<br>BABA_Close: Weight=0.107<br>ISRG_Close: Weight=0.145<br>ABBV_Close: Weight=0.245<br>KO_Close: Weight=0.323<br>BSX_Close: Weight=0.000",
          "Return: 38.714%<br>Volatility: 0.066<br>Sharpe Ratio: 5.836<br>CVX_Close: Weight=0.000<br>AEP_Close: Weight=0.135<br>TSLA_Close: Weight=0.044<br>BABA_Close: Weight=0.107<br>ISRG_Close: Weight=0.145<br>ABBV_Close: Weight=0.245<br>KO_Close: Weight=0.323<br>LMT_Close: Weight=0.000",
          "Return: 38.718%<br>Volatility: 0.066<br>Sharpe Ratio: 5.836<br>CVX_Close: Weight=0.000<br>AEP_Close: Weight=0.135<br>TSLA_Close: Weight=0.044<br>BABA_Close: Weight=0.107<br>ISRG_Close: Weight=0.145<br>ABBV_Close: Weight=0.245<br>KO_Close: Weight=0.323<br>PEP_Close: Weight=0.000",
          "Return: 38.716%<br>Volatility: 0.066<br>Sharpe Ratio: 5.836<br>CVX_Close: Weight=0.000<br>AEP_Close: Weight=0.135<br>TSLA_Close: Weight=0.044<br>BABA_Close: Weight=0.107<br>ISRG_Close: Weight=0.145<br>ABBV_Close: Weight=0.245<br>KO_Close: Weight=0.323<br>RTX_Close: Weight=0.000",
          "Return: 38.714%<br>Volatility: 0.066<br>Sharpe Ratio: 5.836<br>CVX_Close: Weight=0.000<br>AEP_Close: Weight=0.135<br>TSLA_Close: Weight=0.044<br>BABA_Close: Weight=0.107<br>ISRG_Close: Weight=0.145<br>ABBV_Close: Weight=0.245<br>KO_Close: Weight=0.323<br>TMO_Close: Weight=0.000",
          "Return: 38.717%<br>Volatility: 0.066<br>Sharpe Ratio: 5.836<br>CVX_Close: Weight=0.000<br>AEP_Close: Weight=0.135<br>TSLA_Close: Weight=0.044<br>BABA_Close: Weight=0.107<br>ISRG_Close: Weight=0.145<br>ABBV_Close: Weight=0.245<br>KO_Close: Weight=0.323<br>HON_Close: Weight=0.000",
          "Return: 37.396%<br>Volatility: 0.062<br>Sharpe Ratio: 5.984<br>CVX_Close: Weight=0.000<br>AEP_Close: Weight=0.130<br>TSLA_Close: Weight=0.039<br>BABA_Close: Weight=0.096<br>ISRG_Close: Weight=0.135<br>ABBV_Close: Weight=0.227<br>KO_Close: Weight=0.278<br>WMT_Close: Weight=0.094",
          "Return: 38.355%<br>Volatility: 0.065<br>Sharpe Ratio: 5.874<br>CVX_Close: Weight=0.000<br>AEP_Close: Weight=0.073<br>TSLA_Close: Weight=0.043<br>BABA_Close: Weight=0.107<br>ISRG_Close: Weight=0.141<br>ABBV_Close: Weight=0.235<br>KO_Close: Weight=0.309<br>NEE_Close: Weight=0.093",
          "Return: 38.715%<br>Volatility: 0.066<br>Sharpe Ratio: 5.836<br>CVX_Close: Weight=0.000<br>AEP_Close: Weight=0.135<br>TSLA_Close: Weight=0.044<br>BABA_Close: Weight=0.107<br>ISRG_Close: Weight=0.145<br>ABBV_Close: Weight=0.245<br>KO_Close: Weight=0.323<br>MDT_Close: Weight=0.000",
          "Return: 38.711%<br>Volatility: 0.066<br>Sharpe Ratio: 5.836<br>CVX_Close: Weight=0.000<br>AEP_Close: Weight=0.135<br>TSLA_Close: Weight=0.044<br>BABA_Close: Weight=0.107<br>ISRG_Close: Weight=0.145<br>ABBV_Close: Weight=0.245<br>KO_Close: Weight=0.323<br>CMCSA_Close: Weight=0.000",
          "Return: 38.717%<br>Volatility: 0.066<br>Sharpe Ratio: 5.836<br>CVX_Close: Weight=0.000<br>AEP_Close: Weight=0.135<br>TSLA_Close: Weight=0.044<br>BABA_Close: Weight=0.107<br>ISRG_Close: Weight=0.145<br>ABBV_Close: Weight=0.245<br>KO_Close: Weight=0.323<br>BA_Close: Weight=0.000",
          "Return: 38.553%<br>Volatility: 0.066<br>Sharpe Ratio: 5.838<br>CVX_Close: Weight=0.000<br>AEP_Close: Weight=0.120<br>TSLA_Close: Weight=0.044<br>BABA_Close: Weight=0.107<br>ISRG_Close: Weight=0.145<br>ABBV_Close: Weight=0.241<br>KO_Close: Weight=0.321<br>SRE_Close: Weight=0.022",
          "Return: 38.600%<br>Volatility: 0.066<br>Sharpe Ratio: 5.837<br>CVX_Close: Weight=0.000<br>AEP_Close: Weight=0.134<br>TSLA_Close: Weight=0.044<br>BABA_Close: Weight=0.106<br>ISRG_Close: Weight=0.145<br>ABBV_Close: Weight=0.244<br>KO_Close: Weight=0.321<br>HD_Close: Weight=0.005",
          "Return: 38.719%<br>Volatility: 0.066<br>Sharpe Ratio: 5.836<br>CVX_Close: Weight=0.000<br>AEP_Close: Weight=0.135<br>TSLA_Close: Weight=0.044<br>BABA_Close: Weight=0.107<br>ISRG_Close: Weight=0.145<br>ABBV_Close: Weight=0.245<br>KO_Close: Weight=0.323<br>LLY_Close: Weight=0.000",
          "Return: 38.716%<br>Volatility: 0.066<br>Sharpe Ratio: 5.836<br>CVX_Close: Weight=0.000<br>AEP_Close: Weight=0.135<br>TSLA_Close: Weight=0.044<br>BABA_Close: Weight=0.107<br>ISRG_Close: Weight=0.145<br>ABBV_Close: Weight=0.245<br>KO_Close: Weight=0.323<br>QCOM_Close: Weight=0.000",
          "Return: 38.715%<br>Volatility: 0.066<br>Sharpe Ratio: 5.836<br>CVX_Close: Weight=0.000<br>AEP_Close: Weight=0.135<br>TSLA_Close: Weight=0.044<br>BABA_Close: Weight=0.107<br>ISRG_Close: Weight=0.145<br>ABBV_Close: Weight=0.245<br>KO_Close: Weight=0.323<br>DUK_Close: Weight=0.000",
          "Return: 38.712%<br>Volatility: 0.066<br>Sharpe Ratio: 5.836<br>CVX_Close: Weight=0.000<br>AEP_Close: Weight=0.135<br>TSLA_Close: Weight=0.044<br>BABA_Close: Weight=0.107<br>ISRG_Close: Weight=0.145<br>ABBV_Close: Weight=0.245<br>KO_Close: Weight=0.323<br>ABT_Close: Weight=0.000",
          "Return: 38.711%<br>Volatility: 0.066<br>Sharpe Ratio: 5.836<br>CVX_Close: Weight=0.000<br>AEP_Close: Weight=0.135<br>TSLA_Close: Weight=0.044<br>BABA_Close: Weight=0.107<br>ISRG_Close: Weight=0.145<br>ABBV_Close: Weight=0.245<br>KO_Close: Weight=0.323<br>RMD_Close: Weight=0.000",
          "Return: 38.713%<br>Volatility: 0.066<br>Sharpe Ratio: 5.836<br>CVX_Close: Weight=0.000<br>AEP_Close: Weight=0.135<br>TSLA_Close: Weight=0.044<br>BABA_Close: Weight=0.107<br>ISRG_Close: Weight=0.145<br>ABBV_Close: Weight=0.245<br>KO_Close: Weight=0.323<br>DIS_Close: Weight=0.000",
          "Return: 38.712%<br>Volatility: 0.066<br>Sharpe Ratio: 5.836<br>CVX_Close: Weight=0.000<br>AEP_Close: Weight=0.135<br>TSLA_Close: Weight=0.044<br>BABA_Close: Weight=0.107<br>ISRG_Close: Weight=0.145<br>ABBV_Close: Weight=0.245<br>KO_Close: Weight=0.323<br>ACN_Close: Weight=0.000",
          "Return: 38.715%<br>Volatility: 0.066<br>Sharpe Ratio: 5.836<br>CVX_Close: Weight=0.000<br>AEP_Close: Weight=0.135<br>TSLA_Close: Weight=0.044<br>BABA_Close: Weight=0.107<br>ISRG_Close: Weight=0.145<br>ABBV_Close: Weight=0.245<br>KO_Close: Weight=0.323<br>EMR_Close: Weight=0.000",
          "Return: 38.715%<br>Volatility: 0.066<br>Sharpe Ratio: 5.836<br>CVX_Close: Weight=0.000<br>AEP_Close: Weight=0.135<br>TSLA_Close: Weight=0.044<br>BABA_Close: Weight=0.107<br>ISRG_Close: Weight=0.145<br>ABBV_Close: Weight=0.245<br>KO_Close: Weight=0.323<br>INTC_Close: Weight=0.000",
          "Return: 38.713%<br>Volatility: 0.066<br>Sharpe Ratio: 5.836<br>CVX_Close: Weight=0.000<br>AEP_Close: Weight=0.135<br>TSLA_Close: Weight=0.044<br>BABA_Close: Weight=0.107<br>ISRG_Close: Weight=0.145<br>ABBV_Close: Weight=0.245<br>KO_Close: Weight=0.323<br>SO_Close: Weight=0.000",
          "Return: 38.715%<br>Volatility: 0.066<br>Sharpe Ratio: 5.836<br>CVX_Close: Weight=0.000<br>AEP_Close: Weight=0.135<br>TSLA_Close: Weight=0.044<br>BABA_Close: Weight=0.107<br>ISRG_Close: Weight=0.145<br>ABBV_Close: Weight=0.245<br>KO_Close: Weight=0.323<br>EXC_Close: Weight=0.000",
          "Return: 38.714%<br>Volatility: 0.066<br>Sharpe Ratio: 5.836<br>CVX_Close: Weight=0.000<br>AEP_Close: Weight=0.135<br>TSLA_Close: Weight=0.044<br>BABA_Close: Weight=0.107<br>ISRG_Close: Weight=0.145<br>ABBV_Close: Weight=0.245<br>KO_Close: Weight=0.323<br>MO_Close: Weight=0.000",
          "Return: 38.714%<br>Volatility: 0.066<br>Sharpe Ratio: 5.836<br>CVX_Close: Weight=0.000<br>AEP_Close: Weight=0.135<br>TSLA_Close: Weight=0.044<br>BABA_Close: Weight=0.107<br>ISRG_Close: Weight=0.145<br>ABBV_Close: Weight=0.245<br>KO_Close: Weight=0.323<br>DHR_Close: Weight=0.000",
          "Return: 38.712%<br>Volatility: 0.066<br>Sharpe Ratio: 5.836<br>CVX_Close: Weight=0.000<br>AEP_Close: Weight=0.135<br>TSLA_Close: Weight=0.044<br>BABA_Close: Weight=0.107<br>ISRG_Close: Weight=0.145<br>ABBV_Close: Weight=0.245<br>KO_Close: Weight=0.323<br>SYY_Close: Weight=0.000",
          "Return: 38.715%<br>Volatility: 0.066<br>Sharpe Ratio: 5.836<br>CVX_Close: Weight=0.000<br>AEP_Close: Weight=0.135<br>TSLA_Close: Weight=0.044<br>BABA_Close: Weight=0.107<br>ISRG_Close: Weight=0.145<br>ABBV_Close: Weight=0.245<br>KO_Close: Weight=0.323<br>BMY_Close: Weight=0.000",
          "Return: 38.713%<br>Volatility: 0.066<br>Sharpe Ratio: 5.836<br>CVX_Close: Weight=0.000<br>AEP_Close: Weight=0.135<br>TSLA_Close: Weight=0.044<br>BABA_Close: Weight=0.107<br>ISRG_Close: Weight=0.145<br>ABBV_Close: Weight=0.245<br>KO_Close: Weight=0.323<br>PG_Close: Weight=0.000",
          "Return: 38.715%<br>Volatility: 0.066<br>Sharpe Ratio: 5.836<br>CVX_Close: Weight=0.000<br>AEP_Close: Weight=0.135<br>TSLA_Close: Weight=0.044<br>BABA_Close: Weight=0.107<br>ISRG_Close: Weight=0.145<br>ABBV_Close: Weight=0.245<br>KO_Close: Weight=0.323<br>MRK_Close: Weight=0.000",
          "Return: 38.717%<br>Volatility: 0.066<br>Sharpe Ratio: 5.836<br>CVX_Close: Weight=0.000<br>AEP_Close: Weight=0.135<br>TSLA_Close: Weight=0.044<br>BABA_Close: Weight=0.107<br>ISRG_Close: Weight=0.145<br>ABBV_Close: Weight=0.245<br>KO_Close: Weight=0.323<br>PFE_Close: Weight=0.000",
          "Return: 38.714%<br>Volatility: 0.066<br>Sharpe Ratio: 5.836<br>CVX_Close: Weight=0.000<br>AEP_Close: Weight=0.135<br>TSLA_Close: Weight=0.044<br>BABA_Close: Weight=0.107<br>ISRG_Close: Weight=0.145<br>ABBV_Close: Weight=0.245<br>KO_Close: Weight=0.323<br>XOM_Close: Weight=0.000",
          "Return: 38.715%<br>Volatility: 0.066<br>Sharpe Ratio: 5.836<br>CVX_Close: Weight=0.000<br>AEP_Close: Weight=0.135<br>TSLA_Close: Weight=0.044<br>BABA_Close: Weight=0.107<br>ISRG_Close: Weight=0.145<br>ABBV_Close: Weight=0.245<br>KO_Close: Weight=0.323<br>GILD_Close: Weight=0.000",
          "Return: 38.706%<br>Volatility: 0.066<br>Sharpe Ratio: 5.836<br>CVX_Close: Weight=0.000<br>AEP_Close: Weight=0.135<br>TSLA_Close: Weight=0.044<br>BABA_Close: Weight=0.107<br>ISRG_Close: Weight=0.145<br>ABBV_Close: Weight=0.245<br>KO_Close: Weight=0.323<br>JPM_Close: Weight=0.000",
          "Return: 38.708%<br>Volatility: 0.066<br>Sharpe Ratio: 5.836<br>CVX_Close: Weight=0.000<br>AEP_Close: Weight=0.135<br>TSLA_Close: Weight=0.044<br>BABA_Close: Weight=0.107<br>ISRG_Close: Weight=0.145<br>ABBV_Close: Weight=0.245<br>KO_Close: Weight=0.323<br>MS_Close: Weight=0.000",
          "Return: 38.715%<br>Volatility: 0.066<br>Sharpe Ratio: 5.836<br>CVX_Close: Weight=0.000<br>AEP_Close: Weight=0.135<br>TSLA_Close: Weight=0.044<br>BABA_Close: Weight=0.107<br>ISRG_Close: Weight=0.145<br>ABBV_Close: Weight=0.245<br>KO_Close: Weight=0.323<br>T_Close: Weight=0.000",
          "Return: 38.715%<br>Volatility: 0.066<br>Sharpe Ratio: 5.836<br>CVX_Close: Weight=0.000<br>AEP_Close: Weight=0.135<br>TSLA_Close: Weight=0.044<br>BABA_Close: Weight=0.107<br>ISRG_Close: Weight=0.145<br>ABBV_Close: Weight=0.245<br>KO_Close: Weight=0.323<br>CSCO_Close: Weight=0.000",
          "Return: 38.716%<br>Volatility: 0.066<br>Sharpe Ratio: 5.836<br>CVX_Close: Weight=0.000<br>AEP_Close: Weight=0.135<br>TSLA_Close: Weight=0.044<br>BABA_Close: Weight=0.107<br>ISRG_Close: Weight=0.145<br>ABBV_Close: Weight=0.245<br>KO_Close: Weight=0.323<br>AMGN_Close: Weight=0.000",
          "Return: 38.721%<br>Volatility: 0.066<br>Sharpe Ratio: 5.836<br>CVX_Close: Weight=0.000<br>AEP_Close: Weight=0.135<br>TSLA_Close: Weight=0.044<br>BABA_Close: Weight=0.107<br>ISRG_Close: Weight=0.145<br>ABBV_Close: Weight=0.245<br>KO_Close: Weight=0.323<br>VZ_Close: Weight=0.000",
          "Return: 38.715%<br>Volatility: 0.066<br>Sharpe Ratio: 5.836<br>CVX_Close: Weight=0.000<br>AEP_Close: Weight=0.135<br>TSLA_Close: Weight=0.044<br>BABA_Close: Weight=0.107<br>ISRG_Close: Weight=0.145<br>ABBV_Close: Weight=0.245<br>KO_Close: Weight=0.323<br>BAC_Close: Weight=0.000",
          "Return: 38.712%<br>Volatility: 0.066<br>Sharpe Ratio: 5.836<br>CVX_Close: Weight=0.000<br>AEP_Close: Weight=0.135<br>TSLA_Close: Weight=0.044<br>BABA_Close: Weight=0.107<br>ISRG_Close: Weight=0.145<br>ABBV_Close: Weight=0.245<br>KO_Close: Weight=0.323<br>GIS_Close: Weight=0.000",
          "Return: 38.715%<br>Volatility: 0.066<br>Sharpe Ratio: 5.836<br>CVX_Close: Weight=0.000<br>AEP_Close: Weight=0.135<br>TSLA_Close: Weight=0.044<br>BABA_Close: Weight=0.107<br>ISRG_Close: Weight=0.145<br>ABBV_Close: Weight=0.245<br>KO_Close: Weight=0.323<br>K_Close: Weight=0.000",
          "Return: 38.716%<br>Volatility: 0.066<br>Sharpe Ratio: 5.836<br>CVX_Close: Weight=0.000<br>AEP_Close: Weight=0.135<br>TSLA_Close: Weight=0.044<br>BABA_Close: Weight=0.107<br>ISRG_Close: Weight=0.145<br>ABBV_Close: Weight=0.245<br>KO_Close: Weight=0.323<br>BIIB_Close: Weight=0.000",
          "Return: 38.715%<br>Volatility: 0.066<br>Sharpe Ratio: 5.836<br>CVX_Close: Weight=0.000<br>AEP_Close: Weight=0.135<br>TSLA_Close: Weight=0.044<br>BABA_Close: Weight=0.107<br>ISRG_Close: Weight=0.145<br>ABBV_Close: Weight=0.245<br>KO_Close: Weight=0.323<br>GE_Close: Weight=0.000",
          "Return: 38.714%<br>Volatility: 0.066<br>Sharpe Ratio: 5.836<br>CVX_Close: Weight=0.000<br>AEP_Close: Weight=0.135<br>TSLA_Close: Weight=0.044<br>BABA_Close: Weight=0.107<br>ISRG_Close: Weight=0.145<br>ABBV_Close: Weight=0.245<br>KO_Close: Weight=0.323<br>NKE_Close: Weight=0.000",
          "Return: 38.715%<br>Volatility: 0.066<br>Sharpe Ratio: 5.836<br>CVX_Close: Weight=0.000<br>AEP_Close: Weight=0.135<br>TSLA_Close: Weight=0.044<br>BABA_Close: Weight=0.107<br>ISRG_Close: Weight=0.145<br>ABBV_Close: Weight=0.245<br>KO_Close: Weight=0.323<br>GM_Close: Weight=0.000",
          "Return: 38.716%<br>Volatility: 0.066<br>Sharpe Ratio: 5.836<br>CVX_Close: Weight=0.000<br>AEP_Close: Weight=0.135<br>TSLA_Close: Weight=0.044<br>BABA_Close: Weight=0.107<br>ISRG_Close: Weight=0.145<br>ABBV_Close: Weight=0.245<br>KO_Close: Weight=0.323<br>UA_Close: Weight=0.000",
          "Return: 38.716%<br>Volatility: 0.066<br>Sharpe Ratio: 5.836<br>CVX_Close: Weight=0.000<br>AEP_Close: Weight=0.135<br>TSLA_Close: Weight=0.044<br>BABA_Close: Weight=0.107<br>ISRG_Close: Weight=0.145<br>ABBV_Close: Weight=0.245<br>KO_Close: Weight=0.323<br>WFC_Close: Weight=0.000",
          "Return: 38.717%<br>Volatility: 0.066<br>Sharpe Ratio: 5.836<br>CVX_Close: Weight=0.000<br>AEP_Close: Weight=0.135<br>TSLA_Close: Weight=0.044<br>BABA_Close: Weight=0.107<br>ISRG_Close: Weight=0.145<br>ABBV_Close: Weight=0.245<br>KO_Close: Weight=0.323<br>RDY_Close: Weight=0.000",
          "Return: 38.719%<br>Volatility: 0.066<br>Sharpe Ratio: 5.836<br>CVX_Close: Weight=0.000<br>AEP_Close: Weight=0.135<br>TSLA_Close: Weight=0.044<br>BABA_Close: Weight=0.107<br>ISRG_Close: Weight=0.145<br>ABBV_Close: Weight=0.245<br>KO_Close: Weight=0.323<br>CPB_Close: Weight=0.000",
          "Return: 38.714%<br>Volatility: 0.066<br>Sharpe Ratio: 5.836<br>CVX_Close: Weight=0.000<br>AEP_Close: Weight=0.135<br>TSLA_Close: Weight=0.044<br>BABA_Close: Weight=0.107<br>ISRG_Close: Weight=0.145<br>ABBV_Close: Weight=0.245<br>KO_Close: Weight=0.323<br>GS_Close: Weight=0.000",
          "Return: 38.715%<br>Volatility: 0.066<br>Sharpe Ratio: 5.836<br>CVX_Close: Weight=0.000<br>AEP_Close: Weight=0.135<br>TSLA_Close: Weight=0.044<br>BABA_Close: Weight=0.107<br>ISRG_Close: Weight=0.145<br>ABBV_Close: Weight=0.245<br>KO_Close: Weight=0.323<br>F_Close: Weight=0.000",
          "Return: 38.714%<br>Volatility: 0.066<br>Sharpe Ratio: 5.836<br>CVX_Close: Weight=0.000<br>AEP_Close: Weight=0.135<br>TSLA_Close: Weight=0.044<br>BABA_Close: Weight=0.107<br>ISRG_Close: Weight=0.145<br>ABBV_Close: Weight=0.245<br>KO_Close: Weight=0.323<br>AMD_Close: Weight=0.000",
          "Return: 38.714%<br>Volatility: 0.066<br>Sharpe Ratio: 5.836<br>CVX_Close: Weight=0.000<br>AEP_Close: Weight=0.135<br>TSLA_Close: Weight=0.044<br>BABA_Close: Weight=0.107<br>ISRG_Close: Weight=0.145<br>ABBV_Close: Weight=0.245<br>KO_Close: Weight=0.323<br>IBM_Close: Weight=0.000",
          "Return: 38.723%<br>Volatility: 0.066<br>Sharpe Ratio: 5.836<br>CVX_Close: Weight=0.000<br>AEP_Close: Weight=0.135<br>TSLA_Close: Weight=0.044<br>BABA_Close: Weight=0.107<br>ISRG_Close: Weight=0.145<br>ABBV_Close: Weight=0.245<br>KO_Close: Weight=0.323<br>COST_Close: Weight=0.000"
         ],
         "type": "scatter",
         "x": [
          0.09467553165124272,
          0.10873310792469262,
          0.11385570965000863,
          0.10794578675100755,
          0.10794578707243341,
          0.09248002194817084,
          0.09248002258951493,
          0.08954812633465781,
          0.08720045463043503,
          0.09001789344589897,
          0.08958262051654539,
          0.08797901706003097,
          0.08798150646518597,
          0.08439995968351101,
          0.08808452894791928,
          0.08808452894791928,
          0.08485715764652264,
          0.0843720799876073,
          0.08571649050723536,
          0.08644223044530323,
          0.08439747531040774,
          0.08440016819134065,
          0.08439861370089748,
          0.08441057502939782,
          0.07995441958983625,
          0.08303960219344772,
          0.08303960219344772,
          0.08001226068308744,
          0.07975978433602855,
          0.0809504260897888,
          0.08163973952924229,
          0.08000809841671266,
          0.080036065383454,
          0.08001168270487048,
          0.08000540563292506,
          0.07528068023806708,
          0.07925553903085147,
          0.07925553903085147,
          0.07661080285293707,
          0.07673247340838087,
          0.0766281534531238,
          0.07778537266634933,
          0.07660515385405818,
          0.07661240198588072,
          0.07660464873823151,
          0.07660184001651975,
          0.07661116323318656,
          0.07513867866219157,
          0.07661761059892028,
          0.07661276077777515,
          0.07660744134728278,
          0.07661530282307356,
          0.07660115140550161,
          0.07660772148709545,
          0.07661006073365956,
          0.07583816809442223,
          0.07528068016133507,
          0.07661178321434377,
          0.07661254520456534,
          0.07661134944466363,
          0.07661102132273132,
          0.07661386166816168,
          0.07649086601250375,
          0.076279065857247,
          0.07660990379486449,
          0.07661770020939188,
          0.07159515595519148,
          0.07661611491070523,
          0.07484661924582373,
          0.07661634469608478,
          0.07661016115434895,
          0.07660552283770007,
          0.0743275842028362,
          0.07240754922588151,
          0.07661224493000496,
          0.07661551613021213,
          0.06503659834769164,
          0.06851135660614348,
          0.06646519639003409,
          0.0664369625023268,
          0.06667296731930743,
          0.06747935115126802,
          0.06633981837871959,
          0.06633435773493958,
          0.0663249444936576,
          0.06633291988984985,
          0.06633432741331663,
          0.06503659857197891,
          0.06633279704231788,
          0.06633267703238378,
          0.06633175025289062,
          0.06549349895431929,
          0.06633811324349087,
          0.06633860447082691,
          0.0660057695213867,
          0.06633341399450063,
          0.06634199415294686,
          0.06576000093941277,
          0.06633363682558399,
          0.06633372543724524,
          0.06616194252678975,
          0.06632950965098666,
          0.06633883293842549,
          0.06633396060721128,
          0.06633228022575277,
          0.06633797755638131,
          0.0663326026904086,
          0.06632998067541328,
          0.06633292537760341,
          0.06634049512134123,
          0.06633700121593473,
          0.0663332368085282,
          0.06633751028151177,
          0.06249353127638199,
          0.06529961794085092,
          0.06633398873376672,
          0.0663276045007841,
          0.06633779753720681,
          0.06603499245923712,
          0.06613483237983721,
          0.06634164389309585,
          0.06633630312213662,
          0.06633474974177428,
          0.06632882705126912,
          0.06632751094775112,
          0.06633043025019951,
          0.06632914486005348,
          0.06633375721729005,
          0.06633408634426141,
          0.06633105187853676,
          0.06633436529383287,
          0.06633345744549671,
          0.06633284721090559,
          0.0663294237477642,
          0.06633370831694953,
          0.06633103797024201,
          0.06633402851814904,
          0.06633820164213616,
          0.06633339019580702,
          0.06633523944347561,
          0.06631836649219024,
          0.06632334908819702,
          0.066334176471232,
          0.06633375513810283,
          0.06633594215945408,
          0.06634428097584061,
          0.06633445554993805,
          0.06632940026893085,
          0.06633469927314328,
          0.06633595661177621,
          0.06633388656388577,
          0.06633224214108889,
          0.06633413988111095,
          0.06633640285243227,
          0.06633585451752708,
          0.06633764625811299,
          0.06634069901158188,
          0.06633351547383057,
          0.06633417618363424,
          0.0663328196853694,
          0.06633362757806444,
          0.06634793276527046
         ],
         "y": [
          0.28299027595077153,
          0.40769948245516957,
          0.48248465501839566,
          0.5025141750088306,
          0.5025141765047606,
          0.4684977377723501,
          0.4684977410212962,
          0.42888958815043016,
          0.43191475287331527,
          0.4556449001894452,
          0.4418788880592728,
          0.4195243691810477,
          0.4195362392233879,
          0.4321112213359664,
          0.4677914803728793,
          0.4677914803728793,
          0.43460638688802217,
          0.43798940492649624,
          0.44517252778658906,
          0.45025893396593974,
          0.43209850312960973,
          0.43211229110538324,
          0.4321043208079797,
          0.4321655608462277,
          0.44856404348806045,
          0.4873579405170074,
          0.4873579405170074,
          0.447909146087509,
          0.4546650427343389,
          0.4565656827602455,
          0.46419079199121455,
          0.4478858427774216,
          0.4480578782195283,
          0.44790591165414384,
          0.44787076751156685,
          0.45312372026253733,
          0.4877874071120816,
          0.4877874071120816,
          0.45927468358895024,
          0.4615806718851529,
          0.45937917801344225,
          0.4693307273844737,
          0.4592407939226605,
          0.4592842823265074,
          0.45923778635316787,
          0.4592209390946947,
          0.4592768531342094,
          0.4532283420797218,
          0.45931548823721474,
          0.45928641251885977,
          0.45925453656817705,
          0.4593016624258688,
          0.45921680056940883,
          0.4592562133412197,
          0.4592702460494728,
          0.4571202400296782,
          0.4531237198003332,
          0.45928057170153375,
          0.4592851170380073,
          0.45927797175853924,
          0.45927600356818205,
          0.4592930312078457,
          0.4585609010405993,
          0.4573565223403536,
          0.4592692957567429,
          0.4593160179445308,
          0.4367008493635624,
          0.45930652583485754,
          0.4493509272125546,
          0.4593079110780859,
          0.4592708397864948,
          0.4592430283370864,
          0.45004505392404315,
          0.4384722198732744,
          0.45928334023305206,
          0.4593029458500908,
          0.4065928711996196,
          0.4072862823452571,
          0.3879448096518397,
          0.38780052111302293,
          0.38931819211051205,
          0.39739793261920875,
          0.3871809441691937,
          0.38714907595876,
          0.3870941251814083,
          0.3871406911607913,
          0.3871489058210664,
          0.40659287260180643,
          0.3871399718880683,
          0.38713927038440177,
          0.38713383341283375,
          0.387236669296643,
          0.38717099573558955,
          0.3871738646391286,
          0.3860781777952432,
          0.3871435749831344,
          0.3871939144782833,
          0.38535692357291895,
          0.3871448755037801,
          0.38714539268036896,
          0.3861791972425137,
          0.38712078520147003,
          0.3871751963972774,
          0.3871467648720689,
          0.38713695730310105,
          0.38717019222777027,
          0.38713881366609587,
          0.3871235306819533,
          0.3871407218513986,
          0.38718489486427404,
          0.38716450916656614,
          0.38714253365927426,
          0.3871674618159811,
          0.37396325619817594,
          0.3835488697005774,
          0.38714692183048105,
          0.38710966256214363,
          0.38716912803985776,
          0.38553350413705945,
          0.38600441564020205,
          0.3871915859916869,
          0.3871604199442716,
          0.38715136724849863,
          0.38711678397551863,
          0.3871091052792988,
          0.38712614648453925,
          0.38711864856766803,
          0.38714556422724344,
          0.38714749824357164,
          0.3871297876892642,
          0.3871491266689108,
          0.3871438231736626,
          0.3871402669565568,
          0.38712028351063804,
          0.38714529140070003,
          0.38712970266848845,
          0.38714716114778663,
          0.38717148449637695,
          0.38714343603577955,
          0.3871542268182621,
          0.38705571373432573,
          0.38708481621114743,
          0.38714802418352207,
          0.38714556485757456,
          0.3871583261359262,
          0.3872069798499797,
          0.3871496534636953,
          0.3871201347319935,
          0.3871510625587543,
          0.3871584126095433,
          0.3871463330462404,
          0.38713673391286246,
          0.3871478108913314,
          0.38716099603459286,
          0.38715781695119456,
          0.3871682716837421,
          0.38718608091519724,
          0.387144160608974,
          0.3871480225673141,
          0.38714010407442806,
          0.38714482139603185,
          0.38722827971424256
         ]
        },
        {
         "hoverinfo": "text",
         "hovertext": [
          "NVDA_Close <br>Volatility: 0.443 <br>Returns: 108.207% <br>Sharpe Ratio: 3.537",
          "BMY_Close <br>Volatility: 0.182 <br>Returns: -8.623% <br>Sharpe Ratio: 3.836",
          "SYK_Close <br>Volatility: 0.116 <br>Returns: 19.679% <br>Sharpe Ratio: 4.376",
          "MMM_Close <br>Volatility: 0.118 <br>Returns: 21.627% <br>Sharpe Ratio: 4.376",
          "UA_Close <br>Volatility: 0.335 <br>Returns: -33.044% <br>Sharpe Ratio: 4.376",
          "F_Close <br>Volatility: 0.186 <br>Returns: -46.688% <br>Sharpe Ratio: 4.376",
          "SRE_Close <br>Volatility: 0.107 <br>Returns: 12.842% <br>Sharpe Ratio: 4.376",
          "MA_Close <br>Volatility: 0.124 <br>Returns: 28.689% <br>Sharpe Ratio: 4.734",
          "SNAP_Close <br>Volatility: 0.669 <br>Returns: -122.379% <br>Sharpe Ratio: 4.734",
          "SYY_Close <br>Volatility: 0.155 <br>Returns: -6.895% <br>Sharpe Ratio: 4.734",
          "WFC_Close <br>Volatility: 0.176 <br>Returns: -30.961% <br>Sharpe Ratio: 4.677",
          "CMCSA_Close <br>Volatility: 0.154 <br>Returns: 14.957% <br>Sharpe Ratio: 4.677",
          "PYPL_Close <br>Volatility: 0.210 <br>Returns: 61.041% <br>Sharpe Ratio: 4.677",
          "ORCL_Close <br>Volatility: 0.187 <br>Returns: 34.500% <br>Sharpe Ratio: 4.941",
          "BABA_Close <br>Volatility: 0.270 <br>Returns: 82.040% <br>Sharpe Ratio: 4.968",
          "PG_Close <br>Volatility: 0.087 <br>Returns: -9.655% <br>Sharpe Ratio: 4.968",
          "AMD_Close <br>Volatility: 0.694 <br>Returns: -58.090% <br>Sharpe Ratio: 4.941",
          "GS_Close <br>Volatility: 0.209 <br>Returns: -46.653% <br>Sharpe Ratio: 4.941",
          "WMT_Close <br>Volatility: 0.148 <br>Returns: 23.079% <br>Sharpe Ratio: 4.941",
          "LMT_Close <br>Volatility: 0.107 <br>Returns: 18.608% <br>Sharpe Ratio: 4.941",
          "VRTX_Close <br>Volatility: 0.486 <br>Returns: 129.746% <br>Sharpe Ratio: 4.993",
          "GM_Close <br>Volatility: 0.170 <br>Returns: -30.932% <br>Sharpe Ratio: 4.968",
          "BIIB_Close <br>Volatility: 0.229 <br>Returns: -33.166% <br>Sharpe Ratio: 4.941",
          "EMR_Close <br>Volatility: 0.165 <br>Returns: -6.262% <br>Sharpe Ratio: 4.941",
          "DE_Close <br>Volatility: 0.179 <br>Returns: 36.750% <br>Sharpe Ratio: 4.941",
          "IBM_Close <br>Volatility: 0.141 <br>Returns: -54.590% <br>Sharpe Ratio: 4.941",
          "HD_Close <br>Volatility: 0.134 <br>Returns: 11.373% <br>Sharpe Ratio: 4.993",
          "RDY_Close <br>Volatility: 0.283 <br>Returns: -34.437% <br>Sharpe Ratio: 4.941",
          "JPM_Close <br>Volatility: 0.162 <br>Returns: -18.067% <br>Sharpe Ratio: 4.945",
          "MSFT_Close <br>Volatility: 0.137 <br>Returns: 34.582% <br>Sharpe Ratio: 4.941",
          "MS_Close <br>Volatility: 0.219 <br>Returns: -19.860% <br>Sharpe Ratio: 5.194",
          "GILD_Close <br>Volatility: 0.153 <br>Returns: -16.977% <br>Sharpe Ratio: 4.999",
          "T_Close <br>Volatility: 0.145 <br>Returns: -23.798% <br>Sharpe Ratio: 4.979",
          "RMD_Close <br>Volatility: 0.177 <br>Returns: -3.112% <br>Sharpe Ratio: 4.979",
          "CAT_Close <br>Volatility: 0.233 <br>Returns: 32.197% <br>Sharpe Ratio: 4.979",
          "MDT_Close <br>Volatility: 0.114 <br>Returns: 12.664% <br>Sharpe Ratio: 4.979",
          "XOM_Close <br>Volatility: 0.120 <br>Returns: -15.220% <br>Sharpe Ratio: 5.194",
          "CRM_Close <br>Volatility: 0.148 <br>Returns: 19.290% <br>Sharpe Ratio: 4.999",
          "AEP_Close <br>Volatility: 0.101 <br>Returns: 13.214% <br>Sharpe Ratio: 4.979",
          "RTX_Close <br>Volatility: 0.093 <br>Returns: 17.474% <br>Sharpe Ratio: 4.979",
          "NKE_Close <br>Volatility: 0.259 <br>Returns: -27.547% <br>Sharpe Ratio: 4.979",
          "NFLX_Close <br>Volatility: 0.320 <br>Returns: 50.627% <br>Sharpe Ratio: 4.979",
          "ZBH_Close <br>Volatility: 0.176 <br>Returns: 20.942% <br>Sharpe Ratio: 5.194",
          "ISRG_Close <br>Volatility: 0.180 <br>Returns: 55.877% <br>Sharpe Ratio: 4.979",
          "COST_Close <br>Volatility: 0.194 <br>Returns: -56.160% <br>Sharpe Ratio: 4.979",
          "KO_Close <br>Volatility: 0.076 <br>Returns: 16.554% <br>Sharpe Ratio: 4.979",
          "META_Close <br>Volatility: 0.158 <br>Returns: 42.367% <br>Sharpe Ratio: 5.032",
          "INTC_Close <br>Volatility: 0.144 <br>Returns: -8.425% <br>Sharpe Ratio: 4.979",
          "GE_Close <br>Volatility: 0.166 <br>Returns: -31.167% <br>Sharpe Ratio: 4.979",
          "GOOG_Close <br>Volatility: 0.169 <br>Returns: 35.438% <br>Sharpe Ratio: 4.979",
          "VZ_Close <br>Volatility: 0.175 <br>Returns: -25.448% <br>Sharpe Ratio: 4.979",
          "MRK_Close <br>Volatility: 0.119 <br>Returns: -13.218% <br>Sharpe Ratio: 4.979",
          "ETN_Close <br>Volatility: 0.141 <br>Returns: 24.706% <br>Sharpe Ratio: 5.012",
          "JNJ_Close <br>Volatility: 0.111 <br>Returns: 22.520% <br>Sharpe Ratio: 5.157",
          "BAC_Close <br>Volatility: 0.223 <br>Returns: -26.944% <br>Sharpe Ratio: 4.979",
          "SAP_Close <br>Volatility: 0.147 <br>Returns: 37.100% <br>Sharpe Ratio: 4.979",
          "K_Close <br>Volatility: 0.135 <br>Returns: -29.169% <br>Sharpe Ratio: 4.979",
          "LLY_Close <br>Volatility: 0.158 <br>Returns: 7.554% <br>Sharpe Ratio: 4.979",
          "DIS_Close <br>Volatility: 0.123 <br>Returns: -0.543% <br>Sharpe Ratio: 4.979",
          "GOOGL_Close <br>Volatility: 0.165 <br>Returns: 35.196% <br>Sharpe Ratio: 4.979",
          "MCD_Close <br>Volatility: 0.145 <br>Returns: 45.502% <br>Sharpe Ratio: 4.979",
          "TMO_Close <br>Volatility: 0.142 <br>Returns: 18.499% <br>Sharpe Ratio: 4.986",
          "EXC_Close <br>Volatility: 0.136 <br>Returns: -8.000% <br>Sharpe Ratio: 4.979",
          "SO_Close <br>Volatility: 0.102 <br>Returns: -6.231% <br>Sharpe Ratio: 4.979",
          "BTI_Close <br>Volatility: 0.204 <br>Returns: 32.001% <br>Sharpe Ratio: 5.368",
          "AAPL_Close <br>Volatility: 0.162 <br>Returns: 25.462% <br>Sharpe Ratio: 5.253",
          "PEP_Close <br>Volatility: 0.087 <br>Returns: 16.167% <br>Sharpe Ratio: 5.368",
          "ABT_Close <br>Volatility: 0.133 <br>Returns: -0.556% <br>Sharpe Ratio: 5.247",
          "V_Close <br>Volatility: 0.110 <br>Returns: 24.671% <br>Sharpe Ratio: 5.247",
          "BA_Close <br>Volatility: 0.198 <br>Returns: 11.691% <br>Sharpe Ratio: 5.247",
          "PM_Close <br>Volatility: 0.135 <br>Returns: 30.790% <br>Sharpe Ratio: 5.247",
          "ADBE_Close <br>Volatility: 0.155 <br>Returns: 58.725% <br>Sharpe Ratio: 5.247",
          "KR_Close <br>Volatility: 0.405 <br>Returns: -80.708% <br>Sharpe Ratio: 5.464",
          "NEE_Close <br>Volatility: 0.105 <br>Returns: 16.637% <br>Sharpe Ratio: 5.253",
          "HON_Close <br>Volatility: 0.099 <br>Returns: 14.235% <br>Sharpe Ratio: 5.368",
          "GIS_Close <br>Volatility: 0.124 <br>Returns: -29.181% <br>Sharpe Ratio: 5.247",
          "TSLA_Close <br>Volatility: 0.381 <br>Returns: 96.040% <br>Sharpe Ratio: 5.247",
          "PFE_Close <br>Volatility: 0.098 <br>Returns: -13.932% <br>Sharpe Ratio: 5.247",
          "CVX_Close <br>Volatility: 0.149 <br>Returns: -34.967% <br>Sharpe Ratio: 5.247",
          "EW_Close <br>Volatility: 0.230 <br>Returns: 47.299% <br>Sharpe Ratio: 5.247",
          "AMZN_Close <br>Volatility: 0.171 <br>Returns: 45.113% <br>Sharpe Ratio: 5.464",
          "DUK_Close <br>Volatility: 0.089 <br>Returns: 2.265% <br>Sharpe Ratio: 5.247",
          "UNH_Close <br>Volatility: 0.118 <br>Returns: 29.482% <br>Sharpe Ratio: 5.247",
          "REGN_Close <br>Volatility: 0.300 <br>Returns: 71.439% <br>Sharpe Ratio: 5.282",
          "MO_Close <br>Volatility: 0.200 <br>Returns: -9.445% <br>Sharpe Ratio: 5.247",
          "ABBV_Close <br>Volatility: 0.124 <br>Returns: 42.583% <br>Sharpe Ratio: 5.247",
          "AMGN_Close <br>Volatility: 0.183 <br>Returns: -22.800% <br>Sharpe Ratio: 5.247",
          "BSX_Close <br>Volatility: 0.134 <br>Returns: 13.570% <br>Sharpe Ratio: 5.297",
          "DHR_Close <br>Volatility: 0.126 <br>Returns: -8.871% <br>Sharpe Ratio: 5.247",
          "QCOM_Close <br>Volatility: 0.182 <br>Returns: 5.055% <br>Sharpe Ratio: 5.247",
          "TXN_Close <br>Volatility: 0.179 <br>Returns: 20.737% <br>Sharpe Ratio: 5.247",
          "CPB_Close <br>Volatility: 0.149 <br>Returns: -34.720% <br>Sharpe Ratio: 5.247",
          "CSCO_Close <br>Volatility: 0.159 <br>Returns: -22.251% <br>Sharpe Ratio: 5.314",
          "ACN_Close <br>Volatility: 0.147 <br>Returns: -5.090% <br>Sharpe Ratio: 5.247"
         ],
         "marker": {
          "color": "brown",
          "line": {
           "width": 1
          },
          "size": 5,
          "symbol": "triangle-up"
         },
         "mode": "markers",
         "name": "Individual Assets",
         "type": "scatter",
         "x": {
          "bdata": "V1h62j5d3D84uMN8ZkTHP8Ie6taxlb0/YcP5d6U/vj+HdEuGHW3VPxfpZoco3sc/rsmRbyVsuz/HlMW5aNu/P9apQSYJZeU/XTosaYrcwz8plQjGrpHGP6r8aKL0t8M/YXYADu/cyj82FdO6L/XHP13LnZu8TtE/PGj0UqM7tj/X31O3uTjmP7PB0SSotMo/KInZhuHpwj+NXP8U3ke7P2wrXjyaIN8/X1amr23DxT8S6s4x51HNP0vrimcBLsU/rf9y4HPqxj9vHZvdtgPCP35TMLN/M8E/PCm7f/0c0j/9yBo2nqzEP9ovZV2ef8E/XgcYWY0DzD/9pl05ZpHDP4YrFfVzhsI/A21ti2Gaxj/aVujUQt3NP5QHeNYTOL0/n9/CfZjJvj/oM6Ooi+jCP9cLqivJ5Lk/iNf9Jzndtz8RyQMjQ5PQP0IZeKKredQ/ik2Af1CHxj/MyV82FfvGPxzSeYzG1sg/iGXzSvJisz8UpyQxqUPEP7jFLiVUesI/XOqbPZE0xT+ADPuZ5q/FP4jkCkaDWMY/O3MXI4GAvj+kcleErAPCP4tFW7OEarw/cA5VJWaRzD8qfog1at/CP/uZ1OkbQsE/PeulP2xHxD8idPWyGJO/P1x1tH7BKcU/kRSIyeaCwj+6FJB7ECLCPyEYGKCfZcE/sQvo2zYouj+SPowXAy3KP1rYGUiDrsQ/hkgzBgJetj+47YiobvvAP5KNluQORLw/ijdmZK5NyT/KOOSKUUfBP65aDWPlysM/gNNejJbr2T+na7x1qOG6P4A8cUnvN7k/Qp2r4lvDvz/4x0RfQV7YP8wSCYkr9rg/jBZEJq8Xwz/5Y8rYVHfNP6L+o68A8cU/ES/x993Ctj+SdNWSsju+P7RqjnY1OdM/NIXS4zybyT+BfwDZ4tu/P+yAenJ4ecc/ee00hGUbwT8i+MmSzBPAPybF9ahPP8c/PRhcTUH3xj+MtZDZOiHDP1OdBMjVaMQ/vL3vUE7Iwj8=",
          "dtype": "f8"
         },
         "y": {
          "bdata": "UqQ49itQ8T/xt9PrNxO2vzlfCWpQMMk/4teyca6uyz86T+Hi3SXVv8rwdndM4d2/nFXiiSVwwD8l9OKRWlzSP66fmzGllPO/sBLlKO6msb8Zl0g9udDTv3pCYxwRJcM/tsUlDnGI4z/fB/xgghTWP/d6MGC3QOo/aiTd/M23uL/wt4Y4uZbiv8UIaSqW292/QhczQJ6KzT8+2Qwqh9HHP4FMrHZiwvQ/esCi0u/L078dx5B62TnVv2l3BCkrCLC/s6yMOSiF1z/lLZId+3fhv0ibbS9cHb0/SHnsHzQK1r9O9djJIyDHv4W5l+r8IdY/AHt1T5Nryb8fmd6w9brFvyhaMscNds6/uzFw1+Den7+G72tnJ5vUP5a+ddqvNcA/VKOn6jx7w78qe3fA17DIP/YSoAED6sA/K4GlCvRdxj+OJ57vO6HRv0QbnV9eM+A/tA5eQzHOyj/RvX6BaOHhP3/TcR+g+OG/TnzWyUcwxT+E0U88YB3bP3aaGxxRkbW/qWKGF1zy0796YwTGOq7WPwt4BJpxSdC/4IWwCj3rwL+WY33SxJ/PP0Bu2txe08w/oaQ3SoE+0b+xKmscZL7XP6eXzHkZq9K/RLy8AFlWsz8hHCK72D92vybhBTCWhtY/TMOGIA4f3T8U2y+FtK3HP8wFjYmperS/vPCHlDTnr78JAZ7vBnvUPy9hSGqrS9A/WW2aJ4qxxD89yooE78l2v28+oy8plM8/rl0kIdLtvT/g137AtbTTPwKmijG/yuI/flxuK53T6b+L35+1jkvFP/PZ1hWTOMI/NDofnf+s0r9CfJBhjrvuPxHFUZVU1cG/RwVifA5h1r8uXmZzgkXeP/z6XpNG39w/GSlfHWUwlz/KrS2ET97SP36j81JA3OY/GCdAdrstuL8wb2a+t0DbP3WatU4gL82/KcDRSJxewT8XyO/TobW2v3tWFrhk4ak/cg+BezSLyj/Wigp/iTjWv8jpXX0me8y/BcCsuREQqr8=",
          "dtype": "f8"
         }
        }
       ],
       "layout": {
        "legend": {
         "y": 5
        },
        "template": {
         "data": {
          "bar": [
           {
            "error_x": {
             "color": "#2a3f5f"
            },
            "error_y": {
             "color": "#2a3f5f"
            },
            "marker": {
             "line": {
              "color": "#E5ECF6",
              "width": 0.5
             },
             "pattern": {
              "fillmode": "overlay",
              "size": 10,
              "solidity": 0.2
             }
            },
            "type": "bar"
           }
          ],
          "barpolar": [
           {
            "marker": {
             "line": {
              "color": "#E5ECF6",
              "width": 0.5
             },
             "pattern": {
              "fillmode": "overlay",
              "size": 10,
              "solidity": 0.2
             }
            },
            "type": "barpolar"
           }
          ],
          "carpet": [
           {
            "aaxis": {
             "endlinecolor": "#2a3f5f",
             "gridcolor": "white",
             "linecolor": "white",
             "minorgridcolor": "white",
             "startlinecolor": "#2a3f5f"
            },
            "baxis": {
             "endlinecolor": "#2a3f5f",
             "gridcolor": "white",
             "linecolor": "white",
             "minorgridcolor": "white",
             "startlinecolor": "#2a3f5f"
            },
            "type": "carpet"
           }
          ],
          "choropleth": [
           {
            "colorbar": {
             "outlinewidth": 0,
             "ticks": ""
            },
            "type": "choropleth"
           }
          ],
          "contour": [
           {
            "colorbar": {
             "outlinewidth": 0,
             "ticks": ""
            },
            "colorscale": [
             [
              0,
              "#0d0887"
             ],
             [
              0.1111111111111111,
              "#46039f"
             ],
             [
              0.2222222222222222,
              "#7201a8"
             ],
             [
              0.3333333333333333,
              "#9c179e"
             ],
             [
              0.4444444444444444,
              "#bd3786"
             ],
             [
              0.5555555555555556,
              "#d8576b"
             ],
             [
              0.6666666666666666,
              "#ed7953"
             ],
             [
              0.7777777777777778,
              "#fb9f3a"
             ],
             [
              0.8888888888888888,
              "#fdca26"
             ],
             [
              1,
              "#f0f921"
             ]
            ],
            "type": "contour"
           }
          ],
          "contourcarpet": [
           {
            "colorbar": {
             "outlinewidth": 0,
             "ticks": ""
            },
            "type": "contourcarpet"
           }
          ],
          "heatmap": [
           {
            "colorbar": {
             "outlinewidth": 0,
             "ticks": ""
            },
            "colorscale": [
             [
              0,
              "#0d0887"
             ],
             [
              0.1111111111111111,
              "#46039f"
             ],
             [
              0.2222222222222222,
              "#7201a8"
             ],
             [
              0.3333333333333333,
              "#9c179e"
             ],
             [
              0.4444444444444444,
              "#bd3786"
             ],
             [
              0.5555555555555556,
              "#d8576b"
             ],
             [
              0.6666666666666666,
              "#ed7953"
             ],
             [
              0.7777777777777778,
              "#fb9f3a"
             ],
             [
              0.8888888888888888,
              "#fdca26"
             ],
             [
              1,
              "#f0f921"
             ]
            ],
            "type": "heatmap"
           }
          ],
          "histogram": [
           {
            "marker": {
             "pattern": {
              "fillmode": "overlay",
              "size": 10,
              "solidity": 0.2
             }
            },
            "type": "histogram"
           }
          ],
          "histogram2d": [
           {
            "colorbar": {
             "outlinewidth": 0,
             "ticks": ""
            },
            "colorscale": [
             [
              0,
              "#0d0887"
             ],
             [
              0.1111111111111111,
              "#46039f"
             ],
             [
              0.2222222222222222,
              "#7201a8"
             ],
             [
              0.3333333333333333,
              "#9c179e"
             ],
             [
              0.4444444444444444,
              "#bd3786"
             ],
             [
              0.5555555555555556,
              "#d8576b"
             ],
             [
              0.6666666666666666,
              "#ed7953"
             ],
             [
              0.7777777777777778,
              "#fb9f3a"
             ],
             [
              0.8888888888888888,
              "#fdca26"
             ],
             [
              1,
              "#f0f921"
             ]
            ],
            "type": "histogram2d"
           }
          ],
          "histogram2dcontour": [
           {
            "colorbar": {
             "outlinewidth": 0,
             "ticks": ""
            },
            "colorscale": [
             [
              0,
              "#0d0887"
             ],
             [
              0.1111111111111111,
              "#46039f"
             ],
             [
              0.2222222222222222,
              "#7201a8"
             ],
             [
              0.3333333333333333,
              "#9c179e"
             ],
             [
              0.4444444444444444,
              "#bd3786"
             ],
             [
              0.5555555555555556,
              "#d8576b"
             ],
             [
              0.6666666666666666,
              "#ed7953"
             ],
             [
              0.7777777777777778,
              "#fb9f3a"
             ],
             [
              0.8888888888888888,
              "#fdca26"
             ],
             [
              1,
              "#f0f921"
             ]
            ],
            "type": "histogram2dcontour"
           }
          ],
          "mesh3d": [
           {
            "colorbar": {
             "outlinewidth": 0,
             "ticks": ""
            },
            "type": "mesh3d"
           }
          ],
          "parcoords": [
           {
            "line": {
             "colorbar": {
              "outlinewidth": 0,
              "ticks": ""
             }
            },
            "type": "parcoords"
           }
          ],
          "pie": [
           {
            "automargin": true,
            "type": "pie"
           }
          ],
          "scatter": [
           {
            "fillpattern": {
             "fillmode": "overlay",
             "size": 10,
             "solidity": 0.2
            },
            "type": "scatter"
           }
          ],
          "scatter3d": [
           {
            "line": {
             "colorbar": {
              "outlinewidth": 0,
              "ticks": ""
             }
            },
            "marker": {
             "colorbar": {
              "outlinewidth": 0,
              "ticks": ""
             }
            },
            "type": "scatter3d"
           }
          ],
          "scattercarpet": [
           {
            "marker": {
             "colorbar": {
              "outlinewidth": 0,
              "ticks": ""
             }
            },
            "type": "scattercarpet"
           }
          ],
          "scattergeo": [
           {
            "marker": {
             "colorbar": {
              "outlinewidth": 0,
              "ticks": ""
             }
            },
            "type": "scattergeo"
           }
          ],
          "scattergl": [
           {
            "marker": {
             "colorbar": {
              "outlinewidth": 0,
              "ticks": ""
             }
            },
            "type": "scattergl"
           }
          ],
          "scattermap": [
           {
            "marker": {
             "colorbar": {
              "outlinewidth": 0,
              "ticks": ""
             }
            },
            "type": "scattermap"
           }
          ],
          "scattermapbox": [
           {
            "marker": {
             "colorbar": {
              "outlinewidth": 0,
              "ticks": ""
             }
            },
            "type": "scattermapbox"
           }
          ],
          "scatterpolar": [
           {
            "marker": {
             "colorbar": {
              "outlinewidth": 0,
              "ticks": ""
             }
            },
            "type": "scatterpolar"
           }
          ],
          "scatterpolargl": [
           {
            "marker": {
             "colorbar": {
              "outlinewidth": 0,
              "ticks": ""
             }
            },
            "type": "scatterpolargl"
           }
          ],
          "scatterternary": [
           {
            "marker": {
             "colorbar": {
              "outlinewidth": 0,
              "ticks": ""
             }
            },
            "type": "scatterternary"
           }
          ],
          "surface": [
           {
            "colorbar": {
             "outlinewidth": 0,
             "ticks": ""
            },
            "colorscale": [
             [
              0,
              "#0d0887"
             ],
             [
              0.1111111111111111,
              "#46039f"
             ],
             [
              0.2222222222222222,
              "#7201a8"
             ],
             [
              0.3333333333333333,
              "#9c179e"
             ],
             [
              0.4444444444444444,
              "#bd3786"
             ],
             [
              0.5555555555555556,
              "#d8576b"
             ],
             [
              0.6666666666666666,
              "#ed7953"
             ],
             [
              0.7777777777777778,
              "#fb9f3a"
             ],
             [
              0.8888888888888888,
              "#fdca26"
             ],
             [
              1,
              "#f0f921"
             ]
            ],
            "type": "surface"
           }
          ],
          "table": [
           {
            "cells": {
             "fill": {
              "color": "#EBF0F8"
             },
             "line": {
              "color": "white"
             }
            },
            "header": {
             "fill": {
              "color": "#C8D4E3"
             },
             "line": {
              "color": "white"
             }
            },
            "type": "table"
           }
          ]
         },
         "layout": {
          "annotationdefaults": {
           "arrowcolor": "#2a3f5f",
           "arrowhead": 0,
           "arrowwidth": 1
          },
          "autotypenumbers": "strict",
          "coloraxis": {
           "colorbar": {
            "outlinewidth": 0,
            "ticks": ""
           }
          },
          "colorscale": {
           "diverging": [
            [
             0,
             "#8e0152"
            ],
            [
             0.1,
             "#c51b7d"
            ],
            [
             0.2,
             "#de77ae"
            ],
            [
             0.3,
             "#f1b6da"
            ],
            [
             0.4,
             "#fde0ef"
            ],
            [
             0.5,
             "#f7f7f7"
            ],
            [
             0.6,
             "#e6f5d0"
            ],
            [
             0.7,
             "#b8e186"
            ],
            [
             0.8,
             "#7fbc41"
            ],
            [
             0.9,
             "#4d9221"
            ],
            [
             1,
             "#276419"
            ]
           ],
           "sequential": [
            [
             0,
             "#0d0887"
            ],
            [
             0.1111111111111111,
             "#46039f"
            ],
            [
             0.2222222222222222,
             "#7201a8"
            ],
            [
             0.3333333333333333,
             "#9c179e"
            ],
            [
             0.4444444444444444,
             "#bd3786"
            ],
            [
             0.5555555555555556,
             "#d8576b"
            ],
            [
             0.6666666666666666,
             "#ed7953"
            ],
            [
             0.7777777777777778,
             "#fb9f3a"
            ],
            [
             0.8888888888888888,
             "#fdca26"
            ],
            [
             1,
             "#f0f921"
            ]
           ],
           "sequentialminus": [
            [
             0,
             "#0d0887"
            ],
            [
             0.1111111111111111,
             "#46039f"
            ],
            [
             0.2222222222222222,
             "#7201a8"
            ],
            [
             0.3333333333333333,
             "#9c179e"
            ],
            [
             0.4444444444444444,
             "#bd3786"
            ],
            [
             0.5555555555555556,
             "#d8576b"
            ],
            [
             0.6666666666666666,
             "#ed7953"
            ],
            [
             0.7777777777777778,
             "#fb9f3a"
            ],
            [
             0.8888888888888888,
             "#fdca26"
            ],
            [
             1,
             "#f0f921"
            ]
           ]
          },
          "colorway": [
           "#636efa",
           "#EF553B",
           "#00cc96",
           "#ab63fa",
           "#FFA15A",
           "#19d3f3",
           "#FF6692",
           "#B6E880",
           "#FF97FF",
           "#FECB52"
          ],
          "font": {
           "color": "#2a3f5f"
          },
          "geo": {
           "bgcolor": "white",
           "lakecolor": "white",
           "landcolor": "#E5ECF6",
           "showlakes": true,
           "showland": true,
           "subunitcolor": "white"
          },
          "hoverlabel": {
           "align": "left"
          },
          "hovermode": "closest",
          "mapbox": {
           "style": "light"
          },
          "paper_bgcolor": "white",
          "plot_bgcolor": "#E5ECF6",
          "polar": {
           "angularaxis": {
            "gridcolor": "white",
            "linecolor": "white",
            "ticks": ""
           },
           "bgcolor": "#E5ECF6",
           "radialaxis": {
            "gridcolor": "white",
            "linecolor": "white",
            "ticks": ""
           }
          },
          "scene": {
           "xaxis": {
            "backgroundcolor": "#E5ECF6",
            "gridcolor": "white",
            "gridwidth": 2,
            "linecolor": "white",
            "showbackground": true,
            "ticks": "",
            "zerolinecolor": "white"
           },
           "yaxis": {
            "backgroundcolor": "#E5ECF6",
            "gridcolor": "white",
            "gridwidth": 2,
            "linecolor": "white",
            "showbackground": true,
            "ticks": "",
            "zerolinecolor": "white"
           },
           "zaxis": {
            "backgroundcolor": "#E5ECF6",
            "gridcolor": "white",
            "gridwidth": 2,
            "linecolor": "white",
            "showbackground": true,
            "ticks": "",
            "zerolinecolor": "white"
           }
          },
          "shapedefaults": {
           "line": {
            "color": "#2a3f5f"
           }
          },
          "ternary": {
           "aaxis": {
            "gridcolor": "white",
            "linecolor": "white",
            "ticks": ""
           },
           "baxis": {
            "gridcolor": "white",
            "linecolor": "white",
            "ticks": ""
           },
           "bgcolor": "#E5ECF6",
           "caxis": {
            "gridcolor": "white",
            "linecolor": "white",
            "ticks": ""
           }
          },
          "title": {
           "x": 0.05
          },
          "xaxis": {
           "automargin": true,
           "gridcolor": "white",
           "linecolor": "white",
           "ticks": "",
           "title": {
            "standoff": 15
           },
           "zerolinecolor": "white",
           "zerolinewidth": 2
          },
          "yaxis": {
           "automargin": true,
           "gridcolor": "white",
           "linecolor": "white",
           "ticks": "",
           "title": {
            "standoff": 15
           },
           "zerolinecolor": "white",
           "zerolinewidth": 2
          }
         }
        },
        "title": {
         "text": "Sample of Random Portfolios"
        },
        "xaxis": {
         "title": {
          "text": "Volatility (Standard Deviation)"
         }
        },
        "yaxis": {
         "title": {
          "text": "Annualized Return"
         }
        }
       }
      }
     },
     "metadata": {},
     "output_type": "display_data"
    }
   ],
   "source": [
    "fig = go.Figure()\n",
    "\n",
    "fig.add_trace(go.Scatter(\n",
    "    x=[p[\"variance\"]**0.5 for p in total_portfolios],  # Convert variance to volatility\n",
    "    y=[p[\"return\"] for p in total_portfolios],\n",
    "    mode='markers',\n",
    "    marker=dict(\n",
    "        color=[p[\"sharpe\"] for p in total_portfolios],  # Sharpe Ratio\n",
    "        showscale=True,\n",
    "        size=7,\n",
    "        line=dict(width=1),\n",
    "        colorscale=\"RdBu\",\n",
    "        colorbar=dict(title=\"Sharpe<br>Ratio\")\n",
    "    ),\n",
    "    hoverinfo='text',\n",
    "    text=[\n",
    "        f\"Return: {p['return']:.3%}<br>Volatility: {p['variance']**0.5:.3f}<br>\" +\n",
    "        f\"Sharpe Ratio: {p['return'] / (p['variance']**0.5):.3f}<br>\" +\n",
    "        \"<br>\".join([f\"{p['tickers'][i]}: Weight={p['weights'][i]:.3f}\" for i in range(len(p['tickers']))])\n",
    "        for p in total_portfolios\n",
    "    ],\n",
    "    name=\"Portfolios\"\n",
    "))\n",
    "\n",
    "fig.add_trace(go.Scatter(\n",
    "    x=volatility,\n",
    "    y=annualized_returns,\n",
    "    mode='markers',\n",
    "    hoverinfo='text',\n",
    "    hovertext=[\n",
    "        f\"{name} <br>Volatility: {vol:.3f} <br>Returns: {ret:.3%} <br>Sharpe Ratio: {sr:.3f}\"\n",
    "        for name, vol, ret, sr in zip(names, volatility, annualized_returns, sharpe_ratios)\n",
    "    ],\n",
    "    marker=dict(\n",
    "        color='brown',\n",
    "        size=5,\n",
    "        symbol='triangle-up',  # Sets the marker shape to a triangle\n",
    "        line=dict(width=1)\n",
    "    ),\n",
    "    name=\"Individual Assets\"\n",
    "))\n",
    "\n",
    "fig.update_layout(\n",
    "    title='Sample of Random Portfolios',\n",
    "    xaxis_title='Volatility (Standard Deviation)',\n",
    "    yaxis_title='Annualized Return',\n",
    "    legend=dict(y=5\n",
    "    )\n",
    ")\n",
    "\n",
    "\n",
    "fig.show()"
   ]
  },
  {
   "cell_type": "code",
   "execution_count": 104,
   "metadata": {},
   "outputs": [
    {
     "data": {
      "application/vnd.plotly.v1+json": {
       "config": {
        "plotlyServerURL": "https://plot.ly"
       },
       "data": [
        {
         "mode": "lines+markers",
         "type": "scatter",
         "x": [
          0,
          1,
          2,
          3,
          4,
          5,
          6,
          7,
          8,
          9,
          10,
          11,
          12,
          13,
          14,
          15,
          16,
          17,
          18,
          19,
          20,
          21,
          22,
          23,
          24,
          25,
          26,
          27,
          28,
          29,
          30,
          31,
          32,
          33,
          34,
          35,
          36,
          37,
          38,
          39,
          40,
          41,
          42,
          43,
          44,
          45,
          46,
          47,
          48,
          49,
          50,
          51,
          52,
          53,
          54,
          55,
          56,
          57,
          58,
          59,
          60,
          61,
          62,
          63,
          64,
          65,
          66,
          67,
          68,
          69,
          70,
          71,
          72,
          73,
          74,
          75,
          76,
          77,
          78,
          79,
          80,
          81,
          82,
          83,
          84,
          85,
          86,
          87,
          88,
          89,
          90,
          91,
          92,
          93,
          94,
          95,
          96,
          97,
          98,
          99,
          100,
          101,
          102,
          103,
          104,
          105,
          106,
          107,
          108,
          109,
          110,
          111,
          112,
          113,
          114,
          115,
          116,
          117,
          118,
          119,
          120,
          121,
          122,
          123,
          124,
          125,
          126,
          127,
          128,
          129,
          130,
          131,
          132,
          133,
          134,
          135,
          136,
          137,
          138,
          139,
          140,
          141,
          142,
          143,
          144,
          145,
          146,
          147,
          148,
          149,
          150,
          151,
          152,
          153,
          154,
          155,
          156,
          157,
          158,
          159,
          160,
          161
         ],
         "y": [
          2.9890539933087026,
          3.7495431726051445,
          4.237685193843584,
          4.655245842692792,
          4.6552458426892125,
          5.06593454351593,
          5.0659345435152705,
          4.789487013358503,
          4.953125011834133,
          5.061714763001971,
          4.932640790270924,
          4.7684593804315005,
          4.768459373782116,
          5.119803646308931,
          5.3107110404082984,
          5.3107110404082984,
          5.121623195280709,
          5.191165193400812,
          5.193545899420741,
          5.208784313482557,
          5.119803661666217,
          5.119803672970849,
          5.119803535391303,
          5.11980353996779,
          5.610247010599044,
          5.868982119900649,
          5.868982119900649,
          5.598006383816444,
          5.700429690466962,
          5.64006522033412,
          5.685843618167687,
          5.598006347365756,
          5.59819971250306,
          5.59800639746924,
          5.598006334302643,
          6.019123616173261,
          6.154615981126601,
          6.154615981126601,
          5.9949075911732566,
          6.01545410153217,
          5.99491384448486,
          6.033663030678138,
          5.994907272134302,
          5.994907748893596,
          5.994907540434599,
          5.994907419921772,
          5.994907709941402,
          6.031891299517596,
          5.9949074977246495,
          5.994907478286511,
          5.994907655070333,
          5.994907616387374,
          5.994907284597646,
          5.994907620618651,
          5.994907739939786,
          6.027574920593297,
          6.019123616168684,
          5.994907733926029,
          5.994907437308824,
          5.994907740011493,
          5.994907725266285,
          5.9949077256696155,
          5.994975935631839,
          5.995832764867319,
          5.994907616468379,
          5.9949073998468485,
          6.099586536788548,
          5.994907551370511,
          6.003623566973967,
          5.994907651885894,
          5.994907631915655,
          5.9949075644331735,
          6.054886066199772,
          6.0556147053869065,
          5.9949077416105725,
          5.994907677310183,
          6.251754881550488,
          5.944799556176579,
          5.836811304600445,
          5.837119978196492,
          5.839221018107765,
          5.8891783314330395,
          5.83632807010206,
          5.836328098716801,
          5.836327917597045,
          5.836328203306349,
          5.836328201668722,
          6.251754881550454,
          5.836328168720026,
          5.836328152343367,
          5.836327730489264,
          5.912597058934577,
          5.836328119771766,
          5.836328149010013,
          5.849158044739544,
          5.836328204292795,
          5.836332166706273,
          5.860050457237116,
          5.836328204372831,
          5.836328204521339,
          5.8368781582575995,
          5.836328162810586,
          5.836328124081508,
          5.836328199434869,
          5.836328194742195,
          5.836327945010239,
          5.836327808106261,
          5.836328108948922,
          5.836328183139537,
          5.836328085222862,
          5.836328173869364,
          5.836328095623713,
          5.8363278961327625,
          5.984031443899328,
          5.8736770871768345,
          5.836328090932475,
          5.836328109174626,
          5.836327740948991,
          5.838321316914607,
          5.8366280180954195,
          5.836327882010499,
          5.836327948988086,
          5.836328150111196,
          5.836327901235088,
          5.836327939159973,
          5.836327987385169,
          5.836328048317853,
          5.836327994494076,
          5.836328192331602,
          5.836328186053246,
          5.83632819812183,
          5.8363281228294435,
          5.836328202913446,
          5.836328157813778,
          5.836328184018879,
          5.836328128050187,
          5.836328198307191,
          5.836327710313698,
          5.836328203533477,
          5.83632817287344,
          5.836327614913526,
          5.836327952866203,
          5.836328191266858,
          5.836328186932296,
          5.8363281432756295,
          5.836327926908754,
          5.836328198582114,
          5.836327980690688,
          5.836327997276365,
          5.8363281753113885,
          5.8363282041883995,
          5.8363281779232095,
          5.8363281951828565,
          5.836327859016512,
          5.83632817828405,
          5.836328141298683,
          5.83632802614277,
          5.836328104179966,
          5.836328192206148,
          5.836328169233805,
          5.836328202319739,
          5.836327728313723
         ]
        }
       ],
       "layout": {
        "template": {
         "data": {
          "bar": [
           {
            "error_x": {
             "color": "#2a3f5f"
            },
            "error_y": {
             "color": "#2a3f5f"
            },
            "marker": {
             "line": {
              "color": "#E5ECF6",
              "width": 0.5
             },
             "pattern": {
              "fillmode": "overlay",
              "size": 10,
              "solidity": 0.2
             }
            },
            "type": "bar"
           }
          ],
          "barpolar": [
           {
            "marker": {
             "line": {
              "color": "#E5ECF6",
              "width": 0.5
             },
             "pattern": {
              "fillmode": "overlay",
              "size": 10,
              "solidity": 0.2
             }
            },
            "type": "barpolar"
           }
          ],
          "carpet": [
           {
            "aaxis": {
             "endlinecolor": "#2a3f5f",
             "gridcolor": "white",
             "linecolor": "white",
             "minorgridcolor": "white",
             "startlinecolor": "#2a3f5f"
            },
            "baxis": {
             "endlinecolor": "#2a3f5f",
             "gridcolor": "white",
             "linecolor": "white",
             "minorgridcolor": "white",
             "startlinecolor": "#2a3f5f"
            },
            "type": "carpet"
           }
          ],
          "choropleth": [
           {
            "colorbar": {
             "outlinewidth": 0,
             "ticks": ""
            },
            "type": "choropleth"
           }
          ],
          "contour": [
           {
            "colorbar": {
             "outlinewidth": 0,
             "ticks": ""
            },
            "colorscale": [
             [
              0,
              "#0d0887"
             ],
             [
              0.1111111111111111,
              "#46039f"
             ],
             [
              0.2222222222222222,
              "#7201a8"
             ],
             [
              0.3333333333333333,
              "#9c179e"
             ],
             [
              0.4444444444444444,
              "#bd3786"
             ],
             [
              0.5555555555555556,
              "#d8576b"
             ],
             [
              0.6666666666666666,
              "#ed7953"
             ],
             [
              0.7777777777777778,
              "#fb9f3a"
             ],
             [
              0.8888888888888888,
              "#fdca26"
             ],
             [
              1,
              "#f0f921"
             ]
            ],
            "type": "contour"
           }
          ],
          "contourcarpet": [
           {
            "colorbar": {
             "outlinewidth": 0,
             "ticks": ""
            },
            "type": "contourcarpet"
           }
          ],
          "heatmap": [
           {
            "colorbar": {
             "outlinewidth": 0,
             "ticks": ""
            },
            "colorscale": [
             [
              0,
              "#0d0887"
             ],
             [
              0.1111111111111111,
              "#46039f"
             ],
             [
              0.2222222222222222,
              "#7201a8"
             ],
             [
              0.3333333333333333,
              "#9c179e"
             ],
             [
              0.4444444444444444,
              "#bd3786"
             ],
             [
              0.5555555555555556,
              "#d8576b"
             ],
             [
              0.6666666666666666,
              "#ed7953"
             ],
             [
              0.7777777777777778,
              "#fb9f3a"
             ],
             [
              0.8888888888888888,
              "#fdca26"
             ],
             [
              1,
              "#f0f921"
             ]
            ],
            "type": "heatmap"
           }
          ],
          "histogram": [
           {
            "marker": {
             "pattern": {
              "fillmode": "overlay",
              "size": 10,
              "solidity": 0.2
             }
            },
            "type": "histogram"
           }
          ],
          "histogram2d": [
           {
            "colorbar": {
             "outlinewidth": 0,
             "ticks": ""
            },
            "colorscale": [
             [
              0,
              "#0d0887"
             ],
             [
              0.1111111111111111,
              "#46039f"
             ],
             [
              0.2222222222222222,
              "#7201a8"
             ],
             [
              0.3333333333333333,
              "#9c179e"
             ],
             [
              0.4444444444444444,
              "#bd3786"
             ],
             [
              0.5555555555555556,
              "#d8576b"
             ],
             [
              0.6666666666666666,
              "#ed7953"
             ],
             [
              0.7777777777777778,
              "#fb9f3a"
             ],
             [
              0.8888888888888888,
              "#fdca26"
             ],
             [
              1,
              "#f0f921"
             ]
            ],
            "type": "histogram2d"
           }
          ],
          "histogram2dcontour": [
           {
            "colorbar": {
             "outlinewidth": 0,
             "ticks": ""
            },
            "colorscale": [
             [
              0,
              "#0d0887"
             ],
             [
              0.1111111111111111,
              "#46039f"
             ],
             [
              0.2222222222222222,
              "#7201a8"
             ],
             [
              0.3333333333333333,
              "#9c179e"
             ],
             [
              0.4444444444444444,
              "#bd3786"
             ],
             [
              0.5555555555555556,
              "#d8576b"
             ],
             [
              0.6666666666666666,
              "#ed7953"
             ],
             [
              0.7777777777777778,
              "#fb9f3a"
             ],
             [
              0.8888888888888888,
              "#fdca26"
             ],
             [
              1,
              "#f0f921"
             ]
            ],
            "type": "histogram2dcontour"
           }
          ],
          "mesh3d": [
           {
            "colorbar": {
             "outlinewidth": 0,
             "ticks": ""
            },
            "type": "mesh3d"
           }
          ],
          "parcoords": [
           {
            "line": {
             "colorbar": {
              "outlinewidth": 0,
              "ticks": ""
             }
            },
            "type": "parcoords"
           }
          ],
          "pie": [
           {
            "automargin": true,
            "type": "pie"
           }
          ],
          "scatter": [
           {
            "fillpattern": {
             "fillmode": "overlay",
             "size": 10,
             "solidity": 0.2
            },
            "type": "scatter"
           }
          ],
          "scatter3d": [
           {
            "line": {
             "colorbar": {
              "outlinewidth": 0,
              "ticks": ""
             }
            },
            "marker": {
             "colorbar": {
              "outlinewidth": 0,
              "ticks": ""
             }
            },
            "type": "scatter3d"
           }
          ],
          "scattercarpet": [
           {
            "marker": {
             "colorbar": {
              "outlinewidth": 0,
              "ticks": ""
             }
            },
            "type": "scattercarpet"
           }
          ],
          "scattergeo": [
           {
            "marker": {
             "colorbar": {
              "outlinewidth": 0,
              "ticks": ""
             }
            },
            "type": "scattergeo"
           }
          ],
          "scattergl": [
           {
            "marker": {
             "colorbar": {
              "outlinewidth": 0,
              "ticks": ""
             }
            },
            "type": "scattergl"
           }
          ],
          "scattermap": [
           {
            "marker": {
             "colorbar": {
              "outlinewidth": 0,
              "ticks": ""
             }
            },
            "type": "scattermap"
           }
          ],
          "scattermapbox": [
           {
            "marker": {
             "colorbar": {
              "outlinewidth": 0,
              "ticks": ""
             }
            },
            "type": "scattermapbox"
           }
          ],
          "scatterpolar": [
           {
            "marker": {
             "colorbar": {
              "outlinewidth": 0,
              "ticks": ""
             }
            },
            "type": "scatterpolar"
           }
          ],
          "scatterpolargl": [
           {
            "marker": {
             "colorbar": {
              "outlinewidth": 0,
              "ticks": ""
             }
            },
            "type": "scatterpolargl"
           }
          ],
          "scatterternary": [
           {
            "marker": {
             "colorbar": {
              "outlinewidth": 0,
              "ticks": ""
             }
            },
            "type": "scatterternary"
           }
          ],
          "surface": [
           {
            "colorbar": {
             "outlinewidth": 0,
             "ticks": ""
            },
            "colorscale": [
             [
              0,
              "#0d0887"
             ],
             [
              0.1111111111111111,
              "#46039f"
             ],
             [
              0.2222222222222222,
              "#7201a8"
             ],
             [
              0.3333333333333333,
              "#9c179e"
             ],
             [
              0.4444444444444444,
              "#bd3786"
             ],
             [
              0.5555555555555556,
              "#d8576b"
             ],
             [
              0.6666666666666666,
              "#ed7953"
             ],
             [
              0.7777777777777778,
              "#fb9f3a"
             ],
             [
              0.8888888888888888,
              "#fdca26"
             ],
             [
              1,
              "#f0f921"
             ]
            ],
            "type": "surface"
           }
          ],
          "table": [
           {
            "cells": {
             "fill": {
              "color": "#EBF0F8"
             },
             "line": {
              "color": "white"
             }
            },
            "header": {
             "fill": {
              "color": "#C8D4E3"
             },
             "line": {
              "color": "white"
             }
            },
            "type": "table"
           }
          ]
         },
         "layout": {
          "annotationdefaults": {
           "arrowcolor": "#2a3f5f",
           "arrowhead": 0,
           "arrowwidth": 1
          },
          "autotypenumbers": "strict",
          "coloraxis": {
           "colorbar": {
            "outlinewidth": 0,
            "ticks": ""
           }
          },
          "colorscale": {
           "diverging": [
            [
             0,
             "#8e0152"
            ],
            [
             0.1,
             "#c51b7d"
            ],
            [
             0.2,
             "#de77ae"
            ],
            [
             0.3,
             "#f1b6da"
            ],
            [
             0.4,
             "#fde0ef"
            ],
            [
             0.5,
             "#f7f7f7"
            ],
            [
             0.6,
             "#e6f5d0"
            ],
            [
             0.7,
             "#b8e186"
            ],
            [
             0.8,
             "#7fbc41"
            ],
            [
             0.9,
             "#4d9221"
            ],
            [
             1,
             "#276419"
            ]
           ],
           "sequential": [
            [
             0,
             "#0d0887"
            ],
            [
             0.1111111111111111,
             "#46039f"
            ],
            [
             0.2222222222222222,
             "#7201a8"
            ],
            [
             0.3333333333333333,
             "#9c179e"
            ],
            [
             0.4444444444444444,
             "#bd3786"
            ],
            [
             0.5555555555555556,
             "#d8576b"
            ],
            [
             0.6666666666666666,
             "#ed7953"
            ],
            [
             0.7777777777777778,
             "#fb9f3a"
            ],
            [
             0.8888888888888888,
             "#fdca26"
            ],
            [
             1,
             "#f0f921"
            ]
           ],
           "sequentialminus": [
            [
             0,
             "#0d0887"
            ],
            [
             0.1111111111111111,
             "#46039f"
            ],
            [
             0.2222222222222222,
             "#7201a8"
            ],
            [
             0.3333333333333333,
             "#9c179e"
            ],
            [
             0.4444444444444444,
             "#bd3786"
            ],
            [
             0.5555555555555556,
             "#d8576b"
            ],
            [
             0.6666666666666666,
             "#ed7953"
            ],
            [
             0.7777777777777778,
             "#fb9f3a"
            ],
            [
             0.8888888888888888,
             "#fdca26"
            ],
            [
             1,
             "#f0f921"
            ]
           ]
          },
          "colorway": [
           "#636efa",
           "#EF553B",
           "#00cc96",
           "#ab63fa",
           "#FFA15A",
           "#19d3f3",
           "#FF6692",
           "#B6E880",
           "#FF97FF",
           "#FECB52"
          ],
          "font": {
           "color": "#2a3f5f"
          },
          "geo": {
           "bgcolor": "white",
           "lakecolor": "white",
           "landcolor": "#E5ECF6",
           "showlakes": true,
           "showland": true,
           "subunitcolor": "white"
          },
          "hoverlabel": {
           "align": "left"
          },
          "hovermode": "closest",
          "mapbox": {
           "style": "light"
          },
          "paper_bgcolor": "white",
          "plot_bgcolor": "#E5ECF6",
          "polar": {
           "angularaxis": {
            "gridcolor": "white",
            "linecolor": "white",
            "ticks": ""
           },
           "bgcolor": "#E5ECF6",
           "radialaxis": {
            "gridcolor": "white",
            "linecolor": "white",
            "ticks": ""
           }
          },
          "scene": {
           "xaxis": {
            "backgroundcolor": "#E5ECF6",
            "gridcolor": "white",
            "gridwidth": 2,
            "linecolor": "white",
            "showbackground": true,
            "ticks": "",
            "zerolinecolor": "white"
           },
           "yaxis": {
            "backgroundcolor": "#E5ECF6",
            "gridcolor": "white",
            "gridwidth": 2,
            "linecolor": "white",
            "showbackground": true,
            "ticks": "",
            "zerolinecolor": "white"
           },
           "zaxis": {
            "backgroundcolor": "#E5ECF6",
            "gridcolor": "white",
            "gridwidth": 2,
            "linecolor": "white",
            "showbackground": true,
            "ticks": "",
            "zerolinecolor": "white"
           }
          },
          "shapedefaults": {
           "line": {
            "color": "#2a3f5f"
           }
          },
          "ternary": {
           "aaxis": {
            "gridcolor": "white",
            "linecolor": "white",
            "ticks": ""
           },
           "baxis": {
            "gridcolor": "white",
            "linecolor": "white",
            "ticks": ""
           },
           "bgcolor": "#E5ECF6",
           "caxis": {
            "gridcolor": "white",
            "linecolor": "white",
            "ticks": ""
           }
          },
          "title": {
           "x": 0.05
          },
          "xaxis": {
           "automargin": true,
           "gridcolor": "white",
           "linecolor": "white",
           "ticks": "",
           "title": {
            "standoff": 15
           },
           "zerolinecolor": "white",
           "zerolinewidth": 2
          },
          "yaxis": {
           "automargin": true,
           "gridcolor": "white",
           "linecolor": "white",
           "ticks": "",
           "title": {
            "standoff": 15
           },
           "zerolinecolor": "white",
           "zerolinewidth": 2
          }
         }
        },
        "title": {
         "text": "Sharpe Ratio Over Iterations"
        },
        "xaxis": {
         "title": {
          "text": "Iteration"
         }
        },
        "yaxis": {
         "title": {
          "text": "Sharpe Ratio"
         }
        }
       }
      }
     },
     "metadata": {},
     "output_type": "display_data"
    }
   ],
   "source": [
    "sharpe_ratios = [portfolio['sharpe'] for portfolio in total_portfolios]\n",
    "\n",
    "fig = go.Figure(data=go.Scatter(x=list(range(len(sharpe_ratios))), y=sharpe_ratios, mode='lines+markers'))\n",
    "fig.update_layout(title='Sharpe Ratio Over Iterations',\n",
    "                  xaxis_title='Iteration',\n",
    "                  yaxis_title='Sharpe Ratio',\n",
    "                  )\n",
    "fig.show()"
   ]
  },
  {
   "cell_type": "code",
   "execution_count": 105,
   "metadata": {},
   "outputs": [
    {
     "name": "stderr",
     "output_type": "stream",
     "text": [
      "  1%|          | 529/100000 [00:04<14:19, 115.73it/s]\n"
     ]
    },
    {
     "name": "stdout",
     "output_type": "stream",
     "text": [
      "All assets have been tested\n"
     ]
    },
    {
     "name": "stderr",
     "output_type": "stream",
     "text": [
      "  0%|          | 162/100000 [00:01<15:03, 110.50it/s]"
     ]
    },
    {
     "name": "stdout",
     "output_type": "stream",
     "text": [
      "All assets have been tested\n",
      "[ True  True  True  True  True  True  True  True]\n"
     ]
    },
    {
     "name": "stderr",
     "output_type": "stream",
     "text": [
      "\n"
     ]
    }
   ],
   "source": [
    "def run_MLRBA_multiple_times(names, cov, annualized_returns, num_runs, num_assets=8):\n",
    "\n",
    "    def generate_rand_port(tickers, num_assets, num_runs):\n",
    "        rand_port = []\n",
    "        for _ in range (num_runs):\n",
    "            base_portfolio = np.random.choice(list(tickers), num_assets, replace=False)\n",
    "            rand_port.append(base_portfolio)\n",
    "\n",
    "        return rand_port\n",
    "    \n",
    "    random_portfolios = generate_rand_port(names, num_assets=num_assets, num_runs=num_runs)\n",
    "\n",
    "    total_good_portfolios_length_v1 = 0\n",
    "    best_portfolios_v1 = []\n",
    "    best_iterations_v1 = []\n",
    "    \n",
    "    total_good_portfolios_length_v2 = 0\n",
    "    best_portfolios_v2 = []\n",
    "    best_iterations_v2 = []\n",
    "    \n",
    "    for portfolio in random_portfolios:\n",
    "        base_portfolio_v1, best_portfolio_v1, good_portfolios_v1, _, best_iteration_v1 = MLRBA_V1(names, cov, annualized_returns, base_portfolio=portfolio)\n",
    "        total_good_portfolios_length_v1 += len(good_portfolios_v1)\n",
    "        best_portfolios_v1.append(best_portfolio_v1)\n",
    "        best_iterations_v1.append(best_iteration_v1)\n",
    "        \n",
    "        base_portfolio_v2, best_portfolio_v2, good_portfolios_v2, _, best_iteration_v2 = MLRBA_V2(names, cov, annualized_returns, base_portfolio=portfolio)\n",
    "        total_good_portfolios_length_v2 += len(good_portfolios_v2)\n",
    "        best_portfolios_v2.append(best_portfolio_v2)\n",
    "        best_iterations_v2.append(best_iteration_v2)\n",
    "\n",
    "        print(base_portfolio_v1['tickers'] == base_portfolio_v2['tickers'])\n",
    "\n",
    "    average_length_v1 = total_good_portfolios_length_v1 / num_runs\n",
    "    average_iteration_v1 = statistics.fmean(best_iterations_v1)\n",
    "    std_dev_iteration_v1 = statistics.stdev(best_iterations_v1) if num_runs > 1 else 0\n",
    "\n",
    "    average_length_v2 = total_good_portfolios_length_v2 / num_runs\n",
    "    average_iteration_v2 = statistics.fmean(best_iterations_v2)\n",
    "    std_dev_iteration_v2 = statistics.stdev(best_iterations_v2) if num_runs > 1 else 0\n",
    "\n",
    "    \n",
    "    results = {\n",
    "        'v1': (base_portfolio_v1, average_length_v1, best_portfolios_v1, average_iteration_v1, std_dev_iteration_v1, best_iterations_v1),\n",
    "        'v2': (base_portfolio_v2, average_length_v2, best_portfolios_v2, average_iteration_v2, std_dev_iteration_v2, best_iterations_v2)\n",
    "    }\n",
    "    \n",
    "    return results\n",
    "\n",
    "num_runs = 1\n",
    "results = run_MLRBA_multiple_times(names, cov, annualized_returns, num_runs)\n",
    "\n",
    "_, _, _, average_iteration_v1, std_dev_v1, best_iterations_v1 = results['v1']\n",
    "_, _, _, average_iteration_v2, std_dev_v2, best_iterations_v2 = results['v2']"
   ]
  },
  {
   "cell_type": "code",
   "execution_count": 106,
   "metadata": {},
   "outputs": [
    {
     "data": {
      "application/vnd.plotly.v1+json": {
       "config": {
        "plotlyServerURL": "https://plot.ly"
       },
       "data": [
        {
         "mode": "lines",
         "name": "MLRBA V1",
         "type": "scatter",
         "x": [
          1
         ],
         "xaxis": "x",
         "y": [
          443
         ],
         "yaxis": "y"
        },
        {
         "mode": "lines",
         "name": "MLRBA V2",
         "type": "scatter",
         "x": [
          1
         ],
         "xaxis": "x",
         "y": [
          76
         ],
         "yaxis": "y"
        },
        {
         "error_y": {
          "array": [
           0
          ],
          "type": "data",
          "visible": true
         },
         "name": "MLRBA V1",
         "type": "bar",
         "width": 0.4,
         "x": [
          "MLRBA V1"
         ],
         "xaxis": "x2",
         "y": [
          443
         ],
         "yaxis": "y2"
        },
        {
         "error_y": {
          "array": [
           0
          ],
          "type": "data",
          "visible": true
         },
         "name": "MLRBA V2",
         "type": "bar",
         "width": 0.4,
         "x": [
          "MLRBA V2"
         ],
         "xaxis": "x2",
         "y": [
          76
         ],
         "yaxis": "y2"
        }
       ],
       "layout": {
        "annotations": [
         {
          "font": {
           "size": 16
          },
          "showarrow": false,
          "text": "Iterations to Reach Best Portfolio (Line Plot)",
          "x": 0.225,
          "xanchor": "center",
          "xref": "paper",
          "y": 1,
          "yanchor": "bottom",
          "yref": "paper"
         },
         {
          "font": {
           "size": 16
          },
          "showarrow": false,
          "text": "Iterations to Reach Best Portfolio (Bar Plot)",
          "x": 0.775,
          "xanchor": "center",
          "xref": "paper",
          "y": 1,
          "yanchor": "bottom",
          "yref": "paper"
         }
        ],
        "template": {
         "data": {
          "bar": [
           {
            "error_x": {
             "color": "#2a3f5f"
            },
            "error_y": {
             "color": "#2a3f5f"
            },
            "marker": {
             "line": {
              "color": "#E5ECF6",
              "width": 0.5
             },
             "pattern": {
              "fillmode": "overlay",
              "size": 10,
              "solidity": 0.2
             }
            },
            "type": "bar"
           }
          ],
          "barpolar": [
           {
            "marker": {
             "line": {
              "color": "#E5ECF6",
              "width": 0.5
             },
             "pattern": {
              "fillmode": "overlay",
              "size": 10,
              "solidity": 0.2
             }
            },
            "type": "barpolar"
           }
          ],
          "carpet": [
           {
            "aaxis": {
             "endlinecolor": "#2a3f5f",
             "gridcolor": "white",
             "linecolor": "white",
             "minorgridcolor": "white",
             "startlinecolor": "#2a3f5f"
            },
            "baxis": {
             "endlinecolor": "#2a3f5f",
             "gridcolor": "white",
             "linecolor": "white",
             "minorgridcolor": "white",
             "startlinecolor": "#2a3f5f"
            },
            "type": "carpet"
           }
          ],
          "choropleth": [
           {
            "colorbar": {
             "outlinewidth": 0,
             "ticks": ""
            },
            "type": "choropleth"
           }
          ],
          "contour": [
           {
            "colorbar": {
             "outlinewidth": 0,
             "ticks": ""
            },
            "colorscale": [
             [
              0,
              "#0d0887"
             ],
             [
              0.1111111111111111,
              "#46039f"
             ],
             [
              0.2222222222222222,
              "#7201a8"
             ],
             [
              0.3333333333333333,
              "#9c179e"
             ],
             [
              0.4444444444444444,
              "#bd3786"
             ],
             [
              0.5555555555555556,
              "#d8576b"
             ],
             [
              0.6666666666666666,
              "#ed7953"
             ],
             [
              0.7777777777777778,
              "#fb9f3a"
             ],
             [
              0.8888888888888888,
              "#fdca26"
             ],
             [
              1,
              "#f0f921"
             ]
            ],
            "type": "contour"
           }
          ],
          "contourcarpet": [
           {
            "colorbar": {
             "outlinewidth": 0,
             "ticks": ""
            },
            "type": "contourcarpet"
           }
          ],
          "heatmap": [
           {
            "colorbar": {
             "outlinewidth": 0,
             "ticks": ""
            },
            "colorscale": [
             [
              0,
              "#0d0887"
             ],
             [
              0.1111111111111111,
              "#46039f"
             ],
             [
              0.2222222222222222,
              "#7201a8"
             ],
             [
              0.3333333333333333,
              "#9c179e"
             ],
             [
              0.4444444444444444,
              "#bd3786"
             ],
             [
              0.5555555555555556,
              "#d8576b"
             ],
             [
              0.6666666666666666,
              "#ed7953"
             ],
             [
              0.7777777777777778,
              "#fb9f3a"
             ],
             [
              0.8888888888888888,
              "#fdca26"
             ],
             [
              1,
              "#f0f921"
             ]
            ],
            "type": "heatmap"
           }
          ],
          "histogram": [
           {
            "marker": {
             "pattern": {
              "fillmode": "overlay",
              "size": 10,
              "solidity": 0.2
             }
            },
            "type": "histogram"
           }
          ],
          "histogram2d": [
           {
            "colorbar": {
             "outlinewidth": 0,
             "ticks": ""
            },
            "colorscale": [
             [
              0,
              "#0d0887"
             ],
             [
              0.1111111111111111,
              "#46039f"
             ],
             [
              0.2222222222222222,
              "#7201a8"
             ],
             [
              0.3333333333333333,
              "#9c179e"
             ],
             [
              0.4444444444444444,
              "#bd3786"
             ],
             [
              0.5555555555555556,
              "#d8576b"
             ],
             [
              0.6666666666666666,
              "#ed7953"
             ],
             [
              0.7777777777777778,
              "#fb9f3a"
             ],
             [
              0.8888888888888888,
              "#fdca26"
             ],
             [
              1,
              "#f0f921"
             ]
            ],
            "type": "histogram2d"
           }
          ],
          "histogram2dcontour": [
           {
            "colorbar": {
             "outlinewidth": 0,
             "ticks": ""
            },
            "colorscale": [
             [
              0,
              "#0d0887"
             ],
             [
              0.1111111111111111,
              "#46039f"
             ],
             [
              0.2222222222222222,
              "#7201a8"
             ],
             [
              0.3333333333333333,
              "#9c179e"
             ],
             [
              0.4444444444444444,
              "#bd3786"
             ],
             [
              0.5555555555555556,
              "#d8576b"
             ],
             [
              0.6666666666666666,
              "#ed7953"
             ],
             [
              0.7777777777777778,
              "#fb9f3a"
             ],
             [
              0.8888888888888888,
              "#fdca26"
             ],
             [
              1,
              "#f0f921"
             ]
            ],
            "type": "histogram2dcontour"
           }
          ],
          "mesh3d": [
           {
            "colorbar": {
             "outlinewidth": 0,
             "ticks": ""
            },
            "type": "mesh3d"
           }
          ],
          "parcoords": [
           {
            "line": {
             "colorbar": {
              "outlinewidth": 0,
              "ticks": ""
             }
            },
            "type": "parcoords"
           }
          ],
          "pie": [
           {
            "automargin": true,
            "type": "pie"
           }
          ],
          "scatter": [
           {
            "fillpattern": {
             "fillmode": "overlay",
             "size": 10,
             "solidity": 0.2
            },
            "type": "scatter"
           }
          ],
          "scatter3d": [
           {
            "line": {
             "colorbar": {
              "outlinewidth": 0,
              "ticks": ""
             }
            },
            "marker": {
             "colorbar": {
              "outlinewidth": 0,
              "ticks": ""
             }
            },
            "type": "scatter3d"
           }
          ],
          "scattercarpet": [
           {
            "marker": {
             "colorbar": {
              "outlinewidth": 0,
              "ticks": ""
             }
            },
            "type": "scattercarpet"
           }
          ],
          "scattergeo": [
           {
            "marker": {
             "colorbar": {
              "outlinewidth": 0,
              "ticks": ""
             }
            },
            "type": "scattergeo"
           }
          ],
          "scattergl": [
           {
            "marker": {
             "colorbar": {
              "outlinewidth": 0,
              "ticks": ""
             }
            },
            "type": "scattergl"
           }
          ],
          "scattermap": [
           {
            "marker": {
             "colorbar": {
              "outlinewidth": 0,
              "ticks": ""
             }
            },
            "type": "scattermap"
           }
          ],
          "scattermapbox": [
           {
            "marker": {
             "colorbar": {
              "outlinewidth": 0,
              "ticks": ""
             }
            },
            "type": "scattermapbox"
           }
          ],
          "scatterpolar": [
           {
            "marker": {
             "colorbar": {
              "outlinewidth": 0,
              "ticks": ""
             }
            },
            "type": "scatterpolar"
           }
          ],
          "scatterpolargl": [
           {
            "marker": {
             "colorbar": {
              "outlinewidth": 0,
              "ticks": ""
             }
            },
            "type": "scatterpolargl"
           }
          ],
          "scatterternary": [
           {
            "marker": {
             "colorbar": {
              "outlinewidth": 0,
              "ticks": ""
             }
            },
            "type": "scatterternary"
           }
          ],
          "surface": [
           {
            "colorbar": {
             "outlinewidth": 0,
             "ticks": ""
            },
            "colorscale": [
             [
              0,
              "#0d0887"
             ],
             [
              0.1111111111111111,
              "#46039f"
             ],
             [
              0.2222222222222222,
              "#7201a8"
             ],
             [
              0.3333333333333333,
              "#9c179e"
             ],
             [
              0.4444444444444444,
              "#bd3786"
             ],
             [
              0.5555555555555556,
              "#d8576b"
             ],
             [
              0.6666666666666666,
              "#ed7953"
             ],
             [
              0.7777777777777778,
              "#fb9f3a"
             ],
             [
              0.8888888888888888,
              "#fdca26"
             ],
             [
              1,
              "#f0f921"
             ]
            ],
            "type": "surface"
           }
          ],
          "table": [
           {
            "cells": {
             "fill": {
              "color": "#EBF0F8"
             },
             "line": {
              "color": "white"
             }
            },
            "header": {
             "fill": {
              "color": "#C8D4E3"
             },
             "line": {
              "color": "white"
             }
            },
            "type": "table"
           }
          ]
         },
         "layout": {
          "annotationdefaults": {
           "arrowcolor": "#2a3f5f",
           "arrowhead": 0,
           "arrowwidth": 1
          },
          "autotypenumbers": "strict",
          "coloraxis": {
           "colorbar": {
            "outlinewidth": 0,
            "ticks": ""
           }
          },
          "colorscale": {
           "diverging": [
            [
             0,
             "#8e0152"
            ],
            [
             0.1,
             "#c51b7d"
            ],
            [
             0.2,
             "#de77ae"
            ],
            [
             0.3,
             "#f1b6da"
            ],
            [
             0.4,
             "#fde0ef"
            ],
            [
             0.5,
             "#f7f7f7"
            ],
            [
             0.6,
             "#e6f5d0"
            ],
            [
             0.7,
             "#b8e186"
            ],
            [
             0.8,
             "#7fbc41"
            ],
            [
             0.9,
             "#4d9221"
            ],
            [
             1,
             "#276419"
            ]
           ],
           "sequential": [
            [
             0,
             "#0d0887"
            ],
            [
             0.1111111111111111,
             "#46039f"
            ],
            [
             0.2222222222222222,
             "#7201a8"
            ],
            [
             0.3333333333333333,
             "#9c179e"
            ],
            [
             0.4444444444444444,
             "#bd3786"
            ],
            [
             0.5555555555555556,
             "#d8576b"
            ],
            [
             0.6666666666666666,
             "#ed7953"
            ],
            [
             0.7777777777777778,
             "#fb9f3a"
            ],
            [
             0.8888888888888888,
             "#fdca26"
            ],
            [
             1,
             "#f0f921"
            ]
           ],
           "sequentialminus": [
            [
             0,
             "#0d0887"
            ],
            [
             0.1111111111111111,
             "#46039f"
            ],
            [
             0.2222222222222222,
             "#7201a8"
            ],
            [
             0.3333333333333333,
             "#9c179e"
            ],
            [
             0.4444444444444444,
             "#bd3786"
            ],
            [
             0.5555555555555556,
             "#d8576b"
            ],
            [
             0.6666666666666666,
             "#ed7953"
            ],
            [
             0.7777777777777778,
             "#fb9f3a"
            ],
            [
             0.8888888888888888,
             "#fdca26"
            ],
            [
             1,
             "#f0f921"
            ]
           ]
          },
          "colorway": [
           "#636efa",
           "#EF553B",
           "#00cc96",
           "#ab63fa",
           "#FFA15A",
           "#19d3f3",
           "#FF6692",
           "#B6E880",
           "#FF97FF",
           "#FECB52"
          ],
          "font": {
           "color": "#2a3f5f"
          },
          "geo": {
           "bgcolor": "white",
           "lakecolor": "white",
           "landcolor": "#E5ECF6",
           "showlakes": true,
           "showland": true,
           "subunitcolor": "white"
          },
          "hoverlabel": {
           "align": "left"
          },
          "hovermode": "closest",
          "mapbox": {
           "style": "light"
          },
          "paper_bgcolor": "white",
          "plot_bgcolor": "#E5ECF6",
          "polar": {
           "angularaxis": {
            "gridcolor": "white",
            "linecolor": "white",
            "ticks": ""
           },
           "bgcolor": "#E5ECF6",
           "radialaxis": {
            "gridcolor": "white",
            "linecolor": "white",
            "ticks": ""
           }
          },
          "scene": {
           "xaxis": {
            "backgroundcolor": "#E5ECF6",
            "gridcolor": "white",
            "gridwidth": 2,
            "linecolor": "white",
            "showbackground": true,
            "ticks": "",
            "zerolinecolor": "white"
           },
           "yaxis": {
            "backgroundcolor": "#E5ECF6",
            "gridcolor": "white",
            "gridwidth": 2,
            "linecolor": "white",
            "showbackground": true,
            "ticks": "",
            "zerolinecolor": "white"
           },
           "zaxis": {
            "backgroundcolor": "#E5ECF6",
            "gridcolor": "white",
            "gridwidth": 2,
            "linecolor": "white",
            "showbackground": true,
            "ticks": "",
            "zerolinecolor": "white"
           }
          },
          "shapedefaults": {
           "line": {
            "color": "#2a3f5f"
           }
          },
          "ternary": {
           "aaxis": {
            "gridcolor": "white",
            "linecolor": "white",
            "ticks": ""
           },
           "baxis": {
            "gridcolor": "white",
            "linecolor": "white",
            "ticks": ""
           },
           "bgcolor": "#E5ECF6",
           "caxis": {
            "gridcolor": "white",
            "linecolor": "white",
            "ticks": ""
           }
          },
          "title": {
           "x": 0.05
          },
          "xaxis": {
           "automargin": true,
           "gridcolor": "white",
           "linecolor": "white",
           "ticks": "",
           "title": {
            "standoff": 15
           },
           "zerolinecolor": "white",
           "zerolinewidth": 2
          },
          "yaxis": {
           "automargin": true,
           "gridcolor": "white",
           "linecolor": "white",
           "ticks": "",
           "title": {
            "standoff": 15
           },
           "zerolinecolor": "white",
           "zerolinewidth": 2
          }
         }
        },
        "xaxis": {
         "anchor": "y",
         "domain": [
          0,
          0.45
         ],
         "title": {
          "text": "Run Number"
         }
        },
        "xaxis2": {
         "anchor": "y2",
         "domain": [
          0.55,
          1
         ],
         "title": {
          "text": "Run Number"
         }
        },
        "yaxis": {
         "anchor": "x",
         "domain": [
          0,
          1
         ],
         "title": {
          "text": "Average Number of Iterations to Best Portfolio"
         }
        },
        "yaxis2": {
         "anchor": "x2",
         "domain": [
          0,
          1
         ],
         "title": {
          "text": "Average Number of Iterations to Best Portfolio"
         }
        }
       }
      }
     },
     "metadata": {},
     "output_type": "display_data"
    }
   ],
   "source": [
    "import plotly.graph_objects as go\n",
    "from plotly.subplots import make_subplots\n",
    "\n",
    "fig = make_subplots(\n",
    "    rows=1, cols=2,\n",
    "    subplot_titles=[\n",
    "        \"Iterations to Reach Best Portfolio (Line Plot)\",\n",
    "        \"Iterations to Reach Best Portfolio (Bar Plot)\"\n",
    "    ],)\n",
    "\n",
    "fig.add_trace(\n",
    "    go.Scatter(x=list(range(1, num_runs + 1)), y=best_iterations_v1, mode='lines', name='MLRBA V1'),\n",
    "    row=1, col=1\n",
    ")\n",
    "fig.add_trace(\n",
    "    go.Scatter(x=list(range(1, num_runs + 1)), y=best_iterations_v2, mode='lines', name='MLRBA V2'),\n",
    "    row=1, col=1\n",
    ")\n",
    "fig.update_xaxes(title_text='Run Number', row=1, col=1)\n",
    "fig.update_yaxes(title_text='Average Number of Iterations to Best Portfolio', row=1, col=1)\n",
    "\n",
    "fig.add_trace(\n",
    "    go.Bar(x=['MLRBA V1'], y=[average_iteration_v1], name='MLRBA V1', width=0.4,\n",
    "           error_y=dict(type='data', array=[std_dev_v1], visible=True)),\n",
    "    row=1, col=2\n",
    ")\n",
    "fig.add_trace(\n",
    "    go.Bar(x=['MLRBA V2'], y=[average_iteration_v2], name='MLRBA V2', width=0.4,\n",
    "           error_y=dict(type='data', array=[std_dev_v2], visible=True)),\n",
    "    row=1, col=2\n",
    ")\n",
    "fig.update_xaxes(title_text='Run Number', row=1, col=2)\n",
    "fig.update_yaxes(title_text='Average Number of Iterations to Best Portfolio', row=1, col=2)\n",
    "\n",
    "fig.show()"
   ]
  },
  {
   "cell_type": "markdown",
   "metadata": {},
   "source": [
    "## 6.0 Portfolio Prediction using LSTM"
   ]
  },
  {
   "cell_type": "code",
   "execution_count": 107,
   "metadata": {},
   "outputs": [],
   "source": [
    "class PortfolioPredictor:\n",
    "    def __init__(self, raw_data_train, raw_data_test, best_portfolio, n_steps=1, epochs=50, batch_size=32):\n",
    "        self.raw_data_train = raw_data_train\n",
    "        self.raw_data_test = raw_data_test\n",
    "        self.best_portfolio = best_portfolio\n",
    "        self.n_steps = n_steps\n",
    "        self.epochs = epochs\n",
    "        self.batch_size = batch_size\n",
    "        self.model = None\n",
    "        self.history = None\n",
    "\n",
    "    def preprocess_data(self):\n",
    "        best_portfolio_data_train = self.raw_data_train[self.best_portfolio['tickers']]\n",
    "        best_portfolio_data_test = self.raw_data_test[self.best_portfolio['tickers']]\n",
    "        weights = np.array(self.best_portfolio['weights'])\n",
    "\n",
    "        # Use a scaler fitted on a broader dataset so that training/test normalization is consistent\n",
    "        self.scaler = MinMaxScaler(feature_range=(0, 1))\n",
    "        # Fit on the entire raw_data (or on a fixed training period) for consistency\n",
    "        full_data = pd.concat([best_portfolio_data_train, best_portfolio_data_test])\n",
    "        self.scaler.fit(full_data)\n",
    "        \n",
    "        normalized_train_data = self.scaler.transform(best_portfolio_data_train)\n",
    "        normalized_test_data = self.scaler.transform(best_portfolio_data_test)\n",
    "\n",
    "        self.weighted_returns_train = np.dot(normalized_train_data, weights)\n",
    "        self.weighted_returns_test = np.dot(normalized_test_data, weights)\n",
    "\n",
    "    def create_datasets(self, data):\n",
    "        X, y = [], []\n",
    "        for i in range(len(data) - self.n_steps):\n",
    "            v = data[i:(i + self.n_steps), :]\n",
    "            X.append(v)\n",
    "            y.append(data[i + self.n_steps, :])\n",
    "        return np.array(X), np.array(y)\n",
    "\n",
    "    def build_model(self):\n",
    "        self.model = Sequential([\n",
    "            LSTM(250, activation='relu', return_sequences=True),\n",
    "            Dropout(0.2),\n",
    "            LSTM(50, activation='relu', return_sequences=False),\n",
    "            Dropout(0.2),\n",
    "            Dense(1),\n",
    "        ])\n",
    "\n",
    "        def tf_weighted_mse(y_true, y_pred, power=3):\n",
    "            n = tf.shape(y_true)[0]\n",
    "            normalized_index = tf.cond(\n",
    "                tf.equal(n, 1),\n",
    "                lambda: tf.ones([n], dtype=tf.float32),\n",
    "                lambda: tf.cast(tf.range(n), tf.float32) / tf.cast(n - 1, tf.float32)\n",
    "            )\n",
    "            weights = tf.pow(normalized_index, power)\n",
    "            weights += 1e-6\n",
    "            weights /= tf.reduce_sum(weights)\n",
    "            \n",
    "            squared_errors = tf.square(y_true - y_pred)\n",
    "            weighted_squared_errors = weights * squared_errors\n",
    "            return tf.reduce_mean(weighted_squared_errors)\n",
    "\n",
    "        self.model.compile(optimizer='adam', loss=tf_weighted_mse)\n",
    "\n",
    "    def train_model(self):\n",
    "        self.X_train_weighted, self.y_train_weighted = self.create_datasets(self.weighted_returns_train.reshape(-1, 1))\n",
    "        self.history = self.model.fit(self.X_train_weighted, self.y_train_weighted, epochs=self.epochs, batch_size=self.batch_size, validation_split=0.001, shuffle=False, verbose=0)\n",
    "\n",
    "    def predict(self):\n",
    "        X_test_weighted, y_test_weighted = self.create_datasets(self.weighted_returns_test.reshape(-1, 1))\n",
    "        \n",
    "        self.predictions = self.model.predict(X_test_weighted)\n",
    "        self.y_test_weighted = y_test_weighted\n",
    "        \n",
    "        return self.predictions\n",
    "\n",
    "    def normalize_cumulative_returns(self, data):\n",
    "        data_series = pd.Series(data.flatten())\n",
    "        pct_change = data_series.pct_change().fillna(0)\n",
    "        cum_returns = (1 + pct_change).cumprod()\n",
    "        normalized_returns = cum_returns * 100\n",
    "        return normalized_returns\n",
    "\n",
    "    def normalize_cumulative_returns_with_baseline(self, data, baseline):\n",
    "        data_series = pd.Series(data.flatten())\n",
    "        pct_change = data_series.pct_change().fillna(0)\n",
    "        cum_returns = (1 + pct_change).cumprod()\n",
    "        normalized_returns = cum_returns * baseline\n",
    "        return normalized_returns\n",
    "\n",
    "    def plot_loss(self):\n",
    "        fig = go.Figure()\n",
    "        fig.add_trace(go.Scatter(x=np.arange(1, len(self.history.history['loss'])+1), y=self.history.history['loss'], mode='lines', name='Training Loss'))\n",
    "        fig.add_trace(go.Scatter(x=np.arange(1, len(self.history.history['val_loss'])+1), y=self.history.history['val_loss'], mode='lines', name='Validation Loss'))\n",
    "        fig.update_layout(title='Training and Validation Loss Over Epochs',\n",
    "                          xaxis_title='Epoch',\n",
    "                          yaxis_title='Loss',\n",
    "                          legend_title='Type of Loss')\n",
    "        fig.show()\n",
    "        \n",
    "    def plot_predictions(self):\n",
    "        normalized_train = self.normalize_cumulative_returns(self.y_train_weighted)\n",
    "        training_end_value = normalized_train.iloc[-1]\n",
    "        normalized_test = self.normalize_cumulative_returns_with_baseline(self.y_test_weighted, training_end_value)\n",
    "        normalized_predicted = self.normalize_cumulative_returns_with_baseline(self.predictions, training_end_value)\n",
    "\n",
    "        fig = go.Figure()\n",
    "        # Plot the training portfolio (January to June)\n",
    "        fig.add_trace(go.Scatter(\n",
    "            x=self.raw_data_train.index,\n",
    "            y=normalized_train,\n",
    "            mode='lines',\n",
    "            name='Actual Training Returns'\n",
    "        ))\n",
    "        # Plot the actual test portfolio (June to December)\n",
    "        fig.add_trace(go.Scatter(\n",
    "            x=self.raw_data_test.index[-len(normalized_test):],\n",
    "            y=normalized_test,\n",
    "            mode='lines',\n",
    "            name='Actual Test Returns'\n",
    "        ))\n",
    "        # Plot the predicted portfolio (June to December)\n",
    "        fig.add_trace(go.Scatter(\n",
    "            x=self.raw_data_test.index[-len(normalized_predicted):],\n",
    "            y=normalized_predicted,\n",
    "            mode='lines',\n",
    "            name='Predicted Test Returns'\n",
    "        ))\n",
    "        fig.update_layout(\n",
    "            title='Actual vs Predicted Weighted Portfolio Returns',\n",
    "            xaxis_title='Date',\n",
    "            yaxis_title='Normalized Returns',\n",
    "            legend_title='Portfolio'\n",
    "        )\n",
    "        fig.show()\n"
   ]
  },
  {
   "cell_type": "code",
   "execution_count": 108,
   "metadata": {},
   "outputs": [
    {
     "name": "stdout",
     "output_type": "stream",
     "text": [
      "\u001b[1m4/4\u001b[0m \u001b[32m━━━━━━━━━━━━━━━━━━━━\u001b[0m\u001b[37m\u001b[0m \u001b[1m0s\u001b[0m 60ms/step\n"
     ]
    },
    {
     "data": {
      "application/vnd.plotly.v1+json": {
       "config": {
        "plotlyServerURL": "https://plot.ly"
       },
       "data": [
        {
         "mode": "lines",
         "name": "Training Loss",
         "type": "scatter",
         "x": {
          "bdata": "AQIDBAUGBwgJCgsMDQ4PEBESExQVFhcYGRobHB0e",
          "dtype": "i1"
         },
         "y": [
          0.0054558138363063335,
          0.004981796257197857,
          0.004596336744725704,
          0.004038138780742884,
          0.003629011334851384,
          0.0030127479694783688,
          0.0024763077963143587,
          0.0017846445553004742,
          0.0012091532116755843,
          0.0006551195401698351,
          0.0003990289696957916,
          0.0006389549234881997,
          0.0006764999707229435,
          0.0006292914622463286,
          0.0006359766703099012,
          0.0003996650339104235,
          0.0004310790973249823,
          0.0004027985851280391,
          0.0004272844234947115,
          0.0004084550600964576,
          0.00033997942227870226,
          0.00038355716969817877,
          0.00028288931935094297,
          0.0003573777503333986,
          0.00033518578857183456,
          0.0002379728393862024,
          0.0001874123845482245,
          0.00017956028750631958,
          0.00018279661890119314,
          0.00019603960390668362
         ]
        },
        {
         "mode": "lines",
         "name": "Validation Loss",
         "type": "scatter",
         "x": {
          "bdata": "AQIDBAUGBwgJCgsMDQ4PEBESExQVFhcYGRobHB0e",
          "dtype": "i1"
         },
         "y": [
          0.2336367964744568,
          0.2158925086259842,
          0.19720374047756195,
          0.17698173224925995,
          0.1543530970811844,
          0.12908309698104858,
          0.10061100125312805,
          0.07014545798301697,
          0.03985445573925972,
          0.014447390101850033,
          0.0009736050269566476,
          0.00111912633292377,
          0.0010587250581011176,
          0.00007850473775761202,
          0.0005068661412224174,
          0.0005803392268717289,
          0.0003584708319976926,
          1.750919409460039e-8,
          0.00006871607183711603,
          0.000010759467841126025,
          0.0003072703839279711,
          0.000017597314581507817,
          0.0009343153797090054,
          0.0015994629357010126,
          0.00048297838657163084,
          0.00006658698112005368,
          0.00027322437381371856,
          0.00014433982141781598,
          0.001490210648626089,
          0.00028966169338673353
         ]
        }
       ],
       "layout": {
        "legend": {
         "title": {
          "text": "Type of Loss"
         }
        },
        "template": {
         "data": {
          "bar": [
           {
            "error_x": {
             "color": "#2a3f5f"
            },
            "error_y": {
             "color": "#2a3f5f"
            },
            "marker": {
             "line": {
              "color": "#E5ECF6",
              "width": 0.5
             },
             "pattern": {
              "fillmode": "overlay",
              "size": 10,
              "solidity": 0.2
             }
            },
            "type": "bar"
           }
          ],
          "barpolar": [
           {
            "marker": {
             "line": {
              "color": "#E5ECF6",
              "width": 0.5
             },
             "pattern": {
              "fillmode": "overlay",
              "size": 10,
              "solidity": 0.2
             }
            },
            "type": "barpolar"
           }
          ],
          "carpet": [
           {
            "aaxis": {
             "endlinecolor": "#2a3f5f",
             "gridcolor": "white",
             "linecolor": "white",
             "minorgridcolor": "white",
             "startlinecolor": "#2a3f5f"
            },
            "baxis": {
             "endlinecolor": "#2a3f5f",
             "gridcolor": "white",
             "linecolor": "white",
             "minorgridcolor": "white",
             "startlinecolor": "#2a3f5f"
            },
            "type": "carpet"
           }
          ],
          "choropleth": [
           {
            "colorbar": {
             "outlinewidth": 0,
             "ticks": ""
            },
            "type": "choropleth"
           }
          ],
          "contour": [
           {
            "colorbar": {
             "outlinewidth": 0,
             "ticks": ""
            },
            "colorscale": [
             [
              0,
              "#0d0887"
             ],
             [
              0.1111111111111111,
              "#46039f"
             ],
             [
              0.2222222222222222,
              "#7201a8"
             ],
             [
              0.3333333333333333,
              "#9c179e"
             ],
             [
              0.4444444444444444,
              "#bd3786"
             ],
             [
              0.5555555555555556,
              "#d8576b"
             ],
             [
              0.6666666666666666,
              "#ed7953"
             ],
             [
              0.7777777777777778,
              "#fb9f3a"
             ],
             [
              0.8888888888888888,
              "#fdca26"
             ],
             [
              1,
              "#f0f921"
             ]
            ],
            "type": "contour"
           }
          ],
          "contourcarpet": [
           {
            "colorbar": {
             "outlinewidth": 0,
             "ticks": ""
            },
            "type": "contourcarpet"
           }
          ],
          "heatmap": [
           {
            "colorbar": {
             "outlinewidth": 0,
             "ticks": ""
            },
            "colorscale": [
             [
              0,
              "#0d0887"
             ],
             [
              0.1111111111111111,
              "#46039f"
             ],
             [
              0.2222222222222222,
              "#7201a8"
             ],
             [
              0.3333333333333333,
              "#9c179e"
             ],
             [
              0.4444444444444444,
              "#bd3786"
             ],
             [
              0.5555555555555556,
              "#d8576b"
             ],
             [
              0.6666666666666666,
              "#ed7953"
             ],
             [
              0.7777777777777778,
              "#fb9f3a"
             ],
             [
              0.8888888888888888,
              "#fdca26"
             ],
             [
              1,
              "#f0f921"
             ]
            ],
            "type": "heatmap"
           }
          ],
          "histogram": [
           {
            "marker": {
             "pattern": {
              "fillmode": "overlay",
              "size": 10,
              "solidity": 0.2
             }
            },
            "type": "histogram"
           }
          ],
          "histogram2d": [
           {
            "colorbar": {
             "outlinewidth": 0,
             "ticks": ""
            },
            "colorscale": [
             [
              0,
              "#0d0887"
             ],
             [
              0.1111111111111111,
              "#46039f"
             ],
             [
              0.2222222222222222,
              "#7201a8"
             ],
             [
              0.3333333333333333,
              "#9c179e"
             ],
             [
              0.4444444444444444,
              "#bd3786"
             ],
             [
              0.5555555555555556,
              "#d8576b"
             ],
             [
              0.6666666666666666,
              "#ed7953"
             ],
             [
              0.7777777777777778,
              "#fb9f3a"
             ],
             [
              0.8888888888888888,
              "#fdca26"
             ],
             [
              1,
              "#f0f921"
             ]
            ],
            "type": "histogram2d"
           }
          ],
          "histogram2dcontour": [
           {
            "colorbar": {
             "outlinewidth": 0,
             "ticks": ""
            },
            "colorscale": [
             [
              0,
              "#0d0887"
             ],
             [
              0.1111111111111111,
              "#46039f"
             ],
             [
              0.2222222222222222,
              "#7201a8"
             ],
             [
              0.3333333333333333,
              "#9c179e"
             ],
             [
              0.4444444444444444,
              "#bd3786"
             ],
             [
              0.5555555555555556,
              "#d8576b"
             ],
             [
              0.6666666666666666,
              "#ed7953"
             ],
             [
              0.7777777777777778,
              "#fb9f3a"
             ],
             [
              0.8888888888888888,
              "#fdca26"
             ],
             [
              1,
              "#f0f921"
             ]
            ],
            "type": "histogram2dcontour"
           }
          ],
          "mesh3d": [
           {
            "colorbar": {
             "outlinewidth": 0,
             "ticks": ""
            },
            "type": "mesh3d"
           }
          ],
          "parcoords": [
           {
            "line": {
             "colorbar": {
              "outlinewidth": 0,
              "ticks": ""
             }
            },
            "type": "parcoords"
           }
          ],
          "pie": [
           {
            "automargin": true,
            "type": "pie"
           }
          ],
          "scatter": [
           {
            "fillpattern": {
             "fillmode": "overlay",
             "size": 10,
             "solidity": 0.2
            },
            "type": "scatter"
           }
          ],
          "scatter3d": [
           {
            "line": {
             "colorbar": {
              "outlinewidth": 0,
              "ticks": ""
             }
            },
            "marker": {
             "colorbar": {
              "outlinewidth": 0,
              "ticks": ""
             }
            },
            "type": "scatter3d"
           }
          ],
          "scattercarpet": [
           {
            "marker": {
             "colorbar": {
              "outlinewidth": 0,
              "ticks": ""
             }
            },
            "type": "scattercarpet"
           }
          ],
          "scattergeo": [
           {
            "marker": {
             "colorbar": {
              "outlinewidth": 0,
              "ticks": ""
             }
            },
            "type": "scattergeo"
           }
          ],
          "scattergl": [
           {
            "marker": {
             "colorbar": {
              "outlinewidth": 0,
              "ticks": ""
             }
            },
            "type": "scattergl"
           }
          ],
          "scattermap": [
           {
            "marker": {
             "colorbar": {
              "outlinewidth": 0,
              "ticks": ""
             }
            },
            "type": "scattermap"
           }
          ],
          "scattermapbox": [
           {
            "marker": {
             "colorbar": {
              "outlinewidth": 0,
              "ticks": ""
             }
            },
            "type": "scattermapbox"
           }
          ],
          "scatterpolar": [
           {
            "marker": {
             "colorbar": {
              "outlinewidth": 0,
              "ticks": ""
             }
            },
            "type": "scatterpolar"
           }
          ],
          "scatterpolargl": [
           {
            "marker": {
             "colorbar": {
              "outlinewidth": 0,
              "ticks": ""
             }
            },
            "type": "scatterpolargl"
           }
          ],
          "scatterternary": [
           {
            "marker": {
             "colorbar": {
              "outlinewidth": 0,
              "ticks": ""
             }
            },
            "type": "scatterternary"
           }
          ],
          "surface": [
           {
            "colorbar": {
             "outlinewidth": 0,
             "ticks": ""
            },
            "colorscale": [
             [
              0,
              "#0d0887"
             ],
             [
              0.1111111111111111,
              "#46039f"
             ],
             [
              0.2222222222222222,
              "#7201a8"
             ],
             [
              0.3333333333333333,
              "#9c179e"
             ],
             [
              0.4444444444444444,
              "#bd3786"
             ],
             [
              0.5555555555555556,
              "#d8576b"
             ],
             [
              0.6666666666666666,
              "#ed7953"
             ],
             [
              0.7777777777777778,
              "#fb9f3a"
             ],
             [
              0.8888888888888888,
              "#fdca26"
             ],
             [
              1,
              "#f0f921"
             ]
            ],
            "type": "surface"
           }
          ],
          "table": [
           {
            "cells": {
             "fill": {
              "color": "#EBF0F8"
             },
             "line": {
              "color": "white"
             }
            },
            "header": {
             "fill": {
              "color": "#C8D4E3"
             },
             "line": {
              "color": "white"
             }
            },
            "type": "table"
           }
          ]
         },
         "layout": {
          "annotationdefaults": {
           "arrowcolor": "#2a3f5f",
           "arrowhead": 0,
           "arrowwidth": 1
          },
          "autotypenumbers": "strict",
          "coloraxis": {
           "colorbar": {
            "outlinewidth": 0,
            "ticks": ""
           }
          },
          "colorscale": {
           "diverging": [
            [
             0,
             "#8e0152"
            ],
            [
             0.1,
             "#c51b7d"
            ],
            [
             0.2,
             "#de77ae"
            ],
            [
             0.3,
             "#f1b6da"
            ],
            [
             0.4,
             "#fde0ef"
            ],
            [
             0.5,
             "#f7f7f7"
            ],
            [
             0.6,
             "#e6f5d0"
            ],
            [
             0.7,
             "#b8e186"
            ],
            [
             0.8,
             "#7fbc41"
            ],
            [
             0.9,
             "#4d9221"
            ],
            [
             1,
             "#276419"
            ]
           ],
           "sequential": [
            [
             0,
             "#0d0887"
            ],
            [
             0.1111111111111111,
             "#46039f"
            ],
            [
             0.2222222222222222,
             "#7201a8"
            ],
            [
             0.3333333333333333,
             "#9c179e"
            ],
            [
             0.4444444444444444,
             "#bd3786"
            ],
            [
             0.5555555555555556,
             "#d8576b"
            ],
            [
             0.6666666666666666,
             "#ed7953"
            ],
            [
             0.7777777777777778,
             "#fb9f3a"
            ],
            [
             0.8888888888888888,
             "#fdca26"
            ],
            [
             1,
             "#f0f921"
            ]
           ],
           "sequentialminus": [
            [
             0,
             "#0d0887"
            ],
            [
             0.1111111111111111,
             "#46039f"
            ],
            [
             0.2222222222222222,
             "#7201a8"
            ],
            [
             0.3333333333333333,
             "#9c179e"
            ],
            [
             0.4444444444444444,
             "#bd3786"
            ],
            [
             0.5555555555555556,
             "#d8576b"
            ],
            [
             0.6666666666666666,
             "#ed7953"
            ],
            [
             0.7777777777777778,
             "#fb9f3a"
            ],
            [
             0.8888888888888888,
             "#fdca26"
            ],
            [
             1,
             "#f0f921"
            ]
           ]
          },
          "colorway": [
           "#636efa",
           "#EF553B",
           "#00cc96",
           "#ab63fa",
           "#FFA15A",
           "#19d3f3",
           "#FF6692",
           "#B6E880",
           "#FF97FF",
           "#FECB52"
          ],
          "font": {
           "color": "#2a3f5f"
          },
          "geo": {
           "bgcolor": "white",
           "lakecolor": "white",
           "landcolor": "#E5ECF6",
           "showlakes": true,
           "showland": true,
           "subunitcolor": "white"
          },
          "hoverlabel": {
           "align": "left"
          },
          "hovermode": "closest",
          "mapbox": {
           "style": "light"
          },
          "paper_bgcolor": "white",
          "plot_bgcolor": "#E5ECF6",
          "polar": {
           "angularaxis": {
            "gridcolor": "white",
            "linecolor": "white",
            "ticks": ""
           },
           "bgcolor": "#E5ECF6",
           "radialaxis": {
            "gridcolor": "white",
            "linecolor": "white",
            "ticks": ""
           }
          },
          "scene": {
           "xaxis": {
            "backgroundcolor": "#E5ECF6",
            "gridcolor": "white",
            "gridwidth": 2,
            "linecolor": "white",
            "showbackground": true,
            "ticks": "",
            "zerolinecolor": "white"
           },
           "yaxis": {
            "backgroundcolor": "#E5ECF6",
            "gridcolor": "white",
            "gridwidth": 2,
            "linecolor": "white",
            "showbackground": true,
            "ticks": "",
            "zerolinecolor": "white"
           },
           "zaxis": {
            "backgroundcolor": "#E5ECF6",
            "gridcolor": "white",
            "gridwidth": 2,
            "linecolor": "white",
            "showbackground": true,
            "ticks": "",
            "zerolinecolor": "white"
           }
          },
          "shapedefaults": {
           "line": {
            "color": "#2a3f5f"
           }
          },
          "ternary": {
           "aaxis": {
            "gridcolor": "white",
            "linecolor": "white",
            "ticks": ""
           },
           "baxis": {
            "gridcolor": "white",
            "linecolor": "white",
            "ticks": ""
           },
           "bgcolor": "#E5ECF6",
           "caxis": {
            "gridcolor": "white",
            "linecolor": "white",
            "ticks": ""
           }
          },
          "title": {
           "x": 0.05
          },
          "xaxis": {
           "automargin": true,
           "gridcolor": "white",
           "linecolor": "white",
           "ticks": "",
           "title": {
            "standoff": 15
           },
           "zerolinecolor": "white",
           "zerolinewidth": 2
          },
          "yaxis": {
           "automargin": true,
           "gridcolor": "white",
           "linecolor": "white",
           "ticks": "",
           "title": {
            "standoff": 15
           },
           "zerolinecolor": "white",
           "zerolinewidth": 2
          }
         }
        },
        "title": {
         "text": "Training and Validation Loss Over Epochs"
        },
        "xaxis": {
         "title": {
          "text": "Epoch"
         }
        },
        "yaxis": {
         "title": {
          "text": "Loss"
         }
        }
       }
      }
     },
     "metadata": {},
     "output_type": "display_data"
    },
    {
     "data": {
      "application/vnd.plotly.v1+json": {
       "config": {
        "plotlyServerURL": "https://plot.ly"
       },
       "data": [
        {
         "mode": "lines",
         "name": "Actual Training Returns",
         "type": "scatter",
         "x": [
          "2017-03-02T00:00:00.000000000",
          "2017-03-03T00:00:00.000000000",
          "2017-03-06T00:00:00.000000000",
          "2017-03-07T00:00:00.000000000",
          "2017-03-08T00:00:00.000000000",
          "2017-03-09T00:00:00.000000000",
          "2017-03-10T00:00:00.000000000",
          "2017-03-13T00:00:00.000000000",
          "2017-03-14T00:00:00.000000000",
          "2017-03-15T00:00:00.000000000",
          "2017-03-16T00:00:00.000000000",
          "2017-03-17T00:00:00.000000000",
          "2017-03-20T00:00:00.000000000",
          "2017-03-21T00:00:00.000000000",
          "2017-03-22T00:00:00.000000000",
          "2017-03-23T00:00:00.000000000",
          "2017-03-24T00:00:00.000000000",
          "2017-03-27T00:00:00.000000000",
          "2017-03-28T00:00:00.000000000",
          "2017-03-29T00:00:00.000000000",
          "2017-03-30T00:00:00.000000000",
          "2017-03-31T00:00:00.000000000",
          "2017-04-03T00:00:00.000000000",
          "2017-04-04T00:00:00.000000000",
          "2017-04-05T00:00:00.000000000",
          "2017-04-06T00:00:00.000000000",
          "2017-04-07T00:00:00.000000000",
          "2017-04-10T00:00:00.000000000",
          "2017-04-11T00:00:00.000000000",
          "2017-04-12T00:00:00.000000000",
          "2017-04-13T00:00:00.000000000",
          "2017-04-17T00:00:00.000000000",
          "2017-04-18T00:00:00.000000000",
          "2017-04-19T00:00:00.000000000",
          "2017-04-20T00:00:00.000000000",
          "2017-04-21T00:00:00.000000000",
          "2017-04-24T00:00:00.000000000",
          "2017-04-25T00:00:00.000000000",
          "2017-04-26T00:00:00.000000000",
          "2017-04-27T00:00:00.000000000",
          "2017-04-28T00:00:00.000000000",
          "2017-05-01T00:00:00.000000000",
          "2017-05-02T00:00:00.000000000",
          "2017-05-03T00:00:00.000000000",
          "2017-05-04T00:00:00.000000000",
          "2017-05-05T00:00:00.000000000",
          "2017-05-08T00:00:00.000000000",
          "2017-05-09T00:00:00.000000000",
          "2017-05-10T00:00:00.000000000",
          "2017-05-11T00:00:00.000000000",
          "2017-05-12T00:00:00.000000000",
          "2017-05-15T00:00:00.000000000",
          "2017-05-16T00:00:00.000000000",
          "2017-05-17T00:00:00.000000000",
          "2017-05-18T00:00:00.000000000",
          "2017-05-19T00:00:00.000000000",
          "2017-05-22T00:00:00.000000000",
          "2017-05-23T00:00:00.000000000",
          "2017-05-24T00:00:00.000000000",
          "2017-05-25T00:00:00.000000000",
          "2017-05-26T00:00:00.000000000",
          "2017-05-30T00:00:00.000000000",
          "2017-05-31T00:00:00.000000000",
          "2017-06-01T00:00:00.000000000",
          "2017-06-02T00:00:00.000000000",
          "2017-06-05T00:00:00.000000000",
          "2017-06-06T00:00:00.000000000",
          "2017-06-07T00:00:00.000000000",
          "2017-06-08T00:00:00.000000000",
          "2017-06-09T00:00:00.000000000",
          "2017-06-12T00:00:00.000000000",
          "2017-06-13T00:00:00.000000000",
          "2017-06-14T00:00:00.000000000",
          "2017-06-15T00:00:00.000000000",
          "2017-06-16T00:00:00.000000000",
          "2017-06-19T00:00:00.000000000",
          "2017-06-20T00:00:00.000000000",
          "2017-06-21T00:00:00.000000000",
          "2017-06-22T00:00:00.000000000",
          "2017-06-23T00:00:00.000000000",
          "2017-06-26T00:00:00.000000000",
          "2017-06-27T00:00:00.000000000",
          "2017-06-28T00:00:00.000000000",
          "2017-06-29T00:00:00.000000000",
          "2017-06-30T00:00:00.000000000",
          "2017-07-03T00:00:00.000000000",
          "2017-07-05T00:00:00.000000000",
          "2017-07-06T00:00:00.000000000",
          "2017-07-07T00:00:00.000000000",
          "2017-07-10T00:00:00.000000000",
          "2017-07-11T00:00:00.000000000",
          "2017-07-12T00:00:00.000000000",
          "2017-07-13T00:00:00.000000000",
          "2017-07-14T00:00:00.000000000",
          "2017-07-17T00:00:00.000000000",
          "2017-07-18T00:00:00.000000000",
          "2017-07-19T00:00:00.000000000",
          "2017-07-20T00:00:00.000000000",
          "2017-07-21T00:00:00.000000000",
          "2017-07-24T00:00:00.000000000",
          "2017-07-25T00:00:00.000000000",
          "2017-07-26T00:00:00.000000000",
          "2017-07-27T00:00:00.000000000",
          "2017-07-28T00:00:00.000000000",
          "2017-07-31T00:00:00.000000000"
         ],
         "y": {
          "bdata": "AAAAAAAAWUBgS3zmTHFQQExwAGzLxlRA1AbKISN3akAtPBxUaI5wQKOT1duq5HBANz3Y8bi9d0ArKetHOeh3QPPJdLxop3ZAhNJ3DU85eUBGdoMX8q98QDvQERCNUn5ANZttAp33e0Bf0xlkTWR+QA2tKypYB4JA7HFmStAlg0C3rDWnuEGCQBSAThSdOINAzn6gULudgUDSlbgJmV+CQDvJ3rXcmIRA0jX3h0+QhECZjMKFGFiFQOCJnZiXcoVAdEyJjVPZhkDk6ZoXWYGGQPGb8sfU0ohAE+1CBk0Sh0C9e8S8kW6KQEPoSlSaQI1Adt59VHNUjUAQMhgeiTKNQH3WDVek6Y1AhTDIdGkCkUDZU/gy2zqTQFtqNYgOTpNAIBJwNzxTk0B7I+D5a3STQIloaykLnJRAhXY3+5bnlUCN7uW0drCVQMiMuYA1JpdAAbjxSckEmEChUWPsHT2YQLuMBV97RpdA66vHw46hl0D6BMOqIKeXQBnUw2Nqg5hA29j1TKMLmkCbh6ookfOaQFdPM/uviZlAd+5ujPvtmUDi/FAKGFGbQBJCzhSmdZ1AMJGXrgA5nkAYP/iKgPegQMxnspc4SKJAuj3WnFZgokA0WatmZcCiQOhUSfm/L6NAQ4k+q0mnpEDdYGKssG6lQAVlHw04l6VAoB51SwxjpUBWLk6soTulQCAgxJsSNaVACI1x4lFQpUAf4SMRBYSkQIEUnRdSJaVAGuhbwH4wpkADCX82pQSmQMjcqvmLmKZAk+AoHglYp0BZJfngBxioQEWv73HCuKdArsMKIrXsp0Bh/Tc+0gOoQLhv0CP2M6hAXuXiGOGapkDAYO8ll4mnQIbqWLjgl6VAlMBi/cKrpUAeiM/O8e2kQOxKxGwWIaVAIs+I2RS/o0DcenLTeIqkQCvuvodqZ6RA1Vk493ZnpEDLD3+SbIelQCuJuvfS6qRAOQRHAjTepUAhA5VhyMulQBP6BWB3hKVAlJyhf1c3pkDgAU98Y6qmQCw6Nvr/HadASsasR+pmpkARYbZv58KnQJvHkhVpyahA9Np4RKxvqUBu+7KngOioQBXOlHq+BahA",
          "dtype": "f8"
         }
        },
        {
         "mode": "lines",
         "name": "Actual Test Returns",
         "type": "scatter",
         "x": [
          "2017-08-04T00:00:00.000000000",
          "2017-08-07T00:00:00.000000000",
          "2017-08-08T00:00:00.000000000",
          "2017-08-09T00:00:00.000000000",
          "2017-08-10T00:00:00.000000000",
          "2017-08-11T00:00:00.000000000",
          "2017-08-14T00:00:00.000000000",
          "2017-08-15T00:00:00.000000000",
          "2017-08-16T00:00:00.000000000",
          "2017-08-17T00:00:00.000000000",
          "2017-08-18T00:00:00.000000000",
          "2017-08-21T00:00:00.000000000",
          "2017-08-22T00:00:00.000000000",
          "2017-08-23T00:00:00.000000000",
          "2017-08-24T00:00:00.000000000",
          "2017-08-25T00:00:00.000000000",
          "2017-08-28T00:00:00.000000000",
          "2017-08-29T00:00:00.000000000",
          "2017-08-30T00:00:00.000000000",
          "2017-08-31T00:00:00.000000000",
          "2017-09-01T00:00:00.000000000",
          "2017-09-05T00:00:00.000000000",
          "2017-09-06T00:00:00.000000000",
          "2017-09-07T00:00:00.000000000",
          "2017-09-08T00:00:00.000000000",
          "2017-09-11T00:00:00.000000000",
          "2017-09-12T00:00:00.000000000",
          "2017-09-13T00:00:00.000000000",
          "2017-09-14T00:00:00.000000000",
          "2017-09-15T00:00:00.000000000",
          "2017-09-18T00:00:00.000000000",
          "2017-09-19T00:00:00.000000000",
          "2017-09-20T00:00:00.000000000",
          "2017-09-21T00:00:00.000000000",
          "2017-09-22T00:00:00.000000000",
          "2017-09-25T00:00:00.000000000",
          "2017-09-26T00:00:00.000000000",
          "2017-09-27T00:00:00.000000000",
          "2017-09-28T00:00:00.000000000",
          "2017-09-29T00:00:00.000000000",
          "2017-10-02T00:00:00.000000000",
          "2017-10-03T00:00:00.000000000",
          "2017-10-04T00:00:00.000000000",
          "2017-10-05T00:00:00.000000000",
          "2017-10-06T00:00:00.000000000",
          "2017-10-09T00:00:00.000000000",
          "2017-10-10T00:00:00.000000000",
          "2017-10-11T00:00:00.000000000",
          "2017-10-12T00:00:00.000000000",
          "2017-10-13T00:00:00.000000000",
          "2017-10-16T00:00:00.000000000",
          "2017-10-17T00:00:00.000000000",
          "2017-10-18T00:00:00.000000000",
          "2017-10-19T00:00:00.000000000",
          "2017-10-20T00:00:00.000000000",
          "2017-10-23T00:00:00.000000000",
          "2017-10-24T00:00:00.000000000",
          "2017-10-25T00:00:00.000000000",
          "2017-10-26T00:00:00.000000000",
          "2017-10-27T00:00:00.000000000",
          "2017-10-30T00:00:00.000000000",
          "2017-10-31T00:00:00.000000000",
          "2017-11-01T00:00:00.000000000",
          "2017-11-02T00:00:00.000000000",
          "2017-11-03T00:00:00.000000000",
          "2017-11-06T00:00:00.000000000",
          "2017-11-07T00:00:00.000000000",
          "2017-11-08T00:00:00.000000000",
          "2017-11-09T00:00:00.000000000",
          "2017-11-10T00:00:00.000000000",
          "2017-11-13T00:00:00.000000000",
          "2017-11-14T00:00:00.000000000",
          "2017-11-15T00:00:00.000000000",
          "2017-11-16T00:00:00.000000000",
          "2017-11-17T00:00:00.000000000",
          "2017-11-20T00:00:00.000000000",
          "2017-11-21T00:00:00.000000000",
          "2017-11-22T00:00:00.000000000",
          "2017-11-24T00:00:00.000000000",
          "2017-11-27T00:00:00.000000000",
          "2017-11-28T00:00:00.000000000",
          "2017-11-29T00:00:00.000000000",
          "2017-11-30T00:00:00.000000000",
          "2017-12-01T00:00:00.000000000",
          "2017-12-04T00:00:00.000000000",
          "2017-12-05T00:00:00.000000000",
          "2017-12-06T00:00:00.000000000",
          "2017-12-07T00:00:00.000000000",
          "2017-12-08T00:00:00.000000000",
          "2017-12-11T00:00:00.000000000",
          "2017-12-12T00:00:00.000000000",
          "2017-12-13T00:00:00.000000000",
          "2017-12-14T00:00:00.000000000",
          "2017-12-15T00:00:00.000000000",
          "2017-12-18T00:00:00.000000000",
          "2017-12-19T00:00:00.000000000",
          "2017-12-20T00:00:00.000000000",
          "2017-12-21T00:00:00.000000000",
          "2017-12-22T00:00:00.000000000",
          "2017-12-26T00:00:00.000000000",
          "2017-12-27T00:00:00.000000000",
          "2017-12-28T00:00:00.000000000",
          "2017-12-29T00:00:00.000000000"
         ],
         "y": {
          "bdata": "Fc6Uer4FqEDxqgX44w+pQEreMe/NR6lAPCDRlthZqUArWl1B7QupQCDvJB1OzqhAWPYXnpTtqUCPpPN0lSurQB/oPzrWvKtABA9E1lGnqkCv8fYel5qqQLScFbC4C6tAjJTFZWbrq0BQNSW9GuerQEsfwvFnxqtAek52+Nzwq0BsYErY7w+sQJwfK3QzKqxAZTLddkmNrEDO4favHW+tQN9J+53W1q1AUg+DUVIrrkAd3I/aRimuQCMV+VPwdLBAsTHxZIP0sECsW6xLseexQL5PR0OAjbFAw2RfJ4DfsUCARnWY6KixQCNOlT+me7FAt8tjlsEmsUA3FY52xRqxQL7nxCc1IrFAswjgOHt9sEAVTb2+B1iwQO4MH6Sh3K9A/pEt0Ti6rkAaGuD6jcOsQN+QzEYWCa9ALcGoT7tcr0DpjDZNJrKvQJQX54PfXLBACOP93HIOsUCtdWFzqEWxQMTJXJ20WLFAf6RfY4tAsUCYV8XZKwmyQN+aj+bg07JAlP8p+7zjskC0DDB8guGyQEje7LMLLrNAFTDawS46s0Cp0+4lccWzQBdXeb3mLLRAz74fpccQtEDPELiQpm6zQGbxXQoH8bJASx7l4zuSskDJI5F8CoSyQPtElwip/LJAvp6jusfrskClwMSNhzKzQBEa3PpULbNA6D2WAW4Gs0BJXJ9W23qzQN3Uj0eBPbNAA2odpKZNtECffLeWorm0QEay5As/lbRAqtsJ+TebtECB2HPHXTa1QNVFVIoAArZA/ikoPhIKtUCXNMjTQSi1QNfN608OBLRAfxDxf3zWs0AhQoU+ELW0QOMxo8Zdq7RA2kGsTXrPtEAhNVuQi/q0QGK2ge2oGLVAbrgURHpitEAPlvYKn361QLcRdIbWerVA2+jXZa7WtEBS5md989m0QHsHa0HHWbVAu2DXSSG1tEBHldVV3Je0QIfVDQV0wrRA23/DNsRUtEDSvpf5RlO1QDXtEJO+7LRA9ESILU+btUDvdGpuwkW1QPpIl7tIAbVAwfpWEanNtEAfb9Qtdjm0QMXgfIN3N7RADPIbEm4gtEARV4V0Xne0QEqm95wlWLRAOckXGKsrtEA=",
          "dtype": "f8"
         }
        },
        {
         "mode": "lines",
         "name": "Predicted Test Returns",
         "type": "scatter",
         "x": [
          "2017-08-04T00:00:00.000000000",
          "2017-08-07T00:00:00.000000000",
          "2017-08-08T00:00:00.000000000",
          "2017-08-09T00:00:00.000000000",
          "2017-08-10T00:00:00.000000000",
          "2017-08-11T00:00:00.000000000",
          "2017-08-14T00:00:00.000000000",
          "2017-08-15T00:00:00.000000000",
          "2017-08-16T00:00:00.000000000",
          "2017-08-17T00:00:00.000000000",
          "2017-08-18T00:00:00.000000000",
          "2017-08-21T00:00:00.000000000",
          "2017-08-22T00:00:00.000000000",
          "2017-08-23T00:00:00.000000000",
          "2017-08-24T00:00:00.000000000",
          "2017-08-25T00:00:00.000000000",
          "2017-08-28T00:00:00.000000000",
          "2017-08-29T00:00:00.000000000",
          "2017-08-30T00:00:00.000000000",
          "2017-08-31T00:00:00.000000000",
          "2017-09-01T00:00:00.000000000",
          "2017-09-05T00:00:00.000000000",
          "2017-09-06T00:00:00.000000000",
          "2017-09-07T00:00:00.000000000",
          "2017-09-08T00:00:00.000000000",
          "2017-09-11T00:00:00.000000000",
          "2017-09-12T00:00:00.000000000",
          "2017-09-13T00:00:00.000000000",
          "2017-09-14T00:00:00.000000000",
          "2017-09-15T00:00:00.000000000",
          "2017-09-18T00:00:00.000000000",
          "2017-09-19T00:00:00.000000000",
          "2017-09-20T00:00:00.000000000",
          "2017-09-21T00:00:00.000000000",
          "2017-09-22T00:00:00.000000000",
          "2017-09-25T00:00:00.000000000",
          "2017-09-26T00:00:00.000000000",
          "2017-09-27T00:00:00.000000000",
          "2017-09-28T00:00:00.000000000",
          "2017-09-29T00:00:00.000000000",
          "2017-10-02T00:00:00.000000000",
          "2017-10-03T00:00:00.000000000",
          "2017-10-04T00:00:00.000000000",
          "2017-10-05T00:00:00.000000000",
          "2017-10-06T00:00:00.000000000",
          "2017-10-09T00:00:00.000000000",
          "2017-10-10T00:00:00.000000000",
          "2017-10-11T00:00:00.000000000",
          "2017-10-12T00:00:00.000000000",
          "2017-10-13T00:00:00.000000000",
          "2017-10-16T00:00:00.000000000",
          "2017-10-17T00:00:00.000000000",
          "2017-10-18T00:00:00.000000000",
          "2017-10-19T00:00:00.000000000",
          "2017-10-20T00:00:00.000000000",
          "2017-10-23T00:00:00.000000000",
          "2017-10-24T00:00:00.000000000",
          "2017-10-25T00:00:00.000000000",
          "2017-10-26T00:00:00.000000000",
          "2017-10-27T00:00:00.000000000",
          "2017-10-30T00:00:00.000000000",
          "2017-10-31T00:00:00.000000000",
          "2017-11-01T00:00:00.000000000",
          "2017-11-02T00:00:00.000000000",
          "2017-11-03T00:00:00.000000000",
          "2017-11-06T00:00:00.000000000",
          "2017-11-07T00:00:00.000000000",
          "2017-11-08T00:00:00.000000000",
          "2017-11-09T00:00:00.000000000",
          "2017-11-10T00:00:00.000000000",
          "2017-11-13T00:00:00.000000000",
          "2017-11-14T00:00:00.000000000",
          "2017-11-15T00:00:00.000000000",
          "2017-11-16T00:00:00.000000000",
          "2017-11-17T00:00:00.000000000",
          "2017-11-20T00:00:00.000000000",
          "2017-11-21T00:00:00.000000000",
          "2017-11-22T00:00:00.000000000",
          "2017-11-24T00:00:00.000000000",
          "2017-11-27T00:00:00.000000000",
          "2017-11-28T00:00:00.000000000",
          "2017-11-29T00:00:00.000000000",
          "2017-11-30T00:00:00.000000000",
          "2017-12-01T00:00:00.000000000",
          "2017-12-04T00:00:00.000000000",
          "2017-12-05T00:00:00.000000000",
          "2017-12-06T00:00:00.000000000",
          "2017-12-07T00:00:00.000000000",
          "2017-12-08T00:00:00.000000000",
          "2017-12-11T00:00:00.000000000",
          "2017-12-12T00:00:00.000000000",
          "2017-12-13T00:00:00.000000000",
          "2017-12-14T00:00:00.000000000",
          "2017-12-15T00:00:00.000000000",
          "2017-12-18T00:00:00.000000000",
          "2017-12-19T00:00:00.000000000",
          "2017-12-20T00:00:00.000000000",
          "2017-12-21T00:00:00.000000000",
          "2017-12-22T00:00:00.000000000",
          "2017-12-26T00:00:00.000000000",
          "2017-12-27T00:00:00.000000000",
          "2017-12-28T00:00:00.000000000",
          "2017-12-29T00:00:00.000000000"
         ],
         "y": {
          "bdata": "9C1ARd9RQUUxsUJFm2hDRbBLR0U82EdFjThHRXPYRkWKjUlFhUdQRZBhVEUx7lNFS8VQRaVfUkUVllVFrEFYRc4ZWEWjJlhFFgtZRTUIWkWyClxFPY5fRYyWY0W5kWVFKV5pRaQlcEWG+3xF87OBRalKhEUPo4NFoQGERfubgkXNTYFF5jGARVLgfkX9BXxFEYZ2RQ+xckU7uWtFqlBmRSQZZUXecm1F/zpwRcbedEWNfntFeXiARb01gUX+EIJFBEWERX+HiEVMMYtFR7KLRZtejEWpB45FssyPRZxUkkU0uJJF6HCQRSrqjEUoeIpFZqyJRZByikW3HYxFd3uMRQAqjUWRQ41FwH+NRcebj0Vjl5FFt9mVRc72lkUiOJdFoYOZRfsznEVY4pxFcZuYRVVMlkWUG5NFe16URWFSl0UUsZdFXamYRRSvmEWHwZhF2cyYRf3Em0XJUZpF8MKYRbAtmUUGT5lFURmXRQ+blkWsU5dFpqGXRUTXmkUbn5pFXOCbRYnvmUV/85dFBAGWRQT6k0VOIZRFiXCURQ==",
          "dtype": "f4"
         }
        }
       ],
       "layout": {
        "legend": {
         "title": {
          "text": "Portfolio"
         }
        },
        "template": {
         "data": {
          "bar": [
           {
            "error_x": {
             "color": "#2a3f5f"
            },
            "error_y": {
             "color": "#2a3f5f"
            },
            "marker": {
             "line": {
              "color": "#E5ECF6",
              "width": 0.5
             },
             "pattern": {
              "fillmode": "overlay",
              "size": 10,
              "solidity": 0.2
             }
            },
            "type": "bar"
           }
          ],
          "barpolar": [
           {
            "marker": {
             "line": {
              "color": "#E5ECF6",
              "width": 0.5
             },
             "pattern": {
              "fillmode": "overlay",
              "size": 10,
              "solidity": 0.2
             }
            },
            "type": "barpolar"
           }
          ],
          "carpet": [
           {
            "aaxis": {
             "endlinecolor": "#2a3f5f",
             "gridcolor": "white",
             "linecolor": "white",
             "minorgridcolor": "white",
             "startlinecolor": "#2a3f5f"
            },
            "baxis": {
             "endlinecolor": "#2a3f5f",
             "gridcolor": "white",
             "linecolor": "white",
             "minorgridcolor": "white",
             "startlinecolor": "#2a3f5f"
            },
            "type": "carpet"
           }
          ],
          "choropleth": [
           {
            "colorbar": {
             "outlinewidth": 0,
             "ticks": ""
            },
            "type": "choropleth"
           }
          ],
          "contour": [
           {
            "colorbar": {
             "outlinewidth": 0,
             "ticks": ""
            },
            "colorscale": [
             [
              0,
              "#0d0887"
             ],
             [
              0.1111111111111111,
              "#46039f"
             ],
             [
              0.2222222222222222,
              "#7201a8"
             ],
             [
              0.3333333333333333,
              "#9c179e"
             ],
             [
              0.4444444444444444,
              "#bd3786"
             ],
             [
              0.5555555555555556,
              "#d8576b"
             ],
             [
              0.6666666666666666,
              "#ed7953"
             ],
             [
              0.7777777777777778,
              "#fb9f3a"
             ],
             [
              0.8888888888888888,
              "#fdca26"
             ],
             [
              1,
              "#f0f921"
             ]
            ],
            "type": "contour"
           }
          ],
          "contourcarpet": [
           {
            "colorbar": {
             "outlinewidth": 0,
             "ticks": ""
            },
            "type": "contourcarpet"
           }
          ],
          "heatmap": [
           {
            "colorbar": {
             "outlinewidth": 0,
             "ticks": ""
            },
            "colorscale": [
             [
              0,
              "#0d0887"
             ],
             [
              0.1111111111111111,
              "#46039f"
             ],
             [
              0.2222222222222222,
              "#7201a8"
             ],
             [
              0.3333333333333333,
              "#9c179e"
             ],
             [
              0.4444444444444444,
              "#bd3786"
             ],
             [
              0.5555555555555556,
              "#d8576b"
             ],
             [
              0.6666666666666666,
              "#ed7953"
             ],
             [
              0.7777777777777778,
              "#fb9f3a"
             ],
             [
              0.8888888888888888,
              "#fdca26"
             ],
             [
              1,
              "#f0f921"
             ]
            ],
            "type": "heatmap"
           }
          ],
          "histogram": [
           {
            "marker": {
             "pattern": {
              "fillmode": "overlay",
              "size": 10,
              "solidity": 0.2
             }
            },
            "type": "histogram"
           }
          ],
          "histogram2d": [
           {
            "colorbar": {
             "outlinewidth": 0,
             "ticks": ""
            },
            "colorscale": [
             [
              0,
              "#0d0887"
             ],
             [
              0.1111111111111111,
              "#46039f"
             ],
             [
              0.2222222222222222,
              "#7201a8"
             ],
             [
              0.3333333333333333,
              "#9c179e"
             ],
             [
              0.4444444444444444,
              "#bd3786"
             ],
             [
              0.5555555555555556,
              "#d8576b"
             ],
             [
              0.6666666666666666,
              "#ed7953"
             ],
             [
              0.7777777777777778,
              "#fb9f3a"
             ],
             [
              0.8888888888888888,
              "#fdca26"
             ],
             [
              1,
              "#f0f921"
             ]
            ],
            "type": "histogram2d"
           }
          ],
          "histogram2dcontour": [
           {
            "colorbar": {
             "outlinewidth": 0,
             "ticks": ""
            },
            "colorscale": [
             [
              0,
              "#0d0887"
             ],
             [
              0.1111111111111111,
              "#46039f"
             ],
             [
              0.2222222222222222,
              "#7201a8"
             ],
             [
              0.3333333333333333,
              "#9c179e"
             ],
             [
              0.4444444444444444,
              "#bd3786"
             ],
             [
              0.5555555555555556,
              "#d8576b"
             ],
             [
              0.6666666666666666,
              "#ed7953"
             ],
             [
              0.7777777777777778,
              "#fb9f3a"
             ],
             [
              0.8888888888888888,
              "#fdca26"
             ],
             [
              1,
              "#f0f921"
             ]
            ],
            "type": "histogram2dcontour"
           }
          ],
          "mesh3d": [
           {
            "colorbar": {
             "outlinewidth": 0,
             "ticks": ""
            },
            "type": "mesh3d"
           }
          ],
          "parcoords": [
           {
            "line": {
             "colorbar": {
              "outlinewidth": 0,
              "ticks": ""
             }
            },
            "type": "parcoords"
           }
          ],
          "pie": [
           {
            "automargin": true,
            "type": "pie"
           }
          ],
          "scatter": [
           {
            "fillpattern": {
             "fillmode": "overlay",
             "size": 10,
             "solidity": 0.2
            },
            "type": "scatter"
           }
          ],
          "scatter3d": [
           {
            "line": {
             "colorbar": {
              "outlinewidth": 0,
              "ticks": ""
             }
            },
            "marker": {
             "colorbar": {
              "outlinewidth": 0,
              "ticks": ""
             }
            },
            "type": "scatter3d"
           }
          ],
          "scattercarpet": [
           {
            "marker": {
             "colorbar": {
              "outlinewidth": 0,
              "ticks": ""
             }
            },
            "type": "scattercarpet"
           }
          ],
          "scattergeo": [
           {
            "marker": {
             "colorbar": {
              "outlinewidth": 0,
              "ticks": ""
             }
            },
            "type": "scattergeo"
           }
          ],
          "scattergl": [
           {
            "marker": {
             "colorbar": {
              "outlinewidth": 0,
              "ticks": ""
             }
            },
            "type": "scattergl"
           }
          ],
          "scattermap": [
           {
            "marker": {
             "colorbar": {
              "outlinewidth": 0,
              "ticks": ""
             }
            },
            "type": "scattermap"
           }
          ],
          "scattermapbox": [
           {
            "marker": {
             "colorbar": {
              "outlinewidth": 0,
              "ticks": ""
             }
            },
            "type": "scattermapbox"
           }
          ],
          "scatterpolar": [
           {
            "marker": {
             "colorbar": {
              "outlinewidth": 0,
              "ticks": ""
             }
            },
            "type": "scatterpolar"
           }
          ],
          "scatterpolargl": [
           {
            "marker": {
             "colorbar": {
              "outlinewidth": 0,
              "ticks": ""
             }
            },
            "type": "scatterpolargl"
           }
          ],
          "scatterternary": [
           {
            "marker": {
             "colorbar": {
              "outlinewidth": 0,
              "ticks": ""
             }
            },
            "type": "scatterternary"
           }
          ],
          "surface": [
           {
            "colorbar": {
             "outlinewidth": 0,
             "ticks": ""
            },
            "colorscale": [
             [
              0,
              "#0d0887"
             ],
             [
              0.1111111111111111,
              "#46039f"
             ],
             [
              0.2222222222222222,
              "#7201a8"
             ],
             [
              0.3333333333333333,
              "#9c179e"
             ],
             [
              0.4444444444444444,
              "#bd3786"
             ],
             [
              0.5555555555555556,
              "#d8576b"
             ],
             [
              0.6666666666666666,
              "#ed7953"
             ],
             [
              0.7777777777777778,
              "#fb9f3a"
             ],
             [
              0.8888888888888888,
              "#fdca26"
             ],
             [
              1,
              "#f0f921"
             ]
            ],
            "type": "surface"
           }
          ],
          "table": [
           {
            "cells": {
             "fill": {
              "color": "#EBF0F8"
             },
             "line": {
              "color": "white"
             }
            },
            "header": {
             "fill": {
              "color": "#C8D4E3"
             },
             "line": {
              "color": "white"
             }
            },
            "type": "table"
           }
          ]
         },
         "layout": {
          "annotationdefaults": {
           "arrowcolor": "#2a3f5f",
           "arrowhead": 0,
           "arrowwidth": 1
          },
          "autotypenumbers": "strict",
          "coloraxis": {
           "colorbar": {
            "outlinewidth": 0,
            "ticks": ""
           }
          },
          "colorscale": {
           "diverging": [
            [
             0,
             "#8e0152"
            ],
            [
             0.1,
             "#c51b7d"
            ],
            [
             0.2,
             "#de77ae"
            ],
            [
             0.3,
             "#f1b6da"
            ],
            [
             0.4,
             "#fde0ef"
            ],
            [
             0.5,
             "#f7f7f7"
            ],
            [
             0.6,
             "#e6f5d0"
            ],
            [
             0.7,
             "#b8e186"
            ],
            [
             0.8,
             "#7fbc41"
            ],
            [
             0.9,
             "#4d9221"
            ],
            [
             1,
             "#276419"
            ]
           ],
           "sequential": [
            [
             0,
             "#0d0887"
            ],
            [
             0.1111111111111111,
             "#46039f"
            ],
            [
             0.2222222222222222,
             "#7201a8"
            ],
            [
             0.3333333333333333,
             "#9c179e"
            ],
            [
             0.4444444444444444,
             "#bd3786"
            ],
            [
             0.5555555555555556,
             "#d8576b"
            ],
            [
             0.6666666666666666,
             "#ed7953"
            ],
            [
             0.7777777777777778,
             "#fb9f3a"
            ],
            [
             0.8888888888888888,
             "#fdca26"
            ],
            [
             1,
             "#f0f921"
            ]
           ],
           "sequentialminus": [
            [
             0,
             "#0d0887"
            ],
            [
             0.1111111111111111,
             "#46039f"
            ],
            [
             0.2222222222222222,
             "#7201a8"
            ],
            [
             0.3333333333333333,
             "#9c179e"
            ],
            [
             0.4444444444444444,
             "#bd3786"
            ],
            [
             0.5555555555555556,
             "#d8576b"
            ],
            [
             0.6666666666666666,
             "#ed7953"
            ],
            [
             0.7777777777777778,
             "#fb9f3a"
            ],
            [
             0.8888888888888888,
             "#fdca26"
            ],
            [
             1,
             "#f0f921"
            ]
           ]
          },
          "colorway": [
           "#636efa",
           "#EF553B",
           "#00cc96",
           "#ab63fa",
           "#FFA15A",
           "#19d3f3",
           "#FF6692",
           "#B6E880",
           "#FF97FF",
           "#FECB52"
          ],
          "font": {
           "color": "#2a3f5f"
          },
          "geo": {
           "bgcolor": "white",
           "lakecolor": "white",
           "landcolor": "#E5ECF6",
           "showlakes": true,
           "showland": true,
           "subunitcolor": "white"
          },
          "hoverlabel": {
           "align": "left"
          },
          "hovermode": "closest",
          "mapbox": {
           "style": "light"
          },
          "paper_bgcolor": "white",
          "plot_bgcolor": "#E5ECF6",
          "polar": {
           "angularaxis": {
            "gridcolor": "white",
            "linecolor": "white",
            "ticks": ""
           },
           "bgcolor": "#E5ECF6",
           "radialaxis": {
            "gridcolor": "white",
            "linecolor": "white",
            "ticks": ""
           }
          },
          "scene": {
           "xaxis": {
            "backgroundcolor": "#E5ECF6",
            "gridcolor": "white",
            "gridwidth": 2,
            "linecolor": "white",
            "showbackground": true,
            "ticks": "",
            "zerolinecolor": "white"
           },
           "yaxis": {
            "backgroundcolor": "#E5ECF6",
            "gridcolor": "white",
            "gridwidth": 2,
            "linecolor": "white",
            "showbackground": true,
            "ticks": "",
            "zerolinecolor": "white"
           },
           "zaxis": {
            "backgroundcolor": "#E5ECF6",
            "gridcolor": "white",
            "gridwidth": 2,
            "linecolor": "white",
            "showbackground": true,
            "ticks": "",
            "zerolinecolor": "white"
           }
          },
          "shapedefaults": {
           "line": {
            "color": "#2a3f5f"
           }
          },
          "ternary": {
           "aaxis": {
            "gridcolor": "white",
            "linecolor": "white",
            "ticks": ""
           },
           "baxis": {
            "gridcolor": "white",
            "linecolor": "white",
            "ticks": ""
           },
           "bgcolor": "#E5ECF6",
           "caxis": {
            "gridcolor": "white",
            "linecolor": "white",
            "ticks": ""
           }
          },
          "title": {
           "x": 0.05
          },
          "xaxis": {
           "automargin": true,
           "gridcolor": "white",
           "linecolor": "white",
           "ticks": "",
           "title": {
            "standoff": 15
           },
           "zerolinecolor": "white",
           "zerolinewidth": 2
          },
          "yaxis": {
           "automargin": true,
           "gridcolor": "white",
           "linecolor": "white",
           "ticks": "",
           "title": {
            "standoff": 15
           },
           "zerolinecolor": "white",
           "zerolinewidth": 2
          }
         }
        },
        "title": {
         "text": "Actual vs Predicted Weighted Portfolio Returns"
        },
        "xaxis": {
         "title": {
          "text": "Date"
         }
        },
        "yaxis": {
         "title": {
          "text": "Normalized Returns"
         }
        }
       }
      }
     },
     "metadata": {},
     "output_type": "display_data"
    }
   ],
   "source": [
    "portfolio_predictor = PortfolioPredictor(raw_data_train, raw_data_test, best_portfolio, n_steps=3, epochs=30)\n",
    "\n",
    "portfolio_predictor.preprocess_data()\n",
    "portfolio_predictor.build_model()\n",
    "portfolio_predictor.train_model()\n",
    "prediction = portfolio_predictor.predict()   \n",
    "portfolio_predictor.plot_loss()\n",
    "portfolio_predictor.plot_predictions()"
   ]
  },
  {
   "cell_type": "code",
   "execution_count": 109,
   "metadata": {},
   "outputs": [],
   "source": [
    "def evaluate_portfolios_over_time(raw_data, window_size=5, num_windows=None, threshold=0.05, epochs=30):\n",
    "    split = len(raw_data.index) // 2\n",
    "    all_good_portfolios = []\n",
    "    if num_windows is None:\n",
    "        num_windows = split // window_size\n",
    "    \n",
    "    previous_best_portfolio = None \n",
    "\n",
    "    for i in range(num_windows):\n",
    "        curr_split = i * window_size\n",
    "\n",
    "        loop_raw_data_train = raw_data.iloc[:split + curr_split]\n",
    "        loop_raw_data_test = raw_data.iloc[split + curr_split:]\n",
    "        loop_names, loop_annualized_returns, loop_cov, _ = get_matrices(loop_raw_data_train)\n",
    "        \n",
    "        _, loop_best_portfolio, loop_good_portfolios, _, _ = MLRBA_V2(loop_names, loop_cov, loop_annualized_returns)\n",
    "        best_sharpe = loop_best_portfolio['sharpe']\n",
    "        \n",
    "        close_to_best = []\n",
    "        if previous_best_portfolio is not None:\n",
    "            close_to_best.append(previous_best_portfolio)\n",
    "        close_to_best.append(loop_best_portfolio)\n",
    "        \n",
    "        for j in range(len(loop_best_portfolio)):\n",
    "            difference = abs((best_sharpe - loop_good_portfolios[j]['sharpe']) / best_sharpe)\n",
    "            if difference < threshold:\n",
    "                close_to_best.append(loop_good_portfolios[j])\n",
    "\n",
    "        print(f'Length of close to best is: {len(close_to_best)}')\n",
    "\n",
    "        sharpe_list = [portfolio['sharpe'] for portfolio in close_to_best]\n",
    "        print(\"Sharpe ratios (first is best_sharpe):\", sharpe_list)\n",
    "        \n",
    "        portfolio_results = {}\n",
    "        for id, portfolio in enumerate(close_to_best):\n",
    "            portfolio_predictor = PortfolioPredictor(loop_raw_data_train, loop_raw_data_test, portfolio, n_steps=window_size, epochs=epochs)\n",
    "            portfolio_predictor.preprocess_data()\n",
    "            portfolio_predictor.build_model()\n",
    "            portfolio_predictor.train_model()\n",
    "            prediction = portfolio_predictor.predict() \n",
    "\n",
    "            if len(prediction) >= window_size:\n",
    "                end_pred = prediction[window_size-1]\n",
    "            else:\n",
    "                end_pred = prediction[-1]\n",
    "            \n",
    "            percentage_diff = (end_pred - prediction[0]) / prediction[0]\n",
    "            print(prediction[:min(window_size, len(prediction))], prediction[0], percentage_diff * 100)          \n",
    "            \n",
    "            portfolio_results[id] = percentage_diff\n",
    "\n",
    "        best_id = max(portfolio_results, key=portfolio_results.get)\n",
    "        predicted_best_portfolio = close_to_best[best_id]\n",
    "\n",
    "        previous_best_portfolio = predicted_best_portfolio\n",
    "        \n",
    "        start_date = loop_raw_data_test.index[0]\n",
    "        end_date = loop_raw_data_test.index[window_size-1]\n",
    "        \n",
    "        all_good_portfolios.append({\n",
    "            \"portfolio\": predicted_best_portfolio,\n",
    "            \"start_date\": start_date,\n",
    "            \"end_date\": end_date\n",
    "        })\n",
    "        print(f'Current iteration: {i}, the best portfolio found was portfolio: {best_id}')\n",
    "    \n",
    "    return all_good_portfolios"
   ]
  },
  {
   "cell_type": "code",
   "execution_count": 110,
   "metadata": {},
   "outputs": [
    {
     "name": "stderr",
     "output_type": "stream",
     "text": [
      "  0%|          | 118/100000 [00:01<15:16, 108.96it/s]\n"
     ]
    },
    {
     "name": "stdout",
     "output_type": "stream",
     "text": [
      "All assets have been tested\n",
      "Length of close to best is: 6\n",
      "Sharpe ratios (first is best_sharpe): [np.float64(5.850388669320927), np.float64(3.7692434635086483), np.float64(4.184812844050357), np.float64(4.589606380035717), np.float64(4.917508204837345), np.float64(4.974495922398483)]\n",
      "\u001b[1m4/4\u001b[0m \u001b[32m━━━━━━━━━━━━━━━━━━━━\u001b[0m\u001b[37m\u001b[0m \u001b[1m0s\u001b[0m 56ms/step\n",
      "[[0.4928751 ]\n",
      " [0.49847078]\n",
      " [0.5007336 ]] [0.4928751] [1.5944232]\n",
      "\u001b[1m4/4\u001b[0m \u001b[32m━━━━━━━━━━━━━━━━━━━━\u001b[0m\u001b[37m\u001b[0m \u001b[1m0s\u001b[0m 57ms/step\n",
      "[[0.4930336 ]\n",
      " [0.49755284]\n",
      " [0.49815443]] [0.4930336] [1.0386399]\n",
      "\u001b[1m4/4\u001b[0m \u001b[32m━━━━━━━━━━━━━━━━━━━━\u001b[0m\u001b[37m\u001b[0m \u001b[1m0s\u001b[0m 56ms/step\n",
      "[[0.48555642]\n",
      " [0.4897021 ]\n",
      " [0.49140602]] [0.48555642] [1.2047209]\n",
      "\u001b[1m4/4\u001b[0m \u001b[32m━━━━━━━━━━━━━━━━━━━━\u001b[0m\u001b[37m\u001b[0m \u001b[1m0s\u001b[0m 58ms/step\n",
      "[[0.50850415]\n",
      " [0.5180334 ]\n",
      " [0.5262138 ]] [0.50850415] [3.4826999]\n",
      "\u001b[1m4/4\u001b[0m \u001b[32m━━━━━━━━━━━━━━━━━━━━\u001b[0m\u001b[37m\u001b[0m \u001b[1m0s\u001b[0m 58ms/step\n",
      "[[0.5077557 ]\n",
      " [0.51428276]\n",
      " [0.5220191 ]] [0.5077557] [2.8091052]\n",
      "\u001b[1m4/4\u001b[0m \u001b[32m━━━━━━━━━━━━━━━━━━━━\u001b[0m\u001b[37m\u001b[0m \u001b[1m0s\u001b[0m 57ms/step\n",
      "[[0.47426084]\n",
      " [0.47912878]\n",
      " [0.48631003]] [0.47426084] [2.540627]\n",
      "Current iteration: 0, the best portfolio found was portfolio: 3\n"
     ]
    },
    {
     "name": "stderr",
     "output_type": "stream",
     "text": [
      "  0%|          | 173/100000 [00:01<14:49, 112.20it/s]\n"
     ]
    },
    {
     "name": "stdout",
     "output_type": "stream",
     "text": [
      "All assets have been tested\n",
      "Length of close to best is: 7\n",
      "Sharpe ratios (first is best_sharpe): [np.float64(4.589606380035717), np.float64(6.365152325499162), np.float64(3.2881807801012095), np.float64(3.429358975652158), np.float64(3.9726828889524954), np.float64(4.112812439844978), np.float64(4.279605563694601)]\n",
      "\u001b[1m4/4\u001b[0m \u001b[32m━━━━━━━━━━━━━━━━━━━━\u001b[0m\u001b[37m\u001b[0m \u001b[1m0s\u001b[0m 56ms/step\n",
      "[[0.5359475]\n",
      " [0.5415275]\n",
      " [0.5426222]] [0.5359475] [1.245403]\n",
      "\u001b[1m4/4\u001b[0m \u001b[32m━━━━━━━━━━━━━━━━━━━━\u001b[0m\u001b[37m\u001b[0m \u001b[1m0s\u001b[0m 60ms/step\n",
      "[[0.49307293]\n",
      " [0.4995041 ]\n",
      " [0.49905574]] [0.49307293] [1.2133735]\n",
      "\u001b[1m4/4\u001b[0m \u001b[32m━━━━━━━━━━━━━━━━━━━━\u001b[0m\u001b[37m\u001b[0m \u001b[1m0s\u001b[0m 57ms/step\n",
      "[[0.5546569]\n",
      " [0.5606857]\n",
      " [0.5527094]] [0.5546569] [-0.35112196]\n",
      "\u001b[1m4/4\u001b[0m \u001b[32m━━━━━━━━━━━━━━━━━━━━\u001b[0m\u001b[37m\u001b[0m \u001b[1m0s\u001b[0m 57ms/step\n",
      "[[0.5470188 ]\n",
      " [0.55469203]\n",
      " [0.5477603 ]] [0.5470188] [0.13554959]\n",
      "\u001b[1m4/4\u001b[0m \u001b[32m━━━━━━━━━━━━━━━━━━━━\u001b[0m\u001b[37m\u001b[0m \u001b[1m0s\u001b[0m 56ms/step\n",
      "[[0.55271286]\n",
      " [0.55694157]\n",
      " [0.5507865 ]] [0.55271286] [-0.34852862]\n",
      "\u001b[1m4/4\u001b[0m \u001b[32m━━━━━━━━━━━━━━━━━━━━\u001b[0m\u001b[37m\u001b[0m \u001b[1m0s\u001b[0m 58ms/step\n",
      "[[0.5652082]\n",
      " [0.5701541]\n",
      " [0.5633967]] [0.5652082] [-0.32050213]\n",
      "\u001b[1m4/4\u001b[0m \u001b[32m━━━━━━━━━━━━━━━━━━━━\u001b[0m\u001b[37m\u001b[0m \u001b[1m0s\u001b[0m 59ms/step\n",
      "[[0.5967661 ]\n",
      " [0.6013399 ]\n",
      " [0.59773487]] [0.5967661] [0.162334]\n",
      "Current iteration: 1, the best portfolio found was portfolio: 0\n"
     ]
    },
    {
     "name": "stderr",
     "output_type": "stream",
     "text": [
      "  0%|          | 196/100000 [00:01<15:13, 109.22it/s]\n"
     ]
    },
    {
     "name": "stdout",
     "output_type": "stream",
     "text": [
      "All assets have been tested\n",
      "Length of close to best is: 7\n",
      "Sharpe ratios (first is best_sharpe): [np.float64(4.589606380035717), np.float64(6.43105231102068), np.float64(4.658952811904644), np.float64(4.887077517654705), np.float64(5.0950585634384895), np.float64(5.095058563438662), np.float64(5.385842021308583)]\n",
      "\u001b[1m4/4\u001b[0m \u001b[32m━━━━━━━━━━━━━━━━━━━━\u001b[0m\u001b[37m\u001b[0m \u001b[1m0s\u001b[0m 74ms/step\n",
      "[[0.54084927]\n",
      " [0.53689754]\n",
      " [0.54310083]] [0.54084927] [0.41630185]\n",
      "\u001b[1m4/4\u001b[0m \u001b[32m━━━━━━━━━━━━━━━━━━━━\u001b[0m\u001b[37m\u001b[0m \u001b[1m0s\u001b[0m 65ms/step\n",
      "[[0.47321275]\n",
      " [0.4722126 ]\n",
      " [0.47916844]] [0.47321275] [1.2585664]\n",
      "\u001b[1m4/4\u001b[0m \u001b[32m━━━━━━━━━━━━━━━━━━━━\u001b[0m\u001b[37m\u001b[0m \u001b[1m0s\u001b[0m 70ms/step\n",
      "[[0.5660403 ]\n",
      " [0.56222445]\n",
      " [0.5679577 ]] [0.5660403] [0.338743]\n",
      "\u001b[1m4/4\u001b[0m \u001b[32m━━━━━━━━━━━━━━━━━━━━\u001b[0m\u001b[37m\u001b[0m \u001b[1m0s\u001b[0m 76ms/step\n",
      "[[0.5717421]\n",
      " [0.5663737]\n",
      " [0.5718583]] [0.5717421] [0.02031851]\n",
      "\u001b[1m4/4\u001b[0m \u001b[32m━━━━━━━━━━━━━━━━━━━━\u001b[0m\u001b[37m\u001b[0m \u001b[1m0s\u001b[0m 63ms/step\n",
      "[[0.61535704]\n",
      " [0.61555856]\n",
      " [0.6238883 ]] [0.61535704] [1.3863939]\n",
      "\u001b[1m4/4\u001b[0m \u001b[32m━━━━━━━━━━━━━━━━━━━━\u001b[0m\u001b[37m\u001b[0m \u001b[1m0s\u001b[0m 67ms/step\n",
      "[[0.57095665]\n",
      " [0.57111555]\n",
      " [0.57882786]] [0.57095665] [1.3786004]\n",
      "\u001b[1m4/4\u001b[0m \u001b[32m━━━━━━━━━━━━━━━━━━━━\u001b[0m\u001b[37m\u001b[0m \u001b[1m0s\u001b[0m 65ms/step\n",
      "[[0.58576953]\n",
      " [0.5849542 ]\n",
      " [0.59410554]] [0.58576953] [1.4230866]\n",
      "Current iteration: 2, the best portfolio found was portfolio: 6\n"
     ]
    },
    {
     "name": "stderr",
     "output_type": "stream",
     "text": [
      "  0%|          | 175/100000 [00:01<17:53, 92.96it/s]\n"
     ]
    },
    {
     "name": "stdout",
     "output_type": "stream",
     "text": [
      "All assets have been tested\n",
      "Length of close to best is: 6\n",
      "Sharpe ratios (first is best_sharpe): [np.float64(5.385842021308583), np.float64(5.99776345704326), np.float64(3.1168818938753167), np.float64(3.9054265603067306), np.float64(4.281456148915826), np.float64(4.5572902690351)]\n",
      "\u001b[1m3/3\u001b[0m \u001b[32m━━━━━━━━━━━━━━━━━━━━\u001b[0m\u001b[37m\u001b[0m \u001b[1m0s\u001b[0m 96ms/step\n",
      "[[0.6016763]\n",
      " [0.6045437]\n",
      " [0.6046802]] [0.6016763] [0.49925438]\n",
      "\u001b[1m3/3\u001b[0m \u001b[32m━━━━━━━━━━━━━━━━━━━━\u001b[0m\u001b[37m\u001b[0m \u001b[1m0s\u001b[0m 107ms/step\n",
      "[[0.51062655]\n",
      " [0.51886857]\n",
      " [0.5194744 ]] [0.51062655] [1.7327404]\n",
      "\u001b[1m3/3\u001b[0m \u001b[32m━━━━━━━━━━━━━━━━━━━━\u001b[0m\u001b[37m\u001b[0m \u001b[1m0s\u001b[0m 94ms/step\n",
      "[[0.59127575]\n",
      " [0.6015577 ]\n",
      " [0.58774966]] [0.59127575] [-0.5963531]\n",
      "\u001b[1m3/3\u001b[0m \u001b[32m━━━━━━━━━━━━━━━━━━━━\u001b[0m\u001b[37m\u001b[0m \u001b[1m0s\u001b[0m 94ms/step\n",
      "[[0.62201613]\n",
      " [0.628967  ]\n",
      " [0.6139667 ]] [0.62201613] [-1.2940868]\n",
      "\u001b[1m3/3\u001b[0m \u001b[32m━━━━━━━━━━━━━━━━━━━━\u001b[0m\u001b[37m\u001b[0m \u001b[1m0s\u001b[0m 97ms/step\n",
      "[[0.64199007]\n",
      " [0.64750224]\n",
      " [0.63262725]] [0.64199007] [-1.4584053]\n",
      "\u001b[1m3/3\u001b[0m \u001b[32m━━━━━━━━━━━━━━━━━━━━\u001b[0m\u001b[37m\u001b[0m \u001b[1m0s\u001b[0m 91ms/step\n",
      "[[0.64280915]\n",
      " [0.65413195]\n",
      " [0.644976  ]] [0.64280915] [0.33709338]\n",
      "Current iteration: 3, the best portfolio found was portfolio: 1\n"
     ]
    },
    {
     "name": "stderr",
     "output_type": "stream",
     "text": [
      "  0%|          | 202/100000 [00:02<17:29, 95.05it/s] \n"
     ]
    },
    {
     "name": "stdout",
     "output_type": "stream",
     "text": [
      "All assets have been tested\n",
      "Length of close to best is: 7\n",
      "Sharpe ratios (first is best_sharpe): [np.float64(5.99776345704326), np.float64(6.280535132840725), np.float64(4.092192391718791), np.float64(4.112381924597507), np.float64(4.432402750295455), np.float64(4.464754996506794), np.float64(4.641269021197013)]\n",
      "\u001b[1m3/3\u001b[0m \u001b[32m━━━━━━━━━━━━━━━━━━━━\u001b[0m\u001b[37m\u001b[0m \u001b[1m0s\u001b[0m 108ms/step\n",
      "[[0.5194491]\n",
      " [0.5278393]\n",
      " [0.5366908]] [0.5194491] [3.3192196]\n",
      "\u001b[1m3/3\u001b[0m \u001b[32m━━━━━━━━━━━━━━━━━━━━\u001b[0m\u001b[37m\u001b[0m \u001b[1m0s\u001b[0m 114ms/step\n",
      "[[0.561407  ]\n",
      " [0.56578946]\n",
      " [0.57264477]] [0.561407] [2.00171]\n",
      "\u001b[1m3/3\u001b[0m \u001b[32m━━━━━━━━━━━━━━━━━━━━\u001b[0m\u001b[37m\u001b[0m \u001b[1m0s\u001b[0m 110ms/step\n",
      "[[0.42593324]\n",
      " [0.42943507]\n",
      " [0.43849474]] [0.42593324] [2.949171]\n",
      "\u001b[1m3/3\u001b[0m \u001b[32m━━━━━━━━━━━━━━━━━━━━\u001b[0m\u001b[37m\u001b[0m \u001b[1m0s\u001b[0m 98ms/step\n",
      "[[0.42379677]\n",
      " [0.42703697]\n",
      " [0.43538806]] [0.42379677] [2.7351048]\n",
      "\u001b[1m3/3\u001b[0m \u001b[32m━━━━━━━━━━━━━━━━━━━━\u001b[0m\u001b[37m\u001b[0m \u001b[1m0s\u001b[0m 100ms/step\n",
      "[[0.4613568 ]\n",
      " [0.46544352]\n",
      " [0.4753759 ]] [0.4613568] [3.0386682]\n",
      "\u001b[1m3/3\u001b[0m \u001b[32m━━━━━━━━━━━━━━━━━━━━\u001b[0m\u001b[37m\u001b[0m \u001b[1m0s\u001b[0m 113ms/step\n",
      "[[0.46423227]\n",
      " [0.4677701 ]\n",
      " [0.4773116 ]] [0.46423227] [2.817414]\n",
      "\u001b[1m3/3\u001b[0m \u001b[32m━━━━━━━━━━━━━━━━━━━━\u001b[0m\u001b[37m\u001b[0m \u001b[1m0s\u001b[0m 115ms/step\n",
      "[[0.506039  ]\n",
      " [0.5143484 ]\n",
      " [0.52747273]] [0.506039] [4.2355847]\n",
      "Current iteration: 4, the best portfolio found was portfolio: 6\n"
     ]
    },
    {
     "name": "stderr",
     "output_type": "stream",
     "text": [
      "  0%|          | 202/100000 [00:02<18:28, 90.05it/s]\n"
     ]
    },
    {
     "name": "stdout",
     "output_type": "stream",
     "text": [
      "All assets have been tested\n",
      "Length of close to best is: 6\n",
      "Sharpe ratios (first is best_sharpe): [np.float64(4.641269021197013), np.float64(6.259426717898085), np.float64(3.4544011605768175), np.float64(3.9022670523393503), np.float64(4.220943339648037), np.float64(4.629470068360522)]\n",
      "\u001b[1m3/3\u001b[0m \u001b[32m━━━━━━━━━━━━━━━━━━━━\u001b[0m\u001b[37m\u001b[0m \u001b[1m0s\u001b[0m 107ms/step\n",
      "[[0.5412804]\n",
      " [0.5395306]\n",
      " [0.5367788]] [0.5412804] [-0.8316542]\n",
      "\u001b[1m3/3\u001b[0m \u001b[32m━━━━━━━━━━━━━━━━━━━━\u001b[0m\u001b[37m\u001b[0m \u001b[1m0s\u001b[0m 98ms/step\n",
      "[[0.5754141]\n",
      " [0.5736324]\n",
      " [0.5733783]] [0.5754141] [-0.35379678]\n",
      "\u001b[1m3/3\u001b[0m \u001b[32m━━━━━━━━━━━━━━━━━━━━\u001b[0m\u001b[37m\u001b[0m \u001b[1m0s\u001b[0m 101ms/step\n",
      "[[0.55923235]\n",
      " [0.5345976 ]\n",
      " [0.51402617]] [0.55923235] [-8.083614]\n",
      "\u001b[1m3/3\u001b[0m \u001b[32m━━━━━━━━━━━━━━━━━━━━\u001b[0m\u001b[37m\u001b[0m \u001b[1m0s\u001b[0m 94ms/step\n",
      "[[0.5911045 ]\n",
      " [0.56841516]\n",
      " [0.54785997]] [0.5911045] [-7.3158875]\n",
      "\u001b[1m3/3\u001b[0m \u001b[32m━━━━━━━━━━━━━━━━━━━━\u001b[0m\u001b[37m\u001b[0m \u001b[1m0s\u001b[0m 95ms/step\n",
      "[[0.5992037]\n",
      " [0.5825047]\n",
      " [0.5629923]] [0.5992037] [-6.0432587]\n",
      "\u001b[1m3/3\u001b[0m \u001b[32m━━━━━━━━━━━━━━━━━━━━\u001b[0m\u001b[37m\u001b[0m \u001b[1m0s\u001b[0m 101ms/step\n",
      "[[0.6238338]\n",
      " [0.6060816]\n",
      " [0.5838751]] [0.6238338] [-6.4053373]\n",
      "Current iteration: 5, the best portfolio found was portfolio: 1\n"
     ]
    },
    {
     "name": "stderr",
     "output_type": "stream",
     "text": [
      "  0%|          | 214/100000 [00:02<18:13, 91.26it/s]\n"
     ]
    },
    {
     "name": "stdout",
     "output_type": "stream",
     "text": [
      "All assets have been tested\n",
      "Length of close to best is: 7\n",
      "Sharpe ratios (first is best_sharpe): [np.float64(6.259426717898085), np.float64(6.275774699905985), np.float64(4.016952178816655), np.float64(4.2126668985423885), np.float64(4.824539166908486), np.float64(5.141641007922638), np.float64(5.436705710481029)]\n",
      "\u001b[1m3/3\u001b[0m \u001b[32m━━━━━━━━━━━━━━━━━━━━\u001b[0m\u001b[37m\u001b[0m \u001b[1m0s\u001b[0m 97ms/step\n",
      "[[0.58516186]\n",
      " [0.58693075]\n",
      " [0.59237665]] [0.58516186] [1.2329553]\n",
      "\u001b[1m3/3\u001b[0m \u001b[32m━━━━━━━━━━━━━━━━━━━━\u001b[0m\u001b[37m\u001b[0m \u001b[1m0s\u001b[0m 101ms/step\n",
      "[[0.56314427]\n",
      " [0.564825  ]\n",
      " [0.5703247 ]] [0.56314427] [1.2750645]\n",
      "\u001b[1m3/3\u001b[0m \u001b[32m━━━━━━━━━━━━━━━━━━━━\u001b[0m\u001b[37m\u001b[0m \u001b[1m0s\u001b[0m 94ms/step\n",
      "[[0.5756469 ]\n",
      " [0.5864419 ]\n",
      " [0.59445363]] [0.5756469] [3.2670646]\n",
      "\u001b[1m3/3\u001b[0m \u001b[32m━━━━━━━━━━━━━━━━━━━━\u001b[0m\u001b[37m\u001b[0m \u001b[1m0s\u001b[0m 91ms/step\n",
      "[[0.5574651 ]\n",
      " [0.56596893]\n",
      " [0.57220036]] [0.5574651] [2.6432655]\n",
      "\u001b[1m3/3\u001b[0m \u001b[32m━━━━━━━━━━━━━━━━━━━━\u001b[0m\u001b[37m\u001b[0m \u001b[1m0s\u001b[0m 98ms/step\n",
      "[[0.58189446]\n",
      " [0.58991843]\n",
      " [0.5975965 ]] [0.58189446] [2.6984394]\n",
      "\u001b[1m3/3\u001b[0m \u001b[32m━━━━━━━━━━━━━━━━━━━━\u001b[0m\u001b[37m\u001b[0m \u001b[1m0s\u001b[0m 92ms/step\n",
      "[[0.6018474]\n",
      " [0.6093625]\n",
      " [0.6180818]] [0.6018474] [2.6974275]\n",
      "\u001b[1m3/3\u001b[0m \u001b[32m━━━━━━━━━━━━━━━━━━━━\u001b[0m\u001b[37m\u001b[0m \u001b[1m0s\u001b[0m 91ms/step\n",
      "[[0.6348554]\n",
      " [0.6391419]\n",
      " [0.6478711]] [0.6348554] [2.0501814]\n",
      "Current iteration: 6, the best portfolio found was portfolio: 2\n"
     ]
    },
    {
     "name": "stderr",
     "output_type": "stream",
     "text": [
      "  0%|          | 179/100000 [00:01<16:14, 102.42it/s]\n"
     ]
    },
    {
     "name": "stdout",
     "output_type": "stream",
     "text": [
      "All assets have been tested\n",
      "Length of close to best is: 7\n",
      "Sharpe ratios (first is best_sharpe): [np.float64(4.016952178816655), np.float64(6.086631670806978), np.float64(3.6165923460232947), np.float64(4.007202149729825), np.float64(4.378433455051249), np.float64(4.378433455052945), np.float64(4.5172754293691195)]\n",
      "\u001b[1m3/3\u001b[0m \u001b[32m━━━━━━━━━━━━━━━━━━━━\u001b[0m\u001b[37m\u001b[0m \u001b[1m0s\u001b[0m 96ms/step\n",
      "[[0.6123802 ]\n",
      " [0.61122084]\n",
      " [0.60438716]] [0.6123802] [-1.3052418]\n",
      "\u001b[1m3/3\u001b[0m \u001b[32m━━━━━━━━━━━━━━━━━━━━\u001b[0m\u001b[37m\u001b[0m \u001b[1m0s\u001b[0m 92ms/step\n",
      "[[0.58255845]\n",
      " [0.5902527 ]\n",
      " [0.5910456 ]] [0.58255845] [1.4568778]\n",
      "\u001b[1m3/3\u001b[0m \u001b[32m━━━━━━━━━━━━━━━━━━━━\u001b[0m\u001b[37m\u001b[0m \u001b[1m0s\u001b[0m 92ms/step\n",
      "[[0.46359196]\n",
      " [0.46870565]\n",
      " [0.4647125 ]] [0.46359196] [0.24170771]\n",
      "\u001b[1m3/3\u001b[0m \u001b[32m━━━━━━━━━━━━━━━━━━━━\u001b[0m\u001b[37m\u001b[0m \u001b[1m0s\u001b[0m 93ms/step\n",
      "[[0.5213602]\n",
      " [0.5284286]\n",
      " [0.524109 ]] [0.5213602] [0.52723384]\n",
      "\u001b[1m3/3\u001b[0m \u001b[32m━━━━━━━━━━━━━━━━━━━━\u001b[0m\u001b[37m\u001b[0m \u001b[1m0s\u001b[0m 93ms/step\n",
      "[[0.5761269 ]\n",
      " [0.58179855]\n",
      " [0.5762537 ]] [0.5761269] [0.02201576]\n",
      "\u001b[1m3/3\u001b[0m \u001b[32m━━━━━━━━━━━━━━━━━━━━\u001b[0m\u001b[37m\u001b[0m \u001b[1m0s\u001b[0m 97ms/step\n",
      "[[0.61526984]\n",
      " [0.621473  ]\n",
      " [0.6147689 ]] [0.61526984] [-0.08141427]\n",
      "\u001b[1m3/3\u001b[0m \u001b[32m━━━━━━━━━━━━━━━━━━━━\u001b[0m\u001b[37m\u001b[0m \u001b[1m0s\u001b[0m 95ms/step\n",
      "[[0.61034435]\n",
      " [0.61571234]\n",
      " [0.60824245]] [0.61034435] [-0.34437907]\n",
      "Current iteration: 7, the best portfolio found was portfolio: 1\n"
     ]
    },
    {
     "name": "stderr",
     "output_type": "stream",
     "text": [
      "  0%|          | 208/100000 [00:02<17:37, 94.33it/s]\n"
     ]
    },
    {
     "name": "stdout",
     "output_type": "stream",
     "text": [
      "All assets have been tested\n",
      "Length of close to best is: 7\n",
      "Sharpe ratios (first is best_sharpe): [np.float64(6.086631670806978), np.float64(6.2606141821329695), np.float64(3.250270941174735), np.float64(3.542863102676444), np.float64(3.7969368742692273), np.float64(4.047304160898377), np.float64(4.085329843101187)]\n",
      "\u001b[1m3/3\u001b[0m \u001b[32m━━━━━━━━━━━━━━━━━━━━\u001b[0m\u001b[37m\u001b[0m \u001b[1m0s\u001b[0m 94ms/step\n",
      "[[0.59440434]\n",
      " [0.6049736 ]\n",
      " [0.63227284]] [0.59440434] [6.3708315]\n",
      "\u001b[1m3/3\u001b[0m \u001b[32m━━━━━━━━━━━━━━━━━━━━\u001b[0m\u001b[37m\u001b[0m \u001b[1m0s\u001b[0m 96ms/step\n",
      "[[0.623783 ]\n",
      " [0.6361942]\n",
      " [0.6660502]] [0.623783] [6.775947]\n",
      "\u001b[1m3/3\u001b[0m \u001b[32m━━━━━━━━━━━━━━━━━━━━\u001b[0m\u001b[37m\u001b[0m \u001b[1m0s\u001b[0m 92ms/step\n",
      "[[0.5082395]\n",
      " [0.5259848]\n",
      " [0.5466418]] [0.5082395] [7.5559487]\n",
      "\u001b[1m3/3\u001b[0m \u001b[32m━━━━━━━━━━━━━━━━━━━━\u001b[0m\u001b[37m\u001b[0m \u001b[1m0s\u001b[0m 104ms/step\n",
      "[[0.53870434]\n",
      " [0.555842  ]\n",
      " [0.57645845]] [0.53870434] [7.0083194]\n",
      "\u001b[1m3/3\u001b[0m \u001b[32m━━━━━━━━━━━━━━━━━━━━\u001b[0m\u001b[37m\u001b[0m \u001b[1m0s\u001b[0m 84ms/step\n",
      "[[0.5837208 ]\n",
      " [0.60138786]\n",
      " [0.6235747 ]] [0.5837208] [6.827557]\n",
      "\u001b[1m3/3\u001b[0m \u001b[32m━━━━━━━━━━━━━━━━━━━━\u001b[0m\u001b[37m\u001b[0m \u001b[1m0s\u001b[0m 85ms/step\n",
      "[[0.57973534]\n",
      " [0.59294516]\n",
      " [0.6103708 ]] [0.57973534] [5.28439]\n",
      "\u001b[1m3/3\u001b[0m \u001b[32m━━━━━━━━━━━━━━━━━━━━\u001b[0m\u001b[37m\u001b[0m \u001b[1m0s\u001b[0m 82ms/step\n",
      "[[0.6012325]\n",
      " [0.6132594]\n",
      " [0.6343987]] [0.6012325] [5.516363]\n",
      "Current iteration: 8, the best portfolio found was portfolio: 2\n"
     ]
    },
    {
     "name": "stderr",
     "output_type": "stream",
     "text": [
      "  0%|          | 139/100000 [00:01<14:25, 115.35it/s]\n"
     ]
    },
    {
     "name": "stdout",
     "output_type": "stream",
     "text": [
      "All assets have been tested\n",
      "Length of close to best is: 6\n",
      "Sharpe ratios (first is best_sharpe): [np.float64(3.250270941174735), np.float64(5.764231316971834), np.float64(3.2415422451252454), np.float64(3.729076418651029), np.float64(4.237752658958802), np.float64(4.237752658961032)]\n",
      "\u001b[1m3/3\u001b[0m \u001b[32m━━━━━━━━━━━━━━━━━━━━\u001b[0m\u001b[37m\u001b[0m \u001b[1m0s\u001b[0m 87ms/step\n",
      "[[0.56784683]\n",
      " [0.57669467]\n",
      " [0.5730093 ]] [0.56784683] [0.90913206]\n",
      "\u001b[1m3/3\u001b[0m \u001b[32m━━━━━━━━━━━━━━━━━━━━\u001b[0m\u001b[37m\u001b[0m \u001b[1m0s\u001b[0m 83ms/step\n",
      "[[0.6398589]\n",
      " [0.6514889]\n",
      " [0.6319671]] [0.6398589] [-1.2333617]\n",
      "\u001b[1m3/3\u001b[0m \u001b[32m━━━━━━━━━━━━━━━━━━━━\u001b[0m\u001b[37m\u001b[0m \u001b[1m0s\u001b[0m 83ms/step\n",
      "[[0.56034106]\n",
      " [0.5692726 ]\n",
      " [0.562874  ]] [0.56034106] [0.4520388]\n",
      "\u001b[1m3/3\u001b[0m \u001b[32m━━━━━━━━━━━━━━━━━━━━\u001b[0m\u001b[37m\u001b[0m \u001b[1m0s\u001b[0m 83ms/step\n",
      "[[0.5954372]\n",
      " [0.6034895]\n",
      " [0.5960495]] [0.5954372] [0.10282511]\n",
      "\u001b[1m3/3\u001b[0m \u001b[32m━━━━━━━━━━━━━━━━━━━━\u001b[0m\u001b[37m\u001b[0m \u001b[1m0s\u001b[0m 88ms/step\n",
      "[[0.6074261]\n",
      " [0.6194067]\n",
      " [0.6175304]] [0.6074261] [1.6634613]\n",
      "\u001b[1m3/3\u001b[0m \u001b[32m━━━━━━━━━━━━━━━━━━━━\u001b[0m\u001b[37m\u001b[0m \u001b[1m0s\u001b[0m 83ms/step\n",
      "[[0.6229188 ]\n",
      " [0.6368063 ]\n",
      " [0.63462585]] [0.6229188] [1.879389]\n",
      "Current iteration: 9, the best portfolio found was portfolio: 5\n"
     ]
    },
    {
     "name": "stderr",
     "output_type": "stream",
     "text": [
      "  0%|          | 180/100000 [00:01<14:43, 112.99it/s]\n"
     ]
    },
    {
     "name": "stdout",
     "output_type": "stream",
     "text": [
      "All assets have been tested\n",
      "Length of close to best is: 5\n",
      "Sharpe ratios (first is best_sharpe): [np.float64(4.237752658961032), np.float64(5.947027184332122), np.float64(3.6131100938257297), np.float64(4.066988762763848), np.float64(4.1898365444369885)]\n",
      "\u001b[1m3/3\u001b[0m \u001b[32m━━━━━━━━━━━━━━━━━━━━\u001b[0m\u001b[37m\u001b[0m \u001b[1m0s\u001b[0m 89ms/step\n",
      "[[0.70162255]\n",
      " [0.7006911 ]\n",
      " [0.7042177 ]] [0.70162255] [0.36987504]\n",
      "\u001b[1m3/3\u001b[0m \u001b[32m━━━━━━━━━━━━━━━━━━━━\u001b[0m\u001b[37m\u001b[0m \u001b[1m0s\u001b[0m 91ms/step\n",
      "[[0.7370416]\n",
      " [0.7305824]\n",
      " [0.7257211]] [0.7370416] [-1.535934]\n",
      "\u001b[1m3/3\u001b[0m \u001b[32m━━━━━━━━━━━━━━━━━━━━\u001b[0m\u001b[37m\u001b[0m \u001b[1m0s\u001b[0m 85ms/step\n",
      "[[0.66551304]\n",
      " [0.6762214 ]\n",
      " [0.70142305]] [0.66551304] [5.3958387]\n",
      "\u001b[1m3/3\u001b[0m \u001b[32m━━━━━━━━━━━━━━━━━━━━\u001b[0m\u001b[37m\u001b[0m \u001b[1m0s\u001b[0m 84ms/step\n",
      "[[0.82585204]\n",
      " [0.8262508 ]\n",
      " [0.8437527 ]] [0.82585204] [2.1675367]\n",
      "\u001b[1m3/3\u001b[0m \u001b[32m━━━━━━━━━━━━━━━━━━━━\u001b[0m\u001b[37m\u001b[0m \u001b[1m0s\u001b[0m 83ms/step\n",
      "[[0.87018746]\n",
      " [0.87423056]\n",
      " [0.8865803 ]] [0.87018746] [1.8838272]\n",
      "Current iteration: 10, the best portfolio found was portfolio: 2\n"
     ]
    },
    {
     "name": "stderr",
     "output_type": "stream",
     "text": [
      "  0%|          | 241/100000 [00:02<14:56, 111.27it/s]\n"
     ]
    },
    {
     "name": "stdout",
     "output_type": "stream",
     "text": [
      "All assets have been tested\n",
      "Length of close to best is: 7\n",
      "Sharpe ratios (first is best_sharpe): [np.float64(3.6131100938257297), np.float64(5.982071661167436), np.float64(3.365098625093676), np.float64(3.8403677667724945), np.float64(4.074862202201551), np.float64(4.474831073116898), np.float64(4.677537744188944)]\n",
      "\u001b[1m3/3\u001b[0m \u001b[32m━━━━━━━━━━━━━━━━━━━━\u001b[0m\u001b[37m\u001b[0m \u001b[1m0s\u001b[0m 85ms/step\n",
      "[[0.65675366]\n",
      " [0.65461624]\n",
      " [0.6515344 ]] [0.65675366] [-0.794709]\n",
      "\u001b[1m3/3\u001b[0m \u001b[32m━━━━━━━━━━━━━━━━━━━━\u001b[0m\u001b[37m\u001b[0m \u001b[1m0s\u001b[0m 81ms/step\n",
      "[[0.6538436 ]\n",
      " [0.64956635]\n",
      " [0.64231855]] [0.6538436] [-1.7626593]\n",
      "\u001b[1m3/3\u001b[0m \u001b[32m━━━━━━━━━━━━━━━━━━━━\u001b[0m\u001b[37m\u001b[0m \u001b[1m0s\u001b[0m 88ms/step\n",
      "[[0.6748603 ]\n",
      " [0.6540623 ]\n",
      " [0.63005674]] [0.6748603] [-6.638938]\n",
      "\u001b[1m3/3\u001b[0m \u001b[32m━━━━━━━━━━━━━━━━━━━━\u001b[0m\u001b[37m\u001b[0m \u001b[1m0s\u001b[0m 81ms/step\n",
      "[[0.7127654 ]\n",
      " [0.69372016]\n",
      " [0.67111874]] [0.7127654] [-5.842969]\n",
      "\u001b[1m3/3\u001b[0m \u001b[32m━━━━━━━━━━━━━━━━━━━━\u001b[0m\u001b[37m\u001b[0m \u001b[1m0s\u001b[0m 82ms/step\n",
      "[[0.7425414]\n",
      " [0.7198007]\n",
      " [0.6944686]] [0.7425414] [-6.4740844]\n",
      "\u001b[1m3/3\u001b[0m \u001b[32m━━━━━━━━━━━━━━━━━━━━\u001b[0m\u001b[37m\u001b[0m \u001b[1m0s\u001b[0m 85ms/step\n",
      "[[0.75340235]\n",
      " [0.73397934]\n",
      " [0.7116287 ]] [0.75340235] [-5.54467]\n",
      "\u001b[1m3/3\u001b[0m \u001b[32m━━━━━━━━━━━━━━━━━━━━\u001b[0m\u001b[37m\u001b[0m \u001b[1m0s\u001b[0m 85ms/step\n",
      "[[0.7353977 ]\n",
      " [0.72303927]\n",
      " [0.7070062 ]] [0.7353977] [-3.8606975]\n",
      "Current iteration: 11, the best portfolio found was portfolio: 0\n"
     ]
    },
    {
     "name": "stderr",
     "output_type": "stream",
     "text": [
      "  0%|          | 170/100000 [00:01<14:53, 111.78it/s]\n"
     ]
    },
    {
     "name": "stdout",
     "output_type": "stream",
     "text": [
      "All assets have been tested\n",
      "Length of close to best is: 5\n",
      "Sharpe ratios (first is best_sharpe): [np.float64(3.6131100938257297), np.float64(5.853555324002544), np.float64(3.5892120567819483), np.float64(3.88431538902252), np.float64(4.419597229538901)]\n",
      "\u001b[1m3/3\u001b[0m \u001b[32m━━━━━━━━━━━━━━━━━━━━\u001b[0m\u001b[37m\u001b[0m \u001b[1m0s\u001b[0m 82ms/step\n",
      "[[0.71687883]\n",
      " [0.7028949 ]\n",
      " [0.6877426 ]] [0.71687883] [-4.0643187]\n",
      "\u001b[1m3/3\u001b[0m \u001b[32m━━━━━━━━━━━━━━━━━━━━\u001b[0m\u001b[37m\u001b[0m \u001b[1m0s\u001b[0m 84ms/step\n",
      "[[0.6706778 ]\n",
      " [0.66066897]\n",
      " [0.63796645]] [0.6706778] [-4.8773537]\n",
      "\u001b[1m3/3\u001b[0m \u001b[32m━━━━━━━━━━━━━━━━━━━━\u001b[0m\u001b[37m\u001b[0m \u001b[1m0s\u001b[0m 83ms/step\n",
      "[[0.6078748]\n",
      " [0.5919944]\n",
      " [0.5903623]] [0.6078748] [-2.8809388]\n",
      "\u001b[1m3/3\u001b[0m \u001b[32m━━━━━━━━━━━━━━━━━━━━\u001b[0m\u001b[37m\u001b[0m \u001b[1m0s\u001b[0m 84ms/step\n",
      "[[0.6146595 ]\n",
      " [0.59162307]\n",
      " [0.5879148 ]] [0.6146595] [-4.351135]\n",
      "\u001b[1m3/3\u001b[0m \u001b[32m━━━━━━━━━━━━━━━━━━━━\u001b[0m\u001b[37m\u001b[0m \u001b[1m0s\u001b[0m 83ms/step\n",
      "[[0.6609798]\n",
      " [0.637904 ]\n",
      " [0.6278978]] [0.6609798] [-5.0049953]\n",
      "Current iteration: 12, the best portfolio found was portfolio: 2\n"
     ]
    },
    {
     "name": "stderr",
     "output_type": "stream",
     "text": [
      "  0%|          | 171/100000 [00:01<15:12, 109.41it/s]\n"
     ]
    },
    {
     "name": "stdout",
     "output_type": "stream",
     "text": [
      "All assets have been tested\n",
      "Length of close to best is: 6\n",
      "Sharpe ratios (first is best_sharpe): [np.float64(3.5892120567819483), np.float64(5.805923581413644), np.float64(3.1822155937242598), np.float64(3.899180798054931), np.float64(4.5250606686231665), np.float64(4.525060668623462)]\n",
      "\u001b[1m2/2\u001b[0m \u001b[32m━━━━━━━━━━━━━━━━━━━━\u001b[0m\u001b[37m\u001b[0m \u001b[1m0s\u001b[0m 14ms/step \n",
      "[[0.5911821 ]\n",
      " [0.5847041 ]\n",
      " [0.59300375]] [0.5911821] [0.30813468]\n",
      "\u001b[1m2/2\u001b[0m \u001b[32m━━━━━━━━━━━━━━━━━━━━\u001b[0m\u001b[37m\u001b[0m \u001b[1m0s\u001b[0m 15ms/step \n",
      "[[0.63006735]\n",
      " [0.6186328 ]\n",
      " [0.639325  ]] [0.63006735] [1.469315]\n",
      "\u001b[1m2/2\u001b[0m \u001b[32m━━━━━━━━━━━━━━━━━━━━\u001b[0m\u001b[37m\u001b[0m \u001b[1m0s\u001b[0m 14ms/step \n",
      "[[0.6344915 ]\n",
      " [0.62014985]\n",
      " [0.6190762 ]] [0.6344915] [-2.4295535]\n",
      "\u001b[1m2/2\u001b[0m \u001b[32m━━━━━━━━━━━━━━━━━━━━\u001b[0m\u001b[37m\u001b[0m \u001b[1m0s\u001b[0m 14ms/step \n",
      "[[0.66898173]\n",
      " [0.65557224]\n",
      " [0.6565468 ]] [0.66898173] [-1.8587891]\n",
      "\u001b[1m2/2\u001b[0m \u001b[32m━━━━━━━━━━━━━━━━━━━━\u001b[0m\u001b[37m\u001b[0m \u001b[1m0s\u001b[0m 15ms/step \n",
      "[[0.69531935]\n",
      " [0.68207794]\n",
      " [0.6825591 ]] [0.69531935] [-1.8351685]\n",
      "\u001b[1m2/2\u001b[0m \u001b[32m━━━━━━━━━━━━━━━━━━━━\u001b[0m\u001b[37m\u001b[0m \u001b[1m0s\u001b[0m 13ms/step \n",
      "[[0.6621624]\n",
      " [0.649497 ]\n",
      " [0.6498408]] [0.6621624] [-1.8608199]\n",
      "Current iteration: 13, the best portfolio found was portfolio: 1\n"
     ]
    },
    {
     "name": "stderr",
     "output_type": "stream",
     "text": [
      "  0%|          | 225/100000 [00:01<14:20, 115.97it/s]\n"
     ]
    },
    {
     "name": "stdout",
     "output_type": "stream",
     "text": [
      "All assets have been tested\n",
      "Length of close to best is: 6\n",
      "Sharpe ratios (first is best_sharpe): [np.float64(5.805923581413644), np.float64(5.643380050322686), np.float64(3.3766889062626744), np.float64(3.67695977630861), np.float64(4.0818739078513415), np.float64(4.124485849425963)]\n",
      "\u001b[1m2/2\u001b[0m \u001b[32m━━━━━━━━━━━━━━━━━━━━\u001b[0m\u001b[37m\u001b[0m \u001b[1m0s\u001b[0m 164ms/step\n",
      "[[0.63888484]\n",
      " [0.64987653]\n",
      " [0.6691832 ]] [0.63888484] [4.742381]\n",
      "\u001b[1m2/2\u001b[0m \u001b[32m━━━━━━━━━━━━━━━━━━━━\u001b[0m\u001b[37m\u001b[0m \u001b[1m0s\u001b[0m 167ms/step\n",
      "[[0.6785524 ]\n",
      " [0.69066995]\n",
      " [0.7112307 ]] [0.6785524] [4.8158855]\n",
      "\u001b[1m2/2\u001b[0m \u001b[32m━━━━━━━━━━━━━━━━━━━━\u001b[0m\u001b[37m\u001b[0m \u001b[1m0s\u001b[0m 167ms/step\n",
      "[[0.5584922 ]\n",
      " [0.55844504]\n",
      " [0.56094456]] [0.5584922] [0.43910617]\n",
      "\u001b[1m2/2\u001b[0m \u001b[32m━━━━━━━━━━━━━━━━━━━━\u001b[0m\u001b[37m\u001b[0m \u001b[1m0s\u001b[0m 157ms/step\n",
      "[[0.58416766]\n",
      " [0.58438003]\n",
      " [0.58732975]] [0.58416766] [0.5412977]\n",
      "\u001b[1m2/2\u001b[0m \u001b[32m━━━━━━━━━━━━━━━━━━━━\u001b[0m\u001b[37m\u001b[0m \u001b[1m0s\u001b[0m 162ms/step\n",
      "[[0.63023406]\n",
      " [0.6355127 ]\n",
      " [0.64394456]] [0.63023406] [2.1754613]\n",
      "\u001b[1m2/2\u001b[0m \u001b[32m━━━━━━━━━━━━━━━━━━━━\u001b[0m\u001b[37m\u001b[0m \u001b[1m0s\u001b[0m 176ms/step\n",
      "[[0.675811  ]\n",
      " [0.68176347]\n",
      " [0.69096243]] [0.675811] [2.2419643]\n",
      "Current iteration: 14, the best portfolio found was portfolio: 1\n"
     ]
    },
    {
     "name": "stderr",
     "output_type": "stream",
     "text": [
      "  0%|          | 133/100000 [00:01<16:53, 98.55it/s] \n"
     ]
    },
    {
     "name": "stdout",
     "output_type": "stream",
     "text": [
      "All assets have been tested\n",
      "Length of close to best is: 7\n",
      "Sharpe ratios (first is best_sharpe): [np.float64(5.643380050322686), np.float64(5.707718451141615), np.float64(3.85355139707697), np.float64(4.078698267551179), np.float64(4.654200216048888), np.float64(4.654200216049712), np.float64(5.018800543788937)]\n",
      "\u001b[1m2/2\u001b[0m \u001b[32m━━━━━━━━━━━━━━━━━━━━\u001b[0m\u001b[37m\u001b[0m \u001b[1m0s\u001b[0m 182ms/step\n",
      "[[0.73716915]\n",
      " [0.7448132 ]\n",
      " [0.7559712 ]] [0.73716915] [2.5505743]\n",
      "\u001b[1m2/2\u001b[0m \u001b[32m━━━━━━━━━━━━━━━━━━━━\u001b[0m\u001b[37m\u001b[0m \u001b[1m0s\u001b[0m 179ms/step\n",
      "[[0.7074242]\n",
      " [0.7100292]\n",
      " [0.7154203]] [0.7074242] [1.1303093]\n",
      "\u001b[1m2/2\u001b[0m \u001b[32m━━━━━━━━━━━━━━━━━━━━\u001b[0m\u001b[37m\u001b[0m \u001b[1m0s\u001b[0m 182ms/step\n",
      "[[0.63803554]\n",
      " [0.64272594]\n",
      " [0.6467855 ]] [0.63803554] [1.371391]\n",
      "\u001b[1m2/2\u001b[0m \u001b[32m━━━━━━━━━━━━━━━━━━━━\u001b[0m\u001b[37m\u001b[0m \u001b[1m0s\u001b[0m 182ms/step\n",
      "[[0.654759 ]\n",
      " [0.6583856]\n",
      " [0.6638672]] [0.654759] [1.3910745]\n",
      "\u001b[1m2/2\u001b[0m \u001b[32m━━━━━━━━━━━━━━━━━━━━\u001b[0m\u001b[37m\u001b[0m \u001b[1m0s\u001b[0m 177ms/step\n",
      "[[0.6645096 ]\n",
      " [0.6678377 ]\n",
      " [0.67426527]] [0.6645096] [1.4681009]\n",
      "\u001b[1m2/2\u001b[0m \u001b[32m━━━━━━━━━━━━━━━━━━━━\u001b[0m\u001b[37m\u001b[0m \u001b[1m0s\u001b[0m 175ms/step\n",
      "[[0.65747684]\n",
      " [0.6606467 ]\n",
      " [0.66677856]] [0.65747684] [1.4147604]\n",
      "\u001b[1m2/2\u001b[0m \u001b[32m━━━━━━━━━━━━━━━━━━━━\u001b[0m\u001b[37m\u001b[0m \u001b[1m0s\u001b[0m 185ms/step\n",
      "[[0.69830084]\n",
      " [0.70020777]\n",
      " [0.70723635]] [0.69830084] [1.2796077]\n",
      "Current iteration: 15, the best portfolio found was portfolio: 0\n"
     ]
    },
    {
     "name": "stderr",
     "output_type": "stream",
     "text": [
      "  0%|          | 152/100000 [00:01<14:48, 112.39it/s]\n"
     ]
    },
    {
     "name": "stdout",
     "output_type": "stream",
     "text": [
      "All assets have been tested\n",
      "Length of close to best is: 6\n",
      "Sharpe ratios (first is best_sharpe): [np.float64(5.643380050322686), np.float64(5.573687647363396), np.float64(3.4163735982895824), np.float64(3.966600459953476), np.float64(4.026289551262107), np.float64(4.099287868601442)]\n",
      "\u001b[1m2/2\u001b[0m \u001b[32m━━━━━━━━━━━━━━━━━━━━\u001b[0m\u001b[37m\u001b[0m \u001b[1m0s\u001b[0m 183ms/step\n",
      "[[0.7519501]\n",
      " [0.776254 ]\n",
      " [0.792386 ]] [0.7519501] [5.3774724]\n",
      "\u001b[1m2/2\u001b[0m \u001b[32m━━━━━━━━━━━━━━━━━━━━\u001b[0m\u001b[37m\u001b[0m \u001b[1m0s\u001b[0m 192ms/step\n",
      "[[0.7490422 ]\n",
      " [0.76691896]\n",
      " [0.7825776 ]] [0.7490422] [4.477099]\n",
      "\u001b[1m2/2\u001b[0m \u001b[32m━━━━━━━━━━━━━━━━━━━━\u001b[0m\u001b[37m\u001b[0m \u001b[1m0s\u001b[0m 179ms/step\n",
      "[[0.8044474 ]\n",
      " [0.80739075]\n",
      " [0.8114989 ]] [0.8044474] [0.87656045]\n",
      "\u001b[1m2/2\u001b[0m \u001b[32m━━━━━━━━━━━━━━━━━━━━\u001b[0m\u001b[37m\u001b[0m \u001b[1m0s\u001b[0m 182ms/step\n",
      "[[0.8564348 ]\n",
      " [0.8593556 ]\n",
      " [0.85407937]] [0.8564348] [-0.27503043]\n",
      "\u001b[1m2/2\u001b[0m \u001b[32m━━━━━━━━━━━━━━━━━━━━\u001b[0m\u001b[37m\u001b[0m \u001b[1m0s\u001b[0m 174ms/step\n",
      "[[0.86060536]\n",
      " [0.8695548 ]\n",
      " [0.8616367 ]] [0.86060536] [0.1198388]\n",
      "\u001b[1m2/2\u001b[0m \u001b[32m━━━━━━━━━━━━━━━━━━━━\u001b[0m\u001b[37m\u001b[0m \u001b[1m0s\u001b[0m 178ms/step\n",
      "[[0.8292769 ]\n",
      " [0.83849776]\n",
      " [0.83383185]] [0.8292769] [0.54926497]\n",
      "Current iteration: 16, the best portfolio found was portfolio: 0\n"
     ]
    },
    {
     "name": "stderr",
     "output_type": "stream",
     "text": [
      "  0%|          | 152/100000 [00:01<14:59, 110.95it/s]\n"
     ]
    },
    {
     "name": "stdout",
     "output_type": "stream",
     "text": [
      "All assets have been tested\n",
      "Length of close to best is: 7\n",
      "Sharpe ratios (first is best_sharpe): [np.float64(5.643380050322686), np.float64(5.592282886402757), np.float64(3.357814965658685), np.float64(3.5485840447272716), np.float64(4.123708490172127), np.float64(4.123708490211812), np.float64(4.370222909360055)]\n",
      "\u001b[1m2/2\u001b[0m \u001b[32m━━━━━━━━━━━━━━━━━━━━\u001b[0m\u001b[37m\u001b[0m \u001b[1m0s\u001b[0m 171ms/step\n",
      "[[0.84217805]\n",
      " [0.8480667 ]\n",
      " [0.8604351 ]] [0.84217805] [2.167841]\n",
      "\u001b[1m2/2\u001b[0m \u001b[32m━━━━━━━━━━━━━━━━━━━━\u001b[0m\u001b[37m\u001b[0m \u001b[1m0s\u001b[0m 175ms/step\n",
      "[[0.8018393]\n",
      " [0.803131 ]\n",
      " [0.8129029]] [0.8018393] [1.3797822]\n",
      "\u001b[1m2/2\u001b[0m \u001b[32m━━━━━━━━━━━━━━━━━━━━\u001b[0m\u001b[37m\u001b[0m \u001b[1m0s\u001b[0m 174ms/step\n",
      "[[0.76774627]\n",
      " [0.7523947 ]\n",
      " [0.733686  ]] [0.76774627] [-4.4364004]\n",
      "\u001b[1m2/2\u001b[0m \u001b[32m━━━━━━━━━━━━━━━━━━━━\u001b[0m\u001b[37m\u001b[0m \u001b[1m0s\u001b[0m 177ms/step\n",
      "[[0.756035  ]\n",
      " [0.74628454]\n",
      " [0.731899  ]] [0.756035] [-3.192438]\n",
      "\u001b[1m2/2\u001b[0m \u001b[32m━━━━━━━━━━━━━━━━━━━━\u001b[0m\u001b[37m\u001b[0m \u001b[1m0s\u001b[0m 174ms/step\n",
      "[[0.76348734]\n",
      " [0.7555761 ]\n",
      " [0.7460617 ]] [0.76348734] [-2.2823765]\n",
      "\u001b[1m2/2\u001b[0m \u001b[32m━━━━━━━━━━━━━━━━━━━━\u001b[0m\u001b[37m\u001b[0m \u001b[1m0s\u001b[0m 179ms/step\n",
      "[[0.7565613]\n",
      " [0.7489307]\n",
      " [0.7391625]] [0.7565613] [-2.299718]\n",
      "\u001b[1m2/2\u001b[0m \u001b[32m━━━━━━━━━━━━━━━━━━━━\u001b[0m\u001b[37m\u001b[0m \u001b[1m0s\u001b[0m 172ms/step\n",
      "[[0.805992  ]\n",
      " [0.7939401 ]\n",
      " [0.78589886]] [0.805992] [-2.4929705]\n",
      "Current iteration: 17, the best portfolio found was portfolio: 0\n"
     ]
    },
    {
     "name": "stderr",
     "output_type": "stream",
     "text": [
      "  0%|          | 147/100000 [00:01<15:36, 106.57it/s]\n"
     ]
    },
    {
     "name": "stdout",
     "output_type": "stream",
     "text": [
      "All assets have been tested\n",
      "Length of close to best is: 7\n",
      "Sharpe ratios (first is best_sharpe): [np.float64(5.643380050322686), np.float64(5.7488176395387365), np.float64(3.507520483498969), np.float64(3.6636614747687566), np.float64(4.068951735283858), np.float64(4.068951735292339), np.float64(4.520550674283827)]\n",
      "\u001b[1m2/2\u001b[0m \u001b[32m━━━━━━━━━━━━━━━━━━━━\u001b[0m\u001b[37m\u001b[0m \u001b[1m0s\u001b[0m 182ms/step\n",
      "[[0.82298034]\n",
      " [0.8320157 ]\n",
      " [0.83643067]] [0.82298034] [1.6343434]\n",
      "\u001b[1m2/2\u001b[0m \u001b[32m━━━━━━━━━━━━━━━━━━━━\u001b[0m\u001b[37m\u001b[0m \u001b[1m0s\u001b[0m 174ms/step\n",
      "[[0.80718815]\n",
      " [0.8233921 ]\n",
      " [0.8344    ]] [0.80718815] [3.3711898]\n",
      "\u001b[1m2/2\u001b[0m \u001b[32m━━━━━━━━━━━━━━━━━━━━\u001b[0m\u001b[37m\u001b[0m \u001b[1m0s\u001b[0m 175ms/step\n",
      "[[0.7025897 ]\n",
      " [0.7243029 ]\n",
      " [0.77000684]] [0.7025897] [9.595522]\n",
      "\u001b[1m2/2\u001b[0m \u001b[32m━━━━━━━━━━━━━━━━━━━━\u001b[0m\u001b[37m\u001b[0m \u001b[1m0s\u001b[0m 180ms/step\n",
      "[[0.71381485]\n",
      " [0.72989035]\n",
      " [0.7719254 ]] [0.71381485] [8.1408415]\n",
      "\u001b[1m2/2\u001b[0m \u001b[32m━━━━━━━━━━━━━━━━━━━━\u001b[0m\u001b[37m\u001b[0m \u001b[1m0s\u001b[0m 174ms/step\n",
      "[[0.7319637]\n",
      " [0.739039 ]\n",
      " [0.7706644]] [0.7319637] [5.287243]\n",
      "\u001b[1m2/2\u001b[0m \u001b[32m━━━━━━━━━━━━━━━━━━━━\u001b[0m\u001b[37m\u001b[0m \u001b[1m0s\u001b[0m 173ms/step\n",
      "[[0.7547656 ]\n",
      " [0.7626634 ]\n",
      " [0.79688776]] [0.7547656] [5.580822]\n",
      "\u001b[1m2/2\u001b[0m \u001b[32m━━━━━━━━━━━━━━━━━━━━\u001b[0m\u001b[37m\u001b[0m \u001b[1m0s\u001b[0m 170ms/step\n",
      "[[0.73805827]\n",
      " [0.74742764]\n",
      " [0.77619   ]] [0.73805827] [5.166491]\n",
      "Current iteration: 18, the best portfolio found was portfolio: 2\n"
     ]
    },
    {
     "name": "stderr",
     "output_type": "stream",
     "text": [
      "  0%|          | 121/100000 [00:01<16:05, 103.45it/s]\n"
     ]
    },
    {
     "name": "stdout",
     "output_type": "stream",
     "text": [
      "All assets have been tested\n",
      "Length of close to best is: 7\n",
      "Sharpe ratios (first is best_sharpe): [np.float64(3.507520483498969), np.float64(5.453761295977195), np.float64(3.5797752308415913), np.float64(3.9614891055639903), np.float64(4.101018856263684), np.float64(4.10101885633939), np.float64(4.499025546966399)]\n",
      "\u001b[1m2/2\u001b[0m \u001b[32m━━━━━━━━━━━━━━━━━━━━\u001b[0m\u001b[37m\u001b[0m \u001b[1m0s\u001b[0m 179ms/step\n",
      "[[0.7957945 ]\n",
      " [0.77186984]\n",
      " [0.748582  ]] [0.7957945] [-5.932748]\n",
      "\u001b[1m2/2\u001b[0m \u001b[32m━━━━━━━━━━━━━━━━━━━━\u001b[0m\u001b[37m\u001b[0m \u001b[1m0s\u001b[0m 180ms/step\n",
      "[[0.83131516]\n",
      " [0.7992425 ]\n",
      " [0.7681054 ]] [0.83131516] [-7.603587]\n",
      "\u001b[1m2/2\u001b[0m \u001b[32m━━━━━━━━━━━━━━━━━━━━\u001b[0m\u001b[37m\u001b[0m \u001b[1m0s\u001b[0m 168ms/step\n",
      "[[0.7708848]\n",
      " [0.7524915]\n",
      " [0.7128423]] [0.7708848] [-7.5293384]\n",
      "\u001b[1m2/2\u001b[0m \u001b[32m━━━━━━━━━━━━━━━━━━━━\u001b[0m\u001b[37m\u001b[0m \u001b[1m0s\u001b[0m 171ms/step\n",
      "[[0.8089601 ]\n",
      " [0.7946649 ]\n",
      " [0.77323914]] [0.8089601] [-4.4156623]\n",
      "\u001b[1m2/2\u001b[0m \u001b[32m━━━━━━━━━━━━━━━━━━━━\u001b[0m\u001b[37m\u001b[0m \u001b[1m0s\u001b[0m 171ms/step\n",
      "[[0.73994017]\n",
      " [0.7239341 ]\n",
      " [0.6958511 ]] [0.73994017] [-5.9584656]\n",
      "\u001b[1m2/2\u001b[0m \u001b[32m━━━━━━━━━━━━━━━━━━━━\u001b[0m\u001b[37m\u001b[0m \u001b[1m0s\u001b[0m 179ms/step\n",
      "[[0.792625  ]\n",
      " [0.7753914 ]\n",
      " [0.74532264]] [0.792625] [-5.9678116]\n",
      "\u001b[1m2/2\u001b[0m \u001b[32m━━━━━━━━━━━━━━━━━━━━\u001b[0m\u001b[37m\u001b[0m \u001b[1m0s\u001b[0m 174ms/step\n",
      "[[0.7682721]\n",
      " [0.7482793]\n",
      " [0.7189948]] [0.7682721] [-6.414043]\n",
      "Current iteration: 19, the best portfolio found was portfolio: 3\n"
     ]
    },
    {
     "name": "stderr",
     "output_type": "stream",
     "text": [
      "  0%|          | 124/100000 [00:01<15:29, 107.45it/s]\n"
     ]
    },
    {
     "name": "stdout",
     "output_type": "stream",
     "text": [
      "All assets have been tested\n",
      "Length of close to best is: 6\n",
      "Sharpe ratios (first is best_sharpe): [np.float64(3.9614891055639903), np.float64(5.390757706182086), np.float64(3.3044010747211074), np.float64(3.4213936717174733), np.float64(3.9849190234934264), np.float64(4.608680107699225)]\n",
      "\u001b[1m2/2\u001b[0m \u001b[32m━━━━━━━━━━━━━━━━━━━━\u001b[0m\u001b[37m\u001b[0m \u001b[1m0s\u001b[0m 172ms/step\n",
      "[[0.55540407]\n",
      " [0.557267  ]\n",
      " [0.5667589 ]] [0.55540407] [2.0444221]\n",
      "\u001b[1m2/2\u001b[0m \u001b[32m━━━━━━━━━━━━━━━━━━━━\u001b[0m\u001b[37m\u001b[0m \u001b[1m0s\u001b[0m 172ms/step\n",
      "[[0.8124588]\n",
      " [0.8289815]\n",
      " [0.860704 ]] [0.8124588] [5.938171]\n",
      "\u001b[1m2/2\u001b[0m \u001b[32m━━━━━━━━━━━━━━━━━━━━\u001b[0m\u001b[37m\u001b[0m \u001b[1m0s\u001b[0m 176ms/step\n",
      "[[0.8439014 ]\n",
      " [0.87008274]\n",
      " [0.92200774]] [0.8439014] [9.255387]\n",
      "\u001b[1m2/2\u001b[0m \u001b[32m━━━━━━━━━━━━━━━━━━━━\u001b[0m\u001b[37m\u001b[0m \u001b[1m0s\u001b[0m 168ms/step\n",
      "[[0.7392923]\n",
      " [0.7632766]\n",
      " [0.8102453]] [0.7392923] [9.597415]\n",
      "\u001b[1m2/2\u001b[0m \u001b[32m━━━━━━━━━━━━━━━━━━━━\u001b[0m\u001b[37m\u001b[0m \u001b[1m0s\u001b[0m 181ms/step\n",
      "[[0.7431825]\n",
      " [0.7553067]\n",
      " [0.7802672]] [0.7431825] [4.989986]\n",
      "\u001b[1m2/2\u001b[0m \u001b[32m━━━━━━━━━━━━━━━━━━━━\u001b[0m\u001b[37m\u001b[0m \u001b[1m0s\u001b[0m 172ms/step\n",
      "[[0.6857862 ]\n",
      " [0.69998467]\n",
      " [0.72795326]] [0.6857862] [6.1487193]\n",
      "Current iteration: 20, the best portfolio found was portfolio: 3\n"
     ]
    },
    {
     "name": "stderr",
     "output_type": "stream",
     "text": [
      "  0%|          | 200/100000 [00:01<14:55, 111.41it/s]\n"
     ]
    },
    {
     "name": "stdout",
     "output_type": "stream",
     "text": [
      "All assets have been tested\n",
      "Length of close to best is: 7\n",
      "Sharpe ratios (first is best_sharpe): [np.float64(3.4213936717174733), np.float64(5.653954912155032), np.float64(3.1790654810410226), np.float64(3.741574306330216), np.float64(4.142507113083766), np.float64(4.1425071130901), np.float64(4.164457294989264)]\n",
      "\u001b[1m2/2\u001b[0m \u001b[32m━━━━━━━━━━━━━━━━━━━━\u001b[0m\u001b[37m\u001b[0m \u001b[1m0s\u001b[0m 174ms/step\n",
      "[[0.775606  ]\n",
      " [0.74861395]\n",
      " [0.72313863]] [0.775606] [-6.7646904]\n",
      "\u001b[1m2/2\u001b[0m \u001b[32m━━━━━━━━━━━━━━━━━━━━\u001b[0m\u001b[37m\u001b[0m \u001b[1m0s\u001b[0m 167ms/step\n",
      "[[0.83507955]\n",
      " [0.835486  ]\n",
      " [0.83396673]] [0.83507955] [-0.13325901]\n",
      "\u001b[1m2/2\u001b[0m \u001b[32m━━━━━━━━━━━━━━━━━━━━\u001b[0m\u001b[37m\u001b[0m \u001b[1m0s\u001b[0m 179ms/step\n",
      "[[0.7144754]\n",
      " [0.719532 ]\n",
      " [0.7336488]] [0.7144754] [2.683561]\n",
      "\u001b[1m2/2\u001b[0m \u001b[32m━━━━━━━━━━━━━━━━━━━━\u001b[0m\u001b[37m\u001b[0m \u001b[1m0s\u001b[0m 173ms/step\n",
      "[[0.73808134]\n",
      " [0.737984  ]\n",
      " [0.7486281 ]] [0.73808134] [1.4289407]\n",
      "\u001b[1m2/2\u001b[0m \u001b[32m━━━━━━━━━━━━━━━━━━━━\u001b[0m\u001b[37m\u001b[0m \u001b[1m0s\u001b[0m 173ms/step\n",
      "[[0.7600712 ]\n",
      " [0.7658318 ]\n",
      " [0.77456033]] [0.7600712] [1.9062837]\n",
      "\u001b[1m2/2\u001b[0m \u001b[32m━━━━━━━━━━━━━━━━━━━━\u001b[0m\u001b[37m\u001b[0m \u001b[1m0s\u001b[0m 166ms/step\n",
      "[[0.76694894]\n",
      " [0.7724398 ]\n",
      " [0.780698  ]] [0.76694894] [1.7926959]\n",
      "\u001b[1m2/2\u001b[0m \u001b[32m━━━━━━━━━━━━━━━━━━━━\u001b[0m\u001b[37m\u001b[0m \u001b[1m0s\u001b[0m 167ms/step\n",
      "[[0.72469765]\n",
      " [0.7286871 ]\n",
      " [0.7306576 ]] [0.72469765] [0.822402]\n",
      "Current iteration: 21, the best portfolio found was portfolio: 2\n"
     ]
    },
    {
     "name": "stderr",
     "output_type": "stream",
     "text": [
      "  0%|          | 111/100000 [00:00<14:52, 111.89it/s]\n"
     ]
    },
    {
     "name": "stdout",
     "output_type": "stream",
     "text": [
      "All assets have been tested\n",
      "Length of close to best is: 7\n",
      "Sharpe ratios (first is best_sharpe): [np.float64(3.1790654810410226), np.float64(5.08451933692957), np.float64(2.7425951859774655), np.float64(3.072871494733066), np.float64(3.5793993575345926), np.float64(4.072708913442352), np.float64(4.141218638085088)]\n",
      "\u001b[1m2/2\u001b[0m \u001b[32m━━━━━━━━━━━━━━━━━━━━\u001b[0m\u001b[37m\u001b[0m \u001b[1m0s\u001b[0m 178ms/step\n",
      "[[0.8438581 ]\n",
      " [0.85276425]\n",
      " [0.85372275]] [0.8438581] [1.1689913]\n",
      "\u001b[1m2/2\u001b[0m \u001b[32m━━━━━━━━━━━━━━━━━━━━\u001b[0m\u001b[37m\u001b[0m \u001b[1m0s\u001b[0m 175ms/step\n",
      "[[0.8215982 ]\n",
      " [0.8364613 ]\n",
      " [0.85127115]] [0.8215982] [3.611617]\n",
      "\u001b[1m2/2\u001b[0m \u001b[32m━━━━━━━━━━━━━━━━━━━━\u001b[0m\u001b[37m\u001b[0m \u001b[1m0s\u001b[0m 174ms/step\n",
      "[[0.7876883 ]\n",
      " [0.79508644]\n",
      " [0.80655056]] [0.7876883] [2.3946333]\n",
      "\u001b[1m2/2\u001b[0m \u001b[32m━━━━━━━━━━━━━━━━━━━━\u001b[0m\u001b[37m\u001b[0m \u001b[1m0s\u001b[0m 174ms/step\n",
      "[[0.7947197]\n",
      " [0.8022865]\n",
      " [0.8120806]] [0.7947197] [2.1845345]\n",
      "\u001b[1m2/2\u001b[0m \u001b[32m━━━━━━━━━━━━━━━━━━━━\u001b[0m\u001b[37m\u001b[0m \u001b[1m0s\u001b[0m 165ms/step\n",
      "[[0.7287644 ]\n",
      " [0.73902667]\n",
      " [0.74590325]] [0.7287644] [2.3517666]\n",
      "\u001b[1m2/2\u001b[0m \u001b[32m━━━━━━━━━━━━━━━━━━━━\u001b[0m\u001b[37m\u001b[0m \u001b[1m0s\u001b[0m 164ms/step\n",
      "[[0.8487843 ]\n",
      " [0.85818946]\n",
      " [0.8709216 ]] [0.8487843] [2.6081166]\n",
      "\u001b[1m2/2\u001b[0m \u001b[32m━━━━━━━━━━━━━━━━━━━━\u001b[0m\u001b[37m\u001b[0m \u001b[1m0s\u001b[0m 168ms/step\n",
      "[[0.8101765]\n",
      " [0.8205284]\n",
      " [0.8321858]] [0.8101765] [2.7166073]\n",
      "Current iteration: 22, the best portfolio found was portfolio: 1\n"
     ]
    },
    {
     "name": "stderr",
     "output_type": "stream",
     "text": [
      "  0%|          | 213/100000 [00:01<14:43, 112.88it/s]\n"
     ]
    },
    {
     "name": "stdout",
     "output_type": "stream",
     "text": [
      "All assets have been tested\n",
      "Length of close to best is: 7\n",
      "Sharpe ratios (first is best_sharpe): [np.float64(5.08451933692957), np.float64(5.732895834765224), np.float64(4.735689981695369), np.float64(4.780176666856891), np.float64(4.979914167107828), np.float64(5.015630581261284), np.float64(5.02159595941124)]\n",
      "\u001b[1m2/2\u001b[0m \u001b[32m━━━━━━━━━━━━━━━━━━━━\u001b[0m\u001b[37m\u001b[0m \u001b[1m0s\u001b[0m 169ms/step\n",
      "[[0.9007628 ]\n",
      " [0.884918  ]\n",
      " [0.87506133]] [0.9007628] [-2.8532999]\n",
      "\u001b[1m2/2\u001b[0m \u001b[32m━━━━━━━━━━━━━━━━━━━━\u001b[0m\u001b[37m\u001b[0m \u001b[1m0s\u001b[0m 175ms/step\n",
      "[[0.88331866]\n",
      " [0.8876033 ]\n",
      " [0.88873696]] [0.88331866] [0.6134027]\n",
      "\u001b[1m2/2\u001b[0m \u001b[32m━━━━━━━━━━━━━━━━━━━━\u001b[0m\u001b[37m\u001b[0m \u001b[1m0s\u001b[0m 175ms/step\n",
      "[[0.8620539 ]\n",
      " [0.8627844 ]\n",
      " [0.85529613]] [0.8620539] [-0.78391117]\n",
      "\u001b[1m2/2\u001b[0m \u001b[32m━━━━━━━━━━━━━━━━━━━━\u001b[0m\u001b[37m\u001b[0m \u001b[1m0s\u001b[0m 165ms/step\n",
      "[[0.8443871 ]\n",
      " [0.8453182 ]\n",
      " [0.83915436]] [0.8443871] [-0.61971]\n",
      "\u001b[1m2/2\u001b[0m \u001b[32m━━━━━━━━━━━━━━━━━━━━\u001b[0m\u001b[37m\u001b[0m \u001b[1m0s\u001b[0m 167ms/step\n",
      "[[0.917332 ]\n",
      " [0.9147329]\n",
      " [0.9082996]] [0.917332] [-0.98463464]\n",
      "\u001b[1m2/2\u001b[0m \u001b[32m━━━━━━━━━━━━━━━━━━━━\u001b[0m\u001b[37m\u001b[0m \u001b[1m0s\u001b[0m 169ms/step\n",
      "[[0.8745158 ]\n",
      " [0.87239426]\n",
      " [0.86726964]] [0.8745158] [-0.8285885]\n",
      "\u001b[1m2/2\u001b[0m \u001b[32m━━━━━━━━━━━━━━━━━━━━\u001b[0m\u001b[37m\u001b[0m \u001b[1m0s\u001b[0m 164ms/step\n",
      "[[0.79705447]\n",
      " [0.7946128 ]\n",
      " [0.78995574]] [0.79705447] [-0.890621]\n",
      "Current iteration: 23, the best portfolio found was portfolio: 1\n"
     ]
    },
    {
     "name": "stderr",
     "output_type": "stream",
     "text": [
      "  0%|          | 168/100000 [00:01<14:40, 113.37it/s]\n"
     ]
    },
    {
     "name": "stdout",
     "output_type": "stream",
     "text": [
      "All assets have been tested\n",
      "Length of close to best is: 7\n",
      "Sharpe ratios (first is best_sharpe): [np.float64(5.732895834765224), np.float64(5.5421847424504005), np.float64(3.3411012012838603), np.float64(3.788513405920193), np.float64(4.09485713021663), np.float64(4.101679881940546), np.float64(4.101679881954121)]\n",
      "\u001b[1m1/1\u001b[0m \u001b[32m━━━━━━━━━━━━━━━━━━━━\u001b[0m\u001b[37m\u001b[0m \u001b[1m0s\u001b[0m 177ms/step\n",
      "[[0.917717  ]\n",
      " [0.93288153]\n",
      " [0.94172406]] [0.917717] [2.615957]\n",
      "\u001b[1m1/1\u001b[0m \u001b[32m━━━━━━━━━━━━━━━━━━━━\u001b[0m\u001b[37m\u001b[0m \u001b[1m0s\u001b[0m 178ms/step\n",
      "[[0.83477235]\n",
      " [0.83599323]\n",
      " [0.8374977 ]] [0.83477235] [0.32647976]\n",
      "\u001b[1m1/1\u001b[0m \u001b[32m━━━━━━━━━━━━━━━━━━━━\u001b[0m\u001b[37m\u001b[0m \u001b[1m0s\u001b[0m 174ms/step\n",
      "[[0.9304139 ]\n",
      " [0.9243524 ]\n",
      " [0.92233294]] [0.9304139] [-0.86853385]\n",
      "\u001b[1m1/1\u001b[0m \u001b[32m━━━━━━━━━━━━━━━━━━━━\u001b[0m\u001b[37m\u001b[0m \u001b[1m0s\u001b[0m 192ms/step\n",
      "[[0.9226208 ]\n",
      " [0.9148383 ]\n",
      " [0.91201437]] [0.9226208] [-1.1495956]\n",
      "\u001b[1m1/1\u001b[0m \u001b[32m━━━━━━━━━━━━━━━━━━━━\u001b[0m\u001b[37m\u001b[0m \u001b[1m0s\u001b[0m 174ms/step\n",
      "[[0.8768808 ]\n",
      " [0.8668417 ]\n",
      " [0.86276954]] [0.8768808] [-1.6092588]\n",
      "\u001b[1m1/1\u001b[0m \u001b[32m━━━━━━━━━━━━━━━━━━━━\u001b[0m\u001b[37m\u001b[0m \u001b[1m0s\u001b[0m 170ms/step\n",
      "[[0.8287583]\n",
      " [0.8202203]\n",
      " [0.815043 ]] [0.8287583] [-1.6549249]\n",
      "\u001b[1m1/1\u001b[0m \u001b[32m━━━━━━━━━━━━━━━━━━━━\u001b[0m\u001b[37m\u001b[0m \u001b[1m0s\u001b[0m 169ms/step\n",
      "[[0.8884369 ]\n",
      " [0.8798937 ]\n",
      " [0.87495273]] [0.8884369] [-1.5177419]\n",
      "Current iteration: 24, the best portfolio found was portfolio: 0\n"
     ]
    },
    {
     "name": "stderr",
     "output_type": "stream",
     "text": [
      "  0%|          | 185/100000 [00:01<15:03, 110.53it/s]\n"
     ]
    },
    {
     "name": "stdout",
     "output_type": "stream",
     "text": [
      "All assets have been tested\n",
      "Length of close to best is: 7\n",
      "Sharpe ratios (first is best_sharpe): [np.float64(5.732895834765224), np.float64(5.697666764568501), np.float64(3.4134225850598146), np.float64(3.8232367600697286), np.float64(4.29433218437185), np.float64(4.647999914836109), np.float64(4.676281428361001)]\n",
      "\u001b[1m1/1\u001b[0m \u001b[32m━━━━━━━━━━━━━━━━━━━━\u001b[0m\u001b[37m\u001b[0m \u001b[1m0s\u001b[0m 169ms/step\n",
      "[[0.8283592]\n",
      " [0.8317832]\n",
      " [0.8056718]] [0.8283592] [-2.738833]\n",
      "\u001b[1m1/1\u001b[0m \u001b[32m━━━━━━━━━━━━━━━━━━━━\u001b[0m\u001b[37m\u001b[0m \u001b[1m0s\u001b[0m 165ms/step\n",
      "[[0.81008136]\n",
      " [0.7928177 ]\n",
      " [0.76795053]] [0.81008136] [-5.2008142]\n",
      "\u001b[1m1/1\u001b[0m \u001b[32m━━━━━━━━━━━━━━━━━━━━\u001b[0m\u001b[37m\u001b[0m \u001b[1m0s\u001b[0m 171ms/step\n",
      "[[0.8142634]\n",
      " [0.8263938]\n",
      " [0.8215976]] [0.8142634] [0.9007125]\n",
      "\u001b[1m1/1\u001b[0m \u001b[32m━━━━━━━━━━━━━━━━━━━━\u001b[0m\u001b[37m\u001b[0m \u001b[1m0s\u001b[0m 178ms/step\n",
      "[[0.8450902 ]\n",
      " [0.85230577]\n",
      " [0.8456742 ]] [0.8450902] [0.0691058]\n",
      "\u001b[1m1/1\u001b[0m \u001b[32m━━━━━━━━━━━━━━━━━━━━\u001b[0m\u001b[37m\u001b[0m \u001b[1m0s\u001b[0m 169ms/step\n",
      "[[0.8058354 ]\n",
      " [0.81280404]\n",
      " [0.80968857]] [0.8058354] [0.478155]\n",
      "\u001b[1m1/1\u001b[0m \u001b[32m━━━━━━━━━━━━━━━━━━━━\u001b[0m\u001b[37m\u001b[0m \u001b[1m0s\u001b[0m 178ms/step\n",
      "[[0.8986503]\n",
      " [0.9120921]\n",
      " [0.9134229]] [0.8986503] [1.6438646]\n",
      "\u001b[1m1/1\u001b[0m \u001b[32m━━━━━━━━━━━━━━━━━━━━\u001b[0m\u001b[37m\u001b[0m \u001b[1m0s\u001b[0m 168ms/step\n",
      "[[0.8657844]\n",
      " [0.8778844]\n",
      " [0.8793007]] [0.8657844] [1.5611631]\n",
      "Current iteration: 25, the best portfolio found was portfolio: 5\n"
     ]
    },
    {
     "name": "stderr",
     "output_type": "stream",
     "text": [
      "  0%|          | 119/100000 [00:01<14:34, 114.16it/s]\n"
     ]
    },
    {
     "name": "stdout",
     "output_type": "stream",
     "text": [
      "All assets have been tested\n",
      "Length of close to best is: 7\n",
      "Sharpe ratios (first is best_sharpe): [np.float64(4.647999914836109), np.float64(5.604379772725327), np.float64(3.8353340536401674), np.float64(4.2544871083836915), np.float64(4.619303931581751), np.float64(4.85789049958678), np.float64(4.8807504783612865)]\n",
      "\u001b[1m1/1\u001b[0m \u001b[32m━━━━━━━━━━━━━━━━━━━━\u001b[0m\u001b[37m\u001b[0m \u001b[1m0s\u001b[0m 171ms/step\n",
      "[[0.885735 ]\n",
      " [0.9026217]\n",
      " [0.9045942]] [0.885735] [2.1292155]\n",
      "\u001b[1m1/1\u001b[0m \u001b[32m━━━━━━━━━━━━━━━━━━━━\u001b[0m\u001b[37m\u001b[0m \u001b[1m0s\u001b[0m 167ms/step\n",
      "[[0.91408193]\n",
      " [0.92792666]\n",
      " [0.9281594 ]] [0.91408193] [1.5400681]\n",
      "\u001b[1m1/1\u001b[0m \u001b[32m━━━━━━━━━━━━━━━━━━━━\u001b[0m\u001b[37m\u001b[0m \u001b[1m0s\u001b[0m 166ms/step\n",
      "[[0.89838654]\n",
      " [0.9160618 ]\n",
      " [0.91113544]] [0.89838654] [1.4190881]\n",
      "\u001b[1m1/1\u001b[0m \u001b[32m━━━━━━━━━━━━━━━━━━━━\u001b[0m\u001b[37m\u001b[0m \u001b[1m0s\u001b[0m 167ms/step\n",
      "[[0.8859471 ]\n",
      " [0.9015642 ]\n",
      " [0.90004545]] [0.8859471] [1.5913304]\n",
      "\u001b[1m1/1\u001b[0m \u001b[32m━━━━━━━━━━━━━━━━━━━━\u001b[0m\u001b[37m\u001b[0m \u001b[1m0s\u001b[0m 171ms/step\n",
      "[[0.90523386]\n",
      " [0.91491246]\n",
      " [0.91161144]] [0.90523386] [0.70452267]\n",
      "\u001b[1m1/1\u001b[0m \u001b[32m━━━━━━━━━━━━━━━━━━━━\u001b[0m\u001b[37m\u001b[0m \u001b[1m0s\u001b[0m 167ms/step\n",
      "[[0.91245395]\n",
      " [0.9268254 ]\n",
      " [0.92491937]] [0.91245395] [1.366142]\n",
      "\u001b[1m1/1\u001b[0m \u001b[32m━━━━━━━━━━━━━━━━━━━━\u001b[0m\u001b[37m\u001b[0m \u001b[1m0s\u001b[0m 165ms/step\n",
      "[[0.9045857 ]\n",
      " [0.916515  ]\n",
      " [0.91491705]] [0.9045857] [1.1421065]\n",
      "Current iteration: 26, the best portfolio found was portfolio: 0\n"
     ]
    },
    {
     "name": "stderr",
     "output_type": "stream",
     "text": [
      "  0%|          | 176/100000 [00:01<14:56, 111.31it/s]\n"
     ]
    },
    {
     "name": "stdout",
     "output_type": "stream",
     "text": [
      "All assets have been tested\n",
      "Length of close to best is: 7\n",
      "Sharpe ratios (first is best_sharpe): [np.float64(4.647999914836109), np.float64(5.574922326069917), np.float64(3.26690147206211), np.float64(3.6833292654035636), np.float64(4.141866557042874), np.float64(4.391353239343751), np.float64(4.450262049931059)]\n",
      "\u001b[1m1/1\u001b[0m \u001b[32m━━━━━━━━━━━━━━━━━━━━\u001b[0m\u001b[37m\u001b[0m \u001b[1m0s\u001b[0m 162ms/step\n",
      "[[0.93006593]\n",
      " [0.92319334]\n",
      " [0.909086  ]] [0.93006593] [-2.2557476]\n",
      "\u001b[1m1/1\u001b[0m \u001b[32m━━━━━━━━━━━━━━━━━━━━\u001b[0m\u001b[37m\u001b[0m \u001b[1m0s\u001b[0m 166ms/step\n",
      "[[0.91812676]\n",
      " [0.9247349 ]\n",
      " [0.92884547]] [0.91812676] [1.1674535]\n",
      "\u001b[1m1/1\u001b[0m \u001b[32m━━━━━━━━━━━━━━━━━━━━\u001b[0m\u001b[37m\u001b[0m \u001b[1m0s\u001b[0m 169ms/step\n",
      "[[0.90107006]\n",
      " [0.90691423]\n",
      " [0.9117107 ]] [0.90107006] [1.1808872]\n",
      "\u001b[1m1/1\u001b[0m \u001b[32m━━━━━━━━━━━━━━━━━━━━\u001b[0m\u001b[37m\u001b[0m \u001b[1m0s\u001b[0m 169ms/step\n",
      "[[0.9012466 ]\n",
      " [0.90822756]\n",
      " [0.91179985]] [0.9012466] [1.1709603]\n",
      "\u001b[1m1/1\u001b[0m \u001b[32m━━━━━━━━━━━━━━━━━━━━\u001b[0m\u001b[37m\u001b[0m \u001b[1m0s\u001b[0m 175ms/step\n",
      "[[0.8653283]\n",
      " [0.8641918]\n",
      " [0.8628656]] [0.8653283] [-0.28459546]\n",
      "\u001b[1m1/1\u001b[0m \u001b[32m━━━━━━━━━━━━━━━━━━━━\u001b[0m\u001b[37m\u001b[0m \u001b[1m0s\u001b[0m 165ms/step\n",
      "[[0.90312713]\n",
      " [0.8962202 ]\n",
      " [0.8890639 ]] [0.90312713] [-1.5571716]\n",
      "\u001b[1m1/1\u001b[0m \u001b[32m━━━━━━━━━━━━━━━━━━━━\u001b[0m\u001b[37m\u001b[0m \u001b[1m0s\u001b[0m 172ms/step\n",
      "[[0.9387608 ]\n",
      " [0.92933774]\n",
      " [0.918622  ]] [0.9387608] [-2.1452537]\n",
      "Current iteration: 27, the best portfolio found was portfolio: 2\n"
     ]
    },
    {
     "name": "stderr",
     "output_type": "stream",
     "text": [
      "  0%|          | 162/100000 [00:01<15:09, 109.79it/s]\n"
     ]
    },
    {
     "name": "stdout",
     "output_type": "stream",
     "text": [
      "All assets have been tested\n",
      "Length of close to best is: 7\n",
      "Sharpe ratios (first is best_sharpe): [np.float64(3.26690147206211), np.float64(5.649455297994833), np.float64(3.118022204756583), np.float64(3.5605036607891356), np.float64(3.993446506184285), np.float64(4.387416390622274), np.float64(4.387416390686919)]\n",
      "\u001b[1m1/1\u001b[0m \u001b[32m━━━━━━━━━━━━━━━━━━━━\u001b[0m\u001b[37m\u001b[0m \u001b[1m0s\u001b[0m 160ms/step\n",
      "[[0.964895  ]\n",
      " [0.94357175]\n",
      " [0.88116914]] [0.964895] [-8.6772]\n",
      "\u001b[1m1/1\u001b[0m \u001b[32m━━━━━━━━━━━━━━━━━━━━\u001b[0m\u001b[37m\u001b[0m \u001b[1m0s\u001b[0m 165ms/step\n",
      "[[0.8998918 ]\n",
      " [0.91350645]\n",
      " [0.8932305 ]] [0.8998918] [-0.74023294]\n",
      "\u001b[1m1/1\u001b[0m \u001b[32m━━━━━━━━━━━━━━━━━━━━\u001b[0m\u001b[37m\u001b[0m \u001b[1m0s\u001b[0m 167ms/step\n",
      "[[0.8367028]\n",
      " [0.8793035]\n",
      " [0.8502177]] [0.8367028] [1.615254]\n",
      "\u001b[1m1/1\u001b[0m \u001b[32m━━━━━━━━━━━━━━━━━━━━\u001b[0m\u001b[37m\u001b[0m \u001b[1m0s\u001b[0m 169ms/step\n",
      "[[0.81288177]\n",
      " [0.8517928 ]\n",
      " [0.82697576]] [0.81288177] [1.7338309]\n",
      "\u001b[1m1/1\u001b[0m \u001b[32m━━━━━━━━━━━━━━━━━━━━\u001b[0m\u001b[37m\u001b[0m \u001b[1m0s\u001b[0m 165ms/step\n",
      "[[0.79421437]\n",
      " [0.82686645]\n",
      " [0.8054562 ]] [0.79421437] [1.4154683]\n",
      "\u001b[1m1/1\u001b[0m \u001b[32m━━━━━━━━━━━━━━━━━━━━\u001b[0m\u001b[37m\u001b[0m \u001b[1m0s\u001b[0m 163ms/step\n",
      "[[0.79965   ]\n",
      " [0.82718265]\n",
      " [0.81357867]] [0.79965] [1.7418435]\n",
      "\u001b[1m1/1\u001b[0m \u001b[32m━━━━━━━━━━━━━━━━━━━━\u001b[0m\u001b[37m\u001b[0m \u001b[1m0s\u001b[0m 167ms/step\n",
      "[[0.7914234 ]\n",
      " [0.8162531 ]\n",
      " [0.80302584]] [0.7914234] [1.4660245]\n",
      "Current iteration: 28, the best portfolio found was portfolio: 5\n"
     ]
    },
    {
     "name": "stderr",
     "output_type": "stream",
     "text": [
      "  0%|          | 145/100000 [00:01<13:36, 122.34it/s]\n"
     ]
    },
    {
     "name": "stdout",
     "output_type": "stream",
     "text": [
      "All assets have been tested\n",
      "Length of close to best is: 7\n",
      "Sharpe ratios (first is best_sharpe): [np.float64(4.387416390622274), np.float64(5.275305903289882), np.float64(3.4087215879177073), np.float64(3.6419755458252987), np.float64(3.8818510888615547), np.float64(4.0507205652150615), np.float64(4.2493429877411)]\n",
      "\u001b[1m1/1\u001b[0m \u001b[32m━━━━━━━━━━━━━━━━━━━━\u001b[0m\u001b[37m\u001b[0m \u001b[1m0s\u001b[0m 161ms/step\n",
      "[[0.80361825]\n",
      " [0.81500965]\n",
      " [0.8182877 ]] [0.80361825] [1.8254213]\n",
      "\u001b[1m1/1\u001b[0m \u001b[32m━━━━━━━━━━━━━━━━━━━━\u001b[0m\u001b[37m\u001b[0m \u001b[1m0s\u001b[0m 159ms/step\n",
      "[[0.88169116]\n",
      " [0.8973893 ]\n",
      " [0.91579986]] [0.88169116] [3.868554]\n",
      "\u001b[1m1/1\u001b[0m \u001b[32m━━━━━━━━━━━━━━━━━━━━\u001b[0m\u001b[37m\u001b[0m \u001b[1m0s\u001b[0m 160ms/step\n",
      "[[0.7795538]\n",
      " [0.8018454]\n",
      " [0.8289192]] [0.7795538] [6.3325205]\n",
      "\u001b[1m1/1\u001b[0m \u001b[32m━━━━━━━━━━━━━━━━━━━━\u001b[0m\u001b[37m\u001b[0m \u001b[1m0s\u001b[0m 162ms/step\n",
      "[[0.8122182]\n",
      " [0.8363522]\n",
      " [0.8636261]] [0.8122182] [6.3293257]\n",
      "\u001b[1m1/1\u001b[0m \u001b[32m━━━━━━━━━━━━━━━━━━━━\u001b[0m\u001b[37m\u001b[0m \u001b[1m0s\u001b[0m 163ms/step\n",
      "[[0.7870798 ]\n",
      " [0.806785  ]\n",
      " [0.83172953]] [0.7870798] [5.6728325]\n",
      "\u001b[1m1/1\u001b[0m \u001b[32m━━━━━━━━━━━━━━━━━━━━\u001b[0m\u001b[37m\u001b[0m \u001b[1m0s\u001b[0m 160ms/step\n",
      "[[0.77660865]\n",
      " [0.79649514]\n",
      " [0.8200278 ]] [0.77660865] [5.5908704]\n",
      "\u001b[1m1/1\u001b[0m \u001b[32m━━━━━━━━━━━━━━━━━━━━\u001b[0m\u001b[37m\u001b[0m \u001b[1m0s\u001b[0m 167ms/step\n",
      "[[0.79172  ]\n",
      " [0.8116441]\n",
      " [0.8390699]] [0.79172] [5.980641]\n",
      "Current iteration: 29, the best portfolio found was portfolio: 2\n"
     ]
    },
    {
     "name": "stderr",
     "output_type": "stream",
     "text": [
      "  0%|          | 183/100000 [00:01<14:00, 118.74it/s]\n"
     ]
    },
    {
     "name": "stdout",
     "output_type": "stream",
     "text": [
      "All assets have been tested\n",
      "Length of close to best is: 6\n",
      "Sharpe ratios (first is best_sharpe): [np.float64(3.4087215879177073), np.float64(5.40059980414527), np.float64(2.8981281179156975), np.float64(3.403690291711826), np.float64(3.821263084924409), np.float64(4.064668402242122)]\n",
      "\u001b[1m1/1\u001b[0m \u001b[32m━━━━━━━━━━━━━━━━━━━━\u001b[0m\u001b[37m\u001b[0m \u001b[1m0s\u001b[0m 161ms/step\n",
      "[[0.8402487]\n",
      " [0.8504616]\n",
      " [0.8688684]] [0.8402487] [3.4060996]\n",
      "\u001b[1m1/1\u001b[0m \u001b[32m━━━━━━━━━━━━━━━━━━━━\u001b[0m\u001b[37m\u001b[0m \u001b[1m0s\u001b[0m 166ms/step\n",
      "[[0.9389515]\n",
      " [0.9461336]\n",
      " [0.9417781]] [0.9389515] [0.30104122]\n",
      "\u001b[1m1/1\u001b[0m \u001b[32m━━━━━━━━━━━━━━━━━━━━\u001b[0m\u001b[37m\u001b[0m \u001b[1m0s\u001b[0m 162ms/step\n",
      "[[0.85730046]\n",
      " [0.85967857]\n",
      " [0.8588252 ]] [0.85730046] [0.17785437]\n",
      "\u001b[1m1/1\u001b[0m \u001b[32m━━━━━━━━━━━━━━━━━━━━\u001b[0m\u001b[37m\u001b[0m \u001b[1m0s\u001b[0m 176ms/step\n",
      "[[0.80467004]\n",
      " [0.8124683 ]\n",
      " [0.80982417]] [0.80467004] [0.6405275]\n",
      "\u001b[1m1/1\u001b[0m \u001b[32m━━━━━━━━━━━━━━━━━━━━\u001b[0m\u001b[37m\u001b[0m \u001b[1m0s\u001b[0m 162ms/step\n",
      "[[0.81830204]\n",
      " [0.8315044 ]\n",
      " [0.82761145]] [0.81830204] [1.1376498]\n",
      "\u001b[1m1/1\u001b[0m \u001b[32m━━━━━━━━━━━━━━━━━━━━\u001b[0m\u001b[37m\u001b[0m \u001b[1m0s\u001b[0m 165ms/step\n",
      "[[0.8517719]\n",
      " [0.8594565]\n",
      " [0.8596255]] [0.8517719] [0.92203414]\n",
      "Current iteration: 30, the best portfolio found was portfolio: 0\n"
     ]
    },
    {
     "name": "stderr",
     "output_type": "stream",
     "text": [
      "  0%|          | 148/100000 [00:01<13:51, 120.06it/s]\n"
     ]
    },
    {
     "name": "stdout",
     "output_type": "stream",
     "text": [
      "All assets have been tested\n",
      "Length of close to best is: 7\n",
      "Sharpe ratios (first is best_sharpe): [np.float64(3.4087215879177073), np.float64(5.341233491877548), np.float64(3.7393395606960778), np.float64(3.7393395606978173), np.float64(3.9020354192887723), np.float64(4.032797386115499), np.float64(4.2524075407779005)]\n",
      "\u001b[1m1/1\u001b[0m \u001b[32m━━━━━━━━━━━━━━━━━━━━\u001b[0m\u001b[37m\u001b[0m \u001b[1m0s\u001b[0m 166ms/step\n",
      "[[0.87488836]\n",
      " [0.88328403]\n",
      " [0.8896574 ]] [0.87488836] [1.6881032]\n",
      "\u001b[1m1/1\u001b[0m \u001b[32m━━━━━━━━━━━━━━━━━━━━\u001b[0m\u001b[37m\u001b[0m \u001b[1m0s\u001b[0m 170ms/step\n",
      "[[0.9250306 ]\n",
      " [0.93212855]\n",
      " [0.9288835 ]] [0.9250306] [0.41651636]\n",
      "\u001b[1m1/1\u001b[0m \u001b[32m━━━━━━━━━━━━━━━━━━━━\u001b[0m\u001b[37m\u001b[0m \u001b[1m0s\u001b[0m 164ms/step\n",
      "[[0.73516744]\n",
      " [0.7375275 ]\n",
      " [0.73599213]] [0.73516744] [0.11217715]\n",
      "\u001b[1m1/1\u001b[0m \u001b[32m━━━━━━━━━━━━━━━━━━━━\u001b[0m\u001b[37m\u001b[0m \u001b[1m0s\u001b[0m 161ms/step\n",
      "[[0.8219595 ]\n",
      " [0.8243848 ]\n",
      " [0.82290936]] [0.8219595] [0.11556039]\n",
      "\u001b[1m1/1\u001b[0m \u001b[32m━━━━━━━━━━━━━━━━━━━━\u001b[0m\u001b[37m\u001b[0m \u001b[1m0s\u001b[0m 168ms/step\n",
      "[[0.81623405]\n",
      " [0.8241231 ]\n",
      " [0.82079417]] [0.81623405] [0.55867714]\n",
      "\u001b[1m1/1\u001b[0m \u001b[32m━━━━━━━━━━━━━━━━━━━━\u001b[0m\u001b[37m\u001b[0m \u001b[1m0s\u001b[0m 178ms/step\n",
      "[[0.87560654]\n",
      " [0.8816946 ]\n",
      " [0.88126516]] [0.87560654] [0.64625216]\n",
      "\u001b[1m1/1\u001b[0m \u001b[32m━━━━━━━━━━━━━━━━━━━━\u001b[0m\u001b[37m\u001b[0m \u001b[1m0s\u001b[0m 167ms/step\n",
      "[[0.82634366]\n",
      " [0.8308225 ]\n",
      " [0.8236662 ]] [0.82634366] [-0.32401055]\n",
      "Current iteration: 31, the best portfolio found was portfolio: 0\n"
     ]
    },
    {
     "name": "stderr",
     "output_type": "stream",
     "text": [
      "  0%|          | 121/100000 [00:00<13:19, 124.87it/s]\n"
     ]
    },
    {
     "name": "stdout",
     "output_type": "stream",
     "text": [
      "All assets have been tested\n",
      "Length of close to best is: 7\n",
      "Sharpe ratios (first is best_sharpe): [np.float64(3.4087215879177073), np.float64(4.980394861286356), np.float64(3.0053582644162775), np.float64(3.2928540634581607), np.float64(3.6732748247897242), np.float64(3.9372798172495993), np.float64(4.1552669022096325)]\n",
      "\u001b[1m1/1\u001b[0m \u001b[32m━━━━━━━━━━━━━━━━━━━━\u001b[0m\u001b[37m\u001b[0m \u001b[1m0s\u001b[0m 167ms/step\n",
      "[[0.8527144]\n",
      " [0.8435682]\n",
      " [0.8252493]] [0.8527144] [-3.2209032]\n",
      "\u001b[1m1/1\u001b[0m \u001b[32m━━━━━━━━━━━━━━━━━━━━\u001b[0m\u001b[37m\u001b[0m \u001b[1m0s\u001b[0m 164ms/step\n",
      "[[0.86593175]\n",
      " [0.8725411 ]\n",
      " [0.8707016 ]] [0.86593175] [0.5508358]\n",
      "\u001b[1m1/1\u001b[0m \u001b[32m━━━━━━━━━━━━━━━━━━━━\u001b[0m\u001b[37m\u001b[0m \u001b[1m0s\u001b[0m 164ms/step\n",
      "[[0.9796062 ]\n",
      " [0.9832727 ]\n",
      " [0.98293024]] [0.9796062] [0.33932325]\n",
      "\u001b[1m1/1\u001b[0m \u001b[32m━━━━━━━━━━━━━━━━━━━━\u001b[0m\u001b[37m\u001b[0m \u001b[1m0s\u001b[0m 164ms/step\n",
      "[[0.92368853]\n",
      " [0.9337451 ]\n",
      " [0.9343025 ]] [0.92368853] [1.1490862]\n",
      "\u001b[1m1/1\u001b[0m \u001b[32m━━━━━━━━━━━━━━━━━━━━\u001b[0m\u001b[37m\u001b[0m \u001b[1m0s\u001b[0m 167ms/step\n",
      "[[0.9341703]\n",
      " [0.945928 ]\n",
      " [0.9507172]] [0.9341703] [1.7712944]\n",
      "\u001b[1m1/1\u001b[0m \u001b[32m━━━━━━━━━━━━━━━━━━━━\u001b[0m\u001b[37m\u001b[0m \u001b[1m0s\u001b[0m 167ms/step\n",
      "[[0.87434596]\n",
      " [0.88264126]\n",
      " [0.8872986 ]] [0.87434596] [1.4814074]\n",
      "\u001b[1m1/1\u001b[0m \u001b[32m━━━━━━━━━━━━━━━━━━━━\u001b[0m\u001b[37m\u001b[0m \u001b[1m0s\u001b[0m 167ms/step\n",
      "[[0.89981294]\n",
      " [0.9035259 ]\n",
      " [0.90514654]] [0.89981294] [0.5927457]\n",
      "Current iteration: 32, the best portfolio found was portfolio: 4\n"
     ]
    },
    {
     "name": "stderr",
     "output_type": "stream",
     "text": [
      "  0%|          | 157/100000 [00:01<12:51, 129.40it/s]\n"
     ]
    },
    {
     "name": "stdout",
     "output_type": "stream",
     "text": [
      "All assets have been tested\n",
      "Length of close to best is: 5\n",
      "Sharpe ratios (first is best_sharpe): [np.float64(3.6732748247897242), np.float64(5.234571155891264), np.float64(3.08948835418429), np.float64(3.6492413247282838), np.float64(4.037296856665756)]\n",
      "\u001b[1m1/1\u001b[0m \u001b[32m━━━━━━━━━━━━━━━━━━━━\u001b[0m\u001b[37m\u001b[0m \u001b[1m0s\u001b[0m 164ms/step\n",
      "[[0.89443976]\n",
      " [0.9119681 ]\n",
      " [0.9224134 ]] [0.89443976] [3.1275053]\n",
      "\u001b[1m1/1\u001b[0m \u001b[32m━━━━━━━━━━━━━━━━━━━━\u001b[0m\u001b[37m\u001b[0m \u001b[1m0s\u001b[0m 162ms/step\n",
      "[[0.9037451 ]\n",
      " [0.90062165]\n",
      " [0.9038256 ]] [0.9037451] [0.00890365]\n",
      "\u001b[1m1/1\u001b[0m \u001b[32m━━━━━━━━━━━━━━━━━━━━\u001b[0m\u001b[37m\u001b[0m \u001b[1m0s\u001b[0m 172ms/step\n",
      "[[0.81048405]\n",
      " [0.8190572 ]\n",
      " [0.8200968 ]] [0.81048405] [1.1860492]\n",
      "\u001b[1m1/1\u001b[0m \u001b[32m━━━━━━━━━━━━━━━━━━━━\u001b[0m\u001b[37m\u001b[0m \u001b[1m0s\u001b[0m 171ms/step\n",
      "[[0.7572408 ]\n",
      " [0.76523215]\n",
      " [0.77047855]] [0.7572408] [1.7481592]\n",
      "\u001b[1m1/1\u001b[0m \u001b[32m━━━━━━━━━━━━━━━━━━━━\u001b[0m\u001b[37m\u001b[0m \u001b[1m0s\u001b[0m 165ms/step\n",
      "[[0.9942623]\n",
      " [1.0048289]\n",
      " [1.0077176]] [0.9942623] [1.353298]\n",
      "Current iteration: 33, the best portfolio found was portfolio: 0\n"
     ]
    },
    {
     "name": "stderr",
     "output_type": "stream",
     "text": [
      "  0%|          | 143/100000 [00:01<14:10, 117.44it/s]\n"
     ]
    },
    {
     "name": "stdout",
     "output_type": "stream",
     "text": [
      "All assets have been tested\n",
      "Length of close to best is: 7\n",
      "Sharpe ratios (first is best_sharpe): [np.float64(3.6732748247897242), np.float64(5.265619596715389), np.float64(2.726231566728999), np.float64(3.1115181314834754), np.float64(3.2130629291898782), np.float64(3.5001345440105895), np.float64(3.7357335487326395)]\n",
      "\u001b[1m1/1\u001b[0m \u001b[32m━━━━━━━━━━━━━━━━━━━━\u001b[0m\u001b[37m\u001b[0m \u001b[1m0s\u001b[0m 167ms/step\n",
      "[[0.98436767]] [0.98436767] [0.]\n",
      "\u001b[1m1/1\u001b[0m \u001b[32m━━━━━━━━━━━━━━━━━━━━\u001b[0m\u001b[37m\u001b[0m \u001b[1m0s\u001b[0m 158ms/step\n",
      "[[0.86493814]] [0.86493814] [0.]\n",
      "\u001b[1m1/1\u001b[0m \u001b[32m━━━━━━━━━━━━━━━━━━━━\u001b[0m\u001b[37m\u001b[0m \u001b[1m0s\u001b[0m 162ms/step\n",
      "[[0.7251022]] [0.7251022] [0.]\n",
      "\u001b[1m1/1\u001b[0m \u001b[32m━━━━━━━━━━━━━━━━━━━━\u001b[0m\u001b[37m\u001b[0m \u001b[1m0s\u001b[0m 160ms/step\n",
      "[[0.74120593]] [0.74120593] [0.]\n",
      "\u001b[1m1/1\u001b[0m \u001b[32m━━━━━━━━━━━━━━━━━━━━\u001b[0m\u001b[37m\u001b[0m \u001b[1m0s\u001b[0m 160ms/step\n",
      "[[0.7581415]] [0.7581415] [0.]\n",
      "\u001b[1m1/1\u001b[0m \u001b[32m━━━━━━━━━━━━━━━━━━━━\u001b[0m\u001b[37m\u001b[0m \u001b[1m0s\u001b[0m 161ms/step\n",
      "[[0.6988106]] [0.6988106] [0.]\n",
      "\u001b[1m1/1\u001b[0m \u001b[32m━━━━━━━━━━━━━━━━━━━━\u001b[0m\u001b[37m\u001b[0m \u001b[1m0s\u001b[0m 242ms/step\n",
      "[[0.7383188]] [0.7383188] [0.]\n",
      "Current iteration: 34, the best portfolio found was portfolio: 0\n"
     ]
    }
   ],
   "source": [
    "all_good_portfolios = evaluate_portfolios_over_time(raw_data, window_size=3, num_windows=None, threshold=0.5, epochs=20)"
   ]
  },
  {
   "cell_type": "code",
   "execution_count": 111,
   "metadata": {},
   "outputs": [
    {
     "name": "stderr",
     "output_type": "stream",
     "text": [
      "C:\\Users\\tongc\\AppData\\Local\\Temp\\ipykernel_19388\\452481665.py:21: FutureWarning:\n",
      "\n",
      "The behavior of array concatenation with empty entries is deprecated. In a future version, this will no longer exclude empty items when determining the result dtype. To retain the old behavior, exclude the empty entries before the concat operation.\n",
      "\n"
     ]
    },
    {
     "data": {
      "text/plain": [
       "2017-08-01    100.000000\n",
       "2017-08-02    101.017752\n",
       "2017-08-03     99.949935\n",
       "2017-08-04     99.949935\n",
       "2017-08-07    100.355506\n",
       "                 ...    \n",
       "2017-12-21    125.908053\n",
       "2017-12-22    126.650108\n",
       "2017-12-26    126.650108\n",
       "2017-12-27    127.415580\n",
       "2017-12-28    127.703122\n",
       "Length: 105, dtype: float64"
      ]
     },
     "execution_count": 111,
     "metadata": {},
     "output_type": "execute_result"
    }
   ],
   "source": [
    "def extract_asset_returns(raw_data, assets, start_date, end_date):\n",
    "    if not isinstance(raw_data.index, pd.DatetimeIndex):\n",
    "        raw_data.index = pd.to_datetime(raw_data.index)\n",
    "\n",
    "    filtered_data = raw_data.loc[start_date:end_date, assets]\n",
    "\n",
    "    return filtered_data\n",
    "\n",
    "def chain_portfolio_performance(weekly_series_list, starting_value=100):\n",
    "    continuous_series = pd.Series()\n",
    "    current_value = starting_value\n",
    "\n",
    "    for week_series in weekly_series_list:\n",
    "        # Normalize the week so that it starts at 1 (or current_value)\n",
    "        week_normalized = week_series / week_series.iloc[0]\n",
    "        # Scale the normalized week to start at current_value\n",
    "        week_scaled = week_normalized * current_value\n",
    "        # Update the current_value to the last value of this week\n",
    "        current_value = week_scaled.iloc[-1]\n",
    "        # Append the week_series to the continuous_series\n",
    "        continuous_series = pd.concat([continuous_series, week_scaled])\n",
    "    \n",
    "    return continuous_series\n",
    "\n",
    "ML_portfolio = []\n",
    "\n",
    "for i in range(len(all_good_portfolios)):\n",
    "    curr_best_portfolio = all_good_portfolios[i]['portfolio']\n",
    "    best_curr_port_assets = curr_best_portfolio['tickers']\n",
    "\n",
    "    best_curr_port_assets_test_data = extract_asset_returns(raw_data, best_curr_port_assets, all_good_portfolios[i]['start_date'], all_good_portfolios[i]['end_date'])\n",
    "\n",
    "    curr_best_portfolio_weights = curr_best_portfolio['weights']\n",
    "\n",
    "    weighted_returns = best_curr_port_assets_test_data.mul(curr_best_portfolio_weights, axis='columns')\n",
    "    portfolio_daily_returns = weighted_returns.sum(axis=1)\n",
    "\n",
    "    ML_portfolio.append(portfolio_daily_returns)\n",
    "\n",
    "ML_portfolio_streamed = chain_portfolio_performance(ML_portfolio, starting_value=100)\n",
    "ML_portfolio_streamed"
   ]
  },
  {
   "cell_type": "code",
   "execution_count": 112,
   "metadata": {},
   "outputs": [
    {
     "name": "stderr",
     "output_type": "stream",
     "text": [
      "[*********************100%***********************]  1 of 1 completed"
     ]
    },
    {
     "name": "stdout",
     "output_type": "stream",
     "text": [
      "Omitted assets: []\n",
      "Time to fetch data: 0.10 seconds\n",
      "Max combination of assets with complete data: 1\n"
     ]
    },
    {
     "name": "stderr",
     "output_type": "stream",
     "text": [
      "\n"
     ]
    },
    {
     "data": {
      "application/vnd.plotly.v1+json": {
       "config": {
        "plotlyServerURL": "https://plot.ly"
       },
       "data": [
        {
         "mode": "lines",
         "name": "Nasdaq Composite",
         "type": "scatter",
         "x": [
          "2017-08-01T00:00:00.000000000",
          "2017-08-02T00:00:00.000000000",
          "2017-08-03T00:00:00.000000000",
          "2017-08-04T00:00:00.000000000",
          "2017-08-07T00:00:00.000000000",
          "2017-08-08T00:00:00.000000000",
          "2017-08-09T00:00:00.000000000",
          "2017-08-10T00:00:00.000000000",
          "2017-08-11T00:00:00.000000000",
          "2017-08-14T00:00:00.000000000",
          "2017-08-15T00:00:00.000000000",
          "2017-08-16T00:00:00.000000000",
          "2017-08-17T00:00:00.000000000",
          "2017-08-18T00:00:00.000000000",
          "2017-08-21T00:00:00.000000000",
          "2017-08-22T00:00:00.000000000",
          "2017-08-23T00:00:00.000000000",
          "2017-08-24T00:00:00.000000000",
          "2017-08-25T00:00:00.000000000",
          "2017-08-28T00:00:00.000000000",
          "2017-08-29T00:00:00.000000000",
          "2017-08-30T00:00:00.000000000",
          "2017-08-31T00:00:00.000000000",
          "2017-09-01T00:00:00.000000000",
          "2017-09-05T00:00:00.000000000",
          "2017-09-06T00:00:00.000000000",
          "2017-09-07T00:00:00.000000000",
          "2017-09-08T00:00:00.000000000",
          "2017-09-11T00:00:00.000000000",
          "2017-09-12T00:00:00.000000000",
          "2017-09-13T00:00:00.000000000",
          "2017-09-14T00:00:00.000000000",
          "2017-09-15T00:00:00.000000000",
          "2017-09-18T00:00:00.000000000",
          "2017-09-19T00:00:00.000000000",
          "2017-09-20T00:00:00.000000000",
          "2017-09-21T00:00:00.000000000",
          "2017-09-22T00:00:00.000000000",
          "2017-09-25T00:00:00.000000000",
          "2017-09-26T00:00:00.000000000",
          "2017-09-27T00:00:00.000000000",
          "2017-09-28T00:00:00.000000000",
          "2017-09-29T00:00:00.000000000",
          "2017-10-02T00:00:00.000000000",
          "2017-10-03T00:00:00.000000000",
          "2017-10-04T00:00:00.000000000",
          "2017-10-05T00:00:00.000000000",
          "2017-10-06T00:00:00.000000000",
          "2017-10-09T00:00:00.000000000",
          "2017-10-10T00:00:00.000000000",
          "2017-10-11T00:00:00.000000000",
          "2017-10-12T00:00:00.000000000",
          "2017-10-13T00:00:00.000000000",
          "2017-10-16T00:00:00.000000000",
          "2017-10-17T00:00:00.000000000",
          "2017-10-18T00:00:00.000000000",
          "2017-10-19T00:00:00.000000000",
          "2017-10-20T00:00:00.000000000",
          "2017-10-23T00:00:00.000000000",
          "2017-10-24T00:00:00.000000000",
          "2017-10-25T00:00:00.000000000",
          "2017-10-26T00:00:00.000000000",
          "2017-10-27T00:00:00.000000000",
          "2017-10-30T00:00:00.000000000",
          "2017-10-31T00:00:00.000000000",
          "2017-11-01T00:00:00.000000000",
          "2017-11-02T00:00:00.000000000",
          "2017-11-03T00:00:00.000000000",
          "2017-11-06T00:00:00.000000000",
          "2017-11-07T00:00:00.000000000",
          "2017-11-08T00:00:00.000000000",
          "2017-11-09T00:00:00.000000000",
          "2017-11-10T00:00:00.000000000",
          "2017-11-13T00:00:00.000000000",
          "2017-11-14T00:00:00.000000000",
          "2017-11-15T00:00:00.000000000",
          "2017-11-16T00:00:00.000000000",
          "2017-11-17T00:00:00.000000000",
          "2017-11-20T00:00:00.000000000",
          "2017-11-21T00:00:00.000000000",
          "2017-11-22T00:00:00.000000000",
          "2017-11-24T00:00:00.000000000",
          "2017-11-27T00:00:00.000000000",
          "2017-11-28T00:00:00.000000000",
          "2017-11-29T00:00:00.000000000",
          "2017-11-30T00:00:00.000000000",
          "2017-12-01T00:00:00.000000000",
          "2017-12-04T00:00:00.000000000",
          "2017-12-05T00:00:00.000000000",
          "2017-12-06T00:00:00.000000000",
          "2017-12-07T00:00:00.000000000",
          "2017-12-08T00:00:00.000000000",
          "2017-12-11T00:00:00.000000000",
          "2017-12-12T00:00:00.000000000",
          "2017-12-13T00:00:00.000000000",
          "2017-12-14T00:00:00.000000000",
          "2017-12-15T00:00:00.000000000",
          "2017-12-18T00:00:00.000000000",
          "2017-12-19T00:00:00.000000000",
          "2017-12-20T00:00:00.000000000",
          "2017-12-21T00:00:00.000000000",
          "2017-12-22T00:00:00.000000000",
          "2017-12-26T00:00:00.000000000",
          "2017-12-27T00:00:00.000000000"
         ],
         "y": {
          "bdata": "AAAAAAAAWUBcYUpRtf9YQJoubK1E6VhAF/08yI30WEDBmPOO8xRZQDdyblaQB1lAJqYoDlT1WED3IV9UFG1YQBq1OyIAlVhAVbh8YyjpWEApKH4/5eFYQPsVKuoQ7lhAnGouGCZyWECaDneyvGxYQPNKtEBRaVhAVr6VpSi+WEDQGohW+qpYQEM4B0jbo1hAz7YlLCKeWEAxFyRWna9YQIsL9ziYwlhACmLNwWYFWUCJX8FdGkJZQDEzs8/PSFlAY7bkFLQMWUCCZ28IjB5ZQLylCDUiI1lAKHVP5jv9WEBd0r47uUVZQHlm5zDfW1lACovXANFhWUDSsQp+hkJZQFYrXEcHVllANbdz+jtcWUBGzh/w82JZQLNbzXCkXVlA1oLkFhk8WUCrp39FWkBZQN0lAsixB1lA9isMDVIRWUCEmY6L2FpZQNy7PpQJW1lAXNVydsuFWUCYcr8KrZpZQE3iacTAqVlAipv2nrCsWUDL1N0it99ZQOMwzlKQ5FlAdgvpfQ3aWUCtfVfUneFZQPxYEOIC8llASSNRrublWUAKnOY8RvRZQDMaA6CUBlpAaL1KHj0GWkBQvRFUzQZaQLptQ0aK81lAPqaM56gLWkBiKw60MeFZQGrR35/c7FlAMv3B3x7KWUDln/iB9cJZQBGxeVJKVFpA3a+gJPpRWkABVV+z2m5aQAV8HzemY1pAwGtF2AxiWkDmLq+m1pNaQKSFM3T3qVpAbzqFoTKXWkD0FD2TqaxaQEmD5FFdhVpAl5yphUKGWkDYLOFz9YxaQIpW1ygdeVpAz8D980RZWkCqgetK27BaQBaeA6NLplpAOCUX8kKuWkBhoBYVc/ZaQAb+w5tb+1pAlqUN/UgRW0BjFKg/lQZbQBM7gbSeKFtAexf+SSPQWkAh0Pi2AQJbQPiscQF551pAv17KEtWeWkA5KX1zmJFaQLkxORTZn1pAmy8vMYXEWkC6NO1O699aQPzVnH4fA1tAYbX010n2WkBSClbR2ANbQA4B3vV28FpAFVR9MftAW0B0Tfzwf3tbQPrZmfpoXFtAhKFry4BZW0DA9OK67V1bQPERt01/WFtAsTp/M6ZAW0BTIujOwUNbQA==",
          "dtype": "f8"
         }
        },
        {
         "mode": "lines",
         "name": "Portfolio Growth",
         "type": "scatter",
         "x": [
          "2017-08-01T00:00:00.000000000",
          "2017-08-02T00:00:00.000000000",
          "2017-08-03T00:00:00.000000000",
          "2017-08-04T00:00:00.000000000",
          "2017-08-07T00:00:00.000000000",
          "2017-08-08T00:00:00.000000000",
          "2017-08-09T00:00:00.000000000",
          "2017-08-10T00:00:00.000000000",
          "2017-08-11T00:00:00.000000000",
          "2017-08-14T00:00:00.000000000",
          "2017-08-15T00:00:00.000000000",
          "2017-08-16T00:00:00.000000000",
          "2017-08-17T00:00:00.000000000",
          "2017-08-18T00:00:00.000000000",
          "2017-08-21T00:00:00.000000000",
          "2017-08-22T00:00:00.000000000",
          "2017-08-23T00:00:00.000000000",
          "2017-08-24T00:00:00.000000000",
          "2017-08-25T00:00:00.000000000",
          "2017-08-28T00:00:00.000000000",
          "2017-08-29T00:00:00.000000000",
          "2017-08-30T00:00:00.000000000",
          "2017-08-31T00:00:00.000000000",
          "2017-09-01T00:00:00.000000000",
          "2017-09-05T00:00:00.000000000",
          "2017-09-06T00:00:00.000000000",
          "2017-09-07T00:00:00.000000000",
          "2017-09-08T00:00:00.000000000",
          "2017-09-11T00:00:00.000000000",
          "2017-09-12T00:00:00.000000000",
          "2017-09-13T00:00:00.000000000",
          "2017-09-14T00:00:00.000000000",
          "2017-09-15T00:00:00.000000000",
          "2017-09-18T00:00:00.000000000",
          "2017-09-19T00:00:00.000000000",
          "2017-09-20T00:00:00.000000000",
          "2017-09-21T00:00:00.000000000",
          "2017-09-22T00:00:00.000000000",
          "2017-09-25T00:00:00.000000000",
          "2017-09-26T00:00:00.000000000",
          "2017-09-27T00:00:00.000000000",
          "2017-09-28T00:00:00.000000000",
          "2017-09-29T00:00:00.000000000",
          "2017-10-02T00:00:00.000000000",
          "2017-10-03T00:00:00.000000000",
          "2017-10-04T00:00:00.000000000",
          "2017-10-05T00:00:00.000000000",
          "2017-10-06T00:00:00.000000000",
          "2017-10-09T00:00:00.000000000",
          "2017-10-10T00:00:00.000000000",
          "2017-10-11T00:00:00.000000000",
          "2017-10-12T00:00:00.000000000",
          "2017-10-13T00:00:00.000000000",
          "2017-10-16T00:00:00.000000000",
          "2017-10-17T00:00:00.000000000",
          "2017-10-18T00:00:00.000000000",
          "2017-10-19T00:00:00.000000000",
          "2017-10-20T00:00:00.000000000",
          "2017-10-23T00:00:00.000000000",
          "2017-10-24T00:00:00.000000000",
          "2017-10-25T00:00:00.000000000",
          "2017-10-26T00:00:00.000000000",
          "2017-10-27T00:00:00.000000000",
          "2017-10-30T00:00:00.000000000",
          "2017-10-31T00:00:00.000000000",
          "2017-11-01T00:00:00.000000000",
          "2017-11-02T00:00:00.000000000",
          "2017-11-03T00:00:00.000000000",
          "2017-11-06T00:00:00.000000000",
          "2017-11-07T00:00:00.000000000",
          "2017-11-08T00:00:00.000000000",
          "2017-11-09T00:00:00.000000000",
          "2017-11-10T00:00:00.000000000",
          "2017-11-13T00:00:00.000000000",
          "2017-11-14T00:00:00.000000000",
          "2017-11-15T00:00:00.000000000",
          "2017-11-16T00:00:00.000000000",
          "2017-11-17T00:00:00.000000000",
          "2017-11-20T00:00:00.000000000",
          "2017-11-21T00:00:00.000000000",
          "2017-11-22T00:00:00.000000000",
          "2017-11-24T00:00:00.000000000",
          "2017-11-27T00:00:00.000000000",
          "2017-11-28T00:00:00.000000000",
          "2017-11-29T00:00:00.000000000",
          "2017-11-30T00:00:00.000000000",
          "2017-12-01T00:00:00.000000000",
          "2017-12-04T00:00:00.000000000",
          "2017-12-05T00:00:00.000000000",
          "2017-12-06T00:00:00.000000000",
          "2017-12-07T00:00:00.000000000",
          "2017-12-08T00:00:00.000000000",
          "2017-12-11T00:00:00.000000000",
          "2017-12-12T00:00:00.000000000",
          "2017-12-13T00:00:00.000000000",
          "2017-12-14T00:00:00.000000000",
          "2017-12-15T00:00:00.000000000",
          "2017-12-18T00:00:00.000000000",
          "2017-12-19T00:00:00.000000000",
          "2017-12-20T00:00:00.000000000",
          "2017-12-21T00:00:00.000000000",
          "2017-12-22T00:00:00.000000000",
          "2017-12-26T00:00:00.000000000",
          "2017-12-27T00:00:00.000000000",
          "2017-12-28T00:00:00.000000000"
         ],
         "y": {
          "bdata": "AAAAAAAAWUAJ3CvZIkFZQAsesLvL/FhACx6wu8v8WECw11iawBZZQNV6RrTACVlA1XpGtMAJWUCYSbbI69VYQIG6JQ+WAllAgbolD5YCWUBb9kT/uzhZQIwv+Yp8YFlAjC/5inxgWUCTuNG9qnpZQFVhBTt4p1lAVWEFO3inWUBBf6lqE55ZQJRp2aCOnVlAlGnZoI6dWUCePMRQf8ZZQNmy3YLuyFlA2bLdgu7IWUAQerQcA/VZQCUTc3gv/FlAJRNzeC/8WUBqdHW4RhlaQHU2e7ZzfVpAdTZ7tnN9WkADrk443+taQGpkP5E071pAamQ/kTTvWkCkS9nlXOtaQMllLp55M1tAyWUunnkzW0DZnSHniCVbQM9BgS2MUltAz0GBLYxSW0CMeJcGAB5bQAL/yhZaAFtAAv/KFloAW0DZ9mYcZRpbQNOHufaqYltA04e59qpiW0DLy58eB3pbQJqYdAllr1tAmph0CWWvW0Bo9kEgHctbQIV4oh3v7FtAhXiiHe/sW0B1byQd7AJcQN0NAl8rNlxA3Q0CXys2XEAyYSFsEh9cQNqUhB0zL1xA2pSEHTMvXEBz1jeSGyRcQB+kcjVA1VxAH6RyNUDVXEDCQ6I3OsBcQKqdwUuMfFxAqp3BS4x8XEDSLCGAlShcQN9ovdAMcl1A32i90AxyXUCf9JWZgk1dQPCovcBrW11A8Ki9wGtbXUDjV4Thx35dQDOHm7i1tl1AM4ebuLW2XUC2K27C5q1dQFEyAkhRfV1AUTICSFF9XUDXjQ5cLZBdQDNGZ3Sug11AM0ZndK6DXUDqXcyoP9xdQL7e8hFywF1Avt7yEXLAXUDWO08bcBZeQM9VOCM/D15Az1U4Iz8PXkBVjbOh5iReQFWRNIQAVl5AVZE0hABWXkAe8PWhCXteQL/XkaW5GF5Av9eRpbkYXkAHO2PiuBdeQI8NR+lfgV5Ajw1H6V+BXkAaboOcuY9eQHNBgVLfn15Ac0GBUt+fXkDyzgUl98VeQEJcJ/1ys15AQlwn/XKzXkA1+ozmOPleQONWBHXBCF9A41YEdcEIX0CJdFmMHXpfQNKZNl2bqV9A0pk2XZupX0BtWWPcmNpfQM1pQvT/7F9A",
          "dtype": "f8"
         }
        }
       ],
       "layout": {
        "template": {
         "data": {
          "bar": [
           {
            "error_x": {
             "color": "#2a3f5f"
            },
            "error_y": {
             "color": "#2a3f5f"
            },
            "marker": {
             "line": {
              "color": "#E5ECF6",
              "width": 0.5
             },
             "pattern": {
              "fillmode": "overlay",
              "size": 10,
              "solidity": 0.2
             }
            },
            "type": "bar"
           }
          ],
          "barpolar": [
           {
            "marker": {
             "line": {
              "color": "#E5ECF6",
              "width": 0.5
             },
             "pattern": {
              "fillmode": "overlay",
              "size": 10,
              "solidity": 0.2
             }
            },
            "type": "barpolar"
           }
          ],
          "carpet": [
           {
            "aaxis": {
             "endlinecolor": "#2a3f5f",
             "gridcolor": "white",
             "linecolor": "white",
             "minorgridcolor": "white",
             "startlinecolor": "#2a3f5f"
            },
            "baxis": {
             "endlinecolor": "#2a3f5f",
             "gridcolor": "white",
             "linecolor": "white",
             "minorgridcolor": "white",
             "startlinecolor": "#2a3f5f"
            },
            "type": "carpet"
           }
          ],
          "choropleth": [
           {
            "colorbar": {
             "outlinewidth": 0,
             "ticks": ""
            },
            "type": "choropleth"
           }
          ],
          "contour": [
           {
            "colorbar": {
             "outlinewidth": 0,
             "ticks": ""
            },
            "colorscale": [
             [
              0,
              "#0d0887"
             ],
             [
              0.1111111111111111,
              "#46039f"
             ],
             [
              0.2222222222222222,
              "#7201a8"
             ],
             [
              0.3333333333333333,
              "#9c179e"
             ],
             [
              0.4444444444444444,
              "#bd3786"
             ],
             [
              0.5555555555555556,
              "#d8576b"
             ],
             [
              0.6666666666666666,
              "#ed7953"
             ],
             [
              0.7777777777777778,
              "#fb9f3a"
             ],
             [
              0.8888888888888888,
              "#fdca26"
             ],
             [
              1,
              "#f0f921"
             ]
            ],
            "type": "contour"
           }
          ],
          "contourcarpet": [
           {
            "colorbar": {
             "outlinewidth": 0,
             "ticks": ""
            },
            "type": "contourcarpet"
           }
          ],
          "heatmap": [
           {
            "colorbar": {
             "outlinewidth": 0,
             "ticks": ""
            },
            "colorscale": [
             [
              0,
              "#0d0887"
             ],
             [
              0.1111111111111111,
              "#46039f"
             ],
             [
              0.2222222222222222,
              "#7201a8"
             ],
             [
              0.3333333333333333,
              "#9c179e"
             ],
             [
              0.4444444444444444,
              "#bd3786"
             ],
             [
              0.5555555555555556,
              "#d8576b"
             ],
             [
              0.6666666666666666,
              "#ed7953"
             ],
             [
              0.7777777777777778,
              "#fb9f3a"
             ],
             [
              0.8888888888888888,
              "#fdca26"
             ],
             [
              1,
              "#f0f921"
             ]
            ],
            "type": "heatmap"
           }
          ],
          "histogram": [
           {
            "marker": {
             "pattern": {
              "fillmode": "overlay",
              "size": 10,
              "solidity": 0.2
             }
            },
            "type": "histogram"
           }
          ],
          "histogram2d": [
           {
            "colorbar": {
             "outlinewidth": 0,
             "ticks": ""
            },
            "colorscale": [
             [
              0,
              "#0d0887"
             ],
             [
              0.1111111111111111,
              "#46039f"
             ],
             [
              0.2222222222222222,
              "#7201a8"
             ],
             [
              0.3333333333333333,
              "#9c179e"
             ],
             [
              0.4444444444444444,
              "#bd3786"
             ],
             [
              0.5555555555555556,
              "#d8576b"
             ],
             [
              0.6666666666666666,
              "#ed7953"
             ],
             [
              0.7777777777777778,
              "#fb9f3a"
             ],
             [
              0.8888888888888888,
              "#fdca26"
             ],
             [
              1,
              "#f0f921"
             ]
            ],
            "type": "histogram2d"
           }
          ],
          "histogram2dcontour": [
           {
            "colorbar": {
             "outlinewidth": 0,
             "ticks": ""
            },
            "colorscale": [
             [
              0,
              "#0d0887"
             ],
             [
              0.1111111111111111,
              "#46039f"
             ],
             [
              0.2222222222222222,
              "#7201a8"
             ],
             [
              0.3333333333333333,
              "#9c179e"
             ],
             [
              0.4444444444444444,
              "#bd3786"
             ],
             [
              0.5555555555555556,
              "#d8576b"
             ],
             [
              0.6666666666666666,
              "#ed7953"
             ],
             [
              0.7777777777777778,
              "#fb9f3a"
             ],
             [
              0.8888888888888888,
              "#fdca26"
             ],
             [
              1,
              "#f0f921"
             ]
            ],
            "type": "histogram2dcontour"
           }
          ],
          "mesh3d": [
           {
            "colorbar": {
             "outlinewidth": 0,
             "ticks": ""
            },
            "type": "mesh3d"
           }
          ],
          "parcoords": [
           {
            "line": {
             "colorbar": {
              "outlinewidth": 0,
              "ticks": ""
             }
            },
            "type": "parcoords"
           }
          ],
          "pie": [
           {
            "automargin": true,
            "type": "pie"
           }
          ],
          "scatter": [
           {
            "fillpattern": {
             "fillmode": "overlay",
             "size": 10,
             "solidity": 0.2
            },
            "type": "scatter"
           }
          ],
          "scatter3d": [
           {
            "line": {
             "colorbar": {
              "outlinewidth": 0,
              "ticks": ""
             }
            },
            "marker": {
             "colorbar": {
              "outlinewidth": 0,
              "ticks": ""
             }
            },
            "type": "scatter3d"
           }
          ],
          "scattercarpet": [
           {
            "marker": {
             "colorbar": {
              "outlinewidth": 0,
              "ticks": ""
             }
            },
            "type": "scattercarpet"
           }
          ],
          "scattergeo": [
           {
            "marker": {
             "colorbar": {
              "outlinewidth": 0,
              "ticks": ""
             }
            },
            "type": "scattergeo"
           }
          ],
          "scattergl": [
           {
            "marker": {
             "colorbar": {
              "outlinewidth": 0,
              "ticks": ""
             }
            },
            "type": "scattergl"
           }
          ],
          "scattermap": [
           {
            "marker": {
             "colorbar": {
              "outlinewidth": 0,
              "ticks": ""
             }
            },
            "type": "scattermap"
           }
          ],
          "scattermapbox": [
           {
            "marker": {
             "colorbar": {
              "outlinewidth": 0,
              "ticks": ""
             }
            },
            "type": "scattermapbox"
           }
          ],
          "scatterpolar": [
           {
            "marker": {
             "colorbar": {
              "outlinewidth": 0,
              "ticks": ""
             }
            },
            "type": "scatterpolar"
           }
          ],
          "scatterpolargl": [
           {
            "marker": {
             "colorbar": {
              "outlinewidth": 0,
              "ticks": ""
             }
            },
            "type": "scatterpolargl"
           }
          ],
          "scatterternary": [
           {
            "marker": {
             "colorbar": {
              "outlinewidth": 0,
              "ticks": ""
             }
            },
            "type": "scatterternary"
           }
          ],
          "surface": [
           {
            "colorbar": {
             "outlinewidth": 0,
             "ticks": ""
            },
            "colorscale": [
             [
              0,
              "#0d0887"
             ],
             [
              0.1111111111111111,
              "#46039f"
             ],
             [
              0.2222222222222222,
              "#7201a8"
             ],
             [
              0.3333333333333333,
              "#9c179e"
             ],
             [
              0.4444444444444444,
              "#bd3786"
             ],
             [
              0.5555555555555556,
              "#d8576b"
             ],
             [
              0.6666666666666666,
              "#ed7953"
             ],
             [
              0.7777777777777778,
              "#fb9f3a"
             ],
             [
              0.8888888888888888,
              "#fdca26"
             ],
             [
              1,
              "#f0f921"
             ]
            ],
            "type": "surface"
           }
          ],
          "table": [
           {
            "cells": {
             "fill": {
              "color": "#EBF0F8"
             },
             "line": {
              "color": "white"
             }
            },
            "header": {
             "fill": {
              "color": "#C8D4E3"
             },
             "line": {
              "color": "white"
             }
            },
            "type": "table"
           }
          ]
         },
         "layout": {
          "annotationdefaults": {
           "arrowcolor": "#2a3f5f",
           "arrowhead": 0,
           "arrowwidth": 1
          },
          "autotypenumbers": "strict",
          "coloraxis": {
           "colorbar": {
            "outlinewidth": 0,
            "ticks": ""
           }
          },
          "colorscale": {
           "diverging": [
            [
             0,
             "#8e0152"
            ],
            [
             0.1,
             "#c51b7d"
            ],
            [
             0.2,
             "#de77ae"
            ],
            [
             0.3,
             "#f1b6da"
            ],
            [
             0.4,
             "#fde0ef"
            ],
            [
             0.5,
             "#f7f7f7"
            ],
            [
             0.6,
             "#e6f5d0"
            ],
            [
             0.7,
             "#b8e186"
            ],
            [
             0.8,
             "#7fbc41"
            ],
            [
             0.9,
             "#4d9221"
            ],
            [
             1,
             "#276419"
            ]
           ],
           "sequential": [
            [
             0,
             "#0d0887"
            ],
            [
             0.1111111111111111,
             "#46039f"
            ],
            [
             0.2222222222222222,
             "#7201a8"
            ],
            [
             0.3333333333333333,
             "#9c179e"
            ],
            [
             0.4444444444444444,
             "#bd3786"
            ],
            [
             0.5555555555555556,
             "#d8576b"
            ],
            [
             0.6666666666666666,
             "#ed7953"
            ],
            [
             0.7777777777777778,
             "#fb9f3a"
            ],
            [
             0.8888888888888888,
             "#fdca26"
            ],
            [
             1,
             "#f0f921"
            ]
           ],
           "sequentialminus": [
            [
             0,
             "#0d0887"
            ],
            [
             0.1111111111111111,
             "#46039f"
            ],
            [
             0.2222222222222222,
             "#7201a8"
            ],
            [
             0.3333333333333333,
             "#9c179e"
            ],
            [
             0.4444444444444444,
             "#bd3786"
            ],
            [
             0.5555555555555556,
             "#d8576b"
            ],
            [
             0.6666666666666666,
             "#ed7953"
            ],
            [
             0.7777777777777778,
             "#fb9f3a"
            ],
            [
             0.8888888888888888,
             "#fdca26"
            ],
            [
             1,
             "#f0f921"
            ]
           ]
          },
          "colorway": [
           "#636efa",
           "#EF553B",
           "#00cc96",
           "#ab63fa",
           "#FFA15A",
           "#19d3f3",
           "#FF6692",
           "#B6E880",
           "#FF97FF",
           "#FECB52"
          ],
          "font": {
           "color": "#2a3f5f"
          },
          "geo": {
           "bgcolor": "white",
           "lakecolor": "white",
           "landcolor": "#E5ECF6",
           "showlakes": true,
           "showland": true,
           "subunitcolor": "white"
          },
          "hoverlabel": {
           "align": "left"
          },
          "hovermode": "closest",
          "mapbox": {
           "style": "light"
          },
          "paper_bgcolor": "white",
          "plot_bgcolor": "#E5ECF6",
          "polar": {
           "angularaxis": {
            "gridcolor": "white",
            "linecolor": "white",
            "ticks": ""
           },
           "bgcolor": "#E5ECF6",
           "radialaxis": {
            "gridcolor": "white",
            "linecolor": "white",
            "ticks": ""
           }
          },
          "scene": {
           "xaxis": {
            "backgroundcolor": "#E5ECF6",
            "gridcolor": "white",
            "gridwidth": 2,
            "linecolor": "white",
            "showbackground": true,
            "ticks": "",
            "zerolinecolor": "white"
           },
           "yaxis": {
            "backgroundcolor": "#E5ECF6",
            "gridcolor": "white",
            "gridwidth": 2,
            "linecolor": "white",
            "showbackground": true,
            "ticks": "",
            "zerolinecolor": "white"
           },
           "zaxis": {
            "backgroundcolor": "#E5ECF6",
            "gridcolor": "white",
            "gridwidth": 2,
            "linecolor": "white",
            "showbackground": true,
            "ticks": "",
            "zerolinecolor": "white"
           }
          },
          "shapedefaults": {
           "line": {
            "color": "#2a3f5f"
           }
          },
          "ternary": {
           "aaxis": {
            "gridcolor": "white",
            "linecolor": "white",
            "ticks": ""
           },
           "baxis": {
            "gridcolor": "white",
            "linecolor": "white",
            "ticks": ""
           },
           "bgcolor": "#E5ECF6",
           "caxis": {
            "gridcolor": "white",
            "linecolor": "white",
            "ticks": ""
           }
          },
          "title": {
           "x": 0.05
          },
          "xaxis": {
           "automargin": true,
           "gridcolor": "white",
           "linecolor": "white",
           "ticks": "",
           "title": {
            "standoff": 15
           },
           "zerolinecolor": "white",
           "zerolinewidth": 2
          },
          "yaxis": {
           "automargin": true,
           "gridcolor": "white",
           "linecolor": "white",
           "ticks": "",
           "title": {
            "standoff": 15
           },
           "zerolinecolor": "white",
           "zerolinewidth": 2
          }
         }
        },
        "title": {
         "text": "Comparison of Portfolio vs. Nasdaq Composite Growth"
        },
        "xaxis": {
         "tickformat": "%b %Y",
         "tickmode": "auto",
         "title": {
          "text": "Date"
         },
         "type": "date"
        },
        "yaxis": {
         "title": {
          "text": "Normalized Value (Base 100%)"
         }
        }
       }
      }
     },
     "metadata": {},
     "output_type": "display_data"
    }
   ],
   "source": [
    "ML_daily_returns = ML_portfolio_streamed.pct_change()\n",
    "ML_cumulative_returns = (1 + ML_daily_returns).cumprod()\n",
    "\n",
    "ML_cumulative_returns.iloc[0] = 1\n",
    "ML_portfolio_normalized = (ML_cumulative_returns / ML_cumulative_returns.iloc[0]) * 100\n",
    "\n",
    "Nasdaq_comp = getNasdaq_comp(ML_portfolio_streamed.index[0], ML_portfolio_streamed.index[-1])\n",
    "\n",
    "fig = go.Figure()\n",
    "\n",
    "fig.add_trace(go.Scatter(\n",
    "    x=Nasdaq_comp.index,\n",
    "    y=Nasdaq_comp['Normalized'],\n",
    "    mode='lines',\n",
    "    name='Nasdaq Composite'\n",
    "))\n",
    "\n",
    "fig.add_trace(go.Scatter(\n",
    "    x=ML_cumulative_returns.index,\n",
    "    y=ML_portfolio_normalized,\n",
    "    mode='lines',\n",
    "    name='Portfolio Growth'\n",
    "))\n",
    "\n",
    "fig.update_layout(\n",
    "    title='Comparison of Portfolio vs. Nasdaq Composite Growth',\n",
    "    xaxis_title='Date',\n",
    "    yaxis_title='Normalized Value (Base 100%)',\n",
    "    xaxis=dict(\n",
    "        type='date',\n",
    "        tickformat='%b %Y',\n",
    "        tickmode='auto'\n",
    "    )\n",
    ")"
   ]
  },
  {
   "cell_type": "markdown",
   "metadata": {
    "id": "S5u_KAQS1CRr"
   },
   "source": [
    "## 7.0 Testing Against Others"
   ]
  },
  {
   "cell_type": "code",
   "execution_count": 113,
   "metadata": {
    "colab": {
     "base_uri": "https://localhost:8080/",
     "height": 594
    },
    "id": "n4AB0laC1CRr",
    "outputId": "4b139451-2662-435b-dc3d-56a5eed5b189"
   },
   "outputs": [
    {
     "name": "stderr",
     "output_type": "stream",
     "text": [
      "[*********************100%***********************]  1 of 1 completed"
     ]
    },
    {
     "name": "stdout",
     "output_type": "stream",
     "text": [
      "Omitted assets: []\n",
      "Time to fetch data: 0.06 seconds\n",
      "Max combination of assets with complete data: 1\n"
     ]
    },
    {
     "name": "stderr",
     "output_type": "stream",
     "text": [
      "\n"
     ]
    },
    {
     "data": {
      "application/vnd.plotly.v1+json": {
       "config": {
        "plotlyServerURL": "https://plot.ly"
       },
       "data": [
        {
         "mode": "lines",
         "name": "Nasdaq Composite",
         "type": "scatter",
         "x": [
          "2017-08-01T00:00:00.000000000",
          "2017-08-02T00:00:00.000000000",
          "2017-08-03T00:00:00.000000000",
          "2017-08-04T00:00:00.000000000",
          "2017-08-07T00:00:00.000000000",
          "2017-08-08T00:00:00.000000000",
          "2017-08-09T00:00:00.000000000",
          "2017-08-10T00:00:00.000000000",
          "2017-08-11T00:00:00.000000000",
          "2017-08-14T00:00:00.000000000",
          "2017-08-15T00:00:00.000000000",
          "2017-08-16T00:00:00.000000000",
          "2017-08-17T00:00:00.000000000",
          "2017-08-18T00:00:00.000000000",
          "2017-08-21T00:00:00.000000000",
          "2017-08-22T00:00:00.000000000",
          "2017-08-23T00:00:00.000000000",
          "2017-08-24T00:00:00.000000000",
          "2017-08-25T00:00:00.000000000",
          "2017-08-28T00:00:00.000000000",
          "2017-08-29T00:00:00.000000000",
          "2017-08-30T00:00:00.000000000",
          "2017-08-31T00:00:00.000000000",
          "2017-09-01T00:00:00.000000000",
          "2017-09-05T00:00:00.000000000",
          "2017-09-06T00:00:00.000000000",
          "2017-09-07T00:00:00.000000000",
          "2017-09-08T00:00:00.000000000",
          "2017-09-11T00:00:00.000000000",
          "2017-09-12T00:00:00.000000000",
          "2017-09-13T00:00:00.000000000",
          "2017-09-14T00:00:00.000000000",
          "2017-09-15T00:00:00.000000000",
          "2017-09-18T00:00:00.000000000",
          "2017-09-19T00:00:00.000000000",
          "2017-09-20T00:00:00.000000000",
          "2017-09-21T00:00:00.000000000",
          "2017-09-22T00:00:00.000000000",
          "2017-09-25T00:00:00.000000000",
          "2017-09-26T00:00:00.000000000",
          "2017-09-27T00:00:00.000000000",
          "2017-09-28T00:00:00.000000000",
          "2017-09-29T00:00:00.000000000",
          "2017-10-02T00:00:00.000000000",
          "2017-10-03T00:00:00.000000000",
          "2017-10-04T00:00:00.000000000",
          "2017-10-05T00:00:00.000000000",
          "2017-10-06T00:00:00.000000000",
          "2017-10-09T00:00:00.000000000",
          "2017-10-10T00:00:00.000000000",
          "2017-10-11T00:00:00.000000000",
          "2017-10-12T00:00:00.000000000",
          "2017-10-13T00:00:00.000000000",
          "2017-10-16T00:00:00.000000000",
          "2017-10-17T00:00:00.000000000",
          "2017-10-18T00:00:00.000000000",
          "2017-10-19T00:00:00.000000000",
          "2017-10-20T00:00:00.000000000",
          "2017-10-23T00:00:00.000000000",
          "2017-10-24T00:00:00.000000000",
          "2017-10-25T00:00:00.000000000",
          "2017-10-26T00:00:00.000000000",
          "2017-10-27T00:00:00.000000000",
          "2017-10-30T00:00:00.000000000",
          "2017-10-31T00:00:00.000000000",
          "2017-11-01T00:00:00.000000000",
          "2017-11-02T00:00:00.000000000",
          "2017-11-03T00:00:00.000000000",
          "2017-11-06T00:00:00.000000000",
          "2017-11-07T00:00:00.000000000",
          "2017-11-08T00:00:00.000000000",
          "2017-11-09T00:00:00.000000000",
          "2017-11-10T00:00:00.000000000",
          "2017-11-13T00:00:00.000000000",
          "2017-11-14T00:00:00.000000000",
          "2017-11-15T00:00:00.000000000",
          "2017-11-16T00:00:00.000000000",
          "2017-11-17T00:00:00.000000000",
          "2017-11-20T00:00:00.000000000",
          "2017-11-21T00:00:00.000000000",
          "2017-11-22T00:00:00.000000000",
          "2017-11-24T00:00:00.000000000",
          "2017-11-27T00:00:00.000000000",
          "2017-11-28T00:00:00.000000000",
          "2017-11-29T00:00:00.000000000",
          "2017-11-30T00:00:00.000000000",
          "2017-12-01T00:00:00.000000000",
          "2017-12-04T00:00:00.000000000",
          "2017-12-05T00:00:00.000000000",
          "2017-12-06T00:00:00.000000000",
          "2017-12-07T00:00:00.000000000",
          "2017-12-08T00:00:00.000000000",
          "2017-12-11T00:00:00.000000000",
          "2017-12-12T00:00:00.000000000",
          "2017-12-13T00:00:00.000000000",
          "2017-12-14T00:00:00.000000000",
          "2017-12-15T00:00:00.000000000",
          "2017-12-18T00:00:00.000000000",
          "2017-12-19T00:00:00.000000000",
          "2017-12-20T00:00:00.000000000",
          "2017-12-21T00:00:00.000000000",
          "2017-12-22T00:00:00.000000000",
          "2017-12-26T00:00:00.000000000",
          "2017-12-27T00:00:00.000000000",
          "2017-12-28T00:00:00.000000000"
         ],
         "y": {
          "bdata": "AAAAAAAAWUBcYUpRtf9YQJoubK1E6VhAF/08yI30WEDBmPOO8xRZQDdyblaQB1lAJqYoDlT1WED3IV9UFG1YQBq1OyIAlVhAVbh8YyjpWEApKH4/5eFYQPsVKuoQ7lhAnGouGCZyWECaDneyvGxYQPNKtEBRaVhAVr6VpSi+WEDQGohW+qpYQEM4B0jbo1hAz7YlLCKeWEAxFyRWna9YQIsL9ziYwlhACmLNwWYFWUCJX8FdGkJZQDEzs8/PSFlAY7bkFLQMWUCCZ28IjB5ZQLylCDUiI1lAKHVP5jv9WEBd0r47uUVZQHlm5zDfW1lACovXANFhWUDSsQp+hkJZQFYrXEcHVllANbdz+jtcWUBGzh/w82JZQLNbzXCkXVlA1oLkFhk8WUCrp39FWkBZQN0lAsixB1lA9isMDVIRWUCEmY6L2FpZQNy7PpQJW1lAXNVydsuFWUCYcr8KrZpZQE3iacTAqVlAipv2nrCsWUDL1N0it99ZQOMwzlKQ5FlAdgvpfQ3aWUCtfVfUneFZQPxYEOIC8llASSNRrublWUAKnOY8RvRZQDMaA6CUBlpAaL1KHj0GWkBQvRFUzQZaQLptQ0aK81lAPqaM56gLWkBiKw60MeFZQGrR35/c7FlAMv3B3x7KWUDln/iB9cJZQBGxeVJKVFpA3a+gJPpRWkABVV+z2m5aQAV8HzemY1pAwGtF2AxiWkDmLq+m1pNaQKSFM3T3qVpAbzqFoTKXWkD0FD2TqaxaQEmD5FFdhVpAl5yphUKGWkDYLOFz9YxaQIpW1ygdeVpAz8D980RZWkCqgetK27BaQBaeA6NLplpAOCUX8kKuWkBhoBYVc/ZaQAb+w5tb+1pAlqUN/UgRW0BjFKg/lQZbQBM7gbSeKFtAexf+SSPQWkAh0Pi2AQJbQPiscQF551pAv17KEtWeWkA5KX1zmJFaQLkxORTZn1pAmy8vMYXEWkC6NO1O699aQPzVnH4fA1tAYbX010n2WkBSClbR2ANbQA4B3vV28FpAFVR9MftAW0B0Tfzwf3tbQPrZmfpoXFtAhKFry4BZW0DA9OK67V1bQPERt01/WFtAsTp/M6ZAW0BTIujOwUNbQOTbE/GjTltA",
          "dtype": "f8"
         }
        },
        {
         "mode": "lines",
         "name": "Portfolio Growth",
         "type": "scatter",
         "x": [
          "2017-08-01T00:00:00.000000000",
          "2017-08-02T00:00:00.000000000",
          "2017-08-03T00:00:00.000000000",
          "2017-08-04T00:00:00.000000000",
          "2017-08-07T00:00:00.000000000",
          "2017-08-08T00:00:00.000000000",
          "2017-08-09T00:00:00.000000000",
          "2017-08-10T00:00:00.000000000",
          "2017-08-11T00:00:00.000000000",
          "2017-08-14T00:00:00.000000000",
          "2017-08-15T00:00:00.000000000",
          "2017-08-16T00:00:00.000000000",
          "2017-08-17T00:00:00.000000000",
          "2017-08-18T00:00:00.000000000",
          "2017-08-21T00:00:00.000000000",
          "2017-08-22T00:00:00.000000000",
          "2017-08-23T00:00:00.000000000",
          "2017-08-24T00:00:00.000000000",
          "2017-08-25T00:00:00.000000000",
          "2017-08-28T00:00:00.000000000",
          "2017-08-29T00:00:00.000000000",
          "2017-08-30T00:00:00.000000000",
          "2017-08-31T00:00:00.000000000",
          "2017-09-01T00:00:00.000000000",
          "2017-09-05T00:00:00.000000000",
          "2017-09-06T00:00:00.000000000",
          "2017-09-07T00:00:00.000000000",
          "2017-09-08T00:00:00.000000000",
          "2017-09-11T00:00:00.000000000",
          "2017-09-12T00:00:00.000000000",
          "2017-09-13T00:00:00.000000000",
          "2017-09-14T00:00:00.000000000",
          "2017-09-15T00:00:00.000000000",
          "2017-09-18T00:00:00.000000000",
          "2017-09-19T00:00:00.000000000",
          "2017-09-20T00:00:00.000000000",
          "2017-09-21T00:00:00.000000000",
          "2017-09-22T00:00:00.000000000",
          "2017-09-25T00:00:00.000000000",
          "2017-09-26T00:00:00.000000000",
          "2017-09-27T00:00:00.000000000",
          "2017-09-28T00:00:00.000000000",
          "2017-09-29T00:00:00.000000000",
          "2017-10-02T00:00:00.000000000",
          "2017-10-03T00:00:00.000000000",
          "2017-10-04T00:00:00.000000000",
          "2017-10-05T00:00:00.000000000",
          "2017-10-06T00:00:00.000000000",
          "2017-10-09T00:00:00.000000000",
          "2017-10-10T00:00:00.000000000",
          "2017-10-11T00:00:00.000000000",
          "2017-10-12T00:00:00.000000000",
          "2017-10-13T00:00:00.000000000",
          "2017-10-16T00:00:00.000000000",
          "2017-10-17T00:00:00.000000000",
          "2017-10-18T00:00:00.000000000",
          "2017-10-19T00:00:00.000000000",
          "2017-10-20T00:00:00.000000000",
          "2017-10-23T00:00:00.000000000",
          "2017-10-24T00:00:00.000000000",
          "2017-10-25T00:00:00.000000000",
          "2017-10-26T00:00:00.000000000",
          "2017-10-27T00:00:00.000000000",
          "2017-10-30T00:00:00.000000000",
          "2017-10-31T00:00:00.000000000",
          "2017-11-01T00:00:00.000000000",
          "2017-11-02T00:00:00.000000000",
          "2017-11-03T00:00:00.000000000",
          "2017-11-06T00:00:00.000000000",
          "2017-11-07T00:00:00.000000000",
          "2017-11-08T00:00:00.000000000",
          "2017-11-09T00:00:00.000000000",
          "2017-11-10T00:00:00.000000000",
          "2017-11-13T00:00:00.000000000",
          "2017-11-14T00:00:00.000000000",
          "2017-11-15T00:00:00.000000000",
          "2017-11-16T00:00:00.000000000",
          "2017-11-17T00:00:00.000000000",
          "2017-11-20T00:00:00.000000000",
          "2017-11-21T00:00:00.000000000",
          "2017-11-22T00:00:00.000000000",
          "2017-11-24T00:00:00.000000000",
          "2017-11-27T00:00:00.000000000",
          "2017-11-28T00:00:00.000000000",
          "2017-11-29T00:00:00.000000000",
          "2017-11-30T00:00:00.000000000",
          "2017-12-01T00:00:00.000000000",
          "2017-12-04T00:00:00.000000000",
          "2017-12-05T00:00:00.000000000",
          "2017-12-06T00:00:00.000000000",
          "2017-12-07T00:00:00.000000000",
          "2017-12-08T00:00:00.000000000",
          "2017-12-11T00:00:00.000000000",
          "2017-12-12T00:00:00.000000000",
          "2017-12-13T00:00:00.000000000",
          "2017-12-14T00:00:00.000000000",
          "2017-12-15T00:00:00.000000000",
          "2017-12-18T00:00:00.000000000",
          "2017-12-19T00:00:00.000000000",
          "2017-12-20T00:00:00.000000000",
          "2017-12-21T00:00:00.000000000",
          "2017-12-22T00:00:00.000000000",
          "2017-12-26T00:00:00.000000000",
          "2017-12-27T00:00:00.000000000",
          "2017-12-28T00:00:00.000000000",
          "2017-12-29T00:00:00.000000000"
         ],
         "y": {
          "bdata": "AAAAAAAAWUBTQXAXFApZQPZ4NntEIFlAakTukr8VWUCPbMB0XEZZQEu8RZfiTllAfn02UfFaWUBD1tHQGipZQIRyUu2bMFlAsOCvOohiWUAeLwfi9YpZQFgzBX3epFlAbiPv7CaEWUAu0hdUHZNZQNdTr01AqVlAQ036ai/mWUCsp5PTWOVZQPm9nIfL6VlA3i09iZDiWUAvf2j0Lu5ZQLdeuWV89VlAJhZGV9UTWkDItOwih0BaQODlgos6SFpA5DBEjQdNWkDMZ3BAD1haQFeXWifK5FpAzQIFAS4fW0B7uXyPpXxbQNxSE2RiYVtAWephNeGCW0CsmRyLqIJbQIVdXgzsZVtAue6bpGpOW0AshlXbElZbQKpb4w0CZltA8WlX/+M5W0D7zXNOryxbQFyr48NG5lpAEHXqS76uWkBhWFzVPo5aQJoQE4gH+FpAPdIpEk4MW0AtgdG/ey9bQN65mBWSVVtARjFUT3+DW0DAHc/r05hbQBL2xxqhoVtAgxfasyKaW0D8khUgNs1bQHDf2fRfElxAOD8lt90OXEB3Dq0hPgVcQJ7R1Vh6B1xAZgn6A0QQXEB6xbp3dF5cQDZF+VEWdVxAFXygyQF6XECbPmslqThcQGcmeXONCFxAleQSht7nW0B5dYDx59BbQEq3aRIMFVxAKS9oeI4eXECmAVhSUDVcQEeqJd82R1xAm86XOa8rXEBkqjcyhVZcQCWHVMoRY1xAMhZD9ZiuXEDB3qwb8cpcQGL6xniHtlxAVOKwI/GtXEAl3/4e49ZcQLNmsIk67VxAN0N+6/+zXEAwnzsV/tVcQE9QP58xlVxAxYhL+AuTXEAEk+zDLd9cQLS9+h3n1FxA6zjNiUXlXECdSreGw/NcQBvFinpL/VxAD+PkBEe7XEAGQmfsFQFdQCJS/1Zm71xAAC4AuvuLXEBeU2YueZBcQMeU4qjwvlxAcNqH7SKrXEDmuKy+979cQEcOCxJW0lxA06xhjBStXEC5MaOosO1cQHQPUVP8sFxAmX6t2w/1XEAo4ueAvutcQBAAYBH5xVxARo0uzcW2XEDbdircv6BcQPo7DeNoo1xAQq+MYfaLXED4JxhmOKVcQCK0PPt9oVxA4wW/rKmDXEA=",
          "dtype": "f8"
         }
        },
        {
         "mode": "lines",
         "name": "Portfolio Growth",
         "type": "scatter",
         "x": [
          "2017-08-01T00:00:00.000000000",
          "2017-08-02T00:00:00.000000000",
          "2017-08-03T00:00:00.000000000",
          "2017-08-04T00:00:00.000000000",
          "2017-08-07T00:00:00.000000000",
          "2017-08-08T00:00:00.000000000",
          "2017-08-09T00:00:00.000000000",
          "2017-08-10T00:00:00.000000000",
          "2017-08-11T00:00:00.000000000",
          "2017-08-14T00:00:00.000000000",
          "2017-08-15T00:00:00.000000000",
          "2017-08-16T00:00:00.000000000",
          "2017-08-17T00:00:00.000000000",
          "2017-08-18T00:00:00.000000000",
          "2017-08-21T00:00:00.000000000",
          "2017-08-22T00:00:00.000000000",
          "2017-08-23T00:00:00.000000000",
          "2017-08-24T00:00:00.000000000",
          "2017-08-25T00:00:00.000000000",
          "2017-08-28T00:00:00.000000000",
          "2017-08-29T00:00:00.000000000",
          "2017-08-30T00:00:00.000000000",
          "2017-08-31T00:00:00.000000000",
          "2017-09-01T00:00:00.000000000",
          "2017-09-05T00:00:00.000000000",
          "2017-09-06T00:00:00.000000000",
          "2017-09-07T00:00:00.000000000",
          "2017-09-08T00:00:00.000000000",
          "2017-09-11T00:00:00.000000000",
          "2017-09-12T00:00:00.000000000",
          "2017-09-13T00:00:00.000000000",
          "2017-09-14T00:00:00.000000000",
          "2017-09-15T00:00:00.000000000",
          "2017-09-18T00:00:00.000000000",
          "2017-09-19T00:00:00.000000000",
          "2017-09-20T00:00:00.000000000",
          "2017-09-21T00:00:00.000000000",
          "2017-09-22T00:00:00.000000000",
          "2017-09-25T00:00:00.000000000",
          "2017-09-26T00:00:00.000000000",
          "2017-09-27T00:00:00.000000000",
          "2017-09-28T00:00:00.000000000",
          "2017-09-29T00:00:00.000000000",
          "2017-10-02T00:00:00.000000000",
          "2017-10-03T00:00:00.000000000",
          "2017-10-04T00:00:00.000000000",
          "2017-10-05T00:00:00.000000000",
          "2017-10-06T00:00:00.000000000",
          "2017-10-09T00:00:00.000000000",
          "2017-10-10T00:00:00.000000000",
          "2017-10-11T00:00:00.000000000",
          "2017-10-12T00:00:00.000000000",
          "2017-10-13T00:00:00.000000000",
          "2017-10-16T00:00:00.000000000",
          "2017-10-17T00:00:00.000000000",
          "2017-10-18T00:00:00.000000000",
          "2017-10-19T00:00:00.000000000",
          "2017-10-20T00:00:00.000000000",
          "2017-10-23T00:00:00.000000000",
          "2017-10-24T00:00:00.000000000",
          "2017-10-25T00:00:00.000000000",
          "2017-10-26T00:00:00.000000000",
          "2017-10-27T00:00:00.000000000",
          "2017-10-30T00:00:00.000000000",
          "2017-10-31T00:00:00.000000000",
          "2017-11-01T00:00:00.000000000",
          "2017-11-02T00:00:00.000000000",
          "2017-11-03T00:00:00.000000000",
          "2017-11-06T00:00:00.000000000",
          "2017-11-07T00:00:00.000000000",
          "2017-11-08T00:00:00.000000000",
          "2017-11-09T00:00:00.000000000",
          "2017-11-10T00:00:00.000000000",
          "2017-11-13T00:00:00.000000000",
          "2017-11-14T00:00:00.000000000",
          "2017-11-15T00:00:00.000000000",
          "2017-11-16T00:00:00.000000000",
          "2017-11-17T00:00:00.000000000",
          "2017-11-20T00:00:00.000000000",
          "2017-11-21T00:00:00.000000000",
          "2017-11-22T00:00:00.000000000",
          "2017-11-24T00:00:00.000000000",
          "2017-11-27T00:00:00.000000000",
          "2017-11-28T00:00:00.000000000",
          "2017-11-29T00:00:00.000000000",
          "2017-11-30T00:00:00.000000000",
          "2017-12-01T00:00:00.000000000",
          "2017-12-04T00:00:00.000000000",
          "2017-12-05T00:00:00.000000000",
          "2017-12-06T00:00:00.000000000",
          "2017-12-07T00:00:00.000000000",
          "2017-12-08T00:00:00.000000000",
          "2017-12-11T00:00:00.000000000",
          "2017-12-12T00:00:00.000000000",
          "2017-12-13T00:00:00.000000000",
          "2017-12-14T00:00:00.000000000",
          "2017-12-15T00:00:00.000000000",
          "2017-12-18T00:00:00.000000000",
          "2017-12-19T00:00:00.000000000",
          "2017-12-20T00:00:00.000000000",
          "2017-12-21T00:00:00.000000000",
          "2017-12-22T00:00:00.000000000",
          "2017-12-26T00:00:00.000000000",
          "2017-12-27T00:00:00.000000000",
          "2017-12-28T00:00:00.000000000"
         ],
         "y": {
          "bdata": "AAAAAAAAWUAJ3CvZIkFZQAsesLvL/FhACx6wu8v8WECw11iawBZZQNV6RrTACVlA1XpGtMAJWUCYSbbI69VYQIG6JQ+WAllAgbolD5YCWUBb9kT/uzhZQIwv+Yp8YFlAjC/5inxgWUCTuNG9qnpZQFVhBTt4p1lAVWEFO3inWUBBf6lqE55ZQJRp2aCOnVlAlGnZoI6dWUCePMRQf8ZZQNmy3YLuyFlA2bLdgu7IWUAQerQcA/VZQCUTc3gv/FlAJRNzeC/8WUBqdHW4RhlaQHU2e7ZzfVpAdTZ7tnN9WkADrk443+taQGpkP5E071pAamQ/kTTvWkCkS9nlXOtaQMllLp55M1tAyWUunnkzW0DZnSHniCVbQM9BgS2MUltAz0GBLYxSW0CMeJcGAB5bQAL/yhZaAFtAAv/KFloAW0DZ9mYcZRpbQNOHufaqYltA04e59qpiW0DLy58eB3pbQJqYdAllr1tAmph0CWWvW0Bo9kEgHctbQIV4oh3v7FtAhXiiHe/sW0B1byQd7AJcQN0NAl8rNlxA3Q0CXys2XEAyYSFsEh9cQNqUhB0zL1xA2pSEHTMvXEBz1jeSGyRcQB+kcjVA1VxAH6RyNUDVXEDCQ6I3OsBcQKqdwUuMfFxAqp3BS4x8XEDSLCGAlShcQN9ovdAMcl1A32i90AxyXUCf9JWZgk1dQPCovcBrW11A8Ki9wGtbXUDjV4Thx35dQDOHm7i1tl1AM4ebuLW2XUC2K27C5q1dQFEyAkhRfV1AUTICSFF9XUDXjQ5cLZBdQDNGZ3Sug11AM0ZndK6DXUDqXcyoP9xdQL7e8hFywF1Avt7yEXLAXUDWO08bcBZeQM9VOCM/D15Az1U4Iz8PXkBVjbOh5iReQFWRNIQAVl5AVZE0hABWXkAe8PWhCXteQL/XkaW5GF5Av9eRpbkYXkAHO2PiuBdeQI8NR+lfgV5Ajw1H6V+BXkAaboOcuY9eQHNBgVLfn15Ac0GBUt+fXkDyzgUl98VeQEJcJ/1ys15AQlwn/XKzXkA1+ozmOPleQONWBHXBCF9A41YEdcEIX0CJdFmMHXpfQNKZNl2bqV9A0pk2XZupX0BtWWPcmNpfQM1pQvT/7F9A",
          "dtype": "f8"
         }
        }
       ],
       "layout": {
        "template": {
         "data": {
          "bar": [
           {
            "error_x": {
             "color": "#2a3f5f"
            },
            "error_y": {
             "color": "#2a3f5f"
            },
            "marker": {
             "line": {
              "color": "#E5ECF6",
              "width": 0.5
             },
             "pattern": {
              "fillmode": "overlay",
              "size": 10,
              "solidity": 0.2
             }
            },
            "type": "bar"
           }
          ],
          "barpolar": [
           {
            "marker": {
             "line": {
              "color": "#E5ECF6",
              "width": 0.5
             },
             "pattern": {
              "fillmode": "overlay",
              "size": 10,
              "solidity": 0.2
             }
            },
            "type": "barpolar"
           }
          ],
          "carpet": [
           {
            "aaxis": {
             "endlinecolor": "#2a3f5f",
             "gridcolor": "white",
             "linecolor": "white",
             "minorgridcolor": "white",
             "startlinecolor": "#2a3f5f"
            },
            "baxis": {
             "endlinecolor": "#2a3f5f",
             "gridcolor": "white",
             "linecolor": "white",
             "minorgridcolor": "white",
             "startlinecolor": "#2a3f5f"
            },
            "type": "carpet"
           }
          ],
          "choropleth": [
           {
            "colorbar": {
             "outlinewidth": 0,
             "ticks": ""
            },
            "type": "choropleth"
           }
          ],
          "contour": [
           {
            "colorbar": {
             "outlinewidth": 0,
             "ticks": ""
            },
            "colorscale": [
             [
              0,
              "#0d0887"
             ],
             [
              0.1111111111111111,
              "#46039f"
             ],
             [
              0.2222222222222222,
              "#7201a8"
             ],
             [
              0.3333333333333333,
              "#9c179e"
             ],
             [
              0.4444444444444444,
              "#bd3786"
             ],
             [
              0.5555555555555556,
              "#d8576b"
             ],
             [
              0.6666666666666666,
              "#ed7953"
             ],
             [
              0.7777777777777778,
              "#fb9f3a"
             ],
             [
              0.8888888888888888,
              "#fdca26"
             ],
             [
              1,
              "#f0f921"
             ]
            ],
            "type": "contour"
           }
          ],
          "contourcarpet": [
           {
            "colorbar": {
             "outlinewidth": 0,
             "ticks": ""
            },
            "type": "contourcarpet"
           }
          ],
          "heatmap": [
           {
            "colorbar": {
             "outlinewidth": 0,
             "ticks": ""
            },
            "colorscale": [
             [
              0,
              "#0d0887"
             ],
             [
              0.1111111111111111,
              "#46039f"
             ],
             [
              0.2222222222222222,
              "#7201a8"
             ],
             [
              0.3333333333333333,
              "#9c179e"
             ],
             [
              0.4444444444444444,
              "#bd3786"
             ],
             [
              0.5555555555555556,
              "#d8576b"
             ],
             [
              0.6666666666666666,
              "#ed7953"
             ],
             [
              0.7777777777777778,
              "#fb9f3a"
             ],
             [
              0.8888888888888888,
              "#fdca26"
             ],
             [
              1,
              "#f0f921"
             ]
            ],
            "type": "heatmap"
           }
          ],
          "histogram": [
           {
            "marker": {
             "pattern": {
              "fillmode": "overlay",
              "size": 10,
              "solidity": 0.2
             }
            },
            "type": "histogram"
           }
          ],
          "histogram2d": [
           {
            "colorbar": {
             "outlinewidth": 0,
             "ticks": ""
            },
            "colorscale": [
             [
              0,
              "#0d0887"
             ],
             [
              0.1111111111111111,
              "#46039f"
             ],
             [
              0.2222222222222222,
              "#7201a8"
             ],
             [
              0.3333333333333333,
              "#9c179e"
             ],
             [
              0.4444444444444444,
              "#bd3786"
             ],
             [
              0.5555555555555556,
              "#d8576b"
             ],
             [
              0.6666666666666666,
              "#ed7953"
             ],
             [
              0.7777777777777778,
              "#fb9f3a"
             ],
             [
              0.8888888888888888,
              "#fdca26"
             ],
             [
              1,
              "#f0f921"
             ]
            ],
            "type": "histogram2d"
           }
          ],
          "histogram2dcontour": [
           {
            "colorbar": {
             "outlinewidth": 0,
             "ticks": ""
            },
            "colorscale": [
             [
              0,
              "#0d0887"
             ],
             [
              0.1111111111111111,
              "#46039f"
             ],
             [
              0.2222222222222222,
              "#7201a8"
             ],
             [
              0.3333333333333333,
              "#9c179e"
             ],
             [
              0.4444444444444444,
              "#bd3786"
             ],
             [
              0.5555555555555556,
              "#d8576b"
             ],
             [
              0.6666666666666666,
              "#ed7953"
             ],
             [
              0.7777777777777778,
              "#fb9f3a"
             ],
             [
              0.8888888888888888,
              "#fdca26"
             ],
             [
              1,
              "#f0f921"
             ]
            ],
            "type": "histogram2dcontour"
           }
          ],
          "mesh3d": [
           {
            "colorbar": {
             "outlinewidth": 0,
             "ticks": ""
            },
            "type": "mesh3d"
           }
          ],
          "parcoords": [
           {
            "line": {
             "colorbar": {
              "outlinewidth": 0,
              "ticks": ""
             }
            },
            "type": "parcoords"
           }
          ],
          "pie": [
           {
            "automargin": true,
            "type": "pie"
           }
          ],
          "scatter": [
           {
            "fillpattern": {
             "fillmode": "overlay",
             "size": 10,
             "solidity": 0.2
            },
            "type": "scatter"
           }
          ],
          "scatter3d": [
           {
            "line": {
             "colorbar": {
              "outlinewidth": 0,
              "ticks": ""
             }
            },
            "marker": {
             "colorbar": {
              "outlinewidth": 0,
              "ticks": ""
             }
            },
            "type": "scatter3d"
           }
          ],
          "scattercarpet": [
           {
            "marker": {
             "colorbar": {
              "outlinewidth": 0,
              "ticks": ""
             }
            },
            "type": "scattercarpet"
           }
          ],
          "scattergeo": [
           {
            "marker": {
             "colorbar": {
              "outlinewidth": 0,
              "ticks": ""
             }
            },
            "type": "scattergeo"
           }
          ],
          "scattergl": [
           {
            "marker": {
             "colorbar": {
              "outlinewidth": 0,
              "ticks": ""
             }
            },
            "type": "scattergl"
           }
          ],
          "scattermap": [
           {
            "marker": {
             "colorbar": {
              "outlinewidth": 0,
              "ticks": ""
             }
            },
            "type": "scattermap"
           }
          ],
          "scattermapbox": [
           {
            "marker": {
             "colorbar": {
              "outlinewidth": 0,
              "ticks": ""
             }
            },
            "type": "scattermapbox"
           }
          ],
          "scatterpolar": [
           {
            "marker": {
             "colorbar": {
              "outlinewidth": 0,
              "ticks": ""
             }
            },
            "type": "scatterpolar"
           }
          ],
          "scatterpolargl": [
           {
            "marker": {
             "colorbar": {
              "outlinewidth": 0,
              "ticks": ""
             }
            },
            "type": "scatterpolargl"
           }
          ],
          "scatterternary": [
           {
            "marker": {
             "colorbar": {
              "outlinewidth": 0,
              "ticks": ""
             }
            },
            "type": "scatterternary"
           }
          ],
          "surface": [
           {
            "colorbar": {
             "outlinewidth": 0,
             "ticks": ""
            },
            "colorscale": [
             [
              0,
              "#0d0887"
             ],
             [
              0.1111111111111111,
              "#46039f"
             ],
             [
              0.2222222222222222,
              "#7201a8"
             ],
             [
              0.3333333333333333,
              "#9c179e"
             ],
             [
              0.4444444444444444,
              "#bd3786"
             ],
             [
              0.5555555555555556,
              "#d8576b"
             ],
             [
              0.6666666666666666,
              "#ed7953"
             ],
             [
              0.7777777777777778,
              "#fb9f3a"
             ],
             [
              0.8888888888888888,
              "#fdca26"
             ],
             [
              1,
              "#f0f921"
             ]
            ],
            "type": "surface"
           }
          ],
          "table": [
           {
            "cells": {
             "fill": {
              "color": "#EBF0F8"
             },
             "line": {
              "color": "white"
             }
            },
            "header": {
             "fill": {
              "color": "#C8D4E3"
             },
             "line": {
              "color": "white"
             }
            },
            "type": "table"
           }
          ]
         },
         "layout": {
          "annotationdefaults": {
           "arrowcolor": "#2a3f5f",
           "arrowhead": 0,
           "arrowwidth": 1
          },
          "autotypenumbers": "strict",
          "coloraxis": {
           "colorbar": {
            "outlinewidth": 0,
            "ticks": ""
           }
          },
          "colorscale": {
           "diverging": [
            [
             0,
             "#8e0152"
            ],
            [
             0.1,
             "#c51b7d"
            ],
            [
             0.2,
             "#de77ae"
            ],
            [
             0.3,
             "#f1b6da"
            ],
            [
             0.4,
             "#fde0ef"
            ],
            [
             0.5,
             "#f7f7f7"
            ],
            [
             0.6,
             "#e6f5d0"
            ],
            [
             0.7,
             "#b8e186"
            ],
            [
             0.8,
             "#7fbc41"
            ],
            [
             0.9,
             "#4d9221"
            ],
            [
             1,
             "#276419"
            ]
           ],
           "sequential": [
            [
             0,
             "#0d0887"
            ],
            [
             0.1111111111111111,
             "#46039f"
            ],
            [
             0.2222222222222222,
             "#7201a8"
            ],
            [
             0.3333333333333333,
             "#9c179e"
            ],
            [
             0.4444444444444444,
             "#bd3786"
            ],
            [
             0.5555555555555556,
             "#d8576b"
            ],
            [
             0.6666666666666666,
             "#ed7953"
            ],
            [
             0.7777777777777778,
             "#fb9f3a"
            ],
            [
             0.8888888888888888,
             "#fdca26"
            ],
            [
             1,
             "#f0f921"
            ]
           ],
           "sequentialminus": [
            [
             0,
             "#0d0887"
            ],
            [
             0.1111111111111111,
             "#46039f"
            ],
            [
             0.2222222222222222,
             "#7201a8"
            ],
            [
             0.3333333333333333,
             "#9c179e"
            ],
            [
             0.4444444444444444,
             "#bd3786"
            ],
            [
             0.5555555555555556,
             "#d8576b"
            ],
            [
             0.6666666666666666,
             "#ed7953"
            ],
            [
             0.7777777777777778,
             "#fb9f3a"
            ],
            [
             0.8888888888888888,
             "#fdca26"
            ],
            [
             1,
             "#f0f921"
            ]
           ]
          },
          "colorway": [
           "#636efa",
           "#EF553B",
           "#00cc96",
           "#ab63fa",
           "#FFA15A",
           "#19d3f3",
           "#FF6692",
           "#B6E880",
           "#FF97FF",
           "#FECB52"
          ],
          "font": {
           "color": "#2a3f5f"
          },
          "geo": {
           "bgcolor": "white",
           "lakecolor": "white",
           "landcolor": "#E5ECF6",
           "showlakes": true,
           "showland": true,
           "subunitcolor": "white"
          },
          "hoverlabel": {
           "align": "left"
          },
          "hovermode": "closest",
          "mapbox": {
           "style": "light"
          },
          "paper_bgcolor": "white",
          "plot_bgcolor": "#E5ECF6",
          "polar": {
           "angularaxis": {
            "gridcolor": "white",
            "linecolor": "white",
            "ticks": ""
           },
           "bgcolor": "#E5ECF6",
           "radialaxis": {
            "gridcolor": "white",
            "linecolor": "white",
            "ticks": ""
           }
          },
          "scene": {
           "xaxis": {
            "backgroundcolor": "#E5ECF6",
            "gridcolor": "white",
            "gridwidth": 2,
            "linecolor": "white",
            "showbackground": true,
            "ticks": "",
            "zerolinecolor": "white"
           },
           "yaxis": {
            "backgroundcolor": "#E5ECF6",
            "gridcolor": "white",
            "gridwidth": 2,
            "linecolor": "white",
            "showbackground": true,
            "ticks": "",
            "zerolinecolor": "white"
           },
           "zaxis": {
            "backgroundcolor": "#E5ECF6",
            "gridcolor": "white",
            "gridwidth": 2,
            "linecolor": "white",
            "showbackground": true,
            "ticks": "",
            "zerolinecolor": "white"
           }
          },
          "shapedefaults": {
           "line": {
            "color": "#2a3f5f"
           }
          },
          "ternary": {
           "aaxis": {
            "gridcolor": "white",
            "linecolor": "white",
            "ticks": ""
           },
           "baxis": {
            "gridcolor": "white",
            "linecolor": "white",
            "ticks": ""
           },
           "bgcolor": "#E5ECF6",
           "caxis": {
            "gridcolor": "white",
            "linecolor": "white",
            "ticks": ""
           }
          },
          "title": {
           "x": 0.05
          },
          "xaxis": {
           "automargin": true,
           "gridcolor": "white",
           "linecolor": "white",
           "ticks": "",
           "title": {
            "standoff": 15
           },
           "zerolinecolor": "white",
           "zerolinewidth": 2
          },
          "yaxis": {
           "automargin": true,
           "gridcolor": "white",
           "linecolor": "white",
           "ticks": "",
           "title": {
            "standoff": 15
           },
           "zerolinecolor": "white",
           "zerolinewidth": 2
          }
         }
        },
        "title": {
         "text": "Comparison of Portfolio vs. Nasdaq Composite Growth"
        },
        "xaxis": {
         "tickformat": "%b %Y",
         "tickmode": "auto",
         "title": {
          "text": "Date"
         },
         "type": "date"
        },
        "yaxis": {
         "title": {
          "text": "Normalized Value (Base 100)"
         }
        }
       }
      }
     },
     "metadata": {},
     "output_type": "display_data"
    }
   ],
   "source": [
    "best_port_assets = best_portfolio['tickers']\n",
    "best_port_assets_test_data = raw_data_test.loc[:, best_port_assets]\n",
    "\n",
    "Nasdaq_comp = getNasdaq_comp(best_port_assets_test_data.index[0], best_port_assets_test_data.index[-1])\n",
    "\n",
    "best_portfolio_weights = best_portfolio['weights']\n",
    "normalized_prices = best_port_assets_test_data.div(best_port_assets_test_data.iloc[0])\n",
    "daily_returns = normalized_prices.pct_change()\n",
    "weighted_returns = daily_returns.mul(best_portfolio_weights, axis='columns')\n",
    "portfolio_daily_returns = weighted_returns.sum(axis=1)\n",
    "portfolio_cumulative_returns = (1 + portfolio_daily_returns).cumprod()\n",
    "\n",
    "portfolio_start = portfolio_cumulative_returns.iloc[0]\n",
    "portfolio_normalized = (portfolio_cumulative_returns / portfolio_start) * 100\n",
    "\n",
    "fig = go.Figure()\n",
    "\n",
    "fig.add_trace(go.Scatter(\n",
    "    x=Nasdaq_comp.index,\n",
    "    y=Nasdaq_comp['Normalized'],\n",
    "    mode='lines',\n",
    "    name='Nasdaq Composite'\n",
    "))\n",
    "\n",
    "fig.add_trace(go.Scatter(\n",
    "    x=portfolio_cumulative_returns.index,\n",
    "    y=portfolio_normalized,\n",
    "    mode='lines',\n",
    "    name='Portfolio Growth'\n",
    "))\n",
    "\n",
    "fig.add_trace(go.Scatter(\n",
    "    x=ML_cumulative_returns.index,\n",
    "    y=ML_portfolio_normalized,\n",
    "    mode='lines',\n",
    "    name='Portfolio Growth'\n",
    "))\n",
    "\n",
    "fig.update_layout(\n",
    "    title='Comparison of Portfolio vs. Nasdaq Composite Growth',\n",
    "    xaxis_title='Date',\n",
    "    yaxis_title='Normalized Value (Base 100)',\n",
    "    xaxis=dict(\n",
    "        type='date',\n",
    "        tickformat='%b %Y',\n",
    "        tickmode='auto'\n",
    "    )\n",
    ")"
   ]
  },
  {
   "cell_type": "markdown",
   "metadata": {},
   "source": [
    "## 8.0 Find Optimal Portfolio Size"
   ]
  },
  {
   "cell_type": "code",
   "execution_count": 114,
   "metadata": {},
   "outputs": [
    {
     "name": "stderr",
     "output_type": "stream",
     "text": [
      "100%|██████████| 10000/10000 [00:06<00:00, 1487.65it/s]\n"
     ]
    },
    {
     "data": {
      "application/vnd.plotly.v1+json": {
       "config": {
        "plotlyServerURL": "https://plot.ly"
       },
       "data": [
        {
         "mode": "lines",
         "name": "Average Volatility",
         "type": "scatter",
         "x": [
          3,
          4,
          5,
          6,
          7,
          8,
          9,
          10,
          11,
          12,
          13,
          14,
          15,
          16,
          17,
          18,
          19,
          20,
          21,
          22,
          23,
          24,
          25,
          26,
          27,
          28,
          29,
          30,
          31,
          32,
          33,
          34,
          35,
          36,
          37,
          38,
          39,
          40,
          41,
          42,
          43,
          44,
          45,
          46,
          47,
          48,
          49
         ],
         "y": [
          0.1302774622802069,
          0.11869698867476054,
          0.1116104121993617,
          0.10692170371041874,
          0.10621579414144197,
          0.1027347065749046,
          0.09668566094670432,
          0.09645652606008369,
          0.09212340086648561,
          0.09025047339630432,
          0.09151517026050231,
          0.08941393050196676,
          0.08721191826069874,
          0.08689588319686277,
          0.08638110009467072,
          0.08450466142797662,
          0.08557549045735967,
          0.08511554789755744,
          0.08408969014500078,
          0.08248341999581,
          0.0816297669590523,
          0.08163346684328585,
          0.08081949571601653,
          0.08037732520257189,
          0.08000079554427315,
          0.07905206772013108,
          0.07860993529822842,
          0.07895310724149482,
          0.07903482465156106,
          0.07833036996970161,
          0.07726310456380603,
          0.07710392978489443,
          0.07722137803689243,
          0.07685995328559538,
          0.07661376664446237,
          0.07668380700194648,
          0.0757342563830037,
          0.07627704803228534,
          0.07542427359361412,
          0.07625554569209549,
          0.07538323967815419,
          0.07524953832798817,
          0.0754294154313336,
          0.07514664850139731,
          0.0745638907352235,
          0.07472250278086014,
          0.07434861448045328
         ]
        },
        {
         "mode": "lines",
         "name": "Average Returns",
         "type": "scatter",
         "x": [
          3,
          4,
          5,
          6,
          7,
          8,
          9,
          10,
          11,
          12,
          13,
          14,
          15,
          16,
          17,
          18,
          19,
          20,
          21,
          22,
          23,
          24,
          25,
          26,
          27,
          28,
          29,
          30,
          31,
          32,
          33,
          34,
          35,
          36,
          37,
          38,
          39,
          40,
          41,
          42,
          43,
          44,
          45,
          46,
          47,
          48,
          49
         ],
         "y": [
          0.1000627736320062,
          0.06244607966226223,
          0.07252012188170852,
          0.06242488673453677,
          0.08435542499744039,
          0.06775670392450664,
          0.05009465049859884,
          0.05428160663773836,
          0.0683394200606256,
          0.05706105508306058,
          0.07252673958081149,
          0.0813038903492915,
          0.06296518813440792,
          0.07044681035577692,
          0.08173790148890606,
          0.07565110624561727,
          0.06155914620385939,
          0.07369293567447197,
          0.06684135392064874,
          0.07182774948749698,
          0.07402101176195451,
          0.055997992217330476,
          0.07399598337152198,
          0.058510847353568166,
          0.06553629651283063,
          0.07115224416048832,
          0.06431985125316651,
          0.06547257349091955,
          0.07230026451686457,
          0.06874616047715819,
          0.06585118776080477,
          0.0679641011569498,
          0.07256792119092458,
          0.06958807749541679,
          0.06015678069545891,
          0.07355859942395211,
          0.07171957373001928,
          0.05899321658546469,
          0.07084471906417278,
          0.07325751556081661,
          0.06865164869526381,
          0.06418946518283096,
          0.06625071290103847,
          0.06944014298944864,
          0.0648757681407182,
          0.0638320711953001,
          0.064224308675455
         ]
        }
       ],
       "layout": {
        "template": {
         "data": {
          "bar": [
           {
            "error_x": {
             "color": "#2a3f5f"
            },
            "error_y": {
             "color": "#2a3f5f"
            },
            "marker": {
             "line": {
              "color": "#E5ECF6",
              "width": 0.5
             },
             "pattern": {
              "fillmode": "overlay",
              "size": 10,
              "solidity": 0.2
             }
            },
            "type": "bar"
           }
          ],
          "barpolar": [
           {
            "marker": {
             "line": {
              "color": "#E5ECF6",
              "width": 0.5
             },
             "pattern": {
              "fillmode": "overlay",
              "size": 10,
              "solidity": 0.2
             }
            },
            "type": "barpolar"
           }
          ],
          "carpet": [
           {
            "aaxis": {
             "endlinecolor": "#2a3f5f",
             "gridcolor": "white",
             "linecolor": "white",
             "minorgridcolor": "white",
             "startlinecolor": "#2a3f5f"
            },
            "baxis": {
             "endlinecolor": "#2a3f5f",
             "gridcolor": "white",
             "linecolor": "white",
             "minorgridcolor": "white",
             "startlinecolor": "#2a3f5f"
            },
            "type": "carpet"
           }
          ],
          "choropleth": [
           {
            "colorbar": {
             "outlinewidth": 0,
             "ticks": ""
            },
            "type": "choropleth"
           }
          ],
          "contour": [
           {
            "colorbar": {
             "outlinewidth": 0,
             "ticks": ""
            },
            "colorscale": [
             [
              0,
              "#0d0887"
             ],
             [
              0.1111111111111111,
              "#46039f"
             ],
             [
              0.2222222222222222,
              "#7201a8"
             ],
             [
              0.3333333333333333,
              "#9c179e"
             ],
             [
              0.4444444444444444,
              "#bd3786"
             ],
             [
              0.5555555555555556,
              "#d8576b"
             ],
             [
              0.6666666666666666,
              "#ed7953"
             ],
             [
              0.7777777777777778,
              "#fb9f3a"
             ],
             [
              0.8888888888888888,
              "#fdca26"
             ],
             [
              1,
              "#f0f921"
             ]
            ],
            "type": "contour"
           }
          ],
          "contourcarpet": [
           {
            "colorbar": {
             "outlinewidth": 0,
             "ticks": ""
            },
            "type": "contourcarpet"
           }
          ],
          "heatmap": [
           {
            "colorbar": {
             "outlinewidth": 0,
             "ticks": ""
            },
            "colorscale": [
             [
              0,
              "#0d0887"
             ],
             [
              0.1111111111111111,
              "#46039f"
             ],
             [
              0.2222222222222222,
              "#7201a8"
             ],
             [
              0.3333333333333333,
              "#9c179e"
             ],
             [
              0.4444444444444444,
              "#bd3786"
             ],
             [
              0.5555555555555556,
              "#d8576b"
             ],
             [
              0.6666666666666666,
              "#ed7953"
             ],
             [
              0.7777777777777778,
              "#fb9f3a"
             ],
             [
              0.8888888888888888,
              "#fdca26"
             ],
             [
              1,
              "#f0f921"
             ]
            ],
            "type": "heatmap"
           }
          ],
          "histogram": [
           {
            "marker": {
             "pattern": {
              "fillmode": "overlay",
              "size": 10,
              "solidity": 0.2
             }
            },
            "type": "histogram"
           }
          ],
          "histogram2d": [
           {
            "colorbar": {
             "outlinewidth": 0,
             "ticks": ""
            },
            "colorscale": [
             [
              0,
              "#0d0887"
             ],
             [
              0.1111111111111111,
              "#46039f"
             ],
             [
              0.2222222222222222,
              "#7201a8"
             ],
             [
              0.3333333333333333,
              "#9c179e"
             ],
             [
              0.4444444444444444,
              "#bd3786"
             ],
             [
              0.5555555555555556,
              "#d8576b"
             ],
             [
              0.6666666666666666,
              "#ed7953"
             ],
             [
              0.7777777777777778,
              "#fb9f3a"
             ],
             [
              0.8888888888888888,
              "#fdca26"
             ],
             [
              1,
              "#f0f921"
             ]
            ],
            "type": "histogram2d"
           }
          ],
          "histogram2dcontour": [
           {
            "colorbar": {
             "outlinewidth": 0,
             "ticks": ""
            },
            "colorscale": [
             [
              0,
              "#0d0887"
             ],
             [
              0.1111111111111111,
              "#46039f"
             ],
             [
              0.2222222222222222,
              "#7201a8"
             ],
             [
              0.3333333333333333,
              "#9c179e"
             ],
             [
              0.4444444444444444,
              "#bd3786"
             ],
             [
              0.5555555555555556,
              "#d8576b"
             ],
             [
              0.6666666666666666,
              "#ed7953"
             ],
             [
              0.7777777777777778,
              "#fb9f3a"
             ],
             [
              0.8888888888888888,
              "#fdca26"
             ],
             [
              1,
              "#f0f921"
             ]
            ],
            "type": "histogram2dcontour"
           }
          ],
          "mesh3d": [
           {
            "colorbar": {
             "outlinewidth": 0,
             "ticks": ""
            },
            "type": "mesh3d"
           }
          ],
          "parcoords": [
           {
            "line": {
             "colorbar": {
              "outlinewidth": 0,
              "ticks": ""
             }
            },
            "type": "parcoords"
           }
          ],
          "pie": [
           {
            "automargin": true,
            "type": "pie"
           }
          ],
          "scatter": [
           {
            "fillpattern": {
             "fillmode": "overlay",
             "size": 10,
             "solidity": 0.2
            },
            "type": "scatter"
           }
          ],
          "scatter3d": [
           {
            "line": {
             "colorbar": {
              "outlinewidth": 0,
              "ticks": ""
             }
            },
            "marker": {
             "colorbar": {
              "outlinewidth": 0,
              "ticks": ""
             }
            },
            "type": "scatter3d"
           }
          ],
          "scattercarpet": [
           {
            "marker": {
             "colorbar": {
              "outlinewidth": 0,
              "ticks": ""
             }
            },
            "type": "scattercarpet"
           }
          ],
          "scattergeo": [
           {
            "marker": {
             "colorbar": {
              "outlinewidth": 0,
              "ticks": ""
             }
            },
            "type": "scattergeo"
           }
          ],
          "scattergl": [
           {
            "marker": {
             "colorbar": {
              "outlinewidth": 0,
              "ticks": ""
             }
            },
            "type": "scattergl"
           }
          ],
          "scattermap": [
           {
            "marker": {
             "colorbar": {
              "outlinewidth": 0,
              "ticks": ""
             }
            },
            "type": "scattermap"
           }
          ],
          "scattermapbox": [
           {
            "marker": {
             "colorbar": {
              "outlinewidth": 0,
              "ticks": ""
             }
            },
            "type": "scattermapbox"
           }
          ],
          "scatterpolar": [
           {
            "marker": {
             "colorbar": {
              "outlinewidth": 0,
              "ticks": ""
             }
            },
            "type": "scatterpolar"
           }
          ],
          "scatterpolargl": [
           {
            "marker": {
             "colorbar": {
              "outlinewidth": 0,
              "ticks": ""
             }
            },
            "type": "scatterpolargl"
           }
          ],
          "scatterternary": [
           {
            "marker": {
             "colorbar": {
              "outlinewidth": 0,
              "ticks": ""
             }
            },
            "type": "scatterternary"
           }
          ],
          "surface": [
           {
            "colorbar": {
             "outlinewidth": 0,
             "ticks": ""
            },
            "colorscale": [
             [
              0,
              "#0d0887"
             ],
             [
              0.1111111111111111,
              "#46039f"
             ],
             [
              0.2222222222222222,
              "#7201a8"
             ],
             [
              0.3333333333333333,
              "#9c179e"
             ],
             [
              0.4444444444444444,
              "#bd3786"
             ],
             [
              0.5555555555555556,
              "#d8576b"
             ],
             [
              0.6666666666666666,
              "#ed7953"
             ],
             [
              0.7777777777777778,
              "#fb9f3a"
             ],
             [
              0.8888888888888888,
              "#fdca26"
             ],
             [
              1,
              "#f0f921"
             ]
            ],
            "type": "surface"
           }
          ],
          "table": [
           {
            "cells": {
             "fill": {
              "color": "#EBF0F8"
             },
             "line": {
              "color": "white"
             }
            },
            "header": {
             "fill": {
              "color": "#C8D4E3"
             },
             "line": {
              "color": "white"
             }
            },
            "type": "table"
           }
          ]
         },
         "layout": {
          "annotationdefaults": {
           "arrowcolor": "#2a3f5f",
           "arrowhead": 0,
           "arrowwidth": 1
          },
          "autotypenumbers": "strict",
          "coloraxis": {
           "colorbar": {
            "outlinewidth": 0,
            "ticks": ""
           }
          },
          "colorscale": {
           "diverging": [
            [
             0,
             "#8e0152"
            ],
            [
             0.1,
             "#c51b7d"
            ],
            [
             0.2,
             "#de77ae"
            ],
            [
             0.3,
             "#f1b6da"
            ],
            [
             0.4,
             "#fde0ef"
            ],
            [
             0.5,
             "#f7f7f7"
            ],
            [
             0.6,
             "#e6f5d0"
            ],
            [
             0.7,
             "#b8e186"
            ],
            [
             0.8,
             "#7fbc41"
            ],
            [
             0.9,
             "#4d9221"
            ],
            [
             1,
             "#276419"
            ]
           ],
           "sequential": [
            [
             0,
             "#0d0887"
            ],
            [
             0.1111111111111111,
             "#46039f"
            ],
            [
             0.2222222222222222,
             "#7201a8"
            ],
            [
             0.3333333333333333,
             "#9c179e"
            ],
            [
             0.4444444444444444,
             "#bd3786"
            ],
            [
             0.5555555555555556,
             "#d8576b"
            ],
            [
             0.6666666666666666,
             "#ed7953"
            ],
            [
             0.7777777777777778,
             "#fb9f3a"
            ],
            [
             0.8888888888888888,
             "#fdca26"
            ],
            [
             1,
             "#f0f921"
            ]
           ],
           "sequentialminus": [
            [
             0,
             "#0d0887"
            ],
            [
             0.1111111111111111,
             "#46039f"
            ],
            [
             0.2222222222222222,
             "#7201a8"
            ],
            [
             0.3333333333333333,
             "#9c179e"
            ],
            [
             0.4444444444444444,
             "#bd3786"
            ],
            [
             0.5555555555555556,
             "#d8576b"
            ],
            [
             0.6666666666666666,
             "#ed7953"
            ],
            [
             0.7777777777777778,
             "#fb9f3a"
            ],
            [
             0.8888888888888888,
             "#fdca26"
            ],
            [
             1,
             "#f0f921"
            ]
           ]
          },
          "colorway": [
           "#636efa",
           "#EF553B",
           "#00cc96",
           "#ab63fa",
           "#FFA15A",
           "#19d3f3",
           "#FF6692",
           "#B6E880",
           "#FF97FF",
           "#FECB52"
          ],
          "font": {
           "color": "#2a3f5f"
          },
          "geo": {
           "bgcolor": "white",
           "lakecolor": "white",
           "landcolor": "#E5ECF6",
           "showlakes": true,
           "showland": true,
           "subunitcolor": "white"
          },
          "hoverlabel": {
           "align": "left"
          },
          "hovermode": "closest",
          "mapbox": {
           "style": "light"
          },
          "paper_bgcolor": "white",
          "plot_bgcolor": "#E5ECF6",
          "polar": {
           "angularaxis": {
            "gridcolor": "white",
            "linecolor": "white",
            "ticks": ""
           },
           "bgcolor": "#E5ECF6",
           "radialaxis": {
            "gridcolor": "white",
            "linecolor": "white",
            "ticks": ""
           }
          },
          "scene": {
           "xaxis": {
            "backgroundcolor": "#E5ECF6",
            "gridcolor": "white",
            "gridwidth": 2,
            "linecolor": "white",
            "showbackground": true,
            "ticks": "",
            "zerolinecolor": "white"
           },
           "yaxis": {
            "backgroundcolor": "#E5ECF6",
            "gridcolor": "white",
            "gridwidth": 2,
            "linecolor": "white",
            "showbackground": true,
            "ticks": "",
            "zerolinecolor": "white"
           },
           "zaxis": {
            "backgroundcolor": "#E5ECF6",
            "gridcolor": "white",
            "gridwidth": 2,
            "linecolor": "white",
            "showbackground": true,
            "ticks": "",
            "zerolinecolor": "white"
           }
          },
          "shapedefaults": {
           "line": {
            "color": "#2a3f5f"
           }
          },
          "ternary": {
           "aaxis": {
            "gridcolor": "white",
            "linecolor": "white",
            "ticks": ""
           },
           "baxis": {
            "gridcolor": "white",
            "linecolor": "white",
            "ticks": ""
           },
           "bgcolor": "#E5ECF6",
           "caxis": {
            "gridcolor": "white",
            "linecolor": "white",
            "ticks": ""
           }
          },
          "title": {
           "x": 0.05
          },
          "xaxis": {
           "automargin": true,
           "gridcolor": "white",
           "linecolor": "white",
           "ticks": "",
           "title": {
            "standoff": 15
           },
           "zerolinecolor": "white",
           "zerolinewidth": 2
          },
          "yaxis": {
           "automargin": true,
           "gridcolor": "white",
           "linecolor": "white",
           "ticks": "",
           "title": {
            "standoff": 15
           },
           "zerolinecolor": "white",
           "zerolinewidth": 2
          }
         }
        },
        "title": {
         "text": "Average Volatility and Returns by Portfolio Size"
        },
        "xaxis": {
         "title": {
          "text": "Number of Assets in Portfolio"
         },
         "type": "category"
        },
        "yaxis": {
         "title": {
          "text": "Average Value"
         }
        }
       }
      }
     },
     "metadata": {},
     "output_type": "display_data"
    }
   ],
   "source": [
    "all_portfolios, dominant_portfolios = MonteCarloRBA(names, cov, annualized_returns, 10000, \"random\", 3, 50)\n",
    "\n",
    "rd_portfolio_sizes = [len(portfolio['tickers']) for portfolio in all_portfolios]\n",
    "rd_volatility = [np.sqrt(portfolio['variance']) for portfolio in all_portfolios]\n",
    "rd_returns = [portfolio['return'] for portfolio in all_portfolios]\n",
    "\n",
    "volatility_by_size = defaultdict(list)\n",
    "for size, vol, ret in zip(rd_portfolio_sizes, rd_volatility, rd_returns):\n",
    "    volatility_by_size[size].append((vol, ret))\n",
    "\n",
    "average_volatility = {size: np.mean([v[0] for v in vols]) for size, vols in volatility_by_size.items()}\n",
    "average_returns = {size: np.mean([v[1] for v in vols]) for size, vols in volatility_by_size.items()}\n",
    "\n",
    "sorted_sizes = sorted(average_volatility.keys())\n",
    "sorted_average_vols = [average_volatility[size] for size in sorted_sizes]\n",
    "sorted_average_rets = [average_returns[size] for size in sorted_sizes]\n",
    "\n",
    "fig = go.Figure()\n",
    "fig.add_trace(go.Scatter(\n",
    "    x=sorted_sizes,\n",
    "    y=sorted_average_vols,\n",
    "    mode='lines',\n",
    "    name='Average Volatility'\n",
    "))\n",
    "fig.add_trace(go.Scatter(\n",
    "    x=sorted_sizes,\n",
    "    y=sorted_average_rets,\n",
    "    mode='lines',\n",
    "    name='Average Returns'\n",
    "))\n",
    "\n",
    "fig.update_layout(\n",
    "    title='Average Volatility and Returns by Portfolio Size',\n",
    "    xaxis_title='Number of Assets in Portfolio',\n",
    "    yaxis_title='Average Value',\n",
    "    xaxis=dict(type='category'),\n",
    ")\n",
    "\n",
    "fig.show()\n"
   ]
  }
 ],
 "metadata": {
  "colab": {
   "include_colab_link": true,
   "provenance": []
  },
  "kernelspec": {
   "display_name": "roboA",
   "language": "python",
   "name": "python3"
  },
  "language_info": {
   "codemirror_mode": {
    "name": "ipython",
    "version": 3
   },
   "file_extension": ".py",
   "mimetype": "text/x-python",
   "name": "python",
   "nbconvert_exporter": "python",
   "pygments_lexer": "ipython3",
   "version": "3.12.8"
  }
 },
 "nbformat": 4,
 "nbformat_minor": 4
}
