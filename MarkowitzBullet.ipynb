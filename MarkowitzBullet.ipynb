{
  "cells": [
    {
      "cell_type": "markdown",
      "metadata": {
        "colab_type": "text",
        "id": "view-in-github"
      },
      "source": [
        "<a href=\"https://colab.research.google.com/github/LinusTC/RoboAdvisor/blob/main/MarkowitzBullet.ipynb\" target=\"_parent\"><img src=\"https://colab.research.google.com/assets/colab-badge.svg\" alt=\"Open In Colab\"/></a>"
      ]
    },
    {
      "cell_type": "markdown",
      "metadata": {
        "id": "bj91ThpmabDR"
      },
      "source": [
        "# Markowitz Efficient Frontier"
      ]
    },
    {
      "cell_type": "markdown",
      "metadata": {
        "id": "w31yow0TabDS"
      },
      "source": [
        "## 1. Imports"
      ]
    },
    {
      "cell_type": "code",
      "execution_count": null,
      "metadata": {
        "colab": {
          "base_uri": "https://localhost:8080/",
          "height": 383
        },
        "id": "EvpNgOhEabDS",
        "outputId": "1237e7b8-5891-491f-82f1-201f9f82154b"
      },
      "outputs": [],
      "source": [
        "import pandas as pd\n",
        "import numpy as np\n",
        "import plotly.graph_objects as go\n",
        "from tqdm import tqdm\n",
        "from collections import defaultdict\n",
        "\n",
        "from fetchData import fetch_raw_data_yf, get_matrices, getNasdaqStocks\n",
        "from MonteCarloRBA import MonteCarloRBA\n",
        "from portfolioFunction import maximize_sharpe, create_correlation_matrix, get_sharpe_ratio\n",
        "from LearningRBA import find_best_asset_to_remove, find_asset_to_add\n"
      ]
    },
    {
      "cell_type": "markdown",
      "metadata": {
        "id": "fnySmmT6abDT"
      },
      "source": [
        "## 2. Fetch Data"
      ]
    },
    {
      "cell_type": "markdown",
      "metadata": {
        "id": "8bz1yuGUabDT"
      },
      "source": [
        "### Get all Nasdaq Stocks"
      ]
    },
    {
      "cell_type": "code",
      "execution_count": null,
      "metadata": {
        "id": "H4G7yoJuabDT",
        "outputId": "e001fe58-7383-4067-f734-0041fd0352c3"
      },
      "outputs": [],
      "source": [
        "assets= [\n",
        "    \"AAPL\",  # Apple Inc.\n",
        "    \"MSFT\",  # Microsoft Corporation\n",
        "    \"AMZN\",  # Amazon.com Inc.\n",
        "    \"GOOGL\", # Alphabet Inc. (Google) Class A\n",
        "    \"GOOG\",  # Alphabet Inc. (Google) Class C\n",
        "    \"META\",    # Meta Platforms Inc (formerly Facebook)\n",
        "    \"TSLA\",  # Tesla Inc\n",
        "    \"UA\", # Berkshire Hathaway Inc. Class B\n",
        "    \"JPM\",   # JPMorgan Chase & Co.\n",
        "    \"V\",     # Visa Inc.\n",
        "    \"JNJ\",   # Johnson & Johnson\n",
        "    \"WMT\",   # Walmart Inc.\n",
        "    \"PG\",    # Procter & Gamble Co.\n",
        "    \"UNH\",   # UnitedHealth Group Inc.\n",
        "    \"MA\",    # Mastercard Inc.\n",
        "    \"NVDA\",  # NVIDIA Corporation\n",
        "    \"HD\",    # Home Depot Inc.\n",
        "    \"BAC\",   # Bank of America Corp\n",
        "    \"DIS\",   # Walt Disney Co\n",
        "    \"PYPL\",  # PayPal Holdings\n",
        "    \"VZ\",    # Verizon Communications Inc.\n",
        "    \"ADBE\",  # Adobe Inc.\n",
        "    \"CMCSA\", # Comcast Corporation\n",
        "    \"NFLX\",  # Netflix Inc.\n",
        "    \"KO\",    # Coca-Cola Co\n",
        "    \"NKE\",   # NIKE Inc.\n",
        "    \"PFE\",   # Pfizer Inc.\n",
        "    \"MRK\",   # Merck & Co., Inc.\n",
        "    \"PEP\",   # PepsiCo, Inc.\n",
        "    \"T\",     # AT&T Inc.\n",
        "    \"ABT\",   # Abbott Laboratories\n",
        "    \"CRM\",   # Salesforce.com Inc.\n",
        "    \"ORCL\",  # Oracle Corporation\n",
        "    \"ABBV\",  # AbbVie Inc.\n",
        "    \"CSCO\",  # Cisco Systems, Inc.\n",
        "    \"INTC\",  # Intel Corporation\n",
        "    \"TMO\",   # Thermo Fisher Scientific Inc.\n",
        "    \"XOM\",   # Exxon Mobil Corporation\n",
        "    \"ACN\",   # Accenture plc\n",
        "    \"LLY\",   # Eli Lilly and Company\n",
        "    \"COST\",  # Costco Wholesale Corporation\n",
        "    \"MCD\",   # McDonald's Corp\n",
        "    \"DHR\",   # Danaher Corporation\n",
        "    \"MDT\",   # Medtronic plc\n",
        "    \"NEE\",   # NextEra Energy, Inc.\n",
        "    \"BMY\",   # Bristol-Myers Squibb Company\n",
        "    \"QCOM\",  # Qualcomm Inc\n",
        "    \"CVX\",   # Chevron Corporation\n",
        "    \"WFC\",   # Wells Fargo & Co\n",
        "    \"LMT\",    # Lockheed Martin Corporation\n",
        "    \"GS\",   # Goldman Sachs Group, Inc.\n",
        "    \"MS\",   # Morgan Stanley\n",
        "    \"IBM\",  # International Business Machines Corporation\n",
        "    \"GE\",   # General Electric Company\n",
        "    \"F\",    # Ford Motor Company\n",
        "    \"GM\",   # General Motors Company\n",
        "    \"UBER\", # Uber Technologies, Inc.\n",
        "    \"LYFT\", # Lyft, Inc.\n",
        "    \"SNAP\", # Snap Inc.\n",
        "    \"TWTR\", # Twitter, Inc.\n",
        "    \"SPOT\", # Spotify Technology S.A.\n",
        "    \"AMD\",  # Advanced Micro Devices, Inc.\n",
        "    \"TXN\",  # Texas Instruments Incorporated\n",
        "    \"BABA\", # Alibaba Group Holding Limited\n",
        "    \"SAP\",  # SAP SE\n",
        "    \"HON\",  # Honeywell International Inc.\n",
        "    \"BA\",   # Boeing Company\n",
        "    \"RTX\",  # Raytheon Technologies Corporation\n",
        "    \"CAT\",  # Caterpillar Inc.\n",
        "    \"DE\",   # Deere & Company\n",
        "    \"MMM\",  # 3M Company\n",
        "    \"DUK\",  # Duke Energy Corporation\n",
        "    \"SO\",   # Southern Company\n",
        "    \"EXC\",  # Exelon Corporation\n",
        "    \"NEE\",  # NextEra Energy, Inc.\n",
        "    \"AEP\",  # American Electric Power Company, Inc.\n",
        "    \"SRE\",  # Sempra Energy\n",
        "    \"ETN\",  # Eaton Corporation plc\n",
        "    \"EMR\",  # Emerson Electric Co.\n",
        "    \"SYY\",  # Sysco Corporation\n",
        "    \"KR\",   # Kroger Co.\n",
        "    \"GIS\",  # General Mills, Inc.\n",
        "    \"K\",    # Kellogg Company\n",
        "    \"CPB\",  # Campbell Soup Company\n",
        "    \"MO\",   # Altria Group, Inc.\n",
        "    \"PM\",   # Philip Morris International Inc.\n",
        "    \"BTI\",  # British American Tobacco plc\n",
        "    \"RDY\",  # Dr. Reddy's Laboratories Ltd.\n",
        "    \"GILD\", # Gilead Sciences, Inc.\n",
        "    \"BIIB\", # Biogen Inc.\n",
        "    \"CELG\", # Celgene Corporation\n",
        "    \"AMGN\", # Amgen Inc.\n",
        "    \"SYK\",  # Stryker Corporation\n",
        "    \"BSX\",  # Boston Scientific Corporation\n",
        "    \"ISRG\", # Intuitive Surgical, Inc.\n",
        "    \"ZBH\",  # Zimmer Biomet Holdings, Inc.\n",
        "    \"EW\",   # Edwards Lifesciences Corporation\n",
        "    \"RMD\",  # ResMed Inc.\n",
        "    \"VRTX\", # Vertex Pharmaceuticals Incorporated\n",
        "    \"REGN\",  # Regeneron Pharmaceuticals, Inc.\n",
        "]\n",
        "\n",
        "len(assets)"
      ]
    },
    {
      "cell_type": "code",
      "execution_count": null,
      "metadata": {
        "id": "AvJfF_5YabDU",
        "outputId": "bc33cbb4-c69c-402c-ef5e-aa6a74be18bf"
      },
      "outputs": [],
      "source": [
        "start_date = \"2015-01-01\"\n",
        "end_date = \"2018-01-01\"\n",
        "raw_data, asset_errors, max_combination= fetch_raw_data_yf(assets, start_date, end_date)"
      ]
    },
    {
      "cell_type": "markdown",
      "metadata": {},
      "source": [
        "### Split into test and train"
      ]
    },
    {
      "cell_type": "code",
      "execution_count": null,
      "metadata": {},
      "outputs": [],
      "source": [
        "split_index = raw_data.shape[0] // 2\n",
        "\n",
        "raw_data_train = raw_data.iloc[:split_index, :]\n",
        "raw_data_test = raw_data.iloc[split_index:, :]"
      ]
    },
    {
      "cell_type": "markdown",
      "metadata": {
        "id": "FyXEENSbabDU"
      },
      "source": [
        "## 3. Mean, Volatility and Covariance"
      ]
    },
    {
      "cell_type": "code",
      "execution_count": null,
      "metadata": {
        "id": "V8UnmVllabDU",
        "outputId": "19b78ca1-1975-4b21-a0ec-9ac14f9e4aa7"
      },
      "outputs": [],
      "source": [
        "names, cov, annualized_returns = get_matrices(raw_data_train, max_combination, None)[0]\n",
        "correlation_matrix = create_correlation_matrix(cov)\n",
        "volatility = np.sqrt(np.diag(cov))\n",
        "\n",
        "risk_free_rate=0\n",
        "sharpe_ratios = (annualized_returns - risk_free_rate) / volatility"
      ]
    },
    {
      "cell_type": "code",
      "execution_count": null,
      "metadata": {
        "id": "70g4vm3qabDU",
        "outputId": "4a5fac4a-b6d5-4ef4-b1a6-95d9e1ba9882"
      },
      "outputs": [],
      "source": [
        "hover_texts = [\n",
        "    f\"{ticker} <br>Volatility: {vol:.3f} <br>Returns: {ret:.3%} <br>Sharpe Ratio: {sr:.3f}\"\n",
        "    for ticker, vol, ret, sr in zip(names, volatility, annualized_returns, sharpe_ratios)\n",
        "]\n",
        "\n",
        "fig = go.Figure(data=go.Scatter(\n",
        "    x=volatility,\n",
        "    y=annualized_returns,\n",
        "    mode='markers',\n",
        "    hoverinfo='text',\n",
        "    hovertext=hover_texts,\n",
        "    marker=dict(color=sharpe_ratios, colorscale = 'RdBu', size=6, line=dict(width=1), colorbar=dict(title=\"Sharpe<br>Ratio\")\n",
        "    )\n",
        "))\n",
        "\n",
        "fig.update_layout(\n",
        "    title='Markowitz Mean Varience Model',\n",
        "    xaxis_title='Volatility (Standard Deviation)',\n",
        "    yaxis_title='Annualized Returns',\n",
        ")\n",
        "\n",
        "fig.show()\n"
      ]
    },
    {
      "cell_type": "markdown",
      "metadata": {
        "id": "E3i7iFfDabDV"
      },
      "source": [
        "## 4.0 Monte Carlo Method"
      ]
    },
    {
      "cell_type": "code",
      "execution_count": null,
      "metadata": {
        "id": "fsgRqCSWabDV",
        "outputId": "fbaa41fb-9c70-48ed-a734-216727080f91"
      },
      "outputs": [],
      "source": [
        "all_portfolios, dominant_portfolios = MonteCarloRBA(names, cov, annualized_returns, 1000)"
      ]
    },
    {
      "cell_type": "code",
      "execution_count": null,
      "metadata": {
        "id": "09tYBpwxabDV",
        "outputId": "14b280fa-725b-45a4-de2b-4d74a617924e"
      },
      "outputs": [],
      "source": [
        "print (len(dominant_portfolios) ,len(all_portfolios))"
      ]
    },
    {
      "cell_type": "code",
      "execution_count": null,
      "metadata": {
        "id": "uuj_oTIZabDV",
        "outputId": "d9689c48-1eb6-4d40-8c4e-30e71495cd1d"
      },
      "outputs": [],
      "source": [
        "fig1 = go.Figure()\n",
        "\n",
        "fig1.add_trace(go.Scatter(\n",
        "    x=[np.sqrt(p[\"variance\"]) for p in all_portfolios],\n",
        "    y=[p[\"return\"] for p in all_portfolios],\n",
        "    mode='markers',\n",
        "    marker=dict(\n",
        "        color=[p[\"sharpe\"] for p in all_portfolios],\n",
        "        showscale=True,\n",
        "        size=7,\n",
        "        line=dict(width=1),\n",
        "        colorscale=\"RdBu\",\n",
        "        colorbar=dict(title=\"Sharpe<br>Ratio\")\n",
        "    ),\n",
        "    hoverinfo='text',\n",
        "    text=[\n",
        "        f\"Return: {p['return']:.3%}<br>Volatility: {np.sqrt(p['variance']):.3f}<br>\" +\n",
        "        f\"Sharpe Ratio: {p['return'] / (np.sqrt(p['variance'])):.3f}<br>\" +\n",
        "        \"<br>\".join([f\"{p['tickers'][i]}: Weight={p['weights'][i]:.3f}\" for i in range(len(p['tickers']))])\n",
        "        for p in all_portfolios\n",
        "    ]\n",
        "))\n",
        "\n",
        "fig1.update_layout(\n",
        "    xaxis=dict(title='Volatility (Standard Deviation)'),\n",
        "    yaxis=dict(title='Annualised Returns'),\n",
        "    title='Sample of Random Portfolios'\n",
        ")\n",
        "\n",
        "fig1.show()"
      ]
    },
    {
      "cell_type": "code",
      "execution_count": null,
      "metadata": {
        "id": "uHkH6APvabDV",
        "outputId": "162334c7-50bd-4a43-f2e3-a19de077fdb7"
      },
      "outputs": [],
      "source": [
        "fig2 = go.Figure()\n",
        "\n",
        "fig2.add_trace(go.Scatter(\n",
        "    x=[np.sqrt(p[\"variance\"]) for p in dominant_portfolios],  # Convert variance to volatility\n",
        "    y=[p[\"return\"] for p in dominant_portfolios],\n",
        "    mode='markers',\n",
        "    marker=dict(\n",
        "        color=[p[\"return\"] / (np.sqrt(p[\"variance\"])) for p in dominant_portfolios],  # Sharpe Ratio\n",
        "        showscale=True,\n",
        "        size=7,\n",
        "        line=dict(width=1),\n",
        "        colorscale=\"RdBu\",\n",
        "        colorbar=dict(title=\"Sharpe<br>Ratio\")\n",
        "    ),\n",
        "    hoverinfo='text',\n",
        "    text=[\n",
        "        f\"Return: {p['return']:.3%}<br>Volatility: {np.sqrt(p['variance']):.3f}<br>\" +\n",
        "        f\"Sharpe Ratio: {p['sharpe']:.3f}<br>\" +\n",
        "        \"<br>\".join([f\"{p['tickers'][i]}: Weight={p['weights'][i]:.3f}\" for i in range(len(p['tickers']))])\n",
        "        for p in dominant_portfolios\n",
        "    ],\n",
        "    name=\"Portfolios\"\n",
        "))\n",
        "\n",
        "fig2.add_trace(go.Scatter(\n",
        "    x=volatility,\n",
        "    y=annualized_returns,\n",
        "    mode='markers',\n",
        "    hoverinfo='text',\n",
        "    hovertext=[\n",
        "        f\"{name} <br>Volatility: {vol:.3f} <br>Returns: {ret:.3%} <br>Sharpe Ratio: {sr:.3f}\"\n",
        "        for name, vol, ret, sr in zip(names, volatility, annualized_returns, sharpe_ratios)\n",
        "    ],\n",
        "    marker=dict(\n",
        "        color='brown',\n",
        "        size=5,\n",
        "        symbol='triangle-up',  # Sets the marker shape to a triangle\n",
        "        line=dict(width=1)\n",
        "    ),\n",
        "    name=\"Individual Assets\"\n",
        "))\n",
        "\n",
        "fig2.update_layout(\n",
        "    title='Sample of Random Portfolios',\n",
        "    xaxis_title='Volatility (Standard Deviation)',\n",
        "    yaxis_title='Annualized Return',\n",
        "    legend=dict(y=5\n",
        "    )\n",
        ")\n",
        "\n",
        "\n",
        "fig2.show()"
      ]
    },
    {
      "cell_type": "markdown",
      "metadata": {
        "id": "6-WDtJTgabDV"
      },
      "source": [
        "## 5.0 ML Method"
      ]
    },
    {
      "cell_type": "code",
      "execution_count": null,
      "metadata": {
        "id": "7xbdm-4NabDV",
        "outputId": "419aa594-3dc4-4678-a08a-865db3f896d0"
      },
      "outputs": [],
      "source": [
        "def MLRBA(ticker, covariances, returns, num_iterations=1000, risk_free_rate = 0, return_power = 1, std_power = 1, return_weight=2/5, corr_weight=1/5, vol_weight= 2/5):\n",
        "    num_assets =  8\n",
        "    base_portfolio = np.random.choice(list(ticker), num_assets, replace=False)\n",
        "    base_portfolio = list(ticker)[:num_assets]\n",
        "    highest_weighted_sharpe = -np.inf\n",
        "\n",
        "    all_portfolios = []\n",
        "\n",
        "    tested_assets = set()\n",
        "\n",
        "    def _get_portfolio_stats (portfolio_assets, risk_free_rate = 0):\n",
        "        p_asset_ret = returns.loc[portfolio_assets].values\n",
        "        p_asset_var = covariances.loc[portfolio_assets, portfolio_assets].values\n",
        "        best_p_weights = maximize_sharpe(p_asset_ret, p_asset_var)\n",
        "        p_ret = np.dot(best_p_weights,p_asset_ret)\n",
        "        p_var = np.dot(best_p_weights, p_asset_var @ best_p_weights)\n",
        "        sharpe = get_sharpe_ratio(p_ret, p_var, risk_free_rate, return_power, std_power)\n",
        "\n",
        "        return p_asset_ret, p_asset_var, sharpe, p_ret, p_var, best_p_weights\n",
        "\n",
        "    def _update_portfolios_array(portfolios, assets, weights, p_ret, p_var):\n",
        "        portfolios.append({\n",
        "            \"tickers\": assets,\n",
        "            \"weights\": weights,\n",
        "            \"return\": p_ret,\n",
        "            \"variance\": p_var,\n",
        "            \"sharpe\": (p_ret-risk_free_rate)/np.sqrt(p_var),\n",
        "        })\n",
        "\n",
        "    curr_ret, curr_var, curr_weighted_sharpe, curr_p_return, curr_p_variance, curr_p_weights = _get_portfolio_stats(base_portfolio, risk_free_rate)\n",
        "    _update_portfolios_array(all_portfolios, base_portfolio, curr_p_weights, curr_p_return, curr_p_variance)\n",
        "\n",
        "    good_portfolios = all_portfolios.copy()\n",
        "    best_portfolio = base_portfolio.copy()\n",
        "\n",
        "    highest_weighted_sharpe = curr_weighted_sharpe\n",
        "    for _ in tqdm(range(num_iterations)):\n",
        "        asset_to_remove = find_best_asset_to_remove(best_portfolio, curr_var, curr_ret, return_weight, corr_weight, vol_weight)     #most_correlated_asset, _, _ = find_correlation_matrix(portfolio, curr_variances)\n",
        "        new_portfolio = [str(asset) for asset in best_portfolio if asset != asset_to_remove]\n",
        "\n",
        "        ranked_assets = find_asset_to_add(new_portfolio, ticker, covariances, returns, return_weight, corr_weight, vol_weight)         # Find the next best asset to add to the portfolio\n",
        "        asset_to_add = ranked_assets.index[0]\n",
        "\n",
        "        for asset in ranked_assets.index:\n",
        "            if asset not in tested_assets:\n",
        "                asset_to_add = asset\n",
        "                break\n",
        "\n",
        "        new_portfolio.append(asset_to_add)\n",
        "        tested_assets.add(asset_to_add)\n",
        "\n",
        "        # Substitute in and measure portfolio performance based on sharpe ratio\n",
        "        new_returns, new_var, new_weighted_sharpe, new_p_return, new_p_variance, new_p_weights = _get_portfolio_stats(new_portfolio, risk_free_rate)\n",
        "\n",
        "        _update_portfolios_array(all_portfolios, new_portfolio, new_p_weights, new_p_return, new_p_variance)\n",
        "\n",
        "        if new_weighted_sharpe > highest_weighted_sharpe:\n",
        "            highest_weighted_sharpe = new_weighted_sharpe\n",
        "            best_portfolio = new_portfolio\n",
        "            curr_ret, curr_var = new_returns, new_var\n",
        "\n",
        "            _update_portfolios_array(good_portfolios, new_portfolio, new_p_weights, new_p_return, new_p_variance)\n",
        "\n",
        "            tested_assets.clear()\n",
        "\n",
        "        # If Sharpe ratio was worse, then move on to the next least correlated asset\n",
        "        # If Sharpe ratio is better, set as new base portfolio, and repeat the process for num_iterations times\n",
        "        # Adjust the sharpe ratio, maybe more emphasis on returns/volatility\n",
        "        # Update weights to value return or corr\n",
        "        # See how many iterations it takes to get here, whats a good threshold/stopping point\n",
        "        # Backtesting\n",
        "        # Train a model to maybe predict the sharpe ratio of a portfolio\n",
        "\n",
        "    base_details = good_portfolios[0]\n",
        "    best_details = good_portfolios[-1]\n",
        "\n",
        "    return base_details, best_details, good_portfolios, all_portfolios\n",
        "\n",
        "base_portfolio, best_portfolio, good_portfolios, total_portfolios = MLRBA(names, cov, annualized_returns, 1000)\n",
        "base_portfolio, best_portfolio"
      ]
    },
    {
      "cell_type": "code",
      "execution_count": null,
      "metadata": {
        "id": "Znh8vrYQabDW",
        "outputId": "5bbb5e46-8027-4b21-e833-e8ce13010964"
      },
      "outputs": [],
      "source": [
        "fig = go.Figure()\n",
        "\n",
        "fig.add_trace(go.Scatter(\n",
        "    x=[p[\"variance\"]**0.5 for p in total_portfolios],  # Convert variance to volatility\n",
        "    y=[p[\"return\"] for p in total_portfolios],\n",
        "    mode='markers',\n",
        "    marker=dict(\n",
        "        color=[p[\"sharpe\"] for p in total_portfolios],  # Sharpe Ratio\n",
        "        showscale=True,\n",
        "        size=7,\n",
        "        line=dict(width=1),\n",
        "        colorscale=\"RdBu\",\n",
        "        colorbar=dict(title=\"Sharpe<br>Ratio\")\n",
        "    ),\n",
        "    hoverinfo='text',\n",
        "    text=[\n",
        "        f\"Return: {p['return']:.3%}<br>Volatility: {p['variance']**0.5:.3f}<br>\" +\n",
        "        f\"Sharpe Ratio: {p['return'] / (p['variance']**0.5):.3f}<br>\" +\n",
        "        \"<br>\".join([f\"{p['tickers'][i]}: Weight={p['weights'][i]:.3f}\" for i in range(len(p['tickers']))])\n",
        "        for p in total_portfolios\n",
        "    ],\n",
        "    name=\"Portfolios\"\n",
        "))\n",
        "\n",
        "fig.add_trace(go.Scatter(\n",
        "    x=volatility,\n",
        "    y=annualized_returns,\n",
        "    mode='markers',\n",
        "    hoverinfo='text',\n",
        "    hovertext=[\n",
        "        f\"{name} <br>Volatility: {vol:.3f} <br>Returns: {ret:.3%} <br>Sharpe Ratio: {sr:.3f}\"\n",
        "        for name, vol, ret, sr in zip(names, volatility, annualized_returns, sharpe_ratios)\n",
        "    ],\n",
        "    marker=dict(\n",
        "        color='brown',\n",
        "        size=5,\n",
        "        symbol='triangle-up',  # Sets the marker shape to a triangle\n",
        "        line=dict(width=1)\n",
        "    ),\n",
        "    name=\"Individual Assets\"\n",
        "))\n",
        "\n",
        "fig.update_layout(\n",
        "    title='Sample of Random Portfolios',\n",
        "    xaxis_title='Volatility (Standard Deviation)',\n",
        "    yaxis_title='Annualized Return',\n",
        "    legend=dict(y=5\n",
        "    )\n",
        ")\n",
        "\n",
        "\n",
        "fig.show()"
      ]
    },
    {
      "cell_type": "code",
      "execution_count": null,
      "metadata": {
        "id": "fcrLEvL3abDW",
        "outputId": "34ac5990-952c-469b-db42-e170795a403f"
      },
      "outputs": [],
      "source": [
        "sharpe_ratios = [portfolio['sharpe'] for portfolio in total_portfolios]\n",
        "\n",
        "fig = go.Figure(data=go.Scatter(x=list(range(len(sharpe_ratios))), y=sharpe_ratios, mode='lines+markers'))\n",
        "fig.update_layout(title='Sharpe Ratio Over Iterations',\n",
        "                  xaxis_title='Iteration',\n",
        "                  yaxis_title='Sharpe Ratio',\n",
        "                  )\n",
        "fig.show()"
      ]
    },
    {
      "cell_type": "markdown",
      "metadata": {
        "id": "KFtx1nkbabDW"
      },
      "source": [
        "## 6.0 Find Optimal Portfolio Size"
      ]
    },
    {
      "cell_type": "code",
      "execution_count": null,
      "metadata": {
        "id": "TSnuoMXUabDW",
        "outputId": "cae0f228-2076-478e-c55d-64b3ce16ec55"
      },
      "outputs": [],
      "source": [
        "all_portfolios, dominant_portfolios = MonteCarloRBA(names, cov, annualized_returns, 10000, \"random\", 3, 50)"
      ]
    },
    {
      "cell_type": "code",
      "execution_count": null,
      "metadata": {
        "id": "pXRrClKnabDW",
        "outputId": "389ed85c-e2b7-499d-d207-67051ca55dfe"
      },
      "outputs": [],
      "source": [
        "rd_portfolio_sizes = [len(portfolio['tickers']) for portfolio in all_portfolios]\n",
        "rd_volatility = [np.sqrt(portfolio['variance']) for portfolio in all_portfolios]\n",
        "rd_returns = [portfolio['return'] for portfolio in all_portfolios]\n",
        "\n",
        "volatility_by_size = defaultdict(list)\n",
        "for size, vol, ret in zip(rd_portfolio_sizes, rd_volatility, rd_returns):\n",
        "    volatility_by_size[size].append((vol, ret))\n",
        "\n",
        "average_volatility = {size: np.mean([v[0] for v in vols]) for size, vols in volatility_by_size.items()}\n",
        "average_returns = {size: np.mean([v[1] for v in vols]) for size, vols in volatility_by_size.items()}\n",
        "\n",
        "sorted_sizes = sorted(average_volatility.keys())\n",
        "sorted_average_vols = [average_volatility[size] for size in sorted_sizes]\n",
        "sorted_average_rets = [average_returns[size] for size in sorted_sizes]\n",
        "\n",
        "fig = go.Figure()\n",
        "fig.add_trace(go.Scatter(\n",
        "    x=sorted_sizes,\n",
        "    y=sorted_average_vols,\n",
        "    mode='lines',\n",
        "    name='Average Volatility'\n",
        "))\n",
        "fig.add_trace(go.Scatter(\n",
        "    x=sorted_sizes,\n",
        "    y=sorted_average_rets,\n",
        "    mode='lines',\n",
        "    name='Average Returns'\n",
        "))\n",
        "\n",
        "fig.update_layout(\n",
        "    title='Average Volatility and Returns by Portfolio Size',\n",
        "    xaxis_title='Number of Assets in Portfolio',\n",
        "    yaxis_title='Average Value',\n",
        "    xaxis=dict(type='category'),\n",
        ")\n",
        "\n",
        "fig.show()\n"
      ]
    },
    {
      "cell_type": "markdown",
      "metadata": {},
      "source": [
        "## 7.0 Testing Against Others"
      ]
    },
    {
      "cell_type": "code",
      "execution_count": null,
      "metadata": {},
      "outputs": [],
      "source": [
        "best_port_assets = best_portfolio['tickers']\n",
        "best_port_assets_test_data = raw_data_test.loc[:, best_port_assets]\n",
        "\n",
        "Nasdaq_comp, asset_errors, max_combination = fetch_raw_data_yf([\"^IXIC\"], best_port_assets_test_data.index[0], best_port_assets_test_data.index[-1])\n",
        "nasdaq_start = Nasdaq_comp['^IXIC_Close'].iloc[0]\n",
        "Nasdaq_comp['Normalized'] = (Nasdaq_comp['^IXIC_Close'] / nasdaq_start) * 100\n",
        "\n",
        "best_portfolio_weights = best_portfolio['weights']\n",
        "daily_returns = best_port_assets_test_data.pct_change()\n",
        "weighted_returns = daily_returns.mul(best_portfolio_weights, axis='columns')\n",
        "portfolio_daily_returns = weighted_returns.sum(axis=1)\n",
        "portfolio_cumulative_returns = (1 + portfolio_daily_returns).cumprod()\n",
        "\n",
        "portfolio_start = portfolio_cumulative_returns.iloc[0]\n",
        "portfolio_normalized = (portfolio_cumulative_returns / portfolio_start) * 100\n",
        "\n",
        "fig = go.Figure()\n",
        "\n",
        "fig.add_trace(go.Scatter(\n",
        "    x=Nasdaq_comp.index,\n",
        "    y=Nasdaq_comp['Normalized'],\n",
        "    mode='lines',\n",
        "    name='Nasdaq Composite'\n",
        "))\n",
        "\n",
        "fig.add_trace(go.Scatter(\n",
        "    x=portfolio_cumulative_returns.index,\n",
        "    y=portfolio_normalized,\n",
        "    mode='lines',\n",
        "    name='Portfolio Growth'\n",
        "))\n",
        "\n",
        "fig.update_layout(\n",
        "    title='Comparison of Portfolio vs. Nasdaq Composite Growth',\n",
        "    xaxis_title='Date',\n",
        "    yaxis_title='Normalized Value (Base 100)',\n",
        "    xaxis=dict(\n",
        "        type='date',\n",
        "        tickformat='%b %Y',\n",
        "        tickmode='auto'\n",
        "    )\n",
        ")\n",
        "\n",
        "fig.show()\n"
      ]
    }
  ],
  "metadata": {
    "colab": {
      "include_colab_link": true,
      "provenance": []
    },
    "kernelspec": {
      "display_name": "roboA",
      "language": "python",
      "name": "python3"
    },
    "language_info": {
      "codemirror_mode": {
        "name": "ipython",
        "version": 3
      },
      "file_extension": ".py",
      "mimetype": "text/x-python",
      "name": "python",
      "nbconvert_exporter": "python",
      "pygments_lexer": "ipython3",
      "version": "3.12.8"
    }
  },
  "nbformat": 4,
  "nbformat_minor": 0
}
