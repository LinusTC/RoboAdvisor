{
  "cells": [
    {
      "cell_type": "markdown",
      "metadata": {
        "colab_type": "text",
        "id": "view-in-github"
      },
      "source": [
        "<a href=\"https://colab.research.google.com/github/LinusTC/RoboAdvisor/blob/main/MarkowitzBullet.ipynb\" target=\"_parent\"><img src=\"https://colab.research.google.com/assets/colab-badge.svg\" alt=\"Open In Colab\"/></a>"
      ]
    },
    {
      "cell_type": "markdown",
      "metadata": {
        "id": "bj91ThpmabDR"
      },
      "source": [
        "# Markowitz Efficient Frontier"
      ]
    },
    {
      "cell_type": "markdown",
      "metadata": {
        "id": "w31yow0TabDS"
      },
      "source": [
        "## 1. Imports"
      ]
    },
    {
      "cell_type": "code",
      "execution_count": 48,
      "metadata": {
        "colab": {
          "base_uri": "https://localhost:8080/",
          "height": 383
        },
        "id": "EvpNgOhEabDS",
        "outputId": "1237e7b8-5891-491f-82f1-201f9f82154b"
      },
      "outputs": [],
      "source": [
        "import pandas as pd\n",
        "import numpy as np\n",
        "import plotly.graph_objects as go\n",
        "from tqdm import tqdm\n",
        "from collections import defaultdict\n",
        "\n",
        "from fetchData import fetch_raw_data_yf, get_matrices, getNasdaqStocks\n",
        "from MonteCarloRBA import MonteCarloRBA\n",
        "from portfolioFunction import maximize_sharpe, create_correlation_matrix, get_sharpe_ratio\n",
        "from LearningRBA import find_best_asset_to_remove, find_asset_to_add\n"
      ]
    },
    {
      "cell_type": "markdown",
      "metadata": {
        "id": "fnySmmT6abDT"
      },
      "source": [
        "## 2. Fetch Data"
      ]
    },
    {
      "cell_type": "markdown",
      "metadata": {
        "id": "8bz1yuGUabDT"
      },
      "source": [
        "### Get all Nasdaq Stocks"
      ]
    },
    {
      "cell_type": "code",
      "execution_count": 49,
      "metadata": {
        "id": "H4G7yoJuabDT",
        "outputId": "e001fe58-7383-4067-f734-0041fd0352c3"
      },
      "outputs": [
        {
          "data": {
            "text/plain": [
              "100"
            ]
          },
          "execution_count": 49,
          "metadata": {},
          "output_type": "execute_result"
        }
      ],
      "source": [
        "assets= [\n",
        "    \"AAPL\",  # Apple Inc.\n",
        "    \"MSFT\",  # Microsoft Corporation\n",
        "    \"AMZN\",  # Amazon.com Inc.\n",
        "    \"GOOGL\", # Alphabet Inc. (Google) Class A\n",
        "    \"GOOG\",  # Alphabet Inc. (Google) Class C\n",
        "    \"META\",    # Meta Platforms Inc (formerly Facebook)\n",
        "    \"TSLA\",  # Tesla Inc\n",
        "    \"UA\", # Berkshire Hathaway Inc. Class B\n",
        "    \"JPM\",   # JPMorgan Chase & Co.\n",
        "    \"V\",     # Visa Inc.\n",
        "    \"JNJ\",   # Johnson & Johnson\n",
        "    \"WMT\",   # Walmart Inc.\n",
        "    \"PG\",    # Procter & Gamble Co.\n",
        "    \"UNH\",   # UnitedHealth Group Inc.\n",
        "    \"MA\",    # Mastercard Inc.\n",
        "    \"NVDA\",  # NVIDIA Corporation\n",
        "    \"HD\",    # Home Depot Inc.\n",
        "    \"BAC\",   # Bank of America Corp\n",
        "    \"DIS\",   # Walt Disney Co\n",
        "    \"PYPL\",  # PayPal Holdings\n",
        "    \"VZ\",    # Verizon Communications Inc.\n",
        "    \"ADBE\",  # Adobe Inc.\n",
        "    \"CMCSA\", # Comcast Corporation\n",
        "    \"NFLX\",  # Netflix Inc.\n",
        "    \"KO\",    # Coca-Cola Co\n",
        "    \"NKE\",   # NIKE Inc.\n",
        "    \"PFE\",   # Pfizer Inc.\n",
        "    \"MRK\",   # Merck & Co., Inc.\n",
        "    \"PEP\",   # PepsiCo, Inc.\n",
        "    \"T\",     # AT&T Inc.\n",
        "    \"ABT\",   # Abbott Laboratories\n",
        "    \"CRM\",   # Salesforce.com Inc.\n",
        "    \"ORCL\",  # Oracle Corporation\n",
        "    \"ABBV\",  # AbbVie Inc.\n",
        "    \"CSCO\",  # Cisco Systems, Inc.\n",
        "    \"INTC\",  # Intel Corporation\n",
        "    \"TMO\",   # Thermo Fisher Scientific Inc.\n",
        "    \"XOM\",   # Exxon Mobil Corporation\n",
        "    \"ACN\",   # Accenture plc\n",
        "    \"LLY\",   # Eli Lilly and Company\n",
        "    \"COST\",  # Costco Wholesale Corporation\n",
        "    \"MCD\",   # McDonald's Corp\n",
        "    \"DHR\",   # Danaher Corporation\n",
        "    \"MDT\",   # Medtronic plc\n",
        "    \"NEE\",   # NextEra Energy, Inc.\n",
        "    \"BMY\",   # Bristol-Myers Squibb Company\n",
        "    \"QCOM\",  # Qualcomm Inc\n",
        "    \"CVX\",   # Chevron Corporation\n",
        "    \"WFC\",   # Wells Fargo & Co\n",
        "    \"LMT\",    # Lockheed Martin Corporation\n",
        "    \"GS\",   # Goldman Sachs Group, Inc.\n",
        "    \"MS\",   # Morgan Stanley\n",
        "    \"IBM\",  # International Business Machines Corporation\n",
        "    \"GE\",   # General Electric Company\n",
        "    \"F\",    # Ford Motor Company\n",
        "    \"GM\",   # General Motors Company\n",
        "    \"UBER\", # Uber Technologies, Inc.\n",
        "    \"LYFT\", # Lyft, Inc.\n",
        "    \"SNAP\", # Snap Inc.\n",
        "    \"TWTR\", # Twitter, Inc.\n",
        "    \"SPOT\", # Spotify Technology S.A.\n",
        "    \"AMD\",  # Advanced Micro Devices, Inc.\n",
        "    \"TXN\",  # Texas Instruments Incorporated\n",
        "    \"BABA\", # Alibaba Group Holding Limited\n",
        "    \"SAP\",  # SAP SE\n",
        "    \"HON\",  # Honeywell International Inc.\n",
        "    \"BA\",   # Boeing Company\n",
        "    \"RTX\",  # Raytheon Technologies Corporation\n",
        "    \"CAT\",  # Caterpillar Inc.\n",
        "    \"DE\",   # Deere & Company\n",
        "    \"MMM\",  # 3M Company\n",
        "    \"DUK\",  # Duke Energy Corporation\n",
        "    \"SO\",   # Southern Company\n",
        "    \"EXC\",  # Exelon Corporation\n",
        "    \"NEE\",  # NextEra Energy, Inc.\n",
        "    \"AEP\",  # American Electric Power Company, Inc.\n",
        "    \"SRE\",  # Sempra Energy\n",
        "    \"ETN\",  # Eaton Corporation plc\n",
        "    \"EMR\",  # Emerson Electric Co.\n",
        "    \"SYY\",  # Sysco Corporation\n",
        "    \"KR\",   # Kroger Co.\n",
        "    \"GIS\",  # General Mills, Inc.\n",
        "    \"K\",    # Kellogg Company\n",
        "    \"CPB\",  # Campbell Soup Company\n",
        "    \"MO\",   # Altria Group, Inc.\n",
        "    \"PM\",   # Philip Morris International Inc.\n",
        "    \"BTI\",  # British American Tobacco plc\n",
        "    \"RDY\",  # Dr. Reddy's Laboratories Ltd.\n",
        "    \"GILD\", # Gilead Sciences, Inc.\n",
        "    \"BIIB\", # Biogen Inc.\n",
        "    \"CELG\", # Celgene Corporation\n",
        "    \"AMGN\", # Amgen Inc.\n",
        "    \"SYK\",  # Stryker Corporation\n",
        "    \"BSX\",  # Boston Scientific Corporation\n",
        "    \"ISRG\", # Intuitive Surgical, Inc.\n",
        "    \"ZBH\",  # Zimmer Biomet Holdings, Inc.\n",
        "    \"EW\",   # Edwards Lifesciences Corporation\n",
        "    \"RMD\",  # ResMed Inc.\n",
        "    \"VRTX\", # Vertex Pharmaceuticals Incorporated\n",
        "    \"REGN\",  # Regeneron Pharmaceuticals, Inc.\n",
        "]\n",
        "\n",
        "len(assets)"
      ]
    },
    {
      "cell_type": "code",
      "execution_count": 50,
      "metadata": {
        "id": "AvJfF_5YabDU",
        "outputId": "bc33cbb4-c69c-402c-ef5e-aa6a74be18bf"
      },
      "outputs": [
        {
          "name": "stderr",
          "output_type": "stream",
          "text": [
            "[*********************100%***********************]  99 of 99 completed\n",
            "\n",
            "5 Failed downloads:\n",
            "['CELG', 'TWTR']: YFTzMissingError('possibly delisted; no timezone found')\n",
            "['SPOT', 'LYFT', 'UBER']: YFPricesMissingError('possibly delisted; no price data found  (1d 2015-01-01 -> 2018-01-01) (Yahoo error = \"Data doesn\\'t exist for startDate = 1420088400, endDate = 1514782800\")')\n"
          ]
        },
        {
          "name": "stdout",
          "output_type": "stream",
          "text": [
            "Omitted assets ( 5 ):  ['CELG', 'SPOT', 'LYFT', 'TWTR', 'UBER']\n",
            "Time to fetch data: 3.78 seconds\n"
          ]
        }
      ],
      "source": [
        "start_date = \"2015-01-01\"\n",
        "end_date = \"2018-01-01\"\n",
        "raw_data, asset_errors, max_combination= fetch_raw_data_yf(assets, start_date, end_date)"
      ]
    },
    {
      "cell_type": "markdown",
      "metadata": {},
      "source": [
        "### Split into test and train"
      ]
    },
    {
      "cell_type": "code",
      "execution_count": 51,
      "metadata": {},
      "outputs": [],
      "source": [
        "split_index = raw_data.shape[0] // 2\n",
        "\n",
        "raw_data_train = raw_data.iloc[:split_index, :]\n",
        "raw_data_test = raw_data.iloc[split_index:, :]"
      ]
    },
    {
      "cell_type": "markdown",
      "metadata": {
        "id": "FyXEENSbabDU"
      },
      "source": [
        "## 3. Mean, Volatility and Covariance"
      ]
    },
    {
      "cell_type": "code",
      "execution_count": 52,
      "metadata": {
        "id": "V8UnmVllabDU",
        "outputId": "19b78ca1-1975-4b21-a0ec-9ac14f9e4aa7"
      },
      "outputs": [
        {
          "name": "stderr",
          "output_type": "stream",
          "text": [
            "1it [00:00, 398.17it/s]\n"
          ]
        }
      ],
      "source": [
        "names, cov, annualized_returns = get_matrices(raw_data_train, max_combination, None)[0]\n",
        "correlation_matrix = create_correlation_matrix(cov)\n",
        "volatility = np.sqrt(np.diag(cov))\n",
        "\n",
        "risk_free_rate=0\n",
        "sharpe_ratios = (annualized_returns - risk_free_rate) / volatility"
      ]
    },
    {
      "cell_type": "code",
      "execution_count": 53,
      "metadata": {
        "id": "70g4vm3qabDU",
        "outputId": "4a5fac4a-b6d5-4ef4-b1a6-95d9e1ba9882"
      },
      "outputs": [
        {
          "data": {
            "application/vnd.plotly.v1+json": {
              "config": {
                "plotlyServerURL": "https://plot.ly"
              },
              "data": [
                {
                  "hoverinfo": "text",
                  "hovertext": [
                    "XOM_Close <br>Volatility: 0.120 <br>Returns: -7.396% <br>Sharpe Ratio: -0.615",
                    "ETN_Close <br>Volatility: 0.141 <br>Returns: 21.693% <br>Sharpe Ratio: 1.541",
                    "TXN_Close <br>Volatility: 0.179 <br>Returns: 13.001% <br>Sharpe Ratio: 0.725",
                    "DUK_Close <br>Volatility: 0.089 <br>Returns: 10.492% <br>Sharpe Ratio: 1.180",
                    "LLY_Close <br>Volatility: 0.158 <br>Returns: 0.828% <br>Sharpe Ratio: 0.052",
                    "BA_Close <br>Volatility: 0.198 <br>Returns: 70.035% <br>Sharpe Ratio: 3.543",
                    "AMGN_Close <br>Volatility: 0.183 <br>Returns: -3.148% <br>Sharpe Ratio: -0.172",
                    "TMO_Close <br>Volatility: 0.142 <br>Returns: 24.099% <br>Sharpe Ratio: 1.701",
                    "UNH_Close <br>Volatility: 0.118 <br>Returns: 35.013% <br>Sharpe Ratio: 2.965",
                    "ACN_Close <br>Volatility: 0.147 <br>Returns: 11.058% <br>Sharpe Ratio: 0.754",
                    "ISRG_Close <br>Volatility: 0.180 <br>Returns: 56.678% <br>Sharpe Ratio: 3.157",
                    "BIIB_Close <br>Volatility: 0.229 <br>Returns: -3.324% <br>Sharpe Ratio: -0.145",
                    "AEP_Close <br>Volatility: 0.101 <br>Returns: 16.390% <br>Sharpe Ratio: 1.620",
                    "EMR_Close <br>Volatility: 0.165 <br>Returns: -0.844% <br>Sharpe Ratio: -0.051",
                    "CVX_Close <br>Volatility: 0.149 <br>Returns: -6.629% <br>Sharpe Ratio: -0.444",
                    "F_Close <br>Volatility: 0.186 <br>Returns: -22.923% <br>Sharpe Ratio: -1.229",
                    "GE_Close <br>Volatility: 0.166 <br>Returns: -37.831% <br>Sharpe Ratio: -2.284",
                    "AMZN_Close <br>Volatility: 0.171 <br>Returns: 36.711% <br>Sharpe Ratio: 2.142",
                    "AAPL_Close <br>Volatility: 0.162 <br>Returns: 17.462% <br>Sharpe Ratio: 1.081",
                    "V_Close <br>Volatility: 0.110 <br>Returns: 28.881% <br>Sharpe Ratio: 2.616",
                    "ABBV_Close <br>Volatility: 0.124 <br>Returns: 28.825% <br>Sharpe Ratio: 2.316",
                    "MA_Close <br>Volatility: 0.124 <br>Returns: 34.348% <br>Sharpe Ratio: 2.760",
                    "GM_Close <br>Volatility: 0.170 <br>Returns: -6.545% <br>Sharpe Ratio: -0.385",
                    "MO_Close <br>Volatility: 0.200 <br>Returns: -33.192% <br>Sharpe Ratio: -1.659",
                    "UA_Close <br>Volatility: 0.335 <br>Returns: -11.114% <br>Sharpe Ratio: -0.332",
                    "JNJ_Close <br>Volatility: 0.111 <br>Returns: 18.793% <br>Sharpe Ratio: 1.693",
                    "CPB_Close <br>Volatility: 0.149 <br>Returns: -26.972% <br>Sharpe Ratio: -1.805",
                    "DHR_Close <br>Volatility: 0.126 <br>Returns: -13.997% <br>Sharpe Ratio: -1.114",
                    "HON_Close <br>Volatility: 0.099 <br>Returns: 19.309% <br>Sharpe Ratio: 1.960",
                    "NEE_Close <br>Volatility: 0.105 <br>Returns: 28.234% <br>Sharpe Ratio: 2.689",
                    "GILD_Close <br>Volatility: 0.153 <br>Returns: 22.185% <br>Sharpe Ratio: 1.451",
                    "DIS_Close <br>Volatility: 0.123 <br>Returns: 0.345% <br>Sharpe Ratio: 0.028",
                    "AMD_Close <br>Volatility: 0.694 <br>Returns: -5.109% <br>Sharpe Ratio: -0.074",
                    "KO_Close <br>Volatility: 0.076 <br>Returns: 22.618% <br>Sharpe Ratio: 2.987",
                    "K_Close <br>Volatility: 0.135 <br>Returns: -22.065% <br>Sharpe Ratio: -1.636",
                    "MDT_Close <br>Volatility: 0.114 <br>Returns: 8.328% <br>Sharpe Ratio: 0.730",
                    "ZBH_Close <br>Volatility: 0.176 <br>Returns: 7.620% <br>Sharpe Ratio: 0.433",
                    "HD_Close <br>Volatility: 0.134 <br>Returns: 5.554% <br>Sharpe Ratio: 0.413",
                    "SNAP_Close <br>Volatility: 0.669 <br>Returns: -141.181% <br>Sharpe Ratio: -2.112",
                    "NKE_Close <br>Volatility: 0.259 <br>Returns: 6.009% <br>Sharpe Ratio: 0.232",
                    "SAP_Close <br>Volatility: 0.147 <br>Returns: 30.725% <br>Sharpe Ratio: 2.084",
                    "BSX_Close <br>Volatility: 0.134 <br>Returns: 15.214% <br>Sharpe Ratio: 1.138",
                    "ABT_Close <br>Volatility: 0.133 <br>Returns: 20.651% <br>Sharpe Ratio: 1.556",
                    "DE_Close <br>Volatility: 0.179 <br>Returns: 40.807% <br>Sharpe Ratio: 2.279",
                    "T_Close <br>Volatility: 0.145 <br>Returns: -10.384% <br>Sharpe Ratio: -0.718",
                    "NVDA_Close <br>Volatility: 0.443 <br>Returns: 120.347% <br>Sharpe Ratio: 2.715",
                    "WFC_Close <br>Volatility: 0.176 <br>Returns: -18.838% <br>Sharpe Ratio: -1.068",
                    "MS_Close <br>Volatility: 0.219 <br>Returns: 5.606% <br>Sharpe Ratio: 0.256",
                    "ORCL_Close <br>Volatility: 0.187 <br>Returns: 38.781% <br>Sharpe Ratio: 2.072",
                    "SYK_Close <br>Volatility: 0.116 <br>Returns: 29.992% <br>Sharpe Ratio: 2.595",
                    "CAT_Close <br>Volatility: 0.233 <br>Returns: 49.457% <br>Sharpe Ratio: 2.120",
                    "GIS_Close <br>Volatility: 0.124 <br>Returns: -17.660% <br>Sharpe Ratio: -1.423",
                    "BABA_Close <br>Volatility: 0.270 <br>Returns: 98.505% <br>Sharpe Ratio: 3.643",
                    "PFE_Close <br>Volatility: 0.098 <br>Returns: -7.335% <br>Sharpe Ratio: -0.752",
                    "META_Close <br>Volatility: 0.158 <br>Returns: 51.648% <br>Sharpe Ratio: 3.262",
                    "GOOG_Close <br>Volatility: 0.169 <br>Returns: 27.511% <br>Sharpe Ratio: 1.624",
                    "COST_Close <br>Volatility: 0.194 <br>Returns: -17.769% <br>Sharpe Ratio: -0.916",
                    "CSCO_Close <br>Volatility: 0.159 <br>Returns: -17.299% <br>Sharpe Ratio: -1.085",
                    "CMCSA_Close <br>Volatility: 0.154 <br>Returns: 20.680% <br>Sharpe Ratio: 1.342",
                    "TSLA_Close <br>Volatility: 0.381 <br>Returns: 61.965% <br>Sharpe Ratio: 1.627",
                    "SYY_Close <br>Volatility: 0.155 <br>Returns: 2.406% <br>Sharpe Ratio: 0.155",
                    "BAC_Close <br>Volatility: 0.223 <br>Returns: -10.108% <br>Sharpe Ratio: -0.453",
                    "KR_Close <br>Volatility: 0.405 <br>Returns: -53.258% <br>Sharpe Ratio: -1.315",
                    "GOOGL_Close <br>Volatility: 0.165 <br>Returns: 25.843% <br>Sharpe Ratio: 1.563",
                    "VZ_Close <br>Volatility: 0.175 <br>Returns: -1.752% <br>Sharpe Ratio: -0.100",
                    "WMT_Close <br>Volatility: 0.148 <br>Returns: 33.100% <br>Sharpe Ratio: 2.240",
                    "RDY_Close <br>Volatility: 0.278 <br>Returns: -37.763% <br>Sharpe Ratio: -1.360",
                    "MRK_Close <br>Volatility: 0.119 <br>Returns: -4.687% <br>Sharpe Ratio: -0.393",
                    "GS_Close <br>Volatility: 0.209 <br>Returns: -25.385% <br>Sharpe Ratio: -1.217",
                    "INTC_Close <br>Volatility: 0.144 <br>Returns: -1.191% <br>Sharpe Ratio: -0.083",
                    "PG_Close <br>Volatility: 0.087 <br>Returns: 3.502% <br>Sharpe Ratio: 0.403",
                    "NFLX_Close <br>Volatility: 0.320 <br>Returns: 63.935% <br>Sharpe Ratio: 1.998",
                    "REGN_Close <br>Volatility: 0.300 <br>Returns: 65.057% <br>Sharpe Ratio: 2.166",
                    "CRM_Close <br>Volatility: 0.148 <br>Returns: 22.729% <br>Sharpe Ratio: 1.539",
                    "IBM_Close <br>Volatility: 0.141 <br>Returns: -51.301% <br>Sharpe Ratio: -3.645",
                    "QCOM_Close <br>Volatility: 0.182 <br>Returns: -11.695% <br>Sharpe Ratio: -0.644",
                    "MSFT_Close <br>Volatility: 0.137 <br>Returns: 32.231% <br>Sharpe Ratio: 2.358",
                    "JPM_Close <br>Volatility: 0.162 <br>Returns: 1.822% <br>Sharpe Ratio: 0.113",
                    "ADBE_Close <br>Volatility: 0.155 <br>Returns: 48.534% <br>Sharpe Ratio: 3.139",
                    "PYPL_Close <br>Volatility: 0.210 <br>Returns: 76.095% <br>Sharpe Ratio: 3.626",
                    "EW_Close <br>Volatility: 0.230 <br>Returns: 50.893% <br>Sharpe Ratio: 2.211",
                    "PEP_Close <br>Volatility: 0.087 <br>Returns: 15.556% <br>Sharpe Ratio: 1.780",
                    "RMD_Close <br>Volatility: 0.177 <br>Returns: 16.205% <br>Sharpe Ratio: 0.918",
                    "MMM_Close <br>Volatility: 0.118 <br>Returns: 15.425% <br>Sharpe Ratio: 1.305",
                    "PM_Close <br>Volatility: 0.135 <br>Returns: 19.082% <br>Sharpe Ratio: 1.414",
                    "BTI_Close <br>Volatility: 0.204 <br>Returns: 0.821% <br>Sharpe Ratio: 0.040",
                    "RTX_Close <br>Volatility: 0.093 <br>Returns: 13.645% <br>Sharpe Ratio: 1.464",
                    "EXC_Close <br>Volatility: 0.136 <br>Returns: 14.814% <br>Sharpe Ratio: 1.090",
                    "LMT_Close <br>Volatility: 0.107 <br>Returns: 23.365% <br>Sharpe Ratio: 2.193",
                    "SO_Close <br>Volatility: 0.102 <br>Returns: -8.956% <br>Sharpe Ratio: -0.877",
                    "VRTX_Close <br>Volatility: 0.486 <br>Returns: 126.996% <br>Sharpe Ratio: 2.611",
                    "SRE_Close <br>Volatility: 0.107 <br>Returns: 10.690% <br>Sharpe Ratio: 0.998",
                    "BMY_Close <br>Volatility: 0.182 <br>Returns: 3.607% <br>Sharpe Ratio: 0.198",
                    "MCD_Close <br>Volatility: 0.145 <br>Returns: 47.674% <br>Sharpe Ratio: 3.297"
                  ],
                  "marker": {
                    "color": {
                      "bdata": "5tdwkOyt47+76jLLj6n4PwnxBzceMOc/DmwmYZzh8j+sQt47L8GqP3iNhOqZVwxAWPp8L4T4xb+xgSdV4Df7P54TlwjCtwdAdiKIv40d6D+IIvZ0VUEJQKVMEM0Vk8K/lbtqPQvt+T8FF0SIpSCqv91yEueDcdy/1EdIEEir87+v0rnEt0QCwMNANrEPIgFAry2KlqtK8T93RbqAAu0EQBzANT6mhwJA0bbbl+oUBkD2QXz9e6LYv2FtOzEBjPq/lrkxpww/1b/y+G91thb7Pw7ODTAe4Py/s1hYgUzU8b/nv9FB0Vz/P5Ur9SStggVAoVfKDRs49z+H2QkXlK6cP/FyKixt1bK/Vh6t7J/kB0D/1Q7hDi/6vxAaLb1vWec/rD7XUWS12z8FjFt4DHPaP9di3F+n5ADAkOYt/pyyzT+d6wylzqsAQGfxGwemNvI/lV2KXmLn+D95zed/EzwCQBdBcN/D9ea/ys8tVEq5BUAWMNGLQBjxv8rEeXusZNA/k2arZ12TAEAC0tV9CsMEQM5hKc819QBA/Pe74N3F9r8y/O2q6yMNQJqY096FEui/ZfOkn0YZCkCfLnxf0/r5P3RyB0dFTe2/WkH3M+tb8b+mV8Ngdnr1P9JQT9zuCfo/+q6zq+/Ywz/HAEjW3/vcvxPkO8svCvW/7BUZaUkC+T9Ej5rgyrK5v/nlKZu06wFAfnzyOPXB9b9cIcItHi3Zv+NEOiKod/O/DMEtZRAgtb8Pjtwag87ZP9ewv2iF+f8/5Rpy+c1TAUCb1HAXRZ74P6j4SKRRKQ3A89WGBUqb5L+Po81EgtwCQEQlLh4337w/PjjoZx8cCUAGFzd4ywENQDS8RTyjrwFARL0E7bN8/D86nd3Hl13tP1wSJTdB4/Q//grOx+ud9j/4Qp9VqY6kP+no1p6va/c/4g2m1pJw8T+fAbHFQooBQCElZGPdDOy/NdMzC5LjBEDdmr3HUu/vP7g65xAVZ8k/1T5TvElfCkA=",
                      "dtype": "f8"
                    },
                    "colorbar": {
                      "title": {
                        "text": "Sharpe<br>Ratio"
                      }
                    },
                    "colorscale": [
                      [
                        0,
                        "rgb(103,0,31)"
                      ],
                      [
                        0.1,
                        "rgb(178,24,43)"
                      ],
                      [
                        0.2,
                        "rgb(214,96,77)"
                      ],
                      [
                        0.3,
                        "rgb(244,165,130)"
                      ],
                      [
                        0.4,
                        "rgb(253,219,199)"
                      ],
                      [
                        0.5,
                        "rgb(247,247,247)"
                      ],
                      [
                        0.6,
                        "rgb(209,229,240)"
                      ],
                      [
                        0.7,
                        "rgb(146,197,222)"
                      ],
                      [
                        0.8,
                        "rgb(67,147,195)"
                      ],
                      [
                        0.9,
                        "rgb(33,102,172)"
                      ],
                      [
                        1,
                        "rgb(5,48,97)"
                      ]
                    ],
                    "line": {
                      "width": 1
                    },
                    "size": 6
                  },
                  "mode": "markers",
                  "type": "scatter",
                  "x": {
                    "bdata": "mDkv+4/Jvj8IiZyBqQPCP2xwxd4998Y/DbNZ9vHCtj/qkJJGaUfEP86BEP+sTck/I9OT3nR5xz9SRv9SDCLCP97i41W9O74/ZcmG01DIwj/OyV82FfvGPxTqzjHnUc0/CjCjysvkuT99lMRbAS7FP4pQrQCvF8M/B2P0YSrexz+1fEZ/kTTFP6T+o68A8cU/P/rPtoSuxD8T80NNB0S8Pxlbpwzj278/XiuUFGXbvz/YQwHpY8PFP5J88+w8m8k/hnRLhh1t1T/PIpSmhmq8P3xcl8w8IcM/cBWazs8TwD/b3dMO5je5Py3ITvav4bo/3gMpbGORwz/4ylUuF5O/P9bfU7e5OOY/OqoZPwBjsz9jIqLuGkLBP4p8BH4TOL0/NCCPZ1CHxj/1Ug5wejPBP9apQSYJZeU/e5/gy0GT0D+2dN9Fad/CP3jtNIRlG8E//6gL/nP7wD9YkWzgderGP96bVY10hsI/+zX60z9d3D8GUVg8q5HGP5TZVJaKA8w/JaYwDC31xz/40p+YtJW9P9vmpxZJ3c0/sfD1uFnDvz9cy52bvE7RPwg9X0sx9rg/4zlkqKlDxD8qPuXg5K/FPzcbMVnG1sg/w3o3DNZoxD8F6n4g7bfDP/nHRF9BXtg/HLrJRYbcwz/mEjsxY5HMP2Frjg6Y69k/X8yZkcEpxT+MIfJChljGPyPqY7/i6cI/v+2BHMXF0T9rQDl4jIC+P7E+evqmtMo/68usAFJ6wj+zDhLPqju2P0IZeKKredQ/s2qOdjU50z/a73Wki+jCP6NFsyO0A8I/0geLTE0/xz/j6vHrpH/BP1ZqGR6jrMQ/rVoNY+XKwz9idgAO79zKP/tjythUd80/XzhlTQJetj9jgHK6X5rGP/63wNmiP74/HRNlWVZHwT8YLd1QAy3KPz8b++Az3bc/A/5ehaBlwT/LesAd3Ue7P8Kqca8pKLo/bStePJog3z8ZL+T9Jmy7P759PPhnRMc/OdEa9ueCwj8=",
                    "dtype": "f8"
                  },
                  "y": {
                    "bdata": "GHcHyQLvsr+xk1bWZsTLPzi3NAQ9pMA/W9yoFkTcuj8k3RsrcvSAP0zbV0I8aeY/RiSm8wIeoL+URZoTyNjOP8J+yAqNaNY/ee7otSpPvD+OkID0EyPiPyOLtEPWBKG/89X80476xD8tFVOr/EqBv2puZHVz+LC/jc9ROVRXzb/3lIanNjbYv36dCGHGftc/D5bL8/FZxj/80VOc3nvSP0bilN+8ctI/XOHTKKj71T/Q4PlrDMGwv+moUZ8pPtW/nnE/VqVzvL+GQUbfDA7IPySwf+gPQ9G/SMcILWDqwb+CSL18TLfIP4F5p8fhEdI/HeOq3ZxlzD8Qq5019kxsP5MMX7Y7KKq/U4zQ5FTzzD9aoH3/LT7Mv+W0CQD4UbU/I9Wj1t+Bsz9mAx1eVm+sP5PoYLfIlva/UwmWIPDDrj+cxxS6EKrTPy3WMC9AecM/b98zwMRuyj8avCDEzx3aP7ZQauRtlbq/BK9e3m5B8z8u3t18+xzIv62owrbOs6w/3nNhdtXR2D+R2QTX4jHTPxQMgfX5pt8/t2y5i7Saxr9vmvoDkYXvP/a4T+EXx7K/lcV4bvuG4D8Zm1M8aJvRPw4fWVSevsa/dNFxtKMkxr/pdnOOU3jKPw5KlYQl1OM/I0rHCiqjmD8jppUBE+C5vxVouB/cCuG/sm+cYiKK0D+Orcj6AvKRvzVpV5whL9U/RjeusgQr2L81TJdHb/+nvypBqUIfP9C/hSIPNJNliL8eF0ikGO6hP2//o2GGdeQ/G7v+C3nR5D9yyTaA2xfNP7I+BPWdauC/0X9QacHwvb/nxncdw6DUPw4DSGdFp5I/Ng3YVdAP3z+jG6BaulnoP+k9hfofSeA/lOssEGzpwz9u5c2cAr7EPz1XtNiWvsM/Xi/CWaFsyD/2awRV1NCAP7nuVOdLd8E/ShgXmmH2wj+U2T+cGOjNP4VAw3+o7ba/A2l8u71R9D9wRnx53F27P1XUxLlkeKI/YptVgPeC3j8=",
                    "dtype": "f8"
                  }
                }
              ],
              "layout": {
                "template": {
                  "data": {
                    "bar": [
                      {
                        "error_x": {
                          "color": "#2a3f5f"
                        },
                        "error_y": {
                          "color": "#2a3f5f"
                        },
                        "marker": {
                          "line": {
                            "color": "#E5ECF6",
                            "width": 0.5
                          },
                          "pattern": {
                            "fillmode": "overlay",
                            "size": 10,
                            "solidity": 0.2
                          }
                        },
                        "type": "bar"
                      }
                    ],
                    "barpolar": [
                      {
                        "marker": {
                          "line": {
                            "color": "#E5ECF6",
                            "width": 0.5
                          },
                          "pattern": {
                            "fillmode": "overlay",
                            "size": 10,
                            "solidity": 0.2
                          }
                        },
                        "type": "barpolar"
                      }
                    ],
                    "carpet": [
                      {
                        "aaxis": {
                          "endlinecolor": "#2a3f5f",
                          "gridcolor": "white",
                          "linecolor": "white",
                          "minorgridcolor": "white",
                          "startlinecolor": "#2a3f5f"
                        },
                        "baxis": {
                          "endlinecolor": "#2a3f5f",
                          "gridcolor": "white",
                          "linecolor": "white",
                          "minorgridcolor": "white",
                          "startlinecolor": "#2a3f5f"
                        },
                        "type": "carpet"
                      }
                    ],
                    "choropleth": [
                      {
                        "colorbar": {
                          "outlinewidth": 0,
                          "ticks": ""
                        },
                        "type": "choropleth"
                      }
                    ],
                    "contour": [
                      {
                        "colorbar": {
                          "outlinewidth": 0,
                          "ticks": ""
                        },
                        "colorscale": [
                          [
                            0,
                            "#0d0887"
                          ],
                          [
                            0.1111111111111111,
                            "#46039f"
                          ],
                          [
                            0.2222222222222222,
                            "#7201a8"
                          ],
                          [
                            0.3333333333333333,
                            "#9c179e"
                          ],
                          [
                            0.4444444444444444,
                            "#bd3786"
                          ],
                          [
                            0.5555555555555556,
                            "#d8576b"
                          ],
                          [
                            0.6666666666666666,
                            "#ed7953"
                          ],
                          [
                            0.7777777777777778,
                            "#fb9f3a"
                          ],
                          [
                            0.8888888888888888,
                            "#fdca26"
                          ],
                          [
                            1,
                            "#f0f921"
                          ]
                        ],
                        "type": "contour"
                      }
                    ],
                    "contourcarpet": [
                      {
                        "colorbar": {
                          "outlinewidth": 0,
                          "ticks": ""
                        },
                        "type": "contourcarpet"
                      }
                    ],
                    "heatmap": [
                      {
                        "colorbar": {
                          "outlinewidth": 0,
                          "ticks": ""
                        },
                        "colorscale": [
                          [
                            0,
                            "#0d0887"
                          ],
                          [
                            0.1111111111111111,
                            "#46039f"
                          ],
                          [
                            0.2222222222222222,
                            "#7201a8"
                          ],
                          [
                            0.3333333333333333,
                            "#9c179e"
                          ],
                          [
                            0.4444444444444444,
                            "#bd3786"
                          ],
                          [
                            0.5555555555555556,
                            "#d8576b"
                          ],
                          [
                            0.6666666666666666,
                            "#ed7953"
                          ],
                          [
                            0.7777777777777778,
                            "#fb9f3a"
                          ],
                          [
                            0.8888888888888888,
                            "#fdca26"
                          ],
                          [
                            1,
                            "#f0f921"
                          ]
                        ],
                        "type": "heatmap"
                      }
                    ],
                    "histogram": [
                      {
                        "marker": {
                          "pattern": {
                            "fillmode": "overlay",
                            "size": 10,
                            "solidity": 0.2
                          }
                        },
                        "type": "histogram"
                      }
                    ],
                    "histogram2d": [
                      {
                        "colorbar": {
                          "outlinewidth": 0,
                          "ticks": ""
                        },
                        "colorscale": [
                          [
                            0,
                            "#0d0887"
                          ],
                          [
                            0.1111111111111111,
                            "#46039f"
                          ],
                          [
                            0.2222222222222222,
                            "#7201a8"
                          ],
                          [
                            0.3333333333333333,
                            "#9c179e"
                          ],
                          [
                            0.4444444444444444,
                            "#bd3786"
                          ],
                          [
                            0.5555555555555556,
                            "#d8576b"
                          ],
                          [
                            0.6666666666666666,
                            "#ed7953"
                          ],
                          [
                            0.7777777777777778,
                            "#fb9f3a"
                          ],
                          [
                            0.8888888888888888,
                            "#fdca26"
                          ],
                          [
                            1,
                            "#f0f921"
                          ]
                        ],
                        "type": "histogram2d"
                      }
                    ],
                    "histogram2dcontour": [
                      {
                        "colorbar": {
                          "outlinewidth": 0,
                          "ticks": ""
                        },
                        "colorscale": [
                          [
                            0,
                            "#0d0887"
                          ],
                          [
                            0.1111111111111111,
                            "#46039f"
                          ],
                          [
                            0.2222222222222222,
                            "#7201a8"
                          ],
                          [
                            0.3333333333333333,
                            "#9c179e"
                          ],
                          [
                            0.4444444444444444,
                            "#bd3786"
                          ],
                          [
                            0.5555555555555556,
                            "#d8576b"
                          ],
                          [
                            0.6666666666666666,
                            "#ed7953"
                          ],
                          [
                            0.7777777777777778,
                            "#fb9f3a"
                          ],
                          [
                            0.8888888888888888,
                            "#fdca26"
                          ],
                          [
                            1,
                            "#f0f921"
                          ]
                        ],
                        "type": "histogram2dcontour"
                      }
                    ],
                    "mesh3d": [
                      {
                        "colorbar": {
                          "outlinewidth": 0,
                          "ticks": ""
                        },
                        "type": "mesh3d"
                      }
                    ],
                    "parcoords": [
                      {
                        "line": {
                          "colorbar": {
                            "outlinewidth": 0,
                            "ticks": ""
                          }
                        },
                        "type": "parcoords"
                      }
                    ],
                    "pie": [
                      {
                        "automargin": true,
                        "type": "pie"
                      }
                    ],
                    "scatter": [
                      {
                        "fillpattern": {
                          "fillmode": "overlay",
                          "size": 10,
                          "solidity": 0.2
                        },
                        "type": "scatter"
                      }
                    ],
                    "scatter3d": [
                      {
                        "line": {
                          "colorbar": {
                            "outlinewidth": 0,
                            "ticks": ""
                          }
                        },
                        "marker": {
                          "colorbar": {
                            "outlinewidth": 0,
                            "ticks": ""
                          }
                        },
                        "type": "scatter3d"
                      }
                    ],
                    "scattercarpet": [
                      {
                        "marker": {
                          "colorbar": {
                            "outlinewidth": 0,
                            "ticks": ""
                          }
                        },
                        "type": "scattercarpet"
                      }
                    ],
                    "scattergeo": [
                      {
                        "marker": {
                          "colorbar": {
                            "outlinewidth": 0,
                            "ticks": ""
                          }
                        },
                        "type": "scattergeo"
                      }
                    ],
                    "scattergl": [
                      {
                        "marker": {
                          "colorbar": {
                            "outlinewidth": 0,
                            "ticks": ""
                          }
                        },
                        "type": "scattergl"
                      }
                    ],
                    "scattermap": [
                      {
                        "marker": {
                          "colorbar": {
                            "outlinewidth": 0,
                            "ticks": ""
                          }
                        },
                        "type": "scattermap"
                      }
                    ],
                    "scattermapbox": [
                      {
                        "marker": {
                          "colorbar": {
                            "outlinewidth": 0,
                            "ticks": ""
                          }
                        },
                        "type": "scattermapbox"
                      }
                    ],
                    "scatterpolar": [
                      {
                        "marker": {
                          "colorbar": {
                            "outlinewidth": 0,
                            "ticks": ""
                          }
                        },
                        "type": "scatterpolar"
                      }
                    ],
                    "scatterpolargl": [
                      {
                        "marker": {
                          "colorbar": {
                            "outlinewidth": 0,
                            "ticks": ""
                          }
                        },
                        "type": "scatterpolargl"
                      }
                    ],
                    "scatterternary": [
                      {
                        "marker": {
                          "colorbar": {
                            "outlinewidth": 0,
                            "ticks": ""
                          }
                        },
                        "type": "scatterternary"
                      }
                    ],
                    "surface": [
                      {
                        "colorbar": {
                          "outlinewidth": 0,
                          "ticks": ""
                        },
                        "colorscale": [
                          [
                            0,
                            "#0d0887"
                          ],
                          [
                            0.1111111111111111,
                            "#46039f"
                          ],
                          [
                            0.2222222222222222,
                            "#7201a8"
                          ],
                          [
                            0.3333333333333333,
                            "#9c179e"
                          ],
                          [
                            0.4444444444444444,
                            "#bd3786"
                          ],
                          [
                            0.5555555555555556,
                            "#d8576b"
                          ],
                          [
                            0.6666666666666666,
                            "#ed7953"
                          ],
                          [
                            0.7777777777777778,
                            "#fb9f3a"
                          ],
                          [
                            0.8888888888888888,
                            "#fdca26"
                          ],
                          [
                            1,
                            "#f0f921"
                          ]
                        ],
                        "type": "surface"
                      }
                    ],
                    "table": [
                      {
                        "cells": {
                          "fill": {
                            "color": "#EBF0F8"
                          },
                          "line": {
                            "color": "white"
                          }
                        },
                        "header": {
                          "fill": {
                            "color": "#C8D4E3"
                          },
                          "line": {
                            "color": "white"
                          }
                        },
                        "type": "table"
                      }
                    ]
                  },
                  "layout": {
                    "annotationdefaults": {
                      "arrowcolor": "#2a3f5f",
                      "arrowhead": 0,
                      "arrowwidth": 1
                    },
                    "autotypenumbers": "strict",
                    "coloraxis": {
                      "colorbar": {
                        "outlinewidth": 0,
                        "ticks": ""
                      }
                    },
                    "colorscale": {
                      "diverging": [
                        [
                          0,
                          "#8e0152"
                        ],
                        [
                          0.1,
                          "#c51b7d"
                        ],
                        [
                          0.2,
                          "#de77ae"
                        ],
                        [
                          0.3,
                          "#f1b6da"
                        ],
                        [
                          0.4,
                          "#fde0ef"
                        ],
                        [
                          0.5,
                          "#f7f7f7"
                        ],
                        [
                          0.6,
                          "#e6f5d0"
                        ],
                        [
                          0.7,
                          "#b8e186"
                        ],
                        [
                          0.8,
                          "#7fbc41"
                        ],
                        [
                          0.9,
                          "#4d9221"
                        ],
                        [
                          1,
                          "#276419"
                        ]
                      ],
                      "sequential": [
                        [
                          0,
                          "#0d0887"
                        ],
                        [
                          0.1111111111111111,
                          "#46039f"
                        ],
                        [
                          0.2222222222222222,
                          "#7201a8"
                        ],
                        [
                          0.3333333333333333,
                          "#9c179e"
                        ],
                        [
                          0.4444444444444444,
                          "#bd3786"
                        ],
                        [
                          0.5555555555555556,
                          "#d8576b"
                        ],
                        [
                          0.6666666666666666,
                          "#ed7953"
                        ],
                        [
                          0.7777777777777778,
                          "#fb9f3a"
                        ],
                        [
                          0.8888888888888888,
                          "#fdca26"
                        ],
                        [
                          1,
                          "#f0f921"
                        ]
                      ],
                      "sequentialminus": [
                        [
                          0,
                          "#0d0887"
                        ],
                        [
                          0.1111111111111111,
                          "#46039f"
                        ],
                        [
                          0.2222222222222222,
                          "#7201a8"
                        ],
                        [
                          0.3333333333333333,
                          "#9c179e"
                        ],
                        [
                          0.4444444444444444,
                          "#bd3786"
                        ],
                        [
                          0.5555555555555556,
                          "#d8576b"
                        ],
                        [
                          0.6666666666666666,
                          "#ed7953"
                        ],
                        [
                          0.7777777777777778,
                          "#fb9f3a"
                        ],
                        [
                          0.8888888888888888,
                          "#fdca26"
                        ],
                        [
                          1,
                          "#f0f921"
                        ]
                      ]
                    },
                    "colorway": [
                      "#636efa",
                      "#EF553B",
                      "#00cc96",
                      "#ab63fa",
                      "#FFA15A",
                      "#19d3f3",
                      "#FF6692",
                      "#B6E880",
                      "#FF97FF",
                      "#FECB52"
                    ],
                    "font": {
                      "color": "#2a3f5f"
                    },
                    "geo": {
                      "bgcolor": "white",
                      "lakecolor": "white",
                      "landcolor": "#E5ECF6",
                      "showlakes": true,
                      "showland": true,
                      "subunitcolor": "white"
                    },
                    "hoverlabel": {
                      "align": "left"
                    },
                    "hovermode": "closest",
                    "mapbox": {
                      "style": "light"
                    },
                    "paper_bgcolor": "white",
                    "plot_bgcolor": "#E5ECF6",
                    "polar": {
                      "angularaxis": {
                        "gridcolor": "white",
                        "linecolor": "white",
                        "ticks": ""
                      },
                      "bgcolor": "#E5ECF6",
                      "radialaxis": {
                        "gridcolor": "white",
                        "linecolor": "white",
                        "ticks": ""
                      }
                    },
                    "scene": {
                      "xaxis": {
                        "backgroundcolor": "#E5ECF6",
                        "gridcolor": "white",
                        "gridwidth": 2,
                        "linecolor": "white",
                        "showbackground": true,
                        "ticks": "",
                        "zerolinecolor": "white"
                      },
                      "yaxis": {
                        "backgroundcolor": "#E5ECF6",
                        "gridcolor": "white",
                        "gridwidth": 2,
                        "linecolor": "white",
                        "showbackground": true,
                        "ticks": "",
                        "zerolinecolor": "white"
                      },
                      "zaxis": {
                        "backgroundcolor": "#E5ECF6",
                        "gridcolor": "white",
                        "gridwidth": 2,
                        "linecolor": "white",
                        "showbackground": true,
                        "ticks": "",
                        "zerolinecolor": "white"
                      }
                    },
                    "shapedefaults": {
                      "line": {
                        "color": "#2a3f5f"
                      }
                    },
                    "ternary": {
                      "aaxis": {
                        "gridcolor": "white",
                        "linecolor": "white",
                        "ticks": ""
                      },
                      "baxis": {
                        "gridcolor": "white",
                        "linecolor": "white",
                        "ticks": ""
                      },
                      "bgcolor": "#E5ECF6",
                      "caxis": {
                        "gridcolor": "white",
                        "linecolor": "white",
                        "ticks": ""
                      }
                    },
                    "title": {
                      "x": 0.05
                    },
                    "xaxis": {
                      "automargin": true,
                      "gridcolor": "white",
                      "linecolor": "white",
                      "ticks": "",
                      "title": {
                        "standoff": 15
                      },
                      "zerolinecolor": "white",
                      "zerolinewidth": 2
                    },
                    "yaxis": {
                      "automargin": true,
                      "gridcolor": "white",
                      "linecolor": "white",
                      "ticks": "",
                      "title": {
                        "standoff": 15
                      },
                      "zerolinecolor": "white",
                      "zerolinewidth": 2
                    }
                  }
                },
                "title": {
                  "text": "Markowitz Mean Varience Model"
                },
                "xaxis": {
                  "title": {
                    "text": "Volatility (Standard Deviation)"
                  }
                },
                "yaxis": {
                  "title": {
                    "text": "Annualized Returns"
                  }
                }
              }
            }
          },
          "metadata": {},
          "output_type": "display_data"
        }
      ],
      "source": [
        "hover_texts = [\n",
        "    f\"{ticker} <br>Volatility: {vol:.3f} <br>Returns: {ret:.3%} <br>Sharpe Ratio: {sr:.3f}\"\n",
        "    for ticker, vol, ret, sr in zip(names, volatility, annualized_returns, sharpe_ratios)\n",
        "]\n",
        "\n",
        "fig = go.Figure(data=go.Scatter(\n",
        "    x=volatility,\n",
        "    y=annualized_returns,\n",
        "    mode='markers',\n",
        "    hoverinfo='text',\n",
        "    hovertext=hover_texts,\n",
        "    marker=dict(color=sharpe_ratios, colorscale = 'RdBu', size=6, line=dict(width=1), colorbar=dict(title=\"Sharpe<br>Ratio\")\n",
        "    )\n",
        "))\n",
        "\n",
        "fig.update_layout(\n",
        "    title='Markowitz Mean Varience Model',\n",
        "    xaxis_title='Volatility (Standard Deviation)',\n",
        "    yaxis_title='Annualized Returns',\n",
        ")\n",
        "\n",
        "fig.show()\n"
      ]
    },
    {
      "cell_type": "markdown",
      "metadata": {
        "id": "E3i7iFfDabDV"
      },
      "source": [
        "## 4.0 Monte Carlo Method"
      ]
    },
    {
      "cell_type": "code",
      "execution_count": 54,
      "metadata": {
        "id": "fsgRqCSWabDV",
        "outputId": "fbaa41fb-9c70-48ed-a734-216727080f91"
      },
      "outputs": [
        {
          "name": "stderr",
          "output_type": "stream",
          "text": [
            "100%|██████████| 1000/1000 [00:02<00:00, 441.93it/s]\n"
          ]
        }
      ],
      "source": [
        "all_portfolios, dominant_portfolios = MonteCarloRBA(names, cov, annualized_returns, 1000)"
      ]
    },
    {
      "cell_type": "code",
      "execution_count": 55,
      "metadata": {
        "id": "09tYBpwxabDV",
        "outputId": "14b280fa-725b-45a4-de2b-4d74a617924e"
      },
      "outputs": [
        {
          "name": "stdout",
          "output_type": "stream",
          "text": [
            "70 1000\n"
          ]
        }
      ],
      "source": [
        "print (len(dominant_portfolios) ,len(all_portfolios))"
      ]
    },
    {
      "cell_type": "code",
      "execution_count": 56,
      "metadata": {
        "id": "uuj_oTIZabDV",
        "outputId": "d9689c48-1eb6-4d40-8c4e-30e71495cd1d"
      },
      "outputs": [
        {
          "data": {
            "application/vnd.plotly.v1+json": {
              "config": {
                "plotlyServerURL": "https://plot.ly"
              },
              "data": [
                {
                  "hoverinfo": "text",
                  "marker": {
                    "color": [
                      4.035434278610907,
                      3.7091693151370424,
                      3.6068300934987216,
                      1.0899837860787263,
                      3.693866825722832,
                      2.3504367916924207,
                      0.7585420406594398,
                      2.688806809169771,
                      3.480624654861786,
                      2.832190158667631,
                      -0.17164661711463589,
                      3.8060306401890815,
                      2.7650329015692945,
                      2.7004540604586342,
                      2.892699281435805,
                      3.46371230632327,
                      3.469135944254598,
                      3.54277404038439,
                      1.960160500628257,
                      2.279334067594094,
                      1.6274250608303658,
                      2.7960359466625118,
                      1.5630582909956088,
                      1.3423980502898103,
                      2.707210655442313,
                      2.776468318434298,
                      3.740976011503354,
                      1.5463090477408328,
                      0.41327201608345404,
                      2.001888286877128,
                      3.135857453590937,
                      1.7202957003096575,
                      2.760213076012271,
                      -0.07356912925974848,
                      3.950279286978456,
                      1.8280846518330078,
                      4.26476153120812,
                      3.9857795850030033,
                      3.0431495279922207,
                      3.8528321878270573,
                      3.9713501968462457,
                      0.05225513081540475,
                      2.949337782906206,
                      0.9176749137522283,
                      3.296527358332107,
                      4.155842383038958,
                      3.6690081769627483,
                      3.237626514187244,
                      3.309904404468669,
                      2.116619651491135,
                      0.43294628135934476,
                      3.7858675662517896,
                      1.4816309101610954,
                      2.0824810934637266,
                      2.754246473009956,
                      3.6529528478355386,
                      2.357670342946626,
                      3.1609223914324396,
                      2.472302669329662,
                      3.3577728448557083,
                      0.9979642773804148,
                      1.3426216838179963,
                      -0.1451136828696727,
                      1.6930450999639632,
                      3.593591382627513,
                      4.269707656135502,
                      0.2561446386162707,
                      3.5484622406178046,
                      -0.10038440688600851,
                      2.5556148961978216,
                      0.4838820470783172,
                      1.6930450999639253,
                      2.627449750171501,
                      2.615727430042792,
                      2.7394744321267495,
                      1.1053970352875055,
                      3.5717101139781673,
                      3.167296659611491,
                      2.7967083121544327,
                      2.2522304529352604,
                      2.7154738022308935,
                      2.7794987877953585,
                      3.8196676388668833,
                      3.1569012773145886,
                      1.610639767595193,
                      3.820158956603794,
                      1.6818081176249622,
                      2.8965759507839044,
                      5.063435511627329,
                      2.946710756637374,
                      1.589034260171912,
                      3.6425393442036893,
                      2.1416314930612255,
                      2.18461336172527,
                      -0.07356912925974847,
                      3.5315520906160036,
                      2.4306311452841394,
                      2.879831911141853,
                      4.260895607580648,
                      2.7154738022308935,
                      3.636855409217052,
                      0.7296675391051415,
                      2.0076415051493353,
                      4.019349130000221,
                      3.593336225406885,
                      4.9657490747374835,
                      4.9242563775812425,
                      2.258117409370508,
                      3.8076185479439237,
                      1.9463480503176762,
                      3.843347131009104,
                      2.9647255583863137,
                      1.0668232727865452,
                      2.332976161169588,
                      2.8212677133652604,
                      2.7017198810133176,
                      4.162280019589181,
                      3.6855536673735645,
                      3.3528756458258195,
                      3.170895384194452,
                      3.1068202779510954,
                      3.0197801004250255,
                      -0.44442842069274324,
                      3.8445569184570934,
                      1.1383419301701794,
                      2.8689818405292247,
                      2.5208697618769826,
                      2.7479779852829624,
                      1.6205574936212874,
                      3.0686687840837874,
                      2.81046958115318,
                      1.5564902966487781,
                      2.1416314930612237,
                      3.430474568651698,
                      3.41183092139518,
                      2.24950462032344,
                      0.11278099524328808,
                      2.358224023913252,
                      2.7925490598016416,
                      4.220925385132164,
                      2.2212904244988456,
                      4.1092444000948545,
                      2.038212425451057,
                      2.110564195713087,
                      3.196977179474497,
                      2.611118400115084,
                      2.9662898744394264,
                      0.2476225342780264,
                      2.240123252752327,
                      1.155395802780121,
                      3.3834552137152887,
                      1.556490296648778,
                      4.337709310453937,
                      1.562812679326453,
                      2.2448996582660627,
                      0.40322950003787733,
                      3.3080323437257735,
                      4.263562504644788,
                      3.2965273583320753,
                      3.290157761433442,
                      -0.4444284206927472,
                      4.277250695502827,
                      3.5433466687253357,
                      0.15505786785012513,
                      2.1880828898132267,
                      4.279542663080016,
                      3.0778550267769824,
                      2.688806809169771,
                      2.7343349092880276,
                      2.964725558386098,
                      3.0100607012903855,
                      3.109262920455116,
                      3.1387317769758933,
                      3.40138674043868,
                      3.6308651002016155,
                      4.50384326674688,
                      1.4637905316035875,
                      0.21952133369899293,
                      0.7536076298575131,
                      2.7131362661243954,
                      2.5996020251681333,
                      3.074200232539796,
                      3.5514029490127563,
                      1.7202956928856206,
                      3.6425393442036835,
                      1.6203720473383543,
                      3.2804354086787875,
                      3.609864715626119,
                      2.6649851533397655,
                      -0.051030323979387955,
                      1.2882187027393177,
                      1.4274776435398353,
                      4.171371105854601,
                      2.8186191037013764,
                      1.5564902966487797,
                      3.616730778640209,
                      1.0899837860787243,
                      3.8791535707114067,
                      1.4511976755797846,
                      3.4107927856682876,
                      2.685158167843305,
                      1.6237367372404277,
                      2.9777487759591286,
                      2.119731539202095,
                      2.6111184001150836,
                      1.9601605006269098,
                      3.622144736050622,
                      2.363121973645816,
                      1.4637905316035866,
                      1.960160500628257,
                      4.084983811143655,
                      2.727225220028859,
                      0.7536076298575397,
                      1.5413968980271135,
                      3.2965273583320482,
                      1.91974284389314,
                      -0.14511368286966791,
                      3.496726212384521,
                      3.098833357017123,
                      3.7101419070688944,
                      1.701141674646446,
                      3.3737058514581726,
                      2.359392437335591,
                      3.058476302110673,
                      3.106820276944572,
                      0.43294628135934476,
                      3.2745684361276512,
                      1.5936679292080798,
                      1.7804450281652702,
                      2.7602130760122696,
                      2.840840534409735,
                      2.6163969889182086,
                      2.393647082737659,
                      3.1387317769759013,
                      2.789714553412821,
                      3.2965273583321086,
                      2.531201037480937,
                      3.2429683294256413,
                      3.401062092411977,
                      2.679488137104962,
                      2.7053473353359636,
                      3.2623417350973027,
                      3.309904399777627,
                      3.00819852281351,
                      1.819963751384351,
                      2.9848323739378837,
                      1.862822515766526,
                      3.7704068422477657,
                      3.06671448150728,
                      2.5026163384265883,
                      3.5339464621085717,
                      2.2795561049293167,
                      1.5564902966487664,
                      2.8896921213468816,
                      2.3807305901705558,
                      2.6644054475946977,
                      3.3593653191488104,
                      2.5952348547818875,
                      4.876048038217333,
                      4.307326960647976,
                      2.3590465614292024,
                      1.7011416746464465,
                      2.510408039226653,
                      3.532746555921729,
                      3.3410421446925107,
                      1.1800807757306284,
                      1.9836929304196236,
                      2.0719554995710694,
                      4.7359703845354,
                      1.6654799986068327,
                      1.5628126799225672,
                      2.69776706872999,
                      3.7725969595077355,
                      3.207123822665605,
                      2.080013147656091,
                      3.8225284561018795,
                      2.6011812524470543,
                      2.8682231142363426,
                      1.146046885349429,
                      1.2159696350158669,
                      -0.05103032387164266,
                      3.94173365152553,
                      2.2400905725633007,
                      4.916561044343422,
                      3.4391010618807543,
                      2.125950528827381,
                      2.0177764843034245,
                      1.7011416746464456,
                      3.62587636869546,
                      3.771917321943419,
                      1.5415236759198225,
                      2.4407183165806035,
                      3.1569012773146,
                      2.6157274300427917,
                      2.01155259460244,
                      3.5342037557492256,
                      3.9341546837088384,
                      3.755891811090304,
                      3.9670839884365785,
                      1.546698016630479,
                      3.2455253176308405,
                      1.7804450281654038,
                      2.7154738022308935,
                      4.293387933374716,
                      3.8202707940109004,
                      2.741885968088331,
                      2.0727441329234977,
                      1.5415234680991894,
                      2.046917382710254,
                      3.5553515091532666,
                      3.4600045767075556,
                      2.3605690838482736,
                      1.4511976755797849,
                      2.0838902372901895,
                      2.7602932366645208,
                      3.181265492042322,
                      -0.33197323157846753,
                      0.7859393929454869,
                      2.1197315392020926,
                      2.760213076012269,
                      2.917748425824906,
                      2.4324773263499133,
                      4.335784471253328,
                      2.6119777103033788,
                      3.1865535636714153,
                      1.9986891284264705,
                      0.729906819257881,
                      2.7816402413582373,
                      2.78597270421519,
                      3.399156861016274,
                      3.250579895526931,
                      1.9896599119075782,
                      2.9948432178815723,
                      1.86259360796588,
                      2.0603533231177145,
                      2.3816166759574635,
                      3.257993642733191,
                      2.3913603722785495,
                      3.573214359599059,
                      3.165437109323776,
                      2.0758850262608135,
                      2.715473802230892,
                      1.6203720473383543,
                      1.5386401096014086,
                      3.1569012773146063,
                      3.5487853685158464,
                      3.977053562274176,
                      2.3576703429466255,
                      0.4329462813593447,
                      3.1413676495038962,
                      3.188529062659455,
                      1.720295561719325,
                      1.4135549359204442,
                      4.090336087916622,
                      1.451197675579774,
                      2.119731539202099,
                      3.2623417350973036,
                      1.541396898027115,
                      1.6447349647831397,
                      1.776258369496227,
                      2.316660895388039,
                      3.658844434131639,
                      2.5037965847461474,
                      0.7296675391051526,
                      2.8798320075470443,
                      0.8338151611778846,
                      2.9185996797132843,
                      1.623736737240414,
                      -0.08252050848182552,
                      2.616191926366812,
                      2.0811473175100685,
                      0.05225513082325855,
                      3.3504649919626317,
                      3.89178715752296,
                      1.707505945330946,
                      2.411857525230325,
                      3.2476274500932565,
                      2.2167611118817847,
                      -1.6591808245783244,
                      1.7804450281654023,
                      1.9985473783567915,
                      3.4255688105603053,
                      2.2027502286661584,
                      3.718286586856152,
                      2.935502420603104,
                      1.5386401096013393,
                      3.7362474599081765,
                      2.6407604103308593,
                      1.6437661644672228,
                      3.397032867422286,
                      2.6888068091697668,
                      2.6647625307098126,
                      1.1800807757306333,
                      3.5059565706917466,
                      4.073090871876234,
                      1.8276640387804033,
                      1.6707333213166817,
                      3.7576513310033497,
                      0.040150920580074446,
                      2.3221345254756787,
                      0.4329462813587404,
                      3.5233830186026562,
                      2.0800132347182876,
                      3.2653024844953187,
                      1.0092755777708118,
                      3.2011705115323648,
                      1.305482116135997,
                      2.9224452149766083,
                      2.252174460509384,
                      0.02800971401994605,
                      -0.10038440688600526,
                      2.5353774746790494,
                      2.539431172462791,
                      2.8874019096750247,
                      -0.44442842069274335,
                      0.7361274435774896,
                      3.3517074725608067,
                      1.345665009703707,
                      4.24633700424408,
                      0.43316374678284425,
                      2.595234854781892,
                      1.0834074053038611,
                      -0.07356912925974848,
                      2.9695866774850086,
                      3.7408553924875503,
                      1.3054821161359973,
                      4.162898508820062,
                      3.2826908823905097,
                      4.195929069741893,
                      -1.0849411039271988,
                      1.7983078497082425,
                      2.9943961649975943,
                      4.148138849336006,
                      2.0983741228152955,
                      4.202140891345813,
                      1.5564902966487741,
                      3.113535148551076,
                      2.1930065574945465,
                      2.7364095553989505,
                      2.9504385384683145,
                      1.4511976755797813,
                      1.6237392646815116,
                      0.4032295000381178,
                      3.1858009172200097,
                      2.5574536949882756,
                      1.623736737240297,
                      3.260568187247083,
                      1.1046363497895746,
                      2.680186988527477,
                      2.260821741376352,
                      3.642539344203588,
                      2.5570315967936152,
                      3.662182740526181,
                      3.9341546837088384,
                      4.330625902507373,
                      3.686003536886131,
                      3.7719814226083805,
                      3.1387317769757352,
                      3.2579937853640772,
                      2.090353727356279,
                      3.8784806423778595,
                      3.4116747595410235,
                      2.760213076012271,
                      3.2965273583320993,
                      3.1022938484177303,
                      1.6930450999639641,
                      2.854597039337649,
                      1.5094780394609777,
                      0.040150920583647165,
                      3.998533160896424,
                      2.699460401306075,
                      2.340450768677013,
                      2.792548567976515,
                      2.6888068091697703,
                      2.9322643614229227,
                      2.6821300586045123,
                      3.803664278976318,
                      1.5630582909956212,
                      3.740855392239886,
                      3.142109888942511,
                      1.9821931325245088,
                      3.119140123116915,
                      4.089067332082161,
                      1.620372047338353,
                      3.6429509131936513,
                      2.1925101704256487,
                      2.261295869718725,
                      3.659315256948996,
                      0.41327201608345404,
                      2.616931908823456,
                      0.7246237826180094,
                      1.463790531603581,
                      3.077655034679576,
                      2.4315649529783214,
                      0.4032295000378284,
                      1.9864723189664706,
                      3.2272105231898225,
                      4.272662291164375,
                      1.6110073312958222,
                      3.1609223914242506,
                      3.6425393442036915,
                      3.4280046668282522,
                      2.357670342946626,
                      2.882171445387338,
                      -0.05103032387164187,
                      4.10837127043194,
                      1.7604371201527662,
                      2.7379350333515875,
                      2.6161919480121885,
                      3.6090851325472455,
                      4.671946410621185,
                      2.2793340675941036,
                      0.23201334391687417,
                      2.165920208735189,
                      3.6258763686954594,
                      2.9684366633287387,
                      -0.10038440688632051,
                      -0.05103032387164167,
                      0.9979642773804146,
                      2.611118400115084,
                      1.8029753006732565,
                      0.9176749137522286,
                      1.9992738572807518,
                      0.7536076298564652,
                      0.12095150179082713,
                      2.3890648500932943,
                      4.954970192027135,
                      4.715481001831148,
                      2.071955499571065,
                      3.706249696664007,
                      2.7602130760122683,
                      3.445427714974578,
                      0.7753809978424859,
                      2.0838902372901815,
                      2.9671293258727385,
                      1.13834193017017,
                      3.2943864092027613,
                      2.7674458251119365,
                      2.8309026922916867,
                      3.9614672834018854,
                      2.0005789882610863,
                      3.75476841683002,
                      3.9866117369502936,
                      3.5233830173591905,
                      2.2793340675941036,
                      2.889692281435195,
                      3.6263369413136175,
                      1.9218099850923689,
                      1.620557483147633,
                      2.722894592646909,
                      3.9086352712739374,
                      0.02800971403695633,
                      3.129351074813247,
                      2.86980062008715,
                      0.403229500038123,
                      2.1863608712489815,
                      3.6241603727166622,
                      3.9151414775259616,
                      2.1681523366298117,
                      0.9979642773804137,
                      3.2632266031102692,
                      2.4274915249019067,
                      1.8718091578197589,
                      2.8823979687223553,
                      1.8789724637994087,
                      1.4511976755797849,
                      0.1550578678501064,
                      2.8355009276610184,
                      2.4938070331020583,
                      2.760278977490703,
                      1.803692010109096,
                      3.0364722430636046,
                      2.5952348547818938,
                      3.3345881149824965,
                      0.052255130823259804,
                      3.611495080093753,
                      3.693535461670096,
                      3.912401008018174,
                      2.3315515772957007,
                      1.4154484665468399,
                      2.000962124805557,
                      0.02800971403709113,
                      1.697338000303188,
                      2.3162350521233863,
                      1.6930450999639644,
                      3.5460085684862976,
                      2.9903844998360216,
                      3.2719073174845636,
                      2.430631130977915,
                      3.6258763686954496,
                      1.5564902966487713,
                      1.5572243885748105,
                      1.7128071436974672,
                      5.194195272714021,
                      1.2889035538411953,
                      3.6507700399363996,
                      1.8011773687389803,
                      1.191424052403761,
                      2.187628434511721,
                      2.6591555441041494,
                      1.8523187237334662,
                      2.516726924308311,
                      2.836181270776853,
                      1.3423980502898092,
                      2.3593923447959444,
                      3.106820279533265,
                      2.8896923131630996,
                      2.9459308796271553,
                      1.6388205766917248,
                      2.995397587572277,
                      2.436267955132088,
                      2.738798182467501,
                      1.5396206232850518,
                      2.611883391891101,
                      3.4313823078525334,
                      3.301793622024419,
                      1.9282685889158988,
                      1.4512272485052737,
                      1.463790531603587,
                      2.3691532208445207,
                      2.0161824833998483,
                      3.262341735097307,
                      2.6794881379218154,
                      3.4114866901983962,
                      4.513889506510785,
                      3.871157740861545,
                      0.19922731190629012,
                      2.721163571873979,
                      3.9146652490437854,
                      1.960160500628257,
                      1.6723861211224096,
                      3.0684618728552557,
                      2.2665829912889124,
                      3.9496378835788426,
                      2.382625194051015,
                      2.1776218111786743,
                      1.6930450999639637,
                      1.7804450281654036,
                      1.7804450281653947,
                      4.988136377908989,
                      1.563058290995623,
                      1.781731967466455,
                      0.9176749137522286,
                      3.014853675314615,
                      2.8612661348711614,
                      2.7960833554450413,
                      1.3600919865745047,
                      2.8179935330688335,
                      1.6219155697905354,
                      4.146225628232034,
                      0.40322950003812336,
                      3.1022938486890705,
                      3.262341735097297,
                      2.322134529911785,
                      3.7987542153156197,
                      0.5710761181000173,
                      3.111904309472162,
                      0.753607629857532,
                      3.626703828107803,
                      3.5427740403844687,
                      2.522269550303196,
                      2.8844124202362567,
                      3.1565177807378966,
                      3.3923566127248135,
                      2.5982952026688557,
                      3.6114950857774795,
                      3.129351206288651,
                      3.840913753181549,
                      2.321851763552188,
                      3.429460782458964,
                      1.9614337618831812,
                      2.6993662500698674,
                      3.5818422103848646,
                      3.1387317769759013,
                      2.082366481317983,
                      4.051782532882954,
                      3.092058618375665,
                      2.8218798107339462,
                      0.9979642773802946,
                      1.1383419301701663,
                      0.7271424125368271,
                      2.763622303033621,
                      3.6935355644188306,
                      3.4411400525088633,
                      3.639336502825043,
                      2.976471051288533,
                      1.8054197063617607,
                      3.2901577892405633,
                      1.1740850297486833,
                      3.049803071932362,
                      3.665612276470194,
                      2.64665364963677,
                      3.0454123223619027,
                      3.272660142027184,
                      2.582465606324359,
                      3.5054957911661617,
                      1.7691845794787586,
                      1.0115896506643556,
                      1.7490090196230195,
                      4.276754960705837,
                      3.1363621622185485,
                      3.263226601587818,
                      2.9192177753328714,
                      3.61856788638754,
                      2.6785326669555936,
                      4.150381725215604,
                      2.651793732593972,
                      1.5387474277178308,
                      2.3221345238719007,
                      1.2723368544923437,
                      2.764596779241862,
                      0.11278099524328843,
                      0.7536076298575397,
                      2.347766365310961,
                      0.4132720160834535,
                      2.0386010283721414,
                      3.8898352846711375,
                      3.546008902055181,
                      2.860450022627017,
                      3.415351859874362,
                      3.1702633498829496,
                      4.037651187630451,
                      2.611118400115084,
                      2.8730312137470766,
                      2.279334067594102,
                      2.705347341319715,
                      2.2883114474866697,
                      0.05225513082325863,
                      0.1550578678501251,
                      2.7299938948948337,
                      2.5551645735951247,
                      2.7602130760122687,
                      1.3054821161357797,
                      1.4511976755797826,
                      1.4162539896855422,
                      2.1631026486989153,
                      2.2307329434531105,
                      3.386239703058435,
                      1.2481785730249753,
                      1.0822618674695468,
                      3.0737586474565823,
                      1.4135549359204442,
                      0.941210730503182,
                      3.762926952140571,
                      2.446960587495166,
                      0.9176749137522286,
                      2.7511886302272544,
                      1.7626333575251025,
                      3.262341735097304,
                      3.3189901974062357,
                      3.147849603774147,
                      3.398563452739606,
                      1.343592030410152,
                      3.336626630159366,
                      3.8360797809070166,
                      3.929823992105525,
                      3.135726376031042,
                      2.656611910199926,
                      2.119731539202098,
                      3.7981801624560645,
                      3.138731776975787,
                      1.7075059803701447,
                      3.0596238743947892,
                      2.6515155395106538,
                      2.6700056435929924,
                      4.012623220272828,
                      2.3636292143863367,
                      2.405337444184863,
                      2.217667033924443,
                      2.199559955662495,
                      2.9287568243819915,
                      4.031838953375581,
                      2.518995323892907,
                      1.359055934996729,
                      2.966523832003663,
                      1.3894643941227218,
                      3.0021937053008583,
                      2.879957684905253,
                      2.792305635638301,
                      4.2057044953209575,
                      2.2093051380471582,
                      3.6529528421706967,
                      3.0467288817354734,
                      1.5564902966487797,
                      2.651252182070267,
                      3.1786506702748305,
                      -0.10038440688600651,
                      1.180080775730633,
                      0.7296675391051526,
                      3.4120978227650203,
                      1.9059878193683142,
                      2.4062457800460515,
                      2.728406709708838,
                      2.080012970168098,
                      2.014520122269998,
                      1.0899837860787263,
                      2.659155648107686,
                      3.1478496033000662,
                      0.05225513082325966,
                      1.6203720473383543,
                      3.2786080668853246,
                      2.6838175391113768,
                      4.020411607819158,
                      2.141631493061227,
                      2.595234854781891,
                      4.452147618734215,
                      3.0363218577690874,
                      1.4637905315968587,
                      3.344200007454259,
                      3.5173949689519652,
                      3.1571641220033517,
                      2.4419159585889063,
                      1.44688049075849,
                      0.42250918005377236,
                      2.688806809169771,
                      2.357080415209966,
                      1.6654799658765918,
                      3.4906594310703354,
                      3.914631957755374,
                      2.4605124852052436,
                      3.838910545168836,
                      0.7246237826180112,
                      2.08389023729019,
                      5.070539725917224,
                      3.3846583589645274,
                      1.5736493601442596,
                      2.882090653665809,
                      3.385614750882429,
                      2.9319678346640266,
                      0.4651419989076753,
                      2.6173510751058013,
                      2.977092633184609,
                      -0.07356912925974873,
                      2.2332317575520557,
                      4.57232459046061,
                      3.3803663577170826,
                      2.871084607323219,
                      2.357670342946626,
                      3.819667644318065,
                      2.6815059181047913,
                      3.625876368695461,
                      0.4559671365052229,
                      3.552406268285292,
                      3.041971444615786,
                      2.712564865507261,
                      0.15505786785012515,
                      2.75162188265803,
                      1.6274250608303658,
                      2.7154738022308935,
                      2.233152396300095,
                      3.2443019724150886,
                      2.7542465056362126,
                      -0.14511368287199558,
                      2.72246043361842,
                      3.1387317769759013,
                      0.2586396858973106,
                      3.344200040771527,
                      2.071955499571069,
                      3.0165689472502604,
                      2.4953036843308363,
                      1.3423980502898083,
                      2.8844124145298866,
                      2.1142955064350826,
                      3.3662189177500412,
                      3.642539344203691,
                      3.121227853441161,
                      2.031452442114734,
                      0.15835643965486185,
                      3.002533203055997,
                      2.8902002698127855,
                      2.630970076722621,
                      4.452147597719139,
                      4.115931398935118,
                      1.8353156859218345,
                      1.7128559140198965,
                      1.8290352063385666,
                      2.2302394121417017,
                      2.611118400115084,
                      5.22347674194916,
                      2.2246774695889977,
                      2.5434787206396376,
                      4.392071798050611,
                      1.5890343546265175,
                      4.240432017896711,
                      3.7238158850386127,
                      2.386015056159167,
                      2.890200366428745,
                      2.694998102361874,
                      3.1559295713341085,
                      0.9329703996183754,
                      2.9220599367227478,
                      3.7366294054771485,
                      2.1296865185314253,
                      2.9833620190256225,
                      4.216878772222834,
                      2.711628996249839,
                      2.5952348547818835,
                      3.5882861012589475,
                      3.7423681607792414,
                      3.8225284822372845,
                      4.451113127859317,
                      2.8321901579671254,
                      2.2793340675941036,
                      4.589842007853765,
                      0.304368366406708,
                      2.210760565641456,
                      3.3193735449030823,
                      2.9964005498287194,
                      0.7296675391051526,
                      3.618826228215625,
                      3.505427512302745,
                      2.2401104114938586,
                      2.091888838424193,
                      1.2042575991889248,
                      2.9401999155306195,
                      1.1384254543278158,
                      2.2368704072337295,
                      3.2445507719766122,
                      2.420910910317584,
                      3.7955933563475925,
                      3.0234427154192365,
                      1.793964087486635,
                      2.51128312130219,
                      3.919193143077724,
                      2.820304788275665,
                      2.023670463312359,
                      0.7296675391050862,
                      3.581842160698025,
                      3.8430979784022004,
                      2.6794004170056165,
                      2.5306984474268455,
                      2.1581868559249524,
                      2.9856900991958737,
                      1.6390497632128558,
                      2.860450010189822,
                      3.666681449987652,
                      4.543542483379955,
                      2.4886056861919283,
                      2.724251419259763,
                      2.871115579476677,
                      2.166109909133133,
                      2.039321611630208,
                      2.9322226083698073,
                      1.7011416746464472,
                      3.915141476458963,
                      3.6192725075406904,
                      1.5386401096014084,
                      4.146225589611862,
                      3.3316081019149233,
                      1.9601605006282548,
                      1.3054821161359973,
                      3.352875385069099,
                      3.3581029040251242,
                      3.7183473171598145,
                      1.538640109552019,
                      2.9425690171037275,
                      2.483776668178453,
                      3.5956093219306497,
                      2.7771999781893317,
                      4.126191602299687,
                      3.468494488047539,
                      3.127614708082144,
                      1.6306378619663147,
                      3.6176189094664637,
                      0.028009714035486556,
                      1.7058862953367793,
                      3.421959755460756,
                      4.205704538102015,
                      3.7452489223814944,
                      2.6651167210944835,
                      1.655810073414883,
                      3.5427740403844687,
                      3.314357956360291,
                      1.960160500628257,
                      0.12095148470653731,
                      3.3360661098961333,
                      2.3721591804629814,
                      1.3054821161359973,
                      1.4637905316035875,
                      2.8798320016175154,
                      2.2521745594637164,
                      3.2880877853251986,
                      2.9800595892517983,
                      1.701141674646447,
                      4.173418207765571,
                      1.6274250608303222,
                      0.05225513082323375,
                      2.8440197866755077,
                      0.41327201608345404,
                      3.2729603080286456,
                      1.6936121955663992,
                      2.381842319135123,
                      3.6784331624393785,
                      2.179296216173934,
                      3.3489305940480403,
                      1.1914235913770195,
                      3.1728465383120006,
                      0.052255130823259804,
                      1.6867699555089606,
                      3.286953863650079
                    ],
                    "colorbar": {
                      "title": {
                        "text": "Sharpe<br>Ratio"
                      }
                    },
                    "colorscale": [
                      [
                        0,
                        "rgb(103,0,31)"
                      ],
                      [
                        0.1,
                        "rgb(178,24,43)"
                      ],
                      [
                        0.2,
                        "rgb(214,96,77)"
                      ],
                      [
                        0.3,
                        "rgb(244,165,130)"
                      ],
                      [
                        0.4,
                        "rgb(253,219,199)"
                      ],
                      [
                        0.5,
                        "rgb(247,247,247)"
                      ],
                      [
                        0.6,
                        "rgb(209,229,240)"
                      ],
                      [
                        0.7,
                        "rgb(146,197,222)"
                      ],
                      [
                        0.8,
                        "rgb(67,147,195)"
                      ],
                      [
                        0.9,
                        "rgb(33,102,172)"
                      ],
                      [
                        1,
                        "rgb(5,48,97)"
                      ]
                    ],
                    "line": {
                      "width": 1
                    },
                    "showscale": true,
                    "size": 7
                  },
                  "mode": "markers",
                  "text": [
                    "Return: 63.152%<br>Volatility: 0.156<br>Sharpe Ratio: 4.035<br>BABA_Close: Weight=0.525<br>TMO_Close: Weight=0.475<br>GM_Close: Weight=0.000<br>K_Close: Weight=0.000",
                    "Return: 50.326%<br>Volatility: 0.136<br>Sharpe Ratio: 3.709<br>ISRG_Close: Weight=0.600<br>SNAP_Close: Weight=0.000<br>DE_Close: Weight=0.400",
                    "Return: 36.858%<br>Volatility: 0.102<br>Sharpe Ratio: 3.607<br>JNJ_Close: Weight=0.374<br>MCD_Close: Weight=0.626<br>HD_Close: Weight=0.000<br>UA_Close: Weight=0.000",
                    "Return: 14.814%<br>Volatility: 0.136<br>Sharpe Ratio: 1.090<br>EXC_Close: Weight=1.000<br>EMR_Close: Weight=0.000<br>GS_Close: Weight=0.000",
                    "Return: 36.280%<br>Volatility: 0.098<br>Sharpe Ratio: 3.694<br>ISRG_Close: Weight=0.494<br>AEP_Close: Weight=0.506<br>GS_Close: Weight=0.000<br>DIS_Close: Weight=0.000",
                    "Return: 38.991%<br>Volatility: 0.166<br>Sharpe Ratio: 2.350<br>AMZN_Close: Weight=0.748<br>QCOM_Close: Weight=0.000<br>TSLA_Close: Weight=0.179<br>NKE_Close: Weight=0.073",
                    "Return: 10.084%<br>Volatility: 0.133<br>Sharpe Ratio: 0.759<br>LLY_Close: Weight=0.095<br>DIS_Close: Weight=0.000<br>ACN_Close: Weight=0.905",
                    "Return: 28.234%<br>Volatility: 0.105<br>Sharpe Ratio: 2.689<br>LLY_Close: Weight=0.000<br>NEE_Close: Weight=1.000<br>DHR_Close: Weight=0.000",
                    "Return: 31.475%<br>Volatility: 0.090<br>Sharpe Ratio: 3.481<br>QCOM_Close: Weight=0.000<br>EXC_Close: Weight=0.000<br>NEE_Close: Weight=0.693<br>ORCL_Close: Weight=0.307",
                    "Return: 31.596%<br>Volatility: 0.112<br>Sharpe Ratio: 2.832<br>MA_Close: Weight=0.799<br>BSX_Close: Weight=0.000<br>ABT_Close: Weight=0.201",
                    "Return: -3.148%<br>Volatility: 0.183<br>Sharpe Ratio: -0.172<br>GE_Close: Weight=0.000<br>AMGN_Close: Weight=1.000<br>GM_Close: Weight=0.000<br>GIS_Close: Weight=0.000",
                    "Return: 72.171%<br>Volatility: 0.190<br>Sharpe Ratio: 3.806<br>RDY_Close: Weight=0.000<br>SAP_Close: Weight=0.389<br>BABA_Close: Weight=0.611",
                    "Return: 25.151%<br>Volatility: 0.091<br>Sharpe Ratio: 2.765<br>RTX_Close: Weight=0.359<br>SRE_Close: Weight=0.377<br>DIS_Close: Weight=0.015<br>REGN_Close: Weight=0.249",
                    "Return: 21.168%<br>Volatility: 0.078<br>Sharpe Ratio: 2.700<br>DUK_Close: Weight=0.417<br>AAPL_Close: Weight=0.160<br>WMT_Close: Weight=0.423<br>AMGN_Close: Weight=0.000",
                    "Return: 30.683%<br>Volatility: 0.106<br>Sharpe Ratio: 2.893<br>SYY_Close: Weight=0.000<br>DHR_Close: Weight=0.000<br>MA_Close: Weight=0.760<br>PM_Close: Weight=0.240",
                    "Return: 41.446%<br>Volatility: 0.120<br>Sharpe Ratio: 3.464<br>MCD_Close: Weight=0.736<br>TMO_Close: Weight=0.264<br>BMY_Close: Weight=0.000",
                    "Return: 31.063%<br>Volatility: 0.090<br>Sharpe Ratio: 3.469<br>EXC_Close: Weight=0.217<br>V_Close: Weight=0.439<br>CAT_Close: Weight=0.199<br>AMZN_Close: Weight=0.144",
                    "Return: 70.035%<br>Volatility: 0.198<br>Sharpe Ratio: 3.543<br>RDY_Close: Weight=0.000<br>PG_Close: Weight=0.000<br>BA_Close: Weight=1.000",
                    "Return: 19.309%<br>Volatility: 0.099<br>Sharpe Ratio: 1.960<br>GM_Close: Weight=0.000<br>BMY_Close: Weight=0.000<br>HON_Close: Weight=1.000",
                    "Return: 40.807%<br>Volatility: 0.179<br>Sharpe Ratio: 2.279<br>MO_Close: Weight=0.000<br>JPM_Close: Weight=0.000<br>WFC_Close: Weight=0.000<br>DE_Close: Weight=1.000",
                    "Return: 61.965%<br>Volatility: 0.381<br>Sharpe Ratio: 1.627<br>XOM_Close: Weight=0.000<br>TSLA_Close: Weight=1.000<br>GIS_Close: Weight=0.000",
                    "Return: 32.519%<br>Volatility: 0.116<br>Sharpe Ratio: 2.796<br>PG_Close: Weight=0.000<br>ETN_Close: Weight=0.145<br>XOM_Close: Weight=0.000<br>MA_Close: Weight=0.855",
                    "Return: 25.843%<br>Volatility: 0.165<br>Sharpe Ratio: 1.563<br>LLY_Close: Weight=0.000<br>AMD_Close: Weight=0.000<br>GOOGL_Close: Weight=1.000",
                    "Return: 20.680%<br>Volatility: 0.154<br>Sharpe Ratio: 1.342<br>CMCSA_Close: Weight=1.000<br>QCOM_Close: Weight=0.000<br>AMGN_Close: Weight=0.000",
                    "Return: 23.768%<br>Volatility: 0.088<br>Sharpe Ratio: 2.707<br>PEP_Close: Weight=0.646<br>ORCL_Close: Weight=0.354<br>SNAP_Close: Weight=0.000",
                    "Return: 31.348%<br>Volatility: 0.113<br>Sharpe Ratio: 2.776<br>MA_Close: Weight=0.855<br>COST_Close: Weight=0.000<br>TXN_Close: Weight=0.000<br>RTX_Close: Weight=0.145",
                    "Return: 41.047%<br>Volatility: 0.110<br>Sharpe Ratio: 3.741<br>WMT_Close: Weight=0.345<br>MCD_Close: Weight=0.611<br>ACN_Close: Weight=0.044",
                    "Return: 21.036%<br>Volatility: 0.136<br>Sharpe Ratio: 1.546<br>ETN_Close: Weight=0.958<br>NKE_Close: Weight=0.042<br>T_Close: Weight=0.000",
                    "Return: 5.554%<br>Volatility: 0.134<br>Sharpe Ratio: 0.413<br>UA_Close: Weight=0.000<br>HD_Close: Weight=1.000<br>BAC_Close: Weight=0.000",
                    "Return: 58.301%<br>Volatility: 0.291<br>Sharpe Ratio: 2.002<br>NFLX_Close: Weight=0.879<br>MRK_Close: Weight=0.000<br>AAPL_Close: Weight=0.121<br>JPM_Close: Weight=0.000",
                    "Return: 30.642%<br>Volatility: 0.098<br>Sharpe Ratio: 3.136<br>BAC_Close: Weight=0.073<br>NEE_Close: Weight=0.782<br>NFLX_Close: Weight=0.146",
                    "Return: 14.932%<br>Volatility: 0.087<br>Sharpe Ratio: 1.720<br>ZBH_Close: Weight=0.166<br>AEP_Close: Weight=0.834<br>DIS_Close: Weight=0.000",
                    "Return: 34.348%<br>Volatility: 0.124<br>Sharpe Ratio: 2.760<br>MA_Close: Weight=1.000<br>MS_Close: Weight=0.000<br>HD_Close: Weight=0.000",
                    "Return: -5.109%<br>Volatility: 0.694<br>Sharpe Ratio: -0.074<br>AMD_Close: Weight=1.000<br>COST_Close: Weight=0.000<br>GM_Close: Weight=0.000<br>T_Close: Weight=0.000",
                    "Return: 54.509%<br>Volatility: 0.138<br>Sharpe Ratio: 3.950<br>PYPL_Close: Weight=0.570<br>TSLA_Close: Weight=0.127<br>SRE_Close: Weight=0.303<br>MO_Close: Weight=0.000",
                    "Return: 18.388%<br>Volatility: 0.101<br>Sharpe Ratio: 1.828<br>EXC_Close: Weight=0.453<br>AMGN_Close: Weight=0.000<br>NKE_Close: Weight=0.028<br>GILD_Close: Weight=0.519",
                    "Return: 51.563%<br>Volatility: 0.121<br>Sharpe Ratio: 4.265<br>ISRG_Close: Weight=0.432<br>MCD_Close: Weight=0.568<br>ZBH_Close: Weight=0.000",
                    "Return: 58.733%<br>Volatility: 0.147<br>Sharpe Ratio: 3.986<br>ORCL_Close: Weight=0.362<br>BA_Close: Weight=0.638<br>GIS_Close: Weight=0.000<br>T_Close: Weight=0.000",
                    "Return: 25.024%<br>Volatility: 0.082<br>Sharpe Ratio: 3.043<br>JNJ_Close: Weight=0.283<br>LMT_Close: Weight=0.384<br>ZBH_Close: Weight=0.000<br>MSFT_Close: Weight=0.333",
                    "Return: 28.424%<br>Volatility: 0.074<br>Sharpe Ratio: 3.853<br>ETN_Close: Weight=0.188<br>REGN_Close: Weight=0.141<br>INTC_Close: Weight=0.000<br>KO_Close: Weight=0.671",
                    "Return: 33.635%<br>Volatility: 0.085<br>Sharpe Ratio: 3.971<br>WMT_Close: Weight=0.268<br>MSFT_Close: Weight=0.311<br>UNH_Close: Weight=0.421<br>GE_Close: Weight=0.000",
                    "Return: 0.828%<br>Volatility: 0.158<br>Sharpe Ratio: 0.052<br>LLY_Close: Weight=1.000<br>MRK_Close: Weight=0.000<br>SNAP_Close: Weight=0.000",
                    "Return: 24.779%<br>Volatility: 0.084<br>Sharpe Ratio: 2.949<br>DHR_Close: Weight=0.000<br>BSX_Close: Weight=0.245<br>RMD_Close: Weight=0.022<br>NEE_Close: Weight=0.733",
                    "Return: 16.205%<br>Volatility: 0.177<br>Sharpe Ratio: 0.918<br>RMD_Close: Weight=1.000<br>CSCO_Close: Weight=0.000<br>DIS_Close: Weight=0.000",
                    "Return: 47.674%<br>Volatility: 0.145<br>Sharpe Ratio: 3.297<br>JPM_Close: Weight=0.000<br>MCD_Close: Weight=1.000<br>BIIB_Close: Weight=0.000<br>KR_Close: Weight=0.000",
                    "Return: 37.190%<br>Volatility: 0.089<br>Sharpe Ratio: 4.156<br>META_Close: Weight=0.425<br>NEE_Close: Weight=0.497<br>PEP_Close: Weight=0.078",
                    "Return: 40.884%<br>Volatility: 0.111<br>Sharpe Ratio: 3.669<br>GOOG_Close: Weight=0.215<br>SAP_Close: Weight=0.145<br>MCD_Close: Weight=0.640<br>K_Close: Weight=0.000",
                    "Return: 48.306%<br>Volatility: 0.149<br>Sharpe Ratio: 3.238<br>V_Close: Weight=0.788<br>NVDA_Close: Weight=0.212<br>DHR_Close: Weight=0.000<br>AMGN_Close: Weight=0.000",
                    "Return: 40.692%<br>Volatility: 0.123<br>Sharpe Ratio: 3.310<br>REGN_Close: Weight=0.204<br>K_Close: Weight=0.000<br>TSLA_Close: Weight=0.111<br>SYK_Close: Weight=0.685",
                    "Return: 20.170%<br>Volatility: 0.095<br>Sharpe Ratio: 2.117<br>GOOGL_Close: Weight=0.224<br>RTX_Close: Weight=0.107<br>UA_Close: Weight=0.000<br>HON_Close: Weight=0.669",
                    "Return: 7.620%<br>Volatility: 0.176<br>Sharpe Ratio: 0.433<br>ZBH_Close: Weight=1.000<br>INTC_Close: Weight=0.000<br>AMD_Close: Weight=0.000",
                    "Return: 52.403%<br>Volatility: 0.138<br>Sharpe Ratio: 3.786<br>PYPL_Close: Weight=0.583<br>HON_Close: Weight=0.417<br>GE_Close: Weight=0.000<br>VZ_Close: Weight=0.000",
                    "Return: 16.158%<br>Volatility: 0.109<br>Sharpe Ratio: 1.482<br>SRE_Close: Weight=0.451<br>CMCSA_Close: Weight=0.548<br>NKE_Close: Weight=0.001<br>T_Close: Weight=0.000",
                    "Return: 16.967%<br>Volatility: 0.081<br>Sharpe Ratio: 2.082<br>HON_Close: Weight=0.722<br>SRE_Close: Weight=0.255<br>TXN_Close: Weight=0.023",
                    "Return: 27.924%<br>Volatility: 0.101<br>Sharpe Ratio: 2.754<br>CVX_Close: Weight=0.000<br>ETN_Close: Weight=0.249<br>SYK_Close: Weight=0.751<br>WFC_Close: Weight=0.000",
                    "Return: 34.385%<br>Volatility: 0.094<br>Sharpe Ratio: 3.653<br>ISRG_Close: Weight=0.458<br>PEP_Close: Weight=0.542<br>WFC_Close: Weight=0.000",
                    "Return: 32.231%<br>Volatility: 0.137<br>Sharpe Ratio: 2.358<br>UA_Close: Weight=0.000<br>RDY_Close: Weight=0.000<br>MSFT_Close: Weight=1.000",
                    "Return: 43.724%<br>Volatility: 0.138<br>Sharpe Ratio: 3.161<br>ADBE_Close: Weight=0.855<br>LLY_Close: Weight=0.000<br>MMM_Close: Weight=0.145",
                    "Return: 28.671%<br>Volatility: 0.116<br>Sharpe Ratio: 2.472<br>WFC_Close: Weight=0.000<br>MSFT_Close: Weight=0.729<br>GS_Close: Weight=0.000<br>PM_Close: Weight=0.271",
                    "Return: 30.988%<br>Volatility: 0.092<br>Sharpe Ratio: 3.358<br>SYK_Close: Weight=0.281<br>ETN_Close: Weight=0.196<br>UNH_Close: Weight=0.522",
                    "Return: 10.690%<br>Volatility: 0.107<br>Sharpe Ratio: 0.998<br>SRE_Close: Weight=1.000<br>BAC_Close: Weight=0.000<br>CVX_Close: Weight=0.000",
                    "Return: 20.487%<br>Volatility: 0.153<br>Sharpe Ratio: 1.343<br>EMR_Close: Weight=0.000<br>MS_Close: Weight=0.013<br>IBM_Close: Weight=0.000<br>CMCSA_Close: Weight=0.987",
                    "Return: -3.324%<br>Volatility: 0.229<br>Sharpe Ratio: -0.145<br>BIIB_Close: Weight=1.000<br>BAC_Close: Weight=0.000<br>RDY_Close: Weight=0.000",
                    "Return: 18.793%<br>Volatility: 0.111<br>Sharpe Ratio: 1.693<br>BAC_Close: Weight=0.000<br>F_Close: Weight=0.000<br>JNJ_Close: Weight=1.000",
                    "Return: 33.088%<br>Volatility: 0.092<br>Sharpe Ratio: 3.594<br>EW_Close: Weight=0.219<br>NEE_Close: Weight=0.644<br>DUK_Close: Weight=0.000<br>GOOG_Close: Weight=0.137",
                    "Return: 50.566%<br>Volatility: 0.118<br>Sharpe Ratio: 4.270<br>ISRG_Close: Weight=0.423<br>MCD_Close: Weight=0.555<br>NKE_Close: Weight=0.022",
                    "Return: 5.606%<br>Volatility: 0.219<br>Sharpe Ratio: 0.256<br>WFC_Close: Weight=0.000<br>GE_Close: Weight=0.000<br>MS_Close: Weight=1.000",
                    "Return: 46.197%<br>Volatility: 0.130<br>Sharpe Ratio: 3.548<br>META_Close: Weight=0.682<br>ORCL_Close: Weight=0.280<br>PG_Close: Weight=0.038<br>AMD_Close: Weight=0.000",
                    "Return: -1.752%<br>Volatility: 0.175<br>Sharpe Ratio: -0.100<br>VZ_Close: Weight=1.000<br>KR_Close: Weight=0.000<br>IBM_Close: Weight=0.000",
                    "Return: 39.549%<br>Volatility: 0.155<br>Sharpe Ratio: 2.556<br>COST_Close: Weight=0.000<br>TMO_Close: Weight=0.588<br>CVX_Close: Weight=0.020<br>REGN_Close: Weight=0.392",
                    "Return: 5.729%<br>Volatility: 0.118<br>Sharpe Ratio: 0.484<br>SYY_Close: Weight=0.193<br>LLY_Close: Weight=0.000<br>ZBH_Close: Weight=0.587<br>BMY_Close: Weight=0.220",
                    "Return: 18.793%<br>Volatility: 0.111<br>Sharpe Ratio: 1.693<br>GE_Close: Weight=0.000<br>JPM_Close: Weight=0.000<br>JNJ_Close: Weight=1.000",
                    "Return: 79.278%<br>Volatility: 0.302<br>Sharpe Ratio: 2.627<br>BTI_Close: Weight=0.000<br>PG_Close: Weight=0.386<br>VRTX_Close: Weight=0.614",
                    "Return: 28.881%<br>Volatility: 0.110<br>Sharpe Ratio: 2.616<br>AMD_Close: Weight=0.000<br>V_Close: Weight=1.000<br>AMGN_Close: Weight=0.000",
                    "Return: 25.164%<br>Volatility: 0.092<br>Sharpe Ratio: 2.739<br>F_Close: Weight=0.000<br>NEE_Close: Weight=0.846<br>MDT_Close: Weight=0.154",
                    "Return: 14.662%<br>Volatility: 0.133<br>Sharpe Ratio: 1.105<br>BMY_Close: Weight=0.027<br>AAPL_Close: Weight=0.769<br>PFE_Close: Weight=0.000<br>HD_Close: Weight=0.204",
                    "Return: 33.658%<br>Volatility: 0.094<br>Sharpe Ratio: 3.572<br>TMO_Close: Weight=0.171<br>DUK_Close: Weight=0.323<br>META_Close: Weight=0.506",
                    "Return: 70.016%<br>Volatility: 0.221<br>Sharpe Ratio: 3.167<br>SNAP_Close: Weight=0.000<br>NVDA_Close: Weight=0.383<br>ORCL_Close: Weight=0.617",
                    "Return: 31.304%<br>Volatility: 0.112<br>Sharpe Ratio: 2.797<br>ACN_Close: Weight=0.000<br>MMM_Close: Weight=0.161<br>MA_Close: Weight=0.839",
                    "Return: 22.497%<br>Volatility: 0.100<br>Sharpe Ratio: 2.252<br>LMT_Close: Weight=0.853<br>AAPL_Close: Weight=0.147<br>BAC_Close: Weight=0.000",
                    "Return: 120.347%<br>Volatility: 0.443<br>Sharpe Ratio: 2.715<br>NVDA_Close: Weight=1.000<br>SNAP_Close: Weight=0.000<br>BAC_Close: Weight=0.000<br>EMR_Close: Weight=0.000",
                    "Return: 24.101%<br>Volatility: 0.087<br>Sharpe Ratio: 2.779<br>BAC_Close: Weight=0.108<br>SNAP_Close: Weight=0.000<br>NEE_Close: Weight=0.892<br>DUK_Close: Weight=0.000",
                    "Return: 53.248%<br>Volatility: 0.139<br>Sharpe Ratio: 3.820<br>JNJ_Close: Weight=0.399<br>TXN_Close: Weight=0.000<br>PYPL_Close: Weight=0.601",
                    "Return: 56.678%<br>Volatility: 0.180<br>Sharpe Ratio: 3.157<br>BAC_Close: Weight=0.000<br>KR_Close: Weight=0.000<br>ISRG_Close: Weight=1.000<br>XOM_Close: Weight=0.000",
                    "Return: 20.918%<br>Volatility: 0.130<br>Sharpe Ratio: 1.611<br>MDT_Close: Weight=0.281<br>F_Close: Weight=0.000<br>GOOGL_Close: Weight=0.719",
                    "Return: 35.646%<br>Volatility: 0.093<br>Sharpe Ratio: 3.820<br>ADBE_Close: Weight=0.428<br>NEE_Close: Weight=0.515<br>HD_Close: Weight=0.056",
                    "Return: 14.115%<br>Volatility: 0.084<br>Sharpe Ratio: 1.682<br>DUK_Close: Weight=0.568<br>TXN_Close: Weight=0.101<br>SRE_Close: Weight=0.000<br>CMCSA_Close: Weight=0.331",
                    "Return: 101.157%<br>Volatility: 0.349<br>Sharpe Ratio: 2.897<br>TSLA_Close: Weight=0.329<br>NVDA_Close: Weight=0.671<br>RDY_Close: Weight=0.000<br>MO_Close: Weight=0.000",
                    "Return: 41.925%<br>Volatility: 0.083<br>Sharpe Ratio: 5.063<br>MCD_Close: Weight=0.249<br>NEE_Close: Weight=0.424<br>ISRG_Close: Weight=0.263<br>CAT_Close: Weight=0.065",
                    "Return: 24.865%<br>Volatility: 0.084<br>Sharpe Ratio: 2.947<br>VZ_Close: Weight=0.000<br>NEE_Close: Weight=0.741<br>BSX_Close: Weight=0.259",
                    "Return: 14.159%<br>Volatility: 0.089<br>Sharpe Ratio: 1.589<br>RMD_Close: Weight=0.201<br>WFC_Close: Weight=0.000<br>RTX_Close: Weight=0.799",
                    "Return: 98.505%<br>Volatility: 0.270<br>Sharpe Ratio: 3.643<br>EMR_Close: Weight=0.000<br>BABA_Close: Weight=1.000<br>GM_Close: Weight=0.000<br>F_Close: Weight=0.000",
                    "Return: 36.711%<br>Volatility: 0.171<br>Sharpe Ratio: 2.142<br>GS_Close: Weight=0.000<br>KR_Close: Weight=0.000<br>AMZN_Close: Weight=1.000",
                    "Return: 38.296%<br>Volatility: 0.175<br>Sharpe Ratio: 2.185<br>CAT_Close: Weight=0.709<br>ACN_Close: Weight=0.291<br>JPM_Close: Weight=0.000",
                    "Return: -5.109%<br>Volatility: 0.694<br>Sharpe Ratio: -0.074<br>AMGN_Close: Weight=0.000<br>RDY_Close: Weight=0.000<br>AMD_Close: Weight=1.000",
                    "Return: 36.680%<br>Volatility: 0.104<br>Sharpe Ratio: 3.532<br>GM_Close: Weight=0.000<br>TMO_Close: Weight=0.202<br>LLY_Close: Weight=0.133<br>MCD_Close: Weight=0.665",
                    "Return: 18.037%<br>Volatility: 0.074<br>Sharpe Ratio: 2.431<br>HON_Close: Weight=0.564<br>AEP_Close: Weight=0.436<br>GE_Close: Weight=0.000",
                    "Return: 24.434%<br>Volatility: 0.085<br>Sharpe Ratio: 2.880<br>AEP_Close: Weight=0.356<br>V_Close: Weight=0.644<br>DIS_Close: Weight=0.000",
                    "Return: 48.076%<br>Volatility: 0.113<br>Sharpe Ratio: 4.261<br>MDT_Close: Weight=0.000<br>ADBE_Close: Weight=0.467<br>MCD_Close: Weight=0.533",
                    "Return: 120.347%<br>Volatility: 0.443<br>Sharpe Ratio: 2.715<br>GIS_Close: Weight=0.000<br>NVDA_Close: Weight=1.000<br>SO_Close: Weight=0.000",
                    "Return: 68.283%<br>Volatility: 0.188<br>Sharpe Ratio: 3.637<br>MMM_Close: Weight=0.129<br>BIIB_Close: Weight=0.000<br>PYPL_Close: Weight=0.871",
                    "Return: 8.328%<br>Volatility: 0.114<br>Sharpe Ratio: 0.730<br>XOM_Close: Weight=0.000<br>GE_Close: Weight=0.000<br>MDT_Close: Weight=1.000<br>AMGN_Close: Weight=0.000",
                    "Return: 55.714%<br>Volatility: 0.278<br>Sharpe Ratio: 2.008<br>MS_Close: Weight=0.115<br>NKE_Close: Weight=0.026<br>NFLX_Close: Weight=0.859",
                    "Return: 29.929%<br>Volatility: 0.074<br>Sharpe Ratio: 4.019<br>ABBV_Close: Weight=0.247<br>ORCL_Close: Weight=0.161<br>WMT_Close: Weight=0.282<br>LMT_Close: Weight=0.311",
                    "Return: 38.758%<br>Volatility: 0.108<br>Sharpe Ratio: 3.593<br>MS_Close: Weight=0.000<br>EXC_Close: Weight=0.251<br>ISRG_Close: Weight=0.446<br>MSFT_Close: Weight=0.303",
                    "Return: 66.505%<br>Volatility: 0.134<br>Sharpe Ratio: 4.966<br>BABA_Close: Weight=0.370<br>MCD_Close: Weight=0.630<br>PG_Close: Weight=0.000",
                    "Return: 42.793%<br>Volatility: 0.087<br>Sharpe Ratio: 4.924<br>GOOG_Close: Weight=0.024<br>AEP_Close: Weight=0.457<br>WMT_Close: Weight=0.253<br>BABA_Close: Weight=0.267",
                    "Return: 36.627%<br>Volatility: 0.162<br>Sharpe Ratio: 2.258<br>NFLX_Close: Weight=0.444<br>PG_Close: Weight=0.000<br>EXC_Close: Weight=0.556",
                    "Return: 37.558%<br>Volatility: 0.099<br>Sharpe Ratio: 3.808<br>ADBE_Close: Weight=0.459<br>BMY_Close: Weight=0.000<br>NEE_Close: Weight=0.541<br>AAPL_Close: Weight=0.000",
                    "Return: 15.326%<br>Volatility: 0.079<br>Sharpe Ratio: 1.946<br>PG_Close: Weight=0.000<br>ETN_Close: Weight=0.437<br>MDT_Close: Weight=0.026<br>DUK_Close: Weight=0.538",
                    "Return: 51.509%<br>Volatility: 0.134<br>Sharpe Ratio: 3.843<br>NVDA_Close: Weight=0.193<br>INTC_Close: Weight=0.000<br>UNH_Close: Weight=0.807",
                    "Return: 35.013%<br>Volatility: 0.118<br>Sharpe Ratio: 2.965<br>SYY_Close: Weight=0.000<br>UNH_Close: Weight=1.000<br>SO_Close: Weight=0.000<br>WFC_Close: Weight=0.000",
                    "Return: 8.997%<br>Volatility: 0.084<br>Sharpe Ratio: 1.067<br>HD_Close: Weight=0.156<br>SRE_Close: Weight=0.743<br>JPM_Close: Weight=0.100<br>LLY_Close: Weight=0.000",
                    "Return: 19.874%<br>Volatility: 0.085<br>Sharpe Ratio: 2.333<br>TMO_Close: Weight=0.387<br>EXC_Close: Weight=0.244<br>JNJ_Close: Weight=0.369",
                    "Return: 27.006%<br>Volatility: 0.096<br>Sharpe Ratio: 2.821<br>NKE_Close: Weight=0.005<br>EXC_Close: Weight=0.164<br>SAP_Close: Weight=0.319<br>ABBV_Close: Weight=0.511",
                    "Return: 22.762%<br>Volatility: 0.084<br>Sharpe Ratio: 2.702<br>LLY_Close: Weight=0.000<br>RTX_Close: Weight=0.230<br>V_Close: Weight=0.667<br>PG_Close: Weight=0.103",
                    "Return: 33.963%<br>Volatility: 0.082<br>Sharpe Ratio: 4.162<br>KO_Close: Weight=0.718<br>SNAP_Close: Weight=0.000<br>VRTX_Close: Weight=0.091<br>MSFT_Close: Weight=0.191",
                    "Return: 38.837%<br>Volatility: 0.105<br>Sharpe Ratio: 3.686<br>ABT_Close: Weight=0.156<br>T_Close: Weight=0.000<br>MCD_Close: Weight=0.615<br>GOOG_Close: Weight=0.229",
                    "Return: 46.996%<br>Volatility: 0.140<br>Sharpe Ratio: 3.353<br>DHR_Close: Weight=0.000<br>VRTX_Close: Weight=0.185<br>V_Close: Weight=0.815",
                    "Return: 50.938%<br>Volatility: 0.161<br>Sharpe Ratio: 3.171<br>AMGN_Close: Weight=0.000<br>ISRG_Close: Weight=0.888<br>HD_Close: Weight=0.112",
                    "Return: 35.576%<br>Volatility: 0.115<br>Sharpe Ratio: 3.107<br>T_Close: Weight=0.000<br>CAT_Close: Weight=0.327<br>ZBH_Close: Weight=0.000<br>ABBV_Close: Weight=0.673",
                    "Return: 39.883%<br>Volatility: 0.132<br>Sharpe Ratio: 3.020<br>SAP_Close: Weight=0.281<br>MSFT_Close: Weight=0.473<br>REGN_Close: Weight=0.246<br>LLY_Close: Weight=0.000",
                    "Return: -6.629%<br>Volatility: 0.149<br>Sharpe Ratio: -0.444<br>GE_Close: Weight=0.000<br>CVX_Close: Weight=1.000<br>PFE_Close: Weight=0.000",
                    "Return: 33.431%<br>Volatility: 0.087<br>Sharpe Ratio: 3.845<br>JNJ_Close: Weight=0.178<br>MCD_Close: Weight=0.540<br>COST_Close: Weight=0.000<br>MMM_Close: Weight=0.282",
                    "Return: 15.214%<br>Volatility: 0.134<br>Sharpe Ratio: 1.138<br>IBM_Close: Weight=0.000<br>BSX_Close: Weight=1.000<br>BAC_Close: Weight=0.000",
                    "Return: 32.576%<br>Volatility: 0.114<br>Sharpe Ratio: 2.869<br>CAT_Close: Weight=0.340<br>ABT_Close: Weight=0.350<br>K_Close: Weight=0.000<br>GOOG_Close: Weight=0.310",
                    "Return: 32.650%<br>Volatility: 0.130<br>Sharpe Ratio: 2.521<br>AMZN_Close: Weight=0.336<br>MDT_Close: Weight=0.046<br>MSFT_Close: Weight=0.618",
                    "Return: 88.868%<br>Volatility: 0.323<br>Sharpe Ratio: 2.748<br>DHR_Close: Weight=0.000<br>GOOGL_Close: Weight=0.333<br>NVDA_Close: Weight=0.667",
                    "Return: 12.336%<br>Volatility: 0.076<br>Sharpe Ratio: 1.621<br>DUK_Close: Weight=0.610<br>BSX_Close: Weight=0.390<br>SYY_Close: Weight=0.000",
                    "Return: 61.578%<br>Volatility: 0.201<br>Sharpe Ratio: 3.069<br>SAP_Close: Weight=0.656<br>RMD_Close: Weight=0.000<br>AMD_Close: Weight=0.000<br>NVDA_Close: Weight=0.344",
                    "Return: 35.560%<br>Volatility: 0.127<br>Sharpe Ratio: 2.810<br>CAT_Close: Weight=0.350<br>LLY_Close: Weight=0.016<br>GOOGL_Close: Weight=0.256<br>SAP_Close: Weight=0.378",
                    "Return: 20.651%<br>Volatility: 0.133<br>Sharpe Ratio: 1.556<br>DHR_Close: Weight=0.000<br>ABT_Close: Weight=1.000<br>PFE_Close: Weight=0.000",
                    "Return: 36.711%<br>Volatility: 0.171<br>Sharpe Ratio: 2.142<br>BIIB_Close: Weight=0.000<br>AMZN_Close: Weight=1.000<br>DHR_Close: Weight=0.000<br>CSCO_Close: Weight=0.000",
                    "Return: 31.057%<br>Volatility: 0.091<br>Sharpe Ratio: 3.430<br>BIIB_Close: Weight=0.000<br>SYK_Close: Weight=0.381<br>ABBV_Close: Weight=0.296<br>MA_Close: Weight=0.324",
                    "Return: 33.759%<br>Volatility: 0.099<br>Sharpe Ratio: 3.412<br>UNH_Close: Weight=0.614<br>CMCSA_Close: Weight=0.150<br>ORCL_Close: Weight=0.237<br>COST_Close: Weight=0.000",
                    "Return: 44.495%<br>Volatility: 0.198<br>Sharpe Ratio: 2.250<br>CVX_Close: Weight=0.000<br>REGN_Close: Weight=0.587<br>BSX_Close: Weight=0.413",
                    "Return: 1.822%<br>Volatility: 0.162<br>Sharpe Ratio: 0.113<br>RDY_Close: Weight=0.000<br>GS_Close: Weight=0.000<br>JPM_Close: Weight=1.000",
                    "Return: 31.940%<br>Volatility: 0.135<br>Sharpe Ratio: 2.358<br>MSFT_Close: Weight=0.989<br>K_Close: Weight=0.000<br>NKE_Close: Weight=0.011",
                    "Return: 30.917%<br>Volatility: 0.111<br>Sharpe Ratio: 2.793<br>V_Close: Weight=0.740<br>BAC_Close: Weight=0.000<br>AMZN_Close: Weight=0.260",
                    "Return: 60.627%<br>Volatility: 0.144<br>Sharpe Ratio: 4.221<br>GOOG_Close: Weight=0.085<br>BABA_Close: Weight=0.428<br>WMT_Close: Weight=0.487",
                    "Return: 23.076%<br>Volatility: 0.104<br>Sharpe Ratio: 2.221<br>BTI_Close: Weight=0.000<br>MDT_Close: Weight=0.163<br>SAP_Close: Weight=0.576<br>MMM_Close: Weight=0.262",
                    "Return: 50.304%<br>Volatility: 0.122<br>Sharpe Ratio: 4.109<br>ORCL_Close: Weight=0.271<br>CMCSA_Close: Weight=0.169<br>BA_Close: Weight=0.491<br>GOOG_Close: Weight=0.069",
                    "Return: 17.068%<br>Volatility: 0.084<br>Sharpe Ratio: 2.038<br>GOOGL_Close: Weight=0.000<br>GOOG_Close: Weight=0.352<br>AAPL_Close: Weight=0.083<br>DUK_Close: Weight=0.564",
                    "Return: 17.005%<br>Volatility: 0.081<br>Sharpe Ratio: 2.111<br>CMCSA_Close: Weight=0.283<br>PEP_Close: Weight=0.717<br>CVX_Close: Weight=0.000",
                    "Return: 68.495%<br>Volatility: 0.214<br>Sharpe Ratio: 3.197<br>MRK_Close: Weight=0.000<br>ORCL_Close: Weight=0.663<br>VRTX_Close: Weight=0.337",
                    "Return: 126.996%<br>Volatility: 0.486<br>Sharpe Ratio: 2.611<br>F_Close: Weight=0.000<br>VRTX_Close: Weight=1.000<br>LLY_Close: Weight=0.000",
                    "Return: 34.379%<br>Volatility: 0.116<br>Sharpe Ratio: 2.966<br>UNH_Close: Weight=0.981<br>HD_Close: Weight=0.000<br>MDT_Close: Weight=0.000<br>BTI_Close: Weight=0.019",
                    "Return: 4.395%<br>Volatility: 0.177<br>Sharpe Ratio: 0.248<br>JPM_Close: Weight=0.385<br>NKE_Close: Weight=0.615<br>EMR_Close: Weight=0.000",
                    "Return: 32.933%<br>Volatility: 0.147<br>Sharpe Ratio: 2.240<br>HD_Close: Weight=0.006<br>LLY_Close: Weight=0.000<br>WMT_Close: Weight=0.994",
                    "Return: 11.964%<br>Volatility: 0.104<br>Sharpe Ratio: 1.155<br>EXC_Close: Weight=0.781<br>F_Close: Weight=0.000<br>JPM_Close: Weight=0.219<br>GIS_Close: Weight=0.000",
                    "Return: 24.839%<br>Volatility: 0.073<br>Sharpe Ratio: 3.383<br>MS_Close: Weight=0.105<br>TMO_Close: Weight=0.247<br>K_Close: Weight=0.000<br>NEE_Close: Weight=0.648",
                    "Return: 20.651%<br>Volatility: 0.133<br>Sharpe Ratio: 1.556<br>AMD_Close: Weight=0.000<br>ABT_Close: Weight=1.000<br>DIS_Close: Weight=0.000",
                    "Return: 49.557%<br>Volatility: 0.114<br>Sharpe Ratio: 4.338<br>META_Close: Weight=0.474<br>MCD_Close: Weight=0.526<br>AMGN_Close: Weight=0.000",
                    "Return: 19.349%<br>Volatility: 0.124<br>Sharpe Ratio: 1.563<br>MDT_Close: Weight=0.106<br>GIS_Close: Weight=0.000<br>PFE_Close: Weight=0.000<br>ABT_Close: Weight=0.894",
                    "Return: 27.636%<br>Volatility: 0.123<br>Sharpe Ratio: 2.245<br>AAPL_Close: Weight=0.000<br>SAP_Close: Weight=0.692<br>MS_Close: Weight=0.000<br>CMCSA_Close: Weight=0.308",
                    "Return: 3.502%<br>Volatility: 0.087<br>Sharpe Ratio: 0.403<br>GE_Close: Weight=0.000<br>MO_Close: Weight=0.000<br>CVX_Close: Weight=0.000<br>PG_Close: Weight=1.000",
                    "Return: 52.691%<br>Volatility: 0.159<br>Sharpe Ratio: 3.308<br>MA_Close: Weight=0.787<br>NVDA_Close: Weight=0.213<br>SNAP_Close: Weight=0.000<br>CPB_Close: Weight=0.000",
                    "Return: 36.055%<br>Volatility: 0.085<br>Sharpe Ratio: 4.264<br>LMT_Close: Weight=0.413<br>MCD_Close: Weight=0.443<br>AMZN_Close: Weight=0.144<br>DIS_Close: Weight=0.000",
                    "Return: 47.674%<br>Volatility: 0.145<br>Sharpe Ratio: 3.297<br>MCD_Close: Weight=1.000<br>MRK_Close: Weight=0.000<br>WFC_Close: Weight=0.000",
                    "Return: 52.251%<br>Volatility: 0.159<br>Sharpe Ratio: 3.290<br>META_Close: Weight=0.941<br>MO_Close: Weight=0.000<br>TSLA_Close: Weight=0.059",
                    "Return: -6.629%<br>Volatility: 0.149<br>Sharpe Ratio: -0.444<br>QCOM_Close: Weight=0.000<br>T_Close: Weight=0.000<br>GE_Close: Weight=0.000<br>CVX_Close: Weight=1.000",
                    "Return: 58.821%<br>Volatility: 0.138<br>Sharpe Ratio: 4.277<br>ADBE_Close: Weight=0.384<br>BABA_Close: Weight=0.343<br>LMT_Close: Weight=0.273<br>AAPL_Close: Weight=0.000",
                    "Return: 68.520%<br>Volatility: 0.193<br>Sharpe Ratio: 3.543<br>CSCO_Close: Weight=0.000<br>BA_Close: Weight=0.978<br>IBM_Close: Weight=0.000<br>LLY_Close: Weight=0.022",
                    "Return: 2.406%<br>Volatility: 0.155<br>Sharpe Ratio: 0.155<br>MRK_Close: Weight=0.000<br>XOM_Close: Weight=0.000<br>SYY_Close: Weight=1.000",
                    "Return: 31.445%<br>Volatility: 0.144<br>Sharpe Ratio: 2.188<br>TSLA_Close: Weight=0.288<br>PM_Close: Weight=0.712<br>AMGN_Close: Weight=0.000",
                    "Return: 48.169%<br>Volatility: 0.113<br>Sharpe Ratio: 4.280<br>RMD_Close: Weight=0.000<br>ADBE_Close: Weight=0.464<br>MCD_Close: Weight=0.482<br>CAT_Close: Weight=0.054",
                    "Return: 21.990%<br>Volatility: 0.071<br>Sharpe Ratio: 3.078<br>KR_Close: Weight=0.000<br>KO_Close: Weight=0.902<br>EXC_Close: Weight=0.000<br>RMD_Close: Weight=0.098",
                    "Return: 28.234%<br>Volatility: 0.105<br>Sharpe Ratio: 2.689<br>NEE_Close: Weight=1.000<br>KR_Close: Weight=0.000<br>PG_Close: Weight=0.000",
                    "Return: 47.570%<br>Volatility: 0.174<br>Sharpe Ratio: 2.734<br>TSLA_Close: Weight=0.217<br>EW_Close: Weight=0.539<br>GOOG_Close: Weight=0.245",
                    "Return: 35.013%<br>Volatility: 0.118<br>Sharpe Ratio: 2.965<br>ZBH_Close: Weight=0.000<br>IBM_Close: Weight=0.000<br>MO_Close: Weight=0.000<br>UNH_Close: Weight=1.000",
                    "Return: 27.553%<br>Volatility: 0.092<br>Sharpe Ratio: 3.010<br>WMT_Close: Weight=0.460<br>AMGN_Close: Weight=0.000<br>TMO_Close: Weight=0.255<br>ETN_Close: Weight=0.285",
                    "Return: 27.391%<br>Volatility: 0.088<br>Sharpe Ratio: 3.109<br>CAT_Close: Weight=0.258<br>AEP_Close: Weight=0.481<br>GOOGL_Close: Weight=0.261",
                    "Return: 48.534%<br>Volatility: 0.155<br>Sharpe Ratio: 3.139<br>DHR_Close: Weight=0.000<br>ADBE_Close: Weight=1.000<br>UA_Close: Weight=0.000<br>XOM_Close: Weight=0.000",
                    "Return: 41.021%<br>Volatility: 0.121<br>Sharpe Ratio: 3.401<br>UNH_Close: Weight=0.800<br>AMGN_Close: Weight=0.000<br>DIS_Close: Weight=0.000<br>REGN_Close: Weight=0.200",
                    "Return: 44.907%<br>Volatility: 0.124<br>Sharpe Ratio: 3.631<br>INTC_Close: Weight=0.000<br>EXC_Close: Weight=0.302<br>WMT_Close: Weight=0.499<br>NVDA_Close: Weight=0.199",
                    "Return: 33.069%<br>Volatility: 0.073<br>Sharpe Ratio: 4.504<br>KR_Close: Weight=0.000<br>ISRG_Close: Weight=0.307<br>KO_Close: Weight=0.693",
                    "Return: 13.645%<br>Volatility: 0.093<br>Sharpe Ratio: 1.464<br>DIS_Close: Weight=0.000<br>RTX_Close: Weight=1.000<br>AMGN_Close: Weight=0.000",
                    "Return: 2.831%<br>Volatility: 0.129<br>Sharpe Ratio: 0.220<br>BTI_Close: Weight=0.279<br>AMD_Close: Weight=0.000<br>BMY_Close: Weight=0.721",
                    "Return: 11.058%<br>Volatility: 0.147<br>Sharpe Ratio: 0.754<br>ACN_Close: Weight=1.000<br>IBM_Close: Weight=0.000<br>RDY_Close: Weight=0.000",
                    "Return: 27.953%<br>Volatility: 0.103<br>Sharpe Ratio: 2.713<br>AEP_Close: Weight=0.637<br>TXN_Close: Weight=0.012<br>CAT_Close: Weight=0.351<br>KR_Close: Weight=0.000",
                    "Return: 29.846%<br>Volatility: 0.115<br>Sharpe Ratio: 2.600<br>BIIB_Close: Weight=0.000<br>SRE_Close: Weight=0.566<br>REGN_Close: Weight=0.349<br>TXN_Close: Weight=0.085",
                    "Return: 53.200%<br>Volatility: 0.173<br>Sharpe Ratio: 3.074<br>GOOG_Close: Weight=0.142<br>VRTX_Close: Weight=0.278<br>IBM_Close: Weight=0.000<br>TMO_Close: Weight=0.580",
                    "Return: 39.976%<br>Volatility: 0.113<br>Sharpe Ratio: 3.551<br>SO_Close: Weight=0.000<br>ADBE_Close: Weight=0.566<br>ABBV_Close: Weight=0.434",
                    "Return: 14.932%<br>Volatility: 0.087<br>Sharpe Ratio: 1.720<br>KR_Close: Weight=0.000<br>AEP_Close: Weight=0.834<br>ZBH_Close: Weight=0.166<br>F_Close: Weight=0.000",
                    "Return: 98.505%<br>Volatility: 0.270<br>Sharpe Ratio: 3.643<br>QCOM_Close: Weight=0.000<br>BABA_Close: Weight=1.000<br>CVX_Close: Weight=0.000",
                    "Return: 16.390%<br>Volatility: 0.101<br>Sharpe Ratio: 1.620<br>COST_Close: Weight=0.000<br>WFC_Close: Weight=0.000<br>AEP_Close: Weight=1.000",
                    "Return: 48.488%<br>Volatility: 0.148<br>Sharpe Ratio: 3.280<br>RDY_Close: Weight=0.000<br>RMD_Close: Weight=0.089<br>UA_Close: Weight=0.000<br>META_Close: Weight=0.911",
                    "Return: 45.628%<br>Volatility: 0.126<br>Sharpe Ratio: 3.610<br>GE_Close: Weight=0.000<br>MCD_Close: Weight=0.702<br>DE_Close: Weight=0.298",
                    "Return: 24.107%<br>Volatility: 0.090<br>Sharpe Ratio: 2.665<br>HON_Close: Weight=0.471<br>ABBV_Close: Weight=0.511<br>MMM_Close: Weight=0.018",
                    "Return: -0.844%<br>Volatility: 0.165<br>Sharpe Ratio: -0.051<br>UA_Close: Weight=0.000<br>EMR_Close: Weight=1.000<br>IBM_Close: Weight=0.000",
                    "Return: 16.940%<br>Volatility: 0.132<br>Sharpe Ratio: 1.288<br>AAPL_Close: Weight=0.585<br>RMD_Close: Weight=0.415<br>K_Close: Weight=0.000",
                    "Return: 17.356%<br>Volatility: 0.122<br>Sharpe Ratio: 1.427<br>PM_Close: Weight=0.872<br>BIIB_Close: Weight=0.000<br>HD_Close: Weight=0.128",
                    "Return: 105.852%<br>Volatility: 0.254<br>Sharpe Ratio: 4.171<br>AMD_Close: Weight=0.000<br>K_Close: Weight=0.000<br>BABA_Close: Weight=0.742<br>VRTX_Close: Weight=0.258",
                    "Return: 32.271%<br>Volatility: 0.114<br>Sharpe Ratio: 2.819<br>CVX_Close: Weight=0.000<br>MA_Close: Weight=0.620<br>V_Close: Weight=0.380<br>RMD_Close: Weight=0.000",
                    "Return: 20.651%<br>Volatility: 0.133<br>Sharpe Ratio: 1.556<br>ABT_Close: Weight=1.000<br>UA_Close: Weight=0.000<br>XOM_Close: Weight=0.000",
                    "Return: 43.157%<br>Volatility: 0.119<br>Sharpe Ratio: 3.617<br>ABT_Close: Weight=0.185<br>META_Close: Weight=0.600<br>ORCL_Close: Weight=0.215",
                    "Return: 14.814%<br>Volatility: 0.136<br>Sharpe Ratio: 1.090<br>BIIB_Close: Weight=0.000<br>EXC_Close: Weight=1.000<br>K_Close: Weight=0.000",
                    "Return: 49.347%<br>Volatility: 0.127<br>Sharpe Ratio: 3.879<br>JNJ_Close: Weight=0.368<br>PYPL_Close: Weight=0.488<br>AMZN_Close: Weight=0.144",
                    "Return: 22.185%<br>Volatility: 0.153<br>Sharpe Ratio: 1.451<br>T_Close: Weight=0.000<br>GILD_Close: Weight=1.000<br>SO_Close: Weight=0.000",
                    "Return: 38.918%<br>Volatility: 0.114<br>Sharpe Ratio: 3.411<br>META_Close: Weight=0.689<br>SRE_Close: Weight=0.311<br>AMZN_Close: Weight=0.000",
                    "Return: 29.562%<br>Volatility: 0.110<br>Sharpe Ratio: 2.685<br>EW_Close: Weight=0.382<br>AEP_Close: Weight=0.618<br>GIS_Close: Weight=0.000",
                    "Return: 27.511%<br>Volatility: 0.169<br>Sharpe Ratio: 1.624<br>CSCO_Close: Weight=0.000<br>LLY_Close: Weight=0.000<br>GOOG_Close: Weight=1.000<br>DHR_Close: Weight=0.000",
                    "Return: 35.908%<br>Volatility: 0.121<br>Sharpe Ratio: 2.978<br>TSLA_Close: Weight=0.133<br>CPB_Close: Weight=0.000<br>ORCL_Close: Weight=0.270<br>ABBV_Close: Weight=0.597",
                    "Return: 49.457%<br>Volatility: 0.233<br>Sharpe Ratio: 2.120<br>SO_Close: Weight=0.000<br>CAT_Close: Weight=1.000<br>WFC_Close: Weight=0.000",
                    "Return: 126.996%<br>Volatility: 0.486<br>Sharpe Ratio: 2.611<br>VRTX_Close: Weight=1.000<br>BMY_Close: Weight=0.000<br>CSCO_Close: Weight=0.000",
                    "Return: 19.309%<br>Volatility: 0.099<br>Sharpe Ratio: 1.960<br>RDY_Close: Weight=0.000<br>HON_Close: Weight=1.000<br>CSCO_Close: Weight=0.000<br>UA_Close: Weight=0.000",
                    "Return: 42.020%<br>Volatility: 0.116<br>Sharpe Ratio: 3.622<br>MSFT_Close: Weight=0.366<br>MDT_Close: Weight=0.000<br>MCD_Close: Weight=0.634",
                    "Return: 22.911%<br>Volatility: 0.097<br>Sharpe Ratio: 2.363<br>SNAP_Close: Weight=0.000<br>ETN_Close: Weight=0.271<br>LMT_Close: Weight=0.729",
                    "Return: 13.645%<br>Volatility: 0.093<br>Sharpe Ratio: 1.464<br>CSCO_Close: Weight=0.000<br>RTX_Close: Weight=1.000<br>XOM_Close: Weight=0.000",
                    "Return: 19.309%<br>Volatility: 0.099<br>Sharpe Ratio: 1.960<br>RDY_Close: Weight=0.000<br>HON_Close: Weight=1.000<br>DIS_Close: Weight=0.000<br>K_Close: Weight=0.000",
                    "Return: 40.695%<br>Volatility: 0.100<br>Sharpe Ratio: 4.085<br>ABT_Close: Weight=0.074<br>MCD_Close: Weight=0.486<br>TSLA_Close: Weight=0.088<br>SYK_Close: Weight=0.353",
                    "Return: 93.242%<br>Volatility: 0.342<br>Sharpe Ratio: 2.727<br>CPB_Close: Weight=0.000<br>NVDA_Close: Weight=0.764<br>HD_Close: Weight=0.236<br>XOM_Close: Weight=0.000",
                    "Return: 11.058%<br>Volatility: 0.147<br>Sharpe Ratio: 0.754<br>MO_Close: Weight=0.000<br>QCOM_Close: Weight=0.000<br>ACN_Close: Weight=1.000",
                    "Return: 21.693%<br>Volatility: 0.141<br>Sharpe Ratio: 1.541<br>WFC_Close: Weight=0.000<br>ETN_Close: Weight=1.000<br>F_Close: Weight=0.000",
                    "Return: 47.674%<br>Volatility: 0.145<br>Sharpe Ratio: 3.297<br>JPM_Close: Weight=0.000<br>SNAP_Close: Weight=0.000<br>MCD_Close: Weight=1.000",
                    "Return: 19.040%<br>Volatility: 0.099<br>Sharpe Ratio: 1.920<br>DHR_Close: Weight=0.000<br>CRM_Close: Weight=0.495<br>MMM_Close: Weight=0.505<br>GS_Close: Weight=0.000",
                    "Return: -3.324%<br>Volatility: 0.229<br>Sharpe Ratio: -0.145<br>CVX_Close: Weight=0.000<br>BIIB_Close: Weight=1.000<br>F_Close: Weight=0.000",
                    "Return: 26.425%<br>Volatility: 0.076<br>Sharpe Ratio: 3.497<br>RTX_Close: Weight=0.203<br>NEE_Close: Weight=0.508<br>MSFT_Close: Weight=0.289<br>RDY_Close: Weight=0.000",
                    "Return: 30.915%<br>Volatility: 0.100<br>Sharpe Ratio: 3.099<br>MS_Close: Weight=0.000<br>UNH_Close: Weight=0.757<br>TXN_Close: Weight=0.037<br>PM_Close: Weight=0.206",
                    "Return: 34.249%<br>Volatility: 0.092<br>Sharpe Ratio: 3.710<br>NEE_Close: Weight=0.659<br>PM_Close: Weight=0.143<br>SNAP_Close: Weight=0.000<br>REGN_Close: Weight=0.199",
                    "Return: 24.099%<br>Volatility: 0.142<br>Sharpe Ratio: 1.701<br>SO_Close: Weight=0.000<br>F_Close: Weight=0.000<br>TMO_Close: Weight=1.000<br>UA_Close: Weight=0.000",
                    "Return: 21.367%<br>Volatility: 0.063<br>Sharpe Ratio: 3.374<br>RMD_Close: Weight=0.053<br>KO_Close: Weight=0.709<br>JNJ_Close: Weight=0.238<br>GS_Close: Weight=0.000",
                    "Return: 31.972%<br>Volatility: 0.136<br>Sharpe Ratio: 2.359<br>IBM_Close: Weight=0.000<br>GOOGL_Close: Weight=0.041<br>ZBH_Close: Weight=0.000<br>MSFT_Close: Weight=0.959",
                    "Return: 39.866%<br>Volatility: 0.130<br>Sharpe Ratio: 3.058<br>BMY_Close: Weight=0.000<br>GE_Close: Weight=0.000<br>ORCL_Close: Weight=0.464<br>DE_Close: Weight=0.536",
                    "Return: 35.576%<br>Volatility: 0.115<br>Sharpe Ratio: 3.107<br>ABBV_Close: Weight=0.673<br>ZBH_Close: Weight=0.000<br>CAT_Close: Weight=0.327<br>LLY_Close: Weight=0.000",
                    "Return: 7.620%<br>Volatility: 0.176<br>Sharpe Ratio: 0.433<br>INTC_Close: Weight=0.000<br>T_Close: Weight=0.000<br>ZBH_Close: Weight=1.000",
                    "Return: 31.221%<br>Volatility: 0.095<br>Sharpe Ratio: 3.275<br>SYK_Close: Weight=0.605<br>DHR_Close: Weight=0.000<br>WMT_Close: Weight=0.395",
                    "Return: 22.891%<br>Volatility: 0.144<br>Sharpe Ratio: 1.594<br>CVX_Close: Weight=0.000<br>GOOGL_Close: Weight=0.800<br>ACN_Close: Weight=0.200",
                    "Return: 15.556%<br>Volatility: 0.087<br>Sharpe Ratio: 1.780<br>SNAP_Close: Weight=0.000<br>K_Close: Weight=0.000<br>PEP_Close: Weight=1.000<br>AMD_Close: Weight=0.000",
                    "Return: 34.348%<br>Volatility: 0.124<br>Sharpe Ratio: 2.760<br>MA_Close: Weight=1.000<br>SO_Close: Weight=0.000<br>AMD_Close: Weight=0.000<br>GIS_Close: Weight=0.000",
                    "Return: 23.719%<br>Volatility: 0.083<br>Sharpe Ratio: 2.841<br>PEP_Close: Weight=0.256<br>RMD_Close: Weight=0.106<br>MRK_Close: Weight=0.000<br>NEE_Close: Weight=0.638",
                    "Return: 28.661%<br>Volatility: 0.110<br>Sharpe Ratio: 2.616<br>F_Close: Weight=0.000<br>NKE_Close: Weight=0.010<br>CPB_Close: Weight=0.000<br>V_Close: Weight=0.990",
                    "Return: 25.994%<br>Volatility: 0.109<br>Sharpe Ratio: 2.394<br>PG_Close: Weight=0.126<br>WMT_Close: Weight=0.674<br>RMD_Close: Weight=0.200",
                    "Return: 48.534%<br>Volatility: 0.155<br>Sharpe Ratio: 3.139<br>CPB_Close: Weight=0.000<br>SO_Close: Weight=0.000<br>ADBE_Close: Weight=1.000",
                    "Return: 29.400%<br>Volatility: 0.105<br>Sharpe Ratio: 2.790<br>SAP_Close: Weight=0.281<br>V_Close: Weight=0.719<br>F_Close: Weight=0.000",
                    "Return: 47.674%<br>Volatility: 0.145<br>Sharpe Ratio: 3.297<br>MCD_Close: Weight=1.000<br>MS_Close: Weight=0.000<br>WFC_Close: Weight=0.000",
                    "Return: 53.261%<br>Volatility: 0.210<br>Sharpe Ratio: 2.531<br>MS_Close: Weight=0.000<br>TSLA_Close: Weight=0.304<br>CAT_Close: Weight=0.696<br>CPB_Close: Weight=0.000",
                    "Return: 29.259%<br>Volatility: 0.090<br>Sharpe Ratio: 3.243<br>UNH_Close: Weight=0.608<br>KR_Close: Weight=0.000<br>HON_Close: Weight=0.331<br>GOOGL_Close: Weight=0.061",
                    "Return: 35.587%<br>Volatility: 0.105<br>Sharpe Ratio: 3.401<br>MS_Close: Weight=0.011<br>ISRG_Close: Weight=0.544<br>XOM_Close: Weight=0.000<br>DUK_Close: Weight=0.445",
                    "Return: 23.382%<br>Volatility: 0.087<br>Sharpe Ratio: 2.679<br>IBM_Close: Weight=0.000<br>PEP_Close: Weight=0.554<br>WMT_Close: Weight=0.446<br>AMGN_Close: Weight=0.000",
                    "Return: 26.903%<br>Volatility: 0.099<br>Sharpe Ratio: 2.705<br>AMZN_Close: Weight=0.453<br>AMGN_Close: Weight=0.000<br>JNJ_Close: Weight=0.547<br>INTC_Close: Weight=0.000",
                    "Return: 51.648%<br>Volatility: 0.158<br>Sharpe Ratio: 3.262<br>AMD_Close: Weight=0.000<br>IBM_Close: Weight=0.000<br>META_Close: Weight=1.000",
                    "Return: 40.692%<br>Volatility: 0.123<br>Sharpe Ratio: 3.310<br>TSLA_Close: Weight=0.111<br>SYK_Close: Weight=0.685<br>REGN_Close: Weight=0.204<br>GM_Close: Weight=0.000",
                    "Return: 42.104%<br>Volatility: 0.140<br>Sharpe Ratio: 3.008<br>PFE_Close: Weight=0.000<br>WMT_Close: Weight=0.708<br>CVX_Close: Weight=0.000<br>NFLX_Close: Weight=0.292",
                    "Return: 19.058%<br>Volatility: 0.105<br>Sharpe Ratio: 1.820<br>COST_Close: Weight=0.000<br>ABT_Close: Weight=0.586<br>BSX_Close: Weight=0.122<br>AAPL_Close: Weight=0.292",
                    "Return: 30.444%<br>Volatility: 0.102<br>Sharpe Ratio: 2.985<br>MSFT_Close: Weight=0.460<br>PG_Close: Weight=0.250<br>EW_Close: Weight=0.289<br>SNAP_Close: Weight=0.000",
                    "Return: 23.545%<br>Volatility: 0.126<br>Sharpe Ratio: 1.863<br>MRK_Close: Weight=0.000<br>GOOG_Close: Weight=0.649<br>PFE_Close: Weight=0.000<br>RMD_Close: Weight=0.351",
                    "Return: 46.368%<br>Volatility: 0.123<br>Sharpe Ratio: 3.770<br>META_Close: Weight=0.609<br>CMCSA_Close: Weight=0.052<br>DE_Close: Weight=0.339<br>SYY_Close: Weight=0.000",
                    "Return: 32.798%<br>Volatility: 0.107<br>Sharpe Ratio: 3.067<br>PM_Close: Weight=0.317<br>EW_Close: Weight=0.337<br>TSLA_Close: Weight=0.143<br>PG_Close: Weight=0.202",
                    "Return: 33.987%<br>Volatility: 0.136<br>Sharpe Ratio: 2.503<br>K_Close: Weight=0.000<br>EW_Close: Weight=0.531<br>EXC_Close: Weight=0.469",
                    "Return: 33.195%<br>Volatility: 0.094<br>Sharpe Ratio: 3.534<br>MA_Close: Weight=0.426<br>WMT_Close: Weight=0.390<br>SAP_Close: Weight=0.184",
                    "Return: 40.128%<br>Volatility: 0.176<br>Sharpe Ratio: 2.280<br>HD_Close: Weight=0.019<br>JPM_Close: Weight=0.000<br>DE_Close: Weight=0.981<br>IBM_Close: Weight=0.000",
                    "Return: 20.651%<br>Volatility: 0.133<br>Sharpe Ratio: 1.556<br>CPB_Close: Weight=0.000<br>CSCO_Close: Weight=0.000<br>BTI_Close: Weight=0.000<br>ABT_Close: Weight=1.000",
                    "Return: 34.434%<br>Volatility: 0.119<br>Sharpe Ratio: 2.890<br>TSLA_Close: Weight=0.139<br>SYK_Close: Weight=0.861<br>GS_Close: Weight=0.000<br>UA_Close: Weight=0.000",
                    "Return: 17.467%<br>Volatility: 0.073<br>Sharpe Ratio: 2.381<br>PEP_Close: Weight=0.491<br>VZ_Close: Weight=0.000<br>HON_Close: Weight=0.509<br>XOM_Close: Weight=0.000",
                    "Return: 24.259%<br>Volatility: 0.091<br>Sharpe Ratio: 2.664<br>ABBV_Close: Weight=0.520<br>HON_Close: Weight=0.480<br>PFE_Close: Weight=0.000<br>CSCO_Close: Weight=0.000",
                    "Return: 39.479%<br>Volatility: 0.118<br>Sharpe Ratio: 3.359<br>F_Close: Weight=0.000<br>BMY_Close: Weight=0.018<br>RTX_Close: Weight=0.297<br>META_Close: Weight=0.685",
                    "Return: 29.992%<br>Volatility: 0.116<br>Sharpe Ratio: 2.595<br>ACN_Close: Weight=0.000<br>GIS_Close: Weight=0.000<br>SYK_Close: Weight=1.000",
                    "Return: 46.924%<br>Volatility: 0.096<br>Sharpe Ratio: 4.876<br>UNH_Close: Weight=0.439<br>MSFT_Close: Weight=0.146<br>BA_Close: Weight=0.307<br>CAT_Close: Weight=0.109",
                    "Return: 58.522%<br>Volatility: 0.136<br>Sharpe Ratio: 4.307<br>PYPL_Close: Weight=0.444<br>ISRG_Close: Weight=0.428<br>PG_Close: Weight=0.128<br>LLY_Close: Weight=0.000",
                    "Return: 31.249%<br>Volatility: 0.132<br>Sharpe Ratio: 2.359<br>MDT_Close: Weight=0.041<br>GIS_Close: Weight=0.000<br>MSFT_Close: Weight=0.959",
                    "Return: 24.099%<br>Volatility: 0.142<br>Sharpe Ratio: 1.701<br>XOM_Close: Weight=0.000<br>BAC_Close: Weight=0.000<br>TMO_Close: Weight=1.000",
                    "Return: 40.626%<br>Volatility: 0.162<br>Sharpe Ratio: 2.510<br>NFLX_Close: Weight=0.298<br>SAP_Close: Weight=0.702<br>GS_Close: Weight=0.000",
                    "Return: 44.063%<br>Volatility: 0.125<br>Sharpe Ratio: 3.533<br>MA_Close: Weight=0.438<br>QCOM_Close: Weight=0.000<br>META_Close: Weight=0.562",
                    "Return: 49.750%<br>Volatility: 0.149<br>Sharpe Ratio: 3.341<br>SRE_Close: Weight=0.436<br>NVDA_Close: Weight=0.236<br>WFC_Close: Weight=0.000<br>EW_Close: Weight=0.328",
                    "Return: 10.492%<br>Volatility: 0.089<br>Sharpe Ratio: 1.180<br>XOM_Close: Weight=0.000<br>DUK_Close: Weight=1.000<br>CPB_Close: Weight=0.000",
                    "Return: 20.630%<br>Volatility: 0.104<br>Sharpe Ratio: 1.984<br>GOOGL_Close: Weight=0.527<br>CVX_Close: Weight=0.000<br>EXC_Close: Weight=0.473",
                    "Return: 38.781%<br>Volatility: 0.187<br>Sharpe Ratio: 2.072<br>AMGN_Close: Weight=0.000<br>ORCL_Close: Weight=1.000<br>T_Close: Weight=0.000<br>KR_Close: Weight=0.000",
                    "Return: 49.802%<br>Volatility: 0.105<br>Sharpe Ratio: 4.736<br>MCD_Close: Weight=0.438<br>PYPL_Close: Weight=0.336<br>EXC_Close: Weight=0.226<br>HD_Close: Weight=0.000",
                    "Return: 24.084%<br>Volatility: 0.145<br>Sharpe Ratio: 1.665<br>DHR_Close: Weight=0.000<br>IBM_Close: Weight=0.000<br>BSX_Close: Weight=0.279<br>GOOG_Close: Weight=0.721",
                    "Return: 19.349%<br>Volatility: 0.124<br>Sharpe Ratio: 1.563<br>MDT_Close: Weight=0.106<br>EMR_Close: Weight=0.000<br>ABT_Close: Weight=0.894",
                    "Return: 26.433%<br>Volatility: 0.098<br>Sharpe Ratio: 2.698<br>DIS_Close: Weight=0.065<br>RDY_Close: Weight=0.000<br>NEE_Close: Weight=0.935<br>LLY_Close: Weight=0.000",
                    "Return: 62.395%<br>Volatility: 0.165<br>Sharpe Ratio: 3.773<br>AMD_Close: Weight=0.000<br>BABA_Close: Weight=0.544<br>HON_Close: Weight=0.456",
                    "Return: 38.819%<br>Volatility: 0.121<br>Sharpe Ratio: 3.207<br>MA_Close: Weight=0.564<br>SNAP_Close: Weight=0.000<br>EW_Close: Weight=0.243<br>AMZN_Close: Weight=0.193",
                    "Return: 17.074%<br>Volatility: 0.082<br>Sharpe Ratio: 2.080<br>MO_Close: Weight=0.000<br>SRE_Close: Weight=0.259<br>HON_Close: Weight=0.741",
                    "Return: 67.113%<br>Volatility: 0.176<br>Sharpe Ratio: 3.823<br>BABA_Close: Weight=0.605<br>BMY_Close: Weight=0.000<br>PM_Close: Weight=0.395",
                    "Return: 26.571%<br>Volatility: 0.102<br>Sharpe Ratio: 2.601<br>CRM_Close: Weight=0.015<br>CSCO_Close: Weight=0.000<br>MSFT_Close: Weight=0.668<br>EXC_Close: Weight=0.317",
                    "Return: 59.970%<br>Volatility: 0.209<br>Sharpe Ratio: 2.868<br>MMM_Close: Weight=0.575<br>NVDA_Close: Weight=0.425<br>GM_Close: Weight=0.000",
                    "Return: 13.565%<br>Volatility: 0.118<br>Sharpe Ratio: 1.146<br>EXC_Close: Weight=0.858<br>DIS_Close: Weight=0.000<br>NKE_Close: Weight=0.142",
                    "Return: 10.946%<br>Volatility: 0.090<br>Sharpe Ratio: 1.216<br>BSX_Close: Weight=0.636<br>F_Close: Weight=0.000<br>PG_Close: Weight=0.364",
                    "Return: -0.844%<br>Volatility: 0.165<br>Sharpe Ratio: -0.051<br>INTC_Close: Weight=0.000<br>COST_Close: Weight=0.000<br>EMR_Close: Weight=1.000",
                    "Return: 50.391%<br>Volatility: 0.128<br>Sharpe Ratio: 3.942<br>MCD_Close: Weight=0.639<br>NFLX_Close: Weight=0.119<br>EW_Close: Weight=0.242<br>AAPL_Close: Weight=0.000",
                    "Return: 33.100%<br>Volatility: 0.148<br>Sharpe Ratio: 2.240<br>VZ_Close: Weight=0.000<br>MRK_Close: Weight=0.000<br>WMT_Close: Weight=1.000",
                    "Return: 57.494%<br>Volatility: 0.117<br>Sharpe Ratio: 4.917<br>VZ_Close: Weight=0.000<br>BA_Close: Weight=0.439<br>PG_Close: Weight=0.000<br>MCD_Close: Weight=0.561",
                    "Return: 27.172%<br>Volatility: 0.079<br>Sharpe Ratio: 3.439<br>CAT_Close: Weight=0.170<br>KR_Close: Weight=0.000<br>KO_Close: Weight=0.830",
                    "Return: 20.619%<br>Volatility: 0.097<br>Sharpe Ratio: 2.126<br>T_Close: Weight=0.000<br>ABT_Close: Weight=0.391<br>RTX_Close: Weight=0.303<br>GOOG_Close: Weight=0.305",
                    "Return: 48.350%<br>Volatility: 0.240<br>Sharpe Ratio: 2.018<br>NFLX_Close: Weight=0.728<br>AAPL_Close: Weight=0.077<br>SYY_Close: Weight=0.195",
                    "Return: 24.099%<br>Volatility: 0.142<br>Sharpe Ratio: 1.701<br>SO_Close: Weight=0.000<br>TMO_Close: Weight=1.000<br>AMGN_Close: Weight=0.000<br>GS_Close: Weight=0.000",
                    "Return: 76.095%<br>Volatility: 0.210<br>Sharpe Ratio: 3.626<br>PYPL_Close: Weight=1.000<br>BIIB_Close: Weight=0.000<br>AMD_Close: Weight=0.000",
                    "Return: 46.758%<br>Volatility: 0.124<br>Sharpe Ratio: 3.772<br>TSLA_Close: Weight=0.071<br>DE_Close: Weight=0.353<br>BAC_Close: Weight=0.000<br>ADBE_Close: Weight=0.576",
                    "Return: 15.021%<br>Volatility: 0.097<br>Sharpe Ratio: 1.542<br>BSX_Close: Weight=0.516<br>EXC_Close: Weight=0.484<br>ZBH_Close: Weight=0.000<br>EMR_Close: Weight=0.000",
                    "Return: 24.256%<br>Volatility: 0.099<br>Sharpe Ratio: 2.441<br>CVX_Close: Weight=0.000<br>SAP_Close: Weight=0.433<br>HON_Close: Weight=0.567",
                    "Return: 56.678%<br>Volatility: 0.180<br>Sharpe Ratio: 3.157<br>SO_Close: Weight=0.000<br>ISRG_Close: Weight=1.000<br>BAC_Close: Weight=0.000",
                    "Return: 28.881%<br>Volatility: 0.110<br>Sharpe Ratio: 2.616<br>V_Close: Weight=1.000<br>DIS_Close: Weight=0.000<br>KR_Close: Weight=0.000<br>GS_Close: Weight=0.000",
                    "Return: 16.006%<br>Volatility: 0.080<br>Sharpe Ratio: 2.012<br>GE_Close: Weight=0.000<br>PG_Close: Weight=0.204<br>HON_Close: Weight=0.790<br>NKE_Close: Weight=0.006",
                    "Return: 35.261%<br>Volatility: 0.100<br>Sharpe Ratio: 3.534<br>PM_Close: Weight=0.198<br>UNH_Close: Weight=0.589<br>EW_Close: Weight=0.214",
                    "Return: 43.159%<br>Volatility: 0.110<br>Sharpe Ratio: 3.934<br>ISRG_Close: Weight=0.477<br>WMT_Close: Weight=0.414<br>GILD_Close: Weight=0.109",
                    "Return: 67.516%<br>Volatility: 0.180<br>Sharpe Ratio: 3.756<br>MMM_Close: Weight=0.373<br>JPM_Close: Weight=0.000<br>BABA_Close: Weight=0.627",
                    "Return: 59.280%<br>Volatility: 0.149<br>Sharpe Ratio: 3.967<br>BABA_Close: Weight=0.437<br>IBM_Close: Weight=0.000<br>V_Close: Weight=0.563<br>CSCO_Close: Weight=0.000",
                    "Return: 12.662%<br>Volatility: 0.082<br>Sharpe Ratio: 1.547<br>MDT_Close: Weight=0.115<br>ACN_Close: Weight=0.143<br>RTX_Close: Weight=0.742<br>GE_Close: Weight=0.000",
                    "Return: 30.712%<br>Volatility: 0.095<br>Sharpe Ratio: 3.246<br>HON_Close: Weight=0.205<br>ABBV_Close: Weight=0.474<br>DE_Close: Weight=0.320<br>RDY_Close: Weight=0.000",
                    "Return: 15.556%<br>Volatility: 0.087<br>Sharpe Ratio: 1.780<br>GM_Close: Weight=0.000<br>T_Close: Weight=0.000<br>PEP_Close: Weight=1.000",
                    "Return: 120.347%<br>Volatility: 0.443<br>Sharpe Ratio: 2.715<br>CPB_Close: Weight=0.000<br>EMR_Close: Weight=0.000<br>NVDA_Close: Weight=1.000<br>CSCO_Close: Weight=0.000",
                    "Return: 66.772%<br>Volatility: 0.156<br>Sharpe Ratio: 4.293<br>MDT_Close: Weight=0.000<br>ISRG_Close: Weight=0.480<br>PYPL_Close: Weight=0.520",
                    "Return: 30.099%<br>Volatility: 0.079<br>Sharpe Ratio: 3.820<br>GM_Close: Weight=0.000<br>PEP_Close: Weight=0.000<br>WMT_Close: Weight=0.384<br>NEE_Close: Weight=0.616",
                    "Return: 19.399%<br>Volatility: 0.071<br>Sharpe Ratio: 2.742<br>GILD_Close: Weight=0.260<br>ETN_Close: Weight=0.283<br>AEP_Close: Weight=0.457<br>BMY_Close: Weight=0.000",
                    "Return: 34.782%<br>Volatility: 0.168<br>Sharpe Ratio: 2.073<br>GE_Close: Weight=0.000<br>GILD_Close: Weight=0.683<br>TSLA_Close: Weight=0.317<br>RDY_Close: Weight=0.000",
                    "Return: 15.021%<br>Volatility: 0.097<br>Sharpe Ratio: 1.542<br>EXC_Close: Weight=0.484<br>ZBH_Close: Weight=0.000<br>COST_Close: Weight=0.000<br>BSX_Close: Weight=0.516",
                    "Return: 16.904%<br>Volatility: 0.083<br>Sharpe Ratio: 2.047<br>BSX_Close: Weight=0.115<br>SNAP_Close: Weight=0.000<br>DUK_Close: Weight=0.540<br>GOOG_Close: Weight=0.345",
                    "Return: 64.619%<br>Volatility: 0.182<br>Sharpe Ratio: 3.555<br>ZBH_Close: Weight=0.087<br>UA_Close: Weight=0.000<br>TXN_Close: Weight=0.000<br>BA_Close: Weight=0.913",
                    "Return: 35.433%<br>Volatility: 0.102<br>Sharpe Ratio: 3.460<br>NKE_Close: Weight=0.008<br>DUK_Close: Weight=0.385<br>META_Close: Weight=0.607",
                    "Return: 26.813%<br>Volatility: 0.114<br>Sharpe Ratio: 2.361<br>NFLX_Close: Weight=0.216<br>RTX_Close: Weight=0.531<br>CRM_Close: Weight=0.253",
                    "Return: 22.185%<br>Volatility: 0.153<br>Sharpe Ratio: 1.451<br>GILD_Close: Weight=1.000<br>GIS_Close: Weight=0.000<br>K_Close: Weight=0.000",
                    "Return: 30.725%<br>Volatility: 0.147<br>Sharpe Ratio: 2.084<br>BAC_Close: Weight=0.000<br>AMD_Close: Weight=0.000<br>SAP_Close: Weight=1.000<br>DHR_Close: Weight=0.000",
                    "Return: 34.004%<br>Volatility: 0.123<br>Sharpe Ratio: 2.760<br>AMGN_Close: Weight=0.000<br>MA_Close: Weight=0.989<br>PG_Close: Weight=0.011<br>RDY_Close: Weight=0.000",
                    "Return: 31.652%<br>Volatility: 0.099<br>Sharpe Ratio: 3.181<br>VZ_Close: Weight=0.018<br>MS_Close: Weight=0.000<br>MA_Close: Weight=0.514<br>SYK_Close: Weight=0.468",
                    "Return: -11.114%<br>Volatility: 0.335<br>Sharpe Ratio: -0.332<br>UA_Close: Weight=1.000<br>F_Close: Weight=0.000<br>T_Close: Weight=0.000",
                    "Return: 11.273%<br>Volatility: 0.143<br>Sharpe Ratio: 0.786<br>ZBH_Close: Weight=0.321<br>QCOM_Close: Weight=0.000<br>TXN_Close: Weight=0.679",
                    "Return: 49.457%<br>Volatility: 0.233<br>Sharpe Ratio: 2.120<br>WFC_Close: Weight=0.000<br>COST_Close: Weight=0.000<br>MRK_Close: Weight=0.000<br>CAT_Close: Weight=1.000",
                    "Return: 34.348%<br>Volatility: 0.124<br>Sharpe Ratio: 2.760<br>DHR_Close: Weight=0.000<br>CVX_Close: Weight=0.000<br>MA_Close: Weight=1.000",
                    "Return: 24.483%<br>Volatility: 0.084<br>Sharpe Ratio: 2.918<br>DIS_Close: Weight=0.000<br>UA_Close: Weight=0.000<br>AEP_Close: Weight=0.489<br>MSFT_Close: Weight=0.511",
                    "Return: 24.316%<br>Volatility: 0.100<br>Sharpe Ratio: 2.432<br>LMT_Close: Weight=0.725<br>MDT_Close: Weight=0.010<br>GOOG_Close: Weight=0.265",
                    "Return: 46.800%<br>Volatility: 0.108<br>Sharpe Ratio: 4.336<br>SYK_Close: Weight=0.461<br>BA_Close: Weight=0.396<br>MO_Close: Weight=0.000<br>AMZN_Close: Weight=0.143",
                    "Return: 19.654%<br>Volatility: 0.075<br>Sharpe Ratio: 2.612<br>LMT_Close: Weight=0.525<br>F_Close: Weight=0.000<br>PEP_Close: Weight=0.475<br>ZBH_Close: Weight=0.000",
                    "Return: 33.766%<br>Volatility: 0.106<br>Sharpe Ratio: 3.187<br>SYK_Close: Weight=0.651<br>DE_Close: Weight=0.349<br>QCOM_Close: Weight=0.000",
                    "Return: 21.422%<br>Volatility: 0.107<br>Sharpe Ratio: 1.999<br>HD_Close: Weight=0.061<br>ABT_Close: Weight=0.451<br>TMO_Close: Weight=0.489",
                    "Return: 11.531%<br>Volatility: 0.158<br>Sharpe Ratio: 0.730<br>SNAP_Close: Weight=0.000<br>WFC_Close: Weight=0.000<br>LLY_Close: Weight=0.121<br>TXN_Close: Weight=0.879",
                    "Return: 32.947%<br>Volatility: 0.118<br>Sharpe Ratio: 2.782<br>CMCSA_Close: Weight=0.103<br>BAC_Close: Weight=0.000<br>T_Close: Weight=0.000<br>MA_Close: Weight=0.897",
                    "Return: 28.953%<br>Volatility: 0.104<br>Sharpe Ratio: 2.786<br>DE_Close: Weight=0.462<br>AMGN_Close: Weight=0.000<br>JNJ_Close: Weight=0.538",
                    "Return: 43.786%<br>Volatility: 0.129<br>Sharpe Ratio: 3.399<br>SAP_Close: Weight=0.130<br>ISRG_Close: Weight=0.598<br>BIIB_Close: Weight=0.000<br>ETN_Close: Weight=0.272",
                    "Return: 20.247%<br>Volatility: 0.062<br>Sharpe Ratio: 3.251<br>KO_Close: Weight=0.736<br>SYY_Close: Weight=0.000<br>RTX_Close: Weight=0.264<br>XOM_Close: Weight=0.000",
                    "Return: 22.472%<br>Volatility: 0.113<br>Sharpe Ratio: 1.990<br>PFE_Close: Weight=0.000<br>CRM_Close: Weight=0.527<br>IBM_Close: Weight=0.000<br>GILD_Close: Weight=0.473",
                    "Return: 27.293%<br>Volatility: 0.091<br>Sharpe Ratio: 2.995<br>LMT_Close: Weight=0.346<br>AAPL_Close: Weight=0.000<br>V_Close: Weight=0.481<br>SAP_Close: Weight=0.173",
                    "Return: 17.599%<br>Volatility: 0.094<br>Sharpe Ratio: 1.863<br>WFC_Close: Weight=0.000<br>RTX_Close: Weight=0.236<br>ETN_Close: Weight=0.414<br>MMM_Close: Weight=0.351",
                    "Return: 16.268%<br>Volatility: 0.079<br>Sharpe Ratio: 2.060<br>WFC_Close: Weight=0.000<br>RTX_Close: Weight=0.491<br>JNJ_Close: Weight=0.509",
                    "Return: 29.121%<br>Volatility: 0.122<br>Sharpe Ratio: 2.382<br>UA_Close: Weight=0.000<br>WMT_Close: Weight=0.764<br>RMD_Close: Weight=0.236",
                    "Return: 48.042%<br>Volatility: 0.147<br>Sharpe Ratio: 3.258<br>CMCSA_Close: Weight=0.240<br>ISRG_Close: Weight=0.760<br>PFE_Close: Weight=0.000",
                    "Return: 29.683%<br>Volatility: 0.124<br>Sharpe Ratio: 2.391<br>K_Close: Weight=0.000<br>ORCL_Close: Weight=0.538<br>PM_Close: Weight=0.462",
                    "Return: 31.088%<br>Volatility: 0.087<br>Sharpe Ratio: 3.573<br>MA_Close: Weight=0.467<br>NEE_Close: Weight=0.533<br>MRK_Close: Weight=0.000<br>MO_Close: Weight=0.000",
                    "Return: 31.858%<br>Volatility: 0.101<br>Sharpe Ratio: 3.165<br>SAP_Close: Weight=0.481<br>RMD_Close: Weight=0.006<br>WMT_Close: Weight=0.513",
                    "Return: 18.038%<br>Volatility: 0.087<br>Sharpe Ratio: 2.076<br>AAPL_Close: Weight=0.195<br>SRE_Close: Weight=0.352<br>MDT_Close: Weight=0.003<br>TMO_Close: Weight=0.450",
                    "Return: 120.347%<br>Volatility: 0.443<br>Sharpe Ratio: 2.715<br>ZBH_Close: Weight=0.000<br>CVX_Close: Weight=0.000<br>NVDA_Close: Weight=1.000<br>GIS_Close: Weight=0.000",
                    "Return: 16.390%<br>Volatility: 0.101<br>Sharpe Ratio: 1.620<br>F_Close: Weight=0.000<br>AEP_Close: Weight=1.000<br>SNAP_Close: Weight=0.000",
                    "Return: 22.729%<br>Volatility: 0.148<br>Sharpe Ratio: 1.539<br>GS_Close: Weight=0.000<br>CRM_Close: Weight=1.000<br>PFE_Close: Weight=0.000",
                    "Return: 56.678%<br>Volatility: 0.180<br>Sharpe Ratio: 3.157<br>PFE_Close: Weight=0.000<br>GM_Close: Weight=0.000<br>ISRG_Close: Weight=1.000<br>BAC_Close: Weight=0.000",
                    "Return: 25.138%<br>Volatility: 0.071<br>Sharpe Ratio: 3.549<br>NKE_Close: Weight=0.011<br>CVX_Close: Weight=0.000<br>KO_Close: Weight=0.708<br>MSFT_Close: Weight=0.281",
                    "Return: 35.536%<br>Volatility: 0.089<br>Sharpe Ratio: 3.977<br>MCD_Close: Weight=0.482<br>HON_Close: Weight=0.371<br>AMZN_Close: Weight=0.147",
                    "Return: 32.231%<br>Volatility: 0.137<br>Sharpe Ratio: 2.358<br>T_Close: Weight=0.000<br>MSFT_Close: Weight=1.000<br>TXN_Close: Weight=0.000",
                    "Return: 7.620%<br>Volatility: 0.176<br>Sharpe Ratio: 0.433<br>COST_Close: Weight=0.000<br>ZBH_Close: Weight=1.000<br>MRK_Close: Weight=0.000",
                    "Return: 46.709%<br>Volatility: 0.149<br>Sharpe Ratio: 3.141<br>LLY_Close: Weight=0.038<br>ADBE_Close: Weight=0.962<br>JPM_Close: Weight=0.000",
                    "Return: 41.591%<br>Volatility: 0.130<br>Sharpe Ratio: 3.189<br>MS_Close: Weight=0.000<br>JPM_Close: Weight=0.053<br>AEP_Close: Weight=0.697<br>NVDA_Close: Weight=0.250",
                    "Return: 14.933%<br>Volatility: 0.087<br>Sharpe Ratio: 1.720<br>ZBH_Close: Weight=0.166<br>AEP_Close: Weight=0.834<br>MRK_Close: Weight=0.000",
                    "Return: 19.082%<br>Volatility: 0.135<br>Sharpe Ratio: 1.414<br>CSCO_Close: Weight=0.000<br>QCOM_Close: Weight=0.000<br>PM_Close: Weight=1.000",
                    "Return: 48.662%<br>Volatility: 0.119<br>Sharpe Ratio: 4.090<br>ORCL_Close: Weight=0.281<br>LMT_Close: Weight=0.269<br>BA_Close: Weight=0.449",
                    "Return: 22.185%<br>Volatility: 0.153<br>Sharpe Ratio: 1.451<br>BMY_Close: Weight=0.000<br>QCOM_Close: Weight=0.000<br>GILD_Close: Weight=1.000<br>MO_Close: Weight=0.000",
                    "Return: 49.457%<br>Volatility: 0.233<br>Sharpe Ratio: 2.120<br>CAT_Close: Weight=1.000<br>ZBH_Close: Weight=0.000<br>CVX_Close: Weight=0.000",
                    "Return: 51.648%<br>Volatility: 0.158<br>Sharpe Ratio: 3.262<br>AMD_Close: Weight=0.000<br>META_Close: Weight=1.000<br>COST_Close: Weight=0.000<br>LLY_Close: Weight=0.000",
                    "Return: 21.693%<br>Volatility: 0.141<br>Sharpe Ratio: 1.541<br>EMR_Close: Weight=0.000<br>ETN_Close: Weight=1.000<br>PFE_Close: Weight=0.000",
                    "Return: 44.851%<br>Volatility: 0.273<br>Sharpe Ratio: 1.645<br>TSLA_Close: Weight=0.708<br>SYY_Close: Weight=0.222<br>NKE_Close: Weight=0.069",
                    "Return: 16.215%<br>Volatility: 0.091<br>Sharpe Ratio: 1.776<br>ZBH_Close: Weight=0.000<br>BSX_Close: Weight=0.233<br>SRE_Close: Weight=0.318<br>ABT_Close: Weight=0.449",
                    "Return: 28.618%<br>Volatility: 0.124<br>Sharpe Ratio: 2.317<br>NKE_Close: Weight=0.009<br>ABBV_Close: Weight=0.991<br>XOM_Close: Weight=0.000",
                    "Return: 45.945%<br>Volatility: 0.126<br>Sharpe Ratio: 3.659<br>NFLX_Close: Weight=0.119<br>AAPL_Close: Weight=0.000<br>MCD_Close: Weight=0.665<br>SAP_Close: Weight=0.216",
                    "Return: 23.683%<br>Volatility: 0.095<br>Sharpe Ratio: 2.504<br>TSLA_Close: Weight=0.175<br>PEP_Close: Weight=0.825<br>NKE_Close: Weight=0.000<br>CVX_Close: Weight=0.000",
                    "Return: 8.328%<br>Volatility: 0.114<br>Sharpe Ratio: 0.730<br>UA_Close: Weight=0.000<br>MDT_Close: Weight=1.000<br>BMY_Close: Weight=0.000",
                    "Return: 24.436%<br>Volatility: 0.085<br>Sharpe Ratio: 2.880<br>V_Close: Weight=0.644<br>AEP_Close: Weight=0.356<br>VZ_Close: Weight=0.000",
                    "Return: 6.295%<br>Volatility: 0.075<br>Sharpe Ratio: 0.834<br>CSCO_Close: Weight=0.000<br>XOM_Close: Weight=0.000<br>MDT_Close: Weight=0.579<br>PG_Close: Weight=0.421",
                    "Return: 24.413%<br>Volatility: 0.084<br>Sharpe Ratio: 2.919<br>GOOGL_Close: Weight=0.016<br>MO_Close: Weight=0.000<br>MSFT_Close: Weight=0.497<br>AEP_Close: Weight=0.487",
                    "Return: 27.511%<br>Volatility: 0.169<br>Sharpe Ratio: 1.624<br>T_Close: Weight=0.000<br>RDY_Close: Weight=0.000<br>GIS_Close: Weight=0.000<br>GOOG_Close: Weight=1.000",
                    "Return: -1.191%<br>Volatility: 0.144<br>Sharpe Ratio: -0.083<br>CPB_Close: Weight=0.000<br>INTC_Close: Weight=1.000<br>UA_Close: Weight=0.000",
                    "Return: 34.351%<br>Volatility: 0.131<br>Sharpe Ratio: 2.616<br>EW_Close: Weight=0.480<br>DHR_Close: Weight=0.000<br>PM_Close: Weight=0.520",
                    "Return: 19.059%<br>Volatility: 0.092<br>Sharpe Ratio: 2.081<br>EMR_Close: Weight=0.000<br>MDT_Close: Weight=0.171<br>GOOG_Close: Weight=0.422<br>EXC_Close: Weight=0.407",
                    "Return: 0.828%<br>Volatility: 0.158<br>Sharpe Ratio: 0.052<br>SO_Close: Weight=0.000<br>F_Close: Weight=0.000<br>LLY_Close: Weight=1.000<br>CPB_Close: Weight=0.000",
                    "Return: 45.565%<br>Volatility: 0.136<br>Sharpe Ratio: 3.350<br>SAP_Close: Weight=0.222<br>META_Close: Weight=0.748<br>PFE_Close: Weight=0.000<br>BMY_Close: Weight=0.030",
                    "Return: 41.276%<br>Volatility: 0.106<br>Sharpe Ratio: 3.892<br>ISRG_Close: Weight=0.375<br>UNH_Close: Weight=0.508<br>JPM_Close: Weight=0.000<br>PM_Close: Weight=0.117",
                    "Return: 17.398%<br>Volatility: 0.102<br>Sharpe Ratio: 1.708<br>JNJ_Close: Weight=0.915<br>SYY_Close: Weight=0.085<br>GE_Close: Weight=0.000",
                    "Return: 24.820%<br>Volatility: 0.103<br>Sharpe Ratio: 2.412<br>AMZN_Close: Weight=0.484<br>RTX_Close: Weight=0.516<br>GS_Close: Weight=0.000<br>SO_Close: Weight=0.000",
                    "Return: 42.186%<br>Volatility: 0.130<br>Sharpe Ratio: 3.248<br>ADBE_Close: Weight=0.728<br>GILD_Close: Weight=0.211<br>CVX_Close: Weight=0.025<br>NFLX_Close: Weight=0.036",
                    "Return: 40.991%<br>Volatility: 0.185<br>Sharpe Ratio: 2.217<br>BIIB_Close: Weight=0.000<br>NFLX_Close: Weight=0.470<br>CMCSA_Close: Weight=0.530",
                    "Return: -33.192%<br>Volatility: 0.200<br>Sharpe Ratio: -1.659<br>IBM_Close: Weight=0.000<br>MO_Close: Weight=1.000<br>K_Close: Weight=0.000",
                    "Return: 15.556%<br>Volatility: 0.087<br>Sharpe Ratio: 1.780<br>PEP_Close: Weight=1.000<br>K_Close: Weight=0.000<br>CVX_Close: Weight=0.000",
                    "Return: 61.471%<br>Volatility: 0.308<br>Sharpe Ratio: 1.999<br>PG_Close: Weight=0.041<br>NFLX_Close: Weight=0.959<br>K_Close: Weight=0.000",
                    "Return: 58.638%<br>Volatility: 0.171<br>Sharpe Ratio: 3.426<br>MRK_Close: Weight=0.000<br>CVX_Close: Weight=0.000<br>WMT_Close: Weight=0.707<br>NVDA_Close: Weight=0.293",
                    "Return: 22.057%<br>Volatility: 0.100<br>Sharpe Ratio: 2.203<br>COST_Close: Weight=0.000<br>GE_Close: Weight=0.000<br>MDT_Close: Weight=0.087<br>LMT_Close: Weight=0.913",
                    "Return: 71.800%<br>Volatility: 0.193<br>Sharpe Ratio: 3.718<br>UA_Close: Weight=0.000<br>ISRG_Close: Weight=0.785<br>CVX_Close: Weight=0.000<br>VRTX_Close: Weight=0.215",
                    "Return: 100.193%<br>Volatility: 0.341<br>Sharpe Ratio: 2.936<br>VRTX_Close: Weight=0.588<br>KR_Close: Weight=0.000<br>DIS_Close: Weight=0.000<br>TSLA_Close: Weight=0.412",
                    "Return: 22.729%<br>Volatility: 0.148<br>Sharpe Ratio: 1.539<br>IBM_Close: Weight=0.000<br>BAC_Close: Weight=0.000<br>CRM_Close: Weight=1.000",
                    "Return: 59.485%<br>Volatility: 0.159<br>Sharpe Ratio: 3.736<br>EMR_Close: Weight=0.000<br>PG_Close: Weight=0.411<br>BABA_Close: Weight=0.589",
                    "Return: 24.887%<br>Volatility: 0.094<br>Sharpe Ratio: 2.641<br>TMO_Close: Weight=0.384<br>SAP_Close: Weight=0.409<br>AMGN_Close: Weight=0.000<br>EXC_Close: Weight=0.207",
                    "Return: 50.763%<br>Volatility: 0.309<br>Sharpe Ratio: 1.644<br>XOM_Close: Weight=0.000<br>TSLA_Close: Weight=0.801<br>MS_Close: Weight=0.199<br>DHR_Close: Weight=0.000",
                    "Return: 49.768%<br>Volatility: 0.147<br>Sharpe Ratio: 3.397<br>SYK_Close: Weight=0.781<br>NVDA_Close: Weight=0.219<br>UA_Close: Weight=0.000",
                    "Return: 28.234%<br>Volatility: 0.105<br>Sharpe Ratio: 2.689<br>NEE_Close: Weight=1.000<br>WFC_Close: Weight=0.000<br>AEP_Close: Weight=0.000<br>BTI_Close: Weight=0.000",
                    "Return: 25.761%<br>Volatility: 0.097<br>Sharpe Ratio: 2.665<br>ABT_Close: Weight=0.105<br>ABBV_Close: Weight=0.528<br>GOOG_Close: Weight=0.163<br>PM_Close: Weight=0.205",
                    "Return: 10.492%<br>Volatility: 0.089<br>Sharpe Ratio: 1.180<br>SO_Close: Weight=0.000<br>DUK_Close: Weight=1.000<br>QCOM_Close: Weight=0.000",
                    "Return: 51.463%<br>Volatility: 0.147<br>Sharpe Ratio: 3.506<br>EW_Close: Weight=0.245<br>META_Close: Weight=0.755<br>GIS_Close: Weight=0.000",
                    "Return: 50.806%<br>Volatility: 0.125<br>Sharpe Ratio: 4.073<br>ORCL_Close: Weight=0.210<br>BMY_Close: Weight=0.000<br>ISRG_Close: Weight=0.369<br>META_Close: Weight=0.422",
                    "Return: 16.336%<br>Volatility: 0.089<br>Sharpe Ratio: 1.828<br>SRE_Close: Weight=0.509<br>F_Close: Weight=0.000<br>GILD_Close: Weight=0.491<br>BMY_Close: Weight=0.000",
                    "Return: 20.898%<br>Volatility: 0.125<br>Sharpe Ratio: 1.671<br>CRM_Close: Weight=0.719<br>F_Close: Weight=0.000<br>RMD_Close: Weight=0.281",
                    "Return: 37.916%<br>Volatility: 0.101<br>Sharpe Ratio: 3.758<br>TSLA_Close: Weight=0.047<br>PEP_Close: Weight=0.433<br>META_Close: Weight=0.416<br>REGN_Close: Weight=0.104",
                    "Return: 0.821%<br>Volatility: 0.204<br>Sharpe Ratio: 0.040<br>KR_Close: Weight=0.000<br>BTI_Close: Weight=1.000<br>AMGN_Close: Weight=0.000<br>GE_Close: Weight=0.000",
                    "Return: 28.044%<br>Volatility: 0.121<br>Sharpe Ratio: 2.322<br>ABBV_Close: Weight=0.951<br>BTI_Close: Weight=0.000<br>TXN_Close: Weight=0.049",
                    "Return: 7.620%<br>Volatility: 0.176<br>Sharpe Ratio: 0.433<br>ZBH_Close: Weight=1.000<br>MRK_Close: Weight=0.000<br>KR_Close: Weight=0.000",
                    "Return: 26.753%<br>Volatility: 0.076<br>Sharpe Ratio: 3.523<br>DE_Close: Weight=0.227<br>KO_Close: Weight=0.773<br>HD_Close: Weight=0.000",
                    "Return: 17.073%<br>Volatility: 0.082<br>Sharpe Ratio: 2.080<br>ACN_Close: Weight=0.000<br>SRE_Close: Weight=0.259<br>HON_Close: Weight=0.741",
                    "Return: 38.752%<br>Volatility: 0.119<br>Sharpe Ratio: 3.265<br>VRTX_Close: Weight=0.167<br>LMT_Close: Weight=0.605<br>EXC_Close: Weight=0.227",
                    "Return: 10.108%<br>Volatility: 0.100<br>Sharpe Ratio: 1.009<br>BMY_Close: Weight=0.082<br>SRE_Close: Weight=0.918<br>WFC_Close: Weight=0.000",
                    "Return: 40.928%<br>Volatility: 0.128<br>Sharpe Ratio: 3.201<br>ADBE_Close: Weight=0.753<br>CRM_Close: Weight=0.000<br>PM_Close: Weight=0.160<br>MMM_Close: Weight=0.087",
                    "Return: 15.425%<br>Volatility: 0.118<br>Sharpe Ratio: 1.305<br>WFC_Close: Weight=0.000<br>QCOM_Close: Weight=0.000<br>MMM_Close: Weight=1.000",
                    "Return: 38.748%<br>Volatility: 0.133<br>Sharpe Ratio: 2.922<br>MSFT_Close: Weight=0.651<br>QCOM_Close: Weight=0.000<br>EW_Close: Weight=0.349",
                    "Return: 30.810%<br>Volatility: 0.137<br>Sharpe Ratio: 2.252<br>BMY_Close: Weight=0.078<br>GS_Close: Weight=0.000<br>NKE_Close: Weight=0.000<br>WMT_Close: Weight=0.922",
                    "Return: 0.345%<br>Volatility: 0.123<br>Sharpe Ratio: 0.028<br>GE_Close: Weight=0.000<br>SO_Close: Weight=0.000<br>DIS_Close: Weight=1.000<br>RDY_Close: Weight=0.000",
                    "Return: -1.752%<br>Volatility: 0.175<br>Sharpe Ratio: -0.100<br>PFE_Close: Weight=0.000<br>T_Close: Weight=0.000<br>VZ_Close: Weight=1.000",
                    "Return: 36.925%<br>Volatility: 0.146<br>Sharpe Ratio: 2.535<br>GM_Close: Weight=0.000<br>REGN_Close: Weight=0.440<br>VZ_Close: Weight=0.000<br>EXC_Close: Weight=0.560",
                    "Return: 37.950%<br>Volatility: 0.149<br>Sharpe Ratio: 2.539<br>NFLX_Close: Weight=0.348<br>SO_Close: Weight=0.000<br>PFE_Close: Weight=0.000<br>TMO_Close: Weight=0.652",
                    "Return: 26.949%<br>Volatility: 0.093<br>Sharpe Ratio: 2.887<br>MA_Close: Weight=0.690<br>DUK_Close: Weight=0.310<br>HD_Close: Weight=0.000<br>JPM_Close: Weight=0.000",
                    "Return: -6.629%<br>Volatility: 0.149<br>Sharpe Ratio: -0.444<br>QCOM_Close: Weight=0.000<br>CSCO_Close: Weight=0.000<br>CVX_Close: Weight=1.000",
                    "Return: 8.142%<br>Volatility: 0.111<br>Sharpe Ratio: 0.736<br>F_Close: Weight=0.000<br>MS_Close: Weight=0.068<br>MDT_Close: Weight=0.932",
                    "Return: 58.422%<br>Volatility: 0.174<br>Sharpe Ratio: 3.352<br>WFC_Close: Weight=0.000<br>ISRG_Close: Weight=0.792<br>REGN_Close: Weight=0.208",
                    "Return: 13.620%<br>Volatility: 0.101<br>Sharpe Ratio: 1.346<br>HD_Close: Weight=0.183<br>DHR_Close: Weight=0.000<br>MMM_Close: Weight=0.817",
                    "Return: 55.448%<br>Volatility: 0.131<br>Sharpe Ratio: 4.246<br>ABBV_Close: Weight=0.450<br>EMR_Close: Weight=0.000<br>MSFT_Close: Weight=0.176<br>BABA_Close: Weight=0.373",
                    "Return: 7.291%<br>Volatility: 0.168<br>Sharpe Ratio: 0.433<br>T_Close: Weight=0.000<br>DIS_Close: Weight=0.045<br>ZBH_Close: Weight=0.955",
                    "Return: 29.992%<br>Volatility: 0.116<br>Sharpe Ratio: 2.595<br>SYK_Close: Weight=1.000<br>AMGN_Close: Weight=0.000<br>GE_Close: Weight=0.000<br>MDT_Close: Weight=0.000",
                    "Return: 16.814%<br>Volatility: 0.155<br>Sharpe Ratio: 1.083<br>ZBH_Close: Weight=0.066<br>AAPL_Close: Weight=0.934<br>F_Close: Weight=0.000",
                    "Return: -5.109%<br>Volatility: 0.694<br>Sharpe Ratio: -0.074<br>AMD_Close: Weight=1.000<br>CVX_Close: Weight=0.000<br>DHR_Close: Weight=0.000",
                    "Return: 33.487%<br>Volatility: 0.113<br>Sharpe Ratio: 2.970<br>BAC_Close: Weight=0.000<br>MS_Close: Weight=0.000<br>SRE_Close: Weight=0.063<br>UNH_Close: Weight=0.937",
                    "Return: 53.017%<br>Volatility: 0.142<br>Sharpe Ratio: 3.741<br>ABT_Close: Weight=0.345<br>IBM_Close: Weight=0.000<br>BA_Close: Weight=0.655<br>PFE_Close: Weight=0.000",
                    "Return: 15.425%<br>Volatility: 0.118<br>Sharpe Ratio: 1.305<br>XOM_Close: Weight=0.000<br>UA_Close: Weight=0.000<br>MMM_Close: Weight=1.000",
                    "Return: 58.163%<br>Volatility: 0.140<br>Sharpe Ratio: 4.163<br>DE_Close: Weight=0.361<br>PYPL_Close: Weight=0.548<br>RDY_Close: Weight=0.000<br>PM_Close: Weight=0.091",
                    "Return: 26.367%<br>Volatility: 0.080<br>Sharpe Ratio: 3.283<br>GOOGL_Close: Weight=0.171<br>CPB_Close: Weight=0.000<br>ETN_Close: Weight=0.223<br>NEE_Close: Weight=0.606",
                    "Return: 43.512%<br>Volatility: 0.104<br>Sharpe Ratio: 4.196<br>ORCL_Close: Weight=0.276<br>AEP_Close: Weight=0.334<br>BA_Close: Weight=0.390<br>INTC_Close: Weight=0.000",
                    "Return: -17.299%<br>Volatility: 0.159<br>Sharpe Ratio: -1.085<br>CSCO_Close: Weight=1.000<br>WFC_Close: Weight=0.000<br>CPB_Close: Weight=0.000",
                    "Return: 14.968%<br>Volatility: 0.083<br>Sharpe Ratio: 1.798<br>PEP_Close: Weight=0.879<br>SRE_Close: Weight=0.121<br>BTI_Close: Weight=0.000",
                    "Return: 24.276%<br>Volatility: 0.081<br>Sharpe Ratio: 2.994<br>BAC_Close: Weight=0.000<br>NEE_Close: Weight=0.825<br>MS_Close: Weight=0.175",
                    "Return: 61.793%<br>Volatility: 0.149<br>Sharpe Ratio: 4.148<br>SNAP_Close: Weight=0.000<br>PYPL_Close: Weight=0.595<br>MS_Close: Weight=0.000<br>DE_Close: Weight=0.405",
                    "Return: 20.348%<br>Volatility: 0.097<br>Sharpe Ratio: 2.098<br>CRM_Close: Weight=0.395<br>CSCO_Close: Weight=0.000<br>JNJ_Close: Weight=0.605<br>WFC_Close: Weight=0.000",
                    "Return: 46.247%<br>Volatility: 0.110<br>Sharpe Ratio: 4.202<br>PEP_Close: Weight=0.630<br>BABA_Close: Weight=0.370<br>WFC_Close: Weight=0.000",
                    "Return: 20.651%<br>Volatility: 0.133<br>Sharpe Ratio: 1.556<br>GS_Close: Weight=0.000<br>PFE_Close: Weight=0.000<br>ABT_Close: Weight=1.000",
                    "Return: 38.001%<br>Volatility: 0.122<br>Sharpe Ratio: 3.114<br>SYY_Close: Weight=0.000<br>REGN_Close: Weight=0.228<br>SYK_Close: Weight=0.772",
                    "Return: 23.229%<br>Volatility: 0.106<br>Sharpe Ratio: 2.193<br>MS_Close: Weight=0.000<br>LMT_Close: Weight=0.987<br>TXN_Close: Weight=0.013",
                    "Return: 29.931%<br>Volatility: 0.109<br>Sharpe Ratio: 2.736<br>EW_Close: Weight=0.336<br>KR_Close: Weight=0.000<br>HON_Close: Weight=0.664<br>EMR_Close: Weight=0.000",
                    "Return: 28.735%<br>Volatility: 0.097<br>Sharpe Ratio: 2.950<br>ORCL_Close: Weight=0.348<br>MO_Close: Weight=0.000<br>LMT_Close: Weight=0.652",
                    "Return: 22.185%<br>Volatility: 0.153<br>Sharpe Ratio: 1.451<br>WFC_Close: Weight=0.000<br>GIS_Close: Weight=0.000<br>GILD_Close: Weight=1.000<br>BIIB_Close: Weight=0.000",
                    "Return: 27.487%<br>Volatility: 0.169<br>Sharpe Ratio: 1.624<br>ZBH_Close: Weight=0.001<br>KR_Close: Weight=0.000<br>GOOG_Close: Weight=0.999",
                    "Return: 3.502%<br>Volatility: 0.087<br>Sharpe Ratio: 0.403<br>INTC_Close: Weight=0.000<br>PG_Close: Weight=1.000<br>UA_Close: Weight=0.000",
                    "Return: 79.883%<br>Volatility: 0.251<br>Sharpe Ratio: 3.186<br>NVDA_Close: Weight=0.429<br>CVX_Close: Weight=0.000<br>CAT_Close: Weight=0.571",
                    "Return: 30.418%<br>Volatility: 0.119<br>Sharpe Ratio: 2.557<br>HD_Close: Weight=0.015<br>MS_Close: Weight=0.000<br>AMZN_Close: Weight=0.524<br>TMO_Close: Weight=0.461",
                    "Return: 27.511%<br>Volatility: 0.169<br>Sharpe Ratio: 1.624<br>GOOG_Close: Weight=1.000<br>IBM_Close: Weight=0.000<br>XOM_Close: Weight=0.000<br>AMGN_Close: Weight=0.000",
                    "Return: 26.047%<br>Volatility: 0.080<br>Sharpe Ratio: 3.261<br>MMM_Close: Weight=0.075<br>TMO_Close: Weight=0.295<br>NEE_Close: Weight=0.629<br>MDT_Close: Weight=0.000",
                    "Return: 14.945%<br>Volatility: 0.135<br>Sharpe Ratio: 1.105<br>XOM_Close: Weight=0.000<br>AAPL_Close: Weight=0.789<br>HD_Close: Weight=0.211<br>IBM_Close: Weight=0.000",
                    "Return: 26.704%<br>Volatility: 0.100<br>Sharpe Ratio: 2.680<br>HON_Close: Weight=0.460<br>NKE_Close: Weight=0.013<br>PM_Close: Weight=0.173<br>DE_Close: Weight=0.354",
                    "Return: 21.900%<br>Volatility: 0.097<br>Sharpe Ratio: 2.261<br>RMD_Close: Weight=0.024<br>SAP_Close: Weight=0.557<br>DUK_Close: Weight=0.419",
                    "Return: 98.505%<br>Volatility: 0.270<br>Sharpe Ratio: 3.643<br>GM_Close: Weight=0.000<br>BABA_Close: Weight=1.000<br>IBM_Close: Weight=0.000<br>MDT_Close: Weight=0.000",
                    "Return: 33.513%<br>Volatility: 0.131<br>Sharpe Ratio: 2.557<br>ABT_Close: Weight=0.553<br>COST_Close: Weight=0.000<br>CAT_Close: Weight=0.447",
                    "Return: 44.256%<br>Volatility: 0.121<br>Sharpe Ratio: 3.662<br>MCD_Close: Weight=0.688<br>AMZN_Close: Weight=0.312<br>ZBH_Close: Weight=0.000",
                    "Return: 43.159%<br>Volatility: 0.110<br>Sharpe Ratio: 3.934<br>ISRG_Close: Weight=0.477<br>WMT_Close: Weight=0.414<br>GILD_Close: Weight=0.109",
                    "Return: 82.499%<br>Volatility: 0.191<br>Sharpe Ratio: 4.331<br>PG_Close: Weight=0.000<br>DIS_Close: Weight=0.000<br>BA_Close: Weight=0.752<br>NVDA_Close: Weight=0.248",
                    "Return: 53.357%<br>Volatility: 0.145<br>Sharpe Ratio: 3.686<br>BA_Close: Weight=0.682<br>MDT_Close: Weight=0.078<br>CMCSA_Close: Weight=0.241<br>T_Close: Weight=0.000",
                    "Return: 27.323%<br>Volatility: 0.072<br>Sharpe Ratio: 3.772<br>WMT_Close: Weight=0.309<br>GS_Close: Weight=0.000<br>V_Close: Weight=0.408<br>JNJ_Close: Weight=0.284",
                    "Return: 48.534%<br>Volatility: 0.155<br>Sharpe Ratio: 3.139<br>MDT_Close: Weight=0.000<br>GIS_Close: Weight=0.000<br>ADBE_Close: Weight=1.000<br>IBM_Close: Weight=0.000",
                    "Return: 48.037%<br>Volatility: 0.147<br>Sharpe Ratio: 3.258<br>CMCSA_Close: Weight=0.240<br>CVX_Close: Weight=0.000<br>ISRG_Close: Weight=0.760",
                    "Return: 46.889%<br>Volatility: 0.224<br>Sharpe Ratio: 2.090<br>SO_Close: Weight=0.000<br>NFLX_Close: Weight=0.532<br>GOOG_Close: Weight=0.468",
                    "Return: 44.852%<br>Volatility: 0.116<br>Sharpe Ratio: 3.878<br>PYPL_Close: Weight=0.489<br>JNJ_Close: Weight=0.277<br>DUK_Close: Weight=0.234<br>AMGN_Close: Weight=0.000",
                    "Return: 51.953%<br>Volatility: 0.152<br>Sharpe Ratio: 3.412<br>REGN_Close: Weight=0.207<br>MRK_Close: Weight=0.000<br>ADBE_Close: Weight=0.793",
                    "Return: 34.348%<br>Volatility: 0.124<br>Sharpe Ratio: 2.760<br>CSCO_Close: Weight=0.000<br>XOM_Close: Weight=0.000<br>MA_Close: Weight=1.000",
                    "Return: 47.674%<br>Volatility: 0.145<br>Sharpe Ratio: 3.297<br>EMR_Close: Weight=0.000<br>MCD_Close: Weight=1.000<br>XOM_Close: Weight=0.000",
                    "Return: 24.603%<br>Volatility: 0.079<br>Sharpe Ratio: 3.102<br>NEE_Close: Weight=0.593<br>PG_Close: Weight=0.000<br>QCOM_Close: Weight=0.000<br>HON_Close: Weight=0.407",
                    "Return: 18.793%<br>Volatility: 0.111<br>Sharpe Ratio: 1.693<br>T_Close: Weight=0.000<br>JNJ_Close: Weight=1.000<br>DHR_Close: Weight=0.000",
                    "Return: 28.381%<br>Volatility: 0.099<br>Sharpe Ratio: 2.855<br>AMZN_Close: Weight=0.376<br>LMT_Close: Weight=0.624<br>BSX_Close: Weight=0.000",
                    "Return: 13.564%<br>Volatility: 0.090<br>Sharpe Ratio: 1.509<br>CPB_Close: Weight=0.000<br>GS_Close: Weight=0.000<br>TXN_Close: Weight=0.126<br>RTX_Close: Weight=0.874",
                    "Return: 0.821%<br>Volatility: 0.204<br>Sharpe Ratio: 0.040<br>MRK_Close: Weight=0.000<br>BTI_Close: Weight=1.000<br>GS_Close: Weight=0.000",
                    "Return: 33.119%<br>Volatility: 0.083<br>Sharpe Ratio: 3.999<br>SRE_Close: Weight=0.054<br>GOOGL_Close: Weight=0.061<br>KO_Close: Weight=0.780<br>VRTX_Close: Weight=0.105",
                    "Return: 28.903%<br>Volatility: 0.107<br>Sharpe Ratio: 2.699<br>SYY_Close: Weight=0.000<br>CRM_Close: Weight=0.405<br>WMT_Close: Weight=0.595",
                    "Return: 22.261%<br>Volatility: 0.095<br>Sharpe Ratio: 2.340<br>PM_Close: Weight=0.258<br>LMT_Close: Weight=0.742<br>TXN_Close: Weight=0.000",
                    "Return: 30.921%<br>Volatility: 0.111<br>Sharpe Ratio: 2.793<br>MO_Close: Weight=0.000<br>DIS_Close: Weight=0.000<br>AMZN_Close: Weight=0.261<br>V_Close: Weight=0.739",
                    "Return: 28.234%<br>Volatility: 0.105<br>Sharpe Ratio: 2.689<br>NEE_Close: Weight=1.000<br>BMY_Close: Weight=0.000<br>CVX_Close: Weight=0.000<br>CSCO_Close: Weight=0.000",
                    "Return: 67.960%<br>Volatility: 0.232<br>Sharpe Ratio: 2.932<br>KR_Close: Weight=0.000<br>AMZN_Close: Weight=0.654<br>VRTX_Close: Weight=0.346",
                    "Return: 26.348%<br>Volatility: 0.098<br>Sharpe Ratio: 2.682<br>ORCL_Close: Weight=0.361<br>JPM_Close: Weight=0.000<br>HON_Close: Weight=0.639",
                    "Return: 61.493%<br>Volatility: 0.162<br>Sharpe Ratio: 3.804<br>MDT_Close: Weight=0.119<br>TSLA_Close: Weight=0.147<br>BA_Close: Weight=0.733<br>GE_Close: Weight=0.000",
                    "Return: 25.843%<br>Volatility: 0.165<br>Sharpe Ratio: 1.563<br>CSCO_Close: Weight=0.000<br>PFE_Close: Weight=0.000<br>GOOGL_Close: Weight=1.000",
                    "Return: 53.017%<br>Volatility: 0.142<br>Sharpe Ratio: 3.741<br>BA_Close: Weight=0.655<br>DHR_Close: Weight=0.000<br>ABT_Close: Weight=0.345<br>COST_Close: Weight=0.000",
                    "Return: 46.358%<br>Volatility: 0.148<br>Sharpe Ratio: 3.142<br>CSCO_Close: Weight=0.000<br>EMR_Close: Weight=0.000<br>HD_Close: Weight=0.051<br>ADBE_Close: Weight=0.949",
                    "Return: 15.977%<br>Volatility: 0.081<br>Sharpe Ratio: 1.982<br>AAPL_Close: Weight=0.221<br>ACN_Close: Weight=0.000<br>PEP_Close: Weight=0.779",
                    "Return: 38.699%<br>Volatility: 0.124<br>Sharpe Ratio: 3.119<br>MA_Close: Weight=0.737<br>EW_Close: Weight=0.263<br>SNAP_Close: Weight=0.000<br>KR_Close: Weight=0.000",
                    "Return: 35.823%<br>Volatility: 0.088<br>Sharpe Ratio: 4.089<br>KR_Close: Weight=0.000<br>LMT_Close: Weight=0.488<br>XOM_Close: Weight=0.000<br>MCD_Close: Weight=0.512",
                    "Return: 16.390%<br>Volatility: 0.101<br>Sharpe Ratio: 1.620<br>F_Close: Weight=0.000<br>AEP_Close: Weight=1.000<br>GE_Close: Weight=0.000",
                    "Return: 95.882%<br>Volatility: 0.263<br>Sharpe Ratio: 3.643<br>AAPL_Close: Weight=0.000<br>BABA_Close: Weight=0.969<br>JPM_Close: Weight=0.000<br>BSX_Close: Weight=0.031",
                    "Return: 23.365%<br>Volatility: 0.107<br>Sharpe Ratio: 2.193<br>HD_Close: Weight=0.000<br>LMT_Close: Weight=1.000<br>RDY_Close: Weight=0.000",
                    "Return: 20.377%<br>Volatility: 0.090<br>Sharpe Ratio: 2.261<br>CRM_Close: Weight=0.312<br>HON_Close: Weight=0.688<br>GS_Close: Weight=0.000<br>KR_Close: Weight=0.000",
                    "Return: 66.205%<br>Volatility: 0.181<br>Sharpe Ratio: 3.659<br>ZBH_Close: Weight=0.139<br>PYPL_Close: Weight=0.856<br>PG_Close: Weight=0.005",
                    "Return: 5.554%<br>Volatility: 0.134<br>Sharpe Ratio: 0.413<br>F_Close: Weight=0.000<br>AMD_Close: Weight=0.000<br>HD_Close: Weight=1.000<br>BTI_Close: Weight=0.000",
                    "Return: 28.423%<br>Volatility: 0.109<br>Sharpe Ratio: 2.617<br>BMY_Close: Weight=0.018<br>V_Close: Weight=0.982<br>UA_Close: Weight=0.000<br>GIS_Close: Weight=0.000",
                    "Return: 13.001%<br>Volatility: 0.179<br>Sharpe Ratio: 0.725<br>GE_Close: Weight=0.000<br>TXN_Close: Weight=1.000<br>GS_Close: Weight=0.000<br>GIS_Close: Weight=0.000",
                    "Return: 13.645%<br>Volatility: 0.093<br>Sharpe Ratio: 1.464<br>IBM_Close: Weight=0.000<br>RTX_Close: Weight=1.000<br>SO_Close: Weight=0.000",
                    "Return: 28.961%<br>Volatility: 0.094<br>Sharpe Ratio: 3.078<br>UNH_Close: Weight=0.681<br>TMO_Close: Weight=0.195<br>PG_Close: Weight=0.125",
                    "Return: 30.464%<br>Volatility: 0.125<br>Sharpe Ratio: 2.432<br>EW_Close: Weight=0.402<br>CSCO_Close: Weight=0.000<br>CMCSA_Close: Weight=0.263<br>RTX_Close: Weight=0.335",
                    "Return: 3.502%<br>Volatility: 0.087<br>Sharpe Ratio: 0.403<br>CVX_Close: Weight=0.000<br>PG_Close: Weight=1.000<br>KR_Close: Weight=0.000",
                    "Return: 18.788%<br>Volatility: 0.095<br>Sharpe Ratio: 1.986<br>HON_Close: Weight=0.873<br>BSX_Close: Weight=0.127<br>HD_Close: Weight=0.000",
                    "Return: 29.148%<br>Volatility: 0.090<br>Sharpe Ratio: 3.227<br>UNH_Close: Weight=0.627<br>HON_Close: Weight=0.373<br>HD_Close: Weight=0.000",
                    "Return: 49.434%<br>Volatility: 0.116<br>Sharpe Ratio: 4.273<br>ISRG_Close: Weight=0.417<br>VZ_Close: Weight=0.040<br>MCD_Close: Weight=0.542",
                    "Return: 19.803%<br>Volatility: 0.123<br>Sharpe Ratio: 1.611<br>JPM_Close: Weight=0.000<br>RMD_Close: Weight=0.191<br>ABT_Close: Weight=0.809",
                    "Return: 43.724%<br>Volatility: 0.138<br>Sharpe Ratio: 3.161<br>DHR_Close: Weight=0.000<br>SO_Close: Weight=0.000<br>MMM_Close: Weight=0.145<br>ADBE_Close: Weight=0.855",
                    "Return: 98.505%<br>Volatility: 0.270<br>Sharpe Ratio: 3.643<br>BABA_Close: Weight=1.000<br>MDT_Close: Weight=0.000<br>AAPL_Close: Weight=0.000",
                    "Return: 29.930%<br>Volatility: 0.087<br>Sharpe Ratio: 3.428<br>CMCSA_Close: Weight=0.062<br>WMT_Close: Weight=0.369<br>HD_Close: Weight=0.000<br>V_Close: Weight=0.570",
                    "Return: 32.231%<br>Volatility: 0.137<br>Sharpe Ratio: 2.358<br>QCOM_Close: Weight=0.000<br>MSFT_Close: Weight=1.000<br>K_Close: Weight=0.000",
                    "Return: 27.326%<br>Volatility: 0.095<br>Sharpe Ratio: 2.882<br>DE_Close: Weight=0.379<br>GILD_Close: Weight=0.299<br>ETN_Close: Weight=0.067<br>EXC_Close: Weight=0.255",
                    "Return: -0.844%<br>Volatility: 0.165<br>Sharpe Ratio: -0.051<br>EMR_Close: Weight=1.000<br>GM_Close: Weight=0.000<br>VZ_Close: Weight=0.000",
                    "Return: 39.028%<br>Volatility: 0.095<br>Sharpe Ratio: 4.108<br>PM_Close: Weight=0.100<br>MCD_Close: Weight=0.443<br>UNH_Close: Weight=0.457",
                    "Return: 22.047%<br>Volatility: 0.125<br>Sharpe Ratio: 1.760<br>JPM_Close: Weight=0.000<br>AMGN_Close: Weight=0.000<br>MMM_Close: Weight=0.452<br>GOOG_Close: Weight=0.548",
                    "Return: 22.104%<br>Volatility: 0.081<br>Sharpe Ratio: 2.738<br>PFE_Close: Weight=0.000<br>PEP_Close: Weight=0.405<br>SRE_Close: Weight=0.174<br>WMT_Close: Weight=0.421",
                    "Return: 34.348%<br>Volatility: 0.131<br>Sharpe Ratio: 2.616<br>EW_Close: Weight=0.480<br>WFC_Close: Weight=0.000<br>PM_Close: Weight=0.520",
                    "Return: 28.998%<br>Volatility: 0.080<br>Sharpe Ratio: 3.609<br>CPB_Close: Weight=0.000<br>KO_Close: Weight=0.850<br>REGN_Close: Weight=0.150",
                    "Return: 40.471%<br>Volatility: 0.087<br>Sharpe Ratio: 4.672<br>V_Close: Weight=0.197<br>LMT_Close: Weight=0.221<br>ISRG_Close: Weight=0.207<br>MCD_Close: Weight=0.375",
                    "Return: 40.807%<br>Volatility: 0.179<br>Sharpe Ratio: 2.279<br>SNAP_Close: Weight=0.000<br>CPB_Close: Weight=0.000<br>DE_Close: Weight=1.000",
                    "Return: 6.009%<br>Volatility: 0.259<br>Sharpe Ratio: 0.232<br>NKE_Close: Weight=1.000<br>AMD_Close: Weight=0.000<br>T_Close: Weight=0.000<br>F_Close: Weight=0.000",
                    "Return: 65.057%<br>Volatility: 0.300<br>Sharpe Ratio: 2.166<br>RDY_Close: Weight=0.000<br>BMY_Close: Weight=0.000<br>REGN_Close: Weight=1.000",
                    "Return: 76.095%<br>Volatility: 0.210<br>Sharpe Ratio: 3.626<br>SO_Close: Weight=0.000<br>KR_Close: Weight=0.000<br>BMY_Close: Weight=0.000<br>PYPL_Close: Weight=1.000",
                    "Return: 34.110%<br>Volatility: 0.115<br>Sharpe Ratio: 2.968<br>GE_Close: Weight=0.000<br>BSX_Close: Weight=0.046<br>F_Close: Weight=0.000<br>UNH_Close: Weight=0.954",
                    "Return: -1.752%<br>Volatility: 0.175<br>Sharpe Ratio: -0.100<br>KR_Close: Weight=0.000<br>VZ_Close: Weight=1.000<br>GS_Close: Weight=0.000",
                    "Return: -0.844%<br>Volatility: 0.165<br>Sharpe Ratio: -0.051<br>EMR_Close: Weight=1.000<br>VZ_Close: Weight=0.000<br>GIS_Close: Weight=0.000",
                    "Return: 10.690%<br>Volatility: 0.107<br>Sharpe Ratio: 0.998<br>CSCO_Close: Weight=0.000<br>SRE_Close: Weight=1.000<br>BAC_Close: Weight=0.000",
                    "Return: 126.996%<br>Volatility: 0.486<br>Sharpe Ratio: 2.611<br>MS_Close: Weight=0.000<br>RDY_Close: Weight=0.000<br>VRTX_Close: Weight=1.000",
                    "Return: 16.745%<br>Volatility: 0.093<br>Sharpe Ratio: 1.803<br>MMM_Close: Weight=0.363<br>PM_Close: Weight=0.376<br>AMD_Close: Weight=0.000<br>BSX_Close: Weight=0.261",
                    "Return: 16.205%<br>Volatility: 0.177<br>Sharpe Ratio: 0.918<br>RMD_Close: Weight=1.000<br>BIIB_Close: Weight=0.000<br>XOM_Close: Weight=0.000",
                    "Return: 22.970%<br>Volatility: 0.115<br>Sharpe Ratio: 1.999<br>BIIB_Close: Weight=0.000<br>ABT_Close: Weight=0.553<br>GOOGL_Close: Weight=0.447",
                    "Return: 11.058%<br>Volatility: 0.147<br>Sharpe Ratio: 0.754<br>UA_Close: Weight=0.000<br>ACN_Close: Weight=1.000<br>KR_Close: Weight=0.000",
                    "Return: 1.589%<br>Volatility: 0.131<br>Sharpe Ratio: 0.121<br>BTI_Close: Weight=0.233<br>VZ_Close: Weight=0.000<br>JPM_Close: Weight=0.767",
                    "Return: 18.546%<br>Volatility: 0.078<br>Sharpe Ratio: 2.389<br>BSX_Close: Weight=0.033<br>TMO_Close: Weight=0.351<br>SO_Close: Weight=0.000<br>PEP_Close: Weight=0.615",
                    "Return: 56.148%<br>Volatility: 0.113<br>Sharpe Ratio: 4.955<br>BA_Close: Weight=0.405<br>DE_Close: Weight=0.084<br>MCD_Close: Weight=0.512",
                    "Return: 56.468%<br>Volatility: 0.120<br>Sharpe Ratio: 4.715<br>PYPL_Close: Weight=0.274<br>MCD_Close: Weight=0.471<br>META_Close: Weight=0.255<br>F_Close: Weight=0.000",
                    "Return: 38.781%<br>Volatility: 0.187<br>Sharpe Ratio: 2.072<br>ORCL_Close: Weight=1.000<br>K_Close: Weight=0.000<br>IBM_Close: Weight=0.000",
                    "Return: 56.707%<br>Volatility: 0.153<br>Sharpe Ratio: 3.706<br>PYPL_Close: Weight=0.704<br>SRE_Close: Weight=0.296<br>GIS_Close: Weight=0.000",
                    "Return: 34.348%<br>Volatility: 0.124<br>Sharpe Ratio: 2.760<br>MDT_Close: Weight=0.000<br>MA_Close: Weight=1.000<br>BIIB_Close: Weight=0.000",
                    "Return: 35.198%<br>Volatility: 0.102<br>Sharpe Ratio: 3.445<br>DUK_Close: Weight=0.334<br>MCD_Close: Weight=0.664<br>RMD_Close: Weight=0.002",
                    "Return: 10.323%<br>Volatility: 0.133<br>Sharpe Ratio: 0.775<br>TXN_Close: Weight=0.640<br>HD_Close: Weight=0.360<br>VZ_Close: Weight=0.000",
                    "Return: 30.725%<br>Volatility: 0.147<br>Sharpe Ratio: 2.084<br>SAP_Close: Weight=1.000<br>CPB_Close: Weight=0.000<br>SO_Close: Weight=0.000",
                    "Return: 33.385%<br>Volatility: 0.113<br>Sharpe Ratio: 2.967<br>UNH_Close: Weight=0.948<br>DIS_Close: Weight=0.000<br>PG_Close: Weight=0.052<br>CSCO_Close: Weight=0.000",
                    "Return: 15.214%<br>Volatility: 0.134<br>Sharpe Ratio: 1.138<br>BSX_Close: Weight=1.000<br>AMGN_Close: Weight=0.000<br>T_Close: Weight=0.000<br>RDY_Close: Weight=0.000",
                    "Return: 47.457%<br>Volatility: 0.144<br>Sharpe Ratio: 3.294<br>CMCSA_Close: Weight=0.135<br>BSX_Close: Weight=0.000<br>META_Close: Weight=0.865",
                    "Return: 38.500%<br>Volatility: 0.139<br>Sharpe Ratio: 2.767<br>REGN_Close: Weight=0.267<br>ZBH_Close: Weight=0.000<br>ABBV_Close: Weight=0.733<br>F_Close: Weight=0.000",
                    "Return: 25.409%<br>Volatility: 0.090<br>Sharpe Ratio: 2.831<br>SO_Close: Weight=0.000<br>GIS_Close: Weight=0.000<br>DE_Close: Weight=0.390<br>PEP_Close: Weight=0.610",
                    "Return: 44.635%<br>Volatility: 0.113<br>Sharpe Ratio: 3.961<br>GIS_Close: Weight=0.000<br>PEP_Close: Weight=0.520<br>PYPL_Close: Weight=0.480",
                    "Return: 57.898%<br>Volatility: 0.289<br>Sharpe Ratio: 2.001<br>T_Close: Weight=0.000<br>NFLX_Close: Weight=0.901<br>LLY_Close: Weight=0.060<br>NKE_Close: Weight=0.039",
                    "Return: 45.232%<br>Volatility: 0.120<br>Sharpe Ratio: 3.755<br>CRM_Close: Weight=0.183<br>BA_Close: Weight=0.516<br>AEP_Close: Weight=0.301",
                    "Return: 80.975%<br>Volatility: 0.203<br>Sharpe Ratio: 3.987<br>XOM_Close: Weight=0.000<br>BABA_Close: Weight=0.643<br>KR_Close: Weight=0.000<br>CAT_Close: Weight=0.357",
                    "Return: 26.754%<br>Volatility: 0.076<br>Sharpe Ratio: 3.523<br>KO_Close: Weight=0.773<br>DE_Close: Weight=0.227<br>IBM_Close: Weight=0.000",
                    "Return: 40.807%<br>Volatility: 0.179<br>Sharpe Ratio: 2.279<br>EMR_Close: Weight=0.000<br>DIS_Close: Weight=0.000<br>DE_Close: Weight=1.000",
                    "Return: 34.436%<br>Volatility: 0.119<br>Sharpe Ratio: 2.890<br>CVX_Close: Weight=0.000<br>SYK_Close: Weight=0.861<br>TSLA_Close: Weight=0.139",
                    "Return: 74.912%<br>Volatility: 0.207<br>Sharpe Ratio: 3.626<br>PYPL_Close: Weight=0.980<br>RMD_Close: Weight=0.020<br>AAPL_Close: Weight=0.000<br>COST_Close: Weight=0.000",
                    "Return: 19.143%<br>Volatility: 0.100<br>Sharpe Ratio: 1.922<br>WFC_Close: Weight=0.000<br>GOOG_Close: Weight=0.503<br>XOM_Close: Weight=0.000<br>SRE_Close: Weight=0.497",
                    "Return: 12.336%<br>Volatility: 0.076<br>Sharpe Ratio: 1.621<br>DUK_Close: Weight=0.610<br>BSX_Close: Weight=0.390<br>SNAP_Close: Weight=0.000",
                    "Return: 102.500%<br>Volatility: 0.376<br>Sharpe Ratio: 2.723<br>GS_Close: Weight=0.000<br>BMY_Close: Weight=0.153<br>NVDA_Close: Weight=0.847<br>EMR_Close: Weight=0.000",
                    "Return: 53.353%<br>Volatility: 0.136<br>Sharpe Ratio: 3.909<br>LMT_Close: Weight=0.336<br>TSLA_Close: Weight=0.124<br>BA_Close: Weight=0.540<br>MO_Close: Weight=0.000",
                    "Return: 0.345%<br>Volatility: 0.123<br>Sharpe Ratio: 0.028<br>INTC_Close: Weight=0.000<br>SO_Close: Weight=0.000<br>COST_Close: Weight=0.000<br>DIS_Close: Weight=1.000",
                    "Return: 22.347%<br>Volatility: 0.071<br>Sharpe Ratio: 3.129<br>KO_Close: Weight=0.860<br>CMCSA_Close: Weight=0.140<br>AMGN_Close: Weight=0.000",
                    "Return: 32.715%<br>Volatility: 0.114<br>Sharpe Ratio: 2.870<br>NFLX_Close: Weight=0.230<br>BMY_Close: Weight=0.000<br>NKE_Close: Weight=0.000<br>LMT_Close: Weight=0.770",
                    "Return: 3.502%<br>Volatility: 0.087<br>Sharpe Ratio: 0.403<br>BIIB_Close: Weight=0.000<br>VZ_Close: Weight=0.000<br>PG_Close: Weight=1.000",
                    "Return: 25.831%<br>Volatility: 0.118<br>Sharpe Ratio: 2.186<br>SAP_Close: Weight=0.680<br>LLY_Close: Weight=0.000<br>VZ_Close: Weight=0.000<br>MMM_Close: Weight=0.320",
                    "Return: 38.687%<br>Volatility: 0.107<br>Sharpe Ratio: 3.624<br>META_Close: Weight=0.543<br>LMT_Close: Weight=0.438<br>CMCSA_Close: Weight=0.018<br>GE_Close: Weight=0.000",
                    "Return: 49.213%<br>Volatility: 0.126<br>Sharpe Ratio: 3.915<br>BA_Close: Weight=0.494<br>V_Close: Weight=0.506<br>IBM_Close: Weight=0.000",
                    "Return: 24.023%<br>Volatility: 0.111<br>Sharpe Ratio: 2.168<br>K_Close: Weight=0.000<br>RTX_Close: Weight=0.785<br>TSLA_Close: Weight=0.215<br>GE_Close: Weight=0.000",
                    "Return: 10.690%<br>Volatility: 0.107<br>Sharpe Ratio: 0.998<br>SRE_Close: Weight=1.000<br>GIS_Close: Weight=0.000<br>CPB_Close: Weight=0.000",
                    "Return: 50.410%<br>Volatility: 0.154<br>Sharpe Ratio: 3.263<br>HD_Close: Weight=0.027<br>BAC_Close: Weight=0.000<br>META_Close: Weight=0.973",
                    "Return: 36.298%<br>Volatility: 0.150<br>Sharpe Ratio: 2.427<br>EW_Close: Weight=0.517<br>ABT_Close: Weight=0.483<br>UA_Close: Weight=0.000",
                    "Return: 20.177%<br>Volatility: 0.108<br>Sharpe Ratio: 1.872<br>MMM_Close: Weight=0.313<br>PM_Close: Weight=0.355<br>AMGN_Close: Weight=0.000<br>GOOGL_Close: Weight=0.332",
                    "Return: 26.593%<br>Volatility: 0.092<br>Sharpe Ratio: 2.882<br>NEE_Close: Weight=0.783<br>SYY_Close: Weight=0.000<br>CMCSA_Close: Weight=0.217",
                    "Return: 19.804%<br>Volatility: 0.105<br>Sharpe Ratio: 1.879<br>CMCSA_Close: Weight=0.452<br>JPM_Close: Weight=0.000<br>PM_Close: Weight=0.548",
                    "Return: 22.185%<br>Volatility: 0.153<br>Sharpe Ratio: 1.451<br>DHR_Close: Weight=0.000<br>GILD_Close: Weight=1.000<br>PFE_Close: Weight=0.000",
                    "Return: 2.406%<br>Volatility: 0.155<br>Sharpe Ratio: 0.155<br>SYY_Close: Weight=1.000<br>UA_Close: Weight=0.000<br>GIS_Close: Weight=0.000",
                    "Return: 24.454%<br>Volatility: 0.086<br>Sharpe Ratio: 2.836<br>EXC_Close: Weight=0.213<br>V_Close: Weight=0.681<br>BTI_Close: Weight=0.000<br>MMM_Close: Weight=0.106",
                    "Return: 26.571%<br>Volatility: 0.107<br>Sharpe Ratio: 2.494<br>ORCL_Close: Weight=0.387<br>MDT_Close: Weight=0.078<br>CRM_Close: Weight=0.195<br>PM_Close: Weight=0.340",
                    "Return: 86.291%<br>Volatility: 0.313<br>Sharpe Ratio: 2.760<br>GOOG_Close: Weight=0.367<br>NVDA_Close: Weight=0.633<br>WFC_Close: Weight=0.000<br>KR_Close: Weight=0.000",
                    "Return: 12.235%<br>Volatility: 0.068<br>Sharpe Ratio: 1.804<br>DUK_Close: Weight=0.447<br>SNAP_Close: Weight=0.000<br>XOM_Close: Weight=0.000<br>RTX_Close: Weight=0.553",
                    "Return: 22.779%<br>Volatility: 0.075<br>Sharpe Ratio: 3.036<br>NEE_Close: Weight=0.626<br>SRE_Close: Weight=0.000<br>RTX_Close: Weight=0.374<br>K_Close: Weight=0.000",
                    "Return: 29.992%<br>Volatility: 0.116<br>Sharpe Ratio: 2.595<br>CSCO_Close: Weight=0.000<br>TXN_Close: Weight=0.000<br>SYK_Close: Weight=1.000",
                    "Return: 45.982%<br>Volatility: 0.138<br>Sharpe Ratio: 3.335<br>F_Close: Weight=0.000<br>META_Close: Weight=0.808<br>GILD_Close: Weight=0.192<br>WFC_Close: Weight=0.000",
                    "Return: 0.828%<br>Volatility: 0.158<br>Sharpe Ratio: 0.052<br>WFC_Close: Weight=0.000<br>LLY_Close: Weight=1.000<br>QCOM_Close: Weight=0.000",
                    "Return: 58.011%<br>Volatility: 0.161<br>Sharpe Ratio: 3.611<br>PM_Close: Weight=0.236<br>BA_Close: Weight=0.764<br>T_Close: Weight=0.000<br>CSCO_Close: Weight=0.000",
                    "Return: 64.036%<br>Volatility: 0.173<br>Sharpe Ratio: 3.694<br>GS_Close: Weight=0.000<br>PYPL_Close: Weight=0.725<br>MRK_Close: Weight=0.000<br>MSFT_Close: Weight=0.275",
                    "Return: 45.132%<br>Volatility: 0.115<br>Sharpe Ratio: 3.912<br>ABT_Close: Weight=0.189<br>AEP_Close: Weight=0.343<br>T_Close: Weight=0.000<br>PYPL_Close: Weight=0.468",
                    "Return: 17.202%<br>Volatility: 0.074<br>Sharpe Ratio: 2.332<br>GM_Close: Weight=0.000<br>MMM_Close: Weight=0.192<br>ETN_Close: Weight=0.272<br>PEP_Close: Weight=0.535",
                    "Return: 18.315%<br>Volatility: 0.129<br>Sharpe Ratio: 1.415<br>PFE_Close: Weight=0.000<br>PM_Close: Weight=0.958<br>LLY_Close: Weight=0.042",
                    "Return: 24.931%<br>Volatility: 0.125<br>Sharpe Ratio: 2.001<br>GOOG_Close: Weight=0.516<br>GILD_Close: Weight=0.484<br>GIS_Close: Weight=0.000",
                    "Return: 0.345%<br>Volatility: 0.123<br>Sharpe Ratio: 0.028<br>F_Close: Weight=0.000<br>DIS_Close: Weight=1.000<br>CSCO_Close: Weight=0.000",
                    "Return: 18.410%<br>Volatility: 0.108<br>Sharpe Ratio: 1.697<br>JNJ_Close: Weight=0.970<br>NKE_Close: Weight=0.030<br>XOM_Close: Weight=0.000<br>T_Close: Weight=0.000",
                    "Return: 28.825%<br>Volatility: 0.124<br>Sharpe Ratio: 2.316<br>GS_Close: Weight=0.000<br>BMY_Close: Weight=0.000<br>ABBV_Close: Weight=1.000",
                    "Return: 18.793%<br>Volatility: 0.111<br>Sharpe Ratio: 1.693<br>JNJ_Close: Weight=1.000<br>KR_Close: Weight=0.000<br>BMY_Close: Weight=0.000<br>JPM_Close: Weight=0.000",
                    "Return: 25.361%<br>Volatility: 0.072<br>Sharpe Ratio: 3.546<br>KO_Close: Weight=0.715<br>MSFT_Close: Weight=0.285<br>CPB_Close: Weight=0.000",
                    "Return: 22.468%<br>Volatility: 0.075<br>Sharpe Ratio: 2.990<br>MRK_Close: Weight=0.000<br>AMD_Close: Weight=0.005<br>AMGN_Close: Weight=0.000<br>KO_Close: Weight=0.995",
                    "Return: 37.122%<br>Volatility: 0.113<br>Sharpe Ratio: 3.272<br>VRTX_Close: Weight=0.177<br>AEP_Close: Weight=0.555<br>ABT_Close: Weight=0.268",
                    "Return: 18.037%<br>Volatility: 0.074<br>Sharpe Ratio: 2.431<br>SNAP_Close: Weight=0.000<br>HON_Close: Weight=0.564<br>GE_Close: Weight=0.000<br>AEP_Close: Weight=0.436",
                    "Return: 76.095%<br>Volatility: 0.210<br>Sharpe Ratio: 3.626<br>PYPL_Close: Weight=1.000<br>MO_Close: Weight=0.000<br>MDT_Close: Weight=0.000<br>QCOM_Close: Weight=0.000",
                    "Return: 20.651%<br>Volatility: 0.133<br>Sharpe Ratio: 1.556<br>IBM_Close: Weight=0.000<br>ABT_Close: Weight=1.000<br>MRK_Close: Weight=0.000",
                    "Return: 19.847%<br>Volatility: 0.127<br>Sharpe Ratio: 1.557<br>MS_Close: Weight=0.000<br>KR_Close: Weight=0.000<br>ABT_Close: Weight=0.953<br>PG_Close: Weight=0.047",
                    "Return: 17.498%<br>Volatility: 0.102<br>Sharpe Ratio: 1.713<br>SYY_Close: Weight=0.000<br>RMD_Close: Weight=0.199<br>PM_Close: Weight=0.539<br>BSX_Close: Weight=0.262",
                    "Return: 40.515%<br>Volatility: 0.078<br>Sharpe Ratio: 5.194<br>ISRG_Close: Weight=0.223<br>KO_Close: Weight=0.584<br>KR_Close: Weight=0.000<br>PYPL_Close: Weight=0.193",
                    "Return: 9.983%<br>Volatility: 0.077<br>Sharpe Ratio: 1.289<br>ZBH_Close: Weight=0.177<br>PFE_Close: Weight=0.000<br>DUK_Close: Weight=0.823",
                    "Return: 57.099%<br>Volatility: 0.156<br>Sharpe Ratio: 3.651<br>NFLX_Close: Weight=0.209<br>WMT_Close: Weight=0.604<br>VRTX_Close: Weight=0.187",
                    "Return: 18.423%<br>Volatility: 0.102<br>Sharpe Ratio: 1.801<br>PG_Close: Weight=0.000<br>ABT_Close: Weight=0.618<br>EXC_Close: Weight=0.382",
                    "Return: 10.053%<br>Volatility: 0.084<br>Sharpe Ratio: 1.191<br>QCOM_Close: Weight=0.000<br>DUK_Close: Weight=0.936<br>BMY_Close: Weight=0.064",
                    "Return: 23.577%<br>Volatility: 0.108<br>Sharpe Ratio: 2.188<br>MRK_Close: Weight=0.000<br>ETN_Close: Weight=0.375<br>GOOG_Close: Weight=0.369<br>CMCSA_Close: Weight=0.257",
                    "Return: 29.599%<br>Volatility: 0.111<br>Sharpe Ratio: 2.659<br>SYK_Close: Weight=0.842<br>GOOG_Close: Weight=0.158<br>BMY_Close: Weight=0.000",
                    "Return: 18.922%<br>Volatility: 0.102<br>Sharpe Ratio: 1.852<br>RTX_Close: Weight=0.495<br>CPB_Close: Weight=0.000<br>TMO_Close: Weight=0.505<br>CSCO_Close: Weight=0.000",
                    "Return: 33.945%<br>Volatility: 0.135<br>Sharpe Ratio: 2.517<br>ORCL_Close: Weight=0.434<br>NKE_Close: Weight=0.011<br>SAP_Close: Weight=0.555",
                    "Return: 26.982%<br>Volatility: 0.095<br>Sharpe Ratio: 2.836<br>PM_Close: Weight=0.436<br>WMT_Close: Weight=0.564<br>AMGN_Close: Weight=0.000",
                    "Return: 20.680%<br>Volatility: 0.154<br>Sharpe Ratio: 1.342<br>MO_Close: Weight=0.000<br>F_Close: Weight=0.000<br>WFC_Close: Weight=0.000<br>CMCSA_Close: Weight=1.000",
                    "Return: 31.975%<br>Volatility: 0.136<br>Sharpe Ratio: 2.359<br>GM_Close: Weight=0.000<br>MSFT_Close: Weight=0.960<br>K_Close: Weight=0.000<br>GOOGL_Close: Weight=0.040",
                    "Return: 35.575%<br>Volatility: 0.115<br>Sharpe Ratio: 3.107<br>PG_Close: Weight=0.000<br>CAT_Close: Weight=0.327<br>WFC_Close: Weight=0.000<br>ABBV_Close: Weight=0.673",
                    "Return: 34.436%<br>Volatility: 0.119<br>Sharpe Ratio: 2.890<br>TSLA_Close: Weight=0.139<br>GIS_Close: Weight=0.000<br>SYK_Close: Weight=0.861<br>GS_Close: Weight=0.000",
                    "Return: 26.598%<br>Volatility: 0.090<br>Sharpe Ratio: 2.946<br>SYK_Close: Weight=0.578<br>ETN_Close: Weight=0.209<br>GILD_Close: Weight=0.212",
                    "Return: 24.263%<br>Volatility: 0.148<br>Sharpe Ratio: 1.639<br>COST_Close: Weight=0.000<br>ZBH_Close: Weight=0.000<br>GOOG_Close: Weight=0.871<br>SYY_Close: Weight=0.129",
                    "Return: 35.515%<br>Volatility: 0.119<br>Sharpe Ratio: 2.995<br>ORCL_Close: Weight=0.263<br>MA_Close: Weight=0.737<br>QCOM_Close: Weight=0.000",
                    "Return: 30.893%<br>Volatility: 0.127<br>Sharpe Ratio: 2.436<br>EW_Close: Weight=0.503<br>BMY_Close: Weight=0.000<br>SRE_Close: Weight=0.497",
                    "Return: 75.462%<br>Volatility: 0.276<br>Sharpe Ratio: 2.739<br>VRTX_Close: Weight=0.482<br>CPB_Close: Weight=0.000<br>GIS_Close: Weight=0.000<br>GOOG_Close: Weight=0.518",
                    "Return: 21.961%<br>Volatility: 0.143<br>Sharpe Ratio: 1.540<br>DIS_Close: Weight=0.012<br>CRM_Close: Weight=0.962<br>BMY_Close: Weight=0.027<br>GS_Close: Weight=0.000",
                    "Return: 28.089%<br>Volatility: 0.108<br>Sharpe Ratio: 2.612<br>ABT_Close: Weight=0.322<br>PM_Close: Weight=0.211<br>NFLX_Close: Weight=0.191<br>JNJ_Close: Weight=0.275",
                    "Return: 42.557%<br>Volatility: 0.124<br>Sharpe Ratio: 3.431<br>ABT_Close: Weight=0.293<br>META_Close: Weight=0.707<br>RDY_Close: Weight=0.000",
                    "Return: 46.232%<br>Volatility: 0.140<br>Sharpe Ratio: 3.302<br>RMD_Close: Weight=0.046<br>MCD_Close: Weight=0.954<br>KR_Close: Weight=0.000",
                    "Return: 19.928%<br>Volatility: 0.103<br>Sharpe Ratio: 1.928<br>ABT_Close: Weight=0.540<br>PM_Close: Weight=0.460<br>BAC_Close: Weight=0.000<br>WFC_Close: Weight=0.000",
                    "Return: 22.124%<br>Volatility: 0.152<br>Sharpe Ratio: 1.451<br>VZ_Close: Weight=0.000<br>NKE_Close: Weight=0.004<br>GILD_Close: Weight=0.996<br>F_Close: Weight=0.000",
                    "Return: 13.645%<br>Volatility: 0.093<br>Sharpe Ratio: 1.464<br>GE_Close: Weight=0.000<br>GM_Close: Weight=0.000<br>RTX_Close: Weight=1.000",
                    "Return: 24.982%<br>Volatility: 0.105<br>Sharpe Ratio: 2.369<br>AMGN_Close: Weight=0.000<br>ABBV_Close: Weight=0.788<br>SRE_Close: Weight=0.212",
                    "Return: 19.567%<br>Volatility: 0.097<br>Sharpe Ratio: 2.016<br>SNAP_Close: Weight=0.000<br>BTI_Close: Weight=0.000<br>JNJ_Close: Weight=0.583<br>ABT_Close: Weight=0.417",
                    "Return: 51.648%<br>Volatility: 0.158<br>Sharpe Ratio: 3.262<br>META_Close: Weight=1.000<br>GM_Close: Weight=0.000<br>CRM_Close: Weight=0.000<br>UA_Close: Weight=0.000",
                    "Return: 23.382%<br>Volatility: 0.087<br>Sharpe Ratio: 2.679<br>WMT_Close: Weight=0.446<br>ACN_Close: Weight=0.000<br>PEP_Close: Weight=0.554<br>DIS_Close: Weight=0.000",
                    "Return: 33.707%<br>Volatility: 0.099<br>Sharpe Ratio: 3.411<br>PEP_Close: Weight=0.439<br>VRTX_Close: Weight=0.133<br>LMT_Close: Weight=0.428",
                    "Return: 52.105%<br>Volatility: 0.115<br>Sharpe Ratio: 4.514<br>UNH_Close: Weight=0.584<br>DHR_Close: Weight=0.000<br>PYPL_Close: Weight=0.416",
                    "Return: 64.082%<br>Volatility: 0.166<br>Sharpe Ratio: 3.871<br>ORCL_Close: Weight=0.317<br>PYPL_Close: Weight=0.680<br>RMD_Close: Weight=0.003",
                    "Return: 3.230%<br>Volatility: 0.162<br>Sharpe Ratio: 0.199<br>BMY_Close: Weight=0.884<br>CVX_Close: Weight=0.000<br>CSCO_Close: Weight=0.000<br>DIS_Close: Weight=0.116",
                    "Return: 26.495%<br>Volatility: 0.097<br>Sharpe Ratio: 2.721<br>GILD_Close: Weight=0.248<br>MMM_Close: Weight=0.155<br>ABT_Close: Weight=0.207<br>AMZN_Close: Weight=0.391",
                    "Return: 43.871%<br>Volatility: 0.112<br>Sharpe Ratio: 3.915<br>AAPL_Close: Weight=0.000<br>META_Close: Weight=0.581<br>WMT_Close: Weight=0.419",
                    "Return: 19.309%<br>Volatility: 0.099<br>Sharpe Ratio: 1.960<br>KR_Close: Weight=0.000<br>DHR_Close: Weight=0.000<br>HON_Close: Weight=1.000",
                    "Return: 21.739%<br>Volatility: 0.130<br>Sharpe Ratio: 1.672<br>BMY_Close: Weight=0.000<br>AAPL_Close: Weight=0.099<br>MDT_Close: Weight=0.249<br>GOOG_Close: Weight=0.652",
                    "Return: 60.953%<br>Volatility: 0.199<br>Sharpe Ratio: 3.068<br>GILD_Close: Weight=0.605<br>BMY_Close: Weight=0.000<br>NVDA_Close: Weight=0.395<br>LLY_Close: Weight=0.000",
                    "Return: 28.994%<br>Volatility: 0.128<br>Sharpe Ratio: 2.267<br>BMY_Close: Weight=0.068<br>WMT_Close: Weight=0.850<br>ZBH_Close: Weight=0.082<br>MRK_Close: Weight=0.000",
                    "Return: 41.155%<br>Volatility: 0.104<br>Sharpe Ratio: 3.950<br>ADBE_Close: Weight=0.454<br>UNH_Close: Weight=0.546<br>SNAP_Close: Weight=0.000",
                    "Return: 16.823%<br>Volatility: 0.071<br>Sharpe Ratio: 2.383<br>ACN_Close: Weight=0.000<br>DUK_Close: Weight=0.308<br>HON_Close: Weight=0.526<br>CMCSA_Close: Weight=0.166",
                    "Return: 29.602%<br>Volatility: 0.136<br>Sharpe Ratio: 2.178<br>HD_Close: Weight=0.140<br>ORCL_Close: Weight=0.587<br>GILD_Close: Weight=0.273<br>CSCO_Close: Weight=0.000",
                    "Return: 18.793%<br>Volatility: 0.111<br>Sharpe Ratio: 1.693<br>CPB_Close: Weight=0.000<br>K_Close: Weight=0.000<br>GS_Close: Weight=0.000<br>JNJ_Close: Weight=1.000",
                    "Return: 15.556%<br>Volatility: 0.087<br>Sharpe Ratio: 1.780<br>PEP_Close: Weight=1.000<br>DIS_Close: Weight=0.000<br>VZ_Close: Weight=0.000",
                    "Return: 15.556%<br>Volatility: 0.087<br>Sharpe Ratio: 1.780<br>PEP_Close: Weight=1.000<br>LLY_Close: Weight=0.000<br>RDY_Close: Weight=0.000",
                    "Return: 41.131%<br>Volatility: 0.082<br>Sharpe Ratio: 4.988<br>BABA_Close: Weight=0.239<br>AMZN_Close: Weight=0.029<br>KO_Close: Weight=0.733",
                    "Return: 25.843%<br>Volatility: 0.165<br>Sharpe Ratio: 1.563<br>GOOGL_Close: Weight=1.000<br>GE_Close: Weight=0.000<br>K_Close: Weight=0.000",
                    "Return: 22.521%<br>Volatility: 0.126<br>Sharpe Ratio: 1.782<br>GOOGL_Close: Weight=0.509<br>K_Close: Weight=0.000<br>SO_Close: Weight=0.000<br>PM_Close: Weight=0.491",
                    "Return: 16.205%<br>Volatility: 0.177<br>Sharpe Ratio: 0.918<br>T_Close: Weight=0.000<br>GM_Close: Weight=0.000<br>RMD_Close: Weight=1.000",
                    "Return: 25.577%<br>Volatility: 0.085<br>Sharpe Ratio: 3.015<br>WMT_Close: Weight=0.419<br>ETN_Close: Weight=0.207<br>HON_Close: Weight=0.374<br>INTC_Close: Weight=0.000",
                    "Return: 27.048%<br>Volatility: 0.095<br>Sharpe Ratio: 2.861<br>ABBV_Close: Weight=0.403<br>ORCL_Close: Weight=0.296<br>MMM_Close: Weight=0.141<br>ACN_Close: Weight=0.160",
                    "Return: 28.042%<br>Volatility: 0.100<br>Sharpe Ratio: 2.796<br>JNJ_Close: Weight=0.501<br>BSX_Close: Weight=0.068<br>DE_Close: Weight=0.431",
                    "Return: 19.604%<br>Volatility: 0.144<br>Sharpe Ratio: 1.360<br>CMCSA_Close: Weight=0.860<br>TXN_Close: Weight=0.140<br>GM_Close: Weight=0.000",
                    "Return: 32.158%<br>Volatility: 0.114<br>Sharpe Ratio: 2.818<br>GS_Close: Weight=0.000<br>EW_Close: Weight=0.319<br>LMT_Close: Weight=0.681<br>GIS_Close: Weight=0.000",
                    "Return: 18.507%<br>Volatility: 0.114<br>Sharpe Ratio: 1.622<br>CVX_Close: Weight=0.000<br>DIS_Close: Weight=0.000<br>PM_Close: Weight=0.645<br>AAPL_Close: Weight=0.355",
                    "Return: 38.770%<br>Volatility: 0.094<br>Sharpe Ratio: 4.146<br>AMD_Close: Weight=0.000<br>NEE_Close: Weight=0.550<br>GOOGL_Close: Weight=0.000<br>META_Close: Weight=0.450",
                    "Return: 3.502%<br>Volatility: 0.087<br>Sharpe Ratio: 0.403<br>MO_Close: Weight=0.000<br>PG_Close: Weight=1.000<br>BAC_Close: Weight=0.000",
                    "Return: 24.603%<br>Volatility: 0.079<br>Sharpe Ratio: 3.102<br>NEE_Close: Weight=0.593<br>HON_Close: Weight=0.407<br>LLY_Close: Weight=0.000",
                    "Return: 51.648%<br>Volatility: 0.158<br>Sharpe Ratio: 3.262<br>NKE_Close: Weight=0.000<br>F_Close: Weight=0.000<br>META_Close: Weight=1.000<br>ZBH_Close: Weight=0.000",
                    "Return: 28.043%<br>Volatility: 0.121<br>Sharpe Ratio: 2.322<br>JPM_Close: Weight=0.000<br>TXN_Close: Weight=0.049<br>ABBV_Close: Weight=0.951",
                    "Return: 57.362%<br>Volatility: 0.151<br>Sharpe Ratio: 3.799<br>NVDA_Close: Weight=0.135<br>META_Close: Weight=0.589<br>NFLX_Close: Weight=0.000<br>ORCL_Close: Weight=0.276",
                    "Return: 6.477%<br>Volatility: 0.113<br>Sharpe Ratio: 0.571<br>ZBH_Close: Weight=0.447<br>HD_Close: Weight=0.553<br>PFE_Close: Weight=0.000<br>QCOM_Close: Weight=0.000",
                    "Return: 23.805%<br>Volatility: 0.076<br>Sharpe Ratio: 3.112<br>MO_Close: Weight=0.000<br>AEP_Close: Weight=0.275<br>V_Close: Weight=0.428<br>LMT_Close: Weight=0.297",
                    "Return: 11.058%<br>Volatility: 0.147<br>Sharpe Ratio: 0.754<br>ACN_Close: Weight=1.000<br>K_Close: Weight=0.000<br>GE_Close: Weight=0.000",
                    "Return: 37.429%<br>Volatility: 0.103<br>Sharpe Ratio: 3.627<br>VRTX_Close: Weight=0.125<br>GOOG_Close: Weight=0.123<br>PEP_Close: Weight=0.381<br>WMT_Close: Weight=0.370",
                    "Return: 70.035%<br>Volatility: 0.198<br>Sharpe Ratio: 3.543<br>BMY_Close: Weight=0.000<br>MRK_Close: Weight=0.000<br>BA_Close: Weight=1.000<br>HD_Close: Weight=0.000",
                    "Return: 32.713%<br>Volatility: 0.130<br>Sharpe Ratio: 2.522<br>AMZN_Close: Weight=0.342<br>MSFT_Close: Weight=0.621<br>BMY_Close: Weight=0.037",
                    "Return: 31.920%<br>Volatility: 0.111<br>Sharpe Ratio: 2.884<br>ABBV_Close: Weight=0.608<br>AMZN_Close: Weight=0.392<br>MS_Close: Weight=0.000<br>INTC_Close: Weight=0.000",
                    "Return: 36.567%<br>Volatility: 0.116<br>Sharpe Ratio: 3.157<br>ABBV_Close: Weight=0.392<br>REGN_Close: Weight=0.173<br>MSFT_Close: Weight=0.435",
                    "Return: 41.959%<br>Volatility: 0.124<br>Sharpe Ratio: 3.392<br>NVDA_Close: Weight=0.183<br>RTX_Close: Weight=0.251<br>AMZN_Close: Weight=0.275<br>GILD_Close: Weight=0.292",
                    "Return: 29.480%<br>Volatility: 0.113<br>Sharpe Ratio: 2.598<br>SYK_Close: Weight=0.979<br>MO_Close: Weight=0.000<br>NKE_Close: Weight=0.021",
                    "Return: 58.009%<br>Volatility: 0.161<br>Sharpe Ratio: 3.611<br>CVX_Close: Weight=0.000<br>PM_Close: Weight=0.236<br>BA_Close: Weight=0.764",
                    "Return: 22.347%<br>Volatility: 0.071<br>Sharpe Ratio: 3.129<br>UA_Close: Weight=0.000<br>CMCSA_Close: Weight=0.140<br>IBM_Close: Weight=0.000<br>KO_Close: Weight=0.860",
                    "Return: 103.200%<br>Volatility: 0.269<br>Sharpe Ratio: 3.841<br>XOM_Close: Weight=0.000<br>ZBH_Close: Weight=0.000<br>BABA_Close: Weight=0.785<br>NVDA_Close: Weight=0.215",
                    "Return: 22.779%<br>Volatility: 0.098<br>Sharpe Ratio: 2.322<br>CMCSA_Close: Weight=0.218<br>INTC_Close: Weight=0.000<br>RDY_Close: Weight=0.000<br>LMT_Close: Weight=0.782",
                    "Return: 44.731%<br>Volatility: 0.130<br>Sharpe Ratio: 3.429<br>WFC_Close: Weight=0.000<br>ISRG_Close: Weight=0.558<br>MSFT_Close: Weight=0.343<br>CMCSA_Close: Weight=0.099",
                    "Return: 19.130%<br>Volatility: 0.098<br>Sharpe Ratio: 1.961<br>NKE_Close: Weight=0.013<br>HON_Close: Weight=0.987<br>SNAP_Close: Weight=0.000",
                    "Return: 23.837%<br>Volatility: 0.088<br>Sharpe Ratio: 2.699<br>GM_Close: Weight=0.000<br>MSFT_Close: Weight=0.497<br>PEP_Close: Weight=0.503",
                    "Return: 64.319%<br>Volatility: 0.180<br>Sharpe Ratio: 3.582<br>META_Close: Weight=0.816<br>NVDA_Close: Weight=0.184<br>DHR_Close: Weight=0.000",
                    "Return: 48.534%<br>Volatility: 0.155<br>Sharpe Ratio: 3.139<br>ADBE_Close: Weight=1.000<br>BAC_Close: Weight=0.000<br>NKE_Close: Weight=0.000",
                    "Return: 23.481%<br>Volatility: 0.113<br>Sharpe Ratio: 2.082<br>CSCO_Close: Weight=0.000<br>CRM_Close: Weight=0.451<br>TMO_Close: Weight=0.549",
                    "Return: 40.922%<br>Volatility: 0.101<br>Sharpe Ratio: 4.052<br>VRTX_Close: Weight=0.118<br>EXC_Close: Weight=0.000<br>NEE_Close: Weight=0.614<br>MSFT_Close: Weight=0.268",
                    "Return: 31.535%<br>Volatility: 0.102<br>Sharpe Ratio: 3.092<br>UNH_Close: Weight=0.782<br>PM_Close: Weight=0.218<br>VZ_Close: Weight=0.000",
                    "Return: 26.341%<br>Volatility: 0.093<br>Sharpe Ratio: 2.822<br>NEE_Close: Weight=0.824<br>AAPL_Close: Weight=0.176<br>DHR_Close: Weight=0.000<br>MO_Close: Weight=0.000",
                    "Return: 10.690%<br>Volatility: 0.107<br>Sharpe Ratio: 0.998<br>WFC_Close: Weight=0.000<br>SRE_Close: Weight=1.000<br>GIS_Close: Weight=0.000<br>IBM_Close: Weight=0.000",
                    "Return: 15.214%<br>Volatility: 0.134<br>Sharpe Ratio: 1.138<br>BSX_Close: Weight=1.000<br>DIS_Close: Weight=0.000<br>RDY_Close: Weight=0.000<br>DHR_Close: Weight=0.000",
                    "Return: 12.053%<br>Volatility: 0.166<br>Sharpe Ratio: 0.727<br>TXN_Close: Weight=0.911<br>GIS_Close: Weight=0.000<br>IBM_Close: Weight=0.000<br>SYY_Close: Weight=0.089",
                    "Return: 21.777%<br>Volatility: 0.079<br>Sharpe Ratio: 2.764<br>LMT_Close: Weight=0.517<br>PFE_Close: Weight=0.000<br>JNJ_Close: Weight=0.300<br>GILD_Close: Weight=0.183",
                    "Return: 64.032%<br>Volatility: 0.173<br>Sharpe Ratio: 3.694<br>BSX_Close: Weight=0.000<br>MSFT_Close: Weight=0.275<br>PYPL_Close: Weight=0.725",
                    "Return: 33.851%<br>Volatility: 0.098<br>Sharpe Ratio: 3.441<br>MA_Close: Weight=0.602<br>WMT_Close: Weight=0.398<br>EMR_Close: Weight=0.000<br>BMY_Close: Weight=0.000",
                    "Return: 39.519%<br>Volatility: 0.109<br>Sharpe Ratio: 3.639<br>SYK_Close: Weight=0.406<br>GILD_Close: Weight=0.114<br>META_Close: Weight=0.481",
                    "Return: 23.138%<br>Volatility: 0.078<br>Sharpe Ratio: 2.976<br>DUK_Close: Weight=0.259<br>V_Close: Weight=0.537<br>TMO_Close: Weight=0.203<br>EMR_Close: Weight=0.000",
                    "Return: 18.269%<br>Volatility: 0.101<br>Sharpe Ratio: 1.805<br>JNJ_Close: Weight=0.798<br>RMD_Close: Weight=0.202<br>AMGN_Close: Weight=0.000",
                    "Return: 52.251%<br>Volatility: 0.159<br>Sharpe Ratio: 3.290<br>TSLA_Close: Weight=0.058<br>SNAP_Close: Weight=0.000<br>META_Close: Weight=0.942",
                    "Return: 11.350%<br>Volatility: 0.097<br>Sharpe Ratio: 1.174<br>TXN_Close: Weight=0.285<br>K_Close: Weight=0.000<br>CVX_Close: Weight=0.000<br>SRE_Close: Weight=0.715",
                    "Return: 56.895%<br>Volatility: 0.187<br>Sharpe Ratio: 3.050<br>XOM_Close: Weight=0.000<br>LLY_Close: Weight=0.000<br>TMO_Close: Weight=0.681<br>VRTX_Close: Weight=0.319",
                    "Return: 39.756%<br>Volatility: 0.108<br>Sharpe Ratio: 3.666<br>MCD_Close: Weight=0.689<br>MDT_Close: Weight=0.000<br>GS_Close: Weight=0.000<br>GILD_Close: Weight=0.311",
                    "Return: 25.385%<br>Volatility: 0.096<br>Sharpe Ratio: 2.647<br>MO_Close: Weight=0.000<br>AMZN_Close: Weight=0.443<br>F_Close: Weight=0.000<br>AEP_Close: Weight=0.557",
                    "Return: 26.252%<br>Volatility: 0.086<br>Sharpe Ratio: 3.045<br>HON_Close: Weight=0.247<br>MA_Close: Weight=0.471<br>JNJ_Close: Weight=0.282",
                    "Return: 37.020%<br>Volatility: 0.113<br>Sharpe Ratio: 3.273<br>HON_Close: Weight=0.301<br>ADBE_Close: Weight=0.601<br>CMCSA_Close: Weight=0.098<br>BAC_Close: Weight=0.000",
                    "Return: 36.577%<br>Volatility: 0.142<br>Sharpe Ratio: 2.582<br>REGN_Close: Weight=0.350<br>TMO_Close: Weight=0.508<br>ACN_Close: Weight=0.142",
                    "Return: 26.757%<br>Volatility: 0.076<br>Sharpe Ratio: 3.505<br>KO_Close: Weight=0.895<br>IBM_Close: Weight=0.000<br>TSLA_Close: Weight=0.105",
                    "Return: 18.649%<br>Volatility: 0.105<br>Sharpe Ratio: 1.769<br>K_Close: Weight=0.000<br>MMM_Close: Weight=0.523<br>GILD_Close: Weight=0.477<br>UA_Close: Weight=0.000",
                    "Return: 9.982%<br>Volatility: 0.099<br>Sharpe Ratio: 1.012<br>SRE_Close: Weight=0.912<br>BMY_Close: Weight=0.078<br>KR_Close: Weight=0.000<br>AMD_Close: Weight=0.010",
                    "Return: 16.352%<br>Volatility: 0.093<br>Sharpe Ratio: 1.749<br>AEP_Close: Weight=0.798<br>MRK_Close: Weight=0.000<br>RMD_Close: Weight=0.202",
                    "Return: 52.962%<br>Volatility: 0.124<br>Sharpe Ratio: 4.277<br>GILD_Close: Weight=0.111<br>BABA_Close: Weight=0.346<br>CAT_Close: Weight=0.203<br>JNJ_Close: Weight=0.341",
                    "Return: 85.461%<br>Volatility: 0.272<br>Sharpe Ratio: 3.136<br>REGN_Close: Weight=0.464<br>NVDA_Close: Weight=0.455<br>QCOM_Close: Weight=0.000<br>NKE_Close: Weight=0.081",
                    "Return: 50.410%<br>Volatility: 0.154<br>Sharpe Ratio: 3.263<br>META_Close: Weight=0.973<br>DHR_Close: Weight=0.000<br>HD_Close: Weight=0.027<br>AMGN_Close: Weight=0.000",
                    "Return: 43.756%<br>Volatility: 0.150<br>Sharpe Ratio: 2.919<br>REGN_Close: Weight=0.303<br>TMO_Close: Weight=0.506<br>IBM_Close: Weight=0.000<br>TSLA_Close: Weight=0.191",
                    "Return: 34.306%<br>Volatility: 0.095<br>Sharpe Ratio: 3.619<br>PEP_Close: Weight=0.321<br>META_Close: Weight=0.523<br>AMD_Close: Weight=0.000<br>EXC_Close: Weight=0.156",
                    "Return: 25.301%<br>Volatility: 0.094<br>Sharpe Ratio: 2.679<br>SRE_Close: Weight=0.194<br>GOOG_Close: Weight=0.041<br>V_Close: Weight=0.765",
                    "Return: 47.149%<br>Volatility: 0.114<br>Sharpe Ratio: 4.150<br>SRE_Close: Weight=0.194<br>PM_Close: Weight=0.124<br>MCD_Close: Weight=0.542<br>NVDA_Close: Weight=0.140",
                    "Return: 19.316%<br>Volatility: 0.073<br>Sharpe Ratio: 2.652<br>GOOGL_Close: Weight=0.173<br>QCOM_Close: Weight=0.000<br>DUK_Close: Weight=0.348<br>LMT_Close: Weight=0.479",
                    "Return: 22.407%<br>Volatility: 0.146<br>Sharpe Ratio: 1.539<br>CRM_Close: Weight=0.986<br>DIS_Close: Weight=0.014<br>XOM_Close: Weight=0.000<br>T_Close: Weight=0.000",
                    "Return: 28.042%<br>Volatility: 0.121<br>Sharpe Ratio: 2.322<br>PFE_Close: Weight=0.000<br>ABBV_Close: Weight=0.951<br>TXN_Close: Weight=0.049",
                    "Return: 13.417%<br>Volatility: 0.105<br>Sharpe Ratio: 1.272<br>K_Close: Weight=0.000<br>ACN_Close: Weight=0.372<br>EXC_Close: Weight=0.628<br>SYY_Close: Weight=0.000",
                    "Return: 33.936%<br>Volatility: 0.123<br>Sharpe Ratio: 2.765<br>RMD_Close: Weight=0.000<br>GOOGL_Close: Weight=0.048<br>MA_Close: Weight=0.952<br>BMY_Close: Weight=0.000",
                    "Return: 1.822%<br>Volatility: 0.162<br>Sharpe Ratio: 0.113<br>COST_Close: Weight=0.000<br>QCOM_Close: Weight=0.000<br>JPM_Close: Weight=1.000",
                    "Return: 11.058%<br>Volatility: 0.147<br>Sharpe Ratio: 0.754<br>XOM_Close: Weight=0.000<br>MRK_Close: Weight=0.000<br>COST_Close: Weight=0.000<br>ACN_Close: Weight=1.000",
                    "Return: 26.809%<br>Volatility: 0.114<br>Sharpe Ratio: 2.348<br>BIIB_Close: Weight=0.000<br>BSX_Close: Weight=0.148<br>GS_Close: Weight=0.000<br>ABBV_Close: Weight=0.852",
                    "Return: 5.554%<br>Volatility: 0.134<br>Sharpe Ratio: 0.413<br>HD_Close: Weight=1.000<br>GS_Close: Weight=0.000<br>SNAP_Close: Weight=0.000",
                    "Return: 43.191%<br>Volatility: 0.212<br>Sharpe Ratio: 2.039<br>BIIB_Close: Weight=0.000<br>MDT_Close: Weight=0.373<br>NFLX_Close: Weight=0.627",
                    "Return: 35.727%<br>Volatility: 0.092<br>Sharpe Ratio: 3.890<br>RTX_Close: Weight=0.149<br>MCD_Close: Weight=0.469<br>SYK_Close: Weight=0.360<br>TMO_Close: Weight=0.021",
                    "Return: 25.364%<br>Volatility: 0.072<br>Sharpe Ratio: 3.546<br>WFC_Close: Weight=0.000<br>MSFT_Close: Weight=0.286<br>K_Close: Weight=0.000<br>KO_Close: Weight=0.714",
                    "Return: 30.479%<br>Volatility: 0.107<br>Sharpe Ratio: 2.860<br>ABBV_Close: Weight=0.515<br>PFE_Close: Weight=0.000<br>MSFT_Close: Weight=0.485<br>DHR_Close: Weight=0.000",
                    "Return: 61.615%<br>Volatility: 0.180<br>Sharpe Ratio: 3.415<br>AMZN_Close: Weight=0.400<br>COST_Close: Weight=0.000<br>NVDA_Close: Weight=0.243<br>CAT_Close: Weight=0.357",
                    "Return: 22.263%<br>Volatility: 0.070<br>Sharpe Ratio: 3.170<br>KO_Close: Weight=0.820<br>ABT_Close: Weight=0.180<br>ACN_Close: Weight=0.000",
                    "Return: 55.445%<br>Volatility: 0.137<br>Sharpe Ratio: 4.038<br>MA_Close: Weight=0.393<br>NFLX_Close: Weight=0.092<br>BA_Close: Weight=0.515<br>SNAP_Close: Weight=0.000",
                    "Return: 126.996%<br>Volatility: 0.486<br>Sharpe Ratio: 2.611<br>T_Close: Weight=0.000<br>VRTX_Close: Weight=1.000<br>SO_Close: Weight=0.000",
                    "Return: 25.475%<br>Volatility: 0.089<br>Sharpe Ratio: 2.873<br>HON_Close: Weight=0.383<br>AAPL_Close: Weight=0.034<br>SYK_Close: Weight=0.583<br>GE_Close: Weight=0.000",
                    "Return: 40.807%<br>Volatility: 0.179<br>Sharpe Ratio: 2.279<br>DE_Close: Weight=1.000<br>K_Close: Weight=0.000<br>CVX_Close: Weight=0.000",
                    "Return: 26.902%<br>Volatility: 0.099<br>Sharpe Ratio: 2.705<br>JNJ_Close: Weight=0.547<br>AMZN_Close: Weight=0.453<br>DIS_Close: Weight=0.000",
                    "Return: 33.417%<br>Volatility: 0.146<br>Sharpe Ratio: 2.288<br>NFLX_Close: Weight=0.324<br>JNJ_Close: Weight=0.676<br>BAC_Close: Weight=0.000<br>F_Close: Weight=0.000",
                    "Return: 0.828%<br>Volatility: 0.158<br>Sharpe Ratio: 0.052<br>LLY_Close: Weight=1.000<br>BAC_Close: Weight=0.000<br>CVX_Close: Weight=0.000",
                    "Return: 2.406%<br>Volatility: 0.155<br>Sharpe Ratio: 0.155<br>PFE_Close: Weight=0.000<br>T_Close: Weight=0.000<br>SYY_Close: Weight=1.000",
                    "Return: 45.964%<br>Volatility: 0.168<br>Sharpe Ratio: 2.730<br>TSLA_Close: Weight=0.244<br>SYY_Close: Weight=0.000<br>DE_Close: Weight=0.756",
                    "Return: 40.434%<br>Volatility: 0.158<br>Sharpe Ratio: 2.555<br>REGN_Close: Weight=0.399<br>TMO_Close: Weight=0.601<br>WFC_Close: Weight=0.000",
                    "Return: 34.348%<br>Volatility: 0.124<br>Sharpe Ratio: 2.760<br>MA_Close: Weight=1.000<br>BAC_Close: Weight=0.000<br>AAPL_Close: Weight=0.000",
                    "Return: 15.425%<br>Volatility: 0.118<br>Sharpe Ratio: 1.305<br>IBM_Close: Weight=0.000<br>CPB_Close: Weight=0.000<br>MMM_Close: Weight=1.000<br>MRK_Close: Weight=0.000",
                    "Return: 22.185%<br>Volatility: 0.153<br>Sharpe Ratio: 1.451<br>GIS_Close: Weight=0.000<br>GILD_Close: Weight=1.000<br>SO_Close: Weight=0.000<br>AMGN_Close: Weight=0.000",
                    "Return: 18.112%<br>Volatility: 0.128<br>Sharpe Ratio: 1.416<br>PM_Close: Weight=0.943<br>SYY_Close: Weight=0.011<br>JPM_Close: Weight=0.046",
                    "Return: 21.134%<br>Volatility: 0.098<br>Sharpe Ratio: 2.163<br>TMO_Close: Weight=0.441<br>AMGN_Close: Weight=0.000<br>ZBH_Close: Weight=0.000<br>JNJ_Close: Weight=0.559",
                    "Return: 15.926%<br>Volatility: 0.071<br>Sharpe Ratio: 2.231<br>WFC_Close: Weight=0.000<br>DUK_Close: Weight=0.384<br>HON_Close: Weight=0.616",
                    "Return: 40.597%<br>Volatility: 0.120<br>Sharpe Ratio: 3.386<br>EXC_Close: Weight=0.306<br>ISRG_Close: Weight=0.588<br>GOOGL_Close: Weight=0.106",
                    "Return: 11.809%<br>Volatility: 0.095<br>Sharpe Ratio: 1.248<br>EXC_Close: Weight=0.305<br>DUK_Close: Weight=0.695<br>LLY_Close: Weight=0.000",
                    "Return: 16.616%<br>Volatility: 0.154<br>Sharpe Ratio: 1.082<br>LLY_Close: Weight=0.051<br>XOM_Close: Weight=0.000<br>AAPL_Close: Weight=0.949",
                    "Return: 24.406%<br>Volatility: 0.079<br>Sharpe Ratio: 3.074<br>JNJ_Close: Weight=0.412<br>WMT_Close: Weight=0.435<br>EXC_Close: Weight=0.153",
                    "Return: 19.082%<br>Volatility: 0.135<br>Sharpe Ratio: 1.414<br>MRK_Close: Weight=0.000<br>PM_Close: Weight=1.000<br>BIIB_Close: Weight=0.000",
                    "Return: 13.596%<br>Volatility: 0.144<br>Sharpe Ratio: 0.941<br>RMD_Close: Weight=0.755<br>VZ_Close: Weight=0.000<br>T_Close: Weight=0.000<br>HD_Close: Weight=0.245",
                    "Return: 48.221%<br>Volatility: 0.128<br>Sharpe Ratio: 3.763<br>META_Close: Weight=0.550<br>ORCL_Close: Weight=0.255<br>BSX_Close: Weight=0.000<br>EW_Close: Weight=0.195",
                    "Return: 29.527%<br>Volatility: 0.121<br>Sharpe Ratio: 2.447<br>AMZN_Close: Weight=0.553<br>BTI_Close: Weight=0.000<br>ABT_Close: Weight=0.447<br>DHR_Close: Weight=0.000",
                    "Return: 16.205%<br>Volatility: 0.177<br>Sharpe Ratio: 0.918<br>RMD_Close: Weight=1.000<br>GS_Close: Weight=0.000<br>T_Close: Weight=0.000",
                    "Return: 71.168%<br>Volatility: 0.259<br>Sharpe Ratio: 2.751<br>MDT_Close: Weight=0.306<br>HD_Close: Weight=0.130<br>NVDA_Close: Weight=0.564",
                    "Return: 14.717%<br>Volatility: 0.083<br>Sharpe Ratio: 1.763<br>AEP_Close: Weight=0.845<br>WFC_Close: Weight=0.000<br>MS_Close: Weight=0.155<br>DIS_Close: Weight=0.000",
                    "Return: 51.648%<br>Volatility: 0.158<br>Sharpe Ratio: 3.262<br>SNAP_Close: Weight=0.000<br>META_Close: Weight=1.000<br>IBM_Close: Weight=0.000",
                    "Return: 21.647%<br>Volatility: 0.065<br>Sharpe Ratio: 3.319<br>HON_Close: Weight=0.293<br>KO_Close: Weight=0.707<br>GIS_Close: Weight=0.000",
                    "Return: 29.058%<br>Volatility: 0.092<br>Sharpe Ratio: 3.148<br>KR_Close: Weight=0.000<br>NEE_Close: Weight=0.669<br>SAP_Close: Weight=0.331",
                    "Return: 28.543%<br>Volatility: 0.084<br>Sharpe Ratio: 3.399<br>NEE_Close: Weight=0.523<br>V_Close: Weight=0.477<br>AMD_Close: Weight=0.000",
                    "Return: 19.952%<br>Volatility: 0.148<br>Sharpe Ratio: 1.344<br>HD_Close: Weight=0.048<br>CMCSA_Close: Weight=0.952<br>CSCO_Close: Weight=0.000",
                    "Return: 50.370%<br>Volatility: 0.151<br>Sharpe Ratio: 3.337<br>NVDA_Close: Weight=0.233<br>GILD_Close: Weight=0.403<br>F_Close: Weight=0.000<br>AMZN_Close: Weight=0.364",
                    "Return: 34.455%<br>Volatility: 0.090<br>Sharpe Ratio: 3.836<br>BSX_Close: Weight=0.000<br>HON_Close: Weight=0.466<br>MCD_Close: Weight=0.534",
                    "Return: 66.442%<br>Volatility: 0.169<br>Sharpe Ratio: 3.930<br>BABA_Close: Weight=0.588<br>GS_Close: Weight=0.000<br>KR_Close: Weight=0.000<br>CMCSA_Close: Weight=0.412",
                    "Return: 55.992%<br>Volatility: 0.179<br>Sharpe Ratio: 3.136<br>VRTX_Close: Weight=0.251<br>MSFT_Close: Weight=0.749<br>HD_Close: Weight=0.000",
                    "Return: 28.196%<br>Volatility: 0.106<br>Sharpe Ratio: 2.657<br>AAPL_Close: Weight=0.143<br>MO_Close: Weight=0.000<br>SYK_Close: Weight=0.857",
                    "Return: 49.457%<br>Volatility: 0.233<br>Sharpe Ratio: 2.120<br>INTC_Close: Weight=0.000<br>XOM_Close: Weight=0.000<br>CAT_Close: Weight=1.000",
                    "Return: 45.374%<br>Volatility: 0.119<br>Sharpe Ratio: 3.798<br>NEE_Close: Weight=0.826<br>VRTX_Close: Weight=0.174<br>PFE_Close: Weight=0.000",
                    "Return: 48.534%<br>Volatility: 0.155<br>Sharpe Ratio: 3.139<br>BMY_Close: Weight=0.000<br>GOOGL_Close: Weight=0.000<br>ADBE_Close: Weight=1.000<br>GE_Close: Weight=0.000",
                    "Return: 17.397%<br>Volatility: 0.102<br>Sharpe Ratio: 1.708<br>CPB_Close: Weight=0.000<br>SYY_Close: Weight=0.085<br>JNJ_Close: Weight=0.915",
                    "Return: 54.342%<br>Volatility: 0.178<br>Sharpe Ratio: 3.060<br>TMO_Close: Weight=0.615<br>CPB_Close: Weight=0.000<br>VRTX_Close: Weight=0.300<br>RMD_Close: Weight=0.085",
                    "Return: 26.865%<br>Volatility: 0.101<br>Sharpe Ratio: 2.652<br>JNJ_Close: Weight=0.510<br>PG_Close: Weight=0.000<br>TSLA_Close: Weight=0.173<br>ABT_Close: Weight=0.316",
                    "Return: 37.672%<br>Volatility: 0.141<br>Sharpe Ratio: 2.670<br>AMGN_Close: Weight=0.000<br>LLY_Close: Weight=0.000<br>ORCL_Close: Weight=0.464<br>AMZN_Close: Weight=0.536",
                    "Return: 47.542%<br>Volatility: 0.118<br>Sharpe Ratio: 4.013<br>BABA_Close: Weight=0.359<br>CSCO_Close: Weight=0.000<br>HON_Close: Weight=0.275<br>JNJ_Close: Weight=0.366",
                    "Return: 18.978%<br>Volatility: 0.080<br>Sharpe Ratio: 2.364<br>DUK_Close: Weight=0.320<br>GOOG_Close: Weight=0.256<br>TMO_Close: Weight=0.301<br>SRE_Close: Weight=0.123",
                    "Return: 32.443%<br>Volatility: 0.135<br>Sharpe Ratio: 2.405<br>PM_Close: Weight=0.331<br>NFLX_Close: Weight=0.277<br>MDT_Close: Weight=0.007<br>ETN_Close: Weight=0.384",
                    "Return: 27.721%<br>Volatility: 0.125<br>Sharpe Ratio: 2.218<br>AMD_Close: Weight=0.000<br>ETN_Close: Weight=0.333<br>SAP_Close: Weight=0.667<br>INTC_Close: Weight=0.000",
                    "Return: 29.315%<br>Volatility: 0.133<br>Sharpe Ratio: 2.200<br>GM_Close: Weight=0.000<br>COST_Close: Weight=0.000<br>SAP_Close: Weight=0.711<br>GOOGL_Close: Weight=0.289",
                    "Return: 94.701%<br>Volatility: 0.323<br>Sharpe Ratio: 2.929<br>REGN_Close: Weight=0.521<br>SNAP_Close: Weight=0.000<br>VRTX_Close: Weight=0.479<br>COST_Close: Weight=0.000",
                    "Return: 45.046%<br>Volatility: 0.112<br>Sharpe Ratio: 4.032<br>BA_Close: Weight=0.402<br>AEP_Close: Weight=0.203<br>AMD_Close: Weight=0.000<br>MA_Close: Weight=0.396",
                    "Return: 33.790%<br>Volatility: 0.134<br>Sharpe Ratio: 2.519<br>MSFT_Close: Weight=0.652<br>AMZN_Close: Weight=0.348<br>ACN_Close: Weight=0.000",
                    "Return: 11.847%<br>Volatility: 0.087<br>Sharpe Ratio: 1.359<br>MDT_Close: Weight=0.457<br>EXC_Close: Weight=0.543<br>BAC_Close: Weight=0.000<br>K_Close: Weight=0.000",
                    "Return: 38.803%<br>Volatility: 0.131<br>Sharpe Ratio: 2.967<br>GM_Close: Weight=0.000<br>DUK_Close: Weight=0.719<br>MS_Close: Weight=0.036<br>VRTX_Close: Weight=0.245",
                    "Return: 14.347%<br>Volatility: 0.103<br>Sharpe Ratio: 1.389<br>ACN_Close: Weight=0.247<br>MMM_Close: Weight=0.753<br>BAC_Close: Weight=0.000<br>INTC_Close: Weight=0.000",
                    "Return: 94.276%<br>Volatility: 0.314<br>Sharpe Ratio: 3.002<br>GOOGL_Close: Weight=0.017<br>NFLX_Close: Weight=0.491<br>VRTX_Close: Weight=0.492<br>ZBH_Close: Weight=0.000",
                    "Return: 36.047%<br>Volatility: 0.125<br>Sharpe Ratio: 2.880<br>SYK_Close: Weight=0.822<br>NFLX_Close: Weight=0.178<br>GOOG_Close: Weight=0.000<br>ACN_Close: Weight=0.000",
                    "Return: 27.891%<br>Volatility: 0.100<br>Sharpe Ratio: 2.792<br>ETN_Close: Weight=0.405<br>WMT_Close: Weight=0.560<br>RMD_Close: Weight=0.035<br>F_Close: Weight=0.000",
                    "Return: 59.101%<br>Volatility: 0.141<br>Sharpe Ratio: 4.206<br>ADBE_Close: Weight=0.509<br>JPM_Close: Weight=0.000<br>GIS_Close: Weight=0.000<br>BA_Close: Weight=0.491",
                    "Return: 17.569%<br>Volatility: 0.080<br>Sharpe Ratio: 2.209<br>AEP_Close: Weight=0.509<br>SNAP_Close: Weight=0.000<br>JNJ_Close: Weight=0.491",
                    "Return: 34.383%<br>Volatility: 0.094<br>Sharpe Ratio: 3.653<br>PEP_Close: Weight=0.542<br>MDT_Close: Weight=0.000<br>ISRG_Close: Weight=0.458",
                    "Return: 68.292%<br>Volatility: 0.224<br>Sharpe Ratio: 3.047<br>NVDA_Close: Weight=0.378<br>SO_Close: Weight=0.000<br>AMZN_Close: Weight=0.622",
                    "Return: 20.651%<br>Volatility: 0.133<br>Sharpe Ratio: 1.556<br>COST_Close: Weight=0.000<br>BAC_Close: Weight=0.000<br>ABT_Close: Weight=1.000",
                    "Return: 27.560%<br>Volatility: 0.104<br>Sharpe Ratio: 2.651<br>SYK_Close: Weight=0.840<br>WFC_Close: Weight=0.000<br>K_Close: Weight=0.000<br>EXC_Close: Weight=0.160",
                    "Return: 42.600%<br>Volatility: 0.134<br>Sharpe Ratio: 3.179<br>MMM_Close: Weight=0.154<br>VRTX_Close: Weight=0.197<br>LMT_Close: Weight=0.649",
                    "Return: -1.752%<br>Volatility: 0.175<br>Sharpe Ratio: -0.100<br>VZ_Close: Weight=1.000<br>AMGN_Close: Weight=0.000<br>WFC_Close: Weight=0.000",
                    "Return: 10.492%<br>Volatility: 0.089<br>Sharpe Ratio: 1.180<br>LLY_Close: Weight=0.000<br>DUK_Close: Weight=1.000<br>VZ_Close: Weight=0.000",
                    "Return: 8.328%<br>Volatility: 0.114<br>Sharpe Ratio: 0.730<br>MDT_Close: Weight=1.000<br>INTC_Close: Weight=0.000<br>EMR_Close: Weight=0.000",
                    "Return: 27.170%<br>Volatility: 0.080<br>Sharpe Ratio: 3.412<br>SYK_Close: Weight=0.414<br>NEE_Close: Weight=0.539<br>BAC_Close: Weight=0.047<br>XOM_Close: Weight=0.000",
                    "Return: 16.459%<br>Volatility: 0.086<br>Sharpe Ratio: 1.906<br>PM_Close: Weight=0.256<br>COST_Close: Weight=0.000<br>PEP_Close: Weight=0.744",
                    "Return: 28.943%<br>Volatility: 0.120<br>Sharpe Ratio: 2.406<br>DE_Close: Weight=0.563<br>RTX_Close: Weight=0.437<br>MRK_Close: Weight=0.000",
                    "Return: 75.436%<br>Volatility: 0.276<br>Sharpe Ratio: 2.728<br>AMD_Close: Weight=0.000<br>VRTX_Close: Weight=0.490<br>GOOGL_Close: Weight=0.510<br>AMGN_Close: Weight=0.000",
                    "Return: 17.075%<br>Volatility: 0.082<br>Sharpe Ratio: 2.080<br>SRE_Close: Weight=0.259<br>HON_Close: Weight=0.741<br>DIS_Close: Weight=0.000",
                    "Return: 25.120%<br>Volatility: 0.125<br>Sharpe Ratio: 2.015<br>CVX_Close: Weight=0.000<br>NKE_Close: Weight=0.029<br>SRE_Close: Weight=0.687<br>TSLA_Close: Weight=0.284",
                    "Return: 14.814%<br>Volatility: 0.136<br>Sharpe Ratio: 1.090<br>LLY_Close: Weight=0.000<br>XOM_Close: Weight=0.000<br>EXC_Close: Weight=1.000",
                    "Return: 29.600%<br>Volatility: 0.111<br>Sharpe Ratio: 2.659<br>ACN_Close: Weight=0.000<br>SYK_Close: Weight=0.842<br>GOOG_Close: Weight=0.158<br>UA_Close: Weight=0.000",
                    "Return: 29.058%<br>Volatility: 0.092<br>Sharpe Ratio: 3.148<br>NEE_Close: Weight=0.669<br>UA_Close: Weight=0.000<br>SAP_Close: Weight=0.331<br>AMD_Close: Weight=0.000",
                    "Return: 0.828%<br>Volatility: 0.158<br>Sharpe Ratio: 0.052<br>LLY_Close: Weight=1.000<br>GE_Close: Weight=0.000<br>DHR_Close: Weight=0.000",
                    "Return: 16.390%<br>Volatility: 0.101<br>Sharpe Ratio: 1.620<br>WFC_Close: Weight=0.000<br>PFE_Close: Weight=0.000<br>AEP_Close: Weight=1.000<br>LLY_Close: Weight=0.000",
                    "Return: 45.799%<br>Volatility: 0.140<br>Sharpe Ratio: 3.279<br>ISRG_Close: Weight=0.713<br>PM_Close: Weight=0.283<br>SYY_Close: Weight=0.004",
                    "Return: 19.635%<br>Volatility: 0.073<br>Sharpe Ratio: 2.684<br>GOOG_Close: Weight=0.181<br>HD_Close: Weight=0.000<br>DUK_Close: Weight=0.348<br>LMT_Close: Weight=0.471",
                    "Return: 47.805%<br>Volatility: 0.119<br>Sharpe Ratio: 4.020<br>KR_Close: Weight=0.000<br>PG_Close: Weight=0.225<br>V_Close: Weight=0.421<br>BABA_Close: Weight=0.354",
                    "Return: 36.711%<br>Volatility: 0.171<br>Sharpe Ratio: 2.142<br>AMZN_Close: Weight=1.000<br>INTC_Close: Weight=0.000<br>XOM_Close: Weight=0.000",
                    "Return: 29.992%<br>Volatility: 0.116<br>Sharpe Ratio: 2.595<br>DIS_Close: Weight=0.000<br>GE_Close: Weight=0.000<br>SYK_Close: Weight=1.000",
                    "Return: 47.728%<br>Volatility: 0.107<br>Sharpe Ratio: 4.452<br>AMD_Close: Weight=0.000<br>GM_Close: Weight=0.000<br>NEE_Close: Weight=0.593<br>PYPL_Close: Weight=0.407",
                    "Return: 30.911%<br>Volatility: 0.102<br>Sharpe Ratio: 3.036<br>MS_Close: Weight=0.000<br>RDY_Close: Weight=0.000<br>MSFT_Close: Weight=0.410<br>SYK_Close: Weight=0.590",
                    "Return: 13.645%<br>Volatility: 0.093<br>Sharpe Ratio: 1.464<br>CSCO_Close: Weight=0.000<br>RTX_Close: Weight=1.000<br>AMD_Close: Weight=0.000<br>KR_Close: Weight=0.000",
                    "Return: 67.555%<br>Volatility: 0.202<br>Sharpe Ratio: 3.344<br>F_Close: Weight=0.000<br>NVDA_Close: Weight=0.336<br>DE_Close: Weight=0.664",
                    "Return: 26.090%<br>Volatility: 0.074<br>Sharpe Ratio: 3.517<br>TXN_Close: Weight=0.036<br>TSLA_Close: Weight=0.097<br>KO_Close: Weight=0.867",
                    "Return: 47.151%<br>Volatility: 0.149<br>Sharpe Ratio: 3.157<br>ADBE_Close: Weight=0.883<br>AMZN_Close: Weight=0.117<br>TXN_Close: Weight=0.000",
                    "Return: 24.080%<br>Volatility: 0.099<br>Sharpe Ratio: 2.442<br>JPM_Close: Weight=0.000<br>HON_Close: Weight=0.558<br>RMD_Close: Weight=0.019<br>SAP_Close: Weight=0.423",
                    "Return: 17.758%<br>Volatility: 0.123<br>Sharpe Ratio: 1.447<br>PM_Close: Weight=0.899<br>NKE_Close: Weight=0.101<br>GS_Close: Weight=0.000",
                    "Return: 4.842%<br>Volatility: 0.115<br>Sharpe Ratio: 0.423<br>AMD_Close: Weight=0.000<br>LLY_Close: Weight=0.151<br>COST_Close: Weight=0.000<br>HD_Close: Weight=0.849",
                    "Return: 28.234%<br>Volatility: 0.105<br>Sharpe Ratio: 2.689<br>PFE_Close: Weight=0.000<br>CVX_Close: Weight=0.000<br>NEE_Close: Weight=1.000",
                    "Return: 22.600%<br>Volatility: 0.096<br>Sharpe Ratio: 2.357<br>LMT_Close: Weight=0.718<br>ABT_Close: Weight=0.282<br>MO_Close: Weight=0.000",
                    "Return: 24.086%<br>Volatility: 0.145<br>Sharpe Ratio: 1.665<br>BSX_Close: Weight=0.278<br>GOOGL_Close: Weight=0.000<br>GOOG_Close: Weight=0.722",
                    "Return: 34.714%<br>Volatility: 0.099<br>Sharpe Ratio: 3.491<br>GE_Close: Weight=0.000<br>MA_Close: Weight=0.450<br>UNH_Close: Weight=0.550",
                    "Return: 48.881%<br>Volatility: 0.125<br>Sharpe Ratio: 3.915<br>PYPL_Close: Weight=0.454<br>V_Close: Weight=0.373<br>ABT_Close: Weight=0.173",
                    "Return: 37.971%<br>Volatility: 0.154<br>Sharpe Ratio: 2.461<br>VZ_Close: Weight=0.000<br>EW_Close: Weight=0.550<br>GILD_Close: Weight=0.450",
                    "Return: 25.641%<br>Volatility: 0.067<br>Sharpe Ratio: 3.839<br>GOOGL_Close: Weight=0.142<br>WMT_Close: Weight=0.245<br>KO_Close: Weight=0.613<br>AMD_Close: Weight=0.000",
                    "Return: 13.001%<br>Volatility: 0.179<br>Sharpe Ratio: 0.725<br>EMR_Close: Weight=0.000<br>F_Close: Weight=0.000<br>TXN_Close: Weight=1.000",
                    "Return: 30.725%<br>Volatility: 0.147<br>Sharpe Ratio: 2.084<br>SAP_Close: Weight=1.000<br>GM_Close: Weight=0.000<br>BTI_Close: Weight=0.000",
                    "Return: 48.009%<br>Volatility: 0.095<br>Sharpe Ratio: 5.071<br>PYPL_Close: Weight=0.258<br>ISRG_Close: Weight=0.262<br>MO_Close: Weight=0.000<br>NEE_Close: Weight=0.481",
                    "Return: 37.892%<br>Volatility: 0.112<br>Sharpe Ratio: 3.385<br>NKE_Close: Weight=0.037<br>ISRG_Close: Weight=0.595<br>MS_Close: Weight=0.000<br>SRE_Close: Weight=0.368",
                    "Return: 24.470%<br>Volatility: 0.155<br>Sharpe Ratio: 1.574<br>NKE_Close: Weight=0.069<br>GOOGL_Close: Weight=0.931<br>UA_Close: Weight=0.000",
                    "Return: 33.578%<br>Volatility: 0.117<br>Sharpe Ratio: 2.882<br>ABBV_Close: Weight=0.515<br>CRM_Close: Weight=0.217<br>REGN_Close: Weight=0.186<br>ABT_Close: Weight=0.082",
                    "Return: 50.131%<br>Volatility: 0.148<br>Sharpe Ratio: 3.386<br>ISRG_Close: Weight=0.672<br>AMZN_Close: Weight=0.328<br>ZBH_Close: Weight=0.000",
                    "Return: 52.810%<br>Volatility: 0.180<br>Sharpe Ratio: 2.932<br>EXC_Close: Weight=0.481<br>NVDA_Close: Weight=0.374<br>BMY_Close: Weight=0.066<br>HD_Close: Weight=0.079",
                    "Return: 5.652%<br>Volatility: 0.122<br>Sharpe Ratio: 0.465<br>HD_Close: Weight=0.784<br>NKE_Close: Weight=0.216<br>PFE_Close: Weight=0.000",
                    "Return: 28.624%<br>Volatility: 0.109<br>Sharpe Ratio: 2.617<br>NKE_Close: Weight=0.010<br>GOOG_Close: Weight=0.022<br>V_Close: Weight=0.968",
                    "Return: 31.896%<br>Volatility: 0.107<br>Sharpe Ratio: 2.977<br>PG_Close: Weight=0.013<br>UNH_Close: Weight=0.877<br>WFC_Close: Weight=0.000<br>DUK_Close: Weight=0.110",
                    "Return: -5.109%<br>Volatility: 0.694<br>Sharpe Ratio: -0.074<br>WFC_Close: Weight=0.000<br>AMD_Close: Weight=1.000<br>RDY_Close: Weight=0.000",
                    "Return: 36.113%<br>Volatility: 0.162<br>Sharpe Ratio: 2.233<br>BSX_Close: Weight=0.390<br>CAT_Close: Weight=0.610<br>SYY_Close: Weight=0.000<br>TXN_Close: Weight=0.000",
                    "Return: 52.056%<br>Volatility: 0.114<br>Sharpe Ratio: 4.572<br>BA_Close: Weight=0.423<br>REGN_Close: Weight=0.146<br>SYK_Close: Weight=0.431",
                    "Return: 45.806%<br>Volatility: 0.136<br>Sharpe Ratio: 3.380<br>ORCL_Close: Weight=0.280<br>ADBE_Close: Weight=0.720<br>F_Close: Weight=0.000",
                    "Return: 57.255%<br>Volatility: 0.199<br>Sharpe Ratio: 2.871<br>NVDA_Close: Weight=0.402<br>BMY_Close: Weight=0.046<br>GOOGL_Close: Weight=0.023<br>MMM_Close: Weight=0.530",
                    "Return: 32.231%<br>Volatility: 0.137<br>Sharpe Ratio: 2.358<br>BIIB_Close: Weight=0.000<br>BAC_Close: Weight=0.000<br>GM_Close: Weight=0.000<br>MSFT_Close: Weight=1.000",
                    "Return: 53.241%<br>Volatility: 0.139<br>Sharpe Ratio: 3.820<br>JNJ_Close: Weight=0.399<br>PFE_Close: Weight=0.000<br>PYPL_Close: Weight=0.601",
                    "Return: 26.448%<br>Volatility: 0.099<br>Sharpe Ratio: 2.682<br>MDT_Close: Weight=0.000<br>PFE_Close: Weight=0.000<br>JNJ_Close: Weight=0.430<br>MSFT_Close: Weight=0.570",
                    "Return: 76.095%<br>Volatility: 0.210<br>Sharpe Ratio: 3.626<br>PYPL_Close: Weight=1.000<br>CRM_Close: Weight=0.000<br>K_Close: Weight=0.000<br>BTI_Close: Weight=0.000",
                    "Return: 6.190%<br>Volatility: 0.136<br>Sharpe Ratio: 0.456<br>SYY_Close: Weight=0.274<br>ZBH_Close: Weight=0.726<br>RDY_Close: Weight=0.000",
                    "Return: 50.391%<br>Volatility: 0.142<br>Sharpe Ratio: 3.552<br>RDY_Close: Weight=0.000<br>ORCL_Close: Weight=0.351<br>ISRG_Close: Weight=0.649",
                    "Return: 31.530%<br>Volatility: 0.104<br>Sharpe Ratio: 3.042<br>HD_Close: Weight=0.000<br>UNH_Close: Weight=0.828<br>EXC_Close: Weight=0.172",
                    "Return: 28.222%<br>Volatility: 0.104<br>Sharpe Ratio: 2.713<br>AEP_Close: Weight=0.642<br>SRE_Close: Weight=0.000<br>CAT_Close: Weight=0.358<br>INTC_Close: Weight=0.000",
                    "Return: 2.406%<br>Volatility: 0.155<br>Sharpe Ratio: 0.155<br>SYY_Close: Weight=1.000<br>VZ_Close: Weight=0.000<br>XOM_Close: Weight=0.000<br>BIIB_Close: Weight=0.000",
                    "Return: 25.711%<br>Volatility: 0.093<br>Sharpe Ratio: 2.752<br>CSCO_Close: Weight=0.000<br>V_Close: Weight=0.669<br>HON_Close: Weight=0.331",
                    "Return: 61.965%<br>Volatility: 0.381<br>Sharpe Ratio: 1.627<br>PFE_Close: Weight=0.000<br>TSLA_Close: Weight=1.000<br>MRK_Close: Weight=0.000",
                    "Return: 120.347%<br>Volatility: 0.443<br>Sharpe Ratio: 2.715<br>COST_Close: Weight=0.000<br>NVDA_Close: Weight=1.000<br>MS_Close: Weight=0.000",
                    "Return: 32.646%<br>Volatility: 0.146<br>Sharpe Ratio: 2.233<br>MS_Close: Weight=0.000<br>SRE_Close: Weight=0.434<br>HD_Close: Weight=0.000<br>CAT_Close: Weight=0.566",
                    "Return: 34.738%<br>Volatility: 0.107<br>Sharpe Ratio: 3.244<br>BAC_Close: Weight=0.000<br>WMT_Close: Weight=0.546<br>EMR_Close: Weight=0.000<br>AMZN_Close: Weight=0.454",
                    "Return: 27.924%<br>Volatility: 0.101<br>Sharpe Ratio: 2.754<br>AMD_Close: Weight=0.000<br>ETN_Close: Weight=0.249<br>SYK_Close: Weight=0.751",
                    "Return: -3.324%<br>Volatility: 0.229<br>Sharpe Ratio: -0.145<br>GIS_Close: Weight=0.000<br>BIIB_Close: Weight=1.000<br>KR_Close: Weight=0.000",
                    "Return: 39.328%<br>Volatility: 0.144<br>Sharpe Ratio: 2.722<br>TSLA_Close: Weight=0.216<br>ZBH_Close: Weight=0.000<br>WMT_Close: Weight=0.784<br>QCOM_Close: Weight=0.000",
                    "Return: 48.534%<br>Volatility: 0.155<br>Sharpe Ratio: 3.139<br>ADBE_Close: Weight=1.000<br>ACN_Close: Weight=0.000<br>XOM_Close: Weight=0.000",
                    "Return: 4.824%<br>Volatility: 0.187<br>Sharpe Ratio: 0.259<br>LLY_Close: Weight=0.164<br>MS_Close: Weight=0.836<br>T_Close: Weight=0.000",
                    "Return: 67.553%<br>Volatility: 0.202<br>Sharpe Ratio: 3.344<br>NVDA_Close: Weight=0.336<br>GIS_Close: Weight=0.000<br>DE_Close: Weight=0.664",
                    "Return: 38.781%<br>Volatility: 0.187<br>Sharpe Ratio: 2.072<br>KR_Close: Weight=0.000<br>EMR_Close: Weight=0.000<br>ORCL_Close: Weight=1.000",
                    "Return: 39.209%<br>Volatility: 0.130<br>Sharpe Ratio: 3.017<br>WMT_Close: Weight=0.627<br>T_Close: Weight=0.000<br>CAT_Close: Weight=0.373",
                    "Return: 23.546%<br>Volatility: 0.094<br>Sharpe Ratio: 2.495<br>TMO_Close: Weight=0.328<br>NKE_Close: Weight=0.003<br>LMT_Close: Weight=0.668<br>BIIB_Close: Weight=0.000",
                    "Return: 20.680%<br>Volatility: 0.154<br>Sharpe Ratio: 1.342<br>MRK_Close: Weight=0.000<br>CSCO_Close: Weight=0.000<br>CMCSA_Close: Weight=1.000<br>GIS_Close: Weight=0.000",
                    "Return: 31.920%<br>Volatility: 0.111<br>Sharpe Ratio: 2.884<br>GOOGL_Close: Weight=0.000<br>AMZN_Close: Weight=0.392<br>ABBV_Close: Weight=0.608<br>CSCO_Close: Weight=0.000",
                    "Return: 35.972%<br>Volatility: 0.170<br>Sharpe Ratio: 2.114<br>INTC_Close: Weight=0.000<br>SRE_Close: Weight=0.525<br>NFLX_Close: Weight=0.475<br>CPB_Close: Weight=0.000",
                    "Return: 33.110%<br>Volatility: 0.098<br>Sharpe Ratio: 3.366<br>PG_Close: Weight=0.324<br>TMO_Close: Weight=0.194<br>ISRG_Close: Weight=0.482",
                    "Return: 98.505%<br>Volatility: 0.270<br>Sharpe Ratio: 3.643<br>GM_Close: Weight=0.000<br>CVX_Close: Weight=0.000<br>BABA_Close: Weight=1.000<br>GE_Close: Weight=0.000",
                    "Return: 36.621%<br>Volatility: 0.117<br>Sharpe Ratio: 3.121<br>DE_Close: Weight=0.457<br>WMT_Close: Weight=0.543<br>GE_Close: Weight=0.000",
                    "Return: 34.397%<br>Volatility: 0.169<br>Sharpe Ratio: 2.031<br>AAPL_Close: Weight=0.000<br>CRM_Close: Weight=0.703<br>TSLA_Close: Weight=0.297",
                    "Return: 2.131%<br>Volatility: 0.135<br>Sharpe Ratio: 0.158<br>SYY_Close: Weight=0.826<br>LLY_Close: Weight=0.174<br>INTC_Close: Weight=0.000",
                    "Return: 93.103%<br>Volatility: 0.310<br>Sharpe Ratio: 3.003<br>GOOG_Close: Weight=0.037<br>VRTX_Close: Weight=0.484<br>KR_Close: Weight=0.000<br>NFLX_Close: Weight=0.480",
                    "Return: 25.141%<br>Volatility: 0.087<br>Sharpe Ratio: 2.890<br>ORCL_Close: Weight=0.391<br>UA_Close: Weight=0.000<br>AEP_Close: Weight=0.609",
                    "Return: 24.911%<br>Volatility: 0.095<br>Sharpe Ratio: 2.631<br>MMM_Close: Weight=0.214<br>PEP_Close: Weight=0.592<br>NFLX_Close: Weight=0.194",
                    "Return: 47.731%<br>Volatility: 0.107<br>Sharpe Ratio: 4.452<br>PYPL_Close: Weight=0.407<br>GOOG_Close: Weight=0.000<br>NEE_Close: Weight=0.593",
                    "Return: 35.842%<br>Volatility: 0.087<br>Sharpe Ratio: 4.116<br>KO_Close: Weight=0.865<br>EMR_Close: Weight=0.000<br>NVDA_Close: Weight=0.135",
                    "Return: 15.436%<br>Volatility: 0.084<br>Sharpe Ratio: 1.835<br>EXC_Close: Weight=0.163<br>PEP_Close: Weight=0.837<br>BIIB_Close: Weight=0.000",
                    "Return: 21.927%<br>Volatility: 0.128<br>Sharpe Ratio: 1.713<br>TMO_Close: Weight=0.862<br>MDT_Close: Weight=0.138<br>K_Close: Weight=0.000",
                    "Return: 14.960%<br>Volatility: 0.082<br>Sharpe Ratio: 1.829<br>PM_Close: Weight=0.360<br>GM_Close: Weight=0.000<br>MDT_Close: Weight=0.121<br>RTX_Close: Weight=0.518",
                    "Return: 34.965%<br>Volatility: 0.157<br>Sharpe Ratio: 2.230<br>NFLX_Close: Weight=0.403<br>F_Close: Weight=0.000<br>MMM_Close: Weight=0.597<br>BTI_Close: Weight=0.000",
                    "Return: 126.996%<br>Volatility: 0.486<br>Sharpe Ratio: 2.611<br>VRTX_Close: Weight=1.000<br>DHR_Close: Weight=0.000<br>MS_Close: Weight=0.000",
                    "Return: 41.594%<br>Volatility: 0.080<br>Sharpe Ratio: 5.223<br>RMD_Close: Weight=0.000<br>KO_Close: Weight=0.525<br>BA_Close: Weight=0.210<br>ISRG_Close: Weight=0.265",
                    "Return: 29.153%<br>Volatility: 0.131<br>Sharpe Ratio: 2.225<br>GE_Close: Weight=0.000<br>NFLX_Close: Weight=0.349<br>RDY_Close: Weight=0.000<br>DUK_Close: Weight=0.651",
                    "Return: 28.433%<br>Volatility: 0.112<br>Sharpe Ratio: 2.543<br>KR_Close: Weight=0.000<br>ABT_Close: Weight=0.328<br>BMY_Close: Weight=0.000<br>MSFT_Close: Weight=0.672",
                    "Return: 54.034%<br>Volatility: 0.123<br>Sharpe Ratio: 4.392<br>ZBH_Close: Weight=0.000<br>BABA_Close: Weight=0.329<br>WMT_Close: Weight=0.417<br>SAP_Close: Weight=0.254",
                    "Return: 14.160%<br>Volatility: 0.089<br>Sharpe Ratio: 1.589<br>RTX_Close: Weight=0.799<br>T_Close: Weight=0.000<br>RMD_Close: Weight=0.201",
                    "Return: 60.513%<br>Volatility: 0.143<br>Sharpe Ratio: 4.240<br>META_Close: Weight=0.518<br>VZ_Close: Weight=0.000<br>BA_Close: Weight=0.482",
                    "Return: 39.380%<br>Volatility: 0.106<br>Sharpe Ratio: 3.724<br>ISRG_Close: Weight=0.415<br>ETN_Close: Weight=0.146<br>V_Close: Weight=0.439",
                    "Return: 18.712%<br>Volatility: 0.078<br>Sharpe Ratio: 2.386<br>GE_Close: Weight=0.000<br>ZBH_Close: Weight=0.000<br>PEP_Close: Weight=0.631<br>TMO_Close: Weight=0.369",
                    "Return: 25.143%<br>Volatility: 0.087<br>Sharpe Ratio: 2.890<br>AEP_Close: Weight=0.609<br>QCOM_Close: Weight=0.000<br>ORCL_Close: Weight=0.391",
                    "Return: 27.896%<br>Volatility: 0.104<br>Sharpe Ratio: 2.695<br>AMD_Close: Weight=0.010<br>NEE_Close: Weight=0.990<br>XOM_Close: Weight=0.000",
                    "Return: 42.831%<br>Volatility: 0.136<br>Sharpe Ratio: 3.156<br>ADBE_Close: Weight=0.837<br>GE_Close: Weight=0.000<br>RTX_Close: Weight=0.163",
                    "Return: 15.057%<br>Volatility: 0.161<br>Sharpe Ratio: 0.933<br>K_Close: Weight=0.000<br>RMD_Close: Weight=0.887<br>NKE_Close: Weight=0.113",
                    "Return: 48.886%<br>Volatility: 0.167<br>Sharpe Ratio: 2.922<br>DHR_Close: Weight=0.000<br>SNAP_Close: Weight=0.000<br>RTX_Close: Weight=0.670<br>NVDA_Close: Weight=0.330",
                    "Return: 57.204%<br>Volatility: 0.153<br>Sharpe Ratio: 3.737<br>ABT_Close: Weight=0.269<br>RTX_Close: Weight=0.064<br>K_Close: Weight=0.000<br>PYPL_Close: Weight=0.667",
                    "Return: 19.790%<br>Volatility: 0.093<br>Sharpe Ratio: 2.130<br>GILD_Close: Weight=0.434<br>PM_Close: Weight=0.462<br>TXN_Close: Weight=0.105<br>SNAP_Close: Weight=0.000",
                    "Return: 33.463%<br>Volatility: 0.112<br>Sharpe Ratio: 2.983<br>TXN_Close: Weight=0.070<br>MO_Close: Weight=0.000<br>UNH_Close: Weight=0.930",
                    "Return: 31.313%<br>Volatility: 0.074<br>Sharpe Ratio: 4.217<br>MCD_Close: Weight=0.361<br>KO_Close: Weight=0.584<br>RDY_Close: Weight=0.000<br>AEP_Close: Weight=0.056",
                    "Return: 55.823%<br>Volatility: 0.206<br>Sharpe Ratio: 2.712<br>REGN_Close: Weight=0.485<br>NFLX_Close: Weight=0.381<br>EMR_Close: Weight=0.134<br>BAC_Close: Weight=0.000",
                    "Return: 29.992%<br>Volatility: 0.116<br>Sharpe Ratio: 2.595<br>DHR_Close: Weight=0.000<br>TXN_Close: Weight=0.000<br>ZBH_Close: Weight=0.000<br>SYK_Close: Weight=1.000",
                    "Return: 62.927%<br>Volatility: 0.175<br>Sharpe Ratio: 3.588<br>ADBE_Close: Weight=0.817<br>AMZN_Close: Weight=0.000<br>VRTX_Close: Weight=0.183",
                    "Return: 48.368%<br>Volatility: 0.129<br>Sharpe Ratio: 3.742<br>ADBE_Close: Weight=0.538<br>AAPL_Close: Weight=0.000<br>VRTX_Close: Weight=0.125<br>JNJ_Close: Weight=0.336",
                    "Return: 67.104%<br>Volatility: 0.176<br>Sharpe Ratio: 3.823<br>BABA_Close: Weight=0.605<br>GIS_Close: Weight=0.000<br>PM_Close: Weight=0.395",
                    "Return: 40.576%<br>Volatility: 0.091<br>Sharpe Ratio: 4.451<br>GOOGL_Close: Weight=0.000<br>META_Close: Weight=0.368<br>MCD_Close: Weight=0.402<br>DUK_Close: Weight=0.230",
                    "Return: 31.596%<br>Volatility: 0.112<br>Sharpe Ratio: 2.832<br>ABT_Close: Weight=0.201<br>MRK_Close: Weight=0.000<br>MA_Close: Weight=0.799",
                    "Return: 40.807%<br>Volatility: 0.179<br>Sharpe Ratio: 2.279<br>DIS_Close: Weight=0.000<br>AMD_Close: Weight=0.000<br>DE_Close: Weight=1.000",
                    "Return: 80.621%<br>Volatility: 0.176<br>Sharpe Ratio: 4.590<br>TSLA_Close: Weight=0.068<br>BABA_Close: Weight=0.391<br>BA_Close: Weight=0.541<br>CSCO_Close: Weight=0.000",
                    "Return: 4.683%<br>Volatility: 0.154<br>Sharpe Ratio: 0.304<br>AMGN_Close: Weight=0.000<br>MS_Close: Weight=0.538<br>BMY_Close: Weight=0.462<br>RDY_Close: Weight=0.000",
                    "Return: 50.893%<br>Volatility: 0.230<br>Sharpe Ratio: 2.211<br>EW_Close: Weight=1.000<br>IBM_Close: Weight=0.000<br>SYY_Close: Weight=0.000",
                    "Return: 48.161%<br>Volatility: 0.145<br>Sharpe Ratio: 3.319<br>BAC_Close: Weight=0.000<br>CMCSA_Close: Weight=0.129<br>META_Close: Weight=0.820<br>TSLA_Close: Weight=0.050",
                    "Return: 25.062%<br>Volatility: 0.084<br>Sharpe Ratio: 2.996<br>NEE_Close: Weight=0.664<br>JNJ_Close: Weight=0.336<br>IBM_Close: Weight=0.000",
                    "Return: 8.328%<br>Volatility: 0.114<br>Sharpe Ratio: 0.730<br>EMR_Close: Weight=0.000<br>DHR_Close: Weight=0.000<br>MDT_Close: Weight=1.000",
                    "Return: 53.427%<br>Volatility: 0.148<br>Sharpe Ratio: 3.619<br>BA_Close: Weight=0.673<br>VZ_Close: Weight=0.000<br>HON_Close: Weight=0.327",
                    "Return: 52.490%<br>Volatility: 0.150<br>Sharpe Ratio: 3.505<br>ADBE_Close: Weight=0.513<br>V_Close: Weight=0.339<br>NVDA_Close: Weight=0.148",
                    "Return: 33.035%<br>Volatility: 0.147<br>Sharpe Ratio: 2.240<br>RDY_Close: Weight=0.000<br>NKE_Close: Weight=0.002<br>WMT_Close: Weight=0.998",
                    "Return: 45.501%<br>Volatility: 0.218<br>Sharpe Ratio: 2.092<br>NFLX_Close: Weight=0.513<br>NKE_Close: Weight=0.032<br>IBM_Close: Weight=0.000<br>GOOG_Close: Weight=0.455",
                    "Return: 10.537%<br>Volatility: 0.088<br>Sharpe Ratio: 1.204<br>SRE_Close: Weight=0.228<br>DUK_Close: Weight=0.772<br>BAC_Close: Weight=0.000<br>GS_Close: Weight=0.000",
                    "Return: 38.897%<br>Volatility: 0.132<br>Sharpe Ratio: 2.940<br>WMT_Close: Weight=0.596<br>REGN_Close: Weight=0.296<br>EMR_Close: Weight=0.108",
                    "Return: 15.055%<br>Volatility: 0.132<br>Sharpe Ratio: 1.138<br>JPM_Close: Weight=0.000<br>VZ_Close: Weight=0.009<br>BSX_Close: Weight=0.991",
                    "Return: 29.824%<br>Volatility: 0.133<br>Sharpe Ratio: 2.237<br>ORCL_Close: Weight=0.620<br>F_Close: Weight=0.000<br>BSX_Close: Weight=0.380<br>MS_Close: Weight=0.000",
                    "Return: 26.569%<br>Volatility: 0.082<br>Sharpe Ratio: 3.245<br>NEE_Close: Weight=0.665<br>ZBH_Close: Weight=0.017<br>AMGN_Close: Weight=0.000<br>TMO_Close: Weight=0.317",
                    "Return: 27.260%<br>Volatility: 0.113<br>Sharpe Ratio: 2.421<br>MMM_Close: Weight=0.493<br>ORCL_Close: Weight=0.507<br>TXN_Close: Weight=0.000",
                    "Return: 58.908%<br>Volatility: 0.155<br>Sharpe Ratio: 3.796<br>AMZN_Close: Weight=0.334<br>GS_Close: Weight=0.000<br>MO_Close: Weight=0.000<br>BA_Close: Weight=0.666",
                    "Return: 34.931%<br>Volatility: 0.116<br>Sharpe Ratio: 3.023<br>ABBV_Close: Weight=0.570<br>EW_Close: Weight=0.285<br>AMGN_Close: Weight=0.000<br>GOOG_Close: Weight=0.145",
                    "Return: 13.450%<br>Volatility: 0.075<br>Sharpe Ratio: 1.794<br>RTX_Close: Weight=0.509<br>SRE_Close: Weight=0.306<br>JPM_Close: Weight=0.000<br>AAPL_Close: Weight=0.185",
                    "Return: 25.063%<br>Volatility: 0.100<br>Sharpe Ratio: 2.511<br>JNJ_Close: Weight=0.254<br>GILD_Close: Weight=0.182<br>ZBH_Close: Weight=0.000<br>ABBV_Close: Weight=0.563",
                    "Return: 29.747%<br>Volatility: 0.076<br>Sharpe Ratio: 3.919<br>KO_Close: Weight=0.680<br>ACN_Close: Weight=0.041<br>REGN_Close: Weight=0.117<br>ORCL_Close: Weight=0.163",
                    "Return: 42.067%<br>Volatility: 0.149<br>Sharpe Ratio: 2.820<br>MS_Close: Weight=0.000<br>CAT_Close: Weight=0.420<br>AMZN_Close: Weight=0.580<br>WFC_Close: Weight=0.000",
                    "Return: 24.835%<br>Volatility: 0.123<br>Sharpe Ratio: 2.024<br>K_Close: Weight=0.000<br>GOOGL_Close: Weight=0.422<br>DHR_Close: Weight=0.000<br>TMO_Close: Weight=0.578",
                    "Return: 8.328%<br>Volatility: 0.114<br>Sharpe Ratio: 0.730<br>CPB_Close: Weight=0.000<br>MDT_Close: Weight=1.000<br>VZ_Close: Weight=0.000",
                    "Return: 64.313%<br>Volatility: 0.180<br>Sharpe Ratio: 3.582<br>NVDA_Close: Weight=0.184<br>EMR_Close: Weight=0.000<br>GOOG_Close: Weight=0.000<br>META_Close: Weight=0.816",
                    "Return: 39.610%<br>Volatility: 0.103<br>Sharpe Ratio: 3.843<br>COST_Close: Weight=0.000<br>MCD_Close: Weight=0.572<br>ABBV_Close: Weight=0.428",
                    "Return: 28.598%<br>Volatility: 0.107<br>Sharpe Ratio: 2.679<br>CRM_Close: Weight=0.192<br>SYK_Close: Weight=0.808<br>GS_Close: Weight=0.000",
                    "Return: 31.670%<br>Volatility: 0.125<br>Sharpe Ratio: 2.531<br>SAP_Close: Weight=0.373<br>MSFT_Close: Weight=0.627<br>BMY_Close: Weight=0.000",
                    "Return: 38.914%<br>Volatility: 0.180<br>Sharpe Ratio: 2.158<br>CAT_Close: Weight=0.783<br>BMY_Close: Weight=0.000<br>LLY_Close: Weight=0.217",
                    "Return: 28.156%<br>Volatility: 0.094<br>Sharpe Ratio: 2.986<br>REGN_Close: Weight=0.222<br>GILD_Close: Weight=0.170<br>AEP_Close: Weight=0.609<br>GS_Close: Weight=0.000",
                    "Return: 18.259%<br>Volatility: 0.111<br>Sharpe Ratio: 1.639<br>MO_Close: Weight=0.000<br>ACN_Close: Weight=0.353<br>GILD_Close: Weight=0.647<br>BAC_Close: Weight=0.000",
                    "Return: 30.478%<br>Volatility: 0.107<br>Sharpe Ratio: 2.860<br>ABBV_Close: Weight=0.515<br>SYY_Close: Weight=0.000<br>MSFT_Close: Weight=0.485",
                    "Return: 74.827%<br>Volatility: 0.204<br>Sharpe Ratio: 3.667<br>PYPL_Close: Weight=0.896<br>GOOG_Close: Weight=0.000<br>MDT_Close: Weight=0.000<br>NFLX_Close: Weight=0.104",
                    "Return: 82.386%<br>Volatility: 0.181<br>Sharpe Ratio: 4.544<br>BA_Close: Weight=0.566<br>BABA_Close: Weight=0.434<br>VZ_Close: Weight=0.000<br>GE_Close: Weight=0.000",
                    "Return: 25.214%<br>Volatility: 0.101<br>Sharpe Ratio: 2.489<br>EXC_Close: Weight=0.327<br>ORCL_Close: Weight=0.430<br>BSX_Close: Weight=0.243",
                    "Return: 22.284%<br>Volatility: 0.082<br>Sharpe Ratio: 2.724<br>VZ_Close: Weight=0.000<br>DUK_Close: Weight=0.415<br>PM_Close: Weight=0.070<br>MSFT_Close: Weight=0.515",
                    "Return: 32.113%<br>Volatility: 0.112<br>Sharpe Ratio: 2.871<br>VZ_Close: Weight=0.020<br>NFLX_Close: Weight=0.228<br>CVX_Close: Weight=0.000<br>LMT_Close: Weight=0.753",
                    "Return: 24.769%<br>Volatility: 0.114<br>Sharpe Ratio: 2.166<br>JPM_Close: Weight=0.000<br>SAP_Close: Weight=0.703<br>SRE_Close: Weight=0.297",
                    "Return: 20.913%<br>Volatility: 0.103<br>Sharpe Ratio: 2.039<br>BMY_Close: Weight=0.034<br>GOOG_Close: Weight=0.510<br>EXC_Close: Weight=0.456",
                    "Return: 84.054%<br>Volatility: 0.287<br>Sharpe Ratio: 2.932<br>REGN_Close: Weight=0.454<br>VRTX_Close: Weight=0.421<br>MDT_Close: Weight=0.125",
                    "Return: 24.099%<br>Volatility: 0.142<br>Sharpe Ratio: 1.701<br>BTI_Close: Weight=0.000<br>EMR_Close: Weight=0.000<br>VZ_Close: Weight=0.000<br>TMO_Close: Weight=1.000",
                    "Return: 49.213%<br>Volatility: 0.126<br>Sharpe Ratio: 3.915<br>QCOM_Close: Weight=0.000<br>UA_Close: Weight=0.000<br>V_Close: Weight=0.506<br>BA_Close: Weight=0.494",
                    "Return: 123.440%<br>Volatility: 0.341<br>Sharpe Ratio: 3.619<br>MO_Close: Weight=0.000<br>AMGN_Close: Weight=0.000<br>VRTX_Close: Weight=0.465<br>NVDA_Close: Weight=0.535",
                    "Return: 22.729%<br>Volatility: 0.148<br>Sharpe Ratio: 1.539<br>CPB_Close: Weight=0.000<br>UA_Close: Weight=0.000<br>CRM_Close: Weight=1.000",
                    "Return: 38.771%<br>Volatility: 0.094<br>Sharpe Ratio: 4.146<br>NEE_Close: Weight=0.550<br>PFE_Close: Weight=0.000<br>META_Close: Weight=0.450<br>NFLX_Close: Weight=0.000",
                    "Return: 56.699%<br>Volatility: 0.170<br>Sharpe Ratio: 3.332<br>TMO_Close: Weight=0.569<br>TSLA_Close: Weight=0.181<br>MS_Close: Weight=0.000<br>VRTX_Close: Weight=0.250",
                    "Return: 19.309%<br>Volatility: 0.099<br>Sharpe Ratio: 1.960<br>INTC_Close: Weight=0.000<br>T_Close: Weight=0.000<br>HON_Close: Weight=1.000",
                    "Return: 15.425%<br>Volatility: 0.118<br>Sharpe Ratio: 1.305<br>MMM_Close: Weight=1.000<br>AMGN_Close: Weight=0.000<br>MRK_Close: Weight=0.000",
                    "Return: 47.008%<br>Volatility: 0.140<br>Sharpe Ratio: 3.353<br>ACN_Close: Weight=0.000<br>VRTX_Close: Weight=0.185<br>V_Close: Weight=0.815<br>GM_Close: Weight=0.000",
                    "Return: 39.882%<br>Volatility: 0.119<br>Sharpe Ratio: 3.358<br>META_Close: Weight=0.690<br>PFE_Close: Weight=0.000<br>RTX_Close: Weight=0.310<br>LLY_Close: Weight=0.000",
                    "Return: 42.933%<br>Volatility: 0.115<br>Sharpe Ratio: 3.718<br>ISRG_Close: Weight=0.506<br>ABBV_Close: Weight=0.494<br>GE_Close: Weight=0.000",
                    "Return: 22.729%<br>Volatility: 0.148<br>Sharpe Ratio: 1.539<br>TXN_Close: Weight=0.000<br>SNAP_Close: Weight=0.000<br>CRM_Close: Weight=1.000",
                    "Return: 28.809%<br>Volatility: 0.098<br>Sharpe Ratio: 2.943<br>MSFT_Close: Weight=0.365<br>ABBV_Close: Weight=0.459<br>ETN_Close: Weight=0.176",
                    "Return: 22.921%<br>Volatility: 0.092<br>Sharpe Ratio: 2.484<br>DUK_Close: Weight=0.526<br>BTI_Close: Weight=0.000<br>AMZN_Close: Weight=0.474",
                    "Return: 41.813%<br>Volatility: 0.116<br>Sharpe Ratio: 3.596<br>SYK_Close: Weight=0.454<br>MO_Close: Weight=0.000<br>META_Close: Weight=0.546<br>GIS_Close: Weight=0.000",
                    "Return: 23.079%<br>Volatility: 0.083<br>Sharpe Ratio: 2.777<br>MDT_Close: Weight=0.000<br>DUK_Close: Weight=0.315<br>V_Close: Weight=0.685",
                    "Return: 31.716%<br>Volatility: 0.077<br>Sharpe Ratio: 4.126<br>MCD_Close: Weight=0.394<br>DUK_Close: Weight=0.231<br>WMT_Close: Weight=0.202<br>GILD_Close: Weight=0.173",
                    "Return: 36.172%<br>Volatility: 0.104<br>Sharpe Ratio: 3.468<br>GILD_Close: Weight=0.262<br>PEP_Close: Weight=0.558<br>NVDA_Close: Weight=0.180<br>K_Close: Weight=0.000",
                    "Return: 21.952%<br>Volatility: 0.070<br>Sharpe Ratio: 3.128<br>AMD_Close: Weight=0.000<br>KO_Close: Weight=0.871<br>BTI_Close: Weight=0.000<br>AAPL_Close: Weight=0.129",
                    "Return: 55.276%<br>Volatility: 0.339<br>Sharpe Ratio: 1.631<br>IBM_Close: Weight=0.000<br>UA_Close: Weight=0.000<br>ZBH_Close: Weight=0.123<br>TSLA_Close: Weight=0.877",
                    "Return: 25.988%<br>Volatility: 0.072<br>Sharpe Ratio: 3.618<br>KO_Close: Weight=0.791<br>TSLA_Close: Weight=0.085<br>CRM_Close: Weight=0.124",
                    "Return: 0.345%<br>Volatility: 0.123<br>Sharpe Ratio: 0.028<br>DIS_Close: Weight=1.000<br>KR_Close: Weight=0.000<br>SNAP_Close: Weight=0.000",
                    "Return: 28.389%<br>Volatility: 0.166<br>Sharpe Ratio: 1.706<br>BIIB_Close: Weight=0.000<br>TSLA_Close: Weight=0.426<br>PG_Close: Weight=0.574",
                    "Return: 42.408%<br>Volatility: 0.124<br>Sharpe Ratio: 3.422<br>INTC_Close: Weight=0.000<br>ADBE_Close: Weight=0.613<br>CMCSA_Close: Weight=0.130<br>ORCL_Close: Weight=0.257",
                    "Return: 59.099%<br>Volatility: 0.141<br>Sharpe Ratio: 4.206<br>ADBE_Close: Weight=0.509<br>BA_Close: Weight=0.491<br>GOOG_Close: Weight=0.000",
                    "Return: 25.230%<br>Volatility: 0.067<br>Sharpe Ratio: 3.745<br>HD_Close: Weight=0.000<br>ACN_Close: Weight=0.000<br>SYK_Close: Weight=0.354<br>KO_Close: Weight=0.646",
                    "Return: 23.971%<br>Volatility: 0.090<br>Sharpe Ratio: 2.665<br>TXN_Close: Weight=0.036<br>DE_Close: Weight=0.442<br>DUK_Close: Weight=0.522",
                    "Return: 18.922%<br>Volatility: 0.114<br>Sharpe Ratio: 1.656<br>BSX_Close: Weight=0.318<br>SYY_Close: Weight=0.000<br>EMR_Close: Weight=0.000<br>ABT_Close: Weight=0.682",
                    "Return: 70.035%<br>Volatility: 0.198<br>Sharpe Ratio: 3.543<br>TXN_Close: Weight=0.000<br>JPM_Close: Weight=0.000<br>BA_Close: Weight=1.000",
                    "Return: 44.220%<br>Volatility: 0.133<br>Sharpe Ratio: 3.314<br>MCD_Close: Weight=0.894<br>BSX_Close: Weight=0.106<br>SNAP_Close: Weight=0.000",
                    "Return: 19.309%<br>Volatility: 0.099<br>Sharpe Ratio: 1.960<br>KR_Close: Weight=0.000<br>BTI_Close: Weight=0.000<br>HON_Close: Weight=1.000",
                    "Return: 1.589%<br>Volatility: 0.131<br>Sharpe Ratio: 0.121<br>GS_Close: Weight=0.000<br>JPM_Close: Weight=0.767<br>BTI_Close: Weight=0.233",
                    "Return: 41.702%<br>Volatility: 0.125<br>Sharpe Ratio: 3.336<br>JNJ_Close: Weight=0.355<br>ISRG_Close: Weight=0.596<br>GOOGL_Close: Weight=0.049<br>SO_Close: Weight=0.000",
                    "Return: 34.643%<br>Volatility: 0.146<br>Sharpe Ratio: 2.372<br>RDY_Close: Weight=0.000<br>MMM_Close: Weight=0.458<br>EW_Close: Weight=0.542",
                    "Return: 15.425%<br>Volatility: 0.118<br>Sharpe Ratio: 1.305<br>COST_Close: Weight=0.000<br>BIIB_Close: Weight=0.000<br>MMM_Close: Weight=1.000<br>CVX_Close: Weight=0.000",
                    "Return: 13.645%<br>Volatility: 0.093<br>Sharpe Ratio: 1.464<br>CSCO_Close: Weight=0.000<br>AMD_Close: Weight=0.000<br>RTX_Close: Weight=1.000",
                    "Return: 24.436%<br>Volatility: 0.085<br>Sharpe Ratio: 2.880<br>LLY_Close: Weight=0.000<br>AEP_Close: Weight=0.356<br>SNAP_Close: Weight=0.000<br>V_Close: Weight=0.644",
                    "Return: 30.805%<br>Volatility: 0.137<br>Sharpe Ratio: 2.252<br>AMGN_Close: Weight=0.000<br>WMT_Close: Weight=0.922<br>BMY_Close: Weight=0.078",
                    "Return: 40.653%<br>Volatility: 0.124<br>Sharpe Ratio: 3.288<br>K_Close: Weight=0.000<br>ADBE_Close: Weight=0.717<br>ABT_Close: Weight=0.283",
                    "Return: 47.811%<br>Volatility: 0.160<br>Sharpe Ratio: 2.980<br>INTC_Close: Weight=0.000<br>TXN_Close: Weight=0.040<br>JNJ_Close: Weight=0.689<br>VRTX_Close: Weight=0.270",
                    "Return: 24.099%<br>Volatility: 0.142<br>Sharpe Ratio: 1.701<br>GS_Close: Weight=0.000<br>PFE_Close: Weight=0.000<br>TMO_Close: Weight=1.000",
                    "Return: 32.744%<br>Volatility: 0.078<br>Sharpe Ratio: 4.173<br>KO_Close: Weight=0.651<br>CVX_Close: Weight=0.000<br>META_Close: Weight=0.349",
                    "Return: 61.965%<br>Volatility: 0.381<br>Sharpe Ratio: 1.627<br>SNAP_Close: Weight=0.000<br>BAC_Close: Weight=0.000<br>TSLA_Close: Weight=1.000",
                    "Return: 0.828%<br>Volatility: 0.158<br>Sharpe Ratio: 0.052<br>AMD_Close: Weight=0.000<br>F_Close: Weight=0.000<br>LLY_Close: Weight=1.000",
                    "Return: 27.561%<br>Volatility: 0.097<br>Sharpe Ratio: 2.844<br>TMO_Close: Weight=0.276<br>HD_Close: Weight=0.000<br>V_Close: Weight=0.724",
                    "Return: 5.554%<br>Volatility: 0.134<br>Sharpe Ratio: 0.413<br>KR_Close: Weight=0.000<br>QCOM_Close: Weight=0.000<br>HD_Close: Weight=1.000<br>WFC_Close: Weight=0.000",
                    "Return: 63.719%<br>Volatility: 0.195<br>Sharpe Ratio: 3.273<br>CMCSA_Close: Weight=0.382<br>REGN_Close: Weight=0.335<br>NVDA_Close: Weight=0.283",
                    "Return: 18.619%<br>Volatility: 0.110<br>Sharpe Ratio: 1.694<br>MS_Close: Weight=0.013<br>JNJ_Close: Weight=0.987<br>DHR_Close: Weight=0.000<br>AMD_Close: Weight=0.000",
                    "Return: 24.794%<br>Volatility: 0.104<br>Sharpe Ratio: 2.382<br>RTX_Close: Weight=0.556<br>XOM_Close: Weight=0.000<br>ORCL_Close: Weight=0.444",
                    "Return: 68.141%<br>Volatility: 0.185<br>Sharpe Ratio: 3.678<br>RMD_Close: Weight=0.000<br>AMZN_Close: Weight=0.202<br>PYPL_Close: Weight=0.798",
                    "Return: 30.246%<br>Volatility: 0.139<br>Sharpe Ratio: 2.179<br>MDT_Close: Weight=0.228<br>F_Close: Weight=0.000<br>AMZN_Close: Weight=0.772",
                    "Return: 43.443%<br>Volatility: 0.130<br>Sharpe Ratio: 3.349<br>ISRG_Close: Weight=0.575<br>SAP_Close: Weight=0.206<br>ABT_Close: Weight=0.219",
                    "Return: 10.049%<br>Volatility: 0.084<br>Sharpe Ratio: 1.191<br>CPB_Close: Weight=0.000<br>BIIB_Close: Weight=0.000<br>BMY_Close: Weight=0.064<br>DUK_Close: Weight=0.936",
                    "Return: 40.677%<br>Volatility: 0.128<br>Sharpe Ratio: 3.173<br>HD_Close: Weight=0.034<br>AMD_Close: Weight=0.000<br>ADBE_Close: Weight=0.797<br>SRE_Close: Weight=0.169",
                    "Return: 0.828%<br>Volatility: 0.158<br>Sharpe Ratio: 0.052<br>DHR_Close: Weight=0.000<br>KR_Close: Weight=0.000<br>LLY_Close: Weight=1.000",
                    "Return: 16.946%<br>Volatility: 0.100<br>Sharpe Ratio: 1.687<br>BAC_Close: Weight=0.000<br>ABT_Close: Weight=0.628<br>SRE_Close: Weight=0.372<br>UA_Close: Weight=0.000",
                    "Return: 29.729%<br>Volatility: 0.090<br>Sharpe Ratio: 3.287<br>PEP_Close: Weight=0.350<br>V_Close: Weight=0.497<br>REGN_Close: Weight=0.152"
                  ],
                  "type": "scatter",
                  "x": [
                    0.15649395708201502,
                    0.13567919479527618,
                    0.1021904612526172,
                    0.1359139109826942,
                    0.09821559015312399,
                    0.1658862455522565,
                    0.13293328977845095,
                    0.10500621569988812,
                    0.09042875442547854,
                    0.1115598984687533,
                    0.1833940588764103,
                    0.18962377370443223,
                    0.09096219918947127,
                    0.07838835959870895,
                    0.10606949785054459,
                    0.11965671738011341,
                    0.08953978166096195,
                    0.1976829762870759,
                    0.09850919591905642,
                    0.179030165273739,
                    0.38075289062101053,
                    0.11630442426031758,
                    0.16533679589665473,
                    0.1540504845305152,
                    0.08779332324151255,
                    0.11290488650725042,
                    0.10972296552183392,
                    0.13604073964489902,
                    0.13438349219781967,
                    0.291231099681078,
                    0.0977142297165815,
                    0.08679676825753134,
                    0.12444144966518197,
                    0.6944244938485961,
                    0.1379871584576859,
                    0.10058825296627193,
                    0.1209048286701893,
                    0.14735538089205327,
                    0.08223189193578052,
                    0.07377428710494624,
                    0.08469432652046306,
                    0.1584292978824271,
                    0.08401545285530519,
                    0.17658611873503377,
                    0.1446199371035933,
                    0.08948930935504773,
                    0.11143188157695766,
                    0.14920269038954379,
                    0.12293938496427011,
                    0.09529271068972837,
                    0.17600445801349596,
                    0.1384183748093651,
                    0.10905704184059913,
                    0.0814741778512784,
                    0.10138383160024347,
                    0.0941287349402729,
                    0.13670789261580926,
                    0.13832559894009974,
                    0.11596904566556637,
                    0.09228805157299041,
                    0.10711902330893643,
                    0.15258715834907954,
                    0.22906198436778877,
                    0.1110004574476406,
                    0.09207454933944262,
                    0.118430791955289,
                    0.2188580736198669,
                    0.13018980570806016,
                    0.17457655209387837,
                    0.15475334830494716,
                    0.1183889063679132,
                    0.11100045744764038,
                    0.30172896494553564,
                    0.11041303287852268,
                    0.0918559360548479,
                    0.13263825803946708,
                    0.09423458139666377,
                    0.22105853256835337,
                    0.11193218299457804,
                    0.09988953215961655,
                    0.44319148732105845,
                    0.08671049173483843,
                    0.1394052206353229,
                    0.17953744082440184,
                    0.12987218243894713,
                    0.09330923124056482,
                    0.08392679449032353,
                    0.3492306163130795,
                    0.08279929163609583,
                    0.084383779096798,
                    0.08910695730228041,
                    0.2704307098094229,
                    0.1714173181171548,
                    0.17529906463147676,
                    0.6944244938485961,
                    0.10386434221410504,
                    0.07420615354338442,
                    0.08484541075999824,
                    0.11283014506080502,
                    0.44319148732105845,
                    0.1877532394182079,
                    0.11413690401649226,
                    0.2775096146516253,
                    0.0744631260817422,
                    0.1078616449320372,
                    0.1339282637340877,
                    0.08690251059429621,
                    0.16220254721289565,
                    0.09863793366845004,
                    0.07874300595194995,
                    0.1340214691448743,
                    0.11809905383041573,
                    0.0843307461586926,
                    0.08518841638524068,
                    0.09572332587200542,
                    0.08424897286924492,
                    0.08159779763959614,
                    0.1053773924344366,
                    0.1401673450121463,
                    0.16064201663456149,
                    0.11450792876194028,
                    0.13207227325933577,
                    0.14916026623780382,
                    0.08695597228678295,
                    0.13364857631118432,
                    0.11354615242755131,
                    0.12951759230813198,
                    0.32339303231847083,
                    0.07612061189994954,
                    0.20066662566577245,
                    0.1265254536641366,
                    0.1326737394768498,
                    0.17141731811715433,
                    0.09053394415233673,
                    0.09894752264609072,
                    0.1977983756388202,
                    0.16151846856776567,
                    0.13543960354253584,
                    0.11071380475829233,
                    0.14363337782688052,
                    0.1038873455243819,
                    0.12241748464616649,
                    0.08374249234260762,
                    0.08057131993289135,
                    0.21425034097430457,
                    0.48636489768312324,
                    0.11589829702452736,
                    0.17748313590625442,
                    0.14701549979127454,
                    0.10354562969538912,
                    0.0734129576034665,
                    0.13267373947684988,
                    0.11424798359655533,
                    0.12381048019922783,
                    0.12310615237513374,
                    0.08684794955666511,
                    0.15928310639407595,
                    0.08456575056291003,
                    0.14461993710359056,
                    0.1588111480989363,
                    0.1491602662378039,
                    0.1375212867666256,
                    0.19337713068270668,
                    0.15516737372986789,
                    0.14371187993547674,
                    0.11255586153964624,
                    0.07144436741597211,
                    0.10500621569988833,
                    0.17397233717303143,
                    0.11809905383041167,
                    0.09153701472584631,
                    0.08809427725349805,
                    0.1546293958333141,
                    0.12060047442414971,
                    0.12368045758720617,
                    0.07342365756054654,
                    0.09321903460214019,
                    0.1289444769243452,
                    0.14673815086787065,
                    0.10302999628109298,
                    0.11481155943227599,
                    0.17305342799959067,
                    0.11256418431137963,
                    0.08679834080433349,
                    0.27043070980941875,
                    0.10114740082934773,
                    0.1478104238080164,
                    0.1263973626874755,
                    0.09045691110552312,
                    0.1654664705230436,
                    0.13150117755002116,
                    0.12158776617930457,
                    0.2537590112229247,
                    0.11449329935856774,
                    0.13267373947685,
                    0.11932466300664357,
                    0.13591391098269412,
                    0.12720959136190862,
                    0.15287440091381552,
                    0.11410358791759903,
                    0.11009254242260942,
                    0.1694303606150112,
                    0.12058793819177276,
                    0.23331559759372175,
                    0.486364897683123,
                    0.0985091959190301,
                    0.11600833393275349,
                    0.09695123478650905,
                    0.09321903460214019,
                    0.09850919591905642,
                    0.0996200923828513,
                    0.34189230061359727,
                    0.14673815086787126,
                    0.1407367594593512,
                    0.144619937103593,
                    0.09917927954327417,
                    0.22906198436778935,
                    0.0755705969664602,
                    0.09976258509500018,
                    0.0923107781037487,
                    0.14166406681629204,
                    0.06333355264661232,
                    0.13551121869182,
                    0.13034588320496468,
                    0.11450813773908661,
                    0.17600445801349596,
                    0.09534341136980494,
                    0.14363812261993703,
                    0.08737196340118547,
                    0.12444144966518193,
                    0.08349122063433398,
                    0.10954535973370791,
                    0.10859658582305967,
                    0.15462939583331572,
                    0.1053871788699486,
                    0.14461993710359325,
                    0.2104168860800806,
                    0.09022173627457221,
                    0.10463635961768901,
                    0.08726464629693066,
                    0.09944204457694596,
                    0.15831490251771518,
                    0.12294136507580865,
                    0.13996381509772984,
                    0.10471530425366,
                    0.10199600123873498,
                    0.12639349964150434,
                    0.12297881706316355,
                    0.10694725055813804,
                    0.1358046975654457,
                    0.09393152537388251,
                    0.17603452633514957,
                    0.1326737394768497,
                    0.11916166599136313,
                    0.0733678800625694,
                    0.09104719213545974,
                    0.11751983602581777,
                    0.11556557394198891,
                    0.0962342440627705,
                    0.1358667295737464,
                    0.13246244381818809,
                    0.14166406681629204,
                    0.16183028700215726,
                    0.12472740616703087,
                    0.14890696188591465,
                    0.08891212715543532,
                    0.10399665972298244,
                    0.18716967673508225,
                    0.1051566073742889,
                    0.14460692327733884,
                    0.12380920310855584,
                    0.09798074337625202,
                    0.16539123119843122,
                    0.12103926945776049,
                    0.08208653452608103,
                    0.17557288037464763,
                    0.10214874527066133,
                    0.20908391398129147,
                    0.1183635930151303,
                    0.09001521014459515,
                    0.1654664705357937,
                    0.12783980472998024,
                    0.14776262612561294,
                    0.11693908245391674,
                    0.0790088900817034,
                    0.09698520315640308,
                    0.23962067791828784,
                    0.14166406681629215,
                    0.2098673647278018,
                    0.12396272078461458,
                    0.09744008261428759,
                    0.09938157935621886,
                    0.17953744082440143,
                    0.11041303287852271,
                    0.07956815245975393,
                    0.0997703309082568,
                    0.10970247177655172,
                    0.17976114055083803,
                    0.1494288118549955,
                    0.08186277603319086,
                    0.09462724188716215,
                    0.08737196340118332,
                    0.44319148732105845,
                    0.15552274990524334,
                    0.07878742655642548,
                    0.07075209923837072,
                    0.16780871445241416,
                    0.09744038339036602,
                    0.08258470897099729,
                    0.18175217637869157,
                    0.10240746363307489,
                    0.1135866515371932,
                    0.1528744009138156,
                    0.14744296943437057,
                    0.12318883951072826,
                    0.09949398176673017,
                    0.33478487124177325,
                    0.1434351471978506,
                    0.23331559759372061,
                    0.12444144966518166,
                    0.08390935100877417,
                    0.09996488314879749,
                    0.10793809334062127,
                    0.07524727106531434,
                    0.10596381611449912,
                    0.10717902849082557,
                    0.1579782113645382,
                    0.11844381576284846,
                    0.10392593414408234,
                    0.128812962496006,
                    0.06228662443808115,
                    0.11294407383792894,
                    0.09113430628306744,
                    0.09448885768674789,
                    0.07895667001622028,
                    0.1222723589205596,
                    0.1474576426617711,
                    0.12412786026718364,
                    0.08700337175800238,
                    0.10064302233924624,
                    0.08689499972820472,
                    0.44319148732105523,
                    0.10114740082934773,
                    0.14772172479922469,
                    0.17953744082440298,
                    0.07083641052066839,
                    0.08935362699784899,
                    0.1367078926158093,
                    0.17600445801349596,
                    0.148690761452738,
                    0.130438094473707,
                    0.08680498573485097,
                    0.13498954167348468,
                    0.11896712794165618,
                    0.1528744009138147,
                    0.23331559759372208,
                    0.15831490251771543,
                    0.14073675945935116,
                    0.2726936745740609,
                    0.09128933171817022,
                    0.12353292207630055,
                    0.12557338585398772,
                    0.09458938527855149,
                    0.1141369040164923,
                    0.08485290762777929,
                    0.07549975822890857,
                    0.08364742962173798,
                    0.16943036061501024,
                    0.14435792000730818,
                    0.1312999002486484,
                    0.09158149903375444,
                    0.15842929788517002,
                    0.13599494571320034,
                    0.10605842859924115,
                    0.10189141842106571,
                    0.10290999662116981,
                    0.12989713410504844,
                    0.18491429793342382,
                    0.2000499875057111,
                    0.0873719634011833,
                    0.30757825521140275,
                    0.17117878502349318,
                    0.10013414176856351,
                    0.19309876530641346,
                    0.3413145207911933,
                    0.14772172479922338,
                    0.15921156806975745,
                    0.09424099875245655,
                    0.30882404180464273,
                    0.1465030080853021,
                    0.10500621569988737,
                    0.09667303844527057,
                    0.08891212715543535,
                    0.14678630442502913,
                    0.12473664728214169,
                    0.08938077557459609,
                    0.1250827890279942,
                    0.10090432080425461,
                    0.20449868629871104,
                    0.12076683711769672,
                    0.17600445801344616,
                    0.07593121337937928,
                    0.08208360800140672,
                    0.11867772711006169,
                    0.10015186731522874,
                    0.12785354685755956,
                    0.11815851036291738,
                    0.132587254265468,
                    0.13680225665320797,
                    0.12333817368646692,
                    0.1745765520938785,
                    0.14564055262790623,
                    0.14944119194198516,
                    0.09333302903285982,
                    0.14916026623780385,
                    0.11060307104919995,
                    0.17430539355782837,
                    0.10121190737875528,
                    0.13057815185540186,
                    0.1683247393354807,
                    0.11556557394198916,
                    0.15519909194114256,
                    0.6944244938485962,
                    0.11276650481432661,
                    0.14172465019089234,
                    0.11815851036291744,
                    0.13971686903762304,
                    0.08032252115878163,
                    0.10370145990878141,
                    0.159449344601816,
                    0.08323270021063031,
                    0.08107168415250549,
                    0.14896559876446863,
                    0.09696836012201465,
                    0.11005473332578355,
                    0.1326737394768496,
                    0.12205242956086686,
                    0.10592188988828112,
                    0.10937944854306322,
                    0.09739061347116913,
                    0.15287440091381535,
                    0.16927931503754456,
                    0.08684794955666553,
                    0.25074764239919367,
                    0.11893674380829926,
                    0.1694303606150064,
                    0.07988367694328556,
                    0.13529191050123252,
                    0.09963346772782342,
                    0.0968678624212504,
                    0.27043070980940304,
                    0.13106113322835108,
                    0.12084665642046752,
                    0.10970247177655172,
                    0.19050044796072854,
                    0.1447547756726792,
                    0.07243563929601755,
                    0.15462939583330823,
                    0.14744452714436188,
                    0.2243119222283446,
                    0.11564358057825759,
                    0.15228033594068072,
                    0.12444144966518197,
                    0.144619937103592,
                    0.07930594739150082,
                    0.1110004574476406,
                    0.09942038549788924,
                    0.08985846551700359,
                    0.2044986862987137,
                    0.08282863093788678,
                    0.1070709816031054,
                    0.09511225029593627,
                    0.11072639815432886,
                    0.10500621569988829,
                    0.23176673280705062,
                    0.09823612370411887,
                    0.1616689970170407,
                    0.16533679589665234,
                    0.1417246844573699,
                    0.14753914216316577,
                    0.08060322628776191,
                    0.12406933742739719,
                    0.08760726214517245,
                    0.10114740082934763,
                    0.2631997628564222,
                    0.10656530357708016,
                    0.09011038063032843,
                    0.1809209152261516,
                    0.13438349219781967,
                    0.10861172101201734,
                    0.17942021729948318,
                    0.09321903460214026,
                    0.09410164045185547,
                    0.1252844400835085,
                    0.08684794955665916,
                    0.09458028384910808,
                    0.09032090021170244,
                    0.11569738924945576,
                    0.1229203969534655,
                    0.138325576741629,
                    0.2704307098094228,
                    0.08731132353853624,
                    0.13670789261580926,
                    0.09481134131269967,
                    0.1654664705357937,
                    0.09499563162752629,
                    0.12523348808883322,
                    0.08073070193347946,
                    0.13129031879491426,
                    0.08034844254100751,
                    0.08662492489315934,
                    0.17903016527373938,
                    0.25898785505204275,
                    0.3003667505051156,
                    0.20986736472780196,
                    0.11490826916904875,
                    0.17457655209385708,
                    0.1654664705357937,
                    0.10711902330893641,
                    0.48636489768312324,
                    0.09287512270304547,
                    0.1765861187350338,
                    0.11489147328307997,
                    0.1467381508678306,
                    0.13135236086873103,
                    0.0776280972223393,
                    0.11331621925445576,
                    0.11975130404511695,
                    0.1871696767350823,
                    0.15300379182681767,
                    0.12444144966518185,
                    0.10215906873763447,
                    0.13313759271064263,
                    0.14744296943436971,
                    0.11251518353863682,
                    0.13364857631118435,
                    0.14405526528687537,
                    0.1391176328498071,
                    0.08975545689606243,
                    0.11267308353568188,
                    0.2894077148363341,
                    0.12046638833030289,
                    0.20311783999262312,
                    0.07593172820844146,
                    0.17903016527373938,
                    0.11916739810900137,
                    0.20657826040568023,
                    0.09961082380158692,
                    0.07612044739669203,
                    0.37643915977028686,
                    0.1364993730801402,
                    0.12333817368725694,
                    0.0714109428167701,
                    0.1139991638999852,
                    0.08684794955666568,
                    0.11814589832629979,
                    0.1067482690066512,
                    0.12569996857918095,
                    0.11079806536610416,
                    0.10711902330893641,
                    0.1544779738851989,
                    0.14952744095837997,
                    0.10779474007054088,
                    0.09225984050937613,
                    0.10539781266910977,
                    0.1528744009138156,
                    0.15516737372986564,
                    0.08624057585921158,
                    0.10654682869108686,
                    0.3126173564813389,
                    0.06783117226839683,
                    0.07501715157756535,
                    0.11556557394198909,
                    0.13789314982754422,
                    0.15842929788517007,
                    0.1606283670807333,
                    0.17337425289781463,
                    0.11535626250166216,
                    0.07378002788649035,
                    0.12939071266411914,
                    0.12459552021199408,
                    0.12333817368725508,
                    0.10846363931738306,
                    0.12444895800522857,
                    0.11100045744764063,
                    0.07152007526359581,
                    0.07513381313989603,
                    0.11345589351298824,
                    0.07420542376514011,
                    0.2098673647278009,
                    0.13267373947685032,
                    0.12745210070953586,
                    0.10215740279934156,
                    0.0780004195573013,
                    0.07745115265524025,
                    0.15640389513238645,
                    0.10228518705565046,
                    0.08437726921823713,
                    0.10777290551322266,
                    0.11131124971409678,
                    0.10215089079969362,
                    0.13487952689786042,
                    0.09513597500939723,
                    0.15405048453051512,
                    0.1355207430251849,
                    0.1145075037028994,
                    0.11916900417550437,
                    0.09028774822084144,
                    0.14805417656511558,
                    0.11856686557303664,
                    0.1268038958313625,
                    0.27552937534734007,
                    0.1426369118550641,
                    0.10754183620193333,
                    0.12402154281384682,
                    0.14001972063498683,
                    0.10334807603762423,
                    0.15245014691749742,
                    0.09321903460214016,
                    0.10544516219777797,
                    0.09705071103492026,
                    0.15831490251771493,
                    0.0872633771509778,
                    0.09880510803823883,
                    0.11543173371817182,
                    0.16553715829541896,
                    0.1621262686788129,
                    0.0973657822868079,
                    0.11206805931533223,
                    0.09850919591905642,
                    0.12998842765820076,
                    0.1986447463182916,
                    0.12791803218194409,
                    0.10419857678770944,
                    0.07060809372310634,
                    0.1359362522131364,
                    0.11100045744764064,
                    0.08737196340118335,
                    0.08737196340118332,
                    0.08245806609412329,
                    0.16533679589665248,
                    0.12640147526277914,
                    0.1765861187350338,
                    0.08483524188411073,
                    0.09453249575434235,
                    0.10029099328656117,
                    0.14413996378883454,
                    0.1141154996954434,
                    0.11410697100620942,
                    0.09350552438822304,
                    0.08684794955666568,
                    0.07930587830449115,
                    0.15831490251771507,
                    0.12076449912808923,
                    0.15100293702059667,
                    0.11342554923729065,
                    0.07649670472273058,
                    0.1467381508678708,
                    0.10320284577459056,
                    0.19768297628708215,
                    0.12969558466229023,
                    0.11066409190594072,
                    0.11584606761908024,
                    0.12368760307433596,
                    0.11345848023292719,
                    0.16062392741376003,
                    0.07141020222075116,
                    0.2686851134576278,
                    0.09810496873247608,
                    0.13043189592678348,
                    0.09753173327935771,
                    0.08830771246313518,
                    0.17956970988011964,
                    0.15462939583331572,
                    0.11276323440985529,
                    0.10099683810803556,
                    0.10198749409226922,
                    0.09334474923759428,
                    0.1071190233089349,
                    0.13364857631118437,
                    0.16576072286530485,
                    0.07880035942761887,
                    0.17336184334908494,
                    0.09837157508996594,
                    0.10858751778439235,
                    0.07773636945176926,
                    0.10119243592059227,
                    0.15880957856259004,
                    0.09666889710506721,
                    0.1865515468896608,
                    0.10845794741473153,
                    0.09591253529032578,
                    0.08620269755214707,
                    0.11312038178466131,
                    0.14163648143438085,
                    0.07632951023761016,
                    0.10540830539127094,
                    0.09867776967745863,
                    0.09349466470103442,
                    0.12383583940294478,
                    0.2724848905684964,
                    0.1544794372724557,
                    0.14988960218833378,
                    0.09480509001720416,
                    0.09445912382841655,
                    0.1136016960303791,
                    0.07284104063015817,
                    0.14561714331840286,
                    0.12076059179342641,
                    0.10544973393196061,
                    0.12275214695079231,
                    0.16151846856776567,
                    0.14673815086787123,
                    0.11418950045021545,
                    0.13438349219781967,
                    0.211867596087767,
                    0.09184594574030343,
                    0.07152874523054183,
                    0.10655180935315207,
                    0.1804050235239726,
                    0.0702251166002275,
                    0.13732074321637353,
                    0.4863648976831224,
                    0.08866976337220185,
                    0.17903016527373922,
                    0.09944103519835507,
                    0.14603218832288356,
                    0.15842929788516977,
                    0.15516737372986789,
                    0.16836791311662844,
                    0.15824532727569615,
                    0.12444144966518231,
                    0.11815851036291485,
                    0.15287440091381546,
                    0.1278859449054459,
                    0.0977020483556229,
                    0.07139554214306863,
                    0.11988815612477079,
                    0.09461188740716885,
                    0.15353141656114055,
                    0.07940261750705706,
                    0.13498954167348468,
                    0.14445349279497824,
                    0.128147854290371,
                    0.12066858499603919,
                    0.1765861187350338,
                    0.2586823799799961,
                    0.08349217431203226,
                    0.15831490251771566,
                    0.06522057194454592,
                    0.09231068459021456,
                    0.08398411671871552,
                    0.14849595548266467,
                    0.15096011217176858,
                    0.08981896649538212,
                    0.1690709683439978,
                    0.1785626668546536,
                    0.10613583664374532,
                    0.23331559759372192,
                    0.11946120997910185,
                    0.15462939583331095,
                    0.10188762892111464,
                    0.17760921040846286,
                    0.10132037398604261,
                    0.14109401605780889,
                    0.11848219315672857,
                    0.08029059178646528,
                    0.13487799238550335,
                    0.12500223105816016,
                    0.13327838348294613,
                    0.32334777365270895,
                    0.11172598275090923,
                    0.13413946893442788,
                    0.08717170771374225,
                    0.1308042573462406,
                    0.10325806852969051,
                    0.31402282618031313,
                    0.12516508291630243,
                    0.09988546938735307,
                    0.140526335525058,
                    0.07952288458322511,
                    0.09412440945575895,
                    0.22414934379306112,
                    0.13267373947685,
                    0.10395188465231009,
                    0.1340181151563968,
                    0.17457655209387726,
                    0.08891212715543534,
                    0.11413690401649226,
                    0.07962797752098609,
                    0.08635391629255737,
                    0.12028328272563861,
                    0.27648365002342035,
                    0.08209093717393928,
                    0.12469501321107336,
                    0.1359139109826942,
                    0.11131316420806156,
                    0.09231084451879353,
                    0.15842929788517007,
                    0.1011474008293477,
                    0.13969112459317334,
                    0.07316236868175754,
                    0.1189049022389316,
                    0.1714173181171549,
                    0.1155655739419892,
                    0.10720302406518606,
                    0.10180431214846677,
                    0.09321903460226207,
                    0.2020076551356593,
                    0.07417363190870505,
                    0.14934662677780175,
                    0.09861010095939268,
                    0.12273635707745541,
                    0.1145899622404549,
                    0.10500621569988829,
                    0.09588069366145582,
                    0.14462113332220888,
                    0.09944827553536985,
                    0.12486620193052594,
                    0.15432032478934152,
                    0.06679305383153648,
                    0.17942021729948307,
                    0.14744296943437057,
                    0.09468150692336633,
                    0.11195183965069601,
                    0.15549551248663943,
                    0.11650509457335063,
                    0.14807118709902678,
                    0.18011959011879503,
                    0.12150963018201426,
                    0.10936160876496077,
                    0.10713943081182052,
                    0.6944244938485957,
                    0.16170780786695757,
                    0.11384922424156249,
                    0.13550686743380025,
                    0.19942038102321577,
                    0.13670789261580926,
                    0.13938581203303785,
                    0.09863210335781446,
                    0.20986736472780218,
                    0.1357574798229144,
                    0.14185082246624456,
                    0.10365118148755254,
                    0.10404318549077358,
                    0.15516737372986789,
                    0.09343957797834126,
                    0.38075289062101053,
                    0.44319148732105845,
                    0.14618633025973854,
                    0.10707422364555919,
                    0.10138668256223342,
                    0.22906198436746153,
                    0.1444584499020093,
                    0.15462939583331545,
                    0.18651990097495624,
                    0.20200027707131107,
                    0.1871696767350823,
                    0.12997854460750002,
                    0.09436143824414171,
                    0.15405048453051526,
                    0.11066480393806843,
                    0.17013607748109008,
                    0.0983592127292923,
                    0.27043070980942274,
                    0.11733025908722718,
                    0.1693243931263637,
                    0.1345807157975992,
                    0.31008077035179016,
                    0.08698570634476642,
                    0.09468533604563176,
                    0.10720903901958767,
                    0.0870819814751613,
                    0.08410303005328464,
                    0.1280135754355586,
                    0.08179427602885808,
                    0.1567766976686693,
                    0.4863648976831229,
                    0.07962843332770835,
                    0.13104347223284052,
                    0.11178844118781732,
                    0.12302691132941794,
                    0.08910874206236255,
                    0.14270438526326362,
                    0.10575143146300646,
                    0.07842493330600712,
                    0.08699302801927462,
                    0.1035104293458318,
                    0.1357165033452367,
                    0.1613896712844141,
                    0.16730088047714975,
                    0.15309068966506081,
                    0.09292289530344439,
                    0.11216672560110945,
                    0.07425608574745061,
                    0.20586685681884734,
                    0.11556557394198888,
                    0.17536771752467883,
                    0.12924482285184222,
                    0.17554824386973072,
                    0.09115904505909946,
                    0.11156047153932504,
                    0.17903016527373938,
                    0.17565110852057372,
                    0.15386776991810858,
                    0.23020420632817168,
                    0.14509163151911852,
                    0.08364049537511666,
                    0.11413690401649226,
                    0.14763728508483584,
                    0.14974038854253222,
                    0.14747093833968059,
                    0.21750940202430083,
                    0.08750183216813893,
                    0.1322923014040691,
                    0.13224221697145197,
                    0.13332773191217762,
                    0.08188762367866187,
                    0.11260169104634273,
                    0.15520169894984773,
                    0.11553483851795786,
                    0.07497155106105843,
                    0.09980270064803001,
                    0.07589980429240759,
                    0.14915729066438216,
                    0.12272409655346957,
                    0.11413690401648863,
                    0.1795525117220686,
                    0.10306823748989641,
                    0.10673105508676643,
                    0.12514411283950705,
                    0.18030810092708094,
                    0.09430247949118398,
                    0.1113969422381561,
                    0.10655096822211564,
                    0.20407290101411174,
                    0.18132571581896825,
                    0.10131738323389497,
                    0.0817988458697745,
                    0.11184719426060163,
                    0.11435009481249651,
                    0.10254989204993453,
                    0.28665755251350955,
                    0.14166406681629212,
                    0.12570039911282155,
                    0.3410642179145495,
                    0.14772172479922469,
                    0.09350951562881092,
                    0.17018651205274954,
                    0.09850919591905637,
                    0.11815851036291744,
                    0.14020259986751973,
                    0.11876466210797171,
                    0.11546127978531781,
                    0.14772172479932874,
                    0.09790457112766521,
                    0.09228336237279648,
                    0.11628817370607213,
                    0.08310346306235528,
                    0.07686497071531724,
                    0.10428791238824509,
                    0.07018746517481292,
                    0.33898133802529223,
                    0.07183671438357563,
                    0.12333817368724352,
                    0.16641690564299158,
                    0.12392828516616153,
                    0.1405222337326162,
                    0.06736427542845838,
                    0.08994435268203854,
                    0.11427487339644254,
                    0.19768297628708215,
                    0.13342060620997973,
                    0.09850919591905642,
                    0.13134652319031553,
                    0.1250027915201675,
                    0.14603955938888566,
                    0.11815851036291744,
                    0.09321903460214019,
                    0.08485224294793507,
                    0.13677678520571376,
                    0.12363615169757784,
                    0.16043556056471628,
                    0.14166406681629212,
                    0.0784596658469729,
                    0.38075289062100726,
                    0.1584292978851559,
                    0.09690817360090226,
                    0.13438349219781967,
                    0.19468430985177068,
                    0.10993786791613085,
                    0.10409520127439785,
                    0.18524392217661134,
                    0.13879017999516519,
                    0.12972101565574704,
                    0.08434859332742024,
                    0.12820316067175927,
                    0.15842929788517007,
                    0.10046663738884376,
                    0.09044694681510802
                  ],
                  "y": [
                    0.6315210788042276,
                    0.5032571060371399,
                    0.3685836309144548,
                    0.148143959273684,
                    0.3627953102354148,
                    0.3899051347817469,
                    0.10083548890011883,
                    0.2823414277790089,
                    0.31474855216176245,
                    0.3159588465451632,
                    -0.03147896980505819,
                    0.7217138928273498,
                    0.25151347355798787,
                    0.21168416397102513,
                    0.306827160214527,
                    0.4144564445237443,
                    0.3106256750007518,
                    0.7003461166157755,
                    0.19309383478918468,
                    0.4080695548354344,
                    0.6196467961802357,
                    0.32519135098773544,
                    0.2584310496329149,
                    0.2067970700799642,
                    0.23767502015611408,
                    0.3134768403838008,
                    0.41047098192819026,
                    0.21036102657426237,
                    0.055536936748928054,
                    0.5830121272258953,
                    0.30641789557863913,
                    0.14931610723420494,
                    0.3434849165637581,
                    -0.05108820534908278,
                    0.5450878139244106,
                    0.18388384140233774,
                    0.5156302622499319,
                    0.5873260688998876,
                    0.2502439431302778,
                    0.2842399479919315,
                    0.3363508302988012,
                    0.008278743685838955,
                    0.2477899494541267,
                    0.16204865128001286,
                    0.4767435792222639,
                    0.3719034646465921,
                    0.4088444846802023,
                    0.4830625863932573,
                    0.4069176117759069,
                    0.20169842408973843,
                    0.07620047559961,
                    0.5240336357640591,
                    0.16158228416176354,
                    0.16966843498078837,
                    0.2792360606052059,
                    0.34384783036322647,
                    0.3223121440670255,
                    0.4372364829980646,
                    0.2867105811585932,
                    0.30988231347643036,
                    0.10690095869019856,
                    0.2048668274716444,
                    -0.03324002815704522,
                    0.18792878057548634,
                    0.3308783070655328,
                    0.5056648591336882,
                    0.05605932217561397,
                    0.46197360966841977,
                    -0.01752476363814835,
                    0.39548996216461285,
                    0.05728626636466907,
                    0.18792878057548174,
                    0.7927776935656532,
                    0.28881039873456843,
                    0.25163698826132547,
                    0.14661793720252606,
                    0.33657860746096285,
                    0.7001579517823636,
                    0.31304166657852744,
                    0.22497424625934442,
                    1.2034748731920795,
                    0.24101170666612284,
                    0.5324816099498407,
                    0.5667819762643466,
                    0.2091773017405463,
                    0.35645609545745827,
                    0.14114876426006806,
                    1.0115730044899072,
                    0.4192488736077953,
                    0.24865458955024666,
                    0.14159400797299931,
                    0.9850545003617536,
                    0.3671127269357933,
                    0.3829606788918658,
                    -0.051088205349082774,
                    0.3668023348866787,
                    0.18036778797428718,
                    0.24434052142058127,
                    0.4807574694922714,
                    1.2034748731920795,
                    0.6828313843761337,
                    0.08328199387479365,
                    0.5571398204526011,
                    0.2992933010337473,
                    0.38758315606626426,
                    0.6650541517187437,
                    0.4279302420217846,
                    0.36627239570568143,
                    0.3755756257668528,
                    0.15326129611073097,
                    0.5150910289315779,
                    0.3501312833122746,
                    0.08996600261354781,
                    0.1987425446345552,
                    0.2700611286986304,
                    0.22761712495579062,
                    0.33963288275777226,
                    0.38837403514500113,
                    0.4699636774312905,
                    0.5093790290542194,
                    0.35575555506377554,
                    0.3988292226064384,
                    -0.06629106155417626,
                    0.33430718485631467,
                    0.15213777832257006,
                    0.32576184937660807,
                    0.3264969820806808,
                    0.8886769334050595,
                    0.12335782803350097,
                    0.6157794101879824,
                    0.35559593876466206,
                    0.20650538811582464,
                    0.367112726935792,
                    0.31057439301432427,
                    0.3375922173593821,
                    0.44494835989199744,
                    0.018216213635244356,
                    0.3193969268632944,
                    0.3091737313848318,
                    0.6062657706217592,
                    0.23076396583991254,
                    0.5030433632559574,
                    0.17068498843094287,
                    0.17005094305170465,
                    0.6849534507894814,
                    1.2699563335104933,
                    0.34378794492862863,
                    0.043948823904718104,
                    0.329332839597439,
                    0.11963618594627726,
                    0.2483894541577082,
                    0.20650538811582475,
                    0.4955745421473667,
                    0.19349258828885,
                    0.2763609593973876,
                    0.035019655279048864,
                    0.5269136677607168,
                    0.3605513632771671,
                    0.47674357922225025,
                    0.522513731519871,
                    -0.06629106155417688,
                    0.5882130194689931,
                    0.6852022118122326,
                    0.02405992213045683,
                    0.3144535055497094,
                    0.48168761143864325,
                    0.2198954053861514,
                    0.28234142777900945,
                    0.47569863478264707,
                    0.35013128331223703,
                    0.2755319707397093,
                    0.27390826976859406,
                    0.48534019835660674,
                    0.410208854596917,
                    0.449067057030353,
                    0.33068864572399626,
                    0.13645314021584,
                    0.028306063547551278,
                    0.11058299008521018,
                    0.27953441940889495,
                    0.2984643624128562,
                    0.5320008885981505,
                    0.39976077611664906,
                    0.14931881183531312,
                    0.9850545003617368,
                    0.16389642096480334,
                    0.48488254803163505,
                    0.45627737971371524,
                    0.24106632511319406,
                    -0.008443807598516763,
                    0.16940227635218094,
                    0.17356381794890618,
                    1.0585230072655416,
                    0.3227130008178596,
                    0.20650538811582517,
                    0.43156518134699856,
                    0.14814395927368365,
                    0.49346554056028674,
                    0.22185097526178119,
                    0.38918369448821394,
                    0.29561588950470524,
                    0.27511030093448735,
                    0.35908058534598636,
                    0.4945664308071964,
                    1.2699563335104924,
                    0.19309383478900038,
                    0.42019897609252577,
                    0.22910759329609418,
                    0.13645314021583993,
                    0.19309383478918468,
                    0.40694646464858286,
                    0.9324173047670906,
                    0.11058299008521454,
                    0.216931204469032,
                    0.4767435792222544,
                    0.19039871216567789,
                    -0.033240028157044216,
                    0.2642496872981675,
                    0.3091476264746458,
                    0.34248608631685573,
                    0.24099064786109306,
                    0.21366877715751023,
                    0.3197241445556095,
                    0.3986597948600701,
                    0.3557562042029563,
                    0.07620047559961,
                    0.3122085254642975,
                    0.22891146943105128,
                    0.15556097783867862,
                    0.34348491656375785,
                    0.23718524384536244,
                    0.28661414935723534,
                    0.2599419008506366,
                    0.48534019835661313,
                    0.2940001466366157,
                    0.47674357922226396,
                    0.5326074403494081,
                    0.29258623336423023,
                    0.3558747561837095,
                    0.23382458454128618,
                    0.26902527031660084,
                    0.5164773137714033,
                    0.4069241651790865,
                    0.42103894182433416,
                    0.19057805795684474,
                    0.30444096650958463,
                    0.2354486569787226,
                    0.46368017330648814,
                    0.32797668204402947,
                    0.3398670549623659,
                    0.33194898177549365,
                    0.4012805791856308,
                    0.20650538811582295,
                    0.3443405273818107,
                    0.1746691564009234,
                    0.24258663471392006,
                    0.39479206145718715,
                    0.29991980550712305,
                    0.4692427969716001,
                    0.5852224273480656,
                    0.3124850726078055,
                    0.24099064786109314,
                    0.4062600534805721,
                    0.44063031456562896,
                    0.4975044352989622,
                    0.1049234919854464,
                    0.2062974386797355,
                    0.38780724106419295,
                    0.49801857826284907,
                    0.24083993837848067,
                    0.1934905925091596,
                    0.2643292228501368,
                    0.6239544559484426,
                    0.388187924556025,
                    0.1707410710597742,
                    0.6711323313518618,
                    0.26570740115903396,
                    0.5996993148961434,
                    0.13565022711375752,
                    0.10945576222539992,
                    -0.00844380758133917,
                    0.5039104603086157,
                    0.33100166576118123,
                    0.5749381373541904,
                    0.271719557778006,
                    0.2061857439387861,
                    0.483500969056366,
                    0.2409906478610932,
                    0.7609531183269276,
                    0.46757713380272325,
                    0.1502061943335078,
                    0.24256244106543215,
                    0.5667819762643473,
                    0.2888103987345685,
                    0.16005552352814056,
                    0.3526086782083042,
                    0.4315864931541576,
                    0.6751633957471457,
                    0.5927966469210547,
                    0.12661699332640142,
                    0.3071151092823623,
                    0.15556097783868647,
                    1.2034748731920795,
                    0.6677194978084255,
                    0.3009893046087911,
                    0.1939941881144818,
                    0.34782452833467603,
                    0.15020663773683168,
                    0.1690440763388018,
                    0.6461928745798717,
                    0.35433029285945167,
                    0.26812913795654525,
                    0.22185097526178135,
                    0.30725496456136064,
                    0.3400373205340143,
                    0.31651677086038665,
                    -0.11113961558971262,
                    0.11273133251572526,
                    0.4945664308071934,
                    0.343484916563757,
                    0.2448263768178403,
                    0.24316231169066843,
                    0.46799630896295796,
                    0.19654419478375743,
                    0.3376593758598797,
                    0.214217559039924,
                    0.11530937376913933,
                    0.32946808426596036,
                    0.2895348157854788,
                    0.4378554652561307,
                    0.20246764915866303,
                    0.2247202960028567,
                    0.2729329590881865,
                    0.17599434235133432,
                    0.16267863745022826,
                    0.2912058890138611,
                    0.4804160623644729,
                    0.29683444613867205,
                    0.3108816972992293,
                    0.31857915770715184,
                    0.18038402879271764,
                    1.2034748731920701,
                    0.16389642096480334,
                    0.22729057083558818,
                    0.5667819762643533,
                    0.2513832172139299,
                    0.3553641605539133,
                    0.3223121440670255,
                    0.07620047559960999,
                    0.46709234780773207,
                    0.4159056551073344,
                    0.14933023169477344,
                    0.19081513293019275,
                    0.48661553669555024,
                    0.22185097526177838,
                    0.494566430807198,
                    0.5164773137714043,
                    0.2169312044690321,
                    0.448508821247153,
                    0.16215343951011724,
                    0.2861838898671833,
                    0.45945348390692764,
                    0.23683257981367473,
                    0.08328199387479494,
                    0.24436211931991153,
                    0.06295284307652872,
                    0.24413336130284394,
                    0.27511030093448346,
                    -0.011912488962381765,
                    0.3435057389632817,
                    0.19059459104764898,
                    0.008278743687226559,
                    0.4556463046959363,
                    0.41275683036959254,
                    0.17398020273217277,
                    0.2482042497721957,
                    0.42185749840800024,
                    0.40991082468973616,
                    -0.3319191032266092,
                    0.1555609778386863,
                    0.6147097155923051,
                    0.5863847070060857,
                    0.22057050367799283,
                    0.7179965489773212,
                    1.0019296019695363,
                    0.22729057083557594,
                    0.594853816788629,
                    0.24886789853552715,
                    0.5076345106924829,
                    0.49767553364200406,
                    0.28234142777900645,
                    0.25761069057882624,
                    0.10492349198544686,
                    0.5146264084864899,
                    0.5080636994333367,
                    0.1633580292759911,
                    0.20897998355229452,
                    0.37916325537409634,
                    0.008210810512309106,
                    0.2804368420035012,
                    0.07620047559948208,
                    0.26753474780279973,
                    0.17073499099635392,
                    0.3875186771867419,
                    0.10108083374940317,
                    0.4092810039952411,
                    0.15425382214805852,
                    0.38747898679500387,
                    0.30810254857440494,
                    0.0034546669727003733,
                    -0.017524763638147794,
                    0.3692537765326021,
                    0.3794956212674724,
                    0.26948996626523397,
                    -0.06629106155417629,
                    0.081417955943267,
                    0.5842206900954257,
                    0.13619732232496343,
                    0.5544788381693957,
                    0.07291217476680242,
                    0.2999198055071242,
                    0.16814384550546865,
                    -0.05108820534908279,
                    0.3348699103631734,
                    0.5301714219150113,
                    0.15425382214805863,
                    0.5816271457737288,
                    0.2636740078585513,
                    0.43512397020592936,
                    -0.17299314795276258,
                    0.1496780181411894,
                    0.24276074011615867,
                    0.6179299874494921,
                    0.20347589761187015,
                    0.46246549519443386,
                    0.2065053881158238,
                    0.38001452940381336,
                    0.2322873991072158,
                    0.299306968157506,
                    0.2873450192704088,
                    0.22185097526178044,
                    0.27486547052485255,
                    0.03501965527906992,
                    0.7988320691461062,
                    0.30417521492240884,
                    0.27511030093445743,
                    0.2604661757216002,
                    0.1494483621721393,
                    0.26703632382598463,
                    0.2190009694026162,
                    0.9850545003616538,
                    0.3351274587764713,
                    0.4425625393933335,
                    0.4315864931541576,
                    0.8249861743779889,
                    0.533566615110654,
                    0.2732258857593398,
                    0.4853401983565639,
                    0.48037335312227597,
                    0.46889126272047194,
                    0.44852138868803626,
                    0.5195309785032481,
                    0.3434849165637581,
                    0.4767435792222585,
                    0.24603035273559315,
                    0.18792878057548643,
                    0.2838051380920824,
                    0.13563938035757844,
                    0.008210810513039828,
                    0.33119302747679175,
                    0.28903387496655425,
                    0.2226055393157245,
                    0.3092088446030685,
                    0.2823414277790093,
                    0.6796013307735435,
                    0.26348206022760845,
                    0.6149345889716467,
                    0.25843104963291325,
                    0.5301715500658486,
                    0.46358419759697816,
                    0.15977116160692062,
                    0.3869896484183257,
                    0.3582319936909828,
                    0.16389642096480303,
                    0.9588238164501558,
                    0.233645511907245,
                    0.20376623153814388,
                    0.6620466653882325,
                    0.055536936748928054,
                    0.2842294783885792,
                    0.1300121565376967,
                    0.1364531402158395,
                    0.28961238750826024,
                    0.3046372536605717,
                    0.03501965527904222,
                    0.18788111578624475,
                    0.291484559627184,
                    0.4943358722323161,
                    0.19802566065782556,
                    0.43723641282928866,
                    0.9850545003617537,
                    0.29930362455705367,
                    0.3223121440670255,
                    0.27326254063033584,
                    -0.008443807581339039,
                    0.39027732379506475,
                    0.2204656811177913,
                    0.22103541709073815,
                    0.343480674883208,
                    0.2899843693980768,
                    0.40470700692492556,
                    0.40806955483543705,
                    0.06008863828448315,
                    0.6505704149511504,
                    0.7609531183269281,
                    0.34109791912105164,
                    -0.01752476363820068,
                    -0.008443807581339006,
                    0.10690095869019851,
                    1.2699563335104933,
                    0.167451552280589,
                    0.16204865128001295,
                    0.22969951895933174,
                    0.11058299008502623,
                    0.015887265310843692,
                    0.18545855845351572,
                    0.5614784886790396,
                    0.5646849991692545,
                    0.38780724106419223,
                    0.5670702570465859,
                    0.34348491656375746,
                    0.35198168676463876,
                    0.10323235948632456,
                    0.3072549645613577,
                    0.3338471006834429,
                    0.15213777832256886,
                    0.47457370813518057,
                    0.38500051222965387,
                    0.2540889645749336,
                    0.4463507341466114,
                    0.5789829933422262,
                    0.4523233901922018,
                    0.809751964898583,
                    0.26753656164835643,
                    0.40806955483543705,
                    0.3443571105142963,
                    0.7491223769814224,
                    0.19143307580516636,
                    0.12335756064925504,
                    1.0250041525990599,
                    0.5335262641278162,
                    0.0034546669748205185,
                    0.22346991065708682,
                    0.3271548712495942,
                    0.03501965527907043,
                    0.2583095691991824,
                    0.3868728463900035,
                    0.49213316070806146,
                    0.24022708431758133,
                    0.10690095869019842,
                    0.5040966339767545,
                    0.3629765956667376,
                    0.20177118162883895,
                    0.26592957687887425,
                    0.19803958774994573,
                    0.22185097526178135,
                    0.024059922130453576,
                    0.24453523285081485,
                    0.2657072307445526,
                    0.8629111170941568,
                    0.12234654345684105,
                    0.2277874985189723,
                    0.29991980550712427,
                    0.45981685855242965,
                    0.00827874368722676,
                    0.5801085574355617,
                    0.6403639512186378,
                    0.4513199576927121,
                    0.17202194039166735,
                    0.18314588582583022,
                    0.2493109168646454,
                    0.0034546669748370925,
                    0.1840994566645732,
                    0.2882530387319417,
                    0.1879287805754865,
                    0.25361079970349565,
                    0.22467899022712112,
                    0.37121716819689565,
                    0.18036601309095796,
                    0.7609531183269223,
                    0.20650538811582456,
                    0.19847151959998216,
                    0.17497592929629185,
                    0.4051494105342447,
                    0.09982706590643609,
                    0.5709946544786709,
                    0.1842337640818709,
                    0.10052910802275519,
                    0.2357670725706709,
                    0.29599392679840186,
                    0.18921600767432517,
                    0.3394549368818124,
                    0.26982287049874715,
                    0.2067970700799639,
                    0.31974660365467966,
                    0.3557542346628983,
                    0.3443617553332563,
                    0.26598146553577856,
                    0.24263423102006115,
                    0.3551549031034804,
                    0.30892826799985584,
                    0.7546193524177008,
                    0.2196067311337488,
                    0.28088673590930285,
                    0.42556532780400946,
                    0.46231622055024046,
                    0.1992828487482427,
                    0.2212398072453045,
                    0.13645314021583993,
                    0.24981574564333858,
                    0.1956719435901066,
                    0.5164773137714032,
                    0.23382118395104262,
                    0.3370723109960663,
                    0.521046091548803,
                    0.640820451735534,
                    0.03229998069827685,
                    0.26494821990587436,
                    0.4387089373295088,
                    0.19309383478918468,
                    0.21739084232209932,
                    0.6095338303206822,
                    0.2899368360227422,
                    0.41154664629573623,
                    0.16823262300858846,
                    0.2960177477492112,
                    0.18792878057548645,
                    0.1555609778386865,
                    0.15556097783868567,
                    0.41131207913612017,
                    0.25843104963291375,
                    0.22521354921061393,
                    0.16204865128001295,
                    0.2557658407905156,
                    0.2704826287467516,
                    0.2804219770296041,
                    0.19604360969433313,
                    0.32157674016467797,
                    0.18507187289660826,
                    0.3876950015997258,
                    0.03501965527907046,
                    0.24603013842890692,
                    0.516477313771402,
                    0.2804314134128376,
                    0.5736230435320306,
                    0.06477462235179432,
                    0.2380504250870848,
                    0.11058299008521306,
                    0.3742861558423268,
                    0.7003461166158131,
                    0.32712722400246486,
                    0.319200881167662,
                    0.3656701722681915,
                    0.4195924582013056,
                    0.2947986248913139,
                    0.5800925245130729,
                    0.22346760246082414,
                    1.0319963475545475,
                    0.22778519466473182,
                    0.447311071862673,
                    0.19130203450911765,
                    0.23837485864386132,
                    0.6431903665551766,
                    0.48534019835661313,
                    0.23481437966008528,
                    0.40921722452254594,
                    0.31535131007453826,
                    0.2634076633115902,
                    0.10690095869018415,
                    0.1521377783225684,
                    0.12053165192812618,
                    0.21777443080123318,
                    0.6403181339230514,
                    0.338510367070465,
                    0.39518651722390263,
                    0.23138005330546146,
                    0.18269481794578699,
                    0.5225085719137168,
                    0.11349750493337524,
                    0.5689454807778216,
                    0.39756478352419866,
                    0.2538472615720562,
                    0.26252275734614494,
                    0.37020456471755897,
                    0.36577134190508714,
                    0.26757277687971687,
                    0.18648674844722424,
                    0.09982141055635811,
                    0.16352301184873913,
                    0.5296155404797155,
                    0.8546113005552939,
                    0.5041014091057942,
                    0.43756039104575684,
                    0.34305865420233495,
                    0.25301184886641725,
                    0.4714904031579835,
                    0.19315941501867634,
                    0.2240680047128111,
                    0.2804223393267172,
                    0.13416758277804533,
                    0.3393601901051842,
                    0.01821621363524441,
                    0.11058299008521452,
                    0.26809026842867667,
                    0.05553693674892798,
                    0.43191349926325534,
                    0.357265600494623,
                    0.2536415673403384,
                    0.3047861254751734,
                    0.616146632623278,
                    0.22263211339895794,
                    0.5544532619338868,
                    1.269956333510491,
                    0.25475099788390315,
                    0.40806955483543633,
                    0.26902254019195004,
                    0.33416712824078365,
                    0.008278743687226559,
                    0.024059922130456827,
                    0.4596433749045794,
                    0.4043428541918251,
                    0.3434849165637588,
                    0.15425382214802952,
                    0.2218509752617808,
                    0.1811189796970432,
                    0.21133955958135742,
                    0.15926438787423808,
                    0.4059700341961671,
                    0.11809253061507964,
                    0.16616119760270487,
                    0.24406448219300406,
                    0.19081513293019275,
                    0.1359611774772976,
                    0.4822110147682198,
                    0.2952712716341184,
                    0.16204865128001295,
                    0.7116840226410917,
                    0.14716609153468854,
                    0.516477313771405,
                    0.21646643895317605,
                    0.29058015191142716,
                    0.2854253496908439,
                    0.19951798233464899,
                    0.5036975303641681,
                    0.3445527213149001,
                    0.6644191477667563,
                    0.5599236642305812,
                    0.28196172772680755,
                    0.4945664308071975,
                    0.4537351979256231,
                    0.48534019835658043,
                    0.17397373570853736,
                    0.5434173804781405,
                    0.26865254609302297,
                    0.37672181915155,
                    0.47542439944953946,
                    0.18977718838685698,
                    0.32442708548133203,
                    0.2772133269846879,
                    0.293153795264518,
                    0.9470069987340949,
                    0.45046116935928404,
                    0.3378966949953017,
                    0.11847122673216155,
                    0.38803394674516295,
                    0.1434734096278889,
                    0.9427573520793217,
                    0.3604701424266084,
                    0.27891075908868296,
                    0.5910122410287176,
                    0.17569031750205039,
                    0.3438320290390531,
                    0.6829222795563733,
                    0.20650538811582517,
                    0.2756026610147538,
                    0.42599677157085014,
                    -0.017524763638147887,
                    0.10492349198544683,
                    0.08328199387479492,
                    0.2716984487305386,
                    0.16458951260836535,
                    0.289431141468654,
                    0.7543598458486902,
                    0.17075021405504814,
                    0.2512006132604305,
                    0.148143959273684,
                    0.2959990293126052,
                    0.2905806552987783,
                    0.008278743687226737,
                    0.16389642096480328,
                    0.45799244796346106,
                    0.1963544482710338,
                    0.47804664918800277,
                    0.3671127269357938,
                    0.2999198055071242,
                    0.47728368831292484,
                    0.3091106581915367,
                    0.13645314021539115,
                    0.6755540018104892,
                    0.2608979597045741,
                    0.4715118118051007,
                    0.2407975792108042,
                    0.17758484056213794,
                    0.04841531098860733,
                    0.28234142777900934,
                    0.22599850522616383,
                    0.24086360019050648,
                    0.34714006090122007,
                    0.48880522452077263,
                    0.37970708586510304,
                    0.2564125586979151,
                    0.13001215653769696,
                    0.3072549645613607,
                    0.48008634216463564,
                    0.37891872987518466,
                    0.24469541372990386,
                    0.335778244174305,
                    0.5013119952231371,
                    0.5281048446211755,
                    0.05651923226939451,
                    0.2862377242762701,
                    0.318964010193463,
                    -0.05108820534908293,
                    0.3611310119726158,
                    0.5205556076045604,
                    0.4580628559128469,
                    0.5725527863422861,
                    0.3223121440670255,
                    0.5324074762995943,
                    0.26448256886910293,
                    0.7609531183269292,
                    0.06190094933401985,
                    0.5039117508905113,
                    0.3153039342858232,
                    0.28222388945772725,
                    0.024059922130456834,
                    0.2571103874715352,
                    0.6196467961802357,
                    1.2034748731920795,
                    0.3264563537258522,
                    0.347381114968102,
                    0.2792439161650793,
                    -0.03324002815752982,
                    0.39328241416006904,
                    0.48534019835661224,
                    0.04824144860176017,
                    0.6755293348177382,
                    0.38780724106419295,
                    0.3920892414717674,
                    0.2354604445093635,
                    0.20679707007996395,
                    0.31920293433048047,
                    0.3597179441007598,
                    0.3310986426243444,
                    0.9850545003617535,
                    0.36621447271452134,
                    0.3439744519261468,
                    0.021311722999910628,
                    0.9310278086104316,
                    0.2514061119474996,
                    0.24911428584048295,
                    0.4773104655248347,
                    0.35842346183510265,
                    0.15435561029034875,
                    0.2192688097596287,
                    0.14960461053375612,
                    0.3496495700460903,
                    1.2699563335104924,
                    0.4159372694851339,
                    0.2915294602131117,
                    0.284331521374689,
                    0.5403430276512098,
                    0.1415968524346471,
                    0.6051282443646107,
                    0.3937988603475156,
                    0.18712307164641154,
                    0.2514272814580536,
                    0.27896041066167954,
                    0.4283117262252969,
                    0.15057178611249805,
                    0.48886320022072016,
                    0.5720431727072428,
                    0.1978966373906526,
                    0.33463394895681886,
                    0.31312891169678303,
                    0.5582345383168004,
                    0.29991980550712255,
                    0.6292695434033102,
                    0.4836817099862876,
                    0.6710381621987824,
                    0.4057592221856766,
                    0.315960469511848,
                    0.40806955483543705,
                    0.8062108366138097,
                    0.046832481772617916,
                    0.5089263813951113,
                    0.4816133232513883,
                    0.250620426329946,
                    0.08328199387479492,
                    0.5342736795275514,
                    0.5249040776998952,
                    0.33035118436748734,
                    0.4550054903469555,
                    0.10537474633143522,
                    0.38896581341359526,
                    0.15054790593704281,
                    0.29823685797794225,
                    0.2656885526219327,
                    0.2725986623743009,
                    0.5890825374279012,
                    0.3493129658942575,
                    0.13449627018670934,
                    0.2506328375977729,
                    0.297465992543745,
                    0.4206690210669821,
                    0.2483531293319504,
                    0.08328199387478469,
                    0.6431287565453316,
                    0.39610133513489876,
                    0.2859752335069314,
                    0.31670201206755044,
                    0.3891385734376158,
                    0.28155797934644994,
                    0.18258513179808594,
                    0.3047837181366861,
                    0.7482703205936099,
                    0.823861093152763,
                    0.2521390160259578,
                    0.2228406219545438,
                    0.32112622196236773,
                    0.24769487348366195,
                    0.20913221112777636,
                    0.840543756340068,
                    0.24099064786109337,
                    0.4921348461740531,
                    1.234404347203996,
                    0.22729057083558815,
                    0.38771154657238616,
                    0.5669947623915821,
                    0.19309383478918435,
                    0.15425382214805863,
                    0.470081846018499,
                    0.39882395672034243,
                    0.4293251399255752,
                    0.2272905708284524,
                    0.2880909576330958,
                    0.22921126232260927,
                    0.4181268414078436,
                    0.230794935804231,
                    0.31715959667655336,
                    0.36172204928861273,
                    0.21951934840374815,
                    0.5527558042840431,
                    0.2598778563479647,
                    0.0034546669746388634,
                    0.28388831864873326,
                    0.4240776044018689,
                    0.5909949961134959,
                    0.25229597995544395,
                    0.2397121983009204,
                    0.18921748650804,
                    0.7003461166158131,
                    0.4422036477344596,
                    0.19309383478918468,
                    0.015886556990910298,
                    0.41701757643284254,
                    0.34642908151511387,
                    0.15425382214805863,
                    0.13645314021584,
                    0.24436020465048758,
                    0.30804519596554175,
                    0.40652652022141905,
                    0.4781075307178704,
                    0.24099064786109334,
                    0.3274449980209592,
                    0.6196467961802138,
                    0.00827874368722189,
                    0.2756087632115511,
                    0.055536936748928054,
                    0.6371940187407956,
                    0.18619211385732715,
                    0.24793835561424918,
                    0.6814073864747866,
                    0.30246491410556275,
                    0.43442667802051604,
                    0.10049490398975473,
                    0.4067689545380486,
                    0.00827874368722676,
                    0.16946410547851487,
                    0.29729494128927253
                  ]
                }
              ],
              "layout": {
                "template": {
                  "data": {
                    "bar": [
                      {
                        "error_x": {
                          "color": "#2a3f5f"
                        },
                        "error_y": {
                          "color": "#2a3f5f"
                        },
                        "marker": {
                          "line": {
                            "color": "#E5ECF6",
                            "width": 0.5
                          },
                          "pattern": {
                            "fillmode": "overlay",
                            "size": 10,
                            "solidity": 0.2
                          }
                        },
                        "type": "bar"
                      }
                    ],
                    "barpolar": [
                      {
                        "marker": {
                          "line": {
                            "color": "#E5ECF6",
                            "width": 0.5
                          },
                          "pattern": {
                            "fillmode": "overlay",
                            "size": 10,
                            "solidity": 0.2
                          }
                        },
                        "type": "barpolar"
                      }
                    ],
                    "carpet": [
                      {
                        "aaxis": {
                          "endlinecolor": "#2a3f5f",
                          "gridcolor": "white",
                          "linecolor": "white",
                          "minorgridcolor": "white",
                          "startlinecolor": "#2a3f5f"
                        },
                        "baxis": {
                          "endlinecolor": "#2a3f5f",
                          "gridcolor": "white",
                          "linecolor": "white",
                          "minorgridcolor": "white",
                          "startlinecolor": "#2a3f5f"
                        },
                        "type": "carpet"
                      }
                    ],
                    "choropleth": [
                      {
                        "colorbar": {
                          "outlinewidth": 0,
                          "ticks": ""
                        },
                        "type": "choropleth"
                      }
                    ],
                    "contour": [
                      {
                        "colorbar": {
                          "outlinewidth": 0,
                          "ticks": ""
                        },
                        "colorscale": [
                          [
                            0,
                            "#0d0887"
                          ],
                          [
                            0.1111111111111111,
                            "#46039f"
                          ],
                          [
                            0.2222222222222222,
                            "#7201a8"
                          ],
                          [
                            0.3333333333333333,
                            "#9c179e"
                          ],
                          [
                            0.4444444444444444,
                            "#bd3786"
                          ],
                          [
                            0.5555555555555556,
                            "#d8576b"
                          ],
                          [
                            0.6666666666666666,
                            "#ed7953"
                          ],
                          [
                            0.7777777777777778,
                            "#fb9f3a"
                          ],
                          [
                            0.8888888888888888,
                            "#fdca26"
                          ],
                          [
                            1,
                            "#f0f921"
                          ]
                        ],
                        "type": "contour"
                      }
                    ],
                    "contourcarpet": [
                      {
                        "colorbar": {
                          "outlinewidth": 0,
                          "ticks": ""
                        },
                        "type": "contourcarpet"
                      }
                    ],
                    "heatmap": [
                      {
                        "colorbar": {
                          "outlinewidth": 0,
                          "ticks": ""
                        },
                        "colorscale": [
                          [
                            0,
                            "#0d0887"
                          ],
                          [
                            0.1111111111111111,
                            "#46039f"
                          ],
                          [
                            0.2222222222222222,
                            "#7201a8"
                          ],
                          [
                            0.3333333333333333,
                            "#9c179e"
                          ],
                          [
                            0.4444444444444444,
                            "#bd3786"
                          ],
                          [
                            0.5555555555555556,
                            "#d8576b"
                          ],
                          [
                            0.6666666666666666,
                            "#ed7953"
                          ],
                          [
                            0.7777777777777778,
                            "#fb9f3a"
                          ],
                          [
                            0.8888888888888888,
                            "#fdca26"
                          ],
                          [
                            1,
                            "#f0f921"
                          ]
                        ],
                        "type": "heatmap"
                      }
                    ],
                    "histogram": [
                      {
                        "marker": {
                          "pattern": {
                            "fillmode": "overlay",
                            "size": 10,
                            "solidity": 0.2
                          }
                        },
                        "type": "histogram"
                      }
                    ],
                    "histogram2d": [
                      {
                        "colorbar": {
                          "outlinewidth": 0,
                          "ticks": ""
                        },
                        "colorscale": [
                          [
                            0,
                            "#0d0887"
                          ],
                          [
                            0.1111111111111111,
                            "#46039f"
                          ],
                          [
                            0.2222222222222222,
                            "#7201a8"
                          ],
                          [
                            0.3333333333333333,
                            "#9c179e"
                          ],
                          [
                            0.4444444444444444,
                            "#bd3786"
                          ],
                          [
                            0.5555555555555556,
                            "#d8576b"
                          ],
                          [
                            0.6666666666666666,
                            "#ed7953"
                          ],
                          [
                            0.7777777777777778,
                            "#fb9f3a"
                          ],
                          [
                            0.8888888888888888,
                            "#fdca26"
                          ],
                          [
                            1,
                            "#f0f921"
                          ]
                        ],
                        "type": "histogram2d"
                      }
                    ],
                    "histogram2dcontour": [
                      {
                        "colorbar": {
                          "outlinewidth": 0,
                          "ticks": ""
                        },
                        "colorscale": [
                          [
                            0,
                            "#0d0887"
                          ],
                          [
                            0.1111111111111111,
                            "#46039f"
                          ],
                          [
                            0.2222222222222222,
                            "#7201a8"
                          ],
                          [
                            0.3333333333333333,
                            "#9c179e"
                          ],
                          [
                            0.4444444444444444,
                            "#bd3786"
                          ],
                          [
                            0.5555555555555556,
                            "#d8576b"
                          ],
                          [
                            0.6666666666666666,
                            "#ed7953"
                          ],
                          [
                            0.7777777777777778,
                            "#fb9f3a"
                          ],
                          [
                            0.8888888888888888,
                            "#fdca26"
                          ],
                          [
                            1,
                            "#f0f921"
                          ]
                        ],
                        "type": "histogram2dcontour"
                      }
                    ],
                    "mesh3d": [
                      {
                        "colorbar": {
                          "outlinewidth": 0,
                          "ticks": ""
                        },
                        "type": "mesh3d"
                      }
                    ],
                    "parcoords": [
                      {
                        "line": {
                          "colorbar": {
                            "outlinewidth": 0,
                            "ticks": ""
                          }
                        },
                        "type": "parcoords"
                      }
                    ],
                    "pie": [
                      {
                        "automargin": true,
                        "type": "pie"
                      }
                    ],
                    "scatter": [
                      {
                        "fillpattern": {
                          "fillmode": "overlay",
                          "size": 10,
                          "solidity": 0.2
                        },
                        "type": "scatter"
                      }
                    ],
                    "scatter3d": [
                      {
                        "line": {
                          "colorbar": {
                            "outlinewidth": 0,
                            "ticks": ""
                          }
                        },
                        "marker": {
                          "colorbar": {
                            "outlinewidth": 0,
                            "ticks": ""
                          }
                        },
                        "type": "scatter3d"
                      }
                    ],
                    "scattercarpet": [
                      {
                        "marker": {
                          "colorbar": {
                            "outlinewidth": 0,
                            "ticks": ""
                          }
                        },
                        "type": "scattercarpet"
                      }
                    ],
                    "scattergeo": [
                      {
                        "marker": {
                          "colorbar": {
                            "outlinewidth": 0,
                            "ticks": ""
                          }
                        },
                        "type": "scattergeo"
                      }
                    ],
                    "scattergl": [
                      {
                        "marker": {
                          "colorbar": {
                            "outlinewidth": 0,
                            "ticks": ""
                          }
                        },
                        "type": "scattergl"
                      }
                    ],
                    "scattermap": [
                      {
                        "marker": {
                          "colorbar": {
                            "outlinewidth": 0,
                            "ticks": ""
                          }
                        },
                        "type": "scattermap"
                      }
                    ],
                    "scattermapbox": [
                      {
                        "marker": {
                          "colorbar": {
                            "outlinewidth": 0,
                            "ticks": ""
                          }
                        },
                        "type": "scattermapbox"
                      }
                    ],
                    "scatterpolar": [
                      {
                        "marker": {
                          "colorbar": {
                            "outlinewidth": 0,
                            "ticks": ""
                          }
                        },
                        "type": "scatterpolar"
                      }
                    ],
                    "scatterpolargl": [
                      {
                        "marker": {
                          "colorbar": {
                            "outlinewidth": 0,
                            "ticks": ""
                          }
                        },
                        "type": "scatterpolargl"
                      }
                    ],
                    "scatterternary": [
                      {
                        "marker": {
                          "colorbar": {
                            "outlinewidth": 0,
                            "ticks": ""
                          }
                        },
                        "type": "scatterternary"
                      }
                    ],
                    "surface": [
                      {
                        "colorbar": {
                          "outlinewidth": 0,
                          "ticks": ""
                        },
                        "colorscale": [
                          [
                            0,
                            "#0d0887"
                          ],
                          [
                            0.1111111111111111,
                            "#46039f"
                          ],
                          [
                            0.2222222222222222,
                            "#7201a8"
                          ],
                          [
                            0.3333333333333333,
                            "#9c179e"
                          ],
                          [
                            0.4444444444444444,
                            "#bd3786"
                          ],
                          [
                            0.5555555555555556,
                            "#d8576b"
                          ],
                          [
                            0.6666666666666666,
                            "#ed7953"
                          ],
                          [
                            0.7777777777777778,
                            "#fb9f3a"
                          ],
                          [
                            0.8888888888888888,
                            "#fdca26"
                          ],
                          [
                            1,
                            "#f0f921"
                          ]
                        ],
                        "type": "surface"
                      }
                    ],
                    "table": [
                      {
                        "cells": {
                          "fill": {
                            "color": "#EBF0F8"
                          },
                          "line": {
                            "color": "white"
                          }
                        },
                        "header": {
                          "fill": {
                            "color": "#C8D4E3"
                          },
                          "line": {
                            "color": "white"
                          }
                        },
                        "type": "table"
                      }
                    ]
                  },
                  "layout": {
                    "annotationdefaults": {
                      "arrowcolor": "#2a3f5f",
                      "arrowhead": 0,
                      "arrowwidth": 1
                    },
                    "autotypenumbers": "strict",
                    "coloraxis": {
                      "colorbar": {
                        "outlinewidth": 0,
                        "ticks": ""
                      }
                    },
                    "colorscale": {
                      "diverging": [
                        [
                          0,
                          "#8e0152"
                        ],
                        [
                          0.1,
                          "#c51b7d"
                        ],
                        [
                          0.2,
                          "#de77ae"
                        ],
                        [
                          0.3,
                          "#f1b6da"
                        ],
                        [
                          0.4,
                          "#fde0ef"
                        ],
                        [
                          0.5,
                          "#f7f7f7"
                        ],
                        [
                          0.6,
                          "#e6f5d0"
                        ],
                        [
                          0.7,
                          "#b8e186"
                        ],
                        [
                          0.8,
                          "#7fbc41"
                        ],
                        [
                          0.9,
                          "#4d9221"
                        ],
                        [
                          1,
                          "#276419"
                        ]
                      ],
                      "sequential": [
                        [
                          0,
                          "#0d0887"
                        ],
                        [
                          0.1111111111111111,
                          "#46039f"
                        ],
                        [
                          0.2222222222222222,
                          "#7201a8"
                        ],
                        [
                          0.3333333333333333,
                          "#9c179e"
                        ],
                        [
                          0.4444444444444444,
                          "#bd3786"
                        ],
                        [
                          0.5555555555555556,
                          "#d8576b"
                        ],
                        [
                          0.6666666666666666,
                          "#ed7953"
                        ],
                        [
                          0.7777777777777778,
                          "#fb9f3a"
                        ],
                        [
                          0.8888888888888888,
                          "#fdca26"
                        ],
                        [
                          1,
                          "#f0f921"
                        ]
                      ],
                      "sequentialminus": [
                        [
                          0,
                          "#0d0887"
                        ],
                        [
                          0.1111111111111111,
                          "#46039f"
                        ],
                        [
                          0.2222222222222222,
                          "#7201a8"
                        ],
                        [
                          0.3333333333333333,
                          "#9c179e"
                        ],
                        [
                          0.4444444444444444,
                          "#bd3786"
                        ],
                        [
                          0.5555555555555556,
                          "#d8576b"
                        ],
                        [
                          0.6666666666666666,
                          "#ed7953"
                        ],
                        [
                          0.7777777777777778,
                          "#fb9f3a"
                        ],
                        [
                          0.8888888888888888,
                          "#fdca26"
                        ],
                        [
                          1,
                          "#f0f921"
                        ]
                      ]
                    },
                    "colorway": [
                      "#636efa",
                      "#EF553B",
                      "#00cc96",
                      "#ab63fa",
                      "#FFA15A",
                      "#19d3f3",
                      "#FF6692",
                      "#B6E880",
                      "#FF97FF",
                      "#FECB52"
                    ],
                    "font": {
                      "color": "#2a3f5f"
                    },
                    "geo": {
                      "bgcolor": "white",
                      "lakecolor": "white",
                      "landcolor": "#E5ECF6",
                      "showlakes": true,
                      "showland": true,
                      "subunitcolor": "white"
                    },
                    "hoverlabel": {
                      "align": "left"
                    },
                    "hovermode": "closest",
                    "mapbox": {
                      "style": "light"
                    },
                    "paper_bgcolor": "white",
                    "plot_bgcolor": "#E5ECF6",
                    "polar": {
                      "angularaxis": {
                        "gridcolor": "white",
                        "linecolor": "white",
                        "ticks": ""
                      },
                      "bgcolor": "#E5ECF6",
                      "radialaxis": {
                        "gridcolor": "white",
                        "linecolor": "white",
                        "ticks": ""
                      }
                    },
                    "scene": {
                      "xaxis": {
                        "backgroundcolor": "#E5ECF6",
                        "gridcolor": "white",
                        "gridwidth": 2,
                        "linecolor": "white",
                        "showbackground": true,
                        "ticks": "",
                        "zerolinecolor": "white"
                      },
                      "yaxis": {
                        "backgroundcolor": "#E5ECF6",
                        "gridcolor": "white",
                        "gridwidth": 2,
                        "linecolor": "white",
                        "showbackground": true,
                        "ticks": "",
                        "zerolinecolor": "white"
                      },
                      "zaxis": {
                        "backgroundcolor": "#E5ECF6",
                        "gridcolor": "white",
                        "gridwidth": 2,
                        "linecolor": "white",
                        "showbackground": true,
                        "ticks": "",
                        "zerolinecolor": "white"
                      }
                    },
                    "shapedefaults": {
                      "line": {
                        "color": "#2a3f5f"
                      }
                    },
                    "ternary": {
                      "aaxis": {
                        "gridcolor": "white",
                        "linecolor": "white",
                        "ticks": ""
                      },
                      "baxis": {
                        "gridcolor": "white",
                        "linecolor": "white",
                        "ticks": ""
                      },
                      "bgcolor": "#E5ECF6",
                      "caxis": {
                        "gridcolor": "white",
                        "linecolor": "white",
                        "ticks": ""
                      }
                    },
                    "title": {
                      "x": 0.05
                    },
                    "xaxis": {
                      "automargin": true,
                      "gridcolor": "white",
                      "linecolor": "white",
                      "ticks": "",
                      "title": {
                        "standoff": 15
                      },
                      "zerolinecolor": "white",
                      "zerolinewidth": 2
                    },
                    "yaxis": {
                      "automargin": true,
                      "gridcolor": "white",
                      "linecolor": "white",
                      "ticks": "",
                      "title": {
                        "standoff": 15
                      },
                      "zerolinecolor": "white",
                      "zerolinewidth": 2
                    }
                  }
                },
                "title": {
                  "text": "Sample of Random Portfolios"
                },
                "xaxis": {
                  "title": {
                    "text": "Volatility (Standard Deviation)"
                  }
                },
                "yaxis": {
                  "title": {
                    "text": "Annualised Returns"
                  }
                }
              }
            }
          },
          "metadata": {},
          "output_type": "display_data"
        }
      ],
      "source": [
        "fig1 = go.Figure()\n",
        "\n",
        "fig1.add_trace(go.Scatter(\n",
        "    x=[np.sqrt(p[\"variance\"]) for p in all_portfolios],\n",
        "    y=[p[\"return\"] for p in all_portfolios],\n",
        "    mode='markers',\n",
        "    marker=dict(\n",
        "        color=[p[\"sharpe\"] for p in all_portfolios],\n",
        "        showscale=True,\n",
        "        size=7,\n",
        "        line=dict(width=1),\n",
        "        colorscale=\"RdBu\",\n",
        "        colorbar=dict(title=\"Sharpe<br>Ratio\")\n",
        "    ),\n",
        "    hoverinfo='text',\n",
        "    text=[\n",
        "        f\"Return: {p['return']:.3%}<br>Volatility: {np.sqrt(p['variance']):.3f}<br>\" +\n",
        "        f\"Sharpe Ratio: {p['return'] / (np.sqrt(p['variance'])):.3f}<br>\" +\n",
        "        \"<br>\".join([f\"{p['tickers'][i]}: Weight={p['weights'][i]:.3f}\" for i in range(len(p['tickers']))])\n",
        "        for p in all_portfolios\n",
        "    ]\n",
        "))\n",
        "\n",
        "fig1.update_layout(\n",
        "    xaxis=dict(title='Volatility (Standard Deviation)'),\n",
        "    yaxis=dict(title='Annualised Returns'),\n",
        "    title='Sample of Random Portfolios'\n",
        ")\n",
        "\n",
        "fig1.show()"
      ]
    },
    {
      "cell_type": "code",
      "execution_count": 57,
      "metadata": {
        "id": "uHkH6APvabDV",
        "outputId": "162334c7-50bd-4a43-f2e3-a19de077fdb7"
      },
      "outputs": [
        {
          "data": {
            "application/vnd.plotly.v1+json": {
              "config": {
                "plotlyServerURL": "https://plot.ly"
              },
              "data": [
                {
                  "hoverinfo": "text",
                  "marker": {
                    "color": [
                      4.035434278610907,
                      3.7091693151370424,
                      3.6068300934987216,
                      3.693866825722832,
                      3.480624654861786,
                      3.8060306401890815,
                      2.7004540604586342,
                      3.46371230632327,
                      3.469135944254598,
                      2.707210655442313,
                      3.740976011503354,
                      3.950279286978456,
                      4.26476153120812,
                      3.9857795850030033,
                      3.0431495279922207,
                      3.8528321878270573,
                      3.9713501968462457,
                      4.155842383038958,
                      4.269707656135502,
                      2.627449750171501,
                      2.7154738022308935,
                      2.8965759507839044,
                      5.063435511627329,
                      3.6425393442036893,
                      4.260895607580648,
                      3.636855409217052,
                      4.019349130000221,
                      4.9657490747374835,
                      4.9242563775812425,
                      4.162280019589181,
                      2.611118400115084,
                      3.3834552137152887,
                      4.337709310453937,
                      4.279542663080016,
                      3.0778550267769824,
                      4.50384326674688,
                      3.6425393442036835,
                      4.171371105854601,
                      2.6111184001150836,
                      3.3737058514581726,
                      4.876048038217333,
                      4.7359703845354,
                      3.8225284561018795,
                      4.916561044343422,
                      3.62587636869546,
                      3.755891811090304,
                      4.293387933374716,
                      3.250579895526931,
                      2.715473802230892,
                      3.5487853685158464,
                      3.1858009172200097,
                      4.330625902507373,
                      3.7719814226083805,
                      4.954970192027135,
                      3.5460085684862976,
                      5.194195272714021,
                      4.988136377908989,
                      3.546008902055181,
                      3.1702633498829496,
                      2.611118400115084,
                      3.3189901974062357,
                      3.838910545168836,
                      5.070539725917224,
                      2.611118400115084,
                      5.22347674194916,
                      3.8225284822372845,
                      4.589842007853765,
                      4.543542483379955,
                      3.6192725075406904,
                      3.6176189094664637
                    ],
                    "colorbar": {
                      "title": {
                        "text": "Sharpe<br>Ratio"
                      }
                    },
                    "colorscale": [
                      [
                        0,
                        "rgb(103,0,31)"
                      ],
                      [
                        0.1,
                        "rgb(178,24,43)"
                      ],
                      [
                        0.2,
                        "rgb(214,96,77)"
                      ],
                      [
                        0.3,
                        "rgb(244,165,130)"
                      ],
                      [
                        0.4,
                        "rgb(253,219,199)"
                      ],
                      [
                        0.5,
                        "rgb(247,247,247)"
                      ],
                      [
                        0.6,
                        "rgb(209,229,240)"
                      ],
                      [
                        0.7,
                        "rgb(146,197,222)"
                      ],
                      [
                        0.8,
                        "rgb(67,147,195)"
                      ],
                      [
                        0.9,
                        "rgb(33,102,172)"
                      ],
                      [
                        1,
                        "rgb(5,48,97)"
                      ]
                    ],
                    "line": {
                      "width": 1
                    },
                    "showscale": true,
                    "size": 7
                  },
                  "mode": "markers",
                  "name": "Portfolios",
                  "text": [
                    "Return: 63.152%<br>Volatility: 0.156<br>Sharpe Ratio: 4.035<br>BABA_Close: Weight=0.525<br>TMO_Close: Weight=0.475<br>GM_Close: Weight=0.000<br>K_Close: Weight=0.000",
                    "Return: 50.326%<br>Volatility: 0.136<br>Sharpe Ratio: 3.709<br>ISRG_Close: Weight=0.600<br>SNAP_Close: Weight=0.000<br>DE_Close: Weight=0.400",
                    "Return: 36.858%<br>Volatility: 0.102<br>Sharpe Ratio: 3.607<br>JNJ_Close: Weight=0.374<br>MCD_Close: Weight=0.626<br>HD_Close: Weight=0.000<br>UA_Close: Weight=0.000",
                    "Return: 36.280%<br>Volatility: 0.098<br>Sharpe Ratio: 3.694<br>ISRG_Close: Weight=0.494<br>AEP_Close: Weight=0.506<br>GS_Close: Weight=0.000<br>DIS_Close: Weight=0.000",
                    "Return: 31.475%<br>Volatility: 0.090<br>Sharpe Ratio: 3.481<br>QCOM_Close: Weight=0.000<br>EXC_Close: Weight=0.000<br>NEE_Close: Weight=0.693<br>ORCL_Close: Weight=0.307",
                    "Return: 72.171%<br>Volatility: 0.190<br>Sharpe Ratio: 3.806<br>RDY_Close: Weight=0.000<br>SAP_Close: Weight=0.389<br>BABA_Close: Weight=0.611",
                    "Return: 21.168%<br>Volatility: 0.078<br>Sharpe Ratio: 2.700<br>DUK_Close: Weight=0.417<br>AAPL_Close: Weight=0.160<br>WMT_Close: Weight=0.423<br>AMGN_Close: Weight=0.000",
                    "Return: 41.446%<br>Volatility: 0.120<br>Sharpe Ratio: 3.464<br>MCD_Close: Weight=0.736<br>TMO_Close: Weight=0.264<br>BMY_Close: Weight=0.000",
                    "Return: 31.063%<br>Volatility: 0.090<br>Sharpe Ratio: 3.469<br>EXC_Close: Weight=0.217<br>V_Close: Weight=0.439<br>CAT_Close: Weight=0.199<br>AMZN_Close: Weight=0.144",
                    "Return: 23.768%<br>Volatility: 0.088<br>Sharpe Ratio: 2.707<br>PEP_Close: Weight=0.646<br>ORCL_Close: Weight=0.354<br>SNAP_Close: Weight=0.000",
                    "Return: 41.047%<br>Volatility: 0.110<br>Sharpe Ratio: 3.741<br>WMT_Close: Weight=0.345<br>MCD_Close: Weight=0.611<br>ACN_Close: Weight=0.044",
                    "Return: 54.509%<br>Volatility: 0.138<br>Sharpe Ratio: 3.950<br>PYPL_Close: Weight=0.570<br>TSLA_Close: Weight=0.127<br>SRE_Close: Weight=0.303<br>MO_Close: Weight=0.000",
                    "Return: 51.563%<br>Volatility: 0.121<br>Sharpe Ratio: 4.265<br>ISRG_Close: Weight=0.432<br>MCD_Close: Weight=0.568<br>ZBH_Close: Weight=0.000",
                    "Return: 58.733%<br>Volatility: 0.147<br>Sharpe Ratio: 3.986<br>ORCL_Close: Weight=0.362<br>BA_Close: Weight=0.638<br>GIS_Close: Weight=0.000<br>T_Close: Weight=0.000",
                    "Return: 25.024%<br>Volatility: 0.082<br>Sharpe Ratio: 3.043<br>JNJ_Close: Weight=0.283<br>LMT_Close: Weight=0.384<br>ZBH_Close: Weight=0.000<br>MSFT_Close: Weight=0.333",
                    "Return: 28.424%<br>Volatility: 0.074<br>Sharpe Ratio: 3.853<br>ETN_Close: Weight=0.188<br>REGN_Close: Weight=0.141<br>INTC_Close: Weight=0.000<br>KO_Close: Weight=0.671",
                    "Return: 33.635%<br>Volatility: 0.085<br>Sharpe Ratio: 3.971<br>WMT_Close: Weight=0.268<br>MSFT_Close: Weight=0.311<br>UNH_Close: Weight=0.421<br>GE_Close: Weight=0.000",
                    "Return: 37.190%<br>Volatility: 0.089<br>Sharpe Ratio: 4.156<br>META_Close: Weight=0.425<br>NEE_Close: Weight=0.497<br>PEP_Close: Weight=0.078",
                    "Return: 50.566%<br>Volatility: 0.118<br>Sharpe Ratio: 4.270<br>ISRG_Close: Weight=0.423<br>MCD_Close: Weight=0.555<br>NKE_Close: Weight=0.022",
                    "Return: 79.278%<br>Volatility: 0.302<br>Sharpe Ratio: 2.627<br>BTI_Close: Weight=0.000<br>PG_Close: Weight=0.386<br>VRTX_Close: Weight=0.614",
                    "Return: 120.347%<br>Volatility: 0.443<br>Sharpe Ratio: 2.715<br>NVDA_Close: Weight=1.000<br>SNAP_Close: Weight=0.000<br>BAC_Close: Weight=0.000<br>EMR_Close: Weight=0.000",
                    "Return: 101.157%<br>Volatility: 0.349<br>Sharpe Ratio: 2.897<br>TSLA_Close: Weight=0.329<br>NVDA_Close: Weight=0.671<br>RDY_Close: Weight=0.000<br>MO_Close: Weight=0.000",
                    "Return: 41.925%<br>Volatility: 0.083<br>Sharpe Ratio: 5.063<br>MCD_Close: Weight=0.249<br>NEE_Close: Weight=0.424<br>ISRG_Close: Weight=0.263<br>CAT_Close: Weight=0.065",
                    "Return: 98.505%<br>Volatility: 0.270<br>Sharpe Ratio: 3.643<br>EMR_Close: Weight=0.000<br>BABA_Close: Weight=1.000<br>GM_Close: Weight=0.000<br>F_Close: Weight=0.000",
                    "Return: 48.076%<br>Volatility: 0.113<br>Sharpe Ratio: 4.261<br>MDT_Close: Weight=0.000<br>ADBE_Close: Weight=0.467<br>MCD_Close: Weight=0.533",
                    "Return: 68.283%<br>Volatility: 0.188<br>Sharpe Ratio: 3.637<br>MMM_Close: Weight=0.129<br>BIIB_Close: Weight=0.000<br>PYPL_Close: Weight=0.871",
                    "Return: 29.929%<br>Volatility: 0.074<br>Sharpe Ratio: 4.019<br>ABBV_Close: Weight=0.247<br>ORCL_Close: Weight=0.161<br>WMT_Close: Weight=0.282<br>LMT_Close: Weight=0.311",
                    "Return: 66.505%<br>Volatility: 0.134<br>Sharpe Ratio: 4.966<br>BABA_Close: Weight=0.370<br>MCD_Close: Weight=0.630<br>PG_Close: Weight=0.000",
                    "Return: 42.793%<br>Volatility: 0.087<br>Sharpe Ratio: 4.924<br>GOOG_Close: Weight=0.024<br>AEP_Close: Weight=0.457<br>WMT_Close: Weight=0.253<br>BABA_Close: Weight=0.267",
                    "Return: 33.963%<br>Volatility: 0.082<br>Sharpe Ratio: 4.162<br>KO_Close: Weight=0.718<br>SNAP_Close: Weight=0.000<br>VRTX_Close: Weight=0.091<br>MSFT_Close: Weight=0.191",
                    "Return: 126.996%<br>Volatility: 0.486<br>Sharpe Ratio: 2.611<br>F_Close: Weight=0.000<br>VRTX_Close: Weight=1.000<br>LLY_Close: Weight=0.000",
                    "Return: 24.839%<br>Volatility: 0.073<br>Sharpe Ratio: 3.383<br>MS_Close: Weight=0.105<br>TMO_Close: Weight=0.247<br>K_Close: Weight=0.000<br>NEE_Close: Weight=0.648",
                    "Return: 49.557%<br>Volatility: 0.114<br>Sharpe Ratio: 4.338<br>META_Close: Weight=0.474<br>MCD_Close: Weight=0.526<br>AMGN_Close: Weight=0.000",
                    "Return: 48.169%<br>Volatility: 0.113<br>Sharpe Ratio: 4.280<br>RMD_Close: Weight=0.000<br>ADBE_Close: Weight=0.464<br>MCD_Close: Weight=0.482<br>CAT_Close: Weight=0.054",
                    "Return: 21.990%<br>Volatility: 0.071<br>Sharpe Ratio: 3.078<br>KR_Close: Weight=0.000<br>KO_Close: Weight=0.902<br>EXC_Close: Weight=0.000<br>RMD_Close: Weight=0.098",
                    "Return: 33.069%<br>Volatility: 0.073<br>Sharpe Ratio: 4.504<br>KR_Close: Weight=0.000<br>ISRG_Close: Weight=0.307<br>KO_Close: Weight=0.693",
                    "Return: 98.505%<br>Volatility: 0.270<br>Sharpe Ratio: 3.643<br>QCOM_Close: Weight=0.000<br>BABA_Close: Weight=1.000<br>CVX_Close: Weight=0.000",
                    "Return: 105.852%<br>Volatility: 0.254<br>Sharpe Ratio: 4.171<br>AMD_Close: Weight=0.000<br>K_Close: Weight=0.000<br>BABA_Close: Weight=0.742<br>VRTX_Close: Weight=0.258",
                    "Return: 126.996%<br>Volatility: 0.486<br>Sharpe Ratio: 2.611<br>VRTX_Close: Weight=1.000<br>BMY_Close: Weight=0.000<br>CSCO_Close: Weight=0.000",
                    "Return: 21.367%<br>Volatility: 0.063<br>Sharpe Ratio: 3.374<br>RMD_Close: Weight=0.053<br>KO_Close: Weight=0.709<br>JNJ_Close: Weight=0.238<br>GS_Close: Weight=0.000",
                    "Return: 46.924%<br>Volatility: 0.096<br>Sharpe Ratio: 4.876<br>UNH_Close: Weight=0.439<br>MSFT_Close: Weight=0.146<br>BA_Close: Weight=0.307<br>CAT_Close: Weight=0.109",
                    "Return: 49.802%<br>Volatility: 0.105<br>Sharpe Ratio: 4.736<br>MCD_Close: Weight=0.438<br>PYPL_Close: Weight=0.336<br>EXC_Close: Weight=0.226<br>HD_Close: Weight=0.000",
                    "Return: 67.113%<br>Volatility: 0.176<br>Sharpe Ratio: 3.823<br>BABA_Close: Weight=0.605<br>BMY_Close: Weight=0.000<br>PM_Close: Weight=0.395",
                    "Return: 57.494%<br>Volatility: 0.117<br>Sharpe Ratio: 4.917<br>VZ_Close: Weight=0.000<br>BA_Close: Weight=0.439<br>PG_Close: Weight=0.000<br>MCD_Close: Weight=0.561",
                    "Return: 76.095%<br>Volatility: 0.210<br>Sharpe Ratio: 3.626<br>PYPL_Close: Weight=1.000<br>BIIB_Close: Weight=0.000<br>AMD_Close: Weight=0.000",
                    "Return: 67.516%<br>Volatility: 0.180<br>Sharpe Ratio: 3.756<br>MMM_Close: Weight=0.373<br>JPM_Close: Weight=0.000<br>BABA_Close: Weight=0.627",
                    "Return: 66.772%<br>Volatility: 0.156<br>Sharpe Ratio: 4.293<br>MDT_Close: Weight=0.000<br>ISRG_Close: Weight=0.480<br>PYPL_Close: Weight=0.520",
                    "Return: 20.247%<br>Volatility: 0.062<br>Sharpe Ratio: 3.251<br>KO_Close: Weight=0.736<br>SYY_Close: Weight=0.000<br>RTX_Close: Weight=0.264<br>XOM_Close: Weight=0.000",
                    "Return: 120.347%<br>Volatility: 0.443<br>Sharpe Ratio: 2.715<br>ZBH_Close: Weight=0.000<br>CVX_Close: Weight=0.000<br>NVDA_Close: Weight=1.000<br>GIS_Close: Weight=0.000",
                    "Return: 25.138%<br>Volatility: 0.071<br>Sharpe Ratio: 3.549<br>NKE_Close: Weight=0.011<br>CVX_Close: Weight=0.000<br>KO_Close: Weight=0.708<br>MSFT_Close: Weight=0.281",
                    "Return: 79.883%<br>Volatility: 0.251<br>Sharpe Ratio: 3.186<br>NVDA_Close: Weight=0.429<br>CVX_Close: Weight=0.000<br>CAT_Close: Weight=0.571",
                    "Return: 82.499%<br>Volatility: 0.191<br>Sharpe Ratio: 4.331<br>PG_Close: Weight=0.000<br>DIS_Close: Weight=0.000<br>BA_Close: Weight=0.752<br>NVDA_Close: Weight=0.248",
                    "Return: 27.323%<br>Volatility: 0.072<br>Sharpe Ratio: 3.772<br>WMT_Close: Weight=0.309<br>GS_Close: Weight=0.000<br>V_Close: Weight=0.408<br>JNJ_Close: Weight=0.284",
                    "Return: 56.148%<br>Volatility: 0.113<br>Sharpe Ratio: 4.955<br>BA_Close: Weight=0.405<br>DE_Close: Weight=0.084<br>MCD_Close: Weight=0.512",
                    "Return: 25.361%<br>Volatility: 0.072<br>Sharpe Ratio: 3.546<br>KO_Close: Weight=0.715<br>MSFT_Close: Weight=0.285<br>CPB_Close: Weight=0.000",
                    "Return: 40.515%<br>Volatility: 0.078<br>Sharpe Ratio: 5.194<br>ISRG_Close: Weight=0.223<br>KO_Close: Weight=0.584<br>KR_Close: Weight=0.000<br>PYPL_Close: Weight=0.193",
                    "Return: 41.131%<br>Volatility: 0.082<br>Sharpe Ratio: 4.988<br>BABA_Close: Weight=0.239<br>AMZN_Close: Weight=0.029<br>KO_Close: Weight=0.733",
                    "Return: 25.364%<br>Volatility: 0.072<br>Sharpe Ratio: 3.546<br>WFC_Close: Weight=0.000<br>MSFT_Close: Weight=0.286<br>K_Close: Weight=0.000<br>KO_Close: Weight=0.714",
                    "Return: 22.263%<br>Volatility: 0.070<br>Sharpe Ratio: 3.170<br>KO_Close: Weight=0.820<br>ABT_Close: Weight=0.180<br>ACN_Close: Weight=0.000",
                    "Return: 126.996%<br>Volatility: 0.486<br>Sharpe Ratio: 2.611<br>T_Close: Weight=0.000<br>VRTX_Close: Weight=1.000<br>SO_Close: Weight=0.000",
                    "Return: 21.647%<br>Volatility: 0.065<br>Sharpe Ratio: 3.319<br>HON_Close: Weight=0.293<br>KO_Close: Weight=0.707<br>GIS_Close: Weight=0.000",
                    "Return: 25.641%<br>Volatility: 0.067<br>Sharpe Ratio: 3.839<br>GOOGL_Close: Weight=0.142<br>WMT_Close: Weight=0.245<br>KO_Close: Weight=0.613<br>AMD_Close: Weight=0.000",
                    "Return: 48.009%<br>Volatility: 0.095<br>Sharpe Ratio: 5.071<br>PYPL_Close: Weight=0.258<br>ISRG_Close: Weight=0.262<br>MO_Close: Weight=0.000<br>NEE_Close: Weight=0.481",
                    "Return: 126.996%<br>Volatility: 0.486<br>Sharpe Ratio: 2.611<br>VRTX_Close: Weight=1.000<br>DHR_Close: Weight=0.000<br>MS_Close: Weight=0.000",
                    "Return: 41.594%<br>Volatility: 0.080<br>Sharpe Ratio: 5.223<br>RMD_Close: Weight=0.000<br>KO_Close: Weight=0.525<br>BA_Close: Weight=0.210<br>ISRG_Close: Weight=0.265",
                    "Return: 67.104%<br>Volatility: 0.176<br>Sharpe Ratio: 3.823<br>BABA_Close: Weight=0.605<br>GIS_Close: Weight=0.000<br>PM_Close: Weight=0.395",
                    "Return: 80.621%<br>Volatility: 0.176<br>Sharpe Ratio: 4.590<br>TSLA_Close: Weight=0.068<br>BABA_Close: Weight=0.391<br>BA_Close: Weight=0.541<br>CSCO_Close: Weight=0.000",
                    "Return: 82.386%<br>Volatility: 0.181<br>Sharpe Ratio: 4.544<br>BA_Close: Weight=0.566<br>BABA_Close: Weight=0.434<br>VZ_Close: Weight=0.000<br>GE_Close: Weight=0.000",
                    "Return: 123.440%<br>Volatility: 0.341<br>Sharpe Ratio: 3.619<br>MO_Close: Weight=0.000<br>AMGN_Close: Weight=0.000<br>VRTX_Close: Weight=0.465<br>NVDA_Close: Weight=0.535",
                    "Return: 25.988%<br>Volatility: 0.072<br>Sharpe Ratio: 3.618<br>KO_Close: Weight=0.791<br>TSLA_Close: Weight=0.085<br>CRM_Close: Weight=0.124"
                  ],
                  "type": "scatter",
                  "x": [
                    0.15649395708201502,
                    0.13567919479527618,
                    0.1021904612526172,
                    0.09821559015312399,
                    0.09042875442547854,
                    0.18962377370443223,
                    0.07838835959870895,
                    0.11965671738011341,
                    0.08953978166096195,
                    0.08779332324151255,
                    0.10972296552183392,
                    0.1379871584576859,
                    0.1209048286701893,
                    0.14735538089205327,
                    0.08223189193578052,
                    0.07377428710494624,
                    0.08469432652046306,
                    0.08948930935504773,
                    0.118430791955289,
                    0.30172896494553564,
                    0.44319148732105845,
                    0.3492306163130795,
                    0.08279929163609583,
                    0.2704307098094229,
                    0.11283014506080502,
                    0.1877532394182079,
                    0.0744631260817422,
                    0.1339282637340877,
                    0.08690251059429621,
                    0.08159779763959614,
                    0.48636489768312324,
                    0.0734129576034665,
                    0.11424798359655533,
                    0.11255586153964624,
                    0.07144436741597211,
                    0.07342365756054654,
                    0.27043070980941875,
                    0.2537590112229247,
                    0.486364897683123,
                    0.06333355264661232,
                    0.0962342440627705,
                    0.1051566073742889,
                    0.17557288037464763,
                    0.11693908245391674,
                    0.2098673647278018,
                    0.17976114055083803,
                    0.15552274990524334,
                    0.06228662443808115,
                    0.44319148732105523,
                    0.07083641052066839,
                    0.25074764239919367,
                    0.19050044796072854,
                    0.07243563929601755,
                    0.11331621925445576,
                    0.07152007526359581,
                    0.0780004195573013,
                    0.08245806609412329,
                    0.07152874523054183,
                    0.0702251166002275,
                    0.4863648976831224,
                    0.06522057194454592,
                    0.06679305383153648,
                    0.09468150692336633,
                    0.4863648976831229,
                    0.07962843332770835,
                    0.17554824386973072,
                    0.17565110852057372,
                    0.18132571581896825,
                    0.3410642179145495,
                    0.07183671438357563
                  ],
                  "y": [
                    0.6315210788042276,
                    0.5032571060371399,
                    0.3685836309144548,
                    0.3627953102354148,
                    0.31474855216176245,
                    0.7217138928273498,
                    0.21168416397102513,
                    0.4144564445237443,
                    0.3106256750007518,
                    0.23767502015611408,
                    0.41047098192819026,
                    0.5450878139244106,
                    0.5156302622499319,
                    0.5873260688998876,
                    0.2502439431302778,
                    0.2842399479919315,
                    0.3363508302988012,
                    0.3719034646465921,
                    0.5056648591336882,
                    0.7927776935656532,
                    1.2034748731920795,
                    1.0115730044899072,
                    0.4192488736077953,
                    0.9850545003617536,
                    0.4807574694922714,
                    0.6828313843761337,
                    0.2992933010337473,
                    0.6650541517187437,
                    0.4279302420217846,
                    0.33963288275777226,
                    1.2699563335104933,
                    0.2483894541577082,
                    0.4955745421473667,
                    0.48168761143864325,
                    0.2198954053861514,
                    0.33068864572399626,
                    0.9850545003617368,
                    1.0585230072655416,
                    1.2699563335104924,
                    0.21366877715751023,
                    0.4692427969716001,
                    0.49801857826284907,
                    0.6711323313518618,
                    0.5749381373541904,
                    0.7609531183269276,
                    0.6751633957471457,
                    0.6677194978084255,
                    0.20246764915866303,
                    1.2034748731920701,
                    0.2513832172139299,
                    0.7988320691461062,
                    0.8249861743779889,
                    0.2732258857593398,
                    0.5614784886790396,
                    0.25361079970349565,
                    0.4051494105342447,
                    0.41131207913612017,
                    0.2536415673403384,
                    0.22263211339895794,
                    1.269956333510491,
                    0.21646643895317605,
                    0.2564125586979151,
                    0.48008634216463564,
                    1.2699563335104924,
                    0.4159372694851339,
                    0.6710381621987824,
                    0.8062108366138097,
                    0.823861093152763,
                    1.234404347203996,
                    0.2598778563479647
                  ]
                },
                {
                  "hoverinfo": "text",
                  "hovertext": [
                    "XOM_Close <br>Volatility: 0.120 <br>Returns: -7.396% <br>Sharpe Ratio: -0.615",
                    "ETN_Close <br>Volatility: 0.141 <br>Returns: 21.693% <br>Sharpe Ratio: 1.541",
                    "TXN_Close <br>Volatility: 0.179 <br>Returns: 13.001% <br>Sharpe Ratio: 0.725",
                    "DUK_Close <br>Volatility: 0.089 <br>Returns: 10.492% <br>Sharpe Ratio: 1.180",
                    "LLY_Close <br>Volatility: 0.158 <br>Returns: 0.828% <br>Sharpe Ratio: 0.052",
                    "BA_Close <br>Volatility: 0.198 <br>Returns: 70.035% <br>Sharpe Ratio: 3.543",
                    "AMGN_Close <br>Volatility: 0.183 <br>Returns: -3.148% <br>Sharpe Ratio: -0.172",
                    "TMO_Close <br>Volatility: 0.142 <br>Returns: 24.099% <br>Sharpe Ratio: 1.701",
                    "UNH_Close <br>Volatility: 0.118 <br>Returns: 35.013% <br>Sharpe Ratio: 2.965",
                    "ACN_Close <br>Volatility: 0.147 <br>Returns: 11.058% <br>Sharpe Ratio: 0.754",
                    "ISRG_Close <br>Volatility: 0.180 <br>Returns: 56.678% <br>Sharpe Ratio: 3.157",
                    "BIIB_Close <br>Volatility: 0.229 <br>Returns: -3.324% <br>Sharpe Ratio: -0.145",
                    "AEP_Close <br>Volatility: 0.101 <br>Returns: 16.390% <br>Sharpe Ratio: 1.620",
                    "EMR_Close <br>Volatility: 0.165 <br>Returns: -0.844% <br>Sharpe Ratio: -0.051",
                    "CVX_Close <br>Volatility: 0.149 <br>Returns: -6.629% <br>Sharpe Ratio: -0.444",
                    "F_Close <br>Volatility: 0.186 <br>Returns: -22.923% <br>Sharpe Ratio: -1.229",
                    "GE_Close <br>Volatility: 0.166 <br>Returns: -37.831% <br>Sharpe Ratio: -2.284",
                    "AMZN_Close <br>Volatility: 0.171 <br>Returns: 36.711% <br>Sharpe Ratio: 2.142",
                    "AAPL_Close <br>Volatility: 0.162 <br>Returns: 17.462% <br>Sharpe Ratio: 1.081",
                    "V_Close <br>Volatility: 0.110 <br>Returns: 28.881% <br>Sharpe Ratio: 2.616",
                    "ABBV_Close <br>Volatility: 0.124 <br>Returns: 28.825% <br>Sharpe Ratio: 2.316",
                    "MA_Close <br>Volatility: 0.124 <br>Returns: 34.348% <br>Sharpe Ratio: 2.760",
                    "GM_Close <br>Volatility: 0.170 <br>Returns: -6.545% <br>Sharpe Ratio: -0.385",
                    "MO_Close <br>Volatility: 0.200 <br>Returns: -33.192% <br>Sharpe Ratio: -1.659",
                    "UA_Close <br>Volatility: 0.335 <br>Returns: -11.114% <br>Sharpe Ratio: -0.332",
                    "JNJ_Close <br>Volatility: 0.111 <br>Returns: 18.793% <br>Sharpe Ratio: 1.693",
                    "CPB_Close <br>Volatility: 0.149 <br>Returns: -26.972% <br>Sharpe Ratio: -1.805",
                    "DHR_Close <br>Volatility: 0.126 <br>Returns: -13.997% <br>Sharpe Ratio: -1.114",
                    "HON_Close <br>Volatility: 0.099 <br>Returns: 19.309% <br>Sharpe Ratio: 1.960",
                    "NEE_Close <br>Volatility: 0.105 <br>Returns: 28.234% <br>Sharpe Ratio: 2.689",
                    "GILD_Close <br>Volatility: 0.153 <br>Returns: 22.185% <br>Sharpe Ratio: 1.451",
                    "DIS_Close <br>Volatility: 0.123 <br>Returns: 0.345% <br>Sharpe Ratio: 0.028",
                    "AMD_Close <br>Volatility: 0.694 <br>Returns: -5.109% <br>Sharpe Ratio: -0.074",
                    "KO_Close <br>Volatility: 0.076 <br>Returns: 22.618% <br>Sharpe Ratio: 2.987",
                    "K_Close <br>Volatility: 0.135 <br>Returns: -22.065% <br>Sharpe Ratio: -1.636",
                    "MDT_Close <br>Volatility: 0.114 <br>Returns: 8.328% <br>Sharpe Ratio: 0.730",
                    "ZBH_Close <br>Volatility: 0.176 <br>Returns: 7.620% <br>Sharpe Ratio: 0.433",
                    "HD_Close <br>Volatility: 0.134 <br>Returns: 5.554% <br>Sharpe Ratio: 0.413",
                    "SNAP_Close <br>Volatility: 0.669 <br>Returns: -141.181% <br>Sharpe Ratio: -2.112",
                    "NKE_Close <br>Volatility: 0.259 <br>Returns: 6.009% <br>Sharpe Ratio: 0.232",
                    "SAP_Close <br>Volatility: 0.147 <br>Returns: 30.725% <br>Sharpe Ratio: 2.084",
                    "BSX_Close <br>Volatility: 0.134 <br>Returns: 15.214% <br>Sharpe Ratio: 1.138",
                    "ABT_Close <br>Volatility: 0.133 <br>Returns: 20.651% <br>Sharpe Ratio: 1.556",
                    "DE_Close <br>Volatility: 0.179 <br>Returns: 40.807% <br>Sharpe Ratio: 2.279",
                    "T_Close <br>Volatility: 0.145 <br>Returns: -10.384% <br>Sharpe Ratio: -0.718",
                    "NVDA_Close <br>Volatility: 0.443 <br>Returns: 120.347% <br>Sharpe Ratio: 2.715",
                    "WFC_Close <br>Volatility: 0.176 <br>Returns: -18.838% <br>Sharpe Ratio: -1.068",
                    "MS_Close <br>Volatility: 0.219 <br>Returns: 5.606% <br>Sharpe Ratio: 0.256",
                    "ORCL_Close <br>Volatility: 0.187 <br>Returns: 38.781% <br>Sharpe Ratio: 2.072",
                    "SYK_Close <br>Volatility: 0.116 <br>Returns: 29.992% <br>Sharpe Ratio: 2.595",
                    "CAT_Close <br>Volatility: 0.233 <br>Returns: 49.457% <br>Sharpe Ratio: 2.120",
                    "GIS_Close <br>Volatility: 0.124 <br>Returns: -17.660% <br>Sharpe Ratio: -1.423",
                    "BABA_Close <br>Volatility: 0.270 <br>Returns: 98.505% <br>Sharpe Ratio: 3.643",
                    "PFE_Close <br>Volatility: 0.098 <br>Returns: -7.335% <br>Sharpe Ratio: -0.752",
                    "META_Close <br>Volatility: 0.158 <br>Returns: 51.648% <br>Sharpe Ratio: 3.262",
                    "GOOG_Close <br>Volatility: 0.169 <br>Returns: 27.511% <br>Sharpe Ratio: 1.624",
                    "COST_Close <br>Volatility: 0.194 <br>Returns: -17.769% <br>Sharpe Ratio: -0.916",
                    "CSCO_Close <br>Volatility: 0.159 <br>Returns: -17.299% <br>Sharpe Ratio: -1.085",
                    "CMCSA_Close <br>Volatility: 0.154 <br>Returns: 20.680% <br>Sharpe Ratio: 1.342",
                    "TSLA_Close <br>Volatility: 0.381 <br>Returns: 61.965% <br>Sharpe Ratio: 1.627",
                    "SYY_Close <br>Volatility: 0.155 <br>Returns: 2.406% <br>Sharpe Ratio: 0.155",
                    "BAC_Close <br>Volatility: 0.223 <br>Returns: -10.108% <br>Sharpe Ratio: -0.453",
                    "KR_Close <br>Volatility: 0.405 <br>Returns: -53.258% <br>Sharpe Ratio: -1.315",
                    "GOOGL_Close <br>Volatility: 0.165 <br>Returns: 25.843% <br>Sharpe Ratio: 1.563",
                    "VZ_Close <br>Volatility: 0.175 <br>Returns: -1.752% <br>Sharpe Ratio: -0.100",
                    "WMT_Close <br>Volatility: 0.148 <br>Returns: 33.100% <br>Sharpe Ratio: 2.240",
                    "RDY_Close <br>Volatility: 0.278 <br>Returns: -37.763% <br>Sharpe Ratio: -1.360",
                    "MRK_Close <br>Volatility: 0.119 <br>Returns: -4.687% <br>Sharpe Ratio: -0.393",
                    "GS_Close <br>Volatility: 0.209 <br>Returns: -25.385% <br>Sharpe Ratio: -1.217",
                    "INTC_Close <br>Volatility: 0.144 <br>Returns: -1.191% <br>Sharpe Ratio: -0.083",
                    "PG_Close <br>Volatility: 0.087 <br>Returns: 3.502% <br>Sharpe Ratio: 0.403",
                    "NFLX_Close <br>Volatility: 0.320 <br>Returns: 63.935% <br>Sharpe Ratio: 1.998",
                    "REGN_Close <br>Volatility: 0.300 <br>Returns: 65.057% <br>Sharpe Ratio: 2.166",
                    "CRM_Close <br>Volatility: 0.148 <br>Returns: 22.729% <br>Sharpe Ratio: 1.539",
                    "IBM_Close <br>Volatility: 0.141 <br>Returns: -51.301% <br>Sharpe Ratio: -3.645",
                    "QCOM_Close <br>Volatility: 0.182 <br>Returns: -11.695% <br>Sharpe Ratio: -0.644",
                    "MSFT_Close <br>Volatility: 0.137 <br>Returns: 32.231% <br>Sharpe Ratio: 2.358",
                    "JPM_Close <br>Volatility: 0.162 <br>Returns: 1.822% <br>Sharpe Ratio: 0.113",
                    "ADBE_Close <br>Volatility: 0.155 <br>Returns: 48.534% <br>Sharpe Ratio: 3.139",
                    "PYPL_Close <br>Volatility: 0.210 <br>Returns: 76.095% <br>Sharpe Ratio: 3.626",
                    "EW_Close <br>Volatility: 0.230 <br>Returns: 50.893% <br>Sharpe Ratio: 2.211",
                    "PEP_Close <br>Volatility: 0.087 <br>Returns: 15.556% <br>Sharpe Ratio: 1.780",
                    "RMD_Close <br>Volatility: 0.177 <br>Returns: 16.205% <br>Sharpe Ratio: 0.918",
                    "MMM_Close <br>Volatility: 0.118 <br>Returns: 15.425% <br>Sharpe Ratio: 1.305",
                    "PM_Close <br>Volatility: 0.135 <br>Returns: 19.082% <br>Sharpe Ratio: 1.414",
                    "BTI_Close <br>Volatility: 0.204 <br>Returns: 0.821% <br>Sharpe Ratio: 0.040",
                    "RTX_Close <br>Volatility: 0.093 <br>Returns: 13.645% <br>Sharpe Ratio: 1.464",
                    "EXC_Close <br>Volatility: 0.136 <br>Returns: 14.814% <br>Sharpe Ratio: 1.090",
                    "LMT_Close <br>Volatility: 0.107 <br>Returns: 23.365% <br>Sharpe Ratio: 2.193",
                    "SO_Close <br>Volatility: 0.102 <br>Returns: -8.956% <br>Sharpe Ratio: -0.877",
                    "VRTX_Close <br>Volatility: 0.486 <br>Returns: 126.996% <br>Sharpe Ratio: 2.611",
                    "SRE_Close <br>Volatility: 0.107 <br>Returns: 10.690% <br>Sharpe Ratio: 0.998",
                    "BMY_Close <br>Volatility: 0.182 <br>Returns: 3.607% <br>Sharpe Ratio: 0.198",
                    "MCD_Close <br>Volatility: 0.145 <br>Returns: 47.674% <br>Sharpe Ratio: 3.297"
                  ],
                  "marker": {
                    "color": "brown",
                    "line": {
                      "width": 1
                    },
                    "size": 5,
                    "symbol": "triangle-up"
                  },
                  "mode": "markers",
                  "name": "Individual Assets",
                  "type": "scatter",
                  "x": {
                    "bdata": "mDkv+4/Jvj8IiZyBqQPCP2xwxd4998Y/DbNZ9vHCtj/qkJJGaUfEP86BEP+sTck/I9OT3nR5xz9SRv9SDCLCP97i41W9O74/ZcmG01DIwj/OyV82FfvGPxTqzjHnUc0/CjCjysvkuT99lMRbAS7FP4pQrQCvF8M/B2P0YSrexz+1fEZ/kTTFP6T+o68A8cU/P/rPtoSuxD8T80NNB0S8Pxlbpwzj278/XiuUFGXbvz/YQwHpY8PFP5J88+w8m8k/hnRLhh1t1T/PIpSmhmq8P3xcl8w8IcM/cBWazs8TwD/b3dMO5je5Py3ITvav4bo/3gMpbGORwz/4ylUuF5O/P9bfU7e5OOY/OqoZPwBjsz9jIqLuGkLBP4p8BH4TOL0/NCCPZ1CHxj/1Ug5wejPBP9apQSYJZeU/e5/gy0GT0D+2dN9Fad/CP3jtNIRlG8E//6gL/nP7wD9YkWzgderGP96bVY10hsI/+zX60z9d3D8GUVg8q5HGP5TZVJaKA8w/JaYwDC31xz/40p+YtJW9P9vmpxZJ3c0/sfD1uFnDvz9cy52bvE7RPwg9X0sx9rg/4zlkqKlDxD8qPuXg5K/FPzcbMVnG1sg/w3o3DNZoxD8F6n4g7bfDP/nHRF9BXtg/HLrJRYbcwz/mEjsxY5HMP2Frjg6Y69k/X8yZkcEpxT+MIfJChljGPyPqY7/i6cI/v+2BHMXF0T9rQDl4jIC+P7E+evqmtMo/68usAFJ6wj+zDhLPqju2P0IZeKKredQ/s2qOdjU50z/a73Wki+jCP6NFsyO0A8I/0geLTE0/xz/j6vHrpH/BP1ZqGR6jrMQ/rVoNY+XKwz9idgAO79zKP/tjythUd80/XzhlTQJetj9jgHK6X5rGP/63wNmiP74/HRNlWVZHwT8YLd1QAy3KPz8b++Az3bc/A/5ehaBlwT/LesAd3Ue7P8Kqca8pKLo/bStePJog3z8ZL+T9Jmy7P759PPhnRMc/OdEa9ueCwj8=",
                    "dtype": "f8"
                  },
                  "y": {
                    "bdata": "GHcHyQLvsr+xk1bWZsTLPzi3NAQ9pMA/W9yoFkTcuj8k3RsrcvSAP0zbV0I8aeY/RiSm8wIeoL+URZoTyNjOP8J+yAqNaNY/ee7otSpPvD+OkID0EyPiPyOLtEPWBKG/89X80476xD8tFVOr/EqBv2puZHVz+LC/jc9ROVRXzb/3lIanNjbYv36dCGHGftc/D5bL8/FZxj/80VOc3nvSP0bilN+8ctI/XOHTKKj71T/Q4PlrDMGwv+moUZ8pPtW/nnE/VqVzvL+GQUbfDA7IPySwf+gPQ9G/SMcILWDqwb+CSL18TLfIP4F5p8fhEdI/HeOq3ZxlzD8Qq5019kxsP5MMX7Y7KKq/U4zQ5FTzzD9aoH3/LT7Mv+W0CQD4UbU/I9Wj1t+Bsz9mAx1eVm+sP5PoYLfIlva/UwmWIPDDrj+cxxS6EKrTPy3WMC9AecM/b98zwMRuyj8avCDEzx3aP7ZQauRtlbq/BK9e3m5B8z8u3t18+xzIv62owrbOs6w/3nNhdtXR2D+R2QTX4jHTPxQMgfX5pt8/t2y5i7Saxr9vmvoDkYXvP/a4T+EXx7K/lcV4bvuG4D8Zm1M8aJvRPw4fWVSevsa/dNFxtKMkxr/pdnOOU3jKPw5KlYQl1OM/I0rHCiqjmD8jppUBE+C5vxVouB/cCuG/sm+cYiKK0D+Orcj6AvKRvzVpV5whL9U/RjeusgQr2L81TJdHb/+nvypBqUIfP9C/hSIPNJNliL8eF0ikGO6hP2//o2GGdeQ/G7v+C3nR5D9yyTaA2xfNP7I+BPWdauC/0X9QacHwvb/nxncdw6DUPw4DSGdFp5I/Ng3YVdAP3z+jG6BaulnoP+k9hfofSeA/lOssEGzpwz9u5c2cAr7EPz1XtNiWvsM/Xi/CWaFsyD/2awRV1NCAP7nuVOdLd8E/ShgXmmH2wj+U2T+cGOjNP4VAw3+o7ba/A2l8u71R9D9wRnx53F27P1XUxLlkeKI/YptVgPeC3j8=",
                    "dtype": "f8"
                  }
                }
              ],
              "layout": {
                "legend": {
                  "y": 5
                },
                "template": {
                  "data": {
                    "bar": [
                      {
                        "error_x": {
                          "color": "#2a3f5f"
                        },
                        "error_y": {
                          "color": "#2a3f5f"
                        },
                        "marker": {
                          "line": {
                            "color": "#E5ECF6",
                            "width": 0.5
                          },
                          "pattern": {
                            "fillmode": "overlay",
                            "size": 10,
                            "solidity": 0.2
                          }
                        },
                        "type": "bar"
                      }
                    ],
                    "barpolar": [
                      {
                        "marker": {
                          "line": {
                            "color": "#E5ECF6",
                            "width": 0.5
                          },
                          "pattern": {
                            "fillmode": "overlay",
                            "size": 10,
                            "solidity": 0.2
                          }
                        },
                        "type": "barpolar"
                      }
                    ],
                    "carpet": [
                      {
                        "aaxis": {
                          "endlinecolor": "#2a3f5f",
                          "gridcolor": "white",
                          "linecolor": "white",
                          "minorgridcolor": "white",
                          "startlinecolor": "#2a3f5f"
                        },
                        "baxis": {
                          "endlinecolor": "#2a3f5f",
                          "gridcolor": "white",
                          "linecolor": "white",
                          "minorgridcolor": "white",
                          "startlinecolor": "#2a3f5f"
                        },
                        "type": "carpet"
                      }
                    ],
                    "choropleth": [
                      {
                        "colorbar": {
                          "outlinewidth": 0,
                          "ticks": ""
                        },
                        "type": "choropleth"
                      }
                    ],
                    "contour": [
                      {
                        "colorbar": {
                          "outlinewidth": 0,
                          "ticks": ""
                        },
                        "colorscale": [
                          [
                            0,
                            "#0d0887"
                          ],
                          [
                            0.1111111111111111,
                            "#46039f"
                          ],
                          [
                            0.2222222222222222,
                            "#7201a8"
                          ],
                          [
                            0.3333333333333333,
                            "#9c179e"
                          ],
                          [
                            0.4444444444444444,
                            "#bd3786"
                          ],
                          [
                            0.5555555555555556,
                            "#d8576b"
                          ],
                          [
                            0.6666666666666666,
                            "#ed7953"
                          ],
                          [
                            0.7777777777777778,
                            "#fb9f3a"
                          ],
                          [
                            0.8888888888888888,
                            "#fdca26"
                          ],
                          [
                            1,
                            "#f0f921"
                          ]
                        ],
                        "type": "contour"
                      }
                    ],
                    "contourcarpet": [
                      {
                        "colorbar": {
                          "outlinewidth": 0,
                          "ticks": ""
                        },
                        "type": "contourcarpet"
                      }
                    ],
                    "heatmap": [
                      {
                        "colorbar": {
                          "outlinewidth": 0,
                          "ticks": ""
                        },
                        "colorscale": [
                          [
                            0,
                            "#0d0887"
                          ],
                          [
                            0.1111111111111111,
                            "#46039f"
                          ],
                          [
                            0.2222222222222222,
                            "#7201a8"
                          ],
                          [
                            0.3333333333333333,
                            "#9c179e"
                          ],
                          [
                            0.4444444444444444,
                            "#bd3786"
                          ],
                          [
                            0.5555555555555556,
                            "#d8576b"
                          ],
                          [
                            0.6666666666666666,
                            "#ed7953"
                          ],
                          [
                            0.7777777777777778,
                            "#fb9f3a"
                          ],
                          [
                            0.8888888888888888,
                            "#fdca26"
                          ],
                          [
                            1,
                            "#f0f921"
                          ]
                        ],
                        "type": "heatmap"
                      }
                    ],
                    "histogram": [
                      {
                        "marker": {
                          "pattern": {
                            "fillmode": "overlay",
                            "size": 10,
                            "solidity": 0.2
                          }
                        },
                        "type": "histogram"
                      }
                    ],
                    "histogram2d": [
                      {
                        "colorbar": {
                          "outlinewidth": 0,
                          "ticks": ""
                        },
                        "colorscale": [
                          [
                            0,
                            "#0d0887"
                          ],
                          [
                            0.1111111111111111,
                            "#46039f"
                          ],
                          [
                            0.2222222222222222,
                            "#7201a8"
                          ],
                          [
                            0.3333333333333333,
                            "#9c179e"
                          ],
                          [
                            0.4444444444444444,
                            "#bd3786"
                          ],
                          [
                            0.5555555555555556,
                            "#d8576b"
                          ],
                          [
                            0.6666666666666666,
                            "#ed7953"
                          ],
                          [
                            0.7777777777777778,
                            "#fb9f3a"
                          ],
                          [
                            0.8888888888888888,
                            "#fdca26"
                          ],
                          [
                            1,
                            "#f0f921"
                          ]
                        ],
                        "type": "histogram2d"
                      }
                    ],
                    "histogram2dcontour": [
                      {
                        "colorbar": {
                          "outlinewidth": 0,
                          "ticks": ""
                        },
                        "colorscale": [
                          [
                            0,
                            "#0d0887"
                          ],
                          [
                            0.1111111111111111,
                            "#46039f"
                          ],
                          [
                            0.2222222222222222,
                            "#7201a8"
                          ],
                          [
                            0.3333333333333333,
                            "#9c179e"
                          ],
                          [
                            0.4444444444444444,
                            "#bd3786"
                          ],
                          [
                            0.5555555555555556,
                            "#d8576b"
                          ],
                          [
                            0.6666666666666666,
                            "#ed7953"
                          ],
                          [
                            0.7777777777777778,
                            "#fb9f3a"
                          ],
                          [
                            0.8888888888888888,
                            "#fdca26"
                          ],
                          [
                            1,
                            "#f0f921"
                          ]
                        ],
                        "type": "histogram2dcontour"
                      }
                    ],
                    "mesh3d": [
                      {
                        "colorbar": {
                          "outlinewidth": 0,
                          "ticks": ""
                        },
                        "type": "mesh3d"
                      }
                    ],
                    "parcoords": [
                      {
                        "line": {
                          "colorbar": {
                            "outlinewidth": 0,
                            "ticks": ""
                          }
                        },
                        "type": "parcoords"
                      }
                    ],
                    "pie": [
                      {
                        "automargin": true,
                        "type": "pie"
                      }
                    ],
                    "scatter": [
                      {
                        "fillpattern": {
                          "fillmode": "overlay",
                          "size": 10,
                          "solidity": 0.2
                        },
                        "type": "scatter"
                      }
                    ],
                    "scatter3d": [
                      {
                        "line": {
                          "colorbar": {
                            "outlinewidth": 0,
                            "ticks": ""
                          }
                        },
                        "marker": {
                          "colorbar": {
                            "outlinewidth": 0,
                            "ticks": ""
                          }
                        },
                        "type": "scatter3d"
                      }
                    ],
                    "scattercarpet": [
                      {
                        "marker": {
                          "colorbar": {
                            "outlinewidth": 0,
                            "ticks": ""
                          }
                        },
                        "type": "scattercarpet"
                      }
                    ],
                    "scattergeo": [
                      {
                        "marker": {
                          "colorbar": {
                            "outlinewidth": 0,
                            "ticks": ""
                          }
                        },
                        "type": "scattergeo"
                      }
                    ],
                    "scattergl": [
                      {
                        "marker": {
                          "colorbar": {
                            "outlinewidth": 0,
                            "ticks": ""
                          }
                        },
                        "type": "scattergl"
                      }
                    ],
                    "scattermap": [
                      {
                        "marker": {
                          "colorbar": {
                            "outlinewidth": 0,
                            "ticks": ""
                          }
                        },
                        "type": "scattermap"
                      }
                    ],
                    "scattermapbox": [
                      {
                        "marker": {
                          "colorbar": {
                            "outlinewidth": 0,
                            "ticks": ""
                          }
                        },
                        "type": "scattermapbox"
                      }
                    ],
                    "scatterpolar": [
                      {
                        "marker": {
                          "colorbar": {
                            "outlinewidth": 0,
                            "ticks": ""
                          }
                        },
                        "type": "scatterpolar"
                      }
                    ],
                    "scatterpolargl": [
                      {
                        "marker": {
                          "colorbar": {
                            "outlinewidth": 0,
                            "ticks": ""
                          }
                        },
                        "type": "scatterpolargl"
                      }
                    ],
                    "scatterternary": [
                      {
                        "marker": {
                          "colorbar": {
                            "outlinewidth": 0,
                            "ticks": ""
                          }
                        },
                        "type": "scatterternary"
                      }
                    ],
                    "surface": [
                      {
                        "colorbar": {
                          "outlinewidth": 0,
                          "ticks": ""
                        },
                        "colorscale": [
                          [
                            0,
                            "#0d0887"
                          ],
                          [
                            0.1111111111111111,
                            "#46039f"
                          ],
                          [
                            0.2222222222222222,
                            "#7201a8"
                          ],
                          [
                            0.3333333333333333,
                            "#9c179e"
                          ],
                          [
                            0.4444444444444444,
                            "#bd3786"
                          ],
                          [
                            0.5555555555555556,
                            "#d8576b"
                          ],
                          [
                            0.6666666666666666,
                            "#ed7953"
                          ],
                          [
                            0.7777777777777778,
                            "#fb9f3a"
                          ],
                          [
                            0.8888888888888888,
                            "#fdca26"
                          ],
                          [
                            1,
                            "#f0f921"
                          ]
                        ],
                        "type": "surface"
                      }
                    ],
                    "table": [
                      {
                        "cells": {
                          "fill": {
                            "color": "#EBF0F8"
                          },
                          "line": {
                            "color": "white"
                          }
                        },
                        "header": {
                          "fill": {
                            "color": "#C8D4E3"
                          },
                          "line": {
                            "color": "white"
                          }
                        },
                        "type": "table"
                      }
                    ]
                  },
                  "layout": {
                    "annotationdefaults": {
                      "arrowcolor": "#2a3f5f",
                      "arrowhead": 0,
                      "arrowwidth": 1
                    },
                    "autotypenumbers": "strict",
                    "coloraxis": {
                      "colorbar": {
                        "outlinewidth": 0,
                        "ticks": ""
                      }
                    },
                    "colorscale": {
                      "diverging": [
                        [
                          0,
                          "#8e0152"
                        ],
                        [
                          0.1,
                          "#c51b7d"
                        ],
                        [
                          0.2,
                          "#de77ae"
                        ],
                        [
                          0.3,
                          "#f1b6da"
                        ],
                        [
                          0.4,
                          "#fde0ef"
                        ],
                        [
                          0.5,
                          "#f7f7f7"
                        ],
                        [
                          0.6,
                          "#e6f5d0"
                        ],
                        [
                          0.7,
                          "#b8e186"
                        ],
                        [
                          0.8,
                          "#7fbc41"
                        ],
                        [
                          0.9,
                          "#4d9221"
                        ],
                        [
                          1,
                          "#276419"
                        ]
                      ],
                      "sequential": [
                        [
                          0,
                          "#0d0887"
                        ],
                        [
                          0.1111111111111111,
                          "#46039f"
                        ],
                        [
                          0.2222222222222222,
                          "#7201a8"
                        ],
                        [
                          0.3333333333333333,
                          "#9c179e"
                        ],
                        [
                          0.4444444444444444,
                          "#bd3786"
                        ],
                        [
                          0.5555555555555556,
                          "#d8576b"
                        ],
                        [
                          0.6666666666666666,
                          "#ed7953"
                        ],
                        [
                          0.7777777777777778,
                          "#fb9f3a"
                        ],
                        [
                          0.8888888888888888,
                          "#fdca26"
                        ],
                        [
                          1,
                          "#f0f921"
                        ]
                      ],
                      "sequentialminus": [
                        [
                          0,
                          "#0d0887"
                        ],
                        [
                          0.1111111111111111,
                          "#46039f"
                        ],
                        [
                          0.2222222222222222,
                          "#7201a8"
                        ],
                        [
                          0.3333333333333333,
                          "#9c179e"
                        ],
                        [
                          0.4444444444444444,
                          "#bd3786"
                        ],
                        [
                          0.5555555555555556,
                          "#d8576b"
                        ],
                        [
                          0.6666666666666666,
                          "#ed7953"
                        ],
                        [
                          0.7777777777777778,
                          "#fb9f3a"
                        ],
                        [
                          0.8888888888888888,
                          "#fdca26"
                        ],
                        [
                          1,
                          "#f0f921"
                        ]
                      ]
                    },
                    "colorway": [
                      "#636efa",
                      "#EF553B",
                      "#00cc96",
                      "#ab63fa",
                      "#FFA15A",
                      "#19d3f3",
                      "#FF6692",
                      "#B6E880",
                      "#FF97FF",
                      "#FECB52"
                    ],
                    "font": {
                      "color": "#2a3f5f"
                    },
                    "geo": {
                      "bgcolor": "white",
                      "lakecolor": "white",
                      "landcolor": "#E5ECF6",
                      "showlakes": true,
                      "showland": true,
                      "subunitcolor": "white"
                    },
                    "hoverlabel": {
                      "align": "left"
                    },
                    "hovermode": "closest",
                    "mapbox": {
                      "style": "light"
                    },
                    "paper_bgcolor": "white",
                    "plot_bgcolor": "#E5ECF6",
                    "polar": {
                      "angularaxis": {
                        "gridcolor": "white",
                        "linecolor": "white",
                        "ticks": ""
                      },
                      "bgcolor": "#E5ECF6",
                      "radialaxis": {
                        "gridcolor": "white",
                        "linecolor": "white",
                        "ticks": ""
                      }
                    },
                    "scene": {
                      "xaxis": {
                        "backgroundcolor": "#E5ECF6",
                        "gridcolor": "white",
                        "gridwidth": 2,
                        "linecolor": "white",
                        "showbackground": true,
                        "ticks": "",
                        "zerolinecolor": "white"
                      },
                      "yaxis": {
                        "backgroundcolor": "#E5ECF6",
                        "gridcolor": "white",
                        "gridwidth": 2,
                        "linecolor": "white",
                        "showbackground": true,
                        "ticks": "",
                        "zerolinecolor": "white"
                      },
                      "zaxis": {
                        "backgroundcolor": "#E5ECF6",
                        "gridcolor": "white",
                        "gridwidth": 2,
                        "linecolor": "white",
                        "showbackground": true,
                        "ticks": "",
                        "zerolinecolor": "white"
                      }
                    },
                    "shapedefaults": {
                      "line": {
                        "color": "#2a3f5f"
                      }
                    },
                    "ternary": {
                      "aaxis": {
                        "gridcolor": "white",
                        "linecolor": "white",
                        "ticks": ""
                      },
                      "baxis": {
                        "gridcolor": "white",
                        "linecolor": "white",
                        "ticks": ""
                      },
                      "bgcolor": "#E5ECF6",
                      "caxis": {
                        "gridcolor": "white",
                        "linecolor": "white",
                        "ticks": ""
                      }
                    },
                    "title": {
                      "x": 0.05
                    },
                    "xaxis": {
                      "automargin": true,
                      "gridcolor": "white",
                      "linecolor": "white",
                      "ticks": "",
                      "title": {
                        "standoff": 15
                      },
                      "zerolinecolor": "white",
                      "zerolinewidth": 2
                    },
                    "yaxis": {
                      "automargin": true,
                      "gridcolor": "white",
                      "linecolor": "white",
                      "ticks": "",
                      "title": {
                        "standoff": 15
                      },
                      "zerolinecolor": "white",
                      "zerolinewidth": 2
                    }
                  }
                },
                "title": {
                  "text": "Sample of Random Portfolios"
                },
                "xaxis": {
                  "title": {
                    "text": "Volatility (Standard Deviation)"
                  }
                },
                "yaxis": {
                  "title": {
                    "text": "Annualized Return"
                  }
                }
              }
            }
          },
          "metadata": {},
          "output_type": "display_data"
        }
      ],
      "source": [
        "fig2 = go.Figure()\n",
        "\n",
        "fig2.add_trace(go.Scatter(\n",
        "    x=[np.sqrt(p[\"variance\"]) for p in dominant_portfolios],  # Convert variance to volatility\n",
        "    y=[p[\"return\"] for p in dominant_portfolios],\n",
        "    mode='markers',\n",
        "    marker=dict(\n",
        "        color=[p[\"return\"] / (np.sqrt(p[\"variance\"])) for p in dominant_portfolios],  # Sharpe Ratio\n",
        "        showscale=True,\n",
        "        size=7,\n",
        "        line=dict(width=1),\n",
        "        colorscale=\"RdBu\",\n",
        "        colorbar=dict(title=\"Sharpe<br>Ratio\")\n",
        "    ),\n",
        "    hoverinfo='text',\n",
        "    text=[\n",
        "        f\"Return: {p['return']:.3%}<br>Volatility: {np.sqrt(p['variance']):.3f}<br>\" +\n",
        "        f\"Sharpe Ratio: {p['sharpe']:.3f}<br>\" +\n",
        "        \"<br>\".join([f\"{p['tickers'][i]}: Weight={p['weights'][i]:.3f}\" for i in range(len(p['tickers']))])\n",
        "        for p in dominant_portfolios\n",
        "    ],\n",
        "    name=\"Portfolios\"\n",
        "))\n",
        "\n",
        "fig2.add_trace(go.Scatter(\n",
        "    x=volatility,\n",
        "    y=annualized_returns,\n",
        "    mode='markers',\n",
        "    hoverinfo='text',\n",
        "    hovertext=[\n",
        "        f\"{name} <br>Volatility: {vol:.3f} <br>Returns: {ret:.3%} <br>Sharpe Ratio: {sr:.3f}\"\n",
        "        for name, vol, ret, sr in zip(names, volatility, annualized_returns, sharpe_ratios)\n",
        "    ],\n",
        "    marker=dict(\n",
        "        color='brown',\n",
        "        size=5,\n",
        "        symbol='triangle-up',  # Sets the marker shape to a triangle\n",
        "        line=dict(width=1)\n",
        "    ),\n",
        "    name=\"Individual Assets\"\n",
        "))\n",
        "\n",
        "fig2.update_layout(\n",
        "    title='Sample of Random Portfolios',\n",
        "    xaxis_title='Volatility (Standard Deviation)',\n",
        "    yaxis_title='Annualized Return',\n",
        "    legend=dict(y=5\n",
        "    )\n",
        ")\n",
        "\n",
        "\n",
        "fig2.show()"
      ]
    },
    {
      "cell_type": "markdown",
      "metadata": {
        "id": "6-WDtJTgabDV"
      },
      "source": [
        "## 5.0 ML Method"
      ]
    },
    {
      "cell_type": "code",
      "execution_count": 58,
      "metadata": {
        "id": "7xbdm-4NabDV",
        "outputId": "419aa594-3dc4-4678-a08a-865db3f896d0"
      },
      "outputs": [
        {
          "name": "stderr",
          "output_type": "stream",
          "text": [
            "100%|██████████| 500/500 [00:03<00:00, 129.05it/s]\n"
          ]
        },
        {
          "data": {
            "text/plain": [
              "({'tickers': array(['CPB_Close', 'CSCO_Close', 'GOOGL_Close', 'IBM_Close', 'JNJ_Close',\n",
              "         'CAT_Close', 'GILD_Close', 'BTI_Close'], dtype='<U11'),\n",
              "  'weights': array([1.29184323e-15, 2.90958001e-15, 2.01288500e-01, 4.57523180e-15,\n",
              "         3.46749767e-01, 2.74091967e-01, 1.77869767e-01, 0.00000000e+00]),\n",
              "  'return': np.float64(0.2922007261367492),\n",
              "  'variance': np.float64(0.009142452005405345),\n",
              "  'sharpe': np.float64(3.0559760498516875)},\n",
              " {'tickers': ['JNJ_Close',\n",
              "   'BA_Close',\n",
              "   'MCD_Close',\n",
              "   'BABA_Close',\n",
              "   'WMT_Close',\n",
              "   'NEE_Close',\n",
              "   'ISRG_Close',\n",
              "   'VRTX_Close'],\n",
              "  'weights': array([0.04909339, 0.10062536, 0.17862062, 0.11151262, 0.14171571,\n",
              "         0.29468371, 0.09423135, 0.02951724]),\n",
              "  'return': np.float64(0.4957046723879353),\n",
              "  'variance': np.float64(0.00481612547463709),\n",
              "  'sharpe': np.float64(7.142892530593808)},\n",
              " 31)"
            ]
          },
          "execution_count": 58,
          "metadata": {},
          "output_type": "execute_result"
        }
      ],
      "source": [
        "def MLRBA(ticker, covariances, returns, num_iterations=1000, risk_free_rate = 0, return_power = 1, std_power = 1, return_weight=2/5, corr_weight=1/5, vol_weight= 2/5):\n",
        "    num_assets =  8\n",
        "    base_portfolio = np.random.choice(list(ticker), num_assets, replace=False)\n",
        "    #base_portfolio = list(ticker)[:num_assets]\n",
        "    highest_weighted_sharpe = -np.inf\n",
        "\n",
        "    all_portfolios = []\n",
        "\n",
        "    tested_assets = set()\n",
        "\n",
        "    def _get_portfolio_stats (portfolio_assets, risk_free_rate = 0):\n",
        "        p_asset_ret = returns.loc[portfolio_assets].values\n",
        "        p_asset_var = covariances.loc[portfolio_assets, portfolio_assets].values\n",
        "        best_p_weights = maximize_sharpe(p_asset_ret, p_asset_var)\n",
        "        p_ret = np.dot(best_p_weights,p_asset_ret)\n",
        "        p_var = np.dot(best_p_weights, p_asset_var @ best_p_weights)\n",
        "        sharpe = get_sharpe_ratio(p_ret, p_var, risk_free_rate, return_power, std_power)\n",
        "\n",
        "        return p_asset_ret, p_asset_var, sharpe, p_ret, p_var, best_p_weights\n",
        "\n",
        "    def _update_portfolios_array(portfolios, assets, weights, p_ret, p_var):\n",
        "        portfolios.append({\n",
        "            \"tickers\": assets,\n",
        "            \"weights\": weights,\n",
        "            \"return\": p_ret,\n",
        "            \"variance\": p_var,\n",
        "            \"sharpe\": (p_ret-risk_free_rate)/np.sqrt(p_var),\n",
        "        })\n",
        "\n",
        "    curr_ret, curr_var, curr_weighted_sharpe, curr_p_return, curr_p_variance, curr_p_weights = _get_portfolio_stats(base_portfolio, risk_free_rate)\n",
        "    _update_portfolios_array(all_portfolios, base_portfolio, curr_p_weights, curr_p_return, curr_p_variance)\n",
        "\n",
        "    good_portfolios = all_portfolios.copy()\n",
        "    best_portfolio = base_portfolio.copy()\n",
        "\n",
        "    highest_weighted_sharpe = curr_weighted_sharpe\n",
        "    for _ in tqdm(range(num_iterations)):\n",
        "        asset_to_remove = find_best_asset_to_remove(best_portfolio, curr_var, curr_ret, return_weight, corr_weight, vol_weight)     #most_correlated_asset, _, _ = find_correlation_matrix(portfolio, curr_variances)\n",
        "        new_portfolio = [str(asset) for asset in best_portfolio if asset != asset_to_remove]\n",
        "\n",
        "        ranked_assets = find_asset_to_add(new_portfolio, ticker, covariances, returns, return_weight, corr_weight, vol_weight)         # Find the next best asset to add to the portfolio\n",
        "        asset_to_add = ranked_assets.index[0]\n",
        "\n",
        "        for asset in ranked_assets.index:\n",
        "            if asset not in tested_assets:\n",
        "                asset_to_add = asset\n",
        "                break\n",
        "\n",
        "        new_portfolio.append(asset_to_add)\n",
        "        tested_assets.add(asset_to_add)\n",
        "\n",
        "        # Substitute in and measure portfolio performance based on sharpe ratio\n",
        "        new_returns, new_var, new_weighted_sharpe, new_p_return, new_p_variance, new_p_weights = _get_portfolio_stats(new_portfolio, risk_free_rate)\n",
        "\n",
        "        _update_portfolios_array(all_portfolios, new_portfolio, new_p_weights, new_p_return, new_p_variance)\n",
        "\n",
        "        if new_weighted_sharpe > highest_weighted_sharpe:\n",
        "            highest_weighted_sharpe = new_weighted_sharpe\n",
        "            best_portfolio = new_portfolio\n",
        "            curr_ret, curr_var = new_returns, new_var\n",
        "\n",
        "            _update_portfolios_array(good_portfolios, new_portfolio, new_p_weights, new_p_return, new_p_variance)\n",
        "\n",
        "            tested_assets.clear()\n",
        "\n",
        "        # If Sharpe ratio was worse, then move on to the next least correlated asset\n",
        "        # If Sharpe ratio is better, set as new base portfolio, and repeat the process for num_iterations times\n",
        "        # Adjust the sharpe ratio, maybe more emphasis on returns/volatility\n",
        "        # Update weights to value return or corr\n",
        "        # See how many iterations it takes to get here, whats a good threshold/stopping point\n",
        "        # Backtesting\n",
        "        # Train a model to maybe predict the sharpe ratio of a portfolio\n",
        "\n",
        "    base_details = good_portfolios[0]\n",
        "    best_details = good_portfolios[-1]\n",
        "\n",
        "    return base_details, best_details, good_portfolios, all_portfolios\n",
        "\n",
        "base_portfolio, best_portfolio, good_portfolios, total_portfolios = MLRBA(names, cov, annualized_returns, 500)\n",
        "base_portfolio, best_portfolio, len(good_portfolios)"
      ]
    },
    {
      "cell_type": "code",
      "execution_count": null,
      "metadata": {},
      "outputs": [
        {
          "name": "stderr",
          "output_type": "stream",
          "text": [
            "100%|██████████| 100/100 [00:00<00:00, 139.91it/s]\n",
            "100%|██████████| 100/100 [00:00<00:00, 151.58it/s]\n",
            "100%|██████████| 100/100 [00:00<00:00, 131.05it/s]\n",
            "100%|██████████| 100/100 [00:00<00:00, 128.93it/s]\n",
            "100%|██████████| 100/100 [00:00<00:00, 140.51it/s]\n",
            "100%|██████████| 100/100 [00:00<00:00, 137.73it/s]\n",
            "100%|██████████| 100/100 [00:00<00:00, 139.41it/s]\n",
            "100%|██████████| 100/100 [00:00<00:00, 124.18it/s]\n",
            "100%|██████████| 100/100 [00:00<00:00, 125.85it/s]\n",
            "100%|██████████| 100/100 [00:00<00:00, 129.85it/s]\n",
            "100%|██████████| 100/100 [00:00<00:00, 144.00it/s]\n",
            "100%|██████████| 100/100 [00:00<00:00, 130.17it/s]\n",
            "100%|██████████| 100/100 [00:00<00:00, 144.03it/s]\n",
            "100%|██████████| 100/100 [00:00<00:00, 143.49it/s]\n",
            "100%|██████████| 100/100 [00:00<00:00, 147.30it/s]\n",
            "100%|██████████| 100/100 [00:00<00:00, 120.22it/s]\n",
            "100%|██████████| 100/100 [00:00<00:00, 144.85it/s]\n",
            "100%|██████████| 100/100 [00:00<00:00, 134.80it/s]\n",
            "100%|██████████| 100/100 [00:00<00:00, 130.06it/s]\n",
            "100%|██████████| 100/100 [00:00<00:00, 173.03it/s]\n",
            "100%|██████████| 100/100 [00:00<00:00, 132.53it/s]\n",
            "100%|██████████| 100/100 [00:00<00:00, 133.94it/s]\n",
            "100%|██████████| 100/100 [00:00<00:00, 124.22it/s]\n",
            "100%|██████████| 100/100 [00:00<00:00, 127.35it/s]\n",
            " 56%|█████▌    | 56/100 [00:00<00:00, 139.49it/s]\n"
          ]
        },
        {
          "ename": "KeyboardInterrupt",
          "evalue": "",
          "output_type": "error",
          "traceback": [
            "\u001b[1;31m---------------------------------------------------------------------------\u001b[0m",
            "\u001b[1;31mKeyboardInterrupt\u001b[0m                         Traceback (most recent call last)",
            "Cell \u001b[1;32mIn[65], line 13\u001b[0m\n\u001b[0;32m     10\u001b[0m     average_length \u001b[38;5;241m=\u001b[39m total_good_portfolios_length \u001b[38;5;241m/\u001b[39m num_runs\n\u001b[0;32m     11\u001b[0m     \u001b[38;5;28;01mreturn\u001b[39;00m average_length, best_portfolios\n\u001b[1;32m---> 13\u001b[0m average_good_portfolios_length, best_portfolios \u001b[38;5;241m=\u001b[39m \u001b[43mrun_MLRBA_multiple_times\u001b[49m\u001b[43m(\u001b[49m\u001b[43mnames\u001b[49m\u001b[43m,\u001b[49m\u001b[43m \u001b[49m\u001b[43mcov\u001b[49m\u001b[43m,\u001b[49m\u001b[43m \u001b[49m\u001b[43mannualized_returns\u001b[49m\u001b[43m,\u001b[49m\u001b[43m \u001b[49m\u001b[38;5;241;43m100\u001b[39;49m\u001b[43m)\u001b[49m\n\u001b[0;32m     14\u001b[0m \u001b[38;5;28mprint\u001b[39m(\u001b[38;5;124m\"\u001b[39m\u001b[38;5;124mAverage length of good portfolios:\u001b[39m\u001b[38;5;124m\"\u001b[39m, average_good_portfolios_length)\n\u001b[0;32m     16\u001b[0m best_portfolios\n",
            "Cell \u001b[1;32mIn[65], line 6\u001b[0m, in \u001b[0;36mrun_MLRBA_multiple_times\u001b[1;34m(names, cov, annualized_returns, num_runs)\u001b[0m\n\u001b[0;32m      3\u001b[0m best_portfolios \u001b[38;5;241m=\u001b[39m []\n\u001b[0;32m      5\u001b[0m \u001b[38;5;28;01mfor\u001b[39;00m _ \u001b[38;5;129;01min\u001b[39;00m \u001b[38;5;28mrange\u001b[39m(num_runs):\n\u001b[1;32m----> 6\u001b[0m     _, best_portfolio, good_portfolios, _ \u001b[38;5;241m=\u001b[39m \u001b[43mMLRBA\u001b[49m\u001b[43m(\u001b[49m\u001b[43mnames\u001b[49m\u001b[43m,\u001b[49m\u001b[43m \u001b[49m\u001b[43mcov\u001b[49m\u001b[43m,\u001b[49m\u001b[43m \u001b[49m\u001b[43mannualized_returns\u001b[49m\u001b[43m,\u001b[49m\u001b[43m \u001b[49m\u001b[38;5;241;43m100\u001b[39;49m\u001b[43m)\u001b[49m\n\u001b[0;32m      7\u001b[0m     total_good_portfolios_length \u001b[38;5;241m+\u001b[39m\u001b[38;5;241m=\u001b[39m \u001b[38;5;28mlen\u001b[39m(good_portfolios)\n\u001b[0;32m      8\u001b[0m     best_portfolios\u001b[38;5;241m.\u001b[39mappend(best_portfolio)\n",
            "Cell \u001b[1;32mIn[58], line 41\u001b[0m, in \u001b[0;36mMLRBA\u001b[1;34m(ticker, covariances, returns, num_iterations, risk_free_rate, return_power, std_power, return_weight, corr_weight, vol_weight)\u001b[0m\n\u001b[0;32m     38\u001b[0m asset_to_remove \u001b[38;5;241m=\u001b[39m find_best_asset_to_remove(best_portfolio, curr_var, curr_ret, return_weight, corr_weight, vol_weight)     \u001b[38;5;66;03m#most_correlated_asset, _, _ = find_correlation_matrix(portfolio, curr_variances)\u001b[39;00m\n\u001b[0;32m     39\u001b[0m new_portfolio \u001b[38;5;241m=\u001b[39m [\u001b[38;5;28mstr\u001b[39m(asset) \u001b[38;5;28;01mfor\u001b[39;00m asset \u001b[38;5;129;01min\u001b[39;00m best_portfolio \u001b[38;5;28;01mif\u001b[39;00m asset \u001b[38;5;241m!=\u001b[39m asset_to_remove]\n\u001b[1;32m---> 41\u001b[0m ranked_assets \u001b[38;5;241m=\u001b[39m \u001b[43mfind_asset_to_add\u001b[49m\u001b[43m(\u001b[49m\u001b[43mnew_portfolio\u001b[49m\u001b[43m,\u001b[49m\u001b[43m \u001b[49m\u001b[43mticker\u001b[49m\u001b[43m,\u001b[49m\u001b[43m \u001b[49m\u001b[43mcovariances\u001b[49m\u001b[43m,\u001b[49m\u001b[43m \u001b[49m\u001b[43mreturns\u001b[49m\u001b[43m,\u001b[49m\u001b[43m \u001b[49m\u001b[43mreturn_weight\u001b[49m\u001b[43m,\u001b[49m\u001b[43m \u001b[49m\u001b[43mcorr_weight\u001b[49m\u001b[43m,\u001b[49m\u001b[43m \u001b[49m\u001b[43mvol_weight\u001b[49m\u001b[43m)\u001b[49m         \u001b[38;5;66;03m# Find the next best asset to add to the portfolio\u001b[39;00m\n\u001b[0;32m     42\u001b[0m asset_to_add \u001b[38;5;241m=\u001b[39m ranked_assets\u001b[38;5;241m.\u001b[39mindex[\u001b[38;5;241m0\u001b[39m]\n\u001b[0;32m     44\u001b[0m \u001b[38;5;28;01mfor\u001b[39;00m asset \u001b[38;5;129;01min\u001b[39;00m ranked_assets\u001b[38;5;241m.\u001b[39mindex:\n",
            "File \u001b[1;32md:\\Programming Projects\\School\\Year 4\\RoboAdvisor\\LearningRBA.py:47\u001b[0m, in \u001b[0;36mfind_asset_to_add\u001b[1;34m(portfolio_assets, all_assets, all_covariance, all_returns, return_weight, corr_weight, vol_weight)\u001b[0m\n\u001b[0;32m     44\u001b[0m remaining_assets \u001b[38;5;241m=\u001b[39m [asset \u001b[38;5;28;01mfor\u001b[39;00m asset \u001b[38;5;129;01min\u001b[39;00m all_assets \u001b[38;5;28;01mif\u001b[39;00m asset \u001b[38;5;129;01mnot\u001b[39;00m \u001b[38;5;129;01min\u001b[39;00m portfolio_assets]\n\u001b[0;32m     45\u001b[0m all_covariance_df \u001b[38;5;241m=\u001b[39m pd\u001b[38;5;241m.\u001b[39mDataFrame(all_covariance, index\u001b[38;5;241m=\u001b[39mall_assets, columns\u001b[38;5;241m=\u001b[39mall_assets)\n\u001b[1;32m---> 47\u001b[0m corr_matrix \u001b[38;5;241m=\u001b[39m \u001b[43mcreate_correlation_matrix\u001b[49m\u001b[43m(\u001b[49m\u001b[43mall_covariance_df\u001b[49m\u001b[43m)\u001b[49m\n\u001b[0;32m     48\u001b[0m avg_corrs \u001b[38;5;241m=\u001b[39m corr_matrix\u001b[38;5;241m.\u001b[39mloc[remaining_assets, portfolio_assets]\u001b[38;5;241m.\u001b[39mmean(axis\u001b[38;5;241m=\u001b[39m\u001b[38;5;241m1\u001b[39m)\n\u001b[0;32m     49\u001b[0m norm_corr \u001b[38;5;241m=\u001b[39m (avg_corrs \u001b[38;5;241m-\u001b[39m avg_corrs\u001b[38;5;241m.\u001b[39mmin()) \u001b[38;5;241m/\u001b[39m (avg_corrs\u001b[38;5;241m.\u001b[39mmax() \u001b[38;5;241m-\u001b[39m avg_corrs\u001b[38;5;241m.\u001b[39mmin())\n",
            "File \u001b[1;32md:\\Programming Projects\\School\\Year 4\\RoboAdvisor\\portfolioFunction.py:37\u001b[0m, in \u001b[0;36mcreate_correlation_matrix\u001b[1;34m(cov_matrix)\u001b[0m\n\u001b[0;32m     35\u001b[0m \u001b[38;5;28;01mdef\u001b[39;00m \u001b[38;5;21mcreate_correlation_matrix\u001b[39m(cov_matrix):\n\u001b[0;32m     36\u001b[0m     std_devs \u001b[38;5;241m=\u001b[39m np\u001b[38;5;241m.\u001b[39msqrt(np\u001b[38;5;241m.\u001b[39mdiag(cov_matrix))\n\u001b[1;32m---> 37\u001b[0m     correlation_matrix \u001b[38;5;241m=\u001b[39m \u001b[43mcov_matrix\u001b[49m\u001b[43m \u001b[49m\u001b[38;5;241;43m/\u001b[39;49m\u001b[43m \u001b[49m\u001b[43m(\u001b[49m\u001b[43mstd_devs\u001b[49m\u001b[43m[\u001b[49m\u001b[43m:\u001b[49m\u001b[43m,\u001b[49m\u001b[43m \u001b[49m\u001b[38;5;28;43;01mNone\u001b[39;49;00m\u001b[43m]\u001b[49m\u001b[43m \u001b[49m\u001b[38;5;241;43m*\u001b[39;49m\u001b[43m \u001b[49m\u001b[43mstd_devs\u001b[49m\u001b[43m[\u001b[49m\u001b[38;5;28;43;01mNone\u001b[39;49;00m\u001b[43m,\u001b[49m\u001b[43m \u001b[49m\u001b[43m:\u001b[49m\u001b[43m]\u001b[49m\u001b[43m)\u001b[49m\n\u001b[0;32m     39\u001b[0m     \u001b[38;5;28;01mreturn\u001b[39;00m correlation_matrix\n",
            "File \u001b[1;32mc:\\Users\\tongc\\anaconda3\\envs\\roboA\\Lib\\site-packages\\pandas\\core\\ops\\common.py:62\u001b[0m, in \u001b[0;36m_unpack_zerodim_and_defer.<locals>.new_method\u001b[1;34m(self, other)\u001b[0m\n\u001b[0;32m     59\u001b[0m stripped_name \u001b[38;5;241m=\u001b[39m name\u001b[38;5;241m.\u001b[39mremoveprefix(\u001b[38;5;124m\"\u001b[39m\u001b[38;5;124m__\u001b[39m\u001b[38;5;124m\"\u001b[39m)\u001b[38;5;241m.\u001b[39mremovesuffix(\u001b[38;5;124m\"\u001b[39m\u001b[38;5;124m__\u001b[39m\u001b[38;5;124m\"\u001b[39m)\n\u001b[0;32m     60\u001b[0m is_cmp \u001b[38;5;241m=\u001b[39m stripped_name \u001b[38;5;129;01min\u001b[39;00m {\u001b[38;5;124m\"\u001b[39m\u001b[38;5;124meq\u001b[39m\u001b[38;5;124m\"\u001b[39m, \u001b[38;5;124m\"\u001b[39m\u001b[38;5;124mne\u001b[39m\u001b[38;5;124m\"\u001b[39m, \u001b[38;5;124m\"\u001b[39m\u001b[38;5;124mlt\u001b[39m\u001b[38;5;124m\"\u001b[39m, \u001b[38;5;124m\"\u001b[39m\u001b[38;5;124mle\u001b[39m\u001b[38;5;124m\"\u001b[39m, \u001b[38;5;124m\"\u001b[39m\u001b[38;5;124mgt\u001b[39m\u001b[38;5;124m\"\u001b[39m, \u001b[38;5;124m\"\u001b[39m\u001b[38;5;124mge\u001b[39m\u001b[38;5;124m\"\u001b[39m}\n\u001b[1;32m---> 62\u001b[0m \u001b[38;5;129m@wraps\u001b[39m(method)\n\u001b[0;32m     63\u001b[0m \u001b[38;5;28;01mdef\u001b[39;00m \u001b[38;5;21mnew_method\u001b[39m(\u001b[38;5;28mself\u001b[39m, other):\n\u001b[0;32m     64\u001b[0m     \u001b[38;5;28;01mif\u001b[39;00m is_cmp \u001b[38;5;129;01mand\u001b[39;00m \u001b[38;5;28misinstance\u001b[39m(\u001b[38;5;28mself\u001b[39m, ABCIndex) \u001b[38;5;129;01mand\u001b[39;00m \u001b[38;5;28misinstance\u001b[39m(other, ABCSeries):\n\u001b[0;32m     65\u001b[0m         \u001b[38;5;66;03m# For comparison ops, Index does *not* defer to Series\u001b[39;00m\n\u001b[0;32m     66\u001b[0m         \u001b[38;5;28;01mpass\u001b[39;00m\n",
            "\u001b[1;31mKeyboardInterrupt\u001b[0m: "
          ]
        }
      ],
      "source": [
        "def run_MLRBA_multiple_times(names, cov, annualized_returns, num_runs):\n",
        "    total_good_portfolios_length = 0\n",
        "    best_portfolios = []\n",
        "    \n",
        "    for _ in range(num_runs):\n",
        "        _, best_portfolio, good_portfolios, _ = MLRBA(names, cov, annualized_returns, 300)\n",
        "        total_good_portfolios_length += len(good_portfolios)\n",
        "        best_portfolios.append(best_portfolio)\n",
        "    \n",
        "    average_length = total_good_portfolios_length / num_runs\n",
        "    return average_length, best_portfolios\n",
        "\n",
        "average_good_portfolios_length, best_portfolios = run_MLRBA_multiple_times(names, cov, annualized_returns, 10)\n",
        "print(\"Average length of good portfolios:\", average_good_portfolios_length)\n",
        "\n",
        "best_portfolios\n"
      ]
    },
    {
      "cell_type": "code",
      "execution_count": 60,
      "metadata": {
        "id": "Znh8vrYQabDW",
        "outputId": "5bbb5e46-8027-4b21-e833-e8ce13010964"
      },
      "outputs": [
        {
          "data": {
            "application/vnd.plotly.v1+json": {
              "config": {
                "plotlyServerURL": "https://plot.ly"
              },
              "data": [
                {
                  "hoverinfo": "text",
                  "marker": {
                    "color": [
                      3.0559760498516875,
                      3.7229151842556925,
                      3.7229151842556925,
                      3.6454218302448465,
                      3.0559758923282305,
                      3.1215151577962046,
                      4.276754909987933,
                      4.381936740639984,
                      4.381936740639984,
                      4.679834509165891,
                      4.381936740639984,
                      4.679834509165891,
                      4.276754947420217,
                      4.282957972378963,
                      4.488031619661445,
                      4.324428296418404,
                      4.815668678398446,
                      4.4007550559009365,
                      4.77339000321984,
                      4.212491199566644,
                      4.212491330314106,
                      4.815668678382923,
                      4.442284779306268,
                      4.375872513649524,
                      4.362329410400146,
                      4.223960931853934,
                      4.212491350701287,
                      4.453706757607881,
                      4.867545043150238,
                      5.050304186907617,
                      5.050304186907617,
                      4.9087577234503454,
                      4.63768783757971,
                      4.639282357228072,
                      5.0978016298238975,
                      5.050304186907617,
                      4.9087577234503454,
                      4.63768783757971,
                      4.639282357228072,
                      5.0978016298238975,
                      4.789531608344854,
                      4.803787571393372,
                      4.739841284311807,
                      4.637688292026107,
                      4.765309956543191,
                      4.647189223112865,
                      4.761783964076951,
                      4.650884614065649,
                      4.784701409519667,
                      4.637688201262541,
                      4.653401635074559,
                      4.637688447628218,
                      4.637688335378974,
                      4.867545043151474,
                      4.688427542565245,
                      4.637688447445312,
                      4.724774474501758,
                      5.085409422312691,
                      4.6376883449069695,
                      4.6376883386765115,
                      4.637688442732347,
                      4.637688414296012,
                      4.637688446223184,
                      4.655249879527723,
                      4.642652533756961,
                      4.637688161502372,
                      4.860027860564289,
                      4.63768837307391,
                      4.637687952481534,
                      4.887351580269738,
                      4.656267610455931,
                      4.637688439480973,
                      4.639629744238831,
                      4.654765445940932,
                      4.637688277658295,
                      4.63768844730899,
                      4.637688375955261,
                      4.63768842675968,
                      4.6376884372875065,
                      4.6376884407732915,
                      4.637688325533199,
                      4.642321528670555,
                      5.236500271789258,
                      5.079820683230254,
                      5.145940764611696,
                      4.6751247381903,
                      4.717231280753144,
                      4.88825197432103,
                      5.482060591944929,
                      5.7087285654592215,
                      5.7087285654592215,
                      5.567558854382668,
                      5.482060515646443,
                      5.482060636923128,
                      5.548660779475052,
                      5.713611951531057,
                      5.566582288534526,
                      5.437121313929693,
                      5.236500394901383,
                      5.236500484848057,
                      5.7136119515320765,
                      5.566582288534526,
                      5.437121313929693,
                      5.236500394901383,
                      5.236500484848057,
                      5.7136119515320765,
                      5.316258090343025,
                      5.374896173520021,
                      5.2365004592187585,
                      5.270329888320022,
                      5.293901250869312,
                      5.286613781477732,
                      5.293082977402407,
                      5.236500321218486,
                      5.236500271798606,
                      5.407252906111275,
                      5.2365004668020285,
                      5.247840542212422,
                      5.236500473745807,
                      5.236500467003648,
                      5.237031422967817,
                      5.236500461506252,
                      5.236500403420513,
                      5.469886334747247,
                      5.237135034441699,
                      5.236500453160901,
                      5.236500018132447,
                      5.23879544651511,
                      5.254492178210494,
                      5.236500413316328,
                      5.236500454578951,
                      5.338915551684051,
                      5.236500445864027,
                      5.236500423585818,
                      5.236500482418778,
                      5.236500471546453,
                      5.236500483545478,
                      5.236500484065886,
                      5.236500290813068,
                      5.236500327499163,
                      5.236500471693904,
                      5.236500474846563,
                      5.236500481213743,
                      5.236500460586433,
                      5.23650042609191,
                      5.23650048516934,
                      5.24030369315164,
                      5.236730297878083,
                      5.236500298736663,
                      5.257030477869007,
                      5.236500457945015,
                      5.236500444118894,
                      5.236500484609823,
                      5.80782531306581,
                      5.901428735257458,
                      6.126663039995973,
                      6.126663039995973,
                      5.9014285187568465,
                      5.901428735496858,
                      5.961644776973805,
                      6.45326487260036,
                      6.475514769206267,
                      6.475514769206267,
                      6.453264761826628,
                      6.453264844221975,
                      6.466296665914295,
                      6.539781686853116,
                      6.547801878746401,
                      6.547801878746401,
                      6.539781618153232,
                      6.539781815804735,
                      6.543096904276693,
                      6.559353729080405,
                      6.547801878746401,
                      6.539781618153232,
                      6.539781815804735,
                      6.543096904276693,
                      6.559353729080405,
                      6.539781454680046,
                      6.539781814448276,
                      6.542521888938041,
                      6.539781634071888,
                      6.592085620170909,
                      6.547801878746401,
                      6.539781618153232,
                      6.539781815804735,
                      6.543096904276693,
                      6.559353729080405,
                      6.539781454680046,
                      6.539781814448276,
                      6.542521888938041,
                      6.539781634071888,
                      6.592085620170909,
                      6.539781838360526,
                      6.539781646884361,
                      6.539781933829072,
                      6.5397817277474255,
                      6.53978191059213,
                      6.539781695186108,
                      6.539781925243744,
                      6.539781859745098,
                      6.539781924920508,
                      6.539781512911661,
                      6.540461455100465,
                      6.539781933604226,
                      6.53978188552438,
                      6.539933315428448,
                      6.541927615134764,
                      6.5397819172109015,
                      6.540376912028484,
                      6.539781692655706,
                      6.539781931275711,
                      6.539781874191701,
                      6.539781848656938,
                      6.539781742991917,
                      6.539781907678462,
                      6.539781926654627,
                      6.539781927309121,
                      6.539781894281796,
                      6.539781884587318,
                      6.539781899422379,
                      6.5397819208038,
                      6.539781853130369,
                      6.539781862980105,
                      6.539781622752655,
                      6.53978167531685,
                      6.539781898060466,
                      6.53978177965122,
                      6.5397819270296695,
                      6.539781931006605,
                      6.539781912481618,
                      6.539781674604959,
                      6.53978193316416,
                      6.539781784266957,
                      6.539781894721916,
                      6.539781688072324,
                      6.539781923698866,
                      6.5730062679156305,
                      6.652477538132155,
                      6.591327827132087,
                      6.57090215609033,
                      6.570902246410089,
                      6.575286597285016,
                      6.652477538133216,
                      6.591327827132087,
                      6.57090215609033,
                      6.570902246410089,
                      6.575286597285016,
                      6.652477538133216,
                      6.591567389922482,
                      6.570915023118012,
                      6.578495407434919,
                      6.570902128076203,
                      6.570902131951313,
                      6.574936940093421,
                      6.6607993402133765,
                      6.591327827132087,
                      6.57090215609033,
                      6.570902246410089,
                      6.575286597285016,
                      6.652477538133216,
                      6.591567389922482,
                      6.570915023118012,
                      6.578495407434919,
                      6.570902128076203,
                      6.570902131951313,
                      6.574936940093421,
                      6.6607993402133765,
                      6.570902055781585,
                      6.570902177781184,
                      6.570902246225745,
                      6.5709022336215535,
                      6.5709022464566536,
                      6.570902234070757,
                      6.5709019465687115,
                      6.570901852830224,
                      6.570901974135304,
                      6.5709022440997344,
                      6.570902115156236,
                      6.5722588021584665,
                      6.570902214724887,
                      6.5709019498988495,
                      6.581297278331735,
                      6.570901875871212,
                      6.570902226286953,
                      6.588324071791409,
                      6.570902244880974,
                      6.570902184282928,
                      6.57090203942807,
                      6.57090209771025,
                      6.570902216440141,
                      6.570902157483591,
                      6.570902242414347,
                      6.57090223384122,
                      6.570902186248195,
                      6.570902147305133,
                      6.570902244786749,
                      6.570901975062629,
                      6.570902244723223,
                      6.570902212433611,
                      6.570902229858146,
                      6.5709019365055825,
                      6.570902236376789,
                      6.5709020925056585,
                      6.570902181582196,
                      6.570902156848173,
                      6.570902207180136,
                      6.570902038098488,
                      6.61250009370246,
                      6.5709019744889785,
                      6.570902230032103,
                      6.570902143010056,
                      6.570902206610709,
                      6.570901994383408,
                      6.570902026795216,
                      6.570902113017612,
                      6.579476185019634,
                      6.577822212392777,
                      6.570902179353046,
                      6.570901800499918,
                      6.570902237168005,
                      6.570901914895231,
                      6.570902216797516,
                      6.570902199642082,
                      6.57090216072621,
                      6.570902243670166,
                      6.850963311325345,
                      6.72594654918424,
                      6.694000238644493,
                      6.694000068926623,
                      6.700307413989339,
                      6.7670183792567675,
                      6.726580439002181,
                      6.694138261245988,
                      6.694000068625269,
                      6.694000162511123,
                      6.709699463021995,
                      6.694000042290422,
                      6.712699469703229,
                      6.6940001568210565,
                      6.69400019396225,
                      6.694000155201198,
                      6.6940002075355025,
                      6.693999904088193,
                      6.693999997681156,
                      6.69400015658969,
                      6.900503781068891,
                      6.72594654918424,
                      6.694000238644493,
                      6.694000068926623,
                      6.700307413989339,
                      6.7670183792567675,
                      6.726580439002181,
                      6.694138261245988,
                      6.694000068625269,
                      6.694000162511123,
                      6.709699463021995,
                      6.694000042290422,
                      6.712699469703229,
                      6.6940001568210565,
                      6.69400019396225,
                      6.694000155201198,
                      6.6940002075355025,
                      6.693999904088193,
                      6.693999997681156,
                      6.69400015658969,
                      6.900503781068891,
                      6.694124615647688,
                      6.694000232807425,
                      6.694000152460428,
                      6.694000238324086,
                      6.693999962883558,
                      6.694000237119056,
                      6.707867631794404,
                      6.693999981550797,
                      6.693999876363319,
                      6.694000267603096,
                      6.694000165639277,
                      6.6940002429022325,
                      6.694000117928274,
                      6.694000234840336,
                      6.694000159681696,
                      6.740227532059457,
                      6.694000074963249,
                      6.694000150125387,
                      6.694000091937073,
                      6.694000262044954,
                      6.694000239739257,
                      6.694000261553493,
                      6.752118872497822,
                      6.850963311328944,
                      6.693999902688433,
                      6.695872035145686,
                      6.694000145550617,
                      6.693999885923623,
                      6.694000265646851,
                      6.693999812993103,
                      6.693999776133486,
                      6.693999908173374,
                      6.694000073411984,
                      6.693999885586495,
                      6.6940002262601555,
                      6.694000138083829,
                      6.694000149338163,
                      6.694000218007339,
                      6.694000235087297,
                      6.6940002581250635,
                      6.694000212180577,
                      6.694000113428123,
                      6.694000244489346,
                      6.694000149473075,
                      6.775847470426209,
                      6.69399934776795,
                      6.694000264287995,
                      6.70507557524128,
                      6.69400011071438,
                      6.6940002236876275,
                      6.710602771011976,
                      6.694000213101916,
                      6.694000134166393,
                      6.693999966530539,
                      6.694000257837,
                      6.694000254100452,
                      6.694000008478412,
                      6.729684719884985,
                      7.115245943270041,
                      6.971424449785337,
                      6.955537133442996,
                      6.955536750545929,
                      6.984992411636922,
                      7.025617235482497,
                      6.979366125784055,
                      6.956158492403918,
                      6.955536971668689,
                      6.977987460772585,
                      6.955536970229386,
                      6.955537112425853,
                      6.955537026840538,
                      6.955537127608364,
                      6.955536931627856,
                      6.95553703526638,
                      7.142892530593641,
                      7.003051721547555,
                      7.142892530593808,
                      7.003051721547555,
                      7.142892530593808,
                      7.001515468761393,
                      7.00151559951183,
                      7.036115382682078,
                      7.027564396321678,
                      7.011235250985277,
                      7.001515813318859,
                      7.00151581760629,
                      7.001515808512744,
                      7.001515572670739,
                      7.001515817791524,
                      7.001515817504874,
                      7.001515795179938,
                      7.0015157134883435,
                      7.001515759359283,
                      7.0015154758749665,
                      7.00151577334649,
                      7.001515450890248,
                      7.001515751491499,
                      7.00151579443706,
                      7.001515731860985,
                      7.001515817924828,
                      7.001515791452516,
                      7.018795637858382,
                      7.0015158149237315,
                      7.0015154531070625,
                      7.001515766067019,
                      7.052233938653869,
                      7.0576010407366425,
                      7.001515814239462,
                      7.001515818379696,
                      7.001515590546162,
                      7.001515729178677,
                      7.061253968104251,
                      7.001515732310395,
                      7.001515384738798,
                      7.002259017033993,
                      7.0018203772231775,
                      7.001515702407267,
                      7.001515725665265,
                      7.001515818345176,
                      7.001515817190852,
                      7.001515703990075,
                      7.001515783406058,
                      7.00151558169054,
                      7.0015157696585915,
                      7.001515788531126,
                      7.001515797634573,
                      7.055926107632522,
                      7.001515610529579,
                      7.001515754564013,
                      7.001515819034217,
                      7.002919550957134,
                      7.001515804878601,
                      7.001515746871716,
                      7.001515798734453
                    ],
                    "colorbar": {
                      "title": {
                        "text": "Sharpe<br>Ratio"
                      }
                    },
                    "colorscale": [
                      [
                        0,
                        "rgb(103,0,31)"
                      ],
                      [
                        0.1,
                        "rgb(178,24,43)"
                      ],
                      [
                        0.2,
                        "rgb(214,96,77)"
                      ],
                      [
                        0.3,
                        "rgb(244,165,130)"
                      ],
                      [
                        0.4,
                        "rgb(253,219,199)"
                      ],
                      [
                        0.5,
                        "rgb(247,247,247)"
                      ],
                      [
                        0.6,
                        "rgb(209,229,240)"
                      ],
                      [
                        0.7,
                        "rgb(146,197,222)"
                      ],
                      [
                        0.8,
                        "rgb(67,147,195)"
                      ],
                      [
                        0.9,
                        "rgb(33,102,172)"
                      ],
                      [
                        1,
                        "rgb(5,48,97)"
                      ]
                    ],
                    "line": {
                      "width": 1
                    },
                    "showscale": true,
                    "size": 7
                  },
                  "mode": "markers",
                  "name": "Portfolios",
                  "text": [
                    "Return: 29.220%<br>Volatility: 0.096<br>Sharpe Ratio: 3.056<br>CPB_Close: Weight=0.000<br>CSCO_Close: Weight=0.000<br>GOOGL_Close: Weight=0.201<br>IBM_Close: Weight=0.000<br>JNJ_Close: Weight=0.347<br>CAT_Close: Weight=0.274<br>GILD_Close: Weight=0.178<br>BTI_Close: Weight=0.000",
                    "Return: 45.445%<br>Volatility: 0.122<br>Sharpe Ratio: 3.723<br>CPB_Close: Weight=0.000<br>GOOGL_Close: Weight=0.085<br>IBM_Close: Weight=0.000<br>JNJ_Close: Weight=0.365<br>CAT_Close: Weight=0.297<br>GILD_Close: Weight=0.099<br>BTI_Close: Weight=0.000<br>VRTX_Close: Weight=0.153",
                    "Return: 45.445%<br>Volatility: 0.122<br>Sharpe Ratio: 3.723<br>CPB_Close: Weight=0.000<br>GOOGL_Close: Weight=0.085<br>IBM_Close: Weight=0.000<br>JNJ_Close: Weight=0.365<br>CAT_Close: Weight=0.297<br>GILD_Close: Weight=0.099<br>BTI_Close: Weight=0.000<br>VRTX_Close: Weight=0.153",
                    "Return: 44.145%<br>Volatility: 0.121<br>Sharpe Ratio: 3.645<br>CPB_Close: Weight=0.000<br>GOOGL_Close: Weight=0.015<br>IBM_Close: Weight=0.000<br>JNJ_Close: Weight=0.347<br>CAT_Close: Weight=0.238<br>GILD_Close: Weight=0.231<br>BTI_Close: Weight=0.000<br>NVDA_Close: Weight=0.169",
                    "Return: 29.222%<br>Volatility: 0.096<br>Sharpe Ratio: 3.056<br>CPB_Close: Weight=0.000<br>GOOGL_Close: Weight=0.201<br>IBM_Close: Weight=0.000<br>JNJ_Close: Weight=0.347<br>CAT_Close: Weight=0.274<br>GILD_Close: Weight=0.178<br>BTI_Close: Weight=0.000<br>AMD_Close: Weight=0.000",
                    "Return: 32.586%<br>Volatility: 0.104<br>Sharpe Ratio: 3.122<br>CPB_Close: Weight=0.000<br>GOOGL_Close: Weight=0.135<br>IBM_Close: Weight=0.000<br>JNJ_Close: Weight=0.322<br>CAT_Close: Weight=0.275<br>GILD_Close: Weight=0.184<br>BTI_Close: Weight=0.000<br>NFLX_Close: Weight=0.084",
                    "Return: 52.967%<br>Volatility: 0.124<br>Sharpe Ratio: 4.277<br>CPB_Close: Weight=0.000<br>GOOGL_Close: Weight=0.000<br>IBM_Close: Weight=0.000<br>JNJ_Close: Weight=0.341<br>CAT_Close: Weight=0.203<br>GILD_Close: Weight=0.111<br>BTI_Close: Weight=0.000<br>BABA_Close: Weight=0.346",
                    "Return: 55.899%<br>Volatility: 0.128<br>Sharpe Ratio: 4.382<br>CPB_Close: Weight=0.000<br>GOOGL_Close: Weight=0.000<br>IBM_Close: Weight=0.000<br>JNJ_Close: Weight=0.315<br>CAT_Close: Weight=0.188<br>GILD_Close: Weight=0.129<br>BABA_Close: Weight=0.297<br>NVDA_Close: Weight=0.071",
                    "Return: 55.899%<br>Volatility: 0.128<br>Sharpe Ratio: 4.382<br>CPB_Close: Weight=0.000<br>GOOGL_Close: Weight=0.000<br>IBM_Close: Weight=0.000<br>JNJ_Close: Weight=0.315<br>CAT_Close: Weight=0.188<br>GILD_Close: Weight=0.129<br>BABA_Close: Weight=0.297<br>NVDA_Close: Weight=0.071",
                    "Return: 63.305%<br>Volatility: 0.135<br>Sharpe Ratio: 4.680<br>CPB_Close: Weight=0.000<br>GOOGL_Close: Weight=0.000<br>IBM_Close: Weight=0.000<br>JNJ_Close: Weight=0.317<br>CAT_Close: Weight=0.213<br>GILD_Close: Weight=0.037<br>BABA_Close: Weight=0.316<br>VRTX_Close: Weight=0.117",
                    "Return: 55.899%<br>Volatility: 0.128<br>Sharpe Ratio: 4.382<br>CPB_Close: Weight=0.000<br>GOOGL_Close: Weight=0.000<br>IBM_Close: Weight=0.000<br>JNJ_Close: Weight=0.315<br>CAT_Close: Weight=0.188<br>GILD_Close: Weight=0.129<br>BABA_Close: Weight=0.297<br>NVDA_Close: Weight=0.071",
                    "Return: 63.305%<br>Volatility: 0.135<br>Sharpe Ratio: 4.680<br>CPB_Close: Weight=0.000<br>GOOGL_Close: Weight=0.000<br>IBM_Close: Weight=0.000<br>JNJ_Close: Weight=0.317<br>CAT_Close: Weight=0.213<br>GILD_Close: Weight=0.037<br>BABA_Close: Weight=0.316<br>VRTX_Close: Weight=0.117",
                    "Return: 52.965%<br>Volatility: 0.124<br>Sharpe Ratio: 4.277<br>CPB_Close: Weight=0.000<br>GOOGL_Close: Weight=0.000<br>IBM_Close: Weight=0.000<br>JNJ_Close: Weight=0.341<br>CAT_Close: Weight=0.203<br>GILD_Close: Weight=0.111<br>BABA_Close: Weight=0.346<br>AMD_Close: Weight=0.000",
                    "Return: 53.667%<br>Volatility: 0.125<br>Sharpe Ratio: 4.283<br>CPB_Close: Weight=0.000<br>GOOGL_Close: Weight=0.000<br>IBM_Close: Weight=0.000<br>JNJ_Close: Weight=0.325<br>CAT_Close: Weight=0.200<br>GILD_Close: Weight=0.109<br>BABA_Close: Weight=0.342<br>NFLX_Close: Weight=0.024",
                    "Return: 58.593%<br>Volatility: 0.131<br>Sharpe Ratio: 4.488<br>CPB_Close: Weight=0.000<br>GOOGL_Close: Weight=0.000<br>IBM_Close: Weight=0.000<br>JNJ_Close: Weight=0.270<br>CAT_Close: Weight=0.242<br>GILD_Close: Weight=0.020<br>BABA_Close: Weight=0.318<br>REGN_Close: Weight=0.150",
                    "Return: 52.351%<br>Volatility: 0.121<br>Sharpe Ratio: 4.324<br>CPB_Close: Weight=0.000<br>GOOGL_Close: Weight=0.000<br>IBM_Close: Weight=0.000<br>JNJ_Close: Weight=0.349<br>CAT_Close: Weight=0.189<br>GILD_Close: Weight=0.095<br>BABA_Close: Weight=0.317<br>TSLA_Close: Weight=0.049",
                    "Return: 61.117%<br>Volatility: 0.127<br>Sharpe Ratio: 4.816<br>CPB_Close: Weight=0.000<br>GOOGL_Close: Weight=0.000<br>IBM_Close: Weight=0.000<br>JNJ_Close: Weight=0.276<br>CAT_Close: Weight=0.171<br>GILD_Close: Weight=0.001<br>BABA_Close: Weight=0.244<br>PYPL_Close: Weight=0.308",
                    "Return: 55.833%<br>Volatility: 0.127<br>Sharpe Ratio: 4.401<br>CPB_Close: Weight=0.000<br>GOOGL_Close: Weight=0.000<br>IBM_Close: Weight=0.000<br>JNJ_Close: Weight=0.281<br>CAT_Close: Weight=0.195<br>GILD_Close: Weight=0.055<br>PYPL_Close: Weight=0.379<br>NVDA_Close: Weight=0.090",
                    "Return: 62.443%<br>Volatility: 0.131<br>Sharpe Ratio: 4.773<br>CPB_Close: Weight=0.000<br>GOOGL_Close: Weight=0.000<br>IBM_Close: Weight=0.000<br>JNJ_Close: Weight=0.252<br>CAT_Close: Weight=0.215<br>GILD_Close: Weight=0.000<br>PYPL_Close: Weight=0.405<br>VRTX_Close: Weight=0.128",
                    "Return: 51.111%<br>Volatility: 0.121<br>Sharpe Ratio: 4.212<br>CPB_Close: Weight=0.000<br>GOOGL_Close: Weight=0.000<br>IBM_Close: Weight=0.000<br>JNJ_Close: Weight=0.312<br>CAT_Close: Weight=0.220<br>GILD_Close: Weight=0.023<br>PYPL_Close: Weight=0.445<br>AMD_Close: Weight=0.000",
                    "Return: 51.107%<br>Volatility: 0.121<br>Sharpe Ratio: 4.212<br>CPB_Close: Weight=0.000<br>GOOGL_Close: Weight=0.000<br>IBM_Close: Weight=0.000<br>JNJ_Close: Weight=0.312<br>CAT_Close: Weight=0.220<br>GILD_Close: Weight=0.023<br>PYPL_Close: Weight=0.445<br>NFLX_Close: Weight=0.000",
                    "Return: 61.117%<br>Volatility: 0.127<br>Sharpe Ratio: 4.816<br>CPB_Close: Weight=0.000<br>GOOGL_Close: Weight=0.000<br>IBM_Close: Weight=0.000<br>JNJ_Close: Weight=0.276<br>CAT_Close: Weight=0.171<br>GILD_Close: Weight=0.001<br>PYPL_Close: Weight=0.308<br>BABA_Close: Weight=0.244",
                    "Return: 55.355%<br>Volatility: 0.125<br>Sharpe Ratio: 4.442<br>CPB_Close: Weight=0.000<br>GOOGL_Close: Weight=0.000<br>IBM_Close: Weight=0.000<br>JNJ_Close: Weight=0.219<br>CAT_Close: Weight=0.248<br>GILD_Close: Weight=0.000<br>PYPL_Close: Weight=0.389<br>REGN_Close: Weight=0.143",
                    "Return: 51.360%<br>Volatility: 0.117<br>Sharpe Ratio: 4.376<br>CPB_Close: Weight=0.000<br>GOOGL_Close: Weight=0.000<br>IBM_Close: Weight=0.000<br>JNJ_Close: Weight=0.323<br>CAT_Close: Weight=0.190<br>GILD_Close: Weight=0.000<br>PYPL_Close: Weight=0.403<br>TSLA_Close: Weight=0.085",
                    "Return: 49.865%<br>Volatility: 0.114<br>Sharpe Ratio: 4.362<br>CPB_Close: Weight=0.000<br>GOOGL_Close: Weight=0.000<br>IBM_Close: Weight=0.000<br>JNJ_Close: Weight=0.270<br>CAT_Close: Weight=0.182<br>GILD_Close: Weight=0.005<br>PYPL_Close: Weight=0.312<br>META_Close: Weight=0.232",
                    "Return: 49.774%<br>Volatility: 0.118<br>Sharpe Ratio: 4.224<br>CPB_Close: Weight=0.000<br>GOOGL_Close: Weight=0.000<br>IBM_Close: Weight=0.000<br>JNJ_Close: Weight=0.287<br>CAT_Close: Weight=0.203<br>GILD_Close: Weight=0.016<br>PYPL_Close: Weight=0.408<br>MA_Close: Weight=0.087",
                    "Return: 51.104%<br>Volatility: 0.121<br>Sharpe Ratio: 4.212<br>CPB_Close: Weight=0.000<br>GOOGL_Close: Weight=0.000<br>IBM_Close: Weight=0.000<br>JNJ_Close: Weight=0.312<br>CAT_Close: Weight=0.220<br>GILD_Close: Weight=0.023<br>PYPL_Close: Weight=0.445<br>GOOG_Close: Weight=0.000",
                    "Return: 50.043%<br>Volatility: 0.112<br>Sharpe Ratio: 4.454<br>CPB_Close: Weight=0.000<br>GOOGL_Close: Weight=0.000<br>IBM_Close: Weight=0.000<br>JNJ_Close: Weight=0.235<br>CAT_Close: Weight=0.187<br>GILD_Close: Weight=0.003<br>PYPL_Close: Weight=0.305<br>ADBE_Close: Weight=0.269",
                    "Return: 54.392%<br>Volatility: 0.112<br>Sharpe Ratio: 4.868<br>CPB_Close: Weight=0.000<br>GOOGL_Close: Weight=0.000<br>IBM_Close: Weight=0.000<br>JNJ_Close: Weight=0.279<br>CAT_Close: Weight=0.147<br>GILD_Close: Weight=0.000<br>PYPL_Close: Weight=0.274<br>BA_Close: Weight=0.300",
                    "Return: 64.475%<br>Volatility: 0.128<br>Sharpe Ratio: 5.050<br>CPB_Close: Weight=0.000<br>GOOGL_Close: Weight=0.000<br>IBM_Close: Weight=0.000<br>JNJ_Close: Weight=0.261<br>GILD_Close: Weight=0.000<br>PYPL_Close: Weight=0.303<br>BA_Close: Weight=0.331<br>VRTX_Close: Weight=0.105",
                    "Return: 64.475%<br>Volatility: 0.128<br>Sharpe Ratio: 5.050<br>CPB_Close: Weight=0.000<br>GOOGL_Close: Weight=0.000<br>IBM_Close: Weight=0.000<br>JNJ_Close: Weight=0.261<br>GILD_Close: Weight=0.000<br>PYPL_Close: Weight=0.303<br>BA_Close: Weight=0.331<br>VRTX_Close: Weight=0.105",
                    "Return: 61.838%<br>Volatility: 0.126<br>Sharpe Ratio: 4.909<br>CPB_Close: Weight=0.000<br>GOOGL_Close: Weight=0.000<br>IBM_Close: Weight=0.000<br>JNJ_Close: Weight=0.287<br>GILD_Close: Weight=0.000<br>PYPL_Close: Weight=0.247<br>BA_Close: Weight=0.367<br>NVDA_Close: Weight=0.099",
                    "Return: 55.899%<br>Volatility: 0.121<br>Sharpe Ratio: 4.638<br>CPB_Close: Weight=0.000<br>GOOGL_Close: Weight=0.000<br>IBM_Close: Weight=0.000<br>JNJ_Close: Weight=0.314<br>GILD_Close: Weight=0.000<br>PYPL_Close: Weight=0.323<br>BA_Close: Weight=0.363<br>AMD_Close: Weight=0.000",
                    "Return: 56.173%<br>Volatility: 0.121<br>Sharpe Ratio: 4.639<br>CPB_Close: Weight=0.000<br>GOOGL_Close: Weight=0.000<br>IBM_Close: Weight=0.000<br>JNJ_Close: Weight=0.307<br>GILD_Close: Weight=0.000<br>PYPL_Close: Weight=0.318<br>BA_Close: Weight=0.364<br>NFLX_Close: Weight=0.011",
                    "Return: 63.033%<br>Volatility: 0.124<br>Sharpe Ratio: 5.098<br>CPB_Close: Weight=0.000<br>GOOGL_Close: Weight=0.000<br>IBM_Close: Weight=0.000<br>JNJ_Close: Weight=0.277<br>GILD_Close: Weight=0.000<br>PYPL_Close: Weight=0.225<br>BA_Close: Weight=0.293<br>BABA_Close: Weight=0.205",
                    "Return: 64.475%<br>Volatility: 0.128<br>Sharpe Ratio: 5.050<br>CPB_Close: Weight=0.000<br>GOOGL_Close: Weight=0.000<br>IBM_Close: Weight=0.000<br>JNJ_Close: Weight=0.261<br>GILD_Close: Weight=0.000<br>PYPL_Close: Weight=0.303<br>BA_Close: Weight=0.331<br>VRTX_Close: Weight=0.105",
                    "Return: 61.838%<br>Volatility: 0.126<br>Sharpe Ratio: 4.909<br>CPB_Close: Weight=0.000<br>GOOGL_Close: Weight=0.000<br>IBM_Close: Weight=0.000<br>JNJ_Close: Weight=0.287<br>GILD_Close: Weight=0.000<br>PYPL_Close: Weight=0.247<br>BA_Close: Weight=0.367<br>NVDA_Close: Weight=0.099",
                    "Return: 55.899%<br>Volatility: 0.121<br>Sharpe Ratio: 4.638<br>CPB_Close: Weight=0.000<br>GOOGL_Close: Weight=0.000<br>IBM_Close: Weight=0.000<br>JNJ_Close: Weight=0.314<br>GILD_Close: Weight=0.000<br>PYPL_Close: Weight=0.323<br>BA_Close: Weight=0.363<br>AMD_Close: Weight=0.000",
                    "Return: 56.173%<br>Volatility: 0.121<br>Sharpe Ratio: 4.639<br>CPB_Close: Weight=0.000<br>GOOGL_Close: Weight=0.000<br>IBM_Close: Weight=0.000<br>JNJ_Close: Weight=0.307<br>GILD_Close: Weight=0.000<br>PYPL_Close: Weight=0.318<br>BA_Close: Weight=0.364<br>NFLX_Close: Weight=0.011",
                    "Return: 63.033%<br>Volatility: 0.124<br>Sharpe Ratio: 5.098<br>CPB_Close: Weight=0.000<br>GOOGL_Close: Weight=0.000<br>IBM_Close: Weight=0.000<br>JNJ_Close: Weight=0.277<br>GILD_Close: Weight=0.000<br>PYPL_Close: Weight=0.225<br>BA_Close: Weight=0.293<br>BABA_Close: Weight=0.205",
                    "Return: 58.874%<br>Volatility: 0.123<br>Sharpe Ratio: 4.790<br>CPB_Close: Weight=0.000<br>GOOGL_Close: Weight=0.000<br>IBM_Close: Weight=0.000<br>JNJ_Close: Weight=0.241<br>GILD_Close: Weight=0.000<br>PYPL_Close: Weight=0.282<br>BA_Close: Weight=0.368<br>REGN_Close: Weight=0.109",
                    "Return: 55.124%<br>Volatility: 0.115<br>Sharpe Ratio: 4.804<br>CPB_Close: Weight=0.000<br>GOOGL_Close: Weight=0.000<br>IBM_Close: Weight=0.000<br>JNJ_Close: Weight=0.312<br>GILD_Close: Weight=0.000<br>PYPL_Close: Weight=0.283<br>BA_Close: Weight=0.326<br>TSLA_Close: Weight=0.079",
                    "Return: 53.994%<br>Volatility: 0.114<br>Sharpe Ratio: 4.740<br>CPB_Close: Weight=0.000<br>GOOGL_Close: Weight=0.000<br>IBM_Close: Weight=0.000<br>JNJ_Close: Weight=0.274<br>GILD_Close: Weight=0.000<br>PYPL_Close: Weight=0.227<br>BA_Close: Weight=0.316<br>META_Close: Weight=0.183",
                    "Return: 55.903%<br>Volatility: 0.121<br>Sharpe Ratio: 4.638<br>CPB_Close: Weight=0.000<br>GOOGL_Close: Weight=0.000<br>IBM_Close: Weight=0.000<br>JNJ_Close: Weight=0.314<br>GILD_Close: Weight=0.000<br>PYPL_Close: Weight=0.323<br>BA_Close: Weight=0.363<br>GOOG_Close: Weight=0.000",
                    "Return: 54.215%<br>Volatility: 0.114<br>Sharpe Ratio: 4.765<br>CPB_Close: Weight=0.000<br>GOOGL_Close: Weight=0.000<br>IBM_Close: Weight=0.000<br>JNJ_Close: Weight=0.255<br>GILD_Close: Weight=0.000<br>PYPL_Close: Weight=0.239<br>BA_Close: Weight=0.311<br>ADBE_Close: Weight=0.195",
                    "Return: 54.375%<br>Volatility: 0.117<br>Sharpe Ratio: 4.647<br>CPB_Close: Weight=0.000<br>GOOGL_Close: Weight=0.000<br>IBM_Close: Weight=0.000<br>JNJ_Close: Weight=0.289<br>GILD_Close: Weight=0.000<br>PYPL_Close: Weight=0.293<br>BA_Close: Weight=0.344<br>MA_Close: Weight=0.073",
                    "Return: 56.985%<br>Volatility: 0.120<br>Sharpe Ratio: 4.762<br>CPB_Close: Weight=0.000<br>GOOGL_Close: Weight=0.000<br>IBM_Close: Weight=0.000<br>JNJ_Close: Weight=0.241<br>GILD_Close: Weight=0.000<br>PYPL_Close: Weight=0.284<br>BA_Close: Weight=0.349<br>EW_Close: Weight=0.125",
                    "Return: 54.087%<br>Volatility: 0.116<br>Sharpe Ratio: 4.651<br>CPB_Close: Weight=0.000<br>GOOGL_Close: Weight=0.000<br>IBM_Close: Weight=0.000<br>JNJ_Close: Weight=0.291<br>GILD_Close: Weight=0.000<br>PYPL_Close: Weight=0.289<br>BA_Close: Weight=0.346<br>MSFT_Close: Weight=0.074",
                    "Return: 53.915%<br>Volatility: 0.113<br>Sharpe Ratio: 4.785<br>CPB_Close: Weight=0.000<br>GOOGL_Close: Weight=0.000<br>IBM_Close: Weight=0.000<br>JNJ_Close: Weight=0.253<br>GILD_Close: Weight=0.000<br>PYPL_Close: Weight=0.268<br>BA_Close: Weight=0.327<br>ORCL_Close: Weight=0.153",
                    "Return: 55.904%<br>Volatility: 0.121<br>Sharpe Ratio: 4.638<br>CPB_Close: Weight=0.000<br>GOOGL_Close: Weight=0.000<br>IBM_Close: Weight=0.000<br>JNJ_Close: Weight=0.314<br>GILD_Close: Weight=0.000<br>PYPL_Close: Weight=0.323<br>BA_Close: Weight=0.363<br>SAP_Close: Weight=0.000",
                    "Return: 54.062%<br>Volatility: 0.116<br>Sharpe Ratio: 4.653<br>CPB_Close: Weight=0.000<br>GOOGL_Close: Weight=0.000<br>IBM_Close: Weight=0.000<br>JNJ_Close: Weight=0.305<br>GILD_Close: Weight=0.000<br>PYPL_Close: Weight=0.289<br>BA_Close: Weight=0.343<br>AMZN_Close: Weight=0.062",
                    "Return: 55.892%<br>Volatility: 0.121<br>Sharpe Ratio: 4.638<br>CPB_Close: Weight=0.000<br>GOOGL_Close: Weight=0.000<br>IBM_Close: Weight=0.000<br>JNJ_Close: Weight=0.314<br>GILD_Close: Weight=0.000<br>PYPL_Close: Weight=0.323<br>BA_Close: Weight=0.363<br>TXN_Close: Weight=0.000",
                    "Return: 55.901%<br>Volatility: 0.121<br>Sharpe Ratio: 4.638<br>CPB_Close: Weight=0.000<br>GOOGL_Close: Weight=0.000<br>IBM_Close: Weight=0.000<br>JNJ_Close: Weight=0.314<br>GILD_Close: Weight=0.000<br>PYPL_Close: Weight=0.323<br>BA_Close: Weight=0.363<br>CRM_Close: Weight=0.000",
                    "Return: 54.392%<br>Volatility: 0.112<br>Sharpe Ratio: 4.868<br>CPB_Close: Weight=0.000<br>GOOGL_Close: Weight=0.000<br>IBM_Close: Weight=0.000<br>JNJ_Close: Weight=0.279<br>GILD_Close: Weight=0.000<br>PYPL_Close: Weight=0.274<br>BA_Close: Weight=0.300<br>CAT_Close: Weight=0.147",
                    "Return: 51.272%<br>Volatility: 0.109<br>Sharpe Ratio: 4.688<br>CPB_Close: Weight=0.000<br>GOOGL_Close: Weight=0.000<br>IBM_Close: Weight=0.000<br>JNJ_Close: Weight=0.267<br>GILD_Close: Weight=0.000<br>PYPL_Close: Weight=0.262<br>BA_Close: Weight=0.309<br>V_Close: Weight=0.162",
                    "Return: 55.892%<br>Volatility: 0.121<br>Sharpe Ratio: 4.638<br>CPB_Close: Weight=0.000<br>GOOGL_Close: Weight=0.000<br>IBM_Close: Weight=0.000<br>JNJ_Close: Weight=0.314<br>GILD_Close: Weight=0.000<br>PYPL_Close: Weight=0.323<br>BA_Close: Weight=0.363<br>BIIB_Close: Weight=0.000",
                    "Return: 53.380%<br>Volatility: 0.113<br>Sharpe Ratio: 4.725<br>CPB_Close: Weight=0.000<br>GOOGL_Close: Weight=0.000<br>IBM_Close: Weight=0.000<br>JNJ_Close: Weight=0.193<br>GILD_Close: Weight=0.000<br>PYPL_Close: Weight=0.266<br>BA_Close: Weight=0.337<br>ABBV_Close: Weight=0.203",
                    "Return: 57.864%<br>Volatility: 0.114<br>Sharpe Ratio: 5.085<br>CPB_Close: Weight=0.000<br>GOOGL_Close: Weight=0.000<br>IBM_Close: Weight=0.000<br>JNJ_Close: Weight=0.193<br>GILD_Close: Weight=0.000<br>PYPL_Close: Weight=0.224<br>BA_Close: Weight=0.310<br>ISRG_Close: Weight=0.274",
                    "Return: 55.883%<br>Volatility: 0.120<br>Sharpe Ratio: 4.638<br>CPB_Close: Weight=0.000<br>GOOGL_Close: Weight=0.000<br>IBM_Close: Weight=0.000<br>JNJ_Close: Weight=0.314<br>GILD_Close: Weight=0.000<br>PYPL_Close: Weight=0.323<br>BA_Close: Weight=0.363<br>UA_Close: Weight=0.000",
                    "Return: 55.883%<br>Volatility: 0.120<br>Sharpe Ratio: 4.638<br>CPB_Close: Weight=0.000<br>GOOGL_Close: Weight=0.000<br>IBM_Close: Weight=0.000<br>JNJ_Close: Weight=0.314<br>GILD_Close: Weight=0.000<br>PYPL_Close: Weight=0.323<br>BA_Close: Weight=0.363<br>MMM_Close: Weight=0.000",
                    "Return: 55.890%<br>Volatility: 0.121<br>Sharpe Ratio: 4.638<br>CPB_Close: Weight=0.000<br>GOOGL_Close: Weight=0.000<br>IBM_Close: Weight=0.000<br>JNJ_Close: Weight=0.314<br>GILD_Close: Weight=0.000<br>PYPL_Close: Weight=0.323<br>BA_Close: Weight=0.363<br>AAPL_Close: Weight=0.000",
                    "Return: 55.887%<br>Volatility: 0.121<br>Sharpe Ratio: 4.638<br>CPB_Close: Weight=0.000<br>GOOGL_Close: Weight=0.000<br>IBM_Close: Weight=0.000<br>JNJ_Close: Weight=0.314<br>GILD_Close: Weight=0.000<br>PYPL_Close: Weight=0.323<br>BA_Close: Weight=0.363<br>BSX_Close: Weight=0.000",
                    "Return: 55.892%<br>Volatility: 0.121<br>Sharpe Ratio: 4.638<br>CPB_Close: Weight=0.000<br>GOOGL_Close: Weight=0.000<br>IBM_Close: Weight=0.000<br>JNJ_Close: Weight=0.314<br>GILD_Close: Weight=0.000<br>PYPL_Close: Weight=0.323<br>BA_Close: Weight=0.363<br>SNAP_Close: Weight=0.000",
                    "Return: 53.886%<br>Volatility: 0.116<br>Sharpe Ratio: 4.655<br>CPB_Close: Weight=0.000<br>GOOGL_Close: Weight=0.000<br>IBM_Close: Weight=0.000<br>JNJ_Close: Weight=0.273<br>GILD_Close: Weight=0.000<br>PYPL_Close: Weight=0.302<br>BA_Close: Weight=0.344<br>ABT_Close: Weight=0.081",
                    "Return: 53.649%<br>Volatility: 0.116<br>Sharpe Ratio: 4.643<br>CPB_Close: Weight=0.000<br>GOOGL_Close: Weight=0.000<br>IBM_Close: Weight=0.000<br>JNJ_Close: Weight=0.297<br>GILD_Close: Weight=0.000<br>PYPL_Close: Weight=0.305<br>BA_Close: Weight=0.338<br>HON_Close: Weight=0.059",
                    "Return: 55.899%<br>Volatility: 0.121<br>Sharpe Ratio: 4.638<br>CPB_Close: Weight=0.000<br>GOOGL_Close: Weight=0.000<br>IBM_Close: Weight=0.000<br>JNJ_Close: Weight=0.314<br>GILD_Close: Weight=0.000<br>PYPL_Close: Weight=0.323<br>BA_Close: Weight=0.363<br>INTC_Close: Weight=0.000",
                    "Return: 52.991%<br>Volatility: 0.109<br>Sharpe Ratio: 4.860<br>CPB_Close: Weight=0.000<br>GOOGL_Close: Weight=0.000<br>IBM_Close: Weight=0.000<br>JNJ_Close: Weight=0.259<br>GILD_Close: Weight=0.000<br>PYPL_Close: Weight=0.278<br>BA_Close: Weight=0.276<br>DE_Close: Weight=0.187",
                    "Return: 55.899%<br>Volatility: 0.121<br>Sharpe Ratio: 4.638<br>CPB_Close: Weight=0.000<br>GOOGL_Close: Weight=0.000<br>IBM_Close: Weight=0.000<br>JNJ_Close: Weight=0.314<br>GILD_Close: Weight=0.000<br>PYPL_Close: Weight=0.323<br>BA_Close: Weight=0.363<br>RTX_Close: Weight=0.000",
                    "Return: 55.873%<br>Volatility: 0.120<br>Sharpe Ratio: 4.638<br>CPB_Close: Weight=0.000<br>GOOGL_Close: Weight=0.000<br>IBM_Close: Weight=0.000<br>JNJ_Close: Weight=0.315<br>GILD_Close: Weight=0.000<br>PYPL_Close: Weight=0.323<br>BA_Close: Weight=0.363<br>CMCSA_Close: Weight=0.000",
                    "Return: 51.433%<br>Volatility: 0.105<br>Sharpe Ratio: 4.887<br>CPB_Close: Weight=0.000<br>GOOGL_Close: Weight=0.000<br>IBM_Close: Weight=0.000<br>JNJ_Close: Weight=0.149<br>GILD_Close: Weight=0.000<br>PYPL_Close: Weight=0.247<br>BA_Close: Weight=0.292<br>SYK_Close: Weight=0.311",
                    "Return: 52.613%<br>Volatility: 0.113<br>Sharpe Ratio: 4.656<br>CPB_Close: Weight=0.000<br>GOOGL_Close: Weight=0.000<br>IBM_Close: Weight=0.000<br>JNJ_Close: Weight=0.280<br>GILD_Close: Weight=0.000<br>PYPL_Close: Weight=0.295<br>BA_Close: Weight=0.320<br>LMT_Close: Weight=0.104",
                    "Return: 55.892%<br>Volatility: 0.121<br>Sharpe Ratio: 4.638<br>CPB_Close: Weight=0.000<br>GOOGL_Close: Weight=0.000<br>IBM_Close: Weight=0.000<br>JNJ_Close: Weight=0.314<br>GILD_Close: Weight=0.000<br>PYPL_Close: Weight=0.323<br>BA_Close: Weight=0.363<br>MS_Close: Weight=0.000",
                    "Return: 55.120%<br>Volatility: 0.119<br>Sharpe Ratio: 4.640<br>CPB_Close: Weight=0.000<br>GOOGL_Close: Weight=0.000<br>IBM_Close: Weight=0.000<br>JNJ_Close: Weight=0.302<br>GILD_Close: Weight=0.000<br>PYPL_Close: Weight=0.317<br>BA_Close: Weight=0.354<br>PM_Close: Weight=0.027",
                    "Return: 53.361%<br>Volatility: 0.115<br>Sharpe Ratio: 4.655<br>CPB_Close: Weight=0.000<br>GOOGL_Close: Weight=0.000<br>IBM_Close: Weight=0.000<br>JNJ_Close: Weight=0.293<br>GILD_Close: Weight=0.000<br>PYPL_Close: Weight=0.297<br>BA_Close: Weight=0.338<br>ETN_Close: Weight=0.072",
                    "Return: 55.900%<br>Volatility: 0.121<br>Sharpe Ratio: 4.638<br>CPB_Close: Weight=0.000<br>GOOGL_Close: Weight=0.000<br>IBM_Close: Weight=0.000<br>JNJ_Close: Weight=0.314<br>GILD_Close: Weight=0.000<br>PYPL_Close: Weight=0.323<br>BA_Close: Weight=0.363<br>MDT_Close: Weight=0.000",
                    "Return: 55.891%<br>Volatility: 0.121<br>Sharpe Ratio: 4.638<br>CPB_Close: Weight=0.000<br>GOOGL_Close: Weight=0.000<br>IBM_Close: Weight=0.000<br>JNJ_Close: Weight=0.314<br>GILD_Close: Weight=0.000<br>PYPL_Close: Weight=0.323<br>BA_Close: Weight=0.363<br>GS_Close: Weight=0.000",
                    "Return: 55.899%<br>Volatility: 0.121<br>Sharpe Ratio: 4.638<br>CPB_Close: Weight=0.000<br>GOOGL_Close: Weight=0.000<br>IBM_Close: Weight=0.000<br>JNJ_Close: Weight=0.314<br>GILD_Close: Weight=0.000<br>PYPL_Close: Weight=0.323<br>BA_Close: Weight=0.363<br>BTI_Close: Weight=0.000",
                    "Return: 55.893%<br>Volatility: 0.121<br>Sharpe Ratio: 4.638<br>CPB_Close: Weight=0.000<br>GOOGL_Close: Weight=0.000<br>IBM_Close: Weight=0.000<br>JNJ_Close: Weight=0.314<br>GILD_Close: Weight=0.000<br>PYPL_Close: Weight=0.323<br>BA_Close: Weight=0.363<br>QCOM_Close: Weight=0.000",
                    "Return: 55.894%<br>Volatility: 0.121<br>Sharpe Ratio: 4.638<br>CPB_Close: Weight=0.000<br>GOOGL_Close: Weight=0.000<br>IBM_Close: Weight=0.000<br>JNJ_Close: Weight=0.314<br>GILD_Close: Weight=0.000<br>PYPL_Close: Weight=0.323<br>BA_Close: Weight=0.363<br>AMGN_Close: Weight=0.000",
                    "Return: 55.889%<br>Volatility: 0.121<br>Sharpe Ratio: 4.638<br>CPB_Close: Weight=0.000<br>GOOGL_Close: Weight=0.000<br>IBM_Close: Weight=0.000<br>JNJ_Close: Weight=0.314<br>GILD_Close: Weight=0.000<br>PYPL_Close: Weight=0.323<br>BA_Close: Weight=0.363<br>BAC_Close: Weight=0.000",
                    "Return: 55.899%<br>Volatility: 0.121<br>Sharpe Ratio: 4.638<br>CPB_Close: Weight=0.000<br>GOOGL_Close: Weight=0.000<br>IBM_Close: Weight=0.000<br>JNJ_Close: Weight=0.314<br>GILD_Close: Weight=0.000<br>PYPL_Close: Weight=0.323<br>BA_Close: Weight=0.363<br>CSCO_Close: Weight=0.000",
                    "Return: 54.985%<br>Volatility: 0.118<br>Sharpe Ratio: 4.642<br>CPB_Close: Weight=0.000<br>GOOGL_Close: Weight=0.000<br>IBM_Close: Weight=0.000<br>JNJ_Close: Weight=0.305<br>GILD_Close: Weight=0.000<br>PYPL_Close: Weight=0.316<br>BA_Close: Weight=0.358<br>NKE_Close: Weight=0.020",
                    "Return: 50.879%<br>Volatility: 0.097<br>Sharpe Ratio: 5.237<br>CPB_Close: Weight=0.000<br>GOOGL_Close: Weight=0.000<br>IBM_Close: Weight=0.000<br>JNJ_Close: Weight=0.132<br>GILD_Close: Weight=0.000<br>PYPL_Close: Weight=0.221<br>BA_Close: Weight=0.254<br>UNH_Close: Weight=0.393",
                    "Return: 51.406%<br>Volatility: 0.101<br>Sharpe Ratio: 5.080<br>CPB_Close: Weight=0.000<br>GOOGL_Close: Weight=0.000<br>IBM_Close: Weight=0.000<br>JNJ_Close: Weight=0.167<br>GILD_Close: Weight=0.000<br>BA_Close: Weight=0.329<br>UNH_Close: Weight=0.422<br>VRTX_Close: Weight=0.082",
                    "Return: 51.935%<br>Volatility: 0.101<br>Sharpe Ratio: 5.146<br>CPB_Close: Weight=0.000<br>GOOGL_Close: Weight=0.000<br>IBM_Close: Weight=0.000<br>JNJ_Close: Weight=0.157<br>GILD_Close: Weight=0.016<br>BA_Close: Weight=0.327<br>UNH_Close: Weight=0.403<br>NVDA_Close: Weight=0.096",
                    "Return: 44.035%<br>Volatility: 0.094<br>Sharpe Ratio: 4.675<br>CPB_Close: Weight=0.000<br>GOOGL_Close: Weight=0.000<br>IBM_Close: Weight=0.000<br>JNJ_Close: Weight=0.201<br>GILD_Close: Weight=0.004<br>BA_Close: Weight=0.352<br>UNH_Close: Weight=0.443<br>AMD_Close: Weight=0.000",
                    "Return: 45.788%<br>Volatility: 0.097<br>Sharpe Ratio: 4.717<br>CPB_Close: Weight=0.000<br>GOOGL_Close: Weight=0.000<br>IBM_Close: Weight=0.000<br>JNJ_Close: Weight=0.171<br>GILD_Close: Weight=0.000<br>BA_Close: Weight=0.351<br>UNH_Close: Weight=0.434<br>NFLX_Close: Weight=0.044",
                    "Return: 48.101%<br>Volatility: 0.098<br>Sharpe Ratio: 4.888<br>CPB_Close: Weight=0.000<br>GOOGL_Close: Weight=0.000<br>IBM_Close: Weight=0.000<br>JNJ_Close: Weight=0.137<br>GILD_Close: Weight=0.000<br>BA_Close: Weight=0.351<br>UNH_Close: Weight=0.412<br>REGN_Close: Weight=0.100",
                    "Return: 53.853%<br>Volatility: 0.098<br>Sharpe Ratio: 5.482<br>CPB_Close: Weight=0.000<br>GOOGL_Close: Weight=0.000<br>IBM_Close: Weight=0.000<br>JNJ_Close: Weight=0.140<br>GILD_Close: Weight=0.000<br>BA_Close: Weight=0.246<br>UNH_Close: Weight=0.418<br>BABA_Close: Weight=0.197",
                    "Return: 58.394%<br>Volatility: 0.102<br>Sharpe Ratio: 5.709<br>CPB_Close: Weight=0.000<br>IBM_Close: Weight=0.000<br>JNJ_Close: Weight=0.118<br>GILD_Close: Weight=0.000<br>BA_Close: Weight=0.237<br>UNH_Close: Weight=0.404<br>BABA_Close: Weight=0.181<br>VRTX_Close: Weight=0.060",
                    "Return: 58.394%<br>Volatility: 0.102<br>Sharpe Ratio: 5.709<br>CPB_Close: Weight=0.000<br>IBM_Close: Weight=0.000<br>JNJ_Close: Weight=0.118<br>GILD_Close: Weight=0.000<br>BA_Close: Weight=0.237<br>UNH_Close: Weight=0.404<br>BABA_Close: Weight=0.181<br>VRTX_Close: Weight=0.060",
                    "Return: 56.047%<br>Volatility: 0.101<br>Sharpe Ratio: 5.568<br>CPB_Close: Weight=0.000<br>IBM_Close: Weight=0.000<br>JNJ_Close: Weight=0.131<br>GILD_Close: Weight=0.000<br>BA_Close: Weight=0.253<br>UNH_Close: Weight=0.406<br>BABA_Close: Weight=0.165<br>NVDA_Close: Weight=0.045",
                    "Return: 53.854%<br>Volatility: 0.098<br>Sharpe Ratio: 5.482<br>CPB_Close: Weight=0.000<br>IBM_Close: Weight=0.000<br>JNJ_Close: Weight=0.139<br>GILD_Close: Weight=0.000<br>BA_Close: Weight=0.246<br>UNH_Close: Weight=0.418<br>BABA_Close: Weight=0.197<br>AMD_Close: Weight=0.000",
                    "Return: 53.853%<br>Volatility: 0.098<br>Sharpe Ratio: 5.482<br>CPB_Close: Weight=0.000<br>IBM_Close: Weight=0.000<br>JNJ_Close: Weight=0.139<br>GILD_Close: Weight=0.000<br>BA_Close: Weight=0.246<br>UNH_Close: Weight=0.418<br>BABA_Close: Weight=0.197<br>NFLX_Close: Weight=0.000",
                    "Return: 55.490%<br>Volatility: 0.100<br>Sharpe Ratio: 5.549<br>CPB_Close: Weight=0.000<br>IBM_Close: Weight=0.000<br>JNJ_Close: Weight=0.107<br>GILD_Close: Weight=0.000<br>BA_Close: Weight=0.251<br>UNH_Close: Weight=0.402<br>BABA_Close: Weight=0.186<br>REGN_Close: Weight=0.055",
                    "Return: 56.430%<br>Volatility: 0.099<br>Sharpe Ratio: 5.714<br>CPB_Close: Weight=0.000<br>IBM_Close: Weight=0.000<br>JNJ_Close: Weight=0.105<br>GILD_Close: Weight=0.000<br>BA_Close: Weight=0.201<br>UNH_Close: Weight=0.389<br>BABA_Close: Weight=0.158<br>PYPL_Close: Weight=0.147",
                    "Return: 57.029%<br>Volatility: 0.102<br>Sharpe Ratio: 5.567<br>CPB_Close: Weight=0.000<br>IBM_Close: Weight=0.000<br>JNJ_Close: Weight=0.103<br>GILD_Close: Weight=0.000<br>BA_Close: Weight=0.237<br>UNH_Close: Weight=0.375<br>PYPL_Close: Weight=0.212<br>VRTX_Close: Weight=0.072",
                    "Return: 54.975%<br>Volatility: 0.101<br>Sharpe Ratio: 5.437<br>CPB_Close: Weight=0.000<br>IBM_Close: Weight=0.000<br>JNJ_Close: Weight=0.120<br>GILD_Close: Weight=0.000<br>BA_Close: Weight=0.261<br>UNH_Close: Weight=0.379<br>PYPL_Close: Weight=0.175<br>NVDA_Close: Weight=0.066",
                    "Return: 50.879%<br>Volatility: 0.097<br>Sharpe Ratio: 5.237<br>CPB_Close: Weight=0.000<br>IBM_Close: Weight=0.000<br>JNJ_Close: Weight=0.132<br>GILD_Close: Weight=0.000<br>BA_Close: Weight=0.254<br>UNH_Close: Weight=0.393<br>PYPL_Close: Weight=0.221<br>AMD_Close: Weight=0.000",
                    "Return: 50.874%<br>Volatility: 0.097<br>Sharpe Ratio: 5.237<br>CPB_Close: Weight=0.000<br>IBM_Close: Weight=0.000<br>JNJ_Close: Weight=0.132<br>GILD_Close: Weight=0.000<br>BA_Close: Weight=0.254<br>UNH_Close: Weight=0.393<br>PYPL_Close: Weight=0.221<br>NFLX_Close: Weight=0.000",
                    "Return: 56.430%<br>Volatility: 0.099<br>Sharpe Ratio: 5.714<br>CPB_Close: Weight=0.000<br>IBM_Close: Weight=0.000<br>JNJ_Close: Weight=0.105<br>GILD_Close: Weight=0.000<br>BA_Close: Weight=0.201<br>UNH_Close: Weight=0.389<br>PYPL_Close: Weight=0.147<br>BABA_Close: Weight=0.158",
                    "Return: 57.029%<br>Volatility: 0.102<br>Sharpe Ratio: 5.567<br>CPB_Close: Weight=0.000<br>IBM_Close: Weight=0.000<br>JNJ_Close: Weight=0.103<br>GILD_Close: Weight=0.000<br>BA_Close: Weight=0.237<br>UNH_Close: Weight=0.375<br>PYPL_Close: Weight=0.212<br>VRTX_Close: Weight=0.072",
                    "Return: 54.975%<br>Volatility: 0.101<br>Sharpe Ratio: 5.437<br>CPB_Close: Weight=0.000<br>IBM_Close: Weight=0.000<br>JNJ_Close: Weight=0.120<br>GILD_Close: Weight=0.000<br>BA_Close: Weight=0.261<br>UNH_Close: Weight=0.379<br>PYPL_Close: Weight=0.175<br>NVDA_Close: Weight=0.066",
                    "Return: 50.879%<br>Volatility: 0.097<br>Sharpe Ratio: 5.237<br>CPB_Close: Weight=0.000<br>IBM_Close: Weight=0.000<br>JNJ_Close: Weight=0.132<br>GILD_Close: Weight=0.000<br>BA_Close: Weight=0.254<br>UNH_Close: Weight=0.393<br>PYPL_Close: Weight=0.221<br>AMD_Close: Weight=0.000",
                    "Return: 50.874%<br>Volatility: 0.097<br>Sharpe Ratio: 5.237<br>CPB_Close: Weight=0.000<br>IBM_Close: Weight=0.000<br>JNJ_Close: Weight=0.132<br>GILD_Close: Weight=0.000<br>BA_Close: Weight=0.254<br>UNH_Close: Weight=0.393<br>PYPL_Close: Weight=0.221<br>NFLX_Close: Weight=0.000",
                    "Return: 56.430%<br>Volatility: 0.099<br>Sharpe Ratio: 5.714<br>CPB_Close: Weight=0.000<br>IBM_Close: Weight=0.000<br>JNJ_Close: Weight=0.105<br>GILD_Close: Weight=0.000<br>BA_Close: Weight=0.201<br>UNH_Close: Weight=0.389<br>PYPL_Close: Weight=0.147<br>BABA_Close: Weight=0.158",
                    "Return: 52.741%<br>Volatility: 0.099<br>Sharpe Ratio: 5.316<br>CPB_Close: Weight=0.000<br>IBM_Close: Weight=0.000<br>JNJ_Close: Weight=0.097<br>GILD_Close: Weight=0.000<br>BA_Close: Weight=0.261<br>UNH_Close: Weight=0.377<br>PYPL_Close: Weight=0.202<br>REGN_Close: Weight=0.061",
                    "Return: 50.648%<br>Volatility: 0.094<br>Sharpe Ratio: 5.375<br>CPB_Close: Weight=0.000<br>IBM_Close: Weight=0.000<br>JNJ_Close: Weight=0.141<br>GILD_Close: Weight=0.000<br>BA_Close: Weight=0.235<br>UNH_Close: Weight=0.368<br>PYPL_Close: Weight=0.199<br>TSLA_Close: Weight=0.056",
                    "Return: 50.878%<br>Volatility: 0.097<br>Sharpe Ratio: 5.237<br>CPB_Close: Weight=0.000<br>IBM_Close: Weight=0.000<br>JNJ_Close: Weight=0.132<br>GILD_Close: Weight=0.000<br>BA_Close: Weight=0.254<br>UNH_Close: Weight=0.393<br>PYPL_Close: Weight=0.221<br>MA_Close: Weight=0.000",
                    "Return: 50.306%<br>Volatility: 0.095<br>Sharpe Ratio: 5.270<br>CPB_Close: Weight=0.000<br>IBM_Close: Weight=0.000<br>JNJ_Close: Weight=0.125<br>GILD_Close: Weight=0.000<br>BA_Close: Weight=0.239<br>UNH_Close: Weight=0.368<br>PYPL_Close: Weight=0.183<br>META_Close: Weight=0.085",
                    "Return: 51.690%<br>Volatility: 0.098<br>Sharpe Ratio: 5.294<br>CPB_Close: Weight=0.000<br>IBM_Close: Weight=0.000<br>JNJ_Close: Weight=0.101<br>GILD_Close: Weight=0.000<br>BA_Close: Weight=0.252<br>UNH_Close: Weight=0.375<br>PYPL_Close: Weight=0.205<br>EW_Close: Weight=0.067",
                    "Return: 50.393%<br>Volatility: 0.095<br>Sharpe Ratio: 5.287<br>CPB_Close: Weight=0.000<br>IBM_Close: Weight=0.000<br>JNJ_Close: Weight=0.115<br>GILD_Close: Weight=0.000<br>BA_Close: Weight=0.236<br>UNH_Close: Weight=0.364<br>PYPL_Close: Weight=0.186<br>ADBE_Close: Weight=0.099",
                    "Return: 50.297%<br>Volatility: 0.095<br>Sharpe Ratio: 5.293<br>CPB_Close: Weight=0.000<br>IBM_Close: Weight=0.000<br>JNJ_Close: Weight=0.116<br>GILD_Close: Weight=0.000<br>BA_Close: Weight=0.245<br>UNH_Close: Weight=0.359<br>PYPL_Close: Weight=0.202<br>ORCL_Close: Weight=0.077",
                    "Return: 50.878%<br>Volatility: 0.097<br>Sharpe Ratio: 5.237<br>CPB_Close: Weight=0.000<br>IBM_Close: Weight=0.000<br>JNJ_Close: Weight=0.132<br>GILD_Close: Weight=0.000<br>BA_Close: Weight=0.254<br>UNH_Close: Weight=0.393<br>PYPL_Close: Weight=0.221<br>GOOG_Close: Weight=0.000",
                    "Return: 50.879%<br>Volatility: 0.097<br>Sharpe Ratio: 5.237<br>CPB_Close: Weight=0.000<br>IBM_Close: Weight=0.000<br>JNJ_Close: Weight=0.132<br>GILD_Close: Weight=0.000<br>BA_Close: Weight=0.254<br>UNH_Close: Weight=0.393<br>PYPL_Close: Weight=0.221<br>GOOGL_Close: Weight=0.000",
                    "Return: 50.346%<br>Volatility: 0.093<br>Sharpe Ratio: 5.407<br>CPB_Close: Weight=0.000<br>IBM_Close: Weight=0.000<br>JNJ_Close: Weight=0.126<br>GILD_Close: Weight=0.000<br>BA_Close: Weight=0.222<br>UNH_Close: Weight=0.354<br>PYPL_Close: Weight=0.198<br>CAT_Close: Weight=0.101",
                    "Return: 50.872%<br>Volatility: 0.097<br>Sharpe Ratio: 5.237<br>CPB_Close: Weight=0.000<br>IBM_Close: Weight=0.000<br>JNJ_Close: Weight=0.132<br>GILD_Close: Weight=0.000<br>BA_Close: Weight=0.254<br>UNH_Close: Weight=0.393<br>PYPL_Close: Weight=0.221<br>UA_Close: Weight=0.000",
                    "Return: 50.363%<br>Volatility: 0.096<br>Sharpe Ratio: 5.248<br>CPB_Close: Weight=0.000<br>IBM_Close: Weight=0.000<br>JNJ_Close: Weight=0.104<br>GILD_Close: Weight=0.000<br>BA_Close: Weight=0.252<br>UNH_Close: Weight=0.374<br>PYPL_Close: Weight=0.209<br>ABBV_Close: Weight=0.061",
                    "Return: 50.875%<br>Volatility: 0.097<br>Sharpe Ratio: 5.237<br>CPB_Close: Weight=0.000<br>IBM_Close: Weight=0.000<br>JNJ_Close: Weight=0.132<br>GILD_Close: Weight=0.000<br>BA_Close: Weight=0.254<br>UNH_Close: Weight=0.393<br>PYPL_Close: Weight=0.221<br>SAP_Close: Weight=0.000",
                    "Return: 50.873%<br>Volatility: 0.097<br>Sharpe Ratio: 5.237<br>CPB_Close: Weight=0.000<br>IBM_Close: Weight=0.000<br>JNJ_Close: Weight=0.132<br>GILD_Close: Weight=0.000<br>BA_Close: Weight=0.254<br>UNH_Close: Weight=0.393<br>PYPL_Close: Weight=0.221<br>BIIB_Close: Weight=0.000",
                    "Return: 50.632%<br>Volatility: 0.097<br>Sharpe Ratio: 5.237<br>CPB_Close: Weight=0.000<br>IBM_Close: Weight=0.000<br>JNJ_Close: Weight=0.130<br>GILD_Close: Weight=0.000<br>BA_Close: Weight=0.252<br>UNH_Close: Weight=0.389<br>PYPL_Close: Weight=0.217<br>MSFT_Close: Weight=0.012",
                    "Return: 50.872%<br>Volatility: 0.097<br>Sharpe Ratio: 5.237<br>CPB_Close: Weight=0.000<br>IBM_Close: Weight=0.000<br>JNJ_Close: Weight=0.132<br>GILD_Close: Weight=0.000<br>BA_Close: Weight=0.254<br>UNH_Close: Weight=0.393<br>PYPL_Close: Weight=0.221<br>CRM_Close: Weight=0.000",
                    "Return: 50.870%<br>Volatility: 0.097<br>Sharpe Ratio: 5.237<br>CPB_Close: Weight=0.000<br>IBM_Close: Weight=0.000<br>JNJ_Close: Weight=0.132<br>GILD_Close: Weight=0.000<br>BA_Close: Weight=0.254<br>UNH_Close: Weight=0.393<br>PYPL_Close: Weight=0.221<br>ABT_Close: Weight=0.000",
                    "Return: 53.031%<br>Volatility: 0.097<br>Sharpe Ratio: 5.470<br>CPB_Close: Weight=0.000<br>IBM_Close: Weight=0.000<br>JNJ_Close: Weight=0.091<br>GILD_Close: Weight=0.000<br>BA_Close: Weight=0.242<br>UNH_Close: Weight=0.319<br>PYPL_Close: Weight=0.180<br>ISRG_Close: Weight=0.168",
                    "Return: 50.513%<br>Volatility: 0.096<br>Sharpe Ratio: 5.237<br>CPB_Close: Weight=0.000<br>IBM_Close: Weight=0.000<br>JNJ_Close: Weight=0.130<br>GILD_Close: Weight=0.000<br>BA_Close: Weight=0.251<br>UNH_Close: Weight=0.387<br>PYPL_Close: Weight=0.217<br>V_Close: Weight=0.016",
                    "Return: 50.874%<br>Volatility: 0.097<br>Sharpe Ratio: 5.237<br>CPB_Close: Weight=0.000<br>IBM_Close: Weight=0.000<br>JNJ_Close: Weight=0.132<br>GILD_Close: Weight=0.000<br>BA_Close: Weight=0.254<br>UNH_Close: Weight=0.393<br>PYPL_Close: Weight=0.221<br>TXN_Close: Weight=0.000",
                    "Return: 50.887%<br>Volatility: 0.097<br>Sharpe Ratio: 5.237<br>CPB_Close: Weight=0.000<br>IBM_Close: Weight=0.000<br>JNJ_Close: Weight=0.131<br>GILD_Close: Weight=0.000<br>BA_Close: Weight=0.254<br>UNH_Close: Weight=0.393<br>PYPL_Close: Weight=0.222<br>MMM_Close: Weight=0.000",
                    "Return: 50.405%<br>Volatility: 0.096<br>Sharpe Ratio: 5.239<br>CPB_Close: Weight=0.000<br>IBM_Close: Weight=0.000<br>JNJ_Close: Weight=0.132<br>GILD_Close: Weight=0.000<br>BA_Close: Weight=0.250<br>UNH_Close: Weight=0.387<br>PYPL_Close: Weight=0.213<br>AMZN_Close: Weight=0.019",
                    "Return: 50.240%<br>Volatility: 0.096<br>Sharpe Ratio: 5.254<br>CPB_Close: Weight=0.000<br>IBM_Close: Weight=0.000<br>JNJ_Close: Weight=0.108<br>GILD_Close: Weight=0.000<br>BA_Close: Weight=0.248<br>UNH_Close: Weight=0.348<br>PYPL_Close: Weight=0.212<br>SYK_Close: Weight=0.084",
                    "Return: 50.877%<br>Volatility: 0.097<br>Sharpe Ratio: 5.237<br>CPB_Close: Weight=0.000<br>IBM_Close: Weight=0.000<br>JNJ_Close: Weight=0.132<br>GILD_Close: Weight=0.000<br>BA_Close: Weight=0.254<br>UNH_Close: Weight=0.393<br>PYPL_Close: Weight=0.221<br>SNAP_Close: Weight=0.000",
                    "Return: 50.871%<br>Volatility: 0.097<br>Sharpe Ratio: 5.237<br>CPB_Close: Weight=0.000<br>IBM_Close: Weight=0.000<br>JNJ_Close: Weight=0.132<br>GILD_Close: Weight=0.000<br>BA_Close: Weight=0.254<br>UNH_Close: Weight=0.393<br>PYPL_Close: Weight=0.221<br>BSX_Close: Weight=0.000",
                    "Return: 49.877%<br>Volatility: 0.093<br>Sharpe Ratio: 5.339<br>CPB_Close: Weight=0.000<br>IBM_Close: Weight=0.000<br>JNJ_Close: Weight=0.124<br>GILD_Close: Weight=0.000<br>BA_Close: Weight=0.219<br>UNH_Close: Weight=0.342<br>PYPL_Close: Weight=0.209<br>DE_Close: Weight=0.106",
                    "Return: 50.873%<br>Volatility: 0.097<br>Sharpe Ratio: 5.237<br>CPB_Close: Weight=0.000<br>IBM_Close: Weight=0.000<br>JNJ_Close: Weight=0.132<br>GILD_Close: Weight=0.000<br>BA_Close: Weight=0.254<br>UNH_Close: Weight=0.393<br>PYPL_Close: Weight=0.221<br>CMCSA_Close: Weight=0.000",
                    "Return: 50.870%<br>Volatility: 0.097<br>Sharpe Ratio: 5.237<br>CPB_Close: Weight=0.000<br>IBM_Close: Weight=0.000<br>JNJ_Close: Weight=0.132<br>GILD_Close: Weight=0.000<br>BA_Close: Weight=0.254<br>UNH_Close: Weight=0.393<br>PYPL_Close: Weight=0.221<br>MS_Close: Weight=0.000",
                    "Return: 50.874%<br>Volatility: 0.097<br>Sharpe Ratio: 5.237<br>CPB_Close: Weight=0.000<br>IBM_Close: Weight=0.000<br>JNJ_Close: Weight=0.132<br>GILD_Close: Weight=0.000<br>BA_Close: Weight=0.254<br>UNH_Close: Weight=0.393<br>PYPL_Close: Weight=0.221<br>BMY_Close: Weight=0.000",
                    "Return: 50.876%<br>Volatility: 0.097<br>Sharpe Ratio: 5.237<br>CPB_Close: Weight=0.000<br>IBM_Close: Weight=0.000<br>JNJ_Close: Weight=0.132<br>GILD_Close: Weight=0.000<br>BA_Close: Weight=0.254<br>UNH_Close: Weight=0.393<br>PYPL_Close: Weight=0.221<br>MDT_Close: Weight=0.000",
                    "Return: 50.876%<br>Volatility: 0.097<br>Sharpe Ratio: 5.237<br>CPB_Close: Weight=0.000<br>IBM_Close: Weight=0.000<br>JNJ_Close: Weight=0.132<br>GILD_Close: Weight=0.000<br>BA_Close: Weight=0.254<br>UNH_Close: Weight=0.393<br>PYPL_Close: Weight=0.221<br>LMT_Close: Weight=0.000",
                    "Return: 50.876%<br>Volatility: 0.097<br>Sharpe Ratio: 5.237<br>CPB_Close: Weight=0.000<br>IBM_Close: Weight=0.000<br>JNJ_Close: Weight=0.132<br>GILD_Close: Weight=0.000<br>BA_Close: Weight=0.254<br>UNH_Close: Weight=0.393<br>PYPL_Close: Weight=0.221<br>HON_Close: Weight=0.000",
                    "Return: 50.867%<br>Volatility: 0.097<br>Sharpe Ratio: 5.237<br>CPB_Close: Weight=0.000<br>IBM_Close: Weight=0.000<br>JNJ_Close: Weight=0.132<br>GILD_Close: Weight=0.000<br>BA_Close: Weight=0.254<br>UNH_Close: Weight=0.393<br>PYPL_Close: Weight=0.221<br>INTC_Close: Weight=0.000",
                    "Return: 50.878%<br>Volatility: 0.097<br>Sharpe Ratio: 5.237<br>CPB_Close: Weight=0.000<br>IBM_Close: Weight=0.000<br>JNJ_Close: Weight=0.132<br>GILD_Close: Weight=0.000<br>BA_Close: Weight=0.254<br>UNH_Close: Weight=0.393<br>PYPL_Close: Weight=0.221<br>RTX_Close: Weight=0.000",
                    "Return: 50.873%<br>Volatility: 0.097<br>Sharpe Ratio: 5.237<br>CPB_Close: Weight=0.000<br>IBM_Close: Weight=0.000<br>JNJ_Close: Weight=0.132<br>GILD_Close: Weight=0.000<br>BA_Close: Weight=0.254<br>UNH_Close: Weight=0.393<br>PYPL_Close: Weight=0.221<br>GS_Close: Weight=0.000",
                    "Return: 50.877%<br>Volatility: 0.097<br>Sharpe Ratio: 5.237<br>CPB_Close: Weight=0.000<br>IBM_Close: Weight=0.000<br>JNJ_Close: Weight=0.132<br>GILD_Close: Weight=0.000<br>BA_Close: Weight=0.254<br>UNH_Close: Weight=0.393<br>PYPL_Close: Weight=0.221<br>AAPL_Close: Weight=0.000",
                    "Return: 50.875%<br>Volatility: 0.097<br>Sharpe Ratio: 5.237<br>CPB_Close: Weight=0.000<br>IBM_Close: Weight=0.000<br>JNJ_Close: Weight=0.132<br>GILD_Close: Weight=0.000<br>BA_Close: Weight=0.254<br>UNH_Close: Weight=0.393<br>PYPL_Close: Weight=0.221<br>AMGN_Close: Weight=0.000",
                    "Return: 50.877%<br>Volatility: 0.097<br>Sharpe Ratio: 5.237<br>CPB_Close: Weight=0.000<br>IBM_Close: Weight=0.000<br>JNJ_Close: Weight=0.132<br>GILD_Close: Weight=0.000<br>BA_Close: Weight=0.254<br>UNH_Close: Weight=0.393<br>PYPL_Close: Weight=0.221<br>RMD_Close: Weight=0.000",
                    "Return: 50.870%<br>Volatility: 0.097<br>Sharpe Ratio: 5.237<br>CPB_Close: Weight=0.000<br>IBM_Close: Weight=0.000<br>JNJ_Close: Weight=0.132<br>GILD_Close: Weight=0.000<br>BA_Close: Weight=0.254<br>UNH_Close: Weight=0.393<br>PYPL_Close: Weight=0.221<br>BAC_Close: Weight=0.000",
                    "Return: 50.874%<br>Volatility: 0.097<br>Sharpe Ratio: 5.237<br>CPB_Close: Weight=0.000<br>IBM_Close: Weight=0.000<br>JNJ_Close: Weight=0.132<br>GILD_Close: Weight=0.000<br>BA_Close: Weight=0.254<br>UNH_Close: Weight=0.393<br>PYPL_Close: Weight=0.221<br>JPM_Close: Weight=0.000",
                    "Return: 50.056%<br>Volatility: 0.096<br>Sharpe Ratio: 5.240<br>CPB_Close: Weight=0.000<br>IBM_Close: Weight=0.000<br>JNJ_Close: Weight=0.128<br>GILD_Close: Weight=0.000<br>BA_Close: Weight=0.247<br>UNH_Close: Weight=0.383<br>PYPL_Close: Weight=0.214<br>ETN_Close: Weight=0.027",
                    "Return: 50.739%<br>Volatility: 0.097<br>Sharpe Ratio: 5.237<br>CPB_Close: Weight=0.000<br>IBM_Close: Weight=0.000<br>JNJ_Close: Weight=0.131<br>GILD_Close: Weight=0.000<br>BA_Close: Weight=0.254<br>UNH_Close: Weight=0.391<br>PYPL_Close: Weight=0.221<br>NKE_Close: Weight=0.004",
                    "Return: 50.878%<br>Volatility: 0.097<br>Sharpe Ratio: 5.237<br>CPB_Close: Weight=0.000<br>IBM_Close: Weight=0.000<br>JNJ_Close: Weight=0.132<br>GILD_Close: Weight=0.000<br>BA_Close: Weight=0.254<br>UNH_Close: Weight=0.393<br>PYPL_Close: Weight=0.221<br>PM_Close: Weight=0.000",
                    "Return: 47.958%<br>Volatility: 0.091<br>Sharpe Ratio: 5.257<br>CPB_Close: Weight=0.000<br>IBM_Close: Weight=0.000<br>JNJ_Close: Weight=0.113<br>GILD_Close: Weight=0.000<br>BA_Close: Weight=0.232<br>UNH_Close: Weight=0.349<br>PYPL_Close: Weight=0.208<br>PEP_Close: Weight=0.098",
                    "Return: 50.872%<br>Volatility: 0.097<br>Sharpe Ratio: 5.237<br>CPB_Close: Weight=0.000<br>IBM_Close: Weight=0.000<br>JNJ_Close: Weight=0.132<br>GILD_Close: Weight=0.000<br>BA_Close: Weight=0.254<br>UNH_Close: Weight=0.393<br>PYPL_Close: Weight=0.221<br>T_Close: Weight=0.000",
                    "Return: 50.871%<br>Volatility: 0.097<br>Sharpe Ratio: 5.237<br>CPB_Close: Weight=0.000<br>IBM_Close: Weight=0.000<br>JNJ_Close: Weight=0.132<br>GILD_Close: Weight=0.000<br>BA_Close: Weight=0.254<br>UNH_Close: Weight=0.393<br>PYPL_Close: Weight=0.221<br>GM_Close: Weight=0.000",
                    "Return: 50.874%<br>Volatility: 0.097<br>Sharpe Ratio: 5.237<br>CPB_Close: Weight=0.000<br>IBM_Close: Weight=0.000<br>JNJ_Close: Weight=0.132<br>GILD_Close: Weight=0.000<br>BA_Close: Weight=0.254<br>UNH_Close: Weight=0.393<br>PYPL_Close: Weight=0.221<br>LLY_Close: Weight=0.000",
                    "Return: 50.471%<br>Volatility: 0.087<br>Sharpe Ratio: 5.808<br>CPB_Close: Weight=0.000<br>IBM_Close: Weight=0.000<br>JNJ_Close: Weight=0.105<br>GILD_Close: Weight=0.000<br>BA_Close: Weight=0.223<br>UNH_Close: Weight=0.259<br>PYPL_Close: Weight=0.144<br>MCD_Close: Weight=0.269",
                    "Return: 52.402%<br>Volatility: 0.089<br>Sharpe Ratio: 5.901<br>CPB_Close: Weight=0.000<br>IBM_Close: Weight=0.000<br>JNJ_Close: Weight=0.112<br>GILD_Close: Weight=0.000<br>BA_Close: Weight=0.256<br>UNH_Close: Weight=0.246<br>MCD_Close: Weight=0.319<br>VRTX_Close: Weight=0.067",
                    "Return: 56.783%<br>Volatility: 0.093<br>Sharpe Ratio: 6.127<br>IBM_Close: Weight=0.000<br>JNJ_Close: Weight=0.094<br>GILD_Close: Weight=0.000<br>BA_Close: Weight=0.250<br>UNH_Close: Weight=0.237<br>MCD_Close: Weight=0.298<br>VRTX_Close: Weight=0.064<br>NVDA_Close: Weight=0.057",
                    "Return: 56.783%<br>Volatility: 0.093<br>Sharpe Ratio: 6.127<br>IBM_Close: Weight=0.000<br>JNJ_Close: Weight=0.094<br>GILD_Close: Weight=0.000<br>BA_Close: Weight=0.250<br>UNH_Close: Weight=0.237<br>MCD_Close: Weight=0.298<br>VRTX_Close: Weight=0.064<br>NVDA_Close: Weight=0.057",
                    "Return: 52.412%<br>Volatility: 0.089<br>Sharpe Ratio: 5.901<br>IBM_Close: Weight=0.000<br>JNJ_Close: Weight=0.112<br>GILD_Close: Weight=0.000<br>BA_Close: Weight=0.256<br>UNH_Close: Weight=0.246<br>MCD_Close: Weight=0.319<br>VRTX_Close: Weight=0.067<br>AMD_Close: Weight=0.000",
                    "Return: 52.405%<br>Volatility: 0.089<br>Sharpe Ratio: 5.901<br>IBM_Close: Weight=0.000<br>JNJ_Close: Weight=0.112<br>GILD_Close: Weight=0.000<br>BA_Close: Weight=0.256<br>UNH_Close: Weight=0.246<br>MCD_Close: Weight=0.319<br>VRTX_Close: Weight=0.067<br>NFLX_Close: Weight=0.000",
                    "Return: 53.443%<br>Volatility: 0.090<br>Sharpe Ratio: 5.962<br>IBM_Close: Weight=0.000<br>JNJ_Close: Weight=0.085<br>GILD_Close: Weight=0.000<br>BA_Close: Weight=0.258<br>UNH_Close: Weight=0.232<br>MCD_Close: Weight=0.320<br>VRTX_Close: Weight=0.058<br>REGN_Close: Weight=0.047",
                    "Return: 57.742%<br>Volatility: 0.089<br>Sharpe Ratio: 6.453<br>IBM_Close: Weight=0.000<br>JNJ_Close: Weight=0.079<br>GILD_Close: Weight=0.000<br>BA_Close: Weight=0.190<br>UNH_Close: Weight=0.245<br>MCD_Close: Weight=0.295<br>VRTX_Close: Weight=0.051<br>BABA_Close: Weight=0.140",
                    "Return: 58.718%<br>Volatility: 0.091<br>Sharpe Ratio: 6.476<br>IBM_Close: Weight=0.000<br>JNJ_Close: Weight=0.076<br>BA_Close: Weight=0.194<br>UNH_Close: Weight=0.243<br>MCD_Close: Weight=0.290<br>VRTX_Close: Weight=0.052<br>BABA_Close: Weight=0.127<br>NVDA_Close: Weight=0.019",
                    "Return: 58.718%<br>Volatility: 0.091<br>Sharpe Ratio: 6.476<br>IBM_Close: Weight=0.000<br>JNJ_Close: Weight=0.076<br>BA_Close: Weight=0.194<br>UNH_Close: Weight=0.243<br>MCD_Close: Weight=0.290<br>VRTX_Close: Weight=0.052<br>BABA_Close: Weight=0.127<br>NVDA_Close: Weight=0.019",
                    "Return: 57.742%<br>Volatility: 0.089<br>Sharpe Ratio: 6.453<br>IBM_Close: Weight=0.000<br>JNJ_Close: Weight=0.079<br>BA_Close: Weight=0.190<br>UNH_Close: Weight=0.245<br>MCD_Close: Weight=0.295<br>VRTX_Close: Weight=0.051<br>BABA_Close: Weight=0.140<br>AMD_Close: Weight=0.000",
                    "Return: 57.743%<br>Volatility: 0.089<br>Sharpe Ratio: 6.453<br>IBM_Close: Weight=0.000<br>JNJ_Close: Weight=0.079<br>BA_Close: Weight=0.190<br>UNH_Close: Weight=0.245<br>MCD_Close: Weight=0.295<br>VRTX_Close: Weight=0.051<br>BABA_Close: Weight=0.140<br>NFLX_Close: Weight=0.000",
                    "Return: 58.077%<br>Volatility: 0.090<br>Sharpe Ratio: 6.466<br>IBM_Close: Weight=0.000<br>JNJ_Close: Weight=0.067<br>BA_Close: Weight=0.192<br>UNH_Close: Weight=0.239<br>MCD_Close: Weight=0.296<br>VRTX_Close: Weight=0.047<br>BABA_Close: Weight=0.137<br>REGN_Close: Weight=0.021",
                    "Return: 59.075%<br>Volatility: 0.090<br>Sharpe Ratio: 6.540<br>IBM_Close: Weight=0.000<br>JNJ_Close: Weight=0.063<br>BA_Close: Weight=0.170<br>UNH_Close: Weight=0.241<br>MCD_Close: Weight=0.274<br>VRTX_Close: Weight=0.051<br>BABA_Close: Weight=0.123<br>PYPL_Close: Weight=0.079",
                    "Return: 59.599%<br>Volatility: 0.091<br>Sharpe Ratio: 6.548<br>JNJ_Close: Weight=0.062<br>BA_Close: Weight=0.173<br>UNH_Close: Weight=0.240<br>MCD_Close: Weight=0.272<br>VRTX_Close: Weight=0.051<br>BABA_Close: Weight=0.116<br>PYPL_Close: Weight=0.074<br>NVDA_Close: Weight=0.012",
                    "Return: 59.599%<br>Volatility: 0.091<br>Sharpe Ratio: 6.548<br>JNJ_Close: Weight=0.062<br>BA_Close: Weight=0.173<br>UNH_Close: Weight=0.240<br>MCD_Close: Weight=0.272<br>VRTX_Close: Weight=0.051<br>BABA_Close: Weight=0.116<br>PYPL_Close: Weight=0.074<br>NVDA_Close: Weight=0.012",
                    "Return: 59.083%<br>Volatility: 0.090<br>Sharpe Ratio: 6.540<br>JNJ_Close: Weight=0.063<br>BA_Close: Weight=0.170<br>UNH_Close: Weight=0.242<br>MCD_Close: Weight=0.274<br>VRTX_Close: Weight=0.051<br>BABA_Close: Weight=0.123<br>PYPL_Close: Weight=0.079<br>AMD_Close: Weight=0.000",
                    "Return: 59.074%<br>Volatility: 0.090<br>Sharpe Ratio: 6.540<br>JNJ_Close: Weight=0.063<br>BA_Close: Weight=0.170<br>UNH_Close: Weight=0.242<br>MCD_Close: Weight=0.274<br>VRTX_Close: Weight=0.051<br>BABA_Close: Weight=0.123<br>PYPL_Close: Weight=0.079<br>NFLX_Close: Weight=0.000",
                    "Return: 59.201%<br>Volatility: 0.090<br>Sharpe Ratio: 6.543<br>JNJ_Close: Weight=0.058<br>BA_Close: Weight=0.172<br>UNH_Close: Weight=0.238<br>MCD_Close: Weight=0.275<br>VRTX_Close: Weight=0.049<br>BABA_Close: Weight=0.122<br>PYPL_Close: Weight=0.076<br>REGN_Close: Weight=0.011",
                    "Return: 58.544%<br>Volatility: 0.089<br>Sharpe Ratio: 6.559<br>JNJ_Close: Weight=0.069<br>BA_Close: Weight=0.167<br>UNH_Close: Weight=0.236<br>MCD_Close: Weight=0.269<br>VRTX_Close: Weight=0.049<br>BABA_Close: Weight=0.114<br>PYPL_Close: Weight=0.077<br>TSLA_Close: Weight=0.019",
                    "Return: 59.599%<br>Volatility: 0.091<br>Sharpe Ratio: 6.548<br>JNJ_Close: Weight=0.062<br>BA_Close: Weight=0.173<br>UNH_Close: Weight=0.240<br>MCD_Close: Weight=0.272<br>VRTX_Close: Weight=0.051<br>BABA_Close: Weight=0.116<br>PYPL_Close: Weight=0.074<br>NVDA_Close: Weight=0.012",
                    "Return: 59.083%<br>Volatility: 0.090<br>Sharpe Ratio: 6.540<br>JNJ_Close: Weight=0.063<br>BA_Close: Weight=0.170<br>UNH_Close: Weight=0.242<br>MCD_Close: Weight=0.274<br>VRTX_Close: Weight=0.051<br>BABA_Close: Weight=0.123<br>PYPL_Close: Weight=0.079<br>AMD_Close: Weight=0.000",
                    "Return: 59.074%<br>Volatility: 0.090<br>Sharpe Ratio: 6.540<br>JNJ_Close: Weight=0.063<br>BA_Close: Weight=0.170<br>UNH_Close: Weight=0.242<br>MCD_Close: Weight=0.274<br>VRTX_Close: Weight=0.051<br>BABA_Close: Weight=0.123<br>PYPL_Close: Weight=0.079<br>NFLX_Close: Weight=0.000",
                    "Return: 59.201%<br>Volatility: 0.090<br>Sharpe Ratio: 6.543<br>JNJ_Close: Weight=0.058<br>BA_Close: Weight=0.172<br>UNH_Close: Weight=0.238<br>MCD_Close: Weight=0.275<br>VRTX_Close: Weight=0.049<br>BABA_Close: Weight=0.122<br>PYPL_Close: Weight=0.076<br>REGN_Close: Weight=0.011",
                    "Return: 58.544%<br>Volatility: 0.089<br>Sharpe Ratio: 6.559<br>JNJ_Close: Weight=0.069<br>BA_Close: Weight=0.167<br>UNH_Close: Weight=0.236<br>MCD_Close: Weight=0.269<br>VRTX_Close: Weight=0.049<br>BABA_Close: Weight=0.114<br>PYPL_Close: Weight=0.077<br>TSLA_Close: Weight=0.019",
                    "Return: 59.075%<br>Volatility: 0.090<br>Sharpe Ratio: 6.540<br>JNJ_Close: Weight=0.063<br>BA_Close: Weight=0.170<br>UNH_Close: Weight=0.241<br>MCD_Close: Weight=0.274<br>VRTX_Close: Weight=0.051<br>BABA_Close: Weight=0.123<br>PYPL_Close: Weight=0.079<br>META_Close: Weight=0.000",
                    "Return: 59.077%<br>Volatility: 0.090<br>Sharpe Ratio: 6.540<br>JNJ_Close: Weight=0.063<br>BA_Close: Weight=0.170<br>UNH_Close: Weight=0.241<br>MCD_Close: Weight=0.274<br>VRTX_Close: Weight=0.051<br>BABA_Close: Weight=0.123<br>PYPL_Close: Weight=0.079<br>ADBE_Close: Weight=0.000",
                    "Return: 59.148%<br>Volatility: 0.090<br>Sharpe Ratio: 6.543<br>JNJ_Close: Weight=0.058<br>BA_Close: Weight=0.170<br>UNH_Close: Weight=0.239<br>MCD_Close: Weight=0.273<br>VRTX_Close: Weight=0.050<br>BABA_Close: Weight=0.122<br>PYPL_Close: Weight=0.077<br>EW_Close: Weight=0.012",
                    "Return: 59.072%<br>Volatility: 0.090<br>Sharpe Ratio: 6.540<br>JNJ_Close: Weight=0.063<br>BA_Close: Weight=0.170<br>UNH_Close: Weight=0.241<br>MCD_Close: Weight=0.274<br>VRTX_Close: Weight=0.051<br>BABA_Close: Weight=0.123<br>PYPL_Close: Weight=0.079<br>MA_Close: Weight=0.000",
                    "Return: 59.361%<br>Volatility: 0.090<br>Sharpe Ratio: 6.592<br>JNJ_Close: Weight=0.050<br>BA_Close: Weight=0.169<br>UNH_Close: Weight=0.217<br>MCD_Close: Weight=0.264<br>VRTX_Close: Weight=0.046<br>BABA_Close: Weight=0.117<br>PYPL_Close: Weight=0.068<br>ISRG_Close: Weight=0.070",
                    "Return: 59.599%<br>Volatility: 0.091<br>Sharpe Ratio: 6.548<br>JNJ_Close: Weight=0.062<br>BA_Close: Weight=0.173<br>UNH_Close: Weight=0.240<br>MCD_Close: Weight=0.272<br>VRTX_Close: Weight=0.051<br>BABA_Close: Weight=0.116<br>PYPL_Close: Weight=0.074<br>NVDA_Close: Weight=0.012",
                    "Return: 59.083%<br>Volatility: 0.090<br>Sharpe Ratio: 6.540<br>JNJ_Close: Weight=0.063<br>BA_Close: Weight=0.170<br>UNH_Close: Weight=0.242<br>MCD_Close: Weight=0.274<br>VRTX_Close: Weight=0.051<br>BABA_Close: Weight=0.123<br>PYPL_Close: Weight=0.079<br>AMD_Close: Weight=0.000",
                    "Return: 59.074%<br>Volatility: 0.090<br>Sharpe Ratio: 6.540<br>JNJ_Close: Weight=0.063<br>BA_Close: Weight=0.170<br>UNH_Close: Weight=0.242<br>MCD_Close: Weight=0.274<br>VRTX_Close: Weight=0.051<br>BABA_Close: Weight=0.123<br>PYPL_Close: Weight=0.079<br>NFLX_Close: Weight=0.000",
                    "Return: 59.201%<br>Volatility: 0.090<br>Sharpe Ratio: 6.543<br>JNJ_Close: Weight=0.058<br>BA_Close: Weight=0.172<br>UNH_Close: Weight=0.238<br>MCD_Close: Weight=0.275<br>VRTX_Close: Weight=0.049<br>BABA_Close: Weight=0.122<br>PYPL_Close: Weight=0.076<br>REGN_Close: Weight=0.011",
                    "Return: 58.544%<br>Volatility: 0.089<br>Sharpe Ratio: 6.559<br>JNJ_Close: Weight=0.069<br>BA_Close: Weight=0.167<br>UNH_Close: Weight=0.236<br>MCD_Close: Weight=0.269<br>VRTX_Close: Weight=0.049<br>BABA_Close: Weight=0.114<br>PYPL_Close: Weight=0.077<br>TSLA_Close: Weight=0.019",
                    "Return: 59.075%<br>Volatility: 0.090<br>Sharpe Ratio: 6.540<br>JNJ_Close: Weight=0.063<br>BA_Close: Weight=0.170<br>UNH_Close: Weight=0.241<br>MCD_Close: Weight=0.274<br>VRTX_Close: Weight=0.051<br>BABA_Close: Weight=0.123<br>PYPL_Close: Weight=0.079<br>META_Close: Weight=0.000",
                    "Return: 59.077%<br>Volatility: 0.090<br>Sharpe Ratio: 6.540<br>JNJ_Close: Weight=0.063<br>BA_Close: Weight=0.170<br>UNH_Close: Weight=0.241<br>MCD_Close: Weight=0.274<br>VRTX_Close: Weight=0.051<br>BABA_Close: Weight=0.123<br>PYPL_Close: Weight=0.079<br>ADBE_Close: Weight=0.000",
                    "Return: 59.148%<br>Volatility: 0.090<br>Sharpe Ratio: 6.543<br>JNJ_Close: Weight=0.058<br>BA_Close: Weight=0.170<br>UNH_Close: Weight=0.239<br>MCD_Close: Weight=0.273<br>VRTX_Close: Weight=0.050<br>BABA_Close: Weight=0.122<br>PYPL_Close: Weight=0.077<br>EW_Close: Weight=0.012",
                    "Return: 59.072%<br>Volatility: 0.090<br>Sharpe Ratio: 6.540<br>JNJ_Close: Weight=0.063<br>BA_Close: Weight=0.170<br>UNH_Close: Weight=0.241<br>MCD_Close: Weight=0.274<br>VRTX_Close: Weight=0.051<br>BABA_Close: Weight=0.123<br>PYPL_Close: Weight=0.079<br>MA_Close: Weight=0.000",
                    "Return: 59.361%<br>Volatility: 0.090<br>Sharpe Ratio: 6.592<br>JNJ_Close: Weight=0.050<br>BA_Close: Weight=0.169<br>UNH_Close: Weight=0.217<br>MCD_Close: Weight=0.264<br>VRTX_Close: Weight=0.046<br>BABA_Close: Weight=0.117<br>PYPL_Close: Weight=0.068<br>ISRG_Close: Weight=0.070",
                    "Return: 59.081%<br>Volatility: 0.090<br>Sharpe Ratio: 6.540<br>JNJ_Close: Weight=0.063<br>BA_Close: Weight=0.170<br>UNH_Close: Weight=0.241<br>MCD_Close: Weight=0.274<br>VRTX_Close: Weight=0.051<br>BABA_Close: Weight=0.123<br>PYPL_Close: Weight=0.079<br>GOOG_Close: Weight=0.000",
                    "Return: 59.076%<br>Volatility: 0.090<br>Sharpe Ratio: 6.540<br>JNJ_Close: Weight=0.063<br>BA_Close: Weight=0.170<br>UNH_Close: Weight=0.241<br>MCD_Close: Weight=0.274<br>VRTX_Close: Weight=0.051<br>BABA_Close: Weight=0.123<br>PYPL_Close: Weight=0.079<br>GOOGL_Close: Weight=0.000",
                    "Return: 59.079%<br>Volatility: 0.090<br>Sharpe Ratio: 6.540<br>JNJ_Close: Weight=0.063<br>BA_Close: Weight=0.170<br>UNH_Close: Weight=0.241<br>MCD_Close: Weight=0.274<br>VRTX_Close: Weight=0.051<br>BABA_Close: Weight=0.123<br>PYPL_Close: Weight=0.079<br>AMZN_Close: Weight=0.000",
                    "Return: 59.073%<br>Volatility: 0.090<br>Sharpe Ratio: 6.540<br>JNJ_Close: Weight=0.063<br>BA_Close: Weight=0.170<br>UNH_Close: Weight=0.242<br>MCD_Close: Weight=0.274<br>VRTX_Close: Weight=0.051<br>BABA_Close: Weight=0.123<br>PYPL_Close: Weight=0.079<br>SAP_Close: Weight=0.000",
                    "Return: 59.079%<br>Volatility: 0.090<br>Sharpe Ratio: 6.540<br>JNJ_Close: Weight=0.063<br>BA_Close: Weight=0.170<br>UNH_Close: Weight=0.242<br>MCD_Close: Weight=0.274<br>VRTX_Close: Weight=0.051<br>BABA_Close: Weight=0.123<br>PYPL_Close: Weight=0.079<br>CAT_Close: Weight=0.000",
                    "Return: 59.072%<br>Volatility: 0.090<br>Sharpe Ratio: 6.540<br>JNJ_Close: Weight=0.063<br>BA_Close: Weight=0.170<br>UNH_Close: Weight=0.242<br>MCD_Close: Weight=0.274<br>VRTX_Close: Weight=0.051<br>BABA_Close: Weight=0.123<br>PYPL_Close: Weight=0.079<br>CRM_Close: Weight=0.000",
                    "Return: 59.080%<br>Volatility: 0.090<br>Sharpe Ratio: 6.540<br>JNJ_Close: Weight=0.063<br>BA_Close: Weight=0.170<br>UNH_Close: Weight=0.241<br>MCD_Close: Weight=0.274<br>VRTX_Close: Weight=0.051<br>BABA_Close: Weight=0.123<br>PYPL_Close: Weight=0.079<br>MSFT_Close: Weight=0.000",
                    "Return: 59.077%<br>Volatility: 0.090<br>Sharpe Ratio: 6.540<br>JNJ_Close: Weight=0.063<br>BA_Close: Weight=0.170<br>UNH_Close: Weight=0.242<br>MCD_Close: Weight=0.274<br>VRTX_Close: Weight=0.051<br>BABA_Close: Weight=0.123<br>PYPL_Close: Weight=0.079<br>TXN_Close: Weight=0.000",
                    "Return: 59.079%<br>Volatility: 0.090<br>Sharpe Ratio: 6.540<br>JNJ_Close: Weight=0.063<br>BA_Close: Weight=0.170<br>UNH_Close: Weight=0.241<br>MCD_Close: Weight=0.274<br>VRTX_Close: Weight=0.051<br>BABA_Close: Weight=0.123<br>PYPL_Close: Weight=0.079<br>BIIB_Close: Weight=0.000",
                    "Return: 59.075%<br>Volatility: 0.090<br>Sharpe Ratio: 6.540<br>JNJ_Close: Weight=0.063<br>BA_Close: Weight=0.170<br>UNH_Close: Weight=0.242<br>MCD_Close: Weight=0.274<br>VRTX_Close: Weight=0.051<br>BABA_Close: Weight=0.123<br>PYPL_Close: Weight=0.079<br>V_Close: Weight=0.000",
                    "Return: 58.977%<br>Volatility: 0.090<br>Sharpe Ratio: 6.540<br>JNJ_Close: Weight=0.062<br>BA_Close: Weight=0.169<br>UNH_Close: Weight=0.239<br>MCD_Close: Weight=0.272<br>VRTX_Close: Weight=0.050<br>BABA_Close: Weight=0.122<br>PYPL_Close: Weight=0.078<br>ORCL_Close: Weight=0.007",
                    "Return: 59.079%<br>Volatility: 0.090<br>Sharpe Ratio: 6.540<br>JNJ_Close: Weight=0.063<br>BA_Close: Weight=0.170<br>UNH_Close: Weight=0.241<br>MCD_Close: Weight=0.274<br>VRTX_Close: Weight=0.051<br>BABA_Close: Weight=0.123<br>PYPL_Close: Weight=0.079<br>AAPL_Close: Weight=0.000",
                    "Return: 59.079%<br>Volatility: 0.090<br>Sharpe Ratio: 6.540<br>JNJ_Close: Weight=0.063<br>BA_Close: Weight=0.170<br>UNH_Close: Weight=0.241<br>MCD_Close: Weight=0.274<br>VRTX_Close: Weight=0.051<br>BABA_Close: Weight=0.123<br>PYPL_Close: Weight=0.079<br>BSX_Close: Weight=0.000",
                    "Return: 59.023%<br>Volatility: 0.090<br>Sharpe Ratio: 6.540<br>JNJ_Close: Weight=0.063<br>BA_Close: Weight=0.169<br>UNH_Close: Weight=0.240<br>MCD_Close: Weight=0.272<br>VRTX_Close: Weight=0.051<br>BABA_Close: Weight=0.122<br>PYPL_Close: Weight=0.079<br>DE_Close: Weight=0.004",
                    "Return: 58.806%<br>Volatility: 0.090<br>Sharpe Ratio: 6.542<br>JNJ_Close: Weight=0.053<br>BA_Close: Weight=0.169<br>UNH_Close: Weight=0.236<br>MCD_Close: Weight=0.272<br>VRTX_Close: Weight=0.050<br>BABA_Close: Weight=0.123<br>PYPL_Close: Weight=0.075<br>ABBV_Close: Weight=0.023",
                    "Return: 59.079%<br>Volatility: 0.090<br>Sharpe Ratio: 6.540<br>JNJ_Close: Weight=0.063<br>BA_Close: Weight=0.170<br>UNH_Close: Weight=0.241<br>MCD_Close: Weight=0.274<br>VRTX_Close: Weight=0.051<br>BABA_Close: Weight=0.123<br>PYPL_Close: Weight=0.079<br>MS_Close: Weight=0.000",
                    "Return: 58.954%<br>Volatility: 0.090<br>Sharpe Ratio: 6.540<br>JNJ_Close: Weight=0.060<br>BA_Close: Weight=0.169<br>UNH_Close: Weight=0.235<br>MCD_Close: Weight=0.272<br>VRTX_Close: Weight=0.050<br>BABA_Close: Weight=0.123<br>PYPL_Close: Weight=0.078<br>SYK_Close: Weight=0.013",
                    "Return: 59.076%<br>Volatility: 0.090<br>Sharpe Ratio: 6.540<br>JNJ_Close: Weight=0.063<br>BA_Close: Weight=0.170<br>UNH_Close: Weight=0.241<br>MCD_Close: Weight=0.274<br>VRTX_Close: Weight=0.051<br>BABA_Close: Weight=0.123<br>PYPL_Close: Weight=0.079<br>UA_Close: Weight=0.000",
                    "Return: 59.079%<br>Volatility: 0.090<br>Sharpe Ratio: 6.540<br>JNJ_Close: Weight=0.063<br>BA_Close: Weight=0.170<br>UNH_Close: Weight=0.241<br>MCD_Close: Weight=0.274<br>VRTX_Close: Weight=0.051<br>BABA_Close: Weight=0.123<br>PYPL_Close: Weight=0.079<br>INTC_Close: Weight=0.000",
                    "Return: 59.077%<br>Volatility: 0.090<br>Sharpe Ratio: 6.540<br>JNJ_Close: Weight=0.063<br>BA_Close: Weight=0.170<br>UNH_Close: Weight=0.242<br>MCD_Close: Weight=0.274<br>VRTX_Close: Weight=0.051<br>BABA_Close: Weight=0.123<br>PYPL_Close: Weight=0.079<br>SNAP_Close: Weight=0.000",
                    "Return: 59.080%<br>Volatility: 0.090<br>Sharpe Ratio: 6.540<br>JNJ_Close: Weight=0.063<br>BA_Close: Weight=0.170<br>UNH_Close: Weight=0.242<br>MCD_Close: Weight=0.274<br>VRTX_Close: Weight=0.051<br>BABA_Close: Weight=0.123<br>PYPL_Close: Weight=0.079<br>GILD_Close: Weight=0.000",
                    "Return: 59.080%<br>Volatility: 0.090<br>Sharpe Ratio: 6.540<br>JNJ_Close: Weight=0.063<br>BA_Close: Weight=0.170<br>UNH_Close: Weight=0.241<br>MCD_Close: Weight=0.274<br>VRTX_Close: Weight=0.051<br>BABA_Close: Weight=0.123<br>PYPL_Close: Weight=0.079<br>ABT_Close: Weight=0.000",
                    "Return: 59.079%<br>Volatility: 0.090<br>Sharpe Ratio: 6.540<br>JNJ_Close: Weight=0.063<br>BA_Close: Weight=0.170<br>UNH_Close: Weight=0.241<br>MCD_Close: Weight=0.274<br>VRTX_Close: Weight=0.051<br>BABA_Close: Weight=0.123<br>PYPL_Close: Weight=0.079<br>RMD_Close: Weight=0.000",
                    "Return: 59.078%<br>Volatility: 0.090<br>Sharpe Ratio: 6.540<br>JNJ_Close: Weight=0.063<br>BA_Close: Weight=0.170<br>UNH_Close: Weight=0.241<br>MCD_Close: Weight=0.274<br>VRTX_Close: Weight=0.051<br>BABA_Close: Weight=0.123<br>PYPL_Close: Weight=0.079<br>MDT_Close: Weight=0.000",
                    "Return: 59.079%<br>Volatility: 0.090<br>Sharpe Ratio: 6.540<br>JNJ_Close: Weight=0.063<br>BA_Close: Weight=0.170<br>UNH_Close: Weight=0.241<br>MCD_Close: Weight=0.274<br>VRTX_Close: Weight=0.051<br>BABA_Close: Weight=0.123<br>PYPL_Close: Weight=0.079<br>ETN_Close: Weight=0.000",
                    "Return: 59.077%<br>Volatility: 0.090<br>Sharpe Ratio: 6.540<br>JNJ_Close: Weight=0.063<br>BA_Close: Weight=0.170<br>UNH_Close: Weight=0.242<br>MCD_Close: Weight=0.274<br>VRTX_Close: Weight=0.051<br>BABA_Close: Weight=0.123<br>PYPL_Close: Weight=0.079<br>RDY_Close: Weight=0.000",
                    "Return: 59.076%<br>Volatility: 0.090<br>Sharpe Ratio: 6.540<br>JNJ_Close: Weight=0.063<br>BA_Close: Weight=0.170<br>UNH_Close: Weight=0.241<br>MCD_Close: Weight=0.274<br>VRTX_Close: Weight=0.051<br>BABA_Close: Weight=0.123<br>PYPL_Close: Weight=0.079<br>HON_Close: Weight=0.000",
                    "Return: 59.077%<br>Volatility: 0.090<br>Sharpe Ratio: 6.540<br>JNJ_Close: Weight=0.063<br>BA_Close: Weight=0.170<br>UNH_Close: Weight=0.242<br>MCD_Close: Weight=0.274<br>VRTX_Close: Weight=0.051<br>BABA_Close: Weight=0.123<br>PYPL_Close: Weight=0.079<br>CMCSA_Close: Weight=0.000",
                    "Return: 59.079%<br>Volatility: 0.090<br>Sharpe Ratio: 6.540<br>JNJ_Close: Weight=0.063<br>BA_Close: Weight=0.170<br>UNH_Close: Weight=0.242<br>MCD_Close: Weight=0.274<br>VRTX_Close: Weight=0.051<br>BABA_Close: Weight=0.123<br>PYPL_Close: Weight=0.079<br>PM_Close: Weight=0.000",
                    "Return: 59.076%<br>Volatility: 0.090<br>Sharpe Ratio: 6.540<br>JNJ_Close: Weight=0.063<br>BA_Close: Weight=0.170<br>UNH_Close: Weight=0.242<br>MCD_Close: Weight=0.274<br>VRTX_Close: Weight=0.051<br>BABA_Close: Weight=0.123<br>PYPL_Close: Weight=0.079<br>BMY_Close: Weight=0.000",
                    "Return: 59.084%<br>Volatility: 0.090<br>Sharpe Ratio: 6.540<br>JNJ_Close: Weight=0.063<br>BA_Close: Weight=0.170<br>UNH_Close: Weight=0.241<br>MCD_Close: Weight=0.274<br>VRTX_Close: Weight=0.051<br>BABA_Close: Weight=0.123<br>PYPL_Close: Weight=0.079<br>LMT_Close: Weight=0.000",
                    "Return: 59.074%<br>Volatility: 0.090<br>Sharpe Ratio: 6.540<br>JNJ_Close: Weight=0.063<br>BA_Close: Weight=0.170<br>UNH_Close: Weight=0.242<br>MCD_Close: Weight=0.274<br>VRTX_Close: Weight=0.051<br>BABA_Close: Weight=0.123<br>PYPL_Close: Weight=0.079<br>BAC_Close: Weight=0.000",
                    "Return: 59.078%<br>Volatility: 0.090<br>Sharpe Ratio: 6.540<br>JNJ_Close: Weight=0.063<br>BA_Close: Weight=0.170<br>UNH_Close: Weight=0.242<br>MCD_Close: Weight=0.274<br>VRTX_Close: Weight=0.051<br>BABA_Close: Weight=0.123<br>PYPL_Close: Weight=0.079<br>QCOM_Close: Weight=0.000",
                    "Return: 59.081%<br>Volatility: 0.090<br>Sharpe Ratio: 6.540<br>JNJ_Close: Weight=0.063<br>BA_Close: Weight=0.170<br>UNH_Close: Weight=0.241<br>MCD_Close: Weight=0.274<br>VRTX_Close: Weight=0.051<br>BABA_Close: Weight=0.123<br>PYPL_Close: Weight=0.079<br>BTI_Close: Weight=0.000",
                    "Return: 59.074%<br>Volatility: 0.090<br>Sharpe Ratio: 6.540<br>JNJ_Close: Weight=0.063<br>BA_Close: Weight=0.170<br>UNH_Close: Weight=0.242<br>MCD_Close: Weight=0.274<br>VRTX_Close: Weight=0.051<br>BABA_Close: Weight=0.123<br>PYPL_Close: Weight=0.079<br>ACN_Close: Weight=0.000",
                    "Return: 59.079%<br>Volatility: 0.090<br>Sharpe Ratio: 6.540<br>JNJ_Close: Weight=0.063<br>BA_Close: Weight=0.170<br>UNH_Close: Weight=0.242<br>MCD_Close: Weight=0.274<br>VRTX_Close: Weight=0.051<br>BABA_Close: Weight=0.123<br>PYPL_Close: Weight=0.079<br>AMGN_Close: Weight=0.000",
                    "Return: 59.080%<br>Volatility: 0.090<br>Sharpe Ratio: 6.540<br>JNJ_Close: Weight=0.063<br>BA_Close: Weight=0.170<br>UNH_Close: Weight=0.241<br>MCD_Close: Weight=0.274<br>VRTX_Close: Weight=0.051<br>BABA_Close: Weight=0.123<br>PYPL_Close: Weight=0.079<br>ZBH_Close: Weight=0.000",
                    "Return: 59.079%<br>Volatility: 0.090<br>Sharpe Ratio: 6.540<br>JNJ_Close: Weight=0.063<br>BA_Close: Weight=0.170<br>UNH_Close: Weight=0.241<br>MCD_Close: Weight=0.274<br>VRTX_Close: Weight=0.051<br>BABA_Close: Weight=0.123<br>PYPL_Close: Weight=0.079<br>RTX_Close: Weight=0.000",
                    "Return: 59.088%<br>Volatility: 0.090<br>Sharpe Ratio: 6.540<br>JNJ_Close: Weight=0.063<br>BA_Close: Weight=0.170<br>UNH_Close: Weight=0.241<br>MCD_Close: Weight=0.274<br>VRTX_Close: Weight=0.051<br>BABA_Close: Weight=0.123<br>PYPL_Close: Weight=0.079<br>GS_Close: Weight=0.000",
                    "Return: 59.079%<br>Volatility: 0.090<br>Sharpe Ratio: 6.540<br>JNJ_Close: Weight=0.063<br>BA_Close: Weight=0.170<br>UNH_Close: Weight=0.241<br>MCD_Close: Weight=0.274<br>VRTX_Close: Weight=0.051<br>BABA_Close: Weight=0.123<br>PYPL_Close: Weight=0.079<br>KR_Close: Weight=0.000",
                    "Return: 59.077%<br>Volatility: 0.090<br>Sharpe Ratio: 6.540<br>JNJ_Close: Weight=0.063<br>BA_Close: Weight=0.170<br>UNH_Close: Weight=0.242<br>MCD_Close: Weight=0.274<br>VRTX_Close: Weight=0.051<br>BABA_Close: Weight=0.123<br>PYPL_Close: Weight=0.079<br>MMM_Close: Weight=0.000",
                    "Return: 59.078%<br>Volatility: 0.090<br>Sharpe Ratio: 6.540<br>JNJ_Close: Weight=0.063<br>BA_Close: Weight=0.170<br>UNH_Close: Weight=0.242<br>MCD_Close: Weight=0.274<br>VRTX_Close: Weight=0.051<br>BABA_Close: Weight=0.123<br>PYPL_Close: Weight=0.079<br>NKE_Close: Weight=0.000",
                    "Return: 59.081%<br>Volatility: 0.090<br>Sharpe Ratio: 6.540<br>JNJ_Close: Weight=0.063<br>BA_Close: Weight=0.170<br>UNH_Close: Weight=0.242<br>MCD_Close: Weight=0.274<br>VRTX_Close: Weight=0.051<br>BABA_Close: Weight=0.123<br>PYPL_Close: Weight=0.079<br>JPM_Close: Weight=0.000",
                    "Return: 59.081%<br>Volatility: 0.090<br>Sharpe Ratio: 6.540<br>JNJ_Close: Weight=0.063<br>BA_Close: Weight=0.170<br>UNH_Close: Weight=0.241<br>MCD_Close: Weight=0.274<br>VRTX_Close: Weight=0.051<br>BABA_Close: Weight=0.123<br>PYPL_Close: Weight=0.079<br>EMR_Close: Weight=0.000",
                    "Return: 57.793%<br>Volatility: 0.088<br>Sharpe Ratio: 6.573<br>JNJ_Close: Weight=0.048<br>BA_Close: Weight=0.175<br>UNH_Close: Weight=0.211<br>MCD_Close: Weight=0.257<br>VRTX_Close: Weight=0.048<br>BABA_Close: Weight=0.119<br>PYPL_Close: Weight=0.072<br>TMO_Close: Weight=0.070",
                    "Return: 55.703%<br>Volatility: 0.084<br>Sharpe Ratio: 6.652<br>JNJ_Close: Weight=0.083<br>BA_Close: Weight=0.155<br>UNH_Close: Weight=0.196<br>MCD_Close: Weight=0.235<br>VRTX_Close: Weight=0.043<br>BABA_Close: Weight=0.109<br>PYPL_Close: Weight=0.070<br>WMT_Close: Weight=0.108",
                    "Return: 55.304%<br>Volatility: 0.084<br>Sharpe Ratio: 6.591<br>JNJ_Close: Weight=0.094<br>BA_Close: Weight=0.177<br>UNH_Close: Weight=0.196<br>MCD_Close: Weight=0.248<br>VRTX_Close: Weight=0.044<br>BABA_Close: Weight=0.113<br>WMT_Close: Weight=0.110<br>NVDA_Close: Weight=0.017",
                    "Return: 54.457%<br>Volatility: 0.083<br>Sharpe Ratio: 6.571<br>JNJ_Close: Weight=0.097<br>BA_Close: Weight=0.173<br>UNH_Close: Weight=0.199<br>MCD_Close: Weight=0.253<br>VRTX_Close: Weight=0.044<br>BABA_Close: Weight=0.125<br>WMT_Close: Weight=0.110<br>AMD_Close: Weight=0.000",
                    "Return: 54.455%<br>Volatility: 0.083<br>Sharpe Ratio: 6.571<br>JNJ_Close: Weight=0.097<br>BA_Close: Weight=0.173<br>UNH_Close: Weight=0.199<br>MCD_Close: Weight=0.253<br>VRTX_Close: Weight=0.044<br>BABA_Close: Weight=0.125<br>WMT_Close: Weight=0.110<br>NFLX_Close: Weight=0.000",
                    "Return: 54.716%<br>Volatility: 0.083<br>Sharpe Ratio: 6.575<br>JNJ_Close: Weight=0.090<br>BA_Close: Weight=0.175<br>UNH_Close: Weight=0.197<br>MCD_Close: Weight=0.254<br>VRTX_Close: Weight=0.042<br>BABA_Close: Weight=0.123<br>WMT_Close: Weight=0.107<br>REGN_Close: Weight=0.012",
                    "Return: 55.703%<br>Volatility: 0.084<br>Sharpe Ratio: 6.652<br>JNJ_Close: Weight=0.083<br>BA_Close: Weight=0.155<br>UNH_Close: Weight=0.196<br>MCD_Close: Weight=0.235<br>VRTX_Close: Weight=0.043<br>BABA_Close: Weight=0.109<br>WMT_Close: Weight=0.108<br>PYPL_Close: Weight=0.070",
                    "Return: 55.304%<br>Volatility: 0.084<br>Sharpe Ratio: 6.591<br>JNJ_Close: Weight=0.094<br>BA_Close: Weight=0.177<br>UNH_Close: Weight=0.196<br>MCD_Close: Weight=0.248<br>VRTX_Close: Weight=0.044<br>BABA_Close: Weight=0.113<br>WMT_Close: Weight=0.110<br>NVDA_Close: Weight=0.017",
                    "Return: 54.457%<br>Volatility: 0.083<br>Sharpe Ratio: 6.571<br>JNJ_Close: Weight=0.097<br>BA_Close: Weight=0.173<br>UNH_Close: Weight=0.199<br>MCD_Close: Weight=0.253<br>VRTX_Close: Weight=0.044<br>BABA_Close: Weight=0.125<br>WMT_Close: Weight=0.110<br>AMD_Close: Weight=0.000",
                    "Return: 54.455%<br>Volatility: 0.083<br>Sharpe Ratio: 6.571<br>JNJ_Close: Weight=0.097<br>BA_Close: Weight=0.173<br>UNH_Close: Weight=0.199<br>MCD_Close: Weight=0.253<br>VRTX_Close: Weight=0.044<br>BABA_Close: Weight=0.125<br>WMT_Close: Weight=0.110<br>NFLX_Close: Weight=0.000",
                    "Return: 54.716%<br>Volatility: 0.083<br>Sharpe Ratio: 6.575<br>JNJ_Close: Weight=0.090<br>BA_Close: Weight=0.175<br>UNH_Close: Weight=0.197<br>MCD_Close: Weight=0.254<br>VRTX_Close: Weight=0.042<br>BABA_Close: Weight=0.123<br>WMT_Close: Weight=0.107<br>REGN_Close: Weight=0.012",
                    "Return: 55.703%<br>Volatility: 0.084<br>Sharpe Ratio: 6.652<br>JNJ_Close: Weight=0.083<br>BA_Close: Weight=0.155<br>UNH_Close: Weight=0.196<br>MCD_Close: Weight=0.235<br>VRTX_Close: Weight=0.043<br>BABA_Close: Weight=0.109<br>WMT_Close: Weight=0.108<br>PYPL_Close: Weight=0.070",
                    "Return: 54.030%<br>Volatility: 0.082<br>Sharpe Ratio: 6.592<br>JNJ_Close: Weight=0.102<br>BA_Close: Weight=0.170<br>UNH_Close: Weight=0.194<br>MCD_Close: Weight=0.248<br>VRTX_Close: Weight=0.042<br>BABA_Close: Weight=0.117<br>WMT_Close: Weight=0.108<br>TSLA_Close: Weight=0.018",
                    "Return: 54.441%<br>Volatility: 0.083<br>Sharpe Ratio: 6.571<br>JNJ_Close: Weight=0.097<br>BA_Close: Weight=0.173<br>UNH_Close: Weight=0.198<br>MCD_Close: Weight=0.252<br>VRTX_Close: Weight=0.044<br>BABA_Close: Weight=0.125<br>WMT_Close: Weight=0.110<br>META_Close: Weight=0.001",
                    "Return: 54.624%<br>Volatility: 0.083<br>Sharpe Ratio: 6.578<br>JNJ_Close: Weight=0.089<br>BA_Close: Weight=0.173<br>UNH_Close: Weight=0.195<br>MCD_Close: Weight=0.250<br>VRTX_Close: Weight=0.043<br>BABA_Close: Weight=0.123<br>WMT_Close: Weight=0.109<br>EW_Close: Weight=0.019",
                    "Return: 54.454%<br>Volatility: 0.083<br>Sharpe Ratio: 6.571<br>JNJ_Close: Weight=0.097<br>BA_Close: Weight=0.173<br>UNH_Close: Weight=0.199<br>MCD_Close: Weight=0.253<br>VRTX_Close: Weight=0.044<br>BABA_Close: Weight=0.125<br>WMT_Close: Weight=0.110<br>MA_Close: Weight=0.000",
                    "Return: 54.453%<br>Volatility: 0.083<br>Sharpe Ratio: 6.571<br>JNJ_Close: Weight=0.097<br>BA_Close: Weight=0.173<br>UNH_Close: Weight=0.199<br>MCD_Close: Weight=0.253<br>VRTX_Close: Weight=0.044<br>BABA_Close: Weight=0.125<br>WMT_Close: Weight=0.110<br>CAT_Close: Weight=0.000",
                    "Return: 54.146%<br>Volatility: 0.082<br>Sharpe Ratio: 6.575<br>JNJ_Close: Weight=0.094<br>BA_Close: Weight=0.169<br>UNH_Close: Weight=0.193<br>MCD_Close: Weight=0.247<br>VRTX_Close: Weight=0.042<br>BABA_Close: Weight=0.121<br>WMT_Close: Weight=0.112<br>ADBE_Close: Weight=0.022",
                    "Return: 54.852%<br>Volatility: 0.082<br>Sharpe Ratio: 6.661<br>JNJ_Close: Weight=0.080<br>BA_Close: Weight=0.168<br>UNH_Close: Weight=0.167<br>MCD_Close: Weight=0.236<br>VRTX_Close: Weight=0.038<br>BABA_Close: Weight=0.114<br>WMT_Close: Weight=0.115<br>ISRG_Close: Weight=0.082",
                    "Return: 55.304%<br>Volatility: 0.084<br>Sharpe Ratio: 6.591<br>JNJ_Close: Weight=0.094<br>BA_Close: Weight=0.177<br>UNH_Close: Weight=0.196<br>MCD_Close: Weight=0.248<br>VRTX_Close: Weight=0.044<br>BABA_Close: Weight=0.113<br>WMT_Close: Weight=0.110<br>NVDA_Close: Weight=0.017",
                    "Return: 54.457%<br>Volatility: 0.083<br>Sharpe Ratio: 6.571<br>JNJ_Close: Weight=0.097<br>BA_Close: Weight=0.173<br>UNH_Close: Weight=0.199<br>MCD_Close: Weight=0.253<br>VRTX_Close: Weight=0.044<br>BABA_Close: Weight=0.125<br>WMT_Close: Weight=0.110<br>AMD_Close: Weight=0.000",
                    "Return: 54.455%<br>Volatility: 0.083<br>Sharpe Ratio: 6.571<br>JNJ_Close: Weight=0.097<br>BA_Close: Weight=0.173<br>UNH_Close: Weight=0.199<br>MCD_Close: Weight=0.253<br>VRTX_Close: Weight=0.044<br>BABA_Close: Weight=0.125<br>WMT_Close: Weight=0.110<br>NFLX_Close: Weight=0.000",
                    "Return: 54.716%<br>Volatility: 0.083<br>Sharpe Ratio: 6.575<br>JNJ_Close: Weight=0.090<br>BA_Close: Weight=0.175<br>UNH_Close: Weight=0.197<br>MCD_Close: Weight=0.254<br>VRTX_Close: Weight=0.042<br>BABA_Close: Weight=0.123<br>WMT_Close: Weight=0.107<br>REGN_Close: Weight=0.012",
                    "Return: 55.703%<br>Volatility: 0.084<br>Sharpe Ratio: 6.652<br>JNJ_Close: Weight=0.083<br>BA_Close: Weight=0.155<br>UNH_Close: Weight=0.196<br>MCD_Close: Weight=0.235<br>VRTX_Close: Weight=0.043<br>BABA_Close: Weight=0.109<br>WMT_Close: Weight=0.108<br>PYPL_Close: Weight=0.070",
                    "Return: 54.030%<br>Volatility: 0.082<br>Sharpe Ratio: 6.592<br>JNJ_Close: Weight=0.102<br>BA_Close: Weight=0.170<br>UNH_Close: Weight=0.194<br>MCD_Close: Weight=0.248<br>VRTX_Close: Weight=0.042<br>BABA_Close: Weight=0.117<br>WMT_Close: Weight=0.108<br>TSLA_Close: Weight=0.018",
                    "Return: 54.441%<br>Volatility: 0.083<br>Sharpe Ratio: 6.571<br>JNJ_Close: Weight=0.097<br>BA_Close: Weight=0.173<br>UNH_Close: Weight=0.198<br>MCD_Close: Weight=0.252<br>VRTX_Close: Weight=0.044<br>BABA_Close: Weight=0.125<br>WMT_Close: Weight=0.110<br>META_Close: Weight=0.001",
                    "Return: 54.624%<br>Volatility: 0.083<br>Sharpe Ratio: 6.578<br>JNJ_Close: Weight=0.089<br>BA_Close: Weight=0.173<br>UNH_Close: Weight=0.195<br>MCD_Close: Weight=0.250<br>VRTX_Close: Weight=0.043<br>BABA_Close: Weight=0.123<br>WMT_Close: Weight=0.109<br>EW_Close: Weight=0.019",
                    "Return: 54.454%<br>Volatility: 0.083<br>Sharpe Ratio: 6.571<br>JNJ_Close: Weight=0.097<br>BA_Close: Weight=0.173<br>UNH_Close: Weight=0.199<br>MCD_Close: Weight=0.253<br>VRTX_Close: Weight=0.044<br>BABA_Close: Weight=0.125<br>WMT_Close: Weight=0.110<br>MA_Close: Weight=0.000",
                    "Return: 54.453%<br>Volatility: 0.083<br>Sharpe Ratio: 6.571<br>JNJ_Close: Weight=0.097<br>BA_Close: Weight=0.173<br>UNH_Close: Weight=0.199<br>MCD_Close: Weight=0.253<br>VRTX_Close: Weight=0.044<br>BABA_Close: Weight=0.125<br>WMT_Close: Weight=0.110<br>CAT_Close: Weight=0.000",
                    "Return: 54.146%<br>Volatility: 0.082<br>Sharpe Ratio: 6.575<br>JNJ_Close: Weight=0.094<br>BA_Close: Weight=0.169<br>UNH_Close: Weight=0.193<br>MCD_Close: Weight=0.247<br>VRTX_Close: Weight=0.042<br>BABA_Close: Weight=0.121<br>WMT_Close: Weight=0.112<br>ADBE_Close: Weight=0.022",
                    "Return: 54.852%<br>Volatility: 0.082<br>Sharpe Ratio: 6.661<br>JNJ_Close: Weight=0.080<br>BA_Close: Weight=0.168<br>UNH_Close: Weight=0.167<br>MCD_Close: Weight=0.236<br>VRTX_Close: Weight=0.038<br>BABA_Close: Weight=0.114<br>WMT_Close: Weight=0.115<br>ISRG_Close: Weight=0.082",
                    "Return: 54.450%<br>Volatility: 0.083<br>Sharpe Ratio: 6.571<br>JNJ_Close: Weight=0.097<br>BA_Close: Weight=0.173<br>UNH_Close: Weight=0.199<br>MCD_Close: Weight=0.253<br>VRTX_Close: Weight=0.044<br>BABA_Close: Weight=0.125<br>WMT_Close: Weight=0.110<br>TXN_Close: Weight=0.000",
                    "Return: 54.452%<br>Volatility: 0.083<br>Sharpe Ratio: 6.571<br>JNJ_Close: Weight=0.097<br>BA_Close: Weight=0.173<br>UNH_Close: Weight=0.199<br>MCD_Close: Weight=0.253<br>VRTX_Close: Weight=0.044<br>BABA_Close: Weight=0.125<br>WMT_Close: Weight=0.110<br>CRM_Close: Weight=0.000",
                    "Return: 54.455%<br>Volatility: 0.083<br>Sharpe Ratio: 6.571<br>JNJ_Close: Weight=0.097<br>BA_Close: Weight=0.173<br>UNH_Close: Weight=0.199<br>MCD_Close: Weight=0.253<br>VRTX_Close: Weight=0.044<br>BABA_Close: Weight=0.125<br>WMT_Close: Weight=0.110<br>GOOG_Close: Weight=0.000",
                    "Return: 54.454%<br>Volatility: 0.083<br>Sharpe Ratio: 6.571<br>JNJ_Close: Weight=0.097<br>BA_Close: Weight=0.173<br>UNH_Close: Weight=0.199<br>MCD_Close: Weight=0.253<br>VRTX_Close: Weight=0.044<br>BABA_Close: Weight=0.125<br>WMT_Close: Weight=0.110<br>SAP_Close: Weight=0.000",
                    "Return: 54.455%<br>Volatility: 0.083<br>Sharpe Ratio: 6.571<br>JNJ_Close: Weight=0.097<br>BA_Close: Weight=0.173<br>UNH_Close: Weight=0.199<br>MCD_Close: Weight=0.253<br>VRTX_Close: Weight=0.044<br>BABA_Close: Weight=0.125<br>WMT_Close: Weight=0.110<br>GOOGL_Close: Weight=0.000",
                    "Return: 54.457%<br>Volatility: 0.083<br>Sharpe Ratio: 6.571<br>JNJ_Close: Weight=0.097<br>BA_Close: Weight=0.173<br>UNH_Close: Weight=0.199<br>MCD_Close: Weight=0.253<br>VRTX_Close: Weight=0.044<br>BABA_Close: Weight=0.125<br>WMT_Close: Weight=0.110<br>BIIB_Close: Weight=0.000",
                    "Return: 54.456%<br>Volatility: 0.083<br>Sharpe Ratio: 6.571<br>JNJ_Close: Weight=0.097<br>BA_Close: Weight=0.173<br>UNH_Close: Weight=0.199<br>MCD_Close: Weight=0.253<br>VRTX_Close: Weight=0.044<br>BABA_Close: Weight=0.125<br>WMT_Close: Weight=0.110<br>MSFT_Close: Weight=0.000",
                    "Return: 54.456%<br>Volatility: 0.083<br>Sharpe Ratio: 6.571<br>JNJ_Close: Weight=0.097<br>BA_Close: Weight=0.173<br>UNH_Close: Weight=0.199<br>MCD_Close: Weight=0.253<br>VRTX_Close: Weight=0.044<br>BABA_Close: Weight=0.125<br>WMT_Close: Weight=0.110<br>MS_Close: Weight=0.000",
                    "Return: 54.455%<br>Volatility: 0.083<br>Sharpe Ratio: 6.571<br>JNJ_Close: Weight=0.097<br>BA_Close: Weight=0.173<br>UNH_Close: Weight=0.199<br>MCD_Close: Weight=0.253<br>VRTX_Close: Weight=0.044<br>BABA_Close: Weight=0.125<br>WMT_Close: Weight=0.110<br>AMZN_Close: Weight=0.000",
                    "Return: 54.455%<br>Volatility: 0.083<br>Sharpe Ratio: 6.571<br>JNJ_Close: Weight=0.097<br>BA_Close: Weight=0.173<br>UNH_Close: Weight=0.199<br>MCD_Close: Weight=0.253<br>VRTX_Close: Weight=0.044<br>BABA_Close: Weight=0.125<br>WMT_Close: Weight=0.110<br>DE_Close: Weight=0.000",
                    "Return: 54.452%<br>Volatility: 0.083<br>Sharpe Ratio: 6.571<br>JNJ_Close: Weight=0.097<br>BA_Close: Weight=0.173<br>UNH_Close: Weight=0.199<br>MCD_Close: Weight=0.253<br>VRTX_Close: Weight=0.044<br>BABA_Close: Weight=0.125<br>WMT_Close: Weight=0.110<br>AAPL_Close: Weight=0.000",
                    "Return: 54.324%<br>Volatility: 0.083<br>Sharpe Ratio: 6.572<br>JNJ_Close: Weight=0.092<br>BA_Close: Weight=0.172<br>UNH_Close: Weight=0.191<br>MCD_Close: Weight=0.251<br>VRTX_Close: Weight=0.044<br>BABA_Close: Weight=0.124<br>WMT_Close: Weight=0.109<br>SYK_Close: Weight=0.018",
                    "Return: 54.453%<br>Volatility: 0.083<br>Sharpe Ratio: 6.571<br>JNJ_Close: Weight=0.097<br>BA_Close: Weight=0.173<br>UNH_Close: Weight=0.199<br>MCD_Close: Weight=0.253<br>VRTX_Close: Weight=0.044<br>BABA_Close: Weight=0.125<br>WMT_Close: Weight=0.110<br>BSX_Close: Weight=0.000",
                    "Return: 54.448%<br>Volatility: 0.083<br>Sharpe Ratio: 6.571<br>JNJ_Close: Weight=0.097<br>BA_Close: Weight=0.173<br>UNH_Close: Weight=0.199<br>MCD_Close: Weight=0.253<br>VRTX_Close: Weight=0.044<br>BABA_Close: Weight=0.125<br>WMT_Close: Weight=0.110<br>V_Close: Weight=0.000",
                    "Return: 54.055%<br>Volatility: 0.082<br>Sharpe Ratio: 6.581<br>JNJ_Close: Weight=0.093<br>BA_Close: Weight=0.171<br>UNH_Close: Weight=0.189<br>MCD_Close: Weight=0.245<br>VRTX_Close: Weight=0.043<br>BABA_Close: Weight=0.121<br>WMT_Close: Weight=0.113<br>ORCL_Close: Weight=0.026",
                    "Return: 54.457%<br>Volatility: 0.083<br>Sharpe Ratio: 6.571<br>JNJ_Close: Weight=0.097<br>BA_Close: Weight=0.173<br>UNH_Close: Weight=0.199<br>MCD_Close: Weight=0.253<br>VRTX_Close: Weight=0.044<br>BABA_Close: Weight=0.125<br>WMT_Close: Weight=0.110<br>ABT_Close: Weight=0.000",
                    "Return: 54.455%<br>Volatility: 0.083<br>Sharpe Ratio: 6.571<br>JNJ_Close: Weight=0.097<br>BA_Close: Weight=0.173<br>UNH_Close: Weight=0.199<br>MCD_Close: Weight=0.253<br>VRTX_Close: Weight=0.044<br>BABA_Close: Weight=0.125<br>WMT_Close: Weight=0.110<br>MDT_Close: Weight=0.000",
                    "Return: 53.931%<br>Volatility: 0.082<br>Sharpe Ratio: 6.588<br>JNJ_Close: Weight=0.071<br>BA_Close: Weight=0.170<br>UNH_Close: Weight=0.184<br>MCD_Close: Weight=0.246<br>VRTX_Close: Weight=0.041<br>BABA_Close: Weight=0.122<br>WMT_Close: Weight=0.110<br>ABBV_Close: Weight=0.056",
                    "Return: 54.455%<br>Volatility: 0.083<br>Sharpe Ratio: 6.571<br>JNJ_Close: Weight=0.097<br>BA_Close: Weight=0.173<br>UNH_Close: Weight=0.199<br>MCD_Close: Weight=0.253<br>VRTX_Close: Weight=0.044<br>BABA_Close: Weight=0.125<br>WMT_Close: Weight=0.110<br>UA_Close: Weight=0.000",
                    "Return: 54.453%<br>Volatility: 0.083<br>Sharpe Ratio: 6.571<br>JNJ_Close: Weight=0.097<br>BA_Close: Weight=0.173<br>UNH_Close: Weight=0.199<br>MCD_Close: Weight=0.253<br>VRTX_Close: Weight=0.044<br>BABA_Close: Weight=0.125<br>WMT_Close: Weight=0.110<br>KR_Close: Weight=0.000",
                    "Return: 54.453%<br>Volatility: 0.083<br>Sharpe Ratio: 6.571<br>JNJ_Close: Weight=0.097<br>BA_Close: Weight=0.173<br>UNH_Close: Weight=0.199<br>MCD_Close: Weight=0.253<br>VRTX_Close: Weight=0.044<br>BABA_Close: Weight=0.125<br>WMT_Close: Weight=0.110<br>INTC_Close: Weight=0.000",
                    "Return: 54.456%<br>Volatility: 0.083<br>Sharpe Ratio: 6.571<br>JNJ_Close: Weight=0.097<br>BA_Close: Weight=0.173<br>UNH_Close: Weight=0.199<br>MCD_Close: Weight=0.253<br>VRTX_Close: Weight=0.044<br>BABA_Close: Weight=0.125<br>WMT_Close: Weight=0.110<br>GILD_Close: Weight=0.000",
                    "Return: 54.456%<br>Volatility: 0.083<br>Sharpe Ratio: 6.571<br>JNJ_Close: Weight=0.097<br>BA_Close: Weight=0.173<br>UNH_Close: Weight=0.199<br>MCD_Close: Weight=0.253<br>VRTX_Close: Weight=0.044<br>BABA_Close: Weight=0.125<br>WMT_Close: Weight=0.110<br>AMGN_Close: Weight=0.000",
                    "Return: 54.450%<br>Volatility: 0.083<br>Sharpe Ratio: 6.571<br>JNJ_Close: Weight=0.097<br>BA_Close: Weight=0.173<br>UNH_Close: Weight=0.199<br>MCD_Close: Weight=0.253<br>VRTX_Close: Weight=0.044<br>BABA_Close: Weight=0.125<br>WMT_Close: Weight=0.110<br>RMD_Close: Weight=0.000",
                    "Return: 54.454%<br>Volatility: 0.083<br>Sharpe Ratio: 6.571<br>JNJ_Close: Weight=0.097<br>BA_Close: Weight=0.173<br>UNH_Close: Weight=0.199<br>MCD_Close: Weight=0.253<br>VRTX_Close: Weight=0.044<br>BABA_Close: Weight=0.125<br>WMT_Close: Weight=0.110<br>SNAP_Close: Weight=0.000",
                    "Return: 54.454%<br>Volatility: 0.083<br>Sharpe Ratio: 6.571<br>JNJ_Close: Weight=0.097<br>BA_Close: Weight=0.173<br>UNH_Close: Weight=0.199<br>MCD_Close: Weight=0.253<br>VRTX_Close: Weight=0.044<br>BABA_Close: Weight=0.125<br>WMT_Close: Weight=0.110<br>BAC_Close: Weight=0.000",
                    "Return: 54.453%<br>Volatility: 0.083<br>Sharpe Ratio: 6.571<br>JNJ_Close: Weight=0.097<br>BA_Close: Weight=0.173<br>UNH_Close: Weight=0.199<br>MCD_Close: Weight=0.253<br>VRTX_Close: Weight=0.044<br>BABA_Close: Weight=0.125<br>WMT_Close: Weight=0.110<br>ZBH_Close: Weight=0.000",
                    "Return: 54.458%<br>Volatility: 0.083<br>Sharpe Ratio: 6.571<br>JNJ_Close: Weight=0.097<br>BA_Close: Weight=0.173<br>UNH_Close: Weight=0.199<br>MCD_Close: Weight=0.253<br>VRTX_Close: Weight=0.044<br>BABA_Close: Weight=0.125<br>WMT_Close: Weight=0.110<br>HON_Close: Weight=0.000",
                    "Return: 54.455%<br>Volatility: 0.083<br>Sharpe Ratio: 6.571<br>JNJ_Close: Weight=0.097<br>BA_Close: Weight=0.173<br>UNH_Close: Weight=0.199<br>MCD_Close: Weight=0.253<br>VRTX_Close: Weight=0.044<br>BABA_Close: Weight=0.125<br>WMT_Close: Weight=0.110<br>RDY_Close: Weight=0.000",
                    "Return: 54.446%<br>Volatility: 0.083<br>Sharpe Ratio: 6.571<br>JNJ_Close: Weight=0.097<br>BA_Close: Weight=0.173<br>UNH_Close: Weight=0.199<br>MCD_Close: Weight=0.253<br>VRTX_Close: Weight=0.044<br>BABA_Close: Weight=0.125<br>WMT_Close: Weight=0.110<br>GS_Close: Weight=0.000",
                    "Return: 54.455%<br>Volatility: 0.083<br>Sharpe Ratio: 6.571<br>JNJ_Close: Weight=0.097<br>BA_Close: Weight=0.173<br>UNH_Close: Weight=0.199<br>MCD_Close: Weight=0.253<br>VRTX_Close: Weight=0.044<br>BABA_Close: Weight=0.125<br>WMT_Close: Weight=0.110<br>BMY_Close: Weight=0.000",
                    "Return: 54.452%<br>Volatility: 0.083<br>Sharpe Ratio: 6.571<br>JNJ_Close: Weight=0.097<br>BA_Close: Weight=0.173<br>UNH_Close: Weight=0.199<br>MCD_Close: Weight=0.253<br>VRTX_Close: Weight=0.044<br>BABA_Close: Weight=0.125<br>WMT_Close: Weight=0.110<br>QCOM_Close: Weight=0.000",
                    "Return: 54.452%<br>Volatility: 0.083<br>Sharpe Ratio: 6.571<br>JNJ_Close: Weight=0.097<br>BA_Close: Weight=0.173<br>UNH_Close: Weight=0.199<br>MCD_Close: Weight=0.253<br>VRTX_Close: Weight=0.044<br>BABA_Close: Weight=0.125<br>WMT_Close: Weight=0.110<br>ETN_Close: Weight=0.000",
                    "Return: 54.449%<br>Volatility: 0.083<br>Sharpe Ratio: 6.571<br>JNJ_Close: Weight=0.097<br>BA_Close: Weight=0.173<br>UNH_Close: Weight=0.199<br>MCD_Close: Weight=0.253<br>VRTX_Close: Weight=0.044<br>BABA_Close: Weight=0.125<br>WMT_Close: Weight=0.110<br>LMT_Close: Weight=0.000",
                    "Return: 54.456%<br>Volatility: 0.083<br>Sharpe Ratio: 6.571<br>JNJ_Close: Weight=0.097<br>BA_Close: Weight=0.173<br>UNH_Close: Weight=0.199<br>MCD_Close: Weight=0.253<br>VRTX_Close: Weight=0.044<br>BABA_Close: Weight=0.125<br>WMT_Close: Weight=0.110<br>ACN_Close: Weight=0.000",
                    "Return: 54.447%<br>Volatility: 0.083<br>Sharpe Ratio: 6.571<br>JNJ_Close: Weight=0.097<br>BA_Close: Weight=0.173<br>UNH_Close: Weight=0.199<br>MCD_Close: Weight=0.253<br>VRTX_Close: Weight=0.044<br>BABA_Close: Weight=0.125<br>WMT_Close: Weight=0.110<br>JPM_Close: Weight=0.000",
                    "Return: 54.457%<br>Volatility: 0.083<br>Sharpe Ratio: 6.571<br>JNJ_Close: Weight=0.097<br>BA_Close: Weight=0.173<br>UNH_Close: Weight=0.199<br>MCD_Close: Weight=0.253<br>VRTX_Close: Weight=0.044<br>BABA_Close: Weight=0.125<br>WMT_Close: Weight=0.110<br>CMCSA_Close: Weight=0.000",
                    "Return: 54.451%<br>Volatility: 0.083<br>Sharpe Ratio: 6.571<br>JNJ_Close: Weight=0.097<br>BA_Close: Weight=0.173<br>UNH_Close: Weight=0.199<br>MCD_Close: Weight=0.253<br>VRTX_Close: Weight=0.044<br>BABA_Close: Weight=0.125<br>WMT_Close: Weight=0.110<br>PM_Close: Weight=0.000",
                    "Return: 54.454%<br>Volatility: 0.083<br>Sharpe Ratio: 6.571<br>JNJ_Close: Weight=0.097<br>BA_Close: Weight=0.173<br>UNH_Close: Weight=0.199<br>MCD_Close: Weight=0.253<br>VRTX_Close: Weight=0.044<br>BABA_Close: Weight=0.125<br>WMT_Close: Weight=0.110<br>NKE_Close: Weight=0.000",
                    "Return: 54.461%<br>Volatility: 0.083<br>Sharpe Ratio: 6.571<br>JNJ_Close: Weight=0.097<br>BA_Close: Weight=0.173<br>UNH_Close: Weight=0.199<br>MCD_Close: Weight=0.253<br>VRTX_Close: Weight=0.044<br>BABA_Close: Weight=0.125<br>WMT_Close: Weight=0.110<br>EMR_Close: Weight=0.000",
                    "Return: 53.389%<br>Volatility: 0.081<br>Sharpe Ratio: 6.613<br>JNJ_Close: Weight=0.080<br>BA_Close: Weight=0.178<br>UNH_Close: Weight=0.169<br>MCD_Close: Weight=0.236<br>VRTX_Close: Weight=0.042<br>BABA_Close: Weight=0.120<br>WMT_Close: Weight=0.106<br>TMO_Close: Weight=0.071",
                    "Return: 54.447%<br>Volatility: 0.083<br>Sharpe Ratio: 6.571<br>JNJ_Close: Weight=0.097<br>BA_Close: Weight=0.173<br>UNH_Close: Weight=0.199<br>MCD_Close: Weight=0.253<br>VRTX_Close: Weight=0.044<br>BABA_Close: Weight=0.125<br>WMT_Close: Weight=0.110<br>RTX_Close: Weight=0.000",
                    "Return: 54.454%<br>Volatility: 0.083<br>Sharpe Ratio: 6.571<br>JNJ_Close: Weight=0.097<br>BA_Close: Weight=0.173<br>UNH_Close: Weight=0.199<br>MCD_Close: Weight=0.253<br>VRTX_Close: Weight=0.044<br>BABA_Close: Weight=0.125<br>WMT_Close: Weight=0.110<br>BTI_Close: Weight=0.000",
                    "Return: 54.461%<br>Volatility: 0.083<br>Sharpe Ratio: 6.571<br>JNJ_Close: Weight=0.097<br>BA_Close: Weight=0.173<br>UNH_Close: Weight=0.199<br>MCD_Close: Weight=0.253<br>VRTX_Close: Weight=0.044<br>BABA_Close: Weight=0.125<br>WMT_Close: Weight=0.110<br>HD_Close: Weight=0.000",
                    "Return: 54.454%<br>Volatility: 0.083<br>Sharpe Ratio: 6.571<br>JNJ_Close: Weight=0.097<br>BA_Close: Weight=0.173<br>UNH_Close: Weight=0.199<br>MCD_Close: Weight=0.253<br>VRTX_Close: Weight=0.044<br>BABA_Close: Weight=0.125<br>WMT_Close: Weight=0.110<br>SYY_Close: Weight=0.000",
                    "Return: 54.458%<br>Volatility: 0.083<br>Sharpe Ratio: 6.571<br>JNJ_Close: Weight=0.097<br>BA_Close: Weight=0.173<br>UNH_Close: Weight=0.199<br>MCD_Close: Weight=0.253<br>VRTX_Close: Weight=0.044<br>BABA_Close: Weight=0.125<br>WMT_Close: Weight=0.110<br>WFC_Close: Weight=0.000",
                    "Return: 54.461%<br>Volatility: 0.083<br>Sharpe Ratio: 6.571<br>JNJ_Close: Weight=0.097<br>BA_Close: Weight=0.173<br>UNH_Close: Weight=0.199<br>MCD_Close: Weight=0.253<br>VRTX_Close: Weight=0.044<br>BABA_Close: Weight=0.125<br>WMT_Close: Weight=0.110<br>F_Close: Weight=0.000",
                    "Return: 54.452%<br>Volatility: 0.083<br>Sharpe Ratio: 6.571<br>JNJ_Close: Weight=0.097<br>BA_Close: Weight=0.173<br>UNH_Close: Weight=0.199<br>MCD_Close: Weight=0.253<br>VRTX_Close: Weight=0.044<br>BABA_Close: Weight=0.125<br>WMT_Close: Weight=0.110<br>T_Close: Weight=0.000",
                    "Return: 52.951%<br>Volatility: 0.080<br>Sharpe Ratio: 6.579<br>JNJ_Close: Weight=0.088<br>BA_Close: Weight=0.164<br>UNH_Close: Weight=0.185<br>MCD_Close: Weight=0.244<br>VRTX_Close: Weight=0.042<br>BABA_Close: Weight=0.123<br>WMT_Close: Weight=0.103<br>PEP_Close: Weight=0.051",
                    "Return: 53.344%<br>Volatility: 0.081<br>Sharpe Ratio: 6.578<br>JNJ_Close: Weight=0.081<br>BA_Close: Weight=0.165<br>UNH_Close: Weight=0.189<br>MCD_Close: Weight=0.252<br>VRTX_Close: Weight=0.042<br>BABA_Close: Weight=0.121<br>WMT_Close: Weight=0.112<br>MMM_Close: Weight=0.037",
                    "Return: 54.452%<br>Volatility: 0.083<br>Sharpe Ratio: 6.571<br>JNJ_Close: Weight=0.097<br>BA_Close: Weight=0.173<br>UNH_Close: Weight=0.199<br>MCD_Close: Weight=0.253<br>VRTX_Close: Weight=0.044<br>BABA_Close: Weight=0.125<br>WMT_Close: Weight=0.110<br>GIS_Close: Weight=0.000",
                    "Return: 54.451%<br>Volatility: 0.083<br>Sharpe Ratio: 6.571<br>JNJ_Close: Weight=0.097<br>BA_Close: Weight=0.173<br>UNH_Close: Weight=0.199<br>MCD_Close: Weight=0.253<br>VRTX_Close: Weight=0.044<br>BABA_Close: Weight=0.125<br>WMT_Close: Weight=0.110<br>COST_Close: Weight=0.000",
                    "Return: 54.455%<br>Volatility: 0.083<br>Sharpe Ratio: 6.571<br>JNJ_Close: Weight=0.097<br>BA_Close: Weight=0.173<br>UNH_Close: Weight=0.199<br>MCD_Close: Weight=0.253<br>VRTX_Close: Weight=0.044<br>BABA_Close: Weight=0.125<br>WMT_Close: Weight=0.110<br>GM_Close: Weight=0.000",
                    "Return: 54.455%<br>Volatility: 0.083<br>Sharpe Ratio: 6.571<br>JNJ_Close: Weight=0.097<br>BA_Close: Weight=0.173<br>UNH_Close: Weight=0.199<br>MCD_Close: Weight=0.253<br>VRTX_Close: Weight=0.044<br>BABA_Close: Weight=0.125<br>WMT_Close: Weight=0.110<br>MRK_Close: Weight=0.000",
                    "Return: 54.454%<br>Volatility: 0.083<br>Sharpe Ratio: 6.571<br>JNJ_Close: Weight=0.097<br>BA_Close: Weight=0.173<br>UNH_Close: Weight=0.199<br>MCD_Close: Weight=0.253<br>VRTX_Close: Weight=0.044<br>BABA_Close: Weight=0.125<br>WMT_Close: Weight=0.110<br>PFE_Close: Weight=0.000",
                    "Return: 54.456%<br>Volatility: 0.083<br>Sharpe Ratio: 6.571<br>JNJ_Close: Weight=0.097<br>BA_Close: Weight=0.173<br>UNH_Close: Weight=0.199<br>MCD_Close: Weight=0.253<br>VRTX_Close: Weight=0.044<br>BABA_Close: Weight=0.125<br>WMT_Close: Weight=0.110<br>DHR_Close: Weight=0.000",
                    "Return: 54.453%<br>Volatility: 0.083<br>Sharpe Ratio: 6.571<br>JNJ_Close: Weight=0.097<br>BA_Close: Weight=0.173<br>UNH_Close: Weight=0.199<br>MCD_Close: Weight=0.253<br>VRTX_Close: Weight=0.044<br>BABA_Close: Weight=0.125<br>WMT_Close: Weight=0.110<br>PG_Close: Weight=0.000",
                    "Return: 54.456%<br>Volatility: 0.083<br>Sharpe Ratio: 6.571<br>JNJ_Close: Weight=0.097<br>BA_Close: Weight=0.173<br>UNH_Close: Weight=0.199<br>MCD_Close: Weight=0.253<br>VRTX_Close: Weight=0.044<br>BABA_Close: Weight=0.125<br>WMT_Close: Weight=0.110<br>DIS_Close: Weight=0.000",
                    "Return: 47.010%<br>Volatility: 0.069<br>Sharpe Ratio: 6.851<br>JNJ_Close: Weight=0.067<br>BA_Close: Weight=0.110<br>UNH_Close: Weight=0.133<br>MCD_Close: Weight=0.189<br>VRTX_Close: Weight=0.035<br>BABA_Close: Weight=0.112<br>WMT_Close: Weight=0.080<br>KO_Close: Weight=0.273",
                    "Return: 47.579%<br>Volatility: 0.071<br>Sharpe Ratio: 6.726<br>JNJ_Close: Weight=0.099<br>BA_Close: Weight=0.119<br>MCD_Close: Weight=0.206<br>VRTX_Close: Weight=0.039<br>BABA_Close: Weight=0.102<br>WMT_Close: Weight=0.101<br>KO_Close: Weight=0.318<br>NVDA_Close: Weight=0.018",
                    "Return: 46.794%<br>Volatility: 0.070<br>Sharpe Ratio: 6.694<br>JNJ_Close: Weight=0.103<br>BA_Close: Weight=0.116<br>MCD_Close: Weight=0.212<br>VRTX_Close: Weight=0.039<br>BABA_Close: Weight=0.114<br>WMT_Close: Weight=0.101<br>KO_Close: Weight=0.315<br>AMD_Close: Weight=0.000",
                    "Return: 46.799%<br>Volatility: 0.070<br>Sharpe Ratio: 6.694<br>JNJ_Close: Weight=0.103<br>BA_Close: Weight=0.116<br>MCD_Close: Weight=0.212<br>VRTX_Close: Weight=0.039<br>BABA_Close: Weight=0.115<br>WMT_Close: Weight=0.101<br>KO_Close: Weight=0.315<br>NFLX_Close: Weight=0.000",
                    "Return: 47.065%<br>Volatility: 0.070<br>Sharpe Ratio: 6.700<br>JNJ_Close: Weight=0.096<br>BA_Close: Weight=0.118<br>MCD_Close: Weight=0.213<br>VRTX_Close: Weight=0.037<br>BABA_Close: Weight=0.113<br>WMT_Close: Weight=0.098<br>KO_Close: Weight=0.314<br>REGN_Close: Weight=0.012",
                    "Return: 47.911%<br>Volatility: 0.071<br>Sharpe Ratio: 6.767<br>JNJ_Close: Weight=0.092<br>BA_Close: Weight=0.103<br>MCD_Close: Weight=0.198<br>VRTX_Close: Weight=0.038<br>BABA_Close: Weight=0.102<br>WMT_Close: Weight=0.100<br>KO_Close: Weight=0.310<br>PYPL_Close: Weight=0.056",
                    "Return: 46.363%<br>Volatility: 0.069<br>Sharpe Ratio: 6.727<br>JNJ_Close: Weight=0.107<br>BA_Close: Weight=0.113<br>MCD_Close: Weight=0.207<br>VRTX_Close: Weight=0.037<br>BABA_Close: Weight=0.106<br>WMT_Close: Weight=0.099<br>KO_Close: Weight=0.313<br>TSLA_Close: Weight=0.019",
                    "Return: 46.769%<br>Volatility: 0.070<br>Sharpe Ratio: 6.694<br>JNJ_Close: Weight=0.103<br>BA_Close: Weight=0.115<br>MCD_Close: Weight=0.211<br>VRTX_Close: Weight=0.038<br>BABA_Close: Weight=0.114<br>WMT_Close: Weight=0.101<br>KO_Close: Weight=0.314<br>META_Close: Weight=0.003",
                    "Return: 46.788%<br>Volatility: 0.070<br>Sharpe Ratio: 6.694<br>JNJ_Close: Weight=0.103<br>BA_Close: Weight=0.116<br>MCD_Close: Weight=0.212<br>VRTX_Close: Weight=0.038<br>BABA_Close: Weight=0.114<br>WMT_Close: Weight=0.101<br>KO_Close: Weight=0.315<br>CAT_Close: Weight=0.000",
                    "Return: 46.792%<br>Volatility: 0.070<br>Sharpe Ratio: 6.694<br>JNJ_Close: Weight=0.103<br>BA_Close: Weight=0.116<br>MCD_Close: Weight=0.212<br>VRTX_Close: Weight=0.039<br>BABA_Close: Weight=0.114<br>WMT_Close: Weight=0.101<br>KO_Close: Weight=0.315<br>MA_Close: Weight=0.000",
                    "Return: 47.008%<br>Volatility: 0.070<br>Sharpe Ratio: 6.710<br>JNJ_Close: Weight=0.092<br>BA_Close: Weight=0.115<br>MCD_Close: Weight=0.208<br>VRTX_Close: Weight=0.037<br>BABA_Close: Weight=0.112<br>WMT_Close: Weight=0.100<br>KO_Close: Weight=0.313<br>EW_Close: Weight=0.022",
                    "Return: 46.798%<br>Volatility: 0.070<br>Sharpe Ratio: 6.694<br>JNJ_Close: Weight=0.103<br>BA_Close: Weight=0.116<br>MCD_Close: Weight=0.212<br>VRTX_Close: Weight=0.039<br>BABA_Close: Weight=0.115<br>WMT_Close: Weight=0.101<br>KO_Close: Weight=0.315<br>SAP_Close: Weight=0.000",
                    "Return: 46.333%<br>Volatility: 0.069<br>Sharpe Ratio: 6.713<br>JNJ_Close: Weight=0.096<br>BA_Close: Weight=0.108<br>MCD_Close: Weight=0.201<br>VRTX_Close: Weight=0.035<br>BABA_Close: Weight=0.108<br>WMT_Close: Weight=0.104<br>KO_Close: Weight=0.309<br>ADBE_Close: Weight=0.039",
                    "Return: 46.796%<br>Volatility: 0.070<br>Sharpe Ratio: 6.694<br>JNJ_Close: Weight=0.103<br>BA_Close: Weight=0.116<br>MCD_Close: Weight=0.212<br>VRTX_Close: Weight=0.039<br>BABA_Close: Weight=0.115<br>WMT_Close: Weight=0.101<br>KO_Close: Weight=0.315<br>AMZN_Close: Weight=0.000",
                    "Return: 46.789%<br>Volatility: 0.070<br>Sharpe Ratio: 6.694<br>JNJ_Close: Weight=0.103<br>BA_Close: Weight=0.116<br>MCD_Close: Weight=0.212<br>VRTX_Close: Weight=0.039<br>BABA_Close: Weight=0.114<br>WMT_Close: Weight=0.101<br>KO_Close: Weight=0.315<br>MSFT_Close: Weight=0.000",
                    "Return: 46.795%<br>Volatility: 0.070<br>Sharpe Ratio: 6.694<br>JNJ_Close: Weight=0.103<br>BA_Close: Weight=0.116<br>MCD_Close: Weight=0.212<br>VRTX_Close: Weight=0.039<br>BABA_Close: Weight=0.115<br>WMT_Close: Weight=0.101<br>KO_Close: Weight=0.315<br>TXN_Close: Weight=0.000",
                    "Return: 46.790%<br>Volatility: 0.070<br>Sharpe Ratio: 6.694<br>JNJ_Close: Weight=0.103<br>BA_Close: Weight=0.116<br>MCD_Close: Weight=0.212<br>VRTX_Close: Weight=0.039<br>BABA_Close: Weight=0.114<br>WMT_Close: Weight=0.101<br>KO_Close: Weight=0.315<br>GOOG_Close: Weight=0.000",
                    "Return: 46.796%<br>Volatility: 0.070<br>Sharpe Ratio: 6.694<br>JNJ_Close: Weight=0.103<br>BA_Close: Weight=0.116<br>MCD_Close: Weight=0.212<br>VRTX_Close: Weight=0.038<br>BABA_Close: Weight=0.115<br>WMT_Close: Weight=0.101<br>KO_Close: Weight=0.315<br>BIIB_Close: Weight=0.000",
                    "Return: 46.794%<br>Volatility: 0.070<br>Sharpe Ratio: 6.694<br>JNJ_Close: Weight=0.103<br>BA_Close: Weight=0.116<br>MCD_Close: Weight=0.212<br>VRTX_Close: Weight=0.039<br>BABA_Close: Weight=0.114<br>WMT_Close: Weight=0.101<br>KO_Close: Weight=0.315<br>GOOGL_Close: Weight=0.000",
                    "Return: 46.793%<br>Volatility: 0.070<br>Sharpe Ratio: 6.694<br>JNJ_Close: Weight=0.103<br>BA_Close: Weight=0.116<br>MCD_Close: Weight=0.212<br>VRTX_Close: Weight=0.039<br>BABA_Close: Weight=0.114<br>WMT_Close: Weight=0.101<br>KO_Close: Weight=0.315<br>CRM_Close: Weight=0.000",
                    "Return: 46.847%<br>Volatility: 0.068<br>Sharpe Ratio: 6.901<br>JNJ_Close: Weight=0.070<br>BA_Close: Weight=0.104<br>MCD_Close: Weight=0.180<br>VRTX_Close: Weight=0.030<br>BABA_Close: Weight=0.100<br>WMT_Close: Weight=0.099<br>KO_Close: Weight=0.320<br>ISRG_Close: Weight=0.099",
                    "Return: 47.579%<br>Volatility: 0.071<br>Sharpe Ratio: 6.726<br>JNJ_Close: Weight=0.099<br>BA_Close: Weight=0.119<br>MCD_Close: Weight=0.206<br>VRTX_Close: Weight=0.039<br>BABA_Close: Weight=0.102<br>WMT_Close: Weight=0.101<br>KO_Close: Weight=0.318<br>NVDA_Close: Weight=0.018",
                    "Return: 46.794%<br>Volatility: 0.070<br>Sharpe Ratio: 6.694<br>JNJ_Close: Weight=0.103<br>BA_Close: Weight=0.116<br>MCD_Close: Weight=0.212<br>VRTX_Close: Weight=0.039<br>BABA_Close: Weight=0.114<br>WMT_Close: Weight=0.101<br>KO_Close: Weight=0.315<br>AMD_Close: Weight=0.000",
                    "Return: 46.799%<br>Volatility: 0.070<br>Sharpe Ratio: 6.694<br>JNJ_Close: Weight=0.103<br>BA_Close: Weight=0.116<br>MCD_Close: Weight=0.212<br>VRTX_Close: Weight=0.039<br>BABA_Close: Weight=0.115<br>WMT_Close: Weight=0.101<br>KO_Close: Weight=0.315<br>NFLX_Close: Weight=0.000",
                    "Return: 47.065%<br>Volatility: 0.070<br>Sharpe Ratio: 6.700<br>JNJ_Close: Weight=0.096<br>BA_Close: Weight=0.118<br>MCD_Close: Weight=0.213<br>VRTX_Close: Weight=0.037<br>BABA_Close: Weight=0.113<br>WMT_Close: Weight=0.098<br>KO_Close: Weight=0.314<br>REGN_Close: Weight=0.012",
                    "Return: 47.911%<br>Volatility: 0.071<br>Sharpe Ratio: 6.767<br>JNJ_Close: Weight=0.092<br>BA_Close: Weight=0.103<br>MCD_Close: Weight=0.198<br>VRTX_Close: Weight=0.038<br>BABA_Close: Weight=0.102<br>WMT_Close: Weight=0.100<br>KO_Close: Weight=0.310<br>PYPL_Close: Weight=0.056",
                    "Return: 46.363%<br>Volatility: 0.069<br>Sharpe Ratio: 6.727<br>JNJ_Close: Weight=0.107<br>BA_Close: Weight=0.113<br>MCD_Close: Weight=0.207<br>VRTX_Close: Weight=0.037<br>BABA_Close: Weight=0.106<br>WMT_Close: Weight=0.099<br>KO_Close: Weight=0.313<br>TSLA_Close: Weight=0.019",
                    "Return: 46.769%<br>Volatility: 0.070<br>Sharpe Ratio: 6.694<br>JNJ_Close: Weight=0.103<br>BA_Close: Weight=0.115<br>MCD_Close: Weight=0.211<br>VRTX_Close: Weight=0.038<br>BABA_Close: Weight=0.114<br>WMT_Close: Weight=0.101<br>KO_Close: Weight=0.314<br>META_Close: Weight=0.003",
                    "Return: 46.788%<br>Volatility: 0.070<br>Sharpe Ratio: 6.694<br>JNJ_Close: Weight=0.103<br>BA_Close: Weight=0.116<br>MCD_Close: Weight=0.212<br>VRTX_Close: Weight=0.038<br>BABA_Close: Weight=0.114<br>WMT_Close: Weight=0.101<br>KO_Close: Weight=0.315<br>CAT_Close: Weight=0.000",
                    "Return: 46.792%<br>Volatility: 0.070<br>Sharpe Ratio: 6.694<br>JNJ_Close: Weight=0.103<br>BA_Close: Weight=0.116<br>MCD_Close: Weight=0.212<br>VRTX_Close: Weight=0.039<br>BABA_Close: Weight=0.114<br>WMT_Close: Weight=0.101<br>KO_Close: Weight=0.315<br>MA_Close: Weight=0.000",
                    "Return: 47.008%<br>Volatility: 0.070<br>Sharpe Ratio: 6.710<br>JNJ_Close: Weight=0.092<br>BA_Close: Weight=0.115<br>MCD_Close: Weight=0.208<br>VRTX_Close: Weight=0.037<br>BABA_Close: Weight=0.112<br>WMT_Close: Weight=0.100<br>KO_Close: Weight=0.313<br>EW_Close: Weight=0.022",
                    "Return: 46.798%<br>Volatility: 0.070<br>Sharpe Ratio: 6.694<br>JNJ_Close: Weight=0.103<br>BA_Close: Weight=0.116<br>MCD_Close: Weight=0.212<br>VRTX_Close: Weight=0.039<br>BABA_Close: Weight=0.115<br>WMT_Close: Weight=0.101<br>KO_Close: Weight=0.315<br>SAP_Close: Weight=0.000",
                    "Return: 46.333%<br>Volatility: 0.069<br>Sharpe Ratio: 6.713<br>JNJ_Close: Weight=0.096<br>BA_Close: Weight=0.108<br>MCD_Close: Weight=0.201<br>VRTX_Close: Weight=0.035<br>BABA_Close: Weight=0.108<br>WMT_Close: Weight=0.104<br>KO_Close: Weight=0.309<br>ADBE_Close: Weight=0.039",
                    "Return: 46.796%<br>Volatility: 0.070<br>Sharpe Ratio: 6.694<br>JNJ_Close: Weight=0.103<br>BA_Close: Weight=0.116<br>MCD_Close: Weight=0.212<br>VRTX_Close: Weight=0.039<br>BABA_Close: Weight=0.115<br>WMT_Close: Weight=0.101<br>KO_Close: Weight=0.315<br>AMZN_Close: Weight=0.000",
                    "Return: 46.789%<br>Volatility: 0.070<br>Sharpe Ratio: 6.694<br>JNJ_Close: Weight=0.103<br>BA_Close: Weight=0.116<br>MCD_Close: Weight=0.212<br>VRTX_Close: Weight=0.039<br>BABA_Close: Weight=0.114<br>WMT_Close: Weight=0.101<br>KO_Close: Weight=0.315<br>MSFT_Close: Weight=0.000",
                    "Return: 46.795%<br>Volatility: 0.070<br>Sharpe Ratio: 6.694<br>JNJ_Close: Weight=0.103<br>BA_Close: Weight=0.116<br>MCD_Close: Weight=0.212<br>VRTX_Close: Weight=0.039<br>BABA_Close: Weight=0.115<br>WMT_Close: Weight=0.101<br>KO_Close: Weight=0.315<br>TXN_Close: Weight=0.000",
                    "Return: 46.790%<br>Volatility: 0.070<br>Sharpe Ratio: 6.694<br>JNJ_Close: Weight=0.103<br>BA_Close: Weight=0.116<br>MCD_Close: Weight=0.212<br>VRTX_Close: Weight=0.039<br>BABA_Close: Weight=0.114<br>WMT_Close: Weight=0.101<br>KO_Close: Weight=0.315<br>GOOG_Close: Weight=0.000",
                    "Return: 46.796%<br>Volatility: 0.070<br>Sharpe Ratio: 6.694<br>JNJ_Close: Weight=0.103<br>BA_Close: Weight=0.116<br>MCD_Close: Weight=0.212<br>VRTX_Close: Weight=0.038<br>BABA_Close: Weight=0.115<br>WMT_Close: Weight=0.101<br>KO_Close: Weight=0.315<br>BIIB_Close: Weight=0.000",
                    "Return: 46.794%<br>Volatility: 0.070<br>Sharpe Ratio: 6.694<br>JNJ_Close: Weight=0.103<br>BA_Close: Weight=0.116<br>MCD_Close: Weight=0.212<br>VRTX_Close: Weight=0.039<br>BABA_Close: Weight=0.114<br>WMT_Close: Weight=0.101<br>KO_Close: Weight=0.315<br>GOOGL_Close: Weight=0.000",
                    "Return: 46.793%<br>Volatility: 0.070<br>Sharpe Ratio: 6.694<br>JNJ_Close: Weight=0.103<br>BA_Close: Weight=0.116<br>MCD_Close: Weight=0.212<br>VRTX_Close: Weight=0.039<br>BABA_Close: Weight=0.114<br>WMT_Close: Weight=0.101<br>KO_Close: Weight=0.315<br>CRM_Close: Weight=0.000",
                    "Return: 46.847%<br>Volatility: 0.068<br>Sharpe Ratio: 6.901<br>JNJ_Close: Weight=0.070<br>BA_Close: Weight=0.104<br>MCD_Close: Weight=0.180<br>VRTX_Close: Weight=0.030<br>BABA_Close: Weight=0.100<br>WMT_Close: Weight=0.099<br>KO_Close: Weight=0.320<br>ISRG_Close: Weight=0.099",
                    "Return: 46.766%<br>Volatility: 0.070<br>Sharpe Ratio: 6.694<br>JNJ_Close: Weight=0.103<br>BA_Close: Weight=0.115<br>MCD_Close: Weight=0.211<br>VRTX_Close: Weight=0.038<br>BABA_Close: Weight=0.114<br>WMT_Close: Weight=0.101<br>KO_Close: Weight=0.314<br>DE_Close: Weight=0.003",
                    "Return: 46.793%<br>Volatility: 0.070<br>Sharpe Ratio: 6.694<br>JNJ_Close: Weight=0.103<br>BA_Close: Weight=0.116<br>MCD_Close: Weight=0.212<br>VRTX_Close: Weight=0.039<br>BABA_Close: Weight=0.114<br>WMT_Close: Weight=0.101<br>KO_Close: Weight=0.315<br>AAPL_Close: Weight=0.000",
                    "Return: 46.787%<br>Volatility: 0.070<br>Sharpe Ratio: 6.694<br>JNJ_Close: Weight=0.103<br>BA_Close: Weight=0.116<br>MCD_Close: Weight=0.212<br>VRTX_Close: Weight=0.039<br>BABA_Close: Weight=0.114<br>WMT_Close: Weight=0.101<br>KO_Close: Weight=0.315<br>MS_Close: Weight=0.000",
                    "Return: 46.793%<br>Volatility: 0.070<br>Sharpe Ratio: 6.694<br>JNJ_Close: Weight=0.103<br>BA_Close: Weight=0.116<br>MCD_Close: Weight=0.212<br>VRTX_Close: Weight=0.039<br>BABA_Close: Weight=0.114<br>WMT_Close: Weight=0.101<br>KO_Close: Weight=0.315<br>V_Close: Weight=0.000",
                    "Return: 46.787%<br>Volatility: 0.070<br>Sharpe Ratio: 6.694<br>JNJ_Close: Weight=0.103<br>BA_Close: Weight=0.116<br>MCD_Close: Weight=0.212<br>VRTX_Close: Weight=0.039<br>BABA_Close: Weight=0.114<br>WMT_Close: Weight=0.101<br>KO_Close: Weight=0.315<br>INTC_Close: Weight=0.000",
                    "Return: 46.792%<br>Volatility: 0.070<br>Sharpe Ratio: 6.694<br>JNJ_Close: Weight=0.103<br>BA_Close: Weight=0.116<br>MCD_Close: Weight=0.212<br>VRTX_Close: Weight=0.039<br>BABA_Close: Weight=0.114<br>WMT_Close: Weight=0.101<br>KO_Close: Weight=0.315<br>BSX_Close: Weight=0.000",
                    "Return: 46.617%<br>Volatility: 0.069<br>Sharpe Ratio: 6.708<br>JNJ_Close: Weight=0.098<br>BA_Close: Weight=0.115<br>MCD_Close: Weight=0.204<br>VRTX_Close: Weight=0.038<br>BABA_Close: Weight=0.111<br>WMT_Close: Weight=0.104<br>KO_Close: Weight=0.306<br>ORCL_Close: Weight=0.025",
                    "Return: 46.796%<br>Volatility: 0.070<br>Sharpe Ratio: 6.694<br>JNJ_Close: Weight=0.103<br>BA_Close: Weight=0.116<br>MCD_Close: Weight=0.212<br>VRTX_Close: Weight=0.038<br>BABA_Close: Weight=0.114<br>WMT_Close: Weight=0.101<br>KO_Close: Weight=0.315<br>PM_Close: Weight=0.000",
                    "Return: 46.799%<br>Volatility: 0.070<br>Sharpe Ratio: 6.694<br>JNJ_Close: Weight=0.103<br>BA_Close: Weight=0.116<br>MCD_Close: Weight=0.212<br>VRTX_Close: Weight=0.038<br>BABA_Close: Weight=0.115<br>WMT_Close: Weight=0.101<br>KO_Close: Weight=0.315<br>KR_Close: Weight=0.000",
                    "Return: 46.792%<br>Volatility: 0.070<br>Sharpe Ratio: 6.694<br>JNJ_Close: Weight=0.103<br>BA_Close: Weight=0.116<br>MCD_Close: Weight=0.212<br>VRTX_Close: Weight=0.039<br>BABA_Close: Weight=0.114<br>WMT_Close: Weight=0.101<br>KO_Close: Weight=0.315<br>BTI_Close: Weight=0.000",
                    "Return: 46.797%<br>Volatility: 0.070<br>Sharpe Ratio: 6.694<br>JNJ_Close: Weight=0.103<br>BA_Close: Weight=0.116<br>MCD_Close: Weight=0.212<br>VRTX_Close: Weight=0.039<br>BABA_Close: Weight=0.114<br>WMT_Close: Weight=0.101<br>KO_Close: Weight=0.315<br>GILD_Close: Weight=0.000",
                    "Return: 46.793%<br>Volatility: 0.070<br>Sharpe Ratio: 6.694<br>JNJ_Close: Weight=0.103<br>BA_Close: Weight=0.116<br>MCD_Close: Weight=0.212<br>VRTX_Close: Weight=0.039<br>BABA_Close: Weight=0.114<br>WMT_Close: Weight=0.101<br>KO_Close: Weight=0.315<br>SNAP_Close: Weight=0.000",
                    "Return: 46.793%<br>Volatility: 0.070<br>Sharpe Ratio: 6.694<br>JNJ_Close: Weight=0.103<br>BA_Close: Weight=0.116<br>MCD_Close: Weight=0.212<br>VRTX_Close: Weight=0.039<br>BABA_Close: Weight=0.114<br>WMT_Close: Weight=0.101<br>KO_Close: Weight=0.315<br>ABT_Close: Weight=0.000",
                    "Return: 46.789%<br>Volatility: 0.070<br>Sharpe Ratio: 6.694<br>JNJ_Close: Weight=0.103<br>BA_Close: Weight=0.116<br>MCD_Close: Weight=0.212<br>VRTX_Close: Weight=0.039<br>BABA_Close: Weight=0.114<br>WMT_Close: Weight=0.101<br>KO_Close: Weight=0.315<br>MDT_Close: Weight=0.000",
                    "Return: 46.794%<br>Volatility: 0.070<br>Sharpe Ratio: 6.694<br>JNJ_Close: Weight=0.103<br>BA_Close: Weight=0.116<br>MCD_Close: Weight=0.212<br>VRTX_Close: Weight=0.039<br>BABA_Close: Weight=0.114<br>WMT_Close: Weight=0.101<br>KO_Close: Weight=0.315<br>ETN_Close: Weight=0.000",
                    "Return: 46.352%<br>Volatility: 0.069<br>Sharpe Ratio: 6.740<br>JNJ_Close: Weight=0.073<br>BA_Close: Weight=0.110<br>MCD_Close: Weight=0.197<br>VRTX_Close: Weight=0.037<br>BABA_Close: Weight=0.112<br>WMT_Close: Weight=0.093<br>KO_Close: Weight=0.302<br>SYK_Close: Weight=0.077",
                    "Return: 46.795%<br>Volatility: 0.070<br>Sharpe Ratio: 6.694<br>JNJ_Close: Weight=0.103<br>BA_Close: Weight=0.116<br>MCD_Close: Weight=0.212<br>VRTX_Close: Weight=0.039<br>BABA_Close: Weight=0.114<br>WMT_Close: Weight=0.101<br>KO_Close: Weight=0.315<br>HON_Close: Weight=0.000",
                    "Return: 46.794%<br>Volatility: 0.070<br>Sharpe Ratio: 6.694<br>JNJ_Close: Weight=0.103<br>BA_Close: Weight=0.116<br>MCD_Close: Weight=0.212<br>VRTX_Close: Weight=0.038<br>BABA_Close: Weight=0.115<br>WMT_Close: Weight=0.101<br>KO_Close: Weight=0.315<br>QCOM_Close: Weight=0.000",
                    "Return: 46.796%<br>Volatility: 0.070<br>Sharpe Ratio: 6.694<br>JNJ_Close: Weight=0.103<br>BA_Close: Weight=0.116<br>MCD_Close: Weight=0.212<br>VRTX_Close: Weight=0.039<br>BABA_Close: Weight=0.115<br>WMT_Close: Weight=0.101<br>KO_Close: Weight=0.315<br>PEP_Close: Weight=0.000",
                    "Return: 46.793%<br>Volatility: 0.070<br>Sharpe Ratio: 6.694<br>JNJ_Close: Weight=0.103<br>BA_Close: Weight=0.116<br>MCD_Close: Weight=0.212<br>VRTX_Close: Weight=0.039<br>BABA_Close: Weight=0.114<br>WMT_Close: Weight=0.101<br>KO_Close: Weight=0.315<br>ACN_Close: Weight=0.000",
                    "Return: 46.793%<br>Volatility: 0.070<br>Sharpe Ratio: 6.694<br>JNJ_Close: Weight=0.103<br>BA_Close: Weight=0.116<br>MCD_Close: Weight=0.212<br>VRTX_Close: Weight=0.039<br>BABA_Close: Weight=0.114<br>WMT_Close: Weight=0.101<br>KO_Close: Weight=0.315<br>RMD_Close: Weight=0.000",
                    "Return: 46.791%<br>Volatility: 0.070<br>Sharpe Ratio: 6.694<br>JNJ_Close: Weight=0.103<br>BA_Close: Weight=0.116<br>MCD_Close: Weight=0.212<br>VRTX_Close: Weight=0.039<br>BABA_Close: Weight=0.114<br>WMT_Close: Weight=0.101<br>KO_Close: Weight=0.315<br>ZBH_Close: Weight=0.000",
                    "Return: 46.098%<br>Volatility: 0.068<br>Sharpe Ratio: 6.752<br>JNJ_Close: Weight=0.060<br>BA_Close: Weight=0.110<br>MCD_Close: Weight=0.199<br>VRTX_Close: Weight=0.034<br>BABA_Close: Weight=0.111<br>WMT_Close: Weight=0.097<br>KO_Close: Weight=0.307<br>ABBV_Close: Weight=0.082",
                    "Return: 47.010%<br>Volatility: 0.069<br>Sharpe Ratio: 6.851<br>JNJ_Close: Weight=0.067<br>BA_Close: Weight=0.110<br>MCD_Close: Weight=0.189<br>VRTX_Close: Weight=0.035<br>BABA_Close: Weight=0.112<br>WMT_Close: Weight=0.080<br>KO_Close: Weight=0.273<br>UNH_Close: Weight=0.133",
                    "Return: 46.794%<br>Volatility: 0.070<br>Sharpe Ratio: 6.694<br>JNJ_Close: Weight=0.103<br>BA_Close: Weight=0.116<br>MCD_Close: Weight=0.212<br>VRTX_Close: Weight=0.039<br>BABA_Close: Weight=0.114<br>WMT_Close: Weight=0.101<br>KO_Close: Weight=0.315<br>UA_Close: Weight=0.000",
                    "Return: 46.386%<br>Volatility: 0.069<br>Sharpe Ratio: 6.696<br>JNJ_Close: Weight=0.100<br>BA_Close: Weight=0.112<br>MCD_Close: Weight=0.211<br>VRTX_Close: Weight=0.038<br>BABA_Close: Weight=0.113<br>WMT_Close: Weight=0.099<br>KO_Close: Weight=0.310<br>LMT_Close: Weight=0.017",
                    "Return: 46.796%<br>Volatility: 0.070<br>Sharpe Ratio: 6.694<br>JNJ_Close: Weight=0.103<br>BA_Close: Weight=0.116<br>MCD_Close: Weight=0.212<br>VRTX_Close: Weight=0.039<br>BABA_Close: Weight=0.114<br>WMT_Close: Weight=0.101<br>KO_Close: Weight=0.315<br>GS_Close: Weight=0.000",
                    "Return: 46.794%<br>Volatility: 0.070<br>Sharpe Ratio: 6.694<br>JNJ_Close: Weight=0.103<br>BA_Close: Weight=0.116<br>MCD_Close: Weight=0.212<br>VRTX_Close: Weight=0.038<br>BABA_Close: Weight=0.115<br>WMT_Close: Weight=0.101<br>KO_Close: Weight=0.315<br>AMGN_Close: Weight=0.000",
                    "Return: 46.792%<br>Volatility: 0.070<br>Sharpe Ratio: 6.694<br>JNJ_Close: Weight=0.103<br>BA_Close: Weight=0.116<br>MCD_Close: Weight=0.212<br>VRTX_Close: Weight=0.039<br>BABA_Close: Weight=0.114<br>WMT_Close: Weight=0.101<br>KO_Close: Weight=0.315<br>RDY_Close: Weight=0.000",
                    "Return: 46.804%<br>Volatility: 0.070<br>Sharpe Ratio: 6.694<br>JNJ_Close: Weight=0.103<br>BA_Close: Weight=0.116<br>MCD_Close: Weight=0.212<br>VRTX_Close: Weight=0.039<br>BABA_Close: Weight=0.115<br>WMT_Close: Weight=0.101<br>KO_Close: Weight=0.315<br>CMCSA_Close: Weight=0.000",
                    "Return: 46.802%<br>Volatility: 0.070<br>Sharpe Ratio: 6.694<br>JNJ_Close: Weight=0.103<br>BA_Close: Weight=0.116<br>MCD_Close: Weight=0.212<br>VRTX_Close: Weight=0.039<br>BABA_Close: Weight=0.115<br>WMT_Close: Weight=0.101<br>KO_Close: Weight=0.315<br>BAC_Close: Weight=0.000",
                    "Return: 46.795%<br>Volatility: 0.070<br>Sharpe Ratio: 6.694<br>JNJ_Close: Weight=0.103<br>BA_Close: Weight=0.116<br>MCD_Close: Weight=0.212<br>VRTX_Close: Weight=0.039<br>BABA_Close: Weight=0.115<br>WMT_Close: Weight=0.101<br>KO_Close: Weight=0.315<br>T_Close: Weight=0.000",
                    "Return: 46.787%<br>Volatility: 0.070<br>Sharpe Ratio: 6.694<br>JNJ_Close: Weight=0.103<br>BA_Close: Weight=0.116<br>MCD_Close: Weight=0.212<br>VRTX_Close: Weight=0.039<br>BABA_Close: Weight=0.114<br>WMT_Close: Weight=0.101<br>KO_Close: Weight=0.315<br>EMR_Close: Weight=0.000",
                    "Return: 46.793%<br>Volatility: 0.070<br>Sharpe Ratio: 6.694<br>JNJ_Close: Weight=0.103<br>BA_Close: Weight=0.116<br>MCD_Close: Weight=0.212<br>VRTX_Close: Weight=0.039<br>BABA_Close: Weight=0.114<br>WMT_Close: Weight=0.101<br>KO_Close: Weight=0.315<br>JPM_Close: Weight=0.000",
                    "Return: 46.790%<br>Volatility: 0.070<br>Sharpe Ratio: 6.694<br>JNJ_Close: Weight=0.103<br>BA_Close: Weight=0.116<br>MCD_Close: Weight=0.212<br>VRTX_Close: Weight=0.039<br>BABA_Close: Weight=0.114<br>WMT_Close: Weight=0.101<br>KO_Close: Weight=0.315<br>GIS_Close: Weight=0.000",
                    "Return: 46.791%<br>Volatility: 0.070<br>Sharpe Ratio: 6.694<br>JNJ_Close: Weight=0.103<br>BA_Close: Weight=0.116<br>MCD_Close: Weight=0.212<br>VRTX_Close: Weight=0.038<br>BABA_Close: Weight=0.114<br>WMT_Close: Weight=0.101<br>KO_Close: Weight=0.315<br>PG_Close: Weight=0.000",
                    "Return: 46.795%<br>Volatility: 0.070<br>Sharpe Ratio: 6.694<br>JNJ_Close: Weight=0.103<br>BA_Close: Weight=0.116<br>MCD_Close: Weight=0.212<br>VRTX_Close: Weight=0.039<br>BABA_Close: Weight=0.115<br>WMT_Close: Weight=0.101<br>KO_Close: Weight=0.315<br>HD_Close: Weight=0.000",
                    "Return: 46.793%<br>Volatility: 0.070<br>Sharpe Ratio: 6.694<br>JNJ_Close: Weight=0.103<br>BA_Close: Weight=0.116<br>MCD_Close: Weight=0.212<br>VRTX_Close: Weight=0.039<br>BABA_Close: Weight=0.115<br>WMT_Close: Weight=0.101<br>KO_Close: Weight=0.315<br>NKE_Close: Weight=0.000",
                    "Return: 46.795%<br>Volatility: 0.070<br>Sharpe Ratio: 6.694<br>JNJ_Close: Weight=0.103<br>BA_Close: Weight=0.116<br>MCD_Close: Weight=0.212<br>VRTX_Close: Weight=0.039<br>BABA_Close: Weight=0.114<br>WMT_Close: Weight=0.101<br>KO_Close: Weight=0.315<br>SYY_Close: Weight=0.000",
                    "Return: 46.793%<br>Volatility: 0.070<br>Sharpe Ratio: 6.694<br>JNJ_Close: Weight=0.103<br>BA_Close: Weight=0.116<br>MCD_Close: Weight=0.212<br>VRTX_Close: Weight=0.039<br>BABA_Close: Weight=0.114<br>WMT_Close: Weight=0.101<br>KO_Close: Weight=0.315<br>COST_Close: Weight=0.000",
                    "Return: 46.791%<br>Volatility: 0.070<br>Sharpe Ratio: 6.694<br>JNJ_Close: Weight=0.103<br>BA_Close: Weight=0.116<br>MCD_Close: Weight=0.212<br>VRTX_Close: Weight=0.039<br>BABA_Close: Weight=0.114<br>WMT_Close: Weight=0.101<br>KO_Close: Weight=0.315<br>RTX_Close: Weight=0.000",
                    "Return: 46.797%<br>Volatility: 0.070<br>Sharpe Ratio: 6.694<br>JNJ_Close: Weight=0.103<br>BA_Close: Weight=0.116<br>MCD_Close: Weight=0.212<br>VRTX_Close: Weight=0.039<br>BABA_Close: Weight=0.115<br>WMT_Close: Weight=0.101<br>KO_Close: Weight=0.315<br>MRK_Close: Weight=0.000",
                    "Return: 46.791%<br>Volatility: 0.070<br>Sharpe Ratio: 6.694<br>JNJ_Close: Weight=0.103<br>BA_Close: Weight=0.116<br>MCD_Close: Weight=0.212<br>VRTX_Close: Weight=0.039<br>BABA_Close: Weight=0.114<br>WMT_Close: Weight=0.101<br>KO_Close: Weight=0.315<br>BMY_Close: Weight=0.000",
                    "Return: 46.791%<br>Volatility: 0.070<br>Sharpe Ratio: 6.694<br>JNJ_Close: Weight=0.103<br>BA_Close: Weight=0.116<br>MCD_Close: Weight=0.212<br>VRTX_Close: Weight=0.038<br>BABA_Close: Weight=0.114<br>WMT_Close: Weight=0.101<br>KO_Close: Weight=0.315<br>CPB_Close: Weight=0.000",
                    "Return: 46.024%<br>Volatility: 0.068<br>Sharpe Ratio: 6.776<br>JNJ_Close: Weight=0.077<br>BA_Close: Weight=0.123<br>MCD_Close: Weight=0.190<br>VRTX_Close: Weight=0.036<br>BABA_Close: Weight=0.109<br>WMT_Close: Weight=0.093<br>KO_Close: Weight=0.292<br>TMO_Close: Weight=0.080",
                    "Return: 46.799%<br>Volatility: 0.070<br>Sharpe Ratio: 6.694<br>JNJ_Close: Weight=0.103<br>BA_Close: Weight=0.116<br>MCD_Close: Weight=0.212<br>VRTX_Close: Weight=0.038<br>BABA_Close: Weight=0.115<br>WMT_Close: Weight=0.101<br>KO_Close: Weight=0.315<br>VZ_Close: Weight=0.000",
                    "Return: 46.792%<br>Volatility: 0.070<br>Sharpe Ratio: 6.694<br>JNJ_Close: Weight=0.103<br>BA_Close: Weight=0.116<br>MCD_Close: Weight=0.212<br>VRTX_Close: Weight=0.039<br>BABA_Close: Weight=0.114<br>WMT_Close: Weight=0.101<br>KO_Close: Weight=0.315<br>DHR_Close: Weight=0.000",
                    "Return: 46.503%<br>Volatility: 0.069<br>Sharpe Ratio: 6.705<br>JNJ_Close: Weight=0.093<br>BA_Close: Weight=0.113<br>MCD_Close: Weight=0.214<br>VRTX_Close: Weight=0.037<br>BABA_Close: Weight=0.116<br>WMT_Close: Weight=0.101<br>KO_Close: Weight=0.292<br>EXC_Close: Weight=0.034",
                    "Return: 46.788%<br>Volatility: 0.070<br>Sharpe Ratio: 6.694<br>JNJ_Close: Weight=0.103<br>BA_Close: Weight=0.116<br>MCD_Close: Weight=0.212<br>VRTX_Close: Weight=0.038<br>BABA_Close: Weight=0.114<br>WMT_Close: Weight=0.101<br>KO_Close: Weight=0.315<br>MO_Close: Weight=0.000",
                    "Return: 46.793%<br>Volatility: 0.070<br>Sharpe Ratio: 6.694<br>JNJ_Close: Weight=0.103<br>BA_Close: Weight=0.116<br>MCD_Close: Weight=0.212<br>VRTX_Close: Weight=0.039<br>BABA_Close: Weight=0.114<br>WMT_Close: Weight=0.101<br>KO_Close: Weight=0.315<br>K_Close: Weight=0.000",
                    "Return: 45.638%<br>Volatility: 0.068<br>Sharpe Ratio: 6.711<br>JNJ_Close: Weight=0.082<br>BA_Close: Weight=0.107<br>MCD_Close: Weight=0.211<br>VRTX_Close: Weight=0.037<br>BABA_Close: Weight=0.111<br>WMT_Close: Weight=0.103<br>KO_Close: Weight=0.303<br>MMM_Close: Weight=0.047",
                    "Return: 46.792%<br>Volatility: 0.070<br>Sharpe Ratio: 6.694<br>JNJ_Close: Weight=0.103<br>BA_Close: Weight=0.116<br>MCD_Close: Weight=0.212<br>VRTX_Close: Weight=0.039<br>BABA_Close: Weight=0.114<br>WMT_Close: Weight=0.101<br>KO_Close: Weight=0.315<br>GM_Close: Weight=0.000",
                    "Return: 46.793%<br>Volatility: 0.070<br>Sharpe Ratio: 6.694<br>JNJ_Close: Weight=0.103<br>BA_Close: Weight=0.116<br>MCD_Close: Weight=0.212<br>VRTX_Close: Weight=0.039<br>BABA_Close: Weight=0.114<br>WMT_Close: Weight=0.101<br>KO_Close: Weight=0.315<br>WFC_Close: Weight=0.000",
                    "Return: 46.794%<br>Volatility: 0.070<br>Sharpe Ratio: 6.694<br>JNJ_Close: Weight=0.103<br>BA_Close: Weight=0.116<br>MCD_Close: Weight=0.212<br>VRTX_Close: Weight=0.038<br>BABA_Close: Weight=0.115<br>WMT_Close: Weight=0.101<br>KO_Close: Weight=0.315<br>CSCO_Close: Weight=0.000",
                    "Return: 46.791%<br>Volatility: 0.070<br>Sharpe Ratio: 6.694<br>JNJ_Close: Weight=0.103<br>BA_Close: Weight=0.116<br>MCD_Close: Weight=0.212<br>VRTX_Close: Weight=0.039<br>BABA_Close: Weight=0.114<br>WMT_Close: Weight=0.101<br>KO_Close: Weight=0.315<br>F_Close: Weight=0.000",
                    "Return: 46.793%<br>Volatility: 0.070<br>Sharpe Ratio: 6.694<br>JNJ_Close: Weight=0.103<br>BA_Close: Weight=0.116<br>MCD_Close: Weight=0.212<br>VRTX_Close: Weight=0.039<br>BABA_Close: Weight=0.114<br>WMT_Close: Weight=0.101<br>KO_Close: Weight=0.315<br>DIS_Close: Weight=0.000",
                    "Return: 46.787%<br>Volatility: 0.070<br>Sharpe Ratio: 6.694<br>JNJ_Close: Weight=0.103<br>BA_Close: Weight=0.116<br>MCD_Close: Weight=0.212<br>VRTX_Close: Weight=0.038<br>BABA_Close: Weight=0.114<br>WMT_Close: Weight=0.101<br>KO_Close: Weight=0.315<br>PFE_Close: Weight=0.000",
                    "Return: 45.587%<br>Volatility: 0.068<br>Sharpe Ratio: 6.730<br>JNJ_Close: Weight=0.091<br>BA_Close: Weight=0.104<br>MCD_Close: Weight=0.200<br>VRTX_Close: Weight=0.037<br>BABA_Close: Weight=0.118<br>WMT_Close: Weight=0.099<br>KO_Close: Weight=0.272<br>AEP_Close: Weight=0.079",
                    "Return: 45.287%<br>Volatility: 0.064<br>Sharpe Ratio: 7.115<br>JNJ_Close: Weight=0.063<br>BA_Close: Weight=0.081<br>MCD_Close: Weight=0.173<br>VRTX_Close: Weight=0.033<br>BABA_Close: Weight=0.116<br>WMT_Close: Weight=0.114<br>KO_Close: Weight=0.193<br>NEE_Close: Weight=0.227",
                    "Return: 49.909%<br>Volatility: 0.072<br>Sharpe Ratio: 6.971<br>JNJ_Close: Weight=0.077<br>BA_Close: Weight=0.112<br>MCD_Close: Weight=0.203<br>VRTX_Close: Weight=0.038<br>BABA_Close: Weight=0.116<br>WMT_Close: Weight=0.143<br>NEE_Close: Weight=0.298<br>NVDA_Close: Weight=0.012",
                    "Return: 49.291%<br>Volatility: 0.071<br>Sharpe Ratio: 6.956<br>JNJ_Close: Weight=0.079<br>BA_Close: Weight=0.110<br>MCD_Close: Weight=0.206<br>VRTX_Close: Weight=0.038<br>BABA_Close: Weight=0.125<br>WMT_Close: Weight=0.143<br>NEE_Close: Weight=0.299<br>AMD_Close: Weight=0.000",
                    "Return: 49.296%<br>Volatility: 0.071<br>Sharpe Ratio: 6.956<br>JNJ_Close: Weight=0.079<br>BA_Close: Weight=0.110<br>MCD_Close: Weight=0.206<br>VRTX_Close: Weight=0.038<br>BABA_Close: Weight=0.125<br>WMT_Close: Weight=0.143<br>NEE_Close: Weight=0.299<br>NFLX_Close: Weight=0.000",
                    "Return: 49.699%<br>Volatility: 0.071<br>Sharpe Ratio: 6.985<br>JNJ_Close: Weight=0.062<br>BA_Close: Weight=0.111<br>MCD_Close: Weight=0.207<br>VRTX_Close: Weight=0.033<br>BABA_Close: Weight=0.121<br>WMT_Close: Weight=0.137<br>NEE_Close: Weight=0.304<br>REGN_Close: Weight=0.025",
                    "Return: 50.303%<br>Volatility: 0.072<br>Sharpe Ratio: 7.026<br>JNJ_Close: Weight=0.068<br>BA_Close: Weight=0.097<br>MCD_Close: Weight=0.193<br>VRTX_Close: Weight=0.037<br>BABA_Close: Weight=0.113<br>WMT_Close: Weight=0.141<br>NEE_Close: Weight=0.296<br>PYPL_Close: Weight=0.054",
                    "Return: 48.963%<br>Volatility: 0.070<br>Sharpe Ratio: 6.979<br>JNJ_Close: Weight=0.083<br>BA_Close: Weight=0.108<br>MCD_Close: Weight=0.203<br>VRTX_Close: Weight=0.036<br>BABA_Close: Weight=0.118<br>WMT_Close: Weight=0.141<br>NEE_Close: Weight=0.295<br>TSLA_Close: Weight=0.016",
                    "Return: 49.217%<br>Volatility: 0.071<br>Sharpe Ratio: 6.956<br>JNJ_Close: Weight=0.078<br>BA_Close: Weight=0.109<br>MCD_Close: Weight=0.205<br>VRTX_Close: Weight=0.037<br>BABA_Close: Weight=0.123<br>WMT_Close: Weight=0.143<br>NEE_Close: Weight=0.298<br>META_Close: Weight=0.007",
                    "Return: 49.293%<br>Volatility: 0.071<br>Sharpe Ratio: 6.956<br>JNJ_Close: Weight=0.079<br>BA_Close: Weight=0.110<br>MCD_Close: Weight=0.206<br>VRTX_Close: Weight=0.038<br>BABA_Close: Weight=0.125<br>WMT_Close: Weight=0.143<br>NEE_Close: Weight=0.299<br>ADBE_Close: Weight=0.000",
                    "Return: 49.483%<br>Volatility: 0.071<br>Sharpe Ratio: 6.978<br>JNJ_Close: Weight=0.065<br>BA_Close: Weight=0.108<br>MCD_Close: Weight=0.202<br>VRTX_Close: Weight=0.036<br>BABA_Close: Weight=0.122<br>WMT_Close: Weight=0.141<br>NEE_Close: Weight=0.299<br>EW_Close: Weight=0.026",
                    "Return: 49.287%<br>Volatility: 0.071<br>Sharpe Ratio: 6.956<br>JNJ_Close: Weight=0.079<br>BA_Close: Weight=0.110<br>MCD_Close: Weight=0.206<br>VRTX_Close: Weight=0.038<br>BABA_Close: Weight=0.125<br>WMT_Close: Weight=0.143<br>NEE_Close: Weight=0.299<br>CAT_Close: Weight=0.000",
                    "Return: 49.287%<br>Volatility: 0.071<br>Sharpe Ratio: 6.956<br>JNJ_Close: Weight=0.079<br>BA_Close: Weight=0.110<br>MCD_Close: Weight=0.206<br>VRTX_Close: Weight=0.038<br>BABA_Close: Weight=0.125<br>WMT_Close: Weight=0.143<br>NEE_Close: Weight=0.299<br>MA_Close: Weight=0.000",
                    "Return: 49.291%<br>Volatility: 0.071<br>Sharpe Ratio: 6.956<br>JNJ_Close: Weight=0.079<br>BA_Close: Weight=0.110<br>MCD_Close: Weight=0.206<br>VRTX_Close: Weight=0.038<br>BABA_Close: Weight=0.125<br>WMT_Close: Weight=0.143<br>NEE_Close: Weight=0.299<br>TXN_Close: Weight=0.000",
                    "Return: 49.286%<br>Volatility: 0.071<br>Sharpe Ratio: 6.956<br>JNJ_Close: Weight=0.079<br>BA_Close: Weight=0.110<br>MCD_Close: Weight=0.206<br>VRTX_Close: Weight=0.038<br>BABA_Close: Weight=0.125<br>WMT_Close: Weight=0.143<br>NEE_Close: Weight=0.299<br>SAP_Close: Weight=0.000",
                    "Return: 49.294%<br>Volatility: 0.071<br>Sharpe Ratio: 6.956<br>JNJ_Close: Weight=0.079<br>BA_Close: Weight=0.110<br>MCD_Close: Weight=0.207<br>VRTX_Close: Weight=0.038<br>BABA_Close: Weight=0.125<br>WMT_Close: Weight=0.143<br>NEE_Close: Weight=0.299<br>CRM_Close: Weight=0.000",
                    "Return: 49.294%<br>Volatility: 0.071<br>Sharpe Ratio: 6.956<br>JNJ_Close: Weight=0.079<br>BA_Close: Weight=0.110<br>MCD_Close: Weight=0.206<br>VRTX_Close: Weight=0.038<br>BABA_Close: Weight=0.125<br>WMT_Close: Weight=0.143<br>NEE_Close: Weight=0.299<br>MSFT_Close: Weight=0.000",
                    "Return: 49.570%<br>Volatility: 0.069<br>Sharpe Ratio: 7.143<br>JNJ_Close: Weight=0.049<br>BA_Close: Weight=0.101<br>MCD_Close: Weight=0.179<br>VRTX_Close: Weight=0.030<br>BABA_Close: Weight=0.112<br>WMT_Close: Weight=0.142<br>NEE_Close: Weight=0.295<br>ISRG_Close: Weight=0.094",
                    "Return: 47.494%<br>Volatility: 0.068<br>Sharpe Ratio: 7.003<br>JNJ_Close: Weight=0.058<br>BA_Close: Weight=0.104<br>MCD_Close: Weight=0.168<br>BABA_Close: Weight=0.114<br>WMT_Close: Weight=0.150<br>NEE_Close: Weight=0.293<br>ISRG_Close: Weight=0.108<br>NVDA_Close: Weight=0.004",
                    "Return: 49.570%<br>Volatility: 0.069<br>Sharpe Ratio: 7.143<br>JNJ_Close: Weight=0.049<br>BA_Close: Weight=0.101<br>MCD_Close: Weight=0.179<br>BABA_Close: Weight=0.112<br>WMT_Close: Weight=0.142<br>NEE_Close: Weight=0.295<br>ISRG_Close: Weight=0.094<br>VRTX_Close: Weight=0.030",
                    "Return: 47.494%<br>Volatility: 0.068<br>Sharpe Ratio: 7.003<br>JNJ_Close: Weight=0.058<br>BA_Close: Weight=0.104<br>MCD_Close: Weight=0.168<br>BABA_Close: Weight=0.114<br>WMT_Close: Weight=0.150<br>NEE_Close: Weight=0.293<br>ISRG_Close: Weight=0.108<br>NVDA_Close: Weight=0.004",
                    "Return: 49.570%<br>Volatility: 0.069<br>Sharpe Ratio: 7.143<br>JNJ_Close: Weight=0.049<br>BA_Close: Weight=0.101<br>MCD_Close: Weight=0.179<br>BABA_Close: Weight=0.112<br>WMT_Close: Weight=0.142<br>NEE_Close: Weight=0.295<br>ISRG_Close: Weight=0.094<br>VRTX_Close: Weight=0.030",
                    "Return: 47.331%<br>Volatility: 0.068<br>Sharpe Ratio: 7.002<br>JNJ_Close: Weight=0.058<br>BA_Close: Weight=0.104<br>MCD_Close: Weight=0.169<br>BABA_Close: Weight=0.116<br>WMT_Close: Weight=0.150<br>NEE_Close: Weight=0.293<br>ISRG_Close: Weight=0.109<br>AMD_Close: Weight=0.000",
                    "Return: 47.332%<br>Volatility: 0.068<br>Sharpe Ratio: 7.002<br>JNJ_Close: Weight=0.058<br>BA_Close: Weight=0.104<br>MCD_Close: Weight=0.169<br>BABA_Close: Weight=0.117<br>WMT_Close: Weight=0.150<br>NEE_Close: Weight=0.294<br>ISRG_Close: Weight=0.109<br>NFLX_Close: Weight=0.000",
                    "Return: 47.968%<br>Volatility: 0.068<br>Sharpe Ratio: 7.036<br>JNJ_Close: Weight=0.053<br>BA_Close: Weight=0.095<br>MCD_Close: Weight=0.162<br>BABA_Close: Weight=0.109<br>WMT_Close: Weight=0.149<br>NEE_Close: Weight=0.292<br>ISRG_Close: Weight=0.103<br>PYPL_Close: Weight=0.037",
                    "Return: 47.923%<br>Volatility: 0.068<br>Sharpe Ratio: 7.028<br>JNJ_Close: Weight=0.044<br>BA_Close: Weight=0.105<br>MCD_Close: Weight=0.173<br>BABA_Close: Weight=0.114<br>WMT_Close: Weight=0.143<br>NEE_Close: Weight=0.299<br>ISRG_Close: Weight=0.099<br>REGN_Close: Weight=0.022",
                    "Return: 47.158%<br>Volatility: 0.067<br>Sharpe Ratio: 7.011<br>JNJ_Close: Weight=0.062<br>BA_Close: Weight=0.103<br>MCD_Close: Weight=0.168<br>BABA_Close: Weight=0.112<br>WMT_Close: Weight=0.149<br>NEE_Close: Weight=0.291<br>ISRG_Close: Weight=0.105<br>TSLA_Close: Weight=0.010",
                    "Return: 47.329%<br>Volatility: 0.068<br>Sharpe Ratio: 7.002<br>JNJ_Close: Weight=0.058<br>BA_Close: Weight=0.104<br>MCD_Close: Weight=0.169<br>BABA_Close: Weight=0.117<br>WMT_Close: Weight=0.150<br>NEE_Close: Weight=0.294<br>ISRG_Close: Weight=0.109<br>EW_Close: Weight=0.000",
                    "Return: 47.329%<br>Volatility: 0.068<br>Sharpe Ratio: 7.002<br>JNJ_Close: Weight=0.058<br>BA_Close: Weight=0.104<br>MCD_Close: Weight=0.169<br>BABA_Close: Weight=0.117<br>WMT_Close: Weight=0.150<br>NEE_Close: Weight=0.294<br>ISRG_Close: Weight=0.109<br>ADBE_Close: Weight=0.000",
                    "Return: 47.330%<br>Volatility: 0.068<br>Sharpe Ratio: 7.002<br>JNJ_Close: Weight=0.058<br>BA_Close: Weight=0.104<br>MCD_Close: Weight=0.169<br>BABA_Close: Weight=0.117<br>WMT_Close: Weight=0.150<br>NEE_Close: Weight=0.294<br>ISRG_Close: Weight=0.109<br>META_Close: Weight=0.000",
                    "Return: 47.330%<br>Volatility: 0.068<br>Sharpe Ratio: 7.002<br>JNJ_Close: Weight=0.058<br>BA_Close: Weight=0.104<br>MCD_Close: Weight=0.169<br>BABA_Close: Weight=0.117<br>WMT_Close: Weight=0.150<br>NEE_Close: Weight=0.294<br>ISRG_Close: Weight=0.109<br>SAP_Close: Weight=0.000",
                    "Return: 47.329%<br>Volatility: 0.068<br>Sharpe Ratio: 7.002<br>JNJ_Close: Weight=0.058<br>BA_Close: Weight=0.104<br>MCD_Close: Weight=0.169<br>BABA_Close: Weight=0.117<br>WMT_Close: Weight=0.150<br>NEE_Close: Weight=0.294<br>ISRG_Close: Weight=0.109<br>CAT_Close: Weight=0.000",
                    "Return: 47.329%<br>Volatility: 0.068<br>Sharpe Ratio: 7.002<br>JNJ_Close: Weight=0.058<br>BA_Close: Weight=0.104<br>MCD_Close: Weight=0.169<br>BABA_Close: Weight=0.117<br>WMT_Close: Weight=0.150<br>NEE_Close: Weight=0.294<br>ISRG_Close: Weight=0.109<br>MA_Close: Weight=0.000",
                    "Return: 47.330%<br>Volatility: 0.068<br>Sharpe Ratio: 7.002<br>JNJ_Close: Weight=0.058<br>BA_Close: Weight=0.104<br>MCD_Close: Weight=0.169<br>BABA_Close: Weight=0.117<br>WMT_Close: Weight=0.150<br>NEE_Close: Weight=0.294<br>ISRG_Close: Weight=0.109<br>TXN_Close: Weight=0.000",
                    "Return: 47.330%<br>Volatility: 0.068<br>Sharpe Ratio: 7.002<br>JNJ_Close: Weight=0.058<br>BA_Close: Weight=0.104<br>MCD_Close: Weight=0.169<br>BABA_Close: Weight=0.117<br>WMT_Close: Weight=0.150<br>NEE_Close: Weight=0.294<br>ISRG_Close: Weight=0.109<br>CRM_Close: Weight=0.000",
                    "Return: 47.331%<br>Volatility: 0.068<br>Sharpe Ratio: 7.002<br>JNJ_Close: Weight=0.058<br>BA_Close: Weight=0.104<br>MCD_Close: Weight=0.169<br>BABA_Close: Weight=0.117<br>WMT_Close: Weight=0.150<br>NEE_Close: Weight=0.294<br>ISRG_Close: Weight=0.109<br>MSFT_Close: Weight=0.000",
                    "Return: 47.327%<br>Volatility: 0.068<br>Sharpe Ratio: 7.002<br>JNJ_Close: Weight=0.058<br>BA_Close: Weight=0.104<br>MCD_Close: Weight=0.169<br>BABA_Close: Weight=0.117<br>WMT_Close: Weight=0.150<br>NEE_Close: Weight=0.294<br>ISRG_Close: Weight=0.109<br>SYK_Close: Weight=0.000",
                    "Return: 47.331%<br>Volatility: 0.068<br>Sharpe Ratio: 7.002<br>JNJ_Close: Weight=0.058<br>BA_Close: Weight=0.104<br>MCD_Close: Weight=0.169<br>BABA_Close: Weight=0.117<br>WMT_Close: Weight=0.150<br>NEE_Close: Weight=0.294<br>ISRG_Close: Weight=0.109<br>GOOG_Close: Weight=0.000",
                    "Return: 47.325%<br>Volatility: 0.068<br>Sharpe Ratio: 7.002<br>JNJ_Close: Weight=0.058<br>BA_Close: Weight=0.104<br>MCD_Close: Weight=0.169<br>BABA_Close: Weight=0.117<br>WMT_Close: Weight=0.150<br>NEE_Close: Weight=0.294<br>ISRG_Close: Weight=0.109<br>BIIB_Close: Weight=0.000",
                    "Return: 47.331%<br>Volatility: 0.068<br>Sharpe Ratio: 7.002<br>JNJ_Close: Weight=0.058<br>BA_Close: Weight=0.104<br>MCD_Close: Weight=0.169<br>BABA_Close: Weight=0.117<br>WMT_Close: Weight=0.150<br>NEE_Close: Weight=0.294<br>ISRG_Close: Weight=0.109<br>GOOGL_Close: Weight=0.000",
                    "Return: 47.331%<br>Volatility: 0.068<br>Sharpe Ratio: 7.002<br>JNJ_Close: Weight=0.058<br>BA_Close: Weight=0.104<br>MCD_Close: Weight=0.169<br>BABA_Close: Weight=0.117<br>WMT_Close: Weight=0.150<br>NEE_Close: Weight=0.294<br>ISRG_Close: Weight=0.109<br>AMZN_Close: Weight=0.000",
                    "Return: 47.327%<br>Volatility: 0.068<br>Sharpe Ratio: 7.002<br>JNJ_Close: Weight=0.058<br>BA_Close: Weight=0.104<br>MCD_Close: Weight=0.169<br>BABA_Close: Weight=0.116<br>WMT_Close: Weight=0.150<br>NEE_Close: Weight=0.294<br>ISRG_Close: Weight=0.109<br>AAPL_Close: Weight=0.000",
                    "Return: 47.329%<br>Volatility: 0.068<br>Sharpe Ratio: 7.002<br>JNJ_Close: Weight=0.058<br>BA_Close: Weight=0.104<br>MCD_Close: Weight=0.169<br>BABA_Close: Weight=0.117<br>WMT_Close: Weight=0.150<br>NEE_Close: Weight=0.294<br>ISRG_Close: Weight=0.109<br>BSX_Close: Weight=0.000",
                    "Return: 47.328%<br>Volatility: 0.068<br>Sharpe Ratio: 7.002<br>JNJ_Close: Weight=0.058<br>BA_Close: Weight=0.104<br>MCD_Close: Weight=0.169<br>BABA_Close: Weight=0.117<br>WMT_Close: Weight=0.150<br>NEE_Close: Weight=0.294<br>ISRG_Close: Weight=0.109<br>V_Close: Weight=0.000",
                    "Return: 46.874%<br>Volatility: 0.067<br>Sharpe Ratio: 7.019<br>JNJ_Close: Weight=0.056<br>BA_Close: Weight=0.096<br>MCD_Close: Weight=0.157<br>BABA_Close: Weight=0.113<br>WMT_Close: Weight=0.148<br>NEE_Close: Weight=0.294<br>ISRG_Close: Weight=0.107<br>DE_Close: Weight=0.028",
                    "Return: 47.328%<br>Volatility: 0.068<br>Sharpe Ratio: 7.002<br>JNJ_Close: Weight=0.058<br>BA_Close: Weight=0.104<br>MCD_Close: Weight=0.169<br>BABA_Close: Weight=0.117<br>WMT_Close: Weight=0.150<br>NEE_Close: Weight=0.294<br>ISRG_Close: Weight=0.109<br>RMD_Close: Weight=0.000",
                    "Return: 47.326%<br>Volatility: 0.068<br>Sharpe Ratio: 7.002<br>JNJ_Close: Weight=0.058<br>BA_Close: Weight=0.104<br>MCD_Close: Weight=0.169<br>BABA_Close: Weight=0.116<br>WMT_Close: Weight=0.150<br>NEE_Close: Weight=0.294<br>ISRG_Close: Weight=0.109<br>INTC_Close: Weight=0.000",
                    "Return: 47.331%<br>Volatility: 0.068<br>Sharpe Ratio: 7.002<br>JNJ_Close: Weight=0.058<br>BA_Close: Weight=0.104<br>MCD_Close: Weight=0.169<br>BABA_Close: Weight=0.117<br>WMT_Close: Weight=0.150<br>NEE_Close: Weight=0.294<br>ISRG_Close: Weight=0.109<br>SNAP_Close: Weight=0.000",
                    "Return: 47.284%<br>Volatility: 0.067<br>Sharpe Ratio: 7.052<br>JNJ_Close: Weight=0.044<br>BA_Close: Weight=0.102<br>MCD_Close: Weight=0.161<br>BABA_Close: Weight=0.116<br>WMT_Close: Weight=0.135<br>NEE_Close: Weight=0.271<br>ISRG_Close: Weight=0.096<br>UNH_Close: Weight=0.076",
                    "Return: 46.676%<br>Volatility: 0.066<br>Sharpe Ratio: 7.058<br>JNJ_Close: Weight=0.047<br>BA_Close: Weight=0.098<br>MCD_Close: Weight=0.153<br>BABA_Close: Weight=0.109<br>WMT_Close: Weight=0.152<br>NEE_Close: Weight=0.291<br>ISRG_Close: Weight=0.103<br>ORCL_Close: Weight=0.047",
                    "Return: 47.329%<br>Volatility: 0.068<br>Sharpe Ratio: 7.002<br>JNJ_Close: Weight=0.058<br>BA_Close: Weight=0.104<br>MCD_Close: Weight=0.169<br>BABA_Close: Weight=0.117<br>WMT_Close: Weight=0.150<br>NEE_Close: Weight=0.294<br>ISRG_Close: Weight=0.109<br>MDT_Close: Weight=0.000",
                    "Return: 47.329%<br>Volatility: 0.068<br>Sharpe Ratio: 7.002<br>JNJ_Close: Weight=0.058<br>BA_Close: Weight=0.104<br>MCD_Close: Weight=0.169<br>BABA_Close: Weight=0.117<br>WMT_Close: Weight=0.150<br>NEE_Close: Weight=0.294<br>ISRG_Close: Weight=0.109<br>UA_Close: Weight=0.000",
                    "Return: 47.330%<br>Volatility: 0.068<br>Sharpe Ratio: 7.002<br>JNJ_Close: Weight=0.058<br>BA_Close: Weight=0.104<br>MCD_Close: Weight=0.169<br>BABA_Close: Weight=0.117<br>WMT_Close: Weight=0.150<br>NEE_Close: Weight=0.293<br>ISRG_Close: Weight=0.109<br>KR_Close: Weight=0.000",
                    "Return: 47.331%<br>Volatility: 0.068<br>Sharpe Ratio: 7.002<br>JNJ_Close: Weight=0.058<br>BA_Close: Weight=0.104<br>MCD_Close: Weight=0.169<br>BABA_Close: Weight=0.117<br>WMT_Close: Weight=0.150<br>NEE_Close: Weight=0.294<br>ISRG_Close: Weight=0.109<br>ABT_Close: Weight=0.000",
                    "Return: 47.016%<br>Volatility: 0.067<br>Sharpe Ratio: 7.061<br>JNJ_Close: Weight=0.018<br>BA_Close: Weight=0.100<br>MCD_Close: Weight=0.161<br>BABA_Close: Weight=0.112<br>WMT_Close: Weight=0.144<br>NEE_Close: Weight=0.281<br>ISRG_Close: Weight=0.106<br>ABBV_Close: Weight=0.079",
                    "Return: 47.328%<br>Volatility: 0.068<br>Sharpe Ratio: 7.002<br>JNJ_Close: Weight=0.058<br>BA_Close: Weight=0.104<br>MCD_Close: Weight=0.169<br>BABA_Close: Weight=0.117<br>WMT_Close: Weight=0.150<br>NEE_Close: Weight=0.294<br>ISRG_Close: Weight=0.109<br>ACN_Close: Weight=0.000",
                    "Return: 47.335%<br>Volatility: 0.068<br>Sharpe Ratio: 7.002<br>JNJ_Close: Weight=0.058<br>BA_Close: Weight=0.104<br>MCD_Close: Weight=0.169<br>BABA_Close: Weight=0.117<br>WMT_Close: Weight=0.150<br>NEE_Close: Weight=0.293<br>ISRG_Close: Weight=0.109<br>MS_Close: Weight=0.000",
                    "Return: 47.184%<br>Volatility: 0.067<br>Sharpe Ratio: 7.002<br>JNJ_Close: Weight=0.055<br>BA_Close: Weight=0.102<br>MCD_Close: Weight=0.169<br>BABA_Close: Weight=0.116<br>WMT_Close: Weight=0.148<br>NEE_Close: Weight=0.294<br>ISRG_Close: Weight=0.108<br>GILD_Close: Weight=0.007",
                    "Return: 47.146%<br>Volatility: 0.067<br>Sharpe Ratio: 7.002<br>JNJ_Close: Weight=0.057<br>BA_Close: Weight=0.102<br>MCD_Close: Weight=0.169<br>BABA_Close: Weight=0.116<br>WMT_Close: Weight=0.149<br>NEE_Close: Weight=0.293<br>ISRG_Close: Weight=0.107<br>LMT_Close: Weight=0.007",
                    "Return: 47.332%<br>Volatility: 0.068<br>Sharpe Ratio: 7.002<br>JNJ_Close: Weight=0.058<br>BA_Close: Weight=0.104<br>MCD_Close: Weight=0.169<br>BABA_Close: Weight=0.117<br>WMT_Close: Weight=0.150<br>NEE_Close: Weight=0.293<br>ISRG_Close: Weight=0.109<br>ETN_Close: Weight=0.000",
                    "Return: 47.333%<br>Volatility: 0.068<br>Sharpe Ratio: 7.002<br>JNJ_Close: Weight=0.058<br>BA_Close: Weight=0.104<br>MCD_Close: Weight=0.169<br>BABA_Close: Weight=0.117<br>WMT_Close: Weight=0.150<br>NEE_Close: Weight=0.294<br>ISRG_Close: Weight=0.109<br>HON_Close: Weight=0.000",
                    "Return: 47.329%<br>Volatility: 0.068<br>Sharpe Ratio: 7.002<br>JNJ_Close: Weight=0.058<br>BA_Close: Weight=0.104<br>MCD_Close: Weight=0.169<br>BABA_Close: Weight=0.117<br>WMT_Close: Weight=0.150<br>NEE_Close: Weight=0.294<br>ISRG_Close: Weight=0.109<br>CMCSA_Close: Weight=0.000",
                    "Return: 47.329%<br>Volatility: 0.068<br>Sharpe Ratio: 7.002<br>JNJ_Close: Weight=0.058<br>BA_Close: Weight=0.104<br>MCD_Close: Weight=0.169<br>BABA_Close: Weight=0.117<br>WMT_Close: Weight=0.150<br>NEE_Close: Weight=0.294<br>ISRG_Close: Weight=0.109<br>RDY_Close: Weight=0.000",
                    "Return: 47.332%<br>Volatility: 0.068<br>Sharpe Ratio: 7.002<br>JNJ_Close: Weight=0.058<br>BA_Close: Weight=0.104<br>MCD_Close: Weight=0.169<br>BABA_Close: Weight=0.117<br>WMT_Close: Weight=0.150<br>NEE_Close: Weight=0.294<br>ISRG_Close: Weight=0.109<br>PM_Close: Weight=0.000",
                    "Return: 47.329%<br>Volatility: 0.068<br>Sharpe Ratio: 7.002<br>JNJ_Close: Weight=0.058<br>BA_Close: Weight=0.104<br>MCD_Close: Weight=0.169<br>BABA_Close: Weight=0.117<br>WMT_Close: Weight=0.150<br>NEE_Close: Weight=0.294<br>ISRG_Close: Weight=0.109<br>QCOM_Close: Weight=0.000",
                    "Return: 47.331%<br>Volatility: 0.068<br>Sharpe Ratio: 7.002<br>JNJ_Close: Weight=0.058<br>BA_Close: Weight=0.104<br>MCD_Close: Weight=0.169<br>BABA_Close: Weight=0.117<br>WMT_Close: Weight=0.150<br>NEE_Close: Weight=0.294<br>ISRG_Close: Weight=0.109<br>BMY_Close: Weight=0.000",
                    "Return: 47.331%<br>Volatility: 0.068<br>Sharpe Ratio: 7.002<br>JNJ_Close: Weight=0.058<br>BA_Close: Weight=0.104<br>MCD_Close: Weight=0.169<br>BABA_Close: Weight=0.117<br>WMT_Close: Weight=0.150<br>NEE_Close: Weight=0.294<br>ISRG_Close: Weight=0.109<br>ZBH_Close: Weight=0.000",
                    "Return: 47.330%<br>Volatility: 0.068<br>Sharpe Ratio: 7.002<br>JNJ_Close: Weight=0.058<br>BA_Close: Weight=0.104<br>MCD_Close: Weight=0.169<br>BABA_Close: Weight=0.117<br>WMT_Close: Weight=0.150<br>NEE_Close: Weight=0.294<br>ISRG_Close: Weight=0.109<br>NKE_Close: Weight=0.000",
                    "Return: 47.329%<br>Volatility: 0.068<br>Sharpe Ratio: 7.002<br>JNJ_Close: Weight=0.058<br>BA_Close: Weight=0.104<br>MCD_Close: Weight=0.169<br>BABA_Close: Weight=0.117<br>WMT_Close: Weight=0.150<br>NEE_Close: Weight=0.294<br>ISRG_Close: Weight=0.109<br>BTI_Close: Weight=0.000",
                    "Return: 46.359%<br>Volatility: 0.066<br>Sharpe Ratio: 7.056<br>JNJ_Close: Weight=0.042<br>BA_Close: Weight=0.109<br>MCD_Close: Weight=0.155<br>BABA_Close: Weight=0.114<br>WMT_Close: Weight=0.141<br>NEE_Close: Weight=0.286<br>ISRG_Close: Weight=0.090<br>TMO_Close: Weight=0.064",
                    "Return: 47.328%<br>Volatility: 0.068<br>Sharpe Ratio: 7.002<br>JNJ_Close: Weight=0.058<br>BA_Close: Weight=0.104<br>MCD_Close: Weight=0.169<br>BABA_Close: Weight=0.117<br>WMT_Close: Weight=0.150<br>NEE_Close: Weight=0.294<br>ISRG_Close: Weight=0.109<br>GS_Close: Weight=0.000",
                    "Return: 47.331%<br>Volatility: 0.068<br>Sharpe Ratio: 7.002<br>JNJ_Close: Weight=0.058<br>BA_Close: Weight=0.104<br>MCD_Close: Weight=0.169<br>BABA_Close: Weight=0.117<br>WMT_Close: Weight=0.150<br>NEE_Close: Weight=0.294<br>ISRG_Close: Weight=0.109<br>BAC_Close: Weight=0.000",
                    "Return: 47.329%<br>Volatility: 0.068<br>Sharpe Ratio: 7.002<br>JNJ_Close: Weight=0.058<br>BA_Close: Weight=0.104<br>MCD_Close: Weight=0.169<br>BABA_Close: Weight=0.117<br>WMT_Close: Weight=0.150<br>NEE_Close: Weight=0.294<br>ISRG_Close: Weight=0.109<br>AMGN_Close: Weight=0.000",
                    "Return: 47.001%<br>Volatility: 0.067<br>Sharpe Ratio: 7.003<br>JNJ_Close: Weight=0.053<br>BA_Close: Weight=0.101<br>MCD_Close: Weight=0.170<br>BABA_Close: Weight=0.115<br>WMT_Close: Weight=0.150<br>NEE_Close: Weight=0.290<br>ISRG_Close: Weight=0.107<br>MMM_Close: Weight=0.013",
                    "Return: 47.330%<br>Volatility: 0.068<br>Sharpe Ratio: 7.002<br>JNJ_Close: Weight=0.058<br>BA_Close: Weight=0.104<br>MCD_Close: Weight=0.169<br>BABA_Close: Weight=0.117<br>WMT_Close: Weight=0.150<br>NEE_Close: Weight=0.294<br>ISRG_Close: Weight=0.109<br>PEP_Close: Weight=0.000",
                    "Return: 47.330%<br>Volatility: 0.068<br>Sharpe Ratio: 7.002<br>JNJ_Close: Weight=0.058<br>BA_Close: Weight=0.104<br>MCD_Close: Weight=0.169<br>BABA_Close: Weight=0.117<br>WMT_Close: Weight=0.150<br>NEE_Close: Weight=0.294<br>ISRG_Close: Weight=0.109<br>EMR_Close: Weight=0.000",
                    "Return: 47.330%<br>Volatility: 0.068<br>Sharpe Ratio: 7.002<br>JNJ_Close: Weight=0.058<br>BA_Close: Weight=0.104<br>MCD_Close: Weight=0.169<br>BABA_Close: Weight=0.117<br>WMT_Close: Weight=0.150<br>NEE_Close: Weight=0.294<br>ISRG_Close: Weight=0.109<br>RTX_Close: Weight=0.000"
                  ],
                  "type": "scatter",
                  "x": [
                    0.0956161702088373,
                    0.12206794075233982,
                    0.12206794075233982,
                    0.12109705406961602,
                    0.09562389789843409,
                    0.10439001128120623,
                    0.12384964523007316,
                    0.127567213145827,
                    0.127567213145827,
                    0.13527095858583263,
                    0.127567213145827,
                    0.13527095858583263,
                    0.12384432704165009,
                    0.12530331390619676,
                    0.13055366692715506,
                    0.12105863269202535,
                    0.12691248637869856,
                    0.12687194964916368,
                    0.13081509193555696,
                    0.12133292765776912,
                    0.12132201167191248,
                    0.12691248620566287,
                    0.12460973792409939,
                    0.11737193743743346,
                    0.11430732527264909,
                    0.11783714967588674,
                    0.1213160591919426,
                    0.11236307447080673,
                    0.1117450146925305,
                    0.12766627889272347,
                    0.12766627889272347,
                    0.12597558363153272,
                    0.12053263220607771,
                    0.12108087134835985,
                    0.12364787837797395,
                    0.12766627889272347,
                    0.12597558363153272,
                    0.12053263220607771,
                    0.12108087134835985,
                    0.12364787837797395,
                    0.1229212093742894,
                    0.1147507042363089,
                    0.11391458142509493,
                    0.12053994049478171,
                    0.11377088055308515,
                    0.1170064875144976,
                    0.11967198440968389,
                    0.1162944586275298,
                    0.11268161999271033,
                    0.12054209204045285,
                    0.116177129666287,
                    0.12051612015630331,
                    0.12053648581368161,
                    0.11174501495241704,
                    0.10935952917922444,
                    0.12051603738653865,
                    0.11297961889574226,
                    0.11378355381397748,
                    0.12049675855064892,
                    0.12049653179711098,
                    0.12051188760413292,
                    0.1205064130668926,
                    0.12051748641954854,
                    0.11575269692516899,
                    0.11555631378669547,
                    0.12053139204037058,
                    0.10903355406833902,
                    0.12053274251295223,
                    0.12047598614037733,
                    0.10523734505366483,
                    0.11299391394364572,
                    0.12051746789682902,
                    0.1188025833189055,
                    0.11463816971032421,
                    0.12053385651035502,
                    0.12051472114749838,
                    0.1205327284362263,
                    0.12051920970465468,
                    0.12052205157180536,
                    0.12051080614261138,
                    0.12053258697093516,
                    0.11844345150419812,
                    0.09716131439986019,
                    0.10119604392354398,
                    0.10092428310811503,
                    0.09418940391109845,
                    0.0970656982302561,
                    0.09840122382023937,
                    0.09823483025655148,
                    0.10228968901979534,
                    0.10228968901979534,
                    0.10066739759763749,
                    0.09823637006792357,
                    0.0982354883058901,
                    0.10000569248510452,
                    0.09876414694081238,
                    0.10244906999821111,
                    0.10111088109606975,
                    0.09716204988901445,
                    0.09715291492551938,
                    0.09876414729862755,
                    0.10244906999821111,
                    0.10111088109606975,
                    0.09716204988901445,
                    0.09715291492551938,
                    0.09876414729862755,
                    0.09920777019346931,
                    0.09423040393310508,
                    0.09716038219160394,
                    0.09545052372860652,
                    0.09763982174302668,
                    0.09532152603611212,
                    0.0950248405648455,
                    0.09715971538983047,
                    0.09716131380033556,
                    0.09310821472026067,
                    0.09714953749680712,
                    0.0959697651270136,
                    0.09715455099830768,
                    0.09715022711103095,
                    0.09667993311572827,
                    0.09714807856292144,
                    0.09714527103381031,
                    0.09695162633521097,
                    0.09645145683898854,
                    0.09715331072356412,
                    0.09717776418765857,
                    0.09621504619662996,
                    0.09561402567237444,
                    0.09715861880490519,
                    0.0971472603429457,
                    0.0934211116943166,
                    0.0971505164400997,
                    0.09714517192295158,
                    0.09715345119912464,
                    0.09715687095184751,
                    0.09715627427989425,
                    0.09715608438992351,
                    0.0971393406712777,
                    0.09716114588826066,
                    0.09715087041879128,
                    0.09715827661260198,
                    0.0971547347264493,
                    0.09715828930200447,
                    0.09714520794776224,
                    0.09715237750221116,
                    0.09552178535561123,
                    0.09689031374841672,
                    0.09716027875360159,
                    0.09122632145052254,
                    0.09714804307887359,
                    0.0971470893539454,
                    0.09715290925025105,
                    0.08690117252203998,
                    0.08879510477793866,
                    0.09268195504114825,
                    0.09268195504114825,
                    0.08881154864839398,
                    0.0888000058083126,
                    0.08964537500760851,
                    0.08947730690514347,
                    0.09067699143265312,
                    0.09067699143265312,
                    0.08947696150939972,
                    0.08947846701008645,
                    0.0898144590408947,
                    0.09033111190888561,
                    0.0910208682920145,
                    0.0910208682920145,
                    0.09034408043285587,
                    0.09033098069181152,
                    0.09047878899844294,
                    0.08925198935444116,
                    0.0910208682920145,
                    0.09034408043285587,
                    0.09033098069181152,
                    0.09047878899844294,
                    0.08925198935444116,
                    0.09033141653661386,
                    0.09033443200031985,
                    0.09040605088607498,
                    0.09032751496098851,
                    0.0900483044922551,
                    0.0910208682920145,
                    0.09034408043285587,
                    0.09033098069181152,
                    0.09047878899844294,
                    0.08925198935444116,
                    0.09033141653661386,
                    0.09033443200031985,
                    0.09040605088607498,
                    0.09032751496098851,
                    0.0900483044922551,
                    0.09034118152913558,
                    0.09033309272531792,
                    0.09033786644975123,
                    0.0903294613061955,
                    0.09033793076602765,
                    0.09032776389837466,
                    0.09033881264976994,
                    0.09033530963394663,
                    0.09033814218384738,
                    0.09033251641595048,
                    0.09017289100182803,
                    0.09033796247510685,
                    0.09033855368661832,
                    0.0902502753094824,
                    0.08989079107208134,
                    0.09033776564213138,
                    0.09013818726595516,
                    0.09033300510846316,
                    0.09033770804544995,
                    0.09033469990472195,
                    0.09033956272419442,
                    0.09033886589865632,
                    0.09033819708433818,
                    0.09033671513700783,
                    0.09033805680024475,
                    0.09033504245626256,
                    0.09033364748661955,
                    0.09033461640996669,
                    0.09033833400082045,
                    0.09033320567109734,
                    0.09034545761290635,
                    0.0903305002467485,
                    0.09033660721315849,
                    0.0903407350415444,
                    0.09033094554837909,
                    0.09033837725155312,
                    0.09033891353724895,
                    0.09033857780505225,
                    0.0903521075416874,
                    0.0903381296669519,
                    0.09033481993706899,
                    0.09033655942279638,
                    0.0903405532877139,
                    0.09034025040038941,
                    0.08792511481493485,
                    0.08373254033584628,
                    0.08390384231464702,
                    0.08287551418931102,
                    0.08287335512848881,
                    0.08321509281151425,
                    0.08373254007958567,
                    0.08390384231464702,
                    0.08287551418931102,
                    0.08287335512848881,
                    0.08321509281151425,
                    0.08373254007958567,
                    0.08196888000771602,
                    0.08285195256908923,
                    0.08303352621079219,
                    0.08287108452755809,
                    0.08287021763438979,
                    0.0823513946998982,
                    0.08235104112096983,
                    0.08390384231464702,
                    0.08287551418931102,
                    0.08287335512848881,
                    0.08321509281151425,
                    0.08373254007958567,
                    0.08196888000771602,
                    0.08285195256908923,
                    0.08303352621079219,
                    0.08287108452755809,
                    0.08287021763438979,
                    0.0823513946998982,
                    0.08235104112096983,
                    0.08286596957969257,
                    0.08286907922869104,
                    0.08287272737126328,
                    0.08287206479351653,
                    0.08287249210577369,
                    0.08287527739979189,
                    0.08287445504568608,
                    0.08287505493871021,
                    0.08287237537702498,
                    0.0828724079078723,
                    0.08286850731932237,
                    0.08265701803319783,
                    0.08286930488429671,
                    0.08286232702063878,
                    0.08213392820734121,
                    0.08287646940598636,
                    0.08287226905255078,
                    0.08185911169447968,
                    0.08287273651526542,
                    0.0828705394695997,
                    0.08287047907415844,
                    0.08287440362781266,
                    0.0828745774206954,
                    0.08286555523890118,
                    0.08287166838280095,
                    0.08287094959083863,
                    0.08287002047009236,
                    0.08287747073527335,
                    0.08287257328980875,
                    0.08285852464775313,
                    0.08287287334002479,
                    0.08286889466828878,
                    0.08286900579660425,
                    0.08286381362225467,
                    0.08287445422429497,
                    0.08286140506376101,
                    0.0828762784427681,
                    0.08286737055288809,
                    0.08287115685496582,
                    0.08288237538538816,
                    0.08073922500426836,
                    0.08286031970381504,
                    0.08287154015411859,
                    0.08288134030143156,
                    0.08287106885616628,
                    0.082877346418751,
                    0.0828820361940788,
                    0.08286779698611571,
                    0.08047962973121948,
                    0.0810962700764145,
                    0.08286778925082931,
                    0.08286634521439322,
                    0.08287345368924182,
                    0.08287326242345136,
                    0.08287080250547241,
                    0.08287501875831896,
                    0.08286981911331812,
                    0.08287413624301924,
                    0.06861738266504853,
                    0.0707390241374894,
                    0.06990462463709636,
                    0.06991209161296068,
                    0.0702423458852186,
                    0.07080002502128102,
                    0.06892466786707505,
                    0.06986550356999108,
                    0.06989608347626611,
                    0.0699019860245782,
                    0.07005903879163454,
                    0.06990985039951733,
                    0.06902254468922439,
                    0.06990795949719825,
                    0.06989708011223435,
                    0.06990514429744936,
                    0.06989780141604436,
                    0.06990793540988938,
                    0.06990474928408591,
                    0.0699030065219708,
                    0.06788997021973059,
                    0.0707390241374894,
                    0.06990462463709636,
                    0.06991209161296068,
                    0.0702423458852186,
                    0.07080002502128102,
                    0.06892466786707505,
                    0.06986550356999108,
                    0.06989608347626611,
                    0.0699019860245782,
                    0.07005903879163454,
                    0.06990985039951733,
                    0.06902254468922439,
                    0.06990795949719825,
                    0.06989708011223435,
                    0.06990514429744936,
                    0.06989780141604436,
                    0.06990793540988938,
                    0.06990474928408591,
                    0.0699030065219708,
                    0.06788997021973059,
                    0.06986176137132476,
                    0.06990223672516287,
                    0.06989418565508956,
                    0.06990333351151498,
                    0.06989445502066294,
                    0.06990081089143423,
                    0.06949648167809967,
                    0.06990721558264525,
                    0.0699116393422117,
                    0.06990160791018667,
                    0.0699093050553135,
                    0.06990277807693532,
                    0.06990253906663797,
                    0.06989695623265621,
                    0.06990404130486055,
                    0.06876895901432112,
                    0.06990526046620074,
                    0.06990442778422826,
                    0.06990663384674828,
                    0.06990232698496256,
                    0.06990233516070096,
                    0.06989997881647501,
                    0.06827191748911082,
                    0.06861738246208614,
                    0.06990467097066833,
                    0.06927595964280234,
                    0.06990766759496903,
                    0.06990399110213648,
                    0.06990182875021232,
                    0.06991999914367848,
                    0.06991674313751779,
                    0.06990551498905984,
                    0.06989349185329906,
                    0.06990323693103966,
                    0.06989814266493881,
                    0.06989965566954931,
                    0.06990645961117135,
                    0.06990359406868075,
                    0.06990586756129832,
                    0.06990254054041542,
                    0.06990064854317271,
                    0.06990841803078396,
                    0.06989948758513337,
                    0.06990065113977366,
                    0.0679230494715116,
                    0.06991146495144877,
                    0.06990097195084223,
                    0.06935478216391608,
                    0.06989531486317128,
                    0.0699024430565567,
                    0.06800874074270484,
                    0.06990173485554803,
                    0.0699023074604931,
                    0.06990453652600646,
                    0.06990014535374778,
                    0.06990285260694608,
                    0.06989339856806374,
                    0.06774056529647078,
                    0.06364761038512215,
                    0.07159088310844701,
                    0.07086621126565743,
                    0.07087251481683977,
                    0.07115062479029562,
                    0.07159992804002156,
                    0.07015403732929179,
                    0.07075253649632296,
                    0.07086858011771446,
                    0.07091285760813519,
                    0.0708594967117855,
                    0.07086071772104557,
                    0.07086547218312558,
                    0.07085935116183942,
                    0.07086945003447805,
                    0.0708700537264533,
                    0.06939831025997435,
                    0.0678182949753464,
                    0.06939831031543268,
                    0.0678182949753464,
                    0.06939831031543268,
                    0.06760106256250814,
                    0.06760228537389637,
                    0.06817332724845308,
                    0.06819345130012892,
                    0.06726127108598676,
                    0.06759830463380183,
                    0.06759880331349813,
                    0.06759997993814892,
                    0.06760017601291962,
                    0.06759813174358438,
                    0.06759845307325904,
                    0.06759899836654233,
                    0.06759999082985542,
                    0.06760143837737222,
                    0.06759510005110857,
                    0.06760057035767755,
                    0.06759273606007683,
                    0.0676013991427847,
                    0.06760047414971039,
                    0.06759469743987544,
                    0.06759809409361872,
                    0.06759720458129018,
                    0.06678379727634817,
                    0.06759726896563889,
                    0.0675940898585078,
                    0.06760135890486776,
                    0.06704854198538775,
                    0.06613623194474393,
                    0.06759884486453947,
                    0.06759853530755593,
                    0.067599017251722,
                    0.06760146278737209,
                    0.066583612679897,
                    0.06759646746891904,
                    0.06760626271994186,
                    0.0673842036283285,
                    0.06733350137561628,
                    0.06760200417520906,
                    0.06760399751939856,
                    0.06759865445948246,
                    0.06759820519123978,
                    0.06760210906211714,
                    0.06759819182572945,
                    0.06760130177185564,
                    0.06760074163482929,
                    0.0675999150597059,
                    0.06759784355232606,
                    0.06570188635052969,
                    0.06759611543493725,
                    0.06760140462642739,
                    0.06759838202764151,
                    0.06711636776029041,
                    0.06759916838828833,
                    0.06759949374415158,
                    0.06759916476549355
                  ],
                  "y": [
                    0.2922007261367492,
                    0.4544485901377101,
                    0.4544485901377101,
                    0.44144984448371877,
                    0.29222432670807075,
                    0.32585500253680205,
                    0.529674578337979,
                    0.5589914581847513,
                    0.5589914581847513,
                    0.6330457000779297,
                    0.5589914581847513,
                    0.6330457000779297,
                    0.5296518383853044,
                    0.5366688272600492,
                    0.5859289852318206,
                    0.5235093767391165,
                    0.6111684855515681,
                    0.5583323738705661,
                    0.6244314521154719,
                    0.5111138899760087,
                    0.5110679223441981,
                    0.6111684847163155,
                    0.5535519421335698,
                    0.5136046349062566,
                    0.498646206861053,
                    0.4977395165519701,
                    0.5110428500472235,
                    0.5004321840762295,
                    0.5439238923633773,
                    0.6447535428188369,
                    0.6447535428188369,
                    0.6183836191174511,
                    0.5589927224135951,
                    0.5617283502442477,
                    0.6303323559195027,
                    0.6447535428188369,
                    0.6183836191174511,
                    0.5589927224135951,
                    0.5617283502442477,
                    0.6303323559195027,
                    0.5887350176341348,
                    0.5512380068190175,
                    0.5399370359237639,
                    0.5590266707541728,
                    0.5421535098643028,
                    0.5437512878116633,
                    0.5698521363112996,
                    0.5408721083318725,
                    0.5391479060060806,
                    0.5590366380115114,
                    0.540618845147369,
                    0.5589162182018621,
                    0.5590106542456844,
                    0.5439238936285249,
                    0.5127242286458434,
                    0.5589158343194376,
                    0.5338032194975395,
                    0.5786359566698241,
                    0.5588264127294137,
                    0.558825360366425,
                    0.5588965883535468,
                    0.5588711957286974,
                    0.5589225543357998,
                    0.538857728415902,
                    0.5364878129934162,
                    0.5589870099550279,
                    0.5299061105084704,
                    0.55899329852703,
                    0.5587300294865603,
                    0.5143319046514205,
                    0.5261299016744423,
                    0.5589224676206432,
                    0.5511999992588059,
                    0.5336137911535295,
                    0.5589984533990204,
                    0.5589097299964176,
                    0.5589932335908588,
                    0.5589305440494999,
                    0.5589437250127303,
                    0.5588915726358598,
                    0.558992571441421,
                    0.5498525848479858,
                    0.5087852492622694,
                    0.514057756983896,
                    0.5193503825852608,
                    0.4403472123001746,
                    0.4578813479799092,
                    0.4810099766148907,
                    0.5385292917058403,
                    0.5839440696592461,
                    0.5839440696592461,
                    0.5604716608423871,
                    0.5385377255497958,
                    0.5385329035906424,
                    0.5548976636163424,
                    0.5643000103437951,
                    0.5702911785288759,
                    0.5497521266776517,
                    0.508789112613252,
                    0.5087412861118843,
                    0.5643000123883128,
                    0.5702911785288759,
                    0.5497521266776517,
                    0.508789112613252,
                    0.5087412861118843,
                    0.5643000123883128,
                    0.5274141109159228,
                    0.5064786375292925,
                    0.5087803859642042,
                    0.5030557480626744,
                    0.5168955744600656,
                    0.5039280932139988,
                    0.5029743660241615,
                    0.5087768808483439,
                    0.5087852461237669,
                    0.5034596646289621,
                    0.5087235984516316,
                    0.5036340242601458,
                    0.5087498523291993,
                    0.508727209636424,
                    0.5063158476974958,
                    0.5087159582291838,
                    0.5087012509589428,
                    0.5303143760224918,
                    0.5051293037344082,
                    0.5087433556300254,
                    0.5088713639307447,
                    0.504050945901146,
                    0.5024031500227089,
                    0.5087711475291296,
                    0.5087116729469349,
                    0.49876742608039976,
                    0.5087287226545025,
                    0.5087007339238531,
                    0.5087440940728654,
                    0.5087620005533273,
                    0.5087588772461433,
                    0.5087578829377806,
                    0.5086701856745354,
                    0.5087843722640709,
                    0.5087305787734738,
                    0.508769361617164,
                    0.5087508151472453,
                    0.5087694266797363,
                    0.5087009228112441,
                    0.5087384719256836,
                    0.5005631645754478,
                    0.5073884415772472,
                    0.5087798287185722,
                    0.4795795522492721,
                    0.5087157720709836,
                    0.508710776546793,
                    0.5087412563701937,
                    0.5047068295086028,
                    0.524017982886724,
                    0.5678311084251715,
                    0.5678311084251715,
                    0.5241150059885933,
                    0.5240469059894639,
                    0.5344338816939673,
                    0.577420761545844,
                    0.5871801972493355,
                    0.5871801972493355,
                    0.5774185227039268,
                    0.5774282454710666,
                    0.5807669370470334,
                    0.5907457514148096,
                    0.5959866124075812,
                    0.5959866124075812,
                    0.5908305565237479,
                    0.5907449049321176,
                    0.5920114841984161,
                    0.5854353691998982,
                    0.5959866124075812,
                    0.5908305565237479,
                    0.5907449049321176,
                    0.5920114841984161,
                    0.5854353691998982,
                    0.5907477226411257,
                    0.5907674756142062,
                    0.5914835668145919,
                    0.5907222233932263,
                    0.5936061331641663,
                    0.5959866124075812,
                    0.5908305565237479,
                    0.5907449049321176,
                    0.5920114841984161,
                    0.5854353691998982,
                    0.5907477226411257,
                    0.5907674756142062,
                    0.5914835668145919,
                    0.5907222233932263,
                    0.5936061331641663,
                    0.5908116182202723,
                    0.5907587019113373,
                    0.5907899469487465,
                    0.5907349605275254,
                    0.5907903654639919,
                    0.5907238569096832,
                    0.5907961341149464,
                    0.5907732192385408,
                    0.5907917493848239,
                    0.5907549208718221,
                    0.5897723178924318,
                    0.5907905749133203,
                    0.5907944369642182,
                    0.5902307822230735,
                    0.5880590484607584,
                    0.590789286187647,
                    0.589537718886353,
                    0.5907581330509017,
                    0.590788910788494,
                    0.5907692330474474,
                    0.5908010325192916,
                    0.5907964658866277,
                    0.590792106864446,
                    0.5907824169663514,
                    0.5907911912104654,
                    0.5907714750746432,
                    0.5907623514016912,
                    0.5907686892891639,
                    0.5907930034541008,
                    0.5907594591829357,
                    0.5908395850995228,
                    0.59074174548774,
                    0.5907816884629099,
                    0.5908087036821689,
                    0.590744671835956,
                    0.5907932868668954,
                    0.5907967944176686,
                    0.590794597128794,
                    0.5908830571630638,
                    0.5907916682717732,
                    0.5907700099094793,
                    0.5907813957446743,
                    0.5908074960813133,
                    0.590805536550896,
                    0.5779323307857682,
                    0.557028843794962,
                    0.5530377306518356,
                    0.5445668948736385,
                    0.5445527153813282,
                    0.5471630844553783,
                    0.5570288420902829,
                    0.5530377306518356,
                    0.5445668948736385,
                    0.5445527153813282,
                    0.5471630844553783,
                    0.5570288420902829,
                    0.5403033964473298,
                    0.5444131398308893,
                    0.5462356708408234,
                    0.5445377856781144,
                    0.5445320897290812,
                    0.5414552270805743,
                    0.5485237603644405,
                    0.5530377306518356,
                    0.5445668948736385,
                    0.5445527153813282,
                    0.5471630844553783,
                    0.5570288420902829,
                    0.5403033964473298,
                    0.5444131398308893,
                    0.5462356708408234,
                    0.5445377856781144,
                    0.5445320897290812,
                    0.5414552270805743,
                    0.5485237603644405,
                    0.5445041698655362,
                    0.5445246131745274,
                    0.5445485904346876,
                    0.5445442356565479,
                    0.5445470445472896,
                    0.5445653454155263,
                    0.5445599179805198,
                    0.5445638520501775,
                    0.5445462549661754,
                    0.5445464910957867,
                    0.5445208500243753,
                    0.5432433143288555,
                    0.5445260989969372,
                    0.5444802261930715,
                    0.5405477981696688,
                    0.544573148285379,
                    0.5445455772148573,
                    0.5393143560722021,
                    0.544548650407587,
                    0.5445342088134972,
                    0.5445337999567689,
                    0.5445595926444802,
                    0.5445607444601874,
                    0.5445014557003715,
                    0.5445416316091649,
                    0.5445369077869847,
                    0.5445307986813626,
                    0.544579750417626,
                    0.5445475778612587,
                    0.5444552432586965,
                    0.5445495494566323,
                    0.5445234033177867,
                    0.5445241349750345,
                    0.5444899933967109,
                    0.5445599366009256,
                    0.5444741799214262,
                    0.5445719188209984,
                    0.5445133838983092,
                    0.5445382674898662,
                    0.5446119693422911,
                    0.5338881329061885,
                    0.5444670383485862,
                    0.5445407880048928,
                    0.5446051766022223,
                    0.5445376892111711,
                    0.5445789208721755,
                    0.5446097396125869,
                    0.5445161823171822,
                    0.5295138071957567,
                    0.533436846650843,
                    0.5445161369864433,
                    0.5445066169701042,
                    0.5445533622484781,
                    0.5445520787518715,
                    0.5445359398909978,
                    0.5445636430544168,
                    0.5445294734706922,
                    0.5445578477814822,
                    0.4700951711574192,
                    0.4757868952902075,
                    0.46794157400307673,
                    0.4679915460759631,
                    0.47064531091073375,
                    0.47910507057084767,
                    0.46362732263938916,
                    0.46768934058909545,
                    0.4678843875867629,
                    0.4679239058083767,
                    0.4700750949600674,
                    0.4679765415308861,
                    0.463327599132924,
                    0.46796389183728515,
                    0.4678910678286916,
                    0.4679450467764881,
                    0.4678958971852763,
                    0.46796371292880307,
                    0.4679423915455729,
                    0.4679307366041627,
                    0.46847499619790534,
                    0.4757868952902075,
                    0.46794157400307673,
                    0.4679915460759631,
                    0.47064531091073375,
                    0.47910507057084767,
                    0.46362732263938916,
                    0.46768934058909545,
                    0.4678843875867629,
                    0.4679239058083767,
                    0.4700750949600674,
                    0.4679765415308861,
                    0.463327599132924,
                    0.46796389183728515,
                    0.4678910678286916,
                    0.4679450467764881,
                    0.4678958971852763,
                    0.46796371292880307,
                    0.4679423915455729,
                    0.4679307366041627,
                    0.46847499619790534,
                    0.46766333648828984,
                    0.4679255889119999,
                    0.467871689431267,
                    0.4679329311857293,
                    0.4678734793140842,
                    0.467916044682075,
                    0.4661731999721176,
                    0.4679588998204949,
                    0.46798850511312207,
                    0.4679213820566762,
                    0.4679728996199953,
                    0.46792921342654586,
                    0.4679276047555604,
                    0.4678902414360253,
                    0.46793766365713246,
                    0.4635184308993956,
                    0.4679458188010732,
                    0.4679402500820532,
                    0.4679550133971443,
                    0.4679261951548914,
                    0.46792624832406615,
                    0.46791047648006734,
                    0.4609801025398393,
                    0.47009516976717824,
                    0.4679418606751207,
                    0.4638629608801213,
                    0.4679619370558268,
                    0.46793730846330756,
                    0.46792286022312196,
                    0.4680444611922617,
                    0.4680226629105266,
                    0.4679475109175789,
                    0.4678670395970038,
                    0.4679322600185051,
                    0.467898182814265,
                    0.46790830470397515,
                    0.4679538510768833,
                    0.4679346739352455,
                    0.46794989388931246,
                    0.46792762442113855,
                    0.4679149561795581,
                    0.46796695822764844,
                    0.4679071869845628,
                    0.46791496917791014,
                    0.4602362229451762,
                    0.4679873007865,
                    0.4679171247129256,
                    0.4650290559134533,
                    0.46787924543248505,
                    0.4679269694569022,
                    0.45637964408103016,
                    0.4679222280192321,
                    0.46792605551908123,
                    0.4679409651654201,
                    0.46791159102083135,
                    0.4679297131132435,
                    0.4678664106072037,
                    0.4558726471920305,
                    0.4528684015915725,
                    0.49909043288395155,
                    0.49291256396469657,
                    0.49295638141213993,
                    0.4969865742434407,
                    0.503033688497282,
                    0.48963071172304923,
                    0.4921658576080151,
                    0.4929290291384275,
                    0.4948290311971192,
                    0.49286584907067166,
                    0.4928743519218648,
                    0.4929074156942682,
                    0.492864847844413,
                    0.4929350770389671,
                    0.49293928338566406,
                    0.49570467199179086,
                    0.47493502737951954,
                    0.4957046723879353,
                    0.47493502737951954,
                    0.4957046723879353,
                    0.4733098852361074,
                    0.47331845560798586,
                    0.47967539654145996,
                    0.4792338704190822,
                    0.4715845948641471,
                    0.473290598847109,
                    0.4732940906507136,
                    0.47330232819209406,
                    0.4733036850697397,
                    0.47328938865586134,
                    0.47329163843128413,
                    0.473295454801689,
                    0.47330239802690066,
                    0.47331253615452706,
                    0.47326813910115334,
                    0.4733064596464986,
                    0.4732515858925744,
                    0.4733122609210709,
                    0.47330578747063146,
                    0.4732653375156713,
                    0.4732891250580423,
                    0.47328289533394957,
                    0.46874182500285105,
                    0.47328334770857383,
                    0.47326106468304974,
                    0.4733119801799867,
                    0.4728420033266103,
                    0.46676313940362474,
                    0.47329438134339313,
                    0.4732922142551512,
                    0.47329557319353055,
                    0.47331270502127265,
                    0.4701637992466392,
                    0.47327773043224447,
                    0.47334628853836597,
                    0.471841647462118,
                    0.47145708200157493,
                    0.47331649374692786,
                    0.4733304517499046,
                    0.4732930484969161,
                    0.47328990286017814,
                    0.4733172282212629,
                    0.4732898069975551,
                    0.47331156769821153,
                    0.4733076585968734,
                    0.47330187259389395,
                    0.4732873695176413,
                    0.46358765522140727,
                    0.4732752574288726,
                    0.4733122995225879,
                    0.47329114110765036,
                    0.47001052397776677,
                    0.4732966458672506,
                    0.4732989199302334,
                    0.47329662008685647
                  ]
                },
                {
                  "hoverinfo": "text",
                  "hovertext": [
                    "XOM_Close <br>Volatility: 0.120 <br>Returns: -7.396% <br>Sharpe Ratio: -0.615",
                    "ETN_Close <br>Volatility: 0.141 <br>Returns: 21.693% <br>Sharpe Ratio: 1.541",
                    "TXN_Close <br>Volatility: 0.179 <br>Returns: 13.001% <br>Sharpe Ratio: 0.725",
                    "DUK_Close <br>Volatility: 0.089 <br>Returns: 10.492% <br>Sharpe Ratio: 1.180",
                    "LLY_Close <br>Volatility: 0.158 <br>Returns: 0.828% <br>Sharpe Ratio: 0.052",
                    "BA_Close <br>Volatility: 0.198 <br>Returns: 70.035% <br>Sharpe Ratio: 3.543",
                    "AMGN_Close <br>Volatility: 0.183 <br>Returns: -3.148% <br>Sharpe Ratio: -0.172",
                    "TMO_Close <br>Volatility: 0.142 <br>Returns: 24.099% <br>Sharpe Ratio: 1.701",
                    "UNH_Close <br>Volatility: 0.118 <br>Returns: 35.013% <br>Sharpe Ratio: 2.965",
                    "ACN_Close <br>Volatility: 0.147 <br>Returns: 11.058% <br>Sharpe Ratio: 0.754",
                    "ISRG_Close <br>Volatility: 0.180 <br>Returns: 56.678% <br>Sharpe Ratio: 3.157",
                    "BIIB_Close <br>Volatility: 0.229 <br>Returns: -3.324% <br>Sharpe Ratio: -0.145",
                    "AEP_Close <br>Volatility: 0.101 <br>Returns: 16.390% <br>Sharpe Ratio: 1.620",
                    "EMR_Close <br>Volatility: 0.165 <br>Returns: -0.844% <br>Sharpe Ratio: -0.051",
                    "CVX_Close <br>Volatility: 0.149 <br>Returns: -6.629% <br>Sharpe Ratio: -0.444",
                    "F_Close <br>Volatility: 0.186 <br>Returns: -22.923% <br>Sharpe Ratio: -1.229",
                    "GE_Close <br>Volatility: 0.166 <br>Returns: -37.831% <br>Sharpe Ratio: -2.284",
                    "AMZN_Close <br>Volatility: 0.171 <br>Returns: 36.711% <br>Sharpe Ratio: 2.142",
                    "AAPL_Close <br>Volatility: 0.162 <br>Returns: 17.462% <br>Sharpe Ratio: 1.081",
                    "V_Close <br>Volatility: 0.110 <br>Returns: 28.881% <br>Sharpe Ratio: 2.616",
                    "ABBV_Close <br>Volatility: 0.124 <br>Returns: 28.825% <br>Sharpe Ratio: 2.316",
                    "MA_Close <br>Volatility: 0.124 <br>Returns: 34.348% <br>Sharpe Ratio: 2.760",
                    "GM_Close <br>Volatility: 0.170 <br>Returns: -6.545% <br>Sharpe Ratio: -0.385",
                    "MO_Close <br>Volatility: 0.200 <br>Returns: -33.192% <br>Sharpe Ratio: -1.659",
                    "UA_Close <br>Volatility: 0.335 <br>Returns: -11.114% <br>Sharpe Ratio: -0.332",
                    "JNJ_Close <br>Volatility: 0.111 <br>Returns: 18.793% <br>Sharpe Ratio: 1.693",
                    "CPB_Close <br>Volatility: 0.149 <br>Returns: -26.972% <br>Sharpe Ratio: -1.805",
                    "DHR_Close <br>Volatility: 0.126 <br>Returns: -13.997% <br>Sharpe Ratio: -1.114",
                    "HON_Close <br>Volatility: 0.099 <br>Returns: 19.309% <br>Sharpe Ratio: 1.960",
                    "NEE_Close <br>Volatility: 0.105 <br>Returns: 28.234% <br>Sharpe Ratio: 2.689",
                    "GILD_Close <br>Volatility: 0.153 <br>Returns: 22.185% <br>Sharpe Ratio: 1.451",
                    "DIS_Close <br>Volatility: 0.123 <br>Returns: 0.345% <br>Sharpe Ratio: 0.028",
                    "AMD_Close <br>Volatility: 0.694 <br>Returns: -5.109% <br>Sharpe Ratio: -0.074",
                    "KO_Close <br>Volatility: 0.076 <br>Returns: 22.618% <br>Sharpe Ratio: 2.987",
                    "K_Close <br>Volatility: 0.135 <br>Returns: -22.065% <br>Sharpe Ratio: -1.636",
                    "MDT_Close <br>Volatility: 0.114 <br>Returns: 8.328% <br>Sharpe Ratio: 0.730",
                    "ZBH_Close <br>Volatility: 0.176 <br>Returns: 7.620% <br>Sharpe Ratio: 0.433",
                    "HD_Close <br>Volatility: 0.134 <br>Returns: 5.554% <br>Sharpe Ratio: 0.413",
                    "SNAP_Close <br>Volatility: 0.669 <br>Returns: -141.181% <br>Sharpe Ratio: -2.112",
                    "NKE_Close <br>Volatility: 0.259 <br>Returns: 6.009% <br>Sharpe Ratio: 0.232",
                    "SAP_Close <br>Volatility: 0.147 <br>Returns: 30.725% <br>Sharpe Ratio: 2.084",
                    "BSX_Close <br>Volatility: 0.134 <br>Returns: 15.214% <br>Sharpe Ratio: 1.138",
                    "ABT_Close <br>Volatility: 0.133 <br>Returns: 20.651% <br>Sharpe Ratio: 1.556",
                    "DE_Close <br>Volatility: 0.179 <br>Returns: 40.807% <br>Sharpe Ratio: 2.279",
                    "T_Close <br>Volatility: 0.145 <br>Returns: -10.384% <br>Sharpe Ratio: -0.718",
                    "NVDA_Close <br>Volatility: 0.443 <br>Returns: 120.347% <br>Sharpe Ratio: 2.715",
                    "WFC_Close <br>Volatility: 0.176 <br>Returns: -18.838% <br>Sharpe Ratio: -1.068",
                    "MS_Close <br>Volatility: 0.219 <br>Returns: 5.606% <br>Sharpe Ratio: 0.256",
                    "ORCL_Close <br>Volatility: 0.187 <br>Returns: 38.781% <br>Sharpe Ratio: 2.072",
                    "SYK_Close <br>Volatility: 0.116 <br>Returns: 29.992% <br>Sharpe Ratio: 2.595",
                    "CAT_Close <br>Volatility: 0.233 <br>Returns: 49.457% <br>Sharpe Ratio: 2.120",
                    "GIS_Close <br>Volatility: 0.124 <br>Returns: -17.660% <br>Sharpe Ratio: -1.423",
                    "BABA_Close <br>Volatility: 0.270 <br>Returns: 98.505% <br>Sharpe Ratio: 3.643",
                    "PFE_Close <br>Volatility: 0.098 <br>Returns: -7.335% <br>Sharpe Ratio: -0.752",
                    "META_Close <br>Volatility: 0.158 <br>Returns: 51.648% <br>Sharpe Ratio: 3.262",
                    "GOOG_Close <br>Volatility: 0.169 <br>Returns: 27.511% <br>Sharpe Ratio: 1.624",
                    "COST_Close <br>Volatility: 0.194 <br>Returns: -17.769% <br>Sharpe Ratio: -0.916",
                    "CSCO_Close <br>Volatility: 0.159 <br>Returns: -17.299% <br>Sharpe Ratio: -1.085",
                    "CMCSA_Close <br>Volatility: 0.154 <br>Returns: 20.680% <br>Sharpe Ratio: 1.342",
                    "TSLA_Close <br>Volatility: 0.381 <br>Returns: 61.965% <br>Sharpe Ratio: 1.627",
                    "SYY_Close <br>Volatility: 0.155 <br>Returns: 2.406% <br>Sharpe Ratio: 0.155",
                    "BAC_Close <br>Volatility: 0.223 <br>Returns: -10.108% <br>Sharpe Ratio: -0.453",
                    "KR_Close <br>Volatility: 0.405 <br>Returns: -53.258% <br>Sharpe Ratio: -1.315",
                    "GOOGL_Close <br>Volatility: 0.165 <br>Returns: 25.843% <br>Sharpe Ratio: 1.563",
                    "VZ_Close <br>Volatility: 0.175 <br>Returns: -1.752% <br>Sharpe Ratio: -0.100",
                    "WMT_Close <br>Volatility: 0.148 <br>Returns: 33.100% <br>Sharpe Ratio: 2.240",
                    "RDY_Close <br>Volatility: 0.278 <br>Returns: -37.763% <br>Sharpe Ratio: -1.360",
                    "MRK_Close <br>Volatility: 0.119 <br>Returns: -4.687% <br>Sharpe Ratio: -0.393",
                    "GS_Close <br>Volatility: 0.209 <br>Returns: -25.385% <br>Sharpe Ratio: -1.217",
                    "INTC_Close <br>Volatility: 0.144 <br>Returns: -1.191% <br>Sharpe Ratio: -0.083",
                    "PG_Close <br>Volatility: 0.087 <br>Returns: 3.502% <br>Sharpe Ratio: 0.403",
                    "NFLX_Close <br>Volatility: 0.320 <br>Returns: 63.935% <br>Sharpe Ratio: 1.998",
                    "REGN_Close <br>Volatility: 0.300 <br>Returns: 65.057% <br>Sharpe Ratio: 2.166",
                    "CRM_Close <br>Volatility: 0.148 <br>Returns: 22.729% <br>Sharpe Ratio: 1.539",
                    "IBM_Close <br>Volatility: 0.141 <br>Returns: -51.301% <br>Sharpe Ratio: -3.645",
                    "QCOM_Close <br>Volatility: 0.182 <br>Returns: -11.695% <br>Sharpe Ratio: -0.644",
                    "MSFT_Close <br>Volatility: 0.137 <br>Returns: 32.231% <br>Sharpe Ratio: 2.358",
                    "JPM_Close <br>Volatility: 0.162 <br>Returns: 1.822% <br>Sharpe Ratio: 0.113",
                    "ADBE_Close <br>Volatility: 0.155 <br>Returns: 48.534% <br>Sharpe Ratio: 3.139",
                    "PYPL_Close <br>Volatility: 0.210 <br>Returns: 76.095% <br>Sharpe Ratio: 3.626",
                    "EW_Close <br>Volatility: 0.230 <br>Returns: 50.893% <br>Sharpe Ratio: 2.211",
                    "PEP_Close <br>Volatility: 0.087 <br>Returns: 15.556% <br>Sharpe Ratio: 1.780",
                    "RMD_Close <br>Volatility: 0.177 <br>Returns: 16.205% <br>Sharpe Ratio: 0.918",
                    "MMM_Close <br>Volatility: 0.118 <br>Returns: 15.425% <br>Sharpe Ratio: 1.305",
                    "PM_Close <br>Volatility: 0.135 <br>Returns: 19.082% <br>Sharpe Ratio: 1.414",
                    "BTI_Close <br>Volatility: 0.204 <br>Returns: 0.821% <br>Sharpe Ratio: 0.040",
                    "RTX_Close <br>Volatility: 0.093 <br>Returns: 13.645% <br>Sharpe Ratio: 1.464",
                    "EXC_Close <br>Volatility: 0.136 <br>Returns: 14.814% <br>Sharpe Ratio: 1.090",
                    "LMT_Close <br>Volatility: 0.107 <br>Returns: 23.365% <br>Sharpe Ratio: 2.193",
                    "SO_Close <br>Volatility: 0.102 <br>Returns: -8.956% <br>Sharpe Ratio: -0.877",
                    "VRTX_Close <br>Volatility: 0.486 <br>Returns: 126.996% <br>Sharpe Ratio: 2.611",
                    "SRE_Close <br>Volatility: 0.107 <br>Returns: 10.690% <br>Sharpe Ratio: 0.998",
                    "BMY_Close <br>Volatility: 0.182 <br>Returns: 3.607% <br>Sharpe Ratio: 0.198",
                    "MCD_Close <br>Volatility: 0.145 <br>Returns: 47.674% <br>Sharpe Ratio: 3.297"
                  ],
                  "marker": {
                    "color": "brown",
                    "line": {
                      "width": 1
                    },
                    "size": 5,
                    "symbol": "triangle-up"
                  },
                  "mode": "markers",
                  "name": "Individual Assets",
                  "type": "scatter",
                  "x": {
                    "bdata": "mDkv+4/Jvj8IiZyBqQPCP2xwxd4998Y/DbNZ9vHCtj/qkJJGaUfEP86BEP+sTck/I9OT3nR5xz9SRv9SDCLCP97i41W9O74/ZcmG01DIwj/OyV82FfvGPxTqzjHnUc0/CjCjysvkuT99lMRbAS7FP4pQrQCvF8M/B2P0YSrexz+1fEZ/kTTFP6T+o68A8cU/P/rPtoSuxD8T80NNB0S8Pxlbpwzj278/XiuUFGXbvz/YQwHpY8PFP5J88+w8m8k/hnRLhh1t1T/PIpSmhmq8P3xcl8w8IcM/cBWazs8TwD/b3dMO5je5Py3ITvav4bo/3gMpbGORwz/4ylUuF5O/P9bfU7e5OOY/OqoZPwBjsz9jIqLuGkLBP4p8BH4TOL0/NCCPZ1CHxj/1Ug5wejPBP9apQSYJZeU/e5/gy0GT0D+2dN9Fad/CP3jtNIRlG8E//6gL/nP7wD9YkWzgderGP96bVY10hsI/+zX60z9d3D8GUVg8q5HGP5TZVJaKA8w/JaYwDC31xz/40p+YtJW9P9vmpxZJ3c0/sfD1uFnDvz9cy52bvE7RPwg9X0sx9rg/4zlkqKlDxD8qPuXg5K/FPzcbMVnG1sg/w3o3DNZoxD8F6n4g7bfDP/nHRF9BXtg/HLrJRYbcwz/mEjsxY5HMP2Frjg6Y69k/X8yZkcEpxT+MIfJChljGPyPqY7/i6cI/v+2BHMXF0T9rQDl4jIC+P7E+evqmtMo/68usAFJ6wj+zDhLPqju2P0IZeKKredQ/s2qOdjU50z/a73Wki+jCP6NFsyO0A8I/0geLTE0/xz/j6vHrpH/BP1ZqGR6jrMQ/rVoNY+XKwz9idgAO79zKP/tjythUd80/XzhlTQJetj9jgHK6X5rGP/63wNmiP74/HRNlWVZHwT8YLd1QAy3KPz8b++Az3bc/A/5ehaBlwT/LesAd3Ue7P8Kqca8pKLo/bStePJog3z8ZL+T9Jmy7P759PPhnRMc/OdEa9ueCwj8=",
                    "dtype": "f8"
                  },
                  "y": {
                    "bdata": "GHcHyQLvsr+xk1bWZsTLPzi3NAQ9pMA/W9yoFkTcuj8k3RsrcvSAP0zbV0I8aeY/RiSm8wIeoL+URZoTyNjOP8J+yAqNaNY/ee7otSpPvD+OkID0EyPiPyOLtEPWBKG/89X80476xD8tFVOr/EqBv2puZHVz+LC/jc9ROVRXzb/3lIanNjbYv36dCGHGftc/D5bL8/FZxj/80VOc3nvSP0bilN+8ctI/XOHTKKj71T/Q4PlrDMGwv+moUZ8pPtW/nnE/VqVzvL+GQUbfDA7IPySwf+gPQ9G/SMcILWDqwb+CSL18TLfIP4F5p8fhEdI/HeOq3ZxlzD8Qq5019kxsP5MMX7Y7KKq/U4zQ5FTzzD9aoH3/LT7Mv+W0CQD4UbU/I9Wj1t+Bsz9mAx1eVm+sP5PoYLfIlva/UwmWIPDDrj+cxxS6EKrTPy3WMC9AecM/b98zwMRuyj8avCDEzx3aP7ZQauRtlbq/BK9e3m5B8z8u3t18+xzIv62owrbOs6w/3nNhdtXR2D+R2QTX4jHTPxQMgfX5pt8/t2y5i7Saxr9vmvoDkYXvP/a4T+EXx7K/lcV4bvuG4D8Zm1M8aJvRPw4fWVSevsa/dNFxtKMkxr/pdnOOU3jKPw5KlYQl1OM/I0rHCiqjmD8jppUBE+C5vxVouB/cCuG/sm+cYiKK0D+Orcj6AvKRvzVpV5whL9U/RjeusgQr2L81TJdHb/+nvypBqUIfP9C/hSIPNJNliL8eF0ikGO6hP2//o2GGdeQ/G7v+C3nR5D9yyTaA2xfNP7I+BPWdauC/0X9QacHwvb/nxncdw6DUPw4DSGdFp5I/Ng3YVdAP3z+jG6BaulnoP+k9hfofSeA/lOssEGzpwz9u5c2cAr7EPz1XtNiWvsM/Xi/CWaFsyD/2awRV1NCAP7nuVOdLd8E/ShgXmmH2wj+U2T+cGOjNP4VAw3+o7ba/A2l8u71R9D9wRnx53F27P1XUxLlkeKI/YptVgPeC3j8=",
                    "dtype": "f8"
                  }
                }
              ],
              "layout": {
                "legend": {
                  "y": 5
                },
                "template": {
                  "data": {
                    "bar": [
                      {
                        "error_x": {
                          "color": "#2a3f5f"
                        },
                        "error_y": {
                          "color": "#2a3f5f"
                        },
                        "marker": {
                          "line": {
                            "color": "#E5ECF6",
                            "width": 0.5
                          },
                          "pattern": {
                            "fillmode": "overlay",
                            "size": 10,
                            "solidity": 0.2
                          }
                        },
                        "type": "bar"
                      }
                    ],
                    "barpolar": [
                      {
                        "marker": {
                          "line": {
                            "color": "#E5ECF6",
                            "width": 0.5
                          },
                          "pattern": {
                            "fillmode": "overlay",
                            "size": 10,
                            "solidity": 0.2
                          }
                        },
                        "type": "barpolar"
                      }
                    ],
                    "carpet": [
                      {
                        "aaxis": {
                          "endlinecolor": "#2a3f5f",
                          "gridcolor": "white",
                          "linecolor": "white",
                          "minorgridcolor": "white",
                          "startlinecolor": "#2a3f5f"
                        },
                        "baxis": {
                          "endlinecolor": "#2a3f5f",
                          "gridcolor": "white",
                          "linecolor": "white",
                          "minorgridcolor": "white",
                          "startlinecolor": "#2a3f5f"
                        },
                        "type": "carpet"
                      }
                    ],
                    "choropleth": [
                      {
                        "colorbar": {
                          "outlinewidth": 0,
                          "ticks": ""
                        },
                        "type": "choropleth"
                      }
                    ],
                    "contour": [
                      {
                        "colorbar": {
                          "outlinewidth": 0,
                          "ticks": ""
                        },
                        "colorscale": [
                          [
                            0,
                            "#0d0887"
                          ],
                          [
                            0.1111111111111111,
                            "#46039f"
                          ],
                          [
                            0.2222222222222222,
                            "#7201a8"
                          ],
                          [
                            0.3333333333333333,
                            "#9c179e"
                          ],
                          [
                            0.4444444444444444,
                            "#bd3786"
                          ],
                          [
                            0.5555555555555556,
                            "#d8576b"
                          ],
                          [
                            0.6666666666666666,
                            "#ed7953"
                          ],
                          [
                            0.7777777777777778,
                            "#fb9f3a"
                          ],
                          [
                            0.8888888888888888,
                            "#fdca26"
                          ],
                          [
                            1,
                            "#f0f921"
                          ]
                        ],
                        "type": "contour"
                      }
                    ],
                    "contourcarpet": [
                      {
                        "colorbar": {
                          "outlinewidth": 0,
                          "ticks": ""
                        },
                        "type": "contourcarpet"
                      }
                    ],
                    "heatmap": [
                      {
                        "colorbar": {
                          "outlinewidth": 0,
                          "ticks": ""
                        },
                        "colorscale": [
                          [
                            0,
                            "#0d0887"
                          ],
                          [
                            0.1111111111111111,
                            "#46039f"
                          ],
                          [
                            0.2222222222222222,
                            "#7201a8"
                          ],
                          [
                            0.3333333333333333,
                            "#9c179e"
                          ],
                          [
                            0.4444444444444444,
                            "#bd3786"
                          ],
                          [
                            0.5555555555555556,
                            "#d8576b"
                          ],
                          [
                            0.6666666666666666,
                            "#ed7953"
                          ],
                          [
                            0.7777777777777778,
                            "#fb9f3a"
                          ],
                          [
                            0.8888888888888888,
                            "#fdca26"
                          ],
                          [
                            1,
                            "#f0f921"
                          ]
                        ],
                        "type": "heatmap"
                      }
                    ],
                    "histogram": [
                      {
                        "marker": {
                          "pattern": {
                            "fillmode": "overlay",
                            "size": 10,
                            "solidity": 0.2
                          }
                        },
                        "type": "histogram"
                      }
                    ],
                    "histogram2d": [
                      {
                        "colorbar": {
                          "outlinewidth": 0,
                          "ticks": ""
                        },
                        "colorscale": [
                          [
                            0,
                            "#0d0887"
                          ],
                          [
                            0.1111111111111111,
                            "#46039f"
                          ],
                          [
                            0.2222222222222222,
                            "#7201a8"
                          ],
                          [
                            0.3333333333333333,
                            "#9c179e"
                          ],
                          [
                            0.4444444444444444,
                            "#bd3786"
                          ],
                          [
                            0.5555555555555556,
                            "#d8576b"
                          ],
                          [
                            0.6666666666666666,
                            "#ed7953"
                          ],
                          [
                            0.7777777777777778,
                            "#fb9f3a"
                          ],
                          [
                            0.8888888888888888,
                            "#fdca26"
                          ],
                          [
                            1,
                            "#f0f921"
                          ]
                        ],
                        "type": "histogram2d"
                      }
                    ],
                    "histogram2dcontour": [
                      {
                        "colorbar": {
                          "outlinewidth": 0,
                          "ticks": ""
                        },
                        "colorscale": [
                          [
                            0,
                            "#0d0887"
                          ],
                          [
                            0.1111111111111111,
                            "#46039f"
                          ],
                          [
                            0.2222222222222222,
                            "#7201a8"
                          ],
                          [
                            0.3333333333333333,
                            "#9c179e"
                          ],
                          [
                            0.4444444444444444,
                            "#bd3786"
                          ],
                          [
                            0.5555555555555556,
                            "#d8576b"
                          ],
                          [
                            0.6666666666666666,
                            "#ed7953"
                          ],
                          [
                            0.7777777777777778,
                            "#fb9f3a"
                          ],
                          [
                            0.8888888888888888,
                            "#fdca26"
                          ],
                          [
                            1,
                            "#f0f921"
                          ]
                        ],
                        "type": "histogram2dcontour"
                      }
                    ],
                    "mesh3d": [
                      {
                        "colorbar": {
                          "outlinewidth": 0,
                          "ticks": ""
                        },
                        "type": "mesh3d"
                      }
                    ],
                    "parcoords": [
                      {
                        "line": {
                          "colorbar": {
                            "outlinewidth": 0,
                            "ticks": ""
                          }
                        },
                        "type": "parcoords"
                      }
                    ],
                    "pie": [
                      {
                        "automargin": true,
                        "type": "pie"
                      }
                    ],
                    "scatter": [
                      {
                        "fillpattern": {
                          "fillmode": "overlay",
                          "size": 10,
                          "solidity": 0.2
                        },
                        "type": "scatter"
                      }
                    ],
                    "scatter3d": [
                      {
                        "line": {
                          "colorbar": {
                            "outlinewidth": 0,
                            "ticks": ""
                          }
                        },
                        "marker": {
                          "colorbar": {
                            "outlinewidth": 0,
                            "ticks": ""
                          }
                        },
                        "type": "scatter3d"
                      }
                    ],
                    "scattercarpet": [
                      {
                        "marker": {
                          "colorbar": {
                            "outlinewidth": 0,
                            "ticks": ""
                          }
                        },
                        "type": "scattercarpet"
                      }
                    ],
                    "scattergeo": [
                      {
                        "marker": {
                          "colorbar": {
                            "outlinewidth": 0,
                            "ticks": ""
                          }
                        },
                        "type": "scattergeo"
                      }
                    ],
                    "scattergl": [
                      {
                        "marker": {
                          "colorbar": {
                            "outlinewidth": 0,
                            "ticks": ""
                          }
                        },
                        "type": "scattergl"
                      }
                    ],
                    "scattermap": [
                      {
                        "marker": {
                          "colorbar": {
                            "outlinewidth": 0,
                            "ticks": ""
                          }
                        },
                        "type": "scattermap"
                      }
                    ],
                    "scattermapbox": [
                      {
                        "marker": {
                          "colorbar": {
                            "outlinewidth": 0,
                            "ticks": ""
                          }
                        },
                        "type": "scattermapbox"
                      }
                    ],
                    "scatterpolar": [
                      {
                        "marker": {
                          "colorbar": {
                            "outlinewidth": 0,
                            "ticks": ""
                          }
                        },
                        "type": "scatterpolar"
                      }
                    ],
                    "scatterpolargl": [
                      {
                        "marker": {
                          "colorbar": {
                            "outlinewidth": 0,
                            "ticks": ""
                          }
                        },
                        "type": "scatterpolargl"
                      }
                    ],
                    "scatterternary": [
                      {
                        "marker": {
                          "colorbar": {
                            "outlinewidth": 0,
                            "ticks": ""
                          }
                        },
                        "type": "scatterternary"
                      }
                    ],
                    "surface": [
                      {
                        "colorbar": {
                          "outlinewidth": 0,
                          "ticks": ""
                        },
                        "colorscale": [
                          [
                            0,
                            "#0d0887"
                          ],
                          [
                            0.1111111111111111,
                            "#46039f"
                          ],
                          [
                            0.2222222222222222,
                            "#7201a8"
                          ],
                          [
                            0.3333333333333333,
                            "#9c179e"
                          ],
                          [
                            0.4444444444444444,
                            "#bd3786"
                          ],
                          [
                            0.5555555555555556,
                            "#d8576b"
                          ],
                          [
                            0.6666666666666666,
                            "#ed7953"
                          ],
                          [
                            0.7777777777777778,
                            "#fb9f3a"
                          ],
                          [
                            0.8888888888888888,
                            "#fdca26"
                          ],
                          [
                            1,
                            "#f0f921"
                          ]
                        ],
                        "type": "surface"
                      }
                    ],
                    "table": [
                      {
                        "cells": {
                          "fill": {
                            "color": "#EBF0F8"
                          },
                          "line": {
                            "color": "white"
                          }
                        },
                        "header": {
                          "fill": {
                            "color": "#C8D4E3"
                          },
                          "line": {
                            "color": "white"
                          }
                        },
                        "type": "table"
                      }
                    ]
                  },
                  "layout": {
                    "annotationdefaults": {
                      "arrowcolor": "#2a3f5f",
                      "arrowhead": 0,
                      "arrowwidth": 1
                    },
                    "autotypenumbers": "strict",
                    "coloraxis": {
                      "colorbar": {
                        "outlinewidth": 0,
                        "ticks": ""
                      }
                    },
                    "colorscale": {
                      "diverging": [
                        [
                          0,
                          "#8e0152"
                        ],
                        [
                          0.1,
                          "#c51b7d"
                        ],
                        [
                          0.2,
                          "#de77ae"
                        ],
                        [
                          0.3,
                          "#f1b6da"
                        ],
                        [
                          0.4,
                          "#fde0ef"
                        ],
                        [
                          0.5,
                          "#f7f7f7"
                        ],
                        [
                          0.6,
                          "#e6f5d0"
                        ],
                        [
                          0.7,
                          "#b8e186"
                        ],
                        [
                          0.8,
                          "#7fbc41"
                        ],
                        [
                          0.9,
                          "#4d9221"
                        ],
                        [
                          1,
                          "#276419"
                        ]
                      ],
                      "sequential": [
                        [
                          0,
                          "#0d0887"
                        ],
                        [
                          0.1111111111111111,
                          "#46039f"
                        ],
                        [
                          0.2222222222222222,
                          "#7201a8"
                        ],
                        [
                          0.3333333333333333,
                          "#9c179e"
                        ],
                        [
                          0.4444444444444444,
                          "#bd3786"
                        ],
                        [
                          0.5555555555555556,
                          "#d8576b"
                        ],
                        [
                          0.6666666666666666,
                          "#ed7953"
                        ],
                        [
                          0.7777777777777778,
                          "#fb9f3a"
                        ],
                        [
                          0.8888888888888888,
                          "#fdca26"
                        ],
                        [
                          1,
                          "#f0f921"
                        ]
                      ],
                      "sequentialminus": [
                        [
                          0,
                          "#0d0887"
                        ],
                        [
                          0.1111111111111111,
                          "#46039f"
                        ],
                        [
                          0.2222222222222222,
                          "#7201a8"
                        ],
                        [
                          0.3333333333333333,
                          "#9c179e"
                        ],
                        [
                          0.4444444444444444,
                          "#bd3786"
                        ],
                        [
                          0.5555555555555556,
                          "#d8576b"
                        ],
                        [
                          0.6666666666666666,
                          "#ed7953"
                        ],
                        [
                          0.7777777777777778,
                          "#fb9f3a"
                        ],
                        [
                          0.8888888888888888,
                          "#fdca26"
                        ],
                        [
                          1,
                          "#f0f921"
                        ]
                      ]
                    },
                    "colorway": [
                      "#636efa",
                      "#EF553B",
                      "#00cc96",
                      "#ab63fa",
                      "#FFA15A",
                      "#19d3f3",
                      "#FF6692",
                      "#B6E880",
                      "#FF97FF",
                      "#FECB52"
                    ],
                    "font": {
                      "color": "#2a3f5f"
                    },
                    "geo": {
                      "bgcolor": "white",
                      "lakecolor": "white",
                      "landcolor": "#E5ECF6",
                      "showlakes": true,
                      "showland": true,
                      "subunitcolor": "white"
                    },
                    "hoverlabel": {
                      "align": "left"
                    },
                    "hovermode": "closest",
                    "mapbox": {
                      "style": "light"
                    },
                    "paper_bgcolor": "white",
                    "plot_bgcolor": "#E5ECF6",
                    "polar": {
                      "angularaxis": {
                        "gridcolor": "white",
                        "linecolor": "white",
                        "ticks": ""
                      },
                      "bgcolor": "#E5ECF6",
                      "radialaxis": {
                        "gridcolor": "white",
                        "linecolor": "white",
                        "ticks": ""
                      }
                    },
                    "scene": {
                      "xaxis": {
                        "backgroundcolor": "#E5ECF6",
                        "gridcolor": "white",
                        "gridwidth": 2,
                        "linecolor": "white",
                        "showbackground": true,
                        "ticks": "",
                        "zerolinecolor": "white"
                      },
                      "yaxis": {
                        "backgroundcolor": "#E5ECF6",
                        "gridcolor": "white",
                        "gridwidth": 2,
                        "linecolor": "white",
                        "showbackground": true,
                        "ticks": "",
                        "zerolinecolor": "white"
                      },
                      "zaxis": {
                        "backgroundcolor": "#E5ECF6",
                        "gridcolor": "white",
                        "gridwidth": 2,
                        "linecolor": "white",
                        "showbackground": true,
                        "ticks": "",
                        "zerolinecolor": "white"
                      }
                    },
                    "shapedefaults": {
                      "line": {
                        "color": "#2a3f5f"
                      }
                    },
                    "ternary": {
                      "aaxis": {
                        "gridcolor": "white",
                        "linecolor": "white",
                        "ticks": ""
                      },
                      "baxis": {
                        "gridcolor": "white",
                        "linecolor": "white",
                        "ticks": ""
                      },
                      "bgcolor": "#E5ECF6",
                      "caxis": {
                        "gridcolor": "white",
                        "linecolor": "white",
                        "ticks": ""
                      }
                    },
                    "title": {
                      "x": 0.05
                    },
                    "xaxis": {
                      "automargin": true,
                      "gridcolor": "white",
                      "linecolor": "white",
                      "ticks": "",
                      "title": {
                        "standoff": 15
                      },
                      "zerolinecolor": "white",
                      "zerolinewidth": 2
                    },
                    "yaxis": {
                      "automargin": true,
                      "gridcolor": "white",
                      "linecolor": "white",
                      "ticks": "",
                      "title": {
                        "standoff": 15
                      },
                      "zerolinecolor": "white",
                      "zerolinewidth": 2
                    }
                  }
                },
                "title": {
                  "text": "Sample of Random Portfolios"
                },
                "xaxis": {
                  "title": {
                    "text": "Volatility (Standard Deviation)"
                  }
                },
                "yaxis": {
                  "title": {
                    "text": "Annualized Return"
                  }
                }
              }
            }
          },
          "metadata": {},
          "output_type": "display_data"
        }
      ],
      "source": [
        "fig = go.Figure()\n",
        "\n",
        "fig.add_trace(go.Scatter(\n",
        "    x=[p[\"variance\"]**0.5 for p in total_portfolios],  # Convert variance to volatility\n",
        "    y=[p[\"return\"] for p in total_portfolios],\n",
        "    mode='markers',\n",
        "    marker=dict(\n",
        "        color=[p[\"sharpe\"] for p in total_portfolios],  # Sharpe Ratio\n",
        "        showscale=True,\n",
        "        size=7,\n",
        "        line=dict(width=1),\n",
        "        colorscale=\"RdBu\",\n",
        "        colorbar=dict(title=\"Sharpe<br>Ratio\")\n",
        "    ),\n",
        "    hoverinfo='text',\n",
        "    text=[\n",
        "        f\"Return: {p['return']:.3%}<br>Volatility: {p['variance']**0.5:.3f}<br>\" +\n",
        "        f\"Sharpe Ratio: {p['return'] / (p['variance']**0.5):.3f}<br>\" +\n",
        "        \"<br>\".join([f\"{p['tickers'][i]}: Weight={p['weights'][i]:.3f}\" for i in range(len(p['tickers']))])\n",
        "        for p in total_portfolios\n",
        "    ],\n",
        "    name=\"Portfolios\"\n",
        "))\n",
        "\n",
        "fig.add_trace(go.Scatter(\n",
        "    x=volatility,\n",
        "    y=annualized_returns,\n",
        "    mode='markers',\n",
        "    hoverinfo='text',\n",
        "    hovertext=[\n",
        "        f\"{name} <br>Volatility: {vol:.3f} <br>Returns: {ret:.3%} <br>Sharpe Ratio: {sr:.3f}\"\n",
        "        for name, vol, ret, sr in zip(names, volatility, annualized_returns, sharpe_ratios)\n",
        "    ],\n",
        "    marker=dict(\n",
        "        color='brown',\n",
        "        size=5,\n",
        "        symbol='triangle-up',  # Sets the marker shape to a triangle\n",
        "        line=dict(width=1)\n",
        "    ),\n",
        "    name=\"Individual Assets\"\n",
        "))\n",
        "\n",
        "fig.update_layout(\n",
        "    title='Sample of Random Portfolios',\n",
        "    xaxis_title='Volatility (Standard Deviation)',\n",
        "    yaxis_title='Annualized Return',\n",
        "    legend=dict(y=5\n",
        "    )\n",
        ")\n",
        "\n",
        "\n",
        "fig.show()"
      ]
    },
    {
      "cell_type": "code",
      "execution_count": 61,
      "metadata": {
        "id": "fcrLEvL3abDW",
        "outputId": "34ac5990-952c-469b-db42-e170795a403f"
      },
      "outputs": [
        {
          "data": {
            "application/vnd.plotly.v1+json": {
              "config": {
                "plotlyServerURL": "https://plot.ly"
              },
              "data": [
                {
                  "mode": "lines+markers",
                  "type": "scatter",
                  "x": [
                    0,
                    1,
                    2,
                    3,
                    4,
                    5,
                    6,
                    7,
                    8,
                    9,
                    10,
                    11,
                    12,
                    13,
                    14,
                    15,
                    16,
                    17,
                    18,
                    19,
                    20,
                    21,
                    22,
                    23,
                    24,
                    25,
                    26,
                    27,
                    28,
                    29,
                    30,
                    31,
                    32,
                    33,
                    34,
                    35,
                    36,
                    37,
                    38,
                    39,
                    40,
                    41,
                    42,
                    43,
                    44,
                    45,
                    46,
                    47,
                    48,
                    49,
                    50,
                    51,
                    52,
                    53,
                    54,
                    55,
                    56,
                    57,
                    58,
                    59,
                    60,
                    61,
                    62,
                    63,
                    64,
                    65,
                    66,
                    67,
                    68,
                    69,
                    70,
                    71,
                    72,
                    73,
                    74,
                    75,
                    76,
                    77,
                    78,
                    79,
                    80,
                    81,
                    82,
                    83,
                    84,
                    85,
                    86,
                    87,
                    88,
                    89,
                    90,
                    91,
                    92,
                    93,
                    94,
                    95,
                    96,
                    97,
                    98,
                    99,
                    100,
                    101,
                    102,
                    103,
                    104,
                    105,
                    106,
                    107,
                    108,
                    109,
                    110,
                    111,
                    112,
                    113,
                    114,
                    115,
                    116,
                    117,
                    118,
                    119,
                    120,
                    121,
                    122,
                    123,
                    124,
                    125,
                    126,
                    127,
                    128,
                    129,
                    130,
                    131,
                    132,
                    133,
                    134,
                    135,
                    136,
                    137,
                    138,
                    139,
                    140,
                    141,
                    142,
                    143,
                    144,
                    145,
                    146,
                    147,
                    148,
                    149,
                    150,
                    151,
                    152,
                    153,
                    154,
                    155,
                    156,
                    157,
                    158,
                    159,
                    160,
                    161,
                    162,
                    163,
                    164,
                    165,
                    166,
                    167,
                    168,
                    169,
                    170,
                    171,
                    172,
                    173,
                    174,
                    175,
                    176,
                    177,
                    178,
                    179,
                    180,
                    181,
                    182,
                    183,
                    184,
                    185,
                    186,
                    187,
                    188,
                    189,
                    190,
                    191,
                    192,
                    193,
                    194,
                    195,
                    196,
                    197,
                    198,
                    199,
                    200,
                    201,
                    202,
                    203,
                    204,
                    205,
                    206,
                    207,
                    208,
                    209,
                    210,
                    211,
                    212,
                    213,
                    214,
                    215,
                    216,
                    217,
                    218,
                    219,
                    220,
                    221,
                    222,
                    223,
                    224,
                    225,
                    226,
                    227,
                    228,
                    229,
                    230,
                    231,
                    232,
                    233,
                    234,
                    235,
                    236,
                    237,
                    238,
                    239,
                    240,
                    241,
                    242,
                    243,
                    244,
                    245,
                    246,
                    247,
                    248,
                    249,
                    250,
                    251,
                    252,
                    253,
                    254,
                    255,
                    256,
                    257,
                    258,
                    259,
                    260,
                    261,
                    262,
                    263,
                    264,
                    265,
                    266,
                    267,
                    268,
                    269,
                    270,
                    271,
                    272,
                    273,
                    274,
                    275,
                    276,
                    277,
                    278,
                    279,
                    280,
                    281,
                    282,
                    283,
                    284,
                    285,
                    286,
                    287,
                    288,
                    289,
                    290,
                    291,
                    292,
                    293,
                    294,
                    295,
                    296,
                    297,
                    298,
                    299,
                    300,
                    301,
                    302,
                    303,
                    304,
                    305,
                    306,
                    307,
                    308,
                    309,
                    310,
                    311,
                    312,
                    313,
                    314,
                    315,
                    316,
                    317,
                    318,
                    319,
                    320,
                    321,
                    322,
                    323,
                    324,
                    325,
                    326,
                    327,
                    328,
                    329,
                    330,
                    331,
                    332,
                    333,
                    334,
                    335,
                    336,
                    337,
                    338,
                    339,
                    340,
                    341,
                    342,
                    343,
                    344,
                    345,
                    346,
                    347,
                    348,
                    349,
                    350,
                    351,
                    352,
                    353,
                    354,
                    355,
                    356,
                    357,
                    358,
                    359,
                    360,
                    361,
                    362,
                    363,
                    364,
                    365,
                    366,
                    367,
                    368,
                    369,
                    370,
                    371,
                    372,
                    373,
                    374,
                    375,
                    376,
                    377,
                    378,
                    379,
                    380,
                    381,
                    382,
                    383,
                    384,
                    385,
                    386,
                    387,
                    388,
                    389,
                    390,
                    391,
                    392,
                    393,
                    394,
                    395,
                    396,
                    397,
                    398,
                    399,
                    400,
                    401,
                    402,
                    403,
                    404,
                    405,
                    406,
                    407,
                    408,
                    409,
                    410,
                    411,
                    412,
                    413,
                    414,
                    415,
                    416,
                    417,
                    418,
                    419,
                    420,
                    421,
                    422,
                    423,
                    424,
                    425,
                    426,
                    427,
                    428,
                    429,
                    430,
                    431,
                    432,
                    433,
                    434,
                    435,
                    436,
                    437,
                    438,
                    439,
                    440,
                    441,
                    442,
                    443,
                    444,
                    445,
                    446,
                    447,
                    448,
                    449,
                    450,
                    451,
                    452,
                    453,
                    454,
                    455,
                    456,
                    457,
                    458,
                    459,
                    460,
                    461,
                    462,
                    463,
                    464,
                    465,
                    466,
                    467,
                    468,
                    469,
                    470,
                    471,
                    472,
                    473,
                    474,
                    475,
                    476,
                    477,
                    478,
                    479,
                    480,
                    481,
                    482,
                    483,
                    484,
                    485,
                    486,
                    487,
                    488,
                    489,
                    490,
                    491,
                    492,
                    493,
                    494,
                    495,
                    496,
                    497,
                    498,
                    499,
                    500
                  ],
                  "y": [
                    3.0559760498516875,
                    3.7229151842556925,
                    3.7229151842556925,
                    3.6454218302448465,
                    3.0559758923282305,
                    3.1215151577962046,
                    4.276754909987933,
                    4.381936740639984,
                    4.381936740639984,
                    4.679834509165891,
                    4.381936740639984,
                    4.679834509165891,
                    4.276754947420217,
                    4.282957972378963,
                    4.488031619661445,
                    4.324428296418404,
                    4.815668678398446,
                    4.4007550559009365,
                    4.77339000321984,
                    4.212491199566644,
                    4.212491330314106,
                    4.815668678382923,
                    4.442284779306268,
                    4.375872513649524,
                    4.362329410400146,
                    4.223960931853934,
                    4.212491350701287,
                    4.453706757607881,
                    4.867545043150238,
                    5.050304186907617,
                    5.050304186907617,
                    4.9087577234503454,
                    4.63768783757971,
                    4.639282357228072,
                    5.0978016298238975,
                    5.050304186907617,
                    4.9087577234503454,
                    4.63768783757971,
                    4.639282357228072,
                    5.0978016298238975,
                    4.789531608344854,
                    4.803787571393372,
                    4.739841284311807,
                    4.637688292026107,
                    4.765309956543191,
                    4.647189223112865,
                    4.761783964076951,
                    4.650884614065649,
                    4.784701409519667,
                    4.637688201262541,
                    4.653401635074559,
                    4.637688447628218,
                    4.637688335378974,
                    4.867545043151474,
                    4.688427542565245,
                    4.637688447445312,
                    4.724774474501758,
                    5.085409422312691,
                    4.6376883449069695,
                    4.6376883386765115,
                    4.637688442732347,
                    4.637688414296012,
                    4.637688446223184,
                    4.655249879527723,
                    4.642652533756961,
                    4.637688161502372,
                    4.860027860564289,
                    4.63768837307391,
                    4.637687952481534,
                    4.887351580269738,
                    4.656267610455931,
                    4.637688439480973,
                    4.639629744238831,
                    4.654765445940932,
                    4.637688277658295,
                    4.63768844730899,
                    4.637688375955261,
                    4.63768842675968,
                    4.6376884372875065,
                    4.6376884407732915,
                    4.637688325533199,
                    4.642321528670555,
                    5.236500271789258,
                    5.079820683230254,
                    5.145940764611696,
                    4.6751247381903,
                    4.717231280753144,
                    4.88825197432103,
                    5.482060591944929,
                    5.7087285654592215,
                    5.7087285654592215,
                    5.567558854382668,
                    5.482060515646443,
                    5.482060636923128,
                    5.548660779475052,
                    5.713611951531057,
                    5.566582288534526,
                    5.437121313929693,
                    5.236500394901383,
                    5.236500484848057,
                    5.7136119515320765,
                    5.566582288534526,
                    5.437121313929693,
                    5.236500394901383,
                    5.236500484848057,
                    5.7136119515320765,
                    5.316258090343025,
                    5.374896173520021,
                    5.2365004592187585,
                    5.270329888320022,
                    5.293901250869312,
                    5.286613781477732,
                    5.293082977402407,
                    5.236500321218486,
                    5.236500271798606,
                    5.407252906111275,
                    5.2365004668020285,
                    5.247840542212422,
                    5.236500473745807,
                    5.236500467003648,
                    5.237031422967817,
                    5.236500461506252,
                    5.236500403420513,
                    5.469886334747247,
                    5.237135034441699,
                    5.236500453160901,
                    5.236500018132447,
                    5.23879544651511,
                    5.254492178210494,
                    5.236500413316328,
                    5.236500454578951,
                    5.338915551684051,
                    5.236500445864027,
                    5.236500423585818,
                    5.236500482418778,
                    5.236500471546453,
                    5.236500483545478,
                    5.236500484065886,
                    5.236500290813068,
                    5.236500327499163,
                    5.236500471693904,
                    5.236500474846563,
                    5.236500481213743,
                    5.236500460586433,
                    5.23650042609191,
                    5.23650048516934,
                    5.24030369315164,
                    5.236730297878083,
                    5.236500298736663,
                    5.257030477869007,
                    5.236500457945015,
                    5.236500444118894,
                    5.236500484609823,
                    5.80782531306581,
                    5.901428735257458,
                    6.126663039995973,
                    6.126663039995973,
                    5.9014285187568465,
                    5.901428735496858,
                    5.961644776973805,
                    6.45326487260036,
                    6.475514769206267,
                    6.475514769206267,
                    6.453264761826628,
                    6.453264844221975,
                    6.466296665914295,
                    6.539781686853116,
                    6.547801878746401,
                    6.547801878746401,
                    6.539781618153232,
                    6.539781815804735,
                    6.543096904276693,
                    6.559353729080405,
                    6.547801878746401,
                    6.539781618153232,
                    6.539781815804735,
                    6.543096904276693,
                    6.559353729080405,
                    6.539781454680046,
                    6.539781814448276,
                    6.542521888938041,
                    6.539781634071888,
                    6.592085620170909,
                    6.547801878746401,
                    6.539781618153232,
                    6.539781815804735,
                    6.543096904276693,
                    6.559353729080405,
                    6.539781454680046,
                    6.539781814448276,
                    6.542521888938041,
                    6.539781634071888,
                    6.592085620170909,
                    6.539781838360526,
                    6.539781646884361,
                    6.539781933829072,
                    6.5397817277474255,
                    6.53978191059213,
                    6.539781695186108,
                    6.539781925243744,
                    6.539781859745098,
                    6.539781924920508,
                    6.539781512911661,
                    6.540461455100465,
                    6.539781933604226,
                    6.53978188552438,
                    6.539933315428448,
                    6.541927615134764,
                    6.5397819172109015,
                    6.540376912028484,
                    6.539781692655706,
                    6.539781931275711,
                    6.539781874191701,
                    6.539781848656938,
                    6.539781742991917,
                    6.539781907678462,
                    6.539781926654627,
                    6.539781927309121,
                    6.539781894281796,
                    6.539781884587318,
                    6.539781899422379,
                    6.5397819208038,
                    6.539781853130369,
                    6.539781862980105,
                    6.539781622752655,
                    6.53978167531685,
                    6.539781898060466,
                    6.53978177965122,
                    6.5397819270296695,
                    6.539781931006605,
                    6.539781912481618,
                    6.539781674604959,
                    6.53978193316416,
                    6.539781784266957,
                    6.539781894721916,
                    6.539781688072324,
                    6.539781923698866,
                    6.5730062679156305,
                    6.652477538132155,
                    6.591327827132087,
                    6.57090215609033,
                    6.570902246410089,
                    6.575286597285016,
                    6.652477538133216,
                    6.591327827132087,
                    6.57090215609033,
                    6.570902246410089,
                    6.575286597285016,
                    6.652477538133216,
                    6.591567389922482,
                    6.570915023118012,
                    6.578495407434919,
                    6.570902128076203,
                    6.570902131951313,
                    6.574936940093421,
                    6.6607993402133765,
                    6.591327827132087,
                    6.57090215609033,
                    6.570902246410089,
                    6.575286597285016,
                    6.652477538133216,
                    6.591567389922482,
                    6.570915023118012,
                    6.578495407434919,
                    6.570902128076203,
                    6.570902131951313,
                    6.574936940093421,
                    6.6607993402133765,
                    6.570902055781585,
                    6.570902177781184,
                    6.570902246225745,
                    6.5709022336215535,
                    6.5709022464566536,
                    6.570902234070757,
                    6.5709019465687115,
                    6.570901852830224,
                    6.570901974135304,
                    6.5709022440997344,
                    6.570902115156236,
                    6.5722588021584665,
                    6.570902214724887,
                    6.5709019498988495,
                    6.581297278331735,
                    6.570901875871212,
                    6.570902226286953,
                    6.588324071791409,
                    6.570902244880974,
                    6.570902184282928,
                    6.57090203942807,
                    6.57090209771025,
                    6.570902216440141,
                    6.570902157483591,
                    6.570902242414347,
                    6.57090223384122,
                    6.570902186248195,
                    6.570902147305133,
                    6.570902244786749,
                    6.570901975062629,
                    6.570902244723223,
                    6.570902212433611,
                    6.570902229858146,
                    6.5709019365055825,
                    6.570902236376789,
                    6.5709020925056585,
                    6.570902181582196,
                    6.570902156848173,
                    6.570902207180136,
                    6.570902038098488,
                    6.61250009370246,
                    6.5709019744889785,
                    6.570902230032103,
                    6.570902143010056,
                    6.570902206610709,
                    6.570901994383408,
                    6.570902026795216,
                    6.570902113017612,
                    6.579476185019634,
                    6.577822212392777,
                    6.570902179353046,
                    6.570901800499918,
                    6.570902237168005,
                    6.570901914895231,
                    6.570902216797516,
                    6.570902199642082,
                    6.57090216072621,
                    6.570902243670166,
                    6.850963311325345,
                    6.72594654918424,
                    6.694000238644493,
                    6.694000068926623,
                    6.700307413989339,
                    6.7670183792567675,
                    6.726580439002181,
                    6.694138261245988,
                    6.694000068625269,
                    6.694000162511123,
                    6.709699463021995,
                    6.694000042290422,
                    6.712699469703229,
                    6.6940001568210565,
                    6.69400019396225,
                    6.694000155201198,
                    6.6940002075355025,
                    6.693999904088193,
                    6.693999997681156,
                    6.69400015658969,
                    6.900503781068891,
                    6.72594654918424,
                    6.694000238644493,
                    6.694000068926623,
                    6.700307413989339,
                    6.7670183792567675,
                    6.726580439002181,
                    6.694138261245988,
                    6.694000068625269,
                    6.694000162511123,
                    6.709699463021995,
                    6.694000042290422,
                    6.712699469703229,
                    6.6940001568210565,
                    6.69400019396225,
                    6.694000155201198,
                    6.6940002075355025,
                    6.693999904088193,
                    6.693999997681156,
                    6.69400015658969,
                    6.900503781068891,
                    6.694124615647688,
                    6.694000232807425,
                    6.694000152460428,
                    6.694000238324086,
                    6.693999962883558,
                    6.694000237119056,
                    6.707867631794404,
                    6.693999981550797,
                    6.693999876363319,
                    6.694000267603096,
                    6.694000165639277,
                    6.6940002429022325,
                    6.694000117928274,
                    6.694000234840336,
                    6.694000159681696,
                    6.740227532059457,
                    6.694000074963249,
                    6.694000150125387,
                    6.694000091937073,
                    6.694000262044954,
                    6.694000239739257,
                    6.694000261553493,
                    6.752118872497822,
                    6.850963311328944,
                    6.693999902688433,
                    6.695872035145686,
                    6.694000145550617,
                    6.693999885923623,
                    6.694000265646851,
                    6.693999812993103,
                    6.693999776133486,
                    6.693999908173374,
                    6.694000073411984,
                    6.693999885586495,
                    6.6940002262601555,
                    6.694000138083829,
                    6.694000149338163,
                    6.694000218007339,
                    6.694000235087297,
                    6.6940002581250635,
                    6.694000212180577,
                    6.694000113428123,
                    6.694000244489346,
                    6.694000149473075,
                    6.775847470426209,
                    6.69399934776795,
                    6.694000264287995,
                    6.70507557524128,
                    6.69400011071438,
                    6.6940002236876275,
                    6.710602771011976,
                    6.694000213101916,
                    6.694000134166393,
                    6.693999966530539,
                    6.694000257837,
                    6.694000254100452,
                    6.694000008478412,
                    6.729684719884985,
                    7.115245943270041,
                    6.971424449785337,
                    6.955537133442996,
                    6.955536750545929,
                    6.984992411636922,
                    7.025617235482497,
                    6.979366125784055,
                    6.956158492403918,
                    6.955536971668689,
                    6.977987460772585,
                    6.955536970229386,
                    6.955537112425853,
                    6.955537026840538,
                    6.955537127608364,
                    6.955536931627856,
                    6.95553703526638,
                    7.142892530593641,
                    7.003051721547555,
                    7.142892530593808,
                    7.003051721547555,
                    7.142892530593808,
                    7.001515468761393,
                    7.00151559951183,
                    7.036115382682078,
                    7.027564396321678,
                    7.011235250985277,
                    7.001515813318859,
                    7.00151581760629,
                    7.001515808512744,
                    7.001515572670739,
                    7.001515817791524,
                    7.001515817504874,
                    7.001515795179938,
                    7.0015157134883435,
                    7.001515759359283,
                    7.0015154758749665,
                    7.00151577334649,
                    7.001515450890248,
                    7.001515751491499,
                    7.00151579443706,
                    7.001515731860985,
                    7.001515817924828,
                    7.001515791452516,
                    7.018795637858382,
                    7.0015158149237315,
                    7.0015154531070625,
                    7.001515766067019,
                    7.052233938653869,
                    7.0576010407366425,
                    7.001515814239462,
                    7.001515818379696,
                    7.001515590546162,
                    7.001515729178677,
                    7.061253968104251,
                    7.001515732310395,
                    7.001515384738798,
                    7.002259017033993,
                    7.0018203772231775,
                    7.001515702407267,
                    7.001515725665265,
                    7.001515818345176,
                    7.001515817190852,
                    7.001515703990075,
                    7.001515783406058,
                    7.00151558169054,
                    7.0015157696585915,
                    7.001515788531126,
                    7.001515797634573,
                    7.055926107632522,
                    7.001515610529579,
                    7.001515754564013,
                    7.001515819034217,
                    7.002919550957134,
                    7.001515804878601,
                    7.001515746871716,
                    7.001515798734453
                  ]
                }
              ],
              "layout": {
                "template": {
                  "data": {
                    "bar": [
                      {
                        "error_x": {
                          "color": "#2a3f5f"
                        },
                        "error_y": {
                          "color": "#2a3f5f"
                        },
                        "marker": {
                          "line": {
                            "color": "#E5ECF6",
                            "width": 0.5
                          },
                          "pattern": {
                            "fillmode": "overlay",
                            "size": 10,
                            "solidity": 0.2
                          }
                        },
                        "type": "bar"
                      }
                    ],
                    "barpolar": [
                      {
                        "marker": {
                          "line": {
                            "color": "#E5ECF6",
                            "width": 0.5
                          },
                          "pattern": {
                            "fillmode": "overlay",
                            "size": 10,
                            "solidity": 0.2
                          }
                        },
                        "type": "barpolar"
                      }
                    ],
                    "carpet": [
                      {
                        "aaxis": {
                          "endlinecolor": "#2a3f5f",
                          "gridcolor": "white",
                          "linecolor": "white",
                          "minorgridcolor": "white",
                          "startlinecolor": "#2a3f5f"
                        },
                        "baxis": {
                          "endlinecolor": "#2a3f5f",
                          "gridcolor": "white",
                          "linecolor": "white",
                          "minorgridcolor": "white",
                          "startlinecolor": "#2a3f5f"
                        },
                        "type": "carpet"
                      }
                    ],
                    "choropleth": [
                      {
                        "colorbar": {
                          "outlinewidth": 0,
                          "ticks": ""
                        },
                        "type": "choropleth"
                      }
                    ],
                    "contour": [
                      {
                        "colorbar": {
                          "outlinewidth": 0,
                          "ticks": ""
                        },
                        "colorscale": [
                          [
                            0,
                            "#0d0887"
                          ],
                          [
                            0.1111111111111111,
                            "#46039f"
                          ],
                          [
                            0.2222222222222222,
                            "#7201a8"
                          ],
                          [
                            0.3333333333333333,
                            "#9c179e"
                          ],
                          [
                            0.4444444444444444,
                            "#bd3786"
                          ],
                          [
                            0.5555555555555556,
                            "#d8576b"
                          ],
                          [
                            0.6666666666666666,
                            "#ed7953"
                          ],
                          [
                            0.7777777777777778,
                            "#fb9f3a"
                          ],
                          [
                            0.8888888888888888,
                            "#fdca26"
                          ],
                          [
                            1,
                            "#f0f921"
                          ]
                        ],
                        "type": "contour"
                      }
                    ],
                    "contourcarpet": [
                      {
                        "colorbar": {
                          "outlinewidth": 0,
                          "ticks": ""
                        },
                        "type": "contourcarpet"
                      }
                    ],
                    "heatmap": [
                      {
                        "colorbar": {
                          "outlinewidth": 0,
                          "ticks": ""
                        },
                        "colorscale": [
                          [
                            0,
                            "#0d0887"
                          ],
                          [
                            0.1111111111111111,
                            "#46039f"
                          ],
                          [
                            0.2222222222222222,
                            "#7201a8"
                          ],
                          [
                            0.3333333333333333,
                            "#9c179e"
                          ],
                          [
                            0.4444444444444444,
                            "#bd3786"
                          ],
                          [
                            0.5555555555555556,
                            "#d8576b"
                          ],
                          [
                            0.6666666666666666,
                            "#ed7953"
                          ],
                          [
                            0.7777777777777778,
                            "#fb9f3a"
                          ],
                          [
                            0.8888888888888888,
                            "#fdca26"
                          ],
                          [
                            1,
                            "#f0f921"
                          ]
                        ],
                        "type": "heatmap"
                      }
                    ],
                    "histogram": [
                      {
                        "marker": {
                          "pattern": {
                            "fillmode": "overlay",
                            "size": 10,
                            "solidity": 0.2
                          }
                        },
                        "type": "histogram"
                      }
                    ],
                    "histogram2d": [
                      {
                        "colorbar": {
                          "outlinewidth": 0,
                          "ticks": ""
                        },
                        "colorscale": [
                          [
                            0,
                            "#0d0887"
                          ],
                          [
                            0.1111111111111111,
                            "#46039f"
                          ],
                          [
                            0.2222222222222222,
                            "#7201a8"
                          ],
                          [
                            0.3333333333333333,
                            "#9c179e"
                          ],
                          [
                            0.4444444444444444,
                            "#bd3786"
                          ],
                          [
                            0.5555555555555556,
                            "#d8576b"
                          ],
                          [
                            0.6666666666666666,
                            "#ed7953"
                          ],
                          [
                            0.7777777777777778,
                            "#fb9f3a"
                          ],
                          [
                            0.8888888888888888,
                            "#fdca26"
                          ],
                          [
                            1,
                            "#f0f921"
                          ]
                        ],
                        "type": "histogram2d"
                      }
                    ],
                    "histogram2dcontour": [
                      {
                        "colorbar": {
                          "outlinewidth": 0,
                          "ticks": ""
                        },
                        "colorscale": [
                          [
                            0,
                            "#0d0887"
                          ],
                          [
                            0.1111111111111111,
                            "#46039f"
                          ],
                          [
                            0.2222222222222222,
                            "#7201a8"
                          ],
                          [
                            0.3333333333333333,
                            "#9c179e"
                          ],
                          [
                            0.4444444444444444,
                            "#bd3786"
                          ],
                          [
                            0.5555555555555556,
                            "#d8576b"
                          ],
                          [
                            0.6666666666666666,
                            "#ed7953"
                          ],
                          [
                            0.7777777777777778,
                            "#fb9f3a"
                          ],
                          [
                            0.8888888888888888,
                            "#fdca26"
                          ],
                          [
                            1,
                            "#f0f921"
                          ]
                        ],
                        "type": "histogram2dcontour"
                      }
                    ],
                    "mesh3d": [
                      {
                        "colorbar": {
                          "outlinewidth": 0,
                          "ticks": ""
                        },
                        "type": "mesh3d"
                      }
                    ],
                    "parcoords": [
                      {
                        "line": {
                          "colorbar": {
                            "outlinewidth": 0,
                            "ticks": ""
                          }
                        },
                        "type": "parcoords"
                      }
                    ],
                    "pie": [
                      {
                        "automargin": true,
                        "type": "pie"
                      }
                    ],
                    "scatter": [
                      {
                        "fillpattern": {
                          "fillmode": "overlay",
                          "size": 10,
                          "solidity": 0.2
                        },
                        "type": "scatter"
                      }
                    ],
                    "scatter3d": [
                      {
                        "line": {
                          "colorbar": {
                            "outlinewidth": 0,
                            "ticks": ""
                          }
                        },
                        "marker": {
                          "colorbar": {
                            "outlinewidth": 0,
                            "ticks": ""
                          }
                        },
                        "type": "scatter3d"
                      }
                    ],
                    "scattercarpet": [
                      {
                        "marker": {
                          "colorbar": {
                            "outlinewidth": 0,
                            "ticks": ""
                          }
                        },
                        "type": "scattercarpet"
                      }
                    ],
                    "scattergeo": [
                      {
                        "marker": {
                          "colorbar": {
                            "outlinewidth": 0,
                            "ticks": ""
                          }
                        },
                        "type": "scattergeo"
                      }
                    ],
                    "scattergl": [
                      {
                        "marker": {
                          "colorbar": {
                            "outlinewidth": 0,
                            "ticks": ""
                          }
                        },
                        "type": "scattergl"
                      }
                    ],
                    "scattermap": [
                      {
                        "marker": {
                          "colorbar": {
                            "outlinewidth": 0,
                            "ticks": ""
                          }
                        },
                        "type": "scattermap"
                      }
                    ],
                    "scattermapbox": [
                      {
                        "marker": {
                          "colorbar": {
                            "outlinewidth": 0,
                            "ticks": ""
                          }
                        },
                        "type": "scattermapbox"
                      }
                    ],
                    "scatterpolar": [
                      {
                        "marker": {
                          "colorbar": {
                            "outlinewidth": 0,
                            "ticks": ""
                          }
                        },
                        "type": "scatterpolar"
                      }
                    ],
                    "scatterpolargl": [
                      {
                        "marker": {
                          "colorbar": {
                            "outlinewidth": 0,
                            "ticks": ""
                          }
                        },
                        "type": "scatterpolargl"
                      }
                    ],
                    "scatterternary": [
                      {
                        "marker": {
                          "colorbar": {
                            "outlinewidth": 0,
                            "ticks": ""
                          }
                        },
                        "type": "scatterternary"
                      }
                    ],
                    "surface": [
                      {
                        "colorbar": {
                          "outlinewidth": 0,
                          "ticks": ""
                        },
                        "colorscale": [
                          [
                            0,
                            "#0d0887"
                          ],
                          [
                            0.1111111111111111,
                            "#46039f"
                          ],
                          [
                            0.2222222222222222,
                            "#7201a8"
                          ],
                          [
                            0.3333333333333333,
                            "#9c179e"
                          ],
                          [
                            0.4444444444444444,
                            "#bd3786"
                          ],
                          [
                            0.5555555555555556,
                            "#d8576b"
                          ],
                          [
                            0.6666666666666666,
                            "#ed7953"
                          ],
                          [
                            0.7777777777777778,
                            "#fb9f3a"
                          ],
                          [
                            0.8888888888888888,
                            "#fdca26"
                          ],
                          [
                            1,
                            "#f0f921"
                          ]
                        ],
                        "type": "surface"
                      }
                    ],
                    "table": [
                      {
                        "cells": {
                          "fill": {
                            "color": "#EBF0F8"
                          },
                          "line": {
                            "color": "white"
                          }
                        },
                        "header": {
                          "fill": {
                            "color": "#C8D4E3"
                          },
                          "line": {
                            "color": "white"
                          }
                        },
                        "type": "table"
                      }
                    ]
                  },
                  "layout": {
                    "annotationdefaults": {
                      "arrowcolor": "#2a3f5f",
                      "arrowhead": 0,
                      "arrowwidth": 1
                    },
                    "autotypenumbers": "strict",
                    "coloraxis": {
                      "colorbar": {
                        "outlinewidth": 0,
                        "ticks": ""
                      }
                    },
                    "colorscale": {
                      "diverging": [
                        [
                          0,
                          "#8e0152"
                        ],
                        [
                          0.1,
                          "#c51b7d"
                        ],
                        [
                          0.2,
                          "#de77ae"
                        ],
                        [
                          0.3,
                          "#f1b6da"
                        ],
                        [
                          0.4,
                          "#fde0ef"
                        ],
                        [
                          0.5,
                          "#f7f7f7"
                        ],
                        [
                          0.6,
                          "#e6f5d0"
                        ],
                        [
                          0.7,
                          "#b8e186"
                        ],
                        [
                          0.8,
                          "#7fbc41"
                        ],
                        [
                          0.9,
                          "#4d9221"
                        ],
                        [
                          1,
                          "#276419"
                        ]
                      ],
                      "sequential": [
                        [
                          0,
                          "#0d0887"
                        ],
                        [
                          0.1111111111111111,
                          "#46039f"
                        ],
                        [
                          0.2222222222222222,
                          "#7201a8"
                        ],
                        [
                          0.3333333333333333,
                          "#9c179e"
                        ],
                        [
                          0.4444444444444444,
                          "#bd3786"
                        ],
                        [
                          0.5555555555555556,
                          "#d8576b"
                        ],
                        [
                          0.6666666666666666,
                          "#ed7953"
                        ],
                        [
                          0.7777777777777778,
                          "#fb9f3a"
                        ],
                        [
                          0.8888888888888888,
                          "#fdca26"
                        ],
                        [
                          1,
                          "#f0f921"
                        ]
                      ],
                      "sequentialminus": [
                        [
                          0,
                          "#0d0887"
                        ],
                        [
                          0.1111111111111111,
                          "#46039f"
                        ],
                        [
                          0.2222222222222222,
                          "#7201a8"
                        ],
                        [
                          0.3333333333333333,
                          "#9c179e"
                        ],
                        [
                          0.4444444444444444,
                          "#bd3786"
                        ],
                        [
                          0.5555555555555556,
                          "#d8576b"
                        ],
                        [
                          0.6666666666666666,
                          "#ed7953"
                        ],
                        [
                          0.7777777777777778,
                          "#fb9f3a"
                        ],
                        [
                          0.8888888888888888,
                          "#fdca26"
                        ],
                        [
                          1,
                          "#f0f921"
                        ]
                      ]
                    },
                    "colorway": [
                      "#636efa",
                      "#EF553B",
                      "#00cc96",
                      "#ab63fa",
                      "#FFA15A",
                      "#19d3f3",
                      "#FF6692",
                      "#B6E880",
                      "#FF97FF",
                      "#FECB52"
                    ],
                    "font": {
                      "color": "#2a3f5f"
                    },
                    "geo": {
                      "bgcolor": "white",
                      "lakecolor": "white",
                      "landcolor": "#E5ECF6",
                      "showlakes": true,
                      "showland": true,
                      "subunitcolor": "white"
                    },
                    "hoverlabel": {
                      "align": "left"
                    },
                    "hovermode": "closest",
                    "mapbox": {
                      "style": "light"
                    },
                    "paper_bgcolor": "white",
                    "plot_bgcolor": "#E5ECF6",
                    "polar": {
                      "angularaxis": {
                        "gridcolor": "white",
                        "linecolor": "white",
                        "ticks": ""
                      },
                      "bgcolor": "#E5ECF6",
                      "radialaxis": {
                        "gridcolor": "white",
                        "linecolor": "white",
                        "ticks": ""
                      }
                    },
                    "scene": {
                      "xaxis": {
                        "backgroundcolor": "#E5ECF6",
                        "gridcolor": "white",
                        "gridwidth": 2,
                        "linecolor": "white",
                        "showbackground": true,
                        "ticks": "",
                        "zerolinecolor": "white"
                      },
                      "yaxis": {
                        "backgroundcolor": "#E5ECF6",
                        "gridcolor": "white",
                        "gridwidth": 2,
                        "linecolor": "white",
                        "showbackground": true,
                        "ticks": "",
                        "zerolinecolor": "white"
                      },
                      "zaxis": {
                        "backgroundcolor": "#E5ECF6",
                        "gridcolor": "white",
                        "gridwidth": 2,
                        "linecolor": "white",
                        "showbackground": true,
                        "ticks": "",
                        "zerolinecolor": "white"
                      }
                    },
                    "shapedefaults": {
                      "line": {
                        "color": "#2a3f5f"
                      }
                    },
                    "ternary": {
                      "aaxis": {
                        "gridcolor": "white",
                        "linecolor": "white",
                        "ticks": ""
                      },
                      "baxis": {
                        "gridcolor": "white",
                        "linecolor": "white",
                        "ticks": ""
                      },
                      "bgcolor": "#E5ECF6",
                      "caxis": {
                        "gridcolor": "white",
                        "linecolor": "white",
                        "ticks": ""
                      }
                    },
                    "title": {
                      "x": 0.05
                    },
                    "xaxis": {
                      "automargin": true,
                      "gridcolor": "white",
                      "linecolor": "white",
                      "ticks": "",
                      "title": {
                        "standoff": 15
                      },
                      "zerolinecolor": "white",
                      "zerolinewidth": 2
                    },
                    "yaxis": {
                      "automargin": true,
                      "gridcolor": "white",
                      "linecolor": "white",
                      "ticks": "",
                      "title": {
                        "standoff": 15
                      },
                      "zerolinecolor": "white",
                      "zerolinewidth": 2
                    }
                  }
                },
                "title": {
                  "text": "Sharpe Ratio Over Iterations"
                },
                "xaxis": {
                  "title": {
                    "text": "Iteration"
                  }
                },
                "yaxis": {
                  "title": {
                    "text": "Sharpe Ratio"
                  }
                }
              }
            }
          },
          "metadata": {},
          "output_type": "display_data"
        }
      ],
      "source": [
        "sharpe_ratios = [portfolio['sharpe'] for portfolio in total_portfolios]\n",
        "\n",
        "fig = go.Figure(data=go.Scatter(x=list(range(len(sharpe_ratios))), y=sharpe_ratios, mode='lines+markers'))\n",
        "fig.update_layout(title='Sharpe Ratio Over Iterations',\n",
        "                  xaxis_title='Iteration',\n",
        "                  yaxis_title='Sharpe Ratio',\n",
        "                  )\n",
        "fig.show()"
      ]
    },
    {
      "cell_type": "markdown",
      "metadata": {
        "id": "KFtx1nkbabDW"
      },
      "source": [
        "## 6.0 Find Optimal Portfolio Size"
      ]
    },
    {
      "cell_type": "code",
      "execution_count": 62,
      "metadata": {
        "id": "TSnuoMXUabDW",
        "outputId": "cae0f228-2076-478e-c55d-64b3ce16ec55"
      },
      "outputs": [
        {
          "name": "stderr",
          "output_type": "stream",
          "text": [
            "100%|██████████| 10000/10000 [00:05<00:00, 1703.87it/s]\n"
          ]
        }
      ],
      "source": [
        "all_portfolios, dominant_portfolios = MonteCarloRBA(names, cov, annualized_returns, 10000, \"random\", 3, 50)"
      ]
    },
    {
      "cell_type": "code",
      "execution_count": 63,
      "metadata": {
        "id": "pXRrClKnabDW",
        "outputId": "389ed85c-e2b7-499d-d207-67051ca55dfe"
      },
      "outputs": [
        {
          "data": {
            "application/vnd.plotly.v1+json": {
              "config": {
                "plotlyServerURL": "https://plot.ly"
              },
              "data": [
                {
                  "mode": "lines",
                  "name": "Average Volatility",
                  "type": "scatter",
                  "x": [
                    3,
                    4,
                    5,
                    6,
                    7,
                    8,
                    9,
                    10,
                    11,
                    12,
                    13,
                    14,
                    15,
                    16,
                    17,
                    18,
                    19,
                    20,
                    21,
                    22,
                    23,
                    24,
                    25,
                    26,
                    27,
                    28,
                    29,
                    30,
                    31,
                    32,
                    33,
                    34,
                    35,
                    36,
                    37,
                    38,
                    39,
                    40,
                    41,
                    42,
                    43,
                    44,
                    45,
                    46,
                    47,
                    48,
                    49
                  ],
                  "y": [
                    0.13244786215296045,
                    0.12196219125923087,
                    0.116845355398865,
                    0.11412658455372719,
                    0.10768554232702067,
                    0.10181404325819843,
                    0.09779482134078175,
                    0.09431200804852535,
                    0.09368321199923987,
                    0.09474297862659162,
                    0.08793772511989728,
                    0.08835322930645877,
                    0.08981997903635144,
                    0.08829645621298615,
                    0.0860936871621711,
                    0.08452546940941616,
                    0.08318934377284762,
                    0.08336049494868757,
                    0.08325920406351556,
                    0.08235309837620693,
                    0.08139190703730044,
                    0.08075664488164978,
                    0.08094863604031305,
                    0.07977747181452496,
                    0.07965353201081067,
                    0.0796816703865837,
                    0.07796734846876655,
                    0.08056027929070614,
                    0.07839090338624483,
                    0.07795163270174794,
                    0.0773509079944464,
                    0.07726052753458935,
                    0.07708276067803496,
                    0.07668612572442036,
                    0.07670787361624667,
                    0.07637441958392603,
                    0.07570975805964587,
                    0.07613102838780365,
                    0.07609931113803813,
                    0.07563707739948522,
                    0.07595667350145377,
                    0.07622714849612668,
                    0.07505866255800836,
                    0.07557657631011326,
                    0.07497101757300138,
                    0.07554553856643609,
                    0.0745979844547136
                  ]
                },
                {
                  "mode": "lines",
                  "name": "Average Returns",
                  "type": "scatter",
                  "x": [
                    3,
                    4,
                    5,
                    6,
                    7,
                    8,
                    9,
                    10,
                    11,
                    12,
                    13,
                    14,
                    15,
                    16,
                    17,
                    18,
                    19,
                    20,
                    21,
                    22,
                    23,
                    24,
                    25,
                    26,
                    27,
                    28,
                    29,
                    30,
                    31,
                    32,
                    33,
                    34,
                    35,
                    36,
                    37,
                    38,
                    39,
                    40,
                    41,
                    42,
                    43,
                    44,
                    45,
                    46,
                    47,
                    48,
                    49
                  ],
                  "y": [
                    0.14992438574679468,
                    0.14990577737339575,
                    0.13942000197695098,
                    0.12534839688749175,
                    0.12491892252658461,
                    0.15514374192056565,
                    0.12974389480444742,
                    0.1341434424984153,
                    0.14232165072869693,
                    0.1322444243483321,
                    0.13393415766715355,
                    0.12836139174397426,
                    0.14443958084472286,
                    0.13202617179859055,
                    0.13289237153955025,
                    0.1382625844285926,
                    0.13190868340858863,
                    0.13754810087008879,
                    0.1300234654952784,
                    0.1312987573294931,
                    0.13938318699590527,
                    0.13262094438148156,
                    0.13514703829691632,
                    0.1213933676224397,
                    0.13143898797721904,
                    0.13065139942528692,
                    0.13293222289873302,
                    0.13857354072388306,
                    0.13070917539695082,
                    0.13868933323136662,
                    0.13205217026541502,
                    0.13484266947801182,
                    0.1309170722660348,
                    0.1319864844763794,
                    0.13558967523604704,
                    0.13311398635613617,
                    0.13649804601468518,
                    0.13789528499156975,
                    0.13319707056986924,
                    0.1336115126387474,
                    0.14009433812394234,
                    0.1340618577583005,
                    0.1309998173157894,
                    0.13252132962018306,
                    0.1349628511556936,
                    0.1387904507809984,
                    0.12795693887895718
                  ]
                }
              ],
              "layout": {
                "template": {
                  "data": {
                    "bar": [
                      {
                        "error_x": {
                          "color": "#2a3f5f"
                        },
                        "error_y": {
                          "color": "#2a3f5f"
                        },
                        "marker": {
                          "line": {
                            "color": "#E5ECF6",
                            "width": 0.5
                          },
                          "pattern": {
                            "fillmode": "overlay",
                            "size": 10,
                            "solidity": 0.2
                          }
                        },
                        "type": "bar"
                      }
                    ],
                    "barpolar": [
                      {
                        "marker": {
                          "line": {
                            "color": "#E5ECF6",
                            "width": 0.5
                          },
                          "pattern": {
                            "fillmode": "overlay",
                            "size": 10,
                            "solidity": 0.2
                          }
                        },
                        "type": "barpolar"
                      }
                    ],
                    "carpet": [
                      {
                        "aaxis": {
                          "endlinecolor": "#2a3f5f",
                          "gridcolor": "white",
                          "linecolor": "white",
                          "minorgridcolor": "white",
                          "startlinecolor": "#2a3f5f"
                        },
                        "baxis": {
                          "endlinecolor": "#2a3f5f",
                          "gridcolor": "white",
                          "linecolor": "white",
                          "minorgridcolor": "white",
                          "startlinecolor": "#2a3f5f"
                        },
                        "type": "carpet"
                      }
                    ],
                    "choropleth": [
                      {
                        "colorbar": {
                          "outlinewidth": 0,
                          "ticks": ""
                        },
                        "type": "choropleth"
                      }
                    ],
                    "contour": [
                      {
                        "colorbar": {
                          "outlinewidth": 0,
                          "ticks": ""
                        },
                        "colorscale": [
                          [
                            0,
                            "#0d0887"
                          ],
                          [
                            0.1111111111111111,
                            "#46039f"
                          ],
                          [
                            0.2222222222222222,
                            "#7201a8"
                          ],
                          [
                            0.3333333333333333,
                            "#9c179e"
                          ],
                          [
                            0.4444444444444444,
                            "#bd3786"
                          ],
                          [
                            0.5555555555555556,
                            "#d8576b"
                          ],
                          [
                            0.6666666666666666,
                            "#ed7953"
                          ],
                          [
                            0.7777777777777778,
                            "#fb9f3a"
                          ],
                          [
                            0.8888888888888888,
                            "#fdca26"
                          ],
                          [
                            1,
                            "#f0f921"
                          ]
                        ],
                        "type": "contour"
                      }
                    ],
                    "contourcarpet": [
                      {
                        "colorbar": {
                          "outlinewidth": 0,
                          "ticks": ""
                        },
                        "type": "contourcarpet"
                      }
                    ],
                    "heatmap": [
                      {
                        "colorbar": {
                          "outlinewidth": 0,
                          "ticks": ""
                        },
                        "colorscale": [
                          [
                            0,
                            "#0d0887"
                          ],
                          [
                            0.1111111111111111,
                            "#46039f"
                          ],
                          [
                            0.2222222222222222,
                            "#7201a8"
                          ],
                          [
                            0.3333333333333333,
                            "#9c179e"
                          ],
                          [
                            0.4444444444444444,
                            "#bd3786"
                          ],
                          [
                            0.5555555555555556,
                            "#d8576b"
                          ],
                          [
                            0.6666666666666666,
                            "#ed7953"
                          ],
                          [
                            0.7777777777777778,
                            "#fb9f3a"
                          ],
                          [
                            0.8888888888888888,
                            "#fdca26"
                          ],
                          [
                            1,
                            "#f0f921"
                          ]
                        ],
                        "type": "heatmap"
                      }
                    ],
                    "histogram": [
                      {
                        "marker": {
                          "pattern": {
                            "fillmode": "overlay",
                            "size": 10,
                            "solidity": 0.2
                          }
                        },
                        "type": "histogram"
                      }
                    ],
                    "histogram2d": [
                      {
                        "colorbar": {
                          "outlinewidth": 0,
                          "ticks": ""
                        },
                        "colorscale": [
                          [
                            0,
                            "#0d0887"
                          ],
                          [
                            0.1111111111111111,
                            "#46039f"
                          ],
                          [
                            0.2222222222222222,
                            "#7201a8"
                          ],
                          [
                            0.3333333333333333,
                            "#9c179e"
                          ],
                          [
                            0.4444444444444444,
                            "#bd3786"
                          ],
                          [
                            0.5555555555555556,
                            "#d8576b"
                          ],
                          [
                            0.6666666666666666,
                            "#ed7953"
                          ],
                          [
                            0.7777777777777778,
                            "#fb9f3a"
                          ],
                          [
                            0.8888888888888888,
                            "#fdca26"
                          ],
                          [
                            1,
                            "#f0f921"
                          ]
                        ],
                        "type": "histogram2d"
                      }
                    ],
                    "histogram2dcontour": [
                      {
                        "colorbar": {
                          "outlinewidth": 0,
                          "ticks": ""
                        },
                        "colorscale": [
                          [
                            0,
                            "#0d0887"
                          ],
                          [
                            0.1111111111111111,
                            "#46039f"
                          ],
                          [
                            0.2222222222222222,
                            "#7201a8"
                          ],
                          [
                            0.3333333333333333,
                            "#9c179e"
                          ],
                          [
                            0.4444444444444444,
                            "#bd3786"
                          ],
                          [
                            0.5555555555555556,
                            "#d8576b"
                          ],
                          [
                            0.6666666666666666,
                            "#ed7953"
                          ],
                          [
                            0.7777777777777778,
                            "#fb9f3a"
                          ],
                          [
                            0.8888888888888888,
                            "#fdca26"
                          ],
                          [
                            1,
                            "#f0f921"
                          ]
                        ],
                        "type": "histogram2dcontour"
                      }
                    ],
                    "mesh3d": [
                      {
                        "colorbar": {
                          "outlinewidth": 0,
                          "ticks": ""
                        },
                        "type": "mesh3d"
                      }
                    ],
                    "parcoords": [
                      {
                        "line": {
                          "colorbar": {
                            "outlinewidth": 0,
                            "ticks": ""
                          }
                        },
                        "type": "parcoords"
                      }
                    ],
                    "pie": [
                      {
                        "automargin": true,
                        "type": "pie"
                      }
                    ],
                    "scatter": [
                      {
                        "fillpattern": {
                          "fillmode": "overlay",
                          "size": 10,
                          "solidity": 0.2
                        },
                        "type": "scatter"
                      }
                    ],
                    "scatter3d": [
                      {
                        "line": {
                          "colorbar": {
                            "outlinewidth": 0,
                            "ticks": ""
                          }
                        },
                        "marker": {
                          "colorbar": {
                            "outlinewidth": 0,
                            "ticks": ""
                          }
                        },
                        "type": "scatter3d"
                      }
                    ],
                    "scattercarpet": [
                      {
                        "marker": {
                          "colorbar": {
                            "outlinewidth": 0,
                            "ticks": ""
                          }
                        },
                        "type": "scattercarpet"
                      }
                    ],
                    "scattergeo": [
                      {
                        "marker": {
                          "colorbar": {
                            "outlinewidth": 0,
                            "ticks": ""
                          }
                        },
                        "type": "scattergeo"
                      }
                    ],
                    "scattergl": [
                      {
                        "marker": {
                          "colorbar": {
                            "outlinewidth": 0,
                            "ticks": ""
                          }
                        },
                        "type": "scattergl"
                      }
                    ],
                    "scattermap": [
                      {
                        "marker": {
                          "colorbar": {
                            "outlinewidth": 0,
                            "ticks": ""
                          }
                        },
                        "type": "scattermap"
                      }
                    ],
                    "scattermapbox": [
                      {
                        "marker": {
                          "colorbar": {
                            "outlinewidth": 0,
                            "ticks": ""
                          }
                        },
                        "type": "scattermapbox"
                      }
                    ],
                    "scatterpolar": [
                      {
                        "marker": {
                          "colorbar": {
                            "outlinewidth": 0,
                            "ticks": ""
                          }
                        },
                        "type": "scatterpolar"
                      }
                    ],
                    "scatterpolargl": [
                      {
                        "marker": {
                          "colorbar": {
                            "outlinewidth": 0,
                            "ticks": ""
                          }
                        },
                        "type": "scatterpolargl"
                      }
                    ],
                    "scatterternary": [
                      {
                        "marker": {
                          "colorbar": {
                            "outlinewidth": 0,
                            "ticks": ""
                          }
                        },
                        "type": "scatterternary"
                      }
                    ],
                    "surface": [
                      {
                        "colorbar": {
                          "outlinewidth": 0,
                          "ticks": ""
                        },
                        "colorscale": [
                          [
                            0,
                            "#0d0887"
                          ],
                          [
                            0.1111111111111111,
                            "#46039f"
                          ],
                          [
                            0.2222222222222222,
                            "#7201a8"
                          ],
                          [
                            0.3333333333333333,
                            "#9c179e"
                          ],
                          [
                            0.4444444444444444,
                            "#bd3786"
                          ],
                          [
                            0.5555555555555556,
                            "#d8576b"
                          ],
                          [
                            0.6666666666666666,
                            "#ed7953"
                          ],
                          [
                            0.7777777777777778,
                            "#fb9f3a"
                          ],
                          [
                            0.8888888888888888,
                            "#fdca26"
                          ],
                          [
                            1,
                            "#f0f921"
                          ]
                        ],
                        "type": "surface"
                      }
                    ],
                    "table": [
                      {
                        "cells": {
                          "fill": {
                            "color": "#EBF0F8"
                          },
                          "line": {
                            "color": "white"
                          }
                        },
                        "header": {
                          "fill": {
                            "color": "#C8D4E3"
                          },
                          "line": {
                            "color": "white"
                          }
                        },
                        "type": "table"
                      }
                    ]
                  },
                  "layout": {
                    "annotationdefaults": {
                      "arrowcolor": "#2a3f5f",
                      "arrowhead": 0,
                      "arrowwidth": 1
                    },
                    "autotypenumbers": "strict",
                    "coloraxis": {
                      "colorbar": {
                        "outlinewidth": 0,
                        "ticks": ""
                      }
                    },
                    "colorscale": {
                      "diverging": [
                        [
                          0,
                          "#8e0152"
                        ],
                        [
                          0.1,
                          "#c51b7d"
                        ],
                        [
                          0.2,
                          "#de77ae"
                        ],
                        [
                          0.3,
                          "#f1b6da"
                        ],
                        [
                          0.4,
                          "#fde0ef"
                        ],
                        [
                          0.5,
                          "#f7f7f7"
                        ],
                        [
                          0.6,
                          "#e6f5d0"
                        ],
                        [
                          0.7,
                          "#b8e186"
                        ],
                        [
                          0.8,
                          "#7fbc41"
                        ],
                        [
                          0.9,
                          "#4d9221"
                        ],
                        [
                          1,
                          "#276419"
                        ]
                      ],
                      "sequential": [
                        [
                          0,
                          "#0d0887"
                        ],
                        [
                          0.1111111111111111,
                          "#46039f"
                        ],
                        [
                          0.2222222222222222,
                          "#7201a8"
                        ],
                        [
                          0.3333333333333333,
                          "#9c179e"
                        ],
                        [
                          0.4444444444444444,
                          "#bd3786"
                        ],
                        [
                          0.5555555555555556,
                          "#d8576b"
                        ],
                        [
                          0.6666666666666666,
                          "#ed7953"
                        ],
                        [
                          0.7777777777777778,
                          "#fb9f3a"
                        ],
                        [
                          0.8888888888888888,
                          "#fdca26"
                        ],
                        [
                          1,
                          "#f0f921"
                        ]
                      ],
                      "sequentialminus": [
                        [
                          0,
                          "#0d0887"
                        ],
                        [
                          0.1111111111111111,
                          "#46039f"
                        ],
                        [
                          0.2222222222222222,
                          "#7201a8"
                        ],
                        [
                          0.3333333333333333,
                          "#9c179e"
                        ],
                        [
                          0.4444444444444444,
                          "#bd3786"
                        ],
                        [
                          0.5555555555555556,
                          "#d8576b"
                        ],
                        [
                          0.6666666666666666,
                          "#ed7953"
                        ],
                        [
                          0.7777777777777778,
                          "#fb9f3a"
                        ],
                        [
                          0.8888888888888888,
                          "#fdca26"
                        ],
                        [
                          1,
                          "#f0f921"
                        ]
                      ]
                    },
                    "colorway": [
                      "#636efa",
                      "#EF553B",
                      "#00cc96",
                      "#ab63fa",
                      "#FFA15A",
                      "#19d3f3",
                      "#FF6692",
                      "#B6E880",
                      "#FF97FF",
                      "#FECB52"
                    ],
                    "font": {
                      "color": "#2a3f5f"
                    },
                    "geo": {
                      "bgcolor": "white",
                      "lakecolor": "white",
                      "landcolor": "#E5ECF6",
                      "showlakes": true,
                      "showland": true,
                      "subunitcolor": "white"
                    },
                    "hoverlabel": {
                      "align": "left"
                    },
                    "hovermode": "closest",
                    "mapbox": {
                      "style": "light"
                    },
                    "paper_bgcolor": "white",
                    "plot_bgcolor": "#E5ECF6",
                    "polar": {
                      "angularaxis": {
                        "gridcolor": "white",
                        "linecolor": "white",
                        "ticks": ""
                      },
                      "bgcolor": "#E5ECF6",
                      "radialaxis": {
                        "gridcolor": "white",
                        "linecolor": "white",
                        "ticks": ""
                      }
                    },
                    "scene": {
                      "xaxis": {
                        "backgroundcolor": "#E5ECF6",
                        "gridcolor": "white",
                        "gridwidth": 2,
                        "linecolor": "white",
                        "showbackground": true,
                        "ticks": "",
                        "zerolinecolor": "white"
                      },
                      "yaxis": {
                        "backgroundcolor": "#E5ECF6",
                        "gridcolor": "white",
                        "gridwidth": 2,
                        "linecolor": "white",
                        "showbackground": true,
                        "ticks": "",
                        "zerolinecolor": "white"
                      },
                      "zaxis": {
                        "backgroundcolor": "#E5ECF6",
                        "gridcolor": "white",
                        "gridwidth": 2,
                        "linecolor": "white",
                        "showbackground": true,
                        "ticks": "",
                        "zerolinecolor": "white"
                      }
                    },
                    "shapedefaults": {
                      "line": {
                        "color": "#2a3f5f"
                      }
                    },
                    "ternary": {
                      "aaxis": {
                        "gridcolor": "white",
                        "linecolor": "white",
                        "ticks": ""
                      },
                      "baxis": {
                        "gridcolor": "white",
                        "linecolor": "white",
                        "ticks": ""
                      },
                      "bgcolor": "#E5ECF6",
                      "caxis": {
                        "gridcolor": "white",
                        "linecolor": "white",
                        "ticks": ""
                      }
                    },
                    "title": {
                      "x": 0.05
                    },
                    "xaxis": {
                      "automargin": true,
                      "gridcolor": "white",
                      "linecolor": "white",
                      "ticks": "",
                      "title": {
                        "standoff": 15
                      },
                      "zerolinecolor": "white",
                      "zerolinewidth": 2
                    },
                    "yaxis": {
                      "automargin": true,
                      "gridcolor": "white",
                      "linecolor": "white",
                      "ticks": "",
                      "title": {
                        "standoff": 15
                      },
                      "zerolinecolor": "white",
                      "zerolinewidth": 2
                    }
                  }
                },
                "title": {
                  "text": "Average Volatility and Returns by Portfolio Size"
                },
                "xaxis": {
                  "title": {
                    "text": "Number of Assets in Portfolio"
                  },
                  "type": "category"
                },
                "yaxis": {
                  "title": {
                    "text": "Average Value"
                  }
                }
              }
            }
          },
          "metadata": {},
          "output_type": "display_data"
        }
      ],
      "source": [
        "rd_portfolio_sizes = [len(portfolio['tickers']) for portfolio in all_portfolios]\n",
        "rd_volatility = [np.sqrt(portfolio['variance']) for portfolio in all_portfolios]\n",
        "rd_returns = [portfolio['return'] for portfolio in all_portfolios]\n",
        "\n",
        "volatility_by_size = defaultdict(list)\n",
        "for size, vol, ret in zip(rd_portfolio_sizes, rd_volatility, rd_returns):\n",
        "    volatility_by_size[size].append((vol, ret))\n",
        "\n",
        "average_volatility = {size: np.mean([v[0] for v in vols]) for size, vols in volatility_by_size.items()}\n",
        "average_returns = {size: np.mean([v[1] for v in vols]) for size, vols in volatility_by_size.items()}\n",
        "\n",
        "sorted_sizes = sorted(average_volatility.keys())\n",
        "sorted_average_vols = [average_volatility[size] for size in sorted_sizes]\n",
        "sorted_average_rets = [average_returns[size] for size in sorted_sizes]\n",
        "\n",
        "fig = go.Figure()\n",
        "fig.add_trace(go.Scatter(\n",
        "    x=sorted_sizes,\n",
        "    y=sorted_average_vols,\n",
        "    mode='lines',\n",
        "    name='Average Volatility'\n",
        "))\n",
        "fig.add_trace(go.Scatter(\n",
        "    x=sorted_sizes,\n",
        "    y=sorted_average_rets,\n",
        "    mode='lines',\n",
        "    name='Average Returns'\n",
        "))\n",
        "\n",
        "fig.update_layout(\n",
        "    title='Average Volatility and Returns by Portfolio Size',\n",
        "    xaxis_title='Number of Assets in Portfolio',\n",
        "    yaxis_title='Average Value',\n",
        "    xaxis=dict(type='category'),\n",
        ")\n",
        "\n",
        "fig.show()\n"
      ]
    },
    {
      "cell_type": "markdown",
      "metadata": {},
      "source": [
        "## 7.0 Testing Against Others"
      ]
    },
    {
      "cell_type": "code",
      "execution_count": 64,
      "metadata": {},
      "outputs": [
        {
          "name": "stderr",
          "output_type": "stream",
          "text": [
            "[*********************100%***********************]  1 of 1 completed"
          ]
        },
        {
          "name": "stdout",
          "output_type": "stream",
          "text": [
            "Omitted assets ( 0 ):  []\n",
            "Time to fetch data: 0.08 seconds\n"
          ]
        },
        {
          "name": "stderr",
          "output_type": "stream",
          "text": [
            "\n"
          ]
        },
        {
          "data": {
            "application/vnd.plotly.v1+json": {
              "config": {
                "plotlyServerURL": "https://plot.ly"
              },
              "data": [
                {
                  "mode": "lines",
                  "name": "Nasdaq Composite",
                  "type": "scatter",
                  "x": [
                    "2017-08-01T00:00:00.000000000",
                    "2017-08-02T00:00:00.000000000",
                    "2017-08-03T00:00:00.000000000",
                    "2017-08-04T00:00:00.000000000",
                    "2017-08-07T00:00:00.000000000",
                    "2017-08-08T00:00:00.000000000",
                    "2017-08-09T00:00:00.000000000",
                    "2017-08-10T00:00:00.000000000",
                    "2017-08-11T00:00:00.000000000",
                    "2017-08-14T00:00:00.000000000",
                    "2017-08-15T00:00:00.000000000",
                    "2017-08-16T00:00:00.000000000",
                    "2017-08-17T00:00:00.000000000",
                    "2017-08-18T00:00:00.000000000",
                    "2017-08-21T00:00:00.000000000",
                    "2017-08-22T00:00:00.000000000",
                    "2017-08-23T00:00:00.000000000",
                    "2017-08-24T00:00:00.000000000",
                    "2017-08-25T00:00:00.000000000",
                    "2017-08-28T00:00:00.000000000",
                    "2017-08-29T00:00:00.000000000",
                    "2017-08-30T00:00:00.000000000",
                    "2017-08-31T00:00:00.000000000",
                    "2017-09-01T00:00:00.000000000",
                    "2017-09-05T00:00:00.000000000",
                    "2017-09-06T00:00:00.000000000",
                    "2017-09-07T00:00:00.000000000",
                    "2017-09-08T00:00:00.000000000",
                    "2017-09-11T00:00:00.000000000",
                    "2017-09-12T00:00:00.000000000",
                    "2017-09-13T00:00:00.000000000",
                    "2017-09-14T00:00:00.000000000",
                    "2017-09-15T00:00:00.000000000",
                    "2017-09-18T00:00:00.000000000",
                    "2017-09-19T00:00:00.000000000",
                    "2017-09-20T00:00:00.000000000",
                    "2017-09-21T00:00:00.000000000",
                    "2017-09-22T00:00:00.000000000",
                    "2017-09-25T00:00:00.000000000",
                    "2017-09-26T00:00:00.000000000",
                    "2017-09-27T00:00:00.000000000",
                    "2017-09-28T00:00:00.000000000",
                    "2017-09-29T00:00:00.000000000",
                    "2017-10-02T00:00:00.000000000",
                    "2017-10-03T00:00:00.000000000",
                    "2017-10-04T00:00:00.000000000",
                    "2017-10-05T00:00:00.000000000",
                    "2017-10-06T00:00:00.000000000",
                    "2017-10-09T00:00:00.000000000",
                    "2017-10-10T00:00:00.000000000",
                    "2017-10-11T00:00:00.000000000",
                    "2017-10-12T00:00:00.000000000",
                    "2017-10-13T00:00:00.000000000",
                    "2017-10-16T00:00:00.000000000",
                    "2017-10-17T00:00:00.000000000",
                    "2017-10-18T00:00:00.000000000",
                    "2017-10-19T00:00:00.000000000",
                    "2017-10-20T00:00:00.000000000",
                    "2017-10-23T00:00:00.000000000",
                    "2017-10-24T00:00:00.000000000",
                    "2017-10-25T00:00:00.000000000",
                    "2017-10-26T00:00:00.000000000",
                    "2017-10-27T00:00:00.000000000",
                    "2017-10-30T00:00:00.000000000",
                    "2017-10-31T00:00:00.000000000",
                    "2017-11-01T00:00:00.000000000",
                    "2017-11-02T00:00:00.000000000",
                    "2017-11-03T00:00:00.000000000",
                    "2017-11-06T00:00:00.000000000",
                    "2017-11-07T00:00:00.000000000",
                    "2017-11-08T00:00:00.000000000",
                    "2017-11-09T00:00:00.000000000",
                    "2017-11-10T00:00:00.000000000",
                    "2017-11-13T00:00:00.000000000",
                    "2017-11-14T00:00:00.000000000",
                    "2017-11-15T00:00:00.000000000",
                    "2017-11-16T00:00:00.000000000",
                    "2017-11-17T00:00:00.000000000",
                    "2017-11-20T00:00:00.000000000",
                    "2017-11-21T00:00:00.000000000",
                    "2017-11-22T00:00:00.000000000",
                    "2017-11-24T00:00:00.000000000",
                    "2017-11-27T00:00:00.000000000",
                    "2017-11-28T00:00:00.000000000",
                    "2017-11-29T00:00:00.000000000",
                    "2017-11-30T00:00:00.000000000",
                    "2017-12-01T00:00:00.000000000",
                    "2017-12-04T00:00:00.000000000",
                    "2017-12-05T00:00:00.000000000",
                    "2017-12-06T00:00:00.000000000",
                    "2017-12-07T00:00:00.000000000",
                    "2017-12-08T00:00:00.000000000",
                    "2017-12-11T00:00:00.000000000",
                    "2017-12-12T00:00:00.000000000",
                    "2017-12-13T00:00:00.000000000",
                    "2017-12-14T00:00:00.000000000",
                    "2017-12-15T00:00:00.000000000",
                    "2017-12-18T00:00:00.000000000",
                    "2017-12-19T00:00:00.000000000",
                    "2017-12-20T00:00:00.000000000",
                    "2017-12-21T00:00:00.000000000",
                    "2017-12-22T00:00:00.000000000",
                    "2017-12-26T00:00:00.000000000",
                    "2017-12-27T00:00:00.000000000",
                    "2017-12-28T00:00:00.000000000"
                  ],
                  "y": {
                    "bdata": "AAAAAAAAWUBcYUpRtf9YQJoubK1E6VhAF/08yI30WEDBmPOO8xRZQDdyblaQB1lAJqYoDlT1WED3IV9UFG1YQBq1OyIAlVhAVbh8YyjpWEApKH4/5eFYQPsVKuoQ7lhAnGouGCZyWECaDneyvGxYQPNKtEBRaVhAVr6VpSi+WEDQGohW+qpYQEM4B0jbo1hAz7YlLCKeWEAxFyRWna9YQIsL9ziYwlhACmLNwWYFWUCJX8FdGkJZQDEzs8/PSFlAY7bkFLQMWUCCZ28IjB5ZQLylCDUiI1lAKHVP5jv9WEBd0r47uUVZQHlm5zDfW1lACovXANFhWUDSsQp+hkJZQFYrXEcHVllANbdz+jtcWUBGzh/w82JZQLNbzXCkXVlA1oLkFhk8WUCrp39FWkBZQN0lAsixB1lA9isMDVIRWUCEmY6L2FpZQNy7PpQJW1lAXNVydsuFWUCYcr8KrZpZQE3iacTAqVlAipv2nrCsWUDL1N0it99ZQOMwzlKQ5FlAdgvpfQ3aWUCtfVfUneFZQPxYEOIC8llASSNRrublWUAKnOY8RvRZQDMaA6CUBlpAaL1KHj0GWkBQvRFUzQZaQLptQ0aK81lAPqaM56gLWkBiKw60MeFZQGrR35/c7FlAMv3B3x7KWUDln/iB9cJZQBGxeVJKVFpA3a+gJPpRWkABVV+z2m5aQAV8HzemY1pAwGtF2AxiWkDmLq+m1pNaQKSFM3T3qVpAbzqFoTKXWkD0FD2TqaxaQEmD5FFdhVpAl5yphUKGWkDYLOFz9YxaQIpW1ygdeVpAz8D980RZWkCqgetK27BaQBaeA6NLplpAOCUX8kKuWkBhoBYVc/ZaQAb+w5tb+1pAlqUN/UgRW0BjFKg/lQZbQBM7gbSeKFtAexf+SSPQWkAh0Pi2AQJbQPiscQF551pAv17KEtWeWkA5KX1zmJFaQLkxORTZn1pAmy8vMYXEWkC6NO1O699aQPzVnH4fA1tAYbX010n2WkBSClbR2ANbQA4B3vV28FpAFVR9MftAW0B0Tfzwf3tbQPrZmfpoXFtAhKFry4BZW0DA9OK67V1bQPERt01/WFtAsTp/M6ZAW0BTIujOwUNbQOTbE/GjTltA",
                    "dtype": "f8"
                  }
                },
                {
                  "mode": "lines",
                  "name": "Portfolio Growth",
                  "type": "scatter",
                  "x": [
                    "2017-08-01T00:00:00.000000000",
                    "2017-08-02T00:00:00.000000000",
                    "2017-08-03T00:00:00.000000000",
                    "2017-08-04T00:00:00.000000000",
                    "2017-08-07T00:00:00.000000000",
                    "2017-08-08T00:00:00.000000000",
                    "2017-08-09T00:00:00.000000000",
                    "2017-08-10T00:00:00.000000000",
                    "2017-08-11T00:00:00.000000000",
                    "2017-08-14T00:00:00.000000000",
                    "2017-08-15T00:00:00.000000000",
                    "2017-08-16T00:00:00.000000000",
                    "2017-08-17T00:00:00.000000000",
                    "2017-08-18T00:00:00.000000000",
                    "2017-08-21T00:00:00.000000000",
                    "2017-08-22T00:00:00.000000000",
                    "2017-08-23T00:00:00.000000000",
                    "2017-08-24T00:00:00.000000000",
                    "2017-08-25T00:00:00.000000000",
                    "2017-08-28T00:00:00.000000000",
                    "2017-08-29T00:00:00.000000000",
                    "2017-08-30T00:00:00.000000000",
                    "2017-08-31T00:00:00.000000000",
                    "2017-09-01T00:00:00.000000000",
                    "2017-09-05T00:00:00.000000000",
                    "2017-09-06T00:00:00.000000000",
                    "2017-09-07T00:00:00.000000000",
                    "2017-09-08T00:00:00.000000000",
                    "2017-09-11T00:00:00.000000000",
                    "2017-09-12T00:00:00.000000000",
                    "2017-09-13T00:00:00.000000000",
                    "2017-09-14T00:00:00.000000000",
                    "2017-09-15T00:00:00.000000000",
                    "2017-09-18T00:00:00.000000000",
                    "2017-09-19T00:00:00.000000000",
                    "2017-09-20T00:00:00.000000000",
                    "2017-09-21T00:00:00.000000000",
                    "2017-09-22T00:00:00.000000000",
                    "2017-09-25T00:00:00.000000000",
                    "2017-09-26T00:00:00.000000000",
                    "2017-09-27T00:00:00.000000000",
                    "2017-09-28T00:00:00.000000000",
                    "2017-09-29T00:00:00.000000000",
                    "2017-10-02T00:00:00.000000000",
                    "2017-10-03T00:00:00.000000000",
                    "2017-10-04T00:00:00.000000000",
                    "2017-10-05T00:00:00.000000000",
                    "2017-10-06T00:00:00.000000000",
                    "2017-10-09T00:00:00.000000000",
                    "2017-10-10T00:00:00.000000000",
                    "2017-10-11T00:00:00.000000000",
                    "2017-10-12T00:00:00.000000000",
                    "2017-10-13T00:00:00.000000000",
                    "2017-10-16T00:00:00.000000000",
                    "2017-10-17T00:00:00.000000000",
                    "2017-10-18T00:00:00.000000000",
                    "2017-10-19T00:00:00.000000000",
                    "2017-10-20T00:00:00.000000000",
                    "2017-10-23T00:00:00.000000000",
                    "2017-10-24T00:00:00.000000000",
                    "2017-10-25T00:00:00.000000000",
                    "2017-10-26T00:00:00.000000000",
                    "2017-10-27T00:00:00.000000000",
                    "2017-10-30T00:00:00.000000000",
                    "2017-10-31T00:00:00.000000000",
                    "2017-11-01T00:00:00.000000000",
                    "2017-11-02T00:00:00.000000000",
                    "2017-11-03T00:00:00.000000000",
                    "2017-11-06T00:00:00.000000000",
                    "2017-11-07T00:00:00.000000000",
                    "2017-11-08T00:00:00.000000000",
                    "2017-11-09T00:00:00.000000000",
                    "2017-11-10T00:00:00.000000000",
                    "2017-11-13T00:00:00.000000000",
                    "2017-11-14T00:00:00.000000000",
                    "2017-11-15T00:00:00.000000000",
                    "2017-11-16T00:00:00.000000000",
                    "2017-11-17T00:00:00.000000000",
                    "2017-11-20T00:00:00.000000000",
                    "2017-11-21T00:00:00.000000000",
                    "2017-11-22T00:00:00.000000000",
                    "2017-11-24T00:00:00.000000000",
                    "2017-11-27T00:00:00.000000000",
                    "2017-11-28T00:00:00.000000000",
                    "2017-11-29T00:00:00.000000000",
                    "2017-11-30T00:00:00.000000000",
                    "2017-12-01T00:00:00.000000000",
                    "2017-12-04T00:00:00.000000000",
                    "2017-12-05T00:00:00.000000000",
                    "2017-12-06T00:00:00.000000000",
                    "2017-12-07T00:00:00.000000000",
                    "2017-12-08T00:00:00.000000000",
                    "2017-12-11T00:00:00.000000000",
                    "2017-12-12T00:00:00.000000000",
                    "2017-12-13T00:00:00.000000000",
                    "2017-12-14T00:00:00.000000000",
                    "2017-12-15T00:00:00.000000000",
                    "2017-12-18T00:00:00.000000000",
                    "2017-12-19T00:00:00.000000000",
                    "2017-12-20T00:00:00.000000000",
                    "2017-12-21T00:00:00.000000000",
                    "2017-12-22T00:00:00.000000000",
                    "2017-12-26T00:00:00.000000000",
                    "2017-12-27T00:00:00.000000000",
                    "2017-12-28T00:00:00.000000000",
                    "2017-12-29T00:00:00.000000000"
                  ],
                  "y": {
                    "bdata": "AAAAAAAAWUAZ7i+x1wNZQJB6Z4YeC1lA4znMuMXyWEAQom2uQi5ZQGPSsLDtJVlA7KdL2IInWUDvc1wrPwNZQNAxFcKjEllAA0oifR5FWUCb03JZOnRZQO7ZA8wvkllAmIWwgPpoWUCdlTIqbYpZQEg57/K2o1lAhEwrS/DrWUBcHAEfqtVZQDV8rWEowFlAzTHmxGyvWUD+s9ZUlLJZQJjOOeb5vVlAayMaV83ZWUCuGIDk2+NZQBTm9lyq4FlAiW53dD/iWUA0mHtsfbZZQBKcmubY8VlAQBW51FHSWUBy6/A/hCxaQGJQFBYf8VlAfTim+yr+WUDG/OCZGg5aQLcDp8v/JFpAdh30UdEmWkDCPQ92qSVaQNOE+UBnKFpAcexYacINWkAjcb4hpwRaQGsP7eVFvVlA20FJcT6nWUC31sJOWLBZQPngB9Goy1lAFsSGGVTRWUAiat7gIu5ZQJ9BfpTKFlpA0L0WGz04WkASEiIYtUlaQHCfpIEYSFpADzgwjvlkWkCE7eBf461aQGJQaIzh9lpArjsj43UAW0AFex10hABbQD08QBQP9VpAP+6HG7QDW0CkL9LpWhxbQOV3hTOPNFtAbJVnBsJmW0Cun76Mak1bQMaXWzIdTFtA2BEwF4IkW0Atd3vBKCBbQNGXYlixZFtAX5dy6a51W0A+icUSlX5bQF+WJVoWb1tA8HdwDwVmW0BV+GAzwqBbQPM+Wfu6rltAlM8FZCX/W0B1w3hVb/VbQGO1qcp81ltA/yeTG0fPW0CSlqPxl/RbQJojKP59AFxALAtbQjreW0DJRzXXcWpcQCUUL8P0LVxAkGsVuNk9XEAXtJN3dWBcQK8MwPrDV1xAfasIxMhxXEB3rsgUpX5cQBoxPwn6nlxA1DaLxsRyXECrj29MSJdcQE8kBHbfdFxADFgVub8SXEDCsw74ax9cQAKkTWN9ZlxA94o5fGKCXEDjI4KZu6dcQGc3fweno1xAxWzxxT91XEBK1yWwaZdcQEr6fI62d1xAo7pYVgGmXEC2dbUpUZlcQJlFNWW5bVxACgvdkNRjXEBV/kuEt2VcQA07CqFIbFxA496OrxBiXEDsCmNP9IlcQLtlqVbpnFxANBkdsCp+XEA=",
                    "dtype": "f8"
                  }
                }
              ],
              "layout": {
                "template": {
                  "data": {
                    "bar": [
                      {
                        "error_x": {
                          "color": "#2a3f5f"
                        },
                        "error_y": {
                          "color": "#2a3f5f"
                        },
                        "marker": {
                          "line": {
                            "color": "#E5ECF6",
                            "width": 0.5
                          },
                          "pattern": {
                            "fillmode": "overlay",
                            "size": 10,
                            "solidity": 0.2
                          }
                        },
                        "type": "bar"
                      }
                    ],
                    "barpolar": [
                      {
                        "marker": {
                          "line": {
                            "color": "#E5ECF6",
                            "width": 0.5
                          },
                          "pattern": {
                            "fillmode": "overlay",
                            "size": 10,
                            "solidity": 0.2
                          }
                        },
                        "type": "barpolar"
                      }
                    ],
                    "carpet": [
                      {
                        "aaxis": {
                          "endlinecolor": "#2a3f5f",
                          "gridcolor": "white",
                          "linecolor": "white",
                          "minorgridcolor": "white",
                          "startlinecolor": "#2a3f5f"
                        },
                        "baxis": {
                          "endlinecolor": "#2a3f5f",
                          "gridcolor": "white",
                          "linecolor": "white",
                          "minorgridcolor": "white",
                          "startlinecolor": "#2a3f5f"
                        },
                        "type": "carpet"
                      }
                    ],
                    "choropleth": [
                      {
                        "colorbar": {
                          "outlinewidth": 0,
                          "ticks": ""
                        },
                        "type": "choropleth"
                      }
                    ],
                    "contour": [
                      {
                        "colorbar": {
                          "outlinewidth": 0,
                          "ticks": ""
                        },
                        "colorscale": [
                          [
                            0,
                            "#0d0887"
                          ],
                          [
                            0.1111111111111111,
                            "#46039f"
                          ],
                          [
                            0.2222222222222222,
                            "#7201a8"
                          ],
                          [
                            0.3333333333333333,
                            "#9c179e"
                          ],
                          [
                            0.4444444444444444,
                            "#bd3786"
                          ],
                          [
                            0.5555555555555556,
                            "#d8576b"
                          ],
                          [
                            0.6666666666666666,
                            "#ed7953"
                          ],
                          [
                            0.7777777777777778,
                            "#fb9f3a"
                          ],
                          [
                            0.8888888888888888,
                            "#fdca26"
                          ],
                          [
                            1,
                            "#f0f921"
                          ]
                        ],
                        "type": "contour"
                      }
                    ],
                    "contourcarpet": [
                      {
                        "colorbar": {
                          "outlinewidth": 0,
                          "ticks": ""
                        },
                        "type": "contourcarpet"
                      }
                    ],
                    "heatmap": [
                      {
                        "colorbar": {
                          "outlinewidth": 0,
                          "ticks": ""
                        },
                        "colorscale": [
                          [
                            0,
                            "#0d0887"
                          ],
                          [
                            0.1111111111111111,
                            "#46039f"
                          ],
                          [
                            0.2222222222222222,
                            "#7201a8"
                          ],
                          [
                            0.3333333333333333,
                            "#9c179e"
                          ],
                          [
                            0.4444444444444444,
                            "#bd3786"
                          ],
                          [
                            0.5555555555555556,
                            "#d8576b"
                          ],
                          [
                            0.6666666666666666,
                            "#ed7953"
                          ],
                          [
                            0.7777777777777778,
                            "#fb9f3a"
                          ],
                          [
                            0.8888888888888888,
                            "#fdca26"
                          ],
                          [
                            1,
                            "#f0f921"
                          ]
                        ],
                        "type": "heatmap"
                      }
                    ],
                    "histogram": [
                      {
                        "marker": {
                          "pattern": {
                            "fillmode": "overlay",
                            "size": 10,
                            "solidity": 0.2
                          }
                        },
                        "type": "histogram"
                      }
                    ],
                    "histogram2d": [
                      {
                        "colorbar": {
                          "outlinewidth": 0,
                          "ticks": ""
                        },
                        "colorscale": [
                          [
                            0,
                            "#0d0887"
                          ],
                          [
                            0.1111111111111111,
                            "#46039f"
                          ],
                          [
                            0.2222222222222222,
                            "#7201a8"
                          ],
                          [
                            0.3333333333333333,
                            "#9c179e"
                          ],
                          [
                            0.4444444444444444,
                            "#bd3786"
                          ],
                          [
                            0.5555555555555556,
                            "#d8576b"
                          ],
                          [
                            0.6666666666666666,
                            "#ed7953"
                          ],
                          [
                            0.7777777777777778,
                            "#fb9f3a"
                          ],
                          [
                            0.8888888888888888,
                            "#fdca26"
                          ],
                          [
                            1,
                            "#f0f921"
                          ]
                        ],
                        "type": "histogram2d"
                      }
                    ],
                    "histogram2dcontour": [
                      {
                        "colorbar": {
                          "outlinewidth": 0,
                          "ticks": ""
                        },
                        "colorscale": [
                          [
                            0,
                            "#0d0887"
                          ],
                          [
                            0.1111111111111111,
                            "#46039f"
                          ],
                          [
                            0.2222222222222222,
                            "#7201a8"
                          ],
                          [
                            0.3333333333333333,
                            "#9c179e"
                          ],
                          [
                            0.4444444444444444,
                            "#bd3786"
                          ],
                          [
                            0.5555555555555556,
                            "#d8576b"
                          ],
                          [
                            0.6666666666666666,
                            "#ed7953"
                          ],
                          [
                            0.7777777777777778,
                            "#fb9f3a"
                          ],
                          [
                            0.8888888888888888,
                            "#fdca26"
                          ],
                          [
                            1,
                            "#f0f921"
                          ]
                        ],
                        "type": "histogram2dcontour"
                      }
                    ],
                    "mesh3d": [
                      {
                        "colorbar": {
                          "outlinewidth": 0,
                          "ticks": ""
                        },
                        "type": "mesh3d"
                      }
                    ],
                    "parcoords": [
                      {
                        "line": {
                          "colorbar": {
                            "outlinewidth": 0,
                            "ticks": ""
                          }
                        },
                        "type": "parcoords"
                      }
                    ],
                    "pie": [
                      {
                        "automargin": true,
                        "type": "pie"
                      }
                    ],
                    "scatter": [
                      {
                        "fillpattern": {
                          "fillmode": "overlay",
                          "size": 10,
                          "solidity": 0.2
                        },
                        "type": "scatter"
                      }
                    ],
                    "scatter3d": [
                      {
                        "line": {
                          "colorbar": {
                            "outlinewidth": 0,
                            "ticks": ""
                          }
                        },
                        "marker": {
                          "colorbar": {
                            "outlinewidth": 0,
                            "ticks": ""
                          }
                        },
                        "type": "scatter3d"
                      }
                    ],
                    "scattercarpet": [
                      {
                        "marker": {
                          "colorbar": {
                            "outlinewidth": 0,
                            "ticks": ""
                          }
                        },
                        "type": "scattercarpet"
                      }
                    ],
                    "scattergeo": [
                      {
                        "marker": {
                          "colorbar": {
                            "outlinewidth": 0,
                            "ticks": ""
                          }
                        },
                        "type": "scattergeo"
                      }
                    ],
                    "scattergl": [
                      {
                        "marker": {
                          "colorbar": {
                            "outlinewidth": 0,
                            "ticks": ""
                          }
                        },
                        "type": "scattergl"
                      }
                    ],
                    "scattermap": [
                      {
                        "marker": {
                          "colorbar": {
                            "outlinewidth": 0,
                            "ticks": ""
                          }
                        },
                        "type": "scattermap"
                      }
                    ],
                    "scattermapbox": [
                      {
                        "marker": {
                          "colorbar": {
                            "outlinewidth": 0,
                            "ticks": ""
                          }
                        },
                        "type": "scattermapbox"
                      }
                    ],
                    "scatterpolar": [
                      {
                        "marker": {
                          "colorbar": {
                            "outlinewidth": 0,
                            "ticks": ""
                          }
                        },
                        "type": "scatterpolar"
                      }
                    ],
                    "scatterpolargl": [
                      {
                        "marker": {
                          "colorbar": {
                            "outlinewidth": 0,
                            "ticks": ""
                          }
                        },
                        "type": "scatterpolargl"
                      }
                    ],
                    "scatterternary": [
                      {
                        "marker": {
                          "colorbar": {
                            "outlinewidth": 0,
                            "ticks": ""
                          }
                        },
                        "type": "scatterternary"
                      }
                    ],
                    "surface": [
                      {
                        "colorbar": {
                          "outlinewidth": 0,
                          "ticks": ""
                        },
                        "colorscale": [
                          [
                            0,
                            "#0d0887"
                          ],
                          [
                            0.1111111111111111,
                            "#46039f"
                          ],
                          [
                            0.2222222222222222,
                            "#7201a8"
                          ],
                          [
                            0.3333333333333333,
                            "#9c179e"
                          ],
                          [
                            0.4444444444444444,
                            "#bd3786"
                          ],
                          [
                            0.5555555555555556,
                            "#d8576b"
                          ],
                          [
                            0.6666666666666666,
                            "#ed7953"
                          ],
                          [
                            0.7777777777777778,
                            "#fb9f3a"
                          ],
                          [
                            0.8888888888888888,
                            "#fdca26"
                          ],
                          [
                            1,
                            "#f0f921"
                          ]
                        ],
                        "type": "surface"
                      }
                    ],
                    "table": [
                      {
                        "cells": {
                          "fill": {
                            "color": "#EBF0F8"
                          },
                          "line": {
                            "color": "white"
                          }
                        },
                        "header": {
                          "fill": {
                            "color": "#C8D4E3"
                          },
                          "line": {
                            "color": "white"
                          }
                        },
                        "type": "table"
                      }
                    ]
                  },
                  "layout": {
                    "annotationdefaults": {
                      "arrowcolor": "#2a3f5f",
                      "arrowhead": 0,
                      "arrowwidth": 1
                    },
                    "autotypenumbers": "strict",
                    "coloraxis": {
                      "colorbar": {
                        "outlinewidth": 0,
                        "ticks": ""
                      }
                    },
                    "colorscale": {
                      "diverging": [
                        [
                          0,
                          "#8e0152"
                        ],
                        [
                          0.1,
                          "#c51b7d"
                        ],
                        [
                          0.2,
                          "#de77ae"
                        ],
                        [
                          0.3,
                          "#f1b6da"
                        ],
                        [
                          0.4,
                          "#fde0ef"
                        ],
                        [
                          0.5,
                          "#f7f7f7"
                        ],
                        [
                          0.6,
                          "#e6f5d0"
                        ],
                        [
                          0.7,
                          "#b8e186"
                        ],
                        [
                          0.8,
                          "#7fbc41"
                        ],
                        [
                          0.9,
                          "#4d9221"
                        ],
                        [
                          1,
                          "#276419"
                        ]
                      ],
                      "sequential": [
                        [
                          0,
                          "#0d0887"
                        ],
                        [
                          0.1111111111111111,
                          "#46039f"
                        ],
                        [
                          0.2222222222222222,
                          "#7201a8"
                        ],
                        [
                          0.3333333333333333,
                          "#9c179e"
                        ],
                        [
                          0.4444444444444444,
                          "#bd3786"
                        ],
                        [
                          0.5555555555555556,
                          "#d8576b"
                        ],
                        [
                          0.6666666666666666,
                          "#ed7953"
                        ],
                        [
                          0.7777777777777778,
                          "#fb9f3a"
                        ],
                        [
                          0.8888888888888888,
                          "#fdca26"
                        ],
                        [
                          1,
                          "#f0f921"
                        ]
                      ],
                      "sequentialminus": [
                        [
                          0,
                          "#0d0887"
                        ],
                        [
                          0.1111111111111111,
                          "#46039f"
                        ],
                        [
                          0.2222222222222222,
                          "#7201a8"
                        ],
                        [
                          0.3333333333333333,
                          "#9c179e"
                        ],
                        [
                          0.4444444444444444,
                          "#bd3786"
                        ],
                        [
                          0.5555555555555556,
                          "#d8576b"
                        ],
                        [
                          0.6666666666666666,
                          "#ed7953"
                        ],
                        [
                          0.7777777777777778,
                          "#fb9f3a"
                        ],
                        [
                          0.8888888888888888,
                          "#fdca26"
                        ],
                        [
                          1,
                          "#f0f921"
                        ]
                      ]
                    },
                    "colorway": [
                      "#636efa",
                      "#EF553B",
                      "#00cc96",
                      "#ab63fa",
                      "#FFA15A",
                      "#19d3f3",
                      "#FF6692",
                      "#B6E880",
                      "#FF97FF",
                      "#FECB52"
                    ],
                    "font": {
                      "color": "#2a3f5f"
                    },
                    "geo": {
                      "bgcolor": "white",
                      "lakecolor": "white",
                      "landcolor": "#E5ECF6",
                      "showlakes": true,
                      "showland": true,
                      "subunitcolor": "white"
                    },
                    "hoverlabel": {
                      "align": "left"
                    },
                    "hovermode": "closest",
                    "mapbox": {
                      "style": "light"
                    },
                    "paper_bgcolor": "white",
                    "plot_bgcolor": "#E5ECF6",
                    "polar": {
                      "angularaxis": {
                        "gridcolor": "white",
                        "linecolor": "white",
                        "ticks": ""
                      },
                      "bgcolor": "#E5ECF6",
                      "radialaxis": {
                        "gridcolor": "white",
                        "linecolor": "white",
                        "ticks": ""
                      }
                    },
                    "scene": {
                      "xaxis": {
                        "backgroundcolor": "#E5ECF6",
                        "gridcolor": "white",
                        "gridwidth": 2,
                        "linecolor": "white",
                        "showbackground": true,
                        "ticks": "",
                        "zerolinecolor": "white"
                      },
                      "yaxis": {
                        "backgroundcolor": "#E5ECF6",
                        "gridcolor": "white",
                        "gridwidth": 2,
                        "linecolor": "white",
                        "showbackground": true,
                        "ticks": "",
                        "zerolinecolor": "white"
                      },
                      "zaxis": {
                        "backgroundcolor": "#E5ECF6",
                        "gridcolor": "white",
                        "gridwidth": 2,
                        "linecolor": "white",
                        "showbackground": true,
                        "ticks": "",
                        "zerolinecolor": "white"
                      }
                    },
                    "shapedefaults": {
                      "line": {
                        "color": "#2a3f5f"
                      }
                    },
                    "ternary": {
                      "aaxis": {
                        "gridcolor": "white",
                        "linecolor": "white",
                        "ticks": ""
                      },
                      "baxis": {
                        "gridcolor": "white",
                        "linecolor": "white",
                        "ticks": ""
                      },
                      "bgcolor": "#E5ECF6",
                      "caxis": {
                        "gridcolor": "white",
                        "linecolor": "white",
                        "ticks": ""
                      }
                    },
                    "title": {
                      "x": 0.05
                    },
                    "xaxis": {
                      "automargin": true,
                      "gridcolor": "white",
                      "linecolor": "white",
                      "ticks": "",
                      "title": {
                        "standoff": 15
                      },
                      "zerolinecolor": "white",
                      "zerolinewidth": 2
                    },
                    "yaxis": {
                      "automargin": true,
                      "gridcolor": "white",
                      "linecolor": "white",
                      "ticks": "",
                      "title": {
                        "standoff": 15
                      },
                      "zerolinecolor": "white",
                      "zerolinewidth": 2
                    }
                  }
                },
                "title": {
                  "text": "Comparison of Portfolio vs. Nasdaq Composite Growth"
                },
                "xaxis": {
                  "tickformat": "%b %Y",
                  "tickmode": "auto",
                  "title": {
                    "text": "Date"
                  },
                  "type": "date"
                },
                "yaxis": {
                  "title": {
                    "text": "Normalized Value (Base 100)"
                  }
                }
              }
            }
          },
          "metadata": {},
          "output_type": "display_data"
        }
      ],
      "source": [
        "best_port_assets = best_portfolio['tickers']\n",
        "best_port_assets_test_data = raw_data_test.loc[:, best_port_assets]\n",
        "\n",
        "Nasdaq_comp, asset_errors, max_combination = fetch_raw_data_yf([\"^IXIC\"], best_port_assets_test_data.index[0], best_port_assets_test_data.index[-1])\n",
        "nasdaq_start = Nasdaq_comp['^IXIC_Close'].iloc[0]\n",
        "Nasdaq_comp['Normalized'] = (Nasdaq_comp['^IXIC_Close'] / nasdaq_start) * 100\n",
        "\n",
        "best_portfolio_weights = best_portfolio['weights']\n",
        "daily_returns = best_port_assets_test_data.pct_change()\n",
        "weighted_returns = daily_returns.mul(best_portfolio_weights, axis='columns')\n",
        "portfolio_daily_returns = weighted_returns.sum(axis=1)\n",
        "portfolio_cumulative_returns = (1 + portfolio_daily_returns).cumprod()\n",
        "\n",
        "portfolio_start = portfolio_cumulative_returns.iloc[0]\n",
        "portfolio_normalized = (portfolio_cumulative_returns / portfolio_start) * 100\n",
        "\n",
        "fig = go.Figure()\n",
        "\n",
        "fig.add_trace(go.Scatter(\n",
        "    x=Nasdaq_comp.index,\n",
        "    y=Nasdaq_comp['Normalized'],\n",
        "    mode='lines',\n",
        "    name='Nasdaq Composite'\n",
        "))\n",
        "\n",
        "fig.add_trace(go.Scatter(\n",
        "    x=portfolio_cumulative_returns.index,\n",
        "    y=portfolio_normalized,\n",
        "    mode='lines',\n",
        "    name='Portfolio Growth'\n",
        "))\n",
        "\n",
        "fig.update_layout(\n",
        "    title='Comparison of Portfolio vs. Nasdaq Composite Growth',\n",
        "    xaxis_title='Date',\n",
        "    yaxis_title='Normalized Value (Base 100)',\n",
        "    xaxis=dict(\n",
        "        type='date',\n",
        "        tickformat='%b %Y',\n",
        "        tickmode='auto'\n",
        "    )\n",
        ")\n",
        "\n",
        "fig.show()\n"
      ]
    }
  ],
  "metadata": {
    "colab": {
      "include_colab_link": true,
      "provenance": []
    },
    "kernelspec": {
      "display_name": "roboA",
      "language": "python",
      "name": "python3"
    },
    "language_info": {
      "codemirror_mode": {
        "name": "ipython",
        "version": 3
      },
      "file_extension": ".py",
      "mimetype": "text/x-python",
      "name": "python",
      "nbconvert_exporter": "python",
      "pygments_lexer": "ipython3",
      "version": "3.12.8"
    }
  },
  "nbformat": 4,
  "nbformat_minor": 0
}
