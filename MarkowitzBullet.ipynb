{
  "cells": [
    {
      "cell_type": "markdown",
      "metadata": {
        "colab_type": "text",
        "id": "view-in-github"
      },
      "source": [
        "<a href=\"https://colab.research.google.com/github/LinusTC/RoboAdvisor/blob/main/MarkowitzBullet.ipynb\" target=\"_parent\"><img src=\"https://colab.research.google.com/assets/colab-badge.svg\" alt=\"Open In Colab\"/></a>"
      ]
    },
    {
      "cell_type": "markdown",
      "metadata": {
        "id": "bj91ThpmabDR"
      },
      "source": [
        "# Markowitz Efficient Frontier"
      ]
    },
    {
      "cell_type": "markdown",
      "metadata": {
        "id": "w31yow0TabDS"
      },
      "source": [
        "## 1. Imports"
      ]
    },
    {
      "cell_type": "code",
      "execution_count": 215,
      "metadata": {
        "colab": {
          "base_uri": "https://localhost:8080/",
          "height": 383
        },
        "id": "EvpNgOhEabDS",
        "outputId": "1237e7b8-5891-491f-82f1-201f9f82154b"
      },
      "outputs": [],
      "source": [
        "import pandas as pd\n",
        "import numpy as np\n",
        "import plotly.graph_objects as go\n",
        "from tqdm import tqdm\n",
        "from collections import defaultdict\n",
        "\n",
        "from fetchData import fetch_raw_data_yf, get_matrices, getNasdaqStocks\n",
        "from MonteCarloRBA import MonteCarloRBA\n",
        "from portfolioFunction import maximize_sharpe, create_correlation_matrix, get_sharpe_ratio\n",
        "from LearningRBA import find_best_asset_to_remove\n"
      ]
    },
    {
      "cell_type": "markdown",
      "metadata": {
        "id": "fnySmmT6abDT"
      },
      "source": [
        "## 2. Fetch Data"
      ]
    },
    {
      "cell_type": "markdown",
      "metadata": {
        "id": "8bz1yuGUabDT"
      },
      "source": [
        "### Get all Nasdaq Stocks"
      ]
    },
    {
      "cell_type": "code",
      "execution_count": 216,
      "metadata": {
        "id": "H4G7yoJuabDT",
        "outputId": "e001fe58-7383-4067-f734-0041fd0352c3"
      },
      "outputs": [
        {
          "data": {
            "text/plain": [
              "100"
            ]
          },
          "execution_count": 216,
          "metadata": {},
          "output_type": "execute_result"
        }
      ],
      "source": [
        "assets= [\n",
        "    \"AAPL\",  # Apple Inc.\n",
        "    \"MSFT\",  # Microsoft Corporation\n",
        "    \"AMZN\",  # Amazon.com Inc.\n",
        "    \"GOOGL\", # Alphabet Inc. (Google) Class A\n",
        "    \"GOOG\",  # Alphabet Inc. (Google) Class C\n",
        "    \"META\",    # Meta Platforms Inc (formerly Facebook)\n",
        "    \"TSLA\",  # Tesla Inc\n",
        "    \"UA\", # Berkshire Hathaway Inc. Class B\n",
        "    \"JPM\",   # JPMorgan Chase & Co.\n",
        "    \"V\",     # Visa Inc.\n",
        "    \"JNJ\",   # Johnson & Johnson\n",
        "    \"WMT\",   # Walmart Inc.\n",
        "    \"PG\",    # Procter & Gamble Co.\n",
        "    \"UNH\",   # UnitedHealth Group Inc.\n",
        "    \"MA\",    # Mastercard Inc.\n",
        "    \"NVDA\",  # NVIDIA Corporation\n",
        "    \"HD\",    # Home Depot Inc.\n",
        "    \"BAC\",   # Bank of America Corp\n",
        "    \"DIS\",   # Walt Disney Co\n",
        "    \"PYPL\",  # PayPal Holdings\n",
        "    \"VZ\",    # Verizon Communications Inc.\n",
        "    \"ADBE\",  # Adobe Inc.\n",
        "    \"CMCSA\", # Comcast Corporation\n",
        "    \"NFLX\",  # Netflix Inc.\n",
        "    \"KO\",    # Coca-Cola Co\n",
        "    \"NKE\",   # NIKE Inc.\n",
        "    \"PFE\",   # Pfizer Inc.\n",
        "    \"MRK\",   # Merck & Co., Inc.\n",
        "    \"PEP\",   # PepsiCo, Inc.\n",
        "    \"T\",     # AT&T Inc.\n",
        "    \"ABT\",   # Abbott Laboratories\n",
        "    \"CRM\",   # Salesforce.com Inc.\n",
        "    \"ORCL\",  # Oracle Corporation\n",
        "    \"ABBV\",  # AbbVie Inc.\n",
        "    \"CSCO\",  # Cisco Systems, Inc.\n",
        "    \"INTC\",  # Intel Corporation\n",
        "    \"TMO\",   # Thermo Fisher Scientific Inc.\n",
        "    \"XOM\",   # Exxon Mobil Corporation\n",
        "    \"ACN\",   # Accenture plc\n",
        "    \"LLY\",   # Eli Lilly and Company\n",
        "    \"COST\",  # Costco Wholesale Corporation\n",
        "    \"MCD\",   # McDonald's Corp\n",
        "    \"DHR\",   # Danaher Corporation\n",
        "    \"MDT\",   # Medtronic plc\n",
        "    \"NEE\",   # NextEra Energy, Inc.\n",
        "    \"BMY\",   # Bristol-Myers Squibb Company\n",
        "    \"QCOM\",  # Qualcomm Inc\n",
        "    \"CVX\",   # Chevron Corporation\n",
        "    \"WFC\",   # Wells Fargo & Co\n",
        "    \"LMT\",    # Lockheed Martin Corporation\n",
        "    \"GS\",   # Goldman Sachs Group, Inc.\n",
        "    \"MS\",   # Morgan Stanley\n",
        "    \"IBM\",  # International Business Machines Corporation\n",
        "    \"GE\",   # General Electric Company\n",
        "    \"F\",    # Ford Motor Company\n",
        "    \"GM\",   # General Motors Company\n",
        "    \"UBER\", # Uber Technologies, Inc.\n",
        "    \"LYFT\", # Lyft, Inc.\n",
        "    \"SNAP\", # Snap Inc.\n",
        "    \"TWTR\", # Twitter, Inc.\n",
        "    \"SPOT\", # Spotify Technology S.A.\n",
        "    \"AMD\",  # Advanced Micro Devices, Inc.\n",
        "    \"TXN\",  # Texas Instruments Incorporated\n",
        "    \"BABA\", # Alibaba Group Holding Limited\n",
        "    \"SAP\",  # SAP SE\n",
        "    \"HON\",  # Honeywell International Inc.\n",
        "    \"BA\",   # Boeing Company\n",
        "    \"RTX\",  # Raytheon Technologies Corporation\n",
        "    \"CAT\",  # Caterpillar Inc.\n",
        "    \"DE\",   # Deere & Company\n",
        "    \"MMM\",  # 3M Company\n",
        "    \"DUK\",  # Duke Energy Corporation\n",
        "    \"SO\",   # Southern Company\n",
        "    \"EXC\",  # Exelon Corporation\n",
        "    \"NEE\",  # NextEra Energy, Inc.\n",
        "    \"AEP\",  # American Electric Power Company, Inc.\n",
        "    \"SRE\",  # Sempra Energy\n",
        "    \"ETN\",  # Eaton Corporation plc\n",
        "    \"EMR\",  # Emerson Electric Co.\n",
        "    \"SYY\",  # Sysco Corporation\n",
        "    \"KR\",   # Kroger Co.\n",
        "    \"GIS\",  # General Mills, Inc.\n",
        "    \"K\",    # Kellogg Company\n",
        "    \"CPB\",  # Campbell Soup Company\n",
        "    \"MO\",   # Altria Group, Inc.\n",
        "    \"PM\",   # Philip Morris International Inc.\n",
        "    \"BTI\",  # British American Tobacco plc\n",
        "    \"RDY\",  # Dr. Reddy's Laboratories Ltd.\n",
        "    \"GILD\", # Gilead Sciences, Inc.\n",
        "    \"BIIB\", # Biogen Inc.\n",
        "    \"CELG\", # Celgene Corporation\n",
        "    \"AMGN\", # Amgen Inc.\n",
        "    \"SYK\",  # Stryker Corporation\n",
        "    \"BSX\",  # Boston Scientific Corporation\n",
        "    \"ISRG\", # Intuitive Surgical, Inc.\n",
        "    \"ZBH\",  # Zimmer Biomet Holdings, Inc.\n",
        "    \"EW\",   # Edwards Lifesciences Corporation\n",
        "    \"RMD\",  # ResMed Inc.\n",
        "    \"VRTX\", # Vertex Pharmaceuticals Incorporated\n",
        "    \"REGN\",  # Regeneron Pharmaceuticals, Inc.\n",
        "]\n",
        "\n",
        "len(assets)"
      ]
    },
    {
      "cell_type": "code",
      "execution_count": 217,
      "metadata": {
        "id": "AvJfF_5YabDU",
        "outputId": "bc33cbb4-c69c-402c-ef5e-aa6a74be18bf"
      },
      "outputs": [
        {
          "name": "stderr",
          "output_type": "stream",
          "text": [
            "[*********************100%***********************]  99 of 99 completed\n",
            "\n",
            "5 Failed downloads:\n",
            "['SPOT', 'LYFT', 'UBER']: YFPricesMissingError('possibly delisted; no price data found  (1d 2015-01-01 -> 2018-01-01) (Yahoo error = \"Data doesn\\'t exist for startDate = 1420088400, endDate = 1514782800\")')\n",
            "['CELG', 'TWTR']: YFTzMissingError('possibly delisted; no timezone found')\n"
          ]
        },
        {
          "name": "stdout",
          "output_type": "stream",
          "text": [
            "Omitted assets ( 5 ):  ['SPOT', 'CELG', 'TWTR', 'LYFT', 'UBER']\n",
            "Time to fetch data: 3.54 seconds\n"
          ]
        }
      ],
      "source": [
        "raw_data, asset_errors, max_combination= fetch_raw_data_yf(assets)"
      ]
    },
    {
      "cell_type": "markdown",
      "metadata": {
        "id": "FyXEENSbabDU"
      },
      "source": [
        "## 3. Mean, Volatility and Covariance"
      ]
    },
    {
      "cell_type": "code",
      "execution_count": 218,
      "metadata": {
        "id": "V8UnmVllabDU",
        "outputId": "19b78ca1-1975-4b21-a0ec-9ac14f9e4aa7"
      },
      "outputs": [
        {
          "name": "stderr",
          "output_type": "stream",
          "text": [
            "1it [00:00, 253.08it/s]\n"
          ]
        }
      ],
      "source": [
        "names, cov, annualized_returns = get_matrices(raw_data, max_combination, None)[0]\n",
        "correlation_matrix = create_correlation_matrix(cov)\n",
        "volatility = np.sqrt(np.diag(cov))\n",
        "\n",
        "risk_free_rate=0\n",
        "sharpe_ratios = (annualized_returns - risk_free_rate) / volatility"
      ]
    },
    {
      "cell_type": "code",
      "execution_count": 219,
      "metadata": {
        "id": "70g4vm3qabDU",
        "outputId": "4a5fac4a-b6d5-4ef4-b1a6-95d9e1ba9882"
      },
      "outputs": [
        {
          "data": {
            "application/vnd.plotly.v1+json": {
              "config": {
                "plotlyServerURL": "https://plot.ly"
              },
              "data": [
                {
                  "hoverinfo": "text",
                  "hovertext": [
                    "BA_Close <br>Volatility: 0.174 <br>Returns: 59.541% <br>Sharpe Ratio: 3.416",
                    "MCD_Close <br>Volatility: 0.136 <br>Returns: 37.497% <br>Sharpe Ratio: 2.748",
                    "T_Close <br>Volatility: 0.175 <br>Returns: -3.526% <br>Sharpe Ratio: -0.201",
                    "SO_Close <br>Volatility: 0.119 <br>Returns: -1.259% <br>Sharpe Ratio: -0.106",
                    "CPB_Close <br>Volatility: 0.240 <br>Returns: -23.666% <br>Sharpe Ratio: -0.984",
                    "UA_Close <br>Volatility: 0.464 <br>Returns: -42.368% <br>Sharpe Ratio: -0.913",
                    "CVX_Close <br>Volatility: 0.141 <br>Returns: 15.444% <br>Sharpe Ratio: 1.093",
                    "VZ_Close <br>Volatility: 0.169 <br>Returns: 11.300% <br>Sharpe Ratio: 0.668",
                    "AAPL_Close <br>Volatility: 0.176 <br>Returns: 25.044% <br>Sharpe Ratio: 1.423",
                    "RTX_Close <br>Volatility: 0.136 <br>Returns: 16.980% <br>Sharpe Ratio: 1.244",
                    "GOOG_Close <br>Volatility: 0.160 <br>Returns: 27.711% <br>Sharpe Ratio: 1.737",
                    "GOOGL_Close <br>Volatility: 0.157 <br>Returns: 25.766% <br>Sharpe Ratio: 1.638",
                    "CMCSA_Close <br>Volatility: 0.206 <br>Returns: 9.549% <br>Sharpe Ratio: 0.465",
                    "XOM_Close <br>Volatility: 0.104 <br>Returns: 3.880% <br>Sharpe Ratio: 0.374",
                    "BAC_Close <br>Volatility: 0.209 <br>Returns: 20.360% <br>Sharpe Ratio: 0.972",
                    "JPM_Close <br>Volatility: 0.156 <br>Returns: 19.920% <br>Sharpe Ratio: 1.276",
                    "ABT_Close <br>Volatility: 0.140 <br>Returns: 28.667% <br>Sharpe Ratio: 2.053",
                    "GE_Close <br>Volatility: 0.213 <br>Returns: -62.754% <br>Sharpe Ratio: -2.947",
                    "PG_Close <br>Volatility: 0.098 <br>Returns: 4.023% <br>Sharpe Ratio: 0.410",
                    "ETN_Close <br>Volatility: 0.155 <br>Returns: 13.763% <br>Sharpe Ratio: 0.886",
                    "ACN_Close <br>Volatility: 0.133 <br>Returns: 27.346% <br>Sharpe Ratio: 2.059",
                    "UNH_Close <br>Volatility: 0.141 <br>Returns: 34.904% <br>Sharpe Ratio: 2.475",
                    "BABA_Close <br>Volatility: 0.267 <br>Returns: 61.610% <br>Sharpe Ratio: 2.305",
                    "LMT_Close <br>Volatility: 0.110 <br>Returns: 24.360% <br>Sharpe Ratio: 2.206",
                    "COST_Close <br>Volatility: 0.199 <br>Returns: 11.207% <br>Sharpe Ratio: 0.564",
                    "SYY_Close <br>Volatility: 0.161 <br>Returns: 19.125% <br>Sharpe Ratio: 1.185",
                    "BMY_Close <br>Volatility: 0.180 <br>Returns: 11.411% <br>Sharpe Ratio: 0.633",
                    "RMD_Close <br>Volatility: 0.201 <br>Returns: 20.344% <br>Sharpe Ratio: 1.013",
                    "SNAP_Close <br>Volatility: 0.633 <br>Returns: -61.938% <br>Sharpe Ratio: -0.978",
                    "IBM_Close <br>Volatility: 0.158 <br>Returns: -15.905% <br>Sharpe Ratio: -1.009",
                    "DUK_Close <br>Volatility: 0.094 <br>Returns: 6.184% <br>Sharpe Ratio: 0.655",
                    "MMM_Close <br>Volatility: 0.131 <br>Returns: 27.772% <br>Sharpe Ratio: 2.118",
                    "NVDA_Close <br>Volatility: 0.394 <br>Returns: 80.734% <br>Sharpe Ratio: 2.051",
                    "CSCO_Close <br>Volatility: 0.164 <br>Returns: 16.111% <br>Sharpe Ratio: 0.982",
                    "EMR_Close <br>Volatility: 0.163 <br>Returns: 20.267% <br>Sharpe Ratio: 1.246",
                    "INTC_Close <br>Volatility: 0.176 <br>Returns: 32.628% <br>Sharpe Ratio: 1.858",
                    "REGN_Close <br>Volatility: 0.282 <br>Returns: 0.032% <br>Sharpe Ratio: 0.001",
                    "MA_Close <br>Volatility: 0.144 <br>Returns: 37.500% <br>Sharpe Ratio: 2.602",
                    "GIS_Close <br>Volatility: 0.174 <br>Returns: -0.030% <br>Sharpe Ratio: -0.002",
                    "GM_Close <br>Volatility: 0.189 <br>Returns: 14.706% <br>Sharpe Ratio: 0.777",
                    "LLY_Close <br>Volatility: 0.147 <br>Returns: 4.513% <br>Sharpe Ratio: 0.308",
                    "CRM_Close <br>Volatility: 0.156 <br>Returns: 25.484% <br>Sharpe Ratio: 1.634",
                    "BIIB_Close <br>Volatility: 0.228 <br>Returns: 9.799% <br>Sharpe Ratio: 0.430",
                    "KO_Close <br>Volatility: 0.086 <br>Returns: 13.237% <br>Sharpe Ratio: 1.533",
                    "WFC_Close <br>Volatility: 0.171 <br>Returns: 6.484% <br>Sharpe Ratio: 0.380",
                    "DIS_Close <br>Volatility: 0.158 <br>Returns: -1.539% <br>Sharpe Ratio: -0.097",
                    "AMZN_Close <br>Volatility: 0.212 <br>Returns: 38.442% <br>Sharpe Ratio: 1.813",
                    "EXC_Close <br>Volatility: 0.131 <br>Returns: 12.626% <br>Sharpe Ratio: 0.960",
                    "NEE_Close <br>Volatility: 0.112 <br>Returns: 23.547% <br>Sharpe Ratio: 2.101",
                    "PFE_Close <br>Volatility: 0.108 <br>Returns: 9.217% <br>Sharpe Ratio: 0.854",
                    "DHR_Close <br>Volatility: 0.128 <br>Returns: 9.067% <br>Sharpe Ratio: 0.706",
                    "GS_Close <br>Volatility: 0.196 <br>Returns: 2.945% <br>Sharpe Ratio: 0.150",
                    "NFLX_Close <br>Volatility: 0.287 <br>Returns: 38.281% <br>Sharpe Ratio: 1.334",
                    "F_Close <br>Volatility: 0.166 <br>Returns: 2.996% <br>Sharpe Ratio: 0.180",
                    "HON_Close <br>Volatility: 0.102 <br>Returns: 25.067% <br>Sharpe Ratio: 2.467",
                    "ZBH_Close <br>Volatility: 0.194 <br>Returns: 3.617% <br>Sharpe Ratio: 0.186",
                    "TXN_Close <br>Volatility: 0.161 <br>Returns: 37.142% <br>Sharpe Ratio: 2.300",
                    "SYK_Close <br>Volatility: 0.155 <br>Returns: 21.732% <br>Sharpe Ratio: 1.398",
                    "PYPL_Close <br>Volatility: 0.231 <br>Returns: 65.170% <br>Sharpe Ratio: 2.817",
                    "WMT_Close <br>Volatility: 0.182 <br>Returns: 43.058% <br>Sharpe Ratio: 2.372",
                    "SAP_Close <br>Volatility: 0.137 <br>Returns: 22.379% <br>Sharpe Ratio: 1.628",
                    "CAT_Close <br>Volatility: 0.197 <br>Returns: 64.107% <br>Sharpe Ratio: 3.250",
                    "KR_Close <br>Volatility: 0.363 <br>Returns: -11.512% <br>Sharpe Ratio: -0.317",
                    "EW_Close <br>Volatility: 0.232 <br>Returns: 22.603% <br>Sharpe Ratio: 0.973",
                    "MO_Close <br>Volatility: 0.178 <br>Returns: -2.746% <br>Sharpe Ratio: -0.154",
                    "AMGN_Close <br>Volatility: 0.168 <br>Returns: -0.355% <br>Sharpe Ratio: -0.021",
                    "SRE_Close <br>Volatility: 0.134 <br>Returns: 0.416% <br>Sharpe Ratio: 0.031",
                    "NKE_Close <br>Volatility: 0.226 <br>Returns: 10.695% <br>Sharpe Ratio: 0.474",
                    "MSFT_Close <br>Volatility: 0.152 <br>Returns: 36.718% <br>Sharpe Ratio: 2.419",
                    "JNJ_Close <br>Volatility: 0.114 <br>Returns: 16.968% <br>Sharpe Ratio: 1.485",
                    "ADBE_Close <br>Volatility: 0.228 <br>Returns: 45.540% <br>Sharpe Ratio: 1.999",
                    "HD_Close <br>Volatility: 0.135 <br>Returns: 32.454% <br>Sharpe Ratio: 2.404",
                    "K_Close <br>Volatility: 0.182 <br>Returns: -9.007% <br>Sharpe Ratio: -0.496",
                    "BSX_Close <br>Volatility: 0.170 <br>Returns: -1.012% <br>Sharpe Ratio: -0.059",
                    "AEP_Close <br>Volatility: 0.106 <br>Returns: 15.149% <br>Sharpe Ratio: 1.424",
                    "MDT_Close <br>Volatility: 0.152 <br>Returns: 0.821% <br>Sharpe Ratio: 0.054",
                    "ABBV_Close <br>Volatility: 0.179 <br>Returns: 54.051% <br>Sharpe Ratio: 3.026",
                    "QCOM_Close <br>Volatility: 0.239 <br>Returns: 18.777% <br>Sharpe Ratio: 0.786",
                    "DE_Close <br>Volatility: 0.179 <br>Returns: 45.118% <br>Sharpe Ratio: 2.527",
                    "MS_Close <br>Volatility: 0.196 <br>Returns: 16.831% <br>Sharpe Ratio: 0.858",
                    "GILD_Close <br>Volatility: 0.189 <br>Returns: 5.321% <br>Sharpe Ratio: 0.281",
                    "VRTX_Close <br>Volatility: 0.385 <br>Returns: 61.334% <br>Sharpe Ratio: 1.595",
                    "TSLA_Close <br>Volatility: 0.359 <br>Returns: 26.105% <br>Sharpe Ratio: 0.728",
                    "PM_Close <br>Volatility: 0.140 <br>Returns: -0.165% <br>Sharpe Ratio: -0.012",
                    "META_Close <br>Volatility: 0.173 <br>Returns: 30.584% <br>Sharpe Ratio: 1.771",
                    "V_Close <br>Volatility: 0.125 <br>Returns: 30.982% <br>Sharpe Ratio: 2.471",
                    "ORCL_Close <br>Volatility: 0.187 <br>Returns: 13.134% <br>Sharpe Ratio: 0.701",
                    "TMO_Close <br>Volatility: 0.163 <br>Returns: 21.553% <br>Sharpe Ratio: 1.323",
                    "RDY_Close <br>Volatility: 0.304 <br>Returns: -11.923% <br>Sharpe Ratio: -0.392",
                    "BTI_Close <br>Volatility: 0.191 <br>Returns: 11.154% <br>Sharpe Ratio: 0.584",
                    "MRK_Close <br>Volatility: 0.151 <br>Returns: -15.661% <br>Sharpe Ratio: -1.038",
                    "AMD_Close <br>Volatility: 0.583 <br>Returns: -36.203% <br>Sharpe Ratio: -0.621",
                    "PEP_Close <br>Volatility: 0.098 <br>Returns: 12.729% <br>Sharpe Ratio: 1.302",
                    "ISRG_Close <br>Volatility: 0.191 <br>Returns: 46.587% <br>Sharpe Ratio: 2.436"
                  ],
                  "marker": {
                    "color": {
                      "bdata": "ElggqdJTC0BXJkeUbvsFQAA/4upcxMm/+eyUvVweu7/faXD0Dn/vv/nsZtanN+2/nEVmrkp88T8456OUr1zlP5tKVxY8w/Y/z7Xef8Ho8z/P6ISFB8z7PytRg786N/o/3VIlL3e63T+DbAwZAujXP8OsyKpsHu8/j4q5yRtp9D+2L6F8imsAQEPq67v5kgfARNOkzB1D2j8EuDyWQVnsP3/mWkXmdwBAk2j9A2zNA0Dpp1105m8CQPUTq4kJpQFAZcbhssIK4j9leJI+7/byPxtr2RHsPeQ/ivs8XWM28D/Doudtw03vvyRhM0hHJvC/WIkSnPL15D8XhrN16PEAQEdC27WeZwBACy8uQMlv7z+XgwRTK+/zP1tOwsrRuv0/nzk9AimGUj8+fpG6Y9AEQABCcfloVly/HYxvB13b6D+f605bYq7TPyJ7hVyqJfo/aPGRTEqK2z86xxKDDYb4PyKtn12LU9g/VcCjPXzpuL9zvEGzDAT9Py9YAE84vO4/OJy2a+jNAEDwO/AeoVXrP9DyY+QRmeY/R6umFjk0wz8z0nbqCVr1PyWTUKt0Esc/XK/z0+a7A0CCzOoZntXHP+nBMmrbZgJAZhkFdvlc9j8xcqbNiIgGQK0YRjyt+QJA3uJbOmUN+j9xnc3whAAKQLSXxEEiUdS/GVMkpEoh7z+9KhtG9MHDv/llZdGUr5W/NZCIqnrdnz9eVsANKVXePzgyJHIYWwNAIXNrKLjC9z+c63CZ8vv/P62MKh2NOgNAAr2pnUy+379hGrAziWauv2Ob5iD6x/Y/PdN1JWWzqz/fLB7/HDUIQKg2MaMmKek/Jik66+M2BEDOCFzUkXPrP0kZ4zlF+dE/kfMbVuGD+T9lWuLftUrnP1Nmw66RJoi/KgnMH3FW/D+Oo+Ct1cMDQMrjOkmacuY/MnKIj4Yp9T+tRpb2uQ/ZvznPg2H9s+I/xcRPoraZ8L/hc6Uog9/jv7F+fLVC1PQ/EiMVS4l9A0A=",
                      "dtype": "f8"
                    },
                    "colorbar": {
                      "title": {
                        "text": "Sharpe<br>Ratio"
                      }
                    },
                    "colorscale": [
                      [
                        0,
                        "rgb(103,0,31)"
                      ],
                      [
                        0.1,
                        "rgb(178,24,43)"
                      ],
                      [
                        0.2,
                        "rgb(214,96,77)"
                      ],
                      [
                        0.3,
                        "rgb(244,165,130)"
                      ],
                      [
                        0.4,
                        "rgb(253,219,199)"
                      ],
                      [
                        0.5,
                        "rgb(247,247,247)"
                      ],
                      [
                        0.6,
                        "rgb(209,229,240)"
                      ],
                      [
                        0.7,
                        "rgb(146,197,222)"
                      ],
                      [
                        0.8,
                        "rgb(67,147,195)"
                      ],
                      [
                        0.9,
                        "rgb(33,102,172)"
                      ],
                      [
                        1,
                        "rgb(5,48,97)"
                      ]
                    ],
                    "line": {
                      "width": 1
                    },
                    "size": 6
                  },
                  "mode": "markers",
                  "type": "scatter",
                  "x": {
                    "bdata": "n8Wme5FPxj828F6poHfBP45q1nMBa8Y/M5vJYOBrvj8pzLX2AsfOP6mXWruhst0/NAVwKb4Wwj+NfcEsiarFPwKFCLBViMY/4aZ0gZd3wT8i+4mfsWrEP5jaDDn6IMQ/upcR1GRQyj/w5I6o1Za6P0grFIKBzMo/NtNtyur8wz/TL+zwt+DBP0zv4ds0Qss/z1cM2XAYuT+oXzmE1+LDP/skDzX/AME/Mh+685sMwj+/whzM9hvRPzIcArtLRrw/itzVGp1xyT/qZOviL6fEPwVc3Er1Fsc/1LEgSNKyyT9KaSCc0ELkP8r0SZBzK8Q/7xvYBWYruD9+9pQ/d8jAP1r2T1mPMtk/eDLMwPr9xD+TCxA9hdLEPw6Qv+LsecY/CXDYJIYS0j8XfFWi9nLCPw1tYg3TO8Y/8cxi/bU7yD8UbiGuWcnCPzlHFbz09cM/napnQMolzT91TDvmsRu2P92u5C6V1cU/spBZl/I8xD+YOtANKSLLP76BaveL08A/r+WS+n6yvD+vvBheyJ+7P/jkqSMOb8A/toJd8REfyT8F2lAV6FvSPzAY7dAgR8U/H4xt09EDuj9IDDmKXd3IP6ScEDAgq8Q/G6a7kujmwz/Mi/6xkp3NP/GFhj+HPMc/orkhc5KXwT8FFy4EFz/JP3+MEtioNdc/fqECT2e9zT9HJLT6y8XGP2K6C63ldcU/DLXGNAwfwT9gp9qyc+LMPwmMVPrfbMM/EWUNykhAvT/S+j5q7yjNP6GinNN2SME/XyBNc7I+xz/aX9SBWNLFP/XRTPa5PLs/PaUFX3hpwz9OqLMaLN3GPxLlhfBJkc4/czDZgfbaxj92UUxw/BzJP99KAJtjQMg/DkSFl3ad2D8hLBVFBvTWP3oZfs7m4cE/lxBQ+Xwaxj8J/viFLQ3AP719l4oh98c/YfSMmKDbxD/AbyqguXzTPwC+XyI8bcg/I0JI3kZSwz99ZuvUc6fiP/O1DqwcCLk/XnJoD/d5yD8=",
                    "dtype": "f8"
                  },
                  "y": {
                    "bdata": "E/DCAZQN4z/fY/4+gP/XPxAslqMpDaK/qqdknuLHib8xIO4U/0rOv8xF+lqJHdu/B50ivK7Ewz8tDgNiVu28P4ZrigI0B9A/k4+7PB28xT9RlXzXMrzRP652qfCIfdA/lFH8qzByuD+3RGrcMN2jP7USqTCYD8o/Wf2m+HN/yT9dhXt84VjSP2/EdMrIFOS/PNBDO36YpD/ExTw99J3BP31HM1drgNE/e60smbRW1j8b/DIUHrfjP+iXfT5WLs8/IUBpXu2wvD/f7Kkx1XrIP+YRJdEONr0/UZcKZi0Kyj9Wi/SZ9tHjv7bBlZ60W8S/f9uxjcaprz+N+/mZNsbRPx+9y8W+1ek/rOH77V+fxD+VNJNAP/HJP4LeILm24dQ/mUnnXmDsND9mdZ/P/f/XP802qGJisDO/UKeylufSwj8dgYiq2xunP1ZMJYBVT9A/bZuvS9kVuT+vMG+7YvHAP+zUvvUwmbA/XPMRlsCCj78ip3Q+ZJrYP0DMAKpLKcA/4Mjf0s4jzj9KGDySvJi3P2Db0sjrNbc/8M4v6+Mmnj8nCi328H/YP0MewVjKrp4/HP53jwYL0D+/SRqLF4WiP4PyvJJixdc/43FezyXRyz9EbdYlsdrkP+YaQ7axjts/NkoLbwilzD/0yJ+Vq4PkP/8DS2bEeL2/omGfxWzuzD9KvmTS7x6cv7ienI4+Fm2/4IYJ4ZMMcT+L6o0JK2G7P27MB+Hif9c/064XYTK4xT8kkzsWPiXdP06PIThMxdQ/EwuuyvgOt7+WLp8DH7uEv/xUNmT2Y8M/3KMd5dDNgD8EluEc1EvhP3OnD9PQCMg/5STStBzg3D+BFvSbJ4vFPzyrN9A8Pqs/Ce9CmXag4z9iVwFF+7TQP5pSdoz1/Vq/Vv6DreKS0z+QWMYHHdTTPyQs7wK7z8A/lLI9/mSWyz+vb792CYa+v7Gbkousjbw/+FbdL+YLxL9pAadVcCvXv8J6L9gbS8A/juejQ+DQ3T8=",
                    "dtype": "f8"
                  }
                }
              ],
              "layout": {
                "template": {
                  "data": {
                    "bar": [
                      {
                        "error_x": {
                          "color": "#2a3f5f"
                        },
                        "error_y": {
                          "color": "#2a3f5f"
                        },
                        "marker": {
                          "line": {
                            "color": "#E5ECF6",
                            "width": 0.5
                          },
                          "pattern": {
                            "fillmode": "overlay",
                            "size": 10,
                            "solidity": 0.2
                          }
                        },
                        "type": "bar"
                      }
                    ],
                    "barpolar": [
                      {
                        "marker": {
                          "line": {
                            "color": "#E5ECF6",
                            "width": 0.5
                          },
                          "pattern": {
                            "fillmode": "overlay",
                            "size": 10,
                            "solidity": 0.2
                          }
                        },
                        "type": "barpolar"
                      }
                    ],
                    "carpet": [
                      {
                        "aaxis": {
                          "endlinecolor": "#2a3f5f",
                          "gridcolor": "white",
                          "linecolor": "white",
                          "minorgridcolor": "white",
                          "startlinecolor": "#2a3f5f"
                        },
                        "baxis": {
                          "endlinecolor": "#2a3f5f",
                          "gridcolor": "white",
                          "linecolor": "white",
                          "minorgridcolor": "white",
                          "startlinecolor": "#2a3f5f"
                        },
                        "type": "carpet"
                      }
                    ],
                    "choropleth": [
                      {
                        "colorbar": {
                          "outlinewidth": 0,
                          "ticks": ""
                        },
                        "type": "choropleth"
                      }
                    ],
                    "contour": [
                      {
                        "colorbar": {
                          "outlinewidth": 0,
                          "ticks": ""
                        },
                        "colorscale": [
                          [
                            0,
                            "#0d0887"
                          ],
                          [
                            0.1111111111111111,
                            "#46039f"
                          ],
                          [
                            0.2222222222222222,
                            "#7201a8"
                          ],
                          [
                            0.3333333333333333,
                            "#9c179e"
                          ],
                          [
                            0.4444444444444444,
                            "#bd3786"
                          ],
                          [
                            0.5555555555555556,
                            "#d8576b"
                          ],
                          [
                            0.6666666666666666,
                            "#ed7953"
                          ],
                          [
                            0.7777777777777778,
                            "#fb9f3a"
                          ],
                          [
                            0.8888888888888888,
                            "#fdca26"
                          ],
                          [
                            1,
                            "#f0f921"
                          ]
                        ],
                        "type": "contour"
                      }
                    ],
                    "contourcarpet": [
                      {
                        "colorbar": {
                          "outlinewidth": 0,
                          "ticks": ""
                        },
                        "type": "contourcarpet"
                      }
                    ],
                    "heatmap": [
                      {
                        "colorbar": {
                          "outlinewidth": 0,
                          "ticks": ""
                        },
                        "colorscale": [
                          [
                            0,
                            "#0d0887"
                          ],
                          [
                            0.1111111111111111,
                            "#46039f"
                          ],
                          [
                            0.2222222222222222,
                            "#7201a8"
                          ],
                          [
                            0.3333333333333333,
                            "#9c179e"
                          ],
                          [
                            0.4444444444444444,
                            "#bd3786"
                          ],
                          [
                            0.5555555555555556,
                            "#d8576b"
                          ],
                          [
                            0.6666666666666666,
                            "#ed7953"
                          ],
                          [
                            0.7777777777777778,
                            "#fb9f3a"
                          ],
                          [
                            0.8888888888888888,
                            "#fdca26"
                          ],
                          [
                            1,
                            "#f0f921"
                          ]
                        ],
                        "type": "heatmap"
                      }
                    ],
                    "histogram": [
                      {
                        "marker": {
                          "pattern": {
                            "fillmode": "overlay",
                            "size": 10,
                            "solidity": 0.2
                          }
                        },
                        "type": "histogram"
                      }
                    ],
                    "histogram2d": [
                      {
                        "colorbar": {
                          "outlinewidth": 0,
                          "ticks": ""
                        },
                        "colorscale": [
                          [
                            0,
                            "#0d0887"
                          ],
                          [
                            0.1111111111111111,
                            "#46039f"
                          ],
                          [
                            0.2222222222222222,
                            "#7201a8"
                          ],
                          [
                            0.3333333333333333,
                            "#9c179e"
                          ],
                          [
                            0.4444444444444444,
                            "#bd3786"
                          ],
                          [
                            0.5555555555555556,
                            "#d8576b"
                          ],
                          [
                            0.6666666666666666,
                            "#ed7953"
                          ],
                          [
                            0.7777777777777778,
                            "#fb9f3a"
                          ],
                          [
                            0.8888888888888888,
                            "#fdca26"
                          ],
                          [
                            1,
                            "#f0f921"
                          ]
                        ],
                        "type": "histogram2d"
                      }
                    ],
                    "histogram2dcontour": [
                      {
                        "colorbar": {
                          "outlinewidth": 0,
                          "ticks": ""
                        },
                        "colorscale": [
                          [
                            0,
                            "#0d0887"
                          ],
                          [
                            0.1111111111111111,
                            "#46039f"
                          ],
                          [
                            0.2222222222222222,
                            "#7201a8"
                          ],
                          [
                            0.3333333333333333,
                            "#9c179e"
                          ],
                          [
                            0.4444444444444444,
                            "#bd3786"
                          ],
                          [
                            0.5555555555555556,
                            "#d8576b"
                          ],
                          [
                            0.6666666666666666,
                            "#ed7953"
                          ],
                          [
                            0.7777777777777778,
                            "#fb9f3a"
                          ],
                          [
                            0.8888888888888888,
                            "#fdca26"
                          ],
                          [
                            1,
                            "#f0f921"
                          ]
                        ],
                        "type": "histogram2dcontour"
                      }
                    ],
                    "mesh3d": [
                      {
                        "colorbar": {
                          "outlinewidth": 0,
                          "ticks": ""
                        },
                        "type": "mesh3d"
                      }
                    ],
                    "parcoords": [
                      {
                        "line": {
                          "colorbar": {
                            "outlinewidth": 0,
                            "ticks": ""
                          }
                        },
                        "type": "parcoords"
                      }
                    ],
                    "pie": [
                      {
                        "automargin": true,
                        "type": "pie"
                      }
                    ],
                    "scatter": [
                      {
                        "fillpattern": {
                          "fillmode": "overlay",
                          "size": 10,
                          "solidity": 0.2
                        },
                        "type": "scatter"
                      }
                    ],
                    "scatter3d": [
                      {
                        "line": {
                          "colorbar": {
                            "outlinewidth": 0,
                            "ticks": ""
                          }
                        },
                        "marker": {
                          "colorbar": {
                            "outlinewidth": 0,
                            "ticks": ""
                          }
                        },
                        "type": "scatter3d"
                      }
                    ],
                    "scattercarpet": [
                      {
                        "marker": {
                          "colorbar": {
                            "outlinewidth": 0,
                            "ticks": ""
                          }
                        },
                        "type": "scattercarpet"
                      }
                    ],
                    "scattergeo": [
                      {
                        "marker": {
                          "colorbar": {
                            "outlinewidth": 0,
                            "ticks": ""
                          }
                        },
                        "type": "scattergeo"
                      }
                    ],
                    "scattergl": [
                      {
                        "marker": {
                          "colorbar": {
                            "outlinewidth": 0,
                            "ticks": ""
                          }
                        },
                        "type": "scattergl"
                      }
                    ],
                    "scattermap": [
                      {
                        "marker": {
                          "colorbar": {
                            "outlinewidth": 0,
                            "ticks": ""
                          }
                        },
                        "type": "scattermap"
                      }
                    ],
                    "scattermapbox": [
                      {
                        "marker": {
                          "colorbar": {
                            "outlinewidth": 0,
                            "ticks": ""
                          }
                        },
                        "type": "scattermapbox"
                      }
                    ],
                    "scatterpolar": [
                      {
                        "marker": {
                          "colorbar": {
                            "outlinewidth": 0,
                            "ticks": ""
                          }
                        },
                        "type": "scatterpolar"
                      }
                    ],
                    "scatterpolargl": [
                      {
                        "marker": {
                          "colorbar": {
                            "outlinewidth": 0,
                            "ticks": ""
                          }
                        },
                        "type": "scatterpolargl"
                      }
                    ],
                    "scatterternary": [
                      {
                        "marker": {
                          "colorbar": {
                            "outlinewidth": 0,
                            "ticks": ""
                          }
                        },
                        "type": "scatterternary"
                      }
                    ],
                    "surface": [
                      {
                        "colorbar": {
                          "outlinewidth": 0,
                          "ticks": ""
                        },
                        "colorscale": [
                          [
                            0,
                            "#0d0887"
                          ],
                          [
                            0.1111111111111111,
                            "#46039f"
                          ],
                          [
                            0.2222222222222222,
                            "#7201a8"
                          ],
                          [
                            0.3333333333333333,
                            "#9c179e"
                          ],
                          [
                            0.4444444444444444,
                            "#bd3786"
                          ],
                          [
                            0.5555555555555556,
                            "#d8576b"
                          ],
                          [
                            0.6666666666666666,
                            "#ed7953"
                          ],
                          [
                            0.7777777777777778,
                            "#fb9f3a"
                          ],
                          [
                            0.8888888888888888,
                            "#fdca26"
                          ],
                          [
                            1,
                            "#f0f921"
                          ]
                        ],
                        "type": "surface"
                      }
                    ],
                    "table": [
                      {
                        "cells": {
                          "fill": {
                            "color": "#EBF0F8"
                          },
                          "line": {
                            "color": "white"
                          }
                        },
                        "header": {
                          "fill": {
                            "color": "#C8D4E3"
                          },
                          "line": {
                            "color": "white"
                          }
                        },
                        "type": "table"
                      }
                    ]
                  },
                  "layout": {
                    "annotationdefaults": {
                      "arrowcolor": "#2a3f5f",
                      "arrowhead": 0,
                      "arrowwidth": 1
                    },
                    "autotypenumbers": "strict",
                    "coloraxis": {
                      "colorbar": {
                        "outlinewidth": 0,
                        "ticks": ""
                      }
                    },
                    "colorscale": {
                      "diverging": [
                        [
                          0,
                          "#8e0152"
                        ],
                        [
                          0.1,
                          "#c51b7d"
                        ],
                        [
                          0.2,
                          "#de77ae"
                        ],
                        [
                          0.3,
                          "#f1b6da"
                        ],
                        [
                          0.4,
                          "#fde0ef"
                        ],
                        [
                          0.5,
                          "#f7f7f7"
                        ],
                        [
                          0.6,
                          "#e6f5d0"
                        ],
                        [
                          0.7,
                          "#b8e186"
                        ],
                        [
                          0.8,
                          "#7fbc41"
                        ],
                        [
                          0.9,
                          "#4d9221"
                        ],
                        [
                          1,
                          "#276419"
                        ]
                      ],
                      "sequential": [
                        [
                          0,
                          "#0d0887"
                        ],
                        [
                          0.1111111111111111,
                          "#46039f"
                        ],
                        [
                          0.2222222222222222,
                          "#7201a8"
                        ],
                        [
                          0.3333333333333333,
                          "#9c179e"
                        ],
                        [
                          0.4444444444444444,
                          "#bd3786"
                        ],
                        [
                          0.5555555555555556,
                          "#d8576b"
                        ],
                        [
                          0.6666666666666666,
                          "#ed7953"
                        ],
                        [
                          0.7777777777777778,
                          "#fb9f3a"
                        ],
                        [
                          0.8888888888888888,
                          "#fdca26"
                        ],
                        [
                          1,
                          "#f0f921"
                        ]
                      ],
                      "sequentialminus": [
                        [
                          0,
                          "#0d0887"
                        ],
                        [
                          0.1111111111111111,
                          "#46039f"
                        ],
                        [
                          0.2222222222222222,
                          "#7201a8"
                        ],
                        [
                          0.3333333333333333,
                          "#9c179e"
                        ],
                        [
                          0.4444444444444444,
                          "#bd3786"
                        ],
                        [
                          0.5555555555555556,
                          "#d8576b"
                        ],
                        [
                          0.6666666666666666,
                          "#ed7953"
                        ],
                        [
                          0.7777777777777778,
                          "#fb9f3a"
                        ],
                        [
                          0.8888888888888888,
                          "#fdca26"
                        ],
                        [
                          1,
                          "#f0f921"
                        ]
                      ]
                    },
                    "colorway": [
                      "#636efa",
                      "#EF553B",
                      "#00cc96",
                      "#ab63fa",
                      "#FFA15A",
                      "#19d3f3",
                      "#FF6692",
                      "#B6E880",
                      "#FF97FF",
                      "#FECB52"
                    ],
                    "font": {
                      "color": "#2a3f5f"
                    },
                    "geo": {
                      "bgcolor": "white",
                      "lakecolor": "white",
                      "landcolor": "#E5ECF6",
                      "showlakes": true,
                      "showland": true,
                      "subunitcolor": "white"
                    },
                    "hoverlabel": {
                      "align": "left"
                    },
                    "hovermode": "closest",
                    "mapbox": {
                      "style": "light"
                    },
                    "paper_bgcolor": "white",
                    "plot_bgcolor": "#E5ECF6",
                    "polar": {
                      "angularaxis": {
                        "gridcolor": "white",
                        "linecolor": "white",
                        "ticks": ""
                      },
                      "bgcolor": "#E5ECF6",
                      "radialaxis": {
                        "gridcolor": "white",
                        "linecolor": "white",
                        "ticks": ""
                      }
                    },
                    "scene": {
                      "xaxis": {
                        "backgroundcolor": "#E5ECF6",
                        "gridcolor": "white",
                        "gridwidth": 2,
                        "linecolor": "white",
                        "showbackground": true,
                        "ticks": "",
                        "zerolinecolor": "white"
                      },
                      "yaxis": {
                        "backgroundcolor": "#E5ECF6",
                        "gridcolor": "white",
                        "gridwidth": 2,
                        "linecolor": "white",
                        "showbackground": true,
                        "ticks": "",
                        "zerolinecolor": "white"
                      },
                      "zaxis": {
                        "backgroundcolor": "#E5ECF6",
                        "gridcolor": "white",
                        "gridwidth": 2,
                        "linecolor": "white",
                        "showbackground": true,
                        "ticks": "",
                        "zerolinecolor": "white"
                      }
                    },
                    "shapedefaults": {
                      "line": {
                        "color": "#2a3f5f"
                      }
                    },
                    "ternary": {
                      "aaxis": {
                        "gridcolor": "white",
                        "linecolor": "white",
                        "ticks": ""
                      },
                      "baxis": {
                        "gridcolor": "white",
                        "linecolor": "white",
                        "ticks": ""
                      },
                      "bgcolor": "#E5ECF6",
                      "caxis": {
                        "gridcolor": "white",
                        "linecolor": "white",
                        "ticks": ""
                      }
                    },
                    "title": {
                      "x": 0.05
                    },
                    "xaxis": {
                      "automargin": true,
                      "gridcolor": "white",
                      "linecolor": "white",
                      "ticks": "",
                      "title": {
                        "standoff": 15
                      },
                      "zerolinecolor": "white",
                      "zerolinewidth": 2
                    },
                    "yaxis": {
                      "automargin": true,
                      "gridcolor": "white",
                      "linecolor": "white",
                      "ticks": "",
                      "title": {
                        "standoff": 15
                      },
                      "zerolinecolor": "white",
                      "zerolinewidth": 2
                    }
                  }
                },
                "title": {
                  "text": "Markowitz Mean Varience Model"
                },
                "xaxis": {
                  "title": {
                    "text": "Volatility (Standard Deviation)"
                  }
                },
                "yaxis": {
                  "title": {
                    "text": "Annualized Returns"
                  }
                }
              }
            }
          },
          "metadata": {},
          "output_type": "display_data"
        }
      ],
      "source": [
        "hover_texts = [\n",
        "    f\"{ticker} <br>Volatility: {vol:.3f} <br>Returns: {ret:.3%} <br>Sharpe Ratio: {sr:.3f}\"\n",
        "    for ticker, vol, ret, sr in zip(names, volatility, annualized_returns, sharpe_ratios)\n",
        "]\n",
        "\n",
        "fig = go.Figure(data=go.Scatter(\n",
        "    x=volatility,\n",
        "    y=annualized_returns,\n",
        "    mode='markers',\n",
        "    hoverinfo='text',\n",
        "    hovertext=hover_texts,\n",
        "    marker=dict(color=sharpe_ratios, colorscale = 'RdBu', size=6, line=dict(width=1), colorbar=dict(title=\"Sharpe<br>Ratio\")\n",
        "    )\n",
        "))\n",
        "\n",
        "fig.update_layout(\n",
        "    title='Markowitz Mean Varience Model',\n",
        "    xaxis_title='Volatility (Standard Deviation)',\n",
        "    yaxis_title='Annualized Returns',\n",
        ")\n",
        "\n",
        "fig.show()\n"
      ]
    },
    {
      "cell_type": "markdown",
      "metadata": {
        "id": "E3i7iFfDabDV"
      },
      "source": [
        "## 4.0 Monte Carlo Method"
      ]
    },
    {
      "cell_type": "code",
      "execution_count": 220,
      "metadata": {
        "id": "fsgRqCSWabDV",
        "outputId": "fbaa41fb-9c70-48ed-a734-216727080f91"
      },
      "outputs": [
        {
          "name": "stderr",
          "output_type": "stream",
          "text": [
            "100%|██████████| 1000/1000 [00:02<00:00, 407.32it/s]\n"
          ]
        }
      ],
      "source": [
        "all_portfolios, dominant_portfolios = MonteCarloRBA(names, cov, annualized_returns, 1000)"
      ]
    },
    {
      "cell_type": "code",
      "execution_count": 221,
      "metadata": {
        "id": "09tYBpwxabDV",
        "outputId": "14b280fa-725b-45a4-de2b-4d74a617924e"
      },
      "outputs": [
        {
          "name": "stdout",
          "output_type": "stream",
          "text": [
            "77 1000\n"
          ]
        }
      ],
      "source": [
        "print (len(dominant_portfolios) ,len(all_portfolios))"
      ]
    },
    {
      "cell_type": "code",
      "execution_count": 222,
      "metadata": {
        "id": "uuj_oTIZabDV",
        "outputId": "d9689c48-1eb6-4d40-8c4e-30e71495cd1d"
      },
      "outputs": [
        {
          "data": {
            "application/vnd.plotly.v1+json": {
              "config": {
                "plotlyServerURL": "https://plot.ly"
              },
              "data": [
                {
                  "hoverinfo": "text",
                  "marker": {
                    "color": [
                      2.314975374170424,
                      2.487549682834411,
                      3.0730466270047097,
                      1.5794670316101251,
                      2.117472017690818,
                      2.601752717557047,
                      2.90116147969942,
                      2.8668212801622115,
                      2.4362970224214058,
                      2.8200806914678465,
                      2.5099242898544794,
                      2.4753036796292425,
                      2.9561781776322804,
                      1.7591689370279542,
                      2.7685235195897904,
                      2.2348319405418966,
                      2.8695722973680318,
                      3.0929406437592983,
                      1.9055134146340205,
                      2.6372440772304526,
                      3.190616055762321,
                      3.3123305295754664,
                      2.9205379240643676,
                      1.2459199197305029,
                      2.4082494371413605,
                      2.4927272225919417,
                      1.674545604954907,
                      2.564233037088537,
                      3.6327907915630617,
                      3.802695545196124,
                      2.245771136949897,
                      2.403341830211416,
                      3.0902374398154517,
                      3.8099559432557384,
                      1.9992262468189645,
                      2.1789272042586494,
                      1.0280857455041337,
                      3.3306953724268817,
                      1.9622548022150637,
                      3.4538373064746866,
                      3.8537985802909107,
                      3.251134869567367,
                      1.437901915010032,
                      2.932549138802443,
                      3.03888705218161,
                      2.7421292151465346,
                      2.465086230586169,
                      3.0841692236093485,
                      2.4865782628548523,
                      1.1613104729501749,
                      1.3090628902412191,
                      3.075943031123244,
                      2.4537275059778123,
                      1.4826390441395312,
                      3.4291600225623893,
                      2.635192064328429,
                      1.7713477506450663,
                      3.378307553229644,
                      1.9818951527953979,
                      3.4584027434703564,
                      2.4653634140398366,
                      2.0586543989220365,
                      3.0386986199699044,
                      3.1977946519245446,
                      -0.011792314668514303,
                      3.4254014609172128,
                      2.493962497897583,
                      2.4705917965722235,
                      0.4748208555023787,
                      2.1846702980244714,
                      1.8072339235298625,
                      1.6585276092098533,
                      1.195519180297825,
                      2.771216578804639,
                      3.415929147052321,
                      3.2683671050816887,
                      2.0283008988918665,
                      2.538791808946255,
                      1.5803577938659903,
                      3.246113637870704,
                      2.147321732091266,
                      2.676531475680997,
                      1.4416291121693632,
                      2.2980976523561196,
                      1.8988608587502216,
                      2.4687484131388873,
                      2.1527308619091685,
                      3.628453298181455,
                      2.3537424476241067,
                      2.5524716176027,
                      2.1953772394313527,
                      2.0425659536592993,
                      1.6326285477526725,
                      3.686781127362739,
                      2.7577009933442698,
                      2.505906927833833,
                      2.442116632743404,
                      3.2502535641428976,
                      3.092014509151922,
                      1.9769664345234206,
                      2.251331219456885,
                      2.921912967587312,
                      4.8023677372124,
                      3.4877453512360197,
                      2.5782083707882637,
                      0.5467117516920186,
                      2.6593975906137537,
                      2.373306933597831,
                      2.203359463068494,
                      1.7824105235051764,
                      3.035777628787639,
                      0.6675641921167204,
                      2.2173262659748167,
                      2.3846843605769985,
                      1.6341956724278999,
                      2.1552265462665114,
                      2.807622529164604,
                      3.977885085311459,
                      3.077338063498571,
                      0.9746105506736953,
                      1.9799806543713707,
                      1.3476007061315256,
                      2.5865406470782033,
                      2.857852915424253,
                      2.2546475964532617,
                      3.5695868441092404,
                      2.526801908218789,
                      3.0683962828760296,
                      2.2653826803700587,
                      2.4735489515271296,
                      3.007204926432848,
                      0.8466714042710293,
                      2.026207604684541,
                      2.639651114689426,
                      2.4932098628347363,
                      2.590290308189001,
                      0.6517687216070104,
                      0.7880666439844863,
                      3.500577415141116,
                      3.3221778669272157,
                      1.2756612663148734,
                      1.896674772093568,
                      3.0730941392457427,
                      3.020813466051927,
                      2.259176486159988,
                      2.691796834995589,
                      3.3332150504353724,
                      0.8578576228758494,
                      2.555922511372583,
                      2.4407408226799694,
                      3.2502535641430588,
                      3.2865187559649933,
                      2.8333185161127656,
                      3.6835394156334575,
                      2.829388856790542,
                      2.1866519281528656,
                      0.7767777581433422,
                      2.601272001190634,
                      2.747769506856269,
                      1.8232449449434747,
                      2.5181370268814827,
                      1.68418830727564,
                      2.212818446295012,
                      2.5534291549520245,
                      0.4739477762499059,
                      2.7952900336013546,
                      2.540925495190464,
                      2.890916840968444,
                      2.916160274486237,
                      1.064365082125052,
                      1.9209884763303282,
                      3.1526318910065507,
                      2.6597046398366877,
                      0.7061852894545044,
                      1.6312854295533892,
                      2.1994521634242155,
                      3.0788117890622857,
                      1.7631830792061622,
                      2.2246073163696005,
                      1.0381977164743883,
                      2.406209705983299,
                      1.789220521197308,
                      2.5048477946373207,
                      2.6384122601715094,
                      2.603388610523953,
                      3.09266563449413,
                      0.5579223037063078,
                      3.1567986323552706,
                      2.7009004662198897,
                      2.6172127973768915,
                      1.4161886178948315,
                      2.994810676238466,
                      2.526801908218789,
                      0.7285885367242252,
                      3.7486078202650304,
                      2.7337784672438965,
                      1.158337970226361,
                      1.9942248976213868,
                      3.544157224919872,
                      1.2443251604957941,
                      1.4273185445410266,
                      1.6341956724278996,
                      2.0117022753670013,
                      2.2709111864293448,
                      2.4203371362447057,
                      2.3318697817000738,
                      1.629109193906587,
                      1.7063803964063797,
                      2.8186599773578114,
                      1.0940636390515077,
                      1.917036792738221,
                      2.5687133680295657,
                      2.4021023314646173,
                      2.4404473343087654,
                      1.378145166707613,
                      1.1383940962020938,
                      3.528739044908193,
                      0.9837309598870421,
                      1.8208053164989877,
                      2.8771261483129384,
                      1.3138384390383104,
                      3.1686801181669737,
                      3.673715761000393,
                      1.5352732218983518,
                      2.283087020134405,
                      1.4672830297514985,
                      2.912149357709604,
                      2.423704540395745,
                      2.0542234107727686,
                      2.527860671981591,
                      1.8680040936755622,
                      3.195536125469366,
                      2.9840214224255206,
                      1.4857803850249245,
                      2.4844708805458584,
                      3.0093123274640434,
                      3.922112349912188,
                      2.7584431831206992,
                      2.3476494656922755,
                      2.8217498265286842,
                      1.6341956724278994,
                      1.2465415566403433,
                      3.1943731149108445,
                      3.565535113717746,
                      0.854202804972238,
                      1.8867673740547666,
                      1.1054432802680352,
                      2.3149749782290576,
                      2.1051518521999317,
                      2.9786006226165167,
                      1.6326728145364184,
                      2.717968938415723,
                      2.520295796821601,
                      3.455833273772147,
                      1.5269804200728814,
                      2.3002231880893635,
                      3.0844737854241036,
                      2.055739623051347,
                      3.92015517743265,
                      2.853946560996445,
                      2.4373259774256133,
                      2.997912979488997,
                      2.580596350517496,
                      2.0309562924504183,
                      4.026396062235505,
                      2.3971121965251694,
                      1.300503086176822,
                      3.0430060130334557,
                      3.0878914295149618,
                      2.471660505891895,
                      2.5328830780967566,
                      3.330695383798251,
                      1.6357954472551999,
                      2.6938811529518243,
                      2.6409944588868397,
                      1.737311860617911,
                      1.4246574896936877,
                      3.409975918803969,
                      1.8004103124936226,
                      1.7711039774008641,
                      1.3976988420632437,
                      2.3961831856530558,
                      2.770343391097448,
                      2.504621039430224,
                      1.1301152662318668,
                      3.0208134259667285,
                      2.721817681493164,
                      3.614661391023395,
                      2.610468473818292,
                      1.4516759043914298,
                      1.1019790458148842,
                      1.2243373408245055,
                      2.6169028698687193,
                      2.075486691205959,
                      2.10354815643664,
                      2.4783957585681757,
                      2.4035894659624177,
                      0.43031556584880665,
                      1.8072339191964413,
                      1.4826390548569435,
                      2.031934864744752,
                      1.7671632228498582,
                      2.1629319196333445,
                      3.086427016705569,
                      3.4159291470523416,
                      2.6022538959813617,
                      2.410983300060638,
                      2.6443191031830042,
                      2.488909532228404,
                      2.424548096643485,
                      3.1990461210277465,
                      2.4753714540733354,
                      2.5594983135088563,
                      1.821143113882216,
                      2.346430841620566,
                      2.421263983941403,
                      1.1116868799945496,
                      1.8162436975415195,
                      2.162904961211264,
                      2.052510236424463,
                      2.4706224044770866,
                      2.4490442856456736,
                      1.4368594434425,
                      2.6293687912591697,
                      1.4875717784933808,
                      1.691285460563379,
                      2.7523456876507106,
                      1.4314780102420606,
                      2.4070788443784186,
                      3.0213446466592133,
                      2.9190300621397336,
                      2.519724115634971,
                      1.0132783548467352,
                      2.4203371598731063,
                      2.6658788867961096,
                      1.160696605907852,
                      1.1070489669523764,
                      2.1301639026459975,
                      3.389947620372963,
                      2.6850575407490007,
                      3.0251492484475784,
                      2.2337640711587623,
                      2.1959718016847036,
                      2.4706224044970764,
                      2.4664609983463315,
                      2.8343497180100536,
                      1.6620532479965138,
                      0.8961817405316971,
                      2.545158157207157,
                      3.1584710641030607,
                      2.152540724873362,
                      2.202912094040926,
                      1.6663532599773414,
                      3.951052086176397,
                      2.1677070641200955,
                      1.3036782397347901,
                      2.9006274170076023,
                      3.6274155831729717,
                      3.534875299266014,
                      1.4475127241286039,
                      2.7687142710176857,
                      2.7913349496252273,
                      0.779676934817514,
                      0.8405123663053133,
                      0.37353565641542036,
                      3.5534937893424923,
                      3.4508936812742714,
                      0.05410305101660249,
                      0.7753987164173022,
                      2.043340730672588,
                      1.7277979100791314,
                      2.2319565362511242,
                      2.442318593646581,
                      2.9731617510524075,
                      2.8214131554919977,
                      1.6158597979894143,
                      2.6857307525740617,
                      2.2039952256909436,
                      1.5494039495349703,
                      2.6089435333065234,
                      3.4380789997519843,
                      2.0591142986961084,
                      1.3351547014550251,
                      4.108685454635778,
                      0.8542028049722584,
                      2.771341640698769,
                      3.4800088382680774,
                      2.0636760346259293,
                      1.1805323955701534,
                      1.3705724842425822,
                      3.0745066736430515,
                      3.120739897118371,
                      1.0757847401661311,
                      2.2055845980962605,
                      1.3725813779935747,
                      2.7066836470227136,
                      2.4622725275967325,
                      1.999015418142903,
                      1.9744983240765748,
                      3.5198312901362825,
                      1.6562946216718852,
                      3.1577423141016965,
                      3.0126516126985274,
                      2.4706224044970826,
                      2.8682757196658497,
                      2.1904313779827724,
                      2.816667181627301,
                      0.7767777581433425,
                      2.3360515596351736,
                      3.2048256120078364,
                      0.8858955320663431,
                      2.112185028048926,
                      0.9824086144630783,
                      2.9300722978899127,
                      2.432724108805111,
                      2.0015591722216244,
                      3.0259342127879716,
                      3.023072361469325,
                      3.2162005178205164,
                      2.50160932181884,
                      2.8832978859539455,
                      1.845898049928538,
                      2.0038379700387186,
                      2.660194976591582,
                      2.344993024746755,
                      1.558198947180364,
                      2.860397830976836,
                      2.5262140921117027,
                      3.025934212787987,
                      3.890272139033905,
                      2.3193221987107306,
                      2.2720801214872552,
                      2.0609805865515463,
                      4.074930216443909,
                      1.6034005871448107,
                      2.767174741694595,
                      2.9632964228266605,
                      2.4722291707510147,
                      3.550309150706714,
                      3.7121707423747554,
                      0.9383411544753152,
                      3.2833999108853633,
                      3.7786711408038607,
                      2.9709609385703017,
                      1.9215656642110792,
                      2.9117954977279417,
                      3.2223801064641684,
                      2.9183710178994446,
                      1.245890926635387,
                      2.270763674125963,
                      1.2050226053669513,
                      2.0223718942909565,
                      1.6857839922555653,
                      3.6346304652693284,
                      2.8196247382679904,
                      1.7788498323677784,
                      2.443441057285526,
                      2.9436566408173497,
                      2.6828360440900023,
                      3.534095209739977,
                      3.4277404995671823,
                      3.631552695428306,
                      2.287712543417099,
                      3.4217202001204403,
                      3.537518069865345,
                      3.433645928165603,
                      2.6352739198157673,
                      2.2385889514725665,
                      1.8682310295837887,
                      2.6243236767707496,
                      2.4194802205368227,
                      1.0763947735684947,
                      2.147152897785722,
                      0.9143313177207073,
                      1.824398171146751,
                      0.5777863247657572,
                      2.025784605428613,
                      1.4787270409363078,
                      2.5274996850148206,
                      1.8986353197507497,
                      1.8253864558302344,
                      2.245921153501308,
                      2.974759103101803,
                      2.871405335695013,
                      2.4865782513556627,
                      1.696525280224193,
                      2.100403176237963,
                      0.7404012414610105,
                      1.9818492695915808,
                      2.1227286180504,
                      3.01159256515064,
                      3.2950960887951894,
                      4.039794752969054,
                      2.5911977768984835,
                      2.900740724951259,
                      2.150136642921593,
                      2.3953370858993424,
                      2.8334433228502363,
                      3.525458098799982,
                      2.7945692427195947,
                      1.7799441948755776,
                      3.6982894124659746,
                      2.7477695068562675,
                      2.8645912313811897,
                      2.136733472943596,
                      2.4507331670487016,
                      2.0972538423301335,
                      1.5418443916783182,
                      1.4950190785602442,
                      3.750546079058025,
                      2.3926332994066684,
                      3.628943358007802,
                      1.8467414347111475,
                      3.0368800864569603,
                      3.331795015364336,
                      3.45918637379158,
                      1.9170591358814557,
                      0.667564192116676,
                      2.624612587418826,
                      1.7962710054747335,
                      2.5211876745275257,
                      4.028863868880853,
                      2.5050297882215746,
                      2.728593150330314,
                      2.876872713395487,
                      2.421549552452011,
                      2.9508596433015786,
                      1.2457519078818173,
                      3.7621966650132936,
                      2.689193810949928,
                      1.2846801936114984,
                      1.485293733674512,
                      2.1912389655388798,
                      2.8357325652853325,
                      2.4839354400285747,
                      3.1200633403274214,
                      3.136884892600585,
                      2.264776421434402,
                      2.3764667760180904,
                      1.205022605715406,
                      3.421095561416135,
                      2.7037273691269355,
                      3.1019269392005566,
                      1.1290486463515688,
                      1.185740254763036,
                      1.245890926635388,
                      1.9851679871233952,
                      3.9867805912207217,
                      2.5103181488458906,
                      2.9857182626131484,
                      3.44156158995934,
                      1.9378081287642588,
                      3.4819824634655596,
                      2.1866519957129764,
                      3.466238917624597,
                      3.5672357140331674,
                      2.4687480292286854,
                      2.791196105722154,
                      2.656394061773703,
                      2.054246487064372,
                      1.3418483568679853,
                      2.4301202861653635,
                      2.310396900974815,
                      1.3698657584959193,
                      1.7647631363471066,
                      2.1079601844036895,
                      2.6593975727900583,
                      1.894179298179662,
                      2.2352667367201002,
                      2.300223188089363,
                      1.8020145670062724,
                      2.2943309131281264,
                      3.066898553044191,
                      1.2443251604957941,
                      3.2957177140356015,
                      2.0578193600742245,
                      2.4362970224214044,
                      3.399028507628841,
                      2.4829289344196006,
                      1.682302135721324,
                      1.6858871989463247,
                      2.8958274428817057,
                      2.7029012971254187,
                      1.7283459716877536,
                      2.872553019721549,
                      1.5405123843985933,
                      1.8673789273595627,
                      2.224435348407233,
                      1.6496472303908944,
                      2.2207076702599626,
                      1.4104864819760696,
                      1.9221984911144803,
                      3.1425236101650276,
                      2.0585446756711514,
                      2.770399746742339,
                      2.601752717557047,
                      1.5327277298023956,
                      2.00486672935505,
                      2.623718170479589,
                      3.979957925335627,
                      1.485038907899429,
                      3.0657496382682017,
                      2.5422296775768296,
                      -0.0017295861378167575,
                      1.7610795962636885,
                      3.125630029454324,
                      1.8352125785014048,
                      2.230589092401588,
                      2.1204016195385367,
                      1.3148997168051253,
                      1.2003164247406626,
                      1.5021376431356046,
                      1.2756612663148734,
                      1.1963546998814927,
                      2.441346243115064,
                      1.8581102295182947,
                      0.05410305099723592,
                      2.943457782271178,
                      3.449012079605936,
                      2.8424062365526988,
                      1.6626904190660938,
                      1.2186578510651118,
                      2.9503225779082998,
                      2.39711218529426,
                      2.7181223057700246,
                      1.8700693653605218,
                      1.218653063151855,
                      2.7142808931994833,
                      2.249970277712636,
                      2.590143595950947,
                      2.139227906565018,
                      2.5976885213585654,
                      1.3364739773052707,
                      1.4174341340621244,
                      1.8329108693744063,
                      2.984488886964397,
                      3.2648340307368042,
                      2.6940459811897033,
                      3.034732275465203,
                      1.8356140909605527,
                      4.009337921848068,
                      2.5778970820877056,
                      2.4199888243003596,
                      3.2697464154804603,
                      2.660559049074033,
                      3.14252361020512,
                      3.142997204791192,
                      1.7286413049257336,
                      3.3457077882529824,
                      0.9230373073554129,
                      2.311990740760187,
                      1.5844625908830945,
                      2.639788073416515,
                      2.163580032318889,
                      1.9304056749155458,
                      2.529649920483476,
                      0.1802507244584412,
                      2.8465500402192117,
                      2.1196742023942816,
                      2.212818851369694,
                      2.125414320973782,
                      0.30334648412425297,
                      2.7318775437011715,
                      2.1714287598694,
                      2.454414953493401,
                      1.4674940912460972,
                      1.2066355436471667,
                      2.5032197450260334,
                      2.725757661901685,
                      2.526801908218789,
                      1.33509626179501,
                      0.6513688216671452,
                      0.18025072445847026,
                      1.4211966763907773,
                      2.222597303533022,
                      1.6923450280381467,
                      2.7344466064737225,
                      2.0793597539360547,
                      2.148889294992551,
                      2.8439857087448837,
                      2.245536524321006,
                      3.2429840081290187,
                      2.601752717556893,
                      1.9606757071681629,
                      2.3342766409651317,
                      2.2144425488466344,
                      1.7923239998147364,
                      3.9540413742882135,
                      2.8066743007577397,
                      0.8542028049722573,
                      2.6903698416206008,
                      2.763097196041035,
                      1.918575353991815,
                      2.296339334681553,
                      2.857271941031721,
                      2.513712846901291,
                      3.4797174284770067,
                      4.489034332916607,
                      1.7923238423940357,
                      2.601752717557047,
                      3.006377689219373,
                      0.9765814833434757,
                      1.4530489929327552,
                      3.021804749276167,
                      2.5527486439456837,
                      2.5863575276900526,
                      3.3385549558571412,
                      2.5680244182430827,
                      1.790838628049188,
                      3.487980370982617,
                      2.5511241529277875,
                      1.9058359570687848,
                      3.4066751180936254,
                      2.6251591091762587,
                      3.466414942665026,
                      2.827062847144523,
                      2.4239864084704283,
                      0.9579729857402336,
                      2.6699739608044157,
                      3.320876371102489,
                      1.5520206223495745,
                      3.273312988837809,
                      2.6683019408271513,
                      2.6837540854892548,
                      1.6261125089025712,
                      2.5363108886815193,
                      2.501360653722029,
                      1.858110229518288,
                      2.5517495867612108,
                      1.8969897005218548,
                      2.4487450922547453,
                      2.174845922898448,
                      3.546006369574405,
                      2.526801908218789,
                      2.149073773672624,
                      2.5882681991850345,
                      2.5024210494284316,
                      0.9893521322398121,
                      1.7103935686693266,
                      2.5505748955778307,
                      3.288223521416655,
                      1.05392581160903,
                      2.6042075734868684,
                      2.439997442571324,
                      2.39038456900056,
                      1.6156377754121274,
                      1.7373118606179105,
                      1.2797786709352055,
                      2.426061534032185,
                      3.759547056291454,
                      3.1810931884104,
                      1.4621761183461044,
                      3.428499897978359,
                      2.1791230701879107,
                      1.5633612366316427,
                      1.7551265247550667,
                      3.4900440038340954,
                      2.2342415061020224,
                      2.8239612720176392,
                      2.1635259742414945,
                      1.0615920069964202,
                      2.9261640835287164,
                      2.0525102364244585,
                      2.6706286847571756,
                      2.03693908504243,
                      2.997912982344217,
                      0.957972980708711,
                      3.3025344280896,
                      2.5903929459521384,
                      2.623416293539168,
                      1.7721971127562868,
                      1.9188933292043806,
                      2.3157348113131073,
                      2.713757788783662,
                      1.1765082126315607,
                      2.0347012540750296,
                      3.0594344114320404,
                      2.060588486046665,
                      1.9562583345233693,
                      2.1407383732446363,
                      2.869436639254594,
                      2.3156523434527085,
                      3.159608462084738,
                      3.460080261390614,
                      2.601752717557047,
                      2.334814953191575,
                      0.9724639258978623,
                      2.5634579679876195,
                      3.628375885378029,
                      1.5729349389012524,
                      2.9704752206312657,
                      3.5963753000612386,
                      2.405546549113393,
                      3.897997314133411,
                      3.3001240235872755,
                      2.1625754589748167,
                      3.150427334690281,
                      1.7375726459876948,
                      1.6284142703910147,
                      2.1431318023439525,
                      2.231875059890846,
                      2.5339704340936358,
                      3.5970668383014477,
                      2.693768377505291,
                      1.7413849736412508,
                      2.8649553304177524,
                      1.2423079432470157,
                      2.8349537598659693,
                      2.022253678214973,
                      2.59984123048459,
                      2.9737106849600683,
                      2.3446561960205163,
                      2.6355982639640136,
                      2.4068714252739194,
                      2.0313529601978195,
                      1.7496892029859272,
                      2.0621486436943246,
                      3.2603695185960277,
                      1.4516759070470113,
                      2.422385370897684,
                      3.0259342127879854,
                      3.495239499596317,
                      2.9999834040314015,
                      2.050595684770346,
                      1.737311860617911,
                      3.0624724819225095,
                      2.5358337913441273,
                      2.757095585204214,
                      2.4753036796292416,
                      3.345286972547022,
                      2.495495661615336,
                      2.8997222119832036,
                      2.4033979970287427,
                      3.7297633437078255,
                      3.2254971000854256,
                      0.6687025257154994,
                      0.9604760687823323,
                      2.8631620840509924,
                      3.4892903917703646,
                      2.5467325247387436,
                      2.09002076634897,
                      3.2029033393938158,
                      3.0327858837920108,
                      2.4799269598133504,
                      1.0941927641909877,
                      0.8387607988609667,
                      1.955556324625437,
                      1.8980741607516436,
                      2.7521467393665304,
                      1.6265202557727723,
                      0.9431685598659479,
                      1.3537454144110999,
                      1.9313719353422754,
                      2.6380916422760685,
                      2.1384696210745737,
                      3.597270696907163,
                      1.4638522470908233,
                      1.9387038542467863,
                      2.728007670725195,
                      2.2623739446139473,
                      1.765979970971571,
                      3.058337270343387,
                      4.172989634144869,
                      2.7928576850136033,
                      0.9539601967154011,
                      2.4976737357955443,
                      1.9990106576721933,
                      2.4844708800464566,
                      2.5334400225875364,
                      2.1860412880143185,
                      2.477119339681116,
                      2.0283007326689604,
                      2.465499289819869,
                      1.594697319377904,
                      2.6306043398630607,
                      2.0728110132018673,
                      1.4226647255606282,
                      1.7654160867852582,
                      3.252193647413668,
                      1.5238756704884797,
                      2.423704551671084,
                      1.9129249240452495,
                      3.7707502766795042,
                      1.2469301454664714,
                      0.7061852894544959,
                      2.89072625241538,
                      2.7015758048447456,
                      2.0265718897223586,
                      1.5041152298037104,
                      2.277519589174742,
                      3.1008627597602194,
                      2.994143197040045,
                      2.4738357728229565,
                      2.1641833264767367,
                      3.338493618716142,
                      0.8072372957690535,
                      3.9058166479318563,
                      2.29855741119281,
                      2.631815601453849,
                      3.7009874040039183,
                      1.4667896984315545,
                      2.8169220384544023,
                      2.65546843833162,
                      1.3364902049156626,
                      0.3075185672457059,
                      3.0883407907755993,
                      2.050595684770346,
                      2.2995202945726465,
                      1.77738350502829,
                      3.474193326127574,
                      2.395337377203091,
                      2.897073039611982,
                      2.368661809479435,
                      2.151396110983863,
                      2.1794701167425377,
                      0.6795642885725908,
                      0.7073583334360066,
                      1.8191863438167528,
                      2.123027684691226,
                      2.7630975878442228,
                      2.270303705773318,
                      2.2208167522760673,
                      2.9358098940134947,
                      1.7688584192736043,
                      0.9731541842957117,
                      3.3255242254439836,
                      2.707135471236195,
                      1.7180867282869345,
                      2.615852760112309,
                      3.3786639358432775,
                      3.2833999108888547,
                      2.5892193350203216,
                      2.5503183479706877,
                      2.6563941358695606,
                      2.8843775197192247,
                      1.9339164746901172,
                      2.713813201250328,
                      2.3485378193666375,
                      1.4937430664056088,
                      3.5657069243308284,
                      1.4238225255176389,
                      1.8839937383119227,
                      2.0744751571340188,
                      0.9066463176066669,
                      3.0275493156659112,
                      3.03379011633501,
                      1.3281909902076279,
                      1.009842128072888,
                      1.2443251604957943,
                      3.0868502515692815,
                      3.990797039669971,
                      2.46088567152372,
                      2.7766797228962594,
                      1.8134886743753456,
                      3.2880692062279504,
                      3.7357187850654467,
                      0.15003121953972148,
                      3.1451976788614298,
                      2.588500922306507,
                      2.8591734946949985,
                      0.6675641921166386,
                      2.951761049129521,
                      1.7823541792336195,
                      1.3148997159101556,
                      1.0811519313440885,
                      2.3476697750333786,
                      1.9265720826994335,
                      2.9794535606866095,
                      2.4674135198800964,
                      3.2614693308138003,
                      2.7008444278591304,
                      2.548326535035334,
                      2.6864192681549,
                      2.6083871684465856,
                      3.2756006644246356,
                      2.641872123762261,
                      3.01265177149571,
                      1.4153515929144016,
                      2.200379863169973,
                      1.4217844369778174,
                      1.6389928024531986,
                      2.007518681659296,
                      1.894380131816707,
                      0.43143548277083693,
                      2.0133457199633784,
                      1.4063080074266963,
                      2.8925760969636634,
                      1.0298161625384257,
                      2.0752173335462465,
                      2.4386957838810805,
                      1.5287308342045347,
                      1.9355655036882233,
                      1.8985703426328109,
                      1.4246317142524558,
                      3.2502535641430534,
                      3.3815730772986674,
                      2.948322626026921,
                      1.6004805628750896,
                      3.791123831572072,
                      2.559197975319045
                    ],
                    "colorbar": {
                      "title": {
                        "text": "Sharpe<br>Ratio"
                      }
                    },
                    "colorscale": [
                      [
                        0,
                        "rgb(103,0,31)"
                      ],
                      [
                        0.1,
                        "rgb(178,24,43)"
                      ],
                      [
                        0.2,
                        "rgb(214,96,77)"
                      ],
                      [
                        0.3,
                        "rgb(244,165,130)"
                      ],
                      [
                        0.4,
                        "rgb(253,219,199)"
                      ],
                      [
                        0.5,
                        "rgb(247,247,247)"
                      ],
                      [
                        0.6,
                        "rgb(209,229,240)"
                      ],
                      [
                        0.7,
                        "rgb(146,197,222)"
                      ],
                      [
                        0.8,
                        "rgb(67,147,195)"
                      ],
                      [
                        0.9,
                        "rgb(33,102,172)"
                      ],
                      [
                        1,
                        "rgb(5,48,97)"
                      ]
                    ],
                    "line": {
                      "width": 1
                    },
                    "showscale": true,
                    "size": 7
                  },
                  "mode": "markers",
                  "text": [
                    "Return: 35.678%<br>Volatility: 0.154<br>Sharpe Ratio: 2.315<br>BAC_Close: Weight=0.087<br>REGN_Close: Weight=0.000<br>GIS_Close: Weight=0.000<br>TXN_Close: Weight=0.913",
                    "Return: 21.242%<br>Volatility: 0.085<br>Sharpe Ratio: 2.488<br>DIS_Close: Weight=0.000<br>META_Close: Weight=0.346<br>CVX_Close: Weight=0.288<br>JNJ_Close: Weight=0.365",
                    "Return: 50.159%<br>Volatility: 0.163<br>Sharpe Ratio: 3.073<br>EW_Close: Weight=0.124<br>ABBV_Close: Weight=0.876<br>T_Close: Weight=0.000<br>MO_Close: Weight=0.000",
                    "Return: 16.838%<br>Volatility: 0.107<br>Sharpe Ratio: 1.579<br>PG_Close: Weight=0.141<br>CMCSA_Close: Weight=0.068<br>SYK_Close: Weight=0.568<br>GM_Close: Weight=0.223",
                    "Return: 28.966%<br>Volatility: 0.137<br>Sharpe Ratio: 2.117<br>PFE_Close: Weight=0.383<br>BIIB_Close: Weight=0.000<br>ORCL_Close: Weight=0.083<br>ADBE_Close: Weight=0.535",
                    "Return: 37.500%<br>Volatility: 0.144<br>Sharpe Ratio: 2.602<br>WFC_Close: Weight=0.000<br>DHR_Close: Weight=0.000<br>ZBH_Close: Weight=0.000<br>MA_Close: Weight=1.000",
                    "Return: 24.021%<br>Volatility: 0.083<br>Sharpe Ratio: 2.901<br>UNH_Close: Weight=0.394<br>AEP_Close: Weight=0.379<br>JPM_Close: Weight=0.227",
                    "Return: 26.511%<br>Volatility: 0.092<br>Sharpe Ratio: 2.867<br>AAPL_Close: Weight=0.213<br>RTX_Close: Weight=0.188<br>HD_Close: Weight=0.530<br>VZ_Close: Weight=0.069",
                    "Return: 46.587%<br>Volatility: 0.191<br>Sharpe Ratio: 2.436<br>K_Close: Weight=0.000<br>ISRG_Close: Weight=1.000<br>SO_Close: Weight=0.000",
                    "Return: 27.517%<br>Volatility: 0.098<br>Sharpe Ratio: 2.820<br>SYY_Close: Weight=0.292<br>V_Close: Weight=0.708<br>COST_Close: Weight=0.000",
                    "Return: 37.540%<br>Volatility: 0.150<br>Sharpe Ratio: 2.510<br>AMZN_Close: Weight=0.306<br>IBM_Close: Weight=0.000<br>TXN_Close: Weight=0.694",
                    "Return: 34.904%<br>Volatility: 0.141<br>Sharpe Ratio: 2.475<br>UNH_Close: Weight=1.000<br>F_Close: Weight=0.000<br>PM_Close: Weight=0.000",
                    "Return: 33.456%<br>Volatility: 0.113<br>Sharpe Ratio: 2.956<br>LMT_Close: Weight=0.555<br>DE_Close: Weight=0.440<br>QCOM_Close: Weight=0.006",
                    "Return: 20.480%<br>Volatility: 0.116<br>Sharpe Ratio: 1.759<br>TMO_Close: Weight=0.385<br>SYK_Close: Weight=0.466<br>ETN_Close: Weight=0.148",
                    "Return: 24.916%<br>Volatility: 0.090<br>Sharpe Ratio: 2.769<br>NEE_Close: Weight=0.503<br>SYK_Close: Weight=0.093<br>ACN_Close: Weight=0.405",
                    "Return: 24.679%<br>Volatility: 0.110<br>Sharpe Ratio: 2.235<br>LLY_Close: Weight=0.000<br>CMCSA_Close: Weight=0.059<br>META_Close: Weight=0.534<br>SYY_Close: Weight=0.407",
                    "Return: 24.567%<br>Volatility: 0.086<br>Sharpe Ratio: 2.870<br>TMO_Close: Weight=0.162<br>UA_Close: Weight=0.000<br>ACN_Close: Weight=0.353<br>NEE_Close: Weight=0.485",
                    "Return: 38.275%<br>Volatility: 0.124<br>Sharpe Ratio: 3.093<br>COST_Close: Weight=0.098<br>BABA_Close: Weight=0.344<br>ABT_Close: Weight=0.558<br>MO_Close: Weight=0.000",
                    "Return: 21.771%<br>Volatility: 0.114<br>Sharpe Ratio: 1.906<br>CRM_Close: Weight=0.563<br>UA_Close: Weight=0.000<br>RTX_Close: Weight=0.437",
                    "Return: 32.699%<br>Volatility: 0.124<br>Sharpe Ratio: 2.637<br>AMD_Close: Weight=0.000<br>RTX_Close: Weight=0.397<br>WMT_Close: Weight=0.603",
                    "Return: 30.461%<br>Volatility: 0.095<br>Sharpe Ratio: 3.191<br>ABT_Close: Weight=0.384<br>VZ_Close: Weight=0.000<br>WMT_Close: Weight=0.360<br>CVX_Close: Weight=0.256",
                    "Return: 38.046%<br>Volatility: 0.115<br>Sharpe Ratio: 3.312<br>UNH_Close: Weight=0.434<br>ISRG_Close: Weight=0.228<br>TMO_Close: Weight=0.009<br>MSFT_Close: Weight=0.329",
                    "Return: 40.981%<br>Volatility: 0.140<br>Sharpe Ratio: 2.921<br>MA_Close: Weight=0.617<br>CPB_Close: Weight=0.000<br>MDT_Close: Weight=0.000<br>ISRG_Close: Weight=0.383",
                    "Return: 12.630%<br>Volatility: 0.101<br>Sharpe Ratio: 1.246<br>ORCL_Close: Weight=0.261<br>PG_Close: Weight=0.404<br>EW_Close: Weight=0.335",
                    "Return: 31.518%<br>Volatility: 0.131<br>Sharpe Ratio: 2.408<br>F_Close: Weight=0.000<br>HD_Close: Weight=0.971<br>SNAP_Close: Weight=0.000<br>REGN_Close: Weight=0.029",
                    "Return: 44.268%<br>Volatility: 0.178<br>Sharpe Ratio: 2.493<br>EMR_Close: Weight=0.419<br>BABA_Close: Weight=0.581<br>MDT_Close: Weight=0.000",
                    "Return: 46.121%<br>Volatility: 0.275<br>Sharpe Ratio: 1.675<br>VRTX_Close: Weight=0.643<br>QCOM_Close: Weight=0.357<br>GE_Close: Weight=0.000",
                    "Return: 31.547%<br>Volatility: 0.123<br>Sharpe Ratio: 2.564<br>TSLA_Close: Weight=0.058<br>BTI_Close: Weight=0.120<br>BIIB_Close: Weight=0.000<br>UNH_Close: Weight=0.822",
                    "Return: 48.485%<br>Volatility: 0.133<br>Sharpe Ratio: 3.633<br>SYK_Close: Weight=0.292<br>BA_Close: Weight=0.708<br>CPB_Close: Weight=0.000",
                    "Return: 46.425%<br>Volatility: 0.122<br>Sharpe Ratio: 3.803<br>TMO_Close: Weight=0.325<br>BA_Close: Weight=0.656<br>QCOM_Close: Weight=0.019",
                    "Return: 17.010%<br>Volatility: 0.076<br>Sharpe Ratio: 2.246<br>JPM_Close: Weight=0.390<br>BAC_Close: Weight=0.000<br>AEP_Close: Weight=0.610",
                    "Return: 21.457%<br>Volatility: 0.089<br>Sharpe Ratio: 2.403<br>NEE_Close: Weight=0.682<br>RTX_Close: Weight=0.318<br>MDT_Close: Weight=0.000",
                    "Return: 55.681%<br>Volatility: 0.180<br>Sharpe Ratio: 3.090<br>ISRG_Close: Weight=0.436<br>NFLX_Close: Weight=0.052<br>PYPL_Close: Weight=0.512<br>GILD_Close: Weight=0.000",
                    "Return: 44.040%<br>Volatility: 0.116<br>Sharpe Ratio: 3.810<br>ADBE_Close: Weight=0.191<br>AEP_Close: Weight=0.337<br>CAT_Close: Weight=0.472",
                    "Return: 22.664%<br>Volatility: 0.113<br>Sharpe Ratio: 1.999<br>EMR_Close: Weight=0.361<br>GOOGL_Close: Weight=0.523<br>CSCO_Close: Weight=0.116",
                    "Return: 48.798%<br>Volatility: 0.224<br>Sharpe Ratio: 2.179<br>AAPL_Close: Weight=0.425<br>NVDA_Close: Weight=0.456<br>BTI_Close: Weight=0.119<br>AMD_Close: Weight=0.000",
                    "Return: 18.855%<br>Volatility: 0.183<br>Sharpe Ratio: 1.028<br>BIIB_Close: Weight=0.141<br>MRK_Close: Weight=0.000<br>RMD_Close: Weight=0.859<br>RDY_Close: Weight=0.000",
                    "Return: 27.841%<br>Volatility: 0.084<br>Sharpe Ratio: 3.331<br>UA_Close: Weight=0.000<br>NEE_Close: Weight=0.518<br>HD_Close: Weight=0.482",
                    "Return: 16.047%<br>Volatility: 0.082<br>Sharpe Ratio: 1.962<br>SO_Close: Weight=0.000<br>KO_Close: Weight=0.669<br>SYK_Close: Weight=0.331",
                    "Return: 45.188%<br>Volatility: 0.131<br>Sharpe Ratio: 3.454<br>VRTX_Close: Weight=0.128<br>GS_Close: Weight=0.000<br>HD_Close: Weight=0.685<br>NVDA_Close: Weight=0.187",
                    "Return: 43.915%<br>Volatility: 0.114<br>Sharpe Ratio: 3.854<br>V_Close: Weight=0.405<br>BA_Close: Weight=0.493<br>JPM_Close: Weight=0.103",
                    "Return: 31.063%<br>Volatility: 0.096<br>Sharpe Ratio: 3.251<br>TSLA_Close: Weight=0.032<br>NEE_Close: Weight=0.435<br>MCD_Close: Weight=0.533",
                    "Return: 16.249%<br>Volatility: 0.113<br>Sharpe Ratio: 1.438<br>BTI_Close: Weight=0.180<br>QCOM_Close: Weight=0.177<br>K_Close: Weight=0.000<br>RTX_Close: Weight=0.643",
                    "Return: 57.728%<br>Volatility: 0.197<br>Sharpe Ratio: 2.933<br>PYPL_Close: Weight=0.722<br>AMZN_Close: Weight=0.278<br>MRK_Close: Weight=0.000<br>META_Close: Weight=0.000",
                    "Return: 31.719%<br>Volatility: 0.104<br>Sharpe Ratio: 3.039<br>UNH_Close: Weight=0.540<br>ADBE_Close: Weight=0.249<br>PG_Close: Weight=0.155<br>CSCO_Close: Weight=0.056",
                    "Return: 37.413%<br>Volatility: 0.136<br>Sharpe Ratio: 2.742<br>SRE_Close: Weight=0.000<br>TMO_Close: Weight=0.327<br>DE_Close: Weight=0.673",
                    "Return: 31.913%<br>Volatility: 0.129<br>Sharpe Ratio: 2.465<br>NKE_Close: Weight=0.096<br>GOOGL_Close: Weight=0.057<br>DIS_Close: Weight=0.044<br>MSFT_Close: Weight=0.803",
                    "Return: 38.148%<br>Volatility: 0.124<br>Sharpe Ratio: 3.084<br>BABA_Close: Weight=0.323<br>QCOM_Close: Weight=0.004<br>MMM_Close: Weight=0.603<br>RMD_Close: Weight=0.069",
                    "Return: 33.678%<br>Volatility: 0.135<br>Sharpe Ratio: 2.487<br>MS_Close: Weight=0.068<br>BIIB_Close: Weight=0.000<br>GIS_Close: Weight=0.000<br>UNH_Close: Weight=0.932",
                    "Return: 19.736%<br>Volatility: 0.170<br>Sharpe Ratio: 1.161<br>GS_Close: Weight=0.000<br>QCOM_Close: Weight=0.394<br>BAC_Close: Weight=0.606",
                    "Return: 15.234%<br>Volatility: 0.116<br>Sharpe Ratio: 1.309<br>CSCO_Close: Weight=0.352<br>BAC_Close: Weight=0.327<br>DHR_Close: Weight=0.321",
                    "Return: 38.352%<br>Volatility: 0.125<br>Sharpe Ratio: 3.076<br>GM_Close: Weight=0.056<br>BABA_Close: Weight=0.334<br>MMM_Close: Weight=0.610<br>DHR_Close: Weight=0.000",
                    "Return: 37.757%<br>Volatility: 0.154<br>Sharpe Ratio: 2.454<br>MS_Close: Weight=0.202<br>MDT_Close: Weight=0.000<br>WMT_Close: Weight=0.798<br>GIS_Close: Weight=0.000",
                    "Return: 13.085%<br>Volatility: 0.088<br>Sharpe Ratio: 1.483<br>DUK_Close: Weight=0.510<br>AMGN_Close: Weight=0.000<br>EMR_Close: Weight=0.490",
                    "Return: 31.048%<br>Volatility: 0.091<br>Sharpe Ratio: 3.429<br>T_Close: Weight=0.000<br>LMT_Close: Weight=0.491<br>MCD_Close: Weight=0.509",
                    "Return: 35.446%<br>Volatility: 0.135<br>Sharpe Ratio: 2.635<br>BMY_Close: Weight=0.028<br>EW_Close: Weight=0.089<br>MA_Close: Weight=0.883<br>BTI_Close: Weight=0.000",
                    "Return: 17.822%<br>Volatility: 0.101<br>Sharpe Ratio: 1.771<br>GE_Close: Weight=0.000<br>GOOGL_Close: Weight=0.594<br>DUK_Close: Weight=0.406",
                    "Return: 43.966%<br>Volatility: 0.130<br>Sharpe Ratio: 3.378<br>ISRG_Close: Weight=0.422<br>NFLX_Close: Weight=0.122<br>AMD_Close: Weight=0.000<br>WMT_Close: Weight=0.456",
                    "Return: 22.050%<br>Volatility: 0.111<br>Sharpe Ratio: 1.982<br>TMO_Close: Weight=0.314<br>GOOGL_Close: Weight=0.486<br>BTI_Close: Weight=0.051<br>GM_Close: Weight=0.150",
                    "Return: 31.642%<br>Volatility: 0.091<br>Sharpe Ratio: 3.458<br>MCD_Close: Weight=0.465<br>BIIB_Close: Weight=0.000<br>HD_Close: Weight=0.414<br>DUK_Close: Weight=0.120",
                    "Return: 26.976%<br>Volatility: 0.109<br>Sharpe Ratio: 2.465<br>GOOG_Close: Weight=0.351<br>BTI_Close: Weight=0.047<br>MMM_Close: Weight=0.603<br>KR_Close: Weight=0.000",
                    "Return: 24.748%<br>Volatility: 0.120<br>Sharpe Ratio: 2.059<br>EMR_Close: Weight=0.398<br>GOOG_Close: Weight=0.602<br>BSX_Close: Weight=0.000<br>MRK_Close: Weight=0.000",
                    "Return: 40.215%<br>Volatility: 0.132<br>Sharpe Ratio: 3.039<br>BABA_Close: Weight=0.223<br>MA_Close: Weight=0.540<br>NVDA_Close: Weight=0.068<br>PG_Close: Weight=0.168",
                    "Return: 35.896%<br>Volatility: 0.112<br>Sharpe Ratio: 3.198<br>UNH_Close: Weight=0.557<br>K_Close: Weight=0.000<br>TXN_Close: Weight=0.443",
                    "Return: -0.165%<br>Volatility: 0.140<br>Sharpe Ratio: -0.012<br>UA_Close: Weight=0.000<br>AMD_Close: Weight=0.000<br>PM_Close: Weight=1.000<br>DIS_Close: Weight=0.000",
                    "Return: 41.186%<br>Volatility: 0.120<br>Sharpe Ratio: 3.425<br>MMM_Close: Weight=0.419<br>QCOM_Close: Weight=0.015<br>CSCO_Close: Weight=0.035<br>ABBV_Close: Weight=0.531",
                    "Return: 24.157%<br>Volatility: 0.097<br>Sharpe Ratio: 2.494<br>SRE_Close: Weight=0.000<br>BTI_Close: Weight=0.037<br>EMR_Close: Weight=0.082<br>HON_Close: Weight=0.881",
                    "Return: 24.680%<br>Volatility: 0.100<br>Sharpe Ratio: 2.471<br>ACN_Close: Weight=0.474<br>GOOGL_Close: Weight=0.235<br>TMO_Close: Weight=0.158<br>RTX_Close: Weight=0.133",
                    "Return: 4.884%<br>Volatility: 0.103<br>Sharpe Ratio: 0.475<br>IBM_Close: Weight=0.000<br>WFC_Close: Weight=0.386<br>RDY_Close: Weight=0.000<br>XOM_Close: Weight=0.614",
                    "Return: 49.647%<br>Volatility: 0.227<br>Sharpe Ratio: 2.185<br>CSCO_Close: Weight=0.481<br>ZBH_Close: Weight=0.000<br>T_Close: Weight=0.000<br>NVDA_Close: Weight=0.519",
                    "Return: 22.240%<br>Volatility: 0.123<br>Sharpe Ratio: 1.807<br>GOOGL_Close: Weight=0.599<br>MO_Close: Weight=0.000<br>RTX_Close: Weight=0.401",
                    "Return: 35.673%<br>Volatility: 0.215<br>Sharpe Ratio: 1.659<br>VRTX_Close: Weight=0.512<br>PM_Close: Weight=0.000<br>F_Close: Weight=0.026<br>DHR_Close: Weight=0.462",
                    "Return: 18.277%<br>Volatility: 0.153<br>Sharpe Ratio: 1.196<br>COST_Close: Weight=0.107<br>MO_Close: Weight=0.000<br>SYY_Close: Weight=0.893<br>IBM_Close: Weight=0.000",
                    "Return: 30.391%<br>Volatility: 0.110<br>Sharpe Ratio: 2.771<br>MDT_Close: Weight=0.000<br>ABT_Close: Weight=0.409<br>TXN_Close: Weight=0.428<br>RTX_Close: Weight=0.163",
                    "Return: 59.541%<br>Volatility: 0.174<br>Sharpe Ratio: 3.416<br>BA_Close: Weight=1.000<br>SNAP_Close: Weight=0.000<br>MO_Close: Weight=0.000",
                    "Return: 58.599%<br>Volatility: 0.179<br>Sharpe Ratio: 3.268<br>XOM_Close: Weight=0.000<br>BMY_Close: Weight=0.105<br>CAT_Close: Weight=0.895<br>SO_Close: Weight=0.000",
                    "Return: 20.060%<br>Volatility: 0.099<br>Sharpe Ratio: 2.028<br>JNJ_Close: Weight=0.617<br>GS_Close: Weight=0.000<br>AAPL_Close: Weight=0.383",
                    "Return: 40.701%<br>Volatility: 0.160<br>Sharpe Ratio: 2.539<br>DE_Close: Weight=0.877<br>DHR_Close: Weight=0.123<br>ZBH_Close: Weight=0.000<br>WFC_Close: Weight=0.000",
                    "Return: 19.552%<br>Volatility: 0.124<br>Sharpe Ratio: 1.580<br>SYY_Close: Weight=0.463<br>MS_Close: Weight=0.000<br>JPM_Close: Weight=0.537",
                    "Return: 33.184%<br>Volatility: 0.102<br>Sharpe Ratio: 3.246<br>HON_Close: Weight=0.521<br>LLY_Close: Weight=0.000<br>ISRG_Close: Weight=0.257<br>MSFT_Close: Weight=0.221",
                    "Return: 25.826%<br>Volatility: 0.120<br>Sharpe Ratio: 2.147<br>RDY_Close: Weight=0.000<br>VZ_Close: Weight=0.118<br>MMM_Close: Weight=0.882",
                    "Return: 25.869%<br>Volatility: 0.097<br>Sharpe Ratio: 2.677<br>PEP_Close: Weight=0.360<br>BAC_Close: Weight=0.133<br>SYK_Close: Weight=0.002<br>MSFT_Close: Weight=0.504",
                    "Return: 14.041%<br>Volatility: 0.097<br>Sharpe Ratio: 1.442<br>AEP_Close: Weight=0.896<br>DUK_Close: Weight=0.000<br>LLY_Close: Weight=0.104",
                    "Return: 21.580%<br>Volatility: 0.094<br>Sharpe Ratio: 2.298<br>RDY_Close: Weight=0.000<br>AMZN_Close: Weight=0.331<br>KO_Close: Weight=0.669",
                    "Return: 25.817%<br>Volatility: 0.136<br>Sharpe Ratio: 1.899<br>TSLA_Close: Weight=0.059<br>BAC_Close: Weight=0.245<br>GOOG_Close: Weight=0.696<br>PM_Close: Weight=0.000",
                    "Return: 24.888%<br>Volatility: 0.101<br>Sharpe Ratio: 2.469<br>REGN_Close: Weight=0.000<br>HON_Close: Weight=0.978<br>MS_Close: Weight=0.022<br>MRK_Close: Weight=0.000",
                    "Return: 24.224%<br>Volatility: 0.113<br>Sharpe Ratio: 2.153<br>MMM_Close: Weight=0.809<br>K_Close: Weight=0.000<br>PFE_Close: Weight=0.191",
                    "Return: 47.038%<br>Volatility: 0.130<br>Sharpe Ratio: 3.628<br>UNH_Close: Weight=0.508<br>PYPL_Close: Weight=0.344<br>ISRG_Close: Weight=0.149<br>SRE_Close: Weight=0.000",
                    "Return: 25.829%<br>Volatility: 0.110<br>Sharpe Ratio: 2.354<br>SYK_Close: Weight=0.181<br>CRM_Close: Weight=0.268<br>ACN_Close: Weight=0.550",
                    "Return: 28.828%<br>Volatility: 0.113<br>Sharpe Ratio: 2.552<br>VRTX_Close: Weight=0.146<br>LMT_Close: Weight=0.784<br>COST_Close: Weight=0.070",
                    "Return: 23.931%<br>Volatility: 0.109<br>Sharpe Ratio: 2.195<br>ABT_Close: Weight=0.705<br>GE_Close: Weight=0.000<br>EXC_Close: Weight=0.295",
                    "Return: 22.839%<br>Volatility: 0.112<br>Sharpe Ratio: 2.043<br>RDY_Close: Weight=0.000<br>CPB_Close: Weight=0.000<br>CRM_Close: Weight=0.584<br>SYY_Close: Weight=0.416",
                    "Return: 21.287%<br>Volatility: 0.130<br>Sharpe Ratio: 1.633<br>IBM_Close: Weight=0.000<br>GILD_Close: Weight=0.046<br>ZBH_Close: Weight=0.017<br>SAP_Close: Weight=0.938",
                    "Return: 45.033%<br>Volatility: 0.122<br>Sharpe Ratio: 3.687<br>UA_Close: Weight=0.000<br>CRM_Close: Weight=0.263<br>JPM_Close: Weight=0.140<br>BA_Close: Weight=0.597",
                    "Return: 20.130%<br>Volatility: 0.073<br>Sharpe Ratio: 2.758<br>KO_Close: Weight=0.366<br>HON_Close: Weight=0.595<br>CMCSA_Close: Weight=0.039<br>DIS_Close: Weight=0.000",
                    "Return: 21.530%<br>Volatility: 0.086<br>Sharpe Ratio: 2.506<br>SYY_Close: Weight=0.159<br>AEP_Close: Weight=0.369<br>AMD_Close: Weight=0.000<br>ACN_Close: Weight=0.471",
                    "Return: 29.920%<br>Volatility: 0.123<br>Sharpe Ratio: 2.442<br>SNAP_Close: Weight=0.000<br>HD_Close: Weight=0.880<br>BMY_Close: Weight=0.120",
                    "Return: 64.107%<br>Volatility: 0.197<br>Sharpe Ratio: 3.250<br>CAT_Close: Weight=1.000<br>GE_Close: Weight=0.000<br>MRK_Close: Weight=0.000",
                    "Return: 31.445%<br>Volatility: 0.102<br>Sharpe Ratio: 3.092<br>TXN_Close: Weight=0.260<br>V_Close: Weight=0.384<br>SO_Close: Weight=0.000<br>MMM_Close: Weight=0.355",
                    "Return: 33.779%<br>Volatility: 0.171<br>Sharpe Ratio: 1.977<br>MRK_Close: Weight=0.000<br>EW_Close: Weight=0.294<br>AMZN_Close: Weight=0.706",
                    "Return: 25.309%<br>Volatility: 0.112<br>Sharpe Ratio: 2.251<br>TMO_Close: Weight=0.263<br>MO_Close: Weight=0.000<br>RMD_Close: Weight=0.073<br>ACN_Close: Weight=0.664",
                    "Return: 31.138%<br>Volatility: 0.107<br>Sharpe Ratio: 2.922<br>ADBE_Close: Weight=0.199<br>MMM_Close: Weight=0.421<br>ACN_Close: Weight=0.380",
                    "Return: 54.901%<br>Volatility: 0.114<br>Sharpe Ratio: 4.802<br>CAT_Close: Weight=0.361<br>ABBV_Close: Weight=0.386<br>WMT_Close: Weight=0.253",
                    "Return: 32.760%<br>Volatility: 0.094<br>Sharpe Ratio: 3.488<br>SYY_Close: Weight=0.092<br>ADBE_Close: Weight=0.215<br>MMM_Close: Weight=0.271<br>HD_Close: Weight=0.422",
                    "Return: 41.238%<br>Volatility: 0.160<br>Sharpe Ratio: 2.578<br>TMO_Close: Weight=0.420<br>BABA_Close: Weight=0.510<br>BTI_Close: Weight=0.070",
                    "Return: 8.111%<br>Volatility: 0.148<br>Sharpe Ratio: 0.547<br>F_Close: Weight=0.000<br>WFC_Close: Weight=0.469<br>CMCSA_Close: Weight=0.531",
                    "Return: 33.364%<br>Volatility: 0.125<br>Sharpe Ratio: 2.659<br>CRM_Close: Weight=0.006<br>MA_Close: Weight=0.796<br>K_Close: Weight=0.000<br>RTX_Close: Weight=0.198",
                    "Return: 33.820%<br>Volatility: 0.143<br>Sharpe Ratio: 2.373<br>EW_Close: Weight=0.126<br>AAPL_Close: Weight=0.123<br>TXN_Close: Weight=0.751<br>CPB_Close: Weight=0.000",
                    "Return: 20.066%<br>Volatility: 0.091<br>Sharpe Ratio: 2.203<br>NEE_Close: Weight=0.831<br>MRK_Close: Weight=0.000<br>F_Close: Weight=0.169",
                    "Return: 27.505%<br>Volatility: 0.154<br>Sharpe Ratio: 1.782<br>META_Close: Weight=0.899<br>MRK_Close: Weight=0.000<br>GIS_Close: Weight=0.101",
                    "Return: 45.505%<br>Volatility: 0.150<br>Sharpe Ratio: 3.036<br>CVX_Close: Weight=0.395<br>PYPL_Close: Weight=0.605<br>REGN_Close: Weight=0.000",
                    "Return: 11.300%<br>Volatility: 0.169<br>Sharpe Ratio: 0.668<br>VZ_Close: Weight=1.000<br>GIS_Close: Weight=0.000<br>DIS_Close: Weight=0.000",
                    "Return: 42.180%<br>Volatility: 0.190<br>Sharpe Ratio: 2.217<br>CRM_Close: Weight=0.502<br>NVDA_Close: Weight=0.366<br>DIS_Close: Weight=0.131<br>AMGN_Close: Weight=0.000",
                    "Return: 46.472%<br>Volatility: 0.195<br>Sharpe Ratio: 2.385<br>GIS_Close: Weight=0.048<br>BABA_Close: Weight=0.718<br>AMD_Close: Weight=0.000<br>CMCSA_Close: Weight=0.235",
                    "Return: 25.484%<br>Volatility: 0.156<br>Sharpe Ratio: 1.634<br>SNAP_Close: Weight=0.000<br>CRM_Close: Weight=1.000<br>MO_Close: Weight=0.000",
                    "Return: 23.772%<br>Volatility: 0.110<br>Sharpe Ratio: 2.155<br>NKE_Close: Weight=0.072<br>MMM_Close: Weight=0.811<br>PG_Close: Weight=0.116",
                    "Return: 22.696%<br>Volatility: 0.081<br>Sharpe Ratio: 2.808<br>COST_Close: Weight=0.037<br>KO_Close: Weight=0.425<br>V_Close: Weight=0.537",
                    "Return: 64.543%<br>Volatility: 0.162<br>Sharpe Ratio: 3.978<br>PYPL_Close: Weight=0.410<br>SRE_Close: Weight=0.000<br>CAT_Close: Weight=0.590<br>GS_Close: Weight=0.000",
                    "Return: 47.486%<br>Volatility: 0.154<br>Sharpe Ratio: 3.077<br>PM_Close: Weight=0.000<br>ORCL_Close: Weight=0.000<br>CSCO_Close: Weight=0.173<br>ABBV_Close: Weight=0.827",
                    "Return: 19.902%<br>Volatility: 0.204<br>Sharpe Ratio: 0.975<br>BAC_Close: Weight=0.870<br>MO_Close: Weight=0.000<br>MS_Close: Weight=0.130",
                    "Return: 20.522%<br>Volatility: 0.104<br>Sharpe Ratio: 1.980<br>EMR_Close: Weight=0.271<br>MO_Close: Weight=0.000<br>SYK_Close: Weight=0.417<br>SYY_Close: Weight=0.312",
                    "Return: 15.986%<br>Volatility: 0.119<br>Sharpe Ratio: 1.348<br>RTX_Close: Weight=0.691<br>GS_Close: Weight=0.000<br>ETN_Close: Weight=0.309<br>MRK_Close: Weight=0.000",
                    "Return: 29.010%<br>Volatility: 0.112<br>Sharpe Ratio: 2.587<br>GILD_Close: Weight=0.000<br>UNH_Close: Weight=0.705<br>SYK_Close: Weight=0.074<br>EXC_Close: Weight=0.221",
                    "Return: 27.942%<br>Volatility: 0.098<br>Sharpe Ratio: 2.858<br>CVX_Close: Weight=0.365<br>MSFT_Close: Weight=0.595<br>BMY_Close: Weight=0.040",
                    "Return: 39.928%<br>Volatility: 0.177<br>Sharpe Ratio: 2.255<br>QCOM_Close: Weight=0.069<br>NVDA_Close: Weight=0.395<br>AMD_Close: Weight=0.000<br>EXC_Close: Weight=0.537",
                    "Return: 32.888%<br>Volatility: 0.092<br>Sharpe Ratio: 3.570<br>COST_Close: Weight=0.019<br>DE_Close: Weight=0.304<br>MCD_Close: Weight=0.418<br>PEP_Close: Weight=0.260",
                    "Return: 45.118%<br>Volatility: 0.179<br>Sharpe Ratio: 2.527<br>DE_Close: Weight=1.000<br>MS_Close: Weight=0.000<br>REGN_Close: Weight=0.000<br>BSX_Close: Weight=0.000",
                    "Return: 41.843%<br>Volatility: 0.136<br>Sharpe Ratio: 3.068<br>PYPL_Close: Weight=0.455<br>PFE_Close: Weight=0.150<br>ACN_Close: Weight=0.396",
                    "Return: 29.365%<br>Volatility: 0.130<br>Sharpe Ratio: 2.265<br>AMZN_Close: Weight=0.413<br>TMO_Close: Weight=0.375<br>CRM_Close: Weight=0.212",
                    "Return: 31.176%<br>Volatility: 0.126<br>Sharpe Ratio: 2.474<br>HD_Close: Weight=0.870<br>PM_Close: Weight=0.000<br>EW_Close: Weight=0.130",
                    "Return: 32.503%<br>Volatility: 0.108<br>Sharpe Ratio: 3.007<br>MCD_Close: Weight=0.669<br>GOOGL_Close: Weight=0.262<br>CMCSA_Close: Weight=0.069<br>PG_Close: Weight=0.000",
                    "Return: 9.785%<br>Volatility: 0.116<br>Sharpe Ratio: 0.847<br>IBM_Close: Weight=0.000<br>BMY_Close: Weight=0.359<br>LLY_Close: Weight=0.027<br>DHR_Close: Weight=0.615",
                    "Return: 18.432%<br>Volatility: 0.091<br>Sharpe Ratio: 2.026<br>KO_Close: Weight=0.793<br>T_Close: Weight=0.000<br>NFLX_Close: Weight=0.207",
                    "Return: 29.204%<br>Volatility: 0.111<br>Sharpe Ratio: 2.640<br>ADBE_Close: Weight=0.244<br>LMT_Close: Weight=0.640<br>TMO_Close: Weight=0.116",
                    "Return: 28.411%<br>Volatility: 0.114<br>Sharpe Ratio: 2.493<br>V_Close: Weight=0.908<br>F_Close: Weight=0.092<br>SNAP_Close: Weight=0.000",
                    "Return: 23.348%<br>Volatility: 0.090<br>Sharpe Ratio: 2.590<br>DUK_Close: Weight=0.308<br>QCOM_Close: Weight=0.074<br>HD_Close: Weight=0.618",
                    "Return: 7.254%<br>Volatility: 0.111<br>Sharpe Ratio: 0.652<br>COST_Close: Weight=0.461<br>GS_Close: Weight=0.000<br>XOM_Close: Weight=0.539",
                    "Return: 7.024%<br>Volatility: 0.089<br>Sharpe Ratio: 0.788<br>PG_Close: Weight=0.405<br>DHR_Close: Weight=0.595<br>KR_Close: Weight=0.000",
                    "Return: 41.190%<br>Volatility: 0.118<br>Sharpe Ratio: 3.501<br>UNH_Close: Weight=0.488<br>WMT_Close: Weight=0.396<br>VRTX_Close: Weight=0.116",
                    "Return: 33.411%<br>Volatility: 0.101<br>Sharpe Ratio: 3.322<br>TXN_Close: Weight=0.248<br>PYPL_Close: Weight=0.275<br>KO_Close: Weight=0.478",
                    "Return: 19.920%<br>Volatility: 0.156<br>Sharpe Ratio: 1.276<br>AMGN_Close: Weight=0.000<br>BAC_Close: Weight=0.000<br>JPM_Close: Weight=1.000",
                    "Return: 20.798%<br>Volatility: 0.110<br>Sharpe Ratio: 1.897<br>VZ_Close: Weight=0.237<br>CRM_Close: Weight=0.610<br>MS_Close: Weight=0.153<br>CPB_Close: Weight=0.000",
                    "Return: 44.332%<br>Volatility: 0.144<br>Sharpe Ratio: 3.073<br>ABBV_Close: Weight=0.785<br>DUK_Close: Weight=0.101<br>COST_Close: Weight=0.115",
                    "Return: 36.247%<br>Volatility: 0.120<br>Sharpe Ratio: 3.021<br>MMM_Close: Weight=0.511<br>DE_Close: Weight=0.489<br>GIS_Close: Weight=0.000",
                    "Return: 25.084%<br>Volatility: 0.111<br>Sharpe Ratio: 2.259<br>RTX_Close: Weight=0.197<br>SRE_Close: Weight=0.000<br>EW_Close: Weight=0.108<br>MMM_Close: Weight=0.695",
                    "Return: 29.632%<br>Volatility: 0.110<br>Sharpe Ratio: 2.692<br>MMM_Close: Weight=0.493<br>ADBE_Close: Weight=0.257<br>JNJ_Close: Weight=0.250",
                    "Return: 31.088%<br>Volatility: 0.093<br>Sharpe Ratio: 3.333<br>EW_Close: Weight=0.027<br>HD_Close: Weight=0.455<br>V_Close: Weight=0.506<br>PG_Close: Weight=0.013",
                    "Return: 16.831%<br>Volatility: 0.196<br>Sharpe Ratio: 0.858<br>MS_Close: Weight=1.000<br>MDT_Close: Weight=0.000<br>AMGN_Close: Weight=0.000",
                    "Return: 32.779%<br>Volatility: 0.128<br>Sharpe Ratio: 2.556<br>GS_Close: Weight=0.000<br>UNH_Close: Weight=0.831<br>TSLA_Close: Weight=0.059<br>RMD_Close: Weight=0.110",
                    "Return: 43.754%<br>Volatility: 0.179<br>Sharpe Ratio: 2.441<br>F_Close: Weight=0.065<br>ISRG_Close: Weight=0.935<br>MRK_Close: Weight=0.000<br>GILD_Close: Weight=0.000",
                    "Return: 64.107%<br>Volatility: 0.197<br>Sharpe Ratio: 3.250<br>CAT_Close: Weight=1.000<br>SRE_Close: Weight=0.000<br>PM_Close: Weight=0.000",
                    "Return: 35.991%<br>Volatility: 0.110<br>Sharpe Ratio: 3.287<br>UA_Close: Weight=0.000<br>PEP_Close: Weight=0.437<br>T_Close: Weight=0.000<br>ABBV_Close: Weight=0.563",
                    "Return: 32.093%<br>Volatility: 0.113<br>Sharpe Ratio: 2.833<br>EXC_Close: Weight=0.211<br>PM_Close: Weight=0.000<br>MCD_Close: Weight=0.784<br>ZBH_Close: Weight=0.004",
                    "Return: 33.628%<br>Volatility: 0.091<br>Sharpe Ratio: 3.684<br>WMT_Close: Weight=0.281<br>CVX_Close: Weight=0.183<br>NVDA_Close: Weight=0.095<br>HON_Close: Weight=0.442",
                    "Return: 24.951%<br>Volatility: 0.088<br>Sharpe Ratio: 2.829<br>NEE_Close: Weight=0.537<br>ABT_Close: Weight=0.407<br>VZ_Close: Weight=0.056",
                    "Return: 25.503%<br>Volatility: 0.117<br>Sharpe Ratio: 2.187<br>MMM_Close: Weight=0.845<br>GE_Close: Weight=0.000<br>BSX_Close: Weight=0.000<br>ORCL_Close: Weight=0.155",
                    "Return: 14.706%<br>Volatility: 0.189<br>Sharpe Ratio: 0.777<br>GM_Close: Weight=1.000<br>BSX_Close: Weight=0.000<br>CPB_Close: Weight=0.000<br>GS_Close: Weight=0.000",
                    "Return: 38.554%<br>Volatility: 0.148<br>Sharpe Ratio: 2.601<br>DE_Close: Weight=0.796<br>NKE_Close: Weight=0.017<br>ORCL_Close: Weight=0.187",
                    "Return: 37.497%<br>Volatility: 0.136<br>Sharpe Ratio: 2.748<br>GS_Close: Weight=0.000<br>GIS_Close: Weight=0.000<br>MCD_Close: Weight=1.000",
                    "Return: 34.917%<br>Volatility: 0.192<br>Sharpe Ratio: 1.823<br>AMZN_Close: Weight=0.892<br>BIIB_Close: Weight=0.008<br>GILD_Close: Weight=0.099",
                    "Return: 27.718%<br>Volatility: 0.110<br>Sharpe Ratio: 2.518<br>EXC_Close: Weight=0.334<br>GM_Close: Weight=0.055<br>TXN_Close: Weight=0.611",
                    "Return: 19.376%<br>Volatility: 0.115<br>Sharpe Ratio: 1.684<br>GIS_Close: Weight=0.000<br>CRM_Close: Weight=0.715<br>PG_Close: Weight=0.285",
                    "Return: 36.685%<br>Volatility: 0.166<br>Sharpe Ratio: 2.213<br>BSX_Close: Weight=0.000<br>ADBE_Close: Weight=0.503<br>GOOG_Close: Weight=0.497",
                    "Return: 29.172%<br>Volatility: 0.114<br>Sharpe Ratio: 2.553<br>V_Close: Weight=0.804<br>MDT_Close: Weight=0.000<br>SYK_Close: Weight=0.196",
                    "Return: 10.695%<br>Volatility: 0.226<br>Sharpe Ratio: 0.474<br>NKE_Close: Weight=1.000<br>K_Close: Weight=0.000<br>AMGN_Close: Weight=0.000",
                    "Return: 44.522%<br>Volatility: 0.159<br>Sharpe Ratio: 2.795<br>ADBE_Close: Weight=0.353<br>EW_Close: Weight=0.095<br>BABA_Close: Weight=0.365<br>BAC_Close: Weight=0.187",
                    "Return: 28.615%<br>Volatility: 0.113<br>Sharpe Ratio: 2.541<br>EMR_Close: Weight=0.189<br>PG_Close: Weight=0.153<br>MSFT_Close: Weight=0.658",
                    "Return: 28.045%<br>Volatility: 0.097<br>Sharpe Ratio: 2.891<br>JPM_Close: Weight=0.112<br>ZBH_Close: Weight=0.000<br>MSFT_Close: Weight=0.569<br>CVX_Close: Weight=0.320",
                    "Return: 27.510%<br>Volatility: 0.094<br>Sharpe Ratio: 2.916<br>DIS_Close: Weight=0.058<br>PEP_Close: Weight=0.311<br>MCD_Close: Weight=0.630<br>GE_Close: Weight=0.000",
                    "Return: 13.973%<br>Volatility: 0.131<br>Sharpe Ratio: 1.064<br>RMD_Close: Weight=0.613<br>XOM_Close: Weight=0.387<br>K_Close: Weight=0.000<br>CPB_Close: Weight=0.000",
                    "Return: 30.586%<br>Volatility: 0.159<br>Sharpe Ratio: 1.921<br>BIIB_Close: Weight=0.000<br>AMZN_Close: Weight=0.709<br>BMY_Close: Weight=0.291",
                    "Return: 29.605%<br>Volatility: 0.094<br>Sharpe Ratio: 3.153<br>AEP_Close: Weight=0.369<br>VRTX_Close: Weight=0.122<br>HD_Close: Weight=0.509<br>GE_Close: Weight=0.000",
                    "Return: 24.507%<br>Volatility: 0.092<br>Sharpe Ratio: 2.660<br>SYY_Close: Weight=0.221<br>DUK_Close: Weight=0.279<br>TXN_Close: Weight=0.499",
                    "Return: 9.067%<br>Volatility: 0.128<br>Sharpe Ratio: 0.706<br>UA_Close: Weight=0.000<br>SNAP_Close: Weight=0.000<br>DHR_Close: Weight=1.000",
                    "Return: 16.741%<br>Volatility: 0.103<br>Sharpe Ratio: 1.631<br>JNJ_Close: Weight=0.735<br>CSCO_Close: Weight=0.265<br>SRE_Close: Weight=0.000",
                    "Return: 18.147%<br>Volatility: 0.083<br>Sharpe Ratio: 2.199<br>AAPL_Close: Weight=0.254<br>RTX_Close: Weight=0.266<br>AEP_Close: Weight=0.480",
                    "Return: 34.297%<br>Volatility: 0.111<br>Sharpe Ratio: 3.079<br>ISRG_Close: Weight=0.404<br>MMM_Close: Weight=0.450<br>BAC_Close: Weight=0.145",
                    "Return: 25.524%<br>Volatility: 0.145<br>Sharpe Ratio: 1.763<br>CMCSA_Close: Weight=0.120<br>IBM_Close: Weight=0.000<br>GOOG_Close: Weight=0.880",
                    "Return: 19.761%<br>Volatility: 0.089<br>Sharpe Ratio: 2.225<br>AEP_Close: Weight=0.566<br>GOOGL_Close: Weight=0.434<br>PG_Close: Weight=0.000",
                    "Return: 16.582%<br>Volatility: 0.160<br>Sharpe Ratio: 1.038<br>RMD_Close: Weight=0.762<br>MO_Close: Weight=0.000<br>LLY_Close: Weight=0.238",
                    "Return: 21.550%<br>Volatility: 0.090<br>Sharpe Ratio: 2.406<br>INTC_Close: Weight=0.375<br>CMCSA_Close: Weight=0.009<br>SYY_Close: Weight=0.218<br>PEP_Close: Weight=0.399",
                    "Return: 26.551%<br>Volatility: 0.148<br>Sharpe Ratio: 1.789<br>PM_Close: Weight=0.000<br>SYY_Close: Weight=0.612<br>NFLX_Close: Weight=0.388<br>UA_Close: Weight=0.000",
                    "Return: 29.751%<br>Volatility: 0.119<br>Sharpe Ratio: 2.505<br>K_Close: Weight=0.000<br>RMD_Close: Weight=0.100<br>BTI_Close: Weight=0.009<br>V_Close: Weight=0.892",
                    "Return: 24.082%<br>Volatility: 0.091<br>Sharpe Ratio: 2.638<br>GOOG_Close: Weight=0.282<br>MMM_Close: Weight=0.391<br>EXC_Close: Weight=0.160<br>EMR_Close: Weight=0.167",
                    "Return: 36.798%<br>Volatility: 0.141<br>Sharpe Ratio: 2.603<br>REGN_Close: Weight=0.000<br>MA_Close: Weight=0.967<br>CSCO_Close: Weight=0.033<br>SRE_Close: Weight=0.000",
                    "Return: 41.572%<br>Volatility: 0.134<br>Sharpe Ratio: 3.093<br>EXC_Close: Weight=0.266<br>PYPL_Close: Weight=0.386<br>MA_Close: Weight=0.348",
                    "Return: 7.650%<br>Volatility: 0.137<br>Sharpe Ratio: 0.558<br>LLY_Close: Weight=0.493<br>GIS_Close: Weight=0.000<br>DIS_Close: Weight=0.000<br>NKE_Close: Weight=0.507",
                    "Return: 50.187%<br>Volatility: 0.159<br>Sharpe Ratio: 3.157<br>AMGN_Close: Weight=0.000<br>ISRG_Close: Weight=0.315<br>MA_Close: Weight=0.330<br>PYPL_Close: Weight=0.355",
                    "Return: 35.527%<br>Volatility: 0.132<br>Sharpe Ratio: 2.701<br>MDT_Close: Weight=0.000<br>UNH_Close: Weight=0.816<br>NFLX_Close: Weight=0.184<br>PM_Close: Weight=0.000",
                    "Return: 37.817%<br>Volatility: 0.144<br>Sharpe Ratio: 2.617<br>GOOG_Close: Weight=0.328<br>ORCL_Close: Weight=0.027<br>ISRG_Close: Weight=0.581<br>RMD_Close: Weight=0.063",
                    "Return: 18.779%<br>Volatility: 0.133<br>Sharpe Ratio: 1.416<br>TMO_Close: Weight=0.769<br>GS_Close: Weight=0.000<br>CMCSA_Close: Weight=0.231",
                    "Return: 30.474%<br>Volatility: 0.102<br>Sharpe Ratio: 2.995<br>DE_Close: Weight=0.430<br>JNJ_Close: Weight=0.396<br>GE_Close: Weight=0.000<br>AAPL_Close: Weight=0.174",
                    "Return: 45.118%<br>Volatility: 0.179<br>Sharpe Ratio: 2.527<br>BSX_Close: Weight=0.000<br>DE_Close: Weight=1.000<br>PM_Close: Weight=0.000",
                    "Return: 23.386%<br>Volatility: 0.321<br>Sharpe Ratio: 0.729<br>SRE_Close: Weight=0.106<br>GE_Close: Weight=0.000<br>TSLA_Close: Weight=0.894",
                    "Return: 55.945%<br>Volatility: 0.149<br>Sharpe Ratio: 3.749<br>CAT_Close: Weight=0.577<br>BABA_Close: Weight=0.242<br>SAP_Close: Weight=0.181",
                    "Return: 47.923%<br>Volatility: 0.175<br>Sharpe Ratio: 2.734<br>BABA_Close: Weight=0.410<br>SYK_Close: Weight=0.411<br>NVDA_Close: Weight=0.170<br>SRE_Close: Weight=0.009",
                    "Return: 16.599%<br>Volatility: 0.143<br>Sharpe Ratio: 1.158<br>GIS_Close: Weight=0.000<br>CPB_Close: Weight=0.000<br>BAC_Close: Weight=0.592<br>BTI_Close: Weight=0.408",
                    "Return: 31.694%<br>Volatility: 0.159<br>Sharpe Ratio: 1.994<br>GOOG_Close: Weight=0.265<br>AMZN_Close: Weight=0.338<br>QCOM_Close: Weight=0.067<br>META_Close: Weight=0.330",
                    "Return: 36.577%<br>Volatility: 0.103<br>Sharpe Ratio: 3.544<br>MCD_Close: Weight=0.476<br>ISRG_Close: Weight=0.311<br>JPM_Close: Weight=0.213<br>MDT_Close: Weight=0.000",
                    "Return: 16.980%<br>Volatility: 0.136<br>Sharpe Ratio: 1.244<br>T_Close: Weight=0.000<br>MO_Close: Weight=0.000<br>RTX_Close: Weight=1.000",
                    "Return: 24.109%<br>Volatility: 0.169<br>Sharpe Ratio: 1.427<br>BIIB_Close: Weight=0.061<br>PM_Close: Weight=0.000<br>AAPL_Close: Weight=0.939",
                    "Return: 25.484%<br>Volatility: 0.156<br>Sharpe Ratio: 1.634<br>PM_Close: Weight=0.000<br>CRM_Close: Weight=1.000<br>KR_Close: Weight=0.000",
                    "Return: 16.672%<br>Volatility: 0.083<br>Sharpe Ratio: 2.012<br>AEP_Close: Weight=0.476<br>TSLA_Close: Weight=0.062<br>JNJ_Close: Weight=0.461",
                    "Return: 18.779%<br>Volatility: 0.083<br>Sharpe Ratio: 2.271<br>AMGN_Close: Weight=0.000<br>KO_Close: Weight=0.617<br>GOOG_Close: Weight=0.383<br>UA_Close: Weight=0.000",
                    "Return: 21.882%<br>Volatility: 0.090<br>Sharpe Ratio: 2.420<br>JNJ_Close: Weight=0.335<br>LMT_Close: Weight=0.665<br>GILD_Close: Weight=0.000",
                    "Return: 32.890%<br>Volatility: 0.141<br>Sharpe Ratio: 2.332<br>BTI_Close: Weight=0.010<br>NFLX_Close: Weight=0.046<br>TXN_Close: Weight=0.800<br>DHR_Close: Weight=0.144",
                    "Return: 21.849%<br>Volatility: 0.134<br>Sharpe Ratio: 1.629<br>IBM_Close: Weight=0.000<br>SAP_Close: Weight=0.970<br>LLY_Close: Weight=0.030",
                    "Return: 21.966%<br>Volatility: 0.129<br>Sharpe Ratio: 1.706<br>RMD_Close: Weight=0.203<br>AMGN_Close: Weight=0.000<br>SAP_Close: Weight=0.797",
                    "Return: 25.310%<br>Volatility: 0.090<br>Sharpe Ratio: 2.819<br>AMZN_Close: Weight=0.202<br>HON_Close: Weight=0.681<br>PG_Close: Weight=0.117",
                    "Return: 11.152%<br>Volatility: 0.102<br>Sharpe Ratio: 1.094<br>PFE_Close: Weight=0.574<br>ETN_Close: Weight=0.426<br>T_Close: Weight=0.000",
                    "Return: 29.008%<br>Volatility: 0.151<br>Sharpe Ratio: 1.917<br>UA_Close: Weight=0.000<br>INTC_Close: Weight=0.835<br>NKE_Close: Weight=0.165",
                    "Return: 26.448%<br>Volatility: 0.103<br>Sharpe Ratio: 2.569<br>PG_Close: Weight=0.086<br>GM_Close: Weight=0.136<br>V_Close: Weight=0.778<br>AMD_Close: Weight=0.000",
                    "Return: 42.890%<br>Volatility: 0.179<br>Sharpe Ratio: 2.402<br>NVDA_Close: Weight=0.380<br>SYY_Close: Weight=0.569<br>TSLA_Close: Weight=0.051",
                    "Return: 22.199%<br>Volatility: 0.091<br>Sharpe Ratio: 2.440<br>NEE_Close: Weight=0.674<br>PG_Close: Weight=0.040<br>TMO_Close: Weight=0.286",
                    "Return: 17.628%<br>Volatility: 0.128<br>Sharpe Ratio: 1.378<br>JPM_Close: Weight=0.731<br>DIS_Close: Weight=0.000<br>BMY_Close: Weight=0.269",
                    "Return: 11.614%<br>Volatility: 0.102<br>Sharpe Ratio: 1.138<br>EXC_Close: Weight=0.633<br>VZ_Close: Weight=0.321<br>PM_Close: Weight=0.000<br>REGN_Close: Weight=0.047",
                    "Return: 30.318%<br>Volatility: 0.086<br>Sharpe Ratio: 3.529<br>NEE_Close: Weight=0.354<br>ABT_Close: Weight=0.254<br>MCD_Close: Weight=0.392",
                    "Return: 15.914%<br>Volatility: 0.162<br>Sharpe Ratio: 0.984<br>BAC_Close: Weight=0.727<br>SO_Close: Weight=0.193<br>AMGN_Close: Weight=0.000<br>MS_Close: Weight=0.080",
                    "Return: 18.149%<br>Volatility: 0.100<br>Sharpe Ratio: 1.821<br>JNJ_Close: Weight=0.642<br>F_Close: Weight=0.000<br>EMR_Close: Weight=0.358",
                    "Return: 29.125%<br>Volatility: 0.101<br>Sharpe Ratio: 2.877<br>T_Close: Weight=0.000<br>PFE_Close: Weight=0.263<br>MCD_Close: Weight=0.699<br>ORCL_Close: Weight=0.039",
                    "Return: 11.821%<br>Volatility: 0.090<br>Sharpe Ratio: 1.314<br>KR_Close: Weight=0.000<br>DIS_Close: Weight=0.000<br>PEP_Close: Weight=0.861<br>DUK_Close: Weight=0.139",
                    "Return: 27.298%<br>Volatility: 0.086<br>Sharpe Ratio: 3.169<br>JNJ_Close: Weight=0.335<br>CMCSA_Close: Weight=0.000<br>HD_Close: Weight=0.449<br>INTC_Close: Weight=0.216",
                    "Return: 45.335%<br>Volatility: 0.123<br>Sharpe Ratio: 3.674<br>BA_Close: Weight=0.622<br>SAP_Close: Weight=0.142<br>SYK_Close: Weight=0.236",
                    "Return: 16.909%<br>Volatility: 0.110<br>Sharpe Ratio: 1.535<br>EW_Close: Weight=0.294<br>COST_Close: Weight=0.151<br>PM_Close: Weight=0.000<br>CVX_Close: Weight=0.556",
                    "Return: 45.948%<br>Volatility: 0.201<br>Sharpe Ratio: 2.283<br>JPM_Close: Weight=0.572<br>NVDA_Close: Weight=0.428<br>MDT_Close: Weight=0.000",
                    "Return: 19.811%<br>Volatility: 0.135<br>Sharpe Ratio: 1.467<br>MO_Close: Weight=0.000<br>ORCL_Close: Weight=0.223<br>SYK_Close: Weight=0.777",
                    "Return: 48.982%<br>Volatility: 0.168<br>Sharpe Ratio: 2.912<br>PYPL_Close: Weight=0.621<br>EW_Close: Weight=0.112<br>SAP_Close: Weight=0.267",
                    "Return: 30.759%<br>Volatility: 0.127<br>Sharpe Ratio: 2.424<br>GIS_Close: Weight=0.000<br>IBM_Close: Weight=0.000<br>CSCO_Close: Weight=0.104<br>HD_Close: Weight=0.896",
                    "Return: 27.871%<br>Volatility: 0.136<br>Sharpe Ratio: 2.054<br>WFC_Close: Weight=0.014<br>ABT_Close: Weight=0.958<br>UA_Close: Weight=0.000<br>BTI_Close: Weight=0.027",
                    "Return: 44.334%<br>Volatility: 0.175<br>Sharpe Ratio: 2.528<br>DE_Close: Weight=0.977<br>ETN_Close: Weight=0.000<br>NKE_Close: Weight=0.023",
                    "Return: 20.868%<br>Volatility: 0.112<br>Sharpe Ratio: 1.868<br>JNJ_Close: Weight=0.673<br>CMCSA_Close: Weight=0.106<br>F_Close: Weight=0.001<br>NFLX_Close: Weight=0.220",
                    "Return: 34.691%<br>Volatility: 0.109<br>Sharpe Ratio: 3.196<br>JNJ_Close: Weight=0.289<br>WFC_Close: Weight=0.000<br>ABT_Close: Weight=0.426<br>BABA_Close: Weight=0.285",
                    "Return: 47.371%<br>Volatility: 0.159<br>Sharpe Ratio: 2.984<br>PYPL_Close: Weight=0.479<br>V_Close: Weight=0.521<br>RDY_Close: Weight=0.000<br>IBM_Close: Weight=0.000",
                    "Return: 19.505%<br>Volatility: 0.131<br>Sharpe Ratio: 1.486<br>CSCO_Close: Weight=0.376<br>TMO_Close: Weight=0.624<br>MDT_Close: Weight=0.000",
                    "Return: 20.475%<br>Volatility: 0.082<br>Sharpe Ratio: 2.484<br>KO_Close: Weight=0.502<br>DIS_Close: Weight=0.000<br>MMM_Close: Weight=0.498",
                    "Return: 32.981%<br>Volatility: 0.110<br>Sharpe Ratio: 3.009<br>MMM_Close: Weight=0.442<br>ISRG_Close: Weight=0.379<br>JNJ_Close: Weight=0.179<br>MDT_Close: Weight=0.000",
                    "Return: 49.784%<br>Volatility: 0.127<br>Sharpe Ratio: 3.922<br>ZBH_Close: Weight=0.000<br>MA_Close: Weight=0.443<br>ETN_Close: Weight=0.000<br>BA_Close: Weight=0.557",
                    "Return: 31.632%<br>Volatility: 0.115<br>Sharpe Ratio: 2.758<br>MA_Close: Weight=0.745<br>LLY_Close: Weight=0.000<br>VZ_Close: Weight=0.225<br>NFLX_Close: Weight=0.030",
                    "Return: 34.533%<br>Volatility: 0.147<br>Sharpe Ratio: 2.348<br>ZBH_Close: Weight=0.000<br>CRM_Close: Weight=0.224<br>TXN_Close: Weight=0.776",
                    "Return: 31.000%<br>Volatility: 0.110<br>Sharpe Ratio: 2.822<br>ADBE_Close: Weight=0.137<br>MA_Close: Weight=0.553<br>PEP_Close: Weight=0.304<br>TSLA_Close: Weight=0.005",
                    "Return: 25.484%<br>Volatility: 0.156<br>Sharpe Ratio: 1.634<br>IBM_Close: Weight=0.000<br>CRM_Close: Weight=1.000<br>SNAP_Close: Weight=0.000<br>SRE_Close: Weight=0.000",
                    "Return: 13.179%<br>Volatility: 0.106<br>Sharpe Ratio: 1.247<br>CMCSA_Close: Weight=0.081<br>COST_Close: Weight=0.181<br>CVX_Close: Weight=0.637<br>GILD_Close: Weight=0.101",
                    "Return: 31.964%<br>Volatility: 0.100<br>Sharpe Ratio: 3.194<br>HON_Close: Weight=0.518<br>UNH_Close: Weight=0.400<br>VRTX_Close: Weight=0.082",
                    "Return: 47.527%<br>Volatility: 0.133<br>Sharpe Ratio: 3.566<br>KR_Close: Weight=0.000<br>PYPL_Close: Weight=0.417<br>UNH_Close: Weight=0.583<br>RDY_Close: Weight=0.000",
                    "Return: 9.217%<br>Volatility: 0.108<br>Sharpe Ratio: 0.854<br>PFE_Close: Weight=1.000<br>GS_Close: Weight=0.000<br>AMD_Close: Weight=0.000",
                    "Return: 15.629%<br>Volatility: 0.083<br>Sharpe Ratio: 1.887<br>AEP_Close: Weight=0.715<br>MS_Close: Weight=0.285<br>SRE_Close: Weight=0.000",
                    "Return: 13.707%<br>Volatility: 0.124<br>Sharpe Ratio: 1.105<br>DIS_Close: Weight=0.000<br>XOM_Close: Weight=0.162<br>ETN_Close: Weight=0.530<br>QCOM_Close: Weight=0.308",
                    "Return: 35.683%<br>Volatility: 0.154<br>Sharpe Ratio: 2.315<br>T_Close: Weight=0.000<br>BAC_Close: Weight=0.087<br>TXN_Close: Weight=0.913<br>PM_Close: Weight=0.000",
                    "Return: 23.085%<br>Volatility: 0.110<br>Sharpe Ratio: 2.105<br>META_Close: Weight=0.476<br>RTX_Close: Weight=0.363<br>GM_Close: Weight=0.162",
                    "Return: 31.443%<br>Volatility: 0.106<br>Sharpe Ratio: 2.979<br>MCD_Close: Weight=0.635<br>CRM_Close: Weight=0.215<br>DIS_Close: Weight=0.041<br>BAC_Close: Weight=0.109",
                    "Return: 19.536%<br>Volatility: 0.120<br>Sharpe Ratio: 1.633<br>VZ_Close: Weight=0.312<br>COST_Close: Weight=0.089<br>AAPL_Close: Weight=0.600",
                    "Return: 32.409%<br>Volatility: 0.119<br>Sharpe Ratio: 2.718<br>RMD_Close: Weight=0.087<br>HD_Close: Weight=0.739<br>NFLX_Close: Weight=0.174",
                    "Return: 26.502%<br>Volatility: 0.105<br>Sharpe Ratio: 2.520<br>GOOGL_Close: Weight=0.115<br>V_Close: Weight=0.742<br>XOM_Close: Weight=0.143<br>UA_Close: Weight=0.000",
                    "Return: 48.061%<br>Volatility: 0.139<br>Sharpe Ratio: 3.456<br>RDY_Close: Weight=0.000<br>CPB_Close: Weight=0.000<br>PYPL_Close: Weight=0.382<br>MCD_Close: Weight=0.618",
                    "Return: 14.472%<br>Volatility: 0.095<br>Sharpe Ratio: 1.527<br>MO_Close: Weight=0.000<br>NKE_Close: Weight=0.152<br>AEP_Close: Weight=0.848",
                    "Return: 37.142%<br>Volatility: 0.161<br>Sharpe Ratio: 2.300<br>K_Close: Weight=0.000<br>GE_Close: Weight=0.000<br>TXN_Close: Weight=1.000",
                    "Return: 46.446%<br>Volatility: 0.151<br>Sharpe Ratio: 3.084<br>ABBV_Close: Weight=0.811<br>ETN_Close: Weight=0.189<br>MO_Close: Weight=0.000<br>ZBH_Close: Weight=0.000",
                    "Return: 24.935%<br>Volatility: 0.121<br>Sharpe Ratio: 2.056<br>PM_Close: Weight=0.000<br>TMO_Close: Weight=0.366<br>CMCSA_Close: Weight=0.111<br>META_Close: Weight=0.523",
                    "Return: 38.477%<br>Volatility: 0.098<br>Sharpe Ratio: 3.920<br>TMO_Close: Weight=0.249<br>PEP_Close: Weight=0.248<br>BA_Close: Weight=0.503<br>GE_Close: Weight=0.000",
                    "Return: 55.662%<br>Volatility: 0.195<br>Sharpe Ratio: 2.854<br>PYPL_Close: Weight=0.816<br>QCOM_Close: Weight=0.062<br>NKE_Close: Weight=0.121",
                    "Return: 42.843%<br>Volatility: 0.176<br>Sharpe Ratio: 2.437<br>BABA_Close: Weight=0.546<br>BMY_Close: Weight=0.158<br>AAPL_Close: Weight=0.296<br>F_Close: Weight=0.000",
                    "Return: 49.513%<br>Volatility: 0.165<br>Sharpe Ratio: 2.998<br>EMR_Close: Weight=0.349<br>PYPL_Close: Weight=0.651<br>IBM_Close: Weight=0.000",
                    "Return: 35.697%<br>Volatility: 0.138<br>Sharpe Ratio: 2.581<br>BSX_Close: Weight=0.000<br>XOM_Close: Weight=0.000<br>PFE_Close: Weight=0.262<br>DE_Close: Weight=0.738",
                    "Return: 26.234%<br>Volatility: 0.129<br>Sharpe Ratio: 2.031<br>NFLX_Close: Weight=0.124<br>AMZN_Close: Weight=0.446<br>MS_Close: Weight=0.203<br>PG_Close: Weight=0.227",
                    "Return: 46.516%<br>Volatility: 0.116<br>Sharpe Ratio: 4.026<br>MSFT_Close: Weight=0.320<br>ACN_Close: Weight=0.178<br>DIS_Close: Weight=0.000<br>BA_Close: Weight=0.502",
                    "Return: 32.560%<br>Volatility: 0.136<br>Sharpe Ratio: 2.397<br>SAP_Close: Weight=0.310<br>TXN_Close: Weight=0.690<br>QCOM_Close: Weight=0.000",
                    "Return: 13.246%<br>Volatility: 0.102<br>Sharpe Ratio: 1.301<br>RTX_Close: Weight=0.715<br>DIS_Close: Weight=0.000<br>XOM_Close: Weight=0.285",
                    "Return: 27.300%<br>Volatility: 0.090<br>Sharpe Ratio: 3.043<br>MDT_Close: Weight=0.000<br>DE_Close: Weight=0.425<br>AEP_Close: Weight=0.328<br>PEP_Close: Weight=0.247",
                    "Return: 47.135%<br>Volatility: 0.153<br>Sharpe Ratio: 3.088<br>ABBV_Close: Weight=0.811<br>ORCL_Close: Weight=0.000<br>QCOM_Close: Weight=0.066<br>MS_Close: Weight=0.123",
                    "Return: 30.341%<br>Volatility: 0.123<br>Sharpe Ratio: 2.472<br>DHR_Close: Weight=0.029<br>K_Close: Weight=0.000<br>V_Close: Weight=0.971",
                    "Return: 43.757%<br>Volatility: 0.173<br>Sharpe Ratio: 2.533<br>DE_Close: Weight=0.948<br>F_Close: Weight=0.000<br>QCOM_Close: Weight=0.052",
                    "Return: 27.840%<br>Volatility: 0.084<br>Sharpe Ratio: 3.331<br>HD_Close: Weight=0.482<br>K_Close: Weight=0.000<br>NEE_Close: Weight=0.518",
                    "Return: 40.908%<br>Volatility: 0.250<br>Sharpe Ratio: 1.636<br>BTI_Close: Weight=0.281<br>REGN_Close: Weight=0.000<br>VRTX_Close: Weight=0.611<br>GS_Close: Weight=0.108",
                    "Return: 31.551%<br>Volatility: 0.117<br>Sharpe Ratio: 2.694<br>T_Close: Weight=0.005<br>JNJ_Close: Weight=0.299<br>ISRG_Close: Weight=0.451<br>SAP_Close: Weight=0.244",
                    "Return: 35.009%<br>Volatility: 0.133<br>Sharpe Ratio: 2.641<br>GILD_Close: Weight=0.000<br>SYK_Close: Weight=0.158<br>MA_Close: Weight=0.842",
                    "Return: 27.711%<br>Volatility: 0.160<br>Sharpe Ratio: 1.737<br>GOOG_Close: Weight=1.000<br>MO_Close: Weight=0.000<br>REGN_Close: Weight=0.000",
                    "Return: 23.878%<br>Volatility: 0.168<br>Sharpe Ratio: 1.425<br>AAPL_Close: Weight=0.947<br>F_Close: Weight=0.053<br>GS_Close: Weight=0.000<br>GIS_Close: Weight=0.000",
                    "Return: 45.697%<br>Volatility: 0.134<br>Sharpe Ratio: 3.410<br>INTC_Close: Weight=0.251<br>WMT_Close: Weight=0.466<br>UA_Close: Weight=0.000<br>BABA_Close: Weight=0.283",
                    "Return: 23.309%<br>Volatility: 0.129<br>Sharpe Ratio: 1.800<br>AMD_Close: Weight=0.000<br>AAPL_Close: Weight=0.476<br>SYK_Close: Weight=0.524<br>SRE_Close: Weight=0.000",
                    "Return: 30.584%<br>Volatility: 0.173<br>Sharpe Ratio: 1.771<br>META_Close: Weight=1.000<br>ZBH_Close: Weight=0.000<br>AMD_Close: Weight=0.000",
                    "Return: 21.732%<br>Volatility: 0.155<br>Sharpe Ratio: 1.398<br>SYK_Close: Weight=1.000<br>MDT_Close: Weight=0.000<br>DIS_Close: Weight=0.000",
                    "Return: 35.223%<br>Volatility: 0.147<br>Sharpe Ratio: 2.396<br>GS_Close: Weight=0.000<br>VRTX_Close: Weight=0.201<br>ABT_Close: Weight=0.799",
                    "Return: 32.824%<br>Volatility: 0.118<br>Sharpe Ratio: 2.770<br>MCD_Close: Weight=0.840<br>BMY_Close: Weight=0.064<br>DUK_Close: Weight=0.096",
                    "Return: 29.910%<br>Volatility: 0.119<br>Sharpe Ratio: 2.505<br>RMD_Close: Weight=0.101<br>REGN_Close: Weight=0.000<br>SNAP_Close: Weight=0.000<br>V_Close: Weight=0.899",
                    "Return: 13.683%<br>Volatility: 0.121<br>Sharpe Ratio: 1.130<br>NKE_Close: Weight=0.194<br>ZBH_Close: Weight=0.000<br>PG_Close: Weight=0.293<br>RMD_Close: Weight=0.512",
                    "Return: 36.245%<br>Volatility: 0.120<br>Sharpe Ratio: 3.021<br>CSCO_Close: Weight=0.000<br>GILD_Close: Weight=0.000<br>MMM_Close: Weight=0.512<br>DE_Close: Weight=0.488",
                    "Return: 32.265%<br>Volatility: 0.119<br>Sharpe Ratio: 2.722<br>BMY_Close: Weight=0.038<br>ABT_Close: Weight=0.460<br>TXN_Close: Weight=0.502<br>LLY_Close: Weight=0.000",
                    "Return: 44.642%<br>Volatility: 0.124<br>Sharpe Ratio: 3.615<br>IBM_Close: Weight=0.000<br>UNH_Close: Weight=0.505<br>PYPL_Close: Weight=0.305<br>MA_Close: Weight=0.190",
                    "Return: 24.858%<br>Volatility: 0.095<br>Sharpe Ratio: 2.610<br>COST_Close: Weight=0.073<br>SYK_Close: Weight=0.139<br>V_Close: Weight=0.651<br>DUK_Close: Weight=0.137",
                    "Return: 14.737%<br>Volatility: 0.102<br>Sharpe Ratio: 1.452<br>SO_Close: Weight=0.000<br>DUK_Close: Weight=0.444<br>TMO_Close: Weight=0.556",
                    "Return: 15.493%<br>Volatility: 0.141<br>Sharpe Ratio: 1.102<br>SRE_Close: Weight=0.000<br>EW_Close: Weight=0.475<br>RDY_Close: Weight=0.000<br>DHR_Close: Weight=0.525",
                    "Return: 19.747%<br>Volatility: 0.161<br>Sharpe Ratio: 1.224<br>SRE_Close: Weight=0.000<br>RMD_Close: Weight=0.619<br>QCOM_Close: Weight=0.381",
                    "Return: 35.466%<br>Volatility: 0.136<br>Sharpe Ratio: 2.617<br>WMT_Close: Weight=0.647<br>TMO_Close: Weight=0.353<br>SRE_Close: Weight=0.000",
                    "Return: 29.482%<br>Volatility: 0.142<br>Sharpe Ratio: 2.075<br>ADBE_Close: Weight=0.609<br>WFC_Close: Weight=0.089<br>GIS_Close: Weight=0.000<br>XOM_Close: Weight=0.302",
                    "Return: 24.905%<br>Volatility: 0.118<br>Sharpe Ratio: 2.104<br>QCOM_Close: Weight=0.080<br>DHR_Close: Weight=0.096<br>ACN_Close: Weight=0.824",
                    "Return: 31.020%<br>Volatility: 0.125<br>Sharpe Ratio: 2.478<br>PG_Close: Weight=0.228<br>TMO_Close: Weight=0.293<br>NVDA_Close: Weight=0.227<br>SYK_Close: Weight=0.252",
                    "Return: 32.454%<br>Volatility: 0.135<br>Sharpe Ratio: 2.404<br>CMCSA_Close: Weight=0.000<br>HD_Close: Weight=1.000<br>DIS_Close: Weight=0.000",
                    "Return: 9.799%<br>Volatility: 0.228<br>Sharpe Ratio: 0.430<br>MO_Close: Weight=0.000<br>MRK_Close: Weight=0.000<br>BIIB_Close: Weight=1.000<br>KR_Close: Weight=0.000",
                    "Return: 22.240%<br>Volatility: 0.123<br>Sharpe Ratio: 1.807<br>RTX_Close: Weight=0.401<br>GS_Close: Weight=0.000<br>GOOGL_Close: Weight=0.599",
                    "Return: 13.084%<br>Volatility: 0.088<br>Sharpe Ratio: 1.483<br>EMR_Close: Weight=0.490<br>DUK_Close: Weight=0.510<br>UA_Close: Weight=0.000",
                    "Return: 23.000%<br>Volatility: 0.113<br>Sharpe Ratio: 2.032<br>META_Close: Weight=0.578<br>MDT_Close: Weight=0.000<br>EXC_Close: Weight=0.422",
                    "Return: 25.969%<br>Volatility: 0.147<br>Sharpe Ratio: 1.767<br>GOOG_Close: Weight=0.865<br>TSLA_Close: Weight=0.069<br>F_Close: Weight=0.066",
                    "Return: 18.681%<br>Volatility: 0.086<br>Sharpe Ratio: 2.163<br>CMCSA_Close: Weight=0.101<br>CRM_Close: Weight=0.396<br>AEP_Close: Weight=0.503",
                    "Return: 30.801%<br>Volatility: 0.100<br>Sharpe Ratio: 3.086<br>ACN_Close: Weight=0.383<br>CRM_Close: Weight=0.128<br>RMD_Close: Weight=0.000<br>UNH_Close: Weight=0.489",
                    "Return: 59.541%<br>Volatility: 0.174<br>Sharpe Ratio: 3.416<br>MRK_Close: Weight=0.000<br>BA_Close: Weight=1.000<br>SNAP_Close: Weight=0.000",
                    "Return: 36.891%<br>Volatility: 0.142<br>Sharpe Ratio: 2.602<br>GE_Close: Weight=0.000<br>GIS_Close: Weight=0.016<br>MA_Close: Weight=0.984<br>SRE_Close: Weight=0.000",
                    "Return: 22.719%<br>Volatility: 0.094<br>Sharpe Ratio: 2.411<br>GM_Close: Weight=0.093<br>EMR_Close: Weight=0.181<br>BMY_Close: Weight=0.000<br>LMT_Close: Weight=0.726",
                    "Return: 33.005%<br>Volatility: 0.125<br>Sharpe Ratio: 2.644<br>AMZN_Close: Weight=0.259<br>JPM_Close: Weight=0.260<br>TXN_Close: Weight=0.482",
                    "Return: 29.601%<br>Volatility: 0.119<br>Sharpe Ratio: 2.489<br>MO_Close: Weight=0.000<br>DHR_Close: Weight=0.001<br>CSCO_Close: Weight=0.091<br>V_Close: Weight=0.908",
                    "Return: 30.123%<br>Volatility: 0.124<br>Sharpe Ratio: 2.425<br>GILD_Close: Weight=0.086<br>HD_Close: Weight=0.914<br>SNAP_Close: Weight=0.000",
                    "Return: 36.615%<br>Volatility: 0.114<br>Sharpe Ratio: 3.199<br>SO_Close: Weight=0.000<br>TXN_Close: Weight=0.353<br>WMT_Close: Weight=0.370<br>ACN_Close: Weight=0.277",
                    "Return: 40.379%<br>Volatility: 0.163<br>Sharpe Ratio: 2.475<br>GE_Close: Weight=0.000<br>ISRG_Close: Weight=0.811<br>ETN_Close: Weight=0.189",
                    "Return: 27.644%<br>Volatility: 0.108<br>Sharpe Ratio: 2.559<br>SO_Close: Weight=0.000<br>RTX_Close: Weight=0.171<br>V_Close: Weight=0.740<br>RMD_Close: Weight=0.089",
                    "Return: 31.898%<br>Volatility: 0.175<br>Sharpe Ratio: 1.821<br>NFLX_Close: Weight=0.171<br>SO_Close: Weight=0.000<br>META_Close: Weight=0.829",
                    "Return: 17.761%<br>Volatility: 0.076<br>Sharpe Ratio: 2.346<br>XOM_Close: Weight=0.102<br>KO_Close: Weight=0.366<br>NEE_Close: Weight=0.532",
                    "Return: 30.919%<br>Volatility: 0.128<br>Sharpe Ratio: 2.421<br>HD_Close: Weight=0.932<br>BIIB_Close: Weight=0.068<br>CMCSA_Close: Weight=0.000<br>UA_Close: Weight=0.000",
                    "Return: 14.370%<br>Volatility: 0.129<br>Sharpe Ratio: 1.112<br>VZ_Close: Weight=0.362<br>CPB_Close: Weight=0.000<br>CSCO_Close: Weight=0.638",
                    "Return: 36.822%<br>Volatility: 0.203<br>Sharpe Ratio: 1.816<br>DIS_Close: Weight=0.005<br>AMZN_Close: Weight=0.946<br>BIIB_Close: Weight=0.049",
                    "Return: 19.546%<br>Volatility: 0.090<br>Sharpe Ratio: 2.163<br>JNJ_Close: Weight=0.427<br>WFC_Close: Weight=0.004<br>VZ_Close: Weight=0.165<br>GOOGL_Close: Weight=0.404",
                    "Return: 28.667%<br>Volatility: 0.140<br>Sharpe Ratio: 2.053<br>ABT_Close: Weight=1.000<br>GILD_Close: Weight=0.000<br>GS_Close: Weight=0.000",
                    "Return: 30.982%<br>Volatility: 0.125<br>Sharpe Ratio: 2.471<br>SNAP_Close: Weight=0.000<br>CPB_Close: Weight=0.000<br>BIIB_Close: Weight=0.000<br>V_Close: Weight=1.000",
                    "Return: 28.565%<br>Volatility: 0.117<br>Sharpe Ratio: 2.449<br>T_Close: Weight=0.000<br>MRK_Close: Weight=0.000<br>META_Close: Weight=0.376<br>ACN_Close: Weight=0.624",
                    "Return: 16.868%<br>Volatility: 0.117<br>Sharpe Ratio: 1.437<br>SYK_Close: Weight=0.710<br>BIIB_Close: Weight=0.048<br>PG_Close: Weight=0.242",
                    "Return: 32.378%<br>Volatility: 0.123<br>Sharpe Ratio: 2.629<br>AMGN_Close: Weight=0.000<br>BSX_Close: Weight=0.000<br>ACN_Close: Weight=0.486<br>TXN_Close: Weight=0.514",
                    "Return: 16.758%<br>Volatility: 0.113<br>Sharpe Ratio: 1.488<br>JNJ_Close: Weight=0.971<br>GE_Close: Weight=0.000<br>BIIB_Close: Weight=0.029",
                    "Return: 34.535%<br>Volatility: 0.204<br>Sharpe Ratio: 1.691<br>BMY_Close: Weight=0.277<br>WFC_Close: Weight=0.237<br>VRTX_Close: Weight=0.487",
                    "Return: 31.668%<br>Volatility: 0.115<br>Sharpe Ratio: 2.752<br>K_Close: Weight=0.000<br>VZ_Close: Weight=0.223<br>MA_Close: Weight=0.777<br>MO_Close: Weight=0.000",
                    "Return: 23.172%<br>Volatility: 0.162<br>Sharpe Ratio: 1.431<br>GILD_Close: Weight=0.095<br>AAPL_Close: Weight=0.905<br>SO_Close: Weight=0.000",
                    "Return: 30.210%<br>Volatility: 0.126<br>Sharpe Ratio: 2.407<br>PG_Close: Weight=0.049<br>DHR_Close: Weight=0.036<br>HD_Close: Weight=0.915<br>GIS_Close: Weight=0.000",
                    "Return: 34.956%<br>Volatility: 0.116<br>Sharpe Ratio: 3.021<br>JNJ_Close: Weight=0.408<br>BABA_Close: Weight=0.247<br>TXN_Close: Weight=0.345",
                    "Return: 32.381%<br>Volatility: 0.111<br>Sharpe Ratio: 2.919<br>RMD_Close: Weight=0.000<br>MMM_Close: Weight=0.485<br>MSFT_Close: Weight=0.515<br>K_Close: Weight=0.000",
                    "Return: 25.240%<br>Volatility: 0.100<br>Sharpe Ratio: 2.520<br>LMT_Close: Weight=0.742<br>BMY_Close: Weight=0.000<br>GM_Close: Weight=0.115<br>NFLX_Close: Weight=0.143",
                    "Return: 20.344%<br>Volatility: 0.201<br>Sharpe Ratio: 1.013<br>SRE_Close: Weight=0.000<br>RMD_Close: Weight=1.000<br>K_Close: Weight=0.000",
                    "Return: 21.882%<br>Volatility: 0.090<br>Sharpe Ratio: 2.420<br>JNJ_Close: Weight=0.335<br>LMT_Close: Weight=0.665<br>BMY_Close: Weight=0.000",
                    "Return: 27.642%<br>Volatility: 0.104<br>Sharpe Ratio: 2.666<br>AMGN_Close: Weight=0.000<br>AEP_Close: Weight=0.368<br>UNH_Close: Weight=0.632<br>BMY_Close: Weight=0.000",
                    "Return: 20.999%<br>Volatility: 0.181<br>Sharpe Ratio: 1.161<br>QCOM_Close: Weight=0.419<br>GS_Close: Weight=0.000<br>EW_Close: Weight=0.581",
                    "Return: 8.594%<br>Volatility: 0.078<br>Sharpe Ratio: 1.107<br>SNAP_Close: Weight=0.000<br>DUK_Close: Weight=0.583<br>WFC_Close: Weight=0.139<br>GM_Close: Weight=0.278",
                    "Return: 29.337%<br>Volatility: 0.138<br>Sharpe Ratio: 2.130<br>META_Close: Weight=0.234<br>SAP_Close: Weight=0.453<br>AMZN_Close: Weight=0.314",
                    "Return: 48.267%<br>Volatility: 0.142<br>Sharpe Ratio: 3.390<br>GS_Close: Weight=0.000<br>EXC_Close: Weight=0.308<br>CAT_Close: Weight=0.692",
                    "Return: 32.648%<br>Volatility: 0.122<br>Sharpe Ratio: 2.685<br>COST_Close: Weight=0.105<br>ZBH_Close: Weight=0.000<br>MA_Close: Weight=0.575<br>V_Close: Weight=0.320",
                    "Return: 28.506%<br>Volatility: 0.094<br>Sharpe Ratio: 3.025<br>NEE_Close: Weight=0.532<br>TXN_Close: Weight=0.413<br>BMY_Close: Weight=0.054",
                    "Return: 18.152%<br>Volatility: 0.081<br>Sharpe Ratio: 2.234<br>SYK_Close: Weight=0.336<br>CVX_Close: Weight=0.334<br>RTX_Close: Weight=0.280<br>QCOM_Close: Weight=0.049",
                    "Return: 32.388%<br>Volatility: 0.147<br>Sharpe Ratio: 2.196<br>AMZN_Close: Weight=0.383<br>INTC_Close: Weight=0.461<br>T_Close: Weight=0.000<br>MS_Close: Weight=0.156",
                    "Return: 30.982%<br>Volatility: 0.125<br>Sharpe Ratio: 2.471<br>V_Close: Weight=1.000<br>MRK_Close: Weight=0.000<br>CPB_Close: Weight=0.000",
                    "Return: 35.182%<br>Volatility: 0.143<br>Sharpe Ratio: 2.466<br>TSLA_Close: Weight=0.043<br>INTC_Close: Weight=0.328<br>TXN_Close: Weight=0.629",
                    "Return: 61.117%<br>Volatility: 0.216<br>Sharpe Ratio: 2.834<br>TSLA_Close: Weight=0.064<br>ORCL_Close: Weight=0.030<br>PYPL_Close: Weight=0.906",
                    "Return: 22.256%<br>Volatility: 0.134<br>Sharpe Ratio: 1.662<br>AMGN_Close: Weight=0.000<br>DHR_Close: Weight=0.197<br>CRM_Close: Weight=0.803",
                    "Return: 12.788%<br>Volatility: 0.143<br>Sharpe Ratio: 0.896<br>K_Close: Weight=0.000<br>ETN_Close: Weight=0.884<br>GILD_Close: Weight=0.116",
                    "Return: 41.610%<br>Volatility: 0.163<br>Sharpe Ratio: 2.545<br>MS_Close: Weight=0.000<br>DE_Close: Weight=0.897<br>BTI_Close: Weight=0.103<br>XOM_Close: Weight=0.000",
                    "Return: 33.906%<br>Volatility: 0.107<br>Sharpe Ratio: 3.158<br>MCD_Close: Weight=0.590<br>XOM_Close: Weight=0.113<br>SYK_Close: Weight=0.092<br>ADBE_Close: Weight=0.206",
                    "Return: 21.819%<br>Volatility: 0.101<br>Sharpe Ratio: 2.153<br>NEE_Close: Weight=0.863<br>BIIB_Close: Weight=0.039<br>BMY_Close: Weight=0.098",
                    "Return: 28.637%<br>Volatility: 0.130<br>Sharpe Ratio: 2.203<br>CRM_Close: Weight=0.446<br>INTC_Close: Weight=0.513<br>ORCL_Close: Weight=0.041<br>KR_Close: Weight=0.000",
                    "Return: 12.928%<br>Volatility: 0.078<br>Sharpe Ratio: 1.666<br>BMY_Close: Weight=0.169<br>KO_Close: Weight=0.831<br>PM_Close: Weight=0.000",
                    "Return: 42.457%<br>Volatility: 0.107<br>Sharpe Ratio: 3.951<br>DE_Close: Weight=0.295<br>ABT_Close: Weight=0.099<br>MMM_Close: Weight=0.245<br>ABBV_Close: Weight=0.361",
                    "Return: 36.114%<br>Volatility: 0.167<br>Sharpe Ratio: 2.168<br>MS_Close: Weight=0.328<br>ADBE_Close: Weight=0.672<br>BSX_Close: Weight=0.000",
                    "Return: 13.308%<br>Volatility: 0.102<br>Sharpe Ratio: 1.304<br>COST_Close: Weight=0.139<br>PFE_Close: Weight=0.482<br>NKE_Close: Weight=0.105<br>EW_Close: Weight=0.273",
                    "Return: 23.457%<br>Volatility: 0.081<br>Sharpe Ratio: 2.901<br>BIIB_Close: Weight=0.000<br>LMT_Close: Weight=0.501<br>REGN_Close: Weight=0.021<br>NEE_Close: Weight=0.477",
                    "Return: 50.911%<br>Volatility: 0.140<br>Sharpe Ratio: 3.627<br>SRE_Close: Weight=0.000<br>CAT_Close: Weight=0.504<br>MCD_Close: Weight=0.496",
                    "Return: 56.437%<br>Volatility: 0.160<br>Sharpe Ratio: 3.535<br>MO_Close: Weight=0.000<br>CAT_Close: Weight=0.701<br>AMZN_Close: Weight=0.299<br>GIS_Close: Weight=0.000",
                    "Return: 17.815%<br>Volatility: 0.123<br>Sharpe Ratio: 1.448<br>AMD_Close: Weight=0.000<br>CSCO_Close: Weight=0.435<br>SYY_Close: Weight=0.565",
                    "Return: 32.557%<br>Volatility: 0.118<br>Sharpe Ratio: 2.769<br>MSFT_Close: Weight=0.464<br>BMY_Close: Weight=0.039<br>ADBE_Close: Weight=0.202<br>JPM_Close: Weight=0.295",
                    "Return: 22.055%<br>Volatility: 0.079<br>Sharpe Ratio: 2.791<br>LLY_Close: Weight=0.018<br>CVX_Close: Weight=0.126<br>KO_Close: Weight=0.404<br>HD_Close: Weight=0.453",
                    "Return: 8.376%<br>Volatility: 0.107<br>Sharpe Ratio: 0.780<br>T_Close: Weight=0.000<br>WFC_Close: Weight=0.268<br>DIS_Close: Weight=0.000<br>DHR_Close: Weight=0.732",
                    "Return: 12.266%<br>Volatility: 0.146<br>Sharpe Ratio: 0.841<br>ORCL_Close: Weight=0.644<br>NKE_Close: Weight=0.356<br>SO_Close: Weight=0.000",
                    "Return: 3.880%<br>Volatility: 0.104<br>Sharpe Ratio: 0.374<br>CPB_Close: Weight=0.000<br>MRK_Close: Weight=0.000<br>XOM_Close: Weight=1.000",
                    "Return: 48.787%<br>Volatility: 0.137<br>Sharpe Ratio: 3.553<br>GOOGL_Close: Weight=0.322<br>EW_Close: Weight=0.072<br>CAT_Close: Weight=0.606",
                    "Return: 36.916%<br>Volatility: 0.107<br>Sharpe Ratio: 3.451<br>GOOGL_Close: Weight=0.106<br>UNH_Close: Weight=0.410<br>INTC_Close: Weight=0.157<br>DE_Close: Weight=0.327",
                    "Return: 0.821%<br>Volatility: 0.152<br>Sharpe Ratio: 0.054<br>MDT_Close: Weight=1.000<br>GE_Close: Weight=0.000<br>REGN_Close: Weight=0.000",
                    "Return: 11.147%<br>Volatility: 0.144<br>Sharpe Ratio: 0.775<br>SO_Close: Weight=0.000<br>BMY_Close: Weight=0.631<br>NKE_Close: Weight=0.369",
                    "Return: 19.951%<br>Volatility: 0.098<br>Sharpe Ratio: 2.043<br>CSCO_Close: Weight=0.114<br>AAPL_Close: Weight=0.303<br>SYY_Close: Weight=0.294<br>RTX_Close: Weight=0.290",
                    "Return: 22.811%<br>Volatility: 0.132<br>Sharpe Ratio: 1.728<br>GOOGL_Close: Weight=0.720<br>SRE_Close: Weight=0.016<br>CSCO_Close: Weight=0.264",
                    "Return: 31.859%<br>Volatility: 0.143<br>Sharpe Ratio: 2.232<br>DUK_Close: Weight=0.479<br>ZBH_Close: Weight=0.000<br>NVDA_Close: Weight=0.322<br>GM_Close: Weight=0.200",
                    "Return: 44.313%<br>Volatility: 0.181<br>Sharpe Ratio: 2.442<br>GOOGL_Close: Weight=0.415<br>DIS_Close: Weight=0.038<br>BABA_Close: Weight=0.547",
                    "Return: 30.676%<br>Volatility: 0.103<br>Sharpe Ratio: 2.973<br>BSX_Close: Weight=0.000<br>TXN_Close: Weight=0.300<br>AMZN_Close: Weight=0.176<br>LMT_Close: Weight=0.524",
                    "Return: 29.631%<br>Volatility: 0.105<br>Sharpe Ratio: 2.821<br>PM_Close: Weight=0.000<br>JNJ_Close: Weight=0.273<br>MA_Close: Weight=0.595<br>BAC_Close: Weight=0.132",
                    "Return: 20.218%<br>Volatility: 0.125<br>Sharpe Ratio: 1.616<br>F_Close: Weight=0.000<br>VZ_Close: Weight=0.351<br>AAPL_Close: Weight=0.649",
                    "Return: 33.489%<br>Volatility: 0.125<br>Sharpe Ratio: 2.686<br>EW_Close: Weight=0.069<br>MA_Close: Weight=0.800<br>CRM_Close: Weight=0.000<br>GM_Close: Weight=0.131",
                    "Return: 21.211%<br>Volatility: 0.096<br>Sharpe Ratio: 2.204<br>IBM_Close: Weight=0.000<br>JNJ_Close: Weight=0.484<br>META_Close: Weight=0.412<br>XOM_Close: Weight=0.104",
                    "Return: 18.152%<br>Volatility: 0.117<br>Sharpe Ratio: 1.549<br>RMD_Close: Weight=0.348<br>MRK_Close: Weight=0.000<br>RTX_Close: Weight=0.652",
                    "Return: 31.776%<br>Volatility: 0.122<br>Sharpe Ratio: 2.609<br>MSFT_Close: Weight=0.706<br>MS_Close: Weight=0.000<br>JPM_Close: Weight=0.294",
                    "Return: 36.638%<br>Volatility: 0.107<br>Sharpe Ratio: 3.438<br>MA_Close: Weight=0.396<br>PEP_Close: Weight=0.148<br>WMT_Close: Weight=0.342<br>ADBE_Close: Weight=0.114",
                    "Return: 14.378%<br>Volatility: 0.070<br>Sharpe Ratio: 2.059<br>RTX_Close: Weight=0.307<br>ORCL_Close: Weight=0.094<br>KO_Close: Weight=0.599",
                    "Return: 15.048%<br>Volatility: 0.113<br>Sharpe Ratio: 1.335<br>AMD_Close: Weight=0.000<br>DHR_Close: Weight=0.405<br>REGN_Close: Weight=0.000<br>SYY_Close: Weight=0.595",
                    "Return: 41.618%<br>Volatility: 0.101<br>Sharpe Ratio: 4.109<br>BA_Close: Weight=0.458<br>NEE_Close: Weight=0.379<br>AMZN_Close: Weight=0.112<br>SYK_Close: Weight=0.051",
                    "Return: 9.217%<br>Volatility: 0.108<br>Sharpe Ratio: 0.854<br>PFE_Close: Weight=1.000<br>DIS_Close: Weight=0.000<br>AMGN_Close: Weight=0.000",
                    "Return: 39.111%<br>Volatility: 0.141<br>Sharpe Ratio: 2.771<br>AMZN_Close: Weight=0.146<br>ADBE_Close: Weight=0.183<br>MA_Close: Weight=0.671",
                    "Return: 37.480%<br>Volatility: 0.108<br>Sharpe Ratio: 3.480<br>GILD_Close: Weight=0.000<br>NEE_Close: Weight=0.471<br>ABBV_Close: Weight=0.478<br>NKE_Close: Weight=0.051",
                    "Return: 14.652%<br>Volatility: 0.071<br>Sharpe Ratio: 2.064<br>BIIB_Close: Weight=0.050<br>ORCL_Close: Weight=0.158<br>CVX_Close: Weight=0.298<br>AEP_Close: Weight=0.494",
                    "Return: 9.702%<br>Volatility: 0.082<br>Sharpe Ratio: 1.181<br>DUK_Close: Weight=0.466<br>BMY_Close: Weight=0.156<br>ZBH_Close: Weight=0.016<br>ETN_Close: Weight=0.362",
                    "Return: 14.127%<br>Volatility: 0.103<br>Sharpe Ratio: 1.371<br>CVX_Close: Weight=0.496<br>BSX_Close: Weight=0.000<br>ETN_Close: Weight=0.320<br>COST_Close: Weight=0.184",
                    "Return: 33.053%<br>Volatility: 0.108<br>Sharpe Ratio: 3.075<br>BIIB_Close: Weight=0.000<br>ISRG_Close: Weight=0.413<br>NEE_Close: Weight=0.587",
                    "Return: 36.929%<br>Volatility: 0.118<br>Sharpe Ratio: 3.121<br>F_Close: Weight=0.000<br>WMT_Close: Weight=0.422<br>HD_Close: Weight=0.578",
                    "Return: 13.598%<br>Volatility: 0.126<br>Sharpe Ratio: 1.076<br>MS_Close: Weight=0.476<br>CMCSA_Close: Weight=0.162<br>BTI_Close: Weight=0.362",
                    "Return: 24.360%<br>Volatility: 0.110<br>Sharpe Ratio: 2.206<br>LLY_Close: Weight=0.000<br>LMT_Close: Weight=1.000<br>MDT_Close: Weight=0.000",
                    "Return: 17.498%<br>Volatility: 0.127<br>Sharpe Ratio: 1.373<br>JPM_Close: Weight=0.646<br>GM_Close: Weight=0.190<br>COST_Close: Weight=0.164",
                    "Return: 37.526%<br>Volatility: 0.139<br>Sharpe Ratio: 2.707<br>DIS_Close: Weight=0.000<br>DE_Close: Weight=0.675<br>SYK_Close: Weight=0.325",
                    "Return: 34.220%<br>Volatility: 0.139<br>Sharpe Ratio: 2.462<br>GE_Close: Weight=0.000<br>GM_Close: Weight=0.067<br>TXN_Close: Weight=0.619<br>INTC_Close: Weight=0.313",
                    "Return: 45.399%<br>Volatility: 0.227<br>Sharpe Ratio: 1.999<br>SNAP_Close: Weight=0.000<br>T_Close: Weight=0.003<br>ADBE_Close: Weight=0.997<br>DHR_Close: Weight=0.000",
                    "Return: 23.511%<br>Volatility: 0.119<br>Sharpe Ratio: 1.974<br>RDY_Close: Weight=0.000<br>GOOGL_Close: Weight=0.590<br>EMR_Close: Weight=0.410",
                    "Return: 38.591%<br>Volatility: 0.110<br>Sharpe Ratio: 3.520<br>ACN_Close: Weight=0.348<br>NVDA_Close: Weight=0.107<br>MCD_Close: Weight=0.545",
                    "Return: 23.217%<br>Volatility: 0.140<br>Sharpe Ratio: 1.656<br>GOOGL_Close: Weight=0.865<br>SO_Close: Weight=0.000<br>WFC_Close: Weight=0.119<br>BIIB_Close: Weight=0.016",
                    "Return: 35.904%<br>Volatility: 0.114<br>Sharpe Ratio: 3.158<br>HD_Close: Weight=0.528<br>EW_Close: Weight=0.076<br>UA_Close: Weight=0.000<br>WMT_Close: Weight=0.396",
                    "Return: 39.901%<br>Volatility: 0.132<br>Sharpe Ratio: 3.013<br>DHR_Close: Weight=0.000<br>PYPL_Close: Weight=0.518<br>PEP_Close: Weight=0.482<br>REGN_Close: Weight=0.000",
                    "Return: 30.982%<br>Volatility: 0.125<br>Sharpe Ratio: 2.471<br>WFC_Close: Weight=0.000<br>BSX_Close: Weight=0.000<br>V_Close: Weight=1.000",
                    "Return: 26.846%<br>Volatility: 0.094<br>Sharpe Ratio: 2.868<br>EMR_Close: Weight=0.110<br>SYY_Close: Weight=0.250<br>V_Close: Weight=0.641<br>GE_Close: Weight=0.000",
                    "Return: 22.933%<br>Volatility: 0.105<br>Sharpe Ratio: 2.190<br>SRE_Close: Weight=0.000<br>DIS_Close: Weight=0.008<br>META_Close: Weight=0.449<br>JNJ_Close: Weight=0.543",
                    "Return: 65.170%<br>Volatility: 0.231<br>Sharpe Ratio: 2.817<br>LLY_Close: Weight=0.000<br>MRK_Close: Weight=0.000<br>PYPL_Close: Weight=1.000",
                    "Return: 14.706%<br>Volatility: 0.189<br>Sharpe Ratio: 0.777<br>DIS_Close: Weight=0.000<br>GIS_Close: Weight=0.000<br>GM_Close: Weight=1.000",
                    "Return: 48.424%<br>Volatility: 0.207<br>Sharpe Ratio: 2.336<br>UA_Close: Weight=0.000<br>BABA_Close: Weight=0.769<br>AMD_Close: Weight=0.000<br>LLY_Close: Weight=0.231",
                    "Return: 55.142%<br>Volatility: 0.172<br>Sharpe Ratio: 3.205<br>AMGN_Close: Weight=0.000<br>BMY_Close: Weight=0.000<br>VRTX_Close: Weight=0.150<br>ABBV_Close: Weight=0.850",
                    "Return: 13.763%<br>Volatility: 0.155<br>Sharpe Ratio: 0.886<br>MRK_Close: Weight=0.000<br>IBM_Close: Weight=0.000<br>ETN_Close: Weight=1.000",
                    "Return: 25.076%<br>Volatility: 0.119<br>Sharpe Ratio: 2.112<br>INTC_Close: Weight=0.525<br>PM_Close: Weight=0.000<br>DHR_Close: Weight=0.150<br>EMR_Close: Weight=0.325",
                    "Return: 16.017%<br>Volatility: 0.163<br>Sharpe Ratio: 0.982<br>UA_Close: Weight=0.000<br>BAC_Close: Weight=0.799<br>SO_Close: Weight=0.201",
                    "Return: 36.244%<br>Volatility: 0.124<br>Sharpe Ratio: 2.930<br>ISRG_Close: Weight=0.373<br>MSFT_Close: Weight=0.416<br>RTX_Close: Weight=0.211",
                    "Return: 30.604%<br>Volatility: 0.126<br>Sharpe Ratio: 2.433<br>MS_Close: Weight=0.091<br>HD_Close: Weight=0.885<br>GM_Close: Weight=0.024",
                    "Return: 22.354%<br>Volatility: 0.112<br>Sharpe Ratio: 2.002<br>SYK_Close: Weight=0.369<br>EMR_Close: Weight=0.307<br>AAPL_Close: Weight=0.324",
                    "Return: 54.051%<br>Volatility: 0.179<br>Sharpe Ratio: 3.026<br>MO_Close: Weight=0.000<br>CPB_Close: Weight=0.000<br>PG_Close: Weight=0.000<br>ABBV_Close: Weight=1.000",
                    "Return: 30.974%<br>Volatility: 0.102<br>Sharpe Ratio: 3.023<br>CMCSA_Close: Weight=0.044<br>WMT_Close: Weight=0.388<br>BMY_Close: Weight=0.000<br>LMT_Close: Weight=0.568",
                    "Return: 33.487%<br>Volatility: 0.104<br>Sharpe Ratio: 3.216<br>VRTX_Close: Weight=0.097<br>NEE_Close: Weight=0.452<br>MA_Close: Weight=0.451",
                    "Return: 29.328%<br>Volatility: 0.117<br>Sharpe Ratio: 2.502<br>PM_Close: Weight=0.000<br>NKE_Close: Weight=0.082<br>V_Close: Weight=0.918",
                    "Return: 32.136%<br>Volatility: 0.111<br>Sharpe Ratio: 2.883<br>AEP_Close: Weight=0.634<br>BIIB_Close: Weight=0.000<br>BABA_Close: Weight=0.366<br>AMGN_Close: Weight=0.000",
                    "Return: 13.849%<br>Volatility: 0.075<br>Sharpe Ratio: 1.846<br>CMCSA_Close: Weight=0.032<br>MS_Close: Weight=0.204<br>KO_Close: Weight=0.764",
                    "Return: 35.262%<br>Volatility: 0.176<br>Sharpe Ratio: 2.004<br>VRTX_Close: Weight=0.345<br>F_Close: Weight=0.000<br>TMO_Close: Weight=0.655",
                    "Return: 18.953%<br>Volatility: 0.071<br>Sharpe Ratio: 2.660<br>AEP_Close: Weight=0.158<br>LMT_Close: Weight=0.487<br>KO_Close: Weight=0.355<br>PEP_Close: Weight=0.000",
                    "Return: 24.029%<br>Volatility: 0.102<br>Sharpe Ratio: 2.345<br>K_Close: Weight=0.000<br>ABT_Close: Weight=0.649<br>CVX_Close: Weight=0.351",
                    "Return: 20.543%<br>Volatility: 0.132<br>Sharpe Ratio: 1.558<br>SYK_Close: Weight=0.698<br>BMY_Close: Weight=0.171<br>TSLA_Close: Weight=0.131",
                    "Return: 24.999%<br>Volatility: 0.087<br>Sharpe Ratio: 2.860<br>UA_Close: Weight=0.000<br>SYK_Close: Weight=0.173<br>V_Close: Weight=0.545<br>CVX_Close: Weight=0.282",
                    "Return: 28.455%<br>Volatility: 0.113<br>Sharpe Ratio: 2.526<br>RTX_Close: Weight=0.180<br>V_Close: Weight=0.820<br>GIS_Close: Weight=0.000<br>SNAP_Close: Weight=0.000",
                    "Return: 54.051%<br>Volatility: 0.179<br>Sharpe Ratio: 3.026<br>ABBV_Close: Weight=1.000<br>UA_Close: Weight=0.000<br>ZBH_Close: Weight=0.000",
                    "Return: 42.424%<br>Volatility: 0.109<br>Sharpe Ratio: 3.890<br>CAT_Close: Weight=0.465<br>NEE_Close: Weight=0.535<br>ETN_Close: Weight=0.000",
                    "Return: 23.472%<br>Volatility: 0.101<br>Sharpe Ratio: 2.319<br>MMM_Close: Weight=0.605<br>EXC_Close: Weight=0.175<br>AMD_Close: Weight=0.000<br>EMR_Close: Weight=0.220",
                    "Return: 27.936%<br>Volatility: 0.123<br>Sharpe Ratio: 2.272<br>VRTX_Close: Weight=0.209<br>VZ_Close: Weight=0.232<br>SAP_Close: Weight=0.559",
                    "Return: 70.094%<br>Volatility: 0.340<br>Sharpe Ratio: 2.061<br>MRK_Close: Weight=0.000<br>NVDA_Close: Weight=0.850<br>BIIB_Close: Weight=0.150",
                    "Return: 47.524%<br>Volatility: 0.117<br>Sharpe Ratio: 4.075<br>VRTX_Close: Weight=0.053<br>ABBV_Close: Weight=0.403<br>DE_Close: Weight=0.288<br>TXN_Close: Weight=0.256",
                    "Return: 14.152%<br>Volatility: 0.088<br>Sharpe Ratio: 1.603<br>MDT_Close: Weight=0.000<br>ORCL_Close: Weight=0.149<br>JNJ_Close: Weight=0.643<br>DUK_Close: Weight=0.208",
                    "Return: 30.116%<br>Volatility: 0.109<br>Sharpe Ratio: 2.767<br>INTC_Close: Weight=0.269<br>V_Close: Weight=0.670<br>CMCSA_Close: Weight=0.061<br>RDY_Close: Weight=0.000",
                    "Return: 35.595%<br>Volatility: 0.120<br>Sharpe Ratio: 2.963<br>ISRG_Close: Weight=0.447<br>MMM_Close: Weight=0.525<br>DUK_Close: Weight=0.028",
                    "Return: 24.641%<br>Volatility: 0.100<br>Sharpe Ratio: 2.472<br>PM_Close: Weight=0.000<br>NKE_Close: Weight=0.030<br>HON_Close: Weight=0.970",
                    "Return: 63.587%<br>Volatility: 0.179<br>Sharpe Ratio: 3.550<br>VRTX_Close: Weight=0.188<br>MO_Close: Weight=0.000<br>CAT_Close: Weight=0.812<br>UA_Close: Weight=0.000",
                    "Return: 51.702%<br>Volatility: 0.139<br>Sharpe Ratio: 3.712<br>DHR_Close: Weight=0.000<br>MSFT_Close: Weight=0.453<br>CAT_Close: Weight=0.547",
                    "Return: 12.638%<br>Volatility: 0.135<br>Sharpe Ratio: 0.938<br>GM_Close: Weight=0.533<br>NKE_Close: Weight=0.252<br>BIIB_Close: Weight=0.216",
                    "Return: 57.244%<br>Volatility: 0.174<br>Sharpe Ratio: 3.283<br>XOM_Close: Weight=0.000<br>CAT_Close: Weight=0.870<br>BTI_Close: Weight=0.130",
                    "Return: 43.094%<br>Volatility: 0.114<br>Sharpe Ratio: 3.779<br>LMT_Close: Weight=0.529<br>ETN_Close: Weight=0.000<br>CAT_Close: Weight=0.471<br>DHR_Close: Weight=0.000",
                    "Return: 44.536%<br>Volatility: 0.150<br>Sharpe Ratio: 2.971<br>SNAP_Close: Weight=0.000<br>MA_Close: Weight=0.708<br>BABA_Close: Weight=0.292",
                    "Return: 20.889%<br>Volatility: 0.109<br>Sharpe Ratio: 1.922<br>NFLX_Close: Weight=0.202<br>GIS_Close: Weight=0.000<br>JNJ_Close: Weight=0.624<br>GM_Close: Weight=0.174",
                    "Return: 25.478%<br>Volatility: 0.088<br>Sharpe Ratio: 2.912<br>AEP_Close: Weight=0.464<br>REGN_Close: Weight=0.000<br>GOOG_Close: Weight=0.155<br>TXN_Close: Weight=0.381",
                    "Return: 32.111%<br>Volatility: 0.100<br>Sharpe Ratio: 3.222<br>PG_Close: Weight=0.094<br>EMR_Close: Weight=0.049<br>TXN_Close: Weight=0.374<br>UNH_Close: Weight=0.483",
                    "Return: 32.290%<br>Volatility: 0.111<br>Sharpe Ratio: 2.918<br>PG_Close: Weight=0.000<br>BTI_Close: Weight=0.042<br>SYY_Close: Weight=0.223<br>MCD_Close: Weight=0.735",
                    "Return: 20.267%<br>Volatility: 0.163<br>Sharpe Ratio: 1.246<br>XOM_Close: Weight=0.000<br>EMR_Close: Weight=1.000<br>T_Close: Weight=0.000<br>AMD_Close: Weight=0.000",
                    "Return: 23.910%<br>Volatility: 0.105<br>Sharpe Ratio: 2.271<br>ORCL_Close: Weight=0.120<br>SYY_Close: Weight=0.400<br>T_Close: Weight=0.000<br>META_Close: Weight=0.480",
                    "Return: 17.243%<br>Volatility: 0.143<br>Sharpe Ratio: 1.205<br>MO_Close: Weight=0.000<br>SYY_Close: Weight=0.864<br>RDY_Close: Weight=0.000<br>GILD_Close: Weight=0.136",
                    "Return: 24.648%<br>Volatility: 0.122<br>Sharpe Ratio: 2.022<br>BSX_Close: Weight=0.000<br>RTX_Close: Weight=0.436<br>CPB_Close: Weight=0.000<br>META_Close: Weight=0.564",
                    "Return: 32.083%<br>Volatility: 0.190<br>Sharpe Ratio: 1.686<br>VRTX_Close: Weight=0.433<br>BTI_Close: Weight=0.182<br>DHR_Close: Weight=0.385",
                    "Return: 29.754%<br>Volatility: 0.082<br>Sharpe Ratio: 3.635<br>NEE_Close: Weight=0.424<br>F_Close: Weight=0.052<br>LMT_Close: Weight=0.339<br>BABA_Close: Weight=0.184",
                    "Return: 35.835%<br>Volatility: 0.127<br>Sharpe Ratio: 2.820<br>MCD_Close: Weight=0.899<br>MRK_Close: Weight=0.000<br>GILD_Close: Weight=0.024<br>TSLA_Close: Weight=0.077",
                    "Return: 28.138%<br>Volatility: 0.158<br>Sharpe Ratio: 1.779<br>F_Close: Weight=0.089<br>META_Close: Weight=0.911<br>UA_Close: Weight=0.000",
                    "Return: 34.664%<br>Volatility: 0.142<br>Sharpe Ratio: 2.443<br>UA_Close: Weight=0.000<br>MSFT_Close: Weight=0.819<br>CRM_Close: Weight=0.136<br>AAPL_Close: Weight=0.045",
                    "Return: 48.550%<br>Volatility: 0.165<br>Sharpe Ratio: 2.944<br>GS_Close: Weight=0.000<br>NVDA_Close: Weight=0.104<br>MSFT_Close: Weight=0.604<br>BABA_Close: Weight=0.292",
                    "Return: 20.941%<br>Volatility: 0.078<br>Sharpe Ratio: 2.683<br>NEE_Close: Weight=0.516<br>PFE_Close: Weight=0.222<br>GOOGL_Close: Weight=0.262",
                    "Return: 34.701%<br>Volatility: 0.098<br>Sharpe Ratio: 3.534<br>MCD_Close: Weight=0.466<br>ISRG_Close: Weight=0.283<br>AAPL_Close: Weight=0.088<br>VZ_Close: Weight=0.163",
                    "Return: 37.750%<br>Volatility: 0.110<br>Sharpe Ratio: 3.428<br>EMR_Close: Weight=0.138<br>MCD_Close: Weight=0.525<br>ISRG_Close: Weight=0.328<br>GIS_Close: Weight=0.009",
                    "Return: 35.492%<br>Volatility: 0.098<br>Sharpe Ratio: 3.632<br>CAT_Close: Weight=0.445<br>PEP_Close: Weight=0.184<br>LLY_Close: Weight=0.094<br>AEP_Close: Weight=0.278",
                    "Return: 24.499%<br>Volatility: 0.107<br>Sharpe Ratio: 2.288<br>MRK_Close: Weight=0.000<br>TSLA_Close: Weight=0.079<br>LMT_Close: Weight=0.921",
                    "Return: 57.205%<br>Volatility: 0.167<br>Sharpe Ratio: 3.422<br>BA_Close: Weight=0.948<br>ZBH_Close: Weight=0.000<br>GM_Close: Weight=0.052<br>SNAP_Close: Weight=0.000",
                    "Return: 63.192%<br>Volatility: 0.179<br>Sharpe Ratio: 3.538<br>UA_Close: Weight=0.000<br>NVDA_Close: Weight=0.184<br>CVX_Close: Weight=0.082<br>CAT_Close: Weight=0.735",
                    "Return: 48.414%<br>Volatility: 0.141<br>Sharpe Ratio: 3.434<br>SYK_Close: Weight=0.179<br>CAT_Close: Weight=0.630<br>TMO_Close: Weight=0.191<br>F_Close: Weight=0.000",
                    "Return: 50.583%<br>Volatility: 0.192<br>Sharpe Ratio: 2.635<br>MS_Close: Weight=0.004<br>VRTX_Close: Weight=0.214<br>GM_Close: Weight=0.230<br>BABA_Close: Weight=0.552",
                    "Return: 26.349%<br>Volatility: 0.118<br>Sharpe Ratio: 2.239<br>RDY_Close: Weight=0.000<br>MMM_Close: Weight=0.808<br>RMD_Close: Weight=0.192",
                    "Return: 28.029%<br>Volatility: 0.150<br>Sharpe Ratio: 1.868<br>AMZN_Close: Weight=0.662<br>LLY_Close: Weight=0.104<br>DHR_Close: Weight=0.235",
                    "Return: 21.269%<br>Volatility: 0.081<br>Sharpe Ratio: 2.624<br>GM_Close: Weight=0.106<br>MS_Close: Weight=0.200<br>NEE_Close: Weight=0.694",
                    "Return: 36.718%<br>Volatility: 0.152<br>Sharpe Ratio: 2.419<br>MSFT_Close: Weight=1.000<br>PM_Close: Weight=0.000<br>T_Close: Weight=0.000",
                    "Return: 13.522%<br>Volatility: 0.126<br>Sharpe Ratio: 1.076<br>DIS_Close: Weight=0.000<br>ORCL_Close: Weight=0.383<br>ETN_Close: Weight=0.617",
                    "Return: 31.552%<br>Volatility: 0.147<br>Sharpe Ratio: 2.147<br>ORCL_Close: Weight=0.121<br>VZ_Close: Weight=0.294<br>ADBE_Close: Weight=0.585",
                    "Return: 15.055%<br>Volatility: 0.165<br>Sharpe Ratio: 0.914<br>MS_Close: Weight=0.747<br>MRK_Close: Weight=0.000<br>BIIB_Close: Weight=0.253",
                    "Return: 25.109%<br>Volatility: 0.138<br>Sharpe Ratio: 1.824<br>GM_Close: Weight=0.235<br>GOOGL_Close: Weight=0.611<br>MDT_Close: Weight=0.000<br>NFLX_Close: Weight=0.155",
                    "Return: 8.587%<br>Volatility: 0.149<br>Sharpe Ratio: 0.578<br>UA_Close: Weight=0.000<br>NKE_Close: Weight=0.500<br>WFC_Close: Weight=0.500",
                    "Return: 22.873%<br>Volatility: 0.113<br>Sharpe Ratio: 2.026<br>INTC_Close: Weight=0.583<br>PFE_Close: Weight=0.417<br>K_Close: Weight=0.000",
                    "Return: 18.880%<br>Volatility: 0.128<br>Sharpe Ratio: 1.479<br>SRE_Close: Weight=0.000<br>LLY_Close: Weight=0.038<br>SYK_Close: Weight=0.753<br>COST_Close: Weight=0.209",
                    "Return: 31.749%<br>Volatility: 0.126<br>Sharpe Ratio: 2.527<br>UNH_Close: Weight=0.867<br>BTI_Close: Weight=0.133<br>AMD_Close: Weight=0.000",
                    "Return: 32.205%<br>Volatility: 0.170<br>Sharpe Ratio: 1.899<br>KR_Close: Weight=0.000<br>SYK_Close: Weight=0.373<br>AMZN_Close: Weight=0.627",
                    "Return: 23.314%<br>Volatility: 0.128<br>Sharpe Ratio: 1.825<br>AMGN_Close: Weight=0.000<br>TMO_Close: Weight=0.495<br>AAPL_Close: Weight=0.505<br>BSX_Close: Weight=0.000",
                    "Return: 19.563%<br>Volatility: 0.087<br>Sharpe Ratio: 2.246<br>NEE_Close: Weight=0.778<br>CPB_Close: Weight=0.000<br>F_Close: Weight=0.147<br>NKE_Close: Weight=0.075",
                    "Return: 27.487%<br>Volatility: 0.092<br>Sharpe Ratio: 2.975<br>HON_Close: Weight=0.531<br>JPM_Close: Weight=0.083<br>HD_Close: Weight=0.386",
                    "Return: 30.058%<br>Volatility: 0.105<br>Sharpe Ratio: 2.871<br>BMY_Close: Weight=0.000<br>UNH_Close: Weight=0.613<br>SAP_Close: Weight=0.387<br>F_Close: Weight=0.000",
                    "Return: 33.679%<br>Volatility: 0.135<br>Sharpe Ratio: 2.487<br>UNH_Close: Weight=0.932<br>BIIB_Close: Weight=0.000<br>MS_Close: Weight=0.068",
                    "Return: 38.773%<br>Volatility: 0.229<br>Sharpe Ratio: 1.697<br>GS_Close: Weight=0.047<br>ORCL_Close: Weight=0.411<br>VRTX_Close: Weight=0.542",
                    "Return: 28.721%<br>Volatility: 0.137<br>Sharpe Ratio: 2.100<br>EW_Close: Weight=0.185<br>AAPL_Close: Weight=0.270<br>INTC_Close: Weight=0.545",
                    "Return: 19.428%<br>Volatility: 0.262<br>Sharpe Ratio: 0.740<br>AMD_Close: Weight=0.000<br>F_Close: Weight=0.289<br>TSLA_Close: Weight=0.711",
                    "Return: 18.565%<br>Volatility: 0.094<br>Sharpe Ratio: 1.982<br>ORCL_Close: Weight=0.087<br>SAP_Close: Weight=0.496<br>ETN_Close: Weight=0.070<br>CVX_Close: Weight=0.346",
                    "Return: 20.094%<br>Volatility: 0.095<br>Sharpe Ratio: 2.123<br>EXC_Close: Weight=0.324<br>RTX_Close: Weight=0.255<br>BIIB_Close: Weight=0.000<br>GOOG_Close: Weight=0.422",
                    "Return: 31.882%<br>Volatility: 0.106<br>Sharpe Ratio: 3.012<br>GS_Close: Weight=0.000<br>LMT_Close: Weight=0.598<br>WMT_Close: Weight=0.402",
                    "Return: 35.606%<br>Volatility: 0.108<br>Sharpe Ratio: 3.295<br>WMT_Close: Weight=0.393<br>V_Close: Weight=0.583<br>TSLA_Close: Weight=0.024",
                    "Return: 45.966%<br>Volatility: 0.114<br>Sharpe Ratio: 4.040<br>UNH_Close: Weight=0.406<br>RTX_Close: Weight=0.018<br>TXN_Close: Weight=0.202<br>CAT_Close: Weight=0.374",
                    "Return: 28.814%<br>Volatility: 0.111<br>Sharpe Ratio: 2.591<br>WFC_Close: Weight=0.000<br>UNH_Close: Weight=0.661<br>MS_Close: Weight=0.050<br>JNJ_Close: Weight=0.289",
                    "Return: 60.244%<br>Volatility: 0.208<br>Sharpe Ratio: 2.901<br>ADBE_Close: Weight=0.251<br>PYPL_Close: Weight=0.749<br>BTI_Close: Weight=0.000",
                    "Return: 25.757%<br>Volatility: 0.120<br>Sharpe Ratio: 2.150<br>MMM_Close: Weight=0.883<br>COST_Close: Weight=0.104<br>MDT_Close: Weight=0.000<br>DUK_Close: Weight=0.014",
                    "Return: 21.945%<br>Volatility: 0.092<br>Sharpe Ratio: 2.395<br>MDT_Close: Weight=0.000<br>AEP_Close: Weight=0.443<br>ACN_Close: Weight=0.557",
                    "Return: 29.678%<br>Volatility: 0.105<br>Sharpe Ratio: 2.833<br>EMR_Close: Weight=0.159<br>ETN_Close: Weight=0.000<br>INTC_Close: Weight=0.246<br>V_Close: Weight=0.595",
                    "Return: 48.097%<br>Volatility: 0.136<br>Sharpe Ratio: 3.525<br>BA_Close: Weight=0.701<br>SAP_Close: Weight=0.235<br>RTX_Close: Weight=0.063",
                    "Return: 25.197%<br>Volatility: 0.090<br>Sharpe Ratio: 2.795<br>RTX_Close: Weight=0.126<br>CVX_Close: Weight=0.272<br>V_Close: Weight=0.573<br>NFLX_Close: Weight=0.028",
                    "Return: 15.988%<br>Volatility: 0.090<br>Sharpe Ratio: 1.780<br>SYY_Close: Weight=0.313<br>AEP_Close: Weight=0.611<br>BIIB_Close: Weight=0.076",
                    "Return: 51.318%<br>Volatility: 0.139<br>Sharpe Ratio: 3.698<br>INTC_Close: Weight=0.306<br>BA_Close: Weight=0.694<br>REGN_Close: Weight=0.000",
                    "Return: 37.497%<br>Volatility: 0.136<br>Sharpe Ratio: 2.748<br>CPB_Close: Weight=0.000<br>MCD_Close: Weight=1.000<br>MDT_Close: Weight=0.000",
                    "Return: 25.513%<br>Volatility: 0.089<br>Sharpe Ratio: 2.865<br>HD_Close: Weight=0.552<br>JNJ_Close: Weight=0.415<br>MS_Close: Weight=0.033",
                    "Return: 35.082%<br>Volatility: 0.164<br>Sharpe Ratio: 2.137<br>QCOM_Close: Weight=0.063<br>GM_Close: Weight=0.285<br>ADBE_Close: Weight=0.653",
                    "Return: 24.190%<br>Volatility: 0.099<br>Sharpe Ratio: 2.451<br>NEE_Close: Weight=0.668<br>GIS_Close: Weight=0.000<br>CRM_Close: Weight=0.332",
                    "Return: 15.193%<br>Volatility: 0.072<br>Sharpe Ratio: 2.097<br>EMR_Close: Weight=0.261<br>KO_Close: Weight=0.653<br>ETN_Close: Weight=0.008<br>GM_Close: Weight=0.078",
                    "Return: 12.906%<br>Volatility: 0.084<br>Sharpe Ratio: 1.542<br>ORCL_Close: Weight=0.206<br>CVX_Close: Weight=0.471<br>DHR_Close: Weight=0.323",
                    "Return: 16.327%<br>Volatility: 0.109<br>Sharpe Ratio: 1.495<br>CPB_Close: Weight=0.000<br>DHR_Close: Weight=0.252<br>EMR_Close: Weight=0.479<br>CSCO_Close: Weight=0.270",
                    "Return: 35.102%<br>Volatility: 0.094<br>Sharpe Ratio: 3.751<br>ORCL_Close: Weight=0.000<br>ABBV_Close: Weight=0.379<br>PEP_Close: Weight=0.281<br>HD_Close: Weight=0.341",
                    "Return: 23.946%<br>Volatility: 0.100<br>Sharpe Ratio: 2.393<br>ETN_Close: Weight=0.053<br>MO_Close: Weight=0.000<br>AAPL_Close: Weight=0.215<br>LMT_Close: Weight=0.732",
                    "Return: 45.426%<br>Volatility: 0.125<br>Sharpe Ratio: 3.629<br>RDY_Close: Weight=0.000<br>LMT_Close: Weight=0.401<br>BA_Close: Weight=0.599",
                    "Return: 31.536%<br>Volatility: 0.171<br>Sharpe Ratio: 1.847<br>F_Close: Weight=0.195<br>DIS_Close: Weight=0.000<br>AMZN_Close: Weight=0.805",
                    "Return: 44.446%<br>Volatility: 0.146<br>Sharpe Ratio: 3.037<br>CVX_Close: Weight=0.383<br>MDT_Close: Weight=0.000<br>DIS_Close: Weight=0.025<br>PYPL_Close: Weight=0.592",
                    "Return: 37.774%<br>Volatility: 0.113<br>Sharpe Ratio: 3.332<br>NEE_Close: Weight=0.556<br>SNAP_Close: Weight=0.000<br>NVDA_Close: Weight=0.117<br>ISRG_Close: Weight=0.327",
                    "Return: 44.097%<br>Volatility: 0.127<br>Sharpe Ratio: 3.459<br>QCOM_Close: Weight=0.018<br>MCD_Close: Weight=0.695<br>SNAP_Close: Weight=0.000<br>BABA_Close: Weight=0.288",
                    "Return: 28.124%<br>Volatility: 0.147<br>Sharpe Ratio: 1.917<br>INTC_Close: Weight=0.761<br>K_Close: Weight=0.000<br>ETN_Close: Weight=0.239",
                    "Return: 11.300%<br>Volatility: 0.169<br>Sharpe Ratio: 0.668<br>VZ_Close: Weight=1.000<br>T_Close: Weight=0.000<br>CPB_Close: Weight=0.000<br>AMD_Close: Weight=0.000",
                    "Return: 35.464%<br>Volatility: 0.135<br>Sharpe Ratio: 2.625<br>BMY_Close: Weight=0.047<br>MA_Close: Weight=0.836<br>META_Close: Weight=0.117",
                    "Return: 16.413%<br>Volatility: 0.091<br>Sharpe Ratio: 1.796<br>KR_Close: Weight=0.000<br>JNJ_Close: Weight=0.636<br>BSX_Close: Weight=0.000<br>CVX_Close: Weight=0.364",
                    "Return: 28.580%<br>Volatility: 0.113<br>Sharpe Ratio: 2.521<br>ZBH_Close: Weight=0.000<br>PFE_Close: Weight=0.296<br>MSFT_Close: Weight=0.704<br>RDY_Close: Weight=0.000",
                    "Return: 52.646%<br>Volatility: 0.131<br>Sharpe Ratio: 4.029<br>MCD_Close: Weight=0.410<br>IBM_Close: Weight=0.000<br>BABA_Close: Weight=0.216<br>CAT_Close: Weight=0.374",
                    "Return: 29.021%<br>Volatility: 0.116<br>Sharpe Ratio: 2.505<br>MO_Close: Weight=0.000<br>T_Close: Weight=0.022<br>TMO_Close: Weight=0.127<br>V_Close: Weight=0.851",
                    "Return: 24.753%<br>Volatility: 0.091<br>Sharpe Ratio: 2.729<br>V_Close: Weight=0.565<br>EXC_Close: Weight=0.243<br>BAC_Close: Weight=0.134<br>AAPL_Close: Weight=0.059",
                    "Return: 39.514%<br>Volatility: 0.137<br>Sharpe Ratio: 2.877<br>XOM_Close: Weight=0.000<br>DE_Close: Weight=0.614<br>LLY_Close: Weight=0.000<br>META_Close: Weight=0.386",
                    "Return: 36.233%<br>Volatility: 0.150<br>Sharpe Ratio: 2.422<br>ZBH_Close: Weight=0.000<br>QCOM_Close: Weight=0.027<br>UA_Close: Weight=0.000<br>MSFT_Close: Weight=0.973",
                    "Return: 30.784%<br>Volatility: 0.104<br>Sharpe Ratio: 2.951<br>ETN_Close: Weight=0.050<br>UNH_Close: Weight=0.521<br>MMM_Close: Weight=0.428",
                    "Return: 16.540%<br>Volatility: 0.133<br>Sharpe Ratio: 1.246<br>RTX_Close: Weight=0.967<br>SNAP_Close: Weight=0.000<br>ZBH_Close: Weight=0.033",
                    "Return: 44.243%<br>Volatility: 0.118<br>Sharpe Ratio: 3.762<br>PEP_Close: Weight=0.330<br>VRTX_Close: Weight=0.096<br>PM_Close: Weight=0.000<br>BA_Close: Weight=0.573",
                    "Return: 32.349%<br>Volatility: 0.120<br>Sharpe Ratio: 2.689<br>COST_Close: Weight=0.080<br>MA_Close: Weight=0.811<br>MRK_Close: Weight=0.000<br>CMCSA_Close: Weight=0.109",
                    "Return: 16.988%<br>Volatility: 0.132<br>Sharpe Ratio: 1.285<br>SNAP_Close: Weight=0.000<br>T_Close: Weight=0.000<br>SYY_Close: Weight=0.732<br>BTI_Close: Weight=0.268",
                    "Return: 16.818%<br>Volatility: 0.113<br>Sharpe Ratio: 1.485<br>GILD_Close: Weight=0.000<br>JNJ_Close: Weight=0.989<br>GS_Close: Weight=0.011<br>SNAP_Close: Weight=0.000",
                    "Return: 21.988%<br>Volatility: 0.100<br>Sharpe Ratio: 2.191<br>ACN_Close: Weight=0.633<br>IBM_Close: Weight=0.000<br>PEP_Close: Weight=0.367",
                    "Return: 58.366%<br>Volatility: 0.206<br>Sharpe Ratio: 2.836<br>PYPL_Close: Weight=0.827<br>AMD_Close: Weight=0.000<br>GOOGL_Close: Weight=0.173",
                    "Return: 33.568%<br>Volatility: 0.135<br>Sharpe Ratio: 2.484<br>UNH_Close: Weight=0.939<br>WFC_Close: Weight=0.000<br>ORCL_Close: Weight=0.061",
                    "Return: 36.022%<br>Volatility: 0.115<br>Sharpe Ratio: 3.120<br>UNH_Close: Weight=0.479<br>VZ_Close: Weight=0.141<br>AMGN_Close: Weight=0.000<br>ISRG_Close: Weight=0.381",
                    "Return: 50.514%<br>Volatility: 0.161<br>Sharpe Ratio: 3.137<br>INTC_Close: Weight=0.263<br>XOM_Close: Weight=0.130<br>PYPL_Close: Weight=0.488<br>NVDA_Close: Weight=0.119",
                    "Return: 42.836%<br>Volatility: 0.189<br>Sharpe Ratio: 2.265<br>RTX_Close: Weight=0.594<br>IBM_Close: Weight=0.000<br>NVDA_Close: Weight=0.406",
                    "Return: 50.014%<br>Volatility: 0.210<br>Sharpe Ratio: 2.376<br>PM_Close: Weight=0.000<br>NKE_Close: Weight=0.228<br>DIS_Close: Weight=0.000<br>BABA_Close: Weight=0.772",
                    "Return: 17.243%<br>Volatility: 0.143<br>Sharpe Ratio: 1.205<br>KR_Close: Weight=0.000<br>SYY_Close: Weight=0.864<br>GILD_Close: Weight=0.136",
                    "Return: 49.092%<br>Volatility: 0.143<br>Sharpe Ratio: 3.421<br>CAT_Close: Weight=0.650<br>SAP_Close: Weight=0.312<br>BTI_Close: Weight=0.038",
                    "Return: 43.102%<br>Volatility: 0.159<br>Sharpe Ratio: 2.704<br>UA_Close: Weight=0.000<br>AMZN_Close: Weight=0.307<br>META_Close: Weight=0.061<br>ISRG_Close: Weight=0.631",
                    "Return: 29.151%<br>Volatility: 0.094<br>Sharpe Ratio: 3.102<br>NKE_Close: Weight=0.066<br>NVDA_Close: Weight=0.148<br>NEE_Close: Weight=0.540<br>CVX_Close: Weight=0.246",
                    "Return: 12.180%<br>Volatility: 0.108<br>Sharpe Ratio: 1.129<br>VZ_Close: Weight=0.336<br>SO_Close: Weight=0.000<br>EXC_Close: Weight=0.664",
                    "Return: 14.277%<br>Volatility: 0.120<br>Sharpe Ratio: 1.186<br>VZ_Close: Weight=0.282<br>CVX_Close: Weight=0.718<br>RDY_Close: Weight=0.000",
                    "Return: 20.267%<br>Volatility: 0.163<br>Sharpe Ratio: 1.246<br>WFC_Close: Weight=0.000<br>EMR_Close: Weight=1.000<br>SO_Close: Weight=0.000",
                    "Return: 32.580%<br>Volatility: 0.164<br>Sharpe Ratio: 1.985<br>GOOG_Close: Weight=0.296<br>META_Close: Weight=0.342<br>AMZN_Close: Weight=0.362",
                    "Return: 59.385%<br>Volatility: 0.149<br>Sharpe Ratio: 3.987<br>DHR_Close: Weight=0.000<br>PYPL_Close: Weight=0.371<br>CAT_Close: Weight=0.535<br>PFE_Close: Weight=0.093",
                    "Return: 23.115%<br>Volatility: 0.092<br>Sharpe Ratio: 2.510<br>NEE_Close: Weight=0.630<br>UA_Close: Weight=0.000<br>SAP_Close: Weight=0.370",
                    "Return: 33.998%<br>Volatility: 0.114<br>Sharpe Ratio: 2.986<br>ISRG_Close: Weight=0.436<br>CMCSA_Close: Weight=0.098<br>ACN_Close: Weight=0.466",
                    "Return: 34.331%<br>Volatility: 0.100<br>Sharpe Ratio: 3.442<br>HON_Close: Weight=0.352<br>UNH_Close: Weight=0.364<br>DE_Close: Weight=0.283<br>MS_Close: Weight=0.000",
                    "Return: 15.970%<br>Volatility: 0.082<br>Sharpe Ratio: 1.938<br>AEP_Close: Weight=0.502<br>JNJ_Close: Weight=0.494<br>DIS_Close: Weight=0.005",
                    "Return: 53.949%<br>Volatility: 0.155<br>Sharpe Ratio: 3.482<br>CAT_Close: Weight=0.677<br>GM_Close: Weight=0.000<br>PM_Close: Weight=0.000<br>INTC_Close: Weight=0.323",
                    "Return: 25.501%<br>Volatility: 0.117<br>Sharpe Ratio: 2.187<br>ORCL_Close: Weight=0.155<br>F_Close: Weight=0.000<br>MMM_Close: Weight=0.845",
                    "Return: 28.825%<br>Volatility: 0.083<br>Sharpe Ratio: 3.466<br>V_Close: Weight=0.374<br>KO_Close: Weight=0.345<br>DE_Close: Weight=0.281",
                    "Return: 44.318%<br>Volatility: 0.124<br>Sharpe Ratio: 3.567<br>AEP_Close: Weight=0.321<br>TSLA_Close: Weight=0.029<br>BA_Close: Weight=0.650",
                    "Return: 24.891%<br>Volatility: 0.101<br>Sharpe Ratio: 2.469<br>MS_Close: Weight=0.021<br>HON_Close: Weight=0.979<br>BSX_Close: Weight=0.000",
                    "Return: 37.238%<br>Volatility: 0.133<br>Sharpe Ratio: 2.791<br>NVDA_Close: Weight=0.211<br>MMM_Close: Weight=0.630<br>SNAP_Close: Weight=0.000<br>RTX_Close: Weight=0.159",
                    "Return: 30.452%<br>Volatility: 0.115<br>Sharpe Ratio: 2.656<br>NEE_Close: Weight=0.686<br>SO_Close: Weight=0.000<br>ADBE_Close: Weight=0.314",
                    "Return: 72.361%<br>Volatility: 0.352<br>Sharpe Ratio: 2.054<br>MO_Close: Weight=0.000<br>GILD_Close: Weight=0.111<br>NVDA_Close: Weight=0.889<br>REGN_Close: Weight=0.000",
                    "Return: 14.841%<br>Volatility: 0.111<br>Sharpe Ratio: 1.342<br>SRE_Close: Weight=0.162<br>GILD_Close: Weight=0.062<br>NKE_Close: Weight=0.111<br>JPM_Close: Weight=0.666",
                    "Return: 34.938%<br>Volatility: 0.144<br>Sharpe Ratio: 2.430<br>SNAP_Close: Weight=0.000<br>MSFT_Close: Weight=0.914<br>CSCO_Close: Weight=0.086",
                    "Return: 35.875%<br>Volatility: 0.155<br>Sharpe Ratio: 2.310<br>CMCSA_Close: Weight=0.031<br>TXN_Close: Weight=0.932<br>TSLA_Close: Weight=0.037",
                    "Return: 19.503%<br>Volatility: 0.142<br>Sharpe Ratio: 1.370<br>GIS_Close: Weight=0.000<br>BTI_Close: Weight=0.197<br>SRE_Close: Weight=0.000<br>TMO_Close: Weight=0.803",
                    "Return: 15.436%<br>Volatility: 0.087<br>Sharpe Ratio: 1.765<br>RTX_Close: Weight=0.384<br>CMCSA_Close: Weight=0.108<br>EXC_Close: Weight=0.360<br>EW_Close: Weight=0.147",
                    "Return: 20.671%<br>Volatility: 0.098<br>Sharpe Ratio: 2.108<br>VRTX_Close: Weight=0.192<br>DUK_Close: Weight=0.532<br>BAC_Close: Weight=0.277",
                    "Return: 33.363%<br>Volatility: 0.125<br>Sharpe Ratio: 2.659<br>RTX_Close: Weight=0.198<br>MA_Close: Weight=0.796<br>CRM_Close: Weight=0.006",
                    "Return: 32.905%<br>Volatility: 0.174<br>Sharpe Ratio: 1.894<br>GOOGL_Close: Weight=0.437<br>SO_Close: Weight=0.000<br>AMZN_Close: Weight=0.563",
                    "Return: 23.159%<br>Volatility: 0.104<br>Sharpe Ratio: 2.235<br>RTX_Close: Weight=0.129<br>IBM_Close: Weight=0.000<br>LMT_Close: Weight=0.854<br>BIIB_Close: Weight=0.017",
                    "Return: 37.142%<br>Volatility: 0.161<br>Sharpe Ratio: 2.300<br>CPB_Close: Weight=0.000<br>TXN_Close: Weight=1.000<br>AMD_Close: Weight=0.000",
                    "Return: 17.730%<br>Volatility: 0.098<br>Sharpe Ratio: 1.802<br>QCOM_Close: Weight=0.088<br>SAP_Close: Weight=0.583<br>PFE_Close: Weight=0.329",
                    "Return: 22.694%<br>Volatility: 0.099<br>Sharpe Ratio: 2.294<br>EW_Close: Weight=0.073<br>VZ_Close: Weight=0.118<br>LMT_Close: Weight=0.809<br>GE_Close: Weight=0.000",
                    "Return: 34.673%<br>Volatility: 0.113<br>Sharpe Ratio: 3.067<br>MA_Close: Weight=0.521<br>CMCSA_Close: Weight=0.083<br>VRTX_Close: Weight=0.092<br>ABT_Close: Weight=0.305",
                    "Return: 16.980%<br>Volatility: 0.136<br>Sharpe Ratio: 1.244<br>RTX_Close: Weight=1.000<br>T_Close: Weight=0.000<br>PM_Close: Weight=0.000",
                    "Return: 57.734%<br>Volatility: 0.175<br>Sharpe Ratio: 3.296<br>CAT_Close: Weight=0.854<br>ETN_Close: Weight=0.000<br>RMD_Close: Weight=0.146",
                    "Return: 34.079%<br>Volatility: 0.166<br>Sharpe Ratio: 2.058<br>ZBH_Close: Weight=0.000<br>GS_Close: Weight=0.000<br>NFLX_Close: Weight=0.257<br>INTC_Close: Weight=0.743",
                    "Return: 46.587%<br>Volatility: 0.191<br>Sharpe Ratio: 2.436<br>ISRG_Close: Weight=1.000<br>MRK_Close: Weight=0.000<br>BIIB_Close: Weight=0.000",
                    "Return: 29.674%<br>Volatility: 0.087<br>Sharpe Ratio: 3.399<br>HD_Close: Weight=0.477<br>JNJ_Close: Weight=0.219<br>ADBE_Close: Weight=0.202<br>EXC_Close: Weight=0.102",
                    "Return: 30.452%<br>Volatility: 0.123<br>Sharpe Ratio: 2.483<br>CRM_Close: Weight=0.096<br>RDY_Close: Weight=0.000<br>V_Close: Weight=0.904",
                    "Return: 16.207%<br>Volatility: 0.096<br>Sharpe Ratio: 1.682<br>JNJ_Close: Weight=0.688<br>MS_Close: Weight=0.185<br>BIIB_Close: Weight=0.009<br>VZ_Close: Weight=0.118",
                    "Return: 19.639%<br>Volatility: 0.116<br>Sharpe Ratio: 1.686<br>TMO_Close: Weight=0.450<br>EMR_Close: Weight=0.443<br>DHR_Close: Weight=0.108<br>K_Close: Weight=0.000",
                    "Return: 32.099%<br>Volatility: 0.111<br>Sharpe Ratio: 2.896<br>GM_Close: Weight=0.105<br>INTC_Close: Weight=0.301<br>UNH_Close: Weight=0.594",
                    "Return: 29.341%<br>Volatility: 0.109<br>Sharpe Ratio: 2.703<br>HON_Close: Weight=0.882<br>KR_Close: Weight=0.000<br>VRTX_Close: Weight=0.118",
                    "Return: 21.649%<br>Volatility: 0.125<br>Sharpe Ratio: 1.728<br>TMO_Close: Weight=0.466<br>CPB_Close: Weight=0.000<br>SYK_Close: Weight=0.534",
                    "Return: 32.108%<br>Volatility: 0.112<br>Sharpe Ratio: 2.873<br>MCD_Close: Weight=0.769<br>XOM_Close: Weight=0.040<br>BAC_Close: Weight=0.111<br>NKE_Close: Weight=0.080",
                    "Return: 18.293%<br>Volatility: 0.119<br>Sharpe Ratio: 1.541<br>KR_Close: Weight=0.000<br>BTI_Close: Weight=0.155<br>SYY_Close: Weight=0.514<br>RMD_Close: Weight=0.331",
                    "Return: 19.648%<br>Volatility: 0.105<br>Sharpe Ratio: 1.867<br>EW_Close: Weight=0.185<br>AAPL_Close: Weight=0.417<br>EXC_Close: Weight=0.398",
                    "Return: 20.280%<br>Volatility: 0.091<br>Sharpe Ratio: 2.224<br>GS_Close: Weight=0.159<br>NEE_Close: Weight=0.841<br>MRK_Close: Weight=0.000",
                    "Return: 19.415%<br>Volatility: 0.118<br>Sharpe Ratio: 1.650<br>QCOM_Close: Weight=0.211<br>RMD_Close: Weight=0.298<br>SYY_Close: Weight=0.491<br>KR_Close: Weight=0.000",
                    "Return: 28.968%<br>Volatility: 0.130<br>Sharpe Ratio: 2.221<br>SO_Close: Weight=0.000<br>ACN_Close: Weight=0.811<br>NFLX_Close: Weight=0.175<br>GILD_Close: Weight=0.013",
                    "Return: 17.488%<br>Volatility: 0.124<br>Sharpe Ratio: 1.410<br>SNAP_Close: Weight=0.000<br>BTI_Close: Weight=0.277<br>JPM_Close: Weight=0.723",
                    "Return: 23.509%<br>Volatility: 0.122<br>Sharpe Ratio: 1.922<br>CRM_Close: Weight=0.466<br>DIS_Close: Weight=0.013<br>SAP_Close: Weight=0.521",
                    "Return: 34.097%<br>Volatility: 0.109<br>Sharpe Ratio: 3.143<br>DHR_Close: Weight=0.000<br>ABT_Close: Weight=0.385<br>MDT_Close: Weight=0.000<br>MCD_Close: Weight=0.615",
                    "Return: 27.346%<br>Volatility: 0.133<br>Sharpe Ratio: 2.059<br>ACN_Close: Weight=1.000<br>GE_Close: Weight=0.000<br>MO_Close: Weight=0.000<br>GIS_Close: Weight=0.000",
                    "Return: 36.717%<br>Volatility: 0.133<br>Sharpe Ratio: 2.770<br>DUK_Close: Weight=0.372<br>ADBE_Close: Weight=0.266<br>BABA_Close: Weight=0.362",
                    "Return: 37.500%<br>Volatility: 0.144<br>Sharpe Ratio: 2.602<br>KR_Close: Weight=0.000<br>MA_Close: Weight=1.000<br>MDT_Close: Weight=0.000<br>IBM_Close: Weight=0.000",
                    "Return: 13.237%<br>Volatility: 0.086<br>Sharpe Ratio: 1.533<br>KO_Close: Weight=1.000<br>PG_Close: Weight=0.000<br>IBM_Close: Weight=0.000",
                    "Return: 19.152%<br>Volatility: 0.096<br>Sharpe Ratio: 2.005<br>PFE_Close: Weight=0.189<br>SAP_Close: Weight=0.508<br>LLY_Close: Weight=0.000<br>JPM_Close: Weight=0.303",
                    "Return: 34.670%<br>Volatility: 0.132<br>Sharpe Ratio: 2.624<br>GILD_Close: Weight=0.000<br>RDY_Close: Weight=0.000<br>WMT_Close: Weight=0.637<br>JPM_Close: Weight=0.363",
                    "Return: 61.532%<br>Volatility: 0.155<br>Sharpe Ratio: 3.980<br>MDT_Close: Weight=0.000<br>PYPL_Close: Weight=0.354<br>BA_Close: Weight=0.646<br>BIIB_Close: Weight=0.000",
                    "Return: 16.968%<br>Volatility: 0.114<br>Sharpe Ratio: 1.485<br>JNJ_Close: Weight=1.000<br>K_Close: Weight=0.000<br>CPB_Close: Weight=0.000<br>RDY_Close: Weight=0.000",
                    "Return: 36.001%<br>Volatility: 0.117<br>Sharpe Ratio: 3.066<br>WMT_Close: Weight=0.459<br>GOOG_Close: Weight=0.288<br>SO_Close: Weight=0.000<br>INTC_Close: Weight=0.253",
                    "Return: 32.155%<br>Volatility: 0.126<br>Sharpe Ratio: 2.542<br>ABT_Close: Weight=0.643<br>MO_Close: Weight=0.000<br>AMZN_Close: Weight=0.357",
                    "Return: -0.030%<br>Volatility: 0.174<br>Sharpe Ratio: -0.002<br>GIS_Close: Weight=1.000<br>MRK_Close: Weight=0.000<br>BSX_Close: Weight=0.000",
                    "Return: 14.558%<br>Volatility: 0.083<br>Sharpe Ratio: 1.761<br>GM_Close: Weight=0.173<br>RTX_Close: Weight=0.395<br>BTI_Close: Weight=0.100<br>EXC_Close: Weight=0.332",
                    "Return: 34.855%<br>Volatility: 0.112<br>Sharpe Ratio: 3.126<br>MRK_Close: Weight=0.000<br>UNH_Close: Weight=0.508<br>MSFT_Close: Weight=0.455<br>COST_Close: Weight=0.037",
                    "Return: 26.387%<br>Volatility: 0.144<br>Sharpe Ratio: 1.835<br>META_Close: Weight=0.750<br>ETN_Close: Weight=0.250<br>AMGN_Close: Weight=0.000",
                    "Return: 36.749%<br>Volatility: 0.165<br>Sharpe Ratio: 2.231<br>BAC_Close: Weight=0.349<br>ZBH_Close: Weight=0.000<br>ADBE_Close: Weight=0.651",
                    "Return: 25.293%<br>Volatility: 0.119<br>Sharpe Ratio: 2.120<br>CSCO_Close: Weight=0.149<br>COST_Close: Weight=0.086<br>AMD_Close: Weight=0.000<br>ABT_Close: Weight=0.765",
                    "Return: 17.204%<br>Volatility: 0.131<br>Sharpe Ratio: 1.315<br>CVX_Close: Weight=0.642<br>BAC_Close: Weight=0.358<br>F_Close: Weight=0.000",
                    "Return: 16.035%<br>Volatility: 0.134<br>Sharpe Ratio: 1.200<br>LLY_Close: Weight=0.121<br>EW_Close: Weight=0.383<br>ETN_Close: Weight=0.496",
                    "Return: 16.841%<br>Volatility: 0.112<br>Sharpe Ratio: 1.502<br>ZBH_Close: Weight=0.000<br>SYK_Close: Weight=0.609<br>PFE_Close: Weight=0.391",
                    "Return: 19.920%<br>Volatility: 0.156<br>Sharpe Ratio: 1.276<br>RDY_Close: Weight=0.000<br>JPM_Close: Weight=1.000<br>K_Close: Weight=0.000",
                    "Return: 19.733%<br>Volatility: 0.165<br>Sharpe Ratio: 1.196<br>EW_Close: Weight=0.503<br>MS_Close: Weight=0.497<br>GIS_Close: Weight=0.000<br>MO_Close: Weight=0.000",
                    "Return: 30.525%<br>Volatility: 0.125<br>Sharpe Ratio: 2.441<br>GM_Close: Weight=0.000<br>TXN_Close: Weight=0.652<br>ORCL_Close: Weight=0.092<br>JPM_Close: Weight=0.256",
                    "Return: 32.628%<br>Volatility: 0.176<br>Sharpe Ratio: 1.858<br>INTC_Close: Weight=1.000<br>SRE_Close: Weight=0.000<br>KR_Close: Weight=0.000",
                    "Return: 0.821%<br>Volatility: 0.152<br>Sharpe Ratio: 0.054<br>SNAP_Close: Weight=0.000<br>MDT_Close: Weight=1.000<br>SO_Close: Weight=0.000",
                    "Return: 29.294%<br>Volatility: 0.100<br>Sharpe Ratio: 2.943<br>HON_Close: Weight=0.575<br>BAC_Close: Weight=0.044<br>MSFT_Close: Weight=0.381",
                    "Return: 42.462%<br>Volatility: 0.123<br>Sharpe Ratio: 3.449<br>PEP_Close: Weight=0.421<br>CSCO_Close: Weight=0.000<br>CAT_Close: Weight=0.579",
                    "Return: 32.157%<br>Volatility: 0.113<br>Sharpe Ratio: 2.842<br>AEP_Close: Weight=0.455<br>BIIB_Close: Weight=0.000<br>ADBE_Close: Weight=0.134<br>ISRG_Close: Weight=0.412",
                    "Return: 22.643%<br>Volatility: 0.136<br>Sharpe Ratio: 1.663<br>DHR_Close: Weight=0.187<br>GOOGL_Close: Weight=0.813<br>AMGN_Close: Weight=0.000",
                    "Return: 12.955%<br>Volatility: 0.106<br>Sharpe Ratio: 1.219<br>MS_Close: Weight=0.278<br>DHR_Close: Weight=0.261<br>ETN_Close: Weight=0.275<br>BMY_Close: Weight=0.186",
                    "Return: 46.893%<br>Volatility: 0.159<br>Sharpe Ratio: 2.950<br>NFLX_Close: Weight=0.137<br>VRTX_Close: Weight=0.167<br>SNAP_Close: Weight=0.000<br>DE_Close: Weight=0.696",
                    "Return: 32.561%<br>Volatility: 0.136<br>Sharpe Ratio: 2.397<br>SAP_Close: Weight=0.310<br>TXN_Close: Weight=0.690<br>BSX_Close: Weight=0.000",
                    "Return: 27.325%<br>Volatility: 0.101<br>Sharpe Ratio: 2.718<br>ORCL_Close: Weight=0.061<br>LMT_Close: Weight=0.679<br>REGN_Close: Weight=0.000<br>AMZN_Close: Weight=0.260",
                    "Return: 30.456%<br>Volatility: 0.163<br>Sharpe Ratio: 1.870<br>CSCO_Close: Weight=0.422<br>CMCSA_Close: Weight=0.031<br>COST_Close: Weight=0.203<br>VRTX_Close: Weight=0.344",
                    "Return: 17.229%<br>Volatility: 0.141<br>Sharpe Ratio: 1.219<br>TSLA_Close: Weight=0.189<br>ETN_Close: Weight=0.441<br>T_Close: Weight=0.000<br>MS_Close: Weight=0.370",
                    "Return: 43.701%<br>Volatility: 0.161<br>Sharpe Ratio: 2.714<br>MDT_Close: Weight=0.000<br>NFLX_Close: Weight=0.207<br>DE_Close: Weight=0.793<br>GE_Close: Weight=0.000",
                    "Return: 20.535%<br>Volatility: 0.091<br>Sharpe Ratio: 2.250<br>ABT_Close: Weight=0.515<br>CMCSA_Close: Weight=0.096<br>DUK_Close: Weight=0.230<br>TMO_Close: Weight=0.160",
                    "Return: 25.609%<br>Volatility: 0.099<br>Sharpe Ratio: 2.590<br>ACN_Close: Weight=0.418<br>LMT_Close: Weight=0.582<br>IBM_Close: Weight=0.000",
                    "Return: 22.367%<br>Volatility: 0.105<br>Sharpe Ratio: 2.139<br>EW_Close: Weight=0.094<br>SYY_Close: Weight=0.356<br>CRM_Close: Weight=0.463<br>QCOM_Close: Weight=0.087",
                    "Return: 27.023%<br>Volatility: 0.104<br>Sharpe Ratio: 2.598<br>REGN_Close: Weight=0.000<br>INTC_Close: Weight=0.322<br>LMT_Close: Weight=0.678",
                    "Return: 17.939%<br>Volatility: 0.134<br>Sharpe Ratio: 1.336<br>EMR_Close: Weight=0.745<br>ZBH_Close: Weight=0.000<br>BTI_Close: Weight=0.255<br>DIS_Close: Weight=0.000",
                    "Return: 19.656%<br>Volatility: 0.139<br>Sharpe Ratio: 1.417<br>TSLA_Close: Weight=0.205<br>GILD_Close: Weight=0.065<br>GE_Close: Weight=0.000<br>SYY_Close: Weight=0.729",
                    "Return: 15.258%<br>Volatility: 0.083<br>Sharpe Ratio: 1.833<br>AMD_Close: Weight=0.000<br>AEP_Close: Weight=0.629<br>CVX_Close: Weight=0.371",
                    "Return: 32.929%<br>Volatility: 0.110<br>Sharpe Ratio: 2.984<br>MA_Close: Weight=0.539<br>MMM_Close: Weight=0.421<br>GOOGL_Close: Weight=0.041",
                    "Return: 47.243%<br>Volatility: 0.145<br>Sharpe Ratio: 3.265<br>MDT_Close: Weight=0.000<br>WMT_Close: Weight=0.543<br>BABA_Close: Weight=0.340<br>AAPL_Close: Weight=0.117",
                    "Return: 24.790%<br>Volatility: 0.092<br>Sharpe Ratio: 2.694<br>HON_Close: Weight=0.608<br>MRK_Close: Weight=0.000<br>LMT_Close: Weight=0.392",
                    "Return: 47.911%<br>Volatility: 0.158<br>Sharpe Ratio: 3.035<br>DUK_Close: Weight=0.128<br>XOM_Close: Weight=0.000<br>ABBV_Close: Weight=0.872<br>K_Close: Weight=0.000",
                    "Return: 19.268%<br>Volatility: 0.105<br>Sharpe Ratio: 1.836<br>AAPL_Close: Weight=0.468<br>CVX_Close: Weight=0.466<br>GILD_Close: Weight=0.066",
                    "Return: 55.630%<br>Volatility: 0.139<br>Sharpe Ratio: 4.009<br>CAT_Close: Weight=0.523<br>VRTX_Close: Weight=0.092<br>COST_Close: Weight=0.042<br>ISRG_Close: Weight=0.343",
                    "Return: 32.097%<br>Volatility: 0.125<br>Sharpe Ratio: 2.578<br>XOM_Close: Weight=0.197<br>MSFT_Close: Weight=0.593<br>ADBE_Close: Weight=0.210",
                    "Return: 32.904%<br>Volatility: 0.136<br>Sharpe Ratio: 2.420<br>KR_Close: Weight=0.000<br>F_Close: Weight=0.000<br>XOM_Close: Weight=0.259<br>WMT_Close: Weight=0.741",
                    "Return: 56.036%<br>Volatility: 0.171<br>Sharpe Ratio: 3.270<br>DHR_Close: Weight=0.147<br>CAT_Close: Weight=0.853<br>BAC_Close: Weight=0.000<br>CPB_Close: Weight=0.000",
                    "Return: 34.355%<br>Volatility: 0.129<br>Sharpe Ratio: 2.661<br>VZ_Close: Weight=0.223<br>GIS_Close: Weight=0.000<br>RTX_Close: Weight=0.359<br>BABA_Close: Weight=0.418",
                    "Return: 34.097%<br>Volatility: 0.109<br>Sharpe Ratio: 3.143<br>AMD_Close: Weight=0.000<br>ABT_Close: Weight=0.385<br>MCD_Close: Weight=0.615",
                    "Return: 40.675%<br>Volatility: 0.129<br>Sharpe Ratio: 3.143<br>PYPL_Close: Weight=0.368<br>PFE_Close: Weight=0.158<br>GM_Close: Weight=0.098<br>MSFT_Close: Weight=0.376",
                    "Return: 20.177%<br>Volatility: 0.117<br>Sharpe Ratio: 1.729<br>T_Close: Weight=0.000<br>COST_Close: Weight=0.197<br>SAP_Close: Weight=0.803",
                    "Return: 29.338%<br>Volatility: 0.088<br>Sharpe Ratio: 3.346<br>TXN_Close: Weight=0.289<br>DIS_Close: Weight=0.000<br>HD_Close: Weight=0.422<br>JNJ_Close: Weight=0.289",
                    "Return: 12.087%<br>Volatility: 0.131<br>Sharpe Ratio: 0.923<br>ORCL_Close: Weight=0.554<br>MDT_Close: Weight=0.018<br>DIS_Close: Weight=0.000<br>COST_Close: Weight=0.428",
                    "Return: 35.987%<br>Volatility: 0.156<br>Sharpe Ratio: 2.312<br>RTX_Close: Weight=0.462<br>NVDA_Close: Weight=0.314<br>ORCL_Close: Weight=0.141<br>BTI_Close: Weight=0.083",
                    "Return: 30.647%<br>Volatility: 0.193<br>Sharpe Ratio: 1.584<br>EW_Close: Weight=0.404<br>NFLX_Close: Weight=0.489<br>TSLA_Close: Weight=0.107",
                    "Return: 40.642%<br>Volatility: 0.154<br>Sharpe Ratio: 2.640<br>VZ_Close: Weight=0.004<br>DIS_Close: Weight=0.000<br>EW_Close: Weight=0.192<br>DE_Close: Weight=0.803",
                    "Return: 27.736%<br>Volatility: 0.128<br>Sharpe Ratio: 2.164<br>SAP_Close: Weight=0.428<br>TSLA_Close: Weight=0.077<br>INTC_Close: Weight=0.495",
                    "Return: 27.405%<br>Volatility: 0.142<br>Sharpe Ratio: 1.930<br>EW_Close: Weight=0.192<br>GOOGL_Close: Weight=0.342<br>META_Close: Weight=0.466",
                    "Return: 29.801%<br>Volatility: 0.118<br>Sharpe Ratio: 2.530<br>LLY_Close: Weight=0.110<br>GS_Close: Weight=0.017<br>NVDA_Close: Weight=0.244<br>AEP_Close: Weight=0.628",
                    "Return: 2.996%<br>Volatility: 0.166<br>Sharpe Ratio: 0.180<br>F_Close: Weight=1.000<br>AMD_Close: Weight=0.000<br>RDY_Close: Weight=0.000",
                    "Return: 57.952%<br>Volatility: 0.204<br>Sharpe Ratio: 2.847<br>AAPL_Close: Weight=0.180<br>MRK_Close: Weight=0.000<br>ZBH_Close: Weight=0.000<br>PYPL_Close: Weight=0.820",
                    "Return: 15.188%<br>Volatility: 0.072<br>Sharpe Ratio: 2.120<br>AAPL_Close: Weight=0.260<br>WFC_Close: Weight=0.075<br>KO_Close: Weight=0.595<br>LLY_Close: Weight=0.070",
                    "Return: 36.679%<br>Volatility: 0.166<br>Sharpe Ratio: 2.213<br>GS_Close: Weight=0.000<br>ADBE_Close: Weight=0.503<br>GOOG_Close: Weight=0.497<br>MO_Close: Weight=0.000",
                    "Return: 18.560%<br>Volatility: 0.087<br>Sharpe Ratio: 2.125<br>SAP_Close: Weight=0.472<br>DHR_Close: Weight=0.000<br>AEP_Close: Weight=0.528<br>IBM_Close: Weight=0.000",
                    "Return: 4.617%<br>Volatility: 0.152<br>Sharpe Ratio: 0.303<br>GS_Close: Weight=0.296<br>K_Close: Weight=0.000<br>T_Close: Weight=0.000<br>GILD_Close: Weight=0.704",
                    "Return: 30.033%<br>Volatility: 0.110<br>Sharpe Ratio: 2.732<br>EXC_Close: Weight=0.275<br>EMR_Close: Weight=0.002<br>PFE_Close: Weight=0.169<br>DE_Close: Weight=0.553",
                    "Return: 20.543%<br>Volatility: 0.095<br>Sharpe Ratio: 2.171<br>T_Close: Weight=0.000<br>DUK_Close: Weight=0.427<br>AMZN_Close: Weight=0.345<br>BAC_Close: Weight=0.228",
                    "Return: 29.902%<br>Volatility: 0.122<br>Sharpe Ratio: 2.454<br>MSFT_Close: Weight=0.759<br>AAPL_Close: Weight=0.050<br>PG_Close: Weight=0.190<br>RMD_Close: Weight=0.000",
                    "Return: 15.059%<br>Volatility: 0.103<br>Sharpe Ratio: 1.467<br>PG_Close: Weight=0.077<br>EXC_Close: Weight=0.447<br>BSX_Close: Weight=0.000<br>SYY_Close: Weight=0.476",
                    "Return: 12.335%<br>Volatility: 0.102<br>Sharpe Ratio: 1.207<br>CSCO_Close: Weight=0.385<br>VZ_Close: Weight=0.234<br>DHR_Close: Weight=0.305<br>CMCSA_Close: Weight=0.077",
                    "Return: 33.370%<br>Volatility: 0.133<br>Sharpe Ratio: 2.503<br>MSFT_Close: Weight=0.816<br>LLY_Close: Weight=0.021<br>BAC_Close: Weight=0.164<br>F_Close: Weight=0.000",
                    "Return: 25.872%<br>Volatility: 0.095<br>Sharpe Ratio: 2.726<br>UNH_Close: Weight=0.593<br>PEP_Close: Weight=0.407<br>IBM_Close: Weight=0.000",
                    "Return: 45.118%<br>Volatility: 0.179<br>Sharpe Ratio: 2.527<br>MS_Close: Weight=0.000<br>DE_Close: Weight=1.000<br>K_Close: Weight=0.000",
                    "Return: 12.161%<br>Volatility: 0.091<br>Sharpe Ratio: 1.335<br>WFC_Close: Weight=0.138<br>EXC_Close: Weight=0.526<br>ETN_Close: Weight=0.336",
                    "Return: 9.947%<br>Volatility: 0.153<br>Sharpe Ratio: 0.651<br>ZBH_Close: Weight=0.188<br>BMY_Close: Weight=0.812<br>CPB_Close: Weight=0.000<br>REGN_Close: Weight=0.000",
                    "Return: 2.996%<br>Volatility: 0.166<br>Sharpe Ratio: 0.180<br>F_Close: Weight=1.000<br>SNAP_Close: Weight=0.000<br>PM_Close: Weight=0.000",
                    "Return: 19.174%<br>Volatility: 0.135<br>Sharpe Ratio: 1.421<br>SYK_Close: Weight=0.798<br>DHR_Close: Weight=0.202<br>SNAP_Close: Weight=0.000",
                    "Return: 22.820%<br>Volatility: 0.103<br>Sharpe Ratio: 2.223<br>BSX_Close: Weight=0.000<br>DHR_Close: Weight=0.101<br>LMT_Close: Weight=0.899",
                    "Return: 20.335%<br>Volatility: 0.120<br>Sharpe Ratio: 1.692<br>SAP_Close: Weight=0.841<br>CMCSA_Close: Weight=0.159<br>MO_Close: Weight=0.000",
                    "Return: 31.958%<br>Volatility: 0.117<br>Sharpe Ratio: 2.734<br>UNH_Close: Weight=0.678<br>MO_Close: Weight=0.000<br>GOOGL_Close: Weight=0.322<br>KR_Close: Weight=0.000",
                    "Return: 37.631%<br>Volatility: 0.181<br>Sharpe Ratio: 2.079<br>ADBE_Close: Weight=0.606<br>CRM_Close: Weight=0.394<br>AMD_Close: Weight=0.000",
                    "Return: 28.576%<br>Volatility: 0.133<br>Sharpe Ratio: 2.149<br>ADBE_Close: Weight=0.522<br>IBM_Close: Weight=0.000<br>EXC_Close: Weight=0.351<br>F_Close: Weight=0.127",
                    "Return: 31.997%<br>Volatility: 0.113<br>Sharpe Ratio: 2.844<br>ADBE_Close: Weight=0.228<br>ABT_Close: Weight=0.386<br>ACN_Close: Weight=0.387",
                    "Return: 41.606%<br>Volatility: 0.185<br>Sharpe Ratio: 2.246<br>EXC_Close: Weight=0.575<br>NVDA_Close: Weight=0.425<br>SRE_Close: Weight=0.000",
                    "Return: 33.874%<br>Volatility: 0.104<br>Sharpe Ratio: 3.243<br>NFLX_Close: Weight=0.010<br>NEE_Close: Weight=0.617<br>GOOGL_Close: Weight=0.112<br>BABA_Close: Weight=0.261",
                    "Return: 37.500%<br>Volatility: 0.144<br>Sharpe Ratio: 2.602<br>QCOM_Close: Weight=0.000<br>GE_Close: Weight=0.000<br>MA_Close: Weight=1.000",
                    "Return: 18.706%<br>Volatility: 0.095<br>Sharpe Ratio: 1.961<br>PEP_Close: Weight=0.542<br>BIIB_Close: Weight=0.000<br>GOOGL_Close: Weight=0.458<br>PM_Close: Weight=0.000",
                    "Return: 25.561%<br>Volatility: 0.110<br>Sharpe Ratio: 2.334<br>AMZN_Close: Weight=0.378<br>EXC_Close: Weight=0.265<br>TMO_Close: Weight=0.357",
                    "Return: 28.741%<br>Volatility: 0.130<br>Sharpe Ratio: 2.214<br>REGN_Close: Weight=0.000<br>AMZN_Close: Weight=0.494<br>RMD_Close: Weight=0.056<br>SYY_Close: Weight=0.450",
                    "Return: 24.327%<br>Volatility: 0.136<br>Sharpe Ratio: 1.792<br>GOOGL_Close: Weight=0.734<br>BAC_Close: Weight=0.266<br>RDY_Close: Weight=0.000",
                    "Return: 42.253%<br>Volatility: 0.107<br>Sharpe Ratio: 3.954<br>NEE_Close: Weight=0.480<br>BA_Close: Weight=0.520<br>AEP_Close: Weight=0.000",
                    "Return: 23.162%<br>Volatility: 0.083<br>Sharpe Ratio: 2.807<br>V_Close: Weight=0.459<br>GOOGL_Close: Weight=0.114<br>AEP_Close: Weight=0.373<br>WFC_Close: Weight=0.054",
                    "Return: 9.217%<br>Volatility: 0.108<br>Sharpe Ratio: 0.854<br>LLY_Close: Weight=0.000<br>PFE_Close: Weight=1.000<br>AMGN_Close: Weight=0.000<br>MRK_Close: Weight=0.000",
                    "Return: 32.623%<br>Volatility: 0.121<br>Sharpe Ratio: 2.690<br>ACN_Close: Weight=0.437<br>MO_Close: Weight=0.000<br>MSFT_Close: Weight=0.563",
                    "Return: 38.095%<br>Volatility: 0.138<br>Sharpe Ratio: 2.763<br>GOOGL_Close: Weight=0.363<br>DIS_Close: Weight=0.000<br>DE_Close: Weight=0.637",
                    "Return: 32.608%<br>Volatility: 0.170<br>Sharpe Ratio: 1.919<br>ETN_Close: Weight=0.192<br>VRTX_Close: Weight=0.331<br>BIIB_Close: Weight=0.000<br>EMR_Close: Weight=0.477",
                    "Return: 29.082%<br>Volatility: 0.127<br>Sharpe Ratio: 2.296<br>INTC_Close: Weight=0.417<br>GOOG_Close: Weight=0.277<br>CRM_Close: Weight=0.306<br>SNAP_Close: Weight=0.000",
                    "Return: 25.828%<br>Volatility: 0.090<br>Sharpe Ratio: 2.857<br>HD_Close: Weight=0.572<br>K_Close: Weight=0.000<br>JNJ_Close: Weight=0.428<br>XOM_Close: Weight=0.000",
                    "Return: 25.090%<br>Volatility: 0.100<br>Sharpe Ratio: 2.514<br>CRM_Close: Weight=0.326<br>MMM_Close: Weight=0.547<br>F_Close: Weight=0.000<br>EXC_Close: Weight=0.128",
                    "Return: 53.340%<br>Volatility: 0.153<br>Sharpe Ratio: 3.480<br>MDT_Close: Weight=0.000<br>CAT_Close: Weight=0.679<br>META_Close: Weight=0.321",
                    "Return: 61.613%<br>Volatility: 0.137<br>Sharpe Ratio: 4.489<br>BA_Close: Weight=0.462<br>GILD_Close: Weight=0.000<br>CAT_Close: Weight=0.384<br>BABA_Close: Weight=0.153",
                    "Return: 24.330%<br>Volatility: 0.136<br>Sharpe Ratio: 1.792<br>GOOGL_Close: Weight=0.734<br>BAC_Close: Weight=0.266<br>MRK_Close: Weight=0.000",
                    "Return: 37.500%<br>Volatility: 0.144<br>Sharpe Ratio: 2.602<br>ZBH_Close: Weight=0.000<br>BSX_Close: Weight=0.000<br>MA_Close: Weight=1.000",
                    "Return: 32.596%<br>Volatility: 0.108<br>Sharpe Ratio: 3.006<br>MRK_Close: Weight=0.000<br>HON_Close: Weight=0.625<br>DE_Close: Weight=0.375<br>SRE_Close: Weight=0.000",
                    "Return: 16.344%<br>Volatility: 0.167<br>Sharpe Ratio: 0.977<br>SRE_Close: Weight=0.000<br>VZ_Close: Weight=0.659<br>TSLA_Close: Weight=0.341",
                    "Return: 21.415%<br>Volatility: 0.147<br>Sharpe Ratio: 1.453<br>RDY_Close: Weight=0.000<br>REGN_Close: Weight=0.000<br>RMD_Close: Weight=0.228<br>SYK_Close: Weight=0.772",
                    "Return: 27.812%<br>Volatility: 0.092<br>Sharpe Ratio: 3.022<br>TXN_Close: Weight=0.381<br>CRM_Close: Weight=0.034<br>F_Close: Weight=0.047<br>NEE_Close: Weight=0.538",
                    "Return: 67.903%<br>Volatility: 0.266<br>Sharpe Ratio: 2.553<br>BABA_Close: Weight=0.671<br>TSLA_Close: Weight=0.000<br>NVDA_Close: Weight=0.329",
                    "Return: 40.048%<br>Volatility: 0.155<br>Sharpe Ratio: 2.586<br>ISRG_Close: Weight=0.696<br>GE_Close: Weight=0.000<br>AAPL_Close: Weight=0.304",
                    "Return: 31.134%<br>Volatility: 0.093<br>Sharpe Ratio: 3.339<br>ADBE_Close: Weight=0.239<br>HD_Close: Weight=0.503<br>AEP_Close: Weight=0.257<br>AMGN_Close: Weight=0.000",
                    "Return: 60.514%<br>Volatility: 0.236<br>Sharpe Ratio: 2.568<br>TSLA_Close: Weight=0.029<br>VRTX_Close: Weight=0.274<br>RDY_Close: Weight=0.000<br>BABA_Close: Weight=0.697",
                    "Return: 20.832%<br>Volatility: 0.116<br>Sharpe Ratio: 1.791<br>COST_Close: Weight=0.146<br>GOOGL_Close: Weight=0.620<br>ETN_Close: Weight=0.234",
                    "Return: 43.668%<br>Volatility: 0.125<br>Sharpe Ratio: 3.488<br>GIS_Close: Weight=0.000<br>ABBV_Close: Weight=0.449<br>MA_Close: Weight=0.408<br>ABT_Close: Weight=0.143",
                    "Return: 29.505%<br>Volatility: 0.116<br>Sharpe Ratio: 2.551<br>MO_Close: Weight=0.000<br>T_Close: Weight=0.000<br>BAC_Close: Weight=0.139<br>V_Close: Weight=0.861",
                    "Return: 19.879%<br>Volatility: 0.104<br>Sharpe Ratio: 1.906<br>PFE_Close: Weight=0.387<br>GOOG_Close: Weight=0.581<br>WFC_Close: Weight=0.032",
                    "Return: 35.013%<br>Volatility: 0.103<br>Sharpe Ratio: 3.407<br>CPB_Close: Weight=0.000<br>MA_Close: Weight=0.507<br>HD_Close: Weight=0.493",
                    "Return: 29.083%<br>Volatility: 0.111<br>Sharpe Ratio: 2.625<br>TSLA_Close: Weight=0.060<br>T_Close: Weight=0.000<br>EXC_Close: Weight=0.238<br>UNH_Close: Weight=0.702",
                    "Return: 52.972%<br>Volatility: 0.153<br>Sharpe Ratio: 3.466<br>GS_Close: Weight=0.000<br>MDT_Close: Weight=0.000<br>BA_Close: Weight=0.864<br>BTI_Close: Weight=0.136",
                    "Return: 33.607%<br>Volatility: 0.119<br>Sharpe Ratio: 2.827<br>MRK_Close: Weight=0.000<br>LMT_Close: Weight=0.584<br>ISRG_Close: Weight=0.416",
                    "Return: 25.071%<br>Volatility: 0.103<br>Sharpe Ratio: 2.424<br>AMZN_Close: Weight=0.444<br>CVX_Close: Weight=0.498<br>GILD_Close: Weight=0.058",
                    "Return: 13.204%<br>Volatility: 0.138<br>Sharpe Ratio: 0.958<br>F_Close: Weight=0.000<br>CPB_Close: Weight=0.000<br>GM_Close: Weight=0.577<br>BTI_Close: Weight=0.423",
                    "Return: 31.581%<br>Volatility: 0.118<br>Sharpe Ratio: 2.670<br>MSFT_Close: Weight=0.516<br>ADBE_Close: Weight=0.155<br>JNJ_Close: Weight=0.329<br>IBM_Close: Weight=0.000",
                    "Return: 45.811%<br>Volatility: 0.138<br>Sharpe Ratio: 3.321<br>DE_Close: Weight=0.528<br>ISRG_Close: Weight=0.472<br>GS_Close: Weight=0.000<br>QCOM_Close: Weight=0.000",
                    "Return: 19.781%<br>Volatility: 0.127<br>Sharpe Ratio: 1.552<br>K_Close: Weight=0.000<br>SYK_Close: Weight=0.653<br>CSCO_Close: Weight=0.347",
                    "Return: 61.732%<br>Volatility: 0.189<br>Sharpe Ratio: 3.273<br>CAT_Close: Weight=0.938<br>ETN_Close: Weight=0.000<br>TSLA_Close: Weight=0.062",
                    "Return: 37.338%<br>Volatility: 0.140<br>Sharpe Ratio: 2.668<br>ISRG_Close: Weight=0.649<br>EMR_Close: Weight=0.351<br>IBM_Close: Weight=0.000",
                    "Return: 39.352%<br>Volatility: 0.147<br>Sharpe Ratio: 2.684<br>AAPL_Close: Weight=0.287<br>DE_Close: Weight=0.713<br>CPB_Close: Weight=0.000",
                    "Return: 25.738%<br>Volatility: 0.158<br>Sharpe Ratio: 1.626<br>NFLX_Close: Weight=0.423<br>BAC_Close: Weight=0.337<br>COST_Close: Weight=0.240",
                    "Return: 22.539%<br>Volatility: 0.089<br>Sharpe Ratio: 2.536<br>NEE_Close: Weight=0.693<br>EMR_Close: Weight=0.307<br>PM_Close: Weight=0.000",
                    "Return: 21.168%<br>Volatility: 0.085<br>Sharpe Ratio: 2.501<br>SRE_Close: Weight=0.000<br>BAC_Close: Weight=0.192<br>KO_Close: Weight=0.672<br>VRTX_Close: Weight=0.137",
                    "Return: 32.628%<br>Volatility: 0.176<br>Sharpe Ratio: 1.858<br>INTC_Close: Weight=1.000<br>UA_Close: Weight=0.000<br>SRE_Close: Weight=0.000",
                    "Return: 32.793%<br>Volatility: 0.129<br>Sharpe Ratio: 2.552<br>GE_Close: Weight=0.000<br>UNH_Close: Weight=0.869<br>QCOM_Close: Weight=0.131",
                    "Return: 23.110%<br>Volatility: 0.122<br>Sharpe Ratio: 1.897<br>GE_Close: Weight=0.000<br>GOOG_Close: Weight=0.604<br>F_Close: Weight=0.025<br>RTX_Close: Weight=0.371",
                    "Return: 43.505%<br>Volatility: 0.178<br>Sharpe Ratio: 2.449<br>ISRG_Close: Weight=0.877<br>GE_Close: Weight=0.000<br>TMO_Close: Weight=0.123",
                    "Return: 27.024%<br>Volatility: 0.124<br>Sharpe Ratio: 2.175<br>F_Close: Weight=0.000<br>ABT_Close: Weight=0.802<br>BAC_Close: Weight=0.198<br>GILD_Close: Weight=0.000",
                    "Return: 30.813%<br>Volatility: 0.087<br>Sharpe Ratio: 3.546<br>MA_Close: Weight=0.360<br>AEP_Close: Weight=0.294<br>WMT_Close: Weight=0.268<br>MS_Close: Weight=0.078",
                    "Return: 45.118%<br>Volatility: 0.179<br>Sharpe Ratio: 2.527<br>AMGN_Close: Weight=0.000<br>CPB_Close: Weight=0.000<br>DE_Close: Weight=1.000",
                    "Return: 21.533%<br>Volatility: 0.100<br>Sharpe Ratio: 2.149<br>ACN_Close: Weight=0.678<br>DUK_Close: Weight=0.242<br>QCOM_Close: Weight=0.080<br>DIS_Close: Weight=0.000",
                    "Return: 26.681%<br>Volatility: 0.103<br>Sharpe Ratio: 2.588<br>RDY_Close: Weight=0.000<br>HD_Close: Weight=0.709<br>EXC_Close: Weight=0.291<br>DHR_Close: Weight=0.000",
                    "Return: 24.004%<br>Volatility: 0.096<br>Sharpe Ratio: 2.502<br>CPB_Close: Weight=0.000<br>XOM_Close: Weight=0.126<br>CRM_Close: Weight=0.333<br>MMM_Close: Weight=0.541",
                    "Return: 15.865%<br>Volatility: 0.160<br>Sharpe Ratio: 0.989<br>F_Close: Weight=0.000<br>GM_Close: Weight=0.455<br>ZBH_Close: Weight=0.000<br>MS_Close: Weight=0.545",
                    "Return: 14.783%<br>Volatility: 0.086<br>Sharpe Ratio: 1.710<br>PEP_Close: Weight=0.731<br>BAC_Close: Weight=0.269<br>T_Close: Weight=0.000",
                    "Return: 29.450%<br>Volatility: 0.115<br>Sharpe Ratio: 2.551<br>EXC_Close: Weight=0.219<br>ACN_Close: Weight=0.624<br>MRK_Close: Weight=0.000<br>VRTX_Close: Weight=0.157",
                    "Return: 51.874%<br>Volatility: 0.158<br>Sharpe Ratio: 3.288<br>CAT_Close: Weight=0.777<br>WFC_Close: Weight=0.000<br>PFE_Close: Weight=0.223",
                    "Return: 8.212%<br>Volatility: 0.078<br>Sharpe Ratio: 1.054<br>BMY_Close: Weight=0.126<br>PFE_Close: Weight=0.452<br>DUK_Close: Weight=0.422<br>GE_Close: Weight=0.000",
                    "Return: 37.519%<br>Volatility: 0.144<br>Sharpe Ratio: 2.604<br>MDT_Close: Weight=0.000<br>MA_Close: Weight=0.975<br>NFLX_Close: Weight=0.025",
                    "Return: 21.104%<br>Volatility: 0.086<br>Sharpe Ratio: 2.440<br>AEP_Close: Weight=0.353<br>LMT_Close: Weight=0.647<br>K_Close: Weight=0.000",
                    "Return: 44.353%<br>Volatility: 0.186<br>Sharpe Ratio: 2.390<br>SYY_Close: Weight=0.591<br>PM_Close: Weight=0.000<br>NVDA_Close: Weight=0.409<br>AMD_Close: Weight=0.000",
                    "Return: 18.254%<br>Volatility: 0.113<br>Sharpe Ratio: 1.616<br>GM_Close: Weight=0.245<br>GE_Close: Weight=0.000<br>SYK_Close: Weight=0.589<br>BTI_Close: Weight=0.166",
                    "Return: 27.711%<br>Volatility: 0.160<br>Sharpe Ratio: 1.737<br>GOOG_Close: Weight=1.000<br>RDY_Close: Weight=0.000<br>KR_Close: Weight=0.000",
                    "Return: 10.456%<br>Volatility: 0.082<br>Sharpe Ratio: 1.280<br>CSCO_Close: Weight=0.376<br>NKE_Close: Weight=0.120<br>DUK_Close: Weight=0.504",
                    "Return: 36.845%<br>Volatility: 0.152<br>Sharpe Ratio: 2.426<br>AMZN_Close: Weight=0.074<br>GS_Close: Weight=0.000<br>SO_Close: Weight=0.000<br>MSFT_Close: Weight=0.926",
                    "Return: 43.108%<br>Volatility: 0.115<br>Sharpe Ratio: 3.760<br>ETN_Close: Weight=0.000<br>DE_Close: Weight=0.384<br>DUK_Close: Weight=0.157<br>ABBV_Close: Weight=0.459",
                    "Return: 36.378%<br>Volatility: 0.114<br>Sharpe Ratio: 3.181<br>SRE_Close: Weight=0.000<br>INTC_Close: Weight=0.288<br>VRTX_Close: Weight=0.134<br>HD_Close: Weight=0.578",
                    "Return: 17.513%<br>Volatility: 0.120<br>Sharpe Ratio: 1.462<br>JPM_Close: Weight=0.541<br>CSCO_Close: Weight=0.325<br>COST_Close: Weight=0.134",
                    "Return: 51.984%<br>Volatility: 0.152<br>Sharpe Ratio: 3.428<br>CRM_Close: Weight=0.314<br>CAT_Close: Weight=0.686<br>WFC_Close: Weight=0.000",
                    "Return: 25.350%<br>Volatility: 0.116<br>Sharpe Ratio: 2.179<br>T_Close: Weight=0.000<br>CMCSA_Close: Weight=0.133<br>MMM_Close: Weight=0.867",
                    "Return: 18.071%<br>Volatility: 0.116<br>Sharpe Ratio: 1.563<br>QCOM_Close: Weight=0.141<br>SO_Close: Weight=0.085<br>EMR_Close: Weight=0.326<br>JPM_Close: Weight=0.448",
                    "Return: 22.532%<br>Volatility: 0.128<br>Sharpe Ratio: 1.755<br>MDT_Close: Weight=0.000<br>AAPL_Close: Weight=0.510<br>JPM_Close: Weight=0.490",
                    "Return: 44.970%<br>Volatility: 0.129<br>Sharpe Ratio: 3.490<br>PYPL_Close: Weight=0.347<br>NKE_Close: Weight=0.080<br>SRE_Close: Weight=0.000<br>MCD_Close: Weight=0.573",
                    "Return: 25.711%<br>Volatility: 0.115<br>Sharpe Ratio: 2.234<br>TMO_Close: Weight=0.282<br>ZBH_Close: Weight=0.000<br>ACN_Close: Weight=0.718",
                    "Return: 20.721%<br>Volatility: 0.073<br>Sharpe Ratio: 2.824<br>SAP_Close: Weight=0.138<br>KO_Close: Weight=0.336<br>HON_Close: Weight=0.526<br>MO_Close: Weight=0.000",
                    "Return: 25.970%<br>Volatility: 0.120<br>Sharpe Ratio: 2.164<br>PM_Close: Weight=0.000<br>CSCO_Close: Weight=0.155<br>MDT_Close: Weight=0.000<br>MMM_Close: Weight=0.845",
                    "Return: 15.163%<br>Volatility: 0.143<br>Sharpe Ratio: 1.062<br>AMD_Close: Weight=0.000<br>MS_Close: Weight=0.549<br>ORCL_Close: Weight=0.451<br>K_Close: Weight=0.000",
                    "Return: 38.710%<br>Volatility: 0.132<br>Sharpe Ratio: 2.926<br>DE_Close: Weight=0.525<br>JPM_Close: Weight=0.175<br>AMZN_Close: Weight=0.301",
                    "Return: 28.667%<br>Volatility: 0.140<br>Sharpe Ratio: 2.053<br>GILD_Close: Weight=0.000<br>ABT_Close: Weight=1.000<br>CPB_Close: Weight=0.000",
                    "Return: 27.962%<br>Volatility: 0.105<br>Sharpe Ratio: 2.671<br>JPM_Close: Weight=0.256<br>V_Close: Weight=0.733<br>ORCL_Close: Weight=0.011",
                    "Return: 28.772%<br>Volatility: 0.141<br>Sharpe Ratio: 2.037<br>AMGN_Close: Weight=0.000<br>ETN_Close: Weight=0.291<br>SYY_Close: Weight=0.443<br>VRTX_Close: Weight=0.266",
                    "Return: 49.512%<br>Volatility: 0.165<br>Sharpe Ratio: 2.998<br>EMR_Close: Weight=0.349<br>ZBH_Close: Weight=0.000<br>PYPL_Close: Weight=0.651",
                    "Return: 13.204%<br>Volatility: 0.138<br>Sharpe Ratio: 0.958<br>BTI_Close: Weight=0.423<br>MO_Close: Weight=0.000<br>GM_Close: Weight=0.577",
                    "Return: 34.239%<br>Volatility: 0.104<br>Sharpe Ratio: 3.303<br>MCD_Close: Weight=0.519<br>V_Close: Weight=0.455<br>GILD_Close: Weight=0.000<br>TSLA_Close: Weight=0.026",
                    "Return: 33.715%<br>Volatility: 0.130<br>Sharpe Ratio: 2.590<br>AAPL_Close: Weight=0.213<br>VZ_Close: Weight=0.262<br>DHR_Close: Weight=0.132<br>BABA_Close: Weight=0.393",
                    "Return: 31.831%<br>Volatility: 0.121<br>Sharpe Ratio: 2.623<br>PM_Close: Weight=0.000<br>JPM_Close: Weight=0.300<br>MSFT_Close: Weight=0.616<br>AMZN_Close: Weight=0.084",
                    "Return: 19.040%<br>Volatility: 0.107<br>Sharpe Ratio: 1.772<br>TMO_Close: Weight=0.470<br>CMCSA_Close: Weight=0.128<br>SYY_Close: Weight=0.402",
                    "Return: 32.968%<br>Volatility: 0.172<br>Sharpe Ratio: 1.919<br>VRTX_Close: Weight=0.354<br>ORCL_Close: Weight=0.261<br>BAC_Close: Weight=0.385",
                    "Return: 20.411%<br>Volatility: 0.088<br>Sharpe Ratio: 2.316<br>REGN_Close: Weight=0.012<br>KO_Close: Weight=0.610<br>INTC_Close: Weight=0.378",
                    "Return: 28.298%<br>Volatility: 0.104<br>Sharpe Ratio: 2.714<br>SAP_Close: Weight=0.344<br>LLY_Close: Weight=0.000<br>HD_Close: Weight=0.612<br>MS_Close: Weight=0.044",
                    "Return: 13.525%<br>Volatility: 0.115<br>Sharpe Ratio: 1.177<br>PFE_Close: Weight=0.613<br>SNAP_Close: Weight=0.000<br>BAC_Close: Weight=0.387",
                    "Return: 24.013%<br>Volatility: 0.118<br>Sharpe Ratio: 2.035<br>DHR_Close: Weight=0.051<br>META_Close: Weight=0.439<br>BMY_Close: Weight=0.118<br>SAP_Close: Weight=0.392",
                    "Return: 40.211%<br>Volatility: 0.131<br>Sharpe Ratio: 3.059<br>MRK_Close: Weight=0.000<br>CVX_Close: Weight=0.329<br>PYPL_Close: Weight=0.517<br>PFE_Close: Weight=0.154",
                    "Return: 26.079%<br>Volatility: 0.127<br>Sharpe Ratio: 2.061<br>BSX_Close: Weight=0.000<br>ACN_Close: Weight=0.946<br>AMD_Close: Weight=0.000<br>XOM_Close: Weight=0.054",
                    "Return: 22.536%<br>Volatility: 0.115<br>Sharpe Ratio: 1.956<br>DIS_Close: Weight=0.000<br>INTC_Close: Weight=0.618<br>DUK_Close: Weight=0.382",
                    "Return: 14.661%<br>Volatility: 0.068<br>Sharpe Ratio: 2.141<br>KO_Close: Weight=0.454<br>PEP_Close: Weight=0.079<br>JNJ_Close: Weight=0.344<br>GM_Close: Weight=0.123",
                    "Return: 55.339%<br>Volatility: 0.193<br>Sharpe Ratio: 2.869<br>PYPL_Close: Weight=0.805<br>PM_Close: Weight=0.000<br>GM_Close: Weight=0.195",
                    "Return: 31.090%<br>Volatility: 0.134<br>Sharpe Ratio: 2.316<br>NVDA_Close: Weight=0.243<br>DUK_Close: Weight=0.410<br>GOOGL_Close: Weight=0.347",
                    "Return: 44.084%<br>Volatility: 0.140<br>Sharpe Ratio: 3.160<br>SNAP_Close: Weight=0.000<br>ABBV_Close: Weight=0.682<br>GOOGL_Close: Weight=0.216<br>CSCO_Close: Weight=0.102",
                    "Return: 39.013%<br>Volatility: 0.113<br>Sharpe Ratio: 3.460<br>ABBV_Close: Weight=0.507<br>GE_Close: Weight=0.000<br>NEE_Close: Weight=0.493",
                    "Return: 37.500%<br>Volatility: 0.144<br>Sharpe Ratio: 2.602<br>BTI_Close: Weight=0.000<br>MA_Close: Weight=1.000<br>DHR_Close: Weight=0.000",
                    "Return: 26.779%<br>Volatility: 0.115<br>Sharpe Ratio: 2.335<br>ACN_Close: Weight=0.641<br>GOOGL_Close: Weight=0.359<br>RDY_Close: Weight=0.000",
                    "Return: 20.360%<br>Volatility: 0.209<br>Sharpe Ratio: 0.972<br>DIS_Close: Weight=0.000<br>BAC_Close: Weight=1.000<br>UA_Close: Weight=0.000",
                    "Return: 28.044%<br>Volatility: 0.109<br>Sharpe Ratio: 2.563<br>JPM_Close: Weight=0.294<br>REGN_Close: Weight=0.000<br>NVDA_Close: Weight=0.194<br>PEP_Close: Weight=0.512",
                    "Return: 45.853%<br>Volatility: 0.126<br>Sharpe Ratio: 3.628<br>PYPL_Close: Weight=0.410<br>PM_Close: Weight=0.000<br>HD_Close: Weight=0.590<br>BMY_Close: Weight=0.000",
                    "Return: 19.122%<br>Volatility: 0.122<br>Sharpe Ratio: 1.573<br>K_Close: Weight=0.000<br>RMD_Close: Weight=0.260<br>EMR_Close: Weight=0.460<br>CSCO_Close: Weight=0.280",
                    "Return: 45.655%<br>Volatility: 0.154<br>Sharpe Ratio: 2.970<br>BTI_Close: Weight=0.000<br>EXC_Close: Weight=0.371<br>PYPL_Close: Weight=0.629",
                    "Return: 32.663%<br>Volatility: 0.091<br>Sharpe Ratio: 3.596<br>HD_Close: Weight=0.397<br>MSFT_Close: Weight=0.339<br>SYK_Close: Weight=0.000<br>MMM_Close: Weight=0.264",
                    "Return: 30.951%<br>Volatility: 0.129<br>Sharpe Ratio: 2.406<br>HD_Close: Weight=0.947<br>ZBH_Close: Weight=0.000<br>PG_Close: Weight=0.053",
                    "Return: 45.378%<br>Volatility: 0.116<br>Sharpe Ratio: 3.898<br>ABBV_Close: Weight=0.405<br>SYK_Close: Weight=0.000<br>MCD_Close: Weight=0.448<br>ADBE_Close: Weight=0.147",
                    "Return: 28.390%<br>Volatility: 0.086<br>Sharpe Ratio: 3.300<br>NEE_Close: Weight=0.366<br>AMGN_Close: Weight=0.000<br>MA_Close: Weight=0.416<br>SYY_Close: Weight=0.218",
                    "Return: 26.960%<br>Volatility: 0.125<br>Sharpe Ratio: 2.163<br>NKE_Close: Weight=0.026<br>QCOM_Close: Weight=0.105<br>TSLA_Close: Weight=0.079<br>ABT_Close: Weight=0.790",
                    "Return: 30.341%<br>Volatility: 0.096<br>Sharpe Ratio: 3.150<br>DE_Close: Weight=0.379<br>META_Close: Weight=0.228<br>JNJ_Close: Weight=0.323<br>COST_Close: Weight=0.070",
                    "Return: 27.269%<br>Volatility: 0.157<br>Sharpe Ratio: 1.738<br>GOOG_Close: Weight=0.984<br>GE_Close: Weight=0.000<br>GIS_Close: Weight=0.016",
                    "Return: 13.015%<br>Volatility: 0.080<br>Sharpe Ratio: 1.628<br>AMD_Close: Weight=0.000<br>PFE_Close: Weight=0.360<br>AEP_Close: Weight=0.640",
                    "Return: 23.214%<br>Volatility: 0.108<br>Sharpe Ratio: 2.143<br>AMZN_Close: Weight=0.408<br>SO_Close: Weight=0.000<br>AMD_Close: Weight=0.000<br>PEP_Close: Weight=0.592",
                    "Return: 44.212%<br>Volatility: 0.198<br>Sharpe Ratio: 2.232<br>CSCO_Close: Weight=0.332<br>RMD_Close: Weight=0.132<br>NVDA_Close: Weight=0.414<br>EW_Close: Weight=0.123",
                    "Return: 43.011%<br>Volatility: 0.170<br>Sharpe Ratio: 2.534<br>NKE_Close: Weight=0.022<br>QCOM_Close: Weight=0.051<br>DE_Close: Weight=0.927",
                    "Return: 48.928%<br>Volatility: 0.136<br>Sharpe Ratio: 3.597<br>VZ_Close: Weight=0.026<br>BA_Close: Weight=0.697<br>GOOGL_Close: Weight=0.277",
                    "Return: 21.976%<br>Volatility: 0.082<br>Sharpe Ratio: 2.694<br>T_Close: Weight=0.000<br>AEP_Close: Weight=0.312<br>LLY_Close: Weight=0.000<br>HON_Close: Weight=0.688",
                    "Return: 21.148%<br>Volatility: 0.121<br>Sharpe Ratio: 1.741<br>UA_Close: Weight=0.000<br>SAP_Close: Weight=0.778<br>MS_Close: Weight=0.222",
                    "Return: 48.890%<br>Volatility: 0.171<br>Sharpe Ratio: 2.865<br>UA_Close: Weight=0.000<br>ZBH_Close: Weight=0.000<br>PFE_Close: Weight=0.291<br>PYPL_Close: Weight=0.709",
                    "Return: 16.742%<br>Volatility: 0.135<br>Sharpe Ratio: 1.242<br>VZ_Close: Weight=0.237<br>WFC_Close: Weight=0.042<br>SYY_Close: Weight=0.721<br>F_Close: Weight=0.000",
                    "Return: 35.001%<br>Volatility: 0.123<br>Sharpe Ratio: 2.835<br>MCD_Close: Weight=0.854<br>BAC_Close: Weight=0.146<br>MO_Close: Weight=0.000",
                    "Return: 28.206%<br>Volatility: 0.139<br>Sharpe Ratio: 2.022<br>RTX_Close: Weight=0.474<br>VRTX_Close: Weight=0.258<br>CSCO_Close: Weight=0.267",
                    "Return: 26.881%<br>Volatility: 0.103<br>Sharpe Ratio: 2.600<br>JNJ_Close: Weight=0.402<br>TXN_Close: Weight=0.515<br>COST_Close: Weight=0.083",
                    "Return: 29.451%<br>Volatility: 0.099<br>Sharpe Ratio: 2.974<br>SNAP_Close: Weight=0.000<br>LMT_Close: Weight=0.417<br>ACN_Close: Weight=0.226<br>MSFT_Close: Weight=0.357",
                    "Return: 21.324%<br>Volatility: 0.091<br>Sharpe Ratio: 2.345<br>PEP_Close: Weight=0.391<br>ABT_Close: Weight=0.452<br>TMO_Close: Weight=0.157",
                    "Return: 38.218%<br>Volatility: 0.145<br>Sharpe Ratio: 2.636<br>ISRG_Close: Weight=0.578<br>RMD_Close: Weight=0.053<br>META_Close: Weight=0.176<br>AAPL_Close: Weight=0.193",
                    "Return: 33.007%<br>Volatility: 0.137<br>Sharpe Ratio: 2.407<br>JPM_Close: Weight=0.489<br>REGN_Close: Weight=0.000<br>ADBE_Close: Weight=0.511<br>ZBH_Close: Weight=0.000",
                    "Return: 33.900%<br>Volatility: 0.167<br>Sharpe Ratio: 2.031<br>VRTX_Close: Weight=0.338<br>JPM_Close: Weight=0.662<br>MRK_Close: Weight=0.000",
                    "Return: 24.427%<br>Volatility: 0.140<br>Sharpe Ratio: 1.750<br>EW_Close: Weight=0.215<br>BIIB_Close: Weight=0.028<br>CRM_Close: Weight=0.757",
                    "Return: 24.538%<br>Volatility: 0.119<br>Sharpe Ratio: 2.062<br>EW_Close: Weight=0.105<br>RTX_Close: Weight=0.383<br>META_Close: Weight=0.512",
                    "Return: 36.238%<br>Volatility: 0.111<br>Sharpe Ratio: 3.260<br>UNH_Close: Weight=0.486<br>DHR_Close: Weight=0.000<br>MA_Close: Weight=0.514",
                    "Return: 14.736%<br>Volatility: 0.102<br>Sharpe Ratio: 1.452<br>DUK_Close: Weight=0.444<br>BSX_Close: Weight=0.000<br>TMO_Close: Weight=0.556<br>CPB_Close: Weight=0.000",
                    "Return: 35.741%<br>Volatility: 0.148<br>Sharpe Ratio: 2.422<br>MSFT_Close: Weight=0.952<br>ORCL_Close: Weight=0.021<br>QCOM_Close: Weight=0.026",
                    "Return: 54.051%<br>Volatility: 0.179<br>Sharpe Ratio: 3.026<br>ABBV_Close: Weight=1.000<br>K_Close: Weight=0.000<br>REGN_Close: Weight=0.000<br>MDT_Close: Weight=0.000",
                    "Return: 51.871%<br>Volatility: 0.148<br>Sharpe Ratio: 3.495<br>BA_Close: Weight=0.805<br>EMR_Close: Weight=0.195<br>RDY_Close: Weight=0.000",
                    "Return: 38.645%<br>Volatility: 0.129<br>Sharpe Ratio: 3.000<br>MA_Close: Weight=0.600<br>VRTX_Close: Weight=0.123<br>INTC_Close: Weight=0.250<br>MS_Close: Weight=0.028",
                    "Return: 80.734%<br>Volatility: 0.394<br>Sharpe Ratio: 2.051<br>K_Close: Weight=0.000<br>NVDA_Close: Weight=1.000<br>MO_Close: Weight=0.000",
                    "Return: 27.711%<br>Volatility: 0.160<br>Sharpe Ratio: 1.737<br>AMD_Close: Weight=0.000<br>K_Close: Weight=0.000<br>GOOG_Close: Weight=1.000",
                    "Return: 28.444%<br>Volatility: 0.093<br>Sharpe Ratio: 3.062<br>GM_Close: Weight=0.059<br>HON_Close: Weight=0.537<br>UNH_Close: Weight=0.405",
                    "Return: 34.293%<br>Volatility: 0.135<br>Sharpe Ratio: 2.536<br>VRTX_Close: Weight=0.194<br>MMM_Close: Weight=0.806<br>DHR_Close: Weight=0.000",
                    "Return: 36.250%<br>Volatility: 0.131<br>Sharpe Ratio: 2.757<br>PFE_Close: Weight=0.216<br>T_Close: Weight=0.000<br>NFLX_Close: Weight=0.163<br>DE_Close: Weight=0.621",
                    "Return: 34.904%<br>Volatility: 0.141<br>Sharpe Ratio: 2.475<br>GILD_Close: Weight=0.000<br>GS_Close: Weight=0.000<br>BSX_Close: Weight=0.000<br>UNH_Close: Weight=1.000",
                    "Return: 40.366%<br>Volatility: 0.121<br>Sharpe Ratio: 3.345<br>BAC_Close: Weight=0.092<br>AAPL_Close: Weight=0.183<br>ABT_Close: Weight=0.207<br>ABBV_Close: Weight=0.517",
                    "Return: 30.092%<br>Volatility: 0.121<br>Sharpe Ratio: 2.495<br>V_Close: Weight=0.862<br>GOOGL_Close: Weight=0.126<br>BTI_Close: Weight=0.012<br>IBM_Close: Weight=0.000",
                    "Return: 37.031%<br>Volatility: 0.128<br>Sharpe Ratio: 2.900<br>ORCL_Close: Weight=0.000<br>REGN_Close: Weight=0.000<br>ISRG_Close: Weight=0.388<br>V_Close: Weight=0.612",
                    "Return: 44.766%<br>Volatility: 0.186<br>Sharpe Ratio: 2.403<br>ORCL_Close: Weight=0.091<br>BABA_Close: Weight=0.641<br>GM_Close: Weight=0.256<br>TSLA_Close: Weight=0.013",
                    "Return: 42.043%<br>Volatility: 0.113<br>Sharpe Ratio: 3.730<br>KO_Close: Weight=0.398<br>CVX_Close: Weight=0.031<br>VRTX_Close: Weight=0.114<br>CAT_Close: Weight=0.457",
                    "Return: 36.275%<br>Volatility: 0.112<br>Sharpe Ratio: 3.225<br>EW_Close: Weight=0.062<br>MSFT_Close: Weight=0.382<br>MCD_Close: Weight=0.556",
                    "Return: 10.665%<br>Volatility: 0.159<br>Sharpe Ratio: 0.669<br>MDT_Close: Weight=0.061<br>VZ_Close: Weight=0.939<br>MO_Close: Weight=0.000",
                    "Return: 12.626%<br>Volatility: 0.131<br>Sharpe Ratio: 0.960<br>EXC_Close: Weight=1.000<br>CPB_Close: Weight=0.000<br>IBM_Close: Weight=0.000",
                    "Return: 35.626%<br>Volatility: 0.124<br>Sharpe Ratio: 2.863<br>TSLA_Close: Weight=0.035<br>GM_Close: Weight=0.132<br>VRTX_Close: Weight=0.139<br>UNH_Close: Weight=0.694",
                    "Return: 38.012%<br>Volatility: 0.109<br>Sharpe Ratio: 3.489<br>BABA_Close: Weight=0.266<br>BMY_Close: Weight=0.018<br>WMT_Close: Weight=0.408<br>EXC_Close: Weight=0.309",
                    "Return: 41.142%<br>Volatility: 0.162<br>Sharpe Ratio: 2.547<br>LLY_Close: Weight=0.012<br>DE_Close: Weight=0.890<br>CMCSA_Close: Weight=0.098",
                    "Return: 43.862%<br>Volatility: 0.210<br>Sharpe Ratio: 2.090<br>AMGN_Close: Weight=0.000<br>ADBE_Close: Weight=0.769<br>NFLX_Close: Weight=0.231<br>GIS_Close: Weight=0.000",
                    "Return: 41.530%<br>Volatility: 0.130<br>Sharpe Ratio: 3.203<br>PYPL_Close: Weight=0.433<br>XOM_Close: Weight=0.083<br>MMM_Close: Weight=0.467<br>F_Close: Weight=0.018",
                    "Return: 33.330%<br>Volatility: 0.110<br>Sharpe Ratio: 3.033<br>SAP_Close: Weight=0.026<br>V_Close: Weight=0.495<br>EXC_Close: Weight=0.246<br>BABA_Close: Weight=0.232",
                    "Return: 29.791%<br>Volatility: 0.120<br>Sharpe Ratio: 2.480<br>MDT_Close: Weight=0.000<br>ETN_Close: Weight=0.069<br>GE_Close: Weight=0.000<br>V_Close: Weight=0.931",
                    "Return: 17.372%<br>Volatility: 0.159<br>Sharpe Ratio: 1.094<br>LLY_Close: Weight=0.045<br>EW_Close: Weight=0.561<br>BMY_Close: Weight=0.394",
                    "Return: 6.268%<br>Volatility: 0.075<br>Sharpe Ratio: 0.839<br>WFC_Close: Weight=0.279<br>GE_Close: Weight=0.000<br>DUK_Close: Weight=0.721",
                    "Return: 34.729%<br>Volatility: 0.178<br>Sharpe Ratio: 1.956<br>VRTX_Close: Weight=0.328<br>K_Close: Weight=0.000<br>SYK_Close: Weight=0.672",
                    "Return: 19.830%<br>Volatility: 0.104<br>Sharpe Ratio: 1.898<br>MO_Close: Weight=0.000<br>ORCL_Close: Weight=0.132<br>JPM_Close: Weight=0.425<br>SYK_Close: Weight=0.443",
                    "Return: 24.048%<br>Volatility: 0.087<br>Sharpe Ratio: 2.752<br>F_Close: Weight=0.000<br>AEP_Close: Weight=0.389<br>HD_Close: Weight=0.549<br>GILD_Close: Weight=0.061",
                    "Return: 16.452%<br>Volatility: 0.101<br>Sharpe Ratio: 1.627<br>CVX_Close: Weight=0.464<br>BIIB_Close: Weight=0.103<br>MO_Close: Weight=0.000<br>SYY_Close: Weight=0.432",
                    "Return: 9.995%<br>Volatility: 0.106<br>Sharpe Ratio: 0.943<br>AMGN_Close: Weight=0.000<br>DHR_Close: Weight=0.584<br>VZ_Close: Weight=0.416",
                    "Return: 11.935%<br>Volatility: 0.088<br>Sharpe Ratio: 1.354<br>PEP_Close: Weight=0.858<br>GS_Close: Weight=0.055<br>BIIB_Close: Weight=0.087",
                    "Return: 34.740%<br>Volatility: 0.180<br>Sharpe Ratio: 1.931<br>SYY_Close: Weight=0.630<br>VRTX_Close: Weight=0.370<br>SNAP_Close: Weight=0.000",
                    "Return: 49.954%<br>Volatility: 0.189<br>Sharpe Ratio: 2.638<br>QCOM_Close: Weight=0.000<br>TMO_Close: Weight=0.441<br>NVDA_Close: Weight=0.318<br>VRTX_Close: Weight=0.241",
                    "Return: 44.614%<br>Volatility: 0.209<br>Sharpe Ratio: 2.138<br>MS_Close: Weight=0.202<br>F_Close: Weight=0.000<br>DHR_Close: Weight=0.324<br>NVDA_Close: Weight=0.474",
                    "Return: 34.157%<br>Volatility: 0.095<br>Sharpe Ratio: 3.597<br>DE_Close: Weight=0.302<br>ORCL_Close: Weight=0.021<br>JNJ_Close: Weight=0.250<br>MCD_Close: Weight=0.427",
                    "Return: 18.359%<br>Volatility: 0.125<br>Sharpe Ratio: 1.464<br>RMD_Close: Weight=0.328<br>BAC_Close: Weight=0.248<br>GM_Close: Weight=0.138<br>CSCO_Close: Weight=0.286",
                    "Return: 15.894%<br>Volatility: 0.082<br>Sharpe Ratio: 1.939<br>JNJ_Close: Weight=0.485<br>GILD_Close: Weight=0.014<br>AEP_Close: Weight=0.501<br>AMGN_Close: Weight=0.000",
                    "Return: 42.141%<br>Volatility: 0.154<br>Sharpe Ratio: 2.728<br>NVDA_Close: Weight=0.173<br>MSFT_Close: Weight=0.694<br>BAC_Close: Weight=0.133",
                    "Return: 17.281%<br>Volatility: 0.076<br>Sharpe Ratio: 2.262<br>KO_Close: Weight=0.580<br>NKE_Close: Weight=0.081<br>GOOGL_Close: Weight=0.339",
                    "Return: 20.245%<br>Volatility: 0.115<br>Sharpe Ratio: 1.766<br>MO_Close: Weight=0.000<br>NKE_Close: Weight=0.081<br>EMR_Close: Weight=0.406<br>SYK_Close: Weight=0.514",
                    "Return: 28.140%<br>Volatility: 0.092<br>Sharpe Ratio: 3.058<br>HON_Close: Weight=0.549<br>VZ_Close: Weight=0.058<br>UNH_Close: Weight=0.393",
                    "Return: 43.930%<br>Volatility: 0.105<br>Sharpe Ratio: 4.173<br>GE_Close: Weight=0.000<br>CAT_Close: Weight=0.352<br>V_Close: Weight=0.317<br>UNH_Close: Weight=0.331",
                    "Return: 23.143%<br>Volatility: 0.083<br>Sharpe Ratio: 2.793<br>MMM_Close: Weight=0.380<br>NEE_Close: Weight=0.480<br>PFE_Close: Weight=0.140",
                    "Return: 8.576%<br>Volatility: 0.090<br>Sharpe Ratio: 0.954<br>ORCL_Close: Weight=0.348<br>DUK_Close: Weight=0.647<br>RDY_Close: Weight=0.000<br>REGN_Close: Weight=0.005",
                    "Return: 27.588%<br>Volatility: 0.110<br>Sharpe Ratio: 2.498<br>V_Close: Weight=0.896<br>DIS_Close: Weight=0.104<br>MDT_Close: Weight=0.000<br>SRE_Close: Weight=0.000",
                    "Return: 45.540%<br>Volatility: 0.228<br>Sharpe Ratio: 1.999<br>SO_Close: Weight=0.000<br>PM_Close: Weight=0.000<br>ADBE_Close: Weight=1.000",
                    "Return: 20.475%<br>Volatility: 0.082<br>Sharpe Ratio: 2.484<br>PM_Close: Weight=0.000<br>KO_Close: Weight=0.502<br>AMD_Close: Weight=0.000<br>MMM_Close: Weight=0.498",
                    "Return: 26.014%<br>Volatility: 0.103<br>Sharpe Ratio: 2.533<br>TMO_Close: Weight=0.133<br>ADBE_Close: Weight=0.352<br>CVX_Close: Weight=0.382<br>PFE_Close: Weight=0.133",
                    "Return: 19.522%<br>Volatility: 0.089<br>Sharpe Ratio: 2.186<br>PG_Close: Weight=0.072<br>EMR_Close: Weight=0.301<br>EXC_Close: Weight=0.221<br>CRM_Close: Weight=0.406",
                    "Return: 43.248%<br>Volatility: 0.175<br>Sharpe Ratio: 2.477<br>COST_Close: Weight=0.230<br>BABA_Close: Weight=0.596<br>EW_Close: Weight=0.173<br>MO_Close: Weight=0.000",
                    "Return: 20.062%<br>Volatility: 0.099<br>Sharpe Ratio: 2.028<br>AAPL_Close: Weight=0.383<br>SNAP_Close: Weight=0.000<br>JNJ_Close: Weight=0.617<br>GIS_Close: Weight=0.000",
                    "Return: 26.279%<br>Volatility: 0.107<br>Sharpe Ratio: 2.465<br>CPB_Close: Weight=0.000<br>ACN_Close: Weight=0.502<br>SAP_Close: Weight=0.234<br>GOOG_Close: Weight=0.264",
                    "Return: 61.334%<br>Volatility: 0.385<br>Sharpe Ratio: 1.595<br>VRTX_Close: Weight=1.000<br>BSX_Close: Weight=0.000<br>RDY_Close: Weight=0.000<br>ZBH_Close: Weight=0.000",
                    "Return: 28.756%<br>Volatility: 0.109<br>Sharpe Ratio: 2.631<br>META_Close: Weight=0.267<br>CVX_Close: Weight=0.425<br>ADBE_Close: Weight=0.308<br>BSX_Close: Weight=0.000",
                    "Return: 26.133%<br>Volatility: 0.126<br>Sharpe Ratio: 2.073<br>ACN_Close: Weight=0.925<br>MO_Close: Weight=0.000<br>COST_Close: Weight=0.075",
                    "Return: 25.044%<br>Volatility: 0.176<br>Sharpe Ratio: 1.423<br>SRE_Close: Weight=0.000<br>AAPL_Close: Weight=1.000<br>IBM_Close: Weight=0.000",
                    "Return: 16.974%<br>Volatility: 0.096<br>Sharpe Ratio: 1.765<br>K_Close: Weight=0.000<br>PFE_Close: Weight=0.418<br>CSCO_Close: Weight=0.163<br>AAPL_Close: Weight=0.419",
                    "Return: 62.112%<br>Volatility: 0.191<br>Sharpe Ratio: 3.252<br>CAT_Close: Weight=0.958<br>CSCO_Close: Weight=0.042<br>SRE_Close: Weight=0.000",
                    "Return: 22.744%<br>Volatility: 0.149<br>Sharpe Ratio: 1.524<br>MS_Close: Weight=0.280<br>AAPL_Close: Weight=0.720<br>CPB_Close: Weight=0.000",
                    "Return: 30.758%<br>Volatility: 0.127<br>Sharpe Ratio: 2.424<br>CSCO_Close: Weight=0.104<br>F_Close: Weight=0.000<br>HD_Close: Weight=0.896",
                    "Return: 23.760%<br>Volatility: 0.124<br>Sharpe Ratio: 1.913<br>GOOGL_Close: Weight=0.447<br>CRM_Close: Weight=0.421<br>AMD_Close: Weight=0.000<br>BMY_Close: Weight=0.131",
                    "Return: 49.318%<br>Volatility: 0.131<br>Sharpe Ratio: 3.771<br>WMT_Close: Weight=0.431<br>ABBV_Close: Weight=0.569<br>IBM_Close: Weight=0.000<br>PG_Close: Weight=0.000",
                    "Return: 15.064%<br>Volatility: 0.121<br>Sharpe Ratio: 1.247<br>PM_Close: Weight=0.000<br>BTI_Close: Weight=0.271<br>BMY_Close: Weight=0.312<br>RMD_Close: Weight=0.417",
                    "Return: 9.067%<br>Volatility: 0.128<br>Sharpe Ratio: 0.706<br>DHR_Close: Weight=1.000<br>K_Close: Weight=0.000<br>KR_Close: Weight=0.000",
                    "Return: 32.775%<br>Volatility: 0.113<br>Sharpe Ratio: 2.891<br>ACN_Close: Weight=0.457<br>SYY_Close: Weight=0.130<br>WMT_Close: Weight=0.413<br>GILD_Close: Weight=0.000",
                    "Return: 28.424%<br>Volatility: 0.105<br>Sharpe Ratio: 2.702<br>AMZN_Close: Weight=0.289<br>GE_Close: Weight=0.000<br>LMT_Close: Weight=0.711",
                    "Return: 40.459%<br>Volatility: 0.200<br>Sharpe Ratio: 2.027<br>NKE_Close: Weight=0.146<br>IBM_Close: Weight=0.000<br>ADBE_Close: Weight=0.854",
                    "Return: 16.415%<br>Volatility: 0.109<br>Sharpe Ratio: 1.504<br>GIS_Close: Weight=0.000<br>JNJ_Close: Weight=0.900<br>BMY_Close: Weight=0.100",
                    "Return: 22.868%<br>Volatility: 0.100<br>Sharpe Ratio: 2.278<br>CVX_Close: Weight=0.289<br>ACN_Close: Weight=0.649<br>NKE_Close: Weight=0.063",
                    "Return: 47.642%<br>Volatility: 0.154<br>Sharpe Ratio: 3.101<br>ABT_Close: Weight=0.480<br>AMD_Close: Weight=0.000<br>PYPL_Close: Weight=0.520<br>MO_Close: Weight=0.000",
                    "Return: 27.264%<br>Volatility: 0.091<br>Sharpe Ratio: 2.994<br>MCD_Close: Weight=0.578<br>AMGN_Close: Weight=0.000<br>KO_Close: Weight=0.422<br>MO_Close: Weight=0.000",
                    "Return: 24.407%<br>Volatility: 0.099<br>Sharpe Ratio: 2.474<br>NKE_Close: Weight=0.029<br>RTX_Close: Weight=0.030<br>HON_Close: Weight=0.941",
                    "Return: 31.742%<br>Volatility: 0.147<br>Sharpe Ratio: 2.164<br>NKE_Close: Weight=0.080<br>ADBE_Close: Weight=0.567<br>ETN_Close: Weight=0.135<br>GM_Close: Weight=0.217",
                    "Return: 44.055%<br>Volatility: 0.132<br>Sharpe Ratio: 3.338<br>DUK_Close: Weight=0.316<br>CSCO_Close: Weight=0.036<br>CAT_Close: Weight=0.648<br>KR_Close: Weight=0.000",
                    "Return: 8.369%<br>Volatility: 0.104<br>Sharpe Ratio: 0.807<br>BSX_Close: Weight=0.000<br>SRE_Close: Weight=0.000<br>PG_Close: Weight=0.523<br>ORCL_Close: Weight=0.477",
                    "Return: 36.475%<br>Volatility: 0.093<br>Sharpe Ratio: 3.906<br>MCD_Close: Weight=0.403<br>WMT_Close: Weight=0.244<br>RMD_Close: Weight=0.050<br>HD_Close: Weight=0.302",
                    "Return: 21.444%<br>Volatility: 0.093<br>Sharpe Ratio: 2.299<br>DHR_Close: Weight=0.000<br>ABT_Close: Weight=0.519<br>DUK_Close: Weight=0.148<br>JNJ_Close: Weight=0.334",
                    "Return: 38.430%<br>Volatility: 0.146<br>Sharpe Ratio: 2.632<br>CMCSA_Close: Weight=0.077<br>ACN_Close: Weight=0.689<br>KR_Close: Weight=0.000<br>NVDA_Close: Weight=0.233",
                    "Return: 40.608%<br>Volatility: 0.110<br>Sharpe Ratio: 3.701<br>PEP_Close: Weight=0.232<br>CAT_Close: Weight=0.453<br>ACN_Close: Weight=0.315<br>GM_Close: Weight=0.000",
                    "Return: 26.689%<br>Volatility: 0.182<br>Sharpe Ratio: 1.467<br>SRE_Close: Weight=0.000<br>NFLX_Close: Weight=0.575<br>BIIB_Close: Weight=0.052<br>COST_Close: Weight=0.373",
                    "Return: 24.879%<br>Volatility: 0.088<br>Sharpe Ratio: 2.817<br>GIS_Close: Weight=0.000<br>NEE_Close: Weight=0.613<br>MS_Close: Weight=0.205<br>AMZN_Close: Weight=0.182",
                    "Return: 20.910%<br>Volatility: 0.079<br>Sharpe Ratio: 2.655<br>EXC_Close: Weight=0.108<br>AMD_Close: Weight=0.000<br>HON_Close: Weight=0.664<br>PEP_Close: Weight=0.229",
                    "Return: 20.406%<br>Volatility: 0.153<br>Sharpe Ratio: 1.336<br>TMO_Close: Weight=0.902<br>BIIB_Close: Weight=0.098<br>SO_Close: Weight=0.000",
                    "Return: 4.513%<br>Volatility: 0.147<br>Sharpe Ratio: 0.308<br>AMD_Close: Weight=0.000<br>SO_Close: Weight=0.000<br>KR_Close: Weight=0.000<br>LLY_Close: Weight=1.000",
                    "Return: 46.467%<br>Volatility: 0.150<br>Sharpe Ratio: 3.088<br>F_Close: Weight=0.000<br>VZ_Close: Weight=0.177<br>ABBV_Close: Weight=0.823",
                    "Return: 80.734%<br>Volatility: 0.394<br>Sharpe Ratio: 2.051<br>CPB_Close: Weight=0.000<br>MDT_Close: Weight=0.000<br>AMD_Close: Weight=0.000<br>NVDA_Close: Weight=1.000",
                    "Return: 23.795%<br>Volatility: 0.103<br>Sharpe Ratio: 2.300<br>UA_Close: Weight=0.000<br>LMT_Close: Weight=0.859<br>BAC_Close: Weight=0.141",
                    "Return: 18.139%<br>Volatility: 0.102<br>Sharpe Ratio: 1.777<br>TMO_Close: Weight=0.338<br>BTI_Close: Weight=0.065<br>JNJ_Close: Weight=0.596",
                    "Return: 34.195%<br>Volatility: 0.098<br>Sharpe Ratio: 3.474<br>NVDA_Close: Weight=0.143<br>LLY_Close: Weight=0.000<br>JNJ_Close: Weight=0.333<br>HD_Close: Weight=0.524",
                    "Return: 21.949%<br>Volatility: 0.092<br>Sharpe Ratio: 2.395<br>UA_Close: Weight=0.000<br>AEP_Close: Weight=0.443<br>ACN_Close: Weight=0.557",
                    "Return: 43.730%<br>Volatility: 0.151<br>Sharpe Ratio: 2.897<br>NKE_Close: Weight=0.085<br>PYPL_Close: Weight=0.583<br>PFE_Close: Weight=0.249<br>META_Close: Weight=0.083",
                    "Return: 27.452%<br>Volatility: 0.116<br>Sharpe Ratio: 2.369<br>CRM_Close: Weight=0.382<br>ABT_Close: Weight=0.618<br>GS_Close: Weight=0.000",
                    "Return: 25.490%<br>Volatility: 0.118<br>Sharpe Ratio: 2.151<br>MS_Close: Weight=0.177<br>AMGN_Close: Weight=0.000<br>ACN_Close: Weight=0.823",
                    "Return: 28.231%<br>Volatility: 0.130<br>Sharpe Ratio: 2.179<br>MO_Close: Weight=0.000<br>PFE_Close: Weight=0.283<br>VZ_Close: Weight=0.205<br>ADBE_Close: Weight=0.512",
                    "Return: 10.184%<br>Volatility: 0.150<br>Sharpe Ratio: 0.680<br>F_Close: Weight=0.100<br>BIIB_Close: Weight=0.240<br>BMY_Close: Weight=0.660",
                    "Return: 12.184%<br>Volatility: 0.172<br>Sharpe Ratio: 0.707<br>ORCL_Close: Weight=0.878<br>SO_Close: Weight=0.000<br>GILD_Close: Weight=0.122<br>UA_Close: Weight=0.000",
                    "Return: 35.071%<br>Volatility: 0.193<br>Sharpe Ratio: 1.819<br>GIS_Close: Weight=0.088<br>AMZN_Close: Weight=0.912<br>SNAP_Close: Weight=0.000",
                    "Return: 32.822%<br>Volatility: 0.155<br>Sharpe Ratio: 2.123<br>ADBE_Close: Weight=0.536<br>NFLX_Close: Weight=0.173<br>DUK_Close: Weight=0.291",
                    "Return: 38.089%<br>Volatility: 0.138<br>Sharpe Ratio: 2.763<br>K_Close: Weight=0.000<br>DE_Close: Weight=0.637<br>GOOGL_Close: Weight=0.363",
                    "Return: 20.938%<br>Volatility: 0.092<br>Sharpe Ratio: 2.270<br>VRTX_Close: Weight=0.166<br>KO_Close: Weight=0.709<br>COST_Close: Weight=0.051<br>NKE_Close: Weight=0.074",
                    "Return: 25.867%<br>Volatility: 0.116<br>Sharpe Ratio: 2.221<br>ORCL_Close: Weight=0.094<br>PEP_Close: Weight=0.506<br>KR_Close: Weight=0.000<br>ADBE_Close: Weight=0.399",
                    "Return: 38.895%<br>Volatility: 0.132<br>Sharpe Ratio: 2.936<br>CSCO_Close: Weight=0.046<br>ACN_Close: Weight=0.602<br>BABA_Close: Weight=0.352",
                    "Return: 13.894%<br>Volatility: 0.079<br>Sharpe Ratio: 1.769<br>PFE_Close: Weight=0.235<br>RTX_Close: Weight=0.327<br>SYY_Close: Weight=0.292<br>PG_Close: Weight=0.146",
                    "Return: 9.162%<br>Volatility: 0.094<br>Sharpe Ratio: 0.973<br>PFE_Close: Weight=0.631<br>T_Close: Weight=0.000<br>DHR_Close: Weight=0.369",
                    "Return: 34.401%<br>Volatility: 0.103<br>Sharpe Ratio: 3.326<br>SYK_Close: Weight=0.110<br>V_Close: Weight=0.523<br>WMT_Close: Weight=0.367",
                    "Return: 32.084%<br>Volatility: 0.119<br>Sharpe Ratio: 2.707<br>ORCL_Close: Weight=0.072<br>NFLX_Close: Weight=0.175<br>HD_Close: Weight=0.753",
                    "Return: 22.573%<br>Volatility: 0.131<br>Sharpe Ratio: 1.718<br>GE_Close: Weight=0.000<br>COST_Close: Weight=0.204<br>CRM_Close: Weight=0.796",
                    "Return: 30.582%<br>Volatility: 0.117<br>Sharpe Ratio: 2.616<br>CRM_Close: Weight=0.199<br>AMZN_Close: Weight=0.261<br>SRE_Close: Weight=0.000<br>ABT_Close: Weight=0.540",
                    "Return: 30.024%<br>Volatility: 0.089<br>Sharpe Ratio: 3.379<br>SYY_Close: Weight=0.229<br>ISRG_Close: Weight=0.325<br>DUK_Close: Weight=0.000<br>NEE_Close: Weight=0.446",
                    "Return: 57.244%<br>Volatility: 0.174<br>Sharpe Ratio: 3.283<br>BTI_Close: Weight=0.130<br>XOM_Close: Weight=0.000<br>CAT_Close: Weight=0.870",
                    "Return: 29.407%<br>Volatility: 0.114<br>Sharpe Ratio: 2.589<br>JNJ_Close: Weight=0.364<br>MO_Close: Weight=0.000<br>QCOM_Close: Weight=0.007<br>MSFT_Close: Weight=0.629",
                    "Return: 24.277%<br>Volatility: 0.095<br>Sharpe Ratio: 2.550<br>HON_Close: Weight=0.852<br>RTX_Close: Weight=0.027<br>GILD_Close: Weight=0.000<br>RMD_Close: Weight=0.121",
                    "Return: 30.450%<br>Volatility: 0.115<br>Sharpe Ratio: 2.656<br>BSX_Close: Weight=0.000<br>DUK_Close: Weight=0.000<br>NEE_Close: Weight=0.686<br>ADBE_Close: Weight=0.314",
                    "Return: 24.926%<br>Volatility: 0.086<br>Sharpe Ratio: 2.884<br>MMM_Close: Weight=0.378<br>LMT_Close: Weight=0.460<br>JPM_Close: Weight=0.163",
                    "Return: 26.637%<br>Volatility: 0.138<br>Sharpe Ratio: 1.934<br>META_Close: Weight=0.523<br>GIS_Close: Weight=0.059<br>BSX_Close: Weight=0.000<br>CRM_Close: Weight=0.417",
                    "Return: 31.337%<br>Volatility: 0.115<br>Sharpe Ratio: 2.714<br>MS_Close: Weight=0.079<br>MSFT_Close: Weight=0.514<br>ACN_Close: Weight=0.407",
                    "Return: 20.722%<br>Volatility: 0.088<br>Sharpe Ratio: 2.349<br>NEE_Close: Weight=0.636<br>PM_Close: Weight=0.000<br>REGN_Close: Weight=0.025<br>JNJ_Close: Weight=0.339",
                    "Return: 16.852%<br>Volatility: 0.113<br>Sharpe Ratio: 1.494<br>JPM_Close: Weight=0.546<br>BIIB_Close: Weight=0.059<br>GM_Close: Weight=0.135<br>ORCL_Close: Weight=0.260",
                    "Return: 47.442%<br>Volatility: 0.133<br>Sharpe Ratio: 3.566<br>NFLX_Close: Weight=0.005<br>UNH_Close: Weight=0.581<br>PM_Close: Weight=0.000<br>PYPL_Close: Weight=0.414",
                    "Return: 15.149%<br>Volatility: 0.106<br>Sharpe Ratio: 1.424<br>SNAP_Close: Weight=0.000<br>AEP_Close: Weight=1.000<br>DUK_Close: Weight=0.000<br>RDY_Close: Weight=0.000",
                    "Return: 18.652%<br>Volatility: 0.099<br>Sharpe Ratio: 1.884<br>RTX_Close: Weight=0.376<br>SNAP_Close: Weight=0.000<br>SAP_Close: Weight=0.531<br>PG_Close: Weight=0.092",
                    "Return: 24.565%<br>Volatility: 0.118<br>Sharpe Ratio: 2.074<br>ABT_Close: Weight=0.834<br>RDY_Close: Weight=0.000<br>XOM_Close: Weight=0.166",
                    "Return: 8.719%<br>Volatility: 0.096<br>Sharpe Ratio: 0.907<br>XOM_Close: Weight=0.350<br>GE_Close: Weight=0.000<br>BMY_Close: Weight=0.371<br>COST_Close: Weight=0.279",
                    "Return: 32.933%<br>Volatility: 0.109<br>Sharpe Ratio: 3.028<br>MCD_Close: Weight=0.655<br>GOOGL_Close: Weight=0.249<br>RMD_Close: Weight=0.096",
                    "Return: 49.875%<br>Volatility: 0.164<br>Sharpe Ratio: 3.034<br>DIS_Close: Weight=0.075<br>KR_Close: Weight=0.000<br>ABBV_Close: Weight=0.925",
                    "Return: 18.770%<br>Volatility: 0.141<br>Sharpe Ratio: 1.328<br>UA_Close: Weight=0.000<br>GE_Close: Weight=0.000<br>GM_Close: Weight=0.221<br>JPM_Close: Weight=0.779",
                    "Return: 12.918%<br>Volatility: 0.128<br>Sharpe Ratio: 1.010<br>ETN_Close: Weight=0.676<br>BTI_Close: Weight=0.324<br>BSX_Close: Weight=0.000",
                    "Return: 16.980%<br>Volatility: 0.136<br>Sharpe Ratio: 1.244<br>RTX_Close: Weight=1.000<br>KR_Close: Weight=0.000<br>T_Close: Weight=0.000<br>MO_Close: Weight=0.000",
                    "Return: 46.534%<br>Volatility: 0.151<br>Sharpe Ratio: 3.087<br>F_Close: Weight=0.098<br>PYPL_Close: Weight=0.461<br>UA_Close: Weight=0.000<br>MSFT_Close: Weight=0.441",
                    "Return: 41.198%<br>Volatility: 0.103<br>Sharpe Ratio: 3.991<br>UA_Close: Weight=0.000<br>CVX_Close: Weight=0.240<br>WMT_Close: Weight=0.327<br>ABBV_Close: Weight=0.433",
                    "Return: 20.321%<br>Volatility: 0.083<br>Sharpe Ratio: 2.461<br>NEE_Close: Weight=0.629<br>ETN_Close: Weight=0.132<br>CVX_Close: Weight=0.238",
                    "Return: 30.651%<br>Volatility: 0.110<br>Sharpe Ratio: 2.777<br>JPM_Close: Weight=0.229<br>WMT_Close: Weight=0.498<br>RTX_Close: Weight=0.273",
                    "Return: 38.442%<br>Volatility: 0.212<br>Sharpe Ratio: 1.813<br>AMZN_Close: Weight=1.000<br>MO_Close: Weight=0.000<br>AMD_Close: Weight=0.000",
                    "Return: 32.749%<br>Volatility: 0.100<br>Sharpe Ratio: 3.288<br>CRM_Close: Weight=0.075<br>ACN_Close: Weight=0.379<br>MCD_Close: Weight=0.546",
                    "Return: 38.620%<br>Volatility: 0.103<br>Sharpe Ratio: 3.736<br>DUK_Close: Weight=0.183<br>NKE_Close: Weight=0.087<br>GOOG_Close: Weight=0.216<br>BA_Close: Weight=0.513",
                    "Return: 2.945%<br>Volatility: 0.196<br>Sharpe Ratio: 0.150<br>MO_Close: Weight=0.000<br>GS_Close: Weight=1.000<br>GE_Close: Weight=0.000",
                    "Return: 33.795%<br>Volatility: 0.107<br>Sharpe Ratio: 3.145<br>CSCO_Close: Weight=0.000<br>GOOG_Close: Weight=0.114<br>KO_Close: Weight=0.522<br>PYPL_Close: Weight=0.364",
                    "Return: 24.314%<br>Volatility: 0.094<br>Sharpe Ratio: 2.589<br>GOOGL_Close: Weight=0.275<br>NEE_Close: Weight=0.620<br>AAPL_Close: Weight=0.104",
                    "Return: 55.587%<br>Volatility: 0.194<br>Sharpe Ratio: 2.859<br>PYPL_Close: Weight=0.774<br>TSLA_Close: Weight=0.056<br>TMO_Close: Weight=0.170",
                    "Return: 11.300%<br>Volatility: 0.169<br>Sharpe Ratio: 0.668<br>SRE_Close: Weight=0.000<br>VZ_Close: Weight=1.000<br>AMD_Close: Weight=0.000",
                    "Return: 28.894%<br>Volatility: 0.098<br>Sharpe Ratio: 2.952<br>TXN_Close: Weight=0.333<br>HON_Close: Weight=0.625<br>UA_Close: Weight=0.000<br>RMD_Close: Weight=0.042",
                    "Return: 30.334%<br>Volatility: 0.170<br>Sharpe Ratio: 1.782<br>META_Close: Weight=0.944<br>TSLA_Close: Weight=0.056<br>SNAP_Close: Weight=0.000",
                    "Return: 17.204%<br>Volatility: 0.131<br>Sharpe Ratio: 1.315<br>DIS_Close: Weight=0.000<br>BAC_Close: Weight=0.358<br>CVX_Close: Weight=0.642",
                    "Return: 12.156%<br>Volatility: 0.112<br>Sharpe Ratio: 1.081<br>AMD_Close: Weight=0.000<br>PG_Close: Weight=0.502<br>BAC_Close: Weight=0.498",
                    "Return: 23.657%<br>Volatility: 0.101<br>Sharpe Ratio: 2.348<br>TMO_Close: Weight=0.219<br>GIS_Close: Weight=0.000<br>WFC_Close: Weight=0.005<br>LMT_Close: Weight=0.776",
                    "Return: 25.432%<br>Volatility: 0.132<br>Sharpe Ratio: 1.927<br>MO_Close: Weight=0.000<br>BTI_Close: Weight=0.118<br>DHR_Close: Weight=0.198<br>INTC_Close: Weight=0.684",
                    "Return: 32.773%<br>Volatility: 0.110<br>Sharpe Ratio: 2.979<br>WMT_Close: Weight=0.462<br>SAP_Close: Weight=0.288<br>GOOGL_Close: Weight=0.250",
                    "Return: 25.423%<br>Volatility: 0.103<br>Sharpe Ratio: 2.467<br>LMT_Close: Weight=0.765<br>GE_Close: Weight=0.000<br>PFE_Close: Weight=0.076<br>NFLX_Close: Weight=0.159",
                    "Return: 60.464%<br>Volatility: 0.185<br>Sharpe Ratio: 3.261<br>SNAP_Close: Weight=0.000<br>BSX_Close: Weight=0.000<br>NKE_Close: Weight=0.068<br>CAT_Close: Weight=0.932",
                    "Return: 43.782%<br>Volatility: 0.162<br>Sharpe Ratio: 2.701<br>MDT_Close: Weight=0.000<br>AMZN_Close: Weight=0.344<br>REGN_Close: Weight=0.000<br>ISRG_Close: Weight=0.656",
                    "Return: 30.704%<br>Volatility: 0.120<br>Sharpe Ratio: 2.548<br>TSLA_Close: Weight=0.105<br>CSCO_Close: Weight=0.067<br>HD_Close: Weight=0.829<br>MRK_Close: Weight=0.000",
                    "Return: 20.049%<br>Volatility: 0.075<br>Sharpe Ratio: 2.686<br>BAC_Close: Weight=0.163<br>AEP_Close: Weight=0.397<br>GE_Close: Weight=0.000<br>LMT_Close: Weight=0.440",
                    "Return: 25.216%<br>Volatility: 0.097<br>Sharpe Ratio: 2.608<br>GOOGL_Close: Weight=0.213<br>BIIB_Close: Weight=0.000<br>DIS_Close: Weight=0.000<br>HON_Close: Weight=0.787",
                    "Return: 58.104%<br>Volatility: 0.177<br>Sharpe Ratio: 3.276<br>K_Close: Weight=0.000<br>CAT_Close: Weight=0.882<br>MDT_Close: Weight=0.000<br>ORCL_Close: Weight=0.118",
                    "Return: 29.500%<br>Volatility: 0.112<br>Sharpe Ratio: 2.642<br>INTC_Close: Weight=0.265<br>ACN_Close: Weight=0.502<br>META_Close: Weight=0.234",
                    "Return: 39.889%<br>Volatility: 0.132<br>Sharpe Ratio: 3.013<br>PEP_Close: Weight=0.482<br>AMGN_Close: Weight=0.000<br>PYPL_Close: Weight=0.518",
                    "Return: 16.866%<br>Volatility: 0.119<br>Sharpe Ratio: 1.415<br>IBM_Close: Weight=0.000<br>SYY_Close: Weight=0.579<br>ETN_Close: Weight=0.421<br>GE_Close: Weight=0.000",
                    "Return: 43.106%<br>Volatility: 0.196<br>Sharpe Ratio: 2.200<br>NVDA_Close: Weight=0.439<br>DHR_Close: Weight=0.191<br>CSCO_Close: Weight=0.371",
                    "Return: 19.603%<br>Volatility: 0.138<br>Sharpe Ratio: 1.422<br>BAC_Close: Weight=0.349<br>CSCO_Close: Weight=0.341<br>EW_Close: Weight=0.309",
                    "Return: 25.485%<br>Volatility: 0.155<br>Sharpe Ratio: 1.639<br>BIIB_Close: Weight=0.018<br>BSX_Close: Weight=0.000<br>GOOGL_Close: Weight=0.982<br>T_Close: Weight=0.000",
                    "Return: 29.805%<br>Volatility: 0.148<br>Sharpe Ratio: 2.008<br>META_Close: Weight=0.381<br>ETN_Close: Weight=0.229<br>AMZN_Close: Weight=0.390",
                    "Return: 22.272%<br>Volatility: 0.118<br>Sharpe Ratio: 1.894<br>SAP_Close: Weight=0.587<br>F_Close: Weight=0.022<br>PG_Close: Weight=0.034<br>AAPL_Close: Weight=0.357",
                    "Return: 8.949%<br>Volatility: 0.207<br>Sharpe Ratio: 0.431<br>BIIB_Close: Weight=0.914<br>IBM_Close: Weight=0.000<br>GIS_Close: Weight=0.086<br>AMD_Close: Weight=0.000",
                    "Return: 19.156%<br>Volatility: 0.095<br>Sharpe Ratio: 2.013<br>EMR_Close: Weight=0.192<br>CVX_Close: Weight=0.365<br>SYK_Close: Weight=0.443",
                    "Return: 12.849%<br>Volatility: 0.091<br>Sharpe Ratio: 1.406<br>EXC_Close: Weight=0.458<br>TSLA_Close: Weight=0.122<br>PFE_Close: Weight=0.419",
                    "Return: 34.510%<br>Volatility: 0.119<br>Sharpe Ratio: 2.893<br>MCD_Close: Weight=0.751<br>CRM_Close: Weight=0.249<br>WFC_Close: Weight=0.000",
                    "Return: 17.875%<br>Volatility: 0.174<br>Sharpe Ratio: 1.030<br>RMD_Close: Weight=0.836<br>GILD_Close: Weight=0.164<br>REGN_Close: Weight=0.000",
                    "Return: 24.365%<br>Volatility: 0.117<br>Sharpe Ratio: 2.075<br>ABT_Close: Weight=0.822<br>BTI_Close: Weight=0.017<br>XOM_Close: Weight=0.162",
                    "Return: 28.862%<br>Volatility: 0.118<br>Sharpe Ratio: 2.439<br>ETN_Close: Weight=0.128<br>HD_Close: Weight=0.830<br>PG_Close: Weight=0.042",
                    "Return: 20.074%<br>Volatility: 0.131<br>Sharpe Ratio: 1.529<br>RMD_Close: Weight=0.364<br>GE_Close: Weight=0.000<br>JPM_Close: Weight=0.636<br>BAC_Close: Weight=0.000",
                    "Return: 16.124%<br>Volatility: 0.083<br>Sharpe Ratio: 1.936<br>TSLA_Close: Weight=0.059<br>PEP_Close: Weight=0.595<br>EMR_Close: Weight=0.346",
                    "Return: 14.366%<br>Volatility: 0.076<br>Sharpe Ratio: 1.899<br>PEP_Close: Weight=0.522<br>DUK_Close: Weight=0.139<br>EMR_Close: Weight=0.338",
                    "Return: 22.924%<br>Volatility: 0.161<br>Sharpe Ratio: 1.425<br>NFLX_Close: Weight=0.500<br>BTI_Close: Weight=0.250<br>PG_Close: Weight=0.250",
                    "Return: 64.107%<br>Volatility: 0.197<br>Sharpe Ratio: 3.250<br>RDY_Close: Weight=0.000<br>CAT_Close: Weight=1.000<br>KR_Close: Weight=0.000",
                    "Return: 31.246%<br>Volatility: 0.092<br>Sharpe Ratio: 3.382<br>DIS_Close: Weight=0.099<br>AMZN_Close: Weight=0.076<br>MCD_Close: Weight=0.446<br>V_Close: Weight=0.379",
                    "Return: 32.537%<br>Volatility: 0.110<br>Sharpe Ratio: 2.948<br>WMT_Close: Weight=0.416<br>ACN_Close: Weight=0.391<br>BAC_Close: Weight=0.111<br>RMD_Close: Weight=0.082",
                    "Return: 18.811%<br>Volatility: 0.118<br>Sharpe Ratio: 1.600<br>JPM_Close: Weight=0.487<br>IBM_Close: Weight=0.000<br>NKE_Close: Weight=0.083<br>SYY_Close: Weight=0.429",
                    "Return: 60.084%<br>Volatility: 0.158<br>Sharpe Ratio: 3.791<br>BA_Close: Weight=0.737<br>RDY_Close: Weight=0.000<br>TSLA_Close: Weight=0.000<br>BABA_Close: Weight=0.263",
                    "Return: 21.253%<br>Volatility: 0.083<br>Sharpe Ratio: 2.559<br>MS_Close: Weight=0.246<br>NEE_Close: Weight=0.720<br>LLY_Close: Weight=0.034"
                  ],
                  "type": "scatter",
                  "x": [
                    0.15411613369428295,
                    0.08539431804543855,
                    0.16322154166689531,
                    0.10660383651313256,
                    0.1367935661437707,
                    0.14413340498410387,
                    0.08279729187047513,
                    0.09247685084986962,
                    0.19122207882254966,
                    0.09757396665065143,
                    0.14956638341212317,
                    0.14100980187162676,
                    0.11317307425351018,
                    0.11641646260665199,
                    0.08999888862392846,
                    0.11042916626583447,
                    0.08561176650677668,
                    0.12374898769565118,
                    0.11425515419276618,
                    0.1239908459078,
                    0.0954706799825852,
                    0.11486157700224105,
                    0.14031978497448336,
                    0.10137127423808981,
                    0.13087581645364435,
                    0.17759001898487292,
                    0.2754259142781473,
                    0.12302706706448284,
                    0.13346607369256805,
                    0.12208371565441195,
                    0.07574455634700827,
                    0.08928155639047852,
                    0.18018233094810557,
                    0.11559281163377552,
                    0.11336583872024361,
                    0.22395563929860196,
                    0.18340248073605372,
                    0.08358994956025906,
                    0.08177654066734649,
                    0.13083543247737978,
                    0.11395226797485666,
                    0.09554598315084323,
                    0.11300600784205395,
                    0.19685094297143954,
                    0.10437750358952572,
                    0.1364383602479197,
                    0.1294618617876392,
                    0.1236891058572593,
                    0.13543874892223504,
                    0.16994197525619648,
                    0.1163760623562761,
                    0.12468487000006302,
                    0.153874714724394,
                    0.0882531407628096,
                    0.0905411200892676,
                    0.1345105680717837,
                    0.10061473990419012,
                    0.13014062087274975,
                    0.11125519472438188,
                    0.09149443630550215,
                    0.1094214257397915,
                    0.12021471266944148,
                    0.13234285372517254,
                    0.11225240983562945,
                    0.13970646937032055,
                    0.1202368926585031,
                    0.09686252186363821,
                    0.0998967133745057,
                    0.10285172465598215,
                    0.2272494072547486,
                    0.12306025489583736,
                    0.21508926243248108,
                    0.15288284914675537,
                    0.10966557190956255,
                    0.17430323159855302,
                    0.1792922718471041,
                    0.09890178741854093,
                    0.16031453057744183,
                    0.12371640770518114,
                    0.10222638405475704,
                    0.12026863366840303,
                    0.09664999316721146,
                    0.0973993727804611,
                    0.09390439948308293,
                    0.13596216751835122,
                    0.10081239661473332,
                    0.11252585780568831,
                    0.12963621845391965,
                    0.10973465727052921,
                    0.11294204439651716,
                    0.10900512261208906,
                    0.11181703216376802,
                    0.13038177082872493,
                    0.12214716033950533,
                    0.07299732484022446,
                    0.08591789816375495,
                    0.12251639471790887,
                    0.19723785118200657,
                    0.10169606721190717,
                    0.17086257060251323,
                    0.11241850046719418,
                    0.1065682905931739,
                    0.11432054943221619,
                    0.09392758598626323,
                    0.1599465321124892,
                    0.14835301715275181,
                    0.12545759740918236,
                    0.14250075040397955,
                    0.09107168035949224,
                    0.15431418916032477,
                    0.14989470512938233,
                    0.16926684079497215,
                    0.190227596874128,
                    0.19487718019546324,
                    0.1559434812903022,
                    0.11030060233132957,
                    0.08083663349517096,
                    0.16225516358219874,
                    0.15430735715377272,
                    0.20420140194632516,
                    0.10364910646643204,
                    0.11862490721554823,
                    0.11215655120896029,
                    0.09777103679492423,
                    0.17709235512614305,
                    0.09213306971662269,
                    0.1785572179818503,
                    0.13636615246228018,
                    0.12962592580146237,
                    0.12603562471248567,
                    0.10808253241085355,
                    0.11557416794210135,
                    0.09096991282822169,
                    0.11063460993906656,
                    0.11395376065624367,
                    0.09013477920457365,
                    0.11130290220194687,
                    0.08912383295017724,
                    0.11766639087612127,
                    0.10056858202301786,
                    0.1561559189246055,
                    0.1096570910120838,
                    0.14425868500550826,
                    0.11999138176872243,
                    0.11103322303034693,
                    0.11008430155348614,
                    0.09326810228929895,
                    0.19619708522135298,
                    0.12824813771376453,
                    0.17926370287834253,
                    0.1972378511820167,
                    0.10951146319415649,
                    0.11327042373911503,
                    0.09129298000120303,
                    0.08818569969263265,
                    0.1166303484490598,
                    0.1893222319828066,
                    0.14821044020324228,
                    0.1364632441526524,
                    0.19151068031079987,
                    0.11007148051968163,
                    0.11504577567950282,
                    0.16578386832462358,
                    0.11424511783392832,
                    0.22566076500998644,
                    0.15927571631655985,
                    0.1126163144288309,
                    0.09701105518768476,
                    0.09433579267062334,
                    0.13127890496581954,
                    0.15922160284047995,
                    0.09390618143059656,
                    0.09214358368588789,
                    0.1283891367091099,
                    0.10262421139095781,
                    0.082507816051033,
                    0.11139603688864352,
                    0.14475838622844514,
                    0.08882984382008151,
                    0.15971764063725707,
                    0.08955996217783732,
                    0.14839639832927673,
                    0.11877511405893103,
                    0.09127536309249407,
                    0.1413460381785034,
                    0.13442165947774398,
                    0.1371117318203846,
                    0.15897964672369144,
                    0.13153815461892673,
                    0.14449220892011017,
                    0.1326032233689083,
                    0.10175547688622578,
                    0.1785572179818505,
                    0.3209814199045418,
                    0.14924241110928904,
                    0.17529781730553856,
                    0.14330270456291228,
                    0.15892666333758357,
                    0.1032046648624247,
                    0.13646215268209175,
                    0.16891439997518584,
                    0.15594348129030206,
                    0.08287318767673604,
                    0.08269162329908487,
                    0.09040906178203305,
                    0.14104525035930696,
                    0.13411436558233622,
                    0.1287277707303415,
                    0.08979568857554508,
                    0.10192988507293278,
                    0.15131920718948988,
                    0.1029608516549261,
                    0.17855371987643193,
                    0.09096289620951903,
                    0.12791125025560196,
                    0.1020239698626631,
                    0.08591798273742215,
                    0.16177600201878808,
                    0.09967478135682545,
                    0.10123077074011472,
                    0.08997557607677156,
                    0.08615009073631424,
                    0.12340439638256388,
                    0.11013715035853854,
                    0.20125194704693083,
                    0.13501919467281115,
                    0.16819840325184,
                    0.12691089678356712,
                    0.13567879967219168,
                    0.1753816198451312,
                    0.11171056311146577,
                    0.10856002823719953,
                    0.1587481883433506,
                    0.13127953962120587,
                    0.0824108487897697,
                    0.10959777500867088,
                    0.12693041623701573,
                    0.11467163945763346,
                    0.1470955993296803,
                    0.10986105748116033,
                    0.15594348129030225,
                    0.10572367284250243,
                    0.10006351195567983,
                    0.13329694304272346,
                    0.10790684029847086,
                    0.08283439662046743,
                    0.1239934035344501,
                    0.1541390840380974,
                    0.10965986098975176,
                    0.10556377222072055,
                    0.11965366303299912,
                    0.11923913762742419,
                    0.10515372791443046,
                    0.1390713082821381,
                    0.09477491745110815,
                    0.16147234293859924,
                    0.1505794732966452,
                    0.12129527703748319,
                    0.09815299696247028,
                    0.19503562767750277,
                    0.17577943020805203,
                    0.1651580594703253,
                    0.13832841941134122,
                    0.12916857084100472,
                    0.11552657219628999,
                    0.13583208068505892,
                    0.10184938985659123,
                    0.08971457879593207,
                    0.15264471692946785,
                    0.12275655031714705,
                    0.17275753547073375,
                    0.08358660670832631,
                    0.25008184712358,
                    0.11712057859106374,
                    0.13255985917606095,
                    0.15950603761663112,
                    0.16760310418393598,
                    0.1340093492321419,
                    0.12946310762374785,
                    0.1726833550784518,
                    0.155484267851805,
                    0.14699579199596383,
                    0.11848236078198143,
                    0.11941757453848535,
                    0.12107458440198247,
                    0.11998535394564697,
                    0.11854322567059944,
                    0.12350160577807119,
                    0.09522491940672005,
                    0.10151404548639723,
                    0.14059629919403122,
                    0.16128398439231156,
                    0.13552822733160053,
                    0.14204944899300734,
                    0.11839662176513144,
                    0.12516283528456812,
                    0.13502393086061645,
                    0.22771576065800483,
                    0.12306271285367969,
                    0.08824610719514486,
                    0.11319046549127634,
                    0.14695536465820488,
                    0.08637090303896418,
                    0.0997941971791429,
                    0.17430323159855415,
                    0.14176581480445244,
                    0.09422936628016414,
                    0.12481381045194091,
                    0.11893249158956454,
                    0.12424150525713218,
                    0.11445749208455834,
                    0.16312275457192532,
                    0.10800477501309634,
                    0.17515534691109827,
                    0.07569506154824805,
                    0.12769814836212184,
                    0.12926403240206652,
                    0.20273809074748453,
                    0.09036740799921189,
                    0.139670364988318,
                    0.12540215531879126,
                    0.11663633346613998,
                    0.11739602077625712,
                    0.12314147292850276,
                    0.11265271784185527,
                    0.20419344676451243,
                    0.11505684740791927,
                    0.16187680381374459,
                    0.12550362642583113,
                    0.11569748162666518,
                    0.110931667149561,
                    0.10016893657119949,
                    0.20076969644413956,
                    0.0904108665508561,
                    0.10368835046632931,
                    0.18092001748815392,
                    0.0776303428329487,
                    0.13772142774842414,
                    0.14238306159057412,
                    0.12159037678876787,
                    0.09422976033211387,
                    0.08126403383245892,
                    0.1474891947420236,
                    0.12540215531951954,
                    0.14264275437986332,
                    0.2156294466663855,
                    0.13390648867643026,
                    0.1426940826053493,
                    0.163485057285727,
                    0.107350084942661,
                    0.10136496374694837,
                    0.12999809908292373,
                    0.0775854061328983,
                    0.10745725355928756,
                    0.1666000429864977,
                    0.10207722575810955,
                    0.08086777948688009,
                    0.14035157732359066,
                    0.15965881107285934,
                    0.12307274549769646,
                    0.11759033384179769,
                    0.07901399225840457,
                    0.10742324140116379,
                    0.14593035827878068,
                    0.10386405339422189,
                    0.13729404550525823,
                    0.10697541531650272,
                    0.15165619506596242,
                    0.14375741385262122,
                    0.09763914064620019,
                    0.13202621999459024,
                    0.1427406913745095,
                    0.181438748551067,
                    0.10317803666483107,
                    0.10502141362359138,
                    0.12512398112580378,
                    0.12469140793379345,
                    0.09623922083063513,
                    0.1171557515516231,
                    0.12179822143289279,
                    0.10656491040205286,
                    0.06982671103171646,
                    0.1127034569609594,
                    0.10129394395221736,
                    0.1079068402984713,
                    0.14112650118263736,
                    0.10770106465491476,
                    0.07099935159604674,
                    0.08218135666657883,
                    0.10307366313732637,
                    0.10750521409625535,
                    0.11833396412548322,
                    0.12640380158439765,
                    0.11044762912398261,
                    0.1274835124195731,
                    0.13864297508882895,
                    0.13897632968857787,
                    0.22710792635071347,
                    0.11907283564495506,
                    0.10963863835388643,
                    0.14017666746722007,
                    0.11370025352819439,
                    0.1324439993357821,
                    0.1254021553195204,
                    0.09359660427822711,
                    0.10469445800725824,
                    0.23137124720696392,
                    0.18932223198280654,
                    0.20729176000751331,
                    0.17206002196530457,
                    0.15536016422515542,
                    0.11872007424146096,
                    0.16303863069463617,
                    0.12369535720548265,
                    0.12580281986979014,
                    0.11168390680698292,
                    0.17862464240835013,
                    0.10245922561392304,
                    0.10411917714110352,
                    0.11723599737238821,
                    0.11145735311454856,
                    0.07502849626162407,
                    0.17597287115317561,
                    0.07124578433965502,
                    0.10246809860937661,
                    0.13184049490893288,
                    0.08739789785346491,
                    0.11263970459785755,
                    0.17862464240835368,
                    0.10905141959562176,
                    0.10120014431740484,
                    0.12295468689277723,
                    0.34009869374781515,
                    0.11662422876050223,
                    0.08826037030081745,
                    0.10883242681720448,
                    0.12011926892425363,
                    0.09967159198485444,
                    0.17910256422372836,
                    0.13927740579277795,
                    0.13468947334020173,
                    0.1743436754399265,
                    0.1140445397075801,
                    0.14990320931217624,
                    0.10870998722646703,
                    0.08750054525223493,
                    0.09965128878391942,
                    0.1106424120233301,
                    0.16267457467628488,
                    0.10529375186994369,
                    0.14309651172651208,
                    0.12187554656202784,
                    0.19031695725573358,
                    0.08186155673400074,
                    0.12708990974707948,
                    0.1581827626993689,
                    0.1418634771147793,
                    0.16493191555874645,
                    0.07805527677824085,
                    0.09819002696309348,
                    0.11013057929121499,
                    0.0977329286955429,
                    0.1070881234726923,
                    0.16718222446219766,
                    0.17863314191306912,
                    0.1410002075222965,
                    0.191945904265025,
                    0.11770381850443432,
                    0.15002871242551521,
                    0.08104464007198421,
                    0.15176009867818177,
                    0.12562401467742082,
                    0.14694894699501898,
                    0.1646573410490047,
                    0.13762684709263362,
                    0.14862697522853602,
                    0.11290880419606211,
                    0.12767853079760624,
                    0.12561271536784846,
                    0.16962266333789833,
                    0.12772327851127707,
                    0.08710274376700498,
                    0.09239910843703396,
                    0.10468193850792921,
                    0.13544147108736018,
                    0.22854631877015696,
                    0.1367421741955533,
                    0.26239404534857436,
                    0.09367457772565899,
                    0.09466141785835662,
                    0.10586438813612911,
                    0.10805624062725076,
                    0.1137835052899889,
                    0.11119968483533434,
                    0.2076849405960974,
                    0.11979123897650241,
                    0.0916141820815111,
                    0.10474299016875521,
                    0.13642829415451643,
                    0.0901646189971412,
                    0.08982150737508156,
                    0.138760592428534,
                    0.13646324415265254,
                    0.08906402745923263,
                    0.16418720085298155,
                    0.09870472990366216,
                    0.07244214464453312,
                    0.08370741921328516,
                    0.10921204947445973,
                    0.09359157844524753,
                    0.10008184585882819,
                    0.1251781179820387,
                    0.17076600517343124,
                    0.14635257275271926,
                    0.1133745840759972,
                    0.1274776384918342,
                    0.14670413110845146,
                    0.16926684079496834,
                    0.1351190401496248,
                    0.09137526362883439,
                    0.11336054640053285,
                    0.13067137352280106,
                    0.11585171224671573,
                    0.09071534164377054,
                    0.13734950999355486,
                    0.1496258338617444,
                    0.10432371221570741,
                    0.13276745212627097,
                    0.117598191442545,
                    0.12029246468447805,
                    0.13223459583088323,
                    0.11322925739922506,
                    0.10034396550457585,
                    0.2058225084262611,
                    0.13514087452764462,
                    0.11545393143260234,
                    0.1610314010660155,
                    0.18914076531558657,
                    0.21045727269113956,
                    0.14309601730399515,
                    0.14349736470796864,
                    0.15941669645038126,
                    0.09397575587968286,
                    0.10788214926508809,
                    0.12040650987146632,
                    0.16267457467628485,
                    0.1641168405407716,
                    0.14895416314680895,
                    0.09207917156518945,
                    0.1138677732479485,
                    0.09975408021418183,
                    0.08241397991432518,
                    0.15493837092162155,
                    0.11662200695863746,
                    0.08315800757574401,
                    0.124235108162289,
                    0.10082304958699284,
                    0.13341365153833326,
                    0.1146363140837472,
                    0.3522514254680742,
                    0.11059993996944976,
                    0.14377170945039094,
                    0.1552744410979627,
                    0.14237385495407692,
                    0.08746602429828994,
                    0.0980597688243951,
                    0.12545305893451886,
                    0.17371846156090284,
                    0.10360655338391274,
                    0.16147234293859924,
                    0.09839005572330446,
                    0.09891188885904176,
                    0.11305522035333618,
                    0.13646215268209175,
                    0.17517833479383454,
                    0.1656086495460723,
                    0.19122207882255007,
                    0.08730154578871706,
                    0.12264508869461188,
                    0.09633981845304895,
                    0.11649050130945575,
                    0.11084578394850252,
                    0.10855386185030144,
                    0.1252556246648428,
                    0.11177581156309215,
                    0.11874874948943497,
                    0.1052151664500414,
                    0.0911706943803258,
                    0.11769152083661438,
                    0.13044449827751317,
                    0.1239883240073,
                    0.12230327410305511,
                    0.10850334769127462,
                    0.13284292307643156,
                    0.13253474193587134,
                    0.14413340498410385,
                    0.0863600909317925,
                    0.09552519106930062,
                    0.13214253687640795,
                    0.15460358327813994,
                    0.11426215107839637,
                    0.11743083983009088,
                    0.12648190511405819,
                    0.17370069650210276,
                    0.08266412435009723,
                    0.11151289707399704,
                    0.14378006406531205,
                    0.164749529974887,
                    0.11928338651315971,
                    0.13083991778877233,
                    0.13359321888609493,
                    0.11211523569366755,
                    0.1561559189246055,
                    0.16494595372221055,
                    0.12503301187506172,
                    0.17559586593336046,
                    0.15165619506626077,
                    0.09952238487403939,
                    0.1231124752563493,
                    0.11313414484695757,
                    0.13618000932051003,
                    0.10630189145508166,
                    0.15894216309193676,
                    0.13583301532443062,
                    0.10053063979285064,
                    0.16286225280390118,
                    0.14137947840317297,
                    0.1610049946712074,
                    0.09126687585150658,
                    0.09887065893582063,
                    0.10455850520641216,
                    0.10402678614641428,
                    0.13422864137086812,
                    0.13867456816462242,
                    0.08324699852082298,
                    0.11033355910934996,
                    0.1447030916987596,
                    0.09201867485562261,
                    0.1578755232628982,
                    0.10496986365874297,
                    0.13875008127562538,
                    0.12450924631361547,
                    0.13596563520418378,
                    0.17137793500201695,
                    0.12912613514878402,
                    0.1085032418099338,
                    0.12941309765365794,
                    0.11672118142099228,
                    0.08768799972863078,
                    0.130948992586693,
                    0.15565383451959355,
                    0.19342409667182894,
                    0.1539611804500457,
                    0.12819385357738927,
                    0.14196729990624032,
                    0.117806441724767,
                    0.16623316003295965,
                    0.2035851101199369,
                    0.07165210935325303,
                    0.1657561198819694,
                    0.08732329534055241,
                    0.15221299810460184,
                    0.10993372627325045,
                    0.09460518753599126,
                    0.12182914609427839,
                    0.10261566725305057,
                    0.10222482154375223,
                    0.13330962248862877,
                    0.09491559854303475,
                    0.1785572179818505,
                    0.09108715895410785,
                    0.1527101775980228,
                    0.16623316003268193,
                    0.13491703359642276,
                    0.10267291632720765,
                    0.12015807666777091,
                    0.11687253741277674,
                    0.18097179206093408,
                    0.13297893458376805,
                    0.11250637016449383,
                    0.18528277237629476,
                    0.10445319811405897,
                    0.1441334049840999,
                    0.09540702214697999,
                    0.1095030153555201,
                    0.12978787875730657,
                    0.13573040899131922,
                    0.10685952626419366,
                    0.08252449012909727,
                    0.10790684029847124,
                    0.12125922837442507,
                    0.13787010933872257,
                    0.16995721947772222,
                    0.1266433504546079,
                    0.09039462399999641,
                    0.09981243745940128,
                    0.15328801684580048,
                    0.13725306032908077,
                    0.13574308664003712,
                    0.14413340498410382,
                    0.10842244147463767,
                    0.16736022408732887,
                    0.14738262722836817,
                    0.0920371266615123,
                    0.2660013152099677,
                    0.15484184543668855,
                    0.09325689514314535,
                    0.23564334819429325,
                    0.11632606623039765,
                    0.125194408651117,
                    0.11565575643467449,
                    0.10430750710742763,
                    0.1027770455697059,
                    0.1107854139482639,
                    0.1528151429588389,
                    0.11887728900547816,
                    0.10343002380857591,
                    0.1378317489759466,
                    0.11828213927045775,
                    0.13794825365615507,
                    0.12745395089133477,
                    0.18859295896808245,
                    0.13993207186028828,
                    0.146630552744827,
                    0.15827757556875224,
                    0.08886682630809084,
                    0.08462717177784901,
                    0.17559586593335982,
                    0.12851281733463718,
                    0.12182593823409311,
                    0.17766376734719258,
                    0.12425702723089971,
                    0.08689436345082525,
                    0.1785572179818505,
                    0.10019843809319623,
                    0.10308535866754255,
                    0.09592307800781376,
                    0.16035532852220122,
                    0.08643141214741772,
                    0.11546538728820814,
                    0.15775768034384455,
                    0.07791823014676824,
                    0.14407188255700273,
                    0.08649377403140933,
                    0.1855484596503429,
                    0.1129806299962279,
                    0.1595060376166311,
                    0.0816984148882925,
                    0.15187084069912934,
                    0.11466180284500367,
                    0.11435702266722089,
                    0.11977104227820529,
                    0.15162323723195104,
                    0.11632971128569856,
                    0.11559366199822203,
                    0.128380059619823,
                    0.12885175878331787,
                    0.11507782681392423,
                    0.07337741467119797,
                    0.12003327180175852,
                    0.14282870151865698,
                    0.13228836242798625,
                    0.13967036498831775,
                    0.10470221464991297,
                    0.14125277474148434,
                    0.16515636141282222,
                    0.13783288772622787,
                    0.10367479090684785,
                    0.13015494390973925,
                    0.12133543523542262,
                    0.10743468521517927,
                    0.17180803198588554,
                    0.08813856428593406,
                    0.1042767100275735,
                    0.11495494772291028,
                    0.11801746314267812,
                    0.13143305353302545,
                    0.12655905095029546,
                    0.11519901245466566,
                    0.06848391082928577,
                    0.19285550210810773,
                    0.134260132773073,
                    0.13952515464110846,
                    0.11275128206983756,
                    0.14413340498410385,
                    0.1146964399240247,
                    0.20936602450850675,
                    0.10940034398256249,
                    0.12637387371700534,
                    0.12157003024727132,
                    0.15369659815151226,
                    0.09082250120766217,
                    0.12866458726857932,
                    0.11641353358343837,
                    0.08602644440003256,
                    0.12466417763224008,
                    0.0963080255412702,
                    0.15693876810340365,
                    0.07992270620775316,
                    0.10831852866173874,
                    0.19809249235571255,
                    0.16973808673160434,
                    0.13602155567680968,
                    0.0815811539233696,
                    0.12144495958918416,
                    0.17064989266093222,
                    0.13476772724127017,
                    0.12346358082622994,
                    0.13947791497089626,
                    0.10339451769733893,
                    0.09903687892693001,
                    0.09094641749788532,
                    0.14500581742186952,
                    0.13713705506504414,
                    0.16688600641756504,
                    0.13960620820513664,
                    0.11899178615469698,
                    0.11114619248025341,
                    0.10151121677049033,
                    0.147544697393401,
                    0.17862464240835324,
                    0.1484042100477107,
                    0.12881658794752748,
                    0.39371093484792186,
                    0.15950603761663112,
                    0.09287963503400269,
                    0.13523427181735787,
                    0.13147824757270582,
                    0.1410098018716265,
                    0.12066404234753832,
                    0.12058685650483,
                    0.12770385265577996,
                    0.18625953428031414,
                    0.11272368092020706,
                    0.11246418846537853,
                    0.1594850539084052,
                    0.13145589428769527,
                    0.12442825099389866,
                    0.10893794013979027,
                    0.1615465464300027,
                    0.20986345308684057,
                    0.12966458511835902,
                    0.10989977879743208,
                    0.12012870687517646,
                    0.1587680143827906,
                    0.07472702549764652,
                    0.17759204329787742,
                    0.10447575394378152,
                    0.08738075988682353,
                    0.10114710229608775,
                    0.10597513578556704,
                    0.08815949928563861,
                    0.17987170397379967,
                    0.1893554544337237,
                    0.20862559775529146,
                    0.094952925619813,
                    0.12541397152901057,
                    0.08198396733636353,
                    0.15447545800416723,
                    0.07638507986364573,
                    0.11464143968516748,
                    0.09200975581683554,
                    0.10527185552844341,
                    0.08286320394367662,
                    0.08990403015108024,
                    0.11045654874309283,
                    0.22781174361985862,
                    0.08241112450525148,
                    0.1026818394902314,
                    0.08930151448672774,
                    0.17459148548559747,
                    0.0989080867555182,
                    0.10658644407130818,
                    0.38461079403811105,
                    0.10931385072643801,
                    0.12607486902998502,
                    0.17603560538649526,
                    0.09614692545777279,
                    0.19098436154243523,
                    0.1492484562611288,
                    0.12690638623541475,
                    0.1242062551355625,
                    0.13079200467474272,
                    0.12081081206824455,
                    0.12838913670910887,
                    0.11337830950082486,
                    0.10521414874155785,
                    0.19964309481218778,
                    0.10913467485464826,
                    0.10040766672114858,
                    0.15364013489442058,
                    0.09105867283062649,
                    0.09866208344608672,
                    0.14666946260951477,
                    0.1319615118711047,
                    0.1036735900182496,
                    0.09338753794293317,
                    0.09329278845510193,
                    0.14602026269956703,
                    0.10972252971759269,
                    0.18195355495067006,
                    0.08831987762753206,
                    0.07874186838347463,
                    0.15268002196767624,
                    0.14676972391576784,
                    0.15045905204650736,
                    0.39371093484792186,
                    0.10347616809254034,
                    0.10205195560316885,
                    0.09842706237037678,
                    0.09163089869099661,
                    0.15094482259859668,
                    0.11589478166757519,
                    0.11848075162436511,
                    0.12953303145002049,
                    0.14985453766706885,
                    0.17224477103587504,
                    0.19278638687227087,
                    0.15460073613780115,
                    0.1378487463293035,
                    0.09222622522076548,
                    0.11647415209401317,
                    0.13248371234563688,
                    0.07854653007777605,
                    0.09414513110576432,
                    0.10344537321431799,
                    0.11851546145028256,
                    0.1313863272065809,
                    0.11690914335936567,
                    0.08886373562231757,
                    0.1743436789266707,
                    0.11357448362720472,
                    0.09519224830655441,
                    0.11462904132312521,
                    0.0864158186046615,
                    0.1377362360898908,
                    0.11547104952374848,
                    0.08823546897273332,
                    0.11281516189991332,
                    0.1330495147671339,
                    0.10639536154930491,
                    0.09900449858171444,
                    0.11841474594392636,
                    0.09616520811968093,
                    0.10877704027530112,
                    0.16439942324939189,
                    0.14131755225451267,
                    0.12791993216054498,
                    0.13646215268209172,
                    0.15075040599906425,
                    0.10323295782163311,
                    0.08257416621328527,
                    0.1103859294094896,
                    0.2119799916694845,
                    0.09959862258033492,
                    0.10337949508748942,
                    0.19626068387426227,
                    0.1074491143966123,
                    0.09393174664470173,
                    0.19441512918096088,
                    0.1692668407949716,
                    0.097885770397248,
                    0.17018940925729845,
                    0.13084022159841738,
                    0.11243624571843754,
                    0.10076860010790245,
                    0.13200564789540348,
                    0.10999798896359149,
                    0.10303508872021602,
                    0.18538983479334223,
                    0.16210444594377899,
                    0.12048604202173317,
                    0.07463095509450042,
                    0.0966722295790907,
                    0.17738447798457455,
                    0.11166484043410008,
                    0.1324039473489071,
                    0.1191675329380652,
                    0.19590135603671668,
                    0.13787599837578635,
                    0.1554916730535652,
                    0.14846615296719182,
                    0.11756919905288782,
                    0.20742508336789553,
                    0.0951455553114238,
                    0.09136431871793663,
                    0.11930546370363015,
                    0.1735705535677048,
                    0.11741138505650862,
                    0.11834950728869366,
                    0.13131417772431417,
                    0.0833026448774907,
                    0.07566795163462853,
                    0.16091078813960852,
                    0.19723785118201592,
                    0.09240039872076067,
                    0.11035872940054431,
                    0.11753416931887906,
                    0.15848674929825143,
                    0.08304440834828367
                  ],
                  "y": [
                    0.35677505426462175,
                    0.2124226087697915,
                    0.5015874080739613,
                    0.16837724521564856,
                    0.2896565485095725,
                    0.37499947810814266,
                    0.24020831379805238,
                    0.2651146039387931,
                    0.4658737812566091,
                    0.2751664593414297,
                    0.375400298671776,
                    0.3490420814366282,
                    0.3345597724037845,
                    0.20479622477629855,
                    0.24916403989228797,
                    0.24679062793829862,
                    0.2456691534965867,
                    0.38274827366794884,
                    0.2177147290053944,
                    0.32699412400113925,
                    0.30461028440698273,
                    0.3804595081797063,
                    0.40980925351453606,
                    0.12630048986169964,
                    0.315181611309905,
                    0.44268347478421244,
                    0.46121325424515847,
                    0.3154700698228539,
                    0.4848543234964382,
                    0.46424720166002265,
                    0.17010493842518631,
                    0.2145740991396164,
                    0.5568061850890542,
                    0.4404035196817441,
                    0.2266439602621567,
                    0.4879830350148613,
                    0.1885534761348333,
                    0.2784126581817513,
                    0.1604664096330361,
                    0.4518842976991241,
                    0.439149088542432,
                    0.3106328774688025,
                    0.16249155508372806,
                    0.5772750632833439,
                    0.3171914441972492,
                    0.3741316137025082,
                    0.3191346528787591,
                    0.3814781335807179,
                    0.3367790490182857,
                    0.19735539565886043,
                    0.15234358454299912,
                    0.3835235569632015,
                    0.3775666199937347,
                    0.13084755226288353,
                    0.31047998940813687,
                    0.3544611815510733,
                    0.17822369321102557,
                    0.4396550424764059,
                    0.22049613114756056,
                    0.3164246095312224,
                    0.2697635797309588,
                    0.24748054705209438,
                    0.40215004697756074,
                    0.358960155838018,
                    -0.0016474626480419753,
                    0.4118596277685826,
                    0.24157149697969837,
                    0.2468040005675805,
                    0.04883614389104854,
                    0.4964650302731161,
                    0.22239866728598912,
                    0.3567314801888536,
                    0.18277437849352499,
                    0.30390705099987203,
                    0.5954074892429084,
                    0.5859929635004388,
                    0.20060258432303885,
                    0.40700521708507326,
                    0.19551618914598545,
                    0.3318384594303551,
                    0.25825545076508516,
                    0.25868674883639475,
                    0.14041377130734897,
                    0.2158014799979841,
                    0.2581732381714379,
                    0.24888044416735103,
                    0.24223788686110792,
                    0.47037896441289634,
                    0.2582871207931279,
                    0.2882813627561341,
                    0.23930736516400417,
                    0.22839366293693938,
                    0.21286500116152293,
                    0.4503298455006387,
                    0.20130479522336134,
                    0.21530225623347526,
                    0.2991993253243614,
                    0.6410730287882033,
                    0.31444571534290605,
                    0.3377895669975568,
                    0.2530912797463227,
                    0.31138327021780776,
                    0.5490093182936704,
                    0.3275955013764111,
                    0.41237548797097345,
                    0.08110633787637703,
                    0.3336416322741699,
                    0.3381980189766586,
                    0.20066364873763634,
                    0.2750512346855313,
                    0.4550469925054986,
                    0.11299648182744511,
                    0.42179664706227293,
                    0.4647205638454668,
                    0.25484216226795303,
                    0.23772278621366735,
                    0.22695875338286403,
                    0.6454323952283993,
                    0.4748559036471733,
                    0.19901684079924856,
                    0.205223225646414,
                    0.1598590087284595,
                    0.29009747853808376,
                    0.27941524254842615,
                    0.3992808528354059,
                    0.3288769935678558,
                    0.4511787191227776,
                    0.41842539532536643,
                    0.2936523272375672,
                    0.3117552873626357,
                    0.3250263239272568,
                    0.09785334306899472,
                    0.18432392917003254,
                    0.2920367714488869,
                    0.28411063997525565,
                    0.23347524500436265,
                    0.07254375027931301,
                    0.07023551993208016,
                    0.4119003104221168,
                    0.3341067173051242,
                    0.19920205727792498,
                    0.20798383810378768,
                    0.44332051942572515,
                    0.36247158185713435,
                    0.2508436466527174,
                    0.296324574504374,
                    0.3108826422762371,
                    0.16830916514316033,
                    0.32779230222422195,
                    0.43753623763994337,
                    0.641073028788268,
                    0.3599114777807653,
                    0.32093118890797356,
                    0.33628129020506836,
                    0.24951163603861193,
                    0.2550299763172772,
                    0.14706129892629827,
                    0.3855356683848329,
                    0.37496954108934033,
                    0.3491708797793517,
                    0.27717507070027414,
                    0.19375875020087485,
                    0.3668496019268704,
                    0.2917168146880821,
                    0.10695141776333565,
                    0.4452218224143964,
                    0.2861496645066021,
                    0.280450893202197,
                    0.2750982910482417,
                    0.13972868246523143,
                    0.30586286423940623,
                    0.2960516223407459,
                    0.24507471706053616,
                    0.09066651966973671,
                    0.16740938076147643,
                    0.18147199451285173,
                    0.3429674316275729,
                    0.2552355371711848,
                    0.19761152047412228,
                    0.16581848979027727,
                    0.2155000502598093,
                    0.26551388116251184,
                    0.2975135825083096,
                    0.24082203703484242,
                    0.3679786659365996,
                    0.415721246798491,
                    0.07649769328239045,
                    0.5018667313496732,
                    0.35527146313596314,
                    0.3781668583069678,
                    0.1877911756312139,
                    0.30473838854460544,
                    0.4511787191227781,
                    0.2338633830439142,
                    0.5594512693994895,
                    0.4792253983047358,
                    0.16599296393135168,
                    0.3169355089237012,
                    0.36577355861759653,
                    0.16980329003774539,
                    0.24109465552460307,
                    0.25484216226795275,
                    0.16671618021620643,
                    0.18778533237389328,
                    0.21882040968409655,
                    0.32889915716518936,
                    0.21848694600513308,
                    0.2196585444473497,
                    0.253103513527175,
                    0.1115177809909948,
                    0.29008448763023004,
                    0.26447691602971773,
                    0.4289043068068573,
                    0.2219901575755256,
                    0.17628027130728577,
                    0.11614348496275602,
                    0.3031821403452897,
                    0.15914406175263046,
                    0.18148837181538197,
                    0.29125369751025637,
                    0.11821337042427829,
                    0.2729820796944397,
                    0.45335267596736484,
                    0.16909061768165667,
                    0.45947570807962435,
                    0.19811137303412973,
                    0.4898188719976268,
                    0.30759451676002736,
                    0.27871456663216476,
                    0.44334029939493325,
                    0.2086757891990203,
                    0.34690749201394555,
                    0.47370799478779957,
                    0.19505256492429007,
                    0.20474735405925074,
                    0.32981393539622395,
                    0.4978353531026939,
                    0.31631520215918363,
                    0.34532890517200904,
                    0.310000419889722,
                    0.25484216226795303,
                    0.13178895171882737,
                    0.3196401923747835,
                    0.4752749309700649,
                    0.09217432565864514,
                    0.15628923699301037,
                    0.1370676747347207,
                    0.3568281227153414,
                    0.23085065947456299,
                    0.3144323176623864,
                    0.1953552827936789,
                    0.3240882723148164,
                    0.26501849848286135,
                    0.4806072545884368,
                    0.14471944326186578,
                    0.3714224274624838,
                    0.46445843800647096,
                    0.2493515070949444,
                    0.38477497922295906,
                    0.5566212588819921,
                    0.4284317715431578,
                    0.4951294901533039,
                    0.3569698143057607,
                    0.26233572173636616,
                    0.4651557353747078,
                    0.32560473728954564,
                    0.1324554458337232,
                    0.2730020027327851,
                    0.47135031316724113,
                    0.30341251725842355,
                    0.4375746382075217,
                    0.27840152511078237,
                    0.40908274696592306,
                    0.31550891928927954,
                    0.35008985355479677,
                    0.2771117309915399,
                    0.23877701767155585,
                    0.456968653776195,
                    0.23308671405326736,
                    0.3058401770103717,
                    0.21732018113551907,
                    0.35222884514248254,
                    0.3282368251539857,
                    0.29909576966681745,
                    0.13682823618535905,
                    0.36245336811838036,
                    0.32265304765147185,
                    0.44641648613538576,
                    0.24858165003313037,
                    0.14736549378989844,
                    0.1549341756309425,
                    0.19746600456846378,
                    0.35466420705228563,
                    0.2948217408781264,
                    0.24905299544236842,
                    0.31020304009964084,
                    0.3245420978694155,
                    0.09798963640024078,
                    0.2224031088575018,
                    0.1308371249666141,
                    0.22999565318841209,
                    0.2596941158244695,
                    0.18681438311053228,
                    0.3080075062841493,
                    0.5954074892429159,
                    0.36891064389185857,
                    0.22718542847677275,
                    0.3300475433191299,
                    0.2960122120089417,
                    0.30122950509530133,
                    0.36615479607567036,
                    0.4037894101771546,
                    0.2764380394969235,
                    0.3189829538867973,
                    0.17761322697517623,
                    0.3091909274452115,
                    0.1437011288765677,
                    0.3682217795717194,
                    0.19545611509329786,
                    0.2866748538636636,
                    0.30982137450032116,
                    0.28564754597391334,
                    0.16868158107493697,
                    0.32378434582789106,
                    0.16757900383212165,
                    0.3453494076551422,
                    0.3166762177978725,
                    0.2317230850276435,
                    0.30209712406239037,
                    0.34956196674467754,
                    0.3238128712528473,
                    0.2523980851159611,
                    0.20343558771599615,
                    0.21882477996936547,
                    0.27642058431490285,
                    0.2099932502392895,
                    0.08594059083737468,
                    0.29336921401056193,
                    0.48267112082038377,
                    0.3264771580791934,
                    0.2850590886500897,
                    0.18152467905237685,
                    0.32388211270666767,
                    0.3098213745046272,
                    0.3518227903746282,
                    0.6111692613535337,
                    0.2225597144324693,
                    0.1278798313128357,
                    0.4160953271322474,
                    0.33906213702040044,
                    0.2181922125406183,
                    0.2863743846721033,
                    0.1292846944362211,
                    0.4245692058502092,
                    0.3611400900645426,
                    0.13307585799334304,
                    0.23456729833216938,
                    0.509113498706499,
                    0.5643739875716297,
                    0.17814936510135698,
                    0.3255740354415192,
                    0.2205545181003018,
                    0.08375542358382125,
                    0.12265627075268012,
                    0.03879692736257694,
                    0.48787353801664063,
                    0.36916078476741016,
                    0.008205062858637584,
                    0.11146931417679339,
                    0.19951003299025027,
                    0.22811462698230064,
                    0.318591019102341,
                    0.44313122919423764,
                    0.30676499216055864,
                    0.2963087980059672,
                    0.20218281086557258,
                    0.3348875488695464,
                    0.21211078323493623,
                    0.18152158416482256,
                    0.3177646821755816,
                    0.3663785805637497,
                    0.14378117911632865,
                    0.15047655043165903,
                    0.4161849541591672,
                    0.09217432565864771,
                    0.391109749333567,
                    0.374800656889985,
                    0.1465196603627419,
                    0.0970177538568015,
                    0.14126992654610845,
                    0.33052549819036214,
                    0.3692895230305695,
                    0.13598328084348243,
                    0.24360158969210402,
                    0.17498149514831862,
                    0.37526267344751074,
                    0.3421975985784115,
                    0.4539922463575391,
                    0.2351091144240092,
                    0.38590950988594536,
                    0.23217386040984495,
                    0.35903610169007016,
                    0.3990076281911866,
                    0.3098213745046301,
                    0.2684608674944116,
                    0.22932602591999818,
                    0.6516957987800326,
                    0.14706129892629827,
                    0.4842442392650716,
                    0.551422365197039,
                    0.1376328753481585,
                    0.2507587633416708,
                    0.16017055528467503,
                    0.3624363395253821,
                    0.30604355285290513,
                    0.2235419480590618,
                    0.5405064167104439,
                    0.30974165313100066,
                    0.33486815143626325,
                    0.2932786638794954,
                    0.3213647506092003,
                    0.13849495493840247,
                    0.3526211209134644,
                    0.18952767760367747,
                    0.24028697649805084,
                    0.20543372036283733,
                    0.24999275745198613,
                    0.2845520090864071,
                    0.5405064167104574,
                    0.4242396993749433,
                    0.23471574122808664,
                    0.27936289993276875,
                    0.7009368053257868,
                    0.4752355937456373,
                    0.1415167295619491,
                    0.3011583425658937,
                    0.35594899991579443,
                    0.24641101720015016,
                    0.6358694726785398,
                    0.5170215108578066,
                    0.12638467590971708,
                    0.5724400084028813,
                    0.4309368109592929,
                    0.4453565794328035,
                    0.20889337881120407,
                    0.2547836937141977,
                    0.32111433056081784,
                    0.3228956085993756,
                    0.20267477658345404,
                    0.23909722685870086,
                    0.17243453137960407,
                    0.24647767996839393,
                    0.32083327999650235,
                    0.2975365080397726,
                    0.3583458535071115,
                    0.28138338091124443,
                    0.3466350445115374,
                    0.4855029285172303,
                    0.2094095099720859,
                    0.34701290393450784,
                    0.37749904687729247,
                    0.35492228063640124,
                    0.2449868433194772,
                    0.5720507945433714,
                    0.6319179673943025,
                    0.48414478842943837,
                    0.5058300355250744,
                    0.2634904676501589,
                    0.28028829588185045,
                    0.21268736781627162,
                    0.3671805570185772,
                    0.13522103283346765,
                    0.31552185736691546,
                    0.15055136361372437,
                    0.2510861681364943,
                    0.08587463377834706,
                    0.2287289173577362,
                    0.18880169603743951,
                    0.3174860985260933,
                    0.3220515796435244,
                    0.233144342688718,
                    0.1956258947543207,
                    0.27486508894155737,
                    0.30058427678256516,
                    0.33678581633744664,
                    0.3877346074957483,
                    0.28721369700602495,
                    0.19427687692806114,
                    0.18564889344489702,
                    0.20094050071316083,
                    0.31882040422498803,
                    0.35605569586076585,
                    0.4596620076449237,
                    0.28814037613713034,
                    0.6024401651461827,
                    0.2575675324243552,
                    0.21944684793417857,
                    0.2967833261090274,
                    0.4809722345325062,
                    0.2519712710309417,
                    0.1598772706272503,
                    0.5131768298459536,
                    0.3749695410893405,
                    0.25513203209121127,
                    0.350824287891479,
                    0.24189895531948866,
                    0.1519295662023824,
                    0.12906381485586962,
                    0.16327409757298258,
                    0.35101952757067467,
                    0.2394591570679177,
                    0.45426429981883637,
                    0.31536065739387364,
                    0.4444552137944766,
                    0.3777408740934123,
                    0.44096891003408184,
                    0.2812404948130077,
                    0.11299648182743505,
                    0.354635133576655,
                    0.16413473667408518,
                    0.2858032123627291,
                    0.5264571754830474,
                    0.2902119901944971,
                    0.2475252598390666,
                    0.3951370574986987,
                    0.3623263710231661,
                    0.3078446322167389,
                    0.1653953067909099,
                    0.44242752365673765,
                    0.32348975153341114,
                    0.16987916617415733,
                    0.16817870648368735,
                    0.2198776071703158,
                    0.5836575898130634,
                    0.33568120763567133,
                    0.3602235789595383,
                    0.5051369692382897,
                    0.42836154561879825,
                    0.5001447163218725,
                    0.17243393563915707,
                    0.4909181974773439,
                    0.4310192852886966,
                    0.2915059287949234,
                    0.12180419459324558,
                    0.1427708456901205,
                    0.20267477658345415,
                    0.3257994979893748,
                    0.5938475666152229,
                    0.23114801551078953,
                    0.33997709010949273,
                    0.3433098109068512,
                    0.1597024802017937,
                    0.5394926904670084,
                    0.2550117442601572,
                    0.28824552217116495,
                    0.44317591477329077,
                    0.24890670496871461,
                    0.37238366462396827,
                    0.3045192239956912,
                    0.7236112533312088,
                    0.14840834771770398,
                    0.3493825477120675,
                    0.3587455875133295,
                    0.19503306880665458,
                    0.15435681536446239,
                    0.20670608837365503,
                    0.3336295604295476,
                    0.3290539136002815,
                    0.2315882824852755,
                    0.3714224274624837,
                    0.1773003136619535,
                    0.22693660428519302,
                    0.3467288917157389,
                    0.16980329003774539,
                    0.5773383410952997,
                    0.340792685231655,
                    0.4658737812566099,
                    0.2967404428959139,
                    0.3045190393843101,
                    0.16207268233856886,
                    0.1963898449564515,
                    0.3209902630858101,
                    0.2934103740031533,
                    0.2164850543207143,
                    0.3210819450373872,
                    0.1829339192203207,
                    0.19647658466743617,
                    0.20280331531842935,
                    0.19414949138861315,
                    0.289679097868086,
                    0.17488385493516564,
                    0.23509116893925322,
                    0.3409743319017755,
                    0.2734630919995805,
                    0.3671742154936992,
                    0.3749994781081426,
                    0.13236650611941478,
                    0.19151527739012497,
                    0.3467047750959007,
                    0.6153157565531197,
                    0.1696837400517013,
                    0.36001355473063223,
                    0.3215460528574153,
                    -0.0003004303167991527,
                    0.14557810273596059,
                    0.3485480597659344,
                    0.2638669821103985,
                    0.3674885045402714,
                    0.2529286859465451,
                    0.1720413708472626,
                    0.16035413486295425,
                    0.1684125159044786,
                    0.19920205727792498,
                    0.19733386696200178,
                    0.3052488738065431,
                    0.32627647475190014,
                    0.008205062855716665,
                    0.2929399382676786,
                    0.4246164143093356,
                    0.32157319888004854,
                    0.22642519676554337,
                    0.1295456346048066,
                    0.46893065235172426,
                    0.32560697619945456,
                    0.273254574434279,
                    0.30456370974217634,
                    0.1722925344228383,
                    0.4370127807457429,
                    0.20534775800557892,
                    0.2560892040700661,
                    0.22367447220628062,
                    0.2702291882863626,
                    0.17939308620120692,
                    0.19656206644286062,
                    0.15258432843161157,
                    0.32928928102108435,
                    0.4724315781309387,
                    0.2479025411891921,
                    0.4791099459518746,
                    0.19268416085819665,
                    0.5562959625178663,
                    0.32097202276480874,
                    0.3290353176830243,
                    0.5603623886652882,
                    0.34354770734205387,
                    0.3409739991715123,
                    0.40674500418881643,
                    0.2017690553640574,
                    0.29337842362840544,
                    0.12087080551812504,
                    0.3598702241731187,
                    0.3064732453518682,
                    0.40642488792115855,
                    0.2773576618660508,
                    0.27405448139144356,
                    0.29800905594149807,
                    0.02996364752495697,
                    0.579515203399939,
                    0.15187912774322446,
                    0.36678826680471677,
                    0.18559818247143323,
                    0.04617327781304255,
                    0.30032547810128435,
                    0.20542842504848952,
                    0.29901927794512906,
                    0.15058788536312734,
                    0.12334810311768007,
                    0.3337032792155021,
                    0.25871691996266133,
                    0.4511787191227781,
                    0.12161012541715727,
                    0.09947064843860458,
                    0.029963647524911742,
                    0.19174363973573888,
                    0.22820054697472336,
                    0.20334892362732854,
                    0.3195817133183405,
                    0.3763054610091907,
                    0.28575700898657386,
                    0.3199665088905822,
                    0.4160592326984251,
                    0.3387400510818254,
                    0.37499947810811013,
                    0.18706223061683858,
                    0.2556103308596367,
                    0.2874078010447279,
                    0.24327286953981134,
                    0.42252698808545974,
                    0.23161936562847307,
                    0.09217432565864754,
                    0.32623217103673824,
                    0.38094851253169526,
                    0.3260757325229355,
                    0.290816107124777,
                    0.2582820227753023,
                    0.25089980632222864,
                    0.5333989837950089,
                    0.6161337001151179,
                    0.24329557062509782,
                    0.37499947810814255,
                    0.32595880906004393,
                    0.1634408958919001,
                    0.21415417806996404,
                    0.27811822645549,
                    0.6790344966900135,
                    0.40047637254659907,
                    0.3113432694479977,
                    0.6051378721595021,
                    0.2083212128544043,
                    0.4366756399318724,
                    0.29505219366563146,
                    0.1987929976375434,
                    0.3501280038534918,
                    0.29082933859014753,
                    0.5297206950180113,
                    0.3360735671166494,
                    0.25071297193976083,
                    0.13203909209628595,
                    0.3158102318803636,
                    0.4581090960015779,
                    0.1978111601832815,
                    0.6173237821935803,
                    0.3733810189287716,
                    0.39352034498647714,
                    0.25737714551112,
                    0.2253938992077801,
                    0.21168307772088685,
                    0.32627647475189775,
                    0.3279325285271794,
                    0.23110255008648628,
                    0.4350532783629267,
                    0.2702398890646036,
                    0.3081279662767397,
                    0.4511787191227781,
                    0.21533383546904805,
                    0.26681255564078377,
                    0.24003992953271863,
                    0.15864788618945533,
                    0.14783173146795117,
                    0.29450311812547525,
                    0.5187425151907595,
                    0.08212003394657191,
                    0.37519308768145715,
                    0.21104458743498075,
                    0.44353217475000273,
                    0.18253577371176632,
                    0.2771117309915398,
                    0.10455588882325198,
                    0.3684480047612873,
                    0.4310764433550046,
                    0.3637803458535901,
                    0.17512635768861337,
                    0.5198402533808927,
                    0.2534967576109647,
                    0.18071465036832052,
                    0.2253232478883882,
                    0.44969830812519573,
                    0.25711165709968975,
                    0.20721497727224203,
                    0.2596951013162937,
                    0.1516258079018837,
                    0.38709745480560304,
                    0.2866748538636625,
                    0.2796207378016606,
                    0.28772329774162353,
                    0.4951243999962332,
                    0.13204018229478362,
                    0.3423895662948556,
                    0.3371524485845848,
                    0.31831335778027414,
                    0.19039543894822122,
                    0.3296812864814486,
                    0.20410554153609567,
                    0.28298173402606297,
                    0.13524544007863568,
                    0.24013028025916078,
                    0.40211080677852756,
                    0.260786123193172,
                    0.22535902824330112,
                    0.14660613586211596,
                    0.5533866438308459,
                    0.3108997910882383,
                    0.44084485927772793,
                    0.3901284855363304,
                    0.3749994781081426,
                    0.26779496301245204,
                    0.20360090614317053,
                    0.2804431834826862,
                    0.4585319159365905,
                    0.19122174809921513,
                    0.4565519363043884,
                    0.3266318000330182,
                    0.30950865389703003,
                    0.4537796412370224,
                    0.2838979358283425,
                    0.26959569116075965,
                    0.3034114362152674,
                    0.2726925105514803,
                    0.1301472753169738,
                    0.23214088355807722,
                    0.4421176932403329,
                    0.43011129331750664,
                    0.4892786272192261,
                    0.21976073263916476,
                    0.21148242775307424,
                    0.4889043196141551,
                    0.16742301804517715,
                    0.35001354266983653,
                    0.2820597265796502,
                    0.26880933011561037,
                    0.2945070250701084,
                    0.2132380812922855,
                    0.38217708066176204,
                    0.33007125918227076,
                    0.33900438315191306,
                    0.24426747516633293,
                    0.2453787504296735,
                    0.3623776580706253,
                    0.14736138768074733,
                    0.35741011651930027,
                    0.5405064167104557,
                    0.5187082568651471,
                    0.38644762600653393,
                    0.8073419440460475,
                    0.2771117309915399,
                    0.2844413264226391,
                    0.34293163622227285,
                    0.3624980959330939,
                    0.3490420814366274,
                    0.4036558489200821,
                    0.3009239772556343,
                    0.37030569810179537,
                    0.4476557916168134,
                    0.42043265306400546,
                    0.36275291375853924,
                    0.10664805836242314,
                    0.1262602405637114,
                    0.35625825043051085,
                    0.38011610782902533,
                    0.4114158440525055,
                    0.43861897504919967,
                    0.41530313267670577,
                    0.33330249776871657,
                    0.2979104188272655,
                    0.17372281252262012,
                    0.06267809960290982,
                    0.34729124347431867,
                    0.1983027289857383,
                    0.2404846734058911,
                    0.16451781069730742,
                    0.09995241620047154,
                    0.1193455178947119,
                    0.3473991610171903,
                    0.4995370417609934,
                    0.4461395029782146,
                    0.34157137691775874,
                    0.18358752403932665,
                    0.1589426334614506,
                    0.4214102343741559,
                    0.1728116144407676,
                    0.20245448632735116,
                    0.2813968654498224,
                    0.4392983618873906,
                    0.23142513593894676,
                    0.08576486628843186,
                    0.2758844207422433,
                    0.4553981034389827,
                    0.20474803902518024,
                    0.2601382817574616,
                    0.19521679775019563,
                    0.4324839452400284,
                    0.20061534483310267,
                    0.2627888021622355,
                    0.6133378022563828,
                    0.2875614901281106,
                    0.261329377013336,
                    0.25043964622607734,
                    0.16973932889809515,
                    0.6211181273636631,
                    0.22743609135429815,
                    0.3075835859549033,
                    0.23759724117114076,
                    0.49318398781475314,
                    0.15064264346617873,
                    0.0906665196697349,
                    0.32774565572851055,
                    0.2842439985675289,
                    0.40459108392355536,
                    0.16415112654855246,
                    0.22868042786074474,
                    0.47641697269864536,
                    0.2726427057873155,
                    0.24407379145017297,
                    0.31741960548281506,
                    0.44055266529781745,
                    0.08368918844900135,
                    0.3647546004068763,
                    0.2144388303143176,
                    0.38429840550111005,
                    0.40608170042025615,
                    0.2668875999946426,
                    0.24879020972259097,
                    0.20909654626757934,
                    0.20405535384610748,
                    0.04513441521362475,
                    0.46466882777665763,
                    0.8073419440460475,
                    0.23794554853340705,
                    0.1813854625449517,
                    0.34195464319750546,
                    0.21948691654125396,
                    0.43729817601940785,
                    0.2745155432539427,
                    0.2548990282711041,
                    0.28231337117639094,
                    0.10183579227909616,
                    0.12183877418300312,
                    0.35071436227180847,
                    0.3282216428941951,
                    0.38088953846984863,
                    0.20938154088818856,
                    0.258667748177535,
                    0.38894699349995854,
                    0.13893769103280157,
                    0.09161772826664291,
                    0.34401009463430865,
                    0.3208374095819858,
                    0.2257331050519912,
                    0.3058171053389623,
                    0.30024069875143594,
                    0.5724400198518657,
                    0.2940692489725074,
                    0.24277053744078733,
                    0.30449991317109937,
                    0.24925584453142,
                    0.2663703761360473,
                    0.313366858559779,
                    0.20722433589201572,
                    0.16851686587342174,
                    0.4744155760840261,
                    0.1514881123844936,
                    0.18652385539266164,
                    0.24564844869901153,
                    0.08718783182358747,
                    0.32932785384565116,
                    0.4987533453851811,
                    0.18769669966263938,
                    0.1291789365159442,
                    0.16980329003774536,
                    0.46534392868238283,
                    0.4119817824709484,
                    0.20320558247229178,
                    0.3065063718843876,
                    0.38442331408679026,
                    0.327487163889119,
                    0.3861967217889153,
                    0.029445229749355317,
                    0.3379487051959412,
                    0.24314241282367158,
                    0.5558665843219075,
                    0.1129964818274309,
                    0.28893540432263215,
                    0.3033378048510467,
                    0.17204177020938083,
                    0.12156066421156725,
                    0.23657139674574784,
                    0.2543183959939356,
                    0.32773389988593904,
                    0.25423017093030625,
                    0.6046432604231229,
                    0.4378188895584471,
                    0.30703777798536497,
                    0.20049003576666902,
                    0.2521586031792227,
                    0.5810407139448895,
                    0.29500422914721,
                    0.3988869865337097,
                    0.16866395756757,
                    0.43105739899088286,
                    0.19602994872347185,
                    0.25484973297619934,
                    0.2980485756757243,
                    0.2227207547993943,
                    0.0894905409816091,
                    0.191560896559794,
                    0.12848637300611906,
                    0.3451001325462865,
                    0.17874576140476398,
                    0.24365414142493946,
                    0.2886184444493404,
                    0.20074403245537334,
                    0.16123772579086149,
                    0.14366092886127965,
                    0.2292386119490442,
                    0.6410730287882644,
                    0.3124587006457865,
                    0.32537313887120717,
                    0.18811115346853563,
                    0.6008428922529894,
                    0.21252708170649554
                  ]
                }
              ],
              "layout": {
                "template": {
                  "data": {
                    "bar": [
                      {
                        "error_x": {
                          "color": "#2a3f5f"
                        },
                        "error_y": {
                          "color": "#2a3f5f"
                        },
                        "marker": {
                          "line": {
                            "color": "#E5ECF6",
                            "width": 0.5
                          },
                          "pattern": {
                            "fillmode": "overlay",
                            "size": 10,
                            "solidity": 0.2
                          }
                        },
                        "type": "bar"
                      }
                    ],
                    "barpolar": [
                      {
                        "marker": {
                          "line": {
                            "color": "#E5ECF6",
                            "width": 0.5
                          },
                          "pattern": {
                            "fillmode": "overlay",
                            "size": 10,
                            "solidity": 0.2
                          }
                        },
                        "type": "barpolar"
                      }
                    ],
                    "carpet": [
                      {
                        "aaxis": {
                          "endlinecolor": "#2a3f5f",
                          "gridcolor": "white",
                          "linecolor": "white",
                          "minorgridcolor": "white",
                          "startlinecolor": "#2a3f5f"
                        },
                        "baxis": {
                          "endlinecolor": "#2a3f5f",
                          "gridcolor": "white",
                          "linecolor": "white",
                          "minorgridcolor": "white",
                          "startlinecolor": "#2a3f5f"
                        },
                        "type": "carpet"
                      }
                    ],
                    "choropleth": [
                      {
                        "colorbar": {
                          "outlinewidth": 0,
                          "ticks": ""
                        },
                        "type": "choropleth"
                      }
                    ],
                    "contour": [
                      {
                        "colorbar": {
                          "outlinewidth": 0,
                          "ticks": ""
                        },
                        "colorscale": [
                          [
                            0,
                            "#0d0887"
                          ],
                          [
                            0.1111111111111111,
                            "#46039f"
                          ],
                          [
                            0.2222222222222222,
                            "#7201a8"
                          ],
                          [
                            0.3333333333333333,
                            "#9c179e"
                          ],
                          [
                            0.4444444444444444,
                            "#bd3786"
                          ],
                          [
                            0.5555555555555556,
                            "#d8576b"
                          ],
                          [
                            0.6666666666666666,
                            "#ed7953"
                          ],
                          [
                            0.7777777777777778,
                            "#fb9f3a"
                          ],
                          [
                            0.8888888888888888,
                            "#fdca26"
                          ],
                          [
                            1,
                            "#f0f921"
                          ]
                        ],
                        "type": "contour"
                      }
                    ],
                    "contourcarpet": [
                      {
                        "colorbar": {
                          "outlinewidth": 0,
                          "ticks": ""
                        },
                        "type": "contourcarpet"
                      }
                    ],
                    "heatmap": [
                      {
                        "colorbar": {
                          "outlinewidth": 0,
                          "ticks": ""
                        },
                        "colorscale": [
                          [
                            0,
                            "#0d0887"
                          ],
                          [
                            0.1111111111111111,
                            "#46039f"
                          ],
                          [
                            0.2222222222222222,
                            "#7201a8"
                          ],
                          [
                            0.3333333333333333,
                            "#9c179e"
                          ],
                          [
                            0.4444444444444444,
                            "#bd3786"
                          ],
                          [
                            0.5555555555555556,
                            "#d8576b"
                          ],
                          [
                            0.6666666666666666,
                            "#ed7953"
                          ],
                          [
                            0.7777777777777778,
                            "#fb9f3a"
                          ],
                          [
                            0.8888888888888888,
                            "#fdca26"
                          ],
                          [
                            1,
                            "#f0f921"
                          ]
                        ],
                        "type": "heatmap"
                      }
                    ],
                    "histogram": [
                      {
                        "marker": {
                          "pattern": {
                            "fillmode": "overlay",
                            "size": 10,
                            "solidity": 0.2
                          }
                        },
                        "type": "histogram"
                      }
                    ],
                    "histogram2d": [
                      {
                        "colorbar": {
                          "outlinewidth": 0,
                          "ticks": ""
                        },
                        "colorscale": [
                          [
                            0,
                            "#0d0887"
                          ],
                          [
                            0.1111111111111111,
                            "#46039f"
                          ],
                          [
                            0.2222222222222222,
                            "#7201a8"
                          ],
                          [
                            0.3333333333333333,
                            "#9c179e"
                          ],
                          [
                            0.4444444444444444,
                            "#bd3786"
                          ],
                          [
                            0.5555555555555556,
                            "#d8576b"
                          ],
                          [
                            0.6666666666666666,
                            "#ed7953"
                          ],
                          [
                            0.7777777777777778,
                            "#fb9f3a"
                          ],
                          [
                            0.8888888888888888,
                            "#fdca26"
                          ],
                          [
                            1,
                            "#f0f921"
                          ]
                        ],
                        "type": "histogram2d"
                      }
                    ],
                    "histogram2dcontour": [
                      {
                        "colorbar": {
                          "outlinewidth": 0,
                          "ticks": ""
                        },
                        "colorscale": [
                          [
                            0,
                            "#0d0887"
                          ],
                          [
                            0.1111111111111111,
                            "#46039f"
                          ],
                          [
                            0.2222222222222222,
                            "#7201a8"
                          ],
                          [
                            0.3333333333333333,
                            "#9c179e"
                          ],
                          [
                            0.4444444444444444,
                            "#bd3786"
                          ],
                          [
                            0.5555555555555556,
                            "#d8576b"
                          ],
                          [
                            0.6666666666666666,
                            "#ed7953"
                          ],
                          [
                            0.7777777777777778,
                            "#fb9f3a"
                          ],
                          [
                            0.8888888888888888,
                            "#fdca26"
                          ],
                          [
                            1,
                            "#f0f921"
                          ]
                        ],
                        "type": "histogram2dcontour"
                      }
                    ],
                    "mesh3d": [
                      {
                        "colorbar": {
                          "outlinewidth": 0,
                          "ticks": ""
                        },
                        "type": "mesh3d"
                      }
                    ],
                    "parcoords": [
                      {
                        "line": {
                          "colorbar": {
                            "outlinewidth": 0,
                            "ticks": ""
                          }
                        },
                        "type": "parcoords"
                      }
                    ],
                    "pie": [
                      {
                        "automargin": true,
                        "type": "pie"
                      }
                    ],
                    "scatter": [
                      {
                        "fillpattern": {
                          "fillmode": "overlay",
                          "size": 10,
                          "solidity": 0.2
                        },
                        "type": "scatter"
                      }
                    ],
                    "scatter3d": [
                      {
                        "line": {
                          "colorbar": {
                            "outlinewidth": 0,
                            "ticks": ""
                          }
                        },
                        "marker": {
                          "colorbar": {
                            "outlinewidth": 0,
                            "ticks": ""
                          }
                        },
                        "type": "scatter3d"
                      }
                    ],
                    "scattercarpet": [
                      {
                        "marker": {
                          "colorbar": {
                            "outlinewidth": 0,
                            "ticks": ""
                          }
                        },
                        "type": "scattercarpet"
                      }
                    ],
                    "scattergeo": [
                      {
                        "marker": {
                          "colorbar": {
                            "outlinewidth": 0,
                            "ticks": ""
                          }
                        },
                        "type": "scattergeo"
                      }
                    ],
                    "scattergl": [
                      {
                        "marker": {
                          "colorbar": {
                            "outlinewidth": 0,
                            "ticks": ""
                          }
                        },
                        "type": "scattergl"
                      }
                    ],
                    "scattermap": [
                      {
                        "marker": {
                          "colorbar": {
                            "outlinewidth": 0,
                            "ticks": ""
                          }
                        },
                        "type": "scattermap"
                      }
                    ],
                    "scattermapbox": [
                      {
                        "marker": {
                          "colorbar": {
                            "outlinewidth": 0,
                            "ticks": ""
                          }
                        },
                        "type": "scattermapbox"
                      }
                    ],
                    "scatterpolar": [
                      {
                        "marker": {
                          "colorbar": {
                            "outlinewidth": 0,
                            "ticks": ""
                          }
                        },
                        "type": "scatterpolar"
                      }
                    ],
                    "scatterpolargl": [
                      {
                        "marker": {
                          "colorbar": {
                            "outlinewidth": 0,
                            "ticks": ""
                          }
                        },
                        "type": "scatterpolargl"
                      }
                    ],
                    "scatterternary": [
                      {
                        "marker": {
                          "colorbar": {
                            "outlinewidth": 0,
                            "ticks": ""
                          }
                        },
                        "type": "scatterternary"
                      }
                    ],
                    "surface": [
                      {
                        "colorbar": {
                          "outlinewidth": 0,
                          "ticks": ""
                        },
                        "colorscale": [
                          [
                            0,
                            "#0d0887"
                          ],
                          [
                            0.1111111111111111,
                            "#46039f"
                          ],
                          [
                            0.2222222222222222,
                            "#7201a8"
                          ],
                          [
                            0.3333333333333333,
                            "#9c179e"
                          ],
                          [
                            0.4444444444444444,
                            "#bd3786"
                          ],
                          [
                            0.5555555555555556,
                            "#d8576b"
                          ],
                          [
                            0.6666666666666666,
                            "#ed7953"
                          ],
                          [
                            0.7777777777777778,
                            "#fb9f3a"
                          ],
                          [
                            0.8888888888888888,
                            "#fdca26"
                          ],
                          [
                            1,
                            "#f0f921"
                          ]
                        ],
                        "type": "surface"
                      }
                    ],
                    "table": [
                      {
                        "cells": {
                          "fill": {
                            "color": "#EBF0F8"
                          },
                          "line": {
                            "color": "white"
                          }
                        },
                        "header": {
                          "fill": {
                            "color": "#C8D4E3"
                          },
                          "line": {
                            "color": "white"
                          }
                        },
                        "type": "table"
                      }
                    ]
                  },
                  "layout": {
                    "annotationdefaults": {
                      "arrowcolor": "#2a3f5f",
                      "arrowhead": 0,
                      "arrowwidth": 1
                    },
                    "autotypenumbers": "strict",
                    "coloraxis": {
                      "colorbar": {
                        "outlinewidth": 0,
                        "ticks": ""
                      }
                    },
                    "colorscale": {
                      "diverging": [
                        [
                          0,
                          "#8e0152"
                        ],
                        [
                          0.1,
                          "#c51b7d"
                        ],
                        [
                          0.2,
                          "#de77ae"
                        ],
                        [
                          0.3,
                          "#f1b6da"
                        ],
                        [
                          0.4,
                          "#fde0ef"
                        ],
                        [
                          0.5,
                          "#f7f7f7"
                        ],
                        [
                          0.6,
                          "#e6f5d0"
                        ],
                        [
                          0.7,
                          "#b8e186"
                        ],
                        [
                          0.8,
                          "#7fbc41"
                        ],
                        [
                          0.9,
                          "#4d9221"
                        ],
                        [
                          1,
                          "#276419"
                        ]
                      ],
                      "sequential": [
                        [
                          0,
                          "#0d0887"
                        ],
                        [
                          0.1111111111111111,
                          "#46039f"
                        ],
                        [
                          0.2222222222222222,
                          "#7201a8"
                        ],
                        [
                          0.3333333333333333,
                          "#9c179e"
                        ],
                        [
                          0.4444444444444444,
                          "#bd3786"
                        ],
                        [
                          0.5555555555555556,
                          "#d8576b"
                        ],
                        [
                          0.6666666666666666,
                          "#ed7953"
                        ],
                        [
                          0.7777777777777778,
                          "#fb9f3a"
                        ],
                        [
                          0.8888888888888888,
                          "#fdca26"
                        ],
                        [
                          1,
                          "#f0f921"
                        ]
                      ],
                      "sequentialminus": [
                        [
                          0,
                          "#0d0887"
                        ],
                        [
                          0.1111111111111111,
                          "#46039f"
                        ],
                        [
                          0.2222222222222222,
                          "#7201a8"
                        ],
                        [
                          0.3333333333333333,
                          "#9c179e"
                        ],
                        [
                          0.4444444444444444,
                          "#bd3786"
                        ],
                        [
                          0.5555555555555556,
                          "#d8576b"
                        ],
                        [
                          0.6666666666666666,
                          "#ed7953"
                        ],
                        [
                          0.7777777777777778,
                          "#fb9f3a"
                        ],
                        [
                          0.8888888888888888,
                          "#fdca26"
                        ],
                        [
                          1,
                          "#f0f921"
                        ]
                      ]
                    },
                    "colorway": [
                      "#636efa",
                      "#EF553B",
                      "#00cc96",
                      "#ab63fa",
                      "#FFA15A",
                      "#19d3f3",
                      "#FF6692",
                      "#B6E880",
                      "#FF97FF",
                      "#FECB52"
                    ],
                    "font": {
                      "color": "#2a3f5f"
                    },
                    "geo": {
                      "bgcolor": "white",
                      "lakecolor": "white",
                      "landcolor": "#E5ECF6",
                      "showlakes": true,
                      "showland": true,
                      "subunitcolor": "white"
                    },
                    "hoverlabel": {
                      "align": "left"
                    },
                    "hovermode": "closest",
                    "mapbox": {
                      "style": "light"
                    },
                    "paper_bgcolor": "white",
                    "plot_bgcolor": "#E5ECF6",
                    "polar": {
                      "angularaxis": {
                        "gridcolor": "white",
                        "linecolor": "white",
                        "ticks": ""
                      },
                      "bgcolor": "#E5ECF6",
                      "radialaxis": {
                        "gridcolor": "white",
                        "linecolor": "white",
                        "ticks": ""
                      }
                    },
                    "scene": {
                      "xaxis": {
                        "backgroundcolor": "#E5ECF6",
                        "gridcolor": "white",
                        "gridwidth": 2,
                        "linecolor": "white",
                        "showbackground": true,
                        "ticks": "",
                        "zerolinecolor": "white"
                      },
                      "yaxis": {
                        "backgroundcolor": "#E5ECF6",
                        "gridcolor": "white",
                        "gridwidth": 2,
                        "linecolor": "white",
                        "showbackground": true,
                        "ticks": "",
                        "zerolinecolor": "white"
                      },
                      "zaxis": {
                        "backgroundcolor": "#E5ECF6",
                        "gridcolor": "white",
                        "gridwidth": 2,
                        "linecolor": "white",
                        "showbackground": true,
                        "ticks": "",
                        "zerolinecolor": "white"
                      }
                    },
                    "shapedefaults": {
                      "line": {
                        "color": "#2a3f5f"
                      }
                    },
                    "ternary": {
                      "aaxis": {
                        "gridcolor": "white",
                        "linecolor": "white",
                        "ticks": ""
                      },
                      "baxis": {
                        "gridcolor": "white",
                        "linecolor": "white",
                        "ticks": ""
                      },
                      "bgcolor": "#E5ECF6",
                      "caxis": {
                        "gridcolor": "white",
                        "linecolor": "white",
                        "ticks": ""
                      }
                    },
                    "title": {
                      "x": 0.05
                    },
                    "xaxis": {
                      "automargin": true,
                      "gridcolor": "white",
                      "linecolor": "white",
                      "ticks": "",
                      "title": {
                        "standoff": 15
                      },
                      "zerolinecolor": "white",
                      "zerolinewidth": 2
                    },
                    "yaxis": {
                      "automargin": true,
                      "gridcolor": "white",
                      "linecolor": "white",
                      "ticks": "",
                      "title": {
                        "standoff": 15
                      },
                      "zerolinecolor": "white",
                      "zerolinewidth": 2
                    }
                  }
                },
                "title": {
                  "text": "Sample of Random Portfolios"
                },
                "xaxis": {
                  "title": {
                    "text": "Volatility (Standard Deviation)"
                  }
                },
                "yaxis": {
                  "title": {
                    "text": "Annualised Returns"
                  }
                }
              }
            }
          },
          "metadata": {},
          "output_type": "display_data"
        }
      ],
      "source": [
        "fig1 = go.Figure()\n",
        "\n",
        "fig1.add_trace(go.Scatter(\n",
        "    x=[np.sqrt(p[\"variance\"]) for p in all_portfolios],\n",
        "    y=[p[\"return\"] for p in all_portfolios],\n",
        "    mode='markers',\n",
        "    marker=dict(\n",
        "        color=[p[\"sharpe\"] for p in all_portfolios],\n",
        "        showscale=True,\n",
        "        size=7,\n",
        "        line=dict(width=1),\n",
        "        colorscale=\"RdBu\",\n",
        "        colorbar=dict(title=\"Sharpe<br>Ratio\")\n",
        "    ),\n",
        "    hoverinfo='text',\n",
        "    text=[\n",
        "        f\"Return: {p['return']:.3%}<br>Volatility: {np.sqrt(p['variance']):.3f}<br>\" +\n",
        "        f\"Sharpe Ratio: {p['return'] / (np.sqrt(p['variance'])):.3f}<br>\" +\n",
        "        \"<br>\".join([f\"{p['tickers'][i]}: Weight={p['weights'][i]:.3f}\" for i in range(len(p['tickers']))])\n",
        "        for p in all_portfolios\n",
        "    ]\n",
        "))\n",
        "\n",
        "fig1.update_layout(\n",
        "    xaxis=dict(title='Volatility (Standard Deviation)'),\n",
        "    yaxis=dict(title='Annualised Returns'),\n",
        "    title='Sample of Random Portfolios'\n",
        ")\n",
        "\n",
        "fig1.show()"
      ]
    },
    {
      "cell_type": "code",
      "execution_count": 223,
      "metadata": {
        "id": "uHkH6APvabDV",
        "outputId": "162334c7-50bd-4a43-f2e3-a19de077fdb7"
      },
      "outputs": [
        {
          "data": {
            "application/vnd.plotly.v1+json": {
              "config": {
                "plotlyServerURL": "https://plot.ly"
              },
              "data": [
                {
                  "hoverinfo": "text",
                  "marker": {
                    "color": [
                      2.314975374170424,
                      2.487549682834411,
                      3.0730466270047097,
                      2.117472017690818,
                      2.601752717557047,
                      2.90116147969942,
                      2.8668212801622115,
                      2.8200806914678465,
                      2.5099242898544794,
                      2.4753036796292425,
                      2.9561781776322804,
                      2.7685235195897904,
                      2.8695722973680318,
                      3.0929406437592983,
                      3.190616055762321,
                      3.3123305295754664,
                      2.9205379240643676,
                      3.6327907915630617,
                      3.802695545196124,
                      2.245771136949897,
                      3.0902374398154517,
                      3.8099559432557384,
                      3.3306953724268817,
                      3.8537985802909107,
                      3.251134869567367,
                      2.932549138802443,
                      3.03888705218161,
                      3.4291600225623893,
                      3.4584027434703564,
                      3.1977946519245446,
                      3.415929147052321,
                      3.246113637870704,
                      3.628453298181455,
                      2.7577009933442698,
                      3.2502535641428976,
                      4.8023677372124,
                      3.4877453512360197,
                      2.807622529164604,
                      3.977885085311459,
                      3.5695868441092404,
                      3.3221778669272157,
                      3.2865187559649933,
                      3.6835394156334575,
                      3.7486078202650304,
                      3.544157224919872,
                      3.528739044908193,
                      3.92015517743265,
                      3.330695383798251,
                      3.951052086176397,
                      2.9006274170076023,
                      3.534875299266014,
                      2.7913349496252273,
                      2.0591142986961084,
                      4.108685454635778,
                      2.0636760346259293,
                      2.816667181627301,
                      2.660194976591582,
                      2.0609805865515463,
                      3.6346304652693284,
                      2.6828360440900023,
                      3.631552695428306,
                      4.039794752969054,
                      3.750546079058025,
                      3.9867805912207217,
                      2.054246487064372,
                      3.979957925335627,
                      4.009337921848068,
                      3.9540413742882135,
                      4.489034332916607,
                      2.5527486439456837,
                      3.546006369574405,
                      2.8239612720176392,
                      2.1407383732446363,
                      3.5963753000612386,
                      2.050595684770346,
                      4.172989634144869,
                      3.9058166479318563
                    ],
                    "colorbar": {
                      "title": {
                        "text": "Sharpe<br>Ratio"
                      }
                    },
                    "colorscale": [
                      [
                        0,
                        "rgb(103,0,31)"
                      ],
                      [
                        0.1,
                        "rgb(178,24,43)"
                      ],
                      [
                        0.2,
                        "rgb(214,96,77)"
                      ],
                      [
                        0.3,
                        "rgb(244,165,130)"
                      ],
                      [
                        0.4,
                        "rgb(253,219,199)"
                      ],
                      [
                        0.5,
                        "rgb(247,247,247)"
                      ],
                      [
                        0.6,
                        "rgb(209,229,240)"
                      ],
                      [
                        0.7,
                        "rgb(146,197,222)"
                      ],
                      [
                        0.8,
                        "rgb(67,147,195)"
                      ],
                      [
                        0.9,
                        "rgb(33,102,172)"
                      ],
                      [
                        1,
                        "rgb(5,48,97)"
                      ]
                    ],
                    "line": {
                      "width": 1
                    },
                    "showscale": true,
                    "size": 7
                  },
                  "mode": "markers",
                  "name": "Portfolios",
                  "text": [
                    "Return: 35.678%<br>Volatility: 0.154<br>Sharpe Ratio: 2.315<br>BAC_Close: Weight=0.087<br>REGN_Close: Weight=0.000<br>GIS_Close: Weight=0.000<br>TXN_Close: Weight=0.913",
                    "Return: 21.242%<br>Volatility: 0.085<br>Sharpe Ratio: 2.488<br>DIS_Close: Weight=0.000<br>META_Close: Weight=0.346<br>CVX_Close: Weight=0.288<br>JNJ_Close: Weight=0.365",
                    "Return: 50.159%<br>Volatility: 0.163<br>Sharpe Ratio: 3.073<br>EW_Close: Weight=0.124<br>ABBV_Close: Weight=0.876<br>T_Close: Weight=0.000<br>MO_Close: Weight=0.000",
                    "Return: 28.966%<br>Volatility: 0.137<br>Sharpe Ratio: 2.117<br>PFE_Close: Weight=0.383<br>BIIB_Close: Weight=0.000<br>ORCL_Close: Weight=0.083<br>ADBE_Close: Weight=0.535",
                    "Return: 37.500%<br>Volatility: 0.144<br>Sharpe Ratio: 2.602<br>WFC_Close: Weight=0.000<br>DHR_Close: Weight=0.000<br>ZBH_Close: Weight=0.000<br>MA_Close: Weight=1.000",
                    "Return: 24.021%<br>Volatility: 0.083<br>Sharpe Ratio: 2.901<br>UNH_Close: Weight=0.394<br>AEP_Close: Weight=0.379<br>JPM_Close: Weight=0.227",
                    "Return: 26.511%<br>Volatility: 0.092<br>Sharpe Ratio: 2.867<br>AAPL_Close: Weight=0.213<br>RTX_Close: Weight=0.188<br>HD_Close: Weight=0.530<br>VZ_Close: Weight=0.069",
                    "Return: 27.517%<br>Volatility: 0.098<br>Sharpe Ratio: 2.820<br>SYY_Close: Weight=0.292<br>V_Close: Weight=0.708<br>COST_Close: Weight=0.000",
                    "Return: 37.540%<br>Volatility: 0.150<br>Sharpe Ratio: 2.510<br>AMZN_Close: Weight=0.306<br>IBM_Close: Weight=0.000<br>TXN_Close: Weight=0.694",
                    "Return: 34.904%<br>Volatility: 0.141<br>Sharpe Ratio: 2.475<br>UNH_Close: Weight=1.000<br>F_Close: Weight=0.000<br>PM_Close: Weight=0.000",
                    "Return: 33.456%<br>Volatility: 0.113<br>Sharpe Ratio: 2.956<br>LMT_Close: Weight=0.555<br>DE_Close: Weight=0.440<br>QCOM_Close: Weight=0.006",
                    "Return: 24.916%<br>Volatility: 0.090<br>Sharpe Ratio: 2.769<br>NEE_Close: Weight=0.503<br>SYK_Close: Weight=0.093<br>ACN_Close: Weight=0.405",
                    "Return: 24.567%<br>Volatility: 0.086<br>Sharpe Ratio: 2.870<br>TMO_Close: Weight=0.162<br>UA_Close: Weight=0.000<br>ACN_Close: Weight=0.353<br>NEE_Close: Weight=0.485",
                    "Return: 38.275%<br>Volatility: 0.124<br>Sharpe Ratio: 3.093<br>COST_Close: Weight=0.098<br>BABA_Close: Weight=0.344<br>ABT_Close: Weight=0.558<br>MO_Close: Weight=0.000",
                    "Return: 30.461%<br>Volatility: 0.095<br>Sharpe Ratio: 3.191<br>ABT_Close: Weight=0.384<br>VZ_Close: Weight=0.000<br>WMT_Close: Weight=0.360<br>CVX_Close: Weight=0.256",
                    "Return: 38.046%<br>Volatility: 0.115<br>Sharpe Ratio: 3.312<br>UNH_Close: Weight=0.434<br>ISRG_Close: Weight=0.228<br>TMO_Close: Weight=0.009<br>MSFT_Close: Weight=0.329",
                    "Return: 40.981%<br>Volatility: 0.140<br>Sharpe Ratio: 2.921<br>MA_Close: Weight=0.617<br>CPB_Close: Weight=0.000<br>MDT_Close: Weight=0.000<br>ISRG_Close: Weight=0.383",
                    "Return: 48.485%<br>Volatility: 0.133<br>Sharpe Ratio: 3.633<br>SYK_Close: Weight=0.292<br>BA_Close: Weight=0.708<br>CPB_Close: Weight=0.000",
                    "Return: 46.425%<br>Volatility: 0.122<br>Sharpe Ratio: 3.803<br>TMO_Close: Weight=0.325<br>BA_Close: Weight=0.656<br>QCOM_Close: Weight=0.019",
                    "Return: 17.010%<br>Volatility: 0.076<br>Sharpe Ratio: 2.246<br>JPM_Close: Weight=0.390<br>BAC_Close: Weight=0.000<br>AEP_Close: Weight=0.610",
                    "Return: 55.681%<br>Volatility: 0.180<br>Sharpe Ratio: 3.090<br>ISRG_Close: Weight=0.436<br>NFLX_Close: Weight=0.052<br>PYPL_Close: Weight=0.512<br>GILD_Close: Weight=0.000",
                    "Return: 44.040%<br>Volatility: 0.116<br>Sharpe Ratio: 3.810<br>ADBE_Close: Weight=0.191<br>AEP_Close: Weight=0.337<br>CAT_Close: Weight=0.472",
                    "Return: 27.841%<br>Volatility: 0.084<br>Sharpe Ratio: 3.331<br>UA_Close: Weight=0.000<br>NEE_Close: Weight=0.518<br>HD_Close: Weight=0.482",
                    "Return: 43.915%<br>Volatility: 0.114<br>Sharpe Ratio: 3.854<br>V_Close: Weight=0.405<br>BA_Close: Weight=0.493<br>JPM_Close: Weight=0.103",
                    "Return: 31.063%<br>Volatility: 0.096<br>Sharpe Ratio: 3.251<br>TSLA_Close: Weight=0.032<br>NEE_Close: Weight=0.435<br>MCD_Close: Weight=0.533",
                    "Return: 57.728%<br>Volatility: 0.197<br>Sharpe Ratio: 2.933<br>PYPL_Close: Weight=0.722<br>AMZN_Close: Weight=0.278<br>MRK_Close: Weight=0.000<br>META_Close: Weight=0.000",
                    "Return: 31.719%<br>Volatility: 0.104<br>Sharpe Ratio: 3.039<br>UNH_Close: Weight=0.540<br>ADBE_Close: Weight=0.249<br>PG_Close: Weight=0.155<br>CSCO_Close: Weight=0.056",
                    "Return: 31.048%<br>Volatility: 0.091<br>Sharpe Ratio: 3.429<br>T_Close: Weight=0.000<br>LMT_Close: Weight=0.491<br>MCD_Close: Weight=0.509",
                    "Return: 31.642%<br>Volatility: 0.091<br>Sharpe Ratio: 3.458<br>MCD_Close: Weight=0.465<br>BIIB_Close: Weight=0.000<br>HD_Close: Weight=0.414<br>DUK_Close: Weight=0.120",
                    "Return: 35.896%<br>Volatility: 0.112<br>Sharpe Ratio: 3.198<br>UNH_Close: Weight=0.557<br>K_Close: Weight=0.000<br>TXN_Close: Weight=0.443",
                    "Return: 59.541%<br>Volatility: 0.174<br>Sharpe Ratio: 3.416<br>BA_Close: Weight=1.000<br>SNAP_Close: Weight=0.000<br>MO_Close: Weight=0.000",
                    "Return: 33.184%<br>Volatility: 0.102<br>Sharpe Ratio: 3.246<br>HON_Close: Weight=0.521<br>LLY_Close: Weight=0.000<br>ISRG_Close: Weight=0.257<br>MSFT_Close: Weight=0.221",
                    "Return: 47.038%<br>Volatility: 0.130<br>Sharpe Ratio: 3.628<br>UNH_Close: Weight=0.508<br>PYPL_Close: Weight=0.344<br>ISRG_Close: Weight=0.149<br>SRE_Close: Weight=0.000",
                    "Return: 20.130%<br>Volatility: 0.073<br>Sharpe Ratio: 2.758<br>KO_Close: Weight=0.366<br>HON_Close: Weight=0.595<br>CMCSA_Close: Weight=0.039<br>DIS_Close: Weight=0.000",
                    "Return: 64.107%<br>Volatility: 0.197<br>Sharpe Ratio: 3.250<br>CAT_Close: Weight=1.000<br>GE_Close: Weight=0.000<br>MRK_Close: Weight=0.000",
                    "Return: 54.901%<br>Volatility: 0.114<br>Sharpe Ratio: 4.802<br>CAT_Close: Weight=0.361<br>ABBV_Close: Weight=0.386<br>WMT_Close: Weight=0.253",
                    "Return: 32.760%<br>Volatility: 0.094<br>Sharpe Ratio: 3.488<br>SYY_Close: Weight=0.092<br>ADBE_Close: Weight=0.215<br>MMM_Close: Weight=0.271<br>HD_Close: Weight=0.422",
                    "Return: 22.696%<br>Volatility: 0.081<br>Sharpe Ratio: 2.808<br>COST_Close: Weight=0.037<br>KO_Close: Weight=0.425<br>V_Close: Weight=0.537",
                    "Return: 64.543%<br>Volatility: 0.162<br>Sharpe Ratio: 3.978<br>PYPL_Close: Weight=0.410<br>SRE_Close: Weight=0.000<br>CAT_Close: Weight=0.590<br>GS_Close: Weight=0.000",
                    "Return: 32.888%<br>Volatility: 0.092<br>Sharpe Ratio: 3.570<br>COST_Close: Weight=0.019<br>DE_Close: Weight=0.304<br>MCD_Close: Weight=0.418<br>PEP_Close: Weight=0.260",
                    "Return: 33.411%<br>Volatility: 0.101<br>Sharpe Ratio: 3.322<br>TXN_Close: Weight=0.248<br>PYPL_Close: Weight=0.275<br>KO_Close: Weight=0.478",
                    "Return: 35.991%<br>Volatility: 0.110<br>Sharpe Ratio: 3.287<br>UA_Close: Weight=0.000<br>PEP_Close: Weight=0.437<br>T_Close: Weight=0.000<br>ABBV_Close: Weight=0.563",
                    "Return: 33.628%<br>Volatility: 0.091<br>Sharpe Ratio: 3.684<br>WMT_Close: Weight=0.281<br>CVX_Close: Weight=0.183<br>NVDA_Close: Weight=0.095<br>HON_Close: Weight=0.442",
                    "Return: 55.945%<br>Volatility: 0.149<br>Sharpe Ratio: 3.749<br>CAT_Close: Weight=0.577<br>BABA_Close: Weight=0.242<br>SAP_Close: Weight=0.181",
                    "Return: 36.577%<br>Volatility: 0.103<br>Sharpe Ratio: 3.544<br>MCD_Close: Weight=0.476<br>ISRG_Close: Weight=0.311<br>JPM_Close: Weight=0.213<br>MDT_Close: Weight=0.000",
                    "Return: 30.318%<br>Volatility: 0.086<br>Sharpe Ratio: 3.529<br>NEE_Close: Weight=0.354<br>ABT_Close: Weight=0.254<br>MCD_Close: Weight=0.392",
                    "Return: 38.477%<br>Volatility: 0.098<br>Sharpe Ratio: 3.920<br>TMO_Close: Weight=0.249<br>PEP_Close: Weight=0.248<br>BA_Close: Weight=0.503<br>GE_Close: Weight=0.000",
                    "Return: 27.840%<br>Volatility: 0.084<br>Sharpe Ratio: 3.331<br>HD_Close: Weight=0.482<br>K_Close: Weight=0.000<br>NEE_Close: Weight=0.518",
                    "Return: 42.457%<br>Volatility: 0.107<br>Sharpe Ratio: 3.951<br>DE_Close: Weight=0.295<br>ABT_Close: Weight=0.099<br>MMM_Close: Weight=0.245<br>ABBV_Close: Weight=0.361",
                    "Return: 23.457%<br>Volatility: 0.081<br>Sharpe Ratio: 2.901<br>BIIB_Close: Weight=0.000<br>LMT_Close: Weight=0.501<br>REGN_Close: Weight=0.021<br>NEE_Close: Weight=0.477",
                    "Return: 56.437%<br>Volatility: 0.160<br>Sharpe Ratio: 3.535<br>MO_Close: Weight=0.000<br>CAT_Close: Weight=0.701<br>AMZN_Close: Weight=0.299<br>GIS_Close: Weight=0.000",
                    "Return: 22.055%<br>Volatility: 0.079<br>Sharpe Ratio: 2.791<br>LLY_Close: Weight=0.018<br>CVX_Close: Weight=0.126<br>KO_Close: Weight=0.404<br>HD_Close: Weight=0.453",
                    "Return: 14.378%<br>Volatility: 0.070<br>Sharpe Ratio: 2.059<br>RTX_Close: Weight=0.307<br>ORCL_Close: Weight=0.094<br>KO_Close: Weight=0.599",
                    "Return: 41.618%<br>Volatility: 0.101<br>Sharpe Ratio: 4.109<br>BA_Close: Weight=0.458<br>NEE_Close: Weight=0.379<br>AMZN_Close: Weight=0.112<br>SYK_Close: Weight=0.051",
                    "Return: 14.652%<br>Volatility: 0.071<br>Sharpe Ratio: 2.064<br>BIIB_Close: Weight=0.050<br>ORCL_Close: Weight=0.158<br>CVX_Close: Weight=0.298<br>AEP_Close: Weight=0.494",
                    "Return: 65.170%<br>Volatility: 0.231<br>Sharpe Ratio: 2.817<br>LLY_Close: Weight=0.000<br>MRK_Close: Weight=0.000<br>PYPL_Close: Weight=1.000",
                    "Return: 18.953%<br>Volatility: 0.071<br>Sharpe Ratio: 2.660<br>AEP_Close: Weight=0.158<br>LMT_Close: Weight=0.487<br>KO_Close: Weight=0.355<br>PEP_Close: Weight=0.000",
                    "Return: 70.094%<br>Volatility: 0.340<br>Sharpe Ratio: 2.061<br>MRK_Close: Weight=0.000<br>NVDA_Close: Weight=0.850<br>BIIB_Close: Weight=0.150",
                    "Return: 29.754%<br>Volatility: 0.082<br>Sharpe Ratio: 3.635<br>NEE_Close: Weight=0.424<br>F_Close: Weight=0.052<br>LMT_Close: Weight=0.339<br>BABA_Close: Weight=0.184",
                    "Return: 20.941%<br>Volatility: 0.078<br>Sharpe Ratio: 2.683<br>NEE_Close: Weight=0.516<br>PFE_Close: Weight=0.222<br>GOOGL_Close: Weight=0.262",
                    "Return: 35.492%<br>Volatility: 0.098<br>Sharpe Ratio: 3.632<br>CAT_Close: Weight=0.445<br>PEP_Close: Weight=0.184<br>LLY_Close: Weight=0.094<br>AEP_Close: Weight=0.278",
                    "Return: 45.966%<br>Volatility: 0.114<br>Sharpe Ratio: 4.040<br>UNH_Close: Weight=0.406<br>RTX_Close: Weight=0.018<br>TXN_Close: Weight=0.202<br>CAT_Close: Weight=0.374",
                    "Return: 35.102%<br>Volatility: 0.094<br>Sharpe Ratio: 3.751<br>ORCL_Close: Weight=0.000<br>ABBV_Close: Weight=0.379<br>PEP_Close: Weight=0.281<br>HD_Close: Weight=0.341",
                    "Return: 59.385%<br>Volatility: 0.149<br>Sharpe Ratio: 3.987<br>DHR_Close: Weight=0.000<br>PYPL_Close: Weight=0.371<br>CAT_Close: Weight=0.535<br>PFE_Close: Weight=0.093",
                    "Return: 72.361%<br>Volatility: 0.352<br>Sharpe Ratio: 2.054<br>MO_Close: Weight=0.000<br>GILD_Close: Weight=0.111<br>NVDA_Close: Weight=0.889<br>REGN_Close: Weight=0.000",
                    "Return: 61.532%<br>Volatility: 0.155<br>Sharpe Ratio: 3.980<br>MDT_Close: Weight=0.000<br>PYPL_Close: Weight=0.354<br>BA_Close: Weight=0.646<br>BIIB_Close: Weight=0.000",
                    "Return: 55.630%<br>Volatility: 0.139<br>Sharpe Ratio: 4.009<br>CAT_Close: Weight=0.523<br>VRTX_Close: Weight=0.092<br>COST_Close: Weight=0.042<br>ISRG_Close: Weight=0.343",
                    "Return: 42.253%<br>Volatility: 0.107<br>Sharpe Ratio: 3.954<br>NEE_Close: Weight=0.480<br>BA_Close: Weight=0.520<br>AEP_Close: Weight=0.000",
                    "Return: 61.613%<br>Volatility: 0.137<br>Sharpe Ratio: 4.489<br>BA_Close: Weight=0.462<br>GILD_Close: Weight=0.000<br>CAT_Close: Weight=0.384<br>BABA_Close: Weight=0.153",
                    "Return: 67.903%<br>Volatility: 0.266<br>Sharpe Ratio: 2.553<br>BABA_Close: Weight=0.671<br>TSLA_Close: Weight=0.000<br>NVDA_Close: Weight=0.329",
                    "Return: 30.813%<br>Volatility: 0.087<br>Sharpe Ratio: 3.546<br>MA_Close: Weight=0.360<br>AEP_Close: Weight=0.294<br>WMT_Close: Weight=0.268<br>MS_Close: Weight=0.078",
                    "Return: 20.721%<br>Volatility: 0.073<br>Sharpe Ratio: 2.824<br>SAP_Close: Weight=0.138<br>KO_Close: Weight=0.336<br>HON_Close: Weight=0.526<br>MO_Close: Weight=0.000",
                    "Return: 14.661%<br>Volatility: 0.068<br>Sharpe Ratio: 2.141<br>KO_Close: Weight=0.454<br>PEP_Close: Weight=0.079<br>JNJ_Close: Weight=0.344<br>GM_Close: Weight=0.123",
                    "Return: 32.663%<br>Volatility: 0.091<br>Sharpe Ratio: 3.596<br>HD_Close: Weight=0.397<br>MSFT_Close: Weight=0.339<br>SYK_Close: Weight=0.000<br>MMM_Close: Weight=0.264",
                    "Return: 80.734%<br>Volatility: 0.394<br>Sharpe Ratio: 2.051<br>K_Close: Weight=0.000<br>NVDA_Close: Weight=1.000<br>MO_Close: Weight=0.000",
                    "Return: 43.930%<br>Volatility: 0.105<br>Sharpe Ratio: 4.173<br>GE_Close: Weight=0.000<br>CAT_Close: Weight=0.352<br>V_Close: Weight=0.317<br>UNH_Close: Weight=0.331",
                    "Return: 36.475%<br>Volatility: 0.093<br>Sharpe Ratio: 3.906<br>MCD_Close: Weight=0.403<br>WMT_Close: Weight=0.244<br>RMD_Close: Weight=0.050<br>HD_Close: Weight=0.302"
                  ],
                  "type": "scatter",
                  "x": [
                    0.15411613369428295,
                    0.08539431804543855,
                    0.16322154166689531,
                    0.1367935661437707,
                    0.14413340498410387,
                    0.08279729187047513,
                    0.09247685084986962,
                    0.09757396665065143,
                    0.14956638341212317,
                    0.14100980187162676,
                    0.11317307425351018,
                    0.08999888862392846,
                    0.08561176650677668,
                    0.12374898769565118,
                    0.0954706799825852,
                    0.11486157700224105,
                    0.14031978497448336,
                    0.13346607369256805,
                    0.12208371565441195,
                    0.07574455634700827,
                    0.18018233094810557,
                    0.11559281163377552,
                    0.08358994956025906,
                    0.11395226797485666,
                    0.09554598315084323,
                    0.19685094297143954,
                    0.10437750358952572,
                    0.0905411200892676,
                    0.09149443630550215,
                    0.11225240983562945,
                    0.17430323159855302,
                    0.10222638405475704,
                    0.12963621845391965,
                    0.07299732484022446,
                    0.19723785118200657,
                    0.11432054943221619,
                    0.09392758598626323,
                    0.08083663349517096,
                    0.16225516358219874,
                    0.09213306971662269,
                    0.10056858202301786,
                    0.10951146319415649,
                    0.09129298000120303,
                    0.14924241110928904,
                    0.1032046648624247,
                    0.08591798273742215,
                    0.09815299696247028,
                    0.08358660670832631,
                    0.10745725355928756,
                    0.08086777948688009,
                    0.15965881107285934,
                    0.07901399225840457,
                    0.06982671103171646,
                    0.10129394395221736,
                    0.07099935159604674,
                    0.23137124720696392,
                    0.07124578433965502,
                    0.34009869374781515,
                    0.08186155673400074,
                    0.07805527677824085,
                    0.0977329286955429,
                    0.1137835052899889,
                    0.09359157844524753,
                    0.14895416314680895,
                    0.3522514254680742,
                    0.15460358327813994,
                    0.13875008127562538,
                    0.10685952626419366,
                    0.13725306032908077,
                    0.2660013152099677,
                    0.08689436345082525,
                    0.07337741467119797,
                    0.06848391082928577,
                    0.09082250120766217,
                    0.39371093484792186,
                    0.10527185552844341,
                    0.09338753794293317
                  ],
                  "y": [
                    0.35677505426462175,
                    0.2124226087697915,
                    0.5015874080739613,
                    0.2896565485095725,
                    0.37499947810814266,
                    0.24020831379805238,
                    0.2651146039387931,
                    0.2751664593414297,
                    0.375400298671776,
                    0.3490420814366282,
                    0.3345597724037845,
                    0.24916403989228797,
                    0.2456691534965867,
                    0.38274827366794884,
                    0.30461028440698273,
                    0.3804595081797063,
                    0.40980925351453606,
                    0.4848543234964382,
                    0.46424720166002265,
                    0.17010493842518631,
                    0.5568061850890542,
                    0.4404035196817441,
                    0.2784126581817513,
                    0.439149088542432,
                    0.3106328774688025,
                    0.5772750632833439,
                    0.3171914441972492,
                    0.31047998940813687,
                    0.3164246095312224,
                    0.358960155838018,
                    0.5954074892429084,
                    0.3318384594303551,
                    0.47037896441289634,
                    0.20130479522336134,
                    0.6410730287882033,
                    0.5490093182936704,
                    0.3275955013764111,
                    0.22695875338286403,
                    0.6454323952283993,
                    0.3288769935678558,
                    0.3341067173051242,
                    0.3599114777807653,
                    0.33628129020506836,
                    0.5594512693994895,
                    0.36577355861759653,
                    0.3031821403452897,
                    0.38477497922295906,
                    0.27840152511078237,
                    0.4245692058502092,
                    0.23456729833216938,
                    0.5643739875716297,
                    0.2205545181003018,
                    0.14378117911632865,
                    0.4161849541591672,
                    0.1465196603627419,
                    0.6516957987800326,
                    0.18952767760367747,
                    0.7009368053257868,
                    0.2975365080397726,
                    0.2094095099720859,
                    0.35492228063640124,
                    0.4596620076449237,
                    0.35101952757067467,
                    0.5938475666152229,
                    0.7236112533312088,
                    0.6153157565531197,
                    0.5562959625178663,
                    0.42252698808545974,
                    0.6161337001151179,
                    0.6790344966900135,
                    0.3081279662767397,
                    0.20721497727224203,
                    0.14660613586211596,
                    0.3266318000330182,
                    0.8073419440460475,
                    0.4392983618873906,
                    0.3647546004068763
                  ]
                },
                {
                  "hoverinfo": "text",
                  "hovertext": [
                    "BA_Close <br>Volatility: 0.174 <br>Returns: 59.541% <br>Sharpe Ratio: 3.416",
                    "MCD_Close <br>Volatility: 0.136 <br>Returns: 37.497% <br>Sharpe Ratio: 2.748",
                    "T_Close <br>Volatility: 0.175 <br>Returns: -3.526% <br>Sharpe Ratio: -0.201",
                    "SO_Close <br>Volatility: 0.119 <br>Returns: -1.259% <br>Sharpe Ratio: -0.106",
                    "CPB_Close <br>Volatility: 0.240 <br>Returns: -23.666% <br>Sharpe Ratio: -0.984",
                    "UA_Close <br>Volatility: 0.464 <br>Returns: -42.368% <br>Sharpe Ratio: -0.913",
                    "CVX_Close <br>Volatility: 0.141 <br>Returns: 15.444% <br>Sharpe Ratio: 1.093",
                    "VZ_Close <br>Volatility: 0.169 <br>Returns: 11.300% <br>Sharpe Ratio: 0.668",
                    "AAPL_Close <br>Volatility: 0.176 <br>Returns: 25.044% <br>Sharpe Ratio: 1.423",
                    "RTX_Close <br>Volatility: 0.136 <br>Returns: 16.980% <br>Sharpe Ratio: 1.244",
                    "GOOG_Close <br>Volatility: 0.160 <br>Returns: 27.711% <br>Sharpe Ratio: 1.737",
                    "GOOGL_Close <br>Volatility: 0.157 <br>Returns: 25.766% <br>Sharpe Ratio: 1.638",
                    "CMCSA_Close <br>Volatility: 0.206 <br>Returns: 9.549% <br>Sharpe Ratio: 0.465",
                    "XOM_Close <br>Volatility: 0.104 <br>Returns: 3.880% <br>Sharpe Ratio: 0.374",
                    "BAC_Close <br>Volatility: 0.209 <br>Returns: 20.360% <br>Sharpe Ratio: 0.972",
                    "JPM_Close <br>Volatility: 0.156 <br>Returns: 19.920% <br>Sharpe Ratio: 1.276",
                    "ABT_Close <br>Volatility: 0.140 <br>Returns: 28.667% <br>Sharpe Ratio: 2.053",
                    "GE_Close <br>Volatility: 0.213 <br>Returns: -62.754% <br>Sharpe Ratio: -2.947",
                    "PG_Close <br>Volatility: 0.098 <br>Returns: 4.023% <br>Sharpe Ratio: 0.410",
                    "ETN_Close <br>Volatility: 0.155 <br>Returns: 13.763% <br>Sharpe Ratio: 0.886",
                    "ACN_Close <br>Volatility: 0.133 <br>Returns: 27.346% <br>Sharpe Ratio: 2.059",
                    "UNH_Close <br>Volatility: 0.141 <br>Returns: 34.904% <br>Sharpe Ratio: 2.475",
                    "BABA_Close <br>Volatility: 0.267 <br>Returns: 61.610% <br>Sharpe Ratio: 2.305",
                    "LMT_Close <br>Volatility: 0.110 <br>Returns: 24.360% <br>Sharpe Ratio: 2.206",
                    "COST_Close <br>Volatility: 0.199 <br>Returns: 11.207% <br>Sharpe Ratio: 0.564",
                    "SYY_Close <br>Volatility: 0.161 <br>Returns: 19.125% <br>Sharpe Ratio: 1.185",
                    "BMY_Close <br>Volatility: 0.180 <br>Returns: 11.411% <br>Sharpe Ratio: 0.633",
                    "RMD_Close <br>Volatility: 0.201 <br>Returns: 20.344% <br>Sharpe Ratio: 1.013",
                    "SNAP_Close <br>Volatility: 0.633 <br>Returns: -61.938% <br>Sharpe Ratio: -0.978",
                    "IBM_Close <br>Volatility: 0.158 <br>Returns: -15.905% <br>Sharpe Ratio: -1.009",
                    "DUK_Close <br>Volatility: 0.094 <br>Returns: 6.184% <br>Sharpe Ratio: 0.655",
                    "MMM_Close <br>Volatility: 0.131 <br>Returns: 27.772% <br>Sharpe Ratio: 2.118",
                    "NVDA_Close <br>Volatility: 0.394 <br>Returns: 80.734% <br>Sharpe Ratio: 2.051",
                    "CSCO_Close <br>Volatility: 0.164 <br>Returns: 16.111% <br>Sharpe Ratio: 0.982",
                    "EMR_Close <br>Volatility: 0.163 <br>Returns: 20.267% <br>Sharpe Ratio: 1.246",
                    "INTC_Close <br>Volatility: 0.176 <br>Returns: 32.628% <br>Sharpe Ratio: 1.858",
                    "REGN_Close <br>Volatility: 0.282 <br>Returns: 0.032% <br>Sharpe Ratio: 0.001",
                    "MA_Close <br>Volatility: 0.144 <br>Returns: 37.500% <br>Sharpe Ratio: 2.602",
                    "GIS_Close <br>Volatility: 0.174 <br>Returns: -0.030% <br>Sharpe Ratio: -0.002",
                    "GM_Close <br>Volatility: 0.189 <br>Returns: 14.706% <br>Sharpe Ratio: 0.777",
                    "LLY_Close <br>Volatility: 0.147 <br>Returns: 4.513% <br>Sharpe Ratio: 0.308",
                    "CRM_Close <br>Volatility: 0.156 <br>Returns: 25.484% <br>Sharpe Ratio: 1.634",
                    "BIIB_Close <br>Volatility: 0.228 <br>Returns: 9.799% <br>Sharpe Ratio: 0.430",
                    "KO_Close <br>Volatility: 0.086 <br>Returns: 13.237% <br>Sharpe Ratio: 1.533",
                    "WFC_Close <br>Volatility: 0.171 <br>Returns: 6.484% <br>Sharpe Ratio: 0.380",
                    "DIS_Close <br>Volatility: 0.158 <br>Returns: -1.539% <br>Sharpe Ratio: -0.097",
                    "AMZN_Close <br>Volatility: 0.212 <br>Returns: 38.442% <br>Sharpe Ratio: 1.813",
                    "EXC_Close <br>Volatility: 0.131 <br>Returns: 12.626% <br>Sharpe Ratio: 0.960",
                    "NEE_Close <br>Volatility: 0.112 <br>Returns: 23.547% <br>Sharpe Ratio: 2.101",
                    "PFE_Close <br>Volatility: 0.108 <br>Returns: 9.217% <br>Sharpe Ratio: 0.854",
                    "DHR_Close <br>Volatility: 0.128 <br>Returns: 9.067% <br>Sharpe Ratio: 0.706",
                    "GS_Close <br>Volatility: 0.196 <br>Returns: 2.945% <br>Sharpe Ratio: 0.150",
                    "NFLX_Close <br>Volatility: 0.287 <br>Returns: 38.281% <br>Sharpe Ratio: 1.334",
                    "F_Close <br>Volatility: 0.166 <br>Returns: 2.996% <br>Sharpe Ratio: 0.180",
                    "HON_Close <br>Volatility: 0.102 <br>Returns: 25.067% <br>Sharpe Ratio: 2.467",
                    "ZBH_Close <br>Volatility: 0.194 <br>Returns: 3.617% <br>Sharpe Ratio: 0.186",
                    "TXN_Close <br>Volatility: 0.161 <br>Returns: 37.142% <br>Sharpe Ratio: 2.300",
                    "SYK_Close <br>Volatility: 0.155 <br>Returns: 21.732% <br>Sharpe Ratio: 1.398",
                    "PYPL_Close <br>Volatility: 0.231 <br>Returns: 65.170% <br>Sharpe Ratio: 2.817",
                    "WMT_Close <br>Volatility: 0.182 <br>Returns: 43.058% <br>Sharpe Ratio: 2.372",
                    "SAP_Close <br>Volatility: 0.137 <br>Returns: 22.379% <br>Sharpe Ratio: 1.628",
                    "CAT_Close <br>Volatility: 0.197 <br>Returns: 64.107% <br>Sharpe Ratio: 3.250",
                    "KR_Close <br>Volatility: 0.363 <br>Returns: -11.512% <br>Sharpe Ratio: -0.317",
                    "EW_Close <br>Volatility: 0.232 <br>Returns: 22.603% <br>Sharpe Ratio: 0.973",
                    "MO_Close <br>Volatility: 0.178 <br>Returns: -2.746% <br>Sharpe Ratio: -0.154",
                    "AMGN_Close <br>Volatility: 0.168 <br>Returns: -0.355% <br>Sharpe Ratio: -0.021",
                    "SRE_Close <br>Volatility: 0.134 <br>Returns: 0.416% <br>Sharpe Ratio: 0.031",
                    "NKE_Close <br>Volatility: 0.226 <br>Returns: 10.695% <br>Sharpe Ratio: 0.474",
                    "MSFT_Close <br>Volatility: 0.152 <br>Returns: 36.718% <br>Sharpe Ratio: 2.419",
                    "JNJ_Close <br>Volatility: 0.114 <br>Returns: 16.968% <br>Sharpe Ratio: 1.485",
                    "ADBE_Close <br>Volatility: 0.228 <br>Returns: 45.540% <br>Sharpe Ratio: 1.999",
                    "HD_Close <br>Volatility: 0.135 <br>Returns: 32.454% <br>Sharpe Ratio: 2.404",
                    "K_Close <br>Volatility: 0.182 <br>Returns: -9.007% <br>Sharpe Ratio: -0.496",
                    "BSX_Close <br>Volatility: 0.170 <br>Returns: -1.012% <br>Sharpe Ratio: -0.059",
                    "AEP_Close <br>Volatility: 0.106 <br>Returns: 15.149% <br>Sharpe Ratio: 1.424",
                    "MDT_Close <br>Volatility: 0.152 <br>Returns: 0.821% <br>Sharpe Ratio: 0.054",
                    "ABBV_Close <br>Volatility: 0.179 <br>Returns: 54.051% <br>Sharpe Ratio: 3.026",
                    "QCOM_Close <br>Volatility: 0.239 <br>Returns: 18.777% <br>Sharpe Ratio: 0.786",
                    "DE_Close <br>Volatility: 0.179 <br>Returns: 45.118% <br>Sharpe Ratio: 2.527",
                    "MS_Close <br>Volatility: 0.196 <br>Returns: 16.831% <br>Sharpe Ratio: 0.858",
                    "GILD_Close <br>Volatility: 0.189 <br>Returns: 5.321% <br>Sharpe Ratio: 0.281",
                    "VRTX_Close <br>Volatility: 0.385 <br>Returns: 61.334% <br>Sharpe Ratio: 1.595",
                    "TSLA_Close <br>Volatility: 0.359 <br>Returns: 26.105% <br>Sharpe Ratio: 0.728",
                    "PM_Close <br>Volatility: 0.140 <br>Returns: -0.165% <br>Sharpe Ratio: -0.012",
                    "META_Close <br>Volatility: 0.173 <br>Returns: 30.584% <br>Sharpe Ratio: 1.771",
                    "V_Close <br>Volatility: 0.125 <br>Returns: 30.982% <br>Sharpe Ratio: 2.471",
                    "ORCL_Close <br>Volatility: 0.187 <br>Returns: 13.134% <br>Sharpe Ratio: 0.701",
                    "TMO_Close <br>Volatility: 0.163 <br>Returns: 21.553% <br>Sharpe Ratio: 1.323",
                    "RDY_Close <br>Volatility: 0.304 <br>Returns: -11.923% <br>Sharpe Ratio: -0.392",
                    "BTI_Close <br>Volatility: 0.191 <br>Returns: 11.154% <br>Sharpe Ratio: 0.584",
                    "MRK_Close <br>Volatility: 0.151 <br>Returns: -15.661% <br>Sharpe Ratio: -1.038",
                    "AMD_Close <br>Volatility: 0.583 <br>Returns: -36.203% <br>Sharpe Ratio: -0.621",
                    "PEP_Close <br>Volatility: 0.098 <br>Returns: 12.729% <br>Sharpe Ratio: 1.302",
                    "ISRG_Close <br>Volatility: 0.191 <br>Returns: 46.587% <br>Sharpe Ratio: 2.436"
                  ],
                  "marker": {
                    "color": "brown",
                    "line": {
                      "width": 1
                    },
                    "size": 5,
                    "symbol": "triangle-up"
                  },
                  "mode": "markers",
                  "name": "Individual Assets",
                  "type": "scatter",
                  "x": {
                    "bdata": "n8Wme5FPxj828F6poHfBP45q1nMBa8Y/M5vJYOBrvj8pzLX2AsfOP6mXWruhst0/NAVwKb4Wwj+NfcEsiarFPwKFCLBViMY/4aZ0gZd3wT8i+4mfsWrEP5jaDDn6IMQ/upcR1GRQyj/w5I6o1Za6P0grFIKBzMo/NtNtyur8wz/TL+zwt+DBP0zv4ds0Qss/z1cM2XAYuT+oXzmE1+LDP/skDzX/AME/Mh+685sMwj+/whzM9hvRPzIcArtLRrw/itzVGp1xyT/qZOviL6fEPwVc3Er1Fsc/1LEgSNKyyT9KaSCc0ELkP8r0SZBzK8Q/7xvYBWYruD9+9pQ/d8jAP1r2T1mPMtk/eDLMwPr9xD+TCxA9hdLEPw6Qv+LsecY/CXDYJIYS0j8XfFWi9nLCPw1tYg3TO8Y/8cxi/bU7yD8UbiGuWcnCPzlHFbz09cM/napnQMolzT91TDvmsRu2P92u5C6V1cU/spBZl/I8xD+YOtANKSLLP76BaveL08A/r+WS+n6yvD+vvBheyJ+7P/jkqSMOb8A/toJd8REfyT8F2lAV6FvSPzAY7dAgR8U/H4xt09EDuj9IDDmKXd3IP6ScEDAgq8Q/G6a7kujmwz/Mi/6xkp3NP/GFhj+HPMc/orkhc5KXwT8FFy4EFz/JP3+MEtioNdc/fqECT2e9zT9HJLT6y8XGP2K6C63ldcU/DLXGNAwfwT9gp9qyc+LMPwmMVPrfbMM/EWUNykhAvT/S+j5q7yjNP6GinNN2SME/XyBNc7I+xz/aX9SBWNLFP/XRTPa5PLs/PaUFX3hpwz9OqLMaLN3GPxLlhfBJkc4/czDZgfbaxj92UUxw/BzJP99KAJtjQMg/DkSFl3ad2D8hLBVFBvTWP3oZfs7m4cE/lxBQ+Xwaxj8J/viFLQ3AP719l4oh98c/YfSMmKDbxD/AbyqguXzTPwC+XyI8bcg/I0JI3kZSwz99ZuvUc6fiP/O1DqwcCLk/XnJoD/d5yD8=",
                    "dtype": "f8"
                  },
                  "y": {
                    "bdata": "E/DCAZQN4z/fY/4+gP/XPxAslqMpDaK/qqdknuLHib8xIO4U/0rOv8xF+lqJHdu/B50ivK7Ewz8tDgNiVu28P4ZrigI0B9A/k4+7PB28xT9RlXzXMrzRP652qfCIfdA/lFH8qzByuD+3RGrcMN2jP7USqTCYD8o/Wf2m+HN/yT9dhXt84VjSP2/EdMrIFOS/PNBDO36YpD/ExTw99J3BP31HM1drgNE/e60smbRW1j8b/DIUHrfjP+iXfT5WLs8/IUBpXu2wvD/f7Kkx1XrIP+YRJdEONr0/UZcKZi0Kyj9Wi/SZ9tHjv7bBlZ60W8S/f9uxjcaprz+N+/mZNsbRPx+9y8W+1ek/rOH77V+fxD+VNJNAP/HJP4LeILm24dQ/mUnnXmDsND9mdZ/P/f/XP802qGJisDO/UKeylufSwj8dgYiq2xunP1ZMJYBVT9A/bZuvS9kVuT+vMG+7YvHAP+zUvvUwmbA/XPMRlsCCj78ip3Q+ZJrYP0DMAKpLKcA/4Mjf0s4jzj9KGDySvJi3P2Db0sjrNbc/8M4v6+Mmnj8nCi328H/YP0MewVjKrp4/HP53jwYL0D+/SRqLF4WiP4PyvJJixdc/43FezyXRyz9EbdYlsdrkP+YaQ7axjts/NkoLbwilzD/0yJ+Vq4PkP/8DS2bEeL2/omGfxWzuzD9KvmTS7x6cv7ienI4+Fm2/4IYJ4ZMMcT+L6o0JK2G7P27MB+Hif9c/064XYTK4xT8kkzsWPiXdP06PIThMxdQ/EwuuyvgOt7+WLp8DH7uEv/xUNmT2Y8M/3KMd5dDNgD8EluEc1EvhP3OnD9PQCMg/5STStBzg3D+BFvSbJ4vFPzyrN9A8Pqs/Ce9CmXag4z9iVwFF+7TQP5pSdoz1/Vq/Vv6DreKS0z+QWMYHHdTTPyQs7wK7z8A/lLI9/mSWyz+vb792CYa+v7Gbkousjbw/+FbdL+YLxL9pAadVcCvXv8J6L9gbS8A/juejQ+DQ3T8=",
                    "dtype": "f8"
                  }
                }
              ],
              "layout": {
                "legend": {
                  "y": 5
                },
                "template": {
                  "data": {
                    "bar": [
                      {
                        "error_x": {
                          "color": "#2a3f5f"
                        },
                        "error_y": {
                          "color": "#2a3f5f"
                        },
                        "marker": {
                          "line": {
                            "color": "#E5ECF6",
                            "width": 0.5
                          },
                          "pattern": {
                            "fillmode": "overlay",
                            "size": 10,
                            "solidity": 0.2
                          }
                        },
                        "type": "bar"
                      }
                    ],
                    "barpolar": [
                      {
                        "marker": {
                          "line": {
                            "color": "#E5ECF6",
                            "width": 0.5
                          },
                          "pattern": {
                            "fillmode": "overlay",
                            "size": 10,
                            "solidity": 0.2
                          }
                        },
                        "type": "barpolar"
                      }
                    ],
                    "carpet": [
                      {
                        "aaxis": {
                          "endlinecolor": "#2a3f5f",
                          "gridcolor": "white",
                          "linecolor": "white",
                          "minorgridcolor": "white",
                          "startlinecolor": "#2a3f5f"
                        },
                        "baxis": {
                          "endlinecolor": "#2a3f5f",
                          "gridcolor": "white",
                          "linecolor": "white",
                          "minorgridcolor": "white",
                          "startlinecolor": "#2a3f5f"
                        },
                        "type": "carpet"
                      }
                    ],
                    "choropleth": [
                      {
                        "colorbar": {
                          "outlinewidth": 0,
                          "ticks": ""
                        },
                        "type": "choropleth"
                      }
                    ],
                    "contour": [
                      {
                        "colorbar": {
                          "outlinewidth": 0,
                          "ticks": ""
                        },
                        "colorscale": [
                          [
                            0,
                            "#0d0887"
                          ],
                          [
                            0.1111111111111111,
                            "#46039f"
                          ],
                          [
                            0.2222222222222222,
                            "#7201a8"
                          ],
                          [
                            0.3333333333333333,
                            "#9c179e"
                          ],
                          [
                            0.4444444444444444,
                            "#bd3786"
                          ],
                          [
                            0.5555555555555556,
                            "#d8576b"
                          ],
                          [
                            0.6666666666666666,
                            "#ed7953"
                          ],
                          [
                            0.7777777777777778,
                            "#fb9f3a"
                          ],
                          [
                            0.8888888888888888,
                            "#fdca26"
                          ],
                          [
                            1,
                            "#f0f921"
                          ]
                        ],
                        "type": "contour"
                      }
                    ],
                    "contourcarpet": [
                      {
                        "colorbar": {
                          "outlinewidth": 0,
                          "ticks": ""
                        },
                        "type": "contourcarpet"
                      }
                    ],
                    "heatmap": [
                      {
                        "colorbar": {
                          "outlinewidth": 0,
                          "ticks": ""
                        },
                        "colorscale": [
                          [
                            0,
                            "#0d0887"
                          ],
                          [
                            0.1111111111111111,
                            "#46039f"
                          ],
                          [
                            0.2222222222222222,
                            "#7201a8"
                          ],
                          [
                            0.3333333333333333,
                            "#9c179e"
                          ],
                          [
                            0.4444444444444444,
                            "#bd3786"
                          ],
                          [
                            0.5555555555555556,
                            "#d8576b"
                          ],
                          [
                            0.6666666666666666,
                            "#ed7953"
                          ],
                          [
                            0.7777777777777778,
                            "#fb9f3a"
                          ],
                          [
                            0.8888888888888888,
                            "#fdca26"
                          ],
                          [
                            1,
                            "#f0f921"
                          ]
                        ],
                        "type": "heatmap"
                      }
                    ],
                    "histogram": [
                      {
                        "marker": {
                          "pattern": {
                            "fillmode": "overlay",
                            "size": 10,
                            "solidity": 0.2
                          }
                        },
                        "type": "histogram"
                      }
                    ],
                    "histogram2d": [
                      {
                        "colorbar": {
                          "outlinewidth": 0,
                          "ticks": ""
                        },
                        "colorscale": [
                          [
                            0,
                            "#0d0887"
                          ],
                          [
                            0.1111111111111111,
                            "#46039f"
                          ],
                          [
                            0.2222222222222222,
                            "#7201a8"
                          ],
                          [
                            0.3333333333333333,
                            "#9c179e"
                          ],
                          [
                            0.4444444444444444,
                            "#bd3786"
                          ],
                          [
                            0.5555555555555556,
                            "#d8576b"
                          ],
                          [
                            0.6666666666666666,
                            "#ed7953"
                          ],
                          [
                            0.7777777777777778,
                            "#fb9f3a"
                          ],
                          [
                            0.8888888888888888,
                            "#fdca26"
                          ],
                          [
                            1,
                            "#f0f921"
                          ]
                        ],
                        "type": "histogram2d"
                      }
                    ],
                    "histogram2dcontour": [
                      {
                        "colorbar": {
                          "outlinewidth": 0,
                          "ticks": ""
                        },
                        "colorscale": [
                          [
                            0,
                            "#0d0887"
                          ],
                          [
                            0.1111111111111111,
                            "#46039f"
                          ],
                          [
                            0.2222222222222222,
                            "#7201a8"
                          ],
                          [
                            0.3333333333333333,
                            "#9c179e"
                          ],
                          [
                            0.4444444444444444,
                            "#bd3786"
                          ],
                          [
                            0.5555555555555556,
                            "#d8576b"
                          ],
                          [
                            0.6666666666666666,
                            "#ed7953"
                          ],
                          [
                            0.7777777777777778,
                            "#fb9f3a"
                          ],
                          [
                            0.8888888888888888,
                            "#fdca26"
                          ],
                          [
                            1,
                            "#f0f921"
                          ]
                        ],
                        "type": "histogram2dcontour"
                      }
                    ],
                    "mesh3d": [
                      {
                        "colorbar": {
                          "outlinewidth": 0,
                          "ticks": ""
                        },
                        "type": "mesh3d"
                      }
                    ],
                    "parcoords": [
                      {
                        "line": {
                          "colorbar": {
                            "outlinewidth": 0,
                            "ticks": ""
                          }
                        },
                        "type": "parcoords"
                      }
                    ],
                    "pie": [
                      {
                        "automargin": true,
                        "type": "pie"
                      }
                    ],
                    "scatter": [
                      {
                        "fillpattern": {
                          "fillmode": "overlay",
                          "size": 10,
                          "solidity": 0.2
                        },
                        "type": "scatter"
                      }
                    ],
                    "scatter3d": [
                      {
                        "line": {
                          "colorbar": {
                            "outlinewidth": 0,
                            "ticks": ""
                          }
                        },
                        "marker": {
                          "colorbar": {
                            "outlinewidth": 0,
                            "ticks": ""
                          }
                        },
                        "type": "scatter3d"
                      }
                    ],
                    "scattercarpet": [
                      {
                        "marker": {
                          "colorbar": {
                            "outlinewidth": 0,
                            "ticks": ""
                          }
                        },
                        "type": "scattercarpet"
                      }
                    ],
                    "scattergeo": [
                      {
                        "marker": {
                          "colorbar": {
                            "outlinewidth": 0,
                            "ticks": ""
                          }
                        },
                        "type": "scattergeo"
                      }
                    ],
                    "scattergl": [
                      {
                        "marker": {
                          "colorbar": {
                            "outlinewidth": 0,
                            "ticks": ""
                          }
                        },
                        "type": "scattergl"
                      }
                    ],
                    "scattermap": [
                      {
                        "marker": {
                          "colorbar": {
                            "outlinewidth": 0,
                            "ticks": ""
                          }
                        },
                        "type": "scattermap"
                      }
                    ],
                    "scattermapbox": [
                      {
                        "marker": {
                          "colorbar": {
                            "outlinewidth": 0,
                            "ticks": ""
                          }
                        },
                        "type": "scattermapbox"
                      }
                    ],
                    "scatterpolar": [
                      {
                        "marker": {
                          "colorbar": {
                            "outlinewidth": 0,
                            "ticks": ""
                          }
                        },
                        "type": "scatterpolar"
                      }
                    ],
                    "scatterpolargl": [
                      {
                        "marker": {
                          "colorbar": {
                            "outlinewidth": 0,
                            "ticks": ""
                          }
                        },
                        "type": "scatterpolargl"
                      }
                    ],
                    "scatterternary": [
                      {
                        "marker": {
                          "colorbar": {
                            "outlinewidth": 0,
                            "ticks": ""
                          }
                        },
                        "type": "scatterternary"
                      }
                    ],
                    "surface": [
                      {
                        "colorbar": {
                          "outlinewidth": 0,
                          "ticks": ""
                        },
                        "colorscale": [
                          [
                            0,
                            "#0d0887"
                          ],
                          [
                            0.1111111111111111,
                            "#46039f"
                          ],
                          [
                            0.2222222222222222,
                            "#7201a8"
                          ],
                          [
                            0.3333333333333333,
                            "#9c179e"
                          ],
                          [
                            0.4444444444444444,
                            "#bd3786"
                          ],
                          [
                            0.5555555555555556,
                            "#d8576b"
                          ],
                          [
                            0.6666666666666666,
                            "#ed7953"
                          ],
                          [
                            0.7777777777777778,
                            "#fb9f3a"
                          ],
                          [
                            0.8888888888888888,
                            "#fdca26"
                          ],
                          [
                            1,
                            "#f0f921"
                          ]
                        ],
                        "type": "surface"
                      }
                    ],
                    "table": [
                      {
                        "cells": {
                          "fill": {
                            "color": "#EBF0F8"
                          },
                          "line": {
                            "color": "white"
                          }
                        },
                        "header": {
                          "fill": {
                            "color": "#C8D4E3"
                          },
                          "line": {
                            "color": "white"
                          }
                        },
                        "type": "table"
                      }
                    ]
                  },
                  "layout": {
                    "annotationdefaults": {
                      "arrowcolor": "#2a3f5f",
                      "arrowhead": 0,
                      "arrowwidth": 1
                    },
                    "autotypenumbers": "strict",
                    "coloraxis": {
                      "colorbar": {
                        "outlinewidth": 0,
                        "ticks": ""
                      }
                    },
                    "colorscale": {
                      "diverging": [
                        [
                          0,
                          "#8e0152"
                        ],
                        [
                          0.1,
                          "#c51b7d"
                        ],
                        [
                          0.2,
                          "#de77ae"
                        ],
                        [
                          0.3,
                          "#f1b6da"
                        ],
                        [
                          0.4,
                          "#fde0ef"
                        ],
                        [
                          0.5,
                          "#f7f7f7"
                        ],
                        [
                          0.6,
                          "#e6f5d0"
                        ],
                        [
                          0.7,
                          "#b8e186"
                        ],
                        [
                          0.8,
                          "#7fbc41"
                        ],
                        [
                          0.9,
                          "#4d9221"
                        ],
                        [
                          1,
                          "#276419"
                        ]
                      ],
                      "sequential": [
                        [
                          0,
                          "#0d0887"
                        ],
                        [
                          0.1111111111111111,
                          "#46039f"
                        ],
                        [
                          0.2222222222222222,
                          "#7201a8"
                        ],
                        [
                          0.3333333333333333,
                          "#9c179e"
                        ],
                        [
                          0.4444444444444444,
                          "#bd3786"
                        ],
                        [
                          0.5555555555555556,
                          "#d8576b"
                        ],
                        [
                          0.6666666666666666,
                          "#ed7953"
                        ],
                        [
                          0.7777777777777778,
                          "#fb9f3a"
                        ],
                        [
                          0.8888888888888888,
                          "#fdca26"
                        ],
                        [
                          1,
                          "#f0f921"
                        ]
                      ],
                      "sequentialminus": [
                        [
                          0,
                          "#0d0887"
                        ],
                        [
                          0.1111111111111111,
                          "#46039f"
                        ],
                        [
                          0.2222222222222222,
                          "#7201a8"
                        ],
                        [
                          0.3333333333333333,
                          "#9c179e"
                        ],
                        [
                          0.4444444444444444,
                          "#bd3786"
                        ],
                        [
                          0.5555555555555556,
                          "#d8576b"
                        ],
                        [
                          0.6666666666666666,
                          "#ed7953"
                        ],
                        [
                          0.7777777777777778,
                          "#fb9f3a"
                        ],
                        [
                          0.8888888888888888,
                          "#fdca26"
                        ],
                        [
                          1,
                          "#f0f921"
                        ]
                      ]
                    },
                    "colorway": [
                      "#636efa",
                      "#EF553B",
                      "#00cc96",
                      "#ab63fa",
                      "#FFA15A",
                      "#19d3f3",
                      "#FF6692",
                      "#B6E880",
                      "#FF97FF",
                      "#FECB52"
                    ],
                    "font": {
                      "color": "#2a3f5f"
                    },
                    "geo": {
                      "bgcolor": "white",
                      "lakecolor": "white",
                      "landcolor": "#E5ECF6",
                      "showlakes": true,
                      "showland": true,
                      "subunitcolor": "white"
                    },
                    "hoverlabel": {
                      "align": "left"
                    },
                    "hovermode": "closest",
                    "mapbox": {
                      "style": "light"
                    },
                    "paper_bgcolor": "white",
                    "plot_bgcolor": "#E5ECF6",
                    "polar": {
                      "angularaxis": {
                        "gridcolor": "white",
                        "linecolor": "white",
                        "ticks": ""
                      },
                      "bgcolor": "#E5ECF6",
                      "radialaxis": {
                        "gridcolor": "white",
                        "linecolor": "white",
                        "ticks": ""
                      }
                    },
                    "scene": {
                      "xaxis": {
                        "backgroundcolor": "#E5ECF6",
                        "gridcolor": "white",
                        "gridwidth": 2,
                        "linecolor": "white",
                        "showbackground": true,
                        "ticks": "",
                        "zerolinecolor": "white"
                      },
                      "yaxis": {
                        "backgroundcolor": "#E5ECF6",
                        "gridcolor": "white",
                        "gridwidth": 2,
                        "linecolor": "white",
                        "showbackground": true,
                        "ticks": "",
                        "zerolinecolor": "white"
                      },
                      "zaxis": {
                        "backgroundcolor": "#E5ECF6",
                        "gridcolor": "white",
                        "gridwidth": 2,
                        "linecolor": "white",
                        "showbackground": true,
                        "ticks": "",
                        "zerolinecolor": "white"
                      }
                    },
                    "shapedefaults": {
                      "line": {
                        "color": "#2a3f5f"
                      }
                    },
                    "ternary": {
                      "aaxis": {
                        "gridcolor": "white",
                        "linecolor": "white",
                        "ticks": ""
                      },
                      "baxis": {
                        "gridcolor": "white",
                        "linecolor": "white",
                        "ticks": ""
                      },
                      "bgcolor": "#E5ECF6",
                      "caxis": {
                        "gridcolor": "white",
                        "linecolor": "white",
                        "ticks": ""
                      }
                    },
                    "title": {
                      "x": 0.05
                    },
                    "xaxis": {
                      "automargin": true,
                      "gridcolor": "white",
                      "linecolor": "white",
                      "ticks": "",
                      "title": {
                        "standoff": 15
                      },
                      "zerolinecolor": "white",
                      "zerolinewidth": 2
                    },
                    "yaxis": {
                      "automargin": true,
                      "gridcolor": "white",
                      "linecolor": "white",
                      "ticks": "",
                      "title": {
                        "standoff": 15
                      },
                      "zerolinecolor": "white",
                      "zerolinewidth": 2
                    }
                  }
                },
                "title": {
                  "text": "Sample of Random Portfolios"
                },
                "xaxis": {
                  "title": {
                    "text": "Volatility (Standard Deviation)"
                  }
                },
                "yaxis": {
                  "title": {
                    "text": "Annualized Return"
                  }
                }
              }
            }
          },
          "metadata": {},
          "output_type": "display_data"
        }
      ],
      "source": [
        "fig2 = go.Figure()\n",
        "\n",
        "fig2.add_trace(go.Scatter(\n",
        "    x=[np.sqrt(p[\"variance\"]) for p in dominant_portfolios],  # Convert variance to volatility\n",
        "    y=[p[\"return\"] for p in dominant_portfolios],\n",
        "    mode='markers',\n",
        "    marker=dict(\n",
        "        color=[p[\"return\"] / (np.sqrt(p[\"variance\"])) for p in dominant_portfolios],  # Sharpe Ratio\n",
        "        showscale=True,\n",
        "        size=7,\n",
        "        line=dict(width=1),\n",
        "        colorscale=\"RdBu\",\n",
        "        colorbar=dict(title=\"Sharpe<br>Ratio\")\n",
        "    ),\n",
        "    hoverinfo='text',\n",
        "    text=[\n",
        "        f\"Return: {p['return']:.3%}<br>Volatility: {np.sqrt(p['variance']):.3f}<br>\" +\n",
        "        f\"Sharpe Ratio: {p['sharpe']:.3f}<br>\" +\n",
        "        \"<br>\".join([f\"{p['tickers'][i]}: Weight={p['weights'][i]:.3f}\" for i in range(len(p['tickers']))])\n",
        "        for p in dominant_portfolios\n",
        "    ],\n",
        "    name=\"Portfolios\"\n",
        "))\n",
        "\n",
        "fig2.add_trace(go.Scatter(\n",
        "    x=volatility,\n",
        "    y=annualized_returns,\n",
        "    mode='markers',\n",
        "    hoverinfo='text',\n",
        "    hovertext=[\n",
        "        f\"{name} <br>Volatility: {vol:.3f} <br>Returns: {ret:.3%} <br>Sharpe Ratio: {sr:.3f}\"\n",
        "        for name, vol, ret, sr in zip(names, volatility, annualized_returns, sharpe_ratios)\n",
        "    ],\n",
        "    marker=dict(\n",
        "        color='brown',\n",
        "        size=5,\n",
        "        symbol='triangle-up',  # Sets the marker shape to a triangle\n",
        "        line=dict(width=1)\n",
        "    ),\n",
        "    name=\"Individual Assets\"\n",
        "))\n",
        "\n",
        "fig2.update_layout(\n",
        "    title='Sample of Random Portfolios',\n",
        "    xaxis_title='Volatility (Standard Deviation)',\n",
        "    yaxis_title='Annualized Return',\n",
        "    legend=dict(y=5\n",
        "    )\n",
        ")\n",
        "\n",
        "\n",
        "fig2.show()"
      ]
    },
    {
      "cell_type": "markdown",
      "metadata": {
        "id": "6-WDtJTgabDV"
      },
      "source": [
        "## 5.0 ML Method"
      ]
    },
    {
      "cell_type": "code",
      "execution_count": null,
      "metadata": {
        "id": "7xbdm-4NabDV",
        "outputId": "419aa594-3dc4-4678-a08a-865db3f896d0"
      },
      "outputs": [
        {
          "name": "stderr",
          "output_type": "stream",
          "text": [
            "100%|██████████| 300/300 [00:02<00:00, 135.12it/s]\n"
          ]
        },
        {
          "data": {
            "text/plain": [
              "({'tickers': ['BA_Close',\n",
              "   'MCD_Close',\n",
              "   'T_Close',\n",
              "   'SO_Close',\n",
              "   'CPB_Close',\n",
              "   'UA_Close',\n",
              "   'CVX_Close',\n",
              "   'VZ_Close'],\n",
              "  'weights': array([4.25009815e-01, 4.36521607e-01, 3.78130817e-15, 0.00000000e+00,\n",
              "         0.00000000e+00, 1.39181695e-14, 1.38468578e-01, 0.00000000e+00]),\n",
              "  'return': np.float64(0.43812138941036305),\n",
              "  'variance': np.float64(0.010073871734639592),\n",
              "  'sharpe': np.float64(4.3651206088251815)},\n",
              " {'tickers': ['BA_Close',\n",
              "   'MCD_Close',\n",
              "   'SO_Close',\n",
              "   'CVX_Close',\n",
              "   'ABBV_Close',\n",
              "   'UNH_Close',\n",
              "   'WMT_Close',\n",
              "   'CAT_Close'],\n",
              "  'weights': array([2.41173955e-01, 1.18220137e-01, 5.76581256e-16, 5.63014338e-02,\n",
              "         2.05201879e-01, 9.58477524e-02, 1.53583598e-01, 1.29671244e-01]),\n",
              "  'return': np.float64(0.49024817463473286),\n",
              "  'variance': np.float64(0.007244346183071566),\n",
              "  'sharpe': np.float64(5.759919151053737)})"
            ]
          },
          "execution_count": 224,
          "metadata": {},
          "output_type": "execute_result"
        }
      ],
      "source": [
        "def MLRBA(ticker, covariances, returns, num_iterations=1000, risk_free_rate = 0, return_power = 1, std_power = 1, return_weight=2/5, corr_weight=1/5, vol_weight= 2/5):\n",
        "    num_assets =  8\n",
        "    base_portfolio = np.random.choice(list(ticker), num_assets, replace=False)\n",
        "    base_portfolio = list(ticker)[:num_assets]\n",
        "    highest_weighted_sharpe = -np.inf\n",
        "\n",
        "    all_portfolios = []\n",
        "\n",
        "    tested_assets = set()\n",
        "\n",
        "    def _get_portfolio_stats (portfolio_assets, risk_free_rate = 0):\n",
        "        p_asset_ret = returns.loc[portfolio_assets].values\n",
        "        p_asset_var = covariances.loc[portfolio_assets, portfolio_assets].values\n",
        "        best_p_weights = maximize_sharpe(p_asset_ret, p_asset_var)\n",
        "        p_ret = np.dot(best_p_weights,p_asset_ret)\n",
        "        p_var = np.dot(best_p_weights, p_asset_var @ best_p_weights)\n",
        "        sharpe = get_sharpe_ratio(p_ret, p_var, risk_free_rate, return_power, std_power)\n",
        "\n",
        "        return p_asset_ret, p_asset_var, sharpe, p_ret, p_var, best_p_weights\n",
        "\n",
        "    def _update_portfolios_array(portfolios, assets, weights, p_ret, p_var):\n",
        "        portfolios.append({\n",
        "            \"tickers\": assets,\n",
        "            \"weights\": weights,\n",
        "            \"return\": p_ret,\n",
        "            \"variance\": p_var,\n",
        "            \"sharpe\": (p_ret-risk_free_rate)/np.sqrt(p_var),\n",
        "        })\n",
        "\n",
        "    curr_ret, curr_var, curr_weighted_sharpe, curr_p_return, curr_p_variance, curr_p_weights = _get_portfolio_stats(base_portfolio, risk_free_rate)\n",
        "    _update_portfolios_array(all_portfolios, base_portfolio, curr_p_weights, curr_p_return, curr_p_variance)\n",
        "\n",
        "    good_portfolios = all_portfolios.copy()\n",
        "    best_portfolio = base_portfolio.copy()\n",
        "\n",
        "    highest_weighted_sharpe = curr_weighted_sharpe\n",
        "    for _ in tqdm(range(num_iterations)):\n",
        "        asset_to_remove = find_best_asset_to_remove(best_portfolio, curr_var, curr_ret, return_weight, corr_weight, vol_weight)     #most_correlated_asset, _, _ = find_correlation_matrix(portfolio, curr_variances)\n",
        "        new_portfolio = [str(asset) for asset in best_portfolio if asset != asset_to_remove]\n",
        "\n",
        "        ranked_assets = find_asset_to_add(new_portfolio, ticker, covariances, returns, return_weight, corr_weight, vol_weight)         # Find the next best asset to add to the portfolio\n",
        "        asset_to_add = ranked_assets.index[0]\n",
        "\n",
        "        for asset in ranked_assets.index:\n",
        "            if asset not in tested_assets:\n",
        "                asset_to_add = asset\n",
        "                break\n",
        "\n",
        "        new_portfolio.append(asset_to_add)\n",
        "        tested_assets.add(asset_to_add)\n",
        "\n",
        "        # Substitute in and measure portfolio performance based on sharpe ratio\n",
        "        new_returns, new_var, new_weighted_sharpe, new_p_return, new_p_variance, new_p_weights = _get_portfolio_stats(new_portfolio, risk_free_rate)\n",
        "\n",
        "        _update_portfolios_array(all_portfolios, new_portfolio, new_p_weights, new_p_return, new_p_variance)\n",
        "\n",
        "        if new_weighted_sharpe > highest_weighted_sharpe:\n",
        "            highest_weighted_sharpe = new_weighted_sharpe\n",
        "            best_portfolio = new_portfolio\n",
        "            curr_ret, curr_var = new_returns, new_var\n",
        "\n",
        "            _update_portfolios_array(good_portfolios, new_portfolio, new_p_weights, new_p_return, new_p_variance)\n",
        "\n",
        "            tested_assets.clear()\n",
        "\n",
        "        # If Sharpe ratio was worse, then move on to the next least correlated asset\n",
        "        # If Sharpe ratio is better, set as new base portfolio, and repeat the process for num_iterations times\n",
        "        # Adjust the sharpe ratio, maybe more emphasis on returns/volatility\n",
        "        # Update weights to value return or corr\n",
        "        # See how many iterations it takes to get here, whats a good threshold/stopping point\n",
        "        # Backtesting\n",
        "        # Train a model to maybe predict the sharpe ratio of a portfolio\n",
        "\n",
        "    base_details = good_portfolios[0]\n",
        "    best_details = good_portfolios[-1]\n",
        "\n",
        "    return base_details, best_details, good_portfolios, all_portfolios\n",
        "\n",
        "base_portfolio, best_portfolio, good_portfolios, total_portfolios = MLRBA(names, cov, annualized_returns, 300)\n",
        "base_portfolio, best_portfolio\n"
      ]
    },
    {
      "cell_type": "code",
      "execution_count": 225,
      "metadata": {
        "id": "Znh8vrYQabDW",
        "outputId": "5bbb5e46-8027-4b21-e833-e8ce13010964"
      },
      "outputs": [
        {
          "data": {
            "application/vnd.plotly.v1+json": {
              "config": {
                "plotlyServerURL": "https://plot.ly"
              },
              "data": [
                {
                  "hoverinfo": "text",
                  "marker": {
                    "color": [
                      4.3651206088251815,
                      4.592267902641675,
                      4.77749761996699,
                      4.875982062277604,
                      4.875982062277615,
                      4.875982062277615,
                      4.914709855600594,
                      4.958263940094392,
                      4.958263940094392,
                      4.973790765715882,
                      4.924895246826798,
                      4.973790765716132,
                      4.924895246826798,
                      4.973790765716132,
                      4.905633107691577,
                      4.927702613951079,
                      4.905633309697941,
                      4.909199112963667,
                      4.905633272512587,
                      4.905633371791838,
                      5.040720239964816,
                      5.009013867999503,
                      5.033215665884,
                      5.040720239960479,
                      4.97910765107163,
                      4.9770290363674095,
                      4.977028990451905,
                      4.977087637712223,
                      4.977028962839851,
                      4.977029083343266,
                      5.033836069867274,
                      4.97702875158346,
                      4.997738236172465,
                      4.996892020976269,
                      4.978019406958966,
                      5.534477107364291,
                      5.566119139759915,
                      5.566119139759915,
                      5.536999378512864,
                      5.53447710736315,
                      5.57109384566105,
                      5.566119139759915,
                      5.536999378512864,
                      5.53447710736315,
                      5.57109384566105,
                      5.5259037890120455,
                      5.525518009877099,
                      5.525517959122366,
                      5.525518281416772,
                      5.525518255861129,
                      5.546268595692024,
                      5.52551803522942,
                      5.525759418025992,
                      5.526251837340249,
                      5.525518284577409,
                      5.5255182625142725,
                      5.525518235941091,
                      5.525518281777276,
                      5.525518263745431,
                      5.528695947790386,
                      5.574836250884021,
                      5.537552528835129,
                      5.4763738393037835,
                      5.523146476370726,
                      5.552728269019549,
                      5.451490284852482,
                      5.451490237398949,
                      5.4710743243697655,
                      5.492014763070939,
                      5.451490203498317,
                      5.453783991394321,
                      5.5748362508829565,
                      5.456040534331624,
                      5.457607774182895,
                      5.4514900776486215,
                      5.451490272833936,
                      5.4694456831834515,
                      5.457752415578864,
                      5.451490282317097,
                      5.4514902768474265,
                      5.458684815928023,
                      5.4514902821056594,
                      5.45149026688144,
                      5.451502116639837,
                      5.451490221095899,
                      5.451490099503144,
                      5.451490251312554,
                      5.451490278755906,
                      5.759919151052957,
                      5.681979149322085,
                      5.592328132792167,
                      5.604753984293102,
                      5.759919151053737,
                      5.681979149322085,
                      5.592328132792167,
                      5.604753984293102,
                      5.759919151053737,
                      5.7019535868585205,
                      5.618492684979458,
                      5.569858425841695,
                      5.572767389251641,
                      5.573930737548029,
                      5.627753610124219,
                      5.56986204078933,
                      5.692058668188652,
                      5.5698586276256865,
                      5.579121292940632,
                      5.569858667814943,
                      5.577697665753376,
                      5.5698583787116345,
                      5.6022516814102294,
                      5.623563445521697,
                      5.569858617888247,
                      5.58251041787532,
                      5.569914458988995,
                      5.56985852018193,
                      5.5717677508452566,
                      5.569858506421502,
                      5.569858660351718,
                      5.56985860818215,
                      5.569858614118202,
                      5.572565445732062,
                      5.569858619481601,
                      5.569858660476607,
                      5.56985860555261,
                      5.569858428682546,
                      5.650534167631196,
                      5.651444219317618,
                      5.569858429304628,
                      5.575696431873538,
                      5.575346701786856,
                      5.578935930623235,
                      5.570518201335193,
                      5.569858659531002,
                      5.586346367183513,
                      5.5698586171853295,
                      5.569858631992988,
                      5.724455412105942,
                      5.569858639715901,
                      5.571590443132238,
                      5.5701305336269975,
                      5.569858556881503,
                      5.569858620375908,
                      5.569858347055966,
                      5.569858654300164,
                      5.569858636053767,
                      5.577815572461133,
                      5.569858665912582,
                      5.569858417333572,
                      5.569858664368728,
                      5.569858657052606,
                      5.569858656413249,
                      5.569858658284785,
                      5.569858647767479,
                      5.569858332387774,
                      5.569858418788694,
                      5.569858659167263,
                      5.569858661351439,
                      5.569858670047561,
                      5.569858592651752,
                      5.569858365804254,
                      5.569858640917918,
                      5.575702630387122,
                      5.569858314569948,
                      5.56985865298983,
                      5.582796169534955,
                      5.588931584389036,
                      5.569858545275599,
                      5.569858626852609,
                      5.56985857989143,
                      5.569858647264408,
                      5.569858661692425,
                      5.56985865600176,
                      5.56985861474782,
                      5.569858663569519,
                      5.576377579169701,
                      5.5698585818464945,
                      5.569858651824096,
                      5.56985862116569,
                      5.569858608613523,
                      5.681979149322085,
                      5.681979149322085,
                      5.681979149322085,
                      5.681979149322085,
                      5.681979149322085,
                      5.681979149322085,
                      5.681979149322085,
                      5.681979149322085,
                      5.681979149322085,
                      5.681979149322085,
                      5.681979149322085,
                      5.681979149322085,
                      5.681979149322085,
                      5.681979149322085,
                      5.681979149322085,
                      5.681979149322085,
                      5.681979149322085,
                      5.681979149322085,
                      5.681979149322085,
                      5.681979149322085,
                      5.681979149322085,
                      5.681979149322085,
                      5.681979149322085,
                      5.681979149322085,
                      5.681979149322085,
                      5.681979149322085,
                      5.681979149322085,
                      5.681979149322085,
                      5.681979149322085,
                      5.681979149322085,
                      5.681979149322085,
                      5.681979149322085,
                      5.681979149322085,
                      5.681979149322085,
                      5.681979149322085,
                      5.681979149322085,
                      5.681979149322085,
                      5.681979149322085,
                      5.681979149322085,
                      5.681979149322085,
                      5.681979149322085,
                      5.681979149322085,
                      5.681979149322085,
                      5.681979149322085,
                      5.681979149322085,
                      5.681979149322085,
                      5.681979149322085,
                      5.681979149322085,
                      5.681979149322085,
                      5.681979149322085,
                      5.681979149322085,
                      5.681979149322085,
                      5.681979149322085,
                      5.681979149322085,
                      5.681979149322085,
                      5.681979149322085,
                      5.681979149322085,
                      5.681979149322085,
                      5.681979149322085,
                      5.681979149322085,
                      5.681979149322085,
                      5.681979149322085,
                      5.681979149322085,
                      5.681979149322085,
                      5.681979149322085,
                      5.681979149322085,
                      5.681979149322085,
                      5.681979149322085,
                      5.681979149322085,
                      5.681979149322085,
                      5.681979149322085,
                      5.681979149322085,
                      5.681979149322085,
                      5.681979149322085,
                      5.681979149322085,
                      5.681979149322085,
                      5.681979149322085,
                      5.681979149322085,
                      5.681979149322085,
                      5.681979149322085,
                      5.681979149322085,
                      5.681979149322085,
                      5.681979149322085,
                      5.681979149322085,
                      5.681979149322085,
                      5.681979149322085,
                      5.681979149322085,
                      5.681979149322085,
                      5.681979149322085,
                      5.681979149322085,
                      5.681979149322085,
                      5.681979149322085,
                      5.681979149322085,
                      5.681979149322085,
                      5.681979149322085,
                      5.681979149322085,
                      5.681979149322085,
                      5.681979149322085,
                      5.681979149322085,
                      5.681979149322085,
                      5.681979149322085,
                      5.681979149322085,
                      5.681979149322085,
                      5.681979149322085,
                      5.681979149322085,
                      5.681979149322085,
                      5.681979149322085,
                      5.681979149322085,
                      5.681979149322085,
                      5.681979149322085,
                      5.681979149322085,
                      5.681979149322085,
                      5.681979149322085,
                      5.681979149322085,
                      5.681979149322085,
                      5.681979149322085,
                      5.681979149322085,
                      5.681979149322085,
                      5.681979149322085,
                      5.681979149322085,
                      5.681979149322085
                    ],
                    "colorbar": {
                      "title": {
                        "text": "Sharpe<br>Ratio"
                      }
                    },
                    "colorscale": [
                      [
                        0,
                        "rgb(103,0,31)"
                      ],
                      [
                        0.1,
                        "rgb(178,24,43)"
                      ],
                      [
                        0.2,
                        "rgb(214,96,77)"
                      ],
                      [
                        0.3,
                        "rgb(244,165,130)"
                      ],
                      [
                        0.4,
                        "rgb(253,219,199)"
                      ],
                      [
                        0.5,
                        "rgb(247,247,247)"
                      ],
                      [
                        0.6,
                        "rgb(209,229,240)"
                      ],
                      [
                        0.7,
                        "rgb(146,197,222)"
                      ],
                      [
                        0.8,
                        "rgb(67,147,195)"
                      ],
                      [
                        0.9,
                        "rgb(33,102,172)"
                      ],
                      [
                        1,
                        "rgb(5,48,97)"
                      ]
                    ],
                    "line": {
                      "width": 1
                    },
                    "showscale": true,
                    "size": 7
                  },
                  "mode": "markers",
                  "name": "Portfolios",
                  "text": [
                    "Return: 43.812%<br>Volatility: 0.100<br>Sharpe Ratio: 4.365<br>BA_Close: Weight=0.425<br>MCD_Close: Weight=0.437<br>T_Close: Weight=0.000<br>SO_Close: Weight=0.000<br>CPB_Close: Weight=0.000<br>UA_Close: Weight=0.000<br>CVX_Close: Weight=0.138<br>VZ_Close: Weight=0.000",
                    "Return: 46.679%<br>Volatility: 0.102<br>Sharpe Ratio: 4.592<br>BA_Close: Weight=0.395<br>MCD_Close: Weight=0.387<br>T_Close: Weight=0.000<br>SO_Close: Weight=0.000<br>CPB_Close: Weight=0.000<br>CVX_Close: Weight=0.136<br>VZ_Close: Weight=0.001<br>NVDA_Close: Weight=0.081",
                    "Return: 52.223%<br>Volatility: 0.109<br>Sharpe Ratio: 4.777<br>BA_Close: Weight=0.377<br>MCD_Close: Weight=0.305<br>T_Close: Weight=0.000<br>SO_Close: Weight=0.000<br>CVX_Close: Weight=0.066<br>VZ_Close: Weight=0.000<br>NVDA_Close: Weight=0.070<br>CAT_Close: Weight=0.182",
                    "Return: 53.435%<br>Volatility: 0.110<br>Sharpe Ratio: 4.876<br>BA_Close: Weight=0.339<br>MCD_Close: Weight=0.253<br>SO_Close: Weight=0.000<br>CVX_Close: Weight=0.068<br>VZ_Close: Weight=0.000<br>NVDA_Close: Weight=0.047<br>CAT_Close: Weight=0.184<br>PYPL_Close: Weight=0.110",
                    "Return: 53.435%<br>Volatility: 0.110<br>Sharpe Ratio: 4.876<br>BA_Close: Weight=0.339<br>MCD_Close: Weight=0.253<br>SO_Close: Weight=0.000<br>CVX_Close: Weight=0.068<br>VZ_Close: Weight=0.000<br>CAT_Close: Weight=0.184<br>PYPL_Close: Weight=0.110<br>NVDA_Close: Weight=0.047",
                    "Return: 53.435%<br>Volatility: 0.110<br>Sharpe Ratio: 4.876<br>BA_Close: Weight=0.339<br>MCD_Close: Weight=0.253<br>SO_Close: Weight=0.000<br>CVX_Close: Weight=0.068<br>VZ_Close: Weight=0.000<br>CAT_Close: Weight=0.184<br>PYPL_Close: Weight=0.110<br>NVDA_Close: Weight=0.047",
                    "Return: 52.969%<br>Volatility: 0.108<br>Sharpe Ratio: 4.915<br>BA_Close: Weight=0.315<br>MCD_Close: Weight=0.240<br>SO_Close: Weight=0.000<br>CVX_Close: Weight=0.068<br>VZ_Close: Weight=0.000<br>CAT_Close: Weight=0.194<br>PYPL_Close: Weight=0.128<br>VRTX_Close: Weight=0.056",
                    "Return: 53.318%<br>Volatility: 0.108<br>Sharpe Ratio: 4.958<br>BA_Close: Weight=0.316<br>MCD_Close: Weight=0.242<br>SO_Close: Weight=0.000<br>CVX_Close: Weight=0.073<br>CAT_Close: Weight=0.176<br>PYPL_Close: Weight=0.102<br>VRTX_Close: Weight=0.052<br>NVDA_Close: Weight=0.040",
                    "Return: 53.318%<br>Volatility: 0.108<br>Sharpe Ratio: 4.958<br>BA_Close: Weight=0.316<br>MCD_Close: Weight=0.242<br>SO_Close: Weight=0.000<br>CVX_Close: Weight=0.073<br>CAT_Close: Weight=0.176<br>PYPL_Close: Weight=0.102<br>VRTX_Close: Weight=0.052<br>NVDA_Close: Weight=0.040",
                    "Return: 52.373%<br>Volatility: 0.105<br>Sharpe Ratio: 4.974<br>BA_Close: Weight=0.295<br>MCD_Close: Weight=0.244<br>SO_Close: Weight=0.000<br>CVX_Close: Weight=0.076<br>CAT_Close: Weight=0.173<br>PYPL_Close: Weight=0.098<br>VRTX_Close: Weight=0.046<br>BABA_Close: Weight=0.068",
                    "Return: 52.680%<br>Volatility: 0.107<br>Sharpe Ratio: 4.925<br>BA_Close: Weight=0.316<br>MCD_Close: Weight=0.255<br>SO_Close: Weight=0.000<br>CVX_Close: Weight=0.074<br>CAT_Close: Weight=0.170<br>PYPL_Close: Weight=0.090<br>BABA_Close: Weight=0.067<br>NVDA_Close: Weight=0.029",
                    "Return: 52.373%<br>Volatility: 0.105<br>Sharpe Ratio: 4.974<br>BA_Close: Weight=0.295<br>MCD_Close: Weight=0.244<br>SO_Close: Weight=0.000<br>CVX_Close: Weight=0.076<br>CAT_Close: Weight=0.173<br>PYPL_Close: Weight=0.098<br>BABA_Close: Weight=0.068<br>VRTX_Close: Weight=0.046",
                    "Return: 52.680%<br>Volatility: 0.107<br>Sharpe Ratio: 4.925<br>BA_Close: Weight=0.316<br>MCD_Close: Weight=0.255<br>SO_Close: Weight=0.000<br>CVX_Close: Weight=0.074<br>CAT_Close: Weight=0.170<br>PYPL_Close: Weight=0.090<br>BABA_Close: Weight=0.067<br>NVDA_Close: Weight=0.029",
                    "Return: 52.373%<br>Volatility: 0.105<br>Sharpe Ratio: 4.974<br>BA_Close: Weight=0.295<br>MCD_Close: Weight=0.244<br>SO_Close: Weight=0.000<br>CVX_Close: Weight=0.076<br>CAT_Close: Weight=0.173<br>PYPL_Close: Weight=0.098<br>BABA_Close: Weight=0.068<br>VRTX_Close: Weight=0.046",
                    "Return: 52.298%<br>Volatility: 0.107<br>Sharpe Ratio: 4.906<br>BA_Close: Weight=0.312<br>MCD_Close: Weight=0.255<br>SO_Close: Weight=0.000<br>CVX_Close: Weight=0.072<br>CAT_Close: Weight=0.178<br>PYPL_Close: Weight=0.102<br>BABA_Close: Weight=0.082<br>NFLX_Close: Weight=0.000",
                    "Return: 51.186%<br>Volatility: 0.104<br>Sharpe Ratio: 4.928<br>BA_Close: Weight=0.303<br>MCD_Close: Weight=0.243<br>SO_Close: Weight=0.000<br>CVX_Close: Weight=0.083<br>CAT_Close: Weight=0.169<br>PYPL_Close: Weight=0.077<br>BABA_Close: Weight=0.074<br>ADBE_Close: Weight=0.051",
                    "Return: 52.297%<br>Volatility: 0.107<br>Sharpe Ratio: 4.906<br>BA_Close: Weight=0.311<br>MCD_Close: Weight=0.255<br>SO_Close: Weight=0.000<br>CVX_Close: Weight=0.072<br>CAT_Close: Weight=0.178<br>PYPL_Close: Weight=0.102<br>BABA_Close: Weight=0.082<br>AMD_Close: Weight=0.000",
                    "Return: 51.410%<br>Volatility: 0.105<br>Sharpe Ratio: 4.909<br>BA_Close: Weight=0.305<br>MCD_Close: Weight=0.245<br>SO_Close: Weight=0.000<br>CVX_Close: Weight=0.075<br>CAT_Close: Weight=0.172<br>PYPL_Close: Weight=0.087<br>BABA_Close: Weight=0.078<br>MA_Close: Weight=0.038",
                    "Return: 52.304%<br>Volatility: 0.107<br>Sharpe Ratio: 4.906<br>BA_Close: Weight=0.312<br>MCD_Close: Weight=0.254<br>SO_Close: Weight=0.000<br>CVX_Close: Weight=0.072<br>CAT_Close: Weight=0.178<br>PYPL_Close: Weight=0.102<br>BABA_Close: Weight=0.082<br>TSLA_Close: Weight=0.000",
                    "Return: 52.300%<br>Volatility: 0.107<br>Sharpe Ratio: 4.906<br>BA_Close: Weight=0.312<br>MCD_Close: Weight=0.255<br>SO_Close: Weight=0.000<br>CVX_Close: Weight=0.072<br>CAT_Close: Weight=0.178<br>PYPL_Close: Weight=0.102<br>BABA_Close: Weight=0.082<br>TXN_Close: Weight=0.000",
                    "Return: 50.074%<br>Volatility: 0.099<br>Sharpe Ratio: 5.041<br>BA_Close: Weight=0.287<br>MCD_Close: Weight=0.221<br>SO_Close: Weight=0.000<br>CVX_Close: Weight=0.089<br>CAT_Close: Weight=0.156<br>PYPL_Close: Weight=0.044<br>BABA_Close: Weight=0.065<br>ISRG_Close: Weight=0.138",
                    "Return: 50.878%<br>Volatility: 0.102<br>Sharpe Ratio: 5.009<br>BA_Close: Weight=0.309<br>MCD_Close: Weight=0.219<br>SO_Close: Weight=0.000<br>CVX_Close: Weight=0.085<br>CAT_Close: Weight=0.162<br>PYPL_Close: Weight=0.052<br>ISRG_Close: Weight=0.141<br>NVDA_Close: Weight=0.032",
                    "Return: 50.702%<br>Volatility: 0.101<br>Sharpe Ratio: 5.033<br>BA_Close: Weight=0.293<br>MCD_Close: Weight=0.211<br>SO_Close: Weight=0.000<br>CVX_Close: Weight=0.084<br>CAT_Close: Weight=0.171<br>PYPL_Close: Weight=0.068<br>ISRG_Close: Weight=0.133<br>VRTX_Close: Weight=0.040",
                    "Return: 50.074%<br>Volatility: 0.099<br>Sharpe Ratio: 5.041<br>BA_Close: Weight=0.287<br>MCD_Close: Weight=0.221<br>SO_Close: Weight=0.000<br>CVX_Close: Weight=0.089<br>CAT_Close: Weight=0.156<br>PYPL_Close: Weight=0.044<br>ISRG_Close: Weight=0.138<br>BABA_Close: Weight=0.065",
                    "Return: 50.175%<br>Volatility: 0.101<br>Sharpe Ratio: 4.979<br>BA_Close: Weight=0.305<br>MCD_Close: Weight=0.214<br>SO_Close: Weight=0.000<br>CVX_Close: Weight=0.084<br>CAT_Close: Weight=0.173<br>PYPL_Close: Weight=0.064<br>ISRG_Close: Weight=0.145<br>ADBE_Close: Weight=0.016",
                    "Return: 50.415%<br>Volatility: 0.101<br>Sharpe Ratio: 4.977<br>BA_Close: Weight=0.307<br>MCD_Close: Weight=0.215<br>SO_Close: Weight=0.000<br>CVX_Close: Weight=0.081<br>CAT_Close: Weight=0.175<br>PYPL_Close: Weight=0.069<br>ISRG_Close: Weight=0.152<br>NFLX_Close: Weight=0.000",
                    "Return: 50.421%<br>Volatility: 0.101<br>Sharpe Ratio: 4.977<br>BA_Close: Weight=0.307<br>MCD_Close: Weight=0.215<br>SO_Close: Weight=0.000<br>CVX_Close: Weight=0.081<br>CAT_Close: Weight=0.175<br>PYPL_Close: Weight=0.069<br>ISRG_Close: Weight=0.152<br>AMD_Close: Weight=0.000",
                    "Return: 50.320%<br>Volatility: 0.101<br>Sharpe Ratio: 4.977<br>BA_Close: Weight=0.306<br>MCD_Close: Weight=0.214<br>SO_Close: Weight=0.000<br>CVX_Close: Weight=0.082<br>CAT_Close: Weight=0.174<br>PYPL_Close: Weight=0.067<br>ISRG_Close: Weight=0.151<br>MA_Close: Weight=0.005",
                    "Return: 50.418%<br>Volatility: 0.101<br>Sharpe Ratio: 4.977<br>BA_Close: Weight=0.307<br>MCD_Close: Weight=0.215<br>SO_Close: Weight=0.000<br>CVX_Close: Weight=0.081<br>CAT_Close: Weight=0.175<br>PYPL_Close: Weight=0.069<br>ISRG_Close: Weight=0.152<br>TSLA_Close: Weight=0.000",
                    "Return: 50.418%<br>Volatility: 0.101<br>Sharpe Ratio: 4.977<br>BA_Close: Weight=0.307<br>MCD_Close: Weight=0.215<br>SO_Close: Weight=0.000<br>CVX_Close: Weight=0.081<br>CAT_Close: Weight=0.175<br>PYPL_Close: Weight=0.069<br>ISRG_Close: Weight=0.152<br>TXN_Close: Weight=0.000",
                    "Return: 49.896%<br>Volatility: 0.099<br>Sharpe Ratio: 5.034<br>BA_Close: Weight=0.290<br>MCD_Close: Weight=0.205<br>SO_Close: Weight=0.000<br>CVX_Close: Weight=0.067<br>CAT_Close: Weight=0.138<br>PYPL_Close: Weight=0.065<br>ISRG_Close: Weight=0.141<br>DE_Close: Weight=0.094",
                    "Return: 50.423%<br>Volatility: 0.101<br>Sharpe Ratio: 4.977<br>BA_Close: Weight=0.307<br>MCD_Close: Weight=0.215<br>SO_Close: Weight=0.000<br>CVX_Close: Weight=0.081<br>CAT_Close: Weight=0.175<br>PYPL_Close: Weight=0.069<br>ISRG_Close: Weight=0.152<br>META_Close: Weight=0.000",
                    "Return: 48.983%<br>Volatility: 0.098<br>Sharpe Ratio: 4.998<br>BA_Close: Weight=0.294<br>MCD_Close: Weight=0.201<br>SO_Close: Weight=0.000<br>CVX_Close: Weight=0.098<br>CAT_Close: Weight=0.162<br>PYPL_Close: Weight=0.054<br>ISRG_Close: Weight=0.142<br>AMZN_Close: Weight=0.048",
                    "Return: 48.867%<br>Volatility: 0.098<br>Sharpe Ratio: 4.997<br>BA_Close: Weight=0.294<br>MCD_Close: Weight=0.197<br>SO_Close: Weight=0.000<br>CVX_Close: Weight=0.091<br>CAT_Close: Weight=0.161<br>PYPL_Close: Weight=0.052<br>ISRG_Close: Weight=0.133<br>MSFT_Close: Weight=0.071",
                    "Return: 49.924%<br>Volatility: 0.100<br>Sharpe Ratio: 4.978<br>BA_Close: Weight=0.302<br>MCD_Close: Weight=0.212<br>SO_Close: Weight=0.000<br>CVX_Close: Weight=0.081<br>CAT_Close: Weight=0.172<br>PYPL_Close: Weight=0.063<br>ISRG_Close: Weight=0.148<br>V_Close: Weight=0.021",
                    "Return: 51.714%<br>Volatility: 0.093<br>Sharpe Ratio: 5.534<br>BA_Close: Weight=0.262<br>MCD_Close: Weight=0.128<br>SO_Close: Weight=0.000<br>CVX_Close: Weight=0.071<br>CAT_Close: Weight=0.160<br>PYPL_Close: Weight=0.028<br>ISRG_Close: Weight=0.113<br>ABBV_Close: Weight=0.238",
                    "Return: 51.928%<br>Volatility: 0.093<br>Sharpe Ratio: 5.566<br>BA_Close: Weight=0.266<br>MCD_Close: Weight=0.134<br>SO_Close: Weight=0.000<br>CVX_Close: Weight=0.074<br>CAT_Close: Weight=0.148<br>ISRG_Close: Weight=0.108<br>ABBV_Close: Weight=0.239<br>NVDA_Close: Weight=0.031",
                    "Return: 51.928%<br>Volatility: 0.093<br>Sharpe Ratio: 5.566<br>BA_Close: Weight=0.266<br>MCD_Close: Weight=0.134<br>SO_Close: Weight=0.000<br>CVX_Close: Weight=0.074<br>CAT_Close: Weight=0.148<br>ISRG_Close: Weight=0.108<br>ABBV_Close: Weight=0.239<br>NVDA_Close: Weight=0.031",
                    "Return: 51.247%<br>Volatility: 0.093<br>Sharpe Ratio: 5.537<br>BA_Close: Weight=0.263<br>MCD_Close: Weight=0.136<br>SO_Close: Weight=0.000<br>CVX_Close: Weight=0.073<br>CAT_Close: Weight=0.158<br>ISRG_Close: Weight=0.120<br>ABBV_Close: Weight=0.234<br>VRTX_Close: Weight=0.016",
                    "Return: 51.714%<br>Volatility: 0.093<br>Sharpe Ratio: 5.534<br>BA_Close: Weight=0.262<br>MCD_Close: Weight=0.128<br>SO_Close: Weight=0.000<br>CVX_Close: Weight=0.071<br>CAT_Close: Weight=0.160<br>ISRG_Close: Weight=0.113<br>ABBV_Close: Weight=0.238<br>PYPL_Close: Weight=0.028",
                    "Return: 51.202%<br>Volatility: 0.092<br>Sharpe Ratio: 5.571<br>BA_Close: Weight=0.252<br>MCD_Close: Weight=0.138<br>SO_Close: Weight=0.000<br>CVX_Close: Weight=0.077<br>CAT_Close: Weight=0.147<br>ISRG_Close: Weight=0.110<br>ABBV_Close: Weight=0.230<br>BABA_Close: Weight=0.047",
                    "Return: 51.928%<br>Volatility: 0.093<br>Sharpe Ratio: 5.566<br>BA_Close: Weight=0.266<br>MCD_Close: Weight=0.134<br>SO_Close: Weight=0.000<br>CVX_Close: Weight=0.074<br>CAT_Close: Weight=0.148<br>ISRG_Close: Weight=0.108<br>ABBV_Close: Weight=0.239<br>NVDA_Close: Weight=0.031",
                    "Return: 51.247%<br>Volatility: 0.093<br>Sharpe Ratio: 5.537<br>BA_Close: Weight=0.263<br>MCD_Close: Weight=0.136<br>SO_Close: Weight=0.000<br>CVX_Close: Weight=0.073<br>CAT_Close: Weight=0.158<br>ISRG_Close: Weight=0.120<br>ABBV_Close: Weight=0.234<br>VRTX_Close: Weight=0.016",
                    "Return: 51.714%<br>Volatility: 0.093<br>Sharpe Ratio: 5.534<br>BA_Close: Weight=0.262<br>MCD_Close: Weight=0.128<br>SO_Close: Weight=0.000<br>CVX_Close: Weight=0.071<br>CAT_Close: Weight=0.160<br>ISRG_Close: Weight=0.113<br>ABBV_Close: Weight=0.238<br>PYPL_Close: Weight=0.028",
                    "Return: 51.202%<br>Volatility: 0.092<br>Sharpe Ratio: 5.571<br>BA_Close: Weight=0.252<br>MCD_Close: Weight=0.138<br>SO_Close: Weight=0.000<br>CVX_Close: Weight=0.077<br>CAT_Close: Weight=0.147<br>ISRG_Close: Weight=0.110<br>ABBV_Close: Weight=0.230<br>BABA_Close: Weight=0.047",
                    "Return: 51.126%<br>Volatility: 0.093<br>Sharpe Ratio: 5.526<br>BA_Close: Weight=0.267<br>MCD_Close: Weight=0.135<br>SO_Close: Weight=0.000<br>CVX_Close: Weight=0.072<br>CAT_Close: Weight=0.159<br>ISRG_Close: Weight=0.123<br>ABBV_Close: Weight=0.239<br>ADBE_Close: Weight=0.006",
                    "Return: 51.189%<br>Volatility: 0.093<br>Sharpe Ratio: 5.526<br>BA_Close: Weight=0.267<br>MCD_Close: Weight=0.135<br>SO_Close: Weight=0.000<br>CVX_Close: Weight=0.071<br>CAT_Close: Weight=0.159<br>ISRG_Close: Weight=0.126<br>ABBV_Close: Weight=0.240<br>AMD_Close: Weight=0.000",
                    "Return: 51.174%<br>Volatility: 0.093<br>Sharpe Ratio: 5.526<br>BA_Close: Weight=0.267<br>MCD_Close: Weight=0.136<br>SO_Close: Weight=0.000<br>CVX_Close: Weight=0.071<br>CAT_Close: Weight=0.159<br>ISRG_Close: Weight=0.126<br>ABBV_Close: Weight=0.240<br>NFLX_Close: Weight=0.000",
                    "Return: 51.184%<br>Volatility: 0.093<br>Sharpe Ratio: 5.526<br>BA_Close: Weight=0.267<br>MCD_Close: Weight=0.136<br>SO_Close: Weight=0.000<br>CVX_Close: Weight=0.071<br>CAT_Close: Weight=0.159<br>ISRG_Close: Weight=0.126<br>ABBV_Close: Weight=0.240<br>MA_Close: Weight=0.000",
                    "Return: 51.186%<br>Volatility: 0.093<br>Sharpe Ratio: 5.526<br>BA_Close: Weight=0.267<br>MCD_Close: Weight=0.136<br>SO_Close: Weight=0.000<br>CVX_Close: Weight=0.071<br>CAT_Close: Weight=0.159<br>ISRG_Close: Weight=0.126<br>ABBV_Close: Weight=0.240<br>TSLA_Close: Weight=0.000",
                    "Return: 50.855%<br>Volatility: 0.092<br>Sharpe Ratio: 5.546<br>BA_Close: Weight=0.260<br>MCD_Close: Weight=0.133<br>SO_Close: Weight=0.000<br>CVX_Close: Weight=0.064<br>CAT_Close: Weight=0.140<br>ISRG_Close: Weight=0.121<br>ABBV_Close: Weight=0.232<br>DE_Close: Weight=0.050",
                    "Return: 51.177%<br>Volatility: 0.093<br>Sharpe Ratio: 5.526<br>BA_Close: Weight=0.267<br>MCD_Close: Weight=0.136<br>SO_Close: Weight=0.000<br>CVX_Close: Weight=0.071<br>CAT_Close: Weight=0.159<br>ISRG_Close: Weight=0.126<br>ABBV_Close: Weight=0.240<br>TXN_Close: Weight=0.000",
                    "Return: 51.049%<br>Volatility: 0.092<br>Sharpe Ratio: 5.526<br>BA_Close: Weight=0.266<br>MCD_Close: Weight=0.134<br>SO_Close: Weight=0.000<br>CVX_Close: Weight=0.072<br>CAT_Close: Weight=0.158<br>ISRG_Close: Weight=0.124<br>ABBV_Close: Weight=0.239<br>MSFT_Close: Weight=0.007",
                    "Return: 50.968%<br>Volatility: 0.092<br>Sharpe Ratio: 5.526<br>BA_Close: Weight=0.265<br>MCD_Close: Weight=0.134<br>SO_Close: Weight=0.000<br>CVX_Close: Weight=0.074<br>CAT_Close: Weight=0.157<br>ISRG_Close: Weight=0.124<br>ABBV_Close: Weight=0.237<br>AMZN_Close: Weight=0.008",
                    "Return: 51.183%<br>Volatility: 0.093<br>Sharpe Ratio: 5.526<br>BA_Close: Weight=0.267<br>MCD_Close: Weight=0.136<br>SO_Close: Weight=0.000<br>CVX_Close: Weight=0.071<br>CAT_Close: Weight=0.159<br>ISRG_Close: Weight=0.126<br>ABBV_Close: Weight=0.240<br>V_Close: Weight=0.000",
                    "Return: 51.185%<br>Volatility: 0.093<br>Sharpe Ratio: 5.526<br>BA_Close: Weight=0.267<br>MCD_Close: Weight=0.136<br>SO_Close: Weight=0.000<br>CVX_Close: Weight=0.071<br>CAT_Close: Weight=0.159<br>ISRG_Close: Weight=0.126<br>ABBV_Close: Weight=0.240<br>META_Close: Weight=0.000",
                    "Return: 51.182%<br>Volatility: 0.093<br>Sharpe Ratio: 5.526<br>BA_Close: Weight=0.267<br>MCD_Close: Weight=0.136<br>SO_Close: Weight=0.000<br>CVX_Close: Weight=0.071<br>CAT_Close: Weight=0.159<br>ISRG_Close: Weight=0.126<br>ABBV_Close: Weight=0.240<br>EW_Close: Weight=0.000",
                    "Return: 51.183%<br>Volatility: 0.093<br>Sharpe Ratio: 5.526<br>BA_Close: Weight=0.267<br>MCD_Close: Weight=0.136<br>SO_Close: Weight=0.000<br>CVX_Close: Weight=0.071<br>CAT_Close: Weight=0.159<br>ISRG_Close: Weight=0.126<br>ABBV_Close: Weight=0.240<br>SNAP_Close: Weight=0.000",
                    "Return: 51.184%<br>Volatility: 0.093<br>Sharpe Ratio: 5.526<br>BA_Close: Weight=0.267<br>MCD_Close: Weight=0.136<br>SO_Close: Weight=0.000<br>CVX_Close: Weight=0.071<br>CAT_Close: Weight=0.159<br>ISRG_Close: Weight=0.126<br>ABBV_Close: Weight=0.240<br>EMR_Close: Weight=0.000",
                    "Return: 50.708%<br>Volatility: 0.092<br>Sharpe Ratio: 5.529<br>BA_Close: Weight=0.263<br>MCD_Close: Weight=0.134<br>SO_Close: Weight=0.000<br>CVX_Close: Weight=0.073<br>CAT_Close: Weight=0.155<br>ISRG_Close: Weight=0.122<br>ABBV_Close: Weight=0.235<br>INTC_Close: Weight=0.019",
                    "Return: 49.851%<br>Volatility: 0.089<br>Sharpe Ratio: 5.575<br>BA_Close: Weight=0.250<br>MCD_Close: Weight=0.119<br>SO_Close: Weight=0.000<br>CVX_Close: Weight=0.067<br>CAT_Close: Weight=0.151<br>ISRG_Close: Weight=0.105<br>ABBV_Close: Weight=0.216<br>UNH_Close: Weight=0.091",
                    "Return: 51.283%<br>Volatility: 0.093<br>Sharpe Ratio: 5.538<br>BA_Close: Weight=0.264<br>MCD_Close: Weight=0.135<br>SO_Close: Weight=0.000<br>CVX_Close: Weight=0.058<br>CAT_Close: Weight=0.147<br>ABBV_Close: Weight=0.229<br>UNH_Close: Weight=0.124<br>NVDA_Close: Weight=0.043",
                    "Return: 50.491%<br>Volatility: 0.092<br>Sharpe Ratio: 5.476<br>BA_Close: Weight=0.264<br>MCD_Close: Weight=0.143<br>SO_Close: Weight=0.000<br>CVX_Close: Weight=0.053<br>CAT_Close: Weight=0.164<br>ABBV_Close: Weight=0.227<br>UNH_Close: Weight=0.126<br>VRTX_Close: Weight=0.024",
                    "Return: 51.355%<br>Volatility: 0.093<br>Sharpe Ratio: 5.523<br>BA_Close: Weight=0.249<br>MCD_Close: Weight=0.113<br>SO_Close: Weight=0.000<br>CVX_Close: Weight=0.053<br>CAT_Close: Weight=0.162<br>ABBV_Close: Weight=0.219<br>UNH_Close: Weight=0.133<br>PYPL_Close: Weight=0.071",
                    "Return: 50.125%<br>Volatility: 0.090<br>Sharpe Ratio: 5.553<br>BA_Close: Weight=0.242<br>MCD_Close: Weight=0.139<br>SO_Close: Weight=0.000<br>CVX_Close: Weight=0.061<br>CAT_Close: Weight=0.144<br>ABBV_Close: Weight=0.214<br>UNH_Close: Weight=0.134<br>BABA_Close: Weight=0.067",
                    "Return: 50.412%<br>Volatility: 0.092<br>Sharpe Ratio: 5.451<br>BA_Close: Weight=0.272<br>MCD_Close: Weight=0.143<br>SO_Close: Weight=0.000<br>CVX_Close: Weight=0.050<br>CAT_Close: Weight=0.167<br>ABBV_Close: Weight=0.237<br>UNH_Close: Weight=0.132<br>AMD_Close: Weight=0.000",
                    "Return: 50.409%<br>Volatility: 0.092<br>Sharpe Ratio: 5.451<br>BA_Close: Weight=0.272<br>MCD_Close: Weight=0.143<br>SO_Close: Weight=0.000<br>CVX_Close: Weight=0.050<br>CAT_Close: Weight=0.167<br>ABBV_Close: Weight=0.237<br>UNH_Close: Weight=0.132<br>NFLX_Close: Weight=0.000",
                    "Return: 50.181%<br>Volatility: 0.092<br>Sharpe Ratio: 5.471<br>BA_Close: Weight=0.265<br>MCD_Close: Weight=0.141<br>SO_Close: Weight=0.000<br>CVX_Close: Weight=0.043<br>CAT_Close: Weight=0.148<br>ABBV_Close: Weight=0.229<br>UNH_Close: Weight=0.124<br>DE_Close: Weight=0.049",
                    "Return: 49.674%<br>Volatility: 0.090<br>Sharpe Ratio: 5.492<br>BA_Close: Weight=0.257<br>MCD_Close: Weight=0.128<br>SO_Close: Weight=0.000<br>CVX_Close: Weight=0.063<br>CAT_Close: Weight=0.156<br>ABBV_Close: Weight=0.221<br>UNH_Close: Weight=0.124<br>ADBE_Close: Weight=0.051",
                    "Return: 50.408%<br>Volatility: 0.092<br>Sharpe Ratio: 5.451<br>BA_Close: Weight=0.272<br>MCD_Close: Weight=0.143<br>SO_Close: Weight=0.000<br>CVX_Close: Weight=0.050<br>CAT_Close: Weight=0.167<br>ABBV_Close: Weight=0.237<br>UNH_Close: Weight=0.132<br>TSLA_Close: Weight=0.000",
                    "Return: 50.034%<br>Volatility: 0.092<br>Sharpe Ratio: 5.454<br>BA_Close: Weight=0.267<br>MCD_Close: Weight=0.137<br>SO_Close: Weight=0.000<br>CVX_Close: Weight=0.052<br>CAT_Close: Weight=0.163<br>ABBV_Close: Weight=0.230<br>UNH_Close: Weight=0.130<br>MA_Close: Weight=0.021",
                    "Return: 49.851%<br>Volatility: 0.089<br>Sharpe Ratio: 5.575<br>BA_Close: Weight=0.250<br>MCD_Close: Weight=0.119<br>SO_Close: Weight=0.000<br>CVX_Close: Weight=0.067<br>CAT_Close: Weight=0.151<br>ABBV_Close: Weight=0.216<br>UNH_Close: Weight=0.091<br>ISRG_Close: Weight=0.105",
                    "Return: 49.945%<br>Volatility: 0.092<br>Sharpe Ratio: 5.456<br>BA_Close: Weight=0.264<br>MCD_Close: Weight=0.139<br>SO_Close: Weight=0.000<br>CVX_Close: Weight=0.050<br>CAT_Close: Weight=0.159<br>ABBV_Close: Weight=0.232<br>UNH_Close: Weight=0.130<br>TXN_Close: Weight=0.025",
                    "Return: 49.811%<br>Volatility: 0.091<br>Sharpe Ratio: 5.458<br>BA_Close: Weight=0.266<br>MCD_Close: Weight=0.137<br>SO_Close: Weight=0.000<br>CVX_Close: Weight=0.059<br>CAT_Close: Weight=0.161<br>ABBV_Close: Weight=0.228<br>UNH_Close: Weight=0.127<br>AMZN_Close: Weight=0.023",
                    "Return: 50.406%<br>Volatility: 0.092<br>Sharpe Ratio: 5.451<br>BA_Close: Weight=0.272<br>MCD_Close: Weight=0.143<br>SO_Close: Weight=0.000<br>CVX_Close: Weight=0.050<br>CAT_Close: Weight=0.167<br>ABBV_Close: Weight=0.237<br>UNH_Close: Weight=0.132<br>EMR_Close: Weight=0.000",
                    "Return: 50.412%<br>Volatility: 0.092<br>Sharpe Ratio: 5.451<br>BA_Close: Weight=0.272<br>MCD_Close: Weight=0.143<br>SO_Close: Weight=0.000<br>CVX_Close: Weight=0.050<br>CAT_Close: Weight=0.167<br>ABBV_Close: Weight=0.237<br>UNH_Close: Weight=0.132<br>EW_Close: Weight=0.000",
                    "Return: 49.314%<br>Volatility: 0.090<br>Sharpe Ratio: 5.469<br>BA_Close: Weight=0.260<br>MCD_Close: Weight=0.128<br>SO_Close: Weight=0.000<br>CVX_Close: Weight=0.060<br>CAT_Close: Weight=0.155<br>ABBV_Close: Weight=0.220<br>UNH_Close: Weight=0.122<br>MSFT_Close: Weight=0.055",
                    "Return: 49.593%<br>Volatility: 0.091<br>Sharpe Ratio: 5.458<br>BA_Close: Weight=0.261<br>MCD_Close: Weight=0.134<br>SO_Close: Weight=0.000<br>CVX_Close: Weight=0.051<br>CAT_Close: Weight=0.161<br>ABBV_Close: Weight=0.226<br>UNH_Close: Weight=0.127<br>V_Close: Weight=0.039",
                    "Return: 50.412%<br>Volatility: 0.092<br>Sharpe Ratio: 5.451<br>BA_Close: Weight=0.272<br>MCD_Close: Weight=0.143<br>SO_Close: Weight=0.000<br>CVX_Close: Weight=0.050<br>CAT_Close: Weight=0.167<br>ABBV_Close: Weight=0.237<br>UNH_Close: Weight=0.132<br>HON_Close: Weight=0.000",
                    "Return: 50.411%<br>Volatility: 0.092<br>Sharpe Ratio: 5.451<br>BA_Close: Weight=0.272<br>MCD_Close: Weight=0.143<br>SO_Close: Weight=0.000<br>CVX_Close: Weight=0.050<br>CAT_Close: Weight=0.167<br>ABBV_Close: Weight=0.237<br>UNH_Close: Weight=0.132<br>META_Close: Weight=0.000",
                    "Return: 49.736%<br>Volatility: 0.091<br>Sharpe Ratio: 5.459<br>BA_Close: Weight=0.265<br>MCD_Close: Weight=0.140<br>SO_Close: Weight=0.000<br>CVX_Close: Weight=0.053<br>CAT_Close: Weight=0.159<br>ABBV_Close: Weight=0.228<br>UNH_Close: Weight=0.126<br>INTC_Close: Weight=0.028",
                    "Return: 50.412%<br>Volatility: 0.092<br>Sharpe Ratio: 5.451<br>BA_Close: Weight=0.272<br>MCD_Close: Weight=0.143<br>SO_Close: Weight=0.000<br>CVX_Close: Weight=0.050<br>CAT_Close: Weight=0.167<br>ABBV_Close: Weight=0.237<br>UNH_Close: Weight=0.132<br>MS_Close: Weight=0.000",
                    "Return: 50.413%<br>Volatility: 0.092<br>Sharpe Ratio: 5.451<br>BA_Close: Weight=0.272<br>MCD_Close: Weight=0.143<br>SO_Close: Weight=0.000<br>CVX_Close: Weight=0.050<br>CAT_Close: Weight=0.167<br>ABBV_Close: Weight=0.237<br>UNH_Close: Weight=0.132<br>SNAP_Close: Weight=0.000",
                    "Return: 50.382%<br>Volatility: 0.092<br>Sharpe Ratio: 5.452<br>BA_Close: Weight=0.272<br>MCD_Close: Weight=0.142<br>SO_Close: Weight=0.000<br>CVX_Close: Weight=0.050<br>CAT_Close: Weight=0.167<br>ABBV_Close: Weight=0.236<br>UNH_Close: Weight=0.132<br>ABT_Close: Weight=0.002",
                    "Return: 50.408%<br>Volatility: 0.092<br>Sharpe Ratio: 5.451<br>BA_Close: Weight=0.272<br>MCD_Close: Weight=0.143<br>SO_Close: Weight=0.000<br>CVX_Close: Weight=0.050<br>CAT_Close: Weight=0.167<br>ABBV_Close: Weight=0.237<br>UNH_Close: Weight=0.132<br>BAC_Close: Weight=0.000",
                    "Return: 50.408%<br>Volatility: 0.092<br>Sharpe Ratio: 5.451<br>BA_Close: Weight=0.272<br>MCD_Close: Weight=0.143<br>SO_Close: Weight=0.000<br>CVX_Close: Weight=0.050<br>CAT_Close: Weight=0.167<br>ABBV_Close: Weight=0.237<br>UNH_Close: Weight=0.132<br>ETN_Close: Weight=0.000",
                    "Return: 50.414%<br>Volatility: 0.092<br>Sharpe Ratio: 5.451<br>BA_Close: Weight=0.272<br>MCD_Close: Weight=0.143<br>SO_Close: Weight=0.000<br>CVX_Close: Weight=0.050<br>CAT_Close: Weight=0.167<br>ABBV_Close: Weight=0.237<br>UNH_Close: Weight=0.132<br>BIIB_Close: Weight=0.000",
                    "Return: 50.411%<br>Volatility: 0.092<br>Sharpe Ratio: 5.451<br>BA_Close: Weight=0.272<br>MCD_Close: Weight=0.143<br>SO_Close: Weight=0.000<br>CVX_Close: Weight=0.050<br>CAT_Close: Weight=0.167<br>ABBV_Close: Weight=0.237<br>UNH_Close: Weight=0.132<br>AAPL_Close: Weight=0.000",
                    "Return: 49.025%<br>Volatility: 0.085<br>Sharpe Ratio: 5.760<br>BA_Close: Weight=0.241<br>MCD_Close: Weight=0.118<br>SO_Close: Weight=0.000<br>CVX_Close: Weight=0.056<br>CAT_Close: Weight=0.130<br>ABBV_Close: Weight=0.205<br>UNH_Close: Weight=0.096<br>WMT_Close: Weight=0.154",
                    "Return: 46.168%<br>Volatility: 0.081<br>Sharpe Ratio: 5.682<br>BA_Close: Weight=0.249<br>MCD_Close: Weight=0.169<br>SO_Close: Weight=0.000<br>CVX_Close: Weight=0.107<br>ABBV_Close: Weight=0.189<br>UNH_Close: Weight=0.090<br>WMT_Close: Weight=0.154<br>NVDA_Close: Weight=0.042",
                    "Return: 45.214%<br>Volatility: 0.081<br>Sharpe Ratio: 5.592<br>BA_Close: Weight=0.248<br>MCD_Close: Weight=0.171<br>SO_Close: Weight=0.000<br>CVX_Close: Weight=0.108<br>ABBV_Close: Weight=0.186<br>UNH_Close: Weight=0.100<br>WMT_Close: Weight=0.152<br>PYPL_Close: Weight=0.035",
                    "Return: 44.852%<br>Volatility: 0.080<br>Sharpe Ratio: 5.605<br>BA_Close: Weight=0.250<br>MCD_Close: Weight=0.183<br>SO_Close: Weight=0.000<br>CVX_Close: Weight=0.109<br>ABBV_Close: Weight=0.183<br>UNH_Close: Weight=0.091<br>WMT_Close: Weight=0.161<br>VRTX_Close: Weight=0.024",
                    "Return: 49.025%<br>Volatility: 0.085<br>Sharpe Ratio: 5.760<br>BA_Close: Weight=0.241<br>MCD_Close: Weight=0.118<br>SO_Close: Weight=0.000<br>CVX_Close: Weight=0.056<br>ABBV_Close: Weight=0.205<br>UNH_Close: Weight=0.096<br>WMT_Close: Weight=0.154<br>CAT_Close: Weight=0.130",
                    "Return: 46.168%<br>Volatility: 0.081<br>Sharpe Ratio: 5.682<br>BA_Close: Weight=0.249<br>MCD_Close: Weight=0.169<br>SO_Close: Weight=0.000<br>CVX_Close: Weight=0.107<br>ABBV_Close: Weight=0.189<br>UNH_Close: Weight=0.090<br>WMT_Close: Weight=0.154<br>NVDA_Close: Weight=0.042",
                    "Return: 45.214%<br>Volatility: 0.081<br>Sharpe Ratio: 5.592<br>BA_Close: Weight=0.248<br>MCD_Close: Weight=0.171<br>SO_Close: Weight=0.000<br>CVX_Close: Weight=0.108<br>ABBV_Close: Weight=0.186<br>UNH_Close: Weight=0.100<br>WMT_Close: Weight=0.152<br>PYPL_Close: Weight=0.035",
                    "Return: 44.852%<br>Volatility: 0.080<br>Sharpe Ratio: 5.605<br>BA_Close: Weight=0.250<br>MCD_Close: Weight=0.183<br>SO_Close: Weight=0.000<br>CVX_Close: Weight=0.109<br>ABBV_Close: Weight=0.183<br>UNH_Close: Weight=0.091<br>WMT_Close: Weight=0.161<br>VRTX_Close: Weight=0.024",
                    "Return: 49.025%<br>Volatility: 0.085<br>Sharpe Ratio: 5.760<br>BA_Close: Weight=0.241<br>MCD_Close: Weight=0.118<br>SO_Close: Weight=0.000<br>CVX_Close: Weight=0.056<br>ABBV_Close: Weight=0.205<br>UNH_Close: Weight=0.096<br>WMT_Close: Weight=0.154<br>CAT_Close: Weight=0.130",
                    "Return: 45.139%<br>Volatility: 0.079<br>Sharpe Ratio: 5.702<br>BA_Close: Weight=0.228<br>MCD_Close: Weight=0.171<br>SO_Close: Weight=0.000<br>CVX_Close: Weight=0.109<br>ABBV_Close: Weight=0.174<br>UNH_Close: Weight=0.101<br>WMT_Close: Weight=0.151<br>BABA_Close: Weight=0.066",
                    "Return: 44.313%<br>Volatility: 0.079<br>Sharpe Ratio: 5.618<br>BA_Close: Weight=0.244<br>MCD_Close: Weight=0.167<br>SO_Close: Weight=0.000<br>CVX_Close: Weight=0.116<br>ABBV_Close: Weight=0.180<br>UNH_Close: Weight=0.091<br>WMT_Close: Weight=0.155<br>ADBE_Close: Weight=0.048",
                    "Return: 44.661%<br>Volatility: 0.080<br>Sharpe Ratio: 5.570<br>BA_Close: Weight=0.258<br>MCD_Close: Weight=0.184<br>SO_Close: Weight=0.000<br>CVX_Close: Weight=0.107<br>ABBV_Close: Weight=0.193<br>UNH_Close: Weight=0.097<br>WMT_Close: Weight=0.161<br>AMD_Close: Weight=0.000",
                    "Return: 44.540%<br>Volatility: 0.080<br>Sharpe Ratio: 5.573<br>BA_Close: Weight=0.255<br>MCD_Close: Weight=0.180<br>SO_Close: Weight=0.000<br>CVX_Close: Weight=0.108<br>ABBV_Close: Weight=0.191<br>UNH_Close: Weight=0.096<br>WMT_Close: Weight=0.160<br>NFLX_Close: Weight=0.009",
                    "Return: 44.373%<br>Volatility: 0.080<br>Sharpe Ratio: 5.574<br>BA_Close: Weight=0.252<br>MCD_Close: Weight=0.177<br>SO_Close: Weight=0.000<br>CVX_Close: Weight=0.108<br>ABBV_Close: Weight=0.186<br>UNH_Close: Weight=0.095<br>WMT_Close: Weight=0.158<br>MA_Close: Weight=0.024",
                    "Return: 45.226%<br>Volatility: 0.080<br>Sharpe Ratio: 5.628<br>BA_Close: Weight=0.246<br>MCD_Close: Weight=0.170<br>SO_Close: Weight=0.000<br>CVX_Close: Weight=0.088<br>ABBV_Close: Weight=0.186<br>UNH_Close: Weight=0.087<br>WMT_Close: Weight=0.153<br>DE_Close: Weight=0.069",
                    "Return: 44.651%<br>Volatility: 0.080<br>Sharpe Ratio: 5.570<br>BA_Close: Weight=0.258<br>MCD_Close: Weight=0.185<br>SO_Close: Weight=0.000<br>CVX_Close: Weight=0.107<br>ABBV_Close: Weight=0.193<br>UNH_Close: Weight=0.097<br>WMT_Close: Weight=0.161<br>TSLA_Close: Weight=0.000",
                    "Return: 44.638%<br>Volatility: 0.078<br>Sharpe Ratio: 5.692<br>BA_Close: Weight=0.240<br>MCD_Close: Weight=0.160<br>SO_Close: Weight=0.000<br>CVX_Close: Weight=0.117<br>ABBV_Close: Weight=0.178<br>UNH_Close: Weight=0.064<br>WMT_Close: Weight=0.150<br>ISRG_Close: Weight=0.091",
                    "Return: 44.657%<br>Volatility: 0.080<br>Sharpe Ratio: 5.570<br>BA_Close: Weight=0.258<br>MCD_Close: Weight=0.185<br>SO_Close: Weight=0.000<br>CVX_Close: Weight=0.107<br>ABBV_Close: Weight=0.193<br>UNH_Close: Weight=0.097<br>WMT_Close: Weight=0.161<br>EW_Close: Weight=0.000",
                    "Return: 44.397%<br>Volatility: 0.080<br>Sharpe Ratio: 5.579<br>BA_Close: Weight=0.248<br>MCD_Close: Weight=0.177<br>SO_Close: Weight=0.000<br>CVX_Close: Weight=0.104<br>ABBV_Close: Weight=0.189<br>UNH_Close: Weight=0.096<br>WMT_Close: Weight=0.155<br>TXN_Close: Weight=0.031",
                    "Return: 44.657%<br>Volatility: 0.080<br>Sharpe Ratio: 5.570<br>BA_Close: Weight=0.258<br>MCD_Close: Weight=0.184<br>SO_Close: Weight=0.000<br>CVX_Close: Weight=0.107<br>ABBV_Close: Weight=0.193<br>UNH_Close: Weight=0.097<br>WMT_Close: Weight=0.161<br>ABT_Close: Weight=0.000",
                    "Return: 44.047%<br>Volatility: 0.079<br>Sharpe Ratio: 5.578<br>BA_Close: Weight=0.248<br>MCD_Close: Weight=0.175<br>SO_Close: Weight=0.000<br>CVX_Close: Weight=0.106<br>ABBV_Close: Weight=0.184<br>UNH_Close: Weight=0.093<br>WMT_Close: Weight=0.157<br>V_Close: Weight=0.037",
                    "Return: 44.658%<br>Volatility: 0.080<br>Sharpe Ratio: 5.570<br>BA_Close: Weight=0.258<br>MCD_Close: Weight=0.185<br>SO_Close: Weight=0.000<br>CVX_Close: Weight=0.107<br>ABBV_Close: Weight=0.193<br>UNH_Close: Weight=0.097<br>WMT_Close: Weight=0.161<br>HON_Close: Weight=0.000",
                    "Return: 43.878%<br>Volatility: 0.078<br>Sharpe Ratio: 5.602<br>BA_Close: Weight=0.245<br>MCD_Close: Weight=0.167<br>SO_Close: Weight=0.000<br>CVX_Close: Weight=0.120<br>ABBV_Close: Weight=0.177<br>UNH_Close: Weight=0.088<br>WMT_Close: Weight=0.159<br>AMZN_Close: Weight=0.044",
                    "Return: 43.630%<br>Volatility: 0.078<br>Sharpe Ratio: 5.624<br>BA_Close: Weight=0.239<br>MCD_Close: Weight=0.155<br>SO_Close: Weight=0.000<br>CVX_Close: Weight=0.116<br>ABBV_Close: Weight=0.171<br>UNH_Close: Weight=0.083<br>WMT_Close: Weight=0.157<br>MSFT_Close: Weight=0.079",
                    "Return: 44.658%<br>Volatility: 0.080<br>Sharpe Ratio: 5.570<br>BA_Close: Weight=0.258<br>MCD_Close: Weight=0.185<br>SO_Close: Weight=0.000<br>CVX_Close: Weight=0.107<br>ABBV_Close: Weight=0.193<br>UNH_Close: Weight=0.097<br>WMT_Close: Weight=0.161<br>BIIB_Close: Weight=0.000",
                    "Return: 44.185%<br>Volatility: 0.079<br>Sharpe Ratio: 5.583<br>BA_Close: Weight=0.250<br>MCD_Close: Weight=0.179<br>SO_Close: Weight=0.000<br>CVX_Close: Weight=0.107<br>ABBV_Close: Weight=0.185<br>UNH_Close: Weight=0.091<br>WMT_Close: Weight=0.156<br>INTC_Close: Weight=0.032",
                    "Return: 44.613%<br>Volatility: 0.080<br>Sharpe Ratio: 5.570<br>BA_Close: Weight=0.257<br>MCD_Close: Weight=0.184<br>SO_Close: Weight=0.000<br>CVX_Close: Weight=0.107<br>ABBV_Close: Weight=0.192<br>UNH_Close: Weight=0.097<br>WMT_Close: Weight=0.161<br>META_Close: Weight=0.002",
                    "Return: 44.660%<br>Volatility: 0.080<br>Sharpe Ratio: 5.570<br>BA_Close: Weight=0.258<br>MCD_Close: Weight=0.184<br>SO_Close: Weight=0.000<br>CVX_Close: Weight=0.107<br>ABBV_Close: Weight=0.193<br>UNH_Close: Weight=0.097<br>WMT_Close: Weight=0.161<br>SNAP_Close: Weight=0.000",
                    "Return: 44.369%<br>Volatility: 0.080<br>Sharpe Ratio: 5.572<br>BA_Close: Weight=0.254<br>MCD_Close: Weight=0.183<br>SO_Close: Weight=0.000<br>CVX_Close: Weight=0.105<br>ABBV_Close: Weight=0.189<br>UNH_Close: Weight=0.096<br>WMT_Close: Weight=0.157<br>ACN_Close: Weight=0.017",
                    "Return: 44.659%<br>Volatility: 0.080<br>Sharpe Ratio: 5.570<br>BA_Close: Weight=0.258<br>MCD_Close: Weight=0.184<br>SO_Close: Weight=0.000<br>CVX_Close: Weight=0.107<br>ABBV_Close: Weight=0.193<br>UNH_Close: Weight=0.097<br>WMT_Close: Weight=0.161<br>AAPL_Close: Weight=0.000",
                    "Return: 44.656%<br>Volatility: 0.080<br>Sharpe Ratio: 5.570<br>BA_Close: Weight=0.258<br>MCD_Close: Weight=0.184<br>SO_Close: Weight=0.000<br>CVX_Close: Weight=0.107<br>ABBV_Close: Weight=0.193<br>UNH_Close: Weight=0.097<br>WMT_Close: Weight=0.161<br>SYK_Close: Weight=0.000",
                    "Return: 44.655%<br>Volatility: 0.080<br>Sharpe Ratio: 5.570<br>BA_Close: Weight=0.258<br>MCD_Close: Weight=0.185<br>SO_Close: Weight=0.000<br>CVX_Close: Weight=0.107<br>ABBV_Close: Weight=0.192<br>UNH_Close: Weight=0.097<br>WMT_Close: Weight=0.161<br>BMY_Close: Weight=0.000",
                    "Return: 44.655%<br>Volatility: 0.080<br>Sharpe Ratio: 5.570<br>BA_Close: Weight=0.258<br>MCD_Close: Weight=0.185<br>SO_Close: Weight=0.000<br>CVX_Close: Weight=0.107<br>ABBV_Close: Weight=0.193<br>UNH_Close: Weight=0.097<br>WMT_Close: Weight=0.161<br>MS_Close: Weight=0.000",
                    "Return: 44.287%<br>Volatility: 0.079<br>Sharpe Ratio: 5.573<br>BA_Close: Weight=0.254<br>MCD_Close: Weight=0.178<br>SO_Close: Weight=0.000<br>CVX_Close: Weight=0.108<br>ABBV_Close: Weight=0.190<br>UNH_Close: Weight=0.094<br>WMT_Close: Weight=0.159<br>CRM_Close: Weight=0.017",
                    "Return: 44.655%<br>Volatility: 0.080<br>Sharpe Ratio: 5.570<br>BA_Close: Weight=0.258<br>MCD_Close: Weight=0.184<br>SO_Close: Weight=0.000<br>CVX_Close: Weight=0.107<br>ABBV_Close: Weight=0.192<br>UNH_Close: Weight=0.097<br>WMT_Close: Weight=0.161<br>EMR_Close: Weight=0.000",
                    "Return: 44.656%<br>Volatility: 0.080<br>Sharpe Ratio: 5.570<br>BA_Close: Weight=0.258<br>MCD_Close: Weight=0.185<br>SO_Close: Weight=0.000<br>CVX_Close: Weight=0.107<br>ABBV_Close: Weight=0.193<br>UNH_Close: Weight=0.097<br>WMT_Close: Weight=0.161<br>SAP_Close: Weight=0.000",
                    "Return: 44.656%<br>Volatility: 0.080<br>Sharpe Ratio: 5.570<br>BA_Close: Weight=0.258<br>MCD_Close: Weight=0.185<br>SO_Close: Weight=0.000<br>CVX_Close: Weight=0.107<br>ABBV_Close: Weight=0.193<br>UNH_Close: Weight=0.097<br>WMT_Close: Weight=0.161<br>QCOM_Close: Weight=0.000",
                    "Return: 44.652%<br>Volatility: 0.080<br>Sharpe Ratio: 5.570<br>BA_Close: Weight=0.258<br>MCD_Close: Weight=0.185<br>SO_Close: Weight=0.000<br>CVX_Close: Weight=0.107<br>ABBV_Close: Weight=0.192<br>UNH_Close: Weight=0.097<br>WMT_Close: Weight=0.161<br>KR_Close: Weight=0.000",
                    "Return: 43.836%<br>Volatility: 0.078<br>Sharpe Ratio: 5.651<br>BA_Close: Weight=0.241<br>MCD_Close: Weight=0.168<br>SO_Close: Weight=0.000<br>CVX_Close: Weight=0.085<br>ABBV_Close: Weight=0.173<br>UNH_Close: Weight=0.090<br>WMT_Close: Weight=0.141<br>HD_Close: Weight=0.102",
                    "Return: 42.690%<br>Volatility: 0.076<br>Sharpe Ratio: 5.651<br>BA_Close: Weight=0.227<br>MCD_Close: Weight=0.178<br>SO_Close: Weight=0.000<br>CVX_Close: Weight=0.101<br>ABBV_Close: Weight=0.168<br>UNH_Close: Weight=0.072<br>WMT_Close: Weight=0.152<br>MMM_Close: Weight=0.103",
                    "Return: 44.655%<br>Volatility: 0.080<br>Sharpe Ratio: 5.570<br>BA_Close: Weight=0.258<br>MCD_Close: Weight=0.184<br>SO_Close: Weight=0.000<br>CVX_Close: Weight=0.107<br>ABBV_Close: Weight=0.192<br>UNH_Close: Weight=0.097<br>WMT_Close: Weight=0.161<br>BAC_Close: Weight=0.000",
                    "Return: 43.615%<br>Volatility: 0.078<br>Sharpe Ratio: 5.576<br>BA_Close: Weight=0.249<br>MCD_Close: Weight=0.176<br>SO_Close: Weight=0.000<br>CVX_Close: Weight=0.105<br>ABBV_Close: Weight=0.187<br>UNH_Close: Weight=0.091<br>WMT_Close: Weight=0.157<br>AEP_Close: Weight=0.035",
                    "Return: 44.046%<br>Volatility: 0.079<br>Sharpe Ratio: 5.575<br>BA_Close: Weight=0.251<br>MCD_Close: Weight=0.179<br>SO_Close: Weight=0.000<br>CVX_Close: Weight=0.110<br>ABBV_Close: Weight=0.185<br>UNH_Close: Weight=0.093<br>WMT_Close: Weight=0.158<br>GOOG_Close: Weight=0.024",
                    "Return: 43.623%<br>Volatility: 0.078<br>Sharpe Ratio: 5.579<br>BA_Close: Weight=0.243<br>MCD_Close: Weight=0.180<br>SO_Close: Weight=0.000<br>CVX_Close: Weight=0.105<br>ABBV_Close: Weight=0.184<br>UNH_Close: Weight=0.091<br>WMT_Close: Weight=0.153<br>LMT_Close: Weight=0.044",
                    "Return: 44.428%<br>Volatility: 0.080<br>Sharpe Ratio: 5.571<br>BA_Close: Weight=0.255<br>MCD_Close: Weight=0.182<br>SO_Close: Weight=0.000<br>CVX_Close: Weight=0.108<br>ABBV_Close: Weight=0.190<br>UNH_Close: Weight=0.096<br>WMT_Close: Weight=0.160<br>GOOGL_Close: Weight=0.009",
                    "Return: 44.657%<br>Volatility: 0.080<br>Sharpe Ratio: 5.570<br>BA_Close: Weight=0.258<br>MCD_Close: Weight=0.184<br>SO_Close: Weight=0.000<br>CVX_Close: Weight=0.107<br>ABBV_Close: Weight=0.193<br>UNH_Close: Weight=0.097<br>WMT_Close: Weight=0.161<br>RMD_Close: Weight=0.000",
                    "Return: 43.931%<br>Volatility: 0.079<br>Sharpe Ratio: 5.586<br>BA_Close: Weight=0.257<br>MCD_Close: Weight=0.174<br>SO_Close: Weight=0.000<br>CVX_Close: Weight=0.103<br>ABBV_Close: Weight=0.183<br>UNH_Close: Weight=0.089<br>WMT_Close: Weight=0.155<br>TMO_Close: Weight=0.039",
                    "Return: 44.654%<br>Volatility: 0.080<br>Sharpe Ratio: 5.570<br>BA_Close: Weight=0.258<br>MCD_Close: Weight=0.185<br>SO_Close: Weight=0.000<br>CVX_Close: Weight=0.107<br>ABBV_Close: Weight=0.193<br>UNH_Close: Weight=0.097<br>WMT_Close: Weight=0.161<br>COST_Close: Weight=0.000",
                    "Return: 44.657%<br>Volatility: 0.080<br>Sharpe Ratio: 5.570<br>BA_Close: Weight=0.258<br>MCD_Close: Weight=0.185<br>SO_Close: Weight=0.000<br>CVX_Close: Weight=0.107<br>ABBV_Close: Weight=0.193<br>UNH_Close: Weight=0.097<br>WMT_Close: Weight=0.161<br>GS_Close: Weight=0.000",
                    "Return: 41.543%<br>Volatility: 0.073<br>Sharpe Ratio: 5.724<br>BA_Close: Weight=0.226<br>MCD_Close: Weight=0.149<br>SO_Close: Weight=0.000<br>CVX_Close: Weight=0.096<br>ABBV_Close: Weight=0.162<br>UNH_Close: Weight=0.063<br>WMT_Close: Weight=0.149<br>NEE_Close: Weight=0.155",
                    "Return: 44.656%<br>Volatility: 0.080<br>Sharpe Ratio: 5.570<br>BA_Close: Weight=0.258<br>MCD_Close: Weight=0.184<br>SO_Close: Weight=0.000<br>CVX_Close: Weight=0.107<br>ABBV_Close: Weight=0.193<br>UNH_Close: Weight=0.097<br>WMT_Close: Weight=0.161<br>JPM_Close: Weight=0.000",
                    "Return: 44.368%<br>Volatility: 0.080<br>Sharpe Ratio: 5.572<br>BA_Close: Weight=0.255<br>MCD_Close: Weight=0.183<br>SO_Close: Weight=0.000<br>CVX_Close: Weight=0.105<br>ABBV_Close: Weight=0.192<br>UNH_Close: Weight=0.095<br>WMT_Close: Weight=0.157<br>SYY_Close: Weight=0.013",
                    "Return: 44.467%<br>Volatility: 0.080<br>Sharpe Ratio: 5.570<br>BA_Close: Weight=0.257<br>MCD_Close: Weight=0.184<br>SO_Close: Weight=0.000<br>CVX_Close: Weight=0.106<br>ABBV_Close: Weight=0.190<br>UNH_Close: Weight=0.095<br>WMT_Close: Weight=0.160<br>JNJ_Close: Weight=0.008",
                    "Return: 44.656%<br>Volatility: 0.080<br>Sharpe Ratio: 5.570<br>BA_Close: Weight=0.258<br>MCD_Close: Weight=0.184<br>SO_Close: Weight=0.000<br>CVX_Close: Weight=0.107<br>ABBV_Close: Weight=0.192<br>UNH_Close: Weight=0.097<br>WMT_Close: Weight=0.161<br>ETN_Close: Weight=0.000",
                    "Return: 44.657%<br>Volatility: 0.080<br>Sharpe Ratio: 5.570<br>BA_Close: Weight=0.258<br>MCD_Close: Weight=0.184<br>SO_Close: Weight=0.000<br>CVX_Close: Weight=0.107<br>ABBV_Close: Weight=0.193<br>UNH_Close: Weight=0.097<br>WMT_Close: Weight=0.161<br>RDY_Close: Weight=0.000",
                    "Return: 44.655%<br>Volatility: 0.080<br>Sharpe Ratio: 5.570<br>BA_Close: Weight=0.258<br>MCD_Close: Weight=0.184<br>SO_Close: Weight=0.000<br>CVX_Close: Weight=0.107<br>ABBV_Close: Weight=0.192<br>UNH_Close: Weight=0.097<br>WMT_Close: Weight=0.161<br>DUK_Close: Weight=0.000",
                    "Return: 44.656%<br>Volatility: 0.080<br>Sharpe Ratio: 5.570<br>BA_Close: Weight=0.258<br>MCD_Close: Weight=0.184<br>SO_Close: Weight=0.000<br>CVX_Close: Weight=0.107<br>ABBV_Close: Weight=0.193<br>UNH_Close: Weight=0.097<br>WMT_Close: Weight=0.161<br>CSCO_Close: Weight=0.000",
                    "Return: 44.658%<br>Volatility: 0.080<br>Sharpe Ratio: 5.570<br>BA_Close: Weight=0.258<br>MCD_Close: Weight=0.184<br>SO_Close: Weight=0.000<br>CVX_Close: Weight=0.107<br>ABBV_Close: Weight=0.193<br>UNH_Close: Weight=0.097<br>WMT_Close: Weight=0.161<br>RTX_Close: Weight=0.000",
                    "Return: 43.719%<br>Volatility: 0.078<br>Sharpe Ratio: 5.578<br>BA_Close: Weight=0.251<br>MCD_Close: Weight=0.178<br>SO_Close: Weight=0.000<br>CVX_Close: Weight=0.101<br>ABBV_Close: Weight=0.185<br>UNH_Close: Weight=0.093<br>WMT_Close: Weight=0.159<br>EXC_Close: Weight=0.033",
                    "Return: 44.657%<br>Volatility: 0.080<br>Sharpe Ratio: 5.570<br>BA_Close: Weight=0.258<br>MCD_Close: Weight=0.185<br>SO_Close: Weight=0.000<br>CVX_Close: Weight=0.107<br>ABBV_Close: Weight=0.193<br>UNH_Close: Weight=0.097<br>WMT_Close: Weight=0.161<br>UA_Close: Weight=0.000",
                    "Return: 44.657%<br>Volatility: 0.080<br>Sharpe Ratio: 5.570<br>BA_Close: Weight=0.258<br>MCD_Close: Weight=0.184<br>SO_Close: Weight=0.000<br>CVX_Close: Weight=0.107<br>ABBV_Close: Weight=0.192<br>UNH_Close: Weight=0.097<br>WMT_Close: Weight=0.161<br>WFC_Close: Weight=0.000",
                    "Return: 44.656%<br>Volatility: 0.080<br>Sharpe Ratio: 5.570<br>BA_Close: Weight=0.258<br>MCD_Close: Weight=0.185<br>SO_Close: Weight=0.000<br>CVX_Close: Weight=0.107<br>ABBV_Close: Weight=0.193<br>UNH_Close: Weight=0.097<br>WMT_Close: Weight=0.161<br>DHR_Close: Weight=0.000",
                    "Return: 44.657%<br>Volatility: 0.080<br>Sharpe Ratio: 5.570<br>BA_Close: Weight=0.258<br>MCD_Close: Weight=0.184<br>SO_Close: Weight=0.000<br>CVX_Close: Weight=0.107<br>ABBV_Close: Weight=0.193<br>UNH_Close: Weight=0.097<br>WMT_Close: Weight=0.161<br>GM_Close: Weight=0.000",
                    "Return: 44.658%<br>Volatility: 0.080<br>Sharpe Ratio: 5.570<br>BA_Close: Weight=0.258<br>MCD_Close: Weight=0.185<br>SO_Close: Weight=0.000<br>CVX_Close: Weight=0.107<br>ABBV_Close: Weight=0.193<br>UNH_Close: Weight=0.097<br>WMT_Close: Weight=0.161<br>AMGN_Close: Weight=0.000",
                    "Return: 44.656%<br>Volatility: 0.080<br>Sharpe Ratio: 5.570<br>BA_Close: Weight=0.258<br>MCD_Close: Weight=0.184<br>SO_Close: Weight=0.000<br>CVX_Close: Weight=0.107<br>ABBV_Close: Weight=0.193<br>UNH_Close: Weight=0.097<br>WMT_Close: Weight=0.161<br>VZ_Close: Weight=0.000",
                    "Return: 44.656%<br>Volatility: 0.080<br>Sharpe Ratio: 5.570<br>BA_Close: Weight=0.258<br>MCD_Close: Weight=0.185<br>SO_Close: Weight=0.000<br>CVX_Close: Weight=0.107<br>ABBV_Close: Weight=0.193<br>UNH_Close: Weight=0.097<br>WMT_Close: Weight=0.161<br>ORCL_Close: Weight=0.000",
                    "Return: 44.658%<br>Volatility: 0.080<br>Sharpe Ratio: 5.570<br>BA_Close: Weight=0.258<br>MCD_Close: Weight=0.185<br>SO_Close: Weight=0.000<br>CVX_Close: Weight=0.107<br>ABBV_Close: Weight=0.192<br>UNH_Close: Weight=0.097<br>WMT_Close: Weight=0.161<br>BSX_Close: Weight=0.000",
                    "Return: 44.655%<br>Volatility: 0.080<br>Sharpe Ratio: 5.570<br>BA_Close: Weight=0.258<br>MCD_Close: Weight=0.184<br>SO_Close: Weight=0.000<br>CVX_Close: Weight=0.107<br>ABBV_Close: Weight=0.193<br>UNH_Close: Weight=0.097<br>WMT_Close: Weight=0.161<br>GILD_Close: Weight=0.000",
                    "Return: 44.657%<br>Volatility: 0.080<br>Sharpe Ratio: 5.570<br>BA_Close: Weight=0.258<br>MCD_Close: Weight=0.185<br>SO_Close: Weight=0.000<br>CVX_Close: Weight=0.107<br>ABBV_Close: Weight=0.193<br>UNH_Close: Weight=0.097<br>WMT_Close: Weight=0.161<br>BTI_Close: Weight=0.000",
                    "Return: 44.656%<br>Volatility: 0.080<br>Sharpe Ratio: 5.570<br>BA_Close: Weight=0.258<br>MCD_Close: Weight=0.184<br>SO_Close: Weight=0.000<br>CVX_Close: Weight=0.107<br>ABBV_Close: Weight=0.193<br>UNH_Close: Weight=0.097<br>WMT_Close: Weight=0.161<br>XOM_Close: Weight=0.000",
                    "Return: 44.657%<br>Volatility: 0.080<br>Sharpe Ratio: 5.570<br>BA_Close: Weight=0.258<br>MCD_Close: Weight=0.184<br>SO_Close: Weight=0.000<br>CVX_Close: Weight=0.107<br>ABBV_Close: Weight=0.193<br>UNH_Close: Weight=0.097<br>WMT_Close: Weight=0.161<br>PFE_Close: Weight=0.000",
                    "Return: 44.656%<br>Volatility: 0.080<br>Sharpe Ratio: 5.570<br>BA_Close: Weight=0.258<br>MCD_Close: Weight=0.185<br>SO_Close: Weight=0.000<br>CVX_Close: Weight=0.107<br>ABBV_Close: Weight=0.193<br>UNH_Close: Weight=0.097<br>WMT_Close: Weight=0.161<br>F_Close: Weight=0.000",
                    "Return: 44.655%<br>Volatility: 0.080<br>Sharpe Ratio: 5.570<br>BA_Close: Weight=0.258<br>MCD_Close: Weight=0.184<br>SO_Close: Weight=0.000<br>CVX_Close: Weight=0.107<br>ABBV_Close: Weight=0.192<br>UNH_Close: Weight=0.097<br>WMT_Close: Weight=0.161<br>SRE_Close: Weight=0.000",
                    "Return: 44.655%<br>Volatility: 0.080<br>Sharpe Ratio: 5.570<br>BA_Close: Weight=0.258<br>MCD_Close: Weight=0.185<br>SO_Close: Weight=0.000<br>CVX_Close: Weight=0.107<br>ABBV_Close: Weight=0.193<br>UNH_Close: Weight=0.097<br>WMT_Close: Weight=0.161<br>T_Close: Weight=0.000",
                    "Return: 44.153%<br>Volatility: 0.079<br>Sharpe Ratio: 5.576<br>BA_Close: Weight=0.256<br>MCD_Close: Weight=0.184<br>SO_Close: Weight=0.000<br>CVX_Close: Weight=0.105<br>ABBV_Close: Weight=0.189<br>UNH_Close: Weight=0.093<br>WMT_Close: Weight=0.157<br>NKE_Close: Weight=0.016",
                    "Return: 44.658%<br>Volatility: 0.080<br>Sharpe Ratio: 5.570<br>BA_Close: Weight=0.258<br>MCD_Close: Weight=0.184<br>SO_Close: Weight=0.000<br>CVX_Close: Weight=0.107<br>ABBV_Close: Weight=0.193<br>UNH_Close: Weight=0.097<br>WMT_Close: Weight=0.161<br>MDT_Close: Weight=0.000",
                    "Return: 44.657%<br>Volatility: 0.080<br>Sharpe Ratio: 5.570<br>BA_Close: Weight=0.258<br>MCD_Close: Weight=0.185<br>SO_Close: Weight=0.000<br>CVX_Close: Weight=0.107<br>ABBV_Close: Weight=0.193<br>UNH_Close: Weight=0.097<br>WMT_Close: Weight=0.161<br>ZBH_Close: Weight=0.000",
                    "Return: 42.980%<br>Volatility: 0.077<br>Sharpe Ratio: 5.583<br>BA_Close: Weight=0.245<br>MCD_Close: Weight=0.172<br>SO_Close: Weight=0.000<br>CVX_Close: Weight=0.101<br>ABBV_Close: Weight=0.185<br>UNH_Close: Weight=0.092<br>WMT_Close: Weight=0.150<br>PEP_Close: Weight=0.055",
                    "Return: 42.419%<br>Volatility: 0.076<br>Sharpe Ratio: 5.589<br>BA_Close: Weight=0.240<br>MCD_Close: Weight=0.169<br>SO_Close: Weight=0.000<br>CVX_Close: Weight=0.097<br>ABBV_Close: Weight=0.180<br>UNH_Close: Weight=0.092<br>WMT_Close: Weight=0.148<br>KO_Close: Weight=0.074",
                    "Return: 44.657%<br>Volatility: 0.080<br>Sharpe Ratio: 5.570<br>BA_Close: Weight=0.258<br>MCD_Close: Weight=0.185<br>SO_Close: Weight=0.000<br>CVX_Close: Weight=0.107<br>ABBV_Close: Weight=0.192<br>UNH_Close: Weight=0.097<br>WMT_Close: Weight=0.161<br>GIS_Close: Weight=0.000",
                    "Return: 44.655%<br>Volatility: 0.080<br>Sharpe Ratio: 5.570<br>BA_Close: Weight=0.258<br>MCD_Close: Weight=0.184<br>SO_Close: Weight=0.000<br>CVX_Close: Weight=0.107<br>ABBV_Close: Weight=0.192<br>UNH_Close: Weight=0.097<br>WMT_Close: Weight=0.161<br>LLY_Close: Weight=0.000",
                    "Return: 44.655%<br>Volatility: 0.080<br>Sharpe Ratio: 5.570<br>BA_Close: Weight=0.258<br>MCD_Close: Weight=0.184<br>SO_Close: Weight=0.000<br>CVX_Close: Weight=0.107<br>ABBV_Close: Weight=0.193<br>UNH_Close: Weight=0.097<br>WMT_Close: Weight=0.161<br>REGN_Close: Weight=0.000",
                    "Return: 44.656%<br>Volatility: 0.080<br>Sharpe Ratio: 5.570<br>BA_Close: Weight=0.258<br>MCD_Close: Weight=0.184<br>SO_Close: Weight=0.000<br>CVX_Close: Weight=0.107<br>ABBV_Close: Weight=0.193<br>UNH_Close: Weight=0.097<br>WMT_Close: Weight=0.161<br>PG_Close: Weight=0.000",
                    "Return: 44.657%<br>Volatility: 0.080<br>Sharpe Ratio: 5.570<br>BA_Close: Weight=0.258<br>MCD_Close: Weight=0.185<br>SO_Close: Weight=0.000<br>CVX_Close: Weight=0.107<br>ABBV_Close: Weight=0.193<br>UNH_Close: Weight=0.097<br>WMT_Close: Weight=0.161<br>PM_Close: Weight=0.000",
                    "Return: 44.657%<br>Volatility: 0.080<br>Sharpe Ratio: 5.570<br>BA_Close: Weight=0.258<br>MCD_Close: Weight=0.185<br>SO_Close: Weight=0.000<br>CVX_Close: Weight=0.107<br>ABBV_Close: Weight=0.193<br>UNH_Close: Weight=0.097<br>WMT_Close: Weight=0.161<br>MO_Close: Weight=0.000",
                    "Return: 44.656%<br>Volatility: 0.080<br>Sharpe Ratio: 5.570<br>BA_Close: Weight=0.258<br>MCD_Close: Weight=0.185<br>SO_Close: Weight=0.000<br>CVX_Close: Weight=0.107<br>ABBV_Close: Weight=0.193<br>UNH_Close: Weight=0.097<br>WMT_Close: Weight=0.161<br>K_Close: Weight=0.000",
                    "Return: 44.656%<br>Volatility: 0.080<br>Sharpe Ratio: 5.570<br>BA_Close: Weight=0.258<br>MCD_Close: Weight=0.185<br>SO_Close: Weight=0.000<br>CVX_Close: Weight=0.107<br>ABBV_Close: Weight=0.193<br>UNH_Close: Weight=0.097<br>WMT_Close: Weight=0.161<br>MRK_Close: Weight=0.000",
                    "Return: 44.125%<br>Volatility: 0.079<br>Sharpe Ratio: 5.576<br>BA_Close: Weight=0.254<br>MCD_Close: Weight=0.182<br>SO_Close: Weight=0.000<br>CVX_Close: Weight=0.102<br>ABBV_Close: Weight=0.192<br>UNH_Close: Weight=0.094<br>WMT_Close: Weight=0.158<br>CMCSA_Close: Weight=0.019",
                    "Return: 44.658%<br>Volatility: 0.080<br>Sharpe Ratio: 5.570<br>BA_Close: Weight=0.258<br>MCD_Close: Weight=0.184<br>SO_Close: Weight=0.000<br>CVX_Close: Weight=0.107<br>ABBV_Close: Weight=0.193<br>UNH_Close: Weight=0.097<br>WMT_Close: Weight=0.161<br>IBM_Close: Weight=0.000",
                    "Return: 44.655%<br>Volatility: 0.080<br>Sharpe Ratio: 5.570<br>BA_Close: Weight=0.258<br>MCD_Close: Weight=0.185<br>SO_Close: Weight=0.000<br>CVX_Close: Weight=0.107<br>ABBV_Close: Weight=0.193<br>UNH_Close: Weight=0.097<br>WMT_Close: Weight=0.161<br>CPB_Close: Weight=0.000",
                    "Return: 44.657%<br>Volatility: 0.080<br>Sharpe Ratio: 5.570<br>BA_Close: Weight=0.258<br>MCD_Close: Weight=0.185<br>SO_Close: Weight=0.000<br>CVX_Close: Weight=0.107<br>ABBV_Close: Weight=0.193<br>UNH_Close: Weight=0.097<br>WMT_Close: Weight=0.161<br>DIS_Close: Weight=0.000",
                    "Return: 44.656%<br>Volatility: 0.080<br>Sharpe Ratio: 5.570<br>BA_Close: Weight=0.258<br>MCD_Close: Weight=0.185<br>SO_Close: Weight=0.000<br>CVX_Close: Weight=0.107<br>ABBV_Close: Weight=0.192<br>UNH_Close: Weight=0.097<br>WMT_Close: Weight=0.161<br>GE_Close: Weight=0.000",
                    "Return: 46.168%<br>Volatility: 0.081<br>Sharpe Ratio: 5.682<br>BA_Close: Weight=0.249<br>MCD_Close: Weight=0.169<br>SO_Close: Weight=0.000<br>CVX_Close: Weight=0.107<br>ABBV_Close: Weight=0.189<br>UNH_Close: Weight=0.090<br>WMT_Close: Weight=0.154<br>NVDA_Close: Weight=0.042",
                    "Return: 46.168%<br>Volatility: 0.081<br>Sharpe Ratio: 5.682<br>BA_Close: Weight=0.249<br>MCD_Close: Weight=0.169<br>SO_Close: Weight=0.000<br>CVX_Close: Weight=0.107<br>ABBV_Close: Weight=0.189<br>UNH_Close: Weight=0.090<br>WMT_Close: Weight=0.154<br>NVDA_Close: Weight=0.042",
                    "Return: 46.168%<br>Volatility: 0.081<br>Sharpe Ratio: 5.682<br>BA_Close: Weight=0.249<br>MCD_Close: Weight=0.169<br>SO_Close: Weight=0.000<br>CVX_Close: Weight=0.107<br>ABBV_Close: Weight=0.189<br>UNH_Close: Weight=0.090<br>WMT_Close: Weight=0.154<br>NVDA_Close: Weight=0.042",
                    "Return: 46.168%<br>Volatility: 0.081<br>Sharpe Ratio: 5.682<br>BA_Close: Weight=0.249<br>MCD_Close: Weight=0.169<br>SO_Close: Weight=0.000<br>CVX_Close: Weight=0.107<br>ABBV_Close: Weight=0.189<br>UNH_Close: Weight=0.090<br>WMT_Close: Weight=0.154<br>NVDA_Close: Weight=0.042",
                    "Return: 46.168%<br>Volatility: 0.081<br>Sharpe Ratio: 5.682<br>BA_Close: Weight=0.249<br>MCD_Close: Weight=0.169<br>SO_Close: Weight=0.000<br>CVX_Close: Weight=0.107<br>ABBV_Close: Weight=0.189<br>UNH_Close: Weight=0.090<br>WMT_Close: Weight=0.154<br>NVDA_Close: Weight=0.042",
                    "Return: 46.168%<br>Volatility: 0.081<br>Sharpe Ratio: 5.682<br>BA_Close: Weight=0.249<br>MCD_Close: Weight=0.169<br>SO_Close: Weight=0.000<br>CVX_Close: Weight=0.107<br>ABBV_Close: Weight=0.189<br>UNH_Close: Weight=0.090<br>WMT_Close: Weight=0.154<br>NVDA_Close: Weight=0.042",
                    "Return: 46.168%<br>Volatility: 0.081<br>Sharpe Ratio: 5.682<br>BA_Close: Weight=0.249<br>MCD_Close: Weight=0.169<br>SO_Close: Weight=0.000<br>CVX_Close: Weight=0.107<br>ABBV_Close: Weight=0.189<br>UNH_Close: Weight=0.090<br>WMT_Close: Weight=0.154<br>NVDA_Close: Weight=0.042",
                    "Return: 46.168%<br>Volatility: 0.081<br>Sharpe Ratio: 5.682<br>BA_Close: Weight=0.249<br>MCD_Close: Weight=0.169<br>SO_Close: Weight=0.000<br>CVX_Close: Weight=0.107<br>ABBV_Close: Weight=0.189<br>UNH_Close: Weight=0.090<br>WMT_Close: Weight=0.154<br>NVDA_Close: Weight=0.042",
                    "Return: 46.168%<br>Volatility: 0.081<br>Sharpe Ratio: 5.682<br>BA_Close: Weight=0.249<br>MCD_Close: Weight=0.169<br>SO_Close: Weight=0.000<br>CVX_Close: Weight=0.107<br>ABBV_Close: Weight=0.189<br>UNH_Close: Weight=0.090<br>WMT_Close: Weight=0.154<br>NVDA_Close: Weight=0.042",
                    "Return: 46.168%<br>Volatility: 0.081<br>Sharpe Ratio: 5.682<br>BA_Close: Weight=0.249<br>MCD_Close: Weight=0.169<br>SO_Close: Weight=0.000<br>CVX_Close: Weight=0.107<br>ABBV_Close: Weight=0.189<br>UNH_Close: Weight=0.090<br>WMT_Close: Weight=0.154<br>NVDA_Close: Weight=0.042",
                    "Return: 46.168%<br>Volatility: 0.081<br>Sharpe Ratio: 5.682<br>BA_Close: Weight=0.249<br>MCD_Close: Weight=0.169<br>SO_Close: Weight=0.000<br>CVX_Close: Weight=0.107<br>ABBV_Close: Weight=0.189<br>UNH_Close: Weight=0.090<br>WMT_Close: Weight=0.154<br>NVDA_Close: Weight=0.042",
                    "Return: 46.168%<br>Volatility: 0.081<br>Sharpe Ratio: 5.682<br>BA_Close: Weight=0.249<br>MCD_Close: Weight=0.169<br>SO_Close: Weight=0.000<br>CVX_Close: Weight=0.107<br>ABBV_Close: Weight=0.189<br>UNH_Close: Weight=0.090<br>WMT_Close: Weight=0.154<br>NVDA_Close: Weight=0.042",
                    "Return: 46.168%<br>Volatility: 0.081<br>Sharpe Ratio: 5.682<br>BA_Close: Weight=0.249<br>MCD_Close: Weight=0.169<br>SO_Close: Weight=0.000<br>CVX_Close: Weight=0.107<br>ABBV_Close: Weight=0.189<br>UNH_Close: Weight=0.090<br>WMT_Close: Weight=0.154<br>NVDA_Close: Weight=0.042",
                    "Return: 46.168%<br>Volatility: 0.081<br>Sharpe Ratio: 5.682<br>BA_Close: Weight=0.249<br>MCD_Close: Weight=0.169<br>SO_Close: Weight=0.000<br>CVX_Close: Weight=0.107<br>ABBV_Close: Weight=0.189<br>UNH_Close: Weight=0.090<br>WMT_Close: Weight=0.154<br>NVDA_Close: Weight=0.042",
                    "Return: 46.168%<br>Volatility: 0.081<br>Sharpe Ratio: 5.682<br>BA_Close: Weight=0.249<br>MCD_Close: Weight=0.169<br>SO_Close: Weight=0.000<br>CVX_Close: Weight=0.107<br>ABBV_Close: Weight=0.189<br>UNH_Close: Weight=0.090<br>WMT_Close: Weight=0.154<br>NVDA_Close: Weight=0.042",
                    "Return: 46.168%<br>Volatility: 0.081<br>Sharpe Ratio: 5.682<br>BA_Close: Weight=0.249<br>MCD_Close: Weight=0.169<br>SO_Close: Weight=0.000<br>CVX_Close: Weight=0.107<br>ABBV_Close: Weight=0.189<br>UNH_Close: Weight=0.090<br>WMT_Close: Weight=0.154<br>NVDA_Close: Weight=0.042",
                    "Return: 46.168%<br>Volatility: 0.081<br>Sharpe Ratio: 5.682<br>BA_Close: Weight=0.249<br>MCD_Close: Weight=0.169<br>SO_Close: Weight=0.000<br>CVX_Close: Weight=0.107<br>ABBV_Close: Weight=0.189<br>UNH_Close: Weight=0.090<br>WMT_Close: Weight=0.154<br>NVDA_Close: Weight=0.042",
                    "Return: 46.168%<br>Volatility: 0.081<br>Sharpe Ratio: 5.682<br>BA_Close: Weight=0.249<br>MCD_Close: Weight=0.169<br>SO_Close: Weight=0.000<br>CVX_Close: Weight=0.107<br>ABBV_Close: Weight=0.189<br>UNH_Close: Weight=0.090<br>WMT_Close: Weight=0.154<br>NVDA_Close: Weight=0.042",
                    "Return: 46.168%<br>Volatility: 0.081<br>Sharpe Ratio: 5.682<br>BA_Close: Weight=0.249<br>MCD_Close: Weight=0.169<br>SO_Close: Weight=0.000<br>CVX_Close: Weight=0.107<br>ABBV_Close: Weight=0.189<br>UNH_Close: Weight=0.090<br>WMT_Close: Weight=0.154<br>NVDA_Close: Weight=0.042",
                    "Return: 46.168%<br>Volatility: 0.081<br>Sharpe Ratio: 5.682<br>BA_Close: Weight=0.249<br>MCD_Close: Weight=0.169<br>SO_Close: Weight=0.000<br>CVX_Close: Weight=0.107<br>ABBV_Close: Weight=0.189<br>UNH_Close: Weight=0.090<br>WMT_Close: Weight=0.154<br>NVDA_Close: Weight=0.042",
                    "Return: 46.168%<br>Volatility: 0.081<br>Sharpe Ratio: 5.682<br>BA_Close: Weight=0.249<br>MCD_Close: Weight=0.169<br>SO_Close: Weight=0.000<br>CVX_Close: Weight=0.107<br>ABBV_Close: Weight=0.189<br>UNH_Close: Weight=0.090<br>WMT_Close: Weight=0.154<br>NVDA_Close: Weight=0.042",
                    "Return: 46.168%<br>Volatility: 0.081<br>Sharpe Ratio: 5.682<br>BA_Close: Weight=0.249<br>MCD_Close: Weight=0.169<br>SO_Close: Weight=0.000<br>CVX_Close: Weight=0.107<br>ABBV_Close: Weight=0.189<br>UNH_Close: Weight=0.090<br>WMT_Close: Weight=0.154<br>NVDA_Close: Weight=0.042",
                    "Return: 46.168%<br>Volatility: 0.081<br>Sharpe Ratio: 5.682<br>BA_Close: Weight=0.249<br>MCD_Close: Weight=0.169<br>SO_Close: Weight=0.000<br>CVX_Close: Weight=0.107<br>ABBV_Close: Weight=0.189<br>UNH_Close: Weight=0.090<br>WMT_Close: Weight=0.154<br>NVDA_Close: Weight=0.042",
                    "Return: 46.168%<br>Volatility: 0.081<br>Sharpe Ratio: 5.682<br>BA_Close: Weight=0.249<br>MCD_Close: Weight=0.169<br>SO_Close: Weight=0.000<br>CVX_Close: Weight=0.107<br>ABBV_Close: Weight=0.189<br>UNH_Close: Weight=0.090<br>WMT_Close: Weight=0.154<br>NVDA_Close: Weight=0.042",
                    "Return: 46.168%<br>Volatility: 0.081<br>Sharpe Ratio: 5.682<br>BA_Close: Weight=0.249<br>MCD_Close: Weight=0.169<br>SO_Close: Weight=0.000<br>CVX_Close: Weight=0.107<br>ABBV_Close: Weight=0.189<br>UNH_Close: Weight=0.090<br>WMT_Close: Weight=0.154<br>NVDA_Close: Weight=0.042",
                    "Return: 46.168%<br>Volatility: 0.081<br>Sharpe Ratio: 5.682<br>BA_Close: Weight=0.249<br>MCD_Close: Weight=0.169<br>SO_Close: Weight=0.000<br>CVX_Close: Weight=0.107<br>ABBV_Close: Weight=0.189<br>UNH_Close: Weight=0.090<br>WMT_Close: Weight=0.154<br>NVDA_Close: Weight=0.042",
                    "Return: 46.168%<br>Volatility: 0.081<br>Sharpe Ratio: 5.682<br>BA_Close: Weight=0.249<br>MCD_Close: Weight=0.169<br>SO_Close: Weight=0.000<br>CVX_Close: Weight=0.107<br>ABBV_Close: Weight=0.189<br>UNH_Close: Weight=0.090<br>WMT_Close: Weight=0.154<br>NVDA_Close: Weight=0.042",
                    "Return: 46.168%<br>Volatility: 0.081<br>Sharpe Ratio: 5.682<br>BA_Close: Weight=0.249<br>MCD_Close: Weight=0.169<br>SO_Close: Weight=0.000<br>CVX_Close: Weight=0.107<br>ABBV_Close: Weight=0.189<br>UNH_Close: Weight=0.090<br>WMT_Close: Weight=0.154<br>NVDA_Close: Weight=0.042",
                    "Return: 46.168%<br>Volatility: 0.081<br>Sharpe Ratio: 5.682<br>BA_Close: Weight=0.249<br>MCD_Close: Weight=0.169<br>SO_Close: Weight=0.000<br>CVX_Close: Weight=0.107<br>ABBV_Close: Weight=0.189<br>UNH_Close: Weight=0.090<br>WMT_Close: Weight=0.154<br>NVDA_Close: Weight=0.042",
                    "Return: 46.168%<br>Volatility: 0.081<br>Sharpe Ratio: 5.682<br>BA_Close: Weight=0.249<br>MCD_Close: Weight=0.169<br>SO_Close: Weight=0.000<br>CVX_Close: Weight=0.107<br>ABBV_Close: Weight=0.189<br>UNH_Close: Weight=0.090<br>WMT_Close: Weight=0.154<br>NVDA_Close: Weight=0.042",
                    "Return: 46.168%<br>Volatility: 0.081<br>Sharpe Ratio: 5.682<br>BA_Close: Weight=0.249<br>MCD_Close: Weight=0.169<br>SO_Close: Weight=0.000<br>CVX_Close: Weight=0.107<br>ABBV_Close: Weight=0.189<br>UNH_Close: Weight=0.090<br>WMT_Close: Weight=0.154<br>NVDA_Close: Weight=0.042",
                    "Return: 46.168%<br>Volatility: 0.081<br>Sharpe Ratio: 5.682<br>BA_Close: Weight=0.249<br>MCD_Close: Weight=0.169<br>SO_Close: Weight=0.000<br>CVX_Close: Weight=0.107<br>ABBV_Close: Weight=0.189<br>UNH_Close: Weight=0.090<br>WMT_Close: Weight=0.154<br>NVDA_Close: Weight=0.042",
                    "Return: 46.168%<br>Volatility: 0.081<br>Sharpe Ratio: 5.682<br>BA_Close: Weight=0.249<br>MCD_Close: Weight=0.169<br>SO_Close: Weight=0.000<br>CVX_Close: Weight=0.107<br>ABBV_Close: Weight=0.189<br>UNH_Close: Weight=0.090<br>WMT_Close: Weight=0.154<br>NVDA_Close: Weight=0.042",
                    "Return: 46.168%<br>Volatility: 0.081<br>Sharpe Ratio: 5.682<br>BA_Close: Weight=0.249<br>MCD_Close: Weight=0.169<br>SO_Close: Weight=0.000<br>CVX_Close: Weight=0.107<br>ABBV_Close: Weight=0.189<br>UNH_Close: Weight=0.090<br>WMT_Close: Weight=0.154<br>NVDA_Close: Weight=0.042",
                    "Return: 46.168%<br>Volatility: 0.081<br>Sharpe Ratio: 5.682<br>BA_Close: Weight=0.249<br>MCD_Close: Weight=0.169<br>SO_Close: Weight=0.000<br>CVX_Close: Weight=0.107<br>ABBV_Close: Weight=0.189<br>UNH_Close: Weight=0.090<br>WMT_Close: Weight=0.154<br>NVDA_Close: Weight=0.042",
                    "Return: 46.168%<br>Volatility: 0.081<br>Sharpe Ratio: 5.682<br>BA_Close: Weight=0.249<br>MCD_Close: Weight=0.169<br>SO_Close: Weight=0.000<br>CVX_Close: Weight=0.107<br>ABBV_Close: Weight=0.189<br>UNH_Close: Weight=0.090<br>WMT_Close: Weight=0.154<br>NVDA_Close: Weight=0.042",
                    "Return: 46.168%<br>Volatility: 0.081<br>Sharpe Ratio: 5.682<br>BA_Close: Weight=0.249<br>MCD_Close: Weight=0.169<br>SO_Close: Weight=0.000<br>CVX_Close: Weight=0.107<br>ABBV_Close: Weight=0.189<br>UNH_Close: Weight=0.090<br>WMT_Close: Weight=0.154<br>NVDA_Close: Weight=0.042",
                    "Return: 46.168%<br>Volatility: 0.081<br>Sharpe Ratio: 5.682<br>BA_Close: Weight=0.249<br>MCD_Close: Weight=0.169<br>SO_Close: Weight=0.000<br>CVX_Close: Weight=0.107<br>ABBV_Close: Weight=0.189<br>UNH_Close: Weight=0.090<br>WMT_Close: Weight=0.154<br>NVDA_Close: Weight=0.042",
                    "Return: 46.168%<br>Volatility: 0.081<br>Sharpe Ratio: 5.682<br>BA_Close: Weight=0.249<br>MCD_Close: Weight=0.169<br>SO_Close: Weight=0.000<br>CVX_Close: Weight=0.107<br>ABBV_Close: Weight=0.189<br>UNH_Close: Weight=0.090<br>WMT_Close: Weight=0.154<br>NVDA_Close: Weight=0.042",
                    "Return: 46.168%<br>Volatility: 0.081<br>Sharpe Ratio: 5.682<br>BA_Close: Weight=0.249<br>MCD_Close: Weight=0.169<br>SO_Close: Weight=0.000<br>CVX_Close: Weight=0.107<br>ABBV_Close: Weight=0.189<br>UNH_Close: Weight=0.090<br>WMT_Close: Weight=0.154<br>NVDA_Close: Weight=0.042",
                    "Return: 46.168%<br>Volatility: 0.081<br>Sharpe Ratio: 5.682<br>BA_Close: Weight=0.249<br>MCD_Close: Weight=0.169<br>SO_Close: Weight=0.000<br>CVX_Close: Weight=0.107<br>ABBV_Close: Weight=0.189<br>UNH_Close: Weight=0.090<br>WMT_Close: Weight=0.154<br>NVDA_Close: Weight=0.042",
                    "Return: 46.168%<br>Volatility: 0.081<br>Sharpe Ratio: 5.682<br>BA_Close: Weight=0.249<br>MCD_Close: Weight=0.169<br>SO_Close: Weight=0.000<br>CVX_Close: Weight=0.107<br>ABBV_Close: Weight=0.189<br>UNH_Close: Weight=0.090<br>WMT_Close: Weight=0.154<br>NVDA_Close: Weight=0.042",
                    "Return: 46.168%<br>Volatility: 0.081<br>Sharpe Ratio: 5.682<br>BA_Close: Weight=0.249<br>MCD_Close: Weight=0.169<br>SO_Close: Weight=0.000<br>CVX_Close: Weight=0.107<br>ABBV_Close: Weight=0.189<br>UNH_Close: Weight=0.090<br>WMT_Close: Weight=0.154<br>NVDA_Close: Weight=0.042",
                    "Return: 46.168%<br>Volatility: 0.081<br>Sharpe Ratio: 5.682<br>BA_Close: Weight=0.249<br>MCD_Close: Weight=0.169<br>SO_Close: Weight=0.000<br>CVX_Close: Weight=0.107<br>ABBV_Close: Weight=0.189<br>UNH_Close: Weight=0.090<br>WMT_Close: Weight=0.154<br>NVDA_Close: Weight=0.042",
                    "Return: 46.168%<br>Volatility: 0.081<br>Sharpe Ratio: 5.682<br>BA_Close: Weight=0.249<br>MCD_Close: Weight=0.169<br>SO_Close: Weight=0.000<br>CVX_Close: Weight=0.107<br>ABBV_Close: Weight=0.189<br>UNH_Close: Weight=0.090<br>WMT_Close: Weight=0.154<br>NVDA_Close: Weight=0.042",
                    "Return: 46.168%<br>Volatility: 0.081<br>Sharpe Ratio: 5.682<br>BA_Close: Weight=0.249<br>MCD_Close: Weight=0.169<br>SO_Close: Weight=0.000<br>CVX_Close: Weight=0.107<br>ABBV_Close: Weight=0.189<br>UNH_Close: Weight=0.090<br>WMT_Close: Weight=0.154<br>NVDA_Close: Weight=0.042",
                    "Return: 46.168%<br>Volatility: 0.081<br>Sharpe Ratio: 5.682<br>BA_Close: Weight=0.249<br>MCD_Close: Weight=0.169<br>SO_Close: Weight=0.000<br>CVX_Close: Weight=0.107<br>ABBV_Close: Weight=0.189<br>UNH_Close: Weight=0.090<br>WMT_Close: Weight=0.154<br>NVDA_Close: Weight=0.042",
                    "Return: 46.168%<br>Volatility: 0.081<br>Sharpe Ratio: 5.682<br>BA_Close: Weight=0.249<br>MCD_Close: Weight=0.169<br>SO_Close: Weight=0.000<br>CVX_Close: Weight=0.107<br>ABBV_Close: Weight=0.189<br>UNH_Close: Weight=0.090<br>WMT_Close: Weight=0.154<br>NVDA_Close: Weight=0.042",
                    "Return: 46.168%<br>Volatility: 0.081<br>Sharpe Ratio: 5.682<br>BA_Close: Weight=0.249<br>MCD_Close: Weight=0.169<br>SO_Close: Weight=0.000<br>CVX_Close: Weight=0.107<br>ABBV_Close: Weight=0.189<br>UNH_Close: Weight=0.090<br>WMT_Close: Weight=0.154<br>NVDA_Close: Weight=0.042",
                    "Return: 46.168%<br>Volatility: 0.081<br>Sharpe Ratio: 5.682<br>BA_Close: Weight=0.249<br>MCD_Close: Weight=0.169<br>SO_Close: Weight=0.000<br>CVX_Close: Weight=0.107<br>ABBV_Close: Weight=0.189<br>UNH_Close: Weight=0.090<br>WMT_Close: Weight=0.154<br>NVDA_Close: Weight=0.042",
                    "Return: 46.168%<br>Volatility: 0.081<br>Sharpe Ratio: 5.682<br>BA_Close: Weight=0.249<br>MCD_Close: Weight=0.169<br>SO_Close: Weight=0.000<br>CVX_Close: Weight=0.107<br>ABBV_Close: Weight=0.189<br>UNH_Close: Weight=0.090<br>WMT_Close: Weight=0.154<br>NVDA_Close: Weight=0.042",
                    "Return: 46.168%<br>Volatility: 0.081<br>Sharpe Ratio: 5.682<br>BA_Close: Weight=0.249<br>MCD_Close: Weight=0.169<br>SO_Close: Weight=0.000<br>CVX_Close: Weight=0.107<br>ABBV_Close: Weight=0.189<br>UNH_Close: Weight=0.090<br>WMT_Close: Weight=0.154<br>NVDA_Close: Weight=0.042",
                    "Return: 46.168%<br>Volatility: 0.081<br>Sharpe Ratio: 5.682<br>BA_Close: Weight=0.249<br>MCD_Close: Weight=0.169<br>SO_Close: Weight=0.000<br>CVX_Close: Weight=0.107<br>ABBV_Close: Weight=0.189<br>UNH_Close: Weight=0.090<br>WMT_Close: Weight=0.154<br>NVDA_Close: Weight=0.042",
                    "Return: 46.168%<br>Volatility: 0.081<br>Sharpe Ratio: 5.682<br>BA_Close: Weight=0.249<br>MCD_Close: Weight=0.169<br>SO_Close: Weight=0.000<br>CVX_Close: Weight=0.107<br>ABBV_Close: Weight=0.189<br>UNH_Close: Weight=0.090<br>WMT_Close: Weight=0.154<br>NVDA_Close: Weight=0.042",
                    "Return: 46.168%<br>Volatility: 0.081<br>Sharpe Ratio: 5.682<br>BA_Close: Weight=0.249<br>MCD_Close: Weight=0.169<br>SO_Close: Weight=0.000<br>CVX_Close: Weight=0.107<br>ABBV_Close: Weight=0.189<br>UNH_Close: Weight=0.090<br>WMT_Close: Weight=0.154<br>NVDA_Close: Weight=0.042",
                    "Return: 46.168%<br>Volatility: 0.081<br>Sharpe Ratio: 5.682<br>BA_Close: Weight=0.249<br>MCD_Close: Weight=0.169<br>SO_Close: Weight=0.000<br>CVX_Close: Weight=0.107<br>ABBV_Close: Weight=0.189<br>UNH_Close: Weight=0.090<br>WMT_Close: Weight=0.154<br>NVDA_Close: Weight=0.042",
                    "Return: 46.168%<br>Volatility: 0.081<br>Sharpe Ratio: 5.682<br>BA_Close: Weight=0.249<br>MCD_Close: Weight=0.169<br>SO_Close: Weight=0.000<br>CVX_Close: Weight=0.107<br>ABBV_Close: Weight=0.189<br>UNH_Close: Weight=0.090<br>WMT_Close: Weight=0.154<br>NVDA_Close: Weight=0.042",
                    "Return: 46.168%<br>Volatility: 0.081<br>Sharpe Ratio: 5.682<br>BA_Close: Weight=0.249<br>MCD_Close: Weight=0.169<br>SO_Close: Weight=0.000<br>CVX_Close: Weight=0.107<br>ABBV_Close: Weight=0.189<br>UNH_Close: Weight=0.090<br>WMT_Close: Weight=0.154<br>NVDA_Close: Weight=0.042",
                    "Return: 46.168%<br>Volatility: 0.081<br>Sharpe Ratio: 5.682<br>BA_Close: Weight=0.249<br>MCD_Close: Weight=0.169<br>SO_Close: Weight=0.000<br>CVX_Close: Weight=0.107<br>ABBV_Close: Weight=0.189<br>UNH_Close: Weight=0.090<br>WMT_Close: Weight=0.154<br>NVDA_Close: Weight=0.042",
                    "Return: 46.168%<br>Volatility: 0.081<br>Sharpe Ratio: 5.682<br>BA_Close: Weight=0.249<br>MCD_Close: Weight=0.169<br>SO_Close: Weight=0.000<br>CVX_Close: Weight=0.107<br>ABBV_Close: Weight=0.189<br>UNH_Close: Weight=0.090<br>WMT_Close: Weight=0.154<br>NVDA_Close: Weight=0.042",
                    "Return: 46.168%<br>Volatility: 0.081<br>Sharpe Ratio: 5.682<br>BA_Close: Weight=0.249<br>MCD_Close: Weight=0.169<br>SO_Close: Weight=0.000<br>CVX_Close: Weight=0.107<br>ABBV_Close: Weight=0.189<br>UNH_Close: Weight=0.090<br>WMT_Close: Weight=0.154<br>NVDA_Close: Weight=0.042",
                    "Return: 46.168%<br>Volatility: 0.081<br>Sharpe Ratio: 5.682<br>BA_Close: Weight=0.249<br>MCD_Close: Weight=0.169<br>SO_Close: Weight=0.000<br>CVX_Close: Weight=0.107<br>ABBV_Close: Weight=0.189<br>UNH_Close: Weight=0.090<br>WMT_Close: Weight=0.154<br>NVDA_Close: Weight=0.042",
                    "Return: 46.168%<br>Volatility: 0.081<br>Sharpe Ratio: 5.682<br>BA_Close: Weight=0.249<br>MCD_Close: Weight=0.169<br>SO_Close: Weight=0.000<br>CVX_Close: Weight=0.107<br>ABBV_Close: Weight=0.189<br>UNH_Close: Weight=0.090<br>WMT_Close: Weight=0.154<br>NVDA_Close: Weight=0.042",
                    "Return: 46.168%<br>Volatility: 0.081<br>Sharpe Ratio: 5.682<br>BA_Close: Weight=0.249<br>MCD_Close: Weight=0.169<br>SO_Close: Weight=0.000<br>CVX_Close: Weight=0.107<br>ABBV_Close: Weight=0.189<br>UNH_Close: Weight=0.090<br>WMT_Close: Weight=0.154<br>NVDA_Close: Weight=0.042",
                    "Return: 46.168%<br>Volatility: 0.081<br>Sharpe Ratio: 5.682<br>BA_Close: Weight=0.249<br>MCD_Close: Weight=0.169<br>SO_Close: Weight=0.000<br>CVX_Close: Weight=0.107<br>ABBV_Close: Weight=0.189<br>UNH_Close: Weight=0.090<br>WMT_Close: Weight=0.154<br>NVDA_Close: Weight=0.042",
                    "Return: 46.168%<br>Volatility: 0.081<br>Sharpe Ratio: 5.682<br>BA_Close: Weight=0.249<br>MCD_Close: Weight=0.169<br>SO_Close: Weight=0.000<br>CVX_Close: Weight=0.107<br>ABBV_Close: Weight=0.189<br>UNH_Close: Weight=0.090<br>WMT_Close: Weight=0.154<br>NVDA_Close: Weight=0.042",
                    "Return: 46.168%<br>Volatility: 0.081<br>Sharpe Ratio: 5.682<br>BA_Close: Weight=0.249<br>MCD_Close: Weight=0.169<br>SO_Close: Weight=0.000<br>CVX_Close: Weight=0.107<br>ABBV_Close: Weight=0.189<br>UNH_Close: Weight=0.090<br>WMT_Close: Weight=0.154<br>NVDA_Close: Weight=0.042",
                    "Return: 46.168%<br>Volatility: 0.081<br>Sharpe Ratio: 5.682<br>BA_Close: Weight=0.249<br>MCD_Close: Weight=0.169<br>SO_Close: Weight=0.000<br>CVX_Close: Weight=0.107<br>ABBV_Close: Weight=0.189<br>UNH_Close: Weight=0.090<br>WMT_Close: Weight=0.154<br>NVDA_Close: Weight=0.042",
                    "Return: 46.168%<br>Volatility: 0.081<br>Sharpe Ratio: 5.682<br>BA_Close: Weight=0.249<br>MCD_Close: Weight=0.169<br>SO_Close: Weight=0.000<br>CVX_Close: Weight=0.107<br>ABBV_Close: Weight=0.189<br>UNH_Close: Weight=0.090<br>WMT_Close: Weight=0.154<br>NVDA_Close: Weight=0.042",
                    "Return: 46.168%<br>Volatility: 0.081<br>Sharpe Ratio: 5.682<br>BA_Close: Weight=0.249<br>MCD_Close: Weight=0.169<br>SO_Close: Weight=0.000<br>CVX_Close: Weight=0.107<br>ABBV_Close: Weight=0.189<br>UNH_Close: Weight=0.090<br>WMT_Close: Weight=0.154<br>NVDA_Close: Weight=0.042",
                    "Return: 46.168%<br>Volatility: 0.081<br>Sharpe Ratio: 5.682<br>BA_Close: Weight=0.249<br>MCD_Close: Weight=0.169<br>SO_Close: Weight=0.000<br>CVX_Close: Weight=0.107<br>ABBV_Close: Weight=0.189<br>UNH_Close: Weight=0.090<br>WMT_Close: Weight=0.154<br>NVDA_Close: Weight=0.042",
                    "Return: 46.168%<br>Volatility: 0.081<br>Sharpe Ratio: 5.682<br>BA_Close: Weight=0.249<br>MCD_Close: Weight=0.169<br>SO_Close: Weight=0.000<br>CVX_Close: Weight=0.107<br>ABBV_Close: Weight=0.189<br>UNH_Close: Weight=0.090<br>WMT_Close: Weight=0.154<br>NVDA_Close: Weight=0.042",
                    "Return: 46.168%<br>Volatility: 0.081<br>Sharpe Ratio: 5.682<br>BA_Close: Weight=0.249<br>MCD_Close: Weight=0.169<br>SO_Close: Weight=0.000<br>CVX_Close: Weight=0.107<br>ABBV_Close: Weight=0.189<br>UNH_Close: Weight=0.090<br>WMT_Close: Weight=0.154<br>NVDA_Close: Weight=0.042",
                    "Return: 46.168%<br>Volatility: 0.081<br>Sharpe Ratio: 5.682<br>BA_Close: Weight=0.249<br>MCD_Close: Weight=0.169<br>SO_Close: Weight=0.000<br>CVX_Close: Weight=0.107<br>ABBV_Close: Weight=0.189<br>UNH_Close: Weight=0.090<br>WMT_Close: Weight=0.154<br>NVDA_Close: Weight=0.042",
                    "Return: 46.168%<br>Volatility: 0.081<br>Sharpe Ratio: 5.682<br>BA_Close: Weight=0.249<br>MCD_Close: Weight=0.169<br>SO_Close: Weight=0.000<br>CVX_Close: Weight=0.107<br>ABBV_Close: Weight=0.189<br>UNH_Close: Weight=0.090<br>WMT_Close: Weight=0.154<br>NVDA_Close: Weight=0.042",
                    "Return: 46.168%<br>Volatility: 0.081<br>Sharpe Ratio: 5.682<br>BA_Close: Weight=0.249<br>MCD_Close: Weight=0.169<br>SO_Close: Weight=0.000<br>CVX_Close: Weight=0.107<br>ABBV_Close: Weight=0.189<br>UNH_Close: Weight=0.090<br>WMT_Close: Weight=0.154<br>NVDA_Close: Weight=0.042",
                    "Return: 46.168%<br>Volatility: 0.081<br>Sharpe Ratio: 5.682<br>BA_Close: Weight=0.249<br>MCD_Close: Weight=0.169<br>SO_Close: Weight=0.000<br>CVX_Close: Weight=0.107<br>ABBV_Close: Weight=0.189<br>UNH_Close: Weight=0.090<br>WMT_Close: Weight=0.154<br>NVDA_Close: Weight=0.042",
                    "Return: 46.168%<br>Volatility: 0.081<br>Sharpe Ratio: 5.682<br>BA_Close: Weight=0.249<br>MCD_Close: Weight=0.169<br>SO_Close: Weight=0.000<br>CVX_Close: Weight=0.107<br>ABBV_Close: Weight=0.189<br>UNH_Close: Weight=0.090<br>WMT_Close: Weight=0.154<br>NVDA_Close: Weight=0.042",
                    "Return: 46.168%<br>Volatility: 0.081<br>Sharpe Ratio: 5.682<br>BA_Close: Weight=0.249<br>MCD_Close: Weight=0.169<br>SO_Close: Weight=0.000<br>CVX_Close: Weight=0.107<br>ABBV_Close: Weight=0.189<br>UNH_Close: Weight=0.090<br>WMT_Close: Weight=0.154<br>NVDA_Close: Weight=0.042",
                    "Return: 46.168%<br>Volatility: 0.081<br>Sharpe Ratio: 5.682<br>BA_Close: Weight=0.249<br>MCD_Close: Weight=0.169<br>SO_Close: Weight=0.000<br>CVX_Close: Weight=0.107<br>ABBV_Close: Weight=0.189<br>UNH_Close: Weight=0.090<br>WMT_Close: Weight=0.154<br>NVDA_Close: Weight=0.042",
                    "Return: 46.168%<br>Volatility: 0.081<br>Sharpe Ratio: 5.682<br>BA_Close: Weight=0.249<br>MCD_Close: Weight=0.169<br>SO_Close: Weight=0.000<br>CVX_Close: Weight=0.107<br>ABBV_Close: Weight=0.189<br>UNH_Close: Weight=0.090<br>WMT_Close: Weight=0.154<br>NVDA_Close: Weight=0.042",
                    "Return: 46.168%<br>Volatility: 0.081<br>Sharpe Ratio: 5.682<br>BA_Close: Weight=0.249<br>MCD_Close: Weight=0.169<br>SO_Close: Weight=0.000<br>CVX_Close: Weight=0.107<br>ABBV_Close: Weight=0.189<br>UNH_Close: Weight=0.090<br>WMT_Close: Weight=0.154<br>NVDA_Close: Weight=0.042",
                    "Return: 46.168%<br>Volatility: 0.081<br>Sharpe Ratio: 5.682<br>BA_Close: Weight=0.249<br>MCD_Close: Weight=0.169<br>SO_Close: Weight=0.000<br>CVX_Close: Weight=0.107<br>ABBV_Close: Weight=0.189<br>UNH_Close: Weight=0.090<br>WMT_Close: Weight=0.154<br>NVDA_Close: Weight=0.042",
                    "Return: 46.168%<br>Volatility: 0.081<br>Sharpe Ratio: 5.682<br>BA_Close: Weight=0.249<br>MCD_Close: Weight=0.169<br>SO_Close: Weight=0.000<br>CVX_Close: Weight=0.107<br>ABBV_Close: Weight=0.189<br>UNH_Close: Weight=0.090<br>WMT_Close: Weight=0.154<br>NVDA_Close: Weight=0.042",
                    "Return: 46.168%<br>Volatility: 0.081<br>Sharpe Ratio: 5.682<br>BA_Close: Weight=0.249<br>MCD_Close: Weight=0.169<br>SO_Close: Weight=0.000<br>CVX_Close: Weight=0.107<br>ABBV_Close: Weight=0.189<br>UNH_Close: Weight=0.090<br>WMT_Close: Weight=0.154<br>NVDA_Close: Weight=0.042",
                    "Return: 46.168%<br>Volatility: 0.081<br>Sharpe Ratio: 5.682<br>BA_Close: Weight=0.249<br>MCD_Close: Weight=0.169<br>SO_Close: Weight=0.000<br>CVX_Close: Weight=0.107<br>ABBV_Close: Weight=0.189<br>UNH_Close: Weight=0.090<br>WMT_Close: Weight=0.154<br>NVDA_Close: Weight=0.042",
                    "Return: 46.168%<br>Volatility: 0.081<br>Sharpe Ratio: 5.682<br>BA_Close: Weight=0.249<br>MCD_Close: Weight=0.169<br>SO_Close: Weight=0.000<br>CVX_Close: Weight=0.107<br>ABBV_Close: Weight=0.189<br>UNH_Close: Weight=0.090<br>WMT_Close: Weight=0.154<br>NVDA_Close: Weight=0.042",
                    "Return: 46.168%<br>Volatility: 0.081<br>Sharpe Ratio: 5.682<br>BA_Close: Weight=0.249<br>MCD_Close: Weight=0.169<br>SO_Close: Weight=0.000<br>CVX_Close: Weight=0.107<br>ABBV_Close: Weight=0.189<br>UNH_Close: Weight=0.090<br>WMT_Close: Weight=0.154<br>NVDA_Close: Weight=0.042",
                    "Return: 46.168%<br>Volatility: 0.081<br>Sharpe Ratio: 5.682<br>BA_Close: Weight=0.249<br>MCD_Close: Weight=0.169<br>SO_Close: Weight=0.000<br>CVX_Close: Weight=0.107<br>ABBV_Close: Weight=0.189<br>UNH_Close: Weight=0.090<br>WMT_Close: Weight=0.154<br>NVDA_Close: Weight=0.042",
                    "Return: 46.168%<br>Volatility: 0.081<br>Sharpe Ratio: 5.682<br>BA_Close: Weight=0.249<br>MCD_Close: Weight=0.169<br>SO_Close: Weight=0.000<br>CVX_Close: Weight=0.107<br>ABBV_Close: Weight=0.189<br>UNH_Close: Weight=0.090<br>WMT_Close: Weight=0.154<br>NVDA_Close: Weight=0.042",
                    "Return: 46.168%<br>Volatility: 0.081<br>Sharpe Ratio: 5.682<br>BA_Close: Weight=0.249<br>MCD_Close: Weight=0.169<br>SO_Close: Weight=0.000<br>CVX_Close: Weight=0.107<br>ABBV_Close: Weight=0.189<br>UNH_Close: Weight=0.090<br>WMT_Close: Weight=0.154<br>NVDA_Close: Weight=0.042",
                    "Return: 46.168%<br>Volatility: 0.081<br>Sharpe Ratio: 5.682<br>BA_Close: Weight=0.249<br>MCD_Close: Weight=0.169<br>SO_Close: Weight=0.000<br>CVX_Close: Weight=0.107<br>ABBV_Close: Weight=0.189<br>UNH_Close: Weight=0.090<br>WMT_Close: Weight=0.154<br>NVDA_Close: Weight=0.042",
                    "Return: 46.168%<br>Volatility: 0.081<br>Sharpe Ratio: 5.682<br>BA_Close: Weight=0.249<br>MCD_Close: Weight=0.169<br>SO_Close: Weight=0.000<br>CVX_Close: Weight=0.107<br>ABBV_Close: Weight=0.189<br>UNH_Close: Weight=0.090<br>WMT_Close: Weight=0.154<br>NVDA_Close: Weight=0.042",
                    "Return: 46.168%<br>Volatility: 0.081<br>Sharpe Ratio: 5.682<br>BA_Close: Weight=0.249<br>MCD_Close: Weight=0.169<br>SO_Close: Weight=0.000<br>CVX_Close: Weight=0.107<br>ABBV_Close: Weight=0.189<br>UNH_Close: Weight=0.090<br>WMT_Close: Weight=0.154<br>NVDA_Close: Weight=0.042",
                    "Return: 46.168%<br>Volatility: 0.081<br>Sharpe Ratio: 5.682<br>BA_Close: Weight=0.249<br>MCD_Close: Weight=0.169<br>SO_Close: Weight=0.000<br>CVX_Close: Weight=0.107<br>ABBV_Close: Weight=0.189<br>UNH_Close: Weight=0.090<br>WMT_Close: Weight=0.154<br>NVDA_Close: Weight=0.042",
                    "Return: 46.168%<br>Volatility: 0.081<br>Sharpe Ratio: 5.682<br>BA_Close: Weight=0.249<br>MCD_Close: Weight=0.169<br>SO_Close: Weight=0.000<br>CVX_Close: Weight=0.107<br>ABBV_Close: Weight=0.189<br>UNH_Close: Weight=0.090<br>WMT_Close: Weight=0.154<br>NVDA_Close: Weight=0.042",
                    "Return: 46.168%<br>Volatility: 0.081<br>Sharpe Ratio: 5.682<br>BA_Close: Weight=0.249<br>MCD_Close: Weight=0.169<br>SO_Close: Weight=0.000<br>CVX_Close: Weight=0.107<br>ABBV_Close: Weight=0.189<br>UNH_Close: Weight=0.090<br>WMT_Close: Weight=0.154<br>NVDA_Close: Weight=0.042",
                    "Return: 46.168%<br>Volatility: 0.081<br>Sharpe Ratio: 5.682<br>BA_Close: Weight=0.249<br>MCD_Close: Weight=0.169<br>SO_Close: Weight=0.000<br>CVX_Close: Weight=0.107<br>ABBV_Close: Weight=0.189<br>UNH_Close: Weight=0.090<br>WMT_Close: Weight=0.154<br>NVDA_Close: Weight=0.042",
                    "Return: 46.168%<br>Volatility: 0.081<br>Sharpe Ratio: 5.682<br>BA_Close: Weight=0.249<br>MCD_Close: Weight=0.169<br>SO_Close: Weight=0.000<br>CVX_Close: Weight=0.107<br>ABBV_Close: Weight=0.189<br>UNH_Close: Weight=0.090<br>WMT_Close: Weight=0.154<br>NVDA_Close: Weight=0.042",
                    "Return: 46.168%<br>Volatility: 0.081<br>Sharpe Ratio: 5.682<br>BA_Close: Weight=0.249<br>MCD_Close: Weight=0.169<br>SO_Close: Weight=0.000<br>CVX_Close: Weight=0.107<br>ABBV_Close: Weight=0.189<br>UNH_Close: Weight=0.090<br>WMT_Close: Weight=0.154<br>NVDA_Close: Weight=0.042",
                    "Return: 46.168%<br>Volatility: 0.081<br>Sharpe Ratio: 5.682<br>BA_Close: Weight=0.249<br>MCD_Close: Weight=0.169<br>SO_Close: Weight=0.000<br>CVX_Close: Weight=0.107<br>ABBV_Close: Weight=0.189<br>UNH_Close: Weight=0.090<br>WMT_Close: Weight=0.154<br>NVDA_Close: Weight=0.042",
                    "Return: 46.168%<br>Volatility: 0.081<br>Sharpe Ratio: 5.682<br>BA_Close: Weight=0.249<br>MCD_Close: Weight=0.169<br>SO_Close: Weight=0.000<br>CVX_Close: Weight=0.107<br>ABBV_Close: Weight=0.189<br>UNH_Close: Weight=0.090<br>WMT_Close: Weight=0.154<br>NVDA_Close: Weight=0.042",
                    "Return: 46.168%<br>Volatility: 0.081<br>Sharpe Ratio: 5.682<br>BA_Close: Weight=0.249<br>MCD_Close: Weight=0.169<br>SO_Close: Weight=0.000<br>CVX_Close: Weight=0.107<br>ABBV_Close: Weight=0.189<br>UNH_Close: Weight=0.090<br>WMT_Close: Weight=0.154<br>NVDA_Close: Weight=0.042",
                    "Return: 46.168%<br>Volatility: 0.081<br>Sharpe Ratio: 5.682<br>BA_Close: Weight=0.249<br>MCD_Close: Weight=0.169<br>SO_Close: Weight=0.000<br>CVX_Close: Weight=0.107<br>ABBV_Close: Weight=0.189<br>UNH_Close: Weight=0.090<br>WMT_Close: Weight=0.154<br>NVDA_Close: Weight=0.042",
                    "Return: 46.168%<br>Volatility: 0.081<br>Sharpe Ratio: 5.682<br>BA_Close: Weight=0.249<br>MCD_Close: Weight=0.169<br>SO_Close: Weight=0.000<br>CVX_Close: Weight=0.107<br>ABBV_Close: Weight=0.189<br>UNH_Close: Weight=0.090<br>WMT_Close: Weight=0.154<br>NVDA_Close: Weight=0.042",
                    "Return: 46.168%<br>Volatility: 0.081<br>Sharpe Ratio: 5.682<br>BA_Close: Weight=0.249<br>MCD_Close: Weight=0.169<br>SO_Close: Weight=0.000<br>CVX_Close: Weight=0.107<br>ABBV_Close: Weight=0.189<br>UNH_Close: Weight=0.090<br>WMT_Close: Weight=0.154<br>NVDA_Close: Weight=0.042",
                    "Return: 46.168%<br>Volatility: 0.081<br>Sharpe Ratio: 5.682<br>BA_Close: Weight=0.249<br>MCD_Close: Weight=0.169<br>SO_Close: Weight=0.000<br>CVX_Close: Weight=0.107<br>ABBV_Close: Weight=0.189<br>UNH_Close: Weight=0.090<br>WMT_Close: Weight=0.154<br>NVDA_Close: Weight=0.042",
                    "Return: 46.168%<br>Volatility: 0.081<br>Sharpe Ratio: 5.682<br>BA_Close: Weight=0.249<br>MCD_Close: Weight=0.169<br>SO_Close: Weight=0.000<br>CVX_Close: Weight=0.107<br>ABBV_Close: Weight=0.189<br>UNH_Close: Weight=0.090<br>WMT_Close: Weight=0.154<br>NVDA_Close: Weight=0.042",
                    "Return: 46.168%<br>Volatility: 0.081<br>Sharpe Ratio: 5.682<br>BA_Close: Weight=0.249<br>MCD_Close: Weight=0.169<br>SO_Close: Weight=0.000<br>CVX_Close: Weight=0.107<br>ABBV_Close: Weight=0.189<br>UNH_Close: Weight=0.090<br>WMT_Close: Weight=0.154<br>NVDA_Close: Weight=0.042",
                    "Return: 46.168%<br>Volatility: 0.081<br>Sharpe Ratio: 5.682<br>BA_Close: Weight=0.249<br>MCD_Close: Weight=0.169<br>SO_Close: Weight=0.000<br>CVX_Close: Weight=0.107<br>ABBV_Close: Weight=0.189<br>UNH_Close: Weight=0.090<br>WMT_Close: Weight=0.154<br>NVDA_Close: Weight=0.042",
                    "Return: 46.168%<br>Volatility: 0.081<br>Sharpe Ratio: 5.682<br>BA_Close: Weight=0.249<br>MCD_Close: Weight=0.169<br>SO_Close: Weight=0.000<br>CVX_Close: Weight=0.107<br>ABBV_Close: Weight=0.189<br>UNH_Close: Weight=0.090<br>WMT_Close: Weight=0.154<br>NVDA_Close: Weight=0.042",
                    "Return: 46.168%<br>Volatility: 0.081<br>Sharpe Ratio: 5.682<br>BA_Close: Weight=0.249<br>MCD_Close: Weight=0.169<br>SO_Close: Weight=0.000<br>CVX_Close: Weight=0.107<br>ABBV_Close: Weight=0.189<br>UNH_Close: Weight=0.090<br>WMT_Close: Weight=0.154<br>NVDA_Close: Weight=0.042",
                    "Return: 46.168%<br>Volatility: 0.081<br>Sharpe Ratio: 5.682<br>BA_Close: Weight=0.249<br>MCD_Close: Weight=0.169<br>SO_Close: Weight=0.000<br>CVX_Close: Weight=0.107<br>ABBV_Close: Weight=0.189<br>UNH_Close: Weight=0.090<br>WMT_Close: Weight=0.154<br>NVDA_Close: Weight=0.042",
                    "Return: 46.168%<br>Volatility: 0.081<br>Sharpe Ratio: 5.682<br>BA_Close: Weight=0.249<br>MCD_Close: Weight=0.169<br>SO_Close: Weight=0.000<br>CVX_Close: Weight=0.107<br>ABBV_Close: Weight=0.189<br>UNH_Close: Weight=0.090<br>WMT_Close: Weight=0.154<br>NVDA_Close: Weight=0.042",
                    "Return: 46.168%<br>Volatility: 0.081<br>Sharpe Ratio: 5.682<br>BA_Close: Weight=0.249<br>MCD_Close: Weight=0.169<br>SO_Close: Weight=0.000<br>CVX_Close: Weight=0.107<br>ABBV_Close: Weight=0.189<br>UNH_Close: Weight=0.090<br>WMT_Close: Weight=0.154<br>NVDA_Close: Weight=0.042",
                    "Return: 46.168%<br>Volatility: 0.081<br>Sharpe Ratio: 5.682<br>BA_Close: Weight=0.249<br>MCD_Close: Weight=0.169<br>SO_Close: Weight=0.000<br>CVX_Close: Weight=0.107<br>ABBV_Close: Weight=0.189<br>UNH_Close: Weight=0.090<br>WMT_Close: Weight=0.154<br>NVDA_Close: Weight=0.042",
                    "Return: 46.168%<br>Volatility: 0.081<br>Sharpe Ratio: 5.682<br>BA_Close: Weight=0.249<br>MCD_Close: Weight=0.169<br>SO_Close: Weight=0.000<br>CVX_Close: Weight=0.107<br>ABBV_Close: Weight=0.189<br>UNH_Close: Weight=0.090<br>WMT_Close: Weight=0.154<br>NVDA_Close: Weight=0.042",
                    "Return: 46.168%<br>Volatility: 0.081<br>Sharpe Ratio: 5.682<br>BA_Close: Weight=0.249<br>MCD_Close: Weight=0.169<br>SO_Close: Weight=0.000<br>CVX_Close: Weight=0.107<br>ABBV_Close: Weight=0.189<br>UNH_Close: Weight=0.090<br>WMT_Close: Weight=0.154<br>NVDA_Close: Weight=0.042",
                    "Return: 46.168%<br>Volatility: 0.081<br>Sharpe Ratio: 5.682<br>BA_Close: Weight=0.249<br>MCD_Close: Weight=0.169<br>SO_Close: Weight=0.000<br>CVX_Close: Weight=0.107<br>ABBV_Close: Weight=0.189<br>UNH_Close: Weight=0.090<br>WMT_Close: Weight=0.154<br>NVDA_Close: Weight=0.042",
                    "Return: 46.168%<br>Volatility: 0.081<br>Sharpe Ratio: 5.682<br>BA_Close: Weight=0.249<br>MCD_Close: Weight=0.169<br>SO_Close: Weight=0.000<br>CVX_Close: Weight=0.107<br>ABBV_Close: Weight=0.189<br>UNH_Close: Weight=0.090<br>WMT_Close: Weight=0.154<br>NVDA_Close: Weight=0.042",
                    "Return: 46.168%<br>Volatility: 0.081<br>Sharpe Ratio: 5.682<br>BA_Close: Weight=0.249<br>MCD_Close: Weight=0.169<br>SO_Close: Weight=0.000<br>CVX_Close: Weight=0.107<br>ABBV_Close: Weight=0.189<br>UNH_Close: Weight=0.090<br>WMT_Close: Weight=0.154<br>NVDA_Close: Weight=0.042"
                  ],
                  "type": "scatter",
                  "x": [
                    0.10036867905198112,
                    0.1016473518973582,
                    0.10930969493573967,
                    0.10958895867444612,
                    0.10958895886975874,
                    0.10958895886975874,
                    0.10777617090368569,
                    0.10753262764230279,
                    0.10753262764230279,
                    0.10529869942094058,
                    0.10696582979817312,
                    0.1052986991101537,
                    0.10696582979817312,
                    0.1052986991101537,
                    0.10660879565948918,
                    0.10387382986877605,
                    0.10660509727004483,
                    0.10472157742011236,
                    0.10661947749345477,
                    0.10661287068101266,
                    0.09933991278844866,
                    0.10157283915112629,
                    0.10073399088856194,
                    0.0993399113222623,
                    0.10077158485788916,
                    0.10129532366946195,
                    0.10130749954968428,
                    0.10110313918040481,
                    0.10130101123325368,
                    0.10130067264515104,
                    0.09912038185929457,
                    0.1013105863319282,
                    0.09801040883163963,
                    0.09779387934484787,
                    0.10028916030644955,
                    0.09344015893608464,
                    0.0932922267296673,
                    0.0932922267296673,
                    0.09255314707763357,
                    0.09344015980104549,
                    0.09190663824834053,
                    0.0932922267296673,
                    0.09255314707763357,
                    0.09344015980104549,
                    0.09190663824834053,
                    0.09252131824926979,
                    0.0926407392382445,
                    0.09261391120852777,
                    0.09263226326126808,
                    0.09263623091959836,
                    0.09169251874257459,
                    0.09261887287221343,
                    0.09238373653178225,
                    0.092228006522177,
                    0.0926303625365209,
                    0.09263338579215877,
                    0.09262920274421638,
                    0.09263105975161048,
                    0.09263117168935596,
                    0.09171724916257391,
                    0.08942116152756384,
                    0.09261022175630189,
                    0.09219878033045892,
                    0.09298103973290173,
                    0.09027137016480678,
                    0.09247393433450798,
                    0.09246871136060743,
                    0.09171991268094687,
                    0.09044767227434375,
                    0.09246623395233439,
                    0.09174094696763646,
                    0.08942116152885204,
                    0.09154093459494962,
                    0.09126841075634913,
                    0.09246299682145552,
                    0.09247335475967802,
                    0.09016311083243224,
                    0.09086717108539757,
                    0.0924730392862787,
                    0.09247155339021584,
                    0.09111437834201068,
                    0.09247357726584571,
                    0.09247518381159624,
                    0.09241912314009383,
                    0.09246702961855946,
                    0.09246675489167504,
                    0.09247818864740258,
                    0.09247138548969487,
                    0.08511372504113086,
                    0.08125260544500812,
                    0.08085070261232648,
                    0.0800245008549248,
                    0.0851137249982138,
                    0.08125260544500812,
                    0.08085070261232648,
                    0.0800245008549248,
                    0.0851137249982138,
                    0.079164753831848,
                    0.07887077697139729,
                    0.0801839467651281,
                    0.07992429305946078,
                    0.07960750285117398,
                    0.0803621959669424,
                    0.08016522138256058,
                    0.0784222405393667,
                    0.08017552430105897,
                    0.07957670579016182,
                    0.08017575610884362,
                    0.07897068053070132,
                    0.0801773242053392,
                    0.07832257975361476,
                    0.07758351857208158,
                    0.08017809805919615,
                    0.07914839790422923,
                    0.08009592312134872,
                    0.08018140375450057,
                    0.07963224324839713,
                    0.08017996155970167,
                    0.08017485716008314,
                    0.08017327538058958,
                    0.08017236869492639,
                    0.07947248073344378,
                    0.08017293898542804,
                    0.0801752593604263,
                    0.08017518452131842,
                    0.08016692624139928,
                    0.07757797303523714,
                    0.075538910370321,
                    0.0801731808584421,
                    0.07822427172513712,
                    0.07900125292051892,
                    0.07819221958269187,
                    0.07975474882434959,
                    0.08017700836195259,
                    0.07863982684856487,
                    0.08017118032688834,
                    0.08017611084748509,
                    0.0725705847260774,
                    0.08017373255351286,
                    0.07963228712878602,
                    0.07983121155702139,
                    0.08017350592572647,
                    0.08017560416090279,
                    0.08017298365265832,
                    0.08017349356585692,
                    0.08017747316851026,
                    0.07837944417143448,
                    0.08017626984644287,
                    0.08017569379916449,
                    0.08017351777557974,
                    0.08017697394691942,
                    0.08017718095563563,
                    0.08017410673910878,
                    0.08017467090926643,
                    0.08017711898140281,
                    0.08017204569832494,
                    0.0801760761488863,
                    0.0801747360614617,
                    0.08017559546514426,
                    0.08017403535403872,
                    0.08017187851988818,
                    0.08017170725195615,
                    0.07918856698744393,
                    0.08017744330873,
                    0.08017640466402536,
                    0.07698739214053374,
                    0.07589784753716844,
                    0.08017645328171988,
                    0.08017284097596962,
                    0.08017344439926055,
                    0.08017503207546792,
                    0.08017624787186764,
                    0.08017539578252056,
                    0.0801738324184307,
                    0.0801747974577346,
                    0.07912834605216146,
                    0.08017814489152242,
                    0.08017310054898247,
                    0.08017641133439755,
                    0.080174035150796,
                    0.08125260544500812,
                    0.08125260544500812,
                    0.08125260544500812,
                    0.08125260544500812,
                    0.08125260544500812,
                    0.08125260544500812,
                    0.08125260544500812,
                    0.08125260544500812,
                    0.08125260544500812,
                    0.08125260544500812,
                    0.08125260544500812,
                    0.08125260544500812,
                    0.08125260544500812,
                    0.08125260544500812,
                    0.08125260544500812,
                    0.08125260544500812,
                    0.08125260544500812,
                    0.08125260544500812,
                    0.08125260544500812,
                    0.08125260544500812,
                    0.08125260544500812,
                    0.08125260544500812,
                    0.08125260544500812,
                    0.08125260544500812,
                    0.08125260544500812,
                    0.08125260544500812,
                    0.08125260544500812,
                    0.08125260544500812,
                    0.08125260544500812,
                    0.08125260544500812,
                    0.08125260544500812,
                    0.08125260544500812,
                    0.08125260544500812,
                    0.08125260544500812,
                    0.08125260544500812,
                    0.08125260544500812,
                    0.08125260544500812,
                    0.08125260544500812,
                    0.08125260544500812,
                    0.08125260544500812,
                    0.08125260544500812,
                    0.08125260544500812,
                    0.08125260544500812,
                    0.08125260544500812,
                    0.08125260544500812,
                    0.08125260544500812,
                    0.08125260544500812,
                    0.08125260544500812,
                    0.08125260544500812,
                    0.08125260544500812,
                    0.08125260544500812,
                    0.08125260544500812,
                    0.08125260544500812,
                    0.08125260544500812,
                    0.08125260544500812,
                    0.08125260544500812,
                    0.08125260544500812,
                    0.08125260544500812,
                    0.08125260544500812,
                    0.08125260544500812,
                    0.08125260544500812,
                    0.08125260544500812,
                    0.08125260544500812,
                    0.08125260544500812,
                    0.08125260544500812,
                    0.08125260544500812,
                    0.08125260544500812,
                    0.08125260544500812,
                    0.08125260544500812,
                    0.08125260544500812,
                    0.08125260544500812,
                    0.08125260544500812,
                    0.08125260544500812,
                    0.08125260544500812,
                    0.08125260544500812,
                    0.08125260544500812,
                    0.08125260544500812,
                    0.08125260544500812,
                    0.08125260544500812,
                    0.08125260544500812,
                    0.08125260544500812,
                    0.08125260544500812,
                    0.08125260544500812,
                    0.08125260544500812,
                    0.08125260544500812,
                    0.08125260544500812,
                    0.08125260544500812,
                    0.08125260544500812,
                    0.08125260544500812,
                    0.08125260544500812,
                    0.08125260544500812,
                    0.08125260544500812,
                    0.08125260544500812,
                    0.08125260544500812,
                    0.08125260544500812,
                    0.08125260544500812,
                    0.08125260544500812,
                    0.08125260544500812,
                    0.08125260544500812,
                    0.08125260544500812,
                    0.08125260544500812,
                    0.08125260544500812,
                    0.08125260544500812,
                    0.08125260544500812,
                    0.08125260544500812,
                    0.08125260544500812,
                    0.08125260544500812,
                    0.08125260544500812,
                    0.08125260544500812,
                    0.08125260544500812,
                    0.08125260544500812,
                    0.08125260544500812,
                    0.08125260544500812,
                    0.08125260544500812,
                    0.08125260544500812,
                    0.08125260544500812,
                    0.08125260544500812,
                    0.08125260544500812,
                    0.08125260544500812,
                    0.08125260544500812,
                    0.08125260544500812
                  ],
                  "y": [
                    0.43812138941036305,
                    0.4667918715067614,
                    0.522226807394814,
                    0.5343537967202809,
                    0.5343537976726229,
                    0.5343537976726229,
                    0.529688609339238,
                    0.5331751500224273,
                    0.5331751500224273,
                    0.5237336988217666,
                    0.5267955067459071,
                    0.523733697276004,
                    0.5267955067459071,
                    0.523733697276004,
                    0.5229836375583162,
                    0.5118593429654774,
                    0.522965516151521,
                    0.5140990749789716,
                    0.5230360562897985,
                    0.5230036562753033,
                    0.5007447090290729,
                    0.5087797599200744,
                    0.5070159010273261,
                    0.5007447016380068,
                    0.50175256917653,
                    0.504149767151147,
                    0.504210362208972,
                    0.503199184148691,
                    0.5041780668728687,
                    0.5041763939171524,
                    0.4989557534623348,
                    0.5042257010137849,
                    0.4898303677607808,
                    0.4886654553985863,
                    0.49924138631312465,
                    0.5171424205402413,
                    0.5192756487908228,
                    0.5192756487908228,
                    0.5124667178482668,
                    0.5171424253272408,
                    0.5120205067207264,
                    0.5192756487908228,
                    0.5124667178482668,
                    0.5171424253272408,
                    0.5120205067207264,
                    0.5112639030780293,
                    0.511888073109248,
                    0.5117398296472844,
                    0.511841264099148,
                    0.5118631851004078,
                    0.5085513371618438,
                    0.5117672524580362,
                    0.5104903022129277,
                    0.5096751904974091,
                    0.5118307619025805,
                    0.5118474649131034,
                    0.5118243489438521,
                    0.511834614117927,
                    0.511835230961675,
                    0.5070767837876036,
                    0.49850833288001845,
                    0.5128339676825916,
                    0.5049149886174414,
                    0.5135479019700626,
                    0.5012523889972506,
                    0.5041207546266566,
                    0.5040922772472127,
                    0.5018064593021653,
                    0.4967399514160979,
                    0.5040787685455344,
                    0.5003353079274511,
                    0.49850833288710483,
                    0.4994510497006452,
                    0.4981071880811688,
                    0.5040611097218208,
                    0.5041175939687065,
                    0.4931422373248376,
                    0.4959305224881465,
                    0.5041158750454755,
                    0.5041077741917394,
                    0.4973646735682548,
                    0.5041188078163047,
                    0.504127564476989,
                    0.5038230454162193,
                    0.5040831077393617,
                    0.5040815988251504,
                    0.5041439438703584,
                    0.5041068590601615,
                    0.4902481748818653,
                    0.4616756099666302,
                    0.45214365877492646,
                    0.4485176400077065,
                    0.49024817463473286,
                    0.4616756099666302,
                    0.45214365877492646,
                    0.4485176400077065,
                    0.49024817463473286,
                    0.4513937520642775,
                    0.4431348834724419,
                    0.4466132315069907,
                    0.44539949397075435,
                    0.44372670708160095,
                    0.45225863847047004,
                    0.4465092235701973,
                    0.44638399404087775,
                    0.4465663357526662,
                    0.44396809369596396,
                    0.44656763011145945,
                    0.4404745804590483,
                    0.4465763410077877,
                    0.43878280411707504,
                    0.43629583901691166,
                    0.4465806704409026,
                    0.4418467558585008,
                    0.4461274402996712,
                    0.44659907486215245,
                    0.443692364858884,
                    0.4465910409378534,
                    0.44656262249555106,
                    0.4465538080247349,
                    0.44654875838969615,
                    0.4428656000217958,
                    0.44655193525715886,
                    0.44656486270462853,
                    0.44656444145783375,
                    0.4465184298272297,
                    0.4383569872911791,
                    0.42690393834590223,
                    0.4465532672085582,
                    0.4361547927437531,
                    0.44045937490744436,
                    0.4362293833250614,
                    0.44427527996895594,
                    0.4465746043201112,
                    0.4393093110314208,
                    0.446542139593638,
                    0.4465696030834915,
                    0.4154270764948866,
                    0.44655635694145557,
                    0.4436784899315065,
                    0.44467026903020124,
                    0.44655508801559746,
                    0.4465667799794509,
                    0.44655216220614047,
                    0.44655502698326666,
                    0.44657719134459606,
                    0.4371860842602753,
                    0.44657049140475547,
                    0.44656726297283544,
                    0.44655516263523304,
                    0.44657441243453033,
                    0.4465755653925586,
                    0.4465584425910736,
                    0.44656158409588936,
                    0.4465751942254124,
                    0.44654694368432707,
                    0.44656941199592826,
                    0.446561948073498,
                    0.4465667355277597,
                    0.4465580397242579,
                    0.4465460082762416,
                    0.4465450763944496,
                    0.4415319012484779,
                    0.4465769992540904,
                    0.4465712412835358,
                    0.42980491794465725,
                    0.4241878772876243,
                    0.44657150344107727,
                    0.4465513899492867,
                    0.4465547471666699,
                    0.4465635957002463,
                    0.4465703686711208,
                    0.4465656221976391,
                    0.4465569111731442,
                    0.4465622902198946,
                    0.4412495348020544,
                    0.44658092840057784,
                    0.44655283773631316,
                    0.4465712758850208,
                    0.4465580398719443,
                    0.4616756099666302,
                    0.4616756099666302,
                    0.4616756099666302,
                    0.4616756099666302,
                    0.4616756099666302,
                    0.4616756099666302,
                    0.4616756099666302,
                    0.4616756099666302,
                    0.4616756099666302,
                    0.4616756099666302,
                    0.4616756099666302,
                    0.4616756099666302,
                    0.4616756099666302,
                    0.4616756099666302,
                    0.4616756099666302,
                    0.4616756099666302,
                    0.4616756099666302,
                    0.4616756099666302,
                    0.4616756099666302,
                    0.4616756099666302,
                    0.4616756099666302,
                    0.4616756099666302,
                    0.4616756099666302,
                    0.4616756099666302,
                    0.4616756099666302,
                    0.4616756099666302,
                    0.4616756099666302,
                    0.4616756099666302,
                    0.4616756099666302,
                    0.4616756099666302,
                    0.4616756099666302,
                    0.4616756099666302,
                    0.4616756099666302,
                    0.4616756099666302,
                    0.4616756099666302,
                    0.4616756099666302,
                    0.4616756099666302,
                    0.4616756099666302,
                    0.4616756099666302,
                    0.4616756099666302,
                    0.4616756099666302,
                    0.4616756099666302,
                    0.4616756099666302,
                    0.4616756099666302,
                    0.4616756099666302,
                    0.4616756099666302,
                    0.4616756099666302,
                    0.4616756099666302,
                    0.4616756099666302,
                    0.4616756099666302,
                    0.4616756099666302,
                    0.4616756099666302,
                    0.4616756099666302,
                    0.4616756099666302,
                    0.4616756099666302,
                    0.4616756099666302,
                    0.4616756099666302,
                    0.4616756099666302,
                    0.4616756099666302,
                    0.4616756099666302,
                    0.4616756099666302,
                    0.4616756099666302,
                    0.4616756099666302,
                    0.4616756099666302,
                    0.4616756099666302,
                    0.4616756099666302,
                    0.4616756099666302,
                    0.4616756099666302,
                    0.4616756099666302,
                    0.4616756099666302,
                    0.4616756099666302,
                    0.4616756099666302,
                    0.4616756099666302,
                    0.4616756099666302,
                    0.4616756099666302,
                    0.4616756099666302,
                    0.4616756099666302,
                    0.4616756099666302,
                    0.4616756099666302,
                    0.4616756099666302,
                    0.4616756099666302,
                    0.4616756099666302,
                    0.4616756099666302,
                    0.4616756099666302,
                    0.4616756099666302,
                    0.4616756099666302,
                    0.4616756099666302,
                    0.4616756099666302,
                    0.4616756099666302,
                    0.4616756099666302,
                    0.4616756099666302,
                    0.4616756099666302,
                    0.4616756099666302,
                    0.4616756099666302,
                    0.4616756099666302,
                    0.4616756099666302,
                    0.4616756099666302,
                    0.4616756099666302,
                    0.4616756099666302,
                    0.4616756099666302,
                    0.4616756099666302,
                    0.4616756099666302,
                    0.4616756099666302,
                    0.4616756099666302,
                    0.4616756099666302,
                    0.4616756099666302,
                    0.4616756099666302,
                    0.4616756099666302,
                    0.4616756099666302,
                    0.4616756099666302,
                    0.4616756099666302,
                    0.4616756099666302,
                    0.4616756099666302,
                    0.4616756099666302,
                    0.4616756099666302,
                    0.4616756099666302,
                    0.4616756099666302,
                    0.4616756099666302,
                    0.4616756099666302,
                    0.4616756099666302,
                    0.4616756099666302
                  ]
                },
                {
                  "hoverinfo": "text",
                  "hovertext": [
                    "BA_Close <br>Volatility: 0.174 <br>Returns: 59.541% <br>Sharpe Ratio: 3.416",
                    "MCD_Close <br>Volatility: 0.136 <br>Returns: 37.497% <br>Sharpe Ratio: 2.748",
                    "T_Close <br>Volatility: 0.175 <br>Returns: -3.526% <br>Sharpe Ratio: -0.201",
                    "SO_Close <br>Volatility: 0.119 <br>Returns: -1.259% <br>Sharpe Ratio: -0.106",
                    "CPB_Close <br>Volatility: 0.240 <br>Returns: -23.666% <br>Sharpe Ratio: -0.984",
                    "UA_Close <br>Volatility: 0.464 <br>Returns: -42.368% <br>Sharpe Ratio: -0.913",
                    "CVX_Close <br>Volatility: 0.141 <br>Returns: 15.444% <br>Sharpe Ratio: 1.093",
                    "VZ_Close <br>Volatility: 0.169 <br>Returns: 11.300% <br>Sharpe Ratio: 0.668",
                    "AAPL_Close <br>Volatility: 0.176 <br>Returns: 25.044% <br>Sharpe Ratio: 1.423",
                    "RTX_Close <br>Volatility: 0.136 <br>Returns: 16.980% <br>Sharpe Ratio: 1.244",
                    "GOOG_Close <br>Volatility: 0.160 <br>Returns: 27.711% <br>Sharpe Ratio: 1.737",
                    "GOOGL_Close <br>Volatility: 0.157 <br>Returns: 25.766% <br>Sharpe Ratio: 1.638",
                    "CMCSA_Close <br>Volatility: 0.206 <br>Returns: 9.549% <br>Sharpe Ratio: 0.465",
                    "XOM_Close <br>Volatility: 0.104 <br>Returns: 3.880% <br>Sharpe Ratio: 0.374",
                    "BAC_Close <br>Volatility: 0.209 <br>Returns: 20.360% <br>Sharpe Ratio: 0.972",
                    "JPM_Close <br>Volatility: 0.156 <br>Returns: 19.920% <br>Sharpe Ratio: 1.276",
                    "ABT_Close <br>Volatility: 0.140 <br>Returns: 28.667% <br>Sharpe Ratio: 2.053",
                    "GE_Close <br>Volatility: 0.213 <br>Returns: -62.754% <br>Sharpe Ratio: -2.947",
                    "PG_Close <br>Volatility: 0.098 <br>Returns: 4.023% <br>Sharpe Ratio: 0.410",
                    "ETN_Close <br>Volatility: 0.155 <br>Returns: 13.763% <br>Sharpe Ratio: 0.886",
                    "ACN_Close <br>Volatility: 0.133 <br>Returns: 27.346% <br>Sharpe Ratio: 2.059",
                    "UNH_Close <br>Volatility: 0.141 <br>Returns: 34.904% <br>Sharpe Ratio: 2.475",
                    "BABA_Close <br>Volatility: 0.267 <br>Returns: 61.610% <br>Sharpe Ratio: 2.305",
                    "LMT_Close <br>Volatility: 0.110 <br>Returns: 24.360% <br>Sharpe Ratio: 2.206",
                    "COST_Close <br>Volatility: 0.199 <br>Returns: 11.207% <br>Sharpe Ratio: 0.564",
                    "SYY_Close <br>Volatility: 0.161 <br>Returns: 19.125% <br>Sharpe Ratio: 1.185",
                    "BMY_Close <br>Volatility: 0.180 <br>Returns: 11.411% <br>Sharpe Ratio: 0.633",
                    "RMD_Close <br>Volatility: 0.201 <br>Returns: 20.344% <br>Sharpe Ratio: 1.013",
                    "SNAP_Close <br>Volatility: 0.633 <br>Returns: -61.938% <br>Sharpe Ratio: -0.978",
                    "IBM_Close <br>Volatility: 0.158 <br>Returns: -15.905% <br>Sharpe Ratio: -1.009",
                    "DUK_Close <br>Volatility: 0.094 <br>Returns: 6.184% <br>Sharpe Ratio: 0.655",
                    "MMM_Close <br>Volatility: 0.131 <br>Returns: 27.772% <br>Sharpe Ratio: 2.118",
                    "NVDA_Close <br>Volatility: 0.394 <br>Returns: 80.734% <br>Sharpe Ratio: 2.051",
                    "CSCO_Close <br>Volatility: 0.164 <br>Returns: 16.111% <br>Sharpe Ratio: 0.982",
                    "EMR_Close <br>Volatility: 0.163 <br>Returns: 20.267% <br>Sharpe Ratio: 1.246",
                    "INTC_Close <br>Volatility: 0.176 <br>Returns: 32.628% <br>Sharpe Ratio: 1.858",
                    "REGN_Close <br>Volatility: 0.282 <br>Returns: 0.032% <br>Sharpe Ratio: 0.001",
                    "MA_Close <br>Volatility: 0.144 <br>Returns: 37.500% <br>Sharpe Ratio: 2.602",
                    "GIS_Close <br>Volatility: 0.174 <br>Returns: -0.030% <br>Sharpe Ratio: -0.002",
                    "GM_Close <br>Volatility: 0.189 <br>Returns: 14.706% <br>Sharpe Ratio: 0.777",
                    "LLY_Close <br>Volatility: 0.147 <br>Returns: 4.513% <br>Sharpe Ratio: 0.308",
                    "CRM_Close <br>Volatility: 0.156 <br>Returns: 25.484% <br>Sharpe Ratio: 1.634",
                    "BIIB_Close <br>Volatility: 0.228 <br>Returns: 9.799% <br>Sharpe Ratio: 0.430",
                    "KO_Close <br>Volatility: 0.086 <br>Returns: 13.237% <br>Sharpe Ratio: 1.533",
                    "WFC_Close <br>Volatility: 0.171 <br>Returns: 6.484% <br>Sharpe Ratio: 0.380",
                    "DIS_Close <br>Volatility: 0.158 <br>Returns: -1.539% <br>Sharpe Ratio: -0.097",
                    "AMZN_Close <br>Volatility: 0.212 <br>Returns: 38.442% <br>Sharpe Ratio: 1.813",
                    "EXC_Close <br>Volatility: 0.131 <br>Returns: 12.626% <br>Sharpe Ratio: 0.960",
                    "NEE_Close <br>Volatility: 0.112 <br>Returns: 23.547% <br>Sharpe Ratio: 2.101",
                    "PFE_Close <br>Volatility: 0.108 <br>Returns: 9.217% <br>Sharpe Ratio: 0.854",
                    "DHR_Close <br>Volatility: 0.128 <br>Returns: 9.067% <br>Sharpe Ratio: 0.706",
                    "GS_Close <br>Volatility: 0.196 <br>Returns: 2.945% <br>Sharpe Ratio: 0.150",
                    "NFLX_Close <br>Volatility: 0.287 <br>Returns: 38.281% <br>Sharpe Ratio: 1.334",
                    "F_Close <br>Volatility: 0.166 <br>Returns: 2.996% <br>Sharpe Ratio: 0.180",
                    "HON_Close <br>Volatility: 0.102 <br>Returns: 25.067% <br>Sharpe Ratio: 2.467",
                    "ZBH_Close <br>Volatility: 0.194 <br>Returns: 3.617% <br>Sharpe Ratio: 0.186",
                    "TXN_Close <br>Volatility: 0.161 <br>Returns: 37.142% <br>Sharpe Ratio: 2.300",
                    "SYK_Close <br>Volatility: 0.155 <br>Returns: 21.732% <br>Sharpe Ratio: 1.398",
                    "PYPL_Close <br>Volatility: 0.231 <br>Returns: 65.170% <br>Sharpe Ratio: 2.817",
                    "WMT_Close <br>Volatility: 0.182 <br>Returns: 43.058% <br>Sharpe Ratio: 2.372",
                    "SAP_Close <br>Volatility: 0.137 <br>Returns: 22.379% <br>Sharpe Ratio: 1.628",
                    "CAT_Close <br>Volatility: 0.197 <br>Returns: 64.107% <br>Sharpe Ratio: 3.250",
                    "KR_Close <br>Volatility: 0.363 <br>Returns: -11.512% <br>Sharpe Ratio: -0.317",
                    "EW_Close <br>Volatility: 0.232 <br>Returns: 22.603% <br>Sharpe Ratio: 0.973",
                    "MO_Close <br>Volatility: 0.178 <br>Returns: -2.746% <br>Sharpe Ratio: -0.154",
                    "AMGN_Close <br>Volatility: 0.168 <br>Returns: -0.355% <br>Sharpe Ratio: -0.021",
                    "SRE_Close <br>Volatility: 0.134 <br>Returns: 0.416% <br>Sharpe Ratio: 0.031",
                    "NKE_Close <br>Volatility: 0.226 <br>Returns: 10.695% <br>Sharpe Ratio: 0.474",
                    "MSFT_Close <br>Volatility: 0.152 <br>Returns: 36.718% <br>Sharpe Ratio: 2.419",
                    "JNJ_Close <br>Volatility: 0.114 <br>Returns: 16.968% <br>Sharpe Ratio: 1.485",
                    "ADBE_Close <br>Volatility: 0.228 <br>Returns: 45.540% <br>Sharpe Ratio: 1.999",
                    "HD_Close <br>Volatility: 0.135 <br>Returns: 32.454% <br>Sharpe Ratio: 2.404",
                    "K_Close <br>Volatility: 0.182 <br>Returns: -9.007% <br>Sharpe Ratio: -0.496",
                    "BSX_Close <br>Volatility: 0.170 <br>Returns: -1.012% <br>Sharpe Ratio: -0.059",
                    "AEP_Close <br>Volatility: 0.106 <br>Returns: 15.149% <br>Sharpe Ratio: 1.424",
                    "MDT_Close <br>Volatility: 0.152 <br>Returns: 0.821% <br>Sharpe Ratio: 0.054",
                    "ABBV_Close <br>Volatility: 0.179 <br>Returns: 54.051% <br>Sharpe Ratio: 3.026",
                    "QCOM_Close <br>Volatility: 0.239 <br>Returns: 18.777% <br>Sharpe Ratio: 0.786",
                    "DE_Close <br>Volatility: 0.179 <br>Returns: 45.118% <br>Sharpe Ratio: 2.527",
                    "MS_Close <br>Volatility: 0.196 <br>Returns: 16.831% <br>Sharpe Ratio: 0.858",
                    "GILD_Close <br>Volatility: 0.189 <br>Returns: 5.321% <br>Sharpe Ratio: 0.281",
                    "VRTX_Close <br>Volatility: 0.385 <br>Returns: 61.334% <br>Sharpe Ratio: 1.595",
                    "TSLA_Close <br>Volatility: 0.359 <br>Returns: 26.105% <br>Sharpe Ratio: 0.728",
                    "PM_Close <br>Volatility: 0.140 <br>Returns: -0.165% <br>Sharpe Ratio: -0.012",
                    "META_Close <br>Volatility: 0.173 <br>Returns: 30.584% <br>Sharpe Ratio: 1.771",
                    "V_Close <br>Volatility: 0.125 <br>Returns: 30.982% <br>Sharpe Ratio: 2.471",
                    "ORCL_Close <br>Volatility: 0.187 <br>Returns: 13.134% <br>Sharpe Ratio: 0.701",
                    "TMO_Close <br>Volatility: 0.163 <br>Returns: 21.553% <br>Sharpe Ratio: 1.323",
                    "RDY_Close <br>Volatility: 0.304 <br>Returns: -11.923% <br>Sharpe Ratio: -0.392",
                    "BTI_Close <br>Volatility: 0.191 <br>Returns: 11.154% <br>Sharpe Ratio: 0.584",
                    "MRK_Close <br>Volatility: 0.151 <br>Returns: -15.661% <br>Sharpe Ratio: -1.038",
                    "AMD_Close <br>Volatility: 0.583 <br>Returns: -36.203% <br>Sharpe Ratio: -0.621",
                    "PEP_Close <br>Volatility: 0.098 <br>Returns: 12.729% <br>Sharpe Ratio: 1.302",
                    "ISRG_Close <br>Volatility: 0.191 <br>Returns: 46.587% <br>Sharpe Ratio: 2.436"
                  ],
                  "marker": {
                    "color": "brown",
                    "line": {
                      "width": 1
                    },
                    "size": 5,
                    "symbol": "triangle-up"
                  },
                  "mode": "markers",
                  "name": "Individual Assets",
                  "type": "scatter",
                  "x": {
                    "bdata": "n8Wme5FPxj828F6poHfBP45q1nMBa8Y/M5vJYOBrvj8pzLX2AsfOP6mXWruhst0/NAVwKb4Wwj+NfcEsiarFPwKFCLBViMY/4aZ0gZd3wT8i+4mfsWrEP5jaDDn6IMQ/upcR1GRQyj/w5I6o1Za6P0grFIKBzMo/NtNtyur8wz/TL+zwt+DBP0zv4ds0Qss/z1cM2XAYuT+oXzmE1+LDP/skDzX/AME/Mh+685sMwj+/whzM9hvRPzIcArtLRrw/itzVGp1xyT/qZOviL6fEPwVc3Er1Fsc/1LEgSNKyyT9KaSCc0ELkP8r0SZBzK8Q/7xvYBWYruD9+9pQ/d8jAP1r2T1mPMtk/eDLMwPr9xD+TCxA9hdLEPw6Qv+LsecY/CXDYJIYS0j8XfFWi9nLCPw1tYg3TO8Y/8cxi/bU7yD8UbiGuWcnCPzlHFbz09cM/napnQMolzT91TDvmsRu2P92u5C6V1cU/spBZl/I8xD+YOtANKSLLP76BaveL08A/r+WS+n6yvD+vvBheyJ+7P/jkqSMOb8A/toJd8REfyT8F2lAV6FvSPzAY7dAgR8U/H4xt09EDuj9IDDmKXd3IP6ScEDAgq8Q/G6a7kujmwz/Mi/6xkp3NP/GFhj+HPMc/orkhc5KXwT8FFy4EFz/JP3+MEtioNdc/fqECT2e9zT9HJLT6y8XGP2K6C63ldcU/DLXGNAwfwT9gp9qyc+LMPwmMVPrfbMM/EWUNykhAvT/S+j5q7yjNP6GinNN2SME/XyBNc7I+xz/aX9SBWNLFP/XRTPa5PLs/PaUFX3hpwz9OqLMaLN3GPxLlhfBJkc4/czDZgfbaxj92UUxw/BzJP99KAJtjQMg/DkSFl3ad2D8hLBVFBvTWP3oZfs7m4cE/lxBQ+Xwaxj8J/viFLQ3AP719l4oh98c/YfSMmKDbxD/AbyqguXzTPwC+XyI8bcg/I0JI3kZSwz99ZuvUc6fiP/O1DqwcCLk/XnJoD/d5yD8=",
                    "dtype": "f8"
                  },
                  "y": {
                    "bdata": "E/DCAZQN4z/fY/4+gP/XPxAslqMpDaK/qqdknuLHib8xIO4U/0rOv8xF+lqJHdu/B50ivK7Ewz8tDgNiVu28P4ZrigI0B9A/k4+7PB28xT9RlXzXMrzRP652qfCIfdA/lFH8qzByuD+3RGrcMN2jP7USqTCYD8o/Wf2m+HN/yT9dhXt84VjSP2/EdMrIFOS/PNBDO36YpD/ExTw99J3BP31HM1drgNE/e60smbRW1j8b/DIUHrfjP+iXfT5WLs8/IUBpXu2wvD/f7Kkx1XrIP+YRJdEONr0/UZcKZi0Kyj9Wi/SZ9tHjv7bBlZ60W8S/f9uxjcaprz+N+/mZNsbRPx+9y8W+1ek/rOH77V+fxD+VNJNAP/HJP4LeILm24dQ/mUnnXmDsND9mdZ/P/f/XP802qGJisDO/UKeylufSwj8dgYiq2xunP1ZMJYBVT9A/bZuvS9kVuT+vMG+7YvHAP+zUvvUwmbA/XPMRlsCCj78ip3Q+ZJrYP0DMAKpLKcA/4Mjf0s4jzj9KGDySvJi3P2Db0sjrNbc/8M4v6+Mmnj8nCi328H/YP0MewVjKrp4/HP53jwYL0D+/SRqLF4WiP4PyvJJixdc/43FezyXRyz9EbdYlsdrkP+YaQ7axjts/NkoLbwilzD/0yJ+Vq4PkP/8DS2bEeL2/omGfxWzuzD9KvmTS7x6cv7ienI4+Fm2/4IYJ4ZMMcT+L6o0JK2G7P27MB+Hif9c/064XYTK4xT8kkzsWPiXdP06PIThMxdQ/EwuuyvgOt7+WLp8DH7uEv/xUNmT2Y8M/3KMd5dDNgD8EluEc1EvhP3OnD9PQCMg/5STStBzg3D+BFvSbJ4vFPzyrN9A8Pqs/Ce9CmXag4z9iVwFF+7TQP5pSdoz1/Vq/Vv6DreKS0z+QWMYHHdTTPyQs7wK7z8A/lLI9/mSWyz+vb792CYa+v7Gbkousjbw/+FbdL+YLxL9pAadVcCvXv8J6L9gbS8A/juejQ+DQ3T8=",
                    "dtype": "f8"
                  }
                }
              ],
              "layout": {
                "legend": {
                  "y": 5
                },
                "template": {
                  "data": {
                    "bar": [
                      {
                        "error_x": {
                          "color": "#2a3f5f"
                        },
                        "error_y": {
                          "color": "#2a3f5f"
                        },
                        "marker": {
                          "line": {
                            "color": "#E5ECF6",
                            "width": 0.5
                          },
                          "pattern": {
                            "fillmode": "overlay",
                            "size": 10,
                            "solidity": 0.2
                          }
                        },
                        "type": "bar"
                      }
                    ],
                    "barpolar": [
                      {
                        "marker": {
                          "line": {
                            "color": "#E5ECF6",
                            "width": 0.5
                          },
                          "pattern": {
                            "fillmode": "overlay",
                            "size": 10,
                            "solidity": 0.2
                          }
                        },
                        "type": "barpolar"
                      }
                    ],
                    "carpet": [
                      {
                        "aaxis": {
                          "endlinecolor": "#2a3f5f",
                          "gridcolor": "white",
                          "linecolor": "white",
                          "minorgridcolor": "white",
                          "startlinecolor": "#2a3f5f"
                        },
                        "baxis": {
                          "endlinecolor": "#2a3f5f",
                          "gridcolor": "white",
                          "linecolor": "white",
                          "minorgridcolor": "white",
                          "startlinecolor": "#2a3f5f"
                        },
                        "type": "carpet"
                      }
                    ],
                    "choropleth": [
                      {
                        "colorbar": {
                          "outlinewidth": 0,
                          "ticks": ""
                        },
                        "type": "choropleth"
                      }
                    ],
                    "contour": [
                      {
                        "colorbar": {
                          "outlinewidth": 0,
                          "ticks": ""
                        },
                        "colorscale": [
                          [
                            0,
                            "#0d0887"
                          ],
                          [
                            0.1111111111111111,
                            "#46039f"
                          ],
                          [
                            0.2222222222222222,
                            "#7201a8"
                          ],
                          [
                            0.3333333333333333,
                            "#9c179e"
                          ],
                          [
                            0.4444444444444444,
                            "#bd3786"
                          ],
                          [
                            0.5555555555555556,
                            "#d8576b"
                          ],
                          [
                            0.6666666666666666,
                            "#ed7953"
                          ],
                          [
                            0.7777777777777778,
                            "#fb9f3a"
                          ],
                          [
                            0.8888888888888888,
                            "#fdca26"
                          ],
                          [
                            1,
                            "#f0f921"
                          ]
                        ],
                        "type": "contour"
                      }
                    ],
                    "contourcarpet": [
                      {
                        "colorbar": {
                          "outlinewidth": 0,
                          "ticks": ""
                        },
                        "type": "contourcarpet"
                      }
                    ],
                    "heatmap": [
                      {
                        "colorbar": {
                          "outlinewidth": 0,
                          "ticks": ""
                        },
                        "colorscale": [
                          [
                            0,
                            "#0d0887"
                          ],
                          [
                            0.1111111111111111,
                            "#46039f"
                          ],
                          [
                            0.2222222222222222,
                            "#7201a8"
                          ],
                          [
                            0.3333333333333333,
                            "#9c179e"
                          ],
                          [
                            0.4444444444444444,
                            "#bd3786"
                          ],
                          [
                            0.5555555555555556,
                            "#d8576b"
                          ],
                          [
                            0.6666666666666666,
                            "#ed7953"
                          ],
                          [
                            0.7777777777777778,
                            "#fb9f3a"
                          ],
                          [
                            0.8888888888888888,
                            "#fdca26"
                          ],
                          [
                            1,
                            "#f0f921"
                          ]
                        ],
                        "type": "heatmap"
                      }
                    ],
                    "histogram": [
                      {
                        "marker": {
                          "pattern": {
                            "fillmode": "overlay",
                            "size": 10,
                            "solidity": 0.2
                          }
                        },
                        "type": "histogram"
                      }
                    ],
                    "histogram2d": [
                      {
                        "colorbar": {
                          "outlinewidth": 0,
                          "ticks": ""
                        },
                        "colorscale": [
                          [
                            0,
                            "#0d0887"
                          ],
                          [
                            0.1111111111111111,
                            "#46039f"
                          ],
                          [
                            0.2222222222222222,
                            "#7201a8"
                          ],
                          [
                            0.3333333333333333,
                            "#9c179e"
                          ],
                          [
                            0.4444444444444444,
                            "#bd3786"
                          ],
                          [
                            0.5555555555555556,
                            "#d8576b"
                          ],
                          [
                            0.6666666666666666,
                            "#ed7953"
                          ],
                          [
                            0.7777777777777778,
                            "#fb9f3a"
                          ],
                          [
                            0.8888888888888888,
                            "#fdca26"
                          ],
                          [
                            1,
                            "#f0f921"
                          ]
                        ],
                        "type": "histogram2d"
                      }
                    ],
                    "histogram2dcontour": [
                      {
                        "colorbar": {
                          "outlinewidth": 0,
                          "ticks": ""
                        },
                        "colorscale": [
                          [
                            0,
                            "#0d0887"
                          ],
                          [
                            0.1111111111111111,
                            "#46039f"
                          ],
                          [
                            0.2222222222222222,
                            "#7201a8"
                          ],
                          [
                            0.3333333333333333,
                            "#9c179e"
                          ],
                          [
                            0.4444444444444444,
                            "#bd3786"
                          ],
                          [
                            0.5555555555555556,
                            "#d8576b"
                          ],
                          [
                            0.6666666666666666,
                            "#ed7953"
                          ],
                          [
                            0.7777777777777778,
                            "#fb9f3a"
                          ],
                          [
                            0.8888888888888888,
                            "#fdca26"
                          ],
                          [
                            1,
                            "#f0f921"
                          ]
                        ],
                        "type": "histogram2dcontour"
                      }
                    ],
                    "mesh3d": [
                      {
                        "colorbar": {
                          "outlinewidth": 0,
                          "ticks": ""
                        },
                        "type": "mesh3d"
                      }
                    ],
                    "parcoords": [
                      {
                        "line": {
                          "colorbar": {
                            "outlinewidth": 0,
                            "ticks": ""
                          }
                        },
                        "type": "parcoords"
                      }
                    ],
                    "pie": [
                      {
                        "automargin": true,
                        "type": "pie"
                      }
                    ],
                    "scatter": [
                      {
                        "fillpattern": {
                          "fillmode": "overlay",
                          "size": 10,
                          "solidity": 0.2
                        },
                        "type": "scatter"
                      }
                    ],
                    "scatter3d": [
                      {
                        "line": {
                          "colorbar": {
                            "outlinewidth": 0,
                            "ticks": ""
                          }
                        },
                        "marker": {
                          "colorbar": {
                            "outlinewidth": 0,
                            "ticks": ""
                          }
                        },
                        "type": "scatter3d"
                      }
                    ],
                    "scattercarpet": [
                      {
                        "marker": {
                          "colorbar": {
                            "outlinewidth": 0,
                            "ticks": ""
                          }
                        },
                        "type": "scattercarpet"
                      }
                    ],
                    "scattergeo": [
                      {
                        "marker": {
                          "colorbar": {
                            "outlinewidth": 0,
                            "ticks": ""
                          }
                        },
                        "type": "scattergeo"
                      }
                    ],
                    "scattergl": [
                      {
                        "marker": {
                          "colorbar": {
                            "outlinewidth": 0,
                            "ticks": ""
                          }
                        },
                        "type": "scattergl"
                      }
                    ],
                    "scattermap": [
                      {
                        "marker": {
                          "colorbar": {
                            "outlinewidth": 0,
                            "ticks": ""
                          }
                        },
                        "type": "scattermap"
                      }
                    ],
                    "scattermapbox": [
                      {
                        "marker": {
                          "colorbar": {
                            "outlinewidth": 0,
                            "ticks": ""
                          }
                        },
                        "type": "scattermapbox"
                      }
                    ],
                    "scatterpolar": [
                      {
                        "marker": {
                          "colorbar": {
                            "outlinewidth": 0,
                            "ticks": ""
                          }
                        },
                        "type": "scatterpolar"
                      }
                    ],
                    "scatterpolargl": [
                      {
                        "marker": {
                          "colorbar": {
                            "outlinewidth": 0,
                            "ticks": ""
                          }
                        },
                        "type": "scatterpolargl"
                      }
                    ],
                    "scatterternary": [
                      {
                        "marker": {
                          "colorbar": {
                            "outlinewidth": 0,
                            "ticks": ""
                          }
                        },
                        "type": "scatterternary"
                      }
                    ],
                    "surface": [
                      {
                        "colorbar": {
                          "outlinewidth": 0,
                          "ticks": ""
                        },
                        "colorscale": [
                          [
                            0,
                            "#0d0887"
                          ],
                          [
                            0.1111111111111111,
                            "#46039f"
                          ],
                          [
                            0.2222222222222222,
                            "#7201a8"
                          ],
                          [
                            0.3333333333333333,
                            "#9c179e"
                          ],
                          [
                            0.4444444444444444,
                            "#bd3786"
                          ],
                          [
                            0.5555555555555556,
                            "#d8576b"
                          ],
                          [
                            0.6666666666666666,
                            "#ed7953"
                          ],
                          [
                            0.7777777777777778,
                            "#fb9f3a"
                          ],
                          [
                            0.8888888888888888,
                            "#fdca26"
                          ],
                          [
                            1,
                            "#f0f921"
                          ]
                        ],
                        "type": "surface"
                      }
                    ],
                    "table": [
                      {
                        "cells": {
                          "fill": {
                            "color": "#EBF0F8"
                          },
                          "line": {
                            "color": "white"
                          }
                        },
                        "header": {
                          "fill": {
                            "color": "#C8D4E3"
                          },
                          "line": {
                            "color": "white"
                          }
                        },
                        "type": "table"
                      }
                    ]
                  },
                  "layout": {
                    "annotationdefaults": {
                      "arrowcolor": "#2a3f5f",
                      "arrowhead": 0,
                      "arrowwidth": 1
                    },
                    "autotypenumbers": "strict",
                    "coloraxis": {
                      "colorbar": {
                        "outlinewidth": 0,
                        "ticks": ""
                      }
                    },
                    "colorscale": {
                      "diverging": [
                        [
                          0,
                          "#8e0152"
                        ],
                        [
                          0.1,
                          "#c51b7d"
                        ],
                        [
                          0.2,
                          "#de77ae"
                        ],
                        [
                          0.3,
                          "#f1b6da"
                        ],
                        [
                          0.4,
                          "#fde0ef"
                        ],
                        [
                          0.5,
                          "#f7f7f7"
                        ],
                        [
                          0.6,
                          "#e6f5d0"
                        ],
                        [
                          0.7,
                          "#b8e186"
                        ],
                        [
                          0.8,
                          "#7fbc41"
                        ],
                        [
                          0.9,
                          "#4d9221"
                        ],
                        [
                          1,
                          "#276419"
                        ]
                      ],
                      "sequential": [
                        [
                          0,
                          "#0d0887"
                        ],
                        [
                          0.1111111111111111,
                          "#46039f"
                        ],
                        [
                          0.2222222222222222,
                          "#7201a8"
                        ],
                        [
                          0.3333333333333333,
                          "#9c179e"
                        ],
                        [
                          0.4444444444444444,
                          "#bd3786"
                        ],
                        [
                          0.5555555555555556,
                          "#d8576b"
                        ],
                        [
                          0.6666666666666666,
                          "#ed7953"
                        ],
                        [
                          0.7777777777777778,
                          "#fb9f3a"
                        ],
                        [
                          0.8888888888888888,
                          "#fdca26"
                        ],
                        [
                          1,
                          "#f0f921"
                        ]
                      ],
                      "sequentialminus": [
                        [
                          0,
                          "#0d0887"
                        ],
                        [
                          0.1111111111111111,
                          "#46039f"
                        ],
                        [
                          0.2222222222222222,
                          "#7201a8"
                        ],
                        [
                          0.3333333333333333,
                          "#9c179e"
                        ],
                        [
                          0.4444444444444444,
                          "#bd3786"
                        ],
                        [
                          0.5555555555555556,
                          "#d8576b"
                        ],
                        [
                          0.6666666666666666,
                          "#ed7953"
                        ],
                        [
                          0.7777777777777778,
                          "#fb9f3a"
                        ],
                        [
                          0.8888888888888888,
                          "#fdca26"
                        ],
                        [
                          1,
                          "#f0f921"
                        ]
                      ]
                    },
                    "colorway": [
                      "#636efa",
                      "#EF553B",
                      "#00cc96",
                      "#ab63fa",
                      "#FFA15A",
                      "#19d3f3",
                      "#FF6692",
                      "#B6E880",
                      "#FF97FF",
                      "#FECB52"
                    ],
                    "font": {
                      "color": "#2a3f5f"
                    },
                    "geo": {
                      "bgcolor": "white",
                      "lakecolor": "white",
                      "landcolor": "#E5ECF6",
                      "showlakes": true,
                      "showland": true,
                      "subunitcolor": "white"
                    },
                    "hoverlabel": {
                      "align": "left"
                    },
                    "hovermode": "closest",
                    "mapbox": {
                      "style": "light"
                    },
                    "paper_bgcolor": "white",
                    "plot_bgcolor": "#E5ECF6",
                    "polar": {
                      "angularaxis": {
                        "gridcolor": "white",
                        "linecolor": "white",
                        "ticks": ""
                      },
                      "bgcolor": "#E5ECF6",
                      "radialaxis": {
                        "gridcolor": "white",
                        "linecolor": "white",
                        "ticks": ""
                      }
                    },
                    "scene": {
                      "xaxis": {
                        "backgroundcolor": "#E5ECF6",
                        "gridcolor": "white",
                        "gridwidth": 2,
                        "linecolor": "white",
                        "showbackground": true,
                        "ticks": "",
                        "zerolinecolor": "white"
                      },
                      "yaxis": {
                        "backgroundcolor": "#E5ECF6",
                        "gridcolor": "white",
                        "gridwidth": 2,
                        "linecolor": "white",
                        "showbackground": true,
                        "ticks": "",
                        "zerolinecolor": "white"
                      },
                      "zaxis": {
                        "backgroundcolor": "#E5ECF6",
                        "gridcolor": "white",
                        "gridwidth": 2,
                        "linecolor": "white",
                        "showbackground": true,
                        "ticks": "",
                        "zerolinecolor": "white"
                      }
                    },
                    "shapedefaults": {
                      "line": {
                        "color": "#2a3f5f"
                      }
                    },
                    "ternary": {
                      "aaxis": {
                        "gridcolor": "white",
                        "linecolor": "white",
                        "ticks": ""
                      },
                      "baxis": {
                        "gridcolor": "white",
                        "linecolor": "white",
                        "ticks": ""
                      },
                      "bgcolor": "#E5ECF6",
                      "caxis": {
                        "gridcolor": "white",
                        "linecolor": "white",
                        "ticks": ""
                      }
                    },
                    "title": {
                      "x": 0.05
                    },
                    "xaxis": {
                      "automargin": true,
                      "gridcolor": "white",
                      "linecolor": "white",
                      "ticks": "",
                      "title": {
                        "standoff": 15
                      },
                      "zerolinecolor": "white",
                      "zerolinewidth": 2
                    },
                    "yaxis": {
                      "automargin": true,
                      "gridcolor": "white",
                      "linecolor": "white",
                      "ticks": "",
                      "title": {
                        "standoff": 15
                      },
                      "zerolinecolor": "white",
                      "zerolinewidth": 2
                    }
                  }
                },
                "title": {
                  "text": "Sample of Random Portfolios"
                },
                "xaxis": {
                  "title": {
                    "text": "Volatility (Standard Deviation)"
                  }
                },
                "yaxis": {
                  "title": {
                    "text": "Annualized Return"
                  }
                }
              }
            }
          },
          "metadata": {},
          "output_type": "display_data"
        }
      ],
      "source": [
        "fig = go.Figure()\n",
        "\n",
        "fig.add_trace(go.Scatter(\n",
        "    x=[p[\"variance\"]**0.5 for p in total_portfolios],  # Convert variance to volatility\n",
        "    y=[p[\"return\"] for p in total_portfolios],\n",
        "    mode='markers',\n",
        "    marker=dict(\n",
        "        color=[p[\"sharpe\"] for p in total_portfolios],  # Sharpe Ratio\n",
        "        showscale=True,\n",
        "        size=7,\n",
        "        line=dict(width=1),\n",
        "        colorscale=\"RdBu\",\n",
        "        colorbar=dict(title=\"Sharpe<br>Ratio\")\n",
        "    ),\n",
        "    hoverinfo='text',\n",
        "    text=[\n",
        "        f\"Return: {p['return']:.3%}<br>Volatility: {p['variance']**0.5:.3f}<br>\" +\n",
        "        f\"Sharpe Ratio: {p['return'] / (p['variance']**0.5):.3f}<br>\" +\n",
        "        \"<br>\".join([f\"{p['tickers'][i]}: Weight={p['weights'][i]:.3f}\" for i in range(len(p['tickers']))])\n",
        "        for p in total_portfolios\n",
        "    ],\n",
        "    name=\"Portfolios\"\n",
        "))\n",
        "\n",
        "fig.add_trace(go.Scatter(\n",
        "    x=volatility,\n",
        "    y=annualized_returns,\n",
        "    mode='markers',\n",
        "    hoverinfo='text',\n",
        "    hovertext=[\n",
        "        f\"{name} <br>Volatility: {vol:.3f} <br>Returns: {ret:.3%} <br>Sharpe Ratio: {sr:.3f}\"\n",
        "        for name, vol, ret, sr in zip(names, volatility, annualized_returns, sharpe_ratios)\n",
        "    ],\n",
        "    marker=dict(\n",
        "        color='brown',\n",
        "        size=5,\n",
        "        symbol='triangle-up',  # Sets the marker shape to a triangle\n",
        "        line=dict(width=1)\n",
        "    ),\n",
        "    name=\"Individual Assets\"\n",
        "))\n",
        "\n",
        "fig.update_layout(\n",
        "    title='Sample of Random Portfolios',\n",
        "    xaxis_title='Volatility (Standard Deviation)',\n",
        "    yaxis_title='Annualized Return',\n",
        "    legend=dict(y=5\n",
        "    )\n",
        ")\n",
        "\n",
        "\n",
        "fig.show()"
      ]
    },
    {
      "cell_type": "code",
      "execution_count": 226,
      "metadata": {
        "id": "fcrLEvL3abDW",
        "outputId": "34ac5990-952c-469b-db42-e170795a403f"
      },
      "outputs": [
        {
          "data": {
            "application/vnd.plotly.v1+json": {
              "config": {
                "plotlyServerURL": "https://plot.ly"
              },
              "data": [
                {
                  "mode": "lines+markers",
                  "type": "scatter",
                  "x": [
                    0,
                    1,
                    2,
                    3,
                    4,
                    5,
                    6,
                    7,
                    8,
                    9,
                    10,
                    11,
                    12,
                    13,
                    14,
                    15,
                    16,
                    17,
                    18,
                    19,
                    20,
                    21,
                    22,
                    23,
                    24,
                    25,
                    26,
                    27,
                    28,
                    29,
                    30,
                    31,
                    32,
                    33,
                    34,
                    35,
                    36,
                    37,
                    38,
                    39,
                    40,
                    41,
                    42,
                    43,
                    44,
                    45,
                    46,
                    47,
                    48,
                    49,
                    50,
                    51,
                    52,
                    53,
                    54,
                    55,
                    56,
                    57,
                    58,
                    59,
                    60,
                    61,
                    62,
                    63,
                    64,
                    65,
                    66,
                    67,
                    68,
                    69,
                    70,
                    71,
                    72,
                    73,
                    74,
                    75,
                    76,
                    77,
                    78,
                    79,
                    80,
                    81,
                    82,
                    83,
                    84,
                    85,
                    86,
                    87,
                    88,
                    89,
                    90,
                    91,
                    92,
                    93,
                    94,
                    95,
                    96,
                    97,
                    98,
                    99,
                    100,
                    101,
                    102,
                    103,
                    104,
                    105,
                    106,
                    107,
                    108,
                    109,
                    110,
                    111,
                    112,
                    113,
                    114,
                    115,
                    116,
                    117,
                    118,
                    119,
                    120,
                    121,
                    122,
                    123,
                    124,
                    125,
                    126,
                    127,
                    128,
                    129,
                    130,
                    131,
                    132,
                    133,
                    134,
                    135,
                    136,
                    137,
                    138,
                    139,
                    140,
                    141,
                    142,
                    143,
                    144,
                    145,
                    146,
                    147,
                    148,
                    149,
                    150,
                    151,
                    152,
                    153,
                    154,
                    155,
                    156,
                    157,
                    158,
                    159,
                    160,
                    161,
                    162,
                    163,
                    164,
                    165,
                    166,
                    167,
                    168,
                    169,
                    170,
                    171,
                    172,
                    173,
                    174,
                    175,
                    176,
                    177,
                    178,
                    179,
                    180,
                    181,
                    182,
                    183,
                    184,
                    185,
                    186,
                    187,
                    188,
                    189,
                    190,
                    191,
                    192,
                    193,
                    194,
                    195,
                    196,
                    197,
                    198,
                    199,
                    200,
                    201,
                    202,
                    203,
                    204,
                    205,
                    206,
                    207,
                    208,
                    209,
                    210,
                    211,
                    212,
                    213,
                    214,
                    215,
                    216,
                    217,
                    218,
                    219,
                    220,
                    221,
                    222,
                    223,
                    224,
                    225,
                    226,
                    227,
                    228,
                    229,
                    230,
                    231,
                    232,
                    233,
                    234,
                    235,
                    236,
                    237,
                    238,
                    239,
                    240,
                    241,
                    242,
                    243,
                    244,
                    245,
                    246,
                    247,
                    248,
                    249,
                    250,
                    251,
                    252,
                    253,
                    254,
                    255,
                    256,
                    257,
                    258,
                    259,
                    260,
                    261,
                    262,
                    263,
                    264,
                    265,
                    266,
                    267,
                    268,
                    269,
                    270,
                    271,
                    272,
                    273,
                    274,
                    275,
                    276,
                    277,
                    278,
                    279,
                    280,
                    281,
                    282,
                    283,
                    284,
                    285,
                    286,
                    287,
                    288,
                    289,
                    290,
                    291,
                    292,
                    293,
                    294,
                    295,
                    296,
                    297,
                    298,
                    299,
                    300
                  ],
                  "y": [
                    4.3651206088251815,
                    4.592267902641675,
                    4.77749761996699,
                    4.875982062277604,
                    4.875982062277615,
                    4.875982062277615,
                    4.914709855600594,
                    4.958263940094392,
                    4.958263940094392,
                    4.973790765715882,
                    4.924895246826798,
                    4.973790765716132,
                    4.924895246826798,
                    4.973790765716132,
                    4.905633107691577,
                    4.927702613951079,
                    4.905633309697941,
                    4.909199112963667,
                    4.905633272512587,
                    4.905633371791838,
                    5.040720239964816,
                    5.009013867999503,
                    5.033215665884,
                    5.040720239960479,
                    4.97910765107163,
                    4.9770290363674095,
                    4.977028990451905,
                    4.977087637712223,
                    4.977028962839851,
                    4.977029083343266,
                    5.033836069867274,
                    4.97702875158346,
                    4.997738236172465,
                    4.996892020976269,
                    4.978019406958966,
                    5.534477107364291,
                    5.566119139759915,
                    5.566119139759915,
                    5.536999378512864,
                    5.53447710736315,
                    5.57109384566105,
                    5.566119139759915,
                    5.536999378512864,
                    5.53447710736315,
                    5.57109384566105,
                    5.5259037890120455,
                    5.525518009877099,
                    5.525517959122366,
                    5.525518281416772,
                    5.525518255861129,
                    5.546268595692024,
                    5.52551803522942,
                    5.525759418025992,
                    5.526251837340249,
                    5.525518284577409,
                    5.5255182625142725,
                    5.525518235941091,
                    5.525518281777276,
                    5.525518263745431,
                    5.528695947790386,
                    5.574836250884021,
                    5.537552528835129,
                    5.4763738393037835,
                    5.523146476370726,
                    5.552728269019549,
                    5.451490284852482,
                    5.451490237398949,
                    5.4710743243697655,
                    5.492014763070939,
                    5.451490203498317,
                    5.453783991394321,
                    5.5748362508829565,
                    5.456040534331624,
                    5.457607774182895,
                    5.4514900776486215,
                    5.451490272833936,
                    5.4694456831834515,
                    5.457752415578864,
                    5.451490282317097,
                    5.4514902768474265,
                    5.458684815928023,
                    5.4514902821056594,
                    5.45149026688144,
                    5.451502116639837,
                    5.451490221095899,
                    5.451490099503144,
                    5.451490251312554,
                    5.451490278755906,
                    5.759919151052957,
                    5.681979149322085,
                    5.592328132792167,
                    5.604753984293102,
                    5.759919151053737,
                    5.681979149322085,
                    5.592328132792167,
                    5.604753984293102,
                    5.759919151053737,
                    5.7019535868585205,
                    5.618492684979458,
                    5.569858425841695,
                    5.572767389251641,
                    5.573930737548029,
                    5.627753610124219,
                    5.56986204078933,
                    5.692058668188652,
                    5.5698586276256865,
                    5.579121292940632,
                    5.569858667814943,
                    5.577697665753376,
                    5.5698583787116345,
                    5.6022516814102294,
                    5.623563445521697,
                    5.569858617888247,
                    5.58251041787532,
                    5.569914458988995,
                    5.56985852018193,
                    5.5717677508452566,
                    5.569858506421502,
                    5.569858660351718,
                    5.56985860818215,
                    5.569858614118202,
                    5.572565445732062,
                    5.569858619481601,
                    5.569858660476607,
                    5.56985860555261,
                    5.569858428682546,
                    5.650534167631196,
                    5.651444219317618,
                    5.569858429304628,
                    5.575696431873538,
                    5.575346701786856,
                    5.578935930623235,
                    5.570518201335193,
                    5.569858659531002,
                    5.586346367183513,
                    5.5698586171853295,
                    5.569858631992988,
                    5.724455412105942,
                    5.569858639715901,
                    5.571590443132238,
                    5.5701305336269975,
                    5.569858556881503,
                    5.569858620375908,
                    5.569858347055966,
                    5.569858654300164,
                    5.569858636053767,
                    5.577815572461133,
                    5.569858665912582,
                    5.569858417333572,
                    5.569858664368728,
                    5.569858657052606,
                    5.569858656413249,
                    5.569858658284785,
                    5.569858647767479,
                    5.569858332387774,
                    5.569858418788694,
                    5.569858659167263,
                    5.569858661351439,
                    5.569858670047561,
                    5.569858592651752,
                    5.569858365804254,
                    5.569858640917918,
                    5.575702630387122,
                    5.569858314569948,
                    5.56985865298983,
                    5.582796169534955,
                    5.588931584389036,
                    5.569858545275599,
                    5.569858626852609,
                    5.56985857989143,
                    5.569858647264408,
                    5.569858661692425,
                    5.56985865600176,
                    5.56985861474782,
                    5.569858663569519,
                    5.576377579169701,
                    5.5698585818464945,
                    5.569858651824096,
                    5.56985862116569,
                    5.569858608613523,
                    5.681979149322085,
                    5.681979149322085,
                    5.681979149322085,
                    5.681979149322085,
                    5.681979149322085,
                    5.681979149322085,
                    5.681979149322085,
                    5.681979149322085,
                    5.681979149322085,
                    5.681979149322085,
                    5.681979149322085,
                    5.681979149322085,
                    5.681979149322085,
                    5.681979149322085,
                    5.681979149322085,
                    5.681979149322085,
                    5.681979149322085,
                    5.681979149322085,
                    5.681979149322085,
                    5.681979149322085,
                    5.681979149322085,
                    5.681979149322085,
                    5.681979149322085,
                    5.681979149322085,
                    5.681979149322085,
                    5.681979149322085,
                    5.681979149322085,
                    5.681979149322085,
                    5.681979149322085,
                    5.681979149322085,
                    5.681979149322085,
                    5.681979149322085,
                    5.681979149322085,
                    5.681979149322085,
                    5.681979149322085,
                    5.681979149322085,
                    5.681979149322085,
                    5.681979149322085,
                    5.681979149322085,
                    5.681979149322085,
                    5.681979149322085,
                    5.681979149322085,
                    5.681979149322085,
                    5.681979149322085,
                    5.681979149322085,
                    5.681979149322085,
                    5.681979149322085,
                    5.681979149322085,
                    5.681979149322085,
                    5.681979149322085,
                    5.681979149322085,
                    5.681979149322085,
                    5.681979149322085,
                    5.681979149322085,
                    5.681979149322085,
                    5.681979149322085,
                    5.681979149322085,
                    5.681979149322085,
                    5.681979149322085,
                    5.681979149322085,
                    5.681979149322085,
                    5.681979149322085,
                    5.681979149322085,
                    5.681979149322085,
                    5.681979149322085,
                    5.681979149322085,
                    5.681979149322085,
                    5.681979149322085,
                    5.681979149322085,
                    5.681979149322085,
                    5.681979149322085,
                    5.681979149322085,
                    5.681979149322085,
                    5.681979149322085,
                    5.681979149322085,
                    5.681979149322085,
                    5.681979149322085,
                    5.681979149322085,
                    5.681979149322085,
                    5.681979149322085,
                    5.681979149322085,
                    5.681979149322085,
                    5.681979149322085,
                    5.681979149322085,
                    5.681979149322085,
                    5.681979149322085,
                    5.681979149322085,
                    5.681979149322085,
                    5.681979149322085,
                    5.681979149322085,
                    5.681979149322085,
                    5.681979149322085,
                    5.681979149322085,
                    5.681979149322085,
                    5.681979149322085,
                    5.681979149322085,
                    5.681979149322085,
                    5.681979149322085,
                    5.681979149322085,
                    5.681979149322085,
                    5.681979149322085,
                    5.681979149322085,
                    5.681979149322085,
                    5.681979149322085,
                    5.681979149322085,
                    5.681979149322085,
                    5.681979149322085,
                    5.681979149322085,
                    5.681979149322085,
                    5.681979149322085,
                    5.681979149322085,
                    5.681979149322085,
                    5.681979149322085,
                    5.681979149322085,
                    5.681979149322085,
                    5.681979149322085,
                    5.681979149322085,
                    5.681979149322085,
                    5.681979149322085,
                    5.681979149322085,
                    5.681979149322085
                  ]
                }
              ],
              "layout": {
                "template": {
                  "data": {
                    "bar": [
                      {
                        "error_x": {
                          "color": "#2a3f5f"
                        },
                        "error_y": {
                          "color": "#2a3f5f"
                        },
                        "marker": {
                          "line": {
                            "color": "#E5ECF6",
                            "width": 0.5
                          },
                          "pattern": {
                            "fillmode": "overlay",
                            "size": 10,
                            "solidity": 0.2
                          }
                        },
                        "type": "bar"
                      }
                    ],
                    "barpolar": [
                      {
                        "marker": {
                          "line": {
                            "color": "#E5ECF6",
                            "width": 0.5
                          },
                          "pattern": {
                            "fillmode": "overlay",
                            "size": 10,
                            "solidity": 0.2
                          }
                        },
                        "type": "barpolar"
                      }
                    ],
                    "carpet": [
                      {
                        "aaxis": {
                          "endlinecolor": "#2a3f5f",
                          "gridcolor": "white",
                          "linecolor": "white",
                          "minorgridcolor": "white",
                          "startlinecolor": "#2a3f5f"
                        },
                        "baxis": {
                          "endlinecolor": "#2a3f5f",
                          "gridcolor": "white",
                          "linecolor": "white",
                          "minorgridcolor": "white",
                          "startlinecolor": "#2a3f5f"
                        },
                        "type": "carpet"
                      }
                    ],
                    "choropleth": [
                      {
                        "colorbar": {
                          "outlinewidth": 0,
                          "ticks": ""
                        },
                        "type": "choropleth"
                      }
                    ],
                    "contour": [
                      {
                        "colorbar": {
                          "outlinewidth": 0,
                          "ticks": ""
                        },
                        "colorscale": [
                          [
                            0,
                            "#0d0887"
                          ],
                          [
                            0.1111111111111111,
                            "#46039f"
                          ],
                          [
                            0.2222222222222222,
                            "#7201a8"
                          ],
                          [
                            0.3333333333333333,
                            "#9c179e"
                          ],
                          [
                            0.4444444444444444,
                            "#bd3786"
                          ],
                          [
                            0.5555555555555556,
                            "#d8576b"
                          ],
                          [
                            0.6666666666666666,
                            "#ed7953"
                          ],
                          [
                            0.7777777777777778,
                            "#fb9f3a"
                          ],
                          [
                            0.8888888888888888,
                            "#fdca26"
                          ],
                          [
                            1,
                            "#f0f921"
                          ]
                        ],
                        "type": "contour"
                      }
                    ],
                    "contourcarpet": [
                      {
                        "colorbar": {
                          "outlinewidth": 0,
                          "ticks": ""
                        },
                        "type": "contourcarpet"
                      }
                    ],
                    "heatmap": [
                      {
                        "colorbar": {
                          "outlinewidth": 0,
                          "ticks": ""
                        },
                        "colorscale": [
                          [
                            0,
                            "#0d0887"
                          ],
                          [
                            0.1111111111111111,
                            "#46039f"
                          ],
                          [
                            0.2222222222222222,
                            "#7201a8"
                          ],
                          [
                            0.3333333333333333,
                            "#9c179e"
                          ],
                          [
                            0.4444444444444444,
                            "#bd3786"
                          ],
                          [
                            0.5555555555555556,
                            "#d8576b"
                          ],
                          [
                            0.6666666666666666,
                            "#ed7953"
                          ],
                          [
                            0.7777777777777778,
                            "#fb9f3a"
                          ],
                          [
                            0.8888888888888888,
                            "#fdca26"
                          ],
                          [
                            1,
                            "#f0f921"
                          ]
                        ],
                        "type": "heatmap"
                      }
                    ],
                    "histogram": [
                      {
                        "marker": {
                          "pattern": {
                            "fillmode": "overlay",
                            "size": 10,
                            "solidity": 0.2
                          }
                        },
                        "type": "histogram"
                      }
                    ],
                    "histogram2d": [
                      {
                        "colorbar": {
                          "outlinewidth": 0,
                          "ticks": ""
                        },
                        "colorscale": [
                          [
                            0,
                            "#0d0887"
                          ],
                          [
                            0.1111111111111111,
                            "#46039f"
                          ],
                          [
                            0.2222222222222222,
                            "#7201a8"
                          ],
                          [
                            0.3333333333333333,
                            "#9c179e"
                          ],
                          [
                            0.4444444444444444,
                            "#bd3786"
                          ],
                          [
                            0.5555555555555556,
                            "#d8576b"
                          ],
                          [
                            0.6666666666666666,
                            "#ed7953"
                          ],
                          [
                            0.7777777777777778,
                            "#fb9f3a"
                          ],
                          [
                            0.8888888888888888,
                            "#fdca26"
                          ],
                          [
                            1,
                            "#f0f921"
                          ]
                        ],
                        "type": "histogram2d"
                      }
                    ],
                    "histogram2dcontour": [
                      {
                        "colorbar": {
                          "outlinewidth": 0,
                          "ticks": ""
                        },
                        "colorscale": [
                          [
                            0,
                            "#0d0887"
                          ],
                          [
                            0.1111111111111111,
                            "#46039f"
                          ],
                          [
                            0.2222222222222222,
                            "#7201a8"
                          ],
                          [
                            0.3333333333333333,
                            "#9c179e"
                          ],
                          [
                            0.4444444444444444,
                            "#bd3786"
                          ],
                          [
                            0.5555555555555556,
                            "#d8576b"
                          ],
                          [
                            0.6666666666666666,
                            "#ed7953"
                          ],
                          [
                            0.7777777777777778,
                            "#fb9f3a"
                          ],
                          [
                            0.8888888888888888,
                            "#fdca26"
                          ],
                          [
                            1,
                            "#f0f921"
                          ]
                        ],
                        "type": "histogram2dcontour"
                      }
                    ],
                    "mesh3d": [
                      {
                        "colorbar": {
                          "outlinewidth": 0,
                          "ticks": ""
                        },
                        "type": "mesh3d"
                      }
                    ],
                    "parcoords": [
                      {
                        "line": {
                          "colorbar": {
                            "outlinewidth": 0,
                            "ticks": ""
                          }
                        },
                        "type": "parcoords"
                      }
                    ],
                    "pie": [
                      {
                        "automargin": true,
                        "type": "pie"
                      }
                    ],
                    "scatter": [
                      {
                        "fillpattern": {
                          "fillmode": "overlay",
                          "size": 10,
                          "solidity": 0.2
                        },
                        "type": "scatter"
                      }
                    ],
                    "scatter3d": [
                      {
                        "line": {
                          "colorbar": {
                            "outlinewidth": 0,
                            "ticks": ""
                          }
                        },
                        "marker": {
                          "colorbar": {
                            "outlinewidth": 0,
                            "ticks": ""
                          }
                        },
                        "type": "scatter3d"
                      }
                    ],
                    "scattercarpet": [
                      {
                        "marker": {
                          "colorbar": {
                            "outlinewidth": 0,
                            "ticks": ""
                          }
                        },
                        "type": "scattercarpet"
                      }
                    ],
                    "scattergeo": [
                      {
                        "marker": {
                          "colorbar": {
                            "outlinewidth": 0,
                            "ticks": ""
                          }
                        },
                        "type": "scattergeo"
                      }
                    ],
                    "scattergl": [
                      {
                        "marker": {
                          "colorbar": {
                            "outlinewidth": 0,
                            "ticks": ""
                          }
                        },
                        "type": "scattergl"
                      }
                    ],
                    "scattermap": [
                      {
                        "marker": {
                          "colorbar": {
                            "outlinewidth": 0,
                            "ticks": ""
                          }
                        },
                        "type": "scattermap"
                      }
                    ],
                    "scattermapbox": [
                      {
                        "marker": {
                          "colorbar": {
                            "outlinewidth": 0,
                            "ticks": ""
                          }
                        },
                        "type": "scattermapbox"
                      }
                    ],
                    "scatterpolar": [
                      {
                        "marker": {
                          "colorbar": {
                            "outlinewidth": 0,
                            "ticks": ""
                          }
                        },
                        "type": "scatterpolar"
                      }
                    ],
                    "scatterpolargl": [
                      {
                        "marker": {
                          "colorbar": {
                            "outlinewidth": 0,
                            "ticks": ""
                          }
                        },
                        "type": "scatterpolargl"
                      }
                    ],
                    "scatterternary": [
                      {
                        "marker": {
                          "colorbar": {
                            "outlinewidth": 0,
                            "ticks": ""
                          }
                        },
                        "type": "scatterternary"
                      }
                    ],
                    "surface": [
                      {
                        "colorbar": {
                          "outlinewidth": 0,
                          "ticks": ""
                        },
                        "colorscale": [
                          [
                            0,
                            "#0d0887"
                          ],
                          [
                            0.1111111111111111,
                            "#46039f"
                          ],
                          [
                            0.2222222222222222,
                            "#7201a8"
                          ],
                          [
                            0.3333333333333333,
                            "#9c179e"
                          ],
                          [
                            0.4444444444444444,
                            "#bd3786"
                          ],
                          [
                            0.5555555555555556,
                            "#d8576b"
                          ],
                          [
                            0.6666666666666666,
                            "#ed7953"
                          ],
                          [
                            0.7777777777777778,
                            "#fb9f3a"
                          ],
                          [
                            0.8888888888888888,
                            "#fdca26"
                          ],
                          [
                            1,
                            "#f0f921"
                          ]
                        ],
                        "type": "surface"
                      }
                    ],
                    "table": [
                      {
                        "cells": {
                          "fill": {
                            "color": "#EBF0F8"
                          },
                          "line": {
                            "color": "white"
                          }
                        },
                        "header": {
                          "fill": {
                            "color": "#C8D4E3"
                          },
                          "line": {
                            "color": "white"
                          }
                        },
                        "type": "table"
                      }
                    ]
                  },
                  "layout": {
                    "annotationdefaults": {
                      "arrowcolor": "#2a3f5f",
                      "arrowhead": 0,
                      "arrowwidth": 1
                    },
                    "autotypenumbers": "strict",
                    "coloraxis": {
                      "colorbar": {
                        "outlinewidth": 0,
                        "ticks": ""
                      }
                    },
                    "colorscale": {
                      "diverging": [
                        [
                          0,
                          "#8e0152"
                        ],
                        [
                          0.1,
                          "#c51b7d"
                        ],
                        [
                          0.2,
                          "#de77ae"
                        ],
                        [
                          0.3,
                          "#f1b6da"
                        ],
                        [
                          0.4,
                          "#fde0ef"
                        ],
                        [
                          0.5,
                          "#f7f7f7"
                        ],
                        [
                          0.6,
                          "#e6f5d0"
                        ],
                        [
                          0.7,
                          "#b8e186"
                        ],
                        [
                          0.8,
                          "#7fbc41"
                        ],
                        [
                          0.9,
                          "#4d9221"
                        ],
                        [
                          1,
                          "#276419"
                        ]
                      ],
                      "sequential": [
                        [
                          0,
                          "#0d0887"
                        ],
                        [
                          0.1111111111111111,
                          "#46039f"
                        ],
                        [
                          0.2222222222222222,
                          "#7201a8"
                        ],
                        [
                          0.3333333333333333,
                          "#9c179e"
                        ],
                        [
                          0.4444444444444444,
                          "#bd3786"
                        ],
                        [
                          0.5555555555555556,
                          "#d8576b"
                        ],
                        [
                          0.6666666666666666,
                          "#ed7953"
                        ],
                        [
                          0.7777777777777778,
                          "#fb9f3a"
                        ],
                        [
                          0.8888888888888888,
                          "#fdca26"
                        ],
                        [
                          1,
                          "#f0f921"
                        ]
                      ],
                      "sequentialminus": [
                        [
                          0,
                          "#0d0887"
                        ],
                        [
                          0.1111111111111111,
                          "#46039f"
                        ],
                        [
                          0.2222222222222222,
                          "#7201a8"
                        ],
                        [
                          0.3333333333333333,
                          "#9c179e"
                        ],
                        [
                          0.4444444444444444,
                          "#bd3786"
                        ],
                        [
                          0.5555555555555556,
                          "#d8576b"
                        ],
                        [
                          0.6666666666666666,
                          "#ed7953"
                        ],
                        [
                          0.7777777777777778,
                          "#fb9f3a"
                        ],
                        [
                          0.8888888888888888,
                          "#fdca26"
                        ],
                        [
                          1,
                          "#f0f921"
                        ]
                      ]
                    },
                    "colorway": [
                      "#636efa",
                      "#EF553B",
                      "#00cc96",
                      "#ab63fa",
                      "#FFA15A",
                      "#19d3f3",
                      "#FF6692",
                      "#B6E880",
                      "#FF97FF",
                      "#FECB52"
                    ],
                    "font": {
                      "color": "#2a3f5f"
                    },
                    "geo": {
                      "bgcolor": "white",
                      "lakecolor": "white",
                      "landcolor": "#E5ECF6",
                      "showlakes": true,
                      "showland": true,
                      "subunitcolor": "white"
                    },
                    "hoverlabel": {
                      "align": "left"
                    },
                    "hovermode": "closest",
                    "mapbox": {
                      "style": "light"
                    },
                    "paper_bgcolor": "white",
                    "plot_bgcolor": "#E5ECF6",
                    "polar": {
                      "angularaxis": {
                        "gridcolor": "white",
                        "linecolor": "white",
                        "ticks": ""
                      },
                      "bgcolor": "#E5ECF6",
                      "radialaxis": {
                        "gridcolor": "white",
                        "linecolor": "white",
                        "ticks": ""
                      }
                    },
                    "scene": {
                      "xaxis": {
                        "backgroundcolor": "#E5ECF6",
                        "gridcolor": "white",
                        "gridwidth": 2,
                        "linecolor": "white",
                        "showbackground": true,
                        "ticks": "",
                        "zerolinecolor": "white"
                      },
                      "yaxis": {
                        "backgroundcolor": "#E5ECF6",
                        "gridcolor": "white",
                        "gridwidth": 2,
                        "linecolor": "white",
                        "showbackground": true,
                        "ticks": "",
                        "zerolinecolor": "white"
                      },
                      "zaxis": {
                        "backgroundcolor": "#E5ECF6",
                        "gridcolor": "white",
                        "gridwidth": 2,
                        "linecolor": "white",
                        "showbackground": true,
                        "ticks": "",
                        "zerolinecolor": "white"
                      }
                    },
                    "shapedefaults": {
                      "line": {
                        "color": "#2a3f5f"
                      }
                    },
                    "ternary": {
                      "aaxis": {
                        "gridcolor": "white",
                        "linecolor": "white",
                        "ticks": ""
                      },
                      "baxis": {
                        "gridcolor": "white",
                        "linecolor": "white",
                        "ticks": ""
                      },
                      "bgcolor": "#E5ECF6",
                      "caxis": {
                        "gridcolor": "white",
                        "linecolor": "white",
                        "ticks": ""
                      }
                    },
                    "title": {
                      "x": 0.05
                    },
                    "xaxis": {
                      "automargin": true,
                      "gridcolor": "white",
                      "linecolor": "white",
                      "ticks": "",
                      "title": {
                        "standoff": 15
                      },
                      "zerolinecolor": "white",
                      "zerolinewidth": 2
                    },
                    "yaxis": {
                      "automargin": true,
                      "gridcolor": "white",
                      "linecolor": "white",
                      "ticks": "",
                      "title": {
                        "standoff": 15
                      },
                      "zerolinecolor": "white",
                      "zerolinewidth": 2
                    }
                  }
                },
                "title": {
                  "text": "Sharpe Ratio Over Iterations"
                },
                "xaxis": {
                  "title": {
                    "text": "Iteration"
                  }
                },
                "yaxis": {
                  "title": {
                    "text": "Sharpe Ratio"
                  }
                }
              }
            }
          },
          "metadata": {},
          "output_type": "display_data"
        }
      ],
      "source": [
        "sharpe_ratios = [portfolio['sharpe'] for portfolio in total_portfolios]\n",
        "\n",
        "fig = go.Figure(data=go.Scatter(x=list(range(len(sharpe_ratios))), y=sharpe_ratios, mode='lines+markers'))\n",
        "fig.update_layout(title='Sharpe Ratio Over Iterations',\n",
        "                  xaxis_title='Iteration',\n",
        "                  yaxis_title='Sharpe Ratio',\n",
        "                  )\n",
        "fig.show()"
      ]
    },
    {
      "cell_type": "markdown",
      "metadata": {
        "id": "KFtx1nkbabDW"
      },
      "source": [
        "## 6.0 Find Optimal Portfolio Size"
      ]
    },
    {
      "cell_type": "code",
      "execution_count": 227,
      "metadata": {
        "id": "TSnuoMXUabDW",
        "outputId": "cae0f228-2076-478e-c55d-64b3ce16ec55"
      },
      "outputs": [
        {
          "name": "stderr",
          "output_type": "stream",
          "text": [
            "100%|██████████| 50000/50000 [00:29<00:00, 1687.10it/s]\n"
          ]
        }
      ],
      "source": [
        "all_portfolios, dominant_portfolios = MonteCarloRBA(names, cov, annualized_returns, 50000, \"random\", 3, 50)"
      ]
    },
    {
      "cell_type": "code",
      "execution_count": 228,
      "metadata": {
        "id": "pXRrClKnabDW",
        "outputId": "389ed85c-e2b7-499d-d207-67051ca55dfe"
      },
      "outputs": [
        {
          "data": {
            "application/vnd.plotly.v1+json": {
              "config": {
                "plotlyServerURL": "https://plot.ly"
              },
              "data": [
                {
                  "mode": "lines",
                  "name": "Average Volatility",
                  "type": "scatter",
                  "x": [
                    3,
                    4,
                    5,
                    6,
                    7,
                    8,
                    9,
                    10,
                    11,
                    12,
                    13,
                    14,
                    15,
                    16,
                    17,
                    18,
                    19,
                    20,
                    21,
                    22,
                    23,
                    24,
                    25,
                    26,
                    27,
                    28,
                    29,
                    30,
                    31,
                    32,
                    33,
                    34,
                    35,
                    36,
                    37,
                    38,
                    39,
                    40,
                    41,
                    42,
                    43,
                    44,
                    45,
                    46,
                    47,
                    48,
                    49
                  ],
                  "y": [
                    0.13630748794844366,
                    0.1248568076416227,
                    0.11709728014852652,
                    0.11306139288068119,
                    0.10435448311187419,
                    0.10228028588235716,
                    0.09969359387069776,
                    0.09596152177594884,
                    0.09421111442219289,
                    0.09209691536774019,
                    0.09018266772684745,
                    0.08849590658036167,
                    0.087256848301386,
                    0.08737433227535325,
                    0.0854378774655063,
                    0.08437386576162659,
                    0.08383712401257419,
                    0.08241946776136425,
                    0.0820945382268192,
                    0.08123335562070448,
                    0.08058404858264458,
                    0.08038337125147266,
                    0.08027325567963546,
                    0.07917079656874787,
                    0.07882227999949067,
                    0.07837309114474933,
                    0.0779406684545527,
                    0.07781450144011934,
                    0.0774082537506542,
                    0.07682120090451712,
                    0.07673481625319672,
                    0.07619466643241014,
                    0.07615556080400572,
                    0.07607179892098226,
                    0.07517825842927603,
                    0.07543550743002499,
                    0.07514351928468606,
                    0.07502502722326511,
                    0.07490311550977942,
                    0.07474664505435265,
                    0.07430093821941633,
                    0.07400327054224612,
                    0.07381570975551376,
                    0.07355335464383397,
                    0.07355528769146497,
                    0.07350121648818218,
                    0.0734964482301286
                  ]
                },
                {
                  "mode": "lines",
                  "name": "Average Returns",
                  "type": "scatter",
                  "x": [
                    3,
                    4,
                    5,
                    6,
                    7,
                    8,
                    9,
                    10,
                    11,
                    12,
                    13,
                    14,
                    15,
                    16,
                    17,
                    18,
                    19,
                    20,
                    21,
                    22,
                    23,
                    24,
                    25,
                    26,
                    27,
                    28,
                    29,
                    30,
                    31,
                    32,
                    33,
                    34,
                    35,
                    36,
                    37,
                    38,
                    39,
                    40,
                    41,
                    42,
                    43,
                    44,
                    45,
                    46,
                    47,
                    48,
                    49
                  ],
                  "y": [
                    0.1546780649057426,
                    0.15705542958757945,
                    0.16222187038831276,
                    0.153419135334207,
                    0.16235241914727727,
                    0.16516114700544782,
                    0.15989648785645577,
                    0.15875609796176998,
                    0.16590988865522618,
                    0.16202946639310986,
                    0.16276172320614568,
                    0.1602714897570569,
                    0.16171470680241373,
                    0.15742879005682606,
                    0.15859076331000385,
                    0.1598120558895534,
                    0.1645336854965585,
                    0.16460339499403093,
                    0.16009394537461674,
                    0.16284973573111092,
                    0.16492087461302107,
                    0.15992332903079018,
                    0.1618038275748677,
                    0.1608349066624249,
                    0.1616363644403113,
                    0.15881226244620125,
                    0.16383590571968998,
                    0.16288771717096023,
                    0.1630204214021761,
                    0.16308457154402492,
                    0.16129631567848246,
                    0.15986295170736317,
                    0.15963435576054844,
                    0.16128867922708068,
                    0.16209761060761657,
                    0.16314579514706967,
                    0.15954127638378615,
                    0.16223217648753868,
                    0.16092426865356427,
                    0.16047675729689384,
                    0.16268065967460318,
                    0.1607116560896229,
                    0.16108678291442227,
                    0.16084827577231733,
                    0.16211707598166944,
                    0.1615945305535959,
                    0.1625019931179712
                  ]
                }
              ],
              "layout": {
                "template": {
                  "data": {
                    "bar": [
                      {
                        "error_x": {
                          "color": "#2a3f5f"
                        },
                        "error_y": {
                          "color": "#2a3f5f"
                        },
                        "marker": {
                          "line": {
                            "color": "#E5ECF6",
                            "width": 0.5
                          },
                          "pattern": {
                            "fillmode": "overlay",
                            "size": 10,
                            "solidity": 0.2
                          }
                        },
                        "type": "bar"
                      }
                    ],
                    "barpolar": [
                      {
                        "marker": {
                          "line": {
                            "color": "#E5ECF6",
                            "width": 0.5
                          },
                          "pattern": {
                            "fillmode": "overlay",
                            "size": 10,
                            "solidity": 0.2
                          }
                        },
                        "type": "barpolar"
                      }
                    ],
                    "carpet": [
                      {
                        "aaxis": {
                          "endlinecolor": "#2a3f5f",
                          "gridcolor": "white",
                          "linecolor": "white",
                          "minorgridcolor": "white",
                          "startlinecolor": "#2a3f5f"
                        },
                        "baxis": {
                          "endlinecolor": "#2a3f5f",
                          "gridcolor": "white",
                          "linecolor": "white",
                          "minorgridcolor": "white",
                          "startlinecolor": "#2a3f5f"
                        },
                        "type": "carpet"
                      }
                    ],
                    "choropleth": [
                      {
                        "colorbar": {
                          "outlinewidth": 0,
                          "ticks": ""
                        },
                        "type": "choropleth"
                      }
                    ],
                    "contour": [
                      {
                        "colorbar": {
                          "outlinewidth": 0,
                          "ticks": ""
                        },
                        "colorscale": [
                          [
                            0,
                            "#0d0887"
                          ],
                          [
                            0.1111111111111111,
                            "#46039f"
                          ],
                          [
                            0.2222222222222222,
                            "#7201a8"
                          ],
                          [
                            0.3333333333333333,
                            "#9c179e"
                          ],
                          [
                            0.4444444444444444,
                            "#bd3786"
                          ],
                          [
                            0.5555555555555556,
                            "#d8576b"
                          ],
                          [
                            0.6666666666666666,
                            "#ed7953"
                          ],
                          [
                            0.7777777777777778,
                            "#fb9f3a"
                          ],
                          [
                            0.8888888888888888,
                            "#fdca26"
                          ],
                          [
                            1,
                            "#f0f921"
                          ]
                        ],
                        "type": "contour"
                      }
                    ],
                    "contourcarpet": [
                      {
                        "colorbar": {
                          "outlinewidth": 0,
                          "ticks": ""
                        },
                        "type": "contourcarpet"
                      }
                    ],
                    "heatmap": [
                      {
                        "colorbar": {
                          "outlinewidth": 0,
                          "ticks": ""
                        },
                        "colorscale": [
                          [
                            0,
                            "#0d0887"
                          ],
                          [
                            0.1111111111111111,
                            "#46039f"
                          ],
                          [
                            0.2222222222222222,
                            "#7201a8"
                          ],
                          [
                            0.3333333333333333,
                            "#9c179e"
                          ],
                          [
                            0.4444444444444444,
                            "#bd3786"
                          ],
                          [
                            0.5555555555555556,
                            "#d8576b"
                          ],
                          [
                            0.6666666666666666,
                            "#ed7953"
                          ],
                          [
                            0.7777777777777778,
                            "#fb9f3a"
                          ],
                          [
                            0.8888888888888888,
                            "#fdca26"
                          ],
                          [
                            1,
                            "#f0f921"
                          ]
                        ],
                        "type": "heatmap"
                      }
                    ],
                    "histogram": [
                      {
                        "marker": {
                          "pattern": {
                            "fillmode": "overlay",
                            "size": 10,
                            "solidity": 0.2
                          }
                        },
                        "type": "histogram"
                      }
                    ],
                    "histogram2d": [
                      {
                        "colorbar": {
                          "outlinewidth": 0,
                          "ticks": ""
                        },
                        "colorscale": [
                          [
                            0,
                            "#0d0887"
                          ],
                          [
                            0.1111111111111111,
                            "#46039f"
                          ],
                          [
                            0.2222222222222222,
                            "#7201a8"
                          ],
                          [
                            0.3333333333333333,
                            "#9c179e"
                          ],
                          [
                            0.4444444444444444,
                            "#bd3786"
                          ],
                          [
                            0.5555555555555556,
                            "#d8576b"
                          ],
                          [
                            0.6666666666666666,
                            "#ed7953"
                          ],
                          [
                            0.7777777777777778,
                            "#fb9f3a"
                          ],
                          [
                            0.8888888888888888,
                            "#fdca26"
                          ],
                          [
                            1,
                            "#f0f921"
                          ]
                        ],
                        "type": "histogram2d"
                      }
                    ],
                    "histogram2dcontour": [
                      {
                        "colorbar": {
                          "outlinewidth": 0,
                          "ticks": ""
                        },
                        "colorscale": [
                          [
                            0,
                            "#0d0887"
                          ],
                          [
                            0.1111111111111111,
                            "#46039f"
                          ],
                          [
                            0.2222222222222222,
                            "#7201a8"
                          ],
                          [
                            0.3333333333333333,
                            "#9c179e"
                          ],
                          [
                            0.4444444444444444,
                            "#bd3786"
                          ],
                          [
                            0.5555555555555556,
                            "#d8576b"
                          ],
                          [
                            0.6666666666666666,
                            "#ed7953"
                          ],
                          [
                            0.7777777777777778,
                            "#fb9f3a"
                          ],
                          [
                            0.8888888888888888,
                            "#fdca26"
                          ],
                          [
                            1,
                            "#f0f921"
                          ]
                        ],
                        "type": "histogram2dcontour"
                      }
                    ],
                    "mesh3d": [
                      {
                        "colorbar": {
                          "outlinewidth": 0,
                          "ticks": ""
                        },
                        "type": "mesh3d"
                      }
                    ],
                    "parcoords": [
                      {
                        "line": {
                          "colorbar": {
                            "outlinewidth": 0,
                            "ticks": ""
                          }
                        },
                        "type": "parcoords"
                      }
                    ],
                    "pie": [
                      {
                        "automargin": true,
                        "type": "pie"
                      }
                    ],
                    "scatter": [
                      {
                        "fillpattern": {
                          "fillmode": "overlay",
                          "size": 10,
                          "solidity": 0.2
                        },
                        "type": "scatter"
                      }
                    ],
                    "scatter3d": [
                      {
                        "line": {
                          "colorbar": {
                            "outlinewidth": 0,
                            "ticks": ""
                          }
                        },
                        "marker": {
                          "colorbar": {
                            "outlinewidth": 0,
                            "ticks": ""
                          }
                        },
                        "type": "scatter3d"
                      }
                    ],
                    "scattercarpet": [
                      {
                        "marker": {
                          "colorbar": {
                            "outlinewidth": 0,
                            "ticks": ""
                          }
                        },
                        "type": "scattercarpet"
                      }
                    ],
                    "scattergeo": [
                      {
                        "marker": {
                          "colorbar": {
                            "outlinewidth": 0,
                            "ticks": ""
                          }
                        },
                        "type": "scattergeo"
                      }
                    ],
                    "scattergl": [
                      {
                        "marker": {
                          "colorbar": {
                            "outlinewidth": 0,
                            "ticks": ""
                          }
                        },
                        "type": "scattergl"
                      }
                    ],
                    "scattermap": [
                      {
                        "marker": {
                          "colorbar": {
                            "outlinewidth": 0,
                            "ticks": ""
                          }
                        },
                        "type": "scattermap"
                      }
                    ],
                    "scattermapbox": [
                      {
                        "marker": {
                          "colorbar": {
                            "outlinewidth": 0,
                            "ticks": ""
                          }
                        },
                        "type": "scattermapbox"
                      }
                    ],
                    "scatterpolar": [
                      {
                        "marker": {
                          "colorbar": {
                            "outlinewidth": 0,
                            "ticks": ""
                          }
                        },
                        "type": "scatterpolar"
                      }
                    ],
                    "scatterpolargl": [
                      {
                        "marker": {
                          "colorbar": {
                            "outlinewidth": 0,
                            "ticks": ""
                          }
                        },
                        "type": "scatterpolargl"
                      }
                    ],
                    "scatterternary": [
                      {
                        "marker": {
                          "colorbar": {
                            "outlinewidth": 0,
                            "ticks": ""
                          }
                        },
                        "type": "scatterternary"
                      }
                    ],
                    "surface": [
                      {
                        "colorbar": {
                          "outlinewidth": 0,
                          "ticks": ""
                        },
                        "colorscale": [
                          [
                            0,
                            "#0d0887"
                          ],
                          [
                            0.1111111111111111,
                            "#46039f"
                          ],
                          [
                            0.2222222222222222,
                            "#7201a8"
                          ],
                          [
                            0.3333333333333333,
                            "#9c179e"
                          ],
                          [
                            0.4444444444444444,
                            "#bd3786"
                          ],
                          [
                            0.5555555555555556,
                            "#d8576b"
                          ],
                          [
                            0.6666666666666666,
                            "#ed7953"
                          ],
                          [
                            0.7777777777777778,
                            "#fb9f3a"
                          ],
                          [
                            0.8888888888888888,
                            "#fdca26"
                          ],
                          [
                            1,
                            "#f0f921"
                          ]
                        ],
                        "type": "surface"
                      }
                    ],
                    "table": [
                      {
                        "cells": {
                          "fill": {
                            "color": "#EBF0F8"
                          },
                          "line": {
                            "color": "white"
                          }
                        },
                        "header": {
                          "fill": {
                            "color": "#C8D4E3"
                          },
                          "line": {
                            "color": "white"
                          }
                        },
                        "type": "table"
                      }
                    ]
                  },
                  "layout": {
                    "annotationdefaults": {
                      "arrowcolor": "#2a3f5f",
                      "arrowhead": 0,
                      "arrowwidth": 1
                    },
                    "autotypenumbers": "strict",
                    "coloraxis": {
                      "colorbar": {
                        "outlinewidth": 0,
                        "ticks": ""
                      }
                    },
                    "colorscale": {
                      "diverging": [
                        [
                          0,
                          "#8e0152"
                        ],
                        [
                          0.1,
                          "#c51b7d"
                        ],
                        [
                          0.2,
                          "#de77ae"
                        ],
                        [
                          0.3,
                          "#f1b6da"
                        ],
                        [
                          0.4,
                          "#fde0ef"
                        ],
                        [
                          0.5,
                          "#f7f7f7"
                        ],
                        [
                          0.6,
                          "#e6f5d0"
                        ],
                        [
                          0.7,
                          "#b8e186"
                        ],
                        [
                          0.8,
                          "#7fbc41"
                        ],
                        [
                          0.9,
                          "#4d9221"
                        ],
                        [
                          1,
                          "#276419"
                        ]
                      ],
                      "sequential": [
                        [
                          0,
                          "#0d0887"
                        ],
                        [
                          0.1111111111111111,
                          "#46039f"
                        ],
                        [
                          0.2222222222222222,
                          "#7201a8"
                        ],
                        [
                          0.3333333333333333,
                          "#9c179e"
                        ],
                        [
                          0.4444444444444444,
                          "#bd3786"
                        ],
                        [
                          0.5555555555555556,
                          "#d8576b"
                        ],
                        [
                          0.6666666666666666,
                          "#ed7953"
                        ],
                        [
                          0.7777777777777778,
                          "#fb9f3a"
                        ],
                        [
                          0.8888888888888888,
                          "#fdca26"
                        ],
                        [
                          1,
                          "#f0f921"
                        ]
                      ],
                      "sequentialminus": [
                        [
                          0,
                          "#0d0887"
                        ],
                        [
                          0.1111111111111111,
                          "#46039f"
                        ],
                        [
                          0.2222222222222222,
                          "#7201a8"
                        ],
                        [
                          0.3333333333333333,
                          "#9c179e"
                        ],
                        [
                          0.4444444444444444,
                          "#bd3786"
                        ],
                        [
                          0.5555555555555556,
                          "#d8576b"
                        ],
                        [
                          0.6666666666666666,
                          "#ed7953"
                        ],
                        [
                          0.7777777777777778,
                          "#fb9f3a"
                        ],
                        [
                          0.8888888888888888,
                          "#fdca26"
                        ],
                        [
                          1,
                          "#f0f921"
                        ]
                      ]
                    },
                    "colorway": [
                      "#636efa",
                      "#EF553B",
                      "#00cc96",
                      "#ab63fa",
                      "#FFA15A",
                      "#19d3f3",
                      "#FF6692",
                      "#B6E880",
                      "#FF97FF",
                      "#FECB52"
                    ],
                    "font": {
                      "color": "#2a3f5f"
                    },
                    "geo": {
                      "bgcolor": "white",
                      "lakecolor": "white",
                      "landcolor": "#E5ECF6",
                      "showlakes": true,
                      "showland": true,
                      "subunitcolor": "white"
                    },
                    "hoverlabel": {
                      "align": "left"
                    },
                    "hovermode": "closest",
                    "mapbox": {
                      "style": "light"
                    },
                    "paper_bgcolor": "white",
                    "plot_bgcolor": "#E5ECF6",
                    "polar": {
                      "angularaxis": {
                        "gridcolor": "white",
                        "linecolor": "white",
                        "ticks": ""
                      },
                      "bgcolor": "#E5ECF6",
                      "radialaxis": {
                        "gridcolor": "white",
                        "linecolor": "white",
                        "ticks": ""
                      }
                    },
                    "scene": {
                      "xaxis": {
                        "backgroundcolor": "#E5ECF6",
                        "gridcolor": "white",
                        "gridwidth": 2,
                        "linecolor": "white",
                        "showbackground": true,
                        "ticks": "",
                        "zerolinecolor": "white"
                      },
                      "yaxis": {
                        "backgroundcolor": "#E5ECF6",
                        "gridcolor": "white",
                        "gridwidth": 2,
                        "linecolor": "white",
                        "showbackground": true,
                        "ticks": "",
                        "zerolinecolor": "white"
                      },
                      "zaxis": {
                        "backgroundcolor": "#E5ECF6",
                        "gridcolor": "white",
                        "gridwidth": 2,
                        "linecolor": "white",
                        "showbackground": true,
                        "ticks": "",
                        "zerolinecolor": "white"
                      }
                    },
                    "shapedefaults": {
                      "line": {
                        "color": "#2a3f5f"
                      }
                    },
                    "ternary": {
                      "aaxis": {
                        "gridcolor": "white",
                        "linecolor": "white",
                        "ticks": ""
                      },
                      "baxis": {
                        "gridcolor": "white",
                        "linecolor": "white",
                        "ticks": ""
                      },
                      "bgcolor": "#E5ECF6",
                      "caxis": {
                        "gridcolor": "white",
                        "linecolor": "white",
                        "ticks": ""
                      }
                    },
                    "title": {
                      "x": 0.05
                    },
                    "xaxis": {
                      "automargin": true,
                      "gridcolor": "white",
                      "linecolor": "white",
                      "ticks": "",
                      "title": {
                        "standoff": 15
                      },
                      "zerolinecolor": "white",
                      "zerolinewidth": 2
                    },
                    "yaxis": {
                      "automargin": true,
                      "gridcolor": "white",
                      "linecolor": "white",
                      "ticks": "",
                      "title": {
                        "standoff": 15
                      },
                      "zerolinecolor": "white",
                      "zerolinewidth": 2
                    }
                  }
                },
                "title": {
                  "text": "Average Volatility and Returns by Portfolio Size"
                },
                "xaxis": {
                  "title": {
                    "text": "Number of Assets in Portfolio"
                  },
                  "type": "category"
                },
                "yaxis": {
                  "title": {
                    "text": "Average Value"
                  }
                }
              }
            }
          },
          "metadata": {},
          "output_type": "display_data"
        }
      ],
      "source": [
        "portfolio_sizes = [len(portfolio['tickers']) for portfolio in all_portfolios]\n",
        "volatility = [np.sqrt(portfolio['variance']) for portfolio in all_portfolios]\n",
        "returns = [portfolio['return'] for portfolio in all_portfolios]\n",
        "\n",
        "volatility_by_size = defaultdict(list)\n",
        "for size, vol, ret in zip(portfolio_sizes, volatility, returns):\n",
        "    volatility_by_size[size].append((vol, ret))\n",
        "\n",
        "average_volatility = {size: np.mean([v[0] for v in vols]) for size, vols in volatility_by_size.items()}\n",
        "average_returns = {size: np.mean([v[1] for v in vols]) for size, vols in volatility_by_size.items()}\n",
        "\n",
        "sorted_sizes = sorted(average_volatility.keys())\n",
        "sorted_average_vols = [average_volatility[size] for size in sorted_sizes]\n",
        "sorted_average_rets = [average_returns[size] for size in sorted_sizes]\n",
        "\n",
        "fig = go.Figure()\n",
        "fig.add_trace(go.Scatter(\n",
        "    x=sorted_sizes,\n",
        "    y=sorted_average_vols,\n",
        "    mode='lines',\n",
        "    name='Average Volatility'\n",
        "))\n",
        "fig.add_trace(go.Scatter(\n",
        "    x=sorted_sizes,\n",
        "    y=sorted_average_rets,\n",
        "    mode='lines',\n",
        "    name='Average Returns'\n",
        "))\n",
        "\n",
        "fig.update_layout(\n",
        "    title='Average Volatility and Returns by Portfolio Size',\n",
        "    xaxis_title='Number of Assets in Portfolio',\n",
        "    yaxis_title='Average Value',\n",
        "    xaxis=dict(type='category'),\n",
        ")\n",
        "\n",
        "fig.show()\n"
      ]
    }
  ],
  "metadata": {
    "colab": {
      "include_colab_link": true,
      "provenance": []
    },
    "kernelspec": {
      "display_name": "roboA",
      "language": "python",
      "name": "python3"
    },
    "language_info": {
      "codemirror_mode": {
        "name": "ipython",
        "version": 3
      },
      "file_extension": ".py",
      "mimetype": "text/x-python",
      "name": "python",
      "nbconvert_exporter": "python",
      "pygments_lexer": "ipython3",
      "version": "3.12.8"
    }
  },
  "nbformat": 4,
  "nbformat_minor": 0
}
