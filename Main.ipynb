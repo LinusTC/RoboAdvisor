{
 "cells": [
  {
   "cell_type": "markdown",
   "metadata": {
    "id": "bj91ThpmabDR"
   },
   "source": [
    "# Investment Robo-advisor"
   ]
  },
  {
   "cell_type": "markdown",
   "metadata": {
    "id": "w31yow0TabDS"
   },
   "source": [
    "## 1. Imports"
   ]
  },
  {
   "cell_type": "code",
   "execution_count": null,
   "metadata": {
    "execution": {
     "iopub.execute_input": "2025-03-28T01:45:53.383324Z",
     "iopub.status.busy": "2025-03-28T01:45:53.382444Z",
     "iopub.status.idle": "2025-03-28T01:45:58.308586Z",
     "shell.execute_reply": "2025-03-28T01:45:58.307422Z",
     "shell.execute_reply.started": "2025-03-28T01:45:53.383271Z"
    },
    "id": "EvpNgOhEabDS",
    "trusted": true
   },
   "outputs": [],
   "source": [
    "import pandas as pd\n",
    "import numpy as np\n",
    "import plotly.graph_objects as go\n",
    "from plotly.subplots import make_subplots\n",
    "import statistics\n",
    "from tqdm import tqdm\n",
    "from collections import defaultdict, Counter\n",
    "import math\n",
    "import random\n",
    "from itertools import combinations\n",
    "from sklearn.preprocessing import MinMaxScaler\n",
    "import tensorflow as tf\n",
    "\n",
    "from PortfolioPredictor import PortfolioPredictor, evaluate_portfolios_over_time, extract_asset_returns, chain_portfolio_performance\n",
    "from fetchData import fetch_raw_data_yf, getSNP500, fetch_raw_data_yf_all, getNasdaq_comp\n",
    "from LearningRBA import MLRBA_V1, MLRBA_V2\n",
    "from MonteCarloRBA import MonteCarloRBA\n",
    "from PortfolioFunction import maximize_sharpe, create_correlation_matrix, get_sharpe_ratio, get_matrices, maximize_sharpe_SLSQP\n",
    "from LearningRBA import find_best_asset_to_remove, find_asset_to_add\n"
   ]
  },
  {
   "cell_type": "markdown",
   "metadata": {
    "id": "fnySmmT6abDT"
   },
   "source": [
    "## 2. Fetch Data"
   ]
  },
  {
   "cell_type": "markdown",
   "metadata": {
    "id": "8bz1yuGUabDT"
   },
   "source": [
    "### Get all Nasdaq Stocks"
   ]
  },
  {
   "cell_type": "code",
   "execution_count": null,
   "metadata": {
    "colab": {
     "base_uri": "https://localhost:8080/"
    },
    "execution": {
     "iopub.execute_input": "2025-03-28T01:45:58.612180Z",
     "iopub.status.busy": "2025-03-28T01:45:58.611759Z",
     "iopub.status.idle": "2025-03-28T01:45:58.617112Z",
     "shell.execute_reply": "2025-03-28T01:45:58.615944Z",
     "shell.execute_reply.started": "2025-03-28T01:45:58.612143Z"
    },
    "id": "AvJfF_5YabDU",
    "outputId": "e2769ab4-6379-4ccc-e628-557b92733cd1",
    "trusted": true
   },
   "outputs": [],
   "source": [
    "assets = getSNP500()\n",
    "start_date = pd.Timestamp(\"2021-01-01\")\n",
    "end_date = pd.Timestamp(\"2023-01-01\")"
   ]
  },
  {
   "cell_type": "code",
   "execution_count": null,
   "metadata": {
    "execution": {
     "iopub.execute_input": "2025-03-28T01:45:58.618781Z",
     "iopub.status.busy": "2025-03-28T01:45:58.618327Z",
     "iopub.status.idle": "2025-03-28T01:48:06.972943Z",
     "shell.execute_reply": "2025-03-28T01:48:06.971777Z",
     "shell.execute_reply.started": "2025-03-28T01:45:58.618735Z"
    },
    "scrolled": true,
    "trusted": true
   },
   "outputs": [],
   "source": [
    "raw_data, asset_errors, max_combination= fetch_raw_data_yf(assets, start_date, end_date)"
   ]
  },
  {
   "cell_type": "markdown",
   "metadata": {
    "id": "FyXEENSbabDU"
   },
   "source": [
    "## 3. Mean, Volatility and Covariance"
   ]
  },
  {
   "cell_type": "code",
   "execution_count": null,
   "metadata": {
    "colab": {
     "base_uri": "https://localhost:8080/"
    },
    "execution": {
     "iopub.execute_input": "2025-03-28T01:48:06.976659Z",
     "iopub.status.busy": "2025-03-28T01:48:06.976361Z",
     "iopub.status.idle": "2025-03-28T01:48:07.104927Z",
     "shell.execute_reply": "2025-03-28T01:48:07.103928Z",
     "shell.execute_reply.started": "2025-03-28T01:48:06.976634Z"
    },
    "id": "V8UnmVllabDU",
    "outputId": "5db2e605-2732-40fd-8052-5cddc38fded9",
    "trusted": true
   },
   "outputs": [],
   "source": [
    "names, annualized_returns, unweighted_annaulized_returns, weighted_returns_matrix, normal_returns_matrix, cov, correlation_matrix = get_matrices(raw_data)\n",
    "\n",
    "volatility = np.sqrt(np.diag(cov))\n",
    "risk_free_rate=0\n",
    "sharpe_ratios = (annualized_returns - risk_free_rate) / volatility"
   ]
  },
  {
   "cell_type": "code",
   "execution_count": null,
   "metadata": {
    "colab": {
     "base_uri": "https://localhost:8080/",
     "height": 542
    },
    "execution": {
     "iopub.execute_input": "2025-03-28T01:48:07.107459Z",
     "iopub.status.busy": "2025-03-28T01:48:07.107065Z",
     "iopub.status.idle": "2025-03-28T01:48:07.660329Z",
     "shell.execute_reply": "2025-03-28T01:48:07.659148Z",
     "shell.execute_reply.started": "2025-03-28T01:48:07.107424Z"
    },
    "id": "70g4vm3qabDU",
    "outputId": "3974e87c-1b85-4392-e8b8-594c2626466e",
    "trusted": true
   },
   "outputs": [],
   "source": [
    "hover_texts = [\n",
    "    f\"<br>Symbol: {ticker} <br>Volatility: {vol:.3f} <br>Returns: {ret:.3%} <br>Sharpe Ratio: {sr:.3f}\"\n",
    "    for ticker, vol, ret, sr in zip(names, volatility, annualized_returns, sharpe_ratios)\n",
    "]\n",
    "\n",
    "fig = go.Figure(data=go.Scatter(\n",
    "    x=volatility,\n",
    "    y=annualized_returns,\n",
    "    mode='markers',\n",
    "    hoverinfo='text',\n",
    "    hovertext=hover_texts,\n",
    "    marker=dict(color=sharpe_ratios, colorscale = 'RdBu', size=6, line=dict(width=1), colorbar=dict(title=\"Sharpe<br>Ratio\")\n",
    "    )\n",
    "))\n",
    "\n",
    "fig.update_layout(\n",
    "    title='Annual Performance of Individual Assets',\n",
    "    xaxis_title='Volatility (Standard Deviation)',\n",
    "    yaxis_title='Annualized Returns',\n",
    "    font=dict(\n",
    "        family=\"Cambria\",\n",
    "        size=18,\n",
    "    )\n",
    ")\n",
    "\n",
    "fig.show()\n",
    "#fig.write_html(\"PerformanceofIndividualAssets.html\")\n",
    "#fig.write_image(\"PerformanceofIndividualAssets.png\", format='png', width=1920, height=1080)"
   ]
  },
  {
   "cell_type": "markdown",
   "metadata": {},
   "source": [
    "### Demonstrating SLSQP"
   ]
  },
  {
   "cell_type": "code",
   "execution_count": null,
   "metadata": {
    "execution": {
     "iopub.execute_input": "2025-03-28T01:48:07.662079Z",
     "iopub.status.busy": "2025-03-28T01:48:07.661649Z",
     "iopub.status.idle": "2025-03-28T01:48:07.680432Z",
     "shell.execute_reply": "2025-03-28T01:48:07.678989Z",
     "shell.execute_reply.started": "2025-03-28T01:48:07.662046Z"
    },
    "trusted": true
   },
   "outputs": [],
   "source": [
    "rand_assets = np.random.choice(list(names), 5, replace=False)\n",
    "\n",
    "selected_returns = annualized_returns.loc[rand_assets].values\n",
    "selected_covariances = cov.loc[rand_assets, rand_assets].values\n",
    "\n",
    "optimized_weights, weights_history, sharpe_history = maximize_sharpe_SLSQP(selected_returns, selected_covariances)"
   ]
  },
  {
   "cell_type": "code",
   "execution_count": null,
   "metadata": {
    "execution": {
     "iopub.execute_input": "2025-03-28T01:48:07.681837Z",
     "iopub.status.busy": "2025-03-28T01:48:07.681522Z",
     "iopub.status.idle": "2025-03-28T01:48:08.021178Z",
     "shell.execute_reply": "2025-03-28T01:48:08.020008Z",
     "shell.execute_reply.started": "2025-03-28T01:48:07.681789Z"
    },
    "trusted": true
   },
   "outputs": [],
   "source": [
    "fig = make_subplots(rows=1, cols=2, subplot_titles=(\"Portfolio Weights Over Iterations\", \"Sharpe Ratio Over Iterations\"))\n",
    "\n",
    "for i in range(len(selected_returns)):\n",
    "    fig.add_trace(go.Scatter(x=list(range(len(weights_history))), \n",
    "                             y=[h[i] for h in weights_history], \n",
    "                             mode='lines+markers', \n",
    "                             name=f'Asset {i+1} Weight'), \n",
    "                  row=1, col=1)\n",
    "\n",
    "fig.add_trace(go.Scatter(x=list(range(len(sharpe_history))), \n",
    "                         y=sharpe_history, \n",
    "                         mode='lines+markers', \n",
    "                         name='Sharpe Ratio'), \n",
    "              row=1, col=2)\n",
    "\n",
    "fig.update_layout(title_text='Portfolio Optimization Analysis',\n",
    "                  xaxis_title='Iteration',\n",
    "                  yaxis_title='Weight',\n",
    "                  legend_title='Assets',\n",
    "                    font=dict(\n",
    "                        family=\"Cambria\",\n",
    "                        size=18,\n",
    "                    )\n",
    ")\n",
    "\n",
    "# Update xaxis and yaxis properties for Sharpe Ratio subplot\n",
    "fig.update_xaxes(title_text=\"Iteration\", row=1, col=2)\n",
    "fig.update_yaxes(title_text=\"Sharpe Ratio\", row=1, col=2)\n",
    "\n",
    "fig.show()\n",
    "\n",
    "#fig.write_html(\"SLSQPDemo.html\")\n",
    "#fig.write_image(\"SLSQPDemo.png\", format='png', width=1920, height=1080)"
   ]
  },
  {
   "cell_type": "markdown",
   "metadata": {
    "id": "E3i7iFfDabDV"
   },
   "source": [
    "## 4.0 Monte Carlo Method"
   ]
  },
  {
   "cell_type": "code",
   "execution_count": null,
   "metadata": {
    "colab": {
     "base_uri": "https://localhost:8080/"
    },
    "execution": {
     "iopub.execute_input": "2025-03-28T01:48:08.023073Z",
     "iopub.status.busy": "2025-03-28T01:48:08.022647Z",
     "iopub.status.idle": "2025-03-28T01:49:30.374046Z",
     "shell.execute_reply": "2025-03-28T01:49:30.372927Z",
     "shell.execute_reply.started": "2025-03-28T01:48:08.023041Z"
    },
    "id": "fsgRqCSWabDV",
    "outputId": "55346305-b21e-48aa-bd8b-0daed1a50060",
    "trusted": true
   },
   "outputs": [],
   "source": [
    "all_portfolios, dominant_portfolios = MonteCarloRBA(names, cov, annualized_returns, 10000, min_assets=8, max_assets=8)"
   ]
  },
  {
   "cell_type": "code",
   "execution_count": null,
   "metadata": {
    "colab": {
     "base_uri": "https://localhost:8080/"
    },
    "execution": {
     "iopub.execute_input": "2025-03-28T01:49:30.375612Z",
     "iopub.status.busy": "2025-03-28T01:49:30.375258Z",
     "iopub.status.idle": "2025-03-28T01:49:30.404654Z",
     "shell.execute_reply": "2025-03-28T01:49:30.403338Z",
     "shell.execute_reply.started": "2025-03-28T01:49:30.375576Z"
    },
    "id": "09tYBpwxabDV",
    "outputId": "055bc292-d45d-4b5b-baaf-482d1c4ede81",
    "trusted": true
   },
   "outputs": [],
   "source": [
    "iterations = [portfolio['iteration'] for portfolio in dominant_portfolios]\n",
    "counts = list(range(1, len(dominant_portfolios) + 1))\n",
    "\n",
    "fig = go.Figure()\n",
    "\n",
    "fig.add_trace(go.Scatter(x=iterations, y=counts,\n",
    "                        mode='lines',\n",
    "                        name='Dominant Portfolios',\n",
    "                        line=dict(shape='spline')\n",
    "))  \n",
    "\n",
    "fig.update_layout(\n",
    "    title='Growth of Dominant Portfolios Over Iterations',\n",
    "    xaxis_title='Portfolios Generated',\n",
    "    yaxis_title='Number of Dominant Portfolios Found',\n",
    "    font=dict(\n",
    "        family=\"Cambria\",\n",
    "        size=18,\n",
    "    )\n",
    ")\n",
    "\n",
    "fig.show()\n",
    "#fig.write_html(\"FrequencyOfDom.html\")\n",
    "#fig.write_image(\"FrequencyOfDom.png\", format='png', width=1920, height=1080)"
   ]
  },
  {
   "cell_type": "code",
   "execution_count": null,
   "metadata": {
    "colab": {
     "base_uri": "https://localhost:8080/",
     "height": 542
    },
    "execution": {
     "iopub.execute_input": "2025-03-28T01:49:30.406236Z",
     "iopub.status.busy": "2025-03-28T01:49:30.405826Z",
     "iopub.status.idle": "2025-03-28T01:49:31.388067Z",
     "shell.execute_reply": "2025-03-28T01:49:31.386584Z",
     "shell.execute_reply.started": "2025-03-28T01:49:30.406197Z"
    },
    "id": "uuj_oTIZabDV",
    "outputId": "c0fec4f3-4492-4608-a54f-48d800b04ba7",
    "trusted": true
   },
   "outputs": [],
   "source": [
    "fig1 = go.Figure()\n",
    "\n",
    "fig1.add_trace(go.Scatter(\n",
    "    x=[np.sqrt(p[\"variance\"]) for p in all_portfolios],\n",
    "    y=[p[\"return\"] for p in all_portfolios],\n",
    "    mode='markers',\n",
    "    marker=dict(\n",
    "        color=[p[\"sharpe\"] for p in all_portfolios],\n",
    "        showscale=True,\n",
    "        size=7,\n",
    "        line=dict(width=1),\n",
    "        colorscale=\"RdBu\",\n",
    "        colorbar=dict(title=\"Sharpe<br>Ratio\")\n",
    "    ),\n",
    "    hoverinfo='text',\n",
    "    text=[\n",
    "        f\"Return: {p['return']:.3%}<br>Volatility: {np.sqrt(p['variance']):.3f}<br>\" +\n",
    "        f\"Sharpe Ratio: {p['return'] / (np.sqrt(p['variance'])):.3f}<br>\" +\n",
    "        \"<br>\".join([f\"{p['tickers'][i]}: Weight={p['weights'][i]:.3f}\" for i in range(len(p['tickers']))])\n",
    "        for p in all_portfolios\n",
    "    ]\n",
    "))\n",
    "\n",
    "fig1.update_layout(\n",
    "    xaxis=dict(title='Volatility (Standard Deviation)'),\n",
    "    yaxis=dict(title='Annualised Returns'),\n",
    "    title='Monte Carlo Randomly Generated Portfolios',\n",
    "    font=dict(\n",
    "        family=\"Cambria\",\n",
    "        size=18,\n",
    "    )\n",
    ")\n",
    "fig1.show()\n",
    "#fig1.write_html(\"MonteCarlo.html\")\n",
    "#fig1.write_image(\"MonteCarlo.png\", format='png', width=1920, height=1080)"
   ]
  },
  {
   "cell_type": "code",
   "execution_count": null,
   "metadata": {
    "colab": {
     "base_uri": "https://localhost:8080/",
     "height": 542
    },
    "execution": {
     "iopub.execute_input": "2025-03-28T01:49:31.390227Z",
     "iopub.status.busy": "2025-03-28T01:49:31.389701Z",
     "iopub.status.idle": "2025-03-28T01:49:31.429758Z",
     "shell.execute_reply": "2025-03-28T01:49:31.428601Z",
     "shell.execute_reply.started": "2025-03-28T01:49:31.390178Z"
    },
    "id": "uHkH6APvabDV",
    "outputId": "8dbda4b6-b409-48de-98ea-c89f8e6f5f85",
    "trusted": true
   },
   "outputs": [],
   "source": [
    "fig2 = go.Figure()\n",
    "\n",
    "fig2.add_trace(go.Scatter(\n",
    "    x=[np.sqrt(p[\"variance\"]) for p in dominant_portfolios],  # Convert variance to volatility\n",
    "    y=[p[\"return\"] for p in dominant_portfolios],\n",
    "    mode='markers',\n",
    "    marker=dict(\n",
    "        size=7,\n",
    "        line=dict(width=1),\n",
    "        #showscale=True,\n",
    "        #color=[p[\"return\"] / (np.sqrt(p[\"variance\"])) for p in dominant_portfolios],  # Sharpe Ratio\n",
    "        #colorscale=\"RdBu\",\n",
    "        #colorbar=dict(title=\"Sharpe<br>Ratio\")\n",
    "    ),\n",
    "    hoverinfo='text',\n",
    "    text=[\n",
    "        f\"Return: {p['return']:.3%}<br>Volatility: {np.sqrt(p['variance']):.3f}<br>\" +\n",
    "        f\"Sharpe Ratio: {p['sharpe']:.3f}<br>\" +\n",
    "        \"<br>\".join([f\"{p['tickers'][i]}: Weight={p['weights'][i]:.3f}\" for i in range(len(p['tickers']))])\n",
    "        for p in dominant_portfolios\n",
    "    ],\n",
    "    name=\"Monte Carlo Portfolios\"\n",
    "))\n",
    "\n",
    "fig2.add_trace(go.Scatter(\n",
    "    x=volatility,\n",
    "    y=annualized_returns,\n",
    "    mode='markers',\n",
    "    hoverinfo='text',\n",
    "    hovertext=[\n",
    "        f\"{name} <br>Volatility: {vol:.3f} <br>Returns: {ret:.3%} <br>Sharpe Ratio: {sr:.3f}\"\n",
    "        for name, vol, ret, sr in zip(names, volatility, annualized_returns, sharpe_ratios)\n",
    "    ],\n",
    "    marker=dict(\n",
    "        color='green',\n",
    "        size=5,\n",
    "        line=dict(width=1)\n",
    "    ),\n",
    "    name=\"Individual Assets\"\n",
    "))\n",
    "\n",
    "fig2.update_layout(\n",
    "    title='Monte Carlo Portfolios with Individual Assets',\n",
    "    xaxis_title='Volatility (Standard Deviation)',\n",
    "    yaxis_title='Annualized Return',\n",
    "    legend=dict(y=5),\n",
    "    font=dict(\n",
    "        family=\"Cambria\",\n",
    "        size=18,\n",
    "    )\n",
    ")\n",
    "\n",
    "fig2.show()\n",
    "#fig2.write_html(\"MCMarkowitzBullet.html\")\n",
    "#fig2.write_image(\"MCMarkowitzBullet.png\", format='png', width=1920, height=1080)"
   ]
  },
  {
   "cell_type": "markdown",
   "metadata": {
    "id": "6-WDtJTgabDV"
   },
   "source": [
    "## 5.0 Machine Learning Method"
   ]
  },
  {
   "cell_type": "markdown",
   "metadata": {},
   "source": [
    "### 5.1 Optimization Function Only"
   ]
  },
  {
   "cell_type": "code",
   "execution_count": null,
   "metadata": {
    "colab": {
     "base_uri": "https://localhost:8080/"
    },
    "execution": {
     "iopub.execute_input": "2025-03-28T01:49:31.431397Z",
     "iopub.status.busy": "2025-03-28T01:49:31.431082Z",
     "iopub.status.idle": "2025-03-28T01:50:02.278310Z",
     "shell.execute_reply": "2025-03-28T01:50:02.277108Z",
     "shell.execute_reply.started": "2025-03-28T01:49:31.431361Z"
    },
    "id": "7xbdm-4NabDV",
    "outputId": "53c0d514-7544-4e8f-9ed5-4af9aa786a56",
    "trusted": true
   },
   "outputs": [],
   "source": [
    "base_portfolio, best_portfolio, good_portfolios, total_portfolios, best_iteration = MLRBA_V1(names, cov, annualized_returns)\n",
    "base_portfolio, best_portfolio, len(good_portfolios), len(total_portfolios), best_iteration"
   ]
  },
  {
   "cell_type": "code",
   "execution_count": null,
   "metadata": {
    "colab": {
     "base_uri": "https://localhost:8080/",
     "height": 542
    },
    "execution": {
     "iopub.execute_input": "2025-03-28T01:50:02.279927Z",
     "iopub.status.busy": "2025-03-28T01:50:02.279429Z",
     "iopub.status.idle": "2025-03-28T01:50:02.324483Z",
     "shell.execute_reply": "2025-03-28T01:50:02.323188Z",
     "shell.execute_reply.started": "2025-03-28T01:50:02.279893Z"
    },
    "id": "Znh8vrYQabDW",
    "outputId": "f770bd56-eace-405c-a8c0-a1d835201f64",
    "trusted": true
   },
   "outputs": [],
   "source": [
    "fig = go.Figure()\n",
    "\n",
    "fig.add_trace(go.Scatter(\n",
    "    x=[p[\"variance\"]**0.5 for p in good_portfolios],  # Convert variance to volatility\n",
    "    y=[p[\"return\"] for p in good_portfolios],\n",
    "    mode='markers',\n",
    "    marker=dict(\n",
    "        color=[p[\"sharpe\"] for p in good_portfolios],  # Sharpe Ratio\n",
    "        showscale=True,\n",
    "        size=7,\n",
    "        line=dict(width=1),\n",
    "        colorscale=\"RdBu\",\n",
    "        colorbar=dict(title=\"Sharpe<br>Ratio\")\n",
    "    ),\n",
    "    hoverinfo='text',\n",
    "    text=[\n",
    "        f\"Return: {p['return']:.3%}<br>Volatility: {p['variance']**0.5:.3f}<br>\" +\n",
    "        f\"Sharpe Ratio: {p['return'] / (p['variance']**0.5):.3f}<br>\" +\n",
    "        \"<br>\".join([f\"{p['tickers'][i]}: Weight={p['weights'][i]:.3f}\" for i in range(len(p['tickers']))])\n",
    "        for p in good_portfolios\n",
    "    ],\n",
    "    name=\"Portfolios\"\n",
    "))\n",
    "\n",
    "fig.update_layout(\n",
    "    title='Convergence Strategy Generarted Portfolios',\n",
    "    xaxis_title='Volatility (Standard Deviation)',\n",
    "    yaxis_title='Annualized Return',\n",
    "    legend=dict(y=5),\n",
    "    font=dict(\n",
    "        family=\"Cambria\",\n",
    "        size=18,\n",
    "    )\n",
    ")\n",
    "\n",
    "fig.show()\n",
    "#fig.write_html(\"ConvergenceRBA.html\")\n",
    "#fig.write_image(\"ConvergenceRBA.png\", format='png', width=1920, height=1080)\n",
    "\n",
    "fig.add_trace(go.Scatter(\n",
    "    x=volatility,\n",
    "    y=annualized_returns,\n",
    "    mode='markers',\n",
    "    hoverinfo='text',\n",
    "    hovertext=[\n",
    "        f\"{name} <br>Volatility: {vol:.3f} <br>Returns: {ret:.3%} <br>Sharpe Ratio: {sr:.3f}\"\n",
    "        for name, vol, ret, sr in zip(names, volatility, annualized_returns, sharpe_ratios)\n",
    "    ],\n",
    "    marker=dict(\n",
    "        color='green',\n",
    "        size=5,\n",
    "        line=dict(width=1)\n",
    "    ),\n",
    "    name=\"Individual Assets\"\n",
    "))\n",
    "\n",
    "fig.update_layout(\n",
    "    title='Convergence Strategy Generarted Portfolios with Individual Assets',\n",
    "    xaxis_title='Volatility (Standard Deviation)',\n",
    "    yaxis_title='Annualized Return',\n",
    "    legend=dict(y=5),\n",
    "    font=dict(\n",
    "        family=\"Cambria\",\n",
    "        size=18,\n",
    "    )\n",
    ")\n",
    "\n",
    "\n",
    "fig.show()\n",
    "\n",
    "#fig.write_html(\"ConvergenceRBA+Asset.html\")\n",
    "#fig.write_image(\"ConvergenceRBA+Asset.png\", format='png', width=1920, height=1080)\n"
   ]
  },
  {
   "cell_type": "code",
   "execution_count": null,
   "metadata": {
    "colab": {
     "base_uri": "https://localhost:8080/",
     "height": 542
    },
    "execution": {
     "iopub.execute_input": "2025-03-28T01:50:02.326535Z",
     "iopub.status.busy": "2025-03-28T01:50:02.326077Z",
     "iopub.status.idle": "2025-03-28T01:50:02.370036Z",
     "shell.execute_reply": "2025-03-28T01:50:02.368463Z",
     "shell.execute_reply.started": "2025-03-28T01:50:02.326487Z"
    },
    "id": "fcrLEvL3abDW",
    "outputId": "7123cd39-a752-4640-be20-6fe3fcbc6c17",
    "trusted": true
   },
   "outputs": [],
   "source": [
    "good_sharpes = [p['sharpe'] for p in good_portfolios]\n",
    "\n",
    "fig = go.Figure(data=go.Scatter(x=list(range(len(good_sharpes))), y=good_sharpes, mode='markers+lines', name='Good Portfolios'))\n",
    "\n",
    "fig.update_layout(\n",
    "    title='Sharpe Ratios Gains as Improvement Portfolios Found',\n",
    "    xaxis_title='Improvement Portfolio',\n",
    "    yaxis_title='Sharpe Ratio',\n",
    "    template='plotly_white',\n",
    "    font=dict(\n",
    "        family=\"Cambria\",\n",
    "        size=18,\n",
    "    )\n",
    ")\n",
    "\n",
    "fig.show()\n",
    "#fig.write_html(\"DiminishingSharpeRBA1.html\")\n",
    "#fig.write_image(\"DiminishingSharpeRBA1.png\", format='png', width=1920, height=1080)"
   ]
  },
  {
   "cell_type": "markdown",
   "metadata": {},
   "source": [
    "#### Comparing MLRBA_V1 with Monte Carlo"
   ]
  },
  {
   "cell_type": "code",
   "execution_count": null,
   "metadata": {
    "execution": {
     "iopub.execute_input": "2025-03-28T01:50:02.371193Z",
     "iopub.status.busy": "2025-03-28T01:50:02.370887Z",
     "iopub.status.idle": "2025-03-28T01:50:03.976070Z",
     "shell.execute_reply": "2025-03-28T01:50:03.974940Z",
     "shell.execute_reply.started": "2025-03-28T01:50:02.371167Z"
    },
    "trusted": true
   },
   "outputs": [],
   "source": [
    "figC = go.Figure(fig2)\n",
    "figC.add_trace(go.Scatter(\n",
    "    x=[p[\"variance\"]**0.5 for p in good_portfolios],  # Convert variance to volatility\n",
    "    y=[p[\"return\"] for p in good_portfolios],\n",
    "    mode='markers',\n",
    "    marker=dict(\n",
    "        size=7,\n",
    "        line=dict(width=1),\n",
    "        color=\"Red\",\n",
    "    ),\n",
    "    hoverinfo='text',\n",
    "    text=[\n",
    "        f\"Return: {p['return']:.3%}<br>Volatility: {p['variance']**0.5:.3f}<br>\" +\n",
    "        f\"Sharpe Ratio: {p['return'] / (p['variance']**0.5):.3f}<br>\" +\n",
    "        \"<br>\".join([f\"{p['tickers'][i]}: Weight={p['weights'][i]:.3f}\" for i in range(len(p['tickers']))])\n",
    "        for p in good_portfolios\n",
    "    ],\n",
    "    name=\"Convergence Portfolios\"\n",
    "))\n",
    "\n",
    "figC.update_layout(\n",
    "    title='Convergence vs Monte Carlo vs Individual Assets',\n",
    "    legend=dict(x=0.85, y=0.95),\n",
    "    font=dict(\n",
    "        family=\"Cambria\",\n",
    "        size=18,\n",
    "    )\n",
    ")\n",
    "\n",
    "figC.show()\n",
    "#figC.write_html(\"ComparisonOfConvergence+MC.html\")\n",
    "#figC.write_image(\"ComparisonOfConvergence+MC.png\", format='png', width=1920, height=1080)"
   ]
  },
  {
   "cell_type": "markdown",
   "metadata": {},
   "source": [
    "### 5.2 Reinforcement Weight Training"
   ]
  },
  {
   "cell_type": "code",
   "execution_count": null,
   "metadata": {
    "execution": {
     "iopub.execute_input": "2025-03-28T01:50:03.977877Z",
     "iopub.status.busy": "2025-03-28T01:50:03.977357Z",
     "iopub.status.idle": "2025-03-28T01:50:11.560961Z",
     "shell.execute_reply": "2025-03-28T01:50:11.559727Z",
     "shell.execute_reply.started": "2025-03-28T01:50:03.977831Z"
    },
    "trusted": true
   },
   "outputs": [],
   "source": [
    "base_portfolio, best_portfolio, good_portfolios, total_portfolios, best_iteration = MLRBA_V2(names, cov, annualized_returns, correlation_matrix)\n",
    "base_portfolio, best_portfolio, len(good_portfolios), len(total_portfolios), best_iteration"
   ]
  },
  {
   "cell_type": "code",
   "execution_count": null,
   "metadata": {
    "execution": {
     "iopub.execute_input": "2025-03-28T01:50:11.562544Z",
     "iopub.status.busy": "2025-03-28T01:50:11.562152Z",
     "iopub.status.idle": "2025-03-28T01:50:11.602498Z",
     "shell.execute_reply": "2025-03-28T01:50:11.600912Z",
     "shell.execute_reply.started": "2025-03-28T01:50:11.562508Z"
    },
    "trusted": true
   },
   "outputs": [],
   "source": [
    "fig = go.Figure()\n",
    "\n",
    "fig.add_trace(go.Scatter(\n",
    "    x=[p[\"variance\"]**0.5 for p in good_portfolios],  # Convert variance to volatility\n",
    "    y=[p[\"return\"] for p in good_portfolios],\n",
    "    mode='markers',\n",
    "    marker=dict(\n",
    "        color=[p[\"sharpe\"] for p in good_portfolios],  # Sharpe Ratio\n",
    "        showscale=True,\n",
    "        size=7,\n",
    "        line=dict(width=1),\n",
    "        colorscale=\"RdBu\",\n",
    "        colorbar=dict(title=\"Sharpe<br>Ratio\")\n",
    "    ),\n",
    "    hoverinfo='text',\n",
    "    text=[\n",
    "        f\"Return: {p['return']:.3%}<br>Volatility: {p['variance']**0.5:.3f}<br>\" +\n",
    "        f\"Sharpe Ratio: {p['return'] / (p['variance']**0.5):.3f}<br>\" +\n",
    "        \"<br>\".join([f\"{p['tickers'][i]}: Weight={p['weights'][i]:.3f}\" for i in range(len(p['tickers']))])\n",
    "        for p in good_portfolios\n",
    "    ],\n",
    "    name=\"Portfolios\"\n",
    "))\n",
    "\n",
    "fig.update_layout(\n",
    "    title='Learning Convergence Portfolios',\n",
    "    xaxis_title='Volatility (Standard Deviation)',\n",
    "    yaxis_title='Annualized Return',\n",
    "    legend=dict(y=5),\n",
    "    font=dict(\n",
    "        family=\"Cambria\",\n",
    "        size=18,\n",
    "    )\n",
    ")\n",
    "\n",
    "fig.show()\n",
    "#fig.write_html(\"LearningConvergenceRBA.html\")\n",
    "#fig.write_image(\"LearningConvergenceRBA.png\", format='png', width=1920, height=1080)\n",
    "\n",
    "fig.add_trace(go.Scatter(\n",
    "    x=volatility,\n",
    "    y=annualized_returns,\n",
    "    mode='markers',\n",
    "    hoverinfo='text',\n",
    "    hovertext=[\n",
    "        f\"{name} <br>Volatility: {vol:.3f} <br>Returns: {ret:.3%} <br>Sharpe Ratio: {sr:.3f}\"\n",
    "        for name, vol, ret, sr in zip(names, volatility, annualized_returns, sharpe_ratios)\n",
    "    ],\n",
    "    marker=dict(\n",
    "        color='green',\n",
    "        size=5,\n",
    "        line=dict(width=1)\n",
    "    ),\n",
    "    name=\"Individual Assets\"\n",
    "))\n",
    "\n",
    "fig.update_layout(\n",
    "    title='Learning Convergence Portfolios with Individual Assets',\n",
    "    xaxis_title='Volatility (Standard Deviation)',\n",
    "    yaxis_title='Annualized Return',\n",
    "    legend=dict(y=5),\n",
    "    font=dict(\n",
    "        family=\"Cambria\",\n",
    "        size=18,\n",
    "    )\n",
    ")\n",
    "\n",
    "\n",
    "fig.show()\n",
    "#fig.write_html(\"LearningConvergenceRBA+Asset.html\")\n",
    "#fig.write_image(\"LearningConvergenceRBA+Asset.png\", format='png', width=1920, height=1080)\n"
   ]
  },
  {
   "cell_type": "code",
   "execution_count": null,
   "metadata": {
    "execution": {
     "iopub.execute_input": "2025-03-28T01:50:11.604457Z",
     "iopub.status.busy": "2025-03-28T01:50:11.604098Z",
     "iopub.status.idle": "2025-03-28T01:50:11.625195Z",
     "shell.execute_reply": "2025-03-28T01:50:11.623946Z",
     "shell.execute_reply.started": "2025-03-28T01:50:11.604415Z"
    },
    "trusted": true
   },
   "outputs": [],
   "source": [
    "good_sharpes = [p['sharpe'] for p in good_portfolios]\n",
    "\n",
    "fig = go.Figure(data=go.Scatter(x=list(range(len(good_sharpes))), y=good_sharpes, mode='markers+lines', name='Good Portfolios'))\n",
    "\n",
    "fig.update_layout(\n",
    "    title='Sharpe Ratios Gains as Improvement Portfolios Found',\n",
    "    xaxis_title='Improvement Portfolio',\n",
    "    yaxis_title='Sharpe Ratio',\n",
    "    template='plotly_white',\n",
    "    font=dict(\n",
    "        family=\"Cambria\",\n",
    "        size=18,\n",
    "    )\n",
    ")\n",
    "\n",
    "fig.show()\n",
    "#fig.write_html(\"DiminishingSharpeRBA2.html\")\n",
    "#fig.write_image(\"DiminishingSharpeRBA2.png\", format='png', width=1920, height=1080)"
   ]
  },
  {
   "cell_type": "markdown",
   "metadata": {},
   "source": [
    "#### Comparing MLRBA_V2 with Monte Carlo"
   ]
  },
  {
   "cell_type": "code",
   "execution_count": null,
   "metadata": {
    "execution": {
     "iopub.execute_input": "2025-03-28T01:50:11.626994Z",
     "iopub.status.busy": "2025-03-28T01:50:11.626392Z",
     "iopub.status.idle": "2025-03-28T01:50:11.679095Z",
     "shell.execute_reply": "2025-03-28T01:50:11.677715Z",
     "shell.execute_reply.started": "2025-03-28T01:50:11.626958Z"
    },
    "trusted": true
   },
   "outputs": [],
   "source": [
    "figC = go.Figure(fig2)\n",
    "figC.add_trace(go.Scatter(\n",
    "    x=[p[\"variance\"]**0.5 for p in good_portfolios],  # Convert variance to volatility\n",
    "    y=[p[\"return\"] for p in good_portfolios],\n",
    "    mode='markers',\n",
    "    marker=dict(\n",
    "        size=7,\n",
    "        line=dict(width=1),\n",
    "        color=\"Red\",\n",
    "    ),\n",
    "    hoverinfo='text',\n",
    "    text=[\n",
    "        f\"Return: {p['return']:.3%}<br>Volatility: {p['variance']**0.5:.3f}<br>\" +\n",
    "        f\"Sharpe Ratio: {p['return'] / (p['variance']**0.5):.3f}<br>\" +\n",
    "        \"<br>\".join([f\"{p['tickers'][i]}: Weight={p['weights'][i]:.3f}\" for i in range(len(p['tickers']))])\n",
    "        for p in good_portfolios\n",
    "    ],\n",
    "    name=\"Learning Convergence Portfolios\"\n",
    "))\n",
    "\n",
    "figC.update_layout(\n",
    "    title='Learning Convergence vs Monte Carlo vs Individual Assets',\n",
    "    legend=dict(x=0.8, y=0.95),\n",
    "    font=dict(\n",
    "        family=\"Cambria\",\n",
    "        size=18,\n",
    "    )\n",
    ")\n",
    "\n",
    "figC.show()\n",
    "#figC.write_html(\"ComparisonOfLearningConvergence+MC.html\")\n",
    "#figC.write_image(\"ComparisonOfLearningConvergence+MC.png\", format='png', width=1920, height=1080)"
   ]
  },
  {
   "cell_type": "markdown",
   "metadata": {},
   "source": [
    "### Comparing V1 and V2"
   ]
  },
  {
   "cell_type": "code",
   "execution_count": null,
   "metadata": {
    "execution": {
     "iopub.execute_input": "2025-03-28T01:50:11.680512Z",
     "iopub.status.busy": "2025-03-28T01:50:11.680086Z",
     "iopub.status.idle": "2025-03-28T01:58:45.374167Z",
     "shell.execute_reply": "2025-03-28T01:58:45.371622Z",
     "shell.execute_reply.started": "2025-03-28T01:50:11.680469Z"
    },
    "scrolled": true,
    "trusted": true
   },
   "outputs": [],
   "source": [
    "def run_MLRBA_multiple_times(names, cov, annualized_returns, num_runs, num_assets=8):\n",
    "\n",
    "    def generate_rand_port(tickers, num_assets, num_runs):\n",
    "        rand_port = []\n",
    "        for _ in range (num_runs):\n",
    "            base_portfolio = np.random.choice(list(tickers), num_assets, replace=False)\n",
    "            rand_port.append(base_portfolio)\n",
    "\n",
    "        return rand_port\n",
    "    \n",
    "    random_portfolios = generate_rand_port(names, num_assets=num_assets, num_runs=num_runs)\n",
    "\n",
    "    total_good_portfolios_length_v1 = 0\n",
    "    best_portfolios_v1 = []\n",
    "    best_iterations_v1 = []\n",
    "    \n",
    "    total_good_portfolios_length_v2 = 0\n",
    "    best_portfolios_v2 = []\n",
    "    best_iterations_v2 = []\n",
    "    \n",
    "    for portfolio in random_portfolios:\n",
    "        base_portfolio_v1, best_portfolio_v1, good_portfolios_v1, _, best_iteration_v1 = MLRBA_V1(names, cov, annualized_returns, base_portfolio=portfolio)\n",
    "        total_good_portfolios_length_v1 += len(good_portfolios_v1)\n",
    "        best_portfolios_v1.append(best_portfolio_v1)\n",
    "        best_iterations_v1.append(best_iteration_v1)\n",
    "        \n",
    "        base_portfolio_v2, best_portfolio_v2, good_portfolios_v2, _, best_iteration_v2 = MLRBA_V2(names, cov, annualized_returns, correlation_matrix, base_portfolio=portfolio)\n",
    "        total_good_portfolios_length_v2 += len(good_portfolios_v2)\n",
    "        best_portfolios_v2.append(best_portfolio_v2)\n",
    "        best_iterations_v2.append(best_iteration_v2)\n",
    "\n",
    "        print(base_portfolio_v1['tickers'] == base_portfolio_v2['tickers'])\n",
    "\n",
    "    average_length_v1 = total_good_portfolios_length_v1 / num_runs\n",
    "    average_iteration_v1 = statistics.fmean(best_iterations_v1)\n",
    "    std_dev_iteration_v1 = statistics.stdev(best_iterations_v1) if num_runs > 1 else 0\n",
    "\n",
    "    average_length_v2 = total_good_portfolios_length_v2 / num_runs\n",
    "    average_iteration_v2 = statistics.fmean(best_iterations_v2)\n",
    "    std_dev_iteration_v2 = statistics.stdev(best_iterations_v2) if num_runs > 1 else 0\n",
    "\n",
    "    \n",
    "    results = {\n",
    "        'v1': (base_portfolio_v1, average_length_v1, best_portfolios_v1, average_iteration_v1, std_dev_iteration_v1, best_iterations_v1),\n",
    "        'v2': (base_portfolio_v2, average_length_v2, best_portfolios_v2, average_iteration_v2, std_dev_iteration_v2, best_iterations_v2)\n",
    "    }\n",
    "    \n",
    "    return results\n",
    "\n",
    "num_runs = 20\n",
    "results = run_MLRBA_multiple_times(names, cov, annualized_returns, num_runs)\n",
    "\n",
    "_, _, best_portfolios_v1, average_iteration_v1, std_dev_v1, best_iterations_v1 = results['v1']\n",
    "_, _, best_portfolios_v2, average_iteration_v2, std_dev_v2, best_iterations_v2 = results['v2']"
   ]
  },
  {
   "cell_type": "code",
   "execution_count": null,
   "metadata": {
    "execution": {
     "iopub.execute_input": "2025-03-28T01:58:45.375415Z",
     "iopub.status.busy": "2025-03-28T01:58:45.375113Z",
     "iopub.status.idle": "2025-03-28T01:58:45.436100Z",
     "shell.execute_reply": "2025-03-28T01:58:45.434935Z",
     "shell.execute_reply.started": "2025-03-28T01:58:45.375380Z"
    },
    "trusted": true
   },
   "outputs": [],
   "source": [
    "from plotly.subplots import make_subplots\n",
    "\n",
    "avg_sharpe_v1 = np.mean([portfolio['sharpe'] for portfolio in best_portfolios_v1])\n",
    "avg_sharpe_v2 = np.mean([portfolio['sharpe'] for portfolio in best_portfolios_v2])\n",
    "\n",
    "fig = make_subplots(\n",
    "    rows=1, cols=2,\n",
    "    subplot_titles=[\n",
    "        \"Average Iterations to Find Best Portfolio\",\n",
    "        \"Average Highest Sharpe Ratio\"\n",
    "    ]\n",
    ")\n",
    "\n",
    "fig.add_trace(go.Bar(\n",
    "    x=['Standard Convergence', 'Learning Convergergence'],\n",
    "    y=[average_iteration_v1, average_iteration_v2],\n",
    "    name='Iterations',\n",
    "    error_y=dict(type='data', array=[std_dev_v1, std_dev_v2], visible=True),\n",
    "    width=0.4\n",
    "), row=1, col=1)\n",
    "\n",
    "fig.add_trace(go.Bar(\n",
    "    x=['Standard Convergence', 'Learning Convergergence'],\n",
    "    y=[avg_sharpe_v1, avg_sharpe_v2],\n",
    "    name='Sharpe Ratio',\n",
    "    width=0.4\n",
    "), row=1, col=2)\n",
    "\n",
    "# Axis titles\n",
    "fig.update_xaxes(title_text='Method Version', row=1, col=1)\n",
    "fig.update_yaxes(title_text='Average Iterations', row=1, col=1)\n",
    "\n",
    "fig.update_xaxes(title_text='Method Version', row=1, col=2)\n",
    "fig.update_yaxes(title_text='Average Sharpe Ratio', row=1, col=2)\n",
    "\n",
    "# Layout and display\n",
    "fig.update_layout(\n",
    "    title_text='Standard Convergence vs Learning Convergence',\n",
    "    showlegend=False,\n",
    "    font=dict(\n",
    "        family=\"Cambria\",\n",
    "        size=18,\n",
    "    )\n",
    ")\n",
    "\n",
    "fig.show()\n",
    "#fig.write_html(\"StandardvsLearning.html\")\n",
    "#fig.write_image(\"StandardvsLearning.png\", format='png', width=1920, height=1080)"
   ]
  },
  {
   "cell_type": "markdown",
   "metadata": {},
   "source": [
    "## 6.0 Portfolio Prediction using LSTM"
   ]
  },
  {
   "cell_type": "code",
   "execution_count": null,
   "metadata": {
    "execution": {
     "iopub.execute_input": "2025-03-28T01:58:45.465266Z",
     "iopub.status.busy": "2025-03-28T01:58:45.464960Z",
     "iopub.status.idle": "2025-03-28T02:00:26.052539Z",
     "shell.execute_reply": "2025-03-28T02:00:26.051044Z",
     "shell.execute_reply.started": "2025-03-28T01:58:45.465239Z"
    },
    "scrolled": true,
    "trusted": true
   },
   "outputs": [],
   "source": [
    "investment_length = 730\n",
    "investment_end_date = end_date + pd.Timedelta(days=investment_length)\n",
    "\n",
    "raw_data, asset_errors, max_combination= fetch_raw_data_yf(assets, start_date, investment_end_date)\n",
    "names, annualized_returns, unweighted_annaulized_returns, weighted_returns_matrix, normal_returns_matrix, cov, correlation_matrix = get_matrices(raw_data)"
   ]
  },
  {
   "cell_type": "code",
   "execution_count": null,
   "metadata": {},
   "outputs": [],
   "source": [
    "raw_data_train = raw_data.loc[:end_date]\n",
    "raw_data_test = raw_data.loc[end_date:]\n",
    "\n",
    "portfolio_predictor = PortfolioPredictor(raw_data_train, raw_data_test, best_portfolio, n_steps=5, epochs=30, activation_function='relu')\n",
    "\n",
    "portfolio_predictor.preprocess_data()\n",
    "portfolio_predictor.build_model()\n",
    "portfolio_predictor.train_model()\n",
    "prediction = portfolio_predictor.predict()   \n",
    "portfolio_predictor.plot_loss()\n",
    "portfolio_predictor.plot_predictions()\n",
    "portfolio_predictor.compute_performance()"
   ]
  },
  {
   "cell_type": "markdown",
   "metadata": {},
   "source": [
    "### Full Algorithm"
   ]
  },
  {
   "cell_type": "code",
   "execution_count": null,
   "metadata": {
    "execution": {
     "iopub.execute_input": "2025-03-28T02:00:26.069547Z",
     "iopub.status.busy": "2025-03-28T02:00:26.069021Z",
     "iopub.status.idle": "2025-03-28T04:29:52.544768Z",
     "shell.execute_reply": "2025-03-28T04:29:52.543289Z",
     "shell.execute_reply.started": "2025-03-28T02:00:26.069496Z"
    },
    "scrolled": true,
    "trusted": true
   },
   "outputs": [],
   "source": [
    "investments = evaluate_portfolios_over_time(raw_data, end_date, window_size=5, epochs=30, length_of_investment = None, candidates_per_divison = 2, candidates_divison=3)"
   ]
  },
  {
   "cell_type": "code",
   "execution_count": null,
   "metadata": {
    "execution": {
     "iopub.execute_input": "2025-03-28T04:29:52.555427Z",
     "iopub.status.busy": "2025-03-28T04:29:52.555028Z",
     "iopub.status.idle": "2025-03-28T04:29:52.817373Z",
     "shell.execute_reply": "2025-03-28T04:29:52.816414Z",
     "shell.execute_reply.started": "2025-03-28T04:29:52.555397Z"
    },
    "trusted": true
   },
   "outputs": [],
   "source": [
    "ML_portfolio = []\n",
    "portfolio_holdings = []  # To store tickers held at each point\n",
    "initial_value = 100\n",
    "\n",
    "for i in range(len(investments)):\n",
    "    curr_best_portfolio = investments[i]['portfolio']\n",
    "    p_start_date = investments[i]['start_date']\n",
    "    p_end_date = investments[i]['end_date']\n",
    "    \n",
    "    if not curr_best_portfolio:\n",
    "        # No portfolio for this period\n",
    "        if i == 0:\n",
    "            previous_value = initial_value\n",
    "        else:\n",
    "            previous_value = ML_portfolio[-1].iloc[-1]\n",
    "        window_index = raw_data.loc[p_start_date:p_end_date].index\n",
    "        portfolio_daily_returns = pd.Series(previous_value, index=window_index)\n",
    "        held_tickers = []  # Nothing held\n",
    "    else:\n",
    "        # Portfolio exists for this period\n",
    "        best_curr_port_assets = curr_best_portfolio['tickers']\n",
    "        best_curr_port_assets_test_data = extract_asset_returns(raw_data, best_curr_port_assets, p_start_date, p_end_date)\n",
    "        curr_best_portfolio_weights = curr_best_portfolio['weights']\n",
    "        weighted_returns = best_curr_port_assets_test_data.mul(curr_best_portfolio_weights, axis='columns')\n",
    "        portfolio_daily_returns = weighted_returns.sum(axis=1)\n",
    "        held_tickers = best_curr_port_assets\n",
    "\n",
    "    ML_portfolio.append(portfolio_daily_returns)\n",
    "    portfolio_holdings.append((p_start_date, p_end_date, held_tickers))\n",
    "\n",
    "ML_portfolio_streamed = chain_portfolio_performance(ML_portfolio, starting_value=initial_value)\n",
    "\n",
    "# Print tickers held at each point\n",
    "for period_info in portfolio_holdings:\n",
    "    start, end, tickers = period_info\n",
    "    print(f\"Held from {start} to {end}: {tickers}\")\n",
    "\n",
    "#Number of unique assets held\n",
    "unique_assets = set()\n",
    "for _, _, tickers in portfolio_holdings:\n",
    "    unique_assets.update(tickers)\n",
    "\n",
    "print(f\"\\nNumber of unique tickers held: {len(unique_assets)}\")\n",
    "\n",
    "ML_portfolio_streamed"
   ]
  },
  {
   "cell_type": "code",
   "execution_count": null,
   "metadata": {
    "execution": {
     "iopub.execute_input": "2025-03-28T04:52:43.019676Z",
     "iopub.status.busy": "2025-03-28T04:52:43.019281Z",
     "iopub.status.idle": "2025-03-28T04:52:43.157616Z",
     "shell.execute_reply": "2025-03-28T04:52:43.156279Z",
     "shell.execute_reply.started": "2025-03-28T04:52:43.019644Z"
    },
    "trusted": true
   },
   "outputs": [],
   "source": [
    "ML_daily_returns = ML_portfolio_streamed.pct_change()\n",
    "ML_cumulative_returns = (1 + ML_daily_returns).cumprod()\n",
    "\n",
    "ML_cumulative_returns.iloc[0] = 1\n",
    "ML_portfolio_normalized = (ML_cumulative_returns / ML_cumulative_returns.iloc[0]) * 100\n",
    "\n",
    "Nasdaq_comp = getNasdaq_comp(ML_portfolio_streamed.index[0], ML_portfolio_streamed.index[-1])\n",
    "\n",
    "fig = go.Figure()\n",
    "\n",
    "fig.add_trace(go.Scatter(\n",
    "    x=Nasdaq_comp.index,\n",
    "    y=Nasdaq_comp['Normalized'],\n",
    "    mode='lines',\n",
    "    name='Nasdaq Composite'\n",
    "))\n",
    "\n",
    "fig.add_trace(go.Scatter(\n",
    "    x=ML_cumulative_returns.index,\n",
    "    y=ML_portfolio_normalized,\n",
    "    mode='lines',\n",
    "    name='Portfolio Growth'\n",
    "))\n",
    "\n",
    "fig.update_layout(\n",
    "    title='Comparison of Portfolio vs. Nasdaq Composite Growth',\n",
    "    xaxis_title='Date',\n",
    "    yaxis_title='Normalized Value (Base 100)',\n",
    "    xaxis=dict(\n",
    "        type='date',\n",
    "        tickformat='%b %Y',\n",
    "        tickmode='auto'\n",
    "    ),\n",
    "    font=dict(\n",
    "        family=\"Cambria\",\n",
    "        size=18,\n",
    "    )\n",
    ")\n",
    "fig.show()\n",
    "#fig.write_html(\"RBAVsNasdaq.html\")\n",
    "#fig.write_image(\"RBAVsNasdaq.png\", format='png', width=1920, height=1080)"
   ]
  },
  {
   "cell_type": "markdown",
   "metadata": {
    "id": "S5u_KAQS1CRr"
   },
   "source": [
    "## 7.0 Testing Against Others"
   ]
  },
  {
   "cell_type": "code",
   "execution_count": null,
   "metadata": {
    "colab": {
     "base_uri": "https://localhost:8080/",
     "height": 594
    },
    "execution": {
     "iopub.execute_input": "2025-03-28T04:52:45.753176Z",
     "iopub.status.busy": "2025-03-28T04:52:45.752653Z",
     "iopub.status.idle": "2025-03-28T04:52:45.914394Z",
     "shell.execute_reply": "2025-03-28T04:52:45.913275Z",
     "shell.execute_reply.started": "2025-03-28T04:52:45.753132Z"
    },
    "id": "n4AB0laC1CRr",
    "outputId": "4b139451-2662-435b-dc3d-56a5eed5b189",
    "trusted": true
   },
   "outputs": [],
   "source": [
    "best_port_assets = best_portfolio['tickers']\n",
    "best_port_assets_test_data = raw_data_test.loc[:, best_port_assets]\n",
    "\n",
    "Nasdaq_comp = getNasdaq_comp(ML_cumulative_returns.index[0], ML_cumulative_returns.index[-1])\n",
    "\n",
    "best_portfolio_weights = best_portfolio['weights']\n",
    "normalized_prices = best_port_assets_test_data.div(best_port_assets_test_data.iloc[0])\n",
    "daily_returns = normalized_prices.pct_change()\n",
    "weighted_returns = daily_returns.mul(best_portfolio_weights, axis='columns')\n",
    "portfolio_daily_returns = weighted_returns.sum(axis=1)\n",
    "portfolio_cumulative_returns = (1 + portfolio_daily_returns).cumprod()\n",
    "\n",
    "portfolio_start = portfolio_cumulative_returns.iloc[0]\n",
    "portfolio_normalized = (portfolio_cumulative_returns / portfolio_start) * 100\n",
    "\n",
    "fig = go.Figure()\n",
    "\n",
    "fig.add_trace(go.Scatter(\n",
    "    x=Nasdaq_comp.index,\n",
    "    y=Nasdaq_comp['Normalized'],\n",
    "    mode='lines',\n",
    "    name='Nasdaq Composite'\n",
    "))\n",
    "\n",
    "fig.add_trace(go.Scatter(\n",
    "    x=ML_cumulative_returns.index,\n",
    "    y=ML_portfolio_normalized,\n",
    "    mode='lines',\n",
    "    name='Portfolio with Adjustments'\n",
    "))\n",
    "\n",
    "fig.add_trace(go.Scatter(\n",
    "    x=portfolio_normalized.index,\n",
    "    y=portfolio_normalized,\n",
    "    mode='lines',\n",
    "    name='Base Portfolio'\n",
    "))\n",
    "\n",
    "fig.update_layout(\n",
    "    title='Comparison of Portfolio vs. Nasdaq Composite Growth : 2023-2025',\n",
    "    xaxis_title='Date',\n",
    "    yaxis_title='Normalized Returns (Base 100%)',\n",
    "    xaxis=dict(\n",
    "        type='date',\n",
    "        tickformat='%b %Y',\n",
    "        tickmode='auto'\n",
    "    ),\n",
    "    font=dict(\n",
    "        family=\"Cambria\",\n",
    "        size=18,\n",
    "    )\n",
    ")\n",
    "fig.show()\n",
    "#fig.write_html(\"MLRBAvsRBAvsNasdaq.html\")\n",
    "#fig.write_image(\"MLRBAvsRBAvsNasdaq.png\", format='png', width=1920, height=1080)"
   ]
  },
  {
   "cell_type": "markdown",
   "metadata": {},
   "source": [
    "## 8.0 Find Optimal Portfolio Size"
   ]
  },
  {
   "cell_type": "code",
   "execution_count": null,
   "metadata": {
    "execution": {
     "iopub.execute_input": "2025-03-28T04:29:53.184138Z",
     "iopub.status.busy": "2025-03-28T04:29:53.183784Z",
     "iopub.status.idle": "2025-03-28T04:33:57.922788Z",
     "shell.execute_reply": "2025-03-28T04:33:57.921447Z",
     "shell.execute_reply.started": "2025-03-28T04:29:53.184109Z"
    },
    "trusted": true
   },
   "outputs": [],
   "source": [
    "all_portfolios, dominant_portfolios = MonteCarloRBA(names, cov, annualized_returns, 10000, 'sharpe', 3, 50)"
   ]
  },
  {
   "cell_type": "code",
   "execution_count": null,
   "metadata": {
    "execution": {
     "iopub.execute_input": "2025-03-28T04:33:57.926499Z",
     "iopub.status.busy": "2025-03-28T04:33:57.926159Z",
     "iopub.status.idle": "2025-03-28T04:33:57.988969Z",
     "shell.execute_reply": "2025-03-28T04:33:57.988026Z",
     "shell.execute_reply.started": "2025-03-28T04:33:57.926470Z"
    },
    "trusted": true
   },
   "outputs": [],
   "source": [
    "rd_portfolio_sizes = [len(portfolio['tickers']) for portfolio in all_portfolios]\n",
    "rd_volatility = [np.sqrt(portfolio['variance']) for portfolio in all_portfolios]\n",
    "rd_returns = [portfolio['return'] for portfolio in all_portfolios]\n",
    "\n",
    "volatility_by_size = defaultdict(list)\n",
    "for size, vol, ret in zip(rd_portfolio_sizes, rd_volatility, rd_returns):\n",
    "    volatility_by_size[size].append((vol, ret))\n",
    "\n",
    "average_volatility = {size: np.mean([v[0] for v in vols]) for size, vols in volatility_by_size.items()}\n",
    "average_returns = {size: np.mean([v[1] for v in vols]) for size, vols in volatility_by_size.items()}\n",
    "\n",
    "sorted_sizes = sorted(average_volatility.keys())\n",
    "sorted_average_vols = [average_volatility[size] for size in sorted_sizes]\n",
    "sorted_average_rets = [average_returns[size] for size in sorted_sizes]\n",
    "\n",
    "fig = go.Figure()\n",
    "fig.add_trace(go.Scatter(\n",
    "    x=sorted_sizes,\n",
    "    y=sorted_average_vols,\n",
    "    mode='lines',\n",
    "    name='Average Volatility'\n",
    "))\n",
    "\n",
    "fig.update_layout(\n",
    "    title='Average Volatility and Returns by Portfolio Size',\n",
    "    xaxis_title='Number of Assets in Portfolio',\n",
    "    yaxis_title='Average Value',\n",
    "    xaxis=dict(type='category'),\n",
    ")\n",
    "\n",
    "fig.show()"
   ]
  },
  {
   "cell_type": "code",
   "execution_count": null,
   "metadata": {
    "execution": {
     "iopub.execute_input": "2025-03-28T04:33:57.990592Z",
     "iopub.status.busy": "2025-03-28T04:33:57.990298Z",
     "iopub.status.idle": "2025-03-28T04:44:34.066599Z",
     "shell.execute_reply": "2025-03-28T04:44:34.065198Z",
     "shell.execute_reply.started": "2025-03-28T04:33:57.990568Z"
    },
    "trusted": true
   },
   "outputs": [],
   "source": [
    "all_portfolios, dominant_portfolios = MonteCarloRBA(names, cov, annualized_returns, 10000, 'vol', 50, 50)"
   ]
  },
  {
   "cell_type": "code",
   "execution_count": null,
   "metadata": {
    "execution": {
     "iopub.execute_input": "2025-03-28T04:44:34.072029Z",
     "iopub.status.busy": "2025-03-28T04:44:34.071658Z",
     "iopub.status.idle": "2025-03-28T04:44:34.271067Z",
     "shell.execute_reply": "2025-03-28T04:44:34.270020Z",
     "shell.execute_reply.started": "2025-03-28T04:44:34.071999Z"
    },
    "trusted": true
   },
   "outputs": [],
   "source": [
    "rd_portfolio_sizes = [sum(weight > 0 for weight in portfolio['weights']) for portfolio in all_portfolios]\n",
    "\n",
    "portfolio_size_counts = Counter(rd_portfolio_sizes)\n",
    "\n",
    "sizes = sorted(portfolio_size_counts.keys())\n",
    "counts = [portfolio_size_counts[size] for size in sizes]\n",
    "\n",
    "fig = go.Figure(data=[go.Bar(x=sizes, y=counts)])\n",
    "\n",
    "fig.update_layout(\n",
    "    title='Distribution of Portfolio Sizes After Optimization',\n",
    "    xaxis_title='Number of assets in portfolio after optimizing',\n",
    "    yaxis_title='Number of Portfolios',\n",
    "    xaxis=dict(type='category'),\n",
    "    yaxis=dict(type='linear')\n",
    ")\n",
    "\n",
    "fig.show()"
   ]
  },
  {
   "cell_type": "code",
   "execution_count": null,
   "metadata": {
    "execution": {
     "iopub.execute_input": "2025-03-28T04:44:34.272635Z",
     "iopub.status.busy": "2025-03-28T04:44:34.272240Z",
     "iopub.status.idle": "2025-03-28T04:44:34.277238Z",
     "shell.execute_reply": "2025-03-28T04:44:34.275954Z",
     "shell.execute_reply.started": "2025-03-28T04:44:34.272594Z"
    },
    "trusted": true
   },
   "outputs": [],
   "source": [
    "#fig.write_html(\"PortfolioSize.html\")"
   ]
  }
 ],
 "metadata": {
  "colab": {
   "include_colab_link": true,
   "provenance": []
  },
  "kaggle": {
   "accelerator": "none",
   "dataSources": [
    {
     "datasetId": 6985997,
     "sourceId": 11190608,
     "sourceType": "datasetVersion"
    }
   ],
   "dockerImageVersionId": 30918,
   "isGpuEnabled": false,
   "isInternetEnabled": true,
   "language": "python",
   "sourceType": "notebook"
  },
  "kernelspec": {
   "display_name": "roboA",
   "language": "python",
   "name": "python3"
  },
  "language_info": {
   "codemirror_mode": {
    "name": "ipython",
    "version": 3
   },
   "file_extension": ".py",
   "mimetype": "text/x-python",
   "name": "python",
   "nbconvert_exporter": "python",
   "pygments_lexer": "ipython3",
   "version": "3.12.8"
  }
 },
 "nbformat": 4,
 "nbformat_minor": 4
}
