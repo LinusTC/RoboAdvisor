{
 "cells": [
  {
   "cell_type": "markdown",
   "metadata": {},
   "source": [
    "# Self-contained Robo-advisor"
   ]
  },
  {
   "cell_type": "code",
   "execution_count": null,
   "metadata": {},
   "outputs": [],
   "source": [
    "import pandas as pd\n",
    "import plotly.graph_objects as go\n",
    "\n",
    "from PortfolioPredictor import evaluate_portfolios_over_time, extract_asset_returns, chain_portfolio_performance\n",
    "from fetchData import fetch_raw_data_yf, getSNP500, getNasdaq_comp\n",
    "from LearningRBA import MLRBA_V2\n",
    "from PortfolioFunction import get_matrices"
   ]
  },
  {
   "cell_type": "code",
   "execution_count": null,
   "metadata": {},
   "outputs": [],
   "source": [
    "assets = getSNP500()\n",
    "start_date = pd.Timestamp(\"2021-01-01\")\n",
    "end_date = pd.Timestamp(\"2023-01-01\")\n",
    "investment_period = 60\n",
    "investment_end_date = end_date + pd.Timedelta(days=investment_period)\n",
    "raw_data, _, _= fetch_raw_data_yf(assets, start_date, investment_end_date)"
   ]
  },
  {
   "cell_type": "code",
   "execution_count": null,
   "metadata": {},
   "outputs": [],
   "source": [
    "investments = evaluate_portfolios_over_time(raw_data, end_date, window_size=5, threshold=0.5, epochs=20, length_of_investment = None)"
   ]
  },
  {
   "cell_type": "code",
   "execution_count": null,
   "metadata": {},
   "outputs": [],
   "source": [
    "names, annualized_returns, _, _, _, cov, correlation_matrix = get_matrices(raw_data[:end_date])\n",
    "_, initial_portfolio, _, _, _ = MLRBA_V2(names, cov, annualized_returns, correlation_matrix)"
   ]
  },
  {
   "cell_type": "code",
   "execution_count": null,
   "metadata": {},
   "outputs": [],
   "source": [
    "ML_portfolio = []\n",
    "portfolio_holdings = []  # To store tickers held at each point\n",
    "initial_value = 100\n",
    "\n",
    "for i in range(len(investments)):\n",
    "    curr_best_portfolio = investments[i]['portfolio']\n",
    "    p_start_date = investments[i]['start_date']\n",
    "    p_end_date = investments[i]['end_date']\n",
    "    \n",
    "    if not curr_best_portfolio:\n",
    "        # No portfolio for this period\n",
    "        if i == 0:\n",
    "            previous_value = initial_value\n",
    "        else:\n",
    "            previous_value = ML_portfolio[-1].iloc[-1]\n",
    "        window_index = raw_data.loc[p_start_date:p_end_date].index\n",
    "        portfolio_daily_returns = pd.Series(previous_value, index=window_index)\n",
    "        held_tickers = []  # Nothing held\n",
    "    else:\n",
    "        # Portfolio exists for this period\n",
    "        best_curr_port_assets = curr_best_portfolio['tickers']\n",
    "        best_curr_port_assets_test_data = extract_asset_returns(raw_data, best_curr_port_assets, p_start_date, p_end_date)\n",
    "        curr_best_portfolio_weights = curr_best_portfolio['weights']\n",
    "        weighted_returns = best_curr_port_assets_test_data.mul(curr_best_portfolio_weights, axis='columns')\n",
    "        portfolio_daily_returns = weighted_returns.sum(axis=1)\n",
    "        held_tickers = best_curr_port_assets\n",
    "\n",
    "    ML_portfolio.append(portfolio_daily_returns)\n",
    "    portfolio_holdings.append((p_start_date, p_end_date, held_tickers))\n",
    "\n",
    "ML_portfolio_streamed = chain_portfolio_performance(ML_portfolio, starting_value=initial_value)\n",
    "\n",
    "# Print tickers held at each point\n",
    "for period_info in portfolio_holdings:\n",
    "    start, end, tickers = period_info\n",
    "    print(f\"Held from {start} to {end}: {tickers}\")\n",
    "\n",
    "#Number of unique assets held\n",
    "unique_assets = set()\n",
    "for _, _, tickers in portfolio_holdings:\n",
    "    unique_assets.update(tickers)\n",
    "\n",
    "print(f\"\\nNumber of unique tickers held: {len(unique_assets)}\")\n",
    "\n",
    "ML_portfolio_streamed"
   ]
  },
  {
   "cell_type": "code",
   "execution_count": null,
   "metadata": {},
   "outputs": [],
   "source": [
    "ML_daily_returns = ML_portfolio_streamed.pct_change()\n",
    "ML_cumulative_returns = (1 + ML_daily_returns).cumprod()\n",
    "ML_cumulative_returns.iloc[0] = 1\n",
    "ML_portfolio_normalized = (ML_cumulative_returns / ML_cumulative_returns.iloc[0]) * 100\n",
    "\n",
    "best_port_assets = initial_portfolio['tickers']\n",
    "best_port_assets_test_data = raw_data.loc[:, best_port_assets]\n",
    "\n",
    "Nasdaq_comp = getNasdaq_comp(ML_cumulative_returns.index[0], ML_cumulative_returns.index[-1])\n",
    "\n",
    "best_portfolio_weights = initial_portfolio['weights']\n",
    "normalized_prices = best_port_assets_test_data.div(best_port_assets_test_data.iloc[0])\n",
    "daily_returns = normalized_prices.pct_change()\n",
    "weighted_returns = daily_returns.mul(best_portfolio_weights, axis='columns')\n",
    "portfolio_daily_returns = weighted_returns.sum(axis=1)\n",
    "portfolio_cumulative_returns = (1 + portfolio_daily_returns).cumprod()\n",
    "\n",
    "portfolio_start = portfolio_cumulative_returns.iloc[0]\n",
    "portfolio_normalized = (portfolio_cumulative_returns / portfolio_start) * 100\n",
    "\n",
    "fig = go.Figure()\n",
    "\n",
    "fig.add_trace(go.Scatter(\n",
    "    x=Nasdaq_comp.index,\n",
    "    y=Nasdaq_comp['Normalized'],\n",
    "    mode='lines',\n",
    "    name='Nasdaq Composite'\n",
    "))\n",
    "\n",
    "fig.add_trace(go.Scatter(\n",
    "    x=ML_cumulative_returns.index,\n",
    "    y=ML_portfolio_normalized,\n",
    "    mode='lines',\n",
    "    name='Portfolio with Adjustments'\n",
    "))\n",
    "\n",
    "fig.add_trace(go.Scatter(\n",
    "    x=ML_cumulative_returns.index,\n",
    "    y=portfolio_normalized,\n",
    "    mode='lines',\n",
    "    name='Base Portfolio'\n",
    "))\n",
    "\n",
    "fig.update_layout(\n",
    "    title='Comparison of Portfolio vs. Nasdaq Composite Growth : 2023-2025',\n",
    "    xaxis_title='Date',\n",
    "    yaxis_title='Normalized Returns (Base 100%)',\n",
    "    xaxis=dict(\n",
    "        type='date',\n",
    "        tickformat='%b %Y',\n",
    "        tickmode='auto'\n",
    "    ),\n",
    "    font=dict(\n",
    "        family=\"Cambria\",\n",
    "        size=18,\n",
    "    )\n",
    ")\n",
    "fig.show()\n",
    "#fig.write_html(\"MLRBAvsRBAvsNasdaq.html\")\n",
    "#fig.write_image(\"MLRBAvsRBAvsNasdaq.png\", format='png', width=1920, height=1080)"
   ]
  }
 ],
 "metadata": {
  "kernelspec": {
   "display_name": "roboA",
   "language": "python",
   "name": "python3"
  },
  "language_info": {
   "codemirror_mode": {
    "name": "ipython",
    "version": 3
   },
   "file_extension": ".py",
   "mimetype": "text/x-python",
   "name": "python",
   "nbconvert_exporter": "python",
   "pygments_lexer": "ipython3",
   "version": "3.12.8"
  }
 },
 "nbformat": 4,
 "nbformat_minor": 2
}
