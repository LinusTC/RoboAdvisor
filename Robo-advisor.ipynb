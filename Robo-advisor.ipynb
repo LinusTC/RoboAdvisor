{
 "cells": [
  {
   "cell_type": "markdown",
   "metadata": {},
   "source": [
    "# Self-contained Robo-advisor"
   ]
  },
  {
   "cell_type": "code",
   "execution_count": 1,
   "metadata": {},
   "outputs": [],
   "source": [
    "import pandas as pd\n",
    "import plotly.graph_objects as go\n",
    "\n",
    "from PortfolioPredictor import evaluate_portfolios_over_time, extract_asset_returns, chain_portfolio_performance\n",
    "from fetchData import fetch_raw_data_yf, getSNP500, getNasdaq_comp, fetch_raw_data_yf_all\n",
    "from LearningRBA import MLRBA_V2\n",
    "from PortfolioFunction import get_matrices"
   ]
  },
  {
   "cell_type": "code",
   "execution_count": 2,
   "metadata": {},
   "outputs": [
    {
     "name": "stderr",
     "output_type": "stream",
     "text": [
      "[*********************100%***********************]  1 of 1 completed\n",
      "[*********************100%***********************]  1 of 1 completed\n",
      "[*********************100%***********************]  1 of 1 completed\n",
      "[*********************100%***********************]  1 of 1 completed\n",
      "[*********************100%***********************]  1 of 1 completed\n",
      "[*********************100%***********************]  1 of 1 completed\n",
      "[*********************100%***********************]  1 of 1 completed\n",
      "[*********************100%***********************]  1 of 1 completed\n",
      "[*********************100%***********************]  1 of 1 completed\n",
      "[*********************100%***********************]  1 of 1 completed\n",
      "[*********************100%***********************]  1 of 1 completed\n",
      "[*********************100%***********************]  1 of 1 completed\n",
      "[*********************100%***********************]  1 of 1 completed\n",
      "[*********************100%***********************]  1 of 1 completed\n",
      "[*********************100%***********************]  1 of 1 completed\n",
      "[*********************100%***********************]  1 of 1 completed\n",
      "[*********************100%***********************]  1 of 1 completed\n",
      "[*********************100%***********************]  1 of 1 completed\n",
      "[*********************100%***********************]  1 of 1 completed\n",
      "[*********************100%***********************]  1 of 1 completed\n",
      "[*********************100%***********************]  1 of 1 completed\n",
      "[*********************100%***********************]  1 of 1 completed\n",
      "[*********************100%***********************]  1 of 1 completed\n",
      "[*********************100%***********************]  1 of 1 completed\n",
      "[*********************100%***********************]  1 of 1 completed\n",
      "[*********************100%***********************]  1 of 1 completed\n",
      "[*********************100%***********************]  1 of 1 completed\n",
      "[*********************100%***********************]  1 of 1 completed\n",
      "[*********************100%***********************]  1 of 1 completed\n",
      "[*********************100%***********************]  1 of 1 completed\n",
      "[*********************100%***********************]  1 of 1 completed\n",
      "[*********************100%***********************]  1 of 1 completed\n",
      "[*********************100%***********************]  1 of 1 completed\n",
      "[*********************100%***********************]  1 of 1 completed\n",
      "[*********************100%***********************]  1 of 1 completed\n",
      "[*********************100%***********************]  1 of 1 completed\n",
      "[*********************100%***********************]  1 of 1 completed\n",
      "\n",
      "1 Failed download:\n",
      "['ABNB']: YFPricesMissingError('possibly delisted; no price data found  (1d 2014-01-01 00:00:00 -> 2018-06-29 00:00:00) (Yahoo error = \"Data doesn\\'t exist for startDate = 1388552400, endDate = 1530244800\")')\n",
      "[*********************100%***********************]  1 of 1 completed\n",
      "[*********************100%***********************]  1 of 1 completed\n",
      "[*********************100%***********************]  1 of 1 completed\n",
      "[*********************100%***********************]  1 of 1 completed\n",
      "[*********************100%***********************]  1 of 1 completed\n",
      "[*********************100%***********************]  1 of 1 completed\n",
      "[*********************100%***********************]  1 of 1 completed\n",
      "[*********************100%***********************]  1 of 1 completed\n",
      "[*********************100%***********************]  1 of 1 completed\n",
      "[*********************100%***********************]  1 of 1 completed\n",
      "[*********************100%***********************]  1 of 1 completed\n",
      "[*********************100%***********************]  1 of 1 completed\n",
      "[*********************100%***********************]  1 of 1 completed\n"
     ]
    },
    {
     "name": "stdout",
     "output_type": "stream",
     "text": [
      "Omitted assets: ['ABNB']\n",
      "Time to fetch data: 7.27 seconds\n",
      "Max combination of assets with complete data: 48\n"
     ]
    }
   ],
   "source": [
    "assets = getSNP500()[:50]\n",
    "start_date = pd.Timestamp(\"2014-01-01\")\n",
    "end_date = pd.Timestamp(\"2016-01-01\")\n",
    "investment_period = 910\n",
    "investment_end_date = end_date + pd.Timedelta(days=investment_period)\n",
    "raw_data, _, _= fetch_raw_data_yf(assets, start_date, investment_end_date)\n",
    "\n",
    "raw_data_train = raw_data.loc[:end_date]\n",
    "raw_data_test = raw_data.loc[end_date:]"
   ]
  },
  {
   "cell_type": "code",
   "execution_count": 3,
   "metadata": {},
   "outputs": [
    {
     "name": "stderr",
     "output_type": "stream",
     "text": [
      "Portfolios Tested:   0%|          | 61/50000 [00:00<03:51, 216.00it/s]"
     ]
    },
    {
     "name": "stdout",
     "output_type": "stream",
     "text": [
      "All assets have been tested or no improvement possible.\n"
     ]
    },
    {
     "name": "stderr",
     "output_type": "stream",
     "text": [
      "\n"
     ]
    }
   ],
   "source": [
    "names, annualized_returns, x, x1, _, cov, correlation_matrix = get_matrices(raw_data[:end_date])\n",
    "_, initial_portfolio, _, _, _ = MLRBA_V2(names, cov, annualized_returns, correlation_matrix)"
   ]
  },
  {
   "cell_type": "code",
   "execution_count": null,
   "metadata": {},
   "outputs": [],
   "source": [
    "import numpy as np\n",
    "import pandas as pd\n",
    "import tensorflow as tf\n",
    "from tensorflow.keras.models import Sequential\n",
    "from tensorflow.keras.layers import LSTM, Dense, Dropout\n",
    "from sklearn.preprocessing import MinMaxScaler\n",
    "import plotly.graph_objects as go\n",
    "\n",
    "class PortfolioPredictorDirectMultiStep:\n",
    "    def __init__(self, raw_data_train, raw_data_test, best_portfolio, \n",
    "                 lookback=10, n_steps=5, epochs=50, batch_size=32, activation_function='tanh'):\n",
    "        self.raw_data_train = raw_data_train\n",
    "        self.raw_data_test = raw_data_test\n",
    "        self.best_portfolio = best_portfolio\n",
    "        self.lookback = lookback            \n",
    "        self.n_steps = n_steps              \n",
    "        self.epochs = epochs\n",
    "        self.batch_size = batch_size\n",
    "        self.activation_function = activation_function\n",
    "        self.model = None\n",
    "        self.history = None\n",
    "\n",
    "    def preprocess_data(self):\n",
    "        best_portfolio_data_train = self.raw_data_train[self.best_portfolio['tickers']]\n",
    "        best_portfolio_data_test = self.raw_data_test[self.best_portfolio['tickers']]\n",
    "        weights = np.array(self.best_portfolio['weights'])\n",
    "        \n",
    "        self.scaler = MinMaxScaler(feature_range=(0, 1))\n",
    "        full_data = pd.concat([best_portfolio_data_train, best_portfolio_data_test])\n",
    "        self.scaler.fit(full_data)\n",
    "        \n",
    "        normalized_train_data = self.scaler.transform(best_portfolio_data_train)\n",
    "        normalized_test_data = self.scaler.transform(best_portfolio_data_test)\n",
    "        \n",
    "        normalized_test_data = np.concatenate([normalized_train_data[-self.lookback:], normalized_test_data], axis=0)\n",
    "        \n",
    "        self.weighted_returns_train = np.dot(normalized_train_data, weights)\n",
    "        self.weighted_returns_test = np.dot(normalized_test_data, weights)\n",
    "\n",
    "    def create_datasets(self, data):\n",
    "        X, y = [], []\n",
    "        for i in range(len(data) - self.lookback - self.n_steps + 1):\n",
    "            X.append(data[i: i + self.lookback, :])\n",
    "            target = data[i + self.lookback: i + self.lookback + self.n_steps, 0]\n",
    "            y.append(target)\n",
    "        return np.array(X), np.array(y)\n",
    "\n",
    "    def build_model(self):\n",
    "        self.model = Sequential([\n",
    "            LSTM(250, activation=self.activation_function, return_sequences=True),\n",
    "            Dropout(0.2),\n",
    "            LSTM(50, activation=self.activation_function, return_sequences=False),\n",
    "            Dropout(0.2),\n",
    "            Dense(self.n_steps)\n",
    "        ])\n",
    "        self.model.compile(optimizer='adam', loss='mse')\n",
    "\n",
    "    def train_model(self):\n",
    "        X_train, y_train = self.create_datasets(self.weighted_returns_train.reshape(-1, 1))\n",
    "        self.history = self.model.fit(X_train, y_train, \n",
    "                                      epochs=self.epochs, \n",
    "                                      batch_size=self.batch_size, \n",
    "                                      validation_split=0.001, \n",
    "                                      shuffle=False, \n",
    "                                      verbose=0)\n",
    "\n",
    "    def predict(self):\n",
    "        X_test, y_test = self.create_datasets(self.weighted_returns_test.reshape(-1, 1))\n",
    "        self.predictions = self.model.predict(X_test)\n",
    "        self.y_test = y_test\n",
    "        \n",
    "        prediction_dates = self.raw_data_test.index[self.lookback + self.n_steps - 1:]\n",
    "        return self.predictions, prediction_dates\n",
    "\n",
    "    def compute_cumulative_returns(self, data, baseline):\n",
    "        data_series = pd.Series(data.flatten())\n",
    "        cumulative_returns = data_series / data_series.iloc[0] * baseline\n",
    "        return cumulative_returns\n",
    "\n",
    "    def plot_loss(self):\n",
    "        fig = go.Figure()\n",
    "        fig.add_trace(go.Scatter(\n",
    "            x=np.arange(1, len(self.history.history['loss']) + 1),\n",
    "            y=self.history.history['loss'], \n",
    "            mode='lines', \n",
    "            name='Training Loss'\n",
    "        ))\n",
    "        fig.add_trace(go.Scatter(\n",
    "            x=np.arange(1, len(self.history.history['val_loss']) + 1),\n",
    "            y=self.history.history['val_loss'], \n",
    "            mode='lines', \n",
    "            name='Validation Loss'\n",
    "        ))\n",
    "        fig.update_layout(\n",
    "            title='Training and Validation Loss Over Epochs',\n",
    "            xaxis_title='Epoch',\n",
    "            yaxis_title='Loss',\n",
    "            legend_title='Type of Loss',\n",
    "            font=dict(family=\"Cambria\", size=18)\n",
    "        )\n",
    "        fig.show()\n",
    "\n",
    "    def plot_predictions(self):\n",
    "        normalized_train = self.compute_cumulative_returns(self.weighted_returns_train, 100)\n",
    "        training_end_value = normalized_train.iloc[-1]\n",
    "        test_first_day = self.y_test[:, 0]\n",
    "        normalized_test = self.compute_cumulative_returns(test_first_day, training_end_value)\n",
    "        predicted_first_day = self.predictions[:, 0]\n",
    "        normalized_predicted = self.compute_cumulative_returns(predicted_first_day, training_end_value)\n",
    "\n",
    "        fig = go.Figure()\n",
    "        fig.add_trace(go.Scatter(\n",
    "            x=self.raw_data_train.index[self.lookback:], \n",
    "            y=normalized_train,\n",
    "            mode='lines',\n",
    "            name='Actual Training Returns'\n",
    "        ))\n",
    "        fig.add_trace(go.Scatter(\n",
    "            x=self.raw_data_test.index,\n",
    "            y=normalized_test,\n",
    "            mode='lines',\n",
    "            name='Actual Test Returns'\n",
    "        ))\n",
    "        fig.add_trace(go.Scatter(\n",
    "            x=self.raw_data_test.index,\n",
    "            y=normalized_predicted,\n",
    "            mode='lines',\n",
    "            name='Predicted Returns'\n",
    "        ))\n",
    "        fig.update_layout(\n",
    "            title='Actual vs Predicted Returns',\n",
    "            xaxis_title='Date',\n",
    "            yaxis_title='Cumulative Returns',\n",
    "            legend_title='Portfolio',\n",
    "            font=dict(family=\"Cambria\", size=18)\n",
    "        )\n",
    "        fig.show()\n",
    "\n",
    "    def compute_performance(self):\n",
    "        actual = self.y_test.flatten()\n",
    "        predicted = self.predictions.flatten()\n",
    "        percentage_diff = np.abs((predicted - actual) / actual) * 100\n",
    "        mean_percentage_error = np.mean(percentage_diff)\n",
    "        accuracy = 100 - mean_percentage_error\n",
    "        print(f\"Mean Percentage Error: {mean_percentage_error}%, Accuracy: {accuracy}%\")\n",
    "        return mean_percentage_error, accuracy"
   ]
  },
  {
   "cell_type": "code",
   "execution_count": null,
   "metadata": {},
   "outputs": [
    {
     "name": "stdout",
     "output_type": "stream",
     "text": [
      "\u001b[1m20/20\u001b[0m \u001b[32m━━━━━━━━━━━━━━━━━━━━\u001b[0m\u001b[37m\u001b[0m \u001b[1m0s\u001b[0m 14ms/step\n"
     ]
    },
    {
     "data": {
      "application/vnd.plotly.v1+json": {
       "config": {
        "plotlyServerURL": "https://plotly.com"
       },
       "data": [
        {
         "mode": "lines",
         "name": "Training Loss",
         "type": "scatter",
         "x": {
          "bdata": "AQIDBAUGBwgJCgsMDQ4PEBESExQVFhcYGRobHB0eHyAhIiMkJSYnKCkqKywtLi8wMTI=",
          "dtype": "i1"
         },
         "y": [
          0.009081189520657063,
          0.011209763586521149,
          0.008787424303591251,
          0.0058786687441170216,
          0.003025518963113427,
          0.004486380610615015,
          0.005043984390795231,
          0.003943299409002066,
          0.002469631377607584,
          0.001923191943205893,
          0.0020363086368888617,
          0.0019427180523052812,
          0.002025172347202897,
          0.001924406155012548,
          0.0022195358760654926,
          0.0027290466241538525,
          0.0024663517251610756,
          0.0022818692959845066,
          0.0022802676539868116,
          0.0019858037121593952,
          0.0017341370694339275,
          0.001691207755357027,
          0.0017003131797537208,
          0.0018812057096511126,
          0.001573929563164711,
          0.0018432176439091563,
          0.0022418249864131212,
          0.0016648585442453623,
          0.0015408508479595184,
          0.001312685664743185,
          0.0013287595938891172,
          0.0012611200800165534,
          0.0011352982837706804,
          0.001120219356380403,
          0.0010777167044579983,
          0.0011119905393570662,
          0.0013798949075862765,
          0.0011992274085059762,
          0.0012406164314597845,
          0.0011321180500090122,
          0.0011288502719253302,
          0.0010721883736550808,
          0.0010946592083200812,
          0.0010796033311635256,
          0.0009472971432842314,
          0.0010770567459985614,
          0.0010536437621340156,
          0.000975923438090831,
          0.0009500281303189695,
          0.0008917114464566112
         ]
        },
        {
         "mode": "lines",
         "name": "Validation Loss",
         "type": "scatter",
         "x": {
          "bdata": "AQIDBAUGBwgJCgsMDQ4PEBESExQVFhcYGRobHB0eHyAhIiMkJSYnKCkqKywtLi8wMTI=",
          "dtype": "i1"
         },
         "y": [
          0.0028507220558822155,
          0.0012291871244087815,
          0.00197134492918849,
          0.0007579873199574649,
          0.0010340886656194925,
          0.0027068178169429302,
          0.006170765496790409,
          0.0071402848698198795,
          0.0036954544484615326,
          0.0014696348225697875,
          0.0013937436742708087,
          0.002049122704192996,
          0.0014995147939771414,
          0.0006525503704324365,
          0.0014813665766268969,
          0.0032804806251078844,
          0.0024819152895361185,
          0.00281328521668911,
          0.0025272464845329523,
          0.0020967237651348114,
          0.0018523938488215208,
          0.0013648299500346184,
          0.001392809092067182,
          0.0025289268232882023,
          0.0015954626724123955,
          0.0015789488097652793,
          0.002685521962121129,
          0.002955085365101695,
          0.0014551614876836538,
          0.001458918210119009,
          0.0012510429369285703,
          0.001146072754636407,
          0.0014395297039300203,
          0.0008407106506638229,
          0.0003362037823535502,
          0.0005122633301652968,
          0.001602465519681573,
          0.0007869495311751962,
          0.0011953155044466257,
          0.0007758484571240842,
          0.0009771351469680667,
          0.0011411717860028148,
          0.0016532095614820719,
          0.0009554408607073128,
          0.0005328617407940328,
          0.0010961262742057443,
          0.001115530845709145,
          0.0008776098256930709,
          0.00048346800031140447,
          0.00039659725734964013
         ]
        }
       ],
       "layout": {
        "font": {
         "family": "Cambria",
         "size": 18
        },
        "legend": {
         "title": {
          "text": "Type of Loss"
         }
        },
        "template": {
         "data": {
          "bar": [
           {
            "error_x": {
             "color": "#2a3f5f"
            },
            "error_y": {
             "color": "#2a3f5f"
            },
            "marker": {
             "line": {
              "color": "#E5ECF6",
              "width": 0.5
             },
             "pattern": {
              "fillmode": "overlay",
              "size": 10,
              "solidity": 0.2
             }
            },
            "type": "bar"
           }
          ],
          "barpolar": [
           {
            "marker": {
             "line": {
              "color": "#E5ECF6",
              "width": 0.5
             },
             "pattern": {
              "fillmode": "overlay",
              "size": 10,
              "solidity": 0.2
             }
            },
            "type": "barpolar"
           }
          ],
          "carpet": [
           {
            "aaxis": {
             "endlinecolor": "#2a3f5f",
             "gridcolor": "white",
             "linecolor": "white",
             "minorgridcolor": "white",
             "startlinecolor": "#2a3f5f"
            },
            "baxis": {
             "endlinecolor": "#2a3f5f",
             "gridcolor": "white",
             "linecolor": "white",
             "minorgridcolor": "white",
             "startlinecolor": "#2a3f5f"
            },
            "type": "carpet"
           }
          ],
          "choropleth": [
           {
            "colorbar": {
             "outlinewidth": 0,
             "ticks": ""
            },
            "type": "choropleth"
           }
          ],
          "contour": [
           {
            "colorbar": {
             "outlinewidth": 0,
             "ticks": ""
            },
            "colorscale": [
             [
              0,
              "#0d0887"
             ],
             [
              0.1111111111111111,
              "#46039f"
             ],
             [
              0.2222222222222222,
              "#7201a8"
             ],
             [
              0.3333333333333333,
              "#9c179e"
             ],
             [
              0.4444444444444444,
              "#bd3786"
             ],
             [
              0.5555555555555556,
              "#d8576b"
             ],
             [
              0.6666666666666666,
              "#ed7953"
             ],
             [
              0.7777777777777778,
              "#fb9f3a"
             ],
             [
              0.8888888888888888,
              "#fdca26"
             ],
             [
              1,
              "#f0f921"
             ]
            ],
            "type": "contour"
           }
          ],
          "contourcarpet": [
           {
            "colorbar": {
             "outlinewidth": 0,
             "ticks": ""
            },
            "type": "contourcarpet"
           }
          ],
          "heatmap": [
           {
            "colorbar": {
             "outlinewidth": 0,
             "ticks": ""
            },
            "colorscale": [
             [
              0,
              "#0d0887"
             ],
             [
              0.1111111111111111,
              "#46039f"
             ],
             [
              0.2222222222222222,
              "#7201a8"
             ],
             [
              0.3333333333333333,
              "#9c179e"
             ],
             [
              0.4444444444444444,
              "#bd3786"
             ],
             [
              0.5555555555555556,
              "#d8576b"
             ],
             [
              0.6666666666666666,
              "#ed7953"
             ],
             [
              0.7777777777777778,
              "#fb9f3a"
             ],
             [
              0.8888888888888888,
              "#fdca26"
             ],
             [
              1,
              "#f0f921"
             ]
            ],
            "type": "heatmap"
           }
          ],
          "histogram": [
           {
            "marker": {
             "pattern": {
              "fillmode": "overlay",
              "size": 10,
              "solidity": 0.2
             }
            },
            "type": "histogram"
           }
          ],
          "histogram2d": [
           {
            "colorbar": {
             "outlinewidth": 0,
             "ticks": ""
            },
            "colorscale": [
             [
              0,
              "#0d0887"
             ],
             [
              0.1111111111111111,
              "#46039f"
             ],
             [
              0.2222222222222222,
              "#7201a8"
             ],
             [
              0.3333333333333333,
              "#9c179e"
             ],
             [
              0.4444444444444444,
              "#bd3786"
             ],
             [
              0.5555555555555556,
              "#d8576b"
             ],
             [
              0.6666666666666666,
              "#ed7953"
             ],
             [
              0.7777777777777778,
              "#fb9f3a"
             ],
             [
              0.8888888888888888,
              "#fdca26"
             ],
             [
              1,
              "#f0f921"
             ]
            ],
            "type": "histogram2d"
           }
          ],
          "histogram2dcontour": [
           {
            "colorbar": {
             "outlinewidth": 0,
             "ticks": ""
            },
            "colorscale": [
             [
              0,
              "#0d0887"
             ],
             [
              0.1111111111111111,
              "#46039f"
             ],
             [
              0.2222222222222222,
              "#7201a8"
             ],
             [
              0.3333333333333333,
              "#9c179e"
             ],
             [
              0.4444444444444444,
              "#bd3786"
             ],
             [
              0.5555555555555556,
              "#d8576b"
             ],
             [
              0.6666666666666666,
              "#ed7953"
             ],
             [
              0.7777777777777778,
              "#fb9f3a"
             ],
             [
              0.8888888888888888,
              "#fdca26"
             ],
             [
              1,
              "#f0f921"
             ]
            ],
            "type": "histogram2dcontour"
           }
          ],
          "mesh3d": [
           {
            "colorbar": {
             "outlinewidth": 0,
             "ticks": ""
            },
            "type": "mesh3d"
           }
          ],
          "parcoords": [
           {
            "line": {
             "colorbar": {
              "outlinewidth": 0,
              "ticks": ""
             }
            },
            "type": "parcoords"
           }
          ],
          "pie": [
           {
            "automargin": true,
            "type": "pie"
           }
          ],
          "scatter": [
           {
            "fillpattern": {
             "fillmode": "overlay",
             "size": 10,
             "solidity": 0.2
            },
            "type": "scatter"
           }
          ],
          "scatter3d": [
           {
            "line": {
             "colorbar": {
              "outlinewidth": 0,
              "ticks": ""
             }
            },
            "marker": {
             "colorbar": {
              "outlinewidth": 0,
              "ticks": ""
             }
            },
            "type": "scatter3d"
           }
          ],
          "scattercarpet": [
           {
            "marker": {
             "colorbar": {
              "outlinewidth": 0,
              "ticks": ""
             }
            },
            "type": "scattercarpet"
           }
          ],
          "scattergeo": [
           {
            "marker": {
             "colorbar": {
              "outlinewidth": 0,
              "ticks": ""
             }
            },
            "type": "scattergeo"
           }
          ],
          "scattergl": [
           {
            "marker": {
             "colorbar": {
              "outlinewidth": 0,
              "ticks": ""
             }
            },
            "type": "scattergl"
           }
          ],
          "scattermap": [
           {
            "marker": {
             "colorbar": {
              "outlinewidth": 0,
              "ticks": ""
             }
            },
            "type": "scattermap"
           }
          ],
          "scattermapbox": [
           {
            "marker": {
             "colorbar": {
              "outlinewidth": 0,
              "ticks": ""
             }
            },
            "type": "scattermapbox"
           }
          ],
          "scatterpolar": [
           {
            "marker": {
             "colorbar": {
              "outlinewidth": 0,
              "ticks": ""
             }
            },
            "type": "scatterpolar"
           }
          ],
          "scatterpolargl": [
           {
            "marker": {
             "colorbar": {
              "outlinewidth": 0,
              "ticks": ""
             }
            },
            "type": "scatterpolargl"
           }
          ],
          "scatterternary": [
           {
            "marker": {
             "colorbar": {
              "outlinewidth": 0,
              "ticks": ""
             }
            },
            "type": "scatterternary"
           }
          ],
          "surface": [
           {
            "colorbar": {
             "outlinewidth": 0,
             "ticks": ""
            },
            "colorscale": [
             [
              0,
              "#0d0887"
             ],
             [
              0.1111111111111111,
              "#46039f"
             ],
             [
              0.2222222222222222,
              "#7201a8"
             ],
             [
              0.3333333333333333,
              "#9c179e"
             ],
             [
              0.4444444444444444,
              "#bd3786"
             ],
             [
              0.5555555555555556,
              "#d8576b"
             ],
             [
              0.6666666666666666,
              "#ed7953"
             ],
             [
              0.7777777777777778,
              "#fb9f3a"
             ],
             [
              0.8888888888888888,
              "#fdca26"
             ],
             [
              1,
              "#f0f921"
             ]
            ],
            "type": "surface"
           }
          ],
          "table": [
           {
            "cells": {
             "fill": {
              "color": "#EBF0F8"
             },
             "line": {
              "color": "white"
             }
            },
            "header": {
             "fill": {
              "color": "#C8D4E3"
             },
             "line": {
              "color": "white"
             }
            },
            "type": "table"
           }
          ]
         },
         "layout": {
          "annotationdefaults": {
           "arrowcolor": "#2a3f5f",
           "arrowhead": 0,
           "arrowwidth": 1
          },
          "autotypenumbers": "strict",
          "coloraxis": {
           "colorbar": {
            "outlinewidth": 0,
            "ticks": ""
           }
          },
          "colorscale": {
           "diverging": [
            [
             0,
             "#8e0152"
            ],
            [
             0.1,
             "#c51b7d"
            ],
            [
             0.2,
             "#de77ae"
            ],
            [
             0.3,
             "#f1b6da"
            ],
            [
             0.4,
             "#fde0ef"
            ],
            [
             0.5,
             "#f7f7f7"
            ],
            [
             0.6,
             "#e6f5d0"
            ],
            [
             0.7,
             "#b8e186"
            ],
            [
             0.8,
             "#7fbc41"
            ],
            [
             0.9,
             "#4d9221"
            ],
            [
             1,
             "#276419"
            ]
           ],
           "sequential": [
            [
             0,
             "#0d0887"
            ],
            [
             0.1111111111111111,
             "#46039f"
            ],
            [
             0.2222222222222222,
             "#7201a8"
            ],
            [
             0.3333333333333333,
             "#9c179e"
            ],
            [
             0.4444444444444444,
             "#bd3786"
            ],
            [
             0.5555555555555556,
             "#d8576b"
            ],
            [
             0.6666666666666666,
             "#ed7953"
            ],
            [
             0.7777777777777778,
             "#fb9f3a"
            ],
            [
             0.8888888888888888,
             "#fdca26"
            ],
            [
             1,
             "#f0f921"
            ]
           ],
           "sequentialminus": [
            [
             0,
             "#0d0887"
            ],
            [
             0.1111111111111111,
             "#46039f"
            ],
            [
             0.2222222222222222,
             "#7201a8"
            ],
            [
             0.3333333333333333,
             "#9c179e"
            ],
            [
             0.4444444444444444,
             "#bd3786"
            ],
            [
             0.5555555555555556,
             "#d8576b"
            ],
            [
             0.6666666666666666,
             "#ed7953"
            ],
            [
             0.7777777777777778,
             "#fb9f3a"
            ],
            [
             0.8888888888888888,
             "#fdca26"
            ],
            [
             1,
             "#f0f921"
            ]
           ]
          },
          "colorway": [
           "#636efa",
           "#EF553B",
           "#00cc96",
           "#ab63fa",
           "#FFA15A",
           "#19d3f3",
           "#FF6692",
           "#B6E880",
           "#FF97FF",
           "#FECB52"
          ],
          "font": {
           "color": "#2a3f5f"
          },
          "geo": {
           "bgcolor": "white",
           "lakecolor": "white",
           "landcolor": "#E5ECF6",
           "showlakes": true,
           "showland": true,
           "subunitcolor": "white"
          },
          "hoverlabel": {
           "align": "left"
          },
          "hovermode": "closest",
          "mapbox": {
           "style": "light"
          },
          "paper_bgcolor": "white",
          "plot_bgcolor": "#E5ECF6",
          "polar": {
           "angularaxis": {
            "gridcolor": "white",
            "linecolor": "white",
            "ticks": ""
           },
           "bgcolor": "#E5ECF6",
           "radialaxis": {
            "gridcolor": "white",
            "linecolor": "white",
            "ticks": ""
           }
          },
          "scene": {
           "xaxis": {
            "backgroundcolor": "#E5ECF6",
            "gridcolor": "white",
            "gridwidth": 2,
            "linecolor": "white",
            "showbackground": true,
            "ticks": "",
            "zerolinecolor": "white"
           },
           "yaxis": {
            "backgroundcolor": "#E5ECF6",
            "gridcolor": "white",
            "gridwidth": 2,
            "linecolor": "white",
            "showbackground": true,
            "ticks": "",
            "zerolinecolor": "white"
           },
           "zaxis": {
            "backgroundcolor": "#E5ECF6",
            "gridcolor": "white",
            "gridwidth": 2,
            "linecolor": "white",
            "showbackground": true,
            "ticks": "",
            "zerolinecolor": "white"
           }
          },
          "shapedefaults": {
           "line": {
            "color": "#2a3f5f"
           }
          },
          "ternary": {
           "aaxis": {
            "gridcolor": "white",
            "linecolor": "white",
            "ticks": ""
           },
           "baxis": {
            "gridcolor": "white",
            "linecolor": "white",
            "ticks": ""
           },
           "bgcolor": "#E5ECF6",
           "caxis": {
            "gridcolor": "white",
            "linecolor": "white",
            "ticks": ""
           }
          },
          "title": {
           "x": 0.05
          },
          "xaxis": {
           "automargin": true,
           "gridcolor": "white",
           "linecolor": "white",
           "ticks": "",
           "title": {
            "standoff": 15
           },
           "zerolinecolor": "white",
           "zerolinewidth": 2
          },
          "yaxis": {
           "automargin": true,
           "gridcolor": "white",
           "linecolor": "white",
           "ticks": "",
           "title": {
            "standoff": 15
           },
           "zerolinecolor": "white",
           "zerolinewidth": 2
          }
         }
        },
        "title": {
         "text": "Training and Validation Loss Over Epochs"
        },
        "xaxis": {
         "title": {
          "text": "Epoch"
         }
        },
        "yaxis": {
         "title": {
          "text": "Loss"
         }
        }
       }
      }
     },
     "metadata": {},
     "output_type": "display_data"
    },
    {
     "data": {
      "application/vnd.plotly.v1+json": {
       "config": {
        "plotlyServerURL": "https://plotly.com"
       },
       "data": [
        {
         "mode": "lines",
         "name": "Actual Training Returns",
         "type": "scatter",
         "x": [
          "2014-01-16T00:00:00.000000000",
          "2014-01-17T00:00:00.000000000",
          "2014-01-21T00:00:00.000000000",
          "2014-01-22T00:00:00.000000000",
          "2014-01-23T00:00:00.000000000",
          "2014-01-24T00:00:00.000000000",
          "2014-01-27T00:00:00.000000000",
          "2014-01-28T00:00:00.000000000",
          "2014-01-29T00:00:00.000000000",
          "2014-01-30T00:00:00.000000000",
          "2014-01-31T00:00:00.000000000",
          "2014-02-03T00:00:00.000000000",
          "2014-02-04T00:00:00.000000000",
          "2014-02-05T00:00:00.000000000",
          "2014-02-06T00:00:00.000000000",
          "2014-02-07T00:00:00.000000000",
          "2014-02-10T00:00:00.000000000",
          "2014-02-11T00:00:00.000000000",
          "2014-02-12T00:00:00.000000000",
          "2014-02-13T00:00:00.000000000",
          "2014-02-14T00:00:00.000000000",
          "2014-02-18T00:00:00.000000000",
          "2014-02-19T00:00:00.000000000",
          "2014-02-20T00:00:00.000000000",
          "2014-02-21T00:00:00.000000000",
          "2014-02-24T00:00:00.000000000",
          "2014-02-25T00:00:00.000000000",
          "2014-02-26T00:00:00.000000000",
          "2014-02-27T00:00:00.000000000",
          "2014-02-28T00:00:00.000000000",
          "2014-03-03T00:00:00.000000000",
          "2014-03-04T00:00:00.000000000",
          "2014-03-05T00:00:00.000000000",
          "2014-03-06T00:00:00.000000000",
          "2014-03-07T00:00:00.000000000",
          "2014-03-10T00:00:00.000000000",
          "2014-03-11T00:00:00.000000000",
          "2014-03-12T00:00:00.000000000",
          "2014-03-13T00:00:00.000000000",
          "2014-03-14T00:00:00.000000000",
          "2014-03-17T00:00:00.000000000",
          "2014-03-18T00:00:00.000000000",
          "2014-03-19T00:00:00.000000000",
          "2014-03-20T00:00:00.000000000",
          "2014-03-21T00:00:00.000000000",
          "2014-03-24T00:00:00.000000000",
          "2014-03-25T00:00:00.000000000",
          "2014-03-26T00:00:00.000000000",
          "2014-03-27T00:00:00.000000000",
          "2014-03-28T00:00:00.000000000",
          "2014-03-31T00:00:00.000000000",
          "2014-04-01T00:00:00.000000000",
          "2014-04-02T00:00:00.000000000",
          "2014-04-03T00:00:00.000000000",
          "2014-04-04T00:00:00.000000000",
          "2014-04-07T00:00:00.000000000",
          "2014-04-08T00:00:00.000000000",
          "2014-04-09T00:00:00.000000000",
          "2014-04-10T00:00:00.000000000",
          "2014-04-11T00:00:00.000000000",
          "2014-04-14T00:00:00.000000000",
          "2014-04-15T00:00:00.000000000",
          "2014-04-16T00:00:00.000000000",
          "2014-04-17T00:00:00.000000000",
          "2014-04-21T00:00:00.000000000",
          "2014-04-22T00:00:00.000000000",
          "2014-04-23T00:00:00.000000000",
          "2014-04-24T00:00:00.000000000",
          "2014-04-25T00:00:00.000000000",
          "2014-04-28T00:00:00.000000000",
          "2014-04-29T00:00:00.000000000",
          "2014-04-30T00:00:00.000000000",
          "2014-05-01T00:00:00.000000000",
          "2014-05-02T00:00:00.000000000",
          "2014-05-05T00:00:00.000000000",
          "2014-05-06T00:00:00.000000000",
          "2014-05-07T00:00:00.000000000",
          "2014-05-08T00:00:00.000000000",
          "2014-05-09T00:00:00.000000000",
          "2014-05-12T00:00:00.000000000",
          "2014-05-13T00:00:00.000000000",
          "2014-05-14T00:00:00.000000000",
          "2014-05-15T00:00:00.000000000",
          "2014-05-16T00:00:00.000000000",
          "2014-05-19T00:00:00.000000000",
          "2014-05-20T00:00:00.000000000",
          "2014-05-21T00:00:00.000000000",
          "2014-05-22T00:00:00.000000000",
          "2014-05-23T00:00:00.000000000",
          "2014-05-27T00:00:00.000000000",
          "2014-05-28T00:00:00.000000000",
          "2014-05-29T00:00:00.000000000",
          "2014-05-30T00:00:00.000000000",
          "2014-06-02T00:00:00.000000000",
          "2014-06-03T00:00:00.000000000",
          "2014-06-04T00:00:00.000000000",
          "2014-06-05T00:00:00.000000000",
          "2014-06-06T00:00:00.000000000",
          "2014-06-09T00:00:00.000000000",
          "2014-06-10T00:00:00.000000000",
          "2014-06-11T00:00:00.000000000",
          "2014-06-12T00:00:00.000000000",
          "2014-06-13T00:00:00.000000000",
          "2014-06-16T00:00:00.000000000",
          "2014-06-17T00:00:00.000000000",
          "2014-06-18T00:00:00.000000000",
          "2014-06-19T00:00:00.000000000",
          "2014-06-20T00:00:00.000000000",
          "2014-06-23T00:00:00.000000000",
          "2014-06-24T00:00:00.000000000",
          "2014-06-25T00:00:00.000000000",
          "2014-06-26T00:00:00.000000000",
          "2014-06-27T00:00:00.000000000",
          "2014-06-30T00:00:00.000000000",
          "2014-07-01T00:00:00.000000000",
          "2014-07-02T00:00:00.000000000",
          "2014-07-03T00:00:00.000000000",
          "2014-07-07T00:00:00.000000000",
          "2014-07-08T00:00:00.000000000",
          "2014-07-09T00:00:00.000000000",
          "2014-07-10T00:00:00.000000000",
          "2014-07-11T00:00:00.000000000",
          "2014-07-14T00:00:00.000000000",
          "2014-07-15T00:00:00.000000000",
          "2014-07-16T00:00:00.000000000",
          "2014-07-17T00:00:00.000000000",
          "2014-07-18T00:00:00.000000000",
          "2014-07-21T00:00:00.000000000",
          "2014-07-22T00:00:00.000000000",
          "2014-07-23T00:00:00.000000000",
          "2014-07-24T00:00:00.000000000",
          "2014-07-25T00:00:00.000000000",
          "2014-07-28T00:00:00.000000000",
          "2014-07-29T00:00:00.000000000",
          "2014-07-30T00:00:00.000000000",
          "2014-07-31T00:00:00.000000000",
          "2014-08-01T00:00:00.000000000",
          "2014-08-04T00:00:00.000000000",
          "2014-08-05T00:00:00.000000000",
          "2014-08-06T00:00:00.000000000",
          "2014-08-07T00:00:00.000000000",
          "2014-08-08T00:00:00.000000000",
          "2014-08-11T00:00:00.000000000",
          "2014-08-12T00:00:00.000000000",
          "2014-08-13T00:00:00.000000000",
          "2014-08-14T00:00:00.000000000",
          "2014-08-15T00:00:00.000000000",
          "2014-08-18T00:00:00.000000000",
          "2014-08-19T00:00:00.000000000",
          "2014-08-20T00:00:00.000000000",
          "2014-08-21T00:00:00.000000000",
          "2014-08-22T00:00:00.000000000",
          "2014-08-25T00:00:00.000000000",
          "2014-08-26T00:00:00.000000000",
          "2014-08-27T00:00:00.000000000",
          "2014-08-28T00:00:00.000000000",
          "2014-08-29T00:00:00.000000000",
          "2014-09-02T00:00:00.000000000",
          "2014-09-03T00:00:00.000000000",
          "2014-09-04T00:00:00.000000000",
          "2014-09-05T00:00:00.000000000",
          "2014-09-08T00:00:00.000000000",
          "2014-09-09T00:00:00.000000000",
          "2014-09-10T00:00:00.000000000",
          "2014-09-11T00:00:00.000000000",
          "2014-09-12T00:00:00.000000000",
          "2014-09-15T00:00:00.000000000",
          "2014-09-16T00:00:00.000000000",
          "2014-09-17T00:00:00.000000000",
          "2014-09-18T00:00:00.000000000",
          "2014-09-19T00:00:00.000000000",
          "2014-09-22T00:00:00.000000000",
          "2014-09-23T00:00:00.000000000",
          "2014-09-24T00:00:00.000000000",
          "2014-09-25T00:00:00.000000000",
          "2014-09-26T00:00:00.000000000",
          "2014-09-29T00:00:00.000000000",
          "2014-09-30T00:00:00.000000000",
          "2014-10-01T00:00:00.000000000",
          "2014-10-02T00:00:00.000000000",
          "2014-10-03T00:00:00.000000000",
          "2014-10-06T00:00:00.000000000",
          "2014-10-07T00:00:00.000000000",
          "2014-10-08T00:00:00.000000000",
          "2014-10-09T00:00:00.000000000",
          "2014-10-10T00:00:00.000000000",
          "2014-10-13T00:00:00.000000000",
          "2014-10-14T00:00:00.000000000",
          "2014-10-15T00:00:00.000000000",
          "2014-10-16T00:00:00.000000000",
          "2014-10-17T00:00:00.000000000",
          "2014-10-20T00:00:00.000000000",
          "2014-10-21T00:00:00.000000000",
          "2014-10-22T00:00:00.000000000",
          "2014-10-23T00:00:00.000000000",
          "2014-10-24T00:00:00.000000000",
          "2014-10-27T00:00:00.000000000",
          "2014-10-28T00:00:00.000000000",
          "2014-10-29T00:00:00.000000000",
          "2014-10-30T00:00:00.000000000",
          "2014-10-31T00:00:00.000000000",
          "2014-11-03T00:00:00.000000000",
          "2014-11-04T00:00:00.000000000",
          "2014-11-05T00:00:00.000000000",
          "2014-11-06T00:00:00.000000000",
          "2014-11-07T00:00:00.000000000",
          "2014-11-10T00:00:00.000000000",
          "2014-11-11T00:00:00.000000000",
          "2014-11-12T00:00:00.000000000",
          "2014-11-13T00:00:00.000000000",
          "2014-11-14T00:00:00.000000000",
          "2014-11-17T00:00:00.000000000",
          "2014-11-18T00:00:00.000000000",
          "2014-11-19T00:00:00.000000000",
          "2014-11-20T00:00:00.000000000",
          "2014-11-21T00:00:00.000000000",
          "2014-11-24T00:00:00.000000000",
          "2014-11-25T00:00:00.000000000",
          "2014-11-26T00:00:00.000000000",
          "2014-11-28T00:00:00.000000000",
          "2014-12-01T00:00:00.000000000",
          "2014-12-02T00:00:00.000000000",
          "2014-12-03T00:00:00.000000000",
          "2014-12-04T00:00:00.000000000",
          "2014-12-05T00:00:00.000000000",
          "2014-12-08T00:00:00.000000000",
          "2014-12-09T00:00:00.000000000",
          "2014-12-10T00:00:00.000000000",
          "2014-12-11T00:00:00.000000000",
          "2014-12-12T00:00:00.000000000",
          "2014-12-15T00:00:00.000000000",
          "2014-12-16T00:00:00.000000000",
          "2014-12-17T00:00:00.000000000",
          "2014-12-18T00:00:00.000000000",
          "2014-12-19T00:00:00.000000000",
          "2014-12-22T00:00:00.000000000",
          "2014-12-23T00:00:00.000000000",
          "2014-12-24T00:00:00.000000000",
          "2014-12-26T00:00:00.000000000",
          "2014-12-29T00:00:00.000000000",
          "2014-12-30T00:00:00.000000000",
          "2014-12-31T00:00:00.000000000",
          "2015-01-02T00:00:00.000000000",
          "2015-01-05T00:00:00.000000000",
          "2015-01-06T00:00:00.000000000",
          "2015-01-07T00:00:00.000000000",
          "2015-01-08T00:00:00.000000000",
          "2015-01-09T00:00:00.000000000",
          "2015-01-12T00:00:00.000000000",
          "2015-01-13T00:00:00.000000000",
          "2015-01-14T00:00:00.000000000",
          "2015-01-15T00:00:00.000000000",
          "2015-01-16T00:00:00.000000000",
          "2015-01-20T00:00:00.000000000",
          "2015-01-21T00:00:00.000000000",
          "2015-01-22T00:00:00.000000000",
          "2015-01-23T00:00:00.000000000",
          "2015-01-26T00:00:00.000000000",
          "2015-01-27T00:00:00.000000000",
          "2015-01-28T00:00:00.000000000",
          "2015-01-29T00:00:00.000000000",
          "2015-01-30T00:00:00.000000000",
          "2015-02-02T00:00:00.000000000",
          "2015-02-03T00:00:00.000000000",
          "2015-02-04T00:00:00.000000000",
          "2015-02-05T00:00:00.000000000",
          "2015-02-06T00:00:00.000000000",
          "2015-02-09T00:00:00.000000000",
          "2015-02-10T00:00:00.000000000",
          "2015-02-11T00:00:00.000000000",
          "2015-02-12T00:00:00.000000000",
          "2015-02-13T00:00:00.000000000",
          "2015-02-17T00:00:00.000000000",
          "2015-02-18T00:00:00.000000000",
          "2015-02-19T00:00:00.000000000",
          "2015-02-20T00:00:00.000000000",
          "2015-02-23T00:00:00.000000000",
          "2015-02-24T00:00:00.000000000",
          "2015-02-25T00:00:00.000000000",
          "2015-02-26T00:00:00.000000000",
          "2015-02-27T00:00:00.000000000",
          "2015-03-02T00:00:00.000000000",
          "2015-03-03T00:00:00.000000000",
          "2015-03-04T00:00:00.000000000",
          "2015-03-05T00:00:00.000000000",
          "2015-03-06T00:00:00.000000000",
          "2015-03-09T00:00:00.000000000",
          "2015-03-10T00:00:00.000000000",
          "2015-03-11T00:00:00.000000000",
          "2015-03-12T00:00:00.000000000",
          "2015-03-13T00:00:00.000000000",
          "2015-03-16T00:00:00.000000000",
          "2015-03-17T00:00:00.000000000",
          "2015-03-18T00:00:00.000000000",
          "2015-03-19T00:00:00.000000000",
          "2015-03-20T00:00:00.000000000",
          "2015-03-23T00:00:00.000000000",
          "2015-03-24T00:00:00.000000000",
          "2015-03-25T00:00:00.000000000",
          "2015-03-26T00:00:00.000000000",
          "2015-03-27T00:00:00.000000000",
          "2015-03-30T00:00:00.000000000",
          "2015-03-31T00:00:00.000000000",
          "2015-04-01T00:00:00.000000000",
          "2015-04-02T00:00:00.000000000",
          "2015-04-06T00:00:00.000000000",
          "2015-04-07T00:00:00.000000000",
          "2015-04-08T00:00:00.000000000",
          "2015-04-09T00:00:00.000000000",
          "2015-04-10T00:00:00.000000000",
          "2015-04-13T00:00:00.000000000",
          "2015-04-14T00:00:00.000000000",
          "2015-04-15T00:00:00.000000000",
          "2015-04-16T00:00:00.000000000",
          "2015-04-17T00:00:00.000000000",
          "2015-04-20T00:00:00.000000000",
          "2015-04-21T00:00:00.000000000",
          "2015-04-22T00:00:00.000000000",
          "2015-04-23T00:00:00.000000000",
          "2015-04-24T00:00:00.000000000",
          "2015-04-27T00:00:00.000000000",
          "2015-04-28T00:00:00.000000000",
          "2015-04-29T00:00:00.000000000",
          "2015-04-30T00:00:00.000000000",
          "2015-05-01T00:00:00.000000000",
          "2015-05-04T00:00:00.000000000",
          "2015-05-05T00:00:00.000000000",
          "2015-05-06T00:00:00.000000000",
          "2015-05-07T00:00:00.000000000",
          "2015-05-08T00:00:00.000000000",
          "2015-05-11T00:00:00.000000000",
          "2015-05-12T00:00:00.000000000",
          "2015-05-13T00:00:00.000000000",
          "2015-05-14T00:00:00.000000000",
          "2015-05-15T00:00:00.000000000",
          "2015-05-18T00:00:00.000000000",
          "2015-05-19T00:00:00.000000000",
          "2015-05-20T00:00:00.000000000",
          "2015-05-21T00:00:00.000000000",
          "2015-05-22T00:00:00.000000000",
          "2015-05-26T00:00:00.000000000",
          "2015-05-27T00:00:00.000000000",
          "2015-05-28T00:00:00.000000000",
          "2015-05-29T00:00:00.000000000",
          "2015-06-01T00:00:00.000000000",
          "2015-06-02T00:00:00.000000000",
          "2015-06-03T00:00:00.000000000",
          "2015-06-04T00:00:00.000000000",
          "2015-06-05T00:00:00.000000000",
          "2015-06-08T00:00:00.000000000",
          "2015-06-09T00:00:00.000000000",
          "2015-06-10T00:00:00.000000000",
          "2015-06-11T00:00:00.000000000",
          "2015-06-12T00:00:00.000000000",
          "2015-06-15T00:00:00.000000000",
          "2015-06-16T00:00:00.000000000",
          "2015-06-17T00:00:00.000000000",
          "2015-06-18T00:00:00.000000000",
          "2015-06-19T00:00:00.000000000",
          "2015-06-22T00:00:00.000000000",
          "2015-06-23T00:00:00.000000000",
          "2015-06-24T00:00:00.000000000",
          "2015-06-25T00:00:00.000000000",
          "2015-06-26T00:00:00.000000000",
          "2015-06-29T00:00:00.000000000",
          "2015-06-30T00:00:00.000000000",
          "2015-07-01T00:00:00.000000000",
          "2015-07-02T00:00:00.000000000",
          "2015-07-06T00:00:00.000000000",
          "2015-07-07T00:00:00.000000000",
          "2015-07-08T00:00:00.000000000",
          "2015-07-09T00:00:00.000000000",
          "2015-07-10T00:00:00.000000000",
          "2015-07-13T00:00:00.000000000",
          "2015-07-14T00:00:00.000000000",
          "2015-07-15T00:00:00.000000000",
          "2015-07-16T00:00:00.000000000",
          "2015-07-17T00:00:00.000000000",
          "2015-07-20T00:00:00.000000000",
          "2015-07-21T00:00:00.000000000",
          "2015-07-22T00:00:00.000000000",
          "2015-07-23T00:00:00.000000000",
          "2015-07-24T00:00:00.000000000",
          "2015-07-27T00:00:00.000000000",
          "2015-07-28T00:00:00.000000000",
          "2015-07-29T00:00:00.000000000",
          "2015-07-30T00:00:00.000000000",
          "2015-07-31T00:00:00.000000000",
          "2015-08-03T00:00:00.000000000",
          "2015-08-04T00:00:00.000000000",
          "2015-08-05T00:00:00.000000000",
          "2015-08-06T00:00:00.000000000",
          "2015-08-07T00:00:00.000000000",
          "2015-08-10T00:00:00.000000000",
          "2015-08-11T00:00:00.000000000",
          "2015-08-12T00:00:00.000000000",
          "2015-08-13T00:00:00.000000000",
          "2015-08-14T00:00:00.000000000",
          "2015-08-17T00:00:00.000000000",
          "2015-08-18T00:00:00.000000000",
          "2015-08-19T00:00:00.000000000",
          "2015-08-20T00:00:00.000000000",
          "2015-08-21T00:00:00.000000000",
          "2015-08-24T00:00:00.000000000",
          "2015-08-25T00:00:00.000000000",
          "2015-08-26T00:00:00.000000000",
          "2015-08-27T00:00:00.000000000",
          "2015-08-28T00:00:00.000000000",
          "2015-08-31T00:00:00.000000000",
          "2015-09-01T00:00:00.000000000",
          "2015-09-02T00:00:00.000000000",
          "2015-09-03T00:00:00.000000000",
          "2015-09-04T00:00:00.000000000",
          "2015-09-08T00:00:00.000000000",
          "2015-09-09T00:00:00.000000000",
          "2015-09-10T00:00:00.000000000",
          "2015-09-11T00:00:00.000000000",
          "2015-09-14T00:00:00.000000000",
          "2015-09-15T00:00:00.000000000",
          "2015-09-16T00:00:00.000000000",
          "2015-09-17T00:00:00.000000000",
          "2015-09-18T00:00:00.000000000",
          "2015-09-21T00:00:00.000000000",
          "2015-09-22T00:00:00.000000000",
          "2015-09-23T00:00:00.000000000",
          "2015-09-24T00:00:00.000000000",
          "2015-09-25T00:00:00.000000000",
          "2015-09-28T00:00:00.000000000",
          "2015-09-29T00:00:00.000000000",
          "2015-09-30T00:00:00.000000000",
          "2015-10-01T00:00:00.000000000",
          "2015-10-02T00:00:00.000000000",
          "2015-10-05T00:00:00.000000000",
          "2015-10-06T00:00:00.000000000",
          "2015-10-07T00:00:00.000000000",
          "2015-10-08T00:00:00.000000000",
          "2015-10-09T00:00:00.000000000",
          "2015-10-12T00:00:00.000000000",
          "2015-10-13T00:00:00.000000000",
          "2015-10-14T00:00:00.000000000",
          "2015-10-15T00:00:00.000000000",
          "2015-10-16T00:00:00.000000000",
          "2015-10-19T00:00:00.000000000",
          "2015-10-20T00:00:00.000000000",
          "2015-10-21T00:00:00.000000000",
          "2015-10-22T00:00:00.000000000",
          "2015-10-23T00:00:00.000000000",
          "2015-10-26T00:00:00.000000000",
          "2015-10-27T00:00:00.000000000",
          "2015-10-28T00:00:00.000000000",
          "2015-10-29T00:00:00.000000000",
          "2015-10-30T00:00:00.000000000",
          "2015-11-02T00:00:00.000000000",
          "2015-11-03T00:00:00.000000000",
          "2015-11-04T00:00:00.000000000",
          "2015-11-05T00:00:00.000000000",
          "2015-11-06T00:00:00.000000000",
          "2015-11-09T00:00:00.000000000",
          "2015-11-10T00:00:00.000000000",
          "2015-11-11T00:00:00.000000000",
          "2015-11-12T00:00:00.000000000",
          "2015-11-13T00:00:00.000000000",
          "2015-11-16T00:00:00.000000000",
          "2015-11-17T00:00:00.000000000",
          "2015-11-18T00:00:00.000000000",
          "2015-11-19T00:00:00.000000000",
          "2015-11-20T00:00:00.000000000",
          "2015-11-23T00:00:00.000000000",
          "2015-11-24T00:00:00.000000000",
          "2015-11-25T00:00:00.000000000",
          "2015-11-27T00:00:00.000000000",
          "2015-11-30T00:00:00.000000000",
          "2015-12-01T00:00:00.000000000",
          "2015-12-02T00:00:00.000000000",
          "2015-12-03T00:00:00.000000000",
          "2015-12-04T00:00:00.000000000",
          "2015-12-07T00:00:00.000000000",
          "2015-12-08T00:00:00.000000000",
          "2015-12-09T00:00:00.000000000",
          "2015-12-10T00:00:00.000000000",
          "2015-12-11T00:00:00.000000000",
          "2015-12-14T00:00:00.000000000",
          "2015-12-15T00:00:00.000000000",
          "2015-12-16T00:00:00.000000000",
          "2015-12-17T00:00:00.000000000",
          "2015-12-18T00:00:00.000000000",
          "2015-12-21T00:00:00.000000000",
          "2015-12-22T00:00:00.000000000",
          "2015-12-23T00:00:00.000000000",
          "2015-12-24T00:00:00.000000000",
          "2015-12-28T00:00:00.000000000",
          "2015-12-29T00:00:00.000000000",
          "2015-12-30T00:00:00.000000000",
          "2015-12-31T00:00:00.000000000"
         ],
         "y": {
          "bdata": "AAAAAAAAWUB4JrioTqJdQLMu4wuvklZA8ZMOKNYsW0Ddyxu7eqhZQL7CPY+Se1tASDc0BnfaZUDqh8RH5ehnQHmgMK17HmxAn4FA1GDtbEB7FCZY7LpuQDtj4UqyYXBAf3XyWuKTc0CW8CY+vMp1QK0Q34YP2XRAJD7gfObWcUDaJJprfwtwQEq7ssp9R3NASQrqM0PTckCyu51+HQR2QPRxS1gxJXdA7Nfnb3jFcEDvxWn9RdpyQJ5VisZO+nBA6fUdx1y7dkBHotBR9Np4QMa+HTFaAnpAl7FQaFo1eUAXDiJJZlR5QItpW5/4a3tAnJFM7MyPe0DCX/CtNBR9QJJOglEQ4npAtxlKOwxHf0DU4aPCf/SAQEC3e1r40IBA9LW8W4TLgkAWYPq74pGCQAZ4LkKCioNAr1nMEaJJg0DpVMf5WKmCQCCTv2cksIRAi6zfbm8qhEB2bMZldSqDQO7gTdvgnYJAm1ANgUlAgkDVI3Pli96DQPQzUa7Fu4NA7hiYw6JWg0Dv90M+TZGDQKlcjbGioINA/xE8JLRXhEBZBGuqPkuCQJWHCbL5V4NAv5rihcj/g0A73dUTfGyDQBj9fAJtXYNA0+M80PF/gUBSwcbUzZuBQLLOoehOxoJAuMaqitimg0B/rOJ7CoOEQB7DKKOC14VAoso99icfhkDyqOfYNTuFQAaMZVqV9INAeUEAhpvCg0D5KLrcUgqEQMvANGDDCYJAtoiSm18GgUCoz6ZX12qCQOakpNNdiYNARlZs6bhIhEB5hIQW8piDQJoFyzx2IIRA55SWEnvhhEDKuH9VtRGEQBmpqMeRZYRAU+7uTfbvg0BFMvckbFSEQBAeI8ZrHYRAykqKsQiahEC6a3UehCiGQCQDan+UO4ZA1kxNoAzMhUDt1Hz8O7KFQEkNWw0CX4ZA4sSqZMLYhUCH3RvebG+GQP9v3RqKNodAIGsvAX+Ch0DeRTwnreuGQGoF2B4bqIVA/SUjGTVqh0Cj37ZWKGWHQFr0jAbxJodAO3E9Czimh0BzGEorjFWIQNJttW+lv4lArQJN+sd4iUBo5VMEHfWJQHdvEYO0T4tAptuV8yxui0CRcBb6w2WLQHQjAI58uotAnq5TdgNbjEAmBRZlz3WOQIiULiW3XY9A5zpSn8yZj0Cnagc9LvCPQMNvdH50gI9AwMEJCb00j0DSNT+g6EOPQN5xQA4XN5BA2FkuQG1dkEA82N20ewGRQM+yriBbSJFAm/EKIxEtkUDYbAkQlfmQQOwHCj4ci5BAnfbKSxqRkEBZVuV1rlGQQHUNf/EpTJBAKDAi5AUpkUCA3/oq+0KRQMADu3fOP5FAldSFmOEMkUDbDbFqraSQQGFaUipho5BAryehWiCokEA1v+Dcr+aQQOdI08V/QpFAFDr5J1s5kUArI41F5oSQQNJFtawwdpBAKSVne0ojj0B4fpUti6qQQKscVSSre5BAURNfWRXakEB1nDPSDHOQQAEghM3k1ZBAedtV2N6HkEB26GwpkB2QQOL2V3jPZI5A9BF83HHWjkB8wU8Iaz6MQPeQToCz8YpA90NCzCtkikCKAqLcVKGJQMC8iONbSopA4d5qFpjbiUAtkJdYe9OLQDMTcBFQ1otALTmrOh6ljEDd+O7EA4uOQOD7DPWRyY5AFEvRmiMCj0BEdJWhkkuQQHTtJUBmhJBAHGsU68idkEDEW/+1CnyQQFs1S63D949ACBDZv1MmkEDz9vZO1xmQQA1K3g1UGJBAYad8ht67j0BEiJBkXxOQQEHujIPzY5BArxGkHaqZkEDOdUzW95KQQF0aFq2G+pBAICl+7CXHkEBMZPLaGDSQQBW9GrjxAZBAhvSx1H5IkECCFt6kGp6NQHic+X7ULI5A/fn7mULUjkAN6ZsT1reOQASw0Z85dY1AzbxJ5vcOjUCUVL4W+u6LQC0hKpGEP4pAQIOTphNPi0DKGprzazmKQEyaFo/Eu4tAcuOR76vbi0DRiHP0p8yKQKEURYnd/IpA/p+sOHWdikBVDVjRfIuMQH0LGEnOcoxAZyjQCNhTikCoFHl5WLONQI02nYxAA41ATk//7XnLjUA7Qe3xV9eMQKqyVLXXXI5AMXpLsy7tjUD3Z8QxzY2OQFgQL4MmY49AZMeFDTiXkEA12iHOINeRQF6GRP+EdpFAr84Y2pRrkkCJZfGui9OSQFNYQuTM8JJAH5XLxxiBk0A0cNGY01eTQO8GpojyzZRAnvcz/VqRlUCs8U9t7z+WQBycrLsE/5VA+BO7Q3oalkBzlkPL8dOVQNAaZ1jLzZVAOoq9/f9NlkDQ20dHEd+VQGNtKl6VgZVAg8ot2hqElUCGXm4NNeWUQMIGdS2ggJVAZe9ZJsQulkCTVPkL9/uVQFSLMvI3e5VAmxRQAwz8lUAiKGEcO42WQEyDIc5ecJZAWXTnhvQNl0BN8/ZPndSXQH5aOvt4nJdA5XUbdadWmECaxT3LMbCYQBTlgBFlKplAhSTDqMCLmUB3HnyuTuuZQEphLbkYOJpA4UXBX0/gmEAAbu5ErRqZQHSusPinN5hAMuT3ekl3l0AOdG9gB2+XQNp8KTkhiJhAYhYLKHjimUA1ZlSfGVOZQGSz2a5EPppAMzRTOmRjmkDukGTWE26aQEU/utPAxppALiKAS9+Fm0C1JgTGQNKaQDBOvGh/35lAuE9T1dAfmkA+w916/yWaQO5bG21rZ5pAWnpI4Cy/m0BaH7wuFuKcQCKvoeroiJxAhf909YB5nEB/1yF0oNWcQCs5xTXrlp1AWgk1AxpmnUC4QyAKOiqeQPWaFkFp2p1AvtTkyaNbnkBIWaAgovufQJgA8qXW859ASl6ciyhCoEDmA+vQ/hWgQJ+xU2CW+p9ABIzvWnpWoEDCDMcTX8eeQPOGiHu/M59AkQySW5ujn0DYwnysfDufQMSr1cQSG6BAS5zF1GHbnkC29vqRCFKeQPV5VWMl0J5Ag1AqCMXrnkBm5duGnBqgQGSXBEsmkJ9AfP5G4V6bn0DmjrJzbYOfQNfZxGdKpJ9A/gpltwFVoEANgla4zIygQP/zasp3RaBAq1j7R6xloEC5nQf40x2gQPW9heOeQ6BAjLYsogy4oEDR3QT/F7qgQLM+RvMpeaBAnnrqcIeMoEAiqJIWZF2eQDmwBCf1B59AXHm3g9McnkDqwI8G7CWeQB70/K7isZ9Aq7OqNmv0nkCm3AmNOuifQBi1LyvevZ9Aw6k/5KecoEDxylOaFKagQI1W6watk6FAYRNDQVxpoUB7LCthORuhQLBT9evuXqBAXdFT7Lv9n0CLQZDj12qgQH7N8y/G7qBAG+ujeOF+oECdN67XKFWgQN0Ss9wvrKBAuWaD1J30oEAsOqynf4mgQG9EKmVAjqBAK9verxwooEAZ04oLxm2gQJnv74kRxZ9AZsm+U2eJn0DtdF/Zm1qfQCT2Y8G5XJ9A0lI5YOmXnkB6WcvpVz6fQBvQlkTmfJ9Apzhu+UG5n0CasQTmqNqfQNOVFlIUSKBAV6PMae2vn0DDBKmHWxOgQAO8n2DPsZ5AG7ng0RnTnkAxdd7Ut42fQPkB3Sh7759As+tV0v04nkAAyvlJaAOeQBgE+h1r/Z5AUvKERjU3oEDE2tKU9oqfQHjQ7X8kNp9A28aqYyqWnkD8PzXeTx+gQKSI7fxmbKBA32cqfCBaoED02hlGN0igQGh4/tzxN6BAjtYJIgnzn0DJQCp0KYOfQDj5mk2ARp9AUcxllnA4oEA+I18VjSegQMXQhJsru59AufRvaB7mn0Dv7Son5WOfQMMk0ZRzv55Aw2EWAd4tnkAlDnWsgaicQF/l/DNLypxA2ZkoXZlknECr2dJJMRCdQE7D+KBgm51AUCP3xrTpnEDg1g7y2W6cQGjB24iNtJxAqEXpfF+LnUDkRqAruXueQKQQ04xaeZ5A5LIfg1SSnkAl1OvewuKdQLoZIZovLZ1AzN0Yj6WKnEDIu8RE5eWcQByHwjy6HJtA6r45ZM5Im0DI++GraBScQKrKo4gQA5xAyPXg5GW1nEAXD63RjzueQJ42RlS5eJ1A1iCwjJsinUCdKx6fZB+eQI7RK8BAlZ5AJ9kEt6wIn0BFhXHdes+eQMquMfWMGqBA/hiGnEL/n0AClgf0EDOgQF9wKbeV3J9AEWOA3/xOoECz4tep6eSfQJK0d+kANKBA2pnXzQhLoEBqLST0O82gQIX3RdI4JKFAC7znHqjHoEB38rG/FuWgQLgWDqVjJKFAlU0ZjZnpoEAnTihH3PigQIA0nIKw2aBAlueAG4QSoUBjlroeqiuhQAA3mvHOSKFAHZnCjx1VoUBLQke9o2ehQPpw1hhz06FAakmQpFdMokCD7SsmpSyiQNMcAW9Z+6FAIwe/JTR/oUCAQxgAul+gQM98YnNkKJ1AwLsn/fhDm0B75NqbyZadQO9JZGNi+J5A6k5/ersZn0AqZQWBoFedQMKsTPqZT5tAsqVb866anEAGhLafHy+dQML3Gvx8KJtAZ/4SQZftnEBQCkg/ynWcQG2hVAU0oZxAcfjMOVetnUA6pcCG2OedQIkJBqzxeZ9AC0bD1TZPoECKvNY5Z2+gQB4mdcYJAKBAXhK3czRooEBvNT9DLzSfQL5zGeRNKqBAuqxXZMkDoEBQ9Otq3rGfQJX23/tBvZ1AesR+BcUenUAOc+yzTsWdQNL1VpO9DJ5AlJGleiGznkDD92zNxS+gQDMxDr2c7p9Ak5sJoelioEDIZHr4zSehQBMN3b2+EaFAs4UcsnRBoUDF4FM77ZqhQGh1Vv5odaFA2DBouZMYokAX/vDtO2+iQMSkF7tG46JAZsOKgEtGo0Dqrqbvl/yiQA+DoTnoT6NAkYSobpIFo0DXi0Fa7QqjQJpPQxlDGqNAYaE4maV+o0DhcHfdYESjQEXoPWkQI6NAViA7UgLQo0BlUC2t+vuiQDvsPo4J5aJAKS8/fAsho0BOrSMMju+hQKhQnVVee6FARWcIE2a3oUCYHKHK70OiQHmdIagx96FA1H6dfj5XoUBZNjtDqAKiQInuK1Xl0aFALmFxj399okCSW1WkEASjQB41YNObEKNAoFib15URo0BpWHlLY+GiQNTnrM2EJaNATdaDKAyto0CqXr/bP4qjQLgjXeTz/KNAb6KTQi1To0CmAPNf8JSiQHxCvL/oeqNAKpzlkHkmo0BY7oM9Qh+jQAdz49wkgKJAOkh9Dq8/okDGbFpiXe6hQO9IAqDFPaJAKWhVEEaSokB++vtnx5qjQI6xuaJDWKNARchI3VnPokDBAw3FDuKiQG9/dhv8MqNAyMV+IOeao0B/pfsxMISjQNq1ENoc7qNABe88EXxopEATvJ6E3CqkQNSOZdIHlaNA",
          "dtype": "f8"
         }
        },
        {
         "mode": "lines",
         "name": "Actual Test Returns",
         "type": "scatter",
         "x": [
          "2016-01-04T00:00:00.000000000",
          "2016-01-05T00:00:00.000000000",
          "2016-01-06T00:00:00.000000000",
          "2016-01-07T00:00:00.000000000",
          "2016-01-08T00:00:00.000000000",
          "2016-01-11T00:00:00.000000000",
          "2016-01-12T00:00:00.000000000",
          "2016-01-13T00:00:00.000000000",
          "2016-01-14T00:00:00.000000000",
          "2016-01-15T00:00:00.000000000",
          "2016-01-19T00:00:00.000000000",
          "2016-01-20T00:00:00.000000000",
          "2016-01-21T00:00:00.000000000",
          "2016-01-22T00:00:00.000000000",
          "2016-01-25T00:00:00.000000000",
          "2016-01-26T00:00:00.000000000",
          "2016-01-27T00:00:00.000000000",
          "2016-01-28T00:00:00.000000000",
          "2016-01-29T00:00:00.000000000",
          "2016-02-01T00:00:00.000000000",
          "2016-02-02T00:00:00.000000000",
          "2016-02-03T00:00:00.000000000",
          "2016-02-04T00:00:00.000000000",
          "2016-02-05T00:00:00.000000000",
          "2016-02-08T00:00:00.000000000",
          "2016-02-09T00:00:00.000000000",
          "2016-02-10T00:00:00.000000000",
          "2016-02-11T00:00:00.000000000",
          "2016-02-12T00:00:00.000000000",
          "2016-02-16T00:00:00.000000000",
          "2016-02-17T00:00:00.000000000",
          "2016-02-18T00:00:00.000000000",
          "2016-02-19T00:00:00.000000000",
          "2016-02-22T00:00:00.000000000",
          "2016-02-23T00:00:00.000000000",
          "2016-02-24T00:00:00.000000000",
          "2016-02-25T00:00:00.000000000",
          "2016-02-26T00:00:00.000000000",
          "2016-02-29T00:00:00.000000000",
          "2016-03-01T00:00:00.000000000",
          "2016-03-02T00:00:00.000000000",
          "2016-03-03T00:00:00.000000000",
          "2016-03-04T00:00:00.000000000",
          "2016-03-07T00:00:00.000000000",
          "2016-03-08T00:00:00.000000000",
          "2016-03-09T00:00:00.000000000",
          "2016-03-10T00:00:00.000000000",
          "2016-03-11T00:00:00.000000000",
          "2016-03-14T00:00:00.000000000",
          "2016-03-15T00:00:00.000000000",
          "2016-03-16T00:00:00.000000000",
          "2016-03-17T00:00:00.000000000",
          "2016-03-18T00:00:00.000000000",
          "2016-03-21T00:00:00.000000000",
          "2016-03-22T00:00:00.000000000",
          "2016-03-23T00:00:00.000000000",
          "2016-03-24T00:00:00.000000000",
          "2016-03-28T00:00:00.000000000",
          "2016-03-29T00:00:00.000000000",
          "2016-03-30T00:00:00.000000000",
          "2016-03-31T00:00:00.000000000",
          "2016-04-01T00:00:00.000000000",
          "2016-04-04T00:00:00.000000000",
          "2016-04-05T00:00:00.000000000",
          "2016-04-06T00:00:00.000000000",
          "2016-04-07T00:00:00.000000000",
          "2016-04-08T00:00:00.000000000",
          "2016-04-11T00:00:00.000000000",
          "2016-04-12T00:00:00.000000000",
          "2016-04-13T00:00:00.000000000",
          "2016-04-14T00:00:00.000000000",
          "2016-04-15T00:00:00.000000000",
          "2016-04-18T00:00:00.000000000",
          "2016-04-19T00:00:00.000000000",
          "2016-04-20T00:00:00.000000000",
          "2016-04-21T00:00:00.000000000",
          "2016-04-22T00:00:00.000000000",
          "2016-04-25T00:00:00.000000000",
          "2016-04-26T00:00:00.000000000",
          "2016-04-27T00:00:00.000000000",
          "2016-04-28T00:00:00.000000000",
          "2016-04-29T00:00:00.000000000",
          "2016-05-02T00:00:00.000000000",
          "2016-05-03T00:00:00.000000000",
          "2016-05-04T00:00:00.000000000",
          "2016-05-05T00:00:00.000000000",
          "2016-05-06T00:00:00.000000000",
          "2016-05-09T00:00:00.000000000",
          "2016-05-10T00:00:00.000000000",
          "2016-05-11T00:00:00.000000000",
          "2016-05-12T00:00:00.000000000",
          "2016-05-13T00:00:00.000000000",
          "2016-05-16T00:00:00.000000000",
          "2016-05-17T00:00:00.000000000",
          "2016-05-18T00:00:00.000000000",
          "2016-05-19T00:00:00.000000000",
          "2016-05-20T00:00:00.000000000",
          "2016-05-23T00:00:00.000000000",
          "2016-05-24T00:00:00.000000000",
          "2016-05-25T00:00:00.000000000",
          "2016-05-26T00:00:00.000000000",
          "2016-05-27T00:00:00.000000000",
          "2016-05-31T00:00:00.000000000",
          "2016-06-01T00:00:00.000000000",
          "2016-06-02T00:00:00.000000000",
          "2016-06-03T00:00:00.000000000",
          "2016-06-06T00:00:00.000000000",
          "2016-06-07T00:00:00.000000000",
          "2016-06-08T00:00:00.000000000",
          "2016-06-09T00:00:00.000000000",
          "2016-06-10T00:00:00.000000000",
          "2016-06-13T00:00:00.000000000",
          "2016-06-14T00:00:00.000000000",
          "2016-06-15T00:00:00.000000000",
          "2016-06-16T00:00:00.000000000",
          "2016-06-17T00:00:00.000000000",
          "2016-06-20T00:00:00.000000000",
          "2016-06-21T00:00:00.000000000",
          "2016-06-22T00:00:00.000000000",
          "2016-06-23T00:00:00.000000000",
          "2016-06-24T00:00:00.000000000",
          "2016-06-27T00:00:00.000000000",
          "2016-06-28T00:00:00.000000000",
          "2016-06-29T00:00:00.000000000",
          "2016-06-30T00:00:00.000000000",
          "2016-07-01T00:00:00.000000000",
          "2016-07-05T00:00:00.000000000",
          "2016-07-06T00:00:00.000000000",
          "2016-07-07T00:00:00.000000000",
          "2016-07-08T00:00:00.000000000",
          "2016-07-11T00:00:00.000000000",
          "2016-07-12T00:00:00.000000000",
          "2016-07-13T00:00:00.000000000",
          "2016-07-14T00:00:00.000000000",
          "2016-07-15T00:00:00.000000000",
          "2016-07-18T00:00:00.000000000",
          "2016-07-19T00:00:00.000000000",
          "2016-07-20T00:00:00.000000000",
          "2016-07-21T00:00:00.000000000",
          "2016-07-22T00:00:00.000000000",
          "2016-07-25T00:00:00.000000000",
          "2016-07-26T00:00:00.000000000",
          "2016-07-27T00:00:00.000000000",
          "2016-07-28T00:00:00.000000000",
          "2016-07-29T00:00:00.000000000",
          "2016-08-01T00:00:00.000000000",
          "2016-08-02T00:00:00.000000000",
          "2016-08-03T00:00:00.000000000",
          "2016-08-04T00:00:00.000000000",
          "2016-08-05T00:00:00.000000000",
          "2016-08-08T00:00:00.000000000",
          "2016-08-09T00:00:00.000000000",
          "2016-08-10T00:00:00.000000000",
          "2016-08-11T00:00:00.000000000",
          "2016-08-12T00:00:00.000000000",
          "2016-08-15T00:00:00.000000000",
          "2016-08-16T00:00:00.000000000",
          "2016-08-17T00:00:00.000000000",
          "2016-08-18T00:00:00.000000000",
          "2016-08-19T00:00:00.000000000",
          "2016-08-22T00:00:00.000000000",
          "2016-08-23T00:00:00.000000000",
          "2016-08-24T00:00:00.000000000",
          "2016-08-25T00:00:00.000000000",
          "2016-08-26T00:00:00.000000000",
          "2016-08-29T00:00:00.000000000",
          "2016-08-30T00:00:00.000000000",
          "2016-08-31T00:00:00.000000000",
          "2016-09-01T00:00:00.000000000",
          "2016-09-02T00:00:00.000000000",
          "2016-09-06T00:00:00.000000000",
          "2016-09-07T00:00:00.000000000",
          "2016-09-08T00:00:00.000000000",
          "2016-09-09T00:00:00.000000000",
          "2016-09-12T00:00:00.000000000",
          "2016-09-13T00:00:00.000000000",
          "2016-09-14T00:00:00.000000000",
          "2016-09-15T00:00:00.000000000",
          "2016-09-16T00:00:00.000000000",
          "2016-09-19T00:00:00.000000000",
          "2016-09-20T00:00:00.000000000",
          "2016-09-21T00:00:00.000000000",
          "2016-09-22T00:00:00.000000000",
          "2016-09-23T00:00:00.000000000",
          "2016-09-26T00:00:00.000000000",
          "2016-09-27T00:00:00.000000000",
          "2016-09-28T00:00:00.000000000",
          "2016-09-29T00:00:00.000000000",
          "2016-09-30T00:00:00.000000000",
          "2016-10-03T00:00:00.000000000",
          "2016-10-04T00:00:00.000000000",
          "2016-10-05T00:00:00.000000000",
          "2016-10-06T00:00:00.000000000",
          "2016-10-07T00:00:00.000000000",
          "2016-10-10T00:00:00.000000000",
          "2016-10-11T00:00:00.000000000",
          "2016-10-12T00:00:00.000000000",
          "2016-10-13T00:00:00.000000000",
          "2016-10-14T00:00:00.000000000",
          "2016-10-17T00:00:00.000000000",
          "2016-10-18T00:00:00.000000000",
          "2016-10-19T00:00:00.000000000",
          "2016-10-20T00:00:00.000000000",
          "2016-10-21T00:00:00.000000000",
          "2016-10-24T00:00:00.000000000",
          "2016-10-25T00:00:00.000000000",
          "2016-10-26T00:00:00.000000000",
          "2016-10-27T00:00:00.000000000",
          "2016-10-28T00:00:00.000000000",
          "2016-10-31T00:00:00.000000000",
          "2016-11-01T00:00:00.000000000",
          "2016-11-02T00:00:00.000000000",
          "2016-11-03T00:00:00.000000000",
          "2016-11-04T00:00:00.000000000",
          "2016-11-07T00:00:00.000000000",
          "2016-11-08T00:00:00.000000000",
          "2016-11-09T00:00:00.000000000",
          "2016-11-10T00:00:00.000000000",
          "2016-11-11T00:00:00.000000000",
          "2016-11-14T00:00:00.000000000",
          "2016-11-15T00:00:00.000000000",
          "2016-11-16T00:00:00.000000000",
          "2016-11-17T00:00:00.000000000",
          "2016-11-18T00:00:00.000000000",
          "2016-11-21T00:00:00.000000000",
          "2016-11-22T00:00:00.000000000",
          "2016-11-23T00:00:00.000000000",
          "2016-11-25T00:00:00.000000000",
          "2016-11-28T00:00:00.000000000",
          "2016-11-29T00:00:00.000000000",
          "2016-11-30T00:00:00.000000000",
          "2016-12-01T00:00:00.000000000",
          "2016-12-02T00:00:00.000000000",
          "2016-12-05T00:00:00.000000000",
          "2016-12-06T00:00:00.000000000",
          "2016-12-07T00:00:00.000000000",
          "2016-12-08T00:00:00.000000000",
          "2016-12-09T00:00:00.000000000",
          "2016-12-12T00:00:00.000000000",
          "2016-12-13T00:00:00.000000000",
          "2016-12-14T00:00:00.000000000",
          "2016-12-15T00:00:00.000000000",
          "2016-12-16T00:00:00.000000000",
          "2016-12-19T00:00:00.000000000",
          "2016-12-20T00:00:00.000000000",
          "2016-12-21T00:00:00.000000000",
          "2016-12-22T00:00:00.000000000",
          "2016-12-23T00:00:00.000000000",
          "2016-12-27T00:00:00.000000000",
          "2016-12-28T00:00:00.000000000",
          "2016-12-29T00:00:00.000000000",
          "2016-12-30T00:00:00.000000000",
          "2017-01-03T00:00:00.000000000",
          "2017-01-04T00:00:00.000000000",
          "2017-01-05T00:00:00.000000000",
          "2017-01-06T00:00:00.000000000",
          "2017-01-09T00:00:00.000000000",
          "2017-01-10T00:00:00.000000000",
          "2017-01-11T00:00:00.000000000",
          "2017-01-12T00:00:00.000000000",
          "2017-01-13T00:00:00.000000000",
          "2017-01-17T00:00:00.000000000",
          "2017-01-18T00:00:00.000000000",
          "2017-01-19T00:00:00.000000000",
          "2017-01-20T00:00:00.000000000",
          "2017-01-23T00:00:00.000000000",
          "2017-01-24T00:00:00.000000000",
          "2017-01-25T00:00:00.000000000",
          "2017-01-26T00:00:00.000000000",
          "2017-01-27T00:00:00.000000000",
          "2017-01-30T00:00:00.000000000",
          "2017-01-31T00:00:00.000000000",
          "2017-02-01T00:00:00.000000000",
          "2017-02-02T00:00:00.000000000",
          "2017-02-03T00:00:00.000000000",
          "2017-02-06T00:00:00.000000000",
          "2017-02-07T00:00:00.000000000",
          "2017-02-08T00:00:00.000000000",
          "2017-02-09T00:00:00.000000000",
          "2017-02-10T00:00:00.000000000",
          "2017-02-13T00:00:00.000000000",
          "2017-02-14T00:00:00.000000000",
          "2017-02-15T00:00:00.000000000",
          "2017-02-16T00:00:00.000000000",
          "2017-02-17T00:00:00.000000000",
          "2017-02-21T00:00:00.000000000",
          "2017-02-22T00:00:00.000000000",
          "2017-02-23T00:00:00.000000000",
          "2017-02-24T00:00:00.000000000",
          "2017-02-27T00:00:00.000000000",
          "2017-02-28T00:00:00.000000000",
          "2017-03-01T00:00:00.000000000",
          "2017-03-02T00:00:00.000000000",
          "2017-03-03T00:00:00.000000000",
          "2017-03-06T00:00:00.000000000",
          "2017-03-07T00:00:00.000000000",
          "2017-03-08T00:00:00.000000000",
          "2017-03-09T00:00:00.000000000",
          "2017-03-10T00:00:00.000000000",
          "2017-03-13T00:00:00.000000000",
          "2017-03-14T00:00:00.000000000",
          "2017-03-15T00:00:00.000000000",
          "2017-03-16T00:00:00.000000000",
          "2017-03-17T00:00:00.000000000",
          "2017-03-20T00:00:00.000000000",
          "2017-03-21T00:00:00.000000000",
          "2017-03-22T00:00:00.000000000",
          "2017-03-23T00:00:00.000000000",
          "2017-03-24T00:00:00.000000000",
          "2017-03-27T00:00:00.000000000",
          "2017-03-28T00:00:00.000000000",
          "2017-03-29T00:00:00.000000000",
          "2017-03-30T00:00:00.000000000",
          "2017-03-31T00:00:00.000000000",
          "2017-04-03T00:00:00.000000000",
          "2017-04-04T00:00:00.000000000",
          "2017-04-05T00:00:00.000000000",
          "2017-04-06T00:00:00.000000000",
          "2017-04-07T00:00:00.000000000",
          "2017-04-10T00:00:00.000000000",
          "2017-04-11T00:00:00.000000000",
          "2017-04-12T00:00:00.000000000",
          "2017-04-13T00:00:00.000000000",
          "2017-04-17T00:00:00.000000000",
          "2017-04-18T00:00:00.000000000",
          "2017-04-19T00:00:00.000000000",
          "2017-04-20T00:00:00.000000000",
          "2017-04-21T00:00:00.000000000",
          "2017-04-24T00:00:00.000000000",
          "2017-04-25T00:00:00.000000000",
          "2017-04-26T00:00:00.000000000",
          "2017-04-27T00:00:00.000000000",
          "2017-04-28T00:00:00.000000000",
          "2017-05-01T00:00:00.000000000",
          "2017-05-02T00:00:00.000000000",
          "2017-05-03T00:00:00.000000000",
          "2017-05-04T00:00:00.000000000",
          "2017-05-05T00:00:00.000000000",
          "2017-05-08T00:00:00.000000000",
          "2017-05-09T00:00:00.000000000",
          "2017-05-10T00:00:00.000000000",
          "2017-05-11T00:00:00.000000000",
          "2017-05-12T00:00:00.000000000",
          "2017-05-15T00:00:00.000000000",
          "2017-05-16T00:00:00.000000000",
          "2017-05-17T00:00:00.000000000",
          "2017-05-18T00:00:00.000000000",
          "2017-05-19T00:00:00.000000000",
          "2017-05-22T00:00:00.000000000",
          "2017-05-23T00:00:00.000000000",
          "2017-05-24T00:00:00.000000000",
          "2017-05-25T00:00:00.000000000",
          "2017-05-26T00:00:00.000000000",
          "2017-05-30T00:00:00.000000000",
          "2017-05-31T00:00:00.000000000",
          "2017-06-01T00:00:00.000000000",
          "2017-06-02T00:00:00.000000000",
          "2017-06-05T00:00:00.000000000",
          "2017-06-06T00:00:00.000000000",
          "2017-06-07T00:00:00.000000000",
          "2017-06-08T00:00:00.000000000",
          "2017-06-09T00:00:00.000000000",
          "2017-06-12T00:00:00.000000000",
          "2017-06-13T00:00:00.000000000",
          "2017-06-14T00:00:00.000000000",
          "2017-06-15T00:00:00.000000000",
          "2017-06-16T00:00:00.000000000",
          "2017-06-19T00:00:00.000000000",
          "2017-06-20T00:00:00.000000000",
          "2017-06-21T00:00:00.000000000",
          "2017-06-22T00:00:00.000000000",
          "2017-06-23T00:00:00.000000000",
          "2017-06-26T00:00:00.000000000",
          "2017-06-27T00:00:00.000000000",
          "2017-06-28T00:00:00.000000000",
          "2017-06-29T00:00:00.000000000",
          "2017-06-30T00:00:00.000000000",
          "2017-07-03T00:00:00.000000000",
          "2017-07-05T00:00:00.000000000",
          "2017-07-06T00:00:00.000000000",
          "2017-07-07T00:00:00.000000000",
          "2017-07-10T00:00:00.000000000",
          "2017-07-11T00:00:00.000000000",
          "2017-07-12T00:00:00.000000000",
          "2017-07-13T00:00:00.000000000",
          "2017-07-14T00:00:00.000000000",
          "2017-07-17T00:00:00.000000000",
          "2017-07-18T00:00:00.000000000",
          "2017-07-19T00:00:00.000000000",
          "2017-07-20T00:00:00.000000000",
          "2017-07-21T00:00:00.000000000",
          "2017-07-24T00:00:00.000000000",
          "2017-07-25T00:00:00.000000000",
          "2017-07-26T00:00:00.000000000",
          "2017-07-27T00:00:00.000000000",
          "2017-07-28T00:00:00.000000000",
          "2017-07-31T00:00:00.000000000",
          "2017-08-01T00:00:00.000000000",
          "2017-08-02T00:00:00.000000000",
          "2017-08-03T00:00:00.000000000",
          "2017-08-04T00:00:00.000000000",
          "2017-08-07T00:00:00.000000000",
          "2017-08-08T00:00:00.000000000",
          "2017-08-09T00:00:00.000000000",
          "2017-08-10T00:00:00.000000000",
          "2017-08-11T00:00:00.000000000",
          "2017-08-14T00:00:00.000000000",
          "2017-08-15T00:00:00.000000000",
          "2017-08-16T00:00:00.000000000",
          "2017-08-17T00:00:00.000000000",
          "2017-08-18T00:00:00.000000000",
          "2017-08-21T00:00:00.000000000",
          "2017-08-22T00:00:00.000000000",
          "2017-08-23T00:00:00.000000000",
          "2017-08-24T00:00:00.000000000",
          "2017-08-25T00:00:00.000000000",
          "2017-08-28T00:00:00.000000000",
          "2017-08-29T00:00:00.000000000",
          "2017-08-30T00:00:00.000000000",
          "2017-08-31T00:00:00.000000000",
          "2017-09-01T00:00:00.000000000",
          "2017-09-05T00:00:00.000000000",
          "2017-09-06T00:00:00.000000000",
          "2017-09-07T00:00:00.000000000",
          "2017-09-08T00:00:00.000000000",
          "2017-09-11T00:00:00.000000000",
          "2017-09-12T00:00:00.000000000",
          "2017-09-13T00:00:00.000000000",
          "2017-09-14T00:00:00.000000000",
          "2017-09-15T00:00:00.000000000",
          "2017-09-18T00:00:00.000000000",
          "2017-09-19T00:00:00.000000000",
          "2017-09-20T00:00:00.000000000",
          "2017-09-21T00:00:00.000000000",
          "2017-09-22T00:00:00.000000000",
          "2017-09-25T00:00:00.000000000",
          "2017-09-26T00:00:00.000000000",
          "2017-09-27T00:00:00.000000000",
          "2017-09-28T00:00:00.000000000",
          "2017-09-29T00:00:00.000000000",
          "2017-10-02T00:00:00.000000000",
          "2017-10-03T00:00:00.000000000",
          "2017-10-04T00:00:00.000000000",
          "2017-10-05T00:00:00.000000000",
          "2017-10-06T00:00:00.000000000",
          "2017-10-09T00:00:00.000000000",
          "2017-10-10T00:00:00.000000000",
          "2017-10-11T00:00:00.000000000",
          "2017-10-12T00:00:00.000000000",
          "2017-10-13T00:00:00.000000000",
          "2017-10-16T00:00:00.000000000",
          "2017-10-17T00:00:00.000000000",
          "2017-10-18T00:00:00.000000000",
          "2017-10-19T00:00:00.000000000",
          "2017-10-20T00:00:00.000000000",
          "2017-10-23T00:00:00.000000000",
          "2017-10-24T00:00:00.000000000",
          "2017-10-25T00:00:00.000000000",
          "2017-10-26T00:00:00.000000000",
          "2017-10-27T00:00:00.000000000",
          "2017-10-30T00:00:00.000000000",
          "2017-10-31T00:00:00.000000000",
          "2017-11-01T00:00:00.000000000",
          "2017-11-02T00:00:00.000000000",
          "2017-11-03T00:00:00.000000000",
          "2017-11-06T00:00:00.000000000",
          "2017-11-07T00:00:00.000000000",
          "2017-11-08T00:00:00.000000000",
          "2017-11-09T00:00:00.000000000",
          "2017-11-10T00:00:00.000000000",
          "2017-11-13T00:00:00.000000000",
          "2017-11-14T00:00:00.000000000",
          "2017-11-15T00:00:00.000000000",
          "2017-11-16T00:00:00.000000000",
          "2017-11-17T00:00:00.000000000",
          "2017-11-20T00:00:00.000000000",
          "2017-11-21T00:00:00.000000000",
          "2017-11-22T00:00:00.000000000",
          "2017-11-24T00:00:00.000000000",
          "2017-11-27T00:00:00.000000000",
          "2017-11-28T00:00:00.000000000",
          "2017-11-29T00:00:00.000000000",
          "2017-11-30T00:00:00.000000000",
          "2017-12-01T00:00:00.000000000",
          "2017-12-04T00:00:00.000000000",
          "2017-12-05T00:00:00.000000000",
          "2017-12-06T00:00:00.000000000",
          "2017-12-07T00:00:00.000000000",
          "2017-12-08T00:00:00.000000000",
          "2017-12-11T00:00:00.000000000",
          "2017-12-12T00:00:00.000000000",
          "2017-12-13T00:00:00.000000000",
          "2017-12-14T00:00:00.000000000",
          "2017-12-15T00:00:00.000000000",
          "2017-12-18T00:00:00.000000000",
          "2017-12-19T00:00:00.000000000",
          "2017-12-20T00:00:00.000000000",
          "2017-12-21T00:00:00.000000000",
          "2017-12-22T00:00:00.000000000",
          "2017-12-26T00:00:00.000000000",
          "2017-12-27T00:00:00.000000000",
          "2017-12-28T00:00:00.000000000",
          "2017-12-29T00:00:00.000000000",
          "2018-01-02T00:00:00.000000000",
          "2018-01-03T00:00:00.000000000",
          "2018-01-04T00:00:00.000000000",
          "2018-01-05T00:00:00.000000000",
          "2018-01-08T00:00:00.000000000",
          "2018-01-09T00:00:00.000000000",
          "2018-01-10T00:00:00.000000000",
          "2018-01-11T00:00:00.000000000",
          "2018-01-12T00:00:00.000000000",
          "2018-01-16T00:00:00.000000000",
          "2018-01-17T00:00:00.000000000",
          "2018-01-18T00:00:00.000000000",
          "2018-01-19T00:00:00.000000000",
          "2018-01-22T00:00:00.000000000",
          "2018-01-23T00:00:00.000000000",
          "2018-01-24T00:00:00.000000000",
          "2018-01-25T00:00:00.000000000",
          "2018-01-26T00:00:00.000000000",
          "2018-01-29T00:00:00.000000000",
          "2018-01-30T00:00:00.000000000",
          "2018-01-31T00:00:00.000000000",
          "2018-02-01T00:00:00.000000000",
          "2018-02-02T00:00:00.000000000",
          "2018-02-05T00:00:00.000000000",
          "2018-02-06T00:00:00.000000000",
          "2018-02-07T00:00:00.000000000",
          "2018-02-08T00:00:00.000000000",
          "2018-02-09T00:00:00.000000000",
          "2018-02-12T00:00:00.000000000",
          "2018-02-13T00:00:00.000000000",
          "2018-02-14T00:00:00.000000000",
          "2018-02-15T00:00:00.000000000",
          "2018-02-16T00:00:00.000000000",
          "2018-02-20T00:00:00.000000000",
          "2018-02-21T00:00:00.000000000",
          "2018-02-22T00:00:00.000000000",
          "2018-02-23T00:00:00.000000000",
          "2018-02-26T00:00:00.000000000",
          "2018-02-27T00:00:00.000000000",
          "2018-02-28T00:00:00.000000000",
          "2018-03-01T00:00:00.000000000",
          "2018-03-02T00:00:00.000000000",
          "2018-03-05T00:00:00.000000000",
          "2018-03-06T00:00:00.000000000",
          "2018-03-07T00:00:00.000000000",
          "2018-03-08T00:00:00.000000000",
          "2018-03-09T00:00:00.000000000",
          "2018-03-12T00:00:00.000000000",
          "2018-03-13T00:00:00.000000000",
          "2018-03-14T00:00:00.000000000",
          "2018-03-15T00:00:00.000000000",
          "2018-03-16T00:00:00.000000000",
          "2018-03-19T00:00:00.000000000",
          "2018-03-20T00:00:00.000000000",
          "2018-03-21T00:00:00.000000000",
          "2018-03-22T00:00:00.000000000",
          "2018-03-23T00:00:00.000000000",
          "2018-03-26T00:00:00.000000000",
          "2018-03-27T00:00:00.000000000",
          "2018-03-28T00:00:00.000000000",
          "2018-03-29T00:00:00.000000000",
          "2018-04-02T00:00:00.000000000",
          "2018-04-03T00:00:00.000000000",
          "2018-04-04T00:00:00.000000000",
          "2018-04-05T00:00:00.000000000",
          "2018-04-06T00:00:00.000000000",
          "2018-04-09T00:00:00.000000000",
          "2018-04-10T00:00:00.000000000",
          "2018-04-11T00:00:00.000000000",
          "2018-04-12T00:00:00.000000000",
          "2018-04-13T00:00:00.000000000",
          "2018-04-16T00:00:00.000000000",
          "2018-04-17T00:00:00.000000000",
          "2018-04-18T00:00:00.000000000",
          "2018-04-19T00:00:00.000000000",
          "2018-04-20T00:00:00.000000000",
          "2018-04-23T00:00:00.000000000",
          "2018-04-24T00:00:00.000000000",
          "2018-04-25T00:00:00.000000000",
          "2018-04-26T00:00:00.000000000",
          "2018-04-27T00:00:00.000000000",
          "2018-04-30T00:00:00.000000000",
          "2018-05-01T00:00:00.000000000",
          "2018-05-02T00:00:00.000000000",
          "2018-05-03T00:00:00.000000000",
          "2018-05-04T00:00:00.000000000",
          "2018-05-07T00:00:00.000000000",
          "2018-05-08T00:00:00.000000000",
          "2018-05-09T00:00:00.000000000",
          "2018-05-10T00:00:00.000000000",
          "2018-05-11T00:00:00.000000000",
          "2018-05-14T00:00:00.000000000",
          "2018-05-15T00:00:00.000000000",
          "2018-05-16T00:00:00.000000000",
          "2018-05-17T00:00:00.000000000",
          "2018-05-18T00:00:00.000000000",
          "2018-05-21T00:00:00.000000000",
          "2018-05-22T00:00:00.000000000",
          "2018-05-23T00:00:00.000000000",
          "2018-05-24T00:00:00.000000000",
          "2018-05-25T00:00:00.000000000",
          "2018-05-29T00:00:00.000000000",
          "2018-05-30T00:00:00.000000000",
          "2018-05-31T00:00:00.000000000",
          "2018-06-01T00:00:00.000000000",
          "2018-06-04T00:00:00.000000000",
          "2018-06-05T00:00:00.000000000",
          "2018-06-06T00:00:00.000000000",
          "2018-06-07T00:00:00.000000000",
          "2018-06-08T00:00:00.000000000",
          "2018-06-11T00:00:00.000000000",
          "2018-06-12T00:00:00.000000000",
          "2018-06-13T00:00:00.000000000",
          "2018-06-14T00:00:00.000000000",
          "2018-06-15T00:00:00.000000000",
          "2018-06-18T00:00:00.000000000",
          "2018-06-19T00:00:00.000000000",
          "2018-06-20T00:00:00.000000000",
          "2018-06-21T00:00:00.000000000",
          "2018-06-22T00:00:00.000000000",
          "2018-06-25T00:00:00.000000000",
          "2018-06-26T00:00:00.000000000",
          "2018-06-27T00:00:00.000000000",
          "2018-06-28T00:00:00.000000000"
         ],
         "y": {
          "bdata": "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",
          "dtype": "f8"
         }
        },
        {
         "mode": "lines",
         "name": "Predicted Returns",
         "type": "scatter",
         "x": [
          "2016-01-04T00:00:00.000000000",
          "2016-01-05T00:00:00.000000000",
          "2016-01-06T00:00:00.000000000",
          "2016-01-07T00:00:00.000000000",
          "2016-01-08T00:00:00.000000000",
          "2016-01-11T00:00:00.000000000",
          "2016-01-12T00:00:00.000000000",
          "2016-01-13T00:00:00.000000000",
          "2016-01-14T00:00:00.000000000",
          "2016-01-15T00:00:00.000000000",
          "2016-01-19T00:00:00.000000000",
          "2016-01-20T00:00:00.000000000",
          "2016-01-21T00:00:00.000000000",
          "2016-01-22T00:00:00.000000000",
          "2016-01-25T00:00:00.000000000",
          "2016-01-26T00:00:00.000000000",
          "2016-01-27T00:00:00.000000000",
          "2016-01-28T00:00:00.000000000",
          "2016-01-29T00:00:00.000000000",
          "2016-02-01T00:00:00.000000000",
          "2016-02-02T00:00:00.000000000",
          "2016-02-03T00:00:00.000000000",
          "2016-02-04T00:00:00.000000000",
          "2016-02-05T00:00:00.000000000",
          "2016-02-08T00:00:00.000000000",
          "2016-02-09T00:00:00.000000000",
          "2016-02-10T00:00:00.000000000",
          "2016-02-11T00:00:00.000000000",
          "2016-02-12T00:00:00.000000000",
          "2016-02-16T00:00:00.000000000",
          "2016-02-17T00:00:00.000000000",
          "2016-02-18T00:00:00.000000000",
          "2016-02-19T00:00:00.000000000",
          "2016-02-22T00:00:00.000000000",
          "2016-02-23T00:00:00.000000000",
          "2016-02-24T00:00:00.000000000",
          "2016-02-25T00:00:00.000000000",
          "2016-02-26T00:00:00.000000000",
          "2016-02-29T00:00:00.000000000",
          "2016-03-01T00:00:00.000000000",
          "2016-03-02T00:00:00.000000000",
          "2016-03-03T00:00:00.000000000",
          "2016-03-04T00:00:00.000000000",
          "2016-03-07T00:00:00.000000000",
          "2016-03-08T00:00:00.000000000",
          "2016-03-09T00:00:00.000000000",
          "2016-03-10T00:00:00.000000000",
          "2016-03-11T00:00:00.000000000",
          "2016-03-14T00:00:00.000000000",
          "2016-03-15T00:00:00.000000000",
          "2016-03-16T00:00:00.000000000",
          "2016-03-17T00:00:00.000000000",
          "2016-03-18T00:00:00.000000000",
          "2016-03-21T00:00:00.000000000",
          "2016-03-22T00:00:00.000000000",
          "2016-03-23T00:00:00.000000000",
          "2016-03-24T00:00:00.000000000",
          "2016-03-28T00:00:00.000000000",
          "2016-03-29T00:00:00.000000000",
          "2016-03-30T00:00:00.000000000",
          "2016-03-31T00:00:00.000000000",
          "2016-04-01T00:00:00.000000000",
          "2016-04-04T00:00:00.000000000",
          "2016-04-05T00:00:00.000000000",
          "2016-04-06T00:00:00.000000000",
          "2016-04-07T00:00:00.000000000",
          "2016-04-08T00:00:00.000000000",
          "2016-04-11T00:00:00.000000000",
          "2016-04-12T00:00:00.000000000",
          "2016-04-13T00:00:00.000000000",
          "2016-04-14T00:00:00.000000000",
          "2016-04-15T00:00:00.000000000",
          "2016-04-18T00:00:00.000000000",
          "2016-04-19T00:00:00.000000000",
          "2016-04-20T00:00:00.000000000",
          "2016-04-21T00:00:00.000000000",
          "2016-04-22T00:00:00.000000000",
          "2016-04-25T00:00:00.000000000",
          "2016-04-26T00:00:00.000000000",
          "2016-04-27T00:00:00.000000000",
          "2016-04-28T00:00:00.000000000",
          "2016-04-29T00:00:00.000000000",
          "2016-05-02T00:00:00.000000000",
          "2016-05-03T00:00:00.000000000",
          "2016-05-04T00:00:00.000000000",
          "2016-05-05T00:00:00.000000000",
          "2016-05-06T00:00:00.000000000",
          "2016-05-09T00:00:00.000000000",
          "2016-05-10T00:00:00.000000000",
          "2016-05-11T00:00:00.000000000",
          "2016-05-12T00:00:00.000000000",
          "2016-05-13T00:00:00.000000000",
          "2016-05-16T00:00:00.000000000",
          "2016-05-17T00:00:00.000000000",
          "2016-05-18T00:00:00.000000000",
          "2016-05-19T00:00:00.000000000",
          "2016-05-20T00:00:00.000000000",
          "2016-05-23T00:00:00.000000000",
          "2016-05-24T00:00:00.000000000",
          "2016-05-25T00:00:00.000000000",
          "2016-05-26T00:00:00.000000000",
          "2016-05-27T00:00:00.000000000",
          "2016-05-31T00:00:00.000000000",
          "2016-06-01T00:00:00.000000000",
          "2016-06-02T00:00:00.000000000",
          "2016-06-03T00:00:00.000000000",
          "2016-06-06T00:00:00.000000000",
          "2016-06-07T00:00:00.000000000",
          "2016-06-08T00:00:00.000000000",
          "2016-06-09T00:00:00.000000000",
          "2016-06-10T00:00:00.000000000",
          "2016-06-13T00:00:00.000000000",
          "2016-06-14T00:00:00.000000000",
          "2016-06-15T00:00:00.000000000",
          "2016-06-16T00:00:00.000000000",
          "2016-06-17T00:00:00.000000000",
          "2016-06-20T00:00:00.000000000",
          "2016-06-21T00:00:00.000000000",
          "2016-06-22T00:00:00.000000000",
          "2016-06-23T00:00:00.000000000",
          "2016-06-24T00:00:00.000000000",
          "2016-06-27T00:00:00.000000000",
          "2016-06-28T00:00:00.000000000",
          "2016-06-29T00:00:00.000000000",
          "2016-06-30T00:00:00.000000000",
          "2016-07-01T00:00:00.000000000",
          "2016-07-05T00:00:00.000000000",
          "2016-07-06T00:00:00.000000000",
          "2016-07-07T00:00:00.000000000",
          "2016-07-08T00:00:00.000000000",
          "2016-07-11T00:00:00.000000000",
          "2016-07-12T00:00:00.000000000",
          "2016-07-13T00:00:00.000000000",
          "2016-07-14T00:00:00.000000000",
          "2016-07-15T00:00:00.000000000",
          "2016-07-18T00:00:00.000000000",
          "2016-07-19T00:00:00.000000000",
          "2016-07-20T00:00:00.000000000",
          "2016-07-21T00:00:00.000000000",
          "2016-07-22T00:00:00.000000000",
          "2016-07-25T00:00:00.000000000",
          "2016-07-26T00:00:00.000000000",
          "2016-07-27T00:00:00.000000000",
          "2016-07-28T00:00:00.000000000",
          "2016-07-29T00:00:00.000000000",
          "2016-08-01T00:00:00.000000000",
          "2016-08-02T00:00:00.000000000",
          "2016-08-03T00:00:00.000000000",
          "2016-08-04T00:00:00.000000000",
          "2016-08-05T00:00:00.000000000",
          "2016-08-08T00:00:00.000000000",
          "2016-08-09T00:00:00.000000000",
          "2016-08-10T00:00:00.000000000",
          "2016-08-11T00:00:00.000000000",
          "2016-08-12T00:00:00.000000000",
          "2016-08-15T00:00:00.000000000",
          "2016-08-16T00:00:00.000000000",
          "2016-08-17T00:00:00.000000000",
          "2016-08-18T00:00:00.000000000",
          "2016-08-19T00:00:00.000000000",
          "2016-08-22T00:00:00.000000000",
          "2016-08-23T00:00:00.000000000",
          "2016-08-24T00:00:00.000000000",
          "2016-08-25T00:00:00.000000000",
          "2016-08-26T00:00:00.000000000",
          "2016-08-29T00:00:00.000000000",
          "2016-08-30T00:00:00.000000000",
          "2016-08-31T00:00:00.000000000",
          "2016-09-01T00:00:00.000000000",
          "2016-09-02T00:00:00.000000000",
          "2016-09-06T00:00:00.000000000",
          "2016-09-07T00:00:00.000000000",
          "2016-09-08T00:00:00.000000000",
          "2016-09-09T00:00:00.000000000",
          "2016-09-12T00:00:00.000000000",
          "2016-09-13T00:00:00.000000000",
          "2016-09-14T00:00:00.000000000",
          "2016-09-15T00:00:00.000000000",
          "2016-09-16T00:00:00.000000000",
          "2016-09-19T00:00:00.000000000",
          "2016-09-20T00:00:00.000000000",
          "2016-09-21T00:00:00.000000000",
          "2016-09-22T00:00:00.000000000",
          "2016-09-23T00:00:00.000000000",
          "2016-09-26T00:00:00.000000000",
          "2016-09-27T00:00:00.000000000",
          "2016-09-28T00:00:00.000000000",
          "2016-09-29T00:00:00.000000000",
          "2016-09-30T00:00:00.000000000",
          "2016-10-03T00:00:00.000000000",
          "2016-10-04T00:00:00.000000000",
          "2016-10-05T00:00:00.000000000",
          "2016-10-06T00:00:00.000000000",
          "2016-10-07T00:00:00.000000000",
          "2016-10-10T00:00:00.000000000",
          "2016-10-11T00:00:00.000000000",
          "2016-10-12T00:00:00.000000000",
          "2016-10-13T00:00:00.000000000",
          "2016-10-14T00:00:00.000000000",
          "2016-10-17T00:00:00.000000000",
          "2016-10-18T00:00:00.000000000",
          "2016-10-19T00:00:00.000000000",
          "2016-10-20T00:00:00.000000000",
          "2016-10-21T00:00:00.000000000",
          "2016-10-24T00:00:00.000000000",
          "2016-10-25T00:00:00.000000000",
          "2016-10-26T00:00:00.000000000",
          "2016-10-27T00:00:00.000000000",
          "2016-10-28T00:00:00.000000000",
          "2016-10-31T00:00:00.000000000",
          "2016-11-01T00:00:00.000000000",
          "2016-11-02T00:00:00.000000000",
          "2016-11-03T00:00:00.000000000",
          "2016-11-04T00:00:00.000000000",
          "2016-11-07T00:00:00.000000000",
          "2016-11-08T00:00:00.000000000",
          "2016-11-09T00:00:00.000000000",
          "2016-11-10T00:00:00.000000000",
          "2016-11-11T00:00:00.000000000",
          "2016-11-14T00:00:00.000000000",
          "2016-11-15T00:00:00.000000000",
          "2016-11-16T00:00:00.000000000",
          "2016-11-17T00:00:00.000000000",
          "2016-11-18T00:00:00.000000000",
          "2016-11-21T00:00:00.000000000",
          "2016-11-22T00:00:00.000000000",
          "2016-11-23T00:00:00.000000000",
          "2016-11-25T00:00:00.000000000",
          "2016-11-28T00:00:00.000000000",
          "2016-11-29T00:00:00.000000000",
          "2016-11-30T00:00:00.000000000",
          "2016-12-01T00:00:00.000000000",
          "2016-12-02T00:00:00.000000000",
          "2016-12-05T00:00:00.000000000",
          "2016-12-06T00:00:00.000000000",
          "2016-12-07T00:00:00.000000000",
          "2016-12-08T00:00:00.000000000",
          "2016-12-09T00:00:00.000000000",
          "2016-12-12T00:00:00.000000000",
          "2016-12-13T00:00:00.000000000",
          "2016-12-14T00:00:00.000000000",
          "2016-12-15T00:00:00.000000000",
          "2016-12-16T00:00:00.000000000",
          "2016-12-19T00:00:00.000000000",
          "2016-12-20T00:00:00.000000000",
          "2016-12-21T00:00:00.000000000",
          "2016-12-22T00:00:00.000000000",
          "2016-12-23T00:00:00.000000000",
          "2016-12-27T00:00:00.000000000",
          "2016-12-28T00:00:00.000000000",
          "2016-12-29T00:00:00.000000000",
          "2016-12-30T00:00:00.000000000",
          "2017-01-03T00:00:00.000000000",
          "2017-01-04T00:00:00.000000000",
          "2017-01-05T00:00:00.000000000",
          "2017-01-06T00:00:00.000000000",
          "2017-01-09T00:00:00.000000000",
          "2017-01-10T00:00:00.000000000",
          "2017-01-11T00:00:00.000000000",
          "2017-01-12T00:00:00.000000000",
          "2017-01-13T00:00:00.000000000",
          "2017-01-17T00:00:00.000000000",
          "2017-01-18T00:00:00.000000000",
          "2017-01-19T00:00:00.000000000",
          "2017-01-20T00:00:00.000000000",
          "2017-01-23T00:00:00.000000000",
          "2017-01-24T00:00:00.000000000",
          "2017-01-25T00:00:00.000000000",
          "2017-01-26T00:00:00.000000000",
          "2017-01-27T00:00:00.000000000",
          "2017-01-30T00:00:00.000000000",
          "2017-01-31T00:00:00.000000000",
          "2017-02-01T00:00:00.000000000",
          "2017-02-02T00:00:00.000000000",
          "2017-02-03T00:00:00.000000000",
          "2017-02-06T00:00:00.000000000",
          "2017-02-07T00:00:00.000000000",
          "2017-02-08T00:00:00.000000000",
          "2017-02-09T00:00:00.000000000",
          "2017-02-10T00:00:00.000000000",
          "2017-02-13T00:00:00.000000000",
          "2017-02-14T00:00:00.000000000",
          "2017-02-15T00:00:00.000000000",
          "2017-02-16T00:00:00.000000000",
          "2017-02-17T00:00:00.000000000",
          "2017-02-21T00:00:00.000000000",
          "2017-02-22T00:00:00.000000000",
          "2017-02-23T00:00:00.000000000",
          "2017-02-24T00:00:00.000000000",
          "2017-02-27T00:00:00.000000000",
          "2017-02-28T00:00:00.000000000",
          "2017-03-01T00:00:00.000000000",
          "2017-03-02T00:00:00.000000000",
          "2017-03-03T00:00:00.000000000",
          "2017-03-06T00:00:00.000000000",
          "2017-03-07T00:00:00.000000000",
          "2017-03-08T00:00:00.000000000",
          "2017-03-09T00:00:00.000000000",
          "2017-03-10T00:00:00.000000000",
          "2017-03-13T00:00:00.000000000",
          "2017-03-14T00:00:00.000000000",
          "2017-03-15T00:00:00.000000000",
          "2017-03-16T00:00:00.000000000",
          "2017-03-17T00:00:00.000000000",
          "2017-03-20T00:00:00.000000000",
          "2017-03-21T00:00:00.000000000",
          "2017-03-22T00:00:00.000000000",
          "2017-03-23T00:00:00.000000000",
          "2017-03-24T00:00:00.000000000",
          "2017-03-27T00:00:00.000000000",
          "2017-03-28T00:00:00.000000000",
          "2017-03-29T00:00:00.000000000",
          "2017-03-30T00:00:00.000000000",
          "2017-03-31T00:00:00.000000000",
          "2017-04-03T00:00:00.000000000",
          "2017-04-04T00:00:00.000000000",
          "2017-04-05T00:00:00.000000000",
          "2017-04-06T00:00:00.000000000",
          "2017-04-07T00:00:00.000000000",
          "2017-04-10T00:00:00.000000000",
          "2017-04-11T00:00:00.000000000",
          "2017-04-12T00:00:00.000000000",
          "2017-04-13T00:00:00.000000000",
          "2017-04-17T00:00:00.000000000",
          "2017-04-18T00:00:00.000000000",
          "2017-04-19T00:00:00.000000000",
          "2017-04-20T00:00:00.000000000",
          "2017-04-21T00:00:00.000000000",
          "2017-04-24T00:00:00.000000000",
          "2017-04-25T00:00:00.000000000",
          "2017-04-26T00:00:00.000000000",
          "2017-04-27T00:00:00.000000000",
          "2017-04-28T00:00:00.000000000",
          "2017-05-01T00:00:00.000000000",
          "2017-05-02T00:00:00.000000000",
          "2017-05-03T00:00:00.000000000",
          "2017-05-04T00:00:00.000000000",
          "2017-05-05T00:00:00.000000000",
          "2017-05-08T00:00:00.000000000",
          "2017-05-09T00:00:00.000000000",
          "2017-05-10T00:00:00.000000000",
          "2017-05-11T00:00:00.000000000",
          "2017-05-12T00:00:00.000000000",
          "2017-05-15T00:00:00.000000000",
          "2017-05-16T00:00:00.000000000",
          "2017-05-17T00:00:00.000000000",
          "2017-05-18T00:00:00.000000000",
          "2017-05-19T00:00:00.000000000",
          "2017-05-22T00:00:00.000000000",
          "2017-05-23T00:00:00.000000000",
          "2017-05-24T00:00:00.000000000",
          "2017-05-25T00:00:00.000000000",
          "2017-05-26T00:00:00.000000000",
          "2017-05-30T00:00:00.000000000",
          "2017-05-31T00:00:00.000000000",
          "2017-06-01T00:00:00.000000000",
          "2017-06-02T00:00:00.000000000",
          "2017-06-05T00:00:00.000000000",
          "2017-06-06T00:00:00.000000000",
          "2017-06-07T00:00:00.000000000",
          "2017-06-08T00:00:00.000000000",
          "2017-06-09T00:00:00.000000000",
          "2017-06-12T00:00:00.000000000",
          "2017-06-13T00:00:00.000000000",
          "2017-06-14T00:00:00.000000000",
          "2017-06-15T00:00:00.000000000",
          "2017-06-16T00:00:00.000000000",
          "2017-06-19T00:00:00.000000000",
          "2017-06-20T00:00:00.000000000",
          "2017-06-21T00:00:00.000000000",
          "2017-06-22T00:00:00.000000000",
          "2017-06-23T00:00:00.000000000",
          "2017-06-26T00:00:00.000000000",
          "2017-06-27T00:00:00.000000000",
          "2017-06-28T00:00:00.000000000",
          "2017-06-29T00:00:00.000000000",
          "2017-06-30T00:00:00.000000000",
          "2017-07-03T00:00:00.000000000",
          "2017-07-05T00:00:00.000000000",
          "2017-07-06T00:00:00.000000000",
          "2017-07-07T00:00:00.000000000",
          "2017-07-10T00:00:00.000000000",
          "2017-07-11T00:00:00.000000000",
          "2017-07-12T00:00:00.000000000",
          "2017-07-13T00:00:00.000000000",
          "2017-07-14T00:00:00.000000000",
          "2017-07-17T00:00:00.000000000",
          "2017-07-18T00:00:00.000000000",
          "2017-07-19T00:00:00.000000000",
          "2017-07-20T00:00:00.000000000",
          "2017-07-21T00:00:00.000000000",
          "2017-07-24T00:00:00.000000000",
          "2017-07-25T00:00:00.000000000",
          "2017-07-26T00:00:00.000000000",
          "2017-07-27T00:00:00.000000000",
          "2017-07-28T00:00:00.000000000",
          "2017-07-31T00:00:00.000000000",
          "2017-08-01T00:00:00.000000000",
          "2017-08-02T00:00:00.000000000",
          "2017-08-03T00:00:00.000000000",
          "2017-08-04T00:00:00.000000000",
          "2017-08-07T00:00:00.000000000",
          "2017-08-08T00:00:00.000000000",
          "2017-08-09T00:00:00.000000000",
          "2017-08-10T00:00:00.000000000",
          "2017-08-11T00:00:00.000000000",
          "2017-08-14T00:00:00.000000000",
          "2017-08-15T00:00:00.000000000",
          "2017-08-16T00:00:00.000000000",
          "2017-08-17T00:00:00.000000000",
          "2017-08-18T00:00:00.000000000",
          "2017-08-21T00:00:00.000000000",
          "2017-08-22T00:00:00.000000000",
          "2017-08-23T00:00:00.000000000",
          "2017-08-24T00:00:00.000000000",
          "2017-08-25T00:00:00.000000000",
          "2017-08-28T00:00:00.000000000",
          "2017-08-29T00:00:00.000000000",
          "2017-08-30T00:00:00.000000000",
          "2017-08-31T00:00:00.000000000",
          "2017-09-01T00:00:00.000000000",
          "2017-09-05T00:00:00.000000000",
          "2017-09-06T00:00:00.000000000",
          "2017-09-07T00:00:00.000000000",
          "2017-09-08T00:00:00.000000000",
          "2017-09-11T00:00:00.000000000",
          "2017-09-12T00:00:00.000000000",
          "2017-09-13T00:00:00.000000000",
          "2017-09-14T00:00:00.000000000",
          "2017-09-15T00:00:00.000000000",
          "2017-09-18T00:00:00.000000000",
          "2017-09-19T00:00:00.000000000",
          "2017-09-20T00:00:00.000000000",
          "2017-09-21T00:00:00.000000000",
          "2017-09-22T00:00:00.000000000",
          "2017-09-25T00:00:00.000000000",
          "2017-09-26T00:00:00.000000000",
          "2017-09-27T00:00:00.000000000",
          "2017-09-28T00:00:00.000000000",
          "2017-09-29T00:00:00.000000000",
          "2017-10-02T00:00:00.000000000",
          "2017-10-03T00:00:00.000000000",
          "2017-10-04T00:00:00.000000000",
          "2017-10-05T00:00:00.000000000",
          "2017-10-06T00:00:00.000000000",
          "2017-10-09T00:00:00.000000000",
          "2017-10-10T00:00:00.000000000",
          "2017-10-11T00:00:00.000000000",
          "2017-10-12T00:00:00.000000000",
          "2017-10-13T00:00:00.000000000",
          "2017-10-16T00:00:00.000000000",
          "2017-10-17T00:00:00.000000000",
          "2017-10-18T00:00:00.000000000",
          "2017-10-19T00:00:00.000000000",
          "2017-10-20T00:00:00.000000000",
          "2017-10-23T00:00:00.000000000",
          "2017-10-24T00:00:00.000000000",
          "2017-10-25T00:00:00.000000000",
          "2017-10-26T00:00:00.000000000",
          "2017-10-27T00:00:00.000000000",
          "2017-10-30T00:00:00.000000000",
          "2017-10-31T00:00:00.000000000",
          "2017-11-01T00:00:00.000000000",
          "2017-11-02T00:00:00.000000000",
          "2017-11-03T00:00:00.000000000",
          "2017-11-06T00:00:00.000000000",
          "2017-11-07T00:00:00.000000000",
          "2017-11-08T00:00:00.000000000",
          "2017-11-09T00:00:00.000000000",
          "2017-11-10T00:00:00.000000000",
          "2017-11-13T00:00:00.000000000",
          "2017-11-14T00:00:00.000000000",
          "2017-11-15T00:00:00.000000000",
          "2017-11-16T00:00:00.000000000",
          "2017-11-17T00:00:00.000000000",
          "2017-11-20T00:00:00.000000000",
          "2017-11-21T00:00:00.000000000",
          "2017-11-22T00:00:00.000000000",
          "2017-11-24T00:00:00.000000000",
          "2017-11-27T00:00:00.000000000",
          "2017-11-28T00:00:00.000000000",
          "2017-11-29T00:00:00.000000000",
          "2017-11-30T00:00:00.000000000",
          "2017-12-01T00:00:00.000000000",
          "2017-12-04T00:00:00.000000000",
          "2017-12-05T00:00:00.000000000",
          "2017-12-06T00:00:00.000000000",
          "2017-12-07T00:00:00.000000000",
          "2017-12-08T00:00:00.000000000",
          "2017-12-11T00:00:00.000000000",
          "2017-12-12T00:00:00.000000000",
          "2017-12-13T00:00:00.000000000",
          "2017-12-14T00:00:00.000000000",
          "2017-12-15T00:00:00.000000000",
          "2017-12-18T00:00:00.000000000",
          "2017-12-19T00:00:00.000000000",
          "2017-12-20T00:00:00.000000000",
          "2017-12-21T00:00:00.000000000",
          "2017-12-22T00:00:00.000000000",
          "2017-12-26T00:00:00.000000000",
          "2017-12-27T00:00:00.000000000",
          "2017-12-28T00:00:00.000000000",
          "2017-12-29T00:00:00.000000000",
          "2018-01-02T00:00:00.000000000",
          "2018-01-03T00:00:00.000000000",
          "2018-01-04T00:00:00.000000000",
          "2018-01-05T00:00:00.000000000",
          "2018-01-08T00:00:00.000000000",
          "2018-01-09T00:00:00.000000000",
          "2018-01-10T00:00:00.000000000",
          "2018-01-11T00:00:00.000000000",
          "2018-01-12T00:00:00.000000000",
          "2018-01-16T00:00:00.000000000",
          "2018-01-17T00:00:00.000000000",
          "2018-01-18T00:00:00.000000000",
          "2018-01-19T00:00:00.000000000",
          "2018-01-22T00:00:00.000000000",
          "2018-01-23T00:00:00.000000000",
          "2018-01-24T00:00:00.000000000",
          "2018-01-25T00:00:00.000000000",
          "2018-01-26T00:00:00.000000000",
          "2018-01-29T00:00:00.000000000",
          "2018-01-30T00:00:00.000000000",
          "2018-01-31T00:00:00.000000000",
          "2018-02-01T00:00:00.000000000",
          "2018-02-02T00:00:00.000000000",
          "2018-02-05T00:00:00.000000000",
          "2018-02-06T00:00:00.000000000",
          "2018-02-07T00:00:00.000000000",
          "2018-02-08T00:00:00.000000000",
          "2018-02-09T00:00:00.000000000",
          "2018-02-12T00:00:00.000000000",
          "2018-02-13T00:00:00.000000000",
          "2018-02-14T00:00:00.000000000",
          "2018-02-15T00:00:00.000000000",
          "2018-02-16T00:00:00.000000000",
          "2018-02-20T00:00:00.000000000",
          "2018-02-21T00:00:00.000000000",
          "2018-02-22T00:00:00.000000000",
          "2018-02-23T00:00:00.000000000",
          "2018-02-26T00:00:00.000000000",
          "2018-02-27T00:00:00.000000000",
          "2018-02-28T00:00:00.000000000",
          "2018-03-01T00:00:00.000000000",
          "2018-03-02T00:00:00.000000000",
          "2018-03-05T00:00:00.000000000",
          "2018-03-06T00:00:00.000000000",
          "2018-03-07T00:00:00.000000000",
          "2018-03-08T00:00:00.000000000",
          "2018-03-09T00:00:00.000000000",
          "2018-03-12T00:00:00.000000000",
          "2018-03-13T00:00:00.000000000",
          "2018-03-14T00:00:00.000000000",
          "2018-03-15T00:00:00.000000000",
          "2018-03-16T00:00:00.000000000",
          "2018-03-19T00:00:00.000000000",
          "2018-03-20T00:00:00.000000000",
          "2018-03-21T00:00:00.000000000",
          "2018-03-22T00:00:00.000000000",
          "2018-03-23T00:00:00.000000000",
          "2018-03-26T00:00:00.000000000",
          "2018-03-27T00:00:00.000000000",
          "2018-03-28T00:00:00.000000000",
          "2018-03-29T00:00:00.000000000",
          "2018-04-02T00:00:00.000000000",
          "2018-04-03T00:00:00.000000000",
          "2018-04-04T00:00:00.000000000",
          "2018-04-05T00:00:00.000000000",
          "2018-04-06T00:00:00.000000000",
          "2018-04-09T00:00:00.000000000",
          "2018-04-10T00:00:00.000000000",
          "2018-04-11T00:00:00.000000000",
          "2018-04-12T00:00:00.000000000",
          "2018-04-13T00:00:00.000000000",
          "2018-04-16T00:00:00.000000000",
          "2018-04-17T00:00:00.000000000",
          "2018-04-18T00:00:00.000000000",
          "2018-04-19T00:00:00.000000000",
          "2018-04-20T00:00:00.000000000",
          "2018-04-23T00:00:00.000000000",
          "2018-04-24T00:00:00.000000000",
          "2018-04-25T00:00:00.000000000",
          "2018-04-26T00:00:00.000000000",
          "2018-04-27T00:00:00.000000000",
          "2018-04-30T00:00:00.000000000",
          "2018-05-01T00:00:00.000000000",
          "2018-05-02T00:00:00.000000000",
          "2018-05-03T00:00:00.000000000",
          "2018-05-04T00:00:00.000000000",
          "2018-05-07T00:00:00.000000000",
          "2018-05-08T00:00:00.000000000",
          "2018-05-09T00:00:00.000000000",
          "2018-05-10T00:00:00.000000000",
          "2018-05-11T00:00:00.000000000",
          "2018-05-14T00:00:00.000000000",
          "2018-05-15T00:00:00.000000000",
          "2018-05-16T00:00:00.000000000",
          "2018-05-17T00:00:00.000000000",
          "2018-05-18T00:00:00.000000000",
          "2018-05-21T00:00:00.000000000",
          "2018-05-22T00:00:00.000000000",
          "2018-05-23T00:00:00.000000000",
          "2018-05-24T00:00:00.000000000",
          "2018-05-25T00:00:00.000000000",
          "2018-05-29T00:00:00.000000000",
          "2018-05-30T00:00:00.000000000",
          "2018-05-31T00:00:00.000000000",
          "2018-06-01T00:00:00.000000000",
          "2018-06-04T00:00:00.000000000",
          "2018-06-05T00:00:00.000000000",
          "2018-06-06T00:00:00.000000000",
          "2018-06-07T00:00:00.000000000",
          "2018-06-08T00:00:00.000000000",
          "2018-06-11T00:00:00.000000000",
          "2018-06-12T00:00:00.000000000",
          "2018-06-13T00:00:00.000000000",
          "2018-06-14T00:00:00.000000000",
          "2018-06-15T00:00:00.000000000",
          "2018-06-18T00:00:00.000000000",
          "2018-06-19T00:00:00.000000000",
          "2018-06-20T00:00:00.000000000",
          "2018-06-21T00:00:00.000000000",
          "2018-06-22T00:00:00.000000000",
          "2018-06-25T00:00:00.000000000",
          "2018-06-26T00:00:00.000000000",
          "2018-06-27T00:00:00.000000000",
          "2018-06-28T00:00:00.000000000"
         ],
         "y": {
          "bdata": "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",
          "dtype": "f4"
         }
        }
       ],
       "layout": {
        "font": {
         "family": "Cambria",
         "size": 18
        },
        "legend": {
         "title": {
          "text": "Portfolio"
         }
        },
        "template": {
         "data": {
          "bar": [
           {
            "error_x": {
             "color": "#2a3f5f"
            },
            "error_y": {
             "color": "#2a3f5f"
            },
            "marker": {
             "line": {
              "color": "#E5ECF6",
              "width": 0.5
             },
             "pattern": {
              "fillmode": "overlay",
              "size": 10,
              "solidity": 0.2
             }
            },
            "type": "bar"
           }
          ],
          "barpolar": [
           {
            "marker": {
             "line": {
              "color": "#E5ECF6",
              "width": 0.5
             },
             "pattern": {
              "fillmode": "overlay",
              "size": 10,
              "solidity": 0.2
             }
            },
            "type": "barpolar"
           }
          ],
          "carpet": [
           {
            "aaxis": {
             "endlinecolor": "#2a3f5f",
             "gridcolor": "white",
             "linecolor": "white",
             "minorgridcolor": "white",
             "startlinecolor": "#2a3f5f"
            },
            "baxis": {
             "endlinecolor": "#2a3f5f",
             "gridcolor": "white",
             "linecolor": "white",
             "minorgridcolor": "white",
             "startlinecolor": "#2a3f5f"
            },
            "type": "carpet"
           }
          ],
          "choropleth": [
           {
            "colorbar": {
             "outlinewidth": 0,
             "ticks": ""
            },
            "type": "choropleth"
           }
          ],
          "contour": [
           {
            "colorbar": {
             "outlinewidth": 0,
             "ticks": ""
            },
            "colorscale": [
             [
              0,
              "#0d0887"
             ],
             [
              0.1111111111111111,
              "#46039f"
             ],
             [
              0.2222222222222222,
              "#7201a8"
             ],
             [
              0.3333333333333333,
              "#9c179e"
             ],
             [
              0.4444444444444444,
              "#bd3786"
             ],
             [
              0.5555555555555556,
              "#d8576b"
             ],
             [
              0.6666666666666666,
              "#ed7953"
             ],
             [
              0.7777777777777778,
              "#fb9f3a"
             ],
             [
              0.8888888888888888,
              "#fdca26"
             ],
             [
              1,
              "#f0f921"
             ]
            ],
            "type": "contour"
           }
          ],
          "contourcarpet": [
           {
            "colorbar": {
             "outlinewidth": 0,
             "ticks": ""
            },
            "type": "contourcarpet"
           }
          ],
          "heatmap": [
           {
            "colorbar": {
             "outlinewidth": 0,
             "ticks": ""
            },
            "colorscale": [
             [
              0,
              "#0d0887"
             ],
             [
              0.1111111111111111,
              "#46039f"
             ],
             [
              0.2222222222222222,
              "#7201a8"
             ],
             [
              0.3333333333333333,
              "#9c179e"
             ],
             [
              0.4444444444444444,
              "#bd3786"
             ],
             [
              0.5555555555555556,
              "#d8576b"
             ],
             [
              0.6666666666666666,
              "#ed7953"
             ],
             [
              0.7777777777777778,
              "#fb9f3a"
             ],
             [
              0.8888888888888888,
              "#fdca26"
             ],
             [
              1,
              "#f0f921"
             ]
            ],
            "type": "heatmap"
           }
          ],
          "histogram": [
           {
            "marker": {
             "pattern": {
              "fillmode": "overlay",
              "size": 10,
              "solidity": 0.2
             }
            },
            "type": "histogram"
           }
          ],
          "histogram2d": [
           {
            "colorbar": {
             "outlinewidth": 0,
             "ticks": ""
            },
            "colorscale": [
             [
              0,
              "#0d0887"
             ],
             [
              0.1111111111111111,
              "#46039f"
             ],
             [
              0.2222222222222222,
              "#7201a8"
             ],
             [
              0.3333333333333333,
              "#9c179e"
             ],
             [
              0.4444444444444444,
              "#bd3786"
             ],
             [
              0.5555555555555556,
              "#d8576b"
             ],
             [
              0.6666666666666666,
              "#ed7953"
             ],
             [
              0.7777777777777778,
              "#fb9f3a"
             ],
             [
              0.8888888888888888,
              "#fdca26"
             ],
             [
              1,
              "#f0f921"
             ]
            ],
            "type": "histogram2d"
           }
          ],
          "histogram2dcontour": [
           {
            "colorbar": {
             "outlinewidth": 0,
             "ticks": ""
            },
            "colorscale": [
             [
              0,
              "#0d0887"
             ],
             [
              0.1111111111111111,
              "#46039f"
             ],
             [
              0.2222222222222222,
              "#7201a8"
             ],
             [
              0.3333333333333333,
              "#9c179e"
             ],
             [
              0.4444444444444444,
              "#bd3786"
             ],
             [
              0.5555555555555556,
              "#d8576b"
             ],
             [
              0.6666666666666666,
              "#ed7953"
             ],
             [
              0.7777777777777778,
              "#fb9f3a"
             ],
             [
              0.8888888888888888,
              "#fdca26"
             ],
             [
              1,
              "#f0f921"
             ]
            ],
            "type": "histogram2dcontour"
           }
          ],
          "mesh3d": [
           {
            "colorbar": {
             "outlinewidth": 0,
             "ticks": ""
            },
            "type": "mesh3d"
           }
          ],
          "parcoords": [
           {
            "line": {
             "colorbar": {
              "outlinewidth": 0,
              "ticks": ""
             }
            },
            "type": "parcoords"
           }
          ],
          "pie": [
           {
            "automargin": true,
            "type": "pie"
           }
          ],
          "scatter": [
           {
            "fillpattern": {
             "fillmode": "overlay",
             "size": 10,
             "solidity": 0.2
            },
            "type": "scatter"
           }
          ],
          "scatter3d": [
           {
            "line": {
             "colorbar": {
              "outlinewidth": 0,
              "ticks": ""
             }
            },
            "marker": {
             "colorbar": {
              "outlinewidth": 0,
              "ticks": ""
             }
            },
            "type": "scatter3d"
           }
          ],
          "scattercarpet": [
           {
            "marker": {
             "colorbar": {
              "outlinewidth": 0,
              "ticks": ""
             }
            },
            "type": "scattercarpet"
           }
          ],
          "scattergeo": [
           {
            "marker": {
             "colorbar": {
              "outlinewidth": 0,
              "ticks": ""
             }
            },
            "type": "scattergeo"
           }
          ],
          "scattergl": [
           {
            "marker": {
             "colorbar": {
              "outlinewidth": 0,
              "ticks": ""
             }
            },
            "type": "scattergl"
           }
          ],
          "scattermap": [
           {
            "marker": {
             "colorbar": {
              "outlinewidth": 0,
              "ticks": ""
             }
            },
            "type": "scattermap"
           }
          ],
          "scattermapbox": [
           {
            "marker": {
             "colorbar": {
              "outlinewidth": 0,
              "ticks": ""
             }
            },
            "type": "scattermapbox"
           }
          ],
          "scatterpolar": [
           {
            "marker": {
             "colorbar": {
              "outlinewidth": 0,
              "ticks": ""
             }
            },
            "type": "scatterpolar"
           }
          ],
          "scatterpolargl": [
           {
            "marker": {
             "colorbar": {
              "outlinewidth": 0,
              "ticks": ""
             }
            },
            "type": "scatterpolargl"
           }
          ],
          "scatterternary": [
           {
            "marker": {
             "colorbar": {
              "outlinewidth": 0,
              "ticks": ""
             }
            },
            "type": "scatterternary"
           }
          ],
          "surface": [
           {
            "colorbar": {
             "outlinewidth": 0,
             "ticks": ""
            },
            "colorscale": [
             [
              0,
              "#0d0887"
             ],
             [
              0.1111111111111111,
              "#46039f"
             ],
             [
              0.2222222222222222,
              "#7201a8"
             ],
             [
              0.3333333333333333,
              "#9c179e"
             ],
             [
              0.4444444444444444,
              "#bd3786"
             ],
             [
              0.5555555555555556,
              "#d8576b"
             ],
             [
              0.6666666666666666,
              "#ed7953"
             ],
             [
              0.7777777777777778,
              "#fb9f3a"
             ],
             [
              0.8888888888888888,
              "#fdca26"
             ],
             [
              1,
              "#f0f921"
             ]
            ],
            "type": "surface"
           }
          ],
          "table": [
           {
            "cells": {
             "fill": {
              "color": "#EBF0F8"
             },
             "line": {
              "color": "white"
             }
            },
            "header": {
             "fill": {
              "color": "#C8D4E3"
             },
             "line": {
              "color": "white"
             }
            },
            "type": "table"
           }
          ]
         },
         "layout": {
          "annotationdefaults": {
           "arrowcolor": "#2a3f5f",
           "arrowhead": 0,
           "arrowwidth": 1
          },
          "autotypenumbers": "strict",
          "coloraxis": {
           "colorbar": {
            "outlinewidth": 0,
            "ticks": ""
           }
          },
          "colorscale": {
           "diverging": [
            [
             0,
             "#8e0152"
            ],
            [
             0.1,
             "#c51b7d"
            ],
            [
             0.2,
             "#de77ae"
            ],
            [
             0.3,
             "#f1b6da"
            ],
            [
             0.4,
             "#fde0ef"
            ],
            [
             0.5,
             "#f7f7f7"
            ],
            [
             0.6,
             "#e6f5d0"
            ],
            [
             0.7,
             "#b8e186"
            ],
            [
             0.8,
             "#7fbc41"
            ],
            [
             0.9,
             "#4d9221"
            ],
            [
             1,
             "#276419"
            ]
           ],
           "sequential": [
            [
             0,
             "#0d0887"
            ],
            [
             0.1111111111111111,
             "#46039f"
            ],
            [
             0.2222222222222222,
             "#7201a8"
            ],
            [
             0.3333333333333333,
             "#9c179e"
            ],
            [
             0.4444444444444444,
             "#bd3786"
            ],
            [
             0.5555555555555556,
             "#d8576b"
            ],
            [
             0.6666666666666666,
             "#ed7953"
            ],
            [
             0.7777777777777778,
             "#fb9f3a"
            ],
            [
             0.8888888888888888,
             "#fdca26"
            ],
            [
             1,
             "#f0f921"
            ]
           ],
           "sequentialminus": [
            [
             0,
             "#0d0887"
            ],
            [
             0.1111111111111111,
             "#46039f"
            ],
            [
             0.2222222222222222,
             "#7201a8"
            ],
            [
             0.3333333333333333,
             "#9c179e"
            ],
            [
             0.4444444444444444,
             "#bd3786"
            ],
            [
             0.5555555555555556,
             "#d8576b"
            ],
            [
             0.6666666666666666,
             "#ed7953"
            ],
            [
             0.7777777777777778,
             "#fb9f3a"
            ],
            [
             0.8888888888888888,
             "#fdca26"
            ],
            [
             1,
             "#f0f921"
            ]
           ]
          },
          "colorway": [
           "#636efa",
           "#EF553B",
           "#00cc96",
           "#ab63fa",
           "#FFA15A",
           "#19d3f3",
           "#FF6692",
           "#B6E880",
           "#FF97FF",
           "#FECB52"
          ],
          "font": {
           "color": "#2a3f5f"
          },
          "geo": {
           "bgcolor": "white",
           "lakecolor": "white",
           "landcolor": "#E5ECF6",
           "showlakes": true,
           "showland": true,
           "subunitcolor": "white"
          },
          "hoverlabel": {
           "align": "left"
          },
          "hovermode": "closest",
          "mapbox": {
           "style": "light"
          },
          "paper_bgcolor": "white",
          "plot_bgcolor": "#E5ECF6",
          "polar": {
           "angularaxis": {
            "gridcolor": "white",
            "linecolor": "white",
            "ticks": ""
           },
           "bgcolor": "#E5ECF6",
           "radialaxis": {
            "gridcolor": "white",
            "linecolor": "white",
            "ticks": ""
           }
          },
          "scene": {
           "xaxis": {
            "backgroundcolor": "#E5ECF6",
            "gridcolor": "white",
            "gridwidth": 2,
            "linecolor": "white",
            "showbackground": true,
            "ticks": "",
            "zerolinecolor": "white"
           },
           "yaxis": {
            "backgroundcolor": "#E5ECF6",
            "gridcolor": "white",
            "gridwidth": 2,
            "linecolor": "white",
            "showbackground": true,
            "ticks": "",
            "zerolinecolor": "white"
           },
           "zaxis": {
            "backgroundcolor": "#E5ECF6",
            "gridcolor": "white",
            "gridwidth": 2,
            "linecolor": "white",
            "showbackground": true,
            "ticks": "",
            "zerolinecolor": "white"
           }
          },
          "shapedefaults": {
           "line": {
            "color": "#2a3f5f"
           }
          },
          "ternary": {
           "aaxis": {
            "gridcolor": "white",
            "linecolor": "white",
            "ticks": ""
           },
           "baxis": {
            "gridcolor": "white",
            "linecolor": "white",
            "ticks": ""
           },
           "bgcolor": "#E5ECF6",
           "caxis": {
            "gridcolor": "white",
            "linecolor": "white",
            "ticks": ""
           }
          },
          "title": {
           "x": 0.05
          },
          "xaxis": {
           "automargin": true,
           "gridcolor": "white",
           "linecolor": "white",
           "ticks": "",
           "title": {
            "standoff": 15
           },
           "zerolinecolor": "white",
           "zerolinewidth": 2
          },
          "yaxis": {
           "automargin": true,
           "gridcolor": "white",
           "linecolor": "white",
           "ticks": "",
           "title": {
            "standoff": 15
           },
           "zerolinecolor": "white",
           "zerolinewidth": 2
          }
         }
        },
        "title": {
         "text": "Actual vs Predicted Returns"
        },
        "xaxis": {
         "title": {
          "text": "Date"
         }
        },
        "yaxis": {
         "title": {
          "text": "Cumulative Returns"
         }
        }
       }
      }
     },
     "metadata": {},
     "output_type": "display_data"
    },
    {
     "name": "stdout",
     "output_type": "stream",
     "text": [
      "Mean Percentage Error: 3.7045548983770993%, Accuracy: 96.2954451016229%\n"
     ]
    }
   ],
   "source": [
    "portfolio_predictor = PortfolioPredictorDirectMultiStep(raw_data_train, raw_data_test, initial_portfolio, n_steps=5, epochs=50, activation_function='tanh')\n",
    "\n",
    "portfolio_predictor.preprocess_data()\n",
    "portfolio_predictor.build_model()\n",
    "portfolio_predictor.train_model()\n",
    "prediction = portfolio_predictor.predict()   \n",
    "portfolio_predictor.plot_loss()\n",
    "portfolio_predictor.plot_predictions()\n",
    "portfolio_predictor.compute_performance()"
   ]
  },
  {
   "cell_type": "code",
   "execution_count": 47,
   "metadata": {},
   "outputs": [],
   "source": [
    "import numpy as np\n",
    "\n",
    "data = np.array([[i] for i in range(30)])  # Convert to 2D array with shape (30, 1)\n",
    "\n",
    "def create_datasets(lookback, n_steps, data):\n",
    "    X, y = [], []\n",
    "    for i in range(len(data) - lookback - n_steps + 1):\n",
    "        X.append(data[i: i + lookback, :])\n",
    "        target = data[i + lookback: i + lookback + n_steps, 0]\n",
    "        y.append(target)\n",
    "    return np.array(X), np.array(y)\n",
    "\n",
    "x, y = create_datasets(10, 5, data)"
   ]
  }
 ],
 "metadata": {
  "kernelspec": {
   "display_name": "roboA",
   "language": "python",
   "name": "python3"
  },
  "language_info": {
   "codemirror_mode": {
    "name": "ipython",
    "version": 3
   },
   "file_extension": ".py",
   "mimetype": "text/x-python",
   "name": "python",
   "nbconvert_exporter": "python",
   "pygments_lexer": "ipython3",
   "version": "3.12.8"
  }
 },
 "nbformat": 4,
 "nbformat_minor": 2
}
