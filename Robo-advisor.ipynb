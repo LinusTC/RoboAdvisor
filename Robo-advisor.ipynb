{
 "cells": [
  {
   "cell_type": "markdown",
   "metadata": {},
   "source": [
    "# Self-contained Robo-advisor"
   ]
  },
  {
   "cell_type": "code",
   "execution_count": null,
   "metadata": {},
   "outputs": [],
   "source": [
    "import pandas as pd\n",
    "import plotly.graph_objects as go\n",
    "\n",
    "from PortfolioPredictor import evaluate_portfolios_over_time, extract_asset_returns, chain_portfolio_performance\n",
    "from fetchData import fetch_raw_data_yf, getSNP500, getNasdaq_comp, fetch_raw_data_yf_all\n",
    "from LearningRBA import MLRBA_V2\n",
    "from PortfolioFunction import get_matrices"
   ]
  },
  {
   "cell_type": "code",
   "execution_count": null,
   "metadata": {},
   "outputs": [],
   "source": [
    "assets = getSNP500()\n",
    "start_date = pd.Timestamp(\"2014-01-01\")\n",
    "end_date = pd.Timestamp(\"2016-01-01\")\n",
    "investment_period = 910\n",
    "investment_end_date = end_date + pd.Timedelta(days=investment_period)\n",
    "raw_data, _, _= fetch_raw_data_yf(assets, start_date, investment_end_date)\n",
    "\n",
    "raw_data_train = raw_data.loc[:end_date]\n",
    "raw_data_test = raw_data.loc[end_date:]"
   ]
  },
  {
   "cell_type": "code",
   "execution_count": null,
   "metadata": {},
   "outputs": [],
   "source": [
    "names, annualized_returns, x, x1, _, cov, correlation_matrix = get_matrices(raw_data[:end_date])\n",
    "_, initial_portfolio, _, _, _ = MLRBA_V2(names, cov, annualized_returns, correlation_matrix)"
   ]
  },
  {
   "cell_type": "code",
   "execution_count": null,
   "metadata": {},
   "outputs": [],
   "source": [
    "from PortfolioPredictor2 import PortfolioPredictorDirectMultiStep\n",
    "\n",
    "portfolio_predictor = PortfolioPredictorDirectMultiStep(raw_data_train, raw_data_test, initial_portfolio, n_steps=5)\n",
    "\n",
    "portfolio_predictor.preprocess_data()\n",
    "portfolio_predictor.build_model()\n",
    "portfolio_predictor.train_model()\n",
    "prediction = portfolio_predictor.predict()   \n",
    "portfolio_predictor.plot_loss()\n",
    "portfolio_predictor.plot_predictions()\n",
    "portfolio_predictor.compute_performance()"
   ]
  },
  {
   "cell_type": "code",
   "execution_count": null,
   "metadata": {},
   "outputs": [],
   "source": [
    "import numpy as np\n",
    "\n",
    "data = np.array([[i] for i in range(30)])  # Convert to 2D array with shape (30, 1)\n",
    "\n",
    "def create_datasets(lookback, n_steps, data):\n",
    "    X, y = [], []\n",
    "    for i in range(len(data) - lookback - n_steps + 1):\n",
    "        X.append(data[i: i + lookback, :])\n",
    "        target = data[i + lookback: i + lookback + n_steps, 0]\n",
    "        y.append(target)\n",
    "    return np.array(X), np.array(y)\n",
    "\n",
    "x, y = create_datasets(10, 5, data)"
   ]
  }
 ],
 "metadata": {
  "kernelspec": {
   "display_name": "roboA",
   "language": "python",
   "name": "python3"
  },
  "language_info": {
   "codemirror_mode": {
    "name": "ipython",
    "version": 3
   },
   "file_extension": ".py",
   "mimetype": "text/x-python",
   "name": "python",
   "nbconvert_exporter": "python",
   "pygments_lexer": "ipython3",
   "version": "3.12.8"
  }
 },
 "nbformat": 4,
 "nbformat_minor": 2
}
